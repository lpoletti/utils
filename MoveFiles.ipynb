{
 "cells": [
  {
   "cell_type": "code",
   "execution_count": 2,
   "metadata": {},
   "outputs": [],
   "source": [
    "import os\n",
    "import shutil"
   ]
  },
  {
   "cell_type": "code",
   "execution_count": 33,
   "metadata": {},
   "outputs": [],
   "source": [
    "def copiar_arquivos(origem, destino):\n",
    "    counter=0\n",
    "    for pasta_raiz, pastas, arquivos in os.walk(origem):\n",
    "        for arquivo in arquivos:\n",
    "            caminho_origem = os.path.join(pasta_raiz, arquivo)\n",
    "            caminho_destino = os.path.join(destino, arquivo)\n",
    "            try:\n",
    "                shutil.copyfile(caminho_origem, caminho_destino)\n",
    "            except shutil.SameFileError as sf:\n",
    "                print(sf)\n",
    "            counter+=1\n",
    "    return counter"
   ]
  },
  {
   "cell_type": "code",
   "execution_count": 15,
   "metadata": {},
   "outputs": [],
   "source": [
    "origem=r'C:\\Users\\luanp\\Downloads\\CCRMonitoracoes\\OneDrive_1_27-11-2023\\Fotos - Edificações\\BR-101'\n",
    "dest=r'C:\\Users\\luanp\\Downloads\\CCRMonitoracoes\\OneDrive_1_27-11-2023\\Fotos - Edificações'"
   ]
  },
  {
   "cell_type": "code",
   "execution_count": 16,
   "metadata": {},
   "outputs": [
    {
     "data": {
      "text/plain": [
       "262"
      ]
     },
     "execution_count": 16,
     "metadata": {},
     "output_type": "execute_result"
    }
   ],
   "source": [
    "copiar_arquivos(origem,dest)"
   ]
  },
  {
   "cell_type": "code",
   "execution_count": 31,
   "metadata": {},
   "outputs": [],
   "source": [
    "to=r\"C:\\Users\\luanp\\Downloads\\CCRMonitoracoes\\teste\"\n",
    "td=r\"C:\\Users\\luanp\\Downloads\\CCRMonitoracoes\""
   ]
  },
  {
   "cell_type": "code",
   "execution_count": 34,
   "metadata": {},
   "outputs": [
    {
     "data": {
      "text/plain": [
       "1"
      ]
     },
     "execution_count": 34,
     "metadata": {},
     "output_type": "execute_result"
    }
   ],
   "source": [
    "copiar_arquivos(to,td)"
   ]
  }
 ],
 "metadata": {
  "kernelspec": {
   "display_name": "venv",
   "language": "python",
   "name": "python3"
  },
  "language_info": {
   "codemirror_mode": {
    "name": "ipython",
    "version": 3
   },
   "file_extension": ".py",
   "mimetype": "text/x-python",
   "name": "python",
   "nbconvert_exporter": "python",
   "pygments_lexer": "ipython3",
   "version": "3.11.5"
  }
 },
 "nbformat": 4,
 "nbformat_minor": 2
}
