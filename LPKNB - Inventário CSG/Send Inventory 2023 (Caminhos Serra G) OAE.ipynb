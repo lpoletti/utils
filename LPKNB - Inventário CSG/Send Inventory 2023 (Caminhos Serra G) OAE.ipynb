{
 "cells": [
  {
   "cell_type": "markdown",
   "metadata": {},
   "source": [
    "# Inventário"
   ]
  },
  {
   "cell_type": "markdown",
   "metadata": {},
   "source": [
    " "
   ]
  },
  {
   "cell_type": "markdown",
   "metadata": {},
   "source": [
    "Deve-se executar as seis primeiras células para carregar funções utilizadas para rodar o script"
   ]
  },
  {
   "cell_type": "code",
   "execution_count": 2,
   "metadata": {},
   "outputs": [],
   "source": [
    "import json\n",
    "import os\n",
    "from openpyxl import load_workbook\n",
    "from datetime import timedelta\n",
    "import random\n",
    "from copy import deepcopy\n",
    "from django.contrib.gis.geos import LineString, Point\n",
    "from django.contrib.admin.utils import flatten\n",
    "import math\n",
    "import datetime\n",
    "import locale\n",
    "from tqdm.notebook import tqdm\n",
    "from PIL import Image\n",
    "from io import BytesIO\n",
    "from simple_history.utils import bulk_create_with_history\n",
    "from django.contrib.gis.geos import Point, LineString as DjangoLineString\n",
    "from helpers.histories import bulk_update_with_history\n",
    "import pytz"
   ]
  },
  {
   "cell_type": "code",
   "execution_count": 3,
   "metadata": {},
   "outputs": [],
   "source": [
    "from helpers.route_maker import dic_to_ordered_list, unequal_point_pairs"
   ]
  },
  {
   "cell_type": "code",
   "execution_count": 4,
   "metadata": {},
   "outputs": [
    {
     "name": "stderr",
     "output_type": "stream",
     "text": [
      "/home/luan/.cache/pypoetry/virtualenvs/apps-ZFymp6kh-py3.7/lib/python3.7/site-packages/geopandas/_compat.py:110: UserWarning: The Shapely GEOS version (3.10.3-CAPI-1.16.1) is incompatible with the GEOS version PyGEOS was compiled with (3.9.1-CAPI-1.14.2). Conversions between both will be slow.\n",
      "  shapely_geos_version, geos_capi_version_string\n"
     ]
    }
   ],
   "source": [
    "from django.contrib.gis.geos import Point, LineString as DjangoLineString\n",
    "from django.contrib.gis.db.models.functions import Distance\n",
    "from turfpy.misc import nearest_point_on_line\n",
    "from turfpy.measurement import length\n",
    "from geojson import LineString, loads\n",
    "from helpers.histories import bulk_update_with_history\n",
    "from tqdm.notebook import tqdm"
   ]
  },
  {
   "cell_type": "code",
   "execution_count": 5,
   "metadata": {},
   "outputs": [],
   "source": [
    "def km_to_coordinates(road, km):\n",
    "\n",
    "    road_marks = dic_to_ordered_list(road.marks)\n",
    "    selected_pair = None\n",
    "\n",
    "    for pair in unequal_point_pairs(road_marks):\n",
    "        if pair[0][\"km\"] > km and pair[1][\"km\"] < km:\n",
    "            selected_pair = pair\n",
    "            break\n",
    "        elif pair[1][\"km\"] > km and pair[0][\"km\"] < km:\n",
    "            selected_pair = pair\n",
    "            break\n",
    "        elif pair[0][\"km\"] == km:\n",
    "            return Point(pair[0][\"point\"][\"coordinates\"]), road\n",
    "        elif pair[1][\"km\"] == km:\n",
    "            return Point(pair[1][\"point\"][\"coordinates\"]), road\n",
    "\n",
    "    # Calculate total length\n",
    "    start_km = min([selected_pair[0][\"km\"], selected_pair[1][\"km\"]])\n",
    "    end_km = max([selected_pair[0][\"km\"], selected_pair[1][\"km\"]])\n",
    "    segment_mark_length = end_km - start_km\n",
    "    distance_from_min = km - start_km\n",
    "    # Check if km is decreasing\n",
    "    invert_km = selected_pair[1][\"km\"] <= selected_pair[0][\"km\"]\n",
    "\n",
    "    # Cut segment\n",
    "    start_key = min((selected_pair[0][\"index\"], selected_pair[1][\"index\"]))\n",
    "    end_key = max((selected_pair[0][\"index\"], selected_pair[1][\"index\"]))\n",
    "\n",
    "    points = []\n",
    "    for key in range(start_key, end_key + 1):\n",
    "        points.append(\n",
    "            Point(road.path[key][0], road.path[key][1], road.path[key][2])\n",
    "        )\n",
    "\n",
    "    segment = LineString(points, srid=4326)\n",
    "    # Apply km inversion correction\n",
    "    if invert_km:\n",
    "        segment_distance = (\n",
    "            1 - (distance_from_min / segment_mark_length)\n",
    "        ) * segment.length\n",
    "    else:\n",
    "        segment_distance = (\n",
    "            distance_from_min / segment_mark_length\n",
    "        ) * segment.length\n",
    "    # Find point\n",
    "    point = segment.interpolate(segment_distance)\n",
    "\n",
    "    return Point(point.x, point.y), road"
   ]
  },
  {
   "cell_type": "code",
   "execution_count": 6,
   "metadata": {},
   "outputs": [],
   "source": [
    "def check_valid_road(road, km):\n",
    "\n",
    "    road_marks = dic_to_ordered_list(road.marks)\n",
    "\n",
    "    for pair in unequal_point_pairs(road_marks):\n",
    "        if pair[0][\"km\"] >= km and pair[1][\"km\"] <= km:\n",
    "            return True\n",
    "        elif pair[1][\"km\"] >= km and pair[0][\"km\"] <= km:\n",
    "            return True\n",
    "\n",
    "    return False"
   ]
  },
  {
   "cell_type": "code",
   "execution_count": 7,
   "metadata": {},
   "outputs": [],
   "source": [
    "def get_road_coordinates(road_name, km, direction, company):\n",
    "    road_set = Road.objects.filter(\n",
    "        name__contains=road_name, direction=int(direction), company=company\n",
    "    )\n",
    "\n",
    "    # If roads in specified direction are not found, search road only\n",
    "    # by name and order then by direction\n",
    "    road_set_generic = Road.objects.filter(\n",
    "        name__contains=road_name, company=company\n",
    "    ).order_by(\"direction\")\n",
    "\n",
    "    # Check if KM range in road_set\n",
    "#     print(\"Searching KM on direction...\")\n",
    "    valid = False\n",
    "    for road in road_set:\n",
    "        if check_valid_road(road, km):\n",
    "#             print(\"Found KM on Road {}\".format(road))\n",
    "            valid = True\n",
    "            break\n",
    "\n",
    "    if not valid:\n",
    "#         print(\"Searching KM without direction...\")\n",
    "        for road in road_set_generic:\n",
    "            if check_valid_road(road, km):\n",
    "#                 print(\"Found KM on Road {}\".format(road))\n",
    "                valid = True\n",
    "                break\n",
    "\n",
    "    if not valid:\n",
    "        return Point(0, 0), None\n",
    "\n",
    "    try:\n",
    "        return km_to_coordinates(road, km)\n",
    "    except Exception:\n",
    "        return Point(0, 0), None"
   ]
  },
  {
   "cell_type": "code",
   "execution_count": 8,
   "metadata": {},
   "outputs": [],
   "source": [
    "def findIndex(flist, func):\n",
    "    for i,v in enumerate(flist):\n",
    "        if func(v): \n",
    "            return i\n",
    "    return -1"
   ]
  },
  {
   "cell_type": "code",
   "execution_count": 9,
   "metadata": {},
   "outputs": [],
   "source": [
    "def point_to_km(lng, lat, road):\n",
    "    point = Point(lng, lat, srid=4326)\n",
    "    if isinstance(road,str):\n",
    "        roads = Road.objects.filter(company=company,name__icontains=road).annotate(distance=Distance(point, 'path')).order_by('distance')\n",
    "        road = roads[0]\n",
    "    else:\n",
    "        road = road\n",
    "    path = loads(road.path.geojson)\n",
    "    point_geojson = loads(point.geojson)\n",
    "    road_marks = list(road.marks.values())\n",
    "    snap_point = nearest_point_on_line(path, point_geojson)\n",
    "    \n",
    "\n",
    "    road_markers = sorted([a for a in road_marks if 'index' in a or ('index' in a and a['index'] == 0)], key=lambda x: int(x['key']))\n",
    "#     road_markers = sorted([a for a in road_marks if a['index'] or a['index'] == 0], key=lambda x: int(x['key']))\n",
    "    rm_index = findIndex(road_markers, lambda x: x['index'] > snap_point['properties']['index'])\n",
    "    \n",
    "    if (rm_index == -1):\n",
    "        rm_index = len(road_markers) - 1;\n",
    "    \n",
    "    km_marker_start = road_markers[rm_index - 1]\n",
    "    km_marker_end = road_markers[rm_index]\n",
    "    \n",
    "    if km_marker_start['index'] == road_markers[-1]['index']: \n",
    "        snap = road_markers[-1]\n",
    "        km = snap['km']\n",
    "    elif km_marker_end['index'] == road_markers[0]['index']:\n",
    "        snap = road_markers[0]\n",
    "        km = snap['km']\n",
    "    else:\n",
    "        test = path['coordinates'][km_marker_start['index']:km_marker_end['index'] + 1]\n",
    "        marker_path = LineString(test)\n",
    "        snap = nearest_point_on_line(marker_path, point_geojson)        \n",
    "        ls_length = length(marker_path, units=\"km\")\n",
    "        km = ((snap['properties']['location'] / ls_length)        \n",
    "            * (km_marker_end['km'] - km_marker_start['km'])\n",
    "            + km_marker_start['km'])\n",
    "    \n",
    "    return road, road.name, point, round(km, 3)"
   ]
  },
  {
   "cell_type": "code",
   "execution_count": 10,
   "metadata": {},
   "outputs": [],
   "source": [
    "from collections import defaultdict\n",
    "from django.db.models.signals import *\n",
    "\n",
    "\n",
    "class DisableSignals(object):\n",
    "    def __init__(self, disabled_signals=None):\n",
    "        self.stashed_signals = defaultdict(list)\n",
    "        self.disabled_signals = disabled_signals or [\n",
    "            pre_init, post_init,\n",
    "            pre_save, post_save,\n",
    "            pre_delete, post_delete,\n",
    "            pre_migrate, post_migrate,\n",
    "        ]\n",
    "\n",
    "    def __enter__(self):\n",
    "        for signal in self.disabled_signals:\n",
    "            self.disconnect(signal)\n",
    "\n",
    "    def __exit__(self, exc_type, exc_val, exc_tb):\n",
    "        for signal in list(self.stashed_signals):\n",
    "            self.reconnect(signal)\n",
    "\n",
    "    def disconnect(self, signal):\n",
    "        self.stashed_signals[signal] = signal.receivers\n",
    "        signal.receivers = []\n",
    "\n",
    "    def reconnect(self, signal):\n",
    "        signal.receivers = self.stashed_signals.get(signal, [])\n",
    "        del self.stashed_signals[signal]"
   ]
  },
  {
   "cell_type": "code",
   "execution_count": 28,
   "metadata": {},
   "outputs": [],
   "source": [
    "def get_connected_reference(company, resource, key, value):\n",
    "    select_options = company.custom_options[resource]['fields'][key]['selectOptions']['options']\n",
    "    return next(a['value'] for a in select_options if a['name'].lower() == value.lower())"
   ]
  },
  {
   "cell_type": "code",
   "execution_count": 12,
   "metadata": {},
   "outputs": [],
   "source": [
    "def get_value(field, occ, value):\n",
    "    values = occ.form_fields['fields']\n",
    "    item_translation = flatten([item['selectOptions']['options'] for item in values if item['displayName']==field])\n",
    "#     print(item_translation)\n",
    "\n",
    "    final_translation = {item['name']: item['value'] for item in item_translation}\n",
    "#     print(final_translation)\n",
    "    return final_translation[value]"
   ]
  },
  {
   "cell_type": "code",
   "execution_count": 13,
   "metadata": {},
   "outputs": [],
   "source": [
    "def get_sign_color(field, sign_field, occ, value):\n",
    "    values = occ.form_fields['fields']\n",
    "    value=value.capitalize().strip()\n",
    "    item_translation = flatten([item['innerFields'] for item in values if item['displayName']==field])\n",
    "#     print(item_translation)\n",
    "    mid_translation = flatten([item['selectOptions']['options'] for item in item_translation if item['displayName'] == sign_field])\n",
    "#     print(mid_translation)\n",
    "    final_translation = {item['name']: item['value'] for item in mid_translation}\n",
    "#     print(final_translation)\n",
    "    return final_translation[value]"
   ]
  },
  {
   "cell_type": "code",
   "execution_count": 14,
   "metadata": {},
   "outputs": [],
   "source": [
    "def get_sign_film(field, sign_field, occ, value):\n",
    "    values = occ.form_fields['fields']\n",
    "    value=value.upper().strip()\n",
    "    item_translation = flatten([item['innerFields'] for item in values if item['displayName']==field])\n",
    "#     print(item_translation)\n",
    "    mid_translation = flatten([item['selectOptions']['options'] for item in item_translation if item['displayName'] == sign_field])\n",
    "#     print(mid_translation)\n",
    "    final_translation = {item['name']: item['value'] for item in mid_translation}\n",
    "#     print(final_translation)\n",
    "    return final_translation[value]"
   ]
  },
  {
   "cell_type": "markdown",
   "metadata": {},
   "source": [
    " Verificando se está no ambiente de produção"
   ]
  },
  {
   "cell_type": "code",
   "execution_count": 15,
   "metadata": {},
   "outputs": [
    {
     "name": "stdout",
     "output_type": "stream",
     "text": [
      "cat: .env: No such file or directory\r\n"
     ]
    }
   ],
   "source": [
    "!cat .env"
   ]
  },
  {
   "cell_type": "markdown",
   "metadata": {},
   "source": [
    "Escolhendo nome do arquivo Excel para carregar o Inventário"
   ]
  },
  {
   "cell_type": "code",
   "execution_count": 16,
   "metadata": {},
   "outputs": [],
   "source": [
    "filename=\"OAE's - Ok (1)\""
   ]
  },
  {
   "cell_type": "markdown",
   "metadata": {},
   "source": [
    "Escolhendo a aba da planilha do Excel"
   ]
  },
  {
   "cell_type": "code",
   "execution_count": 17,
   "metadata": {},
   "outputs": [
    {
     "name": "stderr",
     "output_type": "stream",
     "text": [
      "/home/luan/.cache/pypoetry/virtualenvs/apps-ZFymp6kh-py3.7/lib/python3.7/site-packages/openpyxl/worksheet/_reader.py:312: UserWarning: Data Validation extension is not supported and will be removed\n",
      "  warn(msg)\n"
     ]
    }
   ],
   "source": [
    "wb = load_workbook(filename + '.xlsx')\n",
    "sheetname = wb.sheetnames[1]\n",
    "ws = wb[sheetname]"
   ]
  },
  {
   "cell_type": "markdown",
   "metadata": {},
   "source": [
    "Testando planilha carregada do Excel"
   ]
  },
  {
   "cell_type": "code",
   "execution_count": 18,
   "metadata": {},
   "outputs": [
    {
     "name": "stdout",
     "output_type": "stream",
     "text": [
      "km\n"
     ]
    }
   ],
   "source": [
    "print(ws['A1'].value)"
   ]
  },
  {
   "cell_type": "markdown",
   "metadata": {},
   "source": [
    "Carregando os valores no script"
   ]
  },
  {
   "cell_type": "code",
   "execution_count": 19,
   "metadata": {},
   "outputs": [],
   "source": [
    "header = []\n",
    "values = []\n",
    "\n",
    "for index, row in enumerate(ws.rows):\n",
    "    if index == 0:\n",
    "        header = list([a.value for a in row])\n",
    "        continue\n",
    "    obj = {}\n",
    "    for col_index, cell in enumerate(row):\n",
    "        value = cell.value\n",
    "        obj[header[col_index]] = value\n",
    "    if obj['Rodovia'] is not None:           \n",
    "   \n",
    "        obj['img'] = [a for a in ws._images if a.anchor._from.row == index]\n",
    "\n",
    "        try:\n",
    "            for a in obj['img']:\n",
    "                a.name = 'CSG'\n",
    "#             obj['img'][0].name='Verso'\n",
    "        except:\n",
    "            pass\n",
    "\n",
    "        \n",
    "    values.append(obj)"
   ]
  },
  {
   "cell_type": "markdown",
   "metadata": {},
   "source": [
    "Teste de valores importados da planilha"
   ]
  },
  {
   "cell_type": "code",
   "execution_count": 20,
   "metadata": {
    "scrolled": true
   },
   "outputs": [
    {
     "data": {
      "text/plain": [
       "(198,\n",
       " {'km': None,\n",
       "  'km final': None,\n",
       "  'km de Projeto': None,\n",
       "  'km final de Projeto': None,\n",
       "  'Latitude_Inicial': -29.578882341358483,\n",
       "  'Longitude_Inicial': -51.356347633986076,\n",
       "  'Latitude_Final': None,\n",
       "  'Longitude_Final': None,\n",
       "  'Status': 'Identificado',\n",
       "  'Equipe/Empreiteira': 'Cadastro incial',\n",
       "  'Encontrado em': None,\n",
       "  'Executado em': None,\n",
       "  'Sentido': 'Ambos',\n",
       "  'Classe': 'OAE',\n",
       "  'Faixa': 'Não se aplica',\n",
       "  'Rodovia': 'ERS-122',\n",
       "  'Denominação da OAE': 'Viaduto sobre a VRS-874',\n",
       "  'Comprimento\\n(m)': 21.35,\n",
       "  'Extensão\\n(m)': 24.7,\n",
       "  'Observações': None,\n",
       "  'Foto_1': None,\n",
       "  'Data Foto_1': None,\n",
       "  'Tipo Foto_1': None,\n",
       "  'Descrição Foto_1': None,\n",
       "  'Foto_2': None,\n",
       "  'Data Foto_2': None,\n",
       "  'Tipo Foto_2': None,\n",
       "  'Descrição Foto_2': None,\n",
       "  'Foto_3': None,\n",
       "  'Data Foto_3': None,\n",
       "  'Tipo Foto_3': None,\n",
       "  'Descrição Foto_3': None,\n",
       "  'Foto_4': None,\n",
       "  'Data Foto_4': None,\n",
       "  'Tipo Foto_4': None,\n",
       "  'Descrição Foto_4': None,\n",
       "  'Foto_5': None,\n",
       "  'Data Foto_5': None,\n",
       "  'Tipo Foto_5': None,\n",
       "  'Descrição Foto_5': None,\n",
       "  'Foto_6': None,\n",
       "  'Data Foto_6': None,\n",
       "  'Tipo Foto_6': None,\n",
       "  'Descrição Foto_6': None,\n",
       "  'Foto_7': None,\n",
       "  'Data Foto_7': None,\n",
       "  'Tipo Foto_7': None,\n",
       "  'Descrição Foto_7': None,\n",
       "  'Foto_8': None,\n",
       "  'Data Foto_8': None,\n",
       "  'Tipo Foto_8': None,\n",
       "  'Descrição Foto_8': None,\n",
       "  'Foto_9': None,\n",
       "  'Data Foto_9': None,\n",
       "  'Tipo Foto_9': None,\n",
       "  'Descrição Foto_9': None,\n",
       "  'Foto_10': None,\n",
       "  'Data Foto_10': None,\n",
       "  'Tipo Foto_10': None,\n",
       "  'Descrição Foto_10': None,\n",
       "  'img': []})"
      ]
     },
     "execution_count": 20,
     "metadata": {},
     "output_type": "execute_result"
    }
   ],
   "source": [
    "len(values),values[10]"
   ]
  },
  {
   "cell_type": "markdown",
   "metadata": {},
   "source": [
    "Definindo valores da importação"
   ]
  },
  {
   "cell_type": "code",
   "execution_count": 21,
   "metadata": {},
   "outputs": [
    {
     "data": {
      "text/plain": [
       "(<Company: 4edb7778-e350-4e77-8e1e-de5f87b1da7f: Caminhos da Serra Gaúcha>,\n",
       " <OccurrenceType: OAE - ['Caminhos da Serra Gaúcha']>,\n",
       " <Firm: [4edb7778-e350-4e77-8e1e-de5f87b1da7f: Caminhos da Serra Gaúcha] 0edd2ecc-8d5e-4444-898b-0069a3e9c354: Cadastro incial>)"
      ]
     },
     "execution_count": 21,
     "metadata": {},
     "output_type": "execute_result"
    }
   ],
   "source": [
    "company = Company.objects.get(name='Caminhos da Serra Gaúcha')\n",
    "\n",
    "#Classe OAE\n",
    "occurrence_type=OccurrenceType.objects.get(uuid='81216267-2ab5-4116-890e-ff2b36d373de')\n",
    "\n",
    "user=User.objects.get(username='rlcs')\n",
    "status=ServiceOrderActionStatus.objects.get(companies=company, name='Identificado')\n",
    "# step=ApprovalStep.objects.get(approval_flow__company=company, name='Em Elaboração')\n",
    "firm=Firm.objects.get(uuid='0edd2ecc-8d5e-4444-898b-0069a3e9c354')\n",
    "company,occurrence_type,firm"
   ]
  },
  {
   "cell_type": "code",
   "execution_count": 23,
   "metadata": {},
   "outputs": [
    {
     "data": {
      "text/plain": [
       "'BRS-470'"
      ]
     },
     "execution_count": 23,
     "metadata": {},
     "output_type": "execute_result"
    }
   ],
   "source": [
    "values[0]['Rodovia']"
   ]
  },
  {
   "cell_type": "code",
   "execution_count": 24,
   "metadata": {},
   "outputs": [
    {
     "data": {
      "text/plain": [
       "(<Road: 2058: BRS-470>, <Point object at 0x7fa5c81e26d0>, 227.602)"
      ]
     },
     "execution_count": 24,
     "metadata": {},
     "output_type": "execute_result"
    }
   ],
   "source": [
    "road,_,point,km =point_to_km(float(values[1]['Longitude_Inicial']),float(values[1]['Latitude_Inicial']),values[0]['Rodovia'])\n",
    "# road,_,point,km =point_to_km(-29.670908, -51.273358,company)\n",
    "road,point,km"
   ]
  },
  {
   "cell_type": "markdown",
   "metadata": {},
   "source": [
    "Criando itens de Inventário"
   ]
  },
  {
   "cell_type": "code",
   "execution_count": 29,
   "metadata": {},
   "outputs": [
    {
     "data": {
      "application/vnd.jupyter.widget-view+json": {
       "model_id": "0639d1c53a2d400e9bb5fd30777a7d38",
       "version_major": 2,
       "version_minor": 0
      },
      "text/plain": [
       "  0%|          | 0/198 [00:00<?, ?it/s]"
      ]
     },
     "metadata": {},
     "output_type": "display_data"
    },
    {
     "ename": "TypeError",
     "evalue": "float() argument must be a string or a number, not 'NoneType'",
     "output_type": "error",
     "traceback": [
      "\u001b[0;31m---------------------------------------------------------------------------\u001b[0m",
      "\u001b[0;31mTypeError\u001b[0m                                 Traceback (most recent call last)",
      "\u001b[0;32m/tmp/ipykernel_29907/2621051863.py\u001b[0m in \u001b[0;36m<module>\u001b[0;34m\u001b[0m\n\u001b[1;32m      3\u001b[0m \u001b[0;34m\u001b[0m\u001b[0m\n\u001b[1;32m      4\u001b[0m \u001b[0;32mfor\u001b[0m \u001b[0mindex\u001b[0m\u001b[0;34m,\u001b[0m \u001b[0ma\u001b[0m \u001b[0;32min\u001b[0m \u001b[0menumerate\u001b[0m\u001b[0;34m(\u001b[0m\u001b[0mtqdm\u001b[0m\u001b[0;34m(\u001b[0m\u001b[0mvalues\u001b[0m\u001b[0;34m)\u001b[0m\u001b[0;34m)\u001b[0m\u001b[0;34m:\u001b[0m\u001b[0;34m\u001b[0m\u001b[0;34m\u001b[0m\u001b[0m\n\u001b[0;32m----> 5\u001b[0;31m     \u001b[0mroad\u001b[0m\u001b[0;34m,\u001b[0m\u001b[0m_\u001b[0m\u001b[0;34m,\u001b[0m\u001b[0mpoint\u001b[0m\u001b[0;34m,\u001b[0m\u001b[0mkm\u001b[0m \u001b[0;34m=\u001b[0m\u001b[0mpoint_to_km\u001b[0m\u001b[0;34m(\u001b[0m\u001b[0mfloat\u001b[0m\u001b[0;34m(\u001b[0m\u001b[0ma\u001b[0m\u001b[0;34m[\u001b[0m\u001b[0;34m'Longitude_Inicial'\u001b[0m\u001b[0;34m]\u001b[0m\u001b[0;34m)\u001b[0m\u001b[0;34m,\u001b[0m\u001b[0mfloat\u001b[0m\u001b[0;34m(\u001b[0m\u001b[0ma\u001b[0m\u001b[0;34m[\u001b[0m\u001b[0;34m'Latitude_Inicial'\u001b[0m\u001b[0;34m]\u001b[0m\u001b[0;34m)\u001b[0m\u001b[0;34m,\u001b[0m\u001b[0ma\u001b[0m\u001b[0;34m[\u001b[0m\u001b[0;34m'Rodovia'\u001b[0m\u001b[0;34m]\u001b[0m\u001b[0;34m)\u001b[0m\u001b[0;34m\u001b[0m\u001b[0;34m\u001b[0m\u001b[0m\n\u001b[0m\u001b[1;32m      6\u001b[0m \u001b[0;31m#     _,_,_,end_km =point_to_km(float(a['Longitude_Final']),float(a['Latitude_Final']),a['Rodovia'])\u001b[0m\u001b[0;34m\u001b[0m\u001b[0;34m\u001b[0m\u001b[0;34m\u001b[0m\u001b[0m\n\u001b[1;32m      7\u001b[0m     \u001b[0;32mif\u001b[0m \u001b[0ma\u001b[0m\u001b[0;34m[\u001b[0m\u001b[0;34m'Rodovia'\u001b[0m\u001b[0;34m]\u001b[0m \u001b[0;32mnot\u001b[0m \u001b[0;32min\u001b[0m \u001b[0mroad\u001b[0m\u001b[0;34m.\u001b[0m\u001b[0mname\u001b[0m\u001b[0;34m:\u001b[0m\u001b[0;34m\u001b[0m\u001b[0;34m\u001b[0m\u001b[0m\n",
      "\u001b[0;31mTypeError\u001b[0m: float() argument must be a string or a number, not 'NoneType'"
     ]
    }
   ],
   "source": [
    "objects=[]\n",
    "\n",
    "\n",
    "for index, a in enumerate(tqdm(values)):\n",
    "    road,_,point,km =point_to_km(float(a['Longitude_Inicial']),float(a['Latitude_Inicial']),a['Rodovia'])\n",
    "#     _,_,_,end_km =point_to_km(float(a['Longitude_Final']),float(a['Latitude_Final']),a['Rodovia'])\n",
    "    if a['Rodovia'] not in road.name:\n",
    "        print('linha: ',index+2,'rodovia: ',road,'km: ',km)\n",
    "        break\n",
    "    try:\n",
    "\n",
    "        objects.append((Reporting(\n",
    "                    company=company,\n",
    "                    occurrence_type=occurrence_type,\n",
    "                    lane=str(get_connected_reference(company, 'reporting', 'lane', a['Faixa'])),\n",
    "                    road=road,\n",
    "                    road_name=road.name,\n",
    "                    direction=str(get_connected_reference(company, 'reporting', 'direction', a['Sentido'])),\n",
    "                    created_by=user,\n",
    "#                     found_at=datetime.datetime('2023-05-08'),\n",
    "                    km=float(km),\n",
    "#                     end_km_manually_specified=True,\n",
    "#                     end_km=float(end_km),\n",
    "                    point=point,\n",
    "                    firm=firm,\n",
    "                    status=status,\n",
    "                    form_data={\n",
    "                        'denominacao_da_oae': a['Denominação da OAE'],\n",
    "                        'extensao': a['Extensão\\n(m)'],\n",
    "                        'length': a['Comprimento\\n(m)'],\n",
    "                        'notes': a['Observações']\n",
    "                    }, \n",
    "                    ),a['img']))\n",
    "    except Exception as e:\n",
    "\n",
    "        print(f'Arquivo\"{filename}\" - Rodovia {road} - Km:{km} - Linha: {index+2} - {e}')\n",
    "        print(objects.form_data)"
   ]
  },
  {
   "cell_type": "markdown",
   "metadata": {},
   "source": [
    "Salvando itens de Inventário no sistema e imprimindo os seriais"
   ]
  },
  {
   "cell_type": "code",
   "execution_count": 30,
   "metadata": {
    "collapsed": true
   },
   "outputs": [
    {
     "data": {
      "text/plain": [
       "{'_state': <django.db.models.base.ModelState at 0x7fa5c708c410>,\n",
       " 'uuid': UUID('83d29520-16bf-4fe9-8437-e8e3f9de91a9'),\n",
       " 'number': '',\n",
       " 'company_id': UUID('4edb7778-e350-4e77-8e1e-de5f87b1da7f'),\n",
       " 'road_name': 'RSC-453',\n",
       " 'road_id': 2062,\n",
       " 'km': 102.466,\n",
       " 'end_km': None,\n",
       " 'km_reference': None,\n",
       " 'project_km': 0,\n",
       " 'project_end_km': None,\n",
       " 'point': <Point object at 0x7fa5c70be9a0>,\n",
       " 'direction': '6',\n",
       " 'lane': '99',\n",
       " 'track': None,\n",
       " 'branch': None,\n",
       " 'address': {},\n",
       " 'created_by_id': UUID('508a66f3-3f58-4c4e-bc9a-fbba6078c02d'),\n",
       " 'firm_id': UUID('0edd2ecc-8d5e-4444-898b-0069a3e9c354'),\n",
       " 'occurrence_type_id': UUID('81216267-2ab5-4116-890e-ff2b36d373de'),\n",
       " 'form_data': {'denominacao_da_oae': 'Viaduto ferroviario maria fumaça',\n",
       "  'extensao': 3.6,\n",
       "  'length': 71.4,\n",
       "  'notes': None},\n",
       " 'form_metadata': {},\n",
       " 'executed_at': None,\n",
       " 'created_at': None,\n",
       " 'updated_at': None,\n",
       " 'found_at': datetime.datetime(2023, 8, 17, 12, 5, 52, 390999, tzinfo=<UTC>),\n",
       " 'due_at': None,\n",
       " 'status_id': UUID('c4b0df55-dc0e-47ba-83e7-86080047a8d5'),\n",
       " 'job_id': None,\n",
       " 'parent_id': None,\n",
       " 'active_inspection_id': None,\n",
       " 'due_at_manually_specified': False,\n",
       " 'end_km_manually_specified': False,\n",
       " 'project_end_km_manually_specified': False,\n",
       " 'editable': True,\n",
       " 'approval_step_id': None,\n",
       " 'keywords': '',\n",
       " 'lot': None,\n",
       " 'technical_opinion': None,\n",
       " 'construction_id': None,\n",
       " 'pdf_import_id': None,\n",
       " '_fieldsignals_originals': {(140350435069520,\n",
       "   140350876017584): {'uuid': UUID('83d29520-16bf-4fe9-8437-e8e3f9de91a9'), 'number': '', 'company': UUID('4edb7778-e350-4e77-8e1e-de5f87b1da7f'), 'road_name': 'RSC-453', 'road': 2062, 'km': 102.466, 'project_km': 0.0, 'point': <Point object at 0x7fa5c70bebe0>, 'direction': '6', 'lane': '99', 'address': {}, 'created_by': UUID('508a66f3-3f58-4c4e-bc9a-fbba6078c02d'), 'firm': UUID('0edd2ecc-8d5e-4444-898b-0069a3e9c354'), 'occurrence_type': UUID('81216267-2ab5-4116-890e-ff2b36d373de'), 'form_data': {'denominacao_da_oae': 'Viaduto ferroviario maria fumaça',\n",
       "    'extensao': 3.6,\n",
       "    'length': 71.4,\n",
       "    'notes': None}, 'form_metadata': {}, 'found_at': datetime.datetime(2023, 8, 17, 12, 5, 52, 390999, tzinfo=<UTC>), 'status': UUID('c4b0df55-dc0e-47ba-83e7-86080047a8d5'), 'due_at_manually_specified': False, 'end_km_manually_specified': False, 'project_end_km_manually_specified': False, 'editable': True, 'keywords': ''},\n",
       "  (140350435069392,\n",
       "   140350142205680): {'uuid': UUID('83d29520-16bf-4fe9-8437-e8e3f9de91a9'), 'number': '', 'company': UUID('4edb7778-e350-4e77-8e1e-de5f87b1da7f'), 'road_name': 'RSC-453', 'road': 2062, 'km': 102.466, 'project_km': 0.0, 'point': <Point object at 0x7fa5c70be760>, 'direction': '6', 'lane': '99', 'address': {}, 'created_by': UUID('508a66f3-3f58-4c4e-bc9a-fbba6078c02d'), 'firm': UUID('0edd2ecc-8d5e-4444-898b-0069a3e9c354'), 'occurrence_type': UUID('81216267-2ab5-4116-890e-ff2b36d373de'), 'form_data': {'denominacao_da_oae': 'Viaduto ferroviario maria fumaça',\n",
       "    'extensao': 3.6,\n",
       "    'length': 71.4,\n",
       "    'notes': None}, 'form_metadata': {}, 'found_at': datetime.datetime(2023, 8, 17, 12, 5, 52, 390999, tzinfo=<UTC>), 'status': UUID('c4b0df55-dc0e-47ba-83e7-86080047a8d5'), 'due_at_manually_specified': False, 'end_km_manually_specified': False, 'project_end_km_manually_specified': False, 'editable': True, 'keywords': ''}}}"
      ]
     },
     "execution_count": 30,
     "metadata": {},
     "output_type": "execute_result"
    }
   ],
   "source": [
    "objects[71][0].__dict__"
   ]
  },
  {
   "cell_type": "code",
   "execution_count": 31,
   "metadata": {
    "scrolled": true
   },
   "outputs": [
    {
     "data": {
      "application/vnd.jupyter.widget-view+json": {
       "model_id": "57581f2fcd844ec0a92a6f36002c7a2f",
       "version_major": 2,
       "version_minor": 0
      },
      "text/plain": [
       "  0%|          | 0/72 [00:00<?, ?it/s]"
      ]
     },
     "metadata": {},
     "output_type": "display_data"
    },
    {
     "name": "stdout",
     "output_type": "stream",
     "text": [
      "Searching KM on direction...\n",
      "Searching KM without direction...\n",
      "Found KM on Road 2058: BRS-470\n",
      "CSG-Inv-2023.28153\n",
      "Searching KM on direction...\n",
      "Searching KM without direction...\n",
      "Found KM on Road 2058: BRS-470\n",
      "CSG-Inv-2023.28154\n",
      "Searching KM on direction...\n",
      "Searching KM without direction...\n",
      "Found KM on Road 2058: BRS-470\n",
      "CSG-Inv-2023.28155\n",
      "Searching KM on direction...\n",
      "Searching KM without direction...\n",
      "Found KM on Road 2058: BRS-470\n",
      "CSG-Inv-2023.28156\n",
      "Searching KM on direction...\n",
      "Searching KM without direction...\n",
      "Found KM on Road 2058: BRS-470\n",
      "CSG-Inv-2023.28157\n",
      "Searching KM on direction...\n",
      "Searching KM without direction...\n",
      "Found KM on Road 2059: ERS-122\n",
      "CSG-Inv-2023.28158\n",
      "Searching KM on direction...\n",
      "Searching KM without direction...\n",
      "Found KM on Road 2059: ERS-122\n",
      "CSG-Inv-2023.28159\n",
      "Searching KM on direction...\n",
      "Searching KM without direction...\n",
      "Found KM on Road 2059: ERS-122\n",
      "CSG-Inv-2023.28160\n",
      "Searching KM on direction...\n",
      "Searching KM without direction...\n",
      "Found KM on Road 2059: ERS-122\n",
      "CSG-Inv-2023.28161\n",
      "Searching KM on direction...\n",
      "Searching KM without direction...\n",
      "Found KM on Road 2059: ERS-122\n",
      "CSG-Inv-2023.28162\n",
      "Searching KM on direction...\n",
      "Searching KM without direction...\n",
      "Found KM on Road 2059: ERS-122\n",
      "CSG-Inv-2023.28163\n",
      "Searching KM on direction...\n",
      "Searching KM without direction...\n",
      "Found KM on Road 2059: ERS-122\n",
      "CSG-Inv-2023.28164\n",
      "Searching KM on direction...\n",
      "Searching KM without direction...\n",
      "Found KM on Road 2059: ERS-122\n",
      "CSG-Inv-2023.28165\n",
      "Searching KM on direction...\n",
      "Searching KM without direction...\n",
      "Found KM on Road 2059: ERS-122\n",
      "CSG-Inv-2023.28166\n",
      "Searching KM on direction...\n",
      "Searching KM without direction...\n",
      "Found KM on Road 2059: ERS-122\n",
      "CSG-Inv-2023.28167\n",
      "Searching KM on direction...\n",
      "Searching KM without direction...\n",
      "Found KM on Road 2059: ERS-122\n",
      "CSG-Inv-2023.28168\n",
      "Searching KM on direction...\n",
      "Searching KM without direction...\n",
      "Found KM on Road 2059: ERS-122\n",
      "CSG-Inv-2023.28169\n",
      "Searching KM on direction...\n",
      "Searching KM without direction...\n",
      "Found KM on Road 2059: ERS-122\n",
      "CSG-Inv-2023.28170\n",
      "Searching KM on direction...\n",
      "Searching KM without direction...\n",
      "Found KM on Road 2059: ERS-122\n",
      "CSG-Inv-2023.28171\n",
      "Searching KM on direction...\n",
      "Searching KM without direction...\n",
      "Found KM on Road 2059: ERS-122\n",
      "CSG-Inv-2023.28172\n",
      "Searching KM on direction...\n",
      "Searching KM without direction...\n",
      "Found KM on Road 2059: ERS-122\n",
      "CSG-Inv-2023.28173\n",
      "Searching KM on direction...\n",
      "Searching KM without direction...\n",
      "Found KM on Road 2059: ERS-122\n",
      "CSG-Inv-2023.28174\n",
      "Searching KM on direction...\n",
      "Searching KM without direction...\n",
      "Found KM on Road 2059: ERS-122\n",
      "CSG-Inv-2023.28175\n",
      "Searching KM on direction...\n",
      "Searching KM without direction...\n",
      "Found KM on Road 2059: ERS-122\n",
      "CSG-Inv-2023.28176\n",
      "Searching KM on direction...\n",
      "Searching KM without direction...\n",
      "Found KM on Road 2059: ERS-122\n",
      "CSG-Inv-2023.28177\n",
      "Searching KM on direction...\n",
      "Searching KM without direction...\n",
      "Found KM on Road 2059: ERS-122\n",
      "CSG-Inv-2023.28178\n",
      "Searching KM on direction...\n",
      "Searching KM without direction...\n",
      "Found KM on Road 2059: ERS-122\n",
      "CSG-Inv-2023.28179\n",
      "Searching KM on direction...\n",
      "Searching KM without direction...\n",
      "Found KM on Road 2059: ERS-122\n",
      "CSG-Inv-2023.28180\n",
      "Searching KM on direction...\n",
      "Searching KM without direction...\n",
      "Found KM on Road 2059: ERS-122\n",
      "CSG-Inv-2023.28181\n",
      "Searching KM on direction...\n",
      "Searching KM without direction...\n",
      "Found KM on Road 2059: ERS-122\n",
      "CSG-Inv-2023.28182\n",
      "Searching KM on direction...\n",
      "Searching KM without direction...\n",
      "Found KM on Road 2059: ERS-122\n",
      "CSG-Inv-2023.28183\n",
      "Searching KM on direction...\n",
      "Searching KM without direction...\n",
      "Found KM on Road 2059: ERS-122\n",
      "CSG-Inv-2023.28184\n",
      "Searching KM on direction...\n",
      "Searching KM without direction...\n",
      "Found KM on Road 2060: ERS-240\n",
      "CSG-Inv-2023.28185\n",
      "Searching KM on direction...\n",
      "Searching KM without direction...\n",
      "Found KM on Road 2060: ERS-240\n",
      "CSG-Inv-2023.28186\n",
      "Searching KM on direction...\n",
      "Searching KM without direction...\n",
      "Found KM on Road 2060: ERS-240\n",
      "CSG-Inv-2023.28187\n",
      "Searching KM on direction...\n",
      "Searching KM without direction...\n",
      "Found KM on Road 2060: ERS-240\n",
      "CSG-Inv-2023.28188\n",
      "Searching KM on direction...\n",
      "Searching KM without direction...\n",
      "Found KM on Road 2060: ERS-240\n",
      "CSG-Inv-2023.28189\n",
      "Searching KM on direction...\n",
      "Searching KM without direction...\n",
      "Found KM on Road 2060: ERS-240\n",
      "CSG-Inv-2023.28190\n",
      "Searching KM on direction...\n",
      "Searching KM without direction...\n",
      "Found KM on Road 2060: ERS-240\n",
      "CSG-Inv-2023.28191\n",
      "Searching KM on direction...\n",
      "Searching KM without direction...\n",
      "Found KM on Road 2060: ERS-240\n",
      "CSG-Inv-2023.28192\n",
      "Searching KM on direction...\n",
      "Searching KM without direction...\n",
      "Found KM on Road 2060: ERS-240\n",
      "CSG-Inv-2023.28193\n",
      "Searching KM on direction...\n",
      "Searching KM without direction...\n",
      "Found KM on Road 2060: ERS-240\n",
      "CSG-Inv-2023.28194\n",
      "Searching KM on direction...\n",
      "Searching KM without direction...\n",
      "Found KM on Road 2060: ERS-240\n",
      "CSG-Inv-2023.28195\n",
      "Searching KM on direction...\n",
      "Searching KM without direction...\n",
      "Found KM on Road 2060: ERS-240\n",
      "CSG-Inv-2023.28196\n",
      "Searching KM on direction...\n",
      "Searching KM without direction...\n",
      "Found KM on Road 2061: ERS-446\n",
      "CSG-Inv-2023.28197\n",
      "Searching KM on direction...\n",
      "Searching KM without direction...\n",
      "Found KM on Road 2061: ERS-446\n",
      "CSG-Inv-2023.28198\n",
      "Searching KM on direction...\n",
      "Searching KM without direction...\n",
      "Found KM on Road 2061: ERS-446\n",
      "CSG-Inv-2023.28199\n",
      "Searching KM on direction...\n",
      "Searching KM without direction...\n",
      "Found KM on Road 2061: ERS-446\n",
      "CSG-Inv-2023.28200\n",
      "Searching KM on direction...\n",
      "Searching KM without direction...\n",
      "Found KM on Road 2061: ERS-446\n",
      "CSG-Inv-2023.28201\n",
      "Searching KM on direction...\n",
      "Searching KM without direction...\n",
      "Found KM on Road 2061: ERS-446\n",
      "CSG-Inv-2023.28202\n",
      "Searching KM on direction...\n",
      "Searching KM without direction...\n",
      "Found KM on Road 2061: ERS-446\n",
      "CSG-Inv-2023.28203\n",
      "Searching KM on direction...\n",
      "Searching KM without direction...\n",
      "Found KM on Road 2061: ERS-446\n",
      "CSG-Inv-2023.28204\n",
      "Searching KM on direction...\n",
      "Searching KM without direction...\n",
      "Found KM on Road 2061: ERS-446\n",
      "CSG-Inv-2023.28205\n",
      "Searching KM on direction...\n",
      "Searching KM without direction...\n",
      "Found KM on Road 2061: ERS-446\n",
      "CSG-Inv-2023.28206\n",
      "Searching KM on direction...\n",
      "Searching KM without direction...\n",
      "Found KM on Road 2044: RSC-287\n",
      "CSG-Inv-2023.28207\n",
      "Searching KM on direction...\n",
      "Searching KM without direction...\n",
      "Found KM on Road 2044: RSC-287\n",
      "CSG-Inv-2023.28208\n",
      "Searching KM on direction...\n",
      "Searching KM without direction...\n",
      "Found KM on Road 2062: RSC-453\n",
      "CSG-Inv-2023.28209\n",
      "Searching KM on direction...\n",
      "Searching KM without direction...\n",
      "Found KM on Road 2062: RSC-453\n",
      "CSG-Inv-2023.28210\n",
      "Searching KM on direction...\n",
      "Searching KM without direction...\n",
      "Found KM on Road 2062: RSC-453\n",
      "CSG-Inv-2023.28211\n",
      "Searching KM on direction...\n",
      "Searching KM without direction...\n",
      "Found KM on Road 2059: ERS-122\n",
      "CSG-Inv-2023.28212\n",
      "Searching KM on direction...\n",
      "Searching KM without direction...\n",
      "Found KM on Road 2044: RSC-287\n",
      "CSG-Inv-2023.28213\n",
      "Searching KM on direction...\n",
      "Searching KM without direction...\n",
      "Found KM on Road 2044: RSC-287\n",
      "CSG-Inv-2023.28214\n",
      "Searching KM on direction...\n",
      "Searching KM without direction...\n",
      "Found KM on Road 2044: RSC-287\n",
      "CSG-Inv-2023.28215\n",
      "Searching KM on direction...\n",
      "Searching KM without direction...\n",
      "Found KM on Road 2110: ERS-122\n",
      "CSG-Inv-2023.28216\n",
      "Searching KM on direction...\n",
      "Searching KM without direction...\n",
      "Found KM on Road 2110: ERS-122\n",
      "CSG-Inv-2023.28217\n",
      "Searching KM on direction...\n",
      "Searching KM without direction...\n",
      "Found KM on Road 2110: ERS-122\n",
      "CSG-Inv-2023.28218\n",
      "Searching KM on direction...\n",
      "Searching KM without direction...\n",
      "Found KM on Road 2110: ERS-122\n",
      "CSG-Inv-2023.28219\n",
      "Searching KM on direction...\n",
      "Searching KM without direction...\n",
      "Found KM on Road 2104: ERS-122\n",
      "CSG-Inv-2023.28220\n",
      "Searching KM on direction...\n",
      "Searching KM without direction...\n",
      "Found KM on Road 2104: ERS-122\n",
      "CSG-Inv-2023.28221\n",
      "Searching KM on direction...\n",
      "Searching KM without direction...\n",
      "Found KM on Road 2104: ERS-122\n",
      "CSG-Inv-2023.28222\n",
      "Searching KM on direction...\n",
      "Searching KM without direction...\n",
      "Found KM on Road 2104: ERS-122\n",
      "CSG-Inv-2023.28223\n",
      "Searching KM on direction...\n",
      "Searching KM without direction...\n",
      "Found KM on Road 2062: RSC-453\n",
      "CSG-Inv-2023.28224\n"
     ]
    }
   ],
   "source": [
    "for reporting, images in tqdm(objects):\n",
    "    reporting.save()\n",
    "    print(reporting.number)"
   ]
  },
  {
   "cell_type": "markdown",
   "metadata": {},
   "source": [
    "Anexando as imagens"
   ]
  },
  {
   "cell_type": "code",
   "execution_count": 29,
   "metadata": {},
   "outputs": [
    {
     "data": {
      "application/vnd.jupyter.widget-view+json": {
       "model_id": "7d1b08762da04b63ad24ac2b4555a072",
       "version_major": 2,
       "version_minor": 0
      },
      "text/plain": [
       "  0%|          | 0/15 [00:00<?, ?it/s]"
      ]
     },
     "metadata": {},
     "output_type": "display_data"
    }
   ],
   "source": [
    "for reporting, images in tqdm(objects):\n",
    "    for image in reversed(images):\n",
    "        reporting_file = ReportingFile(\n",
    "            created_by=user,\n",
    "            reporting=reporting,\n",
    "            description=image.name,\n",
    "            km=reporting.km,\n",
    "            point=reporting.point\n",
    "        )\n",
    "        reporting_file.save()\n",
    "        image_io = BytesIO(image._data())\n",
    "        im = Image.open(image_io)\n",
    "        if im.mode in (\"RGBA\", \"P\"):\n",
    "            im = im.convert(\"RGB\")\n",
    "        thumb_io = BytesIO()\n",
    "        im.save(thumb_io, format='jpeg', quality=90)\n",
    "        reporting_file.upload.save(image.name + '.jpeg', thumb_io)"
   ]
  },
  {
   "cell_type": "code",
   "execution_count": 22,
   "metadata": {},
   "outputs": [
    {
     "name": "stderr",
     "output_type": "stream",
     "text": [
      "/home/luan/.cache/pypoetry/virtualenvs/apps-ZFymp6kh-py3.7/lib/python3.7/site-packages/django/db/models/fields/__init__.py:1427: RuntimeWarning: DateTimeField Reporting.created_at received a naive datetime (2023-05-10 00:00:00) while time zone support is active.\n",
      "  RuntimeWarning)\n"
     ]
    },
    {
     "data": {
      "text/plain": [
       "76"
      ]
     },
     "execution_count": 22,
     "metadata": {},
     "output_type": "execute_result"
    }
   ],
   "source": [
    "reps = Reporting.objects.filter(company=company,occurrence_type=occurrence_type,created_at__gte='2023-5-10')\n",
    "reps.count()"
   ]
  },
  {
   "cell_type": "code",
   "execution_count": 23,
   "metadata": {},
   "outputs": [
    {
     "data": {
      "application/vnd.jupyter.widget-view+json": {
       "model_id": "f02c554ca2494a93bdf3bb7e6d9b7a0b",
       "version_major": 2,
       "version_minor": 0
      },
      "text/plain": [
       "  0%|          | 0/76 [00:00<?, ?it/s]"
      ]
     },
     "metadata": {},
     "output_type": "display_data"
    }
   ],
   "source": [
    "for a in tqdm(reps):\n",
    "    a.delete()"
   ]
  },
  {
   "cell_type": "markdown",
   "metadata": {},
   "source": [
    " "
   ]
  }
 ],
 "metadata": {
  "kernelspec": {
   "display_name": "Django Shell-Plus",
   "language": "python",
   "name": "django_extensions"
  },
  "language_info": {
   "codemirror_mode": {
    "name": "ipython",
    "version": 3
   },
   "file_extension": ".py",
   "mimetype": "text/x-python",
   "name": "python",
   "nbconvert_exporter": "python",
   "pygments_lexer": "ipython3",
   "version": "3.8.16"
  }
 },
 "nbformat": 4,
 "nbformat_minor": 2
}
