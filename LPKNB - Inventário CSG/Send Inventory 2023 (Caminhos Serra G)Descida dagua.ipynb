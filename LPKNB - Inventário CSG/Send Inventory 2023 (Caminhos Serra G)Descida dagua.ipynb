{
 "cells": [
  {
   "cell_type": "markdown",
   "metadata": {},
   "source": [
    "# Inventário"
   ]
  },
  {
   "cell_type": "markdown",
   "metadata": {},
   "source": [
    " "
   ]
  },
  {
   "cell_type": "markdown",
   "metadata": {},
   "source": [
    "Deve-se executar as seis primeiras células para carregar funções utilizadas para rodar o script"
   ]
  },
  {
   "cell_type": "code",
   "execution_count": 1,
   "metadata": {},
   "outputs": [],
   "source": [
    "import json\n",
    "import os\n",
    "from openpyxl import load_workbook\n",
    "from datetime import timedelta\n",
    "import random\n",
    "from copy import deepcopy\n",
    "from django.contrib.gis.geos import LineString, Point\n",
    "from django.contrib.admin.utils import flatten\n",
    "import math\n",
    "import datetime\n",
    "import locale\n",
    "from tqdm.notebook import tqdm\n",
    "from PIL import Image\n",
    "from io import BytesIO\n",
    "from simple_history.utils import bulk_create_with_history\n",
    "from django.contrib.gis.geos import Point, LineString as DjangoLineString\n",
    "from helpers.histories import bulk_update_with_history\n",
    "import pytz"
   ]
  },
  {
   "cell_type": "code",
   "execution_count": 2,
   "metadata": {},
   "outputs": [],
   "source": [
    "from helpers.route_maker import dic_to_ordered_list, unequal_point_pairs"
   ]
  },
  {
   "cell_type": "code",
   "execution_count": 3,
   "metadata": {},
   "outputs": [
    {
     "name": "stderr",
     "output_type": "stream",
     "text": [
      "/home/luan/.cache/pypoetry/virtualenvs/apps-ZFymp6kh-py3.7/lib/python3.7/site-packages/geopandas/_compat.py:110: UserWarning: The Shapely GEOS version (3.10.3-CAPI-1.16.1) is incompatible with the GEOS version PyGEOS was compiled with (3.9.1-CAPI-1.14.2). Conversions between both will be slow.\n",
      "  shapely_geos_version, geos_capi_version_string\n"
     ]
    }
   ],
   "source": [
    "from django.contrib.gis.geos import Point, LineString as DjangoLineString\n",
    "from django.contrib.gis.db.models.functions import Distance\n",
    "from turfpy.misc import nearest_point_on_line\n",
    "from turfpy.measurement import length\n",
    "from geojson import LineString, loads\n",
    "from helpers.histories import bulk_update_with_history\n",
    "from tqdm.notebook import tqdm"
   ]
  },
  {
   "cell_type": "code",
   "execution_count": 4,
   "metadata": {},
   "outputs": [],
   "source": [
    "def km_to_coordinates(road, km):\n",
    "\n",
    "    road_marks = dic_to_ordered_list(road.marks)\n",
    "    selected_pair = None\n",
    "\n",
    "    for pair in unequal_point_pairs(road_marks):\n",
    "        if pair[0][\"km\"] > km and pair[1][\"km\"] < km:\n",
    "            selected_pair = pair\n",
    "            break\n",
    "        elif pair[1][\"km\"] > km and pair[0][\"km\"] < km:\n",
    "            selected_pair = pair\n",
    "            break\n",
    "        elif pair[0][\"km\"] == km:\n",
    "            return Point(pair[0][\"point\"][\"coordinates\"]), road\n",
    "        elif pair[1][\"km\"] == km:\n",
    "            return Point(pair[1][\"point\"][\"coordinates\"]), road\n",
    "\n",
    "    # Calculate total length\n",
    "    start_km = min([selected_pair[0][\"km\"], selected_pair[1][\"km\"]])\n",
    "    end_km = max([selected_pair[0][\"km\"], selected_pair[1][\"km\"]])\n",
    "    segment_mark_length = end_km - start_km\n",
    "    distance_from_min = km - start_km\n",
    "    # Check if km is decreasing\n",
    "    invert_km = selected_pair[1][\"km\"] <= selected_pair[0][\"km\"]\n",
    "\n",
    "    # Cut segment\n",
    "    start_key = min((selected_pair[0][\"index\"], selected_pair[1][\"index\"]))\n",
    "    end_key = max((selected_pair[0][\"index\"], selected_pair[1][\"index\"]))\n",
    "\n",
    "    points = []\n",
    "    for key in range(start_key, end_key + 1):\n",
    "        points.append(\n",
    "            Point(road.path[key][0], road.path[key][1], road.path[key][2])\n",
    "        )\n",
    "\n",
    "    segment = LineString(points, srid=4326)\n",
    "    # Apply km inversion correction\n",
    "    if invert_km:\n",
    "        segment_distance = (\n",
    "            1 - (distance_from_min / segment_mark_length)\n",
    "        ) * segment.length\n",
    "    else:\n",
    "        segment_distance = (\n",
    "            distance_from_min / segment_mark_length\n",
    "        ) * segment.length\n",
    "    # Find point\n",
    "    point = segment.interpolate(segment_distance)\n",
    "\n",
    "    return Point(point.x, point.y), road"
   ]
  },
  {
   "cell_type": "code",
   "execution_count": 5,
   "metadata": {},
   "outputs": [],
   "source": [
    "def check_valid_road(road, km):\n",
    "\n",
    "    road_marks = dic_to_ordered_list(road.marks)\n",
    "\n",
    "    for pair in unequal_point_pairs(road_marks):\n",
    "        if pair[0][\"km\"] >= km and pair[1][\"km\"] <= km:\n",
    "            return True\n",
    "        elif pair[1][\"km\"] >= km and pair[0][\"km\"] <= km:\n",
    "            return True\n",
    "\n",
    "    return False"
   ]
  },
  {
   "cell_type": "code",
   "execution_count": 6,
   "metadata": {},
   "outputs": [],
   "source": [
    "def get_road_coordinates(road_name, km, direction, company):\n",
    "    road_set = Road.objects.filter(\n",
    "        name__contains=road_name, direction=int(direction), company=company\n",
    "    )\n",
    "\n",
    "    # If roads in specified direction are not found, search road only\n",
    "    # by name and order then by direction\n",
    "    road_set_generic = Road.objects.filter(\n",
    "        name__contains=road_name, company=company\n",
    "    ).order_by(\"direction\")\n",
    "\n",
    "    # Check if KM range in road_set\n",
    "#     print(\"Searching KM on direction...\")\n",
    "    valid = False\n",
    "    for road in road_set:\n",
    "        if check_valid_road(road, km):\n",
    "#             print(\"Found KM on Road {}\".format(road))\n",
    "            valid = True\n",
    "            break\n",
    "\n",
    "    if not valid:\n",
    "#         print(\"Searching KM without direction...\")\n",
    "        for road in road_set_generic:\n",
    "            if check_valid_road(road, km):\n",
    "#                 print(\"Found KM on Road {}\".format(road))\n",
    "                valid = True\n",
    "                break\n",
    "\n",
    "    if not valid:\n",
    "        return Point(0, 0), None\n",
    "\n",
    "    try:\n",
    "        return km_to_coordinates(road, km)\n",
    "    except Exception:\n",
    "        return Point(0, 0), None"
   ]
  },
  {
   "cell_type": "code",
   "execution_count": 7,
   "metadata": {},
   "outputs": [],
   "source": [
    "def findIndex(flist, func):\n",
    "    for i,v in enumerate(flist):\n",
    "        if func(v): \n",
    "            return i\n",
    "    return -1"
   ]
  },
  {
   "cell_type": "code",
   "execution_count": 8,
   "metadata": {},
   "outputs": [],
   "source": [
    "def point_to_km(lng, lat, road):\n",
    "    point = Point(lng, lat, srid=4326)\n",
    "#     roads = Road.objects.filter(company=company).annotate(distance=Distance(point, 'path')).order_by('distance')\n",
    "#     road = roads[0]\n",
    "    path = loads(road.path.geojson)\n",
    "    point_geojson = loads(point.geojson)\n",
    "    road_marks = list(road.marks.values())\n",
    "    snap_point = nearest_point_on_line(path, point_geojson)\n",
    "    \n",
    "\n",
    "    road_markers = sorted([a for a in road_marks if 'index' in a or ('index' in a and a['index'] == 0)], key=lambda x: int(x['key']))\n",
    "#     road_markers = sorted([a for a in road_marks if a['index'] or a['index'] == 0], key=lambda x: int(x['key']))\n",
    "    rm_index = findIndex(road_markers, lambda x: x['index'] > snap_point['properties']['index'])\n",
    "    \n",
    "    if (rm_index == -1):\n",
    "        rm_index = len(road_markers) - 1;\n",
    "    \n",
    "    km_marker_start = road_markers[rm_index - 1]\n",
    "    km_marker_end = road_markers[rm_index]\n",
    "    \n",
    "    if km_marker_start['index'] == road_markers[-1]['index']: \n",
    "        snap = road_markers[-1]\n",
    "        km = snap['km']\n",
    "    elif km_marker_end['index'] == road_markers[0]['index']:\n",
    "        snap = road_markers[0]\n",
    "        km = snap['km']\n",
    "    else:\n",
    "        test = path['coordinates'][km_marker_start['index']:km_marker_end['index'] + 1]\n",
    "        marker_path = LineString(test)\n",
    "        snap = nearest_point_on_line(marker_path, point_geojson)        \n",
    "        ls_length = length(marker_path, units=\"km\")\n",
    "        km = ((snap['properties']['location'] / ls_length)        \n",
    "            * (km_marker_end['km'] - km_marker_start['km'])\n",
    "            + km_marker_start['km'])\n",
    "    \n",
    "    return road, road.name, point, round(km, 3)"
   ]
  },
  {
   "cell_type": "code",
   "execution_count": 9,
   "metadata": {},
   "outputs": [],
   "source": [
    "from collections import defaultdict\n",
    "from django.db.models.signals import *\n",
    "\n",
    "\n",
    "class DisableSignals(object):\n",
    "    def __init__(self, disabled_signals=None):\n",
    "        self.stashed_signals = defaultdict(list)\n",
    "        self.disabled_signals = disabled_signals or [\n",
    "            pre_init, post_init,\n",
    "            pre_save, post_save,\n",
    "            pre_delete, post_delete,\n",
    "            pre_migrate, post_migrate,\n",
    "        ]\n",
    "\n",
    "    def __enter__(self):\n",
    "        for signal in self.disabled_signals:\n",
    "            self.disconnect(signal)\n",
    "\n",
    "    def __exit__(self, exc_type, exc_val, exc_tb):\n",
    "        for signal in list(self.stashed_signals):\n",
    "            self.reconnect(signal)\n",
    "\n",
    "    def disconnect(self, signal):\n",
    "        self.stashed_signals[signal] = signal.receivers\n",
    "        signal.receivers = []\n",
    "\n",
    "    def reconnect(self, signal):\n",
    "        signal.receivers = self.stashed_signals.get(signal, [])\n",
    "        del self.stashed_signals[signal]"
   ]
  },
  {
   "cell_type": "code",
   "execution_count": 10,
   "metadata": {},
   "outputs": [],
   "source": [
    "def get_connected_reference(company, resource, key, value):\n",
    "    select_options = company.custom_options[resource]['fields'][key]['select_options']['options']\n",
    "    return next(a['value'] for a in select_options if a['name'].lower() == value.lower())"
   ]
  },
  {
   "cell_type": "code",
   "execution_count": 11,
   "metadata": {},
   "outputs": [],
   "source": [
    "def get_value(field, occ, value):\n",
    "    values = occ.form_fields['fields']\n",
    "    item_translation = flatten([item['selectOptions']['options'] for item in values if item['displayName']==field])\n",
    "#     print(item_translation)\n",
    "\n",
    "    final_translation = {item['name']: item['value'] for item in item_translation}\n",
    "#     print(final_translation)\n",
    "    return final_translation[value]"
   ]
  },
  {
   "cell_type": "markdown",
   "metadata": {},
   "source": [
    " Verificando se está no ambiente de produção"
   ]
  },
  {
   "cell_type": "code",
   "execution_count": 12,
   "metadata": {},
   "outputs": [
    {
     "name": "stdout",
     "output_type": "stream",
     "text": [
      "STAGE=PRODUCTION\r\n"
     ]
    }
   ],
   "source": [
    "!cat .env"
   ]
  },
  {
   "cell_type": "markdown",
   "metadata": {},
   "source": [
    "Escolhendo nome do arquivo Excel para carregar o Inventário"
   ]
  },
  {
   "cell_type": "code",
   "execution_count": 13,
   "metadata": {},
   "outputs": [],
   "source": [
    "filename=\"Cópia de Descida D'água - ERS-446 OK\""
   ]
  },
  {
   "cell_type": "markdown",
   "metadata": {},
   "source": [
    "Escolhendo a aba da planilha do Excel"
   ]
  },
  {
   "cell_type": "code",
   "execution_count": 14,
   "metadata": {},
   "outputs": [
    {
     "name": "stderr",
     "output_type": "stream",
     "text": [
      "/home/luan/.cache/pypoetry/virtualenvs/apps-ZFymp6kh-py3.7/lib/python3.7/site-packages/openpyxl/worksheet/_reader.py:312: UserWarning: Data Validation extension is not supported and will be removed\n",
      "  warn(msg)\n"
     ]
    }
   ],
   "source": [
    "wb = load_workbook(filename + '.xlsx')\n",
    "sheetname = wb.sheetnames[1]\n",
    "ws = wb[sheetname]"
   ]
  },
  {
   "cell_type": "markdown",
   "metadata": {},
   "source": [
    "Testando planilha carregada do Excel"
   ]
  },
  {
   "cell_type": "code",
   "execution_count": 15,
   "metadata": {},
   "outputs": [
    {
     "name": "stdout",
     "output_type": "stream",
     "text": [
      "km\n"
     ]
    }
   ],
   "source": [
    "print(ws['A1'].value)"
   ]
  },
  {
   "cell_type": "markdown",
   "metadata": {},
   "source": [
    "Carregando os valores no script"
   ]
  },
  {
   "cell_type": "code",
   "execution_count": 16,
   "metadata": {},
   "outputs": [],
   "source": [
    "header = []\n",
    "values = []\n",
    "\n",
    "for index, row in enumerate(ws.rows):\n",
    "    if index == 0:\n",
    "        header = list([a.value for a in row])\n",
    "        continue\n",
    "    obj = {}\n",
    "    for col_index, cell in enumerate(row):\n",
    "        value = cell.value\n",
    "        obj[header[col_index]] = value\n",
    "    if obj['Rodovia'] is not None:           \n",
    "   \n",
    "        obj['img'] = [a for a in ws._images if a.anchor._from.row == index]\n",
    "\n",
    "        try:\n",
    "            for a in obj['img']:\n",
    "                a.name = 'CSG'\n",
    "#             obj['img'][0].name='Verso'\n",
    "        except:\n",
    "            pass\n",
    "        \n",
    "    values.append(obj)"
   ]
  },
  {
   "cell_type": "markdown",
   "metadata": {},
   "source": [
    "Teste de valores importados da planilha"
   ]
  },
  {
   "cell_type": "code",
   "execution_count": 17,
   "metadata": {},
   "outputs": [
    {
     "data": {
      "text/plain": [
       "(198,\n",
       " {'km': None,\n",
       "  'km final': None,\n",
       "  'km de Projeto': None,\n",
       "  'km final de Projeto': None,\n",
       "  'Latitude_Inicial': -29.368777777777776,\n",
       "  'Longitude_Inicial': -51.375175,\n",
       "  'Latitude_Final': None,\n",
       "  'Longitude_Final': None,\n",
       "  'Status': 'Identificado',\n",
       "  'Equipe/Empreiteira': 'Cadastro incial',\n",
       "  'Encontrado em': None,\n",
       "  'Executado em': None,\n",
       "  'Sentido': 'Não se Aplica',\n",
       "  'Classe': \"Descida D'água\",\n",
       "  'Faixa': 'Não se aplica',\n",
       "  'Rodovia': 'ERS-446',\n",
       "  'Tipo': 'DAR',\n",
       "  'Largura\\n(m)': 0.5,\n",
       "  'Extensão\\n(m)': 2,\n",
       "  'Lado montante': 'Direita',\n",
       "  'Dissipador': 'NÃO',\n",
       "  'Estado de conservação': 'Bom',\n",
       "  'Observações': None,\n",
       "  'Foto_1': None,\n",
       "  'Data Foto_1': None,\n",
       "  'Tipo Foto_1': None,\n",
       "  'Descrição Foto_1': None,\n",
       "  'Foto_2': None,\n",
       "  'Data Foto_2': None,\n",
       "  'Tipo Foto_2': None,\n",
       "  'Descrição Foto_2': None,\n",
       "  'Foto_3': None,\n",
       "  'Data Foto_3': None,\n",
       "  'Tipo Foto_3': None,\n",
       "  'Descrição Foto_3': None,\n",
       "  'Foto_4': None,\n",
       "  'Data Foto_4': None,\n",
       "  'Tipo Foto_4': None,\n",
       "  'Descrição Foto_4': None,\n",
       "  'Foto_5': None,\n",
       "  'Data Foto_5': None,\n",
       "  'Tipo Foto_5': None,\n",
       "  'Descrição Foto_5': None,\n",
       "  'Foto_6': None,\n",
       "  'Data Foto_6': None,\n",
       "  'Tipo Foto_6': None,\n",
       "  'Descrição Foto_6': None,\n",
       "  'Foto_7': None,\n",
       "  'Data Foto_7': None,\n",
       "  'Tipo Foto_7': None,\n",
       "  'Descrição Foto_7': None,\n",
       "  'Foto_8': None,\n",
       "  'Data Foto_8': None,\n",
       "  'Tipo Foto_8': None,\n",
       "  'Descrição Foto_8': None,\n",
       "  'Foto_9': None,\n",
       "  'Data Foto_9': None,\n",
       "  'Tipo Foto_9': None,\n",
       "  'Descrição Foto_9': None,\n",
       "  'Foto_10': None,\n",
       "  'Data Foto_10': None,\n",
       "  'Tipo Foto_10': None,\n",
       "  'Descrição Foto_10': None,\n",
       "  'img': [<openpyxl.drawing.image.Image at 0x7f25e8be7950>]})"
      ]
     },
     "execution_count": 17,
     "metadata": {},
     "output_type": "execute_result"
    }
   ],
   "source": [
    "len(values),values[0]"
   ]
  },
  {
   "cell_type": "markdown",
   "metadata": {},
   "source": [
    "Definindo valores da importação"
   ]
  },
  {
   "cell_type": "code",
   "execution_count": 18,
   "metadata": {},
   "outputs": [
    {
     "data": {
      "text/plain": [
       "(<Company: 4edb7778-e350-4e77-8e1e-de5f87b1da7f: Caminhos da Serra Gaúcha>,\n",
       " <OccurrenceType: Descida D'água - ['Caminhos da Serra Gaúcha']>,\n",
       " <Firm: [4edb7778-e350-4e77-8e1e-de5f87b1da7f: Caminhos da Serra Gaúcha] 0edd2ecc-8d5e-4444-898b-0069a3e9c354: Cadastro incial>)"
      ]
     },
     "execution_count": 18,
     "metadata": {},
     "output_type": "execute_result"
    }
   ],
   "source": [
    "company = Company.objects.get(name='Caminhos da Serra Gaúcha')\n",
    "\n",
    "#Classe Descida D'agua\n",
    "occurrence_type=OccurrenceType.objects.get(uuid='05c0b8e0-bc5d-4702-8464-676e45298fdc')\n",
    "\n",
    "user=User.objects.get(username='rlcs')\n",
    "status=ServiceOrderActionStatus.objects.get(companies=company, name='Identificado')\n",
    "# step=ApprovalStep.objects.get(approval_flow__company=company, name='Em Elaboração')\n",
    "firm=Firm.objects.get(uuid='0edd2ecc-8d5e-4444-898b-0069a3e9c354')\n",
    "sign_name='Retrorrefletância'\n",
    "company,occurrence_type,firm"
   ]
  },
  {
   "cell_type": "code",
   "execution_count": 20,
   "metadata": {},
   "outputs": [
    {
     "data": {
      "text/plain": [
       "<Road: 2061: ERS-446>"
      ]
     },
     "execution_count": 20,
     "metadata": {},
     "output_type": "execute_result"
    }
   ],
   "source": [
    "road=Road.objects.get(company=company,name__icontains=\"446\")\n",
    "road"
   ]
  },
  {
   "cell_type": "code",
   "execution_count": null,
   "metadata": {},
   "outputs": [],
   "source": [
    "for a in values:\n",
    "    a['Lado montante'] = 'D'"
   ]
  },
  {
   "cell_type": "code",
   "execution_count": 21,
   "metadata": {
    "scrolled": true
   },
   "outputs": [
    {
     "data": {
      "text/plain": [
       "(<Road: 2061: ERS-446>,\n",
       " <Point object at 0x7f25e96ab9a0>,\n",
       " 0.881,\n",
       " {'km': None,\n",
       "  'km final': None,\n",
       "  'km de Projeto': None,\n",
       "  'km final de Projeto': None,\n",
       "  'Latitude_Inicial': -29.368777777777776,\n",
       "  'Longitude_Inicial': -51.375175,\n",
       "  'Latitude_Final': None,\n",
       "  'Longitude_Final': None,\n",
       "  'Status': 'Identificado',\n",
       "  'Equipe/Empreiteira': 'Cadastro incial',\n",
       "  'Encontrado em': None,\n",
       "  'Executado em': None,\n",
       "  'Sentido': 'Não se Aplica',\n",
       "  'Classe': \"Descida D'água\",\n",
       "  'Faixa': 'Não se aplica',\n",
       "  'Rodovia': 'ERS-446',\n",
       "  'Tipo': 'DAR',\n",
       "  'Largura\\n(m)': 0.5,\n",
       "  'Extensão\\n(m)': 2,\n",
       "  'Lado montante': 'Direita',\n",
       "  'Dissipador': 'NÃO',\n",
       "  'Estado de conservação': 'Bom',\n",
       "  'Observações': None,\n",
       "  'Foto_1': None,\n",
       "  'Data Foto_1': None,\n",
       "  'Tipo Foto_1': None,\n",
       "  'Descrição Foto_1': None,\n",
       "  'Foto_2': None,\n",
       "  'Data Foto_2': None,\n",
       "  'Tipo Foto_2': None,\n",
       "  'Descrição Foto_2': None,\n",
       "  'Foto_3': None,\n",
       "  'Data Foto_3': None,\n",
       "  'Tipo Foto_3': None,\n",
       "  'Descrição Foto_3': None,\n",
       "  'Foto_4': None,\n",
       "  'Data Foto_4': None,\n",
       "  'Tipo Foto_4': None,\n",
       "  'Descrição Foto_4': None,\n",
       "  'Foto_5': None,\n",
       "  'Data Foto_5': None,\n",
       "  'Tipo Foto_5': None,\n",
       "  'Descrição Foto_5': None,\n",
       "  'Foto_6': None,\n",
       "  'Data Foto_6': None,\n",
       "  'Tipo Foto_6': None,\n",
       "  'Descrição Foto_6': None,\n",
       "  'Foto_7': None,\n",
       "  'Data Foto_7': None,\n",
       "  'Tipo Foto_7': None,\n",
       "  'Descrição Foto_7': None,\n",
       "  'Foto_8': None,\n",
       "  'Data Foto_8': None,\n",
       "  'Tipo Foto_8': None,\n",
       "  'Descrição Foto_8': None,\n",
       "  'Foto_9': None,\n",
       "  'Data Foto_9': None,\n",
       "  'Tipo Foto_9': None,\n",
       "  'Descrição Foto_9': None,\n",
       "  'Foto_10': None,\n",
       "  'Data Foto_10': None,\n",
       "  'Tipo Foto_10': None,\n",
       "  'Descrição Foto_10': None,\n",
       "  'img': [<openpyxl.drawing.image.Image at 0x7f25e8be7950>]})"
      ]
     },
     "execution_count": 21,
     "metadata": {},
     "output_type": "execute_result"
    }
   ],
   "source": [
    "values[0]['Latitude_Inicial'],values[0]['Longitude_Inicial']\n",
    "road,_,point,km =point_to_km(float(values[0]['Longitude_Inicial']),float(values[0]['Latitude_Inicial']),road)\n",
    "road,point,km,values[0]"
   ]
  },
  {
   "cell_type": "markdown",
   "metadata": {},
   "source": [
    "Criando itens de Inventário"
   ]
  },
  {
   "cell_type": "code",
   "execution_count": 24,
   "metadata": {},
   "outputs": [
    {
     "data": {
      "application/vnd.jupyter.widget-view+json": {
       "model_id": "6e4bab7c2dac4c6681e6adecc6dbeb13",
       "version_major": 2,
       "version_minor": 0
      },
      "text/plain": [
       "  0%|          | 0/198 [00:00<?, ?it/s]"
      ]
     },
     "metadata": {},
     "output_type": "display_data"
    },
    {
     "name": "stdout",
     "output_type": "stream",
     "text": [
      "Arquivo\"Cópia de Descida D'água - ERS-446 OK\" - Rodovia 2061: ERS-446 - Km:0.881 - Linha: 2 - 'Direita'\n"
     ]
    },
    {
     "ename": "AttributeError",
     "evalue": "'list' object has no attribute 'form_data'",
     "output_type": "error",
     "traceback": [
      "\u001b[0;31m---------------------------------------------------------------------------\u001b[0m",
      "\u001b[0;31mKeyError\u001b[0m                                  Traceback (most recent call last)",
      "\u001b[0;32m/tmp/ipykernel_38793/4255739357.py\u001b[0m in \u001b[0;36m<module>\u001b[0;34m\u001b[0m\n\u001b[1;32m     29\u001b[0m                         \u001b[0;34m'type'\u001b[0m\u001b[0;34m:\u001b[0m \u001b[0ma\u001b[0m\u001b[0;34m[\u001b[0m\u001b[0;34m'Tipo'\u001b[0m\u001b[0;34m]\u001b[0m\u001b[0;34m,\u001b[0m\u001b[0;34m\u001b[0m\u001b[0;34m\u001b[0m\u001b[0m\n\u001b[0;32m---> 30\u001b[0;31m                         \u001b[0;34m'side'\u001b[0m\u001b[0;34m:\u001b[0m \u001b[0mget_value\u001b[0m\u001b[0;34m(\u001b[0m\u001b[0;34m'Lado montante'\u001b[0m\u001b[0;34m,\u001b[0m\u001b[0moccurrence_type\u001b[0m\u001b[0;34m,\u001b[0m\u001b[0ma\u001b[0m\u001b[0;34m[\u001b[0m\u001b[0;34m'Lado montante'\u001b[0m\u001b[0;34m]\u001b[0m\u001b[0;34m)\u001b[0m \u001b[0;32mif\u001b[0m \u001b[0ma\u001b[0m\u001b[0;34m[\u001b[0m\u001b[0;34m\"Lado montante\"\u001b[0m\u001b[0;34m]\u001b[0m \u001b[0;32mis\u001b[0m \u001b[0;32mnot\u001b[0m \u001b[0;34m''\u001b[0m \u001b[0;32melse\u001b[0m \u001b[0;32mNone\u001b[0m\u001b[0;34m,\u001b[0m\u001b[0;34m\u001b[0m\u001b[0;34m\u001b[0m\u001b[0m\n\u001b[0m\u001b[1;32m     31\u001b[0m                         \u001b[0;34m'dissipador'\u001b[0m\u001b[0;34m:\u001b[0m \u001b[0;32mTrue\u001b[0m \u001b[0;32mif\u001b[0m \u001b[0mstr\u001b[0m\u001b[0;34m(\u001b[0m\u001b[0ma\u001b[0m\u001b[0;34m[\u001b[0m\u001b[0;34m'Dissipador'\u001b[0m\u001b[0;34m]\u001b[0m\u001b[0;34m)\u001b[0m\u001b[0;34m.\u001b[0m\u001b[0mlower\u001b[0m\u001b[0;34m(\u001b[0m\u001b[0;34m)\u001b[0m \u001b[0;34m==\u001b[0m \u001b[0;34m'sim'\u001b[0m \u001b[0;32melse\u001b[0m \u001b[0;32mFalse\u001b[0m\u001b[0;34m,\u001b[0m\u001b[0;34m\u001b[0m\u001b[0;34m\u001b[0m\u001b[0m\n",
      "\u001b[0;32m/tmp/ipykernel_38793/3917825318.py\u001b[0m in \u001b[0;36mget_value\u001b[0;34m(field, occ, value)\u001b[0m\n\u001b[1;32m      7\u001b[0m \u001b[0;31m#     print(final_translation)\u001b[0m\u001b[0;34m\u001b[0m\u001b[0;34m\u001b[0m\u001b[0;34m\u001b[0m\u001b[0m\n\u001b[0;32m----> 8\u001b[0;31m     \u001b[0;32mreturn\u001b[0m \u001b[0mfinal_translation\u001b[0m\u001b[0;34m[\u001b[0m\u001b[0mvalue\u001b[0m\u001b[0;34m]\u001b[0m\u001b[0;34m\u001b[0m\u001b[0;34m\u001b[0m\u001b[0m\n\u001b[0m",
      "\u001b[0;31mKeyError\u001b[0m: 'Direita'",
      "\nDuring handling of the above exception, another exception occurred:\n",
      "\u001b[0;31mAttributeError\u001b[0m                            Traceback (most recent call last)",
      "\u001b[0;32m/tmp/ipykernel_38793/4255739357.py\u001b[0m in \u001b[0;36m<module>\u001b[0;34m\u001b[0m\n\u001b[1;32m     39\u001b[0m \u001b[0;34m\u001b[0m\u001b[0m\n\u001b[1;32m     40\u001b[0m         \u001b[0mprint\u001b[0m\u001b[0;34m(\u001b[0m\u001b[0;34mf'Arquivo\"{filename}\" - Rodovia {road} - Km:{km} - Linha: {index+2} - {e}'\u001b[0m\u001b[0;34m)\u001b[0m\u001b[0;34m\u001b[0m\u001b[0;34m\u001b[0m\u001b[0m\n\u001b[0;32m---> 41\u001b[0;31m         \u001b[0mprint\u001b[0m\u001b[0;34m(\u001b[0m\u001b[0mobjects\u001b[0m\u001b[0;34m.\u001b[0m\u001b[0mform_data\u001b[0m\u001b[0;34m)\u001b[0m\u001b[0;34m\u001b[0m\u001b[0;34m\u001b[0m\u001b[0m\n\u001b[0m",
      "\u001b[0;31mAttributeError\u001b[0m: 'list' object has no attribute 'form_data'"
     ]
    }
   ],
   "source": [
    "objects=[]\n",
    "\n",
    "\n",
    "for index, a in enumerate(tqdm(values)):\n",
    "\n",
    "    long=str(a['Longitude_Inicial'])\n",
    "    lat=str(a['Latitude_Inicial'])\n",
    "#     pista = 'Pista Dupla' if a['Pista'] == 'DUPLA' else 'Pista Simples'\n",
    "    road,_,point,km =point_to_km(float(long),float(lat),road)\n",
    "    if '446' not in road.name:\n",
    "        print(f\"Rodovia {road} - Km:{km} - Linha: {index+2}\")\n",
    "    try:\n",
    "        \n",
    "        objects.append((Reporting(\n",
    "                    company=company,\n",
    "                    occurrence_type=occurrence_type,\n",
    "                    lane=str(get_connected_reference(company, 'reporting', 'lane', 'Não se Aplica')),\n",
    "                    road=road,\n",
    "                    road_name=road.name,\n",
    "                    direction=str(get_connected_reference(company, 'reporting', 'direction', a['Sentido'])),\n",
    "                    created_by=user,\n",
    "#                     found_at=datetime.datetime('2023-05-08'),\n",
    "                    km=float(km),\n",
    "#                     end_km=float(end_km) if a['Longitude_Final'] is not None and a['Latitude_Final'] else None,\n",
    "                    point=point,\n",
    "                    firm=firm,\n",
    "                    status=status,\n",
    "                    form_data={\n",
    "                        'type': a['Tipo'],\n",
    "                        'side': get_value('Lado montante',occurrence_type,a['Lado montante']) if a[\"Lado montante\"] is not '' else None,\n",
    "                        'dissipador': True if str(a['Dissipador']).lower() == 'sim' else False,\n",
    "                        'state': get_value('Estado de conservação',occurrence_type,a[\"Estado de conservação\"].capitalize()) if a[\"Estado de conservação\"] is not None else None,\n",
    "                        'width': a['Largura\\n(m)'] if a['Largura\\n(m)'] is not None else None,\n",
    "                        'extension': a['Extensão\\n(m)'] if a['Extensão\\n(m)'] is not None else None,\n",
    "                        \n",
    "                    }, \n",
    "                    ),a['img']))\n",
    "    except Exception as e:\n",
    "\n",
    "        print(f'Arquivo\"{filename}\" - Rodovia {road} - Km:{km} - Linha: {index+2} - {e}')\n",
    "        print(objects.form_data)"
   ]
  },
  {
   "cell_type": "markdown",
   "metadata": {},
   "source": [
    "Salvando itens de Inventário no sistema e imprimindo os seriais"
   ]
  },
  {
   "cell_type": "code",
   "execution_count": 26,
   "metadata": {},
   "outputs": [
    {
     "data": {
      "text/plain": [
       "(28,\n",
       " (<Reporting: [Caminhos da Serra Gaúcha]  - 2023-06-22 13:09:57.739357+00:00>,\n",
       "  [<openpyxl.drawing.image.Image at 0x7f23e75c4710>]))"
      ]
     },
     "execution_count": 26,
     "metadata": {},
     "output_type": "execute_result"
    }
   ],
   "source": [
    "len(objects),objects[0]"
   ]
  },
  {
   "cell_type": "code",
   "execution_count": 27,
   "metadata": {},
   "outputs": [
    {
     "data": {
      "application/vnd.jupyter.widget-view+json": {
       "model_id": "e61b15b3ba654a8bb89bfccdc26ee668",
       "version_major": 2,
       "version_minor": 0
      },
      "text/plain": [
       "  0%|          | 0/28 [00:00<?, ?it/s]"
      ]
     },
     "metadata": {},
     "output_type": "display_data"
    },
    {
     "name": "stdout",
     "output_type": "stream",
     "text": [
      "Searching KM on direction...\n",
      "Searching KM without direction...\n",
      "Found KM on Road 2059: ERS-122\n",
      "CSG-Inv-2023.05876\n",
      "Searching KM on direction...\n",
      "Searching KM without direction...\n",
      "Found KM on Road 2059: ERS-122\n",
      "CSG-Inv-2023.05877\n",
      "Searching KM on direction...\n",
      "Searching KM without direction...\n",
      "Found KM on Road 2059: ERS-122\n",
      "CSG-Inv-2023.05878\n",
      "Searching KM on direction...\n",
      "Searching KM without direction...\n",
      "Found KM on Road 2059: ERS-122\n",
      "CSG-Inv-2023.05879\n",
      "Searching KM on direction...\n",
      "Searching KM without direction...\n",
      "Found KM on Road 2059: ERS-122\n",
      "CSG-Inv-2023.05880\n",
      "Searching KM on direction...\n",
      "Searching KM without direction...\n",
      "Found KM on Road 2059: ERS-122\n",
      "CSG-Inv-2023.05881\n",
      "Searching KM on direction...\n",
      "Searching KM without direction...\n",
      "Found KM on Road 2059: ERS-122\n",
      "CSG-Inv-2023.05882\n",
      "Searching KM on direction...\n",
      "Searching KM without direction...\n",
      "Found KM on Road 2059: ERS-122\n",
      "CSG-Inv-2023.05883\n",
      "Searching KM on direction...\n",
      "Searching KM without direction...\n",
      "Found KM on Road 2059: ERS-122\n",
      "CSG-Inv-2023.05884\n",
      "Searching KM on direction...\n",
      "Searching KM without direction...\n",
      "Found KM on Road 2059: ERS-122\n",
      "CSG-Inv-2023.05885\n",
      "Searching KM on direction...\n",
      "Searching KM without direction...\n",
      "Found KM on Road 2059: ERS-122\n",
      "CSG-Inv-2023.05886\n",
      "Searching KM on direction...\n",
      "Searching KM without direction...\n",
      "Found KM on Road 2059: ERS-122\n",
      "CSG-Inv-2023.05887\n",
      "Searching KM on direction...\n",
      "Searching KM without direction...\n",
      "Found KM on Road 2059: ERS-122\n",
      "CSG-Inv-2023.05888\n",
      "Searching KM on direction...\n",
      "Searching KM without direction...\n",
      "Found KM on Road 2059: ERS-122\n",
      "CSG-Inv-2023.05889\n",
      "Searching KM on direction...\n",
      "Searching KM without direction...\n",
      "Found KM on Road 2059: ERS-122\n",
      "CSG-Inv-2023.05890\n",
      "Searching KM on direction...\n",
      "Searching KM without direction...\n",
      "Found KM on Road 2059: ERS-122\n",
      "CSG-Inv-2023.05891\n",
      "Searching KM on direction...\n",
      "Searching KM without direction...\n",
      "Found KM on Road 2059: ERS-122\n",
      "CSG-Inv-2023.05892\n",
      "Searching KM on direction...\n",
      "Searching KM without direction...\n",
      "Found KM on Road 2059: ERS-122\n",
      "CSG-Inv-2023.05893\n",
      "Searching KM on direction...\n",
      "Searching KM without direction...\n",
      "Found KM on Road 2059: ERS-122\n",
      "CSG-Inv-2023.05894\n",
      "Searching KM on direction...\n",
      "Searching KM without direction...\n",
      "Found KM on Road 2059: ERS-122\n",
      "CSG-Inv-2023.05895\n",
      "Searching KM on direction...\n",
      "Searching KM without direction...\n",
      "Found KM on Road 2059: ERS-122\n",
      "CSG-Inv-2023.05896\n",
      "Searching KM on direction...\n",
      "Searching KM without direction...\n",
      "Found KM on Road 2059: ERS-122\n",
      "CSG-Inv-2023.05897\n",
      "Searching KM on direction...\n",
      "Searching KM without direction...\n",
      "Found KM on Road 2059: ERS-122\n",
      "CSG-Inv-2023.05898\n",
      "Searching KM on direction...\n",
      "Searching KM without direction...\n",
      "Found KM on Road 2059: ERS-122\n",
      "CSG-Inv-2023.05899\n",
      "Searching KM on direction...\n",
      "Searching KM without direction...\n",
      "Found KM on Road 2059: ERS-122\n",
      "CSG-Inv-2023.05900\n",
      "Searching KM on direction...\n",
      "Searching KM without direction...\n",
      "Found KM on Road 2059: ERS-122\n",
      "CSG-Inv-2023.05901\n",
      "Searching KM on direction...\n",
      "Searching KM without direction...\n",
      "Found KM on Road 2059: ERS-122\n",
      "CSG-Inv-2023.05902\n",
      "Searching KM on direction...\n",
      "Searching KM without direction...\n",
      "Found KM on Road 2059: ERS-122\n",
      "CSG-Inv-2023.05903\n"
     ]
    }
   ],
   "source": [
    "for reporting, images in tqdm(objects):\n",
    "    reporting.save()\n",
    "    print(reporting.number)"
   ]
  },
  {
   "cell_type": "markdown",
   "metadata": {},
   "source": [
    "Anexando as imagens"
   ]
  },
  {
   "cell_type": "code",
   "execution_count": 28,
   "metadata": {},
   "outputs": [
    {
     "data": {
      "application/vnd.jupyter.widget-view+json": {
       "model_id": "1633abcb00594537ba1df83bc6a3cac6",
       "version_major": 2,
       "version_minor": 0
      },
      "text/plain": [
       "  0%|          | 0/28 [00:00<?, ?it/s]"
      ]
     },
     "metadata": {},
     "output_type": "display_data"
    }
   ],
   "source": [
    "for reporting, images in tqdm(objects):\n",
    "    for image in reversed(images):\n",
    "        reporting_file = ReportingFile(\n",
    "            created_by=user,\n",
    "            reporting=reporting,\n",
    "            description=image.name,\n",
    "            km=reporting.km,\n",
    "            point=reporting.point\n",
    "        )\n",
    "        reporting_file.save()\n",
    "        image_io = BytesIO(image._data())\n",
    "        im = Image.open(image_io)\n",
    "        if im.mode in (\"RGBA\", \"P\"):\n",
    "            im = im.convert(\"RGB\")\n",
    "        thumb_io = BytesIO()\n",
    "        im.save(thumb_io, format='jpeg', quality=90)\n",
    "        reporting_file.upload.save(image.name + '.jpeg', thumb_io)"
   ]
  },
  {
   "cell_type": "code",
   "execution_count": null,
   "metadata": {},
   "outputs": [],
   "source": []
  }
 ],
 "metadata": {
  "kernelspec": {
   "display_name": "Django Shell-Plus",
   "language": "python",
   "name": "django_extensions"
  },
  "language_info": {
   "codemirror_mode": {
    "name": "ipython",
    "version": 3
   },
   "file_extension": ".py",
   "mimetype": "text/x-python",
   "name": "python",
   "nbconvert_exporter": "python",
   "pygments_lexer": "ipython3",
   "version": "3.7.9"
  }
 },
 "nbformat": 4,
 "nbformat_minor": 2
}
