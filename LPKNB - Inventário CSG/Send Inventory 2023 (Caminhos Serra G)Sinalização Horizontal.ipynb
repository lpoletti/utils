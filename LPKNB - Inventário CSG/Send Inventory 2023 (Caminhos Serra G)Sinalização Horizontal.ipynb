{
 "cells": [
  {
   "cell_type": "markdown",
   "metadata": {},
   "source": [
    "# Inventário"
   ]
  },
  {
   "cell_type": "markdown",
   "metadata": {},
   "source": [
    " "
   ]
  },
  {
   "cell_type": "markdown",
   "metadata": {},
   "source": [
    "Deve-se executar as seis primeiras células para carregar funções utilizadas para rodar o script"
   ]
  },
  {
   "cell_type": "code",
   "execution_count": 1,
   "metadata": {},
   "outputs": [],
   "source": [
    "import json\n",
    "import os\n",
    "from openpyxl import load_workbook\n",
    "from datetime import timedelta\n",
    "import random\n",
    "from copy import deepcopy\n",
    "from django.contrib.gis.geos import LineString, Point\n",
    "from django.contrib.admin.utils import flatten\n",
    "import math\n",
    "import datetime\n",
    "import locale\n",
    "from tqdm.notebook import tqdm\n",
    "from PIL import Image\n",
    "from io import BytesIO\n",
    "from simple_history.utils import bulk_create_with_history\n",
    "from django.contrib.gis.geos import Point, LineString as DjangoLineString\n",
    "from helpers.histories import bulk_update_with_history\n",
    "import pytz"
   ]
  },
  {
   "cell_type": "code",
   "execution_count": 2,
   "metadata": {},
   "outputs": [],
   "source": [
    "from helpers.route_maker import dic_to_ordered_list, unequal_point_pairs"
   ]
  },
  {
   "cell_type": "code",
   "execution_count": 3,
   "metadata": {},
   "outputs": [
    {
     "name": "stderr",
     "output_type": "stream",
     "text": [
      "/home/luan/.cache/pypoetry/virtualenvs/apps-ZFymp6kh-py3.7/lib/python3.7/site-packages/geopandas/_compat.py:110: UserWarning: The Shapely GEOS version (3.10.3-CAPI-1.16.1) is incompatible with the GEOS version PyGEOS was compiled with (3.9.1-CAPI-1.14.2). Conversions between both will be slow.\n",
      "  shapely_geos_version, geos_capi_version_string\n"
     ]
    }
   ],
   "source": [
    "from django.contrib.gis.geos import Point, LineString as DjangoLineString\n",
    "from django.contrib.gis.db.models.functions import Distance\n",
    "from turfpy.misc import nearest_point_on_line\n",
    "from turfpy.measurement import length\n",
    "from geojson import LineString, loads\n",
    "from helpers.histories import bulk_update_with_history\n",
    "from tqdm.notebook import tqdm"
   ]
  },
  {
   "cell_type": "code",
   "execution_count": 4,
   "metadata": {},
   "outputs": [],
   "source": [
    "def km_to_coordinates(road, km):\n",
    "\n",
    "    road_marks = dic_to_ordered_list(road.marks)\n",
    "    selected_pair = None\n",
    "\n",
    "    for pair in unequal_point_pairs(road_marks):\n",
    "        if pair[0][\"km\"] > km and pair[1][\"km\"] < km:\n",
    "            selected_pair = pair\n",
    "            break\n",
    "        elif pair[1][\"km\"] > km and pair[0][\"km\"] < km:\n",
    "            selected_pair = pair\n",
    "            break\n",
    "        elif pair[0][\"km\"] == km:\n",
    "            return Point(pair[0][\"point\"][\"coordinates\"]), road\n",
    "        elif pair[1][\"km\"] == km:\n",
    "            return Point(pair[1][\"point\"][\"coordinates\"]), road\n",
    "\n",
    "    # Calculate total length\n",
    "    start_km = min([selected_pair[0][\"km\"], selected_pair[1][\"km\"]])\n",
    "    end_km = max([selected_pair[0][\"km\"], selected_pair[1][\"km\"]])\n",
    "    segment_mark_length = end_km - start_km\n",
    "    distance_from_min = km - start_km\n",
    "    # Check if km is decreasing\n",
    "    invert_km = selected_pair[1][\"km\"] <= selected_pair[0][\"km\"]\n",
    "\n",
    "    # Cut segment\n",
    "    start_key = min((selected_pair[0][\"index\"], selected_pair[1][\"index\"]))\n",
    "    end_key = max((selected_pair[0][\"index\"], selected_pair[1][\"index\"]))\n",
    "\n",
    "    points = []\n",
    "    for key in range(start_key, end_key + 1):\n",
    "        points.append(\n",
    "            Point(road.path[key][0], road.path[key][1], road.path[key][2])\n",
    "        )\n",
    "\n",
    "    segment = LineString(points, srid=4326)\n",
    "    # Apply km inversion correction\n",
    "    if invert_km:\n",
    "        segment_distance = (\n",
    "            1 - (distance_from_min / segment_mark_length)\n",
    "        ) * segment.length\n",
    "    else:\n",
    "        segment_distance = (\n",
    "            distance_from_min / segment_mark_length\n",
    "        ) * segment.length\n",
    "    # Find point\n",
    "    point = segment.interpolate(segment_distance)\n",
    "\n",
    "    return Point(point.x, point.y), road"
   ]
  },
  {
   "cell_type": "code",
   "execution_count": 5,
   "metadata": {},
   "outputs": [],
   "source": [
    "def check_valid_road(road, km):\n",
    "\n",
    "    road_marks = dic_to_ordered_list(road.marks)\n",
    "\n",
    "    for pair in unequal_point_pairs(road_marks):\n",
    "        if pair[0][\"km\"] >= km and pair[1][\"km\"] <= km:\n",
    "            return True\n",
    "        elif pair[1][\"km\"] >= km and pair[0][\"km\"] <= km:\n",
    "            return True\n",
    "\n",
    "    return False"
   ]
  },
  {
   "cell_type": "code",
   "execution_count": 6,
   "metadata": {},
   "outputs": [],
   "source": [
    "def get_road_coordinates(road_name, km, direction, company):\n",
    "    road_set = Road.objects.filter(\n",
    "        name__contains=road_name, direction=int(direction), company=company\n",
    "    )\n",
    "\n",
    "    # If roads in specified direction are not found, search road only\n",
    "    # by name and order then by direction\n",
    "    road_set_generic = Road.objects.filter(\n",
    "        name__contains=road_name, company=company\n",
    "    ).order_by(\"direction\")\n",
    "\n",
    "    # Check if KM range in road_set\n",
    "#     print(\"Searching KM on direction...\")\n",
    "    valid = False\n",
    "    for road in road_set:\n",
    "        if check_valid_road(road, km):\n",
    "#             print(\"Found KM on Road {}\".format(road))\n",
    "            valid = True\n",
    "            break\n",
    "\n",
    "    if not valid:\n",
    "#         print(\"Searching KM without direction...\")\n",
    "        for road in road_set_generic:\n",
    "            if check_valid_road(road, km):\n",
    "#                 print(\"Found KM on Road {}\".format(road))\n",
    "                valid = True\n",
    "                break\n",
    "\n",
    "    if not valid:\n",
    "        return Point(0, 0), None\n",
    "\n",
    "    try:\n",
    "        return km_to_coordinates(road, km)\n",
    "    except Exception:\n",
    "        return Point(0, 0), None"
   ]
  },
  {
   "cell_type": "code",
   "execution_count": 7,
   "metadata": {},
   "outputs": [],
   "source": [
    "def findIndex(flist, func):\n",
    "    for i,v in enumerate(flist):\n",
    "        if func(v): \n",
    "            return i\n",
    "    return -1"
   ]
  },
  {
   "cell_type": "code",
   "execution_count": 8,
   "metadata": {},
   "outputs": [],
   "source": [
    "def point_to_km(lng, lat, roadName):\n",
    "    point = Point(lng, lat, srid=4326)\n",
    "    roads = Road.objects.filter(company=company,name__icontains=roadName).annotate(distance=Distance(point, 'path')).order_by('distance')\n",
    "    road = roads[0]\n",
    "    path = loads(road.path.geojson)\n",
    "    point_geojson = loads(point.geojson)\n",
    "    road_marks = list(road.marks.values())\n",
    "    snap_point = nearest_point_on_line(path, point_geojson)\n",
    "    \n",
    "\n",
    "    road_markers = sorted([a for a in road_marks if 'index' in a or ('index' in a and a['index'] == 0)], key=lambda x: int(x['key']))\n",
    "#     road_markers = sorted([a for a in road_marks if a['index'] or a['index'] == 0], key=lambda x: int(x['key']))\n",
    "    rm_index = findIndex(road_markers, lambda x: x['index'] > snap_point['properties']['index'])\n",
    "    \n",
    "    if (rm_index == -1):\n",
    "        rm_index = len(road_markers) - 1;\n",
    "    \n",
    "    km_marker_start = road_markers[rm_index - 1]\n",
    "    km_marker_end = road_markers[rm_index]\n",
    "    \n",
    "    if km_marker_start['index'] == road_markers[-1]['index']: \n",
    "        snap = road_markers[-1]\n",
    "        km = snap['km']\n",
    "    elif km_marker_end['index'] == road_markers[0]['index']:\n",
    "        snap = road_markers[0]\n",
    "        km = snap['km']\n",
    "    else:\n",
    "        test = path['coordinates'][km_marker_start['index']:km_marker_end['index'] + 1]\n",
    "        marker_path = LineString(test)\n",
    "        snap = nearest_point_on_line(marker_path, point_geojson)        \n",
    "        ls_length = length(marker_path, units=\"km\")\n",
    "        km = ((snap['properties']['location'] / ls_length)        \n",
    "            * (km_marker_end['km'] - km_marker_start['km'])\n",
    "            + km_marker_start['km'])\n",
    "    \n",
    "    return road, road.name, point, round(km, 3)"
   ]
  },
  {
   "cell_type": "code",
   "execution_count": 9,
   "metadata": {},
   "outputs": [],
   "source": [
    "from collections import defaultdict\n",
    "from django.db.models.signals import *\n",
    "\n",
    "\n",
    "class DisableSignals(object):\n",
    "    def __init__(self, disabled_signals=None):\n",
    "        self.stashed_signals = defaultdict(list)\n",
    "        self.disabled_signals = disabled_signals or [\n",
    "            pre_init, post_init,\n",
    "            pre_save, post_save,\n",
    "            pre_delete, post_delete,\n",
    "            pre_migrate, post_migrate,\n",
    "        ]\n",
    "\n",
    "    def __enter__(self):\n",
    "        for signal in self.disabled_signals:\n",
    "            self.disconnect(signal)\n",
    "\n",
    "    def __exit__(self, exc_type, exc_val, exc_tb):\n",
    "        for signal in list(self.stashed_signals):\n",
    "            self.reconnect(signal)\n",
    "\n",
    "    def disconnect(self, signal):\n",
    "        self.stashed_signals[signal] = signal.receivers\n",
    "        signal.receivers = []\n",
    "\n",
    "    def reconnect(self, signal):\n",
    "        signal.receivers = self.stashed_signals.get(signal, [])\n",
    "        del self.stashed_signals[signal]"
   ]
  },
  {
   "cell_type": "code",
   "execution_count": 10,
   "metadata": {},
   "outputs": [],
   "source": [
    "def get_connected_reference(company, resource, key, value):\n",
    "    select_options = company.custom_options[resource]['fields'][key]['selectOptions']['options']\n",
    "    return next(a['value'] for a in select_options if a['name'].lower() == value.lower())"
   ]
  },
  {
   "cell_type": "code",
   "execution_count": 11,
   "metadata": {},
   "outputs": [],
   "source": [
    "def get_value(field, occ, value):\n",
    "    values = occ.form_fields['fields']\n",
    "    item_translation = flatten([item['selectOptions']['options'] for item in values if item['displayName']==field])\n",
    "#     print(item_translation)\n",
    "\n",
    "    final_translation = {item['name']: item['value'] for item in item_translation}\n",
    "#     print(final_translation)\n",
    "    return final_translation[value]"
   ]
  },
  {
   "cell_type": "markdown",
   "metadata": {},
   "source": [
    " Verificando se está no ambiente de produção"
   ]
  },
  {
   "cell_type": "code",
   "execution_count": 12,
   "metadata": {},
   "outputs": [
    {
     "name": "stdout",
     "output_type": "stream",
     "text": [
      "cat: .env: No such file or directory\r\n"
     ]
    }
   ],
   "source": [
    "!cat .env"
   ]
  },
  {
   "cell_type": "markdown",
   "metadata": {},
   "source": [
    "Escolhendo nome do arquivo Excel para carregar o Inventário"
   ]
  },
  {
   "cell_type": "code",
   "execution_count": 15,
   "metadata": {},
   "outputs": [],
   "source": [
    "filename='Sinalização Horizontal - ERS 446 - CORRIGIDO'"
   ]
  },
  {
   "cell_type": "markdown",
   "metadata": {},
   "source": [
    "Escolhendo a aba da planilha do Excel"
   ]
  },
  {
   "cell_type": "code",
   "execution_count": 16,
   "metadata": {},
   "outputs": [
    {
     "name": "stderr",
     "output_type": "stream",
     "text": [
      "/home/luan/.cache/pypoetry/virtualenvs/apps-ZFymp6kh-py3.7/lib/python3.7/site-packages/openpyxl/worksheet/_reader.py:312: UserWarning: Data Validation extension is not supported and will be removed\n",
      "  warn(msg)\n"
     ]
    }
   ],
   "source": [
    "wb = load_workbook(filename + '.xlsx')\n",
    "sheetname = wb.sheetnames[1]\n",
    "ws = wb[sheetname]"
   ]
  },
  {
   "cell_type": "markdown",
   "metadata": {},
   "source": [
    "Testando planilha carregada do Excel"
   ]
  },
  {
   "cell_type": "code",
   "execution_count": 17,
   "metadata": {},
   "outputs": [
    {
     "name": "stdout",
     "output_type": "stream",
     "text": [
      "km\n"
     ]
    }
   ],
   "source": [
    "print(ws['A1'].value)"
   ]
  },
  {
   "cell_type": "markdown",
   "metadata": {},
   "source": [
    "Carregando os valores no script"
   ]
  },
  {
   "cell_type": "code",
   "execution_count": 18,
   "metadata": {},
   "outputs": [],
   "source": [
    "header = []\n",
    "values = []\n",
    "\n",
    "for index, row in enumerate(ws.rows):\n",
    "    if index == 0:\n",
    "        header = list([a.value for a in row])\n",
    "        continue\n",
    "    obj = {}\n",
    "    for col_index, cell in enumerate(row):\n",
    "        value = cell.value\n",
    "        obj[header[col_index]] = value\n",
    "    if obj['Rodovia'] is not None:           \n",
    "   \n",
    "        obj['img'] = [a for a in ws._images if a.anchor._from.row == index]\n",
    "\n",
    "        try:\n",
    "            for a in obj['img']:\n",
    "                a.name = 'CSG'\n",
    "#             obj['img'][0].name='Verso'\n",
    "        except:\n",
    "            pass\n",
    "\n",
    "        \n",
    "    values.append(obj)"
   ]
  },
  {
   "cell_type": "markdown",
   "metadata": {},
   "source": [
    "Teste de valores importados da planilha"
   ]
  },
  {
   "cell_type": "code",
   "execution_count": 19,
   "metadata": {
    "scrolled": true
   },
   "outputs": [
    {
     "data": {
      "text/plain": [
       "(198, None)"
      ]
     },
     "execution_count": 19,
     "metadata": {},
     "output_type": "execute_result"
    }
   ],
   "source": [
    "len(values),values[41]['Longitude_Inicial']"
   ]
  },
  {
   "cell_type": "code",
   "execution_count": 62,
   "metadata": {},
   "outputs": [],
   "source": [
    "# for a in values:\n",
    "#     a['Latitude_Inicial']=str(a['Latitude_Inicial'])[:3]+'.'+str(a['Latitude_Inicial'])[3:]\n",
    "#     a['Longitude_Inicial']=str(a['Longitude_Inicial'])[:3]+'.'+str(a['Longitude_Inicial'])[3:]"
   ]
  },
  {
   "cell_type": "markdown",
   "metadata": {},
   "source": [
    "Definindo valores da importação"
   ]
  },
  {
   "cell_type": "code",
   "execution_count": 20,
   "metadata": {},
   "outputs": [
    {
     "data": {
      "text/plain": [
       "(<Company: 4edb7778-e350-4e77-8e1e-de5f87b1da7f: Caminhos da Serra Gaúcha>,\n",
       " <OccurrenceType: Sinalização Horizontal - ['Caminhos da Serra Gaúcha']>,\n",
       " <Firm: [4edb7778-e350-4e77-8e1e-de5f87b1da7f: Caminhos da Serra Gaúcha] 0edd2ecc-8d5e-4444-898b-0069a3e9c354: Cadastro incial>)"
      ]
     },
     "execution_count": 20,
     "metadata": {},
     "output_type": "execute_result"
    }
   ],
   "source": [
    "company = Company.objects.get(name='Caminhos da Serra Gaúcha')\n",
    "\n",
    "#Classe Sinalização Horizontal\n",
    "occurrence_type=OccurrenceType.objects.get(uuid='9b1718bc-6046-4d7a-996a-4cae53d320e0')\n",
    "\n",
    "user=User.objects.get(username='rlcs')\n",
    "status=ServiceOrderActionStatus.objects.get(companies=company, name='Identificado')\n",
    "# step=ApprovalStep.objects.get(approval_flow__company=company, name='Em Elaboração')\n",
    "firm=Firm.objects.get(uuid='0edd2ecc-8d5e-4444-898b-0069a3e9c354')\n",
    "company,occurrence_type,firm"
   ]
  },
  {
   "cell_type": "code",
   "execution_count": 29,
   "metadata": {},
   "outputs": [
    {
     "data": {
      "text/plain": [
       "'-51467813'"
      ]
     },
     "execution_count": 29,
     "metadata": {},
     "output_type": "execute_result"
    }
   ],
   "source": [
    "values[5]['Longitude_Inicial']"
   ]
  },
  {
   "cell_type": "code",
   "execution_count": 21,
   "metadata": {},
   "outputs": [
    {
     "name": "stdout",
     "output_type": "stream",
     "text": [
      "Km inicial  |  km  |  km final\n"
     ]
    },
    {
     "data": {
      "application/vnd.jupyter.widget-view+json": {
       "model_id": "a7bbedd1b2fa44118f15722ac0ad3eaa",
       "version_major": 2,
       "version_minor": 0
      },
      "text/plain": [
       "  0%|          | 0/198 [00:00<?, ?it/s]"
      ]
     },
     "metadata": {},
     "output_type": "display_data"
    }
   ],
   "source": [
    "print('Km inicial',' | ','km',' | ','km final')\n",
    "for i,a in enumerate(tqdm(values)):\n",
    "    a['Longitude_Inicial']=str(a['Longitude_Inicial']).replace(',','').replace('.','')\n",
    "    a['Latitude_Inicial']=str(a['Latitude_Inicial']).replace(',','').replace('.','')"
   ]
  },
  {
   "cell_type": "markdown",
   "metadata": {},
   "source": [
    "Criando itens de Inventário"
   ]
  },
  {
   "cell_type": "code",
   "execution_count": 30,
   "metadata": {},
   "outputs": [
    {
     "data": {
      "application/vnd.jupyter.widget-view+json": {
       "model_id": "bd87cbd0c6084c7c9d944e1862dca8f2",
       "version_major": 2,
       "version_minor": 0
      },
      "text/plain": [
       "  0%|          | 0/198 [00:00<?, ?it/s]"
      ]
     },
     "metadata": {},
     "output_type": "display_data"
    },
    {
     "ename": "ValueError",
     "evalue": "could not convert string to float: 'Non.e'",
     "output_type": "error",
     "traceback": [
      "\u001b[0;31m---------------------------------------------------------------------------\u001b[0m",
      "\u001b[0;31mValueError\u001b[0m                                Traceback (most recent call last)",
      "\u001b[0;32m/tmp/ipykernel_71532/232577905.py\u001b[0m in \u001b[0;36m<module>\u001b[0;34m\u001b[0m\n\u001b[1;32m      7\u001b[0m     \u001b[0mlat\u001b[0m\u001b[0;34m=\u001b[0m\u001b[0mstr\u001b[0m\u001b[0;34m(\u001b[0m\u001b[0ma\u001b[0m\u001b[0;34m[\u001b[0m\u001b[0;34m'Latitude_Inicial'\u001b[0m\u001b[0;34m]\u001b[0m\u001b[0;34m)\u001b[0m\u001b[0;34m[\u001b[0m\u001b[0;34m:\u001b[0m\u001b[0;36m3\u001b[0m\u001b[0;34m]\u001b[0m\u001b[0;34m+\u001b[0m\u001b[0;34m'.'\u001b[0m\u001b[0;34m+\u001b[0m\u001b[0mstr\u001b[0m\u001b[0;34m(\u001b[0m\u001b[0ma\u001b[0m\u001b[0;34m[\u001b[0m\u001b[0;34m'Latitude_Inicial'\u001b[0m\u001b[0;34m]\u001b[0m\u001b[0;34m)\u001b[0m\u001b[0;34m[\u001b[0m\u001b[0;36m3\u001b[0m\u001b[0;34m:\u001b[0m\u001b[0;34m]\u001b[0m\u001b[0;34m\u001b[0m\u001b[0;34m\u001b[0m\u001b[0m\n\u001b[1;32m      8\u001b[0m     \u001b[0mpista\u001b[0m \u001b[0;34m=\u001b[0m \u001b[0;34m'Pista Dupla'\u001b[0m \u001b[0;32mif\u001b[0m \u001b[0ma\u001b[0m\u001b[0;34m[\u001b[0m\u001b[0;34m'Pista'\u001b[0m\u001b[0;34m]\u001b[0m \u001b[0;34m==\u001b[0m \u001b[0;34m'DUPLA'\u001b[0m \u001b[0;32melse\u001b[0m \u001b[0;34m'Pista Simples'\u001b[0m\u001b[0;34m\u001b[0m\u001b[0;34m\u001b[0m\u001b[0m\n\u001b[0;32m----> 9\u001b[0;31m     \u001b[0mroad\u001b[0m\u001b[0;34m,\u001b[0m\u001b[0m_\u001b[0m\u001b[0;34m,\u001b[0m\u001b[0mpoint\u001b[0m\u001b[0;34m,\u001b[0m\u001b[0mkm\u001b[0m \u001b[0;34m=\u001b[0m\u001b[0mpoint_to_km\u001b[0m\u001b[0;34m(\u001b[0m\u001b[0mfloat\u001b[0m\u001b[0;34m(\u001b[0m\u001b[0mlong\u001b[0m\u001b[0;34m)\u001b[0m\u001b[0;34m,\u001b[0m\u001b[0mfloat\u001b[0m\u001b[0;34m(\u001b[0m\u001b[0mlat\u001b[0m\u001b[0;34m)\u001b[0m\u001b[0;34m,\u001b[0m\u001b[0;34m'446'\u001b[0m\u001b[0;34m)\u001b[0m\u001b[0;34m\u001b[0m\u001b[0;34m\u001b[0m\u001b[0m\n\u001b[0m\u001b[1;32m     10\u001b[0m     \u001b[0;32mif\u001b[0m \u001b[0ma\u001b[0m\u001b[0;34m[\u001b[0m\u001b[0;34m'Longitude_Final'\u001b[0m\u001b[0;34m]\u001b[0m \u001b[0;32mand\u001b[0m \u001b[0ma\u001b[0m\u001b[0;34m[\u001b[0m\u001b[0;34m'Latitude_Final'\u001b[0m\u001b[0;34m]\u001b[0m\u001b[0;34m:\u001b[0m\u001b[0;34m\u001b[0m\u001b[0;34m\u001b[0m\u001b[0m\n\u001b[1;32m     11\u001b[0m         \u001b[0mlong_end\u001b[0m\u001b[0;34m=\u001b[0m\u001b[0mstr\u001b[0m\u001b[0;34m(\u001b[0m\u001b[0ma\u001b[0m\u001b[0;34m[\u001b[0m\u001b[0;34m'Longitude_Inicial'\u001b[0m\u001b[0;34m]\u001b[0m\u001b[0;34m)\u001b[0m\u001b[0;34m[\u001b[0m\u001b[0;34m:\u001b[0m\u001b[0;36m3\u001b[0m\u001b[0;34m]\u001b[0m\u001b[0;34m+\u001b[0m\u001b[0;34m'.'\u001b[0m\u001b[0;34m+\u001b[0m\u001b[0mstr\u001b[0m\u001b[0;34m(\u001b[0m\u001b[0ma\u001b[0m\u001b[0;34m[\u001b[0m\u001b[0;34m'Longitude_Inicial'\u001b[0m\u001b[0;34m]\u001b[0m\u001b[0;34m)\u001b[0m\u001b[0;34m[\u001b[0m\u001b[0;36m3\u001b[0m\u001b[0;34m:\u001b[0m\u001b[0;34m]\u001b[0m\u001b[0;34m\u001b[0m\u001b[0;34m\u001b[0m\u001b[0m\n",
      "\u001b[0;31mValueError\u001b[0m: could not convert string to float: 'Non.e'"
     ]
    }
   ],
   "source": [
    "objects=[]\n",
    "\n",
    "\n",
    "for index, a in enumerate(tqdm(values)):\n",
    "\n",
    "    long=str(a['Longitude_Inicial'])[:3]+'.'+str(a['Longitude_Inicial'])[3:]\n",
    "    lat=str(a['Latitude_Inicial'])[:3]+'.'+str(a['Latitude_Inicial'])[3:]\n",
    "    pista = 'Pista Dupla' if a['Pista'] == 'DUPLA' else 'Pista Simples'\n",
    "    road,_,point,km =point_to_km(float(long),float(lat),'446')\n",
    "    if a['Longitude_Final'] and a['Latitude_Final']:\n",
    "        long_end=str(a['Longitude_Inicial'])[:3]+'.'+str(a['Longitude_Inicial'])[3:]\n",
    "        lat_end=str(a['Latitude_Inicial'])[:3]+'.'+str(a['Latitude_Inicial'])[3:]\n",
    "        _,_,_,end_km =point_to_km(float(long_end),float(lat_end),road)\n",
    "    if '446' not in road.name:\n",
    "        print(f\"Rodovia {road} - Km:{km} - Linha: {index+2}\")\n",
    "    try:\n",
    "        \n",
    "        objects.append((Reporting(\n",
    "                    company=company,\n",
    "                    occurrence_type=occurrence_type,\n",
    "                    lane=str(get_connected_reference(company, 'reporting', 'lane', pista)),\n",
    "                    road=road,\n",
    "                    road_name=road.name,\n",
    "                    direction=str(get_connected_reference(company, 'reporting', 'direction', a['Sentido'])),\n",
    "                    created_by=user,\n",
    "#                     found_at=datetime.datetime('2023-05-08'),\n",
    "                    km=float(km),\n",
    "                    end_km=float(end_km) if a['Longitude_Final'] and a['Latitude_Final'] else None,\n",
    "                    point=point,\n",
    "                    firm=firm,\n",
    "                    status=status,\n",
    "                    form_data={\n",
    "                        'extension': a['Extensão\\n(m)'],\n",
    "                        'bd': True if a['Largura_BD'] is not None else False,\n",
    "                        'largurabd': a['Largura_BD'] if a['Largura_BD'] is not None else None,\n",
    "                        'corbd': a['Cor_BD'] if a['Cor_BD'] is not None else None,\n",
    "                        'm1bd': a['BD-M1'] if a['BD-M1'] is not None else None,\n",
    "                        'm2bd': a['BD-M2'] if a['BD-M2'] is not None else None,\n",
    "                        'm3bd': a['BD-M3'] if a['BD-M3'] is not None else None,\n",
    "                        'm4bd': a['BD-M4'] if a['BD-M4'] is not None else None,\n",
    "                        'm5bd': a['BD-M5'] if a['BD-M5'] is not None else None,\n",
    "                        'm6bd': a['BD-M6'] if a['BD-M6'] is not None else None,\n",
    "                        'm7bd': a['BD-M7'] if a['BD-M7'] is not None else None,\n",
    "                        'm8bd': a['BD-M8'] if a['BD-M8'] is not None else None,\n",
    "                        'm9bd': a['BD-M9'] if a['BD-M9'] is not None else None,\n",
    "                        'm10bd': a['BD-M10'] if a['BD-M10'] is not None else None,\n",
    "                        'mediabd': a['Média_BD'] if a['Média_BD'] is not None else None,\n",
    "                        'e1': True if a['Largura_E_1'] is not None else False,\n",
    "                        'largurae1': a['Largura_E_1'] if a['Largura_E_1'] is not None else None,\n",
    "                        'core1': a['Cor_E_1'] if a['Cor_E_1'] is not None else None,\n",
    "                        'm1e1': a['E_1-M_1'] if a['E_1-M_1'] is not None else None,\n",
    "                        'm2e1': a['E_1-M_2'] if a['E_1-M_2'] is not None else None,\n",
    "                        'm3e1': a['E_1-M_3'] if a['E_1-M_3'] is not None else None,\n",
    "                        'm4e1': a['E_1-M_4'] if a['E_1-M_4'] is not None else None,\n",
    "                        'm5e1': a['E_1-M_5'] if a['E_1-M_5'] is not None else None,\n",
    "                        'm6e1': a['E_1-M_6'] if a['E_1-M_6'] is not None else None,\n",
    "                        'm7e1': a['E_1-M_7'] if a['E_1-M_7'] is not None else None,\n",
    "                        'm8e1': a['E_1-M_8'] if a['E_1-M_8'] is not None else None,\n",
    "                        'm9e1': a['E_1-M_9'] if a['E_1-M_9'] is not None else None,\n",
    "                        'm10e1': a['E_1-M_10'] if a['E_1-M_10'] is not None else None,\n",
    "                        'mediae1': a['Média_E_1'] if a['Média_E_1'] is not None else None,\n",
    "                        'e2': True if a['Largura_E_2'] is not None else False,\n",
    "                        'largurae2': a['Largura_E_2'] if a['Largura_E_2'] is not None else None,\n",
    "                        'core2': a['Cor_E_2'] if a['Cor_E_2'] is not None else None,\n",
    "                        'm1e2': a['E_2-M_1'] if a['E_2-M_1'] is not None else None,\n",
    "                        'm2e2': a['E_2-M_2'] if a['E_2-M_2'] is not None else None,\n",
    "                        'm3e2': a['E_2-M_3'] if a['E_2-M_3'] is not None else None,\n",
    "                        'm4e2': a['E_2-M_4'] if a['E_2-M_4'] is not None else None,\n",
    "                        'm5e2': a['E_2-M_5'] if a['E_2-M_5'] is not None else None,\n",
    "                        'm6e2': a['E_2-M_6'] if a['E_2-M_6'] is not None else None,\n",
    "                        'm7e2': a['E_2-M_7'] if a['E_2-M_7'] is not None else None,\n",
    "                        'm8e2': a['E_2-M_8'] if a['E_2-M_8'] is not None else None,\n",
    "                        'm9e2': a['E_2-M_9'] if a['E_2-M_9'] is not None else None,\n",
    "                        'm10e2': a['E_2-M_10'] if a['E_2-M_10'] is not None else None,\n",
    "                        'mediae2': a['Média_E_2'] if a['Média_E_2'] is not None else None,\n",
    "                        'be':  True if a['Largura_BE'] is not None else False,\n",
    "                        'largurabe': a['Largura_BE'] if a['Largura_BE'] is not None else None,\n",
    "                        'corbe': a['Cor_BE'] if a['Cor_BE'] is not None else None,\n",
    "                        'm1be': a['BE-M1'] if a['BE-M1'] is not None else None,\n",
    "                        'm2be': a['BE-M2'] if a['BE-M2'] is not None else None,\n",
    "                        'm3be': a['BE-M3'] if a['BE-M3'] is not None else None,\n",
    "                        'm4be': a['BE-M4'] if a['BE-M4'] is not None else None,\n",
    "                        'm5be': a['BE-M5'] if a['BE-M5'] is not None else None,\n",
    "                        'm6be': a['BE-M6'] if a['BE-M6'] is not None else None,\n",
    "                        'm7be': a['BE-M7'] if a['BE-M7'] is not None else None,\n",
    "                        'm8be': a['BE-M8'] if a['BE-M8'] is not None else None,\n",
    "                        'm9be': a['BE-M9'] if a['BE-M9'] is not None else None,\n",
    "                        'm10be': a['BE-M10'] if a['BE-M10'] is not None else None,\n",
    "                        'mediabe': a['Média_BE'] if a['Média_BE'] is not None else None,\n",
    "                        \n",
    "                    }, \n",
    "                    ),a['img']))\n",
    "    except Exception as e:\n",
    "\n",
    "        print(f'Arquivo\"{filename}\" - Rodovia {road} - Km:{km} - Linha: {index+2} - {e}')\n",
    "        print(objects.form_data)"
   ]
  },
  {
   "cell_type": "markdown",
   "metadata": {},
   "source": [
    "Salvando itens de Inventário no sistema e imprimindo os seriais"
   ]
  },
  {
   "cell_type": "code",
   "execution_count": 32,
   "metadata": {},
   "outputs": [
    {
     "data": {
      "text/plain": [
       "(7,\n",
       " {'_state': <django.db.models.base.ModelState at 0x7f5cc6485e90>,\n",
       "  'uuid': UUID('b4ffc689-5769-41b0-9b82-389aa3cb7648'),\n",
       "  'number': '',\n",
       "  'company_id': UUID('4edb7778-e350-4e77-8e1e-de5f87b1da7f'),\n",
       "  'road_name': 'ERS-446',\n",
       "  'road_id': 2061,\n",
       "  'km': 13.516,\n",
       "  'end_km': None,\n",
       "  'km_reference': None,\n",
       "  'project_km': 0,\n",
       "  'project_end_km': None,\n",
       "  'point': <Point object at 0x7f5cc65b90a0>,\n",
       "  'direction': '0',\n",
       "  'lane': '2',\n",
       "  'track': None,\n",
       "  'branch': None,\n",
       "  'address': {},\n",
       "  'created_by_id': UUID('508a66f3-3f58-4c4e-bc9a-fbba6078c02d'),\n",
       "  'firm_id': UUID('0edd2ecc-8d5e-4444-898b-0069a3e9c354'),\n",
       "  'occurrence_type_id': UUID('9b1718bc-6046-4d7a-996a-4cae53d320e0'),\n",
       "  'form_data': {'extension': None,\n",
       "   'bd': True,\n",
       "   'largurabd': 0.15,\n",
       "   'corbd': 'Branca',\n",
       "   'm1bd': 0,\n",
       "   'm2bd': 0,\n",
       "   'm3bd': 0,\n",
       "   'm4bd': 0,\n",
       "   'm5bd': 0,\n",
       "   'm6bd': 0,\n",
       "   'm7bd': 0,\n",
       "   'm8bd': 0,\n",
       "   'm9bd': 0,\n",
       "   'm10bd': 0,\n",
       "   'mediabd': 0,\n",
       "   'e1': True,\n",
       "   'largurae1': 0.13,\n",
       "   'core1': 'Amarela',\n",
       "   'm1e1': 26,\n",
       "   'm2e1': 6,\n",
       "   'm3e1': 27,\n",
       "   'm4e1': 32,\n",
       "   'm5e1': 55,\n",
       "   'm6e1': 34,\n",
       "   'm7e1': 36,\n",
       "   'm8e1': 29,\n",
       "   'm9e1': 31,\n",
       "   'm10e1': 28,\n",
       "   'mediae1': 30.375,\n",
       "   'e2': True,\n",
       "   'largurae2': 0.13,\n",
       "   'core2': 'Amarela',\n",
       "   'm1e2': 0,\n",
       "   'm2e2': 0,\n",
       "   'm3e2': 0,\n",
       "   'm4e2': 0,\n",
       "   'm5e2': 0,\n",
       "   'm6e2': 0,\n",
       "   'm7e2': 0,\n",
       "   'm8e2': 0,\n",
       "   'm9e2': 0,\n",
       "   'm10e2': 0,\n",
       "   'mediae2': 0,\n",
       "   'be': True,\n",
       "   'largurabe': 0.15,\n",
       "   'corbe': 'Branca',\n",
       "   'm1be': 18,\n",
       "   'm2be': 17,\n",
       "   'm3be': 10,\n",
       "   'm4be': 11,\n",
       "   'm5be': 9,\n",
       "   'm6be': 5,\n",
       "   'm7be': 8,\n",
       "   'm8be': 13,\n",
       "   'm9be': 13,\n",
       "   'm10be': 20,\n",
       "   'mediabe': 12.375},\n",
       "  'form_metadata': {},\n",
       "  'executed_at': None,\n",
       "  'created_at': None,\n",
       "  'updated_at': None,\n",
       "  'found_at': datetime.datetime(2023, 7, 26, 15, 50, 39, 465960, tzinfo=<UTC>),\n",
       "  'due_at': None,\n",
       "  'status_id': UUID('c4b0df55-dc0e-47ba-83e7-86080047a8d5'),\n",
       "  'job_id': None,\n",
       "  'parent_id': None,\n",
       "  'active_inspection_id': None,\n",
       "  'due_at_manually_specified': False,\n",
       "  'end_km_manually_specified': False,\n",
       "  'project_end_km_manually_specified': False,\n",
       "  'editable': True,\n",
       "  'approval_step_id': None,\n",
       "  'keywords': '',\n",
       "  'lot': None,\n",
       "  'technical_opinion': None,\n",
       "  'construction_id': None,\n",
       "  'pdf_import_id': None,\n",
       "  '_fieldsignals_originals': {(140036889873296,\n",
       "    140036927935264): {'uuid': UUID('b4ffc689-5769-41b0-9b82-389aa3cb7648'), 'number': '', 'company': UUID('4edb7778-e350-4e77-8e1e-de5f87b1da7f'), 'road_name': 'ERS-446', 'road': 2061, 'km': 13.516, 'project_km': 0.0, 'point': <Point object at 0x7f5cc74d3490>, 'direction': '0', 'lane': '2', 'address': {}, 'created_by': UUID('508a66f3-3f58-4c4e-bc9a-fbba6078c02d'), 'firm': UUID('0edd2ecc-8d5e-4444-898b-0069a3e9c354'), 'occurrence_type': UUID('9b1718bc-6046-4d7a-996a-4cae53d320e0'), 'form_data': {'extension': None,\n",
       "     'bd': True,\n",
       "     'largurabd': 0.15,\n",
       "     'corbd': 'Branca',\n",
       "     'm1bd': 0,\n",
       "     'm2bd': 0,\n",
       "     'm3bd': 0,\n",
       "     'm4bd': 0,\n",
       "     'm5bd': 0,\n",
       "     'm6bd': 0,\n",
       "     'm7bd': 0,\n",
       "     'm8bd': 0,\n",
       "     'm9bd': 0,\n",
       "     'm10bd': 0,\n",
       "     'mediabd': 0,\n",
       "     'e1': True,\n",
       "     'largurae1': 0.13,\n",
       "     'core1': 'Amarela',\n",
       "     'm1e1': 26,\n",
       "     'm2e1': 6,\n",
       "     'm3e1': 27,\n",
       "     'm4e1': 32,\n",
       "     'm5e1': 55,\n",
       "     'm6e1': 34,\n",
       "     'm7e1': 36,\n",
       "     'm8e1': 29,\n",
       "     'm9e1': 31,\n",
       "     'm10e1': 28,\n",
       "     'mediae1': 30.375,\n",
       "     'e2': True,\n",
       "     'largurae2': 0.13,\n",
       "     'core2': 'Amarela',\n",
       "     'm1e2': 0,\n",
       "     'm2e2': 0,\n",
       "     'm3e2': 0,\n",
       "     'm4e2': 0,\n",
       "     'm5e2': 0,\n",
       "     'm6e2': 0,\n",
       "     'm7e2': 0,\n",
       "     'm8e2': 0,\n",
       "     'm9e2': 0,\n",
       "     'm10e2': 0,\n",
       "     'mediae2': 0,\n",
       "     'be': True,\n",
       "     'largurabe': 0.15,\n",
       "     'corbe': 'Branca',\n",
       "     'm1be': 18,\n",
       "     'm2be': 17,\n",
       "     'm3be': 10,\n",
       "     'm4be': 11,\n",
       "     'm5be': 9,\n",
       "     'm6be': 5,\n",
       "     'm7be': 8,\n",
       "     'm8be': 13,\n",
       "     'm9be': 13,\n",
       "     'm10be': 20,\n",
       "     'mediabe': 12.375}, 'form_metadata': {}, 'found_at': datetime.datetime(2023, 7, 26, 15, 50, 39, 465960, tzinfo=<UTC>), 'status': UUID('c4b0df55-dc0e-47ba-83e7-86080047a8d5'), 'due_at_manually_specified': False, 'end_km_manually_specified': False, 'project_end_km_manually_specified': False, 'editable': True, 'keywords': ''},\n",
       "   (140036889873168,\n",
       "    140036596747872): {'uuid': UUID('b4ffc689-5769-41b0-9b82-389aa3cb7648'), 'number': '', 'company': UUID('4edb7778-e350-4e77-8e1e-de5f87b1da7f'), 'road_name': 'ERS-446', 'road': 2061, 'km': 13.516, 'project_km': 0.0, 'point': <Point object at 0x7f5cc65b9370>, 'direction': '0', 'lane': '2', 'address': {}, 'created_by': UUID('508a66f3-3f58-4c4e-bc9a-fbba6078c02d'), 'firm': UUID('0edd2ecc-8d5e-4444-898b-0069a3e9c354'), 'occurrence_type': UUID('9b1718bc-6046-4d7a-996a-4cae53d320e0'), 'form_data': {'extension': None,\n",
       "     'bd': True,\n",
       "     'largurabd': 0.15,\n",
       "     'corbd': 'Branca',\n",
       "     'm1bd': 0,\n",
       "     'm2bd': 0,\n",
       "     'm3bd': 0,\n",
       "     'm4bd': 0,\n",
       "     'm5bd': 0,\n",
       "     'm6bd': 0,\n",
       "     'm7bd': 0,\n",
       "     'm8bd': 0,\n",
       "     'm9bd': 0,\n",
       "     'm10bd': 0,\n",
       "     'mediabd': 0,\n",
       "     'e1': True,\n",
       "     'largurae1': 0.13,\n",
       "     'core1': 'Amarela',\n",
       "     'm1e1': 26,\n",
       "     'm2e1': 6,\n",
       "     'm3e1': 27,\n",
       "     'm4e1': 32,\n",
       "     'm5e1': 55,\n",
       "     'm6e1': 34,\n",
       "     'm7e1': 36,\n",
       "     'm8e1': 29,\n",
       "     'm9e1': 31,\n",
       "     'm10e1': 28,\n",
       "     'mediae1': 30.375,\n",
       "     'e2': True,\n",
       "     'largurae2': 0.13,\n",
       "     'core2': 'Amarela',\n",
       "     'm1e2': 0,\n",
       "     'm2e2': 0,\n",
       "     'm3e2': 0,\n",
       "     'm4e2': 0,\n",
       "     'm5e2': 0,\n",
       "     'm6e2': 0,\n",
       "     'm7e2': 0,\n",
       "     'm8e2': 0,\n",
       "     'm9e2': 0,\n",
       "     'm10e2': 0,\n",
       "     'mediae2': 0,\n",
       "     'be': True,\n",
       "     'largurabe': 0.15,\n",
       "     'corbe': 'Branca',\n",
       "     'm1be': 18,\n",
       "     'm2be': 17,\n",
       "     'm3be': 10,\n",
       "     'm4be': 11,\n",
       "     'm5be': 9,\n",
       "     'm6be': 5,\n",
       "     'm7be': 8,\n",
       "     'm8be': 13,\n",
       "     'm9be': 13,\n",
       "     'm10be': 20,\n",
       "     'mediabe': 12.375}, 'form_metadata': {}, 'found_at': datetime.datetime(2023, 7, 26, 15, 50, 39, 465960, tzinfo=<UTC>), 'status': UUID('c4b0df55-dc0e-47ba-83e7-86080047a8d5'), 'due_at_manually_specified': False, 'end_km_manually_specified': False, 'project_end_km_manually_specified': False, 'editable': True, 'keywords': ''}}})"
      ]
     },
     "execution_count": 32,
     "metadata": {},
     "output_type": "execute_result"
    }
   ],
   "source": [
    "len(objects),objects[5][0].__dict__"
   ]
  },
  {
   "cell_type": "code",
   "execution_count": 33,
   "metadata": {},
   "outputs": [
    {
     "data": {
      "application/vnd.jupyter.widget-view+json": {
       "model_id": "9e5d1a620ea143b29ab6214463896911",
       "version_major": 2,
       "version_minor": 0
      },
      "text/plain": [
       "  0%|          | 0/7 [00:00<?, ?it/s]"
      ]
     },
     "metadata": {},
     "output_type": "display_data"
    },
    {
     "name": "stdout",
     "output_type": "stream",
     "text": [
      "Searching KM on direction...\n",
      "Searching KM without direction...\n",
      "Found KM on Road 2061: ERS-446\n",
      "CSG-Inv-2023.24879\n",
      "Searching KM on direction...\n",
      "Searching KM without direction...\n",
      "Found KM on Road 2061: ERS-446\n",
      "CSG-Inv-2023.24880\n",
      "Searching KM on direction...\n",
      "Searching KM without direction...\n",
      "Found KM on Road 2061: ERS-446\n",
      "CSG-Inv-2023.24881\n",
      "Searching KM on direction...\n",
      "Searching KM without direction...\n",
      "Found KM on Road 2061: ERS-446\n",
      "CSG-Inv-2023.24882\n",
      "Searching KM on direction...\n",
      "Searching KM without direction...\n",
      "Found KM on Road 2061: ERS-446\n",
      "CSG-Inv-2023.24883\n",
      "Searching KM on direction...\n",
      "Searching KM without direction...\n",
      "Found KM on Road 2061: ERS-446\n",
      "CSG-Inv-2023.24884\n",
      "Searching KM on direction...\n",
      "Searching KM without direction...\n",
      "Found KM on Road 2061: ERS-446\n",
      "CSG-Inv-2023.24885\n"
     ]
    }
   ],
   "source": [
    "for reporting, images in tqdm(objects):\n",
    "    reporting.save()\n",
    "    print(reporting.number)"
   ]
  },
  {
   "cell_type": "markdown",
   "metadata": {},
   "source": [
    "Anexando as imagens"
   ]
  },
  {
   "cell_type": "code",
   "execution_count": 34,
   "metadata": {},
   "outputs": [
    {
     "data": {
      "application/vnd.jupyter.widget-view+json": {
       "model_id": "4b533602cfff4305bbfd8c833562be63",
       "version_major": 2,
       "version_minor": 0
      },
      "text/plain": [
       "  0%|          | 0/7 [00:00<?, ?it/s]"
      ]
     },
     "metadata": {},
     "output_type": "display_data"
    }
   ],
   "source": [
    "for reporting, images in tqdm(objects):\n",
    "    for image in reversed(images):\n",
    "        reporting_file = ReportingFile(\n",
    "            created_by=user,\n",
    "            reporting=reporting,\n",
    "            description=image.name,\n",
    "            km=reporting.km,\n",
    "            point=reporting.point\n",
    "        )\n",
    "        reporting_file.save()\n",
    "        image_io = BytesIO(image._data())\n",
    "        im = Image.open(image_io)\n",
    "        if im.mode in (\"RGBA\", \"P\"):\n",
    "            im = im.convert(\"RGB\")\n",
    "        thumb_io = BytesIO()\n",
    "        im.save(thumb_io, format='jpeg', quality=90)\n",
    "        reporting_file.upload.save(image.name + '.jpeg', thumb_io)"
   ]
  },
  {
   "cell_type": "code",
   "execution_count": null,
   "metadata": {},
   "outputs": [],
   "source": []
  }
 ],
 "metadata": {
  "kernelspec": {
   "display_name": "Django Shell-Plus",
   "language": "python",
   "name": "django_extensions"
  },
  "language_info": {
   "codemirror_mode": {
    "name": "ipython",
    "version": 3
   },
   "file_extension": ".py",
   "mimetype": "text/x-python",
   "name": "python",
   "nbconvert_exporter": "python",
   "pygments_lexer": "ipython3",
   "version": "3.7.9"
  }
 },
 "nbformat": 4,
 "nbformat_minor": 2
}
