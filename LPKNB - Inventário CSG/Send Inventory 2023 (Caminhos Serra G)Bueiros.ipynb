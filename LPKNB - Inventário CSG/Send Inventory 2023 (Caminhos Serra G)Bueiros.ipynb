{
 "cells": [
  {
   "cell_type": "markdown",
   "metadata": {},
   "source": [
    "# Inventário"
   ]
  },
  {
   "cell_type": "markdown",
   "metadata": {},
   "source": [
    " "
   ]
  },
  {
   "cell_type": "markdown",
   "metadata": {},
   "source": [
    "Deve-se executar as seis primeiras células para carregar funções utilizadas para rodar o script"
   ]
  },
  {
   "cell_type": "code",
   "execution_count": 1,
   "metadata": {},
   "outputs": [],
   "source": [
    "import json\n",
    "import os\n",
    "from openpyxl import load_workbook\n",
    "from datetime import timedelta\n",
    "import random\n",
    "from copy import deepcopy\n",
    "from django.contrib.gis.geos import LineString, Point\n",
    "from django.contrib.admin.utils import flatten\n",
    "import math\n",
    "import datetime\n",
    "import locale\n",
    "from tqdm.notebook import tqdm\n",
    "from PIL import Image\n",
    "from io import BytesIO\n",
    "from simple_history.utils import bulk_create_with_history\n",
    "from django.contrib.gis.geos import Point, LineString as DjangoLineString\n",
    "from helpers.histories import bulk_update_with_history\n",
    "import pytz"
   ]
  },
  {
   "cell_type": "code",
   "execution_count": 2,
   "metadata": {},
   "outputs": [],
   "source": [
    "from helpers.route_maker import dic_to_ordered_list, unequal_point_pairs"
   ]
  },
  {
   "cell_type": "code",
   "execution_count": 3,
   "metadata": {},
   "outputs": [
    {
     "name": "stderr",
     "output_type": "stream",
     "text": [
      "/home/luan/.cache/pypoetry/virtualenvs/apps-ZFymp6kh-py3.7/lib/python3.7/site-packages/geopandas/_compat.py:110: UserWarning: The Shapely GEOS version (3.10.3-CAPI-1.16.1) is incompatible with the GEOS version PyGEOS was compiled with (3.9.1-CAPI-1.14.2). Conversions between both will be slow.\n",
      "  shapely_geos_version, geos_capi_version_string\n"
     ]
    }
   ],
   "source": [
    "from django.contrib.gis.geos import Point, LineString as DjangoLineString\n",
    "from django.contrib.gis.db.models.functions import Distance\n",
    "from turfpy.misc import nearest_point_on_line\n",
    "from turfpy.measurement import length\n",
    "from geojson import LineString, loads\n",
    "from helpers.histories import bulk_update_with_history\n",
    "from tqdm.notebook import tqdm"
   ]
  },
  {
   "cell_type": "code",
   "execution_count": 4,
   "metadata": {},
   "outputs": [],
   "source": [
    "def km_to_coordinates(road, km):\n",
    "\n",
    "    road_marks = dic_to_ordered_list(road.marks)\n",
    "    selected_pair = None\n",
    "\n",
    "    for pair in unequal_point_pairs(road_marks):\n",
    "        if pair[0][\"km\"] > km and pair[1][\"km\"] < km:\n",
    "            selected_pair = pair\n",
    "            break\n",
    "        elif pair[1][\"km\"] > km and pair[0][\"km\"] < km:\n",
    "            selected_pair = pair\n",
    "            break\n",
    "        elif pair[0][\"km\"] == km:\n",
    "            return Point(pair[0][\"point\"][\"coordinates\"]), road\n",
    "        elif pair[1][\"km\"] == km:\n",
    "            return Point(pair[1][\"point\"][\"coordinates\"]), road\n",
    "\n",
    "    # Calculate total length\n",
    "    start_km = min([selected_pair[0][\"km\"], selected_pair[1][\"km\"]])\n",
    "    end_km = max([selected_pair[0][\"km\"], selected_pair[1][\"km\"]])\n",
    "    segment_mark_length = end_km - start_km\n",
    "    distance_from_min = km - start_km\n",
    "    # Check if km is decreasing\n",
    "    invert_km = selected_pair[1][\"km\"] <= selected_pair[0][\"km\"]\n",
    "\n",
    "    # Cut segment\n",
    "    start_key = min((selected_pair[0][\"index\"], selected_pair[1][\"index\"]))\n",
    "    end_key = max((selected_pair[0][\"index\"], selected_pair[1][\"index\"]))\n",
    "\n",
    "    points = []\n",
    "    for key in range(start_key, end_key + 1):\n",
    "        points.append(\n",
    "            Point(road.path[key][0], road.path[key][1], road.path[key][2])\n",
    "        )\n",
    "\n",
    "    segment = LineString(points, srid=4326)\n",
    "    # Apply km inversion correction\n",
    "    if invert_km:\n",
    "        segment_distance = (\n",
    "            1 - (distance_from_min / segment_mark_length)\n",
    "        ) * segment.length\n",
    "    else:\n",
    "        segment_distance = (\n",
    "            distance_from_min / segment_mark_length\n",
    "        ) * segment.length\n",
    "    # Find point\n",
    "    point = segment.interpolate(segment_distance)\n",
    "\n",
    "    return Point(point.x, point.y), road"
   ]
  },
  {
   "cell_type": "code",
   "execution_count": 5,
   "metadata": {},
   "outputs": [],
   "source": [
    "def check_valid_road(road, km):\n",
    "\n",
    "    road_marks = dic_to_ordered_list(road.marks)\n",
    "\n",
    "    for pair in unequal_point_pairs(road_marks):\n",
    "        if pair[0][\"km\"] >= km and pair[1][\"km\"] <= km:\n",
    "            return True\n",
    "        elif pair[1][\"km\"] >= km and pair[0][\"km\"] <= km:\n",
    "            return True\n",
    "\n",
    "    return False"
   ]
  },
  {
   "cell_type": "code",
   "execution_count": 6,
   "metadata": {},
   "outputs": [],
   "source": [
    "def get_road_coordinates(road_name, km, direction, company):\n",
    "    road_set = Road.objects.filter(\n",
    "        name__contains=road_name, direction=int(direction), company=company\n",
    "    )\n",
    "\n",
    "    # If roads in specified direction are not found, search road only\n",
    "    # by name and order then by direction\n",
    "    road_set_generic = Road.objects.filter(\n",
    "        name__contains=road_name, company=company\n",
    "    ).order_by(\"direction\")\n",
    "\n",
    "    # Check if KM range in road_set\n",
    "#     print(\"Searching KM on direction...\")\n",
    "    valid = False\n",
    "    for road in road_set:\n",
    "        if check_valid_road(road, km):\n",
    "#             print(\"Found KM on Road {}\".format(road))\n",
    "            valid = True\n",
    "            break\n",
    "\n",
    "    if not valid:\n",
    "#         print(\"Searching KM without direction...\")\n",
    "        for road in road_set_generic:\n",
    "            if check_valid_road(road, km):\n",
    "#                 print(\"Found KM on Road {}\".format(road))\n",
    "                valid = True\n",
    "                break\n",
    "\n",
    "    if not valid:\n",
    "        return Point(0, 0), None\n",
    "\n",
    "    try:\n",
    "        return km_to_coordinates(road, km)\n",
    "    except Exception:\n",
    "        return Point(0, 0), None"
   ]
  },
  {
   "cell_type": "code",
   "execution_count": 7,
   "metadata": {},
   "outputs": [],
   "source": [
    "def findIndex(flist, func):\n",
    "    for i,v in enumerate(flist):\n",
    "        if func(v): \n",
    "            return i\n",
    "    return -1"
   ]
  },
  {
   "cell_type": "code",
   "execution_count": 20,
   "metadata": {},
   "outputs": [],
   "source": [
    "def point_to_km(lng, lat, road):\n",
    "    point = Point(lng, lat, srid=4326)\n",
    "    if isinstance(road,str):\n",
    "        roads = Road.objects.filter(company=company,name__icontains=road).annotate(distance=Distance(point, 'path')).order_by('distance')\n",
    "        road = roads[0]\n",
    "    else:\n",
    "        road = roads[0]\n",
    "    path = loads(road.path.geojson)\n",
    "    point_geojson = loads(point.geojson)\n",
    "    road_marks = list(road.marks.values())\n",
    "    snap_point = nearest_point_on_line(path, point_geojson)\n",
    "    \n",
    "\n",
    "    road_markers = sorted([a for a in road_marks if 'index' in a or ('index' in a and a['index'] == 0)], key=lambda x: int(x['key']))\n",
    "#     road_markers = sorted([a for a in road_marks if a['index'] or a['index'] == 0], key=lambda x: int(x['key']))\n",
    "    rm_index = findIndex(road_markers, lambda x: x['index'] > snap_point['properties']['index'])\n",
    "    \n",
    "    if (rm_index == -1):\n",
    "        rm_index = len(road_markers) - 1;\n",
    "    \n",
    "    km_marker_start = road_markers[rm_index - 1]\n",
    "    km_marker_end = road_markers[rm_index]\n",
    "    \n",
    "    if km_marker_start['index'] == road_markers[-1]['index']: \n",
    "        snap = road_markers[-1]\n",
    "        km = snap['km']\n",
    "    elif km_marker_end['index'] == road_markers[0]['index']:\n",
    "        snap = road_markers[0]\n",
    "        km = snap['km']\n",
    "    else:\n",
    "        test = path['coordinates'][km_marker_start['index']:km_marker_end['index'] + 1]\n",
    "        marker_path = LineString(test)\n",
    "        snap = nearest_point_on_line(marker_path, point_geojson)        \n",
    "        ls_length = length(marker_path, units=\"km\")\n",
    "        km = ((snap['properties']['location'] / ls_length)        \n",
    "            * (km_marker_end['km'] - km_marker_start['km'])\n",
    "            + km_marker_start['km'])\n",
    "    \n",
    "    return road, road.name, point, round(km, 3)"
   ]
  },
  {
   "cell_type": "code",
   "execution_count": 9,
   "metadata": {},
   "outputs": [],
   "source": [
    "from collections import defaultdict\n",
    "from django.db.models.signals import *\n",
    "\n",
    "\n",
    "class DisableSignals(object):\n",
    "    def __init__(self, disabled_signals=None):\n",
    "        self.stashed_signals = defaultdict(list)\n",
    "        self.disabled_signals = disabled_signals or [\n",
    "            pre_init, post_init,\n",
    "            pre_save, post_save,\n",
    "            pre_delete, post_delete,\n",
    "            pre_migrate, post_migrate,\n",
    "        ]\n",
    "\n",
    "    def __enter__(self):\n",
    "        for signal in self.disabled_signals:\n",
    "            self.disconnect(signal)\n",
    "\n",
    "    def __exit__(self, exc_type, exc_val, exc_tb):\n",
    "        for signal in list(self.stashed_signals):\n",
    "            self.reconnect(signal)\n",
    "\n",
    "    def disconnect(self, signal):\n",
    "        self.stashed_signals[signal] = signal.receivers\n",
    "        signal.receivers = []\n",
    "\n",
    "    def reconnect(self, signal):\n",
    "        signal.receivers = self.stashed_signals.get(signal, [])\n",
    "        del self.stashed_signals[signal]"
   ]
  },
  {
   "cell_type": "code",
   "execution_count": 10,
   "metadata": {},
   "outputs": [],
   "source": [
    "def get_connected_reference(company, resource, key, value):\n",
    "    select_options = company.custom_options[resource]['fields'][key]['selectOptions']['options']\n",
    "    return next(a['value'] for a in select_options if a['name'].lower() == value.lower())"
   ]
  },
  {
   "cell_type": "code",
   "execution_count": 11,
   "metadata": {},
   "outputs": [],
   "source": [
    "def get_value(field, occ, value):\n",
    "    values = occ.form_fields['fields']\n",
    "    item_translation = flatten([item['selectOptions']['options'] for item in values if item['displayName']==field])\n",
    "#     print(item_translation)\n",
    "\n",
    "    final_translation = {item['name']: item['value'] for item in item_translation}\n",
    "#     print(final_translation)\n",
    "    return final_translation[value]"
   ]
  },
  {
   "cell_type": "code",
   "execution_count": 12,
   "metadata": {},
   "outputs": [],
   "source": [
    "def get_sign_color(field, sign_field, occ, value):\n",
    "    values = occ.form_fields['fields']\n",
    "    value=value.capitalize().strip()\n",
    "    item_translation = flatten([item['innerFields'] for item in values if item['displayName']==field])\n",
    "#     print(item_translation)\n",
    "    mid_translation = flatten([item['selectOptions']['options'] for item in item_translation if item['displayName'] == sign_field])\n",
    "#     print(mid_translation)\n",
    "    final_translation = {item['name']: item['value'] for item in mid_translation}\n",
    "#     print(final_translation)\n",
    "    return final_translation[value]"
   ]
  },
  {
   "cell_type": "code",
   "execution_count": 13,
   "metadata": {},
   "outputs": [],
   "source": [
    "def get_sign_film(field, sign_field, occ, value):\n",
    "    values = occ.form_fields['fields']\n",
    "    value=value.upper().strip()\n",
    "    item_translation = flatten([item['innerFields'] for item in values if item['displayName']==field])\n",
    "#     print(item_translation)\n",
    "    mid_translation = flatten([item['selectOptions']['options'] for item in item_translation if item['displayName'] == sign_field])\n",
    "#     print(mid_translation)\n",
    "    final_translation = {item['name']: item['value'] for item in mid_translation}\n",
    "#     print(final_translation)\n",
    "    return final_translation[value]"
   ]
  },
  {
   "cell_type": "markdown",
   "metadata": {},
   "source": [
    " Verificando se está no ambiente de produção"
   ]
  },
  {
   "cell_type": "code",
   "execution_count": 14,
   "metadata": {},
   "outputs": [
    {
     "name": "stdout",
     "output_type": "stream",
     "text": [
      "cat: .env: No such file or directory\r\n"
     ]
    }
   ],
   "source": [
    "!cat .env"
   ]
  },
  {
   "cell_type": "markdown",
   "metadata": {},
   "source": [
    "Escolhendo nome do arquivo Excel para carregar o Inventário"
   ]
  },
  {
   "cell_type": "code",
   "execution_count": 118,
   "metadata": {},
   "outputs": [],
   "source": [
    "filename='Bueiro-BRS-470 OK REV1'\n",
    "road_name='470'"
   ]
  },
  {
   "cell_type": "markdown",
   "metadata": {},
   "source": [
    "Escolhendo a aba da planilha do Excel"
   ]
  },
  {
   "cell_type": "code",
   "execution_count": 119,
   "metadata": {},
   "outputs": [],
   "source": [
    "wb = load_workbook(filename + '.xlsx')\n",
    "sheetname = wb.sheetnames[1]\n",
    "ws = wb[sheetname]"
   ]
  },
  {
   "cell_type": "markdown",
   "metadata": {},
   "source": [
    "Testando planilha carregada do Excel"
   ]
  },
  {
   "cell_type": "code",
   "execution_count": 120,
   "metadata": {},
   "outputs": [
    {
     "name": "stdout",
     "output_type": "stream",
     "text": [
      "km\n"
     ]
    }
   ],
   "source": [
    "print(ws['A1'].value)"
   ]
  },
  {
   "cell_type": "markdown",
   "metadata": {},
   "source": [
    "Carregando os valores no script"
   ]
  },
  {
   "cell_type": "code",
   "execution_count": 121,
   "metadata": {},
   "outputs": [],
   "source": [
    "header = []\n",
    "values = []\n",
    "\n",
    "for index, row in enumerate(ws.rows):\n",
    "    if index == 0:\n",
    "        header = list([a.value for a in row])\n",
    "        continue\n",
    "    obj = {}\n",
    "    for col_index, cell in enumerate(row):\n",
    "        value = cell.value\n",
    "        obj[header[col_index]] = value\n",
    "    if obj['Rodovia'] is not None:           \n",
    "   \n",
    "        obj['img'] = [a for a in ws._images if a.anchor._from.row == index]\n",
    "#         for i,img in enumerate(obj['img']):\n",
    "#             obj['img'][i].name = ws.cell(row=img.anchor._from.row, column=col_index+3).value if ws.cell(row=img.anchor._from.row, column=col_index+3).value is not None else 'CSG'\n",
    "            \n",
    "        if len(obj['img']) >=3:\n",
    "            try:\n",
    "                obj['img'][0].name='Direita'\n",
    "                obj['img'][1].name='Central'\n",
    "                obj['img'][2].name='Esquerda'\n",
    "            except:\n",
    "                pass\n",
    "        elif len(obj['img']) == 2:\n",
    "            try:\n",
    "                obj['img'][0].name='Direita'\n",
    "                obj['img'][1].name='Esquerda'\n",
    "            except:\n",
    "                pass\n",
    "        else:\n",
    "            try:\n",
    "                obj['img'][0].name='Direita'\n",
    "            except:\n",
    "                pass\n",
    "        \n",
    "    values.append(obj)"
   ]
  },
  {
   "cell_type": "markdown",
   "metadata": {},
   "source": [
    "Definindo valores da importação"
   ]
  },
  {
   "cell_type": "code",
   "execution_count": 122,
   "metadata": {},
   "outputs": [
    {
     "data": {
      "text/plain": [
       "(<Company: 4edb7778-e350-4e77-8e1e-de5f87b1da7f: Caminhos da Serra Gaúcha>,\n",
       " <OccurrenceType: Bueiro - ['Caminhos da Serra Gaúcha']>,\n",
       " <Firm: [4edb7778-e350-4e77-8e1e-de5f87b1da7f: Caminhos da Serra Gaúcha] 0edd2ecc-8d5e-4444-898b-0069a3e9c354: Cadastro incial>)"
      ]
     },
     "execution_count": 122,
     "metadata": {},
     "output_type": "execute_result"
    }
   ],
   "source": [
    "company = Company.objects.get(name='Caminhos da Serra Gaúcha')\n",
    "\n",
    "#Classe Bueiros\n",
    "occurrence_type=OccurrenceType.objects.get(uuid='083d75c7-0bf7-4a0b-bdb8-4f43f10f9266')\n",
    "\n",
    "user=User.objects.get(username='rlcs')\n",
    "status=ServiceOrderActionStatus.objects.get(companies=company, name='Identificado')\n",
    "# step=ApprovalStep.objects.get(approval_flow__company=company, name='Em Elaboração')\n",
    "firm=Firm.objects.get(uuid='0edd2ecc-8d5e-4444-898b-0069a3e9c354')\n",
    "company,occurrence_type,firm"
   ]
  },
  {
   "cell_type": "code",
   "execution_count": 123,
   "metadata": {},
   "outputs": [],
   "source": [
    "# road=Road.objects.get(company=company,name__icontains=\"470\")\n",
    "# items=list(road.marks.items())\n",
    "# first_km=items[0][1]['km']\n",
    "# last_km=items[-1][1]['km']\n",
    "# print(first_km,last_km)"
   ]
  },
  {
   "cell_type": "code",
   "execution_count": 124,
   "metadata": {},
   "outputs": [],
   "source": [
    "for a in values:\n",
    "    a['Latitude_Inicial'] = '-'+str(a['Latitude_Inicial']) if '-' not in str(a['Latitude_Inicial']) else str(a['Latitude_Inicial'])\n",
    "    a['Longitude_Inicial'] = '-'+str(a['Longitude_Inicial']) if '-' not in str(a['Longitude_Inicial']) else str(a['Longitude_Inicial'])\n",
    "    if a['Lado montante'] == 'Central':\n",
    "        a['Lado montante'] = \"Centro\"\n",
    "    if a['Lado montante'] == 'Esquedo':\n",
    "        a['Lado montante'] = \"Esquerdo\""
   ]
  },
  {
   "cell_type": "code",
   "execution_count": 125,
   "metadata": {
    "scrolled": true
   },
   "outputs": [
    {
     "data": {
      "text/plain": [
       "(198,\n",
       " {'km': None,\n",
       "  'km final': None,\n",
       "  'km de Projeto': None,\n",
       "  'km final de Projeto': None,\n",
       "  'Latitude_Inicial': '-30.57611111111111',\n",
       "  'Longitude_Inicial': '-51.714166666666664',\n",
       "  'Latitude_Final': None,\n",
       "  'Longitude_Final': None,\n",
       "  'Status': 'Identificado',\n",
       "  'Equipe/Empreiteira': 'Cadastro incial',\n",
       "  'Encontrado em': None,\n",
       "  'Executado em': None,\n",
       "  'Sentido': 'Não se Aplica',\n",
       "  'Classe': 'Bueiro',\n",
       "  'Faixa': 'Não se aplica',\n",
       "  'Lado montante': 'Direito',\n",
       "  'Rodovia': 'BRS-470',\n",
       "  'Tipo': 'BSTC',\n",
       "  'Dimensão\\n(m)': 0.8,\n",
       "  'Extensão\\n(m)': 118.69330225418172,\n",
       "  'Dispositivos de Entrada': 'BOCA',\n",
       "  'Dispositivos de Saída': 'BOCA',\n",
       "  'Estado de Conservação': 'Regular',\n",
       "  'Observações': None,\n",
       "  'Foto_1': None,\n",
       "  'Data Foto_1': None,\n",
       "  'Tipo Foto_1': None,\n",
       "  'Descrição Foto_1': 'Direita',\n",
       "  'Foto_2': None,\n",
       "  'Data Foto_2': 'Esquerda',\n",
       "  'Tipo Foto_2': None,\n",
       "  'Foto_3': None,\n",
       "  'Data Foto_3': None,\n",
       "  'Tipo Foto_3': None,\n",
       "  'Descrição Foto_3': None,\n",
       "  'Foto_4': None,\n",
       "  'Data Foto_4': None,\n",
       "  'Tipo Foto_4': None,\n",
       "  'Descrição Foto_4': None,\n",
       "  'Foto_5': None,\n",
       "  'Data Foto_5': None,\n",
       "  'Tipo Foto_5': None,\n",
       "  'Descrição Foto_5': None,\n",
       "  'Foto_6': None,\n",
       "  'Data Foto_6': None,\n",
       "  'Tipo Foto_6': None,\n",
       "  'Descrição Foto_6': None,\n",
       "  'Foto_7': None,\n",
       "  'Data Foto_7': None,\n",
       "  'Tipo Foto_7': None,\n",
       "  'Descrição Foto_7': None,\n",
       "  'Foto_8': None,\n",
       "  'Data Foto_8': None,\n",
       "  'Tipo Foto_8': None,\n",
       "  'Descrição Foto_8': None,\n",
       "  'Foto_9': None,\n",
       "  'Data Foto_9': None,\n",
       "  'Tipo Foto_9': None,\n",
       "  'Descrição Foto_9': None,\n",
       "  'Foto_10': None,\n",
       "  'Data Foto_10': None,\n",
       "  'Tipo Foto_10': None,\n",
       "  'Descrição Foto_10': None,\n",
       "  'img': [<openpyxl.drawing.image.Image at 0x7fb1750dd410>,\n",
       "   <openpyxl.drawing.image.Image at 0x7fb172df2690>]})"
      ]
     },
     "execution_count": 125,
     "metadata": {},
     "output_type": "execute_result"
    }
   ],
   "source": [
    "len(values),values[0]"
   ]
  },
  {
   "cell_type": "markdown",
   "metadata": {},
   "source": [
    "Criando itens de Inventário"
   ]
  },
  {
   "cell_type": "code",
   "execution_count": 126,
   "metadata": {},
   "outputs": [
    {
     "data": {
      "application/vnd.jupyter.widget-view+json": {
       "model_id": "fdb986dec2494da992c6883259b5526e",
       "version_major": 2,
       "version_minor": 0
      },
      "text/plain": [
       "  0%|          | 0/198 [00:00<?, ?it/s]"
      ]
     },
     "metadata": {},
     "output_type": "display_data"
    },
    {
     "ename": "ValueError",
     "evalue": "could not convert string to float: '-None'",
     "output_type": "error",
     "traceback": [
      "\u001b[0;31m---------------------------------------------------------------------------\u001b[0m",
      "\u001b[0;31mValueError\u001b[0m                                Traceback (most recent call last)",
      "\u001b[0;32m/tmp/ipykernel_7183/1471842415.py\u001b[0m in \u001b[0;36m<module>\u001b[0;34m\u001b[0m\n\u001b[1;32m      4\u001b[0m \u001b[0;32mfor\u001b[0m \u001b[0mindex\u001b[0m\u001b[0;34m,\u001b[0m \u001b[0ma\u001b[0m \u001b[0;32min\u001b[0m \u001b[0menumerate\u001b[0m\u001b[0;34m(\u001b[0m\u001b[0mtqdm\u001b[0m\u001b[0;34m(\u001b[0m\u001b[0mvalues\u001b[0m\u001b[0;34m)\u001b[0m\u001b[0;34m)\u001b[0m\u001b[0;34m:\u001b[0m\u001b[0;34m\u001b[0m\u001b[0;34m\u001b[0m\u001b[0m\n\u001b[1;32m      5\u001b[0m \u001b[0;31m#     print(float(a['Longitude_Inicial']),float(a['Latitude_Inicial']))\u001b[0m\u001b[0;34m\u001b[0m\u001b[0;34m\u001b[0m\u001b[0;34m\u001b[0m\u001b[0m\n\u001b[0;32m----> 6\u001b[0;31m     \u001b[0mroad\u001b[0m\u001b[0;34m,\u001b[0m\u001b[0m_\u001b[0m\u001b[0;34m,\u001b[0m\u001b[0mpoint\u001b[0m\u001b[0;34m,\u001b[0m\u001b[0mkm\u001b[0m \u001b[0;34m=\u001b[0m\u001b[0mpoint_to_km\u001b[0m\u001b[0;34m(\u001b[0m\u001b[0mfloat\u001b[0m\u001b[0;34m(\u001b[0m\u001b[0ma\u001b[0m\u001b[0;34m[\u001b[0m\u001b[0;34m'Longitude_Inicial'\u001b[0m\u001b[0;34m]\u001b[0m\u001b[0;34m)\u001b[0m\u001b[0;34m,\u001b[0m\u001b[0mfloat\u001b[0m\u001b[0;34m(\u001b[0m\u001b[0ma\u001b[0m\u001b[0;34m[\u001b[0m\u001b[0;34m'Latitude_Inicial'\u001b[0m\u001b[0;34m]\u001b[0m\u001b[0;34m)\u001b[0m\u001b[0;34m,\u001b[0m\u001b[0mroad_name\u001b[0m\u001b[0;34m)\u001b[0m\u001b[0;34m\u001b[0m\u001b[0;34m\u001b[0m\u001b[0m\n\u001b[0m\u001b[1;32m      7\u001b[0m     \u001b[0;32mif\u001b[0m \u001b[0ma\u001b[0m\u001b[0;34m[\u001b[0m\u001b[0;34m'Longitude_Final'\u001b[0m\u001b[0;34m]\u001b[0m \u001b[0;32mis\u001b[0m \u001b[0;32mnot\u001b[0m \u001b[0;32mNone\u001b[0m\u001b[0;34m:\u001b[0m\u001b[0;34m\u001b[0m\u001b[0;34m\u001b[0m\u001b[0m\n\u001b[1;32m      8\u001b[0m         \u001b[0m_\u001b[0m\u001b[0;34m,\u001b[0m\u001b[0m_\u001b[0m\u001b[0;34m,\u001b[0m\u001b[0m_\u001b[0m\u001b[0;34m,\u001b[0m\u001b[0mend_km\u001b[0m \u001b[0;34m=\u001b[0m\u001b[0mpoint_to_km\u001b[0m\u001b[0;34m(\u001b[0m\u001b[0mfloat\u001b[0m\u001b[0;34m(\u001b[0m\u001b[0ma\u001b[0m\u001b[0;34m[\u001b[0m\u001b[0;34m'Longitude_Final'\u001b[0m\u001b[0;34m]\u001b[0m\u001b[0;34m)\u001b[0m\u001b[0;34m,\u001b[0m\u001b[0mfloat\u001b[0m\u001b[0;34m(\u001b[0m\u001b[0ma\u001b[0m\u001b[0;34m[\u001b[0m\u001b[0;34m'Latitude_Final'\u001b[0m\u001b[0;34m]\u001b[0m\u001b[0;34m)\u001b[0m\u001b[0;34m,\u001b[0m\u001b[0mroad_name\u001b[0m\u001b[0;34m)\u001b[0m\u001b[0;34m\u001b[0m\u001b[0;34m\u001b[0m\u001b[0m\n",
      "\u001b[0;31mValueError\u001b[0m: could not convert string to float: '-None'"
     ]
    }
   ],
   "source": [
    "objects=[]\n",
    "\n",
    "\n",
    "for index, a in enumerate(tqdm(values)):\n",
    "#     print(float(a['Longitude_Inicial']),float(a['Latitude_Inicial']))\n",
    "    road,_,point,km =point_to_km(float(a['Longitude_Inicial']),float(a['Latitude_Inicial']),road_name)\n",
    "    if a['Longitude_Final'] is not None:\n",
    "        _,_,_,end_km =point_to_km(float(a['Longitude_Final']),float(a['Latitude_Final']),road_name)\n",
    "    if road_name not in road.name:\n",
    "        print(f\"Rodovia {road} - Km:{km} - Linha: {index+2}\")\n",
    "    try:\n",
    "\n",
    "        objects.append((Reporting(\n",
    "                    company=company,\n",
    "                    occurrence_type=occurrence_type,\n",
    "                    lane=str(get_connected_reference(company, 'reporting', 'lane', a['Faixa'])),\n",
    "                    road=road,\n",
    "                    road_name=road.name,\n",
    "                    direction=str(get_connected_reference(company, 'reporting', 'direction', a['Sentido'])),\n",
    "                    created_by=user,\n",
    "#                     found_at=datetime.datetime('2023-05-08'),\n",
    "                    km=float(km),\n",
    "                    end_km_manually_specified=True if a['Longitude_Final'] is not None else False,\n",
    "                    end_km=float(end_km) if a['Longitude_Final'] is not None else None,\n",
    "                    point=point,\n",
    "                    firm=firm,\n",
    "                    status=status,\n",
    "                    form_data={\n",
    "                        'type': a['Tipo'],\n",
    "                        'side': get_value('Lado montante', occurrence_type, a['Lado montante']) if a['Lado montante'] is not None else None,\n",
    "#                         'side': a['Lado montante'].strftime('%Y-%m-%dT03:00:00.000Z') if a['Data de fabricação'] and type(a['Data de fabricação']) is datetime.datetime else None,\n",
    "                        'state': get_value('Estado de conservação', occurrence_type, a['Estado de conservação'].capitalize() if a.get('Estado de conservação') else a['Estado de Conservação'].capitalize()) if a.get('Estado de conservação') is not None or a.get('Estado de Conservação') is not None else None,\n",
    "                        'dimensao': str(a['Dimensão\\n(m)']),\n",
    "                        'extension': a['Extensão\\n(m)'],\n",
    "                        'dispentrada': a['Dispositivos de Entrada'],\n",
    "                        'dispsaida': a['Dispositivos de Saída'],                                                     \n",
    "                    }, \n",
    "                    ),a['img']))\n",
    "    except Exception as e:\n",
    "\n",
    "        print(f'Arquivo\"{filename}\" - Rodovia {road} - Km:{km} - Linha: {index+2} - {e}')\n",
    "        print(objects.form_data)"
   ]
  },
  {
   "cell_type": "markdown",
   "metadata": {},
   "source": [
    "Salvando itens de Inventário no sistema e imprimindo os seriais"
   ]
  },
  {
   "cell_type": "code",
   "execution_count": 134,
   "metadata": {},
   "outputs": [
    {
     "data": {
      "application/vnd.jupyter.widget-view+json": {
       "model_id": "6a2277a9ed9a4230ad62a04fcc046d04",
       "version_major": 2,
       "version_minor": 0
      },
      "text/plain": [
       "  0%|          | 0/69 [00:00<?, ?it/s]"
      ]
     },
     "metadata": {},
     "output_type": "display_data"
    },
    {
     "name": "stdout",
     "output_type": "stream",
     "text": [
      "-51.714166666666664  |  -30.57611111111111  |  233.387\n",
      "-51.72277777777778  |  -29.243333333333332  |  225.619\n",
      "-51.64972222222222  |  -29.593888888888888  |  233.387\n",
      "-51.62  |  -29.70861111111111  |  233.387\n",
      "-51.63361111111111  |  -29.988333333333333  |  233.387\n",
      "-51.64361111111111  |  -30.04277777777778  |  233.387\n",
      "-51.658055555555556  |  -30.076666666666668  |  233.387\n",
      "-51.63361111111111  |  -30.24111111111111  |  233.387\n",
      "-51.67027777777778  |  -30.52166666666667  |  233.387\n",
      "-51.61555555555555  |  -30.775  |  233.387\n",
      "-51.61555555555555  |  -30.775  |  233.387\n",
      "-51.611666666666665  |  -30.82027777777778  |  233.387\n",
      "-51.59888888888889  |  -29.226666666666667  |  225.568\n",
      "-51.5925  |  -29.260833333333334  |  225.676\n",
      "-51.58583333333333  |  -29.30361111111111  |  227.567\n",
      "-51.577222222222225  |  -29.34777777777778  |  232.949\n",
      "-51.57  |  -29.389166666666668  |  233.028\n",
      "-51.556666666666665  |  -29.43888888888889  |  233.387\n",
      "-51.54083333333333  |  -29.52111111111111  |  233.387\n",
      "-51.53472222222222  |  -29.548055555555557  |  233.387\n",
      "-51.526944444444446  |  -29.599722222222223  |  233.387\n",
      "-53.15027777777778  |  -29.427777777777777  |  225.648\n",
      "-53.147222222222226  |  -29.41861111111111  |  225.648\n",
      "-51.55027777777778  |  -29.34722222222222  |  232.993\n",
      "-51.56361111111111  |  -29.31361111111111  |  231.511\n",
      "-51.598333333333336  |  -29.307222222222222  |  227.567\n",
      "-51.55833333333333  |  -29.294722222222223  |  228.043\n",
      "-51.562222222222225  |  -29.261388888888888  |  226.312\n",
      "-51.57138888888889  |  -29.226666666666667  |  223.192\n",
      "-51.577777777777776  |  -30.83888888888889  |  233.387\n",
      "-51.57944444444445  |  -30.816944444444445  |  233.387\n",
      "-51.58638888888889  |  -30.834722222222222  |  233.387\n",
      "-51.56666666666667  |  -29.531388888888888  |  233.387\n",
      "-53.13138888888889  |  -29.92888888888889  |  227.531\n",
      "-53.12388888888889  |  -30.3375  |  232.949\n",
      "-53.11361111111111  |  -30.81277777777778  |  232.993\n",
      "-51.67722222222222  |  -29.971666666666668  |  233.387\n",
      "-51.67888888888889  |  -30.088055555555556  |  233.387\n",
      "-53.14388888888889  |  -30.397222222222222  |  232.949\n",
      "-53.14138888888889  |  -30.405833333333334  |  232.949\n",
      "-53.13472222222222  |  -30.43722222222222  |  232.993\n",
      "-53.1275  |  -30.476111111111113  |  232.993\n",
      "-52.871944444444445  |  -29.319444444444443  |  225.619\n",
      "-52.72416666666667  |  -29.536944444444444  |  225.676\n",
      "-52.64472222222222  |  -29.65111111111111  |  226.312\n",
      "-51.7625  |  -30.630833333333335  |  233.387\n",
      "-51.54638888888889  |  -30.717222222222222  |  233.387\n",
      "-53.13944444444444  |  -29.343611111111112  |  225.619\n",
      "-53.089166666666664  |  -29.384166666666665  |  225.648\n",
      "-52.44611111111111  |  -30.41611111111111  |  233.028\n",
      "-52.43194444444445  |  -30.438055555555554  |  233.028\n",
      "-52.42138888888889  |  -30.4375  |  233.028\n",
      "-52.41361111111111  |  -30.432777777777776  |  233.028\n",
      "-52.41361111111111  |  -30.444444444444443  |  233.028\n",
      "-52.422777777777775  |  -30.450277777777778  |  233.028\n",
      "-52.42111111111111  |  -30.489722222222223  |  233.028\n",
      "-52.41111111111111  |  -30.533055555555556  |  233.028\n",
      "-52.39416666666666  |  -30.560833333333335  |  233.028\n",
      "-52.39944444444444  |  -30.54611111111111  |  233.028\n",
      "-52.34583333333333  |  -30.55527777777778  |  233.028\n",
      "-52.3575  |  -30.513333333333332  |  233.028\n",
      "-52.32361111111111  |  -29.538333333333334  |  226.312\n",
      "-52.30083333333334  |  -29.569444444444443  |  227.51\n",
      "-52.2825  |  -29.57777777777778  |  227.531\n",
      "-52.276666666666664  |  -29.58222222222222  |  227.531\n",
      "-52.25472222222222  |  -29.566944444444445  |  227.531\n",
      "-52.29194444444445  |  -29.585833333333333  |  227.531\n",
      "-51.63166666666667  |  -30.392777777777777  |  233.387\n",
      "-51.635  |  -30.489166666666666  |  233.387\n"
     ]
    }
   ],
   "source": [
    "for reporting, images in tqdm(objects):\n",
    "    print(reporting.point[0],' | ',reporting.point[1],' | ',reporting.km)"
   ]
  },
  {
   "cell_type": "code",
   "execution_count": 115,
   "metadata": {
    "scrolled": true
   },
   "outputs": [
    {
     "data": {
      "application/vnd.jupyter.widget-view+json": {
       "model_id": "f7789a4240ca4e3f97c93f3f64a3d713",
       "version_major": 2,
       "version_minor": 0
      },
      "text/plain": [
       "  0%|          | 0/42 [00:00<?, ?it/s]"
      ]
     },
     "metadata": {},
     "output_type": "display_data"
    },
    {
     "name": "stdout",
     "output_type": "stream",
     "text": [
      "Searching KM on direction...\n",
      "Searching KM without direction...\n",
      "Found KM on Road 2044: RSC-287\n",
      "CSG-Inv-2023.28887\n",
      "Searching KM on direction...\n",
      "Searching KM without direction...\n",
      "Found KM on Road 2044: RSC-287\n",
      "CSG-Inv-2023.28888\n",
      "Searching KM on direction...\n",
      "Searching KM without direction...\n",
      "Found KM on Road 2044: RSC-287\n",
      "CSG-Inv-2023.28889\n",
      "Searching KM on direction...\n",
      "Searching KM without direction...\n",
      "Found KM on Road 2044: RSC-287\n",
      "CSG-Inv-2023.28890\n",
      "Searching KM on direction...\n",
      "Searching KM without direction...\n",
      "Found KM on Road 2044: RSC-287\n",
      "CSG-Inv-2023.28891\n",
      "Searching KM on direction...\n",
      "Searching KM without direction...\n",
      "Found KM on Road 2044: RSC-287\n",
      "CSG-Inv-2023.28892\n",
      "Searching KM on direction...\n",
      "Searching KM without direction...\n",
      "Found KM on Road 2044: RSC-287\n",
      "CSG-Inv-2023.28893\n",
      "Searching KM on direction...\n",
      "Searching KM without direction...\n",
      "Found KM on Road 2044: RSC-287\n",
      "CSG-Inv-2023.28894\n",
      "Searching KM on direction...\n",
      "Searching KM without direction...\n",
      "Found KM on Road 2044: RSC-287\n",
      "CSG-Inv-2023.28895\n",
      "Searching KM on direction...\n",
      "Searching KM without direction...\n",
      "Found KM on Road 2044: RSC-287\n",
      "CSG-Inv-2023.28896\n",
      "Searching KM on direction...\n",
      "Searching KM without direction...\n",
      "Found KM on Road 2044: RSC-287\n",
      "CSG-Inv-2023.28897\n",
      "Searching KM on direction...\n",
      "Searching KM without direction...\n",
      "Found KM on Road 2044: RSC-287\n",
      "CSG-Inv-2023.28898\n",
      "Searching KM on direction...\n",
      "Searching KM without direction...\n",
      "Found KM on Road 2044: RSC-287\n",
      "CSG-Inv-2023.28899\n",
      "Searching KM on direction...\n",
      "Searching KM without direction...\n",
      "Found KM on Road 2044: RSC-287\n",
      "CSG-Inv-2023.28900\n",
      "Searching KM on direction...\n",
      "Searching KM without direction...\n",
      "Found KM on Road 2044: RSC-287\n",
      "CSG-Inv-2023.28901\n",
      "Searching KM on direction...\n",
      "Searching KM without direction...\n",
      "Found KM on Road 2044: RSC-287\n",
      "CSG-Inv-2023.28902\n",
      "Searching KM on direction...\n",
      "Searching KM without direction...\n",
      "Found KM on Road 2044: RSC-287\n",
      "CSG-Inv-2023.28903\n",
      "Searching KM on direction...\n",
      "Searching KM without direction...\n",
      "Found KM on Road 2044: RSC-287\n",
      "CSG-Inv-2023.28904\n",
      "Searching KM on direction...\n",
      "Searching KM without direction...\n",
      "Found KM on Road 2044: RSC-287\n",
      "CSG-Inv-2023.28905\n",
      "Searching KM on direction...\n",
      "Searching KM without direction...\n",
      "Found KM on Road 2044: RSC-287\n",
      "CSG-Inv-2023.28906\n",
      "Searching KM on direction...\n",
      "Searching KM without direction...\n",
      "Found KM on Road 2044: RSC-287\n",
      "CSG-Inv-2023.28907\n",
      "Searching KM on direction...\n",
      "Searching KM without direction...\n",
      "Found KM on Road 2044: RSC-287\n",
      "CSG-Inv-2023.28908\n",
      "Searching KM on direction...\n",
      "Searching KM without direction...\n",
      "Found KM on Road 2044: RSC-287\n",
      "CSG-Inv-2023.28909\n",
      "Searching KM on direction...\n",
      "Searching KM without direction...\n",
      "Found KM on Road 2044: RSC-287\n",
      "CSG-Inv-2023.28910\n",
      "Searching KM on direction...\n",
      "Searching KM without direction...\n",
      "Found KM on Road 2044: RSC-287\n",
      "CSG-Inv-2023.28911\n",
      "Searching KM on direction...\n",
      "Searching KM without direction...\n",
      "Found KM on Road 2044: RSC-287\n",
      "CSG-Inv-2023.28912\n",
      "Searching KM on direction...\n",
      "Searching KM without direction...\n",
      "Found KM on Road 2044: RSC-287\n",
      "CSG-Inv-2023.28913\n",
      "Searching KM on direction...\n",
      "Searching KM without direction...\n",
      "Found KM on Road 2044: RSC-287\n",
      "CSG-Inv-2023.28914\n",
      "Searching KM on direction...\n",
      "Searching KM without direction...\n",
      "Found KM on Road 2044: RSC-287\n",
      "CSG-Inv-2023.28915\n",
      "Searching KM on direction...\n",
      "Searching KM without direction...\n",
      "Found KM on Road 2044: RSC-287\n",
      "CSG-Inv-2023.28916\n",
      "Searching KM on direction...\n",
      "Searching KM without direction...\n",
      "Found KM on Road 2044: RSC-287\n",
      "CSG-Inv-2023.28917\n",
      "Searching KM on direction...\n",
      "Searching KM without direction...\n",
      "Found KM on Road 2044: RSC-287\n",
      "CSG-Inv-2023.28918\n",
      "Searching KM on direction...\n",
      "Searching KM without direction...\n",
      "Found KM on Road 2044: RSC-287\n",
      "CSG-Inv-2023.28919\n",
      "Searching KM on direction...\n",
      "Searching KM without direction...\n",
      "Found KM on Road 2044: RSC-287\n",
      "CSG-Inv-2023.28920\n",
      "Searching KM on direction...\n",
      "Searching KM without direction...\n",
      "Found KM on Road 2044: RSC-287\n",
      "CSG-Inv-2023.28921\n",
      "Searching KM on direction...\n",
      "Searching KM without direction...\n",
      "Found KM on Road 2044: RSC-287\n",
      "CSG-Inv-2023.28922\n",
      "Searching KM on direction...\n",
      "Searching KM without direction...\n",
      "Found KM on Road 2044: RSC-287\n",
      "CSG-Inv-2023.28923\n",
      "Searching KM on direction...\n",
      "Searching KM without direction...\n",
      "Found KM on Road 2044: RSC-287\n",
      "CSG-Inv-2023.28924\n",
      "Searching KM on direction...\n",
      "Searching KM without direction...\n",
      "Found KM on Road 2044: RSC-287\n",
      "CSG-Inv-2023.28925\n",
      "Searching KM on direction...\n",
      "Searching KM without direction...\n",
      "Found KM on Road 2044: RSC-287\n",
      "CSG-Inv-2023.28926\n",
      "Searching KM on direction...\n",
      "Searching KM without direction...\n",
      "Found KM on Road 2044: RSC-287\n",
      "CSG-Inv-2023.28927\n",
      "Searching KM on direction...\n",
      "Searching KM without direction...\n",
      "Found KM on Road 2044: RSC-287\n",
      "CSG-Inv-2023.28928\n"
     ]
    }
   ],
   "source": [
    "for reporting, images in tqdm(objects):\n",
    "    reporting.save()\n",
    "    print(reporting.number)"
   ]
  },
  {
   "cell_type": "markdown",
   "metadata": {},
   "source": [
    "Anexando as imagens"
   ]
  },
  {
   "cell_type": "code",
   "execution_count": 116,
   "metadata": {},
   "outputs": [
    {
     "data": {
      "application/vnd.jupyter.widget-view+json": {
       "model_id": "dc59e7f63dd44fe2b8b26896562b6f29",
       "version_major": 2,
       "version_minor": 0
      },
      "text/plain": [
       "  0%|          | 0/42 [00:00<?, ?it/s]"
      ]
     },
     "metadata": {},
     "output_type": "display_data"
    }
   ],
   "source": [
    "for reporting, images in tqdm(objects):\n",
    "    for image in images:\n",
    "        if hasattr(image, 'name'):\n",
    "#             print('O objeto tem o atributo nome!')\n",
    "            pass\n",
    "        else:\n",
    "#             print('O objeto não tem o atributo nome.')\n",
    "            image.name=\"CSG\"\n",
    "            print(image.name)"
   ]
  },
  {
   "cell_type": "code",
   "execution_count": 117,
   "metadata": {},
   "outputs": [
    {
     "data": {
      "application/vnd.jupyter.widget-view+json": {
       "model_id": "e5c7a386662444d9a1e08d3de067856b",
       "version_major": 2,
       "version_minor": 0
      },
      "text/plain": [
       "  0%|          | 0/42 [00:00<?, ?it/s]"
      ]
     },
     "metadata": {},
     "output_type": "display_data"
    }
   ],
   "source": [
    "for reporting, images in tqdm(objects):\n",
    "    for image in images:\n",
    "        reporting_file = ReportingFile(\n",
    "            created_by=user,\n",
    "            reporting=reporting,\n",
    "            description=image.name,\n",
    "            km=reporting.km,\n",
    "            point=reporting.point\n",
    "        )\n",
    "        reporting_file.save()\n",
    "        image_io = BytesIO(image._data())# Cria um espaço na memória em formato binário, com o conteúdo da imagem\n",
    "        im = Image.open(image_io) # Abre a imagem criada acima com a biblioteca PIL\n",
    "        if im.mode in (\"RGBA\", \"P\"):\n",
    "            im = im.convert(\"RGB\") # Converte a imagem para formatos aceitos do sistema, caso tenha vindo fora do padrão\n",
    "        thumb_io = BytesIO() # Cria uma espaço outro espaço na memória para salvar a imagem\n",
    "        im.save(thumb_io, format='jpeg', quality=90) # Salva a imagem no espaço criado acima\n",
    "        reporting_file.upload.save(image.name + '.jpeg', thumb_io) # Salva o conteúdo da imagem no S3"
   ]
  },
  {
   "cell_type": "code",
   "execution_count": null,
   "metadata": {},
   "outputs": [],
   "source": []
  },
  {
   "cell_type": "code",
   "execution_count": null,
   "metadata": {},
   "outputs": [],
   "source": []
  },
  {
   "cell_type": "code",
   "execution_count": null,
   "metadata": {},
   "outputs": [],
   "source": []
  },
  {
   "cell_type": "code",
   "execution_count": null,
   "metadata": {},
   "outputs": [],
   "source": []
  },
  {
   "cell_type": "code",
   "execution_count": 23,
   "metadata": {},
   "outputs": [
    {
     "name": "stderr",
     "output_type": "stream",
     "text": [
      "/home/luan/.cache/pypoetry/virtualenvs/apps-ZFymp6kh-py3.7/lib/python3.7/site-packages/django/db/models/fields/__init__.py:1427: RuntimeWarning: DateTimeField Reporting.created_at received a naive datetime (2023-05-10 00:00:00) while time zone support is active.\n",
      "  RuntimeWarning)\n"
     ]
    },
    {
     "data": {
      "text/plain": [
       "169"
      ]
     },
     "execution_count": 23,
     "metadata": {},
     "output_type": "execute_result"
    }
   ],
   "source": [
    "reps = Reporting.objects.filter(company=company,occurrence_type=occurrence_type,created_at__gte='2023-5-10')\n",
    "reps.count()"
   ]
  },
  {
   "cell_type": "code",
   "execution_count": 24,
   "metadata": {},
   "outputs": [
    {
     "data": {
      "application/vnd.jupyter.widget-view+json": {
       "model_id": "4c7e5f21d72847809d8ea46a404bcfe1",
       "version_major": 2,
       "version_minor": 0
      },
      "text/plain": [
       "  0%|          | 0/169 [00:00<?, ?it/s]"
      ]
     },
     "metadata": {},
     "output_type": "display_data"
    }
   ],
   "source": [
    "for a in tqdm(reps):\n",
    "    a.delete()"
   ]
  },
  {
   "cell_type": "code",
   "execution_count": null,
   "metadata": {},
   "outputs": [],
   "source": []
  }
 ],
 "metadata": {
  "kernelspec": {
   "display_name": "Django Shell-Plus",
   "language": "python",
   "name": "django_extensions"
  },
  "language_info": {
   "codemirror_mode": {
    "name": "ipython",
    "version": 3
   },
   "file_extension": ".py",
   "mimetype": "text/x-python",
   "name": "python",
   "nbconvert_exporter": "python",
   "pygments_lexer": "ipython3",
   "version": "3.7.9"
  }
 },
 "nbformat": 4,
 "nbformat_minor": 2
}
