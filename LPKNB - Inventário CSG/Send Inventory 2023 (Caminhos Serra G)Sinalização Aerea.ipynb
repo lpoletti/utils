{
 "cells": [
  {
   "cell_type": "markdown",
   "metadata": {},
   "source": [
    "# Inventário"
   ]
  },
  {
   "cell_type": "markdown",
   "metadata": {},
   "source": [
    " "
   ]
  },
  {
   "cell_type": "markdown",
   "metadata": {},
   "source": [
    "Deve-se executar as seis primeiras células para carregar funções utilizadas para rodar o script"
   ]
  },
  {
   "cell_type": "code",
   "execution_count": 1,
   "metadata": {},
   "outputs": [],
   "source": [
    "import json\n",
    "import os\n",
    "from openpyxl import load_workbook\n",
    "from datetime import timedelta\n",
    "import random\n",
    "from copy import deepcopy\n",
    "from django.contrib.gis.geos import LineString, Point\n",
    "from django.contrib.admin.utils import flatten\n",
    "import math\n",
    "import datetime\n",
    "import locale\n",
    "from tqdm.notebook import tqdm\n",
    "from PIL import Image\n",
    "from io import BytesIO\n",
    "from simple_history.utils import bulk_create_with_history\n",
    "from django.contrib.gis.geos import Point, LineString as DjangoLineString\n",
    "from helpers.histories import bulk_update_with_history\n",
    "import pytz"
   ]
  },
  {
   "cell_type": "code",
   "execution_count": 2,
   "metadata": {},
   "outputs": [],
   "source": [
    "from helpers.route_maker import dic_to_ordered_list, unequal_point_pairs"
   ]
  },
  {
   "cell_type": "code",
   "execution_count": 3,
   "metadata": {},
   "outputs": [
    {
     "name": "stderr",
     "output_type": "stream",
     "text": [
      "/home/luan/.cache/pypoetry/virtualenvs/apps-ZFymp6kh-py3.7/lib/python3.7/site-packages/geopandas/_compat.py:110: UserWarning: The Shapely GEOS version (3.10.3-CAPI-1.16.1) is incompatible with the GEOS version PyGEOS was compiled with (3.9.1-CAPI-1.14.2). Conversions between both will be slow.\n",
      "  shapely_geos_version, geos_capi_version_string\n"
     ]
    }
   ],
   "source": [
    "from django.contrib.gis.geos import Point, LineString as DjangoLineString\n",
    "from django.contrib.gis.db.models.functions import Distance\n",
    "from turfpy.misc import nearest_point_on_line\n",
    "from turfpy.measurement import length\n",
    "from geojson import LineString, loads\n",
    "from helpers.histories import bulk_update_with_history\n",
    "from tqdm.notebook import tqdm"
   ]
  },
  {
   "cell_type": "code",
   "execution_count": 4,
   "metadata": {},
   "outputs": [],
   "source": [
    "def km_to_coordinates(road, km):\n",
    "\n",
    "    road_marks = dic_to_ordered_list(road.marks)\n",
    "    selected_pair = None\n",
    "\n",
    "    for pair in unequal_point_pairs(road_marks):\n",
    "        if pair[0][\"km\"] > km and pair[1][\"km\"] < km:\n",
    "            selected_pair = pair\n",
    "            break\n",
    "        elif pair[1][\"km\"] > km and pair[0][\"km\"] < km:\n",
    "            selected_pair = pair\n",
    "            break\n",
    "        elif pair[0][\"km\"] == km:\n",
    "            return Point(pair[0][\"point\"][\"coordinates\"]), road\n",
    "        elif pair[1][\"km\"] == km:\n",
    "            return Point(pair[1][\"point\"][\"coordinates\"]), road\n",
    "\n",
    "    # Calculate total length\n",
    "    start_km = min([selected_pair[0][\"km\"], selected_pair[1][\"km\"]])\n",
    "    end_km = max([selected_pair[0][\"km\"], selected_pair[1][\"km\"]])\n",
    "    segment_mark_length = end_km - start_km\n",
    "    distance_from_min = km - start_km\n",
    "    # Check if km is decreasing\n",
    "    invert_km = selected_pair[1][\"km\"] <= selected_pair[0][\"km\"]\n",
    "\n",
    "    # Cut segment\n",
    "    start_key = min((selected_pair[0][\"index\"], selected_pair[1][\"index\"]))\n",
    "    end_key = max((selected_pair[0][\"index\"], selected_pair[1][\"index\"]))\n",
    "\n",
    "    points = []\n",
    "    for key in range(start_key, end_key + 1):\n",
    "        points.append(\n",
    "            Point(road.path[key][0], road.path[key][1], road.path[key][2])\n",
    "        )\n",
    "\n",
    "    segment = LineString(points, srid=4326)\n",
    "    # Apply km inversion correction\n",
    "    if invert_km:\n",
    "        segment_distance = (\n",
    "            1 - (distance_from_min / segment_mark_length)\n",
    "        ) * segment.length\n",
    "    else:\n",
    "        segment_distance = (\n",
    "            distance_from_min / segment_mark_length\n",
    "        ) * segment.length\n",
    "    # Find point\n",
    "    point = segment.interpolate(segment_distance)\n",
    "\n",
    "    return Point(point.x, point.y), road"
   ]
  },
  {
   "cell_type": "code",
   "execution_count": 5,
   "metadata": {},
   "outputs": [],
   "source": [
    "def check_valid_road(road, km):\n",
    "\n",
    "    road_marks = dic_to_ordered_list(road.marks)\n",
    "\n",
    "    for pair in unequal_point_pairs(road_marks):\n",
    "        if pair[0][\"km\"] >= km and pair[1][\"km\"] <= km:\n",
    "            return True\n",
    "        elif pair[1][\"km\"] >= km and pair[0][\"km\"] <= km:\n",
    "            return True\n",
    "\n",
    "    return False"
   ]
  },
  {
   "cell_type": "code",
   "execution_count": 6,
   "metadata": {},
   "outputs": [],
   "source": [
    "def get_road_coordinates(road_name, km, direction, company):\n",
    "    road_set = Road.objects.filter(\n",
    "        name__contains=road_name, direction=int(direction), company=company\n",
    "    )\n",
    "\n",
    "    # If roads in specified direction are not found, search road only\n",
    "    # by name and order then by direction\n",
    "    road_set_generic = Road.objects.filter(\n",
    "        name__contains=road_name, company=company\n",
    "    ).order_by(\"direction\")\n",
    "\n",
    "    # Check if KM range in road_set\n",
    "#     print(\"Searching KM on direction...\")\n",
    "    valid = False\n",
    "    for road in road_set:\n",
    "        if check_valid_road(road, km):\n",
    "#             print(\"Found KM on Road {}\".format(road))\n",
    "            valid = True\n",
    "            break\n",
    "\n",
    "    if not valid:\n",
    "#         print(\"Searching KM without direction...\")\n",
    "        for road in road_set_generic:\n",
    "            if check_valid_road(road, km):\n",
    "#                 print(\"Found KM on Road {}\".format(road))\n",
    "                valid = True\n",
    "                break\n",
    "\n",
    "    if not valid:\n",
    "        return Point(0, 0), None\n",
    "\n",
    "    try:\n",
    "        return km_to_coordinates(road, km)\n",
    "    except Exception:\n",
    "        return Point(0, 0), None"
   ]
  },
  {
   "cell_type": "code",
   "execution_count": 7,
   "metadata": {},
   "outputs": [],
   "source": [
    "def findIndex(flist, func):\n",
    "    for i,v in enumerate(flist):\n",
    "        if func(v): \n",
    "            return i\n",
    "    return -1"
   ]
  },
  {
   "cell_type": "code",
   "execution_count": 46,
   "metadata": {},
   "outputs": [],
   "source": [
    "def point_to_km(lng, lat, road):\n",
    "    point = Point(lng, lat, srid=4326)\n",
    "#     roads = Road.objects.filter(company=company).annotate(distance=Distance(point, 'path')).order_by('distance')\n",
    "#     road = roads[0]\n",
    "    path = loads(road.path.geojson)\n",
    "    point_geojson = loads(point.geojson)\n",
    "    road_marks = list(road.marks.values())\n",
    "    snap_point = nearest_point_on_line(path, point_geojson)\n",
    "    \n",
    "\n",
    "    road_markers = sorted([a for a in road_marks if 'index' in a or ('index' in a and a['index'] == 0)], key=lambda x: int(x['key']))\n",
    "#     road_markers = sorted([a for a in road_marks if a['index'] or a['index'] == 0], key=lambda x: int(x['key']))\n",
    "    rm_index = findIndex(road_markers, lambda x: x['index'] > snap_point['properties']['index'])\n",
    "    \n",
    "    if (rm_index == -1):\n",
    "        rm_index = len(road_markers) - 1;\n",
    "    \n",
    "    km_marker_start = road_markers[rm_index - 1]\n",
    "    km_marker_end = road_markers[rm_index]\n",
    "    \n",
    "    if km_marker_start['index'] == road_markers[-1]['index']: \n",
    "        snap = road_markers[-1]\n",
    "        km = snap['km']\n",
    "    elif km_marker_end['index'] == road_markers[0]['index']:\n",
    "        snap = road_markers[0]\n",
    "        km = snap['km']\n",
    "    else:\n",
    "        test = path['coordinates'][km_marker_start['index']:km_marker_end['index'] + 1]\n",
    "        marker_path = LineString(test)\n",
    "        snap = nearest_point_on_line(marker_path, point_geojson)        \n",
    "        ls_length = length(marker_path, units=\"km\")\n",
    "        km = ((snap['properties']['location'] / ls_length)        \n",
    "            * (km_marker_end['km'] - km_marker_start['km'])\n",
    "            + km_marker_start['km'])\n",
    "    \n",
    "    return road, road.name, point, round(km, 3)"
   ]
  },
  {
   "cell_type": "code",
   "execution_count": 29,
   "metadata": {},
   "outputs": [],
   "source": [
    "from collections import defaultdict\n",
    "from django.db.models.signals import *\n",
    "\n",
    "\n",
    "class DisableSignals(object):\n",
    "    def __init__(self, disabled_signals=None):\n",
    "        self.stashed_signals = defaultdict(list)\n",
    "        self.disabled_signals = disabled_signals or [\n",
    "            pre_init, post_init,\n",
    "            pre_save, post_save,\n",
    "            pre_delete, post_delete,\n",
    "            pre_migrate, post_migrate,\n",
    "        ]\n",
    "\n",
    "    def __enter__(self):\n",
    "        for signal in self.disabled_signals:\n",
    "            self.disconnect(signal)\n",
    "\n",
    "    def __exit__(self, exc_type, exc_val, exc_tb):\n",
    "        for signal in list(self.stashed_signals):\n",
    "            self.reconnect(signal)\n",
    "\n",
    "    def disconnect(self, signal):\n",
    "        self.stashed_signals[signal] = signal.receivers\n",
    "        signal.receivers = []\n",
    "\n",
    "    def reconnect(self, signal):\n",
    "        signal.receivers = self.stashed_signals.get(signal, [])\n",
    "        del self.stashed_signals[signal]"
   ]
  },
  {
   "cell_type": "code",
   "execution_count": 50,
   "metadata": {},
   "outputs": [],
   "source": [
    "def get_connected_reference(company, resource, key, value):\n",
    "    select_options = company.custom_options[resource]['fields'][key]['selectOptions']['options']\n",
    "    return next(a['value'] for a in select_options if a['name'].lower() == value.lower())"
   ]
  },
  {
   "cell_type": "code",
   "execution_count": 31,
   "metadata": {},
   "outputs": [],
   "source": [
    "def get_sign(field, sign_field, occ, value):\n",
    "    if sign_field == 'Cor':\n",
    "        value=value.capitalize()\n",
    "    elif sign_field == 'Tipo de Película':\n",
    "        value=value\n",
    "    values = occ.form_fields['fields']\n",
    "    item_translation = flatten([item['innerFields'] for item in values if item['displayName']==field])\n",
    "#     print(item_translation)\n",
    "    mid_translation = flatten([item['selectOptions']['options'] for item in item_translation if item['displayName'] == sign_field])\n",
    "#     print(mid_translation)\n",
    "    final_translation = {item['name']: item['value'] for item in mid_translation}\n",
    "#     print(final_translation)\n",
    "    return final_translation[value]"
   ]
  },
  {
   "cell_type": "code",
   "execution_count": 32,
   "metadata": {},
   "outputs": [],
   "source": [
    "def get_value(field, occ, value):\n",
    "    values = occ.form_fields['fields']\n",
    "    item_translation = flatten([item['selectOptions']['options'] for item in values if item['displayName']==field])\n",
    "#     print(item_translation)\n",
    "\n",
    "    final_translation = {item['name']: item['value'] for item in item_translation}\n",
    "#     print(final_translation)\n",
    "    return final_translation[value]"
   ]
  },
  {
   "cell_type": "markdown",
   "metadata": {},
   "source": [
    " Verificando se está no ambiente de produção"
   ]
  },
  {
   "cell_type": "code",
   "execution_count": 33,
   "metadata": {},
   "outputs": [
    {
     "name": "stdout",
     "output_type": "stream",
     "text": [
      "STAGE=PRODUCTION\r\n"
     ]
    }
   ],
   "source": [
    "!cat ~/kartado-backend/.env"
   ]
  },
  {
   "cell_type": "markdown",
   "metadata": {},
   "source": [
    "Escolhendo nome do arquivo Excel para carregar o Inventário"
   ]
  },
  {
   "cell_type": "code",
   "execution_count": 34,
   "metadata": {},
   "outputs": [],
   "source": [
    "filename='Sinalização Aérea ERS 122 - CORRIGIDO'"
   ]
  },
  {
   "cell_type": "markdown",
   "metadata": {},
   "source": [
    "Escolhendo a aba da planilha do Excel"
   ]
  },
  {
   "cell_type": "code",
   "execution_count": 35,
   "metadata": {},
   "outputs": [],
   "source": [
    "wb = load_workbook(filename + '.xlsx')\n",
    "sheetname = wb.sheetnames[1]\n",
    "ws = wb[sheetname]"
   ]
  },
  {
   "cell_type": "markdown",
   "metadata": {},
   "source": [
    "Testando planilha carregada do Excel"
   ]
  },
  {
   "cell_type": "code",
   "execution_count": 36,
   "metadata": {},
   "outputs": [
    {
     "name": "stdout",
     "output_type": "stream",
     "text": [
      "km\n"
     ]
    }
   ],
   "source": [
    "print(ws['A1'].value)"
   ]
  },
  {
   "cell_type": "markdown",
   "metadata": {},
   "source": [
    "Carregando os valores no script"
   ]
  },
  {
   "cell_type": "code",
   "execution_count": 37,
   "metadata": {},
   "outputs": [],
   "source": [
    "header = []\n",
    "values = []\n",
    "\n",
    "for index, row in enumerate(ws.rows):\n",
    "    if index == 0:\n",
    "        header = list([a.value for a in row])\n",
    "        continue\n",
    "    obj = {}\n",
    "    for col_index, cell in enumerate(row):\n",
    "        value = cell.value\n",
    "        obj[header[col_index]] = value\n",
    "    if obj['Rodovia'] is not None:           \n",
    "   \n",
    "        obj['img'] = [a for a in ws._images if a.anchor._from.row == index]\n",
    "\n",
    "        try:\n",
    "            for a in obj['img']:\n",
    "                a.name = 'CSG'\n",
    "#             obj['img'][0].name='Verso'\n",
    "        except:\n",
    "            pass\n",
    "\n",
    "        \n",
    "    values.append(obj)"
   ]
  },
  {
   "cell_type": "markdown",
   "metadata": {},
   "source": [
    "Teste de valores importados da planilha"
   ]
  },
  {
   "cell_type": "code",
   "execution_count": 24,
   "metadata": {
    "collapsed": true
   },
   "outputs": [
    {
     "data": {
      "text/plain": [
       "(197,\n",
       " {'km': None,\n",
       "  'km final': None,\n",
       "  'km de Projeto': 138.06493342427763,\n",
       "  'km final de Projeto': None,\n",
       "  'Latitude_Inicial': -29.667,\n",
       "  'Longitude_Inicial': -51.2559,\n",
       "  'Latitude_Final': None,\n",
       "  'Longitude_Final': None,\n",
       "  'Status': 'Identificado',\n",
       "  'Equipe/Empreiteira': 'Cadastro incial',\n",
       "  'Encontrado em': None,\n",
       "  'Executado em': None,\n",
       "  'Sentido': 'Crescente',\n",
       "  'Pista': 'DUPLA',\n",
       "  'Classe': 'Sinalização Aérea',\n",
       "  'Lado': 'Direito',\n",
       "  'Faixa': 'Não se aplica',\n",
       "  'Rodovia': 'ERS-122',\n",
       "  'Código': 'I-4',\n",
       "  'Data da medição atual': datetime.datetime(2023, 3, 8, 0, 0),\n",
       "  'Fabricante': None,\n",
       "  'Data de fabricação': None,\n",
       "  'Tipo de suporte': 'PRAÇA PEDÁGIO',\n",
       "  'Estado do suporte': None,\n",
       "  'Tipo de Película': 'I',\n",
       "  'Cor_1': 'AZUL',\n",
       "  'Leitura 1 (cd/lx/m2)_1': 2,\n",
       "  'Leitura 2 (cd/lx/m2)_1': 2.5,\n",
       "  'Leitura 3 (cd/lx/m2)_1': 2.6,\n",
       "  'Leitura 4 (cd/lx/m2)_1': 4,\n",
       "  'Leitura 5 (cd/lx/m2)_1': 3.9,\n",
       "  'Média das leituras_1': 3,\n",
       "  'Valor mínimo_1': 4,\n",
       "  'Valor Residual_1': 2,\n",
       "  'Cor_2': 'BRANCO',\n",
       "  'Leitura 1 (cd/lx/m2)_2': 41,\n",
       "  'Leitura 2 (cd/lx/m2)_2': 43,\n",
       "  'Leitura 3 (cd/lx/m2)_2': 54,\n",
       "  'Leitura 4 (cd/lx/m2)_2': 37,\n",
       "  'Leitura 5 (cd/lx/m2)_2': 59,\n",
       "  'Média das leituras_2': 46.8,\n",
       "  'Valor mínimo_2': 70,\n",
       "  'Valor Residual_2': 35,\n",
       "  'Cor_3': None,\n",
       "  'Leitura 1 (cd/lx/m2)_3': None,\n",
       "  'Leitura 2 (cd/lx/m2)_3': None,\n",
       "  'Leitura 3 (cd/lx/m2)_3': None,\n",
       "  'Leitura 4 (cd/lx/m2)_3': None,\n",
       "  'Leitura 5 (cd/lx/m2)_3': None,\n",
       "  'Média das leituras_3': '',\n",
       "  'Valor mínimo_3': '',\n",
       "  'Valor Residual_3': '',\n",
       "  'Observações': None,\n",
       "  'Foto_1': None,\n",
       "  'Data Foto_1': None,\n",
       "  'Tipo Foto_1': None,\n",
       "  'Descrição Foto_1': None,\n",
       "  'Foto_2': None,\n",
       "  'Data Foto_2': None,\n",
       "  'Tipo Foto_2': None,\n",
       "  'Descrição Foto_2': None,\n",
       "  'Foto_3': None,\n",
       "  'Data Foto_3': None,\n",
       "  'Tipo Foto_3': None,\n",
       "  'Descrição Foto_3': None,\n",
       "  'Foto_4': None,\n",
       "  'Data Foto_4': None,\n",
       "  'Tipo Foto_4': None,\n",
       "  'Descrição Foto_4': None,\n",
       "  'Foto_5': None,\n",
       "  'Data Foto_5': None,\n",
       "  'Tipo Foto_5': None,\n",
       "  'Descrição Foto_5': None,\n",
       "  'Foto_6': None,\n",
       "  'Data Foto_6': None,\n",
       "  'Tipo Foto_6': None,\n",
       "  'Descrição Foto_6': None,\n",
       "  'Foto_7': None,\n",
       "  'Data Foto_7': None,\n",
       "  'Tipo Foto_7': None,\n",
       "  'Descrição Foto_7': None,\n",
       "  'Foto_8': None,\n",
       "  'Data Foto_8': None,\n",
       "  'Tipo Foto_8': None,\n",
       "  'Descrição Foto_8': None,\n",
       "  'Foto_9': None,\n",
       "  'Data Foto_9': None,\n",
       "  'Tipo Foto_9': None,\n",
       "  'Descrição Foto_9': None,\n",
       "  'Foto_10': None,\n",
       "  'Data Foto_10': None,\n",
       "  'Tipo Foto_10': None,\n",
       "  'Descrição Foto_10': None,\n",
       "  'img': [<openpyxl.drawing.image.Image at 0x7f03af17b050>]})"
      ]
     },
     "execution_count": 24,
     "metadata": {},
     "output_type": "execute_result"
    }
   ],
   "source": [
    "len(values),values[0]"
   ]
  },
  {
   "cell_type": "markdown",
   "metadata": {},
   "source": [
    "Definindo valores da importação"
   ]
  },
  {
   "cell_type": "code",
   "execution_count": 2,
   "metadata": {},
   "outputs": [
    {
     "data": {
      "text/plain": [
       "(<Company: 4edb7778-e350-4e77-8e1e-de5f87b1da7f: Caminhos da Serra Gaúcha>,\n",
       " <OccurrenceType: Sinalização Aérea - ['Caminhos da Serra Gaúcha']>,\n",
       " <Firm: [4edb7778-e350-4e77-8e1e-de5f87b1da7f: Caminhos da Serra Gaúcha] 0edd2ecc-8d5e-4444-898b-0069a3e9c354: Cadastro incial>)"
      ]
     },
     "execution_count": 2,
     "metadata": {},
     "output_type": "execute_result"
    }
   ],
   "source": [
    "company = Company.objects.get(name='Caminhos da Serra Gaúcha')\n",
    "\n",
    "#Classe Sinalização Aérea\n",
    "occurrence_type=OccurrenceType.objects.get(uuid='122d1706-1bff-4960-9063-0b26f1059336')\n",
    "\n",
    "user=User.objects.get(username='rlcs')\n",
    "status=ServiceOrderActionStatus.objects.get(companies=company, name='Identificado')\n",
    "# step=ApprovalStep.objects.get(approval_flow__company=company, name='Em Elaboração')\n",
    "firm=Firm.objects.get(uuid='0edd2ecc-8d5e-4444-898b-0069a3e9c354')\n",
    "sign_name='Retrorrefletância'\n",
    "company,occurrence_type,firm"
   ]
  },
  {
   "cell_type": "code",
   "execution_count": 52,
   "metadata": {},
   "outputs": [
    {
     "data": {
      "application/vnd.jupyter.widget-view+json": {
       "model_id": "42e9e8fbdff24c73b515be1a872f3206",
       "version_major": 2,
       "version_minor": 0
      },
      "text/plain": [
       "  0%|          | 0/197 [00:00<?, ?it/s]"
      ]
     },
     "metadata": {},
     "output_type": "display_data"
    }
   ],
   "source": [
    "for a in tqdm(values):\n",
    "    a['Retrorrefletância'] = list(filter(None, [{'color': get_sign(sign_name,'Cor',occurrence_type,a['Cor_1']) if a['Cor_1'] is not None else None,'type_of_film': get_sign(sign_name,'Tipo de Película',occurrence_type,a['Tipo de Película']) if a['Tipo de Película'] is not None else None, 'first': a['Leitura 1 (cd/lx/m2)_1'], 'second': a['Leitura 2 (cd/lx/m2)_1'], 'third': a['Leitura 3 (cd/lx/m2)_1'], 'fourth': a['Leitura 4 (cd/lx/m2)_1'], 'fifth': a['Leitura 5 (cd/lx/m2)_1'], 'average': a['Média das leituras_1'], 'initial_value': a['Valor mínimo_1'], 'residual_value': a['Valor Residual_1']} if a['Cor_1'] is not None else None,\n",
    "                                  {'color': get_sign(sign_name,'Cor',occurrence_type,a['Cor_2']) if a['Cor_2'] is not None else None,'type_of_film': get_sign(sign_name,'Tipo de Película',occurrence_type,a['Tipo de Película']) if a['Tipo de Película'] is not None else None, 'first': a['Leitura 1 (cd/lx/m2)_2'], 'second': a['Leitura 2 (cd/lx/m2)_2'], 'third': a['Leitura 3 (cd/lx/m2)_2'], 'fourth': a['Leitura 4 (cd/lx/m2)_2'], 'fifth': a['Leitura 5 (cd/lx/m2)_2'], 'average': a['Média das leituras_2'], 'initial_value': a['Valor mínimo_2'], 'residual_value': a['Valor Residual_2']} if a['Cor_2'] is not None else None,\n",
    "                                  {'color': get_sign(sign_name,'Cor',occurrence_type,a['Cor_3']) if a['Cor_3'] is not None else None,'type_of_film': get_sign(sign_name,'Tipo de Película',occurrence_type,a['Tipo de Película']) if a['Tipo de Película'] is not None else None, 'first': a['Leitura 1 (cd/lx/m2)_3'], 'second': a['Leitura 2 (cd/lx/m2)_3'], 'third': a['Leitura 3 (cd/lx/m2)_3'], 'fourth': a['Leitura 4 (cd/lx/m2)_3'], 'fifth': a['Leitura 5 (cd/lx/m2)_3'], 'average': a['Média das leituras_3'], 'initial_value': a['Valor mínimo_3'], 'residual_value': a['Valor Residual_3']} if a['Cor_3'] is not None else None]))"
   ]
  },
  {
   "cell_type": "code",
   "execution_count": 3,
   "metadata": {},
   "outputs": [
    {
     "ename": "NameError",
     "evalue": "name 'Distance' is not defined",
     "output_type": "error",
     "traceback": [
      "\u001b[0;31m---------------------------------------------------------------------------\u001b[0m",
      "\u001b[0;31mNameError\u001b[0m                                 Traceback (most recent call last)",
      "\u001b[0;32m/tmp/ipykernel_43662/2073034428.py\u001b[0m in \u001b[0;36m<module>\u001b[0;34m\u001b[0m\n\u001b[0;32m----> 1\u001b[0;31m \u001b[0mroad\u001b[0m\u001b[0;34m=\u001b[0m\u001b[0mRoad\u001b[0m\u001b[0;34m.\u001b[0m\u001b[0mobjects\u001b[0m\u001b[0;34m.\u001b[0m\u001b[0mfilter\u001b[0m\u001b[0;34m(\u001b[0m\u001b[0mcompany\u001b[0m\u001b[0;34m=\u001b[0m\u001b[0mcompany\u001b[0m\u001b[0;34m,\u001b[0m\u001b[0mname__icontains\u001b[0m\u001b[0;34m=\u001b[0m\u001b[0;34m\"122\"\u001b[0m\u001b[0;34m)\u001b[0m\u001b[0;34m.\u001b[0m\u001b[0mannotate\u001b[0m\u001b[0;34m(\u001b[0m\u001b[0mdistance\u001b[0m\u001b[0;34m=\u001b[0m\u001b[0mDistance\u001b[0m\u001b[0;34m(\u001b[0m\u001b[0mpoint\u001b[0m\u001b[0;34m,\u001b[0m \u001b[0;34m'path'\u001b[0m\u001b[0;34m)\u001b[0m\u001b[0;34m)\u001b[0m\u001b[0;34m.\u001b[0m\u001b[0morder_by\u001b[0m\u001b[0;34m(\u001b[0m\u001b[0;34m'distance'\u001b[0m\u001b[0;34m)\u001b[0m\u001b[0;34m.\u001b[0m\u001b[0mfirst\u001b[0m\u001b[0;34m(\u001b[0m\u001b[0;34m)\u001b[0m\u001b[0;34m\u001b[0m\u001b[0;34m\u001b[0m\u001b[0m\n\u001b[0m\u001b[1;32m      2\u001b[0m \u001b[0mroad\u001b[0m\u001b[0;34m\u001b[0m\u001b[0;34m\u001b[0m\u001b[0m\n",
      "\u001b[0;31mNameError\u001b[0m: name 'Distance' is not defined"
     ]
    }
   ],
   "source": [
    "road=Road.objects.filter(company=company,name__icontains=\"122\").annotate(distance=Distance(point, 'path')).order_by('distance').first()\n",
    "road"
   ]
  },
  {
   "cell_type": "code",
   "execution_count": 47,
   "metadata": {
    "collapsed": true
   },
   "outputs": [
    {
     "data": {
      "text/plain": [
       "(<Road: 2059: ERS-122>,\n",
       " <Point object at 0x7f03ad8eba30>,\n",
       " 38.194,\n",
       " {'km': None,\n",
       "  'km final': None,\n",
       "  'km de Projeto': 138.06493342427763,\n",
       "  'km final de Projeto': None,\n",
       "  'Latitude_Inicial': -29.667,\n",
       "  'Longitude_Inicial': -51.2559,\n",
       "  'Latitude_Final': None,\n",
       "  'Longitude_Final': None,\n",
       "  'Status': 'Identificado',\n",
       "  'Equipe/Empreiteira': 'Cadastro incial',\n",
       "  'Encontrado em': None,\n",
       "  'Executado em': None,\n",
       "  'Sentido': 'Crescente',\n",
       "  'Pista': 'DUPLA',\n",
       "  'Classe': 'Sinalização Aérea',\n",
       "  'Lado': 'Direito',\n",
       "  'Faixa': 'Não se aplica',\n",
       "  'Rodovia': 'ERS-122',\n",
       "  'Código': 'I-4',\n",
       "  'Data da medição atual': datetime.datetime(2023, 3, 8, 0, 0),\n",
       "  'Fabricante': None,\n",
       "  'Data de fabricação': None,\n",
       "  'Tipo de suporte': 'PRAÇA PEDÁGIO',\n",
       "  'Estado do suporte': None,\n",
       "  'Tipo de Película': 'I',\n",
       "  'Cor_1': 'AZUL',\n",
       "  'Leitura 1 (cd/lx/m2)_1': 2,\n",
       "  'Leitura 2 (cd/lx/m2)_1': 2.5,\n",
       "  'Leitura 3 (cd/lx/m2)_1': 2.6,\n",
       "  'Leitura 4 (cd/lx/m2)_1': 4,\n",
       "  'Leitura 5 (cd/lx/m2)_1': 3.9,\n",
       "  'Média das leituras_1': 3,\n",
       "  'Valor mínimo_1': 4,\n",
       "  'Valor Residual_1': 2,\n",
       "  'Cor_2': 'BRANCO',\n",
       "  'Leitura 1 (cd/lx/m2)_2': 41,\n",
       "  'Leitura 2 (cd/lx/m2)_2': 43,\n",
       "  'Leitura 3 (cd/lx/m2)_2': 54,\n",
       "  'Leitura 4 (cd/lx/m2)_2': 37,\n",
       "  'Leitura 5 (cd/lx/m2)_2': 59,\n",
       "  'Média das leituras_2': 46.8,\n",
       "  'Valor mínimo_2': 70,\n",
       "  'Valor Residual_2': 35,\n",
       "  'Cor_3': None,\n",
       "  'Leitura 1 (cd/lx/m2)_3': None,\n",
       "  'Leitura 2 (cd/lx/m2)_3': None,\n",
       "  'Leitura 3 (cd/lx/m2)_3': None,\n",
       "  'Leitura 4 (cd/lx/m2)_3': None,\n",
       "  'Leitura 5 (cd/lx/m2)_3': None,\n",
       "  'Média das leituras_3': '',\n",
       "  'Valor mínimo_3': '',\n",
       "  'Valor Residual_3': '',\n",
       "  'Observações': None,\n",
       "  'Foto_1': None,\n",
       "  'Data Foto_1': None,\n",
       "  'Tipo Foto_1': None,\n",
       "  'Descrição Foto_1': None,\n",
       "  'Foto_2': None,\n",
       "  'Data Foto_2': None,\n",
       "  'Tipo Foto_2': None,\n",
       "  'Descrição Foto_2': None,\n",
       "  'Foto_3': None,\n",
       "  'Data Foto_3': None,\n",
       "  'Tipo Foto_3': None,\n",
       "  'Descrição Foto_3': None,\n",
       "  'Foto_4': None,\n",
       "  'Data Foto_4': None,\n",
       "  'Tipo Foto_4': None,\n",
       "  'Descrição Foto_4': None,\n",
       "  'Foto_5': None,\n",
       "  'Data Foto_5': None,\n",
       "  'Tipo Foto_5': None,\n",
       "  'Descrição Foto_5': None,\n",
       "  'Foto_6': None,\n",
       "  'Data Foto_6': None,\n",
       "  'Tipo Foto_6': None,\n",
       "  'Descrição Foto_6': None,\n",
       "  'Foto_7': None,\n",
       "  'Data Foto_7': None,\n",
       "  'Tipo Foto_7': None,\n",
       "  'Descrição Foto_7': None,\n",
       "  'Foto_8': None,\n",
       "  'Data Foto_8': None,\n",
       "  'Tipo Foto_8': None,\n",
       "  'Descrição Foto_8': None,\n",
       "  'Foto_9': None,\n",
       "  'Data Foto_9': None,\n",
       "  'Tipo Foto_9': None,\n",
       "  'Descrição Foto_9': None,\n",
       "  'Foto_10': None,\n",
       "  'Data Foto_10': None,\n",
       "  'Tipo Foto_10': None,\n",
       "  'Descrição Foto_10': None,\n",
       "  'img': [<openpyxl.drawing.image.Image at 0x7f03ad4e8390>]})"
      ]
     },
     "execution_count": 47,
     "metadata": {},
     "output_type": "execute_result"
    }
   ],
   "source": [
    "road,_,point,km =point_to_km(float(values[3]['Longitude_Inicial']),float(values[3]['Latitude_Inicial']),road)\n",
    "road,point,km,values[0]"
   ]
  },
  {
   "cell_type": "markdown",
   "metadata": {},
   "source": [
    "Criando itens de Inventário"
   ]
  },
  {
   "cell_type": "code",
   "execution_count": 54,
   "metadata": {},
   "outputs": [
    {
     "data": {
      "application/vnd.jupyter.widget-view+json": {
       "model_id": "202dff81002843e0aad1f288b895f23c",
       "version_major": 2,
       "version_minor": 0
      },
      "text/plain": [
       "  0%|          | 0/197 [00:00<?, ?it/s]"
      ]
     },
     "metadata": {},
     "output_type": "display_data"
    },
    {
     "ename": "ValueError",
     "evalue": "could not convert string to float: 'None'",
     "output_type": "error",
     "traceback": [
      "\u001b[0;31m---------------------------------------------------------------------------\u001b[0m",
      "\u001b[0;31mValueError\u001b[0m                                Traceback (most recent call last)",
      "\u001b[0;32m/tmp/ipykernel_40397/1786118709.py\u001b[0m in \u001b[0;36m<module>\u001b[0;34m\u001b[0m\n\u001b[1;32m      7\u001b[0m     \u001b[0mlat\u001b[0m\u001b[0;34m=\u001b[0m\u001b[0mstr\u001b[0m\u001b[0;34m(\u001b[0m\u001b[0ma\u001b[0m\u001b[0;34m[\u001b[0m\u001b[0;34m'Latitude_Inicial'\u001b[0m\u001b[0;34m]\u001b[0m\u001b[0;34m)\u001b[0m\u001b[0;34m.\u001b[0m\u001b[0mreplace\u001b[0m\u001b[0;34m(\u001b[0m\u001b[0;34m','\u001b[0m\u001b[0;34m,\u001b[0m\u001b[0;34m'.'\u001b[0m\u001b[0;34m)\u001b[0m\u001b[0;34m\u001b[0m\u001b[0;34m\u001b[0m\u001b[0m\n\u001b[1;32m      8\u001b[0m     \u001b[0mpista\u001b[0m \u001b[0;34m=\u001b[0m \u001b[0;34m'Pista Dupla'\u001b[0m \u001b[0;32mif\u001b[0m \u001b[0ma\u001b[0m\u001b[0;34m[\u001b[0m\u001b[0;34m'Pista'\u001b[0m\u001b[0;34m]\u001b[0m \u001b[0;34m==\u001b[0m \u001b[0;34m'DUPLA'\u001b[0m \u001b[0;32melse\u001b[0m \u001b[0;34m'Pista Simples'\u001b[0m\u001b[0;34m\u001b[0m\u001b[0;34m\u001b[0m\u001b[0m\n\u001b[0;32m----> 9\u001b[0;31m     \u001b[0mroad\u001b[0m\u001b[0;34m,\u001b[0m\u001b[0m_\u001b[0m\u001b[0;34m,\u001b[0m\u001b[0mpoint\u001b[0m\u001b[0;34m,\u001b[0m\u001b[0mkm\u001b[0m \u001b[0;34m=\u001b[0m\u001b[0mpoint_to_km\u001b[0m\u001b[0;34m(\u001b[0m\u001b[0mfloat\u001b[0m\u001b[0;34m(\u001b[0m\u001b[0mlong\u001b[0m\u001b[0;34m)\u001b[0m\u001b[0;34m,\u001b[0m\u001b[0mfloat\u001b[0m\u001b[0;34m(\u001b[0m\u001b[0mlat\u001b[0m\u001b[0;34m)\u001b[0m\u001b[0;34m,\u001b[0m\u001b[0mroad\u001b[0m\u001b[0;34m)\u001b[0m\u001b[0;34m\u001b[0m\u001b[0;34m\u001b[0m\u001b[0m\n\u001b[0m\u001b[1;32m     10\u001b[0m \u001b[0;31m#     if a['Longitude_Final'] and a['Latitude_Final']:\u001b[0m\u001b[0;34m\u001b[0m\u001b[0;34m\u001b[0m\u001b[0;34m\u001b[0m\u001b[0m\n\u001b[1;32m     11\u001b[0m \u001b[0;31m#         long_end=str(a['Longitude_Inicial'])[:3]+'.'+str(a['Longitude_Inicial'])[3:]\u001b[0m\u001b[0;34m\u001b[0m\u001b[0;34m\u001b[0m\u001b[0;34m\u001b[0m\u001b[0m\n",
      "\u001b[0;31mValueError\u001b[0m: could not convert string to float: 'None'"
     ]
    }
   ],
   "source": [
    "objects=[]\n",
    "\n",
    "\n",
    "for index, a in enumerate(tqdm(values)):\n",
    "\n",
    "    long=str(a['Longitude_Inicial']).replace(',','.')\n",
    "    lat=str(a['Latitude_Inicial']).replace(',','.')\n",
    "    pista = 'Pista Dupla' if a['Pista'] == 'DUPLA' else 'Pista Simples'\n",
    "    road,_,point,km =point_to_km(float(long),float(lat),road)\n",
    "#     if a['Longitude_Final'] and a['Latitude_Final']:\n",
    "#         long_end=str(a['Longitude_Inicial'])[:3]+'.'+str(a['Longitude_Inicial'])[3:]\n",
    "#         lat_end=str(a['Latitude_Inicial'])[:3]+'.'+str(a['Latitude_Inicial'])[3:]\n",
    "#         _,_,_,end_km =point_to_km(float(long_end),float(lat_end),company)\n",
    "    if '122' not in road.name:\n",
    "        print(f'Arquivo\"{filename}\" - Rodovia {road} - Km:{km} - Linha: {index+2}')\n",
    "        break\n",
    "    try:\n",
    "        \n",
    "        objects.append((Reporting(\n",
    "                    company=company,\n",
    "                    occurrence_type=occurrence_type,\n",
    "                    lane=str(get_connected_reference(company, 'reporting', 'lane', pista)),\n",
    "                    road=road,\n",
    "                    road_name=road.name,\n",
    "                    direction=str(get_connected_reference(company, 'reporting', 'direction', a['Sentido'])),\n",
    "                    created_by=user,\n",
    "#                     found_at=datetime.datetime('2023-05-08'),\n",
    "                    km=float(km),\n",
    "#                     end_km=float(end_km) if a['Longitude_Final'] is not None and a['Latitude_Final'] else None,\n",
    "                    point=point,\n",
    "                    firm=firm,\n",
    "                    status=status,\n",
    "                    form_data={\n",
    "                        'code': a['Código'],\n",
    "                        'side': get_value('Lado',occurrence_type,str(a['Lado']).capitalize().strip()) if a['Lado'] is not None else None,\n",
    "                        'datemeasurement': a['Data da medição atual'].strftime('%Y-%m-%dT03:00:00.000Z') if a['Data da medição atual'] is not None and a['Data da medição atual'] != '' else None,\n",
    "                        'manufacturer': a['Fabricante'] if a['Fabricante'] is not None else None,\n",
    "                        'datemanufacture': datetime.datetime(int(a[\"Data de fabricação\"]), 1, 1, 0, 0).strftime('%Y-%m-%dT03:00:00.000Z') if a['Data de fabricação'] is not None else None,\n",
    "                        'typesupport': a['Tipo de suporte'] if a['Tipo de suporte'] is not None else None,\n",
    "                        'statesupport': a['Estado do suporte'] if a['Estado do suporte'] is not None else None,\n",
    "                        'retro': a['Retrorrefletância'] if a['Retrorrefletância'] is not None else None,\n",
    "                        \n",
    "                    }, \n",
    "                    ),a['img']))\n",
    "    except Exception as e:\n",
    "\n",
    "        print(f'Arquivo\"{filename}\" - Rodovia {road} - Km:{km} - Linha: {index+2} - {e}')\n",
    "        print(objects.form_data)"
   ]
  },
  {
   "cell_type": "markdown",
   "metadata": {},
   "source": [
    "Salvando itens de Inventário no sistema e imprimindo os seriais"
   ]
  },
  {
   "cell_type": "code",
   "execution_count": 56,
   "metadata": {},
   "outputs": [
    {
     "data": {
      "text/plain": [
       "(18,\n",
       " {'_state': <django.db.models.base.ModelState at 0x7f03af4accd0>,\n",
       "  'uuid': UUID('56077283-5506-4d22-a994-421a7eb16f33'),\n",
       "  'number': '',\n",
       "  'company_id': UUID('4edb7778-e350-4e77-8e1e-de5f87b1da7f'),\n",
       "  'road_name': 'ERS-122',\n",
       "  'road_id': 2059,\n",
       "  'km': 38.194,\n",
       "  'end_km': None,\n",
       "  'km_reference': None,\n",
       "  'project_km': 0,\n",
       "  'project_end_km': None,\n",
       "  'point': <Point object at 0x7f03acd3a520>,\n",
       "  'direction': '0',\n",
       "  'lane': '1',\n",
       "  'track': None,\n",
       "  'branch': None,\n",
       "  'address': {},\n",
       "  'created_by_id': UUID('508a66f3-3f58-4c4e-bc9a-fbba6078c02d'),\n",
       "  'firm_id': UUID('0edd2ecc-8d5e-4444-898b-0069a3e9c354'),\n",
       "  'occurrence_type_id': UUID('122d1706-1bff-4960-9063-0b26f1059336'),\n",
       "  'form_data': {'code': 'I-3',\n",
       "   'side': '1',\n",
       "   'datemeasurement': '2023-03-10T03:00:00.000Z',\n",
       "   'manufacturer': None,\n",
       "   'datemanufacture': None,\n",
       "   'typesupport': 'PÓRTICO',\n",
       "   'statesupport': 'BOM',\n",
       "   'retro': [{'color': '2',\n",
       "     'type_of_film': '1',\n",
       "     'first': 3,\n",
       "     'second': 4.5,\n",
       "     'third': 6,\n",
       "     'fourth': 4,\n",
       "     'fifth': 2,\n",
       "     'average': 3.9,\n",
       "     'initial_value': 9,\n",
       "     'residual_value': 4.5},\n",
       "    {'color': '5',\n",
       "     'type_of_film': '1',\n",
       "     'first': 74,\n",
       "     'second': 71,\n",
       "     'third': 49,\n",
       "     'fourth': 42,\n",
       "     'fifth': 40,\n",
       "     'average': 55.2,\n",
       "     'initial_value': 70,\n",
       "     'residual_value': 35}]},\n",
       "  'form_metadata': {},\n",
       "  'executed_at': None,\n",
       "  'created_at': None,\n",
       "  'updated_at': None,\n",
       "  'found_at': datetime.datetime(2023, 7, 25, 18, 53, 50, 954511, tzinfo=<UTC>),\n",
       "  'due_at': None,\n",
       "  'status_id': UUID('c4b0df55-dc0e-47ba-83e7-86080047a8d5'),\n",
       "  'job_id': None,\n",
       "  'parent_id': None,\n",
       "  'active_inspection_id': None,\n",
       "  'due_at_manually_specified': False,\n",
       "  'end_km_manually_specified': False,\n",
       "  'project_end_km_manually_specified': False,\n",
       "  'editable': True,\n",
       "  'approval_step_id': None,\n",
       "  'keywords': '',\n",
       "  'lot': None,\n",
       "  'technical_opinion': None,\n",
       "  'construction_id': None,\n",
       "  'pdf_import_id': None,\n",
       "  '_fieldsignals_originals': {(139654352833616,\n",
       "    139654393774880): {'uuid': UUID('56077283-5506-4d22-a994-421a7eb16f33'), 'number': '', 'company': UUID('4edb7778-e350-4e77-8e1e-de5f87b1da7f'), 'road_name': 'ERS-122', 'road': 2059, 'km': 38.194, 'project_km': 0.0, 'point': <Point object at 0x7f03acd3ad90>, 'direction': '0', 'lane': '1', 'address': {}, 'created_by': UUID('508a66f3-3f58-4c4e-bc9a-fbba6078c02d'), 'firm': UUID('0edd2ecc-8d5e-4444-898b-0069a3e9c354'), 'occurrence_type': UUID('122d1706-1bff-4960-9063-0b26f1059336'), 'form_data': {'code': 'I-3',\n",
       "     'side': '1',\n",
       "     'datemeasurement': '2023-03-10T03:00:00.000Z',\n",
       "     'manufacturer': None,\n",
       "     'datemanufacture': None,\n",
       "     'typesupport': 'PÓRTICO',\n",
       "     'statesupport': 'BOM',\n",
       "     'retro': [{'color': '2',\n",
       "       'type_of_film': '1',\n",
       "       'first': 3,\n",
       "       'second': 4.5,\n",
       "       'third': 6,\n",
       "       'fourth': 4,\n",
       "       'fifth': 2,\n",
       "       'average': 3.9,\n",
       "       'initial_value': 9,\n",
       "       'residual_value': 4.5},\n",
       "      {'color': '5',\n",
       "       'type_of_film': '1',\n",
       "       'first': 74,\n",
       "       'second': 71,\n",
       "       'third': 49,\n",
       "       'fourth': 42,\n",
       "       'fifth': 40,\n",
       "       'average': 55.2,\n",
       "       'initial_value': 70,\n",
       "       'residual_value': 35}]}, 'form_metadata': {}, 'found_at': datetime.datetime(2023, 7, 25, 18, 53, 50, 954511, tzinfo=<UTC>), 'status': UUID('c4b0df55-dc0e-47ba-83e7-86080047a8d5'), 'due_at_manually_specified': False, 'end_km_manually_specified': False, 'project_end_km_manually_specified': False, 'editable': True, 'keywords': ''},\n",
       "   (139654352833488,\n",
       "    139653928902240): {'uuid': UUID('56077283-5506-4d22-a994-421a7eb16f33'), 'number': '', 'company': UUID('4edb7778-e350-4e77-8e1e-de5f87b1da7f'), 'road_name': 'ERS-122', 'road': 2059, 'km': 38.194, 'project_km': 0.0, 'point': <Point object at 0x7f03acd3ac70>, 'direction': '0', 'lane': '1', 'address': {}, 'created_by': UUID('508a66f3-3f58-4c4e-bc9a-fbba6078c02d'), 'firm': UUID('0edd2ecc-8d5e-4444-898b-0069a3e9c354'), 'occurrence_type': UUID('122d1706-1bff-4960-9063-0b26f1059336'), 'form_data': {'code': 'I-3',\n",
       "     'side': '1',\n",
       "     'datemeasurement': '2023-03-10T03:00:00.000Z',\n",
       "     'manufacturer': None,\n",
       "     'datemanufacture': None,\n",
       "     'typesupport': 'PÓRTICO',\n",
       "     'statesupport': 'BOM',\n",
       "     'retro': [{'color': '2',\n",
       "       'type_of_film': '1',\n",
       "       'first': 3,\n",
       "       'second': 4.5,\n",
       "       'third': 6,\n",
       "       'fourth': 4,\n",
       "       'fifth': 2,\n",
       "       'average': 3.9,\n",
       "       'initial_value': 9,\n",
       "       'residual_value': 4.5},\n",
       "      {'color': '5',\n",
       "       'type_of_film': '1',\n",
       "       'first': 74,\n",
       "       'second': 71,\n",
       "       'third': 49,\n",
       "       'fourth': 42,\n",
       "       'fifth': 40,\n",
       "       'average': 55.2,\n",
       "       'initial_value': 70,\n",
       "       'residual_value': 35}]}, 'form_metadata': {}, 'found_at': datetime.datetime(2023, 7, 25, 18, 53, 50, 954511, tzinfo=<UTC>), 'status': UUID('c4b0df55-dc0e-47ba-83e7-86080047a8d5'), 'due_at_manually_specified': False, 'end_km_manually_specified': False, 'project_end_km_manually_specified': False, 'editable': True, 'keywords': ''}}})"
      ]
     },
     "execution_count": 56,
     "metadata": {},
     "output_type": "execute_result"
    }
   ],
   "source": [
    "len(objects),objects[2][0].__dict__"
   ]
  },
  {
   "cell_type": "code",
   "execution_count": 57,
   "metadata": {
    "scrolled": true
   },
   "outputs": [
    {
     "data": {
      "application/vnd.jupyter.widget-view+json": {
       "model_id": "ca4c936f0b7f42c7ab0645c18fe4222d",
       "version_major": 2,
       "version_minor": 0
      },
      "text/plain": [
       "  0%|          | 0/18 [00:00<?, ?it/s]"
      ]
     },
     "metadata": {},
     "output_type": "display_data"
    },
    {
     "name": "stdout",
     "output_type": "stream",
     "text": [
      "Searching KM on direction...\n",
      "Searching KM without direction...\n",
      "Found KM on Road 2059: ERS-122\n",
      "CSG-Inv-2023.18776\n",
      "Searching KM on direction...\n",
      "Searching KM without direction...\n",
      "Found KM on Road 2059: ERS-122\n",
      "CSG-Inv-2023.18777\n",
      "Searching KM on direction...\n",
      "Searching KM without direction...\n",
      "Found KM on Road 2059: ERS-122\n",
      "CSG-Inv-2023.18778\n",
      "Searching KM on direction...\n",
      "Searching KM without direction...\n",
      "Found KM on Road 2059: ERS-122\n",
      "CSG-Inv-2023.18779\n",
      "Searching KM on direction...\n",
      "Searching KM without direction...\n",
      "Found KM on Road 2059: ERS-122\n",
      "CSG-Inv-2023.18780\n",
      "Searching KM on direction...\n",
      "Searching KM without direction...\n",
      "Found KM on Road 2059: ERS-122\n",
      "CSG-Inv-2023.18781\n",
      "Searching KM on direction...\n",
      "Searching KM without direction...\n",
      "Found KM on Road 2059: ERS-122\n",
      "CSG-Inv-2023.18782\n",
      "Searching KM on direction...\n",
      "Searching KM without direction...\n",
      "Found KM on Road 2059: ERS-122\n",
      "CSG-Inv-2023.18783\n",
      "Searching KM on direction...\n",
      "Searching KM without direction...\n",
      "Found KM on Road 2059: ERS-122\n",
      "CSG-Inv-2023.18784\n",
      "Searching KM on direction...\n",
      "Searching KM without direction...\n",
      "Found KM on Road 2059: ERS-122\n",
      "CSG-Inv-2023.18785\n",
      "Searching KM on direction...\n",
      "Searching KM without direction...\n",
      "Found KM on Road 2059: ERS-122\n",
      "CSG-Inv-2023.18786\n",
      "Searching KM on direction...\n",
      "Searching KM without direction...\n",
      "Found KM on Road 2059: ERS-122\n",
      "CSG-Inv-2023.18787\n",
      "Searching KM on direction...\n",
      "Searching KM without direction...\n",
      "Found KM on Road 2059: ERS-122\n",
      "CSG-Inv-2023.18788\n",
      "Searching KM on direction...\n",
      "Searching KM without direction...\n",
      "Found KM on Road 2059: ERS-122\n",
      "CSG-Inv-2023.18789\n",
      "Searching KM on direction...\n",
      "Searching KM without direction...\n",
      "Found KM on Road 2059: ERS-122\n",
      "CSG-Inv-2023.18790\n",
      "Searching KM on direction...\n",
      "Searching KM without direction...\n",
      "Found KM on Road 2059: ERS-122\n",
      "CSG-Inv-2023.18791\n",
      "Searching KM on direction...\n",
      "Searching KM without direction...\n",
      "Found KM on Road 2059: ERS-122\n",
      "CSG-Inv-2023.18792\n",
      "Searching KM on direction...\n",
      "Searching KM without direction...\n",
      "Found KM on Road 2059: ERS-122\n",
      "CSG-Inv-2023.18793\n"
     ]
    }
   ],
   "source": [
    "for reporting, images in tqdm(objects):\n",
    "    reporting.save()\n",
    "    print(reporting.number)"
   ]
  },
  {
   "cell_type": "markdown",
   "metadata": {},
   "source": [
    "Anexando as imagens"
   ]
  },
  {
   "cell_type": "code",
   "execution_count": 58,
   "metadata": {},
   "outputs": [
    {
     "data": {
      "application/vnd.jupyter.widget-view+json": {
       "model_id": "8479ff918f53454ba0e951db726acb66",
       "version_major": 2,
       "version_minor": 0
      },
      "text/plain": [
       "  0%|          | 0/18 [00:00<?, ?it/s]"
      ]
     },
     "metadata": {},
     "output_type": "display_data"
    }
   ],
   "source": [
    "for reporting, images in tqdm(objects):\n",
    "    for image in reversed(images):\n",
    "        reporting_file = ReportingFile(\n",
    "            created_by=user,\n",
    "            reporting=reporting,\n",
    "            description=image.name,\n",
    "            km=reporting.km,\n",
    "            point=reporting.point\n",
    "        )\n",
    "        reporting_file.save()\n",
    "        image_io = BytesIO(image._data())\n",
    "        im = Image.open(image_io)\n",
    "        if im.mode in (\"RGBA\", \"P\"):\n",
    "            im = im.convert(\"RGB\")\n",
    "        thumb_io = BytesIO()\n",
    "        im.save(thumb_io, format='jpeg', quality=90)\n",
    "        reporting_file.upload.save(image.name + '.jpeg', thumb_io)"
   ]
  },
  {
   "cell_type": "code",
   "execution_count": null,
   "metadata": {},
   "outputs": [],
   "source": []
  },
  {
   "cell_type": "code",
   "execution_count": null,
   "metadata": {},
   "outputs": [],
   "source": []
  },
  {
   "cell_type": "code",
   "execution_count": null,
   "metadata": {},
   "outputs": [],
   "source": []
  },
  {
   "cell_type": "code",
   "execution_count": 4,
   "metadata": {},
   "outputs": [],
   "source": [
    "reps=Reporting.objects.filter(company=company,occurrence_type=occurrence_type,form_data__code=\"R-27\")"
   ]
  },
  {
   "cell_type": "code",
   "execution_count": 6,
   "metadata": {
    "scrolled": true
   },
   "outputs": [
    {
     "name": "stdout",
     "output_type": "stream",
     "text": [
      "CSG-Inv-2023.02059\n",
      "CSG-Inv-2023.02060\n",
      "CSG-Inv-2023.02506\n",
      "CSG-Inv-2023.02535\n"
     ]
    }
   ],
   "source": [
    "for a in reps:\n",
    "    print(a.number)"
   ]
  },
  {
   "cell_type": "code",
   "execution_count": null,
   "metadata": {},
   "outputs": [],
   "source": []
  }
 ],
 "metadata": {
  "kernelspec": {
   "display_name": "Django Shell-Plus",
   "language": "python",
   "name": "django_extensions"
  },
  "language_info": {
   "codemirror_mode": {
    "name": "ipython",
    "version": 3
   },
   "file_extension": ".py",
   "mimetype": "text/x-python",
   "name": "python",
   "nbconvert_exporter": "python",
   "pygments_lexer": "ipython3",
   "version": "3.7.9"
  }
 },
 "nbformat": 4,
 "nbformat_minor": 2
}
