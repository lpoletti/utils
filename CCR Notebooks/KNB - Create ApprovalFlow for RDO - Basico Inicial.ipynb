{
 "cells": [
  {
   "cell_type": "code",
   "execution_count": 1,
   "metadata": {},
   "outputs": [
    {
     "name": "stdout",
     "output_type": "stream",
     "text": [
      "STAGE=CCR_HOMOLOG\r\n"
     ]
    }
   ],
   "source": [
    "!cat .env"
   ]
  },
  {
   "cell_type": "code",
   "execution_count": 2,
   "metadata": {},
   "outputs": [
    {
     "data": {
      "text/plain": [
       "<Company: 3af64f25-59e8-446b-bb1e-963549090b0d: CCR - Rio Sp>"
      ]
     },
     "execution_count": 2,
     "metadata": {},
     "output_type": "execute_result"
    }
   ],
   "source": [
    "company = Company.objects.get(name='CCR - Rio Sp')\n",
    "company"
   ]
  },
  {
   "cell_type": "code",
   "execution_count": 3,
   "metadata": {},
   "outputs": [
    {
     "data": {
      "text/plain": [
       "<ApprovalFlow: [CCR - Rio Sp]: Fluxo RDO - daily_reports.MultipleDailyReport>"
      ]
     },
     "execution_count": 3,
     "metadata": {},
     "output_type": "execute_result"
    }
   ],
   "source": [
    "ApprovalFlow.objects.get(company=company, target_model=\"daily_reports.MultipleDailyReport\")"
   ]
  },
  {
   "cell_type": "code",
   "execution_count": 4,
   "metadata": {},
   "outputs": [
    {
     "name": "stdout",
     "output_type": "stream",
     "text": [
      "['CCR - AutoBAn', 'CCR - RodoAnel', 'CCR - SPVias', 'CCR - Rio Sp'] - Suporte\n",
      "['CCR - AutoBAn', 'CCR - RodoAnel', 'CCR - SPVias', 'CCR - Rio Sp'] - Fiscal\n",
      "['CCR - AutoBAn', 'CCR - RodoAnel', 'CCR - SPVias', 'CCR - Rio Sp'] - Coordenador\n",
      "['CCR - AutoBAn', 'CCR - RodoAnel', 'CCR - SPVias', 'CCR - Rio Sp'] - Administrador\n",
      "['CCR - AutoBAn', 'CCR - RodoAnel', 'CCR - SPVias', 'CCR - Rio Sp'] - Terceiro (campo)\n",
      "['CCR - AutoBAn', 'CCR - RodoAnel', 'CCR - SPVias', 'CCR - Rio Sp'] - Terceiro (escritório)\n",
      "['CCR - AutoBAn', 'CCR - RodoAnel', 'CCR - SPVias', 'CCR - Rio Sp'] - Usuário padrão\n",
      "['CCR - AutoBAn', 'CCR - RodoAnel', 'CCR - SPVias', 'CCR - Rio Sp'] - Sala técnica operacional\n",
      "['CCR - AutoBAn', 'CCR - RodoAnel', 'CCR - SPVias', 'CCR - Rio Sp'] - Núcleo técnico\n",
      "['CCR - AutoBAn', 'CCR - RodoAnel', 'CCR - SPVias', 'CCR - Rio Sp'] - Coordenador/Gerente\n",
      "['CCR - AutoBAn', 'CCR - RodoAnel', 'CCR - SPVias', 'CCR - Rio Sp'] - Inspetor\n",
      "['CCR - AutoBAn', 'CCR - RodoAnel', 'CCR - SPVias', 'CCR - Rio Sp'] - Regulador\n",
      "['CCR - AutoBAn', 'CCR - RodoAnel', 'CCR - SPVias', 'CCR - Rio Sp'] - Sala técnica gerencial\n"
     ]
    }
   ],
   "source": [
    "for permission in UserPermission.objects.filter(companies=company).exclude(name='Inativo'):\n",
    "    \n",
    "    \n",
    "    try:\n",
    "        if 'MultipleDailyReport' in permission.permissions.keys():\n",
    "            permission.permissions['MultipleDailyReport']['can_approve'] = True\n",
    "            print(permission)\n",
    "        else:\n",
    "            permission.permissions['multiple_daily_report']['can_approve'] = True\n",
    "            print(permission)\n",
    "    except Exception as e:\n",
    "#         print(f'Não possui parametrização - {permission}')\n",
    "        pass\n",
    "\n",
    "    permission.save()"
   ]
  },
  {
   "cell_type": "code",
   "execution_count": 22,
   "metadata": {},
   "outputs": [],
   "source": [
    "flow = ApprovalFlow(\n",
    "    name=\"Fluxo RDO\",\n",
    "    target_model=\"daily_reports.MultipleDailyReport\",\n",
    "    company=company\n",
    ")\n",
    "flow.save()"
   ]
  },
  {
   "cell_type": "code",
   "execution_count": 23,
   "metadata": {},
   "outputs": [],
   "source": [
    "elaboracao = ApprovalStep(\n",
    "    name=\"RDO Criado\",\n",
    "    approval_flow=flow\n",
    ")\n",
    "elaboracao.responsible_created_by = True\n",
    "elaboracao.save()\n",
    "elaboracao.responsible_users.add(User.objects.get(username='rlcs'))\n",
    "# elaboracao.responsible_firms.add(Firm.objects.get(name='Programação e Controle', company=company))\n",
    "# elaboracao.responsible_firms.add(Firm.objects.get(name='Suporte', company=company))"
   ]
  },
  {
   "cell_type": "code",
   "execution_count": 24,
   "metadata": {},
   "outputs": [],
   "source": [
    "homolog_normal = ApprovalStep(\n",
    "    name=\"RDO Aguardando Aprovação\",\n",
    "    approval_flow=flow,\n",
    ")\n",
    "homolog_normal.save()\n",
    "homolog_normal.responsible_users.add(User.objects.get(username='rlcs'))\n",
    "# homolog_normal.responsible_firms.add(Firm.objects.get(name='Programação e Controle', company=company))\n",
    "# homolog_normal.responsible_firms.add(Firm.objects.get(name='Suporte', company=company))"
   ]
  },
  {
   "cell_type": "code",
   "execution_count": 25,
   "metadata": {},
   "outputs": [],
   "source": [
    "deferido = ApprovalStep(\n",
    "    name=\"RDO Aprovado\",\n",
    "    approval_flow=flow,\n",
    ")\n",
    "deferido.save()"
   ]
  },
  {
   "cell_type": "code",
   "execution_count": 26,
   "metadata": {},
   "outputs": [],
   "source": [
    "trans_homolog_normal = ApprovalTransition(\n",
    "    name=\"Solicitar aprovação\",\n",
    "    origin=elaboracao,\n",
    "    destination=homolog_normal,\n",
    "    condition={\n",
    "        \"===\": [{\n",
    "            \"var\": \"request.action\"\n",
    "            }, \"Solicitar aprovação\"]\n",
    "    },\n",
    "    button={\"icon\": \"assignment\", \"color\": \"primary\", \"variant\": \"raised\"}\n",
    ")\n",
    "trans_homolog_normal.save()"
   ]
  },
  {
   "cell_type": "code",
   "execution_count": 27,
   "metadata": {},
   "outputs": [],
   "source": [
    "trans_homologar_normal = ApprovalTransition(\n",
    "    name=\"Aprovar\",\n",
    "    origin=homolog_normal,\n",
    "    destination=deferido,\n",
    "    condition={\n",
    "        \"===\": [{\n",
    "            \"var\": \"request.action\"\n",
    "        }, \"Aprovar\"] \n",
    "    },\n",
    "    button={\"icon\": \"check\", \"color\": \"primary\", \"variant\": \"raised\"},\n",
    "    callback={\"change_fields\": [{\"name\": \"editable\", \"value\": False}]}\n",
    ")\n",
    "trans_homologar_normal.save()"
   ]
  },
  {
   "cell_type": "code",
   "execution_count": 28,
   "metadata": {},
   "outputs": [
    {
     "data": {
      "text/plain": [
       "<ApprovalStep: [Arteris Intervias]: RDO Criado>"
      ]
     },
     "execution_count": 28,
     "metadata": {},
     "output_type": "execute_result"
    }
   ],
   "source": [
    "elaboracao=ApprovalStep.objects.get(approval_flow__company=company, name='RDO Criado')\n",
    "elaboracao"
   ]
  },
  {
   "cell_type": "code",
   "execution_count": 29,
   "metadata": {},
   "outputs": [
    {
     "data": {
      "text/plain": [
       "57"
      ]
     },
     "execution_count": 29,
     "metadata": {},
     "output_type": "execute_result"
    }
   ],
   "source": [
    "MultipleDailyReport.objects.filter(company=company).update(approval_step=elaboracao)"
   ]
  },
  {
   "cell_type": "code",
   "execution_count": 30,
   "metadata": {},
   "outputs": [
    {
     "data": {
      "text/plain": [
       "'74c453e6-5b87-47d0-a922-7d1e9868a121'"
      ]
     },
     "execution_count": 30,
     "metadata": {},
     "output_type": "execute_result"
    }
   ],
   "source": [
    "str(deferido.uuid)"
   ]
  },
  {
   "cell_type": "code",
   "execution_count": 31,
   "metadata": {},
   "outputs": [],
   "source": [
    "company.metadata['approved_approval_steps'].append(str(deferido.uuid))"
   ]
  },
  {
   "cell_type": "code",
   "execution_count": 32,
   "metadata": {},
   "outputs": [],
   "source": [
    "company.save()"
   ]
  },
  {
   "cell_type": "code",
   "execution_count": null,
   "metadata": {},
   "outputs": [],
   "source": []
  },
  {
   "cell_type": "code",
   "execution_count": 33,
   "metadata": {},
   "outputs": [],
   "source": [
    "homolog_normal.responsible_firms.add(*Firm.objects.filter(company=company,name='Aprovadores de RDO'))"
   ]
  },
  {
   "cell_type": "code",
   "execution_count": 34,
   "metadata": {},
   "outputs": [
    {
     "data": {
      "text/plain": [
       "<QuerySet [<Firm: [b8450161-14d1-4de8-b254-7d1ddc4a9c20: Arteris Intervias] 9234a29c-1edf-4b08-8e01-913d54dd61b5: Aprovadores de RDO>]>"
      ]
     },
     "execution_count": 34,
     "metadata": {},
     "output_type": "execute_result"
    }
   ],
   "source": [
    "homolog_normal.responsible_firms.all()"
   ]
  },
  {
   "cell_type": "markdown",
   "metadata": {},
   "source": [
    "# Incluir em fluxo existente"
   ]
  },
  {
   "cell_type": "code",
   "execution_count": 4,
   "metadata": {},
   "outputs": [],
   "source": [
    "flow=ApprovalFlow.objects.get(\n",
    "    name=\"Fluxo RDO\",\n",
    "    target_model=\"daily_reports.MultipleDailyReport\",\n",
    "    company=company\n",
    ")"
   ]
  },
  {
   "cell_type": "code",
   "execution_count": 5,
   "metadata": {},
   "outputs": [],
   "source": [
    "homolog_normal = ApprovalStep.objects.get(\n",
    "    name=\"RDO Aguardando Aprovação\",\n",
    "    approval_flow=flow,\n",
    ")"
   ]
  },
  {
   "cell_type": "code",
   "execution_count": 6,
   "metadata": {},
   "outputs": [],
   "source": [
    "elaboracao = ApprovalStep.objects.get(\n",
    "    name=\"RDO Criado\",\n",
    "    approval_flow=flow\n",
    ")"
   ]
  },
  {
   "cell_type": "code",
   "execution_count": 7,
   "metadata": {},
   "outputs": [],
   "source": [
    "trans_revisao = ApprovalTransition(\n",
    "    name=\"Solicitar Revisão\",\n",
    "    origin=homolog_normal,\n",
    "    destination=elaboracao,\n",
    "    condition={\n",
    "        \"===\": [{\n",
    "            \"var\": \"request.action\"\n",
    "        }, \"Solicitar Revisão\"] \n",
    "    },\n",
    "    button={\"icon\": \"warning\", \"color\": \"amber\", \"variant\": \"outlined\", \"needs_dialog\": True},\n",
    "    callback={\"change_fields\": [{\"name\": \"editable\", \"value\": True}]}\n",
    ")\n",
    "trans_revisao.save()"
   ]
  },
  {
   "cell_type": "code",
   "execution_count": null,
   "metadata": {},
   "outputs": [],
   "source": []
  }
 ],
 "metadata": {
  "kernelspec": {
   "display_name": "Django Shell-Plus",
   "language": "python",
   "name": "django_extensions"
  },
  "language_info": {
   "codemirror_mode": {
    "name": "ipython",
    "version": 3
   },
   "file_extension": ".py",
   "mimetype": "text/x-python",
   "name": "python",
   "nbconvert_exporter": "python",
   "pygments_lexer": "ipython3",
   "version": "3.7.9"
  }
 },
 "nbformat": 4,
 "nbformat_minor": 4
}
