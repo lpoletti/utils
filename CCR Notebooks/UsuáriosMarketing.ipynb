{
 "cells": [
  {
   "cell_type": "markdown",
   "id": "24d879bb",
   "metadata": {},
   "source": [
    "# Luan Usuário para Marketing"
   ]
  },
  {
   "cell_type": "code",
   "execution_count": 1,
   "id": "4dc5c4f7",
   "metadata": {},
   "outputs": [],
   "source": [
    "import pandas as pd\n",
    "from tqdm import tqdm\n",
    "import openpyxl"
   ]
  },
  {
   "cell_type": "code",
   "execution_count": 2,
   "id": "114ce4ce",
   "metadata": {},
   "outputs": [],
   "source": [
    "import re\n",
    "\n",
    "def validar_email(email):\n",
    "    if re.match(r\"[^@]+@[^@]+\\.[^@]+\", email):\n",
    "        return True\n",
    "    else:\n",
    "        return False\n"
   ]
  },
  {
   "cell_type": "code",
   "execution_count": 3,
   "id": "b679d2be",
   "metadata": {},
   "outputs": [
    {
     "data": {
      "text/plain": [
       "['POC-Projeto APR',\n",
       " 'GSO - UHE-SALTO OSORIO',\n",
       " 'GSO - UTPS',\n",
       " 'GSB - UHE-MACHADINHO',\n",
       " 'GSB - UHE-SALTO OSORIO',\n",
       " 'GSB - UHE-SALTO SANTIAGO',\n",
       " 'GSO - UHE-JAGUARA',\n",
       " 'TESTE',\n",
       " 'GSO - UHE-CANA BRAVA',\n",
       " 'GSO - UHE-MIRANDA',\n",
       " 'GSO - UHE-SALTO SANTIAGO',\n",
       " 'GES - UHE-CANA BRAVA',\n",
       " 'Engie Umburanas',\n",
       " 'Energia Compartilhado GSO',\n",
       " 'GSO - UHE-MACHADINHO',\n",
       " 'GSO - PCH-RONDONÓPOLIS',\n",
       " 'GSB - UHE-ITA',\n",
       " 'GSB - UHE-ESTREITO',\n",
       " 'GSO - UHE-ITA',\n",
       " 'GSB - UHE-JAGUARA',\n",
       " 'GSB - UHE-MIRANDA',\n",
       " 'GSO - PCH-JOSÉ GELÁZIO DA ROCHA',\n",
       " 'GSO - UHE-ESTREITO',\n",
       " 'GSB - UHE-PONTE DE PEDRA',\n",
       " 'GSB - UHE-SÃO SALVADOR',\n",
       " 'GSB - UHE-CANA BRAVA',\n",
       " 'GSO - UHE-PASSO FUNDO',\n",
       " 'GES - UHE-ESTREITO',\n",
       " 'Energia Compartilhado',\n",
       " 'GSB - UHE-PASSO FUNDO',\n",
       " 'GSO - UHE-SÃO SALVADOR',\n",
       " 'RECURSOS HIDRICOS',\n",
       " 'GSO - UHE-PONTE DE PEDRA',\n",
       " 'GES - PCH-RONDONÓPOLIS',\n",
       " 'GES - UHE-MACHADINHO',\n",
       " 'Limbo - UTPS',\n",
       " 'GES - UHE-SALTO SANTIAGO',\n",
       " 'GES - PCH-JOSÉ GELÁZIO DA ROCHA',\n",
       " 'GES - UHE-SÃO SALVADOR',\n",
       " 'GES - GEH',\n",
       " 'GES - UHE-ITA',\n",
       " 'ATIVO-TREINAMENTO',\n",
       " 'GES - UHE-PASSO FUNDO',\n",
       " 'GES - UHE-SALTO OSORIO',\n",
       " 'GES - UHE-JAGUARA',\n",
       " 'GES - UHE-MIRANDA',\n",
       " 'GES - UHE-PONTE DE PEDRA']"
      ]
     },
     "execution_count": 3,
     "metadata": {},
     "output_type": "execute_result"
    }
   ],
   "source": [
    "road_companies = [valor for valor in Company.objects.all().values_list('name',flat=True)]\n",
    "road_companies"
   ]
  },
  {
   "cell_type": "code",
   "execution_count": 4,
   "id": "e995bbb0",
   "metadata": {},
   "outputs": [],
   "source": [
    "usuarios = User.objects.filter(companies__name__in = road_companies).only('first_name','last_name','email').distinct().exclude(email__icontains='kartado').exclude(email__icontains='roadlabs')"
   ]
  },
  {
   "cell_type": "code",
   "execution_count": 5,
   "id": "66690c73",
   "metadata": {},
   "outputs": [
    {
     "data": {
      "text/plain": [
       "({'_state': <django.db.models.base.ModelState at 0x7b7e881203d0>,\n",
       "  'first_name': 'Flavio',\n",
       "  'last_name': 'Junior Pires De Oliveira',\n",
       "  'email': 'flavio.oliveira@engie.com',\n",
       "  'uuid': UUID('e22fec2c-4d8d-4b40-a1f8-178c362852e3')},\n",
       " 648)"
      ]
     },
     "execution_count": 5,
     "metadata": {},
     "output_type": "execute_result"
    }
   ],
   "source": [
    "usuarios[0].__dict__,len(usuarios)"
   ]
  },
  {
   "cell_type": "code",
   "execution_count": 6,
   "id": "8b8b7048",
   "metadata": {},
   "outputs": [],
   "source": [
    "users = []\n",
    "for usuario in usuarios: \n",
    "    if validar_email(usuario.email):\n",
    "        users.append({\"Usuário\":usuario.first_name +\" \"+usuario.last_name,\"E-mail\":usuario.email})"
   ]
  },
  {
   "cell_type": "code",
   "execution_count": 7,
   "id": "a5e4a82b",
   "metadata": {},
   "outputs": [
    {
     "data": {
      "text/plain": [
       "626"
      ]
     },
     "execution_count": 7,
     "metadata": {},
     "output_type": "execute_result"
    }
   ],
   "source": [
    "len(users)"
   ]
  },
  {
   "cell_type": "code",
   "execution_count": 8,
   "id": "8467a9cc",
   "metadata": {},
   "outputs": [],
   "source": [
    "def remover_emails_duplicados(lista_de_dicionarios):\n",
    "    emails_vistos = set()\n",
    "    lista_sem_duplicatas = []\n",
    "\n",
    "    for dicionario in lista_de_dicionarios:\n",
    "        email = dicionario.get(\"E-mail\")\n",
    "        if email not in emails_vistos:\n",
    "            emails_vistos.add(email)\n",
    "            lista_sem_duplicatas.append(dicionario)\n",
    "\n",
    "    return lista_sem_duplicatas"
   ]
  },
  {
   "cell_type": "code",
   "execution_count": 9,
   "id": "c35cdc75",
   "metadata": {},
   "outputs": [
    {
     "data": {
      "text/plain": [
       "617"
      ]
     },
     "execution_count": 9,
     "metadata": {},
     "output_type": "execute_result"
    }
   ],
   "source": [
    "teste=remover_emails_duplicados(users)\n",
    "len(teste)"
   ]
  },
  {
   "cell_type": "code",
   "execution_count": 10,
   "id": "1a83e297",
   "metadata": {
    "scrolled": false
   },
   "outputs": [],
   "source": [
    "df=pd.DataFrame(data=teste)\n",
    "df.reset_index(drop=True, inplace=True)"
   ]
  },
  {
   "cell_type": "code",
   "execution_count": 11,
   "id": "48336a17",
   "metadata": {},
   "outputs": [
    {
     "data": {
      "text/html": [
       "<div>\n",
       "<style scoped>\n",
       "    .dataframe tbody tr th:only-of-type {\n",
       "        vertical-align: middle;\n",
       "    }\n",
       "\n",
       "    .dataframe tbody tr th {\n",
       "        vertical-align: top;\n",
       "    }\n",
       "\n",
       "    .dataframe thead th {\n",
       "        text-align: right;\n",
       "    }\n",
       "</style>\n",
       "<table border=\"1\" class=\"dataframe\">\n",
       "  <thead>\n",
       "    <tr style=\"text-align: right;\">\n",
       "      <th></th>\n",
       "      <th>Usuário</th>\n",
       "      <th>E-mail</th>\n",
       "    </tr>\n",
       "  </thead>\n",
       "  <tbody>\n",
       "    <tr>\n",
       "      <th>0</th>\n",
       "      <td>Flavio Junior Pires De Oliveira</td>\n",
       "      <td>flavio.oliveira@engie.com</td>\n",
       "    </tr>\n",
       "    <tr>\n",
       "      <th>1</th>\n",
       "      <td>Edmilson Luiz Leandro</td>\n",
       "      <td>edmilson.leandro@engie.com</td>\n",
       "    </tr>\n",
       "    <tr>\n",
       "      <th>2</th>\n",
       "      <td>Fernando Henrique Ribeiro Pereira</td>\n",
       "      <td>fernando.pereira@engie.com</td>\n",
       "    </tr>\n",
       "    <tr>\n",
       "      <th>3</th>\n",
       "      <td>Luiz Fernando dos Santos</td>\n",
       "      <td>sesmt@televale.com.br</td>\n",
       "    </tr>\n",
       "    <tr>\n",
       "      <th>4</th>\n",
       "      <td>Milena Hardt</td>\n",
       "      <td>milena@grupolagoazul.com</td>\n",
       "    </tr>\n",
       "    <tr>\n",
       "      <th>...</th>\n",
       "      <td>...</td>\n",
       "      <td>...</td>\n",
       "    </tr>\n",
       "    <tr>\n",
       "      <th>612</th>\n",
       "      <td>Darlei Hochmann</td>\n",
       "      <td>darlei.hochmann@engie.com</td>\n",
       "    </tr>\n",
       "    <tr>\n",
       "      <th>613</th>\n",
       "      <td>Vanildo  Paulo De Oliveira</td>\n",
       "      <td>vanildo.oliveira@engie.com</td>\n",
       "    </tr>\n",
       "    <tr>\n",
       "      <th>614</th>\n",
       "      <td>Mario Gomes Aguiar</td>\n",
       "      <td>mariogomes201978@gmail.com</td>\n",
       "    </tr>\n",
       "    <tr>\n",
       "      <th>615</th>\n",
       "      <td>Alejandra Dalotto</td>\n",
       "      <td>alejandra.dalotto@gmail.com</td>\n",
       "    </tr>\n",
       "    <tr>\n",
       "      <th>616</th>\n",
       "      <td>Carlos Andre Segatto</td>\n",
       "      <td>carlos.segatto@engie.com</td>\n",
       "    </tr>\n",
       "  </tbody>\n",
       "</table>\n",
       "<p>617 rows × 2 columns</p>\n",
       "</div>"
      ],
      "text/plain": [
       "                               Usuário                       E-mail\n",
       "0      Flavio Junior Pires De Oliveira    flavio.oliveira@engie.com\n",
       "1                Edmilson Luiz Leandro   edmilson.leandro@engie.com\n",
       "2    Fernando Henrique Ribeiro Pereira   fernando.pereira@engie.com\n",
       "3             Luiz Fernando dos Santos        sesmt@televale.com.br\n",
       "4                         Milena Hardt     milena@grupolagoazul.com\n",
       "..                                 ...                          ...\n",
       "612                    Darlei Hochmann    darlei.hochmann@engie.com\n",
       "613         Vanildo  Paulo De Oliveira   vanildo.oliveira@engie.com\n",
       "614                 Mario Gomes Aguiar   mariogomes201978@gmail.com\n",
       "615                  Alejandra Dalotto  alejandra.dalotto@gmail.com\n",
       "616               Carlos Andre Segatto     carlos.segatto@engie.com\n",
       "\n",
       "[617 rows x 2 columns]"
      ]
     },
     "execution_count": 11,
     "metadata": {},
     "output_type": "execute_result"
    }
   ],
   "source": [
    "df"
   ]
  },
  {
   "cell_type": "code",
   "execution_count": 12,
   "id": "692a0dde",
   "metadata": {},
   "outputs": [],
   "source": [
    "df.to_excel('UserEmailMarketing_Energia.xlsx',index=False)"
   ]
  },
  {
   "cell_type": "code",
   "execution_count": null,
   "id": "2016fca1",
   "metadata": {},
   "outputs": [],
   "source": []
  }
 ],
 "metadata": {
  "kernelspec": {
   "display_name": "Django Shell-Plus",
   "language": "python",
   "name": "django_extensions"
  },
  "language_info": {
   "codemirror_mode": {
    "name": "ipython",
    "version": 3
   },
   "file_extension": ".py",
   "mimetype": "text/x-python",
   "name": "python",
   "nbconvert_exporter": "python",
   "pygments_lexer": "ipython3",
   "version": "3.8.16"
  }
 },
 "nbformat": 4,
 "nbformat_minor": 5
}
