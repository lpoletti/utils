{
 "cells": [
  {
   "cell_type": "code",
   "execution_count": 1,
   "id": "313dc7e9",
   "metadata": {},
   "outputs": [],
   "source": [
    "source_company = Company.objects.get(name=\"GSB - UHE-SALTO SANTIAGO\")"
   ]
  },
  {
   "cell_type": "code",
   "execution_count": 2,
   "id": "ce36247f",
   "metadata": {},
   "outputs": [],
   "source": [
    "company_name = \"GSB - UHE-PASSO FUNDO\""
   ]
  },
  {
   "cell_type": "code",
   "execution_count": 3,
   "id": "b3e46cee",
   "metadata": {},
   "outputs": [],
   "source": [
    "source_company.uuid = None\n",
    "source_company.name = company_name\n",
    "source_company.save()"
   ]
  },
  {
   "cell_type": "code",
   "execution_count": 4,
   "id": "1469a367",
   "metadata": {},
   "outputs": [],
   "source": [
    "source_company = Company.objects.get(name=\"GSB - UHE-SALTO SANTIAGO\")"
   ]
  },
  {
   "cell_type": "code",
   "execution_count": 5,
   "id": "89659124",
   "metadata": {},
   "outputs": [],
   "source": [
    "company = Company.objects.get(name=company_name)"
   ]
  },
  {
   "cell_type": "code",
   "execution_count": 109,
   "id": "b67cc3ee",
   "metadata": {},
   "outputs": [],
   "source": [
    "for permission in UserPermission.objects.filter(companies=source_company):\n",
    "    permission.companies.add(company)"
   ]
  },
  {
   "cell_type": "code",
   "execution_count": 110,
   "id": "9e8f52c3",
   "metadata": {},
   "outputs": [],
   "source": [
    "for form in OccurrenceType.objects.filter(company=source_company):\n",
    "    form.company.add(company)"
   ]
  },
  {
   "cell_type": "code",
   "execution_count": 111,
   "id": "b668b19c",
   "metadata": {},
   "outputs": [],
   "source": [
    "for status in ServiceOrderActionStatus.objects.filter(companies=source_company):\n",
    "    spec = ServiceOrderActionStatusSpecs(\n",
    "        status = status,\n",
    "        company = company,\n",
    "        order = status.status_specs.first().order\n",
    "    )\n",
    "    spec.save()"
   ]
  },
  {
   "cell_type": "code",
   "execution_count": 6,
   "id": "dec513e5",
   "metadata": {},
   "outputs": [],
   "source": [
    "suporte = User.objects.get(username=\"engie\")"
   ]
  },
  {
   "cell_type": "code",
   "execution_count": 113,
   "id": "fec8f7f0",
   "metadata": {},
   "outputs": [],
   "source": [
    "uic = UserInCompany(\n",
    "    user=suporte,\n",
    "    company=company,\n",
    "    permissions=permission\n",
    ")"
   ]
  },
  {
   "cell_type": "code",
   "execution_count": 7,
   "id": "37c150c7",
   "metadata": {},
   "outputs": [],
   "source": [
    "uic.save()"
   ]
  },
  {
   "cell_type": "code",
   "execution_count": 118,
   "id": "88047be3",
   "metadata": {},
   "outputs": [],
   "source": [
    "for user in User.objects.filter(companies=source_company, email__icontains=\"@engie\"):\n",
    "    for company in Company.objects.filter(name__startswith=\"GSB\"):\n",
    "        if UserInCompany.objects.filter(user=user, company=company).exists():\n",
    "            continue\n",
    "        uic = UserInCompany(\n",
    "            user = user,\n",
    "            company = company,\n",
    "            permissions = permission\n",
    "        )\n",
    "        uic.save()"
   ]
  }
 ],
 "metadata": {
  "kernelspec": {
   "display_name": "Django Shell-Plus",
   "language": "python",
   "name": "django_extensions"
  },
  "language_info": {
   "codemirror_mode": {
    "name": "ipython",
    "version": 3
   },
   "file_extension": ".py",
   "mimetype": "text/x-python",
   "name": "python",
   "nbconvert_exporter": "python",
   "pygments_lexer": "ipython3",
   "version": "3.7.9"
  }
 },
 "nbformat": 4,
 "nbformat_minor": 5
}
