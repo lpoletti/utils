{
 "cells": [
  {
   "cell_type": "markdown",
   "id": "f8da5eb9",
   "metadata": {},
   "source": [
    "VARIÁVEIS PARA OS CÁLCULOS:\n",
    "\n",
    "x = dias de uso – considerando apontamentos/inventário \n",
    "\n",
    "w = variação número de apontamentos comparado ao mês anterior  \n",
    "\n",
    "k = programações \n",
    "\n",
    "q = recursos \n",
    "\n",
    "j =  RDOs "
   ]
  },
  {
   "cell_type": "code",
   "execution_count": 1,
   "id": "aac6ba7b",
   "metadata": {},
   "outputs": [],
   "source": [
    "from tqdm.notebook import tqdm\n",
    "from django.db.models import Q\n",
    "from django.db.models import Count\n",
    "from datetime import datetime, timedelta\n",
    "import calendar\n",
    "import pandas as pd"
   ]
  },
  {
   "cell_type": "code",
   "execution_count": 3,
   "id": "91f39dae",
   "metadata": {
    "scrolled": true
   },
   "outputs": [
    {
     "data": {
      "text/plain": [
       "['CCR - AutoBAn', 'CCR - Rio Sp', 'CCR - RodoAnel', 'CCR - SPVias']"
      ]
     },
     "execution_count": 3,
     "metadata": {},
     "output_type": "execute_result"
    }
   ],
   "source": [
    "road_companies = [x for x in Company.objects.all().values_list('name',flat=True).order_by('name')]\n",
    "road_companies"
   ]
  },
  {
   "cell_type": "code",
   "execution_count": 11,
   "id": "eda34bc2",
   "metadata": {
    "scrolled": false
   },
   "outputs": [
    {
     "data": {
      "text/plain": [
       "(datetime.datetime(2024, 4, 3, 14, 19, 40, 396126),\n",
       " datetime.datetime(2024, 3, 29, 14, 19, 40, 396126),\n",
       " [3, 4])"
      ]
     },
     "execution_count": 11,
     "metadata": {},
     "output_type": "execute_result"
    }
   ],
   "source": [
    "today = datetime.now()-timedelta(days=30)\n",
    "last_month = today - timedelta(days=5)\n",
    "months = [last_month.month,today.month]\n",
    "today,last_month,months"
   ]
  },
  {
   "cell_type": "code",
   "execution_count": 12,
   "id": "24c229e4",
   "metadata": {
    "scrolled": true
   },
   "outputs": [
    {
     "data": {
      "text/plain": [
       "[3, 4]"
      ]
     },
     "execution_count": 12,
     "metadata": {},
     "output_type": "execute_result"
    }
   ],
   "source": [
    "months"
   ]
  },
  {
   "cell_type": "code",
   "execution_count": 13,
   "id": "9e20a61d",
   "metadata": {},
   "outputs": [
    {
     "data": {
      "text/plain": [
       "[31, 30]"
      ]
     },
     "execution_count": 13,
     "metadata": {},
     "output_type": "execute_result"
    }
   ],
   "source": [
    "last_days = [calendar.monthrange(today.year, mes)[1] for mes in months]\n",
    "last_days"
   ]
  },
  {
   "cell_type": "markdown",
   "id": "6dbc9f47",
   "metadata": {},
   "source": [
    "# x = dias de uso"
   ]
  },
  {
   "cell_type": "code",
   "execution_count": 14,
   "id": "ea8b615f",
   "metadata": {},
   "outputs": [],
   "source": [
    "def calculo_dias_de_uso(porcentagem):\n",
    "    if porcentagem < 25:\n",
    "        return 0\n",
    "    elif 25 <= porcentagem < 65:\n",
    "        return 0.3\n",
    "    elif 65 <= porcentagem < 80:\n",
    "        return 0.65\n",
    "    else:\n",
    "        return 1"
   ]
  },
  {
   "cell_type": "code",
   "execution_count": 15,
   "id": "0e5303ef",
   "metadata": {},
   "outputs": [],
   "source": [
    "def x(months, company):\n",
    "    porcen_dias = []\n",
    "\n",
    "    for x, month in enumerate(months):\n",
    "        total_days_in_month = last_days[x]\n",
    "        qtd_dias = []\n",
    "\n",
    "        for day in range(1, total_days_in_month + 1):\n",
    "            qtd_dias.append(\n",
    "                Reporting.objects.filter(\n",
    "                    company__name=company,\n",
    "                    updated_at__year=today.year,\n",
    "                    updated_at__month=month,\n",
    "                    updated_at__day=day,\n",
    "                    created_at__year=today.year,\n",
    "                    created_at__month=month,\n",
    "                    created_at__day=day\n",
    "                ).exclude(\n",
    "                    created_by__username__in=['rlcs', 'neoviacs', 'arteriscs']\n",
    "                ).only('uuid').count()\n",
    "            )\n",
    "\n",
    "        # Calcula a quantidade de dias com apontamento\n",
    "        quantity = sum(1 for qtd in qtd_dias if qtd != 0)  # Se houve pelo menos 1 apontamento no dia resulta em 1\n",
    "        # Calcula a porcentagem de dias de uso, em relação ao total de dias no mês\n",
    "        porcentagem = quantity / total_days_in_month * 100\n",
    "        porcentagem_dias_de_uso = calculo_dias_de_uso(porcentagem) #comentar pra ver a porcentagem \n",
    "        porcen_dias.append(porcentagem_dias_de_uso)\n",
    "\n",
    "    return porcen_dias"
   ]
  },
  {
   "cell_type": "code",
   "execution_count": 16,
   "id": "1aa9844c",
   "metadata": {
    "scrolled": true
   },
   "outputs": [
    {
     "data": {
      "application/vnd.jupyter.widget-view+json": {
       "model_id": "f13ea356fdc441f784c4d68afbd9d5fb",
       "version_major": 2,
       "version_minor": 0
      },
      "text/plain": [
       "Empresas:   0%|          | 0/4 [00:00<?, ?it/s]"
      ]
     },
     "metadata": {},
     "output_type": "display_data"
    },
    {
     "name": "stdout",
     "output_type": "stream",
     "text": [
      "Nota da unidade CCR - AutoBAn, mês 3: 0.3\n",
      "Nota da unidade CCR - AutoBAn, mês 4: 0.3\n",
      "Nota da unidade CCR - Rio Sp, mês 3: 0.3\n",
      "Nota da unidade CCR - Rio Sp, mês 4: 0.65\n",
      "Nota da unidade CCR - RodoAnel, mês 3: 0.3\n",
      "Nota da unidade CCR - RodoAnel, mês 4: 0\n",
      "Nota da unidade CCR - SPVias, mês 3: 0.65\n",
      "Nota da unidade CCR - SPVias, mês 4: 1\n"
     ]
    }
   ],
   "source": [
    "resultados_por_empresa = {}\n",
    "\n",
    "for company in tqdm(road_companies, desc='Empresas'):\n",
    "    resultados_por_empresa[company] = x(months, company) # para cada empresa execcuta a função 'x'\n",
    "\n",
    "# df = pd.DataFrame(resultados_por_empresa, index=months)\n",
    "# df = df.transpose()\n",
    "# df.index.name = 'Empresa'\n",
    "# df.to_excel('nota_dias_de_uso.xlsx')\n",
    "\n",
    "for company, resultados in resultados_por_empresa.items():\n",
    "    for index, porcentagem_dias_de_uso in enumerate(resultados):\n",
    "        print(f\"Nota da unidade {company}, mês {months[index]}: {porcentagem_dias_de_uso}\")"
   ]
  },
  {
   "cell_type": "markdown",
   "id": "2559b47c",
   "metadata": {},
   "source": [
    "# w = variação número de apontamentos comparado ao mês anterior  "
   ]
  },
  {
   "cell_type": "code",
   "execution_count": 17,
   "id": "3c1b2ba2",
   "metadata": {},
   "outputs": [],
   "source": [
    "def calcular_variacao(atual, anterior):\n",
    "    if anterior == 0 and atual > 0:\n",
    "        return 1, \"Aumento de 100%\"\n",
    "    if anterior == 0:\n",
    "        return 0, \"Sem apontamentos anteriores\"\n",
    "    variacao = (atual - anterior) / anterior * 100\n",
    "    if variacao >= 0:\n",
    "        return 1, \"Positivo\"\n",
    "    elif -15 <= variacao < 0:\n",
    "        return 0.7, \"Regular\"\n",
    "    elif -25 <= variacao < -15:\n",
    "        return 0.35, \"Mediano\"\n",
    "    else:\n",
    "        return 0, \"Atenção\""
   ]
  },
  {
   "cell_type": "code",
   "execution_count": 18,
   "id": "1468c274",
   "metadata": {},
   "outputs": [],
   "source": [
    "# Reporting.objects.filter(Q(created_at__year=2024, created_at__month=3) &\n",
    "#                         Q(updated_at__year=2024, updated_at__month=3),\n",
    "#                         company__name='LCM - Gaspar').count()"
   ]
  },
  {
   "cell_type": "code",
   "execution_count": 19,
   "id": "f4070a99",
   "metadata": {},
   "outputs": [
    {
     "data": {
      "application/vnd.jupyter.widget-view+json": {
       "model_id": "e56bfd9557364752863820c77d2cf93e",
       "version_major": 2,
       "version_minor": 0
      },
      "text/plain": [
       "  0%|          | 0/4 [00:00<?, ?it/s]"
      ]
     },
     "metadata": {},
     "output_type": "display_data"
    },
    {
     "name": "stdout",
     "output_type": "stream",
     "text": [
      "CCR - AutoBAn 0\n",
      "\n",
      "CCR - Rio Sp 0\n",
      "\n",
      "CCR - RodoAnel 0\n",
      "\n",
      "CCR - SPVias 0\n",
      "\n"
     ]
    }
   ],
   "source": [
    "w = []\n",
    "\n",
    "for company in tqdm(road_companies):\n",
    "    atual_count = Reporting.objects.filter(\n",
    "        company__name=company,\n",
    "        updated_at__year=today.year,\n",
    "        updated_at__month=today.month,\n",
    "        created_at__year=today.year,\n",
    "        created_at__month=today.month\n",
    "    ).exclude(\n",
    "        created_by__username__in=['rlcs', 'neoviacs', 'arteriscs']\n",
    "    ).only('uuid').count()\n",
    "        \n",
    "    anterior_count = Reporting.objects.filter(\n",
    "        company__name=company,\n",
    "        updated_at__year=last_month.year,\n",
    "        updated_at__month=last_month.month,\n",
    "        created_at__year=last_month.year,\n",
    "        created_at__month=last_month.month\n",
    "    ).exclude(\n",
    "        created_by__username__in=['rlcs', 'neoviacs', 'arteriscs']\n",
    "    ).only('uuid').count()\n",
    "\n",
    "    atual = int(atual_count)\n",
    "    anterior = int(anterior_count)\n",
    "\n",
    "    # Calcular a variação\n",
    "    variacao, categoria = calcular_variacao(atual, anterior)\n",
    "    w.append((company, variacao))\n",
    "\n",
    "    print(company, variacao)\n",
    "    print()\n",
    "    \n",
    "# df_w = pd.DataFrame(w, columns=['Empresa', 'Variação'])\n",
    "# df_w.to_excel('nota_variacao_apontamentos_comparado_mes_anterior.xlsx', index=False)"
   ]
  },
  {
   "cell_type": "markdown",
   "id": "529c2fee",
   "metadata": {},
   "source": [
    "# k = programações"
   ]
  },
  {
   "cell_type": "code",
   "execution_count": 20,
   "id": "e3735782",
   "metadata": {},
   "outputs": [],
   "source": [
    "def calcular_valor_programacoes(programacoes):\n",
    "    num_programacoes = programacoes.count()\n",
    "    \n",
    "    if num_programacoes >= 4: # maior ou igual a 4 = 1\n",
    "        return 1\n",
    "    elif 2 <= num_programacoes <= 3: # entre 2 e 3 = 0.5\n",
    "        return 0.5\n",
    "    else:\n",
    "        return 0 # menos de 2 prog = 0"
   ]
  },
  {
   "cell_type": "code",
   "execution_count": 21,
   "id": "e88a5c42",
   "metadata": {},
   "outputs": [
    {
     "data": {
      "application/vnd.jupyter.widget-view+json": {
       "model_id": "2323abe6135843cc858ce16c6ed51d77",
       "version_major": 2,
       "version_minor": 0
      },
      "text/plain": [
       "  0%|          | 0/4 [00:00<?, ?it/s]"
      ]
     },
     "metadata": {},
     "output_type": "display_data"
    },
    {
     "name": "stdout",
     "output_type": "stream",
     "text": [
      "CCR - AutoBAn: Nota programações mês 3 = 1\n",
      "CCR - AutoBAn: Nota programações mês 4 = 1\n",
      "CCR - Rio Sp: Nota programações mês 3 = 1\n",
      "CCR - Rio Sp: Nota programações mês 4 = 1\n",
      "CCR - RodoAnel: Nota programações mês 3 = 1\n",
      "CCR - RodoAnel: Nota programações mês 4 = 0.5\n",
      "CCR - SPVias: Nota programações mês 3 = 1\n",
      "CCR - SPVias: Nota programações mês 4 = 1\n"
     ]
    }
   ],
   "source": [
    "def k(road_companies, today, last_month):\n",
    "    result = {}\n",
    "\n",
    "    for company in tqdm(road_companies):\n",
    "        last = Job.history.filter(\n",
    "            history_date__month=last_month.month,\n",
    "            history_date__year=last_month.year,\n",
    "            company__name=company,\n",
    "            history_type='+'\n",
    "        )\n",
    "\n",
    "        valor_mes_anterior = calcular_valor_programacoes(last)\n",
    "\n",
    "        print(f'{company}: Nota programações mês {last_month.month} = {valor_mes_anterior}')\n",
    "\n",
    "        atual = Job.history.filter(\n",
    "            history_date__month=today.month,\n",
    "            history_date__year=today.year,\n",
    "            company__name=company,\n",
    "            history_type='+'\n",
    "        )\n",
    "\n",
    "        valor_atual = calcular_valor_programacoes(atual)\n",
    "\n",
    "        print(f'{company}: Nota programações mês {today.month} = {valor_atual}')\n",
    "\n",
    "        result[company] = (valor_atual, valor_mes_anterior)\n",
    "\n",
    "#     df_result = pd.DataFrame(result.values(), index=result.keys(), columns=[last_month.month, today.month])\n",
    "#     df_result.to_excel('nota_programacoes.xlsx')\n",
    "\n",
    "    return result\n",
    "\n",
    "k_result = k(road_companies, today, last_month)"
   ]
  },
  {
   "cell_type": "markdown",
   "id": "510126c1",
   "metadata": {},
   "source": [
    "# q = recursos"
   ]
  },
  {
   "cell_type": "code",
   "execution_count": 22,
   "id": "a88f7273",
   "metadata": {
    "scrolled": true
   },
   "outputs": [
    {
     "data": {
      "application/vnd.jupyter.widget-view+json": {
       "model_id": "d06cf0e8cb994e3baa8f07951d9d6504",
       "version_major": 2,
       "version_minor": 0
      },
      "text/plain": [
       "  0%|          | 0/4 [00:00<?, ?it/s]"
      ]
     },
     "metadata": {},
     "output_type": "display_data"
    },
    {
     "name": "stdout",
     "output_type": "stream",
     "text": [
      "CCR - AutoBAn: Nota recursos mês 3: 0\n",
      "CCR - AutoBAn: Nota recursos mês 4: 0\n",
      "CCR - Rio Sp: Nota recursos mês 3: 1\n",
      "CCR - Rio Sp: Nota recursos mês 4: 1\n",
      "CCR - RodoAnel: Nota recursos mês 3: 0\n",
      "CCR - RodoAnel: Nota recursos mês 4: 0\n",
      "CCR - SPVias: Nota recursos mês 3: 0\n",
      "CCR - SPVias: Nota recursos mês 4: 0\n"
     ]
    }
   ],
   "source": [
    "def q(road_companies, today, last_month):\n",
    "    result = {}\n",
    "\n",
    "    for company in tqdm(road_companies):\n",
    "        # Calcula a nota de recursos para o mês atual\n",
    "        total_pu_today = ProcedureResource.objects.filter(\n",
    "            reporting__company__name=company,\n",
    "            creation_date__month=today.month,\n",
    "            creation_date__year=today.year\n",
    "        ).count()\n",
    "        total_adm_today = DailyReportContractUsage.objects.filter(\n",
    "            worker__company__name=company,\n",
    "            created_at__month=today.month,\n",
    "            created_at__year=today.year\n",
    "        ).count()\n",
    "        total_performance_today = FieldSurvey.objects.filter(\n",
    "            contract__subcompany__company__name=company,\n",
    "            created_at__month=today.month,\n",
    "            created_at__year=today.year\n",
    "        ).count()\n",
    "        total_recursos_today = total_pu_today + total_adm_today + total_performance_today\n",
    "\n",
    "        # Calcula a nota de recursos para o mês anterior\n",
    "        total_pu_last_month = ProcedureResource.objects.filter(\n",
    "            reporting__company__name=company,\n",
    "            creation_date__month=last_month.month,\n",
    "            creation_date__year=last_month.year\n",
    "        ).count()\n",
    "        total_adm_last_month = DailyReportContractUsage.objects.filter(\n",
    "            worker__company__name=company,\n",
    "            created_at__month=last_month.month,\n",
    "            created_at__year=last_month.year\n",
    "        ).count()\n",
    "        total_performance_last_month = FieldSurvey.objects.filter(\n",
    "            contract__subcompany__company__name=company,\n",
    "            created_at__month=last_month.month,\n",
    "            created_at__year=last_month.year\n",
    "        ).count()\n",
    "        total_recursos_last_month = total_pu_last_month + total_adm_last_month + total_performance_last_month\n",
    "\n",
    "        # Determina a nota de recursos para cada mês\n",
    "        nota_recursos_today = 1 if total_recursos_today > 0 else 0\n",
    "        nota_recursos_last_month = 1 if total_recursos_last_month > 0 else 0\n",
    "\n",
    "        # Adiciona as notas de recursos ao dicionário result\n",
    "        result[company] = (nota_recursos_last_month, nota_recursos_today)\n",
    "\n",
    "        print(f'{company}: Nota recursos mês {last_month.month}: {nota_recursos_last_month}')\n",
    "        print(f'{company}: Nota recursos mês {today.month}: {nota_recursos_today}')\n",
    "\n",
    "#     df = pd.DataFrame.from_dict(result, orient='index', columns=[last_month.month, today.month])\n",
    "\n",
    "#     filename = 'nota_recursos.xlsx'\n",
    "#     df.to_excel(filename)\n",
    "\n",
    "    return result\n",
    "\n",
    "q_result = q(road_companies, today, last_month)"
   ]
  },
  {
   "cell_type": "markdown",
   "id": "992e8f2b",
   "metadata": {},
   "source": [
    "# j = RDOs"
   ]
  },
  {
   "cell_type": "code",
   "execution_count": 23,
   "id": "8a55b748",
   "metadata": {},
   "outputs": [],
   "source": [
    "def calcular_valor_RDO(porcentagem): # nota referente a porcentagem de equipes com RDO criado\n",
    "    if porcentagem >= 50:\n",
    "        return 1\n",
    "    elif 15 <= porcentagem < 50:\n",
    "        return 0.5\n",
    "    else:\n",
    "        return 0 # menor de 15% = 0"
   ]
  },
  {
   "cell_type": "code",
   "execution_count": 24,
   "id": "5ee8ad97",
   "metadata": {},
   "outputs": [
    {
     "data": {
      "application/vnd.jupyter.widget-view+json": {
       "model_id": "f7aa708e351a4d86ade9e610505675e9",
       "version_major": 2,
       "version_minor": 0
      },
      "text/plain": [
       "  0%|          | 0/4 [00:00<?, ?it/s]"
      ]
     },
     "metadata": {},
     "output_type": "display_data"
    },
    {
     "name": "stdout",
     "output_type": "stream",
     "text": [
      "CCR - AutoBAn: Nota RDO mês 3: 0\n",
      "CCR - AutoBAn: Nota RDO mês 4: 0\n",
      "CCR - Rio Sp: Nota RDO mês 3: 0\n",
      "CCR - Rio Sp: Nota RDO mês 4: 0\n",
      "CCR - RodoAnel: Nota RDO mês 3: 0\n",
      "CCR - RodoAnel: Nota RDO mês 4: 0\n",
      "CCR - SPVias: Nota RDO mês 3: 0\n",
      "CCR - SPVias: Nota RDO mês 4: 0\n"
     ]
    }
   ],
   "source": [
    "def j(road_companies, today, last_month):\n",
    "    result = {}\n",
    "\n",
    "    for company in tqdm(road_companies):\n",
    "        contador_atual = 0\n",
    "        contador_anterior = 0\n",
    "        firms = Firm.objects.filter(company__name=company)\n",
    "        total_equipes = firms.count() # pega o total de equipes\n",
    "\n",
    "        for firm in firms:\n",
    "            if firm.firm_multiple_daily_report.filter(\n",
    "                Q(date__month=today.month),\n",
    "                Q(date__year=today.year)\n",
    "            ).exists():\n",
    "                contador_atual += 1\n",
    "\n",
    "            if firm.firm_multiple_daily_report.filter(\n",
    "                Q(date__month=last_month.month),\n",
    "                Q(date__year=last_month.year)\n",
    "            ).exists():\n",
    "                contador_anterior += 1\n",
    "\n",
    "        porcentagem_atual = (contador_atual / total_equipes) * 100 if total_equipes != 0 else 0\n",
    "        valor_RDO_atual = calcular_valor_RDO(porcentagem_atual)\n",
    "\n",
    "        porcentagem_anterior = (contador_anterior / total_equipes) * 100 if total_equipes != 0 else 0 \n",
    "        valor_RDO_anterior = calcular_valor_RDO(porcentagem_anterior)\n",
    "\n",
    "        result[company] = (valor_RDO_anterior, valor_RDO_atual)\n",
    "\n",
    "        print(f'{company}: Nota RDO mês {last_month.month}: {valor_RDO_anterior}')\n",
    "        print(f'{company}: Nota RDO mês {today.month}: {valor_RDO_atual}')\n",
    "\n",
    "#     df = pd.DataFrame.from_dict(result, orient='index', columns=[last_month.month, today.month])\n",
    "\n",
    "#     filename = 'nota_RDO.xlsx'\n",
    "#     df.to_excel(filename)\n",
    "\n",
    "    return result\n",
    "\n",
    "j_result = j(road_companies, today, last_month)"
   ]
  },
  {
   "cell_type": "markdown",
   "id": "1f37077b",
   "metadata": {},
   "source": [
    "# CÁLCULOS PARA O HS "
   ]
  },
  {
   "cell_type": "raw",
   "id": "a689995b",
   "metadata": {},
   "source": [
    "mês atual = mês que queremos saber os resultados"
   ]
  },
  {
   "cell_type": "markdown",
   "id": "22661c0c",
   "metadata": {},
   "source": [
    "# HS (básico) "
   ]
  },
  {
   "cell_type": "markdown",
   "id": "63b96081",
   "metadata": {},
   "source": [
    "Exemplo:\n",
    "    porcentagem_dias_de_uso = 0.3\n",
    "    variacao_apontamentos = 1\n",
    "Exemplo cálculo:\n",
    "    hs_basico = 50 * 0.3 + 50 * 1\n",
    "          = 15 + 50\n",
    "          = 65"
   ]
  },
  {
   "cell_type": "code",
   "execution_count": 11,
   "id": "6f4ec9e6",
   "metadata": {
    "collapsed": true
   },
   "outputs": [
    {
     "name": "stdout",
     "output_type": "stream",
     "text": [
      "Empresa: LCM - Criciúma                 | Mês: 2          | Porcentagem de dias de uso: 0 | Variação de apontamentos: 1 | Nota: 50\n",
      "Empresa: LCM - Criciúma                 | Mês: 3          | Porcentagem de dias de uso: 0.3 | Variação de apontamentos: 1 | Nota: 65.0\n",
      "Empresa: LCM - Gaspar                   | Mês: 2          | Porcentagem de dias de uso: 0.65 | Variação de apontamentos: 0 | Nota: 32.5\n",
      "Empresa: LCM - Gaspar                   | Mês: 3          | Porcentagem de dias de uso: 1 | Variação de apontamentos: 0 | Nota: 50\n",
      "Empresa: LCM - Ituporanga               | Mês: 2          | Porcentagem de dias de uso: 0 | Variação de apontamentos: 1 | Nota: 50\n",
      "Empresa: LCM - Ituporanga               | Mês: 3          | Porcentagem de dias de uso: 0.3 | Variação de apontamentos: 1 | Nota: 65.0\n"
     ]
    }
   ],
   "source": [
    "# def calcular_hs_basico(resultados_por_empresa, w, months):\n",
    "#     hs_basico = []\n",
    "\n",
    "#     for company, variacao in w:\n",
    "#         hs_basico_mes_anterior = 0\n",
    "#         for i, month in enumerate(months):\n",
    "#             porcentagem_dias_de_uso = resultados_por_empresa[company][i]\n",
    "#             variacao_apontamentos = variacao\n",
    "            \n",
    "#             hs_basico_value = 50 * porcentagem_dias_de_uso + 50 * variacao_apontamentos\n",
    "\n",
    "#             if i > 0:\n",
    "#                 hs_basico.append({'Empresa': company, 'HS Mês Anterior': hs_basico_mes_anterior, 'HS Mês Atual': hs_basico_value})\n",
    "#             hs_basico_mes_anterior = hs_basico_value \n",
    "\n",
    "#             company_str = str(company).ljust(30)\n",
    "#             month_str = str(month).ljust(10)\n",
    "#             print(f\"Empresa: {company_str} | Mês: {month_str} | Porcentagem de dias de uso: {porcentagem_dias_de_uso} | Variação de apontamentos: {variacao_apontamentos} | Nota: {hs_basico_value}\")\n",
    "\n",
    "#     return hs_basico\n",
    "\n",
    "# resultados_hs_basico = calcular_hs_basico(resultados_por_empresa, w, months)\n",
    "\n",
    "# df_result = pd.DataFrame(resultados_hs_basico)\n",
    "# df_result.to_excel('hs_basico.xlsx', index=False, columns=['Empresa', 'HS Mês Anterior', 'HS Mês Atual'])"
   ]
  },
  {
   "cell_type": "markdown",
   "id": "dd31e1ed",
   "metadata": {},
   "source": [
    "# HS (intermediário) "
   ]
  },
  {
   "cell_type": "markdown",
   "id": "e32c2187",
   "metadata": {},
   "source": [
    "Exemplo:\n",
    "    porcentagem_dias_de_uso = 0.3\n",
    "    variacao_apontamentos = 1\n",
    "    valor_programacoes = 0\n",
    "Exemplo de cálculo:\n",
    "    hs_intermediario = 34 * 0.3 + 34 * 1 + 32 * 0\n",
    "                     = 10.2 + 34 + 0\n",
    "                     = 44.2"
   ]
  },
  {
   "cell_type": "code",
   "execution_count": 23,
   "id": "44ab2696",
   "metadata": {
    "collapsed": true
   },
   "outputs": [
    {
     "name": "stdout",
     "output_type": "stream",
     "text": [
      "Empresa: Afirma Engenharia Viária       | Mês: 2          | Porcentagem de dias de uso: 0 | Variação de apontamentos: 0 | Valor de programações: 0 | Nota Intermediária: 0\n",
      "Empresa: Afirma Engenharia Viária       | Mês: 3          | Porcentagem de dias de uso: 0 | Variação de apontamentos: 0 | Valor de programações: 0 | Nota Intermediária: 0\n",
      "Empresa: ELO Ecopistas                  | Mês: 2          | Porcentagem de dias de uso: 0.3 | Variação de apontamentos: 0.7 | Valor de programações: 0.5 | Nota Intermediária: 50.0\n",
      "Empresa: ELO Ecopistas                  | Mês: 3          | Porcentagem de dias de uso: 0.3 | Variação de apontamentos: 0.7 | Valor de programações: 0.5 | Nota Intermediária: 50.0\n",
      "Empresa: ELO Ecovias dos Imigrantes     | Mês: 2          | Porcentagem de dias de uso: 0 | Variação de apontamentos: 0 | Valor de programações: 1 | Nota Intermediária: 32\n",
      "Empresa: ELO Ecovias dos Imigrantes     | Mês: 3          | Porcentagem de dias de uso: 0 | Variação de apontamentos: 0 | Valor de programações: 1 | Nota Intermediária: 32\n",
      "Empresa: ELO Rodovias dos Tamoios       | Mês: 2          | Porcentagem de dias de uso: 0 | Variação de apontamentos: 0 | Valor de programações: 1 | Nota Intermediária: 32\n",
      "Empresa: ELO Rodovias dos Tamoios       | Mês: 3          | Porcentagem de dias de uso: 0.3 | Variação de apontamentos: 0 | Valor de programações: 1 | Nota Intermediária: 42.2\n",
      "Empresa: ELO Rodovias Tietê             | Mês: 2          | Porcentagem de dias de uso: 0 | Variação de apontamentos: 0 | Valor de programações: 0.5 | Nota Intermediária: 16.0\n",
      "Empresa: ELO Rodovias Tietê             | Mês: 3          | Porcentagem de dias de uso: 0 | Variação de apontamentos: 0 | Valor de programações: 1 | Nota Intermediária: 32\n",
      "Empresa: ELO Rota das Bandeiras         | Mês: 2          | Porcentagem de dias de uso: 0 | Variação de apontamentos: 0 | Valor de programações: 0 | Nota Intermediária: 0\n",
      "Empresa: ELO Rota das Bandeiras         | Mês: 3          | Porcentagem de dias de uso: 0 | Variação de apontamentos: 0 | Valor de programações: 0 | Nota Intermediária: 0\n",
      "Empresa: Entrevias SISOAE               | Mês: 2          | Porcentagem de dias de uso: 0 | Variação de apontamentos: 1 | Valor de programações: 1 | Nota Intermediária: 66\n",
      "Empresa: Entrevias SISOAE               | Mês: 3          | Porcentagem de dias de uso: 0.3 | Variação de apontamentos: 1 | Valor de programações: 1 | Nota Intermediária: 76.2\n",
      "Empresa: Neovia Alcinópolis             | Mês: 2          | Porcentagem de dias de uso: 1 | Variação de apontamentos: 0 | Valor de programações: 0 | Nota Intermediária: 34\n",
      "Empresa: Neovia Alcinópolis             | Mês: 3          | Porcentagem de dias de uso: 0.65 | Variação de apontamentos: 0 | Valor de programações: 0 | Nota Intermediária: 22.1\n",
      "Empresa: Neovia Araquari 886/2020       | Mês: 2          | Porcentagem de dias de uso: 0.65 | Variação de apontamentos: 1 | Valor de programações: 0 | Nota Intermediária: 56.1\n",
      "Empresa: Neovia Araquari 886/2020       | Mês: 3          | Porcentagem de dias de uso: 0.65 | Variação de apontamentos: 1 | Valor de programações: 0 | Nota Intermediária: 56.1\n",
      "Empresa: Neovia Araranguá               | Mês: 2          | Porcentagem de dias de uso: 0.3 | Variação de apontamentos: 1 | Valor de programações: 0 | Nota Intermediária: 44.2\n",
      "Empresa: Neovia Araranguá               | Mês: 3          | Porcentagem de dias de uso: 0.3 | Variação de apontamentos: 1 | Valor de programações: 0 | Nota Intermediária: 44.2\n",
      "Empresa: Neovia Bocaína do Sul 329/2018 | Mês: 2          | Porcentagem de dias de uso: 0.65 | Variação de apontamentos: 1 | Valor de programações: 0 | Nota Intermediária: 56.1\n",
      "Empresa: Neovia Bocaína do Sul 329/2018 | Mês: 3          | Porcentagem de dias de uso: 1 | Variação de apontamentos: 1 | Valor de programações: 0 | Nota Intermediária: 68\n",
      "Empresa: Neovia Contorno Sul            | Mês: 2          | Porcentagem de dias de uso: 0.3 | Variação de apontamentos: 0 | Valor de programações: 0 | Nota Intermediária: 10.2\n",
      "Empresa: Neovia Contorno Sul            | Mês: 3          | Porcentagem de dias de uso: 0 | Variação de apontamentos: 0 | Valor de programações: 0 | Nota Intermediária: 0\n",
      "Empresa: Neovia Cto Biguaçu             | Mês: 2          | Porcentagem de dias de uso: 1 | Variação de apontamentos: 0 | Valor de programações: 0 | Nota Intermediária: 34\n",
      "Empresa: Neovia Cto Biguaçu             | Mês: 3          | Porcentagem de dias de uso: 1 | Variação de apontamentos: 0 | Valor de programações: 0 | Nota Intermediária: 34\n",
      "Empresa: Neovia Diamantino              | Mês: 2          | Porcentagem de dias de uso: 1 | Variação de apontamentos: 1 | Valor de programações: 0 | Nota Intermediária: 68\n",
      "Empresa: Neovia Diamantino              | Mês: 3          | Porcentagem de dias de uso: 0.65 | Variação de apontamentos: 1 | Valor de programações: 0 | Nota Intermediária: 56.1\n",
      "Empresa: Neovia Lages 652/2019          | Mês: 2          | Porcentagem de dias de uso: 0.65 | Variação de apontamentos: 1 | Valor de programações: 0 | Nota Intermediária: 56.1\n",
      "Empresa: Neovia Lages 652/2019          | Mês: 3          | Porcentagem de dias de uso: 0.65 | Variação de apontamentos: 1 | Valor de programações: 0 | Nota Intermediária: 56.1\n",
      "Empresa: Neovia Lagoa Vermelha          | Mês: 2          | Porcentagem de dias de uso: 0.3 | Variação de apontamentos: 1 | Valor de programações: 0 | Nota Intermediária: 44.2\n",
      "Empresa: Neovia Lagoa Vermelha          | Mês: 3          | Porcentagem de dias de uso: 0.3 | Variação de apontamentos: 1 | Valor de programações: 0 | Nota Intermediária: 44.2\n",
      "Empresa: Neovia Planalto Sul            | Mês: 2          | Porcentagem de dias de uso: 0.3 | Variação de apontamentos: 1 | Valor de programações: 0 | Nota Intermediária: 44.2\n",
      "Empresa: Neovia Planalto Sul            | Mês: 3          | Porcentagem de dias de uso: 0.3 | Variação de apontamentos: 1 | Valor de programações: 0 | Nota Intermediária: 44.2\n",
      "Empresa: Neovia Ponte Serrada           | Mês: 2          | Porcentagem de dias de uso: 0.3 | Variação de apontamentos: 0 | Valor de programações: 0 | Nota Intermediária: 10.2\n",
      "Empresa: Neovia Ponte Serrada           | Mês: 3          | Porcentagem de dias de uso: 0.3 | Variação de apontamentos: 0 | Valor de programações: 0 | Nota Intermediária: 10.2\n",
      "Empresa: Neovia Rancho Queimado 080/2021 | Mês: 2          | Porcentagem de dias de uso: 0.65 | Variação de apontamentos: 1 | Valor de programações: 0 | Nota Intermediária: 56.1\n",
      "Empresa: Neovia Rancho Queimado 080/2021 | Mês: 3          | Porcentagem de dias de uso: 1 | Variação de apontamentos: 1 | Valor de programações: 0 | Nota Intermediária: 68\n",
      "Empresa: Neovia Régis Bittencourt       | Mês: 2          | Porcentagem de dias de uso: 1 | Variação de apontamentos: 0 | Valor de programações: 0 | Nota Intermediária: 34\n",
      "Empresa: Neovia Régis Bittencourt       | Mês: 3          | Porcentagem de dias de uso: 0.65 | Variação de apontamentos: 0 | Valor de programações: 0 | Nota Intermediária: 22.1\n",
      "Empresa: Neovia Tijucas                 | Mês: 2          | Porcentagem de dias de uso: 0.65 | Variação de apontamentos: 0 | Valor de programações: 0 | Nota Intermediária: 22.1\n",
      "Empresa: Neovia Tijucas                 | Mês: 3          | Porcentagem de dias de uso: 0.3 | Variação de apontamentos: 0 | Valor de programações: 0 | Nota Intermediária: 10.2\n",
      "Empresa: VF Gomes - Confresa            | Mês: 2          | Porcentagem de dias de uso: 0 | Variação de apontamentos: 0 | Valor de programações: 0 | Nota Intermediária: 0\n",
      "Empresa: VF Gomes - Confresa            | Mês: 3          | Porcentagem de dias de uso: 0 | Variação de apontamentos: 0 | Valor de programações: 0 | Nota Intermediária: 0\n",
      "Empresa: VF Gomes - BR010               | Mês: 2          | Porcentagem de dias de uso: 0.3 | Variação de apontamentos: 0 | Valor de programações: 0 | Nota Intermediária: 10.2\n",
      "Empresa: VF Gomes - BR010               | Mês: 3          | Porcentagem de dias de uso: 0.3 | Variação de apontamentos: 0 | Valor de programações: 0 | Nota Intermediária: 10.2\n",
      "Empresa: VF Gomes - BR158               | Mês: 2          | Porcentagem de dias de uso: 0 | Variação de apontamentos: 0 | Valor de programações: 0 | Nota Intermediária: 0\n",
      "Empresa: VF Gomes - BR158               | Mês: 3          | Porcentagem de dias de uso: 0 | Variação de apontamentos: 0 | Valor de programações: 0 | Nota Intermediária: 0\n"
     ]
    }
   ],
   "source": [
    "# def calcular_hs_intermediario(resultados_por_empresa, w, k_result, months):\n",
    "#     hs_intermediario = {}\n",
    "\n",
    "#     for company, variacao in w:\n",
    "#         hs_intermediario[company] = []\n",
    "#         hs_mes_anterior = 0\n",
    "\n",
    "#         for i, month in enumerate(months):\n",
    "#             porcentagem_dias_de_uso = resultados_por_empresa[company][i]\n",
    "#             variacao_apontamentos = variacao\n",
    "#             valor_programacoes = k_result[company][i]\n",
    "            \n",
    "#             hs_intermediario_value = 34 * porcentagem_dias_de_uso + 34 * variacao_apontamentos + 32 * valor_programacoes\n",
    "\n",
    "#             company_str = str(company).ljust(30)\n",
    "#             month_str = str(month).ljust(10)\n",
    "#             print(f\"Empresa: {company_str} | Mês: {month_str} | Porcentagem de dias de uso: {porcentagem_dias_de_uso} | Variação de apontamentos: {variacao_apontamentos} | Valor de programações: {valor_programacoes} | Nota Intermediária: {hs_intermediario_value}\")\n",
    "\n",
    "\n",
    "#             if not hs_intermediario[company]:\n",
    "#                 hs_intermediario[company].append((0, hs_intermediario_value))\n",
    "#             else:\n",
    "#                 hs_intermediario[company][-1] = (hs_intermediario[company][-1][1], hs_intermediario_value)\n",
    "\n",
    "#     data = []\n",
    "#     for company, values in hs_intermediario.items():\n",
    "#         for i, (previous_hs_value, hs_value) in enumerate(values):\n",
    "#             data.append([company, previous_hs_value, hs_value])\n",
    "\n",
    "#     df_result = pd.DataFrame(data, columns=['Empresa', 'HS Mês Anterior', 'HS Mês Atual'])\n",
    "\n",
    "#     filename = 'hs_intermediario.xlsx'\n",
    "#     df_result.to_excel(filename, index=False)\n",
    "\n",
    "#     return hs_intermediario\n",
    "\n",
    "# resultados_hs_intermediario = calcular_hs_intermediario(resultados_por_empresa, w, k_result, months)"
   ]
  },
  {
   "cell_type": "markdown",
   "id": "479692d5",
   "metadata": {},
   "source": [
    "# HS (avançado) "
   ]
  },
  {
   "cell_type": "markdown",
   "id": "c07feccc",
   "metadata": {},
   "source": [
    "Exemplo:\n",
    "    Porcentagem de uso: 0.3\n",
    "    Variação de apontamentos: 1 (Positivo)\n",
    "    Nota programações: 0\n",
    "    Nota Recursos = 0\n",
    "    Nota RDO: 0\n",
    "Exemplo de cálculo:\n",
    "    hs_avancado_value = 20 * (0.3 + 1 + 0 + 0 + 0)\n",
    "                      = 20 * 1.3\n",
    "                      = 26"
   ]
  },
  {
   "cell_type": "code",
   "execution_count": 26,
   "id": "518f975b",
   "metadata": {
    "scrolled": true
   },
   "outputs": [
    {
     "name": "stdout",
     "output_type": "stream",
     "text": [
      "Empresa: CCR - AutoBAn                  | Mês: 3          | Porcentagem de dias de uso: 0.3 | Variação de apontamentos: 0 | Valor de programações: 1 | Nota de recursos: 0 | Nota RDO: 0\n",
      "HS Avançado para a empresa CCR - AutoBAn no mês 3: 26.0\n",
      "\n",
      "Empresa: CCR - AutoBAn                  | Mês: 4          | Porcentagem de dias de uso: 0.3 | Variação de apontamentos: 0 | Valor de programações: 1 | Nota de recursos: 0 | Nota RDO: 0\n",
      "HS Avançado para a empresa CCR - AutoBAn no mês 4: 26.0\n",
      "\n",
      "Empresa: CCR - Rio Sp                   | Mês: 3          | Porcentagem de dias de uso: 0.3 | Variação de apontamentos: 0 | Valor de programações: 1 | Nota de recursos: 1 | Nota RDO: 0\n",
      "HS Avançado para a empresa CCR - Rio Sp no mês 3: 46.0\n",
      "\n",
      "Empresa: CCR - Rio Sp                   | Mês: 4          | Porcentagem de dias de uso: 0.65 | Variação de apontamentos: 0 | Valor de programações: 1 | Nota de recursos: 1 | Nota RDO: 0\n",
      "HS Avançado para a empresa CCR - Rio Sp no mês 4: 53.0\n",
      "\n",
      "Empresa: CCR - RodoAnel                 | Mês: 3          | Porcentagem de dias de uso: 0.3 | Variação de apontamentos: 0 | Valor de programações: 0.5 | Nota de recursos: 0 | Nota RDO: 0\n",
      "HS Avançado para a empresa CCR - RodoAnel no mês 3: 16.0\n",
      "\n",
      "Empresa: CCR - RodoAnel                 | Mês: 4          | Porcentagem de dias de uso: 0 | Variação de apontamentos: 0 | Valor de programações: 1 | Nota de recursos: 0 | Nota RDO: 0\n",
      "HS Avançado para a empresa CCR - RodoAnel no mês 4: 20\n",
      "\n",
      "Empresa: CCR - SPVias                   | Mês: 3          | Porcentagem de dias de uso: 0.65 | Variação de apontamentos: 0 | Valor de programações: 1 | Nota de recursos: 0 | Nota RDO: 0\n",
      "HS Avançado para a empresa CCR - SPVias no mês 3: 33.0\n",
      "\n",
      "Empresa: CCR - SPVias                   | Mês: 4          | Porcentagem de dias de uso: 1 | Variação de apontamentos: 0 | Valor de programações: 1 | Nota de recursos: 0 | Nota RDO: 0\n",
      "HS Avançado para a empresa CCR - SPVias no mês 4: 40\n",
      "\n"
     ]
    }
   ],
   "source": [
    "def calcular_hs_avancado(resultados_por_empresa, w, k_result, q_result, j_result, months):\n",
    "    hs_avancado = {}\n",
    "    hs_export_avancado = {}\n",
    "\n",
    "    for company, variacao in w:\n",
    "        hs_avancado[company] = []\n",
    "        hs_export_avancado[company] = []\n",
    "\n",
    "        for i, month in enumerate(months):\n",
    "            porcentagem_dias_de_uso = resultados_por_empresa[company][i]\n",
    "            variacao_apontamentos = variacao\n",
    "            valor_programacoes = k_result[company][i]\n",
    "            nota_recursos_atual = q_result[company][i]\n",
    "            nota_rdo = j_result[company][i] \n",
    "\n",
    "            company_str = str(company).ljust(30)\n",
    "            month_str = str(month).ljust(10)\n",
    "            \n",
    "            print(f\"Empresa: {company_str} | Mês: {month_str} | Porcentagem de dias de uso: {porcentagem_dias_de_uso} | Variação de apontamentos: {variacao_apontamentos} | Valor de programações: {valor_programacoes} | Nota de recursos: {nota_recursos_atual} | Nota RDO: {nota_rdo}\")\n",
    "\n",
    "            hs_avancado_value = 20 * porcentagem_dias_de_uso + 20 * variacao_apontamentos + 20 * valor_programacoes + 20 * nota_recursos_atual + 20 * nota_rdo\n",
    "            print(f\"HS Avançado para a empresa {company} no mês {month}: {hs_avancado_value}\\n\")\n",
    "\n",
    "            hs_avancado[company].append(hs_avancado_value)\n",
    "\n",
    "    return hs_avancado\n",
    "\n",
    "hs_avancado = calcular_hs_avancado(resultados_por_empresa, w, k_result, q_result, j_result, months)"
   ]
  },
  {
   "cell_type": "code",
   "execution_count": 34,
   "id": "ea60bfbc",
   "metadata": {},
   "outputs": [],
   "source": [
    "df=pd.DataFrame.from_dict(data=hs_export_avancado,orient='index',columns=months)"
   ]
  },
  {
   "cell_type": "code",
   "execution_count": 35,
   "id": "1989ce51",
   "metadata": {},
   "outputs": [
    {
     "data": {
      "text/html": [
       "<div>\n",
       "<style scoped>\n",
       "    .dataframe tbody tr th:only-of-type {\n",
       "        vertical-align: middle;\n",
       "    }\n",
       "\n",
       "    .dataframe tbody tr th {\n",
       "        vertical-align: top;\n",
       "    }\n",
       "\n",
       "    .dataframe thead th {\n",
       "        text-align: right;\n",
       "    }\n",
       "</style>\n",
       "<table border=\"1\" class=\"dataframe\">\n",
       "  <thead>\n",
       "    <tr style=\"text-align: right;\">\n",
       "      <th></th>\n",
       "      <th>3</th>\n",
       "      <th>4</th>\n",
       "    </tr>\n",
       "  </thead>\n",
       "  <tbody>\n",
       "    <tr>\n",
       "      <th>CCR - AutoBAn</th>\n",
       "      <td>26.0</td>\n",
       "      <td>26.0</td>\n",
       "    </tr>\n",
       "    <tr>\n",
       "      <th>CCR - Rio Sp</th>\n",
       "      <td>46.0</td>\n",
       "      <td>53.0</td>\n",
       "    </tr>\n",
       "    <tr>\n",
       "      <th>CCR - RodoAnel</th>\n",
       "      <td>16.0</td>\n",
       "      <td>20.0</td>\n",
       "    </tr>\n",
       "    <tr>\n",
       "      <th>CCR - SPVias</th>\n",
       "      <td>33.0</td>\n",
       "      <td>40.0</td>\n",
       "    </tr>\n",
       "  </tbody>\n",
       "</table>\n",
       "</div>"
      ],
      "text/plain": [
       "                   3     4\n",
       "CCR - AutoBAn   26.0  26.0\n",
       "CCR - Rio Sp    46.0  53.0\n",
       "CCR - RodoAnel  16.0  20.0\n",
       "CCR - SPVias    33.0  40.0"
      ]
     },
     "execution_count": 35,
     "metadata": {},
     "output_type": "execute_result"
    }
   ],
   "source": [
    "df"
   ]
  },
  {
   "cell_type": "code",
   "execution_count": 37,
   "id": "547af836",
   "metadata": {},
   "outputs": [],
   "source": [
    "df.to_excel('HS-CCR-'+'-'.join(str(a) for a in months)+'.xlsx')"
   ]
  },
  {
   "cell_type": "code",
   "execution_count": null,
   "id": "930dd41c",
   "metadata": {},
   "outputs": [],
   "source": []
  }
 ],
 "metadata": {
  "kernelspec": {
   "display_name": "Django Shell-Plus",
   "language": "python",
   "name": "django_extensions"
  },
  "language_info": {
   "codemirror_mode": {
    "name": "ipython",
    "version": 3
   },
   "file_extension": ".py",
   "mimetype": "text/x-python",
   "name": "python",
   "nbconvert_exporter": "python",
   "pygments_lexer": "ipython3",
   "version": "3.8.16"
  }
 },
 "nbformat": 4,
 "nbformat_minor": 5
}
