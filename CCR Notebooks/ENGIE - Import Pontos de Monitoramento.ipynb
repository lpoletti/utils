{
 "cells": [
  {
   "cell_type": "code",
   "execution_count": 1,
   "id": "02f4faf7",
   "metadata": {},
   "outputs": [
    {
     "name": "stdout",
     "output_type": "stream",
     "text": [
      "STAGE=ENGIE_PRODUCTION\r\n"
     ]
    }
   ],
   "source": [
    "!cat .env"
   ]
  },
  {
   "cell_type": "code",
   "execution_count": 2,
   "id": "b9595ebb",
   "metadata": {},
   "outputs": [
    {
     "data": {
      "text/plain": [
       "<QuerySet [<Company: a17b7aca-5552-4f17-9ba0-9946029390a6: POC-Projeto APR>, <Company: 4a5e0119-fb85-40fd-87ab-f201a2aa0fde: GSB - UHE-MACHADINHO>, <Company: c85df77c-3e92-4f60-b9c1-de5866400d2d: GSO - UHE-CANA BRAVA>, <Company: 571581e3-da3a-469e-8676-0dc58c056ef7: GSO - UHE-SALTO OSORIO>, <Company: 4920816b-507a-48b1-86d5-d2eef6c63a1f: GSO - UTPS>, <Company: 37b4c80d-3f2b-4032-8cac-6ba1560d3144: GSO - UHE-SALTO SANTIAGO>, <Company: b75339ff-e91f-4e75-a082-5d7e23a4d049: GSB - UHE-SALTO SANTIAGO>, <Company: ed749424-27e4-4342-82cd-f924de71830b: Limbo - UTPS>, <Company: 1021dc11-d12c-4a27-88d5-dde0fad2be7d: GSO - UHE-PONTE DE PEDRA>, <Company: 7fe7b473-6d9c-49d6-a9ca-74f3424d3211: GSB - UHE-SALTO OSÓRIO>, <Company: f0bdd035-6af9-401c-9233-26c5cdd808b0: GSO - UHE-JAGUARA>, <Company: 62ad80d9-b785-4037-933a-e23238728220: GSO - UHE-MIRANDA>, <Company: d25d0eb2-61a8-4646-8e0e-31c8e68cf216: TESTE>, <Company: 5f0ef84c-9985-4519-95de-e87fb4fcea21: GSO - PCH-JOSÉ GELÁZIO DA ROCHA>, <Company: 1b1511d1-6f28-4aed-b02c-7c820c5f9dbb: GSO - PCH-RONDONÓPOLIS>, <Company: 33e4f910-db35-46ce-95c8-56cad68eeb94: GSO - UHE-ESTREITO>, <Company: 90041917-e41e-46f2-b979-7d3ad53efad2: Engie Umburanas>, <Company: cff59760-69dd-4d07-bba5-61aa8b6faeea: GES - UHE-CANA BRAVA>, <Company: 1f30f493-c653-46c7-b073-0046837347f7: GSO - UHE-SÃO SALVADOR>, <Company: 42ddc389-3258-4daf-868a-097235427e0f: GES - UHE-ESTREITO>, '...(remaining elements truncated)...']>"
      ]
     },
     "execution_count": 2,
     "metadata": {},
     "output_type": "execute_result"
    }
   ],
   "source": [
    "Company.objects.all()"
   ]
  },
  {
   "cell_type": "markdown",
   "id": "d518326e",
   "metadata": {},
   "source": [
    "# IMPORTAR PONTOS DE MONITORAMENTO"
   ]
  },
  {
   "cell_type": "code",
   "execution_count": 14,
   "id": "caf740ec",
   "metadata": {},
   "outputs": [],
   "source": [
    "from django.db.models import Q\n",
    "from tqdm.notebook import tqdm\n",
    "from datetime import datetime\n",
    "from openpyxl import load_workbook\n",
    "from django.contrib.gis.geos import Point"
   ]
  },
  {
   "cell_type": "code",
   "execution_count": 15,
   "id": "244e19b9",
   "metadata": {},
   "outputs": [],
   "source": [
    "def load_excel(filename,sheetPosision=0):\n",
    "    wb = load_workbook(filename=filename+'.xlsx')\n",
    "    sheet = wb[wb.sheetnames[sheetPosision]]\n",
    "    data = []\n",
    "\n",
    "    headers = [cell.value for cell in sheet[1]]\n",
    "\n",
    "    for row in sheet.iter_rows(min_row=2):\n",
    "        row_dict = {}\n",
    "        for key, cell in zip(headers, row):\n",
    "            row_dict[key] = cell.value\n",
    "    #         if 'Foto Contenção 1_1' == key:\n",
    "    #             print(cell.value)\n",
    "        data.append(row_dict)\n",
    "    return data"
   ]
  },
  {
   "cell_type": "code",
   "execution_count": 16,
   "id": "baa5babf",
   "metadata": {},
   "outputs": [],
   "source": [
    "def transform_coordinates(x, y, srid=31982):\n",
    "\n",
    "    pnt = Point(x, y, srid=srid)\n",
    "    pnt.transform(4326)\n",
    "    \n",
    "    lng = pnt.coords[1]\n",
    "    lat = pnt.coords[0]\n",
    "    \n",
    "    return Point(lat, lng)"
   ]
  },
  {
   "cell_type": "code",
   "execution_count": 17,
   "id": "4fa517a0",
   "metadata": {},
   "outputs": [
    {
     "data": {
      "text/plain": [
       "{'Piezômetro': 'PZ 07',\n",
       " 'Município': 'Carolina',\n",
       " 'X (SIRGAS 2000)': 226901,\n",
       " 'Y (SIRGAS 2000)': 9189419,\n",
       " 'Profund, Instalação (m)': 5.04,\n",
       " 'Data de Instalação': datetime.datetime(2022, 11, 10, 0, 0),\n",
       " 'Cota Instalada': 163251,\n",
       " 'Altura da Base (m)': 0.3}"
      ]
     },
     "execution_count": 17,
     "metadata": {},
     "output_type": "execute_result"
    }
   ],
   "source": [
    "values=load_excel('piezometros_UHEET')\n",
    "values[0]"
   ]
  },
  {
   "cell_type": "code",
   "execution_count": 18,
   "id": "9e6b1e8e",
   "metadata": {},
   "outputs": [
    {
     "data": {
      "text/plain": [
       "<Point object at 0x7fef1dace2e0>"
      ]
     },
     "execution_count": 18,
     "metadata": {},
     "output_type": "execute_result"
    }
   ],
   "source": [
    "transform_coordinates(226901,9189419)"
   ]
  },
  {
   "cell_type": "code",
   "execution_count": 19,
   "id": "540e8263",
   "metadata": {},
   "outputs": [],
   "source": [
    "mon_plan = MonitoringPlan.objects.get(uuid=\"f3356e23-0b49-4dd7-81e5-450d6187b9c7\")\n",
    "user=User.objects.get(username=\"engie\")\n",
    "company=Company.objects.get(name='GES - UHE-ESTREITO')"
   ]
  },
  {
   "cell_type": "code",
   "execution_count": 23,
   "id": "8a229c69",
   "metadata": {},
   "outputs": [
    {
     "data": {
      "text/plain": [
       "(<ManyToManyRel: occurrence_records.occurrencerecord>,\n",
       " <ManyToManyRel: monitorings.monitoringfrequency>,\n",
       " <ManyToOneRel: monitorings.monitoringcollect>,\n",
       " <ManyToOneRel: monitorings.monitoringrecord>,\n",
       " <django.db.models.fields.UUIDField: uuid>,\n",
       " <django.db.models.fields.DateTimeField: created_at>,\n",
       " <django.db.models.fields.DateTimeField: updated_at>,\n",
       " <django.db.models.fields.related.ForeignKey: created_by>,\n",
       " <django.db.models.fields.BooleanField: active>,\n",
       " <django.db.models.fields.TextField: code>,\n",
       " <django.db.models.fields.IntegerField: uf_code>,\n",
       " <django.db.models.fields.related.ForeignKey: city>,\n",
       " <django.db.models.fields.related.ForeignKey: location>,\n",
       " <django.db.models.fields.related.ForeignKey: river>,\n",
       " <django.db.models.fields.CharField: place_on_dam>,\n",
       " <django.contrib.gis.db.models.fields.PointField: coordinates>,\n",
       " <django.db.models.fields.related.ForeignKey: monitoring_plan>,\n",
       " <django.contrib.gis.db.models.fields.PolygonField: coverage_area>,\n",
       " <django.db.models.fields.TextField: segment>,\n",
       " <django.db.models.fields.TextField: description>,\n",
       " <django.db.models.fields.TextField: depth>,\n",
       " <django.db.models.fields.TextField: position>,\n",
       " <django.db.models.fields.TextField: stratification>,\n",
       " <django.db.models.fields.TextField: zone>)"
      ]
     },
     "execution_count": 23,
     "metadata": {},
     "output_type": "execute_result"
    }
   ],
   "source": [
    "MonitoringPoint._meta.get_fields()"
   ]
  },
  {
   "cell_type": "code",
   "execution_count": 20,
   "id": "c2eba69a",
   "metadata": {},
   "outputs": [
    {
     "data": {
      "text/plain": [
       "112"
      ]
     },
     "execution_count": 20,
     "metadata": {},
     "output_type": "execute_result"
    }
   ],
   "source": [
    "mp = MonitoringPoint.objects.filter(monitoring_plan=mon_plan)\n",
    "mp.count()"
   ]
  },
  {
   "cell_type": "code",
   "execution_count": 12,
   "id": "931d622c",
   "metadata": {},
   "outputs": [
    {
     "data": {
      "text/plain": [
       "{'_state': <django.db.models.base.ModelState at 0x7fef3a0e23d0>,\n",
       " 'uuid': UUID('ecd2ad1e-3bb9-4f61-bba1-63e5151372e0'),\n",
       " 'created_at': datetime.datetime(2021, 7, 21, 18, 41, 54, 420690, tzinfo=<UTC>),\n",
       " 'updated_at': datetime.datetime(2021, 7, 21, 18, 41, 54, 420759, tzinfo=<UTC>),\n",
       " 'created_by_id': UUID('0aa50773-b368-4a50-9f12-4a7d8dfaf256'),\n",
       " 'active': True,\n",
       " 'code': 'PZ 08',\n",
       " 'uf_code': 21,\n",
       " 'city_id': UUID('5238f4ca-08fa-41c9-b1d2-ffccc4dc3d43'),\n",
       " 'location_id': None,\n",
       " 'river_id': None,\n",
       " 'place_on_dam': '4',\n",
       " 'coordinates': <Point object at 0x7fef1d69dd90>,\n",
       " 'monitoring_plan_id': UUID('f3356e23-0b49-4dd7-81e5-450d6187b9c7'),\n",
       " 'coverage_area': None,\n",
       " 'segment': '',\n",
       " 'description': '',\n",
       " 'depth': '',\n",
       " 'position': '',\n",
       " 'stratification': '',\n",
       " 'zone': ''}"
      ]
     },
     "execution_count": 12,
     "metadata": {},
     "output_type": "execute_result"
    }
   ],
   "source": [
    "mp[1].__dict__"
   ]
  },
  {
   "cell_type": "code",
   "execution_count": 14,
   "id": "ace116ae",
   "metadata": {},
   "outputs": [
    {
     "data": {
      "text/plain": [
       "datetime.datetime(2023, 9, 13, 13, 39, 29, 335228)"
      ]
     },
     "execution_count": 14,
     "metadata": {},
     "output_type": "execute_result"
    }
   ],
   "source": [
    "datetime.today()"
   ]
  },
  {
   "cell_type": "code",
   "execution_count": 22,
   "id": "257fce8f",
   "metadata": {},
   "outputs": [
    {
     "data": {
      "application/vnd.jupyter.widget-view+json": {
       "model_id": "17af919f2cbf4b3e944e713c5964fd0b",
       "version_major": 2,
       "version_minor": 0
      },
      "text/plain": [
       "  0%|          | 0/110 [00:00<?, ?it/s]"
      ]
     },
     "metadata": {},
     "output_type": "display_data"
    }
   ],
   "source": [
    "for a in tqdm(values):\n",
    "    try:\n",
    "        mpoint =MonitoringPoint.objects.get(monitoring_plan=mon_plan,code=a['Piezômetro'])\n",
    "        mpoint.updated_at = datetime.today()\n",
    "        mpoint.city = City.objects.filter(monitoringpoint__monitoring_plan__company=company, name=a['Município']).first()\n",
    "        mpoint.coordinates = transform_coordinates(a['X (SIRGAS 2000)'],a['Y (SIRGAS 2000)'],srid=31983)\n",
    "        mpoint.save()\n",
    "    except Exception as e:\n",
    "        print(e)\n",
    "#         mpoint = MonitoringPoint(created_by = user,\n",
    "#                                 active = True,\n",
    "#                                 code = a['Piezômetro'],\n",
    "#                                 city=City.objects.filter(monitoringpoint__monitoring_plan__company=company,\n",
    "#                                                           name=a['Município']).first(),\n",
    "#                                 uf_code = City.objects.filter(monitoringpoint__monitoring_plan__company=company,\n",
    "#                                                           name=a['Município']).first().uf_code,\n",
    "#                                 place_on_dam = '4',\n",
    "#                                 coordinates = transform_coordinates(a['X (SIRGAS 2000)'],a['Y (SIRGAS 2000)']),\n",
    "#                                 monitoring_plan=mon_plan)\n",
    "#         mpoint.save()"
   ]
  },
  {
   "cell_type": "code",
   "execution_count": null,
   "id": "6cd8a9c2",
   "metadata": {},
   "outputs": [],
   "source": []
  },
  {
   "cell_type": "code",
   "execution_count": null,
   "id": "29bd763b",
   "metadata": {},
   "outputs": [],
   "source": []
  },
  {
   "cell_type": "code",
   "execution_count": 49,
   "id": "067a575e",
   "metadata": {},
   "outputs": [
    {
     "data": {
      "text/plain": [
       "21"
      ]
     },
     "execution_count": 49,
     "metadata": {},
     "output_type": "execute_result"
    }
   ],
   "source": [
    "City.objects.filter(monitoringpoint__monitoring_plan__company=company, name='Carolina').first().uf_code"
   ]
  },
  {
   "cell_type": "code",
   "execution_count": null,
   "id": "c7114803",
   "metadata": {},
   "outputs": [],
   "source": []
  }
 ],
 "metadata": {
  "kernelspec": {
   "display_name": "Django Shell-Plus",
   "language": "python",
   "name": "django_extensions"
  },
  "language_info": {
   "codemirror_mode": {
    "name": "ipython",
    "version": 3
   },
   "file_extension": ".py",
   "mimetype": "text/x-python",
   "name": "python",
   "nbconvert_exporter": "python",
   "pygments_lexer": "ipython3",
   "version": "3.7.9"
  }
 },
 "nbformat": 4,
 "nbformat_minor": 5
}
