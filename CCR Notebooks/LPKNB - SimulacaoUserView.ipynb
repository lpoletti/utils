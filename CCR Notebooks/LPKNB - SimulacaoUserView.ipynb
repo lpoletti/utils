{
 "cells": [
  {
   "cell_type": "markdown",
   "id": "7c1e085b",
   "metadata": {},
   "source": [
    "# SIMULAÇÃO DE VISUALIZAÇÃO DO USUÁRIO"
   ]
  },
  {
   "cell_type": "code",
   "execution_count": 1,
   "id": "b00499a4",
   "metadata": {},
   "outputs": [
    {
     "data": {
      "text/plain": [
       "<Company: cff59760-69dd-4d07-bba5-61aa8b6faeea: GES - UHE-CANA BRAVA>"
      ]
     },
     "execution_count": 1,
     "metadata": {},
     "output_type": "execute_result"
    }
   ],
   "source": [
    "company = Company.objects.filter(name__iexact=\"GES - UHE-CANA BRAVA\").first()\n",
    "company"
   ]
  },
  {
   "cell_type": "code",
   "execution_count": 13,
   "id": "1c7ea657",
   "metadata": {},
   "outputs": [
    {
     "data": {
      "text/plain": [
       "<User: tulio.ribeiral - Tulio Ribeiral>"
      ]
     },
     "execution_count": 13,
     "metadata": {},
     "output_type": "execute_result"
    }
   ],
   "source": [
    "user = User.objects.get(username=\"tulio.ribeiral\")\n",
    "user"
   ]
  },
  {
   "cell_type": "markdown",
   "id": "180c3a34",
   "metadata": {},
   "source": [
    "### EQUIPES DO USUÁRIO"
   ]
  },
  {
   "cell_type": "code",
   "execution_count": 14,
   "id": "ee2c1397",
   "metadata": {},
   "outputs": [
    {
     "data": {
      "text/plain": [
       "[<Firm: [2fd0ca76-b741-47d7-af9c-607e6ed1eca2: GES - UHE-MIRANDA] c74bba36-3dd0-406a-8f67-eb9f2b3d2f18: Engie Brasil Serbiços>,\n",
       " <Firm: [296edae1-b154-40ff-87b1-3b78e3441906: GES - UHE-PONTE DE PEDRA] c9a95793-b091-45c8-81d7-2510487218aa: Homologadores>,\n",
       " <Firm: [296edae1-b154-40ff-87b1-3b78e3441906: GES - UHE-PONTE DE PEDRA] d25df098-16d5-4c8f-99b7-3de0c373b3f3: MEIO AMBIENTE>,\n",
       " <Firm: [17663a30-5f71-4e7c-8ac2-adf472342b42: GES - UHE-JAGUARA] 05e3f1c6-0353-4909-b6bd-a193b4caa2a7: MEIO AMBIENTE>,\n",
       " <Firm: [2fd0ca76-b741-47d7-af9c-607e6ed1eca2: GES - UHE-MIRANDA] 89d13730-1ea7-4531-979d-9a182c673ef5: Seleta Ambiental>,\n",
       " <Firm: [2fd0ca76-b741-47d7-af9c-607e6ed1eca2: GES - UHE-MIRANDA] 4a39a9ac-c966-42ee-b07a-27414dffbe50: Raiz Ambiental PEA>,\n",
       " <Firm: [2fd0ca76-b741-47d7-af9c-607e6ed1eca2: GES - UHE-MIRANDA] adb600ba-0773-4174-a4dc-5b3f9488d5a9: MEIO AMBIENTE>,\n",
       " <Firm: [2fd0ca76-b741-47d7-af9c-607e6ed1eca2: GES - UHE-MIRANDA] b32e0631-e951-45f7-b19c-3d108e87a697: Saúde e Segurança>,\n",
       " <Firm: [17663a30-5f71-4e7c-8ac2-adf472342b42: GES - UHE-JAGUARA] c5937fda-32a3-4a74-a30d-0e08ed573002: Homologadores>,\n",
       " <Firm: [2fd0ca76-b741-47d7-af9c-607e6ed1eca2: GES - UHE-MIRANDA] bf2ca395-197c-4c26-951f-55e6798449a4: Homologadores>,\n",
       " <Firm: [2fd0ca76-b741-47d7-af9c-607e6ed1eca2: GES - UHE-MIRANDA] 26198d50-295e-4144-b9ef-c78cf54c371a: EBS>]"
      ]
     },
     "execution_count": 14,
     "metadata": {},
     "output_type": "execute_result"
    }
   ],
   "source": [
    "user_firms = list((user.user_firms.all()).union(\n",
    "                    user.user_firms_manager.all()))\n",
    "            \n",
    "user_firms"
   ]
  },
  {
   "cell_type": "code",
   "execution_count": 17,
   "id": "a8c7fad3",
   "metadata": {},
   "outputs": [
    {
     "data": {
      "text/plain": [
       "['Usina:GES - UHE-PONTE DE PEDRA | Equipe:MEIO AMBIENTE',\n",
       " 'Usina:GES - UHE-JAGUARA | Equipe:MEIO AMBIENTE',\n",
       " 'Usina:GES - UHE-MIRANDA | Equipe:MEIO AMBIENTE',\n",
       " 'Usina:GES - UHE-JAGUARA | Equipe:Homologadores']"
      ]
     },
     "execution_count": 17,
     "metadata": {},
     "output_type": "execute_result"
    }
   ],
   "source": [
    "[f'Usina:{a.company.name} | Equipe:{a.name}' for a in user_firms if a.can_use_ecm_integration == True]"
   ]
  },
  {
   "cell_type": "code",
   "execution_count": 12,
   "id": "8cb3c961",
   "metadata": {},
   "outputs": [
    {
     "name": "stdout",
     "output_type": "stream",
     "text": [
      "user: engie\n"
     ]
    },
    {
     "data": {
      "text/plain": [
       "(None,\n",
       " [('GES - UHE-MACHADINHO', 'MEIO AMBIENTE'),\n",
       "  ('GES - UHE-SÃO SALVADOR', 'Homologadores'),\n",
       "  ('GES - UHE-MIRANDA', 'Suporte'),\n",
       "  ('GES - UHE-PASSO FUNDO', 'MEIO AMBIENTE'),\n",
       "  ('GES - UHE-ITA', 'MEIO AMBIENTE')])"
      ]
     },
     "execution_count": 12,
     "metadata": {},
     "output_type": "execute_result"
    }
   ],
   "source": [
    "print('user: engie'),[(a.company.name,a.name) for a in user_firms if a.can_use_ecm_integration == True]"
   ]
  },
  {
   "cell_type": "code",
   "execution_count": null,
   "id": "08d80a27",
   "metadata": {},
   "outputs": [],
   "source": [
    "Usina:GES - UHE-PONTE DE PEDRA | Equipe:MEIO AMBIENTE\n",
    "Usina:GES - UHE-JAGUARA | Equipe:MEIO AMBIENTE\n",
    "Usina:GES - UHE-MIRANDA | Equipe:MEIO AMBIENTE\n",
    "Usina:GES - UHE-JAGUARA | Equipe:Homologadores"
   ]
  },
  {
   "cell_type": "markdown",
   "id": "53dcd81f",
   "metadata": {},
   "source": [
    "### VISUALIZAÇÃO DAS PROGRAMAÇÕES QUE O USUÁRIO PODE VER\n",
    "##### POR COMPANY, \n",
    "##### ONDE O USUÁRIO POSSA SER RESPONSÁVEL PELA PROGRAMAÇÃO OU\n",
    "##### CRIADOR DA PROGRAMAÇÃO OU\n",
    "##### VISUALIZADOR DA PROGRAMAÇÃO OU\n",
    "##### FAZ PARTE DA EQUIPE DA PROGRAMAÇÃO OU\n",
    "##### FAZ PARTE DA EQUIPE VISUALIZADORA DA PROGRAMAÇÃO"
   ]
  },
  {
   "cell_type": "code",
   "execution_count": 9,
   "id": "b4552de3",
   "metadata": {
    "scrolled": true
   },
   "outputs": [
    {
     "data": {
      "text/plain": [
       "(2221,\n",
       " 764,\n",
       " {'_state': <django.db.models.base.ModelState at 0x7f51379d7e80>,\n",
       "  'uuid': UUID('167daa93-128a-4017-9975-c3f5d3d7c259'),\n",
       "  'company_id': UUID('31938021-6b32-461b-821c-4759a5016441'),\n",
       "  'number': 'AFD-job-2024.1113',\n",
       "  'title': '05/03 - Multifuncional Lote 01',\n",
       "  'description': '',\n",
       "  'start_date': datetime.datetime(2024, 3, 5, 10, 0, tzinfo=<UTC>),\n",
       "  'end_date': None,\n",
       "  'progress': 0.0,\n",
       "  'executed_reportings': 0,\n",
       "  'reporting_count': 2,\n",
       "  'worker_id': UUID('910d785b-d4f6-4b8b-8d6d-421fe762ddcd'),\n",
       "  'firm_id': UUID('47f332db-6b9e-4e2a-b745-ff5fdac561ca'),\n",
       "  'inspection_id': None,\n",
       "  'parent_inventory_id': None,\n",
       "  'metadata': {},\n",
       "  'created_by_id': UUID('f4204ee0-2084-4bff-b3b6-ecee2ce40808'),\n",
       "  'archived': False,\n",
       "  'creating_batches': False,\n",
       "  'pending_inventory_to_reporting_id': None,\n",
       "  'total_inventory_batches': 0,\n",
       "  'total_reporting_in_reporting_batches': 0,\n",
       "  'last_notification_sent_at': None})"
      ]
     },
     "execution_count": 9,
     "metadata": {},
     "output_type": "execute_result"
    }
   ],
   "source": [
    "jobs_all = Job.objects.filter(\n",
    "                Q(company_id=company)\n",
    "                & (\n",
    "                    Q(worker=user)\n",
    "                    | Q(created_by=user)\n",
    "                    | Q(watcher_users=user)\n",
    "                    | Q(firm__in=user_firms)\n",
    "                    | Q(watcher_firms__in=user_firms)\n",
    "                )\n",
    "            ).distinct()\n",
    "jobs_open = Job.objects.filter(\n",
    "                Q(company_id=company)\n",
    "                & (\n",
    "                    Q(worker=user)\n",
    "                    | Q(created_by=user)\n",
    "                    | Q(watcher_users=user)\n",
    "                    | Q(firm__in=user_firms)\n",
    "                    | Q(watcher_firms__in=user_firms)\n",
    "                ),\n",
    "                archived='False'\n",
    "            ).distinct().order_by('-start_date')\n",
    "jobs_all.count(),jobs_open.count(),jobs_open[0].__dict__"
   ]
  },
  {
   "cell_type": "code",
   "execution_count": 12,
   "id": "9fc9e19d",
   "metadata": {},
   "outputs": [
    {
     "name": "stdout",
     "output_type": "stream",
     "text": [
      "166 AFD-job-2023.3732\n"
     ]
    }
   ],
   "source": [
    "#Primeiras 15 programações\n",
    "for i,a in enumerate(jobs_open):\n",
    "    if '2023.3732' in a.number:\n",
    "        print(i,a.number)"
   ]
  },
  {
   "cell_type": "code",
   "execution_count": 9,
   "id": "7b51f10a",
   "metadata": {},
   "outputs": [
    {
     "data": {
      "text/plain": [
       "(30,\n",
       " [{'serial': 'ENT-job-2024.77', 'apontamentos_contagem': 14685},\n",
       "  {'serial': 'ENT-job-2023.1150', 'apontamentos_contagem': 390},\n",
       "  {'serial': 'ENT-job-2023.1151', 'apontamentos_contagem': 387},\n",
       "  {'serial': 'ENT-job-2023.1295', 'apontamentos_contagem': 351},\n",
       "  {'serial': 'ENT-job-2023.1147', 'apontamentos_contagem': 331},\n",
       "  {'serial': 'ENT-job-2023.934', 'apontamentos_contagem': 266},\n",
       "  {'serial': 'ENT-job-2023.1149', 'apontamentos_contagem': 254},\n",
       "  {'serial': 'ENT-job-2023.131', 'apontamentos_contagem': 185},\n",
       "  {'serial': 'ENT-job-2023.1514', 'apontamentos_contagem': 166},\n",
       "  {'serial': 'ENT-job-2023.1521', 'apontamentos_contagem': 166},\n",
       "  {'serial': 'ENT-job-2024.7', 'apontamentos_contagem': 154},\n",
       "  {'serial': 'ENT-job-2023.1163', 'apontamentos_contagem': 146},\n",
       "  {'serial': 'ENT-job-2021.1559', 'apontamentos_contagem': 146},\n",
       "  {'serial': 'ENT-job-2023.1148', 'apontamentos_contagem': 140},\n",
       "  {'serial': 'ENT-job-2023.1076', 'apontamentos_contagem': 134},\n",
       "  {'serial': 'ENT-job-2023.1062', 'apontamentos_contagem': 134},\n",
       "  {'serial': 'ENT-job-2023.1513', 'apontamentos_contagem': 134},\n",
       "  {'serial': 'ENT-job-2024.23', 'apontamentos_contagem': 132},\n",
       "  {'serial': 'ENT-job-2023.841', 'apontamentos_contagem': 119},\n",
       "  {'serial': 'ENT-job-2023.1106', 'apontamentos_contagem': 102},\n",
       "  {'serial': 'ENT-job-2023.1088', 'apontamentos_contagem': 102},\n",
       "  {'serial': 'ENT-job-2023.1444', 'apontamentos_contagem': 102},\n",
       "  {'serial': 'ENT-job-2023.1421', 'apontamentos_contagem': 102},\n",
       "  {'serial': 'ENT-job-2023.1433', 'apontamentos_contagem': 102},\n",
       "  {'serial': 'ENT-job-2023.1404', 'apontamentos_contagem': 102},\n",
       "  {'serial': 'ENT-job-2023.1130', 'apontamentos_contagem': 102},\n",
       "  {'serial': 'ENT-job-2023.1118', 'apontamentos_contagem': 102},\n",
       "  {'serial': 'ENT-job-2023.1416', 'apontamentos_contagem': 102},\n",
       "  {'serial': 'ENT-job-2023.1141', 'apontamentos_contagem': 102},\n",
       "  {'serial': 'ENT-job-2023.1152', 'apontamentos_contagem': 100}])"
      ]
     },
     "execution_count": 9,
     "metadata": {},
     "output_type": "execute_result"
    }
   ],
   "source": [
    "values=[]\n",
    "for a in jobs_open:\n",
    "    if a.reporting_count>=100 and a.archived == False:\n",
    "        obj={}\n",
    "        obj['serial'] = a.number\n",
    "        obj['apontamentos_contagem'] = a.reporting_count\n",
    "#         obj['job'] = a\n",
    "        values.append(obj)\n",
    "    else:\n",
    "        pass\n",
    "#         print('Não há programações com + 50 apontamentos')\n",
    "newlist = sorted(values, key=lambda d: d['apontamentos_contagem'],reverse=True)\n",
    "len(newlist),newlist"
   ]
  },
  {
   "cell_type": "code",
   "execution_count": 15,
   "id": "47d9caed",
   "metadata": {},
   "outputs": [
    {
     "data": {
      "text/plain": [
       "3396"
      ]
     },
     "execution_count": 15,
     "metadata": {},
     "output_type": "execute_result"
    }
   ],
   "source": [
    "rdos = MultipleDailyReport.objects.filter(\n",
    "                Q(company_id=company)\n",
    "                & (\n",
    "                    Q(firm__in=user_firms)\n",
    "                )\n",
    "            ).distinct().order_by('-created_at')\n",
    "rdos.count()"
   ]
  },
  {
   "cell_type": "code",
   "execution_count": 16,
   "id": "5ec8dda7",
   "metadata": {},
   "outputs": [
    {
     "data": {
      "text/plain": [
       "<QuerySet [<MultipleDailyReport: [Arteris Litoral Sul - Conserva] 5bfb5bcd-749c-41be-859b-4fba4a4e534b - 2023-10-06>, <MultipleDailyReport: [Arteris Litoral Sul - Conserva] 6a59678e-0730-4cb8-b29a-92a1cd7dec90 - 2023-10-05>, <MultipleDailyReport: [Arteris Litoral Sul - Conserva] e91614ae-1136-4e90-8f82-4ce99bad4334 - 2023-10-04>, <MultipleDailyReport: [Arteris Litoral Sul - Conserva] 9d35c580-78f0-44c5-b889-a186d4aed994 - 2023-10-06>, <MultipleDailyReport: [Arteris Litoral Sul - Conserva] 5de0d762-ce97-4152-9b4f-ed8c0ba8fdb0 - 2023-10-05>, <MultipleDailyReport: [Arteris Litoral Sul - Conserva] 5fbaa946-bc79-4969-ad85-4d59b0bd085b - 2023-10-04>, <MultipleDailyReport: [Arteris Litoral Sul - Conserva] 415d1ebf-13cc-4010-82d9-f1452f0698d7 - 2023-10-06>]>"
      ]
     },
     "execution_count": 16,
     "metadata": {},
     "output_type": "execute_result"
    }
   ],
   "source": [
    "rdos[:7],rdos[0]."
   ]
  },
  {
   "cell_type": "code",
   "execution_count": 21,
   "id": "97336251",
   "metadata": {
    "scrolled": true
   },
   "outputs": [
    {
     "name": "stdout",
     "output_type": "stream",
     "text": [
      "None None 1.0\n",
      "None None 1.0\n",
      "None None 1.0\n",
      "None None 1.0\n",
      "None None 1.0\n",
      "None None 1.0\n",
      "None None 1.0\n",
      "None None 1.0\n",
      "None None 1.0\n",
      "None None 1.0\n",
      "None None 1.0\n",
      "None None 1.0\n",
      "None None 1.0\n",
      "None None 1.0\n",
      "None None 1.0\n",
      "None None 1.0\n",
      "None None 1.0\n",
      "None None 1.0\n",
      "None None 1.0\n",
      "None None 1.0\n",
      "None None 1.0\n",
      "None None 1.0\n",
      "None None 1.0\n",
      "None None 1.0\n",
      "None None 1.0\n",
      "None None 1.0\n"
     ]
    }
   ],
   "source": [
    "for a in DailyReportEquipment.objects.filter(multiple_daily_reports__in=list(rdos[:7])):\n",
    "    print(a.description,a.kind,a.amount)"
   ]
  },
  {
   "cell_type": "code",
   "execution_count": 27,
   "id": "8f5e88e6",
   "metadata": {},
   "outputs": [
    {
     "data": {
      "text/plain": [
       "{'_state': <django.db.models.base.ModelState at 0x7fd0586789d0>,\n",
       " 'uuid': UUID('ea94646d-1b2b-4142-a217-12686d6f57a7'),\n",
       " 'created_by_id': None,\n",
       " 'company_id': UUID('52bf5f0c-7d75-4081-8616-06e0b43dee29'),\n",
       " 'kind': None,\n",
       " 'description': None,\n",
       " 'amount': 1.0,\n",
       " 'creation_date': datetime.datetime(2023, 8, 17, 6, 35, 30, 269602, tzinfo=<UTC>),\n",
       " 'total_price': 0.0,\n",
       " 'contract_item_administration_id': UUID('e2f072cf-e0ef-4418-9d6f-67211d3198fa'),\n",
       " 'approval_status': 'WAITING_APPROVAL',\n",
       " 'approval_date': None,\n",
       " 'approved_by_id': None,\n",
       " 'measurement_bulletin_id': None,\n",
       " '_fieldsignals_originals': {(140533378289488,\n",
       "   140533147281024): {'uuid': UUID('ea94646d-1b2b-4142-a217-12686d6f57a7'), 'company': UUID('52bf5f0c-7d75-4081-8616-06e0b43dee29'), 'amount': 1.0, 'creation_date': datetime.datetime(2023, 8, 17, 6, 35, 30, 269602, tzinfo=<UTC>), 'total_price': 0.0, 'contract_item_administration': UUID('e2f072cf-e0ef-4418-9d6f-67211d3198fa'), 'approval_status': 'WAITING_APPROVAL'}}}"
      ]
     },
     "execution_count": 27,
     "metadata": {},
     "output_type": "execute_result"
    }
   ],
   "source": [
    "DailyReportEquipment.objects.filter(multiple_daily_reports__in=list(rdos[:7]))[8].__dict__"
   ]
  },
  {
   "cell_type": "code",
   "execution_count": 6,
   "id": "aa1b73fc",
   "metadata": {},
   "outputs": [
    {
     "data": {
      "text/plain": [
       "(<django.db.models.fields.UUIDField: uuid>,\n",
       " <django.db.models.fields.related.ForeignKey: company>,\n",
       " <django.db.models.fields.CharField: number>,\n",
       " <django.db.models.fields.CharField: title>,\n",
       " <django.db.models.fields.CharField: description>,\n",
       " <django.db.models.fields.DateTimeField: start_date>,\n",
       " <django.db.models.fields.DateTimeField: end_date>,\n",
       " <django.db.models.fields.FloatField: progress>,\n",
       " <django.db.models.fields.IntegerField: executed_reportings>,\n",
       " <django.db.models.fields.IntegerField: reporting_count>,\n",
       " <django.db.models.fields.related.ForeignKey: worker>,\n",
       " <django.db.models.fields.related.ForeignKey: firm>,\n",
       " <django.db.models.fields.related.ForeignKey: inspection>,\n",
       " <django.db.models.fields.related.ForeignKey: parent_inventory>,\n",
       " <django.contrib.postgres.fields.jsonb.JSONField: metadata>,\n",
       " <django.db.models.fields.related.ForeignKey: created_by>,\n",
       " <django.db.models.fields.BooleanField: archived>,\n",
       " <django.db.models.fields.BooleanField: creating_batches>,\n",
       " <django.contrib.postgres.fields.jsonb.JSONField: pending_inventory_to_reporting_id>,\n",
       " <django.db.models.fields.IntegerField: total_inventory_batches>,\n",
       " <django.db.models.fields.IntegerField: total_reporting_in_reporting_batches>,\n",
       " <django.db.models.fields.DateTimeField: last_notification_sent_at>)"
      ]
     },
     "execution_count": 6,
     "metadata": {},
     "output_type": "execute_result"
    }
   ],
   "source": [
    "Job._meta.fields"
   ]
  },
  {
   "cell_type": "code",
   "execution_count": 16,
   "id": "152414c2",
   "metadata": {},
   "outputs": [
    {
     "data": {
      "text/plain": [
       "<QuerySet [<User: eduarda.beraldo - Eduarda Beraldo>, <User: marcoantonio.reis - Marco Antonio Reis>, <User: gessica.gomes.ter - Gessica Gomes>, <User: saimon.sassaki - Saimon Sassaki>, <User: saullo.mendes - Saullo Mendes>, <User: rodolfo.rodrigues - Rodolfo Rodrigues>, <User: luan.poletti - Luan Poletti>]>"
      ]
     },
     "execution_count": 16,
     "metadata": {},
     "output_type": "execute_result"
    }
   ],
   "source": [
    "user_firms[0].users.all()"
   ]
  },
  {
   "cell_type": "code",
   "execution_count": 15,
   "id": "2759d2be",
   "metadata": {},
   "outputs": [],
   "source": [
    "for a in user_firms:\n",
    "    a.users.add(*User.objects.filter(username='luan.poletti'))"
   ]
  },
  {
   "cell_type": "code",
   "execution_count": null,
   "id": "54d83bd8",
   "metadata": {},
   "outputs": [],
   "source": []
  }
 ],
 "metadata": {
  "kernelspec": {
   "display_name": "Django Shell-Plus",
   "language": "python",
   "name": "django_extensions"
  },
  "language_info": {
   "codemirror_mode": {
    "name": "ipython",
    "version": 3
   },
   "file_extension": ".py",
   "mimetype": "text/x-python",
   "name": "python",
   "nbconvert_exporter": "python",
   "pygments_lexer": "ipython3",
   "version": "3.8.16"
  }
 },
 "nbformat": 4,
 "nbformat_minor": 5
}
