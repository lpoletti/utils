{
 "cells": [
  {
   "cell_type": "code",
   "execution_count": null,
   "id": "e3096581",
   "metadata": {},
   "outputs": [],
   "source": [
    "from apps.integrations.helpers.maximo import EngieMaximoIntegration\n",
    "from helpers.signals import DisableSignals\n",
    "from helpers.strings import to_snake_case\n",
    "from tqdm.notebook import tqdm"
   ]
  },
  {
   "cell_type": "code",
   "execution_count": null,
   "id": "53384a6b",
   "metadata": {},
   "outputs": [],
   "source": [
    "company = Company.objects.get(name=\"GSB - UHE-PASSO FUNDO\")"
   ]
  },
  {
   "cell_type": "code",
   "execution_count": null,
   "id": "36369871",
   "metadata": {},
   "outputs": [],
   "source": [
    "for a in tqdm(\n",
    "    OccurrenceRecord.objects.filter(company=company)\n",
    "):\n",
    "    og_form_data = a.form_data\n",
    "    new_form_data = {}\n",
    "    for key, value in og_form_data.items():\n",
    "        new_form_data[to_snake_case(key)] = value\n",
    "    a.form_data = new_form_data\n",
    "    with DisableSignals():\n",
    "        a.save()"
   ]
  },
  {
   "cell_type": "code",
   "execution_count": null,
   "id": "ec7c7c4f",
   "metadata": {},
   "outputs": [],
   "source": [
    "for integration in IntegrationConfig.objects.filter(\n",
    "    company=company, \n",
    "    instrument_operational_position__isnull=True\n",
    "):\n",
    "    integration.instrument_operational_position = str(int(integration.reading_operational_control.kind) - 701)\n",
    "    print(integration.instrument_operational_position)\n",
    "    integration.save()"
   ]
  },
  {
   "cell_type": "code",
   "execution_count": null,
   "id": "c7169225",
   "metadata": {},
   "outputs": [],
   "source": [
    "for integration in IntegrationConfig.objects.filter(company=company):\n",
    "    integration_class = EngieMaximoIntegration(integration)\n",
    "    integration_class.run()"
   ]
  },
  {
   "cell_type": "code",
   "execution_count": null,
   "id": "de53e310",
   "metadata": {},
   "outputs": [],
   "source": []
  }
 ],
 "metadata": {
  "kernelspec": {
   "display_name": "Django Shell-Plus",
   "language": "python",
   "name": "django_extensions"
  },
  "language_info": {
   "codemirror_mode": {
    "name": "ipython",
    "version": 3
   },
   "file_extension": ".py",
   "mimetype": "text/x-python",
   "name": "python",
   "nbconvert_exporter": "python",
   "pygments_lexer": "ipython3",
   "version": "3.7.9"
  }
 },
 "nbformat": 4,
 "nbformat_minor": 5
}
