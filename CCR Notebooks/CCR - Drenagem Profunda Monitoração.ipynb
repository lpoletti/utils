{
 "cells": [
  {
   "cell_type": "code",
   "execution_count": 1,
   "metadata": {},
   "outputs": [
    {
     "data": {
      "text/plain": [
       "<QuerySet [<Company: 161ab539-eea0-4c7c-8e9f-99058261f850: CCR - SPVias>, <Company: 385c3404-2c8b-4987-8015-9b93e044aa6d: CCR - AutoBAn>, <Company: 3af64f25-59e8-446b-bb1e-963549090b0d: CCR - Rio Sp>, <Company: be176150-b4da-4162-9eec-67f6db3f5612: CCR - RodoAnel>]>"
      ]
     },
     "execution_count": 1,
     "metadata": {},
     "output_type": "execute_result"
    }
   ],
   "source": [
    "Company.objects.all()"
   ]
  },
  {
   "cell_type": "markdown",
   "metadata": {},
   "source": [
    "Deve-se executar as seis primeiras células para carregar funções utilizadas para rodar o script"
   ]
  },
  {
   "cell_type": "code",
   "execution_count": 2,
   "metadata": {},
   "outputs": [],
   "source": [
    "import json\n",
    "import os\n",
    "from openpyxl import load_workbook\n",
    "from datetime import timedelta\n",
    "import random\n",
    "from copy import deepcopy\n",
    "from django.contrib.gis.geos import LineString, Point\n",
    "from django.contrib.admin.utils import flatten\n",
    "import math\n",
    "import datetime\n",
    "import locale\n",
    "from tqdm.notebook import tqdm\n",
    "from PIL import Image\n",
    "from io import BytesIO\n",
    "from simple_history.utils import bulk_create_with_history\n",
    "from django.contrib.gis.geos import Point, LineString as DjangoLineString\n",
    "from helpers.histories import bulk_update_with_history\n",
    "import pytz\n",
    "from helpers.signals import auto_add_number"
   ]
  },
  {
   "cell_type": "code",
   "execution_count": 3,
   "metadata": {},
   "outputs": [],
   "source": [
    "from helpers.route_maker import dic_to_ordered_list, unequal_point_pairs"
   ]
  },
  {
   "cell_type": "code",
   "execution_count": 4,
   "metadata": {},
   "outputs": [],
   "source": [
    "from django.contrib.gis.geos import Point, LineString as DjangoLineString\n",
    "from django.contrib.gis.db.models.functions import Distance\n",
    "# from turfpy.misc import nearest_point_on_line\n",
    "# from turfpy.measurement import length\n",
    "from geojson import LineString, loads\n",
    "from helpers.histories import bulk_update_with_history\n",
    "from tqdm.notebook import tqdm"
   ]
  },
  {
   "cell_type": "code",
   "execution_count": 5,
   "metadata": {},
   "outputs": [],
   "source": [
    "def km_to_coordinates(road, km):\n",
    "\n",
    "    road_marks = dic_to_ordered_list(road.marks)\n",
    "    selected_pair = None\n",
    "\n",
    "    for pair in unequal_point_pairs(road_marks):\n",
    "        if pair[0][\"km\"] > km and pair[1][\"km\"] < km:\n",
    "            selected_pair = pair\n",
    "            break\n",
    "        elif pair[1][\"km\"] > km and pair[0][\"km\"] < km:\n",
    "            selected_pair = pair\n",
    "            break\n",
    "        elif pair[0][\"km\"] == km:\n",
    "            return Point(pair[0][\"point\"][\"coordinates\"]), road\n",
    "        elif pair[1][\"km\"] == km:\n",
    "            return Point(pair[1][\"point\"][\"coordinates\"]), road\n",
    "\n",
    "    # Calculate total length\n",
    "    start_km = min([selected_pair[0][\"km\"], selected_pair[1][\"km\"]])\n",
    "    end_km = max([selected_pair[0][\"km\"], selected_pair[1][\"km\"]])\n",
    "    segment_mark_length = end_km - start_km\n",
    "    distance_from_min = km - start_km\n",
    "    # Check if km is decreasing\n",
    "    invert_km = selected_pair[1][\"km\"] <= selected_pair[0][\"km\"]\n",
    "\n",
    "    # Cut segment\n",
    "    start_key = min((selected_pair[0][\"index\"], selected_pair[1][\"index\"]))\n",
    "    end_key = max((selected_pair[0][\"index\"], selected_pair[1][\"index\"]))\n",
    "\n",
    "    points = []\n",
    "    for key in range(start_key, end_key + 1):\n",
    "        points.append(\n",
    "            Point(road.path[key][0], road.path[key][1], road.path[key][2])\n",
    "        )\n",
    "\n",
    "    segment = LineString(points, srid=4326)\n",
    "    # Apply km inversion correction\n",
    "    if invert_km:\n",
    "        segment_distance = (\n",
    "            1 - (distance_from_min / segment_mark_length)\n",
    "        ) * segment.length\n",
    "    else:\n",
    "        segment_distance = (\n",
    "            distance_from_min / segment_mark_length\n",
    "        ) * segment.length\n",
    "    # Find point\n",
    "    point = segment.interpolate(segment_distance)\n",
    "\n",
    "    return Point(point.x, point.y), road"
   ]
  },
  {
   "cell_type": "code",
   "execution_count": 6,
   "metadata": {},
   "outputs": [],
   "source": [
    "def check_valid_road(road, km):\n",
    "\n",
    "    road_marks = dic_to_ordered_list(road.marks)\n",
    "\n",
    "    for pair in unequal_point_pairs(road_marks):\n",
    "        if pair[0][\"km\"] >= km and pair[1][\"km\"] <= km:\n",
    "            return True\n",
    "        elif pair[1][\"km\"] >= km and pair[0][\"km\"] <= km:\n",
    "            return True\n",
    "\n",
    "    return False"
   ]
  },
  {
   "cell_type": "code",
   "execution_count": 7,
   "metadata": {},
   "outputs": [],
   "source": [
    "def get_road_coordinates(road_name, km, direction, company):\n",
    "    road_set = Road.objects.filter(\n",
    "        name__contains=road_name, direction=int(direction), company=company\n",
    "    )\n",
    "\n",
    "    # If roads in specified direction are not found, search road only\n",
    "    # by name and order then by direction\n",
    "    road_set_generic = Road.objects.filter(\n",
    "        name__contains=road_name, company=company\n",
    "    ).order_by(\"direction\")\n",
    "\n",
    "    # Check if KM range in road_set\n",
    "#     print(\"Searching KM on direction...\")\n",
    "    valid = False\n",
    "    for road in road_set:\n",
    "        if check_valid_road(road, km):\n",
    "#             print(\"Found KM on Road {}\".format(road))\n",
    "            valid = True\n",
    "            break\n",
    "\n",
    "    if not valid:\n",
    "#         print(\"Searching KM without direction...\")\n",
    "        for road in road_set_generic:\n",
    "            if check_valid_road(road, km):\n",
    "#                 print(\"Found KM on Road {}\".format(road))\n",
    "                valid = True\n",
    "                break\n",
    "\n",
    "    if not valid:\n",
    "        return Point(0, 0), None\n",
    "\n",
    "    try:\n",
    "        return km_to_coordinates(road, km)\n",
    "    except Exception:\n",
    "        return Point(0, 0), None"
   ]
  },
  {
   "cell_type": "code",
   "execution_count": 8,
   "metadata": {},
   "outputs": [],
   "source": [
    "def findIndex(flist, func):\n",
    "    for i,v in enumerate(flist):\n",
    "        if func(v): \n",
    "            return i\n",
    "    return -1"
   ]
  },
  {
   "cell_type": "code",
   "execution_count": 9,
   "metadata": {},
   "outputs": [],
   "source": [
    "def point_to_km(lng, lat, road):\n",
    "    point = Point(lng, lat, srid=4326)\n",
    "    if isinstance(road,str):\n",
    "        roads = Road.objects.filter(company=company,name__icontains=road).annotate(distance=Distance(point, 'path')).order_by('distance')\n",
    "        road = roads[0]\n",
    "    else:\n",
    "        road = roads[0]\n",
    "    path = loads(road.path.geojson)\n",
    "    point_geojson = loads(point.geojson)\n",
    "    road_marks = list(road.marks.values())\n",
    "    snap_point = nearest_point_on_line(path, point_geojson)\n",
    "    \n",
    "\n",
    "    road_markers = sorted([a for a in road_marks if 'index' in a or ('index' in a and a['index'] == 0)], key=lambda x: int(x['key']))\n",
    "#     road_markers = sorted([a for a in road_marks if a['index'] or a['index'] == 0], key=lambda x: int(x['key']))\n",
    "    rm_index = findIndex(road_markers, lambda x: x['index'] > snap_point['properties']['index'])\n",
    "    \n",
    "    if (rm_index == -1):\n",
    "        rm_index = len(road_markers) - 1;\n",
    "    \n",
    "    km_marker_start = road_markers[rm_index - 1]\n",
    "    km_marker_end = road_markers[rm_index]\n",
    "    \n",
    "    if km_marker_start['index'] == road_markers[-1]['index']: \n",
    "        snap = road_markers[-1]\n",
    "        km = snap['km']\n",
    "    elif km_marker_end['index'] == road_markers[0]['index']:\n",
    "        snap = road_markers[0]\n",
    "        km = snap['km']\n",
    "    else:\n",
    "        test = path['coordinates'][km_marker_start['index']:km_marker_end['index'] + 1]\n",
    "        marker_path = LineString(test)\n",
    "        snap = nearest_point_on_line(marker_path, point_geojson)        \n",
    "        ls_length = length(marker_path, units=\"km\")\n",
    "        km = ((snap['properties']['location'] / ls_length)        \n",
    "            * (km_marker_end['km'] - km_marker_start['km'])\n",
    "            + km_marker_start['km'])\n",
    "    \n",
    "    return road, road.name, point, round(km, 3)"
   ]
  },
  {
   "cell_type": "code",
   "execution_count": 10,
   "metadata": {},
   "outputs": [],
   "source": [
    "from collections import defaultdict\n",
    "from django.db.models.signals import *\n",
    "\n",
    "\n",
    "class DisableSignals(object):\n",
    "    def __init__(self, disabled_signals=None):\n",
    "        self.stashed_signals = defaultdict(list)\n",
    "        self.disabled_signals = disabled_signals or [\n",
    "            pre_init, post_init,\n",
    "            pre_save, post_save,\n",
    "            pre_delete, post_delete,\n",
    "            pre_migrate, post_migrate,\n",
    "        ]\n",
    "\n",
    "    def __enter__(self):\n",
    "        for signal in self.disabled_signals:\n",
    "            self.disconnect(signal)\n",
    "\n",
    "    def __exit__(self, exc_type, exc_val, exc_tb):\n",
    "        for signal in list(self.stashed_signals):\n",
    "            self.reconnect(signal)\n",
    "\n",
    "    def disconnect(self, signal):\n",
    "        self.stashed_signals[signal] = signal.receivers\n",
    "        signal.receivers = []\n",
    "\n",
    "    def reconnect(self, signal):\n",
    "        signal.receivers = self.stashed_signals.get(signal, [])\n",
    "        del self.stashed_signals[signal]"
   ]
  },
  {
   "cell_type": "code",
   "execution_count": 11,
   "metadata": {},
   "outputs": [],
   "source": [
    "def get_connected_reference(company, resource, key, value):\n",
    "    select_options = company.custom_options[resource]['fields'][key]['selectOptions']['options']\n",
    "    return next(a['value'] for a in select_options if a['name'].lower() == value.lower())"
   ]
  },
  {
   "cell_type": "code",
   "execution_count": 12,
   "metadata": {},
   "outputs": [],
   "source": [
    "def get_value(field, occ, value):\n",
    "    values = occ.form_fields['fields']\n",
    "    item_translation = flatten([item['selectOptions']['options'] for item in values if item['displayName']==field])\n",
    "#     print(item_translation)\n",
    "\n",
    "    final_translation = {item['name']: item['value'] for item in item_translation}\n",
    "#     print(final_translation)\n",
    "    return final_translation[value]"
   ]
  },
  {
   "cell_type": "code",
   "execution_count": 13,
   "metadata": {},
   "outputs": [],
   "source": [
    "def get_sign_color(field, sign_field, occ, value):\n",
    "    values = occ.form_fields['fields']\n",
    "    value=value.capitalize().strip()\n",
    "    item_translation = flatten([item['innerFields'] for item in values if item['displayName']==field])\n",
    "#     print(item_translation)\n",
    "    mid_translation = flatten([item['selectOptions']['options'] for item in item_translation if item['displayName'] == sign_field])\n",
    "#     print(mid_translation)\n",
    "    final_translation = {item['name']: item['value'] for item in mid_translation}\n",
    "#     print(final_translation)\n",
    "    return final_translation[value]"
   ]
  },
  {
   "cell_type": "code",
   "execution_count": 14,
   "metadata": {},
   "outputs": [],
   "source": [
    "def get_sign_film(field, sign_field, occ, value):\n",
    "    values = occ.form_fields['fields']\n",
    "    value=value.upper().strip()\n",
    "    item_translation = flatten([item['innerFields'] for item in values if item['displayName']==field])\n",
    "#     print(item_translation)\n",
    "    mid_translation = flatten([item['selectOptions']['options'] for item in item_translation if item['displayName'] == sign_field])\n",
    "#     print(mid_translation)\n",
    "    final_translation = {item['name']: item['value'] for item in mid_translation}\n",
    "#     print(final_translation)\n",
    "    return final_translation[value]"
   ]
  },
  {
   "cell_type": "markdown",
   "metadata": {},
   "source": [
    " Verificando se está no ambiente de produção"
   ]
  },
  {
   "cell_type": "code",
   "execution_count": 15,
   "metadata": {},
   "outputs": [
    {
     "name": "stdout",
     "output_type": "stream",
     "text": [
      "STAGE=CCR_PRODUCTION\r\n"
     ]
    }
   ],
   "source": [
    "!cat .env"
   ]
  },
  {
   "cell_type": "markdown",
   "metadata": {},
   "source": [
    "Escolhendo nome do arquivo Excel para carregar o Inventário"
   ]
  },
  {
   "cell_type": "code",
   "execution_count": 75,
   "metadata": {},
   "outputs": [],
   "source": [
    "filename='OAC BR 116_Template_rev01'\n",
    "# road_name='470'"
   ]
  },
  {
   "cell_type": "markdown",
   "metadata": {},
   "source": [
    "Escolhendo a aba da planilha do Excel"
   ]
  },
  {
   "cell_type": "code",
   "execution_count": 76,
   "metadata": {},
   "outputs": [],
   "source": [
    "wb = load_workbook(filename + '.xlsx')\n",
    "sheetname = wb.sheetnames[1]\n",
    "ws = wb[sheetname]"
   ]
  },
  {
   "cell_type": "markdown",
   "metadata": {},
   "source": [
    "Testando planilha carregada do Excel"
   ]
  },
  {
   "cell_type": "code",
   "execution_count": 77,
   "metadata": {},
   "outputs": [
    {
     "name": "stdout",
     "output_type": "stream",
     "text": [
      "Identificação ANTT\n"
     ]
    }
   ],
   "source": [
    "print(ws['A1'].value)"
   ]
  },
  {
   "cell_type": "markdown",
   "metadata": {},
   "source": [
    "Carregando os valores no script"
   ]
  },
  {
   "cell_type": "code",
   "execution_count": 78,
   "metadata": {},
   "outputs": [],
   "source": [
    "header = []\n",
    "values = []\n",
    "\n",
    "for index, row in enumerate(ws.rows):\n",
    "    if index == 0:\n",
    "        header = list([a.value for a in row])\n",
    "        continue\n",
    "    obj = {}\n",
    "    for col_index, cell in enumerate(row):\n",
    "        value = cell.value\n",
    "        obj[header[col_index]] = value\n",
    "        \n",
    "    values.append(obj)"
   ]
  },
  {
   "cell_type": "markdown",
   "metadata": {},
   "source": [
    "Definindo valores da importação"
   ]
  },
  {
   "cell_type": "code",
   "execution_count": 79,
   "metadata": {},
   "outputs": [
    {
     "data": {
      "text/plain": [
       "(<Company: 3af64f25-59e8-446b-bb1e-963549090b0d: CCR - Rio Sp>,\n",
       " <ApprovalStep: [CCR - Rio Sp]: Criado>)"
      ]
     },
     "execution_count": 79,
     "metadata": {},
     "output_type": "execute_result"
    }
   ],
   "source": [
    "company = Company.objects.get(name='CCR - Rio Sp')\n",
    "\n",
    "#Classe Drenagem\n",
    "occurrence_type_ficha = OccurrenceType.objects.get(name='Monitoração de Drenagem Profunda Ficha Poder Concedente',company=company)\n",
    "occurrence_type_elemento = OccurrenceType.objects.get(name='Monitoração Drenagem Profunda Elemento',company=company)\n",
    "\n",
    "user=User.objects.get(username='rlcs')\n",
    "status=ServiceOrderActionStatus.objects.get(companies=company, name='Identificado')\n",
    "firm=Firm.objects.get(name='Civil: SGOAC',company=company)\n",
    "step=ApprovalStep.objects.get(approval_flow__company=company, name='Criado')\n",
    "company,step"
   ]
  },
  {
   "cell_type": "code",
   "execution_count": 80,
   "metadata": {},
   "outputs": [],
   "source": [
    "# Reporting.objects.filter(company=company,occurrence_type=occurrence_type_elemento,\n",
    "#                          form_data__code='CCS 116 RJ 262+621 N 1',\n",
    "#                          created_at__gte='2023-12-13').count()"
   ]
  },
  {
   "cell_type": "code",
   "execution_count": 81,
   "metadata": {
    "scrolled": true
   },
   "outputs": [
    {
     "data": {
      "text/plain": [
       "(7605,\n",
       " {'Identificação ANTT': 'BU 116 RJ 215+140 N 1',\n",
       "  'Código do Inventário para vinculo com apontamento': 'CCR-Inv-2023.161388',\n",
       "  'km': '215+140',\n",
       "  'km final': '215+120',\n",
       "  'Status': 'Identificado',\n",
       "  'Equipe': 'Civil: SGOAC',\n",
       "  'Encontrado em': datetime.datetime(2024, 1, 5, 0, 0),\n",
       "  'Executado em': datetime.datetime(2024, 1, 5, 0, 0),\n",
       "  'Sentido': 'NORTE',\n",
       "  'Classe': 'Monitoração de Drenagem Profunda',\n",
       "  'Faixa': 'Não se aplica',\n",
       "  'Rodovia': 'BR-116 RJ',\n",
       "  'Elemento': 'OAC',\n",
       "  'Extensão': 71.89,\n",
       "  'Formato': 'TUBULAR',\n",
       "  'Tipo de Bueiro (Celular)': None,\n",
       "  'Tipo de Bueiro (Tubular)': 'BSTC',\n",
       "  'Marginal': 'Não',\n",
       "  'Latitude Montante': -22.7100723,\n",
       "  'Longitude Montante': -43.7363794,\n",
       "  'X UTM': None,\n",
       "  'Y UTM': None,\n",
       "  'Latitude Jusante': -22.7101837,\n",
       "  'Longitude Jusante': -43.735782,\n",
       "  'X UTM Jusante': None,\n",
       "  'Y UTM Jusante': None,\n",
       "  'Zona': None,\n",
       "  'Estrutura Entrada': 'CCT',\n",
       "  'Código Montante': 'BU 116 RJ 215+140 N 1',\n",
       "  'Ambiente Montante': None,\n",
       "  'Altura montante (m)': None,\n",
       "  'Largura montante (m)': None,\n",
       "  'Diâmetro montante (m)': 0.6,\n",
       "  'Material Revestimento Montante': 'Alvenaria',\n",
       "  'Descrição do Material': 'Alvenaria',\n",
       "  'Lado Montante': None,\n",
       "  'Foto_1': 'BU 116 RJ 215+140 N 1_F0_JUSANTE.jpg',\n",
       "  'Descrição Foto_1': 'Foto jusante panoramica',\n",
       "  'Foto_2': 'BU 116 RJ 215+140 N 1_F1_JUSANTE.jpg',\n",
       "  'Descrição Foto_2': 'Foto jusante detalhe',\n",
       "  'Está na faixa de domínio? (Montante)': None,\n",
       "  'Trabalha afogado? (Montante)': None,\n",
       "  'Estado de Conservação Montante': 'BOM',\n",
       "  'Limpeza - Montante': 'NÃO',\n",
       "  'Roçada - Montante ': 'NÃO',\n",
       "  'Desassoreamento - Montante': 'NÃO',\n",
       "  'Desobstrução - Montante': None,\n",
       "  'Testa ou ala danificada - Montante': 'NÃO',\n",
       "  'Tubulação danificada - Montante': 'NÃO',\n",
       "  'Caixa danificada - Montante': 'NÃO',\n",
       "  'Erosão - Montante': 'NÃO',\n",
       "  'Fissuras/trincas - Montante': 'NÃO',\n",
       "  'Tampa Danificada/Inexist - Montante': 'NÃO',\n",
       "  'Código Jusante': 'BU 116 RJ 215+140 N 1',\n",
       "  'Material Revestimento Jusante': 'Concreto',\n",
       "  'Lado Jusante': None,\n",
       "  'Está na faixa de domínio? (jusante)': None,\n",
       "  'Trabalha afogado? (jusante)': None,\n",
       "  'Estrutura Saída': 'CCT',\n",
       "  'Ambiente Jusante': None,\n",
       "  'Altura Jusante (m)': None,\n",
       "  'Largura Jusante (m)': None,\n",
       "  'Diâmetro Jusante (m)': 0.6,\n",
       "  'Estado de Conservação Jusante': 'PRECÁRIO',\n",
       "  'Limpeza - Jusante': 'NÃO',\n",
       "  'Roçada - Jusante': 'NÃO',\n",
       "  'Desassoreamento - Jusante': 'SIM',\n",
       "  'Desobstrução - Jusante': None,\n",
       "  'Testa ou ala danificada - Jusante': 'NÃO',\n",
       "  'Tubulação danificada - Jusante': 'NÃO',\n",
       "  'Caixa danificada - Jusante': 'NÃO',\n",
       "  'Erosão - Jusante': 'NÃO',\n",
       "  'Fissuras/trincas - Jusante': 'NÃO',\n",
       "  'Tampa Danificada/Inexist - Jusante': 'NÃO',\n",
       "  'Estado Geral de Conservação': 'PRECÁRIO',\n",
       "  'Observações': None})"
      ]
     },
     "execution_count": 81,
     "metadata": {},
     "output_type": "execute_result"
    }
   ],
   "source": [
    "len(values),values[0]"
   ]
  },
  {
   "cell_type": "markdown",
   "metadata": {},
   "source": [
    "Criando itens de Inventário"
   ]
  },
  {
   "cell_type": "code",
   "execution_count": 82,
   "metadata": {},
   "outputs": [
    {
     "data": {
      "text/plain": [
       "['1']"
      ]
     },
     "execution_count": 82,
     "metadata": {},
     "output_type": "execute_result"
    }
   ],
   "source": [
    "var = 'BSCC'\n",
    "[get_value('Tipo de Bueiro (Celular)', occurrence_type_ficha, v.strip()) for v in var.split(',')]"
   ]
  },
  {
   "cell_type": "code",
   "execution_count": 83,
   "metadata": {
    "scrolled": true
   },
   "outputs": [
    {
     "data": {
      "application/vnd.jupyter.widget-view+json": {
       "model_id": "1f83b321ceb54254982dd52dabe8af1e",
       "version_major": 2,
       "version_minor": 0
      },
      "text/plain": [
       "  0%|          | 0/7605 [00:00<?, ?it/s]"
      ]
     },
     "metadata": {},
     "output_type": "display_data"
    },
    {
     "ename": "AttributeError",
     "evalue": "'NoneType' object has no attribute 'replace'",
     "output_type": "error",
     "traceback": [
      "\u001b[0;31m---------------------------------------------------------------------------\u001b[0m",
      "\u001b[0;31mAttributeError\u001b[0m                            Traceback (most recent call last)",
      "\u001b[0;32m/tmp/ipykernel_3149/980749989.py\u001b[0m in \u001b[0;36m<cell line: 8>\u001b[0;34m()\u001b[0m\n\u001b[1;32m      8\u001b[0m \u001b[0;32mfor\u001b[0m \u001b[0mindex\u001b[0m\u001b[0;34m,\u001b[0m \u001b[0ma\u001b[0m \u001b[0;32min\u001b[0m \u001b[0menumerate\u001b[0m\u001b[0;34m(\u001b[0m\u001b[0mtqdm\u001b[0m\u001b[0;34m(\u001b[0m\u001b[0mvalues\u001b[0m\u001b[0;34m)\u001b[0m\u001b[0;34m)\u001b[0m\u001b[0;34m:\u001b[0m\u001b[0;34m\u001b[0m\u001b[0;34m\u001b[0m\u001b[0m\n\u001b[1;32m      9\u001b[0m \u001b[0;31m#     print(float(a['Longitude_Inicial']),float(a['Latitude_Inicial']))\u001b[0m\u001b[0;34m\u001b[0m\u001b[0;34m\u001b[0m\u001b[0;34m\u001b[0m\u001b[0m\n\u001b[0;32m---> 10\u001b[0;31m     \u001b[0mkm\u001b[0m\u001b[0;34m=\u001b[0m\u001b[0mfloat\u001b[0m\u001b[0;34m(\u001b[0m\u001b[0ma\u001b[0m\u001b[0;34m[\u001b[0m\u001b[0;34m'km'\u001b[0m\u001b[0;34m]\u001b[0m\u001b[0;34m.\u001b[0m\u001b[0mreplace\u001b[0m\u001b[0;34m(\u001b[0m\u001b[0;34m'+'\u001b[0m\u001b[0;34m,\u001b[0m\u001b[0;34m'.'\u001b[0m\u001b[0;34m)\u001b[0m\u001b[0;34m)\u001b[0m\u001b[0;34m\u001b[0m\u001b[0;34m\u001b[0m\u001b[0m\n\u001b[0m\u001b[1;32m     11\u001b[0m     \u001b[0mend_km\u001b[0m\u001b[0;34m=\u001b[0m\u001b[0mfloat\u001b[0m\u001b[0;34m(\u001b[0m\u001b[0ma\u001b[0m\u001b[0;34m[\u001b[0m\u001b[0;34m'km final'\u001b[0m\u001b[0;34m]\u001b[0m\u001b[0;34m.\u001b[0m\u001b[0mreplace\u001b[0m\u001b[0;34m(\u001b[0m\u001b[0;34m'+'\u001b[0m\u001b[0;34m,\u001b[0m\u001b[0;34m'.'\u001b[0m\u001b[0;34m)\u001b[0m\u001b[0;34m)\u001b[0m \u001b[0;32mif\u001b[0m \u001b[0ma\u001b[0m\u001b[0;34m[\u001b[0m\u001b[0;34m'km final'\u001b[0m\u001b[0;34m]\u001b[0m \u001b[0;32mis\u001b[0m \u001b[0;32mnot\u001b[0m \u001b[0;32mNone\u001b[0m \u001b[0;32melse\u001b[0m \u001b[0;32mNone\u001b[0m\u001b[0;34m\u001b[0m\u001b[0;34m\u001b[0m\u001b[0m\n\u001b[1;32m     12\u001b[0m     \u001b[0mpoint\u001b[0m\u001b[0;34m,\u001b[0m \u001b[0mroad\u001b[0m \u001b[0;34m=\u001b[0m \u001b[0mget_road_coordinates\u001b[0m\u001b[0;34m(\u001b[0m\u001b[0ma\u001b[0m\u001b[0;34m[\u001b[0m\u001b[0;34m'Rodovia'\u001b[0m\u001b[0;34m]\u001b[0m\u001b[0;34m,\u001b[0m \u001b[0mkm\u001b[0m\u001b[0;34m,\u001b[0m \u001b[0mstr\u001b[0m\u001b[0;34m(\u001b[0m\u001b[0mget_connected_reference\u001b[0m\u001b[0;34m(\u001b[0m\u001b[0mcompany\u001b[0m\u001b[0;34m,\u001b[0m \u001b[0;34m'reporting'\u001b[0m\u001b[0;34m,\u001b[0m \u001b[0;34m'direction'\u001b[0m\u001b[0;34m,\u001b[0m \u001b[0ma\u001b[0m\u001b[0;34m[\u001b[0m\u001b[0;34m'Sentido'\u001b[0m\u001b[0;34m]\u001b[0m\u001b[0;34m)\u001b[0m\u001b[0;34m)\u001b[0m\u001b[0;34m,\u001b[0m \u001b[0mcompany\u001b[0m\u001b[0;34m)\u001b[0m\u001b[0;34m\u001b[0m\u001b[0;34m\u001b[0m\u001b[0m\n",
      "\u001b[0;31mAttributeError\u001b[0m: 'NoneType' object has no attribute 'replace'"
     ]
    }
   ],
   "source": [
    "objects=[]\n",
    "erros=[]\n",
    "r=[]\n",
    "r_mon=[]\n",
    "r_jus=[]\n",
    "rir_mon=[]\n",
    "rir_jus=[]\n",
    "for index, a in enumerate(tqdm(values)):\n",
    "#     print(float(a['Longitude_Inicial']),float(a['Latitude_Inicial']))\n",
    "    km=float(a['km'].replace('+','.'))\n",
    "    end_km=float(a['km final'].replace('+','.')) if a['km final'] is not None else None\n",
    "    point, road = get_road_coordinates(a['Rodovia'], km, str(get_connected_reference(company, 'reporting', 'direction', a['Sentido'])), company)\n",
    "    \n",
    "    try:\n",
    "        \n",
    "        rep=Reporting(\n",
    "                    company=company,\n",
    "                    occurrence_type=occurrence_type_ficha,\n",
    "                    lane=str(get_connected_reference(company, 'reporting', 'lane', a['Faixa'])),\n",
    "                    road=road,\n",
    "                    parent=Reporting.objects.filter(number=a['Código do Inventário para vinculo com apontamento'].strip(),\n",
    "                                                    company=company).first() if a.get('Código do Inventário para vinculo com apontamento') else None,\n",
    "                    road_name=a['Rodovia'],\n",
    "                    direction=str(get_connected_reference(company, 'reporting', 'direction', a['Sentido'])),\n",
    "                    created_by=user,\n",
    "                    approval_step=step,\n",
    "                    found_at=a['Encontrado em'],\n",
    "                    executed_at=a['Executado em'],\n",
    "                    km=float(km),\n",
    "                    end_km_manually_specified=True if a['km final'] is not None else False,\n",
    "                    end_km=end_km if a['km final'] is not None else None,\n",
    "                    point=point,\n",
    "                    firm=firm,\n",
    "                    status=status,\n",
    "                    form_data={\n",
    "                        \"id_ccr_antt\": a[\"Identificação ANTT\"],\n",
    "                        \"element\": a[\"Elemento\"],\n",
    "                        \"length\": a[\"Extensão\"],\n",
    "                        \"format\": [get_value('Formato', occurrence_type_ficha, v.strip().capitalize()) for v in a[\"Formato\"].split(',')] if a.get(\"Formato\") is not None else None,\n",
    "#                         \"format\": get_value('Formato', occurrence_type_ficha, a[\"Formato\"].strip().capitalize()) if a.get(\"Formato\") is not None else None,\n",
    "                        \"other_format\": a.get(\"Outro Formato\"),\n",
    "                        \"hole_kind_celular\":[get_value('Tipo de Bueiro (Celular)', occurrence_type_ficha, v.strip()) for v in a[\"Tipo de Bueiro (Celular)\"].split(',')] if a.get(\"Tipo de Bueiro (Celular)\") is not None else None,\n",
    "                        \"hole_kind_tubular\":[get_value('Tipo de Bueiro (Tubular)', occurrence_type_ficha, v.strip()) for v in a[\"Tipo de Bueiro (Tubular)\"].split(',')] if a.get(\"Tipo de Bueiro (Tubular)\") is not None else None,\n",
    "                        \"hole_kind_ovoide\":[get_value('Tipo de Bueiro (Ovóide)', occurrence_type_ficha, v.strip()) for v in a[\"Tipo de Bueiro (Ovóide)\"].split(',')] if a.get(\"Tipo de Bueiro (Ovóide)\") is not None else None,\n",
    "                        \"hole_kind_other\":[get_value('Tipo de Bueiro', occurrence_type_ficha, v.strip()) for v in a[\"Tipo de Bueiro\"].split(',')] if a.get(\"Tipo de Bueiro\") is not None else None,\n",
    "#                         \"hole_kind_celular\": get_value('Tipo de Bueiro (Celular)', occurrence_type_ficha, a[\"Tipo de Bueiro (Celular)\"].strip()) if a.get(\"Tipo de Bueiro (Celular)\") is not None else None,\n",
    "#                         \"hole_kind_tubular\": get_value('Tipo de Bueiro (Tubular)', occurrence_type_ficha, a[\"Tipo de Bueiro (Tubular)\"].strip()) if a.get(\"Tipo de Bueiro (Tubular)\") is not None else None,\n",
    "#                         \"hole_kind_ovoide\": get_value('Tipo de Bueiro (Ovóide)', occurrence_type_ficha, a[\"Tipo de Bueiro (Ovóide)\"].strip()) if a.get(\"Tipo de Bueiro (Ovóide)\") is not None else None,\n",
    "#                         \"hole_kind_other\": get_value('Tipo de Bueiro', occurrence_type_ficha, a[\"Tipo de Bueiro\"].strip()) if a.get(\"Tipo de Bueiro\") is not None else None,\n",
    "                        \"passarel\": get_value('Travessia', occurrence_type_ficha, a[\"Travessia\"].strip()) if a.get(\"Travessia\") is not None else None,\n",
    "                        \"marginal\": get_value('Marginal', occurrence_type_ficha, a[\"Marginal\"].strip()) if a.get(\"Marginal\") is not None else None,\n",
    "                        \"sheet_classification\": get_value('Estado Geral de Conservação', occurrence_type_ficha, a[\"Estado Geral de Conservação\"].strip().capitalize()) if a.get(\"Estado Geral de Conservação\") is not None else None,\n",
    "                        \"notes\": a[\"Observações\"]                                  \n",
    "                    })\n",
    "#         rep.save()\n",
    "        auto_add_number(rep, \"RP_name_format\")\n",
    "        r.append(rep)\n",
    "        \n",
    "        # Verificação Montante, caso não exista cria\n",
    "        \n",
    "        rep_montante=Reporting.objects.filter(occurrence_type=occurrence_type_elemento,form_data__code=a.get('Código Montante'))\n",
    "        \n",
    "        if not rep_montante.exists() and a.get('Código Montante'):\n",
    "            if a.get('Latitude Montante') and a.get('Longitude Montante'):\n",
    "                point=Point(float(a.get('Longitude Montante')), float(a.get('Latitude Montante')), srid=4326)\n",
    "#                 _,_,point,_ =point_to_km(float(a.get('Longitude Montante')),float(a.get('Latitude Montante')),a['Rodovia'])\n",
    "            rep_montante=Reporting(\n",
    "                        company=company,\n",
    "                        occurrence_type=occurrence_type_elemento,\n",
    "                        lane=str(get_connected_reference(company, 'reporting', 'lane', a['Faixa'])),\n",
    "                        road=road,\n",
    "                        parent=Reporting.objects.filter(form_data__code=a.get('Código Montante'),\n",
    "                                 company=company,\n",
    "                                 occurrence_type__occurrence_kind='2').first(),\n",
    "                        road_name=a['Rodovia'],\n",
    "                        direction=str(get_connected_reference(company, 'reporting', 'direction', a['Sentido'])),\n",
    "                        created_by=user,\n",
    "                        found_at=a['Encontrado em'],\n",
    "                        executed_at=a['Executado em'],\n",
    "                        km=float(km),\n",
    "                        end_km_manually_specified=True if a['km final'] is not None else False,\n",
    "                        end_km=end_km if a['km final'] is not None else None,\n",
    "                        point=point,\n",
    "                        firm=firm,\n",
    "                        status=status,\n",
    "                        approval_step=step,\n",
    "                        form_data={\n",
    "                            \"element\": a[\"Elemento\"],\n",
    "                            \"hole_classification\": get_value('Estado Geral de Conservação da Caixa', occurrence_type_elemento, a[\"Estado de Conservação Montante\"].strip().capitalize()) if a.get(\"Estado de Conservação Montante\") is not None else None,\n",
    "#                             \"exclude_element\": a[\"Elemento Excluído\"]select\n",
    "#                             \"exclusion_motive\": a[\"Motivo Exclusão\"]textArea\n",
    "                            \"latitude\": float(a.get('Latitude Montante',0)) if a.get('Latitude Montante') is not None else 0,\n",
    "                            \"longitude\": float(a.get('Longitude Montante',0)) if a.get('Longitude Montante') is not None else 0,\n",
    "                            \"zone\": get_value('Zona', occurrence_type_elemento, a[\"Zona\"].strip()) if a.get('Zona') else None,\n",
    "                            \"x_utm\": a[\"X UTM\"],\n",
    "                            \"y_utm\": a[\"Y UTM\"],\n",
    "                            \"entry_struc\": get_value('Estrutura Entrada', occurrence_type_elemento, a[\"Estrutura Entrada\"]) if a.get('Estrutura Entrada') else None,\n",
    "                            \"ambient_mon\": get_value('Ambiente', occurrence_type_elemento, a[\"Ambiente Montante\"]) if a.get('Ambiente Montante') else None,\n",
    "                            \"height\": a[\"Altura montante (m)\"],\n",
    "                            \"width\": a[\"Largura montante (m)\"],\n",
    "                            \"diameter\": a[\"Diâmetro montante (m)\"],\n",
    "                            \"code\": a[\"Código Montante\"],\n",
    "                            \"material_rev_mont\": get_value('Material Revestimento', occurrence_type_elemento, a[\"Material Revestimento Montante\"]) if a.get('Material Revestimento Montante') else None,\n",
    "                            \"description_mat\": a.get(\"Descrição do Material\"),\n",
    "                            \"side_mont\": get_value('Lado', occurrence_type_elemento, a[\"Lado Montante\"]) if a.get('Lado Montante') else None,\n",
    "                            \"is_domain_stripmon\": True if a.get('Está na faixa de domínio? (Montante)') and a.get('Está na faixa de domínio? (Montante)').lower()=='sim' else False,\n",
    "                            \"works_drownmon\": True if a.get('Trabalha afogado? (Montante)') and a.get('Trabalha afogado? (Montante)').lower()=='sim' else False,\n",
    "                            \"cleaningmon\": True if a.get('Limpeza - Montante') and a.get('Limpeza - Montante').lower()=='sim' else False,\n",
    "                            \"rocada_mon\": True if a.get('Roçada - Montante ') and a.get('Roçada - Montante ').lower()=='sim' else False,\n",
    "                            \"desassoreamentomon\": True if a.get('Desassoreamento - Montante') and a.get('Desassoreamento - Montante').lower()=='sim' else False,\n",
    "                            \"desobstrucaomon\": True if a.get('Desobstrução - Montante') and a.get('Desobstrução - Montante').lower()=='sim' else False,\n",
    "                            \"forehead_damagemon\": True if a.get('Testa ou ala danificada - Montante') and a.get('Testa ou ala danificada - Montante').lower()=='sim' else False,\n",
    "                            \"tube_damagemon\": True if a.get('Tubulação danificada - Montante') and a.get('Tubulação danificada - Montante').lower()=='sim' else False,\n",
    "                            \"box_damagemon\": True if a.get('Caixa danificada - Montante') and a.get('Caixa danificada - Montante').lower()=='sim' else False,\n",
    "                            \"erosionmon\": True if a.get('Erosão - Montante') and a.get('Erosão - Montante').lower()=='sim' else False,\n",
    "                            \"brokenmon\": True if a.get('Fissuras/trincas - Montante') and a.get('Fissuras/trincas - Montante').lower()=='sim' else False,\n",
    "                            \"cover_damagemon\": True if a.get('Tampa Danificada/Inexist - Montante') and a.get('Tampa Danificada/Inexist - Montante').lower()=='sim' else False,                                            \n",
    "                        })\n",
    "            \n",
    "#             rep_montante.save()\n",
    "            auto_add_number(rep_montante, \"RP_name_format\")\n",
    "            r_mon.append(rep_montante)\n",
    "        else:\n",
    "            rep_montante = rep_montante.first()\n",
    "            \n",
    "            \n",
    "        # Verificação Jusante, caso não exista cria\n",
    "        \n",
    "        rep_jusante=Reporting.objects.filter(occurrence_type=occurrence_type_elemento,form_data__code=a.get('Código Jusante'))\n",
    "        \n",
    "        if not rep_jusante.exists() and a.get('Código Jusante'):\n",
    "            if a.get('Latitude Jusante') and a.get('Longitude Jusante'):\n",
    "                point=Point(float(a.get('Longitude Jusante')), float(a.get('Latitude Jusante')), srid=4326)\n",
    "#                 _,_,point,_ =point_to_km(float(a.get('Longitude Jusante')),float(a.get('Latitude Jusante')),a['Rodovia'])\n",
    "            rep_jusante=Reporting(\n",
    "                        company=company,\n",
    "                        occurrence_type=occurrence_type_elemento,\n",
    "                        lane=str(get_connected_reference(company, 'reporting', 'lane', a['Faixa'])),\n",
    "                        road=road,\n",
    "                        road_name=a['Rodovia'],\n",
    "                        parent=Reporting.objects.filter(form_data__code=a.get('Código Jusante'),\n",
    "                                 company=company,\n",
    "                                 occurrence_type__occurrence_kind='2').first(),\n",
    "                        direction=str(get_connected_reference(company, 'reporting', 'direction', a['Sentido'])),\n",
    "                        created_by=user,\n",
    "                        found_at=a['Encontrado em'],\n",
    "                        executed_at=a['Executado em'],\n",
    "                        km=float(km),\n",
    "                        end_km_manually_specified=True if a['km final'] is not None else False,\n",
    "                        end_km=end_km if a['km final'] is not None else None,\n",
    "                        point=point,\n",
    "                        firm=firm,\n",
    "                        status=status,\n",
    "                        approval_step=step,\n",
    "                        form_data={\n",
    "                            \"element\": a[\"Elemento\"],\n",
    "                            \"hole_classification\": get_value('Estado Geral de Conservação da Caixa', occurrence_type_elemento, a[\"Estado de Conservação Jusante\"].strip().capitalize()) if a.get(\"Estado de Conservação Jusante\") is not None else None,\n",
    "#                             \"exclude_element\": a[\"Elemento Excluído\"]select\n",
    "#                             \"exclusion_motive\": a[\"Motivo Exclusão\"]textArea\n",
    "                            \"latitude\": float(a.get('Latitude Jusante',0)) if a.get('Latitude Jusante') is not None else 0,\n",
    "                            \"longitude\": float(a.get('Longitude Jusante',0)) if a.get('Longitude Jusante') is not None else 0,\n",
    "                            \"zone\": get_value('Zona', occurrence_type_elemento, a[\"Zona\"].strip()) if a.get('Zona') else None,\n",
    "                            \"x_utm\": a[\"X UTM Jusante\"],\n",
    "                            \"y_utm\": a[\"Y UTM Jusante\"],\n",
    "                            \"entry_struc\": get_value('Estrutura Entrada', occurrence_type_elemento, a[\"Estrutura Entrada\"]) if a.get('Estrutura Entrada') else None,\n",
    "                            \"ambient_mon\": get_value('Ambiente', occurrence_type_elemento, a[\"Ambiente Jusante\"]) if a.get('Ambiente Jusante') else None,\n",
    "                            \"height\": a[\"Altura Jusante (m)\"],\n",
    "                            \"width\": a[\"Largura Jusante (m)\"],\n",
    "                            \"diameter\": a[\"Diâmetro Jusante (m)\"],\n",
    "                            \"code\": a[\"Código Jusante\"],\n",
    "                            \"material_rev_mont\": get_value('Material Revestimento', occurrence_type_elemento, a[\"Material Revestimento Jusante\"]) if a.get('Material Revestimento Jusante') else None,\n",
    "                            \"description_mat\": a.get(\"Descrição do Material\"),\n",
    "                            \"side_mont\": get_value('Lado', occurrence_type_elemento, a[\"Lado Jusante\"]) if a.get('Lado Jusante') else None,\n",
    "                            \"is_domain_stripmon\": True if a.get('Está na faixa de domínio? (Jusante)') and a.get('Está na faixa de domínio? (Jusante)').lower()=='sim' else False,\n",
    "                            \"works_drownmon\": True if a.get('Trabalha afogado? (Jusante)') and a.get('Trabalha afogado? (Jusante)').lower()=='sim' else False,\n",
    "                            \"cleaningmon\": True if a.get('Limpeza - Jusante') and a.get('Limpeza - Jusante').lower()=='sim' else False,\n",
    "                            \"rocada_mon\": True if a.get('Roçada - Jusante ') and a.get('Roçada - Jusante ').lower()=='sim' else False,\n",
    "                            \"desassoreamentomon\": True if a.get('Desassoreamento - Jusante') and a.get('Desassoreamento - Jusante').lower()=='sim' else False,\n",
    "                            \"desobstrucaomon\": True if a.get('Desobstrução - Jusante') and a.get('Desobstrução - Jusante').lower()=='sim' else False,\n",
    "                            \"forehead_damagemon\": True if a.get('Testa ou ala danificada - Jusante') and a.get('Testa ou ala danificada - Jusante').lower()=='sim' else False,\n",
    "                            \"tube_damagemon\": True if a.get('Tubulação danificada - Jusante') and a.get('Tubulação danificada - Jusante').lower()=='sim' else False,\n",
    "                            \"box_damagemon\": True if a.get('Caixa danificada - Jusante') and a.get('Caixa danificada - Jusante').lower()=='sim' else False,\n",
    "                            \"erosionmon\": True if a.get('Erosão - Jusante') and a.get('Erosão - Jusante').lower()=='sim' else False,\n",
    "                            \"brokenmon\": True if a.get('Fissuras/trincas - Jusante') and a.get('Fissuras/trincas - Jusante').lower()=='sim' else False,\n",
    "                            \"cover_damagemon\": True if a.get('Tampa Danificada/Inexist - Jusante') and a.get('Tampa Danificada/Inexist - Jusante').lower()=='sim' else False,                                            \n",
    "                        })\n",
    "            \n",
    "#             rep_jusante.save()\n",
    "            auto_add_number(rep_jusante, \"RP_name_format\")\n",
    "            r_jus.append(rep_jusante)\n",
    "        else:\n",
    "            rep_jusante = rep_jusante.first()\n",
    "        \n",
    "        \n",
    "        # Relação ReportingInReporting e ReportingInRelation\n",
    "        if a.get('Código Montante') and rep_montante:\n",
    "            rep_relation = ReportingRelation.objects.get(name='Montante')\n",
    "            rep_in_rep_montante=ReportingInReporting(parent=rep,child=rep_montante,reporting_relation=rep_relation)\n",
    "#             rep_in_rep_montante.save()\n",
    "            rir_mon.append(rep_in_rep_montante)\n",
    "        if a.get('Código Jusante') and rep_jusante:\n",
    "            rep_relation = ReportingRelation.objects.get(name='Jusante')\n",
    "            rep_in_rep_jusante=ReportingInReporting(parent=rep,child=rep_jusante,reporting_relation=rep_relation)\n",
    "#             rep_in_rep_jusante.save()\n",
    "            rir_jus.append(rep_in_rep_jusante)\n",
    "            \n",
    "    except Exception as e:\n",
    "        print(f'Linha: {index+2} - {e}')\n",
    "#         a['number_ficha'] = rep.number if getattr(rep,'number') else ''\n",
    "#         a['number_mon'] = rep_montante.number if getattr(rep_montante,'number') else ''\n",
    "#         a['number_jus'] = rep_jusante.number if getattr(rep_jusante,'number') else ''\n",
    "        erros.append(a)"
   ]
  },
  {
   "cell_type": "code",
   "execution_count": 84,
   "metadata": {
    "scrolled": true
   },
   "outputs": [
    {
     "data": {
      "text/plain": [
       "7544"
      ]
     },
     "execution_count": 84,
     "metadata": {},
     "output_type": "execute_result"
    }
   ],
   "source": [
    "len(r)"
   ]
  },
  {
   "cell_type": "code",
   "execution_count": 85,
   "metadata": {},
   "outputs": [
    {
     "name": "stderr",
     "output_type": "stream",
     "text": [
      "/home/luan/.cache/pypoetry/virtualenvs/apps-ZFymp6kh-py3.8/lib/python3.8/site-packages/django/db/models/fields/__init__.py:1424: RuntimeWarning: DateTimeField Reporting.executed_at received a naive datetime (2024-01-05 00:00:00) while time zone support is active.\n",
      "  warnings.warn(\"DateTimeField %s received a naive datetime (%s)\"\n",
      "/home/luan/.cache/pypoetry/virtualenvs/apps-ZFymp6kh-py3.8/lib/python3.8/site-packages/django/db/models/fields/__init__.py:1424: RuntimeWarning: DateTimeField Reporting.found_at received a naive datetime (2024-01-05 00:00:00) while time zone support is active.\n",
      "  warnings.warn(\"DateTimeField %s received a naive datetime (%s)\"\n",
      "/home/luan/.cache/pypoetry/virtualenvs/apps-ZFymp6kh-py3.8/lib/python3.8/site-packages/django/db/models/fields/__init__.py:1424: RuntimeWarning: DateTimeField Reporting.executed_at received a naive datetime (2024-01-06 00:00:00) while time zone support is active.\n",
      "  warnings.warn(\"DateTimeField %s received a naive datetime (%s)\"\n",
      "/home/luan/.cache/pypoetry/virtualenvs/apps-ZFymp6kh-py3.8/lib/python3.8/site-packages/django/db/models/fields/__init__.py:1424: RuntimeWarning: DateTimeField Reporting.found_at received a naive datetime (2024-01-06 00:00:00) while time zone support is active.\n",
      "  warnings.warn(\"DateTimeField %s received a naive datetime (%s)\"\n",
      "/home/luan/.cache/pypoetry/virtualenvs/apps-ZFymp6kh-py3.8/lib/python3.8/site-packages/django/db/models/fields/__init__.py:1424: RuntimeWarning: DateTimeField Reporting.executed_at received a naive datetime (2024-01-12 00:00:00) while time zone support is active.\n",
      "  warnings.warn(\"DateTimeField %s received a naive datetime (%s)\"\n",
      "/home/luan/.cache/pypoetry/virtualenvs/apps-ZFymp6kh-py3.8/lib/python3.8/site-packages/django/db/models/fields/__init__.py:1424: RuntimeWarning: DateTimeField Reporting.found_at received a naive datetime (2024-01-12 00:00:00) while time zone support is active.\n",
      "  warnings.warn(\"DateTimeField %s received a naive datetime (%s)\"\n",
      "/home/luan/.cache/pypoetry/virtualenvs/apps-ZFymp6kh-py3.8/lib/python3.8/site-packages/django/db/models/fields/__init__.py:1424: RuntimeWarning: DateTimeField Reporting.executed_at received a naive datetime (2024-01-17 00:00:00) while time zone support is active.\n",
      "  warnings.warn(\"DateTimeField %s received a naive datetime (%s)\"\n",
      "/home/luan/.cache/pypoetry/virtualenvs/apps-ZFymp6kh-py3.8/lib/python3.8/site-packages/django/db/models/fields/__init__.py:1424: RuntimeWarning: DateTimeField Reporting.found_at received a naive datetime (2024-01-17 00:00:00) while time zone support is active.\n",
      "  warnings.warn(\"DateTimeField %s received a naive datetime (%s)\"\n",
      "/home/luan/.cache/pypoetry/virtualenvs/apps-ZFymp6kh-py3.8/lib/python3.8/site-packages/django/db/models/fields/__init__.py:1424: RuntimeWarning: DateTimeField Reporting.executed_at received a naive datetime (2024-01-19 00:00:00) while time zone support is active.\n",
      "  warnings.warn(\"DateTimeField %s received a naive datetime (%s)\"\n",
      "/home/luan/.cache/pypoetry/virtualenvs/apps-ZFymp6kh-py3.8/lib/python3.8/site-packages/django/db/models/fields/__init__.py:1424: RuntimeWarning: DateTimeField Reporting.found_at received a naive datetime (2024-01-19 00:00:00) while time zone support is active.\n",
      "  warnings.warn(\"DateTimeField %s received a naive datetime (%s)\"\n",
      "/home/luan/.cache/pypoetry/virtualenvs/apps-ZFymp6kh-py3.8/lib/python3.8/site-packages/django/db/models/fields/__init__.py:1424: RuntimeWarning: DateTimeField Reporting.executed_at received a naive datetime (2024-01-11 00:00:00) while time zone support is active.\n",
      "  warnings.warn(\"DateTimeField %s received a naive datetime (%s)\"\n",
      "/home/luan/.cache/pypoetry/virtualenvs/apps-ZFymp6kh-py3.8/lib/python3.8/site-packages/django/db/models/fields/__init__.py:1424: RuntimeWarning: DateTimeField Reporting.found_at received a naive datetime (2024-01-11 00:00:00) while time zone support is active.\n",
      "  warnings.warn(\"DateTimeField %s received a naive datetime (%s)\"\n",
      "/home/luan/.cache/pypoetry/virtualenvs/apps-ZFymp6kh-py3.8/lib/python3.8/site-packages/django/db/models/fields/__init__.py:1424: RuntimeWarning: DateTimeField Reporting.executed_at received a naive datetime (2024-01-15 00:00:00) while time zone support is active.\n",
      "  warnings.warn(\"DateTimeField %s received a naive datetime (%s)\"\n",
      "/home/luan/.cache/pypoetry/virtualenvs/apps-ZFymp6kh-py3.8/lib/python3.8/site-packages/django/db/models/fields/__init__.py:1424: RuntimeWarning: DateTimeField Reporting.found_at received a naive datetime (2024-01-15 00:00:00) while time zone support is active.\n",
      "  warnings.warn(\"DateTimeField %s received a naive datetime (%s)\"\n",
      "/home/luan/.cache/pypoetry/virtualenvs/apps-ZFymp6kh-py3.8/lib/python3.8/site-packages/django/db/models/fields/__init__.py:1424: RuntimeWarning: DateTimeField Reporting.executed_at received a naive datetime (2024-01-18 00:00:00) while time zone support is active.\n",
      "  warnings.warn(\"DateTimeField %s received a naive datetime (%s)\"\n",
      "/home/luan/.cache/pypoetry/virtualenvs/apps-ZFymp6kh-py3.8/lib/python3.8/site-packages/django/db/models/fields/__init__.py:1424: RuntimeWarning: DateTimeField Reporting.found_at received a naive datetime (2024-01-18 00:00:00) while time zone support is active.\n",
      "  warnings.warn(\"DateTimeField %s received a naive datetime (%s)\"\n",
      "/home/luan/.cache/pypoetry/virtualenvs/apps-ZFymp6kh-py3.8/lib/python3.8/site-packages/django/db/models/fields/__init__.py:1424: RuntimeWarning: DateTimeField Reporting.executed_at received a naive datetime (2024-01-22 00:00:00) while time zone support is active.\n",
      "  warnings.warn(\"DateTimeField %s received a naive datetime (%s)\"\n",
      "/home/luan/.cache/pypoetry/virtualenvs/apps-ZFymp6kh-py3.8/lib/python3.8/site-packages/django/db/models/fields/__init__.py:1424: RuntimeWarning: DateTimeField Reporting.found_at received a naive datetime (2024-01-22 00:00:00) while time zone support is active.\n",
      "  warnings.warn(\"DateTimeField %s received a naive datetime (%s)\"\n",
      "/home/luan/.cache/pypoetry/virtualenvs/apps-ZFymp6kh-py3.8/lib/python3.8/site-packages/django/db/models/fields/__init__.py:1424: RuntimeWarning: DateTimeField Reporting.executed_at received a naive datetime (2024-01-20 00:00:00) while time zone support is active.\n",
      "  warnings.warn(\"DateTimeField %s received a naive datetime (%s)\"\n",
      "/home/luan/.cache/pypoetry/virtualenvs/apps-ZFymp6kh-py3.8/lib/python3.8/site-packages/django/db/models/fields/__init__.py:1424: RuntimeWarning: DateTimeField Reporting.found_at received a naive datetime (2024-01-20 00:00:00) while time zone support is active.\n",
      "  warnings.warn(\"DateTimeField %s received a naive datetime (%s)\"\n",
      "/home/luan/.cache/pypoetry/virtualenvs/apps-ZFymp6kh-py3.8/lib/python3.8/site-packages/django/db/models/fields/__init__.py:1424: RuntimeWarning: DateTimeField Reporting.executed_at received a naive datetime (2024-01-23 00:00:00) while time zone support is active.\n",
      "  warnings.warn(\"DateTimeField %s received a naive datetime (%s)\"\n",
      "/home/luan/.cache/pypoetry/virtualenvs/apps-ZFymp6kh-py3.8/lib/python3.8/site-packages/django/db/models/fields/__init__.py:1424: RuntimeWarning: DateTimeField Reporting.found_at received a naive datetime (2024-01-23 00:00:00) while time zone support is active.\n",
      "  warnings.warn(\"DateTimeField %s received a naive datetime (%s)\"\n",
      "/home/luan/.cache/pypoetry/virtualenvs/apps-ZFymp6kh-py3.8/lib/python3.8/site-packages/django/db/models/fields/__init__.py:1424: RuntimeWarning: DateTimeField Reporting.executed_at received a naive datetime (2024-01-24 00:00:00) while time zone support is active.\n",
      "  warnings.warn(\"DateTimeField %s received a naive datetime (%s)\"\n",
      "/home/luan/.cache/pypoetry/virtualenvs/apps-ZFymp6kh-py3.8/lib/python3.8/site-packages/django/db/models/fields/__init__.py:1424: RuntimeWarning: DateTimeField Reporting.found_at received a naive datetime (2024-01-24 00:00:00) while time zone support is active.\n",
      "  warnings.warn(\"DateTimeField %s received a naive datetime (%s)\"\n",
      "/home/luan/.cache/pypoetry/virtualenvs/apps-ZFymp6kh-py3.8/lib/python3.8/site-packages/django/db/models/fields/__init__.py:1424: RuntimeWarning: DateTimeField Reporting.executed_at received a naive datetime (2024-01-04 00:00:00) while time zone support is active.\n",
      "  warnings.warn(\"DateTimeField %s received a naive datetime (%s)\"\n",
      "/home/luan/.cache/pypoetry/virtualenvs/apps-ZFymp6kh-py3.8/lib/python3.8/site-packages/django/db/models/fields/__init__.py:1424: RuntimeWarning: DateTimeField Reporting.found_at received a naive datetime (2024-01-04 00:00:00) while time zone support is active.\n",
      "  warnings.warn(\"DateTimeField %s received a naive datetime (%s)\"\n",
      "/home/luan/.cache/pypoetry/virtualenvs/apps-ZFymp6kh-py3.8/lib/python3.8/site-packages/django/db/models/fields/__init__.py:1424: RuntimeWarning: DateTimeField Reporting.executed_at received a naive datetime (2024-01-02 00:00:00) while time zone support is active.\n",
      "  warnings.warn(\"DateTimeField %s received a naive datetime (%s)\"\n",
      "/home/luan/.cache/pypoetry/virtualenvs/apps-ZFymp6kh-py3.8/lib/python3.8/site-packages/django/db/models/fields/__init__.py:1424: RuntimeWarning: DateTimeField Reporting.found_at received a naive datetime (2024-01-02 00:00:00) while time zone support is active.\n",
      "  warnings.warn(\"DateTimeField %s received a naive datetime (%s)\"\n",
      "/home/luan/.cache/pypoetry/virtualenvs/apps-ZFymp6kh-py3.8/lib/python3.8/site-packages/django/db/models/fields/__init__.py:1424: RuntimeWarning: DateTimeField Reporting.executed_at received a naive datetime (2024-01-03 00:00:00) while time zone support is active.\n",
      "  warnings.warn(\"DateTimeField %s received a naive datetime (%s)\"\n",
      "/home/luan/.cache/pypoetry/virtualenvs/apps-ZFymp6kh-py3.8/lib/python3.8/site-packages/django/db/models/fields/__init__.py:1424: RuntimeWarning: DateTimeField Reporting.found_at received a naive datetime (2024-01-03 00:00:00) while time zone support is active.\n",
      "  warnings.warn(\"DateTimeField %s received a naive datetime (%s)\"\n"
     ]
    },
    {
     "name": "stderr",
     "output_type": "stream",
     "text": [
      "/home/luan/.cache/pypoetry/virtualenvs/apps-ZFymp6kh-py3.8/lib/python3.8/site-packages/django/db/models/fields/__init__.py:1424: RuntimeWarning: DateTimeField HistoricalReporting.executed_at received a naive datetime (2024-01-05 00:00:00) while time zone support is active.\n",
      "  warnings.warn(\"DateTimeField %s received a naive datetime (%s)\"\n",
      "/home/luan/.cache/pypoetry/virtualenvs/apps-ZFymp6kh-py3.8/lib/python3.8/site-packages/django/db/models/fields/__init__.py:1424: RuntimeWarning: DateTimeField HistoricalReporting.found_at received a naive datetime (2024-01-05 00:00:00) while time zone support is active.\n",
      "  warnings.warn(\"DateTimeField %s received a naive datetime (%s)\"\n",
      "/home/luan/.cache/pypoetry/virtualenvs/apps-ZFymp6kh-py3.8/lib/python3.8/site-packages/django/db/models/fields/__init__.py:1424: RuntimeWarning: DateTimeField HistoricalReporting.executed_at received a naive datetime (2024-01-06 00:00:00) while time zone support is active.\n",
      "  warnings.warn(\"DateTimeField %s received a naive datetime (%s)\"\n",
      "/home/luan/.cache/pypoetry/virtualenvs/apps-ZFymp6kh-py3.8/lib/python3.8/site-packages/django/db/models/fields/__init__.py:1424: RuntimeWarning: DateTimeField HistoricalReporting.found_at received a naive datetime (2024-01-06 00:00:00) while time zone support is active.\n",
      "  warnings.warn(\"DateTimeField %s received a naive datetime (%s)\"\n",
      "/home/luan/.cache/pypoetry/virtualenvs/apps-ZFymp6kh-py3.8/lib/python3.8/site-packages/django/db/models/fields/__init__.py:1424: RuntimeWarning: DateTimeField HistoricalReporting.executed_at received a naive datetime (2024-01-12 00:00:00) while time zone support is active.\n",
      "  warnings.warn(\"DateTimeField %s received a naive datetime (%s)\"\n",
      "/home/luan/.cache/pypoetry/virtualenvs/apps-ZFymp6kh-py3.8/lib/python3.8/site-packages/django/db/models/fields/__init__.py:1424: RuntimeWarning: DateTimeField HistoricalReporting.found_at received a naive datetime (2024-01-12 00:00:00) while time zone support is active.\n",
      "  warnings.warn(\"DateTimeField %s received a naive datetime (%s)\"\n",
      "/home/luan/.cache/pypoetry/virtualenvs/apps-ZFymp6kh-py3.8/lib/python3.8/site-packages/django/db/models/fields/__init__.py:1424: RuntimeWarning: DateTimeField HistoricalReporting.executed_at received a naive datetime (2024-01-17 00:00:00) while time zone support is active.\n",
      "  warnings.warn(\"DateTimeField %s received a naive datetime (%s)\"\n",
      "/home/luan/.cache/pypoetry/virtualenvs/apps-ZFymp6kh-py3.8/lib/python3.8/site-packages/django/db/models/fields/__init__.py:1424: RuntimeWarning: DateTimeField HistoricalReporting.found_at received a naive datetime (2024-01-17 00:00:00) while time zone support is active.\n",
      "  warnings.warn(\"DateTimeField %s received a naive datetime (%s)\"\n",
      "/home/luan/.cache/pypoetry/virtualenvs/apps-ZFymp6kh-py3.8/lib/python3.8/site-packages/django/db/models/fields/__init__.py:1424: RuntimeWarning: DateTimeField HistoricalReporting.executed_at received a naive datetime (2024-01-19 00:00:00) while time zone support is active.\n",
      "  warnings.warn(\"DateTimeField %s received a naive datetime (%s)\"\n",
      "/home/luan/.cache/pypoetry/virtualenvs/apps-ZFymp6kh-py3.8/lib/python3.8/site-packages/django/db/models/fields/__init__.py:1424: RuntimeWarning: DateTimeField HistoricalReporting.found_at received a naive datetime (2024-01-19 00:00:00) while time zone support is active.\n",
      "  warnings.warn(\"DateTimeField %s received a naive datetime (%s)\"\n",
      "/home/luan/.cache/pypoetry/virtualenvs/apps-ZFymp6kh-py3.8/lib/python3.8/site-packages/django/db/models/fields/__init__.py:1424: RuntimeWarning: DateTimeField HistoricalReporting.executed_at received a naive datetime (2024-01-11 00:00:00) while time zone support is active.\n",
      "  warnings.warn(\"DateTimeField %s received a naive datetime (%s)\"\n",
      "/home/luan/.cache/pypoetry/virtualenvs/apps-ZFymp6kh-py3.8/lib/python3.8/site-packages/django/db/models/fields/__init__.py:1424: RuntimeWarning: DateTimeField HistoricalReporting.found_at received a naive datetime (2024-01-11 00:00:00) while time zone support is active.\n",
      "  warnings.warn(\"DateTimeField %s received a naive datetime (%s)\"\n",
      "/home/luan/.cache/pypoetry/virtualenvs/apps-ZFymp6kh-py3.8/lib/python3.8/site-packages/django/db/models/fields/__init__.py:1424: RuntimeWarning: DateTimeField HistoricalReporting.executed_at received a naive datetime (2024-01-15 00:00:00) while time zone support is active.\n",
      "  warnings.warn(\"DateTimeField %s received a naive datetime (%s)\"\n",
      "/home/luan/.cache/pypoetry/virtualenvs/apps-ZFymp6kh-py3.8/lib/python3.8/site-packages/django/db/models/fields/__init__.py:1424: RuntimeWarning: DateTimeField HistoricalReporting.found_at received a naive datetime (2024-01-15 00:00:00) while time zone support is active.\n",
      "  warnings.warn(\"DateTimeField %s received a naive datetime (%s)\"\n",
      "/home/luan/.cache/pypoetry/virtualenvs/apps-ZFymp6kh-py3.8/lib/python3.8/site-packages/django/db/models/fields/__init__.py:1424: RuntimeWarning: DateTimeField HistoricalReporting.executed_at received a naive datetime (2024-01-18 00:00:00) while time zone support is active.\n",
      "  warnings.warn(\"DateTimeField %s received a naive datetime (%s)\"\n",
      "/home/luan/.cache/pypoetry/virtualenvs/apps-ZFymp6kh-py3.8/lib/python3.8/site-packages/django/db/models/fields/__init__.py:1424: RuntimeWarning: DateTimeField HistoricalReporting.found_at received a naive datetime (2024-01-18 00:00:00) while time zone support is active.\n",
      "  warnings.warn(\"DateTimeField %s received a naive datetime (%s)\"\n",
      "/home/luan/.cache/pypoetry/virtualenvs/apps-ZFymp6kh-py3.8/lib/python3.8/site-packages/django/db/models/fields/__init__.py:1424: RuntimeWarning: DateTimeField HistoricalReporting.executed_at received a naive datetime (2024-01-22 00:00:00) while time zone support is active.\n",
      "  warnings.warn(\"DateTimeField %s received a naive datetime (%s)\"\n",
      "/home/luan/.cache/pypoetry/virtualenvs/apps-ZFymp6kh-py3.8/lib/python3.8/site-packages/django/db/models/fields/__init__.py:1424: RuntimeWarning: DateTimeField HistoricalReporting.found_at received a naive datetime (2024-01-22 00:00:00) while time zone support is active.\n",
      "  warnings.warn(\"DateTimeField %s received a naive datetime (%s)\"\n",
      "/home/luan/.cache/pypoetry/virtualenvs/apps-ZFymp6kh-py3.8/lib/python3.8/site-packages/django/db/models/fields/__init__.py:1424: RuntimeWarning: DateTimeField HistoricalReporting.executed_at received a naive datetime (2024-01-20 00:00:00) while time zone support is active.\n",
      "  warnings.warn(\"DateTimeField %s received a naive datetime (%s)\"\n",
      "/home/luan/.cache/pypoetry/virtualenvs/apps-ZFymp6kh-py3.8/lib/python3.8/site-packages/django/db/models/fields/__init__.py:1424: RuntimeWarning: DateTimeField HistoricalReporting.found_at received a naive datetime (2024-01-20 00:00:00) while time zone support is active.\n",
      "  warnings.warn(\"DateTimeField %s received a naive datetime (%s)\"\n",
      "/home/luan/.cache/pypoetry/virtualenvs/apps-ZFymp6kh-py3.8/lib/python3.8/site-packages/django/db/models/fields/__init__.py:1424: RuntimeWarning: DateTimeField HistoricalReporting.executed_at received a naive datetime (2024-01-23 00:00:00) while time zone support is active.\n",
      "  warnings.warn(\"DateTimeField %s received a naive datetime (%s)\"\n",
      "/home/luan/.cache/pypoetry/virtualenvs/apps-ZFymp6kh-py3.8/lib/python3.8/site-packages/django/db/models/fields/__init__.py:1424: RuntimeWarning: DateTimeField HistoricalReporting.found_at received a naive datetime (2024-01-23 00:00:00) while time zone support is active.\n",
      "  warnings.warn(\"DateTimeField %s received a naive datetime (%s)\"\n",
      "/home/luan/.cache/pypoetry/virtualenvs/apps-ZFymp6kh-py3.8/lib/python3.8/site-packages/django/db/models/fields/__init__.py:1424: RuntimeWarning: DateTimeField HistoricalReporting.executed_at received a naive datetime (2024-01-24 00:00:00) while time zone support is active.\n",
      "  warnings.warn(\"DateTimeField %s received a naive datetime (%s)\"\n",
      "/home/luan/.cache/pypoetry/virtualenvs/apps-ZFymp6kh-py3.8/lib/python3.8/site-packages/django/db/models/fields/__init__.py:1424: RuntimeWarning: DateTimeField HistoricalReporting.found_at received a naive datetime (2024-01-24 00:00:00) while time zone support is active.\n",
      "  warnings.warn(\"DateTimeField %s received a naive datetime (%s)\"\n",
      "/home/luan/.cache/pypoetry/virtualenvs/apps-ZFymp6kh-py3.8/lib/python3.8/site-packages/django/db/models/fields/__init__.py:1424: RuntimeWarning: DateTimeField HistoricalReporting.executed_at received a naive datetime (2024-01-04 00:00:00) while time zone support is active.\n",
      "  warnings.warn(\"DateTimeField %s received a naive datetime (%s)\"\n",
      "/home/luan/.cache/pypoetry/virtualenvs/apps-ZFymp6kh-py3.8/lib/python3.8/site-packages/django/db/models/fields/__init__.py:1424: RuntimeWarning: DateTimeField HistoricalReporting.found_at received a naive datetime (2024-01-04 00:00:00) while time zone support is active.\n",
      "  warnings.warn(\"DateTimeField %s received a naive datetime (%s)\"\n",
      "/home/luan/.cache/pypoetry/virtualenvs/apps-ZFymp6kh-py3.8/lib/python3.8/site-packages/django/db/models/fields/__init__.py:1424: RuntimeWarning: DateTimeField HistoricalReporting.executed_at received a naive datetime (2024-01-02 00:00:00) while time zone support is active.\n",
      "  warnings.warn(\"DateTimeField %s received a naive datetime (%s)\"\n",
      "/home/luan/.cache/pypoetry/virtualenvs/apps-ZFymp6kh-py3.8/lib/python3.8/site-packages/django/db/models/fields/__init__.py:1424: RuntimeWarning: DateTimeField HistoricalReporting.found_at received a naive datetime (2024-01-02 00:00:00) while time zone support is active.\n",
      "  warnings.warn(\"DateTimeField %s received a naive datetime (%s)\"\n",
      "/home/luan/.cache/pypoetry/virtualenvs/apps-ZFymp6kh-py3.8/lib/python3.8/site-packages/django/db/models/fields/__init__.py:1424: RuntimeWarning: DateTimeField HistoricalReporting.executed_at received a naive datetime (2024-01-03 00:00:00) while time zone support is active.\n",
      "  warnings.warn(\"DateTimeField %s received a naive datetime (%s)\"\n",
      "/home/luan/.cache/pypoetry/virtualenvs/apps-ZFymp6kh-py3.8/lib/python3.8/site-packages/django/db/models/fields/__init__.py:1424: RuntimeWarning: DateTimeField HistoricalReporting.found_at received a naive datetime (2024-01-03 00:00:00) while time zone support is active.\n",
      "  warnings.warn(\"DateTimeField %s received a naive datetime (%s)\"\n"
     ]
    }
   ],
   "source": [
    "result1 = bulk_create_with_history(r, Reporting, default_user=user)\n",
    "result2 = bulk_create_with_history(r_mon, Reporting, default_user=user)\n",
    "result3 = bulk_create_with_history(r_jus, Reporting, default_user=user)\n",
    "result4 = bulk_create_with_history(rir_mon, ReportingInReporting, default_user=user)\n",
    "result5 = bulk_create_with_history(rir_jus, ReportingInReporting, default_user=user)"
   ]
  },
  {
   "cell_type": "code",
   "execution_count": 62,
   "metadata": {},
   "outputs": [
    {
     "data": {
      "application/vnd.jupyter.widget-view+json": {
       "model_id": "3888d6d17ad24097b63757157aa387ad",
       "version_major": 2,
       "version_minor": 0
      },
      "text/plain": [
       "  0%|          | 0/427 [00:00<?, ?it/s]"
      ]
     },
     "metadata": {},
     "output_type": "display_data"
    }
   ],
   "source": [
    "rep_edit=[]\n",
    "for a in tqdm(result1):\n",
    "    a.approval_step = step\n",
    "    rep_edit.append(a)"
   ]
  },
  {
   "cell_type": "code",
   "execution_count": 63,
   "metadata": {},
   "outputs": [
    {
     "data": {
      "application/vnd.jupyter.widget-view+json": {
       "model_id": "7e0a909836c145d5abcef753774dec1d",
       "version_major": 2,
       "version_minor": 0
      },
      "text/plain": [
       "  0%|          | 0/427 [00:00<?, ?it/s]"
      ]
     },
     "metadata": {},
     "output_type": "display_data"
    }
   ],
   "source": [
    "for a in tqdm(result2):\n",
    "    a.approval_step = step\n",
    "    rep_edit.append(a)"
   ]
  },
  {
   "cell_type": "code",
   "execution_count": 64,
   "metadata": {},
   "outputs": [
    {
     "data": {
      "application/vnd.jupyter.widget-view+json": {
       "model_id": "975fc71d8afd4269a8ac0128b3b2646c",
       "version_major": 2,
       "version_minor": 0
      },
      "text/plain": [
       "  0%|          | 0/427 [00:00<?, ?it/s]"
      ]
     },
     "metadata": {},
     "output_type": "display_data"
    }
   ],
   "source": [
    "for a in tqdm(result3):\n",
    "    a.approval_step = step\n",
    "    rep_edit.append(a)"
   ]
  },
  {
   "cell_type": "code",
   "execution_count": 65,
   "metadata": {},
   "outputs": [],
   "source": [
    "apontamentos = bulk_update_with_history(rep_edit,Reporting, use_django_bulk=True,batch_size=100,user=user)"
   ]
  },
  {
   "cell_type": "code",
   "execution_count": null,
   "metadata": {},
   "outputs": [],
   "source": [
    "import pandas as pd\n",
    "pd.DataFrame(data=erros).to_excel(filename+'_erros.xlsx')"
   ]
  },
  {
   "cell_type": "markdown",
   "metadata": {},
   "source": [
    "# Verificação dos itens antes da importação"
   ]
  },
  {
   "cell_type": "code",
   "execution_count": 28,
   "metadata": {},
   "outputs": [
    {
     "data": {
      "application/vnd.jupyter.widget-view+json": {
       "model_id": "74cf5e4c2d8c4f31aaff2352451d6865",
       "version_major": 2,
       "version_minor": 0
      },
      "text/plain": [
       "  0%|          | 0/4 [00:00<?, ?it/s]"
      ]
     },
     "metadata": {},
     "output_type": "display_data"
    }
   ],
   "source": [
    "erros=[]\n",
    "for index, a in enumerate(tqdm(values[5036:5040])):\n",
    "#     print(float(a['Longitude_Inicial']),float(a['Latitude_Inicial']))\n",
    "    km=float(a['km'].replace('+','.'))\n",
    "    end_km=float(a['km final'].replace('+','.'))\n",
    "    point, road = get_road_coordinates(a['Rodovia'], km, str(get_connected_reference(company, 'reporting', 'direction', a['Sentido'])), company)\n",
    "    \n",
    "    try:\n",
    "        \n",
    "        rep=Reporting(\n",
    "                    company=company,\n",
    "                    occurrence_type=occurrence_type_ficha,\n",
    "                    lane=str(get_connected_reference(company, 'reporting', 'lane', a['Faixa'])),\n",
    "                    road=road,\n",
    "                    parent=Reporting.objects.filter(number=a['Código do Inventário para vinculo com apontamento'].strip(),\n",
    "                                                    company=company).first() if a.get('Código do Inventário para vinculo com apontamento') else None,\n",
    "                    road_name=a['Rodovia'],\n",
    "                    direction=str(get_connected_reference(company, 'reporting', 'direction', a['Sentido'])),\n",
    "                    created_by=user,\n",
    "                    found_at=a['Encontrado em'],\n",
    "                    executed_at=a['Executado em'],\n",
    "                    km=float(km),\n",
    "                    end_km_manually_specified=True if a['km final'] is not None else False,\n",
    "                    end_km=float(end_km) if a['km final'] is not None else None,\n",
    "                    point=point,\n",
    "                    firm=firm,\n",
    "                    status=status,\n",
    "                    form_data={\n",
    "                        \"id_ccr_antt\": a[\"Identificação ANTT\"],\n",
    "                        \"element\": a[\"Elemento\"],\n",
    "                        \"length\": a[\"Extensão\"],\n",
    "                        \"format\": get_value('Formato', occurrence_type_ficha, a[\"Formato\"].strip().capitalize()) if a.get(\"Tipo de Bueiro (Celular)\") is not None else None,\n",
    "                        \"other_format\": a.get(\"Outro Formato\"),\n",
    "                        \"hole_kind_celular\": get_value('Tipo de Bueiro (Celular)', occurrence_type_ficha, a[\"Tipo de Bueiro (Celular)\"].strip()) if a.get(\"Tipo de Bueiro (Celular)\") is not None else None,\n",
    "                        \"hole_kind_tubular\": get_value('Tipo de Bueiro (Tubular)', occurrence_type_ficha, a[\"Tipo de Bueiro (Tubular)\"].strip()) if a.get(\"Tipo de Bueiro (Tubular)\") is not None else None,\n",
    "                        \"hole_kind_ovoide\": get_value('Tipo de Bueiro (Ovóide)', occurrence_type_ficha, a[\"Tipo de Bueiro (Ovóide)\"].strip()) if a.get(\"Tipo de Bueiro (Ovóide)\") is not None else None,\n",
    "                        \"hole_kind_other\": get_value('Tipo de Bueiro', occurrence_type_ficha, a[\"Tipo de Bueiro\"].strip()) if a.get(\"Tipo de Bueiro\") is not None else None,\n",
    "                        \"passarel\": get_value('Travessia', occurrence_type_ficha, a[\"Travessia\"].strip()) if a.get(\"Travessia\") is not None else None,\n",
    "                        \"marginal\": get_value('Marginal', occurrence_type_ficha, a[\"Marginal\"].strip()) if a.get(\"Marginal\") is not None else None,\n",
    "                        \"sheet_classification\": get_value('Estado Geral de Conservação', occurrence_type_ficha, a[\"Estado Geral de Conservação\"].strip()) if a.get(\"Estado Geral de Conservação\") is not None else None,\n",
    "                        \"notes\": a[\"Observações\"]                                  \n",
    "                    })\n",
    "#         rep.save()\n",
    "        \n",
    "        # Verificação Montante, caso não exista cria\n",
    "        \n",
    "        rep_montante=Reporting.objects.filter(occurrence_type=occurrence_type_elemento,form_data__code=a.get('Código Montante'))\n",
    "        \n",
    "        if not rep_montante.exists() and a.get('Código Montante'):\n",
    "            if a.get('Latitude Montante') and a.get('Longitude Montante'):\n",
    "                point=Point(float(a.get('Longitude Montante')), float(a.get('Latitude Montante')), srid=4326)\n",
    "#                 _,_,point,_ =point_to_km(float(a.get('Longitude Montante')),float(a.get('Latitude Montante')),a['Rodovia'])\n",
    "            rep_montante=Reporting(\n",
    "                        company=company,\n",
    "                        occurrence_type=occurrence_type_elemento,\n",
    "                        lane=str(get_connected_reference(company, 'reporting', 'lane', a['Faixa'])),\n",
    "                        road=road,\n",
    "                        parent=Reporting.objects.filter(form_data__code=a.get('Código Montante'),\n",
    "                                 company=company,\n",
    "                                 occurrence_type__occurrence_kind='2').first(),\n",
    "                        road_name=a['Rodovia'],\n",
    "                        direction=str(get_connected_reference(company, 'reporting', 'direction', a['Sentido'])),\n",
    "                        created_by=user,\n",
    "                        found_at=a['Encontrado em'],\n",
    "                        executed_at=a['Executado em'],\n",
    "                        km=float(km),\n",
    "                        end_km_manually_specified=True if a['km final'] is not None else False,\n",
    "                        end_km=float(end_km) if a['km final'] is not None else None,\n",
    "                        point=point,\n",
    "                        firm=firm,\n",
    "                        status=status,\n",
    "                        form_data={\n",
    "                            \"element\": a[\"Elemento\"],\n",
    "                            \"hole_classification\": get_value('Estado Geral de Conservação da Caixa', occurrence_type_elemento, a[\"Estado de Conservação Montante\"].strip()) if a.get(\"Estado de Conservação Montante\") is not None else None,\n",
    "#                             \"exclude_element\": a[\"Elemento Excluído\"]select\n",
    "#                             \"exclusion_motive\": a[\"Motivo Exclusão\"]textArea\n",
    "                            \"latitude\": float(a.get('Latitude Montante',0)),\n",
    "                            \"longitude\": float(a.get('Longitude Montante',0)),\n",
    "                            \"zone\": get_value('Zona', occurrence_type_elemento, a[\"Zona\"].strip()) if a.get('Zona') else None,\n",
    "                            \"x_utm\": a[\"X UTM\"],\n",
    "                            \"y_utm\": a[\"Y UTM\"],\n",
    "                            \"entry_struc\": get_value('Estrutura Entrada', occurrence_type_elemento, a[\"Estrutura Entrada\"]) if a.get('Estrutura Entrada') else None,\n",
    "                            \"ambient_mon\": get_value('Ambiente', occurrence_type_elemento, a[\"Ambiente Montante\"]) if a.get('Ambiente Montante') else None,\n",
    "                            \"height\": a[\"Altura montante (m)\"],\n",
    "                            \"width\": a[\"Largura montante (m)\"],\n",
    "                            \"diameter\": a[\"Diâmetro montante (m)\"],\n",
    "                            \"code\": a[\"Código Montante\"],\n",
    "                            \"material_rev_mont\": get_value('Material Revestimento', occurrence_type_elemento, a[\"Material Revestimento Montante\"]) if a.get('Material Revestimento Montante') else None,\n",
    "                            \"description_mat\": a.get(\"Descrição do Material\"),\n",
    "                            \"side_mont\": get_value('Lado', occurrence_type_elemento, a[\"Lado Montante\"]) if a.get('Lado Montante') else None,\n",
    "                            \"is_domain_stripmon\": True if a.get('Está na faixa de domínio? (Montante)') and a.get('Está na faixa de domínio? (Montante)').lower()=='sim' else False,\n",
    "                            \"works_drownmon\": True if a.get('Trabalha afogado? (Montante)') and a.get('Trabalha afogado? (Montante)').lower()=='sim' else False,\n",
    "                            \"cleaningmon\": True if a.get('Limpeza - Montante') and a.get('Limpeza - Montante').lower()=='sim' else False,\n",
    "                            \"rocada_mon\": True if a.get('Roçada - Montante ') and a.get('Roçada - Montante ').lower()=='sim' else False,\n",
    "                            \"desassoreamentomon\": True if a.get('Desassoreamento - Montante') and a.get('Desassoreamento - Montante').lower()=='sim' else False,\n",
    "                            \"desobstrucaomon\": True if a.get('Desobstrução - Montante') and a.get('Desobstrução - Montante').lower()=='sim' else False,\n",
    "                            \"forehead_damagemon\": True if a.get('Testa ou ala danificada - Montante') and a.get('Testa ou ala danificada - Montante').lower()=='sim' else False,\n",
    "                            \"tube_damagemon\": True if a.get('Tubulação danificada - Montante') and a.get('Tubulação danificada - Montante').lower()=='sim' else False,\n",
    "                            \"box_damagemon\": True if a.get('Caixa danificada - Montante') and a.get('Caixa danificada - Montante').lower()=='sim' else False,\n",
    "                            \"erosionmon\": True if a.get('Erosão - Montante') and a.get('Erosão - Montante').lower()=='sim' else False,\n",
    "                            \"brokenmon\": True if a.get('Fissuras/trincas - Montante') and a.get('Fissuras/trincas - Montante').lower()=='sim' else False,\n",
    "                            \"cover_damagemon\": True if a.get('Tampa Danificada/Inexist - Montante') and a.get('Tampa Danificada/Inexist - Montante').lower()=='sim' else False,                                            \n",
    "                        })\n",
    "            \n",
    "#             rep_montante.save()\n",
    "        else:\n",
    "            rep_montante = rep_montante.first()\n",
    "            \n",
    "            \n",
    "        # Verificação Jusante, caso não exista cria\n",
    "        \n",
    "        rep_jusante=Reporting.objects.filter(occurrence_type=occurrence_type_elemento,form_data__code=a.get('Código Jusante'))\n",
    "        \n",
    "        if not rep_jusante.exists() and a.get('Código Jusante'):\n",
    "            if a.get('Latitude Jusante') and a.get('Longitude Jusante'):\n",
    "                point=Point(float(a.get('Longitude Jusante')), float(a.get('Latitude Jusante')), srid=4326)\n",
    "#                 _,_,point,_ =point_to_km(float(a.get('Longitude Jusante')),float(a.get('Latitude Jusante')),a['Rodovia'])\n",
    "            rep_jusante=Reporting(\n",
    "                        company=company,\n",
    "                        occurrence_type=occurrence_type_elemento,\n",
    "                        lane=str(get_connected_reference(company, 'reporting', 'lane', a['Faixa'])),\n",
    "                        road=road,\n",
    "                        road_name=a['Rodovia'],\n",
    "                        parent=Reporting.objects.filter(form_data__code=a.get('Código Jusante'),\n",
    "                                 company=company,\n",
    "                                 occurrence_type__occurrence_kind='2').first(),\n",
    "                        direction=str(get_connected_reference(company, 'reporting', 'direction', a['Sentido'])),\n",
    "                        created_by=user,\n",
    "                        found_at=a['Encontrado em'],\n",
    "                        executed_at=a['Executado em'],\n",
    "                        km=float(km),\n",
    "                        end_km_manually_specified=True if a['km final'] is not None else False,\n",
    "                        end_km=float(end_km) if a['km final'] is not None else None,\n",
    "                        point=point,\n",
    "                        firm=firm,\n",
    "                        status=status,\n",
    "                        form_data={\n",
    "                            \"element\": a[\"Elemento\"],\n",
    "                            \"hole_classification\": get_value('Estado Geral de Conservação da Caixa', occurrence_type_elemento, a[\"Estado de Conservação Jusante\"].strip()) if a.get(\"Estado de Conservação Jusante\") is not None else None,\n",
    "#                             \"exclude_element\": a[\"Elemento Excluído\"]select\n",
    "#                             \"exclusion_motive\": a[\"Motivo Exclusão\"]textArea\n",
    "                            \"latitude\": float(a.get('Latitude Jusante',0)),\n",
    "                            \"longitude\": float(a.get('Longitude Jusante',0)),\n",
    "                            \"zone\": get_value('Zona', occurrence_type_elemento, a[\"Zona\"].strip()) if a.get('Zona') else None,\n",
    "                            \"x_utm\": a[\"X UTM Jusante\"],\n",
    "                            \"y_utm\": a[\"Y UTM Jusante\"],\n",
    "                            \"entry_struc\": get_value('Estrutura Entrada', occurrence_type_elemento, a[\"Estrutura Entrada\"]) if a.get('Estrutura Entrada') else None,\n",
    "                            \"ambient_mon\": get_value('Ambiente', occurrence_type_elemento, a[\"Ambiente Jusante\"]) if a.get('Ambiente Jusante') else None,\n",
    "                            \"height\": a[\"Altura Jusante (m)\"],\n",
    "                            \"width\": a[\"Largura Jusante (m)\"],\n",
    "                            \"diameter\": a[\"Diâmetro Jusante (m)\"],\n",
    "                            \"code\": a[\"Código Jusante\"],\n",
    "                            \"material_rev_mont\": get_value('Material Revestimento', occurrence_type_elemento, a[\"Material Revestimento Jusante\"]) if a.get('Material Revestimento Jusante') else None,\n",
    "                            \"description_mat\": a.get(\"Descrição do Material\"),\n",
    "                            \"side_mont\": get_value('Lado', occurrence_type_elemento, a[\"Lado Jusante\"]) if a.get('Lado Jusante') else None,\n",
    "                            \"is_domain_stripmon\": True if a.get('Está na faixa de domínio? (Jusante)') and a.get('Está na faixa de domínio? (Jusante)').lower()=='sim' else False,\n",
    "                            \"works_drownmon\": True if a.get('Trabalha afogado? (Jusante)') and a.get('Trabalha afogado? (Jusante)').lower()=='sim' else False,\n",
    "                            \"cleaningmon\": True if a.get('Limpeza - Jusante') and a.get('Limpeza - Jusante').lower()=='sim' else False,\n",
    "                            \"rocada_mon\": True if a.get('Roçada - Jusante ') and a.get('Roçada - Jusante ').lower()=='sim' else False,\n",
    "                            \"desassoreamentomon\": True if a.get('Desassoreamento - Jusante') and a.get('Desassoreamento - Jusante').lower()=='sim' else False,\n",
    "                            \"desobstrucaomon\": True if a.get('Desobstrução - Jusante') and a.get('Desobstrução - Jusante').lower()=='sim' else False,\n",
    "                            \"forehead_damagemon\": True if a.get('Testa ou ala danificada - Jusante') and a.get('Testa ou ala danificada - Jusante').lower()=='sim' else False,\n",
    "                            \"tube_damagemon\": True if a.get('Tubulação danificada - Jusante') and a.get('Tubulação danificada - Jusante').lower()=='sim' else False,\n",
    "                            \"box_damagemon\": True if a.get('Caixa danificada - Jusante') and a.get('Caixa danificada - Jusante').lower()=='sim' else False,\n",
    "                            \"erosionmon\": True if a.get('Erosão - Jusante') and a.get('Erosão - Jusante').lower()=='sim' else False,\n",
    "                            \"brokenmon\": True if a.get('Fissuras/trincas - Jusante') and a.get('Fissuras/trincas - Jusante').lower()=='sim' else False,\n",
    "                            \"cover_damagemon\": True if a.get('Tampa Danificada/Inexist - Jusante') and a.get('Tampa Danificada/Inexist - Jusante').lower()=='sim' else False,                                            \n",
    "                        })\n",
    "            \n",
    "#             rep_jusante.save()\n",
    "        else:\n",
    "            rep_jusante = rep_jusante.first()\n",
    "    except Exception as e:\n",
    "        print('Linha:',index+2,'Ficha:',rep,\"Elemento Mon:\",rep_montante,\"Elemento Jus:\",rep_jusante)\n",
    "        print(e)\n",
    "        a['linha_errada'] = index+2\n",
    "#         erros.append(a)\n",
    "        pass"
   ]
  },
  {
   "cell_type": "code",
   "execution_count": 23,
   "metadata": {},
   "outputs": [
    {
     "ename": "OperationalError",
     "evalue": "SSL connection has been closed unexpectedly\n",
     "output_type": "error",
     "traceback": [
      "\u001b[0;31m---------------------------------------------------------------------------\u001b[0m",
      "\u001b[0;31mOperationalError\u001b[0m                          Traceback (most recent call last)",
      "\u001b[0;32m~/.cache/pypoetry/virtualenvs/apps-ZFymp6kh-py3.8/lib/python3.8/site-packages/django/db/backends/utils.py\u001b[0m in \u001b[0;36m_execute\u001b[0;34m(self, sql, params, *ignored_wrapper_args)\u001b[0m\n\u001b[1;32m     83\u001b[0m             \u001b[0;32melse\u001b[0m\u001b[0;34m:\u001b[0m\u001b[0;34m\u001b[0m\u001b[0;34m\u001b[0m\u001b[0m\n\u001b[0;32m---> 84\u001b[0;31m                 \u001b[0;32mreturn\u001b[0m \u001b[0mself\u001b[0m\u001b[0;34m.\u001b[0m\u001b[0mcursor\u001b[0m\u001b[0;34m.\u001b[0m\u001b[0mexecute\u001b[0m\u001b[0;34m(\u001b[0m\u001b[0msql\u001b[0m\u001b[0;34m,\u001b[0m \u001b[0mparams\u001b[0m\u001b[0;34m)\u001b[0m\u001b[0;34m\u001b[0m\u001b[0;34m\u001b[0m\u001b[0m\n\u001b[0m\u001b[1;32m     85\u001b[0m \u001b[0;34m\u001b[0m\u001b[0m\n",
      "\u001b[0;31mOperationalError\u001b[0m: SSL connection has been closed unexpectedly\n",
      "\nThe above exception was the direct cause of the following exception:\n",
      "\u001b[0;31mOperationalError\u001b[0m                          Traceback (most recent call last)",
      "\u001b[0;32m~/.cache/pypoetry/virtualenvs/apps-ZFymp6kh-py3.8/lib/python3.8/site-packages/IPython/core/formatters.py\u001b[0m in \u001b[0;36m__call__\u001b[0;34m(self, obj)\u001b[0m\n\u001b[1;32m    700\u001b[0m                 \u001b[0mtype_pprinters\u001b[0m\u001b[0;34m=\u001b[0m\u001b[0mself\u001b[0m\u001b[0;34m.\u001b[0m\u001b[0mtype_printers\u001b[0m\u001b[0;34m,\u001b[0m\u001b[0;34m\u001b[0m\u001b[0;34m\u001b[0m\u001b[0m\n\u001b[1;32m    701\u001b[0m                 deferred_pprinters=self.deferred_printers)\n\u001b[0;32m--> 702\u001b[0;31m             \u001b[0mprinter\u001b[0m\u001b[0;34m.\u001b[0m\u001b[0mpretty\u001b[0m\u001b[0;34m(\u001b[0m\u001b[0mobj\u001b[0m\u001b[0;34m)\u001b[0m\u001b[0;34m\u001b[0m\u001b[0;34m\u001b[0m\u001b[0m\n\u001b[0m\u001b[1;32m    703\u001b[0m             \u001b[0mprinter\u001b[0m\u001b[0;34m.\u001b[0m\u001b[0mflush\u001b[0m\u001b[0;34m(\u001b[0m\u001b[0;34m)\u001b[0m\u001b[0;34m\u001b[0m\u001b[0;34m\u001b[0m\u001b[0m\n\u001b[1;32m    704\u001b[0m             \u001b[0;32mreturn\u001b[0m \u001b[0mstream\u001b[0m\u001b[0;34m.\u001b[0m\u001b[0mgetvalue\u001b[0m\u001b[0;34m(\u001b[0m\u001b[0;34m)\u001b[0m\u001b[0;34m\u001b[0m\u001b[0;34m\u001b[0m\u001b[0m\n",
      "\u001b[0;32m~/.cache/pypoetry/virtualenvs/apps-ZFymp6kh-py3.8/lib/python3.8/site-packages/IPython/lib/pretty.py\u001b[0m in \u001b[0;36mpretty\u001b[0;34m(self, obj)\u001b[0m\n\u001b[1;32m    392\u001b[0m                         \u001b[0;32mif\u001b[0m \u001b[0mcls\u001b[0m \u001b[0;32mis\u001b[0m \u001b[0;32mnot\u001b[0m \u001b[0mobject\u001b[0m\u001b[0;31m \u001b[0m\u001b[0;31m\\\u001b[0m\u001b[0;34m\u001b[0m\u001b[0;34m\u001b[0m\u001b[0m\n\u001b[1;32m    393\u001b[0m                                 \u001b[0;32mand\u001b[0m \u001b[0mcallable\u001b[0m\u001b[0;34m(\u001b[0m\u001b[0mcls\u001b[0m\u001b[0;34m.\u001b[0m\u001b[0m__dict__\u001b[0m\u001b[0;34m.\u001b[0m\u001b[0mget\u001b[0m\u001b[0;34m(\u001b[0m\u001b[0;34m'__repr__'\u001b[0m\u001b[0;34m)\u001b[0m\u001b[0;34m)\u001b[0m\u001b[0;34m:\u001b[0m\u001b[0;34m\u001b[0m\u001b[0;34m\u001b[0m\u001b[0m\n\u001b[0;32m--> 394\u001b[0;31m                             \u001b[0;32mreturn\u001b[0m \u001b[0m_repr_pprint\u001b[0m\u001b[0;34m(\u001b[0m\u001b[0mobj\u001b[0m\u001b[0;34m,\u001b[0m \u001b[0mself\u001b[0m\u001b[0;34m,\u001b[0m \u001b[0mcycle\u001b[0m\u001b[0;34m)\u001b[0m\u001b[0;34m\u001b[0m\u001b[0;34m\u001b[0m\u001b[0m\n\u001b[0m\u001b[1;32m    395\u001b[0m \u001b[0;34m\u001b[0m\u001b[0m\n\u001b[1;32m    396\u001b[0m             \u001b[0;32mreturn\u001b[0m \u001b[0m_default_pprint\u001b[0m\u001b[0;34m(\u001b[0m\u001b[0mobj\u001b[0m\u001b[0;34m,\u001b[0m \u001b[0mself\u001b[0m\u001b[0;34m,\u001b[0m \u001b[0mcycle\u001b[0m\u001b[0;34m)\u001b[0m\u001b[0;34m\u001b[0m\u001b[0;34m\u001b[0m\u001b[0m\n",
      "\u001b[0;32m~/.cache/pypoetry/virtualenvs/apps-ZFymp6kh-py3.8/lib/python3.8/site-packages/IPython/lib/pretty.py\u001b[0m in \u001b[0;36m_repr_pprint\u001b[0;34m(obj, p, cycle)\u001b[0m\n\u001b[1;32m    698\u001b[0m     \u001b[0;34m\"\"\"A pprint that just redirects to the normal repr function.\"\"\"\u001b[0m\u001b[0;34m\u001b[0m\u001b[0;34m\u001b[0m\u001b[0m\n\u001b[1;32m    699\u001b[0m     \u001b[0;31m# Find newlines and replace them with p.break_()\u001b[0m\u001b[0;34m\u001b[0m\u001b[0;34m\u001b[0m\u001b[0;34m\u001b[0m\u001b[0m\n\u001b[0;32m--> 700\u001b[0;31m     \u001b[0moutput\u001b[0m \u001b[0;34m=\u001b[0m \u001b[0mrepr\u001b[0m\u001b[0;34m(\u001b[0m\u001b[0mobj\u001b[0m\u001b[0;34m)\u001b[0m\u001b[0;34m\u001b[0m\u001b[0;34m\u001b[0m\u001b[0m\n\u001b[0m\u001b[1;32m    701\u001b[0m     \u001b[0mlines\u001b[0m \u001b[0;34m=\u001b[0m \u001b[0moutput\u001b[0m\u001b[0;34m.\u001b[0m\u001b[0msplitlines\u001b[0m\u001b[0;34m(\u001b[0m\u001b[0;34m)\u001b[0m\u001b[0;34m\u001b[0m\u001b[0;34m\u001b[0m\u001b[0m\n\u001b[1;32m    702\u001b[0m     \u001b[0;32mwith\u001b[0m \u001b[0mp\u001b[0m\u001b[0;34m.\u001b[0m\u001b[0mgroup\u001b[0m\u001b[0;34m(\u001b[0m\u001b[0;34m)\u001b[0m\u001b[0;34m:\u001b[0m\u001b[0;34m\u001b[0m\u001b[0;34m\u001b[0m\u001b[0m\n",
      "\u001b[0;32m~/.cache/pypoetry/virtualenvs/apps-ZFymp6kh-py3.8/lib/python3.8/site-packages/django/db/models/query.py\u001b[0m in \u001b[0;36m__repr__\u001b[0;34m(self)\u001b[0m\n\u001b[1;32m    248\u001b[0m \u001b[0;34m\u001b[0m\u001b[0m\n\u001b[1;32m    249\u001b[0m     \u001b[0;32mdef\u001b[0m \u001b[0m__repr__\u001b[0m\u001b[0;34m(\u001b[0m\u001b[0mself\u001b[0m\u001b[0;34m)\u001b[0m\u001b[0;34m:\u001b[0m\u001b[0;34m\u001b[0m\u001b[0;34m\u001b[0m\u001b[0m\n\u001b[0;32m--> 250\u001b[0;31m         \u001b[0mdata\u001b[0m \u001b[0;34m=\u001b[0m \u001b[0mlist\u001b[0m\u001b[0;34m(\u001b[0m\u001b[0mself\u001b[0m\u001b[0;34m[\u001b[0m\u001b[0;34m:\u001b[0m\u001b[0mREPR_OUTPUT_SIZE\u001b[0m \u001b[0;34m+\u001b[0m \u001b[0;36m1\u001b[0m\u001b[0;34m]\u001b[0m\u001b[0;34m)\u001b[0m\u001b[0;34m\u001b[0m\u001b[0;34m\u001b[0m\u001b[0m\n\u001b[0m\u001b[1;32m    251\u001b[0m         \u001b[0;32mif\u001b[0m \u001b[0mlen\u001b[0m\u001b[0;34m(\u001b[0m\u001b[0mdata\u001b[0m\u001b[0;34m)\u001b[0m \u001b[0;34m>\u001b[0m \u001b[0mREPR_OUTPUT_SIZE\u001b[0m\u001b[0;34m:\u001b[0m\u001b[0;34m\u001b[0m\u001b[0;34m\u001b[0m\u001b[0m\n\u001b[1;32m    252\u001b[0m             \u001b[0mdata\u001b[0m\u001b[0;34m[\u001b[0m\u001b[0;34m-\u001b[0m\u001b[0;36m1\u001b[0m\u001b[0;34m]\u001b[0m \u001b[0;34m=\u001b[0m \u001b[0;34m\"...(remaining elements truncated)...\"\u001b[0m\u001b[0;34m\u001b[0m\u001b[0;34m\u001b[0m\u001b[0m\n",
      "\u001b[0;32m~/.cache/pypoetry/virtualenvs/apps-ZFymp6kh-py3.8/lib/python3.8/site-packages/django/db/models/query.py\u001b[0m in \u001b[0;36m__len__\u001b[0;34m(self)\u001b[0m\n\u001b[1;32m    254\u001b[0m \u001b[0;34m\u001b[0m\u001b[0m\n\u001b[1;32m    255\u001b[0m     \u001b[0;32mdef\u001b[0m \u001b[0m__len__\u001b[0m\u001b[0;34m(\u001b[0m\u001b[0mself\u001b[0m\u001b[0;34m)\u001b[0m\u001b[0;34m:\u001b[0m\u001b[0;34m\u001b[0m\u001b[0;34m\u001b[0m\u001b[0m\n\u001b[0;32m--> 256\u001b[0;31m         \u001b[0mself\u001b[0m\u001b[0;34m.\u001b[0m\u001b[0m_fetch_all\u001b[0m\u001b[0;34m(\u001b[0m\u001b[0;34m)\u001b[0m\u001b[0;34m\u001b[0m\u001b[0;34m\u001b[0m\u001b[0m\n\u001b[0m\u001b[1;32m    257\u001b[0m         \u001b[0;32mreturn\u001b[0m \u001b[0mlen\u001b[0m\u001b[0;34m(\u001b[0m\u001b[0mself\u001b[0m\u001b[0;34m.\u001b[0m\u001b[0m_result_cache\u001b[0m\u001b[0;34m)\u001b[0m\u001b[0;34m\u001b[0m\u001b[0;34m\u001b[0m\u001b[0m\n\u001b[1;32m    258\u001b[0m \u001b[0;34m\u001b[0m\u001b[0m\n",
      "\u001b[0;32m~/.cache/pypoetry/virtualenvs/apps-ZFymp6kh-py3.8/lib/python3.8/site-packages/django/db/models/query.py\u001b[0m in \u001b[0;36m_fetch_all\u001b[0;34m(self)\u001b[0m\n\u001b[1;32m   1240\u001b[0m     \u001b[0;32mdef\u001b[0m \u001b[0m_fetch_all\u001b[0m\u001b[0;34m(\u001b[0m\u001b[0mself\u001b[0m\u001b[0;34m)\u001b[0m\u001b[0;34m:\u001b[0m\u001b[0;34m\u001b[0m\u001b[0;34m\u001b[0m\u001b[0m\n\u001b[1;32m   1241\u001b[0m         \u001b[0;32mif\u001b[0m \u001b[0mself\u001b[0m\u001b[0;34m.\u001b[0m\u001b[0m_result_cache\u001b[0m \u001b[0;32mis\u001b[0m \u001b[0;32mNone\u001b[0m\u001b[0;34m:\u001b[0m\u001b[0;34m\u001b[0m\u001b[0;34m\u001b[0m\u001b[0m\n\u001b[0;32m-> 1242\u001b[0;31m             \u001b[0mself\u001b[0m\u001b[0;34m.\u001b[0m\u001b[0m_result_cache\u001b[0m \u001b[0;34m=\u001b[0m \u001b[0mlist\u001b[0m\u001b[0;34m(\u001b[0m\u001b[0mself\u001b[0m\u001b[0;34m.\u001b[0m\u001b[0m_iterable_class\u001b[0m\u001b[0;34m(\u001b[0m\u001b[0mself\u001b[0m\u001b[0;34m)\u001b[0m\u001b[0;34m)\u001b[0m\u001b[0;34m\u001b[0m\u001b[0;34m\u001b[0m\u001b[0m\n\u001b[0m\u001b[1;32m   1243\u001b[0m         \u001b[0;32mif\u001b[0m \u001b[0mself\u001b[0m\u001b[0;34m.\u001b[0m\u001b[0m_prefetch_related_lookups\u001b[0m \u001b[0;32mand\u001b[0m \u001b[0;32mnot\u001b[0m \u001b[0mself\u001b[0m\u001b[0;34m.\u001b[0m\u001b[0m_prefetch_done\u001b[0m\u001b[0;34m:\u001b[0m\u001b[0;34m\u001b[0m\u001b[0;34m\u001b[0m\u001b[0m\n\u001b[1;32m   1244\u001b[0m             \u001b[0mself\u001b[0m\u001b[0;34m.\u001b[0m\u001b[0m_prefetch_related_objects\u001b[0m\u001b[0;34m(\u001b[0m\u001b[0;34m)\u001b[0m\u001b[0;34m\u001b[0m\u001b[0;34m\u001b[0m\u001b[0m\n",
      "\u001b[0;32m~/.cache/pypoetry/virtualenvs/apps-ZFymp6kh-py3.8/lib/python3.8/site-packages/django/db/models/query.py\u001b[0m in \u001b[0;36m__iter__\u001b[0;34m(self)\u001b[0m\n\u001b[1;32m     53\u001b[0m         \u001b[0;31m# Execute the query. This will also fill compiler.select, klass_info,\u001b[0m\u001b[0;34m\u001b[0m\u001b[0;34m\u001b[0m\u001b[0;34m\u001b[0m\u001b[0m\n\u001b[1;32m     54\u001b[0m         \u001b[0;31m# and annotations.\u001b[0m\u001b[0;34m\u001b[0m\u001b[0;34m\u001b[0m\u001b[0;34m\u001b[0m\u001b[0m\n\u001b[0;32m---> 55\u001b[0;31m         \u001b[0mresults\u001b[0m \u001b[0;34m=\u001b[0m \u001b[0mcompiler\u001b[0m\u001b[0;34m.\u001b[0m\u001b[0mexecute_sql\u001b[0m\u001b[0;34m(\u001b[0m\u001b[0mchunked_fetch\u001b[0m\u001b[0;34m=\u001b[0m\u001b[0mself\u001b[0m\u001b[0;34m.\u001b[0m\u001b[0mchunked_fetch\u001b[0m\u001b[0;34m,\u001b[0m \u001b[0mchunk_size\u001b[0m\u001b[0;34m=\u001b[0m\u001b[0mself\u001b[0m\u001b[0;34m.\u001b[0m\u001b[0mchunk_size\u001b[0m\u001b[0;34m)\u001b[0m\u001b[0;34m\u001b[0m\u001b[0;34m\u001b[0m\u001b[0m\n\u001b[0m\u001b[1;32m     56\u001b[0m         select, klass_info, annotation_col_map = (compiler.select, compiler.klass_info,\n\u001b[1;32m     57\u001b[0m                                                   compiler.annotation_col_map)\n",
      "\u001b[0;32m~/.cache/pypoetry/virtualenvs/apps-ZFymp6kh-py3.8/lib/python3.8/site-packages/django/db/models/sql/compiler.py\u001b[0m in \u001b[0;36mexecute_sql\u001b[0;34m(self, result_type, chunked_fetch, chunk_size)\u001b[0m\n\u001b[1;32m   1140\u001b[0m             \u001b[0mcursor\u001b[0m \u001b[0;34m=\u001b[0m \u001b[0mself\u001b[0m\u001b[0;34m.\u001b[0m\u001b[0mconnection\u001b[0m\u001b[0;34m.\u001b[0m\u001b[0mcursor\u001b[0m\u001b[0;34m(\u001b[0m\u001b[0;34m)\u001b[0m\u001b[0;34m\u001b[0m\u001b[0;34m\u001b[0m\u001b[0m\n\u001b[1;32m   1141\u001b[0m         \u001b[0;32mtry\u001b[0m\u001b[0;34m:\u001b[0m\u001b[0;34m\u001b[0m\u001b[0;34m\u001b[0m\u001b[0m\n\u001b[0;32m-> 1142\u001b[0;31m             \u001b[0mcursor\u001b[0m\u001b[0;34m.\u001b[0m\u001b[0mexecute\u001b[0m\u001b[0;34m(\u001b[0m\u001b[0msql\u001b[0m\u001b[0;34m,\u001b[0m \u001b[0mparams\u001b[0m\u001b[0;34m)\u001b[0m\u001b[0;34m\u001b[0m\u001b[0;34m\u001b[0m\u001b[0m\n\u001b[0m\u001b[1;32m   1143\u001b[0m         \u001b[0;32mexcept\u001b[0m \u001b[0mException\u001b[0m\u001b[0;34m:\u001b[0m\u001b[0;34m\u001b[0m\u001b[0;34m\u001b[0m\u001b[0m\n\u001b[1;32m   1144\u001b[0m             \u001b[0;31m# Might fail for server-side cursors (e.g. connection closed)\u001b[0m\u001b[0;34m\u001b[0m\u001b[0;34m\u001b[0m\u001b[0;34m\u001b[0m\u001b[0m\n",
      "\u001b[0;32m~/.cache/pypoetry/virtualenvs/apps-ZFymp6kh-py3.8/lib/python3.8/site-packages/sentry_sdk/integrations/django/__init__.py\u001b[0m in \u001b[0;36mexecute\u001b[0;34m(self, sql, params)\u001b[0m\n\u001b[1;32m    575\u001b[0m             \u001b[0mhub\u001b[0m\u001b[0;34m,\u001b[0m \u001b[0mself\u001b[0m\u001b[0;34m.\u001b[0m\u001b[0mcursor\u001b[0m\u001b[0;34m,\u001b[0m \u001b[0msql\u001b[0m\u001b[0;34m,\u001b[0m \u001b[0mparams\u001b[0m\u001b[0;34m,\u001b[0m \u001b[0mparamstyle\u001b[0m\u001b[0;34m=\u001b[0m\u001b[0;34m\"format\"\u001b[0m\u001b[0;34m,\u001b[0m \u001b[0mexecutemany\u001b[0m\u001b[0;34m=\u001b[0m\u001b[0;32mFalse\u001b[0m\u001b[0;34m\u001b[0m\u001b[0;34m\u001b[0m\u001b[0m\n\u001b[1;32m    576\u001b[0m         ):\n\u001b[0;32m--> 577\u001b[0;31m             \u001b[0;32mreturn\u001b[0m \u001b[0mreal_execute\u001b[0m\u001b[0;34m(\u001b[0m\u001b[0mself\u001b[0m\u001b[0;34m,\u001b[0m \u001b[0msql\u001b[0m\u001b[0;34m,\u001b[0m \u001b[0mparams\u001b[0m\u001b[0;34m)\u001b[0m\u001b[0;34m\u001b[0m\u001b[0;34m\u001b[0m\u001b[0m\n\u001b[0m\u001b[1;32m    578\u001b[0m \u001b[0;34m\u001b[0m\u001b[0m\n\u001b[1;32m    579\u001b[0m     \u001b[0;32mdef\u001b[0m \u001b[0mexecutemany\u001b[0m\u001b[0;34m(\u001b[0m\u001b[0mself\u001b[0m\u001b[0;34m,\u001b[0m \u001b[0msql\u001b[0m\u001b[0;34m,\u001b[0m \u001b[0mparam_list\u001b[0m\u001b[0;34m)\u001b[0m\u001b[0;34m:\u001b[0m\u001b[0;34m\u001b[0m\u001b[0;34m\u001b[0m\u001b[0m\n",
      "\u001b[0;32m~/.cache/pypoetry/virtualenvs/apps-ZFymp6kh-py3.8/lib/python3.8/site-packages/django/db/backends/utils.py\u001b[0m in \u001b[0;36mexecute\u001b[0;34m(self, sql, params)\u001b[0m\n\u001b[1;32m     65\u001b[0m \u001b[0;34m\u001b[0m\u001b[0m\n\u001b[1;32m     66\u001b[0m     \u001b[0;32mdef\u001b[0m \u001b[0mexecute\u001b[0m\u001b[0;34m(\u001b[0m\u001b[0mself\u001b[0m\u001b[0;34m,\u001b[0m \u001b[0msql\u001b[0m\u001b[0;34m,\u001b[0m \u001b[0mparams\u001b[0m\u001b[0;34m=\u001b[0m\u001b[0;32mNone\u001b[0m\u001b[0;34m)\u001b[0m\u001b[0;34m:\u001b[0m\u001b[0;34m\u001b[0m\u001b[0;34m\u001b[0m\u001b[0m\n\u001b[0;32m---> 67\u001b[0;31m         \u001b[0;32mreturn\u001b[0m \u001b[0mself\u001b[0m\u001b[0;34m.\u001b[0m\u001b[0m_execute_with_wrappers\u001b[0m\u001b[0;34m(\u001b[0m\u001b[0msql\u001b[0m\u001b[0;34m,\u001b[0m \u001b[0mparams\u001b[0m\u001b[0;34m,\u001b[0m \u001b[0mmany\u001b[0m\u001b[0;34m=\u001b[0m\u001b[0;32mFalse\u001b[0m\u001b[0;34m,\u001b[0m \u001b[0mexecutor\u001b[0m\u001b[0;34m=\u001b[0m\u001b[0mself\u001b[0m\u001b[0;34m.\u001b[0m\u001b[0m_execute\u001b[0m\u001b[0;34m)\u001b[0m\u001b[0;34m\u001b[0m\u001b[0;34m\u001b[0m\u001b[0m\n\u001b[0m\u001b[1;32m     68\u001b[0m \u001b[0;34m\u001b[0m\u001b[0m\n\u001b[1;32m     69\u001b[0m     \u001b[0;32mdef\u001b[0m \u001b[0mexecutemany\u001b[0m\u001b[0;34m(\u001b[0m\u001b[0mself\u001b[0m\u001b[0;34m,\u001b[0m \u001b[0msql\u001b[0m\u001b[0;34m,\u001b[0m \u001b[0mparam_list\u001b[0m\u001b[0;34m)\u001b[0m\u001b[0;34m:\u001b[0m\u001b[0;34m\u001b[0m\u001b[0;34m\u001b[0m\u001b[0m\n",
      "\u001b[0;32m~/.cache/pypoetry/virtualenvs/apps-ZFymp6kh-py3.8/lib/python3.8/site-packages/django/db/backends/utils.py\u001b[0m in \u001b[0;36m_execute_with_wrappers\u001b[0;34m(self, sql, params, many, executor)\u001b[0m\n\u001b[1;32m     74\u001b[0m         \u001b[0;32mfor\u001b[0m \u001b[0mwrapper\u001b[0m \u001b[0;32min\u001b[0m \u001b[0mreversed\u001b[0m\u001b[0;34m(\u001b[0m\u001b[0mself\u001b[0m\u001b[0;34m.\u001b[0m\u001b[0mdb\u001b[0m\u001b[0;34m.\u001b[0m\u001b[0mexecute_wrappers\u001b[0m\u001b[0;34m)\u001b[0m\u001b[0;34m:\u001b[0m\u001b[0;34m\u001b[0m\u001b[0;34m\u001b[0m\u001b[0m\n\u001b[1;32m     75\u001b[0m             \u001b[0mexecutor\u001b[0m \u001b[0;34m=\u001b[0m \u001b[0mfunctools\u001b[0m\u001b[0;34m.\u001b[0m\u001b[0mpartial\u001b[0m\u001b[0;34m(\u001b[0m\u001b[0mwrapper\u001b[0m\u001b[0;34m,\u001b[0m \u001b[0mexecutor\u001b[0m\u001b[0;34m)\u001b[0m\u001b[0;34m\u001b[0m\u001b[0;34m\u001b[0m\u001b[0m\n\u001b[0;32m---> 76\u001b[0;31m         \u001b[0;32mreturn\u001b[0m \u001b[0mexecutor\u001b[0m\u001b[0;34m(\u001b[0m\u001b[0msql\u001b[0m\u001b[0;34m,\u001b[0m \u001b[0mparams\u001b[0m\u001b[0;34m,\u001b[0m \u001b[0mmany\u001b[0m\u001b[0;34m,\u001b[0m \u001b[0mcontext\u001b[0m\u001b[0;34m)\u001b[0m\u001b[0;34m\u001b[0m\u001b[0;34m\u001b[0m\u001b[0m\n\u001b[0m\u001b[1;32m     77\u001b[0m \u001b[0;34m\u001b[0m\u001b[0m\n\u001b[1;32m     78\u001b[0m     \u001b[0;32mdef\u001b[0m \u001b[0m_execute\u001b[0m\u001b[0;34m(\u001b[0m\u001b[0mself\u001b[0m\u001b[0;34m,\u001b[0m \u001b[0msql\u001b[0m\u001b[0;34m,\u001b[0m \u001b[0mparams\u001b[0m\u001b[0;34m,\u001b[0m \u001b[0;34m*\u001b[0m\u001b[0mignored_wrapper_args\u001b[0m\u001b[0;34m)\u001b[0m\u001b[0;34m:\u001b[0m\u001b[0;34m\u001b[0m\u001b[0;34m\u001b[0m\u001b[0m\n",
      "\u001b[0;32m~/.cache/pypoetry/virtualenvs/apps-ZFymp6kh-py3.8/lib/python3.8/site-packages/django/db/backends/utils.py\u001b[0m in \u001b[0;36m_execute\u001b[0;34m(self, sql, params, *ignored_wrapper_args)\u001b[0m\n\u001b[1;32m     82\u001b[0m                 \u001b[0;32mreturn\u001b[0m \u001b[0mself\u001b[0m\u001b[0;34m.\u001b[0m\u001b[0mcursor\u001b[0m\u001b[0;34m.\u001b[0m\u001b[0mexecute\u001b[0m\u001b[0;34m(\u001b[0m\u001b[0msql\u001b[0m\u001b[0;34m)\u001b[0m\u001b[0;34m\u001b[0m\u001b[0;34m\u001b[0m\u001b[0m\n\u001b[1;32m     83\u001b[0m             \u001b[0;32melse\u001b[0m\u001b[0;34m:\u001b[0m\u001b[0;34m\u001b[0m\u001b[0;34m\u001b[0m\u001b[0m\n\u001b[0;32m---> 84\u001b[0;31m                 \u001b[0;32mreturn\u001b[0m \u001b[0mself\u001b[0m\u001b[0;34m.\u001b[0m\u001b[0mcursor\u001b[0m\u001b[0;34m.\u001b[0m\u001b[0mexecute\u001b[0m\u001b[0;34m(\u001b[0m\u001b[0msql\u001b[0m\u001b[0;34m,\u001b[0m \u001b[0mparams\u001b[0m\u001b[0;34m)\u001b[0m\u001b[0;34m\u001b[0m\u001b[0;34m\u001b[0m\u001b[0m\n\u001b[0m\u001b[1;32m     85\u001b[0m \u001b[0;34m\u001b[0m\u001b[0m\n\u001b[1;32m     86\u001b[0m     \u001b[0;32mdef\u001b[0m \u001b[0m_executemany\u001b[0m\u001b[0;34m(\u001b[0m\u001b[0mself\u001b[0m\u001b[0;34m,\u001b[0m \u001b[0msql\u001b[0m\u001b[0;34m,\u001b[0m \u001b[0mparam_list\u001b[0m\u001b[0;34m,\u001b[0m \u001b[0;34m*\u001b[0m\u001b[0mignored_wrapper_args\u001b[0m\u001b[0;34m)\u001b[0m\u001b[0;34m:\u001b[0m\u001b[0;34m\u001b[0m\u001b[0;34m\u001b[0m\u001b[0m\n",
      "\u001b[0;32m~/.cache/pypoetry/virtualenvs/apps-ZFymp6kh-py3.8/lib/python3.8/site-packages/django/db/utils.py\u001b[0m in \u001b[0;36m__exit__\u001b[0;34m(self, exc_type, exc_value, traceback)\u001b[0m\n\u001b[1;32m     87\u001b[0m                 \u001b[0;32mif\u001b[0m \u001b[0mdj_exc_type\u001b[0m \u001b[0;32mnot\u001b[0m \u001b[0;32min\u001b[0m \u001b[0;34m(\u001b[0m\u001b[0mDataError\u001b[0m\u001b[0;34m,\u001b[0m \u001b[0mIntegrityError\u001b[0m\u001b[0;34m)\u001b[0m\u001b[0;34m:\u001b[0m\u001b[0;34m\u001b[0m\u001b[0;34m\u001b[0m\u001b[0m\n\u001b[1;32m     88\u001b[0m                     \u001b[0mself\u001b[0m\u001b[0;34m.\u001b[0m\u001b[0mwrapper\u001b[0m\u001b[0;34m.\u001b[0m\u001b[0merrors_occurred\u001b[0m \u001b[0;34m=\u001b[0m \u001b[0;32mTrue\u001b[0m\u001b[0;34m\u001b[0m\u001b[0;34m\u001b[0m\u001b[0m\n\u001b[0;32m---> 89\u001b[0;31m                 \u001b[0;32mraise\u001b[0m \u001b[0mdj_exc_value\u001b[0m\u001b[0;34m.\u001b[0m\u001b[0mwith_traceback\u001b[0m\u001b[0;34m(\u001b[0m\u001b[0mtraceback\u001b[0m\u001b[0;34m)\u001b[0m \u001b[0;32mfrom\u001b[0m \u001b[0mexc_value\u001b[0m\u001b[0;34m\u001b[0m\u001b[0;34m\u001b[0m\u001b[0m\n\u001b[0m\u001b[1;32m     90\u001b[0m \u001b[0;34m\u001b[0m\u001b[0m\n\u001b[1;32m     91\u001b[0m     \u001b[0;32mdef\u001b[0m \u001b[0m__call__\u001b[0m\u001b[0;34m(\u001b[0m\u001b[0mself\u001b[0m\u001b[0;34m,\u001b[0m \u001b[0mfunc\u001b[0m\u001b[0;34m)\u001b[0m\u001b[0;34m:\u001b[0m\u001b[0;34m\u001b[0m\u001b[0;34m\u001b[0m\u001b[0m\n",
      "\u001b[0;32m~/.cache/pypoetry/virtualenvs/apps-ZFymp6kh-py3.8/lib/python3.8/site-packages/django/db/backends/utils.py\u001b[0m in \u001b[0;36m_execute\u001b[0;34m(self, sql, params, *ignored_wrapper_args)\u001b[0m\n\u001b[1;32m     82\u001b[0m                 \u001b[0;32mreturn\u001b[0m \u001b[0mself\u001b[0m\u001b[0;34m.\u001b[0m\u001b[0mcursor\u001b[0m\u001b[0;34m.\u001b[0m\u001b[0mexecute\u001b[0m\u001b[0;34m(\u001b[0m\u001b[0msql\u001b[0m\u001b[0;34m)\u001b[0m\u001b[0;34m\u001b[0m\u001b[0;34m\u001b[0m\u001b[0m\n\u001b[1;32m     83\u001b[0m             \u001b[0;32melse\u001b[0m\u001b[0;34m:\u001b[0m\u001b[0;34m\u001b[0m\u001b[0;34m\u001b[0m\u001b[0m\n\u001b[0;32m---> 84\u001b[0;31m                 \u001b[0;32mreturn\u001b[0m \u001b[0mself\u001b[0m\u001b[0;34m.\u001b[0m\u001b[0mcursor\u001b[0m\u001b[0;34m.\u001b[0m\u001b[0mexecute\u001b[0m\u001b[0;34m(\u001b[0m\u001b[0msql\u001b[0m\u001b[0;34m,\u001b[0m \u001b[0mparams\u001b[0m\u001b[0;34m)\u001b[0m\u001b[0;34m\u001b[0m\u001b[0;34m\u001b[0m\u001b[0m\n\u001b[0m\u001b[1;32m     85\u001b[0m \u001b[0;34m\u001b[0m\u001b[0m\n\u001b[1;32m     86\u001b[0m     \u001b[0;32mdef\u001b[0m \u001b[0m_executemany\u001b[0m\u001b[0;34m(\u001b[0m\u001b[0mself\u001b[0m\u001b[0;34m,\u001b[0m \u001b[0msql\u001b[0m\u001b[0;34m,\u001b[0m \u001b[0mparam_list\u001b[0m\u001b[0;34m,\u001b[0m \u001b[0;34m*\u001b[0m\u001b[0mignored_wrapper_args\u001b[0m\u001b[0;34m)\u001b[0m\u001b[0;34m:\u001b[0m\u001b[0;34m\u001b[0m\u001b[0;34m\u001b[0m\u001b[0m\n",
      "\u001b[0;31mOperationalError\u001b[0m: SSL connection has been closed unexpectedly\n"
     ]
    }
   ],
   "source": [
    "Reporting.objects.filter(occurrence_type=occurrence_type_elemento,form_data__code=values[1].get('Código Montante'))"
   ]
  },
  {
   "cell_type": "code",
   "execution_count": null,
   "metadata": {},
   "outputs": [],
   "source": []
  }
 ],
 "metadata": {
  "kernelspec": {
   "display_name": "Django Shell-Plus",
   "language": "python",
   "name": "django_extensions"
  },
  "language_info": {
   "codemirror_mode": {
    "name": "ipython",
    "version": 3
   },
   "file_extension": ".py",
   "mimetype": "text/x-python",
   "name": "python",
   "nbconvert_exporter": "python",
   "pygments_lexer": "ipython3",
   "version": "3.8.16"
  }
 },
 "nbformat": 4,
 "nbformat_minor": 2
}
