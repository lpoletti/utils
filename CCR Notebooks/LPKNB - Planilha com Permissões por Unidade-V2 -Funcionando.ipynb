{
 "cells": [
  {
   "cell_type": "markdown",
   "id": "5a4934cf",
   "metadata": {},
   "source": [
    "# Planilha com Permissões"
   ]
  },
  {
   "cell_type": "code",
   "execution_count": 1,
   "id": "a16ba083",
   "metadata": {},
   "outputs": [],
   "source": [
    "import pandas as pd\n",
    "import openpyxl as op\n",
    "from tqdm.notebook import tqdm\n",
    "from copy import deepcopy\n",
    "from openpyxl.styles import Font, Fill,PatternFill,Alignment"
   ]
  },
  {
   "cell_type": "markdown",
   "id": "e6e36338",
   "metadata": {},
   "source": [
    "### Seleciona-se a Unidade e Cria-se o arquivo"
   ]
  },
  {
   "cell_type": "code",
   "execution_count": 2,
   "id": "b0bb297c",
   "metadata": {},
   "outputs": [
    {
     "data": {
      "text/plain": [
       "(<Company: 3af64f25-59e8-446b-bb1e-963549090b0d: CCR - Rio Sp>,\n",
       " 'CCR_-_Rio_Sp_Permissoes')"
      ]
     },
     "execution_count": 2,
     "metadata": {},
     "output_type": "execute_result"
    }
   ],
   "source": [
    "company = Company.objects.get(name__exact=\"CCR - Rio Sp\")\n",
    "filename = company.name.replace(' ','_')+'_Permissoes'\n",
    "pd.DataFrame().to_excel(filename+'.xlsx')\n",
    "wb=op.load_workbook(filename+'.xlsx')\n",
    "wb['Sheet1'].title = \"Disclaimer\"\n",
    "company,filename"
   ]
  },
  {
   "cell_type": "markdown",
   "id": "8963eba6",
   "metadata": {},
   "source": [
    "### Pega-se as permissões dessa unidade"
   ]
  },
  {
   "cell_type": "code",
   "execution_count": 3,
   "id": "4fec4002",
   "metadata": {},
   "outputs": [
    {
     "name": "stdout",
     "output_type": "stream",
     "text": [
      "14\n"
     ]
    }
   ],
   "source": [
    "perm = UserPermission.objects.filter(companies=company)\n",
    "print(perm.count())"
   ]
  },
  {
   "cell_type": "markdown",
   "id": "f383e733",
   "metadata": {},
   "source": [
    "# Lista para Tradução/Funções para Tradução"
   ]
  },
  {
   "cell_type": "code",
   "execution_count": 4,
   "id": "ea3b8c41",
   "metadata": {
    "scrolled": true
   },
   "outputs": [
    {
     "name": "stdout",
     "output_type": "stream",
     "text": [
      "Feitoooooooooooo!!!\n"
     ]
    }
   ],
   "source": [
    "%run 'LPKNB - Traducao.ipynb'"
   ]
  },
  {
   "cell_type": "markdown",
   "id": "50c78261",
   "metadata": {},
   "source": [
    "# Disclaimer"
   ]
  },
  {
   "cell_type": "code",
   "execution_count": 5,
   "id": "4b5746f2",
   "metadata": {},
   "outputs": [
    {
     "data": {
      "application/vnd.jupyter.widget-view+json": {
       "model_id": "250ba78d606b4776bf4f607c44629675",
       "version_major": 2,
       "version_minor": 0
      },
      "text/plain": [
       "  0%|          | 0/14 [00:00<?, ?it/s]"
      ]
     },
     "metadata": {},
     "output_type": "display_data"
    }
   ],
   "source": [
    "sisPerm={}\n",
    "for dataU in tqdm(perm): \n",
    "    sisPerm[dataU.name]=\"\"\n",
    "for i,d in enumerate(sisPerm.keys(),1):\n",
    "    if i==1:\n",
    "        wb.active.cell(row=i,column = 10).value = \"Permissões do sistema\"\n",
    "        continue\n",
    "    wb.active.cell(row=i,column = 10).value = d\n",
    "wb.active.cell(row=2,column = 2).value = 'Cada nível de permissão está em uma aba diferente com as informações do que pode o que não pode ser feito no sistema.'\n",
    "wb.active.merge_cells('B2:H4')\n",
    "wb.active.cell(row=2,column = 2).fill = PatternFill(\"solid\", start_color=\"C5D9F1\")\n",
    "wb.active.cell(row=2,column = 2).alignment = Alignment(horizontal=\"center\", vertical=\"center\")\n",
    "wb.active.cell(row=6,column = 2).value = 'Na coluna A estão os itens do sistema Kartado'\n",
    "wb.active.merge_cells('B6:H8')\n",
    "wb.active.cell(row=6,column = 2).fill = PatternFill(\"solid\", start_color=\"DCE6F0\")\n",
    "wb.active.cell(row=6,column = 2).alignment = Alignment(horizontal=\"center\", vertical=\"center\")\n",
    "wb.active.cell(row=10,column = 2).value = 'Na linha 1 são as ações que podem ser executadas sobre os itens'\n",
    "wb.active.merge_cells('B10:H12')\n",
    "wb.active.cell(row=10,column = 2).fill = PatternFill(\"solid\", start_color=\"DBEEF4\")\n",
    "wb.active.cell(row=10,column = 2).alignment = Alignment(horizontal=\"center\", vertical=\"center\")\n",
    "\n",
    "wb.save(filename+'.xlsx')"
   ]
  },
  {
   "cell_type": "markdown",
   "id": "4e4b7631",
   "metadata": {},
   "source": [
    "# Criação dos dados traduzidos em dicionário e Criação da Planilha de Excel"
   ]
  },
  {
   "cell_type": "code",
   "execution_count": 6,
   "id": "4f86cc55",
   "metadata": {
    "scrolled": false
   },
   "outputs": [
    {
     "data": {
      "application/vnd.jupyter.widget-view+json": {
       "model_id": "ef4146e7dc0346c6a3526f0cc47e8a80",
       "version_major": 2,
       "version_minor": 0
      },
      "text/plain": [
       "  0%|          | 0/14 [00:00<?, ?it/s]"
      ]
     },
     "metadata": {},
     "output_type": "display_data"
    }
   ],
   "source": [
    "sheetname =\"\"\n",
    "for dataU in tqdm(perm):\n",
    "    index={}\n",
    "    sheetname = dataU.name.translate(str.maketrans('', '', './,!?'))[:15]\n",
    "    for key,value in dataU.permissions.items():\n",
    "        key = traduzirTexto(key)\n",
    "        value = traduzirDict(value)\n",
    "        index[key]=value\n",
    "        \n",
    "    df2 = pd.DataFrame(data=index.values(),index=index.keys())\n",
    "    with pd.ExcelWriter(filename+'.xlsx',engine=\"openpyxl\", mode='a',if_sheet_exists='replace') as writer:\n",
    "        df2.to_excel(writer,sheet_name=sheetname,na_rep=\"-\")"
   ]
  },
  {
   "cell_type": "code",
   "execution_count": 17,
   "id": "f203026a",
   "metadata": {},
   "outputs": [
    {
     "name": "stdout",
     "output_type": "stream",
     "text": [
      "Package                     Version     Editable project location\n",
      "--------------------------- ----------- --------------------------\n",
      "anyio                       3.7.1\n",
      "appdirs                     1.4.4\n",
      "apps                        0.1.0       /home/luan/kartado-backend\n",
      "argcomplete                 3.1.1\n",
      "argon2-cffi                 21.3.0\n",
      "argon2-cffi-bindings        21.2.0\n",
      "arrow                       0.17.0\n",
      "aspy.yaml                   1.3.0\n",
      "attrs                       23.1.0\n",
      "autopep8                    2.0.0\n",
      "aws-xray-sdk                2.10.0\n",
      "backcall                    0.2.0\n",
      "beautifulsoup4              4.12.2\n",
      "black                       22.6.0\n",
      "bleach                      6.0.0\n",
      "boto                        2.49.0\n",
      "boto3                       1.17.112\n",
      "botocore                    1.20.112\n",
      "Brotli                      1.1.0\n",
      "build                       0.10.0\n",
      "CacheControl                0.13.1\n",
      "cairocffi                   1.6.1\n",
      "CairoSVG                    2.7.1\n",
      "certifi                     2023.5.7\n",
      "cffi                        1.15.1\n",
      "cfgv                        3.3.1\n",
      "cfn-flip                    1.3.0\n",
      "chardet                     5.1.0\n",
      "charset-normalizer          3.2.0\n",
      "click                       8.1.5\n",
      "Collectfast                 0.6.2\n",
      "comtele-sdk                 1.1.5\n",
      "coreapi                     2.3.3\n",
      "coreschema                  0.0.4\n",
      "coverage                    7.2.7\n",
      "cryptography                41.0.2\n",
      "cssselect                   1.2.0\n",
      "cssselect2                  0.7.0\n",
      "cssutils                    2.7.1\n",
      "debugpy                     1.6.7\n",
      "decorator                   5.1.1\n",
      "defusedxml                  0.7.1\n",
      "distlib                     0.3.7\n",
      "dj-database-url             0.5.0\n",
      "Django                      2.2.28\n",
      "django-bulk-update          2.2.0\n",
      "django-cors-headers         2.5.3\n",
      "django-crispy-forms         1.14.0\n",
      "django-extensions           2.2.9\n",
      "django-extra-fields         1.0.0\n",
      "django-fieldsignals         0.3.4\n",
      "django-filter               2.0.0\n",
      "django-premailer            0.2.0\n",
      "django-rest-auth            0.9.5\n",
      "django-rest-passwordreset   1.0.0\n",
      "django-scarface             3.2.1\n",
      "django-sequences            2.6\n",
      "django-ses                  0.8.14\n",
      "django-silk                 3.0.4\n",
      "django-simple-history       2.12.0\n",
      "django-storages             1.7.2\n",
      "djangorestframework         3.8.2\n",
      "djangorestframework-gis     0.18\n",
      "djangorestframework-jsonapi 2.8.0\n",
      "djangorestframework-jwt     1.11.0\n",
      "drf-nested-routers          0.93.4\n",
      "drf-yasg                    1.17.1\n",
      "durationpy                  0.5\n",
      "entrypoints                 0.4\n",
      "et-xmlfile                  1.1.0\n",
      "exceptiongroup              1.1.2\n",
      "execnet                     2.0.2\n",
      "fastjsonschema              2.17.1\n",
      "filelock                    3.12.2\n",
      "flake8                      5.0.4\n",
      "fnc                         0.5.3\n",
      "fonttools                   4.38.0\n",
      "future                      0.16.0\n",
      "geobuf                      1.1.1\n",
      "geographiclib               1.52\n",
      "geojson                     2.5.0\n",
      "geopy                       1.23.0\n",
      "gitdb                       4.0.10\n",
      "GitPython                   3.1.32\n",
      "googlemaps                  3.0.2\n",
      "gprof2dot                   2022.7.29\n",
      "hjson                       3.1.0\n",
      "html5lib                    1.1\n",
      "identify                    2.5.24\n",
      "idna                        3.4\n",
      "importlib-metadata          4.2.0\n",
      "importlib-resources         5.12.0\n",
      "inflection                  0.5.1\n",
      "ipdb                        0.13.13\n",
      "ipykernel                   6.16.2\n",
      "ipython                     7.34.0\n",
      "ipython-genutils            0.2.0\n",
      "ipywidgets                  8.0.7\n",
      "iso3166                     2.1.1\n",
      "isort                       5.11.5\n",
      "itypes                      1.2.0\n",
      "jedi                        0.18.2\n",
      "Jinja2                      3.1.2\n",
      "jmespath                    0.10.0\n",
      "json-logic-qubit            0.9.1\n",
      "jsonschema                  4.17.3\n",
      "jupyter                     1.0.0\n",
      "jupyter_client              7.4.9\n",
      "jupyter-console             6.6.3\n",
      "jupyter_core                4.12.0\n",
      "jupyter-server              1.24.0\n",
      "jupyterlab-pygments         0.2.2\n",
      "jupyterlab-widgets          3.0.8\n",
      "kappa                       0.6.0\n",
      "lxml                        4.9.3\n",
      "mapbox                      0.16.2\n",
      "MarkupSafe                  2.1.3\n",
      "matplotlib-inline           0.1.6\n",
      "mccabe                      0.7.0\n",
      "mistune                     3.0.1\n",
      "more-itertools              9.1.0\n",
      "msgpack                     1.0.5\n",
      "mypy-extensions             1.0.0\n",
      "nbclassic                   1.0.0\n",
      "nbclient                    0.7.4\n",
      "nbconvert                   7.6.0\n",
      "nbformat                    5.8.0\n",
      "nest-asyncio                1.5.6\n",
      "nodeenv                     1.8.0\n",
      "notebook                    6.5.4\n",
      "notebook_shim               0.2.3\n",
      "numpy                       1.21.6\n",
      "openpyxl                    3.0.9\n",
      "packaging                   23.1\n",
      "pandas                      1.3.5\n",
      "pandocfilters               1.5.0\n",
      "parso                       0.8.3\n",
      "pathspec                    0.11.1\n",
      "pdfminer.six                20201018\n",
      "pep517                      0.13.0\n",
      "pexpect                     4.8.0\n",
      "pickleshare                 0.7.5\n",
      "Pillow                      8.0.1\n",
      "pip                         23.2\n",
      "pip-tools                   6.14.0\n",
      "pkgutil_resolve_name        1.3.10\n",
      "placebo                     0.10.0\n",
      "platformdirs                3.9.1\n",
      "pluggy                      0.13.1\n",
      "polyline                    2.0.0\n",
      "postgis                     1.0.4\n",
      "pre-commit                  1.21.0\n",
      "premailer                   3.0.0\n",
      "prometheus-client           0.17.1\n",
      "prompt-toolkit              3.0.39\n",
      "protobuf                    3.20.3\n",
      "psutil                      5.9.5\n",
      "psycopg2-binary             2.8.6\n",
      "ptyprocess                  0.7.0\n",
      "py                          1.11.0\n",
      "pycodestyle                 2.9.1\n",
      "pycparser                   2.21\n",
      "pydot                       1.4.2\n",
      "pydyf                       0.8.0\n",
      "pyflakes                    2.5.0\n",
      "Pygments                    2.15.1\n",
      "PyJWT                       1.7.1\n",
      "PyMuPDF                     1.18.19\n",
      "pyOpenSSL                   23.2.0\n",
      "pyparsing                   3.0.9\n",
      "pyphen                      0.14.0\n",
      "pyproj                      3.2.1\n",
      "pyproject_hooks             1.0.0\n",
      "pyrsistent                  0.19.3\n",
      "pysaml2                     4.9.0\n",
      "pyshp                       2.1.3\n",
      "pytest                      5.4.3\n",
      "pytest-cov                  2.12.1\n",
      "pytest-django               3.10.0\n",
      "pytest-forked               1.6.0\n",
      "pytest-json-report          1.5.0\n",
      "pytest-metadata             2.0.4\n",
      "pytest-xdist                1.34.0\n",
      "python-dateutil             2.8.2\n",
      "python-decouple             3.1\n",
      "python-dotenv               0.20.0\n",
      "python-gitlab               1.15.0\n",
      "python-slugify              8.0.1\n",
      "pytz                        2023.3\n",
      "PyYAML                      6.0.1\n",
      "pyzmq                       25.1.0\n",
      "qtconsole                   5.4.3\n",
      "QtPy                        2.3.1\n",
      "requests                    2.31.0\n",
      "ruamel.yaml                 0.17.32\n",
      "ruamel.yaml.clib            0.2.7\n",
      "s3transfer                  0.4.2\n",
      "Send2Trash                  1.8.2\n",
      "sentry-sdk                  1.14.0\n",
      "setuptools                  57.5.0\n",
      "Shapely                     1.8.5.post1\n",
      "six                         1.16.0\n",
      "smmap                       5.0.0\n",
      "sniffio                     1.3.0\n",
      "sortedcontainers            2.4.0\n",
      "soupsieve                   2.4.1\n",
      "sqlparse                    0.4.4\n",
      "terminado                   0.17.1\n",
      "text-unidecode              1.3\n",
      "tinycss2                    1.2.1\n",
      "toml                        0.10.2\n",
      "tomli                       2.0.1\n",
      "tornado                     6.2\n",
      "tqdm                        4.64.1\n",
      "traitlets                   5.9.0\n",
      "troposphere                 4.3.2\n",
      "typed-ast                   1.5.5\n",
      "typing_extensions           4.7.1\n",
      "uritemplate                 4.1.1\n",
      "urllib3                     1.26.16\n",
      "virtualenv                  20.4.7\n",
      "wcwidth                     0.2.6\n",
      "WeasyPrint                  52.5\n",
      "webencodings                0.5.1\n",
      "websocket-client            1.6.1\n",
      "Werkzeug                    2.2.3\n",
      "wheel                       0.40.0\n",
      "widgetsnbextension          4.0.8\n",
      "wrapt                       1.15.0\n",
      "wsgi-request-logger         0.4.6\n",
      "XlsxWriter                  3.1.2\n",
      "xmlsec                      1.3.13\n",
      "yarg                        0.1.9\n",
      "zappa                       0.54.2\n",
      "zipp                        3.15.0\n",
      "zopfli                      0.2.2\n"
     ]
    }
   ],
   "source": [
    "!pip list"
   ]
  },
  {
   "cell_type": "code",
   "execution_count": null,
   "id": "ad1c875a",
   "metadata": {},
   "outputs": [],
   "source": []
  },
  {
   "cell_type": "code",
   "execution_count": null,
   "id": "e0c881ac",
   "metadata": {},
   "outputs": [],
   "source": []
  },
  {
   "cell_type": "markdown",
   "id": "4c708880",
   "metadata": {},
   "source": [
    "# teste antigos"
   ]
  },
  {
   "cell_type": "code",
   "execution_count": 10,
   "id": "d268c78d",
   "metadata": {},
   "outputs": [
    {
     "data": {
      "application/vnd.jupyter.widget-view+json": {
       "model_id": "91c77e0c4fde4f8ebff3d5a4904cd513",
       "version_major": 2,
       "version_minor": 0
      },
      "text/plain": [
       "  0%|          | 0/9 [00:00<?, ?it/s]"
      ]
     },
     "metadata": {},
     "output_type": "display_data"
    },
    {
     "name": "stdout",
     "output_type": "stream",
     "text": [
      "Suporte\n"
     ]
    },
    {
     "data": {
      "application/vnd.jupyter.widget-view+json": {
       "model_id": "b564dfd7e1344243952ed911ad1f8779",
       "version_major": 2,
       "version_minor": 0
      },
      "text/plain": [
       "  0%|          | 0/67 [00:00<?, ?it/s]"
      ]
     },
     "metadata": {},
     "output_type": "display_data"
    },
    {
     "name": "stdout",
     "output_type": "stream",
     "text": [
      "Usuário de cont\n"
     ]
    },
    {
     "data": {
      "application/vnd.jupyter.widget-view+json": {
       "model_id": "681699b8f9f5474c96be53756a46935f",
       "version_major": 2,
       "version_minor": 0
      },
      "text/plain": [
       "  0%|          | 0/67 [00:00<?, ?it/s]"
      ]
     },
     "metadata": {},
     "output_type": "display_data"
    },
    {
     "name": "stdout",
     "output_type": "stream",
     "text": [
      "Gerente de Expa\n"
     ]
    },
    {
     "data": {
      "application/vnd.jupyter.widget-view+json": {
       "model_id": "824a5fca66f54fd48957f4a07308b2e3",
       "version_major": 2,
       "version_minor": 0
      },
      "text/plain": [
       "  0%|          | 0/67 [00:00<?, ?it/s]"
      ]
     },
     "metadata": {},
     "output_type": "display_data"
    },
    {
     "name": "stdout",
     "output_type": "stream",
     "text": [
      "Inativo\n"
     ]
    },
    {
     "data": {
      "application/vnd.jupyter.widget-view+json": {
       "model_id": "5df8738975d94d92be4d8133b3b01fd8",
       "version_major": 2,
       "version_minor": 0
      },
      "text/plain": [
       "  0%|          | 0/67 [00:00<?, ?it/s]"
      ]
     },
     "metadata": {},
     "output_type": "display_data"
    },
    {
     "name": "stdout",
     "output_type": "stream",
     "text": [
      "Coordenador de \n"
     ]
    },
    {
     "data": {
      "application/vnd.jupyter.widget-view+json": {
       "model_id": "3b9345125c5441ec83a091e3a07735a2",
       "version_major": 2,
       "version_minor": 0
      },
      "text/plain": [
       "  0%|          | 0/67 [00:00<?, ?it/s]"
      ]
     },
     "metadata": {},
     "output_type": "display_data"
    },
    {
     "name": "stdout",
     "output_type": "stream",
     "text": [
      "Fiscal Técnico \n"
     ]
    },
    {
     "data": {
      "application/vnd.jupyter.widget-view+json": {
       "model_id": "c89a8a25cc884698aa708b0277a46b59",
       "version_major": 2,
       "version_minor": 0
      },
      "text/plain": [
       "  0%|          | 0/67 [00:00<?, ?it/s]"
      ]
     },
     "metadata": {},
     "output_type": "display_data"
    },
    {
     "name": "stdout",
     "output_type": "stream",
     "text": [
      "Facilitador\n"
     ]
    },
    {
     "data": {
      "application/vnd.jupyter.widget-view+json": {
       "model_id": "dcb4ea7fc4a94b5c8b45186e1f7f1b54",
       "version_major": 2,
       "version_minor": 0
      },
      "text/plain": [
       "  0%|          | 0/67 [00:00<?, ?it/s]"
      ]
     },
     "metadata": {},
     "output_type": "display_data"
    },
    {
     "name": "stdout",
     "output_type": "stream",
     "text": [
      "Controle Tecnol\n"
     ]
    },
    {
     "data": {
      "application/vnd.jupyter.widget-view+json": {
       "model_id": "3bc1ae8ff9e749e3b9a68dd2dc55e563",
       "version_major": 2,
       "version_minor": 0
      },
      "text/plain": [
       "  0%|          | 0/67 [00:00<?, ?it/s]"
      ]
     },
     "metadata": {},
     "output_type": "display_data"
    },
    {
     "name": "stdout",
     "output_type": "stream",
     "text": [
      "Empreiteiras (T\n"
     ]
    },
    {
     "data": {
      "application/vnd.jupyter.widget-view+json": {
       "model_id": "d9c5adcc580b4d16bf711160e069d18f",
       "version_major": 2,
       "version_minor": 0
      },
      "text/plain": [
       "  0%|          | 0/67 [00:00<?, ?it/s]"
      ]
     },
     "metadata": {},
     "output_type": "display_data"
    }
   ],
   "source": [
    "data=[]\n",
    "header=[]\n",
    "index=[]\n",
    "for a in tqdm(perm):\n",
    "    print(a.name.translate(str.maketrans('', '', './,!?'))[:15])      \n",
    "    for b in tqdm(perm[idx].permissions.items()):\n",
    "        data.append(b[1])\n",
    "        header.append(list(b[1].keys()))\n",
    "    obj={}\n",
    "    for x in header:\n",
    "        for y in x:\n",
    "            obj[y] = ''\n",
    "    header.clear()\n",
    "    header = list(obj)\n",
    "    \n",
    "    index=[z for z in perm[idx].permissions]\n",
    "#     for k,c in enumerate(index):\n",
    "#         v=traduzirTexto(c)\n",
    "#         index[k] = v\n",
    "    df = pd.DataFrame(data=data,index=index,columns=header)\n",
    "    with pd.ExcelWriter(filename+'.xlsx', mode='a',if_sheet_exists='replace') as writer:\n",
    "        df.to_excel(writer,sheet_name=a.name.translate(str.maketrans('', '', './,!?'))[:15])\n",
    "   \n",
    "    data.clear()\n",
    "    index.clear()\n",
    "    header.clear()"
   ]
  },
  {
   "cell_type": "code",
   "execution_count": null,
   "id": "e5a15831",
   "metadata": {},
   "outputs": [],
   "source": [
    "data=[]\n",
    "header=[]\n",
    "index=[]\n",
    "for a in tqdm(perm):\n",
    "    print(a.name.translate(str.maketrans('', '', './,!?'))[:15])      \n",
    "    for b in tqdm(perm[idx].permissions.items()):\n",
    "        data.append(b[1])\n",
    "        header.append(list(b[1].keys()))\n",
    "    obj={}\n",
    "    for x in header:\n",
    "        for y in x:\n",
    "            obj[y] = ''\n",
    "    header.clear()\n",
    "    header = list(obj)\n",
    "    \n",
    "    index=[z for z in perm[idx].permissions]\n",
    "    for k,c in enumerate(index):\n",
    "        v=traduzirTexto(c)\n",
    "        index[k] = v\n",
    "    df = pd.DataFrame(data=traducaoDefinitiva(data),index=index,columns=header)\n",
    "    with pd.ExcelWriter(filename+'.xlsx', mode='a',if_sheet_exists='replace') as writer:\n",
    "        df.to_excel(writer,sheet_name=a.name.translate(str.maketrans('', '', './,!?'))[:15])\n",
    "   \n",
    "    data.clear()\n",
    "    index.clear()\n",
    "    header.clear()"
   ]
  },
  {
   "cell_type": "code",
   "execution_count": 19,
   "id": "9bfb67dd",
   "metadata": {},
   "outputs": [
    {
     "data": {
      "application/vnd.jupyter.widget-view+json": {
       "model_id": "7d1edb95b17c45ad82c76e78127bb325",
       "version_major": 2,
       "version_minor": 0
      },
      "text/plain": [
       "  0%|          | 0/8 [00:00<?, ?it/s]"
      ]
     },
     "metadata": {},
     "output_type": "display_data"
    }
   ],
   "source": [
    "index={}\n",
    "sheetname =\"\"\n",
    "for dataU in tqdm(perm): \n",
    "    \n",
    "    sheetname = dataU.name.translate(str.maketrans('', '', './,!?'))[:15]\n",
    "    for key,value in dataU.permissions.items():\n",
    "        \n",
    "        key = traduzirTexto(key)\n",
    "        value = traduzirDict(value)\n",
    "        index[key]=value\n",
    "        key,value=\"\",\"\"\n",
    "        \n",
    "    df2 = pd.DataFrame(data=index.values(),index=index.keys())\n",
    "    if sheetname=='Fiscal DNIT':\n",
    "        break\n",
    "#     with pd.ExcelWriter(filename+'.xlsx', mode='a',if_sheet_exists='replace') as writer:\n",
    "#         df2.to_excel(writer,sheet_name=sheetname,na_rep=\"-\")"
   ]
  },
  {
   "cell_type": "code",
   "execution_count": 20,
   "id": "d2491338",
   "metadata": {},
   "outputs": [
    {
     "data": {
      "text/plain": [
       "Pode Editar                      Verdadeiro\n",
       "Pode Ver                         Verdadeiro\n",
       "Conjunto                              Todos\n",
       "Pode Criar                       Verdadeiro\n",
       "Pode Deletar                     Verdadeiro\n",
       "Pode Usar Nova Biblioteca               NaN\n",
       "Pode Editar Todos Os Campos             NaN\n",
       "Pode Aprovar                            NaN\n",
       "Pode Usar o Botão                       NaN\n",
       "can_edit_resource                       NaN\n",
       "Pode Criar Recurso                      NaN\n",
       "can_view_price_accumulator              NaN\n",
       "Pode Ver o Mapa                         NaN\n",
       "Pode Ver RDO                            NaN\n",
       "Pode Ver Mapa de Calor                  NaN\n",
       "Pode Ver Gráficos Técnicos              NaN\n",
       "can_view_all_firms                      NaN\n",
       "can_create_and_edit_all_firms           NaN\n",
       "Pode Ver Dinheiro                       NaN\n",
       "Pode Ver Resumo                         NaN\n",
       "Name: Arquivo de Apontamento, dtype: object"
      ]
     },
     "execution_count": 20,
     "metadata": {},
     "output_type": "execute_result"
    }
   ],
   "source": [
    "df2.iloc[28]"
   ]
  },
  {
   "cell_type": "code",
   "execution_count": null,
   "id": "bead16df",
   "metadata": {},
   "outputs": [],
   "source": []
  }
 ],
 "metadata": {
  "kernelspec": {
   "display_name": "Django Shell-Plus",
   "language": "python",
   "name": "django_extensions"
  },
  "language_info": {
   "codemirror_mode": {
    "name": "ipython",
    "version": 3
   },
   "file_extension": ".py",
   "mimetype": "text/x-python",
   "name": "python",
   "nbconvert_exporter": "python",
   "pygments_lexer": "ipython3",
   "version": "3.8.16"
  }
 },
 "nbformat": 4,
 "nbformat_minor": 5
}
