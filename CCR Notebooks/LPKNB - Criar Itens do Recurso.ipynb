{
 "cells": [
  {
   "cell_type": "code",
   "execution_count": 1,
   "id": "19454248",
   "metadata": {},
   "outputs": [
    {
     "name": "stdout",
     "output_type": "stream",
     "text": [
      "STAGE=CCR_PRODUCTION\r\n"
     ]
    }
   ],
   "source": [
    "!cat .env"
   ]
  },
  {
   "cell_type": "code",
   "execution_count": 2,
   "id": "040ca29a",
   "metadata": {},
   "outputs": [
    {
     "data": {
      "text/plain": [
       "<QuerySet [<Company: 3af64f25-59e8-446b-bb1e-963549090b0d: CCR - Rio Sp>]>"
      ]
     },
     "execution_count": 2,
     "metadata": {},
     "output_type": "execute_result"
    }
   ],
   "source": [
    "Company.objects.all()"
   ]
  },
  {
   "cell_type": "code",
   "execution_count": 3,
   "id": "ceb35deb",
   "metadata": {},
   "outputs": [],
   "source": [
    "from openpyxl import load_workbook\n",
    "from tqdm.notebook import tqdm\n",
    "filename2 = \"Lista de Materiais Conserva RioSP.xlsx\"\n",
    "wb = load_workbook(filename2)\n",
    "ws = wb[wb.sheetnames[0]]\n",
    "# wb.sheetnames[0]"
   ]
  },
  {
   "cell_type": "code",
   "execution_count": 4,
   "id": "e802c1dd",
   "metadata": {},
   "outputs": [
    {
     "data": {
      "text/plain": [
       "(494,\n",
       " {'Cod': 1021527,\n",
       "  'Descrição do Material': 'ABRACADEIRA 4\" X 250MM',\n",
       "  'UN': 'UN'})"
      ]
     },
     "execution_count": 4,
     "metadata": {},
     "output_type": "execute_result"
    }
   ],
   "source": [
    "header = []\n",
    "values = []\n",
    "\n",
    "for index, row in enumerate(ws.rows):\n",
    "    if index == 0:\n",
    "        header = list([a.value for a in row])\n",
    "        continue\n",
    "    obj = {}\n",
    "    for col_index, cell in enumerate(row):\n",
    "        value = cell.value\n",
    "        obj[header[col_index]] = value\n",
    "    values.append(obj)\n",
    "len(values),values[0]"
   ]
  },
  {
   "cell_type": "code",
   "execution_count": 5,
   "id": "ebca8fa0",
   "metadata": {},
   "outputs": [
    {
     "data": {
      "text/plain": [
       "<Company: 3af64f25-59e8-446b-bb1e-963549090b0d: CCR - Rio Sp>"
      ]
     },
     "execution_count": 5,
     "metadata": {},
     "output_type": "execute_result"
    }
   ],
   "source": [
    "# Unidade\n",
    "company=Company.objects.get(name='CCR - Rio Sp')\n",
    "company"
   ]
  },
  {
   "cell_type": "code",
   "execution_count": 6,
   "id": "55c96977",
   "metadata": {},
   "outputs": [],
   "source": [
    "nome_contrato='Pacote J - Hidrojato'"
   ]
  },
  {
   "cell_type": "code",
   "execution_count": 7,
   "id": "fc0b90a3",
   "metadata": {},
   "outputs": [
    {
     "data": {
      "text/plain": [
       "<QuerySet [<Contract: [] bfdef0e5-7380-4034-820a-b522ff6f1f2a: Pacote C Bc2 (2022-03-01 - 2030-02-28)>]>"
      ]
     },
     "execution_count": 7,
     "metadata": {},
     "output_type": "execute_result"
    }
   ],
   "source": [
    "# Contrato\n",
    "contract = Contract.objects.filter(subcompany__company=company,name=nome_contrato)\n",
    "contract"
   ]
  },
  {
   "cell_type": "code",
   "execution_count": 8,
   "id": "01592bc3",
   "metadata": {},
   "outputs": [],
   "source": [
    "name_session='Material EPS'"
   ]
  },
  {
   "cell_type": "code",
   "execution_count": 9,
   "id": "6c005ec1",
   "metadata": {},
   "outputs": [
    {
     "data": {
      "text/plain": [
       "1"
      ]
     },
     "execution_count": 9,
     "metadata": {},
     "output_type": "execute_result"
    }
   ],
   "source": [
    "# Seção do contrato\n",
    "cs=ContractService.objects.annotate(qtd_unit_price=Count('contract_item_unit_prices')).filter(firms__subcompany__company=company,description=name_session,qtd_unit_price__gte=1)\n",
    "cs.count()"
   ]
  },
  {
   "cell_type": "code",
   "execution_count": 10,
   "id": "7f323690",
   "metadata": {},
   "outputs": [
    {
     "data": {
      "text/plain": [
       "<User: rlcs - Kartado CS>"
      ]
     },
     "execution_count": 10,
     "metadata": {},
     "output_type": "execute_result"
    }
   ],
   "source": [
    "# Usuário\n",
    "user=User.objects.get(username='rlcs')\n",
    "user"
   ]
  },
  {
   "cell_type": "code",
   "execution_count": 11,
   "id": "8fece316",
   "metadata": {},
   "outputs": [],
   "source": [
    "# Entidade\n",
    "entity=Entity.objects.filter(company=company).first()\n",
    "entity"
   ]
  },
  {
   "cell_type": "code",
   "execution_count": 12,
   "id": "48d971a1",
   "metadata": {},
   "outputs": [],
   "source": [
    "# Quantidade de itens\n",
    "amount=10000"
   ]
  },
  {
   "cell_type": "markdown",
   "id": "e3e9f7d1",
   "metadata": {},
   "source": [
    "# Rodasse somente uma vez esse código que cria o Recurso"
   ]
  },
  {
   "cell_type": "code",
   "execution_count": 13,
   "id": "a9409083",
   "metadata": {},
   "outputs": [
    {
     "data": {
      "application/vnd.jupyter.widget-view+json": {
       "model_id": "7e32f72384a14bce8a8b6b9564953f3f",
       "version_major": 2,
       "version_minor": 0
      },
      "text/plain": [
       "  0%|          | 0/494 [00:00<?, ?it/s]"
      ]
     },
     "metadata": {},
     "output_type": "display_data"
    }
   ],
   "source": [
    "for a in tqdm(values):\n",
    "    # Recurso\n",
    "    r=Resource(company=company,\n",
    "               name=a['Descrição do Material'],\n",
    "               unit=a['UN'],\n",
    "               total_amount=amount)\n",
    "#     r.save()"
   ]
  },
  {
   "cell_type": "code",
   "execution_count": 14,
   "id": "fd1842eb",
   "metadata": {
    "collapsed": true
   },
   "outputs": [
    {
     "data": {
      "application/vnd.jupyter.widget-view+json": {
       "model_id": "5836cd0a48ba4cc49dc8ca82ef9792c2",
       "version_major": 2,
       "version_minor": 0
      },
      "text/plain": [
       "  0%|          | 0/494 [00:00<?, ?it/s]"
      ]
     },
     "metadata": {},
     "output_type": "display_data"
    },
    {
     "name": "stdout",
     "output_type": "stream",
     "text": [
      "'NoneType' object has no attribute 'company'\n",
      "'NoneType' object has no attribute 'company'\n",
      "'NoneType' object has no attribute 'company'\n",
      "'NoneType' object has no attribute 'company'\n",
      "'NoneType' object has no attribute 'company'\n",
      "'NoneType' object has no attribute 'company'\n",
      "'NoneType' object has no attribute 'company'\n",
      "'NoneType' object has no attribute 'company'\n",
      "'NoneType' object has no attribute 'company'\n",
      "'NoneType' object has no attribute 'company'\n",
      "'NoneType' object has no attribute 'company'\n",
      "'NoneType' object has no attribute 'company'\n",
      "'NoneType' object has no attribute 'company'\n",
      "'NoneType' object has no attribute 'company'\n",
      "'NoneType' object has no attribute 'company'\n",
      "'NoneType' object has no attribute 'company'\n",
      "'NoneType' object has no attribute 'company'\n",
      "'NoneType' object has no attribute 'company'\n",
      "'NoneType' object has no attribute 'company'\n",
      "'NoneType' object has no attribute 'company'\n",
      "'NoneType' object has no attribute 'company'\n",
      "'NoneType' object has no attribute 'company'\n",
      "'NoneType' object has no attribute 'company'\n",
      "'NoneType' object has no attribute 'company'\n",
      "'NoneType' object has no attribute 'company'\n",
      "'NoneType' object has no attribute 'company'\n",
      "'NoneType' object has no attribute 'company'\n",
      "'NoneType' object has no attribute 'company'\n",
      "'NoneType' object has no attribute 'company'\n",
      "'NoneType' object has no attribute 'company'\n",
      "'NoneType' object has no attribute 'company'\n",
      "'NoneType' object has no attribute 'company'\n",
      "'NoneType' object has no attribute 'company'\n",
      "'NoneType' object has no attribute 'company'\n",
      "'NoneType' object has no attribute 'company'\n",
      "'NoneType' object has no attribute 'company'\n",
      "'NoneType' object has no attribute 'company'\n",
      "'NoneType' object has no attribute 'company'\n",
      "'NoneType' object has no attribute 'company'\n",
      "'NoneType' object has no attribute 'company'\n",
      "'NoneType' object has no attribute 'company'\n",
      "'NoneType' object has no attribute 'company'\n",
      "'NoneType' object has no attribute 'company'\n",
      "'NoneType' object has no attribute 'company'\n",
      "'NoneType' object has no attribute 'company'\n",
      "'NoneType' object has no attribute 'company'\n",
      "'NoneType' object has no attribute 'company'\n",
      "'NoneType' object has no attribute 'company'\n",
      "'NoneType' object has no attribute 'company'\n",
      "'NoneType' object has no attribute 'company'\n",
      "'NoneType' object has no attribute 'company'\n",
      "'NoneType' object has no attribute 'company'\n",
      "'NoneType' object has no attribute 'company'\n",
      "'NoneType' object has no attribute 'company'\n",
      "'NoneType' object has no attribute 'company'\n",
      "'NoneType' object has no attribute 'company'\n",
      "'NoneType' object has no attribute 'company'\n",
      "'NoneType' object has no attribute 'company'\n",
      "'NoneType' object has no attribute 'company'\n",
      "'NoneType' object has no attribute 'company'\n",
      "'NoneType' object has no attribute 'company'\n",
      "'NoneType' object has no attribute 'company'\n",
      "'NoneType' object has no attribute 'company'\n",
      "'NoneType' object has no attribute 'company'\n",
      "'NoneType' object has no attribute 'company'\n",
      "'NoneType' object has no attribute 'company'\n",
      "'NoneType' object has no attribute 'company'\n",
      "'NoneType' object has no attribute 'company'\n",
      "'NoneType' object has no attribute 'company'\n",
      "'NoneType' object has no attribute 'company'\n",
      "'NoneType' object has no attribute 'company'\n",
      "'NoneType' object has no attribute 'company'\n",
      "'NoneType' object has no attribute 'company'\n",
      "'NoneType' object has no attribute 'company'\n",
      "'NoneType' object has no attribute 'company'\n",
      "'NoneType' object has no attribute 'company'\n",
      "'NoneType' object has no attribute 'company'\n",
      "'NoneType' object has no attribute 'company'\n",
      "'NoneType' object has no attribute 'company'\n",
      "'NoneType' object has no attribute 'company'\n",
      "'NoneType' object has no attribute 'company'\n",
      "'NoneType' object has no attribute 'company'\n",
      "'NoneType' object has no attribute 'company'\n",
      "'NoneType' object has no attribute 'company'\n",
      "'NoneType' object has no attribute 'company'\n",
      "'NoneType' object has no attribute 'company'\n",
      "'NoneType' object has no attribute 'company'\n",
      "'NoneType' object has no attribute 'company'\n",
      "'NoneType' object has no attribute 'company'\n",
      "'NoneType' object has no attribute 'company'\n",
      "'NoneType' object has no attribute 'company'\n",
      "'NoneType' object has no attribute 'company'\n",
      "'NoneType' object has no attribute 'company'\n",
      "'NoneType' object has no attribute 'company'\n",
      "'NoneType' object has no attribute 'company'\n",
      "'NoneType' object has no attribute 'company'\n",
      "'NoneType' object has no attribute 'company'\n",
      "'NoneType' object has no attribute 'company'\n",
      "'NoneType' object has no attribute 'company'\n",
      "'NoneType' object has no attribute 'company'\n",
      "'NoneType' object has no attribute 'company'\n",
      "'NoneType' object has no attribute 'company'\n",
      "'NoneType' object has no attribute 'company'\n",
      "'NoneType' object has no attribute 'company'\n",
      "'NoneType' object has no attribute 'company'\n",
      "'NoneType' object has no attribute 'company'\n",
      "'NoneType' object has no attribute 'company'\n",
      "'NoneType' object has no attribute 'company'\n",
      "'NoneType' object has no attribute 'company'\n",
      "'NoneType' object has no attribute 'company'\n",
      "'NoneType' object has no attribute 'company'\n",
      "'NoneType' object has no attribute 'company'\n",
      "'NoneType' object has no attribute 'company'\n",
      "'NoneType' object has no attribute 'company'\n",
      "'NoneType' object has no attribute 'company'\n",
      "'NoneType' object has no attribute 'company'\n",
      "'NoneType' object has no attribute 'company'\n",
      "'NoneType' object has no attribute 'company'\n",
      "'NoneType' object has no attribute 'company'\n",
      "'NoneType' object has no attribute 'company'\n",
      "'NoneType' object has no attribute 'company'\n",
      "'NoneType' object has no attribute 'company'\n",
      "'NoneType' object has no attribute 'company'\n",
      "'NoneType' object has no attribute 'company'\n",
      "'NoneType' object has no attribute 'company'\n",
      "'NoneType' object has no attribute 'company'\n",
      "'NoneType' object has no attribute 'company'\n",
      "'NoneType' object has no attribute 'company'\n",
      "'NoneType' object has no attribute 'company'\n",
      "'NoneType' object has no attribute 'company'\n",
      "'NoneType' object has no attribute 'company'\n",
      "'NoneType' object has no attribute 'company'\n",
      "'NoneType' object has no attribute 'company'\n",
      "'NoneType' object has no attribute 'company'\n",
      "'NoneType' object has no attribute 'company'\n",
      "'NoneType' object has no attribute 'company'\n",
      "'NoneType' object has no attribute 'company'\n",
      "'NoneType' object has no attribute 'company'\n",
      "'NoneType' object has no attribute 'company'\n",
      "'NoneType' object has no attribute 'company'\n",
      "'NoneType' object has no attribute 'company'\n",
      "'NoneType' object has no attribute 'company'\n",
      "'NoneType' object has no attribute 'company'\n",
      "'NoneType' object has no attribute 'company'\n",
      "'NoneType' object has no attribute 'company'\n",
      "'NoneType' object has no attribute 'company'\n",
      "'NoneType' object has no attribute 'company'\n",
      "'NoneType' object has no attribute 'company'\n",
      "'NoneType' object has no attribute 'company'\n",
      "'NoneType' object has no attribute 'company'\n",
      "'NoneType' object has no attribute 'company'\n",
      "'NoneType' object has no attribute 'company'\n",
      "'NoneType' object has no attribute 'company'\n",
      "'NoneType' object has no attribute 'company'\n",
      "'NoneType' object has no attribute 'company'\n",
      "'NoneType' object has no attribute 'company'\n",
      "'NoneType' object has no attribute 'company'\n",
      "'NoneType' object has no attribute 'company'\n",
      "'NoneType' object has no attribute 'company'\n",
      "'NoneType' object has no attribute 'company'\n",
      "'NoneType' object has no attribute 'company'\n",
      "'NoneType' object has no attribute 'company'\n",
      "'NoneType' object has no attribute 'company'\n",
      "'NoneType' object has no attribute 'company'\n",
      "'NoneType' object has no attribute 'company'\n",
      "'NoneType' object has no attribute 'company'\n",
      "'NoneType' object has no attribute 'company'\n",
      "'NoneType' object has no attribute 'company'\n",
      "'NoneType' object has no attribute 'company'\n",
      "'NoneType' object has no attribute 'company'\n",
      "'NoneType' object has no attribute 'company'\n",
      "'NoneType' object has no attribute 'company'\n",
      "'NoneType' object has no attribute 'company'\n",
      "'NoneType' object has no attribute 'company'\n",
      "'NoneType' object has no attribute 'company'\n",
      "'NoneType' object has no attribute 'company'\n",
      "'NoneType' object has no attribute 'company'\n",
      "'NoneType' object has no attribute 'company'\n",
      "'NoneType' object has no attribute 'company'\n",
      "'NoneType' object has no attribute 'company'\n",
      "'NoneType' object has no attribute 'company'\n",
      "'NoneType' object has no attribute 'company'\n",
      "'NoneType' object has no attribute 'company'\n"
     ]
    },
    {
     "name": "stdout",
     "output_type": "stream",
     "text": [
      "'NoneType' object has no attribute 'company'\n",
      "'NoneType' object has no attribute 'company'\n",
      "'NoneType' object has no attribute 'company'\n",
      "'NoneType' object has no attribute 'company'\n",
      "'NoneType' object has no attribute 'company'\n",
      "'NoneType' object has no attribute 'company'\n",
      "'NoneType' object has no attribute 'company'\n",
      "'NoneType' object has no attribute 'company'\n",
      "'NoneType' object has no attribute 'company'\n",
      "'NoneType' object has no attribute 'company'\n",
      "'NoneType' object has no attribute 'company'\n",
      "'NoneType' object has no attribute 'company'\n",
      "'NoneType' object has no attribute 'company'\n",
      "'NoneType' object has no attribute 'company'\n",
      "'NoneType' object has no attribute 'company'\n",
      "'NoneType' object has no attribute 'company'\n",
      "'NoneType' object has no attribute 'company'\n",
      "'NoneType' object has no attribute 'company'\n",
      "'NoneType' object has no attribute 'company'\n",
      "'NoneType' object has no attribute 'company'\n",
      "'NoneType' object has no attribute 'company'\n",
      "'NoneType' object has no attribute 'company'\n",
      "'NoneType' object has no attribute 'company'\n",
      "'NoneType' object has no attribute 'company'\n",
      "'NoneType' object has no attribute 'company'\n",
      "'NoneType' object has no attribute 'company'\n",
      "'NoneType' object has no attribute 'company'\n",
      "'NoneType' object has no attribute 'company'\n",
      "'NoneType' object has no attribute 'company'\n",
      "'NoneType' object has no attribute 'company'\n",
      "'NoneType' object has no attribute 'company'\n",
      "'NoneType' object has no attribute 'company'\n",
      "'NoneType' object has no attribute 'company'\n",
      "'NoneType' object has no attribute 'company'\n",
      "'NoneType' object has no attribute 'company'\n",
      "'NoneType' object has no attribute 'company'\n",
      "'NoneType' object has no attribute 'company'\n",
      "'NoneType' object has no attribute 'company'\n",
      "'NoneType' object has no attribute 'company'\n",
      "'NoneType' object has no attribute 'company'\n",
      "'NoneType' object has no attribute 'company'\n",
      "'NoneType' object has no attribute 'company'\n",
      "'NoneType' object has no attribute 'company'\n",
      "'NoneType' object has no attribute 'company'\n",
      "'NoneType' object has no attribute 'company'\n",
      "'NoneType' object has no attribute 'company'\n",
      "'NoneType' object has no attribute 'company'\n",
      "'NoneType' object has no attribute 'company'\n",
      "'NoneType' object has no attribute 'company'\n",
      "'NoneType' object has no attribute 'company'\n",
      "'NoneType' object has no attribute 'company'\n",
      "'NoneType' object has no attribute 'company'\n",
      "'NoneType' object has no attribute 'company'\n",
      "'NoneType' object has no attribute 'company'\n",
      "'NoneType' object has no attribute 'company'\n",
      "'NoneType' object has no attribute 'company'\n",
      "'NoneType' object has no attribute 'company'\n",
      "'NoneType' object has no attribute 'company'\n",
      "'NoneType' object has no attribute 'company'\n",
      "'NoneType' object has no attribute 'company'\n",
      "'NoneType' object has no attribute 'company'\n",
      "'NoneType' object has no attribute 'company'\n",
      "'NoneType' object has no attribute 'company'\n",
      "'NoneType' object has no attribute 'company'\n",
      "'NoneType' object has no attribute 'company'\n",
      "'NoneType' object has no attribute 'company'\n",
      "'NoneType' object has no attribute 'company'\n",
      "'NoneType' object has no attribute 'company'\n",
      "'NoneType' object has no attribute 'company'\n",
      "'NoneType' object has no attribute 'company'\n",
      "'NoneType' object has no attribute 'company'\n",
      "'NoneType' object has no attribute 'company'\n",
      "'NoneType' object has no attribute 'company'\n",
      "'NoneType' object has no attribute 'company'\n",
      "'NoneType' object has no attribute 'company'\n",
      "'NoneType' object has no attribute 'company'\n",
      "'NoneType' object has no attribute 'company'\n",
      "'NoneType' object has no attribute 'company'\n",
      "'NoneType' object has no attribute 'company'\n",
      "'NoneType' object has no attribute 'company'\n",
      "'NoneType' object has no attribute 'company'\n",
      "'NoneType' object has no attribute 'company'\n",
      "'NoneType' object has no attribute 'company'\n",
      "'NoneType' object has no attribute 'company'\n",
      "'NoneType' object has no attribute 'company'\n",
      "'NoneType' object has no attribute 'company'\n",
      "'NoneType' object has no attribute 'company'\n",
      "'NoneType' object has no attribute 'company'\n",
      "'NoneType' object has no attribute 'company'\n",
      "'NoneType' object has no attribute 'company'\n",
      "'NoneType' object has no attribute 'company'\n",
      "'NoneType' object has no attribute 'company'\n",
      "'NoneType' object has no attribute 'company'\n",
      "'NoneType' object has no attribute 'company'\n",
      "'NoneType' object has no attribute 'company'\n",
      "'NoneType' object has no attribute 'company'\n",
      "'NoneType' object has no attribute 'company'\n",
      "'NoneType' object has no attribute 'company'\n",
      "'NoneType' object has no attribute 'company'\n",
      "'NoneType' object has no attribute 'company'\n",
      "'NoneType' object has no attribute 'company'\n",
      "'NoneType' object has no attribute 'company'\n",
      "'NoneType' object has no attribute 'company'\n",
      "'NoneType' object has no attribute 'company'\n",
      "'NoneType' object has no attribute 'company'\n",
      "'NoneType' object has no attribute 'company'\n",
      "'NoneType' object has no attribute 'company'\n",
      "'NoneType' object has no attribute 'company'\n",
      "'NoneType' object has no attribute 'company'\n",
      "'NoneType' object has no attribute 'company'\n",
      "'NoneType' object has no attribute 'company'\n",
      "'NoneType' object has no attribute 'company'\n",
      "'NoneType' object has no attribute 'company'\n",
      "'NoneType' object has no attribute 'company'\n",
      "'NoneType' object has no attribute 'company'\n",
      "'NoneType' object has no attribute 'company'\n",
      "'NoneType' object has no attribute 'company'\n",
      "'NoneType' object has no attribute 'company'\n",
      "'NoneType' object has no attribute 'company'\n",
      "'NoneType' object has no attribute 'company'\n",
      "'NoneType' object has no attribute 'company'\n",
      "'NoneType' object has no attribute 'company'\n",
      "'NoneType' object has no attribute 'company'\n",
      "'NoneType' object has no attribute 'company'\n",
      "'NoneType' object has no attribute 'company'\n",
      "'NoneType' object has no attribute 'company'\n",
      "'NoneType' object has no attribute 'company'\n",
      "'NoneType' object has no attribute 'company'\n",
      "'NoneType' object has no attribute 'company'\n",
      "'NoneType' object has no attribute 'company'\n",
      "'NoneType' object has no attribute 'company'\n",
      "'NoneType' object has no attribute 'company'\n",
      "'NoneType' object has no attribute 'company'\n",
      "'NoneType' object has no attribute 'company'\n",
      "'NoneType' object has no attribute 'company'\n",
      "'NoneType' object has no attribute 'company'\n",
      "'NoneType' object has no attribute 'company'\n",
      "'NoneType' object has no attribute 'company'\n",
      "'NoneType' object has no attribute 'company'\n",
      "'NoneType' object has no attribute 'company'\n",
      "'NoneType' object has no attribute 'company'\n",
      "'NoneType' object has no attribute 'company'\n",
      "'NoneType' object has no attribute 'company'\n",
      "'NoneType' object has no attribute 'company'\n",
      "'NoneType' object has no attribute 'company'\n",
      "'NoneType' object has no attribute 'company'\n",
      "'NoneType' object has no attribute 'company'\n",
      "'NoneType' object has no attribute 'company'\n",
      "'NoneType' object has no attribute 'company'\n",
      "'NoneType' object has no attribute 'company'\n",
      "'NoneType' object has no attribute 'company'\n",
      "'NoneType' object has no attribute 'company'\n",
      "'NoneType' object has no attribute 'company'\n",
      "'NoneType' object has no attribute 'company'\n",
      "'NoneType' object has no attribute 'company'\n",
      "'NoneType' object has no attribute 'company'\n",
      "'NoneType' object has no attribute 'company'\n",
      "'NoneType' object has no attribute 'company'\n",
      "'NoneType' object has no attribute 'company'\n",
      "'NoneType' object has no attribute 'company'\n",
      "'NoneType' object has no attribute 'company'\n",
      "'NoneType' object has no attribute 'company'\n",
      "'NoneType' object has no attribute 'company'\n",
      "'NoneType' object has no attribute 'company'\n",
      "'NoneType' object has no attribute 'company'\n",
      "'NoneType' object has no attribute 'company'\n",
      "'NoneType' object has no attribute 'company'\n",
      "'NoneType' object has no attribute 'company'\n",
      "'NoneType' object has no attribute 'company'\n",
      "'NoneType' object has no attribute 'company'\n",
      "'NoneType' object has no attribute 'company'\n",
      "'NoneType' object has no attribute 'company'\n",
      "'NoneType' object has no attribute 'company'\n",
      "'NoneType' object has no attribute 'company'\n",
      "'NoneType' object has no attribute 'company'\n",
      "'NoneType' object has no attribute 'company'\n",
      "'NoneType' object has no attribute 'company'\n",
      "'NoneType' object has no attribute 'company'\n",
      "'NoneType' object has no attribute 'company'\n",
      "'NoneType' object has no attribute 'company'\n",
      "'NoneType' object has no attribute 'company'\n",
      "'NoneType' object has no attribute 'company'\n",
      "'NoneType' object has no attribute 'company'\n",
      "'NoneType' object has no attribute 'company'\n"
     ]
    },
    {
     "name": "stdout",
     "output_type": "stream",
     "text": [
      "'NoneType' object has no attribute 'company'\n",
      "'NoneType' object has no attribute 'company'\n",
      "'NoneType' object has no attribute 'company'\n",
      "'NoneType' object has no attribute 'company'\n",
      "'NoneType' object has no attribute 'company'\n",
      "'NoneType' object has no attribute 'company'\n",
      "'NoneType' object has no attribute 'company'\n",
      "'NoneType' object has no attribute 'company'\n",
      "'NoneType' object has no attribute 'company'\n",
      "'NoneType' object has no attribute 'company'\n",
      "'NoneType' object has no attribute 'company'\n",
      "'NoneType' object has no attribute 'company'\n",
      "'NoneType' object has no attribute 'company'\n",
      "'NoneType' object has no attribute 'company'\n",
      "'NoneType' object has no attribute 'company'\n",
      "'NoneType' object has no attribute 'company'\n",
      "'NoneType' object has no attribute 'company'\n",
      "'NoneType' object has no attribute 'company'\n",
      "'NoneType' object has no attribute 'company'\n",
      "'NoneType' object has no attribute 'company'\n",
      "'NoneType' object has no attribute 'company'\n",
      "'NoneType' object has no attribute 'company'\n",
      "'NoneType' object has no attribute 'company'\n",
      "'NoneType' object has no attribute 'company'\n",
      "'NoneType' object has no attribute 'company'\n",
      "'NoneType' object has no attribute 'company'\n",
      "'NoneType' object has no attribute 'company'\n",
      "'NoneType' object has no attribute 'company'\n",
      "'NoneType' object has no attribute 'company'\n",
      "'NoneType' object has no attribute 'company'\n",
      "'NoneType' object has no attribute 'company'\n",
      "'NoneType' object has no attribute 'company'\n",
      "'NoneType' object has no attribute 'company'\n",
      "'NoneType' object has no attribute 'company'\n",
      "'NoneType' object has no attribute 'company'\n",
      "'NoneType' object has no attribute 'company'\n",
      "'NoneType' object has no attribute 'company'\n",
      "'NoneType' object has no attribute 'company'\n",
      "'NoneType' object has no attribute 'company'\n",
      "'NoneType' object has no attribute 'company'\n",
      "'NoneType' object has no attribute 'company'\n",
      "'NoneType' object has no attribute 'company'\n",
      "'NoneType' object has no attribute 'company'\n",
      "'NoneType' object has no attribute 'company'\n",
      "'NoneType' object has no attribute 'company'\n",
      "'NoneType' object has no attribute 'company'\n",
      "'NoneType' object has no attribute 'company'\n",
      "'NoneType' object has no attribute 'company'\n",
      "'NoneType' object has no attribute 'company'\n",
      "'NoneType' object has no attribute 'company'\n",
      "'NoneType' object has no attribute 'company'\n",
      "'NoneType' object has no attribute 'company'\n",
      "'NoneType' object has no attribute 'company'\n",
      "'NoneType' object has no attribute 'company'\n",
      "'NoneType' object has no attribute 'company'\n",
      "'NoneType' object has no attribute 'company'\n",
      "'NoneType' object has no attribute 'company'\n",
      "'NoneType' object has no attribute 'company'\n",
      "'NoneType' object has no attribute 'company'\n",
      "'NoneType' object has no attribute 'company'\n",
      "'NoneType' object has no attribute 'company'\n",
      "'NoneType' object has no attribute 'company'\n",
      "'NoneType' object has no attribute 'company'\n",
      "'NoneType' object has no attribute 'company'\n",
      "'NoneType' object has no attribute 'company'\n",
      "'NoneType' object has no attribute 'company'\n",
      "'NoneType' object has no attribute 'company'\n",
      "'NoneType' object has no attribute 'company'\n",
      "'NoneType' object has no attribute 'company'\n",
      "'NoneType' object has no attribute 'company'\n",
      "'NoneType' object has no attribute 'company'\n",
      "'NoneType' object has no attribute 'company'\n",
      "'NoneType' object has no attribute 'company'\n",
      "'NoneType' object has no attribute 'company'\n",
      "'NoneType' object has no attribute 'company'\n",
      "'NoneType' object has no attribute 'company'\n",
      "'NoneType' object has no attribute 'company'\n",
      "'NoneType' object has no attribute 'company'\n",
      "'NoneType' object has no attribute 'company'\n",
      "'NoneType' object has no attribute 'company'\n",
      "'NoneType' object has no attribute 'company'\n",
      "'NoneType' object has no attribute 'company'\n",
      "'NoneType' object has no attribute 'company'\n",
      "'NoneType' object has no attribute 'company'\n",
      "'NoneType' object has no attribute 'company'\n",
      "'NoneType' object has no attribute 'company'\n",
      "'NoneType' object has no attribute 'company'\n",
      "'NoneType' object has no attribute 'company'\n",
      "'NoneType' object has no attribute 'company'\n",
      "'NoneType' object has no attribute 'company'\n",
      "'NoneType' object has no attribute 'company'\n",
      "'NoneType' object has no attribute 'company'\n",
      "'NoneType' object has no attribute 'company'\n",
      "'NoneType' object has no attribute 'company'\n",
      "'NoneType' object has no attribute 'company'\n",
      "'NoneType' object has no attribute 'company'\n",
      "'NoneType' object has no attribute 'company'\n",
      "'NoneType' object has no attribute 'company'\n",
      "'NoneType' object has no attribute 'company'\n",
      "'NoneType' object has no attribute 'company'\n",
      "'NoneType' object has no attribute 'company'\n",
      "'NoneType' object has no attribute 'company'\n",
      "'NoneType' object has no attribute 'company'\n",
      "'NoneType' object has no attribute 'company'\n",
      "'NoneType' object has no attribute 'company'\n",
      "'NoneType' object has no attribute 'company'\n",
      "'NoneType' object has no attribute 'company'\n",
      "'NoneType' object has no attribute 'company'\n",
      "'NoneType' object has no attribute 'company'\n",
      "'NoneType' object has no attribute 'company'\n",
      "'NoneType' object has no attribute 'company'\n",
      "'NoneType' object has no attribute 'company'\n",
      "'NoneType' object has no attribute 'company'\n",
      "'NoneType' object has no attribute 'company'\n",
      "'NoneType' object has no attribute 'company'\n",
      "'NoneType' object has no attribute 'company'\n",
      "'NoneType' object has no attribute 'company'\n",
      "'NoneType' object has no attribute 'company'\n",
      "'NoneType' object has no attribute 'company'\n",
      "'NoneType' object has no attribute 'company'\n",
      "'NoneType' object has no attribute 'company'\n",
      "'NoneType' object has no attribute 'company'\n",
      "'NoneType' object has no attribute 'company'\n",
      "'NoneType' object has no attribute 'company'\n",
      "'NoneType' object has no attribute 'company'\n",
      "'NoneType' object has no attribute 'company'\n",
      "'NoneType' object has no attribute 'company'\n"
     ]
    }
   ],
   "source": [
    "for a in tqdm(values):\n",
    "    # Recurso\n",
    "    r=Resource.objects.filter(company=company,\n",
    "               name=a['Descrição do Material'],\n",
    "               unit=a['UN'],\n",
    "               total_amount=amount).first()    \n",
    "    # Recurso do Contrato\n",
    "    sor = ServiceOrderResource(contract=contract[0],\n",
    "                           resource=r,\n",
    "                           amount=amount,\n",
    "                           created_by=user)\n",
    "    sor.save()\n",
    "    \n",
    "    # atribui o Recurso do Contrato ao Item de Preço Unitário\n",
    "    cup = ContractItemUnitPrice(sort_string=str(a['Cod']),resource=sor)\n",
    "    cup.save()\n",
    "    \n",
    "    # Adiciona a seção do contrato desejada\n",
    "    cs[0].contract_item_unit_prices.add(cup)"
   ]
  },
  {
   "cell_type": "code",
   "execution_count": null,
   "id": "33f6f043",
   "metadata": {},
   "outputs": [],
   "source": []
  },
  {
   "cell_type": "markdown",
   "id": "f31ecf59",
   "metadata": {},
   "source": [
    "# Replicar contrato de uma unidade pra outra"
   ]
  },
  {
   "cell_type": "code",
   "execution_count": 3,
   "id": "41b3b437",
   "metadata": {},
   "outputs": [
    {
     "data": {
      "text/plain": [
       "(<Contract: [GES - UHE-ITA] 1d83ebc0-19a5-4387-8b6f-2e45f34659bc: Operação e Manutenção do Sistema de Potabilidade e Efluentes Sanitários UHIT (2022-01-24 - 2022-10-24)>,\n",
       " <Company: 45b6a769-2235-4a13-a7b3-8b4d242be56b: Energia Compartilhado>)"
      ]
     },
     "execution_count": 3,
     "metadata": {},
     "output_type": "execute_result"
    }
   ],
   "source": [
    "company=Company.objects.get(name='Energia Compartilhado')\n",
    "contract_origin = Contract.objects.get(uuid='1d83ebc0-19a5-4387-8b6f-2e45f34659bc')\n",
    "contract,company"
   ]
  },
  {
   "cell_type": "code",
   "execution_count": 6,
   "id": "86fe734a",
   "metadata": {},
   "outputs": [
    {
     "ename": "FieldError",
     "evalue": "Cannot resolve keyword 'ds' into field. Choices are: administration_service_contracts, contract_item_administration, contract_item_performance, contract_item_unit_prices, description, firms, performance_service_contracts, price, unit_price_service_contracts, uuid, weight",
     "output_type": "error",
     "traceback": [
      "\u001b[0;31m---------------------------------------------------------------------------\u001b[0m",
      "\u001b[0;31mFieldError\u001b[0m                                Traceback (most recent call last)",
      "\u001b[0;32m/tmp/ipykernel_34985/2201961718.py\u001b[0m in \u001b[0;36m<module>\u001b[0;34m\u001b[0m\n\u001b[1;32m      1\u001b[0m \u001b[0;31m# Seção do contrato\u001b[0m\u001b[0;34m\u001b[0m\u001b[0;34m\u001b[0m\u001b[0;34m\u001b[0m\u001b[0m\n\u001b[0;32m----> 2\u001b[0;31m \u001b[0mcs\u001b[0m\u001b[0;34m=\u001b[0m\u001b[0mContractService\u001b[0m\u001b[0;34m.\u001b[0m\u001b[0mobjects\u001b[0m\u001b[0;34m.\u001b[0m\u001b[0mfilter\u001b[0m\u001b[0;34m(\u001b[0m\u001b[0mfirms__subcompany__company\u001b[0m\u001b[0;34m=\u001b[0m\u001b[0mcompany\u001b[0m\u001b[0;34m,\u001b[0m\u001b[0mds\u001b[0m\u001b[0;34m=\u001b[0m\u001b[0;34m'2'\u001b[0m\u001b[0;34m)\u001b[0m\u001b[0;34m\u001b[0m\u001b[0;34m\u001b[0m\u001b[0m\n\u001b[0m",
      "\u001b[0;32m~/.cache/pypoetry/virtualenvs/apps-ZFymp6kh-py3.7/lib/python3.7/site-packages/django/db/models/manager.py\u001b[0m in \u001b[0;36mmanager_method\u001b[0;34m(self, *args, **kwargs)\u001b[0m\n\u001b[1;32m     80\u001b[0m         \u001b[0;32mdef\u001b[0m \u001b[0mcreate_method\u001b[0m\u001b[0;34m(\u001b[0m\u001b[0mname\u001b[0m\u001b[0;34m,\u001b[0m \u001b[0mmethod\u001b[0m\u001b[0;34m)\u001b[0m\u001b[0;34m:\u001b[0m\u001b[0;34m\u001b[0m\u001b[0;34m\u001b[0m\u001b[0m\n\u001b[1;32m     81\u001b[0m             \u001b[0;32mdef\u001b[0m \u001b[0mmanager_method\u001b[0m\u001b[0;34m(\u001b[0m\u001b[0mself\u001b[0m\u001b[0;34m,\u001b[0m \u001b[0;34m*\u001b[0m\u001b[0margs\u001b[0m\u001b[0;34m,\u001b[0m \u001b[0;34m**\u001b[0m\u001b[0mkwargs\u001b[0m\u001b[0;34m)\u001b[0m\u001b[0;34m:\u001b[0m\u001b[0;34m\u001b[0m\u001b[0;34m\u001b[0m\u001b[0m\n\u001b[0;32m---> 82\u001b[0;31m                 \u001b[0;32mreturn\u001b[0m \u001b[0mgetattr\u001b[0m\u001b[0;34m(\u001b[0m\u001b[0mself\u001b[0m\u001b[0;34m.\u001b[0m\u001b[0mget_queryset\u001b[0m\u001b[0;34m(\u001b[0m\u001b[0;34m)\u001b[0m\u001b[0;34m,\u001b[0m \u001b[0mname\u001b[0m\u001b[0;34m)\u001b[0m\u001b[0;34m(\u001b[0m\u001b[0;34m*\u001b[0m\u001b[0margs\u001b[0m\u001b[0;34m,\u001b[0m \u001b[0;34m**\u001b[0m\u001b[0mkwargs\u001b[0m\u001b[0;34m)\u001b[0m\u001b[0;34m\u001b[0m\u001b[0;34m\u001b[0m\u001b[0m\n\u001b[0m\u001b[1;32m     83\u001b[0m             \u001b[0mmanager_method\u001b[0m\u001b[0;34m.\u001b[0m\u001b[0m__name__\u001b[0m \u001b[0;34m=\u001b[0m \u001b[0mmethod\u001b[0m\u001b[0;34m.\u001b[0m\u001b[0m__name__\u001b[0m\u001b[0;34m\u001b[0m\u001b[0;34m\u001b[0m\u001b[0m\n\u001b[1;32m     84\u001b[0m             \u001b[0mmanager_method\u001b[0m\u001b[0;34m.\u001b[0m\u001b[0m__doc__\u001b[0m \u001b[0;34m=\u001b[0m \u001b[0mmethod\u001b[0m\u001b[0;34m.\u001b[0m\u001b[0m__doc__\u001b[0m\u001b[0;34m\u001b[0m\u001b[0;34m\u001b[0m\u001b[0m\n",
      "\u001b[0;32m~/.cache/pypoetry/virtualenvs/apps-ZFymp6kh-py3.7/lib/python3.7/site-packages/django/db/models/query.py\u001b[0m in \u001b[0;36mfilter\u001b[0;34m(self, *args, **kwargs)\u001b[0m\n\u001b[1;32m    890\u001b[0m         \u001b[0mset\u001b[0m\u001b[0;34m.\u001b[0m\u001b[0;34m\u001b[0m\u001b[0;34m\u001b[0m\u001b[0m\n\u001b[1;32m    891\u001b[0m         \"\"\"\n\u001b[0;32m--> 892\u001b[0;31m         \u001b[0;32mreturn\u001b[0m \u001b[0mself\u001b[0m\u001b[0;34m.\u001b[0m\u001b[0m_filter_or_exclude\u001b[0m\u001b[0;34m(\u001b[0m\u001b[0;32mFalse\u001b[0m\u001b[0;34m,\u001b[0m \u001b[0;34m*\u001b[0m\u001b[0margs\u001b[0m\u001b[0;34m,\u001b[0m \u001b[0;34m**\u001b[0m\u001b[0mkwargs\u001b[0m\u001b[0;34m)\u001b[0m\u001b[0;34m\u001b[0m\u001b[0;34m\u001b[0m\u001b[0m\n\u001b[0m\u001b[1;32m    893\u001b[0m \u001b[0;34m\u001b[0m\u001b[0m\n\u001b[1;32m    894\u001b[0m     \u001b[0;32mdef\u001b[0m \u001b[0mexclude\u001b[0m\u001b[0;34m(\u001b[0m\u001b[0mself\u001b[0m\u001b[0;34m,\u001b[0m \u001b[0;34m*\u001b[0m\u001b[0margs\u001b[0m\u001b[0;34m,\u001b[0m \u001b[0;34m**\u001b[0m\u001b[0mkwargs\u001b[0m\u001b[0;34m)\u001b[0m\u001b[0;34m:\u001b[0m\u001b[0;34m\u001b[0m\u001b[0;34m\u001b[0m\u001b[0m\n",
      "\u001b[0;32m~/.cache/pypoetry/virtualenvs/apps-ZFymp6kh-py3.7/lib/python3.7/site-packages/django/db/models/query.py\u001b[0m in \u001b[0;36m_filter_or_exclude\u001b[0;34m(self, negate, *args, **kwargs)\u001b[0m\n\u001b[1;32m    908\u001b[0m             \u001b[0mclone\u001b[0m\u001b[0;34m.\u001b[0m\u001b[0mquery\u001b[0m\u001b[0;34m.\u001b[0m\u001b[0madd_q\u001b[0m\u001b[0;34m(\u001b[0m\u001b[0;34m~\u001b[0m\u001b[0mQ\u001b[0m\u001b[0;34m(\u001b[0m\u001b[0;34m*\u001b[0m\u001b[0margs\u001b[0m\u001b[0;34m,\u001b[0m \u001b[0;34m**\u001b[0m\u001b[0mkwargs\u001b[0m\u001b[0;34m)\u001b[0m\u001b[0;34m)\u001b[0m\u001b[0;34m\u001b[0m\u001b[0;34m\u001b[0m\u001b[0m\n\u001b[1;32m    909\u001b[0m         \u001b[0;32melse\u001b[0m\u001b[0;34m:\u001b[0m\u001b[0;34m\u001b[0m\u001b[0;34m\u001b[0m\u001b[0m\n\u001b[0;32m--> 910\u001b[0;31m             \u001b[0mclone\u001b[0m\u001b[0;34m.\u001b[0m\u001b[0mquery\u001b[0m\u001b[0;34m.\u001b[0m\u001b[0madd_q\u001b[0m\u001b[0;34m(\u001b[0m\u001b[0mQ\u001b[0m\u001b[0;34m(\u001b[0m\u001b[0;34m*\u001b[0m\u001b[0margs\u001b[0m\u001b[0;34m,\u001b[0m \u001b[0;34m**\u001b[0m\u001b[0mkwargs\u001b[0m\u001b[0;34m)\u001b[0m\u001b[0;34m)\u001b[0m\u001b[0;34m\u001b[0m\u001b[0;34m\u001b[0m\u001b[0m\n\u001b[0m\u001b[1;32m    911\u001b[0m         \u001b[0;32mreturn\u001b[0m \u001b[0mclone\u001b[0m\u001b[0;34m\u001b[0m\u001b[0;34m\u001b[0m\u001b[0m\n\u001b[1;32m    912\u001b[0m \u001b[0;34m\u001b[0m\u001b[0m\n",
      "\u001b[0;32m~/.cache/pypoetry/virtualenvs/apps-ZFymp6kh-py3.7/lib/python3.7/site-packages/django/db/models/sql/query.py\u001b[0m in \u001b[0;36madd_q\u001b[0;34m(self, q_object)\u001b[0m\n\u001b[1;32m   1311\u001b[0m         \u001b[0;31m# So, demotion is OK.\u001b[0m\u001b[0;34m\u001b[0m\u001b[0;34m\u001b[0m\u001b[0;34m\u001b[0m\u001b[0m\n\u001b[1;32m   1312\u001b[0m         \u001b[0mexisting_inner\u001b[0m \u001b[0;34m=\u001b[0m \u001b[0;34m{\u001b[0m\u001b[0ma\u001b[0m \u001b[0;32mfor\u001b[0m \u001b[0ma\u001b[0m \u001b[0;32min\u001b[0m \u001b[0mself\u001b[0m\u001b[0;34m.\u001b[0m\u001b[0malias_map\u001b[0m \u001b[0;32mif\u001b[0m \u001b[0mself\u001b[0m\u001b[0;34m.\u001b[0m\u001b[0malias_map\u001b[0m\u001b[0;34m[\u001b[0m\u001b[0ma\u001b[0m\u001b[0;34m]\u001b[0m\u001b[0;34m.\u001b[0m\u001b[0mjoin_type\u001b[0m \u001b[0;34m==\u001b[0m \u001b[0mINNER\u001b[0m\u001b[0;34m}\u001b[0m\u001b[0;34m\u001b[0m\u001b[0;34m\u001b[0m\u001b[0m\n\u001b[0;32m-> 1313\u001b[0;31m         \u001b[0mclause\u001b[0m\u001b[0;34m,\u001b[0m \u001b[0m_\u001b[0m \u001b[0;34m=\u001b[0m \u001b[0mself\u001b[0m\u001b[0;34m.\u001b[0m\u001b[0m_add_q\u001b[0m\u001b[0;34m(\u001b[0m\u001b[0mq_object\u001b[0m\u001b[0;34m,\u001b[0m \u001b[0mself\u001b[0m\u001b[0;34m.\u001b[0m\u001b[0mused_aliases\u001b[0m\u001b[0;34m)\u001b[0m\u001b[0;34m\u001b[0m\u001b[0;34m\u001b[0m\u001b[0m\n\u001b[0m\u001b[1;32m   1314\u001b[0m         \u001b[0;32mif\u001b[0m \u001b[0mclause\u001b[0m\u001b[0;34m:\u001b[0m\u001b[0;34m\u001b[0m\u001b[0;34m\u001b[0m\u001b[0m\n\u001b[1;32m   1315\u001b[0m             \u001b[0mself\u001b[0m\u001b[0;34m.\u001b[0m\u001b[0mwhere\u001b[0m\u001b[0;34m.\u001b[0m\u001b[0madd\u001b[0m\u001b[0;34m(\u001b[0m\u001b[0mclause\u001b[0m\u001b[0;34m,\u001b[0m \u001b[0mAND\u001b[0m\u001b[0;34m)\u001b[0m\u001b[0;34m\u001b[0m\u001b[0;34m\u001b[0m\u001b[0m\n",
      "\u001b[0;32m~/.cache/pypoetry/virtualenvs/apps-ZFymp6kh-py3.7/lib/python3.7/site-packages/django/db/models/sql/query.py\u001b[0m in \u001b[0;36m_add_q\u001b[0;34m(self, q_object, used_aliases, branch_negated, current_negated, allow_joins, split_subq, simple_col)\u001b[0m\n\u001b[1;32m   1339\u001b[0m                     \u001b[0mchild\u001b[0m\u001b[0;34m,\u001b[0m \u001b[0mcan_reuse\u001b[0m\u001b[0;34m=\u001b[0m\u001b[0mused_aliases\u001b[0m\u001b[0;34m,\u001b[0m \u001b[0mbranch_negated\u001b[0m\u001b[0;34m=\u001b[0m\u001b[0mbranch_negated\u001b[0m\u001b[0;34m,\u001b[0m\u001b[0;34m\u001b[0m\u001b[0;34m\u001b[0m\u001b[0m\n\u001b[1;32m   1340\u001b[0m                     \u001b[0mcurrent_negated\u001b[0m\u001b[0;34m=\u001b[0m\u001b[0mcurrent_negated\u001b[0m\u001b[0;34m,\u001b[0m \u001b[0mallow_joins\u001b[0m\u001b[0;34m=\u001b[0m\u001b[0mallow_joins\u001b[0m\u001b[0;34m,\u001b[0m\u001b[0;34m\u001b[0m\u001b[0;34m\u001b[0m\u001b[0m\n\u001b[0;32m-> 1341\u001b[0;31m                     \u001b[0msplit_subq\u001b[0m\u001b[0;34m=\u001b[0m\u001b[0msplit_subq\u001b[0m\u001b[0;34m,\u001b[0m \u001b[0msimple_col\u001b[0m\u001b[0;34m=\u001b[0m\u001b[0msimple_col\u001b[0m\u001b[0;34m,\u001b[0m\u001b[0;34m\u001b[0m\u001b[0;34m\u001b[0m\u001b[0m\n\u001b[0m\u001b[1;32m   1342\u001b[0m                 )\n\u001b[1;32m   1343\u001b[0m                 \u001b[0mjoinpromoter\u001b[0m\u001b[0;34m.\u001b[0m\u001b[0madd_votes\u001b[0m\u001b[0;34m(\u001b[0m\u001b[0mneeded_inner\u001b[0m\u001b[0;34m)\u001b[0m\u001b[0;34m\u001b[0m\u001b[0;34m\u001b[0m\u001b[0m\n",
      "\u001b[0;32m~/.cache/pypoetry/virtualenvs/apps-ZFymp6kh-py3.7/lib/python3.7/site-packages/django/db/models/sql/query.py\u001b[0m in \u001b[0;36mbuild_filter\u001b[0;34m(self, filter_expr, branch_negated, current_negated, can_reuse, allow_joins, split_subq, reuse_with_filtered_relation, simple_col)\u001b[0m\n\u001b[1;32m   1211\u001b[0m         \u001b[0;32mif\u001b[0m \u001b[0;32mnot\u001b[0m \u001b[0marg\u001b[0m\u001b[0;34m:\u001b[0m\u001b[0;34m\u001b[0m\u001b[0;34m\u001b[0m\u001b[0m\n\u001b[1;32m   1212\u001b[0m             \u001b[0;32mraise\u001b[0m \u001b[0mFieldError\u001b[0m\u001b[0;34m(\u001b[0m\u001b[0;34m\"Cannot parse keyword query %r\"\u001b[0m \u001b[0;34m%\u001b[0m \u001b[0marg\u001b[0m\u001b[0;34m)\u001b[0m\u001b[0;34m\u001b[0m\u001b[0;34m\u001b[0m\u001b[0m\n\u001b[0;32m-> 1213\u001b[0;31m         \u001b[0mlookups\u001b[0m\u001b[0;34m,\u001b[0m \u001b[0mparts\u001b[0m\u001b[0;34m,\u001b[0m \u001b[0mreffed_expression\u001b[0m \u001b[0;34m=\u001b[0m \u001b[0mself\u001b[0m\u001b[0;34m.\u001b[0m\u001b[0msolve_lookup_type\u001b[0m\u001b[0;34m(\u001b[0m\u001b[0marg\u001b[0m\u001b[0;34m)\u001b[0m\u001b[0;34m\u001b[0m\u001b[0;34m\u001b[0m\u001b[0m\n\u001b[0m\u001b[1;32m   1214\u001b[0m \u001b[0;34m\u001b[0m\u001b[0m\n\u001b[1;32m   1215\u001b[0m         \u001b[0;32mif\u001b[0m \u001b[0;32mnot\u001b[0m \u001b[0mgetattr\u001b[0m\u001b[0;34m(\u001b[0m\u001b[0mreffed_expression\u001b[0m\u001b[0;34m,\u001b[0m \u001b[0;34m'filterable'\u001b[0m\u001b[0;34m,\u001b[0m \u001b[0;32mTrue\u001b[0m\u001b[0;34m)\u001b[0m\u001b[0;34m:\u001b[0m\u001b[0;34m\u001b[0m\u001b[0;34m\u001b[0m\u001b[0m\n",
      "\u001b[0;32m~/.cache/pypoetry/virtualenvs/apps-ZFymp6kh-py3.7/lib/python3.7/site-packages/django/db/models/sql/query.py\u001b[0m in \u001b[0;36msolve_lookup_type\u001b[0;34m(self, lookup)\u001b[0m\n\u001b[1;32m   1070\u001b[0m             \u001b[0;32mif\u001b[0m \u001b[0mexpression\u001b[0m\u001b[0;34m:\u001b[0m\u001b[0;34m\u001b[0m\u001b[0;34m\u001b[0m\u001b[0m\n\u001b[1;32m   1071\u001b[0m                 \u001b[0;32mreturn\u001b[0m \u001b[0mexpression_lookups\u001b[0m\u001b[0;34m,\u001b[0m \u001b[0;34m(\u001b[0m\u001b[0;34m)\u001b[0m\u001b[0;34m,\u001b[0m \u001b[0mexpression\u001b[0m\u001b[0;34m\u001b[0m\u001b[0;34m\u001b[0m\u001b[0m\n\u001b[0;32m-> 1072\u001b[0;31m         \u001b[0m_\u001b[0m\u001b[0;34m,\u001b[0m \u001b[0mfield\u001b[0m\u001b[0;34m,\u001b[0m \u001b[0m_\u001b[0m\u001b[0;34m,\u001b[0m \u001b[0mlookup_parts\u001b[0m \u001b[0;34m=\u001b[0m \u001b[0mself\u001b[0m\u001b[0;34m.\u001b[0m\u001b[0mnames_to_path\u001b[0m\u001b[0;34m(\u001b[0m\u001b[0mlookup_splitted\u001b[0m\u001b[0;34m,\u001b[0m \u001b[0mself\u001b[0m\u001b[0;34m.\u001b[0m\u001b[0mget_meta\u001b[0m\u001b[0;34m(\u001b[0m\u001b[0;34m)\u001b[0m\u001b[0;34m)\u001b[0m\u001b[0;34m\u001b[0m\u001b[0;34m\u001b[0m\u001b[0m\n\u001b[0m\u001b[1;32m   1073\u001b[0m         \u001b[0mfield_parts\u001b[0m \u001b[0;34m=\u001b[0m \u001b[0mlookup_splitted\u001b[0m\u001b[0;34m[\u001b[0m\u001b[0;36m0\u001b[0m\u001b[0;34m:\u001b[0m\u001b[0mlen\u001b[0m\u001b[0;34m(\u001b[0m\u001b[0mlookup_splitted\u001b[0m\u001b[0;34m)\u001b[0m \u001b[0;34m-\u001b[0m \u001b[0mlen\u001b[0m\u001b[0;34m(\u001b[0m\u001b[0mlookup_parts\u001b[0m\u001b[0;34m)\u001b[0m\u001b[0;34m]\u001b[0m\u001b[0;34m\u001b[0m\u001b[0;34m\u001b[0m\u001b[0m\n\u001b[1;32m   1074\u001b[0m         \u001b[0;32mif\u001b[0m \u001b[0mlen\u001b[0m\u001b[0;34m(\u001b[0m\u001b[0mlookup_parts\u001b[0m\u001b[0;34m)\u001b[0m \u001b[0;34m>\u001b[0m \u001b[0;36m1\u001b[0m \u001b[0;32mand\u001b[0m \u001b[0;32mnot\u001b[0m \u001b[0mfield_parts\u001b[0m\u001b[0;34m:\u001b[0m\u001b[0;34m\u001b[0m\u001b[0;34m\u001b[0m\u001b[0m\n",
      "\u001b[0;32m~/.cache/pypoetry/virtualenvs/apps-ZFymp6kh-py3.7/lib/python3.7/site-packages/django/db/models/sql/query.py\u001b[0m in \u001b[0;36mnames_to_path\u001b[0;34m(self, names, opts, allow_many, fail_on_missing)\u001b[0m\n\u001b[1;32m   1441\u001b[0m                     ])\n\u001b[1;32m   1442\u001b[0m                     raise FieldError(\"Cannot resolve keyword '%s' into field. \"\n\u001b[0;32m-> 1443\u001b[0;31m                                      \"Choices are: %s\" % (name, \", \".join(available)))\n\u001b[0m\u001b[1;32m   1444\u001b[0m                 \u001b[0;32mbreak\u001b[0m\u001b[0;34m\u001b[0m\u001b[0;34m\u001b[0m\u001b[0m\n\u001b[1;32m   1445\u001b[0m             \u001b[0;31m# Check if we need any joins for concrete inheritance cases (the\u001b[0m\u001b[0;34m\u001b[0m\u001b[0;34m\u001b[0m\u001b[0;34m\u001b[0m\u001b[0m\n",
      "\u001b[0;31mFieldError\u001b[0m: Cannot resolve keyword 'ds' into field. Choices are: administration_service_contracts, contract_item_administration, contract_item_performance, contract_item_unit_prices, description, firms, performance_service_contracts, price, unit_price_service_contracts, uuid, weight"
     ]
    }
   ],
   "source": [
    "# Seção do contrato\n",
    "cs=ContractService.objects.filter(firms__subcompany__company=company,ds='2')"
   ]
  },
  {
   "cell_type": "markdown",
   "id": "d01925ab",
   "metadata": {},
   "source": [
    "# Adicionar item a item no contrato"
   ]
  },
  {
   "cell_type": "code",
   "execution_count": 63,
   "id": "c0374aad",
   "metadata": {},
   "outputs": [],
   "source": [
    "# Recurso(pode ser do RDO ou Contrato)\n",
    "r=Resource(company=company,name=values[0]['Descrição do Material'],unit=values[0]['UN'],total_amount=amount)\n",
    "r.save()"
   ]
  },
  {
   "cell_type": "code",
   "execution_count": 65,
   "id": "01222647",
   "metadata": {},
   "outputs": [
    {
     "name": "stdout",
     "output_type": "stream",
     "text": [
      "'NoneType' object has no attribute 'company'\n"
     ]
    }
   ],
   "source": [
    "# Recurso do Contrato\n",
    "sor = ServiceOrderResource(contract=contract[0],\n",
    "                           resource=r,\n",
    "                           entity=entity,\n",
    "                           amount=amount,\n",
    "                           created_by=user)\n",
    "sor.save()"
   ]
  },
  {
   "cell_type": "code",
   "execution_count": 66,
   "id": "c580eabd",
   "metadata": {},
   "outputs": [
    {
     "data": {
      "text/plain": [
       "UUID('58b2df4a-5aee-4dfa-827f-24ef89771226')"
      ]
     },
     "execution_count": 66,
     "metadata": {},
     "output_type": "execute_result"
    }
   ],
   "source": [
    "sor.uuid"
   ]
  },
  {
   "cell_type": "code",
   "execution_count": 68,
   "id": "beef7d93",
   "metadata": {},
   "outputs": [],
   "source": [
    "# atribui o Recurso do Contrato ao Item de Preço Unitário\n",
    "cup = ContractItemUnitPrice(entity=entity,resource=sor)\n",
    "cup.save()"
   ]
  },
  {
   "cell_type": "code",
   "execution_count": 69,
   "id": "40fa7f8e",
   "metadata": {},
   "outputs": [
    {
     "data": {
      "text/plain": [
       "<ContractItemUnitPrice: [Demo Concessionárias] 1adeee8b-40ae-455e-bb75-1f27c5467f7b:  ABRACADEIRA 4\" X 250MM>"
      ]
     },
     "execution_count": 69,
     "metadata": {},
     "output_type": "execute_result"
    }
   ],
   "source": [
    "cup.uuid"
   ]
  },
  {
   "cell_type": "code",
   "execution_count": 76,
   "id": "21500afb",
   "metadata": {},
   "outputs": [],
   "source": [
    "# Adiciona a seção do contrato desejada\n",
    "cs[0].contract_item_unit_prices.add(cup)"
   ]
  },
  {
   "cell_type": "code",
   "execution_count": null,
   "id": "9fe8d272",
   "metadata": {},
   "outputs": [],
   "source": []
  },
  {
   "cell_type": "code",
   "execution_count": null,
   "id": "86fc5e0f",
   "metadata": {},
   "outputs": [],
   "source": []
  }
 ],
 "metadata": {
  "kernelspec": {
   "display_name": "Django Shell-Plus",
   "language": "python",
   "name": "django_extensions"
  },
  "language_info": {
   "codemirror_mode": {
    "name": "ipython",
    "version": 3
   },
   "file_extension": ".py",
   "mimetype": "text/x-python",
   "name": "python",
   "nbconvert_exporter": "python",
   "pygments_lexer": "ipython3",
   "version": "3.7.9"
  }
 },
 "nbformat": 4,
 "nbformat_minor": 5
}
