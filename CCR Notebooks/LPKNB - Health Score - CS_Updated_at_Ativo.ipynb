{
 "cells": [
  {
   "cell_type": "code",
   "execution_count": 3,
   "metadata": {},
   "outputs": [],
   "source": [
    "import datetime as dt\n",
    "import pytz\n",
    "# from matplotlib import pyplot as plt\n",
    "from django.db.models.query_utils import Q\n",
    "import pandas as pd\n",
    "from tqdm.notebook import tqdm\n",
    "import openpyxl\n",
    "import calendar"
   ]
  },
  {
   "cell_type": "code",
   "execution_count": 6,
   "metadata": {},
   "outputs": [
    {
     "name": "stdout",
     "output_type": "stream",
     "text": [
      "STAGE=ENGIE_PRODUCTION\r\n"
     ]
    }
   ],
   "source": [
    "!cat .env"
   ]
  },
  {
   "cell_type": "code",
   "execution_count": 7,
   "metadata": {},
   "outputs": [],
   "source": [
    "#hs_tabela = pd.read_excel(\"hs.xlsx\", engine ='openpyxl')"
   ]
  },
  {
   "cell_type": "code",
   "execution_count": 10,
   "metadata": {},
   "outputs": [],
   "source": [
    "road_companies=['Arteris Fernão Dias',\n",
    "'Arteris Fernão Dias - Conserva',\n",
    "'Arteris Fluminense',\n",
    "'Arteris Fluminense - Conserva',\n",
    "'Arteris Intervias',\n",
    "'Arteris Litoral Sul',\n",
    "'Arteris Litoral Sul - Conserva',\n",
    "'Arteris Planalto Sul',\n",
    "'Arteris Planalto Sul - Conserva',\n",
    "'Arteris Regis Bittencourt',\n",
    "'Arteris Régis Bittencourt - Conserva',\n",
    "'Arteris Via Paulista',\n",
    "'Arteris Via Paulista - Faixa de Domínio',\n",
    "'Caminhos da Serra Gaúcha',\n",
    "'CART',\n",
    "'Dalba - Foz do Iguaçu',\n",
    "'Dalba Guarapuava',\n",
    "'Eixo SP',\n",
    "'Eixo sp Faixa de Domínio / Topografia / qualidade',\n",
    "'ELO Ecopistas',\n",
    "'Elo Ecovias dos Imigrantes',\n",
    "'ELO Rodovias do Tietê',\n",
    "'Elo Rodovias dos Tamoios',\n",
    "'ELO Rota das Bandeiras ',\n",
    "'Elo Via Lagos',\n",
    "'Entrevias',\n",
    "'Garcia Monteiro',\n",
    "'Modera ',\n",
    "'Neovia Alcinópolis',\n",
    "'Neovia Araquari 886/2020',\n",
    "'Neovia Araranguá',\n",
    "'Neovia Bocaína do Sul 329/2018',\n",
    "'Neovia Contorno Sul',\n",
    "'Neovia Cto Biguaçu',\n",
    "'Neovia Diamantino',\n",
    "'Neovia Lages 652/2019',\n",
    "'Neovia Lagoa Vermelha',\n",
    "'Neovia Planalto sul',\n",
    "'Neovia Ponte Serrada',\n",
    "'Neovia Rancho Queimado 080/2021',\n",
    "'Neovia Régis Bittencourt',\n",
    "'Neovia Tijucas',\n",
    "'Pavicolet (Amapá)',\n",
    "'Pavicolet (Amazonas)',\n",
    "'Rota do Oeste',\n",
    "'Sanson',\n",
    "'Sinaliza Via (Municípios) ',\n",
    "'VF Gomes - BR010',\n",
    "'VF Gomes - Confresa',\n",
    "'VF Gomes - Nova Lacerda',\n",
    "'VF Gomes - Porto Espiridião',\n",
    "'VF Gomes - Vila Bela',\n",
    "'VF Gomes BR 158',\n",
    "'Via Brasil']"
   ]
  },
  {
   "cell_type": "code",
   "execution_count": 4,
   "metadata": {},
   "outputs": [],
   "source": [
    "road_companies = [x for x in Company.objects.filter(active=True).values_list('name',flat=True).order_by('name')]"
   ]
  },
  {
   "cell_type": "code",
   "execution_count": 5,
   "metadata": {},
   "outputs": [],
   "source": [
    "road_companies=['Engie Umburanas']"
   ]
  },
  {
   "cell_type": "code",
   "execution_count": 6,
   "metadata": {},
   "outputs": [
    {
     "data": {
      "text/plain": [
       "([10, 11], 2023)"
      ]
     },
     "execution_count": 6,
     "metadata": {},
     "output_type": "execute_result"
    }
   ],
   "source": [
    "today = dt.date.today().strftime('%m')\n",
    "year = int(dt.date.today().strftime('%Y'))\n",
    "meses = [int(today)-i for i,a in enumerate(range(2),start=1)]\n",
    "meses.sort()\n",
    "months_number=meses\n",
    "meses,year"
   ]
  },
  {
   "cell_type": "code",
   "execution_count": 7,
   "metadata": {},
   "outputs": [
    {
     "data": {
      "text/plain": [
       "[31, 30]"
      ]
     },
     "execution_count": 7,
     "metadata": {},
     "output_type": "execute_result"
    }
   ],
   "source": [
    "last_days=[dt.date(year,a,calendar.monthrange(year, a)[1]).day for a in meses]\n",
    "last_days"
   ]
  },
  {
   "cell_type": "code",
   "execution_count": 8,
   "metadata": {},
   "outputs": [],
   "source": [
    "def quantitativos_v2(months_name,company):\n",
    "    sem_qtt =[]\n",
    "\n",
    "    for n in months_name:\n",
    "        com_qtt = 0\n",
    "        apontamentos_totais = 0\n",
    "        for occ in OccurrenceType.objects.filter(company__name = company).exclude(occurrence_kind='2'):\n",
    "            autofill_keys = []\n",
    "            try:\n",
    "                autofill_keys = [\n",
    "                    field[\"apiName\"] for field in occ.form_fields[\"fields\"] if \"autofill\" in field.keys()\n",
    "                ]\n",
    "            except:\n",
    "                autofill_keys = [\n",
    "                    field[\"api_name\"] for field in occ.form_fields[\"fields\"] if \"autofill\" in field.keys()\n",
    "                ]\n",
    "            size_occ=len(autofill_keys)            \n",
    "            reportings=Reporting.objects.filter(\n",
    "                occurrence_type=occ, \n",
    "                updated_at__month = n, \n",
    "                company__name = company, \n",
    "                updated_at__year=year\n",
    "            ).exclude(\n",
    "                occurrence_type__occurrence_kind='2'\n",
    "            ).exclude(\n",
    "                created_by__username='rlcs'\n",
    "            ).exclude(\n",
    "                created_by__username='cartcs'\n",
    "            ).only(\n",
    "                'form_data', 'occurrence_type'\n",
    "            ).select_related(\n",
    "                'occurrence_type'\n",
    "            )\n",
    "            \n",
    "            reportings_keys=[\n",
    "                len(a.keys()) for a in list(reportings.values_list('form_data', flat=True))\n",
    "            ]\n",
    "            com_qtt += len([a for a in reportings_keys if a > size_occ])\n",
    "            apontamentos_totais += reportings.count()\n",
    "        sem_qtt.append((apontamentos_totais - com_qtt)/apontamentos_totais if apontamentos_totais != 0 else 0)\n",
    "    return sem_qtt"
   ]
  },
  {
   "cell_type": "code",
   "execution_count": 9,
   "metadata": {},
   "outputs": [],
   "source": [
    "def dias_de_uso_v2(months_name, company):\n",
    "    \n",
    "    qtd_dias = []\n",
    "#     dias = [31, 28, 31, 30, 31, 30, 31, 31, 30, 31, 30, 31]\n",
    "    dias=last_days\n",
    "\n",
    "    for index, mes in enumerate(months_name):\n",
    "\n",
    "        a= []\n",
    "        for n in range(1, dias[index]):\n",
    "            a.append(\n",
    "                Reporting.objects.filter(\n",
    "                    company__name = company, \n",
    "                    updated_at__year=year, \n",
    "                    updated_at__month = mes,\n",
    "                    updated_at__day=n\n",
    "                ).exclude(\n",
    "                    occurrence_type__occurrence_kind='2'\n",
    "                ).exclude(\n",
    "                    created_by__username='rlcs'\n",
    "                ).exclude(\n",
    "                    created_by__username='neoviacs'\n",
    "                ).exclude(\n",
    "                    created_by__username='arteriscs'\n",
    "                ).only('uuid').count()\n",
    "            )\n",
    "        qtd_dias.append(a)\n",
    "\n",
    "    \n",
    "    quantidade = []\n",
    "    porcen_dias= []\n",
    "    \n",
    "    for qtd in qtd_dias:\n",
    "        quantidade.append(len([x for x in qtd if x != 0]))\n",
    "        \n",
    "    \n",
    "    for index, qtd in enumerate(quantidade):\n",
    "        b = qtd/dias[index]\n",
    "        porcen_dias.append(b)\n",
    "    return porcen_dias"
   ]
  },
  {
   "cell_type": "code",
   "execution_count": 10,
   "metadata": {},
   "outputs": [],
   "source": [
    "# Não está em uso o que está vigente é o v2\n",
    "def dias_de_uso_v3(months_name, company):\n",
    "    \n",
    "    porcen_dias = []\n",
    "    dias=last_days\n",
    "\n",
    "    for mes in months_name:\n",
    "\n",
    "        a = []\n",
    "        dias_do_mes = dias[mes-1]\n",
    "        for n in range(1, dias_do_mes):\n",
    "            a.append(\n",
    "                Reporting.objects.filter(\n",
    "                    company__name = company, \n",
    "                    updated_at__year=year, \n",
    "                    updated_at__month = mes,\n",
    "                    updated_at__day=n\n",
    "                ).exclude(\n",
    "                    occurrence_type__occurrence_kind='2'\n",
    "                ).exclude(\n",
    "                    created_by__username='rlcs'\n",
    "                ).exclude(\n",
    "                    created_by__username='neoviacs'\n",
    "                ).exclude(\n",
    "                    created_by__username='arteriscs'\n",
    "                ).only('uuid').count()\n",
    "            )\n",
    "\n",
    "        dias_com_apontamentos = len([x for x in a if x != 0])\n",
    "        porcen_dias.append(dias_com_apontamentos/dias_do_mes)\n",
    "\n",
    "    return porcen_dias"
   ]
  },
  {
   "cell_type": "code",
   "execution_count": 11,
   "metadata": {},
   "outputs": [],
   "source": [
    "def equipes_ativas_v2(months_name, company):\n",
    "    team_name = list(Firm.objects.filter(company__name = company).values_list('name', flat=True))\n",
    "    \n",
    "    equipes=[]\n",
    "    for team in team_name:\n",
    "        for i in months_name:\n",
    "            equipes.append(\n",
    "                Reporting.objects.filter(\n",
    "                    company__name = company, \n",
    "                    updated_at__year=year, \n",
    "                    updated_at__month= i,\n",
    "                    firm__name = team\n",
    "                ).exclude(\n",
    "                    occurrence_type__occurrence_kind='2'\n",
    "                ).exclude(\n",
    "                    created_by__username='rlcs'\n",
    "                ).exclude(\n",
    "                    created_by__username='neoviacs'\n",
    "                ).exclude(\n",
    "                    created_by__username='arteriscs'\n",
    "                ).only('uuid').count()\n",
    "            )\n",
    "    \n",
    "\n",
    "    soma = []\n",
    "    for team in team_name:\n",
    "\n",
    "        soma.append(Reporting.objects.filter(company__name = company, updated_at__year=year,firm__name = team).exclude(occurrence_type__occurrence_kind='2').exclude(created_by__username='rlcs').exclude(created_by__username='neoviacs').exclude(created_by__username='arteriscs').only('uuid').count())\n",
    "\n",
    "    porcen = []\n",
    "    for month in months_name:\n",
    "        firm_moves=[]\n",
    "        objects=['Reporting', 'Job']\n",
    "        for firm in team_name:\n",
    "            num_moves = 0\n",
    "            for item in objects:\n",
    "                num_moves+=eval(item).history.filter(history_date__year=year, history_date__month=month, company__name= company, firm__name=firm).only('uuid').count()\n",
    "            firm_moves.append((num_moves, firm))\n",
    "\n",
    "        firm_moves.sort(key=lambda tup: tup[0], reverse=True)\n",
    "        active_firms=len([firm for firm in firm_moves if firm[0]>0])\n",
    "        porcen.append(active_firms/len(firm_moves) if len(firm_moves) != 0 else 0)\n",
    "    \n",
    "    return porcen"
   ]
  },
  {
   "cell_type": "code",
   "execution_count": 12,
   "metadata": {},
   "outputs": [],
   "source": [
    "def variacao(months):\n",
    "    taxa_variacao = []\n",
    "    for i,m in enumerate(months):\n",
    "        y = months[i]\n",
    "        b = months\n",
    "        c = b.index(y) \n",
    "        if c == 0:\n",
    "            taxa_variacao.append(0)\n",
    "        if y > b[c-1] and c != 0:\n",
    "            m = (y-b[c-1])/y\n",
    "            taxa_variacao.append(m)\n",
    "        if y == b[c-1] and c != 0:\n",
    "            i = y*0\n",
    "            taxa_variacao.append(i)\n",
    "        if y < b[c-1] and c!= 0 :\n",
    "            n = (y -b[c-1])/b[c-1]\n",
    "            taxa_variacao.append(n)\n",
    "    return taxa_variacao\n"
   ]
  },
  {
   "cell_type": "code",
   "execution_count": 13,
   "metadata": {},
   "outputs": [],
   "source": [
    "def qtt_nota(nota):\n",
    "    a = 0\n",
    "    if nota <0.05:\n",
    "        a = 1\n",
    "    if nota >= 0.05 and nota <0.15:\n",
    "        a = 0.65\n",
    "    if nota >= 0.15 and nota < 0.3:\n",
    "        a = 0.3\n",
    "    if nota >= 0.3:\n",
    "        a = 0\n",
    "    return a"
   ]
  },
  {
   "cell_type": "code",
   "execution_count": 14,
   "metadata": {},
   "outputs": [],
   "source": [
    "def uso_nota(nota):\n",
    "    a = 0\n",
    "    if nota <0.4:\n",
    "        a = 0\n",
    "    if nota >= 0.4 and nota <0.65:\n",
    "        a = 0.3\n",
    "    if nota >= 0.65 and nota < 0.8:\n",
    "        a = 0.65\n",
    "    if nota > 0.8:\n",
    "        a = 1\n",
    "    return a"
   ]
  },
  {
   "cell_type": "code",
   "execution_count": 15,
   "metadata": {},
   "outputs": [],
   "source": [
    "def equipe_nota(nota):\n",
    "    a = 0\n",
    "    if nota > 0.6:\n",
    "        a = 1\n",
    "    if nota >0.45 and nota <=0.6:\n",
    "        a = 0.65\n",
    "    if nota > 0.3 and nota <= 0.45:\n",
    "        a = 0.3\n",
    "    if nota <= 0.3:\n",
    "        a = 0\n",
    "    return a"
   ]
  },
  {
   "cell_type": "code",
   "execution_count": 16,
   "metadata": {},
   "outputs": [],
   "source": [
    "def variacao_nota(nota):\n",
    "    a= 0\n",
    "    if nota >= 0.25:\n",
    "        a = 1\n",
    "    if nota >= 0.15 and nota <0.25:\n",
    "        a = 0.75\n",
    "    if nota >= -0.15 and nota < 0.15:\n",
    "        a = 0.5\n",
    "    if nota >= -0.25 and nota < -0.15:\n",
    "        a = 0.5\n",
    "    if nota < -0.25:\n",
    "        a = 0\n",
    "    return a"
   ]
  },
  {
   "cell_type": "code",
   "execution_count": 17,
   "metadata": {},
   "outputs": [
    {
     "data": {
      "application/vnd.jupyter.widget-view+json": {
       "model_id": "4b65a37f567a4bb8ae18fa6a9d5a2f89",
       "version_major": 2,
       "version_minor": 0
      },
      "text/plain": [
       "  0%|          | 0/1 [00:00<?, ?it/s]"
      ]
     },
     "metadata": {},
     "output_type": "display_data"
    },
    {
     "name": "stdout",
     "output_type": "stream",
     "text": [
      "Engie Umburanas\n"
     ]
    }
   ],
   "source": [
    "uso_sistema = []\n",
    "sem_quantitativos = []\n",
    "equipes = []\n",
    "variacao_dias = []\n",
    "for company in tqdm(road_companies):\n",
    "    months=[]\n",
    "    print(company)\n",
    "    for n in months_number:\n",
    "        months.append(\n",
    "#             Reporting.objects.filter(\n",
    "#                 company__name = company, \n",
    "#                 created_at__year=year, \n",
    "#                 created_at__month=n\n",
    "#             ).exclude(\n",
    "#                 occurrence_type__occurrence_kind='2'\n",
    "#             ).exclude(\n",
    "#                 created_by__username='rlcs'\n",
    "#             ).exclude(\n",
    "#                 created_by__username='neoviacs'\n",
    "#             ).exclude(\n",
    "#                 created_by__username='arteriscs'\n",
    "#             ).only('uuid').count()\n",
    "            Reporting.objects.filter(\n",
    "                company__name = company, \n",
    "                updated_at__year=year, \n",
    "                updated_at__month=n\n",
    "            ).exclude(\n",
    "                occurrence_type__occurrence_kind='2'\n",
    "            ).exclude(\n",
    "                created_by__username='rlcs'\n",
    "            ).exclude(\n",
    "                created_by__username='neoviacs'\n",
    "            ).exclude(\n",
    "                created_by__username='arteriscs'\n",
    "            ).only('uuid').count()\n",
    "        )\n",
    "    uso_sistema.append(dias_de_uso_v2(months_number, company))\n",
    "    sem_quantitativos.append(quantitativos_v2(months_number, company))\n",
    "    equipes.append(equipes_ativas_v2(months_number, company))\n",
    "    variacao_dias.append(variacao(months)) \n",
    "    #print(months)\n",
    "#     print(f' dias de uso: {dias_de_uso_v2(months_number, company)} \\n sem quantitativos: {quantitativos_v2(months_number, company)} \\n equipes ativas: {equipes_ativas_v2(months_number, company)} \\n variação dias: {variacao(months)} ')"
   ]
  },
  {
   "cell_type": "code",
   "execution_count": 18,
   "metadata": {},
   "outputs": [
    {
     "data": {
      "application/vnd.jupyter.widget-view+json": {
       "model_id": "e94c2a8bd43149429a94bfd3dec65835",
       "version_major": 2,
       "version_minor": 0
      },
      "text/plain": [
       "  0%|          | 0/2 [00:00<?, ?it/s]"
      ]
     },
     "metadata": {},
     "output_type": "display_data"
    },
    {
     "name": "stdout",
     "output_type": "stream",
     "text": [
      "Engie Umburanas\n",
      "0\n",
      "15\n",
      "4.5\n",
      "17.5\n",
      "Engie Umburanas\n",
      "0\n",
      "15\n",
      "4.5\n",
      "0\n"
     ]
    }
   ],
   "source": [
    "hs_month = []\n",
    "hs_month_export = {}\n",
    "for i in tqdm(range(len(months_number))):\n",
    "    hs = []\n",
    "    for n in range(len(road_companies)):\n",
    "        print(road_companies[n])\n",
    "        if uso_sistema[n][i] == 0:\n",
    "            hs.append(0)\n",
    "        else:\n",
    "            hs.append(\n",
    "                35*(uso_nota(uso_sistema[n][i])) \n",
    "                + 15*(qtt_nota(sem_quantitativos[n][i])) \n",
    "                + 15*(equipe_nota(equipes[n][i]))\n",
    "                + 35*(variacao_nota(variacao_dias[n][i]))\n",
    "            )\n",
    "            print(35 * uso_nota(uso_sistema[n][i]))\n",
    "            print(15 * qtt_nota(sem_quantitativos[n][i]))\n",
    "            print(15 * equipe_nota(equipes[n][i]))\n",
    "            print(35 * variacao_nota(variacao_dias[n][i]))\n",
    "        if not hs_month_export.get(road_companies[n]):\n",
    "            hs_month_export[road_companies[n]] = []\n",
    "        hs_month_export[road_companies[n]].append(hs[-1])\n",
    "\n",
    "    hs_month.append(hs)"
   ]
  },
  {
   "cell_type": "code",
   "execution_count": 19,
   "metadata": {},
   "outputs": [
    {
     "data": {
      "text/plain": [
       "{'Engie Umburanas': [37.0, 19.5]}"
      ]
     },
     "execution_count": 19,
     "metadata": {},
     "output_type": "execute_result"
    }
   ],
   "source": [
    "hs_month_export"
   ]
  },
  {
   "cell_type": "code",
   "execution_count": 20,
   "metadata": {},
   "outputs": [],
   "source": [
    "hs_novo = []\n",
    "for i in hs_month_export.values():\n",
    "    hs_novo.append(i[-1])"
   ]
  },
  {
   "cell_type": "code",
   "execution_count": 21,
   "metadata": {},
   "outputs": [
    {
     "data": {
      "text/plain": [
       "[19.5]"
      ]
     },
     "execution_count": 21,
     "metadata": {},
     "output_type": "execute_result"
    }
   ],
   "source": [
    "hs_novo"
   ]
  },
  {
   "cell_type": "code",
   "execution_count": 22,
   "metadata": {},
   "outputs": [],
   "source": [
    "#with pd.ExcelWriter(\"hs2022piloto\" + '.xlsx') as writer:\n",
    "#    hs_excel = hs_tabela.to_excel(writer, index = False, sheet_name = \"Página 1\")"
   ]
  },
  {
   "cell_type": "code",
   "execution_count": 23,
   "metadata": {},
   "outputs": [],
   "source": [
    "df= pd.DataFrame(data=hs_month_export)\n",
    "df = df.transpose()"
   ]
  },
  {
   "cell_type": "code",
   "execution_count": 24,
   "metadata": {},
   "outputs": [
    {
     "data": {
      "text/html": [
       "<div>\n",
       "<style scoped>\n",
       "    .dataframe tbody tr th:only-of-type {\n",
       "        vertical-align: middle;\n",
       "    }\n",
       "\n",
       "    .dataframe tbody tr th {\n",
       "        vertical-align: top;\n",
       "    }\n",
       "\n",
       "    .dataframe thead th {\n",
       "        text-align: right;\n",
       "    }\n",
       "</style>\n",
       "<table border=\"1\" class=\"dataframe\">\n",
       "  <thead>\n",
       "    <tr style=\"text-align: right;\">\n",
       "      <th></th>\n",
       "      <th>Penúltimo Mês</th>\n",
       "      <th>Último Mês</th>\n",
       "    </tr>\n",
       "  </thead>\n",
       "  <tbody>\n",
       "    <tr>\n",
       "      <th>Engie Umburanas</th>\n",
       "      <td>37.0</td>\n",
       "      <td>19.5</td>\n",
       "    </tr>\n",
       "  </tbody>\n",
       "</table>\n",
       "</div>"
      ],
      "text/plain": [
       "                 Penúltimo Mês  Último Mês\n",
       "Engie Umburanas           37.0        19.5"
      ]
     },
     "execution_count": 24,
     "metadata": {},
     "output_type": "execute_result"
    }
   ],
   "source": [
    "df.columns=['Penúltimo Mês','Último Mês']\n",
    "df"
   ]
  },
  {
   "cell_type": "code",
   "execution_count": 55,
   "metadata": {},
   "outputs": [],
   "source": [
    "df.to_excel('hsOut2023.xlsx')"
   ]
  },
  {
   "cell_type": "code",
   "execution_count": null,
   "metadata": {},
   "outputs": [],
   "source": []
  }
 ],
 "metadata": {
  "kernelspec": {
   "display_name": "Django Shell-Plus",
   "language": "python",
   "name": "django_extensions"
  },
  "language_info": {
   "codemirror_mode": {
    "name": "ipython",
    "version": 3
   },
   "file_extension": ".py",
   "mimetype": "text/x-python",
   "name": "python",
   "nbconvert_exporter": "python",
   "pygments_lexer": "ipython3",
   "version": "3.7.9"
  }
 },
 "nbformat": 4,
 "nbformat_minor": 2
}
