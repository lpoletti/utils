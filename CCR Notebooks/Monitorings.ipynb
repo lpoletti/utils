{
 "cells": [
  {
   "cell_type": "code",
   "execution_count": 1,
   "metadata": {},
   "outputs": [],
   "source": [
    "%load_ext autoreload\n",
    "%autoreload 2"
   ]
  },
  {
   "cell_type": "markdown",
   "metadata": {},
   "source": [
    "# Get Company"
   ]
  },
  {
   "cell_type": "code",
   "execution_count": 2,
   "metadata": {},
   "outputs": [],
   "source": [
    "company = Company.objects.get(name=\"PRE-UHE-ITA\")"
   ]
  },
  {
   "cell_type": "markdown",
   "metadata": {},
   "source": [
    "# Search Tags"
   ]
  },
  {
   "cell_type": "markdown",
   "metadata": {},
   "source": [
    "## Procurar a SearchTag de level 1 com o nome de Monitoramento e alterar o campo kind para 'select_option' e o campo redirect para ‘MonitoringPlan’. "
   ]
  },
  {
   "cell_type": "code",
   "execution_count": 11,
   "metadata": {},
   "outputs": [],
   "source": [
    "from apps.templates.const import search_tag_kinds"
   ]
  },
  {
   "cell_type": "code",
   "execution_count": 12,
   "metadata": {},
   "outputs": [],
   "source": [
    "search_tag = SearchTag.objects.filter(company=company, level=1, name__icontains=\"monitoramento\").first()"
   ]
  },
  {
   "cell_type": "code",
   "execution_count": 13,
   "metadata": {},
   "outputs": [],
   "source": [
    "if search_tag:\n",
    "    search_tag.kind = search_tag_kinds.SELECT_OPTION\n",
    "    search_tag.redirect = \"MonitoringPlan\"\n",
    "    search_tag.save()"
   ]
  },
  {
   "cell_type": "markdown",
   "metadata": {},
   "source": [
    "## Criar mais três SearchTags de level 2 indicando os tipos do registro e que o componente pai seja o Monitoramento de level 1. "
   ]
  },
  {
   "cell_type": "code",
   "execution_count": 19,
   "metadata": {},
   "outputs": [],
   "source": [
    "names = ['Paramêtros Físicos-Químicos', 'Paramêtros Biológicos', 'Paramêtros Específicos']"
   ]
  },
  {
   "cell_type": "code",
   "execution_count": 20,
   "metadata": {},
   "outputs": [],
   "source": [
    "for name in names:\n",
    "    tag = SearchTag.objects.create(\n",
    "        company=company,\n",
    "        name=name,\n",
    "        kind=search_tag_kinds.SELECT_OPTION,\n",
    "        level=2,\n",
    "        description='',\n",
    "        redirect='',\n",
    "    )\n",
    "    tag.parent_tags.add(search_tag)"
   ]
  },
  {
   "cell_type": "markdown",
   "metadata": {},
   "source": [
    "# Company Metadata"
   ]
  },
  {
   "cell_type": "markdown",
   "metadata": {},
   "source": [
    "## Garantir a existência da chave \"PM_name_format\" para Planos de Monitoramento"
   ]
  },
  {
   "cell_type": "code",
   "execution_count": 54,
   "metadata": {},
   "outputs": [],
   "source": [
    "company.metadata[\"PM_name_format\"] = '{prefixo}-PM-{anoCompleto}.{serialAno:04}'"
   ]
  },
  {
   "cell_type": "markdown",
   "metadata": {},
   "source": [
    "## Garantir a existência da chave \"CM_name_format\" para Ciclos de Monitoramento"
   ]
  },
  {
   "cell_type": "code",
   "execution_count": 55,
   "metadata": {},
   "outputs": [],
   "source": [
    "company.metadata[\"CM_name_format\"] = '{prefixo}-CM-{anoCompleto}.{serialAno:04}'"
   ]
  },
  {
   "cell_type": "markdown",
   "metadata": {},
   "source": [
    "## Garantir a existência da chave \"COM_name_format\" para Coletas"
   ]
  },
  {
   "cell_type": "code",
   "execution_count": 56,
   "metadata": {},
   "outputs": [],
   "source": [
    "company.metadata[\"COM_name_format\"] = '{prefixo}-COM-{anoCompleto}.{serialAno:04}'"
   ]
  },
  {
   "cell_type": "code",
   "execution_count": 57,
   "metadata": {},
   "outputs": [],
   "source": [
    "company.save()"
   ]
  },
  {
   "cell_type": "markdown",
   "metadata": {},
   "source": [
    "# Monitoring Status"
   ]
  },
  {
   "cell_type": "code",
   "execution_count": 3,
   "metadata": {},
   "outputs": [],
   "source": [
    "from apps.service_orders.models import status_types"
   ]
  },
  {
   "cell_type": "code",
   "execution_count": 41,
   "metadata": {},
   "outputs": [],
   "source": [
    "status_names = [\n",
    "    ('Aguardando Início', 'start', False),\n",
    "    ('Em Edição', 'edit', False),\n",
    "    ('Em Operação', 'final', True)\n",
    "]"
   ]
  },
  {
   "cell_type": "code",
   "execution_count": 42,
   "metadata": {},
   "outputs": [],
   "source": [
    "for i, (status_name, status_metadata, status_flag) in enumerate(status_names):\n",
    "    status = ServiceOrderActionStatus.objects.create(\n",
    "        name=status_name,\n",
    "        kind=status_types.MONITORING_STATUS,\n",
    "        metadata={'status': status_metadata},\n",
    "        is_final=status_flag,\n",
    "    )\n",
    "    ServiceOrderActionStatusSpecs.objects.create(\n",
    "        status=status,\n",
    "        company=company,\n",
    "        order=i\n",
    "    )"
   ]
  },
  {
   "cell_type": "markdown",
   "metadata": {},
   "source": [
    "## Update todos os Planos de Monitoramento existentes com o status de Em Operação"
   ]
  },
  {
   "cell_type": "code",
   "execution_count": 96,
   "metadata": {},
   "outputs": [],
   "source": [
    "final_status = ServiceOrderActionStatusSpecs.objects.filter(\n",
    "    company=company,\n",
    "    status__kind=status_types.MONITORING_STATUS,\n",
    "    status__is_final=True,\n",
    ").first().status"
   ]
  },
  {
   "cell_type": "code",
   "execution_count": 97,
   "metadata": {},
   "outputs": [
    {
     "data": {
      "text/plain": [
       "12"
      ]
     },
     "execution_count": 97,
     "metadata": {},
     "output_type": "execute_result"
    }
   ],
   "source": [
    "MonitoringPlan.objects.filter(\n",
    "    company=company\n",
    ").update(status=final_status)"
   ]
  },
  {
   "cell_type": "markdown",
   "metadata": {},
   "source": [
    "# Create \"Aguardando Avaliação\" Status"
   ]
  },
  {
   "cell_type": "code",
   "execution_count": 13,
   "metadata": {},
   "outputs": [],
   "source": [
    "status_filter = {\n",
    "    \"company\": company,\n",
    "    \"status__kind\": status_types.OCCURRENCE_RECORD_STATUS,\n",
    "}\n",
    "current_statuses = ServiceOrderActionStatusSpecs.objects.filter(\n",
    "    **status_filter\n",
    ")"
   ]
  },
  {
   "cell_type": "code",
   "execution_count": 8,
   "metadata": {},
   "outputs": [],
   "source": [
    "new_order = len(current_statuses) + 1"
   ]
  },
  {
   "cell_type": "code",
   "execution_count": 61,
   "metadata": {},
   "outputs": [
    {
     "data": {
      "text/plain": [
       "<ServiceOrderActionStatusSpecs: [Aguardando Avaliação] - PRE-UHE-ITA>"
      ]
     },
     "execution_count": 61,
     "metadata": {},
     "output_type": "execute_result"
    }
   ],
   "source": [
    "aguardando_avaliacao = ServiceOrderActionStatus.objects.create(\n",
    "    kind=status_types.OCCURRENCE_RECORD_STATUS,\n",
    "    name=\"Aguardando Avaliação\",\n",
    ")\n",
    "\n",
    "ServiceOrderActionStatusSpecs.objects.create(\n",
    "    status=aguardando_avaliacao,\n",
    "    company=company,\n",
    "    order=new_order\n",
    ")"
   ]
  },
  {
   "cell_type": "markdown",
   "metadata": {},
   "source": [
    "## Update lock_occurrence_record_at in company Metadata"
   ]
  },
  {
   "cell_type": "code",
   "execution_count": 107,
   "metadata": {},
   "outputs": [],
   "source": [
    "lock_occurrence_record_at = company.metadata.get(\"lock_occurrence_record_at\", [])\n",
    "lock_occurrence_record_at.append(str(aguardando_avaliacao.pk))\n",
    "company.metadata[\"lock_occurrence_record_at\"] = lock_occurrence_record_at\n",
    "company.save()"
   ]
  },
  {
   "cell_type": "markdown",
   "metadata": {},
   "source": [
    "# Approval Flow"
   ]
  },
  {
   "cell_type": "code",
   "execution_count": 14,
   "metadata": {},
   "outputs": [],
   "source": [
    "# Get all status\n",
    "aguardando_homologacao = str(ServiceOrderActionStatusSpecs.objects.get(\n",
    "    **status_filter,\n",
    "    status__name__icontains=\"aguardando homologa\",\n",
    ").status.pk)\n",
    "registro_indeferido = str(ServiceOrderActionStatusSpecs.objects.get(\n",
    "    **status_filter,\n",
    "    status__name__icontains=\"registro indeferido\",\n",
    ").status.pk)\n",
    "necessita_revisao = str(ServiceOrderActionStatusSpecs.objects.get(\n",
    "    **status_filter,\n",
    "    status__name__icontains=\"necessita revis\",\n",
    ").status.pk)\n",
    "registro_em_elaboracao = str(ServiceOrderActionStatusSpecs.objects.get(\n",
    "    **status_filter,\n",
    "    status__name__icontains=\"registro em elabora\",\n",
    ").status.pk)\n",
    "registro_deferido = str(ServiceOrderActionStatusSpecs.objects.get(\n",
    "    **status_filter,\n",
    "    status__name__icontains=\"registro deferido\",\n",
    ").status.pk)\n",
    "aguardando_avaliacao = str(ServiceOrderActionStatusSpecs.objects.get(\n",
    "    **status_filter,\n",
    "    status__name__icontains=\"aguardando avalia\",\n",
    ").status.pk)"
   ]
  },
  {
   "cell_type": "code",
   "execution_count": 15,
   "metadata": {},
   "outputs": [],
   "source": [
    "# Create ApprovalFlow\n",
    "approval_flow = ApprovalFlow.objects.create(\n",
    "    company=company,\n",
    "    name=\"Fluxo Registros de Monitoramento\",\n",
    "    target_model=\"occurrence_records.OccurrenceRecord\",\n",
    ")"
   ]
  },
  {
   "cell_type": "code",
   "execution_count": 16,
   "metadata": {},
   "outputs": [],
   "source": [
    "# Create ApprovalSteps\n",
    "steps_names = [\n",
    "    (\"Registro em Elaboração\", {\"filter\": [\"executers\"]}),\n",
    "    (\"Aguardando Avaliação\", {\"filter\": [\"evaluators\"], \"enable_edit\": True}),\n",
    "    (\"Necessita Revisão\", {\"filter\": [\"executers\"]}),\n",
    "    (\"Registro Indeferido\", {}),\n",
    "    (\"Aguardando Homologação\", {\"filter\": [\"approvers\", \"homologator\"], \"enable_edit\": True}),\n",
    "    (\"Registro Deferido\", {}),\n",
    "]\n",
    "\n",
    "for step, field_options in steps_names:\n",
    "    ApprovalStep.objects.create(\n",
    "        name=step,\n",
    "        approval_flow=approval_flow,\n",
    "        field_options=field_options,\n",
    "    )"
   ]
  },
  {
   "cell_type": "code",
   "execution_count": 17,
   "metadata": {},
   "outputs": [],
   "source": [
    "# Create ApprovalTransitions\n",
    "\n",
    "# Transition: Registro em Elaboração -> Aguardando Avaliação\n",
    "transition_1 = {\n",
    "    \"name\": \"Solicitar Avaliação\",\n",
    "    \"order\": 2,\n",
    "    \"origin_id\": ApprovalStep.objects.get(\n",
    "        name=\"Registro em Elaboração\",\n",
    "        approval_flow=approval_flow,\n",
    "    ).pk,\n",
    "    \"destination_id\": ApprovalStep.objects.get(\n",
    "        name=\"Aguardando Avaliação\",\n",
    "        approval_flow=approval_flow,\n",
    "    ).pk,\n",
    "    \"button\": {\n",
    "        'icon': 'assignment',\n",
    "        'color': 'primary',\n",
    "        'variant': 'raised'\n",
    "    },\n",
    "    \"condition\": {\"===\": [{\"var\": \"request.action\"}, \"Solicitar Avaliação\"]},\n",
    "    \"callback\": {\n",
    "        \"change_fields\": [{\n",
    "            \"name\": \"status\",\n",
    "            \"value\": {\n",
    "                \"type\": \"object\",\n",
    "                \"model\": \"service_orders.ServiceOrderActionStatus\",\n",
    "                \"filters\": {\n",
    "                    \"uuid\": aguardando_avaliacao\n",
    "                }\n",
    "            }\n",
    "        }]\n",
    "    }\n",
    "}\n",
    "\n",
    "# Transition: Aguardando Avaliação -> Aguardando Homologação\n",
    "transition_2 = {\n",
    "    \"name\": \"Avaliar\",\n",
    "    \"order\": 1,\n",
    "    \"origin_id\": ApprovalStep.objects.get(\n",
    "        name=\"Aguardando Avaliação\",\n",
    "        approval_flow=approval_flow,\n",
    "    ).pk,\n",
    "    \"destination_id\": ApprovalStep.objects.get(\n",
    "        name=\"Aguardando Homologação\",\n",
    "        approval_flow=approval_flow,\n",
    "    ).pk,\n",
    "    \"button\": {\n",
    "        'icon': 'done_all',\n",
    "        'color': 'primary',\n",
    "        'variant': 'raised'\n",
    "    },\n",
    "    \"condition\": {\"===\": [{\"var\": \"request.action\"}, \"Avaliar\"]},\n",
    "    \"callback\": {\n",
    "        \"change_fields\": [{\n",
    "            \"name\": \"status\",\n",
    "            \"value\": {\n",
    "                \"type\": \"object\",\n",
    "                \"model\": \"service_orders.ServiceOrderActionStatus\",\n",
    "                \"filters\": {\n",
    "                    \"uuid\": aguardando_homologacao\n",
    "                }\n",
    "            }\n",
    "        }]\n",
    "    }\n",
    "}\n",
    "\n",
    "# Transition: Aguardando Avaliação -> Necessita Revisão\n",
    "transition_3 = {\n",
    "    \"name\": \"Solicitar Revisão\",\n",
    "    \"order\": 2,\n",
    "    \"origin_id\": ApprovalStep.objects.get(\n",
    "        name=\"Aguardando Avaliação\",\n",
    "        approval_flow=approval_flow,\n",
    "    ).pk,\n",
    "    \"destination_id\": ApprovalStep.objects.get(\n",
    "        name=\"Necessita Revisão\",\n",
    "        approval_flow=approval_flow,\n",
    "    ).pk,\n",
    "    \"button\": {\n",
    "        'icon': 'warning',\n",
    "        'color': 'amber',\n",
    "        'variant': 'outlined',\n",
    "    },\n",
    "    \"condition\": {\"===\": [{\"var\": \"request.action\"}, \"Solicitar Revisão\"]},\n",
    "    \"callback\": {\n",
    "        \"change_fields\": [{\n",
    "            \"name\": \"status\",\n",
    "            \"value\": {\n",
    "                \"type\": \"object\",\n",
    "                \"model\": \"service_orders.ServiceOrderActionStatus\",\n",
    "                \"filters\": {\n",
    "                    \"uuid\": necessita_revisao\n",
    "                }\n",
    "            }\n",
    "        }]\n",
    "    }\n",
    "}\n",
    "\n",
    "# Transition: Aguardando Avaliação -> Registro Indeferido\n",
    "transition_4 = {\n",
    "    \"name\": \"Rejeitar\",\n",
    "    \"order\": 3,\n",
    "    \"origin_id\": ApprovalStep.objects.get(\n",
    "        name=\"Aguardando Avaliação\",\n",
    "        approval_flow=approval_flow,\n",
    "    ).pk,\n",
    "    \"destination_id\": ApprovalStep.objects.get(\n",
    "        name=\"Registro Indeferido\",\n",
    "        approval_flow=approval_flow,\n",
    "    ).pk,\n",
    "    \"button\": {\n",
    "        'icon': 'cancel',\n",
    "        'color': 'red',\n",
    "        'variant': 'outlined'\n",
    "    },\n",
    "    \"condition\": {\"===\": [{\"var\": \"request.action\"}, \"Rejeitar\"]},\n",
    "    \"callback\": {\n",
    "        \"change_fields\": [{\n",
    "            \"name\": \"status\",\n",
    "            \"value\": {\n",
    "                \"type\": \"object\",\n",
    "                \"model\": \"service_orders.ServiceOrderActionStatus\",\n",
    "                \"filters\": {\n",
    "                    \"uuid\": registro_indeferido\n",
    "                }\n",
    "            }\n",
    "        }]\n",
    "    }\n",
    "}\n",
    "\n",
    "# Transition: Necessita Revisão -> Aguardando Avaliação\n",
    "transition_5 = {\n",
    "    \"name\": \"Solicitar Avaliação\",\n",
    "    \"order\": 1,\n",
    "    \"origin_id\": ApprovalStep.objects.get(\n",
    "        name=\"Necessita Revisão\",\n",
    "        approval_flow=approval_flow,\n",
    "    ).pk,\n",
    "    \"destination_id\": ApprovalStep.objects.get(\n",
    "        name=\"Aguardando Avaliação\",\n",
    "        approval_flow=approval_flow,\n",
    "    ).pk,\n",
    "    \"button\": {\n",
    "        'icon': 'assignment',\n",
    "        'color': 'primary',\n",
    "        'variant': 'raised'\n",
    "    },\n",
    "    \"condition\": {\"===\": [{\"var\": \"request.action\"}, \"Solicitar Avaliação\"]},\n",
    "    \"callback\": {\n",
    "        \"change_fields\": [{\n",
    "            \"name\": \"status\",\n",
    "            \"value\": {\n",
    "                \"type\": \"object\",\n",
    "                \"model\": \"service_orders.ServiceOrderActionStatus\",\n",
    "                \"filters\": {\n",
    "                    \"uuid\": aguardando_avaliacao\n",
    "                }\n",
    "            }\n",
    "        }]\n",
    "    }\n",
    "}\n",
    "\n",
    "# Transition: Aguardando Homologação -> Registro Deferido\n",
    "transition_6 = {\n",
    "    \"name\": \"Homologar\",\n",
    "    \"order\": 1,\n",
    "    \"origin_id\": ApprovalStep.objects.get(\n",
    "        name=\"Aguardando Homologação\",\n",
    "        approval_flow=approval_flow,\n",
    "    ).pk,\n",
    "    \"destination_id\": ApprovalStep.objects.get(\n",
    "        name=\"Registro Deferido\",\n",
    "        approval_flow=approval_flow,\n",
    "    ).pk,\n",
    "    \"button\": {\n",
    "        'icon': 'done_all',\n",
    "        'color': 'primary',\n",
    "        'variant': 'raised'\n",
    "    },\n",
    "    \"condition\": {\"===\": [{\"var\": \"request.action\"}, \"Homologar\"]},\n",
    "    \"callback\": {\n",
    "        \"change_fields\": [{\n",
    "            \"name\": \"status\",\n",
    "            \"value\": {\n",
    "                \"type\": \"object\",\n",
    "                \"model\": \"service_orders.ServiceOrderActionStatus\",\n",
    "                \"filters\": {\n",
    "                    \"uuid\": registro_deferido\n",
    "                }\n",
    "            }\n",
    "        }],\n",
    "        \"is_approved\": True,\n",
    "    }\n",
    "}\n",
    "\n",
    "# Transition: Aguardando Homologação -> Necessita Revisão\n",
    "transition_7 = {\n",
    "    \"name\": \"Solicitar Revisão\",\n",
    "    \"order\": 2,\n",
    "    \"origin_id\": ApprovalStep.objects.get(\n",
    "        name=\"Aguardando Homologação\",\n",
    "        approval_flow=approval_flow,\n",
    "    ).pk,\n",
    "    \"destination_id\": ApprovalStep.objects.get(\n",
    "        name=\"Necessita Revisão\",\n",
    "        approval_flow=approval_flow,\n",
    "    ).pk,\n",
    "    \"button\": {\n",
    "        'icon': 'warning',\n",
    "        'color': 'amber',\n",
    "        'variant': 'outlined',\n",
    "    },\n",
    "    \"condition\": {\"===\": [{\"var\": \"request.action\"}, \"Solicitar Revisão\"]},\n",
    "    \"callback\": {\n",
    "        \"change_fields\": [{\n",
    "            \"name\": \"status\",\n",
    "            \"value\": {\n",
    "                \"type\": \"object\",\n",
    "                \"model\": \"service_orders.ServiceOrderActionStatus\",\n",
    "                \"filters\": {\n",
    "                    \"uuid\": necessita_revisao\n",
    "                }\n",
    "            }\n",
    "        }]\n",
    "    }\n",
    "}\n",
    "\n",
    "# Transition: Aguardando Homologação -> Registro Indeferido\n",
    "transition_8 = {\n",
    "    \"name\": \"Rejeitar\",\n",
    "    \"order\": 3,\n",
    "    \"origin_id\": ApprovalStep.objects.get(\n",
    "        name=\"Aguardando Homologação\",\n",
    "        approval_flow=approval_flow,\n",
    "    ).pk,\n",
    "    \"destination_id\": ApprovalStep.objects.get(\n",
    "        name=\"Registro Indeferido\",\n",
    "        approval_flow=approval_flow,\n",
    "    ).pk,\n",
    "    \"button\": {\n",
    "        'icon': 'cancel',\n",
    "        'color': 'red',\n",
    "        'variant': 'outlined'\n",
    "    },\n",
    "    \"condition\": {\"===\": [{\"var\": \"request.action\"}, \"Rejeitar\"]},\n",
    "    \"callback\": {\n",
    "        \"change_fields\": [{\n",
    "            \"name\": \"status\",\n",
    "            \"value\": {\n",
    "                \"type\": \"object\",\n",
    "                \"model\": \"service_orders.ServiceOrderActionStatus\",\n",
    "                \"filters\": {\n",
    "                    \"uuid\": registro_indeferido\n",
    "                }\n",
    "            }\n",
    "        }]\n",
    "    }\n",
    "}"
   ]
  },
  {
   "cell_type": "code",
   "execution_count": 18,
   "metadata": {},
   "outputs": [],
   "source": [
    "all_transitions = [\n",
    "    transition_1,\n",
    "    transition_2,\n",
    "    transition_3,\n",
    "    transition_4,\n",
    "    transition_5,\n",
    "    transition_6,\n",
    "    transition_7,\n",
    "    transition_8\n",
    "]"
   ]
  },
  {
   "cell_type": "code",
   "execution_count": 19,
   "metadata": {},
   "outputs": [],
   "source": [
    "for item in all_transitions:\n",
    "    ApprovalTransition.objects.create(**item)"
   ]
  }
 ],
 "metadata": {
  "kernelspec": {
   "display_name": "Django Shell-Plus",
   "language": "python",
   "name": "django_extensions"
  },
  "language_info": {
   "codemirror_mode": {
    "name": "ipython",
    "version": 3
   },
   "file_extension": ".py",
   "mimetype": "text/x-python",
   "name": "python",
   "nbconvert_exporter": "python",
   "pygments_lexer": "ipython3",
   "version": "3.6.15"
  }
 },
 "nbformat": 4,
 "nbformat_minor": 4
}
