{
 "cells": [
  {
   "cell_type": "code",
   "execution_count": null,
   "metadata": {},
   "outputs": [],
   "source": [
    "%load_ext autoreload"
   ]
  },
  {
   "cell_type": "code",
   "execution_count": null,
   "metadata": {},
   "outputs": [],
   "source": [
    "%autoreload 2"
   ]
  },
  {
   "cell_type": "code",
   "execution_count": null,
   "metadata": {},
   "outputs": [],
   "source": [
    "!pip install tqdm --upgrade"
   ]
  },
  {
   "cell_type": "code",
   "execution_count": null,
   "metadata": {},
   "outputs": [],
   "source": [
    "!pip install lorem"
   ]
  },
  {
   "cell_type": "code",
   "execution_count": null,
   "metadata": {},
   "outputs": [],
   "source": [
    "!pip install google_images_download"
   ]
  },
  {
   "cell_type": "code",
   "execution_count": null,
   "metadata": {},
   "outputs": [],
   "source": [
    "from openpyxl import load_workbook\n",
    "from tqdm.notebook import tqdm\n",
    "from copy import deepcopy\n",
    "from arrow import Arrow\n",
    "from datetime import datetime, timedelta\n",
    "from random import choice\n",
    "from django_bulk_update.helper import bulk_update\n",
    "from simple_history.utils import bulk_create_with_history\n",
    "from IPython.display import display, Markdown\n",
    "import lorem\n",
    "import json\n",
    "import os\n",
    "import random\n",
    "import copy\n",
    "import math"
   ]
  },
  {
   "cell_type": "code",
   "execution_count": null,
   "metadata": {},
   "outputs": [],
   "source": [
    "from fixtures.mock_empreiteira.permission_names import pretty_print_permission\n",
    "from helpers.validators.brazilian_documents import generate_cnpj\n",
    "from helpers.strings import get_autonumber_array, clean_latin_string\n",
    "from helpers.signals import DisableSignals\n",
    "from helpers.apps.services import (\n",
    "    create_or_update_services_and_usages,\n",
    "    create_services_from_measurement,\n",
    ")\n",
    "from apps.reportings.signals import reporting_create, auto_add_reporting_number\n",
    "from django_bulk_update.helper import bulk_update"
   ]
  },
  {
   "cell_type": "markdown",
   "metadata": {},
   "source": [
    "# CONCESSIONARIA"
   ]
  },
  {
   "cell_type": "code",
   "execution_count": null,
   "metadata": {},
   "outputs": [],
   "source": [
    "company_name = \"Demo Concessionárias - 10/2020\"\n",
    "prefixo_folder = \"fixtures/mock_concessionaria/\"\n",
    "prefixo_users = \"demo.\"\n",
    "admin_user_count = 4\n",
    "campo_user_count = 25"
   ]
  },
  {
   "cell_type": "code",
   "execution_count": null,
   "metadata": {},
   "outputs": [],
   "source": [
    "companies = Company.objects.filter(name=company_name)"
   ]
  },
  {
   "cell_type": "code",
   "execution_count": null,
   "metadata": {},
   "outputs": [],
   "source": [
    "company = companies.first()"
   ]
  },
  {
   "cell_type": "markdown",
   "metadata": {},
   "source": [
    "## WARNING! The following two cells will delete an existing company with the same name"
   ]
  },
  {
   "cell_type": "code",
   "execution_count": null,
   "metadata": {},
   "outputs": [],
   "source": [
    "User.objects.filter(companies__in=companies).delete()"
   ]
  },
  {
   "cell_type": "code",
   "execution_count": null,
   "metadata": {},
   "outputs": [],
   "source": [
    "companies.delete()"
   ]
  },
  {
   "cell_type": "markdown",
   "metadata": {},
   "source": [
    "## Define permission levels, users and firms"
   ]
  },
  {
   "cell_type": "code",
   "execution_count": null,
   "metadata": {},
   "outputs": [],
   "source": [
    "user_firm_count = {\n",
    "    \"Inativo\": {\n",
    "        \"permission\": None,\n",
    "        \"user_count\": 0,\n",
    "        \"firm_names\": [],\n",
    "        \"firms\": [],\n",
    "        \"users\": []\n",
    "    },\n",
    "    \"Gerente\": {\n",
    "        \"permission\": None,\n",
    "        \"user_count\": 3,\n",
    "        \"firm_names\": [\"Gerência\"],\n",
    "        \"firms\": [],\n",
    "        \"users\": []\n",
    "    },\n",
    "    \"Coordenador\": {\n",
    "        \"permission\": None,\n",
    "        \"user_count\": 3,\n",
    "        \"firm_names\": [\"Coordenação\"],\n",
    "        \"firms\": [],\n",
    "        \"users\": []\n",
    "    },\n",
    "    \"Engenheiro\": {\n",
    "        \"permission\": None,\n",
    "        \"user_count\": 5,\n",
    "        \"firm_names\": [\"Engenharia\"],\n",
    "        \"firms\": [],\n",
    "        \"users\": []\n",
    "    },\n",
    "    \"Inspetor\": {\n",
    "        \"permission\": None,\n",
    "        \"user_count\": 20,\n",
    "        \"firm_names\": [\"Inspeção Lote 1\", \"Inspeção Lote 2\"],\n",
    "        \"firms\": [],\n",
    "        \"users\": []\n",
    "    },\n",
    "    \"Terceiro\": {\n",
    "        \"permission\": None,\n",
    "        \"user_count\": 30,\n",
    "        \"firm_names\": [\"MaxxEmpreiteira\", \"RodoConstruções\", \"Silva Mão de Obra\", \"Empreiteira Carneiro\"],\n",
    "        \"firms\": [],\n",
    "        \"users\": []\n",
    "    },\n",
    "    \"ARTESP\": {\n",
    "        \"permission\": None,\n",
    "        \"user_count\": 5,\n",
    "        \"firm_names\": [\"ARTESP\"],\n",
    "        \"firms\": [],\n",
    "        \"users\": []\n",
    "    },\n",
    "    \"Sala técnica\": {\n",
    "        \"permission\": None,\n",
    "        \"user_count\": 5,\n",
    "        \"firm_names\": [\"Sala Técnica\"],\n",
    "        \"firms\": [],\n",
    "        \"users\": []\n",
    "    }\n",
    "}"
   ]
  },
  {
   "cell_type": "markdown",
   "metadata": {},
   "source": [
    "## User\n",
    "\n",
    "Create users before creating the Company because we need somebody to be the `owner` of the Company"
   ]
  },
  {
   "cell_type": "code",
   "execution_count": null,
   "metadata": {},
   "outputs": [],
   "source": [
    "with open(prefixo_folder + 'first_names.json', 'r+') as fo:\n",
    "    first_names = json.load(fo)\n",
    "    \n",
    "with open(prefixo_folder + 'last_names.json', 'r+') as fo:\n",
    "    last_names = json.load(fo)\n",
    "    \n",
    "def get_user_params():\n",
    "    first = choice(first_names)\n",
    "    last = choice(last_names)\n",
    "    username = prefixo_users + first.lower() + \".\" + last.lower()\n",
    "    return first, last, username"
   ]
  },
  {
   "cell_type": "code",
   "execution_count": null,
   "metadata": {},
   "outputs": [],
   "source": [
    "for _, user_firms in user_firm_count.items():\n",
    "\n",
    "    first, last, username = get_user_params()\n",
    "    for _ in range(user_firms['user_count']):\n",
    "        while User.objects.filter(username=username):\n",
    "            first, last, username = get_user_params()\n",
    "\n",
    "        user = User.objects.create(\n",
    "            first_name=first,\n",
    "            last_name=last,\n",
    "            username=username,\n",
    "        )\n",
    "        user.set_password('kartado')\n",
    "        user.save()\n",
    "        user_firms['users'].append(user)"
   ]
  },
  {
   "cell_type": "code",
   "execution_count": null,
   "metadata": {},
   "outputs": [],
   "source": [
    "user_firm_count['Sala técnica']['users']"
   ]
  },
  {
   "cell_type": "markdown",
   "metadata": {},
   "source": [
    "## Company\n",
    "\n",
    "Create a Company. The name will be provided when the script runs."
   ]
  },
  {
   "cell_type": "code",
   "execution_count": null,
   "metadata": {},
   "outputs": [],
   "source": [
    "with open(prefixo_folder + 'metadata.json', 'r+') as fo:\n",
    "    metadata = json.load(fo)"
   ]
  },
  {
   "cell_type": "code",
   "execution_count": null,
   "metadata": {},
   "outputs": [],
   "source": [
    "with open(prefixo_folder + 'custom_options.json', 'r+') as fo:\n",
    "    custom_options = json.load(fo)"
   ]
  },
  {
   "cell_type": "code",
   "execution_count": null,
   "metadata": {},
   "outputs": [],
   "source": [
    "company = Company.objects.create(\n",
    "    name=company_name,\n",
    "    metadata=metadata,\n",
    "    custom_options=custom_options,\n",
    "    active=True,\n",
    "    cnpj=generate_cnpj(),\n",
    "    owner=user_firm_count['Gerente']['users'][0]\n",
    ")"
   ]
  },
  {
   "cell_type": "markdown",
   "metadata": {},
   "source": [
    "## UserPermission\n",
    "\n",
    "Create permission levels according to object above"
   ]
  },
  {
   "cell_type": "code",
   "execution_count": null,
   "metadata": {},
   "outputs": [],
   "source": [
    "for permission_name in user_firm_count.keys():\n",
    "    with open(prefixo_folder + 'permissions/{}.json'.format(permission_name), 'r+') as fo:\n",
    "        permission_json = json.load(fo)\n",
    "        permission_obj = UserPermission.objects.create(\n",
    "            name=permission_name,\n",
    "            permissions=permission_json\n",
    "        )\n",
    "        permission_obj.companies.set([company])\n",
    "        user_firm_count[permission_name]['permission'] = permission_obj"
   ]
  },
  {
   "cell_type": "markdown",
   "metadata": {},
   "source": [
    "## UserInCompany\n",
    "\n",
    "Associate all the created users"
   ]
  },
  {
   "cell_type": "code",
   "execution_count": null,
   "metadata": {},
   "outputs": [],
   "source": [
    "for user_firms in user_firm_count.values():\n",
    "    for user in user_firms['users']:        \n",
    "        user_in_company = UserInCompany.objects.create(\n",
    "            user=user,\n",
    "            company=company,\n",
    "            permissions=user_firms['permission']\n",
    "        )"
   ]
  },
  {
   "cell_type": "markdown",
   "metadata": {},
   "source": [
    "## CompanyGroup\n",
    "\n",
    "Create a CompanyGroup with the same name as the company.\n",
    "\n",
    "Set the CompanyGroup of the Company and all the users to be the newly created one."
   ]
  },
  {
   "cell_type": "code",
   "execution_count": null,
   "metadata": {},
   "outputs": [],
   "source": [
    "company_group = CompanyGroup.objects.create(\n",
    "    name=company_name,\n",
    "    key_user=user_firm_count['Gerente']['users'][0]\n",
    ")"
   ]
  },
  {
   "cell_type": "code",
   "execution_count": null,
   "metadata": {},
   "outputs": [],
   "source": [
    "company.company_group = company_group\n",
    "company.save()\n",
    "\n",
    "for user_firms in user_firm_count.values():\n",
    "    for user in user_firms['users']:        \n",
    "        user.company_group = company_group\n",
    "        user.save()"
   ]
  },
  {
   "cell_type": "markdown",
   "metadata": {},
   "source": [
    "## Firm\n",
    "\n",
    "Create one object for admins and several for the other users"
   ]
  },
  {
   "cell_type": "code",
   "execution_count": null,
   "metadata": {},
   "outputs": [],
   "source": [
    "Firm.objects.filter(company=company).delete()"
   ]
  },
  {
   "cell_type": "code",
   "execution_count": null,
   "metadata": {},
   "outputs": [],
   "source": [
    "for user_firms in user_firm_count.values():\n",
    "    for firm in user_firms['firm_names']:\n",
    "        firm_obj = Firm.objects.create(\n",
    "            name=firm,\n",
    "            company=company,\n",
    "            cnpj=generate_cnpj(),\n",
    "            is_company_team= (not user_firms['permission'].name == \"Terceiro\"),\n",
    "            members_amount = math.ceil(user_firms['user_count'] / len(user_firms['firm_names']))\n",
    "        )\n",
    "        user_firms['firms'].append(firm_obj)\n",
    "    \n",
    "    for user in user_firms['users']:\n",
    "        chosen_firm = choice(user_firms['firms'])\n",
    "        user_in_firm = UserInFirm.objects.create(\n",
    "            user=user,\n",
    "            firm=chosen_firm\n",
    "        )\n",
    "        if not chosen_firm.manager:\n",
    "            chosen_firm.manager = user\n",
    "            chosen_firm.save()"
   ]
  },
  {
   "cell_type": "markdown",
   "metadata": {},
   "source": [
    "## TileLayers\n",
    "\n",
    "Create using this objects below and tie all of them to the newly created company."
   ]
  },
  {
   "cell_type": "code",
   "execution_count": null,
   "metadata": {},
   "outputs": [],
   "source": [
    "tile_objects = [{\"type\": \"mapbox\", \"description\": \"Satélite\", \"name\": \"Satélite\", \"provider_info\": {\"url\": \"https://api.mapbox.com/styles/v1/natank/cjmmhqxpt0jsn2smsihy5nx5w/tiles/{z}/{x}/{y}.mapbox\", \"type\": \"mapbox\", \"order\": 3, \"accessToken\": \"pk.eyJ1IjoibmF0YW5rIiwiYSI6ImNqbW1oNngyYjBoZWEzcm83dDRnZTRmMnoifQ.IJHj30XcphWWzx7Luvc-2A\", \"attribution\": \"Licensed by &copy; <a href=\\\"https://www.mapbox.com/\\\">Mapbox</a>\", \"styleString\": \"mapbox://styles/natank/ck0z9h5s014wj1cqum4jjssbk\"}},\n",
    "{\"type\": \"mapbox\", \"description\": \"Mapa Claro\", \"name\": \"Mapa Claro\", \"provider_info\": {\"url\": \"https://api.mapbox.com/styles/v1/natank/cjmmhqxpt0jsn2smsihy5nx5w/tiles/{z}/{x}/{y}.mapbox\", \"type\": \"mapbox\", \"order\": 4, \"accessToken\": \"pk.eyJ1IjoibmF0YW5rIiwiYSI6ImNqbW1oNngyYjBoZWEzcm83dDRnZTRmMnoifQ.IJHj30XcphWWzx7Luvc-2A\", \"attribution\": \"Licensed by &copy; <a href=\\\"https://www.mapbox.com/\\\">Mapbox</a>\", \"styleString\": \"mapbox://styles/natank/ck0z9bp0r0z4l1cqhp4wt15ew\"}},\n",
    "{\"type\": \"mapbox\", \"description\": \"Mapa Escuro\", \"name\": \"Mapa Escuro\", \"provider_info\": {\"url\": \"https://api.mapbox.com/styles/v1/natank/cjmmhqxpt0jsn2smsihy5nx5w/tiles/{z}/{x}/{y}.mapbox\", \"type\": \"mapbox\", \"order\": 5, \"accessToken\": \"pk.eyJ1IjoibmF0YW5rIiwiYSI6ImNqbW1oNngyYjBoZWEzcm83dDRnZTRmMnoifQ.IJHj30XcphWWzx7Luvc-2A\", \"attribution\": \"Licensed by &copy; <a href=\\\"https://www.mapbox.com/\\\">Mapbox</{a>\", \"styleString\": \"mapbox://styles/natank/ck0z9os2914au1cqqaj464p5m\"}},\n",
    "{\"type\": \"openStreetMap\", \"description\": \"OpenStreetMap\", \"name\": \"OpenStreetMap\", \"provider_info\": {\"url\": \"https://{s}.tile.openstreetmap.org/{z}/{x}/{y}.png\", \"type\": \"openStreetMap\", \"order\": 6, \"attribution\": \"&amp;copy <a href=\\\"http://osm.org/copyright\\\">OpenStreetMap</a> contributors\"}},\n",
    "{\"type\": \"mapbox\", \"description\": \"Relevo\", \"name\": \"Relevo\", \"provider_info\": {\"url\": \"https://api.mapbox.com/styles/v1/natank/cjmmhqxpt0jsn2smsihy5nx5w/tiles/{z}/{x}/{y}.mapbox\", \"type\": \"mapbox\", \"order\": 2, \"accessToken\": \"pk.eyJ1IjoibmF0YW5rIiwiYSI6ImNqbW1oNngyYjBoZWEzcm83dDRnZTRmMnoifQ.IJHj30XcphWWzx7Luvc-2A\", \"attribution\": \"Licensed by &copy; <a href=\\\"https://www.mapbox.com/\\\">Mapbox</a>\", \"styleString\": \"mapbox://styles/natank/ck0z7y0bi0g6x1cq1oxwo8bhd\"}},\n",
    "{\"type\": \"mapbox\", \"description\": \"Padrão\", \"name\": \"Padrão\", \"provider_info\": {\"url\": \"https://api.mapbox.com/styles/v1/natank/cjmmhqxpt0jsn2smsihy5nx5w/tiles/{z}/{x}/{y}.mapbox\", \"type\": \"mapbox\", \"order\": 1, \"accessToken\": \"pk.eyJ1IjoibmF0YW5rIiwiYSI6ImNqbW1oNngyYjBoZWEzcm83dDRnZTRmMnoifQ.IJHj30XcphWWzx7Luvc-2A\", \"attribution\": \"Licensed by &copy; <a href=\\\"https://www.mapbox.com/\\\">Mapbox</a>\", \"styleString\": \"mapbox://styles/natank/cjn50jrc82oyq2rlew8h2c7yp\"}}]"
   ]
  },
  {
   "cell_type": "code",
   "execution_count": null,
   "metadata": {},
   "outputs": [],
   "source": [
    "for item in tile_objects:\n",
    "    tile_layer = TileLayer.objects.create(**item)\n",
    "    tile_layer.companies.add(company)\n",
    "    tile_layer.save()"
   ]
  },
  {
   "cell_type": "markdown",
   "metadata": {},
   "source": [
    "## ShapeFile\n",
    "\n",
    "not necessary for now"
   ]
  },
  {
   "cell_type": "markdown",
   "metadata": {},
   "source": [
    "## OccurrenceType and OccurrenceTypeSpecs\n",
    "\n",
    "Create objects tying the OccurrenceType objects to the new Company. Randomize the color."
   ]
  },
  {
   "cell_type": "code",
   "execution_count": null,
   "metadata": {},
   "outputs": [],
   "source": [
    "class DateTimeAwareJSONDecoder(json.JSONDecoder):\n",
    "    \"\"\" \n",
    "    Converts a json string, where datetime and timedelta objects were converted\n",
    "    into objects using the DateTimeAwareJSONEncoder, back into a python object.\n",
    "    \"\"\"\n",
    "\n",
    "    def __init__(self):\n",
    "        json.JSONDecoder.__init__(self, object_hook=self.dict_to_object)\n",
    "\n",
    "    def dict_to_object(self, d):\n",
    "        if '__type__' not in d:\n",
    "            return d\n",
    "\n",
    "        type = d.pop('__type__')\n",
    "        if type == 'datetime':\n",
    "            return datetime(**d)\n",
    "        elif type == 'timedelta':\n",
    "            return timedelta(**d)\n",
    "        else:\n",
    "            # Oops... better put this back together.\n",
    "            d['__type__'] = type\n",
    "            return d"
   ]
  },
  {
   "cell_type": "code",
   "execution_count": null,
   "metadata": {},
   "outputs": [],
   "source": [
    "new_forms = []\n",
    "\n",
    "forms_folder = prefixo_folder + \"formularios\"\n",
    "for index, file in enumerate(os.listdir(forms_folder)):\n",
    "    if not '.json' in file:\n",
    "        continue\n",
    "    file_name = '{}/{}'.format(forms_folder, file)\n",
    "    print('------')\n",
    "    print(file_name)\n",
    "    with open(file_name, 'r+') as fo:\n",
    "        decoder = DateTimeAwareJSONDecoder()\n",
    "        form = json.load(fo)\n",
    "        form['deadline'] = decoder.decode(form['deadline'])\n",
    "        print(form['displayName'])\n",
    "        print(form['deadline'])\n",
    "        new_forms.append(form)"
   ]
  },
  {
   "cell_type": "code",
   "execution_count": null,
   "metadata": {},
   "outputs": [],
   "source": [
    "occurrence_types = []\n",
    "for form in new_forms:\n",
    "    form_copy = deepcopy(form)\n",
    "    if 'deadline' in form_copy.keys():\n",
    "        del form_copy['deadline']\n",
    "    if 'kind' in form_copy.keys():\n",
    "        del form_copy['kind']\n",
    "    occurrence_type = OccurrenceType(\n",
    "        name=form['displayName'],\n",
    "        occurrence_kind=form['kind'],\n",
    "        form_fields = form_copy,\n",
    "        created_by=user_firm_count['Gerente']['users'][0],\n",
    "        deadline= form['deadline'] if 'deadline' in form else None\n",
    "    )\n",
    "    occurrence_types.append(occurrence_type)"
   ]
  },
  {
   "cell_type": "code",
   "execution_count": null,
   "metadata": {},
   "outputs": [],
   "source": [
    "for occurrence_type in occurrence_types:\n",
    "    occurrence_type.save()\n",
    "    spec = OccurrenceTypeSpecs(\n",
    "        occurrence_type = occurrence_type,\n",
    "        company = company,\n",
    "        color = \"#\"+''.join([random.choice('0123456789ABCDEF') for j in range(6)])\n",
    "    )\n",
    "    spec.save()"
   ]
  },
  {
   "cell_type": "code",
   "execution_count": null,
   "metadata": {},
   "outputs": [],
   "source": [
    "def get_color():\n",
    "    return \"#%06x\" % random.randint(0, 0xFFFFFF)"
   ]
  },
  {
   "cell_type": "markdown",
   "metadata": {},
   "source": [
    "## ServiceOrderActionStatus and ServiceOrderActionStatusSpecs\n",
    "\n",
    "Create copies of the ones from Arteris Litoral Sul\n",
    "\n",
    "Create one for each status"
   ]
  },
  {
   "cell_type": "code",
   "execution_count": null,
   "metadata": {},
   "outputs": [],
   "source": [
    "statuses = [{\"name\": \"Identificado\", \"color\": \"#ffeb3b\", \"order\": 1},\n",
    "{\"name\": \"Programado\", \"color\": \"#f44336\", \"order\": 2},\n",
    "{\"name\": \"Emergencial\", \"color\": \"#f57c00\", \"order\": 3},\n",
    "{\"name\": \"Em Análise\", \"color\": \"#9c27b0\", \"order\": 4},\n",
    "{\"name\": \"Pré-Programação\", \"color\": \"#e91e63\", \"order\": 5},\n",
    "{\"name\": \"Cancelado\", \"color\": \"#d9d9d9\", \"order\": 6},\n",
    "{\"name\": \"Justificado\", \"color\": \"#2196f3\", \"order\": 7},\n",
    "{\"name\": \"Executado\", \"color\": \"#4caf50\", \"order\": 8}]"
   ]
  },
  {
   "cell_type": "code",
   "execution_count": null,
   "metadata": {},
   "outputs": [],
   "source": [
    "for status in statuses:    \n",
    "    status_obj = ServiceOrderActionStatus.objects.create(\n",
    "        name=status['name'],\n",
    "        kind=\"REPORTING_STATUS\"\n",
    "    )\n",
    "    status_specs = ServiceOrderActionStatusSpecs.objects.create(\n",
    "        company=company,\n",
    "        status=status_obj,\n",
    "        color=status['color'],\n",
    "        order=status['order']\n",
    "    )"
   ]
  },
  {
   "cell_type": "markdown",
   "metadata": {},
   "source": [
    "## ApprovalFlow for Reporting"
   ]
  },
  {
   "cell_type": "code",
   "execution_count": null,
   "metadata": {},
   "outputs": [],
   "source": [
    "ApprovalFlow.objects.filter(company=company, target_model=\"reportings.Reporting\").delete()"
   ]
  },
  {
   "cell_type": "code",
   "execution_count": null,
   "metadata": {},
   "outputs": [],
   "source": [
    "for permission in UserPermission.objects.filter(companies=company).exclude(name=\"Inativo\"):\n",
    "    permission.permissions['Reporting']['can_approve'] = True\n",
    "    permission.save()"
   ]
  },
  {
   "cell_type": "code",
   "execution_count": null,
   "metadata": {},
   "outputs": [],
   "source": [
    "flow = ApprovalFlow(\n",
    "    name=\"Fluxo Apontamentos\",\n",
    "    target_model=\"reportings.Reporting\",\n",
    "    company=company\n",
    ")\n",
    "flow.save()"
   ]
  },
  {
   "cell_type": "code",
   "execution_count": null,
   "metadata": {},
   "outputs": [],
   "source": [
    "elaboracao = ApprovalStep(\n",
    "    name=\"Em Elaboração\",\n",
    "    approval_flow=flow,\n",
    ")\n",
    "elaboracao.responsible_created_by = True\n",
    "elaboracao.save()\n",
    "elaboracao.responsible_firms.add(Firm.objects.get(name=\"Engenharia\", company=company))\n",
    "elaboracao.responsible_firms.add(Firm.objects.get(name=\"Sala Técnica\", company=company))"
   ]
  },
  {
   "cell_type": "code",
   "execution_count": null,
   "metadata": {},
   "outputs": [],
   "source": [
    "homolog_normal = ApprovalStep(\n",
    "    name=\"Aguardando Aprovação\",\n",
    "    approval_flow=flow,\n",
    ")\n",
    "homolog_normal.save()\n",
    "homolog_normal.responsible_firms.add(Firm.objects.get(name=\"Engenharia\", company=company))\n",
    "homolog_normal.responsible_firms.add(Firm.objects.get(name=\"Sala Técnica\", company=company))"
   ]
  },
  {
   "cell_type": "code",
   "execution_count": null,
   "metadata": {},
   "outputs": [],
   "source": [
    "revisao = ApprovalStep(\n",
    "    name=\"Necessita Revisão\",\n",
    "    approval_flow=flow,\n",
    ")\n",
    "revisao.responsible_created_by = True\n",
    "revisao.save()\n",
    "revisao.responsible_firms.add(Firm.objects.get(name=\"Engenharia\", company=company))\n",
    "revisao.responsible_firms.add(Firm.objects.get(name=\"Sala Técnica\", company=company))"
   ]
  },
  {
   "cell_type": "code",
   "execution_count": null,
   "metadata": {},
   "outputs": [],
   "source": [
    "deferido = ApprovalStep(\n",
    "    name=\"Aprovado\",\n",
    "    approval_flow=flow,\n",
    ")\n",
    "deferido.save()"
   ]
  },
  {
   "cell_type": "code",
   "execution_count": null,
   "metadata": {},
   "outputs": [],
   "source": [
    "indeferido = ApprovalStep(\n",
    "    name=\"Reprovado\",\n",
    "    approval_flow=flow,\n",
    ")\n",
    "indeferido.save()"
   ]
  },
  {
   "cell_type": "code",
   "execution_count": null,
   "metadata": {},
   "outputs": [],
   "source": [
    "trans_homolog_normal = ApprovalTransition(\n",
    "    name=\"Solicitar Aprovação\",\n",
    "    origin=elaboracao,\n",
    "    destination=homolog_normal,\n",
    "    callback={\n",
    "        \"change_fields\": [\n",
    "            {\"name\": \"approved\", \"value\": True}, \n",
    "            {\"name\": \"done\", \"value\": True}\n",
    "        ]\n",
    "    },\n",
    "    condition={\n",
    "        \"===\": [{\n",
    "            \"var\": \"request.action\"\n",
    "            }, \"Solicitar Aprovação\"]\n",
    "    },\n",
    "    button={\"icon\": \"assignment\", \"color\": \"primary\", \"variant\": \"raised\"}\n",
    ")\n",
    "trans_homolog_normal.save()\n"
   ]
  },
  {
   "cell_type": "code",
   "execution_count": null,
   "metadata": {},
   "outputs": [],
   "source": [
    "trans_homolog_again_normal = ApprovalTransition(\n",
    "    name=\"Solicitar Aprovação\",\n",
    "    origin=revisao,\n",
    "    destination=homolog_normal,\n",
    "    condition={\n",
    "        \"===\": [{\n",
    "            \"var\": \"request.action\"\n",
    "        }, \"Solicitar Aprovação\"]\n",
    "    },\n",
    "    button={\"icon\": \"assignment\", \"color\": \"primary\", \"variant\": \"raised\"}\n",
    ")\n",
    "trans_homolog_again_normal.save()\n"
   ]
  },
  {
   "cell_type": "code",
   "execution_count": null,
   "metadata": {},
   "outputs": [],
   "source": [
    "trans_revisar_normal = ApprovalTransition(\n",
    "    name=\"Solicitar Revisão\",\n",
    "    origin=homolog_normal,\n",
    "    destination=revisao,\n",
    "    condition={\n",
    "        \"===\": [{\n",
    "            \"var\": \"request.action\"\n",
    "        }, \"Solicitar Revisão\"]\n",
    "    },\n",
    "    button={\"icon\": \"warning\", \"color\": \"amber\", \"variant\": \"outlined\", \"needs_dialog\": True}\n",
    ")\n",
    "trans_revisar_normal.save()\n"
   ]
  },
  {
   "cell_type": "code",
   "execution_count": null,
   "metadata": {},
   "outputs": [],
   "source": [
    "trans_homologar_normal = ApprovalTransition(\n",
    "    name=\"Aprovar\",\n",
    "    origin=homolog_normal,\n",
    "    destination=deferido,\n",
    "    condition={\n",
    "        \"===\": [{\n",
    "            \"var\": \"request.action\"\n",
    "        }, \"Aprovar\"] \n",
    "    },\n",
    "    button={\"icon\": \"check\", \"color\": \"primary\", \"variant\": \"raised\"}\n",
    ")\n",
    "trans_homologar_normal.save()\n"
   ]
  },
  {
   "cell_type": "code",
   "execution_count": null,
   "metadata": {},
   "outputs": [],
   "source": [
    "trans_rejeitar_normal = ApprovalTransition(\n",
    "    name=\"Reprovar\",\n",
    "    origin=homolog_normal,\n",
    "    destination=indeferido,\n",
    "    condition={\n",
    "        \"===\": [{\n",
    "            \"var\": \"request.action\"\n",
    "        }, \"Reprovar\"]\n",
    "    },\n",
    "    button={\"icon\": \"clear\", \"color\": \"red\", \"variant\": \"outlined\"}\n",
    ")\n",
    "trans_rejeitar_normal.save()\n"
   ]
  },
  {
   "cell_type": "code",
   "execution_count": null,
   "metadata": {},
   "outputs": [],
   "source": [
    "company.metadata['approved_approval_steps'] = [str(deferido.uuid)]"
   ]
  },
  {
   "cell_type": "code",
   "execution_count": null,
   "metadata": {},
   "outputs": [],
   "source": [
    "company.save()"
   ]
  },
  {
   "cell_type": "markdown",
   "metadata": {},
   "source": [
    "## ApprovalFlow for MeasurementBulletin"
   ]
  },
  {
   "cell_type": "code",
   "execution_count": null,
   "metadata": {},
   "outputs": [],
   "source": [
    "ApprovalFlow.objects.filter(company=company, target_model=\"service_orders.MeasurementBulletin\").delete()"
   ]
  },
  {
   "cell_type": "code",
   "execution_count": null,
   "metadata": {},
   "outputs": [],
   "source": [
    "flow = ApprovalFlow(\n",
    "    name=\"Fluxo Boletins de Medição\",\n",
    "    target_model=\"service_orders.MeasurementBulletin\",\n",
    "    company=company\n",
    ")\n",
    "flow.save()"
   ]
  },
  {
   "cell_type": "code",
   "execution_count": null,
   "metadata": {},
   "outputs": [],
   "source": [
    "step1 = ApprovalStep(\n",
    "    name=\"Aguardando Aprovação\",\n",
    "    approval_flow=flow,\n",
    "    field_options={\"required\": [\"relationships.permissions.data.id\"]}\n",
    ")\n",
    "step1.save()\n",
    "for firm in Firm.objects.filter(company=company):\n",
    "    step1.responsible_users.add(firm.manager)\n",
    "step1.responsible_firms.add(Firm.objects.get(name=\"Engenharia\", company=company))\n",
    "step1.responsible_firms.add(Firm.objects.get(name=\"Sala Técnica\", company=company))"
   ]
  },
  {
   "cell_type": "code",
   "execution_count": null,
   "metadata": {},
   "outputs": [],
   "source": [
    "step2 = ApprovalStep(\n",
    "    name=\"Negado\",\n",
    "    approval_flow=flow,\n",
    "    field_options={\"required\": [\"relationships.permissions.data.id\"]}\n",
    ")\n",
    "step2.save()\n",
    "for firm in Firm.objects.filter(company=company):\n",
    "    step2.responsible_users.add(firm.manager)\n",
    "step2.responsible_firms.add(Firm.objects.get(name=\"Engenharia\", company=company))\n",
    "step2.responsible_firms.add(Firm.objects.get(name=\"Sala Técnica\", company=company))"
   ]
  },
  {
   "cell_type": "code",
   "execution_count": null,
   "metadata": {},
   "outputs": [],
   "source": [
    "step3 = ApprovalStep(\n",
    "    name=\"Aprovado\",\n",
    "    approval_flow=flow,\n",
    "    field_options={\"required\": [\"relationships.permissions.data.id\"]}\n",
    ")\n",
    "step3.save()\n",
    "for firm in Firm.objects.filter(company=company):\n",
    "    step3.responsible_users.add(firm.manager)\n",
    "step3.responsible_firms.add(Firm.objects.get(name=\"Engenharia\", company=company))\n",
    "step3.responsible_firms.add(Firm.objects.get(name=\"Sala Técnica\", company=company))"
   ]
  },
  {
   "cell_type": "code",
   "execution_count": null,
   "metadata": {},
   "outputs": [],
   "source": [
    "transition1 = ApprovalTransition(\n",
    "    name=\"Aprovar\",\n",
    "    origin=step1,\n",
    "    destination=step3,\n",
    "    condition={\"===\": [{\"var\": \"request.action\"}, \"Aprovar\"]},\n",
    "    callback={},\n",
    "    button={\"icon\": \"check\", \"color\": \"primary\", \"variant\": \"raised\"}\n",
    ")\n",
    "transition1.save()"
   ]
  },
  {
   "cell_type": "code",
   "execution_count": null,
   "metadata": {},
   "outputs": [],
   "source": [
    "transition2 = ApprovalTransition(\n",
    "    name=\"Rejeitar\",\n",
    "    origin=step1,\n",
    "    destination=step2,\n",
    "    condition={\"===\": [{\"var\": \"request.action\"}, \"Rejeitar\"]},\n",
    "    callback={},\n",
    "    button={\"icon\": \"clear\", \"color\": \"red\", \"variant\": \"outlined\"}\n",
    ")\n",
    "transition2.save()"
   ]
  },
  {
   "cell_type": "markdown",
   "metadata": {},
   "source": [
    "## ApprovalFlow for AccessRequest"
   ]
  },
  {
   "cell_type": "code",
   "execution_count": null,
   "metadata": {},
   "outputs": [],
   "source": [
    "flow = ApprovalFlow(\n",
    "    name=\"Fluxo Usuários\",\n",
    "    target_model=\"companies.AccessRequest\",\n",
    "    company=company\n",
    ")\n",
    "flow.save()"
   ]
  },
  {
   "cell_type": "code",
   "execution_count": null,
   "metadata": {},
   "outputs": [],
   "source": [
    "step1 = ApprovalStep(\n",
    "    name=\"Aguardando Aprovação\",\n",
    "    approval_flow=flow,\n",
    "    field_options={\"required\": [\"relationships.permissions.data.id\"]},\n",
    "    auto_execute_transition=True\n",
    ")\n",
    "step1.save()"
   ]
  },
  {
   "cell_type": "code",
   "execution_count": null,
   "metadata": {},
   "outputs": [],
   "source": [
    "step3 = ApprovalStep(\n",
    "    name=\"Aprovado\",\n",
    "    approval_flow=flow,\n",
    "    field_options={\"required\": [\"relationships.permissions.data.id\"]}\n",
    ")\n",
    "step3.save()"
   ]
  },
  {
   "cell_type": "code",
   "execution_count": null,
   "metadata": {},
   "outputs": [],
   "source": [
    "transition1 = ApprovalTransition(\n",
    "    name=\"Aprovar\",\n",
    "    origin=step1,\n",
    "    destination=step3,\n",
    "    condition={\"===\": [{\"var\": \"request.action\"}, \"Aprovar\"]},\n",
    "    callback={\"change_fields\": [{\"name\": \"approved\", \"value\": True}, {\"name\": \"done\", \"value\": True}], \"create_user_in_company\": True},\n",
    ")\n",
    "transition1.save()"
   ]
  },
  {
   "cell_type": "markdown",
   "metadata": {},
   "source": [
    "## Road\n",
    "\n",
    "Create a single demo road containing a part of BR282-SC"
   ]
  },
  {
   "cell_type": "code",
   "execution_count": null,
   "metadata": {},
   "outputs": [],
   "source": [
    "road = Road(\n",
    "    marks = {\"0\": {\"km\": 114, \"key\": 0, \"index\": 0, \"point\": {\"type\": \"Point\", \"coordinates\": [-49.3880981, -27.7483643]}}, \"1\": {\"km\": 223, \"key\": 1, \"index\": 745, \"point\": {\"type\": \"Point\", \"coordinates\": [-50.363131, -27.800003]}}, \"2\": {\"km\": 223.001, \"key\": 2, \"index\": 745, \"point\": {\"type\": \"Point\", \"coordinates\": [-50.363131, -27.800003]}}},\n",
    "    direction = 0,\n",
    "    name = \"BR282-SC-DEMO\",\n",
    "    uf = \"42\",\n",
    ")\n",
    "road.save()\n",
    "road.company.add(company)"
   ]
  },
  {
   "cell_type": "markdown",
   "metadata": {},
   "source": [
    "## Reporting\n",
    "\n",
    "Generate 10000 new objects according to the instructions below:\n",
    "\n",
    "```\n",
    "number: autogenerate\n",
    "company: newly created company\n",
    "road_name: pick a random one\n",
    "road: same as above\n",
    "km: random within the range of the selected road\n",
    "point: let the algorithm calculate\n",
    "direction: pick a random one according to whats available in the company custom_options\n",
    "lane: pick a random one according to whats available in the company custom_options\n",
    "created_by: one of the newly created users\n",
    "firm: the firm of the user\n",
    "occurrence_type: pick a random one\n",
    "form_data: randomly fill according to the form_fields of the selected occurrence_type\n",
    "executed_at: random between None and a date in the past year\n",
    "created_at: a random date in the past year. If executed_at was filled, make sure this date is before executed_at\n",
    "found_at: a random date in the past year. If executed_at was filled, make sure this date is before executed_at\n",
    "updated_at: a random date in the past year. If executed_at was filled, make sure this date is before executed_at\n",
    "status: pick a random one\n",
    "```"
   ]
  },
  {
   "cell_type": "code",
   "execution_count": null,
   "metadata": {},
   "outputs": [],
   "source": [
    "from datetime import date, timedelta, datetime\n",
    "from django.utils import timezone\n",
    "# from pytz import timezone as tz\n",
    "\n",
    "def get_dates(firm, user):\n",
    "    job = None\n",
    "    executed_at = None\n",
    "    \n",
    "    today_date = timezone.now()\n",
    "    start_date = today_date.toordinal()\n",
    "    end_date = today_date.replace(month=today_date.month-3).toordinal()\n",
    "    rand = date.fromordinal(random.randint(end_date, start_date))\n",
    "    dt = datetime.combine(rand, datetime.min.time())\n",
    "    created_at = (dt + timedelta(hours=5)).replace(tzinfo=today_date.tzinfo)\n",
    "    found_at = (created_at - timedelta(hours=random.randint(0, 23))).replace(hour = random.randint(7, 19))\n",
    "    updated_at = (created_at + timedelta(days=random.randint(0, 7))).replace(hour = random.randint(7, 19))\n",
    "    executed = (created_at + timedelta(days=random.randint(0, 7))).replace(hour = random.randint(7, 19))\n",
    "    \n",
    "    jobs = Job.objects.filter(\n",
    "        company=company,\n",
    "        start_date__lte=found_at,\n",
    "        end_date__gte=found_at,\n",
    "    )\n",
    "    with DisableSignals():\n",
    "        if not jobs:\n",
    "            jobs = [\n",
    "                Job.objects.create(\n",
    "                    company=company,\n",
    "                    start_date=found_at + timedelta(days=2),\n",
    "                    end_date=found_at + timedelta(days=20),\n",
    "                    firm=firm,\n",
    "                    created_by=user,\n",
    "                    title=lorem.sentence(),\n",
    "                    worker=user\n",
    "                )\n",
    "            ]\n",
    "\n",
    "    if today_date - found_at > timedelta(days=30):\n",
    "        status = status_executado\n",
    "    else:\n",
    "        status = choice(ServiceOrderActionStatus.objects.filter(companies=company))\n",
    "    \n",
    "    if status == status_executado:\n",
    "        executed_at = executed\n",
    "        job = choice(jobs)\n",
    "    elif status == status_programado:\n",
    "        job = choice(jobs)\n",
    "        \n",
    "    \n",
    "    return created_at, found_at, updated_at, executed_at, job, status"
   ]
  },
  {
   "cell_type": "code",
   "execution_count": null,
   "metadata": {},
   "outputs": [],
   "source": [
    "import re\n",
    "\n",
    "def snake_case(name):\n",
    "    s1 = re.sub(\"(.)([A-Z][a-z]+)\", r\"\\1_\\2\", name)\n",
    "    return re.sub(\"([a-z0-9])([A-Z])\", r\"\\1_\\2\", s1).lower()\n",
    "\n",
    "def snake_dict(in_dict):\n",
    "    out_dict = {}\n",
    "    for key, value in in_dict.items():\n",
    "        out_dict[snake_case(key)] = value\n",
    "    return out_dict"
   ]
  },
  {
   "cell_type": "code",
   "execution_count": null,
   "metadata": {},
   "outputs": [],
   "source": [
    "def get_form_data(occ_type):\n",
    "    form_data = {}\n",
    "    if occ_type.form_fields:\n",
    "        if \"fields\" in occ_type.form_fields:\n",
    "            fields = occ_type.form_fields[\"fields\"]\n",
    "            for in_field in fields:\n",
    "                field = snake_dict(in_field)\n",
    "                if \"api_name\" in field and \"data_type\" in field:\n",
    "                    if \"code\" in field['api_name'].lower():\n",
    "                        abc = random.choice([1, 2, 3, 4, 5, 6, 7, 8, 9, 0])\n",
    "                        letter = chr(ord('A')+abc)\n",
    "                        plate = letter * 3 + str(abc) * 4\n",
    "                        form_data[field[\"api_name\"]] = plate\n",
    "                    elif field[\"data_type\"] == \"float\":\n",
    "                        if field[\"api_name\"] == \"width\":\n",
    "                            form_data[field[\"api_name\"]] = random.choice([3.8, 7.6])\n",
    "                        elif field[\"api_name\"] == \"length\":\n",
    "                            if occ_type.occurrence_kind == \"1\":\n",
    "                                form_data[field[\"api_name\"]] = round(random.uniform(1, 5), 2)\n",
    "                            else:\n",
    "                                form_data[field[\"api_name\"]] = round(random.uniform(5, 50), 2)\n",
    "                        elif field[\"api_name\"] == \"height\":\n",
    "                            form_data[field[\"api_name\"]] = round(random.uniform(0.01, 0.2), 2)\n",
    "                        elif field[\"api_name\"] == \"rain\":\n",
    "                            form_data[field[\"api_name\"]] = round(random.random() * 10, 2)\n",
    "                        else:\n",
    "                            form_data[field[\"api_name\"]] = round(random.uniform(0, 1), 2)\n",
    "                    elif field[\"data_type\"] == \"string\":\n",
    "                        form_data[field[\"api_name\"]] = \" \".join(lorem.sentence().split(\" \")[0:2])\n",
    "                    elif field[\"data_type\"] == \"number\":\n",
    "                        form_data[field[\"api_name\"]] = int(random.uniform(0, 1)*10)\n",
    "                    elif field[\"data_type\"] == \"textArea\":\n",
    "                        form_data[field[\"api_name\"]] = lorem.sentence()\n",
    "                    elif field[\"data_type\"] == \"boolean\":\n",
    "                        form_data[field[\"api_name\"]] = True\n",
    "                    elif field[\"data_type\"] == \"select\":\n",
    "                        if \"select_options\" in field:\n",
    "                            if \"options\" in field[\"select_options\"]:\n",
    "                                value = field[\"select_options\"][\"options\"][0][\"value\"]\n",
    "                                form_data[field[\"api_name\"]] = value\n",
    "                    elif field[\"data_type\"] == \"selectMultiple\":\n",
    "                        if \"select_options\" in field:\n",
    "                            if \"options\" in field[\"select_options\"]:\n",
    "                                value = field[\"select_options\"][\"options\"][0][\"value\"]\n",
    "                                form_data[field[\"api_name\"]] = [value]\n",
    "\n",
    "    return form_data"
   ]
  },
  {
   "cell_type": "code",
   "execution_count": null,
   "metadata": {},
   "outputs": [],
   "source": [
    "direction_options = custom_options[\"reporting\"][\"fields\"][\"direction\"][\"selectOptions\"][\"options\"]\n",
    "directions = [item[\"value\"] for item in direction_options]\n",
    "\n",
    "lane_options = custom_options[\"reporting\"][\"fields\"][\"lane\"][\"selectOptions\"][\"options\"]\n",
    "lanes = [item[\"value\"] for item in lane_options]"
   ]
  },
  {
   "cell_type": "code",
   "execution_count": null,
   "metadata": {},
   "outputs": [],
   "source": [
    "all_types = list(OccurrenceType.objects.filter(company=company).exclude(occurrence_kind__in=[\"5\", \"6\", \"15\", \"16\"]))\n",
    "random.shuffle(all_types)"
   ]
  },
  {
   "cell_type": "code",
   "execution_count": null,
   "metadata": {},
   "outputs": [],
   "source": [
    "roads = Road.objects.filter(company=company)"
   ]
  },
  {
   "cell_type": "code",
   "execution_count": null,
   "metadata": {},
   "outputs": [],
   "source": [
    "firms_campo = user_firm_count['Terceiro']['firms']"
   ]
  },
  {
   "cell_type": "code",
   "execution_count": null,
   "metadata": {},
   "outputs": [],
   "source": [
    "status_executado = ServiceOrderActionStatus.objects.get(companies=company, name=\"Executado\")"
   ]
  },
  {
   "cell_type": "code",
   "execution_count": null,
   "metadata": {},
   "outputs": [],
   "source": [
    "status_programado = ServiceOrderActionStatus.objects.get(companies=company, name=\"Programado\")"
   ]
  },
  {
   "cell_type": "code",
   "execution_count": null,
   "metadata": {},
   "outputs": [],
   "source": [
    "Reporting.objects.filter(company=company).delete()"
   ]
  },
  {
   "cell_type": "code",
   "execution_count": null,
   "metadata": {},
   "outputs": [],
   "source": [
    "Job.objects.filter(company=company).delete()"
   ]
  },
  {
   "cell_type": "code",
   "execution_count": null,
   "metadata": {},
   "outputs": [],
   "source": [
    "not_executed_approval_step = ApprovalStep.objects.get(\n",
    "    name=\"Em Elaboração\", \n",
    "    approval_flow__company=company, \n",
    "    approval_flow__target_model=\"reportings.Reporting\"\n",
    ")\n",
    "approved_approval_step = ApprovalStep.objects.get(\n",
    "    approval_flow__company=company,\n",
    "    approval_flow__target_model=\"reportings.Reporting\",\n",
    "    name=\"Aprovado\"\n",
    ")\n",
    "other_approval_steps = ApprovalStep.objects.filter(\n",
    "    approval_flow__company=company,\n",
    "    approval_flow__target_model=\"reportings.Reporting\"\n",
    ").exclude(uuid__in=[approved_approval_step.uuid, not_executed_approval_step.uuid])\n",
    "\n",
    "executed_approval_steps = 10 * [approved_approval_step] + list(other_approval_steps)\n",
    "\n",
    "for _ in tqdm(range(30)):\n",
    "    reportings_to_create = []\n",
    "    for i in range(100):\n",
    "        road = choice(roads)\n",
    "        kms = [road.marks[item][\"km\"] for item in road.marks]\n",
    "        firm = choice(firms_campo)\n",
    "        occ_type = choice(all_types)\n",
    "        created, found, updated, executed, job, status = get_dates(firm, firm.manager)\n",
    "\n",
    "        with DisableSignals():\n",
    "            rep = Reporting(\n",
    "                company=company,\n",
    "                road_name=road.name,\n",
    "                road=road,\n",
    "                km=round(random.uniform(min(kms), max(kms)), 2),\n",
    "                direction=choice(directions),\n",
    "                lane=choice(lanes),\n",
    "                firm=firm,\n",
    "                created_by=firm.manager,\n",
    "                occurrence_type=occ_type,\n",
    "                form_data=get_form_data(occ_type),\n",
    "                status=status,\n",
    "                executed_at=executed,\n",
    "                created_at=created,\n",
    "                updated_at=updated,\n",
    "                due_at=created + occ_type.deadline if occ_type.deadline else created + timedelta(days=7),\n",
    "                found_at=found,\n",
    "                job=job,\n",
    "                approval_step = not_executed_approval_step if not executed else choice(executed_approval_steps)\n",
    "            )\n",
    "            auto_add_reporting_number(Reporting, rep)\n",
    "            rep._state.adding = True\n",
    "            reporting_create(Reporting, rep)\n",
    "            reportings_to_create.append(rep)\n",
    "            \n",
    "    bulk_create_with_history(reportings_to_create, Reporting)"
   ]
  },
  {
   "cell_type": "code",
   "execution_count": null,
   "metadata": {},
   "outputs": [],
   "source": [
    "Reporting.objects.filter(road__isnull=True, company=company).delete()"
   ]
  },
  {
   "cell_type": "code",
   "execution_count": null,
   "metadata": {},
   "outputs": [],
   "source": [
    "def add_reporting_number(instance):\n",
    "    if instance.occurrence_type:\n",
    "        try:\n",
    "            occurrence_kind = instance.occurrence_type.occurrence_kind\n",
    "        except Exception:\n",
    "            raise serializers.ValidationError(\"Occurrence Kind not found!\")\n",
    "    else:\n",
    "        occurrence_kind = \"\"\n",
    "    key_name = \"RP_name_format\"\n",
    "    number_format = \"\"\n",
    "    if key_name in instance.company.metadata:\n",
    "        try:\n",
    "            number_format = instance.company.metadata[key_name][\n",
    "                occurrence_kind\n",
    "            ]\n",
    "        except Exception:\n",
    "            if \"default\" in instance.company.metadata[key_name]:\n",
    "                number_format = instance.company.metadata[key_name][\n",
    "                    \"default\"\n",
    "                ]\n",
    "            else:\n",
    "                raise serializers.ValidationError(\n",
    "                    \"Variáveis de nome inválidas!\"\n",
    "                )\n",
    "    else:\n",
    "        raise serializers.ValidationError(\"Variáveis de nome inválidas!\")\n",
    "    instance_type = number_format[\"type\"]\n",
    "    # Get datetime and serial arrays\n",
    "    data = get_autonumber_array(instance.company.uuid, instance_type)\n",
    "    # Get company prefix\n",
    "    if \"company_prefix\" in instance.company.metadata:\n",
    "        data[\"prefixo\"] = instance.company.metadata[\"company_prefix\"]\n",
    "    else:\n",
    "        data[\"prefixo\"] = \"[{}]\".format(instance.company.name)\n",
    "    # Make number\n",
    "    try:\n",
    "        number = number_format[\"format\"].format(**data)\n",
    "    except Exception as e:\n",
    "        print(e)\n",
    "        # Fallback\n",
    "        # UHIT-RG-2018.0001\n",
    "        number = \"{prefixo}-{nome}-{anoCompleto}.{serialAno}\".format(**data)\n",
    "    instance.number = number"
   ]
  },
  {
   "cell_type": "code",
   "execution_count": null,
   "metadata": {},
   "outputs": [],
   "source": [
    "def job_name_format(instance):\n",
    "    if instance.number in [None, \"\"]:\n",
    "        instance_type = \"job\"\n",
    "        key_name = \"{}_name_format\".format(instance_type)\n",
    "        # Get datetime and serial arrays\n",
    "        data = get_autonumber_array(instance.company.uuid, instance_type)\n",
    "        # Get company prefix\n",
    "        if \"company_prefix\" in instance.company.metadata:\n",
    "            data[\"prefixo\"] = instance.company.metadata[\"company_prefix\"]\n",
    "        else:\n",
    "            data[\"prefixo\"] = \"[{}]\".format(instance.company.name)\n",
    "        # Make number\n",
    "        try:\n",
    "            if key_name in instance.company.metadata:\n",
    "                number = instance.company.metadata[key_name].format(**data)\n",
    "            else:\n",
    "                raise Exception(\"Variáveis de nome inválidas!\")\n",
    "        except Exception as e:\n",
    "            print(e)\n",
    "            # Fallback\n",
    "            # UHIT-job-2018.0001\n",
    "            number = \"{prefixo}-{nome}-{anoCompleto}.{serialAno}\".format(**data)\n",
    "\n",
    "        instance.number = number"
   ]
  },
  {
   "cell_type": "markdown",
   "metadata": {},
   "source": [
    "Reset the numbers of the reportings so that they agree to the chronological order"
   ]
  },
  {
   "cell_type": "code",
   "execution_count": null,
   "metadata": {},
   "outputs": [],
   "source": [
    "Sequence.objects.filter(name__icontains=str(company.uuid)).update(last=0)"
   ]
  },
  {
   "cell_type": "code",
   "execution_count": null,
   "metadata": {},
   "outputs": [],
   "source": [
    "Reporting.objects.filter(company=company).update(number=\"\")"
   ]
  },
  {
   "cell_type": "code",
   "execution_count": null,
   "metadata": {},
   "outputs": [],
   "source": [
    "while Reporting.objects.filter(company=company, number=\"\").count():\n",
    "    reportings = []\n",
    "    for reporting in Reporting.objects.filter(company=company, number=\"\").order_by('found_at')[:100]:\n",
    "        add_reporting_number(reporting)\n",
    "        reportings.append(reporting)\n",
    "    bulk_update(reportings)"
   ]
  },
  {
   "cell_type": "code",
   "execution_count": null,
   "metadata": {},
   "outputs": [],
   "source": [
    "jobs = []\n",
    "for job in Job.objects.filter(company=company).order_by('start_date'):\n",
    "    job_name_format(job)\n",
    "    jobs.append(job)\n",
    "bulk_update(jobs)"
   ]
  },
  {
   "cell_type": "code",
   "execution_count": null,
   "metadata": {},
   "outputs": [],
   "source": [
    "from helpers.apps.job import total_and_executed_reporting"
   ]
  },
  {
   "cell_type": "markdown",
   "metadata": {},
   "source": [
    "Archive 90% of the Job objects where all the reportings were already executed"
   ]
  },
  {
   "cell_type": "code",
   "execution_count": null,
   "metadata": {},
   "outputs": [],
   "source": [
    "for job in Job.objects.filter(company=company):\n",
    "\n",
    "    total, executed = total_and_executed_reporting(job)\n",
    "\n",
    "    if total == executed and choice([False, True, True, True, True, True, True, True, True, True]):\n",
    "        job.archived = True\n",
    "        with DisableSignals():\n",
    "            job.save()"
   ]
  },
  {
   "cell_type": "markdown",
   "metadata": {},
   "source": [
    "## ReportingFile\n",
    "\n",
    "Create 3000 new objects\n",
    "\n",
    "Do a google image search for \"bad road\" and pick a random image, associate with a random Reporting"
   ]
  },
  {
   "cell_type": "code",
   "execution_count": null,
   "metadata": {},
   "outputs": [],
   "source": [
    "available_files = []\n",
    "\n",
    "for existing in tqdm(ReportingFile.upload.field.storage.listdir(\"images_mock\")[0]):\n",
    "    file_choices = ReportingFile.upload.field.storage.listdir(\"images_mock/{}\".format(existing))[1]\n",
    "    file_choices = [a for a in file_choices if \".jpg\" in a]\n",
    "    available_files += [\"images_mock/{}/{}\".format(existing, a) for a in file_choices]"
   ]
  },
  {
   "cell_type": "code",
   "execution_count": null,
   "metadata": {},
   "outputs": [],
   "source": [
    "ReportingFile.objects.filter(reporting__company=company).delete()"
   ]
  },
  {
   "cell_type": "code",
   "execution_count": null,
   "metadata": {},
   "outputs": [],
   "source": [
    "file_objects = []\n",
    "\n",
    "reportings = (Reporting.objects.filter(company=company)\n",
    "              .exclude(occurrence_type__occurrence_kind__in=[\"2\"])\n",
    "              .prefetch_related('created_by'))\n",
    "\n",
    "for i in tqdm(range(1500)):\n",
    "    reporting = choice(reportings)\n",
    "    user = reporting.created_by\n",
    "    file_path = choice(available_files)\n",
    "    \n",
    "    rf = ReportingFile(\n",
    "        reporting=reporting,\n",
    "        upload=file_path,\n",
    "        created_by=user,\n",
    "        include_rdo=True\n",
    "    )\n",
    "    file_objects.append(rf)\n",
    "    \n",
    "for reporting in tqdm(Reporting.objects.filter(company=company, occurrence_type__occurrence_kind=\"2\")):\n",
    "    user = reporting.created_by\n",
    "    file_path = choice(available_files)\n",
    "    \n",
    "    rf = ReportingFile(\n",
    "        reporting=reporting,\n",
    "        upload=file_path,\n",
    "        created_by=user,\n",
    "        include_rdo=True\n",
    "    )\n",
    "    file_objects.append(rf)\n",
    "\n",
    "result = ReportingFile.objects.bulk_create(file_objects, batch_size=100)\n",
    "print(len(result))"
   ]
  },
  {
   "cell_type": "markdown",
   "metadata": {},
   "source": [
    "## Contract"
   ]
  },
  {
   "cell_type": "code",
   "execution_count": null,
   "metadata": {},
   "outputs": [],
   "source": [
    "wb = load_workbook(prefixo_folder + \"contrato generico.xlsx\")\n",
    "sheetname = wb.sheetnames[0]\n",
    "ws = wb[sheetname]"
   ]
  },
  {
   "cell_type": "code",
   "execution_count": null,
   "metadata": {},
   "outputs": [],
   "source": [
    "header = []\n",
    "values = []\n",
    "good_fields = []\n",
    "bad_fields = []\n",
    "\n",
    "for index, row in enumerate(ws.rows):\n",
    "    if index == 0:\n",
    "        header = list([a.value for a in row])\n",
    "        continue\n",
    "    obj = {}\n",
    "    for col_index, cell in enumerate(row):\n",
    "        value = cell.value\n",
    "        obj[header[col_index]] = value\n",
    "    values.append(obj)"
   ]
  },
  {
   "cell_type": "code",
   "execution_count": null,
   "metadata": {},
   "outputs": [],
   "source": [
    "def get_connected_reference(company, resource, key, value):\n",
    "    select_options = company.custom_options[resource]['fields'][key]['selectOptions']['options']\n",
    "    return next(a['name'] for a in select_options if a['value'].lower() == value.lower())"
   ]
  },
  {
   "cell_type": "code",
   "execution_count": null,
   "metadata": {},
   "outputs": [],
   "source": [
    "created_by = user_firm_count['Gerente']['users'][0]"
   ]
  },
  {
   "cell_type": "code",
   "execution_count": null,
   "metadata": {},
   "outputs": [],
   "source": [
    "Contract.objects.filter(firm__company=company).delete()"
   ]
  },
  {
   "cell_type": "code",
   "execution_count": null,
   "metadata": {},
   "outputs": [],
   "source": [
    "for index, firm in enumerate(user_firm_count['Terceiro']['firms']):\n",
    "    contract = Contract(\n",
    "        firm = firm,\n",
    "        name = \"Contrato com fornecedor {}\".format(firm.name),\n",
    "        contract_start = datetime(2020, 6, 1),\n",
    "        contract_end = datetime(2021, 5, 31),\n",
    "        created_by = created_by,\n",
    "        responsible = choice(user_firm_count['Sala técnica']['users']),\n",
    "        firm_responsible = firm.manager,\n",
    "        extra_info = {\n",
    "            \"r_c_number\": \"DEMO-{}\".format(index),\n",
    "            \"accounting_classification\": \"CC-{}-XXX\".format(index)\n",
    "        }\n",
    "    )\n",
    "    contract.save()\n",
    "    \n",
    "    for resource in values:\n",
    "\n",
    "        resource_kind = '1'\n",
    "\n",
    "        additional_control = '1'\n",
    "\n",
    "        amount = random.randint(10, 20)\n",
    "        price = random.randint(10, 50) * 100\n",
    "        \n",
    "        created_resource = Resource.objects.create(\n",
    "            company=company,\n",
    "            name=resource[\"DESCRIÇÃO\"],\n",
    "            total_amount=amount,\n",
    "            unit=resource[\"Unidade\"],\n",
    "            is_extra=True,\n",
    "        )\n",
    "\n",
    "        created_os_resource = ServiceOrderResource.objects.create(\n",
    "            contract=contract,\n",
    "            resource=created_resource,\n",
    "            amount=amount,\n",
    "            unit_price=price,\n",
    "            created_by=created_by,\n",
    "            resource_kind=resource_kind,\n",
    "            provider='1',\n",
    "            additional_control=additional_control,\n",
    "        )\n"
   ]
  },
  {
   "cell_type": "code",
   "execution_count": null,
   "metadata": {},
   "outputs": [],
   "source": [
    "months = ['7/2020','8/2020','9/2020','10/2020','11/2020','12/2020','1/2021','2/2021','3/2021','4/2021','5/2021', '6/2021']"
   ]
  },
  {
   "cell_type": "code",
   "execution_count": null,
   "metadata": {},
   "outputs": [],
   "source": [
    "for contract in Contract.objects.filter(firm__company=company):\n",
    "    total = sum([a[0] * a[1] for a in contract.resources.values_list('amount', 'unit_price')])\n",
    "    spend_schedule = {\n",
    "        a: total/12 for a in months\n",
    "    }\n",
    "    contract.spend_schedule = spend_schedule\n",
    "    contract.save()"
   ]
  },
  {
   "cell_type": "code",
   "execution_count": null,
   "metadata": {},
   "outputs": [],
   "source": [
    "ProcedureResource.objects.filter(reporting__company=company).delete()"
   ]
  },
  {
   "cell_type": "code",
   "execution_count": null,
   "metadata": {},
   "outputs": [],
   "source": [
    "for reporting in Reporting.objects.filter(company=company):\n",
    "    \n",
    "    if reporting.status != status_executado and choice([0,1]):\n",
    "        continue\n",
    "    \n",
    "    res_number = choice([1, 2])\n",
    "    contract = Contract.objects.get(firm=reporting.firm)\n",
    "    kind = get_connected_reference(company, 'reporting', \"occurrenceKind\", reporting.occurrence_type.occurrence_kind)\n",
    "    resources = list(contract.resources.filter(resource__name__icontains=kind))\n",
    "    if not len(resources):\n",
    "        continue\n",
    "    random.shuffle(resources)\n",
    "    resources = resources[0:res_number]\n",
    "    for resource in resources:\n",
    "        usage = ProcedureResource(\n",
    "            resource = resource.resource,\n",
    "            service_order_resource = resource,\n",
    "            created_by = created_by,\n",
    "            amount = 1,\n",
    "            unit_price = resource.unit_price,\n",
    "            total_price = resource.unit_price,\n",
    "            reporting = reporting,\n",
    "            approval_status = \"APPROVED_APPROVAL\" if (\n",
    "                reporting.status == status_executado and\\\n",
    "                reporting.executed_at < timezone.now().replace(day = timezone.now().day - 7) and\\\n",
    "                str(reporting.approval_step.uuid) in company.metadata['approved_approval_steps']\n",
    "            ) else \"WAITING_APPROVAL\",\n",
    "            approved_by = contract.responsible,\n",
    "        )\n",
    "        usage.save()\n",
    "        usage.approval_date = reporting.executed_at + timedelta(days=1) if usage.approval_status == \"APPROVED_APPROVAL\" else None\n",
    "        usage.creation_date = reporting.found_at\n",
    "        usage.save()\n",
    "        so_resource = usage.service_order_resource\n",
    "        so_resource.remaining_amount -= 1\n",
    "        so_resource.used_price += resource.unit_price\n",
    "        so_resource.save()"
   ]
  },
  {
   "cell_type": "code",
   "execution_count": null,
   "metadata": {},
   "outputs": [],
   "source": [
    "for contract in Contract.objects.filter(firm__company=company):\n",
    "    for start, end in Arrow.span_range(\"month\", contract.contract_start, contract.contract_end):\n",
    "        resources = ProcedureResource.objects.filter(\n",
    "            service_order_resource__contract=contract, \n",
    "            approval_date__gte=start._datetime, \n",
    "            approval_date__lte=end._datetime,\n",
    "        )\n",
    "        if resources.count():\n",
    "            bulletin = MeasurementBulletin(\n",
    "                firm = contract.firm,\n",
    "                firm_manager = contract.firm_responsible,\n",
    "                creation_date = end._datetime,\n",
    "                measurement_date = end._datetime,\n",
    "                created_by = contract.firm_responsible,\n",
    "                contract = contract,\n",
    "                approval_step = ApprovalStep.objects.get(\n",
    "                    approval_flow__target_model=\"service_orders.MeasurementBulletin\",\n",
    "                    approval_flow__company=company,\n",
    "                    name=\"Aprovado\"\n",
    "                ),\n",
    "                editable = False\n",
    "            )\n",
    "            bulletin.save()\n",
    "            resources.update(measurement_bulletin = bulletin)\n",
    "            bulletin.total_price = sum([a[0] * a[1] for a in resources.values_list('unit_price', 'amount')])\n",
    "            bulletin.save()"
   ]
  }
 ],
 "metadata": {
  "kernelspec": {
   "display_name": "Django Shell-Plus",
   "language": "python",
   "name": "django_extensions"
  },
  "language_info": {
   "codemirror_mode": {
    "name": "ipython",
    "version": 3
   },
   "file_extension": ".py",
   "mimetype": "text/x-python",
   "name": "python",
   "nbconvert_exporter": "python",
   "pygments_lexer": "ipython3",
   "version": "3.6.5"
  }
 },
 "nbformat": 4,
 "nbformat_minor": 2
}
