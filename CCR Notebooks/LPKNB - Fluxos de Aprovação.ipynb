{
 "cells": [
  {
   "cell_type": "markdown",
   "id": "031177af",
   "metadata": {},
   "source": [
    "# FLUXO DE APROVAÇÃO"
   ]
  },
  {
   "cell_type": "code",
   "execution_count": 8,
   "id": "503c06f2",
   "metadata": {},
   "outputs": [],
   "source": [
    "company = Company.objects.get(name='GES - UHE-ITA')\n",
    "tm={\"tmor\": 'occurrence_records.OccurrenceRecord','tmar':'companies.AccessRequest','tmmb':'service_orders.MeasurementBulletin'}"
   ]
  },
  {
   "cell_type": "code",
   "execution_count": 9,
   "id": "b7e88475",
   "metadata": {},
   "outputs": [],
   "source": [
    "aps = ApprovalStep.objects.filter(approval_flow__company=company,approval_flow__target_model=tm['tmor'])"
   ]
  },
  {
   "cell_type": "code",
   "execution_count": 11,
   "id": "cff114e9",
   "metadata": {},
   "outputs": [
    {
     "name": "stdout",
     "output_type": "stream",
     "text": [
      "Atendido\n",
      "\t Suporte Kartado engie\n",
      "Reagendado\n",
      "\t Suporte Kartado engie\n",
      "Cancelado\n",
      "\t Suporte Kartado engie\n",
      "Aguardando aprovação técnica\n",
      "\t Suporte Kartado engie\n",
      "Aguardando Homologação\n",
      "\t Suporte Kartado engie\n",
      "\t Suporte Kartado engie\n",
      "Registro Deferido\n",
      "\t Suporte Kartado engie\n",
      "Registro Indeferido\n",
      "\t Suporte Kartado engie\n",
      "Registro em Elaboração\n",
      "\t Suporte Kartado engie\n",
      "\t Giane Minella giane.minella\n",
      "\t Anaí Cadore anai.cadore\n",
      "Necessita Revisão\n",
      "\t Suporte Kartado engie\n",
      "Registro Deferido\n",
      "\t Suporte Kartado engie\n",
      "Atendido\n",
      "\t Suporte Kartado engie\n"
     ]
    }
   ],
   "source": [
    "name=''\n",
    "for a in aps:\n",
    "    if name != a.name:\n",
    "        print(a.name)\n",
    "    for b in a.responsible_users.all():\n",
    "        print('\\t',b.full_name,b.username)\n",
    "    name=a.name"
   ]
  },
  {
   "cell_type": "code",
   "execution_count": 18,
   "id": "2d777671",
   "metadata": {},
   "outputs": [],
   "source": [
    "apt = ApprovalTransition.objects.filter(origin__approval_flow__company=company,origin__approval_flow__target_model=tm['tmor']).order_by('origin__name')"
   ]
  },
  {
   "cell_type": "code",
   "execution_count": 26,
   "id": "4cdab6e9",
   "metadata": {},
   "outputs": [
    {
     "name": "stdout",
     "output_type": "stream",
     "text": [
      "GES - UHE-ITA\n",
      "\n",
      "\t Aguardando aprovação técnica  | BOTÃO: Solicitar Homologação  > |  Aguardando Homologação\n",
      "\t Aguardando aprovação técnica  | BOTÃO: Solicitar Homologação  > |  Aguardando Homologação\n",
      "\n",
      "\t Aguardando aprovação técnica  | BOTÃO: Solicitar revisão  > |  Necessita Revisão\n",
      "\n",
      "\t Aguardando Homologação  | BOTÃO: Homologar  > |  Registro Deferido\n",
      "\n",
      "\t Aguardando Homologação  | BOTÃO: Rejeitar  > |  Registro Indeferido\n",
      "\n",
      "\t Aguardando Homologação  | BOTÃO: Homologar  > |  Registro Deferido\n",
      "\n",
      "\t Aguardando Homologação  | BOTÃO: Solicitar Revisão  > |  Necessita Revisão\n",
      "\n",
      "\t Aguardando Homologação  | BOTÃO: Rejeitar  > |  Registro Indeferido\n",
      "\n",
      "\t Aguardando Homologação  | BOTÃO: Solicitar Revisão  > |  Necessita Revisão\n",
      "\n",
      "\t Necessita Revisão  | BOTÃO: Solicitar aprovação técnica  > |  Aguardando aprovação técnica\n",
      "\n",
      "\t Registro Deferido  | BOTÃO: Sinalizar como Atendido  > |  Atendido\n",
      "\t Registro Deferido  | BOTÃO: Sinalizar como Atendido  > |  Atendido\n",
      "\n",
      "\t Registro em Elaboração  | BOTÃO: Atender  > |  Atendido\n",
      "\n",
      "\t Registro em Elaboração  | BOTÃO: Reagendar  > |  Reagendado\n",
      "\n",
      "\t Registro em Elaboração  | BOTÃO: Solicitar aprovação técnica  > |  Aguardando aprovação técnica\n",
      "\n",
      "\t Registro em Elaboração  | BOTÃO: Cancelar  > |  Cancelado\n"
     ]
    }
   ],
   "source": [
    "name=''\n",
    "print(company.name)\n",
    "for a in apt:\n",
    "    if name != a.name:\n",
    "        print()\n",
    "\n",
    "    print('\\t',a.origin.name,' | BOTÃO:',a.name,' > | ',a.destination.name)\n",
    "    name=a.name"
   ]
  },
  {
   "cell_type": "code",
   "execution_count": null,
   "id": "9592172a",
   "metadata": {},
   "outputs": [],
   "source": []
  }
 ],
 "metadata": {
  "kernelspec": {
   "display_name": "Django Shell-Plus",
   "language": "python",
   "name": "django_extensions"
  },
  "language_info": {
   "codemirror_mode": {
    "name": "ipython",
    "version": 3
   },
   "file_extension": ".py",
   "mimetype": "text/x-python",
   "name": "python",
   "nbconvert_exporter": "python",
   "pygments_lexer": "ipython3",
   "version": "3.7.9"
  }
 },
 "nbformat": 4,
 "nbformat_minor": 5
}
