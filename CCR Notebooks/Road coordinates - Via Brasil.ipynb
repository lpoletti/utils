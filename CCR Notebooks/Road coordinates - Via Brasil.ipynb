{
 "cells": [
  {
   "cell_type": "code",
   "execution_count": 1,
   "metadata": {},
   "outputs": [],
   "source": [
    "import numpy\n",
    "from numpy import arange\n",
    "from helpers.km_converter import km_to_coordinates\n",
    "from collections import defaultdict\n",
    "from openpyxl import Workbook\n",
    "from django.db.models import Q\n",
    "from tqdm.notebook import tqdm"
   ]
  },
  {
   "cell_type": "code",
   "execution_count": 14,
   "metadata": {},
   "outputs": [
    {
     "data": {
      "text/plain": [
       "<QuerySet [{'name': 'CCR - AutoBAn'}, {'name': 'CCR - Rio Sp'}, {'name': 'CCR - SPVias'}, {'name': 'CCR - RodoAnel'}]>"
      ]
     },
     "execution_count": 14,
     "metadata": {},
     "output_type": "execute_result"
    }
   ],
   "source": [
    "Company.objects.values('name')"
   ]
  },
  {
   "cell_type": "code",
   "execution_count": 39,
   "metadata": {},
   "outputs": [
    {
     "data": {
      "text/plain": [
       "1"
      ]
     },
     "execution_count": 39,
     "metadata": {},
     "output_type": "execute_result"
    }
   ],
   "source": [
    "company = Company.objects.get(name='CCR - RodoAnel')\n",
    "filename = 'Coordinates_'+company.name+'.xlsx'\n",
    "roads = Road.objects.filter(company=company).order_by('name')\n",
    "roads.count()"
   ]
  },
  {
   "cell_type": "code",
   "execution_count": 40,
   "metadata": {},
   "outputs": [
    {
     "name": "stdout",
     "output_type": "stream",
     "text": [
      "SP-021\n"
     ]
    }
   ],
   "source": [
    "for a in roads:\n",
    "    print(a.name)"
   ]
  },
  {
   "cell_type": "code",
   "execution_count": 41,
   "metadata": {},
   "outputs": [
    {
     "name": "stdout",
     "output_type": "stream",
     "text": [
      "SP-021\n"
     ]
    }
   ],
   "source": [
    "for road in roads[0:4]:\n",
    "    print(road.name)"
   ]
  },
  {
   "cell_type": "code",
   "execution_count": 42,
   "metadata": {},
   "outputs": [
    {
     "name": "stdout",
     "output_type": "stream",
     "text": [
      "\n",
      "\n"
     ]
    },
    {
     "data": {
      "application/vnd.jupyter.widget-view+json": {
       "model_id": "1cdbc5774c0a461bacce16242585172f",
       "version_major": 2,
       "version_minor": 0
      },
      "text/plain": [
       "  0%|          | 0/31 [00:00<?, ?it/s]"
      ]
     },
     "metadata": {},
     "output_type": "display_data"
    }
   ],
   "source": [
    "kms = defaultdict(list)\n",
    "\n",
    "for road in roads:\n",
    "#     if road.name in kms.keys():\n",
    "#         continue\n",
    "    \n",
    "    start = road.marks['0']['km']\n",
    "    end = road.marks[list(road.marks.keys())[-1]]['km']\n",
    "    print('\\n')\n",
    "    \n",
    "    if start > end:\n",
    "        temp = end\n",
    "        end = start\n",
    "        start = temp\n",
    "    \n",
    "    for km in tqdm(arange(start, end+1, 1)):\n",
    "#         print('{:.3f}'.format(km))\n",
    "#         instance.point, instance.road = get_road_coordinates(\n",
    "#         instance.road_name,\n",
    "#         instance.km,\n",
    "#         instance.direction,\n",
    "#         instance.company,\n",
    "#         ) or (Point(0, 0), None)\n",
    "        try:\n",
    "            coordinate = km_to_coordinates(road, round(km, 3))\n",
    "            kms[road.name + \" (\" + str(road.id) + \")\"].append((float('{:.3f}'.format(km)), coordinate[0].x, coordinate[0].y))\n",
    "        except Exception as e:\n",
    "            print(repr(e))\n",
    "#             pass\n",
    "#             print(road.name, road.id, km)"
   ]
  },
  {
   "cell_type": "code",
   "execution_count": 43,
   "metadata": {},
   "outputs": [
    {
     "data": {
      "text/plain": [
       "1"
      ]
     },
     "execution_count": 43,
     "metadata": {},
     "output_type": "execute_result"
    }
   ],
   "source": [
    "len(kms.keys())"
   ]
  },
  {
   "cell_type": "code",
   "execution_count": 44,
   "metadata": {},
   "outputs": [],
   "source": [
    "wb=None"
   ]
  },
  {
   "cell_type": "code",
   "execution_count": 45,
   "metadata": {},
   "outputs": [],
   "source": [
    "wb = Workbook()"
   ]
  },
  {
   "cell_type": "code",
   "execution_count": 46,
   "metadata": {},
   "outputs": [
    {
     "name": "stdout",
     "output_type": "stream",
     "text": [
      "6: SP-021\n"
     ]
    }
   ],
   "source": [
    "for a in roads:\n",
    "    if not a.name in kms.keys():\n",
    "        print(a)"
   ]
  },
  {
   "cell_type": "code",
   "execution_count": 47,
   "metadata": {},
   "outputs": [
    {
     "name": "stdout",
     "output_type": "stream",
     "text": [
      "SP-021 (6)\n"
     ]
    }
   ],
   "source": [
    "for names, marks in kms.items():\n",
    "    print(names)"
   ]
  },
  {
   "cell_type": "code",
   "execution_count": 48,
   "metadata": {},
   "outputs": [],
   "source": [
    "for names, marks in kms.items():\n",
    "    ws = wb.create_sheet(title=names.replace('/', '-'))\n",
    "    ws.append(['Km', 'Longitude', 'Latitude'])\n",
    "    for mark in marks:\n",
    "        ws.append(mark)"
   ]
  },
  {
   "cell_type": "code",
   "execution_count": 49,
   "metadata": {},
   "outputs": [],
   "source": [
    "wb.save(filename=filename)"
   ]
  },
  {
   "cell_type": "code",
   "execution_count": 50,
   "metadata": {},
   "outputs": [
    {
     "data": {
      "text/plain": [
       "[(0.0, -46.7368681973276, -23.4158085),\n",
       " (1.0, -46.742998517241, -23.419731218935),\n",
       " (2.0, -46.7510485663054, -23.4246889620108),\n",
       " (3.0, -46.7567881547743, -23.4317491823197),\n",
       " (4.0, -46.764877608468, -23.4366334602237),\n",
       " (5.0, -46.773193545054, -23.4415779226328),\n",
       " (6.0, -46.7809306946033, -23.4469),\n",
       " (7.0, -46.7894, -23.45385),\n",
       " (8.0, -46.795733310908275, -23.46029518119928),\n",
       " (9.0, -46.7999954577414, -23.4683),\n",
       " (10.0, -46.8018911136409, -23.4764023868824),\n",
       " (11.0, -46.8103672757042, -23.4920792173669),\n",
       " (12.0, -46.8175913535619, -23.4977019077136),\n",
       " (13.0, -46.8216939724156, -23.5055549983052),\n",
       " (14.0, -46.8178269142437, -23.5137),\n",
       " (15.0, -46.8162605459656, -23.5217056374417),\n",
       " (16.0, -46.8178848270929, -23.5304854541237),\n",
       " (17.0, -46.8178005730043, -23.5394664325776),\n",
       " (18.0, -46.8204873589343, -23.5481990115121),\n",
       " (19.0, -46.8194228559288, -23.5570158106319),\n",
       " (20.0, -46.8193222039398, -23.5659011789492),\n",
       " (21.0, -46.8122991915612, -23.5718000840265),\n",
       " (22.0, -46.808711729575, -23.5800842764815),\n",
       " (23.0, -46.8093700683251, -23.5887992920567),\n",
       " (24.0, -46.81185634113512, -23.597690799799047),\n",
       " (25.0, -46.8141712434407, -23.6066310401073),\n",
       " (26.0, -46.8204643194565, -23.6131760736306),\n",
       " (27.0, -46.8275635360511, -23.6184471784022),\n",
       " (28.0, -46.8295091259034, -23.6221),\n",
       " (29.0, -46.8318413407548, -23.6322),\n",
       " (30.0, -46.8334, -23.640899)]"
      ]
     },
     "execution_count": 50,
     "metadata": {},
     "output_type": "execute_result"
    }
   ],
   "source": [
    "marks"
   ]
  },
  {
   "cell_type": "code",
   "execution_count": null,
   "metadata": {},
   "outputs": [],
   "source": []
  },
  {
   "cell_type": "code",
   "execution_count": null,
   "metadata": {},
   "outputs": [],
   "source": []
  }
 ],
 "metadata": {
  "kernelspec": {
   "display_name": "Django Shell-Plus",
   "language": "python",
   "name": "django_extensions"
  },
  "language_info": {
   "codemirror_mode": {
    "name": "ipython",
    "version": 3
   },
   "file_extension": ".py",
   "mimetype": "text/x-python",
   "name": "python",
   "nbconvert_exporter": "python",
   "pygments_lexer": "ipython3",
   "version": "3.8.16"
  }
 },
 "nbformat": 4,
 "nbformat_minor": 2
}
