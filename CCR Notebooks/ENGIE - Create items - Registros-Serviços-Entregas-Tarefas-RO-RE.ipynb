{
 "cells": [
  {
   "cell_type": "code",
   "execution_count": 1,
   "id": "demographic-divide",
   "metadata": {},
   "outputs": [
    {
     "data": {
      "text/plain": [
       "'Colocar searchtags'"
      ]
     },
     "execution_count": 1,
     "metadata": {},
     "output_type": "execute_result"
    }
   ],
   "source": [
    "\"\"\"Colocar searchtags\"\"\""
   ]
  },
  {
   "cell_type": "code",
   "execution_count": 2,
   "id": "square-setting",
   "metadata": {},
   "outputs": [
    {
     "data": {
      "text/plain": [
       "'Para setar localização:\\n\\n\\n\\nfrom django.contrib.gis.geos import Point, GeometryCollection\\n\\ngeometry=GeometryCollection([Point()])\\n\\n\\n'"
      ]
     },
     "execution_count": 2,
     "metadata": {},
     "output_type": "execute_result"
    }
   ],
   "source": [
    "\"\"\"Para setar localização:\n",
    "\n",
    "\n",
    "\n",
    "from django.contrib.gis.geos import Point, GeometryCollection\n",
    "\n",
    "geometry=GeometryCollection([Point()])\n",
    "\n",
    "\n",
    "\"\"\""
   ]
  },
  {
   "cell_type": "code",
   "execution_count": 3,
   "id": "guilty-assumption",
   "metadata": {},
   "outputs": [
    {
     "data": {
      "text/plain": [
       "'\\nrecord=OcurrenceRecord()\\nrecord.save()\\n\\nservice_order=ServiceOrder(company=company, description=texto_excel,kind=\"LAND\",process_type=\"1\",)\\nservice_order.save()\\n\\nrecord.service_orders.add(service_order)\\nservice_order.responsibles.add(User.objects.get(...))\\n\\nservice_order_action=ServiceOrderAction(name=fazer loop em opções da company.metadata, criando os itens abaixo da escolha do excel\\n                    (incluindo), em ordem, estimated_end_date=date.today()+timedelta(week=valor no loop),\\n                    created_by=engie, service_order=service_order)\\nservice_order_action.save()\\n\\nprocedure=Procedure(action=service_order_action,responsible=User.objects.get(...),to_do=texto_excel,\\n                    created_by=engie)\\n\\n'"
      ]
     },
     "execution_count": 3,
     "metadata": {},
     "output_type": "execute_result"
    }
   ],
   "source": [
    "\"\"\"\n",
    "record=OcurrenceRecord()\n",
    "record.save()\n",
    "\n",
    "service_order=ServiceOrder(company=company, description=texto_excel,kind=\"LAND\",process_type=\"1\",)\n",
    "service_order.save()\n",
    "\n",
    "record.service_orders.add(service_order)\n",
    "service_order.responsibles.add(User.objects.get(...))\n",
    "\n",
    "service_order_action=ServiceOrderAction(name=fazer loop em opções da company.metadata, criando os itens abaixo da escolha do excel\n",
    "                    (incluindo), em ordem, estimated_end_date=date.today()+timedelta(week=valor no loop),\n",
    "                    created_by=engie, service_order=service_order)\n",
    "service_order_action.save()\n",
    "\n",
    "procedure=Procedure(action=service_order_action,responsible=User.objects.get(...),to_do=texto_excel,\n",
    "                    created_by=engie)\n",
    "\n",
    "\"\"\""
   ]
  },
  {
   "cell_type": "code",
   "execution_count": 4,
   "id": "abandoned-russell",
   "metadata": {},
   "outputs": [
    {
     "name": "stdout",
     "output_type": "stream",
     "text": [
      "STAGE=ENGIE_PRODUCTION\r\n"
     ]
    }
   ],
   "source": [
    "!cat .env"
   ]
  },
  {
   "cell_type": "code",
   "execution_count": 5,
   "id": "85bc8aa5",
   "metadata": {},
   "outputs": [
    {
     "data": {
      "text/plain": [
       "<QuerySet [<Company: a17b7aca-5552-4f17-9ba0-9946029390a6: POC-Projeto APR>, <Company: 571581e3-da3a-469e-8676-0dc58c056ef7: GSO - UHE-SALTO OSORIO>, <Company: 4920816b-507a-48b1-86d5-d2eef6c63a1f: GSO - UTPS>, <Company: 4a5e0119-fb85-40fd-87ab-f201a2aa0fde: GSB - UHE-MACHADINHO>, <Company: 7fe7b473-6d9c-49d6-a9ca-74f3424d3211: GSB - UHE-SALTO OSORIO>, <Company: b75339ff-e91f-4e75-a082-5d7e23a4d049: GSB - UHE-SALTO SANTIAGO>, <Company: f0bdd035-6af9-401c-9233-26c5cdd808b0: GSO - UHE-JAGUARA>, <Company: d25d0eb2-61a8-4646-8e0e-31c8e68cf216: TESTE>, <Company: c85df77c-3e92-4f60-b9c1-de5866400d2d: GSO - UHE-CANA BRAVA>, <Company: 62ad80d9-b785-4037-933a-e23238728220: GSO - UHE-MIRANDA>, <Company: 37b4c80d-3f2b-4032-8cac-6ba1560d3144: GSO - UHE-SALTO SANTIAGO>, <Company: cff59760-69dd-4d07-bba5-61aa8b6faeea: GES - UHE-CANA BRAVA>, <Company: 90041917-e41e-46f2-b979-7d3ad53efad2: Engie Umburanas>, <Company: 7647aa61-e7eb-42f4-b2c1-5567d083df4f: Energia Compartilhado GSO>, <Company: 4b4bfdad-f8b8-403b-93a6-26e846a6770b: GSO - UHE-MACHADINHO>, <Company: 1b1511d1-6f28-4aed-b02c-7c820c5f9dbb: GSO - PCH-RONDONÓPOLIS>, <Company: 69c4238a-fc42-4a16-a312-364ff4cd10c6: GSB - UHE-ITA>, <Company: 6ea3a49c-55a7-4aeb-919f-949034a5d2fa: GSB - UHE-ESTREITO>, <Company: e9fce210-f652-4d7d-befe-32e02a8f0f60: GSO - UHE-ITA>, <Company: e2d725b7-1b3b-4138-b790-cf49a6ab5284: GSB - UHE-JAGUARA>, '...(remaining elements truncated)...']>"
      ]
     },
     "execution_count": 5,
     "metadata": {},
     "output_type": "execute_result"
    }
   ],
   "source": [
    "Company.objects.all()"
   ]
  },
  {
   "cell_type": "code",
   "execution_count": 6,
   "id": "portable-disease",
   "metadata": {},
   "outputs": [],
   "source": [
    "import json\n",
    "import os\n",
    "from openpyxl import load_workbook\n",
    "from datetime import timedelta, date, datetime\n",
    "import random\n",
    "from copy import deepcopy\n",
    "import math\n",
    "import locale\n",
    "from tqdm.notebook import tqdm\n",
    "import pytz\n",
    "from django.contrib.gis.geos import Point, GeometryCollection\n",
    "import subprocess\n",
    "import sys\n",
    "from django.contrib.admin.utils import flatten\n",
    "from helpers.strings import get_obj_from_path, keys_to_snake_case, to_snake_case, UF_CODE\n",
    "from uuid import uuid4\n",
    "from django.contrib.gis.geos import Point"
   ]
  },
  {
   "cell_type": "code",
   "execution_count": 7,
   "id": "several-young",
   "metadata": {},
   "outputs": [],
   "source": [
    "def get_value(field, occ, value):\n",
    "    values = occ.form_fields['fields']\n",
    "    item_translation = flatten([item['selectOptions']['options'] for item in values if item['displayName']==field])\n",
    "#     print(item_translation)\n",
    "    if field == 'Nome da placa':\n",
    "        value=value.upper()\n",
    "    final_translation = {item['name']: item['value'] for item in item_translation}\n",
    "#     print(final_translation)\n",
    "    return final_translation[value]"
   ]
  },
  {
   "cell_type": "code",
   "execution_count": 8,
   "id": "authentic-illinois",
   "metadata": {},
   "outputs": [],
   "source": [
    "def get_inner_value(field, inner_field, occ, value):\n",
    "    values = occ.form_fields['fields']\n",
    "#     value=value.capitalize().strip()\n",
    "    item_translation = flatten([item['inner_fields'] for item in values if item['api_name']==field])\n",
    "#     print(item_translation)\n",
    "    mid_translation = flatten([item['select_options']['options'] for item in item_translation if item['display_name'] == inner_field])\n",
    "#     print(mid_translation)\n",
    "    final_translation = {item['name']: item['value'] for item in mid_translation}\n",
    "#     print(final_translation)\n",
    "    return final_translation[value]"
   ]
  },
  {
   "cell_type": "code",
   "execution_count": 9,
   "id": "ff7800e5",
   "metadata": {},
   "outputs": [],
   "source": [
    "def property_intersections(instance):\n",
    "    geom = instance.geometry\n",
    "\n",
    "    if geom and \"properties_shape\" in instance.company.metadata:\n",
    "        try:\n",
    "            shape = ShapeFile.objects.get(\n",
    "                uuid=instance.company.metadata[\"properties_shape\"]\n",
    "            )\n",
    "        except Exception:\n",
    "            pass\n",
    "        else:\n",
    "            intersects = []\n",
    "            for index, geometry in enumerate(shape.geometry):\n",
    "                try:\n",
    "                    if geometry.intersects(geom):\n",
    "                        intersects.append((index, geometry))\n",
    "                except Exception:\n",
    "                    pass\n",
    "\n",
    "            intersects = [\n",
    "                {\n",
    "                    \"geometry\": json.loads(geometry[1].json),\n",
    "                    \"attributes\": {\n",
    "                        \"uuid\": \"{}-{}\".format(\n",
    "                            str(shape.uuid),\n",
    "                            shape.properties[geometry[0]][\"OBJECTID\"],\n",
    "                        ),\n",
    "                        **shape.properties[geometry[0]],\n",
    "                    },\n",
    "                }\n",
    "                for geometry in intersects\n",
    "            ]\n",
    "\n",
    "            field = \"property_intersections\"\n",
    "            instance.form_data[field] = intersects"
   ]
  },
  {
   "cell_type": "code",
   "execution_count": 28,
   "id": "similar-bankruptcy",
   "metadata": {},
   "outputs": [],
   "source": [
    "filename='UHPF'"
   ]
  },
  {
   "cell_type": "code",
   "execution_count": 29,
   "id": "bearing-heavy",
   "metadata": {},
   "outputs": [],
   "source": [
    "wb = load_workbook(filename + '.xlsx')\n",
    "sheetname = wb.sheetnames[1]\n",
    "# sheetname\n",
    "ws = wb[sheetname]"
   ]
  },
  {
   "cell_type": "code",
   "execution_count": 30,
   "id": "tropical-individual",
   "metadata": {},
   "outputs": [],
   "source": [
    "header = []\n",
    "values = []\n",
    "\n",
    "for index, row in enumerate(ws.rows):\n",
    "    if index == 0:\n",
    "        header = list([a.value for a in row])\n",
    "        continue\n",
    "    obj = {}\n",
    "    for col_index, cell in enumerate(row):\n",
    "        value = cell.value\n",
    "        obj[header[col_index]] = value\n",
    "        \n",
    "    values.append(obj)"
   ]
  },
  {
   "cell_type": "code",
   "execution_count": 31,
   "id": "scientific-wallpaper",
   "metadata": {
    "scrolled": true
   },
   "outputs": [
    {
     "data": {
      "text/plain": [
       "{'N. da Invasão': None,\n",
       " 'Tipo Relatório': 'RO',\n",
       " 'Relatório Principal': 201000295,\n",
       " 'Região': '00',\n",
       " 'Fuso': '22S',\n",
       " 'Coordenada X': 330706,\n",
       " 'Coordenada Y': 6953497,\n",
       " 'Município': 'Entre Rios do Sul - RS',\n",
       " 'Status': 'Atendido',\n",
       " 'Equipe': 'LAGO AZUL',\n",
       " 'Data do registro': datetime.datetime(2009, 4, 3, 0, 0),\n",
       " 'Classe': 'Uso e Ocupação Irregular',\n",
       " 'Identificação do local_1': 'Área de preservação permanente',\n",
       " 'Identificação do local_2': None,\n",
       " 'Identificação do local_3': None,\n",
       " 'Identificação do local_4': None,\n",
       " 'Identificação do local_5': None,\n",
       " 'Identificação do local_6': None,\n",
       " 'Identificação do local_7': None,\n",
       " 'Identificação do local_8': None,\n",
       " 'Constatação_1': 'Ocupação/utilização não autorizada',\n",
       " 'Constatação_2': None,\n",
       " 'Constatação_3': None,\n",
       " 'Constatação_4': None,\n",
       " 'Constatação_5': None,\n",
       " 'Constatação_6': None,\n",
       " 'Contatação_7': None,\n",
       " 'Constatação_8': None,\n",
       " 'Constatação (detalhe)_1': None,\n",
       " 'Irregularidades_1': 'lavoura ',\n",
       " 'Irregularidades_2': 'edificação ',\n",
       " 'Irregularidades_3': None,\n",
       " 'Irregularidades_4': None,\n",
       " 'Irregularidades_5': None,\n",
       " 'Outros - Descrição_1': None,\n",
       " 'Comprimento (m)_1': None,\n",
       " 'Comprimento (m)_2': None,\n",
       " 'Comprimento (m)_3': None,\n",
       " 'Comprimento (m)_4': None,\n",
       " 'Largura (m)_1': None,\n",
       " 'Largura (m)_2': None,\n",
       " 'Largura (m)_3': None,\n",
       " 'Largura (m)_4': None,\n",
       " 'Altura (m)_1': None,\n",
       " 'Área (m2)_1': None,\n",
       " 'Quantidade (un)_1': None,\n",
       " 'Quantidade (un)_2': None,\n",
       " 'Quantidade (un)_3': None,\n",
       " 'Quantidade (un)_4': None,\n",
       " 'Quantidade (un)_5': None,\n",
       " 'Volume (m3)_1': None,\n",
       " 'Profundidade (m)_1': None,\n",
       " 'Perímetro (m)_1': None,\n",
       " 'Diâmetro (m)_1': None,\n",
       " 'Cota (m)_1': None,\n",
       " 'Peso (kg)_1': None,\n",
       " 'Área afetada (m2)_1': None,\n",
       " 'Área afetada (m2)_2': None,\n",
       " 'Área afetada (m2)_3': None,\n",
       " 'Observações_1': None,\n",
       " 'Observações_2': None,\n",
       " 'Observações_3': None,\n",
       " 'Observações_4': None,\n",
       " 'Observações_5': None,\n",
       " 'Houve acordo verbal?': 'Não',\n",
       " 'Prazo de cumprimento': None,\n",
       " 'Acordo realizado com': None,\n",
       " 'Nome do infrator': 'Lenir Corrêa Ramos',\n",
       " 'RG': None,\n",
       " 'CPF / CNPJ': None,\n",
       " 'Telefone': None,\n",
       " 'E-mail': None,\n",
       " 'Logradouro': None,\n",
       " 'Número': None,\n",
       " 'Bairro': None,\n",
       " 'Complemento': None,\n",
       " 'UF': 'RS',\n",
       " 'Cidade': 'Entre Rios do Sul - RS',\n",
       " 'CEP': '99645-000',\n",
       " 'Descrição do serviço': 'Ocorrência por inspeção',\n",
       " 'Responsável técnico': 'Fernando Azevedo',\n",
       " 'Entrega Atual': None,\n",
       " 'Tarefa atual': 'Após Análise Administrativa',\n",
       " 'Registro Kartado - Vistoria Complementar ': None}"
      ]
     },
     "execution_count": 31,
     "metadata": {},
     "output_type": "execute_result"
    }
   ],
   "source": [
    "values[1]"
   ]
  },
  {
   "cell_type": "code",
   "execution_count": 32,
   "id": "a3a5362c",
   "metadata": {},
   "outputs": [],
   "source": [
    "company = Company.objects.get(name='GES - UHE-PASSO FUNDO')\n",
    "\n",
    "engie = User.objects.get(username=\"engie\")"
   ]
  },
  {
   "cell_type": "code",
   "execution_count": 35,
   "id": "established-variety",
   "metadata": {},
   "outputs": [
    {
     "data": {
      "text/plain": [
       "(<OccurrenceType: Ocorrências patrimoniais - ['GES - UHE-SALTO SANTIAGO', 'GES - UHE-ITA', 'GES - GEH', 'GES - UHE-ESTREITO', 'GES - UHE-MIRANDA', 'GES - UHE-SALTO OSORIO', 'GES - UHE-CANA BRAVA', 'GES - UHE-SÃO SALVADOR', 'GES - UHE-PASSO FUNDO', 'GES - UHE-MACHADINHO', 'GES - UHE-PONTE DE PEDRA', 'GES - PCH-JOSÉ GELÁZIO DA ROCHA', 'GES - PCH-RONDONÓPOLIS', 'GES - UHE-JAGUARA']>,\n",
       " <OccurrenceType: Resumo Executivo - ['GES - UHE-SALTO SANTIAGO', 'GES - UHE-ITA', 'GES - GEH', 'GES - UHE-ESTREITO', 'GES - UHE-JAGUARA', 'GES - UHE-MIRANDA', 'GES - UHE-SALTO OSORIO', 'GES - UHE-CANA BRAVA', 'GES - UHE-SÃO SALVADOR', 'GES - UHE-PASSO FUNDO', 'GES - UHE-MACHADINHO', 'GES - UHE-PONTE DE PEDRA', 'GES - PCH-JOSÉ GELÁZIO DA ROCHA', 'GES - PCH-RONDONÓPOLIS']>)"
      ]
     },
     "execution_count": 35,
     "metadata": {},
     "output_type": "execute_result"
    }
   ],
   "source": [
    "occ=OccurrenceType.objects.get(uuid='faa62cbd-c2ec-49fc-bc4a-9b1ab9edcca4')# Ocorrências Patrimoniais\n",
    "occ_RE=OccurrenceType.objects.get(uuid='df7b367d-893b-40cc-af39-2019a2e764b9')# Resumo Executivo\n",
    "\n",
    "user=User.objects.get(username='engie') #user criador dos registros\n",
    "\n",
    "firm=Firm.objects.get(company=company,name='LAGO AZUL')\n",
    "tag1=SearchTag.objects.get(company = company, name = \"Ocorrência\")\n",
    "tag3=SearchTag.objects.get(company = company, name = \"Patrimonial\")\n",
    "tag4=SearchTag.objects.get(company = company, name = \"Uso e ocupação irregular\")\n",
    "actions=get_obj_from_path(company.metadata, \"land_action_names\")\n",
    "status = ServiceOrderActionStatus.objects.get(name='Atendido', companies=company)\n",
    "\n",
    "\n",
    "deadline = '22/04/2024 00:00'\n",
    "path='importacao_2024/uhso/'\n",
    "\n",
    "array_name='irregularities'\n",
    "occ,occ_RE"
   ]
  },
  {
   "cell_type": "code",
   "execution_count": 36,
   "id": "054092f6",
   "metadata": {},
   "outputs": [
    {
     "data": {
      "text/plain": [
       "('Ocorrência', 'Patrimonial', 'Uso e ocupação irregular')"
      ]
     },
     "execution_count": 36,
     "metadata": {},
     "output_type": "execute_result"
    }
   ],
   "source": [
    "tag1.name,tag3.name,tag4.name"
   ]
  },
  {
   "cell_type": "code",
   "execution_count": 37,
   "id": "fd3de285",
   "metadata": {},
   "outputs": [
    {
     "data": {
      "text/plain": [
       "('Relatório', 'Resumo executivo', 'Patrimonial')"
      ]
     },
     "execution_count": 37,
     "metadata": {},
     "output_type": "execute_result"
    }
   ],
   "source": [
    "tag10=SearchTag.objects.get(company = company, name = \"Relatório\")\n",
    "tag30=SearchTag.objects.get(company = company, name = \"Resumo executivo\")\n",
    "tag40=SearchTag.objects.get(company = company, name = \"Patrimonial\")\n",
    "tag10.name,tag30.name,tag40.name"
   ]
  },
  {
   "cell_type": "code",
   "execution_count": 38,
   "id": "fluid-hotel",
   "metadata": {},
   "outputs": [],
   "source": [
    "def get_action_list(actions, value):\n",
    "    value_index = 0\n",
    "    for index, a in enumerate(actions):\n",
    "        if a['name'] == value:\n",
    "            value_index=index\n",
    "            break\n",
    "\n",
    "    new_actions=actions[value_index:]\n",
    "    \n",
    "    return new_actions"
   ]
  },
  {
   "cell_type": "code",
   "execution_count": 39,
   "id": "noticed-trade",
   "metadata": {},
   "outputs": [],
   "source": [
    "def transform_coordinates(x, y, srid=31982):\n",
    "\n",
    "    pnt = Point(x, y, srid=srid)\n",
    "    pnt.transform(4326)\n",
    "\n",
    "    lng = pnt.coords[0]\n",
    "    lat = pnt.coords[1]\n",
    "    return Point(lng, lat)"
   ]
  },
  {
   "cell_type": "code",
   "execution_count": 40,
   "id": "dynamic-laser",
   "metadata": {},
   "outputs": [],
   "source": [
    "def get_uf(uf_code):\n",
    "    if type(uf_code) != 'str':\n",
    "        uf_code=str(uf_code)\n",
    "    \n",
    "    uf=[{'id': '12', 'name': 'AC'}, {'id': '27', 'name': 'AL' }, {'id': '13', 'name': 'AM'}, {'id': '16', 'name': 'AP'}, \n",
    "        {'id': '29', 'name': 'BA'}, {'id': '23', 'name': 'CE' }, {'id': '53', 'name': 'DF'}, {'id': '32', 'name': 'ES'}, \n",
    "        {'id': '52', 'name': 'GO'}, {'id': '21', 'name': 'MA' }, {'id': '31', 'name': 'MG'}, {'id': '50', 'name': 'MS'}, \n",
    "        {'id': '51', 'name': 'MT'}, {'id': '15', 'name': 'PA' }, {'id': '25', 'name': 'PB'}, {'id': '26', 'name': 'PE'}, \n",
    "        {'id': '22', 'name': 'PI'}, {'id': '41', 'name': 'PR' }, {'id': '33', 'name': 'RJ'}, {'id': '24', 'name': 'RN'},\n",
    "        {'id': '11', 'name': 'RO'}, {'id': '14', 'name': 'RR' }, {'id': '43', 'name': 'RS'}, {'id': '42', 'name': 'SC'},\n",
    "        {'id': '28', 'name': 'SE'}, {'id': '35', 'name': 'SP' }, {'id': '17', 'name': 'TO'}]\n",
    "    uf_translation={item['name']: item['id'] for item in uf}\n",
    "#     print(uf_translation)    \n",
    "    \n",
    "    return uf_translation[uf_code]"
   ]
  },
  {
   "cell_type": "code",
   "execution_count": 41,
   "id": "signed-night",
   "metadata": {},
   "outputs": [],
   "source": [
    "def get_involved_parts(a):\n",
    "    return_dict = list(filter(None, [{\n",
    "        'involved_parts': '1',\n",
    "        'name': a['Nome do infrator'],\n",
    "        'rg': True if a.get('RG') is not None else False,\n",
    "        'description_rg': str(a.get('RG')).strip() if a.get('RG') is not None else None,\n",
    "        'cpf': True if a.get('CPF / CNPJ') is not None else False,\n",
    "        'description_cpf': str(a.get('CPF / CNPJ')).strip() if a.get('CPF / CNPJ') is not None else None,\n",
    "        'phone': True if a.get('Telefone_1') is not None else False,\n",
    "        'description_phone': str(a.get('Telefone_1')).strip() if a.get('Telefone_1') is not None else None,\n",
    "        'email': True if a.get('E-mail') is not None else False,\n",
    "        'description_email': a.get('E-mail').strip() if a.get('E-mail') is not None else None,\n",
    "        'address': a.get('Logradouro').strip() if a.get('Logradouro') is not None else None,\n",
    "        'address_number': str(a.get('Número')) if a.get('Número') is not None else None,\n",
    "        'district': a.get('Bairro').strip() if a.get('Bairro') is not None else None,\n",
    "        'address_additional': a.get('Complemento').strip() if a.get('Complemento') is not None else None,\n",
    "#         'address_additional': a['Complemento'] if a['Complemento'] is not None else None,\n",
    "        'uf': int(get_uf(a.get('UF').strip())) if a.get('UF') is not None else None,\n",
    "        'city': a.get('Cidade').strip() if a.get('Cidade') is not None else None,\n",
    "        'cep': str(a.get('CEP')).strip() if a.get('CEP') is not None else None\n",
    "    }]))\n",
    "    \n",
    "    return return_dict"
   ]
  },
  {
   "cell_type": "code",
   "execution_count": 42,
   "id": "everyday-medicare",
   "metadata": {},
   "outputs": [
    {
     "data": {
      "application/vnd.jupyter.widget-view+json": {
       "model_id": "e0739a703abc482da436a4ddada80c9f",
       "version_major": 2,
       "version_minor": 0
      },
      "text/plain": [
       "  0%|          | 0/427 [00:00<?, ?it/s]"
      ]
     },
     "metadata": {},
     "output_type": "display_data"
    }
   ],
   "source": [
    "for a in tqdm(values):\n",
    "    if not a.get('Observações_1'):\n",
    "        continue\n",
    "    a['obs'] = list(filter(None, [{'observation_description': a['Observações_1']} if a['Observações_1'] else None,\n",
    "                                 {'observation_description': a['Observações_2']} if a['Observações_2'] else None,\n",
    "                                 {'observation_description': a['Observações_3']} if a['Observações_3'] else None,\n",
    "                                 {'observation_description': a['Observações_4']} if a['Observações_4'] else None,\n",
    "                                 {'observation_description': a['Observações_5']} if a['Observações_5'] else None,]))"
   ]
  },
  {
   "cell_type": "code",
   "execution_count": 43,
   "id": "incorporated-gather",
   "metadata": {
    "scrolled": true
   },
   "outputs": [
    {
     "data": {
      "application/vnd.jupyter.widget-view+json": {
       "model_id": "3314becab5ed4101bce5c81dcc5efd16",
       "version_major": 2,
       "version_minor": 0
      },
      "text/plain": [
       "  0%|          | 0/427 [00:00<?, ?it/s]"
      ]
     },
     "metadata": {},
     "output_type": "display_data"
    }
   ],
   "source": [
    "for a in tqdm(values):\n",
    "    a['irreg'] = list(filter(None,[{'place_identification': get_inner_value(array_name, 'Identificação do local', occ, a['Identificação do local_1']) if a['Identificação do local_1'] is not None else None,\n",
    "                   'finding': get_inner_value(array_name, 'Constatação', occ, a['Constatação_1']) if a['Constatação_1'] is not None else None,\n",
    "                   'place_identification': a['Constatação (detalhe)_1'].capitalize().strip() if a['Constatação (detalhe)_1'] is not None else None,\n",
    "                   'unauthorized_construction_irregular': a['Irregularidades_1'].strip().capitalize() if a.get('Irregularidades_1') is not None else None,\n",
    "                   'other_description': a['Outros - Descrição_1'] if a.get('Outros - Descrição_1') is not None else None,\n",
    "#                    'display_length': True if a['Comprimento (m)_1'] is not None else False,\n",
    "#                    'length': a['Comprimento (m)_1'] if a['Comprimento (m)_1'] is not None else None,\n",
    "#                    'display_width': True if a['Largura (m)_1'] is not None else False,\n",
    "#                    'width': a['Largura (m)_1'] if a['Largura (m)_1'] is not None else None,\n",
    "#                    'display_height': True if a['Altura (m)_1'] is not None else False,\n",
    "#                    'height': a['Comprimento (m)_1'] if a['Altura (m)_1'] is not None else None,\n",
    "#                    'display_area': True if a['Área (m2)_1'] is not None else False,\n",
    "#                    'area': a['Área (m2)_1'] if a['Área (m2)_1'] is not None else None,\n",
    "#                    'display_amount': True if a['Quantidade (un)_1'] is not None else False,\n",
    "#                    'amount': a['Quantidade (un)_1'] if a['Quantidade (un)_1'] is not None else None,\n",
    "#                    'display_volume': True if a['Volume (m3)_1'] is not None else False,\n",
    "#                    'volume': a['Volume (m3)_1'] if a['Volume (m3)_1'] is not None else None,\n",
    "#                    'display_deepen': True if a['Profundidade (m)_1'] is not None else False,\n",
    "#                    'deepen': a['Profundidade (m)_1'] if a['Profundidade (m)_1'] is not None else None,\n",
    "#                    'display_perimeter': True if a['Perímetro (m)_1'] is not None else False,\n",
    "#                    'perimeter': a['Diâmetro (m)_1'] if a['Perímetro (m)_1'] is not None else None,\n",
    "#                    'display_diameter': True if a['Diâmetro (m)_1'] is not None else False,\n",
    "#                    'diameter': a['Diâmetro (m)_1'] if a['Diâmetro (m)_1'] is not None else None,\n",
    "#                    'display_quote': True if a['Cota (m)_1'] is not None else False,\n",
    "#                    'quote': a['Cota (m)_1'] if a['Cota (m)_1'] is not None else None,\n",
    "#                    'display_kg': True if a['Peso (kg)_1'] is not None else False,\n",
    "#                    'weight': a['Peso (kg)_1'] if a['Peso (kg)_1'] is not None else None                  \n",
    "                  },\n",
    "                 {\n",
    "#                 'place_identification': get_inner_value(array_name, 'Identificação do local', occ, a['Identificação do local_2']) if a['Identificação do local_2'] is not None else None,\n",
    "#                    'finding': get_inner_value(array_name, 'Constatação', occ, a['Constatação_2']) if a['Constatação_2'] is not None else None,\n",
    "#                    'place_identification': a['Constatação (detalhe)_2'] if a['Constatação (detalhe)_2'] is not None else None,\n",
    "                   'unauthorized_construction_irregular': a['Irregularidades_2'].strip().capitalize() if a['Irregularidades_2'] is not None else None,\n",
    "#                    'other_description': a['Outros - Descrição_2'] if a['Outros - Descrição_2'] is not None else None,\n",
    "#                    'display_length': True if a['Comprimento (m)_2'] is not None else False,\n",
    "#                    'length': a['Comprimento (m)_2'] if a['Comprimento (m)_2'] is not None else None,\n",
    "#                    'display_width': True if a['Largura (m)_2'] is not None else False,\n",
    "#                    'width': a['Largura (m)_2'] if a['Largura (m)_2'] is not None else None,\n",
    "#                    'display_amount': True if a['Quantidade (un)_2'] is not None else False,\n",
    "#                    'amount': a['Quantidade (un)_2'] if a['Quantidade (un)_2'] is not None else None                 \n",
    "                 } if a['Constatação_1'] is not None else None,\n",
    "                 {\n",
    "#                      'place_identification': get_inner_value(array_name, 'Identificação do local', occ, a['Identificação do local_3']) if a['Identificação do local_3'] is not None else None,\n",
    "#                    'finding': get_inner_value(array_name, 'Constatação', occ, a['Constatação_3']) if a['Constatação_3'] is not None else None,\n",
    "#                    'place_identification': a['Constatação (detalhe)_3'] if a['Constatação (detalhe)_3'] is not None else None,\n",
    "                   'unauthorized_construction_irregular': a['Irregularidades_3'].strip().capitalize() if a['Irregularidades_3'] is not None else None,\n",
    "#                    'other_description': a['Outros - Descrição_3'] if a['Outros - Descrição_3'] is not None else None,\n",
    "#                    'display_length': True if a['Comprimento (m)_3'] is not None else False,\n",
    "#                    'length': a['Comprimento (m)_3'] if a['Comprimento (m)_3'] is not None else None,\n",
    "#                    'display_width': True if a['Largura (m)_3'] is not None else False,\n",
    "#                    'width': a['Largura (m)_3'] if a['Largura (m)_3'] is not None else None,\n",
    "#                    'display_amount': True if a['Quantidade (un)_3'] is not None else False,\n",
    "#                    'amount': a['Quantidade (un)_3'] if a['Quantidade (un)_3'] is not None else None                \n",
    "                  } if a['Constatação_1'] is not None else None,\n",
    "                 {\n",
    "#                      'place_identification': get_inner_value(array_name, 'Identificação do local', occ, a['Identificação do local_4']) if a['Identificação do local_4'] is not None else None,\n",
    "#                    'finding': get_inner_value(array_name, 'Constatação', occ, a['Constatação_4']) if a['Constatação_4'] is not None else None,\n",
    "#                    'place_identification': a['Constatação (detalhe)_4'] if a['Constatação (detalhe)_4'] is not None else None,\n",
    "                   'unauthorized_construction_irregular': a['Irregularidades_4'].strip().capitalize() if a['Irregularidades_4'] is not None else None,\n",
    "#                    'other_description': a['Outros - Descrição_4'] if a['Outros - Descrição_4'] is not None else None,\n",
    "#                    'display_amount': True if a['Quantidade (un)_4'] is not None else False,\n",
    "#                    'amount': a['Quantidade (un)_4'] if a['Quantidade (un)_4'] is not None else None  \n",
    "                  } if a['Constatação_1'] is not None else None,\n",
    "                 {\n",
    "#                      'place_identification': get_inner_value(array_name, 'Identificação do local', occ, a['Identificação do local_5']) if a['Identificação do local_5'] is not None else None,\n",
    "#                    'finding': get_inner_value(array_name, 'Constatação', occ, a['Constatação_5']) if a['Constatação_5'] is not None else None,\n",
    "#                    'place_identification': a['Constatação (detalhe)_5'] if a['Constatação (detalhe)_5'] is not None else None,\n",
    "                   'unauthorized_construction_irregular': a['Irregularidades_5'].strip().capitalize() if a['Irregularidades_5'] is not None else None,\n",
    "#                    'other_description': a['Outros - Descrição_5'] if a['Outros - Descrição_5'] is not None else None,\n",
    "#                    'display_amount': True if a['Quantidade (un)_5'] is not None else False,\n",
    "#                    'amount': a['Quantidade (un)_5'] if a['Quantidade (un)_5'] is not None else None             \n",
    "                  } if a['Constatação_1'] is not None else None,\n",
    "#                   {\n",
    "# #                       'place_identification': get_inner_value(array_name, 'Identificação do local', occ, a['Identificação do local_6']) if a['Identificação do local_6'] is not None else None,\n",
    "# #                    'finding': get_inner_value(array_name, 'Constatação', occ, a['Constatação_6']) if a['Constatação_6'] is not None else None,\n",
    "#                    'place_identification': a['Constatação (detalhe)_6'] if a['Constatação (detalhe)_6'] is not None else None,\n",
    "# #                    'unauthorized_construction_irregular': get_inner_value(array_name, 'Irregularidades', occ, a['Irregularidades_6']) if a['Irregularidades_6'] is not None else None,\n",
    "# #                    'other_description': a['Outros - Descrição_6'] if a['Outros - Descrição_6'] is not None else None,\n",
    "# #                    'display_amount': True if a['Quantidade (un)_6'] is not None else False,\n",
    "# #                    'amount': a['Quantidade (un)_6'] if a['Quantidade (un)_6'] is not None else None             \n",
    "#                   } if a['Constatação_1'] is not None else None,\n",
    "#                   {\n",
    "# #                       'place_identification': get_inner_value(array_name, 'Identificação do local', occ, a['Identificação do local_7']) if a['Identificação do local_7'] is not None else None,\n",
    "# #                    'finding': get_inner_value(array_name, 'Constatação', occ, a['Constatação_7']) if a.get('Constatação_7') is not None else None,\n",
    "#                    'place_identification': a['Constatação (detalhe)_7'] if a['Constatação (detalhe)_7'] is not None else None,\n",
    "# #                    'unauthorized_construction_irregular': get_inner_value(array_name, 'Irregularidades', occ, a['Irregularidades_7']) if a['Irregularidades_7'] is not None else None,\n",
    "# #                    'other_description': a['Outros - Descrição_7'] if a['Outros - Descrição_7'] is not None else None,\n",
    "# #                    'display_amount': True if a['Quantidade (un)_7'] is not None else False,\n",
    "# #                    'amount': a['Quantidade (un)_7'] if a['Quantidade (un)_7'] is not None else None             \n",
    "#                   } if a['Constatação_1'] is not None else None,\n",
    "#                   {\n",
    "# #                       'place_identification': get_inner_value(array_name, 'Identificação do local', occ, a['Identificação do local_8']) if a['Identificação do local_8'] is not None else None,\n",
    "# #                    'finding': get_inner_value(array_name, 'Constatação', occ, a['Constatação_8']) if a.get('Constatação_8') is not None else None,\n",
    "#                    'place_identification': a['Constatação (detalhe)_8'] if a['Constatação (detalhe)_8'] is not None else None,\n",
    "# #                    'unauthorized_construction_irregular': get_inner_value(array_name, 'Irregularidades', occ, a['Irregularidades_8']) if a['Irregularidades_8'] is not None else None,\n",
    "# #                    'other_description': a['Outros - Descrição_8'] if a['Outros - Descrição_8'] is not None else None,\n",
    "# #                    'display_amount': True if a['Quantidade (un)_8'] is not None else False,\n",
    "# #                    'amount': a['Quantidade (un)_8'] if a['Quantidade (un)_8'] is not None else None             \n",
    "#                   } if a['Constatação_1'] is not None else None,\n",
    "#                   {\n",
    "# #                       'place_identification': get_inner_value(array_name, 'Identificação do local', occ, a['Identificação do local_9']) if a['Identificação do local_9'] is not None else None,\n",
    "# #                    'finding': get_inner_value(array_name, 'Constatação', occ, a['Constatação_9']) if a.get('Constatação_9') is not None else None,\n",
    "#                    'place_identification': a['Constatação (detalhe)_9'] if a['Constatação (detalhe)_9'] is not None else None,\n",
    "# #                    'unauthorized_construction_irregular': get_inner_value(array_name, 'Irregularidades', occ, a['Irregularidades_9']) if a['Irregularidades_9'] is not None else None,\n",
    "# #                    'other_description': a['Outros - Descrição_9'] if a['Outros - Descrição_9'] is not None else None,\n",
    "# #                    'display_amount': True if a['Quantidade (un)_7'] is not None else False,\n",
    "# #                    'amount': a['Quantidade (un)_7'] if a['Quantidade (un)_7'] is not None else None             \n",
    "#                   } if a['Constatação_1'] is not None else None,\n",
    "#                   {\n",
    "# #                       'place_identification': get_inner_value(array_name, 'Identificação do local', occ, a['Identificação do local_10']) if a['Identificação do local_10'] is not None else None,\n",
    "# #                    'finding': get_inner_value(array_name, 'Constatação', occ, a['Constatação_10']) if a.get('Constatação_10') is not None else None,\n",
    "#                    'place_identification': a['Constatação (detalhe)_10'] if a['Constatação (detalhe)_10'] is not None else None,\n",
    "# #                    'unauthorized_construction_irregular': get_inner_value(array_name, 'Irregularidades', occ, a['Irregularidades_10']) if a['Irregularidades_10'] is not None else None,\n",
    "# #                    'other_description': a['Outros - Descrição_10'] if a['Outros - Descrição_10'] is not None else None,\n",
    "# #                    'display_amount': True if a['Quantidade (un)_7'] is not None else False,\n",
    "# #                    'amount': a['Quantidade (un)_7'] if a['Quantidade (un)_7'] is not None else None             \n",
    "#                   } if a['Constatação_1'] is not None else None\n",
    "                                  ]\n",
    "                            ))\n",
    "    "
   ]
  },
  {
   "cell_type": "code",
   "execution_count": 44,
   "id": "c9aae5bb",
   "metadata": {
    "scrolled": true
   },
   "outputs": [],
   "source": [
    "# for a in tqdm(values):\n",
    "#     if a['Data do registro'] is None or a['Data do registro'] == 'None':\n",
    "#         continue\n",
    "#     if isinstance(a['Data do registro'],str):\n",
    "#         a['Data do registro']=a['Data do registro'].strip()\n",
    "#     if isinstance(a['Data do registro'],datetime):\n",
    "#         a['Data do registro']=a['Data do registro'].strftime('%Y-%m-%d')\n",
    "#     if '00:00' in a['Data do registro']:\n",
    "#         a['Data do registro'] = a['Data do registro'].split(' ')[0]\n",
    "\n",
    "#     try:\n",
    "#         a['Data do registro'] = datetime.strptime(a['Data do registro'].strip(), '%Y-%m-%d')\n",
    "#     except:\n",
    "#         a['Data do registro'] = datetime.strptime(a['Data do registro'].strip(), '%d/%m/%Y')"
   ]
  },
  {
   "cell_type": "code",
   "execution_count": 45,
   "id": "1dbaec70",
   "metadata": {},
   "outputs": [
    {
     "data": {
      "text/plain": [
       "'Fernando Azevedo'"
      ]
     },
     "execution_count": 45,
     "metadata": {},
     "output_type": "execute_result"
    }
   ],
   "source": [
    "User.objects.get(username='fernando.azevedo').get_full_name()"
   ]
  },
  {
   "cell_type": "code",
   "execution_count": 47,
   "id": "9ea5c583",
   "metadata": {},
   "outputs": [],
   "source": [
    "for a in values:\n",
    "    if a['Município'] == 'Quatro Irmãos':\n",
    "        a['Município'] = 'Quatro Irmãos - RS'"
   ]
  },
  {
   "cell_type": "code",
   "execution_count": 49,
   "id": "5b2e7469",
   "metadata": {
    "collapsed": true
   },
   "outputs": [
    {
     "data": {
      "text/plain": [
       "{'N. da Invasão': None,\n",
       " 'Tipo Relatório': 'RO',\n",
       " 'Relatório Principal': 201001358,\n",
       " 'Região': '02',\n",
       " 'Fuso': '22S',\n",
       " 'Coordenada X': 326042,\n",
       " 'Coordenada Y': 6931031,\n",
       " 'Município': 'Ronda Alta - RS',\n",
       " 'Status': 'Atendido',\n",
       " 'Equipe': 'LAGO AZUL',\n",
       " 'Data do registro': datetime.datetime(2015, 2, 5, 0, 0),\n",
       " 'Classe': 'Uso e Ocupação Irregular',\n",
       " 'Identificação do local_1': 'Área de preservação permanente',\n",
       " 'Identificação do local_2': None,\n",
       " 'Identificação do local_3': None,\n",
       " 'Identificação do local_4': None,\n",
       " 'Identificação do local_5': None,\n",
       " 'Identificação do local_6': None,\n",
       " 'Identificação do local_7': None,\n",
       " 'Identificação do local_8': None,\n",
       " 'Constatação_1': 'Ocupação/utilização não autorizada',\n",
       " 'Constatação_2': None,\n",
       " 'Constatação_3': None,\n",
       " 'Constatação_4': None,\n",
       " 'Constatação_5': None,\n",
       " 'Constatação_6': None,\n",
       " 'Contatação_7': None,\n",
       " 'Constatação_8': None,\n",
       " 'Constatação (detalhe)_1': None,\n",
       " 'Irregularidades_1': 'movimentação de terra ',\n",
       " 'Irregularidades_2': None,\n",
       " 'Irregularidades_3': None,\n",
       " 'Irregularidades_4': None,\n",
       " 'Irregularidades_5': None,\n",
       " 'Outros - Descrição_1': None,\n",
       " 'Comprimento (m)_1': None,\n",
       " 'Comprimento (m)_2': None,\n",
       " 'Comprimento (m)_3': None,\n",
       " 'Comprimento (m)_4': None,\n",
       " 'Largura (m)_1': None,\n",
       " 'Largura (m)_2': None,\n",
       " 'Largura (m)_3': None,\n",
       " 'Largura (m)_4': None,\n",
       " 'Altura (m)_1': None,\n",
       " 'Área (m2)_1': None,\n",
       " 'Quantidade (un)_1': None,\n",
       " 'Quantidade (un)_2': None,\n",
       " 'Quantidade (un)_3': None,\n",
       " 'Quantidade (un)_4': None,\n",
       " 'Quantidade (un)_5': None,\n",
       " 'Volume (m3)_1': None,\n",
       " 'Profundidade (m)_1': None,\n",
       " 'Perímetro (m)_1': None,\n",
       " 'Diâmetro (m)_1': None,\n",
       " 'Cota (m)_1': None,\n",
       " 'Peso (kg)_1': None,\n",
       " 'Área afetada (m2)_1': None,\n",
       " 'Área afetada (m2)_2': None,\n",
       " 'Área afetada (m2)_3': None,\n",
       " 'Observações_1': None,\n",
       " 'Observações_2': None,\n",
       " 'Observações_3': None,\n",
       " 'Observações_4': None,\n",
       " 'Observações_5': None,\n",
       " 'Houve acordo verbal?': 'Não',\n",
       " 'Prazo de cumprimento': None,\n",
       " 'Acordo realizado com': None,\n",
       " 'Nome do infrator': 'Clademir Bazanello',\n",
       " 'RG': None,\n",
       " 'CPF / CNPJ': None,\n",
       " 'Telefone': None,\n",
       " 'E-mail': None,\n",
       " 'Logradouro': None,\n",
       " 'Número': None,\n",
       " 'Bairro': None,\n",
       " 'Complemento': None,\n",
       " 'UF': 'RS',\n",
       " 'Cidade': 'Ronda Alta - RS',\n",
       " 'CEP': '99670-000',\n",
       " 'Descrição do serviço': 'Ocorrência por inspeção',\n",
       " 'Responsável técnico': 'Fernando Azevedo',\n",
       " 'Entrega Atual': None,\n",
       " 'Tarefa atual': 'Denúncia ao Órgão Ambiental',\n",
       " 'Registro Kartado - Vistoria Complementar ': None,\n",
       " 'irreg': [{'place_identification': None,\n",
       "   'finding': '2',\n",
       "   'unauthorized_construction_irregular': 'Movimentação de terra',\n",
       "   'other_description': None},\n",
       "  {'unauthorized_construction_irregular': None},\n",
       "  {'unauthorized_construction_irregular': None},\n",
       "  {'unauthorized_construction_irregular': None},\n",
       "  {'unauthorized_construction_irregular': None}]}"
      ]
     },
     "execution_count": 49,
     "metadata": {},
     "output_type": "execute_result"
    }
   ],
   "source": [
    "values[132]"
   ]
  },
  {
   "cell_type": "code",
   "execution_count": 50,
   "id": "stock-guidance",
   "metadata": {},
   "outputs": [
    {
     "data": {
      "application/vnd.jupyter.widget-view+json": {
       "model_id": "809016df27f046099121a8b17e5c8e96",
       "version_major": 2,
       "version_minor": 0
      },
      "text/plain": [
       "  0%|          | 0/294 [00:00<?, ?it/s]"
      ]
     },
     "metadata": {},
     "output_type": "display_data"
    },
    {
     "name": "stderr",
     "output_type": "stream",
     "text": [
      "/home/luan/.cache/pypoetry/virtualenvs/apps-ZFymp6kh-py3.8/lib/python3.8/site-packages/django/db/models/fields/__init__.py:1424: RuntimeWarning: DateTimeField OccurrenceRecord.datetime received a naive datetime (2015-04-16 00:00:00) while time zone support is active.\n",
      "  warnings.warn(\"DateTimeField %s received a naive datetime (%s)\"\n",
      "/home/luan/.cache/pypoetry/virtualenvs/apps-ZFymp6kh-py3.8/lib/python3.8/site-packages/django/db/models/fields/__init__.py:1424: RuntimeWarning: DateTimeField HistoricalOccurrenceRecord.datetime received a naive datetime (2015-04-16 00:00:00) while time zone support is active.\n",
      "  warnings.warn(\"DateTimeField %s received a naive datetime (%s)\"\n",
      "/home/luan/.cache/pypoetry/virtualenvs/apps-ZFymp6kh-py3.8/lib/python3.8/site-packages/django/db/models/fields/__init__.py:1424: RuntimeWarning: DateTimeField ServiceOrder.opened_at received a naive datetime (2024-03-22 08:16:56.849122) while time zone support is active.\n",
      "  warnings.warn(\"DateTimeField %s received a naive datetime (%s)\"\n",
      "/home/luan/.cache/pypoetry/virtualenvs/apps-ZFymp6kh-py3.8/lib/python3.8/site-packages/django/db/models/fields/__init__.py:1424: RuntimeWarning: DateTimeField HistoricalServiceOrder.opened_at received a naive datetime (2024-03-22 08:16:56.849122) while time zone support is active.\n",
      "  warnings.warn(\"DateTimeField %s received a naive datetime (%s)\"\n",
      "/home/luan/.cache/pypoetry/virtualenvs/apps-ZFymp6kh-py3.8/lib/python3.8/site-packages/django/db/models/fields/__init__.py:1424: RuntimeWarning: DateTimeField ToDo.created_at received a naive datetime (2024-03-21 20:16:56.958398) while time zone support is active.\n",
      "  warnings.warn(\"DateTimeField %s received a naive datetime (%s)\"\n"
     ]
    },
    {
     "name": "stdout",
     "output_type": "stream",
     "text": [
      "Procedure matching query does not exist.\n"
     ]
    },
    {
     "name": "stderr",
     "output_type": "stream",
     "text": [
      "WARNING\tProperty: Unknown Property name. [1:1: word-wrap]\n",
      "WARNING:CSSUTILS:Property: Unknown Property name. [1:1: word-wrap]\n"
     ]
    },
    {
     "name": "stdout",
     "output_type": "stream",
     "text": [
      "'NoneType' object has no attribute 'is_final'\n"
     ]
    },
    {
     "name": "stderr",
     "output_type": "stream",
     "text": [
      "/home/luan/.cache/pypoetry/virtualenvs/apps-ZFymp6kh-py3.8/lib/python3.8/site-packages/django/db/models/fields/__init__.py:1424: RuntimeWarning: DateTimeField ServiceOrder.opened_at received a naive datetime (2024-03-22 08:16:58.201389) while time zone support is active.\n",
      "  warnings.warn(\"DateTimeField %s received a naive datetime (%s)\"\n",
      "/home/luan/.cache/pypoetry/virtualenvs/apps-ZFymp6kh-py3.8/lib/python3.8/site-packages/django/db/models/fields/__init__.py:1424: RuntimeWarning: DateTimeField HistoricalServiceOrder.opened_at received a naive datetime (2024-03-22 08:16:58.201389) while time zone support is active.\n",
      "  warnings.warn(\"DateTimeField %s received a naive datetime (%s)\"\n",
      "/home/luan/.cache/pypoetry/virtualenvs/apps-ZFymp6kh-py3.8/lib/python3.8/site-packages/django/db/models/fields/__init__.py:1424: RuntimeWarning: DateTimeField ToDo.created_at received a naive datetime (2024-03-21 20:16:58.308877) while time zone support is active.\n",
      "  warnings.warn(\"DateTimeField %s received a naive datetime (%s)\"\n"
     ]
    },
    {
     "name": "stdout",
     "output_type": "stream",
     "text": [
      "Procedure matching query does not exist.\n"
     ]
    },
    {
     "name": "stderr",
     "output_type": "stream",
     "text": [
      "WARNING\tProperty: Unknown Property name. [1:1: word-wrap]\n",
      "WARNING:CSSUTILS:Property: Unknown Property name. [1:1: word-wrap]\n"
     ]
    },
    {
     "name": "stdout",
     "output_type": "stream",
     "text": [
      "'NoneType' object has no attribute 'is_final'\n"
     ]
    },
    {
     "name": "stderr",
     "output_type": "stream",
     "text": [
      "/home/luan/.cache/pypoetry/virtualenvs/apps-ZFymp6kh-py3.8/lib/python3.8/site-packages/django/db/models/fields/__init__.py:1424: RuntimeWarning: DateTimeField OccurrenceRecord.datetime received a naive datetime (2015-04-23 00:00:00) while time zone support is active.\n",
      "  warnings.warn(\"DateTimeField %s received a naive datetime (%s)\"\n",
      "/home/luan/.cache/pypoetry/virtualenvs/apps-ZFymp6kh-py3.8/lib/python3.8/site-packages/django/db/models/fields/__init__.py:1424: RuntimeWarning: DateTimeField HistoricalOccurrenceRecord.datetime received a naive datetime (2015-04-23 00:00:00) while time zone support is active.\n",
      "  warnings.warn(\"DateTimeField %s received a naive datetime (%s)\"\n",
      "/home/luan/.cache/pypoetry/virtualenvs/apps-ZFymp6kh-py3.8/lib/python3.8/site-packages/django/db/models/fields/__init__.py:1424: RuntimeWarning: DateTimeField ServiceOrder.opened_at received a naive datetime (2024-03-22 08:16:59.541120) while time zone support is active.\n",
      "  warnings.warn(\"DateTimeField %s received a naive datetime (%s)\"\n",
      "/home/luan/.cache/pypoetry/virtualenvs/apps-ZFymp6kh-py3.8/lib/python3.8/site-packages/django/db/models/fields/__init__.py:1424: RuntimeWarning: DateTimeField HistoricalServiceOrder.opened_at received a naive datetime (2024-03-22 08:16:59.541120) while time zone support is active.\n",
      "  warnings.warn(\"DateTimeField %s received a naive datetime (%s)\"\n",
      "/home/luan/.cache/pypoetry/virtualenvs/apps-ZFymp6kh-py3.8/lib/python3.8/site-packages/django/db/models/fields/__init__.py:1424: RuntimeWarning: DateTimeField ToDo.created_at received a naive datetime (2024-03-21 20:16:59.642615) while time zone support is active.\n",
      "  warnings.warn(\"DateTimeField %s received a naive datetime (%s)\"\n"
     ]
    },
    {
     "name": "stdout",
     "output_type": "stream",
     "text": [
      "Procedure matching query does not exist.\n"
     ]
    },
    {
     "name": "stderr",
     "output_type": "stream",
     "text": [
      "WARNING\tProperty: Unknown Property name. [1:1: word-wrap]\n",
      "WARNING:CSSUTILS:Property: Unknown Property name. [1:1: word-wrap]\n"
     ]
    },
    {
     "name": "stdout",
     "output_type": "stream",
     "text": [
      "'NoneType' object has no attribute 'is_final'\n"
     ]
    },
    {
     "name": "stderr",
     "output_type": "stream",
     "text": [
      "/home/luan/.cache/pypoetry/virtualenvs/apps-ZFymp6kh-py3.8/lib/python3.8/site-packages/django/db/models/fields/__init__.py:1424: RuntimeWarning: DateTimeField OccurrenceRecord.datetime received a naive datetime (2015-05-05 00:00:00) while time zone support is active.\n",
      "  warnings.warn(\"DateTimeField %s received a naive datetime (%s)\"\n",
      "/home/luan/.cache/pypoetry/virtualenvs/apps-ZFymp6kh-py3.8/lib/python3.8/site-packages/django/db/models/fields/__init__.py:1424: RuntimeWarning: DateTimeField HistoricalOccurrenceRecord.datetime received a naive datetime (2015-05-05 00:00:00) while time zone support is active.\n",
      "  warnings.warn(\"DateTimeField %s received a naive datetime (%s)\"\n",
      "/home/luan/.cache/pypoetry/virtualenvs/apps-ZFymp6kh-py3.8/lib/python3.8/site-packages/django/db/models/fields/__init__.py:1424: RuntimeWarning: DateTimeField ServiceOrder.opened_at received a naive datetime (2024-03-22 08:17:01.113734) while time zone support is active.\n",
      "  warnings.warn(\"DateTimeField %s received a naive datetime (%s)\"\n",
      "/home/luan/.cache/pypoetry/virtualenvs/apps-ZFymp6kh-py3.8/lib/python3.8/site-packages/django/db/models/fields/__init__.py:1424: RuntimeWarning: DateTimeField HistoricalServiceOrder.opened_at received a naive datetime (2024-03-22 08:17:01.113734) while time zone support is active.\n",
      "  warnings.warn(\"DateTimeField %s received a naive datetime (%s)\"\n",
      "/home/luan/.cache/pypoetry/virtualenvs/apps-ZFymp6kh-py3.8/lib/python3.8/site-packages/django/db/models/fields/__init__.py:1424: RuntimeWarning: DateTimeField ToDo.created_at received a naive datetime (2024-03-21 20:17:01.227986) while time zone support is active.\n",
      "  warnings.warn(\"DateTimeField %s received a naive datetime (%s)\"\n"
     ]
    },
    {
     "name": "stdout",
     "output_type": "stream",
     "text": [
      "Procedure matching query does not exist.\n"
     ]
    },
    {
     "name": "stderr",
     "output_type": "stream",
     "text": [
      "WARNING\tProperty: Unknown Property name. [1:1: word-wrap]\n",
      "WARNING:CSSUTILS:Property: Unknown Property name. [1:1: word-wrap]\n"
     ]
    },
    {
     "name": "stdout",
     "output_type": "stream",
     "text": [
      "'NoneType' object has no attribute 'is_final'\n"
     ]
    },
    {
     "name": "stderr",
     "output_type": "stream",
     "text": [
      "/home/luan/.cache/pypoetry/virtualenvs/apps-ZFymp6kh-py3.8/lib/python3.8/site-packages/django/db/models/fields/__init__.py:1424: RuntimeWarning: DateTimeField OccurrenceRecord.datetime received a naive datetime (2015-05-07 00:00:00) while time zone support is active.\n",
      "  warnings.warn(\"DateTimeField %s received a naive datetime (%s)\"\n",
      "/home/luan/.cache/pypoetry/virtualenvs/apps-ZFymp6kh-py3.8/lib/python3.8/site-packages/django/db/models/fields/__init__.py:1424: RuntimeWarning: DateTimeField HistoricalOccurrenceRecord.datetime received a naive datetime (2015-05-07 00:00:00) while time zone support is active.\n",
      "  warnings.warn(\"DateTimeField %s received a naive datetime (%s)\"\n",
      "/home/luan/.cache/pypoetry/virtualenvs/apps-ZFymp6kh-py3.8/lib/python3.8/site-packages/django/db/models/fields/__init__.py:1424: RuntimeWarning: DateTimeField ServiceOrder.opened_at received a naive datetime (2024-03-22 08:17:02.569198) while time zone support is active.\n",
      "  warnings.warn(\"DateTimeField %s received a naive datetime (%s)\"\n",
      "/home/luan/.cache/pypoetry/virtualenvs/apps-ZFymp6kh-py3.8/lib/python3.8/site-packages/django/db/models/fields/__init__.py:1424: RuntimeWarning: DateTimeField HistoricalServiceOrder.opened_at received a naive datetime (2024-03-22 08:17:02.569198) while time zone support is active.\n",
      "  warnings.warn(\"DateTimeField %s received a naive datetime (%s)\"\n",
      "/home/luan/.cache/pypoetry/virtualenvs/apps-ZFymp6kh-py3.8/lib/python3.8/site-packages/django/db/models/fields/__init__.py:1424: RuntimeWarning: DateTimeField ToDo.created_at received a naive datetime (2024-03-21 20:17:02.681008) while time zone support is active.\n",
      "  warnings.warn(\"DateTimeField %s received a naive datetime (%s)\"\n"
     ]
    },
    {
     "name": "stdout",
     "output_type": "stream",
     "text": [
      "Procedure matching query does not exist.\n"
     ]
    },
    {
     "name": "stderr",
     "output_type": "stream",
     "text": [
      "WARNING\tProperty: Unknown Property name. [1:1: word-wrap]\n",
      "WARNING:CSSUTILS:Property: Unknown Property name. [1:1: word-wrap]\n"
     ]
    },
    {
     "name": "stdout",
     "output_type": "stream",
     "text": [
      "'NoneType' object has no attribute 'is_final'\n"
     ]
    },
    {
     "name": "stderr",
     "output_type": "stream",
     "text": [
      "/home/luan/.cache/pypoetry/virtualenvs/apps-ZFymp6kh-py3.8/lib/python3.8/site-packages/django/db/models/fields/__init__.py:1424: RuntimeWarning: DateTimeField OccurrenceRecord.datetime received a naive datetime (2015-05-15 00:00:00) while time zone support is active.\n",
      "  warnings.warn(\"DateTimeField %s received a naive datetime (%s)\"\n",
      "/home/luan/.cache/pypoetry/virtualenvs/apps-ZFymp6kh-py3.8/lib/python3.8/site-packages/django/db/models/fields/__init__.py:1424: RuntimeWarning: DateTimeField HistoricalOccurrenceRecord.datetime received a naive datetime (2015-05-15 00:00:00) while time zone support is active.\n",
      "  warnings.warn(\"DateTimeField %s received a naive datetime (%s)\"\n",
      "/home/luan/.cache/pypoetry/virtualenvs/apps-ZFymp6kh-py3.8/lib/python3.8/site-packages/django/db/models/fields/__init__.py:1424: RuntimeWarning: DateTimeField ServiceOrder.opened_at received a naive datetime (2024-03-22 08:17:04.133846) while time zone support is active.\n",
      "  warnings.warn(\"DateTimeField %s received a naive datetime (%s)\"\n",
      "/home/luan/.cache/pypoetry/virtualenvs/apps-ZFymp6kh-py3.8/lib/python3.8/site-packages/django/db/models/fields/__init__.py:1424: RuntimeWarning: DateTimeField HistoricalServiceOrder.opened_at received a naive datetime (2024-03-22 08:17:04.133846) while time zone support is active.\n",
      "  warnings.warn(\"DateTimeField %s received a naive datetime (%s)\"\n",
      "/home/luan/.cache/pypoetry/virtualenvs/apps-ZFymp6kh-py3.8/lib/python3.8/site-packages/django/db/models/fields/__init__.py:1424: RuntimeWarning: DateTimeField ToDo.created_at received a naive datetime (2024-03-21 20:17:04.249866) while time zone support is active.\n",
      "  warnings.warn(\"DateTimeField %s received a naive datetime (%s)\"\n"
     ]
    },
    {
     "name": "stdout",
     "output_type": "stream",
     "text": [
      "Procedure matching query does not exist.\n"
     ]
    },
    {
     "name": "stderr",
     "output_type": "stream",
     "text": [
      "WARNING\tProperty: Unknown Property name. [1:1: word-wrap]\n",
      "WARNING:CSSUTILS:Property: Unknown Property name. [1:1: word-wrap]\n"
     ]
    },
    {
     "name": "stdout",
     "output_type": "stream",
     "text": [
      "'NoneType' object has no attribute 'is_final'\n"
     ]
    },
    {
     "name": "stderr",
     "output_type": "stream",
     "text": [
      "/home/luan/.cache/pypoetry/virtualenvs/apps-ZFymp6kh-py3.8/lib/python3.8/site-packages/django/db/models/fields/__init__.py:1424: RuntimeWarning: DateTimeField OccurrenceRecord.datetime received a naive datetime (2015-05-20 00:00:00) while time zone support is active.\n",
      "  warnings.warn(\"DateTimeField %s received a naive datetime (%s)\"\n",
      "/home/luan/.cache/pypoetry/virtualenvs/apps-ZFymp6kh-py3.8/lib/python3.8/site-packages/django/db/models/fields/__init__.py:1424: RuntimeWarning: DateTimeField HistoricalOccurrenceRecord.datetime received a naive datetime (2015-05-20 00:00:00) while time zone support is active.\n",
      "  warnings.warn(\"DateTimeField %s received a naive datetime (%s)\"\n",
      "/home/luan/.cache/pypoetry/virtualenvs/apps-ZFymp6kh-py3.8/lib/python3.8/site-packages/django/db/models/fields/__init__.py:1424: RuntimeWarning: DateTimeField ServiceOrder.opened_at received a naive datetime (2024-03-22 08:17:05.642739) while time zone support is active.\n",
      "  warnings.warn(\"DateTimeField %s received a naive datetime (%s)\"\n",
      "/home/luan/.cache/pypoetry/virtualenvs/apps-ZFymp6kh-py3.8/lib/python3.8/site-packages/django/db/models/fields/__init__.py:1424: RuntimeWarning: DateTimeField HistoricalServiceOrder.opened_at received a naive datetime (2024-03-22 08:17:05.642739) while time zone support is active.\n",
      "  warnings.warn(\"DateTimeField %s received a naive datetime (%s)\"\n",
      "/home/luan/.cache/pypoetry/virtualenvs/apps-ZFymp6kh-py3.8/lib/python3.8/site-packages/django/db/models/fields/__init__.py:1424: RuntimeWarning: DateTimeField ToDo.created_at received a naive datetime (2024-03-21 20:17:05.750126) while time zone support is active.\n",
      "  warnings.warn(\"DateTimeField %s received a naive datetime (%s)\"\n"
     ]
    },
    {
     "name": "stdout",
     "output_type": "stream",
     "text": [
      "Procedure matching query does not exist.\n"
     ]
    },
    {
     "name": "stderr",
     "output_type": "stream",
     "text": [
      "WARNING\tProperty: Unknown Property name. [1:1: word-wrap]\n",
      "WARNING:CSSUTILS:Property: Unknown Property name. [1:1: word-wrap]\n"
     ]
    },
    {
     "name": "stdout",
     "output_type": "stream",
     "text": [
      "'NoneType' object has no attribute 'is_final'\n"
     ]
    },
    {
     "name": "stderr",
     "output_type": "stream",
     "text": [
      "/home/luan/.cache/pypoetry/virtualenvs/apps-ZFymp6kh-py3.8/lib/python3.8/site-packages/django/db/models/fields/__init__.py:1424: RuntimeWarning: DateTimeField OccurrenceRecord.datetime received a naive datetime (2015-06-09 00:00:00) while time zone support is active.\n",
      "  warnings.warn(\"DateTimeField %s received a naive datetime (%s)\"\n",
      "/home/luan/.cache/pypoetry/virtualenvs/apps-ZFymp6kh-py3.8/lib/python3.8/site-packages/django/db/models/fields/__init__.py:1424: RuntimeWarning: DateTimeField HistoricalOccurrenceRecord.datetime received a naive datetime (2015-06-09 00:00:00) while time zone support is active.\n",
      "  warnings.warn(\"DateTimeField %s received a naive datetime (%s)\"\n",
      "/home/luan/.cache/pypoetry/virtualenvs/apps-ZFymp6kh-py3.8/lib/python3.8/site-packages/django/db/models/fields/__init__.py:1424: RuntimeWarning: DateTimeField ServiceOrder.opened_at received a naive datetime (2024-03-22 08:17:08.236148) while time zone support is active.\n",
      "  warnings.warn(\"DateTimeField %s received a naive datetime (%s)\"\n",
      "/home/luan/.cache/pypoetry/virtualenvs/apps-ZFymp6kh-py3.8/lib/python3.8/site-packages/django/db/models/fields/__init__.py:1424: RuntimeWarning: DateTimeField HistoricalServiceOrder.opened_at received a naive datetime (2024-03-22 08:17:08.236148) while time zone support is active.\n",
      "  warnings.warn(\"DateTimeField %s received a naive datetime (%s)\"\n",
      "/home/luan/.cache/pypoetry/virtualenvs/apps-ZFymp6kh-py3.8/lib/python3.8/site-packages/django/db/models/fields/__init__.py:1424: RuntimeWarning: DateTimeField ToDo.created_at received a naive datetime (2024-03-21 20:17:08.342160) while time zone support is active.\n",
      "  warnings.warn(\"DateTimeField %s received a naive datetime (%s)\"\n"
     ]
    },
    {
     "name": "stdout",
     "output_type": "stream",
     "text": [
      "Procedure matching query does not exist.\n"
     ]
    },
    {
     "name": "stderr",
     "output_type": "stream",
     "text": [
      "WARNING\tProperty: Unknown Property name. [1:1: word-wrap]\n",
      "WARNING:CSSUTILS:Property: Unknown Property name. [1:1: word-wrap]\n"
     ]
    },
    {
     "name": "stdout",
     "output_type": "stream",
     "text": [
      "'NoneType' object has no attribute 'is_final'\n"
     ]
    },
    {
     "name": "stderr",
     "output_type": "stream",
     "text": [
      "/home/luan/.cache/pypoetry/virtualenvs/apps-ZFymp6kh-py3.8/lib/python3.8/site-packages/django/db/models/fields/__init__.py:1424: RuntimeWarning: DateTimeField ServiceOrder.opened_at received a naive datetime (2024-03-22 08:17:09.567870) while time zone support is active.\n",
      "  warnings.warn(\"DateTimeField %s received a naive datetime (%s)\"\n",
      "/home/luan/.cache/pypoetry/virtualenvs/apps-ZFymp6kh-py3.8/lib/python3.8/site-packages/django/db/models/fields/__init__.py:1424: RuntimeWarning: DateTimeField HistoricalServiceOrder.opened_at received a naive datetime (2024-03-22 08:17:09.567870) while time zone support is active.\n",
      "  warnings.warn(\"DateTimeField %s received a naive datetime (%s)\"\n",
      "/home/luan/.cache/pypoetry/virtualenvs/apps-ZFymp6kh-py3.8/lib/python3.8/site-packages/django/db/models/fields/__init__.py:1424: RuntimeWarning: DateTimeField ToDo.created_at received a naive datetime (2024-03-21 20:17:09.671672) while time zone support is active.\n",
      "  warnings.warn(\"DateTimeField %s received a naive datetime (%s)\"\n"
     ]
    },
    {
     "name": "stdout",
     "output_type": "stream",
     "text": [
      "Procedure matching query does not exist.\n"
     ]
    },
    {
     "name": "stderr",
     "output_type": "stream",
     "text": [
      "WARNING\tProperty: Unknown Property name. [1:1: word-wrap]\n",
      "WARNING:CSSUTILS:Property: Unknown Property name. [1:1: word-wrap]\n"
     ]
    },
    {
     "name": "stdout",
     "output_type": "stream",
     "text": [
      "'NoneType' object has no attribute 'is_final'\n"
     ]
    },
    {
     "name": "stderr",
     "output_type": "stream",
     "text": [
      "/home/luan/.cache/pypoetry/virtualenvs/apps-ZFymp6kh-py3.8/lib/python3.8/site-packages/django/db/models/fields/__init__.py:1424: RuntimeWarning: DateTimeField ServiceOrder.opened_at received a naive datetime (2024-03-22 08:17:12.396906) while time zone support is active.\n",
      "  warnings.warn(\"DateTimeField %s received a naive datetime (%s)\"\n",
      "/home/luan/.cache/pypoetry/virtualenvs/apps-ZFymp6kh-py3.8/lib/python3.8/site-packages/django/db/models/fields/__init__.py:1424: RuntimeWarning: DateTimeField HistoricalServiceOrder.opened_at received a naive datetime (2024-03-22 08:17:12.396906) while time zone support is active.\n",
      "  warnings.warn(\"DateTimeField %s received a naive datetime (%s)\"\n",
      "/home/luan/.cache/pypoetry/virtualenvs/apps-ZFymp6kh-py3.8/lib/python3.8/site-packages/django/db/models/fields/__init__.py:1424: RuntimeWarning: DateTimeField ToDo.created_at received a naive datetime (2024-03-21 20:17:12.517102) while time zone support is active.\n",
      "  warnings.warn(\"DateTimeField %s received a naive datetime (%s)\"\n"
     ]
    },
    {
     "name": "stdout",
     "output_type": "stream",
     "text": [
      "Procedure matching query does not exist.\n"
     ]
    },
    {
     "name": "stderr",
     "output_type": "stream",
     "text": [
      "WARNING\tProperty: Unknown Property name. [1:1: word-wrap]\n",
      "WARNING:CSSUTILS:Property: Unknown Property name. [1:1: word-wrap]\n"
     ]
    },
    {
     "name": "stdout",
     "output_type": "stream",
     "text": [
      "'NoneType' object has no attribute 'is_final'\n"
     ]
    },
    {
     "name": "stderr",
     "output_type": "stream",
     "text": [
      "/home/luan/.cache/pypoetry/virtualenvs/apps-ZFymp6kh-py3.8/lib/python3.8/site-packages/django/db/models/fields/__init__.py:1424: RuntimeWarning: DateTimeField OccurrenceRecord.datetime received a naive datetime (2015-06-17 00:00:00) while time zone support is active.\n",
      "  warnings.warn(\"DateTimeField %s received a naive datetime (%s)\"\n",
      "/home/luan/.cache/pypoetry/virtualenvs/apps-ZFymp6kh-py3.8/lib/python3.8/site-packages/django/db/models/fields/__init__.py:1424: RuntimeWarning: DateTimeField HistoricalOccurrenceRecord.datetime received a naive datetime (2015-06-17 00:00:00) while time zone support is active.\n",
      "  warnings.warn(\"DateTimeField %s received a naive datetime (%s)\"\n",
      "/home/luan/.cache/pypoetry/virtualenvs/apps-ZFymp6kh-py3.8/lib/python3.8/site-packages/django/db/models/fields/__init__.py:1424: RuntimeWarning: DateTimeField ServiceOrder.opened_at received a naive datetime (2024-03-22 08:17:13.974703) while time zone support is active.\n",
      "  warnings.warn(\"DateTimeField %s received a naive datetime (%s)\"\n",
      "/home/luan/.cache/pypoetry/virtualenvs/apps-ZFymp6kh-py3.8/lib/python3.8/site-packages/django/db/models/fields/__init__.py:1424: RuntimeWarning: DateTimeField HistoricalServiceOrder.opened_at received a naive datetime (2024-03-22 08:17:13.974703) while time zone support is active.\n",
      "  warnings.warn(\"DateTimeField %s received a naive datetime (%s)\"\n",
      "/home/luan/.cache/pypoetry/virtualenvs/apps-ZFymp6kh-py3.8/lib/python3.8/site-packages/django/db/models/fields/__init__.py:1424: RuntimeWarning: DateTimeField ToDo.created_at received a naive datetime (2024-03-21 20:17:14.077534) while time zone support is active.\n",
      "  warnings.warn(\"DateTimeField %s received a naive datetime (%s)\"\n"
     ]
    },
    {
     "name": "stdout",
     "output_type": "stream",
     "text": [
      "Procedure matching query does not exist.\n"
     ]
    },
    {
     "name": "stderr",
     "output_type": "stream",
     "text": [
      "WARNING\tProperty: Unknown Property name. [1:1: word-wrap]\n",
      "WARNING:CSSUTILS:Property: Unknown Property name. [1:1: word-wrap]\n"
     ]
    },
    {
     "name": "stdout",
     "output_type": "stream",
     "text": [
      "'NoneType' object has no attribute 'is_final'\n"
     ]
    },
    {
     "name": "stderr",
     "output_type": "stream",
     "text": [
      "/home/luan/.cache/pypoetry/virtualenvs/apps-ZFymp6kh-py3.8/lib/python3.8/site-packages/django/db/models/fields/__init__.py:1424: RuntimeWarning: DateTimeField ServiceOrder.opened_at received a naive datetime (2024-03-22 08:17:15.318433) while time zone support is active.\n",
      "  warnings.warn(\"DateTimeField %s received a naive datetime (%s)\"\n",
      "/home/luan/.cache/pypoetry/virtualenvs/apps-ZFymp6kh-py3.8/lib/python3.8/site-packages/django/db/models/fields/__init__.py:1424: RuntimeWarning: DateTimeField HistoricalServiceOrder.opened_at received a naive datetime (2024-03-22 08:17:15.318433) while time zone support is active.\n",
      "  warnings.warn(\"DateTimeField %s received a naive datetime (%s)\"\n",
      "/home/luan/.cache/pypoetry/virtualenvs/apps-ZFymp6kh-py3.8/lib/python3.8/site-packages/django/db/models/fields/__init__.py:1424: RuntimeWarning: DateTimeField ToDo.created_at received a naive datetime (2024-03-21 20:17:15.423750) while time zone support is active.\n",
      "  warnings.warn(\"DateTimeField %s received a naive datetime (%s)\"\n"
     ]
    },
    {
     "name": "stdout",
     "output_type": "stream",
     "text": [
      "Procedure matching query does not exist.\n"
     ]
    },
    {
     "name": "stderr",
     "output_type": "stream",
     "text": [
      "WARNING\tProperty: Unknown Property name. [1:1: word-wrap]\n",
      "WARNING:CSSUTILS:Property: Unknown Property name. [1:1: word-wrap]\n"
     ]
    },
    {
     "name": "stdout",
     "output_type": "stream",
     "text": [
      "'NoneType' object has no attribute 'is_final'\n"
     ]
    },
    {
     "name": "stderr",
     "output_type": "stream",
     "text": [
      "/home/luan/.cache/pypoetry/virtualenvs/apps-ZFymp6kh-py3.8/lib/python3.8/site-packages/django/db/models/fields/__init__.py:1424: RuntimeWarning: DateTimeField ServiceOrder.opened_at received a naive datetime (2024-03-22 08:17:16.718204) while time zone support is active.\n",
      "  warnings.warn(\"DateTimeField %s received a naive datetime (%s)\"\n",
      "/home/luan/.cache/pypoetry/virtualenvs/apps-ZFymp6kh-py3.8/lib/python3.8/site-packages/django/db/models/fields/__init__.py:1424: RuntimeWarning: DateTimeField HistoricalServiceOrder.opened_at received a naive datetime (2024-03-22 08:17:16.718204) while time zone support is active.\n",
      "  warnings.warn(\"DateTimeField %s received a naive datetime (%s)\"\n",
      "/home/luan/.cache/pypoetry/virtualenvs/apps-ZFymp6kh-py3.8/lib/python3.8/site-packages/django/db/models/fields/__init__.py:1424: RuntimeWarning: DateTimeField ToDo.created_at received a naive datetime (2024-03-21 20:17:16.827933) while time zone support is active.\n",
      "  warnings.warn(\"DateTimeField %s received a naive datetime (%s)\"\n"
     ]
    },
    {
     "name": "stdout",
     "output_type": "stream",
     "text": [
      "Procedure matching query does not exist.\n"
     ]
    },
    {
     "name": "stderr",
     "output_type": "stream",
     "text": [
      "WARNING\tProperty: Unknown Property name. [1:1: word-wrap]\n",
      "WARNING:CSSUTILS:Property: Unknown Property name. [1:1: word-wrap]\n"
     ]
    },
    {
     "name": "stdout",
     "output_type": "stream",
     "text": [
      "'NoneType' object has no attribute 'is_final'\n"
     ]
    },
    {
     "name": "stderr",
     "output_type": "stream",
     "text": [
      "/home/luan/.cache/pypoetry/virtualenvs/apps-ZFymp6kh-py3.8/lib/python3.8/site-packages/django/db/models/fields/__init__.py:1424: RuntimeWarning: DateTimeField OccurrenceRecord.datetime received a naive datetime (2015-06-23 00:00:00) while time zone support is active.\n",
      "  warnings.warn(\"DateTimeField %s received a naive datetime (%s)\"\n",
      "/home/luan/.cache/pypoetry/virtualenvs/apps-ZFymp6kh-py3.8/lib/python3.8/site-packages/django/db/models/fields/__init__.py:1424: RuntimeWarning: DateTimeField HistoricalOccurrenceRecord.datetime received a naive datetime (2015-06-23 00:00:00) while time zone support is active.\n",
      "  warnings.warn(\"DateTimeField %s received a naive datetime (%s)\"\n",
      "/home/luan/.cache/pypoetry/virtualenvs/apps-ZFymp6kh-py3.8/lib/python3.8/site-packages/django/db/models/fields/__init__.py:1424: RuntimeWarning: DateTimeField ServiceOrder.opened_at received a naive datetime (2024-03-22 08:17:18.149366) while time zone support is active.\n",
      "  warnings.warn(\"DateTimeField %s received a naive datetime (%s)\"\n",
      "/home/luan/.cache/pypoetry/virtualenvs/apps-ZFymp6kh-py3.8/lib/python3.8/site-packages/django/db/models/fields/__init__.py:1424: RuntimeWarning: DateTimeField HistoricalServiceOrder.opened_at received a naive datetime (2024-03-22 08:17:18.149366) while time zone support is active.\n",
      "  warnings.warn(\"DateTimeField %s received a naive datetime (%s)\"\n",
      "/home/luan/.cache/pypoetry/virtualenvs/apps-ZFymp6kh-py3.8/lib/python3.8/site-packages/django/db/models/fields/__init__.py:1424: RuntimeWarning: DateTimeField ToDo.created_at received a naive datetime (2024-03-21 20:17:18.254615) while time zone support is active.\n",
      "  warnings.warn(\"DateTimeField %s received a naive datetime (%s)\"\n"
     ]
    },
    {
     "name": "stdout",
     "output_type": "stream",
     "text": [
      "Procedure matching query does not exist.\n"
     ]
    },
    {
     "name": "stderr",
     "output_type": "stream",
     "text": [
      "WARNING\tProperty: Unknown Property name. [1:1: word-wrap]\n",
      "WARNING:CSSUTILS:Property: Unknown Property name. [1:1: word-wrap]\n"
     ]
    },
    {
     "name": "stdout",
     "output_type": "stream",
     "text": [
      "'NoneType' object has no attribute 'is_final'\n"
     ]
    },
    {
     "name": "stderr",
     "output_type": "stream",
     "text": [
      "/home/luan/.cache/pypoetry/virtualenvs/apps-ZFymp6kh-py3.8/lib/python3.8/site-packages/django/db/models/fields/__init__.py:1424: RuntimeWarning: DateTimeField ServiceOrder.opened_at received a naive datetime (2024-03-22 08:17:19.976789) while time zone support is active.\n",
      "  warnings.warn(\"DateTimeField %s received a naive datetime (%s)\"\n",
      "/home/luan/.cache/pypoetry/virtualenvs/apps-ZFymp6kh-py3.8/lib/python3.8/site-packages/django/db/models/fields/__init__.py:1424: RuntimeWarning: DateTimeField HistoricalServiceOrder.opened_at received a naive datetime (2024-03-22 08:17:19.976789) while time zone support is active.\n",
      "  warnings.warn(\"DateTimeField %s received a naive datetime (%s)\"\n",
      "/home/luan/.cache/pypoetry/virtualenvs/apps-ZFymp6kh-py3.8/lib/python3.8/site-packages/django/db/models/fields/__init__.py:1424: RuntimeWarning: DateTimeField ToDo.created_at received a naive datetime (2024-03-21 20:17:20.102068) while time zone support is active.\n",
      "  warnings.warn(\"DateTimeField %s received a naive datetime (%s)\"\n"
     ]
    },
    {
     "name": "stdout",
     "output_type": "stream",
     "text": [
      "Procedure matching query does not exist.\n"
     ]
    },
    {
     "name": "stderr",
     "output_type": "stream",
     "text": [
      "WARNING\tProperty: Unknown Property name. [1:1: word-wrap]\n",
      "WARNING:CSSUTILS:Property: Unknown Property name. [1:1: word-wrap]\n"
     ]
    },
    {
     "name": "stdout",
     "output_type": "stream",
     "text": [
      "'NoneType' object has no attribute 'is_final'\n"
     ]
    },
    {
     "name": "stderr",
     "output_type": "stream",
     "text": [
      "/home/luan/.cache/pypoetry/virtualenvs/apps-ZFymp6kh-py3.8/lib/python3.8/site-packages/django/db/models/fields/__init__.py:1424: RuntimeWarning: DateTimeField OccurrenceRecord.datetime received a naive datetime (2015-07-09 00:00:00) while time zone support is active.\n",
      "  warnings.warn(\"DateTimeField %s received a naive datetime (%s)\"\n",
      "/home/luan/.cache/pypoetry/virtualenvs/apps-ZFymp6kh-py3.8/lib/python3.8/site-packages/django/db/models/fields/__init__.py:1424: RuntimeWarning: DateTimeField HistoricalOccurrenceRecord.datetime received a naive datetime (2015-07-09 00:00:00) while time zone support is active.\n",
      "  warnings.warn(\"DateTimeField %s received a naive datetime (%s)\"\n",
      "/home/luan/.cache/pypoetry/virtualenvs/apps-ZFymp6kh-py3.8/lib/python3.8/site-packages/django/db/models/fields/__init__.py:1424: RuntimeWarning: DateTimeField ServiceOrder.opened_at received a naive datetime (2024-03-22 08:17:21.602483) while time zone support is active.\n",
      "  warnings.warn(\"DateTimeField %s received a naive datetime (%s)\"\n",
      "/home/luan/.cache/pypoetry/virtualenvs/apps-ZFymp6kh-py3.8/lib/python3.8/site-packages/django/db/models/fields/__init__.py:1424: RuntimeWarning: DateTimeField HistoricalServiceOrder.opened_at received a naive datetime (2024-03-22 08:17:21.602483) while time zone support is active.\n",
      "  warnings.warn(\"DateTimeField %s received a naive datetime (%s)\"\n",
      "/home/luan/.cache/pypoetry/virtualenvs/apps-ZFymp6kh-py3.8/lib/python3.8/site-packages/django/db/models/fields/__init__.py:1424: RuntimeWarning: DateTimeField ToDo.created_at received a naive datetime (2024-03-21 20:17:21.713843) while time zone support is active.\n",
      "  warnings.warn(\"DateTimeField %s received a naive datetime (%s)\"\n"
     ]
    },
    {
     "name": "stdout",
     "output_type": "stream",
     "text": [
      "Procedure matching query does not exist.\n"
     ]
    },
    {
     "name": "stderr",
     "output_type": "stream",
     "text": [
      "WARNING\tProperty: Unknown Property name. [1:1: word-wrap]\n",
      "WARNING:CSSUTILS:Property: Unknown Property name. [1:1: word-wrap]\n"
     ]
    },
    {
     "name": "stdout",
     "output_type": "stream",
     "text": [
      "'NoneType' object has no attribute 'is_final'\n"
     ]
    },
    {
     "name": "stderr",
     "output_type": "stream",
     "text": [
      "/home/luan/.cache/pypoetry/virtualenvs/apps-ZFymp6kh-py3.8/lib/python3.8/site-packages/django/db/models/fields/__init__.py:1424: RuntimeWarning: DateTimeField OccurrenceRecord.datetime received a naive datetime (2015-07-16 00:00:00) while time zone support is active.\n",
      "  warnings.warn(\"DateTimeField %s received a naive datetime (%s)\"\n",
      "/home/luan/.cache/pypoetry/virtualenvs/apps-ZFymp6kh-py3.8/lib/python3.8/site-packages/django/db/models/fields/__init__.py:1424: RuntimeWarning: DateTimeField HistoricalOccurrenceRecord.datetime received a naive datetime (2015-07-16 00:00:00) while time zone support is active.\n",
      "  warnings.warn(\"DateTimeField %s received a naive datetime (%s)\"\n",
      "/home/luan/.cache/pypoetry/virtualenvs/apps-ZFymp6kh-py3.8/lib/python3.8/site-packages/django/db/models/fields/__init__.py:1424: RuntimeWarning: DateTimeField ServiceOrder.opened_at received a naive datetime (2024-03-22 08:17:22.985474) while time zone support is active.\n",
      "  warnings.warn(\"DateTimeField %s received a naive datetime (%s)\"\n",
      "/home/luan/.cache/pypoetry/virtualenvs/apps-ZFymp6kh-py3.8/lib/python3.8/site-packages/django/db/models/fields/__init__.py:1424: RuntimeWarning: DateTimeField HistoricalServiceOrder.opened_at received a naive datetime (2024-03-22 08:17:22.985474) while time zone support is active.\n",
      "  warnings.warn(\"DateTimeField %s received a naive datetime (%s)\"\n",
      "/home/luan/.cache/pypoetry/virtualenvs/apps-ZFymp6kh-py3.8/lib/python3.8/site-packages/django/db/models/fields/__init__.py:1424: RuntimeWarning: DateTimeField ToDo.created_at received a naive datetime (2024-03-21 20:17:23.095755) while time zone support is active.\n",
      "  warnings.warn(\"DateTimeField %s received a naive datetime (%s)\"\n"
     ]
    },
    {
     "name": "stdout",
     "output_type": "stream",
     "text": [
      "Procedure matching query does not exist.\n"
     ]
    },
    {
     "name": "stderr",
     "output_type": "stream",
     "text": [
      "WARNING\tProperty: Unknown Property name. [1:1: word-wrap]\n",
      "WARNING:CSSUTILS:Property: Unknown Property name. [1:1: word-wrap]\n"
     ]
    },
    {
     "name": "stdout",
     "output_type": "stream",
     "text": [
      "'NoneType' object has no attribute 'is_final'\n"
     ]
    },
    {
     "name": "stderr",
     "output_type": "stream",
     "text": [
      "/home/luan/.cache/pypoetry/virtualenvs/apps-ZFymp6kh-py3.8/lib/python3.8/site-packages/django/db/models/fields/__init__.py:1424: RuntimeWarning: DateTimeField OccurrenceRecord.datetime received a naive datetime (2015-07-22 00:00:00) while time zone support is active.\n",
      "  warnings.warn(\"DateTimeField %s received a naive datetime (%s)\"\n",
      "/home/luan/.cache/pypoetry/virtualenvs/apps-ZFymp6kh-py3.8/lib/python3.8/site-packages/django/db/models/fields/__init__.py:1424: RuntimeWarning: DateTimeField HistoricalOccurrenceRecord.datetime received a naive datetime (2015-07-22 00:00:00) while time zone support is active.\n",
      "  warnings.warn(\"DateTimeField %s received a naive datetime (%s)\"\n",
      "/home/luan/.cache/pypoetry/virtualenvs/apps-ZFymp6kh-py3.8/lib/python3.8/site-packages/django/db/models/fields/__init__.py:1424: RuntimeWarning: DateTimeField ServiceOrder.opened_at received a naive datetime (2024-03-22 08:17:24.394963) while time zone support is active.\n",
      "  warnings.warn(\"DateTimeField %s received a naive datetime (%s)\"\n",
      "/home/luan/.cache/pypoetry/virtualenvs/apps-ZFymp6kh-py3.8/lib/python3.8/site-packages/django/db/models/fields/__init__.py:1424: RuntimeWarning: DateTimeField HistoricalServiceOrder.opened_at received a naive datetime (2024-03-22 08:17:24.394963) while time zone support is active.\n",
      "  warnings.warn(\"DateTimeField %s received a naive datetime (%s)\"\n",
      "/home/luan/.cache/pypoetry/virtualenvs/apps-ZFymp6kh-py3.8/lib/python3.8/site-packages/django/db/models/fields/__init__.py:1424: RuntimeWarning: DateTimeField ToDo.created_at received a naive datetime (2024-03-21 20:17:24.497255) while time zone support is active.\n",
      "  warnings.warn(\"DateTimeField %s received a naive datetime (%s)\"\n"
     ]
    },
    {
     "name": "stdout",
     "output_type": "stream",
     "text": [
      "Procedure matching query does not exist.\n"
     ]
    },
    {
     "name": "stderr",
     "output_type": "stream",
     "text": [
      "WARNING\tProperty: Unknown Property name. [1:1: word-wrap]\n",
      "WARNING:CSSUTILS:Property: Unknown Property name. [1:1: word-wrap]\n"
     ]
    },
    {
     "name": "stdout",
     "output_type": "stream",
     "text": [
      "'NoneType' object has no attribute 'is_final'\n"
     ]
    },
    {
     "name": "stderr",
     "output_type": "stream",
     "text": [
      "/home/luan/.cache/pypoetry/virtualenvs/apps-ZFymp6kh-py3.8/lib/python3.8/site-packages/django/db/models/fields/__init__.py:1424: RuntimeWarning: DateTimeField ServiceOrder.opened_at received a naive datetime (2024-03-22 08:17:25.816253) while time zone support is active.\n",
      "  warnings.warn(\"DateTimeField %s received a naive datetime (%s)\"\n",
      "/home/luan/.cache/pypoetry/virtualenvs/apps-ZFymp6kh-py3.8/lib/python3.8/site-packages/django/db/models/fields/__init__.py:1424: RuntimeWarning: DateTimeField HistoricalServiceOrder.opened_at received a naive datetime (2024-03-22 08:17:25.816253) while time zone support is active.\n",
      "  warnings.warn(\"DateTimeField %s received a naive datetime (%s)\"\n",
      "/home/luan/.cache/pypoetry/virtualenvs/apps-ZFymp6kh-py3.8/lib/python3.8/site-packages/django/db/models/fields/__init__.py:1424: RuntimeWarning: DateTimeField ToDo.created_at received a naive datetime (2024-03-21 20:17:25.922447) while time zone support is active.\n",
      "  warnings.warn(\"DateTimeField %s received a naive datetime (%s)\"\n"
     ]
    },
    {
     "name": "stdout",
     "output_type": "stream",
     "text": [
      "Procedure matching query does not exist.\n"
     ]
    },
    {
     "name": "stderr",
     "output_type": "stream",
     "text": [
      "WARNING\tProperty: Unknown Property name. [1:1: word-wrap]\n",
      "WARNING:CSSUTILS:Property: Unknown Property name. [1:1: word-wrap]\n"
     ]
    },
    {
     "name": "stdout",
     "output_type": "stream",
     "text": [
      "'NoneType' object has no attribute 'is_final'\n"
     ]
    },
    {
     "name": "stderr",
     "output_type": "stream",
     "text": [
      "/home/luan/.cache/pypoetry/virtualenvs/apps-ZFymp6kh-py3.8/lib/python3.8/site-packages/django/db/models/fields/__init__.py:1424: RuntimeWarning: DateTimeField OccurrenceRecord.datetime received a naive datetime (2015-07-28 00:00:00) while time zone support is active.\n",
      "  warnings.warn(\"DateTimeField %s received a naive datetime (%s)\"\n",
      "/home/luan/.cache/pypoetry/virtualenvs/apps-ZFymp6kh-py3.8/lib/python3.8/site-packages/django/db/models/fields/__init__.py:1424: RuntimeWarning: DateTimeField HistoricalOccurrenceRecord.datetime received a naive datetime (2015-07-28 00:00:00) while time zone support is active.\n",
      "  warnings.warn(\"DateTimeField %s received a naive datetime (%s)\"\n",
      "/home/luan/.cache/pypoetry/virtualenvs/apps-ZFymp6kh-py3.8/lib/python3.8/site-packages/django/db/models/fields/__init__.py:1424: RuntimeWarning: DateTimeField ServiceOrder.opened_at received a naive datetime (2024-03-22 08:17:27.243627) while time zone support is active.\n",
      "  warnings.warn(\"DateTimeField %s received a naive datetime (%s)\"\n",
      "/home/luan/.cache/pypoetry/virtualenvs/apps-ZFymp6kh-py3.8/lib/python3.8/site-packages/django/db/models/fields/__init__.py:1424: RuntimeWarning: DateTimeField HistoricalServiceOrder.opened_at received a naive datetime (2024-03-22 08:17:27.243627) while time zone support is active.\n",
      "  warnings.warn(\"DateTimeField %s received a naive datetime (%s)\"\n",
      "/home/luan/.cache/pypoetry/virtualenvs/apps-ZFymp6kh-py3.8/lib/python3.8/site-packages/django/db/models/fields/__init__.py:1424: RuntimeWarning: DateTimeField ToDo.created_at received a naive datetime (2024-03-21 20:17:27.355141) while time zone support is active.\n",
      "  warnings.warn(\"DateTimeField %s received a naive datetime (%s)\"\n"
     ]
    },
    {
     "name": "stdout",
     "output_type": "stream",
     "text": [
      "Procedure matching query does not exist.\n"
     ]
    },
    {
     "name": "stderr",
     "output_type": "stream",
     "text": [
      "WARNING\tProperty: Unknown Property name. [1:1: word-wrap]\n",
      "WARNING:CSSUTILS:Property: Unknown Property name. [1:1: word-wrap]\n"
     ]
    },
    {
     "name": "stdout",
     "output_type": "stream",
     "text": [
      "'NoneType' object has no attribute 'is_final'\n"
     ]
    },
    {
     "name": "stderr",
     "output_type": "stream",
     "text": [
      "/home/luan/.cache/pypoetry/virtualenvs/apps-ZFymp6kh-py3.8/lib/python3.8/site-packages/django/db/models/fields/__init__.py:1424: RuntimeWarning: DateTimeField OccurrenceRecord.datetime received a naive datetime (2015-08-04 00:00:00) while time zone support is active.\n",
      "  warnings.warn(\"DateTimeField %s received a naive datetime (%s)\"\n",
      "/home/luan/.cache/pypoetry/virtualenvs/apps-ZFymp6kh-py3.8/lib/python3.8/site-packages/django/db/models/fields/__init__.py:1424: RuntimeWarning: DateTimeField HistoricalOccurrenceRecord.datetime received a naive datetime (2015-08-04 00:00:00) while time zone support is active.\n",
      "  warnings.warn(\"DateTimeField %s received a naive datetime (%s)\"\n",
      "/home/luan/.cache/pypoetry/virtualenvs/apps-ZFymp6kh-py3.8/lib/python3.8/site-packages/django/db/models/fields/__init__.py:1424: RuntimeWarning: DateTimeField ServiceOrder.opened_at received a naive datetime (2024-03-22 08:17:30.026717) while time zone support is active.\n",
      "  warnings.warn(\"DateTimeField %s received a naive datetime (%s)\"\n",
      "/home/luan/.cache/pypoetry/virtualenvs/apps-ZFymp6kh-py3.8/lib/python3.8/site-packages/django/db/models/fields/__init__.py:1424: RuntimeWarning: DateTimeField HistoricalServiceOrder.opened_at received a naive datetime (2024-03-22 08:17:30.026717) while time zone support is active.\n",
      "  warnings.warn(\"DateTimeField %s received a naive datetime (%s)\"\n",
      "/home/luan/.cache/pypoetry/virtualenvs/apps-ZFymp6kh-py3.8/lib/python3.8/site-packages/django/db/models/fields/__init__.py:1424: RuntimeWarning: DateTimeField ToDo.created_at received a naive datetime (2024-03-21 20:17:30.170789) while time zone support is active.\n",
      "  warnings.warn(\"DateTimeField %s received a naive datetime (%s)\"\n"
     ]
    },
    {
     "name": "stdout",
     "output_type": "stream",
     "text": [
      "Procedure matching query does not exist.\n"
     ]
    },
    {
     "name": "stderr",
     "output_type": "stream",
     "text": [
      "WARNING\tProperty: Unknown Property name. [1:1: word-wrap]\n",
      "WARNING:CSSUTILS:Property: Unknown Property name. [1:1: word-wrap]\n"
     ]
    },
    {
     "name": "stdout",
     "output_type": "stream",
     "text": [
      "'NoneType' object has no attribute 'is_final'\n"
     ]
    },
    {
     "name": "stderr",
     "output_type": "stream",
     "text": [
      "/home/luan/.cache/pypoetry/virtualenvs/apps-ZFymp6kh-py3.8/lib/python3.8/site-packages/django/db/models/fields/__init__.py:1424: RuntimeWarning: DateTimeField OccurrenceRecord.datetime received a naive datetime (2015-08-06 00:00:00) while time zone support is active.\n",
      "  warnings.warn(\"DateTimeField %s received a naive datetime (%s)\"\n",
      "/home/luan/.cache/pypoetry/virtualenvs/apps-ZFymp6kh-py3.8/lib/python3.8/site-packages/django/db/models/fields/__init__.py:1424: RuntimeWarning: DateTimeField HistoricalOccurrenceRecord.datetime received a naive datetime (2015-08-06 00:00:00) while time zone support is active.\n",
      "  warnings.warn(\"DateTimeField %s received a naive datetime (%s)\"\n",
      "/home/luan/.cache/pypoetry/virtualenvs/apps-ZFymp6kh-py3.8/lib/python3.8/site-packages/django/db/models/fields/__init__.py:1424: RuntimeWarning: DateTimeField ServiceOrder.opened_at received a naive datetime (2024-03-22 08:17:31.656801) while time zone support is active.\n",
      "  warnings.warn(\"DateTimeField %s received a naive datetime (%s)\"\n",
      "/home/luan/.cache/pypoetry/virtualenvs/apps-ZFymp6kh-py3.8/lib/python3.8/site-packages/django/db/models/fields/__init__.py:1424: RuntimeWarning: DateTimeField HistoricalServiceOrder.opened_at received a naive datetime (2024-03-22 08:17:31.656801) while time zone support is active.\n",
      "  warnings.warn(\"DateTimeField %s received a naive datetime (%s)\"\n",
      "/home/luan/.cache/pypoetry/virtualenvs/apps-ZFymp6kh-py3.8/lib/python3.8/site-packages/django/db/models/fields/__init__.py:1424: RuntimeWarning: DateTimeField ToDo.created_at received a naive datetime (2024-03-21 20:17:31.761552) while time zone support is active.\n",
      "  warnings.warn(\"DateTimeField %s received a naive datetime (%s)\"\n"
     ]
    },
    {
     "name": "stdout",
     "output_type": "stream",
     "text": [
      "Procedure matching query does not exist.\n"
     ]
    },
    {
     "name": "stderr",
     "output_type": "stream",
     "text": [
      "WARNING\tProperty: Unknown Property name. [1:1: word-wrap]\n",
      "WARNING:CSSUTILS:Property: Unknown Property name. [1:1: word-wrap]\n"
     ]
    },
    {
     "name": "stdout",
     "output_type": "stream",
     "text": [
      "'NoneType' object has no attribute 'is_final'\n"
     ]
    },
    {
     "name": "stderr",
     "output_type": "stream",
     "text": [
      "/home/luan/.cache/pypoetry/virtualenvs/apps-ZFymp6kh-py3.8/lib/python3.8/site-packages/django/db/models/fields/__init__.py:1424: RuntimeWarning: DateTimeField OccurrenceRecord.datetime received a naive datetime (2015-08-12 00:00:00) while time zone support is active.\n",
      "  warnings.warn(\"DateTimeField %s received a naive datetime (%s)\"\n",
      "/home/luan/.cache/pypoetry/virtualenvs/apps-ZFymp6kh-py3.8/lib/python3.8/site-packages/django/db/models/fields/__init__.py:1424: RuntimeWarning: DateTimeField HistoricalOccurrenceRecord.datetime received a naive datetime (2015-08-12 00:00:00) while time zone support is active.\n",
      "  warnings.warn(\"DateTimeField %s received a naive datetime (%s)\"\n",
      "/home/luan/.cache/pypoetry/virtualenvs/apps-ZFymp6kh-py3.8/lib/python3.8/site-packages/django/db/models/fields/__init__.py:1424: RuntimeWarning: DateTimeField ServiceOrder.opened_at received a naive datetime (2024-03-22 08:17:34.376484) while time zone support is active.\n",
      "  warnings.warn(\"DateTimeField %s received a naive datetime (%s)\"\n",
      "/home/luan/.cache/pypoetry/virtualenvs/apps-ZFymp6kh-py3.8/lib/python3.8/site-packages/django/db/models/fields/__init__.py:1424: RuntimeWarning: DateTimeField HistoricalServiceOrder.opened_at received a naive datetime (2024-03-22 08:17:34.376484) while time zone support is active.\n",
      "  warnings.warn(\"DateTimeField %s received a naive datetime (%s)\"\n",
      "/home/luan/.cache/pypoetry/virtualenvs/apps-ZFymp6kh-py3.8/lib/python3.8/site-packages/django/db/models/fields/__init__.py:1424: RuntimeWarning: DateTimeField ToDo.created_at received a naive datetime (2024-03-21 20:17:34.487938) while time zone support is active.\n",
      "  warnings.warn(\"DateTimeField %s received a naive datetime (%s)\"\n"
     ]
    },
    {
     "name": "stdout",
     "output_type": "stream",
     "text": [
      "Procedure matching query does not exist.\n"
     ]
    },
    {
     "name": "stderr",
     "output_type": "stream",
     "text": [
      "WARNING\tProperty: Unknown Property name. [1:1: word-wrap]\n",
      "WARNING:CSSUTILS:Property: Unknown Property name. [1:1: word-wrap]\n"
     ]
    },
    {
     "name": "stdout",
     "output_type": "stream",
     "text": [
      "'NoneType' object has no attribute 'is_final'\n"
     ]
    },
    {
     "name": "stderr",
     "output_type": "stream",
     "text": [
      "/home/luan/.cache/pypoetry/virtualenvs/apps-ZFymp6kh-py3.8/lib/python3.8/site-packages/django/db/models/fields/__init__.py:1424: RuntimeWarning: DateTimeField ServiceOrder.opened_at received a naive datetime (2024-03-22 08:17:36.885016) while time zone support is active.\n",
      "  warnings.warn(\"DateTimeField %s received a naive datetime (%s)\"\n",
      "/home/luan/.cache/pypoetry/virtualenvs/apps-ZFymp6kh-py3.8/lib/python3.8/site-packages/django/db/models/fields/__init__.py:1424: RuntimeWarning: DateTimeField HistoricalServiceOrder.opened_at received a naive datetime (2024-03-22 08:17:36.885016) while time zone support is active.\n",
      "  warnings.warn(\"DateTimeField %s received a naive datetime (%s)\"\n",
      "/home/luan/.cache/pypoetry/virtualenvs/apps-ZFymp6kh-py3.8/lib/python3.8/site-packages/django/db/models/fields/__init__.py:1424: RuntimeWarning: DateTimeField ToDo.created_at received a naive datetime (2024-03-21 20:17:37.146793) while time zone support is active.\n",
      "  warnings.warn(\"DateTimeField %s received a naive datetime (%s)\"\n"
     ]
    },
    {
     "name": "stdout",
     "output_type": "stream",
     "text": [
      "Procedure matching query does not exist.\n"
     ]
    },
    {
     "name": "stderr",
     "output_type": "stream",
     "text": [
      "WARNING\tProperty: Unknown Property name. [1:1: word-wrap]\n",
      "WARNING:CSSUTILS:Property: Unknown Property name. [1:1: word-wrap]\n"
     ]
    },
    {
     "name": "stdout",
     "output_type": "stream",
     "text": [
      "'NoneType' object has no attribute 'is_final'\n"
     ]
    },
    {
     "name": "stderr",
     "output_type": "stream",
     "text": [
      "/home/luan/.cache/pypoetry/virtualenvs/apps-ZFymp6kh-py3.8/lib/python3.8/site-packages/django/db/models/fields/__init__.py:1424: RuntimeWarning: DateTimeField ServiceOrder.opened_at received a naive datetime (2024-03-22 08:17:38.422118) while time zone support is active.\n",
      "  warnings.warn(\"DateTimeField %s received a naive datetime (%s)\"\n",
      "/home/luan/.cache/pypoetry/virtualenvs/apps-ZFymp6kh-py3.8/lib/python3.8/site-packages/django/db/models/fields/__init__.py:1424: RuntimeWarning: DateTimeField HistoricalServiceOrder.opened_at received a naive datetime (2024-03-22 08:17:38.422118) while time zone support is active.\n",
      "  warnings.warn(\"DateTimeField %s received a naive datetime (%s)\"\n",
      "/home/luan/.cache/pypoetry/virtualenvs/apps-ZFymp6kh-py3.8/lib/python3.8/site-packages/django/db/models/fields/__init__.py:1424: RuntimeWarning: DateTimeField ToDo.created_at received a naive datetime (2024-03-21 20:17:38.530404) while time zone support is active.\n",
      "  warnings.warn(\"DateTimeField %s received a naive datetime (%s)\"\n"
     ]
    },
    {
     "name": "stdout",
     "output_type": "stream",
     "text": [
      "Procedure matching query does not exist.\n"
     ]
    },
    {
     "name": "stderr",
     "output_type": "stream",
     "text": [
      "WARNING\tProperty: Unknown Property name. [1:1: word-wrap]\n",
      "WARNING:CSSUTILS:Property: Unknown Property name. [1:1: word-wrap]\n"
     ]
    },
    {
     "name": "stdout",
     "output_type": "stream",
     "text": [
      "'NoneType' object has no attribute 'is_final'\n"
     ]
    },
    {
     "name": "stderr",
     "output_type": "stream",
     "text": [
      "/home/luan/.cache/pypoetry/virtualenvs/apps-ZFymp6kh-py3.8/lib/python3.8/site-packages/django/db/models/fields/__init__.py:1424: RuntimeWarning: DateTimeField OccurrenceRecord.datetime received a naive datetime (2015-08-21 00:00:00) while time zone support is active.\n",
      "  warnings.warn(\"DateTimeField %s received a naive datetime (%s)\"\n",
      "/home/luan/.cache/pypoetry/virtualenvs/apps-ZFymp6kh-py3.8/lib/python3.8/site-packages/django/db/models/fields/__init__.py:1424: RuntimeWarning: DateTimeField HistoricalOccurrenceRecord.datetime received a naive datetime (2015-08-21 00:00:00) while time zone support is active.\n",
      "  warnings.warn(\"DateTimeField %s received a naive datetime (%s)\"\n",
      "/home/luan/.cache/pypoetry/virtualenvs/apps-ZFymp6kh-py3.8/lib/python3.8/site-packages/django/db/models/fields/__init__.py:1424: RuntimeWarning: DateTimeField ServiceOrder.opened_at received a naive datetime (2024-03-22 08:17:39.756931) while time zone support is active.\n",
      "  warnings.warn(\"DateTimeField %s received a naive datetime (%s)\"\n",
      "/home/luan/.cache/pypoetry/virtualenvs/apps-ZFymp6kh-py3.8/lib/python3.8/site-packages/django/db/models/fields/__init__.py:1424: RuntimeWarning: DateTimeField HistoricalServiceOrder.opened_at received a naive datetime (2024-03-22 08:17:39.756931) while time zone support is active.\n",
      "  warnings.warn(\"DateTimeField %s received a naive datetime (%s)\"\n",
      "/home/luan/.cache/pypoetry/virtualenvs/apps-ZFymp6kh-py3.8/lib/python3.8/site-packages/django/db/models/fields/__init__.py:1424: RuntimeWarning: DateTimeField ToDo.created_at received a naive datetime (2024-03-21 20:17:39.860429) while time zone support is active.\n",
      "  warnings.warn(\"DateTimeField %s received a naive datetime (%s)\"\n"
     ]
    },
    {
     "name": "stdout",
     "output_type": "stream",
     "text": [
      "Procedure matching query does not exist.\n"
     ]
    },
    {
     "name": "stderr",
     "output_type": "stream",
     "text": [
      "WARNING\tProperty: Unknown Property name. [1:1: word-wrap]\n",
      "WARNING:CSSUTILS:Property: Unknown Property name. [1:1: word-wrap]\n"
     ]
    },
    {
     "name": "stdout",
     "output_type": "stream",
     "text": [
      "'NoneType' object has no attribute 'is_final'\n"
     ]
    },
    {
     "name": "stderr",
     "output_type": "stream",
     "text": [
      "/home/luan/.cache/pypoetry/virtualenvs/apps-ZFymp6kh-py3.8/lib/python3.8/site-packages/django/db/models/fields/__init__.py:1424: RuntimeWarning: DateTimeField OccurrenceRecord.datetime received a naive datetime (2015-08-27 00:00:00) while time zone support is active.\n",
      "  warnings.warn(\"DateTimeField %s received a naive datetime (%s)\"\n",
      "/home/luan/.cache/pypoetry/virtualenvs/apps-ZFymp6kh-py3.8/lib/python3.8/site-packages/django/db/models/fields/__init__.py:1424: RuntimeWarning: DateTimeField HistoricalOccurrenceRecord.datetime received a naive datetime (2015-08-27 00:00:00) while time zone support is active.\n",
      "  warnings.warn(\"DateTimeField %s received a naive datetime (%s)\"\n",
      "/home/luan/.cache/pypoetry/virtualenvs/apps-ZFymp6kh-py3.8/lib/python3.8/site-packages/django/db/models/fields/__init__.py:1424: RuntimeWarning: DateTimeField ServiceOrder.opened_at received a naive datetime (2024-03-22 08:17:41.185008) while time zone support is active.\n",
      "  warnings.warn(\"DateTimeField %s received a naive datetime (%s)\"\n",
      "/home/luan/.cache/pypoetry/virtualenvs/apps-ZFymp6kh-py3.8/lib/python3.8/site-packages/django/db/models/fields/__init__.py:1424: RuntimeWarning: DateTimeField HistoricalServiceOrder.opened_at received a naive datetime (2024-03-22 08:17:41.185008) while time zone support is active.\n",
      "  warnings.warn(\"DateTimeField %s received a naive datetime (%s)\"\n",
      "/home/luan/.cache/pypoetry/virtualenvs/apps-ZFymp6kh-py3.8/lib/python3.8/site-packages/django/db/models/fields/__init__.py:1424: RuntimeWarning: DateTimeField ToDo.created_at received a naive datetime (2024-03-21 20:17:41.294079) while time zone support is active.\n",
      "  warnings.warn(\"DateTimeField %s received a naive datetime (%s)\"\n"
     ]
    },
    {
     "name": "stdout",
     "output_type": "stream",
     "text": [
      "Procedure matching query does not exist.\n"
     ]
    },
    {
     "name": "stderr",
     "output_type": "stream",
     "text": [
      "WARNING\tProperty: Unknown Property name. [1:1: word-wrap]\n",
      "WARNING:CSSUTILS:Property: Unknown Property name. [1:1: word-wrap]\n"
     ]
    },
    {
     "name": "stdout",
     "output_type": "stream",
     "text": [
      "'NoneType' object has no attribute 'is_final'\n"
     ]
    },
    {
     "name": "stderr",
     "output_type": "stream",
     "text": [
      "/home/luan/.cache/pypoetry/virtualenvs/apps-ZFymp6kh-py3.8/lib/python3.8/site-packages/django/db/models/fields/__init__.py:1424: RuntimeWarning: DateTimeField ServiceOrder.opened_at received a naive datetime (2024-03-22 08:17:42.658978) while time zone support is active.\n",
      "  warnings.warn(\"DateTimeField %s received a naive datetime (%s)\"\n",
      "/home/luan/.cache/pypoetry/virtualenvs/apps-ZFymp6kh-py3.8/lib/python3.8/site-packages/django/db/models/fields/__init__.py:1424: RuntimeWarning: DateTimeField HistoricalServiceOrder.opened_at received a naive datetime (2024-03-22 08:17:42.658978) while time zone support is active.\n",
      "  warnings.warn(\"DateTimeField %s received a naive datetime (%s)\"\n",
      "/home/luan/.cache/pypoetry/virtualenvs/apps-ZFymp6kh-py3.8/lib/python3.8/site-packages/django/db/models/fields/__init__.py:1424: RuntimeWarning: DateTimeField ToDo.created_at received a naive datetime (2024-03-21 20:17:42.762812) while time zone support is active.\n",
      "  warnings.warn(\"DateTimeField %s received a naive datetime (%s)\"\n"
     ]
    },
    {
     "name": "stdout",
     "output_type": "stream",
     "text": [
      "Procedure matching query does not exist.\n"
     ]
    },
    {
     "name": "stderr",
     "output_type": "stream",
     "text": [
      "WARNING\tProperty: Unknown Property name. [1:1: word-wrap]\n",
      "WARNING:CSSUTILS:Property: Unknown Property name. [1:1: word-wrap]\n"
     ]
    },
    {
     "name": "stdout",
     "output_type": "stream",
     "text": [
      "'NoneType' object has no attribute 'is_final'\n"
     ]
    },
    {
     "name": "stderr",
     "output_type": "stream",
     "text": [
      "/home/luan/.cache/pypoetry/virtualenvs/apps-ZFymp6kh-py3.8/lib/python3.8/site-packages/django/db/models/fields/__init__.py:1424: RuntimeWarning: DateTimeField ServiceOrder.opened_at received a naive datetime (2024-03-22 08:17:44.047843) while time zone support is active.\n",
      "  warnings.warn(\"DateTimeField %s received a naive datetime (%s)\"\n",
      "/home/luan/.cache/pypoetry/virtualenvs/apps-ZFymp6kh-py3.8/lib/python3.8/site-packages/django/db/models/fields/__init__.py:1424: RuntimeWarning: DateTimeField HistoricalServiceOrder.opened_at received a naive datetime (2024-03-22 08:17:44.047843) while time zone support is active.\n",
      "  warnings.warn(\"DateTimeField %s received a naive datetime (%s)\"\n",
      "/home/luan/.cache/pypoetry/virtualenvs/apps-ZFymp6kh-py3.8/lib/python3.8/site-packages/django/db/models/fields/__init__.py:1424: RuntimeWarning: DateTimeField ToDo.created_at received a naive datetime (2024-03-21 20:17:44.149964) while time zone support is active.\n",
      "  warnings.warn(\"DateTimeField %s received a naive datetime (%s)\"\n"
     ]
    },
    {
     "name": "stdout",
     "output_type": "stream",
     "text": [
      "Procedure matching query does not exist.\n"
     ]
    },
    {
     "name": "stderr",
     "output_type": "stream",
     "text": [
      "WARNING\tProperty: Unknown Property name. [1:1: word-wrap]\n",
      "WARNING:CSSUTILS:Property: Unknown Property name. [1:1: word-wrap]\n"
     ]
    },
    {
     "name": "stdout",
     "output_type": "stream",
     "text": [
      "'NoneType' object has no attribute 'is_final'\n"
     ]
    },
    {
     "name": "stderr",
     "output_type": "stream",
     "text": [
      "/home/luan/.cache/pypoetry/virtualenvs/apps-ZFymp6kh-py3.8/lib/python3.8/site-packages/django/db/models/fields/__init__.py:1424: RuntimeWarning: DateTimeField OccurrenceRecord.datetime received a naive datetime (2015-09-04 00:00:00) while time zone support is active.\n",
      "  warnings.warn(\"DateTimeField %s received a naive datetime (%s)\"\n",
      "/home/luan/.cache/pypoetry/virtualenvs/apps-ZFymp6kh-py3.8/lib/python3.8/site-packages/django/db/models/fields/__init__.py:1424: RuntimeWarning: DateTimeField HistoricalOccurrenceRecord.datetime received a naive datetime (2015-09-04 00:00:00) while time zone support is active.\n",
      "  warnings.warn(\"DateTimeField %s received a naive datetime (%s)\"\n",
      "/home/luan/.cache/pypoetry/virtualenvs/apps-ZFymp6kh-py3.8/lib/python3.8/site-packages/django/db/models/fields/__init__.py:1424: RuntimeWarning: DateTimeField ServiceOrder.opened_at received a naive datetime (2024-03-22 08:17:46.616811) while time zone support is active.\n",
      "  warnings.warn(\"DateTimeField %s received a naive datetime (%s)\"\n",
      "/home/luan/.cache/pypoetry/virtualenvs/apps-ZFymp6kh-py3.8/lib/python3.8/site-packages/django/db/models/fields/__init__.py:1424: RuntimeWarning: DateTimeField HistoricalServiceOrder.opened_at received a naive datetime (2024-03-22 08:17:46.616811) while time zone support is active.\n",
      "  warnings.warn(\"DateTimeField %s received a naive datetime (%s)\"\n",
      "/home/luan/.cache/pypoetry/virtualenvs/apps-ZFymp6kh-py3.8/lib/python3.8/site-packages/django/db/models/fields/__init__.py:1424: RuntimeWarning: DateTimeField ToDo.created_at received a naive datetime (2024-03-21 20:17:46.718878) while time zone support is active.\n",
      "  warnings.warn(\"DateTimeField %s received a naive datetime (%s)\"\n"
     ]
    },
    {
     "name": "stdout",
     "output_type": "stream",
     "text": [
      "Procedure matching query does not exist.\n"
     ]
    },
    {
     "name": "stderr",
     "output_type": "stream",
     "text": [
      "WARNING\tProperty: Unknown Property name. [1:1: word-wrap]\n",
      "WARNING:CSSUTILS:Property: Unknown Property name. [1:1: word-wrap]\n"
     ]
    },
    {
     "name": "stdout",
     "output_type": "stream",
     "text": [
      "'NoneType' object has no attribute 'is_final'\n"
     ]
    },
    {
     "name": "stderr",
     "output_type": "stream",
     "text": [
      "/home/luan/.cache/pypoetry/virtualenvs/apps-ZFymp6kh-py3.8/lib/python3.8/site-packages/django/db/models/fields/__init__.py:1424: RuntimeWarning: DateTimeField OccurrenceRecord.datetime received a naive datetime (2015-09-10 00:00:00) while time zone support is active.\n",
      "  warnings.warn(\"DateTimeField %s received a naive datetime (%s)\"\n",
      "/home/luan/.cache/pypoetry/virtualenvs/apps-ZFymp6kh-py3.8/lib/python3.8/site-packages/django/db/models/fields/__init__.py:1424: RuntimeWarning: DateTimeField HistoricalOccurrenceRecord.datetime received a naive datetime (2015-09-10 00:00:00) while time zone support is active.\n",
      "  warnings.warn(\"DateTimeField %s received a naive datetime (%s)\"\n",
      "/home/luan/.cache/pypoetry/virtualenvs/apps-ZFymp6kh-py3.8/lib/python3.8/site-packages/django/db/models/fields/__init__.py:1424: RuntimeWarning: DateTimeField ServiceOrder.opened_at received a naive datetime (2024-03-22 08:17:48.030411) while time zone support is active.\n",
      "  warnings.warn(\"DateTimeField %s received a naive datetime (%s)\"\n",
      "/home/luan/.cache/pypoetry/virtualenvs/apps-ZFymp6kh-py3.8/lib/python3.8/site-packages/django/db/models/fields/__init__.py:1424: RuntimeWarning: DateTimeField HistoricalServiceOrder.opened_at received a naive datetime (2024-03-22 08:17:48.030411) while time zone support is active.\n",
      "  warnings.warn(\"DateTimeField %s received a naive datetime (%s)\"\n",
      "/home/luan/.cache/pypoetry/virtualenvs/apps-ZFymp6kh-py3.8/lib/python3.8/site-packages/django/db/models/fields/__init__.py:1424: RuntimeWarning: DateTimeField ToDo.created_at received a naive datetime (2024-03-21 20:17:48.142510) while time zone support is active.\n",
      "  warnings.warn(\"DateTimeField %s received a naive datetime (%s)\"\n"
     ]
    },
    {
     "name": "stdout",
     "output_type": "stream",
     "text": [
      "Procedure matching query does not exist.\n"
     ]
    },
    {
     "name": "stderr",
     "output_type": "stream",
     "text": [
      "WARNING\tProperty: Unknown Property name. [1:1: word-wrap]\n",
      "WARNING:CSSUTILS:Property: Unknown Property name. [1:1: word-wrap]\n"
     ]
    },
    {
     "name": "stdout",
     "output_type": "stream",
     "text": [
      "'NoneType' object has no attribute 'is_final'\n"
     ]
    },
    {
     "name": "stderr",
     "output_type": "stream",
     "text": [
      "/home/luan/.cache/pypoetry/virtualenvs/apps-ZFymp6kh-py3.8/lib/python3.8/site-packages/django/db/models/fields/__init__.py:1424: RuntimeWarning: DateTimeField ServiceOrder.opened_at received a naive datetime (2024-03-22 08:17:49.444378) while time zone support is active.\n",
      "  warnings.warn(\"DateTimeField %s received a naive datetime (%s)\"\n",
      "/home/luan/.cache/pypoetry/virtualenvs/apps-ZFymp6kh-py3.8/lib/python3.8/site-packages/django/db/models/fields/__init__.py:1424: RuntimeWarning: DateTimeField HistoricalServiceOrder.opened_at received a naive datetime (2024-03-22 08:17:49.444378) while time zone support is active.\n",
      "  warnings.warn(\"DateTimeField %s received a naive datetime (%s)\"\n",
      "/home/luan/.cache/pypoetry/virtualenvs/apps-ZFymp6kh-py3.8/lib/python3.8/site-packages/django/db/models/fields/__init__.py:1424: RuntimeWarning: DateTimeField ToDo.created_at received a naive datetime (2024-03-21 20:17:49.554054) while time zone support is active.\n",
      "  warnings.warn(\"DateTimeField %s received a naive datetime (%s)\"\n"
     ]
    },
    {
     "name": "stdout",
     "output_type": "stream",
     "text": [
      "Procedure matching query does not exist.\n"
     ]
    },
    {
     "name": "stderr",
     "output_type": "stream",
     "text": [
      "WARNING\tProperty: Unknown Property name. [1:1: word-wrap]\n",
      "WARNING:CSSUTILS:Property: Unknown Property name. [1:1: word-wrap]\n"
     ]
    },
    {
     "name": "stdout",
     "output_type": "stream",
     "text": [
      "'NoneType' object has no attribute 'is_final'\n"
     ]
    },
    {
     "name": "stderr",
     "output_type": "stream",
     "text": [
      "/home/luan/.cache/pypoetry/virtualenvs/apps-ZFymp6kh-py3.8/lib/python3.8/site-packages/django/db/models/fields/__init__.py:1424: RuntimeWarning: DateTimeField ServiceOrder.opened_at received a naive datetime (2024-03-22 08:17:50.896000) while time zone support is active.\n",
      "  warnings.warn(\"DateTimeField %s received a naive datetime (%s)\"\n",
      "/home/luan/.cache/pypoetry/virtualenvs/apps-ZFymp6kh-py3.8/lib/python3.8/site-packages/django/db/models/fields/__init__.py:1424: RuntimeWarning: DateTimeField HistoricalServiceOrder.opened_at received a naive datetime (2024-03-22 08:17:50.896000) while time zone support is active.\n",
      "  warnings.warn(\"DateTimeField %s received a naive datetime (%s)\"\n",
      "/home/luan/.cache/pypoetry/virtualenvs/apps-ZFymp6kh-py3.8/lib/python3.8/site-packages/django/db/models/fields/__init__.py:1424: RuntimeWarning: DateTimeField ToDo.created_at received a naive datetime (2024-03-21 20:17:51.012877) while time zone support is active.\n",
      "  warnings.warn(\"DateTimeField %s received a naive datetime (%s)\"\n"
     ]
    },
    {
     "name": "stdout",
     "output_type": "stream",
     "text": [
      "Procedure matching query does not exist.\n"
     ]
    },
    {
     "name": "stderr",
     "output_type": "stream",
     "text": [
      "WARNING\tProperty: Unknown Property name. [1:1: word-wrap]\n",
      "WARNING:CSSUTILS:Property: Unknown Property name. [1:1: word-wrap]\n"
     ]
    },
    {
     "name": "stdout",
     "output_type": "stream",
     "text": [
      "'NoneType' object has no attribute 'is_final'\n"
     ]
    },
    {
     "name": "stderr",
     "output_type": "stream",
     "text": [
      "/home/luan/.cache/pypoetry/virtualenvs/apps-ZFymp6kh-py3.8/lib/python3.8/site-packages/django/db/models/fields/__init__.py:1424: RuntimeWarning: DateTimeField OccurrenceRecord.datetime received a naive datetime (2015-09-15 00:00:00) while time zone support is active.\n",
      "  warnings.warn(\"DateTimeField %s received a naive datetime (%s)\"\n",
      "/home/luan/.cache/pypoetry/virtualenvs/apps-ZFymp6kh-py3.8/lib/python3.8/site-packages/django/db/models/fields/__init__.py:1424: RuntimeWarning: DateTimeField HistoricalOccurrenceRecord.datetime received a naive datetime (2015-09-15 00:00:00) while time zone support is active.\n",
      "  warnings.warn(\"DateTimeField %s received a naive datetime (%s)\"\n",
      "/home/luan/.cache/pypoetry/virtualenvs/apps-ZFymp6kh-py3.8/lib/python3.8/site-packages/django/db/models/fields/__init__.py:1424: RuntimeWarning: DateTimeField ServiceOrder.opened_at received a naive datetime (2024-03-22 08:17:52.282069) while time zone support is active.\n",
      "  warnings.warn(\"DateTimeField %s received a naive datetime (%s)\"\n",
      "/home/luan/.cache/pypoetry/virtualenvs/apps-ZFymp6kh-py3.8/lib/python3.8/site-packages/django/db/models/fields/__init__.py:1424: RuntimeWarning: DateTimeField HistoricalServiceOrder.opened_at received a naive datetime (2024-03-22 08:17:52.282069) while time zone support is active.\n",
      "  warnings.warn(\"DateTimeField %s received a naive datetime (%s)\"\n",
      "/home/luan/.cache/pypoetry/virtualenvs/apps-ZFymp6kh-py3.8/lib/python3.8/site-packages/django/db/models/fields/__init__.py:1424: RuntimeWarning: DateTimeField ToDo.created_at received a naive datetime (2024-03-21 20:17:52.385612) while time zone support is active.\n",
      "  warnings.warn(\"DateTimeField %s received a naive datetime (%s)\"\n"
     ]
    },
    {
     "name": "stdout",
     "output_type": "stream",
     "text": [
      "Procedure matching query does not exist.\n"
     ]
    },
    {
     "name": "stderr",
     "output_type": "stream",
     "text": [
      "WARNING\tProperty: Unknown Property name. [1:1: word-wrap]\n",
      "WARNING:CSSUTILS:Property: Unknown Property name. [1:1: word-wrap]\n"
     ]
    },
    {
     "name": "stdout",
     "output_type": "stream",
     "text": [
      "'NoneType' object has no attribute 'is_final'\n"
     ]
    },
    {
     "name": "stderr",
     "output_type": "stream",
     "text": [
      "/home/luan/.cache/pypoetry/virtualenvs/apps-ZFymp6kh-py3.8/lib/python3.8/site-packages/django/db/models/fields/__init__.py:1424: RuntimeWarning: DateTimeField ServiceOrder.opened_at received a naive datetime (2024-03-22 08:17:54.873047) while time zone support is active.\n",
      "  warnings.warn(\"DateTimeField %s received a naive datetime (%s)\"\n",
      "/home/luan/.cache/pypoetry/virtualenvs/apps-ZFymp6kh-py3.8/lib/python3.8/site-packages/django/db/models/fields/__init__.py:1424: RuntimeWarning: DateTimeField HistoricalServiceOrder.opened_at received a naive datetime (2024-03-22 08:17:54.873047) while time zone support is active.\n",
      "  warnings.warn(\"DateTimeField %s received a naive datetime (%s)\"\n",
      "/home/luan/.cache/pypoetry/virtualenvs/apps-ZFymp6kh-py3.8/lib/python3.8/site-packages/django/db/models/fields/__init__.py:1424: RuntimeWarning: DateTimeField ToDo.created_at received a naive datetime (2024-03-21 20:17:54.974877) while time zone support is active.\n",
      "  warnings.warn(\"DateTimeField %s received a naive datetime (%s)\"\n"
     ]
    },
    {
     "name": "stdout",
     "output_type": "stream",
     "text": [
      "Procedure matching query does not exist.\n"
     ]
    },
    {
     "name": "stderr",
     "output_type": "stream",
     "text": [
      "WARNING\tProperty: Unknown Property name. [1:1: word-wrap]\n",
      "WARNING:CSSUTILS:Property: Unknown Property name. [1:1: word-wrap]\n"
     ]
    },
    {
     "name": "stdout",
     "output_type": "stream",
     "text": [
      "'NoneType' object has no attribute 'is_final'\n"
     ]
    },
    {
     "name": "stderr",
     "output_type": "stream",
     "text": [
      "/home/luan/.cache/pypoetry/virtualenvs/apps-ZFymp6kh-py3.8/lib/python3.8/site-packages/django/db/models/fields/__init__.py:1424: RuntimeWarning: DateTimeField ServiceOrder.opened_at received a naive datetime (2024-03-22 08:17:56.540977) while time zone support is active.\n",
      "  warnings.warn(\"DateTimeField %s received a naive datetime (%s)\"\n",
      "/home/luan/.cache/pypoetry/virtualenvs/apps-ZFymp6kh-py3.8/lib/python3.8/site-packages/django/db/models/fields/__init__.py:1424: RuntimeWarning: DateTimeField HistoricalServiceOrder.opened_at received a naive datetime (2024-03-22 08:17:56.540977) while time zone support is active.\n",
      "  warnings.warn(\"DateTimeField %s received a naive datetime (%s)\"\n",
      "/home/luan/.cache/pypoetry/virtualenvs/apps-ZFymp6kh-py3.8/lib/python3.8/site-packages/django/db/models/fields/__init__.py:1424: RuntimeWarning: DateTimeField ToDo.created_at received a naive datetime (2024-03-21 20:17:56.647136) while time zone support is active.\n",
      "  warnings.warn(\"DateTimeField %s received a naive datetime (%s)\"\n"
     ]
    },
    {
     "name": "stdout",
     "output_type": "stream",
     "text": [
      "Procedure matching query does not exist.\n"
     ]
    },
    {
     "name": "stderr",
     "output_type": "stream",
     "text": [
      "WARNING\tProperty: Unknown Property name. [1:1: word-wrap]\n",
      "WARNING:CSSUTILS:Property: Unknown Property name. [1:1: word-wrap]\n"
     ]
    },
    {
     "name": "stdout",
     "output_type": "stream",
     "text": [
      "'NoneType' object has no attribute 'is_final'\n"
     ]
    },
    {
     "name": "stderr",
     "output_type": "stream",
     "text": [
      "/home/luan/.cache/pypoetry/virtualenvs/apps-ZFymp6kh-py3.8/lib/python3.8/site-packages/django/db/models/fields/__init__.py:1424: RuntimeWarning: DateTimeField OccurrenceRecord.datetime received a naive datetime (2015-09-24 00:00:00) while time zone support is active.\n",
      "  warnings.warn(\"DateTimeField %s received a naive datetime (%s)\"\n",
      "/home/luan/.cache/pypoetry/virtualenvs/apps-ZFymp6kh-py3.8/lib/python3.8/site-packages/django/db/models/fields/__init__.py:1424: RuntimeWarning: DateTimeField HistoricalOccurrenceRecord.datetime received a naive datetime (2015-09-24 00:00:00) while time zone support is active.\n",
      "  warnings.warn(\"DateTimeField %s received a naive datetime (%s)\"\n",
      "/home/luan/.cache/pypoetry/virtualenvs/apps-ZFymp6kh-py3.8/lib/python3.8/site-packages/django/db/models/fields/__init__.py:1424: RuntimeWarning: DateTimeField ServiceOrder.opened_at received a naive datetime (2024-03-22 08:17:57.877647) while time zone support is active.\n",
      "  warnings.warn(\"DateTimeField %s received a naive datetime (%s)\"\n",
      "/home/luan/.cache/pypoetry/virtualenvs/apps-ZFymp6kh-py3.8/lib/python3.8/site-packages/django/db/models/fields/__init__.py:1424: RuntimeWarning: DateTimeField HistoricalServiceOrder.opened_at received a naive datetime (2024-03-22 08:17:57.877647) while time zone support is active.\n",
      "  warnings.warn(\"DateTimeField %s received a naive datetime (%s)\"\n",
      "/home/luan/.cache/pypoetry/virtualenvs/apps-ZFymp6kh-py3.8/lib/python3.8/site-packages/django/db/models/fields/__init__.py:1424: RuntimeWarning: DateTimeField ToDo.created_at received a naive datetime (2024-03-21 20:17:57.993561) while time zone support is active.\n",
      "  warnings.warn(\"DateTimeField %s received a naive datetime (%s)\"\n"
     ]
    },
    {
     "name": "stdout",
     "output_type": "stream",
     "text": [
      "Procedure matching query does not exist.\n"
     ]
    },
    {
     "name": "stderr",
     "output_type": "stream",
     "text": [
      "WARNING\tProperty: Unknown Property name. [1:1: word-wrap]\n",
      "WARNING:CSSUTILS:Property: Unknown Property name. [1:1: word-wrap]\n"
     ]
    },
    {
     "name": "stdout",
     "output_type": "stream",
     "text": [
      "'NoneType' object has no attribute 'is_final'\n"
     ]
    },
    {
     "name": "stderr",
     "output_type": "stream",
     "text": [
      "/home/luan/.cache/pypoetry/virtualenvs/apps-ZFymp6kh-py3.8/lib/python3.8/site-packages/django/db/models/fields/__init__.py:1424: RuntimeWarning: DateTimeField OccurrenceRecord.datetime received a naive datetime (2015-10-02 00:00:00) while time zone support is active.\n",
      "  warnings.warn(\"DateTimeField %s received a naive datetime (%s)\"\n",
      "/home/luan/.cache/pypoetry/virtualenvs/apps-ZFymp6kh-py3.8/lib/python3.8/site-packages/django/db/models/fields/__init__.py:1424: RuntimeWarning: DateTimeField HistoricalOccurrenceRecord.datetime received a naive datetime (2015-10-02 00:00:00) while time zone support is active.\n",
      "  warnings.warn(\"DateTimeField %s received a naive datetime (%s)\"\n",
      "/home/luan/.cache/pypoetry/virtualenvs/apps-ZFymp6kh-py3.8/lib/python3.8/site-packages/django/db/models/fields/__init__.py:1424: RuntimeWarning: DateTimeField ServiceOrder.opened_at received a naive datetime (2024-03-22 08:18:00.982981) while time zone support is active.\n",
      "  warnings.warn(\"DateTimeField %s received a naive datetime (%s)\"\n",
      "/home/luan/.cache/pypoetry/virtualenvs/apps-ZFymp6kh-py3.8/lib/python3.8/site-packages/django/db/models/fields/__init__.py:1424: RuntimeWarning: DateTimeField HistoricalServiceOrder.opened_at received a naive datetime (2024-03-22 08:18:00.982981) while time zone support is active.\n",
      "  warnings.warn(\"DateTimeField %s received a naive datetime (%s)\"\n",
      "/home/luan/.cache/pypoetry/virtualenvs/apps-ZFymp6kh-py3.8/lib/python3.8/site-packages/django/db/models/fields/__init__.py:1424: RuntimeWarning: DateTimeField ToDo.created_at received a naive datetime (2024-03-21 20:18:01.091405) while time zone support is active.\n",
      "  warnings.warn(\"DateTimeField %s received a naive datetime (%s)\"\n"
     ]
    },
    {
     "name": "stdout",
     "output_type": "stream",
     "text": [
      "Procedure matching query does not exist.\n"
     ]
    },
    {
     "name": "stderr",
     "output_type": "stream",
     "text": [
      "WARNING\tProperty: Unknown Property name. [1:1: word-wrap]\n",
      "WARNING:CSSUTILS:Property: Unknown Property name. [1:1: word-wrap]\n"
     ]
    },
    {
     "name": "stdout",
     "output_type": "stream",
     "text": [
      "'NoneType' object has no attribute 'is_final'\n"
     ]
    },
    {
     "name": "stderr",
     "output_type": "stream",
     "text": [
      "/home/luan/.cache/pypoetry/virtualenvs/apps-ZFymp6kh-py3.8/lib/python3.8/site-packages/django/db/models/fields/__init__.py:1424: RuntimeWarning: DateTimeField OccurrenceRecord.datetime received a naive datetime (2015-10-07 00:00:00) while time zone support is active.\n",
      "  warnings.warn(\"DateTimeField %s received a naive datetime (%s)\"\n",
      "/home/luan/.cache/pypoetry/virtualenvs/apps-ZFymp6kh-py3.8/lib/python3.8/site-packages/django/db/models/fields/__init__.py:1424: RuntimeWarning: DateTimeField HistoricalOccurrenceRecord.datetime received a naive datetime (2015-10-07 00:00:00) while time zone support is active.\n",
      "  warnings.warn(\"DateTimeField %s received a naive datetime (%s)\"\n",
      "/home/luan/.cache/pypoetry/virtualenvs/apps-ZFymp6kh-py3.8/lib/python3.8/site-packages/django/db/models/fields/__init__.py:1424: RuntimeWarning: DateTimeField ServiceOrder.opened_at received a naive datetime (2024-03-22 08:18:02.417374) while time zone support is active.\n",
      "  warnings.warn(\"DateTimeField %s received a naive datetime (%s)\"\n",
      "/home/luan/.cache/pypoetry/virtualenvs/apps-ZFymp6kh-py3.8/lib/python3.8/site-packages/django/db/models/fields/__init__.py:1424: RuntimeWarning: DateTimeField HistoricalServiceOrder.opened_at received a naive datetime (2024-03-22 08:18:02.417374) while time zone support is active.\n",
      "  warnings.warn(\"DateTimeField %s received a naive datetime (%s)\"\n",
      "/home/luan/.cache/pypoetry/virtualenvs/apps-ZFymp6kh-py3.8/lib/python3.8/site-packages/django/db/models/fields/__init__.py:1424: RuntimeWarning: DateTimeField ToDo.created_at received a naive datetime (2024-03-21 20:18:02.528429) while time zone support is active.\n",
      "  warnings.warn(\"DateTimeField %s received a naive datetime (%s)\"\n"
     ]
    },
    {
     "name": "stdout",
     "output_type": "stream",
     "text": [
      "Procedure matching query does not exist.\n"
     ]
    },
    {
     "name": "stderr",
     "output_type": "stream",
     "text": [
      "WARNING\tProperty: Unknown Property name. [1:1: word-wrap]\n",
      "WARNING:CSSUTILS:Property: Unknown Property name. [1:1: word-wrap]\n"
     ]
    },
    {
     "name": "stdout",
     "output_type": "stream",
     "text": [
      "'NoneType' object has no attribute 'is_final'\n"
     ]
    },
    {
     "name": "stderr",
     "output_type": "stream",
     "text": [
      "/home/luan/.cache/pypoetry/virtualenvs/apps-ZFymp6kh-py3.8/lib/python3.8/site-packages/django/db/models/fields/__init__.py:1424: RuntimeWarning: DateTimeField OccurrenceRecord.datetime received a naive datetime (2015-11-18 00:00:00) while time zone support is active.\n",
      "  warnings.warn(\"DateTimeField %s received a naive datetime (%s)\"\n",
      "/home/luan/.cache/pypoetry/virtualenvs/apps-ZFymp6kh-py3.8/lib/python3.8/site-packages/django/db/models/fields/__init__.py:1424: RuntimeWarning: DateTimeField HistoricalOccurrenceRecord.datetime received a naive datetime (2015-11-18 00:00:00) while time zone support is active.\n",
      "  warnings.warn(\"DateTimeField %s received a naive datetime (%s)\"\n",
      "/home/luan/.cache/pypoetry/virtualenvs/apps-ZFymp6kh-py3.8/lib/python3.8/site-packages/django/db/models/fields/__init__.py:1424: RuntimeWarning: DateTimeField ServiceOrder.opened_at received a naive datetime (2024-03-22 08:18:03.875445) while time zone support is active.\n",
      "  warnings.warn(\"DateTimeField %s received a naive datetime (%s)\"\n",
      "/home/luan/.cache/pypoetry/virtualenvs/apps-ZFymp6kh-py3.8/lib/python3.8/site-packages/django/db/models/fields/__init__.py:1424: RuntimeWarning: DateTimeField HistoricalServiceOrder.opened_at received a naive datetime (2024-03-22 08:18:03.875445) while time zone support is active.\n",
      "  warnings.warn(\"DateTimeField %s received a naive datetime (%s)\"\n",
      "/home/luan/.cache/pypoetry/virtualenvs/apps-ZFymp6kh-py3.8/lib/python3.8/site-packages/django/db/models/fields/__init__.py:1424: RuntimeWarning: DateTimeField ToDo.created_at received a naive datetime (2024-03-21 20:18:03.977159) while time zone support is active.\n",
      "  warnings.warn(\"DateTimeField %s received a naive datetime (%s)\"\n"
     ]
    },
    {
     "name": "stdout",
     "output_type": "stream",
     "text": [
      "Procedure matching query does not exist.\n"
     ]
    },
    {
     "name": "stderr",
     "output_type": "stream",
     "text": [
      "WARNING\tProperty: Unknown Property name. [1:1: word-wrap]\n",
      "WARNING:CSSUTILS:Property: Unknown Property name. [1:1: word-wrap]\n"
     ]
    },
    {
     "name": "stdout",
     "output_type": "stream",
     "text": [
      "'NoneType' object has no attribute 'is_final'\n"
     ]
    },
    {
     "name": "stderr",
     "output_type": "stream",
     "text": [
      "/home/luan/.cache/pypoetry/virtualenvs/apps-ZFymp6kh-py3.8/lib/python3.8/site-packages/django/db/models/fields/__init__.py:1424: RuntimeWarning: DateTimeField OccurrenceRecord.datetime received a naive datetime (2015-11-26 00:00:00) while time zone support is active.\n",
      "  warnings.warn(\"DateTimeField %s received a naive datetime (%s)\"\n",
      "/home/luan/.cache/pypoetry/virtualenvs/apps-ZFymp6kh-py3.8/lib/python3.8/site-packages/django/db/models/fields/__init__.py:1424: RuntimeWarning: DateTimeField HistoricalOccurrenceRecord.datetime received a naive datetime (2015-11-26 00:00:00) while time zone support is active.\n",
      "  warnings.warn(\"DateTimeField %s received a naive datetime (%s)\"\n",
      "/home/luan/.cache/pypoetry/virtualenvs/apps-ZFymp6kh-py3.8/lib/python3.8/site-packages/django/db/models/fields/__init__.py:1424: RuntimeWarning: DateTimeField ServiceOrder.opened_at received a naive datetime (2024-03-22 08:18:05.657281) while time zone support is active.\n",
      "  warnings.warn(\"DateTimeField %s received a naive datetime (%s)\"\n",
      "/home/luan/.cache/pypoetry/virtualenvs/apps-ZFymp6kh-py3.8/lib/python3.8/site-packages/django/db/models/fields/__init__.py:1424: RuntimeWarning: DateTimeField HistoricalServiceOrder.opened_at received a naive datetime (2024-03-22 08:18:05.657281) while time zone support is active.\n",
      "  warnings.warn(\"DateTimeField %s received a naive datetime (%s)\"\n",
      "/home/luan/.cache/pypoetry/virtualenvs/apps-ZFymp6kh-py3.8/lib/python3.8/site-packages/django/db/models/fields/__init__.py:1424: RuntimeWarning: DateTimeField ToDo.created_at received a naive datetime (2024-03-21 20:18:05.762484) while time zone support is active.\n",
      "  warnings.warn(\"DateTimeField %s received a naive datetime (%s)\"\n"
     ]
    },
    {
     "name": "stdout",
     "output_type": "stream",
     "text": [
      "Procedure matching query does not exist.\n"
     ]
    },
    {
     "name": "stderr",
     "output_type": "stream",
     "text": [
      "WARNING\tProperty: Unknown Property name. [1:1: word-wrap]\n",
      "WARNING:CSSUTILS:Property: Unknown Property name. [1:1: word-wrap]\n"
     ]
    },
    {
     "name": "stdout",
     "output_type": "stream",
     "text": [
      "'NoneType' object has no attribute 'is_final'\n"
     ]
    },
    {
     "name": "stderr",
     "output_type": "stream",
     "text": [
      "/home/luan/.cache/pypoetry/virtualenvs/apps-ZFymp6kh-py3.8/lib/python3.8/site-packages/django/db/models/fields/__init__.py:1424: RuntimeWarning: DateTimeField OccurrenceRecord.datetime received a naive datetime (2015-12-01 00:00:00) while time zone support is active.\n",
      "  warnings.warn(\"DateTimeField %s received a naive datetime (%s)\"\n",
      "/home/luan/.cache/pypoetry/virtualenvs/apps-ZFymp6kh-py3.8/lib/python3.8/site-packages/django/db/models/fields/__init__.py:1424: RuntimeWarning: DateTimeField HistoricalOccurrenceRecord.datetime received a naive datetime (2015-12-01 00:00:00) while time zone support is active.\n",
      "  warnings.warn(\"DateTimeField %s received a naive datetime (%s)\"\n",
      "/home/luan/.cache/pypoetry/virtualenvs/apps-ZFymp6kh-py3.8/lib/python3.8/site-packages/django/db/models/fields/__init__.py:1424: RuntimeWarning: DateTimeField ServiceOrder.opened_at received a naive datetime (2024-03-22 08:18:07.257448) while time zone support is active.\n",
      "  warnings.warn(\"DateTimeField %s received a naive datetime (%s)\"\n",
      "/home/luan/.cache/pypoetry/virtualenvs/apps-ZFymp6kh-py3.8/lib/python3.8/site-packages/django/db/models/fields/__init__.py:1424: RuntimeWarning: DateTimeField HistoricalServiceOrder.opened_at received a naive datetime (2024-03-22 08:18:07.257448) while time zone support is active.\n",
      "  warnings.warn(\"DateTimeField %s received a naive datetime (%s)\"\n",
      "/home/luan/.cache/pypoetry/virtualenvs/apps-ZFymp6kh-py3.8/lib/python3.8/site-packages/django/db/models/fields/__init__.py:1424: RuntimeWarning: DateTimeField ToDo.created_at received a naive datetime (2024-03-21 20:18:07.365804) while time zone support is active.\n",
      "  warnings.warn(\"DateTimeField %s received a naive datetime (%s)\"\n"
     ]
    },
    {
     "name": "stdout",
     "output_type": "stream",
     "text": [
      "Procedure matching query does not exist.\n"
     ]
    },
    {
     "name": "stderr",
     "output_type": "stream",
     "text": [
      "WARNING\tProperty: Unknown Property name. [1:1: word-wrap]\n",
      "WARNING:CSSUTILS:Property: Unknown Property name. [1:1: word-wrap]\n"
     ]
    },
    {
     "name": "stdout",
     "output_type": "stream",
     "text": [
      "'NoneType' object has no attribute 'is_final'\n"
     ]
    },
    {
     "name": "stderr",
     "output_type": "stream",
     "text": [
      "/home/luan/.cache/pypoetry/virtualenvs/apps-ZFymp6kh-py3.8/lib/python3.8/site-packages/django/db/models/fields/__init__.py:1424: RuntimeWarning: DateTimeField OccurrenceRecord.datetime received a naive datetime (2016-01-20 00:00:00) while time zone support is active.\n",
      "  warnings.warn(\"DateTimeField %s received a naive datetime (%s)\"\n",
      "/home/luan/.cache/pypoetry/virtualenvs/apps-ZFymp6kh-py3.8/lib/python3.8/site-packages/django/db/models/fields/__init__.py:1424: RuntimeWarning: DateTimeField HistoricalOccurrenceRecord.datetime received a naive datetime (2016-01-20 00:00:00) while time zone support is active.\n",
      "  warnings.warn(\"DateTimeField %s received a naive datetime (%s)\"\n",
      "/home/luan/.cache/pypoetry/virtualenvs/apps-ZFymp6kh-py3.8/lib/python3.8/site-packages/django/db/models/fields/__init__.py:1424: RuntimeWarning: DateTimeField ServiceOrder.opened_at received a naive datetime (2024-03-22 08:18:08.623789) while time zone support is active.\n",
      "  warnings.warn(\"DateTimeField %s received a naive datetime (%s)\"\n",
      "/home/luan/.cache/pypoetry/virtualenvs/apps-ZFymp6kh-py3.8/lib/python3.8/site-packages/django/db/models/fields/__init__.py:1424: RuntimeWarning: DateTimeField HistoricalServiceOrder.opened_at received a naive datetime (2024-03-22 08:18:08.623789) while time zone support is active.\n",
      "  warnings.warn(\"DateTimeField %s received a naive datetime (%s)\"\n",
      "/home/luan/.cache/pypoetry/virtualenvs/apps-ZFymp6kh-py3.8/lib/python3.8/site-packages/django/db/models/fields/__init__.py:1424: RuntimeWarning: DateTimeField ToDo.created_at received a naive datetime (2024-03-21 20:18:08.724431) while time zone support is active.\n",
      "  warnings.warn(\"DateTimeField %s received a naive datetime (%s)\"\n"
     ]
    },
    {
     "name": "stdout",
     "output_type": "stream",
     "text": [
      "Procedure matching query does not exist.\n"
     ]
    },
    {
     "name": "stderr",
     "output_type": "stream",
     "text": [
      "WARNING\tProperty: Unknown Property name. [1:1: word-wrap]\n",
      "WARNING:CSSUTILS:Property: Unknown Property name. [1:1: word-wrap]\n"
     ]
    },
    {
     "name": "stdout",
     "output_type": "stream",
     "text": [
      "'NoneType' object has no attribute 'is_final'\n"
     ]
    },
    {
     "name": "stderr",
     "output_type": "stream",
     "text": [
      "/home/luan/.cache/pypoetry/virtualenvs/apps-ZFymp6kh-py3.8/lib/python3.8/site-packages/django/db/models/fields/__init__.py:1424: RuntimeWarning: DateTimeField ServiceOrder.opened_at received a naive datetime (2024-03-22 08:18:09.951407) while time zone support is active.\n",
      "  warnings.warn(\"DateTimeField %s received a naive datetime (%s)\"\n",
      "/home/luan/.cache/pypoetry/virtualenvs/apps-ZFymp6kh-py3.8/lib/python3.8/site-packages/django/db/models/fields/__init__.py:1424: RuntimeWarning: DateTimeField HistoricalServiceOrder.opened_at received a naive datetime (2024-03-22 08:18:09.951407) while time zone support is active.\n",
      "  warnings.warn(\"DateTimeField %s received a naive datetime (%s)\"\n",
      "/home/luan/.cache/pypoetry/virtualenvs/apps-ZFymp6kh-py3.8/lib/python3.8/site-packages/django/db/models/fields/__init__.py:1424: RuntimeWarning: DateTimeField ToDo.created_at received a naive datetime (2024-03-21 20:18:10.081027) while time zone support is active.\n",
      "  warnings.warn(\"DateTimeField %s received a naive datetime (%s)\"\n"
     ]
    },
    {
     "name": "stdout",
     "output_type": "stream",
     "text": [
      "Procedure matching query does not exist.\n"
     ]
    },
    {
     "name": "stderr",
     "output_type": "stream",
     "text": [
      "WARNING\tProperty: Unknown Property name. [1:1: word-wrap]\n",
      "WARNING:CSSUTILS:Property: Unknown Property name. [1:1: word-wrap]\n"
     ]
    },
    {
     "name": "stdout",
     "output_type": "stream",
     "text": [
      "'NoneType' object has no attribute 'is_final'\n"
     ]
    },
    {
     "name": "stderr",
     "output_type": "stream",
     "text": [
      "/home/luan/.cache/pypoetry/virtualenvs/apps-ZFymp6kh-py3.8/lib/python3.8/site-packages/django/db/models/fields/__init__.py:1424: RuntimeWarning: DateTimeField OccurrenceRecord.datetime received a naive datetime (2016-02-02 00:00:00) while time zone support is active.\n",
      "  warnings.warn(\"DateTimeField %s received a naive datetime (%s)\"\n",
      "/home/luan/.cache/pypoetry/virtualenvs/apps-ZFymp6kh-py3.8/lib/python3.8/site-packages/django/db/models/fields/__init__.py:1424: RuntimeWarning: DateTimeField HistoricalOccurrenceRecord.datetime received a naive datetime (2016-02-02 00:00:00) while time zone support is active.\n",
      "  warnings.warn(\"DateTimeField %s received a naive datetime (%s)\"\n",
      "/home/luan/.cache/pypoetry/virtualenvs/apps-ZFymp6kh-py3.8/lib/python3.8/site-packages/django/db/models/fields/__init__.py:1424: RuntimeWarning: DateTimeField ServiceOrder.opened_at received a naive datetime (2024-03-22 08:18:12.710392) while time zone support is active.\n",
      "  warnings.warn(\"DateTimeField %s received a naive datetime (%s)\"\n",
      "/home/luan/.cache/pypoetry/virtualenvs/apps-ZFymp6kh-py3.8/lib/python3.8/site-packages/django/db/models/fields/__init__.py:1424: RuntimeWarning: DateTimeField HistoricalServiceOrder.opened_at received a naive datetime (2024-03-22 08:18:12.710392) while time zone support is active.\n",
      "  warnings.warn(\"DateTimeField %s received a naive datetime (%s)\"\n",
      "/home/luan/.cache/pypoetry/virtualenvs/apps-ZFymp6kh-py3.8/lib/python3.8/site-packages/django/db/models/fields/__init__.py:1424: RuntimeWarning: DateTimeField ToDo.created_at received a naive datetime (2024-03-21 20:18:12.821184) while time zone support is active.\n",
      "  warnings.warn(\"DateTimeField %s received a naive datetime (%s)\"\n"
     ]
    },
    {
     "name": "stdout",
     "output_type": "stream",
     "text": [
      "Procedure matching query does not exist.\n"
     ]
    },
    {
     "name": "stderr",
     "output_type": "stream",
     "text": [
      "WARNING\tProperty: Unknown Property name. [1:1: word-wrap]\n",
      "WARNING:CSSUTILS:Property: Unknown Property name. [1:1: word-wrap]\n"
     ]
    },
    {
     "name": "stdout",
     "output_type": "stream",
     "text": [
      "'NoneType' object has no attribute 'is_final'\n"
     ]
    },
    {
     "name": "stderr",
     "output_type": "stream",
     "text": [
      "/home/luan/.cache/pypoetry/virtualenvs/apps-ZFymp6kh-py3.8/lib/python3.8/site-packages/django/db/models/fields/__init__.py:1424: RuntimeWarning: DateTimeField OccurrenceRecord.datetime received a naive datetime (2016-02-12 00:00:00) while time zone support is active.\n",
      "  warnings.warn(\"DateTimeField %s received a naive datetime (%s)\"\n",
      "/home/luan/.cache/pypoetry/virtualenvs/apps-ZFymp6kh-py3.8/lib/python3.8/site-packages/django/db/models/fields/__init__.py:1424: RuntimeWarning: DateTimeField HistoricalOccurrenceRecord.datetime received a naive datetime (2016-02-12 00:00:00) while time zone support is active.\n",
      "  warnings.warn(\"DateTimeField %s received a naive datetime (%s)\"\n",
      "/home/luan/.cache/pypoetry/virtualenvs/apps-ZFymp6kh-py3.8/lib/python3.8/site-packages/django/db/models/fields/__init__.py:1424: RuntimeWarning: DateTimeField ServiceOrder.opened_at received a naive datetime (2024-03-22 08:18:14.106191) while time zone support is active.\n",
      "  warnings.warn(\"DateTimeField %s received a naive datetime (%s)\"\n",
      "/home/luan/.cache/pypoetry/virtualenvs/apps-ZFymp6kh-py3.8/lib/python3.8/site-packages/django/db/models/fields/__init__.py:1424: RuntimeWarning: DateTimeField HistoricalServiceOrder.opened_at received a naive datetime (2024-03-22 08:18:14.106191) while time zone support is active.\n",
      "  warnings.warn(\"DateTimeField %s received a naive datetime (%s)\"\n",
      "/home/luan/.cache/pypoetry/virtualenvs/apps-ZFymp6kh-py3.8/lib/python3.8/site-packages/django/db/models/fields/__init__.py:1424: RuntimeWarning: DateTimeField ToDo.created_at received a naive datetime (2024-03-21 20:18:14.214137) while time zone support is active.\n",
      "  warnings.warn(\"DateTimeField %s received a naive datetime (%s)\"\n"
     ]
    },
    {
     "name": "stdout",
     "output_type": "stream",
     "text": [
      "Procedure matching query does not exist.\n"
     ]
    },
    {
     "name": "stderr",
     "output_type": "stream",
     "text": [
      "WARNING\tProperty: Unknown Property name. [1:1: word-wrap]\n",
      "WARNING:CSSUTILS:Property: Unknown Property name. [1:1: word-wrap]\n"
     ]
    },
    {
     "name": "stdout",
     "output_type": "stream",
     "text": [
      "'NoneType' object has no attribute 'is_final'\n"
     ]
    },
    {
     "name": "stderr",
     "output_type": "stream",
     "text": [
      "/home/luan/.cache/pypoetry/virtualenvs/apps-ZFymp6kh-py3.8/lib/python3.8/site-packages/django/db/models/fields/__init__.py:1424: RuntimeWarning: DateTimeField ServiceOrder.opened_at received a naive datetime (2024-03-22 08:18:15.494638) while time zone support is active.\n",
      "  warnings.warn(\"DateTimeField %s received a naive datetime (%s)\"\n",
      "/home/luan/.cache/pypoetry/virtualenvs/apps-ZFymp6kh-py3.8/lib/python3.8/site-packages/django/db/models/fields/__init__.py:1424: RuntimeWarning: DateTimeField HistoricalServiceOrder.opened_at received a naive datetime (2024-03-22 08:18:15.494638) while time zone support is active.\n",
      "  warnings.warn(\"DateTimeField %s received a naive datetime (%s)\"\n",
      "/home/luan/.cache/pypoetry/virtualenvs/apps-ZFymp6kh-py3.8/lib/python3.8/site-packages/django/db/models/fields/__init__.py:1424: RuntimeWarning: DateTimeField ToDo.created_at received a naive datetime (2024-03-21 20:18:15.602622) while time zone support is active.\n",
      "  warnings.warn(\"DateTimeField %s received a naive datetime (%s)\"\n"
     ]
    },
    {
     "name": "stdout",
     "output_type": "stream",
     "text": [
      "Procedure matching query does not exist.\n"
     ]
    },
    {
     "name": "stderr",
     "output_type": "stream",
     "text": [
      "WARNING\tProperty: Unknown Property name. [1:1: word-wrap]\n",
      "WARNING:CSSUTILS:Property: Unknown Property name. [1:1: word-wrap]\n"
     ]
    },
    {
     "name": "stdout",
     "output_type": "stream",
     "text": [
      "'NoneType' object has no attribute 'is_final'\n"
     ]
    },
    {
     "name": "stderr",
     "output_type": "stream",
     "text": [
      "/home/luan/.cache/pypoetry/virtualenvs/apps-ZFymp6kh-py3.8/lib/python3.8/site-packages/django/db/models/fields/__init__.py:1424: RuntimeWarning: DateTimeField OccurrenceRecord.datetime received a naive datetime (2016-02-16 00:00:00) while time zone support is active.\n",
      "  warnings.warn(\"DateTimeField %s received a naive datetime (%s)\"\n",
      "/home/luan/.cache/pypoetry/virtualenvs/apps-ZFymp6kh-py3.8/lib/python3.8/site-packages/django/db/models/fields/__init__.py:1424: RuntimeWarning: DateTimeField HistoricalOccurrenceRecord.datetime received a naive datetime (2016-02-16 00:00:00) while time zone support is active.\n",
      "  warnings.warn(\"DateTimeField %s received a naive datetime (%s)\"\n",
      "/home/luan/.cache/pypoetry/virtualenvs/apps-ZFymp6kh-py3.8/lib/python3.8/site-packages/django/db/models/fields/__init__.py:1424: RuntimeWarning: DateTimeField ServiceOrder.opened_at received a naive datetime (2024-03-22 08:18:16.951955) while time zone support is active.\n",
      "  warnings.warn(\"DateTimeField %s received a naive datetime (%s)\"\n",
      "/home/luan/.cache/pypoetry/virtualenvs/apps-ZFymp6kh-py3.8/lib/python3.8/site-packages/django/db/models/fields/__init__.py:1424: RuntimeWarning: DateTimeField HistoricalServiceOrder.opened_at received a naive datetime (2024-03-22 08:18:16.951955) while time zone support is active.\n",
      "  warnings.warn(\"DateTimeField %s received a naive datetime (%s)\"\n",
      "/home/luan/.cache/pypoetry/virtualenvs/apps-ZFymp6kh-py3.8/lib/python3.8/site-packages/django/db/models/fields/__init__.py:1424: RuntimeWarning: DateTimeField ToDo.created_at received a naive datetime (2024-03-21 20:18:17.059215) while time zone support is active.\n",
      "  warnings.warn(\"DateTimeField %s received a naive datetime (%s)\"\n"
     ]
    },
    {
     "name": "stdout",
     "output_type": "stream",
     "text": [
      "Procedure matching query does not exist.\n"
     ]
    },
    {
     "name": "stderr",
     "output_type": "stream",
     "text": [
      "WARNING\tProperty: Unknown Property name. [1:1: word-wrap]\n",
      "WARNING:CSSUTILS:Property: Unknown Property name. [1:1: word-wrap]\n"
     ]
    },
    {
     "name": "stdout",
     "output_type": "stream",
     "text": [
      "'NoneType' object has no attribute 'is_final'\n"
     ]
    },
    {
     "name": "stderr",
     "output_type": "stream",
     "text": [
      "/home/luan/.cache/pypoetry/virtualenvs/apps-ZFymp6kh-py3.8/lib/python3.8/site-packages/django/db/models/fields/__init__.py:1424: RuntimeWarning: DateTimeField ServiceOrder.opened_at received a naive datetime (2024-03-22 08:18:18.391346) while time zone support is active.\n",
      "  warnings.warn(\"DateTimeField %s received a naive datetime (%s)\"\n",
      "/home/luan/.cache/pypoetry/virtualenvs/apps-ZFymp6kh-py3.8/lib/python3.8/site-packages/django/db/models/fields/__init__.py:1424: RuntimeWarning: DateTimeField HistoricalServiceOrder.opened_at received a naive datetime (2024-03-22 08:18:18.391346) while time zone support is active.\n",
      "  warnings.warn(\"DateTimeField %s received a naive datetime (%s)\"\n",
      "/home/luan/.cache/pypoetry/virtualenvs/apps-ZFymp6kh-py3.8/lib/python3.8/site-packages/django/db/models/fields/__init__.py:1424: RuntimeWarning: DateTimeField ToDo.created_at received a naive datetime (2024-03-21 20:18:18.494188) while time zone support is active.\n",
      "  warnings.warn(\"DateTimeField %s received a naive datetime (%s)\"\n"
     ]
    },
    {
     "name": "stdout",
     "output_type": "stream",
     "text": [
      "Procedure matching query does not exist.\n"
     ]
    },
    {
     "name": "stderr",
     "output_type": "stream",
     "text": [
      "WARNING\tProperty: Unknown Property name. [1:1: word-wrap]\n",
      "WARNING:CSSUTILS:Property: Unknown Property name. [1:1: word-wrap]\n"
     ]
    },
    {
     "name": "stdout",
     "output_type": "stream",
     "text": [
      "'NoneType' object has no attribute 'is_final'\n"
     ]
    },
    {
     "name": "stderr",
     "output_type": "stream",
     "text": [
      "/home/luan/.cache/pypoetry/virtualenvs/apps-ZFymp6kh-py3.8/lib/python3.8/site-packages/django/db/models/fields/__init__.py:1424: RuntimeWarning: DateTimeField OccurrenceRecord.datetime received a naive datetime (2016-02-23 00:00:00) while time zone support is active.\n",
      "  warnings.warn(\"DateTimeField %s received a naive datetime (%s)\"\n",
      "/home/luan/.cache/pypoetry/virtualenvs/apps-ZFymp6kh-py3.8/lib/python3.8/site-packages/django/db/models/fields/__init__.py:1424: RuntimeWarning: DateTimeField HistoricalOccurrenceRecord.datetime received a naive datetime (2016-02-23 00:00:00) while time zone support is active.\n",
      "  warnings.warn(\"DateTimeField %s received a naive datetime (%s)\"\n",
      "/home/luan/.cache/pypoetry/virtualenvs/apps-ZFymp6kh-py3.8/lib/python3.8/site-packages/django/db/models/fields/__init__.py:1424: RuntimeWarning: DateTimeField ServiceOrder.opened_at received a naive datetime (2024-03-22 08:18:19.841508) while time zone support is active.\n",
      "  warnings.warn(\"DateTimeField %s received a naive datetime (%s)\"\n",
      "/home/luan/.cache/pypoetry/virtualenvs/apps-ZFymp6kh-py3.8/lib/python3.8/site-packages/django/db/models/fields/__init__.py:1424: RuntimeWarning: DateTimeField HistoricalServiceOrder.opened_at received a naive datetime (2024-03-22 08:18:19.841508) while time zone support is active.\n",
      "  warnings.warn(\"DateTimeField %s received a naive datetime (%s)\"\n",
      "/home/luan/.cache/pypoetry/virtualenvs/apps-ZFymp6kh-py3.8/lib/python3.8/site-packages/django/db/models/fields/__init__.py:1424: RuntimeWarning: DateTimeField ToDo.created_at received a naive datetime (2024-03-21 20:18:19.949993) while time zone support is active.\n",
      "  warnings.warn(\"DateTimeField %s received a naive datetime (%s)\"\n"
     ]
    },
    {
     "name": "stdout",
     "output_type": "stream",
     "text": [
      "Procedure matching query does not exist.\n"
     ]
    },
    {
     "name": "stderr",
     "output_type": "stream",
     "text": [
      "WARNING\tProperty: Unknown Property name. [1:1: word-wrap]\n",
      "WARNING:CSSUTILS:Property: Unknown Property name. [1:1: word-wrap]\n"
     ]
    },
    {
     "name": "stdout",
     "output_type": "stream",
     "text": [
      "'NoneType' object has no attribute 'is_final'\n"
     ]
    },
    {
     "name": "stderr",
     "output_type": "stream",
     "text": [
      "/home/luan/.cache/pypoetry/virtualenvs/apps-ZFymp6kh-py3.8/lib/python3.8/site-packages/django/db/models/fields/__init__.py:1424: RuntimeWarning: DateTimeField OccurrenceRecord.datetime received a naive datetime (2016-04-15 00:00:00) while time zone support is active.\n",
      "  warnings.warn(\"DateTimeField %s received a naive datetime (%s)\"\n",
      "/home/luan/.cache/pypoetry/virtualenvs/apps-ZFymp6kh-py3.8/lib/python3.8/site-packages/django/db/models/fields/__init__.py:1424: RuntimeWarning: DateTimeField HistoricalOccurrenceRecord.datetime received a naive datetime (2016-04-15 00:00:00) while time zone support is active.\n",
      "  warnings.warn(\"DateTimeField %s received a naive datetime (%s)\"\n",
      "/home/luan/.cache/pypoetry/virtualenvs/apps-ZFymp6kh-py3.8/lib/python3.8/site-packages/django/db/models/fields/__init__.py:1424: RuntimeWarning: DateTimeField ServiceOrder.opened_at received a naive datetime (2024-03-22 08:18:21.231523) while time zone support is active.\n",
      "  warnings.warn(\"DateTimeField %s received a naive datetime (%s)\"\n",
      "/home/luan/.cache/pypoetry/virtualenvs/apps-ZFymp6kh-py3.8/lib/python3.8/site-packages/django/db/models/fields/__init__.py:1424: RuntimeWarning: DateTimeField HistoricalServiceOrder.opened_at received a naive datetime (2024-03-22 08:18:21.231523) while time zone support is active.\n",
      "  warnings.warn(\"DateTimeField %s received a naive datetime (%s)\"\n",
      "/home/luan/.cache/pypoetry/virtualenvs/apps-ZFymp6kh-py3.8/lib/python3.8/site-packages/django/db/models/fields/__init__.py:1424: RuntimeWarning: DateTimeField ToDo.created_at received a naive datetime (2024-03-21 20:18:21.335382) while time zone support is active.\n",
      "  warnings.warn(\"DateTimeField %s received a naive datetime (%s)\"\n"
     ]
    },
    {
     "name": "stdout",
     "output_type": "stream",
     "text": [
      "Procedure matching query does not exist.\n"
     ]
    },
    {
     "name": "stderr",
     "output_type": "stream",
     "text": [
      "WARNING\tProperty: Unknown Property name. [1:1: word-wrap]\n",
      "WARNING:CSSUTILS:Property: Unknown Property name. [1:1: word-wrap]\n"
     ]
    },
    {
     "name": "stdout",
     "output_type": "stream",
     "text": [
      "'NoneType' object has no attribute 'is_final'\n"
     ]
    },
    {
     "name": "stderr",
     "output_type": "stream",
     "text": [
      "/home/luan/.cache/pypoetry/virtualenvs/apps-ZFymp6kh-py3.8/lib/python3.8/site-packages/django/db/models/fields/__init__.py:1424: RuntimeWarning: DateTimeField ServiceOrder.opened_at received a naive datetime (2024-03-22 08:18:22.595117) while time zone support is active.\n",
      "  warnings.warn(\"DateTimeField %s received a naive datetime (%s)\"\n",
      "/home/luan/.cache/pypoetry/virtualenvs/apps-ZFymp6kh-py3.8/lib/python3.8/site-packages/django/db/models/fields/__init__.py:1424: RuntimeWarning: DateTimeField HistoricalServiceOrder.opened_at received a naive datetime (2024-03-22 08:18:22.595117) while time zone support is active.\n",
      "  warnings.warn(\"DateTimeField %s received a naive datetime (%s)\"\n",
      "/home/luan/.cache/pypoetry/virtualenvs/apps-ZFymp6kh-py3.8/lib/python3.8/site-packages/django/db/models/fields/__init__.py:1424: RuntimeWarning: DateTimeField ToDo.created_at received a naive datetime (2024-03-21 20:18:22.699321) while time zone support is active.\n",
      "  warnings.warn(\"DateTimeField %s received a naive datetime (%s)\"\n"
     ]
    },
    {
     "name": "stdout",
     "output_type": "stream",
     "text": [
      "Procedure matching query does not exist.\n"
     ]
    },
    {
     "name": "stderr",
     "output_type": "stream",
     "text": [
      "WARNING\tProperty: Unknown Property name. [1:1: word-wrap]\n",
      "WARNING:CSSUTILS:Property: Unknown Property name. [1:1: word-wrap]\n"
     ]
    },
    {
     "name": "stdout",
     "output_type": "stream",
     "text": [
      "'NoneType' object has no attribute 'is_final'\n"
     ]
    },
    {
     "name": "stderr",
     "output_type": "stream",
     "text": [
      "/home/luan/.cache/pypoetry/virtualenvs/apps-ZFymp6kh-py3.8/lib/python3.8/site-packages/django/db/models/fields/__init__.py:1424: RuntimeWarning: DateTimeField OccurrenceRecord.datetime received a naive datetime (2016-04-19 00:00:00) while time zone support is active.\n",
      "  warnings.warn(\"DateTimeField %s received a naive datetime (%s)\"\n",
      "/home/luan/.cache/pypoetry/virtualenvs/apps-ZFymp6kh-py3.8/lib/python3.8/site-packages/django/db/models/fields/__init__.py:1424: RuntimeWarning: DateTimeField HistoricalOccurrenceRecord.datetime received a naive datetime (2016-04-19 00:00:00) while time zone support is active.\n",
      "  warnings.warn(\"DateTimeField %s received a naive datetime (%s)\"\n",
      "/home/luan/.cache/pypoetry/virtualenvs/apps-ZFymp6kh-py3.8/lib/python3.8/site-packages/django/db/models/fields/__init__.py:1424: RuntimeWarning: DateTimeField ServiceOrder.opened_at received a naive datetime (2024-03-22 08:18:25.239967) while time zone support is active.\n",
      "  warnings.warn(\"DateTimeField %s received a naive datetime (%s)\"\n",
      "/home/luan/.cache/pypoetry/virtualenvs/apps-ZFymp6kh-py3.8/lib/python3.8/site-packages/django/db/models/fields/__init__.py:1424: RuntimeWarning: DateTimeField HistoricalServiceOrder.opened_at received a naive datetime (2024-03-22 08:18:25.239967) while time zone support is active.\n",
      "  warnings.warn(\"DateTimeField %s received a naive datetime (%s)\"\n",
      "/home/luan/.cache/pypoetry/virtualenvs/apps-ZFymp6kh-py3.8/lib/python3.8/site-packages/django/db/models/fields/__init__.py:1424: RuntimeWarning: DateTimeField ToDo.created_at received a naive datetime (2024-03-21 20:18:25.347261) while time zone support is active.\n",
      "  warnings.warn(\"DateTimeField %s received a naive datetime (%s)\"\n"
     ]
    },
    {
     "name": "stdout",
     "output_type": "stream",
     "text": [
      "Procedure matching query does not exist.\n"
     ]
    },
    {
     "name": "stderr",
     "output_type": "stream",
     "text": [
      "WARNING\tProperty: Unknown Property name. [1:1: word-wrap]\n",
      "WARNING:CSSUTILS:Property: Unknown Property name. [1:1: word-wrap]\n"
     ]
    },
    {
     "name": "stdout",
     "output_type": "stream",
     "text": [
      "'NoneType' object has no attribute 'is_final'\n"
     ]
    },
    {
     "name": "stderr",
     "output_type": "stream",
     "text": [
      "/home/luan/.cache/pypoetry/virtualenvs/apps-ZFymp6kh-py3.8/lib/python3.8/site-packages/django/db/models/fields/__init__.py:1424: RuntimeWarning: DateTimeField OccurrenceRecord.datetime received a naive datetime (2016-04-25 00:00:00) while time zone support is active.\n",
      "  warnings.warn(\"DateTimeField %s received a naive datetime (%s)\"\n",
      "/home/luan/.cache/pypoetry/virtualenvs/apps-ZFymp6kh-py3.8/lib/python3.8/site-packages/django/db/models/fields/__init__.py:1424: RuntimeWarning: DateTimeField HistoricalOccurrenceRecord.datetime received a naive datetime (2016-04-25 00:00:00) while time zone support is active.\n",
      "  warnings.warn(\"DateTimeField %s received a naive datetime (%s)\"\n",
      "/home/luan/.cache/pypoetry/virtualenvs/apps-ZFymp6kh-py3.8/lib/python3.8/site-packages/django/db/models/fields/__init__.py:1424: RuntimeWarning: DateTimeField ServiceOrder.opened_at received a naive datetime (2024-03-22 08:18:27.918597) while time zone support is active.\n",
      "  warnings.warn(\"DateTimeField %s received a naive datetime (%s)\"\n",
      "/home/luan/.cache/pypoetry/virtualenvs/apps-ZFymp6kh-py3.8/lib/python3.8/site-packages/django/db/models/fields/__init__.py:1424: RuntimeWarning: DateTimeField HistoricalServiceOrder.opened_at received a naive datetime (2024-03-22 08:18:27.918597) while time zone support is active.\n",
      "  warnings.warn(\"DateTimeField %s received a naive datetime (%s)\"\n",
      "/home/luan/.cache/pypoetry/virtualenvs/apps-ZFymp6kh-py3.8/lib/python3.8/site-packages/django/db/models/fields/__init__.py:1424: RuntimeWarning: DateTimeField ToDo.created_at received a naive datetime (2024-03-21 20:18:28.030856) while time zone support is active.\n",
      "  warnings.warn(\"DateTimeField %s received a naive datetime (%s)\"\n"
     ]
    },
    {
     "name": "stdout",
     "output_type": "stream",
     "text": [
      "Procedure matching query does not exist.\n"
     ]
    },
    {
     "name": "stderr",
     "output_type": "stream",
     "text": [
      "WARNING\tProperty: Unknown Property name. [1:1: word-wrap]\n",
      "WARNING:CSSUTILS:Property: Unknown Property name. [1:1: word-wrap]\n"
     ]
    },
    {
     "name": "stdout",
     "output_type": "stream",
     "text": [
      "'NoneType' object has no attribute 'is_final'\n"
     ]
    },
    {
     "name": "stderr",
     "output_type": "stream",
     "text": [
      "/home/luan/.cache/pypoetry/virtualenvs/apps-ZFymp6kh-py3.8/lib/python3.8/site-packages/django/db/models/fields/__init__.py:1424: RuntimeWarning: DateTimeField ServiceOrder.opened_at received a naive datetime (2024-03-22 08:18:30.697424) while time zone support is active.\n",
      "  warnings.warn(\"DateTimeField %s received a naive datetime (%s)\"\n",
      "/home/luan/.cache/pypoetry/virtualenvs/apps-ZFymp6kh-py3.8/lib/python3.8/site-packages/django/db/models/fields/__init__.py:1424: RuntimeWarning: DateTimeField HistoricalServiceOrder.opened_at received a naive datetime (2024-03-22 08:18:30.697424) while time zone support is active.\n",
      "  warnings.warn(\"DateTimeField %s received a naive datetime (%s)\"\n",
      "/home/luan/.cache/pypoetry/virtualenvs/apps-ZFymp6kh-py3.8/lib/python3.8/site-packages/django/db/models/fields/__init__.py:1424: RuntimeWarning: DateTimeField ToDo.created_at received a naive datetime (2024-03-21 20:18:30.801089) while time zone support is active.\n",
      "  warnings.warn(\"DateTimeField %s received a naive datetime (%s)\"\n"
     ]
    },
    {
     "name": "stdout",
     "output_type": "stream",
     "text": [
      "Procedure matching query does not exist.\n"
     ]
    },
    {
     "name": "stderr",
     "output_type": "stream",
     "text": [
      "WARNING\tProperty: Unknown Property name. [1:1: word-wrap]\n",
      "WARNING:CSSUTILS:Property: Unknown Property name. [1:1: word-wrap]\n"
     ]
    },
    {
     "name": "stdout",
     "output_type": "stream",
     "text": [
      "'NoneType' object has no attribute 'is_final'\n"
     ]
    },
    {
     "name": "stderr",
     "output_type": "stream",
     "text": [
      "/home/luan/.cache/pypoetry/virtualenvs/apps-ZFymp6kh-py3.8/lib/python3.8/site-packages/django/db/models/fields/__init__.py:1424: RuntimeWarning: DateTimeField OccurrenceRecord.datetime received a naive datetime (2016-05-03 00:00:00) while time zone support is active.\n",
      "  warnings.warn(\"DateTimeField %s received a naive datetime (%s)\"\n",
      "/home/luan/.cache/pypoetry/virtualenvs/apps-ZFymp6kh-py3.8/lib/python3.8/site-packages/django/db/models/fields/__init__.py:1424: RuntimeWarning: DateTimeField HistoricalOccurrenceRecord.datetime received a naive datetime (2016-05-03 00:00:00) while time zone support is active.\n",
      "  warnings.warn(\"DateTimeField %s received a naive datetime (%s)\"\n",
      "/home/luan/.cache/pypoetry/virtualenvs/apps-ZFymp6kh-py3.8/lib/python3.8/site-packages/django/db/models/fields/__init__.py:1424: RuntimeWarning: DateTimeField ServiceOrder.opened_at received a naive datetime (2024-03-22 08:18:32.085651) while time zone support is active.\n",
      "  warnings.warn(\"DateTimeField %s received a naive datetime (%s)\"\n",
      "/home/luan/.cache/pypoetry/virtualenvs/apps-ZFymp6kh-py3.8/lib/python3.8/site-packages/django/db/models/fields/__init__.py:1424: RuntimeWarning: DateTimeField HistoricalServiceOrder.opened_at received a naive datetime (2024-03-22 08:18:32.085651) while time zone support is active.\n",
      "  warnings.warn(\"DateTimeField %s received a naive datetime (%s)\"\n",
      "/home/luan/.cache/pypoetry/virtualenvs/apps-ZFymp6kh-py3.8/lib/python3.8/site-packages/django/db/models/fields/__init__.py:1424: RuntimeWarning: DateTimeField ToDo.created_at received a naive datetime (2024-03-21 20:18:32.196912) while time zone support is active.\n",
      "  warnings.warn(\"DateTimeField %s received a naive datetime (%s)\"\n"
     ]
    },
    {
     "name": "stdout",
     "output_type": "stream",
     "text": [
      "Procedure matching query does not exist.\n"
     ]
    },
    {
     "name": "stderr",
     "output_type": "stream",
     "text": [
      "WARNING\tProperty: Unknown Property name. [1:1: word-wrap]\n",
      "WARNING:CSSUTILS:Property: Unknown Property name. [1:1: word-wrap]\n"
     ]
    },
    {
     "name": "stdout",
     "output_type": "stream",
     "text": [
      "'NoneType' object has no attribute 'is_final'\n"
     ]
    },
    {
     "name": "stderr",
     "output_type": "stream",
     "text": [
      "/home/luan/.cache/pypoetry/virtualenvs/apps-ZFymp6kh-py3.8/lib/python3.8/site-packages/django/db/models/fields/__init__.py:1424: RuntimeWarning: DateTimeField OccurrenceRecord.datetime received a naive datetime (2016-05-18 00:00:00) while time zone support is active.\n",
      "  warnings.warn(\"DateTimeField %s received a naive datetime (%s)\"\n",
      "/home/luan/.cache/pypoetry/virtualenvs/apps-ZFymp6kh-py3.8/lib/python3.8/site-packages/django/db/models/fields/__init__.py:1424: RuntimeWarning: DateTimeField HistoricalOccurrenceRecord.datetime received a naive datetime (2016-05-18 00:00:00) while time zone support is active.\n",
      "  warnings.warn(\"DateTimeField %s received a naive datetime (%s)\"\n",
      "/home/luan/.cache/pypoetry/virtualenvs/apps-ZFymp6kh-py3.8/lib/python3.8/site-packages/django/db/models/fields/__init__.py:1424: RuntimeWarning: DateTimeField ServiceOrder.opened_at received a naive datetime (2024-03-22 08:18:33.547641) while time zone support is active.\n",
      "  warnings.warn(\"DateTimeField %s received a naive datetime (%s)\"\n",
      "/home/luan/.cache/pypoetry/virtualenvs/apps-ZFymp6kh-py3.8/lib/python3.8/site-packages/django/db/models/fields/__init__.py:1424: RuntimeWarning: DateTimeField HistoricalServiceOrder.opened_at received a naive datetime (2024-03-22 08:18:33.547641) while time zone support is active.\n",
      "  warnings.warn(\"DateTimeField %s received a naive datetime (%s)\"\n",
      "/home/luan/.cache/pypoetry/virtualenvs/apps-ZFymp6kh-py3.8/lib/python3.8/site-packages/django/db/models/fields/__init__.py:1424: RuntimeWarning: DateTimeField ToDo.created_at received a naive datetime (2024-03-21 20:18:33.654846) while time zone support is active.\n",
      "  warnings.warn(\"DateTimeField %s received a naive datetime (%s)\"\n"
     ]
    },
    {
     "name": "stdout",
     "output_type": "stream",
     "text": [
      "Procedure matching query does not exist.\n"
     ]
    },
    {
     "name": "stderr",
     "output_type": "stream",
     "text": [
      "WARNING\tProperty: Unknown Property name. [1:1: word-wrap]\n",
      "WARNING:CSSUTILS:Property: Unknown Property name. [1:1: word-wrap]\n"
     ]
    },
    {
     "name": "stdout",
     "output_type": "stream",
     "text": [
      "'NoneType' object has no attribute 'is_final'\n"
     ]
    },
    {
     "name": "stderr",
     "output_type": "stream",
     "text": [
      "/home/luan/.cache/pypoetry/virtualenvs/apps-ZFymp6kh-py3.8/lib/python3.8/site-packages/django/db/models/fields/__init__.py:1424: RuntimeWarning: DateTimeField OccurrenceRecord.datetime received a naive datetime (2016-06-02 00:00:00) while time zone support is active.\n",
      "  warnings.warn(\"DateTimeField %s received a naive datetime (%s)\"\n",
      "/home/luan/.cache/pypoetry/virtualenvs/apps-ZFymp6kh-py3.8/lib/python3.8/site-packages/django/db/models/fields/__init__.py:1424: RuntimeWarning: DateTimeField HistoricalOccurrenceRecord.datetime received a naive datetime (2016-06-02 00:00:00) while time zone support is active.\n",
      "  warnings.warn(\"DateTimeField %s received a naive datetime (%s)\"\n",
      "/home/luan/.cache/pypoetry/virtualenvs/apps-ZFymp6kh-py3.8/lib/python3.8/site-packages/django/db/models/fields/__init__.py:1424: RuntimeWarning: DateTimeField ServiceOrder.opened_at received a naive datetime (2024-03-22 08:18:34.976095) while time zone support is active.\n",
      "  warnings.warn(\"DateTimeField %s received a naive datetime (%s)\"\n",
      "/home/luan/.cache/pypoetry/virtualenvs/apps-ZFymp6kh-py3.8/lib/python3.8/site-packages/django/db/models/fields/__init__.py:1424: RuntimeWarning: DateTimeField HistoricalServiceOrder.opened_at received a naive datetime (2024-03-22 08:18:34.976095) while time zone support is active.\n",
      "  warnings.warn(\"DateTimeField %s received a naive datetime (%s)\"\n",
      "/home/luan/.cache/pypoetry/virtualenvs/apps-ZFymp6kh-py3.8/lib/python3.8/site-packages/django/db/models/fields/__init__.py:1424: RuntimeWarning: DateTimeField ToDo.created_at received a naive datetime (2024-03-21 20:18:35.092612) while time zone support is active.\n",
      "  warnings.warn(\"DateTimeField %s received a naive datetime (%s)\"\n"
     ]
    },
    {
     "name": "stdout",
     "output_type": "stream",
     "text": [
      "Procedure matching query does not exist.\n"
     ]
    },
    {
     "name": "stderr",
     "output_type": "stream",
     "text": [
      "WARNING\tProperty: Unknown Property name. [1:1: word-wrap]\n",
      "WARNING:CSSUTILS:Property: Unknown Property name. [1:1: word-wrap]\n"
     ]
    },
    {
     "name": "stdout",
     "output_type": "stream",
     "text": [
      "'NoneType' object has no attribute 'is_final'\n"
     ]
    },
    {
     "name": "stderr",
     "output_type": "stream",
     "text": [
      "/home/luan/.cache/pypoetry/virtualenvs/apps-ZFymp6kh-py3.8/lib/python3.8/site-packages/django/db/models/fields/__init__.py:1424: RuntimeWarning: DateTimeField ServiceOrder.opened_at received a naive datetime (2024-03-22 08:18:36.462910) while time zone support is active.\n",
      "  warnings.warn(\"DateTimeField %s received a naive datetime (%s)\"\n",
      "/home/luan/.cache/pypoetry/virtualenvs/apps-ZFymp6kh-py3.8/lib/python3.8/site-packages/django/db/models/fields/__init__.py:1424: RuntimeWarning: DateTimeField HistoricalServiceOrder.opened_at received a naive datetime (2024-03-22 08:18:36.462910) while time zone support is active.\n",
      "  warnings.warn(\"DateTimeField %s received a naive datetime (%s)\"\n",
      "/home/luan/.cache/pypoetry/virtualenvs/apps-ZFymp6kh-py3.8/lib/python3.8/site-packages/django/db/models/fields/__init__.py:1424: RuntimeWarning: DateTimeField ToDo.created_at received a naive datetime (2024-03-21 20:18:36.574119) while time zone support is active.\n",
      "  warnings.warn(\"DateTimeField %s received a naive datetime (%s)\"\n"
     ]
    },
    {
     "name": "stdout",
     "output_type": "stream",
     "text": [
      "Procedure matching query does not exist.\n"
     ]
    },
    {
     "name": "stderr",
     "output_type": "stream",
     "text": [
      "WARNING\tProperty: Unknown Property name. [1:1: word-wrap]\n",
      "WARNING:CSSUTILS:Property: Unknown Property name. [1:1: word-wrap]\n"
     ]
    },
    {
     "name": "stdout",
     "output_type": "stream",
     "text": [
      "'NoneType' object has no attribute 'is_final'\n"
     ]
    },
    {
     "name": "stderr",
     "output_type": "stream",
     "text": [
      "/home/luan/.cache/pypoetry/virtualenvs/apps-ZFymp6kh-py3.8/lib/python3.8/site-packages/django/db/models/fields/__init__.py:1424: RuntimeWarning: DateTimeField OccurrenceRecord.datetime received a naive datetime (2016-07-12 00:00:00) while time zone support is active.\n",
      "  warnings.warn(\"DateTimeField %s received a naive datetime (%s)\"\n",
      "/home/luan/.cache/pypoetry/virtualenvs/apps-ZFymp6kh-py3.8/lib/python3.8/site-packages/django/db/models/fields/__init__.py:1424: RuntimeWarning: DateTimeField HistoricalOccurrenceRecord.datetime received a naive datetime (2016-07-12 00:00:00) while time zone support is active.\n",
      "  warnings.warn(\"DateTimeField %s received a naive datetime (%s)\"\n",
      "/home/luan/.cache/pypoetry/virtualenvs/apps-ZFymp6kh-py3.8/lib/python3.8/site-packages/django/db/models/fields/__init__.py:1424: RuntimeWarning: DateTimeField ServiceOrder.opened_at received a naive datetime (2024-03-22 08:18:37.967027) while time zone support is active.\n",
      "  warnings.warn(\"DateTimeField %s received a naive datetime (%s)\"\n",
      "/home/luan/.cache/pypoetry/virtualenvs/apps-ZFymp6kh-py3.8/lib/python3.8/site-packages/django/db/models/fields/__init__.py:1424: RuntimeWarning: DateTimeField HistoricalServiceOrder.opened_at received a naive datetime (2024-03-22 08:18:37.967027) while time zone support is active.\n",
      "  warnings.warn(\"DateTimeField %s received a naive datetime (%s)\"\n",
      "/home/luan/.cache/pypoetry/virtualenvs/apps-ZFymp6kh-py3.8/lib/python3.8/site-packages/django/db/models/fields/__init__.py:1424: RuntimeWarning: DateTimeField ToDo.created_at received a naive datetime (2024-03-21 20:18:38.103434) while time zone support is active.\n",
      "  warnings.warn(\"DateTimeField %s received a naive datetime (%s)\"\n"
     ]
    },
    {
     "name": "stdout",
     "output_type": "stream",
     "text": [
      "Procedure matching query does not exist.\n"
     ]
    },
    {
     "name": "stderr",
     "output_type": "stream",
     "text": [
      "WARNING\tProperty: Unknown Property name. [1:1: word-wrap]\n",
      "WARNING:CSSUTILS:Property: Unknown Property name. [1:1: word-wrap]\n"
     ]
    },
    {
     "name": "stdout",
     "output_type": "stream",
     "text": [
      "'NoneType' object has no attribute 'is_final'\n"
     ]
    },
    {
     "name": "stderr",
     "output_type": "stream",
     "text": [
      "/home/luan/.cache/pypoetry/virtualenvs/apps-ZFymp6kh-py3.8/lib/python3.8/site-packages/django/db/models/fields/__init__.py:1424: RuntimeWarning: DateTimeField OccurrenceRecord.datetime received a naive datetime (2016-07-13 00:00:00) while time zone support is active.\n",
      "  warnings.warn(\"DateTimeField %s received a naive datetime (%s)\"\n",
      "/home/luan/.cache/pypoetry/virtualenvs/apps-ZFymp6kh-py3.8/lib/python3.8/site-packages/django/db/models/fields/__init__.py:1424: RuntimeWarning: DateTimeField HistoricalOccurrenceRecord.datetime received a naive datetime (2016-07-13 00:00:00) while time zone support is active.\n",
      "  warnings.warn(\"DateTimeField %s received a naive datetime (%s)\"\n",
      "/home/luan/.cache/pypoetry/virtualenvs/apps-ZFymp6kh-py3.8/lib/python3.8/site-packages/django/db/models/fields/__init__.py:1424: RuntimeWarning: DateTimeField ServiceOrder.opened_at received a naive datetime (2024-03-22 08:18:39.540277) while time zone support is active.\n",
      "  warnings.warn(\"DateTimeField %s received a naive datetime (%s)\"\n",
      "/home/luan/.cache/pypoetry/virtualenvs/apps-ZFymp6kh-py3.8/lib/python3.8/site-packages/django/db/models/fields/__init__.py:1424: RuntimeWarning: DateTimeField HistoricalServiceOrder.opened_at received a naive datetime (2024-03-22 08:18:39.540277) while time zone support is active.\n",
      "  warnings.warn(\"DateTimeField %s received a naive datetime (%s)\"\n",
      "/home/luan/.cache/pypoetry/virtualenvs/apps-ZFymp6kh-py3.8/lib/python3.8/site-packages/django/db/models/fields/__init__.py:1424: RuntimeWarning: DateTimeField ToDo.created_at received a naive datetime (2024-03-21 20:18:39.640635) while time zone support is active.\n",
      "  warnings.warn(\"DateTimeField %s received a naive datetime (%s)\"\n"
     ]
    },
    {
     "name": "stdout",
     "output_type": "stream",
     "text": [
      "Procedure matching query does not exist.\n"
     ]
    },
    {
     "name": "stderr",
     "output_type": "stream",
     "text": [
      "WARNING\tProperty: Unknown Property name. [1:1: word-wrap]\n",
      "WARNING:CSSUTILS:Property: Unknown Property name. [1:1: word-wrap]\n"
     ]
    },
    {
     "name": "stdout",
     "output_type": "stream",
     "text": [
      "'NoneType' object has no attribute 'is_final'\n"
     ]
    },
    {
     "name": "stderr",
     "output_type": "stream",
     "text": [
      "/home/luan/.cache/pypoetry/virtualenvs/apps-ZFymp6kh-py3.8/lib/python3.8/site-packages/django/db/models/fields/__init__.py:1424: RuntimeWarning: DateTimeField OccurrenceRecord.datetime received a naive datetime (2016-07-28 00:00:00) while time zone support is active.\n",
      "  warnings.warn(\"DateTimeField %s received a naive datetime (%s)\"\n",
      "/home/luan/.cache/pypoetry/virtualenvs/apps-ZFymp6kh-py3.8/lib/python3.8/site-packages/django/db/models/fields/__init__.py:1424: RuntimeWarning: DateTimeField HistoricalOccurrenceRecord.datetime received a naive datetime (2016-07-28 00:00:00) while time zone support is active.\n",
      "  warnings.warn(\"DateTimeField %s received a naive datetime (%s)\"\n",
      "/home/luan/.cache/pypoetry/virtualenvs/apps-ZFymp6kh-py3.8/lib/python3.8/site-packages/django/db/models/fields/__init__.py:1424: RuntimeWarning: DateTimeField ServiceOrder.opened_at received a naive datetime (2024-03-22 08:18:40.897679) while time zone support is active.\n",
      "  warnings.warn(\"DateTimeField %s received a naive datetime (%s)\"\n",
      "/home/luan/.cache/pypoetry/virtualenvs/apps-ZFymp6kh-py3.8/lib/python3.8/site-packages/django/db/models/fields/__init__.py:1424: RuntimeWarning: DateTimeField HistoricalServiceOrder.opened_at received a naive datetime (2024-03-22 08:18:40.897679) while time zone support is active.\n",
      "  warnings.warn(\"DateTimeField %s received a naive datetime (%s)\"\n",
      "/home/luan/.cache/pypoetry/virtualenvs/apps-ZFymp6kh-py3.8/lib/python3.8/site-packages/django/db/models/fields/__init__.py:1424: RuntimeWarning: DateTimeField ToDo.created_at received a naive datetime (2024-03-21 20:18:41.001333) while time zone support is active.\n",
      "  warnings.warn(\"DateTimeField %s received a naive datetime (%s)\"\n"
     ]
    },
    {
     "name": "stdout",
     "output_type": "stream",
     "text": [
      "Procedure matching query does not exist.\n"
     ]
    },
    {
     "name": "stderr",
     "output_type": "stream",
     "text": [
      "WARNING\tProperty: Unknown Property name. [1:1: word-wrap]\n",
      "WARNING:CSSUTILS:Property: Unknown Property name. [1:1: word-wrap]\n"
     ]
    },
    {
     "name": "stdout",
     "output_type": "stream",
     "text": [
      "'NoneType' object has no attribute 'is_final'\n"
     ]
    },
    {
     "name": "stderr",
     "output_type": "stream",
     "text": [
      "/home/luan/.cache/pypoetry/virtualenvs/apps-ZFymp6kh-py3.8/lib/python3.8/site-packages/django/db/models/fields/__init__.py:1424: RuntimeWarning: DateTimeField OccurrenceRecord.datetime received a naive datetime (2016-08-03 00:00:00) while time zone support is active.\n",
      "  warnings.warn(\"DateTimeField %s received a naive datetime (%s)\"\n",
      "/home/luan/.cache/pypoetry/virtualenvs/apps-ZFymp6kh-py3.8/lib/python3.8/site-packages/django/db/models/fields/__init__.py:1424: RuntimeWarning: DateTimeField HistoricalOccurrenceRecord.datetime received a naive datetime (2016-08-03 00:00:00) while time zone support is active.\n",
      "  warnings.warn(\"DateTimeField %s received a naive datetime (%s)\"\n",
      "/home/luan/.cache/pypoetry/virtualenvs/apps-ZFymp6kh-py3.8/lib/python3.8/site-packages/django/db/models/fields/__init__.py:1424: RuntimeWarning: DateTimeField ServiceOrder.opened_at received a naive datetime (2024-03-22 08:18:43.499243) while time zone support is active.\n",
      "  warnings.warn(\"DateTimeField %s received a naive datetime (%s)\"\n",
      "/home/luan/.cache/pypoetry/virtualenvs/apps-ZFymp6kh-py3.8/lib/python3.8/site-packages/django/db/models/fields/__init__.py:1424: RuntimeWarning: DateTimeField HistoricalServiceOrder.opened_at received a naive datetime (2024-03-22 08:18:43.499243) while time zone support is active.\n",
      "  warnings.warn(\"DateTimeField %s received a naive datetime (%s)\"\n",
      "/home/luan/.cache/pypoetry/virtualenvs/apps-ZFymp6kh-py3.8/lib/python3.8/site-packages/django/db/models/fields/__init__.py:1424: RuntimeWarning: DateTimeField ToDo.created_at received a naive datetime (2024-03-21 20:18:43.611898) while time zone support is active.\n",
      "  warnings.warn(\"DateTimeField %s received a naive datetime (%s)\"\n"
     ]
    },
    {
     "name": "stdout",
     "output_type": "stream",
     "text": [
      "Procedure matching query does not exist.\n"
     ]
    },
    {
     "name": "stderr",
     "output_type": "stream",
     "text": [
      "WARNING\tProperty: Unknown Property name. [1:1: word-wrap]\n",
      "WARNING:CSSUTILS:Property: Unknown Property name. [1:1: word-wrap]\n"
     ]
    },
    {
     "name": "stdout",
     "output_type": "stream",
     "text": [
      "'NoneType' object has no attribute 'is_final'\n"
     ]
    },
    {
     "name": "stderr",
     "output_type": "stream",
     "text": [
      "/home/luan/.cache/pypoetry/virtualenvs/apps-ZFymp6kh-py3.8/lib/python3.8/site-packages/django/db/models/fields/__init__.py:1424: RuntimeWarning: DateTimeField ServiceOrder.opened_at received a naive datetime (2024-03-22 08:18:44.911089) while time zone support is active.\n",
      "  warnings.warn(\"DateTimeField %s received a naive datetime (%s)\"\n",
      "/home/luan/.cache/pypoetry/virtualenvs/apps-ZFymp6kh-py3.8/lib/python3.8/site-packages/django/db/models/fields/__init__.py:1424: RuntimeWarning: DateTimeField HistoricalServiceOrder.opened_at received a naive datetime (2024-03-22 08:18:44.911089) while time zone support is active.\n",
      "  warnings.warn(\"DateTimeField %s received a naive datetime (%s)\"\n",
      "/home/luan/.cache/pypoetry/virtualenvs/apps-ZFymp6kh-py3.8/lib/python3.8/site-packages/django/db/models/fields/__init__.py:1424: RuntimeWarning: DateTimeField ToDo.created_at received a naive datetime (2024-03-21 20:18:45.038722) while time zone support is active.\n",
      "  warnings.warn(\"DateTimeField %s received a naive datetime (%s)\"\n"
     ]
    },
    {
     "name": "stdout",
     "output_type": "stream",
     "text": [
      "Procedure matching query does not exist.\n"
     ]
    },
    {
     "name": "stderr",
     "output_type": "stream",
     "text": [
      "WARNING\tProperty: Unknown Property name. [1:1: word-wrap]\n",
      "WARNING:CSSUTILS:Property: Unknown Property name. [1:1: word-wrap]\n"
     ]
    },
    {
     "name": "stdout",
     "output_type": "stream",
     "text": [
      "'NoneType' object has no attribute 'is_final'\n"
     ]
    },
    {
     "name": "stderr",
     "output_type": "stream",
     "text": [
      "/home/luan/.cache/pypoetry/virtualenvs/apps-ZFymp6kh-py3.8/lib/python3.8/site-packages/django/db/models/fields/__init__.py:1424: RuntimeWarning: DateTimeField ServiceOrder.opened_at received a naive datetime (2024-03-22 08:18:47.671202) while time zone support is active.\n",
      "  warnings.warn(\"DateTimeField %s received a naive datetime (%s)\"\n",
      "/home/luan/.cache/pypoetry/virtualenvs/apps-ZFymp6kh-py3.8/lib/python3.8/site-packages/django/db/models/fields/__init__.py:1424: RuntimeWarning: DateTimeField HistoricalServiceOrder.opened_at received a naive datetime (2024-03-22 08:18:47.671202) while time zone support is active.\n",
      "  warnings.warn(\"DateTimeField %s received a naive datetime (%s)\"\n",
      "/home/luan/.cache/pypoetry/virtualenvs/apps-ZFymp6kh-py3.8/lib/python3.8/site-packages/django/db/models/fields/__init__.py:1424: RuntimeWarning: DateTimeField ToDo.created_at received a naive datetime (2024-03-21 20:18:47.791117) while time zone support is active.\n",
      "  warnings.warn(\"DateTimeField %s received a naive datetime (%s)\"\n"
     ]
    },
    {
     "name": "stdout",
     "output_type": "stream",
     "text": [
      "Procedure matching query does not exist.\n"
     ]
    },
    {
     "name": "stderr",
     "output_type": "stream",
     "text": [
      "WARNING\tProperty: Unknown Property name. [1:1: word-wrap]\n",
      "WARNING:CSSUTILS:Property: Unknown Property name. [1:1: word-wrap]\n"
     ]
    },
    {
     "name": "stdout",
     "output_type": "stream",
     "text": [
      "'NoneType' object has no attribute 'is_final'\n"
     ]
    },
    {
     "name": "stderr",
     "output_type": "stream",
     "text": [
      "/home/luan/.cache/pypoetry/virtualenvs/apps-ZFymp6kh-py3.8/lib/python3.8/site-packages/django/db/models/fields/__init__.py:1424: RuntimeWarning: DateTimeField ServiceOrder.opened_at received a naive datetime (2024-03-22 08:18:49.127671) while time zone support is active.\n",
      "  warnings.warn(\"DateTimeField %s received a naive datetime (%s)\"\n",
      "/home/luan/.cache/pypoetry/virtualenvs/apps-ZFymp6kh-py3.8/lib/python3.8/site-packages/django/db/models/fields/__init__.py:1424: RuntimeWarning: DateTimeField HistoricalServiceOrder.opened_at received a naive datetime (2024-03-22 08:18:49.127671) while time zone support is active.\n",
      "  warnings.warn(\"DateTimeField %s received a naive datetime (%s)\"\n",
      "/home/luan/.cache/pypoetry/virtualenvs/apps-ZFymp6kh-py3.8/lib/python3.8/site-packages/django/db/models/fields/__init__.py:1424: RuntimeWarning: DateTimeField ToDo.created_at received a naive datetime (2024-03-21 20:18:49.241748) while time zone support is active.\n",
      "  warnings.warn(\"DateTimeField %s received a naive datetime (%s)\"\n"
     ]
    },
    {
     "name": "stdout",
     "output_type": "stream",
     "text": [
      "Procedure matching query does not exist.\n"
     ]
    },
    {
     "name": "stderr",
     "output_type": "stream",
     "text": [
      "WARNING\tProperty: Unknown Property name. [1:1: word-wrap]\n",
      "WARNING:CSSUTILS:Property: Unknown Property name. [1:1: word-wrap]\n"
     ]
    },
    {
     "name": "stdout",
     "output_type": "stream",
     "text": [
      "'NoneType' object has no attribute 'is_final'\n"
     ]
    },
    {
     "name": "stderr",
     "output_type": "stream",
     "text": [
      "/home/luan/.cache/pypoetry/virtualenvs/apps-ZFymp6kh-py3.8/lib/python3.8/site-packages/django/db/models/fields/__init__.py:1424: RuntimeWarning: DateTimeField ServiceOrder.opened_at received a naive datetime (2024-03-22 08:18:50.486908) while time zone support is active.\n",
      "  warnings.warn(\"DateTimeField %s received a naive datetime (%s)\"\n",
      "/home/luan/.cache/pypoetry/virtualenvs/apps-ZFymp6kh-py3.8/lib/python3.8/site-packages/django/db/models/fields/__init__.py:1424: RuntimeWarning: DateTimeField HistoricalServiceOrder.opened_at received a naive datetime (2024-03-22 08:18:50.486908) while time zone support is active.\n",
      "  warnings.warn(\"DateTimeField %s received a naive datetime (%s)\"\n",
      "/home/luan/.cache/pypoetry/virtualenvs/apps-ZFymp6kh-py3.8/lib/python3.8/site-packages/django/db/models/fields/__init__.py:1424: RuntimeWarning: DateTimeField ToDo.created_at received a naive datetime (2024-03-21 20:18:50.593067) while time zone support is active.\n",
      "  warnings.warn(\"DateTimeField %s received a naive datetime (%s)\"\n"
     ]
    },
    {
     "name": "stdout",
     "output_type": "stream",
     "text": [
      "Procedure matching query does not exist.\n"
     ]
    },
    {
     "name": "stderr",
     "output_type": "stream",
     "text": [
      "WARNING\tProperty: Unknown Property name. [1:1: word-wrap]\n",
      "WARNING:CSSUTILS:Property: Unknown Property name. [1:1: word-wrap]\n"
     ]
    },
    {
     "name": "stdout",
     "output_type": "stream",
     "text": [
      "'NoneType' object has no attribute 'is_final'\n"
     ]
    },
    {
     "name": "stderr",
     "output_type": "stream",
     "text": [
      "/home/luan/.cache/pypoetry/virtualenvs/apps-ZFymp6kh-py3.8/lib/python3.8/site-packages/django/db/models/fields/__init__.py:1424: RuntimeWarning: DateTimeField OccurrenceRecord.datetime received a naive datetime (2016-08-09 00:00:00) while time zone support is active.\n",
      "  warnings.warn(\"DateTimeField %s received a naive datetime (%s)\"\n",
      "/home/luan/.cache/pypoetry/virtualenvs/apps-ZFymp6kh-py3.8/lib/python3.8/site-packages/django/db/models/fields/__init__.py:1424: RuntimeWarning: DateTimeField HistoricalOccurrenceRecord.datetime received a naive datetime (2016-08-09 00:00:00) while time zone support is active.\n",
      "  warnings.warn(\"DateTimeField %s received a naive datetime (%s)\"\n",
      "/home/luan/.cache/pypoetry/virtualenvs/apps-ZFymp6kh-py3.8/lib/python3.8/site-packages/django/db/models/fields/__init__.py:1424: RuntimeWarning: DateTimeField ServiceOrder.opened_at received a naive datetime (2024-03-22 08:18:51.901000) while time zone support is active.\n",
      "  warnings.warn(\"DateTimeField %s received a naive datetime (%s)\"\n",
      "/home/luan/.cache/pypoetry/virtualenvs/apps-ZFymp6kh-py3.8/lib/python3.8/site-packages/django/db/models/fields/__init__.py:1424: RuntimeWarning: DateTimeField HistoricalServiceOrder.opened_at received a naive datetime (2024-03-22 08:18:51.901000) while time zone support is active.\n",
      "  warnings.warn(\"DateTimeField %s received a naive datetime (%s)\"\n",
      "/home/luan/.cache/pypoetry/virtualenvs/apps-ZFymp6kh-py3.8/lib/python3.8/site-packages/django/db/models/fields/__init__.py:1424: RuntimeWarning: DateTimeField ToDo.created_at received a naive datetime (2024-03-21 20:18:52.028192) while time zone support is active.\n",
      "  warnings.warn(\"DateTimeField %s received a naive datetime (%s)\"\n"
     ]
    },
    {
     "name": "stdout",
     "output_type": "stream",
     "text": [
      "Procedure matching query does not exist.\n"
     ]
    },
    {
     "name": "stderr",
     "output_type": "stream",
     "text": [
      "WARNING\tProperty: Unknown Property name. [1:1: word-wrap]\n",
      "WARNING:CSSUTILS:Property: Unknown Property name. [1:1: word-wrap]\n"
     ]
    },
    {
     "name": "stdout",
     "output_type": "stream",
     "text": [
      "'NoneType' object has no attribute 'is_final'\n"
     ]
    },
    {
     "name": "stderr",
     "output_type": "stream",
     "text": [
      "/home/luan/.cache/pypoetry/virtualenvs/apps-ZFymp6kh-py3.8/lib/python3.8/site-packages/django/db/models/fields/__init__.py:1424: RuntimeWarning: DateTimeField OccurrenceRecord.datetime received a naive datetime (2016-09-01 00:00:00) while time zone support is active.\n",
      "  warnings.warn(\"DateTimeField %s received a naive datetime (%s)\"\n",
      "/home/luan/.cache/pypoetry/virtualenvs/apps-ZFymp6kh-py3.8/lib/python3.8/site-packages/django/db/models/fields/__init__.py:1424: RuntimeWarning: DateTimeField HistoricalOccurrenceRecord.datetime received a naive datetime (2016-09-01 00:00:00) while time zone support is active.\n",
      "  warnings.warn(\"DateTimeField %s received a naive datetime (%s)\"\n",
      "/home/luan/.cache/pypoetry/virtualenvs/apps-ZFymp6kh-py3.8/lib/python3.8/site-packages/django/db/models/fields/__init__.py:1424: RuntimeWarning: DateTimeField ServiceOrder.opened_at received a naive datetime (2024-03-22 08:18:53.453229) while time zone support is active.\n",
      "  warnings.warn(\"DateTimeField %s received a naive datetime (%s)\"\n",
      "/home/luan/.cache/pypoetry/virtualenvs/apps-ZFymp6kh-py3.8/lib/python3.8/site-packages/django/db/models/fields/__init__.py:1424: RuntimeWarning: DateTimeField HistoricalServiceOrder.opened_at received a naive datetime (2024-03-22 08:18:53.453229) while time zone support is active.\n",
      "  warnings.warn(\"DateTimeField %s received a naive datetime (%s)\"\n",
      "/home/luan/.cache/pypoetry/virtualenvs/apps-ZFymp6kh-py3.8/lib/python3.8/site-packages/django/db/models/fields/__init__.py:1424: RuntimeWarning: DateTimeField ToDo.created_at received a naive datetime (2024-03-21 20:18:53.559067) while time zone support is active.\n",
      "  warnings.warn(\"DateTimeField %s received a naive datetime (%s)\"\n"
     ]
    },
    {
     "name": "stdout",
     "output_type": "stream",
     "text": [
      "Procedure matching query does not exist.\n"
     ]
    },
    {
     "name": "stderr",
     "output_type": "stream",
     "text": [
      "WARNING\tProperty: Unknown Property name. [1:1: word-wrap]\n",
      "WARNING:CSSUTILS:Property: Unknown Property name. [1:1: word-wrap]\n"
     ]
    },
    {
     "name": "stdout",
     "output_type": "stream",
     "text": [
      "'NoneType' object has no attribute 'is_final'\n"
     ]
    },
    {
     "name": "stderr",
     "output_type": "stream",
     "text": [
      "/home/luan/.cache/pypoetry/virtualenvs/apps-ZFymp6kh-py3.8/lib/python3.8/site-packages/django/db/models/fields/__init__.py:1424: RuntimeWarning: DateTimeField OccurrenceRecord.datetime received a naive datetime (2016-09-02 00:00:00) while time zone support is active.\n",
      "  warnings.warn(\"DateTimeField %s received a naive datetime (%s)\"\n",
      "/home/luan/.cache/pypoetry/virtualenvs/apps-ZFymp6kh-py3.8/lib/python3.8/site-packages/django/db/models/fields/__init__.py:1424: RuntimeWarning: DateTimeField HistoricalOccurrenceRecord.datetime received a naive datetime (2016-09-02 00:00:00) while time zone support is active.\n",
      "  warnings.warn(\"DateTimeField %s received a naive datetime (%s)\"\n",
      "/home/luan/.cache/pypoetry/virtualenvs/apps-ZFymp6kh-py3.8/lib/python3.8/site-packages/django/db/models/fields/__init__.py:1424: RuntimeWarning: DateTimeField ServiceOrder.opened_at received a naive datetime (2024-03-22 08:18:54.778637) while time zone support is active.\n",
      "  warnings.warn(\"DateTimeField %s received a naive datetime (%s)\"\n",
      "/home/luan/.cache/pypoetry/virtualenvs/apps-ZFymp6kh-py3.8/lib/python3.8/site-packages/django/db/models/fields/__init__.py:1424: RuntimeWarning: DateTimeField HistoricalServiceOrder.opened_at received a naive datetime (2024-03-22 08:18:54.778637) while time zone support is active.\n",
      "  warnings.warn(\"DateTimeField %s received a naive datetime (%s)\"\n",
      "/home/luan/.cache/pypoetry/virtualenvs/apps-ZFymp6kh-py3.8/lib/python3.8/site-packages/django/db/models/fields/__init__.py:1424: RuntimeWarning: DateTimeField ToDo.created_at received a naive datetime (2024-03-21 20:18:54.885284) while time zone support is active.\n",
      "  warnings.warn(\"DateTimeField %s received a naive datetime (%s)\"\n"
     ]
    },
    {
     "name": "stdout",
     "output_type": "stream",
     "text": [
      "Procedure matching query does not exist.\n"
     ]
    },
    {
     "name": "stderr",
     "output_type": "stream",
     "text": [
      "WARNING\tProperty: Unknown Property name. [1:1: word-wrap]\n",
      "WARNING:CSSUTILS:Property: Unknown Property name. [1:1: word-wrap]\n"
     ]
    },
    {
     "name": "stdout",
     "output_type": "stream",
     "text": [
      "'NoneType' object has no attribute 'is_final'\n"
     ]
    },
    {
     "name": "stderr",
     "output_type": "stream",
     "text": [
      "/home/luan/.cache/pypoetry/virtualenvs/apps-ZFymp6kh-py3.8/lib/python3.8/site-packages/django/db/models/fields/__init__.py:1424: RuntimeWarning: DateTimeField OccurrenceRecord.datetime received a naive datetime (2016-09-22 00:00:00) while time zone support is active.\n",
      "  warnings.warn(\"DateTimeField %s received a naive datetime (%s)\"\n",
      "/home/luan/.cache/pypoetry/virtualenvs/apps-ZFymp6kh-py3.8/lib/python3.8/site-packages/django/db/models/fields/__init__.py:1424: RuntimeWarning: DateTimeField HistoricalOccurrenceRecord.datetime received a naive datetime (2016-09-22 00:00:00) while time zone support is active.\n",
      "  warnings.warn(\"DateTimeField %s received a naive datetime (%s)\"\n",
      "/home/luan/.cache/pypoetry/virtualenvs/apps-ZFymp6kh-py3.8/lib/python3.8/site-packages/django/db/models/fields/__init__.py:1424: RuntimeWarning: DateTimeField ServiceOrder.opened_at received a naive datetime (2024-03-22 08:18:56.364472) while time zone support is active.\n",
      "  warnings.warn(\"DateTimeField %s received a naive datetime (%s)\"\n",
      "/home/luan/.cache/pypoetry/virtualenvs/apps-ZFymp6kh-py3.8/lib/python3.8/site-packages/django/db/models/fields/__init__.py:1424: RuntimeWarning: DateTimeField HistoricalServiceOrder.opened_at received a naive datetime (2024-03-22 08:18:56.364472) while time zone support is active.\n",
      "  warnings.warn(\"DateTimeField %s received a naive datetime (%s)\"\n",
      "/home/luan/.cache/pypoetry/virtualenvs/apps-ZFymp6kh-py3.8/lib/python3.8/site-packages/django/db/models/fields/__init__.py:1424: RuntimeWarning: DateTimeField ToDo.created_at received a naive datetime (2024-03-21 20:18:56.480408) while time zone support is active.\n",
      "  warnings.warn(\"DateTimeField %s received a naive datetime (%s)\"\n"
     ]
    },
    {
     "name": "stdout",
     "output_type": "stream",
     "text": [
      "Procedure matching query does not exist.\n"
     ]
    },
    {
     "name": "stderr",
     "output_type": "stream",
     "text": [
      "WARNING\tProperty: Unknown Property name. [1:1: word-wrap]\n",
      "WARNING:CSSUTILS:Property: Unknown Property name. [1:1: word-wrap]\n"
     ]
    },
    {
     "name": "stdout",
     "output_type": "stream",
     "text": [
      "'NoneType' object has no attribute 'is_final'\n"
     ]
    },
    {
     "name": "stderr",
     "output_type": "stream",
     "text": [
      "/home/luan/.cache/pypoetry/virtualenvs/apps-ZFymp6kh-py3.8/lib/python3.8/site-packages/django/db/models/fields/__init__.py:1424: RuntimeWarning: DateTimeField OccurrenceRecord.datetime received a naive datetime (2016-09-28 00:00:00) while time zone support is active.\n",
      "  warnings.warn(\"DateTimeField %s received a naive datetime (%s)\"\n",
      "/home/luan/.cache/pypoetry/virtualenvs/apps-ZFymp6kh-py3.8/lib/python3.8/site-packages/django/db/models/fields/__init__.py:1424: RuntimeWarning: DateTimeField HistoricalOccurrenceRecord.datetime received a naive datetime (2016-09-28 00:00:00) while time zone support is active.\n",
      "  warnings.warn(\"DateTimeField %s received a naive datetime (%s)\"\n",
      "/home/luan/.cache/pypoetry/virtualenvs/apps-ZFymp6kh-py3.8/lib/python3.8/site-packages/django/db/models/fields/__init__.py:1424: RuntimeWarning: DateTimeField ServiceOrder.opened_at received a naive datetime (2024-03-22 08:18:57.797296) while time zone support is active.\n",
      "  warnings.warn(\"DateTimeField %s received a naive datetime (%s)\"\n",
      "/home/luan/.cache/pypoetry/virtualenvs/apps-ZFymp6kh-py3.8/lib/python3.8/site-packages/django/db/models/fields/__init__.py:1424: RuntimeWarning: DateTimeField HistoricalServiceOrder.opened_at received a naive datetime (2024-03-22 08:18:57.797296) while time zone support is active.\n",
      "  warnings.warn(\"DateTimeField %s received a naive datetime (%s)\"\n",
      "/home/luan/.cache/pypoetry/virtualenvs/apps-ZFymp6kh-py3.8/lib/python3.8/site-packages/django/db/models/fields/__init__.py:1424: RuntimeWarning: DateTimeField ToDo.created_at received a naive datetime (2024-03-21 20:18:57.898981) while time zone support is active.\n",
      "  warnings.warn(\"DateTimeField %s received a naive datetime (%s)\"\n"
     ]
    },
    {
     "name": "stdout",
     "output_type": "stream",
     "text": [
      "Procedure matching query does not exist.\n"
     ]
    },
    {
     "name": "stderr",
     "output_type": "stream",
     "text": [
      "WARNING\tProperty: Unknown Property name. [1:1: word-wrap]\n",
      "WARNING:CSSUTILS:Property: Unknown Property name. [1:1: word-wrap]\n"
     ]
    },
    {
     "name": "stdout",
     "output_type": "stream",
     "text": [
      "'NoneType' object has no attribute 'is_final'\n"
     ]
    },
    {
     "name": "stderr",
     "output_type": "stream",
     "text": [
      "/home/luan/.cache/pypoetry/virtualenvs/apps-ZFymp6kh-py3.8/lib/python3.8/site-packages/django/db/models/fields/__init__.py:1424: RuntimeWarning: DateTimeField ServiceOrder.opened_at received a naive datetime (2024-03-22 08:18:59.353199) while time zone support is active.\n",
      "  warnings.warn(\"DateTimeField %s received a naive datetime (%s)\"\n",
      "/home/luan/.cache/pypoetry/virtualenvs/apps-ZFymp6kh-py3.8/lib/python3.8/site-packages/django/db/models/fields/__init__.py:1424: RuntimeWarning: DateTimeField HistoricalServiceOrder.opened_at received a naive datetime (2024-03-22 08:18:59.353199) while time zone support is active.\n",
      "  warnings.warn(\"DateTimeField %s received a naive datetime (%s)\"\n",
      "/home/luan/.cache/pypoetry/virtualenvs/apps-ZFymp6kh-py3.8/lib/python3.8/site-packages/django/db/models/fields/__init__.py:1424: RuntimeWarning: DateTimeField ToDo.created_at received a naive datetime (2024-03-21 20:18:59.458644) while time zone support is active.\n",
      "  warnings.warn(\"DateTimeField %s received a naive datetime (%s)\"\n"
     ]
    },
    {
     "name": "stdout",
     "output_type": "stream",
     "text": [
      "Procedure matching query does not exist.\n"
     ]
    },
    {
     "name": "stderr",
     "output_type": "stream",
     "text": [
      "WARNING\tProperty: Unknown Property name. [1:1: word-wrap]\n",
      "WARNING:CSSUTILS:Property: Unknown Property name. [1:1: word-wrap]\n"
     ]
    },
    {
     "name": "stdout",
     "output_type": "stream",
     "text": [
      "'NoneType' object has no attribute 'is_final'\n"
     ]
    },
    {
     "name": "stderr",
     "output_type": "stream",
     "text": [
      "/home/luan/.cache/pypoetry/virtualenvs/apps-ZFymp6kh-py3.8/lib/python3.8/site-packages/django/db/models/fields/__init__.py:1424: RuntimeWarning: DateTimeField OccurrenceRecord.datetime received a naive datetime (2016-11-03 00:00:00) while time zone support is active.\n",
      "  warnings.warn(\"DateTimeField %s received a naive datetime (%s)\"\n",
      "/home/luan/.cache/pypoetry/virtualenvs/apps-ZFymp6kh-py3.8/lib/python3.8/site-packages/django/db/models/fields/__init__.py:1424: RuntimeWarning: DateTimeField HistoricalOccurrenceRecord.datetime received a naive datetime (2016-11-03 00:00:00) while time zone support is active.\n",
      "  warnings.warn(\"DateTimeField %s received a naive datetime (%s)\"\n",
      "/home/luan/.cache/pypoetry/virtualenvs/apps-ZFymp6kh-py3.8/lib/python3.8/site-packages/django/db/models/fields/__init__.py:1424: RuntimeWarning: DateTimeField ServiceOrder.opened_at received a naive datetime (2024-03-22 08:19:00.932253) while time zone support is active.\n",
      "  warnings.warn(\"DateTimeField %s received a naive datetime (%s)\"\n",
      "/home/luan/.cache/pypoetry/virtualenvs/apps-ZFymp6kh-py3.8/lib/python3.8/site-packages/django/db/models/fields/__init__.py:1424: RuntimeWarning: DateTimeField HistoricalServiceOrder.opened_at received a naive datetime (2024-03-22 08:19:00.932253) while time zone support is active.\n",
      "  warnings.warn(\"DateTimeField %s received a naive datetime (%s)\"\n",
      "/home/luan/.cache/pypoetry/virtualenvs/apps-ZFymp6kh-py3.8/lib/python3.8/site-packages/django/db/models/fields/__init__.py:1424: RuntimeWarning: DateTimeField ToDo.created_at received a naive datetime (2024-03-21 20:19:01.039373) while time zone support is active.\n",
      "  warnings.warn(\"DateTimeField %s received a naive datetime (%s)\"\n"
     ]
    },
    {
     "name": "stdout",
     "output_type": "stream",
     "text": [
      "Procedure matching query does not exist.\n"
     ]
    },
    {
     "name": "stderr",
     "output_type": "stream",
     "text": [
      "WARNING\tProperty: Unknown Property name. [1:1: word-wrap]\n",
      "WARNING:CSSUTILS:Property: Unknown Property name. [1:1: word-wrap]\n"
     ]
    },
    {
     "name": "stdout",
     "output_type": "stream",
     "text": [
      "'NoneType' object has no attribute 'is_final'\n"
     ]
    },
    {
     "name": "stderr",
     "output_type": "stream",
     "text": [
      "/home/luan/.cache/pypoetry/virtualenvs/apps-ZFymp6kh-py3.8/lib/python3.8/site-packages/django/db/models/fields/__init__.py:1424: RuntimeWarning: DateTimeField OccurrenceRecord.datetime received a naive datetime (2016-11-09 00:00:00) while time zone support is active.\n",
      "  warnings.warn(\"DateTimeField %s received a naive datetime (%s)\"\n",
      "/home/luan/.cache/pypoetry/virtualenvs/apps-ZFymp6kh-py3.8/lib/python3.8/site-packages/django/db/models/fields/__init__.py:1424: RuntimeWarning: DateTimeField HistoricalOccurrenceRecord.datetime received a naive datetime (2016-11-09 00:00:00) while time zone support is active.\n",
      "  warnings.warn(\"DateTimeField %s received a naive datetime (%s)\"\n",
      "/home/luan/.cache/pypoetry/virtualenvs/apps-ZFymp6kh-py3.8/lib/python3.8/site-packages/django/db/models/fields/__init__.py:1424: RuntimeWarning: DateTimeField ServiceOrder.opened_at received a naive datetime (2024-03-22 08:19:02.298096) while time zone support is active.\n",
      "  warnings.warn(\"DateTimeField %s received a naive datetime (%s)\"\n",
      "/home/luan/.cache/pypoetry/virtualenvs/apps-ZFymp6kh-py3.8/lib/python3.8/site-packages/django/db/models/fields/__init__.py:1424: RuntimeWarning: DateTimeField HistoricalServiceOrder.opened_at received a naive datetime (2024-03-22 08:19:02.298096) while time zone support is active.\n",
      "  warnings.warn(\"DateTimeField %s received a naive datetime (%s)\"\n",
      "/home/luan/.cache/pypoetry/virtualenvs/apps-ZFymp6kh-py3.8/lib/python3.8/site-packages/django/db/models/fields/__init__.py:1424: RuntimeWarning: DateTimeField ToDo.created_at received a naive datetime (2024-03-21 20:19:02.401775) while time zone support is active.\n",
      "  warnings.warn(\"DateTimeField %s received a naive datetime (%s)\"\n"
     ]
    },
    {
     "name": "stdout",
     "output_type": "stream",
     "text": [
      "Procedure matching query does not exist.\n"
     ]
    },
    {
     "name": "stderr",
     "output_type": "stream",
     "text": [
      "WARNING\tProperty: Unknown Property name. [1:1: word-wrap]\n",
      "WARNING:CSSUTILS:Property: Unknown Property name. [1:1: word-wrap]\n"
     ]
    },
    {
     "name": "stdout",
     "output_type": "stream",
     "text": [
      "'NoneType' object has no attribute 'is_final'\n"
     ]
    },
    {
     "name": "stderr",
     "output_type": "stream",
     "text": [
      "/home/luan/.cache/pypoetry/virtualenvs/apps-ZFymp6kh-py3.8/lib/python3.8/site-packages/django/db/models/fields/__init__.py:1424: RuntimeWarning: DateTimeField OccurrenceRecord.datetime received a naive datetime (2016-11-17 00:00:00) while time zone support is active.\n",
      "  warnings.warn(\"DateTimeField %s received a naive datetime (%s)\"\n",
      "/home/luan/.cache/pypoetry/virtualenvs/apps-ZFymp6kh-py3.8/lib/python3.8/site-packages/django/db/models/fields/__init__.py:1424: RuntimeWarning: DateTimeField HistoricalOccurrenceRecord.datetime received a naive datetime (2016-11-17 00:00:00) while time zone support is active.\n",
      "  warnings.warn(\"DateTimeField %s received a naive datetime (%s)\"\n",
      "/home/luan/.cache/pypoetry/virtualenvs/apps-ZFymp6kh-py3.8/lib/python3.8/site-packages/django/db/models/fields/__init__.py:1424: RuntimeWarning: DateTimeField ServiceOrder.opened_at received a naive datetime (2024-03-22 08:19:03.637493) while time zone support is active.\n",
      "  warnings.warn(\"DateTimeField %s received a naive datetime (%s)\"\n",
      "/home/luan/.cache/pypoetry/virtualenvs/apps-ZFymp6kh-py3.8/lib/python3.8/site-packages/django/db/models/fields/__init__.py:1424: RuntimeWarning: DateTimeField HistoricalServiceOrder.opened_at received a naive datetime (2024-03-22 08:19:03.637493) while time zone support is active.\n",
      "  warnings.warn(\"DateTimeField %s received a naive datetime (%s)\"\n",
      "/home/luan/.cache/pypoetry/virtualenvs/apps-ZFymp6kh-py3.8/lib/python3.8/site-packages/django/db/models/fields/__init__.py:1424: RuntimeWarning: DateTimeField ToDo.created_at received a naive datetime (2024-03-21 20:19:03.742417) while time zone support is active.\n",
      "  warnings.warn(\"DateTimeField %s received a naive datetime (%s)\"\n"
     ]
    },
    {
     "name": "stdout",
     "output_type": "stream",
     "text": [
      "Procedure matching query does not exist.\n"
     ]
    },
    {
     "name": "stderr",
     "output_type": "stream",
     "text": [
      "WARNING\tProperty: Unknown Property name. [1:1: word-wrap]\n",
      "WARNING:CSSUTILS:Property: Unknown Property name. [1:1: word-wrap]\n"
     ]
    },
    {
     "name": "stdout",
     "output_type": "stream",
     "text": [
      "'NoneType' object has no attribute 'is_final'\n"
     ]
    },
    {
     "name": "stderr",
     "output_type": "stream",
     "text": [
      "/home/luan/.cache/pypoetry/virtualenvs/apps-ZFymp6kh-py3.8/lib/python3.8/site-packages/django/db/models/fields/__init__.py:1424: RuntimeWarning: DateTimeField OccurrenceRecord.datetime received a naive datetime (2016-12-07 00:00:00) while time zone support is active.\n",
      "  warnings.warn(\"DateTimeField %s received a naive datetime (%s)\"\n",
      "/home/luan/.cache/pypoetry/virtualenvs/apps-ZFymp6kh-py3.8/lib/python3.8/site-packages/django/db/models/fields/__init__.py:1424: RuntimeWarning: DateTimeField HistoricalOccurrenceRecord.datetime received a naive datetime (2016-12-07 00:00:00) while time zone support is active.\n",
      "  warnings.warn(\"DateTimeField %s received a naive datetime (%s)\"\n",
      "/home/luan/.cache/pypoetry/virtualenvs/apps-ZFymp6kh-py3.8/lib/python3.8/site-packages/django/db/models/fields/__init__.py:1424: RuntimeWarning: DateTimeField ServiceOrder.opened_at received a naive datetime (2024-03-22 08:19:04.956317) while time zone support is active.\n",
      "  warnings.warn(\"DateTimeField %s received a naive datetime (%s)\"\n",
      "/home/luan/.cache/pypoetry/virtualenvs/apps-ZFymp6kh-py3.8/lib/python3.8/site-packages/django/db/models/fields/__init__.py:1424: RuntimeWarning: DateTimeField HistoricalServiceOrder.opened_at received a naive datetime (2024-03-22 08:19:04.956317) while time zone support is active.\n",
      "  warnings.warn(\"DateTimeField %s received a naive datetime (%s)\"\n",
      "/home/luan/.cache/pypoetry/virtualenvs/apps-ZFymp6kh-py3.8/lib/python3.8/site-packages/django/db/models/fields/__init__.py:1424: RuntimeWarning: DateTimeField ToDo.created_at received a naive datetime (2024-03-21 20:19:05.071238) while time zone support is active.\n",
      "  warnings.warn(\"DateTimeField %s received a naive datetime (%s)\"\n"
     ]
    },
    {
     "name": "stdout",
     "output_type": "stream",
     "text": [
      "Procedure matching query does not exist.\n"
     ]
    },
    {
     "name": "stderr",
     "output_type": "stream",
     "text": [
      "WARNING\tProperty: Unknown Property name. [1:1: word-wrap]\n",
      "WARNING:CSSUTILS:Property: Unknown Property name. [1:1: word-wrap]\n"
     ]
    },
    {
     "name": "stdout",
     "output_type": "stream",
     "text": [
      "'NoneType' object has no attribute 'is_final'\n"
     ]
    },
    {
     "name": "stderr",
     "output_type": "stream",
     "text": [
      "/home/luan/.cache/pypoetry/virtualenvs/apps-ZFymp6kh-py3.8/lib/python3.8/site-packages/django/db/models/fields/__init__.py:1424: RuntimeWarning: DateTimeField OccurrenceRecord.datetime received a naive datetime (2017-01-19 00:00:00) while time zone support is active.\n",
      "  warnings.warn(\"DateTimeField %s received a naive datetime (%s)\"\n",
      "/home/luan/.cache/pypoetry/virtualenvs/apps-ZFymp6kh-py3.8/lib/python3.8/site-packages/django/db/models/fields/__init__.py:1424: RuntimeWarning: DateTimeField HistoricalOccurrenceRecord.datetime received a naive datetime (2017-01-19 00:00:00) while time zone support is active.\n",
      "  warnings.warn(\"DateTimeField %s received a naive datetime (%s)\"\n",
      "/home/luan/.cache/pypoetry/virtualenvs/apps-ZFymp6kh-py3.8/lib/python3.8/site-packages/django/db/models/fields/__init__.py:1424: RuntimeWarning: DateTimeField ServiceOrder.opened_at received a naive datetime (2024-03-22 08:19:06.597959) while time zone support is active.\n",
      "  warnings.warn(\"DateTimeField %s received a naive datetime (%s)\"\n",
      "/home/luan/.cache/pypoetry/virtualenvs/apps-ZFymp6kh-py3.8/lib/python3.8/site-packages/django/db/models/fields/__init__.py:1424: RuntimeWarning: DateTimeField HistoricalServiceOrder.opened_at received a naive datetime (2024-03-22 08:19:06.597959) while time zone support is active.\n",
      "  warnings.warn(\"DateTimeField %s received a naive datetime (%s)\"\n",
      "/home/luan/.cache/pypoetry/virtualenvs/apps-ZFymp6kh-py3.8/lib/python3.8/site-packages/django/db/models/fields/__init__.py:1424: RuntimeWarning: DateTimeField ToDo.created_at received a naive datetime (2024-03-21 20:19:06.707728) while time zone support is active.\n",
      "  warnings.warn(\"DateTimeField %s received a naive datetime (%s)\"\n"
     ]
    },
    {
     "name": "stdout",
     "output_type": "stream",
     "text": [
      "Procedure matching query does not exist.\n"
     ]
    },
    {
     "name": "stderr",
     "output_type": "stream",
     "text": [
      "WARNING\tProperty: Unknown Property name. [1:1: word-wrap]\n",
      "WARNING:CSSUTILS:Property: Unknown Property name. [1:1: word-wrap]\n"
     ]
    },
    {
     "name": "stdout",
     "output_type": "stream",
     "text": [
      "'NoneType' object has no attribute 'is_final'\n"
     ]
    },
    {
     "name": "stderr",
     "output_type": "stream",
     "text": [
      "/home/luan/.cache/pypoetry/virtualenvs/apps-ZFymp6kh-py3.8/lib/python3.8/site-packages/django/db/models/fields/__init__.py:1424: RuntimeWarning: DateTimeField ServiceOrder.opened_at received a naive datetime (2024-03-22 08:19:07.943178) while time zone support is active.\n",
      "  warnings.warn(\"DateTimeField %s received a naive datetime (%s)\"\n",
      "/home/luan/.cache/pypoetry/virtualenvs/apps-ZFymp6kh-py3.8/lib/python3.8/site-packages/django/db/models/fields/__init__.py:1424: RuntimeWarning: DateTimeField HistoricalServiceOrder.opened_at received a naive datetime (2024-03-22 08:19:07.943178) while time zone support is active.\n",
      "  warnings.warn(\"DateTimeField %s received a naive datetime (%s)\"\n",
      "/home/luan/.cache/pypoetry/virtualenvs/apps-ZFymp6kh-py3.8/lib/python3.8/site-packages/django/db/models/fields/__init__.py:1424: RuntimeWarning: DateTimeField ToDo.created_at received a naive datetime (2024-03-21 20:19:08.052073) while time zone support is active.\n",
      "  warnings.warn(\"DateTimeField %s received a naive datetime (%s)\"\n"
     ]
    },
    {
     "name": "stdout",
     "output_type": "stream",
     "text": [
      "Procedure matching query does not exist.\n"
     ]
    },
    {
     "name": "stderr",
     "output_type": "stream",
     "text": [
      "WARNING\tProperty: Unknown Property name. [1:1: word-wrap]\n",
      "WARNING:CSSUTILS:Property: Unknown Property name. [1:1: word-wrap]\n"
     ]
    },
    {
     "name": "stdout",
     "output_type": "stream",
     "text": [
      "'NoneType' object has no attribute 'is_final'\n"
     ]
    },
    {
     "name": "stderr",
     "output_type": "stream",
     "text": [
      "/home/luan/.cache/pypoetry/virtualenvs/apps-ZFymp6kh-py3.8/lib/python3.8/site-packages/django/db/models/fields/__init__.py:1424: RuntimeWarning: DateTimeField OccurrenceRecord.datetime received a naive datetime (2017-01-26 00:00:00) while time zone support is active.\n",
      "  warnings.warn(\"DateTimeField %s received a naive datetime (%s)\"\n",
      "/home/luan/.cache/pypoetry/virtualenvs/apps-ZFymp6kh-py3.8/lib/python3.8/site-packages/django/db/models/fields/__init__.py:1424: RuntimeWarning: DateTimeField HistoricalOccurrenceRecord.datetime received a naive datetime (2017-01-26 00:00:00) while time zone support is active.\n",
      "  warnings.warn(\"DateTimeField %s received a naive datetime (%s)\"\n",
      "/home/luan/.cache/pypoetry/virtualenvs/apps-ZFymp6kh-py3.8/lib/python3.8/site-packages/django/db/models/fields/__init__.py:1424: RuntimeWarning: DateTimeField ServiceOrder.opened_at received a naive datetime (2024-03-22 08:19:09.336864) while time zone support is active.\n",
      "  warnings.warn(\"DateTimeField %s received a naive datetime (%s)\"\n",
      "/home/luan/.cache/pypoetry/virtualenvs/apps-ZFymp6kh-py3.8/lib/python3.8/site-packages/django/db/models/fields/__init__.py:1424: RuntimeWarning: DateTimeField HistoricalServiceOrder.opened_at received a naive datetime (2024-03-22 08:19:09.336864) while time zone support is active.\n",
      "  warnings.warn(\"DateTimeField %s received a naive datetime (%s)\"\n",
      "/home/luan/.cache/pypoetry/virtualenvs/apps-ZFymp6kh-py3.8/lib/python3.8/site-packages/django/db/models/fields/__init__.py:1424: RuntimeWarning: DateTimeField ToDo.created_at received a naive datetime (2024-03-21 20:19:09.439697) while time zone support is active.\n",
      "  warnings.warn(\"DateTimeField %s received a naive datetime (%s)\"\n"
     ]
    },
    {
     "name": "stdout",
     "output_type": "stream",
     "text": [
      "Procedure matching query does not exist.\n"
     ]
    },
    {
     "name": "stderr",
     "output_type": "stream",
     "text": [
      "WARNING\tProperty: Unknown Property name. [1:1: word-wrap]\n",
      "WARNING:CSSUTILS:Property: Unknown Property name. [1:1: word-wrap]\n"
     ]
    },
    {
     "name": "stdout",
     "output_type": "stream",
     "text": [
      "'NoneType' object has no attribute 'is_final'\n"
     ]
    },
    {
     "name": "stderr",
     "output_type": "stream",
     "text": [
      "/home/luan/.cache/pypoetry/virtualenvs/apps-ZFymp6kh-py3.8/lib/python3.8/site-packages/django/db/models/fields/__init__.py:1424: RuntimeWarning: DateTimeField ServiceOrder.opened_at received a naive datetime (2024-03-22 08:19:10.759974) while time zone support is active.\n",
      "  warnings.warn(\"DateTimeField %s received a naive datetime (%s)\"\n",
      "/home/luan/.cache/pypoetry/virtualenvs/apps-ZFymp6kh-py3.8/lib/python3.8/site-packages/django/db/models/fields/__init__.py:1424: RuntimeWarning: DateTimeField HistoricalServiceOrder.opened_at received a naive datetime (2024-03-22 08:19:10.759974) while time zone support is active.\n",
      "  warnings.warn(\"DateTimeField %s received a naive datetime (%s)\"\n",
      "/home/luan/.cache/pypoetry/virtualenvs/apps-ZFymp6kh-py3.8/lib/python3.8/site-packages/django/db/models/fields/__init__.py:1424: RuntimeWarning: DateTimeField ToDo.created_at received a naive datetime (2024-03-21 20:19:10.865070) while time zone support is active.\n",
      "  warnings.warn(\"DateTimeField %s received a naive datetime (%s)\"\n"
     ]
    },
    {
     "name": "stdout",
     "output_type": "stream",
     "text": [
      "Procedure matching query does not exist.\n"
     ]
    },
    {
     "name": "stderr",
     "output_type": "stream",
     "text": [
      "WARNING\tProperty: Unknown Property name. [1:1: word-wrap]\n",
      "WARNING:CSSUTILS:Property: Unknown Property name. [1:1: word-wrap]\n"
     ]
    },
    {
     "name": "stdout",
     "output_type": "stream",
     "text": [
      "'NoneType' object has no attribute 'is_final'\n"
     ]
    },
    {
     "name": "stderr",
     "output_type": "stream",
     "text": [
      "/home/luan/.cache/pypoetry/virtualenvs/apps-ZFymp6kh-py3.8/lib/python3.8/site-packages/django/db/models/fields/__init__.py:1424: RuntimeWarning: DateTimeField ServiceOrder.opened_at received a naive datetime (2024-03-22 08:19:12.087534) while time zone support is active.\n",
      "  warnings.warn(\"DateTimeField %s received a naive datetime (%s)\"\n",
      "/home/luan/.cache/pypoetry/virtualenvs/apps-ZFymp6kh-py3.8/lib/python3.8/site-packages/django/db/models/fields/__init__.py:1424: RuntimeWarning: DateTimeField HistoricalServiceOrder.opened_at received a naive datetime (2024-03-22 08:19:12.087534) while time zone support is active.\n",
      "  warnings.warn(\"DateTimeField %s received a naive datetime (%s)\"\n",
      "/home/luan/.cache/pypoetry/virtualenvs/apps-ZFymp6kh-py3.8/lib/python3.8/site-packages/django/db/models/fields/__init__.py:1424: RuntimeWarning: DateTimeField ToDo.created_at received a naive datetime (2024-03-21 20:19:12.189937) while time zone support is active.\n",
      "  warnings.warn(\"DateTimeField %s received a naive datetime (%s)\"\n"
     ]
    },
    {
     "name": "stdout",
     "output_type": "stream",
     "text": [
      "Procedure matching query does not exist.\n"
     ]
    },
    {
     "name": "stderr",
     "output_type": "stream",
     "text": [
      "WARNING\tProperty: Unknown Property name. [1:1: word-wrap]\n",
      "WARNING:CSSUTILS:Property: Unknown Property name. [1:1: word-wrap]\n"
     ]
    },
    {
     "name": "stdout",
     "output_type": "stream",
     "text": [
      "'NoneType' object has no attribute 'is_final'\n"
     ]
    },
    {
     "name": "stderr",
     "output_type": "stream",
     "text": [
      "/home/luan/.cache/pypoetry/virtualenvs/apps-ZFymp6kh-py3.8/lib/python3.8/site-packages/django/db/models/fields/__init__.py:1424: RuntimeWarning: DateTimeField ServiceOrder.opened_at received a naive datetime (2024-03-22 08:19:13.370591) while time zone support is active.\n",
      "  warnings.warn(\"DateTimeField %s received a naive datetime (%s)\"\n",
      "/home/luan/.cache/pypoetry/virtualenvs/apps-ZFymp6kh-py3.8/lib/python3.8/site-packages/django/db/models/fields/__init__.py:1424: RuntimeWarning: DateTimeField HistoricalServiceOrder.opened_at received a naive datetime (2024-03-22 08:19:13.370591) while time zone support is active.\n",
      "  warnings.warn(\"DateTimeField %s received a naive datetime (%s)\"\n",
      "/home/luan/.cache/pypoetry/virtualenvs/apps-ZFymp6kh-py3.8/lib/python3.8/site-packages/django/db/models/fields/__init__.py:1424: RuntimeWarning: DateTimeField ToDo.created_at received a naive datetime (2024-03-21 20:19:13.475041) while time zone support is active.\n",
      "  warnings.warn(\"DateTimeField %s received a naive datetime (%s)\"\n"
     ]
    },
    {
     "name": "stdout",
     "output_type": "stream",
     "text": [
      "Procedure matching query does not exist.\n"
     ]
    },
    {
     "name": "stderr",
     "output_type": "stream",
     "text": [
      "WARNING\tProperty: Unknown Property name. [1:1: word-wrap]\n",
      "WARNING:CSSUTILS:Property: Unknown Property name. [1:1: word-wrap]\n"
     ]
    },
    {
     "name": "stdout",
     "output_type": "stream",
     "text": [
      "'NoneType' object has no attribute 'is_final'\n"
     ]
    },
    {
     "name": "stderr",
     "output_type": "stream",
     "text": [
      "/home/luan/.cache/pypoetry/virtualenvs/apps-ZFymp6kh-py3.8/lib/python3.8/site-packages/django/db/models/fields/__init__.py:1424: RuntimeWarning: DateTimeField ServiceOrder.opened_at received a naive datetime (2024-03-22 08:19:14.748821) while time zone support is active.\n",
      "  warnings.warn(\"DateTimeField %s received a naive datetime (%s)\"\n",
      "/home/luan/.cache/pypoetry/virtualenvs/apps-ZFymp6kh-py3.8/lib/python3.8/site-packages/django/db/models/fields/__init__.py:1424: RuntimeWarning: DateTimeField HistoricalServiceOrder.opened_at received a naive datetime (2024-03-22 08:19:14.748821) while time zone support is active.\n",
      "  warnings.warn(\"DateTimeField %s received a naive datetime (%s)\"\n",
      "/home/luan/.cache/pypoetry/virtualenvs/apps-ZFymp6kh-py3.8/lib/python3.8/site-packages/django/db/models/fields/__init__.py:1424: RuntimeWarning: DateTimeField ToDo.created_at received a naive datetime (2024-03-21 20:19:14.855743) while time zone support is active.\n",
      "  warnings.warn(\"DateTimeField %s received a naive datetime (%s)\"\n"
     ]
    },
    {
     "name": "stdout",
     "output_type": "stream",
     "text": [
      "Procedure matching query does not exist.\n"
     ]
    },
    {
     "name": "stderr",
     "output_type": "stream",
     "text": [
      "WARNING\tProperty: Unknown Property name. [1:1: word-wrap]\n",
      "WARNING:CSSUTILS:Property: Unknown Property name. [1:1: word-wrap]\n"
     ]
    },
    {
     "name": "stdout",
     "output_type": "stream",
     "text": [
      "'NoneType' object has no attribute 'is_final'\n"
     ]
    },
    {
     "name": "stderr",
     "output_type": "stream",
     "text": [
      "/home/luan/.cache/pypoetry/virtualenvs/apps-ZFymp6kh-py3.8/lib/python3.8/site-packages/django/db/models/fields/__init__.py:1424: RuntimeWarning: DateTimeField OccurrenceRecord.datetime received a naive datetime (2017-02-20 00:00:00) while time zone support is active.\n",
      "  warnings.warn(\"DateTimeField %s received a naive datetime (%s)\"\n",
      "/home/luan/.cache/pypoetry/virtualenvs/apps-ZFymp6kh-py3.8/lib/python3.8/site-packages/django/db/models/fields/__init__.py:1424: RuntimeWarning: DateTimeField HistoricalOccurrenceRecord.datetime received a naive datetime (2017-02-20 00:00:00) while time zone support is active.\n",
      "  warnings.warn(\"DateTimeField %s received a naive datetime (%s)\"\n",
      "/home/luan/.cache/pypoetry/virtualenvs/apps-ZFymp6kh-py3.8/lib/python3.8/site-packages/django/db/models/fields/__init__.py:1424: RuntimeWarning: DateTimeField ServiceOrder.opened_at received a naive datetime (2024-03-22 08:19:17.342233) while time zone support is active.\n",
      "  warnings.warn(\"DateTimeField %s received a naive datetime (%s)\"\n",
      "/home/luan/.cache/pypoetry/virtualenvs/apps-ZFymp6kh-py3.8/lib/python3.8/site-packages/django/db/models/fields/__init__.py:1424: RuntimeWarning: DateTimeField HistoricalServiceOrder.opened_at received a naive datetime (2024-03-22 08:19:17.342233) while time zone support is active.\n",
      "  warnings.warn(\"DateTimeField %s received a naive datetime (%s)\"\n",
      "/home/luan/.cache/pypoetry/virtualenvs/apps-ZFymp6kh-py3.8/lib/python3.8/site-packages/django/db/models/fields/__init__.py:1424: RuntimeWarning: DateTimeField ToDo.created_at received a naive datetime (2024-03-21 20:19:17.443550) while time zone support is active.\n",
      "  warnings.warn(\"DateTimeField %s received a naive datetime (%s)\"\n"
     ]
    },
    {
     "name": "stdout",
     "output_type": "stream",
     "text": [
      "Procedure matching query does not exist.\n"
     ]
    },
    {
     "name": "stderr",
     "output_type": "stream",
     "text": [
      "WARNING\tProperty: Unknown Property name. [1:1: word-wrap]\n",
      "WARNING:CSSUTILS:Property: Unknown Property name. [1:1: word-wrap]\n"
     ]
    },
    {
     "name": "stdout",
     "output_type": "stream",
     "text": [
      "'NoneType' object has no attribute 'is_final'\n"
     ]
    },
    {
     "name": "stderr",
     "output_type": "stream",
     "text": [
      "/home/luan/.cache/pypoetry/virtualenvs/apps-ZFymp6kh-py3.8/lib/python3.8/site-packages/django/db/models/fields/__init__.py:1424: RuntimeWarning: DateTimeField ServiceOrder.opened_at received a naive datetime (2024-03-22 08:19:19.904418) while time zone support is active.\n",
      "  warnings.warn(\"DateTimeField %s received a naive datetime (%s)\"\n",
      "/home/luan/.cache/pypoetry/virtualenvs/apps-ZFymp6kh-py3.8/lib/python3.8/site-packages/django/db/models/fields/__init__.py:1424: RuntimeWarning: DateTimeField HistoricalServiceOrder.opened_at received a naive datetime (2024-03-22 08:19:19.904418) while time zone support is active.\n",
      "  warnings.warn(\"DateTimeField %s received a naive datetime (%s)\"\n",
      "/home/luan/.cache/pypoetry/virtualenvs/apps-ZFymp6kh-py3.8/lib/python3.8/site-packages/django/db/models/fields/__init__.py:1424: RuntimeWarning: DateTimeField ToDo.created_at received a naive datetime (2024-03-21 20:19:20.027520) while time zone support is active.\n",
      "  warnings.warn(\"DateTimeField %s received a naive datetime (%s)\"\n"
     ]
    },
    {
     "name": "stdout",
     "output_type": "stream",
     "text": [
      "Procedure matching query does not exist.\n"
     ]
    },
    {
     "name": "stderr",
     "output_type": "stream",
     "text": [
      "WARNING\tProperty: Unknown Property name. [1:1: word-wrap]\n",
      "WARNING:CSSUTILS:Property: Unknown Property name. [1:1: word-wrap]\n"
     ]
    },
    {
     "name": "stdout",
     "output_type": "stream",
     "text": [
      "'NoneType' object has no attribute 'is_final'\n"
     ]
    },
    {
     "name": "stderr",
     "output_type": "stream",
     "text": [
      "/home/luan/.cache/pypoetry/virtualenvs/apps-ZFymp6kh-py3.8/lib/python3.8/site-packages/django/db/models/fields/__init__.py:1424: RuntimeWarning: DateTimeField OccurrenceRecord.datetime received a naive datetime (2017-03-08 00:00:00) while time zone support is active.\n",
      "  warnings.warn(\"DateTimeField %s received a naive datetime (%s)\"\n",
      "/home/luan/.cache/pypoetry/virtualenvs/apps-ZFymp6kh-py3.8/lib/python3.8/site-packages/django/db/models/fields/__init__.py:1424: RuntimeWarning: DateTimeField HistoricalOccurrenceRecord.datetime received a naive datetime (2017-03-08 00:00:00) while time zone support is active.\n",
      "  warnings.warn(\"DateTimeField %s received a naive datetime (%s)\"\n",
      "/home/luan/.cache/pypoetry/virtualenvs/apps-ZFymp6kh-py3.8/lib/python3.8/site-packages/django/db/models/fields/__init__.py:1424: RuntimeWarning: DateTimeField ServiceOrder.opened_at received a naive datetime (2024-03-22 08:19:21.318600) while time zone support is active.\n",
      "  warnings.warn(\"DateTimeField %s received a naive datetime (%s)\"\n",
      "/home/luan/.cache/pypoetry/virtualenvs/apps-ZFymp6kh-py3.8/lib/python3.8/site-packages/django/db/models/fields/__init__.py:1424: RuntimeWarning: DateTimeField HistoricalServiceOrder.opened_at received a naive datetime (2024-03-22 08:19:21.318600) while time zone support is active.\n",
      "  warnings.warn(\"DateTimeField %s received a naive datetime (%s)\"\n",
      "/home/luan/.cache/pypoetry/virtualenvs/apps-ZFymp6kh-py3.8/lib/python3.8/site-packages/django/db/models/fields/__init__.py:1424: RuntimeWarning: DateTimeField ToDo.created_at received a naive datetime (2024-03-21 20:19:21.439195) while time zone support is active.\n",
      "  warnings.warn(\"DateTimeField %s received a naive datetime (%s)\"\n"
     ]
    },
    {
     "name": "stdout",
     "output_type": "stream",
     "text": [
      "Procedure matching query does not exist.\n"
     ]
    },
    {
     "name": "stderr",
     "output_type": "stream",
     "text": [
      "WARNING\tProperty: Unknown Property name. [1:1: word-wrap]\n",
      "WARNING:CSSUTILS:Property: Unknown Property name. [1:1: word-wrap]\n"
     ]
    },
    {
     "name": "stdout",
     "output_type": "stream",
     "text": [
      "'NoneType' object has no attribute 'is_final'\n"
     ]
    },
    {
     "name": "stderr",
     "output_type": "stream",
     "text": [
      "/home/luan/.cache/pypoetry/virtualenvs/apps-ZFymp6kh-py3.8/lib/python3.8/site-packages/django/db/models/fields/__init__.py:1424: RuntimeWarning: DateTimeField ServiceOrder.opened_at received a naive datetime (2024-03-22 08:19:22.735014) while time zone support is active.\n",
      "  warnings.warn(\"DateTimeField %s received a naive datetime (%s)\"\n",
      "/home/luan/.cache/pypoetry/virtualenvs/apps-ZFymp6kh-py3.8/lib/python3.8/site-packages/django/db/models/fields/__init__.py:1424: RuntimeWarning: DateTimeField HistoricalServiceOrder.opened_at received a naive datetime (2024-03-22 08:19:22.735014) while time zone support is active.\n",
      "  warnings.warn(\"DateTimeField %s received a naive datetime (%s)\"\n",
      "/home/luan/.cache/pypoetry/virtualenvs/apps-ZFymp6kh-py3.8/lib/python3.8/site-packages/django/db/models/fields/__init__.py:1424: RuntimeWarning: DateTimeField ToDo.created_at received a naive datetime (2024-03-21 20:19:22.844428) while time zone support is active.\n",
      "  warnings.warn(\"DateTimeField %s received a naive datetime (%s)\"\n"
     ]
    },
    {
     "name": "stdout",
     "output_type": "stream",
     "text": [
      "Procedure matching query does not exist.\n"
     ]
    },
    {
     "name": "stderr",
     "output_type": "stream",
     "text": [
      "WARNING\tProperty: Unknown Property name. [1:1: word-wrap]\n",
      "WARNING:CSSUTILS:Property: Unknown Property name. [1:1: word-wrap]\n"
     ]
    },
    {
     "name": "stdout",
     "output_type": "stream",
     "text": [
      "'NoneType' object has no attribute 'is_final'\n"
     ]
    },
    {
     "name": "stderr",
     "output_type": "stream",
     "text": [
      "/home/luan/.cache/pypoetry/virtualenvs/apps-ZFymp6kh-py3.8/lib/python3.8/site-packages/django/db/models/fields/__init__.py:1424: RuntimeWarning: DateTimeField OccurrenceRecord.datetime received a naive datetime (2017-04-18 00:00:00) while time zone support is active.\n",
      "  warnings.warn(\"DateTimeField %s received a naive datetime (%s)\"\n",
      "/home/luan/.cache/pypoetry/virtualenvs/apps-ZFymp6kh-py3.8/lib/python3.8/site-packages/django/db/models/fields/__init__.py:1424: RuntimeWarning: DateTimeField HistoricalOccurrenceRecord.datetime received a naive datetime (2017-04-18 00:00:00) while time zone support is active.\n",
      "  warnings.warn(\"DateTimeField %s received a naive datetime (%s)\"\n",
      "/home/luan/.cache/pypoetry/virtualenvs/apps-ZFymp6kh-py3.8/lib/python3.8/site-packages/django/db/models/fields/__init__.py:1424: RuntimeWarning: DateTimeField ServiceOrder.opened_at received a naive datetime (2024-03-22 08:19:25.521362) while time zone support is active.\n",
      "  warnings.warn(\"DateTimeField %s received a naive datetime (%s)\"\n",
      "/home/luan/.cache/pypoetry/virtualenvs/apps-ZFymp6kh-py3.8/lib/python3.8/site-packages/django/db/models/fields/__init__.py:1424: RuntimeWarning: DateTimeField HistoricalServiceOrder.opened_at received a naive datetime (2024-03-22 08:19:25.521362) while time zone support is active.\n",
      "  warnings.warn(\"DateTimeField %s received a naive datetime (%s)\"\n",
      "/home/luan/.cache/pypoetry/virtualenvs/apps-ZFymp6kh-py3.8/lib/python3.8/site-packages/django/db/models/fields/__init__.py:1424: RuntimeWarning: DateTimeField ToDo.created_at received a naive datetime (2024-03-21 20:19:25.626969) while time zone support is active.\n",
      "  warnings.warn(\"DateTimeField %s received a naive datetime (%s)\"\n"
     ]
    },
    {
     "name": "stdout",
     "output_type": "stream",
     "text": [
      "Procedure matching query does not exist.\n"
     ]
    },
    {
     "name": "stderr",
     "output_type": "stream",
     "text": [
      "WARNING\tProperty: Unknown Property name. [1:1: word-wrap]\n",
      "WARNING:CSSUTILS:Property: Unknown Property name. [1:1: word-wrap]\n"
     ]
    },
    {
     "name": "stdout",
     "output_type": "stream",
     "text": [
      "'NoneType' object has no attribute 'is_final'\n"
     ]
    },
    {
     "name": "stderr",
     "output_type": "stream",
     "text": [
      "/home/luan/.cache/pypoetry/virtualenvs/apps-ZFymp6kh-py3.8/lib/python3.8/site-packages/django/db/models/fields/__init__.py:1424: RuntimeWarning: DateTimeField ServiceOrder.opened_at received a naive datetime (2024-03-22 08:19:26.910524) while time zone support is active.\n",
      "  warnings.warn(\"DateTimeField %s received a naive datetime (%s)\"\n",
      "/home/luan/.cache/pypoetry/virtualenvs/apps-ZFymp6kh-py3.8/lib/python3.8/site-packages/django/db/models/fields/__init__.py:1424: RuntimeWarning: DateTimeField HistoricalServiceOrder.opened_at received a naive datetime (2024-03-22 08:19:26.910524) while time zone support is active.\n",
      "  warnings.warn(\"DateTimeField %s received a naive datetime (%s)\"\n",
      "/home/luan/.cache/pypoetry/virtualenvs/apps-ZFymp6kh-py3.8/lib/python3.8/site-packages/django/db/models/fields/__init__.py:1424: RuntimeWarning: DateTimeField ToDo.created_at received a naive datetime (2024-03-21 20:19:27.035834) while time zone support is active.\n",
      "  warnings.warn(\"DateTimeField %s received a naive datetime (%s)\"\n"
     ]
    },
    {
     "name": "stdout",
     "output_type": "stream",
     "text": [
      "Procedure matching query does not exist.\n"
     ]
    },
    {
     "name": "stderr",
     "output_type": "stream",
     "text": [
      "WARNING\tProperty: Unknown Property name. [1:1: word-wrap]\n",
      "WARNING:CSSUTILS:Property: Unknown Property name. [1:1: word-wrap]\n"
     ]
    },
    {
     "name": "stdout",
     "output_type": "stream",
     "text": [
      "'NoneType' object has no attribute 'is_final'\n"
     ]
    },
    {
     "name": "stderr",
     "output_type": "stream",
     "text": [
      "/home/luan/.cache/pypoetry/virtualenvs/apps-ZFymp6kh-py3.8/lib/python3.8/site-packages/django/db/models/fields/__init__.py:1424: RuntimeWarning: DateTimeField OccurrenceRecord.datetime received a naive datetime (2017-04-28 00:00:00) while time zone support is active.\n",
      "  warnings.warn(\"DateTimeField %s received a naive datetime (%s)\"\n",
      "/home/luan/.cache/pypoetry/virtualenvs/apps-ZFymp6kh-py3.8/lib/python3.8/site-packages/django/db/models/fields/__init__.py:1424: RuntimeWarning: DateTimeField HistoricalOccurrenceRecord.datetime received a naive datetime (2017-04-28 00:00:00) while time zone support is active.\n",
      "  warnings.warn(\"DateTimeField %s received a naive datetime (%s)\"\n",
      "/home/luan/.cache/pypoetry/virtualenvs/apps-ZFymp6kh-py3.8/lib/python3.8/site-packages/django/db/models/fields/__init__.py:1424: RuntimeWarning: DateTimeField ServiceOrder.opened_at received a naive datetime (2024-03-22 08:19:29.575931) while time zone support is active.\n",
      "  warnings.warn(\"DateTimeField %s received a naive datetime (%s)\"\n",
      "/home/luan/.cache/pypoetry/virtualenvs/apps-ZFymp6kh-py3.8/lib/python3.8/site-packages/django/db/models/fields/__init__.py:1424: RuntimeWarning: DateTimeField HistoricalServiceOrder.opened_at received a naive datetime (2024-03-22 08:19:29.575931) while time zone support is active.\n",
      "  warnings.warn(\"DateTimeField %s received a naive datetime (%s)\"\n",
      "/home/luan/.cache/pypoetry/virtualenvs/apps-ZFymp6kh-py3.8/lib/python3.8/site-packages/django/db/models/fields/__init__.py:1424: RuntimeWarning: DateTimeField ToDo.created_at received a naive datetime (2024-03-21 20:19:29.679167) while time zone support is active.\n",
      "  warnings.warn(\"DateTimeField %s received a naive datetime (%s)\"\n"
     ]
    },
    {
     "name": "stdout",
     "output_type": "stream",
     "text": [
      "Procedure matching query does not exist.\n"
     ]
    },
    {
     "name": "stderr",
     "output_type": "stream",
     "text": [
      "WARNING\tProperty: Unknown Property name. [1:1: word-wrap]\n",
      "WARNING:CSSUTILS:Property: Unknown Property name. [1:1: word-wrap]\n"
     ]
    },
    {
     "name": "stdout",
     "output_type": "stream",
     "text": [
      "'NoneType' object has no attribute 'is_final'\n"
     ]
    },
    {
     "name": "stderr",
     "output_type": "stream",
     "text": [
      "/home/luan/.cache/pypoetry/virtualenvs/apps-ZFymp6kh-py3.8/lib/python3.8/site-packages/django/db/models/fields/__init__.py:1424: RuntimeWarning: DateTimeField OccurrenceRecord.datetime received a naive datetime (2017-05-08 00:00:00) while time zone support is active.\n",
      "  warnings.warn(\"DateTimeField %s received a naive datetime (%s)\"\n",
      "/home/luan/.cache/pypoetry/virtualenvs/apps-ZFymp6kh-py3.8/lib/python3.8/site-packages/django/db/models/fields/__init__.py:1424: RuntimeWarning: DateTimeField HistoricalOccurrenceRecord.datetime received a naive datetime (2017-05-08 00:00:00) while time zone support is active.\n",
      "  warnings.warn(\"DateTimeField %s received a naive datetime (%s)\"\n",
      "/home/luan/.cache/pypoetry/virtualenvs/apps-ZFymp6kh-py3.8/lib/python3.8/site-packages/django/db/models/fields/__init__.py:1424: RuntimeWarning: DateTimeField ServiceOrder.opened_at received a naive datetime (2024-03-22 08:19:32.286399) while time zone support is active.\n",
      "  warnings.warn(\"DateTimeField %s received a naive datetime (%s)\"\n",
      "/home/luan/.cache/pypoetry/virtualenvs/apps-ZFymp6kh-py3.8/lib/python3.8/site-packages/django/db/models/fields/__init__.py:1424: RuntimeWarning: DateTimeField HistoricalServiceOrder.opened_at received a naive datetime (2024-03-22 08:19:32.286399) while time zone support is active.\n",
      "  warnings.warn(\"DateTimeField %s received a naive datetime (%s)\"\n",
      "/home/luan/.cache/pypoetry/virtualenvs/apps-ZFymp6kh-py3.8/lib/python3.8/site-packages/django/db/models/fields/__init__.py:1424: RuntimeWarning: DateTimeField ToDo.created_at received a naive datetime (2024-03-21 20:19:32.400666) while time zone support is active.\n",
      "  warnings.warn(\"DateTimeField %s received a naive datetime (%s)\"\n"
     ]
    },
    {
     "name": "stdout",
     "output_type": "stream",
     "text": [
      "Procedure matching query does not exist.\n"
     ]
    },
    {
     "name": "stderr",
     "output_type": "stream",
     "text": [
      "WARNING\tProperty: Unknown Property name. [1:1: word-wrap]\n",
      "WARNING:CSSUTILS:Property: Unknown Property name. [1:1: word-wrap]\n"
     ]
    },
    {
     "name": "stdout",
     "output_type": "stream",
     "text": [
      "'NoneType' object has no attribute 'is_final'\n"
     ]
    },
    {
     "name": "stderr",
     "output_type": "stream",
     "text": [
      "/home/luan/.cache/pypoetry/virtualenvs/apps-ZFymp6kh-py3.8/lib/python3.8/site-packages/django/db/models/fields/__init__.py:1424: RuntimeWarning: DateTimeField ServiceOrder.opened_at received a naive datetime (2024-03-22 08:19:33.706456) while time zone support is active.\n",
      "  warnings.warn(\"DateTimeField %s received a naive datetime (%s)\"\n",
      "/home/luan/.cache/pypoetry/virtualenvs/apps-ZFymp6kh-py3.8/lib/python3.8/site-packages/django/db/models/fields/__init__.py:1424: RuntimeWarning: DateTimeField HistoricalServiceOrder.opened_at received a naive datetime (2024-03-22 08:19:33.706456) while time zone support is active.\n",
      "  warnings.warn(\"DateTimeField %s received a naive datetime (%s)\"\n",
      "/home/luan/.cache/pypoetry/virtualenvs/apps-ZFymp6kh-py3.8/lib/python3.8/site-packages/django/db/models/fields/__init__.py:1424: RuntimeWarning: DateTimeField ToDo.created_at received a naive datetime (2024-03-21 20:19:33.817245) while time zone support is active.\n",
      "  warnings.warn(\"DateTimeField %s received a naive datetime (%s)\"\n"
     ]
    },
    {
     "name": "stdout",
     "output_type": "stream",
     "text": [
      "Procedure matching query does not exist.\n"
     ]
    },
    {
     "name": "stderr",
     "output_type": "stream",
     "text": [
      "WARNING\tProperty: Unknown Property name. [1:1: word-wrap]\n",
      "WARNING:CSSUTILS:Property: Unknown Property name. [1:1: word-wrap]\n"
     ]
    },
    {
     "name": "stdout",
     "output_type": "stream",
     "text": [
      "'NoneType' object has no attribute 'is_final'\n"
     ]
    },
    {
     "name": "stderr",
     "output_type": "stream",
     "text": [
      "/home/luan/.cache/pypoetry/virtualenvs/apps-ZFymp6kh-py3.8/lib/python3.8/site-packages/django/db/models/fields/__init__.py:1424: RuntimeWarning: DateTimeField OccurrenceRecord.datetime received a naive datetime (2017-05-16 00:00:00) while time zone support is active.\n",
      "  warnings.warn(\"DateTimeField %s received a naive datetime (%s)\"\n",
      "/home/luan/.cache/pypoetry/virtualenvs/apps-ZFymp6kh-py3.8/lib/python3.8/site-packages/django/db/models/fields/__init__.py:1424: RuntimeWarning: DateTimeField HistoricalOccurrenceRecord.datetime received a naive datetime (2017-05-16 00:00:00) while time zone support is active.\n",
      "  warnings.warn(\"DateTimeField %s received a naive datetime (%s)\"\n",
      "/home/luan/.cache/pypoetry/virtualenvs/apps-ZFymp6kh-py3.8/lib/python3.8/site-packages/django/db/models/fields/__init__.py:1424: RuntimeWarning: DateTimeField ServiceOrder.opened_at received a naive datetime (2024-03-22 08:19:35.082650) while time zone support is active.\n",
      "  warnings.warn(\"DateTimeField %s received a naive datetime (%s)\"\n",
      "/home/luan/.cache/pypoetry/virtualenvs/apps-ZFymp6kh-py3.8/lib/python3.8/site-packages/django/db/models/fields/__init__.py:1424: RuntimeWarning: DateTimeField HistoricalServiceOrder.opened_at received a naive datetime (2024-03-22 08:19:35.082650) while time zone support is active.\n",
      "  warnings.warn(\"DateTimeField %s received a naive datetime (%s)\"\n",
      "/home/luan/.cache/pypoetry/virtualenvs/apps-ZFymp6kh-py3.8/lib/python3.8/site-packages/django/db/models/fields/__init__.py:1424: RuntimeWarning: DateTimeField ToDo.created_at received a naive datetime (2024-03-21 20:19:35.201981) while time zone support is active.\n",
      "  warnings.warn(\"DateTimeField %s received a naive datetime (%s)\"\n"
     ]
    },
    {
     "name": "stdout",
     "output_type": "stream",
     "text": [
      "Procedure matching query does not exist.\n"
     ]
    },
    {
     "name": "stderr",
     "output_type": "stream",
     "text": [
      "WARNING\tProperty: Unknown Property name. [1:1: word-wrap]\n",
      "WARNING:CSSUTILS:Property: Unknown Property name. [1:1: word-wrap]\n"
     ]
    },
    {
     "name": "stdout",
     "output_type": "stream",
     "text": [
      "'NoneType' object has no attribute 'is_final'\n"
     ]
    },
    {
     "name": "stderr",
     "output_type": "stream",
     "text": [
      "/home/luan/.cache/pypoetry/virtualenvs/apps-ZFymp6kh-py3.8/lib/python3.8/site-packages/django/db/models/fields/__init__.py:1424: RuntimeWarning: DateTimeField OccurrenceRecord.datetime received a naive datetime (2017-05-17 00:00:00) while time zone support is active.\n",
      "  warnings.warn(\"DateTimeField %s received a naive datetime (%s)\"\n",
      "/home/luan/.cache/pypoetry/virtualenvs/apps-ZFymp6kh-py3.8/lib/python3.8/site-packages/django/db/models/fields/__init__.py:1424: RuntimeWarning: DateTimeField HistoricalOccurrenceRecord.datetime received a naive datetime (2017-05-17 00:00:00) while time zone support is active.\n",
      "  warnings.warn(\"DateTimeField %s received a naive datetime (%s)\"\n",
      "/home/luan/.cache/pypoetry/virtualenvs/apps-ZFymp6kh-py3.8/lib/python3.8/site-packages/django/db/models/fields/__init__.py:1424: RuntimeWarning: DateTimeField ServiceOrder.opened_at received a naive datetime (2024-03-22 08:19:36.452294) while time zone support is active.\n",
      "  warnings.warn(\"DateTimeField %s received a naive datetime (%s)\"\n",
      "/home/luan/.cache/pypoetry/virtualenvs/apps-ZFymp6kh-py3.8/lib/python3.8/site-packages/django/db/models/fields/__init__.py:1424: RuntimeWarning: DateTimeField HistoricalServiceOrder.opened_at received a naive datetime (2024-03-22 08:19:36.452294) while time zone support is active.\n",
      "  warnings.warn(\"DateTimeField %s received a naive datetime (%s)\"\n",
      "/home/luan/.cache/pypoetry/virtualenvs/apps-ZFymp6kh-py3.8/lib/python3.8/site-packages/django/db/models/fields/__init__.py:1424: RuntimeWarning: DateTimeField ToDo.created_at received a naive datetime (2024-03-21 20:19:36.560186) while time zone support is active.\n",
      "  warnings.warn(\"DateTimeField %s received a naive datetime (%s)\"\n"
     ]
    },
    {
     "name": "stdout",
     "output_type": "stream",
     "text": [
      "Procedure matching query does not exist.\n"
     ]
    },
    {
     "name": "stderr",
     "output_type": "stream",
     "text": [
      "WARNING\tProperty: Unknown Property name. [1:1: word-wrap]\n",
      "WARNING:CSSUTILS:Property: Unknown Property name. [1:1: word-wrap]\n"
     ]
    },
    {
     "name": "stdout",
     "output_type": "stream",
     "text": [
      "'NoneType' object has no attribute 'is_final'\n"
     ]
    },
    {
     "name": "stderr",
     "output_type": "stream",
     "text": [
      "/home/luan/.cache/pypoetry/virtualenvs/apps-ZFymp6kh-py3.8/lib/python3.8/site-packages/django/db/models/fields/__init__.py:1424: RuntimeWarning: DateTimeField OccurrenceRecord.datetime received a naive datetime (2017-06-14 00:00:00) while time zone support is active.\n",
      "  warnings.warn(\"DateTimeField %s received a naive datetime (%s)\"\n",
      "/home/luan/.cache/pypoetry/virtualenvs/apps-ZFymp6kh-py3.8/lib/python3.8/site-packages/django/db/models/fields/__init__.py:1424: RuntimeWarning: DateTimeField HistoricalOccurrenceRecord.datetime received a naive datetime (2017-06-14 00:00:00) while time zone support is active.\n",
      "  warnings.warn(\"DateTimeField %s received a naive datetime (%s)\"\n",
      "/home/luan/.cache/pypoetry/virtualenvs/apps-ZFymp6kh-py3.8/lib/python3.8/site-packages/django/db/models/fields/__init__.py:1424: RuntimeWarning: DateTimeField ServiceOrder.opened_at received a naive datetime (2024-03-22 08:19:37.895211) while time zone support is active.\n",
      "  warnings.warn(\"DateTimeField %s received a naive datetime (%s)\"\n",
      "/home/luan/.cache/pypoetry/virtualenvs/apps-ZFymp6kh-py3.8/lib/python3.8/site-packages/django/db/models/fields/__init__.py:1424: RuntimeWarning: DateTimeField HistoricalServiceOrder.opened_at received a naive datetime (2024-03-22 08:19:37.895211) while time zone support is active.\n",
      "  warnings.warn(\"DateTimeField %s received a naive datetime (%s)\"\n",
      "/home/luan/.cache/pypoetry/virtualenvs/apps-ZFymp6kh-py3.8/lib/python3.8/site-packages/django/db/models/fields/__init__.py:1424: RuntimeWarning: DateTimeField ToDo.created_at received a naive datetime (2024-03-21 20:19:38.004756) while time zone support is active.\n",
      "  warnings.warn(\"DateTimeField %s received a naive datetime (%s)\"\n"
     ]
    },
    {
     "name": "stdout",
     "output_type": "stream",
     "text": [
      "Procedure matching query does not exist.\n"
     ]
    },
    {
     "name": "stderr",
     "output_type": "stream",
     "text": [
      "WARNING\tProperty: Unknown Property name. [1:1: word-wrap]\n",
      "WARNING:CSSUTILS:Property: Unknown Property name. [1:1: word-wrap]\n"
     ]
    },
    {
     "name": "stdout",
     "output_type": "stream",
     "text": [
      "'NoneType' object has no attribute 'is_final'\n"
     ]
    },
    {
     "name": "stderr",
     "output_type": "stream",
     "text": [
      "/home/luan/.cache/pypoetry/virtualenvs/apps-ZFymp6kh-py3.8/lib/python3.8/site-packages/django/db/models/fields/__init__.py:1424: RuntimeWarning: DateTimeField OccurrenceRecord.datetime received a naive datetime (2017-06-22 00:00:00) while time zone support is active.\n",
      "  warnings.warn(\"DateTimeField %s received a naive datetime (%s)\"\n",
      "/home/luan/.cache/pypoetry/virtualenvs/apps-ZFymp6kh-py3.8/lib/python3.8/site-packages/django/db/models/fields/__init__.py:1424: RuntimeWarning: DateTimeField HistoricalOccurrenceRecord.datetime received a naive datetime (2017-06-22 00:00:00) while time zone support is active.\n",
      "  warnings.warn(\"DateTimeField %s received a naive datetime (%s)\"\n",
      "/home/luan/.cache/pypoetry/virtualenvs/apps-ZFymp6kh-py3.8/lib/python3.8/site-packages/django/db/models/fields/__init__.py:1424: RuntimeWarning: DateTimeField ServiceOrder.opened_at received a naive datetime (2024-03-22 08:19:39.351312) while time zone support is active.\n",
      "  warnings.warn(\"DateTimeField %s received a naive datetime (%s)\"\n",
      "/home/luan/.cache/pypoetry/virtualenvs/apps-ZFymp6kh-py3.8/lib/python3.8/site-packages/django/db/models/fields/__init__.py:1424: RuntimeWarning: DateTimeField HistoricalServiceOrder.opened_at received a naive datetime (2024-03-22 08:19:39.351312) while time zone support is active.\n",
      "  warnings.warn(\"DateTimeField %s received a naive datetime (%s)\"\n",
      "/home/luan/.cache/pypoetry/virtualenvs/apps-ZFymp6kh-py3.8/lib/python3.8/site-packages/django/db/models/fields/__init__.py:1424: RuntimeWarning: DateTimeField ToDo.created_at received a naive datetime (2024-03-21 20:19:39.457336) while time zone support is active.\n",
      "  warnings.warn(\"DateTimeField %s received a naive datetime (%s)\"\n"
     ]
    },
    {
     "name": "stdout",
     "output_type": "stream",
     "text": [
      "Procedure matching query does not exist.\n"
     ]
    },
    {
     "name": "stderr",
     "output_type": "stream",
     "text": [
      "WARNING\tProperty: Unknown Property name. [1:1: word-wrap]\n",
      "WARNING:CSSUTILS:Property: Unknown Property name. [1:1: word-wrap]\n"
     ]
    },
    {
     "name": "stdout",
     "output_type": "stream",
     "text": [
      "'NoneType' object has no attribute 'is_final'\n"
     ]
    },
    {
     "name": "stderr",
     "output_type": "stream",
     "text": [
      "/home/luan/.cache/pypoetry/virtualenvs/apps-ZFymp6kh-py3.8/lib/python3.8/site-packages/django/db/models/fields/__init__.py:1424: RuntimeWarning: DateTimeField OccurrenceRecord.datetime received a naive datetime (2017-06-29 00:00:00) while time zone support is active.\n",
      "  warnings.warn(\"DateTimeField %s received a naive datetime (%s)\"\n",
      "/home/luan/.cache/pypoetry/virtualenvs/apps-ZFymp6kh-py3.8/lib/python3.8/site-packages/django/db/models/fields/__init__.py:1424: RuntimeWarning: DateTimeField HistoricalOccurrenceRecord.datetime received a naive datetime (2017-06-29 00:00:00) while time zone support is active.\n",
      "  warnings.warn(\"DateTimeField %s received a naive datetime (%s)\"\n",
      "/home/luan/.cache/pypoetry/virtualenvs/apps-ZFymp6kh-py3.8/lib/python3.8/site-packages/django/db/models/fields/__init__.py:1424: RuntimeWarning: DateTimeField ServiceOrder.opened_at received a naive datetime (2024-03-22 08:19:40.869177) while time zone support is active.\n",
      "  warnings.warn(\"DateTimeField %s received a naive datetime (%s)\"\n",
      "/home/luan/.cache/pypoetry/virtualenvs/apps-ZFymp6kh-py3.8/lib/python3.8/site-packages/django/db/models/fields/__init__.py:1424: RuntimeWarning: DateTimeField HistoricalServiceOrder.opened_at received a naive datetime (2024-03-22 08:19:40.869177) while time zone support is active.\n",
      "  warnings.warn(\"DateTimeField %s received a naive datetime (%s)\"\n",
      "/home/luan/.cache/pypoetry/virtualenvs/apps-ZFymp6kh-py3.8/lib/python3.8/site-packages/django/db/models/fields/__init__.py:1424: RuntimeWarning: DateTimeField ToDo.created_at received a naive datetime (2024-03-21 20:19:40.972746) while time zone support is active.\n",
      "  warnings.warn(\"DateTimeField %s received a naive datetime (%s)\"\n"
     ]
    },
    {
     "name": "stdout",
     "output_type": "stream",
     "text": [
      "Procedure matching query does not exist.\n"
     ]
    },
    {
     "name": "stderr",
     "output_type": "stream",
     "text": [
      "WARNING\tProperty: Unknown Property name. [1:1: word-wrap]\n",
      "WARNING:CSSUTILS:Property: Unknown Property name. [1:1: word-wrap]\n"
     ]
    },
    {
     "name": "stdout",
     "output_type": "stream",
     "text": [
      "'NoneType' object has no attribute 'is_final'\n"
     ]
    },
    {
     "name": "stderr",
     "output_type": "stream",
     "text": [
      "/home/luan/.cache/pypoetry/virtualenvs/apps-ZFymp6kh-py3.8/lib/python3.8/site-packages/django/db/models/fields/__init__.py:1424: RuntimeWarning: DateTimeField OccurrenceRecord.datetime received a naive datetime (2017-07-11 00:00:00) while time zone support is active.\n",
      "  warnings.warn(\"DateTimeField %s received a naive datetime (%s)\"\n",
      "/home/luan/.cache/pypoetry/virtualenvs/apps-ZFymp6kh-py3.8/lib/python3.8/site-packages/django/db/models/fields/__init__.py:1424: RuntimeWarning: DateTimeField HistoricalOccurrenceRecord.datetime received a naive datetime (2017-07-11 00:00:00) while time zone support is active.\n",
      "  warnings.warn(\"DateTimeField %s received a naive datetime (%s)\"\n",
      "/home/luan/.cache/pypoetry/virtualenvs/apps-ZFymp6kh-py3.8/lib/python3.8/site-packages/django/db/models/fields/__init__.py:1424: RuntimeWarning: DateTimeField ServiceOrder.opened_at received a naive datetime (2024-03-22 08:19:42.383278) while time zone support is active.\n",
      "  warnings.warn(\"DateTimeField %s received a naive datetime (%s)\"\n",
      "/home/luan/.cache/pypoetry/virtualenvs/apps-ZFymp6kh-py3.8/lib/python3.8/site-packages/django/db/models/fields/__init__.py:1424: RuntimeWarning: DateTimeField HistoricalServiceOrder.opened_at received a naive datetime (2024-03-22 08:19:42.383278) while time zone support is active.\n",
      "  warnings.warn(\"DateTimeField %s received a naive datetime (%s)\"\n",
      "/home/luan/.cache/pypoetry/virtualenvs/apps-ZFymp6kh-py3.8/lib/python3.8/site-packages/django/db/models/fields/__init__.py:1424: RuntimeWarning: DateTimeField ToDo.created_at received a naive datetime (2024-03-21 20:19:42.489513) while time zone support is active.\n",
      "  warnings.warn(\"DateTimeField %s received a naive datetime (%s)\"\n"
     ]
    },
    {
     "name": "stdout",
     "output_type": "stream",
     "text": [
      "Procedure matching query does not exist.\n"
     ]
    },
    {
     "name": "stderr",
     "output_type": "stream",
     "text": [
      "WARNING\tProperty: Unknown Property name. [1:1: word-wrap]\n",
      "WARNING:CSSUTILS:Property: Unknown Property name. [1:1: word-wrap]\n"
     ]
    },
    {
     "name": "stdout",
     "output_type": "stream",
     "text": [
      "'NoneType' object has no attribute 'is_final'\n"
     ]
    },
    {
     "name": "stderr",
     "output_type": "stream",
     "text": [
      "/home/luan/.cache/pypoetry/virtualenvs/apps-ZFymp6kh-py3.8/lib/python3.8/site-packages/django/db/models/fields/__init__.py:1424: RuntimeWarning: DateTimeField OccurrenceRecord.datetime received a naive datetime (2017-07-21 00:00:00) while time zone support is active.\n",
      "  warnings.warn(\"DateTimeField %s received a naive datetime (%s)\"\n",
      "/home/luan/.cache/pypoetry/virtualenvs/apps-ZFymp6kh-py3.8/lib/python3.8/site-packages/django/db/models/fields/__init__.py:1424: RuntimeWarning: DateTimeField HistoricalOccurrenceRecord.datetime received a naive datetime (2017-07-21 00:00:00) while time zone support is active.\n",
      "  warnings.warn(\"DateTimeField %s received a naive datetime (%s)\"\n",
      "/home/luan/.cache/pypoetry/virtualenvs/apps-ZFymp6kh-py3.8/lib/python3.8/site-packages/django/db/models/fields/__init__.py:1424: RuntimeWarning: DateTimeField ServiceOrder.opened_at received a naive datetime (2024-03-22 08:19:43.714946) while time zone support is active.\n",
      "  warnings.warn(\"DateTimeField %s received a naive datetime (%s)\"\n",
      "/home/luan/.cache/pypoetry/virtualenvs/apps-ZFymp6kh-py3.8/lib/python3.8/site-packages/django/db/models/fields/__init__.py:1424: RuntimeWarning: DateTimeField HistoricalServiceOrder.opened_at received a naive datetime (2024-03-22 08:19:43.714946) while time zone support is active.\n",
      "  warnings.warn(\"DateTimeField %s received a naive datetime (%s)\"\n",
      "/home/luan/.cache/pypoetry/virtualenvs/apps-ZFymp6kh-py3.8/lib/python3.8/site-packages/django/db/models/fields/__init__.py:1424: RuntimeWarning: DateTimeField ToDo.created_at received a naive datetime (2024-03-21 20:19:43.824125) while time zone support is active.\n",
      "  warnings.warn(\"DateTimeField %s received a naive datetime (%s)\"\n"
     ]
    },
    {
     "name": "stdout",
     "output_type": "stream",
     "text": [
      "Procedure matching query does not exist.\n"
     ]
    },
    {
     "name": "stderr",
     "output_type": "stream",
     "text": [
      "WARNING\tProperty: Unknown Property name. [1:1: word-wrap]\n",
      "WARNING:CSSUTILS:Property: Unknown Property name. [1:1: word-wrap]\n"
     ]
    },
    {
     "name": "stdout",
     "output_type": "stream",
     "text": [
      "'NoneType' object has no attribute 'is_final'\n"
     ]
    },
    {
     "name": "stderr",
     "output_type": "stream",
     "text": [
      "/home/luan/.cache/pypoetry/virtualenvs/apps-ZFymp6kh-py3.8/lib/python3.8/site-packages/django/db/models/fields/__init__.py:1424: RuntimeWarning: DateTimeField OccurrenceRecord.datetime received a naive datetime (2017-07-28 00:00:00) while time zone support is active.\n",
      "  warnings.warn(\"DateTimeField %s received a naive datetime (%s)\"\n",
      "/home/luan/.cache/pypoetry/virtualenvs/apps-ZFymp6kh-py3.8/lib/python3.8/site-packages/django/db/models/fields/__init__.py:1424: RuntimeWarning: DateTimeField HistoricalOccurrenceRecord.datetime received a naive datetime (2017-07-28 00:00:00) while time zone support is active.\n",
      "  warnings.warn(\"DateTimeField %s received a naive datetime (%s)\"\n",
      "/home/luan/.cache/pypoetry/virtualenvs/apps-ZFymp6kh-py3.8/lib/python3.8/site-packages/django/db/models/fields/__init__.py:1424: RuntimeWarning: DateTimeField ServiceOrder.opened_at received a naive datetime (2024-03-22 08:19:45.199789) while time zone support is active.\n",
      "  warnings.warn(\"DateTimeField %s received a naive datetime (%s)\"\n",
      "/home/luan/.cache/pypoetry/virtualenvs/apps-ZFymp6kh-py3.8/lib/python3.8/site-packages/django/db/models/fields/__init__.py:1424: RuntimeWarning: DateTimeField HistoricalServiceOrder.opened_at received a naive datetime (2024-03-22 08:19:45.199789) while time zone support is active.\n",
      "  warnings.warn(\"DateTimeField %s received a naive datetime (%s)\"\n",
      "/home/luan/.cache/pypoetry/virtualenvs/apps-ZFymp6kh-py3.8/lib/python3.8/site-packages/django/db/models/fields/__init__.py:1424: RuntimeWarning: DateTimeField ToDo.created_at received a naive datetime (2024-03-21 20:19:45.421124) while time zone support is active.\n",
      "  warnings.warn(\"DateTimeField %s received a naive datetime (%s)\"\n"
     ]
    },
    {
     "name": "stdout",
     "output_type": "stream",
     "text": [
      "Procedure matching query does not exist.\n"
     ]
    },
    {
     "name": "stderr",
     "output_type": "stream",
     "text": [
      "WARNING\tProperty: Unknown Property name. [1:1: word-wrap]\n",
      "WARNING:CSSUTILS:Property: Unknown Property name. [1:1: word-wrap]\n"
     ]
    },
    {
     "name": "stdout",
     "output_type": "stream",
     "text": [
      "'NoneType' object has no attribute 'is_final'\n"
     ]
    },
    {
     "name": "stderr",
     "output_type": "stream",
     "text": [
      "/home/luan/.cache/pypoetry/virtualenvs/apps-ZFymp6kh-py3.8/lib/python3.8/site-packages/django/db/models/fields/__init__.py:1424: RuntimeWarning: DateTimeField OccurrenceRecord.datetime received a naive datetime (2017-08-08 00:00:00) while time zone support is active.\n",
      "  warnings.warn(\"DateTimeField %s received a naive datetime (%s)\"\n",
      "/home/luan/.cache/pypoetry/virtualenvs/apps-ZFymp6kh-py3.8/lib/python3.8/site-packages/django/db/models/fields/__init__.py:1424: RuntimeWarning: DateTimeField HistoricalOccurrenceRecord.datetime received a naive datetime (2017-08-08 00:00:00) while time zone support is active.\n",
      "  warnings.warn(\"DateTimeField %s received a naive datetime (%s)\"\n",
      "/home/luan/.cache/pypoetry/virtualenvs/apps-ZFymp6kh-py3.8/lib/python3.8/site-packages/django/db/models/fields/__init__.py:1424: RuntimeWarning: DateTimeField ServiceOrder.opened_at received a naive datetime (2024-03-22 08:19:46.835488) while time zone support is active.\n",
      "  warnings.warn(\"DateTimeField %s received a naive datetime (%s)\"\n",
      "/home/luan/.cache/pypoetry/virtualenvs/apps-ZFymp6kh-py3.8/lib/python3.8/site-packages/django/db/models/fields/__init__.py:1424: RuntimeWarning: DateTimeField HistoricalServiceOrder.opened_at received a naive datetime (2024-03-22 08:19:46.835488) while time zone support is active.\n",
      "  warnings.warn(\"DateTimeField %s received a naive datetime (%s)\"\n",
      "/home/luan/.cache/pypoetry/virtualenvs/apps-ZFymp6kh-py3.8/lib/python3.8/site-packages/django/db/models/fields/__init__.py:1424: RuntimeWarning: DateTimeField ToDo.created_at received a naive datetime (2024-03-21 20:19:46.959922) while time zone support is active.\n",
      "  warnings.warn(\"DateTimeField %s received a naive datetime (%s)\"\n"
     ]
    },
    {
     "name": "stdout",
     "output_type": "stream",
     "text": [
      "Procedure matching query does not exist.\n"
     ]
    },
    {
     "name": "stderr",
     "output_type": "stream",
     "text": [
      "WARNING\tProperty: Unknown Property name. [1:1: word-wrap]\n",
      "WARNING:CSSUTILS:Property: Unknown Property name. [1:1: word-wrap]\n"
     ]
    },
    {
     "name": "stdout",
     "output_type": "stream",
     "text": [
      "'NoneType' object has no attribute 'is_final'\n"
     ]
    },
    {
     "name": "stderr",
     "output_type": "stream",
     "text": [
      "/home/luan/.cache/pypoetry/virtualenvs/apps-ZFymp6kh-py3.8/lib/python3.8/site-packages/django/db/models/fields/__init__.py:1424: RuntimeWarning: DateTimeField OccurrenceRecord.datetime received a naive datetime (2017-08-22 00:00:00) while time zone support is active.\n",
      "  warnings.warn(\"DateTimeField %s received a naive datetime (%s)\"\n",
      "/home/luan/.cache/pypoetry/virtualenvs/apps-ZFymp6kh-py3.8/lib/python3.8/site-packages/django/db/models/fields/__init__.py:1424: RuntimeWarning: DateTimeField HistoricalOccurrenceRecord.datetime received a naive datetime (2017-08-22 00:00:00) while time zone support is active.\n",
      "  warnings.warn(\"DateTimeField %s received a naive datetime (%s)\"\n",
      "/home/luan/.cache/pypoetry/virtualenvs/apps-ZFymp6kh-py3.8/lib/python3.8/site-packages/django/db/models/fields/__init__.py:1424: RuntimeWarning: DateTimeField ServiceOrder.opened_at received a naive datetime (2024-03-22 08:19:49.453987) while time zone support is active.\n",
      "  warnings.warn(\"DateTimeField %s received a naive datetime (%s)\"\n",
      "/home/luan/.cache/pypoetry/virtualenvs/apps-ZFymp6kh-py3.8/lib/python3.8/site-packages/django/db/models/fields/__init__.py:1424: RuntimeWarning: DateTimeField HistoricalServiceOrder.opened_at received a naive datetime (2024-03-22 08:19:49.453987) while time zone support is active.\n",
      "  warnings.warn(\"DateTimeField %s received a naive datetime (%s)\"\n",
      "/home/luan/.cache/pypoetry/virtualenvs/apps-ZFymp6kh-py3.8/lib/python3.8/site-packages/django/db/models/fields/__init__.py:1424: RuntimeWarning: DateTimeField ToDo.created_at received a naive datetime (2024-03-21 20:19:49.554087) while time zone support is active.\n",
      "  warnings.warn(\"DateTimeField %s received a naive datetime (%s)\"\n"
     ]
    },
    {
     "name": "stdout",
     "output_type": "stream",
     "text": [
      "Procedure matching query does not exist.\n"
     ]
    },
    {
     "name": "stderr",
     "output_type": "stream",
     "text": [
      "WARNING\tProperty: Unknown Property name. [1:1: word-wrap]\n",
      "WARNING:CSSUTILS:Property: Unknown Property name. [1:1: word-wrap]\n"
     ]
    },
    {
     "name": "stdout",
     "output_type": "stream",
     "text": [
      "'NoneType' object has no attribute 'is_final'\n"
     ]
    },
    {
     "name": "stderr",
     "output_type": "stream",
     "text": [
      "/home/luan/.cache/pypoetry/virtualenvs/apps-ZFymp6kh-py3.8/lib/python3.8/site-packages/django/db/models/fields/__init__.py:1424: RuntimeWarning: DateTimeField OccurrenceRecord.datetime received a naive datetime (2017-08-29 00:00:00) while time zone support is active.\n",
      "  warnings.warn(\"DateTimeField %s received a naive datetime (%s)\"\n",
      "/home/luan/.cache/pypoetry/virtualenvs/apps-ZFymp6kh-py3.8/lib/python3.8/site-packages/django/db/models/fields/__init__.py:1424: RuntimeWarning: DateTimeField HistoricalOccurrenceRecord.datetime received a naive datetime (2017-08-29 00:00:00) while time zone support is active.\n",
      "  warnings.warn(\"DateTimeField %s received a naive datetime (%s)\"\n",
      "/home/luan/.cache/pypoetry/virtualenvs/apps-ZFymp6kh-py3.8/lib/python3.8/site-packages/django/db/models/fields/__init__.py:1424: RuntimeWarning: DateTimeField ServiceOrder.opened_at received a naive datetime (2024-03-22 08:19:52.293937) while time zone support is active.\n",
      "  warnings.warn(\"DateTimeField %s received a naive datetime (%s)\"\n",
      "/home/luan/.cache/pypoetry/virtualenvs/apps-ZFymp6kh-py3.8/lib/python3.8/site-packages/django/db/models/fields/__init__.py:1424: RuntimeWarning: DateTimeField HistoricalServiceOrder.opened_at received a naive datetime (2024-03-22 08:19:52.293937) while time zone support is active.\n",
      "  warnings.warn(\"DateTimeField %s received a naive datetime (%s)\"\n",
      "/home/luan/.cache/pypoetry/virtualenvs/apps-ZFymp6kh-py3.8/lib/python3.8/site-packages/django/db/models/fields/__init__.py:1424: RuntimeWarning: DateTimeField ToDo.created_at received a naive datetime (2024-03-21 20:19:52.398361) while time zone support is active.\n",
      "  warnings.warn(\"DateTimeField %s received a naive datetime (%s)\"\n"
     ]
    },
    {
     "name": "stdout",
     "output_type": "stream",
     "text": [
      "Procedure matching query does not exist.\n"
     ]
    },
    {
     "name": "stderr",
     "output_type": "stream",
     "text": [
      "WARNING\tProperty: Unknown Property name. [1:1: word-wrap]\n",
      "WARNING:CSSUTILS:Property: Unknown Property name. [1:1: word-wrap]\n"
     ]
    },
    {
     "name": "stdout",
     "output_type": "stream",
     "text": [
      "'NoneType' object has no attribute 'is_final'\n"
     ]
    },
    {
     "name": "stderr",
     "output_type": "stream",
     "text": [
      "/home/luan/.cache/pypoetry/virtualenvs/apps-ZFymp6kh-py3.8/lib/python3.8/site-packages/django/db/models/fields/__init__.py:1424: RuntimeWarning: DateTimeField ServiceOrder.opened_at received a naive datetime (2024-03-22 08:19:53.622156) while time zone support is active.\n",
      "  warnings.warn(\"DateTimeField %s received a naive datetime (%s)\"\n",
      "/home/luan/.cache/pypoetry/virtualenvs/apps-ZFymp6kh-py3.8/lib/python3.8/site-packages/django/db/models/fields/__init__.py:1424: RuntimeWarning: DateTimeField HistoricalServiceOrder.opened_at received a naive datetime (2024-03-22 08:19:53.622156) while time zone support is active.\n",
      "  warnings.warn(\"DateTimeField %s received a naive datetime (%s)\"\n",
      "/home/luan/.cache/pypoetry/virtualenvs/apps-ZFymp6kh-py3.8/lib/python3.8/site-packages/django/db/models/fields/__init__.py:1424: RuntimeWarning: DateTimeField ToDo.created_at received a naive datetime (2024-03-21 20:19:53.732964) while time zone support is active.\n",
      "  warnings.warn(\"DateTimeField %s received a naive datetime (%s)\"\n"
     ]
    },
    {
     "name": "stdout",
     "output_type": "stream",
     "text": [
      "Procedure matching query does not exist.\n"
     ]
    },
    {
     "name": "stderr",
     "output_type": "stream",
     "text": [
      "WARNING\tProperty: Unknown Property name. [1:1: word-wrap]\n",
      "WARNING:CSSUTILS:Property: Unknown Property name. [1:1: word-wrap]\n"
     ]
    },
    {
     "name": "stdout",
     "output_type": "stream",
     "text": [
      "'NoneType' object has no attribute 'is_final'\n"
     ]
    },
    {
     "name": "stderr",
     "output_type": "stream",
     "text": [
      "/home/luan/.cache/pypoetry/virtualenvs/apps-ZFymp6kh-py3.8/lib/python3.8/site-packages/django/db/models/fields/__init__.py:1424: RuntimeWarning: DateTimeField OccurrenceRecord.datetime received a naive datetime (2017-08-31 00:00:00) while time zone support is active.\n",
      "  warnings.warn(\"DateTimeField %s received a naive datetime (%s)\"\n",
      "/home/luan/.cache/pypoetry/virtualenvs/apps-ZFymp6kh-py3.8/lib/python3.8/site-packages/django/db/models/fields/__init__.py:1424: RuntimeWarning: DateTimeField HistoricalOccurrenceRecord.datetime received a naive datetime (2017-08-31 00:00:00) while time zone support is active.\n",
      "  warnings.warn(\"DateTimeField %s received a naive datetime (%s)\"\n",
      "/home/luan/.cache/pypoetry/virtualenvs/apps-ZFymp6kh-py3.8/lib/python3.8/site-packages/django/db/models/fields/__init__.py:1424: RuntimeWarning: DateTimeField ServiceOrder.opened_at received a naive datetime (2024-03-22 08:19:54.938919) while time zone support is active.\n",
      "  warnings.warn(\"DateTimeField %s received a naive datetime (%s)\"\n",
      "/home/luan/.cache/pypoetry/virtualenvs/apps-ZFymp6kh-py3.8/lib/python3.8/site-packages/django/db/models/fields/__init__.py:1424: RuntimeWarning: DateTimeField HistoricalServiceOrder.opened_at received a naive datetime (2024-03-22 08:19:54.938919) while time zone support is active.\n",
      "  warnings.warn(\"DateTimeField %s received a naive datetime (%s)\"\n",
      "/home/luan/.cache/pypoetry/virtualenvs/apps-ZFymp6kh-py3.8/lib/python3.8/site-packages/django/db/models/fields/__init__.py:1424: RuntimeWarning: DateTimeField ToDo.created_at received a naive datetime (2024-03-21 20:19:55.058896) while time zone support is active.\n",
      "  warnings.warn(\"DateTimeField %s received a naive datetime (%s)\"\n"
     ]
    },
    {
     "name": "stdout",
     "output_type": "stream",
     "text": [
      "Procedure matching query does not exist.\n"
     ]
    },
    {
     "name": "stderr",
     "output_type": "stream",
     "text": [
      "WARNING\tProperty: Unknown Property name. [1:1: word-wrap]\n",
      "WARNING:CSSUTILS:Property: Unknown Property name. [1:1: word-wrap]\n"
     ]
    },
    {
     "name": "stdout",
     "output_type": "stream",
     "text": [
      "'NoneType' object has no attribute 'is_final'\n"
     ]
    },
    {
     "name": "stderr",
     "output_type": "stream",
     "text": [
      "/home/luan/.cache/pypoetry/virtualenvs/apps-ZFymp6kh-py3.8/lib/python3.8/site-packages/django/db/models/fields/__init__.py:1424: RuntimeWarning: DateTimeField OccurrenceRecord.datetime received a naive datetime (2017-09-13 00:00:00) while time zone support is active.\n",
      "  warnings.warn(\"DateTimeField %s received a naive datetime (%s)\"\n",
      "/home/luan/.cache/pypoetry/virtualenvs/apps-ZFymp6kh-py3.8/lib/python3.8/site-packages/django/db/models/fields/__init__.py:1424: RuntimeWarning: DateTimeField HistoricalOccurrenceRecord.datetime received a naive datetime (2017-09-13 00:00:00) while time zone support is active.\n",
      "  warnings.warn(\"DateTimeField %s received a naive datetime (%s)\"\n",
      "/home/luan/.cache/pypoetry/virtualenvs/apps-ZFymp6kh-py3.8/lib/python3.8/site-packages/django/db/models/fields/__init__.py:1424: RuntimeWarning: DateTimeField ServiceOrder.opened_at received a naive datetime (2024-03-22 08:19:56.302995) while time zone support is active.\n",
      "  warnings.warn(\"DateTimeField %s received a naive datetime (%s)\"\n",
      "/home/luan/.cache/pypoetry/virtualenvs/apps-ZFymp6kh-py3.8/lib/python3.8/site-packages/django/db/models/fields/__init__.py:1424: RuntimeWarning: DateTimeField HistoricalServiceOrder.opened_at received a naive datetime (2024-03-22 08:19:56.302995) while time zone support is active.\n",
      "  warnings.warn(\"DateTimeField %s received a naive datetime (%s)\"\n",
      "/home/luan/.cache/pypoetry/virtualenvs/apps-ZFymp6kh-py3.8/lib/python3.8/site-packages/django/db/models/fields/__init__.py:1424: RuntimeWarning: DateTimeField ToDo.created_at received a naive datetime (2024-03-21 20:19:56.411751) while time zone support is active.\n",
      "  warnings.warn(\"DateTimeField %s received a naive datetime (%s)\"\n"
     ]
    },
    {
     "name": "stdout",
     "output_type": "stream",
     "text": [
      "Procedure matching query does not exist.\n"
     ]
    },
    {
     "name": "stderr",
     "output_type": "stream",
     "text": [
      "WARNING\tProperty: Unknown Property name. [1:1: word-wrap]\n",
      "WARNING:CSSUTILS:Property: Unknown Property name. [1:1: word-wrap]\n"
     ]
    },
    {
     "name": "stdout",
     "output_type": "stream",
     "text": [
      "'NoneType' object has no attribute 'is_final'\n"
     ]
    },
    {
     "name": "stderr",
     "output_type": "stream",
     "text": [
      "/home/luan/.cache/pypoetry/virtualenvs/apps-ZFymp6kh-py3.8/lib/python3.8/site-packages/django/db/models/fields/__init__.py:1424: RuntimeWarning: DateTimeField OccurrenceRecord.datetime received a naive datetime (2017-10-17 00:00:00) while time zone support is active.\n",
      "  warnings.warn(\"DateTimeField %s received a naive datetime (%s)\"\n",
      "/home/luan/.cache/pypoetry/virtualenvs/apps-ZFymp6kh-py3.8/lib/python3.8/site-packages/django/db/models/fields/__init__.py:1424: RuntimeWarning: DateTimeField HistoricalOccurrenceRecord.datetime received a naive datetime (2017-10-17 00:00:00) while time zone support is active.\n",
      "  warnings.warn(\"DateTimeField %s received a naive datetime (%s)\"\n",
      "/home/luan/.cache/pypoetry/virtualenvs/apps-ZFymp6kh-py3.8/lib/python3.8/site-packages/django/db/models/fields/__init__.py:1424: RuntimeWarning: DateTimeField ServiceOrder.opened_at received a naive datetime (2024-03-22 08:19:57.644384) while time zone support is active.\n",
      "  warnings.warn(\"DateTimeField %s received a naive datetime (%s)\"\n",
      "/home/luan/.cache/pypoetry/virtualenvs/apps-ZFymp6kh-py3.8/lib/python3.8/site-packages/django/db/models/fields/__init__.py:1424: RuntimeWarning: DateTimeField HistoricalServiceOrder.opened_at received a naive datetime (2024-03-22 08:19:57.644384) while time zone support is active.\n",
      "  warnings.warn(\"DateTimeField %s received a naive datetime (%s)\"\n",
      "/home/luan/.cache/pypoetry/virtualenvs/apps-ZFymp6kh-py3.8/lib/python3.8/site-packages/django/db/models/fields/__init__.py:1424: RuntimeWarning: DateTimeField ToDo.created_at received a naive datetime (2024-03-21 20:19:57.763221) while time zone support is active.\n",
      "  warnings.warn(\"DateTimeField %s received a naive datetime (%s)\"\n"
     ]
    },
    {
     "name": "stdout",
     "output_type": "stream",
     "text": [
      "Procedure matching query does not exist.\n"
     ]
    },
    {
     "name": "stderr",
     "output_type": "stream",
     "text": [
      "WARNING\tProperty: Unknown Property name. [1:1: word-wrap]\n",
      "WARNING:CSSUTILS:Property: Unknown Property name. [1:1: word-wrap]\n"
     ]
    },
    {
     "name": "stdout",
     "output_type": "stream",
     "text": [
      "'NoneType' object has no attribute 'is_final'\n"
     ]
    },
    {
     "name": "stderr",
     "output_type": "stream",
     "text": [
      "/home/luan/.cache/pypoetry/virtualenvs/apps-ZFymp6kh-py3.8/lib/python3.8/site-packages/django/db/models/fields/__init__.py:1424: RuntimeWarning: DateTimeField OccurrenceRecord.datetime received a naive datetime (2017-12-19 00:00:00) while time zone support is active.\n",
      "  warnings.warn(\"DateTimeField %s received a naive datetime (%s)\"\n",
      "/home/luan/.cache/pypoetry/virtualenvs/apps-ZFymp6kh-py3.8/lib/python3.8/site-packages/django/db/models/fields/__init__.py:1424: RuntimeWarning: DateTimeField HistoricalOccurrenceRecord.datetime received a naive datetime (2017-12-19 00:00:00) while time zone support is active.\n",
      "  warnings.warn(\"DateTimeField %s received a naive datetime (%s)\"\n",
      "/home/luan/.cache/pypoetry/virtualenvs/apps-ZFymp6kh-py3.8/lib/python3.8/site-packages/django/db/models/fields/__init__.py:1424: RuntimeWarning: DateTimeField ServiceOrder.opened_at received a naive datetime (2024-03-22 08:19:59.060582) while time zone support is active.\n",
      "  warnings.warn(\"DateTimeField %s received a naive datetime (%s)\"\n",
      "/home/luan/.cache/pypoetry/virtualenvs/apps-ZFymp6kh-py3.8/lib/python3.8/site-packages/django/db/models/fields/__init__.py:1424: RuntimeWarning: DateTimeField HistoricalServiceOrder.opened_at received a naive datetime (2024-03-22 08:19:59.060582) while time zone support is active.\n",
      "  warnings.warn(\"DateTimeField %s received a naive datetime (%s)\"\n",
      "/home/luan/.cache/pypoetry/virtualenvs/apps-ZFymp6kh-py3.8/lib/python3.8/site-packages/django/db/models/fields/__init__.py:1424: RuntimeWarning: DateTimeField ToDo.created_at received a naive datetime (2024-03-21 20:19:59.167014) while time zone support is active.\n",
      "  warnings.warn(\"DateTimeField %s received a naive datetime (%s)\"\n"
     ]
    },
    {
     "name": "stdout",
     "output_type": "stream",
     "text": [
      "Procedure matching query does not exist.\n"
     ]
    },
    {
     "name": "stderr",
     "output_type": "stream",
     "text": [
      "WARNING\tProperty: Unknown Property name. [1:1: word-wrap]\n",
      "WARNING:CSSUTILS:Property: Unknown Property name. [1:1: word-wrap]\n"
     ]
    },
    {
     "name": "stdout",
     "output_type": "stream",
     "text": [
      "'NoneType' object has no attribute 'is_final'\n"
     ]
    },
    {
     "name": "stderr",
     "output_type": "stream",
     "text": [
      "/home/luan/.cache/pypoetry/virtualenvs/apps-ZFymp6kh-py3.8/lib/python3.8/site-packages/django/db/models/fields/__init__.py:1424: RuntimeWarning: DateTimeField OccurrenceRecord.datetime received a naive datetime (2018-01-25 00:00:00) while time zone support is active.\n",
      "  warnings.warn(\"DateTimeField %s received a naive datetime (%s)\"\n",
      "/home/luan/.cache/pypoetry/virtualenvs/apps-ZFymp6kh-py3.8/lib/python3.8/site-packages/django/db/models/fields/__init__.py:1424: RuntimeWarning: DateTimeField HistoricalOccurrenceRecord.datetime received a naive datetime (2018-01-25 00:00:00) while time zone support is active.\n",
      "  warnings.warn(\"DateTimeField %s received a naive datetime (%s)\"\n",
      "/home/luan/.cache/pypoetry/virtualenvs/apps-ZFymp6kh-py3.8/lib/python3.8/site-packages/django/db/models/fields/__init__.py:1424: RuntimeWarning: DateTimeField ServiceOrder.opened_at received a naive datetime (2024-03-22 08:20:01.047944) while time zone support is active.\n",
      "  warnings.warn(\"DateTimeField %s received a naive datetime (%s)\"\n",
      "/home/luan/.cache/pypoetry/virtualenvs/apps-ZFymp6kh-py3.8/lib/python3.8/site-packages/django/db/models/fields/__init__.py:1424: RuntimeWarning: DateTimeField HistoricalServiceOrder.opened_at received a naive datetime (2024-03-22 08:20:01.047944) while time zone support is active.\n",
      "  warnings.warn(\"DateTimeField %s received a naive datetime (%s)\"\n",
      "/home/luan/.cache/pypoetry/virtualenvs/apps-ZFymp6kh-py3.8/lib/python3.8/site-packages/django/db/models/fields/__init__.py:1424: RuntimeWarning: DateTimeField ToDo.created_at received a naive datetime (2024-03-21 20:20:01.156292) while time zone support is active.\n",
      "  warnings.warn(\"DateTimeField %s received a naive datetime (%s)\"\n"
     ]
    },
    {
     "name": "stdout",
     "output_type": "stream",
     "text": [
      "Procedure matching query does not exist.\n"
     ]
    },
    {
     "name": "stderr",
     "output_type": "stream",
     "text": [
      "WARNING\tProperty: Unknown Property name. [1:1: word-wrap]\n",
      "WARNING:CSSUTILS:Property: Unknown Property name. [1:1: word-wrap]\n"
     ]
    },
    {
     "name": "stdout",
     "output_type": "stream",
     "text": [
      "'NoneType' object has no attribute 'is_final'\n"
     ]
    },
    {
     "name": "stderr",
     "output_type": "stream",
     "text": [
      "/home/luan/.cache/pypoetry/virtualenvs/apps-ZFymp6kh-py3.8/lib/python3.8/site-packages/django/db/models/fields/__init__.py:1424: RuntimeWarning: DateTimeField ServiceOrder.opened_at received a naive datetime (2024-03-22 08:20:02.501013) while time zone support is active.\n",
      "  warnings.warn(\"DateTimeField %s received a naive datetime (%s)\"\n",
      "/home/luan/.cache/pypoetry/virtualenvs/apps-ZFymp6kh-py3.8/lib/python3.8/site-packages/django/db/models/fields/__init__.py:1424: RuntimeWarning: DateTimeField HistoricalServiceOrder.opened_at received a naive datetime (2024-03-22 08:20:02.501013) while time zone support is active.\n",
      "  warnings.warn(\"DateTimeField %s received a naive datetime (%s)\"\n",
      "/home/luan/.cache/pypoetry/virtualenvs/apps-ZFymp6kh-py3.8/lib/python3.8/site-packages/django/db/models/fields/__init__.py:1424: RuntimeWarning: DateTimeField ToDo.created_at received a naive datetime (2024-03-21 20:20:02.608621) while time zone support is active.\n",
      "  warnings.warn(\"DateTimeField %s received a naive datetime (%s)\"\n"
     ]
    },
    {
     "name": "stdout",
     "output_type": "stream",
     "text": [
      "Procedure matching query does not exist.\n"
     ]
    },
    {
     "name": "stderr",
     "output_type": "stream",
     "text": [
      "WARNING\tProperty: Unknown Property name. [1:1: word-wrap]\n",
      "WARNING:CSSUTILS:Property: Unknown Property name. [1:1: word-wrap]\n"
     ]
    },
    {
     "name": "stdout",
     "output_type": "stream",
     "text": [
      "'NoneType' object has no attribute 'is_final'\n"
     ]
    },
    {
     "name": "stderr",
     "output_type": "stream",
     "text": [
      "/home/luan/.cache/pypoetry/virtualenvs/apps-ZFymp6kh-py3.8/lib/python3.8/site-packages/django/db/models/fields/__init__.py:1424: RuntimeWarning: DateTimeField OccurrenceRecord.datetime received a naive datetime (2018-06-26 00:00:00) while time zone support is active.\n",
      "  warnings.warn(\"DateTimeField %s received a naive datetime (%s)\"\n",
      "/home/luan/.cache/pypoetry/virtualenvs/apps-ZFymp6kh-py3.8/lib/python3.8/site-packages/django/db/models/fields/__init__.py:1424: RuntimeWarning: DateTimeField HistoricalOccurrenceRecord.datetime received a naive datetime (2018-06-26 00:00:00) while time zone support is active.\n",
      "  warnings.warn(\"DateTimeField %s received a naive datetime (%s)\"\n",
      "/home/luan/.cache/pypoetry/virtualenvs/apps-ZFymp6kh-py3.8/lib/python3.8/site-packages/django/db/models/fields/__init__.py:1424: RuntimeWarning: DateTimeField ServiceOrder.opened_at received a naive datetime (2024-03-22 08:20:05.129795) while time zone support is active.\n",
      "  warnings.warn(\"DateTimeField %s received a naive datetime (%s)\"\n",
      "/home/luan/.cache/pypoetry/virtualenvs/apps-ZFymp6kh-py3.8/lib/python3.8/site-packages/django/db/models/fields/__init__.py:1424: RuntimeWarning: DateTimeField HistoricalServiceOrder.opened_at received a naive datetime (2024-03-22 08:20:05.129795) while time zone support is active.\n",
      "  warnings.warn(\"DateTimeField %s received a naive datetime (%s)\"\n",
      "/home/luan/.cache/pypoetry/virtualenvs/apps-ZFymp6kh-py3.8/lib/python3.8/site-packages/django/db/models/fields/__init__.py:1424: RuntimeWarning: DateTimeField ToDo.created_at received a naive datetime (2024-03-21 20:20:05.237077) while time zone support is active.\n",
      "  warnings.warn(\"DateTimeField %s received a naive datetime (%s)\"\n"
     ]
    },
    {
     "name": "stdout",
     "output_type": "stream",
     "text": [
      "Procedure matching query does not exist.\n"
     ]
    },
    {
     "name": "stderr",
     "output_type": "stream",
     "text": [
      "WARNING\tProperty: Unknown Property name. [1:1: word-wrap]\n",
      "WARNING:CSSUTILS:Property: Unknown Property name. [1:1: word-wrap]\n"
     ]
    },
    {
     "name": "stdout",
     "output_type": "stream",
     "text": [
      "'NoneType' object has no attribute 'is_final'\n"
     ]
    },
    {
     "name": "stderr",
     "output_type": "stream",
     "text": [
      "/home/luan/.cache/pypoetry/virtualenvs/apps-ZFymp6kh-py3.8/lib/python3.8/site-packages/django/db/models/fields/__init__.py:1424: RuntimeWarning: DateTimeField ServiceOrder.opened_at received a naive datetime (2024-03-22 08:20:07.788297) while time zone support is active.\n",
      "  warnings.warn(\"DateTimeField %s received a naive datetime (%s)\"\n",
      "/home/luan/.cache/pypoetry/virtualenvs/apps-ZFymp6kh-py3.8/lib/python3.8/site-packages/django/db/models/fields/__init__.py:1424: RuntimeWarning: DateTimeField HistoricalServiceOrder.opened_at received a naive datetime (2024-03-22 08:20:07.788297) while time zone support is active.\n",
      "  warnings.warn(\"DateTimeField %s received a naive datetime (%s)\"\n",
      "/home/luan/.cache/pypoetry/virtualenvs/apps-ZFymp6kh-py3.8/lib/python3.8/site-packages/django/db/models/fields/__init__.py:1424: RuntimeWarning: DateTimeField ToDo.created_at received a naive datetime (2024-03-21 20:20:07.893136) while time zone support is active.\n",
      "  warnings.warn(\"DateTimeField %s received a naive datetime (%s)\"\n"
     ]
    },
    {
     "name": "stdout",
     "output_type": "stream",
     "text": [
      "Procedure matching query does not exist.\n"
     ]
    },
    {
     "name": "stderr",
     "output_type": "stream",
     "text": [
      "WARNING\tProperty: Unknown Property name. [1:1: word-wrap]\n",
      "WARNING:CSSUTILS:Property: Unknown Property name. [1:1: word-wrap]\n"
     ]
    },
    {
     "name": "stdout",
     "output_type": "stream",
     "text": [
      "'NoneType' object has no attribute 'is_final'\n"
     ]
    },
    {
     "name": "stderr",
     "output_type": "stream",
     "text": [
      "/home/luan/.cache/pypoetry/virtualenvs/apps-ZFymp6kh-py3.8/lib/python3.8/site-packages/django/db/models/fields/__init__.py:1424: RuntimeWarning: DateTimeField OccurrenceRecord.datetime received a naive datetime (2018-10-19 00:00:00) while time zone support is active.\n",
      "  warnings.warn(\"DateTimeField %s received a naive datetime (%s)\"\n",
      "/home/luan/.cache/pypoetry/virtualenvs/apps-ZFymp6kh-py3.8/lib/python3.8/site-packages/django/db/models/fields/__init__.py:1424: RuntimeWarning: DateTimeField HistoricalOccurrenceRecord.datetime received a naive datetime (2018-10-19 00:00:00) while time zone support is active.\n",
      "  warnings.warn(\"DateTimeField %s received a naive datetime (%s)\"\n",
      "/home/luan/.cache/pypoetry/virtualenvs/apps-ZFymp6kh-py3.8/lib/python3.8/site-packages/django/db/models/fields/__init__.py:1424: RuntimeWarning: DateTimeField ServiceOrder.opened_at received a naive datetime (2024-03-22 08:20:09.120009) while time zone support is active.\n",
      "  warnings.warn(\"DateTimeField %s received a naive datetime (%s)\"\n",
      "/home/luan/.cache/pypoetry/virtualenvs/apps-ZFymp6kh-py3.8/lib/python3.8/site-packages/django/db/models/fields/__init__.py:1424: RuntimeWarning: DateTimeField HistoricalServiceOrder.opened_at received a naive datetime (2024-03-22 08:20:09.120009) while time zone support is active.\n",
      "  warnings.warn(\"DateTimeField %s received a naive datetime (%s)\"\n",
      "/home/luan/.cache/pypoetry/virtualenvs/apps-ZFymp6kh-py3.8/lib/python3.8/site-packages/django/db/models/fields/__init__.py:1424: RuntimeWarning: DateTimeField ToDo.created_at received a naive datetime (2024-03-21 20:20:09.227726) while time zone support is active.\n",
      "  warnings.warn(\"DateTimeField %s received a naive datetime (%s)\"\n"
     ]
    },
    {
     "name": "stdout",
     "output_type": "stream",
     "text": [
      "Procedure matching query does not exist.\n"
     ]
    },
    {
     "name": "stderr",
     "output_type": "stream",
     "text": [
      "WARNING\tProperty: Unknown Property name. [1:1: word-wrap]\n",
      "WARNING:CSSUTILS:Property: Unknown Property name. [1:1: word-wrap]\n"
     ]
    },
    {
     "name": "stdout",
     "output_type": "stream",
     "text": [
      "'NoneType' object has no attribute 'is_final'\n"
     ]
    },
    {
     "name": "stderr",
     "output_type": "stream",
     "text": [
      "/home/luan/.cache/pypoetry/virtualenvs/apps-ZFymp6kh-py3.8/lib/python3.8/site-packages/django/db/models/fields/__init__.py:1424: RuntimeWarning: DateTimeField ServiceOrder.opened_at received a naive datetime (2024-03-22 08:20:10.550560) while time zone support is active.\n",
      "  warnings.warn(\"DateTimeField %s received a naive datetime (%s)\"\n",
      "/home/luan/.cache/pypoetry/virtualenvs/apps-ZFymp6kh-py3.8/lib/python3.8/site-packages/django/db/models/fields/__init__.py:1424: RuntimeWarning: DateTimeField HistoricalServiceOrder.opened_at received a naive datetime (2024-03-22 08:20:10.550560) while time zone support is active.\n",
      "  warnings.warn(\"DateTimeField %s received a naive datetime (%s)\"\n",
      "/home/luan/.cache/pypoetry/virtualenvs/apps-ZFymp6kh-py3.8/lib/python3.8/site-packages/django/db/models/fields/__init__.py:1424: RuntimeWarning: DateTimeField ToDo.created_at received a naive datetime (2024-03-21 20:20:10.662761) while time zone support is active.\n",
      "  warnings.warn(\"DateTimeField %s received a naive datetime (%s)\"\n"
     ]
    },
    {
     "name": "stdout",
     "output_type": "stream",
     "text": [
      "Procedure matching query does not exist.\n"
     ]
    },
    {
     "name": "stderr",
     "output_type": "stream",
     "text": [
      "WARNING\tProperty: Unknown Property name. [1:1: word-wrap]\n",
      "WARNING:CSSUTILS:Property: Unknown Property name. [1:1: word-wrap]\n"
     ]
    },
    {
     "name": "stdout",
     "output_type": "stream",
     "text": [
      "'NoneType' object has no attribute 'is_final'\n"
     ]
    },
    {
     "name": "stderr",
     "output_type": "stream",
     "text": [
      "/home/luan/.cache/pypoetry/virtualenvs/apps-ZFymp6kh-py3.8/lib/python3.8/site-packages/django/db/models/fields/__init__.py:1424: RuntimeWarning: DateTimeField OccurrenceRecord.datetime received a naive datetime (2018-10-22 00:00:00) while time zone support is active.\n",
      "  warnings.warn(\"DateTimeField %s received a naive datetime (%s)\"\n",
      "/home/luan/.cache/pypoetry/virtualenvs/apps-ZFymp6kh-py3.8/lib/python3.8/site-packages/django/db/models/fields/__init__.py:1424: RuntimeWarning: DateTimeField HistoricalOccurrenceRecord.datetime received a naive datetime (2018-10-22 00:00:00) while time zone support is active.\n",
      "  warnings.warn(\"DateTimeField %s received a naive datetime (%s)\"\n",
      "/home/luan/.cache/pypoetry/virtualenvs/apps-ZFymp6kh-py3.8/lib/python3.8/site-packages/django/db/models/fields/__init__.py:1424: RuntimeWarning: DateTimeField ServiceOrder.opened_at received a naive datetime (2024-03-22 08:20:12.015444) while time zone support is active.\n",
      "  warnings.warn(\"DateTimeField %s received a naive datetime (%s)\"\n",
      "/home/luan/.cache/pypoetry/virtualenvs/apps-ZFymp6kh-py3.8/lib/python3.8/site-packages/django/db/models/fields/__init__.py:1424: RuntimeWarning: DateTimeField HistoricalServiceOrder.opened_at received a naive datetime (2024-03-22 08:20:12.015444) while time zone support is active.\n",
      "  warnings.warn(\"DateTimeField %s received a naive datetime (%s)\"\n",
      "/home/luan/.cache/pypoetry/virtualenvs/apps-ZFymp6kh-py3.8/lib/python3.8/site-packages/django/db/models/fields/__init__.py:1424: RuntimeWarning: DateTimeField ToDo.created_at received a naive datetime (2024-03-21 20:20:12.131122) while time zone support is active.\n",
      "  warnings.warn(\"DateTimeField %s received a naive datetime (%s)\"\n"
     ]
    },
    {
     "name": "stdout",
     "output_type": "stream",
     "text": [
      "Procedure matching query does not exist.\n"
     ]
    },
    {
     "name": "stderr",
     "output_type": "stream",
     "text": [
      "WARNING\tProperty: Unknown Property name. [1:1: word-wrap]\n",
      "WARNING:CSSUTILS:Property: Unknown Property name. [1:1: word-wrap]\n"
     ]
    },
    {
     "name": "stdout",
     "output_type": "stream",
     "text": [
      "'NoneType' object has no attribute 'is_final'\n"
     ]
    },
    {
     "name": "stderr",
     "output_type": "stream",
     "text": [
      "/home/luan/.cache/pypoetry/virtualenvs/apps-ZFymp6kh-py3.8/lib/python3.8/site-packages/django/db/models/fields/__init__.py:1424: RuntimeWarning: DateTimeField ServiceOrder.opened_at received a naive datetime (2024-03-22 08:20:13.381895) while time zone support is active.\n",
      "  warnings.warn(\"DateTimeField %s received a naive datetime (%s)\"\n",
      "/home/luan/.cache/pypoetry/virtualenvs/apps-ZFymp6kh-py3.8/lib/python3.8/site-packages/django/db/models/fields/__init__.py:1424: RuntimeWarning: DateTimeField HistoricalServiceOrder.opened_at received a naive datetime (2024-03-22 08:20:13.381895) while time zone support is active.\n",
      "  warnings.warn(\"DateTimeField %s received a naive datetime (%s)\"\n",
      "/home/luan/.cache/pypoetry/virtualenvs/apps-ZFymp6kh-py3.8/lib/python3.8/site-packages/django/db/models/fields/__init__.py:1424: RuntimeWarning: DateTimeField ToDo.created_at received a naive datetime (2024-03-21 20:20:13.514441) while time zone support is active.\n",
      "  warnings.warn(\"DateTimeField %s received a naive datetime (%s)\"\n"
     ]
    },
    {
     "name": "stdout",
     "output_type": "stream",
     "text": [
      "Procedure matching query does not exist.\n"
     ]
    },
    {
     "name": "stderr",
     "output_type": "stream",
     "text": [
      "WARNING\tProperty: Unknown Property name. [1:1: word-wrap]\n",
      "WARNING:CSSUTILS:Property: Unknown Property name. [1:1: word-wrap]\n"
     ]
    },
    {
     "name": "stdout",
     "output_type": "stream",
     "text": [
      "'NoneType' object has no attribute 'is_final'\n"
     ]
    },
    {
     "name": "stderr",
     "output_type": "stream",
     "text": [
      "/home/luan/.cache/pypoetry/virtualenvs/apps-ZFymp6kh-py3.8/lib/python3.8/site-packages/django/db/models/fields/__init__.py:1424: RuntimeWarning: DateTimeField OccurrenceRecord.datetime received a naive datetime (2018-10-23 00:00:00) while time zone support is active.\n",
      "  warnings.warn(\"DateTimeField %s received a naive datetime (%s)\"\n",
      "/home/luan/.cache/pypoetry/virtualenvs/apps-ZFymp6kh-py3.8/lib/python3.8/site-packages/django/db/models/fields/__init__.py:1424: RuntimeWarning: DateTimeField HistoricalOccurrenceRecord.datetime received a naive datetime (2018-10-23 00:00:00) while time zone support is active.\n",
      "  warnings.warn(\"DateTimeField %s received a naive datetime (%s)\"\n",
      "/home/luan/.cache/pypoetry/virtualenvs/apps-ZFymp6kh-py3.8/lib/python3.8/site-packages/django/db/models/fields/__init__.py:1424: RuntimeWarning: DateTimeField ServiceOrder.opened_at received a naive datetime (2024-03-22 08:20:14.862557) while time zone support is active.\n",
      "  warnings.warn(\"DateTimeField %s received a naive datetime (%s)\"\n",
      "/home/luan/.cache/pypoetry/virtualenvs/apps-ZFymp6kh-py3.8/lib/python3.8/site-packages/django/db/models/fields/__init__.py:1424: RuntimeWarning: DateTimeField HistoricalServiceOrder.opened_at received a naive datetime (2024-03-22 08:20:14.862557) while time zone support is active.\n",
      "  warnings.warn(\"DateTimeField %s received a naive datetime (%s)\"\n",
      "/home/luan/.cache/pypoetry/virtualenvs/apps-ZFymp6kh-py3.8/lib/python3.8/site-packages/django/db/models/fields/__init__.py:1424: RuntimeWarning: DateTimeField ToDo.created_at received a naive datetime (2024-03-21 20:20:14.974827) while time zone support is active.\n",
      "  warnings.warn(\"DateTimeField %s received a naive datetime (%s)\"\n"
     ]
    },
    {
     "name": "stdout",
     "output_type": "stream",
     "text": [
      "Procedure matching query does not exist.\n"
     ]
    },
    {
     "name": "stderr",
     "output_type": "stream",
     "text": [
      "WARNING\tProperty: Unknown Property name. [1:1: word-wrap]\n",
      "WARNING:CSSUTILS:Property: Unknown Property name. [1:1: word-wrap]\n"
     ]
    },
    {
     "name": "stdout",
     "output_type": "stream",
     "text": [
      "'NoneType' object has no attribute 'is_final'\n"
     ]
    },
    {
     "name": "stderr",
     "output_type": "stream",
     "text": [
      "/home/luan/.cache/pypoetry/virtualenvs/apps-ZFymp6kh-py3.8/lib/python3.8/site-packages/django/db/models/fields/__init__.py:1424: RuntimeWarning: DateTimeField ServiceOrder.opened_at received a naive datetime (2024-03-22 08:20:16.264293) while time zone support is active.\n",
      "  warnings.warn(\"DateTimeField %s received a naive datetime (%s)\"\n",
      "/home/luan/.cache/pypoetry/virtualenvs/apps-ZFymp6kh-py3.8/lib/python3.8/site-packages/django/db/models/fields/__init__.py:1424: RuntimeWarning: DateTimeField HistoricalServiceOrder.opened_at received a naive datetime (2024-03-22 08:20:16.264293) while time zone support is active.\n",
      "  warnings.warn(\"DateTimeField %s received a naive datetime (%s)\"\n",
      "/home/luan/.cache/pypoetry/virtualenvs/apps-ZFymp6kh-py3.8/lib/python3.8/site-packages/django/db/models/fields/__init__.py:1424: RuntimeWarning: DateTimeField ToDo.created_at received a naive datetime (2024-03-21 20:20:16.367803) while time zone support is active.\n",
      "  warnings.warn(\"DateTimeField %s received a naive datetime (%s)\"\n"
     ]
    },
    {
     "name": "stdout",
     "output_type": "stream",
     "text": [
      "Procedure matching query does not exist.\n"
     ]
    },
    {
     "name": "stderr",
     "output_type": "stream",
     "text": [
      "WARNING\tProperty: Unknown Property name. [1:1: word-wrap]\n",
      "WARNING:CSSUTILS:Property: Unknown Property name. [1:1: word-wrap]\n"
     ]
    },
    {
     "name": "stdout",
     "output_type": "stream",
     "text": [
      "'NoneType' object has no attribute 'is_final'\n"
     ]
    },
    {
     "name": "stderr",
     "output_type": "stream",
     "text": [
      "/home/luan/.cache/pypoetry/virtualenvs/apps-ZFymp6kh-py3.8/lib/python3.8/site-packages/django/db/models/fields/__init__.py:1424: RuntimeWarning: DateTimeField ServiceOrder.opened_at received a naive datetime (2024-03-22 08:20:18.920697) while time zone support is active.\n",
      "  warnings.warn(\"DateTimeField %s received a naive datetime (%s)\"\n",
      "/home/luan/.cache/pypoetry/virtualenvs/apps-ZFymp6kh-py3.8/lib/python3.8/site-packages/django/db/models/fields/__init__.py:1424: RuntimeWarning: DateTimeField HistoricalServiceOrder.opened_at received a naive datetime (2024-03-22 08:20:18.920697) while time zone support is active.\n",
      "  warnings.warn(\"DateTimeField %s received a naive datetime (%s)\"\n",
      "/home/luan/.cache/pypoetry/virtualenvs/apps-ZFymp6kh-py3.8/lib/python3.8/site-packages/django/db/models/fields/__init__.py:1424: RuntimeWarning: DateTimeField ToDo.created_at received a naive datetime (2024-03-21 20:20:19.023169) while time zone support is active.\n",
      "  warnings.warn(\"DateTimeField %s received a naive datetime (%s)\"\n"
     ]
    },
    {
     "name": "stdout",
     "output_type": "stream",
     "text": [
      "Procedure matching query does not exist.\n"
     ]
    },
    {
     "name": "stderr",
     "output_type": "stream",
     "text": [
      "WARNING\tProperty: Unknown Property name. [1:1: word-wrap]\n",
      "WARNING:CSSUTILS:Property: Unknown Property name. [1:1: word-wrap]\n"
     ]
    },
    {
     "name": "stdout",
     "output_type": "stream",
     "text": [
      "'NoneType' object has no attribute 'is_final'\n"
     ]
    },
    {
     "name": "stderr",
     "output_type": "stream",
     "text": [
      "/home/luan/.cache/pypoetry/virtualenvs/apps-ZFymp6kh-py3.8/lib/python3.8/site-packages/django/db/models/fields/__init__.py:1424: RuntimeWarning: DateTimeField OccurrenceRecord.datetime received a naive datetime (2018-10-25 00:00:00) while time zone support is active.\n",
      "  warnings.warn(\"DateTimeField %s received a naive datetime (%s)\"\n",
      "/home/luan/.cache/pypoetry/virtualenvs/apps-ZFymp6kh-py3.8/lib/python3.8/site-packages/django/db/models/fields/__init__.py:1424: RuntimeWarning: DateTimeField HistoricalOccurrenceRecord.datetime received a naive datetime (2018-10-25 00:00:00) while time zone support is active.\n",
      "  warnings.warn(\"DateTimeField %s received a naive datetime (%s)\"\n",
      "/home/luan/.cache/pypoetry/virtualenvs/apps-ZFymp6kh-py3.8/lib/python3.8/site-packages/django/db/models/fields/__init__.py:1424: RuntimeWarning: DateTimeField ServiceOrder.opened_at received a naive datetime (2024-03-22 08:20:21.632644) while time zone support is active.\n",
      "  warnings.warn(\"DateTimeField %s received a naive datetime (%s)\"\n",
      "/home/luan/.cache/pypoetry/virtualenvs/apps-ZFymp6kh-py3.8/lib/python3.8/site-packages/django/db/models/fields/__init__.py:1424: RuntimeWarning: DateTimeField HistoricalServiceOrder.opened_at received a naive datetime (2024-03-22 08:20:21.632644) while time zone support is active.\n",
      "  warnings.warn(\"DateTimeField %s received a naive datetime (%s)\"\n",
      "/home/luan/.cache/pypoetry/virtualenvs/apps-ZFymp6kh-py3.8/lib/python3.8/site-packages/django/db/models/fields/__init__.py:1424: RuntimeWarning: DateTimeField ToDo.created_at received a naive datetime (2024-03-21 20:20:21.742385) while time zone support is active.\n",
      "  warnings.warn(\"DateTimeField %s received a naive datetime (%s)\"\n"
     ]
    },
    {
     "name": "stdout",
     "output_type": "stream",
     "text": [
      "Procedure matching query does not exist.\n"
     ]
    },
    {
     "name": "stderr",
     "output_type": "stream",
     "text": [
      "WARNING\tProperty: Unknown Property name. [1:1: word-wrap]\n",
      "WARNING:CSSUTILS:Property: Unknown Property name. [1:1: word-wrap]\n"
     ]
    },
    {
     "name": "stdout",
     "output_type": "stream",
     "text": [
      "'NoneType' object has no attribute 'is_final'\n"
     ]
    },
    {
     "name": "stderr",
     "output_type": "stream",
     "text": [
      "/home/luan/.cache/pypoetry/virtualenvs/apps-ZFymp6kh-py3.8/lib/python3.8/site-packages/django/db/models/fields/__init__.py:1424: RuntimeWarning: DateTimeField OccurrenceRecord.datetime received a naive datetime (2018-12-06 00:00:00) while time zone support is active.\n",
      "  warnings.warn(\"DateTimeField %s received a naive datetime (%s)\"\n",
      "/home/luan/.cache/pypoetry/virtualenvs/apps-ZFymp6kh-py3.8/lib/python3.8/site-packages/django/db/models/fields/__init__.py:1424: RuntimeWarning: DateTimeField HistoricalOccurrenceRecord.datetime received a naive datetime (2018-12-06 00:00:00) while time zone support is active.\n",
      "  warnings.warn(\"DateTimeField %s received a naive datetime (%s)\"\n",
      "/home/luan/.cache/pypoetry/virtualenvs/apps-ZFymp6kh-py3.8/lib/python3.8/site-packages/django/db/models/fields/__init__.py:1424: RuntimeWarning: DateTimeField ServiceOrder.opened_at received a naive datetime (2024-03-22 08:20:23.422977) while time zone support is active.\n",
      "  warnings.warn(\"DateTimeField %s received a naive datetime (%s)\"\n",
      "/home/luan/.cache/pypoetry/virtualenvs/apps-ZFymp6kh-py3.8/lib/python3.8/site-packages/django/db/models/fields/__init__.py:1424: RuntimeWarning: DateTimeField HistoricalServiceOrder.opened_at received a naive datetime (2024-03-22 08:20:23.422977) while time zone support is active.\n",
      "  warnings.warn(\"DateTimeField %s received a naive datetime (%s)\"\n",
      "/home/luan/.cache/pypoetry/virtualenvs/apps-ZFymp6kh-py3.8/lib/python3.8/site-packages/django/db/models/fields/__init__.py:1424: RuntimeWarning: DateTimeField ToDo.created_at received a naive datetime (2024-03-21 20:20:23.528144) while time zone support is active.\n",
      "  warnings.warn(\"DateTimeField %s received a naive datetime (%s)\"\n"
     ]
    },
    {
     "name": "stdout",
     "output_type": "stream",
     "text": [
      "Procedure matching query does not exist.\n"
     ]
    },
    {
     "name": "stderr",
     "output_type": "stream",
     "text": [
      "WARNING\tProperty: Unknown Property name. [1:1: word-wrap]\n",
      "WARNING:CSSUTILS:Property: Unknown Property name. [1:1: word-wrap]\n"
     ]
    },
    {
     "name": "stdout",
     "output_type": "stream",
     "text": [
      "'NoneType' object has no attribute 'is_final'\n"
     ]
    },
    {
     "name": "stderr",
     "output_type": "stream",
     "text": [
      "/home/luan/.cache/pypoetry/virtualenvs/apps-ZFymp6kh-py3.8/lib/python3.8/site-packages/django/db/models/fields/__init__.py:1424: RuntimeWarning: DateTimeField ServiceOrder.opened_at received a naive datetime (2024-03-22 08:20:26.285886) while time zone support is active.\n",
      "  warnings.warn(\"DateTimeField %s received a naive datetime (%s)\"\n",
      "/home/luan/.cache/pypoetry/virtualenvs/apps-ZFymp6kh-py3.8/lib/python3.8/site-packages/django/db/models/fields/__init__.py:1424: RuntimeWarning: DateTimeField HistoricalServiceOrder.opened_at received a naive datetime (2024-03-22 08:20:26.285886) while time zone support is active.\n",
      "  warnings.warn(\"DateTimeField %s received a naive datetime (%s)\"\n",
      "/home/luan/.cache/pypoetry/virtualenvs/apps-ZFymp6kh-py3.8/lib/python3.8/site-packages/django/db/models/fields/__init__.py:1424: RuntimeWarning: DateTimeField ToDo.created_at received a naive datetime (2024-03-21 20:20:26.407176) while time zone support is active.\n",
      "  warnings.warn(\"DateTimeField %s received a naive datetime (%s)\"\n"
     ]
    },
    {
     "name": "stdout",
     "output_type": "stream",
     "text": [
      "Procedure matching query does not exist.\n"
     ]
    },
    {
     "name": "stderr",
     "output_type": "stream",
     "text": [
      "WARNING\tProperty: Unknown Property name. [1:1: word-wrap]\n",
      "WARNING:CSSUTILS:Property: Unknown Property name. [1:1: word-wrap]\n"
     ]
    },
    {
     "name": "stdout",
     "output_type": "stream",
     "text": [
      "'NoneType' object has no attribute 'is_final'\n"
     ]
    },
    {
     "name": "stderr",
     "output_type": "stream",
     "text": [
      "/home/luan/.cache/pypoetry/virtualenvs/apps-ZFymp6kh-py3.8/lib/python3.8/site-packages/django/db/models/fields/__init__.py:1424: RuntimeWarning: DateTimeField ServiceOrder.opened_at received a naive datetime (2024-03-22 08:20:27.819517) while time zone support is active.\n",
      "  warnings.warn(\"DateTimeField %s received a naive datetime (%s)\"\n",
      "/home/luan/.cache/pypoetry/virtualenvs/apps-ZFymp6kh-py3.8/lib/python3.8/site-packages/django/db/models/fields/__init__.py:1424: RuntimeWarning: DateTimeField HistoricalServiceOrder.opened_at received a naive datetime (2024-03-22 08:20:27.819517) while time zone support is active.\n",
      "  warnings.warn(\"DateTimeField %s received a naive datetime (%s)\"\n",
      "/home/luan/.cache/pypoetry/virtualenvs/apps-ZFymp6kh-py3.8/lib/python3.8/site-packages/django/db/models/fields/__init__.py:1424: RuntimeWarning: DateTimeField ToDo.created_at received a naive datetime (2024-03-21 20:20:27.931502) while time zone support is active.\n",
      "  warnings.warn(\"DateTimeField %s received a naive datetime (%s)\"\n"
     ]
    },
    {
     "name": "stdout",
     "output_type": "stream",
     "text": [
      "Procedure matching query does not exist.\n"
     ]
    },
    {
     "name": "stderr",
     "output_type": "stream",
     "text": [
      "WARNING\tProperty: Unknown Property name. [1:1: word-wrap]\n",
      "WARNING:CSSUTILS:Property: Unknown Property name. [1:1: word-wrap]\n"
     ]
    },
    {
     "name": "stdout",
     "output_type": "stream",
     "text": [
      "'NoneType' object has no attribute 'is_final'\n"
     ]
    },
    {
     "name": "stderr",
     "output_type": "stream",
     "text": [
      "/home/luan/.cache/pypoetry/virtualenvs/apps-ZFymp6kh-py3.8/lib/python3.8/site-packages/django/db/models/fields/__init__.py:1424: RuntimeWarning: DateTimeField ServiceOrder.opened_at received a naive datetime (2024-03-22 08:20:30.590224) while time zone support is active.\n",
      "  warnings.warn(\"DateTimeField %s received a naive datetime (%s)\"\n",
      "/home/luan/.cache/pypoetry/virtualenvs/apps-ZFymp6kh-py3.8/lib/python3.8/site-packages/django/db/models/fields/__init__.py:1424: RuntimeWarning: DateTimeField HistoricalServiceOrder.opened_at received a naive datetime (2024-03-22 08:20:30.590224) while time zone support is active.\n",
      "  warnings.warn(\"DateTimeField %s received a naive datetime (%s)\"\n",
      "/home/luan/.cache/pypoetry/virtualenvs/apps-ZFymp6kh-py3.8/lib/python3.8/site-packages/django/db/models/fields/__init__.py:1424: RuntimeWarning: DateTimeField ToDo.created_at received a naive datetime (2024-03-21 20:20:30.695693) while time zone support is active.\n",
      "  warnings.warn(\"DateTimeField %s received a naive datetime (%s)\"\n"
     ]
    },
    {
     "name": "stdout",
     "output_type": "stream",
     "text": [
      "Procedure matching query does not exist.\n"
     ]
    },
    {
     "name": "stderr",
     "output_type": "stream",
     "text": [
      "WARNING\tProperty: Unknown Property name. [1:1: word-wrap]\n",
      "WARNING:CSSUTILS:Property: Unknown Property name. [1:1: word-wrap]\n"
     ]
    },
    {
     "name": "stdout",
     "output_type": "stream",
     "text": [
      "'NoneType' object has no attribute 'is_final'\n"
     ]
    },
    {
     "name": "stderr",
     "output_type": "stream",
     "text": [
      "/home/luan/.cache/pypoetry/virtualenvs/apps-ZFymp6kh-py3.8/lib/python3.8/site-packages/django/db/models/fields/__init__.py:1424: RuntimeWarning: DateTimeField ServiceOrder.opened_at received a naive datetime (2024-03-22 08:20:31.987456) while time zone support is active.\n",
      "  warnings.warn(\"DateTimeField %s received a naive datetime (%s)\"\n",
      "/home/luan/.cache/pypoetry/virtualenvs/apps-ZFymp6kh-py3.8/lib/python3.8/site-packages/django/db/models/fields/__init__.py:1424: RuntimeWarning: DateTimeField HistoricalServiceOrder.opened_at received a naive datetime (2024-03-22 08:20:31.987456) while time zone support is active.\n",
      "  warnings.warn(\"DateTimeField %s received a naive datetime (%s)\"\n",
      "/home/luan/.cache/pypoetry/virtualenvs/apps-ZFymp6kh-py3.8/lib/python3.8/site-packages/django/db/models/fields/__init__.py:1424: RuntimeWarning: DateTimeField ToDo.created_at received a naive datetime (2024-03-21 20:20:32.096473) while time zone support is active.\n",
      "  warnings.warn(\"DateTimeField %s received a naive datetime (%s)\"\n"
     ]
    },
    {
     "name": "stdout",
     "output_type": "stream",
     "text": [
      "Procedure matching query does not exist.\n"
     ]
    },
    {
     "name": "stderr",
     "output_type": "stream",
     "text": [
      "WARNING\tProperty: Unknown Property name. [1:1: word-wrap]\n",
      "WARNING:CSSUTILS:Property: Unknown Property name. [1:1: word-wrap]\n"
     ]
    },
    {
     "name": "stdout",
     "output_type": "stream",
     "text": [
      "'NoneType' object has no attribute 'is_final'\n"
     ]
    },
    {
     "name": "stderr",
     "output_type": "stream",
     "text": [
      "/home/luan/.cache/pypoetry/virtualenvs/apps-ZFymp6kh-py3.8/lib/python3.8/site-packages/django/db/models/fields/__init__.py:1424: RuntimeWarning: DateTimeField OccurrenceRecord.datetime received a naive datetime (2018-12-04 00:00:00) while time zone support is active.\n",
      "  warnings.warn(\"DateTimeField %s received a naive datetime (%s)\"\n",
      "/home/luan/.cache/pypoetry/virtualenvs/apps-ZFymp6kh-py3.8/lib/python3.8/site-packages/django/db/models/fields/__init__.py:1424: RuntimeWarning: DateTimeField HistoricalOccurrenceRecord.datetime received a naive datetime (2018-12-04 00:00:00) while time zone support is active.\n",
      "  warnings.warn(\"DateTimeField %s received a naive datetime (%s)\"\n",
      "/home/luan/.cache/pypoetry/virtualenvs/apps-ZFymp6kh-py3.8/lib/python3.8/site-packages/django/db/models/fields/__init__.py:1424: RuntimeWarning: DateTimeField ServiceOrder.opened_at received a naive datetime (2024-03-22 08:20:33.331281) while time zone support is active.\n",
      "  warnings.warn(\"DateTimeField %s received a naive datetime (%s)\"\n",
      "/home/luan/.cache/pypoetry/virtualenvs/apps-ZFymp6kh-py3.8/lib/python3.8/site-packages/django/db/models/fields/__init__.py:1424: RuntimeWarning: DateTimeField HistoricalServiceOrder.opened_at received a naive datetime (2024-03-22 08:20:33.331281) while time zone support is active.\n",
      "  warnings.warn(\"DateTimeField %s received a naive datetime (%s)\"\n",
      "/home/luan/.cache/pypoetry/virtualenvs/apps-ZFymp6kh-py3.8/lib/python3.8/site-packages/django/db/models/fields/__init__.py:1424: RuntimeWarning: DateTimeField ToDo.created_at received a naive datetime (2024-03-21 20:20:33.434307) while time zone support is active.\n",
      "  warnings.warn(\"DateTimeField %s received a naive datetime (%s)\"\n"
     ]
    },
    {
     "name": "stdout",
     "output_type": "stream",
     "text": [
      "Procedure matching query does not exist.\n"
     ]
    },
    {
     "name": "stderr",
     "output_type": "stream",
     "text": [
      "WARNING\tProperty: Unknown Property name. [1:1: word-wrap]\n",
      "WARNING:CSSUTILS:Property: Unknown Property name. [1:1: word-wrap]\n"
     ]
    },
    {
     "name": "stdout",
     "output_type": "stream",
     "text": [
      "'NoneType' object has no attribute 'is_final'\n"
     ]
    },
    {
     "name": "stderr",
     "output_type": "stream",
     "text": [
      "/home/luan/.cache/pypoetry/virtualenvs/apps-ZFymp6kh-py3.8/lib/python3.8/site-packages/django/db/models/fields/__init__.py:1424: RuntimeWarning: DateTimeField ServiceOrder.opened_at received a naive datetime (2024-03-22 08:20:35.047785) while time zone support is active.\n",
      "  warnings.warn(\"DateTimeField %s received a naive datetime (%s)\"\n",
      "/home/luan/.cache/pypoetry/virtualenvs/apps-ZFymp6kh-py3.8/lib/python3.8/site-packages/django/db/models/fields/__init__.py:1424: RuntimeWarning: DateTimeField HistoricalServiceOrder.opened_at received a naive datetime (2024-03-22 08:20:35.047785) while time zone support is active.\n",
      "  warnings.warn(\"DateTimeField %s received a naive datetime (%s)\"\n",
      "/home/luan/.cache/pypoetry/virtualenvs/apps-ZFymp6kh-py3.8/lib/python3.8/site-packages/django/db/models/fields/__init__.py:1424: RuntimeWarning: DateTimeField ToDo.created_at received a naive datetime (2024-03-21 20:20:35.161142) while time zone support is active.\n",
      "  warnings.warn(\"DateTimeField %s received a naive datetime (%s)\"\n"
     ]
    },
    {
     "name": "stdout",
     "output_type": "stream",
     "text": [
      "Procedure matching query does not exist.\n"
     ]
    },
    {
     "name": "stderr",
     "output_type": "stream",
     "text": [
      "WARNING\tProperty: Unknown Property name. [1:1: word-wrap]\n",
      "WARNING:CSSUTILS:Property: Unknown Property name. [1:1: word-wrap]\n"
     ]
    },
    {
     "name": "stdout",
     "output_type": "stream",
     "text": [
      "'NoneType' object has no attribute 'is_final'\n"
     ]
    },
    {
     "name": "stderr",
     "output_type": "stream",
     "text": [
      "/home/luan/.cache/pypoetry/virtualenvs/apps-ZFymp6kh-py3.8/lib/python3.8/site-packages/django/db/models/fields/__init__.py:1424: RuntimeWarning: DateTimeField OccurrenceRecord.datetime received a naive datetime (2019-01-15 00:00:00) while time zone support is active.\n",
      "  warnings.warn(\"DateTimeField %s received a naive datetime (%s)\"\n",
      "/home/luan/.cache/pypoetry/virtualenvs/apps-ZFymp6kh-py3.8/lib/python3.8/site-packages/django/db/models/fields/__init__.py:1424: RuntimeWarning: DateTimeField HistoricalOccurrenceRecord.datetime received a naive datetime (2019-01-15 00:00:00) while time zone support is active.\n",
      "  warnings.warn(\"DateTimeField %s received a naive datetime (%s)\"\n",
      "/home/luan/.cache/pypoetry/virtualenvs/apps-ZFymp6kh-py3.8/lib/python3.8/site-packages/django/db/models/fields/__init__.py:1424: RuntimeWarning: DateTimeField ServiceOrder.opened_at received a naive datetime (2024-03-22 08:20:36.368701) while time zone support is active.\n",
      "  warnings.warn(\"DateTimeField %s received a naive datetime (%s)\"\n",
      "/home/luan/.cache/pypoetry/virtualenvs/apps-ZFymp6kh-py3.8/lib/python3.8/site-packages/django/db/models/fields/__init__.py:1424: RuntimeWarning: DateTimeField HistoricalServiceOrder.opened_at received a naive datetime (2024-03-22 08:20:36.368701) while time zone support is active.\n",
      "  warnings.warn(\"DateTimeField %s received a naive datetime (%s)\"\n",
      "/home/luan/.cache/pypoetry/virtualenvs/apps-ZFymp6kh-py3.8/lib/python3.8/site-packages/django/db/models/fields/__init__.py:1424: RuntimeWarning: DateTimeField ToDo.created_at received a naive datetime (2024-03-21 20:20:36.468439) while time zone support is active.\n",
      "  warnings.warn(\"DateTimeField %s received a naive datetime (%s)\"\n"
     ]
    },
    {
     "name": "stdout",
     "output_type": "stream",
     "text": [
      "Procedure matching query does not exist.\n"
     ]
    },
    {
     "name": "stderr",
     "output_type": "stream",
     "text": [
      "WARNING\tProperty: Unknown Property name. [1:1: word-wrap]\n",
      "WARNING:CSSUTILS:Property: Unknown Property name. [1:1: word-wrap]\n"
     ]
    },
    {
     "name": "stdout",
     "output_type": "stream",
     "text": [
      "'NoneType' object has no attribute 'is_final'\n"
     ]
    },
    {
     "name": "stderr",
     "output_type": "stream",
     "text": [
      "/home/luan/.cache/pypoetry/virtualenvs/apps-ZFymp6kh-py3.8/lib/python3.8/site-packages/django/db/models/fields/__init__.py:1424: RuntimeWarning: DateTimeField ServiceOrder.opened_at received a naive datetime (2024-03-22 08:20:37.780278) while time zone support is active.\n",
      "  warnings.warn(\"DateTimeField %s received a naive datetime (%s)\"\n",
      "/home/luan/.cache/pypoetry/virtualenvs/apps-ZFymp6kh-py3.8/lib/python3.8/site-packages/django/db/models/fields/__init__.py:1424: RuntimeWarning: DateTimeField HistoricalServiceOrder.opened_at received a naive datetime (2024-03-22 08:20:37.780278) while time zone support is active.\n",
      "  warnings.warn(\"DateTimeField %s received a naive datetime (%s)\"\n",
      "/home/luan/.cache/pypoetry/virtualenvs/apps-ZFymp6kh-py3.8/lib/python3.8/site-packages/django/db/models/fields/__init__.py:1424: RuntimeWarning: DateTimeField ToDo.created_at received a naive datetime (2024-03-21 20:20:37.882142) while time zone support is active.\n",
      "  warnings.warn(\"DateTimeField %s received a naive datetime (%s)\"\n"
     ]
    },
    {
     "name": "stdout",
     "output_type": "stream",
     "text": [
      "Procedure matching query does not exist.\n"
     ]
    },
    {
     "name": "stderr",
     "output_type": "stream",
     "text": [
      "WARNING\tProperty: Unknown Property name. [1:1: word-wrap]\n",
      "WARNING:CSSUTILS:Property: Unknown Property name. [1:1: word-wrap]\n"
     ]
    },
    {
     "name": "stdout",
     "output_type": "stream",
     "text": [
      "'NoneType' object has no attribute 'is_final'\n"
     ]
    },
    {
     "name": "stderr",
     "output_type": "stream",
     "text": [
      "/home/luan/.cache/pypoetry/virtualenvs/apps-ZFymp6kh-py3.8/lib/python3.8/site-packages/django/db/models/fields/__init__.py:1424: RuntimeWarning: DateTimeField OccurrenceRecord.datetime received a naive datetime (2019-01-23 00:00:00) while time zone support is active.\n",
      "  warnings.warn(\"DateTimeField %s received a naive datetime (%s)\"\n",
      "/home/luan/.cache/pypoetry/virtualenvs/apps-ZFymp6kh-py3.8/lib/python3.8/site-packages/django/db/models/fields/__init__.py:1424: RuntimeWarning: DateTimeField HistoricalOccurrenceRecord.datetime received a naive datetime (2019-01-23 00:00:00) while time zone support is active.\n",
      "  warnings.warn(\"DateTimeField %s received a naive datetime (%s)\"\n",
      "/home/luan/.cache/pypoetry/virtualenvs/apps-ZFymp6kh-py3.8/lib/python3.8/site-packages/django/db/models/fields/__init__.py:1424: RuntimeWarning: DateTimeField ServiceOrder.opened_at received a naive datetime (2024-03-22 08:20:39.099218) while time zone support is active.\n",
      "  warnings.warn(\"DateTimeField %s received a naive datetime (%s)\"\n",
      "/home/luan/.cache/pypoetry/virtualenvs/apps-ZFymp6kh-py3.8/lib/python3.8/site-packages/django/db/models/fields/__init__.py:1424: RuntimeWarning: DateTimeField HistoricalServiceOrder.opened_at received a naive datetime (2024-03-22 08:20:39.099218) while time zone support is active.\n",
      "  warnings.warn(\"DateTimeField %s received a naive datetime (%s)\"\n",
      "/home/luan/.cache/pypoetry/virtualenvs/apps-ZFymp6kh-py3.8/lib/python3.8/site-packages/django/db/models/fields/__init__.py:1424: RuntimeWarning: DateTimeField ToDo.created_at received a naive datetime (2024-03-21 20:20:39.243472) while time zone support is active.\n",
      "  warnings.warn(\"DateTimeField %s received a naive datetime (%s)\"\n"
     ]
    },
    {
     "name": "stdout",
     "output_type": "stream",
     "text": [
      "Procedure matching query does not exist.\n"
     ]
    },
    {
     "name": "stderr",
     "output_type": "stream",
     "text": [
      "WARNING\tProperty: Unknown Property name. [1:1: word-wrap]\n",
      "WARNING:CSSUTILS:Property: Unknown Property name. [1:1: word-wrap]\n"
     ]
    },
    {
     "name": "stdout",
     "output_type": "stream",
     "text": [
      "'NoneType' object has no attribute 'is_final'\n"
     ]
    },
    {
     "name": "stderr",
     "output_type": "stream",
     "text": [
      "/home/luan/.cache/pypoetry/virtualenvs/apps-ZFymp6kh-py3.8/lib/python3.8/site-packages/django/db/models/fields/__init__.py:1424: RuntimeWarning: DateTimeField ServiceOrder.opened_at received a naive datetime (2024-03-22 08:20:40.581762) while time zone support is active.\n",
      "  warnings.warn(\"DateTimeField %s received a naive datetime (%s)\"\n",
      "/home/luan/.cache/pypoetry/virtualenvs/apps-ZFymp6kh-py3.8/lib/python3.8/site-packages/django/db/models/fields/__init__.py:1424: RuntimeWarning: DateTimeField HistoricalServiceOrder.opened_at received a naive datetime (2024-03-22 08:20:40.581762) while time zone support is active.\n",
      "  warnings.warn(\"DateTimeField %s received a naive datetime (%s)\"\n",
      "/home/luan/.cache/pypoetry/virtualenvs/apps-ZFymp6kh-py3.8/lib/python3.8/site-packages/django/db/models/fields/__init__.py:1424: RuntimeWarning: DateTimeField ToDo.created_at received a naive datetime (2024-03-21 20:20:40.681263) while time zone support is active.\n",
      "  warnings.warn(\"DateTimeField %s received a naive datetime (%s)\"\n"
     ]
    },
    {
     "name": "stdout",
     "output_type": "stream",
     "text": [
      "Procedure matching query does not exist.\n"
     ]
    },
    {
     "name": "stderr",
     "output_type": "stream",
     "text": [
      "WARNING\tProperty: Unknown Property name. [1:1: word-wrap]\n",
      "WARNING:CSSUTILS:Property: Unknown Property name. [1:1: word-wrap]\n"
     ]
    },
    {
     "name": "stdout",
     "output_type": "stream",
     "text": [
      "'NoneType' object has no attribute 'is_final'\n"
     ]
    },
    {
     "name": "stderr",
     "output_type": "stream",
     "text": [
      "/home/luan/.cache/pypoetry/virtualenvs/apps-ZFymp6kh-py3.8/lib/python3.8/site-packages/django/db/models/fields/__init__.py:1424: RuntimeWarning: DateTimeField OccurrenceRecord.datetime received a naive datetime (2019-01-24 00:00:00) while time zone support is active.\n",
      "  warnings.warn(\"DateTimeField %s received a naive datetime (%s)\"\n",
      "/home/luan/.cache/pypoetry/virtualenvs/apps-ZFymp6kh-py3.8/lib/python3.8/site-packages/django/db/models/fields/__init__.py:1424: RuntimeWarning: DateTimeField HistoricalOccurrenceRecord.datetime received a naive datetime (2019-01-24 00:00:00) while time zone support is active.\n",
      "  warnings.warn(\"DateTimeField %s received a naive datetime (%s)\"\n",
      "/home/luan/.cache/pypoetry/virtualenvs/apps-ZFymp6kh-py3.8/lib/python3.8/site-packages/django/db/models/fields/__init__.py:1424: RuntimeWarning: DateTimeField ServiceOrder.opened_at received a naive datetime (2024-03-22 08:20:42.107871) while time zone support is active.\n",
      "  warnings.warn(\"DateTimeField %s received a naive datetime (%s)\"\n",
      "/home/luan/.cache/pypoetry/virtualenvs/apps-ZFymp6kh-py3.8/lib/python3.8/site-packages/django/db/models/fields/__init__.py:1424: RuntimeWarning: DateTimeField HistoricalServiceOrder.opened_at received a naive datetime (2024-03-22 08:20:42.107871) while time zone support is active.\n",
      "  warnings.warn(\"DateTimeField %s received a naive datetime (%s)\"\n",
      "/home/luan/.cache/pypoetry/virtualenvs/apps-ZFymp6kh-py3.8/lib/python3.8/site-packages/django/db/models/fields/__init__.py:1424: RuntimeWarning: DateTimeField ToDo.created_at received a naive datetime (2024-03-21 20:20:42.257942) while time zone support is active.\n",
      "  warnings.warn(\"DateTimeField %s received a naive datetime (%s)\"\n"
     ]
    },
    {
     "name": "stdout",
     "output_type": "stream",
     "text": [
      "Procedure matching query does not exist.\n"
     ]
    },
    {
     "name": "stderr",
     "output_type": "stream",
     "text": [
      "WARNING\tProperty: Unknown Property name. [1:1: word-wrap]\n",
      "WARNING:CSSUTILS:Property: Unknown Property name. [1:1: word-wrap]\n"
     ]
    },
    {
     "name": "stdout",
     "output_type": "stream",
     "text": [
      "'NoneType' object has no attribute 'is_final'\n"
     ]
    },
    {
     "name": "stderr",
     "output_type": "stream",
     "text": [
      "/home/luan/.cache/pypoetry/virtualenvs/apps-ZFymp6kh-py3.8/lib/python3.8/site-packages/django/db/models/fields/__init__.py:1424: RuntimeWarning: DateTimeField ServiceOrder.opened_at received a naive datetime (2024-03-22 08:20:44.697460) while time zone support is active.\n",
      "  warnings.warn(\"DateTimeField %s received a naive datetime (%s)\"\n",
      "/home/luan/.cache/pypoetry/virtualenvs/apps-ZFymp6kh-py3.8/lib/python3.8/site-packages/django/db/models/fields/__init__.py:1424: RuntimeWarning: DateTimeField HistoricalServiceOrder.opened_at received a naive datetime (2024-03-22 08:20:44.697460) while time zone support is active.\n",
      "  warnings.warn(\"DateTimeField %s received a naive datetime (%s)\"\n",
      "/home/luan/.cache/pypoetry/virtualenvs/apps-ZFymp6kh-py3.8/lib/python3.8/site-packages/django/db/models/fields/__init__.py:1424: RuntimeWarning: DateTimeField ToDo.created_at received a naive datetime (2024-03-21 20:20:44.796851) while time zone support is active.\n",
      "  warnings.warn(\"DateTimeField %s received a naive datetime (%s)\"\n"
     ]
    },
    {
     "name": "stdout",
     "output_type": "stream",
     "text": [
      "Procedure matching query does not exist.\n"
     ]
    },
    {
     "name": "stderr",
     "output_type": "stream",
     "text": [
      "WARNING\tProperty: Unknown Property name. [1:1: word-wrap]\n",
      "WARNING:CSSUTILS:Property: Unknown Property name. [1:1: word-wrap]\n"
     ]
    },
    {
     "name": "stdout",
     "output_type": "stream",
     "text": [
      "'NoneType' object has no attribute 'is_final'\n"
     ]
    },
    {
     "name": "stderr",
     "output_type": "stream",
     "text": [
      "/home/luan/.cache/pypoetry/virtualenvs/apps-ZFymp6kh-py3.8/lib/python3.8/site-packages/django/db/models/fields/__init__.py:1424: RuntimeWarning: DateTimeField OccurrenceRecord.datetime received a naive datetime (2019-01-25 00:00:00) while time zone support is active.\n",
      "  warnings.warn(\"DateTimeField %s received a naive datetime (%s)\"\n",
      "/home/luan/.cache/pypoetry/virtualenvs/apps-ZFymp6kh-py3.8/lib/python3.8/site-packages/django/db/models/fields/__init__.py:1424: RuntimeWarning: DateTimeField HistoricalOccurrenceRecord.datetime received a naive datetime (2019-01-25 00:00:00) while time zone support is active.\n",
      "  warnings.warn(\"DateTimeField %s received a naive datetime (%s)\"\n",
      "/home/luan/.cache/pypoetry/virtualenvs/apps-ZFymp6kh-py3.8/lib/python3.8/site-packages/django/db/models/fields/__init__.py:1424: RuntimeWarning: DateTimeField ServiceOrder.opened_at received a naive datetime (2024-03-22 08:20:46.156059) while time zone support is active.\n",
      "  warnings.warn(\"DateTimeField %s received a naive datetime (%s)\"\n",
      "/home/luan/.cache/pypoetry/virtualenvs/apps-ZFymp6kh-py3.8/lib/python3.8/site-packages/django/db/models/fields/__init__.py:1424: RuntimeWarning: DateTimeField HistoricalServiceOrder.opened_at received a naive datetime (2024-03-22 08:20:46.156059) while time zone support is active.\n",
      "  warnings.warn(\"DateTimeField %s received a naive datetime (%s)\"\n",
      "/home/luan/.cache/pypoetry/virtualenvs/apps-ZFymp6kh-py3.8/lib/python3.8/site-packages/django/db/models/fields/__init__.py:1424: RuntimeWarning: DateTimeField ToDo.created_at received a naive datetime (2024-03-21 20:20:46.263109) while time zone support is active.\n",
      "  warnings.warn(\"DateTimeField %s received a naive datetime (%s)\"\n"
     ]
    },
    {
     "name": "stdout",
     "output_type": "stream",
     "text": [
      "Procedure matching query does not exist.\n"
     ]
    },
    {
     "name": "stderr",
     "output_type": "stream",
     "text": [
      "WARNING\tProperty: Unknown Property name. [1:1: word-wrap]\n",
      "WARNING:CSSUTILS:Property: Unknown Property name. [1:1: word-wrap]\n"
     ]
    },
    {
     "name": "stdout",
     "output_type": "stream",
     "text": [
      "'NoneType' object has no attribute 'is_final'\n"
     ]
    },
    {
     "name": "stderr",
     "output_type": "stream",
     "text": [
      "/home/luan/.cache/pypoetry/virtualenvs/apps-ZFymp6kh-py3.8/lib/python3.8/site-packages/django/db/models/fields/__init__.py:1424: RuntimeWarning: DateTimeField OccurrenceRecord.datetime received a naive datetime (2019-01-26 00:00:00) while time zone support is active.\n",
      "  warnings.warn(\"DateTimeField %s received a naive datetime (%s)\"\n",
      "/home/luan/.cache/pypoetry/virtualenvs/apps-ZFymp6kh-py3.8/lib/python3.8/site-packages/django/db/models/fields/__init__.py:1424: RuntimeWarning: DateTimeField HistoricalOccurrenceRecord.datetime received a naive datetime (2019-01-26 00:00:00) while time zone support is active.\n",
      "  warnings.warn(\"DateTimeField %s received a naive datetime (%s)\"\n",
      "/home/luan/.cache/pypoetry/virtualenvs/apps-ZFymp6kh-py3.8/lib/python3.8/site-packages/django/db/models/fields/__init__.py:1424: RuntimeWarning: DateTimeField ServiceOrder.opened_at received a naive datetime (2024-03-22 08:20:48.222442) while time zone support is active.\n",
      "  warnings.warn(\"DateTimeField %s received a naive datetime (%s)\"\n",
      "/home/luan/.cache/pypoetry/virtualenvs/apps-ZFymp6kh-py3.8/lib/python3.8/site-packages/django/db/models/fields/__init__.py:1424: RuntimeWarning: DateTimeField HistoricalServiceOrder.opened_at received a naive datetime (2024-03-22 08:20:48.222442) while time zone support is active.\n",
      "  warnings.warn(\"DateTimeField %s received a naive datetime (%s)\"\n",
      "/home/luan/.cache/pypoetry/virtualenvs/apps-ZFymp6kh-py3.8/lib/python3.8/site-packages/django/db/models/fields/__init__.py:1424: RuntimeWarning: DateTimeField ToDo.created_at received a naive datetime (2024-03-21 20:20:48.327397) while time zone support is active.\n",
      "  warnings.warn(\"DateTimeField %s received a naive datetime (%s)\"\n"
     ]
    },
    {
     "name": "stdout",
     "output_type": "stream",
     "text": [
      "Procedure matching query does not exist.\n"
     ]
    },
    {
     "name": "stderr",
     "output_type": "stream",
     "text": [
      "WARNING\tProperty: Unknown Property name. [1:1: word-wrap]\n",
      "WARNING:CSSUTILS:Property: Unknown Property name. [1:1: word-wrap]\n"
     ]
    },
    {
     "name": "stdout",
     "output_type": "stream",
     "text": [
      "'NoneType' object has no attribute 'is_final'\n"
     ]
    },
    {
     "name": "stderr",
     "output_type": "stream",
     "text": [
      "/home/luan/.cache/pypoetry/virtualenvs/apps-ZFymp6kh-py3.8/lib/python3.8/site-packages/django/db/models/fields/__init__.py:1424: RuntimeWarning: DateTimeField OccurrenceRecord.datetime received a naive datetime (2019-02-27 00:00:00) while time zone support is active.\n",
      "  warnings.warn(\"DateTimeField %s received a naive datetime (%s)\"\n",
      "/home/luan/.cache/pypoetry/virtualenvs/apps-ZFymp6kh-py3.8/lib/python3.8/site-packages/django/db/models/fields/__init__.py:1424: RuntimeWarning: DateTimeField HistoricalOccurrenceRecord.datetime received a naive datetime (2019-02-27 00:00:00) while time zone support is active.\n",
      "  warnings.warn(\"DateTimeField %s received a naive datetime (%s)\"\n",
      "/home/luan/.cache/pypoetry/virtualenvs/apps-ZFymp6kh-py3.8/lib/python3.8/site-packages/django/db/models/fields/__init__.py:1424: RuntimeWarning: DateTimeField ServiceOrder.opened_at received a naive datetime (2024-03-22 08:20:49.874742) while time zone support is active.\n",
      "  warnings.warn(\"DateTimeField %s received a naive datetime (%s)\"\n",
      "/home/luan/.cache/pypoetry/virtualenvs/apps-ZFymp6kh-py3.8/lib/python3.8/site-packages/django/db/models/fields/__init__.py:1424: RuntimeWarning: DateTimeField HistoricalServiceOrder.opened_at received a naive datetime (2024-03-22 08:20:49.874742) while time zone support is active.\n",
      "  warnings.warn(\"DateTimeField %s received a naive datetime (%s)\"\n",
      "/home/luan/.cache/pypoetry/virtualenvs/apps-ZFymp6kh-py3.8/lib/python3.8/site-packages/django/db/models/fields/__init__.py:1424: RuntimeWarning: DateTimeField ToDo.created_at received a naive datetime (2024-03-21 20:20:49.989929) while time zone support is active.\n",
      "  warnings.warn(\"DateTimeField %s received a naive datetime (%s)\"\n"
     ]
    },
    {
     "name": "stdout",
     "output_type": "stream",
     "text": [
      "Procedure matching query does not exist.\n"
     ]
    },
    {
     "name": "stderr",
     "output_type": "stream",
     "text": [
      "WARNING\tProperty: Unknown Property name. [1:1: word-wrap]\n",
      "WARNING:CSSUTILS:Property: Unknown Property name. [1:1: word-wrap]\n"
     ]
    },
    {
     "name": "stdout",
     "output_type": "stream",
     "text": [
      "'NoneType' object has no attribute 'is_final'\n"
     ]
    },
    {
     "name": "stderr",
     "output_type": "stream",
     "text": [
      "/home/luan/.cache/pypoetry/virtualenvs/apps-ZFymp6kh-py3.8/lib/python3.8/site-packages/django/db/models/fields/__init__.py:1424: RuntimeWarning: DateTimeField OccurrenceRecord.datetime received a naive datetime (2019-02-26 00:00:00) while time zone support is active.\n",
      "  warnings.warn(\"DateTimeField %s received a naive datetime (%s)\"\n",
      "/home/luan/.cache/pypoetry/virtualenvs/apps-ZFymp6kh-py3.8/lib/python3.8/site-packages/django/db/models/fields/__init__.py:1424: RuntimeWarning: DateTimeField HistoricalOccurrenceRecord.datetime received a naive datetime (2019-02-26 00:00:00) while time zone support is active.\n",
      "  warnings.warn(\"DateTimeField %s received a naive datetime (%s)\"\n",
      "/home/luan/.cache/pypoetry/virtualenvs/apps-ZFymp6kh-py3.8/lib/python3.8/site-packages/django/db/models/fields/__init__.py:1424: RuntimeWarning: DateTimeField ServiceOrder.opened_at received a naive datetime (2024-03-22 08:20:51.348649) while time zone support is active.\n",
      "  warnings.warn(\"DateTimeField %s received a naive datetime (%s)\"\n",
      "/home/luan/.cache/pypoetry/virtualenvs/apps-ZFymp6kh-py3.8/lib/python3.8/site-packages/django/db/models/fields/__init__.py:1424: RuntimeWarning: DateTimeField HistoricalServiceOrder.opened_at received a naive datetime (2024-03-22 08:20:51.348649) while time zone support is active.\n",
      "  warnings.warn(\"DateTimeField %s received a naive datetime (%s)\"\n",
      "/home/luan/.cache/pypoetry/virtualenvs/apps-ZFymp6kh-py3.8/lib/python3.8/site-packages/django/db/models/fields/__init__.py:1424: RuntimeWarning: DateTimeField ToDo.created_at received a naive datetime (2024-03-21 20:20:51.453559) while time zone support is active.\n",
      "  warnings.warn(\"DateTimeField %s received a naive datetime (%s)\"\n"
     ]
    },
    {
     "name": "stdout",
     "output_type": "stream",
     "text": [
      "Procedure matching query does not exist.\n"
     ]
    },
    {
     "name": "stderr",
     "output_type": "stream",
     "text": [
      "WARNING\tProperty: Unknown Property name. [1:1: word-wrap]\n",
      "WARNING:CSSUTILS:Property: Unknown Property name. [1:1: word-wrap]\n"
     ]
    },
    {
     "name": "stdout",
     "output_type": "stream",
     "text": [
      "'NoneType' object has no attribute 'is_final'\n"
     ]
    },
    {
     "name": "stderr",
     "output_type": "stream",
     "text": [
      "/home/luan/.cache/pypoetry/virtualenvs/apps-ZFymp6kh-py3.8/lib/python3.8/site-packages/django/db/models/fields/__init__.py:1424: RuntimeWarning: DateTimeField OccurrenceRecord.datetime received a naive datetime (2019-03-08 00:00:00) while time zone support is active.\n",
      "  warnings.warn(\"DateTimeField %s received a naive datetime (%s)\"\n",
      "/home/luan/.cache/pypoetry/virtualenvs/apps-ZFymp6kh-py3.8/lib/python3.8/site-packages/django/db/models/fields/__init__.py:1424: RuntimeWarning: DateTimeField HistoricalOccurrenceRecord.datetime received a naive datetime (2019-03-08 00:00:00) while time zone support is active.\n",
      "  warnings.warn(\"DateTimeField %s received a naive datetime (%s)\"\n",
      "/home/luan/.cache/pypoetry/virtualenvs/apps-ZFymp6kh-py3.8/lib/python3.8/site-packages/django/db/models/fields/__init__.py:1424: RuntimeWarning: DateTimeField ServiceOrder.opened_at received a naive datetime (2024-03-22 08:20:52.744501) while time zone support is active.\n",
      "  warnings.warn(\"DateTimeField %s received a naive datetime (%s)\"\n",
      "/home/luan/.cache/pypoetry/virtualenvs/apps-ZFymp6kh-py3.8/lib/python3.8/site-packages/django/db/models/fields/__init__.py:1424: RuntimeWarning: DateTimeField HistoricalServiceOrder.opened_at received a naive datetime (2024-03-22 08:20:52.744501) while time zone support is active.\n",
      "  warnings.warn(\"DateTimeField %s received a naive datetime (%s)\"\n",
      "/home/luan/.cache/pypoetry/virtualenvs/apps-ZFymp6kh-py3.8/lib/python3.8/site-packages/django/db/models/fields/__init__.py:1424: RuntimeWarning: DateTimeField ToDo.created_at received a naive datetime (2024-03-21 20:20:52.855777) while time zone support is active.\n",
      "  warnings.warn(\"DateTimeField %s received a naive datetime (%s)\"\n"
     ]
    },
    {
     "name": "stdout",
     "output_type": "stream",
     "text": [
      "Procedure matching query does not exist.\n"
     ]
    },
    {
     "name": "stderr",
     "output_type": "stream",
     "text": [
      "WARNING\tProperty: Unknown Property name. [1:1: word-wrap]\n",
      "WARNING:CSSUTILS:Property: Unknown Property name. [1:1: word-wrap]\n"
     ]
    },
    {
     "name": "stdout",
     "output_type": "stream",
     "text": [
      "'NoneType' object has no attribute 'is_final'\n"
     ]
    },
    {
     "name": "stderr",
     "output_type": "stream",
     "text": [
      "/home/luan/.cache/pypoetry/virtualenvs/apps-ZFymp6kh-py3.8/lib/python3.8/site-packages/django/db/models/fields/__init__.py:1424: RuntimeWarning: DateTimeField ServiceOrder.opened_at received a naive datetime (2024-03-22 08:20:55.492770) while time zone support is active.\n",
      "  warnings.warn(\"DateTimeField %s received a naive datetime (%s)\"\n",
      "/home/luan/.cache/pypoetry/virtualenvs/apps-ZFymp6kh-py3.8/lib/python3.8/site-packages/django/db/models/fields/__init__.py:1424: RuntimeWarning: DateTimeField HistoricalServiceOrder.opened_at received a naive datetime (2024-03-22 08:20:55.492770) while time zone support is active.\n",
      "  warnings.warn(\"DateTimeField %s received a naive datetime (%s)\"\n",
      "/home/luan/.cache/pypoetry/virtualenvs/apps-ZFymp6kh-py3.8/lib/python3.8/site-packages/django/db/models/fields/__init__.py:1424: RuntimeWarning: DateTimeField ToDo.created_at received a naive datetime (2024-03-21 20:20:55.603790) while time zone support is active.\n",
      "  warnings.warn(\"DateTimeField %s received a naive datetime (%s)\"\n"
     ]
    },
    {
     "name": "stdout",
     "output_type": "stream",
     "text": [
      "Procedure matching query does not exist.\n"
     ]
    },
    {
     "name": "stderr",
     "output_type": "stream",
     "text": [
      "WARNING\tProperty: Unknown Property name. [1:1: word-wrap]\n",
      "WARNING:CSSUTILS:Property: Unknown Property name. [1:1: word-wrap]\n"
     ]
    },
    {
     "name": "stdout",
     "output_type": "stream",
     "text": [
      "'NoneType' object has no attribute 'is_final'\n"
     ]
    },
    {
     "name": "stderr",
     "output_type": "stream",
     "text": [
      "/home/luan/.cache/pypoetry/virtualenvs/apps-ZFymp6kh-py3.8/lib/python3.8/site-packages/django/db/models/fields/__init__.py:1424: RuntimeWarning: DateTimeField OccurrenceRecord.datetime received a naive datetime (2019-03-21 00:00:00) while time zone support is active.\n",
      "  warnings.warn(\"DateTimeField %s received a naive datetime (%s)\"\n",
      "/home/luan/.cache/pypoetry/virtualenvs/apps-ZFymp6kh-py3.8/lib/python3.8/site-packages/django/db/models/fields/__init__.py:1424: RuntimeWarning: DateTimeField HistoricalOccurrenceRecord.datetime received a naive datetime (2019-03-21 00:00:00) while time zone support is active.\n",
      "  warnings.warn(\"DateTimeField %s received a naive datetime (%s)\"\n",
      "/home/luan/.cache/pypoetry/virtualenvs/apps-ZFymp6kh-py3.8/lib/python3.8/site-packages/django/db/models/fields/__init__.py:1424: RuntimeWarning: DateTimeField ServiceOrder.opened_at received a naive datetime (2024-03-22 08:20:56.976887) while time zone support is active.\n",
      "  warnings.warn(\"DateTimeField %s received a naive datetime (%s)\"\n",
      "/home/luan/.cache/pypoetry/virtualenvs/apps-ZFymp6kh-py3.8/lib/python3.8/site-packages/django/db/models/fields/__init__.py:1424: RuntimeWarning: DateTimeField HistoricalServiceOrder.opened_at received a naive datetime (2024-03-22 08:20:56.976887) while time zone support is active.\n",
      "  warnings.warn(\"DateTimeField %s received a naive datetime (%s)\"\n",
      "/home/luan/.cache/pypoetry/virtualenvs/apps-ZFymp6kh-py3.8/lib/python3.8/site-packages/django/db/models/fields/__init__.py:1424: RuntimeWarning: DateTimeField ToDo.created_at received a naive datetime (2024-03-21 20:20:57.109937) while time zone support is active.\n",
      "  warnings.warn(\"DateTimeField %s received a naive datetime (%s)\"\n"
     ]
    },
    {
     "name": "stdout",
     "output_type": "stream",
     "text": [
      "Procedure matching query does not exist.\n"
     ]
    },
    {
     "name": "stderr",
     "output_type": "stream",
     "text": [
      "WARNING\tProperty: Unknown Property name. [1:1: word-wrap]\n",
      "WARNING:CSSUTILS:Property: Unknown Property name. [1:1: word-wrap]\n"
     ]
    },
    {
     "name": "stdout",
     "output_type": "stream",
     "text": [
      "'NoneType' object has no attribute 'is_final'\n"
     ]
    },
    {
     "name": "stderr",
     "output_type": "stream",
     "text": [
      "/home/luan/.cache/pypoetry/virtualenvs/apps-ZFymp6kh-py3.8/lib/python3.8/site-packages/django/db/models/fields/__init__.py:1424: RuntimeWarning: DateTimeField OccurrenceRecord.datetime received a naive datetime (2019-04-04 00:00:00) while time zone support is active.\n",
      "  warnings.warn(\"DateTimeField %s received a naive datetime (%s)\"\n",
      "/home/luan/.cache/pypoetry/virtualenvs/apps-ZFymp6kh-py3.8/lib/python3.8/site-packages/django/db/models/fields/__init__.py:1424: RuntimeWarning: DateTimeField HistoricalOccurrenceRecord.datetime received a naive datetime (2019-04-04 00:00:00) while time zone support is active.\n",
      "  warnings.warn(\"DateTimeField %s received a naive datetime (%s)\"\n",
      "/home/luan/.cache/pypoetry/virtualenvs/apps-ZFymp6kh-py3.8/lib/python3.8/site-packages/django/db/models/fields/__init__.py:1424: RuntimeWarning: DateTimeField ServiceOrder.opened_at received a naive datetime (2024-03-22 08:20:58.405842) while time zone support is active.\n",
      "  warnings.warn(\"DateTimeField %s received a naive datetime (%s)\"\n",
      "/home/luan/.cache/pypoetry/virtualenvs/apps-ZFymp6kh-py3.8/lib/python3.8/site-packages/django/db/models/fields/__init__.py:1424: RuntimeWarning: DateTimeField HistoricalServiceOrder.opened_at received a naive datetime (2024-03-22 08:20:58.405842) while time zone support is active.\n",
      "  warnings.warn(\"DateTimeField %s received a naive datetime (%s)\"\n",
      "/home/luan/.cache/pypoetry/virtualenvs/apps-ZFymp6kh-py3.8/lib/python3.8/site-packages/django/db/models/fields/__init__.py:1424: RuntimeWarning: DateTimeField ToDo.created_at received a naive datetime (2024-03-21 20:20:58.512871) while time zone support is active.\n",
      "  warnings.warn(\"DateTimeField %s received a naive datetime (%s)\"\n"
     ]
    },
    {
     "name": "stdout",
     "output_type": "stream",
     "text": [
      "Procedure matching query does not exist.\n"
     ]
    },
    {
     "name": "stderr",
     "output_type": "stream",
     "text": [
      "WARNING\tProperty: Unknown Property name. [1:1: word-wrap]\n",
      "WARNING:CSSUTILS:Property: Unknown Property name. [1:1: word-wrap]\n"
     ]
    },
    {
     "name": "stdout",
     "output_type": "stream",
     "text": [
      "'NoneType' object has no attribute 'is_final'\n"
     ]
    },
    {
     "name": "stderr",
     "output_type": "stream",
     "text": [
      "/home/luan/.cache/pypoetry/virtualenvs/apps-ZFymp6kh-py3.8/lib/python3.8/site-packages/django/db/models/fields/__init__.py:1424: RuntimeWarning: DateTimeField ServiceOrder.opened_at received a naive datetime (2024-03-22 08:20:59.840974) while time zone support is active.\n",
      "  warnings.warn(\"DateTimeField %s received a naive datetime (%s)\"\n",
      "/home/luan/.cache/pypoetry/virtualenvs/apps-ZFymp6kh-py3.8/lib/python3.8/site-packages/django/db/models/fields/__init__.py:1424: RuntimeWarning: DateTimeField HistoricalServiceOrder.opened_at received a naive datetime (2024-03-22 08:20:59.840974) while time zone support is active.\n",
      "  warnings.warn(\"DateTimeField %s received a naive datetime (%s)\"\n",
      "/home/luan/.cache/pypoetry/virtualenvs/apps-ZFymp6kh-py3.8/lib/python3.8/site-packages/django/db/models/fields/__init__.py:1424: RuntimeWarning: DateTimeField ToDo.created_at received a naive datetime (2024-03-21 20:20:59.952863) while time zone support is active.\n",
      "  warnings.warn(\"DateTimeField %s received a naive datetime (%s)\"\n"
     ]
    },
    {
     "name": "stdout",
     "output_type": "stream",
     "text": [
      "Procedure matching query does not exist.\n"
     ]
    },
    {
     "name": "stderr",
     "output_type": "stream",
     "text": [
      "WARNING\tProperty: Unknown Property name. [1:1: word-wrap]\n",
      "WARNING:CSSUTILS:Property: Unknown Property name. [1:1: word-wrap]\n"
     ]
    },
    {
     "name": "stdout",
     "output_type": "stream",
     "text": [
      "'NoneType' object has no attribute 'is_final'\n"
     ]
    },
    {
     "name": "stderr",
     "output_type": "stream",
     "text": [
      "/home/luan/.cache/pypoetry/virtualenvs/apps-ZFymp6kh-py3.8/lib/python3.8/site-packages/django/db/models/fields/__init__.py:1424: RuntimeWarning: DateTimeField OccurrenceRecord.datetime received a naive datetime (2019-04-02 00:00:00) while time zone support is active.\n",
      "  warnings.warn(\"DateTimeField %s received a naive datetime (%s)\"\n",
      "/home/luan/.cache/pypoetry/virtualenvs/apps-ZFymp6kh-py3.8/lib/python3.8/site-packages/django/db/models/fields/__init__.py:1424: RuntimeWarning: DateTimeField HistoricalOccurrenceRecord.datetime received a naive datetime (2019-04-02 00:00:00) while time zone support is active.\n",
      "  warnings.warn(\"DateTimeField %s received a naive datetime (%s)\"\n",
      "/home/luan/.cache/pypoetry/virtualenvs/apps-ZFymp6kh-py3.8/lib/python3.8/site-packages/django/db/models/fields/__init__.py:1424: RuntimeWarning: DateTimeField ServiceOrder.opened_at received a naive datetime (2024-03-22 08:21:01.403567) while time zone support is active.\n",
      "  warnings.warn(\"DateTimeField %s received a naive datetime (%s)\"\n",
      "/home/luan/.cache/pypoetry/virtualenvs/apps-ZFymp6kh-py3.8/lib/python3.8/site-packages/django/db/models/fields/__init__.py:1424: RuntimeWarning: DateTimeField HistoricalServiceOrder.opened_at received a naive datetime (2024-03-22 08:21:01.403567) while time zone support is active.\n",
      "  warnings.warn(\"DateTimeField %s received a naive datetime (%s)\"\n",
      "/home/luan/.cache/pypoetry/virtualenvs/apps-ZFymp6kh-py3.8/lib/python3.8/site-packages/django/db/models/fields/__init__.py:1424: RuntimeWarning: DateTimeField ToDo.created_at received a naive datetime (2024-03-21 20:21:01.510844) while time zone support is active.\n",
      "  warnings.warn(\"DateTimeField %s received a naive datetime (%s)\"\n"
     ]
    },
    {
     "name": "stdout",
     "output_type": "stream",
     "text": [
      "Procedure matching query does not exist.\n"
     ]
    },
    {
     "name": "stderr",
     "output_type": "stream",
     "text": [
      "WARNING\tProperty: Unknown Property name. [1:1: word-wrap]\n",
      "WARNING:CSSUTILS:Property: Unknown Property name. [1:1: word-wrap]\n"
     ]
    },
    {
     "name": "stdout",
     "output_type": "stream",
     "text": [
      "'NoneType' object has no attribute 'is_final'\n"
     ]
    },
    {
     "name": "stderr",
     "output_type": "stream",
     "text": [
      "/home/luan/.cache/pypoetry/virtualenvs/apps-ZFymp6kh-py3.8/lib/python3.8/site-packages/django/db/models/fields/__init__.py:1424: RuntimeWarning: DateTimeField ServiceOrder.opened_at received a naive datetime (2024-03-22 08:21:02.770903) while time zone support is active.\n",
      "  warnings.warn(\"DateTimeField %s received a naive datetime (%s)\"\n",
      "/home/luan/.cache/pypoetry/virtualenvs/apps-ZFymp6kh-py3.8/lib/python3.8/site-packages/django/db/models/fields/__init__.py:1424: RuntimeWarning: DateTimeField HistoricalServiceOrder.opened_at received a naive datetime (2024-03-22 08:21:02.770903) while time zone support is active.\n",
      "  warnings.warn(\"DateTimeField %s received a naive datetime (%s)\"\n",
      "/home/luan/.cache/pypoetry/virtualenvs/apps-ZFymp6kh-py3.8/lib/python3.8/site-packages/django/db/models/fields/__init__.py:1424: RuntimeWarning: DateTimeField ToDo.created_at received a naive datetime (2024-03-21 20:21:02.882232) while time zone support is active.\n",
      "  warnings.warn(\"DateTimeField %s received a naive datetime (%s)\"\n"
     ]
    },
    {
     "name": "stdout",
     "output_type": "stream",
     "text": [
      "Procedure matching query does not exist.\n"
     ]
    },
    {
     "name": "stderr",
     "output_type": "stream",
     "text": [
      "WARNING\tProperty: Unknown Property name. [1:1: word-wrap]\n",
      "WARNING:CSSUTILS:Property: Unknown Property name. [1:1: word-wrap]\n"
     ]
    },
    {
     "name": "stdout",
     "output_type": "stream",
     "text": [
      "'NoneType' object has no attribute 'is_final'\n"
     ]
    },
    {
     "name": "stderr",
     "output_type": "stream",
     "text": [
      "/home/luan/.cache/pypoetry/virtualenvs/apps-ZFymp6kh-py3.8/lib/python3.8/site-packages/django/db/models/fields/__init__.py:1424: RuntimeWarning: DateTimeField ServiceOrder.opened_at received a naive datetime (2024-03-22 08:21:04.296812) while time zone support is active.\n",
      "  warnings.warn(\"DateTimeField %s received a naive datetime (%s)\"\n",
      "/home/luan/.cache/pypoetry/virtualenvs/apps-ZFymp6kh-py3.8/lib/python3.8/site-packages/django/db/models/fields/__init__.py:1424: RuntimeWarning: DateTimeField HistoricalServiceOrder.opened_at received a naive datetime (2024-03-22 08:21:04.296812) while time zone support is active.\n",
      "  warnings.warn(\"DateTimeField %s received a naive datetime (%s)\"\n",
      "/home/luan/.cache/pypoetry/virtualenvs/apps-ZFymp6kh-py3.8/lib/python3.8/site-packages/django/db/models/fields/__init__.py:1424: RuntimeWarning: DateTimeField ToDo.created_at received a naive datetime (2024-03-21 20:21:04.403032) while time zone support is active.\n",
      "  warnings.warn(\"DateTimeField %s received a naive datetime (%s)\"\n"
     ]
    },
    {
     "name": "stdout",
     "output_type": "stream",
     "text": [
      "Procedure matching query does not exist.\n"
     ]
    },
    {
     "name": "stderr",
     "output_type": "stream",
     "text": [
      "WARNING\tProperty: Unknown Property name. [1:1: word-wrap]\n",
      "WARNING:CSSUTILS:Property: Unknown Property name. [1:1: word-wrap]\n"
     ]
    },
    {
     "name": "stdout",
     "output_type": "stream",
     "text": [
      "'NoneType' object has no attribute 'is_final'\n"
     ]
    },
    {
     "name": "stderr",
     "output_type": "stream",
     "text": [
      "/home/luan/.cache/pypoetry/virtualenvs/apps-ZFymp6kh-py3.8/lib/python3.8/site-packages/django/db/models/fields/__init__.py:1424: RuntimeWarning: DateTimeField OccurrenceRecord.datetime received a naive datetime (2019-04-29 00:00:00) while time zone support is active.\n",
      "  warnings.warn(\"DateTimeField %s received a naive datetime (%s)\"\n",
      "/home/luan/.cache/pypoetry/virtualenvs/apps-ZFymp6kh-py3.8/lib/python3.8/site-packages/django/db/models/fields/__init__.py:1424: RuntimeWarning: DateTimeField HistoricalOccurrenceRecord.datetime received a naive datetime (2019-04-29 00:00:00) while time zone support is active.\n",
      "  warnings.warn(\"DateTimeField %s received a naive datetime (%s)\"\n",
      "/home/luan/.cache/pypoetry/virtualenvs/apps-ZFymp6kh-py3.8/lib/python3.8/site-packages/django/db/models/fields/__init__.py:1424: RuntimeWarning: DateTimeField ServiceOrder.opened_at received a naive datetime (2024-03-22 08:21:06.891876) while time zone support is active.\n",
      "  warnings.warn(\"DateTimeField %s received a naive datetime (%s)\"\n",
      "/home/luan/.cache/pypoetry/virtualenvs/apps-ZFymp6kh-py3.8/lib/python3.8/site-packages/django/db/models/fields/__init__.py:1424: RuntimeWarning: DateTimeField HistoricalServiceOrder.opened_at received a naive datetime (2024-03-22 08:21:06.891876) while time zone support is active.\n",
      "  warnings.warn(\"DateTimeField %s received a naive datetime (%s)\"\n",
      "/home/luan/.cache/pypoetry/virtualenvs/apps-ZFymp6kh-py3.8/lib/python3.8/site-packages/django/db/models/fields/__init__.py:1424: RuntimeWarning: DateTimeField ToDo.created_at received a naive datetime (2024-03-21 20:21:06.993234) while time zone support is active.\n",
      "  warnings.warn(\"DateTimeField %s received a naive datetime (%s)\"\n"
     ]
    },
    {
     "name": "stdout",
     "output_type": "stream",
     "text": [
      "Procedure matching query does not exist.\n"
     ]
    },
    {
     "name": "stderr",
     "output_type": "stream",
     "text": [
      "WARNING\tProperty: Unknown Property name. [1:1: word-wrap]\n",
      "WARNING:CSSUTILS:Property: Unknown Property name. [1:1: word-wrap]\n"
     ]
    },
    {
     "name": "stdout",
     "output_type": "stream",
     "text": [
      "'NoneType' object has no attribute 'is_final'\n"
     ]
    },
    {
     "name": "stderr",
     "output_type": "stream",
     "text": [
      "/home/luan/.cache/pypoetry/virtualenvs/apps-ZFymp6kh-py3.8/lib/python3.8/site-packages/django/db/models/fields/__init__.py:1424: RuntimeWarning: DateTimeField OccurrenceRecord.datetime received a naive datetime (2019-06-06 00:00:00) while time zone support is active.\n",
      "  warnings.warn(\"DateTimeField %s received a naive datetime (%s)\"\n",
      "/home/luan/.cache/pypoetry/virtualenvs/apps-ZFymp6kh-py3.8/lib/python3.8/site-packages/django/db/models/fields/__init__.py:1424: RuntimeWarning: DateTimeField HistoricalOccurrenceRecord.datetime received a naive datetime (2019-06-06 00:00:00) while time zone support is active.\n",
      "  warnings.warn(\"DateTimeField %s received a naive datetime (%s)\"\n",
      "/home/luan/.cache/pypoetry/virtualenvs/apps-ZFymp6kh-py3.8/lib/python3.8/site-packages/django/db/models/fields/__init__.py:1424: RuntimeWarning: DateTimeField ServiceOrder.opened_at received a naive datetime (2024-03-22 08:21:08.221401) while time zone support is active.\n",
      "  warnings.warn(\"DateTimeField %s received a naive datetime (%s)\"\n",
      "/home/luan/.cache/pypoetry/virtualenvs/apps-ZFymp6kh-py3.8/lib/python3.8/site-packages/django/db/models/fields/__init__.py:1424: RuntimeWarning: DateTimeField HistoricalServiceOrder.opened_at received a naive datetime (2024-03-22 08:21:08.221401) while time zone support is active.\n",
      "  warnings.warn(\"DateTimeField %s received a naive datetime (%s)\"\n",
      "/home/luan/.cache/pypoetry/virtualenvs/apps-ZFymp6kh-py3.8/lib/python3.8/site-packages/django/db/models/fields/__init__.py:1424: RuntimeWarning: DateTimeField ToDo.created_at received a naive datetime (2024-03-21 20:21:08.327602) while time zone support is active.\n",
      "  warnings.warn(\"DateTimeField %s received a naive datetime (%s)\"\n"
     ]
    },
    {
     "name": "stdout",
     "output_type": "stream",
     "text": [
      "Procedure matching query does not exist.\n"
     ]
    },
    {
     "name": "stderr",
     "output_type": "stream",
     "text": [
      "WARNING\tProperty: Unknown Property name. [1:1: word-wrap]\n",
      "WARNING:CSSUTILS:Property: Unknown Property name. [1:1: word-wrap]\n"
     ]
    },
    {
     "name": "stdout",
     "output_type": "stream",
     "text": [
      "'NoneType' object has no attribute 'is_final'\n"
     ]
    },
    {
     "name": "stderr",
     "output_type": "stream",
     "text": [
      "/home/luan/.cache/pypoetry/virtualenvs/apps-ZFymp6kh-py3.8/lib/python3.8/site-packages/django/db/models/fields/__init__.py:1424: RuntimeWarning: DateTimeField OccurrenceRecord.datetime received a naive datetime (2019-06-03 00:00:00) while time zone support is active.\n",
      "  warnings.warn(\"DateTimeField %s received a naive datetime (%s)\"\n",
      "/home/luan/.cache/pypoetry/virtualenvs/apps-ZFymp6kh-py3.8/lib/python3.8/site-packages/django/db/models/fields/__init__.py:1424: RuntimeWarning: DateTimeField HistoricalOccurrenceRecord.datetime received a naive datetime (2019-06-03 00:00:00) while time zone support is active.\n",
      "  warnings.warn(\"DateTimeField %s received a naive datetime (%s)\"\n",
      "/home/luan/.cache/pypoetry/virtualenvs/apps-ZFymp6kh-py3.8/lib/python3.8/site-packages/django/db/models/fields/__init__.py:1424: RuntimeWarning: DateTimeField ServiceOrder.opened_at received a naive datetime (2024-03-22 08:21:09.557203) while time zone support is active.\n",
      "  warnings.warn(\"DateTimeField %s received a naive datetime (%s)\"\n",
      "/home/luan/.cache/pypoetry/virtualenvs/apps-ZFymp6kh-py3.8/lib/python3.8/site-packages/django/db/models/fields/__init__.py:1424: RuntimeWarning: DateTimeField HistoricalServiceOrder.opened_at received a naive datetime (2024-03-22 08:21:09.557203) while time zone support is active.\n",
      "  warnings.warn(\"DateTimeField %s received a naive datetime (%s)\"\n",
      "/home/luan/.cache/pypoetry/virtualenvs/apps-ZFymp6kh-py3.8/lib/python3.8/site-packages/django/db/models/fields/__init__.py:1424: RuntimeWarning: DateTimeField ToDo.created_at received a naive datetime (2024-03-21 20:21:09.658410) while time zone support is active.\n",
      "  warnings.warn(\"DateTimeField %s received a naive datetime (%s)\"\n"
     ]
    },
    {
     "name": "stdout",
     "output_type": "stream",
     "text": [
      "Procedure matching query does not exist.\n"
     ]
    },
    {
     "name": "stderr",
     "output_type": "stream",
     "text": [
      "WARNING\tProperty: Unknown Property name. [1:1: word-wrap]\n",
      "WARNING:CSSUTILS:Property: Unknown Property name. [1:1: word-wrap]\n"
     ]
    },
    {
     "name": "stdout",
     "output_type": "stream",
     "text": [
      "'NoneType' object has no attribute 'is_final'\n"
     ]
    },
    {
     "name": "stderr",
     "output_type": "stream",
     "text": [
      "/home/luan/.cache/pypoetry/virtualenvs/apps-ZFymp6kh-py3.8/lib/python3.8/site-packages/django/db/models/fields/__init__.py:1424: RuntimeWarning: DateTimeField OccurrenceRecord.datetime received a naive datetime (2019-06-07 00:00:00) while time zone support is active.\n",
      "  warnings.warn(\"DateTimeField %s received a naive datetime (%s)\"\n",
      "/home/luan/.cache/pypoetry/virtualenvs/apps-ZFymp6kh-py3.8/lib/python3.8/site-packages/django/db/models/fields/__init__.py:1424: RuntimeWarning: DateTimeField HistoricalOccurrenceRecord.datetime received a naive datetime (2019-06-07 00:00:00) while time zone support is active.\n",
      "  warnings.warn(\"DateTimeField %s received a naive datetime (%s)\"\n",
      "/home/luan/.cache/pypoetry/virtualenvs/apps-ZFymp6kh-py3.8/lib/python3.8/site-packages/django/db/models/fields/__init__.py:1424: RuntimeWarning: DateTimeField ServiceOrder.opened_at received a naive datetime (2024-03-22 08:21:10.888754) while time zone support is active.\n",
      "  warnings.warn(\"DateTimeField %s received a naive datetime (%s)\"\n",
      "/home/luan/.cache/pypoetry/virtualenvs/apps-ZFymp6kh-py3.8/lib/python3.8/site-packages/django/db/models/fields/__init__.py:1424: RuntimeWarning: DateTimeField HistoricalServiceOrder.opened_at received a naive datetime (2024-03-22 08:21:10.888754) while time zone support is active.\n",
      "  warnings.warn(\"DateTimeField %s received a naive datetime (%s)\"\n",
      "/home/luan/.cache/pypoetry/virtualenvs/apps-ZFymp6kh-py3.8/lib/python3.8/site-packages/django/db/models/fields/__init__.py:1424: RuntimeWarning: DateTimeField ToDo.created_at received a naive datetime (2024-03-21 20:21:10.987764) while time zone support is active.\n",
      "  warnings.warn(\"DateTimeField %s received a naive datetime (%s)\"\n"
     ]
    },
    {
     "name": "stdout",
     "output_type": "stream",
     "text": [
      "Procedure matching query does not exist.\n"
     ]
    },
    {
     "name": "stderr",
     "output_type": "stream",
     "text": [
      "WARNING\tProperty: Unknown Property name. [1:1: word-wrap]\n",
      "WARNING:CSSUTILS:Property: Unknown Property name. [1:1: word-wrap]\n"
     ]
    },
    {
     "name": "stdout",
     "output_type": "stream",
     "text": [
      "'NoneType' object has no attribute 'is_final'\n"
     ]
    },
    {
     "name": "stderr",
     "output_type": "stream",
     "text": [
      "/home/luan/.cache/pypoetry/virtualenvs/apps-ZFymp6kh-py3.8/lib/python3.8/site-packages/django/db/models/fields/__init__.py:1424: RuntimeWarning: DateTimeField OccurrenceRecord.datetime received a naive datetime (2019-06-11 00:00:00) while time zone support is active.\n",
      "  warnings.warn(\"DateTimeField %s received a naive datetime (%s)\"\n",
      "/home/luan/.cache/pypoetry/virtualenvs/apps-ZFymp6kh-py3.8/lib/python3.8/site-packages/django/db/models/fields/__init__.py:1424: RuntimeWarning: DateTimeField HistoricalOccurrenceRecord.datetime received a naive datetime (2019-06-11 00:00:00) while time zone support is active.\n",
      "  warnings.warn(\"DateTimeField %s received a naive datetime (%s)\"\n",
      "/home/luan/.cache/pypoetry/virtualenvs/apps-ZFymp6kh-py3.8/lib/python3.8/site-packages/django/db/models/fields/__init__.py:1424: RuntimeWarning: DateTimeField ServiceOrder.opened_at received a naive datetime (2024-03-22 08:21:12.343636) while time zone support is active.\n",
      "  warnings.warn(\"DateTimeField %s received a naive datetime (%s)\"\n",
      "/home/luan/.cache/pypoetry/virtualenvs/apps-ZFymp6kh-py3.8/lib/python3.8/site-packages/django/db/models/fields/__init__.py:1424: RuntimeWarning: DateTimeField HistoricalServiceOrder.opened_at received a naive datetime (2024-03-22 08:21:12.343636) while time zone support is active.\n",
      "  warnings.warn(\"DateTimeField %s received a naive datetime (%s)\"\n",
      "/home/luan/.cache/pypoetry/virtualenvs/apps-ZFymp6kh-py3.8/lib/python3.8/site-packages/django/db/models/fields/__init__.py:1424: RuntimeWarning: DateTimeField ToDo.created_at received a naive datetime (2024-03-21 20:21:12.446913) while time zone support is active.\n",
      "  warnings.warn(\"DateTimeField %s received a naive datetime (%s)\"\n"
     ]
    },
    {
     "name": "stdout",
     "output_type": "stream",
     "text": [
      "Procedure matching query does not exist.\n"
     ]
    },
    {
     "name": "stderr",
     "output_type": "stream",
     "text": [
      "WARNING\tProperty: Unknown Property name. [1:1: word-wrap]\n",
      "WARNING:CSSUTILS:Property: Unknown Property name. [1:1: word-wrap]\n"
     ]
    },
    {
     "name": "stdout",
     "output_type": "stream",
     "text": [
      "'NoneType' object has no attribute 'is_final'\n"
     ]
    },
    {
     "name": "stderr",
     "output_type": "stream",
     "text": [
      "/home/luan/.cache/pypoetry/virtualenvs/apps-ZFymp6kh-py3.8/lib/python3.8/site-packages/django/db/models/fields/__init__.py:1424: RuntimeWarning: DateTimeField ServiceOrder.opened_at received a naive datetime (2024-03-22 08:21:13.635064) while time zone support is active.\n",
      "  warnings.warn(\"DateTimeField %s received a naive datetime (%s)\"\n",
      "/home/luan/.cache/pypoetry/virtualenvs/apps-ZFymp6kh-py3.8/lib/python3.8/site-packages/django/db/models/fields/__init__.py:1424: RuntimeWarning: DateTimeField HistoricalServiceOrder.opened_at received a naive datetime (2024-03-22 08:21:13.635064) while time zone support is active.\n",
      "  warnings.warn(\"DateTimeField %s received a naive datetime (%s)\"\n",
      "/home/luan/.cache/pypoetry/virtualenvs/apps-ZFymp6kh-py3.8/lib/python3.8/site-packages/django/db/models/fields/__init__.py:1424: RuntimeWarning: DateTimeField ToDo.created_at received a naive datetime (2024-03-21 20:21:13.736497) while time zone support is active.\n",
      "  warnings.warn(\"DateTimeField %s received a naive datetime (%s)\"\n"
     ]
    },
    {
     "name": "stdout",
     "output_type": "stream",
     "text": [
      "Procedure matching query does not exist.\n"
     ]
    },
    {
     "name": "stderr",
     "output_type": "stream",
     "text": [
      "WARNING\tProperty: Unknown Property name. [1:1: word-wrap]\n",
      "WARNING:CSSUTILS:Property: Unknown Property name. [1:1: word-wrap]\n"
     ]
    },
    {
     "name": "stdout",
     "output_type": "stream",
     "text": [
      "'NoneType' object has no attribute 'is_final'\n"
     ]
    },
    {
     "name": "stderr",
     "output_type": "stream",
     "text": [
      "/home/luan/.cache/pypoetry/virtualenvs/apps-ZFymp6kh-py3.8/lib/python3.8/site-packages/django/db/models/fields/__init__.py:1424: RuntimeWarning: DateTimeField ServiceOrder.opened_at received a naive datetime (2024-03-22 08:21:14.914459) while time zone support is active.\n",
      "  warnings.warn(\"DateTimeField %s received a naive datetime (%s)\"\n",
      "/home/luan/.cache/pypoetry/virtualenvs/apps-ZFymp6kh-py3.8/lib/python3.8/site-packages/django/db/models/fields/__init__.py:1424: RuntimeWarning: DateTimeField HistoricalServiceOrder.opened_at received a naive datetime (2024-03-22 08:21:14.914459) while time zone support is active.\n",
      "  warnings.warn(\"DateTimeField %s received a naive datetime (%s)\"\n",
      "/home/luan/.cache/pypoetry/virtualenvs/apps-ZFymp6kh-py3.8/lib/python3.8/site-packages/django/db/models/fields/__init__.py:1424: RuntimeWarning: DateTimeField ToDo.created_at received a naive datetime (2024-03-21 20:21:15.027164) while time zone support is active.\n",
      "  warnings.warn(\"DateTimeField %s received a naive datetime (%s)\"\n"
     ]
    },
    {
     "name": "stdout",
     "output_type": "stream",
     "text": [
      "Procedure matching query does not exist.\n"
     ]
    },
    {
     "name": "stderr",
     "output_type": "stream",
     "text": [
      "WARNING\tProperty: Unknown Property name. [1:1: word-wrap]\n",
      "WARNING:CSSUTILS:Property: Unknown Property name. [1:1: word-wrap]\n"
     ]
    },
    {
     "name": "stdout",
     "output_type": "stream",
     "text": [
      "'NoneType' object has no attribute 'is_final'\n"
     ]
    },
    {
     "name": "stderr",
     "output_type": "stream",
     "text": [
      "/home/luan/.cache/pypoetry/virtualenvs/apps-ZFymp6kh-py3.8/lib/python3.8/site-packages/django/db/models/fields/__init__.py:1424: RuntimeWarning: DateTimeField ServiceOrder.opened_at received a naive datetime (2024-03-22 08:21:16.449625) while time zone support is active.\n",
      "  warnings.warn(\"DateTimeField %s received a naive datetime (%s)\"\n",
      "/home/luan/.cache/pypoetry/virtualenvs/apps-ZFymp6kh-py3.8/lib/python3.8/site-packages/django/db/models/fields/__init__.py:1424: RuntimeWarning: DateTimeField HistoricalServiceOrder.opened_at received a naive datetime (2024-03-22 08:21:16.449625) while time zone support is active.\n",
      "  warnings.warn(\"DateTimeField %s received a naive datetime (%s)\"\n",
      "/home/luan/.cache/pypoetry/virtualenvs/apps-ZFymp6kh-py3.8/lib/python3.8/site-packages/django/db/models/fields/__init__.py:1424: RuntimeWarning: DateTimeField ToDo.created_at received a naive datetime (2024-03-21 20:21:16.555820) while time zone support is active.\n",
      "  warnings.warn(\"DateTimeField %s received a naive datetime (%s)\"\n"
     ]
    },
    {
     "name": "stdout",
     "output_type": "stream",
     "text": [
      "Procedure matching query does not exist.\n"
     ]
    },
    {
     "name": "stderr",
     "output_type": "stream",
     "text": [
      "WARNING\tProperty: Unknown Property name. [1:1: word-wrap]\n",
      "WARNING:CSSUTILS:Property: Unknown Property name. [1:1: word-wrap]\n"
     ]
    },
    {
     "name": "stdout",
     "output_type": "stream",
     "text": [
      "'NoneType' object has no attribute 'is_final'\n"
     ]
    },
    {
     "name": "stderr",
     "output_type": "stream",
     "text": [
      "/home/luan/.cache/pypoetry/virtualenvs/apps-ZFymp6kh-py3.8/lib/python3.8/site-packages/django/db/models/fields/__init__.py:1424: RuntimeWarning: DateTimeField OccurrenceRecord.datetime received a naive datetime (2019-06-05 00:00:00) while time zone support is active.\n",
      "  warnings.warn(\"DateTimeField %s received a naive datetime (%s)\"\n",
      "/home/luan/.cache/pypoetry/virtualenvs/apps-ZFymp6kh-py3.8/lib/python3.8/site-packages/django/db/models/fields/__init__.py:1424: RuntimeWarning: DateTimeField HistoricalOccurrenceRecord.datetime received a naive datetime (2019-06-05 00:00:00) while time zone support is active.\n",
      "  warnings.warn(\"DateTimeField %s received a naive datetime (%s)\"\n",
      "/home/luan/.cache/pypoetry/virtualenvs/apps-ZFymp6kh-py3.8/lib/python3.8/site-packages/django/db/models/fields/__init__.py:1424: RuntimeWarning: DateTimeField ServiceOrder.opened_at received a naive datetime (2024-03-22 08:21:17.767411) while time zone support is active.\n",
      "  warnings.warn(\"DateTimeField %s received a naive datetime (%s)\"\n",
      "/home/luan/.cache/pypoetry/virtualenvs/apps-ZFymp6kh-py3.8/lib/python3.8/site-packages/django/db/models/fields/__init__.py:1424: RuntimeWarning: DateTimeField HistoricalServiceOrder.opened_at received a naive datetime (2024-03-22 08:21:17.767411) while time zone support is active.\n",
      "  warnings.warn(\"DateTimeField %s received a naive datetime (%s)\"\n",
      "/home/luan/.cache/pypoetry/virtualenvs/apps-ZFymp6kh-py3.8/lib/python3.8/site-packages/django/db/models/fields/__init__.py:1424: RuntimeWarning: DateTimeField ToDo.created_at received a naive datetime (2024-03-21 20:21:17.869473) while time zone support is active.\n",
      "  warnings.warn(\"DateTimeField %s received a naive datetime (%s)\"\n"
     ]
    },
    {
     "name": "stdout",
     "output_type": "stream",
     "text": [
      "Procedure matching query does not exist.\n"
     ]
    },
    {
     "name": "stderr",
     "output_type": "stream",
     "text": [
      "WARNING\tProperty: Unknown Property name. [1:1: word-wrap]\n",
      "WARNING:CSSUTILS:Property: Unknown Property name. [1:1: word-wrap]\n"
     ]
    },
    {
     "name": "stdout",
     "output_type": "stream",
     "text": [
      "'NoneType' object has no attribute 'is_final'\n"
     ]
    },
    {
     "name": "stderr",
     "output_type": "stream",
     "text": [
      "/home/luan/.cache/pypoetry/virtualenvs/apps-ZFymp6kh-py3.8/lib/python3.8/site-packages/django/db/models/fields/__init__.py:1424: RuntimeWarning: DateTimeField ServiceOrder.opened_at received a naive datetime (2024-03-22 08:21:19.045996) while time zone support is active.\n",
      "  warnings.warn(\"DateTimeField %s received a naive datetime (%s)\"\n",
      "/home/luan/.cache/pypoetry/virtualenvs/apps-ZFymp6kh-py3.8/lib/python3.8/site-packages/django/db/models/fields/__init__.py:1424: RuntimeWarning: DateTimeField HistoricalServiceOrder.opened_at received a naive datetime (2024-03-22 08:21:19.045996) while time zone support is active.\n",
      "  warnings.warn(\"DateTimeField %s received a naive datetime (%s)\"\n",
      "/home/luan/.cache/pypoetry/virtualenvs/apps-ZFymp6kh-py3.8/lib/python3.8/site-packages/django/db/models/fields/__init__.py:1424: RuntimeWarning: DateTimeField ToDo.created_at received a naive datetime (2024-03-21 20:21:19.154060) while time zone support is active.\n",
      "  warnings.warn(\"DateTimeField %s received a naive datetime (%s)\"\n"
     ]
    },
    {
     "name": "stdout",
     "output_type": "stream",
     "text": [
      "Procedure matching query does not exist.\n"
     ]
    },
    {
     "name": "stderr",
     "output_type": "stream",
     "text": [
      "WARNING\tProperty: Unknown Property name. [1:1: word-wrap]\n",
      "WARNING:CSSUTILS:Property: Unknown Property name. [1:1: word-wrap]\n"
     ]
    },
    {
     "name": "stdout",
     "output_type": "stream",
     "text": [
      "'NoneType' object has no attribute 'is_final'\n"
     ]
    },
    {
     "name": "stderr",
     "output_type": "stream",
     "text": [
      "/home/luan/.cache/pypoetry/virtualenvs/apps-ZFymp6kh-py3.8/lib/python3.8/site-packages/django/db/models/fields/__init__.py:1424: RuntimeWarning: DateTimeField OccurrenceRecord.datetime received a naive datetime (2019-06-18 00:00:00) while time zone support is active.\n",
      "  warnings.warn(\"DateTimeField %s received a naive datetime (%s)\"\n",
      "/home/luan/.cache/pypoetry/virtualenvs/apps-ZFymp6kh-py3.8/lib/python3.8/site-packages/django/db/models/fields/__init__.py:1424: RuntimeWarning: DateTimeField HistoricalOccurrenceRecord.datetime received a naive datetime (2019-06-18 00:00:00) while time zone support is active.\n",
      "  warnings.warn(\"DateTimeField %s received a naive datetime (%s)\"\n",
      "/home/luan/.cache/pypoetry/virtualenvs/apps-ZFymp6kh-py3.8/lib/python3.8/site-packages/django/db/models/fields/__init__.py:1424: RuntimeWarning: DateTimeField ServiceOrder.opened_at received a naive datetime (2024-03-22 08:21:20.397694) while time zone support is active.\n",
      "  warnings.warn(\"DateTimeField %s received a naive datetime (%s)\"\n",
      "/home/luan/.cache/pypoetry/virtualenvs/apps-ZFymp6kh-py3.8/lib/python3.8/site-packages/django/db/models/fields/__init__.py:1424: RuntimeWarning: DateTimeField HistoricalServiceOrder.opened_at received a naive datetime (2024-03-22 08:21:20.397694) while time zone support is active.\n",
      "  warnings.warn(\"DateTimeField %s received a naive datetime (%s)\"\n",
      "/home/luan/.cache/pypoetry/virtualenvs/apps-ZFymp6kh-py3.8/lib/python3.8/site-packages/django/db/models/fields/__init__.py:1424: RuntimeWarning: DateTimeField ToDo.created_at received a naive datetime (2024-03-21 20:21:20.503377) while time zone support is active.\n",
      "  warnings.warn(\"DateTimeField %s received a naive datetime (%s)\"\n"
     ]
    },
    {
     "name": "stdout",
     "output_type": "stream",
     "text": [
      "Procedure matching query does not exist.\n"
     ]
    },
    {
     "name": "stderr",
     "output_type": "stream",
     "text": [
      "WARNING\tProperty: Unknown Property name. [1:1: word-wrap]\n",
      "WARNING:CSSUTILS:Property: Unknown Property name. [1:1: word-wrap]\n"
     ]
    },
    {
     "name": "stdout",
     "output_type": "stream",
     "text": [
      "'NoneType' object has no attribute 'is_final'\n"
     ]
    },
    {
     "name": "stderr",
     "output_type": "stream",
     "text": [
      "/home/luan/.cache/pypoetry/virtualenvs/apps-ZFymp6kh-py3.8/lib/python3.8/site-packages/django/db/models/fields/__init__.py:1424: RuntimeWarning: DateTimeField ServiceOrder.opened_at received a naive datetime (2024-03-22 08:21:21.892799) while time zone support is active.\n",
      "  warnings.warn(\"DateTimeField %s received a naive datetime (%s)\"\n",
      "/home/luan/.cache/pypoetry/virtualenvs/apps-ZFymp6kh-py3.8/lib/python3.8/site-packages/django/db/models/fields/__init__.py:1424: RuntimeWarning: DateTimeField HistoricalServiceOrder.opened_at received a naive datetime (2024-03-22 08:21:21.892799) while time zone support is active.\n",
      "  warnings.warn(\"DateTimeField %s received a naive datetime (%s)\"\n",
      "/home/luan/.cache/pypoetry/virtualenvs/apps-ZFymp6kh-py3.8/lib/python3.8/site-packages/django/db/models/fields/__init__.py:1424: RuntimeWarning: DateTimeField ToDo.created_at received a naive datetime (2024-03-21 20:21:22.008368) while time zone support is active.\n",
      "  warnings.warn(\"DateTimeField %s received a naive datetime (%s)\"\n"
     ]
    },
    {
     "name": "stdout",
     "output_type": "stream",
     "text": [
      "Procedure matching query does not exist.\n"
     ]
    },
    {
     "name": "stderr",
     "output_type": "stream",
     "text": [
      "WARNING\tProperty: Unknown Property name. [1:1: word-wrap]\n",
      "WARNING:CSSUTILS:Property: Unknown Property name. [1:1: word-wrap]\n"
     ]
    },
    {
     "name": "stdout",
     "output_type": "stream",
     "text": [
      "'NoneType' object has no attribute 'is_final'\n"
     ]
    },
    {
     "name": "stderr",
     "output_type": "stream",
     "text": [
      "/home/luan/.cache/pypoetry/virtualenvs/apps-ZFymp6kh-py3.8/lib/python3.8/site-packages/django/db/models/fields/__init__.py:1424: RuntimeWarning: DateTimeField OccurrenceRecord.datetime received a naive datetime (2019-07-08 00:00:00) while time zone support is active.\n",
      "  warnings.warn(\"DateTimeField %s received a naive datetime (%s)\"\n",
      "/home/luan/.cache/pypoetry/virtualenvs/apps-ZFymp6kh-py3.8/lib/python3.8/site-packages/django/db/models/fields/__init__.py:1424: RuntimeWarning: DateTimeField HistoricalOccurrenceRecord.datetime received a naive datetime (2019-07-08 00:00:00) while time zone support is active.\n",
      "  warnings.warn(\"DateTimeField %s received a naive datetime (%s)\"\n",
      "/home/luan/.cache/pypoetry/virtualenvs/apps-ZFymp6kh-py3.8/lib/python3.8/site-packages/django/db/models/fields/__init__.py:1424: RuntimeWarning: DateTimeField ServiceOrder.opened_at received a naive datetime (2024-03-22 08:21:23.236503) while time zone support is active.\n",
      "  warnings.warn(\"DateTimeField %s received a naive datetime (%s)\"\n",
      "/home/luan/.cache/pypoetry/virtualenvs/apps-ZFymp6kh-py3.8/lib/python3.8/site-packages/django/db/models/fields/__init__.py:1424: RuntimeWarning: DateTimeField HistoricalServiceOrder.opened_at received a naive datetime (2024-03-22 08:21:23.236503) while time zone support is active.\n",
      "  warnings.warn(\"DateTimeField %s received a naive datetime (%s)\"\n",
      "/home/luan/.cache/pypoetry/virtualenvs/apps-ZFymp6kh-py3.8/lib/python3.8/site-packages/django/db/models/fields/__init__.py:1424: RuntimeWarning: DateTimeField ToDo.created_at received a naive datetime (2024-03-21 20:21:23.354369) while time zone support is active.\n",
      "  warnings.warn(\"DateTimeField %s received a naive datetime (%s)\"\n"
     ]
    },
    {
     "name": "stdout",
     "output_type": "stream",
     "text": [
      "Procedure matching query does not exist.\n"
     ]
    },
    {
     "name": "stderr",
     "output_type": "stream",
     "text": [
      "WARNING\tProperty: Unknown Property name. [1:1: word-wrap]\n",
      "WARNING:CSSUTILS:Property: Unknown Property name. [1:1: word-wrap]\n"
     ]
    },
    {
     "name": "stdout",
     "output_type": "stream",
     "text": [
      "'NoneType' object has no attribute 'is_final'\n"
     ]
    },
    {
     "name": "stderr",
     "output_type": "stream",
     "text": [
      "/home/luan/.cache/pypoetry/virtualenvs/apps-ZFymp6kh-py3.8/lib/python3.8/site-packages/django/db/models/fields/__init__.py:1424: RuntimeWarning: DateTimeField OccurrenceRecord.datetime received a naive datetime (2019-07-11 00:00:00) while time zone support is active.\n",
      "  warnings.warn(\"DateTimeField %s received a naive datetime (%s)\"\n",
      "/home/luan/.cache/pypoetry/virtualenvs/apps-ZFymp6kh-py3.8/lib/python3.8/site-packages/django/db/models/fields/__init__.py:1424: RuntimeWarning: DateTimeField HistoricalOccurrenceRecord.datetime received a naive datetime (2019-07-11 00:00:00) while time zone support is active.\n",
      "  warnings.warn(\"DateTimeField %s received a naive datetime (%s)\"\n",
      "/home/luan/.cache/pypoetry/virtualenvs/apps-ZFymp6kh-py3.8/lib/python3.8/site-packages/django/db/models/fields/__init__.py:1424: RuntimeWarning: DateTimeField ServiceOrder.opened_at received a naive datetime (2024-03-22 08:21:24.616106) while time zone support is active.\n",
      "  warnings.warn(\"DateTimeField %s received a naive datetime (%s)\"\n",
      "/home/luan/.cache/pypoetry/virtualenvs/apps-ZFymp6kh-py3.8/lib/python3.8/site-packages/django/db/models/fields/__init__.py:1424: RuntimeWarning: DateTimeField HistoricalServiceOrder.opened_at received a naive datetime (2024-03-22 08:21:24.616106) while time zone support is active.\n",
      "  warnings.warn(\"DateTimeField %s received a naive datetime (%s)\"\n",
      "/home/luan/.cache/pypoetry/virtualenvs/apps-ZFymp6kh-py3.8/lib/python3.8/site-packages/django/db/models/fields/__init__.py:1424: RuntimeWarning: DateTimeField ToDo.created_at received a naive datetime (2024-03-21 20:21:24.719069) while time zone support is active.\n",
      "  warnings.warn(\"DateTimeField %s received a naive datetime (%s)\"\n"
     ]
    },
    {
     "name": "stdout",
     "output_type": "stream",
     "text": [
      "Procedure matching query does not exist.\n"
     ]
    },
    {
     "name": "stderr",
     "output_type": "stream",
     "text": [
      "WARNING\tProperty: Unknown Property name. [1:1: word-wrap]\n",
      "WARNING:CSSUTILS:Property: Unknown Property name. [1:1: word-wrap]\n"
     ]
    },
    {
     "name": "stdout",
     "output_type": "stream",
     "text": [
      "'NoneType' object has no attribute 'is_final'\n"
     ]
    },
    {
     "name": "stderr",
     "output_type": "stream",
     "text": [
      "/home/luan/.cache/pypoetry/virtualenvs/apps-ZFymp6kh-py3.8/lib/python3.8/site-packages/django/db/models/fields/__init__.py:1424: RuntimeWarning: DateTimeField OccurrenceRecord.datetime received a naive datetime (2019-07-10 00:00:00) while time zone support is active.\n",
      "  warnings.warn(\"DateTimeField %s received a naive datetime (%s)\"\n",
      "/home/luan/.cache/pypoetry/virtualenvs/apps-ZFymp6kh-py3.8/lib/python3.8/site-packages/django/db/models/fields/__init__.py:1424: RuntimeWarning: DateTimeField HistoricalOccurrenceRecord.datetime received a naive datetime (2019-07-10 00:00:00) while time zone support is active.\n",
      "  warnings.warn(\"DateTimeField %s received a naive datetime (%s)\"\n",
      "/home/luan/.cache/pypoetry/virtualenvs/apps-ZFymp6kh-py3.8/lib/python3.8/site-packages/django/db/models/fields/__init__.py:1424: RuntimeWarning: DateTimeField ServiceOrder.opened_at received a naive datetime (2024-03-22 08:21:26.006587) while time zone support is active.\n",
      "  warnings.warn(\"DateTimeField %s received a naive datetime (%s)\"\n",
      "/home/luan/.cache/pypoetry/virtualenvs/apps-ZFymp6kh-py3.8/lib/python3.8/site-packages/django/db/models/fields/__init__.py:1424: RuntimeWarning: DateTimeField HistoricalServiceOrder.opened_at received a naive datetime (2024-03-22 08:21:26.006587) while time zone support is active.\n",
      "  warnings.warn(\"DateTimeField %s received a naive datetime (%s)\"\n",
      "/home/luan/.cache/pypoetry/virtualenvs/apps-ZFymp6kh-py3.8/lib/python3.8/site-packages/django/db/models/fields/__init__.py:1424: RuntimeWarning: DateTimeField ToDo.created_at received a naive datetime (2024-03-21 20:21:26.113296) while time zone support is active.\n",
      "  warnings.warn(\"DateTimeField %s received a naive datetime (%s)\"\n"
     ]
    },
    {
     "name": "stdout",
     "output_type": "stream",
     "text": [
      "Procedure matching query does not exist.\n"
     ]
    },
    {
     "name": "stderr",
     "output_type": "stream",
     "text": [
      "WARNING\tProperty: Unknown Property name. [1:1: word-wrap]\n",
      "WARNING:CSSUTILS:Property: Unknown Property name. [1:1: word-wrap]\n"
     ]
    },
    {
     "name": "stdout",
     "output_type": "stream",
     "text": [
      "'NoneType' object has no attribute 'is_final'\n"
     ]
    },
    {
     "name": "stderr",
     "output_type": "stream",
     "text": [
      "/home/luan/.cache/pypoetry/virtualenvs/apps-ZFymp6kh-py3.8/lib/python3.8/site-packages/django/db/models/fields/__init__.py:1424: RuntimeWarning: DateTimeField ServiceOrder.opened_at received a naive datetime (2024-03-22 08:21:27.381549) while time zone support is active.\n",
      "  warnings.warn(\"DateTimeField %s received a naive datetime (%s)\"\n",
      "/home/luan/.cache/pypoetry/virtualenvs/apps-ZFymp6kh-py3.8/lib/python3.8/site-packages/django/db/models/fields/__init__.py:1424: RuntimeWarning: DateTimeField HistoricalServiceOrder.opened_at received a naive datetime (2024-03-22 08:21:27.381549) while time zone support is active.\n",
      "  warnings.warn(\"DateTimeField %s received a naive datetime (%s)\"\n",
      "/home/luan/.cache/pypoetry/virtualenvs/apps-ZFymp6kh-py3.8/lib/python3.8/site-packages/django/db/models/fields/__init__.py:1424: RuntimeWarning: DateTimeField ToDo.created_at received a naive datetime (2024-03-21 20:21:27.483848) while time zone support is active.\n",
      "  warnings.warn(\"DateTimeField %s received a naive datetime (%s)\"\n"
     ]
    },
    {
     "name": "stdout",
     "output_type": "stream",
     "text": [
      "Procedure matching query does not exist.\n"
     ]
    },
    {
     "name": "stderr",
     "output_type": "stream",
     "text": [
      "WARNING\tProperty: Unknown Property name. [1:1: word-wrap]\n",
      "WARNING:CSSUTILS:Property: Unknown Property name. [1:1: word-wrap]\n"
     ]
    },
    {
     "name": "stdout",
     "output_type": "stream",
     "text": [
      "'NoneType' object has no attribute 'is_final'\n"
     ]
    },
    {
     "name": "stderr",
     "output_type": "stream",
     "text": [
      "/home/luan/.cache/pypoetry/virtualenvs/apps-ZFymp6kh-py3.8/lib/python3.8/site-packages/django/db/models/fields/__init__.py:1424: RuntimeWarning: DateTimeField ServiceOrder.opened_at received a naive datetime (2024-03-22 08:21:29.327628) while time zone support is active.\n",
      "  warnings.warn(\"DateTimeField %s received a naive datetime (%s)\"\n",
      "/home/luan/.cache/pypoetry/virtualenvs/apps-ZFymp6kh-py3.8/lib/python3.8/site-packages/django/db/models/fields/__init__.py:1424: RuntimeWarning: DateTimeField HistoricalServiceOrder.opened_at received a naive datetime (2024-03-22 08:21:29.327628) while time zone support is active.\n",
      "  warnings.warn(\"DateTimeField %s received a naive datetime (%s)\"\n",
      "/home/luan/.cache/pypoetry/virtualenvs/apps-ZFymp6kh-py3.8/lib/python3.8/site-packages/django/db/models/fields/__init__.py:1424: RuntimeWarning: DateTimeField ToDo.created_at received a naive datetime (2024-03-21 20:21:29.428976) while time zone support is active.\n",
      "  warnings.warn(\"DateTimeField %s received a naive datetime (%s)\"\n"
     ]
    },
    {
     "name": "stdout",
     "output_type": "stream",
     "text": [
      "Procedure matching query does not exist.\n"
     ]
    },
    {
     "name": "stderr",
     "output_type": "stream",
     "text": [
      "WARNING\tProperty: Unknown Property name. [1:1: word-wrap]\n",
      "WARNING:CSSUTILS:Property: Unknown Property name. [1:1: word-wrap]\n"
     ]
    },
    {
     "name": "stdout",
     "output_type": "stream",
     "text": [
      "'NoneType' object has no attribute 'is_final'\n"
     ]
    },
    {
     "name": "stderr",
     "output_type": "stream",
     "text": [
      "/home/luan/.cache/pypoetry/virtualenvs/apps-ZFymp6kh-py3.8/lib/python3.8/site-packages/django/db/models/fields/__init__.py:1424: RuntimeWarning: DateTimeField OccurrenceRecord.datetime received a naive datetime (2019-08-06 00:00:00) while time zone support is active.\n",
      "  warnings.warn(\"DateTimeField %s received a naive datetime (%s)\"\n",
      "/home/luan/.cache/pypoetry/virtualenvs/apps-ZFymp6kh-py3.8/lib/python3.8/site-packages/django/db/models/fields/__init__.py:1424: RuntimeWarning: DateTimeField HistoricalOccurrenceRecord.datetime received a naive datetime (2019-08-06 00:00:00) while time zone support is active.\n",
      "  warnings.warn(\"DateTimeField %s received a naive datetime (%s)\"\n",
      "/home/luan/.cache/pypoetry/virtualenvs/apps-ZFymp6kh-py3.8/lib/python3.8/site-packages/django/db/models/fields/__init__.py:1424: RuntimeWarning: DateTimeField ServiceOrder.opened_at received a naive datetime (2024-03-22 08:21:30.690995) while time zone support is active.\n",
      "  warnings.warn(\"DateTimeField %s received a naive datetime (%s)\"\n",
      "/home/luan/.cache/pypoetry/virtualenvs/apps-ZFymp6kh-py3.8/lib/python3.8/site-packages/django/db/models/fields/__init__.py:1424: RuntimeWarning: DateTimeField HistoricalServiceOrder.opened_at received a naive datetime (2024-03-22 08:21:30.690995) while time zone support is active.\n",
      "  warnings.warn(\"DateTimeField %s received a naive datetime (%s)\"\n",
      "/home/luan/.cache/pypoetry/virtualenvs/apps-ZFymp6kh-py3.8/lib/python3.8/site-packages/django/db/models/fields/__init__.py:1424: RuntimeWarning: DateTimeField ToDo.created_at received a naive datetime (2024-03-21 20:21:30.794631) while time zone support is active.\n",
      "  warnings.warn(\"DateTimeField %s received a naive datetime (%s)\"\n"
     ]
    },
    {
     "name": "stdout",
     "output_type": "stream",
     "text": [
      "Procedure matching query does not exist.\n"
     ]
    },
    {
     "name": "stderr",
     "output_type": "stream",
     "text": [
      "WARNING\tProperty: Unknown Property name. [1:1: word-wrap]\n",
      "WARNING:CSSUTILS:Property: Unknown Property name. [1:1: word-wrap]\n"
     ]
    },
    {
     "name": "stdout",
     "output_type": "stream",
     "text": [
      "'NoneType' object has no attribute 'is_final'\n"
     ]
    },
    {
     "name": "stderr",
     "output_type": "stream",
     "text": [
      "/home/luan/.cache/pypoetry/virtualenvs/apps-ZFymp6kh-py3.8/lib/python3.8/site-packages/django/db/models/fields/__init__.py:1424: RuntimeWarning: DateTimeField ServiceOrder.opened_at received a naive datetime (2024-03-22 08:21:32.046301) while time zone support is active.\n",
      "  warnings.warn(\"DateTimeField %s received a naive datetime (%s)\"\n",
      "/home/luan/.cache/pypoetry/virtualenvs/apps-ZFymp6kh-py3.8/lib/python3.8/site-packages/django/db/models/fields/__init__.py:1424: RuntimeWarning: DateTimeField HistoricalServiceOrder.opened_at received a naive datetime (2024-03-22 08:21:32.046301) while time zone support is active.\n",
      "  warnings.warn(\"DateTimeField %s received a naive datetime (%s)\"\n",
      "/home/luan/.cache/pypoetry/virtualenvs/apps-ZFymp6kh-py3.8/lib/python3.8/site-packages/django/db/models/fields/__init__.py:1424: RuntimeWarning: DateTimeField ToDo.created_at received a naive datetime (2024-03-21 20:21:32.148933) while time zone support is active.\n",
      "  warnings.warn(\"DateTimeField %s received a naive datetime (%s)\"\n"
     ]
    },
    {
     "name": "stdout",
     "output_type": "stream",
     "text": [
      "Procedure matching query does not exist.\n"
     ]
    },
    {
     "name": "stderr",
     "output_type": "stream",
     "text": [
      "WARNING\tProperty: Unknown Property name. [1:1: word-wrap]\n",
      "WARNING:CSSUTILS:Property: Unknown Property name. [1:1: word-wrap]\n"
     ]
    },
    {
     "name": "stdout",
     "output_type": "stream",
     "text": [
      "'NoneType' object has no attribute 'is_final'\n"
     ]
    },
    {
     "name": "stderr",
     "output_type": "stream",
     "text": [
      "/home/luan/.cache/pypoetry/virtualenvs/apps-ZFymp6kh-py3.8/lib/python3.8/site-packages/django/db/models/fields/__init__.py:1424: RuntimeWarning: DateTimeField ServiceOrder.opened_at received a naive datetime (2024-03-22 08:21:33.337354) while time zone support is active.\n",
      "  warnings.warn(\"DateTimeField %s received a naive datetime (%s)\"\n",
      "/home/luan/.cache/pypoetry/virtualenvs/apps-ZFymp6kh-py3.8/lib/python3.8/site-packages/django/db/models/fields/__init__.py:1424: RuntimeWarning: DateTimeField HistoricalServiceOrder.opened_at received a naive datetime (2024-03-22 08:21:33.337354) while time zone support is active.\n",
      "  warnings.warn(\"DateTimeField %s received a naive datetime (%s)\"\n",
      "/home/luan/.cache/pypoetry/virtualenvs/apps-ZFymp6kh-py3.8/lib/python3.8/site-packages/django/db/models/fields/__init__.py:1424: RuntimeWarning: DateTimeField ToDo.created_at received a naive datetime (2024-03-21 20:21:33.443166) while time zone support is active.\n",
      "  warnings.warn(\"DateTimeField %s received a naive datetime (%s)\"\n"
     ]
    },
    {
     "name": "stdout",
     "output_type": "stream",
     "text": [
      "Procedure matching query does not exist.\n"
     ]
    },
    {
     "name": "stderr",
     "output_type": "stream",
     "text": [
      "WARNING\tProperty: Unknown Property name. [1:1: word-wrap]\n",
      "WARNING:CSSUTILS:Property: Unknown Property name. [1:1: word-wrap]\n"
     ]
    },
    {
     "name": "stdout",
     "output_type": "stream",
     "text": [
      "'NoneType' object has no attribute 'is_final'\n"
     ]
    },
    {
     "name": "stderr",
     "output_type": "stream",
     "text": [
      "/home/luan/.cache/pypoetry/virtualenvs/apps-ZFymp6kh-py3.8/lib/python3.8/site-packages/django/db/models/fields/__init__.py:1424: RuntimeWarning: DateTimeField OccurrenceRecord.datetime received a naive datetime (2019-08-08 00:00:00) while time zone support is active.\n",
      "  warnings.warn(\"DateTimeField %s received a naive datetime (%s)\"\n",
      "/home/luan/.cache/pypoetry/virtualenvs/apps-ZFymp6kh-py3.8/lib/python3.8/site-packages/django/db/models/fields/__init__.py:1424: RuntimeWarning: DateTimeField HistoricalOccurrenceRecord.datetime received a naive datetime (2019-08-08 00:00:00) while time zone support is active.\n",
      "  warnings.warn(\"DateTimeField %s received a naive datetime (%s)\"\n",
      "/home/luan/.cache/pypoetry/virtualenvs/apps-ZFymp6kh-py3.8/lib/python3.8/site-packages/django/db/models/fields/__init__.py:1424: RuntimeWarning: DateTimeField ServiceOrder.opened_at received a naive datetime (2024-03-22 08:21:34.709622) while time zone support is active.\n",
      "  warnings.warn(\"DateTimeField %s received a naive datetime (%s)\"\n",
      "/home/luan/.cache/pypoetry/virtualenvs/apps-ZFymp6kh-py3.8/lib/python3.8/site-packages/django/db/models/fields/__init__.py:1424: RuntimeWarning: DateTimeField HistoricalServiceOrder.opened_at received a naive datetime (2024-03-22 08:21:34.709622) while time zone support is active.\n",
      "  warnings.warn(\"DateTimeField %s received a naive datetime (%s)\"\n",
      "/home/luan/.cache/pypoetry/virtualenvs/apps-ZFymp6kh-py3.8/lib/python3.8/site-packages/django/db/models/fields/__init__.py:1424: RuntimeWarning: DateTimeField ToDo.created_at received a naive datetime (2024-03-21 20:21:34.817041) while time zone support is active.\n",
      "  warnings.warn(\"DateTimeField %s received a naive datetime (%s)\"\n"
     ]
    },
    {
     "name": "stdout",
     "output_type": "stream",
     "text": [
      "Procedure matching query does not exist.\n"
     ]
    },
    {
     "name": "stderr",
     "output_type": "stream",
     "text": [
      "WARNING\tProperty: Unknown Property name. [1:1: word-wrap]\n",
      "WARNING:CSSUTILS:Property: Unknown Property name. [1:1: word-wrap]\n"
     ]
    },
    {
     "name": "stdout",
     "output_type": "stream",
     "text": [
      "'NoneType' object has no attribute 'is_final'\n"
     ]
    },
    {
     "name": "stderr",
     "output_type": "stream",
     "text": [
      "/home/luan/.cache/pypoetry/virtualenvs/apps-ZFymp6kh-py3.8/lib/python3.8/site-packages/django/db/models/fields/__init__.py:1424: RuntimeWarning: DateTimeField OccurrenceRecord.datetime received a naive datetime (2019-08-16 00:00:00) while time zone support is active.\n",
      "  warnings.warn(\"DateTimeField %s received a naive datetime (%s)\"\n",
      "/home/luan/.cache/pypoetry/virtualenvs/apps-ZFymp6kh-py3.8/lib/python3.8/site-packages/django/db/models/fields/__init__.py:1424: RuntimeWarning: DateTimeField HistoricalOccurrenceRecord.datetime received a naive datetime (2019-08-16 00:00:00) while time zone support is active.\n",
      "  warnings.warn(\"DateTimeField %s received a naive datetime (%s)\"\n",
      "/home/luan/.cache/pypoetry/virtualenvs/apps-ZFymp6kh-py3.8/lib/python3.8/site-packages/django/db/models/fields/__init__.py:1424: RuntimeWarning: DateTimeField ServiceOrder.opened_at received a naive datetime (2024-03-22 08:21:36.080002) while time zone support is active.\n",
      "  warnings.warn(\"DateTimeField %s received a naive datetime (%s)\"\n",
      "/home/luan/.cache/pypoetry/virtualenvs/apps-ZFymp6kh-py3.8/lib/python3.8/site-packages/django/db/models/fields/__init__.py:1424: RuntimeWarning: DateTimeField HistoricalServiceOrder.opened_at received a naive datetime (2024-03-22 08:21:36.080002) while time zone support is active.\n",
      "  warnings.warn(\"DateTimeField %s received a naive datetime (%s)\"\n",
      "/home/luan/.cache/pypoetry/virtualenvs/apps-ZFymp6kh-py3.8/lib/python3.8/site-packages/django/db/models/fields/__init__.py:1424: RuntimeWarning: DateTimeField ToDo.created_at received a naive datetime (2024-03-21 20:21:36.187021) while time zone support is active.\n",
      "  warnings.warn(\"DateTimeField %s received a naive datetime (%s)\"\n"
     ]
    },
    {
     "name": "stdout",
     "output_type": "stream",
     "text": [
      "Procedure matching query does not exist.\n"
     ]
    },
    {
     "name": "stderr",
     "output_type": "stream",
     "text": [
      "WARNING\tProperty: Unknown Property name. [1:1: word-wrap]\n",
      "WARNING:CSSUTILS:Property: Unknown Property name. [1:1: word-wrap]\n"
     ]
    },
    {
     "name": "stdout",
     "output_type": "stream",
     "text": [
      "'NoneType' object has no attribute 'is_final'\n"
     ]
    },
    {
     "name": "stderr",
     "output_type": "stream",
     "text": [
      "/home/luan/.cache/pypoetry/virtualenvs/apps-ZFymp6kh-py3.8/lib/python3.8/site-packages/django/db/models/fields/__init__.py:1424: RuntimeWarning: DateTimeField OccurrenceRecord.datetime received a naive datetime (2019-08-29 00:00:00) while time zone support is active.\n",
      "  warnings.warn(\"DateTimeField %s received a naive datetime (%s)\"\n",
      "/home/luan/.cache/pypoetry/virtualenvs/apps-ZFymp6kh-py3.8/lib/python3.8/site-packages/django/db/models/fields/__init__.py:1424: RuntimeWarning: DateTimeField HistoricalOccurrenceRecord.datetime received a naive datetime (2019-08-29 00:00:00) while time zone support is active.\n",
      "  warnings.warn(\"DateTimeField %s received a naive datetime (%s)\"\n",
      "/home/luan/.cache/pypoetry/virtualenvs/apps-ZFymp6kh-py3.8/lib/python3.8/site-packages/django/db/models/fields/__init__.py:1424: RuntimeWarning: DateTimeField ServiceOrder.opened_at received a naive datetime (2024-03-22 08:21:37.543462) while time zone support is active.\n",
      "  warnings.warn(\"DateTimeField %s received a naive datetime (%s)\"\n",
      "/home/luan/.cache/pypoetry/virtualenvs/apps-ZFymp6kh-py3.8/lib/python3.8/site-packages/django/db/models/fields/__init__.py:1424: RuntimeWarning: DateTimeField HistoricalServiceOrder.opened_at received a naive datetime (2024-03-22 08:21:37.543462) while time zone support is active.\n",
      "  warnings.warn(\"DateTimeField %s received a naive datetime (%s)\"\n",
      "/home/luan/.cache/pypoetry/virtualenvs/apps-ZFymp6kh-py3.8/lib/python3.8/site-packages/django/db/models/fields/__init__.py:1424: RuntimeWarning: DateTimeField ToDo.created_at received a naive datetime (2024-03-21 20:21:37.643564) while time zone support is active.\n",
      "  warnings.warn(\"DateTimeField %s received a naive datetime (%s)\"\n"
     ]
    },
    {
     "name": "stdout",
     "output_type": "stream",
     "text": [
      "Procedure matching query does not exist.\n"
     ]
    },
    {
     "name": "stderr",
     "output_type": "stream",
     "text": [
      "WARNING\tProperty: Unknown Property name. [1:1: word-wrap]\n",
      "WARNING:CSSUTILS:Property: Unknown Property name. [1:1: word-wrap]\n"
     ]
    },
    {
     "name": "stdout",
     "output_type": "stream",
     "text": [
      "'NoneType' object has no attribute 'is_final'\n"
     ]
    },
    {
     "name": "stderr",
     "output_type": "stream",
     "text": [
      "/home/luan/.cache/pypoetry/virtualenvs/apps-ZFymp6kh-py3.8/lib/python3.8/site-packages/django/db/models/fields/__init__.py:1424: RuntimeWarning: DateTimeField OccurrenceRecord.datetime received a naive datetime (2019-08-30 00:00:00) while time zone support is active.\n",
      "  warnings.warn(\"DateTimeField %s received a naive datetime (%s)\"\n",
      "/home/luan/.cache/pypoetry/virtualenvs/apps-ZFymp6kh-py3.8/lib/python3.8/site-packages/django/db/models/fields/__init__.py:1424: RuntimeWarning: DateTimeField HistoricalOccurrenceRecord.datetime received a naive datetime (2019-08-30 00:00:00) while time zone support is active.\n",
      "  warnings.warn(\"DateTimeField %s received a naive datetime (%s)\"\n",
      "/home/luan/.cache/pypoetry/virtualenvs/apps-ZFymp6kh-py3.8/lib/python3.8/site-packages/django/db/models/fields/__init__.py:1424: RuntimeWarning: DateTimeField ServiceOrder.opened_at received a naive datetime (2024-03-22 08:21:39.139388) while time zone support is active.\n",
      "  warnings.warn(\"DateTimeField %s received a naive datetime (%s)\"\n",
      "/home/luan/.cache/pypoetry/virtualenvs/apps-ZFymp6kh-py3.8/lib/python3.8/site-packages/django/db/models/fields/__init__.py:1424: RuntimeWarning: DateTimeField HistoricalServiceOrder.opened_at received a naive datetime (2024-03-22 08:21:39.139388) while time zone support is active.\n",
      "  warnings.warn(\"DateTimeField %s received a naive datetime (%s)\"\n",
      "/home/luan/.cache/pypoetry/virtualenvs/apps-ZFymp6kh-py3.8/lib/python3.8/site-packages/django/db/models/fields/__init__.py:1424: RuntimeWarning: DateTimeField ToDo.created_at received a naive datetime (2024-03-21 20:21:39.261495) while time zone support is active.\n",
      "  warnings.warn(\"DateTimeField %s received a naive datetime (%s)\"\n"
     ]
    },
    {
     "name": "stdout",
     "output_type": "stream",
     "text": [
      "Procedure matching query does not exist.\n"
     ]
    },
    {
     "name": "stderr",
     "output_type": "stream",
     "text": [
      "WARNING\tProperty: Unknown Property name. [1:1: word-wrap]\n",
      "WARNING:CSSUTILS:Property: Unknown Property name. [1:1: word-wrap]\n"
     ]
    },
    {
     "name": "stdout",
     "output_type": "stream",
     "text": [
      "'NoneType' object has no attribute 'is_final'\n"
     ]
    },
    {
     "name": "stderr",
     "output_type": "stream",
     "text": [
      "/home/luan/.cache/pypoetry/virtualenvs/apps-ZFymp6kh-py3.8/lib/python3.8/site-packages/django/db/models/fields/__init__.py:1424: RuntimeWarning: DateTimeField ServiceOrder.opened_at received a naive datetime (2024-03-22 08:21:40.487892) while time zone support is active.\n",
      "  warnings.warn(\"DateTimeField %s received a naive datetime (%s)\"\n",
      "/home/luan/.cache/pypoetry/virtualenvs/apps-ZFymp6kh-py3.8/lib/python3.8/site-packages/django/db/models/fields/__init__.py:1424: RuntimeWarning: DateTimeField HistoricalServiceOrder.opened_at received a naive datetime (2024-03-22 08:21:40.487892) while time zone support is active.\n",
      "  warnings.warn(\"DateTimeField %s received a naive datetime (%s)\"\n",
      "/home/luan/.cache/pypoetry/virtualenvs/apps-ZFymp6kh-py3.8/lib/python3.8/site-packages/django/db/models/fields/__init__.py:1424: RuntimeWarning: DateTimeField ToDo.created_at received a naive datetime (2024-03-21 20:21:40.595147) while time zone support is active.\n",
      "  warnings.warn(\"DateTimeField %s received a naive datetime (%s)\"\n"
     ]
    },
    {
     "name": "stdout",
     "output_type": "stream",
     "text": [
      "Procedure matching query does not exist.\n"
     ]
    },
    {
     "name": "stderr",
     "output_type": "stream",
     "text": [
      "WARNING\tProperty: Unknown Property name. [1:1: word-wrap]\n",
      "WARNING:CSSUTILS:Property: Unknown Property name. [1:1: word-wrap]\n"
     ]
    },
    {
     "name": "stdout",
     "output_type": "stream",
     "text": [
      "'NoneType' object has no attribute 'is_final'\n"
     ]
    },
    {
     "name": "stderr",
     "output_type": "stream",
     "text": [
      "/home/luan/.cache/pypoetry/virtualenvs/apps-ZFymp6kh-py3.8/lib/python3.8/site-packages/django/db/models/fields/__init__.py:1424: RuntimeWarning: DateTimeField OccurrenceRecord.datetime received a naive datetime (2019-09-03 00:00:00) while time zone support is active.\n",
      "  warnings.warn(\"DateTimeField %s received a naive datetime (%s)\"\n",
      "/home/luan/.cache/pypoetry/virtualenvs/apps-ZFymp6kh-py3.8/lib/python3.8/site-packages/django/db/models/fields/__init__.py:1424: RuntimeWarning: DateTimeField HistoricalOccurrenceRecord.datetime received a naive datetime (2019-09-03 00:00:00) while time zone support is active.\n",
      "  warnings.warn(\"DateTimeField %s received a naive datetime (%s)\"\n",
      "/home/luan/.cache/pypoetry/virtualenvs/apps-ZFymp6kh-py3.8/lib/python3.8/site-packages/django/db/models/fields/__init__.py:1424: RuntimeWarning: DateTimeField ServiceOrder.opened_at received a naive datetime (2024-03-22 08:21:42.070558) while time zone support is active.\n",
      "  warnings.warn(\"DateTimeField %s received a naive datetime (%s)\"\n",
      "/home/luan/.cache/pypoetry/virtualenvs/apps-ZFymp6kh-py3.8/lib/python3.8/site-packages/django/db/models/fields/__init__.py:1424: RuntimeWarning: DateTimeField HistoricalServiceOrder.opened_at received a naive datetime (2024-03-22 08:21:42.070558) while time zone support is active.\n",
      "  warnings.warn(\"DateTimeField %s received a naive datetime (%s)\"\n",
      "/home/luan/.cache/pypoetry/virtualenvs/apps-ZFymp6kh-py3.8/lib/python3.8/site-packages/django/db/models/fields/__init__.py:1424: RuntimeWarning: DateTimeField ToDo.created_at received a naive datetime (2024-03-21 20:21:42.255218) while time zone support is active.\n",
      "  warnings.warn(\"DateTimeField %s received a naive datetime (%s)\"\n"
     ]
    },
    {
     "name": "stdout",
     "output_type": "stream",
     "text": [
      "Procedure matching query does not exist.\n"
     ]
    },
    {
     "name": "stderr",
     "output_type": "stream",
     "text": [
      "WARNING\tProperty: Unknown Property name. [1:1: word-wrap]\n",
      "WARNING:CSSUTILS:Property: Unknown Property name. [1:1: word-wrap]\n"
     ]
    },
    {
     "name": "stdout",
     "output_type": "stream",
     "text": [
      "'NoneType' object has no attribute 'is_final'\n"
     ]
    },
    {
     "name": "stderr",
     "output_type": "stream",
     "text": [
      "/home/luan/.cache/pypoetry/virtualenvs/apps-ZFymp6kh-py3.8/lib/python3.8/site-packages/django/db/models/fields/__init__.py:1424: RuntimeWarning: DateTimeField ServiceOrder.opened_at received a naive datetime (2024-03-22 08:21:45.255052) while time zone support is active.\n",
      "  warnings.warn(\"DateTimeField %s received a naive datetime (%s)\"\n",
      "/home/luan/.cache/pypoetry/virtualenvs/apps-ZFymp6kh-py3.8/lib/python3.8/site-packages/django/db/models/fields/__init__.py:1424: RuntimeWarning: DateTimeField HistoricalServiceOrder.opened_at received a naive datetime (2024-03-22 08:21:45.255052) while time zone support is active.\n",
      "  warnings.warn(\"DateTimeField %s received a naive datetime (%s)\"\n",
      "/home/luan/.cache/pypoetry/virtualenvs/apps-ZFymp6kh-py3.8/lib/python3.8/site-packages/django/db/models/fields/__init__.py:1424: RuntimeWarning: DateTimeField ToDo.created_at received a naive datetime (2024-03-21 20:21:45.372224) while time zone support is active.\n",
      "  warnings.warn(\"DateTimeField %s received a naive datetime (%s)\"\n"
     ]
    },
    {
     "name": "stdout",
     "output_type": "stream",
     "text": [
      "Procedure matching query does not exist.\n"
     ]
    },
    {
     "name": "stderr",
     "output_type": "stream",
     "text": [
      "WARNING\tProperty: Unknown Property name. [1:1: word-wrap]\n",
      "WARNING:CSSUTILS:Property: Unknown Property name. [1:1: word-wrap]\n"
     ]
    },
    {
     "name": "stdout",
     "output_type": "stream",
     "text": [
      "'NoneType' object has no attribute 'is_final'\n"
     ]
    },
    {
     "name": "stderr",
     "output_type": "stream",
     "text": [
      "/home/luan/.cache/pypoetry/virtualenvs/apps-ZFymp6kh-py3.8/lib/python3.8/site-packages/django/db/models/fields/__init__.py:1424: RuntimeWarning: DateTimeField ServiceOrder.opened_at received a naive datetime (2024-03-22 08:21:46.656545) while time zone support is active.\n",
      "  warnings.warn(\"DateTimeField %s received a naive datetime (%s)\"\n",
      "/home/luan/.cache/pypoetry/virtualenvs/apps-ZFymp6kh-py3.8/lib/python3.8/site-packages/django/db/models/fields/__init__.py:1424: RuntimeWarning: DateTimeField HistoricalServiceOrder.opened_at received a naive datetime (2024-03-22 08:21:46.656545) while time zone support is active.\n",
      "  warnings.warn(\"DateTimeField %s received a naive datetime (%s)\"\n",
      "/home/luan/.cache/pypoetry/virtualenvs/apps-ZFymp6kh-py3.8/lib/python3.8/site-packages/django/db/models/fields/__init__.py:1424: RuntimeWarning: DateTimeField ToDo.created_at received a naive datetime (2024-03-21 20:21:46.777792) while time zone support is active.\n",
      "  warnings.warn(\"DateTimeField %s received a naive datetime (%s)\"\n"
     ]
    },
    {
     "name": "stdout",
     "output_type": "stream",
     "text": [
      "Procedure matching query does not exist.\n"
     ]
    },
    {
     "name": "stderr",
     "output_type": "stream",
     "text": [
      "WARNING\tProperty: Unknown Property name. [1:1: word-wrap]\n",
      "WARNING:CSSUTILS:Property: Unknown Property name. [1:1: word-wrap]\n"
     ]
    },
    {
     "name": "stdout",
     "output_type": "stream",
     "text": [
      "'NoneType' object has no attribute 'is_final'\n"
     ]
    },
    {
     "name": "stderr",
     "output_type": "stream",
     "text": [
      "/home/luan/.cache/pypoetry/virtualenvs/apps-ZFymp6kh-py3.8/lib/python3.8/site-packages/django/db/models/fields/__init__.py:1424: RuntimeWarning: DateTimeField OccurrenceRecord.datetime received a naive datetime (2019-10-07 00:00:00) while time zone support is active.\n",
      "  warnings.warn(\"DateTimeField %s received a naive datetime (%s)\"\n",
      "/home/luan/.cache/pypoetry/virtualenvs/apps-ZFymp6kh-py3.8/lib/python3.8/site-packages/django/db/models/fields/__init__.py:1424: RuntimeWarning: DateTimeField HistoricalOccurrenceRecord.datetime received a naive datetime (2019-10-07 00:00:00) while time zone support is active.\n",
      "  warnings.warn(\"DateTimeField %s received a naive datetime (%s)\"\n",
      "/home/luan/.cache/pypoetry/virtualenvs/apps-ZFymp6kh-py3.8/lib/python3.8/site-packages/django/db/models/fields/__init__.py:1424: RuntimeWarning: DateTimeField ServiceOrder.opened_at received a naive datetime (2024-03-22 08:21:48.103031) while time zone support is active.\n",
      "  warnings.warn(\"DateTimeField %s received a naive datetime (%s)\"\n",
      "/home/luan/.cache/pypoetry/virtualenvs/apps-ZFymp6kh-py3.8/lib/python3.8/site-packages/django/db/models/fields/__init__.py:1424: RuntimeWarning: DateTimeField HistoricalServiceOrder.opened_at received a naive datetime (2024-03-22 08:21:48.103031) while time zone support is active.\n",
      "  warnings.warn(\"DateTimeField %s received a naive datetime (%s)\"\n",
      "/home/luan/.cache/pypoetry/virtualenvs/apps-ZFymp6kh-py3.8/lib/python3.8/site-packages/django/db/models/fields/__init__.py:1424: RuntimeWarning: DateTimeField ToDo.created_at received a naive datetime (2024-03-21 20:21:48.205197) while time zone support is active.\n",
      "  warnings.warn(\"DateTimeField %s received a naive datetime (%s)\"\n"
     ]
    },
    {
     "name": "stdout",
     "output_type": "stream",
     "text": [
      "Procedure matching query does not exist.\n"
     ]
    },
    {
     "name": "stderr",
     "output_type": "stream",
     "text": [
      "WARNING\tProperty: Unknown Property name. [1:1: word-wrap]\n",
      "WARNING:CSSUTILS:Property: Unknown Property name. [1:1: word-wrap]\n"
     ]
    },
    {
     "name": "stdout",
     "output_type": "stream",
     "text": [
      "'NoneType' object has no attribute 'is_final'\n"
     ]
    },
    {
     "name": "stderr",
     "output_type": "stream",
     "text": [
      "/home/luan/.cache/pypoetry/virtualenvs/apps-ZFymp6kh-py3.8/lib/python3.8/site-packages/django/db/models/fields/__init__.py:1424: RuntimeWarning: DateTimeField OccurrenceRecord.datetime received a naive datetime (2019-10-09 00:00:00) while time zone support is active.\n",
      "  warnings.warn(\"DateTimeField %s received a naive datetime (%s)\"\n",
      "/home/luan/.cache/pypoetry/virtualenvs/apps-ZFymp6kh-py3.8/lib/python3.8/site-packages/django/db/models/fields/__init__.py:1424: RuntimeWarning: DateTimeField HistoricalOccurrenceRecord.datetime received a naive datetime (2019-10-09 00:00:00) while time zone support is active.\n",
      "  warnings.warn(\"DateTimeField %s received a naive datetime (%s)\"\n",
      "/home/luan/.cache/pypoetry/virtualenvs/apps-ZFymp6kh-py3.8/lib/python3.8/site-packages/django/db/models/fields/__init__.py:1424: RuntimeWarning: DateTimeField ServiceOrder.opened_at received a naive datetime (2024-03-22 08:21:49.465502) while time zone support is active.\n",
      "  warnings.warn(\"DateTimeField %s received a naive datetime (%s)\"\n",
      "/home/luan/.cache/pypoetry/virtualenvs/apps-ZFymp6kh-py3.8/lib/python3.8/site-packages/django/db/models/fields/__init__.py:1424: RuntimeWarning: DateTimeField HistoricalServiceOrder.opened_at received a naive datetime (2024-03-22 08:21:49.465502) while time zone support is active.\n",
      "  warnings.warn(\"DateTimeField %s received a naive datetime (%s)\"\n",
      "/home/luan/.cache/pypoetry/virtualenvs/apps-ZFymp6kh-py3.8/lib/python3.8/site-packages/django/db/models/fields/__init__.py:1424: RuntimeWarning: DateTimeField ToDo.created_at received a naive datetime (2024-03-21 20:21:49.577418) while time zone support is active.\n",
      "  warnings.warn(\"DateTimeField %s received a naive datetime (%s)\"\n"
     ]
    },
    {
     "name": "stdout",
     "output_type": "stream",
     "text": [
      "Procedure matching query does not exist.\n"
     ]
    },
    {
     "name": "stderr",
     "output_type": "stream",
     "text": [
      "WARNING\tProperty: Unknown Property name. [1:1: word-wrap]\n",
      "WARNING:CSSUTILS:Property: Unknown Property name. [1:1: word-wrap]\n"
     ]
    },
    {
     "name": "stdout",
     "output_type": "stream",
     "text": [
      "'NoneType' object has no attribute 'is_final'\n"
     ]
    },
    {
     "name": "stderr",
     "output_type": "stream",
     "text": [
      "/home/luan/.cache/pypoetry/virtualenvs/apps-ZFymp6kh-py3.8/lib/python3.8/site-packages/django/db/models/fields/__init__.py:1424: RuntimeWarning: DateTimeField ServiceOrder.opened_at received a naive datetime (2024-03-22 08:21:51.093280) while time zone support is active.\n",
      "  warnings.warn(\"DateTimeField %s received a naive datetime (%s)\"\n",
      "/home/luan/.cache/pypoetry/virtualenvs/apps-ZFymp6kh-py3.8/lib/python3.8/site-packages/django/db/models/fields/__init__.py:1424: RuntimeWarning: DateTimeField HistoricalServiceOrder.opened_at received a naive datetime (2024-03-22 08:21:51.093280) while time zone support is active.\n",
      "  warnings.warn(\"DateTimeField %s received a naive datetime (%s)\"\n",
      "/home/luan/.cache/pypoetry/virtualenvs/apps-ZFymp6kh-py3.8/lib/python3.8/site-packages/django/db/models/fields/__init__.py:1424: RuntimeWarning: DateTimeField ToDo.created_at received a naive datetime (2024-03-21 20:21:51.200256) while time zone support is active.\n",
      "  warnings.warn(\"DateTimeField %s received a naive datetime (%s)\"\n"
     ]
    },
    {
     "name": "stdout",
     "output_type": "stream",
     "text": [
      "Procedure matching query does not exist.\n"
     ]
    },
    {
     "name": "stderr",
     "output_type": "stream",
     "text": [
      "WARNING\tProperty: Unknown Property name. [1:1: word-wrap]\n",
      "WARNING:CSSUTILS:Property: Unknown Property name. [1:1: word-wrap]\n"
     ]
    },
    {
     "name": "stdout",
     "output_type": "stream",
     "text": [
      "'NoneType' object has no attribute 'is_final'\n"
     ]
    },
    {
     "name": "stderr",
     "output_type": "stream",
     "text": [
      "/home/luan/.cache/pypoetry/virtualenvs/apps-ZFymp6kh-py3.8/lib/python3.8/site-packages/django/db/models/fields/__init__.py:1424: RuntimeWarning: DateTimeField ServiceOrder.opened_at received a naive datetime (2024-03-22 08:21:52.449314) while time zone support is active.\n",
      "  warnings.warn(\"DateTimeField %s received a naive datetime (%s)\"\n",
      "/home/luan/.cache/pypoetry/virtualenvs/apps-ZFymp6kh-py3.8/lib/python3.8/site-packages/django/db/models/fields/__init__.py:1424: RuntimeWarning: DateTimeField HistoricalServiceOrder.opened_at received a naive datetime (2024-03-22 08:21:52.449314) while time zone support is active.\n",
      "  warnings.warn(\"DateTimeField %s received a naive datetime (%s)\"\n",
      "/home/luan/.cache/pypoetry/virtualenvs/apps-ZFymp6kh-py3.8/lib/python3.8/site-packages/django/db/models/fields/__init__.py:1424: RuntimeWarning: DateTimeField ToDo.created_at received a naive datetime (2024-03-21 20:21:52.560174) while time zone support is active.\n",
      "  warnings.warn(\"DateTimeField %s received a naive datetime (%s)\"\n"
     ]
    },
    {
     "name": "stdout",
     "output_type": "stream",
     "text": [
      "Procedure matching query does not exist.\n"
     ]
    },
    {
     "name": "stderr",
     "output_type": "stream",
     "text": [
      "WARNING\tProperty: Unknown Property name. [1:1: word-wrap]\n",
      "WARNING:CSSUTILS:Property: Unknown Property name. [1:1: word-wrap]\n"
     ]
    },
    {
     "name": "stdout",
     "output_type": "stream",
     "text": [
      "'NoneType' object has no attribute 'is_final'\n"
     ]
    },
    {
     "name": "stderr",
     "output_type": "stream",
     "text": [
      "/home/luan/.cache/pypoetry/virtualenvs/apps-ZFymp6kh-py3.8/lib/python3.8/site-packages/django/db/models/fields/__init__.py:1424: RuntimeWarning: DateTimeField ServiceOrder.opened_at received a naive datetime (2024-03-22 08:21:53.792721) while time zone support is active.\n",
      "  warnings.warn(\"DateTimeField %s received a naive datetime (%s)\"\n",
      "/home/luan/.cache/pypoetry/virtualenvs/apps-ZFymp6kh-py3.8/lib/python3.8/site-packages/django/db/models/fields/__init__.py:1424: RuntimeWarning: DateTimeField HistoricalServiceOrder.opened_at received a naive datetime (2024-03-22 08:21:53.792721) while time zone support is active.\n",
      "  warnings.warn(\"DateTimeField %s received a naive datetime (%s)\"\n",
      "/home/luan/.cache/pypoetry/virtualenvs/apps-ZFymp6kh-py3.8/lib/python3.8/site-packages/django/db/models/fields/__init__.py:1424: RuntimeWarning: DateTimeField ToDo.created_at received a naive datetime (2024-03-21 20:21:53.898610) while time zone support is active.\n",
      "  warnings.warn(\"DateTimeField %s received a naive datetime (%s)\"\n"
     ]
    },
    {
     "name": "stdout",
     "output_type": "stream",
     "text": [
      "Procedure matching query does not exist.\n"
     ]
    },
    {
     "name": "stderr",
     "output_type": "stream",
     "text": [
      "WARNING\tProperty: Unknown Property name. [1:1: word-wrap]\n",
      "WARNING:CSSUTILS:Property: Unknown Property name. [1:1: word-wrap]\n"
     ]
    },
    {
     "name": "stdout",
     "output_type": "stream",
     "text": [
      "'NoneType' object has no attribute 'is_final'\n"
     ]
    },
    {
     "name": "stderr",
     "output_type": "stream",
     "text": [
      "/home/luan/.cache/pypoetry/virtualenvs/apps-ZFymp6kh-py3.8/lib/python3.8/site-packages/django/db/models/fields/__init__.py:1424: RuntimeWarning: DateTimeField OccurrenceRecord.datetime received a naive datetime (2019-10-30 00:00:00) while time zone support is active.\n",
      "  warnings.warn(\"DateTimeField %s received a naive datetime (%s)\"\n",
      "/home/luan/.cache/pypoetry/virtualenvs/apps-ZFymp6kh-py3.8/lib/python3.8/site-packages/django/db/models/fields/__init__.py:1424: RuntimeWarning: DateTimeField HistoricalOccurrenceRecord.datetime received a naive datetime (2019-10-30 00:00:00) while time zone support is active.\n",
      "  warnings.warn(\"DateTimeField %s received a naive datetime (%s)\"\n",
      "/home/luan/.cache/pypoetry/virtualenvs/apps-ZFymp6kh-py3.8/lib/python3.8/site-packages/django/db/models/fields/__init__.py:1424: RuntimeWarning: DateTimeField ServiceOrder.opened_at received a naive datetime (2024-03-22 08:21:55.149113) while time zone support is active.\n",
      "  warnings.warn(\"DateTimeField %s received a naive datetime (%s)\"\n",
      "/home/luan/.cache/pypoetry/virtualenvs/apps-ZFymp6kh-py3.8/lib/python3.8/site-packages/django/db/models/fields/__init__.py:1424: RuntimeWarning: DateTimeField HistoricalServiceOrder.opened_at received a naive datetime (2024-03-22 08:21:55.149113) while time zone support is active.\n",
      "  warnings.warn(\"DateTimeField %s received a naive datetime (%s)\"\n",
      "/home/luan/.cache/pypoetry/virtualenvs/apps-ZFymp6kh-py3.8/lib/python3.8/site-packages/django/db/models/fields/__init__.py:1424: RuntimeWarning: DateTimeField ToDo.created_at received a naive datetime (2024-03-21 20:21:55.258699) while time zone support is active.\n",
      "  warnings.warn(\"DateTimeField %s received a naive datetime (%s)\"\n"
     ]
    },
    {
     "name": "stdout",
     "output_type": "stream",
     "text": [
      "Procedure matching query does not exist.\n"
     ]
    },
    {
     "name": "stderr",
     "output_type": "stream",
     "text": [
      "WARNING\tProperty: Unknown Property name. [1:1: word-wrap]\n",
      "WARNING:CSSUTILS:Property: Unknown Property name. [1:1: word-wrap]\n"
     ]
    },
    {
     "name": "stdout",
     "output_type": "stream",
     "text": [
      "'NoneType' object has no attribute 'is_final'\n"
     ]
    },
    {
     "name": "stderr",
     "output_type": "stream",
     "text": [
      "/home/luan/.cache/pypoetry/virtualenvs/apps-ZFymp6kh-py3.8/lib/python3.8/site-packages/django/db/models/fields/__init__.py:1424: RuntimeWarning: DateTimeField OccurrenceRecord.datetime received a naive datetime (2019-11-12 00:00:00) while time zone support is active.\n",
      "  warnings.warn(\"DateTimeField %s received a naive datetime (%s)\"\n",
      "/home/luan/.cache/pypoetry/virtualenvs/apps-ZFymp6kh-py3.8/lib/python3.8/site-packages/django/db/models/fields/__init__.py:1424: RuntimeWarning: DateTimeField HistoricalOccurrenceRecord.datetime received a naive datetime (2019-11-12 00:00:00) while time zone support is active.\n",
      "  warnings.warn(\"DateTimeField %s received a naive datetime (%s)\"\n",
      "/home/luan/.cache/pypoetry/virtualenvs/apps-ZFymp6kh-py3.8/lib/python3.8/site-packages/django/db/models/fields/__init__.py:1424: RuntimeWarning: DateTimeField ServiceOrder.opened_at received a naive datetime (2024-03-22 08:21:56.609479) while time zone support is active.\n",
      "  warnings.warn(\"DateTimeField %s received a naive datetime (%s)\"\n",
      "/home/luan/.cache/pypoetry/virtualenvs/apps-ZFymp6kh-py3.8/lib/python3.8/site-packages/django/db/models/fields/__init__.py:1424: RuntimeWarning: DateTimeField HistoricalServiceOrder.opened_at received a naive datetime (2024-03-22 08:21:56.609479) while time zone support is active.\n",
      "  warnings.warn(\"DateTimeField %s received a naive datetime (%s)\"\n",
      "/home/luan/.cache/pypoetry/virtualenvs/apps-ZFymp6kh-py3.8/lib/python3.8/site-packages/django/db/models/fields/__init__.py:1424: RuntimeWarning: DateTimeField ToDo.created_at received a naive datetime (2024-03-21 20:21:56.714625) while time zone support is active.\n",
      "  warnings.warn(\"DateTimeField %s received a naive datetime (%s)\"\n"
     ]
    },
    {
     "name": "stdout",
     "output_type": "stream",
     "text": [
      "Procedure matching query does not exist.\n"
     ]
    },
    {
     "name": "stderr",
     "output_type": "stream",
     "text": [
      "WARNING\tProperty: Unknown Property name. [1:1: word-wrap]\n",
      "WARNING:CSSUTILS:Property: Unknown Property name. [1:1: word-wrap]\n"
     ]
    },
    {
     "name": "stdout",
     "output_type": "stream",
     "text": [
      "'NoneType' object has no attribute 'is_final'\n"
     ]
    },
    {
     "name": "stderr",
     "output_type": "stream",
     "text": [
      "/home/luan/.cache/pypoetry/virtualenvs/apps-ZFymp6kh-py3.8/lib/python3.8/site-packages/django/db/models/fields/__init__.py:1424: RuntimeWarning: DateTimeField OccurrenceRecord.datetime received a naive datetime (2019-11-15 00:00:00) while time zone support is active.\n",
      "  warnings.warn(\"DateTimeField %s received a naive datetime (%s)\"\n",
      "/home/luan/.cache/pypoetry/virtualenvs/apps-ZFymp6kh-py3.8/lib/python3.8/site-packages/django/db/models/fields/__init__.py:1424: RuntimeWarning: DateTimeField HistoricalOccurrenceRecord.datetime received a naive datetime (2019-11-15 00:00:00) while time zone support is active.\n",
      "  warnings.warn(\"DateTimeField %s received a naive datetime (%s)\"\n",
      "/home/luan/.cache/pypoetry/virtualenvs/apps-ZFymp6kh-py3.8/lib/python3.8/site-packages/django/db/models/fields/__init__.py:1424: RuntimeWarning: DateTimeField ServiceOrder.opened_at received a naive datetime (2024-03-22 08:21:57.946495) while time zone support is active.\n",
      "  warnings.warn(\"DateTimeField %s received a naive datetime (%s)\"\n",
      "/home/luan/.cache/pypoetry/virtualenvs/apps-ZFymp6kh-py3.8/lib/python3.8/site-packages/django/db/models/fields/__init__.py:1424: RuntimeWarning: DateTimeField HistoricalServiceOrder.opened_at received a naive datetime (2024-03-22 08:21:57.946495) while time zone support is active.\n",
      "  warnings.warn(\"DateTimeField %s received a naive datetime (%s)\"\n",
      "/home/luan/.cache/pypoetry/virtualenvs/apps-ZFymp6kh-py3.8/lib/python3.8/site-packages/django/db/models/fields/__init__.py:1424: RuntimeWarning: DateTimeField ToDo.created_at received a naive datetime (2024-03-21 20:21:58.059133) while time zone support is active.\n",
      "  warnings.warn(\"DateTimeField %s received a naive datetime (%s)\"\n"
     ]
    },
    {
     "name": "stdout",
     "output_type": "stream",
     "text": [
      "Procedure matching query does not exist.\n"
     ]
    },
    {
     "name": "stderr",
     "output_type": "stream",
     "text": [
      "WARNING\tProperty: Unknown Property name. [1:1: word-wrap]\n",
      "WARNING:CSSUTILS:Property: Unknown Property name. [1:1: word-wrap]\n"
     ]
    },
    {
     "name": "stdout",
     "output_type": "stream",
     "text": [
      "'NoneType' object has no attribute 'is_final'\n"
     ]
    },
    {
     "name": "stderr",
     "output_type": "stream",
     "text": [
      "/home/luan/.cache/pypoetry/virtualenvs/apps-ZFymp6kh-py3.8/lib/python3.8/site-packages/django/db/models/fields/__init__.py:1424: RuntimeWarning: DateTimeField OccurrenceRecord.datetime received a naive datetime (2019-12-10 00:00:00) while time zone support is active.\n",
      "  warnings.warn(\"DateTimeField %s received a naive datetime (%s)\"\n",
      "/home/luan/.cache/pypoetry/virtualenvs/apps-ZFymp6kh-py3.8/lib/python3.8/site-packages/django/db/models/fields/__init__.py:1424: RuntimeWarning: DateTimeField HistoricalOccurrenceRecord.datetime received a naive datetime (2019-12-10 00:00:00) while time zone support is active.\n",
      "  warnings.warn(\"DateTimeField %s received a naive datetime (%s)\"\n",
      "/home/luan/.cache/pypoetry/virtualenvs/apps-ZFymp6kh-py3.8/lib/python3.8/site-packages/django/db/models/fields/__init__.py:1424: RuntimeWarning: DateTimeField ServiceOrder.opened_at received a naive datetime (2024-03-22 08:21:59.473411) while time zone support is active.\n",
      "  warnings.warn(\"DateTimeField %s received a naive datetime (%s)\"\n",
      "/home/luan/.cache/pypoetry/virtualenvs/apps-ZFymp6kh-py3.8/lib/python3.8/site-packages/django/db/models/fields/__init__.py:1424: RuntimeWarning: DateTimeField HistoricalServiceOrder.opened_at received a naive datetime (2024-03-22 08:21:59.473411) while time zone support is active.\n",
      "  warnings.warn(\"DateTimeField %s received a naive datetime (%s)\"\n",
      "/home/luan/.cache/pypoetry/virtualenvs/apps-ZFymp6kh-py3.8/lib/python3.8/site-packages/django/db/models/fields/__init__.py:1424: RuntimeWarning: DateTimeField ToDo.created_at received a naive datetime (2024-03-21 20:21:59.578745) while time zone support is active.\n",
      "  warnings.warn(\"DateTimeField %s received a naive datetime (%s)\"\n"
     ]
    },
    {
     "name": "stdout",
     "output_type": "stream",
     "text": [
      "Procedure matching query does not exist.\n"
     ]
    },
    {
     "name": "stderr",
     "output_type": "stream",
     "text": [
      "WARNING\tProperty: Unknown Property name. [1:1: word-wrap]\n",
      "WARNING:CSSUTILS:Property: Unknown Property name. [1:1: word-wrap]\n"
     ]
    },
    {
     "name": "stdout",
     "output_type": "stream",
     "text": [
      "'NoneType' object has no attribute 'is_final'\n"
     ]
    },
    {
     "name": "stderr",
     "output_type": "stream",
     "text": [
      "/home/luan/.cache/pypoetry/virtualenvs/apps-ZFymp6kh-py3.8/lib/python3.8/site-packages/django/db/models/fields/__init__.py:1424: RuntimeWarning: DateTimeField ServiceOrder.opened_at received a naive datetime (2024-03-22 08:22:01.037932) while time zone support is active.\n",
      "  warnings.warn(\"DateTimeField %s received a naive datetime (%s)\"\n",
      "/home/luan/.cache/pypoetry/virtualenvs/apps-ZFymp6kh-py3.8/lib/python3.8/site-packages/django/db/models/fields/__init__.py:1424: RuntimeWarning: DateTimeField HistoricalServiceOrder.opened_at received a naive datetime (2024-03-22 08:22:01.037932) while time zone support is active.\n",
      "  warnings.warn(\"DateTimeField %s received a naive datetime (%s)\"\n",
      "/home/luan/.cache/pypoetry/virtualenvs/apps-ZFymp6kh-py3.8/lib/python3.8/site-packages/django/db/models/fields/__init__.py:1424: RuntimeWarning: DateTimeField ToDo.created_at received a naive datetime (2024-03-21 20:22:01.147796) while time zone support is active.\n",
      "  warnings.warn(\"DateTimeField %s received a naive datetime (%s)\"\n"
     ]
    },
    {
     "name": "stdout",
     "output_type": "stream",
     "text": [
      "Procedure matching query does not exist.\n"
     ]
    },
    {
     "name": "stderr",
     "output_type": "stream",
     "text": [
      "WARNING\tProperty: Unknown Property name. [1:1: word-wrap]\n",
      "WARNING:CSSUTILS:Property: Unknown Property name. [1:1: word-wrap]\n"
     ]
    },
    {
     "name": "stdout",
     "output_type": "stream",
     "text": [
      "'NoneType' object has no attribute 'is_final'\n"
     ]
    },
    {
     "name": "stderr",
     "output_type": "stream",
     "text": [
      "/home/luan/.cache/pypoetry/virtualenvs/apps-ZFymp6kh-py3.8/lib/python3.8/site-packages/django/db/models/fields/__init__.py:1424: RuntimeWarning: DateTimeField OccurrenceRecord.datetime received a naive datetime (2020-01-08 00:00:00) while time zone support is active.\n",
      "  warnings.warn(\"DateTimeField %s received a naive datetime (%s)\"\n",
      "/home/luan/.cache/pypoetry/virtualenvs/apps-ZFymp6kh-py3.8/lib/python3.8/site-packages/django/db/models/fields/__init__.py:1424: RuntimeWarning: DateTimeField HistoricalOccurrenceRecord.datetime received a naive datetime (2020-01-08 00:00:00) while time zone support is active.\n",
      "  warnings.warn(\"DateTimeField %s received a naive datetime (%s)\"\n",
      "/home/luan/.cache/pypoetry/virtualenvs/apps-ZFymp6kh-py3.8/lib/python3.8/site-packages/django/db/models/fields/__init__.py:1424: RuntimeWarning: DateTimeField ServiceOrder.opened_at received a naive datetime (2024-03-22 08:22:02.421205) while time zone support is active.\n",
      "  warnings.warn(\"DateTimeField %s received a naive datetime (%s)\"\n",
      "/home/luan/.cache/pypoetry/virtualenvs/apps-ZFymp6kh-py3.8/lib/python3.8/site-packages/django/db/models/fields/__init__.py:1424: RuntimeWarning: DateTimeField HistoricalServiceOrder.opened_at received a naive datetime (2024-03-22 08:22:02.421205) while time zone support is active.\n",
      "  warnings.warn(\"DateTimeField %s received a naive datetime (%s)\"\n",
      "/home/luan/.cache/pypoetry/virtualenvs/apps-ZFymp6kh-py3.8/lib/python3.8/site-packages/django/db/models/fields/__init__.py:1424: RuntimeWarning: DateTimeField ToDo.created_at received a naive datetime (2024-03-21 20:22:02.532841) while time zone support is active.\n",
      "  warnings.warn(\"DateTimeField %s received a naive datetime (%s)\"\n"
     ]
    },
    {
     "name": "stdout",
     "output_type": "stream",
     "text": [
      "Procedure matching query does not exist.\n"
     ]
    },
    {
     "name": "stderr",
     "output_type": "stream",
     "text": [
      "WARNING\tProperty: Unknown Property name. [1:1: word-wrap]\n",
      "WARNING:CSSUTILS:Property: Unknown Property name. [1:1: word-wrap]\n"
     ]
    },
    {
     "name": "stdout",
     "output_type": "stream",
     "text": [
      "'NoneType' object has no attribute 'is_final'\n"
     ]
    },
    {
     "name": "stderr",
     "output_type": "stream",
     "text": [
      "/home/luan/.cache/pypoetry/virtualenvs/apps-ZFymp6kh-py3.8/lib/python3.8/site-packages/django/db/models/fields/__init__.py:1424: RuntimeWarning: DateTimeField ServiceOrder.opened_at received a naive datetime (2024-03-22 08:22:03.822047) while time zone support is active.\n",
      "  warnings.warn(\"DateTimeField %s received a naive datetime (%s)\"\n",
      "/home/luan/.cache/pypoetry/virtualenvs/apps-ZFymp6kh-py3.8/lib/python3.8/site-packages/django/db/models/fields/__init__.py:1424: RuntimeWarning: DateTimeField HistoricalServiceOrder.opened_at received a naive datetime (2024-03-22 08:22:03.822047) while time zone support is active.\n",
      "  warnings.warn(\"DateTimeField %s received a naive datetime (%s)\"\n",
      "/home/luan/.cache/pypoetry/virtualenvs/apps-ZFymp6kh-py3.8/lib/python3.8/site-packages/django/db/models/fields/__init__.py:1424: RuntimeWarning: DateTimeField ToDo.created_at received a naive datetime (2024-03-21 20:22:03.924621) while time zone support is active.\n",
      "  warnings.warn(\"DateTimeField %s received a naive datetime (%s)\"\n"
     ]
    },
    {
     "name": "stdout",
     "output_type": "stream",
     "text": [
      "Procedure matching query does not exist.\n"
     ]
    },
    {
     "name": "stderr",
     "output_type": "stream",
     "text": [
      "WARNING\tProperty: Unknown Property name. [1:1: word-wrap]\n",
      "WARNING:CSSUTILS:Property: Unknown Property name. [1:1: word-wrap]\n"
     ]
    },
    {
     "name": "stdout",
     "output_type": "stream",
     "text": [
      "'NoneType' object has no attribute 'is_final'\n"
     ]
    },
    {
     "name": "stderr",
     "output_type": "stream",
     "text": [
      "/home/luan/.cache/pypoetry/virtualenvs/apps-ZFymp6kh-py3.8/lib/python3.8/site-packages/django/db/models/fields/__init__.py:1424: RuntimeWarning: DateTimeField OccurrenceRecord.datetime received a naive datetime (2020-01-10 00:00:00) while time zone support is active.\n",
      "  warnings.warn(\"DateTimeField %s received a naive datetime (%s)\"\n",
      "/home/luan/.cache/pypoetry/virtualenvs/apps-ZFymp6kh-py3.8/lib/python3.8/site-packages/django/db/models/fields/__init__.py:1424: RuntimeWarning: DateTimeField HistoricalOccurrenceRecord.datetime received a naive datetime (2020-01-10 00:00:00) while time zone support is active.\n",
      "  warnings.warn(\"DateTimeField %s received a naive datetime (%s)\"\n",
      "/home/luan/.cache/pypoetry/virtualenvs/apps-ZFymp6kh-py3.8/lib/python3.8/site-packages/django/db/models/fields/__init__.py:1424: RuntimeWarning: DateTimeField ServiceOrder.opened_at received a naive datetime (2024-03-22 08:22:05.376194) while time zone support is active.\n",
      "  warnings.warn(\"DateTimeField %s received a naive datetime (%s)\"\n",
      "/home/luan/.cache/pypoetry/virtualenvs/apps-ZFymp6kh-py3.8/lib/python3.8/site-packages/django/db/models/fields/__init__.py:1424: RuntimeWarning: DateTimeField HistoricalServiceOrder.opened_at received a naive datetime (2024-03-22 08:22:05.376194) while time zone support is active.\n",
      "  warnings.warn(\"DateTimeField %s received a naive datetime (%s)\"\n",
      "/home/luan/.cache/pypoetry/virtualenvs/apps-ZFymp6kh-py3.8/lib/python3.8/site-packages/django/db/models/fields/__init__.py:1424: RuntimeWarning: DateTimeField ToDo.created_at received a naive datetime (2024-03-21 20:22:05.478370) while time zone support is active.\n",
      "  warnings.warn(\"DateTimeField %s received a naive datetime (%s)\"\n"
     ]
    },
    {
     "name": "stdout",
     "output_type": "stream",
     "text": [
      "Procedure matching query does not exist.\n"
     ]
    },
    {
     "name": "stderr",
     "output_type": "stream",
     "text": [
      "WARNING\tProperty: Unknown Property name. [1:1: word-wrap]\n",
      "WARNING:CSSUTILS:Property: Unknown Property name. [1:1: word-wrap]\n"
     ]
    },
    {
     "name": "stdout",
     "output_type": "stream",
     "text": [
      "'NoneType' object has no attribute 'is_final'\n"
     ]
    },
    {
     "name": "stderr",
     "output_type": "stream",
     "text": [
      "/home/luan/.cache/pypoetry/virtualenvs/apps-ZFymp6kh-py3.8/lib/python3.8/site-packages/django/db/models/fields/__init__.py:1424: RuntimeWarning: DateTimeField OccurrenceRecord.datetime received a naive datetime (2020-01-14 00:00:00) while time zone support is active.\n",
      "  warnings.warn(\"DateTimeField %s received a naive datetime (%s)\"\n",
      "/home/luan/.cache/pypoetry/virtualenvs/apps-ZFymp6kh-py3.8/lib/python3.8/site-packages/django/db/models/fields/__init__.py:1424: RuntimeWarning: DateTimeField HistoricalOccurrenceRecord.datetime received a naive datetime (2020-01-14 00:00:00) while time zone support is active.\n",
      "  warnings.warn(\"DateTimeField %s received a naive datetime (%s)\"\n",
      "/home/luan/.cache/pypoetry/virtualenvs/apps-ZFymp6kh-py3.8/lib/python3.8/site-packages/django/db/models/fields/__init__.py:1424: RuntimeWarning: DateTimeField ServiceOrder.opened_at received a naive datetime (2024-03-22 08:22:06.679986) while time zone support is active.\n",
      "  warnings.warn(\"DateTimeField %s received a naive datetime (%s)\"\n",
      "/home/luan/.cache/pypoetry/virtualenvs/apps-ZFymp6kh-py3.8/lib/python3.8/site-packages/django/db/models/fields/__init__.py:1424: RuntimeWarning: DateTimeField HistoricalServiceOrder.opened_at received a naive datetime (2024-03-22 08:22:06.679986) while time zone support is active.\n",
      "  warnings.warn(\"DateTimeField %s received a naive datetime (%s)\"\n",
      "/home/luan/.cache/pypoetry/virtualenvs/apps-ZFymp6kh-py3.8/lib/python3.8/site-packages/django/db/models/fields/__init__.py:1424: RuntimeWarning: DateTimeField ToDo.created_at received a naive datetime (2024-03-21 20:22:06.783565) while time zone support is active.\n",
      "  warnings.warn(\"DateTimeField %s received a naive datetime (%s)\"\n"
     ]
    },
    {
     "name": "stdout",
     "output_type": "stream",
     "text": [
      "Procedure matching query does not exist.\n"
     ]
    },
    {
     "name": "stderr",
     "output_type": "stream",
     "text": [
      "WARNING\tProperty: Unknown Property name. [1:1: word-wrap]\n",
      "WARNING:CSSUTILS:Property: Unknown Property name. [1:1: word-wrap]\n"
     ]
    },
    {
     "name": "stdout",
     "output_type": "stream",
     "text": [
      "'NoneType' object has no attribute 'is_final'\n"
     ]
    },
    {
     "name": "stderr",
     "output_type": "stream",
     "text": [
      "/home/luan/.cache/pypoetry/virtualenvs/apps-ZFymp6kh-py3.8/lib/python3.8/site-packages/django/db/models/fields/__init__.py:1424: RuntimeWarning: DateTimeField OccurrenceRecord.datetime received a naive datetime (2020-02-04 00:00:00) while time zone support is active.\n",
      "  warnings.warn(\"DateTimeField %s received a naive datetime (%s)\"\n",
      "/home/luan/.cache/pypoetry/virtualenvs/apps-ZFymp6kh-py3.8/lib/python3.8/site-packages/django/db/models/fields/__init__.py:1424: RuntimeWarning: DateTimeField HistoricalOccurrenceRecord.datetime received a naive datetime (2020-02-04 00:00:00) while time zone support is active.\n",
      "  warnings.warn(\"DateTimeField %s received a naive datetime (%s)\"\n",
      "/home/luan/.cache/pypoetry/virtualenvs/apps-ZFymp6kh-py3.8/lib/python3.8/site-packages/django/db/models/fields/__init__.py:1424: RuntimeWarning: DateTimeField ServiceOrder.opened_at received a naive datetime (2024-03-22 08:22:08.069906) while time zone support is active.\n",
      "  warnings.warn(\"DateTimeField %s received a naive datetime (%s)\"\n",
      "/home/luan/.cache/pypoetry/virtualenvs/apps-ZFymp6kh-py3.8/lib/python3.8/site-packages/django/db/models/fields/__init__.py:1424: RuntimeWarning: DateTimeField HistoricalServiceOrder.opened_at received a naive datetime (2024-03-22 08:22:08.069906) while time zone support is active.\n",
      "  warnings.warn(\"DateTimeField %s received a naive datetime (%s)\"\n",
      "/home/luan/.cache/pypoetry/virtualenvs/apps-ZFymp6kh-py3.8/lib/python3.8/site-packages/django/db/models/fields/__init__.py:1424: RuntimeWarning: DateTimeField ToDo.created_at received a naive datetime (2024-03-21 20:22:08.173817) while time zone support is active.\n",
      "  warnings.warn(\"DateTimeField %s received a naive datetime (%s)\"\n"
     ]
    },
    {
     "name": "stdout",
     "output_type": "stream",
     "text": [
      "Procedure matching query does not exist.\n"
     ]
    },
    {
     "name": "stderr",
     "output_type": "stream",
     "text": [
      "WARNING\tProperty: Unknown Property name. [1:1: word-wrap]\n",
      "WARNING:CSSUTILS:Property: Unknown Property name. [1:1: word-wrap]\n"
     ]
    },
    {
     "name": "stdout",
     "output_type": "stream",
     "text": [
      "'NoneType' object has no attribute 'is_final'\n"
     ]
    },
    {
     "name": "stderr",
     "output_type": "stream",
     "text": [
      "/home/luan/.cache/pypoetry/virtualenvs/apps-ZFymp6kh-py3.8/lib/python3.8/site-packages/django/db/models/fields/__init__.py:1424: RuntimeWarning: DateTimeField OccurrenceRecord.datetime received a naive datetime (2020-02-06 00:00:00) while time zone support is active.\n",
      "  warnings.warn(\"DateTimeField %s received a naive datetime (%s)\"\n",
      "/home/luan/.cache/pypoetry/virtualenvs/apps-ZFymp6kh-py3.8/lib/python3.8/site-packages/django/db/models/fields/__init__.py:1424: RuntimeWarning: DateTimeField HistoricalOccurrenceRecord.datetime received a naive datetime (2020-02-06 00:00:00) while time zone support is active.\n",
      "  warnings.warn(\"DateTimeField %s received a naive datetime (%s)\"\n",
      "/home/luan/.cache/pypoetry/virtualenvs/apps-ZFymp6kh-py3.8/lib/python3.8/site-packages/django/db/models/fields/__init__.py:1424: RuntimeWarning: DateTimeField ServiceOrder.opened_at received a naive datetime (2024-03-22 08:22:10.698445) while time zone support is active.\n",
      "  warnings.warn(\"DateTimeField %s received a naive datetime (%s)\"\n",
      "/home/luan/.cache/pypoetry/virtualenvs/apps-ZFymp6kh-py3.8/lib/python3.8/site-packages/django/db/models/fields/__init__.py:1424: RuntimeWarning: DateTimeField HistoricalServiceOrder.opened_at received a naive datetime (2024-03-22 08:22:10.698445) while time zone support is active.\n",
      "  warnings.warn(\"DateTimeField %s received a naive datetime (%s)\"\n",
      "/home/luan/.cache/pypoetry/virtualenvs/apps-ZFymp6kh-py3.8/lib/python3.8/site-packages/django/db/models/fields/__init__.py:1424: RuntimeWarning: DateTimeField ToDo.created_at received a naive datetime (2024-03-21 20:22:10.799568) while time zone support is active.\n",
      "  warnings.warn(\"DateTimeField %s received a naive datetime (%s)\"\n"
     ]
    },
    {
     "name": "stdout",
     "output_type": "stream",
     "text": [
      "Procedure matching query does not exist.\n"
     ]
    },
    {
     "name": "stderr",
     "output_type": "stream",
     "text": [
      "WARNING\tProperty: Unknown Property name. [1:1: word-wrap]\n",
      "WARNING:CSSUTILS:Property: Unknown Property name. [1:1: word-wrap]\n"
     ]
    },
    {
     "name": "stdout",
     "output_type": "stream",
     "text": [
      "'NoneType' object has no attribute 'is_final'\n"
     ]
    },
    {
     "name": "stderr",
     "output_type": "stream",
     "text": [
      "/home/luan/.cache/pypoetry/virtualenvs/apps-ZFymp6kh-py3.8/lib/python3.8/site-packages/django/db/models/fields/__init__.py:1424: RuntimeWarning: DateTimeField OccurrenceRecord.datetime received a naive datetime (2020-02-07 00:00:00) while time zone support is active.\n",
      "  warnings.warn(\"DateTimeField %s received a naive datetime (%s)\"\n",
      "/home/luan/.cache/pypoetry/virtualenvs/apps-ZFymp6kh-py3.8/lib/python3.8/site-packages/django/db/models/fields/__init__.py:1424: RuntimeWarning: DateTimeField HistoricalOccurrenceRecord.datetime received a naive datetime (2020-02-07 00:00:00) while time zone support is active.\n",
      "  warnings.warn(\"DateTimeField %s received a naive datetime (%s)\"\n",
      "/home/luan/.cache/pypoetry/virtualenvs/apps-ZFymp6kh-py3.8/lib/python3.8/site-packages/django/db/models/fields/__init__.py:1424: RuntimeWarning: DateTimeField ServiceOrder.opened_at received a naive datetime (2024-03-22 08:22:12.259073) while time zone support is active.\n",
      "  warnings.warn(\"DateTimeField %s received a naive datetime (%s)\"\n",
      "/home/luan/.cache/pypoetry/virtualenvs/apps-ZFymp6kh-py3.8/lib/python3.8/site-packages/django/db/models/fields/__init__.py:1424: RuntimeWarning: DateTimeField HistoricalServiceOrder.opened_at received a naive datetime (2024-03-22 08:22:12.259073) while time zone support is active.\n",
      "  warnings.warn(\"DateTimeField %s received a naive datetime (%s)\"\n",
      "/home/luan/.cache/pypoetry/virtualenvs/apps-ZFymp6kh-py3.8/lib/python3.8/site-packages/django/db/models/fields/__init__.py:1424: RuntimeWarning: DateTimeField ToDo.created_at received a naive datetime (2024-03-21 20:22:12.363245) while time zone support is active.\n",
      "  warnings.warn(\"DateTimeField %s received a naive datetime (%s)\"\n"
     ]
    },
    {
     "name": "stdout",
     "output_type": "stream",
     "text": [
      "Procedure matching query does not exist.\n"
     ]
    },
    {
     "name": "stderr",
     "output_type": "stream",
     "text": [
      "WARNING\tProperty: Unknown Property name. [1:1: word-wrap]\n",
      "WARNING:CSSUTILS:Property: Unknown Property name. [1:1: word-wrap]\n"
     ]
    },
    {
     "name": "stdout",
     "output_type": "stream",
     "text": [
      "'NoneType' object has no attribute 'is_final'\n"
     ]
    },
    {
     "name": "stderr",
     "output_type": "stream",
     "text": [
      "/home/luan/.cache/pypoetry/virtualenvs/apps-ZFymp6kh-py3.8/lib/python3.8/site-packages/django/db/models/fields/__init__.py:1424: RuntimeWarning: DateTimeField OccurrenceRecord.datetime received a naive datetime (2020-02-19 00:00:00) while time zone support is active.\n",
      "  warnings.warn(\"DateTimeField %s received a naive datetime (%s)\"\n",
      "/home/luan/.cache/pypoetry/virtualenvs/apps-ZFymp6kh-py3.8/lib/python3.8/site-packages/django/db/models/fields/__init__.py:1424: RuntimeWarning: DateTimeField HistoricalOccurrenceRecord.datetime received a naive datetime (2020-02-19 00:00:00) while time zone support is active.\n",
      "  warnings.warn(\"DateTimeField %s received a naive datetime (%s)\"\n",
      "/home/luan/.cache/pypoetry/virtualenvs/apps-ZFymp6kh-py3.8/lib/python3.8/site-packages/django/db/models/fields/__init__.py:1424: RuntimeWarning: DateTimeField ServiceOrder.opened_at received a naive datetime (2024-03-22 08:22:13.609417) while time zone support is active.\n",
      "  warnings.warn(\"DateTimeField %s received a naive datetime (%s)\"\n",
      "/home/luan/.cache/pypoetry/virtualenvs/apps-ZFymp6kh-py3.8/lib/python3.8/site-packages/django/db/models/fields/__init__.py:1424: RuntimeWarning: DateTimeField HistoricalServiceOrder.opened_at received a naive datetime (2024-03-22 08:22:13.609417) while time zone support is active.\n",
      "  warnings.warn(\"DateTimeField %s received a naive datetime (%s)\"\n",
      "/home/luan/.cache/pypoetry/virtualenvs/apps-ZFymp6kh-py3.8/lib/python3.8/site-packages/django/db/models/fields/__init__.py:1424: RuntimeWarning: DateTimeField ToDo.created_at received a naive datetime (2024-03-21 20:22:13.719122) while time zone support is active.\n",
      "  warnings.warn(\"DateTimeField %s received a naive datetime (%s)\"\n"
     ]
    },
    {
     "name": "stdout",
     "output_type": "stream",
     "text": [
      "Procedure matching query does not exist.\n"
     ]
    },
    {
     "name": "stderr",
     "output_type": "stream",
     "text": [
      "WARNING\tProperty: Unknown Property name. [1:1: word-wrap]\n",
      "WARNING:CSSUTILS:Property: Unknown Property name. [1:1: word-wrap]\n"
     ]
    },
    {
     "name": "stdout",
     "output_type": "stream",
     "text": [
      "'NoneType' object has no attribute 'is_final'\n"
     ]
    },
    {
     "name": "stderr",
     "output_type": "stream",
     "text": [
      "/home/luan/.cache/pypoetry/virtualenvs/apps-ZFymp6kh-py3.8/lib/python3.8/site-packages/django/db/models/fields/__init__.py:1424: RuntimeWarning: DateTimeField ServiceOrder.opened_at received a naive datetime (2024-03-22 08:22:14.951266) while time zone support is active.\n",
      "  warnings.warn(\"DateTimeField %s received a naive datetime (%s)\"\n",
      "/home/luan/.cache/pypoetry/virtualenvs/apps-ZFymp6kh-py3.8/lib/python3.8/site-packages/django/db/models/fields/__init__.py:1424: RuntimeWarning: DateTimeField HistoricalServiceOrder.opened_at received a naive datetime (2024-03-22 08:22:14.951266) while time zone support is active.\n",
      "  warnings.warn(\"DateTimeField %s received a naive datetime (%s)\"\n",
      "/home/luan/.cache/pypoetry/virtualenvs/apps-ZFymp6kh-py3.8/lib/python3.8/site-packages/django/db/models/fields/__init__.py:1424: RuntimeWarning: DateTimeField ToDo.created_at received a naive datetime (2024-03-21 20:22:15.071016) while time zone support is active.\n",
      "  warnings.warn(\"DateTimeField %s received a naive datetime (%s)\"\n"
     ]
    },
    {
     "name": "stdout",
     "output_type": "stream",
     "text": [
      "Procedure matching query does not exist.\n"
     ]
    },
    {
     "name": "stderr",
     "output_type": "stream",
     "text": [
      "WARNING\tProperty: Unknown Property name. [1:1: word-wrap]\n",
      "WARNING:CSSUTILS:Property: Unknown Property name. [1:1: word-wrap]\n"
     ]
    },
    {
     "name": "stdout",
     "output_type": "stream",
     "text": [
      "'NoneType' object has no attribute 'is_final'\n"
     ]
    },
    {
     "name": "stderr",
     "output_type": "stream",
     "text": [
      "/home/luan/.cache/pypoetry/virtualenvs/apps-ZFymp6kh-py3.8/lib/python3.8/site-packages/django/db/models/fields/__init__.py:1424: RuntimeWarning: DateTimeField OccurrenceRecord.datetime received a naive datetime (2020-04-21 00:00:00) while time zone support is active.\n",
      "  warnings.warn(\"DateTimeField %s received a naive datetime (%s)\"\n",
      "/home/luan/.cache/pypoetry/virtualenvs/apps-ZFymp6kh-py3.8/lib/python3.8/site-packages/django/db/models/fields/__init__.py:1424: RuntimeWarning: DateTimeField HistoricalOccurrenceRecord.datetime received a naive datetime (2020-04-21 00:00:00) while time zone support is active.\n",
      "  warnings.warn(\"DateTimeField %s received a naive datetime (%s)\"\n",
      "/home/luan/.cache/pypoetry/virtualenvs/apps-ZFymp6kh-py3.8/lib/python3.8/site-packages/django/db/models/fields/__init__.py:1424: RuntimeWarning: DateTimeField ServiceOrder.opened_at received a naive datetime (2024-03-22 08:22:17.726016) while time zone support is active.\n",
      "  warnings.warn(\"DateTimeField %s received a naive datetime (%s)\"\n",
      "/home/luan/.cache/pypoetry/virtualenvs/apps-ZFymp6kh-py3.8/lib/python3.8/site-packages/django/db/models/fields/__init__.py:1424: RuntimeWarning: DateTimeField HistoricalServiceOrder.opened_at received a naive datetime (2024-03-22 08:22:17.726016) while time zone support is active.\n",
      "  warnings.warn(\"DateTimeField %s received a naive datetime (%s)\"\n",
      "/home/luan/.cache/pypoetry/virtualenvs/apps-ZFymp6kh-py3.8/lib/python3.8/site-packages/django/db/models/fields/__init__.py:1424: RuntimeWarning: DateTimeField ToDo.created_at received a naive datetime (2024-03-21 20:22:17.828321) while time zone support is active.\n",
      "  warnings.warn(\"DateTimeField %s received a naive datetime (%s)\"\n"
     ]
    },
    {
     "name": "stdout",
     "output_type": "stream",
     "text": [
      "Procedure matching query does not exist.\n"
     ]
    },
    {
     "name": "stderr",
     "output_type": "stream",
     "text": [
      "WARNING\tProperty: Unknown Property name. [1:1: word-wrap]\n",
      "WARNING:CSSUTILS:Property: Unknown Property name. [1:1: word-wrap]\n"
     ]
    },
    {
     "name": "stdout",
     "output_type": "stream",
     "text": [
      "'NoneType' object has no attribute 'is_final'\n"
     ]
    },
    {
     "name": "stderr",
     "output_type": "stream",
     "text": [
      "/home/luan/.cache/pypoetry/virtualenvs/apps-ZFymp6kh-py3.8/lib/python3.8/site-packages/django/db/models/fields/__init__.py:1424: RuntimeWarning: DateTimeField OccurrenceRecord.datetime received a naive datetime (2020-04-17 00:00:00) while time zone support is active.\n",
      "  warnings.warn(\"DateTimeField %s received a naive datetime (%s)\"\n",
      "/home/luan/.cache/pypoetry/virtualenvs/apps-ZFymp6kh-py3.8/lib/python3.8/site-packages/django/db/models/fields/__init__.py:1424: RuntimeWarning: DateTimeField HistoricalOccurrenceRecord.datetime received a naive datetime (2020-04-17 00:00:00) while time zone support is active.\n",
      "  warnings.warn(\"DateTimeField %s received a naive datetime (%s)\"\n",
      "/home/luan/.cache/pypoetry/virtualenvs/apps-ZFymp6kh-py3.8/lib/python3.8/site-packages/django/db/models/fields/__init__.py:1424: RuntimeWarning: DateTimeField ServiceOrder.opened_at received a naive datetime (2024-03-22 08:22:20.282932) while time zone support is active.\n",
      "  warnings.warn(\"DateTimeField %s received a naive datetime (%s)\"\n",
      "/home/luan/.cache/pypoetry/virtualenvs/apps-ZFymp6kh-py3.8/lib/python3.8/site-packages/django/db/models/fields/__init__.py:1424: RuntimeWarning: DateTimeField HistoricalServiceOrder.opened_at received a naive datetime (2024-03-22 08:22:20.282932) while time zone support is active.\n",
      "  warnings.warn(\"DateTimeField %s received a naive datetime (%s)\"\n",
      "/home/luan/.cache/pypoetry/virtualenvs/apps-ZFymp6kh-py3.8/lib/python3.8/site-packages/django/db/models/fields/__init__.py:1424: RuntimeWarning: DateTimeField ToDo.created_at received a naive datetime (2024-03-21 20:22:20.390463) while time zone support is active.\n",
      "  warnings.warn(\"DateTimeField %s received a naive datetime (%s)\"\n"
     ]
    },
    {
     "name": "stdout",
     "output_type": "stream",
     "text": [
      "Procedure matching query does not exist.\n"
     ]
    },
    {
     "name": "stderr",
     "output_type": "stream",
     "text": [
      "WARNING\tProperty: Unknown Property name. [1:1: word-wrap]\n",
      "WARNING:CSSUTILS:Property: Unknown Property name. [1:1: word-wrap]\n"
     ]
    },
    {
     "name": "stdout",
     "output_type": "stream",
     "text": [
      "'NoneType' object has no attribute 'is_final'\n"
     ]
    },
    {
     "name": "stderr",
     "output_type": "stream",
     "text": [
      "/home/luan/.cache/pypoetry/virtualenvs/apps-ZFymp6kh-py3.8/lib/python3.8/site-packages/django/db/models/fields/__init__.py:1424: RuntimeWarning: DateTimeField ServiceOrder.opened_at received a naive datetime (2024-03-22 08:22:21.753221) while time zone support is active.\n",
      "  warnings.warn(\"DateTimeField %s received a naive datetime (%s)\"\n",
      "/home/luan/.cache/pypoetry/virtualenvs/apps-ZFymp6kh-py3.8/lib/python3.8/site-packages/django/db/models/fields/__init__.py:1424: RuntimeWarning: DateTimeField HistoricalServiceOrder.opened_at received a naive datetime (2024-03-22 08:22:21.753221) while time zone support is active.\n",
      "  warnings.warn(\"DateTimeField %s received a naive datetime (%s)\"\n",
      "/home/luan/.cache/pypoetry/virtualenvs/apps-ZFymp6kh-py3.8/lib/python3.8/site-packages/django/db/models/fields/__init__.py:1424: RuntimeWarning: DateTimeField ToDo.created_at received a naive datetime (2024-03-21 20:22:21.867183) while time zone support is active.\n",
      "  warnings.warn(\"DateTimeField %s received a naive datetime (%s)\"\n"
     ]
    },
    {
     "name": "stdout",
     "output_type": "stream",
     "text": [
      "Procedure matching query does not exist.\n"
     ]
    },
    {
     "name": "stderr",
     "output_type": "stream",
     "text": [
      "WARNING\tProperty: Unknown Property name. [1:1: word-wrap]\n",
      "WARNING:CSSUTILS:Property: Unknown Property name. [1:1: word-wrap]\n"
     ]
    },
    {
     "name": "stdout",
     "output_type": "stream",
     "text": [
      "'NoneType' object has no attribute 'is_final'\n"
     ]
    },
    {
     "name": "stderr",
     "output_type": "stream",
     "text": [
      "/home/luan/.cache/pypoetry/virtualenvs/apps-ZFymp6kh-py3.8/lib/python3.8/site-packages/django/db/models/fields/__init__.py:1424: RuntimeWarning: DateTimeField OccurrenceRecord.datetime received a naive datetime (2020-04-13 00:00:00) while time zone support is active.\n",
      "  warnings.warn(\"DateTimeField %s received a naive datetime (%s)\"\n",
      "/home/luan/.cache/pypoetry/virtualenvs/apps-ZFymp6kh-py3.8/lib/python3.8/site-packages/django/db/models/fields/__init__.py:1424: RuntimeWarning: DateTimeField HistoricalOccurrenceRecord.datetime received a naive datetime (2020-04-13 00:00:00) while time zone support is active.\n",
      "  warnings.warn(\"DateTimeField %s received a naive datetime (%s)\"\n",
      "/home/luan/.cache/pypoetry/virtualenvs/apps-ZFymp6kh-py3.8/lib/python3.8/site-packages/django/db/models/fields/__init__.py:1424: RuntimeWarning: DateTimeField ServiceOrder.opened_at received a naive datetime (2024-03-22 08:22:23.529280) while time zone support is active.\n",
      "  warnings.warn(\"DateTimeField %s received a naive datetime (%s)\"\n",
      "/home/luan/.cache/pypoetry/virtualenvs/apps-ZFymp6kh-py3.8/lib/python3.8/site-packages/django/db/models/fields/__init__.py:1424: RuntimeWarning: DateTimeField HistoricalServiceOrder.opened_at received a naive datetime (2024-03-22 08:22:23.529280) while time zone support is active.\n",
      "  warnings.warn(\"DateTimeField %s received a naive datetime (%s)\"\n",
      "/home/luan/.cache/pypoetry/virtualenvs/apps-ZFymp6kh-py3.8/lib/python3.8/site-packages/django/db/models/fields/__init__.py:1424: RuntimeWarning: DateTimeField ToDo.created_at received a naive datetime (2024-03-21 20:22:23.640693) while time zone support is active.\n",
      "  warnings.warn(\"DateTimeField %s received a naive datetime (%s)\"\n"
     ]
    },
    {
     "name": "stdout",
     "output_type": "stream",
     "text": [
      "Procedure matching query does not exist.\n"
     ]
    },
    {
     "name": "stderr",
     "output_type": "stream",
     "text": [
      "WARNING\tProperty: Unknown Property name. [1:1: word-wrap]\n",
      "WARNING:CSSUTILS:Property: Unknown Property name. [1:1: word-wrap]\n"
     ]
    },
    {
     "name": "stdout",
     "output_type": "stream",
     "text": [
      "'NoneType' object has no attribute 'is_final'\n"
     ]
    },
    {
     "name": "stderr",
     "output_type": "stream",
     "text": [
      "/home/luan/.cache/pypoetry/virtualenvs/apps-ZFymp6kh-py3.8/lib/python3.8/site-packages/django/db/models/fields/__init__.py:1424: RuntimeWarning: DateTimeField ServiceOrder.opened_at received a naive datetime (2024-03-22 08:22:25.346711) while time zone support is active.\n",
      "  warnings.warn(\"DateTimeField %s received a naive datetime (%s)\"\n",
      "/home/luan/.cache/pypoetry/virtualenvs/apps-ZFymp6kh-py3.8/lib/python3.8/site-packages/django/db/models/fields/__init__.py:1424: RuntimeWarning: DateTimeField HistoricalServiceOrder.opened_at received a naive datetime (2024-03-22 08:22:25.346711) while time zone support is active.\n",
      "  warnings.warn(\"DateTimeField %s received a naive datetime (%s)\"\n",
      "/home/luan/.cache/pypoetry/virtualenvs/apps-ZFymp6kh-py3.8/lib/python3.8/site-packages/django/db/models/fields/__init__.py:1424: RuntimeWarning: DateTimeField ToDo.created_at received a naive datetime (2024-03-21 20:22:25.453103) while time zone support is active.\n",
      "  warnings.warn(\"DateTimeField %s received a naive datetime (%s)\"\n"
     ]
    },
    {
     "name": "stdout",
     "output_type": "stream",
     "text": [
      "Procedure matching query does not exist.\n"
     ]
    },
    {
     "name": "stderr",
     "output_type": "stream",
     "text": [
      "WARNING\tProperty: Unknown Property name. [1:1: word-wrap]\n",
      "WARNING:CSSUTILS:Property: Unknown Property name. [1:1: word-wrap]\n"
     ]
    },
    {
     "name": "stdout",
     "output_type": "stream",
     "text": [
      "'NoneType' object has no attribute 'is_final'\n"
     ]
    },
    {
     "name": "stderr",
     "output_type": "stream",
     "text": [
      "/home/luan/.cache/pypoetry/virtualenvs/apps-ZFymp6kh-py3.8/lib/python3.8/site-packages/django/db/models/fields/__init__.py:1424: RuntimeWarning: DateTimeField ServiceOrder.opened_at received a naive datetime (2024-03-22 08:22:26.723605) while time zone support is active.\n",
      "  warnings.warn(\"DateTimeField %s received a naive datetime (%s)\"\n",
      "/home/luan/.cache/pypoetry/virtualenvs/apps-ZFymp6kh-py3.8/lib/python3.8/site-packages/django/db/models/fields/__init__.py:1424: RuntimeWarning: DateTimeField HistoricalServiceOrder.opened_at received a naive datetime (2024-03-22 08:22:26.723605) while time zone support is active.\n",
      "  warnings.warn(\"DateTimeField %s received a naive datetime (%s)\"\n",
      "/home/luan/.cache/pypoetry/virtualenvs/apps-ZFymp6kh-py3.8/lib/python3.8/site-packages/django/db/models/fields/__init__.py:1424: RuntimeWarning: DateTimeField ToDo.created_at received a naive datetime (2024-03-21 20:22:26.837242) while time zone support is active.\n",
      "  warnings.warn(\"DateTimeField %s received a naive datetime (%s)\"\n"
     ]
    },
    {
     "name": "stdout",
     "output_type": "stream",
     "text": [
      "Procedure matching query does not exist.\n"
     ]
    },
    {
     "name": "stderr",
     "output_type": "stream",
     "text": [
      "WARNING\tProperty: Unknown Property name. [1:1: word-wrap]\n",
      "WARNING:CSSUTILS:Property: Unknown Property name. [1:1: word-wrap]\n"
     ]
    },
    {
     "name": "stdout",
     "output_type": "stream",
     "text": [
      "'NoneType' object has no attribute 'is_final'\n"
     ]
    },
    {
     "name": "stderr",
     "output_type": "stream",
     "text": [
      "/home/luan/.cache/pypoetry/virtualenvs/apps-ZFymp6kh-py3.8/lib/python3.8/site-packages/django/db/models/fields/__init__.py:1424: RuntimeWarning: DateTimeField OccurrenceRecord.datetime received a naive datetime (2020-04-06 00:00:00) while time zone support is active.\n",
      "  warnings.warn(\"DateTimeField %s received a naive datetime (%s)\"\n",
      "/home/luan/.cache/pypoetry/virtualenvs/apps-ZFymp6kh-py3.8/lib/python3.8/site-packages/django/db/models/fields/__init__.py:1424: RuntimeWarning: DateTimeField HistoricalOccurrenceRecord.datetime received a naive datetime (2020-04-06 00:00:00) while time zone support is active.\n",
      "  warnings.warn(\"DateTimeField %s received a naive datetime (%s)\"\n",
      "/home/luan/.cache/pypoetry/virtualenvs/apps-ZFymp6kh-py3.8/lib/python3.8/site-packages/django/db/models/fields/__init__.py:1424: RuntimeWarning: DateTimeField ServiceOrder.opened_at received a naive datetime (2024-03-22 08:22:28.145028) while time zone support is active.\n",
      "  warnings.warn(\"DateTimeField %s received a naive datetime (%s)\"\n",
      "/home/luan/.cache/pypoetry/virtualenvs/apps-ZFymp6kh-py3.8/lib/python3.8/site-packages/django/db/models/fields/__init__.py:1424: RuntimeWarning: DateTimeField HistoricalServiceOrder.opened_at received a naive datetime (2024-03-22 08:22:28.145028) while time zone support is active.\n",
      "  warnings.warn(\"DateTimeField %s received a naive datetime (%s)\"\n",
      "/home/luan/.cache/pypoetry/virtualenvs/apps-ZFymp6kh-py3.8/lib/python3.8/site-packages/django/db/models/fields/__init__.py:1424: RuntimeWarning: DateTimeField ToDo.created_at received a naive datetime (2024-03-21 20:22:28.253665) while time zone support is active.\n",
      "  warnings.warn(\"DateTimeField %s received a naive datetime (%s)\"\n"
     ]
    },
    {
     "name": "stdout",
     "output_type": "stream",
     "text": [
      "Procedure matching query does not exist.\n"
     ]
    },
    {
     "name": "stderr",
     "output_type": "stream",
     "text": [
      "WARNING\tProperty: Unknown Property name. [1:1: word-wrap]\n",
      "WARNING:CSSUTILS:Property: Unknown Property name. [1:1: word-wrap]\n"
     ]
    },
    {
     "name": "stdout",
     "output_type": "stream",
     "text": [
      "'NoneType' object has no attribute 'is_final'\n"
     ]
    },
    {
     "name": "stderr",
     "output_type": "stream",
     "text": [
      "/home/luan/.cache/pypoetry/virtualenvs/apps-ZFymp6kh-py3.8/lib/python3.8/site-packages/django/db/models/fields/__init__.py:1424: RuntimeWarning: DateTimeField OccurrenceRecord.datetime received a naive datetime (2020-05-18 00:00:00) while time zone support is active.\n",
      "  warnings.warn(\"DateTimeField %s received a naive datetime (%s)\"\n",
      "/home/luan/.cache/pypoetry/virtualenvs/apps-ZFymp6kh-py3.8/lib/python3.8/site-packages/django/db/models/fields/__init__.py:1424: RuntimeWarning: DateTimeField HistoricalOccurrenceRecord.datetime received a naive datetime (2020-05-18 00:00:00) while time zone support is active.\n",
      "  warnings.warn(\"DateTimeField %s received a naive datetime (%s)\"\n",
      "/home/luan/.cache/pypoetry/virtualenvs/apps-ZFymp6kh-py3.8/lib/python3.8/site-packages/django/db/models/fields/__init__.py:1424: RuntimeWarning: DateTimeField ServiceOrder.opened_at received a naive datetime (2024-03-22 08:22:29.522358) while time zone support is active.\n",
      "  warnings.warn(\"DateTimeField %s received a naive datetime (%s)\"\n",
      "/home/luan/.cache/pypoetry/virtualenvs/apps-ZFymp6kh-py3.8/lib/python3.8/site-packages/django/db/models/fields/__init__.py:1424: RuntimeWarning: DateTimeField HistoricalServiceOrder.opened_at received a naive datetime (2024-03-22 08:22:29.522358) while time zone support is active.\n",
      "  warnings.warn(\"DateTimeField %s received a naive datetime (%s)\"\n",
      "/home/luan/.cache/pypoetry/virtualenvs/apps-ZFymp6kh-py3.8/lib/python3.8/site-packages/django/db/models/fields/__init__.py:1424: RuntimeWarning: DateTimeField ToDo.created_at received a naive datetime (2024-03-21 20:22:29.626546) while time zone support is active.\n",
      "  warnings.warn(\"DateTimeField %s received a naive datetime (%s)\"\n"
     ]
    },
    {
     "name": "stdout",
     "output_type": "stream",
     "text": [
      "Procedure matching query does not exist.\n"
     ]
    },
    {
     "name": "stderr",
     "output_type": "stream",
     "text": [
      "WARNING\tProperty: Unknown Property name. [1:1: word-wrap]\n",
      "WARNING:CSSUTILS:Property: Unknown Property name. [1:1: word-wrap]\n"
     ]
    },
    {
     "name": "stdout",
     "output_type": "stream",
     "text": [
      "'NoneType' object has no attribute 'is_final'\n"
     ]
    },
    {
     "name": "stderr",
     "output_type": "stream",
     "text": [
      "/home/luan/.cache/pypoetry/virtualenvs/apps-ZFymp6kh-py3.8/lib/python3.8/site-packages/django/db/models/fields/__init__.py:1424: RuntimeWarning: DateTimeField OccurrenceRecord.datetime received a naive datetime (2020-05-19 00:00:00) while time zone support is active.\n",
      "  warnings.warn(\"DateTimeField %s received a naive datetime (%s)\"\n",
      "/home/luan/.cache/pypoetry/virtualenvs/apps-ZFymp6kh-py3.8/lib/python3.8/site-packages/django/db/models/fields/__init__.py:1424: RuntimeWarning: DateTimeField HistoricalOccurrenceRecord.datetime received a naive datetime (2020-05-19 00:00:00) while time zone support is active.\n",
      "  warnings.warn(\"DateTimeField %s received a naive datetime (%s)\"\n",
      "/home/luan/.cache/pypoetry/virtualenvs/apps-ZFymp6kh-py3.8/lib/python3.8/site-packages/django/db/models/fields/__init__.py:1424: RuntimeWarning: DateTimeField ServiceOrder.opened_at received a naive datetime (2024-03-22 08:22:31.278180) while time zone support is active.\n",
      "  warnings.warn(\"DateTimeField %s received a naive datetime (%s)\"\n",
      "/home/luan/.cache/pypoetry/virtualenvs/apps-ZFymp6kh-py3.8/lib/python3.8/site-packages/django/db/models/fields/__init__.py:1424: RuntimeWarning: DateTimeField HistoricalServiceOrder.opened_at received a naive datetime (2024-03-22 08:22:31.278180) while time zone support is active.\n",
      "  warnings.warn(\"DateTimeField %s received a naive datetime (%s)\"\n",
      "/home/luan/.cache/pypoetry/virtualenvs/apps-ZFymp6kh-py3.8/lib/python3.8/site-packages/django/db/models/fields/__init__.py:1424: RuntimeWarning: DateTimeField ToDo.created_at received a naive datetime (2024-03-21 20:22:31.383576) while time zone support is active.\n",
      "  warnings.warn(\"DateTimeField %s received a naive datetime (%s)\"\n"
     ]
    },
    {
     "name": "stdout",
     "output_type": "stream",
     "text": [
      "Procedure matching query does not exist.\n"
     ]
    },
    {
     "name": "stderr",
     "output_type": "stream",
     "text": [
      "WARNING\tProperty: Unknown Property name. [1:1: word-wrap]\n",
      "WARNING:CSSUTILS:Property: Unknown Property name. [1:1: word-wrap]\n"
     ]
    },
    {
     "name": "stdout",
     "output_type": "stream",
     "text": [
      "'NoneType' object has no attribute 'is_final'\n"
     ]
    },
    {
     "name": "stderr",
     "output_type": "stream",
     "text": [
      "/home/luan/.cache/pypoetry/virtualenvs/apps-ZFymp6kh-py3.8/lib/python3.8/site-packages/django/db/models/fields/__init__.py:1424: RuntimeWarning: DateTimeField ServiceOrder.opened_at received a naive datetime (2024-03-22 08:22:32.647023) while time zone support is active.\n",
      "  warnings.warn(\"DateTimeField %s received a naive datetime (%s)\"\n",
      "/home/luan/.cache/pypoetry/virtualenvs/apps-ZFymp6kh-py3.8/lib/python3.8/site-packages/django/db/models/fields/__init__.py:1424: RuntimeWarning: DateTimeField HistoricalServiceOrder.opened_at received a naive datetime (2024-03-22 08:22:32.647023) while time zone support is active.\n",
      "  warnings.warn(\"DateTimeField %s received a naive datetime (%s)\"\n",
      "/home/luan/.cache/pypoetry/virtualenvs/apps-ZFymp6kh-py3.8/lib/python3.8/site-packages/django/db/models/fields/__init__.py:1424: RuntimeWarning: DateTimeField ToDo.created_at received a naive datetime (2024-03-21 20:22:32.748851) while time zone support is active.\n",
      "  warnings.warn(\"DateTimeField %s received a naive datetime (%s)\"\n"
     ]
    },
    {
     "name": "stdout",
     "output_type": "stream",
     "text": [
      "Procedure matching query does not exist.\n"
     ]
    },
    {
     "name": "stderr",
     "output_type": "stream",
     "text": [
      "WARNING\tProperty: Unknown Property name. [1:1: word-wrap]\n",
      "WARNING:CSSUTILS:Property: Unknown Property name. [1:1: word-wrap]\n"
     ]
    },
    {
     "name": "stdout",
     "output_type": "stream",
     "text": [
      "'NoneType' object has no attribute 'is_final'\n"
     ]
    },
    {
     "name": "stderr",
     "output_type": "stream",
     "text": [
      "/home/luan/.cache/pypoetry/virtualenvs/apps-ZFymp6kh-py3.8/lib/python3.8/site-packages/django/db/models/fields/__init__.py:1424: RuntimeWarning: DateTimeField ServiceOrder.opened_at received a naive datetime (2024-03-22 08:22:33.978973) while time zone support is active.\n",
      "  warnings.warn(\"DateTimeField %s received a naive datetime (%s)\"\n",
      "/home/luan/.cache/pypoetry/virtualenvs/apps-ZFymp6kh-py3.8/lib/python3.8/site-packages/django/db/models/fields/__init__.py:1424: RuntimeWarning: DateTimeField HistoricalServiceOrder.opened_at received a naive datetime (2024-03-22 08:22:33.978973) while time zone support is active.\n",
      "  warnings.warn(\"DateTimeField %s received a naive datetime (%s)\"\n",
      "/home/luan/.cache/pypoetry/virtualenvs/apps-ZFymp6kh-py3.8/lib/python3.8/site-packages/django/db/models/fields/__init__.py:1424: RuntimeWarning: DateTimeField ToDo.created_at received a naive datetime (2024-03-21 20:22:34.090935) while time zone support is active.\n",
      "  warnings.warn(\"DateTimeField %s received a naive datetime (%s)\"\n"
     ]
    },
    {
     "name": "stdout",
     "output_type": "stream",
     "text": [
      "Procedure matching query does not exist.\n"
     ]
    },
    {
     "name": "stderr",
     "output_type": "stream",
     "text": [
      "WARNING\tProperty: Unknown Property name. [1:1: word-wrap]\n",
      "WARNING:CSSUTILS:Property: Unknown Property name. [1:1: word-wrap]\n"
     ]
    },
    {
     "name": "stdout",
     "output_type": "stream",
     "text": [
      "'NoneType' object has no attribute 'is_final'\n"
     ]
    },
    {
     "name": "stderr",
     "output_type": "stream",
     "text": [
      "/home/luan/.cache/pypoetry/virtualenvs/apps-ZFymp6kh-py3.8/lib/python3.8/site-packages/django/db/models/fields/__init__.py:1424: RuntimeWarning: DateTimeField ServiceOrder.opened_at received a naive datetime (2024-03-22 08:22:35.535804) while time zone support is active.\n",
      "  warnings.warn(\"DateTimeField %s received a naive datetime (%s)\"\n",
      "/home/luan/.cache/pypoetry/virtualenvs/apps-ZFymp6kh-py3.8/lib/python3.8/site-packages/django/db/models/fields/__init__.py:1424: RuntimeWarning: DateTimeField HistoricalServiceOrder.opened_at received a naive datetime (2024-03-22 08:22:35.535804) while time zone support is active.\n",
      "  warnings.warn(\"DateTimeField %s received a naive datetime (%s)\"\n",
      "/home/luan/.cache/pypoetry/virtualenvs/apps-ZFymp6kh-py3.8/lib/python3.8/site-packages/django/db/models/fields/__init__.py:1424: RuntimeWarning: DateTimeField ToDo.created_at received a naive datetime (2024-03-21 20:22:35.641315) while time zone support is active.\n",
      "  warnings.warn(\"DateTimeField %s received a naive datetime (%s)\"\n"
     ]
    },
    {
     "name": "stdout",
     "output_type": "stream",
     "text": [
      "Procedure matching query does not exist.\n"
     ]
    },
    {
     "name": "stderr",
     "output_type": "stream",
     "text": [
      "WARNING\tProperty: Unknown Property name. [1:1: word-wrap]\n",
      "WARNING:CSSUTILS:Property: Unknown Property name. [1:1: word-wrap]\n"
     ]
    },
    {
     "name": "stdout",
     "output_type": "stream",
     "text": [
      "'NoneType' object has no attribute 'is_final'\n"
     ]
    },
    {
     "name": "stderr",
     "output_type": "stream",
     "text": [
      "/home/luan/.cache/pypoetry/virtualenvs/apps-ZFymp6kh-py3.8/lib/python3.8/site-packages/django/db/models/fields/__init__.py:1424: RuntimeWarning: DateTimeField ServiceOrder.opened_at received a naive datetime (2024-03-22 08:22:37.119120) while time zone support is active.\n",
      "  warnings.warn(\"DateTimeField %s received a naive datetime (%s)\"\n",
      "/home/luan/.cache/pypoetry/virtualenvs/apps-ZFymp6kh-py3.8/lib/python3.8/site-packages/django/db/models/fields/__init__.py:1424: RuntimeWarning: DateTimeField HistoricalServiceOrder.opened_at received a naive datetime (2024-03-22 08:22:37.119120) while time zone support is active.\n",
      "  warnings.warn(\"DateTimeField %s received a naive datetime (%s)\"\n",
      "/home/luan/.cache/pypoetry/virtualenvs/apps-ZFymp6kh-py3.8/lib/python3.8/site-packages/django/db/models/fields/__init__.py:1424: RuntimeWarning: DateTimeField ToDo.created_at received a naive datetime (2024-03-21 20:22:37.233679) while time zone support is active.\n",
      "  warnings.warn(\"DateTimeField %s received a naive datetime (%s)\"\n"
     ]
    },
    {
     "name": "stdout",
     "output_type": "stream",
     "text": [
      "Procedure matching query does not exist.\n"
     ]
    },
    {
     "name": "stderr",
     "output_type": "stream",
     "text": [
      "WARNING\tProperty: Unknown Property name. [1:1: word-wrap]\n",
      "WARNING:CSSUTILS:Property: Unknown Property name. [1:1: word-wrap]\n"
     ]
    },
    {
     "name": "stdout",
     "output_type": "stream",
     "text": [
      "'NoneType' object has no attribute 'is_final'\n"
     ]
    },
    {
     "name": "stderr",
     "output_type": "stream",
     "text": [
      "/home/luan/.cache/pypoetry/virtualenvs/apps-ZFymp6kh-py3.8/lib/python3.8/site-packages/django/db/models/fields/__init__.py:1424: RuntimeWarning: DateTimeField OccurrenceRecord.datetime received a naive datetime (2020-05-20 00:00:00) while time zone support is active.\n",
      "  warnings.warn(\"DateTimeField %s received a naive datetime (%s)\"\n",
      "/home/luan/.cache/pypoetry/virtualenvs/apps-ZFymp6kh-py3.8/lib/python3.8/site-packages/django/db/models/fields/__init__.py:1424: RuntimeWarning: DateTimeField HistoricalOccurrenceRecord.datetime received a naive datetime (2020-05-20 00:00:00) while time zone support is active.\n",
      "  warnings.warn(\"DateTimeField %s received a naive datetime (%s)\"\n",
      "/home/luan/.cache/pypoetry/virtualenvs/apps-ZFymp6kh-py3.8/lib/python3.8/site-packages/django/db/models/fields/__init__.py:1424: RuntimeWarning: DateTimeField ServiceOrder.opened_at received a naive datetime (2024-03-22 08:22:38.559720) while time zone support is active.\n",
      "  warnings.warn(\"DateTimeField %s received a naive datetime (%s)\"\n",
      "/home/luan/.cache/pypoetry/virtualenvs/apps-ZFymp6kh-py3.8/lib/python3.8/site-packages/django/db/models/fields/__init__.py:1424: RuntimeWarning: DateTimeField HistoricalServiceOrder.opened_at received a naive datetime (2024-03-22 08:22:38.559720) while time zone support is active.\n",
      "  warnings.warn(\"DateTimeField %s received a naive datetime (%s)\"\n",
      "/home/luan/.cache/pypoetry/virtualenvs/apps-ZFymp6kh-py3.8/lib/python3.8/site-packages/django/db/models/fields/__init__.py:1424: RuntimeWarning: DateTimeField ToDo.created_at received a naive datetime (2024-03-21 20:22:38.671642) while time zone support is active.\n",
      "  warnings.warn(\"DateTimeField %s received a naive datetime (%s)\"\n"
     ]
    },
    {
     "name": "stdout",
     "output_type": "stream",
     "text": [
      "Procedure matching query does not exist.\n"
     ]
    },
    {
     "name": "stderr",
     "output_type": "stream",
     "text": [
      "WARNING\tProperty: Unknown Property name. [1:1: word-wrap]\n",
      "WARNING:CSSUTILS:Property: Unknown Property name. [1:1: word-wrap]\n"
     ]
    },
    {
     "name": "stdout",
     "output_type": "stream",
     "text": [
      "'NoneType' object has no attribute 'is_final'\n"
     ]
    },
    {
     "name": "stderr",
     "output_type": "stream",
     "text": [
      "/home/luan/.cache/pypoetry/virtualenvs/apps-ZFymp6kh-py3.8/lib/python3.8/site-packages/django/db/models/fields/__init__.py:1424: RuntimeWarning: DateTimeField OccurrenceRecord.datetime received a naive datetime (2020-05-21 00:00:00) while time zone support is active.\n",
      "  warnings.warn(\"DateTimeField %s received a naive datetime (%s)\"\n",
      "/home/luan/.cache/pypoetry/virtualenvs/apps-ZFymp6kh-py3.8/lib/python3.8/site-packages/django/db/models/fields/__init__.py:1424: RuntimeWarning: DateTimeField HistoricalOccurrenceRecord.datetime received a naive datetime (2020-05-21 00:00:00) while time zone support is active.\n",
      "  warnings.warn(\"DateTimeField %s received a naive datetime (%s)\"\n",
      "/home/luan/.cache/pypoetry/virtualenvs/apps-ZFymp6kh-py3.8/lib/python3.8/site-packages/django/db/models/fields/__init__.py:1424: RuntimeWarning: DateTimeField ServiceOrder.opened_at received a naive datetime (2024-03-22 08:22:39.985494) while time zone support is active.\n",
      "  warnings.warn(\"DateTimeField %s received a naive datetime (%s)\"\n",
      "/home/luan/.cache/pypoetry/virtualenvs/apps-ZFymp6kh-py3.8/lib/python3.8/site-packages/django/db/models/fields/__init__.py:1424: RuntimeWarning: DateTimeField HistoricalServiceOrder.opened_at received a naive datetime (2024-03-22 08:22:39.985494) while time zone support is active.\n",
      "  warnings.warn(\"DateTimeField %s received a naive datetime (%s)\"\n",
      "/home/luan/.cache/pypoetry/virtualenvs/apps-ZFymp6kh-py3.8/lib/python3.8/site-packages/django/db/models/fields/__init__.py:1424: RuntimeWarning: DateTimeField ToDo.created_at received a naive datetime (2024-03-21 20:22:40.123010) while time zone support is active.\n",
      "  warnings.warn(\"DateTimeField %s received a naive datetime (%s)\"\n"
     ]
    },
    {
     "name": "stdout",
     "output_type": "stream",
     "text": [
      "Procedure matching query does not exist.\n"
     ]
    },
    {
     "name": "stderr",
     "output_type": "stream",
     "text": [
      "WARNING\tProperty: Unknown Property name. [1:1: word-wrap]\n",
      "WARNING:CSSUTILS:Property: Unknown Property name. [1:1: word-wrap]\n"
     ]
    },
    {
     "name": "stdout",
     "output_type": "stream",
     "text": [
      "'NoneType' object has no attribute 'is_final'\n"
     ]
    },
    {
     "name": "stderr",
     "output_type": "stream",
     "text": [
      "/home/luan/.cache/pypoetry/virtualenvs/apps-ZFymp6kh-py3.8/lib/python3.8/site-packages/django/db/models/fields/__init__.py:1424: RuntimeWarning: DateTimeField ServiceOrder.opened_at received a naive datetime (2024-03-22 08:22:41.358929) while time zone support is active.\n",
      "  warnings.warn(\"DateTimeField %s received a naive datetime (%s)\"\n",
      "/home/luan/.cache/pypoetry/virtualenvs/apps-ZFymp6kh-py3.8/lib/python3.8/site-packages/django/db/models/fields/__init__.py:1424: RuntimeWarning: DateTimeField HistoricalServiceOrder.opened_at received a naive datetime (2024-03-22 08:22:41.358929) while time zone support is active.\n",
      "  warnings.warn(\"DateTimeField %s received a naive datetime (%s)\"\n",
      "/home/luan/.cache/pypoetry/virtualenvs/apps-ZFymp6kh-py3.8/lib/python3.8/site-packages/django/db/models/fields/__init__.py:1424: RuntimeWarning: DateTimeField ToDo.created_at received a naive datetime (2024-03-21 20:22:41.462555) while time zone support is active.\n",
      "  warnings.warn(\"DateTimeField %s received a naive datetime (%s)\"\n"
     ]
    },
    {
     "name": "stdout",
     "output_type": "stream",
     "text": [
      "Procedure matching query does not exist.\n"
     ]
    },
    {
     "name": "stderr",
     "output_type": "stream",
     "text": [
      "WARNING\tProperty: Unknown Property name. [1:1: word-wrap]\n",
      "WARNING:CSSUTILS:Property: Unknown Property name. [1:1: word-wrap]\n"
     ]
    },
    {
     "name": "stdout",
     "output_type": "stream",
     "text": [
      "'NoneType' object has no attribute 'is_final'\n"
     ]
    },
    {
     "name": "stderr",
     "output_type": "stream",
     "text": [
      "/home/luan/.cache/pypoetry/virtualenvs/apps-ZFymp6kh-py3.8/lib/python3.8/site-packages/django/db/models/fields/__init__.py:1424: RuntimeWarning: DateTimeField ServiceOrder.opened_at received a naive datetime (2024-03-22 08:22:42.801339) while time zone support is active.\n",
      "  warnings.warn(\"DateTimeField %s received a naive datetime (%s)\"\n",
      "/home/luan/.cache/pypoetry/virtualenvs/apps-ZFymp6kh-py3.8/lib/python3.8/site-packages/django/db/models/fields/__init__.py:1424: RuntimeWarning: DateTimeField HistoricalServiceOrder.opened_at received a naive datetime (2024-03-22 08:22:42.801339) while time zone support is active.\n",
      "  warnings.warn(\"DateTimeField %s received a naive datetime (%s)\"\n",
      "/home/luan/.cache/pypoetry/virtualenvs/apps-ZFymp6kh-py3.8/lib/python3.8/site-packages/django/db/models/fields/__init__.py:1424: RuntimeWarning: DateTimeField ToDo.created_at received a naive datetime (2024-03-21 20:22:42.911760) while time zone support is active.\n",
      "  warnings.warn(\"DateTimeField %s received a naive datetime (%s)\"\n"
     ]
    },
    {
     "name": "stdout",
     "output_type": "stream",
     "text": [
      "Procedure matching query does not exist.\n"
     ]
    },
    {
     "name": "stderr",
     "output_type": "stream",
     "text": [
      "WARNING\tProperty: Unknown Property name. [1:1: word-wrap]\n",
      "WARNING:CSSUTILS:Property: Unknown Property name. [1:1: word-wrap]\n"
     ]
    },
    {
     "name": "stdout",
     "output_type": "stream",
     "text": [
      "'NoneType' object has no attribute 'is_final'\n"
     ]
    },
    {
     "name": "stderr",
     "output_type": "stream",
     "text": [
      "/home/luan/.cache/pypoetry/virtualenvs/apps-ZFymp6kh-py3.8/lib/python3.8/site-packages/django/db/models/fields/__init__.py:1424: RuntimeWarning: DateTimeField OccurrenceRecord.datetime received a naive datetime (2020-06-03 00:00:00) while time zone support is active.\n",
      "  warnings.warn(\"DateTimeField %s received a naive datetime (%s)\"\n",
      "/home/luan/.cache/pypoetry/virtualenvs/apps-ZFymp6kh-py3.8/lib/python3.8/site-packages/django/db/models/fields/__init__.py:1424: RuntimeWarning: DateTimeField HistoricalOccurrenceRecord.datetime received a naive datetime (2020-06-03 00:00:00) while time zone support is active.\n",
      "  warnings.warn(\"DateTimeField %s received a naive datetime (%s)\"\n",
      "/home/luan/.cache/pypoetry/virtualenvs/apps-ZFymp6kh-py3.8/lib/python3.8/site-packages/django/db/models/fields/__init__.py:1424: RuntimeWarning: DateTimeField ServiceOrder.opened_at received a naive datetime (2024-03-22 08:22:44.387574) while time zone support is active.\n",
      "  warnings.warn(\"DateTimeField %s received a naive datetime (%s)\"\n",
      "/home/luan/.cache/pypoetry/virtualenvs/apps-ZFymp6kh-py3.8/lib/python3.8/site-packages/django/db/models/fields/__init__.py:1424: RuntimeWarning: DateTimeField HistoricalServiceOrder.opened_at received a naive datetime (2024-03-22 08:22:44.387574) while time zone support is active.\n",
      "  warnings.warn(\"DateTimeField %s received a naive datetime (%s)\"\n",
      "/home/luan/.cache/pypoetry/virtualenvs/apps-ZFymp6kh-py3.8/lib/python3.8/site-packages/django/db/models/fields/__init__.py:1424: RuntimeWarning: DateTimeField ToDo.created_at received a naive datetime (2024-03-21 20:22:44.490271) while time zone support is active.\n",
      "  warnings.warn(\"DateTimeField %s received a naive datetime (%s)\"\n"
     ]
    },
    {
     "name": "stdout",
     "output_type": "stream",
     "text": [
      "Procedure matching query does not exist.\n"
     ]
    },
    {
     "name": "stderr",
     "output_type": "stream",
     "text": [
      "WARNING\tProperty: Unknown Property name. [1:1: word-wrap]\n",
      "WARNING:CSSUTILS:Property: Unknown Property name. [1:1: word-wrap]\n"
     ]
    },
    {
     "name": "stdout",
     "output_type": "stream",
     "text": [
      "'NoneType' object has no attribute 'is_final'\n"
     ]
    },
    {
     "name": "stderr",
     "output_type": "stream",
     "text": [
      "/home/luan/.cache/pypoetry/virtualenvs/apps-ZFymp6kh-py3.8/lib/python3.8/site-packages/django/db/models/fields/__init__.py:1424: RuntimeWarning: DateTimeField ServiceOrder.opened_at received a naive datetime (2024-03-22 08:22:47.235815) while time zone support is active.\n",
      "  warnings.warn(\"DateTimeField %s received a naive datetime (%s)\"\n",
      "/home/luan/.cache/pypoetry/virtualenvs/apps-ZFymp6kh-py3.8/lib/python3.8/site-packages/django/db/models/fields/__init__.py:1424: RuntimeWarning: DateTimeField HistoricalServiceOrder.opened_at received a naive datetime (2024-03-22 08:22:47.235815) while time zone support is active.\n",
      "  warnings.warn(\"DateTimeField %s received a naive datetime (%s)\"\n",
      "/home/luan/.cache/pypoetry/virtualenvs/apps-ZFymp6kh-py3.8/lib/python3.8/site-packages/django/db/models/fields/__init__.py:1424: RuntimeWarning: DateTimeField ToDo.created_at received a naive datetime (2024-03-21 20:22:47.343372) while time zone support is active.\n",
      "  warnings.warn(\"DateTimeField %s received a naive datetime (%s)\"\n"
     ]
    },
    {
     "name": "stdout",
     "output_type": "stream",
     "text": [
      "Procedure matching query does not exist.\n"
     ]
    },
    {
     "name": "stderr",
     "output_type": "stream",
     "text": [
      "WARNING\tProperty: Unknown Property name. [1:1: word-wrap]\n",
      "WARNING:CSSUTILS:Property: Unknown Property name. [1:1: word-wrap]\n"
     ]
    },
    {
     "name": "stdout",
     "output_type": "stream",
     "text": [
      "'NoneType' object has no attribute 'is_final'\n"
     ]
    },
    {
     "name": "stderr",
     "output_type": "stream",
     "text": [
      "/home/luan/.cache/pypoetry/virtualenvs/apps-ZFymp6kh-py3.8/lib/python3.8/site-packages/django/db/models/fields/__init__.py:1424: RuntimeWarning: DateTimeField ServiceOrder.opened_at received a naive datetime (2024-03-22 08:22:48.641805) while time zone support is active.\n",
      "  warnings.warn(\"DateTimeField %s received a naive datetime (%s)\"\n",
      "/home/luan/.cache/pypoetry/virtualenvs/apps-ZFymp6kh-py3.8/lib/python3.8/site-packages/django/db/models/fields/__init__.py:1424: RuntimeWarning: DateTimeField HistoricalServiceOrder.opened_at received a naive datetime (2024-03-22 08:22:48.641805) while time zone support is active.\n",
      "  warnings.warn(\"DateTimeField %s received a naive datetime (%s)\"\n",
      "/home/luan/.cache/pypoetry/virtualenvs/apps-ZFymp6kh-py3.8/lib/python3.8/site-packages/django/db/models/fields/__init__.py:1424: RuntimeWarning: DateTimeField ToDo.created_at received a naive datetime (2024-03-21 20:22:48.748899) while time zone support is active.\n",
      "  warnings.warn(\"DateTimeField %s received a naive datetime (%s)\"\n"
     ]
    },
    {
     "name": "stdout",
     "output_type": "stream",
     "text": [
      "Procedure matching query does not exist.\n"
     ]
    },
    {
     "name": "stderr",
     "output_type": "stream",
     "text": [
      "WARNING\tProperty: Unknown Property name. [1:1: word-wrap]\n",
      "WARNING:CSSUTILS:Property: Unknown Property name. [1:1: word-wrap]\n"
     ]
    },
    {
     "name": "stdout",
     "output_type": "stream",
     "text": [
      "'NoneType' object has no attribute 'is_final'\n"
     ]
    },
    {
     "name": "stderr",
     "output_type": "stream",
     "text": [
      "/home/luan/.cache/pypoetry/virtualenvs/apps-ZFymp6kh-py3.8/lib/python3.8/site-packages/django/db/models/fields/__init__.py:1424: RuntimeWarning: DateTimeField OccurrenceRecord.datetime received a naive datetime (2020-06-04 00:00:00) while time zone support is active.\n",
      "  warnings.warn(\"DateTimeField %s received a naive datetime (%s)\"\n",
      "/home/luan/.cache/pypoetry/virtualenvs/apps-ZFymp6kh-py3.8/lib/python3.8/site-packages/django/db/models/fields/__init__.py:1424: RuntimeWarning: DateTimeField HistoricalOccurrenceRecord.datetime received a naive datetime (2020-06-04 00:00:00) while time zone support is active.\n",
      "  warnings.warn(\"DateTimeField %s received a naive datetime (%s)\"\n",
      "/home/luan/.cache/pypoetry/virtualenvs/apps-ZFymp6kh-py3.8/lib/python3.8/site-packages/django/db/models/fields/__init__.py:1424: RuntimeWarning: DateTimeField ServiceOrder.opened_at received a naive datetime (2024-03-22 08:22:49.994087) while time zone support is active.\n",
      "  warnings.warn(\"DateTimeField %s received a naive datetime (%s)\"\n",
      "/home/luan/.cache/pypoetry/virtualenvs/apps-ZFymp6kh-py3.8/lib/python3.8/site-packages/django/db/models/fields/__init__.py:1424: RuntimeWarning: DateTimeField HistoricalServiceOrder.opened_at received a naive datetime (2024-03-22 08:22:49.994087) while time zone support is active.\n",
      "  warnings.warn(\"DateTimeField %s received a naive datetime (%s)\"\n",
      "/home/luan/.cache/pypoetry/virtualenvs/apps-ZFymp6kh-py3.8/lib/python3.8/site-packages/django/db/models/fields/__init__.py:1424: RuntimeWarning: DateTimeField ToDo.created_at received a naive datetime (2024-03-21 20:22:50.118389) while time zone support is active.\n",
      "  warnings.warn(\"DateTimeField %s received a naive datetime (%s)\"\n"
     ]
    },
    {
     "name": "stdout",
     "output_type": "stream",
     "text": [
      "Procedure matching query does not exist.\n"
     ]
    },
    {
     "name": "stderr",
     "output_type": "stream",
     "text": [
      "WARNING\tProperty: Unknown Property name. [1:1: word-wrap]\n",
      "WARNING:CSSUTILS:Property: Unknown Property name. [1:1: word-wrap]\n"
     ]
    },
    {
     "name": "stdout",
     "output_type": "stream",
     "text": [
      "'NoneType' object has no attribute 'is_final'\n"
     ]
    },
    {
     "name": "stderr",
     "output_type": "stream",
     "text": [
      "/home/luan/.cache/pypoetry/virtualenvs/apps-ZFymp6kh-py3.8/lib/python3.8/site-packages/django/db/models/fields/__init__.py:1424: RuntimeWarning: DateTimeField OccurrenceRecord.datetime received a naive datetime (2020-06-05 00:00:00) while time zone support is active.\n",
      "  warnings.warn(\"DateTimeField %s received a naive datetime (%s)\"\n",
      "/home/luan/.cache/pypoetry/virtualenvs/apps-ZFymp6kh-py3.8/lib/python3.8/site-packages/django/db/models/fields/__init__.py:1424: RuntimeWarning: DateTimeField HistoricalOccurrenceRecord.datetime received a naive datetime (2020-06-05 00:00:00) while time zone support is active.\n",
      "  warnings.warn(\"DateTimeField %s received a naive datetime (%s)\"\n",
      "/home/luan/.cache/pypoetry/virtualenvs/apps-ZFymp6kh-py3.8/lib/python3.8/site-packages/django/db/models/fields/__init__.py:1424: RuntimeWarning: DateTimeField ServiceOrder.opened_at received a naive datetime (2024-03-22 08:22:51.644097) while time zone support is active.\n",
      "  warnings.warn(\"DateTimeField %s received a naive datetime (%s)\"\n",
      "/home/luan/.cache/pypoetry/virtualenvs/apps-ZFymp6kh-py3.8/lib/python3.8/site-packages/django/db/models/fields/__init__.py:1424: RuntimeWarning: DateTimeField HistoricalServiceOrder.opened_at received a naive datetime (2024-03-22 08:22:51.644097) while time zone support is active.\n",
      "  warnings.warn(\"DateTimeField %s received a naive datetime (%s)\"\n",
      "/home/luan/.cache/pypoetry/virtualenvs/apps-ZFymp6kh-py3.8/lib/python3.8/site-packages/django/db/models/fields/__init__.py:1424: RuntimeWarning: DateTimeField ToDo.created_at received a naive datetime (2024-03-21 20:22:51.772294) while time zone support is active.\n",
      "  warnings.warn(\"DateTimeField %s received a naive datetime (%s)\"\n"
     ]
    },
    {
     "name": "stdout",
     "output_type": "stream",
     "text": [
      "Procedure matching query does not exist.\n"
     ]
    },
    {
     "name": "stderr",
     "output_type": "stream",
     "text": [
      "WARNING\tProperty: Unknown Property name. [1:1: word-wrap]\n",
      "WARNING:CSSUTILS:Property: Unknown Property name. [1:1: word-wrap]\n"
     ]
    },
    {
     "name": "stdout",
     "output_type": "stream",
     "text": [
      "'NoneType' object has no attribute 'is_final'\n"
     ]
    },
    {
     "name": "stderr",
     "output_type": "stream",
     "text": [
      "/home/luan/.cache/pypoetry/virtualenvs/apps-ZFymp6kh-py3.8/lib/python3.8/site-packages/django/db/models/fields/__init__.py:1424: RuntimeWarning: DateTimeField ServiceOrder.opened_at received a naive datetime (2024-03-22 08:22:53.134995) while time zone support is active.\n",
      "  warnings.warn(\"DateTimeField %s received a naive datetime (%s)\"\n",
      "/home/luan/.cache/pypoetry/virtualenvs/apps-ZFymp6kh-py3.8/lib/python3.8/site-packages/django/db/models/fields/__init__.py:1424: RuntimeWarning: DateTimeField HistoricalServiceOrder.opened_at received a naive datetime (2024-03-22 08:22:53.134995) while time zone support is active.\n",
      "  warnings.warn(\"DateTimeField %s received a naive datetime (%s)\"\n",
      "/home/luan/.cache/pypoetry/virtualenvs/apps-ZFymp6kh-py3.8/lib/python3.8/site-packages/django/db/models/fields/__init__.py:1424: RuntimeWarning: DateTimeField ToDo.created_at received a naive datetime (2024-03-21 20:22:53.246893) while time zone support is active.\n",
      "  warnings.warn(\"DateTimeField %s received a naive datetime (%s)\"\n"
     ]
    },
    {
     "name": "stdout",
     "output_type": "stream",
     "text": [
      "Procedure matching query does not exist.\n"
     ]
    },
    {
     "name": "stderr",
     "output_type": "stream",
     "text": [
      "WARNING\tProperty: Unknown Property name. [1:1: word-wrap]\n",
      "WARNING:CSSUTILS:Property: Unknown Property name. [1:1: word-wrap]\n"
     ]
    },
    {
     "name": "stdout",
     "output_type": "stream",
     "text": [
      "'NoneType' object has no attribute 'is_final'\n"
     ]
    },
    {
     "name": "stderr",
     "output_type": "stream",
     "text": [
      "/home/luan/.cache/pypoetry/virtualenvs/apps-ZFymp6kh-py3.8/lib/python3.8/site-packages/django/db/models/fields/__init__.py:1424: RuntimeWarning: DateTimeField ServiceOrder.opened_at received a naive datetime (2024-03-22 08:22:54.614798) while time zone support is active.\n",
      "  warnings.warn(\"DateTimeField %s received a naive datetime (%s)\"\n",
      "/home/luan/.cache/pypoetry/virtualenvs/apps-ZFymp6kh-py3.8/lib/python3.8/site-packages/django/db/models/fields/__init__.py:1424: RuntimeWarning: DateTimeField HistoricalServiceOrder.opened_at received a naive datetime (2024-03-22 08:22:54.614798) while time zone support is active.\n",
      "  warnings.warn(\"DateTimeField %s received a naive datetime (%s)\"\n",
      "/home/luan/.cache/pypoetry/virtualenvs/apps-ZFymp6kh-py3.8/lib/python3.8/site-packages/django/db/models/fields/__init__.py:1424: RuntimeWarning: DateTimeField ToDo.created_at received a naive datetime (2024-03-21 20:22:54.718226) while time zone support is active.\n",
      "  warnings.warn(\"DateTimeField %s received a naive datetime (%s)\"\n"
     ]
    },
    {
     "name": "stdout",
     "output_type": "stream",
     "text": [
      "Procedure matching query does not exist.\n"
     ]
    },
    {
     "name": "stderr",
     "output_type": "stream",
     "text": [
      "WARNING\tProperty: Unknown Property name. [1:1: word-wrap]\n",
      "WARNING:CSSUTILS:Property: Unknown Property name. [1:1: word-wrap]\n"
     ]
    },
    {
     "name": "stdout",
     "output_type": "stream",
     "text": [
      "'NoneType' object has no attribute 'is_final'\n"
     ]
    },
    {
     "name": "stderr",
     "output_type": "stream",
     "text": [
      "/home/luan/.cache/pypoetry/virtualenvs/apps-ZFymp6kh-py3.8/lib/python3.8/site-packages/django/db/models/fields/__init__.py:1424: RuntimeWarning: DateTimeField OccurrenceRecord.datetime received a naive datetime (2020-06-01 00:00:00) while time zone support is active.\n",
      "  warnings.warn(\"DateTimeField %s received a naive datetime (%s)\"\n",
      "/home/luan/.cache/pypoetry/virtualenvs/apps-ZFymp6kh-py3.8/lib/python3.8/site-packages/django/db/models/fields/__init__.py:1424: RuntimeWarning: DateTimeField HistoricalOccurrenceRecord.datetime received a naive datetime (2020-06-01 00:00:00) while time zone support is active.\n",
      "  warnings.warn(\"DateTimeField %s received a naive datetime (%s)\"\n",
      "/home/luan/.cache/pypoetry/virtualenvs/apps-ZFymp6kh-py3.8/lib/python3.8/site-packages/django/db/models/fields/__init__.py:1424: RuntimeWarning: DateTimeField ServiceOrder.opened_at received a naive datetime (2024-03-22 08:22:56.002557) while time zone support is active.\n",
      "  warnings.warn(\"DateTimeField %s received a naive datetime (%s)\"\n",
      "/home/luan/.cache/pypoetry/virtualenvs/apps-ZFymp6kh-py3.8/lib/python3.8/site-packages/django/db/models/fields/__init__.py:1424: RuntimeWarning: DateTimeField HistoricalServiceOrder.opened_at received a naive datetime (2024-03-22 08:22:56.002557) while time zone support is active.\n",
      "  warnings.warn(\"DateTimeField %s received a naive datetime (%s)\"\n",
      "/home/luan/.cache/pypoetry/virtualenvs/apps-ZFymp6kh-py3.8/lib/python3.8/site-packages/django/db/models/fields/__init__.py:1424: RuntimeWarning: DateTimeField ToDo.created_at received a naive datetime (2024-03-21 20:22:56.103981) while time zone support is active.\n",
      "  warnings.warn(\"DateTimeField %s received a naive datetime (%s)\"\n"
     ]
    },
    {
     "name": "stdout",
     "output_type": "stream",
     "text": [
      "Procedure matching query does not exist.\n"
     ]
    },
    {
     "name": "stderr",
     "output_type": "stream",
     "text": [
      "WARNING\tProperty: Unknown Property name. [1:1: word-wrap]\n",
      "WARNING:CSSUTILS:Property: Unknown Property name. [1:1: word-wrap]\n"
     ]
    },
    {
     "name": "stdout",
     "output_type": "stream",
     "text": [
      "'NoneType' object has no attribute 'is_final'\n"
     ]
    },
    {
     "name": "stderr",
     "output_type": "stream",
     "text": [
      "/home/luan/.cache/pypoetry/virtualenvs/apps-ZFymp6kh-py3.8/lib/python3.8/site-packages/django/db/models/fields/__init__.py:1424: RuntimeWarning: DateTimeField ServiceOrder.opened_at received a naive datetime (2024-03-22 08:22:57.605306) while time zone support is active.\n",
      "  warnings.warn(\"DateTimeField %s received a naive datetime (%s)\"\n",
      "/home/luan/.cache/pypoetry/virtualenvs/apps-ZFymp6kh-py3.8/lib/python3.8/site-packages/django/db/models/fields/__init__.py:1424: RuntimeWarning: DateTimeField HistoricalServiceOrder.opened_at received a naive datetime (2024-03-22 08:22:57.605306) while time zone support is active.\n",
      "  warnings.warn(\"DateTimeField %s received a naive datetime (%s)\"\n",
      "/home/luan/.cache/pypoetry/virtualenvs/apps-ZFymp6kh-py3.8/lib/python3.8/site-packages/django/db/models/fields/__init__.py:1424: RuntimeWarning: DateTimeField ToDo.created_at received a naive datetime (2024-03-21 20:22:57.707553) while time zone support is active.\n",
      "  warnings.warn(\"DateTimeField %s received a naive datetime (%s)\"\n"
     ]
    },
    {
     "name": "stdout",
     "output_type": "stream",
     "text": [
      "Procedure matching query does not exist.\n"
     ]
    },
    {
     "name": "stderr",
     "output_type": "stream",
     "text": [
      "WARNING\tProperty: Unknown Property name. [1:1: word-wrap]\n",
      "WARNING:CSSUTILS:Property: Unknown Property name. [1:1: word-wrap]\n"
     ]
    },
    {
     "name": "stdout",
     "output_type": "stream",
     "text": [
      "'NoneType' object has no attribute 'is_final'\n"
     ]
    },
    {
     "name": "stderr",
     "output_type": "stream",
     "text": [
      "/home/luan/.cache/pypoetry/virtualenvs/apps-ZFymp6kh-py3.8/lib/python3.8/site-packages/django/db/models/fields/__init__.py:1424: RuntimeWarning: DateTimeField OccurrenceRecord.datetime received a naive datetime (2020-07-10 00:00:00) while time zone support is active.\n",
      "  warnings.warn(\"DateTimeField %s received a naive datetime (%s)\"\n",
      "/home/luan/.cache/pypoetry/virtualenvs/apps-ZFymp6kh-py3.8/lib/python3.8/site-packages/django/db/models/fields/__init__.py:1424: RuntimeWarning: DateTimeField HistoricalOccurrenceRecord.datetime received a naive datetime (2020-07-10 00:00:00) while time zone support is active.\n",
      "  warnings.warn(\"DateTimeField %s received a naive datetime (%s)\"\n",
      "/home/luan/.cache/pypoetry/virtualenvs/apps-ZFymp6kh-py3.8/lib/python3.8/site-packages/django/db/models/fields/__init__.py:1424: RuntimeWarning: DateTimeField ServiceOrder.opened_at received a naive datetime (2024-03-22 08:22:58.981592) while time zone support is active.\n",
      "  warnings.warn(\"DateTimeField %s received a naive datetime (%s)\"\n",
      "/home/luan/.cache/pypoetry/virtualenvs/apps-ZFymp6kh-py3.8/lib/python3.8/site-packages/django/db/models/fields/__init__.py:1424: RuntimeWarning: DateTimeField HistoricalServiceOrder.opened_at received a naive datetime (2024-03-22 08:22:58.981592) while time zone support is active.\n",
      "  warnings.warn(\"DateTimeField %s received a naive datetime (%s)\"\n",
      "/home/luan/.cache/pypoetry/virtualenvs/apps-ZFymp6kh-py3.8/lib/python3.8/site-packages/django/db/models/fields/__init__.py:1424: RuntimeWarning: DateTimeField ToDo.created_at received a naive datetime (2024-03-21 20:22:59.088428) while time zone support is active.\n",
      "  warnings.warn(\"DateTimeField %s received a naive datetime (%s)\"\n"
     ]
    },
    {
     "name": "stdout",
     "output_type": "stream",
     "text": [
      "Procedure matching query does not exist.\n"
     ]
    },
    {
     "name": "stderr",
     "output_type": "stream",
     "text": [
      "WARNING\tProperty: Unknown Property name. [1:1: word-wrap]\n",
      "WARNING:CSSUTILS:Property: Unknown Property name. [1:1: word-wrap]\n"
     ]
    },
    {
     "name": "stdout",
     "output_type": "stream",
     "text": [
      "'NoneType' object has no attribute 'is_final'\n"
     ]
    },
    {
     "name": "stderr",
     "output_type": "stream",
     "text": [
      "/home/luan/.cache/pypoetry/virtualenvs/apps-ZFymp6kh-py3.8/lib/python3.8/site-packages/django/db/models/fields/__init__.py:1424: RuntimeWarning: DateTimeField OccurrenceRecord.datetime received a naive datetime (2020-07-14 00:00:00) while time zone support is active.\n",
      "  warnings.warn(\"DateTimeField %s received a naive datetime (%s)\"\n",
      "/home/luan/.cache/pypoetry/virtualenvs/apps-ZFymp6kh-py3.8/lib/python3.8/site-packages/django/db/models/fields/__init__.py:1424: RuntimeWarning: DateTimeField HistoricalOccurrenceRecord.datetime received a naive datetime (2020-07-14 00:00:00) while time zone support is active.\n",
      "  warnings.warn(\"DateTimeField %s received a naive datetime (%s)\"\n",
      "/home/luan/.cache/pypoetry/virtualenvs/apps-ZFymp6kh-py3.8/lib/python3.8/site-packages/django/db/models/fields/__init__.py:1424: RuntimeWarning: DateTimeField ServiceOrder.opened_at received a naive datetime (2024-03-22 08:23:00.498173) while time zone support is active.\n",
      "  warnings.warn(\"DateTimeField %s received a naive datetime (%s)\"\n",
      "/home/luan/.cache/pypoetry/virtualenvs/apps-ZFymp6kh-py3.8/lib/python3.8/site-packages/django/db/models/fields/__init__.py:1424: RuntimeWarning: DateTimeField HistoricalServiceOrder.opened_at received a naive datetime (2024-03-22 08:23:00.498173) while time zone support is active.\n",
      "  warnings.warn(\"DateTimeField %s received a naive datetime (%s)\"\n",
      "/home/luan/.cache/pypoetry/virtualenvs/apps-ZFymp6kh-py3.8/lib/python3.8/site-packages/django/db/models/fields/__init__.py:1424: RuntimeWarning: DateTimeField ToDo.created_at received a naive datetime (2024-03-21 20:23:00.607822) while time zone support is active.\n",
      "  warnings.warn(\"DateTimeField %s received a naive datetime (%s)\"\n"
     ]
    },
    {
     "name": "stdout",
     "output_type": "stream",
     "text": [
      "Procedure matching query does not exist.\n"
     ]
    },
    {
     "name": "stderr",
     "output_type": "stream",
     "text": [
      "WARNING\tProperty: Unknown Property name. [1:1: word-wrap]\n",
      "WARNING:CSSUTILS:Property: Unknown Property name. [1:1: word-wrap]\n"
     ]
    },
    {
     "name": "stdout",
     "output_type": "stream",
     "text": [
      "'NoneType' object has no attribute 'is_final'\n"
     ]
    },
    {
     "name": "stderr",
     "output_type": "stream",
     "text": [
      "/home/luan/.cache/pypoetry/virtualenvs/apps-ZFymp6kh-py3.8/lib/python3.8/site-packages/django/db/models/fields/__init__.py:1424: RuntimeWarning: DateTimeField OccurrenceRecord.datetime received a naive datetime (2020-07-13 00:00:00) while time zone support is active.\n",
      "  warnings.warn(\"DateTimeField %s received a naive datetime (%s)\"\n",
      "/home/luan/.cache/pypoetry/virtualenvs/apps-ZFymp6kh-py3.8/lib/python3.8/site-packages/django/db/models/fields/__init__.py:1424: RuntimeWarning: DateTimeField HistoricalOccurrenceRecord.datetime received a naive datetime (2020-07-13 00:00:00) while time zone support is active.\n",
      "  warnings.warn(\"DateTimeField %s received a naive datetime (%s)\"\n",
      "/home/luan/.cache/pypoetry/virtualenvs/apps-ZFymp6kh-py3.8/lib/python3.8/site-packages/django/db/models/fields/__init__.py:1424: RuntimeWarning: DateTimeField ServiceOrder.opened_at received a naive datetime (2024-03-22 08:23:01.885306) while time zone support is active.\n",
      "  warnings.warn(\"DateTimeField %s received a naive datetime (%s)\"\n",
      "/home/luan/.cache/pypoetry/virtualenvs/apps-ZFymp6kh-py3.8/lib/python3.8/site-packages/django/db/models/fields/__init__.py:1424: RuntimeWarning: DateTimeField HistoricalServiceOrder.opened_at received a naive datetime (2024-03-22 08:23:01.885306) while time zone support is active.\n",
      "  warnings.warn(\"DateTimeField %s received a naive datetime (%s)\"\n",
      "/home/luan/.cache/pypoetry/virtualenvs/apps-ZFymp6kh-py3.8/lib/python3.8/site-packages/django/db/models/fields/__init__.py:1424: RuntimeWarning: DateTimeField ToDo.created_at received a naive datetime (2024-03-21 20:23:01.997046) while time zone support is active.\n",
      "  warnings.warn(\"DateTimeField %s received a naive datetime (%s)\"\n"
     ]
    },
    {
     "name": "stdout",
     "output_type": "stream",
     "text": [
      "Procedure matching query does not exist.\n"
     ]
    },
    {
     "name": "stderr",
     "output_type": "stream",
     "text": [
      "WARNING\tProperty: Unknown Property name. [1:1: word-wrap]\n",
      "WARNING:CSSUTILS:Property: Unknown Property name. [1:1: word-wrap]\n"
     ]
    },
    {
     "name": "stdout",
     "output_type": "stream",
     "text": [
      "'NoneType' object has no attribute 'is_final'\n"
     ]
    },
    {
     "name": "stderr",
     "output_type": "stream",
     "text": [
      "/home/luan/.cache/pypoetry/virtualenvs/apps-ZFymp6kh-py3.8/lib/python3.8/site-packages/django/db/models/fields/__init__.py:1424: RuntimeWarning: DateTimeField ServiceOrder.opened_at received a naive datetime (2024-03-22 08:23:03.660263) while time zone support is active.\n",
      "  warnings.warn(\"DateTimeField %s received a naive datetime (%s)\"\n",
      "/home/luan/.cache/pypoetry/virtualenvs/apps-ZFymp6kh-py3.8/lib/python3.8/site-packages/django/db/models/fields/__init__.py:1424: RuntimeWarning: DateTimeField HistoricalServiceOrder.opened_at received a naive datetime (2024-03-22 08:23:03.660263) while time zone support is active.\n",
      "  warnings.warn(\"DateTimeField %s received a naive datetime (%s)\"\n",
      "/home/luan/.cache/pypoetry/virtualenvs/apps-ZFymp6kh-py3.8/lib/python3.8/site-packages/django/db/models/fields/__init__.py:1424: RuntimeWarning: DateTimeField ToDo.created_at received a naive datetime (2024-03-21 20:23:03.763326) while time zone support is active.\n",
      "  warnings.warn(\"DateTimeField %s received a naive datetime (%s)\"\n"
     ]
    },
    {
     "name": "stdout",
     "output_type": "stream",
     "text": [
      "Procedure matching query does not exist.\n"
     ]
    },
    {
     "name": "stderr",
     "output_type": "stream",
     "text": [
      "WARNING\tProperty: Unknown Property name. [1:1: word-wrap]\n",
      "WARNING:CSSUTILS:Property: Unknown Property name. [1:1: word-wrap]\n"
     ]
    },
    {
     "name": "stdout",
     "output_type": "stream",
     "text": [
      "'NoneType' object has no attribute 'is_final'\n"
     ]
    },
    {
     "name": "stderr",
     "output_type": "stream",
     "text": [
      "/home/luan/.cache/pypoetry/virtualenvs/apps-ZFymp6kh-py3.8/lib/python3.8/site-packages/django/db/models/fields/__init__.py:1424: RuntimeWarning: DateTimeField OccurrenceRecord.datetime received a naive datetime (2020-08-10 00:00:00) while time zone support is active.\n",
      "  warnings.warn(\"DateTimeField %s received a naive datetime (%s)\"\n",
      "/home/luan/.cache/pypoetry/virtualenvs/apps-ZFymp6kh-py3.8/lib/python3.8/site-packages/django/db/models/fields/__init__.py:1424: RuntimeWarning: DateTimeField HistoricalOccurrenceRecord.datetime received a naive datetime (2020-08-10 00:00:00) while time zone support is active.\n",
      "  warnings.warn(\"DateTimeField %s received a naive datetime (%s)\"\n",
      "/home/luan/.cache/pypoetry/virtualenvs/apps-ZFymp6kh-py3.8/lib/python3.8/site-packages/django/db/models/fields/__init__.py:1424: RuntimeWarning: DateTimeField ServiceOrder.opened_at received a naive datetime (2024-03-22 08:23:05.147255) while time zone support is active.\n",
      "  warnings.warn(\"DateTimeField %s received a naive datetime (%s)\"\n",
      "/home/luan/.cache/pypoetry/virtualenvs/apps-ZFymp6kh-py3.8/lib/python3.8/site-packages/django/db/models/fields/__init__.py:1424: RuntimeWarning: DateTimeField HistoricalServiceOrder.opened_at received a naive datetime (2024-03-22 08:23:05.147255) while time zone support is active.\n",
      "  warnings.warn(\"DateTimeField %s received a naive datetime (%s)\"\n",
      "/home/luan/.cache/pypoetry/virtualenvs/apps-ZFymp6kh-py3.8/lib/python3.8/site-packages/django/db/models/fields/__init__.py:1424: RuntimeWarning: DateTimeField ToDo.created_at received a naive datetime (2024-03-21 20:23:05.257123) while time zone support is active.\n",
      "  warnings.warn(\"DateTimeField %s received a naive datetime (%s)\"\n"
     ]
    },
    {
     "name": "stdout",
     "output_type": "stream",
     "text": [
      "Procedure matching query does not exist.\n"
     ]
    },
    {
     "name": "stderr",
     "output_type": "stream",
     "text": [
      "WARNING\tProperty: Unknown Property name. [1:1: word-wrap]\n",
      "WARNING:CSSUTILS:Property: Unknown Property name. [1:1: word-wrap]\n"
     ]
    },
    {
     "name": "stdout",
     "output_type": "stream",
     "text": [
      "'NoneType' object has no attribute 'is_final'\n"
     ]
    },
    {
     "name": "stderr",
     "output_type": "stream",
     "text": [
      "/home/luan/.cache/pypoetry/virtualenvs/apps-ZFymp6kh-py3.8/lib/python3.8/site-packages/django/db/models/fields/__init__.py:1424: RuntimeWarning: DateTimeField ServiceOrder.opened_at received a naive datetime (2024-03-22 08:23:06.511313) while time zone support is active.\n",
      "  warnings.warn(\"DateTimeField %s received a naive datetime (%s)\"\n",
      "/home/luan/.cache/pypoetry/virtualenvs/apps-ZFymp6kh-py3.8/lib/python3.8/site-packages/django/db/models/fields/__init__.py:1424: RuntimeWarning: DateTimeField HistoricalServiceOrder.opened_at received a naive datetime (2024-03-22 08:23:06.511313) while time zone support is active.\n",
      "  warnings.warn(\"DateTimeField %s received a naive datetime (%s)\"\n",
      "/home/luan/.cache/pypoetry/virtualenvs/apps-ZFymp6kh-py3.8/lib/python3.8/site-packages/django/db/models/fields/__init__.py:1424: RuntimeWarning: DateTimeField ToDo.created_at received a naive datetime (2024-03-21 20:23:06.615796) while time zone support is active.\n",
      "  warnings.warn(\"DateTimeField %s received a naive datetime (%s)\"\n"
     ]
    },
    {
     "name": "stdout",
     "output_type": "stream",
     "text": [
      "Procedure matching query does not exist.\n"
     ]
    },
    {
     "name": "stderr",
     "output_type": "stream",
     "text": [
      "WARNING\tProperty: Unknown Property name. [1:1: word-wrap]\n",
      "WARNING:CSSUTILS:Property: Unknown Property name. [1:1: word-wrap]\n"
     ]
    },
    {
     "name": "stdout",
     "output_type": "stream",
     "text": [
      "'NoneType' object has no attribute 'is_final'\n"
     ]
    },
    {
     "name": "stderr",
     "output_type": "stream",
     "text": [
      "/home/luan/.cache/pypoetry/virtualenvs/apps-ZFymp6kh-py3.8/lib/python3.8/site-packages/django/db/models/fields/__init__.py:1424: RuntimeWarning: DateTimeField ServiceOrder.opened_at received a naive datetime (2024-03-22 08:23:07.849517) while time zone support is active.\n",
      "  warnings.warn(\"DateTimeField %s received a naive datetime (%s)\"\n",
      "/home/luan/.cache/pypoetry/virtualenvs/apps-ZFymp6kh-py3.8/lib/python3.8/site-packages/django/db/models/fields/__init__.py:1424: RuntimeWarning: DateTimeField HistoricalServiceOrder.opened_at received a naive datetime (2024-03-22 08:23:07.849517) while time zone support is active.\n",
      "  warnings.warn(\"DateTimeField %s received a naive datetime (%s)\"\n",
      "/home/luan/.cache/pypoetry/virtualenvs/apps-ZFymp6kh-py3.8/lib/python3.8/site-packages/django/db/models/fields/__init__.py:1424: RuntimeWarning: DateTimeField ToDo.created_at received a naive datetime (2024-03-21 20:23:07.956579) while time zone support is active.\n",
      "  warnings.warn(\"DateTimeField %s received a naive datetime (%s)\"\n"
     ]
    },
    {
     "name": "stdout",
     "output_type": "stream",
     "text": [
      "Procedure matching query does not exist.\n"
     ]
    },
    {
     "name": "stderr",
     "output_type": "stream",
     "text": [
      "WARNING\tProperty: Unknown Property name. [1:1: word-wrap]\n",
      "WARNING:CSSUTILS:Property: Unknown Property name. [1:1: word-wrap]\n"
     ]
    },
    {
     "name": "stdout",
     "output_type": "stream",
     "text": [
      "'NoneType' object has no attribute 'is_final'\n"
     ]
    },
    {
     "name": "stderr",
     "output_type": "stream",
     "text": [
      "/home/luan/.cache/pypoetry/virtualenvs/apps-ZFymp6kh-py3.8/lib/python3.8/site-packages/django/db/models/fields/__init__.py:1424: RuntimeWarning: DateTimeField OccurrenceRecord.datetime received a naive datetime (2020-08-11 00:00:00) while time zone support is active.\n",
      "  warnings.warn(\"DateTimeField %s received a naive datetime (%s)\"\n",
      "/home/luan/.cache/pypoetry/virtualenvs/apps-ZFymp6kh-py3.8/lib/python3.8/site-packages/django/db/models/fields/__init__.py:1424: RuntimeWarning: DateTimeField HistoricalOccurrenceRecord.datetime received a naive datetime (2020-08-11 00:00:00) while time zone support is active.\n",
      "  warnings.warn(\"DateTimeField %s received a naive datetime (%s)\"\n",
      "/home/luan/.cache/pypoetry/virtualenvs/apps-ZFymp6kh-py3.8/lib/python3.8/site-packages/django/db/models/fields/__init__.py:1424: RuntimeWarning: DateTimeField ServiceOrder.opened_at received a naive datetime (2024-03-22 08:23:09.348545) while time zone support is active.\n",
      "  warnings.warn(\"DateTimeField %s received a naive datetime (%s)\"\n",
      "/home/luan/.cache/pypoetry/virtualenvs/apps-ZFymp6kh-py3.8/lib/python3.8/site-packages/django/db/models/fields/__init__.py:1424: RuntimeWarning: DateTimeField HistoricalServiceOrder.opened_at received a naive datetime (2024-03-22 08:23:09.348545) while time zone support is active.\n",
      "  warnings.warn(\"DateTimeField %s received a naive datetime (%s)\"\n",
      "/home/luan/.cache/pypoetry/virtualenvs/apps-ZFymp6kh-py3.8/lib/python3.8/site-packages/django/db/models/fields/__init__.py:1424: RuntimeWarning: DateTimeField ToDo.created_at received a naive datetime (2024-03-21 20:23:09.454028) while time zone support is active.\n",
      "  warnings.warn(\"DateTimeField %s received a naive datetime (%s)\"\n"
     ]
    },
    {
     "name": "stdout",
     "output_type": "stream",
     "text": [
      "Procedure matching query does not exist.\n"
     ]
    },
    {
     "name": "stderr",
     "output_type": "stream",
     "text": [
      "WARNING\tProperty: Unknown Property name. [1:1: word-wrap]\n",
      "WARNING:CSSUTILS:Property: Unknown Property name. [1:1: word-wrap]\n"
     ]
    },
    {
     "name": "stdout",
     "output_type": "stream",
     "text": [
      "'NoneType' object has no attribute 'is_final'\n"
     ]
    },
    {
     "name": "stderr",
     "output_type": "stream",
     "text": [
      "/home/luan/.cache/pypoetry/virtualenvs/apps-ZFymp6kh-py3.8/lib/python3.8/site-packages/django/db/models/fields/__init__.py:1424: RuntimeWarning: DateTimeField ServiceOrder.opened_at received a naive datetime (2024-03-22 08:23:10.728384) while time zone support is active.\n",
      "  warnings.warn(\"DateTimeField %s received a naive datetime (%s)\"\n",
      "/home/luan/.cache/pypoetry/virtualenvs/apps-ZFymp6kh-py3.8/lib/python3.8/site-packages/django/db/models/fields/__init__.py:1424: RuntimeWarning: DateTimeField HistoricalServiceOrder.opened_at received a naive datetime (2024-03-22 08:23:10.728384) while time zone support is active.\n",
      "  warnings.warn(\"DateTimeField %s received a naive datetime (%s)\"\n",
      "/home/luan/.cache/pypoetry/virtualenvs/apps-ZFymp6kh-py3.8/lib/python3.8/site-packages/django/db/models/fields/__init__.py:1424: RuntimeWarning: DateTimeField ToDo.created_at received a naive datetime (2024-03-21 20:23:10.829569) while time zone support is active.\n",
      "  warnings.warn(\"DateTimeField %s received a naive datetime (%s)\"\n"
     ]
    },
    {
     "name": "stdout",
     "output_type": "stream",
     "text": [
      "Procedure matching query does not exist.\n"
     ]
    },
    {
     "name": "stderr",
     "output_type": "stream",
     "text": [
      "WARNING\tProperty: Unknown Property name. [1:1: word-wrap]\n",
      "WARNING:CSSUTILS:Property: Unknown Property name. [1:1: word-wrap]\n"
     ]
    },
    {
     "name": "stdout",
     "output_type": "stream",
     "text": [
      "'NoneType' object has no attribute 'is_final'\n"
     ]
    },
    {
     "name": "stderr",
     "output_type": "stream",
     "text": [
      "/home/luan/.cache/pypoetry/virtualenvs/apps-ZFymp6kh-py3.8/lib/python3.8/site-packages/django/db/models/fields/__init__.py:1424: RuntimeWarning: DateTimeField ServiceOrder.opened_at received a naive datetime (2024-03-22 08:23:12.118479) while time zone support is active.\n",
      "  warnings.warn(\"DateTimeField %s received a naive datetime (%s)\"\n",
      "/home/luan/.cache/pypoetry/virtualenvs/apps-ZFymp6kh-py3.8/lib/python3.8/site-packages/django/db/models/fields/__init__.py:1424: RuntimeWarning: DateTimeField HistoricalServiceOrder.opened_at received a naive datetime (2024-03-22 08:23:12.118479) while time zone support is active.\n",
      "  warnings.warn(\"DateTimeField %s received a naive datetime (%s)\"\n",
      "/home/luan/.cache/pypoetry/virtualenvs/apps-ZFymp6kh-py3.8/lib/python3.8/site-packages/django/db/models/fields/__init__.py:1424: RuntimeWarning: DateTimeField ToDo.created_at received a naive datetime (2024-03-21 20:23:12.222438) while time zone support is active.\n",
      "  warnings.warn(\"DateTimeField %s received a naive datetime (%s)\"\n"
     ]
    },
    {
     "name": "stdout",
     "output_type": "stream",
     "text": [
      "Procedure matching query does not exist.\n"
     ]
    },
    {
     "name": "stderr",
     "output_type": "stream",
     "text": [
      "WARNING\tProperty: Unknown Property name. [1:1: word-wrap]\n",
      "WARNING:CSSUTILS:Property: Unknown Property name. [1:1: word-wrap]\n"
     ]
    },
    {
     "name": "stdout",
     "output_type": "stream",
     "text": [
      "'NoneType' object has no attribute 'is_final'\n"
     ]
    },
    {
     "name": "stderr",
     "output_type": "stream",
     "text": [
      "/home/luan/.cache/pypoetry/virtualenvs/apps-ZFymp6kh-py3.8/lib/python3.8/site-packages/django/db/models/fields/__init__.py:1424: RuntimeWarning: DateTimeField OccurrenceRecord.datetime received a naive datetime (2020-09-09 00:00:00) while time zone support is active.\n",
      "  warnings.warn(\"DateTimeField %s received a naive datetime (%s)\"\n",
      "/home/luan/.cache/pypoetry/virtualenvs/apps-ZFymp6kh-py3.8/lib/python3.8/site-packages/django/db/models/fields/__init__.py:1424: RuntimeWarning: DateTimeField HistoricalOccurrenceRecord.datetime received a naive datetime (2020-09-09 00:00:00) while time zone support is active.\n",
      "  warnings.warn(\"DateTimeField %s received a naive datetime (%s)\"\n",
      "/home/luan/.cache/pypoetry/virtualenvs/apps-ZFymp6kh-py3.8/lib/python3.8/site-packages/django/db/models/fields/__init__.py:1424: RuntimeWarning: DateTimeField ServiceOrder.opened_at received a naive datetime (2024-03-22 08:23:13.650850) while time zone support is active.\n",
      "  warnings.warn(\"DateTimeField %s received a naive datetime (%s)\"\n",
      "/home/luan/.cache/pypoetry/virtualenvs/apps-ZFymp6kh-py3.8/lib/python3.8/site-packages/django/db/models/fields/__init__.py:1424: RuntimeWarning: DateTimeField HistoricalServiceOrder.opened_at received a naive datetime (2024-03-22 08:23:13.650850) while time zone support is active.\n",
      "  warnings.warn(\"DateTimeField %s received a naive datetime (%s)\"\n",
      "/home/luan/.cache/pypoetry/virtualenvs/apps-ZFymp6kh-py3.8/lib/python3.8/site-packages/django/db/models/fields/__init__.py:1424: RuntimeWarning: DateTimeField ToDo.created_at received a naive datetime (2024-03-21 20:23:13.755178) while time zone support is active.\n",
      "  warnings.warn(\"DateTimeField %s received a naive datetime (%s)\"\n"
     ]
    },
    {
     "name": "stdout",
     "output_type": "stream",
     "text": [
      "Procedure matching query does not exist.\n"
     ]
    },
    {
     "name": "stderr",
     "output_type": "stream",
     "text": [
      "WARNING\tProperty: Unknown Property name. [1:1: word-wrap]\n",
      "WARNING:CSSUTILS:Property: Unknown Property name. [1:1: word-wrap]\n"
     ]
    },
    {
     "name": "stdout",
     "output_type": "stream",
     "text": [
      "'NoneType' object has no attribute 'is_final'\n"
     ]
    },
    {
     "name": "stderr",
     "output_type": "stream",
     "text": [
      "/home/luan/.cache/pypoetry/virtualenvs/apps-ZFymp6kh-py3.8/lib/python3.8/site-packages/django/db/models/fields/__init__.py:1424: RuntimeWarning: DateTimeField OccurrenceRecord.datetime received a naive datetime (2020-09-11 00:00:00) while time zone support is active.\n",
      "  warnings.warn(\"DateTimeField %s received a naive datetime (%s)\"\n",
      "/home/luan/.cache/pypoetry/virtualenvs/apps-ZFymp6kh-py3.8/lib/python3.8/site-packages/django/db/models/fields/__init__.py:1424: RuntimeWarning: DateTimeField HistoricalOccurrenceRecord.datetime received a naive datetime (2020-09-11 00:00:00) while time zone support is active.\n",
      "  warnings.warn(\"DateTimeField %s received a naive datetime (%s)\"\n",
      "/home/luan/.cache/pypoetry/virtualenvs/apps-ZFymp6kh-py3.8/lib/python3.8/site-packages/django/db/models/fields/__init__.py:1424: RuntimeWarning: DateTimeField ServiceOrder.opened_at received a naive datetime (2024-03-22 08:23:15.024860) while time zone support is active.\n",
      "  warnings.warn(\"DateTimeField %s received a naive datetime (%s)\"\n",
      "/home/luan/.cache/pypoetry/virtualenvs/apps-ZFymp6kh-py3.8/lib/python3.8/site-packages/django/db/models/fields/__init__.py:1424: RuntimeWarning: DateTimeField HistoricalServiceOrder.opened_at received a naive datetime (2024-03-22 08:23:15.024860) while time zone support is active.\n",
      "  warnings.warn(\"DateTimeField %s received a naive datetime (%s)\"\n",
      "/home/luan/.cache/pypoetry/virtualenvs/apps-ZFymp6kh-py3.8/lib/python3.8/site-packages/django/db/models/fields/__init__.py:1424: RuntimeWarning: DateTimeField ToDo.created_at received a naive datetime (2024-03-21 20:23:15.155317) while time zone support is active.\n",
      "  warnings.warn(\"DateTimeField %s received a naive datetime (%s)\"\n"
     ]
    },
    {
     "name": "stdout",
     "output_type": "stream",
     "text": [
      "Procedure matching query does not exist.\n"
     ]
    },
    {
     "name": "stderr",
     "output_type": "stream",
     "text": [
      "WARNING\tProperty: Unknown Property name. [1:1: word-wrap]\n",
      "WARNING:CSSUTILS:Property: Unknown Property name. [1:1: word-wrap]\n"
     ]
    },
    {
     "name": "stdout",
     "output_type": "stream",
     "text": [
      "'NoneType' object has no attribute 'is_final'\n"
     ]
    },
    {
     "name": "stderr",
     "output_type": "stream",
     "text": [
      "/home/luan/.cache/pypoetry/virtualenvs/apps-ZFymp6kh-py3.8/lib/python3.8/site-packages/django/db/models/fields/__init__.py:1424: RuntimeWarning: DateTimeField OccurrenceRecord.datetime received a naive datetime (2020-10-08 00:00:00) while time zone support is active.\n",
      "  warnings.warn(\"DateTimeField %s received a naive datetime (%s)\"\n",
      "/home/luan/.cache/pypoetry/virtualenvs/apps-ZFymp6kh-py3.8/lib/python3.8/site-packages/django/db/models/fields/__init__.py:1424: RuntimeWarning: DateTimeField HistoricalOccurrenceRecord.datetime received a naive datetime (2020-10-08 00:00:00) while time zone support is active.\n",
      "  warnings.warn(\"DateTimeField %s received a naive datetime (%s)\"\n",
      "/home/luan/.cache/pypoetry/virtualenvs/apps-ZFymp6kh-py3.8/lib/python3.8/site-packages/django/db/models/fields/__init__.py:1424: RuntimeWarning: DateTimeField ServiceOrder.opened_at received a naive datetime (2024-03-22 08:23:16.609522) while time zone support is active.\n",
      "  warnings.warn(\"DateTimeField %s received a naive datetime (%s)\"\n",
      "/home/luan/.cache/pypoetry/virtualenvs/apps-ZFymp6kh-py3.8/lib/python3.8/site-packages/django/db/models/fields/__init__.py:1424: RuntimeWarning: DateTimeField HistoricalServiceOrder.opened_at received a naive datetime (2024-03-22 08:23:16.609522) while time zone support is active.\n",
      "  warnings.warn(\"DateTimeField %s received a naive datetime (%s)\"\n",
      "/home/luan/.cache/pypoetry/virtualenvs/apps-ZFymp6kh-py3.8/lib/python3.8/site-packages/django/db/models/fields/__init__.py:1424: RuntimeWarning: DateTimeField ToDo.created_at received a naive datetime (2024-03-21 20:23:16.726096) while time zone support is active.\n",
      "  warnings.warn(\"DateTimeField %s received a naive datetime (%s)\"\n"
     ]
    },
    {
     "name": "stdout",
     "output_type": "stream",
     "text": [
      "Procedure matching query does not exist.\n"
     ]
    },
    {
     "name": "stderr",
     "output_type": "stream",
     "text": [
      "WARNING\tProperty: Unknown Property name. [1:1: word-wrap]\n",
      "WARNING:CSSUTILS:Property: Unknown Property name. [1:1: word-wrap]\n"
     ]
    },
    {
     "name": "stdout",
     "output_type": "stream",
     "text": [
      "'NoneType' object has no attribute 'is_final'\n"
     ]
    },
    {
     "name": "stderr",
     "output_type": "stream",
     "text": [
      "/home/luan/.cache/pypoetry/virtualenvs/apps-ZFymp6kh-py3.8/lib/python3.8/site-packages/django/db/models/fields/__init__.py:1424: RuntimeWarning: DateTimeField ServiceOrder.opened_at received a naive datetime (2024-03-22 08:23:18.016588) while time zone support is active.\n",
      "  warnings.warn(\"DateTimeField %s received a naive datetime (%s)\"\n",
      "/home/luan/.cache/pypoetry/virtualenvs/apps-ZFymp6kh-py3.8/lib/python3.8/site-packages/django/db/models/fields/__init__.py:1424: RuntimeWarning: DateTimeField HistoricalServiceOrder.opened_at received a naive datetime (2024-03-22 08:23:18.016588) while time zone support is active.\n",
      "  warnings.warn(\"DateTimeField %s received a naive datetime (%s)\"\n",
      "/home/luan/.cache/pypoetry/virtualenvs/apps-ZFymp6kh-py3.8/lib/python3.8/site-packages/django/db/models/fields/__init__.py:1424: RuntimeWarning: DateTimeField ToDo.created_at received a naive datetime (2024-03-21 20:23:18.127396) while time zone support is active.\n",
      "  warnings.warn(\"DateTimeField %s received a naive datetime (%s)\"\n"
     ]
    },
    {
     "name": "stdout",
     "output_type": "stream",
     "text": [
      "Procedure matching query does not exist.\n"
     ]
    },
    {
     "name": "stderr",
     "output_type": "stream",
     "text": [
      "WARNING\tProperty: Unknown Property name. [1:1: word-wrap]\n",
      "WARNING:CSSUTILS:Property: Unknown Property name. [1:1: word-wrap]\n"
     ]
    },
    {
     "name": "stdout",
     "output_type": "stream",
     "text": [
      "'NoneType' object has no attribute 'is_final'\n"
     ]
    },
    {
     "name": "stderr",
     "output_type": "stream",
     "text": [
      "/home/luan/.cache/pypoetry/virtualenvs/apps-ZFymp6kh-py3.8/lib/python3.8/site-packages/django/db/models/fields/__init__.py:1424: RuntimeWarning: DateTimeField ServiceOrder.opened_at received a naive datetime (2024-03-22 08:23:19.363730) while time zone support is active.\n",
      "  warnings.warn(\"DateTimeField %s received a naive datetime (%s)\"\n",
      "/home/luan/.cache/pypoetry/virtualenvs/apps-ZFymp6kh-py3.8/lib/python3.8/site-packages/django/db/models/fields/__init__.py:1424: RuntimeWarning: DateTimeField HistoricalServiceOrder.opened_at received a naive datetime (2024-03-22 08:23:19.363730) while time zone support is active.\n",
      "  warnings.warn(\"DateTimeField %s received a naive datetime (%s)\"\n",
      "/home/luan/.cache/pypoetry/virtualenvs/apps-ZFymp6kh-py3.8/lib/python3.8/site-packages/django/db/models/fields/__init__.py:1424: RuntimeWarning: DateTimeField ToDo.created_at received a naive datetime (2024-03-21 20:23:19.470426) while time zone support is active.\n",
      "  warnings.warn(\"DateTimeField %s received a naive datetime (%s)\"\n"
     ]
    },
    {
     "name": "stdout",
     "output_type": "stream",
     "text": [
      "Procedure matching query does not exist.\n"
     ]
    },
    {
     "name": "stderr",
     "output_type": "stream",
     "text": [
      "WARNING\tProperty: Unknown Property name. [1:1: word-wrap]\n",
      "WARNING:CSSUTILS:Property: Unknown Property name. [1:1: word-wrap]\n"
     ]
    },
    {
     "name": "stdout",
     "output_type": "stream",
     "text": [
      "'NoneType' object has no attribute 'is_final'\n"
     ]
    },
    {
     "name": "stderr",
     "output_type": "stream",
     "text": [
      "/home/luan/.cache/pypoetry/virtualenvs/apps-ZFymp6kh-py3.8/lib/python3.8/site-packages/django/db/models/fields/__init__.py:1424: RuntimeWarning: DateTimeField ServiceOrder.opened_at received a naive datetime (2024-03-22 08:23:22.275542) while time zone support is active.\n",
      "  warnings.warn(\"DateTimeField %s received a naive datetime (%s)\"\n",
      "/home/luan/.cache/pypoetry/virtualenvs/apps-ZFymp6kh-py3.8/lib/python3.8/site-packages/django/db/models/fields/__init__.py:1424: RuntimeWarning: DateTimeField HistoricalServiceOrder.opened_at received a naive datetime (2024-03-22 08:23:22.275542) while time zone support is active.\n",
      "  warnings.warn(\"DateTimeField %s received a naive datetime (%s)\"\n",
      "/home/luan/.cache/pypoetry/virtualenvs/apps-ZFymp6kh-py3.8/lib/python3.8/site-packages/django/db/models/fields/__init__.py:1424: RuntimeWarning: DateTimeField ToDo.created_at received a naive datetime (2024-03-21 20:23:22.381087) while time zone support is active.\n",
      "  warnings.warn(\"DateTimeField %s received a naive datetime (%s)\"\n"
     ]
    },
    {
     "name": "stdout",
     "output_type": "stream",
     "text": [
      "Procedure matching query does not exist.\n"
     ]
    },
    {
     "name": "stderr",
     "output_type": "stream",
     "text": [
      "WARNING\tProperty: Unknown Property name. [1:1: word-wrap]\n",
      "WARNING:CSSUTILS:Property: Unknown Property name. [1:1: word-wrap]\n"
     ]
    },
    {
     "name": "stdout",
     "output_type": "stream",
     "text": [
      "'NoneType' object has no attribute 'is_final'\n"
     ]
    },
    {
     "name": "stderr",
     "output_type": "stream",
     "text": [
      "/home/luan/.cache/pypoetry/virtualenvs/apps-ZFymp6kh-py3.8/lib/python3.8/site-packages/django/db/models/fields/__init__.py:1424: RuntimeWarning: DateTimeField OccurrenceRecord.datetime received a naive datetime (2020-11-16 00:00:00) while time zone support is active.\n",
      "  warnings.warn(\"DateTimeField %s received a naive datetime (%s)\"\n",
      "/home/luan/.cache/pypoetry/virtualenvs/apps-ZFymp6kh-py3.8/lib/python3.8/site-packages/django/db/models/fields/__init__.py:1424: RuntimeWarning: DateTimeField HistoricalOccurrenceRecord.datetime received a naive datetime (2020-11-16 00:00:00) while time zone support is active.\n",
      "  warnings.warn(\"DateTimeField %s received a naive datetime (%s)\"\n",
      "/home/luan/.cache/pypoetry/virtualenvs/apps-ZFymp6kh-py3.8/lib/python3.8/site-packages/django/db/models/fields/__init__.py:1424: RuntimeWarning: DateTimeField ServiceOrder.opened_at received a naive datetime (2024-03-22 08:23:23.731036) while time zone support is active.\n",
      "  warnings.warn(\"DateTimeField %s received a naive datetime (%s)\"\n",
      "/home/luan/.cache/pypoetry/virtualenvs/apps-ZFymp6kh-py3.8/lib/python3.8/site-packages/django/db/models/fields/__init__.py:1424: RuntimeWarning: DateTimeField HistoricalServiceOrder.opened_at received a naive datetime (2024-03-22 08:23:23.731036) while time zone support is active.\n",
      "  warnings.warn(\"DateTimeField %s received a naive datetime (%s)\"\n",
      "/home/luan/.cache/pypoetry/virtualenvs/apps-ZFymp6kh-py3.8/lib/python3.8/site-packages/django/db/models/fields/__init__.py:1424: RuntimeWarning: DateTimeField ToDo.created_at received a naive datetime (2024-03-21 20:23:23.838396) while time zone support is active.\n",
      "  warnings.warn(\"DateTimeField %s received a naive datetime (%s)\"\n"
     ]
    },
    {
     "name": "stdout",
     "output_type": "stream",
     "text": [
      "Procedure matching query does not exist.\n"
     ]
    },
    {
     "name": "stderr",
     "output_type": "stream",
     "text": [
      "WARNING\tProperty: Unknown Property name. [1:1: word-wrap]\n",
      "WARNING:CSSUTILS:Property: Unknown Property name. [1:1: word-wrap]\n"
     ]
    },
    {
     "name": "stdout",
     "output_type": "stream",
     "text": [
      "'NoneType' object has no attribute 'is_final'\n"
     ]
    },
    {
     "ename": "AttributeError",
     "evalue": "'OccurrenceRecord' object has no attribute 'form_datas'",
     "output_type": "error",
     "traceback": [
      "\u001b[0;31m---------------------------------------------------------------------------\u001b[0m",
      "\u001b[0;31mAttributeError\u001b[0m                            Traceback (most recent call last)",
      "\u001b[0;32m/tmp/ipykernel_2531/799292239.py\u001b[0m in \u001b[0;36m<cell line: 2>\u001b[0;34m()\u001b[0m\n\u001b[1;32m     91\u001b[0m                                     \u001b[0mfirm\u001b[0m\u001b[0;34m=\u001b[0m\u001b[0mfirm\u001b[0m\u001b[0;34m,\u001b[0m\u001b[0;34m\u001b[0m\u001b[0;34m\u001b[0m\u001b[0m\n\u001b[0;32m---> 92\u001b[0;31m                                     \u001b[0mstatus\u001b[0m\u001b[0;34m=\u001b[0m\u001b[0mServiceOrderActionStatus\u001b[0m\u001b[0;34m.\u001b[0m\u001b[0mobjects\u001b[0m\u001b[0;34m.\u001b[0m\u001b[0mget\u001b[0m\u001b[0;34m(\u001b[0m\u001b[0mname\u001b[0m\u001b[0;34m=\u001b[0m\u001b[0ma\u001b[0m\u001b[0;34m[\u001b[0m\u001b[0;34m'Status'\u001b[0m\u001b[0;34m]\u001b[0m\u001b[0;34m.\u001b[0m\u001b[0mreplace\u001b[0m\u001b[0;34m(\u001b[0m\u001b[0;34m'elaboração'\u001b[0m\u001b[0;34m,\u001b[0m\u001b[0;34m'Elaboração'\u001b[0m\u001b[0;34m)\u001b[0m\u001b[0;34m,\u001b[0m \u001b[0mcompanies\u001b[0m\u001b[0;34m=\u001b[0m\u001b[0mcompany\u001b[0m\u001b[0;34m)\u001b[0m\u001b[0;34m,\u001b[0m\u001b[0;34m\u001b[0m\u001b[0;34m\u001b[0m\u001b[0m\n\u001b[0m\u001b[1;32m     93\u001b[0m                                     \u001b[0mapproval_step\u001b[0m\u001b[0;34m=\u001b[0m\u001b[0mApprovalStep\u001b[0m\u001b[0;34m.\u001b[0m\u001b[0mobjects\u001b[0m\u001b[0;34m.\u001b[0m\u001b[0mget\u001b[0m\u001b[0;34m(\u001b[0m\u001b[0mapproval_flow__company\u001b[0m\u001b[0;34m=\u001b[0m\u001b[0mcompany\u001b[0m\u001b[0;34m,\u001b[0m \u001b[0mname\u001b[0m\u001b[0;34m=\u001b[0m\u001b[0ma\u001b[0m\u001b[0;34m[\u001b[0m\u001b[0;34m'Status'\u001b[0m\u001b[0;34m]\u001b[0m\u001b[0;34m.\u001b[0m\u001b[0mreplace\u001b[0m\u001b[0;34m(\u001b[0m\u001b[0;34m'elaboração'\u001b[0m\u001b[0;34m,\u001b[0m\u001b[0;34m'Elaboração'\u001b[0m\u001b[0;34m)\u001b[0m\u001b[0;34m)\u001b[0m\u001b[0;34m,\u001b[0m\u001b[0;34m\u001b[0m\u001b[0;34m\u001b[0m\u001b[0m\n",
      "\u001b[0;31mAttributeError\u001b[0m: 'NoneType' object has no attribute 'replace'",
      "\nDuring handling of the above exception, another exception occurred:\n",
      "\u001b[0;31mAttributeError\u001b[0m                            Traceback (most recent call last)",
      "\u001b[0;32m/tmp/ipykernel_2531/799292239.py\u001b[0m in \u001b[0;36m<cell line: 2>\u001b[0;34m()\u001b[0m\n\u001b[1;32m    121\u001b[0m \u001b[0;34m\u001b[0m\u001b[0m\n\u001b[1;32m    122\u001b[0m     \u001b[0;32mexcept\u001b[0m \u001b[0mException\u001b[0m \u001b[0;32mas\u001b[0m \u001b[0me\u001b[0m\u001b[0;34m:\u001b[0m\u001b[0;34m\u001b[0m\u001b[0;34m\u001b[0m\u001b[0m\n\u001b[0;32m--> 123\u001b[0;31m         \u001b[0mprint\u001b[0m\u001b[0;34m(\u001b[0m\u001b[0;34mf'ERRO - {e}{record.form_datas}'\u001b[0m\u001b[0;34m)\u001b[0m\u001b[0;34m\u001b[0m\u001b[0;34m\u001b[0m\u001b[0m\n\u001b[0m",
      "\u001b[0;31mAttributeError\u001b[0m: 'OccurrenceRecord' object has no attribute 'form_datas'"
     ]
    }
   ],
   "source": [
    "erros=[]\n",
    "for i,a in enumerate(tqdm(values[133:])):\n",
    "    \n",
    "    engie_user=User.objects.get(username='fernando.azevedo')\n",
    "    \n",
    "    try:\n",
    "        \n",
    "        \"\"\"Geometria\"\"\"\n",
    "        properties=[]\n",
    "        srid = 31982 if '22' in str(a['Fuso']) else 31983\n",
    "        x = int(str(a['Coordenada X']).strip()) if a['Coordenada X'] is not None else None\n",
    "        y = int(str(a['Coordenada Y']).strip()) if a['Coordenada Y'] is not None else None\n",
    "        point=transform_coordinates(x, y,srid=srid) if a['Coordenada X'] is not None else None\n",
    "        geometry=GeometryCollection()\n",
    "        geometry.append(point) if a['Coordenada X'] is not None else None\n",
    "        properties.append({\"label\":a['N. da Invasão'] if a.get('N. da Invasão') else a.get('Relatório Principal')})\n",
    "    \n",
    "        if a['Relatório Principal'] is not None:\n",
    "            \"\"\"Registro\"\"\"\n",
    "            record=OccurrenceRecord(company=company,\n",
    "    #                                 firm=engie_firm,\n",
    "                                    firm=firm,\n",
    "                                    status=ServiceOrderActionStatus.objects.get(name=a['Status'].replace('elaboração','Elaboração'), companies=company) if a.get('Status') else status,\n",
    "                                    approval_step=ApprovalStep.objects.get(approval_flow__company=company, name=a['Status'].replace('elaboração','Elaboração')),\n",
    "    #                                 datetime=a['Data do registro'].strftime('%Y-%m-%dT%H:%M:00-03:00'),\n",
    "                                    datetime=a['Data do registro'] if a['Data do registro'] is not None and isinstance(a['Data do registro'],datetime) else datetime.now(),\n",
    "                                    uf_code=get_uf(a['Município'].split('-')[1].strip()),\n",
    "                                    city=City.objects.filter(name=a['Município'].split('-')[0].strip()).first(),\n",
    "                                    occurrence_type=occ,\n",
    "                                    created_by=user,\n",
    "                                    geometry=geometry,\n",
    "                                    properties=properties,\n",
    "                                    search_tag_description = a.get('Relatório') if a.get('Relatório') else a.get('Relatório Principal'),\n",
    "                                    origin=\"5\",\n",
    "                                    involved_parts=get_involved_parts(a),\n",
    "                                    form_data={\n",
    "                                        'irregularities': a['irreg'] if 'irreg' in a and a['irreg'] else None,\n",
    "                                        'agreement_type': True if a['Houve acordo verbal?'] is not None and a['Houve acordo verbal?'].lower() == 'sim' else False,\n",
    "                                        'deadline': a['Prazo de cumprimento'].strftime('%Y-%m-%dT03:00:00.000Z') if a['Prazo de cumprimento'] is not None else None,\n",
    "                                        'agreement': a['Acordo realizado com'] if a['Acordo realizado com'] is not None else None,\n",
    "                                        'affected_area': a['Área afetada (m2)_1'] if a.get('Área afetada (m2)_1') and a.get('Área afetada (m2)_1') is not None else None,\n",
    "                                        'observation': a['obs'] if 'obs' in a and a['obs'] else None\n",
    "                                    }\n",
    "                                   )\n",
    "            if not record.form_data['observation']:\n",
    "                del record.form_data['observation']\n",
    "\n",
    "            if not record.form_data['irregularities']:\n",
    "                del record.form_data['irregularities']\n",
    "                \n",
    "            property_intersections(record)\n",
    "\n",
    "            record.save()        \n",
    "            record.search_tags.add(*[tag1,tag3,tag4])\n",
    "            \"\"\"Serviço\"\"\"        \n",
    "            service_order=ServiceOrder(company=company, description=(a['Descrição do serviço'] or \"Teste\"),\n",
    "                                       kind=\"LAND\",process_type=\"1\", created_by=user)        \n",
    "            service_order.save()\n",
    "\n",
    "            record.service_orders.add(service_order)\n",
    "            service_order.responsibles.add(engie_user)\n",
    "    #         service_order.responsibles.add(user)\n",
    "\n",
    "            \"\"\"Entregas\"\"\"\n",
    "            for index, item in enumerate(get_action_list(actions, a['Entrega Atual'])):\n",
    "\n",
    "                service_order_action=ServiceOrderAction(name=item['name'],\n",
    "                                                        estimated_end_date=date.today()+timedelta(weeks=item['timedelta']['weeks']),\n",
    "                                                        created_by=user,\n",
    "                                                        service_order=service_order)            \n",
    "                service_order_action.save()\n",
    "\n",
    "                \"\"\"Tarefa\"\"\"\n",
    "                if index == 0 and a['Tarefa atual']:\n",
    "                    procedure=Procedure(action=service_order_action,\n",
    "                                        responsible=engie_user,\n",
    "#                                         responsible=user,\n",
    "                                        firm=firm,\n",
    "    #                                     firm=engie_firm\n",
    "                                        to_do=a['Tarefa atual'],\n",
    "                                        created_by=user,\n",
    "                                        deadline=datetime.strptime(deadline, \"%d/%m/%Y %H:%M\")\n",
    "                                       )\n",
    "\n",
    "\n",
    "                    procedure.save()\n",
    "            file_para_re = path+str(a.get('Relatório Principal'))\n",
    "                    \n",
    "        elif a['Relatório Principal'] is None:\n",
    "            recordRe=OccurrenceRecord(company=company,\n",
    "                                    firm=firm,\n",
    "                                    status=ServiceOrderActionStatus.objects.get(name=a['Status'].replace('elaboração','Elaboração'), companies=company),\n",
    "                                    approval_step=ApprovalStep.objects.get(approval_flow__company=company, name=a['Status'].replace('elaboração','Elaboração')),\n",
    "    #                                 datetime=a['Data do registro'].strftime('%Y-%m-%dT%H:%M:00-03:00'),\n",
    "                                    datetime=a['Data do registro'] if a['Data do registro'] is not None and isinstance(a['Data do registro'],datetime) else values[282]['Data do registro'],\n",
    "                                    uf_code=get_uf(a['Município'].split('/')[1]),\n",
    "                                    city=City.objects.filter(name=a['Município'].split('/')[0]).first(),\n",
    "                                    occurrence_type=occ_RE,\n",
    "                                    search_tag_description = a.get('Relatório',''),\n",
    "                                    created_by=user,\n",
    "                                    geometry=geometry,\n",
    "                                    properties=properties,\n",
    "                                    origin=\"5\",\n",
    "                                    involved_parts=get_involved_parts(a),\n",
    "                                   )\n",
    "            recordRe.save()\n",
    "            recordRe.search_tags.add(*[tag10,tag30,tag40])\n",
    "            try:\n",
    "                recordRe.service_orders.add(service_order)\n",
    "                file=File(content_type=ContentType.objects.get(app_label='occurrence_records',model='occurrencerecord'),\n",
    "                    object_id=str(recordRe.uuid),\n",
    "                    content_object = recordRe,\n",
    "                    created_by=user,\n",
    "                    upload=file_para_re+'.pdf')\n",
    "                file.save()\n",
    "            except:\n",
    "                pass\n",
    "        else:\n",
    "            print(a['Relatório Principal'],'Linha: ',i+2)\n",
    "            erros.append(a)\n",
    "            \n",
    "    except Exception as e:\n",
    "        print(f'ERRO - {e}{record.form_datas}')"
   ]
  },
  {
   "cell_type": "code",
   "execution_count": 36,
   "id": "184511c7",
   "metadata": {},
   "outputs": [
    {
     "data": {
      "text/plain": [
       "((1, {'service_orders.Procedure': 1}),\n",
       " (1, {'service_orders.ServiceOrderAction': 1}),\n",
       " (14,\n",
       "  {'occurrence_records.OccurrenceRecord_service_orders': 1,\n",
       "   'service_orders.ServiceOrder_responsibles': 1,\n",
       "   'service_orders.ServiceOrderAction': 11,\n",
       "   'service_orders.ServiceOrder': 1}),\n",
       " (4,\n",
       "  {'occurrence_records.OccurrenceRecord_search_tags': 3,\n",
       "   'occurrence_records.OccurrenceRecord': 1}))"
      ]
     },
     "execution_count": 36,
     "metadata": {},
     "output_type": "execute_result"
    }
   ],
   "source": [
    "# procedure.delete(),service_order_action.delete(),service_order.delete(),record.delete()"
   ]
  },
  {
   "cell_type": "code",
   "execution_count": 50,
   "id": "24bdaa00",
   "metadata": {},
   "outputs": [
    {
     "data": {
      "text/plain": [
       "4512"
      ]
     },
     "execution_count": 50,
     "metadata": {},
     "output_type": "execute_result"
    }
   ],
   "source": [
    "len(get_action_list(actions, a['Entrega Atual']))*376"
   ]
  },
  {
   "cell_type": "code",
   "execution_count": 51,
   "id": "841a33d8",
   "metadata": {},
   "outputs": [
    {
     "data": {
      "text/plain": [
       "(369, 4428, 369, 369)"
      ]
     },
     "execution_count": 51,
     "metadata": {},
     "output_type": "execute_result"
    }
   ],
   "source": [
    "data_ref='2024-03-22'\n",
    "pro=Procedure.objects.filter(firm__company=company,created_by=user,created_at__gte=data_ref)\n",
    "so=ServiceOrder.objects.filter(company=company,created_by=user,updated_at__gte=data_ref)\n",
    "soa=ServiceOrderAction.objects.filter(service_order__company=company,created_by=user,service_order__in=so)\n",
    "rec = OccurrenceRecord.objects.filter(company=company,created_by=user,created_at__gte=data_ref)\n",
    "pro.count(),soa.count(),so.count(),rec.count()"
   ]
  },
  {
   "cell_type": "code",
   "execution_count": 27,
   "id": "5ba1e5cc",
   "metadata": {},
   "outputs": [
    {
     "data": {
      "text/plain": [
       "(44,\n",
       " {'occurrence_records.OccurrenceRecord_search_tags': 33,\n",
       "  'occurrence_records.OccurrenceRecord': 11})"
      ]
     },
     "execution_count": 27,
     "metadata": {},
     "output_type": "execute_result"
    }
   ],
   "source": [
    "# pro.delete()\n",
    "# soa.delete()\n",
    "# so.delete()\n",
    "# rec.delete()"
   ]
  },
  {
   "cell_type": "code",
   "execution_count": 122,
   "id": "12ec8748",
   "metadata": {},
   "outputs": [],
   "source": [
    "# srid = 31982 if '22' in str(22) else 31983\n",
    "point=transform_coordinates(185226, 7818142,srid=31983)\n",
    "geometry=GeometryCollection()\n",
    "geometry.append(point)"
   ]
  },
  {
   "cell_type": "code",
   "execution_count": 123,
   "id": "78e7ebf2",
   "metadata": {},
   "outputs": [
    {
     "data": {
      "text/plain": [
       "(-48.002576235169265, -19.707148876489743)"
      ]
     },
     "execution_count": 123,
     "metadata": {},
     "output_type": "execute_result"
    }
   ],
   "source": [
    "point.x,point.y"
   ]
  },
  {
   "cell_type": "code",
   "execution_count": 124,
   "id": "d9b0aa81",
   "metadata": {},
   "outputs": [],
   "source": [
    "ocr=OccurrenceRecord.objects.get(number='UHMI-RG-2023.1064',company__name='GES - UHE-MIRANDA')"
   ]
  },
  {
   "cell_type": "code",
   "execution_count": 125,
   "id": "663bdfad",
   "metadata": {},
   "outputs": [],
   "source": [
    "ocr.point = point\n",
    "ocr.geometry = geometry"
   ]
  },
  {
   "cell_type": "code",
   "execution_count": 126,
   "id": "42ca91bf",
   "metadata": {},
   "outputs": [],
   "source": [
    "ocr.save()"
   ]
  },
  {
   "cell_type": "code",
   "execution_count": 30,
   "id": "0a2d52ab",
   "metadata": {},
   "outputs": [
    {
     "data": {
      "text/plain": [
       "{'_constructor_args': ((), {}),\n",
       " '_ptr': <django.contrib.gis.geos.libgeos.LP_GEOSGeom_t at 0x7f691ccb9710>,\n",
       " '_cs': None}"
      ]
     },
     "execution_count": 30,
     "metadata": {},
     "output_type": "execute_result"
    }
   ],
   "source": [
    "ocr.geometry.__dict__"
   ]
  },
  {
   "cell_type": "code",
   "execution_count": 34,
   "id": "08f9d904",
   "metadata": {},
   "outputs": [
    {
     "data": {
      "text/plain": [
       "7783921"
      ]
     },
     "execution_count": 34,
     "metadata": {},
     "output_type": "execute_result"
    }
   ],
   "source": [
    "properties.append({\"label\":a['N. da Invasão']})"
   ]
  },
  {
   "cell_type": "code",
   "execution_count": 26,
   "id": "8ef8da1c",
   "metadata": {},
   "outputs": [
    {
     "data": {
      "application/vnd.jupyter.widget-view+json": {
       "model_id": "2c527a352cc74240a75383f54f8e548e",
       "version_major": 2,
       "version_minor": 0
      },
      "text/plain": [
       "  0%|          | 0/1025 [00:00<?, ?it/s]"
      ]
     },
     "metadata": {},
     "output_type": "display_data"
    },
    {
     "name": "stdout",
     "output_type": "stream",
     "text": [
      "get() returned more than one OccurrenceRecord -- it returned 10!\n",
      "OccurrenceRecord matching query does not exist.\n",
      "OccurrenceRecord matching query does not exist.\n",
      "OccurrenceRecord matching query does not exist.\n",
      "OccurrenceRecord matching query does not exist.\n",
      "OccurrenceRecord matching query does not exist.\n",
      "OccurrenceRecord matching query does not exist.\n",
      "OccurrenceRecord matching query does not exist.\n",
      "OccurrenceRecord matching query does not exist.\n",
      "OccurrenceRecord matching query does not exist.\n",
      "OccurrenceRecord matching query does not exist.\n",
      "OccurrenceRecord matching query does not exist.\n",
      "OccurrenceRecord matching query does not exist.\n",
      "OccurrenceRecord matching query does not exist.\n",
      "OccurrenceRecord matching query does not exist.\n",
      "OccurrenceRecord matching query does not exist.\n",
      "OccurrenceRecord matching query does not exist.\n",
      "OccurrenceRecord matching query does not exist.\n",
      "OccurrenceRecord matching query does not exist.\n",
      "OccurrenceRecord matching query does not exist.\n",
      "OccurrenceRecord matching query does not exist.\n",
      "OccurrenceRecord matching query does not exist.\n",
      "OccurrenceRecord matching query does not exist.\n",
      "OccurrenceRecord matching query does not exist.\n",
      "OccurrenceRecord matching query does not exist.\n",
      "[\"'12/11/2018  00:00:00 / \\n03/09/2020 00:00:00' valor tem um formato inválido. Ele deve estar no formato AAAA-MM-DD HH: MM [:. Ss [uuuuuu]] [TZ].\"]\n",
      "[\"'05/12/2018  00:00:00 /\\n09/06/2021  00:00:00' valor tem um formato inválido. Ele deve estar no formato AAAA-MM-DD HH: MM [:. Ss [uuuuuu]] [TZ].\"]\n",
      "OccurrenceRecord matching query does not exist.\n",
      "[\"'10/01/2018  00:00:00 /\\n09/06/2020 00:00:00' valor tem um formato inválido. Ele deve estar no formato AAAA-MM-DD HH: MM [:. Ss [uuuuuu]] [TZ].\"]\n",
      "[\"'10/01/2018  00:00:00 /\\n09/06/2020  00:00:00' valor tem um formato inválido. Ele deve estar no formato AAAA-MM-DD HH: MM [:. Ss [uuuuuu]] [TZ].\"]\n",
      "[\"'10/01/2018  00:00:00 /\\n09/06/2020  00:00:00' valor tem um formato inválido. Ele deve estar no formato AAAA-MM-DD HH: MM [:. Ss [uuuuuu]] [TZ].\"]\n",
      "OccurrenceRecord matching query does not exist.\n",
      "OccurrenceRecord matching query does not exist.\n",
      "OccurrenceRecord matching query does not exist.\n",
      "OccurrenceRecord matching query does not exist.\n",
      "OccurrenceRecord matching query does not exist.\n",
      "OccurrenceRecord matching query does not exist.\n",
      "OccurrenceRecord matching query does not exist.\n",
      "OccurrenceRecord matching query does not exist.\n",
      "OccurrenceRecord matching query does not exist.\n",
      "OccurrenceRecord matching query does not exist.\n",
      "OccurrenceRecord matching query does not exist.\n",
      "OccurrenceRecord matching query does not exist.\n",
      "OccurrenceRecord matching query does not exist.\n",
      "OccurrenceRecord matching query does not exist.\n",
      "OccurrenceRecord matching query does not exist.\n",
      "[\"'02/12/2020 00:00 /\\n13/07/2021 00:00' valor tem um formato inválido. Ele deve estar no formato AAAA-MM-DD HH: MM [:. Ss [uuuuuu]] [TZ].\"]\n",
      "OccurrenceRecord matching query does not exist.\n",
      "OccurrenceRecord matching query does not exist.\n",
      "OccurrenceRecord matching query does not exist.\n",
      "OccurrenceRecord matching query does not exist.\n",
      "OccurrenceRecord matching query does not exist.\n",
      "OccurrenceRecord matching query does not exist.\n",
      "OccurrenceRecord matching query does not exist.\n",
      "OccurrenceRecord matching query does not exist.\n",
      "OccurrenceRecord matching query does not exist.\n",
      "OccurrenceRecord matching query does not exist.\n",
      "OccurrenceRecord matching query does not exist.\n",
      "OccurrenceRecord matching query does not exist.\n",
      "OccurrenceRecord matching query does not exist.\n",
      "OccurrenceRecord matching query does not exist.\n",
      "OccurrenceRecord matching query does not exist.\n",
      "OccurrenceRecord matching query does not exist.\n",
      "OccurrenceRecord matching query does not exist.\n",
      "OccurrenceRecord matching query does not exist.\n",
      "OccurrenceRecord matching query does not exist.\n",
      "OccurrenceRecord matching query does not exist.\n",
      "OccurrenceRecord matching query does not exist.\n",
      "OccurrenceRecord matching query does not exist.\n",
      "OccurrenceRecord matching query does not exist.\n",
      "OccurrenceRecord matching query does not exist.\n",
      "OccurrenceRecord matching query does not exist.\n",
      "OccurrenceRecord matching query does not exist.\n",
      "OccurrenceRecord matching query does not exist.\n",
      "OccurrenceRecord matching query does not exist.\n",
      "OccurrenceRecord matching query does not exist.\n",
      "OccurrenceRecord matching query does not exist.\n",
      "OccurrenceRecord matching query does not exist.\n",
      "OccurrenceRecord matching query does not exist.\n",
      "OccurrenceRecord matching query does not exist.\n",
      "OccurrenceRecord matching query does not exist.\n",
      "OccurrenceRecord matching query does not exist.\n",
      "OccurrenceRecord matching query does not exist.\n",
      "OccurrenceRecord matching query does not exist.\n",
      "OccurrenceRecord matching query does not exist.\n",
      "OccurrenceRecord matching query does not exist.\n",
      "OccurrenceRecord matching query does not exist.\n",
      "OccurrenceRecord matching query does not exist.\n",
      "OccurrenceRecord matching query does not exist.\n",
      "OccurrenceRecord matching query does not exist.\n",
      "OccurrenceRecord matching query does not exist.\n",
      "OccurrenceRecord matching query does not exist.\n",
      "OccurrenceRecord matching query does not exist.\n",
      "OccurrenceRecord matching query does not exist.\n",
      "OccurrenceRecord matching query does not exist.\n",
      "OccurrenceRecord matching query does not exist.\n",
      "OccurrenceRecord matching query does not exist.\n",
      "OccurrenceRecord matching query does not exist.\n",
      "OccurrenceRecord matching query does not exist.\n",
      "OccurrenceRecord matching query does not exist.\n",
      "OccurrenceRecord matching query does not exist.\n",
      "OccurrenceRecord matching query does not exist.\n",
      "OccurrenceRecord matching query does not exist.\n",
      "OccurrenceRecord matching query does not exist.\n",
      "OccurrenceRecord matching query does not exist.\n",
      "OccurrenceRecord matching query does not exist.\n",
      "OccurrenceRecord matching query does not exist.\n",
      "OccurrenceRecord matching query does not exist.\n",
      "OccurrenceRecord matching query does not exist.\n",
      "OccurrenceRecord matching query does not exist.\n",
      "OccurrenceRecord matching query does not exist.\n",
      "OccurrenceRecord matching query does not exist.\n",
      "OccurrenceRecord matching query does not exist.\n",
      "OccurrenceRecord matching query does not exist.\n",
      "OccurrenceRecord matching query does not exist.\n",
      "OccurrenceRecord matching query does not exist.\n",
      "OccurrenceRecord matching query does not exist.\n",
      "OccurrenceRecord matching query does not exist.\n",
      "OccurrenceRecord matching query does not exist.\n",
      "OccurrenceRecord matching query does not exist.\n",
      "OccurrenceRecord matching query does not exist.\n",
      "OccurrenceRecord matching query does not exist.\n",
      "OccurrenceRecord matching query does not exist.\n",
      "OccurrenceRecord matching query does not exist.\n",
      "OccurrenceRecord matching query does not exist.\n",
      "OccurrenceRecord matching query does not exist.\n",
      "OccurrenceRecord matching query does not exist.\n",
      "OccurrenceRecord matching query does not exist.\n",
      "OccurrenceRecord matching query does not exist.\n",
      "OccurrenceRecord matching query does not exist.\n",
      "OccurrenceRecord matching query does not exist.\n",
      "OccurrenceRecord matching query does not exist.\n",
      "OccurrenceRecord matching query does not exist.\n",
      "OccurrenceRecord matching query does not exist.\n",
      "OccurrenceRecord matching query does not exist.\n",
      "OccurrenceRecord matching query does not exist.\n",
      "OccurrenceRecord matching query does not exist.\n",
      "OccurrenceRecord matching query does not exist.\n",
      "OccurrenceRecord matching query does not exist.\n",
      "OccurrenceRecord matching query does not exist.\n",
      "OccurrenceRecord matching query does not exist.\n",
      "OccurrenceRecord matching query does not exist.\n",
      "OccurrenceRecord matching query does not exist.\n",
      "OccurrenceRecord matching query does not exist.\n",
      "OccurrenceRecord matching query does not exist.\n",
      "OccurrenceRecord matching query does not exist.\n",
      "OccurrenceRecord matching query does not exist.\n",
      "OccurrenceRecord matching query does not exist.\n",
      "OccurrenceRecord matching query does not exist.\n",
      "OccurrenceRecord matching query does not exist.\n",
      "OccurrenceRecord matching query does not exist.\n",
      "OccurrenceRecord matching query does not exist.\n",
      "OccurrenceRecord matching query does not exist.\n",
      "OccurrenceRecord matching query does not exist.\n",
      "OccurrenceRecord matching query does not exist.\n",
      "OccurrenceRecord matching query does not exist.\n",
      "OccurrenceRecord matching query does not exist.\n",
      "OccurrenceRecord matching query does not exist.\n",
      "OccurrenceRecord matching query does not exist.\n",
      "OccurrenceRecord matching query does not exist.\n",
      "OccurrenceRecord matching query does not exist.\n",
      "OccurrenceRecord matching query does not exist.\n"
     ]
    },
    {
     "name": "stdout",
     "output_type": "stream",
     "text": [
      "OccurrenceRecord matching query does not exist.\n",
      "OccurrenceRecord matching query does not exist.\n",
      "OccurrenceRecord matching query does not exist.\n",
      "OccurrenceRecord matching query does not exist.\n",
      "OccurrenceRecord matching query does not exist.\n",
      "OccurrenceRecord matching query does not exist.\n",
      "OccurrenceRecord matching query does not exist.\n",
      "OccurrenceRecord matching query does not exist.\n",
      "OccurrenceRecord matching query does not exist.\n",
      "OccurrenceRecord matching query does not exist.\n",
      "OccurrenceRecord matching query does not exist.\n",
      "OccurrenceRecord matching query does not exist.\n",
      "OccurrenceRecord matching query does not exist.\n",
      "OccurrenceRecord matching query does not exist.\n",
      "OccurrenceRecord matching query does not exist.\n",
      "OccurrenceRecord matching query does not exist.\n",
      "OccurrenceRecord matching query does not exist.\n",
      "OccurrenceRecord matching query does not exist.\n",
      "OccurrenceRecord matching query does not exist.\n",
      "OccurrenceRecord matching query does not exist.\n",
      "OccurrenceRecord matching query does not exist.\n",
      "OccurrenceRecord matching query does not exist.\n",
      "OccurrenceRecord matching query does not exist.\n",
      "OccurrenceRecord matching query does not exist.\n",
      "OccurrenceRecord matching query does not exist.\n",
      "OccurrenceRecord matching query does not exist.\n",
      "OccurrenceRecord matching query does not exist.\n",
      "OccurrenceRecord matching query does not exist.\n",
      "OccurrenceRecord matching query does not exist.\n",
      "OccurrenceRecord matching query does not exist.\n",
      "OccurrenceRecord matching query does not exist.\n",
      "OccurrenceRecord matching query does not exist.\n",
      "OccurrenceRecord matching query does not exist.\n",
      "OccurrenceRecord matching query does not exist.\n",
      "OccurrenceRecord matching query does not exist.\n",
      "OccurrenceRecord matching query does not exist.\n",
      "OccurrenceRecord matching query does not exist.\n",
      "OccurrenceRecord matching query does not exist.\n",
      "OccurrenceRecord matching query does not exist.\n",
      "OccurrenceRecord matching query does not exist.\n",
      "OccurrenceRecord matching query does not exist.\n",
      "OccurrenceRecord matching query does not exist.\n",
      "OccurrenceRecord matching query does not exist.\n",
      "OccurrenceRecord matching query does not exist.\n",
      "OccurrenceRecord matching query does not exist.\n",
      "OccurrenceRecord matching query does not exist.\n",
      "OccurrenceRecord matching query does not exist.\n",
      "OccurrenceRecord matching query does not exist.\n",
      "OccurrenceRecord matching query does not exist.\n",
      "OccurrenceRecord matching query does not exist.\n",
      "OccurrenceRecord matching query does not exist.\n",
      "OccurrenceRecord matching query does not exist.\n",
      "OccurrenceRecord matching query does not exist.\n",
      "OccurrenceRecord matching query does not exist.\n",
      "OccurrenceRecord matching query does not exist.\n",
      "OccurrenceRecord matching query does not exist.\n",
      "OccurrenceRecord matching query does not exist.\n",
      "OccurrenceRecord matching query does not exist.\n",
      "OccurrenceRecord matching query does not exist.\n",
      "OccurrenceRecord matching query does not exist.\n",
      "OccurrenceRecord matching query does not exist.\n",
      "OccurrenceRecord matching query does not exist.\n",
      "OccurrenceRecord matching query does not exist.\n",
      "OccurrenceRecord matching query does not exist.\n",
      "OccurrenceRecord matching query does not exist.\n",
      "OccurrenceRecord matching query does not exist.\n",
      "OccurrenceRecord matching query does not exist.\n",
      "OccurrenceRecord matching query does not exist.\n",
      "OccurrenceRecord matching query does not exist.\n",
      "OccurrenceRecord matching query does not exist.\n",
      "OccurrenceRecord matching query does not exist.\n",
      "OccurrenceRecord matching query does not exist.\n",
      "OccurrenceRecord matching query does not exist.\n",
      "OccurrenceRecord matching query does not exist.\n",
      "OccurrenceRecord matching query does not exist.\n",
      "OccurrenceRecord matching query does not exist.\n",
      "OccurrenceRecord matching query does not exist.\n",
      "OccurrenceRecord matching query does not exist.\n",
      "OccurrenceRecord matching query does not exist.\n",
      "OccurrenceRecord matching query does not exist.\n",
      "OccurrenceRecord matching query does not exist.\n",
      "OccurrenceRecord matching query does not exist.\n",
      "OccurrenceRecord matching query does not exist.\n",
      "OccurrenceRecord matching query does not exist.\n",
      "OccurrenceRecord matching query does not exist.\n",
      "OccurrenceRecord matching query does not exist.\n",
      "OccurrenceRecord matching query does not exist.\n",
      "OccurrenceRecord matching query does not exist.\n",
      "OccurrenceRecord matching query does not exist.\n",
      "OccurrenceRecord matching query does not exist.\n",
      "OccurrenceRecord matching query does not exist.\n",
      "OccurrenceRecord matching query does not exist.\n",
      "OccurrenceRecord matching query does not exist.\n",
      "OccurrenceRecord matching query does not exist.\n",
      "OccurrenceRecord matching query does not exist.\n",
      "OccurrenceRecord matching query does not exist.\n",
      "[\"'07/08/2019 00:00 /\\n03/12/2020 00:00' valor tem um formato inválido. Ele deve estar no formato AAAA-MM-DD HH: MM [:. Ss [uuuuuu]] [TZ].\"]\n",
      "OccurrenceRecord matching query does not exist.\n",
      "OccurrenceRecord matching query does not exist.\n",
      "OccurrenceRecord matching query does not exist.\n",
      "OccurrenceRecord matching query does not exist.\n",
      "OccurrenceRecord matching query does not exist.\n",
      "get() returned more than one OccurrenceRecord -- it returned 2!\n",
      "get() returned more than one OccurrenceRecord -- it returned 2!\n",
      "[\"'09/01/2020 /\\n08/06/2020' valor tem um formato inválido. Ele deve estar no formato AAAA-MM-DD HH: MM [:. Ss [uuuuuu]] [TZ].\"]\n",
      "OccurrenceRecord matching query does not exist.\n",
      "OccurrenceRecord matching query does not exist.\n",
      "[\"'05/03/2020 /\\n06/10/2020 /\\n30/05/2021' valor tem um formato inválido. Ele deve estar no formato AAAA-MM-DD HH: MM [:. Ss [uuuuuu]] [TZ].\"]\n",
      "OccurrenceRecord matching query does not exist.\n",
      "OccurrenceRecord matching query does not exist.\n",
      "[\"'06/03/2020 /\\n12/07/2021' valor tem um formato inválido. Ele deve estar no formato AAAA-MM-DD HH: MM [:. Ss [uuuuuu]] [TZ].\"]\n",
      "[\"'06/03/2020 /\\n10/11/2020' valor tem um formato inválido. Ele deve estar no formato AAAA-MM-DD HH: MM [:. Ss [uuuuuu]] [TZ].\"]\n",
      "[\"'03/04/2020 /\\n06/10/2020' valor tem um formato inválido. Ele deve estar no formato AAAA-MM-DD HH: MM [:. Ss [uuuuuu]] [TZ].\"]\n",
      "OccurrenceRecord matching query does not exist.\n",
      "OccurrenceRecord matching query does not exist.\n",
      "OccurrenceRecord matching query does not exist.\n",
      "OccurrenceRecord matching query does not exist.\n",
      "OccurrenceRecord matching query does not exist.\n",
      "OccurrenceRecord matching query does not exist.\n",
      "OccurrenceRecord matching query does not exist.\n",
      "OccurrenceRecord matching query does not exist.\n",
      "OccurrenceRecord matching query does not exist.\n",
      "OccurrenceRecord matching query does not exist.\n",
      "OccurrenceRecord matching query does not exist.\n",
      "OccurrenceRecord matching query does not exist.\n",
      "OccurrenceRecord matching query does not exist.\n",
      "OccurrenceRecord matching query does not exist.\n",
      "OccurrenceRecord matching query does not exist.\n",
      "OccurrenceRecord matching query does not exist.\n",
      "OccurrenceRecord matching query does not exist.\n",
      "OccurrenceRecord matching query does not exist.\n",
      "OccurrenceRecord matching query does not exist.\n",
      "OccurrenceRecord matching query does not exist.\n",
      "OccurrenceRecord matching query does not exist.\n",
      "OccurrenceRecord matching query does not exist.\n",
      "OccurrenceRecord matching query does not exist.\n",
      "OccurrenceRecord matching query does not exist.\n",
      "OccurrenceRecord matching query does not exist.\n",
      "OccurrenceRecord matching query does not exist.\n",
      "OccurrenceRecord matching query does not exist.\n",
      "OccurrenceRecord matching query does not exist.\n",
      "OccurrenceRecord matching query does not exist.\n",
      "OccurrenceRecord matching query does not exist.\n",
      "OccurrenceRecord matching query does not exist.\n",
      "OccurrenceRecord matching query does not exist.\n",
      "OccurrenceRecord matching query does not exist.\n",
      "OccurrenceRecord matching query does not exist.\n",
      "OccurrenceRecord matching query does not exist.\n",
      "OccurrenceRecord matching query does not exist.\n",
      "OccurrenceRecord matching query does not exist.\n",
      "OccurrenceRecord matching query does not exist.\n",
      "OccurrenceRecord matching query does not exist.\n",
      "OccurrenceRecord matching query does not exist.\n",
      "OccurrenceRecord matching query does not exist.\n",
      "OccurrenceRecord matching query does not exist.\n",
      "OccurrenceRecord matching query does not exist.\n",
      "OccurrenceRecord matching query does not exist.\n",
      "OccurrenceRecord matching query does not exist.\n",
      "OccurrenceRecord matching query does not exist.\n",
      "OccurrenceRecord matching query does not exist.\n",
      "OccurrenceRecord matching query does not exist.\n",
      "OccurrenceRecord matching query does not exist.\n",
      "OccurrenceRecord matching query does not exist.\n",
      "OccurrenceRecord matching query does not exist.\n",
      "OccurrenceRecord matching query does not exist.\n",
      "OccurrenceRecord matching query does not exist.\n"
     ]
    },
    {
     "name": "stdout",
     "output_type": "stream",
     "text": [
      "OccurrenceRecord matching query does not exist.\n",
      "OccurrenceRecord matching query does not exist.\n",
      "OccurrenceRecord matching query does not exist.\n",
      "OccurrenceRecord matching query does not exist.\n",
      "OccurrenceRecord matching query does not exist.\n",
      "OccurrenceRecord matching query does not exist.\n",
      "OccurrenceRecord matching query does not exist.\n",
      "OccurrenceRecord matching query does not exist.\n",
      "OccurrenceRecord matching query does not exist.\n",
      "OccurrenceRecord matching query does not exist.\n",
      "OccurrenceRecord matching query does not exist.\n",
      "OccurrenceRecord matching query does not exist.\n",
      "OccurrenceRecord matching query does not exist.\n",
      "OccurrenceRecord matching query does not exist.\n",
      "OccurrenceRecord matching query does not exist.\n",
      "OccurrenceRecord matching query does not exist.\n",
      "OccurrenceRecord matching query does not exist.\n",
      "OccurrenceRecord matching query does not exist.\n",
      "OccurrenceRecord matching query does not exist.\n",
      "OccurrenceRecord matching query does not exist.\n",
      "OccurrenceRecord matching query does not exist.\n",
      "OccurrenceRecord matching query does not exist.\n",
      "OccurrenceRecord matching query does not exist.\n",
      "OccurrenceRecord matching query does not exist.\n",
      "OccurrenceRecord matching query does not exist.\n",
      "OccurrenceRecord matching query does not exist.\n",
      "OccurrenceRecord matching query does not exist.\n",
      "OccurrenceRecord matching query does not exist.\n",
      "OccurrenceRecord matching query does not exist.\n",
      "OccurrenceRecord matching query does not exist.\n",
      "OccurrenceRecord matching query does not exist.\n",
      "OccurrenceRecord matching query does not exist.\n",
      "OccurrenceRecord matching query does not exist.\n",
      "OccurrenceRecord matching query does not exist.\n",
      "OccurrenceRecord matching query does not exist.\n",
      "OccurrenceRecord matching query does not exist.\n",
      "OccurrenceRecord matching query does not exist.\n",
      "OccurrenceRecord matching query does not exist.\n",
      "OccurrenceRecord matching query does not exist.\n",
      "OccurrenceRecord matching query does not exist.\n",
      "OccurrenceRecord matching query does not exist.\n",
      "OccurrenceRecord matching query does not exist.\n",
      "OccurrenceRecord matching query does not exist.\n",
      "OccurrenceRecord matching query does not exist.\n",
      "OccurrenceRecord matching query does not exist.\n",
      "OccurrenceRecord matching query does not exist.\n",
      "OccurrenceRecord matching query does not exist.\n",
      "OccurrenceRecord matching query does not exist.\n",
      "OccurrenceRecord matching query does not exist.\n",
      "OccurrenceRecord matching query does not exist.\n",
      "[\"'04/09/2020 /\\n09/07/2021' valor tem um formato inválido. Ele deve estar no formato AAAA-MM-DD HH: MM [:. Ss [uuuuuu]] [TZ].\"]\n",
      "OccurrenceRecord matching query does not exist.\n",
      "OccurrenceRecord matching query does not exist.\n",
      "OccurrenceRecord matching query does not exist.\n",
      "OccurrenceRecord matching query does not exist.\n",
      "OccurrenceRecord matching query does not exist.\n",
      "OccurrenceRecord matching query does not exist.\n",
      "OccurrenceRecord matching query does not exist.\n",
      "OccurrenceRecord matching query does not exist.\n",
      "OccurrenceRecord matching query does not exist.\n",
      "OccurrenceRecord matching query does not exist.\n",
      "OccurrenceRecord matching query does not exist.\n",
      "OccurrenceRecord matching query does not exist.\n",
      "OccurrenceRecord matching query does not exist.\n",
      "OccurrenceRecord matching query does not exist.\n",
      "OccurrenceRecord matching query does not exist.\n",
      "OccurrenceRecord matching query does not exist.\n",
      "OccurrenceRecord matching query does not exist.\n",
      "OccurrenceRecord matching query does not exist.\n",
      "OccurrenceRecord matching query does not exist.\n",
      "OccurrenceRecord matching query does not exist.\n",
      "OccurrenceRecord matching query does not exist.\n",
      "OccurrenceRecord matching query does not exist.\n",
      "OccurrenceRecord matching query does not exist.\n",
      "OccurrenceRecord matching query does not exist.\n",
      "OccurrenceRecord matching query does not exist.\n",
      "OccurrenceRecord matching query does not exist.\n",
      "OccurrenceRecord matching query does not exist.\n",
      "OccurrenceRecord matching query does not exist.\n",
      "OccurrenceRecord matching query does not exist.\n",
      "OccurrenceRecord matching query does not exist.\n",
      "OccurrenceRecord matching query does not exist.\n",
      "OccurrenceRecord matching query does not exist.\n",
      "OccurrenceRecord matching query does not exist.\n",
      "OccurrenceRecord matching query does not exist.\n",
      "OccurrenceRecord matching query does not exist.\n",
      "OccurrenceRecord matching query does not exist.\n",
      "OccurrenceRecord matching query does not exist.\n",
      "OccurrenceRecord matching query does not exist.\n",
      "OccurrenceRecord matching query does not exist.\n",
      "OccurrenceRecord matching query does not exist.\n",
      "OccurrenceRecord matching query does not exist.\n",
      "OccurrenceRecord matching query does not exist.\n",
      "OccurrenceRecord matching query does not exist.\n",
      "OccurrenceRecord matching query does not exist.\n",
      "OccurrenceRecord matching query does not exist.\n",
      "OccurrenceRecord matching query does not exist.\n",
      "OccurrenceRecord matching query does not exist.\n",
      "OccurrenceRecord matching query does not exist.\n",
      "OccurrenceRecord matching query does not exist.\n",
      "OccurrenceRecord matching query does not exist.\n",
      "OccurrenceRecord matching query does not exist.\n",
      "OccurrenceRecord matching query does not exist.\n",
      "OccurrenceRecord matching query does not exist.\n",
      "OccurrenceRecord matching query does not exist.\n",
      "OccurrenceRecord matching query does not exist.\n",
      "OccurrenceRecord matching query does not exist.\n",
      "OccurrenceRecord matching query does not exist.\n",
      "OccurrenceRecord matching query does not exist.\n",
      "OccurrenceRecord matching query does not exist.\n",
      "OccurrenceRecord matching query does not exist.\n",
      "OccurrenceRecord matching query does not exist.\n",
      "OccurrenceRecord matching query does not exist.\n",
      "OccurrenceRecord matching query does not exist.\n",
      "OccurrenceRecord matching query does not exist.\n",
      "OccurrenceRecord matching query does not exist.\n",
      "OccurrenceRecord matching query does not exist.\n",
      "OccurrenceRecord matching query does not exist.\n",
      "OccurrenceRecord matching query does not exist.\n",
      "OccurrenceRecord matching query does not exist.\n",
      "OccurrenceRecord matching query does not exist.\n",
      "OccurrenceRecord matching query does not exist.\n",
      "OccurrenceRecord matching query does not exist.\n",
      "OccurrenceRecord matching query does not exist.\n",
      "OccurrenceRecord matching query does not exist.\n",
      "OccurrenceRecord matching query does not exist.\n",
      "OccurrenceRecord matching query does not exist.\n",
      "OccurrenceRecord matching query does not exist.\n",
      "OccurrenceRecord matching query does not exist.\n",
      "OccurrenceRecord matching query does not exist.\n",
      "OccurrenceRecord matching query does not exist.\n",
      "OccurrenceRecord matching query does not exist.\n",
      "OccurrenceRecord matching query does not exist.\n",
      "OccurrenceRecord matching query does not exist.\n",
      "OccurrenceRecord matching query does not exist.\n",
      "OccurrenceRecord matching query does not exist.\n",
      "OccurrenceRecord matching query does not exist.\n",
      "OccurrenceRecord matching query does not exist.\n",
      "OccurrenceRecord matching query does not exist.\n",
      "OccurrenceRecord matching query does not exist.\n",
      "OccurrenceRecord matching query does not exist.\n",
      "OccurrenceRecord matching query does not exist.\n",
      "OccurrenceRecord matching query does not exist.\n",
      "OccurrenceRecord matching query does not exist.\n",
      "OccurrenceRecord matching query does not exist.\n",
      "OccurrenceRecord matching query does not exist.\n",
      "OccurrenceRecord matching query does not exist.\n",
      "OccurrenceRecord matching query does not exist.\n",
      "OccurrenceRecord matching query does not exist.\n",
      "OccurrenceRecord matching query does not exist.\n",
      "OccurrenceRecord matching query does not exist.\n",
      "OccurrenceRecord matching query does not exist.\n",
      "OccurrenceRecord matching query does not exist.\n",
      "OccurrenceRecord matching query does not exist.\n",
      "OccurrenceRecord matching query does not exist.\n",
      "OccurrenceRecord matching query does not exist.\n",
      "OccurrenceRecord matching query does not exist.\n",
      "OccurrenceRecord matching query does not exist.\n",
      "OccurrenceRecord matching query does not exist.\n",
      "OccurrenceRecord matching query does not exist.\n",
      "OccurrenceRecord matching query does not exist.\n",
      "OccurrenceRecord matching query does not exist.\n",
      "OccurrenceRecord matching query does not exist.\n",
      "OccurrenceRecord matching query does not exist.\n",
      "OccurrenceRecord matching query does not exist.\n",
      "OccurrenceRecord matching query does not exist.\n",
      "OccurrenceRecord matching query does not exist.\n",
      "OccurrenceRecord matching query does not exist.\n",
      "OccurrenceRecord matching query does not exist.\n",
      "OccurrenceRecord matching query does not exist.\n"
     ]
    },
    {
     "name": "stdout",
     "output_type": "stream",
     "text": [
      "OccurrenceRecord matching query does not exist.\n",
      "OccurrenceRecord matching query does not exist.\n",
      "OccurrenceRecord matching query does not exist.\n",
      "OccurrenceRecord matching query does not exist.\n",
      "OccurrenceRecord matching query does not exist.\n",
      "OccurrenceRecord matching query does not exist.\n",
      "OccurrenceRecord matching query does not exist.\n",
      "OccurrenceRecord matching query does not exist.\n",
      "OccurrenceRecord matching query does not exist.\n",
      "OccurrenceRecord matching query does not exist.\n",
      "OccurrenceRecord matching query does not exist.\n",
      "OccurrenceRecord matching query does not exist.\n",
      "OccurrenceRecord matching query does not exist.\n",
      "OccurrenceRecord matching query does not exist.\n",
      "OccurrenceRecord matching query does not exist.\n",
      "OccurrenceRecord matching query does not exist.\n",
      "OccurrenceRecord matching query does not exist.\n",
      "OccurrenceRecord matching query does not exist.\n",
      "OccurrenceRecord matching query does not exist.\n",
      "OccurrenceRecord matching query does not exist.\n",
      "OccurrenceRecord matching query does not exist.\n",
      "OccurrenceRecord matching query does not exist.\n",
      "OccurrenceRecord matching query does not exist.\n",
      "OccurrenceRecord matching query does not exist.\n",
      "OccurrenceRecord matching query does not exist.\n",
      "OccurrenceRecord matching query does not exist.\n",
      "OccurrenceRecord matching query does not exist.\n",
      "OccurrenceRecord matching query does not exist.\n",
      "OccurrenceRecord matching query does not exist.\n",
      "OccurrenceRecord matching query does not exist.\n",
      "OccurrenceRecord matching query does not exist.\n",
      "OccurrenceRecord matching query does not exist.\n",
      "OccurrenceRecord matching query does not exist.\n",
      "OccurrenceRecord matching query does not exist.\n",
      "OccurrenceRecord matching query does not exist.\n",
      "OccurrenceRecord matching query does not exist.\n",
      "OccurrenceRecord matching query does not exist.\n",
      "OccurrenceRecord matching query does not exist.\n",
      "OccurrenceRecord matching query does not exist.\n",
      "OccurrenceRecord matching query does not exist.\n",
      "OccurrenceRecord matching query does not exist.\n",
      "OccurrenceRecord matching query does not exist.\n",
      "OccurrenceRecord matching query does not exist.\n",
      "OccurrenceRecord matching query does not exist.\n",
      "OccurrenceRecord matching query does not exist.\n",
      "OccurrenceRecord matching query does not exist.\n",
      "OccurrenceRecord matching query does not exist.\n",
      "OccurrenceRecord matching query does not exist.\n",
      "OccurrenceRecord matching query does not exist.\n",
      "OccurrenceRecord matching query does not exist.\n",
      "OccurrenceRecord matching query does not exist.\n",
      "OccurrenceRecord matching query does not exist.\n",
      "OccurrenceRecord matching query does not exist.\n",
      "OccurrenceRecord matching query does not exist.\n",
      "OccurrenceRecord matching query does not exist.\n",
      "OccurrenceRecord matching query does not exist.\n",
      "OccurrenceRecord matching query does not exist.\n",
      "OccurrenceRecord matching query does not exist.\n",
      "OccurrenceRecord matching query does not exist.\n",
      "OccurrenceRecord matching query does not exist.\n",
      "OccurrenceRecord matching query does not exist.\n",
      "OccurrenceRecord matching query does not exist.\n",
      "OccurrenceRecord matching query does not exist.\n",
      "OccurrenceRecord matching query does not exist.\n",
      "OccurrenceRecord matching query does not exist.\n",
      "OccurrenceRecord matching query does not exist.\n",
      "OccurrenceRecord matching query does not exist.\n",
      "OccurrenceRecord matching query does not exist.\n",
      "OccurrenceRecord matching query does not exist.\n",
      "OccurrenceRecord matching query does not exist.\n",
      "OccurrenceRecord matching query does not exist.\n",
      "OccurrenceRecord matching query does not exist.\n",
      "OccurrenceRecord matching query does not exist.\n",
      "OccurrenceRecord matching query does not exist.\n",
      "OccurrenceRecord matching query does not exist.\n",
      "OccurrenceRecord matching query does not exist.\n",
      "OccurrenceRecord matching query does not exist.\n",
      "OccurrenceRecord matching query does not exist.\n",
      "OccurrenceRecord matching query does not exist.\n",
      "OccurrenceRecord matching query does not exist.\n",
      "OccurrenceRecord matching query does not exist.\n",
      "OccurrenceRecord matching query does not exist.\n",
      "OccurrenceRecord matching query does not exist.\n",
      "OccurrenceRecord matching query does not exist.\n",
      "OccurrenceRecord matching query does not exist.\n",
      "OccurrenceRecord matching query does not exist.\n",
      "OccurrenceRecord matching query does not exist.\n",
      "OccurrenceRecord matching query does not exist.\n",
      "OccurrenceRecord matching query does not exist.\n",
      "OccurrenceRecord matching query does not exist.\n",
      "OccurrenceRecord matching query does not exist.\n",
      "OccurrenceRecord matching query does not exist.\n",
      "OccurrenceRecord matching query does not exist.\n",
      "OccurrenceRecord matching query does not exist.\n",
      "OccurrenceRecord matching query does not exist.\n",
      "OccurrenceRecord matching query does not exist.\n",
      "OccurrenceRecord matching query does not exist.\n",
      "OccurrenceRecord matching query does not exist.\n",
      "OccurrenceRecord matching query does not exist.\n",
      "OccurrenceRecord matching query does not exist.\n",
      "OccurrenceRecord matching query does not exist.\n",
      "OccurrenceRecord matching query does not exist.\n",
      "OccurrenceRecord matching query does not exist.\n",
      "OccurrenceRecord matching query does not exist.\n",
      "OccurrenceRecord matching query does not exist.\n",
      "OccurrenceRecord matching query does not exist.\n",
      "OccurrenceRecord matching query does not exist.\n",
      "OccurrenceRecord matching query does not exist.\n",
      "OccurrenceRecord matching query does not exist.\n",
      "OccurrenceRecord matching query does not exist.\n",
      "OccurrenceRecord matching query does not exist.\n",
      "OccurrenceRecord matching query does not exist.\n",
      "OccurrenceRecord matching query does not exist.\n",
      "OccurrenceRecord matching query does not exist.\n",
      "OccurrenceRecord matching query does not exist.\n",
      "OccurrenceRecord matching query does not exist.\n",
      "OccurrenceRecord matching query does not exist.\n",
      "OccurrenceRecord matching query does not exist.\n",
      "OccurrenceRecord matching query does not exist.\n",
      "OccurrenceRecord matching query does not exist.\n",
      "OccurrenceRecord matching query does not exist.\n",
      "OccurrenceRecord matching query does not exist.\n",
      "OccurrenceRecord matching query does not exist.\n",
      "OccurrenceRecord matching query does not exist.\n",
      "OccurrenceRecord matching query does not exist.\n",
      "OccurrenceRecord matching query does not exist.\n",
      "OccurrenceRecord matching query does not exist.\n",
      "OccurrenceRecord matching query does not exist.\n",
      "OccurrenceRecord matching query does not exist.\n",
      "OccurrenceRecord matching query does not exist.\n",
      "OccurrenceRecord matching query does not exist.\n",
      "OccurrenceRecord matching query does not exist.\n",
      "OccurrenceRecord matching query does not exist.\n",
      "OccurrenceRecord matching query does not exist.\n",
      "OccurrenceRecord matching query does not exist.\n",
      "OccurrenceRecord matching query does not exist.\n",
      "OccurrenceRecord matching query does not exist.\n",
      "OccurrenceRecord matching query does not exist.\n",
      "OccurrenceRecord matching query does not exist.\n",
      "OccurrenceRecord matching query does not exist.\n",
      "OccurrenceRecord matching query does not exist.\n",
      "OccurrenceRecord matching query does not exist.\n",
      "OccurrenceRecord matching query does not exist.\n",
      "OccurrenceRecord matching query does not exist.\n",
      "OccurrenceRecord matching query does not exist.\n",
      "OccurrenceRecord matching query does not exist.\n",
      "OccurrenceRecord matching query does not exist.\n",
      "OccurrenceRecord matching query does not exist.\n",
      "OccurrenceRecord matching query does not exist.\n",
      "OccurrenceRecord matching query does not exist.\n",
      "OccurrenceRecord matching query does not exist.\n",
      "OccurrenceRecord matching query does not exist.\n",
      "OccurrenceRecord matching query does not exist.\n",
      "OccurrenceRecord matching query does not exist.\n",
      "OccurrenceRecord matching query does not exist.\n",
      "OccurrenceRecord matching query does not exist.\n",
      "OccurrenceRecord matching query does not exist.\n",
      "OccurrenceRecord matching query does not exist.\n",
      "OccurrenceRecord matching query does not exist.\n",
      "OccurrenceRecord matching query does not exist.\n",
      "OccurrenceRecord matching query does not exist.\n",
      "OccurrenceRecord matching query does not exist.\n",
      "OccurrenceRecord matching query does not exist.\n",
      "OccurrenceRecord matching query does not exist.\n",
      "OccurrenceRecord matching query does not exist.\n",
      "OccurrenceRecord matching query does not exist.\n",
      "OccurrenceRecord matching query does not exist.\n",
      "OccurrenceRecord matching query does not exist.\n",
      "OccurrenceRecord matching query does not exist.\n",
      "OccurrenceRecord matching query does not exist.\n",
      "OccurrenceRecord matching query does not exist.\n",
      "OccurrenceRecord matching query does not exist.\n",
      "OccurrenceRecord matching query does not exist.\n",
      "OccurrenceRecord matching query does not exist.\n",
      "OccurrenceRecord matching query does not exist.\n"
     ]
    },
    {
     "name": "stdout",
     "output_type": "stream",
     "text": [
      "OccurrenceRecord matching query does not exist.\n",
      "OccurrenceRecord matching query does not exist.\n",
      "OccurrenceRecord matching query does not exist.\n",
      "OccurrenceRecord matching query does not exist.\n",
      "OccurrenceRecord matching query does not exist.\n",
      "OccurrenceRecord matching query does not exist.\n",
      "OccurrenceRecord matching query does not exist.\n",
      "OccurrenceRecord matching query does not exist.\n",
      "OccurrenceRecord matching query does not exist.\n",
      "OccurrenceRecord matching query does not exist.\n",
      "OccurrenceRecord matching query does not exist.\n",
      "OccurrenceRecord matching query does not exist.\n",
      "OccurrenceRecord matching query does not exist.\n",
      "OccurrenceRecord matching query does not exist.\n",
      "OccurrenceRecord matching query does not exist.\n",
      "OccurrenceRecord matching query does not exist.\n",
      "OccurrenceRecord matching query does not exist.\n",
      "OccurrenceRecord matching query does not exist.\n",
      "OccurrenceRecord matching query does not exist.\n",
      "OccurrenceRecord matching query does not exist.\n"
     ]
    }
   ],
   "source": [
    "rep_edit=[]\n",
    "erros=[]\n",
    "for a in tqdm(values):\n",
    "    \n",
    "    \"\"\"Geometria\"\"\"\n",
    "    properties=[]\n",
    "    if a['Coordenada X'] is not None and '23' in str(a['Fuso']).strip() :\n",
    "        point=transform_coordinates(a['Coordenada X'], a['Coordenada Y'],srid=31983)\n",
    "    else:\n",
    "        point=transform_coordinates(a['Coordenada X'], a['Coordenada Y']) if a['Coordenada X'] is not None else None\n",
    "#     point=transform_coordinates(a['Coordenada X'], a['Coordenada Y']) if a['Coordenada X'] is not None else None\n",
    "    geometry=GeometryCollection()\n",
    "    geometry.append(point) if a['Coordenada X'] is not None else None\n",
    "#     properties.append({})\n",
    "    try:\n",
    "        record=OccurrenceRecord.objects.get(company=company,\n",
    "                                    firm=firm,\n",
    "                                    status=ServiceOrderActionStatus.objects.get(name=a['Status'].replace('elaboração','Elaboração'), companies=company),\n",
    "                                    approval_step=ApprovalStep.objects.get(approval_flow__company=company, name=a['Status'].replace('elaboração','Elaboração')),\n",
    "                                    datetime=a['Data do registro'] if a['Data do registro'] is not None else None,\n",
    "                                    uf_code=get_uf(a['Município'].split('/')[1]),\n",
    "                                    city=City.objects.get(name=a['Município'].split('/')[0]),\n",
    "                                    occurrence_type=occ,\n",
    "                                    created_by=user,\n",
    "                                    geometry=geometry,\n",
    "#                                     properties=properties,\n",
    "                                    origin=\"5\")\n",
    "        record.properties=[{\"label\":a['N. da Invasão']}]\n",
    "        \n",
    "        rep_edit.append(a)\n",
    "    except Exception as e:\n",
    "        erros.append(a)\n",
    "        print(e)"
   ]
  },
  {
   "cell_type": "code",
   "execution_count": 25,
   "id": "d4985cec",
   "metadata": {},
   "outputs": [
    {
     "data": {
      "text/plain": [
       "(332, 693)"
      ]
     },
     "execution_count": 25,
     "metadata": {},
     "output_type": "execute_result"
    }
   ],
   "source": [
    "len(rep_edit),len(erros)"
   ]
  },
  {
   "cell_type": "code",
   "execution_count": 85,
   "id": "ee9e5cf1",
   "metadata": {
    "collapsed": true
   },
   "outputs": [
    {
     "data": {
      "application/vnd.jupyter.widget-view+json": {
       "model_id": "182fe31b464242a0a93b69b69079c6dc",
       "version_major": 2,
       "version_minor": 0
      },
      "text/plain": [
       "  0%|          | 0/395 [00:00<?, ?it/s]"
      ]
     },
     "metadata": {},
     "output_type": "display_data"
    },
    {
     "ename": "KeyboardInterrupt",
     "evalue": "",
     "output_type": "error",
     "traceback": [
      "\u001b[0;31m---------------------------------------------------------------------------\u001b[0m",
      "\u001b[0;31mKeyboardInterrupt\u001b[0m                         Traceback (most recent call last)",
      "\u001b[0;32m/tmp/ipykernel_32351/1307319122.py\u001b[0m in \u001b[0;36m<module>\u001b[0;34m\u001b[0m\n\u001b[1;32m     15\u001b[0m \u001b[0;34m\u001b[0m\u001b[0m\n\u001b[1;32m     16\u001b[0m         \u001b[0mrecord\u001b[0m\u001b[0;34m.\u001b[0m\u001b[0mproperties\u001b[0m\u001b[0;34m=\u001b[0m\u001b[0;34m[\u001b[0m\u001b[0;34m{\u001b[0m\u001b[0;34m\"label\"\u001b[0m\u001b[0;34m:\u001b[0m\u001b[0ma\u001b[0m\u001b[0;34m[\u001b[0m\u001b[0;34m'N. da Invasão'\u001b[0m\u001b[0;34m]\u001b[0m\u001b[0;34m}\u001b[0m\u001b[0;34m]\u001b[0m\u001b[0;34m\u001b[0m\u001b[0;34m\u001b[0m\u001b[0m\n\u001b[0;32m---> 17\u001b[0;31m         \u001b[0mrecord\u001b[0m\u001b[0;34m.\u001b[0m\u001b[0msave\u001b[0m\u001b[0;34m(\u001b[0m\u001b[0;34m)\u001b[0m\u001b[0;34m\u001b[0m\u001b[0;34m\u001b[0m\u001b[0m\n\u001b[0m\u001b[1;32m     18\u001b[0m     \u001b[0;32mexcept\u001b[0m \u001b[0mException\u001b[0m \u001b[0;32mas\u001b[0m \u001b[0me\u001b[0m\u001b[0;34m:\u001b[0m\u001b[0;34m\u001b[0m\u001b[0;34m\u001b[0m\u001b[0m\n\u001b[1;32m     19\u001b[0m         \u001b[0merros\u001b[0m\u001b[0;34m.\u001b[0m\u001b[0mappend\u001b[0m\u001b[0;34m(\u001b[0m\u001b[0ma\u001b[0m\u001b[0;34m)\u001b[0m\u001b[0;34m\u001b[0m\u001b[0;34m\u001b[0m\u001b[0m\n",
      "\u001b[0;32m~/kartado-backend/apps/occurrence_records/models.py\u001b[0m in \u001b[0;36msave\u001b[0;34m(self, *args, **kwargs)\u001b[0m\n\u001b[1;32m    323\u001b[0m                                     \u001b[0;32mpass\u001b[0m\u001b[0;34m\u001b[0m\u001b[0;34m\u001b[0m\u001b[0m\n\u001b[1;32m    324\u001b[0m \u001b[0;34m\u001b[0m\u001b[0m\n\u001b[0;32m--> 325\u001b[0;31m         \u001b[0msuper\u001b[0m\u001b[0;34m(\u001b[0m\u001b[0mOccurrenceRecord\u001b[0m\u001b[0;34m,\u001b[0m \u001b[0mself\u001b[0m\u001b[0;34m)\u001b[0m\u001b[0;34m.\u001b[0m\u001b[0msave\u001b[0m\u001b[0;34m(\u001b[0m\u001b[0;34m*\u001b[0m\u001b[0margs\u001b[0m\u001b[0;34m,\u001b[0m \u001b[0;34m**\u001b[0m\u001b[0mkwargs\u001b[0m\u001b[0;34m)\u001b[0m\u001b[0;34m\u001b[0m\u001b[0;34m\u001b[0m\u001b[0m\n\u001b[0m\u001b[1;32m    326\u001b[0m \u001b[0;34m\u001b[0m\u001b[0m\n\u001b[1;32m    327\u001b[0m     \u001b[0;34m@\u001b[0m\u001b[0mproperty\u001b[0m\u001b[0;34m\u001b[0m\u001b[0;34m\u001b[0m\u001b[0m\n",
      "\u001b[0;32m~/.cache/pypoetry/virtualenvs/apps-ZFymp6kh-py3.7/lib/python3.7/site-packages/django/db/models/base.py\u001b[0m in \u001b[0;36msave\u001b[0;34m(self, force_insert, force_update, using, update_fields)\u001b[0m\n\u001b[1;32m    742\u001b[0m \u001b[0;34m\u001b[0m\u001b[0m\n\u001b[1;32m    743\u001b[0m         self.save_base(using=using, force_insert=force_insert,\n\u001b[0;32m--> 744\u001b[0;31m                        force_update=force_update, update_fields=update_fields)\n\u001b[0m\u001b[1;32m    745\u001b[0m     \u001b[0msave\u001b[0m\u001b[0;34m.\u001b[0m\u001b[0malters_data\u001b[0m \u001b[0;34m=\u001b[0m \u001b[0;32mTrue\u001b[0m\u001b[0;34m\u001b[0m\u001b[0;34m\u001b[0m\u001b[0m\n\u001b[1;32m    746\u001b[0m \u001b[0;34m\u001b[0m\u001b[0m\n",
      "\u001b[0;32m~/.cache/pypoetry/virtualenvs/apps-ZFymp6kh-py3.7/lib/python3.7/site-packages/django/db/models/base.py\u001b[0m in \u001b[0;36msave_base\u001b[0;34m(self, raw, force_insert, force_update, using, update_fields)\u001b[0m\n\u001b[1;32m    791\u001b[0m             post_save.send(\n\u001b[1;32m    792\u001b[0m                 \u001b[0msender\u001b[0m\u001b[0;34m=\u001b[0m\u001b[0morigin\u001b[0m\u001b[0;34m,\u001b[0m \u001b[0minstance\u001b[0m\u001b[0;34m=\u001b[0m\u001b[0mself\u001b[0m\u001b[0;34m,\u001b[0m \u001b[0mcreated\u001b[0m\u001b[0;34m=\u001b[0m\u001b[0;34m(\u001b[0m\u001b[0;32mnot\u001b[0m \u001b[0mupdated\u001b[0m\u001b[0;34m)\u001b[0m\u001b[0;34m,\u001b[0m\u001b[0;34m\u001b[0m\u001b[0;34m\u001b[0m\u001b[0m\n\u001b[0;32m--> 793\u001b[0;31m                 \u001b[0mupdate_fields\u001b[0m\u001b[0;34m=\u001b[0m\u001b[0mupdate_fields\u001b[0m\u001b[0;34m,\u001b[0m \u001b[0mraw\u001b[0m\u001b[0;34m=\u001b[0m\u001b[0mraw\u001b[0m\u001b[0;34m,\u001b[0m \u001b[0musing\u001b[0m\u001b[0;34m=\u001b[0m\u001b[0musing\u001b[0m\u001b[0;34m,\u001b[0m\u001b[0;34m\u001b[0m\u001b[0;34m\u001b[0m\u001b[0m\n\u001b[0m\u001b[1;32m    794\u001b[0m             )\n\u001b[1;32m    795\u001b[0m \u001b[0;34m\u001b[0m\u001b[0m\n",
      "\u001b[0;32m~/.cache/pypoetry/virtualenvs/apps-ZFymp6kh-py3.7/lib/python3.7/site-packages/django/dispatch/dispatcher.py\u001b[0m in \u001b[0;36msend\u001b[0;34m(self, sender, **named)\u001b[0m\n\u001b[1;32m    173\u001b[0m         return [\n\u001b[1;32m    174\u001b[0m             \u001b[0;34m(\u001b[0m\u001b[0mreceiver\u001b[0m\u001b[0;34m,\u001b[0m \u001b[0mreceiver\u001b[0m\u001b[0;34m(\u001b[0m\u001b[0msignal\u001b[0m\u001b[0;34m=\u001b[0m\u001b[0mself\u001b[0m\u001b[0;34m,\u001b[0m \u001b[0msender\u001b[0m\u001b[0;34m=\u001b[0m\u001b[0msender\u001b[0m\u001b[0;34m,\u001b[0m \u001b[0;34m**\u001b[0m\u001b[0mnamed\u001b[0m\u001b[0;34m)\u001b[0m\u001b[0;34m)\u001b[0m\u001b[0;34m\u001b[0m\u001b[0;34m\u001b[0m\u001b[0m\n\u001b[0;32m--> 175\u001b[0;31m             \u001b[0;32mfor\u001b[0m \u001b[0mreceiver\u001b[0m \u001b[0;32min\u001b[0m \u001b[0mself\u001b[0m\u001b[0;34m.\u001b[0m\u001b[0m_live_receivers\u001b[0m\u001b[0;34m(\u001b[0m\u001b[0msender\u001b[0m\u001b[0;34m)\u001b[0m\u001b[0;34m\u001b[0m\u001b[0;34m\u001b[0m\u001b[0m\n\u001b[0m\u001b[1;32m    176\u001b[0m         ]\n\u001b[1;32m    177\u001b[0m \u001b[0;34m\u001b[0m\u001b[0m\n",
      "\u001b[0;32m~/.cache/pypoetry/virtualenvs/apps-ZFymp6kh-py3.7/lib/python3.7/site-packages/django/dispatch/dispatcher.py\u001b[0m in \u001b[0;36m<listcomp>\u001b[0;34m(.0)\u001b[0m\n\u001b[1;32m    173\u001b[0m         return [\n\u001b[1;32m    174\u001b[0m             \u001b[0;34m(\u001b[0m\u001b[0mreceiver\u001b[0m\u001b[0;34m,\u001b[0m \u001b[0mreceiver\u001b[0m\u001b[0;34m(\u001b[0m\u001b[0msignal\u001b[0m\u001b[0;34m=\u001b[0m\u001b[0mself\u001b[0m\u001b[0;34m,\u001b[0m \u001b[0msender\u001b[0m\u001b[0;34m=\u001b[0m\u001b[0msender\u001b[0m\u001b[0;34m,\u001b[0m \u001b[0;34m**\u001b[0m\u001b[0mnamed\u001b[0m\u001b[0;34m)\u001b[0m\u001b[0;34m)\u001b[0m\u001b[0;34m\u001b[0m\u001b[0;34m\u001b[0m\u001b[0m\n\u001b[0;32m--> 175\u001b[0;31m             \u001b[0;32mfor\u001b[0m \u001b[0mreceiver\u001b[0m \u001b[0;32min\u001b[0m \u001b[0mself\u001b[0m\u001b[0;34m.\u001b[0m\u001b[0m_live_receivers\u001b[0m\u001b[0;34m(\u001b[0m\u001b[0msender\u001b[0m\u001b[0;34m)\u001b[0m\u001b[0;34m\u001b[0m\u001b[0;34m\u001b[0m\u001b[0m\n\u001b[0m\u001b[1;32m    176\u001b[0m         ]\n\u001b[1;32m    177\u001b[0m \u001b[0;34m\u001b[0m\u001b[0m\n",
      "\u001b[0;32m~/.cache/pypoetry/virtualenvs/apps-ZFymp6kh-py3.7/lib/python3.7/site-packages/sentry_sdk/integrations/django/signals_handlers.py\u001b[0m in \u001b[0;36mwrapper\u001b[0;34m(*args, **kwargs)\u001b[0m\n\u001b[1;32m     63\u001b[0m                 ) as span:\n\u001b[1;32m     64\u001b[0m                     \u001b[0mspan\u001b[0m\u001b[0;34m.\u001b[0m\u001b[0mset_data\u001b[0m\u001b[0;34m(\u001b[0m\u001b[0;34m\"signal\"\u001b[0m\u001b[0;34m,\u001b[0m \u001b[0msignal_name\u001b[0m\u001b[0;34m)\u001b[0m\u001b[0;34m\u001b[0m\u001b[0;34m\u001b[0m\u001b[0m\n\u001b[0;32m---> 65\u001b[0;31m                     \u001b[0;32mreturn\u001b[0m \u001b[0mreceiver\u001b[0m\u001b[0;34m(\u001b[0m\u001b[0;34m*\u001b[0m\u001b[0margs\u001b[0m\u001b[0;34m,\u001b[0m \u001b[0;34m**\u001b[0m\u001b[0mkwargs\u001b[0m\u001b[0;34m)\u001b[0m\u001b[0;34m\u001b[0m\u001b[0;34m\u001b[0m\u001b[0m\n\u001b[0m\u001b[1;32m     66\u001b[0m \u001b[0;34m\u001b[0m\u001b[0m\n\u001b[1;32m     67\u001b[0m             \u001b[0;32mreturn\u001b[0m \u001b[0mwrapper\u001b[0m\u001b[0;34m\u001b[0m\u001b[0;34m\u001b[0m\u001b[0m\n",
      "\u001b[0;32m~/kartado-backend/apps/occurrence_records/signals.py\u001b[0m in \u001b[0;36msend_obj_to_api\u001b[0;34m(sender, instance, created, **kwargs)\u001b[0m\n\u001b[1;32m    104\u001b[0m     \u001b[0;32mtry\u001b[0m\u001b[0;34m:\u001b[0m\u001b[0;34m\u001b[0m\u001b[0;34m\u001b[0m\u001b[0m\n\u001b[1;32m    105\u001b[0m         \u001b[0mpossible_path\u001b[0m \u001b[0;34m=\u001b[0m \u001b[0;34m\"operationalcontrol__fields__kind__selectoptions__options\"\u001b[0m\u001b[0;34m\u001b[0m\u001b[0;34m\u001b[0m\u001b[0m\n\u001b[0;32m--> 106\u001b[0;31m         \u001b[0moptions\u001b[0m \u001b[0;34m=\u001b[0m \u001b[0mget_obj_from_path\u001b[0m\u001b[0;34m(\u001b[0m\u001b[0minstance\u001b[0m\u001b[0;34m.\u001b[0m\u001b[0mcompany\u001b[0m\u001b[0;34m.\u001b[0m\u001b[0mcustom_options\u001b[0m\u001b[0;34m,\u001b[0m \u001b[0mpossible_path\u001b[0m\u001b[0;34m)\u001b[0m\u001b[0;34m\u001b[0m\u001b[0;34m\u001b[0m\u001b[0m\n\u001b[0m\u001b[1;32m    107\u001b[0m         kind = {\n\u001b[1;32m    108\u001b[0m             \u001b[0mclean_latin_string\u001b[0m\u001b[0;34m(\u001b[0m\u001b[0mitem\u001b[0m\u001b[0;34m[\u001b[0m\u001b[0;34m\"name\"\u001b[0m\u001b[0;34m]\u001b[0m\u001b[0;34m.\u001b[0m\u001b[0mlower\u001b[0m\u001b[0;34m(\u001b[0m\u001b[0;34m)\u001b[0m\u001b[0;34m)\u001b[0m\u001b[0;34m:\u001b[0m \u001b[0mitem\u001b[0m\u001b[0;34m[\u001b[0m\u001b[0;34m\"value\"\u001b[0m\u001b[0;34m]\u001b[0m \u001b[0;32mfor\u001b[0m \u001b[0mitem\u001b[0m \u001b[0;32min\u001b[0m \u001b[0moptions\u001b[0m\u001b[0;34m\u001b[0m\u001b[0;34m\u001b[0m\u001b[0m\n",
      "\u001b[0;32m~/kartado-backend/helpers/strings.py\u001b[0m in \u001b[0;36mget_obj_from_path\u001b[0;34m(input_dict, possible_path, separator)\u001b[0m\n\u001b[1;32m    391\u001b[0m \u001b[0;34m\u001b[0m\u001b[0m\n\u001b[1;32m    392\u001b[0m \u001b[0;34m\u001b[0m\u001b[0m\n\u001b[0;32m--> 393\u001b[0;31m \u001b[0;32mdef\u001b[0m \u001b[0mget_obj_from_path\u001b[0m\u001b[0;34m(\u001b[0m\u001b[0minput_dict\u001b[0m\u001b[0;34m,\u001b[0m \u001b[0mpossible_path\u001b[0m\u001b[0;34m,\u001b[0m \u001b[0mseparator\u001b[0m\u001b[0;34m=\u001b[0m\u001b[0;34m\"__\"\u001b[0m\u001b[0;34m)\u001b[0m\u001b[0;34m:\u001b[0m\u001b[0;34m\u001b[0m\u001b[0;34m\u001b[0m\u001b[0m\n\u001b[0m\u001b[1;32m    394\u001b[0m     \"\"\"\n\u001b[1;32m    395\u001b[0m     \u001b[0mThis\u001b[0m \u001b[0mfunction\u001b[0m \u001b[0;32mreturn\u001b[0m \u001b[0many\u001b[0m \u001b[0mobj\u001b[0m \u001b[0;32mfrom\u001b[0m \u001b[0ma\u001b[0m \u001b[0mdict\u001b[0m \u001b[0meven\u001b[0m \u001b[0;32mif\u001b[0m \u001b[0mthe\u001b[0m \u001b[0mpossible_path\u001b[0m\u001b[0;34m\u001b[0m\u001b[0;34m\u001b[0m\u001b[0m\n",
      "\u001b[0;31mKeyboardInterrupt\u001b[0m: "
     ]
    }
   ],
   "source": [
    "for a in tqdm(values):\n",
    "\n",
    "    try:\n",
    "        record=OccurrenceRecord.objects.get(company=company,\n",
    "                                    firm=firm,\n",
    "                                    status=ServiceOrderActionStatus.objects.get(name=a['Status'].replace('elaboração','Elaboração'), companies=company),\n",
    "                                    approval_step=ApprovalStep.objects.get(approval_flow__company=company, name=a['Status'].replace('elaboração','Elaboração')),\n",
    "                                    datetime=a['Data do registro'] if a['Data do registro'] is not None else None,\n",
    "                                    uf_code=get_uf(a['Município'].split('/')[1]),\n",
    "                                    city=City.objects.get(name=a['Município'].split('/')[0]),\n",
    "                                    occurrence_type=occ,\n",
    "                                    created_by=user,\n",
    "                                    created_at__gte='2023-10-28',\n",
    "                                    origin=\"5\")\n",
    "\n",
    "        record.properties=[{\"label\":a['N. da Invasão']}]\n",
    "        record.save()\n",
    "    except Exception as e:\n",
    "        erros.append(a)\n",
    "        continue\n",
    "    "
   ]
  },
  {
   "cell_type": "code",
   "execution_count": 84,
   "id": "193a97b0",
   "metadata": {
    "scrolled": true
   },
   "outputs": [
    {
     "data": {
      "text/plain": [
       "(342,\n",
       " {'N. da Invasão': 'UHJA-086E',\n",
       "  'Região': 'Orla',\n",
       "  'Fuso': 23,\n",
       "  'Coordenada X': 246661,\n",
       "  'Coordenada Y': 7777363,\n",
       "  'Município': 'Rifaina/SP',\n",
       "  'Status': 'Registro em elaboração',\n",
       "  'Equipe': 'LR Ambiental',\n",
       "  'Data do registro': datetime.datetime(2005, 6, 22, 0, 0),\n",
       "  'Classe': 'Uso e Ocupação Irregular',\n",
       "  'Identificação do local_1': 'Área de inundação',\n",
       "  'Identificação do local_2': None,\n",
       "  'Identificação do local_3': None,\n",
       "  'Identificação do local_4': None,\n",
       "  'Identificação do local_5': None,\n",
       "  'Identificação do local_6': None,\n",
       "  'Identificação do local_7': None,\n",
       "  'Identificação do local_8': None,\n",
       "  'Constatação_1': 'Ocupação/utilização não autorizada',\n",
       "  'Constatação_2': None,\n",
       "  'Constatação_3': None,\n",
       "  'Constatação_4': None,\n",
       "  'Constatação_5': None,\n",
       "  'Constatação_6': None,\n",
       "  'Constatação_7': None,\n",
       "  'Constatação_8': None,\n",
       "  'Constatação (detalhe)_1': 'Muro',\n",
       "  'Constatação (detalhe)_2': None,\n",
       "  'Constatação (detalhe)_3': None,\n",
       "  'Constatação (detalhe)_4': None,\n",
       "  'Constatação (detalhe)_5': None,\n",
       "  'Constatação (detalhe)_6': None,\n",
       "  'Constatação (detalhe)_7': None,\n",
       "  'Constatação (detalhe)_8': None,\n",
       "  'Irregularidades_1': 'Outros',\n",
       "  'Irregularidades_2': None,\n",
       "  'Irregularidades_3': None,\n",
       "  'Irregularidades_4': None,\n",
       "  'Irregularidades_5': None,\n",
       "  'Irregularidades_6': None,\n",
       "  'Irregularidades_7': None,\n",
       "  'Irregularidades_8': None,\n",
       "  'Outros - Descrição_1': 'Muro de alvenaria com grades e portão de aço',\n",
       "  'Outros - Descrição_2': None,\n",
       "  'Outros - Descrição_3': None,\n",
       "  'Outros - Descrição_4': None,\n",
       "  'Outros - Descrição_5': None,\n",
       "  'Outros - Descrição_6': None,\n",
       "  'Outros - Descrição_7': None,\n",
       "  'Outros - Descrição_8': None,\n",
       "  'Comprimento (m)_1': None,\n",
       "  'Comprimento (m)_2': None,\n",
       "  'Comprimento (m)_3': None,\n",
       "  'Comprimento (m)_4': None,\n",
       "  'Largura (m)_1': None,\n",
       "  'Largura (m)_2': None,\n",
       "  'Largura (m)_3': None,\n",
       "  'Largura (m)_4': None,\n",
       "  'Altura (m)_1': None,\n",
       "  'Área (m2)_1': None,\n",
       "  'Quantidade (un)_1': None,\n",
       "  'Quantidade (un)_2': None,\n",
       "  'Quantidade (un)_3': None,\n",
       "  'Quantidade (un)_4': None,\n",
       "  'Quantidade (un)_5': None,\n",
       "  'Volume (m3)_1': None,\n",
       "  'Profundidade (m)_1': None,\n",
       "  'Perímetro (m)_1': None,\n",
       "  'Diâmetro (m)_1': None,\n",
       "  'Cota (m)_1': None,\n",
       "  'Peso (kg)_1': None,\n",
       "  'Área afetada (m2)_1': None,\n",
       "  'Área afetada (m2)_2': None,\n",
       "  'Área afetada (m2)_3': None,\n",
       "  'Observações_1': None,\n",
       "  'Observações_2': None,\n",
       "  'Observações_3': None,\n",
       "  'Observações_4': None,\n",
       "  'Observações_5': None,\n",
       "  'Houve acordo verbal?': 'NÃO',\n",
       "  'Prazo de cumprimento': None,\n",
       "  'Acordo realizado com': None,\n",
       "  'Nome do infrator_1': 'José Armando Silva Camargo',\n",
       "  'Nome do infrator_2': '',\n",
       "  'RG': None,\n",
       "  'CPF / CNPJ': None,\n",
       "  'Telefone_1': None,\n",
       "  'Telefone_2': None,\n",
       "  'E-mail': None,\n",
       "  'Logradouro': 'Rua Manif Elias',\n",
       "  'Número': None,\n",
       "  'Bairro': None,\n",
       "  'Complemento': None,\n",
       "  'UF': None,\n",
       "  'Cidade': None,\n",
       "  'CEP': None,\n",
       "  'Descrição do serviço': 'Ocorrência por inspeção',\n",
       "  'Responsável técnico': 'Lucas Machado de Melo Reis',\n",
       "  'Entrega Atual': 'Identificar a titularidade do imóvel',\n",
       "  'Tarefa atual': 'Aguardando atualização',\n",
       "  'Registro Kartado': None})"
      ]
     },
     "execution_count": 84,
     "metadata": {},
     "output_type": "execute_result"
    }
   ],
   "source": [
    "len(erros),erros[0]"
   ]
  },
  {
   "cell_type": "code",
   "execution_count": 16,
   "id": "d3cb3185",
   "metadata": {},
   "outputs": [],
   "source": [
    "occs=OccurrenceRecord.objects.filter(created_at__gte='2023-11-26',company=company,occurrence_type=occ)"
   ]
  },
  {
   "cell_type": "code",
   "execution_count": 15,
   "id": "6ae15623",
   "metadata": {},
   "outputs": [
    {
     "ename": "TypeError",
     "evalue": "'OccurrenceRecord' object is not iterable",
     "output_type": "error",
     "traceback": [
      "\u001b[0;31m---------------------------------------------------------------------------\u001b[0m",
      "\u001b[0;31mTypeError\u001b[0m                                 Traceback (most recent call last)",
      "\u001b[0;32m/tmp/ipykernel_31538/994674391.py\u001b[0m in \u001b[0;36m<module>\u001b[0;34m\u001b[0m\n\u001b[0;32m----> 1\u001b[0;31m \u001b[0;32mfor\u001b[0m \u001b[0ma\u001b[0m \u001b[0;32min\u001b[0m \u001b[0mOccurrenceRecord\u001b[0m\u001b[0;34m.\u001b[0m\u001b[0mobjects\u001b[0m\u001b[0;34m.\u001b[0m\u001b[0mfilter\u001b[0m\u001b[0;34m(\u001b[0m\u001b[0mcreated_at__gte\u001b[0m\u001b[0;34m=\u001b[0m\u001b[0;34m'2023-11-26'\u001b[0m\u001b[0;34m,\u001b[0m\u001b[0mcompany\u001b[0m\u001b[0;34m=\u001b[0m\u001b[0mcompany\u001b[0m\u001b[0;34m,\u001b[0m\u001b[0moccurrence_type\u001b[0m\u001b[0;34m=\u001b[0m\u001b[0mocc\u001b[0m\u001b[0;34m)\u001b[0m\u001b[0;34m[\u001b[0m\u001b[0;36m0\u001b[0m\u001b[0;34m]\u001b[0m\u001b[0;34m:\u001b[0m\u001b[0;34m\u001b[0m\u001b[0;34m\u001b[0m\u001b[0m\n\u001b[0m\u001b[1;32m      2\u001b[0m     \u001b[0ma\u001b[0m\u001b[0;34m.\u001b[0m\u001b[0msearch_tags\u001b[0m\u001b[0;34m.\u001b[0m\u001b[0madd\u001b[0m\u001b[0;34m(\u001b[0m\u001b[0;34m[\u001b[0m\u001b[0mtag1\u001b[0m\u001b[0;34m,\u001b[0m\u001b[0mtag3\u001b[0m\u001b[0;34m,\u001b[0m\u001b[0mtag4\u001b[0m\u001b[0;34m]\u001b[0m\u001b[0;34m)\u001b[0m\u001b[0;34m\u001b[0m\u001b[0;34m\u001b[0m\u001b[0m\n",
      "\u001b[0;31mTypeError\u001b[0m: 'OccurrenceRecord' object is not iterable"
     ]
    }
   ],
   "source": [
    "for a in occs:\n",
    "    a.search_tags.add([tag1,tag3,tag4])"
   ]
  },
  {
   "cell_type": "code",
   "execution_count": 14,
   "id": "4515f94a",
   "metadata": {},
   "outputs": [
    {
     "data": {
      "text/plain": [
       "<OccurrenceType: Ocorrências patrimoniais - ['GES - UHE-SALTO SANTIAGO', 'GES - UHE-ITA', 'GES - GEH', 'GES - UHE-ESTREITO', 'GES - UHE-JAGUARA', 'GES - UHE-MIRANDA', 'GES - UHE-SALTO OSORIO', 'GES - UHE-CANA BRAVA', 'GES - UHE-SÃO SALVADOR', 'GES - UHE-PASSO FUNDO', 'GES - UHE-MACHADINHO', 'GES - UHE-PONTE DE PEDRA', 'GES - PCH-JOSÉ GELÁZIO DA ROCHA', 'GES - PCH-RONDONÓPOLIS']>"
      ]
     },
     "execution_count": 14,
     "metadata": {},
     "output_type": "execute_result"
    }
   ],
   "source": [
    "occ"
   ]
  },
  {
   "cell_type": "code",
   "execution_count": 1,
   "id": "7a4954e2",
   "metadata": {},
   "outputs": [],
   "source": [
    "ocr=OccurrenceRecord.objects.get(uuid='d8eeb3a8-55f2-48b9-9034-00359e49af55')"
   ]
  },
  {
   "cell_type": "code",
   "execution_count": 6,
   "id": "d19a6c15",
   "metadata": {},
   "outputs": [
    {
     "data": {
      "text/plain": [
       "<QuerySet [<SearchTag: GES - UHE-SALTO SANTIAGO - 2 - select_option - Resumo executivo>, <SearchTag: GES - UHE-SALTO SANTIAGO - 4 - select_option - Ictiofauna>, <SearchTag: GES - UHE-SALTO SANTIAGO - 1 - select_option - Relatório>, <SearchTag: GES - UHE-SALTO SANTIAGO - 3 - select_option - Ambiental>]>"
      ]
     },
     "execution_count": 6,
     "metadata": {},
     "output_type": "execute_result"
    }
   ],
   "source": [
    "ocr.search_tags.all()"
   ]
  },
  {
   "cell_type": "code",
   "execution_count": 79,
   "id": "00b4c6e5",
   "metadata": {},
   "outputs": [],
   "source": [
    "# ocr.save() RO250200440-11"
   ]
  },
  {
   "cell_type": "code",
   "execution_count": 1,
   "id": "abfc917d",
   "metadata": {
    "collapsed": true
   },
   "outputs": [
    {
     "data": {
      "text/plain": [
       "(<GenericRel: occurrence_records.occurrencerecord>,\n",
       " <GenericRel: monitorings.monitoringrecord>,\n",
       " <GenericRel: monitorings.operationalcontrol>,\n",
       " <GenericRel: monitorings.operationalcontrolrecord>,\n",
       " <GenericRel: constructions.construction>,\n",
       " <GenericRel: constructions.constructionprogress>,\n",
       " <django.db.models.fields.UUIDField: uuid>,\n",
       " <django.db.models.fields.TextField: description>,\n",
       " <django.db.models.fields.TextField: md5>,\n",
       " <django.db.models.fields.files.FileField: upload>,\n",
       " <django.db.models.fields.DateTimeField: uploaded_at>,\n",
       " <django.db.models.fields.DateTimeField: datetime>,\n",
       " <django.db.models.fields.related.ForeignKey: created_by>,\n",
       " <django.db.models.fields.CharField: kind>,\n",
       " <django.db.models.fields.TextField: url>,\n",
       " <django.db.models.fields.related.ForeignKey: content_type>,\n",
       " <django.db.models.fields.UUIDField: object_id>,\n",
       " <django.contrib.contenttypes.fields.GenericForeignKey at 0x7f1412e62350>)"
      ]
     },
     "execution_count": 1,
     "metadata": {},
     "output_type": "execute_result"
    }
   ],
   "source": [
    "File._meta.get_fields()"
   ]
  },
  {
   "cell_type": "code",
   "execution_count": 11,
   "id": "66fb54cb",
   "metadata": {},
   "outputs": [],
   "source": [
    "file=File(content_type=ContentType.objects.get(app_label='occurrence_records',model='occurrencerecord'),\n",
    "     object_id=str(ocr.uuid),\n",
    "    field.content_object = ocr,\n",
    "          created_by=\n",
    "     upload='/uhss_importacao/RO250200440-11.pdf')"
   ]
  },
  {
   "cell_type": "code",
   "execution_count": 16,
   "id": "34262029",
   "metadata": {},
   "outputs": [],
   "source": [
    "field.save()"
   ]
  },
  {
   "cell_type": "code",
   "execution_count": 13,
   "id": "33b48b24",
   "metadata": {},
   "outputs": [],
   "source": [
    "field.content_object = ocr\n",
    "field.save()"
   ]
  },
  {
   "cell_type": "code",
   "execution_count": 15,
   "id": "1651eb3d",
   "metadata": {},
   "outputs": [],
   "source": [
    "field.upload='RO250200440-11.pdf'"
   ]
  },
  {
   "cell_type": "code",
   "execution_count": 17,
   "id": "c8e73225",
   "metadata": {},
   "outputs": [
    {
     "data": {
      "text/plain": [
       "(1, {'files.File': 1})"
      ]
     },
     "execution_count": 17,
     "metadata": {},
     "output_type": "execute_result"
    }
   ],
   "source": [
    "field.delete()"
   ]
  },
  {
   "cell_type": "code",
   "execution_count": 6,
   "id": "59c5df0c",
   "metadata": {},
   "outputs": [],
   "source": [
    "user=User.objects.filter(username='engie')"
   ]
  },
  {
   "cell_type": "code",
   "execution_count": 9,
   "id": "e872a3ed",
   "metadata": {},
   "outputs": [
    {
     "data": {
      "text/plain": [
       "<QuerySet [<Firm: [1021dc11-d12c-4a27-88d5-dde0fad2be7d: GSO - UHE-PONTE DE PEDRA] 7047df2f-8501-4d0d-a4db-6f724def28c4: ENGIE Brasil Energia>, <Firm: [1021dc11-d12c-4a27-88d5-dde0fad2be7d: GSO - UHE-PONTE DE PEDRA] 6e4a34e4-fbaa-4953-8bb2-cd91b5a68f7f: Cadastro de rotas de fuga>, <Firm: [1021dc11-d12c-4a27-88d5-dde0fad2be7d: GSO - UHE-PONTE DE PEDRA] 1c4a0a75-21f5-426f-a32c-83c37e9e7a54: Cadastro de pontos de encontro>, <Firm: [1021dc11-d12c-4a27-88d5-dde0fad2be7d: GSO - UHE-PONTE DE PEDRA] 87476923-b71f-4190-9606-ba658bcb2baa: Equipe Sonora>, <Firm: [1021dc11-d12c-4a27-88d5-dde0fad2be7d: GSO - UHE-PONTE DE PEDRA] f76b8aa4-71fa-438a-9f4d-4a1c53461d5b: Equipe Itiquira>, <Firm: [1021dc11-d12c-4a27-88d5-dde0fad2be7d: GSO - UHE-PONTE DE PEDRA] 622dbd8b-74a6-4ab1-b174-1b13b3f57ec2: Administração>, <Firm: [1021dc11-d12c-4a27-88d5-dde0fad2be7d: GSO - UHE-PONTE DE PEDRA] 2918a1f4-3e9b-4860-82af-b30a0c091ed3: Suporte>, <Firm: [110bce05-5146-421e-a5a7-ffb32ee92a91: GSO - UHE-PASSO FUNDO] 4a25e80b-117f-4acd-b7ec-998eedc53a85: Administração>, <Firm: [110bce05-5146-421e-a5a7-ffb32ee92a91: GSO - UHE-PASSO FUNDO] 2c3a2b50-c58d-4da9-b592-3278448872be: Platzer Dalascio>, <Firm: [110bce05-5146-421e-a5a7-ffb32ee92a91: GSO - UHE-PASSO FUNDO] fb7c1ad0-f85d-4fe9-bad7-e82adcf90062: ENGIE Brasil Energia>, <Firm: [110bce05-5146-421e-a5a7-ffb32ee92a91: GSO - UHE-PASSO FUNDO] 750907c0-1150-4062-81f0-8eae1f27544f: Cadastro de rotas de fuga>, <Firm: [110bce05-5146-421e-a5a7-ffb32ee92a91: GSO - UHE-PASSO FUNDO] 3855c20b-cd80-474e-838d-bd17cfad90a9: Cadastro de pontos de encontro>, <Firm: [110bce05-5146-421e-a5a7-ffb32ee92a91: GSO - UHE-PASSO FUNDO] 239c8edd-d8c7-494d-a6b2-f48c35088dd2: Suporte>, <Firm: [110bce05-5146-421e-a5a7-ffb32ee92a91: GSO - UHE-PASSO FUNDO] f432f4cc-09dd-44ee-b7ec-aa328b8b465b: Equipe Entre Rios do Sul>, <Firm: [110bce05-5146-421e-a5a7-ffb32ee92a91: GSO - UHE-PASSO FUNDO] 9863e70f-0a62-4a05-a246-03ccf6cebf58: Equipe Trindade do Sul>, <Firm: [110bce05-5146-421e-a5a7-ffb32ee92a91: GSO - UHE-PASSO FUNDO] 4e6844ea-8bc8-4484-a686-d24b349940aa: Equipe São Valentim>, <Firm: [110bce05-5146-421e-a5a7-ffb32ee92a91: GSO - UHE-PASSO FUNDO] 81a5e98b-575a-4178-85a0-74ecdd770f05: Equipe Nonoai>, <Firm: [110bce05-5146-421e-a5a7-ffb32ee92a91: GSO - UHE-PASSO FUNDO] 182716f0-b6fb-439c-be8f-9611f19d4a85: Equipe Benjamin Constant do Sul>, <Firm: [110bce05-5146-421e-a5a7-ffb32ee92a91: GSO - UHE-PASSO FUNDO] 4d85aca6-f405-4a7d-a0df-dae8bbc4f71b: Empreendimento>, <Firm: [17663a30-5f71-4e7c-8ac2-adf472342b42: GES - UHE-JAGUARA] 6d95f35d-581e-4e37-be8e-834e84298870: GEH/GSO>, '...(remaining elements truncated)...']>"
      ]
     },
     "execution_count": 9,
     "metadata": {},
     "output_type": "execute_result"
    }
   ],
   "source": [
    "Firm.objects.all()"
   ]
  },
  {
   "cell_type": "code",
   "execution_count": 2,
   "id": "3d887b1e",
   "metadata": {},
   "outputs": [],
   "source": [
    "import json\n",
    "for instance in OccurrenceRecord.objects.filter(created_at__gte='2023-11-27',created_at__lte='2023-11-28',\n",
    "                                         company__name='GES - UHE-SALTO SANTIAGO')[1:]:\n",
    "    geom = instance.geometry\n",
    "\n",
    "    if geom and \"properties_shape\" in instance.company.metadata:\n",
    "        try:\n",
    "            shape = ShapeFile.objects.get(\n",
    "                uuid=instance.company.metadata[\"properties_shape\"]\n",
    "            )\n",
    "        except Exception:\n",
    "            pass\n",
    "        else:\n",
    "            intersects = []\n",
    "            for index, geometry in enumerate(shape.geometry):\n",
    "                try:\n",
    "                    if geometry.intersects(geom):\n",
    "                        intersects.append((index, geometry))\n",
    "                except Exception:\n",
    "                    pass\n",
    "\n",
    "            intersects = [\n",
    "                {\n",
    "                    \"geometry\": json.loads(geometry[1].json),\n",
    "                    \"attributes\": {\n",
    "                        \"uuid\": \"{}-{}\".format(\n",
    "                            str(shape.uuid),\n",
    "                            shape.properties[geometry[0]][\"OBJECTID\"],\n",
    "                        ),\n",
    "                        **shape.properties[geometry[0]],\n",
    "                    },\n",
    "                }\n",
    "                for geometry in intersects\n",
    "            ]\n",
    "\n",
    "            field = \"property_intersections\"\n",
    "            instance.form_data[field] = intersects\n",
    "            instance.save()\n",
    "#             print(instance.number)"
   ]
  },
  {
   "cell_type": "code",
   "execution_count": 1,
   "id": "42183d4f",
   "metadata": {
    "collapsed": true
   },
   "outputs": [
    {
     "data": {
      "text/plain": [
       "(<django.db.models.fields.UUIDField: uuid>,\n",
       " <django.db.models.fields.DateTimeField: datetime>,\n",
       " <django.db.models.fields.CharField: number>,\n",
       " <django.db.models.fields.DateTimeField: created_at>,\n",
       " <django.db.models.fields.DateTimeField: updated_at>,\n",
       " <django.db.models.fields.IntegerField: reviews>,\n",
       " <django.db.models.fields.related.ForeignKey: company>,\n",
       " <django.db.models.fields.BooleanField: editable>,\n",
       " <django.db.models.fields.BooleanField: is_approved>,\n",
       " <django.db.models.fields.IntegerField: uf_code>,\n",
       " <django.db.models.fields.related.ForeignKey: city>,\n",
       " <django.db.models.fields.related.ForeignKey: location>,\n",
       " <django.db.models.fields.CharField: place_on_dam>,\n",
       " <django.db.models.fields.related.ForeignKey: river>,\n",
       " <django.contrib.gis.db.models.fields.PointField: point>,\n",
       " <django.contrib.gis.db.models.fields.GeometryCollectionField: geometry>,\n",
       " <django.contrib.postgres.fields.jsonb.JSONField: properties>,\n",
       " <django.db.models.fields.FloatField: distance_from_dam>,\n",
       " <django.db.models.fields.TextField: other_reference>,\n",
       " <django.db.models.fields.CharField: origin>,\n",
       " <django.db.models.fields.CharField: origin_media>,\n",
       " <django.contrib.postgres.fields.jsonb.JSONField: informer>,\n",
       " <django.db.models.fields.CharField: territorial_administration>,\n",
       " <django.db.models.fields.related.ForeignKey: created_by>,\n",
       " <django.db.models.fields.CharField: search_tag_description>,\n",
       " <django.db.models.fields.related.ForeignKey: occurrence_type>,\n",
       " <django.contrib.postgres.fields.jsonb.JSONField: form_data>,\n",
       " <django.contrib.postgres.fields.jsonb.JSONField: form_metadata>,\n",
       " <django.contrib.postgres.fields.jsonb.JSONField: arcgis_ids>,\n",
       " <django.db.models.fields.related.ForeignKey: status>,\n",
       " <django.db.models.fields.related.ForeignKey: operational_control>,\n",
       " <django.db.models.fields.related.ForeignKey: monitoring_plan>,\n",
       " <django.db.models.fields.related.ForeignKey: parent_action>,\n",
       " <django.db.models.fields.related.ForeignKey: firm>,\n",
       " <django.db.models.fields.related.ForeignKey: responsible>,\n",
       " <django.db.models.fields.TextField: keywords>,\n",
       " <django.db.models.fields.related.ForeignKey: approval_step>,\n",
       " <django.contrib.postgres.fields.jsonb.JSONField: involved_parts>,\n",
       " <django.db.models.fields.TextField: involved_parts_keywords>,\n",
       " <django.db.models.fields.related.ForeignKey: active_tile_layer>,\n",
       " <django.db.models.fields.related.ForeignKey: integration_run>,\n",
       " <django.db.models.fields.DateTimeField: validation_deadline>,\n",
       " <django.db.models.fields.DateTimeField: validated_at>)"
      ]
     },
     "execution_count": 1,
     "metadata": {},
     "output_type": "execute_result"
    }
   ],
   "source": [
    "def property_intersections(instance):\n",
    "    geom = instance.geometry\n",
    "\n",
    "    if geom and \"properties_shape\" in instance.company.metadata:\n",
    "        try:\n",
    "            shape = ShapeFile.objects.get(\n",
    "                uuid=instance.company.metadata[\"properties_shape\"]\n",
    "            )\n",
    "        except Exception:\n",
    "            pass\n",
    "        else:\n",
    "            intersects = []\n",
    "            for index, geometry in enumerate(shape.geometry):\n",
    "                try:\n",
    "                    if geometry.intersects(geom):\n",
    "                        intersects.append((index, geometry))\n",
    "                except Exception:\n",
    "                    pass\n",
    "\n",
    "            intersects = [\n",
    "                {\n",
    "                    \"geometry\": json.loads(geometry[1].json),\n",
    "                    \"attributes\": {\n",
    "                        \"uuid\": \"{}-{}\".format(\n",
    "                            str(shape.uuid),\n",
    "                            shape.properties[geometry[0]][\"OBJECTID\"],\n",
    "                        ),\n",
    "                        **shape.properties[geometry[0]],\n",
    "                    },\n",
    "                }\n",
    "                for geometry in intersects\n",
    "            ]\n",
    "\n",
    "            field = \"property_intersections\"\n",
    "            instance.form_data[field] = intersects"
   ]
  },
  {
   "cell_type": "code",
   "execution_count": 12,
   "id": "b5fc7b52",
   "metadata": {},
   "outputs": [
    {
     "data": {
      "text/plain": [
       "('Ocorrências patrimoniais',\n",
       " 'Resumo Executivo',\n",
       " 'GES - UHE-JAGUARA',\n",
       " 'Cadastro de Matriz Vegetal')"
      ]
     },
     "execution_count": 12,
     "metadata": {},
     "output_type": "execute_result"
    }
   ],
   "source": [
    "occ=OccurrenceType.objects.get(uuid='faa62cbd-c2ec-49fc-bc4a-9b1ab9edcca4')# Ocorrências Patrimoniais\n",
    "occ_RE=OccurrenceType.objects.get(uuid='df7b367d-893b-40cc-af39-2019a2e764b9')# Resumo Executivo\n",
    "company = Company.objects.get(name='GES - UHE-JAGUARA')\n",
    "occurrence_type=OccurrenceType.objects.get(uuid='f200613b-8862-4a24-8c16-d6babd215fd7')# matriz vegetal\n",
    "species_type=OccurrenceType.objects.get(uuid='c16b1d6b-856c-4ff7-ae2f-f68d5223a077')\n",
    "operational_control=OperationalControl.objects.get(uuid='d0b541b7-713b-4454-8fac-59ddbb937d90')# monitoramento hidrogeológico\n",
    "occ.name,occ_RE.name,company.name,occurrence_type.name"
   ]
  },
  {
   "cell_type": "code",
   "execution_count": 16,
   "id": "18fa2b27",
   "metadata": {},
   "outputs": [
    {
     "data": {
      "text/plain": [
       "0"
      ]
     },
     "execution_count": 16,
     "metadata": {},
     "output_type": "execute_result"
    }
   ],
   "source": [
    "ocr=OccurrenceRecord.objects.filter(created_at__gte='2023-10-28',created_at__lte='2023-10-29',\n",
    "                                    occurrence_type=occ_RE,\n",
    "#                                     operational_control=operational_control,\n",
    "                                         company=company)\n",
    "ocr.count()"
   ]
  },
  {
   "cell_type": "code",
   "execution_count": 48,
   "id": "e6af2baf",
   "metadata": {},
   "outputs": [
    {
     "data": {
      "text/plain": [
       "('Relatório', 'Resumo executivo', 'Patrimonial')"
      ]
     },
     "execution_count": 48,
     "metadata": {},
     "output_type": "execute_result"
    }
   ],
   "source": [
    "tag10=SearchTag.objects.get(company = company, name = \"Relatório\")\n",
    "tag30=SearchTag.objects.get(company = company, name = \"Resumo executivo\")\n",
    "tag40=SearchTag.objects.get(company = company, name = \"Patrimonial\")\n",
    "tag10.name,tag30.name,tag40.name"
   ]
  },
  {
   "cell_type": "code",
   "execution_count": 49,
   "id": "c37b57be",
   "metadata": {},
   "outputs": [
    {
     "data": {
      "application/vnd.jupyter.widget-view+json": {
       "model_id": "f7803402f98444c0ad1937bc61f9f4ea",
       "version_major": 2,
       "version_minor": 0
      },
      "text/plain": [
       "  0%|          | 0/1364 [00:00<?, ?it/s]"
      ]
     },
     "metadata": {},
     "output_type": "display_data"
    }
   ],
   "source": [
    "for a in tqdm(ocr):\n",
    "    a.search_tags.add(*[tag10,tag30,tag40])"
   ]
  },
  {
   "cell_type": "code",
   "execution_count": 14,
   "id": "156043a3",
   "metadata": {},
   "outputs": [
    {
     "data": {
      "text/plain": [
       "('Ocorrência', 'Patrimonial', 'Uso e ocupação irregular')"
      ]
     },
     "execution_count": 14,
     "metadata": {},
     "output_type": "execute_result"
    }
   ],
   "source": [
    "tag1=SearchTag.objects.get(company = company, name = \"Ocorrência\")\n",
    "tag3=SearchTag.objects.get(company = company, name = \"Patrimonial\")\n",
    "tag4=SearchTag.objects.get(company = company, name = \"Uso e ocupação irregular\")\n",
    "tag1.name,tag3.name,tag4.name"
   ]
  },
  {
   "cell_type": "code",
   "execution_count": 15,
   "id": "537f21b7",
   "metadata": {},
   "outputs": [
    {
     "data": {
      "application/vnd.jupyter.widget-view+json": {
       "model_id": "53536e4c77c54c56b31a7429af335bd5",
       "version_major": 2,
       "version_minor": 0
      },
      "text/plain": [
       "  0%|          | 0/395 [00:00<?, ?it/s]"
      ]
     },
     "metadata": {},
     "output_type": "display_data"
    }
   ],
   "source": [
    "for a in tqdm(ocr):\n",
    "    a.search_tags.add(*[tag1,tag3,tag4])"
   ]
  },
  {
   "cell_type": "code",
   "execution_count": 39,
   "id": "4b84be1a",
   "metadata": {},
   "outputs": [
    {
     "data": {
      "text/plain": [
       "'UHMI-RG-2023.0937'"
      ]
     },
     "execution_count": 39,
     "metadata": {},
     "output_type": "execute_result"
    }
   ],
   "source": [
    "ocr[0].number"
   ]
  },
  {
   "cell_type": "code",
   "execution_count": 69,
   "id": "de1c0efb",
   "metadata": {},
   "outputs": [
    {
     "data": {
      "text/plain": [
       "'Controle Operacional'"
      ]
     },
     "execution_count": 69,
     "metadata": {},
     "output_type": "execute_result"
    }
   ],
   "source": [
    "tag=SearchTag.objects.get(company = company, name = \"Controle Operacional\")\n",
    "tag.name"
   ]
  },
  {
   "cell_type": "code",
   "execution_count": 70,
   "id": "2b97d784",
   "metadata": {},
   "outputs": [
    {
     "data": {
      "application/vnd.jupyter.widget-view+json": {
       "model_id": "0218a3686b18463da3a9294b69365ce4",
       "version_major": 2,
       "version_minor": 0
      },
      "text/plain": [
       "  0%|          | 0/2719 [00:00<?, ?it/s]"
      ]
     },
     "metadata": {},
     "output_type": "display_data"
    }
   ],
   "source": [
    "for a in tqdm(ocr):\n",
    "    a.search_tags.add(*[tag])"
   ]
  },
  {
   "cell_type": "code",
   "execution_count": 71,
   "id": "f4774fde",
   "metadata": {},
   "outputs": [
    {
     "data": {
      "text/plain": [
       "{'_state': <django.db.models.base.ModelState at 0x7ff1f3c048d0>,\n",
       " 'uuid': UUID('6d5edef7-6a21-41a5-b138-a8fd176a3ce8'),\n",
       " 'datetime': datetime.datetime(2024, 1, 27, 1, 9, 30, 257678, tzinfo=<UTC>),\n",
       " 'number': '',\n",
       " 'created_at': datetime.datetime(2024, 1, 27, 1, 14, 33, 466759, tzinfo=<UTC>),\n",
       " 'updated_at': datetime.datetime(2024, 1, 27, 1, 14, 33, 466785, tzinfo=<UTC>),\n",
       " 'reviews': 0,\n",
       " 'company_id': UUID('42ddc389-3258-4daf-868a-097235427e0f'),\n",
       " 'editable': True,\n",
       " 'is_approved': False,\n",
       " 'uf_code': 21,\n",
       " 'city_id': UUID('5238f4ca-08fa-41c9-b1d2-ffccc4dc3d43'),\n",
       " 'location_id': None,\n",
       " 'place_on_dam': '',\n",
       " 'river_id': None,\n",
       " 'point': <Point object at 0x7ff1f2704be0>,\n",
       " 'geometry': <GeometryCollection object at 0x7ff1f2704d00>,\n",
       " 'properties': [],\n",
       " 'distance_from_dam': 0.0,\n",
       " 'other_reference': '',\n",
       " 'origin': None,\n",
       " 'origin_media': None,\n",
       " 'informer': {},\n",
       " 'territorial_administration': '',\n",
       " 'created_by_id': UUID('0aa50773-b368-4a50-9f12-4a7d8dfaf256'),\n",
       " 'search_tag_description': '',\n",
       " 'occurrence_type_id': UUID('21443c13-7f29-4701-9662-709c56b503db'),\n",
       " 'form_data': {'cpf': '175.639.503-97',\n",
       "  'owner': 'CORACI BEZERRA ROCHA',\n",
       "  'phone': '',\n",
       "  'token': 1,\n",
       "  'address': 'RUA IMPERATRIZ',\n",
       "  'district': 'CENTRO',\n",
       "  'step2017': '',\n",
       "  'step2018': '',\n",
       "  'x_sirgas': 226572.882702,\n",
       "  'y_sirgas': 9189012.39876,\n",
       "  'class_vis': 'F',\n",
       "  'value_vis': 13400,\n",
       "  'negotiated': 'SIM',\n",
       "  'notes_ceste': '',\n",
       "  'intervention': '2',\n",
       "  'ceste_request': 19,\n",
       "  'inspection_na': 0.74,\n",
       "  'address_number': 51,\n",
       "  'inspection_date': '2014-06-18T03:00:00.000Z',\n",
       "  'date_negotiation': '',\n",
       "  'notes_consultant': '',\n",
       "  'comunication_method': 'NÃO APLICÁVEL',\n",
       "  'date_delivered_check': '2014-12-16T03:00:00.000Z',\n",
       "  'date_delivered_check2': '',\n",
       "  'date_delivered_check3': '',\n",
       "  'date_delivered_check4': '',\n",
       "  'date_non_intervention': '',\n",
       "  'received_non_intervention': 'NÃO APLICÁVEL',\n",
       "  'number_register_non_intervention': 'NÃO APLICÁVEL'},\n",
       " 'form_metadata': {},\n",
       " 'arcgis_ids': {},\n",
       " 'status_id': UUID('4f89dd8b-dbe9-4cae-be66-ea7ffa2af61b'),\n",
       " 'operational_control_id': UUID('d0b541b7-713b-4454-8fac-59ddbb937d90'),\n",
       " 'monitoring_plan_id': None,\n",
       " 'parent_action_id': None,\n",
       " 'firm_id': UUID('2aadce83-4be0-4b4b-aaba-be8dee8be318'),\n",
       " 'responsible_id': None,\n",
       " 'keywords': '',\n",
       " 'approval_step_id': None,\n",
       " 'involved_parts': [],\n",
       " 'involved_parts_keywords': '',\n",
       " 'active_tile_layer_id': None,\n",
       " 'integration_run_id': None,\n",
       " 'validation_deadline': None,\n",
       " 'validated_at': None,\n",
       " 'main_linked_record_id': None,\n",
       " '_fieldsignals_originals': {(140678249330704,\n",
       "   140677829960768): {'uuid': UUID('6d5edef7-6a21-41a5-b138-a8fd176a3ce8'), 'datetime': datetime.datetime(2024, 1, 27, 1, 9, 30, 257678, tzinfo=<UTC>), 'number': '', 'created_at': datetime.datetime(2024, 1, 27, 1, 14, 33, 466759, tzinfo=<UTC>), 'updated_at': datetime.datetime(2024, 1, 27, 1, 14, 33, 466785, tzinfo=<UTC>), 'reviews': 0, 'company': UUID('42ddc389-3258-4daf-868a-097235427e0f'), 'editable': True, 'is_approved': False, 'uf_code': 21, 'city': UUID('5238f4ca-08fa-41c9-b1d2-ffccc4dc3d43'), 'place_on_dam': '', 'point': <Point object at 0x7ff1f2704e20>, 'geometry': <GeometryCollection object at 0x7ff1f2734130>, 'properties': [], 'distance_from_dam': 0.0, 'other_reference': '', 'informer': {}, 'territorial_administration': '', 'created_by': UUID('0aa50773-b368-4a50-9f12-4a7d8dfaf256'), 'search_tag_description': '', 'occurrence_type': UUID('21443c13-7f29-4701-9662-709c56b503db'), 'form_data': {'cpf': '175.639.503-97',\n",
       "    'owner': 'CORACI BEZERRA ROCHA',\n",
       "    'phone': '',\n",
       "    'token': 1,\n",
       "    'address': 'RUA IMPERATRIZ',\n",
       "    'district': 'CENTRO',\n",
       "    'step2017': '',\n",
       "    'step2018': '',\n",
       "    'x_sirgas': 226572.882702,\n",
       "    'y_sirgas': 9189012.39876,\n",
       "    'class_vis': 'F',\n",
       "    'value_vis': 13400,\n",
       "    'negotiated': 'SIM',\n",
       "    'notes_ceste': '',\n",
       "    'intervention': '2',\n",
       "    'ceste_request': 19,\n",
       "    'inspection_na': 0.74,\n",
       "    'address_number': 51,\n",
       "    'inspection_date': '2014-06-18T03:00:00.000Z',\n",
       "    'date_negotiation': '',\n",
       "    'notes_consultant': '',\n",
       "    'comunication_method': 'NÃO APLICÁVEL',\n",
       "    'date_delivered_check': '2014-12-16T03:00:00.000Z',\n",
       "    'date_delivered_check2': '',\n",
       "    'date_delivered_check3': '',\n",
       "    'date_delivered_check4': '',\n",
       "    'date_non_intervention': '',\n",
       "    'received_non_intervention': 'NÃO APLICÁVEL',\n",
       "    'number_register_non_intervention': 'NÃO APLICÁVEL'}, 'form_metadata': {}, 'arcgis_ids': {}, 'status': UUID('4f89dd8b-dbe9-4cae-be66-ea7ffa2af61b'), 'operational_control': UUID('d0b541b7-713b-4454-8fac-59ddbb937d90'), 'firm': UUID('2aadce83-4be0-4b4b-aaba-be8dee8be318'), 'keywords': '', 'involved_parts': [], 'involved_parts_keywords': ''},\n",
       "  (140678249330704,\n",
       "   140677829960912): {'uuid': UUID('6d5edef7-6a21-41a5-b138-a8fd176a3ce8'), 'datetime': datetime.datetime(2024, 1, 27, 1, 9, 30, 257678, tzinfo=<UTC>), 'number': '', 'created_at': datetime.datetime(2024, 1, 27, 1, 14, 33, 466759, tzinfo=<UTC>), 'updated_at': datetime.datetime(2024, 1, 27, 1, 14, 33, 466785, tzinfo=<UTC>), 'reviews': 0, 'company': UUID('42ddc389-3258-4daf-868a-097235427e0f'), 'editable': True, 'is_approved': False, 'uf_code': 21, 'city': UUID('5238f4ca-08fa-41c9-b1d2-ffccc4dc3d43'), 'place_on_dam': '', 'point': <Point object at 0x7ff1f27341c0>, 'geometry': <GeometryCollection object at 0x7ff1f27342e0>, 'properties': [], 'distance_from_dam': 0.0, 'other_reference': '', 'informer': {}, 'territorial_administration': '', 'created_by': UUID('0aa50773-b368-4a50-9f12-4a7d8dfaf256'), 'search_tag_description': '', 'occurrence_type': UUID('21443c13-7f29-4701-9662-709c56b503db'), 'form_data': {'cpf': '175.639.503-97',\n",
       "    'owner': 'CORACI BEZERRA ROCHA',\n",
       "    'phone': '',\n",
       "    'token': 1,\n",
       "    'address': 'RUA IMPERATRIZ',\n",
       "    'district': 'CENTRO',\n",
       "    'step2017': '',\n",
       "    'step2018': '',\n",
       "    'x_sirgas': 226572.882702,\n",
       "    'y_sirgas': 9189012.39876,\n",
       "    'class_vis': 'F',\n",
       "    'value_vis': 13400,\n",
       "    'negotiated': 'SIM',\n",
       "    'notes_ceste': '',\n",
       "    'intervention': '2',\n",
       "    'ceste_request': 19,\n",
       "    'inspection_na': 0.74,\n",
       "    'address_number': 51,\n",
       "    'inspection_date': '2014-06-18T03:00:00.000Z',\n",
       "    'date_negotiation': '',\n",
       "    'notes_consultant': '',\n",
       "    'comunication_method': 'NÃO APLICÁVEL',\n",
       "    'date_delivered_check': '2014-12-16T03:00:00.000Z',\n",
       "    'date_delivered_check2': '',\n",
       "    'date_delivered_check3': '',\n",
       "    'date_delivered_check4': '',\n",
       "    'date_non_intervention': '',\n",
       "    'received_non_intervention': 'NÃO APLICÁVEL',\n",
       "    'number_register_non_intervention': 'NÃO APLICÁVEL'}, 'form_metadata': {}, 'arcgis_ids': {}, 'status': UUID('4f89dd8b-dbe9-4cae-be66-ea7ffa2af61b'), 'operational_control': UUID('d0b541b7-713b-4454-8fac-59ddbb937d90'), 'firm': UUID('2aadce83-4be0-4b4b-aaba-be8dee8be318'), 'keywords': '', 'involved_parts': [], 'involved_parts_keywords': ''},\n",
       "  (140678249330704,\n",
       "   140677829961488): {'uuid': UUID('6d5edef7-6a21-41a5-b138-a8fd176a3ce8'), 'datetime': datetime.datetime(2024, 1, 27, 1, 9, 30, 257678, tzinfo=<UTC>), 'number': '', 'created_at': datetime.datetime(2024, 1, 27, 1, 14, 33, 466759, tzinfo=<UTC>), 'updated_at': datetime.datetime(2024, 1, 27, 1, 14, 33, 466785, tzinfo=<UTC>), 'reviews': 0, 'company': UUID('42ddc389-3258-4daf-868a-097235427e0f'), 'editable': True, 'is_approved': False, 'uf_code': 21, 'city': UUID('5238f4ca-08fa-41c9-b1d2-ffccc4dc3d43'), 'place_on_dam': '', 'point': <Point object at 0x7ff1f2734370>, 'geometry': <GeometryCollection object at 0x7ff1f2734490>, 'properties': [], 'distance_from_dam': 0.0, 'other_reference': '', 'informer': {}, 'territorial_administration': '', 'created_by': UUID('0aa50773-b368-4a50-9f12-4a7d8dfaf256'), 'search_tag_description': '', 'occurrence_type': UUID('21443c13-7f29-4701-9662-709c56b503db'), 'form_data': {'cpf': '175.639.503-97',\n",
       "    'owner': 'CORACI BEZERRA ROCHA',\n",
       "    'phone': '',\n",
       "    'token': 1,\n",
       "    'address': 'RUA IMPERATRIZ',\n",
       "    'district': 'CENTRO',\n",
       "    'step2017': '',\n",
       "    'step2018': '',\n",
       "    'x_sirgas': 226572.882702,\n",
       "    'y_sirgas': 9189012.39876,\n",
       "    'class_vis': 'F',\n",
       "    'value_vis': 13400,\n",
       "    'negotiated': 'SIM',\n",
       "    'notes_ceste': '',\n",
       "    'intervention': '2',\n",
       "    'ceste_request': 19,\n",
       "    'inspection_na': 0.74,\n",
       "    'address_number': 51,\n",
       "    'inspection_date': '2014-06-18T03:00:00.000Z',\n",
       "    'date_negotiation': '',\n",
       "    'notes_consultant': '',\n",
       "    'comunication_method': 'NÃO APLICÁVEL',\n",
       "    'date_delivered_check': '2014-12-16T03:00:00.000Z',\n",
       "    'date_delivered_check2': '',\n",
       "    'date_delivered_check3': '',\n",
       "    'date_delivered_check4': '',\n",
       "    'date_non_intervention': '',\n",
       "    'received_non_intervention': 'NÃO APLICÁVEL',\n",
       "    'number_register_non_intervention': 'NÃO APLICÁVEL'}, 'form_metadata': {}, 'arcgis_ids': {}, 'status': UUID('4f89dd8b-dbe9-4cae-be66-ea7ffa2af61b'), 'operational_control': UUID('d0b541b7-713b-4454-8fac-59ddbb937d90'), 'firm': UUID('2aadce83-4be0-4b4b-aaba-be8dee8be318'), 'keywords': '', 'involved_parts': [], 'involved_parts_keywords': ''}}}"
      ]
     },
     "execution_count": 71,
     "metadata": {},
     "output_type": "execute_result"
    }
   ],
   "source": [
    "ocr[0].__dict__"
   ]
  },
  {
   "cell_type": "code",
   "execution_count": null,
   "id": "579c36eb",
   "metadata": {},
   "outputs": [],
   "source": []
  }
 ],
 "metadata": {
  "kernelspec": {
   "display_name": "Django Shell-Plus",
   "language": "python",
   "name": "django_extensions"
  },
  "language_info": {
   "codemirror_mode": {
    "name": "ipython",
    "version": 3
   },
   "file_extension": ".py",
   "mimetype": "text/x-python",
   "name": "python",
   "nbconvert_exporter": "python",
   "pygments_lexer": "ipython3",
   "version": "3.8.16"
  }
 },
 "nbformat": 4,
 "nbformat_minor": 5
}
