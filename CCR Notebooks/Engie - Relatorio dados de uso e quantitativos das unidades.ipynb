{
 "cells": [
  {
   "cell_type": "code",
   "execution_count": 10,
   "id": "78d4cef2",
   "metadata": {},
   "outputs": [],
   "source": [
    "import pandas as pd\n",
    "from tqdm.notebook import tqdm\n",
    "import re\n",
    "from django.db.models import Q\n",
    "from helpers.strings import get_obj_from_path"
   ]
  },
  {
   "cell_type": "code",
   "execution_count": 11,
   "id": "28784031",
   "metadata": {},
   "outputs": [],
   "source": [
    "def traduz_operational_control(dicio):\n",
    "    possible_lane_path = (\n",
    "            \"operational_control__fields__kind__selectoptions__options\"\n",
    "        )\n",
    "    operational_control = get_obj_from_path(\n",
    "            Company.objects.get(name=dicio['company__name']).custom_options, possible_lane_path\n",
    "        )\n",
    "    valor = next(a['name'] for a in operational_control if a['value'] == dicio['operational_control__kind'])\n",
    "    dicio['opc__name'] = valor\n",
    "    return dicio"
   ]
  },
  {
   "cell_type": "code",
   "execution_count": 2,
   "id": "8f65d872",
   "metadata": {},
   "outputs": [],
   "source": [
    "filename = 'Dados Engie_v5'\n",
    "# pd.DataFrame().to_excel(filename+'.xlsx')"
   ]
  },
  {
   "cell_type": "code",
   "execution_count": 142,
   "id": "eed04a2b",
   "metadata": {
    "scrolled": true
   },
   "outputs": [],
   "source": [
    "ocrs=OccurrenceRecord.objects.all().values('company__name','datetime__month','datetime__year').annotate(qtd_apt=Count('uuid')).order_by('company__name')"
   ]
  },
  {
   "cell_type": "code",
   "execution_count": 143,
   "id": "c02e3b9e",
   "metadata": {},
   "outputs": [
    {
     "data": {
      "text/plain": [
       "<QuerySet [{'company__name': 'ATIVO-TREINAMENTO', 'datetime__month': 1, 'datetime__year': 2019, 'qtd_apt': 12}, {'company__name': 'ATIVO-TREINAMENTO', 'datetime__month': 1, 'datetime__year': 2020, 'qtd_apt': 9}, {'company__name': 'ATIVO-TREINAMENTO', 'datetime__month': 2, 'datetime__year': 2019, 'qtd_apt': 7}, {'company__name': 'ATIVO-TREINAMENTO', 'datetime__month': 2, 'datetime__year': 2020, 'qtd_apt': 1}, {'company__name': 'ATIVO-TREINAMENTO', 'datetime__month': 3, 'datetime__year': 2019, 'qtd_apt': 2}, {'company__name': 'ATIVO-TREINAMENTO', 'datetime__month': 3, 'datetime__year': 2020, 'qtd_apt': 8}, {'company__name': 'ATIVO-TREINAMENTO', 'datetime__month': 4, 'datetime__year': 2019, 'qtd_apt': 11}, {'company__name': 'ATIVO-TREINAMENTO', 'datetime__month': 4, 'datetime__year': 2020, 'qtd_apt': 6}, {'company__name': 'ATIVO-TREINAMENTO', 'datetime__month': 5, 'datetime__year': 2019, 'qtd_apt': 5}, {'company__name': 'ATIVO-TREINAMENTO', 'datetime__month': 5, 'datetime__year': 2020, 'qtd_apt': 9}, {'company__name': 'ATIVO-TREINAMENTO', 'datetime__month': 6, 'datetime__year': 2019, 'qtd_apt': 1}, {'company__name': 'ATIVO-TREINAMENTO', 'datetime__month': 6, 'datetime__year': 2020, 'qtd_apt': 5}, {'company__name': 'ATIVO-TREINAMENTO', 'datetime__month': 7, 'datetime__year': 2019, 'qtd_apt': 2}, {'company__name': 'ATIVO-TREINAMENTO', 'datetime__month': 7, 'datetime__year': 2020, 'qtd_apt': 24}, {'company__name': 'ATIVO-TREINAMENTO', 'datetime__month': 8, 'datetime__year': 2019, 'qtd_apt': 4}, {'company__name': 'ATIVO-TREINAMENTO', 'datetime__month': 8, 'datetime__year': 2020, 'qtd_apt': 5}, {'company__name': 'ATIVO-TREINAMENTO', 'datetime__month': 9, 'datetime__year': 2019, 'qtd_apt': 3}, {'company__name': 'ATIVO-TREINAMENTO', 'datetime__month': 9, 'datetime__year': 2020, 'qtd_apt': 6}, {'company__name': 'ATIVO-TREINAMENTO', 'datetime__month': 10, 'datetime__year': 2018, 'qtd_apt': 7}, {'company__name': 'ATIVO-TREINAMENTO', 'datetime__month': 10, 'datetime__year': 2019, 'qtd_apt': 3}, '...(remaining elements truncated)...']>"
      ]
     },
     "execution_count": 143,
     "metadata": {},
     "output_type": "execute_result"
    }
   ],
   "source": [
    "ocrs"
   ]
  },
  {
   "cell_type": "code",
   "execution_count": 144,
   "id": "c474f58d",
   "metadata": {
    "scrolled": true
   },
   "outputs": [
    {
     "data": {
      "text/html": [
       "<div>\n",
       "<style scoped>\n",
       "    .dataframe tbody tr th:only-of-type {\n",
       "        vertical-align: middle;\n",
       "    }\n",
       "\n",
       "    .dataframe tbody tr th {\n",
       "        vertical-align: top;\n",
       "    }\n",
       "\n",
       "    .dataframe thead th {\n",
       "        text-align: right;\n",
       "    }\n",
       "</style>\n",
       "<table border=\"1\" class=\"dataframe\">\n",
       "  <thead>\n",
       "    <tr style=\"text-align: right;\">\n",
       "      <th></th>\n",
       "      <th>Usina</th>\n",
       "      <th>Mês</th>\n",
       "      <th>Ano</th>\n",
       "      <th>Quantidade de Registros</th>\n",
       "    </tr>\n",
       "  </thead>\n",
       "  <tbody>\n",
       "    <tr>\n",
       "      <th>0</th>\n",
       "      <td>ATIVO-TREINAMENTO</td>\n",
       "      <td>1.0</td>\n",
       "      <td>2019.0</td>\n",
       "      <td>12</td>\n",
       "    </tr>\n",
       "    <tr>\n",
       "      <th>1</th>\n",
       "      <td>ATIVO-TREINAMENTO</td>\n",
       "      <td>1.0</td>\n",
       "      <td>2020.0</td>\n",
       "      <td>9</td>\n",
       "    </tr>\n",
       "    <tr>\n",
       "      <th>2</th>\n",
       "      <td>ATIVO-TREINAMENTO</td>\n",
       "      <td>2.0</td>\n",
       "      <td>2019.0</td>\n",
       "      <td>7</td>\n",
       "    </tr>\n",
       "    <tr>\n",
       "      <th>3</th>\n",
       "      <td>ATIVO-TREINAMENTO</td>\n",
       "      <td>2.0</td>\n",
       "      <td>2020.0</td>\n",
       "      <td>1</td>\n",
       "    </tr>\n",
       "    <tr>\n",
       "      <th>4</th>\n",
       "      <td>ATIVO-TREINAMENTO</td>\n",
       "      <td>3.0</td>\n",
       "      <td>2019.0</td>\n",
       "      <td>2</td>\n",
       "    </tr>\n",
       "    <tr>\n",
       "      <th>...</th>\n",
       "      <td>...</td>\n",
       "      <td>...</td>\n",
       "      <td>...</td>\n",
       "      <td>...</td>\n",
       "    </tr>\n",
       "    <tr>\n",
       "      <th>980</th>\n",
       "      <td>Limbo - UTPS</td>\n",
       "      <td>8.0</td>\n",
       "      <td>2022.0</td>\n",
       "      <td>37</td>\n",
       "    </tr>\n",
       "    <tr>\n",
       "      <th>981</th>\n",
       "      <td>Limbo - UTPS</td>\n",
       "      <td>9.0</td>\n",
       "      <td>2022.0</td>\n",
       "      <td>53</td>\n",
       "    </tr>\n",
       "    <tr>\n",
       "      <th>982</th>\n",
       "      <td>POC-Projeto APR</td>\n",
       "      <td>5.0</td>\n",
       "      <td>2020.0</td>\n",
       "      <td>6</td>\n",
       "    </tr>\n",
       "    <tr>\n",
       "      <th>983</th>\n",
       "      <td>POC-Projeto APR</td>\n",
       "      <td>6.0</td>\n",
       "      <td>2020.0</td>\n",
       "      <td>1</td>\n",
       "    </tr>\n",
       "    <tr>\n",
       "      <th>984</th>\n",
       "      <td>RECURSOS HIDRICOS</td>\n",
       "      <td>1.0</td>\n",
       "      <td>2023.0</td>\n",
       "      <td>13</td>\n",
       "    </tr>\n",
       "  </tbody>\n",
       "</table>\n",
       "<p>985 rows × 4 columns</p>\n",
       "</div>"
      ],
      "text/plain": [
       "                 Usina  Mês     Ano  Quantidade de Registros\n",
       "0    ATIVO-TREINAMENTO  1.0  2019.0                       12\n",
       "1    ATIVO-TREINAMENTO  1.0  2020.0                        9\n",
       "2    ATIVO-TREINAMENTO  2.0  2019.0                        7\n",
       "3    ATIVO-TREINAMENTO  2.0  2020.0                        1\n",
       "4    ATIVO-TREINAMENTO  3.0  2019.0                        2\n",
       "..                 ...  ...     ...                      ...\n",
       "980       Limbo - UTPS  8.0  2022.0                       37\n",
       "981       Limbo - UTPS  9.0  2022.0                       53\n",
       "982    POC-Projeto APR  5.0  2020.0                        6\n",
       "983    POC-Projeto APR  6.0  2020.0                        1\n",
       "984  RECURSOS HIDRICOS  1.0  2023.0                       13\n",
       "\n",
       "[985 rows x 4 columns]"
      ]
     },
     "execution_count": 144,
     "metadata": {},
     "output_type": "execute_result"
    }
   ],
   "source": [
    "df = pd.DataFrame(data=ocrs,columns=['company__name','datetime__month','datetime__year','qtd_apt'])\n",
    "df.columns=['Usina','Mês','Ano','Quantidade de Registros']\n",
    "df"
   ]
  },
  {
   "cell_type": "code",
   "execution_count": 145,
   "id": "65e8ad36",
   "metadata": {},
   "outputs": [
    {
     "data": {
      "text/plain": [
       "(                 Usina  Mês     Ano  Quantidade de Registros Usina_inicio\n",
       " 0    ATIVO-TREINAMENTO  1.0  2019.0                       12          ATI\n",
       " 1    ATIVO-TREINAMENTO  1.0  2020.0                        9          ATI\n",
       " 2    ATIVO-TREINAMENTO  2.0  2019.0                        7          ATI\n",
       " 3    ATIVO-TREINAMENTO  2.0  2020.0                        1          ATI\n",
       " 4    ATIVO-TREINAMENTO  3.0  2019.0                        2          ATI\n",
       " ..                 ...  ...     ...                      ...          ...\n",
       " 980       Limbo - UTPS  8.0  2022.0                       37          Lim\n",
       " 981       Limbo - UTPS  9.0  2022.0                       53          Lim\n",
       " 982    POC-Projeto APR  5.0  2020.0                        6          POC\n",
       " 983    POC-Projeto APR  6.0  2020.0                        1          POC\n",
       " 984  RECURSOS HIDRICOS  1.0  2023.0                       13          REC\n",
       " \n",
       " [985 rows x 5 columns],\n",
       " Ano     Mês   Usina_inicio\n",
       " 1977.0  11.0  GSB                16\n",
       "         12.0  GSB                11\n",
       " 1978.0  1.0   GSB                30\n",
       "         2.0   GSB                26\n",
       "         3.0   GSB                34\n",
       "                               ...  \n",
       " 2023.0  11.0  GSB             23225\n",
       "         12.0  GES               355\n",
       "               GSB             22733\n",
       " 2024.0  1.0   GES                57\n",
       "               GSB             13016\n",
       " Name: Quantidade de Registros, Length: 459, dtype: int64)"
      ]
     },
     "execution_count": 145,
     "metadata": {},
     "output_type": "execute_result"
    }
   ],
   "source": [
    "df['Usina_inicio'] = df['Usina'].str.slice(stop=3)\n",
    "dfSomaMesUsina = df.groupby([\"Ano\",'Mês','Usina_inicio'])['Quantidade de Registros'].sum()\n",
    "df,dfSomaMesUsina"
   ]
  },
  {
   "cell_type": "code",
   "execution_count": 146,
   "id": "9fbc6069",
   "metadata": {},
   "outputs": [
    {
     "data": {
      "text/plain": [
       "Usina_inicio\n",
       "ATI       166\n",
       "GES     42445\n",
       "GSB    379736\n",
       "GSO     11742\n",
       "Lim        90\n",
       "POC         7\n",
       "REC        13\n",
       "Name: Quantidade de Registros, dtype: int64"
      ]
     },
     "execution_count": 146,
     "metadata": {},
     "output_type": "execute_result"
    }
   ],
   "source": [
    "df_soma = df.groupby('Usina_inicio')['Quantidade de Registros'].sum()\n",
    "df_soma"
   ]
  },
  {
   "cell_type": "code",
   "execution_count": 147,
   "id": "24bdc62f",
   "metadata": {},
   "outputs": [
    {
     "data": {
      "text/html": [
       "<div>\n",
       "<style scoped>\n",
       "    .dataframe tbody tr th:only-of-type {\n",
       "        vertical-align: middle;\n",
       "    }\n",
       "\n",
       "    .dataframe tbody tr th {\n",
       "        vertical-align: top;\n",
       "    }\n",
       "\n",
       "    .dataframe thead th {\n",
       "        text-align: right;\n",
       "    }\n",
       "</style>\n",
       "<table border=\"1\" class=\"dataframe\">\n",
       "  <thead>\n",
       "    <tr style=\"text-align: right;\">\n",
       "      <th></th>\n",
       "      <th>Quantidade de Registros</th>\n",
       "    </tr>\n",
       "    <tr>\n",
       "      <th>Usina_inicio</th>\n",
       "      <th></th>\n",
       "    </tr>\n",
       "  </thead>\n",
       "  <tbody>\n",
       "    <tr>\n",
       "      <th>GES</th>\n",
       "      <td>42445</td>\n",
       "    </tr>\n",
       "    <tr>\n",
       "      <th>GSB</th>\n",
       "      <td>379736</td>\n",
       "    </tr>\n",
       "    <tr>\n",
       "      <th>GSO</th>\n",
       "      <td>11742</td>\n",
       "    </tr>\n",
       "    <tr>\n",
       "      <th>REC</th>\n",
       "      <td>13</td>\n",
       "    </tr>\n",
       "  </tbody>\n",
       "</table>\n",
       "</div>"
      ],
      "text/plain": [
       "              Quantidade de Registros\n",
       "Usina_inicio                         \n",
       "GES                             42445\n",
       "GSB                            379736\n",
       "GSO                             11742\n",
       "REC                                13"
      ]
     },
     "execution_count": 147,
     "metadata": {},
     "output_type": "execute_result"
    }
   ],
   "source": [
    "df2 = pd.DataFrame(data=df_soma)\n",
    "df_final_qtd_registros = df2.transpose()[['GES','GSB','GSO','REC']]\n",
    "df_final_qtd_registros = df_final_qtd_registros.transpose()\n",
    "df_final_qtd_registros"
   ]
  },
  {
   "cell_type": "code",
   "execution_count": 148,
   "id": "db1ba033",
   "metadata": {},
   "outputs": [
    {
     "data": {
      "text/html": [
       "<div>\n",
       "<style scoped>\n",
       "    .dataframe tbody tr th:only-of-type {\n",
       "        vertical-align: middle;\n",
       "    }\n",
       "\n",
       "    .dataframe tbody tr th {\n",
       "        vertical-align: top;\n",
       "    }\n",
       "\n",
       "    .dataframe thead th {\n",
       "        text-align: right;\n",
       "    }\n",
       "</style>\n",
       "<table border=\"1\" class=\"dataframe\">\n",
       "  <thead>\n",
       "    <tr style=\"text-align: right;\">\n",
       "      <th></th>\n",
       "      <th></th>\n",
       "      <th>Mês</th>\n",
       "      <th>Quantidade de Registros</th>\n",
       "    </tr>\n",
       "    <tr>\n",
       "      <th>Ano</th>\n",
       "      <th>Usina_inicio</th>\n",
       "      <th></th>\n",
       "      <th></th>\n",
       "    </tr>\n",
       "  </thead>\n",
       "  <tbody>\n",
       "    <tr>\n",
       "      <th rowspan=\"2\" valign=\"top\">1977.0</th>\n",
       "      <th>GSB</th>\n",
       "      <td>11.0</td>\n",
       "      <td>16</td>\n",
       "    </tr>\n",
       "    <tr>\n",
       "      <th>GSB</th>\n",
       "      <td>12.0</td>\n",
       "      <td>11</td>\n",
       "    </tr>\n",
       "    <tr>\n",
       "      <th rowspan=\"3\" valign=\"top\">1978.0</th>\n",
       "      <th>GSB</th>\n",
       "      <td>1.0</td>\n",
       "      <td>30</td>\n",
       "    </tr>\n",
       "    <tr>\n",
       "      <th>GSB</th>\n",
       "      <td>2.0</td>\n",
       "      <td>26</td>\n",
       "    </tr>\n",
       "    <tr>\n",
       "      <th>GSB</th>\n",
       "      <td>3.0</td>\n",
       "      <td>34</td>\n",
       "    </tr>\n",
       "    <tr>\n",
       "      <th>...</th>\n",
       "      <th>...</th>\n",
       "      <td>...</td>\n",
       "      <td>...</td>\n",
       "    </tr>\n",
       "    <tr>\n",
       "      <th rowspan=\"3\" valign=\"top\">2023.0</th>\n",
       "      <th>GSB</th>\n",
       "      <td>11.0</td>\n",
       "      <td>23225</td>\n",
       "    </tr>\n",
       "    <tr>\n",
       "      <th>GES</th>\n",
       "      <td>12.0</td>\n",
       "      <td>355</td>\n",
       "    </tr>\n",
       "    <tr>\n",
       "      <th>GSB</th>\n",
       "      <td>12.0</td>\n",
       "      <td>22733</td>\n",
       "    </tr>\n",
       "    <tr>\n",
       "      <th rowspan=\"2\" valign=\"top\">2024.0</th>\n",
       "      <th>GES</th>\n",
       "      <td>1.0</td>\n",
       "      <td>57</td>\n",
       "    </tr>\n",
       "    <tr>\n",
       "      <th>GSB</th>\n",
       "      <td>1.0</td>\n",
       "      <td>13016</td>\n",
       "    </tr>\n",
       "  </tbody>\n",
       "</table>\n",
       "<p>432 rows × 2 columns</p>\n",
       "</div>"
      ],
      "text/plain": [
       "                      Mês  Quantidade de Registros\n",
       "Ano    Usina_inicio                               \n",
       "1977.0 GSB           11.0                       16\n",
       "       GSB           12.0                       11\n",
       "1978.0 GSB            1.0                       30\n",
       "       GSB            2.0                       26\n",
       "       GSB            3.0                       34\n",
       "...                   ...                      ...\n",
       "2023.0 GSB           11.0                    23225\n",
       "       GES           12.0                      355\n",
       "       GSB           12.0                    22733\n",
       "2024.0 GES            1.0                       57\n",
       "       GSB            1.0                    13016\n",
       "\n",
       "[432 rows x 2 columns]"
      ]
     },
     "execution_count": 148,
     "metadata": {},
     "output_type": "execute_result"
    }
   ],
   "source": [
    "df_mes_soma = pd.DataFrame(data=dfSomaMesUsina)\n",
    "df_mes_soma = df_mes_soma.reset_index()\n",
    "df_mes_soma_v2 = df_mes_soma[df_mes_soma['Usina_inicio'].isin(['GES','GSB','GSO','REC'])].set_index(['Ano','Usina_inicio'])\n",
    "df_mes_soma_v2"
   ]
  },
  {
   "cell_type": "code",
   "execution_count": 150,
   "id": "3da62d3e",
   "metadata": {},
   "outputs": [],
   "source": [
    "aclog=ActionLog.objects.filter(\n",
    "    Q(company__name__startswith='GES')|Q(company__name__startswith='GSB')|Q(company__name__startswith='GSO')|Q(company__name__startswith='REC')\n",
    ").values_list('company__name','created_at__month','created_at__year','action').annotate(qtd_atividade=Count('uuid')).order_by('company__name')"
   ]
  },
  {
   "cell_type": "code",
   "execution_count": 151,
   "id": "e5ef7ef8",
   "metadata": {
    "scrolled": true
   },
   "outputs": [
    {
     "data": {
      "text/plain": [
       "((<django.db.models.fields.UUIDField: uuid>,\n",
       "  <django.db.models.fields.related.ForeignKey: company>,\n",
       "  <django.db.models.fields.related.ForeignKey: company_group>,\n",
       "  <django.db.models.fields.related.ForeignKey: user>,\n",
       "  <django.db.models.fields.DateTimeField: created_at>,\n",
       "  <django.db.models.fields.TextField: action>,\n",
       "  <django.db.models.fields.TextField: user_ip>,\n",
       "  <django.db.models.fields.TextField: user_port>,\n",
       "  <django.db.models.fields.TextField: user_agent>,\n",
       "  <django.db.models.fields.related.ForeignKey: content_type>,\n",
       "  <django.db.models.fields.UUIDField: object_id>),\n",
       " <QuerySet [('GES - GEH', 1, 2021, 'Create', 1), ('GES - GEH', 1, 2022, 'Update', 1), ('GES - GEH', 1, 2023, 'Create', 2), ('GES - GEH', 1, 2023, 'Update', 5), ('GES - GEH', 1, 2024, 'Create', 13), ('GES - GEH', 1, 2024, 'Update', 25), ('GES - GEH', 2, 2023, 'Create', 66), ('GES - GEH', 2, 2023, 'Update', 57), ('GES - GEH', 3, 2022, 'Create', 41), ('GES - GEH', 3, 2022, 'Delete', 5), ('GES - GEH', 3, 2022, 'Update', 62), ('GES - GEH', 3, 2023, 'Create', 19), ('GES - GEH', 3, 2023, 'Delete', 1), ('GES - GEH', 3, 2023, 'Update', 29), ('GES - GEH', 4, 2021, 'Create', 1), ('GES - GEH', 4, 2022, 'Create', 10), ('GES - GEH', 4, 2022, 'Update', 4), ('GES - GEH', 4, 2023, 'Create', 164), ('GES - GEH', 4, 2023, 'Update', 92), ('GES - GEH', 5, 2021, 'Create', 36), '...(remaining elements truncated)...']>)"
      ]
     },
     "execution_count": 151,
     "metadata": {},
     "output_type": "execute_result"
    }
   ],
   "source": [
    "ActionLog._meta.fields,aclog"
   ]
  },
  {
   "cell_type": "code",
   "execution_count": 152,
   "id": "fd1c2511",
   "metadata": {},
   "outputs": [
    {
     "data": {
      "text/html": [
       "<div>\n",
       "<style scoped>\n",
       "    .dataframe tbody tr th:only-of-type {\n",
       "        vertical-align: middle;\n",
       "    }\n",
       "\n",
       "    .dataframe tbody tr th {\n",
       "        vertical-align: top;\n",
       "    }\n",
       "\n",
       "    .dataframe thead th {\n",
       "        text-align: right;\n",
       "    }\n",
       "</style>\n",
       "<table border=\"1\" class=\"dataframe\">\n",
       "  <thead>\n",
       "    <tr style=\"text-align: right;\">\n",
       "      <th></th>\n",
       "      <th>Usina</th>\n",
       "      <th>Mês</th>\n",
       "      <th>Ano</th>\n",
       "      <th>Ação</th>\n",
       "      <th>Qtd por Ação</th>\n",
       "    </tr>\n",
       "  </thead>\n",
       "  <tbody>\n",
       "    <tr>\n",
       "      <th>0</th>\n",
       "      <td>GES - GEH</td>\n",
       "      <td>1</td>\n",
       "      <td>2021</td>\n",
       "      <td>Criação</td>\n",
       "      <td>1</td>\n",
       "    </tr>\n",
       "    <tr>\n",
       "      <th>1</th>\n",
       "      <td>GES - GEH</td>\n",
       "      <td>1</td>\n",
       "      <td>2022</td>\n",
       "      <td>Atualização</td>\n",
       "      <td>1</td>\n",
       "    </tr>\n",
       "    <tr>\n",
       "      <th>2</th>\n",
       "      <td>GES - GEH</td>\n",
       "      <td>1</td>\n",
       "      <td>2023</td>\n",
       "      <td>Criação</td>\n",
       "      <td>2</td>\n",
       "    </tr>\n",
       "    <tr>\n",
       "      <th>3</th>\n",
       "      <td>GES - GEH</td>\n",
       "      <td>1</td>\n",
       "      <td>2023</td>\n",
       "      <td>Atualização</td>\n",
       "      <td>5</td>\n",
       "    </tr>\n",
       "    <tr>\n",
       "      <th>4</th>\n",
       "      <td>GES - GEH</td>\n",
       "      <td>1</td>\n",
       "      <td>2024</td>\n",
       "      <td>Criação</td>\n",
       "      <td>13</td>\n",
       "    </tr>\n",
       "    <tr>\n",
       "      <th>...</th>\n",
       "      <td>...</td>\n",
       "      <td>...</td>\n",
       "      <td>...</td>\n",
       "      <td>...</td>\n",
       "      <td>...</td>\n",
       "    </tr>\n",
       "    <tr>\n",
       "      <th>1405</th>\n",
       "      <td>GSO - UTPS</td>\n",
       "      <td>7</td>\n",
       "      <td>2023</td>\n",
       "      <td>Atualização</td>\n",
       "      <td>1</td>\n",
       "    </tr>\n",
       "    <tr>\n",
       "      <th>1406</th>\n",
       "      <td>GSO - UTPS</td>\n",
       "      <td>8</td>\n",
       "      <td>2023</td>\n",
       "      <td>Atualização</td>\n",
       "      <td>2</td>\n",
       "    </tr>\n",
       "    <tr>\n",
       "      <th>1407</th>\n",
       "      <td>GSO - UTPS</td>\n",
       "      <td>10</td>\n",
       "      <td>2023</td>\n",
       "      <td>Atualização</td>\n",
       "      <td>3</td>\n",
       "    </tr>\n",
       "    <tr>\n",
       "      <th>1408</th>\n",
       "      <td>RECURSOS HIDRICOS</td>\n",
       "      <td>1</td>\n",
       "      <td>2024</td>\n",
       "      <td>Atualização</td>\n",
       "      <td>1</td>\n",
       "    </tr>\n",
       "    <tr>\n",
       "      <th>1409</th>\n",
       "      <td>RECURSOS HIDRICOS</td>\n",
       "      <td>10</td>\n",
       "      <td>2023</td>\n",
       "      <td>Criação</td>\n",
       "      <td>1</td>\n",
       "    </tr>\n",
       "  </tbody>\n",
       "</table>\n",
       "<p>1410 rows × 5 columns</p>\n",
       "</div>"
      ],
      "text/plain": [
       "                  Usina  Mês   Ano         Ação  Qtd por Ação\n",
       "0             GES - GEH    1  2021      Criação             1\n",
       "1             GES - GEH    1  2022  Atualização             1\n",
       "2             GES - GEH    1  2023      Criação             2\n",
       "3             GES - GEH    1  2023  Atualização             5\n",
       "4             GES - GEH    1  2024      Criação            13\n",
       "...                 ...  ...   ...          ...           ...\n",
       "1405         GSO - UTPS    7  2023  Atualização             1\n",
       "1406         GSO - UTPS    8  2023  Atualização             2\n",
       "1407         GSO - UTPS   10  2023  Atualização             3\n",
       "1408  RECURSOS HIDRICOS    1  2024  Atualização             1\n",
       "1409  RECURSOS HIDRICOS   10  2023      Criação             1\n",
       "\n",
       "[1410 rows x 5 columns]"
      ]
     },
     "execution_count": 152,
     "metadata": {},
     "output_type": "execute_result"
    }
   ],
   "source": [
    "df_action=pd.DataFrame(data=aclog)\n",
    "df_action.rename(columns={0: 'Usina',1:'Mês',2:'Ano',3: 'Ação',4: 'Qtd por Ação'}, inplace=True)\n",
    "df_action['Ação']=df_action['Ação'].str.replace('Create','Criação')\n",
    "df_action['Ação']=df_action['Ação'].str.replace('Delete','Deleção')\n",
    "df_action['Ação']=df_action['Ação'].str.replace('Update','Atualização')\n",
    "df_action"
   ]
  },
  {
   "cell_type": "code",
   "execution_count": 153,
   "id": "27e1dc19",
   "metadata": {},
   "outputs": [
    {
     "data": {
      "text/plain": [
       "Ano   Mês  Usina_inicio\n",
       "2020  8    GES              969\n",
       "      9    GES             3181\n",
       "      10   GES             3066\n",
       "      11   GES             2402\n",
       "           GSO                4\n",
       "                           ... \n",
       "2023  12   GSB              118\n",
       "           GSO               14\n",
       "2024  1    GES             3203\n",
       "           GSO                3\n",
       "           REC                1\n",
       "Name: Qtd por Ação, Length: 72, dtype: int64"
      ]
     },
     "execution_count": 153,
     "metadata": {},
     "output_type": "execute_result"
    }
   ],
   "source": [
    "df_action['Usina_inicio'] = df_action['Usina'].str.slice(stop=3)\n",
    "df_action_soma = df_action.groupby('Usina_inicio')['Qtd por Ação'].sum()\n",
    "df_action_soma_anomes = df_action.groupby(['Ano','Mês','Usina_inicio'])['Qtd por Ação'].sum()\n",
    "df_action_soma_anomes"
   ]
  },
  {
   "cell_type": "code",
   "execution_count": 154,
   "id": "78a800db",
   "metadata": {},
   "outputs": [
    {
     "data": {
      "text/html": [
       "<div>\n",
       "<style scoped>\n",
       "    .dataframe tbody tr th:only-of-type {\n",
       "        vertical-align: middle;\n",
       "    }\n",
       "\n",
       "    .dataframe tbody tr th {\n",
       "        vertical-align: top;\n",
       "    }\n",
       "\n",
       "    .dataframe thead th {\n",
       "        text-align: right;\n",
       "    }\n",
       "</style>\n",
       "<table border=\"1\" class=\"dataframe\">\n",
       "  <thead>\n",
       "    <tr style=\"text-align: right;\">\n",
       "      <th></th>\n",
       "      <th></th>\n",
       "      <th></th>\n",
       "      <th>Qtd por Ação</th>\n",
       "    </tr>\n",
       "    <tr>\n",
       "      <th>Ano</th>\n",
       "      <th>Mês</th>\n",
       "      <th>Usina_inicio</th>\n",
       "      <th></th>\n",
       "    </tr>\n",
       "  </thead>\n",
       "  <tbody>\n",
       "    <tr>\n",
       "      <th rowspan=\"5\" valign=\"top\">2020</th>\n",
       "      <th>8</th>\n",
       "      <th>GES</th>\n",
       "      <td>969</td>\n",
       "    </tr>\n",
       "    <tr>\n",
       "      <th>9</th>\n",
       "      <th>GES</th>\n",
       "      <td>3181</td>\n",
       "    </tr>\n",
       "    <tr>\n",
       "      <th>10</th>\n",
       "      <th>GES</th>\n",
       "      <td>3066</td>\n",
       "    </tr>\n",
       "    <tr>\n",
       "      <th rowspan=\"2\" valign=\"top\">11</th>\n",
       "      <th>GES</th>\n",
       "      <td>2402</td>\n",
       "    </tr>\n",
       "    <tr>\n",
       "      <th>GSO</th>\n",
       "      <td>4</td>\n",
       "    </tr>\n",
       "    <tr>\n",
       "      <th>...</th>\n",
       "      <th>...</th>\n",
       "      <th>...</th>\n",
       "      <td>...</td>\n",
       "    </tr>\n",
       "    <tr>\n",
       "      <th rowspan=\"2\" valign=\"top\">2023</th>\n",
       "      <th rowspan=\"2\" valign=\"top\">12</th>\n",
       "      <th>GSB</th>\n",
       "      <td>118</td>\n",
       "    </tr>\n",
       "    <tr>\n",
       "      <th>GSO</th>\n",
       "      <td>14</td>\n",
       "    </tr>\n",
       "    <tr>\n",
       "      <th rowspan=\"3\" valign=\"top\">2024</th>\n",
       "      <th rowspan=\"3\" valign=\"top\">1</th>\n",
       "      <th>GES</th>\n",
       "      <td>3203</td>\n",
       "    </tr>\n",
       "    <tr>\n",
       "      <th>GSO</th>\n",
       "      <td>3</td>\n",
       "    </tr>\n",
       "    <tr>\n",
       "      <th>REC</th>\n",
       "      <td>1</td>\n",
       "    </tr>\n",
       "  </tbody>\n",
       "</table>\n",
       "<p>72 rows × 1 columns</p>\n",
       "</div>"
      ],
      "text/plain": [
       "                       Qtd por Ação\n",
       "Ano  Mês Usina_inicio              \n",
       "2020 8   GES                    969\n",
       "     9   GES                   3181\n",
       "     10  GES                   3066\n",
       "     11  GES                   2402\n",
       "         GSO                      4\n",
       "...                             ...\n",
       "2023 12  GSB                    118\n",
       "         GSO                     14\n",
       "2024 1   GES                   3203\n",
       "         GSO                      3\n",
       "         REC                      1\n",
       "\n",
       "[72 rows x 1 columns]"
      ]
     },
     "execution_count": 154,
     "metadata": {},
     "output_type": "execute_result"
    }
   ],
   "source": [
    "df2_action_soma_anomes = pd.DataFrame(data=df_action_soma_anomes)\n",
    "df2_action_soma_anomes"
   ]
  },
  {
   "cell_type": "code",
   "execution_count": 155,
   "id": "912a31ad",
   "metadata": {},
   "outputs": [
    {
     "data": {
      "text/html": [
       "<div>\n",
       "<style scoped>\n",
       "    .dataframe tbody tr th:only-of-type {\n",
       "        vertical-align: middle;\n",
       "    }\n",
       "\n",
       "    .dataframe tbody tr th {\n",
       "        vertical-align: top;\n",
       "    }\n",
       "\n",
       "    .dataframe thead th {\n",
       "        text-align: right;\n",
       "    }\n",
       "</style>\n",
       "<table border=\"1\" class=\"dataframe\">\n",
       "  <thead>\n",
       "    <tr style=\"text-align: right;\">\n",
       "      <th></th>\n",
       "      <th>Total de ações no sistema por usina</th>\n",
       "    </tr>\n",
       "    <tr>\n",
       "      <th>Usina_inicio</th>\n",
       "      <th></th>\n",
       "    </tr>\n",
       "  </thead>\n",
       "  <tbody>\n",
       "    <tr>\n",
       "      <th>GES</th>\n",
       "      <td>173062</td>\n",
       "    </tr>\n",
       "    <tr>\n",
       "      <th>GSB</th>\n",
       "      <td>988</td>\n",
       "    </tr>\n",
       "    <tr>\n",
       "      <th>GSO</th>\n",
       "      <td>1085</td>\n",
       "    </tr>\n",
       "    <tr>\n",
       "      <th>REC</th>\n",
       "      <td>2</td>\n",
       "    </tr>\n",
       "  </tbody>\n",
       "</table>\n",
       "</div>"
      ],
      "text/plain": [
       "              Total de ações no sistema por usina\n",
       "Usina_inicio                                     \n",
       "GES                                        173062\n",
       "GSB                                           988\n",
       "GSO                                          1085\n",
       "REC                                             2"
      ]
     },
     "execution_count": 155,
     "metadata": {},
     "output_type": "execute_result"
    }
   ],
   "source": [
    "df2_action_soma = pd.DataFrame(data=df_action_soma)\n",
    "df_final_action_soma = df2_action_soma.transpose()[['GES','GSB','GSO','REC']]\n",
    "df2_action_soma.rename(columns={'Qtd por Ação':'Total de ações no sistema por usina'},inplace=True)\n",
    "df2_action_soma"
   ]
  },
  {
   "cell_type": "code",
   "execution_count": 156,
   "id": "865b354a",
   "metadata": {},
   "outputs": [
    {
     "data": {
      "text/html": [
       "<div>\n",
       "<style scoped>\n",
       "    .dataframe tbody tr th:only-of-type {\n",
       "        vertical-align: middle;\n",
       "    }\n",
       "\n",
       "    .dataframe tbody tr th {\n",
       "        vertical-align: top;\n",
       "    }\n",
       "\n",
       "    .dataframe thead th {\n",
       "        text-align: right;\n",
       "    }\n",
       "</style>\n",
       "<table border=\"1\" class=\"dataframe\">\n",
       "  <thead>\n",
       "    <tr style=\"text-align: right;\">\n",
       "      <th></th>\n",
       "      <th>Quantidade de Formularios por Usina</th>\n",
       "    </tr>\n",
       "    <tr>\n",
       "      <th>Usina_inicio</th>\n",
       "      <th></th>\n",
       "    </tr>\n",
       "  </thead>\n",
       "  <tbody>\n",
       "    <tr>\n",
       "      <th>GES</th>\n",
       "      <td>733</td>\n",
       "    </tr>\n",
       "    <tr>\n",
       "      <th>GSB</th>\n",
       "      <td>499</td>\n",
       "    </tr>\n",
       "    <tr>\n",
       "      <th>GSO</th>\n",
       "      <td>125</td>\n",
       "    </tr>\n",
       "    <tr>\n",
       "      <th>REC</th>\n",
       "      <td>2</td>\n",
       "    </tr>\n",
       "  </tbody>\n",
       "</table>\n",
       "</div>"
      ],
      "text/plain": [
       "              Quantidade de Formularios por Usina\n",
       "Usina_inicio                                     \n",
       "GES                                           733\n",
       "GSB                                           499\n",
       "GSO                                           125\n",
       "REC                                             2"
      ]
     },
     "execution_count": 156,
     "metadata": {},
     "output_type": "execute_result"
    }
   ],
   "source": [
    "occs = OccurrenceType.objects.all().values('company__name').annotate(qtd_forms=Count('uuid')).distinct()\n",
    "df_forms=pd.DataFrame(data=occs)\n",
    "df_forms['Usina_inicio'] = df_forms['company__name'].str.slice(stop=3)\n",
    "df_forms_soma = df_forms.groupby('Usina_inicio')['qtd_forms'].sum()\n",
    "df2_forms_soma = pd.DataFrame(data=df_forms_soma)\n",
    "df2_final_forms_soma = df2_forms_soma.transpose()[['GES','GSB','GSO','REC']]\n",
    "df2_final_forms_soma=df2_final_forms_soma.transpose()\n",
    "df2_final_forms_soma.rename(columns={'qtd_forms':'Quantidade de Formularios por Usina'},inplace=True)\n",
    "df2_final_forms_soma"
   ]
  },
  {
   "cell_type": "code",
   "execution_count": 157,
   "id": "526fbfb0",
   "metadata": {},
   "outputs": [
    {
     "data": {
      "text/plain": [
       "{'GES': 109, 'GSB': 164, 'GSO': 9, 'REC': 2}"
      ]
     },
     "execution_count": 157,
     "metadata": {},
     "output_type": "execute_result"
    }
   ],
   "source": [
    "distinct_classes={'GES':OccurrenceType.objects.filter(company__name__startswith='GES').distinct().count(),\n",
    "'GSB':OccurrenceType.objects.filter(company__name__startswith='GSB').distinct().count(),\n",
    "'GSO':OccurrenceType.objects.filter(company__name__startswith='GSO').distinct().count(),\n",
    "'REC':OccurrenceType.objects.filter(company__name__startswith='REC').distinct().count()}\n",
    "distinct_classes"
   ]
  },
  {
   "cell_type": "code",
   "execution_count": 158,
   "id": "1a3062ca",
   "metadata": {},
   "outputs": [
    {
     "data": {
      "text/html": [
       "<div>\n",
       "<style scoped>\n",
       "    .dataframe tbody tr th:only-of-type {\n",
       "        vertical-align: middle;\n",
       "    }\n",
       "\n",
       "    .dataframe tbody tr th {\n",
       "        vertical-align: top;\n",
       "    }\n",
       "\n",
       "    .dataframe thead th {\n",
       "        text-align: right;\n",
       "    }\n",
       "</style>\n",
       "<table border=\"1\" class=\"dataframe\">\n",
       "  <thead>\n",
       "    <tr style=\"text-align: right;\">\n",
       "      <th></th>\n",
       "      <th>Quantidade de Formularios por Usina</th>\n",
       "    </tr>\n",
       "    <tr>\n",
       "      <th>Usina_inicio</th>\n",
       "      <th></th>\n",
       "    </tr>\n",
       "  </thead>\n",
       "  <tbody>\n",
       "    <tr>\n",
       "      <th>GES</th>\n",
       "      <td>109</td>\n",
       "    </tr>\n",
       "    <tr>\n",
       "      <th>GSB</th>\n",
       "      <td>164</td>\n",
       "    </tr>\n",
       "    <tr>\n",
       "      <th>GSO</th>\n",
       "      <td>9</td>\n",
       "    </tr>\n",
       "    <tr>\n",
       "      <th>REC</th>\n",
       "      <td>2</td>\n",
       "    </tr>\n",
       "  </tbody>\n",
       "</table>\n",
       "</div>"
      ],
      "text/plain": [
       "              Quantidade de Formularios por Usina\n",
       "Usina_inicio                                     \n",
       "GES                                           109\n",
       "GSB                                           164\n",
       "GSO                                             9\n",
       "REC                                             2"
      ]
     },
     "execution_count": 158,
     "metadata": {},
     "output_type": "execute_result"
    }
   ],
   "source": [
    "for k,v in distinct_classes.items():\n",
    "    df2_final_forms_soma.loc[k] = v\n",
    "df2_final_forms_soma"
   ]
  },
  {
   "cell_type": "code",
   "execution_count": 162,
   "id": "8be3aac9",
   "metadata": {},
   "outputs": [
    {
     "data": {
      "text/plain": [
       "10603"
      ]
     },
     "execution_count": 162,
     "metadata": {},
     "output_type": "execute_result"
    }
   ],
   "source": [
    "OccurrenceRecord.objects.filter(\n",
    "    company__name__startswith='GES',\n",
    "    datetime__year='2023'\n",
    ").exclude(\n",
    "    created_by__username='engie'\n",
    ").count()"
   ]
  },
  {
   "cell_type": "code",
   "execution_count": 171,
   "id": "d057dd01",
   "metadata": {},
   "outputs": [],
   "source": [
    "occ_used=OccurrenceRecord.objects.filter(\n",
    "    company__name__startswith='GES'\n",
    ").values(\n",
    "    'occurrence_type__name','occurrence_type__occurrence_kind'\n",
    ").annotate(\n",
    "    qtd_por_classe=Count('uuid')\n",
    ").order_by(\n",
    "    '-qtd_por_classe'\n",
    ")"
   ]
  },
  {
   "cell_type": "code",
   "execution_count": 172,
   "id": "c57026ad",
   "metadata": {},
   "outputs": [
    {
     "data": {
      "text/plain": [
       "<QuerySet [{'occurrence_type__name': 'Geração do resíduo', 'occurrence_type__occurrence_kind': '704', 'qtd_por_classe': 10766}, {'occurrence_type__name': 'Cadastro', 'occurrence_type__occurrence_kind': '709', 'qtd_por_classe': 9303}, {'occurrence_type__name': 'Resumo Executivo', 'occurrence_type__occurrence_kind': '4', 'qtd_por_classe': 3916}, {'occurrence_type__name': 'Ocorrências patrimoniais', 'occurrence_type__occurrence_kind': '1', 'qtd_por_classe': 2762}, {'occurrence_type__name': 'Vistorias técnicas', 'occurrence_type__occurrence_kind': '5', 'qtd_por_classe': 2735}]>"
      ]
     },
     "execution_count": 172,
     "metadata": {},
     "output_type": "execute_result"
    }
   ],
   "source": [
    "occ_used[:5]"
   ]
  },
  {
   "cell_type": "code",
   "execution_count": 164,
   "id": "678055b6",
   "metadata": {},
   "outputs": [
    {
     "data": {
      "text/plain": [
       "42445"
      ]
     },
     "execution_count": 164,
     "metadata": {},
     "output_type": "execute_result"
    }
   ],
   "source": [
    "total = sum([item['qtd_por_classe'] for item in list(occ_used)])\n",
    "total"
   ]
  },
  {
   "cell_type": "code",
   "execution_count": 165,
   "id": "d66b630b",
   "metadata": {},
   "outputs": [],
   "source": [
    "percentage=list(map(lambda x: x/total, [item['qtd_por_classe'] for item in list(occ_used[:5])]))"
   ]
  },
  {
   "cell_type": "code",
   "execution_count": 166,
   "id": "537e950c",
   "metadata": {},
   "outputs": [],
   "source": [
    "temp=[]\n",
    "for a in zip(list(occ_used[:5]),percentage):\n",
    "    temp.append({'Classe':a[0]['occurrence_type__name'],\n",
    "                 'Top 5 Mais usados':a[0]['qtd_por_classe'],\n",
    "                 'Porcentagem':f'{round(a[1]*100,2)}%'})"
   ]
  },
  {
   "cell_type": "code",
   "execution_count": 167,
   "id": "ef6e1565",
   "metadata": {},
   "outputs": [
    {
     "data": {
      "text/plain": [
       "[{'Classe': 'Geração do resíduo',\n",
       "  'Top 5 Mais usados': 10766,\n",
       "  'Porcentagem': '25.36%'},\n",
       " {'Classe': 'Cadastro', 'Top 5 Mais usados': 10757, 'Porcentagem': '25.34%'},\n",
       " {'Classe': 'Resumo Executivo',\n",
       "  'Top 5 Mais usados': 3916,\n",
       "  'Porcentagem': '9.23%'},\n",
       " {'Classe': 'Ocorrências patrimoniais',\n",
       "  'Top 5 Mais usados': 2762,\n",
       "  'Porcentagem': '6.51%'},\n",
       " {'Classe': 'Vistorias técnicas',\n",
       "  'Top 5 Mais usados': 2735,\n",
       "  'Porcentagem': '6.44%'}]"
      ]
     },
     "execution_count": 167,
     "metadata": {},
     "output_type": "execute_result"
    }
   ],
   "source": [
    "temp"
   ]
  },
  {
   "cell_type": "code",
   "execution_count": 168,
   "id": "f40b1d29",
   "metadata": {},
   "outputs": [],
   "source": [
    "df_top_5=pd.DataFrame(data=temp)"
   ]
  },
  {
   "cell_type": "code",
   "execution_count": 169,
   "id": "7f406855",
   "metadata": {},
   "outputs": [
    {
     "data": {
      "text/html": [
       "<div>\n",
       "<style scoped>\n",
       "    .dataframe tbody tr th:only-of-type {\n",
       "        vertical-align: middle;\n",
       "    }\n",
       "\n",
       "    .dataframe tbody tr th {\n",
       "        vertical-align: top;\n",
       "    }\n",
       "\n",
       "    .dataframe thead th {\n",
       "        text-align: right;\n",
       "    }\n",
       "</style>\n",
       "<table border=\"1\" class=\"dataframe\">\n",
       "  <thead>\n",
       "    <tr style=\"text-align: right;\">\n",
       "      <th></th>\n",
       "      <th>Top 5 Mais usados</th>\n",
       "      <th>Porcentagem</th>\n",
       "    </tr>\n",
       "    <tr>\n",
       "      <th>Classe</th>\n",
       "      <th></th>\n",
       "      <th></th>\n",
       "    </tr>\n",
       "  </thead>\n",
       "  <tbody>\n",
       "    <tr>\n",
       "      <th>Geração do resíduo</th>\n",
       "      <td>10766</td>\n",
       "      <td>25.36%</td>\n",
       "    </tr>\n",
       "    <tr>\n",
       "      <th>Cadastro</th>\n",
       "      <td>10757</td>\n",
       "      <td>25.34%</td>\n",
       "    </tr>\n",
       "    <tr>\n",
       "      <th>Resumo Executivo</th>\n",
       "      <td>3916</td>\n",
       "      <td>9.23%</td>\n",
       "    </tr>\n",
       "    <tr>\n",
       "      <th>Ocorrências patrimoniais</th>\n",
       "      <td>2762</td>\n",
       "      <td>6.51%</td>\n",
       "    </tr>\n",
       "    <tr>\n",
       "      <th>Vistorias técnicas</th>\n",
       "      <td>2735</td>\n",
       "      <td>6.44%</td>\n",
       "    </tr>\n",
       "  </tbody>\n",
       "</table>\n",
       "</div>"
      ],
      "text/plain": [
       "                          Top 5 Mais usados Porcentagem\n",
       "Classe                                                 \n",
       "Geração do resíduo                    10766      25.36%\n",
       "Cadastro                              10757      25.34%\n",
       "Resumo Executivo                       3916       9.23%\n",
       "Ocorrências patrimoniais               2762       6.51%\n",
       "Vistorias técnicas                     2735       6.44%"
      ]
     },
     "execution_count": 169,
     "metadata": {},
     "output_type": "execute_result"
    }
   ],
   "source": [
    "df_top_5.set_index('Classe',inplace=True)\n",
    "df_top_5"
   ]
  },
  {
   "cell_type": "code",
   "execution_count": 170,
   "id": "12d2c9d1",
   "metadata": {},
   "outputs": [],
   "source": [
    "with pd.ExcelWriter(filename+'.xlsx', mode='w',engine=\"openpyxl\") as writer:\n",
    "    df.to_excel(writer, sheet_name='Qtd Registro por Usina', index=False)\n",
    "    df_final_qtd_registros.to_excel(writer, sheet_name='Qtd Reg por Subsis', index=True)\n",
    "    df_mes_soma_v2.to_excel(writer, sheet_name='Qtd-Reg-Ano-Mes-Subsis', index=True)\n",
    "    df_action.to_excel(writer, sheet_name='Atividades por Usina', index=False)\n",
    "    df2_action_soma.to_excel(writer, sheet_name='Total Ações por Subsis', index=True)\n",
    "    df2_action_soma_anomes.to_excel(writer, sheet_name='Total-Ações-Ano-Mes-Subsis', index=True)\n",
    "    df2_final_forms_soma.to_excel(writer, sheet_name='Total Form por Subsis', index=True)\n",
    "    df_top_5.to_excel(writer, sheet_name='Top 5 classes mais usadas', index=True)"
   ]
  },
  {
   "cell_type": "code",
   "execution_count": null,
   "id": "456f9557",
   "metadata": {},
   "outputs": [],
   "source": [
    "print('Registro em 2022:',OccurrenceRecord.objects.filter(\n",
    "    company__name__startswith='GSO',\n",
    "    datetime__year='2022'\n",
    ").count())\n",
    "print('Registro em 2023:',OccurrenceRecord.objects.filter(\n",
    "    company__name__startswith='GSO',\n",
    "    datetime__year='2023'\n",
    ").count())"
   ]
  },
  {
   "cell_type": "code",
   "execution_count": null,
   "id": "db5c4b76",
   "metadata": {},
   "outputs": [],
   "source": [
    "OccurrenceRecord.objects.filter(\n",
    "    company__name__startswith='GSO',\n",
    "    datetime__year='2023'\n",
    ")[0]"
   ]
  },
  {
   "cell_type": "markdown",
   "id": "71791bc9",
   "metadata": {},
   "source": [
    "# Outro relatórios de usuários\n",
    "-Número de usuários por unidade do sistema (ENGIE)\n",
    "-Número de usuários únicos por sistema (GES, GSO, GSB e GRH)\n",
    "-Número de registro por controle operacional e por usina\n",
    "--Ex: Educação ambiental em Itá = 1500; Educação ambiental em Machadinho = 200 e assim por diante para cada controle operacional --configurado\n",
    "-Número de usuários com pelo menos 1 ação no sistema no último ano (2023) (independente de unidade)\n",
    "-Número total de usuários cadastrados no sistema\n",
    "-Número total de usuários cadastrados na plataforma principal da Kartado (não no ambiente da ENGIE). Nesse indicador precisaria --somar usuários cadastrados no ambiente compartilhado + CCR"
   ]
  },
  {
   "cell_type": "code",
   "execution_count": 31,
   "id": "74a7859f",
   "metadata": {
    "scrolled": true
   },
   "outputs": [],
   "source": [
    "uic = UserInCompany.objects.all()\n",
    "company=Company.objects.filter(Q(name__startswith='REC') | Q(name__startswith='G'))"
   ]
  },
  {
   "cell_type": "code",
   "execution_count": 32,
   "id": "dd18472e",
   "metadata": {},
   "outputs": [
    {
     "name": "stderr",
     "output_type": "stream",
     "text": [
      "Exception ignored in: <function ZipFile.__del__ at 0x7f2d263823b0>\n",
      "Traceback (most recent call last):\n",
      "  File \"/home/luan/.pyenv/versions/3.7.9/lib/python3.7/zipfile.py\", line 1809, in __del__\n",
      "    self.close()\n",
      "  File \"/home/luan/.pyenv/versions/3.7.9/lib/python3.7/zipfile.py\", line 1826, in close\n",
      "    self.fp.seek(self.start_dir)\n",
      "ValueError: seek of closed file\n"
     ]
    }
   ],
   "source": [
    "# Usuários continuam saindo duplicados foi utilizado outra forma de trazer os dados. \n",
    "# Esse script para trazer esses dados esta descontinuado.\n",
    "dup=[]\n",
    "dict_distinct=[]\n",
    "for c in company:\n",
    "    total=0\n",
    "    for user in uic.filter(company=c):\n",
    "        if str(user.uuid) not in dup:\n",
    "            total+=1\n",
    "            dup.append(str(user.uuid))\n",
    "    dict_distinct.append({'Unidade':c.name,'Qtd Usuarios por Subsistema': total})"
   ]
  },
  {
   "cell_type": "code",
   "execution_count": 33,
   "id": "b0742d70",
   "metadata": {
    "scrolled": true
   },
   "outputs": [
    {
     "data": {
      "text/html": [
       "<div>\n",
       "<style scoped>\n",
       "    .dataframe tbody tr th:only-of-type {\n",
       "        vertical-align: middle;\n",
       "    }\n",
       "\n",
       "    .dataframe tbody tr th {\n",
       "        vertical-align: top;\n",
       "    }\n",
       "\n",
       "    .dataframe thead th {\n",
       "        text-align: right;\n",
       "    }\n",
       "</style>\n",
       "<table border=\"1\" class=\"dataframe\">\n",
       "  <thead>\n",
       "    <tr style=\"text-align: right;\">\n",
       "      <th></th>\n",
       "      <th>Unidade</th>\n",
       "      <th>Qtd Usuarios por Subsistema</th>\n",
       "    </tr>\n",
       "  </thead>\n",
       "  <tbody>\n",
       "    <tr>\n",
       "      <th>0</th>\n",
       "      <td>GSO - UHE-CANA BRAVA</td>\n",
       "      <td>29</td>\n",
       "    </tr>\n",
       "    <tr>\n",
       "      <th>1</th>\n",
       "      <td>GSO - UHE-SALTO OSORIO</td>\n",
       "      <td>23</td>\n",
       "    </tr>\n",
       "    <tr>\n",
       "      <th>2</th>\n",
       "      <td>GSO - UTPS</td>\n",
       "      <td>14</td>\n",
       "    </tr>\n",
       "    <tr>\n",
       "      <th>3</th>\n",
       "      <td>GSO - UHE-SALTO SANTIAGO</td>\n",
       "      <td>23</td>\n",
       "    </tr>\n",
       "    <tr>\n",
       "      <th>4</th>\n",
       "      <td>GSB - UHE-MACHADINHO</td>\n",
       "      <td>25</td>\n",
       "    </tr>\n",
       "    <tr>\n",
       "      <th>5</th>\n",
       "      <td>GSB - UHE-SALTO OSORIO</td>\n",
       "      <td>23</td>\n",
       "    </tr>\n",
       "    <tr>\n",
       "      <th>6</th>\n",
       "      <td>GSO - UHE-PONTE DE PEDRA</td>\n",
       "      <td>23</td>\n",
       "    </tr>\n",
       "    <tr>\n",
       "      <th>7</th>\n",
       "      <td>GSB - UHE-SALTO SANTIAGO</td>\n",
       "      <td>32</td>\n",
       "    </tr>\n",
       "    <tr>\n",
       "      <th>8</th>\n",
       "      <td>GSO - UHE-JAGUARA</td>\n",
       "      <td>24</td>\n",
       "    </tr>\n",
       "    <tr>\n",
       "      <th>9</th>\n",
       "      <td>GSO - UHE-MIRANDA</td>\n",
       "      <td>23</td>\n",
       "    </tr>\n",
       "    <tr>\n",
       "      <th>10</th>\n",
       "      <td>GSO - PCH-JOSÉ GELÁZIO DA ROCHA</td>\n",
       "      <td>23</td>\n",
       "    </tr>\n",
       "    <tr>\n",
       "      <th>11</th>\n",
       "      <td>GSO - PCH-RONDONÓPOLIS</td>\n",
       "      <td>23</td>\n",
       "    </tr>\n",
       "    <tr>\n",
       "      <th>12</th>\n",
       "      <td>GSO - UHE-ESTREITO</td>\n",
       "      <td>56</td>\n",
       "    </tr>\n",
       "    <tr>\n",
       "      <th>13</th>\n",
       "      <td>GES - UHE-CANA BRAVA</td>\n",
       "      <td>93</td>\n",
       "    </tr>\n",
       "    <tr>\n",
       "      <th>14</th>\n",
       "      <td>GSB - UHE-PONTE DE PEDRA</td>\n",
       "      <td>23</td>\n",
       "    </tr>\n",
       "    <tr>\n",
       "      <th>15</th>\n",
       "      <td>GSO - UHE-SÃO SALVADOR</td>\n",
       "      <td>30</td>\n",
       "    </tr>\n",
       "    <tr>\n",
       "      <th>16</th>\n",
       "      <td>GSB - UHE-SÃO SALVADOR</td>\n",
       "      <td>24</td>\n",
       "    </tr>\n",
       "    <tr>\n",
       "      <th>17</th>\n",
       "      <td>GSB - UHE-CANA BRAVA</td>\n",
       "      <td>24</td>\n",
       "    </tr>\n",
       "    <tr>\n",
       "      <th>18</th>\n",
       "      <td>GSO - UHE-PASSO FUNDO</td>\n",
       "      <td>27</td>\n",
       "    </tr>\n",
       "    <tr>\n",
       "      <th>19</th>\n",
       "      <td>GES - UHE-ESTREITO</td>\n",
       "      <td>124</td>\n",
       "    </tr>\n",
       "    <tr>\n",
       "      <th>20</th>\n",
       "      <td>GSO - UHE-ITA</td>\n",
       "      <td>39</td>\n",
       "    </tr>\n",
       "    <tr>\n",
       "      <th>21</th>\n",
       "      <td>GSO - UHE-MACHADINHO</td>\n",
       "      <td>29</td>\n",
       "    </tr>\n",
       "    <tr>\n",
       "      <th>22</th>\n",
       "      <td>GSB - UHE-PASSO FUNDO</td>\n",
       "      <td>23</td>\n",
       "    </tr>\n",
       "    <tr>\n",
       "      <th>23</th>\n",
       "      <td>GSB - UHE-ITA</td>\n",
       "      <td>23</td>\n",
       "    </tr>\n",
       "    <tr>\n",
       "      <th>24</th>\n",
       "      <td>GSB - UHE-ESTREITO</td>\n",
       "      <td>24</td>\n",
       "    </tr>\n",
       "    <tr>\n",
       "      <th>25</th>\n",
       "      <td>GSB - UHE-JAGUARA</td>\n",
       "      <td>23</td>\n",
       "    </tr>\n",
       "    <tr>\n",
       "      <th>26</th>\n",
       "      <td>GSB - UHE-MIRANDA</td>\n",
       "      <td>23</td>\n",
       "    </tr>\n",
       "    <tr>\n",
       "      <th>27</th>\n",
       "      <td>RECURSOS HIDRICOS</td>\n",
       "      <td>1</td>\n",
       "    </tr>\n",
       "    <tr>\n",
       "      <th>28</th>\n",
       "      <td>GES - PCH-RONDONÓPOLIS</td>\n",
       "      <td>60</td>\n",
       "    </tr>\n",
       "    <tr>\n",
       "      <th>29</th>\n",
       "      <td>GES - UHE-MACHADINHO</td>\n",
       "      <td>148</td>\n",
       "    </tr>\n",
       "    <tr>\n",
       "      <th>30</th>\n",
       "      <td>GES - UHE-SALTO SANTIAGO</td>\n",
       "      <td>123</td>\n",
       "    </tr>\n",
       "    <tr>\n",
       "      <th>31</th>\n",
       "      <td>GES - PCH-JOSÉ GELÁZIO DA ROCHA</td>\n",
       "      <td>59</td>\n",
       "    </tr>\n",
       "    <tr>\n",
       "      <th>32</th>\n",
       "      <td>GES - UHE-SÃO SALVADOR</td>\n",
       "      <td>80</td>\n",
       "    </tr>\n",
       "    <tr>\n",
       "      <th>33</th>\n",
       "      <td>GES - GEH</td>\n",
       "      <td>54</td>\n",
       "    </tr>\n",
       "    <tr>\n",
       "      <th>34</th>\n",
       "      <td>GES - UHE-ITA</td>\n",
       "      <td>180</td>\n",
       "    </tr>\n",
       "    <tr>\n",
       "      <th>35</th>\n",
       "      <td>GES - UHE-PASSO FUNDO</td>\n",
       "      <td>127</td>\n",
       "    </tr>\n",
       "    <tr>\n",
       "      <th>36</th>\n",
       "      <td>GES - UHE-SALTO OSORIO</td>\n",
       "      <td>134</td>\n",
       "    </tr>\n",
       "    <tr>\n",
       "      <th>37</th>\n",
       "      <td>GES - UHE-JAGUARA</td>\n",
       "      <td>121</td>\n",
       "    </tr>\n",
       "    <tr>\n",
       "      <th>38</th>\n",
       "      <td>GES - UHE-MIRANDA</td>\n",
       "      <td>119</td>\n",
       "    </tr>\n",
       "    <tr>\n",
       "      <th>39</th>\n",
       "      <td>GES - UHE-PONTE DE PEDRA</td>\n",
       "      <td>109</td>\n",
       "    </tr>\n",
       "  </tbody>\n",
       "</table>\n",
       "</div>"
      ],
      "text/plain": [
       "                            Unidade  Qtd Usuarios por Subsistema\n",
       "0              GSO - UHE-CANA BRAVA                           29\n",
       "1            GSO - UHE-SALTO OSORIO                           23\n",
       "2                        GSO - UTPS                           14\n",
       "3          GSO - UHE-SALTO SANTIAGO                           23\n",
       "4              GSB - UHE-MACHADINHO                           25\n",
       "5            GSB - UHE-SALTO OSORIO                           23\n",
       "6          GSO - UHE-PONTE DE PEDRA                           23\n",
       "7          GSB - UHE-SALTO SANTIAGO                           32\n",
       "8                 GSO - UHE-JAGUARA                           24\n",
       "9                 GSO - UHE-MIRANDA                           23\n",
       "10  GSO - PCH-JOSÉ GELÁZIO DA ROCHA                           23\n",
       "11           GSO - PCH-RONDONÓPOLIS                           23\n",
       "12               GSO - UHE-ESTREITO                           56\n",
       "13             GES - UHE-CANA BRAVA                           93\n",
       "14         GSB - UHE-PONTE DE PEDRA                           23\n",
       "15           GSO - UHE-SÃO SALVADOR                           30\n",
       "16           GSB - UHE-SÃO SALVADOR                           24\n",
       "17             GSB - UHE-CANA BRAVA                           24\n",
       "18            GSO - UHE-PASSO FUNDO                           27\n",
       "19               GES - UHE-ESTREITO                          124\n",
       "20                    GSO - UHE-ITA                           39\n",
       "21             GSO - UHE-MACHADINHO                           29\n",
       "22            GSB - UHE-PASSO FUNDO                           23\n",
       "23                    GSB - UHE-ITA                           23\n",
       "24               GSB - UHE-ESTREITO                           24\n",
       "25                GSB - UHE-JAGUARA                           23\n",
       "26                GSB - UHE-MIRANDA                           23\n",
       "27                RECURSOS HIDRICOS                            1\n",
       "28           GES - PCH-RONDONÓPOLIS                           60\n",
       "29             GES - UHE-MACHADINHO                          148\n",
       "30         GES - UHE-SALTO SANTIAGO                          123\n",
       "31  GES - PCH-JOSÉ GELÁZIO DA ROCHA                           59\n",
       "32           GES - UHE-SÃO SALVADOR                           80\n",
       "33                        GES - GEH                           54\n",
       "34                    GES - UHE-ITA                          180\n",
       "35            GES - UHE-PASSO FUNDO                          127\n",
       "36           GES - UHE-SALTO OSORIO                          134\n",
       "37                GES - UHE-JAGUARA                          121\n",
       "38                GES - UHE-MIRANDA                          119\n",
       "39         GES - UHE-PONTE DE PEDRA                          109"
      ]
     },
     "execution_count": 33,
     "metadata": {},
     "output_type": "execute_result"
    }
   ],
   "source": [
    "df_users = pd.DataFrame(data=dict_distinct,columns=['Unidade','Qtd Usuarios por Subsistema'])\n",
    "df_users"
   ]
  },
  {
   "cell_type": "code",
   "execution_count": 34,
   "id": "63f55a5b",
   "metadata": {
    "scrolled": true
   },
   "outputs": [
    {
     "data": {
      "text/plain": [
       "(                            Unidade  Qtd Usuarios por Subsistema Usina_inicio\n",
       " 0              GSO - UHE-CANA BRAVA                           29          GSO\n",
       " 1            GSO - UHE-SALTO OSORIO                           23          GSO\n",
       " 2                        GSO - UTPS                           14          GSO\n",
       " 3          GSO - UHE-SALTO SANTIAGO                           23          GSO\n",
       " 4              GSB - UHE-MACHADINHO                           25          GSB\n",
       " 5            GSB - UHE-SALTO OSORIO                           23          GSB\n",
       " 6          GSO - UHE-PONTE DE PEDRA                           23          GSO\n",
       " 7          GSB - UHE-SALTO SANTIAGO                           32          GSB\n",
       " 8                 GSO - UHE-JAGUARA                           24          GSO\n",
       " 9                 GSO - UHE-MIRANDA                           23          GSO\n",
       " 10  GSO - PCH-JOSÉ GELÁZIO DA ROCHA                           23          GSO\n",
       " 11           GSO - PCH-RONDONÓPOLIS                           23          GSO\n",
       " 12               GSO - UHE-ESTREITO                           56          GSO\n",
       " 13             GES - UHE-CANA BRAVA                           93          GES\n",
       " 14         GSB - UHE-PONTE DE PEDRA                           23          GSB\n",
       " 15           GSO - UHE-SÃO SALVADOR                           30          GSO\n",
       " 16           GSB - UHE-SÃO SALVADOR                           24          GSB\n",
       " 17             GSB - UHE-CANA BRAVA                           24          GSB\n",
       " 18            GSO - UHE-PASSO FUNDO                           27          GSO\n",
       " 19               GES - UHE-ESTREITO                          124          GES\n",
       " 20                    GSO - UHE-ITA                           39          GSO\n",
       " 21             GSO - UHE-MACHADINHO                           29          GSO\n",
       " 22            GSB - UHE-PASSO FUNDO                           23          GSB\n",
       " 23                    GSB - UHE-ITA                           23          GSB\n",
       " 24               GSB - UHE-ESTREITO                           24          GSB\n",
       " 25                GSB - UHE-JAGUARA                           23          GSB\n",
       " 26                GSB - UHE-MIRANDA                           23          GSB\n",
       " 27                RECURSOS HIDRICOS                            1          REC\n",
       " 28           GES - PCH-RONDONÓPOLIS                           60          GES\n",
       " 29             GES - UHE-MACHADINHO                          148          GES\n",
       " 30         GES - UHE-SALTO SANTIAGO                          123          GES\n",
       " 31  GES - PCH-JOSÉ GELÁZIO DA ROCHA                           59          GES\n",
       " 32           GES - UHE-SÃO SALVADOR                           80          GES\n",
       " 33                        GES - GEH                           54          GES\n",
       " 34                    GES - UHE-ITA                          180          GES\n",
       " 35            GES - UHE-PASSO FUNDO                          127          GES\n",
       " 36           GES - UHE-SALTO OSORIO                          134          GES\n",
       " 37                GES - UHE-JAGUARA                          121          GES\n",
       " 38                GES - UHE-MIRANDA                          119          GES\n",
       " 39         GES - UHE-PONTE DE PEDRA                          109          GES,\n",
       " Usina_inicio\n",
       " GES    1531\n",
       " GSB     267\n",
       " GSO     386\n",
       " REC       1\n",
       " Name: Qtd Usuarios por Subsistema, dtype: int64)"
      ]
     },
     "execution_count": 34,
     "metadata": {},
     "output_type": "execute_result"
    }
   ],
   "source": [
    "df_users['Usina_inicio'] = df_users['Unidade'].str.slice(stop=3)\n",
    "dfSomaRegUsina = df_users.groupby(['Usina_inicio'])['Qtd Usuarios por Subsistema'].sum()\n",
    "df_users,dfSomaRegUsina"
   ]
  },
  {
   "cell_type": "code",
   "execution_count": 35,
   "id": "afb75cc7",
   "metadata": {},
   "outputs": [
    {
     "data": {
      "text/html": [
       "<div>\n",
       "<style scoped>\n",
       "    .dataframe tbody tr th:only-of-type {\n",
       "        vertical-align: middle;\n",
       "    }\n",
       "\n",
       "    .dataframe tbody tr th {\n",
       "        vertical-align: top;\n",
       "    }\n",
       "\n",
       "    .dataframe thead th {\n",
       "        text-align: right;\n",
       "    }\n",
       "</style>\n",
       "<table border=\"1\" class=\"dataframe\">\n",
       "  <thead>\n",
       "    <tr style=\"text-align: right;\">\n",
       "      <th></th>\n",
       "      <th>Qtd Usuarios por Subsistema</th>\n",
       "    </tr>\n",
       "    <tr>\n",
       "      <th>Usina_inicio</th>\n",
       "      <th></th>\n",
       "    </tr>\n",
       "  </thead>\n",
       "  <tbody>\n",
       "    <tr>\n",
       "      <th>GES</th>\n",
       "      <td>1531</td>\n",
       "    </tr>\n",
       "    <tr>\n",
       "      <th>GSB</th>\n",
       "      <td>267</td>\n",
       "    </tr>\n",
       "    <tr>\n",
       "      <th>GSO</th>\n",
       "      <td>386</td>\n",
       "    </tr>\n",
       "    <tr>\n",
       "      <th>REC</th>\n",
       "      <td>1</td>\n",
       "    </tr>\n",
       "  </tbody>\n",
       "</table>\n",
       "</div>"
      ],
      "text/plain": [
       "              Qtd Usuarios por Subsistema\n",
       "Usina_inicio                             \n",
       "GES                                  1531\n",
       "GSB                                   267\n",
       "GSO                                   386\n",
       "REC                                     1"
      ]
     },
     "execution_count": 35,
     "metadata": {},
     "output_type": "execute_result"
    }
   ],
   "source": [
    "df_soma_soma = pd.DataFrame(data=dfSomaRegUsina)\n",
    "df_soma_soma = df_soma_soma.reset_index()\n",
    "df_soma_soma_v2 = df_soma_soma[df_soma_soma['Usina_inicio'].isin(['GES','GSB','GSO','REC'])].set_index(['Usina_inicio'])\n",
    "df_soma_soma_v2"
   ]
  },
  {
   "cell_type": "code",
   "execution_count": 36,
   "id": "2bf98018",
   "metadata": {},
   "outputs": [],
   "source": [
    "ocrs_oper_con=OccurrenceRecord.objects.filter(\n",
    "    Q(company__name__startswith='REC') |\n",
    "    Q(company__name__startswith='G'),\n",
    "operational_control__isnull=False).values('company__name','operational_control__kind').annotate(qtd_reg_opcon=Count('uuid'))"
   ]
  },
  {
   "cell_type": "code",
   "execution_count": 37,
   "id": "bbf2ffa6",
   "metadata": {},
   "outputs": [
    {
     "data": {
      "text/plain": [
       "({'company__name': 'GES - PCH-JOSÉ GELÁZIO DA ROCHA',\n",
       "  'operational_control__kind': '704',\n",
       "  'qtd_reg_opcon': 51},\n",
       " 98)"
      ]
     },
     "execution_count": 37,
     "metadata": {},
     "output_type": "execute_result"
    }
   ],
   "source": [
    "ocrs_oper_con[0],len(ocrs_oper_con)"
   ]
  },
  {
   "cell_type": "code",
   "execution_count": 38,
   "id": "1fa51078",
   "metadata": {},
   "outputs": [
    {
     "data": {
      "text/plain": [
       "{'company__name': 'GES - PCH-JOSÉ GELÁZIO DA ROCHA',\n",
       " 'operational_control__kind': '704',\n",
       " 'qtd_reg_opcon': 51,\n",
       " 'opc__name': 'Resíduos'}"
      ]
     },
     "execution_count": 38,
     "metadata": {},
     "output_type": "execute_result"
    }
   ],
   "source": [
    "traduz_operational_control(ocrs_oper_con[0])"
   ]
  },
  {
   "cell_type": "code",
   "execution_count": 39,
   "id": "15d743ee",
   "metadata": {},
   "outputs": [
    {
     "data": {
      "application/vnd.jupyter.widget-view+json": {
       "model_id": "50bff606c01b4a4db563f471b9b17f7e",
       "version_major": 2,
       "version_minor": 0
      },
      "text/plain": [
       "  0%|          | 0/98 [00:00<?, ?it/s]"
      ]
     },
     "metadata": {},
     "output_type": "display_data"
    }
   ],
   "source": [
    "new_oper=[]\n",
    "for a in tqdm(ocrs_oper_con):\n",
    "    try:\n",
    "        traduz_operational_control(a)\n",
    "    except:\n",
    "        a['opc__name'] = 'Auscultação - Vertedouro 1'"
   ]
  },
  {
   "cell_type": "code",
   "execution_count": 40,
   "id": "d9936180",
   "metadata": {},
   "outputs": [
    {
     "name": "stdout",
     "output_type": "stream",
     "text": [
      "{'company__name': 'GES - UHE-PONTE DE PEDRA', 'operational_control__kind': '708', 'qtd_reg_opcon': 11, 'opc__name': 'Salvamento de fauna'}\n",
      "{'company__name': 'GSB - UHE-ITA', 'operational_control__kind': '708', 'qtd_reg_opcon': 216, 'opc__name': 'Auscultação - Vertedouro 1'}\n",
      "{'company__name': 'GSB - UHE-SALTO OSORIO', 'operational_control__kind': '708', 'qtd_reg_opcon': 32, 'opc__name': 'Auscultação - Vertedouro 1'}\n",
      "{'company__name': 'GSB - UHE-SALTO SANTIAGO', 'operational_control__kind': '708', 'qtd_reg_opcon': 323551, 'opc__name': 'Auscultação - Barragem Auxiliar 1 - Instrumentos automatizados'}\n"
     ]
    }
   ],
   "source": [
    "for a in ocrs_oper_con:\n",
    "    if '708' in a['operational_control__kind']:\n",
    "        print(a)"
   ]
  },
  {
   "cell_type": "code",
   "execution_count": 41,
   "id": "860fef74",
   "metadata": {
    "scrolled": true
   },
   "outputs": [
    {
     "data": {
      "text/html": [
       "<div>\n",
       "<style scoped>\n",
       "    .dataframe tbody tr th:only-of-type {\n",
       "        vertical-align: middle;\n",
       "    }\n",
       "\n",
       "    .dataframe tbody tr th {\n",
       "        vertical-align: top;\n",
       "    }\n",
       "\n",
       "    .dataframe thead th {\n",
       "        text-align: right;\n",
       "    }\n",
       "</style>\n",
       "<table border=\"1\" class=\"dataframe\">\n",
       "  <thead>\n",
       "    <tr style=\"text-align: right;\">\n",
       "      <th></th>\n",
       "      <th>Usina</th>\n",
       "      <th>Controle Operacional</th>\n",
       "      <th>Quantidade de Registros</th>\n",
       "    </tr>\n",
       "  </thead>\n",
       "  <tbody>\n",
       "    <tr>\n",
       "      <th>0</th>\n",
       "      <td>GES - PCH-JOSÉ GELÁZIO DA ROCHA</td>\n",
       "      <td>Resíduos</td>\n",
       "      <td>51</td>\n",
       "    </tr>\n",
       "    <tr>\n",
       "      <th>1</th>\n",
       "      <td>GES - PCH-RONDONÓPOLIS</td>\n",
       "      <td>Resíduos</td>\n",
       "      <td>51</td>\n",
       "    </tr>\n",
       "    <tr>\n",
       "      <th>2</th>\n",
       "      <td>GES - UHE-CANA BRAVA</td>\n",
       "      <td>Horto Florestal</td>\n",
       "      <td>4</td>\n",
       "    </tr>\n",
       "    <tr>\n",
       "      <th>3</th>\n",
       "      <td>GES - UHE-CANA BRAVA</td>\n",
       "      <td>Programa de visitas / Educação ambiental</td>\n",
       "      <td>3</td>\n",
       "    </tr>\n",
       "    <tr>\n",
       "      <th>4</th>\n",
       "      <td>GES - UHE-CANA BRAVA</td>\n",
       "      <td>Resíduos</td>\n",
       "      <td>246</td>\n",
       "    </tr>\n",
       "    <tr>\n",
       "      <th>...</th>\n",
       "      <td>...</td>\n",
       "      <td>...</td>\n",
       "      <td>...</td>\n",
       "    </tr>\n",
       "    <tr>\n",
       "      <th>92</th>\n",
       "      <td>GSB - UHE-SALTO SANTIAGO</td>\n",
       "      <td>Auscultação - Barragem Auxiliar 2</td>\n",
       "      <td>93</td>\n",
       "    </tr>\n",
       "    <tr>\n",
       "      <th>93</th>\n",
       "      <td>GSB - UHE-SALTO SANTIAGO</td>\n",
       "      <td>Auscultação - Vertedouro</td>\n",
       "      <td>3282</td>\n",
       "    </tr>\n",
       "    <tr>\n",
       "      <th>95</th>\n",
       "      <td>GSB - UHE-SALTO SANTIAGO</td>\n",
       "      <td>Auscultação - Barragem Auxiliar 2 - Instrument...</td>\n",
       "      <td>26105</td>\n",
       "    </tr>\n",
       "    <tr>\n",
       "      <th>96</th>\n",
       "      <td>GSB - UHE-SÃO SALVADOR</td>\n",
       "      <td>Auscultação - Instrumentos</td>\n",
       "      <td>241</td>\n",
       "    </tr>\n",
       "    <tr>\n",
       "      <th>97</th>\n",
       "      <td>RECURSOS HIDRICOS</td>\n",
       "      <td>Pontos e parâmetros de monitoramento hidromete...</td>\n",
       "      <td>13</td>\n",
       "    </tr>\n",
       "  </tbody>\n",
       "</table>\n",
       "<p>98 rows × 3 columns</p>\n",
       "</div>"
      ],
      "text/plain": [
       "                              Usina  \\\n",
       "0   GES - PCH-JOSÉ GELÁZIO DA ROCHA   \n",
       "1            GES - PCH-RONDONÓPOLIS   \n",
       "2              GES - UHE-CANA BRAVA   \n",
       "3              GES - UHE-CANA BRAVA   \n",
       "4              GES - UHE-CANA BRAVA   \n",
       "..                              ...   \n",
       "92         GSB - UHE-SALTO SANTIAGO   \n",
       "93         GSB - UHE-SALTO SANTIAGO   \n",
       "95         GSB - UHE-SALTO SANTIAGO   \n",
       "96           GSB - UHE-SÃO SALVADOR   \n",
       "97                RECURSOS HIDRICOS   \n",
       "\n",
       "                                 Controle Operacional  Quantidade de Registros  \n",
       "0                                            Resíduos                       51  \n",
       "1                                            Resíduos                       51  \n",
       "2                                     Horto Florestal                        4  \n",
       "3            Programa de visitas / Educação ambiental                        3  \n",
       "4                                            Resíduos                      246  \n",
       "..                                                ...                      ...  \n",
       "92                  Auscultação - Barragem Auxiliar 2                       93  \n",
       "93                           Auscultação - Vertedouro                     3282  \n",
       "95  Auscultação - Barragem Auxiliar 2 - Instrument...                    26105  \n",
       "96                         Auscultação - Instrumentos                      241  \n",
       "97  Pontos e parâmetros de monitoramento hidromete...                       13  \n",
       "\n",
       "[98 rows x 3 columns]"
      ]
     },
     "execution_count": 41,
     "metadata": {},
     "output_type": "execute_result"
    }
   ],
   "source": [
    "df_oper = pd.DataFrame(data=ocrs_oper_con,\n",
    "                       columns=['company__name','operational_control__kind','qtd_reg_opcon','opc__name'])\n",
    "df_oper.rename(columns={'company__name': 'Usina',\n",
    "                        'operational_control__kind':'operational_control__kind',\n",
    "                        'qtd_reg_opcon':'Quantidade de Registros','opc__name': 'Controle Operacional'}, inplace=True)\n",
    "df_oper.drop(columns='operational_control__kind')\n",
    "df_oper = df_oper.reindex(columns=['Usina', 'Controle Operacional','Quantidade de Registros'])\n",
    "df_oper=df_oper.sort_values('Usina')\n",
    "df_oper"
   ]
  },
  {
   "cell_type": "code",
   "execution_count": 195,
   "id": "2d4a31a8",
   "metadata": {},
   "outputs": [
    {
     "data": {
      "text/html": [
       "<div>\n",
       "<style scoped>\n",
       "    .dataframe tbody tr th:only-of-type {\n",
       "        vertical-align: middle;\n",
       "    }\n",
       "\n",
       "    .dataframe tbody tr th {\n",
       "        vertical-align: top;\n",
       "    }\n",
       "\n",
       "    .dataframe thead th {\n",
       "        text-align: right;\n",
       "    }\n",
       "</style>\n",
       "<table border=\"1\" class=\"dataframe\">\n",
       "  <thead>\n",
       "    <tr style=\"text-align: right;\">\n",
       "      <th></th>\n",
       "      <th></th>\n",
       "      <th>Controle Operacional</th>\n",
       "      <th>Quantidade de Registros</th>\n",
       "    </tr>\n",
       "    <tr>\n",
       "      <th>Usina</th>\n",
       "      <th></th>\n",
       "      <th></th>\n",
       "      <th></th>\n",
       "    </tr>\n",
       "  </thead>\n",
       "  <tbody>\n",
       "    <tr>\n",
       "      <th>GES - PCH-JOSÉ GELÁZIO DA ROCHA</th>\n",
       "      <th>0</th>\n",
       "      <td>Resíduos</td>\n",
       "      <td>51</td>\n",
       "    </tr>\n",
       "    <tr>\n",
       "      <th>GES - PCH-RONDONÓPOLIS</th>\n",
       "      <th>0</th>\n",
       "      <td>Resíduos</td>\n",
       "      <td>51</td>\n",
       "    </tr>\n",
       "    <tr>\n",
       "      <th rowspan=\"3\" valign=\"top\">GES - UHE-CANA BRAVA</th>\n",
       "      <th>0</th>\n",
       "      <td>Horto Florestal</td>\n",
       "      <td>4</td>\n",
       "    </tr>\n",
       "    <tr>\n",
       "      <th>1</th>\n",
       "      <td>Programa de visitas / Educação ambiental</td>\n",
       "      <td>3</td>\n",
       "    </tr>\n",
       "    <tr>\n",
       "      <th>2</th>\n",
       "      <td>Resíduos</td>\n",
       "      <td>246</td>\n",
       "    </tr>\n",
       "    <tr>\n",
       "      <th>...</th>\n",
       "      <th>...</th>\n",
       "      <td>...</td>\n",
       "      <td>...</td>\n",
       "    </tr>\n",
       "    <tr>\n",
       "      <th rowspan=\"3\" valign=\"top\">GSB - UHE-SALTO SANTIAGO</th>\n",
       "      <th>6</th>\n",
       "      <td>Auscultação - Barragem Auxiliar 2</td>\n",
       "      <td>93</td>\n",
       "    </tr>\n",
       "    <tr>\n",
       "      <th>7</th>\n",
       "      <td>Auscultação - Vertedouro</td>\n",
       "      <td>3282</td>\n",
       "    </tr>\n",
       "    <tr>\n",
       "      <th>8</th>\n",
       "      <td>Auscultação - Barragem Auxiliar 2 - Instrument...</td>\n",
       "      <td>26101</td>\n",
       "    </tr>\n",
       "    <tr>\n",
       "      <th>GSB - UHE-SÃO SALVADOR</th>\n",
       "      <th>0</th>\n",
       "      <td>Auscultação - Instrumentos</td>\n",
       "      <td>241</td>\n",
       "    </tr>\n",
       "    <tr>\n",
       "      <th>RECURSOS HIDRICOS</th>\n",
       "      <th>0</th>\n",
       "      <td>Pontos e parâmetros de monitoramento hidromete...</td>\n",
       "      <td>13</td>\n",
       "    </tr>\n",
       "  </tbody>\n",
       "</table>\n",
       "<p>98 rows × 2 columns</p>\n",
       "</div>"
      ],
      "text/plain": [
       "                                                                Controle Operacional  \\\n",
       "Usina                                                                                  \n",
       "GES - PCH-JOSÉ GELÁZIO DA ROCHA 0                                           Resíduos   \n",
       "GES - PCH-RONDONÓPOLIS          0                                           Resíduos   \n",
       "GES - UHE-CANA BRAVA            0                                    Horto Florestal   \n",
       "                                1           Programa de visitas / Educação ambiental   \n",
       "                                2                                           Resíduos   \n",
       "...                                                                              ...   \n",
       "GSB - UHE-SALTO SANTIAGO        6                  Auscultação - Barragem Auxiliar 2   \n",
       "                                7                           Auscultação - Vertedouro   \n",
       "                                8  Auscultação - Barragem Auxiliar 2 - Instrument...   \n",
       "GSB - UHE-SÃO SALVADOR          0                         Auscultação - Instrumentos   \n",
       "RECURSOS HIDRICOS               0  Pontos e parâmetros de monitoramento hidromete...   \n",
       "\n",
       "                                   Quantidade de Registros  \n",
       "Usina                                                       \n",
       "GES - PCH-JOSÉ GELÁZIO DA ROCHA 0                       51  \n",
       "GES - PCH-RONDONÓPOLIS          0                       51  \n",
       "GES - UHE-CANA BRAVA            0                        4  \n",
       "                                1                        3  \n",
       "                                2                      246  \n",
       "...                                                    ...  \n",
       "GSB - UHE-SALTO SANTIAGO        6                       93  \n",
       "                                7                     3282  \n",
       "                                8                    26101  \n",
       "GSB - UHE-SÃO SALVADOR          0                      241  \n",
       "RECURSOS HIDRICOS               0                       13  \n",
       "\n",
       "[98 rows x 2 columns]"
      ]
     },
     "execution_count": 195,
     "metadata": {},
     "output_type": "execute_result"
    }
   ],
   "source": [
    "df_mesclado = df_oper.groupby('Usina').apply(lambda x: x.reset_index(drop=True))\n",
    "df_mesclado"
   ]
  },
  {
   "cell_type": "code",
   "execution_count": 208,
   "id": "66933b97",
   "metadata": {},
   "outputs": [
    {
     "data": {
      "text/html": [
       "<div>\n",
       "<style scoped>\n",
       "    .dataframe tbody tr th:only-of-type {\n",
       "        vertical-align: middle;\n",
       "    }\n",
       "\n",
       "    .dataframe tbody tr th {\n",
       "        vertical-align: top;\n",
       "    }\n",
       "\n",
       "    .dataframe thead th {\n",
       "        text-align: right;\n",
       "    }\n",
       "</style>\n",
       "<table border=\"1\" class=\"dataframe\">\n",
       "  <thead>\n",
       "    <tr style=\"text-align: right;\">\n",
       "      <th></th>\n",
       "      <th>Controle Operacional</th>\n",
       "      <th>Quantidade de Registros</th>\n",
       "    </tr>\n",
       "    <tr>\n",
       "      <th>Usina</th>\n",
       "      <th></th>\n",
       "      <th></th>\n",
       "    </tr>\n",
       "  </thead>\n",
       "  <tbody>\n",
       "    <tr>\n",
       "      <th>GES - PCH-JOSÉ GELÁZIO DA ROCHA</th>\n",
       "      <td>Resíduos</td>\n",
       "      <td>51</td>\n",
       "    </tr>\n",
       "    <tr>\n",
       "      <th>GES - PCH-RONDONÓPOLIS</th>\n",
       "      <td>Resíduos</td>\n",
       "      <td>51</td>\n",
       "    </tr>\n",
       "    <tr>\n",
       "      <th>GES - UHE-CANA BRAVA</th>\n",
       "      <td>Horto Florestal</td>\n",
       "      <td>4</td>\n",
       "    </tr>\n",
       "    <tr>\n",
       "      <th>GES - UHE-CANA BRAVA</th>\n",
       "      <td>Programa de visitas / Educação ambiental</td>\n",
       "      <td>3</td>\n",
       "    </tr>\n",
       "    <tr>\n",
       "      <th>GES - UHE-CANA BRAVA</th>\n",
       "      <td>Resíduos</td>\n",
       "      <td>246</td>\n",
       "    </tr>\n",
       "    <tr>\n",
       "      <th>...</th>\n",
       "      <td>...</td>\n",
       "      <td>...</td>\n",
       "    </tr>\n",
       "    <tr>\n",
       "      <th>GSB - UHE-SALTO SANTIAGO</th>\n",
       "      <td>Auscultação - Barragem Auxiliar 2</td>\n",
       "      <td>93</td>\n",
       "    </tr>\n",
       "    <tr>\n",
       "      <th>GSB - UHE-SALTO SANTIAGO</th>\n",
       "      <td>Auscultação - Vertedouro</td>\n",
       "      <td>3282</td>\n",
       "    </tr>\n",
       "    <tr>\n",
       "      <th>GSB - UHE-SALTO SANTIAGO</th>\n",
       "      <td>Auscultação - Barragem Auxiliar 2 - Instrument...</td>\n",
       "      <td>26101</td>\n",
       "    </tr>\n",
       "    <tr>\n",
       "      <th>GSB - UHE-SÃO SALVADOR</th>\n",
       "      <td>Auscultação - Instrumentos</td>\n",
       "      <td>241</td>\n",
       "    </tr>\n",
       "    <tr>\n",
       "      <th>RECURSOS HIDRICOS</th>\n",
       "      <td>Pontos e parâmetros de monitoramento hidromete...</td>\n",
       "      <td>13</td>\n",
       "    </tr>\n",
       "  </tbody>\n",
       "</table>\n",
       "<p>98 rows × 2 columns</p>\n",
       "</div>"
      ],
      "text/plain": [
       "                                                              Controle Operacional  \\\n",
       "Usina                                                                                \n",
       "GES - PCH-JOSÉ GELÁZIO DA ROCHA                                           Resíduos   \n",
       "GES - PCH-RONDONÓPOLIS                                                    Resíduos   \n",
       "GES - UHE-CANA BRAVA                                               Horto Florestal   \n",
       "GES - UHE-CANA BRAVA                      Programa de visitas / Educação ambiental   \n",
       "GES - UHE-CANA BRAVA                                                      Resíduos   \n",
       "...                                                                            ...   \n",
       "GSB - UHE-SALTO SANTIAGO                         Auscultação - Barragem Auxiliar 2   \n",
       "GSB - UHE-SALTO SANTIAGO                                  Auscultação - Vertedouro   \n",
       "GSB - UHE-SALTO SANTIAGO         Auscultação - Barragem Auxiliar 2 - Instrument...   \n",
       "GSB - UHE-SÃO SALVADOR                                  Auscultação - Instrumentos   \n",
       "RECURSOS HIDRICOS                Pontos e parâmetros de monitoramento hidromete...   \n",
       "\n",
       "                                 Quantidade de Registros  \n",
       "Usina                                                     \n",
       "GES - PCH-JOSÉ GELÁZIO DA ROCHA                       51  \n",
       "GES - PCH-RONDONÓPOLIS                                51  \n",
       "GES - UHE-CANA BRAVA                                   4  \n",
       "GES - UHE-CANA BRAVA                                   3  \n",
       "GES - UHE-CANA BRAVA                                 246  \n",
       "...                                                  ...  \n",
       "GSB - UHE-SALTO SANTIAGO                              93  \n",
       "GSB - UHE-SALTO SANTIAGO                            3282  \n",
       "GSB - UHE-SALTO SANTIAGO                           26101  \n",
       "GSB - UHE-SÃO SALVADOR                               241  \n",
       "RECURSOS HIDRICOS                                     13  \n",
       "\n",
       "[98 rows x 2 columns]"
      ]
     },
     "execution_count": 208,
     "metadata": {},
     "output_type": "execute_result"
    }
   ],
   "source": [
    "df_oper"
   ]
  },
  {
   "cell_type": "markdown",
   "id": "d1a9f210",
   "metadata": {},
   "source": [
    "#### Número de usuários com pelo menos 1 ação no sistema no último ano (2023) (independente de unidade)"
   ]
  },
  {
   "cell_type": "code",
   "execution_count": 197,
   "id": "d7b907e6",
   "metadata": {
    "collapsed": true
   },
   "outputs": [
    {
     "data": {
      "text/plain": [
       "MultiIndex([('GES - PCH-JOSÉ GELÁZIO DA ROCHA', 0),\n",
       "            (         'GES - PCH-RONDONÓPOLIS', 0),\n",
       "            (           'GES - UHE-CANA BRAVA', 0),\n",
       "            (           'GES - UHE-CANA BRAVA', 1),\n",
       "            (           'GES - UHE-CANA BRAVA', 2),\n",
       "            (           'GES - UHE-CANA BRAVA', 3),\n",
       "            (             'GES - UHE-ESTREITO', 0),\n",
       "            (             'GES - UHE-ESTREITO', 1),\n",
       "            (             'GES - UHE-ESTREITO', 2),\n",
       "            (             'GES - UHE-ESTREITO', 3),\n",
       "            (                  'GES - UHE-ITA', 0),\n",
       "            (                  'GES - UHE-ITA', 1),\n",
       "            (                  'GES - UHE-ITA', 2),\n",
       "            (                  'GES - UHE-ITA', 3),\n",
       "            (                  'GES - UHE-ITA', 4),\n",
       "            (                  'GES - UHE-ITA', 5),\n",
       "            (              'GES - UHE-JAGUARA', 0),\n",
       "            (              'GES - UHE-JAGUARA', 1),\n",
       "            (              'GES - UHE-JAGUARA', 2),\n",
       "            (              'GES - UHE-JAGUARA', 3),\n",
       "            (           'GES - UHE-MACHADINHO', 0),\n",
       "            (           'GES - UHE-MACHADINHO', 1),\n",
       "            (              'GES - UHE-MIRANDA', 0),\n",
       "            (              'GES - UHE-MIRANDA', 1),\n",
       "            (              'GES - UHE-MIRANDA', 2),\n",
       "            (          'GES - UHE-PASSO FUNDO', 0),\n",
       "            (          'GES - UHE-PASSO FUNDO', 1),\n",
       "            (          'GES - UHE-PASSO FUNDO', 2),\n",
       "            (       'GES - UHE-PONTE DE PEDRA', 0),\n",
       "            (       'GES - UHE-PONTE DE PEDRA', 1),\n",
       "            (       'GES - UHE-PONTE DE PEDRA', 2),\n",
       "            (       'GES - UHE-PONTE DE PEDRA', 3),\n",
       "            (       'GES - UHE-PONTE DE PEDRA', 4),\n",
       "            (         'GES - UHE-SALTO OSORIO', 0),\n",
       "            (         'GES - UHE-SALTO OSORIO', 1),\n",
       "            (       'GES - UHE-SALTO SANTIAGO', 0),\n",
       "            (       'GES - UHE-SALTO SANTIAGO', 1),\n",
       "            (         'GES - UHE-SÃO SALVADOR', 0),\n",
       "            (         'GES - UHE-SÃO SALVADOR', 1),\n",
       "            (           'GSB - UHE-CANA BRAVA', 0),\n",
       "            (             'GSB - UHE-ESTREITO', 0),\n",
       "            (             'GSB - UHE-ESTREITO', 1),\n",
       "            (             'GSB - UHE-ESTREITO', 2),\n",
       "            (             'GSB - UHE-ESTREITO', 3),\n",
       "            (             'GSB - UHE-ESTREITO', 4),\n",
       "            (                  'GSB - UHE-ITA', 0),\n",
       "            (                  'GSB - UHE-ITA', 1),\n",
       "            (                  'GSB - UHE-ITA', 2),\n",
       "            (                  'GSB - UHE-ITA', 3),\n",
       "            (                  'GSB - UHE-ITA', 4),\n",
       "            (                  'GSB - UHE-ITA', 5),\n",
       "            (                  'GSB - UHE-ITA', 6),\n",
       "            (                  'GSB - UHE-ITA', 7),\n",
       "            (                  'GSB - UHE-ITA', 8),\n",
       "            (              'GSB - UHE-JAGUARA', 0),\n",
       "            (              'GSB - UHE-JAGUARA', 1),\n",
       "            (              'GSB - UHE-JAGUARA', 2),\n",
       "            (              'GSB - UHE-JAGUARA', 3),\n",
       "            (              'GSB - UHE-JAGUARA', 4),\n",
       "            (              'GSB - UHE-JAGUARA', 5),\n",
       "            (           'GSB - UHE-MACHADINHO', 0),\n",
       "            (           'GSB - UHE-MACHADINHO', 1),\n",
       "            (           'GSB - UHE-MACHADINHO', 2),\n",
       "            (           'GSB - UHE-MACHADINHO', 3),\n",
       "            (           'GSB - UHE-MACHADINHO', 4),\n",
       "            (           'GSB - UHE-MACHADINHO', 5),\n",
       "            (              'GSB - UHE-MIRANDA', 0),\n",
       "            (              'GSB - UHE-MIRANDA', 1),\n",
       "            (              'GSB - UHE-MIRANDA', 2),\n",
       "            (              'GSB - UHE-MIRANDA', 3),\n",
       "            (              'GSB - UHE-MIRANDA', 4),\n",
       "            (              'GSB - UHE-MIRANDA', 5),\n",
       "            (          'GSB - UHE-PASSO FUNDO', 0),\n",
       "            (          'GSB - UHE-PASSO FUNDO', 1),\n",
       "            (          'GSB - UHE-PASSO FUNDO', 2),\n",
       "            (          'GSB - UHE-PASSO FUNDO', 3),\n",
       "            (          'GSB - UHE-PASSO FUNDO', 4),\n",
       "            (          'GSB - UHE-PASSO FUNDO', 5),\n",
       "            (          'GSB - UHE-PASSO FUNDO', 6),\n",
       "            (       'GSB - UHE-PONTE DE PEDRA', 0),\n",
       "            (         'GSB - UHE-SALTO OSORIO', 0),\n",
       "            (         'GSB - UHE-SALTO OSORIO', 1),\n",
       "            (         'GSB - UHE-SALTO OSORIO', 2),\n",
       "            (         'GSB - UHE-SALTO OSORIO', 3),\n",
       "            (         'GSB - UHE-SALTO OSORIO', 4),\n",
       "            (         'GSB - UHE-SALTO OSORIO', 5),\n",
       "            (         'GSB - UHE-SALTO OSORIO', 6),\n",
       "            (       'GSB - UHE-SALTO SANTIAGO', 0),\n",
       "            (       'GSB - UHE-SALTO SANTIAGO', 1),\n",
       "            (       'GSB - UHE-SALTO SANTIAGO', 2),\n",
       "            (       'GSB - UHE-SALTO SANTIAGO', 3),\n",
       "            (       'GSB - UHE-SALTO SANTIAGO', 4),\n",
       "            (       'GSB - UHE-SALTO SANTIAGO', 5),\n",
       "            (       'GSB - UHE-SALTO SANTIAGO', 6),\n",
       "            (       'GSB - UHE-SALTO SANTIAGO', 7),\n",
       "            (       'GSB - UHE-SALTO SANTIAGO', 8),\n",
       "            (         'GSB - UHE-SÃO SALVADOR', 0),\n",
       "            (              'RECURSOS HIDRICOS', 0)],\n",
       "           names=['Usina', None])"
      ]
     },
     "execution_count": 197,
     "metadata": {},
     "output_type": "execute_result"
    }
   ],
   "source": [
    "df_mesclado.index"
   ]
  },
  {
   "cell_type": "code",
   "execution_count": 206,
   "id": "a6137f5a",
   "metadata": {},
   "outputs": [
    {
     "ename": "KeyError",
     "evalue": "\"None of ['Usina'] are in the columns\"",
     "output_type": "error",
     "traceback": [
      "\u001b[0;31m---------------------------------------------------------------------------\u001b[0m",
      "\u001b[0;31mKeyError\u001b[0m                                  Traceback (most recent call last)",
      "\u001b[0;32m/tmp/ipykernel_2473/1443801968.py\u001b[0m in \u001b[0;36m<module>\u001b[0;34m\u001b[0m\n\u001b[0;32m----> 1\u001b[0;31m \u001b[0mdf_mesclado\u001b[0m\u001b[0;34m.\u001b[0m\u001b[0mset_index\u001b[0m\u001b[0;34m(\u001b[0m\u001b[0;34m'Usina'\u001b[0m\u001b[0;34m)\u001b[0m\u001b[0;34m\u001b[0m\u001b[0;34m\u001b[0m\u001b[0m\n\u001b[0m",
      "\u001b[0;32m~/.cache/pypoetry/virtualenvs/apps-ZFymp6kh-py3.7/lib/python3.7/site-packages/pandas/util/_decorators.py\u001b[0m in \u001b[0;36mwrapper\u001b[0;34m(*args, **kwargs)\u001b[0m\n\u001b[1;32m    309\u001b[0m                     \u001b[0mstacklevel\u001b[0m\u001b[0;34m=\u001b[0m\u001b[0mstacklevel\u001b[0m\u001b[0;34m,\u001b[0m\u001b[0;34m\u001b[0m\u001b[0;34m\u001b[0m\u001b[0m\n\u001b[1;32m    310\u001b[0m                 )\n\u001b[0;32m--> 311\u001b[0;31m             \u001b[0;32mreturn\u001b[0m \u001b[0mfunc\u001b[0m\u001b[0;34m(\u001b[0m\u001b[0;34m*\u001b[0m\u001b[0margs\u001b[0m\u001b[0;34m,\u001b[0m \u001b[0;34m**\u001b[0m\u001b[0mkwargs\u001b[0m\u001b[0;34m)\u001b[0m\u001b[0;34m\u001b[0m\u001b[0;34m\u001b[0m\u001b[0m\n\u001b[0m\u001b[1;32m    312\u001b[0m \u001b[0;34m\u001b[0m\u001b[0m\n\u001b[1;32m    313\u001b[0m         \u001b[0;32mreturn\u001b[0m \u001b[0mwrapper\u001b[0m\u001b[0;34m\u001b[0m\u001b[0;34m\u001b[0m\u001b[0m\n",
      "\u001b[0;32m~/.cache/pypoetry/virtualenvs/apps-ZFymp6kh-py3.7/lib/python3.7/site-packages/pandas/core/frame.py\u001b[0m in \u001b[0;36mset_index\u001b[0;34m(self, keys, drop, append, inplace, verify_integrity)\u001b[0m\n\u001b[1;32m   5449\u001b[0m \u001b[0;34m\u001b[0m\u001b[0m\n\u001b[1;32m   5450\u001b[0m         \u001b[0;32mif\u001b[0m \u001b[0mmissing\u001b[0m\u001b[0;34m:\u001b[0m\u001b[0;34m\u001b[0m\u001b[0;34m\u001b[0m\u001b[0m\n\u001b[0;32m-> 5451\u001b[0;31m             \u001b[0;32mraise\u001b[0m \u001b[0mKeyError\u001b[0m\u001b[0;34m(\u001b[0m\u001b[0;34mf\"None of {missing} are in the columns\"\u001b[0m\u001b[0;34m)\u001b[0m\u001b[0;34m\u001b[0m\u001b[0;34m\u001b[0m\u001b[0m\n\u001b[0m\u001b[1;32m   5452\u001b[0m \u001b[0;34m\u001b[0m\u001b[0m\n\u001b[1;32m   5453\u001b[0m         \u001b[0;32mif\u001b[0m \u001b[0minplace\u001b[0m\u001b[0;34m:\u001b[0m\u001b[0;34m\u001b[0m\u001b[0;34m\u001b[0m\u001b[0m\n",
      "\u001b[0;31mKeyError\u001b[0m: \"None of ['Usina'] are in the columns\""
     ]
    }
   ],
   "source": [
    "df_mesclado.set_index('Usina')"
   ]
  },
  {
   "cell_type": "code",
   "execution_count": 42,
   "id": "4c724963",
   "metadata": {},
   "outputs": [],
   "source": [
    "aclog_v2=ActionLog.objects.filter(\n",
    "    Q(company__name__startswith='GES')|\n",
    "    Q(company__name__startswith='GSB')|\n",
    "    Q(company__name__startswith='GSO')|\n",
    "    Q(company__name__startswith='REC'),\n",
    "    created_at__year='2023'\n",
    ").order_by(\n",
    "    'user'\n",
    ").distinct(\n",
    "    'user'\n",
    ").count()"
   ]
  },
  {
   "cell_type": "code",
   "execution_count": 207,
   "id": "01620a66",
   "metadata": {},
   "outputs": [
    {
     "ename": "TypeError",
     "evalue": "'MultiIndex' object is not callable",
     "output_type": "error",
     "traceback": [
      "\u001b[0;31m---------------------------------------------------------------------------\u001b[0m",
      "\u001b[0;31mTypeError\u001b[0m                                 Traceback (most recent call last)",
      "\u001b[0;32m/tmp/ipykernel_2473/1476118229.py\u001b[0m in \u001b[0;36m<module>\u001b[0;34m\u001b[0m\n\u001b[0;32m----> 1\u001b[0;31m \u001b[0mdf_mesclado\u001b[0m\u001b[0;34m.\u001b[0m\u001b[0mindex\u001b[0m\u001b[0;34m(\u001b[0m\u001b[0mnames\u001b[0m\u001b[0;34m=\u001b[0m\u001b[0;34m[\u001b[0m\u001b[0;34m'Usina'\u001b[0m\u001b[0;34m,\u001b[0m\u001b[0;34m'level'\u001b[0m\u001b[0;34m]\u001b[0m\u001b[0;34m)\u001b[0m\u001b[0;34m\u001b[0m\u001b[0;34m\u001b[0m\u001b[0m\n\u001b[0m",
      "\u001b[0;31mTypeError\u001b[0m: 'MultiIndex' object is not callable"
     ]
    }
   ],
   "source": [
    "df_mesclado.index(names=['Usina','level'])"
   ]
  },
  {
   "cell_type": "code",
   "execution_count": 43,
   "id": "43b298b8",
   "metadata": {},
   "outputs": [
    {
     "data": {
      "text/html": [
       "<div>\n",
       "<style scoped>\n",
       "    .dataframe tbody tr th:only-of-type {\n",
       "        vertical-align: middle;\n",
       "    }\n",
       "\n",
       "    .dataframe tbody tr th {\n",
       "        vertical-align: top;\n",
       "    }\n",
       "\n",
       "    .dataframe thead th {\n",
       "        text-align: right;\n",
       "    }\n",
       "</style>\n",
       "<table border=\"1\" class=\"dataframe\">\n",
       "  <thead>\n",
       "    <tr style=\"text-align: right;\">\n",
       "      <th></th>\n",
       "      <th>Nº de user com pelo menos uma ação</th>\n",
       "    </tr>\n",
       "  </thead>\n",
       "  <tbody>\n",
       "    <tr>\n",
       "      <th>Total de Usuários</th>\n",
       "      <td>113</td>\n",
       "    </tr>\n",
       "  </tbody>\n",
       "</table>\n",
       "</div>"
      ],
      "text/plain": [
       "                   Nº de user com pelo menos uma ação\n",
       "Total de Usuários                                 113"
      ]
     },
     "execution_count": 43,
     "metadata": {},
     "output_type": "execute_result"
    }
   ],
   "source": [
    "df_aclog_v2 = pd.DataFrame(data={\"Nº de user com pelo menos uma ação\":aclog_v2},index=['Total de Usuários'])\n",
    "df_aclog_v2"
   ]
  },
  {
   "cell_type": "markdown",
   "id": "05bb0605",
   "metadata": {},
   "source": [
    "#### Número total de usuários cadastrados no sistema Engie"
   ]
  },
  {
   "cell_type": "code",
   "execution_count": 44,
   "id": "631008f4",
   "metadata": {},
   "outputs": [
    {
     "data": {
      "text/plain": [
       "767"
      ]
     },
     "execution_count": 44,
     "metadata": {},
     "output_type": "execute_result"
    }
   ],
   "source": [
    "all_user_engie = User.objects.all().count()\n",
    "all_user_engie"
   ]
  },
  {
   "cell_type": "markdown",
   "id": "07ac7064",
   "metadata": {},
   "source": [
    "#### Número total de usuários cadastrados na plataforma principal da Kartado (não no ambiente da ENGIE). Nesse indicador precisaria somar usuários cadastrados no ambiente compartilhado + CCR"
   ]
  },
  {
   "cell_type": "code",
   "execution_count": 45,
   "id": "55ce4dd3",
   "metadata": {},
   "outputs": [
    {
     "data": {
      "text/plain": [
       "767"
      ]
     },
     "execution_count": 45,
     "metadata": {},
     "output_type": "execute_result"
    }
   ],
   "source": [
    "all_user_ccr = User.objects.all().count()\n",
    "all_user_ccr"
   ]
  },
  {
   "cell_type": "code",
   "execution_count": 46,
   "id": "47c7d03d",
   "metadata": {},
   "outputs": [
    {
     "data": {
      "text/html": [
       "<div>\n",
       "<style scoped>\n",
       "    .dataframe tbody tr th:only-of-type {\n",
       "        vertical-align: middle;\n",
       "    }\n",
       "\n",
       "    .dataframe tbody tr th {\n",
       "        vertical-align: top;\n",
       "    }\n",
       "\n",
       "    .dataframe thead th {\n",
       "        text-align: right;\n",
       "    }\n",
       "</style>\n",
       "<table border=\"1\" class=\"dataframe\">\n",
       "  <thead>\n",
       "    <tr style=\"text-align: right;\">\n",
       "      <th></th>\n",
       "      <th>Ambiente Compartilhado</th>\n",
       "      <th>Engie</th>\n",
       "      <th>CCR</th>\n",
       "    </tr>\n",
       "  </thead>\n",
       "  <tbody>\n",
       "    <tr>\n",
       "      <th>Total de Usuários</th>\n",
       "      <td>6284</td>\n",
       "      <td>767</td>\n",
       "      <td>448</td>\n",
       "    </tr>\n",
       "  </tbody>\n",
       "</table>\n",
       "</div>"
      ],
      "text/plain": [
       "                   Ambiente Compartilhado  Engie  CCR\n",
       "Total de Usuários                    6284    767  448"
      ]
     },
     "execution_count": 46,
     "metadata": {},
     "output_type": "execute_result"
    }
   ],
   "source": [
    "df_all_user_infra = pd.DataFrame(data={\"Ambiente Compartilhado\":6284,'Engie':767,'CCR':448},index=['Total de Usuários'])\n",
    "df_all_user_infra"
   ]
  },
  {
   "cell_type": "code",
   "execution_count": 8,
   "id": "a1115bf4",
   "metadata": {},
   "outputs": [
    {
     "data": {
      "text/plain": [
       "{'GES': 563, 'GSB': 33, 'GSO': 82, 'REC': 1}"
      ]
     },
     "execution_count": 8,
     "metadata": {},
     "output_type": "execute_result"
    }
   ],
   "source": [
    "distinct_uic={'GES':UserInCompany.objects.filter(company__name__startswith='GES').order_by('user').distinct('user').count(),\n",
    "'GSB':UserInCompany.objects.filter(company__name__startswith='GSB').order_by('user').distinct('user').count(),\n",
    "'GSO':UserInCompany.objects.filter(company__name__startswith='GSO').order_by('user').distinct('user').count(),\n",
    "'REC':UserInCompany.objects.filter(company__name__startswith='REC').order_by('user').distinct('user').count()}\n",
    "distinct_uic"
   ]
  },
  {
   "cell_type": "code",
   "execution_count": 16,
   "id": "7742cc82",
   "metadata": {},
   "outputs": [],
   "source": [
    "df2_final_uic = pd.DataFrame(columns=['Quantidade Usuários por Subsistema'])"
   ]
  },
  {
   "cell_type": "code",
   "execution_count": 17,
   "id": "5a6816db",
   "metadata": {},
   "outputs": [
    {
     "data": {
      "text/html": [
       "<div>\n",
       "<style scoped>\n",
       "    .dataframe tbody tr th:only-of-type {\n",
       "        vertical-align: middle;\n",
       "    }\n",
       "\n",
       "    .dataframe tbody tr th {\n",
       "        vertical-align: top;\n",
       "    }\n",
       "\n",
       "    .dataframe thead th {\n",
       "        text-align: right;\n",
       "    }\n",
       "</style>\n",
       "<table border=\"1\" class=\"dataframe\">\n",
       "  <thead>\n",
       "    <tr style=\"text-align: right;\">\n",
       "      <th></th>\n",
       "      <th>Quantidade Usuários por Subsistema</th>\n",
       "    </tr>\n",
       "  </thead>\n",
       "  <tbody>\n",
       "    <tr>\n",
       "      <th>GES</th>\n",
       "      <td>563</td>\n",
       "    </tr>\n",
       "    <tr>\n",
       "      <th>GSB</th>\n",
       "      <td>33</td>\n",
       "    </tr>\n",
       "    <tr>\n",
       "      <th>GSO</th>\n",
       "      <td>82</td>\n",
       "    </tr>\n",
       "    <tr>\n",
       "      <th>REC</th>\n",
       "      <td>1</td>\n",
       "    </tr>\n",
       "  </tbody>\n",
       "</table>\n",
       "</div>"
      ],
      "text/plain": [
       "    Quantidade Usuários por Subsistema\n",
       "GES                                563\n",
       "GSB                                 33\n",
       "GSO                                 82\n",
       "REC                                  1"
      ]
     },
     "execution_count": 17,
     "metadata": {},
     "output_type": "execute_result"
    }
   ],
   "source": [
    "for k,v in distinct_uic.items():\n",
    "    df2_final_uic.loc[k] = v\n",
    "df2_final_uic"
   ]
  },
  {
   "cell_type": "code",
   "execution_count": 47,
   "id": "f5d8f734",
   "metadata": {},
   "outputs": [],
   "source": [
    "with pd.ExcelWriter('Rel_Users_Actions.xlsx', mode='w',engine=\"openpyxl\") as writer:\n",
    "#     df_users.to_excel(writer, sheet_name='Qtd Usuários por Usina', index=False)\n",
    "    df2_final_uic.to_excel(writer, sheet_name='Qtd Usuarios por Subsis', index=True)\n",
    "    df_oper.to_excel(writer, sheet_name='Qtd Reg-Controle-Oper', index=True)\n",
    "    df_aclog_v2.to_excel(writer, sheet_name='User uma Acao', index=True)\n",
    "    df_all_user_infra.to_excel(writer, sheet_name='Total User por ambiente', index=True)"
   ]
  },
  {
   "cell_type": "code",
   "execution_count": 7,
   "id": "1115eed4",
   "metadata": {
    "scrolled": true
   },
   "outputs": [
    {
     "data": {
      "text/plain": [
       "1"
      ]
     },
     "execution_count": 7,
     "metadata": {},
     "output_type": "execute_result"
    }
   ],
   "source": [
    "UserInCompany.objects.filter(company__name__startswith='REC').order_by('user').distinct('user').count()"
   ]
  },
  {
   "cell_type": "code",
   "execution_count": null,
   "id": "523eec9e",
   "metadata": {},
   "outputs": [],
   "source": []
  }
 ],
 "metadata": {
  "kernelspec": {
   "display_name": "Django Shell-Plus",
   "language": "python",
   "name": "django_extensions"
  },
  "language_info": {
   "codemirror_mode": {
    "name": "ipython",
    "version": 3
   },
   "file_extension": ".py",
   "mimetype": "text/x-python",
   "name": "python",
   "nbconvert_exporter": "python",
   "pygments_lexer": "ipython3",
   "version": "3.7.9"
  }
 },
 "nbformat": 4,
 "nbformat_minor": 5
}
