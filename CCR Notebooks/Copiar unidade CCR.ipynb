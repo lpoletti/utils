{
 "cells": [
  {
   "cell_type": "code",
   "execution_count": 1,
   "id": "61f059e3",
   "metadata": {},
   "outputs": [
    {
     "name": "stdout",
     "output_type": "stream",
     "text": [
      "STAGE=ENGIE_PRODUCTION\r\n"
     ]
    }
   ],
   "source": [
    "!cat .env"
   ]
  },
  {
   "cell_type": "code",
   "execution_count": 2,
   "id": "413ecb0f",
   "metadata": {},
   "outputs": [
    {
     "data": {
      "text/plain": [
       "<QuerySet [<Company: a17b7aca-5552-4f17-9ba0-9946029390a6: POC-Projeto APR>, <Company: c85df77c-3e92-4f60-b9c1-de5866400d2d: GSO - UHE-CANA BRAVA>, <Company: 571581e3-da3a-469e-8676-0dc58c056ef7: GSO - UHE-SALTO OSORIO>, <Company: 4920816b-507a-48b1-86d5-d2eef6c63a1f: GSO - UTPS>, <Company: 37b4c80d-3f2b-4032-8cac-6ba1560d3144: GSO - UHE-SALTO SANTIAGO>, <Company: 4a5e0119-fb85-40fd-87ab-f201a2aa0fde: GSB - UHE-MACHADINHO>, <Company: 7fe7b473-6d9c-49d6-a9ca-74f3424d3211: GSB - UHE-SALTO OSORIO>, <Company: ed749424-27e4-4342-82cd-f924de71830b: Limbo - UTPS>, <Company: 1021dc11-d12c-4a27-88d5-dde0fad2be7d: GSO - UHE-PONTE DE PEDRA>, <Company: b75339ff-e91f-4e75-a082-5d7e23a4d049: GSB - UHE-SALTO SANTIAGO>, <Company: f0bdd035-6af9-401c-9233-26c5cdd808b0: GSO - UHE-JAGUARA>, <Company: 62ad80d9-b785-4037-933a-e23238728220: GSO - UHE-MIRANDA>, <Company: d25d0eb2-61a8-4646-8e0e-31c8e68cf216: TESTE>, <Company: 5f0ef84c-9985-4519-95de-e87fb4fcea21: GSO - PCH-JOSÉ GELÁZIO DA ROCHA>, <Company: 1b1511d1-6f28-4aed-b02c-7c820c5f9dbb: GSO - PCH-RONDONÓPOLIS>, <Company: 33e4f910-db35-46ce-95c8-56cad68eeb94: GSO - UHE-ESTREITO>, <Company: 90041917-e41e-46f2-b979-7d3ad53efad2: Engie Umburanas>, <Company: cff59760-69dd-4d07-bba5-61aa8b6faeea: GES - UHE-CANA BRAVA>, <Company: 76ddb208-b049-4022-9736-9fd0101a5392: GSB - UHE-PONTE DE PEDRA>, <Company: 1f30f493-c653-46c7-b073-0046837347f7: GSO - UHE-SÃO SALVADOR>, '...(remaining elements truncated)...']>"
      ]
     },
     "execution_count": 2,
     "metadata": {},
     "output_type": "execute_result"
    }
   ],
   "source": [
    "Company.objects.all()"
   ]
  },
  {
   "cell_type": "code",
   "execution_count": 11,
   "id": "edfe9039",
   "metadata": {},
   "outputs": [],
   "source": [
    "from helpers.signals import DisableSignals\n",
    "from tqdm.notebook import tqdm\n",
    "import uuid"
   ]
  },
  {
   "cell_type": "code",
   "execution_count": 3,
   "id": "039be0e1",
   "metadata": {},
   "outputs": [],
   "source": [
    "company_origin=Company.objects.get(name=\"CCR - Rio Sp\")"
   ]
  },
  {
   "cell_type": "code",
   "execution_count": 4,
   "id": "ca4a3b85",
   "metadata": {},
   "outputs": [
    {
     "data": {
      "text/plain": [
       "68"
      ]
     },
     "execution_count": 4,
     "metadata": {},
     "output_type": "execute_result"
    }
   ],
   "source": [
    "User.objects.all().count()"
   ]
  },
  {
   "cell_type": "markdown",
   "id": "6d212659",
   "metadata": {},
   "source": [
    "User manipulation"
   ]
  },
  {
   "cell_type": "code",
   "execution_count": 5,
   "id": "2bbbe39a",
   "metadata": {},
   "outputs": [],
   "source": [
    "company_name = \"CCR - RodoAnel\""
   ]
  },
  {
   "cell_type": "code",
   "execution_count": 53,
   "id": "5731d233",
   "metadata": {},
   "outputs": [],
   "source": [
    "key_user = User.objects.get(username=\"marcos\")"
   ]
  },
  {
   "cell_type": "code",
   "execution_count": 54,
   "id": "d6fbe5f2",
   "metadata": {},
   "outputs": [],
   "source": [
    "company = Company(name=company_name,\n",
    "                  company_group=company_origin.company_group,\n",
    "                 cnpj=company_origin.cnpj,\n",
    "                 custom_options = company_origin.custom_options,\n",
    "                 metadata = company_origin.metadata)"
   ]
  },
  {
   "cell_type": "code",
   "execution_count": 55,
   "id": "2e442b36",
   "metadata": {},
   "outputs": [],
   "source": [
    "# company.company_group = None\n",
    "company.save()"
   ]
  },
  {
   "cell_type": "code",
   "execution_count": 6,
   "id": "d13f9fcb",
   "metadata": {},
   "outputs": [
    {
     "data": {
      "text/plain": [
       "<Company: be176150-b4da-4162-9eec-67f6db3f5612: CCR - RodoAnel>"
      ]
     },
     "execution_count": 6,
     "metadata": {},
     "output_type": "execute_result"
    }
   ],
   "source": [
    "company=Company.objects.get(name=company_name)\n",
    "company"
   ]
  },
  {
   "cell_type": "code",
   "execution_count": 57,
   "id": "747c7b05",
   "metadata": {},
   "outputs": [],
   "source": [
    "# users_to_transfer = User.objects.filter(companies=company)\n",
    "users_to_transfer = User.objects.filter(username__in=[\n",
    "    \"felippe.vanroo\",\n",
    "    \"luan.poletti\",\n",
    "    \"pedro.gasparotti\",\n",
    "    \"marina.carpes\"\n",
    "])"
   ]
  },
  {
   "cell_type": "code",
   "execution_count": 58,
   "id": "c3c548a9",
   "metadata": {},
   "outputs": [],
   "source": [
    "for a in users_to_transfer:\n",
    "    a.company_group_id = company_origin.company_group.uuid\n",
    "    a.save()"
   ]
  },
  {
   "cell_type": "code",
   "execution_count": 59,
   "id": "ee5d79f1",
   "metadata": {
    "scrolled": false
   },
   "outputs": [],
   "source": [
    "for a in SubCompany.objects.filter(company=company_origin):\n",
    "    a.uuid=None\n",
    "    a.company=company\n",
    "    a.save()"
   ]
  },
  {
   "cell_type": "code",
   "execution_count": 60,
   "id": "3199029a",
   "metadata": {},
   "outputs": [],
   "source": [
    "for a in UserPermission.objects.filter(companies=company_origin):\n",
    "    a.companies.add(company)"
   ]
  },
  {
   "cell_type": "code",
   "execution_count": 61,
   "id": "c3eb2fc1",
   "metadata": {},
   "outputs": [],
   "source": [
    "for a in Firm.objects.filter(company=company_origin):\n",
    "    a.uuid=None\n",
    "    a.company = company\n",
    "    a.subcompany= SubCompany.objects.filter(company=company,name = a.subcompany.name).first()\n",
    "    a.save()"
   ]
  },
  {
   "cell_type": "code",
   "execution_count": 62,
   "id": "92e093cc",
   "metadata": {},
   "outputs": [],
   "source": [
    "for a in UserInFirm.objects.filter(firm__company=company_origin):\n",
    "    a.uuid=None\n",
    "    a.firm=Firm.objects.get(name=a.firm.name,company=company)\n",
    "    a.save()"
   ]
  },
  {
   "cell_type": "code",
   "execution_count": null,
   "id": "19bb478b",
   "metadata": {},
   "outputs": [],
   "source": []
  },
  {
   "cell_type": "code",
   "execution_count": 63,
   "id": "f8987aa4",
   "metadata": {},
   "outputs": [],
   "source": [
    "for a in UserInCompany.objects.filter(company=company_origin):\n",
    "    a.uuid = None\n",
    "    a.company = company\n",
    "    a.save()"
   ]
  },
  {
   "cell_type": "code",
   "execution_count": 64,
   "id": "365a292c",
   "metadata": {},
   "outputs": [],
   "source": [
    "for a in ServiceOrderActionStatusSpecs.objects.filter(company=company_origin):\n",
    "    a.uuid=None\n",
    "    a.company=company\n",
    "    a.save()"
   ]
  },
  {
   "cell_type": "code",
   "execution_count": 7,
   "id": "eb2f36e1",
   "metadata": {},
   "outputs": [],
   "source": [
    "for a in OccurrenceTypeSpecs.objects.filter(company=company_origin):\n",
    "    a.uuid=None\n",
    "    a.company = company\n",
    "    a.save()"
   ]
  },
  {
   "cell_type": "code",
   "execution_count": null,
   "id": "1fd4662b",
   "metadata": {},
   "outputs": [],
   "source": [
    "# road_ids = Road.objects.filter(company=company).values_list(\"id\", flat=True)"
   ]
  },
  {
   "cell_type": "code",
   "execution_count": null,
   "id": "229ac19a",
   "metadata": {},
   "outputs": [],
   "source": [
    "# for road_id in road_ids:\n",
    "#     this_road = Road.objects.get(id=road_id)\n",
    "#     print(this_road)\n",
    "#     with DisableSignals():\n",
    "#         this_road.save(using=\"ccr_homolog\")\n",
    "#     this_road.company.add(company)"
   ]
  },
  {
   "cell_type": "code",
   "execution_count": 66,
   "id": "717748b5",
   "metadata": {},
   "outputs": [],
   "source": [
    "for a in ShapeFile.objects.filter(companies=company_origin):\n",
    "    a.companies.add(company)"
   ]
  },
  {
   "cell_type": "code",
   "execution_count": 67,
   "id": "b7609ae6",
   "metadata": {},
   "outputs": [],
   "source": [
    "for a in TileLayer.objects.filter(companies=company_origin):\n",
    "    a.companies.add(company)"
   ]
  },
  {
   "cell_type": "code",
   "execution_count": 68,
   "id": "3ccda338",
   "metadata": {},
   "outputs": [],
   "source": [
    "for a in ApprovalFlow.objects.filter(company=company_origin):\n",
    "    a.uuid = None\n",
    "    a.company=company\n",
    "    a.save()"
   ]
  },
  {
   "cell_type": "code",
   "execution_count": 69,
   "id": "3c398758",
   "metadata": {},
   "outputs": [],
   "source": [
    "for a in ApprovalStep.objects.filter(approval_flow__company=company_origin):\n",
    "    a.uuid=None\n",
    "    a.approval_flow = ApprovalFlow.objects.get(name=a.approval_flow.name,company=company)\n",
    "    a.save()"
   ]
  },
  {
   "cell_type": "code",
   "execution_count": 70,
   "id": "7baf950d",
   "metadata": {},
   "outputs": [
    {
     "name": "stdout",
     "output_type": "stream",
     "text": [
      "[CCR SPVias]: RDO Aguardando Aprovação [CCR SPVias]: RDO Aprovado\n",
      "[CCR SPVias]: Aguardando Aprovação [CCR SPVias]: Cancelado\n",
      "[CCR SPVias]: Aguardando Aprovação [CCR SPVias]: Aprovado\n",
      "[CCR SPVias]: Aguardando Aprovação [CCR SPVias]: Em Revisão\n",
      "[CCR SPVias]: Criado [CCR SPVias]: Aguardando Aprovação\n",
      "[CCR SPVias]: RDO Criado [CCR SPVias]: RDO Aguardando Aprovação\n",
      "[CCR SPVias]: Aguardando Aprovação [CCR SPVias]: Aprovado\n",
      "[CCR SPVias]: Em Revisão [CCR SPVias]: Aguardando Aprovação\n"
     ]
    }
   ],
   "source": [
    "for a in ApprovalTransition.objects.filter(origin__approval_flow__company=company_origin):\n",
    "    a.uuid=None\n",
    "    a.origin = ApprovalStep.objects.get(approval_flow__company=company,\n",
    "                                        name=a.origin.name,\n",
    "                                        approval_flow__target_model=a.origin.approval_flow.target_model)\n",
    "    a.destination = ApprovalStep.objects.get(approval_flow__company=company,\n",
    "                                        name=a.destination.name,\n",
    "                                        approval_flow__target_model=a.destination.approval_flow.target_model)\n",
    "    a.save()\n",
    "    print(a.origin,a.destination)"
   ]
  },
  {
   "cell_type": "code",
   "execution_count": null,
   "id": "4af82ae8",
   "metadata": {},
   "outputs": [],
   "source": []
  },
  {
   "cell_type": "code",
   "execution_count": null,
   "id": "1209b64a",
   "metadata": {},
   "outputs": [],
   "source": []
  },
  {
   "cell_type": "code",
   "execution_count": null,
   "id": "dea987b6",
   "metadata": {},
   "outputs": [],
   "source": []
  },
  {
   "cell_type": "code",
   "execution_count": null,
   "id": "06474e84",
   "metadata": {},
   "outputs": [],
   "source": []
  },
  {
   "cell_type": "code",
   "execution_count": null,
   "id": "d92245db",
   "metadata": {},
   "outputs": [],
   "source": []
  },
  {
   "cell_type": "code",
   "execution_count": null,
   "id": "cd2403a6",
   "metadata": {},
   "outputs": [],
   "source": []
  },
  {
   "cell_type": "markdown",
   "id": "ec825c35",
   "metadata": {},
   "source": [
    "# Opcional necessita de ajustes"
   ]
  },
  {
   "cell_type": "code",
   "execution_count": null,
   "id": "95c91b90",
   "metadata": {},
   "outputs": [],
   "source": [
    "for a in tqdm(\n",
    "    Reporting.objects.filter(\n",
    "        Q(uuid__in=Job.objects.filter(company=company_origin, inspection__isnull=False).values_list(\"inspection_id\", flat=True).distinct())\n",
    "        | Q(uuid__in=Job.objects.filter(company=company_origin, parent_inventory__isnull=False).values_list(\"parent_inventory_id\", flat=True).distinct())\n",
    "    )\n",
    "):\n",
    "    if Reporting.objects.using(\"ccr_homolog\").filter(uuid=a.uuid).exists():\n",
    "        continue\n",
    "    a.active_inspection = None\n",
    "    a.parent = None\n",
    "    with DisableSignals():\n",
    "        a.save(using=\"ccr_homolog\")"
   ]
  },
  {
   "cell_type": "code",
   "execution_count": null,
   "id": "8427b295",
   "metadata": {},
   "outputs": [],
   "source": [
    "for a in tqdm(\n",
    "    Job.objects.filter(company=company)\n",
    "):\n",
    "    with DisableSignals():\n",
    "        a.save(using=\"ccr_homolog\")"
   ]
  },
  {
   "cell_type": "code",
   "execution_count": null,
   "id": "e19dd453",
   "metadata": {},
   "outputs": [],
   "source": [
    "for a in tqdm(Job.history.model.objects.filter(company=company)):\n",
    "    with DisableSignals():\n",
    "        a.save(using=\"ccr_homolog\")"
   ]
  },
  {
   "cell_type": "code",
   "execution_count": null,
   "id": "64952f74",
   "metadata": {},
   "outputs": [],
   "source": [
    "for a in tqdm(Reporting.objects.filter(company=company)):\n",
    "    a.active_inspection = None\n",
    "    a.parent = None\n",
    "    with DisableSignals():\n",
    "        a.save(using=\"ccr_homolog\")"
   ]
  },
  {
   "cell_type": "code",
   "execution_count": null,
   "id": "76ecb263",
   "metadata": {},
   "outputs": [],
   "source": [
    "for a in tqdm(Reporting.objects.filter(company=company, parent__isnull=False)):\n",
    "    with DisableSignals():\n",
    "        a.save(using=\"ccr_homolog\")"
   ]
  },
  {
   "cell_type": "code",
   "execution_count": null,
   "id": "98cac737",
   "metadata": {},
   "outputs": [],
   "source": [
    "for a in tqdm(Reporting.objects.filter(company=company, active_inspection__isnull=False)):\n",
    "    with DisableSignals():\n",
    "        a.save(using=\"ccr_homolog\")"
   ]
  },
  {
   "cell_type": "code",
   "execution_count": null,
   "id": "d781a941",
   "metadata": {},
   "outputs": [],
   "source": [
    "for a in tqdm(Reporting.history.model.objects.filter(company=company)):\n",
    "    with DisableSignals():\n",
    "        a.save(using=\"ccr_homolog\")"
   ]
  },
  {
   "cell_type": "code",
   "execution_count": null,
   "id": "bed6e708",
   "metadata": {},
   "outputs": [],
   "source": [
    "for a in tqdm(ReportingFile.objects.filter(reporting__company=company)):\n",
    "    with DisableSignals():\n",
    "        a.save(using=\"ccr_homolog\")"
   ]
  },
  {
   "cell_type": "code",
   "execution_count": null,
   "id": "096d4313",
   "metadata": {},
   "outputs": [],
   "source": [
    "for a in tqdm(ReportingFile.history.model.objects.filter(reporting__company=company)):\n",
    "    with DisableSignals():\n",
    "        a.save(using=\"ccr_homolog\")"
   ]
  },
  {
   "cell_type": "code",
   "execution_count": 6,
   "id": "66e585dc",
   "metadata": {
    "collapsed": true
   },
   "outputs": [
    {
     "data": {
      "application/vnd.jupyter.widget-view+json": {
       "model_id": "b2128b9b1e924e308e09c2fc0686c85f",
       "version_major": 2,
       "version_minor": 0
      },
      "text/plain": [
       "  0%|          | 0/158 [00:00<?, ?it/s]"
      ]
     },
     "metadata": {},
     "output_type": "display_data"
    },
    {
     "name": "stdout",
     "output_type": "stream",
     "text": [
      "DM1_400x300_aJw6kIA.jpg\n",
      "DM1_400x300_AfqsvBN.jpg\n",
      "oacinsp_Ve5VJLX.jpg\n",
      "tout_court_51ZfjKh.jpeg\n",
      "acessosRecup_DMfWojR.jpg\n",
      "acessos2_Ytqrr1x.jpg\n",
      "recupTalude_sOV7NNz.jpg\n",
      "DSC_0027.JPG\n",
      "MF_101_RS_066890_S_1_-_OK.jpeg\n",
      "SJ_101_RS_023290_S1_-_Não_localizado.jpeg\n",
      "DI_101_RS_028781_S_1_-_OK.jpeg\n",
      "0190c80c-df9c-4b23-b93a-872d938e5698-0_vC3CYxi.jpeg\n",
      "Exportação_ANTT_1_1.png\n",
      "Dúvidas_-_Relatórios_Pavimentos.docx\n",
      "edificacoes_922sbNX.jpeg\n",
      "postes.jpg\n",
      "edificacoes_xlbNzJd.jpeg\n",
      "edificacoes_0bHYjoe.jpeg\n",
      "oacinsp_goCQB4r.jpg\n",
      "images_X9jh3Dz.jpg\n",
      "drenagem-profunda-onde-aplicar_TqcNJOm.jpg\n",
      "drenagem-profunda-onde-aplicar_QLDxrmO.jpg\n",
      "drenagem-profunda-onde-aplicar.jpg\n",
      "drenagem-profunda-onde-aplicar.jpg\n",
      "drenagem-profunda-onde-aplicar.jpg\n",
      "acessosRecup_J4tgUEG.jpg\n",
      "7ca44d77-46ce-4520-b575-aa6d4e99550a-0_g76i11V.jpeg\n",
      "TESTE_2.PNG\n",
      "TESTE_1.PNG\n",
      "drenagemsup_vTYObUF.jpeg\n",
      "DM1_400x300_EDbSKk9.jpg\n",
      "acessos2_fYH1ks6.jpg\n",
      "instalacao_vzUYrel.png\n",
      "drenagem-profunda-onde-aplicar_m12ENXC.jpg\n",
      "drenagem-profunda-onde-aplicar_How5Nfo.jpg\n",
      "drenagem-profunda-onde-aplicar_gaqPQZT.jpg\n",
      "drenagem-profunda-onde-aplicar_NCvfHv3.jpg\n",
      "drenagemsuprecup_PrKXjZD.jpg\n",
      "oac_insp.jpeg\n",
      "drenagesuprecup_rOj9aFa.jpg\n",
      "edificacoes_nnyo84w.jpeg\n",
      "postes_z59wtG4.jpg\n",
      "tuneis_OXfRCT9.jpeg\n",
      "postes_6znRO9H.jpg\n",
      "drenagem-profunda-onde-aplicar_iOBIUJV.jpg\n",
      "drenagem-profunda-onde-aplicar_Ww8LAG7.jpg\n",
      "drenagem-profunda-onde-aplicar_vOZW4tz.jpg\n",
      "drenagem-profunda-onde-aplicar_ijaQaYH.jpg\n",
      "recuperacao-talude_7RCRRVL.jpg\n",
      "talude_qsdPeXP.jpeg\n",
      "20200624_b9c55ba5484142a78606bb74b53e9a2f_base-km-208-br-386_N7OIzab.jpeg\n",
      "transferir.jpg\n",
      "edificacoes_luvdh6I.jpeg\n",
      "EPS2_v1Q9Lpl.jpeg\n",
      "2018_05_09-Quais-sao-os-tipos-de-talude-ENGENHARIA-CIVIL-1.jpg\n",
      "c410cdf9-6cb2-4325-abaa-487d110218d4.jpg\n",
      "oacinsp_r9wyKTK.jpg\n",
      "xxx_ohW3MwW.pdf\n",
      "OAE2022101095SPF003.JPG\n",
      "OAE2022101095SPF001.JPG\n",
      "OAE2022101095SPF002.JPG\n",
      "OAE2022101095SPF004.JPG\n",
      "22.jfif\n",
      "1_Wb4dU2D.jpg\n",
      "edificacoes_kYuK9H1.jpeg\n",
      "ba02875d-ca92-40fd-897b-946cce4e2cba.jpg\n",
      "07e0adef-e104-406d-b6f7-3e7964d5f5ec.jpg\n",
      "download_HDJjOuf.jpg\n",
      "download_D2HgTTu.jpg\n",
      "EPSinpect_yyaaXXk.jpg\n",
      "drenagemsuprecup_8ai35fz.jpg\n",
      "oacinsp_nkWMXDl.jpg\n",
      "cercas_DRS3mWX.jpg\n",
      "DM1_400x300_ekVB62o.jpg\n",
      "OAEC2022101095SP_Longitudinal.jpg\n",
      "OAEC2022101095SP_Transversal.jpg\n",
      "OAEC2022101095SP_Planta.jpg\n",
      "balizadores1_uJReBqp.jpeg\n",
      "balizadores2_M57uyOZ.jpg\n",
      "EPS2.jpeg\n",
      "xxx_ZIByMCi.pdf\n",
      "1_vQJadiw.jpg\n",
      "22_QNMX16Q.jfif\n",
      "22_Wq6qmw3.jfif\n",
      "1_mboFWPW.jpg\n",
      "ba02875d-ca92-40fd-897b-946cce4e2cba_G5H79Uv.jpg\n",
      "07e0adef-e104-406d-b6f7-3e7964d5f5ec_XtIJLdQ.jpg\n",
      "25af2e52-4c3f-4fbc-bc1f-4ac61277eefa.jpg\n",
      "d7833eaf-b373-4059-9ecc-ac7b8ba0a24d.jpg\n",
      "3419042e-b87d-4bf5-afa4-1120ec7b751d.jpg\n",
      "f83bce2d-1e85-431e-bc6f-a612d58c4b43.jpg\n",
      "1_OPv4dOJ.jpg\n",
      "1_CVZEit5.jpg\n",
      "07e0adef-e104-406d-b6f7-3e7964d5f5ec_lSkPSPN.jpg\n",
      "22_ritUbLZ.jfif\n",
      "acessos2_31zdx8R.jpg\n",
      "d9fcadfe-0f8b-407e-a088-a6c15c3a7e8a.jpg\n",
      "8247a817-7c29-4b69-8a3b-a32f7226b2b6.jpg\n",
      "1edd65a7-a12f-4d5a-9a4a-112d7e5564b4.jpg\n",
      "e9d4f0ca-be2c-4f6e-b68b-a1f38e1d6aee.jpg\n",
      "2dc477bd-0551-4654-96e4-0740d89778a1.jpg\n",
      "8d910214-53fa-4992-b650-a9a18127488d.jpg\n",
      "5fd03f8c-82b9-472d-aeb6-f7662ed5a637.jpg\n",
      "e488db02-ba21-4669-add7-92d771d65999.jpg\n",
      "040d0cf4-6bee-419e-a4e7-1d670c61413b.jpg\n",
      "200.250_-_Norte_-_imagem_2.jpg\n",
      "200.250_-_Norte_-_imagem_3.jpg\n",
      "200.250_-_Norte_-_imagem_1.jpg\n",
      "200.250_-_Norte_-_imagem_0.jpg\n",
      "17678790-5bcb-457c-a9b3-ad5015ab6b00.jpg\n",
      "15d247f8-17f7-4f8a-bdd5-d100a050014c.jpg\n",
      "havaiana_marina.jpeg.png\n",
      "oacinsp_1TgDePx.jpg\n",
      "cc1de45c-94c9-4f1a-a474-b93ed08286ee.jpg\n",
      "2a53c2c3-fb58-4cd2-ada1-d35efae61570.jpg\n",
      "df59253d-8b7f-4939-870a-be1d03108f0e.jpg\n",
      "5f7e4386-5e98-4264-af2f-b81c9e623edf.jpg\n",
      "476ac523-e61d-4cc5-8f06-d861778aec7c.jpg\n",
      "480b6bd3-da1e-4767-abff-c4104bd65d70.jpg\n",
      "drenagemsupinsp_OhTdlq8.jpg\n",
      "edificacoes_ZvGcGhJ.jpeg\n",
      "recupTalude_XjN079r.jpg\n",
      "drenagemsupinsp.jpg\n",
      "5b3f9e6f-cd9f-471e-91b3-1bf347a89b83.jpg\n",
      "320e02b4-1955-4cc2-a394-cfd4b85a0e6b.jpg\n",
      "22ec91f6-e53a-4adb-b927-ee3c92717769.jpg\n",
      "7c78dc50-08ce-4022-8c87-9db76dbc6d3f.jpg\n",
      "21cb88b6-1621-4d85-a4a5-b1cd87bb3be0.jpg\n",
      "9b6b8701-e964-4098-8f56-f24c36819da8.jpg\n",
      "3280e666-a83a-447c-9627-97f13a009db4.jpg\n",
      "Imagem1_yTiYbjn.jpg\n",
      "drenagemsuprecup_jt2YZPm.jpg\n",
      "EPS_LcEjNE4.jpg\n",
      "talude_VDL3I1K.jpeg\n",
      "recupTalude_RFiFjYZ.jpg\n",
      "WhatsApp_Image_2023-04-19_at_14.32.54.jpeg\n",
      "recuperacao-talude_dbdvNgX.jpg\n",
      "talude_HhEis6m.jpeg\n",
      "recupTalude_LdpfSLk.jpg\n",
      "recuperacao-talude_8o4fM8k.jpg\n",
      "road_zDgYp3f.jpg\n",
      "drenagemsuprecup_q01N7Jw.jpg\n",
      "2018_05_09-Quais-sao-os-tipos-de-talude-ENGENHARIA-CIVIL-1.jpg\n",
      "edificacoes_TO0AQzE.jpeg\n",
      "EPS_1YOPxs1.jpg\n",
      "placas-sao-substituidas-na-br-101-1009219.jpg\n",
      "12928150-vlow.jpg\n",
      "12928150-vlow.jpg\n",
      "WhatsApp_Image_2023-03-14_at_22.05.03.jpeg\n",
      "DNIT_006_2003_PRO.pdf\n",
      "image_6.png\n",
      "acessos2_PIFcHPm.jpg\n",
      "c90d4c8b-3317-41b1-aa65-05f9107dc856.jpg\n",
      "66e2e6cd-2603-424f-8442-a8b0a6c7b2ca.jpg\n",
      "a6b90289-e475-4d3a-a25f-59ffcffd52b3.jpg\n",
      "xxx.pdf\n",
      "acessos2_JWefPDQ.jpg\n",
      "xxx_OfdEgLy.pdf\n"
     ]
    }
   ],
   "source": [
    "for a in tqdm(ReportingFile.objects.filter(reporting__company=company)):\n",
    "    print(a.upload)"
   ]
  },
  {
   "cell_type": "code",
   "execution_count": null,
   "id": "8da96c04",
   "metadata": {},
   "outputs": [],
   "source": [
    "for a in AccessRequest.objects.filter(company=company):\n",
    "    with DisableSignals():\n",
    "        a.save(using=\"ccr_homolog\")"
   ]
  },
  {
   "cell_type": "code",
   "execution_count": null,
   "id": "6a6f2ca0",
   "metadata": {},
   "outputs": [],
   "source": [
    "for a in AccessRequest.history.model.objects.filter(company=company):\n",
    "    with DisableSignals():\n",
    "        a.save(using=\"ccr_homolog\")"
   ]
  },
  {
   "cell_type": "code",
   "execution_count": null,
   "id": "4acb643d",
   "metadata": {},
   "outputs": [],
   "source": [
    "for a in ContractService.objects.filter(\n",
    "    Q(administration_service_contracts__subcompany__company=company) |\n",
    "    Q(unit_price_service_contracts__subcompany__company=company) |\n",
    "    Q(performance_service_contracts__subcompany__company=company)\n",
    "):\n",
    "#     with DisableSignals():\n",
    "#         a.save(using=\"ccr_homolog\")\n",
    "    new_obj = ContractService.objects.using(\"ccr_homolog\").get(uuid=a.uuid)\n",
    "    new_obj.contract_item_unit_prices.set([])\n",
    "    new_obj.contract_item_administration.set([])\n",
    "    new_obj.contract_item_performance.set([])\n",
    "\n",
    "    for service in a.contract_item_unit_prices.all():\n",
    "        new_service = ContractItemUnitPrice.objects.using(\"ccr_homolog\").get(uuid=service.uuid)\n",
    "        new_obj.contract_item_unit_prices.add(new_service)\n",
    "    for service in a.contract_item_administration.all():\n",
    "        new_service = ContractItemAdministration.objects.using(\"ccr_homolog\").get(uuid=service.uuid)\n",
    "        new_obj.contract_item_administration.add(new_service)\n",
    "    for service in a.contract_item_performance.all():\n",
    "        new_service = ContractItemPerformance.objects.using(\"ccr_homolog\").get(uuid=service.uuid)\n",
    "        new_obj.contract_item_performance.add(new_service)\n",
    "    for firm in a.firms.all():\n",
    "        new_firm = Firm.objects.using(\"ccr_homolog\").get(uuid=firm.uuid)\n",
    "        new_obj.firms.add(new_firm)\n",
    "    "
   ]
  },
  {
   "cell_type": "code",
   "execution_count": null,
   "id": "b6299898",
   "metadata": {},
   "outputs": [],
   "source": [
    "for a in Contract.objects.filter(\n",
    "    subcompany__company=company\n",
    "):\n",
    "    with DisableSignals():\n",
    "        a.save(using=\"ccr_homolog\")\n",
    "    new_obj = Contract.objects.using(\"ccr_homolog\").get(uuid=a.uuid)\n",
    "    for service in a.unit_price_services.all():\n",
    "        new_service = ContractService.objects.using(\"ccr_homolog\").get(uuid=service.uuid)\n",
    "        new_obj.unit_price_services.add(new_service)\n",
    "    for service in a.administration_services.all():\n",
    "        new_service = ContractService.objects.using(\"ccr_homolog\").get(uuid=service.uuid)\n",
    "        new_obj.administration_services.add(new_service)\n",
    "    for service in a.performance_services.all():\n",
    "        new_service = ContractService.objects.using(\"ccr_homolog\").get(uuid=service.uuid)\n",
    "        new_obj.performance_services.add(new_service)"
   ]
  },
  {
   "cell_type": "code",
   "execution_count": null,
   "id": "77280b30",
   "metadata": {},
   "outputs": [],
   "source": [
    "for a in Resource.objects.filter(\n",
    "    company=company\n",
    "):\n",
    "    with DisableSignals():\n",
    "        a.save(using=\"ccr_homolog\")"
   ]
  },
  {
   "cell_type": "code",
   "execution_count": null,
   "id": "fc443323",
   "metadata": {},
   "outputs": [],
   "source": [
    "for a in AdditionalControl.objects.filter(\n",
    "    company=company\n",
    "):\n",
    "    with DisableSignals():\n",
    "        a.save(using=\"ccr_homolog\")"
   ]
  },
  {
   "cell_type": "code",
   "execution_count": null,
   "id": "c5357b15",
   "metadata": {},
   "outputs": [],
   "source": [
    "for a in ServiceOrderResource.objects.filter(\n",
    "    resource__company=company\n",
    "):\n",
    "    with DisableSignals():\n",
    "        a.save(using=\"ccr_homolog\")"
   ]
  },
  {
   "cell_type": "code",
   "execution_count": null,
   "id": "0a8e033f",
   "metadata": {},
   "outputs": [],
   "source": [
    "for a in ContractItemAdministration.objects.filter(\n",
    "    contract_item_administration_services__administration_service_contracts__subcompany__company=company\n",
    "):\n",
    "    with DisableSignals():\n",
    "        a.save(using=\"ccr_homolog\")"
   ]
  },
  {
   "cell_type": "code",
   "execution_count": null,
   "id": "9ab90e2b",
   "metadata": {},
   "outputs": [],
   "source": [
    "for a in ContractItemUnitPrice.objects.filter(\n",
    "    contract_item_unit_price_services__unit_price_service_contracts__subcompany__company=company\n",
    "):\n",
    "    with DisableSignals():\n",
    "        a.save(using=\"ccr_homolog\")"
   ]
  },
  {
   "cell_type": "code",
   "execution_count": null,
   "id": "972ab08f",
   "metadata": {},
   "outputs": [],
   "source": [
    "for a in ContractItemPerformance.objects.filter(\n",
    "    contract_item_performance_services__performance_service_contracts__subcompany__company=company\n",
    "):\n",
    "    with DisableSignals():\n",
    "        a.save(using=\"ccr_homolog\")"
   ]
  },
  {
   "cell_type": "code",
   "execution_count": null,
   "id": "f9d71a30",
   "metadata": {},
   "outputs": [],
   "source": [
    "for a in MeasurementBulletin.objects.filter(\n",
    "    contract__subcompany__company=company\n",
    "):\n",
    "    with DisableSignals():\n",
    "        a.save(using=\"ccr_homolog\")"
   ]
  },
  {
   "cell_type": "code",
   "execution_count": null,
   "id": "e9fdc71d",
   "metadata": {},
   "outputs": [],
   "source": [
    "for a in MultipleDailyReport.objects.filter(company=company):\n",
    "    with DisableSignals():\n",
    "        a.save(using=\"ccr_homolog\")"
   ]
  },
  {
   "cell_type": "code",
   "execution_count": null,
   "id": "206bae2e",
   "metadata": {},
   "outputs": [],
   "source": [
    "for a in DailyReportWorker.objects.filter(company=company):\n",
    "    with DisableSignals():\n",
    "        a.save(using=\"ccr_homolog\")"
   ]
  },
  {
   "cell_type": "code",
   "execution_count": null,
   "id": "06582383",
   "metadata": {},
   "outputs": [],
   "source": [
    "for a in DailyReportEquipment.objects.filter(company=company):\n",
    "    with DisableSignals():\n",
    "        a.save(using=\"ccr_homolog\")"
   ]
  },
  {
   "cell_type": "code",
   "execution_count": null,
   "id": "9a67e50d",
   "metadata": {},
   "outputs": [],
   "source": [
    "for a in DailyReportVehicle.objects.filter(company=company):\n",
    "    with DisableSignals():\n",
    "        a.save(using=\"ccr_homolog\")"
   ]
  },
  {
   "cell_type": "code",
   "execution_count": null,
   "id": "08825165",
   "metadata": {},
   "outputs": [],
   "source": [
    "for a in DailyReportSignaling.objects.filter(company=company):\n",
    "    with DisableSignals():\n",
    "        a.save(using=\"ccr_homolog\")"
   ]
  },
  {
   "cell_type": "code",
   "execution_count": null,
   "id": "e04e5a01",
   "metadata": {},
   "outputs": [],
   "source": [
    "for a in DailyReportOccurrence.objects.filter(multiple_daily_reports__company=company):\n",
    "    with DisableSignals():\n",
    "        a.save(using=\"ccr_homolog\")"
   ]
  },
  {
   "cell_type": "code",
   "execution_count": null,
   "id": "8e545925",
   "metadata": {},
   "outputs": [],
   "source": [
    "for a in DailyReportRelation.objects.filter(daily_report__company=company):\n",
    "    with DisableSignals():\n",
    "        a.save(using=\"ccr_homolog\")"
   ]
  },
  {
   "cell_type": "code",
   "execution_count": null,
   "id": "30088a33",
   "metadata": {},
   "outputs": [],
   "source": [
    "from django.utils.crypto import get_random_string\n",
    "def generate_secret_key(length=50):\n",
    "    \"\"\"\n",
    "    Return a 50 character random string\n",
    "    usable as a `SECRET_KEY` setting value.\n",
    "    \"\"\"\n",
    "    chars = 'abcdefghijklmnopqrstuvwxyz0123456789!@#$%^&*(-_=+)'\n",
    "    if not isinstance(length, int):\n",
    "        raise TypeError(\n",
    "            f'invalid literal for int() with base 10: {length}')\n",
    "    return get_random_string(length, chars)"
   ]
  },
  {
   "cell_type": "code",
   "execution_count": null,
   "id": "8bdfc2a0",
   "metadata": {},
   "outputs": [],
   "source": [
    "for a in User.objects.using(\"ccr_homolog\").filter(companies=company):\n",
    "    a.jwt_secret = generate_secret_key()\n",
    "    a.save()"
   ]
  },
  {
   "cell_type": "code",
   "execution_count": null,
   "id": "61fd36b9",
   "metadata": {},
   "outputs": [],
   "source": [
    "for a in User.objects.using(\"ccr_homolog\").filter(companies=company, email__icontains=\"grupoccr.com.br\"):\n",
    "    a.saml_idp = \"https://sts.windows.net/d233d58a-9973-43a7-af69-6763630548a0/\"\n",
    "    a.saml_nameid = a.email\n",
    "    a.save()"
   ]
  },
  {
   "cell_type": "code",
   "execution_count": null,
   "id": "bbb86f5c",
   "metadata": {},
   "outputs": [],
   "source": [
    "for a in User.objects.filter(companies=company, email__icontains=\"grupoccr.com.br\"):\n",
    "    a.auth_error = \"kartado.infra.redirectEnv[https://homolog-ccr.kartado.com.br]\"\n",
    "    a.save()"
   ]
  },
  {
   "cell_type": "code",
   "execution_count": null,
   "id": "b56c0adb",
   "metadata": {},
   "outputs": [],
   "source": [
    "with DisableSignals():\n",
    "    Reporting.objects.using(\"ccr_homolog\").filter(company=company, occurrence_type__isnull=True).delete()"
   ]
  },
  {
   "cell_type": "code",
   "execution_count": null,
   "id": "78de8b7d",
   "metadata": {},
   "outputs": [],
   "source": [
    "LogEntry.objects.using(\"ccr_homolog\").delete()"
   ]
  },
  {
   "cell_type": "code",
   "execution_count": null,
   "id": "fb55cce3",
   "metadata": {},
   "outputs": [],
   "source": []
  },
  {
   "cell_type": "code",
   "execution_count": 11,
   "id": "3dc663d4",
   "metadata": {},
   "outputs": [
    {
     "data": {
      "text/plain": [
       "(1,\n",
       " <OccurrenceType: Reconstrução em Edificações - ['CCR - AutoBAn', 'CCR - RodoAnel', 'CCR - Rio Sp', 'CCR - SPVias']>)"
      ]
     },
     "execution_count": 11,
     "metadata": {},
     "output_type": "execute_result"
    }
   ],
   "source": [
    "occs=OccurrenceType.objects.filter(updated_at__gte='2023-8-7')\n",
    "occs.count(),occs[0]"
   ]
  },
  {
   "cell_type": "code",
   "execution_count": 33,
   "id": "cee3eb02",
   "metadata": {},
   "outputs": [
    {
     "data": {
      "application/vnd.jupyter.widget-view+json": {
       "model_id": "e351c0e017914f5695e85810cce2829a",
       "version_major": 2,
       "version_minor": 0
      },
      "text/plain": [
       "  0%|          | 0/238 [00:00<?, ?it/s]"
      ]
     },
     "metadata": {},
     "output_type": "display_data"
    }
   ],
   "source": [
    "from tqdm.notebook import tqdm\n",
    "for a in tqdm(OccurrenceTypeSpecs.objects.filter(company=company)):\n",
    "    a.delete()"
   ]
  },
  {
   "cell_type": "code",
   "execution_count": 32,
   "id": "1c84109d",
   "metadata": {},
   "outputs": [
    {
     "data": {
      "text/plain": [
       "238"
      ]
     },
     "execution_count": 32,
     "metadata": {},
     "output_type": "execute_result"
    }
   ],
   "source": [
    "OccurrenceTypeSpecs.objects.filter(company=company).count()"
   ]
  },
  {
   "cell_type": "code",
   "execution_count": null,
   "id": "024f36d1",
   "metadata": {},
   "outputs": [],
   "source": []
  }
 ],
 "metadata": {
  "kernelspec": {
   "display_name": "Django Shell-Plus",
   "language": "python",
   "name": "django_extensions"
  },
  "language_info": {
   "codemirror_mode": {
    "name": "ipython",
    "version": 3
   },
   "file_extension": ".py",
   "mimetype": "text/x-python",
   "name": "python",
   "nbconvert_exporter": "python",
   "pygments_lexer": "ipython3",
   "version": "3.8.16"
  }
 },
 "nbformat": 4,
 "nbformat_minor": 5
}
