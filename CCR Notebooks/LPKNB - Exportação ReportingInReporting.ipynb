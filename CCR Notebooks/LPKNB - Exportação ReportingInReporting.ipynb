{
 "cells": [
  {
   "cell_type": "markdown",
   "id": "9b8eb4d9",
   "metadata": {},
   "source": [
    "### Elemento exportação"
   ]
  },
  {
   "cell_type": "code",
   "execution_count": 2,
   "id": "3d942c4b",
   "metadata": {},
   "outputs": [
    {
     "data": {
      "text/plain": [
       "9217"
      ]
     },
     "execution_count": 2,
     "metadata": {},
     "output_type": "execute_result"
    }
   ],
   "source": [
    "# consulta\n",
    "reps=Reporting.objects.filter(occurrence_type__name='Drenagem Profunda Elemento',\n",
    "                              company__name='CCR - Rio Sp').order_by('number')\n",
    "reps.count()"
   ]
  },
  {
   "cell_type": "code",
   "execution_count": 4,
   "id": "c0cbd624",
   "metadata": {
    "scrolled": true
   },
   "outputs": [
    {
     "data": {
      "application/vnd.jupyter.widget-view+json": {
       "model_id": "",
       "version_major": 2,
       "version_minor": 0
      },
      "text/plain": [
       "  0%|          | 0/9217 [00:00<?, ?it/s]"
      ]
     },
     "metadata": {},
     "output_type": "display_data"
    }
   ],
   "source": [
    "from tqdm.notebook import tqdm\n",
    "data=[]\n",
    "for a in tqdm(reps):\n",
    "    if a.reporting_relation_child.exists():\n",
    "        for b in a.reporting_relation_child.all():\n",
    "            data.append({'Inventário':a.number,\n",
    "                         'Id ANTT': a.form_data.get('code','-') if a.form_data.get('code') else a.form_data.get('id_ccr_antt','-'),\n",
    "                         'Relação':b.reporting_relation.inward,\n",
    "                        'Item Relacionado':b.parent.number})\n",
    "#             print(a.number, b.reporting_relation.inward,b.parent.number)\n",
    "    else:\n",
    "        data.append({'Inventário':a.number,\n",
    "                     'Id ANTT': a.form_data.get('id_ccr_antt','-') if a.form_data.get('id_ccr_antt') else a.form_data.get('code','-'),\n",
    "                         'Relação':'',\n",
    "                        'Item Relacionado':''})\n",
    "#         print(a.number)"
   ]
  },
  {
   "cell_type": "code",
   "execution_count": 5,
   "id": "fcb686e7",
   "metadata": {},
   "outputs": [
    {
     "data": {
      "text/html": [
       "<div>\n",
       "<style scoped>\n",
       "    .dataframe tbody tr th:only-of-type {\n",
       "        vertical-align: middle;\n",
       "    }\n",
       "\n",
       "    .dataframe tbody tr th {\n",
       "        vertical-align: top;\n",
       "    }\n",
       "\n",
       "    .dataframe thead th {\n",
       "        text-align: right;\n",
       "    }\n",
       "</style>\n",
       "<table border=\"1\" class=\"dataframe\">\n",
       "  <thead>\n",
       "    <tr style=\"text-align: right;\">\n",
       "      <th></th>\n",
       "      <th>Inventário</th>\n",
       "      <th>Id ANTT</th>\n",
       "      <th>Relação</th>\n",
       "      <th>Item Relacionado</th>\n",
       "    </tr>\n",
       "  </thead>\n",
       "  <tbody>\n",
       "    <tr>\n",
       "      <th>0</th>\n",
       "      <td>CCR-Inv-2023.161389</td>\n",
       "      <td>CCT 116 RJ 215+140 N 1</td>\n",
       "      <td>É montante de</td>\n",
       "      <td>CCR-Inv-2023.161388</td>\n",
       "    </tr>\n",
       "    <tr>\n",
       "      <th>1</th>\n",
       "      <td>CCR-Inv-2023.161390</td>\n",
       "      <td>CLP 116 RJ 215+120 S 1</td>\n",
       "      <td>É jusante de</td>\n",
       "      <td>CCR-Inv-2023.161388</td>\n",
       "    </tr>\n",
       "    <tr>\n",
       "      <th>2</th>\n",
       "      <td>CCR-Inv-2023.161392</td>\n",
       "      <td>CCS 116 RJ 215+200 N 1</td>\n",
       "      <td>É montante de</td>\n",
       "      <td>CCR-Inv-2023.161391</td>\n",
       "    </tr>\n",
       "    <tr>\n",
       "      <th>3</th>\n",
       "      <td>CCR-Inv-2023.161393</td>\n",
       "      <td>BA 116 RJ 215+320 S 1</td>\n",
       "      <td>É jusante de</td>\n",
       "      <td>CCR-Inv-2023.161391</td>\n",
       "    </tr>\n",
       "    <tr>\n",
       "      <th>4</th>\n",
       "      <td>CCR-Inv-2023.161395</td>\n",
       "      <td>BLDA 116 RJ 215+470 CC 1</td>\n",
       "      <td>É montante de</td>\n",
       "      <td>CCR-Inv-2023.161394</td>\n",
       "    </tr>\n",
       "    <tr>\n",
       "      <th>...</th>\n",
       "      <td>...</td>\n",
       "      <td>...</td>\n",
       "      <td>...</td>\n",
       "      <td>...</td>\n",
       "    </tr>\n",
       "    <tr>\n",
       "      <th>14453</th>\n",
       "      <td>CCR-Inv-2023.178161</td>\n",
       "      <td>BLC 116 SP 231+535 S 1</td>\n",
       "      <td>É montante de</td>\n",
       "      <td>CCR-Inv-2023.178160</td>\n",
       "    </tr>\n",
       "    <tr>\n",
       "      <th>14454</th>\n",
       "      <td>CCR-Inv-2023.178161</td>\n",
       "      <td>BLC 116 SP 231+535 S 1</td>\n",
       "      <td>É jusante de</td>\n",
       "      <td>CCR-Inv-2023.178165</td>\n",
       "    </tr>\n",
       "    <tr>\n",
       "      <th>14455</th>\n",
       "      <td>CCR-Inv-2023.178163</td>\n",
       "      <td>BLSA 116 SP 231+616 S 1</td>\n",
       "      <td>É montante de</td>\n",
       "      <td>CCR-Inv-2023.178162</td>\n",
       "    </tr>\n",
       "    <tr>\n",
       "      <th>14456</th>\n",
       "      <td>CCR-Inv-2023.178164</td>\n",
       "      <td>BLC 116 SP 231+616 S 1</td>\n",
       "      <td>É jusante de</td>\n",
       "      <td>CCR-Inv-2023.178162</td>\n",
       "    </tr>\n",
       "    <tr>\n",
       "      <th>14457</th>\n",
       "      <td>CCR-Inv-2023.178164</td>\n",
       "      <td>BLC 116 SP 231+616 S 1</td>\n",
       "      <td>É montante de</td>\n",
       "      <td>CCR-Inv-2023.178165</td>\n",
       "    </tr>\n",
       "  </tbody>\n",
       "</table>\n",
       "<p>14458 rows × 4 columns</p>\n",
       "</div>"
      ],
      "text/plain": [
       "                Inventário                   Id ANTT        Relação  \\\n",
       "0      CCR-Inv-2023.161389    CCT 116 RJ 215+140 N 1  É montante de   \n",
       "1      CCR-Inv-2023.161390    CLP 116 RJ 215+120 S 1   É jusante de   \n",
       "2      CCR-Inv-2023.161392    CCS 116 RJ 215+200 N 1  É montante de   \n",
       "3      CCR-Inv-2023.161393     BA 116 RJ 215+320 S 1   É jusante de   \n",
       "4      CCR-Inv-2023.161395  BLDA 116 RJ 215+470 CC 1  É montante de   \n",
       "...                    ...                       ...            ...   \n",
       "14453  CCR-Inv-2023.178161    BLC 116 SP 231+535 S 1  É montante de   \n",
       "14454  CCR-Inv-2023.178161    BLC 116 SP 231+535 S 1   É jusante de   \n",
       "14455  CCR-Inv-2023.178163   BLSA 116 SP 231+616 S 1  É montante de   \n",
       "14456  CCR-Inv-2023.178164    BLC 116 SP 231+616 S 1   É jusante de   \n",
       "14457  CCR-Inv-2023.178164    BLC 116 SP 231+616 S 1  É montante de   \n",
       "\n",
       "          Item Relacionado  \n",
       "0      CCR-Inv-2023.161388  \n",
       "1      CCR-Inv-2023.161388  \n",
       "2      CCR-Inv-2023.161391  \n",
       "3      CCR-Inv-2023.161391  \n",
       "4      CCR-Inv-2023.161394  \n",
       "...                    ...  \n",
       "14453  CCR-Inv-2023.178160  \n",
       "14454  CCR-Inv-2023.178165  \n",
       "14455  CCR-Inv-2023.178162  \n",
       "14456  CCR-Inv-2023.178162  \n",
       "14457  CCR-Inv-2023.178165  \n",
       "\n",
       "[14458 rows x 4 columns]"
      ]
     },
     "execution_count": 5,
     "metadata": {},
     "output_type": "execute_result"
    }
   ],
   "source": [
    "import pandas as pd\n",
    "df = pd.DataFrame(data=data)\n",
    "df"
   ]
  },
  {
   "cell_type": "code",
   "execution_count": 6,
   "id": "25c53ba5",
   "metadata": {},
   "outputs": [],
   "source": [
    "df.to_excel('relacionamentosElementos.xlsx',index=False)"
   ]
  },
  {
   "cell_type": "markdown",
   "id": "218fce55",
   "metadata": {},
   "source": [
    "### Ficha exportação"
   ]
  },
  {
   "cell_type": "code",
   "execution_count": 1,
   "id": "e799240d",
   "metadata": {},
   "outputs": [
    {
     "data": {
      "text/plain": [
       "17298"
      ]
     },
     "execution_count": 1,
     "metadata": {},
     "output_type": "execute_result"
    }
   ],
   "source": [
    "# consulta\n",
    "reps=Reporting.objects.filter(occurrence_type__name='Drenagem Profunda Ficha Poder Concedente',\n",
    "#                               number='CCR-Inv-2023.167367',\n",
    "                              company__name='CCR - Rio Sp').order_by('number')\n",
    "reps.count()"
   ]
  },
  {
   "cell_type": "code",
   "execution_count": 15,
   "id": "59b1691a",
   "metadata": {
    "scrolled": true
   },
   "outputs": [
    {
     "data": {
      "application/vnd.jupyter.widget-view+json": {
       "model_id": "6aacd58b75be4738bf99ae2c961d3506",
       "version_major": 2,
       "version_minor": 0
      },
      "text/plain": [
       "  0%|          | 0/8081 [00:00<?, ?it/s]"
      ]
     },
     "metadata": {},
     "output_type": "display_data"
    }
   ],
   "source": [
    "from tqdm.notebook import tqdm\n",
    "data=[]\n",
    "for a in tqdm(reps):\n",
    "    if a.reporting_relation_parent.exists():\n",
    "        for b in a.reporting_relation_parent.all():\n",
    "            data.append({'Inventário':a.number,\n",
    "                         'Id ANTT': a.form_data.get('code','-') if a.form_data.get('code') else a.form_data.get('id_ccr_antt','-'),\n",
    "                         'Relação':b.reporting_relation.outward,\n",
    "                        'Item Relacionado':b.child.number})\n",
    "#             print(a.number, b.reporting_relation.outward,b.child.number)\n",
    "    else:\n",
    "        data.append({'Inventário':a.number,\n",
    "                     'Id ANTT': a.form_data.get('id_ccr_antt','-') if a.form_data.get('id_ccr_antt') else a.form_data.get('code','-'),\n",
    "                         'Relação':'',\n",
    "                        'Item Relacionado':''})\n",
    "#         print(a.number)"
   ]
  },
  {
   "cell_type": "code",
   "execution_count": 16,
   "id": "c1f8cde5",
   "metadata": {},
   "outputs": [
    {
     "data": {
      "text/html": [
       "<div>\n",
       "<style scoped>\n",
       "    .dataframe tbody tr th:only-of-type {\n",
       "        vertical-align: middle;\n",
       "    }\n",
       "\n",
       "    .dataframe tbody tr th {\n",
       "        vertical-align: top;\n",
       "    }\n",
       "\n",
       "    .dataframe thead th {\n",
       "        text-align: right;\n",
       "    }\n",
       "</style>\n",
       "<table border=\"1\" class=\"dataframe\">\n",
       "  <thead>\n",
       "    <tr style=\"text-align: right;\">\n",
       "      <th></th>\n",
       "      <th>Inventário</th>\n",
       "      <th>Id ANTT</th>\n",
       "      <th>Relação</th>\n",
       "      <th>Item Relacionado</th>\n",
       "    </tr>\n",
       "  </thead>\n",
       "  <tbody>\n",
       "    <tr>\n",
       "      <th>0</th>\n",
       "      <td>CCR-Inv-2023.161388</td>\n",
       "      <td>BU 116 RJ 215+140 N 1</td>\n",
       "      <td>Tem montante na</td>\n",
       "      <td>CCR-Inv-2023.161389</td>\n",
       "    </tr>\n",
       "    <tr>\n",
       "      <th>1</th>\n",
       "      <td>CCR-Inv-2023.161388</td>\n",
       "      <td>BU 116 RJ 215+140 N 1</td>\n",
       "      <td>Tem jusante na</td>\n",
       "      <td>CCR-Inv-2023.161390</td>\n",
       "    </tr>\n",
       "    <tr>\n",
       "      <th>2</th>\n",
       "      <td>CCR-Inv-2023.161391</td>\n",
       "      <td>BU 116 RJ 215+200 N 1</td>\n",
       "      <td>Tem montante na</td>\n",
       "      <td>CCR-Inv-2023.161392</td>\n",
       "    </tr>\n",
       "    <tr>\n",
       "      <th>3</th>\n",
       "      <td>CCR-Inv-2023.161391</td>\n",
       "      <td>BU 116 RJ 215+200 N 1</td>\n",
       "      <td>Tem jusante na</td>\n",
       "      <td>CCR-Inv-2023.161393</td>\n",
       "    </tr>\n",
       "    <tr>\n",
       "      <th>4</th>\n",
       "      <td>CCR-Inv-2023.161394</td>\n",
       "      <td>BU 116 RJ 215+470 CC 1</td>\n",
       "      <td>Tem montante na</td>\n",
       "      <td>CCR-Inv-2023.161395</td>\n",
       "    </tr>\n",
       "    <tr>\n",
       "      <th>...</th>\n",
       "      <td>...</td>\n",
       "      <td>...</td>\n",
       "      <td>...</td>\n",
       "      <td>...</td>\n",
       "    </tr>\n",
       "    <tr>\n",
       "      <th>14978</th>\n",
       "      <td>CCR-Inv-2024.12067</td>\n",
       "      <td>BU 116 SP 225+125 N 2</td>\n",
       "      <td></td>\n",
       "      <td></td>\n",
       "    </tr>\n",
       "    <tr>\n",
       "      <th>14979</th>\n",
       "      <td>CCR-Inv-2024.12068</td>\n",
       "      <td>BU 116 SP 226+053 S 1</td>\n",
       "      <td></td>\n",
       "      <td></td>\n",
       "    </tr>\n",
       "    <tr>\n",
       "      <th>14980</th>\n",
       "      <td>CCR-Inv-2024.12069</td>\n",
       "      <td>BU 116 SP 226+100 S 2</td>\n",
       "      <td></td>\n",
       "      <td></td>\n",
       "    </tr>\n",
       "    <tr>\n",
       "      <th>14981</th>\n",
       "      <td>CCR-Inv-2024.12070</td>\n",
       "      <td>BU 116 SP 226+478 S 1</td>\n",
       "      <td></td>\n",
       "      <td></td>\n",
       "    </tr>\n",
       "    <tr>\n",
       "      <th>14982</th>\n",
       "      <td>CCR-Inv-2024.12071</td>\n",
       "      <td>BU 116 SP 228+262 N 1</td>\n",
       "      <td></td>\n",
       "      <td></td>\n",
       "    </tr>\n",
       "  </tbody>\n",
       "</table>\n",
       "<p>14983 rows × 4 columns</p>\n",
       "</div>"
      ],
      "text/plain": [
       "                Inventário                 Id ANTT          Relação  \\\n",
       "0      CCR-Inv-2023.161388   BU 116 RJ 215+140 N 1  Tem montante na   \n",
       "1      CCR-Inv-2023.161388   BU 116 RJ 215+140 N 1   Tem jusante na   \n",
       "2      CCR-Inv-2023.161391   BU 116 RJ 215+200 N 1  Tem montante na   \n",
       "3      CCR-Inv-2023.161391   BU 116 RJ 215+200 N 1   Tem jusante na   \n",
       "4      CCR-Inv-2023.161394  BU 116 RJ 215+470 CC 1  Tem montante na   \n",
       "...                    ...                     ...              ...   \n",
       "14978   CCR-Inv-2024.12067   BU 116 SP 225+125 N 2                    \n",
       "14979   CCR-Inv-2024.12068   BU 116 SP 226+053 S 1                    \n",
       "14980   CCR-Inv-2024.12069   BU 116 SP 226+100 S 2                    \n",
       "14981   CCR-Inv-2024.12070   BU 116 SP 226+478 S 1                    \n",
       "14982   CCR-Inv-2024.12071   BU 116 SP 228+262 N 1                    \n",
       "\n",
       "          Item Relacionado  \n",
       "0      CCR-Inv-2023.161389  \n",
       "1      CCR-Inv-2023.161390  \n",
       "2      CCR-Inv-2023.161392  \n",
       "3      CCR-Inv-2023.161393  \n",
       "4      CCR-Inv-2023.161395  \n",
       "...                    ...  \n",
       "14978                       \n",
       "14979                       \n",
       "14980                       \n",
       "14981                       \n",
       "14982                       \n",
       "\n",
       "[14983 rows x 4 columns]"
      ]
     },
     "execution_count": 16,
     "metadata": {},
     "output_type": "execute_result"
    }
   ],
   "source": [
    "import pandas as pd\n",
    "df = pd.DataFrame(data=data)\n",
    "df"
   ]
  },
  {
   "cell_type": "code",
   "execution_count": 17,
   "id": "6b86cfa3",
   "metadata": {},
   "outputs": [],
   "source": [
    "df.to_excel('relacionamentosFichas.xlsx',index=False)"
   ]
  },
  {
   "cell_type": "markdown",
   "id": "678872b5",
   "metadata": {},
   "source": [
    "### Juntos"
   ]
  },
  {
   "cell_type": "code",
   "execution_count": null,
   "id": "a4abcbbc",
   "metadata": {},
   "outputs": [],
   "source": []
  },
  {
   "cell_type": "code",
   "execution_count": 14,
   "id": "dde86098",
   "metadata": {},
   "outputs": [
    {
     "data": {
      "text/plain": [
       "8081"
      ]
     },
     "execution_count": 14,
     "metadata": {},
     "output_type": "execute_result"
    }
   ],
   "source": [
    "# consulta\n",
    "reps=Reporting.objects.filter(occurrence_type__name__in=['Drenagem Profunda Ficha Poder Concedente',\n",
    "                                                         'Drenagem Profunda Elemento'],\n",
    "                              company__name='CCR - Rio Sp').order_by('number')\n",
    "reps.count()"
   ]
  },
  {
   "cell_type": "code",
   "execution_count": null,
   "id": "73343214",
   "metadata": {},
   "outputs": [],
   "source": [
    "from tqdm.notebook import tqdm\n",
    "data=[]\n",
    "for a in tqdm(reps):\n",
    "    if a.reporting_relation_parent.exists():\n",
    "        for b in a.reporting_relation_parent.all():\n",
    "            data.append({'Inventário':a.number,\n",
    "                         'Id ANTT': a.form_data.get('code','-') if a.form_data.get('code') else a.form_data.get('id_ccr_antt','-'),\n",
    "                         'Relação':b.reporting_relation.outward,\n",
    "                        'Item Relacionado':b.child.number})\n",
    "#             print(a.number, b.reporting_relation.outward,b.child.number)\n",
    "    else:\n",
    "        data.append({'Inventário':a.number,\n",
    "                     'Id ANTT': a.form_data.get('id_ccr_antt','-') if a.form_data.get('id_ccr_antt') else a.form_data.get('code','-'),\n",
    "                         'Relação':'',\n",
    "                        'Item Relacionado':''})\n",
    "#         print(a.number)\n",
    "    if a.reporting_relation_child.exists():\n",
    "        for b in a.reporting_relation_child.all():\n",
    "            data.append({'Inventário':a.number,\n",
    "                         'Id ANTT': a.form_data.get('code','-') if a.form_data.get('code') else a.form_data.get('id_ccr_antt','-'),\n",
    "                         'Relação':b.reporting_relation.inward,\n",
    "                        'Item Relacionado':b.parent.number})\n",
    "#             print(a.number, b.reporting_relation.inward,b.parent.number)\n",
    "    else:\n",
    "        data.append({'Inventário':a.number,\n",
    "                     'Id ANTT': a.form_data.get('id_ccr_antt','-') if a.form_data.get('id_ccr_antt') else a.form_data.get('code','-'),\n",
    "                         'Relação':'',\n",
    "                        'Item Relacionado':''})\n",
    "#         print(a.number)"
   ]
  }
 ],
 "metadata": {
  "kernelspec": {
   "display_name": "Django Shell-Plus",
   "language": "python",
   "name": "django_extensions"
  },
  "language_info": {
   "codemirror_mode": {
    "name": "ipython",
    "version": 3
   },
   "file_extension": ".py",
   "mimetype": "text/x-python",
   "name": "python",
   "nbconvert_exporter": "python",
   "pygments_lexer": "ipython3",
   "version": "3.8.16"
  }
 },
 "nbformat": 4,
 "nbformat_minor": 5
}
