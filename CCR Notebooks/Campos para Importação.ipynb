{
 "cells": [
  {
   "cell_type": "markdown",
   "id": "5cfafd8c",
   "metadata": {},
   "source": [
    "# Dados Classe para importação"
   ]
  },
  {
   "cell_type": "code",
   "execution_count": 1,
   "id": "c8fd9923",
   "metadata": {},
   "outputs": [],
   "source": [
    "company=Company.objects.get(name='CCR - Rio Sp')"
   ]
  },
  {
   "cell_type": "code",
   "execution_count": 8,
   "id": "044f449b",
   "metadata": {},
   "outputs": [
    {
     "data": {
      "text/plain": [
       "UUID('e7143be8-1733-44f8-b54f-a2e61b4615e4')"
      ]
     },
     "execution_count": 8,
     "metadata": {},
     "output_type": "execute_result"
    }
   ],
   "source": [
    "occ = OccurrenceType.objects.get(company=company,\n",
    "                                 name='Monitoração Drenagem Profunda Elemento')\n",
    "occ.uuid"
   ]
  },
  {
   "cell_type": "code",
   "execution_count": 9,
   "id": "59dc8c7d",
   "metadata": {},
   "outputs": [],
   "source": [
    "import re\n",
    "\n",
    "def convert_string(string: str) -> str:\n",
    "    if '_' in string:\n",
    "        # Convert snake_case to camelCase\n",
    "        return re.sub(r'_([a-z])', lambda x: x.group(1).upper(), string)\n",
    "    else:\n",
    "        # Convert camelCase to snake_case\n",
    "        return re.sub(r'([A-Z])', lambda x: '_' + x.group(1).lower(), string)"
   ]
  },
  {
   "cell_type": "code",
   "execution_count": 10,
   "id": "ff4c2335",
   "metadata": {},
   "outputs": [
    {
     "name": "stdout",
     "output_type": "stream",
     "text": [
      "\"element\": a[\"Elemento\"]textArea\n",
      "\"hole_classification\": a[\"Estado Geral de Conservação da Caixa\"]select\n",
      "\"exclude_element\": a[\"Elemento Excluído\"]select\n",
      "\"exclusion_motive\": a[\"Motivo Exclusão\"]textArea\n",
      "\"latitude\": a[\"Latitude\"]float\n",
      "\"longitude\": a[\"Longitude\"]float\n",
      "\"zone\": a[\"Zona\"]select\n",
      "\"x_utm\": a[\"X UTM\"]float\n",
      "\"y_utm\": a[\"Y UTM\"]float\n",
      "\"entry_struc\": a[\"Estrutura Entrada\"]select\n",
      "\"ambient_mon\": a[\"Ambiente\"]select\n",
      "\"height\": a[\"Altura (m)\"]float\n",
      "\"width\": a[\"Largura (m)\"]float\n",
      "\"diameter\": a[\"Diâmetro (m)\"]float\n",
      "\"code\": a[\"Código\"]textArea\n",
      "\"material_rev_mont\": a[\"Material Revestimento\"]select\n",
      "\"description_mat\": a[\"Descrição do Material\"]textArea\n",
      "\"side_mont\": a[\"Lado\"]select\n",
      "\"is_domain_stripmon\": a[\"Está na faixa de domínio? \"]boolean\n",
      "\"works_drownmon\": a[\"Trabalha afogado? \"]boolean\n",
      "\"cleaningmon\": a[\"Limpeza \"]boolean\n",
      "\"rocada_mon\": a[\"Roçada \"]boolean\n",
      "\"desassoreamentomon\": a[\"Assoreado\"]boolean\n",
      "\"desobstrucaomon\": a[\"Afogado\"]boolean\n",
      "\"forehead_damagemon\": a[\"Testa ou ala danificada\"]boolean\n",
      "\"tube_damagemon\": a[\"Tubulação danificada\"]boolean\n",
      "\"box_damagemon\": a[\"Caixa danificada\"]boolean\n",
      "\"erosionmon\": a[\"Erosão\"]boolean\n",
      "\"brokenmon\": a[\"Fissuras/trincas\"]boolean\n",
      "\"cover_damagemon\": a[\"Tampa Danificada/Inexistente\"]boolean\n",
      "\"anomaly_interventions\": a[\"Anomalias\"]arrayOfObjects\n",
      "\t\"anomaly_description\": a[\"Descrição da Anomalia\"]select\n",
      "\t\"anomaly_place\": a[\"Local da Anomalia Identificada\"]select\n",
      "\t\"pictures_anomaly\": a[\"Foto da Anomalia\"]innerImagesArray\n",
      "\"photos_mon\": a[\"Fotos para relatório\"]arrayOfObjects\n",
      "\t\"panoramic_photos_mon\": a[\"Fotos Panorâmicas\"]innerImagesArray\n",
      "\t\"detail_photos_mon\": a[\"Fotos Detalhe\"]innerImagesArray\n",
      "\"inspection_campaign_year\": a[\"Ano da Monitoração\"]number\n",
      "\"inspection_campaign_semester\": a[\"Semestre da Monitoração\"]select\n"
     ]
    }
   ],
   "source": [
    "for a in occ.form_fields['fields']:\n",
    "    print(f'\"{convert_string(a[\"apiName\"])}\": a[\"{a[\"displayName\"]}\"]{a[\"dataType\"]}')\n",
    "    if a['dataType'] == 'arrayOfObjects':\n",
    "        for b in a['innerFields']:\n",
    "            print(f'\\t\"{convert_string(b[\"apiName\"])}\": a[\"{b[\"displayName\"]}\"]{b[\"dataType\"]}')"
   ]
  },
  {
   "cell_type": "code",
   "execution_count": null,
   "id": "77e115f0",
   "metadata": {},
   "outputs": [],
   "source": []
  }
 ],
 "metadata": {
  "kernelspec": {
   "display_name": "Django Shell-Plus",
   "language": "python",
   "name": "django_extensions"
  },
  "language_info": {
   "codemirror_mode": {
    "name": "ipython",
    "version": 3
   },
   "file_extension": ".py",
   "mimetype": "text/x-python",
   "name": "python",
   "nbconvert_exporter": "python",
   "pygments_lexer": "ipython3",
   "version": "3.8.16"
  }
 },
 "nbformat": 4,
 "nbformat_minor": 5
}
