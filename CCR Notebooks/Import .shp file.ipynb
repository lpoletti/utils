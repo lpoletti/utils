{
 "cells": [
  {
   "cell_type": "code",
   "execution_count": 1,
   "metadata": {},
   "outputs": [
    {
     "name": "stdout",
     "output_type": "stream",
     "text": [
      "STAGE=ENGIE_PRODUCTION\r\n"
     ]
    }
   ],
   "source": [
    "!cat .env"
   ]
  },
  {
   "cell_type": "code",
   "execution_count": 1,
   "metadata": {},
   "outputs": [
    {
     "data": {
      "text/plain": [
       "<QuerySet [<Company: a17b7aca-5552-4f17-9ba0-9946029390a6: POC-Projeto APR>, <Company: c85df77c-3e92-4f60-b9c1-de5866400d2d: GSO - UHE-CANA BRAVA>, <Company: 571581e3-da3a-469e-8676-0dc58c056ef7: GSO - UHE-SALTO OSORIO>, <Company: 4920816b-507a-48b1-86d5-d2eef6c63a1f: GSO - UTPS>, <Company: 37b4c80d-3f2b-4032-8cac-6ba1560d3144: GSO - UHE-SALTO SANTIAGO>, <Company: 4a5e0119-fb85-40fd-87ab-f201a2aa0fde: GSB - UHE-MACHADINHO>, <Company: 7fe7b473-6d9c-49d6-a9ca-74f3424d3211: GSB - UHE-SALTO OSORIO>, <Company: ed749424-27e4-4342-82cd-f924de71830b: Limbo - UTPS>, <Company: 1021dc11-d12c-4a27-88d5-dde0fad2be7d: GSO - UHE-PONTE DE PEDRA>, <Company: b75339ff-e91f-4e75-a082-5d7e23a4d049: GSB - UHE-SALTO SANTIAGO>, <Company: f0bdd035-6af9-401c-9233-26c5cdd808b0: GSO - UHE-JAGUARA>, <Company: 62ad80d9-b785-4037-933a-e23238728220: GSO - UHE-MIRANDA>, <Company: d25d0eb2-61a8-4646-8e0e-31c8e68cf216: TESTE>, <Company: 5f0ef84c-9985-4519-95de-e87fb4fcea21: GSO - PCH-JOSÉ GELÁZIO DA ROCHA>, <Company: 1b1511d1-6f28-4aed-b02c-7c820c5f9dbb: GSO - PCH-RONDONÓPOLIS>, <Company: 33e4f910-db35-46ce-95c8-56cad68eeb94: GSO - UHE-ESTREITO>, <Company: 90041917-e41e-46f2-b979-7d3ad53efad2: Engie Umburanas>, <Company: 7647aa61-e7eb-42f4-b2c1-5567d083df4f: Energia Compartilhado GSO>, <Company: 45b6a769-2235-4a13-a7b3-8b4d242be56b: Energia Compartilhado>, <Company: cff59760-69dd-4d07-bba5-61aa8b6faeea: GES - UHE-CANA BRAVA>, '...(remaining elements truncated)...']>"
      ]
     },
     "execution_count": 1,
     "metadata": {},
     "output_type": "execute_result"
    }
   ],
   "source": [
    "Company.objects.all()"
   ]
  },
  {
   "cell_type": "code",
   "execution_count": 2,
   "metadata": {},
   "outputs": [],
   "source": [
    "import json\n",
    "from helpers.fields import FeatureCollectionField\n",
    "import shapefile as shpfile\n",
    "from tqdm.notebook import tqdm\n",
    "from helpers.histories import bulk_update_with_history\n",
    "from collections import defaultdict\n",
    "import random"
   ]
  },
  {
   "cell_type": "code",
   "execution_count": 3,
   "metadata": {},
   "outputs": [],
   "source": [
    "def get_uf(uf_name):\n",
    "    if type(uf_name) != 'str':\n",
    "        uf_code=str(uf_name)\n",
    "    \n",
    "    uf=[{'id': '12', 'name': 'AC'}, {'id': '27', 'name': 'AL' }, {'id': '13', 'name': 'AM'}, {'id': '16', 'name': 'AP'},\n",
    "       {'id': '29', 'name': 'BA'}, {'id': '23', 'name': 'CE' }, {'id': '53', 'name': 'DF'}, {'id': '32', 'name': 'ES'},\n",
    "       {'id': '52', 'name': 'GO'}, {'id': '21', 'name': 'MA' }, {'id': '31', 'name': 'MG'}, {'id': '50', 'name': 'MS'},\n",
    "       {'id': '51', 'name': 'MT'}, {'id': '15', 'name': 'PA' }, {'id': '25', 'name': 'PB'}, {'id': '26', 'name': 'PE'},\n",
    "       {'id': '22', 'name': 'PI'}, {'id': '41', 'name': 'PR' }, {'id': '33', 'name': 'RJ'}, {'id': '24', 'name': 'RN'},\n",
    "       {'id': '11', 'name': 'RO'}, {'id': '14', 'name': 'RR' }, {'id': '43', 'name': 'RS'}, {'id': '42', 'name': 'SC'},\n",
    "       {'id': '28', 'name': 'SE'}, {'id': '35', 'name': 'SP' }, {'id': '17', 'name': 'TO'}]\n",
    "    \n",
    "    uf_translation={item['name']: item['id'] for item in uf}\n",
    "\n",
    "    return uf_translation[uf_name]"
   ]
  },
  {
   "cell_type": "markdown",
   "metadata": {},
   "source": [
    "# Escolher unidade"
   ]
  },
  {
   "cell_type": "code",
   "execution_count": 4,
   "metadata": {},
   "outputs": [
    {
     "data": {
      "text/plain": [
       "(<Company: 42ddc389-3258-4daf-868a-097235427e0f: GES - UHE-ESTREITO>,\n",
       " <User: engie - Suporte Kartado>)"
      ]
     },
     "execution_count": 4,
     "metadata": {},
     "output_type": "execute_result"
    }
   ],
   "source": [
    "company = Company.objects.get(name__startswith='GES - UHE-ESTREITO')\n",
    "engie=User.objects.get(username='engie')\n",
    "company, engie"
   ]
  },
  {
   "cell_type": "markdown",
   "metadata": {},
   "source": [
    "# Escolher nome do arquivo"
   ]
  },
  {
   "cell_type": "code",
   "execution_count": 8,
   "metadata": {},
   "outputs": [],
   "source": [
    "folder = \"Mosaico/\"\n",
    "file_name = \"Mosaico_fundiario_UHE_V08022023\"\n",
    "reader = shpfile.Reader(folder + file_name + \".shp\", encoding = \"latin-1\")"
   ]
  },
  {
   "cell_type": "code",
   "execution_count": 9,
   "metadata": {},
   "outputs": [],
   "source": [
    "fields = reader.fields[1:]\n",
    "field_names = [field[0] for field in fields]\n",
    "buffer = []"
   ]
  },
  {
   "cell_type": "code",
   "execution_count": 10,
   "metadata": {},
   "outputs": [
    {
     "ename": "Exception",
     "evalue": "Shape type \"NULL\" cannot be represented as GeoJSON.",
     "output_type": "error",
     "traceback": [
      "\u001b[0;31m---------------------------------------------------------------------------\u001b[0m",
      "\u001b[0;31mException\u001b[0m                                 Traceback (most recent call last)",
      "\u001b[0;32m/tmp/ipykernel_43610/2921579422.py\u001b[0m in \u001b[0;36m<module>\u001b[0;34m\u001b[0m\n\u001b[1;32m      1\u001b[0m \u001b[0;32mfor\u001b[0m \u001b[0msr\u001b[0m \u001b[0;32min\u001b[0m \u001b[0mreader\u001b[0m\u001b[0;34m.\u001b[0m\u001b[0mshapeRecords\u001b[0m\u001b[0;34m(\u001b[0m\u001b[0;34m)\u001b[0m\u001b[0;34m:\u001b[0m\u001b[0;34m\u001b[0m\u001b[0;34m\u001b[0m\u001b[0m\n\u001b[1;32m      2\u001b[0m     \u001b[0matr\u001b[0m \u001b[0;34m=\u001b[0m \u001b[0mdict\u001b[0m\u001b[0;34m(\u001b[0m\u001b[0mzip\u001b[0m\u001b[0;34m(\u001b[0m\u001b[0mfield_names\u001b[0m\u001b[0;34m,\u001b[0m \u001b[0msr\u001b[0m\u001b[0;34m.\u001b[0m\u001b[0mrecord\u001b[0m\u001b[0;34m)\u001b[0m\u001b[0;34m)\u001b[0m\u001b[0;34m\u001b[0m\u001b[0;34m\u001b[0m\u001b[0m\n\u001b[0;32m----> 3\u001b[0;31m     \u001b[0mgeom\u001b[0m \u001b[0;34m=\u001b[0m \u001b[0msr\u001b[0m\u001b[0;34m.\u001b[0m\u001b[0mshape\u001b[0m\u001b[0;34m.\u001b[0m\u001b[0m__geo_interface__\u001b[0m\u001b[0;34m\u001b[0m\u001b[0;34m\u001b[0m\u001b[0m\n\u001b[0m\u001b[1;32m      4\u001b[0m     \u001b[0mbuffer\u001b[0m\u001b[0;34m.\u001b[0m\u001b[0mappend\u001b[0m\u001b[0;34m(\u001b[0m\u001b[0;34m{\u001b[0m\u001b[0;34m\"type\"\u001b[0m\u001b[0;34m:\u001b[0m\u001b[0;34m\"Feature\"\u001b[0m\u001b[0;34m,\u001b[0m \u001b[0;34m\"geometry\"\u001b[0m\u001b[0;34m:\u001b[0m\u001b[0mgeom\u001b[0m\u001b[0;34m,\u001b[0m \u001b[0;34m\"properties\"\u001b[0m\u001b[0;34m:\u001b[0m\u001b[0matr\u001b[0m\u001b[0;34m}\u001b[0m\u001b[0;34m)\u001b[0m\u001b[0;34m\u001b[0m\u001b[0;34m\u001b[0m\u001b[0m\n\u001b[1;32m      5\u001b[0m \u001b[0;34m\u001b[0m\u001b[0m\n",
      "\u001b[0;32m~/.cache/pypoetry/virtualenvs/apps-ZFymp6kh-py3.7/lib/python3.7/site-packages/shapefile.py\u001b[0m in \u001b[0;36m__geo_interface__\u001b[0;34m(self)\u001b[0m\n\u001b[1;32m    506\u001b[0m \u001b[0;34m\u001b[0m\u001b[0m\n\u001b[1;32m    507\u001b[0m         \u001b[0;32melse\u001b[0m\u001b[0;34m:\u001b[0m\u001b[0;34m\u001b[0m\u001b[0;34m\u001b[0m\u001b[0m\n\u001b[0;32m--> 508\u001b[0;31m             \u001b[0;32mraise\u001b[0m \u001b[0mException\u001b[0m\u001b[0;34m(\u001b[0m\u001b[0;34m'Shape type \"%s\" cannot be represented as GeoJSON.'\u001b[0m \u001b[0;34m%\u001b[0m \u001b[0mSHAPETYPE_LOOKUP\u001b[0m\u001b[0;34m[\u001b[0m\u001b[0mself\u001b[0m\u001b[0;34m.\u001b[0m\u001b[0mshapeType\u001b[0m\u001b[0;34m]\u001b[0m\u001b[0;34m)\u001b[0m\u001b[0;34m\u001b[0m\u001b[0;34m\u001b[0m\u001b[0m\n\u001b[0m\u001b[1;32m    509\u001b[0m \u001b[0;34m\u001b[0m\u001b[0m\n\u001b[1;32m    510\u001b[0m     \u001b[0;34m@\u001b[0m\u001b[0mstaticmethod\u001b[0m\u001b[0;34m\u001b[0m\u001b[0;34m\u001b[0m\u001b[0m\n",
      "\u001b[0;31mException\u001b[0m: Shape type \"NULL\" cannot be represented as GeoJSON."
     ]
    }
   ],
   "source": [
    "for sr in reader.shapeRecords():\n",
    "    atr = dict(zip(field_names, sr.record))\n",
    "    geom = sr.shape.__geo_interface__\n",
    "    buffer.append({\"type\":\"Feature\", \"geometry\":geom, \"properties\":atr}) \n",
    "\n",
    "    \n",
    "geojson = {\"type\": \"FeatureCollection\",\"features\": buffer}"
   ]
  },
  {
   "cell_type": "markdown",
   "metadata": {},
   "source": [
    "# Mudanças em registros (começo) -> opcional"
   ]
  },
  {
   "cell_type": "markdown",
   "metadata": {},
   "source": [
    "### Parte 1"
   ]
  },
  {
   "cell_type": "code",
   "execution_count": 149,
   "metadata": {},
   "outputs": [],
   "source": [
    "# reps=[]\n",
    "\n",
    "# for item in tqdm(buffer):\n",
    "#     reg=OccurrenceRecord.objects.get(company=uhit, number=item['properties']['NUMREG'])\n",
    "#     reg.uf = get_uf(item['properties']['SIGLA'])\n",
    "# #     reg.place_on_dam=item['properties']['ZONA']\n",
    "    \n",
    "#     try:\n",
    "#         reg.city = City.objects.get(name=item['properties']['NM_MUN'], uf_code=reg.uf)\n",
    "#     except Exception as e:\n",
    "#         new_city = City(name=item['properties']['NM_MUN'], uf_code=reg.uf)\n",
    "#         new_city.save()\n",
    "#         reg.city=new_city\n",
    "        \n",
    "#     reps.append(reg)"
   ]
  },
  {
   "cell_type": "code",
   "execution_count": 150,
   "metadata": {},
   "outputs": [],
   "source": [
    "# regs_update = bulk_update_with_history(reps, OccurrenceRecord, user=engie, use_django_bulk=True, batch_size=100)"
   ]
  },
  {
   "cell_type": "markdown",
   "metadata": {},
   "source": [
    "### Parte 2"
   ]
  },
  {
   "cell_type": "code",
   "execution_count": 151,
   "metadata": {},
   "outputs": [],
   "source": [
    "# regs=defaultdict(list)\n",
    "\n",
    "# for item in tqdm(buffer):\n",
    "#     regs[item['properties']['NUMREG']].append(item['properties']['WGS84_Z'])"
   ]
  },
  {
   "cell_type": "code",
   "execution_count": 152,
   "metadata": {},
   "outputs": [],
   "source": [
    "# reps=[]\n",
    "\n",
    "# for k, v in tqdm(regs.items()):\n",
    "#     try:\n",
    "#         reg=OccurrenceRecord.objects.get(company=company, number=k)\n",
    "#         reg.form_data['altitude']=min(v)\n",
    "#         reps.append(reg)\n",
    "\n",
    "#     except Exception as e:\n",
    "# #         try:\n",
    "# #             reg=OccurrenceRecord.objects.get(company=company, number=k.replace(\"UHIT\", \"UHSS\"))\n",
    "# #             reg.form_data['altitude']=min(v)\n",
    "# #             reps.append(reg)\n",
    "# #         except Exception as ee:\n",
    "#         print(k)"
   ]
  },
  {
   "cell_type": "code",
   "execution_count": 153,
   "metadata": {},
   "outputs": [],
   "source": [
    "# regs_update = bulk_update_with_history(reps, OccurrenceRecord, user=engie, use_django_bulk=True, batch_size=100)"
   ]
  },
  {
   "cell_type": "markdown",
   "metadata": {},
   "source": [
    "### Parte 3"
   ]
  },
  {
   "cell_type": "code",
   "execution_count": 154,
   "metadata": {},
   "outputs": [],
   "source": [
    "# regs=defaultdict(list)\n",
    "\n",
    "# for item in tqdm(buffer):\n",
    "#     regs[item['properties']['NUMREG'].replace(\"UHIT\", \"UHSS\")].append([item['properties']['NM_MUN'].encode('latin-1').decode('UTF-8'), item['properties']['SIGLA']])"
   ]
  },
  {
   "cell_type": "code",
   "execution_count": 155,
   "metadata": {},
   "outputs": [],
   "source": [
    "# for k, v in tqdm(regs.items()):\n",
    "#     if len(v) > 2:\n",
    "#         print(k, v)"
   ]
  },
  {
   "cell_type": "code",
   "execution_count": 156,
   "metadata": {},
   "outputs": [],
   "source": [
    "# reps=[]\n",
    "\n",
    "# for k, v in tqdm(regs.items()):\n",
    "#     reg=OccurrenceRecord.objects.get(company=company, number=k)\n",
    "#     try:\n",
    "#         reg.uf = get_uf(v[0][1].strip())\n",
    "#         reg.city=City.objects.get(name=v[0][0].strip())\n",
    "#         reps.append(reg)\n",
    "#     except Exception as e:\n",
    "#         try:\n",
    "# #             reg=OccurrenceRecord.objects.get(company=company, number=k.replace(\"UHIT\", \"UHSS\"))\n",
    "# #             reg.uf = get_uf(v[0][1].strip())\n",
    "#             new_city = City(name=v[0][0].strip(), uf_code=reg.uf)\n",
    "#             new_city.save()\n",
    "#             reg.city=new_city\n",
    "#             reps.append(reg)\n",
    "#         except Exception as ee:\n",
    "#             print(ee)"
   ]
  },
  {
   "cell_type": "code",
   "execution_count": 157,
   "metadata": {},
   "outputs": [],
   "source": [
    "# regs_update = bulk_update_with_history(reps, OccurrenceRecord, user=engie, use_django_bulk=True, batch_size=100)"
   ]
  },
  {
   "cell_type": "markdown",
   "metadata": {},
   "source": [
    " "
   ]
  },
  {
   "cell_type": "markdown",
   "metadata": {},
   "source": [
    "# Mudanças em registros (fim)"
   ]
  },
  {
   "cell_type": "markdown",
   "metadata": {},
   "source": [
    "# Avisos abaixo"
   ]
  },
  {
   "cell_type": "code",
   "execution_count": 158,
   "metadata": {},
   "outputs": [],
   "source": [
    "# OBS: Necessário manipular internal_values['properties']\n",
    "# Cadastramento = Propriedades para cadastro #FF0000\n",
    "\n",
    "\n",
    "# OBS: Não é necessário manipular internal_values['properties']\n",
    "# ZSS = Limite da ZSS #D8BDD8 -> enable_default=True\n",
    "# ZAS = Limite da ZAS #AF2020 -> enable_default=True\n",
    "# Malha = Malha Viária #FFEB3B\n",
    "# Pontos de encontro = Pontos de encontro #01DF01\n",
    "# Rotas de fuga = Rotas de Fuga #FF0000"
   ]
  },
  {
   "cell_type": "code",
   "execution_count": 159,
   "metadata": {},
   "outputs": [],
   "source": [
    "color = \"#dbf0ff\""
   ]
  },
  {
   "cell_type": "markdown",
   "metadata": {},
   "source": [
    "## Nome da camada no sistema"
   ]
  },
  {
   "cell_type": "code",
   "execution_count": 160,
   "metadata": {},
   "outputs": [],
   "source": [
    "nome = file_name"
   ]
  },
  {
   "cell_type": "markdown",
   "metadata": {},
   "source": [
    "## Importando a camada no sistema"
   ]
  },
  {
   "cell_type": "code",
   "execution_count": 161,
   "metadata": {},
   "outputs": [
    {
     "name": "stderr",
     "output_type": "stream",
     "text": [
      "/home/luan/.cache/pypoetry/virtualenvs/apps-ZFymp6kh-py3.7/lib/python3.7/site-packages/django/db/models/fields/__init__.py:1427: RuntimeWarning: DateTimeField ShapeFile.synced_at received a naive datetime (2023-10-23 14:15:00.793387) while time zone support is active.\n",
      "  RuntimeWarning)\n"
     ]
    }
   ],
   "source": [
    "field = FeatureCollectionField(\n",
    "    required=False,\n",
    "    allow_null=True,\n",
    "    geometry_field=\"geometry\",\n",
    "    properties_field=\"properties\",\n",
    ")\n",
    "\n",
    "\n",
    "internal_values = field.to_internal_value(geojson)\n",
    "\n",
    "\"\"\"Linha opcional abaixo, de acordo com tipo de shape\"\"\"\n",
    "# internal_values['properties'] = [{\"NUMCAD\": a['NUMCAD'], \"id\": a['NUMCAD'], \"name\": a['NUMCAD'], \"label\": a['NUMCAD'], \"OBJECTID\": a['NUMCAD']} for a in internal_values['properties']]\n",
    "\n",
    "shapefile = ShapeFile(\n",
    "  created_by = engie,\n",
    "  name = nome,\n",
    "  description = nome,\n",
    "  enable_default=False,\n",
    "  geometry = internal_values['geometry'],\n",
    "  properties = internal_values['properties'],\n",
    "  metadata = {\n",
    "    \"fill_color\": color, # escolher cores\n",
    "    \"stroke_color\": color # escolher cores\n",
    "}\n",
    ")\n",
    "\n",
    "shapefile.save()\n",
    "\n",
    "# shapefile.companies.add(company)"
   ]
  },
  {
   "cell_type": "markdown",
   "metadata": {},
   "source": [
    " "
   ]
  },
  {
   "cell_type": "markdown",
   "metadata": {},
   "source": [
    " "
   ]
  },
  {
   "cell_type": "code",
   "execution_count": 162,
   "metadata": {},
   "outputs": [
    {
     "data": {
      "text/plain": [
       "<ShapeFile: [] SC_Municipios_2022>"
      ]
     },
     "execution_count": 162,
     "metadata": {},
     "output_type": "execute_result"
    }
   ],
   "source": [
    "shapefile"
   ]
  },
  {
   "cell_type": "code",
   "execution_count": null,
   "metadata": {},
   "outputs": [],
   "source": []
  }
 ],
 "metadata": {
  "kernelspec": {
   "display_name": "Django Shell-Plus",
   "language": "python",
   "name": "django_extensions"
  },
  "language_info": {
   "codemirror_mode": {
    "name": "ipython",
    "version": 3
   },
   "file_extension": ".py",
   "mimetype": "text/x-python",
   "name": "python",
   "nbconvert_exporter": "python",
   "pygments_lexer": "ipython3",
   "version": "3.7.9"
  }
 },
 "nbformat": 4,
 "nbformat_minor": 2
}
