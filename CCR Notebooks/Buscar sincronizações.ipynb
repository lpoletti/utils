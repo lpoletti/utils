{
 "cells": [
  {
   "cell_type": "code",
   "execution_count": 1,
   "metadata": {},
   "outputs": [],
   "source": [
    "# ambiente compartilhado\n",
    "# !export AWS_DEFAULT_REGION=us-east-1\n",
    "# CCR/Engie\n",
    "# !export AWS_DEFAULT_REGION=sa-east-1"
   ]
  },
  {
   "cell_type": "code",
   "execution_count": 1,
   "metadata": {},
   "outputs": [],
   "source": [
    "import boto3\n",
    "import json\n",
    "import base64\n",
    "from botocore.config import Config\n",
    "import awswrangler as wr\n",
    "from tqdm.notebook import tqdm\n",
    "from datetime import timedelta, datetime\n",
    "from collections import defaultdict"
   ]
  },
  {
   "cell_type": "code",
   "execution_count": 2,
   "metadata": {},
   "outputs": [],
   "source": [
    "boto3.setup_default_session(region_name=\"sa-east-1\")"
   ]
  },
  {
   "cell_type": "code",
   "execution_count": 3,
   "metadata": {},
   "outputs": [
    {
     "name": "stderr",
     "output_type": "stream",
     "text": [
      "/home/luan/.cache/pypoetry/virtualenvs/apps-ZFymp6kh-py3.8/lib/python3.8/site-packages/django/db/models/fields/__init__.py:1424: RuntimeWarning: DateTimeField ActionLog.created_at received a naive datetime (2024-04-23 00:00:00) while time zone support is active.\n",
      "  warnings.warn(\"DateTimeField %s received a naive datetime (%s)\"\n"
     ]
    }
   ],
   "source": [
    "action_logs = []\n",
    "for a in ActionLog.objects.filter(\n",
    "    action=\"Login\",\n",
    "    user_agent__icontains=\"okhttp\",\n",
    "    created_at__gte=\"2024-04-23\",\n",
    "    user__username=\"viviane.ssilva\"\n",
    ").order_by(\"created_at\"):\n",
    "    action_logs.append({\n",
    "        \"username\": a.user.username,\n",
    "        \"created_at\": a.created_at.timestamp(),\n",
    "    })"
   ]
  },
  {
   "cell_type": "code",
   "execution_count": 4,
   "metadata": {
    "scrolled": true
   },
   "outputs": [
    {
     "data": {
      "text/plain": [
       "[{'username': 'viviane.ssilva', 'created_at': 1713881853.630359},\n",
       " {'username': 'viviane.ssilva', 'created_at': 1713899993.843307},\n",
       " {'username': 'viviane.ssilva', 'created_at': 1713900202.705483},\n",
       " {'username': 'viviane.ssilva', 'created_at': 1713900288.073672},\n",
       " {'username': 'viviane.ssilva', 'created_at': 1713900340.75479},\n",
       " {'username': 'viviane.ssilva', 'created_at': 1713973155.444548},\n",
       " {'username': 'viviane.ssilva', 'created_at': 1713973236.718531},\n",
       " {'username': 'viviane.ssilva', 'created_at': 1713973271.742873},\n",
       " {'username': 'viviane.ssilva', 'created_at': 1713973285.458257},\n",
       " {'username': 'viviane.ssilva', 'created_at': 1713973301.79944},\n",
       " {'username': 'viviane.ssilva', 'created_at': 1713973312.166073},\n",
       " {'username': 'viviane.ssilva', 'created_at': 1713973325.403897},\n",
       " {'username': 'viviane.ssilva', 'created_at': 1713973338.128191},\n",
       " {'username': 'viviane.ssilva', 'created_at': 1713973352.235408},\n",
       " {'username': 'viviane.ssilva', 'created_at': 1713973363.354774},\n",
       " {'username': 'viviane.ssilva', 'created_at': 1713973374.35815},\n",
       " {'username': 'viviane.ssilva', 'created_at': 1713973387.421024},\n",
       " {'username': 'viviane.ssilva', 'created_at': 1713973401.13348},\n",
       " {'username': 'viviane.ssilva', 'created_at': 1713973427.875829},\n",
       " {'username': 'viviane.ssilva', 'created_at': 1713973457.929598},\n",
       " {'username': 'viviane.ssilva', 'created_at': 1713973690.872445},\n",
       " {'username': 'viviane.ssilva', 'created_at': 1713973733.154496},\n",
       " {'username': 'viviane.ssilva', 'created_at': 1713974613.838135},\n",
       " {'username': 'viviane.ssilva', 'created_at': 1713974842.242822},\n",
       " {'username': 'viviane.ssilva', 'created_at': 1713975031.111597},\n",
       " {'username': 'viviane.ssilva', 'created_at': 1713975475.381367},\n",
       " {'username': 'viviane.ssilva', 'created_at': 1713975880.957392},\n",
       " {'username': 'viviane.ssilva', 'created_at': 1713976454.132845},\n",
       " {'username': 'viviane.ssilva', 'created_at': 1713979499.030673},\n",
       " {'username': 'viviane.ssilva', 'created_at': 1713980155.696456},\n",
       " {'username': 'viviane.ssilva', 'created_at': 1713980310.053529},\n",
       " {'username': 'viviane.ssilva', 'created_at': 1713981028.476613},\n",
       " {'username': 'viviane.ssilva', 'created_at': 1713981537.918044},\n",
       " {'username': 'viviane.ssilva', 'created_at': 1713981555.972837},\n",
       " {'username': 'viviane.ssilva', 'created_at': 1713981584.947629},\n",
       " {'username': 'viviane.ssilva', 'created_at': 1713981636.755269},\n",
       " {'username': 'viviane.ssilva', 'created_at': 1713982121.073969},\n",
       " {'username': 'viviane.ssilva', 'created_at': 1713990019.591244},\n",
       " {'username': 'viviane.ssilva', 'created_at': 1714058017.336567}]"
      ]
     },
     "execution_count": 4,
     "metadata": {},
     "output_type": "execute_result"
    }
   ],
   "source": [
    "action_logs"
   ]
  },
  {
   "cell_type": "code",
   "execution_count": null,
   "metadata": {},
   "outputs": [],
   "source": []
  },
  {
   "cell_type": "code",
   "execution_count": null,
   "metadata": {},
   "outputs": [],
   "source": []
  },
  {
   "cell_type": "code",
   "execution_count": 5,
   "metadata": {
    "scrolled": false
   },
   "outputs": [
    {
     "data": {
      "application/vnd.jupyter.widget-view+json": {
       "model_id": "71b7b794212e408f8e946353678f7242",
       "version_major": 2,
       "version_minor": 0
      },
      "text/plain": [
       "  0%|          | 0/39 [00:00<?, ?it/s]"
      ]
     },
     "metadata": {},
     "output_type": "display_data"
    }
   ],
   "source": [
    "token_groups = defaultdict(list)\n",
    "\n",
    "for a in tqdm(action_logs):\n",
    "    username = a['username']\n",
    "    username_filter = base64.b64encode(\n",
    "        ('\",\"username\":\"' + username).encode('utf-8')\n",
    "    )[:-4].decode(\"utf-8\")\n",
    "    \n",
    "    # O timedelta hours=3 aqui é pra compensar diferença de fuso\n",
    "    start_time = datetime.utcfromtimestamp(a['created_at']) - timedelta(seconds=30) - timedelta(hours=3)\n",
    "    end_time = datetime.utcfromtimestamp(a['created_at']) + timedelta(minutes=30) - timedelta(hours=3)\n",
    "    \n",
    "    df = wr.cloudwatch.read_logs(\n",
    "        log_group_names=[\"/aws/lambda/ccr-production-ccr-production\"],\n",
    "        start_time=start_time,\n",
    "        end_time=end_time,\n",
    "        query=\"\"\"\n",
    "            fields @timestamp, httpMethod, path, `headers.User-Agent`, `headers.Authorization`, `queryStringParameters.company`\n",
    "            | sort @timestamp asc\n",
    "            | filter headers.Authorization like \"{}\"\n",
    "        \"\"\".format(username_filter),\n",
    "        limit=2000\n",
    "    )\n",
    "    \n",
    "    first_token = None\n",
    "    last_method = None\n",
    "    for row in df.to_dict('records'):\n",
    "        if \"okhttp\" not in row['headers.User-Agent']:\n",
    "            continue\n",
    "        if \"/Reporting/\" in row['path'] and len(row['path']) > 20 and row['httpMethod'] == \"GET\":\n",
    "            continue\n",
    "        if row['path'] in [\"/ApprovalTransition/\", \"/WmDBSync/\"] and row['httpMethod'] == \"GET\":\n",
    "            continue\n",
    "\n",
    "        if row['ptr'] not in [b['ptr'] for b in token_groups[row['headers.Authorization']]]:\n",
    "            token_groups[row['headers.Authorization']].append(row)"
   ]
  },
  {
   "cell_type": "code",
   "execution_count": 7,
   "metadata": {},
   "outputs": [],
   "source": [
    "ordered_stuff = []\n",
    "\n",
    "for token, group in token_groups.items():\n",
    "    group = sorted(group, key=lambda x: x['timestamp'])\n",
    "    ordered_stuff.append((token, group))\n",
    "    \n",
    "ordered_stuff = sorted(ordered_stuff, key=lambda x: x[1][0]['timestamp'])\n",
    "\n",
    "# groups = sorted(token_groups.values(), key=lambda x: len(x))\n",
    "for token, group in ordered_stuff:\n",
    "    token_obj = json.loads(base64.b64decode(token.split(\" \")[-1].split(\".\")[1].encode(\"utf-8\") + b\"==\"))\n",
    "    username = token_obj['username']\n",
    "    \n",
    "    company_list = [a['queryStringParameters.company'] for a in group if type(a['queryStringParameters.company']) is str]\n",
    "\n",
    "#     if \"3af64f25-59e8-446b-bb1e-963549090b0d\" not in company_list:\n",
    "#         continue\n",
    "    \n",
    "#     if len(group) < 15:\n",
    "#         continue\n",
    "    \n",
    "#     print(\"sincronização por {} iniciada em {}\".format(token_obj['username'], group[0]['timestamp'].strftime(\"%d/%m/%Y %H:%M\")))\n",
    "#     group = sorted(group, key=lambda x: x['timestamp'])\n",
    "\n",
    "    time_spent = group[-1]['timestamp'] - group[0]['timestamp']\n",
    "    \n",
    "    reporting_created = len([b for b in group if b['path'] == \"/Reporting/\" and b['httpMethod'] == \"POST\"])\n",
    "    reporting_edited = len([b for b in group if \"/Reporting/\" in b['path'] and b['httpMethod'] == \"PATCH\"])\n",
    "\n",
    "    files_created = len([b for b in group if b['path'] == \"/ReportingFile/\" and b['httpMethod'] == \"POST\"])\n",
    "    files_edited = len([b for b in group if \"/ReportingFile/\" in b['path'] and b['httpMethod'] == \"PATCH\"])\n",
    "\n",
    "    reporting_reqs = len([b for b in group if b['path'] == \"/Reporting/\" and b['httpMethod'] == \"GET\"])\n",
    "    is_full = any([b for b in group if \"Road/\" in b['path']])\n",
    "    \n",
    "#     print(\"tempo: \" + str(time_spent).replace(\"0 days \", \"\"))\n",
    "#     print(\"apontamentos baixados - de {} a {}\".format((reporting_reqs-1) * 300, reporting_reqs * 300))\n",
    "#     print(reporting_created, files_created, reporting_edited)\n",
    "#     print(\"Apontamentos criados: \", reporting_created)\n",
    "#     print(\"Imagens criadas: \", files_created)\n",
    "#     print(\"Apontamentos editados: \", reporting_edited)\n",
    "#     print(\"Imagens editadas: \", files_edited)\n",
    "\n",
    "#     for log in group:\n",
    "#         print(log['timestamp'], log['httpMethod'], log['path'])\n",
    "#     print()\n",
    "#     print()\n",
    "\n",
    "    print(\"\\t\".join([\n",
    "        username,\n",
    "        group[0]['timestamp'].strftime(\"%d/%m/%Y %H:%M\"),\n",
    "        str(time_spent).replace(\"0 days \", \"\").split(\".\")[0],\n",
    "        \"FULL\" if is_full else \"PARTIAL\",\n",
    "        str((reporting_reqs-1) * 300) if reporting_reqs else \"300\",\n",
    "        str(reporting_created),\n",
    "        str(reporting_edited),\n",
    "        str(files_created)\n",
    "    ]))\n",
    "#     print(group[0]['path'])\n",
    "#     if len(group) > 100:\n",
    "#         for log in group:\n",
    "#             print(log['timestamp'], log['httpMethod'], log['path'])\n",
    "#         print()\n",
    "#         print()\n",
    "\n",
    "#     if username == \"leandromonteirocosta\":\n",
    "#         print(files_created)\n",
    "#         for log in group:\n",
    "#             print(log['timestamp'], log['httpMethod'], log['path'])\n",
    "#         print()\n",
    "#         print()"
   ]
  },
  {
   "cell_type": "code",
   "execution_count": null,
   "metadata": {},
   "outputs": [],
   "source": []
  },
  {
   "cell_type": "code",
   "execution_count": null,
   "metadata": {},
   "outputs": [],
   "source": []
  },
  {
   "cell_type": "code",
   "execution_count": null,
   "metadata": {},
   "outputs": [],
   "source": []
  },
  {
   "cell_type": "code",
   "execution_count": 8,
   "metadata": {},
   "outputs": [],
   "source": [
    "username = \"samuel.nunes\"\n",
    "username_filter = base64.b64encode(\n",
    "    ('\",\"username\":\"' + username).encode('utf-8')\n",
    ")[:-4].decode(\"utf-8\")\n",
    "\n",
    "# O timedelta hours=3 aqui é pra compensar diferença de fuso\n",
    "start_time = datetime.now() - timedelta(hours=100)\n",
    "end_time = datetime.now()\n",
    "\n",
    "df = wr.cloudwatch.read_logs(\n",
    "    log_group_names=[\"/aws/lambda/roadlabsspotway-production\"],\n",
    "    start_time=start_time,\n",
    "    end_time=end_time,\n",
    "    query=\"\"\"\n",
    "        fields @timestamp, httpMethod, path, body, `headers.User-Agent`, `queryStringParameters.company`\n",
    "        | sort @timestamp asc\n",
    "        | filter headers.Authorization like \"{}\"\n",
    "    \"\"\".format(username_filter),\n",
    "    limit=2000\n",
    ")"
   ]
  },
  {
   "cell_type": "code",
   "execution_count": 9,
   "metadata": {},
   "outputs": [],
   "source": [
    "for row in df.to_dict('records'):\n",
    "    print(row['httpMethod'], row['path'], row['timestamp'], base64.b64decode(row['body']))\n",
    "    print()"
   ]
  },
  {
   "cell_type": "code",
   "execution_count": null,
   "metadata": {},
   "outputs": [],
   "source": []
  }
 ],
 "metadata": {
  "kernelspec": {
   "display_name": "Django Shell-Plus",
   "language": "python",
   "name": "django_extensions"
  },
  "language_info": {
   "codemirror_mode": {
    "name": "ipython",
    "version": 3
   },
   "file_extension": ".py",
   "mimetype": "text/x-python",
   "name": "python",
   "nbconvert_exporter": "python",
   "pygments_lexer": "ipython3",
   "version": "3.8.16"
  }
 },
 "nbformat": 4,
 "nbformat_minor": 2
}
