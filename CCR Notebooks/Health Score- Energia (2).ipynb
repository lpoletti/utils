{
 "cells": [
  {
   "cell_type": "code",
   "execution_count": 1,
   "id": "589611a8",
   "metadata": {
    "scrolled": true
   },
   "outputs": [
    {
     "data": {
      "text/plain": [
       "[<Company: a17b7aca-5552-4f17-9ba0-9946029390a6: POC-Projeto APR>,\n",
       " <Company: 571581e3-da3a-469e-8676-0dc58c056ef7: GSO - UHE-SALTO OSORIO>,\n",
       " <Company: 4920816b-507a-48b1-86d5-d2eef6c63a1f: GSO - UTPS>,\n",
       " <Company: cff59760-69dd-4d07-bba5-61aa8b6faeea: GES - UHE-CANA BRAVA>,\n",
       " <Company: 90041917-e41e-46f2-b979-7d3ad53efad2: Engie Umburanas>,\n",
       " <Company: 69c4238a-fc42-4a16-a312-364ff4cd10c6: GSB - UHE-ITA>,\n",
       " <Company: 4b4bfdad-f8b8-403b-93a6-26e846a6770b: GSO - UHE-MACHADINHO>,\n",
       " <Company: 1b1511d1-6f28-4aed-b02c-7c820c5f9dbb: GSO - PCH-RONDONÓPOLIS>,\n",
       " <Company: e9fce210-f652-4d7d-befe-32e02a8f0f60: GSO - UHE-ITA>,\n",
       " <Company: 6ea3a49c-55a7-4aeb-919f-949034a5d2fa: GSB - UHE-ESTREITO>,\n",
       " <Company: e2d725b7-1b3b-4138-b790-cf49a6ab5284: GSB - UHE-JAGUARA>,\n",
       " <Company: 6af632a4-8b09-4bc2-bc6c-43d9a7dc23f4: GSB - UHE-MIRANDA>,\n",
       " <Company: 76ddb208-b049-4022-9736-9fd0101a5392: GSB - UHE-PONTE DE PEDRA>,\n",
       " <Company: 247c952a-9371-483d-8039-9a65b41b8db3: GSB - UHE-SÃO SALVADOR>,\n",
       " <Company: 24072e01-a4a7-4779-94a3-7e45e937cce8: GSB - UHE-CANA BRAVA>,\n",
       " <Company: 110bce05-5146-421e-a5a7-ffb32ee92a91: GSO - UHE-PASSO FUNDO>,\n",
       " <Company: 4c51afb0-59e9-466e-9069-8d44597386be: RECURSOS HIDRICOS>,\n",
       " <Company: f7b23306-853f-42f2-b531-d4ebb0f9345c: GSB - UHE-PASSO FUNDO>,\n",
       " <Company: 42ddc389-3258-4daf-868a-097235427e0f: GES - UHE-ESTREITO>,\n",
       " <Company: 97f7268b-32f8-434f-8254-ecd647a60e37: GES - PCH-RONDONÓPOLIS>,\n",
       " <Company: b4a06d54-e99b-4a79-82e5-2460a06fcbc5: GES - UHE-MACHADINHO>,\n",
       " <Company: b75339ff-e91f-4e75-a082-5d7e23a4d049: GSB - UHE-SALTO SANTIAGO>,\n",
       " <Company: 4a5e0119-fb85-40fd-87ab-f201a2aa0fde: GSB - UHE-MACHADINHO>,\n",
       " <Company: 7fe7b473-6d9c-49d6-a9ca-74f3424d3211: GSB - UHE-SALTO OSORIO>,\n",
       " <Company: f0bdd035-6af9-401c-9233-26c5cdd808b0: GSO - UHE-JAGUARA>,\n",
       " <Company: d25d0eb2-61a8-4646-8e0e-31c8e68cf216: TESTE>,\n",
       " <Company: c85df77c-3e92-4f60-b9c1-de5866400d2d: GSO - UHE-CANA BRAVA>,\n",
       " <Company: 62ad80d9-b785-4037-933a-e23238728220: GSO - UHE-MIRANDA>,\n",
       " <Company: 37b4c80d-3f2b-4032-8cac-6ba1560d3144: GSO - UHE-SALTO SANTIAGO>,\n",
       " <Company: 5f0ef84c-9985-4519-95de-e87fb4fcea21: GSO - PCH-JOSÉ GELÁZIO DA ROCHA>,\n",
       " <Company: 33e4f910-db35-46ce-95c8-56cad68eeb94: GSO - UHE-ESTREITO>,\n",
       " <Company: 45b6a769-2235-4a13-a7b3-8b4d242be56b: Energia Compartilhado>,\n",
       " <Company: 1f30f493-c653-46c7-b073-0046837347f7: GSO - UHE-SÃO SALVADOR>,\n",
       " <Company: 1021dc11-d12c-4a27-88d5-dde0fad2be7d: GSO - UHE-PONTE DE PEDRA>,\n",
       " <Company: 7647aa61-e7eb-42f4-b2c1-5567d083df4f: Energia Compartilhado GSO>,\n",
       " <Company: ed749424-27e4-4342-82cd-f924de71830b: Limbo - UTPS>,\n",
       " <Company: 94fc0888-2e78-43c9-ac2d-f6dffc86d5fc: GES - UHE-SALTO SANTIAGO>,\n",
       " <Company: 447a03e3-27ea-4bb1-992b-d3d8784974cd: GES - PCH-JOSÉ GELÁZIO DA ROCHA>,\n",
       " <Company: 96bcaf1a-593b-4c6e-bdca-9b0dad0db0f1: GES - UHE-SÃO SALVADOR>,\n",
       " <Company: 68e3af24-2fec-4ab0-b2ff-97e1076b02b3: GES - GEH>,\n",
       " <Company: d436bd3c-e145-44f2-a5ee-797a67110efd: GES - UHE-ITA>,\n",
       " <Company: 574400b8-28b9-4a59-b29f-9d542e42fbdc: GES - UHE-PASSO FUNDO>,\n",
       " <Company: daac1370-ee61-45ce-ad13-63aa131bf4e6: ATIVO-TREINAMENTO>,\n",
       " <Company: 3167c3b2-95fa-4ecb-b759-dc1d63067ba4: GES - UHE-SALTO OSORIO>,\n",
       " <Company: 2fd0ca76-b741-47d7-af9c-607e6ed1eca2: GES - UHE-MIRANDA>,\n",
       " <Company: 296edae1-b154-40ff-87b1-3b78e3441906: GES - UHE-PONTE DE PEDRA>,\n",
       " <Company: 17663a30-5f71-4e7c-8ac2-adf472342b42: GES - UHE-JAGUARA>]"
      ]
     },
     "execution_count": 1,
     "metadata": {},
     "output_type": "execute_result"
    }
   ],
   "source": [
    "Company.objects.all()\n",
    "\n",
    "list(Company.objects.all())"
   ]
  },
  {
   "cell_type": "code",
   "execution_count": 2,
   "id": "f5729422",
   "metadata": {
    "scrolled": true
   },
   "outputs": [
    {
     "name": "stdout",
     "output_type": "stream",
     "text": [
      "cat: ../../.env: No such file or directory\r\n"
     ]
    }
   ],
   "source": [
    "!cat ../../.env\n",
    "# !cat '''path_to_the_file(.env)'''"
   ]
  },
  {
   "cell_type": "code",
   "execution_count": 3,
   "id": "617ee16e",
   "metadata": {},
   "outputs": [],
   "source": [
    "import numpy\n",
    "from numpy import arange\n",
    "from helpers.km_converter import km_to_coordinates\n",
    "from collections import defaultdict\n",
    "from openpyxl import Workbook\n",
    "from django.db.models import Q\n",
    "from tqdm.notebook import tqdm\n",
    "import datetime as dt\n",
    "import pytz\n",
    "from apps.service_orders.const import resource_approval_status\n",
    "from django.db.models import CharField\n",
    "from django.db.models.functions import Cast\n",
    "import pandas as pd"
   ]
  },
  {
   "cell_type": "code",
   "execution_count": 4,
   "id": "26bb963e",
   "metadata": {
    "scrolled": false
   },
   "outputs": [
    {
     "data": {
      "text/plain": [
       "['GES - UHE-CANA BRAVA',\n",
       " 'GES - UHE-ESTREITO',\n",
       " 'GES - PCH-RONDONÓPOLIS',\n",
       " 'GES - UHE-MACHADINHO',\n",
       " 'GES - UHE-SALTO SANTIAGO',\n",
       " 'GES - PCH-JOSÉ GELÁZIO DA ROCHA',\n",
       " 'GES - UHE-SÃO SALVADOR',\n",
       " 'GES - GEH',\n",
       " 'GES - UHE-ITA',\n",
       " 'GES - UHE-PASSO FUNDO',\n",
       " 'GES - UHE-SALTO OSORIO',\n",
       " 'GES - UHE-MIRANDA',\n",
       " 'GES - UHE-PONTE DE PEDRA',\n",
       " 'GES - UHE-JAGUARA']"
      ]
     },
     "execution_count": 4,
     "metadata": {},
     "output_type": "execute_result"
    }
   ],
   "source": [
    "list(Company.objects.filter(name__startswith='GES').values_list('name',flat=True))"
   ]
  },
  {
   "cell_type": "code",
   "execution_count": 5,
   "id": "1a7a8184",
   "metadata": {},
   "outputs": [
    {
     "data": {
      "text/plain": [
       "['cff59760-69dd-4d07-bba5-61aa8b6faeea',\n",
       " '42ddc389-3258-4daf-868a-097235427e0f',\n",
       " '97f7268b-32f8-434f-8254-ecd647a60e37',\n",
       " 'b4a06d54-e99b-4a79-82e5-2460a06fcbc5',\n",
       " '94fc0888-2e78-43c9-ac2d-f6dffc86d5fc',\n",
       " '447a03e3-27ea-4bb1-992b-d3d8784974cd',\n",
       " '96bcaf1a-593b-4c6e-bdca-9b0dad0db0f1',\n",
       " '68e3af24-2fec-4ab0-b2ff-97e1076b02b3',\n",
       " 'd436bd3c-e145-44f2-a5ee-797a67110efd',\n",
       " '574400b8-28b9-4a59-b29f-9d542e42fbdc',\n",
       " '3167c3b2-95fa-4ecb-b759-dc1d63067ba4',\n",
       " '2fd0ca76-b741-47d7-af9c-607e6ed1eca2',\n",
       " '296edae1-b154-40ff-87b1-3b78e3441906',\n",
       " '17663a30-5f71-4e7c-8ac2-adf472342b42']"
      ]
     },
     "execution_count": 5,
     "metadata": {},
     "output_type": "execute_result"
    }
   ],
   "source": [
    "list(Company.objects.filter(name__startswith='GES').annotate(uuid_str=Cast(\"uuid\",output_field=CharField())).values_list('uuid_str',flat=True))"
   ]
  },
  {
   "cell_type": "code",
   "execution_count": 29,
   "id": "ce8337ed",
   "metadata": {},
   "outputs": [],
   "source": [
    "usinas = ['GES - PCH-JOSÉ GELÁZIO DA ROCHA', \n",
    "'GES - PCH-RONDONÓPOLIS', \n",
    "'GES - UHE-CANA BRAVA', \n",
    "'GES - UHE-ESTREITO', \n",
    "'GES - UHE-ITA', \n",
    "'GES - UHE-JAGUARA',\n",
    "'GES - UHE-MACHADINHO',\n",
    "'GES - UHE-MIRANDA',\n",
    "'GES - UHE-PASSO FUNDO',\n",
    "'GES - UHE-PONTE DE PEDRA',\n",
    "'GES - UHE-SALTO OSORIO',\n",
    "'GES - UHE-SALTO SANTIAGO',\n",
    "'GES - UHE-SÃO SALVADOR',\n",
    "'GES - GEH']"
   ]
  },
  {
   "cell_type": "code",
   "execution_count": 6,
   "id": "1215dd16",
   "metadata": {},
   "outputs": [],
   "source": [
    "# today = dt.date.today().strftime('%m')\n",
    "today = 5\n",
    "ano = dt.date.today().year"
   ]
  },
  {
   "cell_type": "code",
   "execution_count": 7,
   "id": "a03b50bc",
   "metadata": {},
   "outputs": [],
   "source": [
    "months_number = [i for i in range(1, int(today)+1)]"
   ]
  },
  {
   "cell_type": "code",
   "execution_count": 8,
   "id": "6ae0464e",
   "metadata": {},
   "outputs": [
    {
     "data": {
      "text/plain": [
       "[1, 2, 3, 4, 5]"
      ]
     },
     "execution_count": 8,
     "metadata": {},
     "output_type": "execute_result"
    }
   ],
   "source": [
    "months_number"
   ]
  },
  {
   "cell_type": "code",
   "execution_count": 30,
   "id": "21a7371f",
   "metadata": {},
   "outputs": [],
   "source": [
    "def get_permission(obj, company):\n",
    "    try:            \n",
    "        user_in_company = next(\n",
    "            a\n",
    "            for a in obj.companies_membership.all()\n",
    "            if a.company == company\n",
    "        )\n",
    "        return user_in_company.permissions.name\n",
    "    except Exception:\n",
    "        return None"
   ]
  },
  {
   "cell_type": "code",
   "execution_count": 31,
   "id": "5a49c993",
   "metadata": {},
   "outputs": [],
   "source": [
    "def get_total_price(obj):\n",
    "    total_price = 0\n",
    "    for resource in obj.resources.all():\n",
    "        try:\n",
    "            resource_total_price = resource.unit_price * resource.amount\n",
    "            if not isinstance(resource_total_price, (int, float)):\n",
    "                raise Exception()\n",
    "            total_price += resource_total_price\n",
    "        except Exception:\n",
    "            continue\n",
    "\n",
    "    return total_price"
   ]
  },
  {
   "cell_type": "code",
   "execution_count": 32,
   "id": "da6364e4",
   "metadata": {},
   "outputs": [],
   "source": [
    "def get_spent_price(obj):\n",
    "\n",
    "    spent_price = 0\n",
    "    for resource in obj.resources.all():\n",
    "        for procedure_resource in resource.serviceorderresource_procedures.all():\n",
    "            try:\n",
    "                resource_spent_price = ((procedure_resource.unit_price * procedure_resource.amount) if procedure_resource.approval_status == resource_approval_status.APPROVED_APPROVAL else 0)\n",
    "                if not isinstance(resource_spent_price, (int, float)):\n",
    "                    raise Exception()\n",
    "                spent_price += resource_spent_price\n",
    "            except Exception:\n",
    "                continue\n",
    "\n",
    "    return spent_price"
   ]
  },
  {
   "cell_type": "code",
   "execution_count": 33,
   "id": "f7060aed",
   "metadata": {},
   "outputs": [],
   "source": [
    "#vinculação de registros\n",
    "def vinculacao_registro(months_name, company):\n",
    "    vinc_regis = []\n",
    "    for n in months_name:\n",
    "        occurrences_total=OccurrenceRecord.objects.filter(company__name=company, created_at__year=ano, created_at__month=n, operational_control__isnull=True).count()\n",
    "        occurrences_services=OccurrenceRecord.objects.filter(company__name=company, created_at__year=ano, created_at__month=n, operational_control__isnull=True, service_orders__isnull=False).count()\n",
    "        try:\n",
    "            vinc_regis.append(round(occurrences_services*100/occurrences_total, 2))\n",
    "        except ZeroDivisionError:\n",
    "            vinc_regis.append(0)\n",
    "    return vinc_regis"
   ]
  },
  {
   "cell_type": "code",
   "execution_count": 34,
   "id": "aa815246",
   "metadata": {},
   "outputs": [],
   "source": [
    "#emissão de boletim de medição\n",
    "def boletim_medicao(months_name, company):\n",
    "    boletim = []\n",
    "    for n in months_name:\n",
    "        bulletin_count=MeasurementBulletin.objects.filter(Q(contract__firm__company__name=company)|Q(contract__subcompany__company__name=company), creation_date__year=ano, creation_date__month=n).count()\n",
    "        boletim.append(bulletin_count)\n",
    "    return boletim"
   ]
  },
  {
   "cell_type": "code",
   "execution_count": 35,
   "id": "6fda9295",
   "metadata": {},
   "outputs": [],
   "source": [
    "# Número de rg homologados\n",
    "def rg_homologados(months_name, company):\n",
    "    num_homologados = []\n",
    "    for n in months_name:\n",
    "        homologado_count=len(list(set(OccurrenceRecord.history.model.objects.filter(company__name=company, history_date__year=ano, history_date__month=n, approval_step__name__icontains='deferido').values_list('uuid'))))\n",
    "        num_homologados.append(homologado_count)\n",
    "    return num_homologados"
   ]
  },
  {
   "cell_type": "code",
   "execution_count": 36,
   "id": "fc1453b8",
   "metadata": {},
   "outputs": [],
   "source": [
    "# Número de serviços\n",
    "def num_servicos(months_name, company):\n",
    "    servicos = []\n",
    "    for n in months_name:\n",
    "        services=ServiceOrder.objects.filter(company__name=company, opened_at__year=ano, opened_at__month=n).count()\n",
    "        servicos.append(services)\n",
    "    return servicos"
   ]
  },
  {
   "cell_type": "code",
   "execution_count": 37,
   "id": "0c0ffee4",
   "metadata": {},
   "outputs": [],
   "source": [
    "# Número de registros operacionais\n",
    "def rg_operacionais(months_name, company):\n",
    "    num_operacionais = []\n",
    "    for n in months_name:\n",
    "        occurrences_operational=OccurrenceRecord.objects.filter(company__name=company, created_at__year=ano, created_at__month=n, operational_control__isnull=False).count()\n",
    "        num_operacionais.append(occurrences_operational)\n",
    "    return num_operacionais"
   ]
  },
  {
   "cell_type": "code",
   "execution_count": 38,
   "id": "a6a2d950",
   "metadata": {},
   "outputs": [],
   "source": [
    "# Número de rg ambiental\n",
    "def rg_ambiental(months_name, company):\n",
    "    num_ambiental = []\n",
    "    for n in months_name:\n",
    "        occurrences_ambiental=OccurrenceRecord.objects.filter(company__name=company, created_at__year=ano, created_at__month=n, operational_control__isnull=True, search_tags__name='Ambiental').count()\n",
    "        num_ambiental.append(occurrences_ambiental)\n",
    "    return num_ambiental"
   ]
  },
  {
   "cell_type": "code",
   "execution_count": 39,
   "id": "da59f0e6",
   "metadata": {},
   "outputs": [],
   "source": [
    "# Número de rg patrimonial\n",
    "def rg_patrimonial(months_name, company):\n",
    "    num_patrimonial = []\n",
    "    for n in months_name:\n",
    "        occurrences_ambiental=OccurrenceRecord.objects.filter(company__name=company, created_at__year=ano, created_at__month=n, operational_control__isnull=True, search_tags__name='Patrimonial').count()\n",
    "        num_patrimonial.append(occurrences_ambiental)\n",
    "    return num_patrimonial"
   ]
  },
  {
   "cell_type": "markdown",
   "id": "71299ccd",
   "metadata": {},
   "source": [
    "Metas"
   ]
  },
  {
   "cell_type": "code",
   "execution_count": 40,
   "id": "e7401f3f",
   "metadata": {},
   "outputs": [],
   "source": [
    "vinculação_servicos = 10\n",
    "emissao_boletim = 2\n",
    "num_homologados= 12\n",
    "numero_servicos = 60\n",
    "num_operacionais = 40\n",
    "num_ambiental = 5\n",
    "num_patrimonial= 11"
   ]
  },
  {
   "cell_type": "code",
   "execution_count": 41,
   "id": "0bc18eee",
   "metadata": {},
   "outputs": [],
   "source": [
    "def nota_vinc (nota):\n",
    "    print(nota)\n",
    "    if nota >= 0.7*(vinculação_servicos):\n",
    "        return 2 \n",
    "    else:\n",
    "        return -2"
   ]
  },
  {
   "cell_type": "code",
   "execution_count": 42,
   "id": "7cb0c183",
   "metadata": {},
   "outputs": [],
   "source": [
    "def nota_boletim (nota):\n",
    "    if nota >= 0.7*(emissao_boletim):\n",
    "        return 3 \n",
    "    else:\n",
    "        return -3"
   ]
  },
  {
   "cell_type": "code",
   "execution_count": 43,
   "id": "65f56fdd",
   "metadata": {},
   "outputs": [],
   "source": [
    "def nota_homologados (nota):\n",
    "    if nota >= 0.7*(num_homologados):\n",
    "        return 3 \n",
    "    else:\n",
    "        return -3"
   ]
  },
  {
   "cell_type": "code",
   "execution_count": 44,
   "id": "e653e093",
   "metadata": {},
   "outputs": [],
   "source": [
    "def nota_servicos (nota):\n",
    "    if nota >= 0.7*(numero_servicos):\n",
    "        return 1 \n",
    "    else:\n",
    "        return -1"
   ]
  },
  {
   "cell_type": "code",
   "execution_count": 45,
   "id": "59e518ba",
   "metadata": {},
   "outputs": [],
   "source": [
    "def nota_operacional (nota):\n",
    "    if nota >= 0.7*(num_operacionais):\n",
    "        return 1 \n",
    "    else:\n",
    "        return -1"
   ]
  },
  {
   "cell_type": "code",
   "execution_count": 46,
   "id": "9085978a",
   "metadata": {},
   "outputs": [],
   "source": [
    "def nota_ambiental (nota):\n",
    "    if nota >= 0.7*(num_ambiental):\n",
    "        return 2 \n",
    "    else:\n",
    "        return -2"
   ]
  },
  {
   "cell_type": "code",
   "execution_count": 47,
   "id": "5c79ed95",
   "metadata": {},
   "outputs": [],
   "source": [
    "def nota_patrimonial (nota):\n",
    "    if nota >= 0.7*(num_patrimonial):\n",
    "        return 2 \n",
    "    else:\n",
    "        return -2"
   ]
  },
  {
   "cell_type": "code",
   "execution_count": 48,
   "id": "f30b06c7",
   "metadata": {},
   "outputs": [
    {
     "data": {
      "application/vnd.jupyter.widget-view+json": {
       "model_id": "e20da59dbef44e56b0785c03a5aa3519",
       "version_major": 2,
       "version_minor": 0
      },
      "text/plain": [
       "  0%|          | 0/14 [00:00<?, ?it/s]"
      ]
     },
     "metadata": {},
     "output_type": "display_data"
    },
    {
     "name": "stdout",
     "output_type": "stream",
     "text": [
      "GES - PCH-JOSÉ GELÁZIO DA ROCHA\n",
      "Vinculação de registros: [0, 0, 0, 0, 0]\n",
      "Emissão de boletim de medição: [1, 1, 1, 0, 0]\n",
      "Número de rg homologados: [0, 0, 0, 0, 0]\n",
      "Número de Serviços: [0, 0, 0, 0, 0]\n",
      "Número de rg operacionais: [0, 0, 0, 0, 0]\n",
      "Número de rg patrimoniais: [0, 0, 0, 0, 0]\n",
      "Número de rg ambientais: [0, 0, 0, 0, 0]\n",
      "GES - PCH-RONDONÓPOLIS\n",
      "Vinculação de registros: [0, 0, 0, 0, 0]\n",
      "Emissão de boletim de medição: [1, 1, 1, 0, 0]\n",
      "Número de rg homologados: [0, 0, 0, 0, 0]\n",
      "Número de Serviços: [0, 0, 0, 0, 0]\n",
      "Número de rg operacionais: [0, 0, 0, 0, 0]\n",
      "Número de rg patrimoniais: [0, 0, 0, 0, 0]\n",
      "Número de rg ambientais: [0, 0, 0, 0, 0]\n",
      "GES - UHE-CANA BRAVA\n",
      "Vinculação de registros: [0.0, 13.33, 16.67, 0.0, 0]\n",
      "Emissão de boletim de medição: [2, 0, 1, 1, 0]\n",
      "Número de rg homologados: [1, 232, 200, 3, 0]\n",
      "Número de Serviços: [0, 1, 2, 0, 0]\n",
      "Número de rg operacionais: [68, 6, 13, 24, 0]\n",
      "Número de rg patrimoniais: [23, 15, 12, 4, 0]\n",
      "Número de rg ambientais: [0, 0, 0, 1, 0]\n",
      "GES - UHE-ESTREITO\n",
      "Vinculação de registros: [0, 0, 0, 0, 0]\n",
      "Emissão de boletim de medição: [0, 0, 0, 0, 0]\n",
      "Número de rg homologados: [0, 1, 0, 0, 0]\n",
      "Número de Serviços: [0, 0, 0, 0, 0]\n",
      "Número de rg operacionais: [2719, 0, 0, 0, 0]\n",
      "Número de rg patrimoniais: [0, 0, 0, 0, 0]\n",
      "Número de rg ambientais: [0, 0, 0, 0, 0]\n",
      "GES - UHE-ITA\n",
      "Vinculação de registros: [58.33, 38.89, 66.67, 70.0, 0]\n",
      "Emissão de boletim de medição: [2, 3, 5, 3, 0]\n",
      "Número de rg homologados: [8, 13, 11, 7, 1]\n",
      "Número de Serviços: [2, 0, 0, 0, 0]\n",
      "Número de rg operacionais: [238, 123, 155, 165, 5]\n",
      "Número de rg patrimoniais: [3, 7, 3, 3, 0]\n",
      "Número de rg ambientais: [9, 11, 6, 7, 0]\n",
      "GES - UHE-JAGUARA\n",
      "Vinculação de registros: [14.29, 25.0, 12.5, 0.0, 0]\n",
      "Emissão de boletim de medição: [1, 5, 2, 3, 0]\n",
      "Número de rg homologados: [3, 19, 38, 2, 0]\n",
      "Número de Serviços: [1, 4, 3, 0, 0]\n",
      "Número de rg operacionais: [0, 367, 0, 0, 0]\n",
      "Número de rg patrimoniais: [6, 12, 6, 0, 0]\n",
      "Número de rg ambientais: [1, 0, 2, 1, 0]\n",
      "GES - UHE-MACHADINHO\n",
      "Vinculação de registros: [4.69, 0.0, 0.0, 0.0, 0.0]\n",
      "Emissão de boletim de medição: [1, 3, 3, 3, 0]\n",
      "Número de rg homologados: [5, 26, 27, 0, 0]\n",
      "Número de Serviços: [3, 0, 0, 0, 0]\n",
      "Número de rg operacionais: [0, 0, 0, 0, 0]\n",
      "Número de rg patrimoniais: [40, 54, 167, 112, 4]\n",
      "Número de rg ambientais: [24, 12, 29, 18, 0]\n",
      "GES - UHE-MIRANDA\n",
      "Vinculação de registros: [91.67, 100.0, 100.0, 0, 0]\n",
      "Emissão de boletim de medição: [1, 3, 2, 3, 0]\n",
      "Número de rg homologados: [33, 36, 137, 30, 0]\n",
      "Número de Serviços: [3, 5, 0, 1, 0]\n",
      "Número de rg operacionais: [0, 0, 544, 0, 0]\n",
      "Número de rg patrimoniais: [10, 3, 12, 0, 0]\n",
      "Número de rg ambientais: [2, 0, 2, 0, 0]\n",
      "GES - UHE-PASSO FUNDO\n",
      "Vinculação de registros: [0.0, 0.0, 97.11, 42.86, 0.0]\n",
      "Emissão de boletim de medição: [2, 4, 4, 5, 0]\n",
      "Número de rg homologados: [0, 3, 3, 6, 0]\n",
      "Número de Serviços: [2, 1, 369, 0, 0]\n",
      "Número de rg operacionais: [0, 0, 0, 0, 0]\n",
      "Número de rg patrimoniais: [3, 1, 377, 3, 1]\n",
      "Número de rg ambientais: [2, 2, 3, 4, 0]\n",
      "GES - UHE-PONTE DE PEDRA\n",
      "Vinculação de registros: [0.0, 0.0, 0, 0, 0]\n",
      "Emissão de boletim de medição: [1, 1, 0, 0, 0]\n",
      "Número de rg homologados: [0, 3, 3, 0, 0]\n",
      "Número de Serviços: [1, 0, 0, 0, 0]\n",
      "Número de rg operacionais: [0, 4, 0, 0, 0]\n",
      "Número de rg patrimoniais: [0, 1, 0, 0, 0]\n",
      "Número de rg ambientais: [0, 4, 0, 0, 0]\n",
      "GES - UHE-SALTO OSORIO\n",
      "Vinculação de registros: [0.0, 96.5, 0.0, 28.57, 0.0]\n",
      "Emissão de boletim de medição: [1, 0, 0, 0, 0]\n",
      "Número de rg homologados: [0, 9, 8, 71, 127]\n",
      "Número de Serviços: [0, 184, 0, 0, 6]\n",
      "Número de rg operacionais: [0, 0, 0, 0, 0]\n",
      "Número de rg patrimoniais: [0, 1735, 5, 17, 1]\n",
      "Número de rg ambientais: [3, 10, 5, 4, 3]\n",
      "GES - UHE-SALTO SANTIAGO\n",
      "Vinculação de registros: [0.0, 0.0, 0.0, 0.0, 0.0]\n",
      "Emissão de boletim de medição: [1, 0, 0, 0, 0]\n",
      "Número de rg homologados: [5, 5, 14, 0, 119]\n",
      "Número de Serviços: [0, 0, 0, 0, 1]\n",
      "Número de rg operacionais: [0, 0, 46, 29, 2]\n",
      "Número de rg patrimoniais: [3, 1, 15, 22, 1]\n",
      "Número de rg ambientais: [4, 8, 16, 9, 1]\n",
      "GES - UHE-SÃO SALVADOR\n",
      "Vinculação de registros: [0.0, 0.0, 0.0, 0.0, 0]\n",
      "Emissão de boletim de medição: [1, 2, 0, 1, 0]\n",
      "Número de rg homologados: [0, 1, 9, 0, 0]\n",
      "Número de Serviços: [1, 1, 0, 0, 0]\n",
      "Número de rg operacionais: [0, 0, 0, 0, 0]\n",
      "Número de rg patrimoniais: [0, 1, 1, 1, 0]\n",
      "Número de rg ambientais: [4, 0, 5, 1, 0]\n",
      "GES - GEH\n",
      "Vinculação de registros: [0, 0, 0, 0, 0]\n",
      "Emissão de boletim de medição: [9, 3, 3, 9, 0]\n",
      "Número de rg homologados: [0, 0, 0, 0, 0]\n",
      "Número de Serviços: [0, 0, 0, 0, 0]\n",
      "Número de rg operacionais: [0, 0, 0, 0, 0]\n",
      "Número de rg patrimoniais: [0, 0, 0, 0, 0]\n",
      "Número de rg ambientais: [0, 0, 0, 0, 0]\n"
     ]
    }
   ],
   "source": [
    "vinculacao = []\n",
    "boletim = []\n",
    "homologados = []\n",
    "servicos = []\n",
    "operacional = []\n",
    "patrimonial = []\n",
    "ambiental = []\n",
    "for company in tqdm(usinas):\n",
    "    print(company)\n",
    "    vinculacao.append(vinculacao_registro(months_number, company))\n",
    "    boletim.append(boletim_medicao(months_number, company))\n",
    "    homologados.append(rg_homologados(months_number, company))\n",
    "    servicos.append(num_servicos(months_number, company))\n",
    "    operacional.append(rg_operacionais(months_number, company))\n",
    "    patrimonial.append(rg_patrimonial(months_number, company))\n",
    "    ambiental.append(rg_ambiental(months_number, company)) \n",
    "    print(f'Vinculação de registros: {vinculacao_registro(months_number, company)}')\n",
    "    print(f'Emissão de boletim de medição: {boletim_medicao(months_number, company)}')\n",
    "    print(f'Número de rg homologados: {rg_homologados(months_number, company)}')\n",
    "    print(f'Número de Serviços: {num_servicos(months_number, company)}')\n",
    "    print(f'Número de rg operacionais: {rg_operacionais(months_number, company)}')\n",
    "    print(f'Número de rg patrimoniais: {rg_patrimonial(months_number, company)}')\n",
    "    print(f'Número de rg ambientais: {rg_ambiental(months_number, company)}')"
   ]
  },
  {
   "cell_type": "code",
   "execution_count": 49,
   "id": "80fd2943",
   "metadata": {
    "scrolled": true
   },
   "outputs": [
    {
     "data": {
      "application/vnd.jupyter.widget-view+json": {
       "model_id": "dec487ce6e1c4bcf8d42b362d7d4cbc2",
       "version_major": 2,
       "version_minor": 0
      },
      "text/plain": [
       "  0%|          | 0/5 [00:00<?, ?it/s]"
      ]
     },
     "metadata": {},
     "output_type": "display_data"
    },
    {
     "name": "stdout",
     "output_type": "stream",
     "text": [
      "0\n",
      "0\n",
      "0.0\n",
      "0\n",
      "58.33\n",
      "14.29\n",
      "4.69\n",
      "91.67\n",
      "0.0\n",
      "0.0\n",
      "0.0\n",
      "0.0\n",
      "0.0\n",
      "0\n",
      "0\n",
      "0\n",
      "13.33\n",
      "0\n",
      "38.89\n",
      "25.0\n",
      "0.0\n",
      "100.0\n",
      "0.0\n",
      "0.0\n",
      "96.5\n",
      "0.0\n",
      "0.0\n",
      "0\n",
      "0\n",
      "0\n",
      "16.67\n",
      "0\n",
      "66.67\n",
      "12.5\n",
      "0.0\n",
      "100.0\n",
      "97.11\n",
      "0\n",
      "0.0\n",
      "0.0\n",
      "0.0\n",
      "0\n",
      "0\n",
      "0\n",
      "0.0\n",
      "0\n",
      "70.0\n",
      "0.0\n",
      "0.0\n",
      "0\n",
      "42.86\n",
      "0\n",
      "28.57\n",
      "0.0\n",
      "0.0\n",
      "0\n",
      "0\n",
      "0\n",
      "0\n",
      "0\n",
      "0\n",
      "0\n",
      "0.0\n",
      "0\n",
      "0.0\n",
      "0\n",
      "0.0\n",
      "0.0\n",
      "0\n",
      "0\n"
     ]
    }
   ],
   "source": [
    "hs_month = []\n",
    "hs_month_export = {}\n",
    "for i in tqdm(range(len(months_number))):\n",
    "    hs = []\n",
    "    for n in range(len(usinas)):\n",
    "        soma = nota_vinc(vinculacao[n][i]) + nota_boletim(boletim[n][i]) + nota_homologados(homologados[n][i])+ nota_servicos(servicos[n][i]) + nota_ambiental(ambiental[n][i])+ nota_patrimonial(patrimonial[n][i]) + nota_operacional(operacional[n][i])\n",
    "        hs.append((14+soma)*(100/28))\n",
    "        if not hs_month_export.get(usinas[n]):\n",
    "            hs_month_export[usinas[n]] = []\n",
    "        hs_month_export[usinas[n]].append(hs[-1])\n",
    "\n",
    "    hs_month.append(hs)"
   ]
  },
  {
   "cell_type": "code",
   "execution_count": 50,
   "id": "c4c2516e",
   "metadata": {
    "scrolled": true
   },
   "outputs": [
    {
     "data": {
      "text/plain": [
       "{'GES - PCH-JOSÉ GELÁZIO DA ROCHA': [0.0, 0.0, 0.0, 0.0, 0.0],\n",
       " 'GES - PCH-RONDONÓPOLIS': [0.0, 0.0, 0.0, 0.0, 0.0],\n",
       " 'GES - UHE-CANA BRAVA': [42.85714285714286, 50.0, 50.0, 0.0, 0.0],\n",
       " 'GES - UHE-ESTREITO': [7.142857142857143, 0.0, 0.0, 0.0, 0.0],\n",
       " 'GES - UHE-ITA': [57.142857142857146,\n",
       "  78.57142857142857,\n",
       "  78.57142857142857,\n",
       "  57.142857142857146,\n",
       "  0.0],\n",
       " 'GES - UHE-JAGUARA': [14.285714285714286,\n",
       "  78.57142857142857,\n",
       "  57.142857142857146,\n",
       "  21.42857142857143,\n",
       "  0.0],\n",
       " 'GES - UHE-MACHADINHO': [28.571428571428573,\n",
       "  71.42857142857143,\n",
       "  71.42857142857143,\n",
       "  50.0,\n",
       "  0.0],\n",
       " 'GES - UHE-MIRANDA': [50.0,\n",
       "  57.142857142857146,\n",
       "  78.57142857142857,\n",
       "  42.85714285714286,\n",
       "  0.0],\n",
       " 'GES - UHE-PASSO FUNDO': [21.42857142857143,\n",
       "  21.42857142857143,\n",
       "  57.142857142857146,\n",
       "  50.0,\n",
       "  0.0],\n",
       " 'GES - UHE-PONTE DE PEDRA': [0.0, 14.285714285714286, 0.0, 0.0, 0.0],\n",
       " 'GES - UHE-SALTO OSORIO': [0.0,\n",
       "  71.42857142857143,\n",
       "  14.285714285714286,\n",
       "  64.28571428571429,\n",
       "  21.42857142857143],\n",
       " 'GES - UHE-SALTO SANTIAGO': [14.285714285714286,\n",
       "  14.285714285714286,\n",
       "  57.142857142857146,\n",
       "  35.714285714285715,\n",
       "  21.42857142857143],\n",
       " 'GES - UHE-SÃO SALVADOR': [14.285714285714286,\n",
       "  21.42857142857143,\n",
       "  35.714285714285715,\n",
       "  0.0,\n",
       "  0.0],\n",
       " 'GES - GEH': [21.42857142857143,\n",
       "  21.42857142857143,\n",
       "  21.42857142857143,\n",
       "  21.42857142857143,\n",
       "  0.0]}"
      ]
     },
     "execution_count": 50,
     "metadata": {},
     "output_type": "execute_result"
    }
   ],
   "source": [
    "hs_month_export"
   ]
  },
  {
   "cell_type": "code",
   "execution_count": 74,
   "id": "23dd48dd",
   "metadata": {},
   "outputs": [],
   "source": [
    "df2= pd.DataFrame.from_dict(hs_month_export,orient='index',columns=months_number)"
   ]
  },
  {
   "cell_type": "code",
   "execution_count": 78,
   "id": "f6fa4e87",
   "metadata": {},
   "outputs": [
    {
     "data": {
      "text/html": [
       "<div>\n",
       "<style scoped>\n",
       "    .dataframe tbody tr th:only-of-type {\n",
       "        vertical-align: middle;\n",
       "    }\n",
       "\n",
       "    .dataframe tbody tr th {\n",
       "        vertical-align: top;\n",
       "    }\n",
       "\n",
       "    .dataframe thead th {\n",
       "        text-align: right;\n",
       "    }\n",
       "</style>\n",
       "<table border=\"1\" class=\"dataframe\">\n",
       "  <thead>\n",
       "    <tr style=\"text-align: right;\">\n",
       "      <th></th>\n",
       "      <th>1</th>\n",
       "      <th>2</th>\n",
       "      <th>3</th>\n",
       "      <th>4</th>\n",
       "      <th>5</th>\n",
       "    </tr>\n",
       "  </thead>\n",
       "  <tbody>\n",
       "    <tr>\n",
       "      <th>GES - PCH-JOSÉ GELÁZIO DA ROCHA</th>\n",
       "      <td>0.00</td>\n",
       "      <td>0.00</td>\n",
       "      <td>0.00</td>\n",
       "      <td>0.00</td>\n",
       "      <td>0.00</td>\n",
       "    </tr>\n",
       "    <tr>\n",
       "      <th>GES - PCH-RONDONÓPOLIS</th>\n",
       "      <td>0.00</td>\n",
       "      <td>0.00</td>\n",
       "      <td>0.00</td>\n",
       "      <td>0.00</td>\n",
       "      <td>0.00</td>\n",
       "    </tr>\n",
       "    <tr>\n",
       "      <th>GES - UHE-CANA BRAVA</th>\n",
       "      <td>42.86</td>\n",
       "      <td>50.00</td>\n",
       "      <td>50.00</td>\n",
       "      <td>0.00</td>\n",
       "      <td>0.00</td>\n",
       "    </tr>\n",
       "    <tr>\n",
       "      <th>GES - UHE-ESTREITO</th>\n",
       "      <td>7.14</td>\n",
       "      <td>0.00</td>\n",
       "      <td>0.00</td>\n",
       "      <td>0.00</td>\n",
       "      <td>0.00</td>\n",
       "    </tr>\n",
       "    <tr>\n",
       "      <th>GES - UHE-ITA</th>\n",
       "      <td>57.14</td>\n",
       "      <td>78.57</td>\n",
       "      <td>78.57</td>\n",
       "      <td>57.14</td>\n",
       "      <td>0.00</td>\n",
       "    </tr>\n",
       "    <tr>\n",
       "      <th>GES - UHE-JAGUARA</th>\n",
       "      <td>14.29</td>\n",
       "      <td>78.57</td>\n",
       "      <td>57.14</td>\n",
       "      <td>21.43</td>\n",
       "      <td>0.00</td>\n",
       "    </tr>\n",
       "    <tr>\n",
       "      <th>GES - UHE-MACHADINHO</th>\n",
       "      <td>28.57</td>\n",
       "      <td>71.43</td>\n",
       "      <td>71.43</td>\n",
       "      <td>50.00</td>\n",
       "      <td>0.00</td>\n",
       "    </tr>\n",
       "    <tr>\n",
       "      <th>GES - UHE-MIRANDA</th>\n",
       "      <td>50.00</td>\n",
       "      <td>57.14</td>\n",
       "      <td>78.57</td>\n",
       "      <td>42.86</td>\n",
       "      <td>0.00</td>\n",
       "    </tr>\n",
       "    <tr>\n",
       "      <th>GES - UHE-PASSO FUNDO</th>\n",
       "      <td>21.43</td>\n",
       "      <td>21.43</td>\n",
       "      <td>57.14</td>\n",
       "      <td>50.00</td>\n",
       "      <td>0.00</td>\n",
       "    </tr>\n",
       "    <tr>\n",
       "      <th>GES - UHE-PONTE DE PEDRA</th>\n",
       "      <td>0.00</td>\n",
       "      <td>14.29</td>\n",
       "      <td>0.00</td>\n",
       "      <td>0.00</td>\n",
       "      <td>0.00</td>\n",
       "    </tr>\n",
       "    <tr>\n",
       "      <th>GES - UHE-SALTO OSORIO</th>\n",
       "      <td>0.00</td>\n",
       "      <td>71.43</td>\n",
       "      <td>14.29</td>\n",
       "      <td>64.29</td>\n",
       "      <td>21.43</td>\n",
       "    </tr>\n",
       "    <tr>\n",
       "      <th>GES - UHE-SALTO SANTIAGO</th>\n",
       "      <td>14.29</td>\n",
       "      <td>14.29</td>\n",
       "      <td>57.14</td>\n",
       "      <td>35.71</td>\n",
       "      <td>21.43</td>\n",
       "    </tr>\n",
       "    <tr>\n",
       "      <th>GES - UHE-SÃO SALVADOR</th>\n",
       "      <td>14.29</td>\n",
       "      <td>21.43</td>\n",
       "      <td>35.71</td>\n",
       "      <td>0.00</td>\n",
       "      <td>0.00</td>\n",
       "    </tr>\n",
       "    <tr>\n",
       "      <th>GES - GEH</th>\n",
       "      <td>21.43</td>\n",
       "      <td>21.43</td>\n",
       "      <td>21.43</td>\n",
       "      <td>21.43</td>\n",
       "      <td>0.00</td>\n",
       "    </tr>\n",
       "  </tbody>\n",
       "</table>\n",
       "</div>"
      ],
      "text/plain": [
       "                                     1      2      3      4      5\n",
       "GES - PCH-JOSÉ GELÁZIO DA ROCHA   0.00   0.00   0.00   0.00   0.00\n",
       "GES - PCH-RONDONÓPOLIS            0.00   0.00   0.00   0.00   0.00\n",
       "GES - UHE-CANA BRAVA             42.86  50.00  50.00   0.00   0.00\n",
       "GES - UHE-ESTREITO                7.14   0.00   0.00   0.00   0.00\n",
       "GES - UHE-ITA                    57.14  78.57  78.57  57.14   0.00\n",
       "GES - UHE-JAGUARA                14.29  78.57  57.14  21.43   0.00\n",
       "GES - UHE-MACHADINHO             28.57  71.43  71.43  50.00   0.00\n",
       "GES - UHE-MIRANDA                50.00  57.14  78.57  42.86   0.00\n",
       "GES - UHE-PASSO FUNDO            21.43  21.43  57.14  50.00   0.00\n",
       "GES - UHE-PONTE DE PEDRA          0.00  14.29   0.00   0.00   0.00\n",
       "GES - UHE-SALTO OSORIO            0.00  71.43  14.29  64.29  21.43\n",
       "GES - UHE-SALTO SANTIAGO         14.29  14.29  57.14  35.71  21.43\n",
       "GES - UHE-SÃO SALVADOR           14.29  21.43  35.71   0.00   0.00\n",
       "GES - GEH                        21.43  21.43  21.43  21.43   0.00"
      ]
     },
     "execution_count": 78,
     "metadata": {},
     "output_type": "execute_result"
    }
   ],
   "source": [
    "df2=df2.round(2)\n",
    "df2"
   ]
  },
  {
   "cell_type": "code",
   "execution_count": 79,
   "id": "52800539",
   "metadata": {},
   "outputs": [],
   "source": [
    "df2.to_excel('hsMai2024Completo.xlsx')"
   ]
  },
  {
   "cell_type": "markdown",
   "id": "a5c094a3",
   "metadata": {},
   "source": [
    "# Export only the last Month"
   ]
  },
  {
   "cell_type": "code",
   "execution_count": 51,
   "id": "51b0246a",
   "metadata": {},
   "outputs": [],
   "source": [
    "hs_novo = []\n",
    "for i in hs_month_export.values():\n",
    "    hs_novo.append(round(i[-1],2))"
   ]
  },
  {
   "cell_type": "code",
   "execution_count": 53,
   "id": "2c7fccb1",
   "metadata": {},
   "outputs": [],
   "source": [
    "coluna = 'Health Score' + ' '+ str(months_number[-1])"
   ]
  },
  {
   "cell_type": "code",
   "execution_count": 54,
   "id": "e830c182",
   "metadata": {},
   "outputs": [],
   "source": [
    "df= pd.DataFrame(zip(usinas, hs_novo), columns= ['Usina', coluna])"
   ]
  },
  {
   "cell_type": "code",
   "execution_count": 55,
   "id": "9d9f5e09",
   "metadata": {},
   "outputs": [
    {
     "data": {
      "text/html": [
       "<div>\n",
       "<style scoped>\n",
       "    .dataframe tbody tr th:only-of-type {\n",
       "        vertical-align: middle;\n",
       "    }\n",
       "\n",
       "    .dataframe tbody tr th {\n",
       "        vertical-align: top;\n",
       "    }\n",
       "\n",
       "    .dataframe thead th {\n",
       "        text-align: right;\n",
       "    }\n",
       "</style>\n",
       "<table border=\"1\" class=\"dataframe\">\n",
       "  <thead>\n",
       "    <tr style=\"text-align: right;\">\n",
       "      <th></th>\n",
       "      <th>Usina</th>\n",
       "      <th>Health Score 5</th>\n",
       "    </tr>\n",
       "  </thead>\n",
       "  <tbody>\n",
       "    <tr>\n",
       "      <th>0</th>\n",
       "      <td>GES - PCH-JOSÉ GELÁZIO DA ROCHA</td>\n",
       "      <td>0.00</td>\n",
       "    </tr>\n",
       "    <tr>\n",
       "      <th>1</th>\n",
       "      <td>GES - PCH-RONDONÓPOLIS</td>\n",
       "      <td>0.00</td>\n",
       "    </tr>\n",
       "    <tr>\n",
       "      <th>2</th>\n",
       "      <td>GES - UHE-CANA BRAVA</td>\n",
       "      <td>0.00</td>\n",
       "    </tr>\n",
       "    <tr>\n",
       "      <th>3</th>\n",
       "      <td>GES - UHE-ESTREITO</td>\n",
       "      <td>0.00</td>\n",
       "    </tr>\n",
       "    <tr>\n",
       "      <th>4</th>\n",
       "      <td>GES - UHE-ITA</td>\n",
       "      <td>0.00</td>\n",
       "    </tr>\n",
       "    <tr>\n",
       "      <th>5</th>\n",
       "      <td>GES - UHE-JAGUARA</td>\n",
       "      <td>0.00</td>\n",
       "    </tr>\n",
       "    <tr>\n",
       "      <th>6</th>\n",
       "      <td>GES - UHE-MACHADINHO</td>\n",
       "      <td>0.00</td>\n",
       "    </tr>\n",
       "    <tr>\n",
       "      <th>7</th>\n",
       "      <td>GES - UHE-MIRANDA</td>\n",
       "      <td>0.00</td>\n",
       "    </tr>\n",
       "    <tr>\n",
       "      <th>8</th>\n",
       "      <td>GES - UHE-PASSO FUNDO</td>\n",
       "      <td>0.00</td>\n",
       "    </tr>\n",
       "    <tr>\n",
       "      <th>9</th>\n",
       "      <td>GES - UHE-PONTE DE PEDRA</td>\n",
       "      <td>0.00</td>\n",
       "    </tr>\n",
       "    <tr>\n",
       "      <th>10</th>\n",
       "      <td>GES - UHE-SALTO OSORIO</td>\n",
       "      <td>21.43</td>\n",
       "    </tr>\n",
       "    <tr>\n",
       "      <th>11</th>\n",
       "      <td>GES - UHE-SALTO SANTIAGO</td>\n",
       "      <td>21.43</td>\n",
       "    </tr>\n",
       "    <tr>\n",
       "      <th>12</th>\n",
       "      <td>GES - UHE-SÃO SALVADOR</td>\n",
       "      <td>0.00</td>\n",
       "    </tr>\n",
       "    <tr>\n",
       "      <th>13</th>\n",
       "      <td>GES - GEH</td>\n",
       "      <td>0.00</td>\n",
       "    </tr>\n",
       "  </tbody>\n",
       "</table>\n",
       "</div>"
      ],
      "text/plain": [
       "                              Usina  Health Score 5\n",
       "0   GES - PCH-JOSÉ GELÁZIO DA ROCHA            0.00\n",
       "1            GES - PCH-RONDONÓPOLIS            0.00\n",
       "2              GES - UHE-CANA BRAVA            0.00\n",
       "3                GES - UHE-ESTREITO            0.00\n",
       "4                     GES - UHE-ITA            0.00\n",
       "5                 GES - UHE-JAGUARA            0.00\n",
       "6              GES - UHE-MACHADINHO            0.00\n",
       "7                 GES - UHE-MIRANDA            0.00\n",
       "8             GES - UHE-PASSO FUNDO            0.00\n",
       "9          GES - UHE-PONTE DE PEDRA            0.00\n",
       "10           GES - UHE-SALTO OSORIO           21.43\n",
       "11         GES - UHE-SALTO SANTIAGO           21.43\n",
       "12           GES - UHE-SÃO SALVADOR            0.00\n",
       "13                        GES - GEH            0.00"
      ]
     },
     "execution_count": 55,
     "metadata": {},
     "output_type": "execute_result"
    }
   ],
   "source": [
    "df"
   ]
  },
  {
   "cell_type": "code",
   "execution_count": 35,
   "id": "1c52ed38",
   "metadata": {},
   "outputs": [],
   "source": [
    "df.to_excel('hsMai2024Last.xlsx')"
   ]
  },
  {
   "cell_type": "code",
   "execution_count": null,
   "id": "044c8248",
   "metadata": {},
   "outputs": [],
   "source": []
  }
 ],
 "metadata": {
  "kernelspec": {
   "display_name": "Django Shell-Plus",
   "language": "python",
   "name": "django_extensions"
  },
  "language_info": {
   "codemirror_mode": {
    "name": "ipython",
    "version": 3
   },
   "file_extension": ".py",
   "mimetype": "text/x-python",
   "name": "python",
   "nbconvert_exporter": "python",
   "pygments_lexer": "ipython3",
   "version": "3.8.16"
  }
 },
 "nbformat": 4,
 "nbformat_minor": 5
}
