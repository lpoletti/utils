{
 "cells": [
  {
   "cell_type": "code",
   "execution_count": 1,
   "id": "49ea13f6",
   "metadata": {},
   "outputs": [
    {
     "name": "stdout",
     "output_type": "stream",
     "text": [
      "STAGE=CCR_PRODUCTION\r\n"
     ]
    }
   ],
   "source": [
    "!cat .env"
   ]
  },
  {
   "cell_type": "code",
   "execution_count": 2,
   "id": "101d1f95",
   "metadata": {},
   "outputs": [
    {
     "data": {
      "text/plain": [
       "<QuerySet [<Company: 3af64f25-59e8-446b-bb1e-963549090b0d: CCR - Rio Sp>, <Company: 385c3404-2c8b-4987-8015-9b93e044aa6d: CCR - AutoBAn>, <Company: 161ab539-eea0-4c7c-8e9f-99058261f850: CCR - SPVias>, <Company: be176150-b4da-4162-9eec-67f6db3f5612: CCR - RodoAnel>]>"
      ]
     },
     "execution_count": 2,
     "metadata": {},
     "output_type": "execute_result"
    }
   ],
   "source": [
    "Company.objects.all()"
   ]
  },
  {
   "cell_type": "code",
   "execution_count": 5,
   "id": "b559f436",
   "metadata": {},
   "outputs": [
    {
     "data": {
      "text/plain": [
       "{'_state': <django.db.models.base.ModelState at 0x74e4458f25e0>,\n",
       " 'password': 'pbkdf2_sha256$150000$2uZyQGSsLGCN$mNHwDzYAVe2Z+8+DM4ny5g+oV8d8Aej+EH7rwknCJ5E=',\n",
       " 'last_login': datetime.datetime(2023, 11, 29, 17, 20, 0, 617270, tzinfo=<UTC>),\n",
       " 'is_superuser': False,\n",
       " 'username': 'ana.alves',\n",
       " 'first_name': 'Ana Laura',\n",
       " 'last_name': 'Pereira Alves',\n",
       " 'email': 'ana.alves@grupoccr.com.br',\n",
       " 'is_staff': False,\n",
       " 'is_active': True,\n",
       " 'date_joined': datetime.datetime(2023, 10, 3, 17, 5, 58, 354016, tzinfo=<UTC>),\n",
       " 'uuid': UUID('f7463d61-ab31-4e46-9ac5-3a71373e31a6'),\n",
       " 'cpf': None,\n",
       " 'avatar': '',\n",
       " 'metadata': {},\n",
       " 'configuration': {'send_email_notifications': True},\n",
       " 'jwt_secret': 'cd6+$k4kl&ka9ar8$ar%jod3ia=p-ae=7j_7&q*b6_8nll%&#q',\n",
       " 'saml_idp': 'https://sts.windows.net/d233d58a-9973-43a7-af69-6763630548a0/',\n",
       " 'saml_nameid': 'ana.alves@grupoccr.com.br',\n",
       " 'company_group_id': UUID('47e2587c-f3c4-4103-88c6-f6334e13b91c'),\n",
       " 'supervisor_id': None,\n",
       " 'is_supervisor': False,\n",
       " 'is_internal': False,\n",
       " 'has_accepted_tos': True,\n",
       " 'responsible_id': None,\n",
       " 'birth_date': None,\n",
       " 'firm_name': None,\n",
       " 'phone': None,\n",
       " 'auth_error': None}"
      ]
     },
     "execution_count": 5,
     "metadata": {},
     "output_type": "execute_result"
    },
    {
     "data": {
      "text/plain": [
       "{'_state': <django.db.models.base.ModelState at 0x74e4458f25e0>,\n",
       " 'password': 'pbkdf2_sha256$150000$2uZyQGSsLGCN$mNHwDzYAVe2Z+8+DM4ny5g+oV8d8Aej+EH7rwknCJ5E=',\n",
       " 'last_login': datetime.datetime(2023, 11, 29, 17, 20, 0, 617270, tzinfo=<UTC>),\n",
       " 'is_superuser': False,\n",
       " 'username': 'ana.alves',\n",
       " 'first_name': 'Ana Laura',\n",
       " 'last_name': 'Pereira Alves',\n",
       " 'email': 'ana.alves@grupoccr.com.br',\n",
       " 'is_staff': False,\n",
       " 'is_active': True,\n",
       " 'date_joined': datetime.datetime(2023, 10, 3, 17, 5, 58, 354016, tzinfo=<UTC>),\n",
       " 'uuid': UUID('f7463d61-ab31-4e46-9ac5-3a71373e31a6'),\n",
       " 'cpf': None,\n",
       " 'avatar': '',\n",
       " 'metadata': {},\n",
       " 'configuration': {'send_email_notifications': True},\n",
       " 'jwt_secret': 'cd6+$k4kl&ka9ar8$ar%jod3ia=p-ae=7j_7&q*b6_8nll%&#q',\n",
       " 'saml_idp': 'https://sts.windows.net/d233d58a-9973-43a7-af69-6763630548a0/',\n",
       " 'saml_nameid': 'ana.alves@grupoccr.com.br',\n",
       " 'company_group_id': UUID('47e2587c-f3c4-4103-88c6-f6334e13b91c'),\n",
       " 'supervisor_id': None,\n",
       " 'is_supervisor': False,\n",
       " 'is_internal': False,\n",
       " 'has_accepted_tos': True,\n",
       " 'responsible_id': None,\n",
       " 'birth_date': None,\n",
       " 'firm_name': None,\n",
       " 'phone': None,\n",
       " 'auth_error': None}"
      ]
     },
     "execution_count": 5,
     "metadata": {},
     "output_type": "execute_result"
    },
    {
     "data": {
      "text/plain": [
       "{'_state': <django.db.models.base.ModelState at 0x74e4458f25e0>,\n",
       " 'password': 'pbkdf2_sha256$150000$2uZyQGSsLGCN$mNHwDzYAVe2Z+8+DM4ny5g+oV8d8Aej+EH7rwknCJ5E=',\n",
       " 'last_login': datetime.datetime(2023, 11, 29, 17, 20, 0, 617270, tzinfo=<UTC>),\n",
       " 'is_superuser': False,\n",
       " 'username': 'ana.alves',\n",
       " 'first_name': 'Ana Laura',\n",
       " 'last_name': 'Pereira Alves',\n",
       " 'email': 'ana.alves@grupoccr.com.br',\n",
       " 'is_staff': False,\n",
       " 'is_active': True,\n",
       " 'date_joined': datetime.datetime(2023, 10, 3, 17, 5, 58, 354016, tzinfo=<UTC>),\n",
       " 'uuid': UUID('f7463d61-ab31-4e46-9ac5-3a71373e31a6'),\n",
       " 'cpf': None,\n",
       " 'avatar': '',\n",
       " 'metadata': {},\n",
       " 'configuration': {'send_email_notifications': True},\n",
       " 'jwt_secret': 'cd6+$k4kl&ka9ar8$ar%jod3ia=p-ae=7j_7&q*b6_8nll%&#q',\n",
       " 'saml_idp': 'https://sts.windows.net/d233d58a-9973-43a7-af69-6763630548a0/',\n",
       " 'saml_nameid': 'ana.alves@grupoccr.com.br',\n",
       " 'company_group_id': UUID('47e2587c-f3c4-4103-88c6-f6334e13b91c'),\n",
       " 'supervisor_id': None,\n",
       " 'is_supervisor': False,\n",
       " 'is_internal': False,\n",
       " 'has_accepted_tos': True,\n",
       " 'responsible_id': None,\n",
       " 'birth_date': None,\n",
       " 'firm_name': None,\n",
       " 'phone': None,\n",
       " 'auth_error': None}"
      ]
     },
     "execution_count": 5,
     "metadata": {},
     "output_type": "execute_result"
    },
    {
     "data": {
      "text/plain": [
       "{'_state': <django.db.models.base.ModelState at 0x74e4458f25e0>,\n",
       " 'password': 'pbkdf2_sha256$150000$2uZyQGSsLGCN$mNHwDzYAVe2Z+8+DM4ny5g+oV8d8Aej+EH7rwknCJ5E=',\n",
       " 'last_login': datetime.datetime(2023, 11, 29, 17, 20, 0, 617270, tzinfo=<UTC>),\n",
       " 'is_superuser': False,\n",
       " 'username': 'ana.alves',\n",
       " 'first_name': 'Ana Laura',\n",
       " 'last_name': 'Pereira Alves',\n",
       " 'email': 'ana.alves@grupoccr.com.br',\n",
       " 'is_staff': False,\n",
       " 'is_active': True,\n",
       " 'date_joined': datetime.datetime(2023, 10, 3, 17, 5, 58, 354016, tzinfo=<UTC>),\n",
       " 'uuid': UUID('f7463d61-ab31-4e46-9ac5-3a71373e31a6'),\n",
       " 'cpf': None,\n",
       " 'avatar': '',\n",
       " 'metadata': {},\n",
       " 'configuration': {'send_email_notifications': True},\n",
       " 'jwt_secret': 'cd6+$k4kl&ka9ar8$ar%jod3ia=p-ae=7j_7&q*b6_8nll%&#q',\n",
       " 'saml_idp': 'https://sts.windows.net/d233d58a-9973-43a7-af69-6763630548a0/',\n",
       " 'saml_nameid': 'ana.alves@grupoccr.com.br',\n",
       " 'company_group_id': UUID('47e2587c-f3c4-4103-88c6-f6334e13b91c'),\n",
       " 'supervisor_id': None,\n",
       " 'is_supervisor': False,\n",
       " 'is_internal': False,\n",
       " 'has_accepted_tos': True,\n",
       " 'responsible_id': None,\n",
       " 'birth_date': None,\n",
       " 'firm_name': None,\n",
       " 'phone': None,\n",
       " 'auth_error': None}"
      ]
     },
     "execution_count": 5,
     "metadata": {},
     "output_type": "execute_result"
    }
   ],
   "source": [
    "User.objects.filter(saml_nameid__isnull=False).order_by('username')[5].__dict__"
   ]
  },
  {
   "cell_type": "code",
   "execution_count": 6,
   "id": "7f0a42b2",
   "metadata": {},
   "outputs": [
    {
     "name": "stdout",
     "output_type": "stream",
     "text": [
      "adriano.junior \n",
      "alex.dutra pbkdf2_sha256$150000$AxFJNmRMz6Cf$xs9Tx7VqbLFi7MJta+HG/i26x6XXw0CL9wTxenOF+44=\n",
      "alexsander.ribeiro pbkdf2_sha256$150000$nNGbun58ZIht$M2mPsiYqGSpBR86+uAcYI84DXLbedOiaXVATH2ruq5E=\n",
      "aline.cunha \n",
      "aline.safar pbkdf2_sha256$150000$526bCGHL5OJX$2fOWMWudN3acNBQi7fJtolrJB3PQ3HQVJjBcpzuf3ko=\n",
      "ana.alves pbkdf2_sha256$150000$2uZyQGSsLGCN$mNHwDzYAVe2Z+8+DM4ny5g+oV8d8Aej+EH7rwknCJ5E=\n",
      "ana.pinheiro pbkdf2_sha256$150000$xJioFG1zRuIJ$AAPRQprZV0NpR3/+hA/Kxf6EoCztV6dYe7eBh+1wqCU=\n",
      "ana.rachadel \n",
      "anelise.santos pbkdf2_sha256$150000$2PF9EJwLLYqL$ZA/q/htIxJPajzBcnva2KAB2q9Bv1ZSP2gv0TkCEE6w=\n",
      "antonio.morandin \n",
      "caio.barreto pbkdf2_sha256$150000$9F9chTyqXuc6$FPZkgR4JhJeJCqXRoW51P9pimAt6nw118UWu0wfz7lw=\n",
      "caio.cirillo \n",
      "Caio.Martins \n",
      "carolina.foz \n",
      "carolina.gallo pbkdf2_sha256$150000$4m5zvvyyzMwz$fxHlsD2gmsuGLTXMU130seGZkVKQzu4JBRUrOMuGZ1E=\n",
      "cleidiane.barbosa pbkdf2_sha256$150000$FDeMCSLijyMe$jnNiFBvajPzF8W3mSdQAT2OvAgwvrbeq21b3o+2Waio=\n",
      "cristian.sabariego pbkdf2_sha256$150000$aEg0FbQbBG8W$gT5SKxOpSAlcuL1mhzdFqT+Exy9TU55xtgj8NHTSO9w=\n",
      "daniela.calcado pbkdf2_sha256$150000$zLeH7hK0sKzy$YFwqF0almxOn5fuIop7mTmm5nbqqBpvAmf8KMuPwVtM=\n",
      "DanielAndrade01 \n",
      "danilo.tenorio pbkdf2_sha256$150000$ryB1VWfTar2Q$+KnmloJpZJ3x/grvWIdDs+KbjMJ3cAvBmzxl1TjgiHo=\n",
      "diegocruz.nexmuv pbkdf2_sha256$150000$KyQpDqdmNqKi$I05+m04wvMIbe+NAYtVKC+88IrLeIYUgu+JSSS1eFKQ=\n",
      "adriano.junior \n",
      "alex.dutra pbkdf2_sha256$150000$AxFJNmRMz6Cf$xs9Tx7VqbLFi7MJta+HG/i26x6XXw0CL9wTxenOF+44=\n",
      "alexsander.ribeiro pbkdf2_sha256$150000$nNGbun58ZIht$M2mPsiYqGSpBR86+uAcYI84DXLbedOiaXVATH2ruq5E=\n",
      "aline.cunha \n",
      "aline.safar pbkdf2_sha256$150000$526bCGHL5OJX$2fOWMWudN3acNBQi7fJtolrJB3PQ3HQVJjBcpzuf3ko=\n",
      "ana.alves pbkdf2_sha256$150000$2uZyQGSsLGCN$mNHwDzYAVe2Z+8+DM4ny5g+oV8d8Aej+EH7rwknCJ5E=\n",
      "ana.pinheiro pbkdf2_sha256$150000$xJioFG1zRuIJ$AAPRQprZV0NpR3/+hA/Kxf6EoCztV6dYe7eBh+1wqCU=\n",
      "ana.rachadel \n",
      "anelise.santos pbkdf2_sha256$150000$2PF9EJwLLYqL$ZA/q/htIxJPajzBcnva2KAB2q9Bv1ZSP2gv0TkCEE6w=\n",
      "antonio.morandin \n",
      "caio.barreto pbkdf2_sha256$150000$9F9chTyqXuc6$FPZkgR4JhJeJCqXRoW51P9pimAt6nw118UWu0wfz7lw=\n",
      "caio.cirillo \n",
      "Caio.Martins \n",
      "carolina.foz \n",
      "carolina.gallo pbkdf2_sha256$150000$4m5zvvyyzMwz$fxHlsD2gmsuGLTXMU130seGZkVKQzu4JBRUrOMuGZ1E=\n",
      "cleidiane.barbosa pbkdf2_sha256$150000$FDeMCSLijyMe$jnNiFBvajPzF8W3mSdQAT2OvAgwvrbeq21b3o+2Waio=\n",
      "cristian.sabariego pbkdf2_sha256$150000$aEg0FbQbBG8W$gT5SKxOpSAlcuL1mhzdFqT+Exy9TU55xtgj8NHTSO9w=\n",
      "daniela.calcado pbkdf2_sha256$150000$zLeH7hK0sKzy$YFwqF0almxOn5fuIop7mTmm5nbqqBpvAmf8KMuPwVtM=\n",
      "DanielAndrade01 \n",
      "danilo.tenorio pbkdf2_sha256$150000$ryB1VWfTar2Q$+KnmloJpZJ3x/grvWIdDs+KbjMJ3cAvBmzxl1TjgiHo=\n",
      "diegocruz.nexmuv pbkdf2_sha256$150000$KyQpDqdmNqKi$I05+m04wvMIbe+NAYtVKC+88IrLeIYUgu+JSSS1eFKQ=\n",
      "adriano.junior \n",
      "alex.dutra pbkdf2_sha256$150000$AxFJNmRMz6Cf$xs9Tx7VqbLFi7MJta+HG/i26x6XXw0CL9wTxenOF+44=\n",
      "alexsander.ribeiro pbkdf2_sha256$150000$nNGbun58ZIht$M2mPsiYqGSpBR86+uAcYI84DXLbedOiaXVATH2ruq5E=\n",
      "aline.cunha \n",
      "aline.safar pbkdf2_sha256$150000$526bCGHL5OJX$2fOWMWudN3acNBQi7fJtolrJB3PQ3HQVJjBcpzuf3ko=\n",
      "ana.alves pbkdf2_sha256$150000$2uZyQGSsLGCN$mNHwDzYAVe2Z+8+DM4ny5g+oV8d8Aej+EH7rwknCJ5E=\n",
      "ana.pinheiro pbkdf2_sha256$150000$xJioFG1zRuIJ$AAPRQprZV0NpR3/+hA/Kxf6EoCztV6dYe7eBh+1wqCU=\n",
      "ana.rachadel \n",
      "anelise.santos pbkdf2_sha256$150000$2PF9EJwLLYqL$ZA/q/htIxJPajzBcnva2KAB2q9Bv1ZSP2gv0TkCEE6w=\n",
      "antonio.morandin \n",
      "caio.barreto pbkdf2_sha256$150000$9F9chTyqXuc6$FPZkgR4JhJeJCqXRoW51P9pimAt6nw118UWu0wfz7lw=\n",
      "caio.cirillo \n",
      "Caio.Martins \n",
      "carolina.foz \n",
      "carolina.gallo pbkdf2_sha256$150000$4m5zvvyyzMwz$fxHlsD2gmsuGLTXMU130seGZkVKQzu4JBRUrOMuGZ1E=\n",
      "cleidiane.barbosa pbkdf2_sha256$150000$FDeMCSLijyMe$jnNiFBvajPzF8W3mSdQAT2OvAgwvrbeq21b3o+2Waio=\n",
      "cristian.sabariego pbkdf2_sha256$150000$aEg0FbQbBG8W$gT5SKxOpSAlcuL1mhzdFqT+Exy9TU55xtgj8NHTSO9w=\n",
      "daniela.calcado pbkdf2_sha256$150000$zLeH7hK0sKzy$YFwqF0almxOn5fuIop7mTmm5nbqqBpvAmf8KMuPwVtM=\n",
      "DanielAndrade01 \n",
      "danilo.tenorio pbkdf2_sha256$150000$ryB1VWfTar2Q$+KnmloJpZJ3x/grvWIdDs+KbjMJ3cAvBmzxl1TjgiHo=\n",
      "diegocruz.nexmuv pbkdf2_sha256$150000$KyQpDqdmNqKi$I05+m04wvMIbe+NAYtVKC+88IrLeIYUgu+JSSS1eFKQ=\n",
      "adriano.junior \n",
      "alex.dutra pbkdf2_sha256$150000$AxFJNmRMz6Cf$xs9Tx7VqbLFi7MJta+HG/i26x6XXw0CL9wTxenOF+44=\n",
      "alexsander.ribeiro pbkdf2_sha256$150000$nNGbun58ZIht$M2mPsiYqGSpBR86+uAcYI84DXLbedOiaXVATH2ruq5E=\n",
      "aline.cunha \n",
      "aline.safar pbkdf2_sha256$150000$526bCGHL5OJX$2fOWMWudN3acNBQi7fJtolrJB3PQ3HQVJjBcpzuf3ko=\n",
      "ana.alves pbkdf2_sha256$150000$2uZyQGSsLGCN$mNHwDzYAVe2Z+8+DM4ny5g+oV8d8Aej+EH7rwknCJ5E=\n",
      "ana.pinheiro pbkdf2_sha256$150000$xJioFG1zRuIJ$AAPRQprZV0NpR3/+hA/Kxf6EoCztV6dYe7eBh+1wqCU=\n",
      "ana.rachadel \n",
      "anelise.santos pbkdf2_sha256$150000$2PF9EJwLLYqL$ZA/q/htIxJPajzBcnva2KAB2q9Bv1ZSP2gv0TkCEE6w=\n",
      "antonio.morandin \n",
      "caio.barreto pbkdf2_sha256$150000$9F9chTyqXuc6$FPZkgR4JhJeJCqXRoW51P9pimAt6nw118UWu0wfz7lw=\n",
      "caio.cirillo \n",
      "Caio.Martins \n",
      "carolina.foz \n",
      "carolina.gallo pbkdf2_sha256$150000$4m5zvvyyzMwz$fxHlsD2gmsuGLTXMU130seGZkVKQzu4JBRUrOMuGZ1E=\n",
      "cleidiane.barbosa pbkdf2_sha256$150000$FDeMCSLijyMe$jnNiFBvajPzF8W3mSdQAT2OvAgwvrbeq21b3o+2Waio=\n",
      "cristian.sabariego pbkdf2_sha256$150000$aEg0FbQbBG8W$gT5SKxOpSAlcuL1mhzdFqT+Exy9TU55xtgj8NHTSO9w=\n",
      "daniela.calcado pbkdf2_sha256$150000$zLeH7hK0sKzy$YFwqF0almxOn5fuIop7mTmm5nbqqBpvAmf8KMuPwVtM=\n",
      "DanielAndrade01 \n",
      "danilo.tenorio pbkdf2_sha256$150000$ryB1VWfTar2Q$+KnmloJpZJ3x/grvWIdDs+KbjMJ3cAvBmzxl1TjgiHo=\n",
      "diegocruz.nexmuv pbkdf2_sha256$150000$KyQpDqdmNqKi$I05+m04wvMIbe+NAYtVKC+88IrLeIYUgu+JSSS1eFKQ=\n",
      "donelly.teixeira \n",
      "edilson.dsantos pbkdf2_sha256$150000$SbVsoN7RRoR6$BQFLZrJ+bV3iC1coAUigiUSNldwhwDZtLhxD1PH2n2w=\n",
      "elielso.pedroso pbkdf2_sha256$150000$0ijQ6EAT1QHX$rK1kYjjfH5CS+ylzIR6zqLrn3MoGyJ7DQpZIdUtIC2k=\n",
      "ellenaraujo.capitani pbkdf2_sha256$150000$zXiqfd4Vc2AU$C+egYg5LTV793SVJOgNV0X50Qf+9orW6BHeNcC0NHJM=\n",
      "emersom.silva pbkdf2_sha256$150000$SrQCERQwjsRz$4qYbRtT+i65YYgNytmyDjF63tF3Up61Wzj1MbCvSlO8=\n",
      "everton.ferreira pbkdf2_sha256$150000$b97mURiAu2Uc$vq1XXMMUpDQV9JNuPAOAciG9cfdUHdF20/EbzrsBofo=\n",
      "evertonpereira.capitani \n",
      "fabio.boton \n",
      "felipe.pires \n",
      "fernanda.pacheco \n",
      "fernando.anjos pbkdf2_sha256$150000$1A53bvYcHxY7$kHeUtd/6QejnfVtdLJh2vv7Lo7aVDBuiRGWDnyGocRE=\n",
      "fernando.fronza pbkdf2_sha256$150000$VvKvXnQ192O9$x31STo3mXA966wwlor4t65ytpRuUUpYDo9g5YwMWwhM=\n",
      "gabrielly.silva pbkdf2_sha256$150000$pLjvFcaw1P6Z$AbtGiBa9u28l2lUXFfFn2qG4c+q9q+Pvbl7mDmFF1Pw=\n",
      "gabriel.marcelo pbkdf2_sha256$150000$XBz93s9xLWI4$hq+awUtN8rvQnbV8gVAw3LZlmOwlsEGzuaIlACTUtT4=\n",
      "gabriel.senaris pbkdf2_sha256$150000$Q7Ss8LdnbaDk$hhqMzq13hujS/0pu6frKKmhS2os77VRWUajVK7wOUdI=\n",
      "gian.fakhouri \n",
      "giovana.gtrevizan pbkdf2_sha256$150000$CB2OwE4Lkqaz$5rXyNlwNjQi7oErDlYaNd3WggzM8B0fZJVCbCgOQeTw=\n",
      "giovane.aguado \n",
      "guilherme.amarante \n",
      "henrique.armarolli \n",
      "ingrid.farias pbkdf2_sha256$150000$k2PBVs63anzD$hPYIVobSRR0E2TfVoJ2IZ4+Qbm0hFy3Y1wFR/I5GKPI=\n",
      "isabela.silveira pbkdf2_sha256$150000$VQff7hnqqMbQ$0eS7T8IlhKLLRFbUlF6ovGqktqBxP42Qg01aFBa3Yco=\n",
      "italo.santos \n",
      "jessica.moreira \n",
      "donelly.teixeira \n",
      "edilson.dsantos pbkdf2_sha256$150000$SbVsoN7RRoR6$BQFLZrJ+bV3iC1coAUigiUSNldwhwDZtLhxD1PH2n2w=\n",
      "elielso.pedroso pbkdf2_sha256$150000$0ijQ6EAT1QHX$rK1kYjjfH5CS+ylzIR6zqLrn3MoGyJ7DQpZIdUtIC2k=\n",
      "ellenaraujo.capitani pbkdf2_sha256$150000$zXiqfd4Vc2AU$C+egYg5LTV793SVJOgNV0X50Qf+9orW6BHeNcC0NHJM=\n",
      "emersom.silva pbkdf2_sha256$150000$SrQCERQwjsRz$4qYbRtT+i65YYgNytmyDjF63tF3Up61Wzj1MbCvSlO8=\n",
      "everton.ferreira pbkdf2_sha256$150000$b97mURiAu2Uc$vq1XXMMUpDQV9JNuPAOAciG9cfdUHdF20/EbzrsBofo=\n",
      "evertonpereira.capitani \n",
      "fabio.boton \n",
      "felipe.pires \n",
      "fernanda.pacheco \n",
      "fernando.anjos pbkdf2_sha256$150000$1A53bvYcHxY7$kHeUtd/6QejnfVtdLJh2vv7Lo7aVDBuiRGWDnyGocRE=\n",
      "fernando.fronza pbkdf2_sha256$150000$VvKvXnQ192O9$x31STo3mXA966wwlor4t65ytpRuUUpYDo9g5YwMWwhM=\n",
      "gabrielly.silva pbkdf2_sha256$150000$pLjvFcaw1P6Z$AbtGiBa9u28l2lUXFfFn2qG4c+q9q+Pvbl7mDmFF1Pw=\n",
      "gabriel.marcelo pbkdf2_sha256$150000$XBz93s9xLWI4$hq+awUtN8rvQnbV8gVAw3LZlmOwlsEGzuaIlACTUtT4=\n",
      "gabriel.senaris pbkdf2_sha256$150000$Q7Ss8LdnbaDk$hhqMzq13hujS/0pu6frKKmhS2os77VRWUajVK7wOUdI=\n",
      "gian.fakhouri \n",
      "giovana.gtrevizan pbkdf2_sha256$150000$CB2OwE4Lkqaz$5rXyNlwNjQi7oErDlYaNd3WggzM8B0fZJVCbCgOQeTw=\n",
      "giovane.aguado \n",
      "guilherme.amarante \n",
      "henrique.armarolli \n",
      "ingrid.farias pbkdf2_sha256$150000$k2PBVs63anzD$hPYIVobSRR0E2TfVoJ2IZ4+Qbm0hFy3Y1wFR/I5GKPI=\n",
      "isabela.silveira pbkdf2_sha256$150000$VQff7hnqqMbQ$0eS7T8IlhKLLRFbUlF6ovGqktqBxP42Qg01aFBa3Yco=\n",
      "italo.santos \n",
      "jessica.moreira \n"
     ]
    },
    {
     "name": "stdout",
     "output_type": "stream",
     "text": [
      "donelly.teixeira \n",
      "edilson.dsantos pbkdf2_sha256$150000$SbVsoN7RRoR6$BQFLZrJ+bV3iC1coAUigiUSNldwhwDZtLhxD1PH2n2w=\n",
      "elielso.pedroso pbkdf2_sha256$150000$0ijQ6EAT1QHX$rK1kYjjfH5CS+ylzIR6zqLrn3MoGyJ7DQpZIdUtIC2k=\n",
      "ellenaraujo.capitani pbkdf2_sha256$150000$zXiqfd4Vc2AU$C+egYg5LTV793SVJOgNV0X50Qf+9orW6BHeNcC0NHJM=\n",
      "emersom.silva pbkdf2_sha256$150000$SrQCERQwjsRz$4qYbRtT+i65YYgNytmyDjF63tF3Up61Wzj1MbCvSlO8=\n",
      "everton.ferreira pbkdf2_sha256$150000$b97mURiAu2Uc$vq1XXMMUpDQV9JNuPAOAciG9cfdUHdF20/EbzrsBofo=\n",
      "evertonpereira.capitani \n",
      "fabio.boton \n",
      "felipe.pires \n",
      "fernanda.pacheco \n",
      "fernando.anjos pbkdf2_sha256$150000$1A53bvYcHxY7$kHeUtd/6QejnfVtdLJh2vv7Lo7aVDBuiRGWDnyGocRE=\n",
      "fernando.fronza pbkdf2_sha256$150000$VvKvXnQ192O9$x31STo3mXA966wwlor4t65ytpRuUUpYDo9g5YwMWwhM=\n",
      "gabrielly.silva pbkdf2_sha256$150000$pLjvFcaw1P6Z$AbtGiBa9u28l2lUXFfFn2qG4c+q9q+Pvbl7mDmFF1Pw=\n",
      "gabriel.marcelo pbkdf2_sha256$150000$XBz93s9xLWI4$hq+awUtN8rvQnbV8gVAw3LZlmOwlsEGzuaIlACTUtT4=\n",
      "gabriel.senaris pbkdf2_sha256$150000$Q7Ss8LdnbaDk$hhqMzq13hujS/0pu6frKKmhS2os77VRWUajVK7wOUdI=\n",
      "gian.fakhouri \n",
      "giovana.gtrevizan pbkdf2_sha256$150000$CB2OwE4Lkqaz$5rXyNlwNjQi7oErDlYaNd3WggzM8B0fZJVCbCgOQeTw=\n",
      "giovane.aguado \n",
      "guilherme.amarante \n",
      "henrique.armarolli \n",
      "ingrid.farias pbkdf2_sha256$150000$k2PBVs63anzD$hPYIVobSRR0E2TfVoJ2IZ4+Qbm0hFy3Y1wFR/I5GKPI=\n",
      "isabela.silveira pbkdf2_sha256$150000$VQff7hnqqMbQ$0eS7T8IlhKLLRFbUlF6ovGqktqBxP42Qg01aFBa3Yco=\n",
      "italo.santos \n",
      "jessica.moreira \n",
      "donelly.teixeira \n",
      "edilson.dsantos pbkdf2_sha256$150000$SbVsoN7RRoR6$BQFLZrJ+bV3iC1coAUigiUSNldwhwDZtLhxD1PH2n2w=\n",
      "elielso.pedroso pbkdf2_sha256$150000$0ijQ6EAT1QHX$rK1kYjjfH5CS+ylzIR6zqLrn3MoGyJ7DQpZIdUtIC2k=\n",
      "ellenaraujo.capitani pbkdf2_sha256$150000$zXiqfd4Vc2AU$C+egYg5LTV793SVJOgNV0X50Qf+9orW6BHeNcC0NHJM=\n",
      "emersom.silva pbkdf2_sha256$150000$SrQCERQwjsRz$4qYbRtT+i65YYgNytmyDjF63tF3Up61Wzj1MbCvSlO8=\n",
      "everton.ferreira pbkdf2_sha256$150000$b97mURiAu2Uc$vq1XXMMUpDQV9JNuPAOAciG9cfdUHdF20/EbzrsBofo=\n",
      "evertonpereira.capitani \n",
      "fabio.boton \n",
      "felipe.pires \n",
      "fernanda.pacheco \n",
      "fernando.anjos pbkdf2_sha256$150000$1A53bvYcHxY7$kHeUtd/6QejnfVtdLJh2vv7Lo7aVDBuiRGWDnyGocRE=\n",
      "fernando.fronza pbkdf2_sha256$150000$VvKvXnQ192O9$x31STo3mXA966wwlor4t65ytpRuUUpYDo9g5YwMWwhM=\n",
      "gabrielly.silva pbkdf2_sha256$150000$pLjvFcaw1P6Z$AbtGiBa9u28l2lUXFfFn2qG4c+q9q+Pvbl7mDmFF1Pw=\n",
      "gabriel.marcelo pbkdf2_sha256$150000$XBz93s9xLWI4$hq+awUtN8rvQnbV8gVAw3LZlmOwlsEGzuaIlACTUtT4=\n",
      "gabriel.senaris pbkdf2_sha256$150000$Q7Ss8LdnbaDk$hhqMzq13hujS/0pu6frKKmhS2os77VRWUajVK7wOUdI=\n",
      "gian.fakhouri \n",
      "giovana.gtrevizan pbkdf2_sha256$150000$CB2OwE4Lkqaz$5rXyNlwNjQi7oErDlYaNd3WggzM8B0fZJVCbCgOQeTw=\n",
      "giovane.aguado \n",
      "guilherme.amarante \n",
      "henrique.armarolli \n",
      "ingrid.farias pbkdf2_sha256$150000$k2PBVs63anzD$hPYIVobSRR0E2TfVoJ2IZ4+Qbm0hFy3Y1wFR/I5GKPI=\n",
      "isabela.silveira pbkdf2_sha256$150000$VQff7hnqqMbQ$0eS7T8IlhKLLRFbUlF6ovGqktqBxP42Qg01aFBa3Yco=\n",
      "italo.santos \n",
      "jessica.moreira \n",
      "jhonnathan.souza \n",
      "joao.cairos pbkdf2_sha256$150000$xj6CXMPVFALL$szoyQFR/Ui7v1bytISANSRqRQveD3GINJNXwtbEZg1U=\n",
      "juliana.maeda \n",
      "julia.santos pbkdf2_sha256$150000$JOMVLeiqPJrm$IGduK1DzUKo67OtD7F21L+9CmB5dgb7+64qmawk+9zg=\n",
      "karina.akiko \n",
      "kevin.castro pbkdf2_sha256$150000$J7QTjzYF07oW$oaoWjf3PKOIenbcvThDnFyQyhr5r1LsK1IPwyOOXdPs=\n",
      "laylla.souza \n",
      "leandro.barzanelli \n",
      "leonardo.vsantos \n",
      "lucas.aragao \n",
      "lucas.biasotto pbkdf2_sha256$150000$16qf8TssJ8XK$MStXM1yrwJl00Lbi5leDzj/XT5Oza2TXSXL2qJdiBxU=\n",
      "lucas.mariano pbkdf2_sha256$150000$FXjnwpqh31J3$AfCMOJKjycwpjvHogVbPNjr3eM0maujEeVtdTLlW9uA=\n",
      "luiza.medeiros \n",
      "luiz.santana pbkdf2_sha256$150000$V5OVa3x4OEWA$TxDROd2fDTExEIHI19jFOa7CvrS+fpJ7DF1qC6PisrU=\n",
      "luiz.vpereira \n",
      "maiara.viel \n",
      "marcelo.rodrigues pbkdf2_sha256$150000$wbbKjyOuPFnh$UbTCCReCWOeqWQuraeBvbl67M7eYqif5SDZBvVq67U4=\n",
      "marcia.leal \n",
      "marcus.vinicius@grupoccr.com.br pbkdf2_sha256$150000$KS43TOtBNo7Y$K+PnHFC+Z/aG6EzmL5GyVgvIr8dUmzb+UeuSip9y6Bw=\n",
      "mario.ferreira \n",
      "matheus.bueno pbkdf2_sha256$150000$jCbdLDESB1AP$OtMZ0ELcK4S57Tka9furV28TR4VRxk5Eq/f/iXaEf5g=\n",
      "matheus.narusevicius pbkdf2_sha256$150000$oCjIZB0SnGCC$cnKA7oK+jVoyaok2ZLgnl5vV532N1oY5/++O7BvYZkc=\n",
      "nathalia.aferreira pbkdf2_sha256$150000$MOfkvWMfcIul$CXKc8OiT/nDSps7CMP/qXk7q8jbz8OKvDDL5SpYy3I8=\n",
      "nikolas.maciel pbkdf2_sha256$150000$aChCiTDNx2JM$3uRlEHowOyYoKn5iysWuxU2gFuYMlVaGxrlYCWQewNw=\n",
      "pedro.cicci \n",
      "pedro.moliveira pbkdf2_sha256$150000$0iwyCO1bejFn$zP5PUaoKpoerpSSrAn6zrT8eV1Il3jQfLt9YnjNlUQI=\n",
      "jhonnathan.souza \n",
      "joao.cairos pbkdf2_sha256$150000$xj6CXMPVFALL$szoyQFR/Ui7v1bytISANSRqRQveD3GINJNXwtbEZg1U=\n",
      "juliana.maeda \n",
      "julia.santos pbkdf2_sha256$150000$JOMVLeiqPJrm$IGduK1DzUKo67OtD7F21L+9CmB5dgb7+64qmawk+9zg=\n",
      "karina.akiko \n",
      "kevin.castro pbkdf2_sha256$150000$J7QTjzYF07oW$oaoWjf3PKOIenbcvThDnFyQyhr5r1LsK1IPwyOOXdPs=\n",
      "laylla.souza \n",
      "leandro.barzanelli \n",
      "leonardo.vsantos \n",
      "lucas.aragao \n",
      "lucas.biasotto pbkdf2_sha256$150000$16qf8TssJ8XK$MStXM1yrwJl00Lbi5leDzj/XT5Oza2TXSXL2qJdiBxU=\n",
      "lucas.mariano pbkdf2_sha256$150000$FXjnwpqh31J3$AfCMOJKjycwpjvHogVbPNjr3eM0maujEeVtdTLlW9uA=\n",
      "luiza.medeiros \n",
      "luiz.santana pbkdf2_sha256$150000$V5OVa3x4OEWA$TxDROd2fDTExEIHI19jFOa7CvrS+fpJ7DF1qC6PisrU=\n",
      "luiz.vpereira \n",
      "maiara.viel \n",
      "marcelo.rodrigues pbkdf2_sha256$150000$wbbKjyOuPFnh$UbTCCReCWOeqWQuraeBvbl67M7eYqif5SDZBvVq67U4=\n",
      "marcia.leal \n",
      "marcus.vinicius@grupoccr.com.br pbkdf2_sha256$150000$KS43TOtBNo7Y$K+PnHFC+Z/aG6EzmL5GyVgvIr8dUmzb+UeuSip9y6Bw=\n",
      "mario.ferreira \n",
      "matheus.bueno pbkdf2_sha256$150000$jCbdLDESB1AP$OtMZ0ELcK4S57Tka9furV28TR4VRxk5Eq/f/iXaEf5g=\n",
      "matheus.narusevicius pbkdf2_sha256$150000$oCjIZB0SnGCC$cnKA7oK+jVoyaok2ZLgnl5vV532N1oY5/++O7BvYZkc=\n",
      "nathalia.aferreira pbkdf2_sha256$150000$MOfkvWMfcIul$CXKc8OiT/nDSps7CMP/qXk7q8jbz8OKvDDL5SpYy3I8=\n",
      "nikolas.maciel pbkdf2_sha256$150000$aChCiTDNx2JM$3uRlEHowOyYoKn5iysWuxU2gFuYMlVaGxrlYCWQewNw=\n",
      "pedro.cicci \n",
      "pedro.moliveira pbkdf2_sha256$150000$0iwyCO1bejFn$zP5PUaoKpoerpSSrAn6zrT8eV1Il3jQfLt9YnjNlUQI=\n",
      "jhonnathan.souza \n",
      "joao.cairos pbkdf2_sha256$150000$xj6CXMPVFALL$szoyQFR/Ui7v1bytISANSRqRQveD3GINJNXwtbEZg1U=\n",
      "juliana.maeda \n",
      "julia.santos pbkdf2_sha256$150000$JOMVLeiqPJrm$IGduK1DzUKo67OtD7F21L+9CmB5dgb7+64qmawk+9zg=\n",
      "karina.akiko \n",
      "kevin.castro pbkdf2_sha256$150000$J7QTjzYF07oW$oaoWjf3PKOIenbcvThDnFyQyhr5r1LsK1IPwyOOXdPs=\n",
      "laylla.souza \n",
      "leandro.barzanelli \n",
      "leonardo.vsantos \n",
      "lucas.aragao \n",
      "lucas.biasotto pbkdf2_sha256$150000$16qf8TssJ8XK$MStXM1yrwJl00Lbi5leDzj/XT5Oza2TXSXL2qJdiBxU=\n",
      "lucas.mariano pbkdf2_sha256$150000$FXjnwpqh31J3$AfCMOJKjycwpjvHogVbPNjr3eM0maujEeVtdTLlW9uA=\n",
      "luiza.medeiros \n",
      "luiz.santana pbkdf2_sha256$150000$V5OVa3x4OEWA$TxDROd2fDTExEIHI19jFOa7CvrS+fpJ7DF1qC6PisrU=\n",
      "luiz.vpereira \n",
      "maiara.viel \n",
      "marcelo.rodrigues pbkdf2_sha256$150000$wbbKjyOuPFnh$UbTCCReCWOeqWQuraeBvbl67M7eYqif5SDZBvVq67U4=\n",
      "marcia.leal \n",
      "marcus.vinicius@grupoccr.com.br pbkdf2_sha256$150000$KS43TOtBNo7Y$K+PnHFC+Z/aG6EzmL5GyVgvIr8dUmzb+UeuSip9y6Bw=\n",
      "mario.ferreira \n",
      "matheus.bueno pbkdf2_sha256$150000$jCbdLDESB1AP$OtMZ0ELcK4S57Tka9furV28TR4VRxk5Eq/f/iXaEf5g=\n",
      "matheus.narusevicius pbkdf2_sha256$150000$oCjIZB0SnGCC$cnKA7oK+jVoyaok2ZLgnl5vV532N1oY5/++O7BvYZkc=\n",
      "nathalia.aferreira pbkdf2_sha256$150000$MOfkvWMfcIul$CXKc8OiT/nDSps7CMP/qXk7q8jbz8OKvDDL5SpYy3I8=\n",
      "nikolas.maciel pbkdf2_sha256$150000$aChCiTDNx2JM$3uRlEHowOyYoKn5iysWuxU2gFuYMlVaGxrlYCWQewNw=\n",
      "pedro.cicci \n",
      "pedro.moliveira pbkdf2_sha256$150000$0iwyCO1bejFn$zP5PUaoKpoerpSSrAn6zrT8eV1Il3jQfLt9YnjNlUQI=\n",
      "jhonnathan.souza \n",
      "joao.cairos pbkdf2_sha256$150000$xj6CXMPVFALL$szoyQFR/Ui7v1bytISANSRqRQveD3GINJNXwtbEZg1U=\n",
      "juliana.maeda \n",
      "julia.santos pbkdf2_sha256$150000$JOMVLeiqPJrm$IGduK1DzUKo67OtD7F21L+9CmB5dgb7+64qmawk+9zg=\n",
      "karina.akiko \n",
      "kevin.castro pbkdf2_sha256$150000$J7QTjzYF07oW$oaoWjf3PKOIenbcvThDnFyQyhr5r1LsK1IPwyOOXdPs=\n",
      "laylla.souza \n",
      "leandro.barzanelli \n",
      "leonardo.vsantos \n",
      "lucas.aragao \n",
      "lucas.biasotto pbkdf2_sha256$150000$16qf8TssJ8XK$MStXM1yrwJl00Lbi5leDzj/XT5Oza2TXSXL2qJdiBxU=\n",
      "lucas.mariano pbkdf2_sha256$150000$FXjnwpqh31J3$AfCMOJKjycwpjvHogVbPNjr3eM0maujEeVtdTLlW9uA=\n",
      "luiza.medeiros \n",
      "luiz.santana pbkdf2_sha256$150000$V5OVa3x4OEWA$TxDROd2fDTExEIHI19jFOa7CvrS+fpJ7DF1qC6PisrU=\n",
      "luiz.vpereira \n",
      "maiara.viel \n",
      "marcelo.rodrigues pbkdf2_sha256$150000$wbbKjyOuPFnh$UbTCCReCWOeqWQuraeBvbl67M7eYqif5SDZBvVq67U4=\n",
      "marcia.leal \n",
      "marcus.vinicius@grupoccr.com.br pbkdf2_sha256$150000$KS43TOtBNo7Y$K+PnHFC+Z/aG6EzmL5GyVgvIr8dUmzb+UeuSip9y6Bw=\n",
      "mario.ferreira \n",
      "matheus.bueno pbkdf2_sha256$150000$jCbdLDESB1AP$OtMZ0ELcK4S57Tka9furV28TR4VRxk5Eq/f/iXaEf5g=\n",
      "matheus.narusevicius pbkdf2_sha256$150000$oCjIZB0SnGCC$cnKA7oK+jVoyaok2ZLgnl5vV532N1oY5/++O7BvYZkc=\n",
      "nathalia.aferreira pbkdf2_sha256$150000$MOfkvWMfcIul$CXKc8OiT/nDSps7CMP/qXk7q8jbz8OKvDDL5SpYy3I8=\n",
      "nikolas.maciel pbkdf2_sha256$150000$aChCiTDNx2JM$3uRlEHowOyYoKn5iysWuxU2gFuYMlVaGxrlYCWQewNw=\n",
      "pedro.cicci \n",
      "pedro.moliveira pbkdf2_sha256$150000$0iwyCO1bejFn$zP5PUaoKpoerpSSrAn6zrT8eV1Il3jQfLt9YnjNlUQI=\n"
     ]
    },
    {
     "name": "stdout",
     "output_type": "stream",
     "text": [
      "poliana.oliveira pbkdf2_sha256$150000$7dBFaxE0FdYh$/wRLDEkFTll/blM7/U3UaAVR2+2qEk0Gnuuj4a/fw0w=\n",
      "rafaelasilva.act pbkdf2_sha256$150000$juzgf208EciW$F83cwjVTfMwH3dFIGgv5AsZ38V+lYiic8dH/d4BU4F0=\n",
      "rafael.menegatti pbkdf2_sha256$150000$xKdsv7i3atQb$ikVGaLcWH/2+niP/nju+X8vp6PswkiasvIKAthrzOtM=\n",
      "raquel.bassam \n",
      "regiane.villa \n",
      "renata.caroline \n",
      "rodrigo.pedrozo pbkdf2_sha256$150000$Ynozh630LvbT$cfdWCzEUIYwFBZkl8YUmzNrC8zEPPOTJJzZanOXoJLg=\n",
      "ronaldopincinato.act pbkdf2_sha256$150000$rY9HK9tkXEK7$yq2k0bEUbWj95ubABmmHcUCEB3UEiNGJixD1zmE1rGY=\n",
      "roseli.rocha pbkdf2_sha256$150000$z1PKb6uCpLfi$o4uFw2FdMF+4hP5rr8Q5uuDk/VhX7Mtdmm6dXNRE6lk=\n",
      "ruan.maciel \n",
      "sabrina.poubel \n",
      "steffani.siman pbkdf2_sha256$150000$oEaU1EjZmEfP$PgvW4P/SHkvRMPh22ii2Cvss7utkJfgrjT0WWQDTyMM=\n",
      "tainara.ramos pbkdf2_sha256$150000$CQNzN8LFVwJP$Uw6dEj1n18V3ledv1IthEZjtYc9pfNvx5ap/3GlsC+c=\n",
      "talita.almeida pbkdf2_sha256$150000$qINDLDCbDPyi$84L2FFrdeA9givv9Bob3uZ3fmavsTiMTCeA/DqY8/3I=\n",
      "talita.ventura pbkdf2_sha256$150000$yNOuB9CvaGQa$0UoE13ypnA2ZlXWSV7oqIwCTa8qbOFFxHgvliFiS+X8=\n",
      "tatiana.rodrigues \n",
      "thais.rosa pbkdf2_sha256$150000$lXbVGyl8UKS7$z3ZRPT9vHKwjrTv47a8HT4r5ebKz4gCZroBqAJszGLc=\n",
      "thiago.almeida pbkdf2_sha256$150000$MTH411FRtgNY$Vb76q7sa/b3Oe/of8lmBdCfG7USyDIQn9JS0GSraJxs=\n",
      "thiago.susuki@grupoccr.com.br pbkdf2_sha256$150000$jqxCiHuFaiis$HP1mEZyHfC0X16eEhWF3mIEXOtDJ6q6BX5CwEeHM5Q0=\n",
      "valdir.rodrigo \n",
      "viviane.ssilva pbkdf2_sha256$150000$2Byx7UKbHe35$myJqEIzK6r34TyTbEMyQZEtYVk3gR6TcmXmf9MFHqYA=\n",
      "willians.roberto pbkdf2_sha256$150000$jABPoqbMI86G$tZEmfhO7kMjTmx6mORmAeqWuFWckcxu7ij2n0NUPsR4=\n",
      "wilson.matiazi \n",
      "poliana.oliveira pbkdf2_sha256$150000$7dBFaxE0FdYh$/wRLDEkFTll/blM7/U3UaAVR2+2qEk0Gnuuj4a/fw0w=\n",
      "rafaelasilva.act pbkdf2_sha256$150000$juzgf208EciW$F83cwjVTfMwH3dFIGgv5AsZ38V+lYiic8dH/d4BU4F0=\n",
      "rafael.menegatti pbkdf2_sha256$150000$xKdsv7i3atQb$ikVGaLcWH/2+niP/nju+X8vp6PswkiasvIKAthrzOtM=\n",
      "raquel.bassam \n",
      "regiane.villa \n",
      "renata.caroline \n",
      "rodrigo.pedrozo pbkdf2_sha256$150000$Ynozh630LvbT$cfdWCzEUIYwFBZkl8YUmzNrC8zEPPOTJJzZanOXoJLg=\n",
      "ronaldopincinato.act pbkdf2_sha256$150000$rY9HK9tkXEK7$yq2k0bEUbWj95ubABmmHcUCEB3UEiNGJixD1zmE1rGY=\n",
      "roseli.rocha pbkdf2_sha256$150000$z1PKb6uCpLfi$o4uFw2FdMF+4hP5rr8Q5uuDk/VhX7Mtdmm6dXNRE6lk=\n",
      "ruan.maciel \n",
      "sabrina.poubel \n",
      "steffani.siman pbkdf2_sha256$150000$oEaU1EjZmEfP$PgvW4P/SHkvRMPh22ii2Cvss7utkJfgrjT0WWQDTyMM=\n",
      "tainara.ramos pbkdf2_sha256$150000$CQNzN8LFVwJP$Uw6dEj1n18V3ledv1IthEZjtYc9pfNvx5ap/3GlsC+c=\n",
      "talita.almeida pbkdf2_sha256$150000$qINDLDCbDPyi$84L2FFrdeA9givv9Bob3uZ3fmavsTiMTCeA/DqY8/3I=\n",
      "talita.ventura pbkdf2_sha256$150000$yNOuB9CvaGQa$0UoE13ypnA2ZlXWSV7oqIwCTa8qbOFFxHgvliFiS+X8=\n",
      "tatiana.rodrigues \n",
      "thais.rosa pbkdf2_sha256$150000$lXbVGyl8UKS7$z3ZRPT9vHKwjrTv47a8HT4r5ebKz4gCZroBqAJszGLc=\n",
      "thiago.almeida pbkdf2_sha256$150000$MTH411FRtgNY$Vb76q7sa/b3Oe/of8lmBdCfG7USyDIQn9JS0GSraJxs=\n",
      "thiago.susuki@grupoccr.com.br pbkdf2_sha256$150000$jqxCiHuFaiis$HP1mEZyHfC0X16eEhWF3mIEXOtDJ6q6BX5CwEeHM5Q0=\n",
      "valdir.rodrigo \n",
      "viviane.ssilva pbkdf2_sha256$150000$2Byx7UKbHe35$myJqEIzK6r34TyTbEMyQZEtYVk3gR6TcmXmf9MFHqYA=\n",
      "willians.roberto pbkdf2_sha256$150000$jABPoqbMI86G$tZEmfhO7kMjTmx6mORmAeqWuFWckcxu7ij2n0NUPsR4=\n",
      "wilson.matiazi \n",
      "poliana.oliveira pbkdf2_sha256$150000$7dBFaxE0FdYh$/wRLDEkFTll/blM7/U3UaAVR2+2qEk0Gnuuj4a/fw0w=\n",
      "rafaelasilva.act pbkdf2_sha256$150000$juzgf208EciW$F83cwjVTfMwH3dFIGgv5AsZ38V+lYiic8dH/d4BU4F0=\n",
      "rafael.menegatti pbkdf2_sha256$150000$xKdsv7i3atQb$ikVGaLcWH/2+niP/nju+X8vp6PswkiasvIKAthrzOtM=\n",
      "raquel.bassam \n",
      "regiane.villa \n",
      "renata.caroline \n",
      "rodrigo.pedrozo pbkdf2_sha256$150000$Ynozh630LvbT$cfdWCzEUIYwFBZkl8YUmzNrC8zEPPOTJJzZanOXoJLg=\n",
      "ronaldopincinato.act pbkdf2_sha256$150000$rY9HK9tkXEK7$yq2k0bEUbWj95ubABmmHcUCEB3UEiNGJixD1zmE1rGY=\n",
      "roseli.rocha pbkdf2_sha256$150000$z1PKb6uCpLfi$o4uFw2FdMF+4hP5rr8Q5uuDk/VhX7Mtdmm6dXNRE6lk=\n",
      "ruan.maciel \n",
      "sabrina.poubel \n",
      "steffani.siman pbkdf2_sha256$150000$oEaU1EjZmEfP$PgvW4P/SHkvRMPh22ii2Cvss7utkJfgrjT0WWQDTyMM=\n",
      "tainara.ramos pbkdf2_sha256$150000$CQNzN8LFVwJP$Uw6dEj1n18V3ledv1IthEZjtYc9pfNvx5ap/3GlsC+c=\n",
      "talita.almeida pbkdf2_sha256$150000$qINDLDCbDPyi$84L2FFrdeA9givv9Bob3uZ3fmavsTiMTCeA/DqY8/3I=\n",
      "talita.ventura pbkdf2_sha256$150000$yNOuB9CvaGQa$0UoE13ypnA2ZlXWSV7oqIwCTa8qbOFFxHgvliFiS+X8=\n",
      "tatiana.rodrigues \n",
      "thais.rosa pbkdf2_sha256$150000$lXbVGyl8UKS7$z3ZRPT9vHKwjrTv47a8HT4r5ebKz4gCZroBqAJszGLc=\n",
      "thiago.almeida pbkdf2_sha256$150000$MTH411FRtgNY$Vb76q7sa/b3Oe/of8lmBdCfG7USyDIQn9JS0GSraJxs=\n",
      "thiago.susuki@grupoccr.com.br pbkdf2_sha256$150000$jqxCiHuFaiis$HP1mEZyHfC0X16eEhWF3mIEXOtDJ6q6BX5CwEeHM5Q0=\n",
      "valdir.rodrigo \n",
      "viviane.ssilva pbkdf2_sha256$150000$2Byx7UKbHe35$myJqEIzK6r34TyTbEMyQZEtYVk3gR6TcmXmf9MFHqYA=\n",
      "willians.roberto pbkdf2_sha256$150000$jABPoqbMI86G$tZEmfhO7kMjTmx6mORmAeqWuFWckcxu7ij2n0NUPsR4=\n",
      "wilson.matiazi \n",
      "poliana.oliveira pbkdf2_sha256$150000$7dBFaxE0FdYh$/wRLDEkFTll/blM7/U3UaAVR2+2qEk0Gnuuj4a/fw0w=\n",
      "rafaelasilva.act pbkdf2_sha256$150000$juzgf208EciW$F83cwjVTfMwH3dFIGgv5AsZ38V+lYiic8dH/d4BU4F0=\n",
      "rafael.menegatti pbkdf2_sha256$150000$xKdsv7i3atQb$ikVGaLcWH/2+niP/nju+X8vp6PswkiasvIKAthrzOtM=\n",
      "raquel.bassam \n",
      "regiane.villa \n",
      "renata.caroline \n",
      "rodrigo.pedrozo pbkdf2_sha256$150000$Ynozh630LvbT$cfdWCzEUIYwFBZkl8YUmzNrC8zEPPOTJJzZanOXoJLg=\n",
      "ronaldopincinato.act pbkdf2_sha256$150000$rY9HK9tkXEK7$yq2k0bEUbWj95ubABmmHcUCEB3UEiNGJixD1zmE1rGY=\n",
      "roseli.rocha pbkdf2_sha256$150000$z1PKb6uCpLfi$o4uFw2FdMF+4hP5rr8Q5uuDk/VhX7Mtdmm6dXNRE6lk=\n",
      "ruan.maciel \n",
      "sabrina.poubel \n",
      "steffani.siman pbkdf2_sha256$150000$oEaU1EjZmEfP$PgvW4P/SHkvRMPh22ii2Cvss7utkJfgrjT0WWQDTyMM=\n",
      "tainara.ramos pbkdf2_sha256$150000$CQNzN8LFVwJP$Uw6dEj1n18V3ledv1IthEZjtYc9pfNvx5ap/3GlsC+c=\n",
      "talita.almeida pbkdf2_sha256$150000$qINDLDCbDPyi$84L2FFrdeA9givv9Bob3uZ3fmavsTiMTCeA/DqY8/3I=\n",
      "talita.ventura pbkdf2_sha256$150000$yNOuB9CvaGQa$0UoE13ypnA2ZlXWSV7oqIwCTa8qbOFFxHgvliFiS+X8=\n",
      "tatiana.rodrigues \n",
      "thais.rosa pbkdf2_sha256$150000$lXbVGyl8UKS7$z3ZRPT9vHKwjrTv47a8HT4r5ebKz4gCZroBqAJszGLc=\n",
      "thiago.almeida pbkdf2_sha256$150000$MTH411FRtgNY$Vb76q7sa/b3Oe/of8lmBdCfG7USyDIQn9JS0GSraJxs=\n",
      "thiago.susuki@grupoccr.com.br pbkdf2_sha256$150000$jqxCiHuFaiis$HP1mEZyHfC0X16eEhWF3mIEXOtDJ6q6BX5CwEeHM5Q0=\n",
      "valdir.rodrigo \n",
      "viviane.ssilva pbkdf2_sha256$150000$2Byx7UKbHe35$myJqEIzK6r34TyTbEMyQZEtYVk3gR6TcmXmf9MFHqYA=\n",
      "willians.roberto pbkdf2_sha256$150000$jABPoqbMI86G$tZEmfhO7kMjTmx6mORmAeqWuFWckcxu7ij2n0NUPsR4=\n",
      "wilson.matiazi \n"
     ]
    }
   ],
   "source": [
    "for a in User.objects.filter(saml_nameid__isnull=False).order_by('username'):\n",
    "    if a.saml_nameid is not None:\n",
    "        try:\n",
    "            user = a.history.all().order_by('-history_date')[1]\n",
    "#             user.instance.save()\n",
    "            print(a.username,a.password)\n",
    "        except:\n",
    "            pass\n",
    "#         a.password = ''\n",
    "#         a.save()\n",
    "#         print(a.username,a.password)"
   ]
  },
  {
   "cell_type": "code",
   "execution_count": 7,
   "id": "138ab56c",
   "metadata": {},
   "outputs": [],
   "source": [
    "for a in Reporting.objects.filter(point__isnull=True):\n",
    "#     a.save()\n",
    "    print(a.km,a.road_name)"
   ]
  },
  {
   "cell_type": "code",
   "execution_count": 8,
   "id": "16f5da0c",
   "metadata": {},
   "outputs": [
    {
     "data": {
      "text/plain": [
       "<QuerySet []>"
      ]
     },
     "execution_count": 8,
     "metadata": {},
     "output_type": "execute_result"
    },
    {
     "data": {
      "text/plain": [
       "<QuerySet []>"
      ]
     },
     "execution_count": 8,
     "metadata": {},
     "output_type": "execute_result"
    },
    {
     "data": {
      "text/plain": [
       "<QuerySet []>"
      ]
     },
     "execution_count": 8,
     "metadata": {},
     "output_type": "execute_result"
    },
    {
     "data": {
      "text/plain": [
       "<QuerySet []>"
      ]
     },
     "execution_count": 8,
     "metadata": {},
     "output_type": "execute_result"
    }
   ],
   "source": [
    "Reporting.objects.filter(point__isnull=True)"
   ]
  },
  {
   "cell_type": "code",
   "execution_count": 9,
   "id": "87e3d85c",
   "metadata": {},
   "outputs": [],
   "source": [
    "from openpyxl import load_workbook"
   ]
  },
  {
   "cell_type": "code",
   "execution_count": 10,
   "id": "6f26b9ef",
   "metadata": {},
   "outputs": [],
   "source": [
    "filename='Template - Monitoração - Barreira - BR-101 - Submetido'"
   ]
  },
  {
   "cell_type": "code",
   "execution_count": 11,
   "id": "746f0728",
   "metadata": {},
   "outputs": [
    {
     "ename": "FileNotFoundError",
     "evalue": "[Errno 2] No such file or directory: 'Template - Monitoração - Barreira - BR-101 - Submetido.xlsx'",
     "output_type": "error",
     "traceback": [
      "\u001b[0;31m---------------------------------------------------------------------------\u001b[0m",
      "\u001b[0;31mFileNotFoundError\u001b[0m                         Traceback (most recent call last)",
      "\u001b[0;32m/tmp/ipykernel_6319/3625402259.py\u001b[0m in \u001b[0;36m<cell line: 1>\u001b[0;34m()\u001b[0m\n\u001b[0;32m----> 1\u001b[0;31m \u001b[0mwb\u001b[0m \u001b[0;34m=\u001b[0m \u001b[0mload_workbook\u001b[0m\u001b[0;34m(\u001b[0m\u001b[0mfilename\u001b[0m \u001b[0;34m+\u001b[0m \u001b[0;34m'.xlsx'\u001b[0m\u001b[0;34m)\u001b[0m\u001b[0;34m\u001b[0m\u001b[0;34m\u001b[0m\u001b[0m\n\u001b[0m\u001b[1;32m      2\u001b[0m \u001b[0msheetname\u001b[0m \u001b[0;34m=\u001b[0m \u001b[0mwb\u001b[0m\u001b[0;34m.\u001b[0m\u001b[0msheetnames\u001b[0m\u001b[0;34m[\u001b[0m\u001b[0;36m0\u001b[0m\u001b[0;34m]\u001b[0m\u001b[0;34m\u001b[0m\u001b[0;34m\u001b[0m\u001b[0m\n\u001b[1;32m      3\u001b[0m \u001b[0;31m# sheetname\u001b[0m\u001b[0;34m\u001b[0m\u001b[0;34m\u001b[0m\u001b[0;34m\u001b[0m\u001b[0m\n\u001b[1;32m      4\u001b[0m \u001b[0mws\u001b[0m \u001b[0;34m=\u001b[0m \u001b[0mwb\u001b[0m\u001b[0;34m[\u001b[0m\u001b[0msheetname\u001b[0m\u001b[0;34m]\u001b[0m\u001b[0;34m\u001b[0m\u001b[0;34m\u001b[0m\u001b[0m\n",
      "\u001b[0;32m~/.cache/pypoetry/virtualenvs/apps-ZFymp6kh-py3.8/lib/python3.8/site-packages/openpyxl/reader/excel.py\u001b[0m in \u001b[0;36mload_workbook\u001b[0;34m(filename, read_only, keep_vba, data_only, keep_links)\u001b[0m\n\u001b[1;32m    313\u001b[0m \u001b[0;34m\u001b[0m\u001b[0m\n\u001b[1;32m    314\u001b[0m     \"\"\"\n\u001b[0;32m--> 315\u001b[0;31m     reader = ExcelReader(filename, read_only, keep_vba,\n\u001b[0m\u001b[1;32m    316\u001b[0m                         data_only, keep_links)\n\u001b[1;32m    317\u001b[0m     \u001b[0mreader\u001b[0m\u001b[0;34m.\u001b[0m\u001b[0mread\u001b[0m\u001b[0;34m(\u001b[0m\u001b[0;34m)\u001b[0m\u001b[0;34m\u001b[0m\u001b[0;34m\u001b[0m\u001b[0m\n",
      "\u001b[0;32m~/.cache/pypoetry/virtualenvs/apps-ZFymp6kh-py3.8/lib/python3.8/site-packages/openpyxl/reader/excel.py\u001b[0m in \u001b[0;36m__init__\u001b[0;34m(self, fn, read_only, keep_vba, data_only, keep_links)\u001b[0m\n\u001b[1;32m    122\u001b[0m     def __init__(self,  fn, read_only=False, keep_vba=KEEP_VBA,\n\u001b[1;32m    123\u001b[0m                   data_only=False, keep_links=True):\n\u001b[0;32m--> 124\u001b[0;31m         \u001b[0mself\u001b[0m\u001b[0;34m.\u001b[0m\u001b[0marchive\u001b[0m \u001b[0;34m=\u001b[0m \u001b[0m_validate_archive\u001b[0m\u001b[0;34m(\u001b[0m\u001b[0mfn\u001b[0m\u001b[0;34m)\u001b[0m\u001b[0;34m\u001b[0m\u001b[0;34m\u001b[0m\u001b[0m\n\u001b[0m\u001b[1;32m    125\u001b[0m         \u001b[0mself\u001b[0m\u001b[0;34m.\u001b[0m\u001b[0mvalid_files\u001b[0m \u001b[0;34m=\u001b[0m \u001b[0mself\u001b[0m\u001b[0;34m.\u001b[0m\u001b[0marchive\u001b[0m\u001b[0;34m.\u001b[0m\u001b[0mnamelist\u001b[0m\u001b[0;34m(\u001b[0m\u001b[0;34m)\u001b[0m\u001b[0;34m\u001b[0m\u001b[0;34m\u001b[0m\u001b[0m\n\u001b[1;32m    126\u001b[0m         \u001b[0mself\u001b[0m\u001b[0;34m.\u001b[0m\u001b[0mread_only\u001b[0m \u001b[0;34m=\u001b[0m \u001b[0mread_only\u001b[0m\u001b[0;34m\u001b[0m\u001b[0;34m\u001b[0m\u001b[0m\n",
      "\u001b[0;32m~/.cache/pypoetry/virtualenvs/apps-ZFymp6kh-py3.8/lib/python3.8/site-packages/openpyxl/reader/excel.py\u001b[0m in \u001b[0;36m_validate_archive\u001b[0;34m(filename)\u001b[0m\n\u001b[1;32m     94\u001b[0m             \u001b[0;32mraise\u001b[0m \u001b[0mInvalidFileException\u001b[0m\u001b[0;34m(\u001b[0m\u001b[0mmsg\u001b[0m\u001b[0;34m)\u001b[0m\u001b[0;34m\u001b[0m\u001b[0;34m\u001b[0m\u001b[0m\n\u001b[1;32m     95\u001b[0m \u001b[0;34m\u001b[0m\u001b[0m\n\u001b[0;32m---> 96\u001b[0;31m     \u001b[0marchive\u001b[0m \u001b[0;34m=\u001b[0m \u001b[0mZipFile\u001b[0m\u001b[0;34m(\u001b[0m\u001b[0mfilename\u001b[0m\u001b[0;34m,\u001b[0m \u001b[0;34m'r'\u001b[0m\u001b[0;34m)\u001b[0m\u001b[0;34m\u001b[0m\u001b[0;34m\u001b[0m\u001b[0m\n\u001b[0m\u001b[1;32m     97\u001b[0m     \u001b[0;32mreturn\u001b[0m \u001b[0marchive\u001b[0m\u001b[0;34m\u001b[0m\u001b[0;34m\u001b[0m\u001b[0m\n\u001b[1;32m     98\u001b[0m \u001b[0;34m\u001b[0m\u001b[0m\n",
      "\u001b[0;32m~/.pyenv/versions/3.8.16/lib/python3.8/zipfile.py\u001b[0m in \u001b[0;36m__init__\u001b[0;34m(self, file, mode, compression, allowZip64, compresslevel, strict_timestamps)\u001b[0m\n\u001b[1;32m   1249\u001b[0m             \u001b[0;32mwhile\u001b[0m \u001b[0;32mTrue\u001b[0m\u001b[0;34m:\u001b[0m\u001b[0;34m\u001b[0m\u001b[0;34m\u001b[0m\u001b[0m\n\u001b[1;32m   1250\u001b[0m                 \u001b[0;32mtry\u001b[0m\u001b[0;34m:\u001b[0m\u001b[0;34m\u001b[0m\u001b[0;34m\u001b[0m\u001b[0m\n\u001b[0;32m-> 1251\u001b[0;31m                     \u001b[0mself\u001b[0m\u001b[0;34m.\u001b[0m\u001b[0mfp\u001b[0m \u001b[0;34m=\u001b[0m \u001b[0mio\u001b[0m\u001b[0;34m.\u001b[0m\u001b[0mopen\u001b[0m\u001b[0;34m(\u001b[0m\u001b[0mfile\u001b[0m\u001b[0;34m,\u001b[0m \u001b[0mfilemode\u001b[0m\u001b[0;34m)\u001b[0m\u001b[0;34m\u001b[0m\u001b[0;34m\u001b[0m\u001b[0m\n\u001b[0m\u001b[1;32m   1252\u001b[0m                 \u001b[0;32mexcept\u001b[0m \u001b[0mOSError\u001b[0m\u001b[0;34m:\u001b[0m\u001b[0;34m\u001b[0m\u001b[0;34m\u001b[0m\u001b[0m\n\u001b[1;32m   1253\u001b[0m                     \u001b[0;32mif\u001b[0m \u001b[0mfilemode\u001b[0m \u001b[0;32min\u001b[0m \u001b[0mmodeDict\u001b[0m\u001b[0;34m:\u001b[0m\u001b[0;34m\u001b[0m\u001b[0;34m\u001b[0m\u001b[0m\n",
      "\u001b[0;31mFileNotFoundError\u001b[0m: [Errno 2] No such file or directory: 'Template - Monitoração - Barreira - BR-101 - Submetido.xlsx'"
     ]
    },
    {
     "ename": "FileNotFoundError",
     "evalue": "[Errno 2] No such file or directory: 'Template - Monitoração - Barreira - BR-101 - Submetido.xlsx'",
     "output_type": "error",
     "traceback": [
      "\u001b[0;31m---------------------------------------------------------------------------\u001b[0m",
      "\u001b[0;31mFileNotFoundError\u001b[0m                         Traceback (most recent call last)",
      "\u001b[0;32m/tmp/ipykernel_6319/3625402259.py\u001b[0m in \u001b[0;36m<cell line: 1>\u001b[0;34m()\u001b[0m\n\u001b[0;32m----> 1\u001b[0;31m \u001b[0mwb\u001b[0m \u001b[0;34m=\u001b[0m \u001b[0mload_workbook\u001b[0m\u001b[0;34m(\u001b[0m\u001b[0mfilename\u001b[0m \u001b[0;34m+\u001b[0m \u001b[0;34m'.xlsx'\u001b[0m\u001b[0;34m)\u001b[0m\u001b[0;34m\u001b[0m\u001b[0;34m\u001b[0m\u001b[0m\n\u001b[0m\u001b[1;32m      2\u001b[0m \u001b[0msheetname\u001b[0m \u001b[0;34m=\u001b[0m \u001b[0mwb\u001b[0m\u001b[0;34m.\u001b[0m\u001b[0msheetnames\u001b[0m\u001b[0;34m[\u001b[0m\u001b[0;36m0\u001b[0m\u001b[0;34m]\u001b[0m\u001b[0;34m\u001b[0m\u001b[0;34m\u001b[0m\u001b[0m\n\u001b[1;32m      3\u001b[0m \u001b[0;31m# sheetname\u001b[0m\u001b[0;34m\u001b[0m\u001b[0;34m\u001b[0m\u001b[0;34m\u001b[0m\u001b[0m\n\u001b[1;32m      4\u001b[0m \u001b[0mws\u001b[0m \u001b[0;34m=\u001b[0m \u001b[0mwb\u001b[0m\u001b[0;34m[\u001b[0m\u001b[0msheetname\u001b[0m\u001b[0;34m]\u001b[0m\u001b[0;34m\u001b[0m\u001b[0;34m\u001b[0m\u001b[0m\n",
      "\u001b[0;32m~/.cache/pypoetry/virtualenvs/apps-ZFymp6kh-py3.8/lib/python3.8/site-packages/openpyxl/reader/excel.py\u001b[0m in \u001b[0;36mload_workbook\u001b[0;34m(filename, read_only, keep_vba, data_only, keep_links)\u001b[0m\n\u001b[1;32m    313\u001b[0m \u001b[0;34m\u001b[0m\u001b[0m\n\u001b[1;32m    314\u001b[0m     \"\"\"\n\u001b[0;32m--> 315\u001b[0;31m     reader = ExcelReader(filename, read_only, keep_vba,\n\u001b[0m\u001b[1;32m    316\u001b[0m                         data_only, keep_links)\n\u001b[1;32m    317\u001b[0m     \u001b[0mreader\u001b[0m\u001b[0;34m.\u001b[0m\u001b[0mread\u001b[0m\u001b[0;34m(\u001b[0m\u001b[0;34m)\u001b[0m\u001b[0;34m\u001b[0m\u001b[0;34m\u001b[0m\u001b[0m\n",
      "\u001b[0;32m~/.cache/pypoetry/virtualenvs/apps-ZFymp6kh-py3.8/lib/python3.8/site-packages/openpyxl/reader/excel.py\u001b[0m in \u001b[0;36m__init__\u001b[0;34m(self, fn, read_only, keep_vba, data_only, keep_links)\u001b[0m\n\u001b[1;32m    122\u001b[0m     def __init__(self,  fn, read_only=False, keep_vba=KEEP_VBA,\n\u001b[1;32m    123\u001b[0m                   data_only=False, keep_links=True):\n\u001b[0;32m--> 124\u001b[0;31m         \u001b[0mself\u001b[0m\u001b[0;34m.\u001b[0m\u001b[0marchive\u001b[0m \u001b[0;34m=\u001b[0m \u001b[0m_validate_archive\u001b[0m\u001b[0;34m(\u001b[0m\u001b[0mfn\u001b[0m\u001b[0;34m)\u001b[0m\u001b[0;34m\u001b[0m\u001b[0;34m\u001b[0m\u001b[0m\n\u001b[0m\u001b[1;32m    125\u001b[0m         \u001b[0mself\u001b[0m\u001b[0;34m.\u001b[0m\u001b[0mvalid_files\u001b[0m \u001b[0;34m=\u001b[0m \u001b[0mself\u001b[0m\u001b[0;34m.\u001b[0m\u001b[0marchive\u001b[0m\u001b[0;34m.\u001b[0m\u001b[0mnamelist\u001b[0m\u001b[0;34m(\u001b[0m\u001b[0;34m)\u001b[0m\u001b[0;34m\u001b[0m\u001b[0;34m\u001b[0m\u001b[0m\n\u001b[1;32m    126\u001b[0m         \u001b[0mself\u001b[0m\u001b[0;34m.\u001b[0m\u001b[0mread_only\u001b[0m \u001b[0;34m=\u001b[0m \u001b[0mread_only\u001b[0m\u001b[0;34m\u001b[0m\u001b[0;34m\u001b[0m\u001b[0m\n",
      "\u001b[0;32m~/.cache/pypoetry/virtualenvs/apps-ZFymp6kh-py3.8/lib/python3.8/site-packages/openpyxl/reader/excel.py\u001b[0m in \u001b[0;36m_validate_archive\u001b[0;34m(filename)\u001b[0m\n\u001b[1;32m     94\u001b[0m             \u001b[0;32mraise\u001b[0m \u001b[0mInvalidFileException\u001b[0m\u001b[0;34m(\u001b[0m\u001b[0mmsg\u001b[0m\u001b[0;34m)\u001b[0m\u001b[0;34m\u001b[0m\u001b[0;34m\u001b[0m\u001b[0m\n\u001b[1;32m     95\u001b[0m \u001b[0;34m\u001b[0m\u001b[0m\n\u001b[0;32m---> 96\u001b[0;31m     \u001b[0marchive\u001b[0m \u001b[0;34m=\u001b[0m \u001b[0mZipFile\u001b[0m\u001b[0;34m(\u001b[0m\u001b[0mfilename\u001b[0m\u001b[0;34m,\u001b[0m \u001b[0;34m'r'\u001b[0m\u001b[0;34m)\u001b[0m\u001b[0;34m\u001b[0m\u001b[0;34m\u001b[0m\u001b[0m\n\u001b[0m\u001b[1;32m     97\u001b[0m     \u001b[0;32mreturn\u001b[0m \u001b[0marchive\u001b[0m\u001b[0;34m\u001b[0m\u001b[0;34m\u001b[0m\u001b[0m\n\u001b[1;32m     98\u001b[0m \u001b[0;34m\u001b[0m\u001b[0m\n",
      "\u001b[0;32m~/.pyenv/versions/3.8.16/lib/python3.8/zipfile.py\u001b[0m in \u001b[0;36m__init__\u001b[0;34m(self, file, mode, compression, allowZip64, compresslevel, strict_timestamps)\u001b[0m\n\u001b[1;32m   1249\u001b[0m             \u001b[0;32mwhile\u001b[0m \u001b[0;32mTrue\u001b[0m\u001b[0;34m:\u001b[0m\u001b[0;34m\u001b[0m\u001b[0;34m\u001b[0m\u001b[0m\n\u001b[1;32m   1250\u001b[0m                 \u001b[0;32mtry\u001b[0m\u001b[0;34m:\u001b[0m\u001b[0;34m\u001b[0m\u001b[0;34m\u001b[0m\u001b[0m\n\u001b[0;32m-> 1251\u001b[0;31m                     \u001b[0mself\u001b[0m\u001b[0;34m.\u001b[0m\u001b[0mfp\u001b[0m \u001b[0;34m=\u001b[0m \u001b[0mio\u001b[0m\u001b[0;34m.\u001b[0m\u001b[0mopen\u001b[0m\u001b[0;34m(\u001b[0m\u001b[0mfile\u001b[0m\u001b[0;34m,\u001b[0m \u001b[0mfilemode\u001b[0m\u001b[0;34m)\u001b[0m\u001b[0;34m\u001b[0m\u001b[0;34m\u001b[0m\u001b[0m\n\u001b[0m\u001b[1;32m   1252\u001b[0m                 \u001b[0;32mexcept\u001b[0m \u001b[0mOSError\u001b[0m\u001b[0;34m:\u001b[0m\u001b[0;34m\u001b[0m\u001b[0;34m\u001b[0m\u001b[0m\n\u001b[1;32m   1253\u001b[0m                     \u001b[0;32mif\u001b[0m \u001b[0mfilemode\u001b[0m \u001b[0;32min\u001b[0m \u001b[0mmodeDict\u001b[0m\u001b[0;34m:\u001b[0m\u001b[0;34m\u001b[0m\u001b[0;34m\u001b[0m\u001b[0m\n",
      "\u001b[0;31mFileNotFoundError\u001b[0m: [Errno 2] No such file or directory: 'Template - Monitoração - Barreira - BR-101 - Submetido.xlsx'"
     ]
    },
    {
     "ename": "FileNotFoundError",
     "evalue": "[Errno 2] No such file or directory: 'Template - Monitoração - Barreira - BR-101 - Submetido.xlsx'",
     "output_type": "error",
     "traceback": [
      "\u001b[0;31m---------------------------------------------------------------------------\u001b[0m",
      "\u001b[0;31mFileNotFoundError\u001b[0m                         Traceback (most recent call last)",
      "\u001b[0;32m/tmp/ipykernel_6319/3625402259.py\u001b[0m in \u001b[0;36m<cell line: 1>\u001b[0;34m()\u001b[0m\n\u001b[0;32m----> 1\u001b[0;31m \u001b[0mwb\u001b[0m \u001b[0;34m=\u001b[0m \u001b[0mload_workbook\u001b[0m\u001b[0;34m(\u001b[0m\u001b[0mfilename\u001b[0m \u001b[0;34m+\u001b[0m \u001b[0;34m'.xlsx'\u001b[0m\u001b[0;34m)\u001b[0m\u001b[0;34m\u001b[0m\u001b[0;34m\u001b[0m\u001b[0m\n\u001b[0m\u001b[1;32m      2\u001b[0m \u001b[0msheetname\u001b[0m \u001b[0;34m=\u001b[0m \u001b[0mwb\u001b[0m\u001b[0;34m.\u001b[0m\u001b[0msheetnames\u001b[0m\u001b[0;34m[\u001b[0m\u001b[0;36m0\u001b[0m\u001b[0;34m]\u001b[0m\u001b[0;34m\u001b[0m\u001b[0;34m\u001b[0m\u001b[0m\n\u001b[1;32m      3\u001b[0m \u001b[0;31m# sheetname\u001b[0m\u001b[0;34m\u001b[0m\u001b[0;34m\u001b[0m\u001b[0;34m\u001b[0m\u001b[0m\n\u001b[1;32m      4\u001b[0m \u001b[0mws\u001b[0m \u001b[0;34m=\u001b[0m \u001b[0mwb\u001b[0m\u001b[0;34m[\u001b[0m\u001b[0msheetname\u001b[0m\u001b[0;34m]\u001b[0m\u001b[0;34m\u001b[0m\u001b[0;34m\u001b[0m\u001b[0m\n",
      "\u001b[0;32m~/.cache/pypoetry/virtualenvs/apps-ZFymp6kh-py3.8/lib/python3.8/site-packages/openpyxl/reader/excel.py\u001b[0m in \u001b[0;36mload_workbook\u001b[0;34m(filename, read_only, keep_vba, data_only, keep_links)\u001b[0m\n\u001b[1;32m    313\u001b[0m \u001b[0;34m\u001b[0m\u001b[0m\n\u001b[1;32m    314\u001b[0m     \"\"\"\n\u001b[0;32m--> 315\u001b[0;31m     reader = ExcelReader(filename, read_only, keep_vba,\n\u001b[0m\u001b[1;32m    316\u001b[0m                         data_only, keep_links)\n\u001b[1;32m    317\u001b[0m     \u001b[0mreader\u001b[0m\u001b[0;34m.\u001b[0m\u001b[0mread\u001b[0m\u001b[0;34m(\u001b[0m\u001b[0;34m)\u001b[0m\u001b[0;34m\u001b[0m\u001b[0;34m\u001b[0m\u001b[0m\n",
      "\u001b[0;32m~/.cache/pypoetry/virtualenvs/apps-ZFymp6kh-py3.8/lib/python3.8/site-packages/openpyxl/reader/excel.py\u001b[0m in \u001b[0;36m__init__\u001b[0;34m(self, fn, read_only, keep_vba, data_only, keep_links)\u001b[0m\n\u001b[1;32m    122\u001b[0m     def __init__(self,  fn, read_only=False, keep_vba=KEEP_VBA,\n\u001b[1;32m    123\u001b[0m                   data_only=False, keep_links=True):\n\u001b[0;32m--> 124\u001b[0;31m         \u001b[0mself\u001b[0m\u001b[0;34m.\u001b[0m\u001b[0marchive\u001b[0m \u001b[0;34m=\u001b[0m \u001b[0m_validate_archive\u001b[0m\u001b[0;34m(\u001b[0m\u001b[0mfn\u001b[0m\u001b[0;34m)\u001b[0m\u001b[0;34m\u001b[0m\u001b[0;34m\u001b[0m\u001b[0m\n\u001b[0m\u001b[1;32m    125\u001b[0m         \u001b[0mself\u001b[0m\u001b[0;34m.\u001b[0m\u001b[0mvalid_files\u001b[0m \u001b[0;34m=\u001b[0m \u001b[0mself\u001b[0m\u001b[0;34m.\u001b[0m\u001b[0marchive\u001b[0m\u001b[0;34m.\u001b[0m\u001b[0mnamelist\u001b[0m\u001b[0;34m(\u001b[0m\u001b[0;34m)\u001b[0m\u001b[0;34m\u001b[0m\u001b[0;34m\u001b[0m\u001b[0m\n\u001b[1;32m    126\u001b[0m         \u001b[0mself\u001b[0m\u001b[0;34m.\u001b[0m\u001b[0mread_only\u001b[0m \u001b[0;34m=\u001b[0m \u001b[0mread_only\u001b[0m\u001b[0;34m\u001b[0m\u001b[0;34m\u001b[0m\u001b[0m\n",
      "\u001b[0;32m~/.cache/pypoetry/virtualenvs/apps-ZFymp6kh-py3.8/lib/python3.8/site-packages/openpyxl/reader/excel.py\u001b[0m in \u001b[0;36m_validate_archive\u001b[0;34m(filename)\u001b[0m\n\u001b[1;32m     94\u001b[0m             \u001b[0;32mraise\u001b[0m \u001b[0mInvalidFileException\u001b[0m\u001b[0;34m(\u001b[0m\u001b[0mmsg\u001b[0m\u001b[0;34m)\u001b[0m\u001b[0;34m\u001b[0m\u001b[0;34m\u001b[0m\u001b[0m\n\u001b[1;32m     95\u001b[0m \u001b[0;34m\u001b[0m\u001b[0m\n\u001b[0;32m---> 96\u001b[0;31m     \u001b[0marchive\u001b[0m \u001b[0;34m=\u001b[0m \u001b[0mZipFile\u001b[0m\u001b[0;34m(\u001b[0m\u001b[0mfilename\u001b[0m\u001b[0;34m,\u001b[0m \u001b[0;34m'r'\u001b[0m\u001b[0;34m)\u001b[0m\u001b[0;34m\u001b[0m\u001b[0;34m\u001b[0m\u001b[0m\n\u001b[0m\u001b[1;32m     97\u001b[0m     \u001b[0;32mreturn\u001b[0m \u001b[0marchive\u001b[0m\u001b[0;34m\u001b[0m\u001b[0;34m\u001b[0m\u001b[0m\n\u001b[1;32m     98\u001b[0m \u001b[0;34m\u001b[0m\u001b[0m\n",
      "\u001b[0;32m~/.pyenv/versions/3.8.16/lib/python3.8/zipfile.py\u001b[0m in \u001b[0;36m__init__\u001b[0;34m(self, file, mode, compression, allowZip64, compresslevel, strict_timestamps)\u001b[0m\n\u001b[1;32m   1249\u001b[0m             \u001b[0;32mwhile\u001b[0m \u001b[0;32mTrue\u001b[0m\u001b[0;34m:\u001b[0m\u001b[0;34m\u001b[0m\u001b[0;34m\u001b[0m\u001b[0m\n\u001b[1;32m   1250\u001b[0m                 \u001b[0;32mtry\u001b[0m\u001b[0;34m:\u001b[0m\u001b[0;34m\u001b[0m\u001b[0;34m\u001b[0m\u001b[0m\n\u001b[0;32m-> 1251\u001b[0;31m                     \u001b[0mself\u001b[0m\u001b[0;34m.\u001b[0m\u001b[0mfp\u001b[0m \u001b[0;34m=\u001b[0m \u001b[0mio\u001b[0m\u001b[0;34m.\u001b[0m\u001b[0mopen\u001b[0m\u001b[0;34m(\u001b[0m\u001b[0mfile\u001b[0m\u001b[0;34m,\u001b[0m \u001b[0mfilemode\u001b[0m\u001b[0;34m)\u001b[0m\u001b[0;34m\u001b[0m\u001b[0;34m\u001b[0m\u001b[0m\n\u001b[0m\u001b[1;32m   1252\u001b[0m                 \u001b[0;32mexcept\u001b[0m \u001b[0mOSError\u001b[0m\u001b[0;34m:\u001b[0m\u001b[0;34m\u001b[0m\u001b[0;34m\u001b[0m\u001b[0m\n\u001b[1;32m   1253\u001b[0m                     \u001b[0;32mif\u001b[0m \u001b[0mfilemode\u001b[0m \u001b[0;32min\u001b[0m \u001b[0mmodeDict\u001b[0m\u001b[0;34m:\u001b[0m\u001b[0;34m\u001b[0m\u001b[0;34m\u001b[0m\u001b[0m\n",
      "\u001b[0;31mFileNotFoundError\u001b[0m: [Errno 2] No such file or directory: 'Template - Monitoração - Barreira - BR-101 - Submetido.xlsx'"
     ]
    },
    {
     "ename": "FileNotFoundError",
     "evalue": "[Errno 2] No such file or directory: 'Template - Monitoração - Barreira - BR-101 - Submetido.xlsx'",
     "output_type": "error",
     "traceback": [
      "\u001b[0;31m---------------------------------------------------------------------------\u001b[0m",
      "\u001b[0;31mFileNotFoundError\u001b[0m                         Traceback (most recent call last)",
      "\u001b[0;32m/tmp/ipykernel_6319/3625402259.py\u001b[0m in \u001b[0;36m<cell line: 1>\u001b[0;34m()\u001b[0m\n\u001b[0;32m----> 1\u001b[0;31m \u001b[0mwb\u001b[0m \u001b[0;34m=\u001b[0m \u001b[0mload_workbook\u001b[0m\u001b[0;34m(\u001b[0m\u001b[0mfilename\u001b[0m \u001b[0;34m+\u001b[0m \u001b[0;34m'.xlsx'\u001b[0m\u001b[0;34m)\u001b[0m\u001b[0;34m\u001b[0m\u001b[0;34m\u001b[0m\u001b[0m\n\u001b[0m\u001b[1;32m      2\u001b[0m \u001b[0msheetname\u001b[0m \u001b[0;34m=\u001b[0m \u001b[0mwb\u001b[0m\u001b[0;34m.\u001b[0m\u001b[0msheetnames\u001b[0m\u001b[0;34m[\u001b[0m\u001b[0;36m0\u001b[0m\u001b[0;34m]\u001b[0m\u001b[0;34m\u001b[0m\u001b[0;34m\u001b[0m\u001b[0m\n\u001b[1;32m      3\u001b[0m \u001b[0;31m# sheetname\u001b[0m\u001b[0;34m\u001b[0m\u001b[0;34m\u001b[0m\u001b[0;34m\u001b[0m\u001b[0m\n\u001b[1;32m      4\u001b[0m \u001b[0mws\u001b[0m \u001b[0;34m=\u001b[0m \u001b[0mwb\u001b[0m\u001b[0;34m[\u001b[0m\u001b[0msheetname\u001b[0m\u001b[0;34m]\u001b[0m\u001b[0;34m\u001b[0m\u001b[0;34m\u001b[0m\u001b[0m\n",
      "\u001b[0;32m~/.cache/pypoetry/virtualenvs/apps-ZFymp6kh-py3.8/lib/python3.8/site-packages/openpyxl/reader/excel.py\u001b[0m in \u001b[0;36mload_workbook\u001b[0;34m(filename, read_only, keep_vba, data_only, keep_links)\u001b[0m\n\u001b[1;32m    313\u001b[0m \u001b[0;34m\u001b[0m\u001b[0m\n\u001b[1;32m    314\u001b[0m     \"\"\"\n\u001b[0;32m--> 315\u001b[0;31m     reader = ExcelReader(filename, read_only, keep_vba,\n\u001b[0m\u001b[1;32m    316\u001b[0m                         data_only, keep_links)\n\u001b[1;32m    317\u001b[0m     \u001b[0mreader\u001b[0m\u001b[0;34m.\u001b[0m\u001b[0mread\u001b[0m\u001b[0;34m(\u001b[0m\u001b[0;34m)\u001b[0m\u001b[0;34m\u001b[0m\u001b[0;34m\u001b[0m\u001b[0m\n",
      "\u001b[0;32m~/.cache/pypoetry/virtualenvs/apps-ZFymp6kh-py3.8/lib/python3.8/site-packages/openpyxl/reader/excel.py\u001b[0m in \u001b[0;36m__init__\u001b[0;34m(self, fn, read_only, keep_vba, data_only, keep_links)\u001b[0m\n\u001b[1;32m    122\u001b[0m     def __init__(self,  fn, read_only=False, keep_vba=KEEP_VBA,\n\u001b[1;32m    123\u001b[0m                   data_only=False, keep_links=True):\n\u001b[0;32m--> 124\u001b[0;31m         \u001b[0mself\u001b[0m\u001b[0;34m.\u001b[0m\u001b[0marchive\u001b[0m \u001b[0;34m=\u001b[0m \u001b[0m_validate_archive\u001b[0m\u001b[0;34m(\u001b[0m\u001b[0mfn\u001b[0m\u001b[0;34m)\u001b[0m\u001b[0;34m\u001b[0m\u001b[0;34m\u001b[0m\u001b[0m\n\u001b[0m\u001b[1;32m    125\u001b[0m         \u001b[0mself\u001b[0m\u001b[0;34m.\u001b[0m\u001b[0mvalid_files\u001b[0m \u001b[0;34m=\u001b[0m \u001b[0mself\u001b[0m\u001b[0;34m.\u001b[0m\u001b[0marchive\u001b[0m\u001b[0;34m.\u001b[0m\u001b[0mnamelist\u001b[0m\u001b[0;34m(\u001b[0m\u001b[0;34m)\u001b[0m\u001b[0;34m\u001b[0m\u001b[0;34m\u001b[0m\u001b[0m\n\u001b[1;32m    126\u001b[0m         \u001b[0mself\u001b[0m\u001b[0;34m.\u001b[0m\u001b[0mread_only\u001b[0m \u001b[0;34m=\u001b[0m \u001b[0mread_only\u001b[0m\u001b[0;34m\u001b[0m\u001b[0;34m\u001b[0m\u001b[0m\n",
      "\u001b[0;32m~/.cache/pypoetry/virtualenvs/apps-ZFymp6kh-py3.8/lib/python3.8/site-packages/openpyxl/reader/excel.py\u001b[0m in \u001b[0;36m_validate_archive\u001b[0;34m(filename)\u001b[0m\n\u001b[1;32m     94\u001b[0m             \u001b[0;32mraise\u001b[0m \u001b[0mInvalidFileException\u001b[0m\u001b[0;34m(\u001b[0m\u001b[0mmsg\u001b[0m\u001b[0;34m)\u001b[0m\u001b[0;34m\u001b[0m\u001b[0;34m\u001b[0m\u001b[0m\n\u001b[1;32m     95\u001b[0m \u001b[0;34m\u001b[0m\u001b[0m\n\u001b[0;32m---> 96\u001b[0;31m     \u001b[0marchive\u001b[0m \u001b[0;34m=\u001b[0m \u001b[0mZipFile\u001b[0m\u001b[0;34m(\u001b[0m\u001b[0mfilename\u001b[0m\u001b[0;34m,\u001b[0m \u001b[0;34m'r'\u001b[0m\u001b[0;34m)\u001b[0m\u001b[0;34m\u001b[0m\u001b[0;34m\u001b[0m\u001b[0m\n\u001b[0m\u001b[1;32m     97\u001b[0m     \u001b[0;32mreturn\u001b[0m \u001b[0marchive\u001b[0m\u001b[0;34m\u001b[0m\u001b[0;34m\u001b[0m\u001b[0m\n\u001b[1;32m     98\u001b[0m \u001b[0;34m\u001b[0m\u001b[0m\n",
      "\u001b[0;32m~/.pyenv/versions/3.8.16/lib/python3.8/zipfile.py\u001b[0m in \u001b[0;36m__init__\u001b[0;34m(self, file, mode, compression, allowZip64, compresslevel, strict_timestamps)\u001b[0m\n\u001b[1;32m   1249\u001b[0m             \u001b[0;32mwhile\u001b[0m \u001b[0;32mTrue\u001b[0m\u001b[0;34m:\u001b[0m\u001b[0;34m\u001b[0m\u001b[0;34m\u001b[0m\u001b[0m\n\u001b[1;32m   1250\u001b[0m                 \u001b[0;32mtry\u001b[0m\u001b[0;34m:\u001b[0m\u001b[0;34m\u001b[0m\u001b[0;34m\u001b[0m\u001b[0m\n\u001b[0;32m-> 1251\u001b[0;31m                     \u001b[0mself\u001b[0m\u001b[0;34m.\u001b[0m\u001b[0mfp\u001b[0m \u001b[0;34m=\u001b[0m \u001b[0mio\u001b[0m\u001b[0;34m.\u001b[0m\u001b[0mopen\u001b[0m\u001b[0;34m(\u001b[0m\u001b[0mfile\u001b[0m\u001b[0;34m,\u001b[0m \u001b[0mfilemode\u001b[0m\u001b[0;34m)\u001b[0m\u001b[0;34m\u001b[0m\u001b[0;34m\u001b[0m\u001b[0m\n\u001b[0m\u001b[1;32m   1252\u001b[0m                 \u001b[0;32mexcept\u001b[0m \u001b[0mOSError\u001b[0m\u001b[0;34m:\u001b[0m\u001b[0;34m\u001b[0m\u001b[0;34m\u001b[0m\u001b[0m\n\u001b[1;32m   1253\u001b[0m                     \u001b[0;32mif\u001b[0m \u001b[0mfilemode\u001b[0m \u001b[0;32min\u001b[0m \u001b[0mmodeDict\u001b[0m\u001b[0;34m:\u001b[0m\u001b[0;34m\u001b[0m\u001b[0;34m\u001b[0m\u001b[0m\n",
      "\u001b[0;31mFileNotFoundError\u001b[0m: [Errno 2] No such file or directory: 'Template - Monitoração - Barreira - BR-101 - Submetido.xlsx'"
     ]
    }
   ],
   "source": [
    "wb = load_workbook(filename + '.xlsx')\n",
    "sheetname = wb.sheetnames[0]\n",
    "# sheetname\n",
    "ws = wb[sheetname]"
   ]
  },
  {
   "cell_type": "code",
   "execution_count": null,
   "id": "b0418229",
   "metadata": {},
   "outputs": [],
   "source": [
    "c1 = ws['A1'].value\n",
    "c2 = ws['B2'].value\n",
    "print(c1,c2)"
   ]
  },
  {
   "cell_type": "code",
   "execution_count": null,
   "id": "4aff9d7b",
   "metadata": {},
   "outputs": [],
   "source": [
    "header = []\n",
    "values = []\n",
    "\n",
    "for index, row in enumerate(ws.rows):\n",
    "    if index == 0:\n",
    "        header = list([a.value for a in row])\n",
    "        continue\n",
    "    obj = {}\n",
    "    for col_index, cell in enumerate(row):\n",
    "        value = cell.value\n",
    "        obj[header[col_index]] = value\n",
    "    values.append(obj)"
   ]
  },
  {
   "cell_type": "code",
   "execution_count": null,
   "id": "b3b3f1d7",
   "metadata": {},
   "outputs": [],
   "source": [
    "values[0]"
   ]
  },
  {
   "cell_type": "code",
   "execution_count": null,
   "id": "b2b080ce",
   "metadata": {},
   "outputs": [],
   "source": [
    "company=Company.objects.get(name='CCR - Rio Sp')"
   ]
  },
  {
   "cell_type": "code",
   "execution_count": null,
   "id": "dd18014a",
   "metadata": {},
   "outputs": [],
   "source": [
    "occ=OccurrenceType.objects.filter(company=company)\n",
    "for a in occ:\n",
    "    for b in a.form_fields['fields']:\n",
    "        if 'signMissing' == b['apiName']:\n",
    "            print(a.name)"
   ]
  },
  {
   "cell_type": "code",
   "execution_count": null,
   "id": "5ce56aed",
   "metadata": {},
   "outputs": [],
   "source": [
    "for a in values:\n",
    "    occ=OccurrenceType.objects.get(name=a['occ_type'],company=company)\n",
    "    for b in occ.form_fields['fields']:\n",
    "        if 'Pista' == b['displayName']:\n",
    "            b['displayName'] = a['displayName']\n",
    "#     occ.save()"
   ]
  },
  {
   "cell_type": "code",
   "execution_count": null,
   "id": "cb81dcc3",
   "metadata": {},
   "outputs": [],
   "source": [
    "company=Company.objects.get(name=\"CCR - Rio Sp\")"
   ]
  },
  {
   "cell_type": "code",
   "execution_count": null,
   "id": "24d77962",
   "metadata": {},
   "outputs": [],
   "source": [
    "import pandas as pd\n",
    "%run 'LPKNB - Funcao Traducao.ipynb'"
   ]
  },
  {
   "cell_type": "code",
   "execution_count": null,
   "id": "17080c4e",
   "metadata": {},
   "outputs": [],
   "source": [
    "occ = OccurrenceType.objects.filter(company=company).values_list('occurrence_kind','name','form_fields').order_by('occurrence_kind').exclude(occurrence_kind='999',occurrence_kind__isnull=True)\n",
    "values=[list(a) for a in occ]"
   ]
  },
  {
   "cell_type": "code",
   "execution_count": null,
   "id": "807b2597",
   "metadata": {},
   "outputs": [],
   "source": [
    "df=pd.DataFrame(data=values)"
   ]
  },
  {
   "cell_type": "code",
   "execution_count": null,
   "id": "1b44137a",
   "metadata": {},
   "outputs": [],
   "source": [
    "df.to_excel('testeCCR.xlsx')"
   ]
  },
  {
   "cell_type": "code",
   "execution_count": null,
   "id": "9f710a32",
   "metadata": {},
   "outputs": [],
   "source": []
  },
  {
   "cell_type": "code",
   "execution_count": null,
   "id": "0f40979e",
   "metadata": {},
   "outputs": [],
   "source": [
    "lista=['Monitoração de Barreira New Jersey',\n",
    "'Retrorrefletância Horizontal Longitudinal',\n",
    "'Retrorrefletância de Dispositivos',\n",
    "'Inspeção Interna CCR – OAC',\n",
    "'Retrorrefletância Horizontal de Zebrado',\n",
    "'Retrorrefletância Horizontal de Zebrado',\n",
    "'Retrorrefletância Horizontal de Zebrado',\n",
    "'Monitoração de Acessos',\n",
    "'Monitoração de Defensas Metálicas',\n",
    "'Sinalização Vertical',\n",
    "'Cadastro de Acessos',\n",
    "'Monitoração de Ocupações',\n",
    "'Monitoração de Tela Antiofuscante',\n",
    "'Monitoração de Sinalização Vertical',\n",
    "'Defensas Metálicas',\n",
    "'Tela Antiofuscante',\n",
    "'Ocupações',\n",
    "'Monitoração de Acessos',\n",
    "'Monitoração de Defensas Metálicas',\n",
    "'Sinalização Vertical',\n",
    "'Cadastro de Acessos',\n",
    "'Monitoração de Ocupações',\n",
    "'Monitoração de Tela Antiofuscante',\n",
    "'Monitoração de Sinalização Vertical',\n",
    "'Defensas Metálicas',\n",
    "'Tela Antiofuscante',\n",
    "'Ocupações',\n",
    "]\n",
    "lista_apiName=[\n",
    "    'notesTwo',\n",
    "'notesTwo',\n",
    "'notesTwo',\n",
    "'notesTwo',\n",
    "'attendenceZpa',\n",
    "'attendenceLca',\n",
    "'attendence',\n",
    "'lat',\n",
    "'lat',\n",
    "'lat',\n",
    "'lat',\n",
    "'lat',\n",
    "'lat',\n",
    "'lat',\n",
    "'lat',\n",
    "'lat',\n",
    "'lat',\n",
    "'long',\n",
    "'long',\n",
    "'long',\n",
    "'long',\n",
    "'long',\n",
    "'long',\n",
    "'long',\n",
    "'long',\n",
    "'long',\n",
    "'long'\n",
    "]\n",
    "lista_dnNovo=['Observações (Considerações)',\n",
    "'Observações (Considerações)',\n",
    "'Observações (Considerações)',\n",
    "'Observações (Considerações)',\n",
    "'Status de atendimento - ZPA',\n",
    "'Status de atendimento - LCA',\n",
    "'Atendimento',\n",
    "'Lat',\n",
    "'Lat',\n",
    "'Lat',\n",
    "'Lat',\n",
    "'Lat',\n",
    "'Lat',\n",
    "'Lat',\n",
    "'Lat',\n",
    "'Lat',\n",
    "'Lat',\n",
    "'Long',\n",
    "'Long',\n",
    "'Long',\n",
    "'Long',\n",
    "'Long',\n",
    "'Long',\n",
    "'Long',\n",
    "'Long',\n",
    "'Long',\n",
    "'Long']\n",
    "len(lista),len(lista_apiName),len(lista_dnNovo)"
   ]
  },
  {
   "cell_type": "code",
   "execution_count": null,
   "id": "481ad784",
   "metadata": {},
   "outputs": [],
   "source": [
    "from tqdm.notebook import tqdm\n",
    "for a,x,c in tqdm(zip(lista,lista_apiName,lista_dnNovo)):\n",
    "    occ=OccurrenceType.objects.filter(company__name=\"CCR - Rio Sp\",name=a)\n",
    "    for ac in occ:\n",
    "        for b in ac.form_fields['fields']:\n",
    "#             print(b)\n",
    "            if b['apiName'] == x:\n",
    "                b['displayName'] = c\n",
    "#                 print(c)\n",
    "#         ac.save()"
   ]
  },
  {
   "cell_type": "code",
   "execution_count": null,
   "id": "baa8fa56",
   "metadata": {},
   "outputs": [],
   "source": [
    "occ[0].__dict__"
   ]
  },
  {
   "cell_type": "code",
   "execution_count": null,
   "id": "603140f7",
   "metadata": {},
   "outputs": [],
   "source": [
    "occurrence = OccurrenceType.objects.filter(company__name=\"CCR - Rio Sp\",name__in=lista)\n",
    "occurrence.count()"
   ]
  },
  {
   "cell_type": "code",
   "execution_count": null,
   "id": "ac24cc88",
   "metadata": {},
   "outputs": [],
   "source": [
    "from tqdm.notebook import tqdm\n",
    "for ac in tqdm(occurrence):\n",
    "    for b in ac.form_fields['fields']:\n",
    "        if b['displayName'] == 'Pista':\n",
    "            print(ac.name)"
   ]
  },
  {
   "cell_type": "code",
   "execution_count": null,
   "id": "f0291979",
   "metadata": {},
   "outputs": [],
   "source": [
    "road=Road.objects.get()"
   ]
  },
  {
   "cell_type": "markdown",
   "id": "5cfafd8c",
   "metadata": {},
   "source": [
    "# Dados Classe para importação"
   ]
  },
  {
   "cell_type": "code",
   "execution_count": null,
   "id": "c8fd9923",
   "metadata": {},
   "outputs": [],
   "source": [
    "company=Company.objects.get(name='CCR - Rio Sp')"
   ]
  },
  {
   "cell_type": "code",
   "execution_count": null,
   "id": "044f449b",
   "metadata": {},
   "outputs": [],
   "source": [
    "occ = OccurrenceType.objects.get(company=company,name='Monitoração Drenagem Profunda Elemento')\n",
    "occ.uuid"
   ]
  },
  {
   "cell_type": "code",
   "execution_count": null,
   "id": "59dc8c7d",
   "metadata": {},
   "outputs": [],
   "source": [
    "import re\n",
    "\n",
    "def convert_string(string: str) -> str:\n",
    "    if '_' in string:\n",
    "        # Convert snake_case to camelCase\n",
    "        return re.sub(r'_([a-z])', lambda x: x.group(1).upper(), string)\n",
    "    else:\n",
    "        # Convert camelCase to snake_case\n",
    "        return re.sub(r'([A-Z])', lambda x: '_' + x.group(1).lower(), string)"
   ]
  },
  {
   "cell_type": "code",
   "execution_count": null,
   "id": "ff4c2335",
   "metadata": {},
   "outputs": [],
   "source": [
    "for a in occ.form_fields['fields']:\n",
    "    print(f'\"{convert_string(a[\"apiName\"])}\": a[\"{a[\"displayName\"]}\"]{a[\"dataType\"]}')\n",
    "    if a['dataType'] == 'arrayOfObjects':\n",
    "        for b in a['innerFields']:\n",
    "            print(f'\\t\"{convert_string(b[\"apiName\"])}\": a[\"{b[\"displayName\"]}\"]{b[\"dataType\"]}')"
   ]
  },
  {
   "cell_type": "markdown",
   "id": "516c5efa",
   "metadata": {
    "collapsed": true
   },
   "source": [
    "# Grupo de Classes com campo especifico"
   ]
  },
  {
   "cell_type": "code",
   "execution_count": null,
   "id": "6eecdbad",
   "metadata": {},
   "outputs": [],
   "source": [
    "for occ in OccurrenceType.objects.filter(company=company):\n",
    "    for a in occ.form_fields['fields']:\n",
    "        if a['displayName'] == 'Pista':\n",
    "            print(occ.name)"
   ]
  },
  {
   "cell_type": "markdown",
   "id": "0cff424b",
   "metadata": {},
   "source": [
    "# Replace palavra em dicionario ou lista"
   ]
  },
  {
   "cell_type": "code",
   "execution_count": null,
   "id": "bad91427",
   "metadata": {},
   "outputs": [],
   "source": [
    "def replace_word_in_dict(d, old_word, new_word):\n",
    "    if isinstance(d, dict):\n",
    "        for key, value in d.items():\n",
    "            if isinstance(value, str):\n",
    "                d[key] = value.replace(old_word, new_word)\n",
    "            elif isinstance(value, (dict, list)):\n",
    "                replace_word_in_dict(value, old_word, new_word)\n",
    "    elif isinstance(d, list):\n",
    "        for i, item in enumerate(d):\n",
    "            if isinstance(item, str):\n",
    "                d[i] = item.replace(old_word, new_word)\n",
    "            elif isinstance(item, (dict, list)):\n",
    "                replace_word_in_dict(item, old_word, new_word)"
   ]
  },
  {
   "cell_type": "code",
   "execution_count": null,
   "id": "2affe1a7",
   "metadata": {},
   "outputs": [],
   "source": [
    "fs=FieldSurvey.objects.get(contract__uuid='1111ecd6-a189-46fb-89b4-e1fbd5cbaf7c',name='Avaliação do dia 17/08/2023 - Célula 01', approval_status='APPROVED_APPROVAL')"
   ]
  },
  {
   "cell_type": "code",
   "execution_count": null,
   "id": "208488e4",
   "metadata": {},
   "outputs": [],
   "source": [
    "fs.approval_status = 'WAITING_APPROVAL'"
   ]
  },
  {
   "cell_type": "code",
   "execution_count": null,
   "id": "253c6f91",
   "metadata": {},
   "outputs": [],
   "source": [
    "# fs.save()"
   ]
  },
  {
   "cell_type": "code",
   "execution_count": null,
   "id": "71ef8644",
   "metadata": {},
   "outputs": [],
   "source": [
    "MeasurementBulletin.objects.get(uuid='1a0bff5d-fb93-42cd-8664-ab93813c1837').delete()"
   ]
  },
  {
   "cell_type": "code",
   "execution_count": null,
   "id": "225f9ff0",
   "metadata": {},
   "outputs": [],
   "source": [
    "fs=FieldSurvey.objects.filter(contract__uuid='1111ecd6-a189-46fb-89b4-e1fbd5cbaf7c')"
   ]
  },
  {
   "cell_type": "code",
   "execution_count": null,
   "id": "4efcf704",
   "metadata": {},
   "outputs": [],
   "source": [
    "fs.count()"
   ]
  },
  {
   "cell_type": "code",
   "execution_count": null,
   "id": "56c2e3cc",
   "metadata": {},
   "outputs": [],
   "source": [
    "fs[0].created_at"
   ]
  },
  {
   "cell_type": "code",
   "execution_count": null,
   "id": "927dfe06",
   "metadata": {},
   "outputs": [],
   "source": [
    "reps=Reporting.objects.filter(occurrence_type__uuid='79ac53f8-f265-4375-b920-040b13457b80',road_name='BR-116 SP')\n",
    "reps.count()"
   ]
  },
  {
   "cell_type": "code",
   "execution_count": null,
   "id": "cde202b7",
   "metadata": {},
   "outputs": [],
   "source": [
    "from tqdm.notebook import tqdm\n",
    "from helpers.histories import bulk_update_with_history"
   ]
  },
  {
   "cell_type": "code",
   "execution_count": null,
   "id": "94b8fa89",
   "metadata": {},
   "outputs": [],
   "source": [
    "user=User.objects.get(username=\"rlcs\")\n",
    "reps=Reporting.objects.filter(occurrence_type__name='Barreira New Jersey',road_name__startswith=\"BR-101\")\n",
    "reps.count(),reps[0].__dict__"
   ]
  },
  {
   "cell_type": "code",
   "execution_count": null,
   "id": "76e5bd04",
   "metadata": {},
   "outputs": [],
   "source": [
    "rep_edit=[]\n",
    "for a in tqdm(reps):\n",
    "    if a.form_data.get('height'):\n",
    "        a.form_data['heightM']=a.form_data.pop('height')\n",
    "        rep_edit.append(a)"
   ]
  },
  {
   "cell_type": "code",
   "execution_count": null,
   "id": "16d2ce57",
   "metadata": {},
   "outputs": [],
   "source": [
    "from helpers.histories import bulk_update_with_history\n",
    "user=User.objects.get(username=\"rlcs\")\n",
    "apontamentos = bulk_update_with_history(rep_edit,Reporting, use_django_bulk=True,batch_size=1200,user=user)"
   ]
  },
  {
   "cell_type": "code",
   "execution_count": null,
   "id": "7d1c5e42",
   "metadata": {},
   "outputs": [],
   "source": [
    "rep_edit=[]\n",
    "for a in tqdm(reps):\n",
    "    if a.form_data.get('x_utm_barreira_nj_saida'):\n",
    "        a.form_data['x_utm_barreira_nj_saida']=''\n",
    "    if a.form_data.get('y_utm_barreira_nj_saida'):\n",
    "        a.form_data['y_utm_barreira_nj_saida']=''\n",
    "    if a.form_data.get('latitude_barreira_nj_saida'):\n",
    "        a.form_data['latitude_barreira_nj_saida']=''\n",
    "    if a.form_data.get('longitude_barreira_nj_saida'):\n",
    "        a.form_data['longitude_barreira_nj_saida']=''\n",
    "    rep_edit.append(a)"
   ]
  },
  {
   "cell_type": "code",
   "execution_count": null,
   "id": "9741078a",
   "metadata": {},
   "outputs": [],
   "source": [
    "rep_edit[0].__dict__"
   ]
  },
  {
   "cell_type": "code",
   "execution_count": null,
   "id": "2c6507f7",
   "metadata": {},
   "outputs": [],
   "source": [
    "apontamentos = bulk_update_with_history(rep_edit,Reporting, use_django_bulk=True,batch_size=1200,user=user)"
   ]
  },
  {
   "cell_type": "code",
   "execution_count": null,
   "id": "d3ccf013",
   "metadata": {},
   "outputs": [],
   "source": [
    "Reporting.objects.filter(occurrence_type__occurrence_kind=2).count()"
   ]
  },
  {
   "cell_type": "code",
   "execution_count": null,
   "id": "396574e5",
   "metadata": {},
   "outputs": [],
   "source": [
    "traduzirDirectionValue('1')[0]"
   ]
  },
  {
   "cell_type": "code",
   "execution_count": null,
   "id": "8752a3ff",
   "metadata": {},
   "outputs": [],
   "source": [
    "f'''{reps[0].occurrence_type.name[:2].upper()} {reps[0].road_name[3:]} {str(reps[0].km).replace(\",\",\"+\").replace(\".\",\"+\") if len(str(reps[0].km).split('.')[1]) == 3 else str(reps[0].km).replace(\",\",\"+\").replace(\".\",\"+\")+'0'} {traduzirDirectionValue(reps[0].direction)[0]}'''"
   ]
  },
  {
   "cell_type": "code",
   "execution_count": null,
   "id": "ace3ac5d",
   "metadata": {},
   "outputs": [],
   "source": [
    "from tqdm.notebook import tqdm\n",
    "import json\n",
    "from json_logic import jsonLogic\n",
    "from helpers.serializers import get_obj_serialized"
   ]
  },
  {
   "cell_type": "code",
   "execution_count": null,
   "id": "f6fae1dd",
   "metadata": {},
   "outputs": [],
   "source": [
    "reps=[]\n",
    "for a in tqdm(Reporting.objects.all()):\n",
    "    if 'id_ccr_antt' not in a.form_data or a.form_data.get('id_ccr_antt') == \"\":\n",
    "        reps.append(a)"
   ]
  },
  {
   "cell_type": "code",
   "execution_count": null,
   "id": "acdfe9ab",
   "metadata": {},
   "outputs": [],
   "source": [
    "len(reps),reps[0].__dict__"
   ]
  },
  {
   "cell_type": "code",
   "execution_count": null,
   "id": "5c2878eb",
   "metadata": {},
   "outputs": [],
   "source": [
    "abrev = next(a.get('autofill').get('cat')[0] for a in reps[0].occurrence_type.form_fields['fields'] if a['apiName'] == 'idCcrAntt' and a.get('autofill'))"
   ]
  },
  {
   "cell_type": "code",
   "execution_count": null,
   "id": "474f4195",
   "metadata": {},
   "outputs": [],
   "source": [
    "print(f'''{abrev}{reps[0].road_name[3:]} {str(reps[0].km).replace(\",\",\"+\").replace(\".\",\"+\") if len(str(reps[0].km).split('.')[1]) == 3 else str(reps[0].km).replace(\",\",\"+\").replace(\".\",\"+\")+'0'} {traduzirDirectionValue(reps[0].direction)[0]}{\" \"+reps[0].form_data.get('index') if reps[0].form_data.get('index') else \"\"}''')"
   ]
  },
  {
   "cell_type": "markdown",
   "id": "6f4a64df",
   "metadata": {},
   "source": [
    "# Criar idCcrAntt Inicio"
   ]
  },
  {
   "cell_type": "code",
   "execution_count": null,
   "id": "104ad07c",
   "metadata": {},
   "outputs": [],
   "source": [
    "from tqdm.notebook import tqdm\n",
    "from helpers.histories import bulk_update_with_history"
   ]
  },
  {
   "cell_type": "code",
   "execution_count": null,
   "id": "fee68fad",
   "metadata": {},
   "outputs": [],
   "source": [
    "occs=[]\n",
    "for a in OccurrenceType.objects.filter(company__name=\"CCR - Rio Sp\"):\n",
    "    for b in a.form_fields['fields']:\n",
    "        if b['apiName'] == 'idCcrAntt':\n",
    "            if b.get('autofill'):\n",
    "                occs.append(a)"
   ]
  },
  {
   "cell_type": "code",
   "execution_count": null,
   "id": "9a9b9f00",
   "metadata": {},
   "outputs": [],
   "source": [
    "traduzirDirectionValue = lambda value: ''.join([item['name'] for item in Company.objects.get(name='CCR - Rio Sp').custom_options['reporting']['fields']['direction']['selectOptions']['options'] if item['value'].lower() == value.lower()])"
   ]
  },
  {
   "cell_type": "code",
   "execution_count": null,
   "id": "26d6ac7d",
   "metadata": {},
   "outputs": [],
   "source": [
    "reps=[]\n",
    "for rep in tqdm(Reporting.objects.filter(company__name=\"CCR - Rio Sp\",occurrence_type__in=occs).exclude(occurrence_type__name='Drenagem Superficial')):\n",
    "     if rep.form_data.get('id_ccr_antt') == '' or rep.form_data.get('id_ccr_antt') == None or not rep.form_data.get('id_ccr_antt'):\n",
    "        try:\n",
    "            abrev = next(a.get('autofill').get('cat')[0] for a in rep.occurrence_type.form_fields['fields'] if a['apiName'] == 'idCcrAntt' and a.get('autofill'))\n",
    "            if not abrev:\n",
    "                print(rep.occurrence_type.name)\n",
    "            else:\n",
    "                if len(str(rep.km).split('.')[1])== 0:\n",
    "                    metros=str(rep.km).replace(\",\",\"+\").replace(\".\",\"+\")+'000'\n",
    "                elif len(str(rep.km).split('.')[1])== 1:\n",
    "                    metros=str(rep.km).replace(\",\",\"+\").replace(\".\",\"+\")+\"00\"\n",
    "                elif len(str(rep.km).split('.')[1])== 2:\n",
    "                    metros=str(rep.km).replace(\",\",\"+\").replace(\".\",\"+\")+\"0\"\n",
    "                else: \n",
    "                    metros=str(rep.km).replace(\",\",\"+\").replace(\".\",\"+\")\n",
    "                rep.form_data['id_ccr_antt'] = f'''{abrev}{rep.road_name[3:]} {metros} {traduzirDirectionValue(rep.direction)[0]}{\" \"+str(rep.form_data.get('index')) if rep.form_data.get('index') else \"\"}'''\n",
    "                reps.append(rep)\n",
    "    #             print(f'''{abrev}{rep.road_name[3:]} {metros} {traduzirDirectionValue(rep.direction)[0]}{\" \"+str(rep.form_data.get('index')) if rep.form_data.get('index') else \"\"}''')\n",
    "            abrev=''\n",
    "        except Exception as e:\n",
    "            print(rep.number,rep.occurrence_type.name, e)\n",
    "#     else: \n",
    "#         pass"
   ]
  },
  {
   "cell_type": "code",
   "execution_count": null,
   "id": "9d6eaad1",
   "metadata": {},
   "outputs": [],
   "source": [
    "user=User.objects.get(username=\"rlcs\")"
   ]
  },
  {
   "cell_type": "code",
   "execution_count": null,
   "id": "e882dd75",
   "metadata": {},
   "outputs": [],
   "source": [
    "apontamentos = bulk_update_with_history(reps,Reporting, use_django_bulk=True,batch_size=500,user=user)"
   ]
  },
  {
   "cell_type": "markdown",
   "id": "0b51c2fc",
   "metadata": {},
   "source": [
    "# Criar idCcrAntt Fim"
   ]
  },
  {
   "cell_type": "code",
   "execution_count": null,
   "id": "837c019f",
   "metadata": {},
   "outputs": [],
   "source": [
    "Reporting.objects.filter(company__name=\"CCR - Rio Sp\",occurrence_type__name='Drenagem Superficial').exclude(form_data__id_ccr_antt__isnull=True).count()"
   ]
  },
  {
   "cell_type": "markdown",
   "id": "fb74f1be",
   "metadata": {},
   "source": [
    "# Criar idCcrAntt Inicio para Drenagem Superficial "
   ]
  },
  {
   "cell_type": "code",
   "execution_count": null,
   "id": "3f4536a7",
   "metadata": {},
   "outputs": [],
   "source": [
    "from tqdm.notebook import tqdm\n",
    "from helpers.histories import bulk_update_with_history"
   ]
  },
  {
   "cell_type": "code",
   "execution_count": null,
   "id": "0f5faa7d",
   "metadata": {},
   "outputs": [],
   "source": [
    "traduzirDirectionValue = lambda value: ''.join([item['name'] for item in Company.objects.get(name='CCR - Rio Sp').custom_options['reporting']['fields']['direction']['selectOptions']['options'] if item['value'].lower() == value.lower()])"
   ]
  },
  {
   "cell_type": "code",
   "execution_count": null,
   "id": "2ef35213",
   "metadata": {},
   "outputs": [],
   "source": [
    "reps=[]\n",
    "for rep in tqdm(Reporting.objects.filter(company__name=\"CCR - Rio Sp\",occurrence_type__name='Drenagem Superficial').exclude(form_data__has_key='id_ccr_antt')):\n",
    "# for rep in tqdm(teste):\n",
    "    if rep.form_data.get('id_ccr_antt') == '' or rep.form_data.get('id_ccr_antt') == None or not rep.form_data.get('id_ccr_antt'):\n",
    "        try:\n",
    "            if rep.form_data.get('elemento') in ['1','2']:\n",
    "                abrev='DA '\n",
    "            elif rep.form_data.get('elemento') in ['3']:\n",
    "                abrev='DI '\n",
    "            elif rep.form_data.get('elemento') in ['4']:\n",
    "                abrev='MF '\n",
    "            elif rep.form_data.get('elemento') in ['5']:\n",
    "                abrev='SJ '\n",
    "            elif rep.form_data.get('elemento') in ['6']:\n",
    "                abrev='VA '\n",
    "            elif rep.form_data.get('elemento') in ['7']:\n",
    "                abrev='TSS '\n",
    "#             abrev = next(a.get('autofill').get('cat')[0] for a in rep.occurrence_type.form_fields['fields'] if a['apiName'] == 'idCcrAntt' and a.get('autofill'))\n",
    "            if not abrev:\n",
    "                print(rep.occurrence_type.name)\n",
    "            else:\n",
    "                if len(str(rep.km).split('.')[1])== 0:\n",
    "                    metros=str(rep.km).replace(\",\",\"+\").replace(\".\",\"+\")+'000'\n",
    "                elif len(str(rep.km).split('.')[1])== 1:\n",
    "                    metros=str(rep.km).replace(\",\",\"+\").replace(\".\",\"+\")+\"00\"\n",
    "                elif len(str(rep.km).split('.')[1])== 2:\n",
    "                    metros=str(rep.km).replace(\",\",\"+\").replace(\".\",\"+\")+\"0\"\n",
    "                else: \n",
    "                    metros=str(rep.km).replace(\",\",\"+\").replace(\".\",\"+\")\n",
    "                rep.form_data['id_ccr_antt'] = f'''{abrev}{rep.road_name[3:]} {metros} {traduzirDirectionValue(rep.direction)[0]}{\" \"+str(rep.form_data.get('index')) if rep.form_data.get('index') else \"\"}'''\n",
    "#                 print(rep.form_data)\n",
    "                reps.append(rep)\n",
    "#                 print(f'''{abrev}{rep.road_name[3:]} {metros} {traduzirDirectionValue(rep.direction)[0]}{\" \"+str(rep.form_data.get('index')) if rep.form_data.get('index') else \"\"}''')\n",
    "            abrev=''\n",
    "        except Exception as e:\n",
    "            print(rep.number,rep.occurrence_type.name, e)\n",
    "    else: \n",
    "        pass"
   ]
  },
  {
   "cell_type": "code",
   "execution_count": null,
   "id": "cb67c459",
   "metadata": {},
   "outputs": [],
   "source": [
    "len(reps),reps[0].form_data['id_ccr_antt']"
   ]
  },
  {
   "cell_type": "code",
   "execution_count": null,
   "id": "c5b2b636",
   "metadata": {},
   "outputs": [],
   "source": [
    "user=User.objects.get(username=\"rlcs\")"
   ]
  },
  {
   "cell_type": "code",
   "execution_count": null,
   "id": "20531dc2",
   "metadata": {},
   "outputs": [],
   "source": [
    "apontamentos = bulk_update_with_history(reps,Reporting, use_django_bulk=True,batch_size=1000,user=user)"
   ]
  },
  {
   "cell_type": "code",
   "execution_count": null,
   "id": "830c12ac",
   "metadata": {},
   "outputs": [],
   "source": []
  },
  {
   "cell_type": "code",
   "execution_count": null,
   "id": "1a9fa399",
   "metadata": {
    "scrolled": true
   },
   "outputs": [],
   "source": [
    "reps[0].occurrence_type,\n",
    "obj_serialized = get_obj_serialized(reps[0], is_reporting=True)\n",
    "type(obj_serialized)"
   ]
  },
  {
   "cell_type": "code",
   "execution_count": null,
   "id": "43f4eb64",
   "metadata": {},
   "outputs": [],
   "source": [
    "for a in tqdm(reps[:1]):\n",
    "    obj_serialized = get_obj_serialized(a, is_reporting=True)\n",
    "\n",
    "    for c in a.occurrence_type.form_fields['fields']:\n",
    "        if c['apiName'] == 'idCcrAntt':\n",
    "            autofillCCR = jsonLogic(c['autofill'],obj_serialized)\n",
    "    print(autofillCCR)"
   ]
  },
  {
   "cell_type": "code",
   "execution_count": null,
   "id": "4d23180c",
   "metadata": {
    "scrolled": true
   },
   "outputs": [],
   "source": [
    "reps[0].occurrence_type.form_fields['fields'][0]['autofill']."
   ]
  },
  {
   "cell_type": "code",
   "execution_count": null,
   "id": "5ec5c3ca",
   "metadata": {
    "scrolled": true
   },
   "outputs": [],
   "source": [
    "for b in range(26):\n",
    "    for a in tqdm(reps[:1]):\n",
    "        occ=a.occurrence_type\n",
    "        for c in occ.form_fields['fields']:\n",
    "            if c['apiName'] == 'idCcrAntt':\n",
    "                autofillCCR = jsonLogic(c['autofill'])\n",
    "        print(autofillCCR)"
   ]
  },
  {
   "cell_type": "code",
   "execution_count": null,
   "id": "0b742db0",
   "metadata": {},
   "outputs": [],
   "source": [
    "reps[9].form_data"
   ]
  },
  {
   "cell_type": "code",
   "execution_count": null,
   "id": "6ebd95e2",
   "metadata": {
    "scrolled": true
   },
   "outputs": [],
   "source": [
    "Reporting.objects.first().occurrence_type.form_fields['fields'][0]['autofill'],Reporting.objects.first().occurrence_type.name"
   ]
  },
  {
   "cell_type": "code",
   "execution_count": null,
   "id": "02d6cb09",
   "metadata": {},
   "outputs": [],
   "source": [
    "rep=Reporting.objects.get(number='CCR-Inv-2023.36830')"
   ]
  },
  {
   "cell_type": "code",
   "execution_count": null,
   "id": "505bf508",
   "metadata": {},
   "outputs": [],
   "source": [
    "rep.form_metadata['id_ccr_antt'] = {'manually_specified': False}"
   ]
  },
  {
   "cell_type": "code",
   "execution_count": null,
   "id": "ecb9e24c",
   "metadata": {},
   "outputs": [],
   "source": [
    "# rep.save()"
   ]
  },
  {
   "cell_type": "code",
   "execution_count": null,
   "id": "70f6862c",
   "metadata": {},
   "outputs": [],
   "source": [
    "Reporting.objects.filter(occurrence_type__occurrence_kind='2').count()"
   ]
  },
  {
   "cell_type": "markdown",
   "id": "5f611392",
   "metadata": {},
   "source": [
    "# Alterar campos de encontrado_em para criado_em"
   ]
  },
  {
   "cell_type": "code",
   "execution_count": null,
   "id": "79ce8465",
   "metadata": {},
   "outputs": [],
   "source": [
    "from tqdm.notebook import tqdm\n",
    "from helpers.histories import bulk_update_with_history"
   ]
  },
  {
   "cell_type": "code",
   "execution_count": null,
   "id": "43b390ff",
   "metadata": {},
   "outputs": [],
   "source": [
    "user=User.objects.get(username='rlcs')"
   ]
  },
  {
   "cell_type": "code",
   "execution_count": null,
   "id": "ac1766fb",
   "metadata": {},
   "outputs": [],
   "source": [
    "Reporting.objects.filter(occurrence_type__occurrence_kind='2').count()"
   ]
  },
  {
   "cell_type": "code",
   "execution_count": null,
   "id": "9fe62862",
   "metadata": {},
   "outputs": [],
   "source": [
    "rep_edit=[]\n",
    "for a in Reporting.objects.filter(occurrence_type__occurrence_kind='2').exclude(found_at__isnull=True):\n",
    "    created_at = a.created_at\n",
    "    a.created_at = a.found_at\n",
    "    a.found_at = created_at\n",
    "    rep_edit.append(a)"
   ]
  },
  {
   "cell_type": "code",
   "execution_count": null,
   "id": "1f62b67e",
   "metadata": {},
   "outputs": [],
   "source": [
    "rep_edit"
   ]
  },
  {
   "cell_type": "code",
   "execution_count": null,
   "id": "3819438e",
   "metadata": {},
   "outputs": [],
   "source": [
    "apontamentos = bulk_update_with_history(rep_edit,Reporting, use_django_bulk=True,batch_size=1200,user=user)"
   ]
  },
  {
   "cell_type": "code",
   "execution_count": null,
   "id": "70731a0a",
   "metadata": {},
   "outputs": [],
   "source": []
  },
  {
   "cell_type": "markdown",
   "id": "4341e60f",
   "metadata": {},
   "source": [
    "# inclusão de campos json em formulario existente"
   ]
  },
  {
   "cell_type": "code",
   "execution_count": null,
   "id": "7ec2750f",
   "metadata": {},
   "outputs": [],
   "source": [
    "from copy import deepcopy\n",
    "from tqdm.notebook import tqdm\n",
    "from django.contrib.admin.utils import flatten\n",
    "from helpers.strings import keys_to_snake_case, keys_to_camel_case\n",
    "from rest_framework_json_api.utils import format_field_names"
   ]
  },
  {
   "cell_type": "code",
   "execution_count": null,
   "id": "a395ecb7",
   "metadata": {},
   "outputs": [],
   "source": [
    "def format_keys(obj, format_type=\"camelize\"):\n",
    "    if isinstance(obj, dict):\n",
    "        for key, value in obj.items():\n",
    "            if isinstance(value, dict):\n",
    "                obj[key] = format_field_names(\n",
    "                            format_keys(value), format_type\n",
    "                            )\n",
    "            elif isinstance(value, list):\n",
    "                list_temp = value.copy()\n",
    "                for i, item in enumerate(value):\n",
    "                    if isinstance(item, dict):\n",
    "                        list_temp[i] = format_field_names(\n",
    "                        format_keys(item), format_type\n",
    "                        )\n",
    "                    else:\n",
    "                        list_temp[i] = item\n",
    "                obj[key] = list_temp\n",
    "    return obj"
   ]
  },
  {
   "cell_type": "code",
   "execution_count": null,
   "id": "aa930b18",
   "metadata": {},
   "outputs": [],
   "source": [
    "company = Company.objects.get(name=\"CCR - Rio Sp\")\n",
    "company"
   ]
  },
  {
   "cell_type": "code",
   "execution_count": null,
   "id": "30920faf",
   "metadata": {},
   "outputs": [],
   "source": [
    "occurrence = OccurrenceType.objects.filter(company=company,occurrence_kind=2).order_by('name')\n",
    "occurrence.count()"
   ]
  },
  {
   "cell_type": "code",
   "execution_count": null,
   "id": "9ddcc269",
   "metadata": {},
   "outputs": [],
   "source": [
    "for match in tqdm(occurrence):\n",
    "    for index, field in enumerate(match.form_fields['fields']):\n",
    "        match.form_fields['fields'][index]=format_keys(keys_to_camel_case(field))\n",
    "    for indexg, field_group in enumerate(match.form_fields['groups']):\n",
    "        match.form_fields['groups'][indexg]=format_keys(keys_to_camel_case(field_group))\n",
    "#     match.save()"
   ]
  },
  {
   "cell_type": "code",
   "execution_count": null,
   "id": "704a0736",
   "metadata": {},
   "outputs": [],
   "source": [
    "for a in tqdm(occurrence):\n",
    "    size = len(ac.form_fields['fields'])\n",
    "    ac.form_fields['fields'].append({\n",
    "                                        \"id\": size+1,\n",
    "                                        \"apiName\": \"laneCcr\",\n",
    "                                        \"dataType\": \"select\",\n",
    "                                        \"displayName\": \"Faixa\",\n",
    "                                        \"selectOptions\": {\n",
    "                                            \"options\": [{\n",
    "                                                \"name\": \"Canteiro Central\",\n",
    "                                                \"value\": \"1\"\n",
    "                                            }, {\n",
    "                                                \"name\": \"Canteiro Lateral\",\n",
    "                                                \"value\": \"2\"\n",
    "                                            }]\n",
    "                                        }\n",
    "                                    })\n",
    "    ac.form_fields['fields'].append({\n",
    "                                        \"id\": size+2,\n",
    "                                        \"apiName\": \"directionCcr\",\n",
    "                                        \"dataType\": \"select\",\n",
    "                                        \"displayName\": \"Sentidos\",\n",
    "                                        \"selectOptions\": {\n",
    "                                            \"options\": [{\n",
    "                                                \"name\": \"Interna\",\n",
    "                                                \"value\": \"1\"\n",
    "                                            }, {\n",
    "                                                \"name\": \"Externa\",\n",
    "                                                \"value\": \"2\"\n",
    "                                            }]\n",
    "                                        }\n",
    "                                    })\n",
    "    ac.form_fields['fields'].append({\n",
    "                                        \"id\": size+3,\n",
    "                                        \"apiName\": \"kindAsset\",\n",
    "                                        \"dataType\": \"select\",\n",
    "                                        \"displayName\": \"Tipo de Ativo\",\n",
    "                                        \"selectOptions\": {\n",
    "                                            \"options\": [{\n",
    "                                                \"name\": \"Linear\",\n",
    "                                                \"value\": \"1\"\n",
    "                                            }, {\n",
    "                                                \"name\": \"Não-Linear\",\n",
    "                                                \"value\": \"2\"\n",
    "                                            }]\n",
    "                                        }\n",
    "                                    })\n",
    "    ac.form_fields['groups'][0]['members'].append(size+1)\n",
    "    ac.form_fields['groups'][0]['members'].append(size+2)\n",
    "    ac.form_fields['groups'][0]['members'].append(size+3)"
   ]
  },
  {
   "cell_type": "code",
   "execution_count": null,
   "id": "3dcc77af",
   "metadata": {},
   "outputs": [],
   "source": []
  },
  {
   "cell_type": "code",
   "execution_count": null,
   "id": "8f1af293",
   "metadata": {},
   "outputs": [],
   "source": [
    "reps=Reporting.objects.filter(occurrence_type__name='Drenagem Superficial')\n",
    "reps.count()"
   ]
  },
  {
   "cell_type": "code",
   "execution_count": null,
   "id": "3ac6a158",
   "metadata": {},
   "outputs": [],
   "source": [
    "from tqdm.notebook import tqdm\n",
    "for a in range(20):\n",
    "    for a in tqdm(reps[:850]):\n",
    "        a.delete()"
   ]
  },
  {
   "cell_type": "code",
   "execution_count": null,
   "id": "e5ebc549",
   "metadata": {},
   "outputs": [],
   "source": [
    "!cat .env"
   ]
  },
  {
   "cell_type": "markdown",
   "id": "a5d93392",
   "metadata": {},
   "source": [
    "# reporting exemplo homolog 4470beac-5798-4cb2-a415-d0fe18de3fbf Relatório Imagens"
   ]
  },
  {
   "cell_type": "code",
   "execution_count": null,
   "id": "e927edfc",
   "metadata": {},
   "outputs": [],
   "source": [
    "import pandas as pd\n",
    "from tqdm.notebook import tqdm"
   ]
  },
  {
   "cell_type": "code",
   "execution_count": null,
   "id": "0bf15b18",
   "metadata": {},
   "outputs": [],
   "source": [
    "reps=Reporting.objects.filter(occurrence_type__name=\"Monitoração de Terraplenos e Estruturas de Contenção\")\n",
    "reps.count()"
   ]
  },
  {
   "cell_type": "code",
   "execution_count": null,
   "id": "bee69990",
   "metadata": {},
   "outputs": [],
   "source": [
    "dados=[]\n",
    "qtd_esperada,croqui_esperada,pano_esperada,pato_esperada,detail_esperada,cris_esperada,rig_esperada,lef_esperada,foot_esperada=5,1,1,1,1,1,1,1,1\n",
    "for a in tqdm(reps):\n",
    "    panoramic_size,patology_size,details_size,criste_size,right_size,left_size,foot_size=0,0,0,0,0,0,0\n",
    "#     A última que sairá na exportação no formato validado, foto do campo \n",
    "#     “Croqui Atual”, será a primeira foto não obrigatória inserida no \n",
    "#     apontamento.\n",
    "    primeira_imagem_croqui_geral=ReportingFile.objects.filter(reporting=a.uuid).order_by(\"-uploaded_at\").count()\n",
    "    \n",
    "    if a.form_data.get('mandatory_pictures') and len(a.form_data.get('mandatory_pictures')) >0:\n",
    "        mandatory_pictures=a.form_data['mandatory_pictures'][0]\n",
    "        panoramic_size=len(mandatory_pictures.get('panoramic_mandatory')) if mandatory_pictures.get('panoramic_mandatory') else 0\n",
    "        patology_size=len(mandatory_pictures.get('patology_mandatory')) if mandatory_pictures.get('patology_mandatory') else 0\n",
    "        details_size=len(mandatory_pictures.get('details_mandatory')) if mandatory_pictures.get('details_mandatory') else 0\n",
    "        criste_size=len(mandatory_pictures.get('criste_mandatory')) if mandatory_pictures.get('criste_mandatory') else 0\n",
    "        right_size=len(mandatory_pictures.get('right_mandatory')) if mandatory_pictures.get('right_mandatory') else 0\n",
    "        left_size=len(mandatory_pictures.get('left_mandatory')) if mandatory_pictures.get('left_mandatory') else 0\n",
    "        foot_size=len(mandatory_pictures.get('foot_mandatory')) if mandatory_pictures.get('foot_mandatory') else 0\n",
    "        \n",
    "        \n",
    "        dados.append([a.number,\n",
    "                      primeira_imagem_croqui_geral, croqui_esperada,\n",
    "                      panoramic_size, pano_esperada,\n",
    "                      patology_size,\n",
    "                      details_size,\n",
    "                      criste_size,\n",
    "                      right_size,\n",
    "                      left_size,\n",
    "                      foot_size])\n",
    "#         print(a.number,panoramic_size,patology_size,details_size,criste_size,right_size,left_size,foot_size)\n"
   ]
  },
  {
   "cell_type": "code",
   "execution_count": null,
   "id": "10581ab7",
   "metadata": {},
   "outputs": [],
   "source": [
    "df_terraplenos=pd.DataFrame(data=dados,columns=['Serial',\n",
    "                                    'Croqui Adiconada','Croqui Esperada',\n",
    "                                    'Panoramica Atual Adicionada','Panoramica Atual Esperada',\n",
    "                                    'Patologia Adicionada','Detalhes Adicionada','Crista Adicionada','Vista Direita Adicionada','Vista Esquerda Adicionada','Pé Adicionada'])\n",
    "df_terraplenos.set_index(\"Serial\", inplace=True)"
   ]
  },
  {
   "cell_type": "code",
   "execution_count": null,
   "id": "82dc33f8",
   "metadata": {},
   "outputs": [],
   "source": [
    "df_terraplenos"
   ]
  },
  {
   "cell_type": "code",
   "execution_count": null,
   "id": "d2d8a647",
   "metadata": {},
   "outputs": [],
   "source": [
    "from tqdm.notebook import tqdm"
   ]
  },
  {
   "cell_type": "code",
   "execution_count": null,
   "id": "60ba3ee3",
   "metadata": {},
   "outputs": [],
   "source": [
    "reps=Reporting.objects.filter(occurrence_type__name=\"Sinalização Vertical\")"
   ]
  },
  {
   "cell_type": "code",
   "execution_count": null,
   "id": "104395e4",
   "metadata": {
    "scrolled": true
   },
   "outputs": [],
   "source": [
    "reps.count()"
   ]
  },
  {
   "cell_type": "code",
   "execution_count": null,
   "id": "cb58e867",
   "metadata": {},
   "outputs": [],
   "source": [
    "for b in range(25):\n",
    "    for a in tqdm(reps[:850]):\n",
    "        a.delete()"
   ]
  },
  {
   "cell_type": "code",
   "execution_count": null,
   "id": "1b387a50",
   "metadata": {},
   "outputs": [],
   "source": [
    "aps=ApprovalStep.objects.get(uuid='a3136f17-7545-47e2-aee6-4221db062c34')"
   ]
  },
  {
   "cell_type": "code",
   "execution_count": null,
   "id": "d5c3786b",
   "metadata": {},
   "outputs": [],
   "source": [
    "for a in aps.responsible_firms.all():\n",
    "    print(a.full_name)"
   ]
  },
  {
   "cell_type": "code",
   "execution_count": null,
   "id": "f81ab011",
   "metadata": {},
   "outputs": [],
   "source": [
    "Reporting.objects.filter(occurrence_type__name=\"Sinalização Vertical\").count()"
   ]
  },
  {
   "cell_type": "code",
   "execution_count": null,
   "id": "3f001063",
   "metadata": {},
   "outputs": [],
   "source": [
    "from tqdm.notebook import tqdm\n",
    "from helpers.histories import bulk_update_with_history"
   ]
  },
  {
   "cell_type": "code",
   "execution_count": null,
   "id": "2af96608",
   "metadata": {},
   "outputs": [],
   "source": [
    "reps=[]\n",
    "for a in Reporting.objects.filter(occurrence_type__name=\"Sinalização Vertical\"):\n",
    "    if '-' not in str(a.form_data.get('lat')) and a.form_data.get('lat'):\n",
    "        a.form_data['lat'] = float('-'+str(a.form_data['lat']))\n",
    "    if '-' not in str(a.form_data.get('long')) and a.form_data.get('long'):\n",
    "        a.form_data['long'] = float('-'+str(a.form_data['long']))\n",
    "    reps.append(a)"
   ]
  },
  {
   "cell_type": "code",
   "execution_count": null,
   "id": "9d5a213b",
   "metadata": {},
   "outputs": [],
   "source": [
    "reps[0].__dict__"
   ]
  },
  {
   "cell_type": "code",
   "execution_count": null,
   "id": "6131511e",
   "metadata": {},
   "outputs": [],
   "source": [
    "apontamentos = bulk_update_with_history(reps,Reporting, use_django_bulk=True,batch_size=6000,user=User.objects.get(username='rlcs'))"
   ]
  },
  {
   "cell_type": "code",
   "execution_count": null,
   "id": "b6d2a8b4",
   "metadata": {},
   "outputs": [],
   "source": [
    "company = Company.objects.get(name=\"CCR - Rio Sp\")\n",
    "company"
   ]
  },
  {
   "cell_type": "code",
   "execution_count": null,
   "id": "62d0db77",
   "metadata": {},
   "outputs": [],
   "source": [
    "reps=Reporting.objects.filter(company=company\n",
    "                             ).values('occurrence_type__name'\n",
    "                                     ).annotate(qtd_por_classe=Count('uuid')\n",
    "                                               ).order_by('occurrence_type__name')\n",
    "reps"
   ]
  },
  {
   "cell_type": "code",
   "execution_count": null,
   "id": "1fb16092",
   "metadata": {},
   "outputs": [],
   "source": [
    "{a['occurrence_type__name']:a['qtd_por_classe'] for a in reps}"
   ]
  },
  {
   "cell_type": "code",
   "execution_count": null,
   "id": "9623585b",
   "metadata": {},
   "outputs": [],
   "source": [
    "for a in reps:\n",
    "    print(a)"
   ]
  },
  {
   "cell_type": "code",
   "execution_count": null,
   "id": "44f34202",
   "metadata": {},
   "outputs": [],
   "source": [
    "import pandas as pd"
   ]
  },
  {
   "cell_type": "code",
   "execution_count": null,
   "id": "5839abc5",
   "metadata": {},
   "outputs": [],
   "source": [
    "pd.DataFrame(data=reps).to_excel('ccr.xlsx')"
   ]
  },
  {
   "cell_type": "code",
   "execution_count": null,
   "id": "0fc6677c",
   "metadata": {},
   "outputs": [],
   "source": [
    "from django.contrib.contenttypes.models import ContentType"
   ]
  },
  {
   "cell_type": "code",
   "execution_count": null,
   "id": "a65ebaa5",
   "metadata": {},
   "outputs": [],
   "source": [
    "for a in ContentType.objects.all():\n",
    "    if 'daily' in a.model.lower() and :\n",
    "        print(a.id,a.model)"
   ]
  },
  {
   "cell_type": "code",
   "execution_count": null,
   "id": "09716f64",
   "metadata": {},
   "outputs": [],
   "source": [
    "ContentType.objects.all()[0].__dict__"
   ]
  },
  {
   "cell_type": "code",
   "execution_count": null,
   "id": "c14043aa",
   "metadata": {},
   "outputs": [],
   "source": [
    "company = Company.objects.get(name=\"CCR - Rio Sp\")\n",
    "company"
   ]
  },
  {
   "cell_type": "code",
   "execution_count": null,
   "id": "3ec4517f",
   "metadata": {},
   "outputs": [],
   "source": [
    "permission = UserPermission.objects.get(name='Coordenador/Gerente', companies=company)\n",
    "permission"
   ]
  },
  {
   "cell_type": "markdown",
   "id": "d0b4701f",
   "metadata": {},
   "source": [
    "# Erro de solicitação de acesso de usuários"
   ]
  },
  {
   "cell_type": "code",
   "execution_count": null,
   "id": "1b69dbc1",
   "metadata": {},
   "outputs": [],
   "source": [
    "for a in UserInCompany.objects.filter(permissions__name__in=['Coordenador','Usuário Padrão'],company=company):\n",
    "#     a.permissions = permission\n",
    "#     a.save()\n",
    "    print(a.permissions.name)"
   ]
  },
  {
   "cell_type": "code",
   "execution_count": null,
   "id": "cd39851a",
   "metadata": {},
   "outputs": [],
   "source": [
    "for a in UserInCompany.objects.filter(user__username='giovane.aguado'):\n",
    "    try:\n",
    "        UserPermission.objects.get(companies=a.company,name=a.permissions.name)\n",
    "        print('tudo certo pra',a.company.name,' Permissão: ',a.permissions.name)\n",
    "    except Exception as e:\n",
    "        print(f'essa permissão {a.permissions.name} não existe pra essa unidade {a.company.name} | Erro: {e}')"
   ]
  },
  {
   "cell_type": "code",
   "execution_count": null,
   "id": "d3534f22",
   "metadata": {},
   "outputs": [],
   "source": [
    "permission = UserPermission.objects.get(name='Suporte', companies=company)\n",
    "permission"
   ]
  },
  {
   "cell_type": "code",
   "execution_count": null,
   "id": "f9963507",
   "metadata": {},
   "outputs": [],
   "source": [
    "for a in permission.history.filter(history_date__lte='2023-11-14').order_by('-history_date')[:1]:\n",
    "    print(a)"
   ]
  },
  {
   "cell_type": "code",
   "execution_count": null,
   "id": "7500e467",
   "metadata": {},
   "outputs": [],
   "source": [
    "a.permissions['ReportingRelation']"
   ]
  },
  {
   "cell_type": "code",
   "execution_count": null,
   "id": "da10f43f",
   "metadata": {},
   "outputs": [],
   "source": [
    "b.permissions['ReportingRelation']"
   ]
  },
  {
   "cell_type": "code",
   "execution_count": null,
   "id": "316e9c9f",
   "metadata": {},
   "outputs": [],
   "source": [
    "for b in permission.history.filter(history_date__lte='2023-10-21').order_by('-history_date')[:1]:\n",
    "    print(b)"
   ]
  },
  {
   "cell_type": "code",
   "execution_count": null,
   "id": "686c9f8a",
   "metadata": {},
   "outputs": [],
   "source": [
    "for c,d in a.permissions.items():\n",
    "    print((c,b.permissions[c]==a.permissions[c]))\n",
    "    if c == 'MultipleDailyReport':\n",
    "        print(b.permissions[c],b.history_date)\n",
    "        print(a.permissions[c],a.history_date)"
   ]
  },
  {
   "cell_type": "code",
   "execution_count": null,
   "id": "774753da",
   "metadata": {},
   "outputs": [],
   "source": [
    "occs=OccurrenceType.objects.all()"
   ]
  },
  {
   "cell_type": "code",
   "execution_count": null,
   "id": "cb5da6b2",
   "metadata": {},
   "outputs": [],
   "source": [
    "for a in occs:\n",
    "    for field in a.form_fields['fields']:\n",
    "        if field.get('displayName') == 'Índice (Serial Antt)' or field.get('displayName') == 'Índice (Serial ANTT)' or field.get('displayName') == 'índice (Código do Ativo)':\n",
    "            field['displayName'] = 'Índice (Identificação Poder Concedente)'\n",
    "#             a.save()"
   ]
  },
  {
   "cell_type": "code",
   "execution_count": null,
   "id": "1f925916",
   "metadata": {},
   "outputs": [],
   "source": [
    "jobs=Job.objects.filter(number__in=['CCR-job-2023.71','CCR-job-2023.72','CCR-job-2023.84'])"
   ]
  },
  {
   "cell_type": "code",
   "execution_count": null,
   "id": "d56e8278",
   "metadata": {},
   "outputs": [],
   "source": [
    "jobs"
   ]
  },
  {
   "cell_type": "code",
   "execution_count": null,
   "id": "6be93dce",
   "metadata": {},
   "outputs": [],
   "source": [
    "Reporting.objects.filter(uuid__in=list(Reporting.objects.filter(job__in=jobs).values_list('uuid',flat=True))).count()"
   ]
  },
  {
   "cell_type": "code",
   "execution_count": null,
   "id": "1fe2a00f",
   "metadata": {},
   "outputs": [],
   "source": [
    "from helpers.signals import DisableSignals\n",
    "with DisableSignals():\n",
    "    Reporting.objects.filter(uuid__in=list(Reporting.objects.filter(job__in=jobs).values_list('uuid',flat=True)[:200])).delete()"
   ]
  },
  {
   "cell_type": "code",
   "execution_count": null,
   "id": "2960ab37",
   "metadata": {},
   "outputs": [],
   "source": [
    "reps.count()"
   ]
  },
  {
   "cell_type": "code",
   "execution_count": null,
   "id": "e87dbcf6",
   "metadata": {},
   "outputs": [],
   "source": [
    "from tqdm.notebook import tqdm\n",
    "for i in range(11):\n",
    "    for a in tqdm(reps[:200]):\n",
    "        a.delete()"
   ]
  },
  {
   "cell_type": "code",
   "execution_count": null,
   "id": "6c289427",
   "metadata": {},
   "outputs": [],
   "source": [
    "jobs.delete()"
   ]
  },
  {
   "cell_type": "code",
   "execution_count": null,
   "id": "0076a68c",
   "metadata": {},
   "outputs": [],
   "source": [
    "company = Company.objects.get(name='CCR - Rio Sp')\n",
    "occurrence_type_elemento = OccurrenceType.objects.get(name='Drenagem Profunda Elemento',company=company)"
   ]
  },
  {
   "cell_type": "code",
   "execution_count": null,
   "id": "835136bf",
   "metadata": {},
   "outputs": [],
   "source": [
    "Reporting.objects.filter(occurrence_type=occurrence_type_elemento,form_data__code='CLP 116 RJ 215+790 CC 1')"
   ]
  },
  {
   "cell_type": "code",
   "execution_count": null,
   "id": "03465956",
   "metadata": {},
   "outputs": [],
   "source": [
    "Reporting.objects.filter(form_data__has_key='therapy').count()"
   ]
  },
  {
   "cell_type": "code",
   "execution_count": null,
   "id": "e9cf1c1c",
   "metadata": {},
   "outputs": [],
   "source": [
    "counter=0\n",
    "reps=[]\n",
    "for a in Reporting.objects.filter(form_data__has_key='therapy'):\n",
    "    if len(a.form_data['therapy']) >0:\n",
    "        counter+=1\n",
    "        reps.append(a.uuid)"
   ]
  },
  {
   "cell_type": "code",
   "execution_count": null,
   "id": "476baf9a",
   "metadata": {},
   "outputs": [],
   "source": [
    "Reporting.objects.filter(form_data__has_key='therapy').count()"
   ]
  },
  {
   "cell_type": "code",
   "execution_count": null,
   "id": "3b34ecf3",
   "metadata": {},
   "outputs": [],
   "source": [
    "counter"
   ]
  },
  {
   "cell_type": "code",
   "execution_count": null,
   "id": "8e628bb1",
   "metadata": {},
   "outputs": [],
   "source": [
    "jobs=Job.objects.filter(inspection__isnull=False)"
   ]
  },
  {
   "cell_type": "code",
   "execution_count": null,
   "id": "0f8df423",
   "metadata": {},
   "outputs": [],
   "source": [
    "reps_n_job=Reporting.objects.filter(uuid__in=reps).exclude(job__in=jobs)\n",
    "reps_n_job.count()"
   ]
  },
  {
   "cell_type": "code",
   "execution_count": null,
   "id": "36e50b11",
   "metadata": {},
   "outputs": [],
   "source": [
    "reps_n_job[0],reps_n_job[0].uuid"
   ]
  },
  {
   "cell_type": "code",
   "execution_count": null,
   "id": "e510331f",
   "metadata": {},
   "outputs": [],
   "source": [
    "Reporting.objects.filter(form_data__has_key='therapy',job__in=jobs).count()"
   ]
  },
  {
   "cell_type": "code",
   "execution_count": null,
   "id": "a365a1fd",
   "metadata": {},
   "outputs": [],
   "source": []
  },
  {
   "cell_type": "code",
   "execution_count": null,
   "id": "11c5943c",
   "metadata": {},
   "outputs": [],
   "source": [
    "Job.objects.filter(inspection__isnull=False,reportings__in=reps).count()"
   ]
  },
  {
   "cell_type": "code",
   "execution_count": null,
   "id": "97b36802",
   "metadata": {},
   "outputs": [],
   "source": [
    "counter2=0\n",
    "reps_n_recuperacao=[]\n",
    "reps_tem_recuperacao=[]\n",
    "for a in reps:\n",
    "    for b in a.form_data['therapy']:\n",
    "        occ = OccurrenceType.objects.get(uuid=b.get('occurrence_type')) if b.get('occurrence_type') else None\n",
    "        if occ is not None and \"monitoração\" not in occ.name.lower() and b.get('occurrence_type') and not Reporting.objects.filter(occurrence_type__uuid=b['occurrence_type'],parent=a.parent,job__isnull=False).exists():\n",
    "            counter2+=1\n",
    "            reps_n_recuperacao.append(a)\n",
    "        else:\n",
    "            reps_tem_recuperacao.append(a)"
   ]
  },
  {
   "cell_type": "code",
   "execution_count": null,
   "id": "ac3bba78",
   "metadata": {},
   "outputs": [],
   "source": [
    "reps_n_recuperacao[0].occurrence_type,reps_n_recuperacao[0].__dict__"
   ]
  },
  {
   "cell_type": "code",
   "execution_count": null,
   "id": "f952239e",
   "metadata": {},
   "outputs": [],
   "source": [
    "counter2"
   ]
  },
  {
   "cell_type": "markdown",
   "id": "ec8da6cf",
   "metadata": {},
   "source": [
    "# Copiar usuários do ambiente compartilhado para CCR"
   ]
  },
  {
   "cell_type": "code",
   "execution_count": null,
   "id": "d03d9fd1",
   "metadata": {},
   "outputs": [],
   "source": [
    "from copy import deepcopy\n",
    "import json"
   ]
  },
  {
   "cell_type": "code",
   "execution_count": null,
   "id": "47f49842",
   "metadata": {},
   "outputs": [],
   "source": [
    "data=[]\n",
    "with open('data.json', 'r+') as fo:\n",
    "    form = json.load(fo)\n",
    "#     print(form.model)\n",
    "data.append(json.loads(form))"
   ]
  },
  {
   "cell_type": "code",
   "execution_count": null,
   "id": "88155717",
   "metadata": {},
   "outputs": [],
   "source": [
    "company_group= CompanyGroup.objects.first()\n",
    "company_group"
   ]
  },
  {
   "cell_type": "code",
   "execution_count": null,
   "id": "2ff16edf",
   "metadata": {},
   "outputs": [],
   "source": [
    "data_import=[]\n",
    "for x in data:\n",
    "    try:\n",
    "        \n",
    "        for a in x:\n",
    "            user=User()\n",
    "            for field in User._meta.fields:\n",
    "                if field.name == 'company_group':\n",
    "                    setattr(user, field.name, company_group)\n",
    "                    continue\n",
    "                if field.name in ['supervisor','responsible']:\n",
    "                    continue\n",
    "                setattr(user, field.name, a['fields'].get(field.name))\n",
    "\n",
    "            data_import.append(user)\n",
    "    except Exception as e:\n",
    "        print(x,e)"
   ]
  },
  {
   "cell_type": "code",
   "execution_count": null,
   "id": "ae6eae08",
   "metadata": {},
   "outputs": [],
   "source": [
    "data_import"
   ]
  },
  {
   "cell_type": "code",
   "execution_count": null,
   "id": "1dad5a48",
   "metadata": {},
   "outputs": [],
   "source": [
    "company = Company.objects.get(name='CCR - SPVias')\n",
    "up = UserPermission.objects.filter(companies=company)\n",
    "company"
   ]
  },
  {
   "cell_type": "code",
   "execution_count": null,
   "id": "ac3a5efd",
   "metadata": {},
   "outputs": [],
   "source": [
    "up"
   ]
  },
  {
   "cell_type": "code",
   "execution_count": null,
   "id": "6e625c07",
   "metadata": {},
   "outputs": [],
   "source": [
    "for a in data_import:\n",
    "#     a.save()\n",
    "    ui = UserInCompany(company=company,permissions=,user=a)\n",
    "#     ui.save()"
   ]
  },
  {
   "cell_type": "code",
   "execution_count": null,
   "id": "8310b354",
   "metadata": {},
   "outputs": [],
   "source": [
    "QueuedEmail._meta.fields"
   ]
  },
  {
   "cell_type": "code",
   "execution_count": null,
   "id": "d731196c",
   "metadata": {},
   "outputs": [],
   "source": [
    "QueuedEmail.objects.filter(title__icontains='senha',error=True).update(sent=True)"
   ]
  },
  {
   "cell_type": "code",
   "execution_count": null,
   "id": "1f413b4e",
   "metadata": {},
   "outputs": [],
   "source": [
    "qe[1].__dict__"
   ]
  },
  {
   "cell_type": "code",
   "execution_count": null,
   "id": "3524ea26",
   "metadata": {},
   "outputs": [],
   "source": [
    "uic=UserInCompany.objects.all().exclude(user__email__icontains='kartado').only('user__saml_nameid',\n",
    "                                                                               'permissions__name',\n",
    "                                                                               'company__name').distinct().order_by('user__first_name')\n",
    "uic.count()"
   ]
  },
  {
   "cell_type": "code",
   "execution_count": null,
   "id": "efe0f573",
   "metadata": {},
   "outputs": [],
   "source": [
    "uic[0].__dict__"
   ]
  },
  {
   "cell_type": "code",
   "execution_count": null,
   "id": "87b461e7",
   "metadata": {},
   "outputs": [],
   "source": [
    "data=[]\n",
    "for a in uic:\n",
    "    temp={}\n",
    "    temp['Nome Usuário'] = a.user.full_name\n",
    "    temp['Login Azure'] = a.user.saml_nameid\n",
    "    temp['Nivel de Acesso'] = a.permissions.name\n",
    "    temp['Unidade'] = a.company.name\n",
    "    data.append(temp)\n",
    "#     print(a.user.full_name,' | ',a.user.saml_nameid,)"
   ]
  },
  {
   "cell_type": "code",
   "execution_count": null,
   "id": "90ec4a38",
   "metadata": {},
   "outputs": [],
   "source": [
    "data[0]"
   ]
  },
  {
   "cell_type": "code",
   "execution_count": null,
   "id": "2890a5d8",
   "metadata": {},
   "outputs": [],
   "source": [
    "import pandas as pd"
   ]
  },
  {
   "cell_type": "code",
   "execution_count": null,
   "id": "8a11064e",
   "metadata": {},
   "outputs": [],
   "source": [
    "df = pd.DataFrame(data=data)"
   ]
  },
  {
   "cell_type": "code",
   "execution_count": null,
   "id": "5dd3adae",
   "metadata": {},
   "outputs": [],
   "source": [
    "df=df.set_index(['Nome Usuário'])"
   ]
  },
  {
   "cell_type": "code",
   "execution_count": null,
   "id": "dbb37e2b",
   "metadata": {},
   "outputs": [],
   "source": [
    "df.to_excel('CCRLogins.xlsx')"
   ]
  },
  {
   "cell_type": "code",
   "execution_count": null,
   "id": "3529b0f4",
   "metadata": {},
   "outputs": [],
   "source": [
    "user = User.objects.get(username='isabela.silveira')"
   ]
  },
  {
   "cell_type": "code",
   "execution_count": null,
   "id": "f4cafce1",
   "metadata": {},
   "outputs": [],
   "source": [
    "rep = Reporting.history.filter(number='CCR-DEF-2023.00003', company__name='CCR - SPVias')"
   ]
  },
  {
   "cell_type": "code",
   "execution_count": null,
   "id": "dd3f2ba3",
   "metadata": {},
   "outputs": [],
   "source": [
    "for a in rep:\n",
    "    print(a.history_type,a.approval_step.name)"
   ]
  },
  {
   "cell_type": "code",
   "execution_count": null,
   "id": "920bdda7",
   "metadata": {},
   "outputs": [],
   "source": [
    "Company.objects.all()"
   ]
  },
  {
   "cell_type": "code",
   "execution_count": null,
   "id": "2bc61b48",
   "metadata": {},
   "outputs": [],
   "source": [
    "from helpers.histories import bulk_update_with_history\n",
    "from tqdm.notebook import tqdm"
   ]
  },
  {
   "cell_type": "code",
   "execution_count": null,
   "id": "d576dadd",
   "metadata": {},
   "outputs": [],
   "source": [
    "reps=Reporting.objects.filter(form_data__has_key='inspection_campaign_year')"
   ]
  },
  {
   "cell_type": "code",
   "execution_count": null,
   "id": "bdf04ff4",
   "metadata": {},
   "outputs": [],
   "source": [
    "reps.count()"
   ]
  },
  {
   "cell_type": "code",
   "execution_count": null,
   "id": "f924e18c",
   "metadata": {},
   "outputs": [],
   "source": [
    "rep_edit=[]\n",
    "for a in tqdm(reps):\n",
    "    if isinstance(a.form_data['inspection_campaign_year'],int):\n",
    "        pass\n",
    "    else:\n",
    "        a.form_data['inspection_campaign_year'] = int(a.form_data['inspection_campaign_year']) if a.form_data['inspection_campaign_year'] is not None else None\n",
    "#         a.save()"
   ]
  },
  {
   "cell_type": "code",
   "execution_count": null,
   "id": "f440054e",
   "metadata": {},
   "outputs": [],
   "source": [
    "len(rep_edit)"
   ]
  },
  {
   "cell_type": "code",
   "execution_count": null,
   "id": "abb382be",
   "metadata": {},
   "outputs": [],
   "source": [
    "user=User.objects.get(username='rlcs')\n",
    "apontamentos = bulk_update_with_history(rep_edit,Reporting, use_django_bulk=True,batch_size=50,user=user)"
   ]
  },
  {
   "cell_type": "code",
   "execution_count": null,
   "id": "bd784870",
   "metadata": {},
   "outputs": [],
   "source": [
    "occ=OccurrenceType.objects.get(name='Manutenção EPS')\n",
    "occ"
   ]
  },
  {
   "cell_type": "code",
   "execution_count": null,
   "id": "38a1d359",
   "metadata": {},
   "outputs": [],
   "source": [
    "Reporting.objects.filter(occurrence_type__isnull=True).update(occurrence_type=occ)"
   ]
  },
  {
   "cell_type": "code",
   "execution_count": null,
   "id": "f142dd36",
   "metadata": {},
   "outputs": [],
   "source": [
    "for a in UserInFirm.objects.filter(user__email='danilo.tenorio@grupoccr.com.br'):\n",
    "    print(a.firm.name,a.firm.company)"
   ]
  },
  {
   "cell_type": "code",
   "execution_count": null,
   "id": "4ad3f3ce",
   "metadata": {},
   "outputs": [],
   "source": [
    "for a in UserInFirm.objects.filter(user__email='danilo.tenorio@grupoccr.com.br'):\n",
    "    a.uuid=None\n",
    "    a.user=User.objects.get(username='rlcs')\n",
    "#     a.save()"
   ]
  },
  {
   "cell_type": "code",
   "execution_count": null,
   "id": "14f694cf",
   "metadata": {},
   "outputs": [],
   "source": [
    "dados=[]\n",
    "erro=[]\n",
    "for a in Firm.objects.all().only('uuid'):\n",
    "    if a.uuid not in dados:\n",
    "        dados.append(a.uuid)\n",
    "    else:\n",
    "        erro.append(a)"
   ]
  },
  {
   "cell_type": "code",
   "execution_count": null,
   "id": "147ed6f0",
   "metadata": {},
   "outputs": [],
   "source": [
    "erro"
   ]
  },
  {
   "cell_type": "code",
   "execution_count": null,
   "id": "73d3b924",
   "metadata": {},
   "outputs": [],
   "source": [
    "from openpyxl import load_workbook\n",
    "import json\n",
    "from tqdm.notebook import tqdm\n",
    "from copy import deepcopy"
   ]
  },
  {
   "cell_type": "code",
   "execution_count": null,
   "id": "c6adc41c",
   "metadata": {},
   "outputs": [],
   "source": [
    "import re\n",
    "\n",
    "def convert_string(string: str) -> str:\n",
    "    if '_' in string:\n",
    "        # Convert snake_case to camelCase\n",
    "        return re.sub(r'_([a-z])', lambda x: x.group(1).upper(), string)\n",
    "    else:\n",
    "        # Convert camelCase to snake_case\n",
    "        return re.sub(r'([A-Z])', lambda x: '_' + x.group(1).lower(), string)"
   ]
  },
  {
   "cell_type": "code",
   "execution_count": null,
   "id": "380896f1",
   "metadata": {},
   "outputs": [],
   "source": [
    "filename='Pasta1'"
   ]
  },
  {
   "cell_type": "code",
   "execution_count": null,
   "id": "7798f089",
   "metadata": {},
   "outputs": [],
   "source": [
    "wb = load_workbook(filename + '.xlsx')\n",
    "sheetname = wb.sheetnames[0]\n",
    "# sheetname\n",
    "ws = wb[sheetname]"
   ]
  },
  {
   "cell_type": "code",
   "execution_count": null,
   "id": "ce85ec1a",
   "metadata": {},
   "outputs": [],
   "source": [
    "c1 = ws['A1'].value\n",
    "c2 = ws['B2'].value\n",
    "print(c1,c2)"
   ]
  },
  {
   "cell_type": "code",
   "execution_count": null,
   "id": "9e511cd9",
   "metadata": {},
   "outputs": [],
   "source": [
    "header = []\n",
    "values = []\n",
    "\n",
    "for index, row in enumerate(ws.rows):\n",
    "    if index == 0:\n",
    "        header = list([a.value for a in row])\n",
    "        continue\n",
    "    obj = {}\n",
    "    for col_index, cell in enumerate(row):\n",
    "        value = cell.value\n",
    "        obj[header[col_index]] = value\n",
    "    values.append(obj)"
   ]
  },
  {
   "cell_type": "code",
   "execution_count": null,
   "id": "e56ccf2b",
   "metadata": {},
   "outputs": [],
   "source": [
    "select=json.loads(values[0]['selectOptions'])['options']\n",
    "lane_select=json.loads('{\"options\":[{\"name\":\"Esquerdo\",\"value\":\"1\"},{\"name\":\"Direito\",\"value\":\"2\"}]}')['options']"
   ]
  },
  {
   "cell_type": "code",
   "execution_count": null,
   "id": "a9118b36",
   "metadata": {},
   "outputs": [],
   "source": [
    "select,lane_select"
   ]
  },
  {
   "cell_type": "code",
   "execution_count": null,
   "id": "48c72936",
   "metadata": {},
   "outputs": [],
   "source": [
    "values[0]"
   ]
  },
  {
   "cell_type": "code",
   "execution_count": null,
   "id": "8050273e",
   "metadata": {},
   "outputs": [],
   "source": [
    "rep_edit=[]\n",
    "for a in tqdm(values):\n",
    "    reps=Reporting.objects.filter(occurrence_type__name=a['classe'],form_data__has_key=convert_string(a['apiName']))\n",
    "    for rep in tqdm(reps):\n",
    "        rep_old=deepcopy(rep)\n",
    "        if rep.form_data.get('localization'):\n",
    "            try:\n",
    "                localization = int(rep.form_data.get('localization'))\n",
    "            except:\n",
    "                pass\n",
    "            else:\n",
    "                if isinstance(localization,int):\n",
    "                    rep.form_data['localization'] = next(selected['name'] for selected in select if selected['value'] == str(localization))\n",
    "        if rep.form_data.get('cabine'):\n",
    "            rep.form_data['cabine'] = str(rep.form_data.get('cabine'))\n",
    "        if rep.form_data.get('index'):\n",
    "            rep.form_data['index'] = str(rep.form_data.get('index'))\n",
    "        if rep.form_data.get('lane_side'):\n",
    "            try:\n",
    "                lane = int(rep.form_data.get('lane_side'))\n",
    "            except:\n",
    "                pass\n",
    "            else:\n",
    "                if isinstance(lane,int):\n",
    "                    rep.form_data['lane_side'] = next(selected_lane['name'] for selected_lane in lane_select if selected_lane['value'] == str(lane))\n",
    "        if rep.form_data.get('inspection_campaign_year'):\n",
    "            rep.form_data['inspection_campaign_year'] = int(rep.form_data.get('inspection_campaign_year'))\n",
    "        if rep_old.form_data != rep.form_data:\n",
    "            rep_edit.append(rep)"
   ]
  },
  {
   "cell_type": "code",
   "execution_count": null,
   "id": "4a003b01",
   "metadata": {},
   "outputs": [],
   "source": [
    "teste = rep_edit[23]\n",
    "len(rep_edit),teste.form_data,teste.number,teste.company"
   ]
  },
  {
   "cell_type": "code",
   "execution_count": null,
   "id": "340edcf5",
   "metadata": {},
   "outputs": [],
   "source": [
    "from helpers.histories import bulk_update_with_history"
   ]
  },
  {
   "cell_type": "code",
   "execution_count": null,
   "id": "3495a34f",
   "metadata": {},
   "outputs": [],
   "source": [
    "user=User.objects.get(username=\"rlcs\")"
   ]
  },
  {
   "cell_type": "code",
   "execution_count": null,
   "id": "01a60db2",
   "metadata": {},
   "outputs": [],
   "source": [
    "apontamentos = bulk_update_with_history(rep_edit,Reporting, use_django_bulk=True,batch_size=300,user=user)"
   ]
  },
  {
   "cell_type": "code",
   "execution_count": null,
   "id": "a501c889",
   "metadata": {},
   "outputs": [],
   "source": [
    "reps=Reporting.objects.filter(occurrence_type__name__in=['Monitoração Barreira New Jersey',\n",
    "                                                        'Barreira New Jersey'],form_data__has_key='ficha_barreira_nj')\n",
    "reps.count()"
   ]
  },
  {
   "cell_type": "code",
   "execution_count": null,
   "id": "a5b7344f",
   "metadata": {},
   "outputs": [],
   "source": [
    "rep_edit=[]\n",
    "for a in tqdm(reps):\n",
    "    if a.form_data.get('ficha_barreira_nj'):\n",
    "        a.form_data['id_ccr_antt'] = a.form_data.pop('ficha_barreira_nj')\n",
    "        rep_edit.append(a)"
   ]
  },
  {
   "cell_type": "code",
   "execution_count": null,
   "id": "9a23a54d",
   "metadata": {},
   "outputs": [],
   "source": [
    "rep_edit[0].number,rep_edit[0].company,len(rep_edit)"
   ]
  },
  {
   "cell_type": "code",
   "execution_count": null,
   "id": "48e8da3d",
   "metadata": {},
   "outputs": [],
   "source": [
    "for a in ApprovalStep.objects.filter(\n",
    "    approval_flow__target_model__icontains='reporting',name='Criado'\n",
    ").exclude(\n",
    "    approval_flow__company__name='CCR - Rio Sp'\n",
    "):\n",
    "    firms = Firm.objects.filter(company=a.approval_flow.company)\n",
    "    a.responsible_firms.add(*firms)"
   ]
  },
  {
   "cell_type": "code",
   "execution_count": null,
   "id": "9faa284a",
   "metadata": {},
   "outputs": [],
   "source": [
    "from copy import deepcopy"
   ]
  },
  {
   "cell_type": "code",
   "execution_count": null,
   "id": "d4716091",
   "metadata": {},
   "outputs": [],
   "source": [
    "import re\n",
    "\n",
    "def convert_string(string: str) -> str:\n",
    "    if '_' in string:\n",
    "        # Convert snake_case to camelCase\n",
    "        return re.sub(r'_([a-z])', lambda x: x.group(1).upper(), string)\n",
    "    else:\n",
    "        # Convert camelCase to snake_case\n",
    "        return re.sub(r'([A-Z])', lambda x: '_' + x.group(1).lower(), string)"
   ]
  },
  {
   "cell_type": "code",
   "execution_count": null,
   "id": "62171109",
   "metadata": {},
   "outputs": [],
   "source": [
    "occ=OccurrenceType.objects.get(\n",
    "    name='Monitoração de Drenagem Profunda Ficha Poder Concedente'\n",
    "#     uuid='6193ea0b-c9ca-4d32-97ec-cf84980f301f'\n",
    ")\n",
    "occ.uuid,occ.name"
   ]
  },
  {
   "cell_type": "code",
   "execution_count": null,
   "id": "b1abe920",
   "metadata": {},
   "outputs": [],
   "source": [
    "reps=Reporting.objects.filter(\n",
    "    occurrence_type=occ\n",
    ")\n",
    "reps.count()"
   ]
  },
  {
   "cell_type": "code",
   "execution_count": null,
   "id": "272a6632",
   "metadata": {},
   "outputs": [],
   "source": [
    "alter=[convert_string(a) for a in ['holeKindCelular', 'holeKindTubular', 'holeKindOther', 'holeKindOtherExit']]\n",
    "alter"
   ]
  },
  {
   "cell_type": "code",
   "execution_count": null,
   "id": "5fb7811e",
   "metadata": {},
   "outputs": [],
   "source": [
    "rep_edit=[]\n",
    "for i,a in enumerate(reps):\n",
    "    rep_bkp=deepcopy(a)\n",
    "    if not isinstance(a.form_data.get('format',[]),list):\n",
    "        if not a.form_data['format'] == None:\n",
    "            a.form_data['format'] = [a.form_data['format']]\n",
    "#     if not isinstance(a.form_data.get('material_rev_mont',[]),list):\n",
    "#         a.form_data['material_rev_mont'] = [a.form_data['material_rev_mont']]\n",
    "#     if not isinstance(a.form_data.get('revest_material',[]),list):\n",
    "#         a.form_data['revest_material'] = [a.form_data['revest_material']]\n",
    "    for b in alter:\n",
    "        if b in a.form_data.keys():\n",
    "            if not isinstance(a.form_data[b],list):\n",
    "                if not a.form_data[b] == None:\n",
    "                    a.form_data[b] = [a.form_data[b]]\n",
    "    if rep_bkp.form_data != a.form_data:\n",
    "        rep_edit.append(a)"
   ]
  },
  {
   "cell_type": "code",
   "execution_count": null,
   "id": "f33baa52",
   "metadata": {
    "scrolled": true
   },
   "outputs": [],
   "source": [
    "len(rep_edit),rep_edit[0].__dict__"
   ]
  },
  {
   "cell_type": "code",
   "execution_count": null,
   "id": "73b3369e",
   "metadata": {},
   "outputs": [],
   "source": [
    "from tqdm.notebook import tqdm\n",
    "from helpers.histories import bulk_update_with_history"
   ]
  },
  {
   "cell_type": "code",
   "execution_count": null,
   "id": "bc150d1b",
   "metadata": {},
   "outputs": [],
   "source": [
    "user=User.objects.get(username=\"rlcs\")"
   ]
  },
  {
   "cell_type": "code",
   "execution_count": null,
   "id": "fa2a8fa7",
   "metadata": {},
   "outputs": [],
   "source": [
    "apontamentos = bulk_update_with_history(rep_edit,Reporting, use_django_bulk=True,batch_size=100,user=user)"
   ]
  },
  {
   "cell_type": "code",
   "execution_count": null,
   "id": "1f5c9aab",
   "metadata": {},
   "outputs": [],
   "source": [
    "# tira as opções selecionadas com None da lista pois há muitas vazias e com selectMultiple selecionado None\n",
    "rep_edit=[]\n",
    "for a in tqdm(reps):\n",
    "    rep_bkp=deepcopy(a)\n",
    "    if a.form_data.get('format'):\n",
    "        for i,b in enumerate(a.form_data.get('format')):\n",
    "            if b == None:\n",
    "                del a.form_data['format'][i]\n",
    "    for c in alter:\n",
    "        if a.form_data.get(c):\n",
    "            for i,b in enumerate(a.form_data.get(c)):\n",
    "                if b == None:\n",
    "                    del a.form_data[c][i]\n",
    "    if rep_bkp.form_data != a.form_data:\n",
    "        rep_edit.append(a)"
   ]
  },
  {
   "cell_type": "code",
   "execution_count": null,
   "id": "ee67f476",
   "metadata": {
    "scrolled": true
   },
   "outputs": [],
   "source": [
    "for a in rep_bkp.history.all().order_by('-history_date'):\n",
    "    print(a.form_data.get('format'),a.history_date)"
   ]
  },
  {
   "cell_type": "code",
   "execution_count": null,
   "id": "851f2a97",
   "metadata": {},
   "outputs": [],
   "source": [
    "rep_bkp.excel_imports"
   ]
  },
  {
   "cell_type": "code",
   "execution_count": null,
   "id": "16c3e7aa",
   "metadata": {},
   "outputs": [],
   "source": [
    "for a in rep_bkp.occurrence_type.history.all().order_by('-history_date'):\n",
    "    for b in a.form_fields['fields']:\n",
    "        if b['apiName'] == 'holeKindTubular':\n",
    "            print(b,a.history_date)"
   ]
  },
  {
   "cell_type": "code",
   "execution_count": null,
   "id": "48da7625",
   "metadata": {
    "scrolled": true
   },
   "outputs": [],
   "source": [
    "rep_edit[0].form_data,rep_edit[0].number,"
   ]
  },
  {
   "cell_type": "code",
   "execution_count": null,
   "id": "2186a6f2",
   "metadata": {},
   "outputs": [],
   "source": [
    "Reporting.objects.get(uuid='88f0bb50-eceb-4c10-a7ce-c8b7dede7ebe').history.all().order_by('-history_date')[1].form_data"
   ]
  },
  {
   "cell_type": "code",
   "execution_count": null,
   "id": "0d94c1ab",
   "metadata": {},
   "outputs": [],
   "source": [
    "# alter format field\n",
    "rep_edit=[]\n",
    "for i,a in enumerate(reps):\n",
    "    if not isinstance(a.form_data.get('format',[]),list):\n",
    "        a.form_data['format'] = [a.form_data['format']]\n",
    "    if not isinstance(a.form_data.get('material_rev_mont',[]),list):\n",
    "        a.form_data['material_rev_mont'] = [a.form_data['material_rev_mont']]\n",
    "    if not isinstance(a.form_data.get('revest_material',[]),list):\n",
    "        a.form_data['revest_material'] = [a.form_data['revest_material']]\n",
    "    rep_edit.append(a)"
   ]
  },
  {
   "cell_type": "code",
   "execution_count": null,
   "id": "4410d206",
   "metadata": {},
   "outputs": [],
   "source": [
    "len(rep_edit),rep_edit[0].form_data,rep_edit[0].number"
   ]
  },
  {
   "cell_type": "code",
   "execution_count": null,
   "id": "579a9c10",
   "metadata": {},
   "outputs": [],
   "source": [
    "for key,value in occ.form_fields.items():\n",
    "    print(key)\n",
    "    for i in occ.form_fields[key]:\n",
    "        print(i)"
   ]
  },
  {
   "cell_type": "code",
   "execution_count": null,
   "id": "65ce9f92",
   "metadata": {},
   "outputs": [],
   "source": [
    "reps_ver=Reporting.objects.filter(\n",
    "    occurrence_type=occ,\n",
    "    form_data__has_key='format',\n",
    "    number='CCR-OAC-2024.00036'\n",
    ")"
   ]
  },
  {
   "cell_type": "code",
   "execution_count": null,
   "id": "0b939f1e",
   "metadata": {},
   "outputs": [],
   "source": [
    "for a in reps_ver:\n",
    "    for field in a.occurrence_type.form_fields['fields']:\n",
    "        for k,v in a.form_data.items():\n",
    "            if convert_string(field['apiName']) == k:\n",
    "                print(field['dataType'],k,type(v),v)"
   ]
  },
  {
   "cell_type": "code",
   "execution_count": null,
   "id": "5e9eef90",
   "metadata": {},
   "outputs": [],
   "source": [
    "group=[]\n",
    "group+=[i['members'] for i in occ.form_fields['groups']]"
   ]
  },
  {
   "cell_type": "code",
   "execution_count": null,
   "id": "6b19464b",
   "metadata": {},
   "outputs": [],
   "source": [
    "flat_list = [item for sublist in group for item in sublist]\n",
    "\n",
    "print(flat_list)"
   ]
  },
  {
   "cell_type": "code",
   "execution_count": null,
   "id": "cbfc16c7",
   "metadata": {},
   "outputs": [],
   "source": [
    "group"
   ]
  },
  {
   "cell_type": "code",
   "execution_count": null,
   "id": "95d5ec84",
   "metadata": {},
   "outputs": [],
   "source": [
    "reps=Reporting.objects.filter(form_data__monitoring_kind='1',\n",
    "                              company__name='CCR - Rio Sp',\n",
    "                             occurrence_type__name='')\n",
    "reps.count()"
   ]
  },
  {
   "cell_type": "code",
   "execution_count": null,
   "id": "17a6b8d3",
   "metadata": {},
   "outputs": [],
   "source": [
    "for a in reps:\n",
    "    print(a.form_data['monitoring_kind'])"
   ]
  },
  {
   "cell_type": "code",
   "execution_count": null,
   "id": "f1a3d199",
   "metadata": {},
   "outputs": [],
   "source": [
    "occs=OccurrenceType.objects.all()"
   ]
  },
  {
   "cell_type": "code",
   "execution_count": null,
   "id": "c242de23",
   "metadata": {},
   "outputs": [],
   "source": [
    "monitoring=[]\n",
    "for a in occs:\n",
    "    for b in a.form_fields['fields']:\n",
    "        if b['apiName'] == 'monitoringKind':\n",
    "            monitoring.append(a)"
   ]
  },
  {
   "cell_type": "code",
   "execution_count": null,
   "id": "4ea8fcdb",
   "metadata": {},
   "outputs": [],
   "source": [
    "monitoring"
   ]
  },
  {
   "cell_type": "code",
   "execution_count": null,
   "id": "ff4cce07",
   "metadata": {},
   "outputs": [],
   "source": [
    "for a in monitoring:\n",
    "    for b in a.form_fields['fields']:\n",
    "        if b['apiName'] == 'monitoringKind':\n",
    "            print(a.name,b['selectOptions']['options'])"
   ]
  },
  {
   "cell_type": "code",
   "execution_count": null,
   "id": "9e39aa82",
   "metadata": {},
   "outputs": [],
   "source": [
    "lista=['CCR-OAC-2024.00013',\n",
    "'CCR-OAC-2024.00012',\n",
    "'CCR-OAC-2024.00011',\n",
    "'CCR-OAC-2024.00010',\n",
    "'CCR-OAC-2024.00009',\n",
    "'CCR-OAC-2024.00008',\n",
    "'CCR-OAC-2024.00007',\n",
    "'CCR-OAC-2024.00006',\n",
    "'CCR-OAC-2024.00005',\n",
    "'CCR-OAC-2024.00004',\n",
    "'CCR-OAC-2024.00003',\n",
    "'CCR-OAC-2024.00002',\n",
    "'CCR-OAC-2024.00001',\n",
    "'CCR-DEF-2024.26274',\n",
    "'CCR-DEF-2024.26273',\n",
    "'CCR-DEF-2024.23440',]\n",
    "len(lista)"
   ]
  },
  {
   "cell_type": "code",
   "execution_count": null,
   "id": "9f4fe57b",
   "metadata": {},
   "outputs": [],
   "source": [
    "reps=Reporting.objects.filter(number__in=lista,\n",
    "                              company__name='CCR - Rio Sp')\n",
    "reps.count()"
   ]
  },
  {
   "cell_type": "code",
   "execution_count": null,
   "id": "283458b2",
   "metadata": {},
   "outputs": [],
   "source": [
    "reps.delete()"
   ]
  },
  {
   "cell_type": "code",
   "execution_count": null,
   "id": "48bc7288",
   "metadata": {},
   "outputs": [],
   "source": [
    "reps=Reporting.objects.filter(occurrence_type__name='Monitoração de Sinalização Vertical',\n",
    "                        company__name='CCR - Rio Sp', form_data__id_ccr_antt__isnull=True,)"
   ]
  },
  {
   "cell_type": "code",
   "execution_count": null,
   "id": "f4430af4",
   "metadata": {},
   "outputs": [],
   "source": [
    "reps.count()"
   ]
  },
  {
   "cell_type": "code",
   "execution_count": null,
   "id": "4b390eb3",
   "metadata": {},
   "outputs": [],
   "source": [
    "for a in reps:\n",
    "    print(a.parent.form_data['id_ccr_antt'])"
   ]
  },
  {
   "cell_type": "code",
   "execution_count": null,
   "id": "5e923a28",
   "metadata": {},
   "outputs": [],
   "source": [
    "for a in reps:\n",
    "    try:\n",
    "        a.form_data['id_ccr_antt'] = a.parent.form_data['id_ccr_antt']\n",
    "#         a.save()\n",
    "    except:\n",
    "        print(a)"
   ]
  },
  {
   "cell_type": "code",
   "execution_count": null,
   "id": "5f256d9b",
   "metadata": {},
   "outputs": [],
   "source": []
  },
  {
   "cell_type": "code",
   "execution_count": null,
   "id": "6e3efb7e",
   "metadata": {},
   "outputs": [],
   "source": [
    "Dispositivos_MonitoraçãoAtualizado.xlsx"
   ]
  },
  {
   "cell_type": "code",
   "execution_count": null,
   "id": "3e4d1d59",
   "metadata": {},
   "outputs": [],
   "source": [
    "file=reps[0].excel_imports.first()"
   ]
  },
  {
   "cell_type": "code",
   "execution_count": null,
   "id": "3519f429",
   "metadata": {},
   "outputs": [],
   "source": [
    "import json\n",
    "with file.preview_file.open() as fo:\n",
    "    preview = json.load(fo)"
   ]
  },
  {
   "cell_type": "code",
   "execution_count": null,
   "id": "51631718",
   "metadata": {},
   "outputs": [],
   "source": [
    "for rep in preview['reportings']:\n",
    "    print(rep.keys())\n",
    "#     if rep['columnErrors']:\n",
    "#         print(\"\\t\".join([str(rep['row']), *rep['columnErrors']]))"
   ]
  },
  {
   "cell_type": "code",
   "execution_count": null,
   "id": "f91e33d4",
   "metadata": {},
   "outputs": [],
   "source": [
    "reps=Reporting.objects.filter(occurrence_type__name='Retrorrefletância Horizontal de Zebrado',\n",
    "                        company__name='CCR - Rio Sp', form_data__has_key='year')\n",
    "reps.count()"
   ]
  },
  {
   "cell_type": "code",
   "execution_count": null,
   "id": "0a198258",
   "metadata": {},
   "outputs": [],
   "source": [
    "rep_edit=[]\n",
    "for a in reps:\n",
    "    if a.form_data.get('year'):\n",
    "        a.form_data['inspection_campaign_year'] = a.form_data.pop('year')\n",
    "    if a.form_data.get('semester'):\n",
    "        a.form_data['inspection_campaign_semester'] = a.form_data.pop('semester')\n",
    "    rep_edit.append(a)"
   ]
  },
  {
   "cell_type": "code",
   "execution_count": null,
   "id": "7f1a63ee",
   "metadata": {},
   "outputs": [],
   "source": [
    "rep_edit[10].form_data"
   ]
  },
  {
   "cell_type": "code",
   "execution_count": null,
   "id": "6a096b19",
   "metadata": {},
   "outputs": [],
   "source": [
    "from tqdm.notebook import tqdm\n",
    "from helpers.histories import bulk_update_with_history"
   ]
  },
  {
   "cell_type": "code",
   "execution_count": null,
   "id": "51eb2de7",
   "metadata": {},
   "outputs": [],
   "source": [
    "user=User.objects.get(username=\"rlcs\")"
   ]
  },
  {
   "cell_type": "code",
   "execution_count": null,
   "id": "ac668eeb",
   "metadata": {},
   "outputs": [],
   "source": [
    "apontamentos = bulk_update_with_history(rep_edit,Reporting, use_django_bulk=True,batch_size=100,user=user)"
   ]
  },
  {
   "cell_type": "code",
   "execution_count": null,
   "id": "68acb74b",
   "metadata": {},
   "outputs": [],
   "source": []
  },
  {
   "cell_type": "code",
   "execution_count": null,
   "id": "8ec11f9c",
   "metadata": {},
   "outputs": [],
   "source": [
    "from openpyxl import load_workbook"
   ]
  },
  {
   "cell_type": "code",
   "execution_count": null,
   "id": "af977884",
   "metadata": {},
   "outputs": [],
   "source": [
    "filename='Dispositivos_MonitoraçãoAtualizado'"
   ]
  },
  {
   "cell_type": "code",
   "execution_count": null,
   "id": "2d8b1f59",
   "metadata": {},
   "outputs": [],
   "source": [
    "wb = load_workbook(filename + '.xlsx')\n",
    "sheetname = wb.sheetnames[0]\n",
    "# sheetname\n",
    "ws = wb[sheetname]"
   ]
  },
  {
   "cell_type": "code",
   "execution_count": null,
   "id": "68b2d3a6",
   "metadata": {},
   "outputs": [],
   "source": [
    "header = []\n",
    "values = []\n",
    "\n",
    "for index, row in enumerate(ws.rows):\n",
    "    if index == 0:\n",
    "        header = list([a.value for a in row])\n",
    "        continue\n",
    "    obj = {}\n",
    "    for col_index, cell in enumerate(row):\n",
    "        value = cell.value\n",
    "        obj[header[col_index]] = value\n",
    "    values.append(obj)"
   ]
  },
  {
   "cell_type": "code",
   "execution_count": null,
   "id": "f0e9332c",
   "metadata": {},
   "outputs": [],
   "source": [
    "values[0],len(values),Reporting.objects.get(number=values[0]['Código Apontamento'],company__name='CCR - Rio Sp')"
   ]
  },
  {
   "cell_type": "code",
   "execution_count": null,
   "id": "b8017ed3",
   "metadata": {},
   "outputs": [],
   "source": [
    "for a in values:\n",
    "    rep = Reporting.objects.get(number=a['Código Apontamento'],company__name='CCR - Rio Sp')\n",
    "    rep.form_data['rame']=a['Ramo']\n",
    "    rep.save()"
   ]
  },
  {
   "cell_type": "code",
   "execution_count": null,
   "id": "c69fdc4b",
   "metadata": {},
   "outputs": [],
   "source": [
    "for a in OccurrenceType.objects.filter(company__name='CCR - Rio Sp')"
   ]
  },
  {
   "cell_type": "code",
   "execution_count": null,
   "id": "d3372272",
   "metadata": {},
   "outputs": [],
   "source": []
  },
  {
   "cell_type": "code",
   "execution_count": null,
   "id": "b0314374",
   "metadata": {},
   "outputs": [],
   "source": [
    "import re\n",
    "reps = Reporting.objects.filter(\n",
    "    form_data__inspection_campaign_year=2022\n",
    "#     form_data__inspection_campaign_year__regex=r'^\\d+$').exclude(form_data__inspection_campaign_year__gte=0.0\n",
    ")\n",
    "reps.count()"
   ]
  },
  {
   "cell_type": "code",
   "execution_count": null,
   "id": "2eefc48a",
   "metadata": {},
   "outputs": [],
   "source": [
    "reps[0].number,reps[0].occurrence_type.name"
   ]
  },
  {
   "cell_type": "code",
   "execution_count": null,
   "id": "efe8f3f3",
   "metadata": {},
   "outputs": [],
   "source": [
    "rep_edit=[]\n",
    "for a in tqdm(reps):\n",
    "    if not isinstance(a.form_data.get('inspection_campaign_year'),int) and a.form_data.get('inspection_campaign_year') is not None:\n",
    "        a.form_data['inspection_campaign_year'] = int(a.form_data['inspection_campaign_year'])\n",
    "        rep_edit.append(a)"
   ]
  },
  {
   "cell_type": "code",
   "execution_count": null,
   "id": "9dbbff4c",
   "metadata": {},
   "outputs": [],
   "source": [
    "len(rep_edit),reps[0].form_data"
   ]
  },
  {
   "cell_type": "code",
   "execution_count": null,
   "id": "fceea820",
   "metadata": {},
   "outputs": [],
   "source": [
    "from tqdm.notebook import tqdm"
   ]
  },
  {
   "cell_type": "code",
   "execution_count": null,
   "id": "11cf6d06",
   "metadata": {},
   "outputs": [],
   "source": [
    "rep_edit=[]\n",
    "for a in tqdm(reps):\n",
    "    if isinstance(a.form_data['inspection_campaign_year'],str):\n",
    "        a.form_data['inspection_campaign_year'] = int(a.form_data['inspection_campaign_year'])\n",
    "        rep_edit.append(a)"
   ]
  },
  {
   "cell_type": "code",
   "execution_count": null,
   "id": "4a4ba900",
   "metadata": {},
   "outputs": [],
   "source": [
    "len(rep_edit)"
   ]
  },
  {
   "cell_type": "code",
   "execution_count": null,
   "id": "01e3c5d9",
   "metadata": {},
   "outputs": [],
   "source": [
    "rep=Reporting.objects.get(uuid='25ab9900-ec3d-42d3-8a90-1038d2337b50')"
   ]
  },
  {
   "cell_type": "code",
   "execution_count": null,
   "id": "37d6ec12",
   "metadata": {},
   "outputs": [],
   "source": [
    "rep.form_data"
   ]
  },
  {
   "cell_type": "code",
   "execution_count": null,
   "id": "817a8f83",
   "metadata": {},
   "outputs": [],
   "source": [
    "Reporting.objects.filter(excel_imports__isnull=False).first().excel_imports.all()"
   ]
  },
  {
   "cell_type": "code",
   "execution_count": null,
   "id": "f3b4f5e7",
   "metadata": {},
   "outputs": [],
   "source": [
    "for a in tqdm(OccurrenceType.objects.filter(company__name='CCR - Rio Sp')):\n",
    "    can_save=False\n",
    "    for b in a.form_fields['fields']:\n",
    "        if 'antt' in b['displayName'].lower() and not 'Serial' in b['displayName']:\n",
    "            b['displayName'] = b['displayName'].replace('ANTT', 'Poder Concedente')\n",
    "            can_save=True\n",
    "    if can_save:\n",
    "        a.save()"
   ]
  },
  {
   "cell_type": "code",
   "execution_count": null,
   "id": "31b9742a",
   "metadata": {},
   "outputs": [],
   "source": [
    "company = Company.objects.get(name='CCR - SPVias')"
   ]
  },
  {
   "cell_type": "code",
   "execution_count": null,
   "id": "12857ba6",
   "metadata": {},
   "outputs": [],
   "source": [
    "for a in company.history.all().order_by('-history_date'):\n",
    "    print(a.history_date,a.history_user,a.custom_options['dailyReportSignaling'])\n",
    "    print('---------------------------------------------')"
   ]
  },
  {
   "cell_type": "code",
   "execution_count": null,
   "id": "2437796c",
   "metadata": {},
   "outputs": [],
   "source": [
    "rep=Reporting.objects.get(number='CCR-FDO-2024.02887')"
   ]
  },
  {
   "cell_type": "code",
   "execution_count": null,
   "id": "4ad4486a",
   "metadata": {},
   "outputs": [],
   "source": [
    "rep.form_data['id_ccr_antt'] = 'OC116SP_192+300_PN_01_R0'\n",
    "rep.save()"
   ]
  },
  {
   "cell_type": "markdown",
   "id": "279f6649",
   "metadata": {},
   "source": [
    "# Ajuste colunas do excel importadas com lat e long"
   ]
  },
  {
   "cell_type": "code",
   "execution_count": null,
   "id": "def11cd9",
   "metadata": {},
   "outputs": [],
   "source": [
    "from helpers.signals import DisableSignals\n",
    "from tqdm.notebook import tqdm\n",
    "from helpers.histories import bulk_update_with_history\n",
    "import re\n",
    "from django.db.models import Q"
   ]
  },
  {
   "cell_type": "code",
   "execution_count": null,
   "id": "8fc24177",
   "metadata": {},
   "outputs": [],
   "source": [
    "def convert_string(string: str) -> str:\n",
    "    if '_' in string:\n",
    "        # Convert snake_case to camelCase\n",
    "        return re.sub(r'_([a-z])', lambda x: x.group(1).upper(), string)\n",
    "    else:\n",
    "        # Convert camelCase to snake_case\n",
    "        return re.sub(r'([A-Z])', lambda x: '_' + x.group(1).lower(), string)"
   ]
  },
  {
   "cell_type": "code",
   "execution_count": null,
   "id": "ba310141",
   "metadata": {},
   "outputs": [],
   "source": [
    "user=User.objects.get(username='rlcs')"
   ]
  },
  {
   "cell_type": "code",
   "execution_count": null,
   "id": "3b0bb4cc",
   "metadata": {},
   "outputs": [],
   "source": [
    "occs=[]\n",
    "c=0\n",
    "for a in OccurrenceType.objects.all():\n",
    "    for b in a.form_fields['fields']:\n",
    "        if b['displayName'] == 'Latitude':\n",
    "            occs.append(a.uuid)\n",
    "            print(a.name,b['apiName'],a.uuid,c)\n",
    "            c+=1"
   ]
  },
  {
   "cell_type": "code",
   "execution_count": null,
   "id": "5651176f",
   "metadata": {},
   "outputs": [],
   "source": [
    "occs[6]"
   ]
  },
  {
   "cell_type": "code",
   "execution_count": null,
   "id": "9800b5f3",
   "metadata": {},
   "outputs": [],
   "source": [
    "reps=Reporting.objects.filter(\n",
    "    occurrence_type__uuid__in=[occs[10]],\n",
    "    created_at__gte='2024-2-1')\n",
    "reps.count()"
   ]
  },
  {
   "cell_type": "code",
   "execution_count": null,
   "id": "52b3fd2a",
   "metadata": {},
   "outputs": [],
   "source": [
    "reps_top=[]\n",
    "for a in tqdm(reps):\n",
    "    if a.history.filter(history_user=user).exists():\n",
    "        continue\n",
    "    reps_top.append(a)\n",
    "len(reps_top)"
   ]
  },
  {
   "cell_type": "code",
   "execution_count": null,
   "id": "28ea26ba",
   "metadata": {
    "scrolled": true
   },
   "outputs": [],
   "source": [
    "rep_edit=[]\n",
    "for a in tqdm(reps):\n",
    "    lat = next(convert_string(b['apiName']) for b in a.occurrence_type.form_fields['fields'] if b['displayName'] == 'Latitude')\n",
    "    long = next(convert_string(b['apiName']) for b in a.occurrence_type.form_fields['fields'] if b['displayName'] == 'Longitude')\n",
    "    a.form_data[lat] = a.point.y\n",
    "    a.form_data[long] = a.point.x\n",
    "    rep_edit.append(a)\n",
    "#     with DisableSignals():\n",
    "#         a.save()"
   ]
  },
  {
   "cell_type": "code",
   "execution_count": null,
   "id": "ecbc82f9",
   "metadata": {},
   "outputs": [],
   "source": [
    "apontamentos = bulk_update_with_history(rep_edit,Reporting, use_django_bulk=True,batch_size=100,user=user)"
   ]
  },
  {
   "cell_type": "code",
   "execution_count": null,
   "id": "f8f621da",
   "metadata": {},
   "outputs": [],
   "source": [
    "a.point.x,a.point.y,a.number,a.parent.number"
   ]
  },
  {
   "cell_type": "code",
   "execution_count": null,
   "id": "3b24bfd5",
   "metadata": {},
   "outputs": [],
   "source": [
    "teste=[]\n",
    "for a in tqdm(reps):\n",
    "    if a.occurrence_type.name not in teste:\n",
    "        teste.append(a.occurrence_type.name)"
   ]
  },
  {
   "cell_type": "code",
   "execution_count": null,
   "id": "c985f7bc",
   "metadata": {},
   "outputs": [],
   "source": [
    "teste"
   ]
  },
  {
   "cell_type": "code",
   "execution_count": null,
   "id": "ff43561d",
   "metadata": {},
   "outputs": [],
   "source": [
    "for a in tqdm(reps):\n",
    "    if a.number == 'CCR-Inv-2024.07009':\n",
    "        t=a\n",
    "        print(a)"
   ]
  },
  {
   "cell_type": "code",
   "execution_count": null,
   "id": "9551869c",
   "metadata": {},
   "outputs": [],
   "source": [
    "t.historicalreporting.all()"
   ]
  },
  {
   "cell_type": "code",
   "execution_count": null,
   "id": "2bd55d99",
   "metadata": {},
   "outputs": [],
   "source": [
    "for a in values:\n",
    "    mdr=pego rdo\n",
    "    mdr.daily_report_occurrence.clear()"
   ]
  },
  {
   "cell_type": "code",
   "execution_count": null,
   "id": "0d12b9ac",
   "metadata": {},
   "outputs": [],
   "source": [
    ".set(dro),.add(dro),.remove(dro),clear()"
   ]
  },
  {
   "cell_type": "code",
   "execution_count": null,
   "id": "90a6e009",
   "metadata": {},
   "outputs": [],
   "source": [
    "from openpyxl import load_workbook\n",
    "import json\n",
    "from tqdm.notebook import tqdm\n",
    "from copy import deepcopy"
   ]
  },
  {
   "cell_type": "code",
   "execution_count": null,
   "id": "4f684248",
   "metadata": {},
   "outputs": [],
   "source": [
    "import re\n",
    "\n",
    "def convert_string(string: str) -> str:\n",
    "    if '_' in string:\n",
    "        # Convert snake_case to camelCase\n",
    "        return re.sub(r'_([a-z])', lambda x: x.group(1).upper(), string)\n",
    "    else:\n",
    "        # Convert camelCase to snake_case\n",
    "        return re.sub(r'([A-Z])', lambda x: '_' + x.group(1).lower(), string)"
   ]
  },
  {
   "cell_type": "code",
   "execution_count": null,
   "id": "8bea9097",
   "metadata": {},
   "outputs": [],
   "source": [
    "filename='ccrAtualizarApontamentos'"
   ]
  },
  {
   "cell_type": "code",
   "execution_count": null,
   "id": "13da55e9",
   "metadata": {},
   "outputs": [],
   "source": [
    "wb = load_workbook(filename + '.xlsx')\n",
    "sheetname = wb.sheetnames[0]\n",
    "# sheetname\n",
    "ws = wb[sheetname]"
   ]
  },
  {
   "cell_type": "code",
   "execution_count": null,
   "id": "89f77b81",
   "metadata": {},
   "outputs": [],
   "source": [
    "c1 = ws['A1'].value\n",
    "c2 = ws['B2'].value\n",
    "print(c1,c2)"
   ]
  },
  {
   "cell_type": "code",
   "execution_count": null,
   "id": "16a0c1d7",
   "metadata": {},
   "outputs": [],
   "source": [
    "header = []\n",
    "values = []\n",
    "\n",
    "for index, row in enumerate(ws.rows):\n",
    "    if index == 0:\n",
    "        header = list([a.value for a in row])\n",
    "        continue\n",
    "    obj = {}\n",
    "    for col_index, cell in enumerate(row):\n",
    "        value = cell.value\n",
    "        obj[header[col_index]] = value\n",
    "    values.append(obj)"
   ]
  },
  {
   "cell_type": "code",
   "execution_count": null,
   "id": "93cefc40",
   "metadata": {},
   "outputs": [],
   "source": [
    "values[0],len(values)"
   ]
  },
  {
   "cell_type": "code",
   "execution_count": null,
   "id": "9d81381c",
   "metadata": {},
   "outputs": [],
   "source": [
    "rep_edit=[]\n",
    "for a in tqdm(values):\n",
    "    rep = Reporting.objects.get(number=a['Código apontamento'])\n",
    "    rep.form_data['id_ccr_antt'] = a['Identificação Poder Concedente']\n",
    "    rep.form_data['lat'] = a['Lat']\n",
    "    rep.form_data['long'] = a['Long']\n",
    "    rep_edit.append(rep)"
   ]
  },
  {
   "cell_type": "code",
   "execution_count": null,
   "id": "994f23e2",
   "metadata": {},
   "outputs": [],
   "source": [
    "from helpers.histories import bulk_update_with_history"
   ]
  },
  {
   "cell_type": "code",
   "execution_count": null,
   "id": "eba60caf",
   "metadata": {},
   "outputs": [],
   "source": [
    "user=User.objects.get(username='rlcs')"
   ]
  },
  {
   "cell_type": "code",
   "execution_count": null,
   "id": "97c2bb40",
   "metadata": {},
   "outputs": [],
   "source": [
    "apontamentos = bulk_update_with_history(rep_edit,Reporting, use_django_bulk=True,batch_size=500,user=user)"
   ]
  },
  {
   "cell_type": "code",
   "execution_count": null,
   "id": "d120f766",
   "metadata": {},
   "outputs": [],
   "source": [
    "Company.objects.all()"
   ]
  },
  {
   "cell_type": "code",
   "execution_count": null,
   "id": "b13c5932",
   "metadata": {},
   "outputs": [],
   "source": [
    "reps=Reporting.objects.filter(occurrence_type__name='Monitoração de Terraplenos e Estruturas de Contenção')\n",
    "reps.count(),reps[0].form_data"
   ]
  },
  {
   "cell_type": "code",
   "execution_count": null,
   "id": "4399e2cf",
   "metadata": {},
   "outputs": [],
   "source": [
    "for i,a in enumerate(Reporting.objects.filter(occurrence_type__name='Monitoração de Terraplenos e Estruturas de Contenção')):\n",
    "    if not isinstance(a.form_data.get('ocorrencia_tipo',[]),list):\n",
    "        a.form_data['ocorrencia_tipo'] = [a.form_data['ocorrencia_tipo']]\n",
    "        a.save()"
   ]
  },
  {
   "cell_type": "code",
   "execution_count": null,
   "id": "051673ff",
   "metadata": {},
   "outputs": [],
   "source": [
    "!cat .env"
   ]
  },
  {
   "cell_type": "code",
   "execution_count": null,
   "id": "54f1d900",
   "metadata": {},
   "outputs": [],
   "source": [
    "reps[0].occurrence_type.form_fields['fields']"
   ]
  },
  {
   "cell_type": "code",
   "execution_count": null,
   "id": "93396cd2",
   "metadata": {},
   "outputs": [],
   "source": [
    "for a in Reporting.objects.filter(created_by__username='danilo.tenorio',created_at__gte='2024-3-1'):\n",
    "    print(a.number,a.created_at)"
   ]
  },
  {
   "cell_type": "code",
   "execution_count": null,
   "id": "4fbd3082",
   "metadata": {},
   "outputs": [],
   "source": [
    "user=User.objects.get(username='luan.poletti')\n",
    "company=Company.objects.get(name='CCR - Rio Sp')\n",
    "uic = UserInCompany.objects.filter(company=company).values_list('permissions__uuid',flat=True).distinct()\n",
    "\n",
    "user,company,uic"
   ]
  },
  {
   "cell_type": "code",
   "execution_count": null,
   "id": "d014a2c2",
   "metadata": {},
   "outputs": [],
   "source": [
    "from copy import deepcopy"
   ]
  },
  {
   "cell_type": "code",
   "execution_count": null,
   "id": "65a04d2d",
   "metadata": {},
   "outputs": [],
   "source": [
    "for a in UserPermission.objects.filter(companies__name='CCR - Rio Sp'):\n",
    "    a.uuid=None\n",
    "#     a.save()\n",
    "for a in UserPermission.objects.filter(companies__name='CCR - Rio Sp').exclude(uuid__in=uic):\n",
    "#     a.companies.set(company)\n",
    "for a in UserPermission.objects.filter(uuid__in=uic):\n",
    "#     a.companis.remove(company)\n",
    "for a in UserInCompany.objects.get(company=company):\n",
    "    a.permissions = UserPermissions.objects.get(company=company,permissions__name=a.permissions.name)\n",
    "#     a.save()"
   ]
  },
  {
   "cell_type": "code",
   "execution_count": null,
   "id": "498d14f9",
   "metadata": {},
   "outputs": [],
   "source": [
    "companies=Company.objects.all()[3]"
   ]
  },
  {
   "cell_type": "code",
   "execution_count": null,
   "id": "6fa3ff53",
   "metadata": {},
   "outputs": [],
   "source": [
    "pd.DataFrame().to_excel('CCRDisciplinas'+'.xlsx')"
   ]
  },
  {
   "cell_type": "code",
   "execution_count": null,
   "id": "42444886",
   "metadata": {},
   "outputs": [],
   "source": [
    "from helpers.strings import get_obj_from_path\n",
    "from helpers.apps.reportings import get_lane\n",
    "import pandas as pd\n",
    "import openpyxl as op\n",
    "from tqdm.notebook import tqdm"
   ]
  },
  {
   "cell_type": "code",
   "execution_count": null,
   "id": "99480f07",
   "metadata": {},
   "outputs": [],
   "source": [
    "possible_lane_path = (\n",
    "        \"reporting__fields__occurrence_kind__selectoptions__options\"\n",
    "    )"
   ]
  },
  {
   "cell_type": "code",
   "execution_count": null,
   "id": "4ea40463",
   "metadata": {},
   "outputs": [],
   "source": [
    "data={}\n",
    "# for company in Company.objects.all():\n",
    "#     if company.name not in data.keys():\n",
    "#         data[company.name]={}\n",
    "for a in tqdm(OccurrenceType.objects.filter(company=companies).distinct('name')):\n",
    "    occurrence_types = get_obj_from_path(\n",
    "        companies.custom_options, possible_lane_path\n",
    "    )\n",
    "    try:\n",
    "        kind = next(b['name'] for b in occurrence_types if b['value']==str(a.occurrence_kind))\n",
    "        if kind not in data.keys():\n",
    "            data[kind]=[]\n",
    "        data[kind].append(a.name)\n",
    "    except:\n",
    "        print(companies.name,a.name,a.occurrence_kind,occurrence_types)\n",
    "df2 = pd.DataFrame.from_dict(data, orient='index')\n",
    "#     df3 = df2.transpose()\n",
    "with pd.ExcelWriter('CCRDisciplinas'+'.xlsx', mode='a',if_sheet_exists='replace') as writer:\n",
    "    df2.to_excel(writer,sheet_name=companies.name,na_rep=\"-\")"
   ]
  },
  {
   "cell_type": "code",
   "execution_count": null,
   "id": "ed7adff8",
   "metadata": {},
   "outputs": [],
   "source": [
    "df2"
   ]
  },
  {
   "cell_type": "code",
   "execution_count": null,
   "id": "56ba3e99",
   "metadata": {},
   "outputs": [],
   "source": [
    "users=[]\n",
    "for a in tqdm(UserInCompany.objects.all().distinct('user__username').order_by('user__username')):\n",
    "    users.append({'Nome':a.user.get_full_name(),\n",
    "                  \"E-mail\":a.user.email,\n",
    "                  'E-mail Azure':a.user.saml_nameid,\n",
    "                  'Permissão':a.permissions.name,\n",
    "                 \"Unidade\":a.company.name})"
   ]
  },
  {
   "cell_type": "code",
   "execution_count": null,
   "id": "d983305d",
   "metadata": {},
   "outputs": [],
   "source": [
    "df4=pd.DataFrame(data=users)\n",
    "df4"
   ]
  },
  {
   "cell_type": "code",
   "execution_count": null,
   "id": "a16b3c00",
   "metadata": {},
   "outputs": [],
   "source": [
    "df4.to_excel('usersCCR.xlsx')"
   ]
  },
  {
   "cell_type": "code",
   "execution_count": null,
   "id": "d82f1d6f",
   "metadata": {},
   "outputs": [],
   "source": [
    "Reporting.objects.filter(company__name='CCR - Rio Sp',occurrence_type__name='Monitoração ').count()"
   ]
  },
  {
   "cell_type": "code",
   "execution_count": null,
   "id": "de796e29",
   "metadata": {},
   "outputs": [],
   "source": [
    "from helpers.strings import get_obj_from_path\n",
    "from helpers.apps.reportings import get_lane\n",
    "import pandas as pd\n",
    "import openpyxl as op\n",
    "from tqdm.notebook import tqdm"
   ]
  },
  {
   "cell_type": "code",
   "execution_count": null,
   "id": "a36641e7",
   "metadata": {},
   "outputs": [],
   "source": [
    "pd.DataFrame().to_excel('CCROptions'+'.xlsx')"
   ]
  },
  {
   "cell_type": "code",
   "execution_count": null,
   "id": "704c7914",
   "metadata": {},
   "outputs": [],
   "source": [
    "for a in tqdm(OccurrenceType.objects.all().distinct('name')):\n",
    "    data={}\n",
    "    for field in a.form_fields['fields']:\n",
    "        if field['dataType'] == 'select':\n",
    "            if field['displayName'] not in data.keys():\n",
    "                data[field['displayName']] = []\n",
    "            data[field['displayName']] = [option['name'] for option in field['selectOptions']['options']]\n",
    "        if field['dataType'] == 'arrayOfObjects':\n",
    "            for inner in field['innerFields']:\n",
    "                if inner['dataType'] == 'select' and 'reference' not in inner['selectOptions'].keys():\n",
    "                    if 'inner_'+inner['displayName'] not in data.keys():\n",
    "                        data['inner_'+inner['displayName']] = []\n",
    "                    data['inner_'+inner['displayName']] = [option['name'] for option in inner['selectOptions']['options']]\n",
    "    \n",
    "    df2 = pd.DataFrame.from_dict(data, orient='index')\n",
    "    sheetname = a.name.replace('/','')[:15]\n",
    "    with pd.ExcelWriter('CCROptions'+'.xlsx', mode='a',if_sheet_exists='replace') as writer:\n",
    "        df2.to_excel(writer,sheet_name=sheetname,na_rep=\"-\")"
   ]
  },
  {
   "cell_type": "code",
   "execution_count": null,
   "id": "8a6fb299",
   "metadata": {},
   "outputs": [],
   "source": [
    "a.name5"
   ]
  },
  {
   "cell_type": "code",
   "execution_count": null,
   "id": "52a8054e",
   "metadata": {},
   "outputs": [],
   "source": [
    "inner"
   ]
  },
  {
   "cell_type": "code",
   "execution_count": null,
   "id": "ac121266",
   "metadata": {},
   "outputs": [],
   "source": []
  },
  {
   "cell_type": "code",
   "execution_count": null,
   "id": "e60af32f",
   "metadata": {},
   "outputs": [],
   "source": [
    "RecordPanel.objects.first().__dict__"
   ]
  },
  {
   "cell_type": "code",
   "execution_count": null,
   "id": "b8989b19",
   "metadata": {
    "scrolled": true
   },
   "outputs": [],
   "source": [
    "list(Firm.objects.filter(company=Company.objects.first()).values_list('name',flat=True))"
   ]
  },
  {
   "cell_type": "code",
   "execution_count": null,
   "id": "ee7c4bff",
   "metadata": {},
   "outputs": [],
   "source": [
    "from helpers.strings import get_obj_from_path\n",
    "from tqdm.notebook import tqdm\n",
    "import pandas as pd"
   ]
  },
  {
   "cell_type": "code",
   "execution_count": null,
   "id": "dd46f907",
   "metadata": {},
   "outputs": [],
   "source": [
    "filename = 'CCRFixo'\n",
    "pd.DataFrame().to_excel(filename+'.xlsx')"
   ]
  },
  {
   "cell_type": "code",
   "execution_count": null,
   "id": "75f606c5",
   "metadata": {},
   "outputs": [],
   "source": [
    "data={}\n",
    "for a in tqdm(Company.objects.all()):\n",
    "    if a.name not in data.keys():\n",
    "        data[a.name]={}\n",
    "    roads = list(Road.objects.filter(company=a).values_list('name',flat=True))\n",
    "    subcompany = list(SubCompany.objects.filter(company=a).values_list('name',flat=True))\n",
    "    equipes = list(Firm.objects.filter(company=a).values_list('name',flat=True))\n",
    "    \n",
    "    possible_direction_path = \"reporting__fields__direction__selectoptions__options\"\n",
    "    options_dir = get_obj_from_path(a.custom_options, possible_direction_path)\n",
    "    directions = [b['name'] for b in options_dir]\n",
    "    \n",
    "    possible_lane_path = \"reporting__fields__lane__selectoptions__options\"\n",
    "    options_lane = get_obj_from_path(a.custom_options, possible_lane_path)\n",
    "    lanes = [b['name'] for b in options_lane]\n",
    "    \n",
    "    possible_nat_path = \"reporting__fields__occurrencekind__selectoptions__options\"\n",
    "    options_kind = get_obj_from_path(a.custom_options, possible_nat_path)\n",
    "    naturezas = [b['name'] for b in options_kind]\n",
    "    \n",
    "    data[a.name]['Rodovias'] = roads\n",
    "    data[a.name]['Empresas'] = subcompany\n",
    "    data[a.name]['Equipes'] = equipes\n",
    "    data[a.name]['Sentido'] = directions\n",
    "    data[a.name]['Faixas'] = lanes\n",
    "    data[a.name]['Naturezas'] = naturezas\n",
    "    \n",
    "    df = pd.DataFrame.from_dict(data[a.name], orient='index')\n",
    "    df = df.transpose()\n",
    "    with pd.ExcelWriter(filename+'.xlsx', mode='a',if_sheet_exists='replace') as writer:\n",
    "        df.to_excel(writer,sheet_name=a.name,na_rep=\"-\")"
   ]
  },
  {
   "cell_type": "code",
   "execution_count": null,
   "id": "d2b2c295",
   "metadata": {
    "scrolled": true
   },
   "outputs": [],
   "source": [
    "df"
   ]
  },
  {
   "cell_type": "code",
   "execution_count": null,
   "id": "d0833447",
   "metadata": {},
   "outputs": [],
   "source": [
    "import pandas as pd"
   ]
  },
  {
   "cell_type": "code",
   "execution_count": null,
   "id": "06bb5148",
   "metadata": {},
   "outputs": [],
   "source": [
    "filename='Aprovadores'\n",
    "pd.DataFrame().to_excel(filename+'.xlsx')"
   ]
  },
  {
   "cell_type": "code",
   "execution_count": null,
   "id": "9c093f0c",
   "metadata": {},
   "outputs": [],
   "source": [
    "data={}\n",
    "for a in ApprovalStep.objects.filter(name='Aguardando Aprovação',approval_flow__target_model__icontains='reporting'):\n",
    "    company = a.approval_flow.company.name\n",
    "    if company not in data.keys():\n",
    "        data[company] = {}\n",
    "    \n",
    "    responsible_users=[]\n",
    "    responsible_firms=[]\n",
    "    if a.responsible_users.exists():\n",
    "        responsible_users = [b.get_full_name() for b in a.responsible_users.all()]\n",
    "        \n",
    "    if a.responsible_firms.exists():\n",
    "        responsible_firms = [b.name for b in a.responsible_firms.all()]\n",
    "#     print(data)\n",
    "    data[company]['Usuários'] = responsible_users\n",
    "    data[company]['Equipes'] = responsible_firms\n",
    "#     print(*a.responsible_users.all())\n",
    "    df = pd.DataFrame.from_dict(data[company], orient='index')\n",
    "    df = df.transpose()\n",
    "    with pd.ExcelWriter(filename+'.xlsx', mode='a',if_sheet_exists='replace') as writer:\n",
    "        df.to_excel(writer,sheet_name=company,na_rep=\"-\")"
   ]
  },
  {
   "cell_type": "code",
   "execution_count": null,
   "id": "10802326",
   "metadata": {
    "scrolled": true
   },
   "outputs": [],
   "source": [
    "df"
   ]
  },
  {
   "cell_type": "code",
   "execution_count": null,
   "id": "1a0cf7cb",
   "metadata": {},
   "outputs": [],
   "source": [
    "import pandas as pd\n",
    "df=pd.DataFrame.from_dict(data)"
   ]
  },
  {
   "cell_type": "code",
   "execution_count": null,
   "id": "009aadeb",
   "metadata": {},
   "outputs": [],
   "source": [
    "from django.contrib.admin.utils import flatten"
   ]
  },
  {
   "cell_type": "code",
   "execution_count": null,
   "id": "bc38b13b",
   "metadata": {},
   "outputs": [],
   "source": [
    "company = Company.objects.get(name='CCR - Rio Sp')\n",
    "\n",
    "#Classe Drenagem\n",
    "occurrence_type_ficha = OccurrenceType.objects.get(name='Monitoração de Drenagem Profunda Ficha Poder Concedente',company=company)\n",
    "occurrence_type_elemento = OccurrenceType.objects.get(name='Monitoração Drenagem Profunda Elemento',company=company)"
   ]
  },
  {
   "cell_type": "code",
   "execution_count": null,
   "id": "b4a2dca1",
   "metadata": {},
   "outputs": [],
   "source": [
    "def get_value(field, occ, value):\n",
    "    values = occ.form_fields['fields']\n",
    "    item_translation = flatten([item['selectOptions']['options'] for item in values if item['displayName']==field])\n",
    "#     print(item_translation)\n",
    "\n",
    "    final_translation = {item['name']: item['value'] for item in item_translation}\n",
    "#     print(final_translation)\n",
    "    return final_translation[value]"
   ]
  },
  {
   "cell_type": "code",
   "execution_count": null,
   "id": "2412b138",
   "metadata": {},
   "outputs": [],
   "source": [
    "var = 'BSCC, BTCE'"
   ]
  },
  {
   "cell_type": "code",
   "execution_count": null,
   "id": "15766564",
   "metadata": {},
   "outputs": [],
   "source": [
    "[get_value('Tipo de Bueiro (Celular)', occurrence_type_ficha, v.strip()) for v in var.split(',')]"
   ]
  },
  {
   "cell_type": "code",
   "execution_count": null,
   "id": "d5a39174",
   "metadata": {},
   "outputs": [],
   "source": [
    "!cat .env"
   ]
  },
  {
   "cell_type": "code",
   "execution_count": null,
   "id": "1f686dff",
   "metadata": {},
   "outputs": [],
   "source": [
    "aps=ApprovalStep.objects.filter(approval_flow__company__name__startswith='CCR')\n",
    "user=User.objects.get(username='gian.fakhouri')\n",
    "user"
   ]
  },
  {
   "cell_type": "code",
   "execution_count": null,
   "id": "7df3b77b",
   "metadata": {},
   "outputs": [],
   "source": [
    "for a in aps:\n",
    "    a.responsible_users.add(user)"
   ]
  },
  {
   "cell_type": "code",
   "execution_count": null,
   "id": "4dc3d7a5",
   "metadata": {},
   "outputs": [],
   "source": [
    "!cat .env"
   ]
  },
  {
   "cell_type": "code",
   "execution_count": null,
   "id": "d4641d69",
   "metadata": {},
   "outputs": [],
   "source": [
    "nome='rodoanel'\n",
    "firm = Firm.objects.get(company__name__icontains=nome,name__icontains='Aprovadores')\n",
    "firm"
   ]
  },
  {
   "cell_type": "code",
   "execution_count": null,
   "id": "d8b4cada",
   "metadata": {},
   "outputs": [],
   "source": [
    "for a in ApprovalStep.objects.filter(approval_flow__company__name__icontains=nome,\n",
    "                            approval_flow__target_model__icontains='reporting').exclude(\n",
    "                            name__in=['Aguardando Aprovação','Compartilhado com ANTT','Não compartilhar com ANTT']):\n",
    "    a.responsible_firms.add(firm)\n",
    "    print(a.responsible_firms.all(),a.name)"
   ]
  },
  {
   "cell_type": "code",
   "execution_count": null,
   "id": "465ee36a",
   "metadata": {},
   "outputs": [],
   "source": [
    "for a in ApprovalTransition.objects.filter(origin__approval_flow__company__name='CCR - Rio Sp',\n",
    "                                 origin__approval_flow__target_model__icontains='reporting'):\n",
    "    print(a,a.callback)"
   ]
  },
  {
   "cell_type": "code",
   "execution_count": null,
   "id": "6325aa16",
   "metadata": {},
   "outputs": [],
   "source": [
    "preposicoes = ['DE', 'DA', 'DO', 'DOS', 'E', 'OU', 'EM', 'COM', 'PARA', 'POR', 'A', 'O', 'OS', 'AS', 'UM', 'UMA', 'UNS', 'UMAS']\n",
    "def title_sem_preposicoes(s):\n",
    "    palavras = s.split()\n",
    "    resultado = [palavra.title() if palavra.upper() not in preposicoes else palavra.lower() for palavra in palavras]\n",
    "    return ' '.join(resultado)"
   ]
  },
  {
   "cell_type": "code",
   "execution_count": null,
   "id": "ee3c0f4b",
   "metadata": {},
   "outputs": [],
   "source": [
    "# Lista de dicionários\n",
    "def sort_and_uppercase(data):\n",
    "    if 'outro' not in [a['name'].lower() for a in data]:\n",
    "        sorted_data = sorted(data, key=lambda x: x[\"name\"])\n",
    "    else:\n",
    "        sorted_data = data\n",
    "    for item in sorted_data:\n",
    "        item[\"name\"] = title_sem_preposicoes(item[\"name\"])\n",
    "    return sorted_data"
   ]
  },
  {
   "cell_type": "code",
   "execution_count": null,
   "id": "a6e4825e",
   "metadata": {},
   "outputs": [],
   "source": [
    "occs = OccurrenceType.objects.filter(name__icontains='Sinalização horizontal (Longitudinal)')\n",
    "occs.count()"
   ]
  },
  {
   "cell_type": "code",
   "execution_count": null,
   "id": "68b123b4",
   "metadata": {},
   "outputs": [],
   "source": [
    "selects=['Faixa de sinalização 1',\n",
    "'Cor estação 1',\n",
    "'Faixa de sinalização 2',\n",
    "'Cor estação 2',\n",
    "'Faixa de sinalização 3',\n",
    "'Cor estação 3',]"
   ]
  },
  {
   "cell_type": "code",
   "execution_count": null,
   "id": "2cc98525",
   "metadata": {},
   "outputs": [],
   "source": [
    "for occ in occs:\n",
    "    for a in occ.form_fields['fields']:\n",
    "#         if a['displayName'] in selects:\n",
    "#             a['selectOptions']['options'] = sort_and_uppercase(a['selectOptions']['options'])\n",
    "#             print(a['selectOptions']['options'])\n",
    "        if a['dataType'] in 'arrayOfObjects':\n",
    "            for inner in a['innerFields']:\n",
    "                if inner['displayName'] in selects:\n",
    "                    inner['selectOptions']['options'] = sort_and_uppercase(inner['selectOptions']['options'])\n",
    "                    print(inner['selectOptions']['options'])\n",
    "    occ.save()"
   ]
  },
  {
   "cell_type": "code",
   "execution_count": null,
   "id": "e4d0a3db",
   "metadata": {},
   "outputs": [],
   "source": [
    "data = [\n",
    "    {\"name\": \"BORDO DIREITO\", \"value\": \"1\"},\n",
    "    {\"name\": \"EIXO\", \"value\": \"2\"},\n",
    "    {\"name\": \"1 EIXO 2\", \"value\": \"3\"},\n",
    "    {\"name\": \"EIXO 3\", \"value\": \"4\"},\n",
    "    {\"name\": \"CONCRETO/METAL\", \"value\": \"5\"},\n",
    "    {\"name\": \"PRAÇA DE PEDÁGIO\", \"value\": \"6\"},\n",
    "    {\"name\": \"Outro\", \"value\": \"7\"},\n",
    "    {\"name\": \"METAL/METAL CURVO\", \"value\": \"8\"}\n",
    "]\n",
    "\n",
    "sorted_data = sorted(data, key=lambda x: (x[\"name\"] == \"Outro\", x[\"name\"]))\n",
    "\n",
    "print(sorted_data)"
   ]
  },
  {
   "cell_type": "code",
   "execution_count": null,
   "id": "f4c1e7e8",
   "metadata": {},
   "outputs": [],
   "source": [
    "Reporting.objects.filter(occurrence_type__name='Monitoração Pro-07',form_data__other_lane='7')"
   ]
  },
  {
   "cell_type": "code",
   "execution_count": null,
   "id": "71ce4868",
   "metadata": {},
   "outputs": [],
   "source": [
    "['Faixa de sinalização (estação 1)',\n",
    "'Cor estação (estação 1)',\n",
    "'Aparência geral (estação 1)',\n",
    "'Corpo (estação 1)',\n",
    "'Lente (estação 1)',\n",
    "'Fixação (estação 1)',\n",
    "'Faixa de sinalização (estação 2)',\n",
    "'Cor estação (estação 2)',\n",
    "'Aparência geral (estação 2)',\n",
    "'Corpo (estação 2)',\n",
    "'Lente (estação 2)',\n",
    "'Fixação (estação 2)',\n",
    "'Faixa de sinalização (estação 3)',\n",
    "'Cor estação 3',\n",
    "'Aparência geral (estação 3)',\n",
    "'Corpo (estação 3)',\n",
    "'Lente (estação 3)',\n",
    "'Fixação (estação 3)']"
   ]
  },
  {
   "cell_type": "code",
   "execution_count": null,
   "id": "4c555820",
   "metadata": {},
   "outputs": [],
   "source": [
    "for a in UserPermission.objects.all():\n",
    "    if a.permissions.get('Reporting'):\n",
    "        if not a.permissions.get('Reporting').get('can_approve'):\n",
    "            print(a.name,'Reporting')"
   ]
  },
  {
   "cell_type": "code",
   "execution_count": null,
   "id": "8a3e71c9",
   "metadata": {},
   "outputs": [],
   "source": [
    "user= User.objects.filter(username__in=['GABRIELA.KOAKUTSU','LUCAS.CARNEIRO','NATALIA.SOUZA'])"
   ]
  },
  {
   "cell_type": "code",
   "execution_count": null,
   "id": "d4d31b9a",
   "metadata": {},
   "outputs": [],
   "source": [
    "ActionLog._meta.fields"
   ]
  },
  {
   "cell_type": "code",
   "execution_count": null,
   "id": "fb64a7d6",
   "metadata": {},
   "outputs": [],
   "source": [
    "MobileSync._meta.fields"
   ]
  },
  {
   "cell_type": "code",
   "execution_count": null,
   "id": "4288886c",
   "metadata": {},
   "outputs": [],
   "source": [
    "MobileSync.objects.filter(created_by__in=user).order_by('-created_at')"
   ]
  },
  {
   "cell_type": "code",
   "execution_count": null,
   "id": "2242e4c2",
   "metadata": {},
   "outputs": [],
   "source": [
    "for a in ActionLog.objects.filter(action='Login',user__in=user).order_by('user__username','created_at'):\n",
    "    print(a.user.get_full_name(),a.created_at)"
   ]
  },
  {
   "cell_type": "code",
   "execution_count": null,
   "id": "95f23df9",
   "metadata": {},
   "outputs": [],
   "source": [
    "for a in UserInCompany.history.filter(user__in=user).order_by('-history_date'):\n",
    "    print(a.permissions.name,a.user.get_full_name(),a.history_date)"
   ]
  },
  {
   "cell_type": "code",
   "execution_count": null,
   "id": "71c2dd91",
   "metadata": {
    "scrolled": true
   },
   "outputs": [],
   "source": [
    "print('Classe','|','displayName')\n",
    "for a in OccurrenceType.objects.all():\n",
    "    for b in a.form_fields['fields']:\n",
    "        try:\n",
    "            if 'antt' in b['displayName'].lower():\n",
    "                print(a.name,'|',b['displayName'])\n",
    "        except:\n",
    "            print(a.name)\n",
    "            pass"
   ]
  },
  {
   "cell_type": "code",
   "execution_count": null,
   "id": "b7d27268",
   "metadata": {},
   "outputs": [],
   "source": [
    "rep=Reporting.objects.get(number='CCR-TER-2024.01050')\n",
    "rep.occurrence_type"
   ]
  },
  {
   "cell_type": "code",
   "execution_count": null,
   "id": "279ac092",
   "metadata": {},
   "outputs": [],
   "source": [
    "Reporting.objects.filter(occurrence_type__name='Monitoração de Terraplenos e Estruturas de Contenção').count()"
   ]
  },
  {
   "cell_type": "code",
   "execution_count": null,
   "id": "4658f89a",
   "metadata": {},
   "outputs": [],
   "source": [
    "from helpers.signals import DisableSignals\n",
    "from tqdm.notebook import tqdm\n",
    "for a in tqdm(Reporting.objects.filter(occurrence_type__name='Monitoração de Terraplenos e Estruturas de Contenção',\n",
    "                                  form_data__has_key='ocorrencia_tipo').only('form_data')):\n",
    "    if type(a.form_data['ocorrencia_tipo']) == str:\n",
    "        a.form_data['ocorrencia_tipo'] = [a.form_data['ocorrencia_tipo']]\n",
    "        with DisableSignals():\n",
    "            a.save()"
   ]
  },
  {
   "cell_type": "code",
   "execution_count": null,
   "id": "31a78ac0",
   "metadata": {},
   "outputs": [],
   "source": [
    "for a in rep.occurrence_type.history.filter(history_type='~').order_by('-history_date'):\n",
    "    for b in a.form_fields['fields']:\n",
    "        if b['apiName'] == 'ocorrenciaTipo':\n",
    "            print(b['apiName'],b['dataType'],a.history_date,a.history_user)"
   ]
  },
  {
   "cell_type": "code",
   "execution_count": null,
   "id": "1eba0edc",
   "metadata": {},
   "outputs": [],
   "source": [
    "for a in rep.occurrence_type.form_fields['fields']:\n",
    "    print(a['apiName'],a['dataType'])\n",
    "    if a['dataType'] == 'arrayOfObjects':\n",
    "        for b in a['innerFields']:\n",
    "            print('\\t',b['apiName'],b['dataType'])"
   ]
  },
  {
   "cell_type": "code",
   "execution_count": null,
   "id": "9e0e812e",
   "metadata": {
    "scrolled": true
   },
   "outputs": [],
   "source": [
    "rep.occurrence_type"
   ]
  },
  {
   "cell_type": "code",
   "execution_count": null,
   "id": "ce7c9846",
   "metadata": {},
   "outputs": [],
   "source": [
    "Reporting._meta.fields"
   ]
  },
  {
   "cell_type": "code",
   "execution_count": null,
   "id": "731ca9de",
   "metadata": {},
   "outputs": [],
   "source": [
    "aps.__dict__"
   ]
  },
  {
   "cell_type": "markdown",
   "id": "48f394e2",
   "metadata": {},
   "source": [
    "# Compartilhamento em massa com ANTT"
   ]
  },
  {
   "cell_type": "code",
   "execution_count": null,
   "id": "b81fe9ed",
   "metadata": {},
   "outputs": [],
   "source": [
    "aps = ApprovalStep.objects.get(approval_flow__company__name='CCR - Rio Sp',\n",
    "                                  approval_flow__target_model__icontains='reporting',name='Compartilhado com ANTT')\n",
    "aps"
   ]
  },
  {
   "cell_type": "code",
   "execution_count": null,
   "id": "3c96013e",
   "metadata": {},
   "outputs": [],
   "source": [
    "from django.db.models import Q\n",
    "query=Reporting.objects.filter(\n",
    "#     Q(occurrence_type__occurrence_kind='41') | \n",
    "    Q(occurrence_type__name__icontains='Monitoração de Terraplenos e Estruturas de Contenção'),\n",
    "                               company__name='CCR - Rio Sp',\n",
    "                                approval_step=aps,\n",
    "                                reporting_files__is_shared=False\n",
    "                            )\n",
    "query.count()"
   ]
  },
  {
   "cell_type": "code",
   "execution_count": null,
   "id": "cfcb54a6",
   "metadata": {},
   "outputs": [],
   "source": [
    "from helpers.signals import DisableSignals\n",
    "from tqdm.notebook import tqdm\n",
    "for _ in tqdm(range(3)):\n",
    "    rep_uuids = query.values_list('uuid', flat=True)[:1000]\n",
    "    reportings = Reporting.objects.filter(uuid__in=rep_uuids)\n",
    "    with DisableSignals():\n",
    "#         Reporting.objects.filter(uuid__in=rep_uuids).update(editable=False)\n",
    "#         reportings.save()\n",
    "#         Reporting.objects.filter(uuid__in=rep_uuids).update(approval_step=aps,shared_with_agency=True,editable=False)\n",
    "        ReportingFile.objects.filter(reporting__uuid__in=rep_uuids).update(is_shared=True)"
   ]
  },
  {
   "cell_type": "code",
   "execution_count": null,
   "id": "abb16d1d",
   "metadata": {},
   "outputs": [],
   "source": [
    "for i in range(0,3000,1000):\n",
    "    print(i,i+1000)"
   ]
  },
  {
   "cell_type": "code",
   "execution_count": null,
   "id": "7bc40247",
   "metadata": {},
   "outputs": [],
   "source": []
  },
  {
   "cell_type": "code",
   "execution_count": null,
   "id": "46d29abe",
   "metadata": {},
   "outputs": [],
   "source": [
    "from openpyxl import load_workbook\n",
    "from tqdm.notebook import tqdm\n",
    "from helpers.signals import DisableSignals"
   ]
  },
  {
   "cell_type": "code",
   "execution_count": null,
   "id": "f9bb08e8",
   "metadata": {},
   "outputs": [],
   "source": [
    "filename='Template - RodoAnel'"
   ]
  },
  {
   "cell_type": "code",
   "execution_count": null,
   "id": "f6e9dbbb",
   "metadata": {},
   "outputs": [],
   "source": [
    "wb = load_workbook(filename + '.xlsx')\n",
    "sheetname = wb.sheetnames[1]\n",
    "# sheetname\n",
    "ws = wb[sheetname]"
   ]
  },
  {
   "cell_type": "code",
   "execution_count": null,
   "id": "fd61f5d3",
   "metadata": {},
   "outputs": [],
   "source": [
    "header = []\n",
    "values = []\n",
    "\n",
    "for index, row in enumerate(ws.rows):\n",
    "    if index == 0:\n",
    "        header = list([a.value for a in row])\n",
    "        continue\n",
    "    obj = {}\n",
    "    for col_index, cell in enumerate(row):\n",
    "        value = cell.value\n",
    "        obj[header[col_index]] = value\n",
    "    values.append(obj)"
   ]
  },
  {
   "cell_type": "code",
   "execution_count": null,
   "id": "1cf4d0ef",
   "metadata": {},
   "outputs": [],
   "source": [
    "values[0]"
   ]
  },
  {
   "cell_type": "code",
   "execution_count": null,
   "id": "1eeaa798",
   "metadata": {},
   "outputs": [],
   "source": [
    "for a in tqdm(values):\n",
    "    rep=Reporting.objects.get(number=a['Código do Inventário para vinculo com apontamento'],company__name='CCR - RodoAnel')\n",
    "    rep.form_data['latitude'] = a['Latitude']\n",
    "    rep.form_data['longitude'] = a['Longitude']\n",
    "    with DisableSignals():\n",
    "        rep.save()"
   ]
  },
  {
   "cell_type": "code",
   "execution_count": 1,
   "id": "6b89fd3e",
   "metadata": {},
   "outputs": [
    {
     "data": {
      "text/plain": [
       "987"
      ]
     },
     "execution_count": 1,
     "metadata": {},
     "output_type": "execute_result"
    },
    {
     "data": {
      "text/plain": [
       "987"
      ]
     },
     "execution_count": 1,
     "metadata": {},
     "output_type": "execute_result"
    },
    {
     "data": {
      "text/plain": [
       "987"
      ]
     },
     "execution_count": 1,
     "metadata": {},
     "output_type": "execute_result"
    }
   ],
   "source": [
    "Reporting.objects.filter(created_by__username='integracao.kcor').count()"
   ]
  },
  {
   "cell_type": "code",
   "execution_count": 2,
   "id": "314b74eb",
   "metadata": {},
   "outputs": [
    {
     "data": {
      "application/vnd.jupyter.widget-view+json": {
       "model_id": "30d9b5bb2e6a42459322dbd2634bd54b",
       "version_major": 2,
       "version_minor": 0
      },
      "text/plain": [
       "  0%|          | 0/648 [00:00<?, ?it/s]"
      ]
     },
     "metadata": {},
     "output_type": "display_data"
    }
   ],
   "source": [
    "from tqdm.notebook import tqdm\n",
    "from helpers.signals import DisableSignals\n",
    "\n",
    "for a in tqdm(Reporting.objects.filter(created_by__username='integracao.kcor')):\n",
    "    with DisableSignals():\n",
    "        a.delete()"
   ]
  },
  {
   "cell_type": "code",
   "execution_count": 2,
   "id": "81463c02",
   "metadata": {
    "collapsed": true
   },
   "outputs": [
    {
     "ename": "DoesNotExist",
     "evalue": "Road matching query does not exist.",
     "output_type": "error",
     "traceback": [
      "\u001b[0;31m---------------------------------------------------------------------------\u001b[0m",
      "\u001b[0;31mDoesNotExist\u001b[0m                              Traceback (most recent call last)",
      "\u001b[0;32m/tmp/ipykernel_10442/1886774878.py\u001b[0m in \u001b[0;36m<cell line: 1>\u001b[0;34m()\u001b[0m\n\u001b[0;32m----> 1\u001b[0;31m \u001b[0mroad\u001b[0m\u001b[0;34m=\u001b[0m\u001b[0mRoad\u001b[0m\u001b[0;34m.\u001b[0m\u001b[0mobjects\u001b[0m\u001b[0;34m.\u001b[0m\u001b[0mget\u001b[0m\u001b[0;34m(\u001b[0m\u001b[0mid\u001b[0m\u001b[0;34m=\u001b[0m\u001b[0;34m'2041'\u001b[0m\u001b[0;34m)\u001b[0m\u001b[0;34m\u001b[0m\u001b[0;34m\u001b[0m\u001b[0m\n\u001b[0m",
      "\u001b[0;32m~/.cache/pypoetry/virtualenvs/apps-ZFymp6kh-py3.8/lib/python3.8/site-packages/django/db/models/manager.py\u001b[0m in \u001b[0;36mmanager_method\u001b[0;34m(self, *args, **kwargs)\u001b[0m\n\u001b[1;32m     80\u001b[0m         \u001b[0;32mdef\u001b[0m \u001b[0mcreate_method\u001b[0m\u001b[0;34m(\u001b[0m\u001b[0mname\u001b[0m\u001b[0;34m,\u001b[0m \u001b[0mmethod\u001b[0m\u001b[0;34m)\u001b[0m\u001b[0;34m:\u001b[0m\u001b[0;34m\u001b[0m\u001b[0;34m\u001b[0m\u001b[0m\n\u001b[1;32m     81\u001b[0m             \u001b[0;32mdef\u001b[0m \u001b[0mmanager_method\u001b[0m\u001b[0;34m(\u001b[0m\u001b[0mself\u001b[0m\u001b[0;34m,\u001b[0m \u001b[0;34m*\u001b[0m\u001b[0margs\u001b[0m\u001b[0;34m,\u001b[0m \u001b[0;34m**\u001b[0m\u001b[0mkwargs\u001b[0m\u001b[0;34m)\u001b[0m\u001b[0;34m:\u001b[0m\u001b[0;34m\u001b[0m\u001b[0;34m\u001b[0m\u001b[0m\n\u001b[0;32m---> 82\u001b[0;31m                 \u001b[0;32mreturn\u001b[0m \u001b[0mgetattr\u001b[0m\u001b[0;34m(\u001b[0m\u001b[0mself\u001b[0m\u001b[0;34m.\u001b[0m\u001b[0mget_queryset\u001b[0m\u001b[0;34m(\u001b[0m\u001b[0;34m)\u001b[0m\u001b[0;34m,\u001b[0m \u001b[0mname\u001b[0m\u001b[0;34m)\u001b[0m\u001b[0;34m(\u001b[0m\u001b[0;34m*\u001b[0m\u001b[0margs\u001b[0m\u001b[0;34m,\u001b[0m \u001b[0;34m**\u001b[0m\u001b[0mkwargs\u001b[0m\u001b[0;34m)\u001b[0m\u001b[0;34m\u001b[0m\u001b[0;34m\u001b[0m\u001b[0m\n\u001b[0m\u001b[1;32m     83\u001b[0m             \u001b[0mmanager_method\u001b[0m\u001b[0;34m.\u001b[0m\u001b[0m__name__\u001b[0m \u001b[0;34m=\u001b[0m \u001b[0mmethod\u001b[0m\u001b[0;34m.\u001b[0m\u001b[0m__name__\u001b[0m\u001b[0;34m\u001b[0m\u001b[0;34m\u001b[0m\u001b[0m\n\u001b[1;32m     84\u001b[0m             \u001b[0mmanager_method\u001b[0m\u001b[0;34m.\u001b[0m\u001b[0m__doc__\u001b[0m \u001b[0;34m=\u001b[0m \u001b[0mmethod\u001b[0m\u001b[0;34m.\u001b[0m\u001b[0m__doc__\u001b[0m\u001b[0;34m\u001b[0m\u001b[0;34m\u001b[0m\u001b[0m\n",
      "\u001b[0;32m~/.cache/pypoetry/virtualenvs/apps-ZFymp6kh-py3.8/lib/python3.8/site-packages/django/db/models/query.py\u001b[0m in \u001b[0;36mget\u001b[0;34m(self, *args, **kwargs)\u001b[0m\n\u001b[1;32m    404\u001b[0m             \u001b[0;32mreturn\u001b[0m \u001b[0mclone\u001b[0m\u001b[0;34m.\u001b[0m\u001b[0m_result_cache\u001b[0m\u001b[0;34m[\u001b[0m\u001b[0;36m0\u001b[0m\u001b[0;34m]\u001b[0m\u001b[0;34m\u001b[0m\u001b[0;34m\u001b[0m\u001b[0m\n\u001b[1;32m    405\u001b[0m         \u001b[0;32mif\u001b[0m \u001b[0;32mnot\u001b[0m \u001b[0mnum\u001b[0m\u001b[0;34m:\u001b[0m\u001b[0;34m\u001b[0m\u001b[0;34m\u001b[0m\u001b[0m\n\u001b[0;32m--> 406\u001b[0;31m             raise self.model.DoesNotExist(\n\u001b[0m\u001b[1;32m    407\u001b[0m                 \u001b[0;34m\"%s matching query does not exist.\"\u001b[0m \u001b[0;34m%\u001b[0m\u001b[0;34m\u001b[0m\u001b[0;34m\u001b[0m\u001b[0m\n\u001b[1;32m    408\u001b[0m                 \u001b[0mself\u001b[0m\u001b[0;34m.\u001b[0m\u001b[0mmodel\u001b[0m\u001b[0;34m.\u001b[0m\u001b[0m_meta\u001b[0m\u001b[0;34m.\u001b[0m\u001b[0mobject_name\u001b[0m\u001b[0;34m\u001b[0m\u001b[0;34m\u001b[0m\u001b[0m\n",
      "\u001b[0;31mDoesNotExist\u001b[0m: Road matching query does not exist."
     ]
    }
   ],
   "source": [
    "road=Road.objects.get(id='2041')"
   ]
  },
  {
   "cell_type": "code",
   "execution_count": null,
   "id": "cfc7de35",
   "metadata": {},
   "outputs": [],
   "source": [
    "road.path = \"o desenho feito para o path\""
   ]
  },
  {
   "cell_type": "code",
   "execution_count": null,
   "id": "e1f4a45e",
   "metadata": {},
   "outputs": [],
   "source": [
    "from helpers.signals import DisableSignals\n",
    "with DisableSignals():\n",
    "    road.save()"
   ]
  },
  {
   "cell_type": "code",
   "execution_count": 5,
   "id": "71a5c59b",
   "metadata": {},
   "outputs": [
    {
     "ename": "FieldError",
     "evalue": "Cannot resolve keyword 'sds' into field. Choices are: active_inspection, active_inspection_id, active_inspection_of_inventory, active_shape_files, active_tile_layer, active_tile_layer_id, address, approval_step, approval_step_id, branch, children, company, company_id, construction, construction_id, created_at, created_by, created_by_id, created_recuperations_with_relation, direction, due_at, due_at_manually_specified, editable, end_km, end_km_manually_specified, excel_imports, excel_reportings, executed_at, firm, firm_id, form_data, form_metadata, found_at, geometry, historicalreporting, inspection_jobs, inventory_async_batches, inventory_jobs, job, job_id, keywords, km, km_reference, lane, lot, number, occurrence_type, occurrence_type_id, parent, parent_id, pdf_import, pdf_import_id, point, project_end_km, project_end_km_manually_specified, project_km, properties, reporting_construction_progresses, reporting_files, reporting_messages, reporting_multiple_daily_reports, reporting_quality_assays, reporting_quality_control_exports, reporting_relation_child, reporting_relation_parent, reporting_resources, reporting_self_relations, reporting_usage, reportings_quality_samples, road, road_id, road_name, self_relations, services, shared_with_agency, status, status_id, technical_opinion, track, updated_at, uuid",
     "output_type": "error",
     "traceback": [
      "\u001b[0;31m---------------------------------------------------------------------------\u001b[0m",
      "\u001b[0;31mFieldError\u001b[0m                                Traceback (most recent call last)",
      "\u001b[0;32m/tmp/ipykernel_51344/2361998947.py\u001b[0m in \u001b[0;36m<cell line: 1>\u001b[0;34m()\u001b[0m\n\u001b[0;32m----> 1\u001b[0;31m \u001b[0mReporting\u001b[0m\u001b[0;34m.\u001b[0m\u001b[0mobjects\u001b[0m\u001b[0;34m.\u001b[0m\u001b[0mget\u001b[0m\u001b[0;34m(\u001b[0m\u001b[0muuid\u001b[0m\u001b[0;34m=\u001b[0m\u001b[0;34m'417cd4ee-758d-40b3-9730-5c8de33f19fa'\u001b[0m\u001b[0;34m,\u001b[0m\u001b[0msds\u001b[0m\u001b[0;34m=\u001b[0m\u001b[0;34m'sd'\u001b[0m\u001b[0;34m)\u001b[0m\u001b[0;34m\u001b[0m\u001b[0;34m\u001b[0m\u001b[0m\n\u001b[0m",
      "\u001b[0;32m~/.cache/pypoetry/virtualenvs/apps-ZFymp6kh-py3.8/lib/python3.8/site-packages/django/db/models/manager.py\u001b[0m in \u001b[0;36mmanager_method\u001b[0;34m(self, *args, **kwargs)\u001b[0m\n\u001b[1;32m     80\u001b[0m         \u001b[0;32mdef\u001b[0m \u001b[0mcreate_method\u001b[0m\u001b[0;34m(\u001b[0m\u001b[0mname\u001b[0m\u001b[0;34m,\u001b[0m \u001b[0mmethod\u001b[0m\u001b[0;34m)\u001b[0m\u001b[0;34m:\u001b[0m\u001b[0;34m\u001b[0m\u001b[0;34m\u001b[0m\u001b[0m\n\u001b[1;32m     81\u001b[0m             \u001b[0;32mdef\u001b[0m \u001b[0mmanager_method\u001b[0m\u001b[0;34m(\u001b[0m\u001b[0mself\u001b[0m\u001b[0;34m,\u001b[0m \u001b[0;34m*\u001b[0m\u001b[0margs\u001b[0m\u001b[0;34m,\u001b[0m \u001b[0;34m**\u001b[0m\u001b[0mkwargs\u001b[0m\u001b[0;34m)\u001b[0m\u001b[0;34m:\u001b[0m\u001b[0;34m\u001b[0m\u001b[0;34m\u001b[0m\u001b[0m\n\u001b[0;32m---> 82\u001b[0;31m                 \u001b[0;32mreturn\u001b[0m \u001b[0mgetattr\u001b[0m\u001b[0;34m(\u001b[0m\u001b[0mself\u001b[0m\u001b[0;34m.\u001b[0m\u001b[0mget_queryset\u001b[0m\u001b[0;34m(\u001b[0m\u001b[0;34m)\u001b[0m\u001b[0;34m,\u001b[0m \u001b[0mname\u001b[0m\u001b[0;34m)\u001b[0m\u001b[0;34m(\u001b[0m\u001b[0;34m*\u001b[0m\u001b[0margs\u001b[0m\u001b[0;34m,\u001b[0m \u001b[0;34m**\u001b[0m\u001b[0mkwargs\u001b[0m\u001b[0;34m)\u001b[0m\u001b[0;34m\u001b[0m\u001b[0;34m\u001b[0m\u001b[0m\n\u001b[0m\u001b[1;32m     83\u001b[0m             \u001b[0mmanager_method\u001b[0m\u001b[0;34m.\u001b[0m\u001b[0m__name__\u001b[0m \u001b[0;34m=\u001b[0m \u001b[0mmethod\u001b[0m\u001b[0;34m.\u001b[0m\u001b[0m__name__\u001b[0m\u001b[0;34m\u001b[0m\u001b[0;34m\u001b[0m\u001b[0m\n\u001b[1;32m     84\u001b[0m             \u001b[0mmanager_method\u001b[0m\u001b[0;34m.\u001b[0m\u001b[0m__doc__\u001b[0m \u001b[0;34m=\u001b[0m \u001b[0mmethod\u001b[0m\u001b[0;34m.\u001b[0m\u001b[0m__doc__\u001b[0m\u001b[0;34m\u001b[0m\u001b[0;34m\u001b[0m\u001b[0m\n",
      "\u001b[0;32m~/.cache/pypoetry/virtualenvs/apps-ZFymp6kh-py3.8/lib/python3.8/site-packages/django/db/models/query.py\u001b[0m in \u001b[0;36mget\u001b[0;34m(self, *args, **kwargs)\u001b[0m\n\u001b[1;32m    397\u001b[0m         \u001b[0mkeyword\u001b[0m \u001b[0marguments\u001b[0m\u001b[0;34m.\u001b[0m\u001b[0;34m\u001b[0m\u001b[0;34m\u001b[0m\u001b[0m\n\u001b[1;32m    398\u001b[0m         \"\"\"\n\u001b[0;32m--> 399\u001b[0;31m         \u001b[0mclone\u001b[0m \u001b[0;34m=\u001b[0m \u001b[0mself\u001b[0m\u001b[0;34m.\u001b[0m\u001b[0mfilter\u001b[0m\u001b[0;34m(\u001b[0m\u001b[0;34m*\u001b[0m\u001b[0margs\u001b[0m\u001b[0;34m,\u001b[0m \u001b[0;34m**\u001b[0m\u001b[0mkwargs\u001b[0m\u001b[0;34m)\u001b[0m\u001b[0;34m\u001b[0m\u001b[0;34m\u001b[0m\u001b[0m\n\u001b[0m\u001b[1;32m    400\u001b[0m         \u001b[0;32mif\u001b[0m \u001b[0mself\u001b[0m\u001b[0;34m.\u001b[0m\u001b[0mquery\u001b[0m\u001b[0;34m.\u001b[0m\u001b[0mcan_filter\u001b[0m\u001b[0;34m(\u001b[0m\u001b[0;34m)\u001b[0m \u001b[0;32mand\u001b[0m \u001b[0;32mnot\u001b[0m \u001b[0mself\u001b[0m\u001b[0;34m.\u001b[0m\u001b[0mquery\u001b[0m\u001b[0;34m.\u001b[0m\u001b[0mdistinct_fields\u001b[0m\u001b[0;34m:\u001b[0m\u001b[0;34m\u001b[0m\u001b[0;34m\u001b[0m\u001b[0m\n\u001b[1;32m    401\u001b[0m             \u001b[0mclone\u001b[0m \u001b[0;34m=\u001b[0m \u001b[0mclone\u001b[0m\u001b[0;34m.\u001b[0m\u001b[0morder_by\u001b[0m\u001b[0;34m(\u001b[0m\u001b[0;34m)\u001b[0m\u001b[0;34m\u001b[0m\u001b[0;34m\u001b[0m\u001b[0m\n",
      "\u001b[0;32m~/.cache/pypoetry/virtualenvs/apps-ZFymp6kh-py3.8/lib/python3.8/site-packages/django/db/models/query.py\u001b[0m in \u001b[0;36mfilter\u001b[0;34m(self, *args, **kwargs)\u001b[0m\n\u001b[1;32m    890\u001b[0m         \u001b[0mset\u001b[0m\u001b[0;34m.\u001b[0m\u001b[0;34m\u001b[0m\u001b[0;34m\u001b[0m\u001b[0m\n\u001b[1;32m    891\u001b[0m         \"\"\"\n\u001b[0;32m--> 892\u001b[0;31m         \u001b[0;32mreturn\u001b[0m \u001b[0mself\u001b[0m\u001b[0;34m.\u001b[0m\u001b[0m_filter_or_exclude\u001b[0m\u001b[0;34m(\u001b[0m\u001b[0;32mFalse\u001b[0m\u001b[0;34m,\u001b[0m \u001b[0;34m*\u001b[0m\u001b[0margs\u001b[0m\u001b[0;34m,\u001b[0m \u001b[0;34m**\u001b[0m\u001b[0mkwargs\u001b[0m\u001b[0;34m)\u001b[0m\u001b[0;34m\u001b[0m\u001b[0;34m\u001b[0m\u001b[0m\n\u001b[0m\u001b[1;32m    893\u001b[0m \u001b[0;34m\u001b[0m\u001b[0m\n\u001b[1;32m    894\u001b[0m     \u001b[0;32mdef\u001b[0m \u001b[0mexclude\u001b[0m\u001b[0;34m(\u001b[0m\u001b[0mself\u001b[0m\u001b[0;34m,\u001b[0m \u001b[0;34m*\u001b[0m\u001b[0margs\u001b[0m\u001b[0;34m,\u001b[0m \u001b[0;34m**\u001b[0m\u001b[0mkwargs\u001b[0m\u001b[0;34m)\u001b[0m\u001b[0;34m:\u001b[0m\u001b[0;34m\u001b[0m\u001b[0;34m\u001b[0m\u001b[0m\n",
      "\u001b[0;32m~/.cache/pypoetry/virtualenvs/apps-ZFymp6kh-py3.8/lib/python3.8/site-packages/django/db/models/query.py\u001b[0m in \u001b[0;36m_filter_or_exclude\u001b[0;34m(self, negate, *args, **kwargs)\u001b[0m\n\u001b[1;32m    908\u001b[0m             \u001b[0mclone\u001b[0m\u001b[0;34m.\u001b[0m\u001b[0mquery\u001b[0m\u001b[0;34m.\u001b[0m\u001b[0madd_q\u001b[0m\u001b[0;34m(\u001b[0m\u001b[0;34m~\u001b[0m\u001b[0mQ\u001b[0m\u001b[0;34m(\u001b[0m\u001b[0;34m*\u001b[0m\u001b[0margs\u001b[0m\u001b[0;34m,\u001b[0m \u001b[0;34m**\u001b[0m\u001b[0mkwargs\u001b[0m\u001b[0;34m)\u001b[0m\u001b[0;34m)\u001b[0m\u001b[0;34m\u001b[0m\u001b[0;34m\u001b[0m\u001b[0m\n\u001b[1;32m    909\u001b[0m         \u001b[0;32melse\u001b[0m\u001b[0;34m:\u001b[0m\u001b[0;34m\u001b[0m\u001b[0;34m\u001b[0m\u001b[0m\n\u001b[0;32m--> 910\u001b[0;31m             \u001b[0mclone\u001b[0m\u001b[0;34m.\u001b[0m\u001b[0mquery\u001b[0m\u001b[0;34m.\u001b[0m\u001b[0madd_q\u001b[0m\u001b[0;34m(\u001b[0m\u001b[0mQ\u001b[0m\u001b[0;34m(\u001b[0m\u001b[0;34m*\u001b[0m\u001b[0margs\u001b[0m\u001b[0;34m,\u001b[0m \u001b[0;34m**\u001b[0m\u001b[0mkwargs\u001b[0m\u001b[0;34m)\u001b[0m\u001b[0;34m)\u001b[0m\u001b[0;34m\u001b[0m\u001b[0;34m\u001b[0m\u001b[0m\n\u001b[0m\u001b[1;32m    911\u001b[0m         \u001b[0;32mreturn\u001b[0m \u001b[0mclone\u001b[0m\u001b[0;34m\u001b[0m\u001b[0;34m\u001b[0m\u001b[0m\n\u001b[1;32m    912\u001b[0m \u001b[0;34m\u001b[0m\u001b[0m\n",
      "\u001b[0;32m~/.cache/pypoetry/virtualenvs/apps-ZFymp6kh-py3.8/lib/python3.8/site-packages/django/db/models/sql/query.py\u001b[0m in \u001b[0;36madd_q\u001b[0;34m(self, q_object)\u001b[0m\n\u001b[1;32m   1311\u001b[0m         \u001b[0;31m# So, demotion is OK.\u001b[0m\u001b[0;34m\u001b[0m\u001b[0;34m\u001b[0m\u001b[0;34m\u001b[0m\u001b[0m\n\u001b[1;32m   1312\u001b[0m         \u001b[0mexisting_inner\u001b[0m \u001b[0;34m=\u001b[0m \u001b[0;34m{\u001b[0m\u001b[0ma\u001b[0m \u001b[0;32mfor\u001b[0m \u001b[0ma\u001b[0m \u001b[0;32min\u001b[0m \u001b[0mself\u001b[0m\u001b[0;34m.\u001b[0m\u001b[0malias_map\u001b[0m \u001b[0;32mif\u001b[0m \u001b[0mself\u001b[0m\u001b[0;34m.\u001b[0m\u001b[0malias_map\u001b[0m\u001b[0;34m[\u001b[0m\u001b[0ma\u001b[0m\u001b[0;34m]\u001b[0m\u001b[0;34m.\u001b[0m\u001b[0mjoin_type\u001b[0m \u001b[0;34m==\u001b[0m \u001b[0mINNER\u001b[0m\u001b[0;34m}\u001b[0m\u001b[0;34m\u001b[0m\u001b[0;34m\u001b[0m\u001b[0m\n\u001b[0;32m-> 1313\u001b[0;31m         \u001b[0mclause\u001b[0m\u001b[0;34m,\u001b[0m \u001b[0m_\u001b[0m \u001b[0;34m=\u001b[0m \u001b[0mself\u001b[0m\u001b[0;34m.\u001b[0m\u001b[0m_add_q\u001b[0m\u001b[0;34m(\u001b[0m\u001b[0mq_object\u001b[0m\u001b[0;34m,\u001b[0m \u001b[0mself\u001b[0m\u001b[0;34m.\u001b[0m\u001b[0mused_aliases\u001b[0m\u001b[0;34m)\u001b[0m\u001b[0;34m\u001b[0m\u001b[0;34m\u001b[0m\u001b[0m\n\u001b[0m\u001b[1;32m   1314\u001b[0m         \u001b[0;32mif\u001b[0m \u001b[0mclause\u001b[0m\u001b[0;34m:\u001b[0m\u001b[0;34m\u001b[0m\u001b[0;34m\u001b[0m\u001b[0m\n\u001b[1;32m   1315\u001b[0m             \u001b[0mself\u001b[0m\u001b[0;34m.\u001b[0m\u001b[0mwhere\u001b[0m\u001b[0;34m.\u001b[0m\u001b[0madd\u001b[0m\u001b[0;34m(\u001b[0m\u001b[0mclause\u001b[0m\u001b[0;34m,\u001b[0m \u001b[0mAND\u001b[0m\u001b[0;34m)\u001b[0m\u001b[0;34m\u001b[0m\u001b[0;34m\u001b[0m\u001b[0m\n",
      "\u001b[0;32m~/.cache/pypoetry/virtualenvs/apps-ZFymp6kh-py3.8/lib/python3.8/site-packages/django/db/models/sql/query.py\u001b[0m in \u001b[0;36m_add_q\u001b[0;34m(self, q_object, used_aliases, branch_negated, current_negated, allow_joins, split_subq, simple_col)\u001b[0m\n\u001b[1;32m   1336\u001b[0m                 \u001b[0mjoinpromoter\u001b[0m\u001b[0;34m.\u001b[0m\u001b[0madd_votes\u001b[0m\u001b[0;34m(\u001b[0m\u001b[0mneeded_inner\u001b[0m\u001b[0;34m)\u001b[0m\u001b[0;34m\u001b[0m\u001b[0;34m\u001b[0m\u001b[0m\n\u001b[1;32m   1337\u001b[0m             \u001b[0;32melse\u001b[0m\u001b[0;34m:\u001b[0m\u001b[0;34m\u001b[0m\u001b[0;34m\u001b[0m\u001b[0m\n\u001b[0;32m-> 1338\u001b[0;31m                 child_clause, needed_inner = self.build_filter(\n\u001b[0m\u001b[1;32m   1339\u001b[0m                     \u001b[0mchild\u001b[0m\u001b[0;34m,\u001b[0m \u001b[0mcan_reuse\u001b[0m\u001b[0;34m=\u001b[0m\u001b[0mused_aliases\u001b[0m\u001b[0;34m,\u001b[0m \u001b[0mbranch_negated\u001b[0m\u001b[0;34m=\u001b[0m\u001b[0mbranch_negated\u001b[0m\u001b[0;34m,\u001b[0m\u001b[0;34m\u001b[0m\u001b[0;34m\u001b[0m\u001b[0m\n\u001b[1;32m   1340\u001b[0m                     \u001b[0mcurrent_negated\u001b[0m\u001b[0;34m=\u001b[0m\u001b[0mcurrent_negated\u001b[0m\u001b[0;34m,\u001b[0m \u001b[0mallow_joins\u001b[0m\u001b[0;34m=\u001b[0m\u001b[0mallow_joins\u001b[0m\u001b[0;34m,\u001b[0m\u001b[0;34m\u001b[0m\u001b[0;34m\u001b[0m\u001b[0m\n",
      "\u001b[0;32m~/.cache/pypoetry/virtualenvs/apps-ZFymp6kh-py3.8/lib/python3.8/site-packages/django/db/models/sql/query.py\u001b[0m in \u001b[0;36mbuild_filter\u001b[0;34m(self, filter_expr, branch_negated, current_negated, can_reuse, allow_joins, split_subq, reuse_with_filtered_relation, simple_col)\u001b[0m\n\u001b[1;32m   1211\u001b[0m         \u001b[0;32mif\u001b[0m \u001b[0;32mnot\u001b[0m \u001b[0marg\u001b[0m\u001b[0;34m:\u001b[0m\u001b[0;34m\u001b[0m\u001b[0;34m\u001b[0m\u001b[0m\n\u001b[1;32m   1212\u001b[0m             \u001b[0;32mraise\u001b[0m \u001b[0mFieldError\u001b[0m\u001b[0;34m(\u001b[0m\u001b[0;34m\"Cannot parse keyword query %r\"\u001b[0m \u001b[0;34m%\u001b[0m \u001b[0marg\u001b[0m\u001b[0;34m)\u001b[0m\u001b[0;34m\u001b[0m\u001b[0;34m\u001b[0m\u001b[0m\n\u001b[0;32m-> 1213\u001b[0;31m         \u001b[0mlookups\u001b[0m\u001b[0;34m,\u001b[0m \u001b[0mparts\u001b[0m\u001b[0;34m,\u001b[0m \u001b[0mreffed_expression\u001b[0m \u001b[0;34m=\u001b[0m \u001b[0mself\u001b[0m\u001b[0;34m.\u001b[0m\u001b[0msolve_lookup_type\u001b[0m\u001b[0;34m(\u001b[0m\u001b[0marg\u001b[0m\u001b[0;34m)\u001b[0m\u001b[0;34m\u001b[0m\u001b[0;34m\u001b[0m\u001b[0m\n\u001b[0m\u001b[1;32m   1214\u001b[0m \u001b[0;34m\u001b[0m\u001b[0m\n\u001b[1;32m   1215\u001b[0m         \u001b[0;32mif\u001b[0m \u001b[0;32mnot\u001b[0m \u001b[0mgetattr\u001b[0m\u001b[0;34m(\u001b[0m\u001b[0mreffed_expression\u001b[0m\u001b[0;34m,\u001b[0m \u001b[0;34m'filterable'\u001b[0m\u001b[0;34m,\u001b[0m \u001b[0;32mTrue\u001b[0m\u001b[0;34m)\u001b[0m\u001b[0;34m:\u001b[0m\u001b[0;34m\u001b[0m\u001b[0;34m\u001b[0m\u001b[0m\n",
      "\u001b[0;32m~/.cache/pypoetry/virtualenvs/apps-ZFymp6kh-py3.8/lib/python3.8/site-packages/django/db/models/sql/query.py\u001b[0m in \u001b[0;36msolve_lookup_type\u001b[0;34m(self, lookup)\u001b[0m\n\u001b[1;32m   1070\u001b[0m             \u001b[0;32mif\u001b[0m \u001b[0mexpression\u001b[0m\u001b[0;34m:\u001b[0m\u001b[0;34m\u001b[0m\u001b[0;34m\u001b[0m\u001b[0m\n\u001b[1;32m   1071\u001b[0m                 \u001b[0;32mreturn\u001b[0m \u001b[0mexpression_lookups\u001b[0m\u001b[0;34m,\u001b[0m \u001b[0;34m(\u001b[0m\u001b[0;34m)\u001b[0m\u001b[0;34m,\u001b[0m \u001b[0mexpression\u001b[0m\u001b[0;34m\u001b[0m\u001b[0;34m\u001b[0m\u001b[0m\n\u001b[0;32m-> 1072\u001b[0;31m         \u001b[0m_\u001b[0m\u001b[0;34m,\u001b[0m \u001b[0mfield\u001b[0m\u001b[0;34m,\u001b[0m \u001b[0m_\u001b[0m\u001b[0;34m,\u001b[0m \u001b[0mlookup_parts\u001b[0m \u001b[0;34m=\u001b[0m \u001b[0mself\u001b[0m\u001b[0;34m.\u001b[0m\u001b[0mnames_to_path\u001b[0m\u001b[0;34m(\u001b[0m\u001b[0mlookup_splitted\u001b[0m\u001b[0;34m,\u001b[0m \u001b[0mself\u001b[0m\u001b[0;34m.\u001b[0m\u001b[0mget_meta\u001b[0m\u001b[0;34m(\u001b[0m\u001b[0;34m)\u001b[0m\u001b[0;34m)\u001b[0m\u001b[0;34m\u001b[0m\u001b[0;34m\u001b[0m\u001b[0m\n\u001b[0m\u001b[1;32m   1073\u001b[0m         \u001b[0mfield_parts\u001b[0m \u001b[0;34m=\u001b[0m \u001b[0mlookup_splitted\u001b[0m\u001b[0;34m[\u001b[0m\u001b[0;36m0\u001b[0m\u001b[0;34m:\u001b[0m\u001b[0mlen\u001b[0m\u001b[0;34m(\u001b[0m\u001b[0mlookup_splitted\u001b[0m\u001b[0;34m)\u001b[0m \u001b[0;34m-\u001b[0m \u001b[0mlen\u001b[0m\u001b[0;34m(\u001b[0m\u001b[0mlookup_parts\u001b[0m\u001b[0;34m)\u001b[0m\u001b[0;34m]\u001b[0m\u001b[0;34m\u001b[0m\u001b[0;34m\u001b[0m\u001b[0m\n\u001b[1;32m   1074\u001b[0m         \u001b[0;32mif\u001b[0m \u001b[0mlen\u001b[0m\u001b[0;34m(\u001b[0m\u001b[0mlookup_parts\u001b[0m\u001b[0;34m)\u001b[0m \u001b[0;34m>\u001b[0m \u001b[0;36m1\u001b[0m \u001b[0;32mand\u001b[0m \u001b[0;32mnot\u001b[0m \u001b[0mfield_parts\u001b[0m\u001b[0;34m:\u001b[0m\u001b[0;34m\u001b[0m\u001b[0;34m\u001b[0m\u001b[0m\n",
      "\u001b[0;32m~/.cache/pypoetry/virtualenvs/apps-ZFymp6kh-py3.8/lib/python3.8/site-packages/django/db/models/sql/query.py\u001b[0m in \u001b[0;36mnames_to_path\u001b[0;34m(self, names, opts, allow_many, fail_on_missing)\u001b[0m\n\u001b[1;32m   1440\u001b[0m                         \u001b[0;34m*\u001b[0m\u001b[0mself\u001b[0m\u001b[0;34m.\u001b[0m\u001b[0m_filtered_relations\u001b[0m\u001b[0;34m,\u001b[0m\u001b[0;34m\u001b[0m\u001b[0;34m\u001b[0m\u001b[0m\n\u001b[1;32m   1441\u001b[0m                     ])\n\u001b[0;32m-> 1442\u001b[0;31m                     raise FieldError(\"Cannot resolve keyword '%s' into field. \"\n\u001b[0m\u001b[1;32m   1443\u001b[0m                                      \"Choices are: %s\" % (name, \", \".join(available)))\n\u001b[1;32m   1444\u001b[0m                 \u001b[0;32mbreak\u001b[0m\u001b[0;34m\u001b[0m\u001b[0;34m\u001b[0m\u001b[0m\n",
      "\u001b[0;31mFieldError\u001b[0m: Cannot resolve keyword 'sds' into field. Choices are: active_inspection, active_inspection_id, active_inspection_of_inventory, active_shape_files, active_tile_layer, active_tile_layer_id, address, approval_step, approval_step_id, branch, children, company, company_id, construction, construction_id, created_at, created_by, created_by_id, created_recuperations_with_relation, direction, due_at, due_at_manually_specified, editable, end_km, end_km_manually_specified, excel_imports, excel_reportings, executed_at, firm, firm_id, form_data, form_metadata, found_at, geometry, historicalreporting, inspection_jobs, inventory_async_batches, inventory_jobs, job, job_id, keywords, km, km_reference, lane, lot, number, occurrence_type, occurrence_type_id, parent, parent_id, pdf_import, pdf_import_id, point, project_end_km, project_end_km_manually_specified, project_km, properties, reporting_construction_progresses, reporting_files, reporting_messages, reporting_multiple_daily_reports, reporting_quality_assays, reporting_quality_control_exports, reporting_relation_child, reporting_relation_parent, reporting_resources, reporting_self_relations, reporting_usage, reportings_quality_samples, road, road_id, road_name, self_relations, services, shared_with_agency, status, status_id, technical_opinion, track, updated_at, uuid"
     ]
    }
   ],
   "source": [
    "Reporting.objects.get(uuid='417cd4ee-758d-40b3-9730-5c8de33f19fa',sds='sd')"
   ]
  },
  {
   "cell_type": "code",
   "execution_count": 1,
   "id": "3e558501",
   "metadata": {},
   "outputs": [
    {
     "data": {
      "text/plain": [
       "'CCR-Inv-2023.167371'"
      ]
     },
     "execution_count": 1,
     "metadata": {},
     "output_type": "execute_result"
    }
   ],
   "source": [
    "rep=Reporting.objects.get(uuid='417cd4ee-758d-40b3-9730-5c8de33f19fa')\n",
    "rep.number"
   ]
  },
  {
   "cell_type": "code",
   "execution_count": 3,
   "id": "1d949e74",
   "metadata": {},
   "outputs": [
    {
     "data": {
      "text/plain": [
       "<QuerySet []>"
      ]
     },
     "execution_count": 3,
     "metadata": {},
     "output_type": "execute_result"
    }
   ],
   "source": [
    "rep.reporting_relation_parent.all()"
   ]
  },
  {
   "cell_type": "code",
   "execution_count": 4,
   "id": "008caab2",
   "metadata": {},
   "outputs": [
    {
     "data": {
      "text/plain": [
       "<QuerySet [<ReportingInReporting: [CCR - Rio Sp] CCR-Inv-2023.167370 - CCR-Inv-2023.167371 (Jusante)>, <ReportingInReporting: [CCR - Rio Sp] CCR-Inv-2023.167372 - CCR-Inv-2023.167371 (Montante)>]>"
      ]
     },
     "execution_count": 4,
     "metadata": {},
     "output_type": "execute_result"
    }
   ],
   "source": [
    "rep.reporting_relation_child.all()"
   ]
  },
  {
   "cell_type": "code",
   "execution_count": 9,
   "id": "5880693b",
   "metadata": {},
   "outputs": [
    {
     "data": {
      "text/plain": [
       "<ReportingInReporting: [CCR - Rio Sp] CCR-Inv-2023.167370 - CCR-Inv-2023.167371 (Jusante)>"
      ]
     },
     "execution_count": 9,
     "metadata": {},
     "output_type": "execute_result"
    }
   ],
   "source": [
    "rep.reporting_relation_child.all()[0]"
   ]
  },
  {
   "cell_type": "code",
   "execution_count": 28,
   "id": "c9a8ab71",
   "metadata": {},
   "outputs": [
    {
     "data": {
      "text/plain": [
       "(<ReportingInReporting: [CCR - Rio Sp] CCR-Inv-2023.167372 - CCR-Inv-2023.167371 (Montante)>,\n",
       " <ReportingRelation: [CCR - Rio Sp] Montante (Tem montante na - É montante de)>)"
      ]
     },
     "execution_count": 28,
     "metadata": {},
     "output_type": "execute_result"
    }
   ],
   "source": [
    "rep.reporting_relation_child.all()[1],rep.reporting_relation_child.all()[1].reporting_relation"
   ]
  },
  {
   "cell_type": "markdown",
   "id": "987a8dd9",
   "metadata": {},
   "source": [
    "### Elemento exportação"
   ]
  },
  {
   "cell_type": "code",
   "execution_count": 2,
   "id": "0cbf95af",
   "metadata": {},
   "outputs": [
    {
     "data": {
      "text/plain": [
       "9217"
      ]
     },
     "execution_count": 2,
     "metadata": {},
     "output_type": "execute_result"
    }
   ],
   "source": [
    "# consulta\n",
    "reps=Reporting.objects.filter(occurrence_type__name='Drenagem Profunda Elemento',\n",
    "                              company__name='CCR - Rio Sp').order_by('number')\n",
    "reps.count()"
   ]
  },
  {
   "cell_type": "code",
   "execution_count": 4,
   "id": "ea3d2770",
   "metadata": {
    "scrolled": true
   },
   "outputs": [
    {
     "data": {
      "application/vnd.jupyter.widget-view+json": {
       "model_id": "",
       "version_major": 2,
       "version_minor": 0
      },
      "text/plain": [
       "  0%|          | 0/9217 [00:00<?, ?it/s]"
      ]
     },
     "metadata": {},
     "output_type": "display_data"
    }
   ],
   "source": [
    "from tqdm.notebook import tqdm\n",
    "data=[]\n",
    "for a in tqdm(reps):\n",
    "    if a.reporting_relation_child.exists():\n",
    "        for b in a.reporting_relation_child.all():\n",
    "            data.append({'Inventário':a.number,\n",
    "                         'Id ANTT': a.form_data.get('code','-') if a.form_data.get('code') else a.form_data.get('id_ccr_antt','-'),\n",
    "                         'Relação':b.reporting_relation.inward,\n",
    "                        'Item Relacionado':b.parent.number})\n",
    "#             print(a.number, b.reporting_relation.inward,b.parent.number)\n",
    "    else:\n",
    "        data.append({'Inventário':a.number,\n",
    "                     'Id ANTT': a.form_data.get('id_ccr_antt','-') if a.form_data.get('id_ccr_antt') else a.form_data.get('code','-'),\n",
    "                         'Relação':'',\n",
    "                        'Item Relacionado':''})\n",
    "#         print(a.number)"
   ]
  },
  {
   "cell_type": "code",
   "execution_count": 5,
   "id": "775cdf40",
   "metadata": {},
   "outputs": [
    {
     "data": {
      "text/html": [
       "<div>\n",
       "<style scoped>\n",
       "    .dataframe tbody tr th:only-of-type {\n",
       "        vertical-align: middle;\n",
       "    }\n",
       "\n",
       "    .dataframe tbody tr th {\n",
       "        vertical-align: top;\n",
       "    }\n",
       "\n",
       "    .dataframe thead th {\n",
       "        text-align: right;\n",
       "    }\n",
       "</style>\n",
       "<table border=\"1\" class=\"dataframe\">\n",
       "  <thead>\n",
       "    <tr style=\"text-align: right;\">\n",
       "      <th></th>\n",
       "      <th>Inventário</th>\n",
       "      <th>Id ANTT</th>\n",
       "      <th>Relação</th>\n",
       "      <th>Item Relacionado</th>\n",
       "    </tr>\n",
       "  </thead>\n",
       "  <tbody>\n",
       "    <tr>\n",
       "      <th>0</th>\n",
       "      <td>CCR-Inv-2023.161389</td>\n",
       "      <td>CCT 116 RJ 215+140 N 1</td>\n",
       "      <td>É montante de</td>\n",
       "      <td>CCR-Inv-2023.161388</td>\n",
       "    </tr>\n",
       "    <tr>\n",
       "      <th>1</th>\n",
       "      <td>CCR-Inv-2023.161390</td>\n",
       "      <td>CLP 116 RJ 215+120 S 1</td>\n",
       "      <td>É jusante de</td>\n",
       "      <td>CCR-Inv-2023.161388</td>\n",
       "    </tr>\n",
       "    <tr>\n",
       "      <th>2</th>\n",
       "      <td>CCR-Inv-2023.161392</td>\n",
       "      <td>CCS 116 RJ 215+200 N 1</td>\n",
       "      <td>É montante de</td>\n",
       "      <td>CCR-Inv-2023.161391</td>\n",
       "    </tr>\n",
       "    <tr>\n",
       "      <th>3</th>\n",
       "      <td>CCR-Inv-2023.161393</td>\n",
       "      <td>BA 116 RJ 215+320 S 1</td>\n",
       "      <td>É jusante de</td>\n",
       "      <td>CCR-Inv-2023.161391</td>\n",
       "    </tr>\n",
       "    <tr>\n",
       "      <th>4</th>\n",
       "      <td>CCR-Inv-2023.161395</td>\n",
       "      <td>BLDA 116 RJ 215+470 CC 1</td>\n",
       "      <td>É montante de</td>\n",
       "      <td>CCR-Inv-2023.161394</td>\n",
       "    </tr>\n",
       "    <tr>\n",
       "      <th>...</th>\n",
       "      <td>...</td>\n",
       "      <td>...</td>\n",
       "      <td>...</td>\n",
       "      <td>...</td>\n",
       "    </tr>\n",
       "    <tr>\n",
       "      <th>14453</th>\n",
       "      <td>CCR-Inv-2023.178161</td>\n",
       "      <td>BLC 116 SP 231+535 S 1</td>\n",
       "      <td>É montante de</td>\n",
       "      <td>CCR-Inv-2023.178160</td>\n",
       "    </tr>\n",
       "    <tr>\n",
       "      <th>14454</th>\n",
       "      <td>CCR-Inv-2023.178161</td>\n",
       "      <td>BLC 116 SP 231+535 S 1</td>\n",
       "      <td>É jusante de</td>\n",
       "      <td>CCR-Inv-2023.178165</td>\n",
       "    </tr>\n",
       "    <tr>\n",
       "      <th>14455</th>\n",
       "      <td>CCR-Inv-2023.178163</td>\n",
       "      <td>BLSA 116 SP 231+616 S 1</td>\n",
       "      <td>É montante de</td>\n",
       "      <td>CCR-Inv-2023.178162</td>\n",
       "    </tr>\n",
       "    <tr>\n",
       "      <th>14456</th>\n",
       "      <td>CCR-Inv-2023.178164</td>\n",
       "      <td>BLC 116 SP 231+616 S 1</td>\n",
       "      <td>É jusante de</td>\n",
       "      <td>CCR-Inv-2023.178162</td>\n",
       "    </tr>\n",
       "    <tr>\n",
       "      <th>14457</th>\n",
       "      <td>CCR-Inv-2023.178164</td>\n",
       "      <td>BLC 116 SP 231+616 S 1</td>\n",
       "      <td>É montante de</td>\n",
       "      <td>CCR-Inv-2023.178165</td>\n",
       "    </tr>\n",
       "  </tbody>\n",
       "</table>\n",
       "<p>14458 rows × 4 columns</p>\n",
       "</div>"
      ],
      "text/plain": [
       "                Inventário                   Id ANTT        Relação  \\\n",
       "0      CCR-Inv-2023.161389    CCT 116 RJ 215+140 N 1  É montante de   \n",
       "1      CCR-Inv-2023.161390    CLP 116 RJ 215+120 S 1   É jusante de   \n",
       "2      CCR-Inv-2023.161392    CCS 116 RJ 215+200 N 1  É montante de   \n",
       "3      CCR-Inv-2023.161393     BA 116 RJ 215+320 S 1   É jusante de   \n",
       "4      CCR-Inv-2023.161395  BLDA 116 RJ 215+470 CC 1  É montante de   \n",
       "...                    ...                       ...            ...   \n",
       "14453  CCR-Inv-2023.178161    BLC 116 SP 231+535 S 1  É montante de   \n",
       "14454  CCR-Inv-2023.178161    BLC 116 SP 231+535 S 1   É jusante de   \n",
       "14455  CCR-Inv-2023.178163   BLSA 116 SP 231+616 S 1  É montante de   \n",
       "14456  CCR-Inv-2023.178164    BLC 116 SP 231+616 S 1   É jusante de   \n",
       "14457  CCR-Inv-2023.178164    BLC 116 SP 231+616 S 1  É montante de   \n",
       "\n",
       "          Item Relacionado  \n",
       "0      CCR-Inv-2023.161388  \n",
       "1      CCR-Inv-2023.161388  \n",
       "2      CCR-Inv-2023.161391  \n",
       "3      CCR-Inv-2023.161391  \n",
       "4      CCR-Inv-2023.161394  \n",
       "...                    ...  \n",
       "14453  CCR-Inv-2023.178160  \n",
       "14454  CCR-Inv-2023.178165  \n",
       "14455  CCR-Inv-2023.178162  \n",
       "14456  CCR-Inv-2023.178162  \n",
       "14457  CCR-Inv-2023.178165  \n",
       "\n",
       "[14458 rows x 4 columns]"
      ]
     },
     "execution_count": 5,
     "metadata": {},
     "output_type": "execute_result"
    }
   ],
   "source": [
    "import pandas as pd\n",
    "df = pd.DataFrame(data=data)\n",
    "df"
   ]
  },
  {
   "cell_type": "code",
   "execution_count": 6,
   "id": "89426d52",
   "metadata": {},
   "outputs": [],
   "source": [
    "df.to_excel('relacionamentosElementos.xlsx',index=False)"
   ]
  },
  {
   "cell_type": "markdown",
   "id": "6b1b9191",
   "metadata": {},
   "source": [
    "### Ficha exportação"
   ]
  },
  {
   "cell_type": "code",
   "execution_count": 14,
   "id": "f81238c9",
   "metadata": {},
   "outputs": [
    {
     "data": {
      "text/plain": [
       "8081"
      ]
     },
     "execution_count": 14,
     "metadata": {},
     "output_type": "execute_result"
    }
   ],
   "source": [
    "# consulta\n",
    "reps=Reporting.objects.filter(occurrence_type__name='Drenagem Profunda Ficha Poder Concedente',\n",
    "#                               number='CCR-Inv-2023.167367',\n",
    "                              company__name='CCR - Rio Sp').order_by('number')\n",
    "reps.count()"
   ]
  },
  {
   "cell_type": "code",
   "execution_count": 15,
   "id": "2034ffe0",
   "metadata": {
    "scrolled": true
   },
   "outputs": [
    {
     "data": {
      "application/vnd.jupyter.widget-view+json": {
       "model_id": "6aacd58b75be4738bf99ae2c961d3506",
       "version_major": 2,
       "version_minor": 0
      },
      "text/plain": [
       "  0%|          | 0/8081 [00:00<?, ?it/s]"
      ]
     },
     "metadata": {},
     "output_type": "display_data"
    }
   ],
   "source": [
    "from tqdm.notebook import tqdm\n",
    "data=[]\n",
    "for a in tqdm(reps):\n",
    "    if a.reporting_relation_parent.exists():\n",
    "        for b in a.reporting_relation_parent.all():\n",
    "            data.append({'Inventário':a.number,\n",
    "                         'Id ANTT': a.form_data.get('code','-') if a.form_data.get('code') else a.form_data.get('id_ccr_antt','-'),\n",
    "                         'Relação':b.reporting_relation.outward,\n",
    "                        'Item Relacionado':b.child.number})\n",
    "#             print(a.number, b.reporting_relation.outward,b.child.number)\n",
    "    else:\n",
    "        data.append({'Inventário':a.number,\n",
    "                     'Id ANTT': a.form_data.get('id_ccr_antt','-') if a.form_data.get('id_ccr_antt') else a.form_data.get('code','-'),\n",
    "                         'Relação':'',\n",
    "                        'Item Relacionado':''})\n",
    "#         print(a.number)"
   ]
  },
  {
   "cell_type": "code",
   "execution_count": 16,
   "id": "9279ffb1",
   "metadata": {},
   "outputs": [
    {
     "data": {
      "text/html": [
       "<div>\n",
       "<style scoped>\n",
       "    .dataframe tbody tr th:only-of-type {\n",
       "        vertical-align: middle;\n",
       "    }\n",
       "\n",
       "    .dataframe tbody tr th {\n",
       "        vertical-align: top;\n",
       "    }\n",
       "\n",
       "    .dataframe thead th {\n",
       "        text-align: right;\n",
       "    }\n",
       "</style>\n",
       "<table border=\"1\" class=\"dataframe\">\n",
       "  <thead>\n",
       "    <tr style=\"text-align: right;\">\n",
       "      <th></th>\n",
       "      <th>Inventário</th>\n",
       "      <th>Id ANTT</th>\n",
       "      <th>Relação</th>\n",
       "      <th>Item Relacionado</th>\n",
       "    </tr>\n",
       "  </thead>\n",
       "  <tbody>\n",
       "    <tr>\n",
       "      <th>0</th>\n",
       "      <td>CCR-Inv-2023.161388</td>\n",
       "      <td>BU 116 RJ 215+140 N 1</td>\n",
       "      <td>Tem montante na</td>\n",
       "      <td>CCR-Inv-2023.161389</td>\n",
       "    </tr>\n",
       "    <tr>\n",
       "      <th>1</th>\n",
       "      <td>CCR-Inv-2023.161388</td>\n",
       "      <td>BU 116 RJ 215+140 N 1</td>\n",
       "      <td>Tem jusante na</td>\n",
       "      <td>CCR-Inv-2023.161390</td>\n",
       "    </tr>\n",
       "    <tr>\n",
       "      <th>2</th>\n",
       "      <td>CCR-Inv-2023.161391</td>\n",
       "      <td>BU 116 RJ 215+200 N 1</td>\n",
       "      <td>Tem montante na</td>\n",
       "      <td>CCR-Inv-2023.161392</td>\n",
       "    </tr>\n",
       "    <tr>\n",
       "      <th>3</th>\n",
       "      <td>CCR-Inv-2023.161391</td>\n",
       "      <td>BU 116 RJ 215+200 N 1</td>\n",
       "      <td>Tem jusante na</td>\n",
       "      <td>CCR-Inv-2023.161393</td>\n",
       "    </tr>\n",
       "    <tr>\n",
       "      <th>4</th>\n",
       "      <td>CCR-Inv-2023.161394</td>\n",
       "      <td>BU 116 RJ 215+470 CC 1</td>\n",
       "      <td>Tem montante na</td>\n",
       "      <td>CCR-Inv-2023.161395</td>\n",
       "    </tr>\n",
       "    <tr>\n",
       "      <th>...</th>\n",
       "      <td>...</td>\n",
       "      <td>...</td>\n",
       "      <td>...</td>\n",
       "      <td>...</td>\n",
       "    </tr>\n",
       "    <tr>\n",
       "      <th>14978</th>\n",
       "      <td>CCR-Inv-2024.12067</td>\n",
       "      <td>BU 116 SP 225+125 N 2</td>\n",
       "      <td></td>\n",
       "      <td></td>\n",
       "    </tr>\n",
       "    <tr>\n",
       "      <th>14979</th>\n",
       "      <td>CCR-Inv-2024.12068</td>\n",
       "      <td>BU 116 SP 226+053 S 1</td>\n",
       "      <td></td>\n",
       "      <td></td>\n",
       "    </tr>\n",
       "    <tr>\n",
       "      <th>14980</th>\n",
       "      <td>CCR-Inv-2024.12069</td>\n",
       "      <td>BU 116 SP 226+100 S 2</td>\n",
       "      <td></td>\n",
       "      <td></td>\n",
       "    </tr>\n",
       "    <tr>\n",
       "      <th>14981</th>\n",
       "      <td>CCR-Inv-2024.12070</td>\n",
       "      <td>BU 116 SP 226+478 S 1</td>\n",
       "      <td></td>\n",
       "      <td></td>\n",
       "    </tr>\n",
       "    <tr>\n",
       "      <th>14982</th>\n",
       "      <td>CCR-Inv-2024.12071</td>\n",
       "      <td>BU 116 SP 228+262 N 1</td>\n",
       "      <td></td>\n",
       "      <td></td>\n",
       "    </tr>\n",
       "  </tbody>\n",
       "</table>\n",
       "<p>14983 rows × 4 columns</p>\n",
       "</div>"
      ],
      "text/plain": [
       "                Inventário                 Id ANTT          Relação  \\\n",
       "0      CCR-Inv-2023.161388   BU 116 RJ 215+140 N 1  Tem montante na   \n",
       "1      CCR-Inv-2023.161388   BU 116 RJ 215+140 N 1   Tem jusante na   \n",
       "2      CCR-Inv-2023.161391   BU 116 RJ 215+200 N 1  Tem montante na   \n",
       "3      CCR-Inv-2023.161391   BU 116 RJ 215+200 N 1   Tem jusante na   \n",
       "4      CCR-Inv-2023.161394  BU 116 RJ 215+470 CC 1  Tem montante na   \n",
       "...                    ...                     ...              ...   \n",
       "14978   CCR-Inv-2024.12067   BU 116 SP 225+125 N 2                    \n",
       "14979   CCR-Inv-2024.12068   BU 116 SP 226+053 S 1                    \n",
       "14980   CCR-Inv-2024.12069   BU 116 SP 226+100 S 2                    \n",
       "14981   CCR-Inv-2024.12070   BU 116 SP 226+478 S 1                    \n",
       "14982   CCR-Inv-2024.12071   BU 116 SP 228+262 N 1                    \n",
       "\n",
       "          Item Relacionado  \n",
       "0      CCR-Inv-2023.161389  \n",
       "1      CCR-Inv-2023.161390  \n",
       "2      CCR-Inv-2023.161392  \n",
       "3      CCR-Inv-2023.161393  \n",
       "4      CCR-Inv-2023.161395  \n",
       "...                    ...  \n",
       "14978                       \n",
       "14979                       \n",
       "14980                       \n",
       "14981                       \n",
       "14982                       \n",
       "\n",
       "[14983 rows x 4 columns]"
      ]
     },
     "execution_count": 16,
     "metadata": {},
     "output_type": "execute_result"
    }
   ],
   "source": [
    "import pandas as pd\n",
    "df = pd.DataFrame(data=data)\n",
    "df"
   ]
  },
  {
   "cell_type": "code",
   "execution_count": 17,
   "id": "3d3bc334",
   "metadata": {},
   "outputs": [],
   "source": [
    "df.to_excel('relacionamentosFichas.xlsx',index=False)"
   ]
  },
  {
   "cell_type": "code",
   "execution_count": null,
   "id": "1e61a553",
   "metadata": {},
   "outputs": [],
   "source": []
  },
  {
   "cell_type": "code",
   "execution_count": 3,
   "id": "84bf5be2",
   "metadata": {},
   "outputs": [
    {
     "data": {
      "text/plain": [
       "{'_state': <django.db.models.base.ModelState at 0x782d8c3649d0>,\n",
       " 'uuid': UUID('b9b57fe7-0528-4c0b-9c31-541c90797c9d'),\n",
       " 'parent_id': UUID('de1f87a1-1e6c-402c-91dc-776f321b35f5'),\n",
       " 'child_id': UUID('417cd4ee-758d-40b3-9730-5c8de33f19fa'),\n",
       " 'reporting_relation_id': UUID('8155daf6-d44e-4181-ba72-f28be7b8fee1')}"
      ]
     },
     "execution_count": 3,
     "metadata": {},
     "output_type": "execute_result"
    }
   ],
   "source": [
    "rep.reporting_relation_child.all()[1].__dict__"
   ]
  },
  {
   "cell_type": "code",
   "execution_count": null,
   "id": "f6207ace",
   "metadata": {},
   "outputs": [],
   "source": []
  },
  {
   "cell_type": "code",
   "execution_count": 11,
   "id": "ff854e5e",
   "metadata": {},
   "outputs": [
    {
     "data": {
      "text/plain": [
       "('CCR-Inv-2023.167370', 'CCR-Inv-2023.167372')"
      ]
     },
     "execution_count": 11,
     "metadata": {},
     "output_type": "execute_result"
    }
   ],
   "source": [
    "rep.reporting_relation_child.all()[0].parent.number,rep.reporting_relation_child.all()[1].parent.number"
   ]
  },
  {
   "cell_type": "code",
   "execution_count": 17,
   "id": "c81e8c3f",
   "metadata": {},
   "outputs": [
    {
     "data": {
      "text/plain": [
       "('É jusante de', 'É montante de')"
      ]
     },
     "execution_count": 17,
     "metadata": {},
     "output_type": "execute_result"
    }
   ],
   "source": [
    "rep.reporting_relation_child.all()[0].reporting_relation.inward,rep.reporting_relation_child.all()[1].reporting_relation.inward"
   ]
  },
  {
   "cell_type": "code",
   "execution_count": 1,
   "id": "7a93b56f",
   "metadata": {},
   "outputs": [],
   "source": [
    "reps=Reporting.objects.filter(\n",
    "    occurrence_type__name='Monitoração Drenagem Superficial',\n",
    "#     uuid='3f0f72ae-889d-4975-ad4e-08e1da2a8502'\n",
    ").only(\n",
    "    'form_data',\n",
    "    'company',\n",
    "    'parent'\n",
    ").prefetch_related(\n",
    "    'company',\n",
    "    'parent')"
   ]
  },
  {
   "cell_type": "code",
   "execution_count": 2,
   "id": "a45d1395",
   "metadata": {},
   "outputs": [
    {
     "data": {
      "text/plain": [
       "56186"
      ]
     },
     "execution_count": 2,
     "metadata": {},
     "output_type": "execute_result"
    }
   ],
   "source": [
    "reps.count()"
   ]
  },
  {
   "cell_type": "code",
   "execution_count": 3,
   "id": "67d51e26",
   "metadata": {},
   "outputs": [],
   "source": [
    "detalhe_elemento=[{\"name\":\"DAD-29L\",\"value\":\"1\"},{\"name\":\"STC-09L\",\"value\":\"2\"},{\"name\":\"SCC-03\",\"value\":\"3\"},{\"name\":\"DRZ-01\",\"value\":\"4\"},{\"name\":\"VPA-02\",\"value\":\"5\"},{\"name\":\"SCC-01L\",\"value\":\"6\"},{\"name\":\"VPC-05\",\"value\":\"7\"},{\"name\":\"SCC-09L\",\"value\":\"8\"},{\"name\":\"DRZ-12L\",\"value\":\"9\"},{\"name\":\"DCD-06L\",\"value\":\"10\"},{\"name\":\"STC-04\",\"value\":\"11\"},{\"name\":\"DAR-07\",\"value\":\"12\"},{\"name\":\"MFC-03\",\"value\":\"13\"},{\"name\":\"STC-10\",\"value\":\"14\"},{\"name\":\"DCD-05L\",\"value\":\"15\"},{\"name\":\"VPC-03L\",\"value\":\"16\"},{\"name\":\"DAR-12L\",\"value\":\"17\"},{\"name\":\"DAR-05L\",\"value\":\"18\"},{\"name\":\"DAR-15L\",\"value\":\"19\"},{\"name\":\"VPA-05L\",\"value\":\"20\"},{\"name\":\"DAR-10L\",\"value\":\"21\"},{\"name\":\"DRT-07L\",\"value\":\"22\"},{\"name\":\"MFC-10\",\"value\":\"23\"},{\"name\":\"DAD-10\",\"value\":\"24\"},{\"name\":\"DAD-06\",\"value\":\"25\"},{\"name\":\"DRZ-11L\",\"value\":\"26\"},{\"name\":\"VPA-04\",\"value\":\"27\"},{\"name\":\"DRT-04L\",\"value\":\"28\"},{\"name\":\"DEB-02\",\"value\":\"29\"},{\"name\":\"SRC-06L\",\"value\":\"30\"},{\"name\":\"SZC-09L\",\"value\":\"31\"},{\"name\":\"SZC-08L\",\"value\":\"32\"},{\"name\":\"VPA-09L\",\"value\":\"33\"},{\"name\":\"DRZ-02L\",\"value\":\"34\"},{\"name\":\"DRZ-03\",\"value\":\"35\"},{\"name\":\"STC-01L\",\"value\":\"36\"},{\"name\":\"DAD-22L\",\"value\":\"37\"},{\"name\":\"DCD-07L\",\"value\":\"38\"},{\"name\":\"VPA-06L\",\"value\":\"39\"},{\"name\":\"VPA-10L\",\"value\":\"40\"},{\"name\":\"STC-02L\",\"value\":\"41\"},{\"name\":\"SCC-06L\",\"value\":\"42\"},{\"name\":\"STC-03L\",\"value\":\"43\"},{\"name\":\"DAD-18\",\"value\":\"44\"},{\"name\":\"DRZ-12\",\"value\":\"45\"},{\"name\":\"SCC-05L\",\"value\":\"46\"},{\"name\":\"DCD-02\",\"value\":\"47\"},{\"name\":\"DCD-09L\",\"value\":\"48\"},{\"name\":\"SCC-08L\",\"value\":\"49\"},{\"name\":\"SRC-03L\",\"value\":\"50\"},{\"name\":\"VPC-06L\",\"value\":\"51\"},{\"name\":\"VPC-05L\",\"value\":\"52\"},{\"name\":\"VPC-08\",\"value\":\"53\"},{\"name\":\"DAR-09L\",\"value\":\"54\"},{\"name\":\"STC-04L\",\"value\":\"55\"},{\"name\":\"DCD-10\",\"value\":\"56\"},{\"name\":\"MFC-05\",\"value\":\"57\"},{\"name\":\"DAD-23L\",\"value\":\"58\"},{\"name\":\"SZC-04L\",\"value\":\"59\"},{\"name\":\"SRC-05L\",\"value\":\"60\"},{\"name\":\"DAR-13L\",\"value\":\"61\"},{\"name\":\"DRT-02L\",\"value\":\"62\"},{\"name\":\"DAD-12\",\"value\":\"63\"},{\"name\":\"DRZ-15L\",\"value\":\"64\"},{\"name\":\"SMC-01\",\"value\":\"65\"},{\"name\":\"VPC-08L\",\"value\":\"66\"},{\"name\":\"MCF-11L\",\"value\":\"67\"},{\"name\":\"DAR-08L\",\"value\":\"68\"},{\"name\":\"DAR-07L\",\"value\":\"69\"},{\"name\":\"STC-11L\",\"value\":\"70\"},{\"name\":\"DAR-17\",\"value\":\"71\"},{\"name\":\"MCF-12L\",\"value\":\"72\"},{\"name\":\"VPA-06\",\"value\":\"73\"},{\"name\":\"SCC-04\",\"value\":\"74\"},{\"name\":\"DAR-17L\",\"value\":\"75\"},{\"name\":\"SRC-02L\",\"value\":\"76\"},{\"name\":\"DRZ-03L\",\"value\":\"77\"},{\"name\":\"DED\",\"value\":\"78\"},{\"name\":\"MFC-06\",\"value\":\"79\"},{\"name\":\"SCC-01\",\"value\":\"80\"},{\"name\":\"STC-08\",\"value\":\"81\"},{\"name\":\"SCC-02\",\"value\":\"82\"},{\"name\":\"DRZ-14L\",\"value\":\"83\"},{\"name\":\"DRZ-11\",\"value\":\"84\"},{\"name\":\"MFC-07\",\"value\":\"85\"},{\"name\":\"DEB\",\"value\":\"86\"},{\"name\":\"SMC-01L\",\"value\":\"87\"},{\"name\":\"DRZ-04L\",\"value\":\"88\"},{\"name\":\"STC-01\",\"value\":\"89\"},{\"name\":\"DAD-25\",\"value\":\"90\"},{\"name\":\"DAR-23L\",\"value\":\"91\"},{\"name\":\"MFC-10L\",\"value\":\"92\"},{\"name\":\"STC-05L\",\"value\":\"93\"},{\"name\":\"STC-08L\",\"value\":\"94\"},{\"name\":\"DRT-03L\",\"value\":\"95\"},{\"name\":\"SCC-12L\",\"value\":\"96\"},{\"name\":\"DRZ-021L\",\"value\":\"97\"},{\"name\":\"DAR-12\",\"value\":\"98\"},{\"name\":\"DAR-18\",\"value\":\"99\"},{\"name\":\"SZC-06L\",\"value\":\"100\"},{\"name\":\"SZC-03L\",\"value\":\"101\"},{\"name\":\"DRZ-08L\",\"value\":\"102\"},{\"name\":\"VPC-09L\",\"value\":\"103\"},{\"name\":\"DAR-01\",\"value\":\"104\"},{\"name\":\"DRT-05L\",\"value\":\"105\"},{\"name\":\"VPA-03L\",\"value\":\"106\"},{\"name\":\"SZC-02\",\"value\":\"107\"},{\"name\":\"STC-02\",\"value\":\"108\"},{\"name\":\"VPA-03\",\"value\":\"109\"},{\"name\":\"MFC-01\",\"value\":\"110\"},{\"name\":\"DAR-04\",\"value\":\"111\"},{\"name\":\"DCD-11L\",\"value\":\"112\"},{\"name\":\"DAR-01L\",\"value\":\"113\"},{\"name\":\"VPA-07L\",\"value\":\"114\"},{\"name\":\"SCZ-02L\",\"value\":\"115\"},{\"name\":\"DAR-24L\",\"value\":\"116\"},{\"name\":\"SCC-11L\",\"value\":\"117\"},{\"name\":\"TSS-01\",\"value\":\"118\"},{\"name\":\"DAD-26L\",\"value\":\"119\"},{\"name\":\"STC-09\",\"value\":\"120\"},{\"name\":\"STC-07L\",\"value\":\"121\"},{\"name\":\"DAR-18L\",\"value\":\"122\"},{\"name\":\"DAR-20L\",\"value\":\"123\"},{\"name\":\"VPC-04L\",\"value\":\"124\"},{\"name\":\"STC-06L\",\"value\":\"125\"},{\"name\":\"STC-03\",\"value\":\"126\"},{\"name\":\"DAR-14L\",\"value\":\"127\"},{\"name\":\"SZC-03\",\"value\":\"128\"},{\"name\":\"STC-05\",\"value\":\"129\"},{\"name\":\"VPA-07\",\"value\":\"130\"},{\"name\":\"SZC-05L\",\"value\":\"131\"},{\"name\":\"DAD-20L\",\"value\":\"132\"},{\"name\":\"DAR-04L\",\"value\":\"133\"},{\"name\":\"DAR-19L\",\"value\":\"134\"},{\"name\":\"STC-10L\",\"value\":\"135\"},{\"name\":\"SZC-07L\",\"value\":\"136\"},{\"name\":\"DAD-04\",\"value\":\"137\"},{\"name\":\"DAR-03L\",\"value\":\"138\"},{\"name\":\"DCD-02L\",\"value\":\"139\"},{\"name\":\"MFC-12L\",\"value\":\"140\"},{\"name\":\"SRC-08L\",\"value\":\"141\"},{\"name\":\"VPA-01L\",\"value\":\"142\"},{\"name\":\"DAR-03\",\"value\":\"143\"},{\"name\":\"SMC-02L\",\"value\":\"144\"},{\"name\":\"SZC-01\",\"value\":\"145\"},{\"name\":\"DAR-06L\",\"value\":\"146\"},{\"name\":\"DAR-16L\",\"value\":\"147\"},{\"name\":\"SRC-01\",\"value\":\"148\"},{\"name\":\"SZC-09\",\"value\":\"149\"},{\"name\":\"DCD-04L\",\"value\":\"150\"},{\"name\":\"VPA-05\",\"value\":\"151\"},{\"name\":\"DAD-08\",\"value\":\"152\"},{\"name\":\"VPA-08L\",\"value\":\"153\"},{\"name\":\"DAD-22\",\"value\":\"154\"},{\"name\":\"DAR-10\",\"value\":\"155\"},{\"name\":\"DCD-24L\",\"value\":\"156\"},{\"name\":\"DCD-08\",\"value\":\"157\"},{\"name\":\"DAR-14\",\"value\":\"158\"},{\"name\":\"SRC-04L\",\"value\":\"159\"},{\"name\":\"MFC-02\",\"value\":\"160\"},{\"name\":\"VPA-02L\",\"value\":\"161\"},{\"name\":\"VPC-07L\",\"value\":\"162\"},{\"name\":\"MFC-11L\",\"value\":\"163\"},{\"name\":\"DRZ-07L\",\"value\":\"164\"},{\"name\":\"VPC-02\",\"value\":\"165\"},{\"name\":\"DCD-04\",\"value\":\"166\"},{\"name\":\"DAR-21L\",\"value\":\"167\"},{\"name\":\"MFC-09\",\"value\":\"168\"},{\"name\":\"SCC-02L\",\"value\":\"169\"},{\"name\":\"DAD-21L\",\"value\":\"170\"},{\"name\":\"VPC-09\",\"value\":\"171\"},{\"name\":\"MFC-04\",\"value\":\"172\"},{\"name\":\"MCF-09L\",\"value\":\"173\"},{\"name\":\"DAD-02\",\"value\":\"174\"},{\"name\":\"DAR-15\",\"value\":\"175\"},{\"name\":\"MFC-09L\",\"value\":\"176\"},{\"name\":\"MFC-08\",\"value\":\"177\"},{\"name\":\"VPA-01\",\"value\":\"178\"},{\"name\":\"VPC-03\",\"value\":\"179\"},{\"name\":\"DAD-25L\",\"value\":\"180\"},{\"name\":\"DAD-02L\",\"value\":\"181\"},{\"name\":\"VPC-01\",\"value\":\"182\"},{\"name\":\"DRZ-01L\",\"value\":\"183\"},{\"name\":\"DCD-10L\",\"value\":\"184\"},{\"name\":\"VPC-04\",\"value\":\"185\"},{\"name\":\"DAR-11L\",\"value\":\"186\"},{\"name\":\"DRZ-05L\",\"value\":\"187\"},{\"name\":\"DRZ-13L\",\"value\":\"188\"},{\"name\":\"SZC-02L\",\"value\":\"189\"},{\"name\":\"SCC-07L\",\"value\":\"190\"},{\"name\":\"DCD-08L\",\"value\":\"191\"},{\"name\":\"SRC-01L\",\"value\":\"192\"},{\"name\":\"VPC-02L\",\"value\":\"193\"},{\"name\":\"SCZ-03L\",\"value\":\"194\"},{\"name\":\"DAD-19L\",\"value\":\"195\"},{\"name\":\"DAD-27L\",\"value\":\"196\"},{\"name\":\"STC-12L\",\"value\":\"197\"},{\"name\":\"MFC-05L\",\"value\":\"198\"},{\"name\":\"VPA-04L\",\"value\":\"199\"},{\"name\":\"MCF-10L\",\"value\":\"200\"},{\"name\":\"DAR-02\",\"value\":\"201\"},{\"name\":\"DRT-01L\",\"value\":\"202\"},{\"name\":\"Novo\",\"value\":\"203\"}]"
   ]
  },
  {
   "cell_type": "code",
   "execution_count": 4,
   "id": "e3e568a7",
   "metadata": {},
   "outputs": [
    {
     "data": {
      "application/vnd.jupyter.widget-view+json": {
       "model_id": "0939c1a8e1f94c2c86705899b578535b",
       "version_major": 2,
       "version_minor": 0
      },
      "text/plain": [
       "  0%|          | 0/56186 [00:00<?, ?it/s]"
      ]
     },
     "metadata": {},
     "output_type": "display_data"
    }
   ],
   "source": [
    "from tqdm.notebook import tqdm\n",
    "dados=[]\n",
    "for a in tqdm(reps):\n",
    "    changed=False\n",
    "    try:\n",
    "        if getattr(a, 'parent'):\n",
    "            if a.form_data.get('detalheelemento'):\n",
    "                validacao_dado_select=any(b for b in detalhe_elemento if b['value']==a.form_data.get('detalheelemento'))\n",
    "                if validacao_dado_select: # quer dizer que foi selecionado algo no detalhe da monitoração\n",
    "                    nome_detalhe=next(b['name'] for b in detalhe_elemento if b['value']==a.form_data.get('detalheelemento'))\n",
    "                    a.form_data['detalheelemento'] = nome_detalhe\n",
    "                    changed=True\n",
    "#                     print('com vinculo',nome_detalhe)\n",
    "                elif a.parent.form_data.get('detalheelemento') != None and a.parent.form_data.get('detalheelemento') != a.parent.form_data.get('detalheelemento'):\n",
    "                    a.form_data['detalheelemento'] = a.parent.form_data.get('detalheelemento')\n",
    "                    changed=True\n",
    "#                     print(a.number,a.company.name,a.parent.form_data.get('detalheelemento'))\n",
    "            else:\n",
    "                if a.parent.form_data.get('detalheelemento') != None:\n",
    "                    a.form_data['detalheelemento'] = a.parent.form_data.get('detalheelemento')\n",
    "                    changed=True\n",
    "        elif a.form_data.get('detalheelemento'):\n",
    "            validacao_dado_select=any(b for b in detalhe_elemento if b['value']==a.form_data.get('detalheelemento'))\n",
    "            if validacao_dado_select: # quer dizer que foi selecionado algo no detalhe da monitoração\n",
    "                nome_detalhe=next(b['name'] for b in detalhe_elemento if b['value']==a.form_data.get('detalheelemento'))\n",
    "#                 print('sem vinculo',nome_detalhe)\n",
    "                a.form_data['detalheelemento'] = nome_detalhe\n",
    "                changed=True\n",
    "        if changed:\n",
    "#             print(a.form_data)\n",
    "            dados.append(a)\n",
    "    except Exception as e:\n",
    "        print(a.number,a.company,e)"
   ]
  },
  {
   "cell_type": "code",
   "execution_count": 8,
   "id": "96f324e7",
   "metadata": {
    "scrolled": true
   },
   "outputs": [
    {
     "data": {
      "text/plain": [
       "(34522, 'CCR-OAC-2023.16641', 'VPA-01', 'CCR-OAC-2023.05013', 'SRC-06L')"
      ]
     },
     "execution_count": 8,
     "metadata": {},
     "output_type": "execute_result"
    }
   ],
   "source": [
    "len(dados),dados[0].number,dados[0].form_data['detalheelemento'],dados[100].number,dados[100].form_data['detalheelemento']"
   ]
  },
  {
   "cell_type": "code",
   "execution_count": null,
   "id": "b2072142",
   "metadata": {},
   "outputs": [],
   "source": [
    "51686"
   ]
  },
  {
   "cell_type": "code",
   "execution_count": 9,
   "id": "8c66bdcf",
   "metadata": {},
   "outputs": [],
   "source": [
    "# from helpers.histories import bulk_update_with_history\n",
    "# user=User.objects.get(username=\"rlcs\")\n",
    "# apontamentos = bulk_update_with_history(dados, Reporting, use_django_bulk=True, batch_size=100, user=user)"
   ]
  },
  {
   "cell_type": "code",
   "execution_count": 1,
   "id": "0ccff58b",
   "metadata": {},
   "outputs": [],
   "source": [
    "# Mês e ano da conculta\n",
    "query_month = 3\n",
    "query_year = 2024"
   ]
  },
  {
   "cell_type": "code",
   "execution_count": 2,
   "id": "1f3058d1",
   "metadata": {},
   "outputs": [
    {
     "data": {
      "text/plain": [
       "<QuerySet []>"
      ]
     },
     "execution_count": 2,
     "metadata": {},
     "output_type": "execute_result"
    }
   ],
   "source": [
    "Reporting.objects.filter(company__name=\"CCR - Rio Sp\", \n",
    "        created_at__month=query_month, \n",
    "        created_at__year=query_year\n",
    "   ).annotate(\n",
    "    num_resources=Count(\n",
    "        'reporting_resources'\n",
    "    )\n",
    ").filter(\n",
    "    num_resources__gt=0\n",
    ")"
   ]
  },
  {
   "cell_type": "code",
   "execution_count": 1,
   "id": "1094e4b9",
   "metadata": {},
   "outputs": [
    {
     "ename": "FieldError",
     "evalue": "Cannot resolve keyword 'usernadme' into field. Choices are: accessrequest, action_responsibles, additional_controls_creator, administrative_informations_responsible, administrativeinformation, approver_usages, auth_error, avatar, birth_date, campaigns_user, canvascard, canvaslist, companies, companies_membership, companies_owned, company_group, company_group_id, configuration, cpf, created_by, created_by_collects, created_by_jobs, created_watchers, creator_material_items, creator_usages, csv_imports, cycles_user, daily_report_equipments, daily_report_external_teams, daily_report_occurrences, daily_report_production_goals, daily_report_resources, daily_report_signaling, daily_report_vehicles, daily_report_workers, date_joined, email, entity, equipment_approver, excel_imports, field_survey_approver, firm_name, first_name, groups, has_accepted_tos, hired_contracts, hired_signature, hired_surveys, hirer_contracts, hirer_signature, hirer_surveys, inspector_firms, integrations, is_active, is_internal, is_staff, is_superuser, is_supervisor, jwt_secret, key_users_company, last_login, last_name, logentry, managers_service_orders, measurement, measurementbulletin, mentioned_in_messages, metadata, modificated_field_survyes, monitoringfrequency, monitoringpoint, monitoringrecord, occurrencetype, operational_cycle_user, password, password_reset_tokens, pdf_imports, phone, plans_responsibles, plans_user, procedure, procedureresource, push_devices, queuedemail, read_receipts, read_reporting_messages, record_panels_editor, record_panels_viewer, records_created, reporting_messages, reportings, resource_approver, responsible, responsible_collects, responsible_cycles, responsible_id, responsible_op_controls, responsible_op_records, responsible_records, responsible_todos, responsible_users, responsibles_service_orders, saml_idp, saml_nameid, service_order_closed_by, service_order_resource_creator, serviceorder, serviceorderaction, shape_files, show_app_map_record_panels, show_list_record_panels, show_web_map_record_panels, so_created_watchers, so_updated_watchers, so_user_watchers, supervisor, supervisor_id, supervisor_users, survey_responsibles_hired_contracts, survey_responsibles_hirer_contracts, todo_actions, updated_watchers, user_company_groups, user_construction_plants, user_construction_progresses, user_constructions, user_contracts, user_created_firms, user_created_resources, user_created_surveys, user_daily_report_exports, user_dailyreports, user_dashboards, user_dashboards_editor, user_dashboards_viewer, user_data_series, user_equipments, user_equipments_manager, user_export_requests, user_field_survey_exports, user_files, user_firms, user_firms_manager, user_generic_files, user_historicalreporting, user_inspector_dailyreports, user_inspector_multipledailyreports, user_inspectorinfirm, user_jobasyncbatchs, user_jobs, user_logs, user_measurement_bulletin_exports, user_measurement_bulletins, user_multiple_daily_report_files, user_multipledailyreports, user_notice_views, user_op_records, user_pending_procedures_exports, user_permissions, user_push, user_push_messages, user_quality_assays, user_quality_control_exports, user_quality_samples, user_record_panels, user_reporting_files, user_reportinginreportingasyncbatchs, user_requests, user_responsible_dailyreports, user_responsible_multipledailyreports, user_responsible_quality_assays, user_responsible_quality_samples, user_responsible_subcompanies, user_show_lists, user_show_mobile_maps, user_show_web_maps, user_steps, user_syncs, user_table_data_series, user_tables, user_tables_editor, user_tables_viewer, user_todos, user_userinfirm, user_watchers, username, usernotification, uuid, vehicle_approver, watcher_user_jobs, workers_approver, workplan, workplan_responsibe",
     "output_type": "error",
     "traceback": [
      "\u001b[0;31m---------------------------------------------------------------------------\u001b[0m",
      "\u001b[0;31mFieldError\u001b[0m                                Traceback (most recent call last)",
      "\u001b[0;32m/tmp/ipykernel_18095/1938391890.py\u001b[0m in \u001b[0;36m<cell line: 1>\u001b[0;34m()\u001b[0m\n\u001b[0;32m----> 1\u001b[0;31m \u001b[0mUser\u001b[0m\u001b[0;34m.\u001b[0m\u001b[0mobjects\u001b[0m\u001b[0;34m.\u001b[0m\u001b[0mget\u001b[0m\u001b[0;34m(\u001b[0m\u001b[0musernadme\u001b[0m\u001b[0;34m=\u001b[0m\u001b[0;34m'samuel.nunes'\u001b[0m\u001b[0;34m)\u001b[0m\u001b[0;34m\u001b[0m\u001b[0;34m\u001b[0m\u001b[0m\n\u001b[0m",
      "\u001b[0;32m~/.cache/pypoetry/virtualenvs/apps-ZFymp6kh-py3.8/lib/python3.8/site-packages/django/db/models/manager.py\u001b[0m in \u001b[0;36mmanager_method\u001b[0;34m(self, *args, **kwargs)\u001b[0m\n\u001b[1;32m     80\u001b[0m         \u001b[0;32mdef\u001b[0m \u001b[0mcreate_method\u001b[0m\u001b[0;34m(\u001b[0m\u001b[0mname\u001b[0m\u001b[0;34m,\u001b[0m \u001b[0mmethod\u001b[0m\u001b[0;34m)\u001b[0m\u001b[0;34m:\u001b[0m\u001b[0;34m\u001b[0m\u001b[0;34m\u001b[0m\u001b[0m\n\u001b[1;32m     81\u001b[0m             \u001b[0;32mdef\u001b[0m \u001b[0mmanager_method\u001b[0m\u001b[0;34m(\u001b[0m\u001b[0mself\u001b[0m\u001b[0;34m,\u001b[0m \u001b[0;34m*\u001b[0m\u001b[0margs\u001b[0m\u001b[0;34m,\u001b[0m \u001b[0;34m**\u001b[0m\u001b[0mkwargs\u001b[0m\u001b[0;34m)\u001b[0m\u001b[0;34m:\u001b[0m\u001b[0;34m\u001b[0m\u001b[0;34m\u001b[0m\u001b[0m\n\u001b[0;32m---> 82\u001b[0;31m                 \u001b[0;32mreturn\u001b[0m \u001b[0mgetattr\u001b[0m\u001b[0;34m(\u001b[0m\u001b[0mself\u001b[0m\u001b[0;34m.\u001b[0m\u001b[0mget_queryset\u001b[0m\u001b[0;34m(\u001b[0m\u001b[0;34m)\u001b[0m\u001b[0;34m,\u001b[0m \u001b[0mname\u001b[0m\u001b[0;34m)\u001b[0m\u001b[0;34m(\u001b[0m\u001b[0;34m*\u001b[0m\u001b[0margs\u001b[0m\u001b[0;34m,\u001b[0m \u001b[0;34m**\u001b[0m\u001b[0mkwargs\u001b[0m\u001b[0;34m)\u001b[0m\u001b[0;34m\u001b[0m\u001b[0;34m\u001b[0m\u001b[0m\n\u001b[0m\u001b[1;32m     83\u001b[0m             \u001b[0mmanager_method\u001b[0m\u001b[0;34m.\u001b[0m\u001b[0m__name__\u001b[0m \u001b[0;34m=\u001b[0m \u001b[0mmethod\u001b[0m\u001b[0;34m.\u001b[0m\u001b[0m__name__\u001b[0m\u001b[0;34m\u001b[0m\u001b[0;34m\u001b[0m\u001b[0m\n\u001b[1;32m     84\u001b[0m             \u001b[0mmanager_method\u001b[0m\u001b[0;34m.\u001b[0m\u001b[0m__doc__\u001b[0m \u001b[0;34m=\u001b[0m \u001b[0mmethod\u001b[0m\u001b[0;34m.\u001b[0m\u001b[0m__doc__\u001b[0m\u001b[0;34m\u001b[0m\u001b[0;34m\u001b[0m\u001b[0m\n",
      "\u001b[0;32m~/.cache/pypoetry/virtualenvs/apps-ZFymp6kh-py3.8/lib/python3.8/site-packages/django/db/models/query.py\u001b[0m in \u001b[0;36mget\u001b[0;34m(self, *args, **kwargs)\u001b[0m\n\u001b[1;32m    397\u001b[0m         \u001b[0mkeyword\u001b[0m \u001b[0marguments\u001b[0m\u001b[0;34m.\u001b[0m\u001b[0;34m\u001b[0m\u001b[0;34m\u001b[0m\u001b[0m\n\u001b[1;32m    398\u001b[0m         \"\"\"\n\u001b[0;32m--> 399\u001b[0;31m         \u001b[0mclone\u001b[0m \u001b[0;34m=\u001b[0m \u001b[0mself\u001b[0m\u001b[0;34m.\u001b[0m\u001b[0mfilter\u001b[0m\u001b[0;34m(\u001b[0m\u001b[0;34m*\u001b[0m\u001b[0margs\u001b[0m\u001b[0;34m,\u001b[0m \u001b[0;34m**\u001b[0m\u001b[0mkwargs\u001b[0m\u001b[0;34m)\u001b[0m\u001b[0;34m\u001b[0m\u001b[0;34m\u001b[0m\u001b[0m\n\u001b[0m\u001b[1;32m    400\u001b[0m         \u001b[0;32mif\u001b[0m \u001b[0mself\u001b[0m\u001b[0;34m.\u001b[0m\u001b[0mquery\u001b[0m\u001b[0;34m.\u001b[0m\u001b[0mcan_filter\u001b[0m\u001b[0;34m(\u001b[0m\u001b[0;34m)\u001b[0m \u001b[0;32mand\u001b[0m \u001b[0;32mnot\u001b[0m \u001b[0mself\u001b[0m\u001b[0;34m.\u001b[0m\u001b[0mquery\u001b[0m\u001b[0;34m.\u001b[0m\u001b[0mdistinct_fields\u001b[0m\u001b[0;34m:\u001b[0m\u001b[0;34m\u001b[0m\u001b[0;34m\u001b[0m\u001b[0m\n\u001b[1;32m    401\u001b[0m             \u001b[0mclone\u001b[0m \u001b[0;34m=\u001b[0m \u001b[0mclone\u001b[0m\u001b[0;34m.\u001b[0m\u001b[0morder_by\u001b[0m\u001b[0;34m(\u001b[0m\u001b[0;34m)\u001b[0m\u001b[0;34m\u001b[0m\u001b[0;34m\u001b[0m\u001b[0m\n",
      "\u001b[0;32m~/.cache/pypoetry/virtualenvs/apps-ZFymp6kh-py3.8/lib/python3.8/site-packages/django/db/models/query.py\u001b[0m in \u001b[0;36mfilter\u001b[0;34m(self, *args, **kwargs)\u001b[0m\n\u001b[1;32m    890\u001b[0m         \u001b[0mset\u001b[0m\u001b[0;34m.\u001b[0m\u001b[0;34m\u001b[0m\u001b[0;34m\u001b[0m\u001b[0m\n\u001b[1;32m    891\u001b[0m         \"\"\"\n\u001b[0;32m--> 892\u001b[0;31m         \u001b[0;32mreturn\u001b[0m \u001b[0mself\u001b[0m\u001b[0;34m.\u001b[0m\u001b[0m_filter_or_exclude\u001b[0m\u001b[0;34m(\u001b[0m\u001b[0;32mFalse\u001b[0m\u001b[0;34m,\u001b[0m \u001b[0;34m*\u001b[0m\u001b[0margs\u001b[0m\u001b[0;34m,\u001b[0m \u001b[0;34m**\u001b[0m\u001b[0mkwargs\u001b[0m\u001b[0;34m)\u001b[0m\u001b[0;34m\u001b[0m\u001b[0;34m\u001b[0m\u001b[0m\n\u001b[0m\u001b[1;32m    893\u001b[0m \u001b[0;34m\u001b[0m\u001b[0m\n\u001b[1;32m    894\u001b[0m     \u001b[0;32mdef\u001b[0m \u001b[0mexclude\u001b[0m\u001b[0;34m(\u001b[0m\u001b[0mself\u001b[0m\u001b[0;34m,\u001b[0m \u001b[0;34m*\u001b[0m\u001b[0margs\u001b[0m\u001b[0;34m,\u001b[0m \u001b[0;34m**\u001b[0m\u001b[0mkwargs\u001b[0m\u001b[0;34m)\u001b[0m\u001b[0;34m:\u001b[0m\u001b[0;34m\u001b[0m\u001b[0;34m\u001b[0m\u001b[0m\n",
      "\u001b[0;32m~/.cache/pypoetry/virtualenvs/apps-ZFymp6kh-py3.8/lib/python3.8/site-packages/django/db/models/query.py\u001b[0m in \u001b[0;36m_filter_or_exclude\u001b[0;34m(self, negate, *args, **kwargs)\u001b[0m\n\u001b[1;32m    908\u001b[0m             \u001b[0mclone\u001b[0m\u001b[0;34m.\u001b[0m\u001b[0mquery\u001b[0m\u001b[0;34m.\u001b[0m\u001b[0madd_q\u001b[0m\u001b[0;34m(\u001b[0m\u001b[0;34m~\u001b[0m\u001b[0mQ\u001b[0m\u001b[0;34m(\u001b[0m\u001b[0;34m*\u001b[0m\u001b[0margs\u001b[0m\u001b[0;34m,\u001b[0m \u001b[0;34m**\u001b[0m\u001b[0mkwargs\u001b[0m\u001b[0;34m)\u001b[0m\u001b[0;34m)\u001b[0m\u001b[0;34m\u001b[0m\u001b[0;34m\u001b[0m\u001b[0m\n\u001b[1;32m    909\u001b[0m         \u001b[0;32melse\u001b[0m\u001b[0;34m:\u001b[0m\u001b[0;34m\u001b[0m\u001b[0;34m\u001b[0m\u001b[0m\n\u001b[0;32m--> 910\u001b[0;31m             \u001b[0mclone\u001b[0m\u001b[0;34m.\u001b[0m\u001b[0mquery\u001b[0m\u001b[0;34m.\u001b[0m\u001b[0madd_q\u001b[0m\u001b[0;34m(\u001b[0m\u001b[0mQ\u001b[0m\u001b[0;34m(\u001b[0m\u001b[0;34m*\u001b[0m\u001b[0margs\u001b[0m\u001b[0;34m,\u001b[0m \u001b[0;34m**\u001b[0m\u001b[0mkwargs\u001b[0m\u001b[0;34m)\u001b[0m\u001b[0;34m)\u001b[0m\u001b[0;34m\u001b[0m\u001b[0;34m\u001b[0m\u001b[0m\n\u001b[0m\u001b[1;32m    911\u001b[0m         \u001b[0;32mreturn\u001b[0m \u001b[0mclone\u001b[0m\u001b[0;34m\u001b[0m\u001b[0;34m\u001b[0m\u001b[0m\n\u001b[1;32m    912\u001b[0m \u001b[0;34m\u001b[0m\u001b[0m\n",
      "\u001b[0;32m~/.cache/pypoetry/virtualenvs/apps-ZFymp6kh-py3.8/lib/python3.8/site-packages/django/db/models/sql/query.py\u001b[0m in \u001b[0;36madd_q\u001b[0;34m(self, q_object)\u001b[0m\n\u001b[1;32m   1311\u001b[0m         \u001b[0;31m# So, demotion is OK.\u001b[0m\u001b[0;34m\u001b[0m\u001b[0;34m\u001b[0m\u001b[0;34m\u001b[0m\u001b[0m\n\u001b[1;32m   1312\u001b[0m         \u001b[0mexisting_inner\u001b[0m \u001b[0;34m=\u001b[0m \u001b[0;34m{\u001b[0m\u001b[0ma\u001b[0m \u001b[0;32mfor\u001b[0m \u001b[0ma\u001b[0m \u001b[0;32min\u001b[0m \u001b[0mself\u001b[0m\u001b[0;34m.\u001b[0m\u001b[0malias_map\u001b[0m \u001b[0;32mif\u001b[0m \u001b[0mself\u001b[0m\u001b[0;34m.\u001b[0m\u001b[0malias_map\u001b[0m\u001b[0;34m[\u001b[0m\u001b[0ma\u001b[0m\u001b[0;34m]\u001b[0m\u001b[0;34m.\u001b[0m\u001b[0mjoin_type\u001b[0m \u001b[0;34m==\u001b[0m \u001b[0mINNER\u001b[0m\u001b[0;34m}\u001b[0m\u001b[0;34m\u001b[0m\u001b[0;34m\u001b[0m\u001b[0m\n\u001b[0;32m-> 1313\u001b[0;31m         \u001b[0mclause\u001b[0m\u001b[0;34m,\u001b[0m \u001b[0m_\u001b[0m \u001b[0;34m=\u001b[0m \u001b[0mself\u001b[0m\u001b[0;34m.\u001b[0m\u001b[0m_add_q\u001b[0m\u001b[0;34m(\u001b[0m\u001b[0mq_object\u001b[0m\u001b[0;34m,\u001b[0m \u001b[0mself\u001b[0m\u001b[0;34m.\u001b[0m\u001b[0mused_aliases\u001b[0m\u001b[0;34m)\u001b[0m\u001b[0;34m\u001b[0m\u001b[0;34m\u001b[0m\u001b[0m\n\u001b[0m\u001b[1;32m   1314\u001b[0m         \u001b[0;32mif\u001b[0m \u001b[0mclause\u001b[0m\u001b[0;34m:\u001b[0m\u001b[0;34m\u001b[0m\u001b[0;34m\u001b[0m\u001b[0m\n\u001b[1;32m   1315\u001b[0m             \u001b[0mself\u001b[0m\u001b[0;34m.\u001b[0m\u001b[0mwhere\u001b[0m\u001b[0;34m.\u001b[0m\u001b[0madd\u001b[0m\u001b[0;34m(\u001b[0m\u001b[0mclause\u001b[0m\u001b[0;34m,\u001b[0m \u001b[0mAND\u001b[0m\u001b[0;34m)\u001b[0m\u001b[0;34m\u001b[0m\u001b[0;34m\u001b[0m\u001b[0m\n",
      "\u001b[0;32m~/.cache/pypoetry/virtualenvs/apps-ZFymp6kh-py3.8/lib/python3.8/site-packages/django/db/models/sql/query.py\u001b[0m in \u001b[0;36m_add_q\u001b[0;34m(self, q_object, used_aliases, branch_negated, current_negated, allow_joins, split_subq, simple_col)\u001b[0m\n\u001b[1;32m   1336\u001b[0m                 \u001b[0mjoinpromoter\u001b[0m\u001b[0;34m.\u001b[0m\u001b[0madd_votes\u001b[0m\u001b[0;34m(\u001b[0m\u001b[0mneeded_inner\u001b[0m\u001b[0;34m)\u001b[0m\u001b[0;34m\u001b[0m\u001b[0;34m\u001b[0m\u001b[0m\n\u001b[1;32m   1337\u001b[0m             \u001b[0;32melse\u001b[0m\u001b[0;34m:\u001b[0m\u001b[0;34m\u001b[0m\u001b[0;34m\u001b[0m\u001b[0m\n\u001b[0;32m-> 1338\u001b[0;31m                 child_clause, needed_inner = self.build_filter(\n\u001b[0m\u001b[1;32m   1339\u001b[0m                     \u001b[0mchild\u001b[0m\u001b[0;34m,\u001b[0m \u001b[0mcan_reuse\u001b[0m\u001b[0;34m=\u001b[0m\u001b[0mused_aliases\u001b[0m\u001b[0;34m,\u001b[0m \u001b[0mbranch_negated\u001b[0m\u001b[0;34m=\u001b[0m\u001b[0mbranch_negated\u001b[0m\u001b[0;34m,\u001b[0m\u001b[0;34m\u001b[0m\u001b[0;34m\u001b[0m\u001b[0m\n\u001b[1;32m   1340\u001b[0m                     \u001b[0mcurrent_negated\u001b[0m\u001b[0;34m=\u001b[0m\u001b[0mcurrent_negated\u001b[0m\u001b[0;34m,\u001b[0m \u001b[0mallow_joins\u001b[0m\u001b[0;34m=\u001b[0m\u001b[0mallow_joins\u001b[0m\u001b[0;34m,\u001b[0m\u001b[0;34m\u001b[0m\u001b[0;34m\u001b[0m\u001b[0m\n",
      "\u001b[0;32m~/.cache/pypoetry/virtualenvs/apps-ZFymp6kh-py3.8/lib/python3.8/site-packages/django/db/models/sql/query.py\u001b[0m in \u001b[0;36mbuild_filter\u001b[0;34m(self, filter_expr, branch_negated, current_negated, can_reuse, allow_joins, split_subq, reuse_with_filtered_relation, simple_col)\u001b[0m\n\u001b[1;32m   1211\u001b[0m         \u001b[0;32mif\u001b[0m \u001b[0;32mnot\u001b[0m \u001b[0marg\u001b[0m\u001b[0;34m:\u001b[0m\u001b[0;34m\u001b[0m\u001b[0;34m\u001b[0m\u001b[0m\n\u001b[1;32m   1212\u001b[0m             \u001b[0;32mraise\u001b[0m \u001b[0mFieldError\u001b[0m\u001b[0;34m(\u001b[0m\u001b[0;34m\"Cannot parse keyword query %r\"\u001b[0m \u001b[0;34m%\u001b[0m \u001b[0marg\u001b[0m\u001b[0;34m)\u001b[0m\u001b[0;34m\u001b[0m\u001b[0;34m\u001b[0m\u001b[0m\n\u001b[0;32m-> 1213\u001b[0;31m         \u001b[0mlookups\u001b[0m\u001b[0;34m,\u001b[0m \u001b[0mparts\u001b[0m\u001b[0;34m,\u001b[0m \u001b[0mreffed_expression\u001b[0m \u001b[0;34m=\u001b[0m \u001b[0mself\u001b[0m\u001b[0;34m.\u001b[0m\u001b[0msolve_lookup_type\u001b[0m\u001b[0;34m(\u001b[0m\u001b[0marg\u001b[0m\u001b[0;34m)\u001b[0m\u001b[0;34m\u001b[0m\u001b[0;34m\u001b[0m\u001b[0m\n\u001b[0m\u001b[1;32m   1214\u001b[0m \u001b[0;34m\u001b[0m\u001b[0m\n\u001b[1;32m   1215\u001b[0m         \u001b[0;32mif\u001b[0m \u001b[0;32mnot\u001b[0m \u001b[0mgetattr\u001b[0m\u001b[0;34m(\u001b[0m\u001b[0mreffed_expression\u001b[0m\u001b[0;34m,\u001b[0m \u001b[0;34m'filterable'\u001b[0m\u001b[0;34m,\u001b[0m \u001b[0;32mTrue\u001b[0m\u001b[0;34m)\u001b[0m\u001b[0;34m:\u001b[0m\u001b[0;34m\u001b[0m\u001b[0;34m\u001b[0m\u001b[0m\n",
      "\u001b[0;32m~/.cache/pypoetry/virtualenvs/apps-ZFymp6kh-py3.8/lib/python3.8/site-packages/django/db/models/sql/query.py\u001b[0m in \u001b[0;36msolve_lookup_type\u001b[0;34m(self, lookup)\u001b[0m\n\u001b[1;32m   1070\u001b[0m             \u001b[0;32mif\u001b[0m \u001b[0mexpression\u001b[0m\u001b[0;34m:\u001b[0m\u001b[0;34m\u001b[0m\u001b[0;34m\u001b[0m\u001b[0m\n\u001b[1;32m   1071\u001b[0m                 \u001b[0;32mreturn\u001b[0m \u001b[0mexpression_lookups\u001b[0m\u001b[0;34m,\u001b[0m \u001b[0;34m(\u001b[0m\u001b[0;34m)\u001b[0m\u001b[0;34m,\u001b[0m \u001b[0mexpression\u001b[0m\u001b[0;34m\u001b[0m\u001b[0;34m\u001b[0m\u001b[0m\n\u001b[0;32m-> 1072\u001b[0;31m         \u001b[0m_\u001b[0m\u001b[0;34m,\u001b[0m \u001b[0mfield\u001b[0m\u001b[0;34m,\u001b[0m \u001b[0m_\u001b[0m\u001b[0;34m,\u001b[0m \u001b[0mlookup_parts\u001b[0m \u001b[0;34m=\u001b[0m \u001b[0mself\u001b[0m\u001b[0;34m.\u001b[0m\u001b[0mnames_to_path\u001b[0m\u001b[0;34m(\u001b[0m\u001b[0mlookup_splitted\u001b[0m\u001b[0;34m,\u001b[0m \u001b[0mself\u001b[0m\u001b[0;34m.\u001b[0m\u001b[0mget_meta\u001b[0m\u001b[0;34m(\u001b[0m\u001b[0;34m)\u001b[0m\u001b[0;34m)\u001b[0m\u001b[0;34m\u001b[0m\u001b[0;34m\u001b[0m\u001b[0m\n\u001b[0m\u001b[1;32m   1073\u001b[0m         \u001b[0mfield_parts\u001b[0m \u001b[0;34m=\u001b[0m \u001b[0mlookup_splitted\u001b[0m\u001b[0;34m[\u001b[0m\u001b[0;36m0\u001b[0m\u001b[0;34m:\u001b[0m\u001b[0mlen\u001b[0m\u001b[0;34m(\u001b[0m\u001b[0mlookup_splitted\u001b[0m\u001b[0;34m)\u001b[0m \u001b[0;34m-\u001b[0m \u001b[0mlen\u001b[0m\u001b[0;34m(\u001b[0m\u001b[0mlookup_parts\u001b[0m\u001b[0;34m)\u001b[0m\u001b[0;34m]\u001b[0m\u001b[0;34m\u001b[0m\u001b[0;34m\u001b[0m\u001b[0m\n\u001b[1;32m   1074\u001b[0m         \u001b[0;32mif\u001b[0m \u001b[0mlen\u001b[0m\u001b[0;34m(\u001b[0m\u001b[0mlookup_parts\u001b[0m\u001b[0;34m)\u001b[0m \u001b[0;34m>\u001b[0m \u001b[0;36m1\u001b[0m \u001b[0;32mand\u001b[0m \u001b[0;32mnot\u001b[0m \u001b[0mfield_parts\u001b[0m\u001b[0;34m:\u001b[0m\u001b[0;34m\u001b[0m\u001b[0;34m\u001b[0m\u001b[0m\n",
      "\u001b[0;32m~/.cache/pypoetry/virtualenvs/apps-ZFymp6kh-py3.8/lib/python3.8/site-packages/django/db/models/sql/query.py\u001b[0m in \u001b[0;36mnames_to_path\u001b[0;34m(self, names, opts, allow_many, fail_on_missing)\u001b[0m\n\u001b[1;32m   1440\u001b[0m                         \u001b[0;34m*\u001b[0m\u001b[0mself\u001b[0m\u001b[0;34m.\u001b[0m\u001b[0m_filtered_relations\u001b[0m\u001b[0;34m,\u001b[0m\u001b[0;34m\u001b[0m\u001b[0;34m\u001b[0m\u001b[0m\n\u001b[1;32m   1441\u001b[0m                     ])\n\u001b[0;32m-> 1442\u001b[0;31m                     raise FieldError(\"Cannot resolve keyword '%s' into field. \"\n\u001b[0m\u001b[1;32m   1443\u001b[0m                                      \"Choices are: %s\" % (name, \", \".join(available)))\n\u001b[1;32m   1444\u001b[0m                 \u001b[0;32mbreak\u001b[0m\u001b[0;34m\u001b[0m\u001b[0;34m\u001b[0m\u001b[0m\n",
      "\u001b[0;31mFieldError\u001b[0m: Cannot resolve keyword 'usernadme' into field. Choices are: accessrequest, action_responsibles, additional_controls_creator, administrative_informations_responsible, administrativeinformation, approver_usages, auth_error, avatar, birth_date, campaigns_user, canvascard, canvaslist, companies, companies_membership, companies_owned, company_group, company_group_id, configuration, cpf, created_by, created_by_collects, created_by_jobs, created_watchers, creator_material_items, creator_usages, csv_imports, cycles_user, daily_report_equipments, daily_report_external_teams, daily_report_occurrences, daily_report_production_goals, daily_report_resources, daily_report_signaling, daily_report_vehicles, daily_report_workers, date_joined, email, entity, equipment_approver, excel_imports, field_survey_approver, firm_name, first_name, groups, has_accepted_tos, hired_contracts, hired_signature, hired_surveys, hirer_contracts, hirer_signature, hirer_surveys, inspector_firms, integrations, is_active, is_internal, is_staff, is_superuser, is_supervisor, jwt_secret, key_users_company, last_login, last_name, logentry, managers_service_orders, measurement, measurementbulletin, mentioned_in_messages, metadata, modificated_field_survyes, monitoringfrequency, monitoringpoint, monitoringrecord, occurrencetype, operational_cycle_user, password, password_reset_tokens, pdf_imports, phone, plans_responsibles, plans_user, procedure, procedureresource, push_devices, queuedemail, read_receipts, read_reporting_messages, record_panels_editor, record_panels_viewer, records_created, reporting_messages, reportings, resource_approver, responsible, responsible_collects, responsible_cycles, responsible_id, responsible_op_controls, responsible_op_records, responsible_records, responsible_todos, responsible_users, responsibles_service_orders, saml_idp, saml_nameid, service_order_closed_by, service_order_resource_creator, serviceorder, serviceorderaction, shape_files, show_app_map_record_panels, show_list_record_panels, show_web_map_record_panels, so_created_watchers, so_updated_watchers, so_user_watchers, supervisor, supervisor_id, supervisor_users, survey_responsibles_hired_contracts, survey_responsibles_hirer_contracts, todo_actions, updated_watchers, user_company_groups, user_construction_plants, user_construction_progresses, user_constructions, user_contracts, user_created_firms, user_created_resources, user_created_surveys, user_daily_report_exports, user_dailyreports, user_dashboards, user_dashboards_editor, user_dashboards_viewer, user_data_series, user_equipments, user_equipments_manager, user_export_requests, user_field_survey_exports, user_files, user_firms, user_firms_manager, user_generic_files, user_historicalreporting, user_inspector_dailyreports, user_inspector_multipledailyreports, user_inspectorinfirm, user_jobasyncbatchs, user_jobs, user_logs, user_measurement_bulletin_exports, user_measurement_bulletins, user_multiple_daily_report_files, user_multipledailyreports, user_notice_views, user_op_records, user_pending_procedures_exports, user_permissions, user_push, user_push_messages, user_quality_assays, user_quality_control_exports, user_quality_samples, user_record_panels, user_reporting_files, user_reportinginreportingasyncbatchs, user_requests, user_responsible_dailyreports, user_responsible_multipledailyreports, user_responsible_quality_assays, user_responsible_quality_samples, user_responsible_subcompanies, user_show_lists, user_show_mobile_maps, user_show_web_maps, user_steps, user_syncs, user_table_data_series, user_tables, user_tables_editor, user_tables_viewer, user_todos, user_userinfirm, user_watchers, username, usernotification, uuid, vehicle_approver, watcher_user_jobs, workers_approver, workplan, workplan_responsibe"
     ]
    }
   ],
   "source": [
    "User.objects.get(usernadme='samuel.nunes')"
   ]
  },
  {
   "cell_type": "code",
   "execution_count": 7,
   "id": "7ce239f5",
   "metadata": {},
   "outputs": [],
   "source": [
    "from datetime import datetime, timedelta"
   ]
  },
  {
   "cell_type": "code",
   "execution_count": 20,
   "id": "0ca4503e",
   "metadata": {
    "scrolled": true
   },
   "outputs": [
    {
     "name": "stdout",
     "output_type": "stream",
     "text": [
      "CCR - SPVias: USER_SYNC_DATA - samuel.nunes - 17-04-2024 17:11 False\n",
      "CCR - SPVias: USER_SYNC_DATA - samuel.nunes - 17-04-2024 17:11 False\n",
      "CCR - SPVias: USER_SYNC_DATA - samuel.nunes - 17-04-2024 17:08 False\n",
      "CCR - SPVias: USER_SYNC_DATA - samuel.nunes - 17-04-2024 16:55 False\n",
      "CCR - SPVias: USER_SYNC_DATA - samuel.nunes - 17-04-2024 16:55 False\n",
      "CCR - SPVias: USER_SYNC_DATA - samuel.nunes - 17-04-2024 16:55 False\n",
      "CCR - SPVias: USER_SYNC_DATA - samuel.nunes - 17-04-2024 16:54 False\n",
      "CCR - SPVias: USER_SYNC_DATA - samuel.nunes - 17-04-2024 16:50 False\n",
      "CCR - SPVias: USER_SYNC_DATA - samuel.nunes - 17-04-2024 16:44 False\n",
      "CCR - SPVias: USER_SYNC_DATA - samuel.nunes - 17-04-2024 16:44 False\n",
      "CCR - SPVias: USER_SYNC_DATA - samuel.nunes - 17-04-2024 16:42 False\n",
      "CCR - SPVias: USER_SYNC_DATA - samuel.nunes - 17-04-2024 16:34 False\n",
      "CCR - SPVias: USER_SYNC_DATA - samuel.nunes - 17-04-2024 16:34 False\n",
      "CCR - SPVias: USER_SYNC_DATA - samuel.nunes - 17-04-2024 16:32 False\n",
      "CCR - SPVias: USER_SYNC_DATA - samuel.nunes - 17-04-2024 16:31 False\n",
      "CCR - SPVias: USER_SYNC_DATA - samuel.nunes - 17-04-2024 16:27 False\n",
      "CCR - SPVias: USER_FULL_SYNC_DATA - samuel.nunes - 17-04-2024 16:27 False\n",
      "CCR - SPVias: USER_SYNC_DATA - samuel.nunes - 17-04-2024 16:27 False\n",
      "CCR - SPVias: USER_SYNC_DATA - samuel.nunes - 17-04-2024 16:26 False\n",
      "CCR - SPVias: USER_SYNC_DATA - samuel.nunes - 17-04-2024 16:26 False\n",
      "CCR - SPVias: USER_SYNC_DATA - samuel.nunes - 17-04-2024 16:26 False\n",
      "CCR - SPVias: USER_SYNC_DATA - samuel.nunes - 17-04-2024 16:24 False\n",
      "CCR - SPVias: USER_SYNC_DATA - samuel.nunes - 17-04-2024 16:24 False\n",
      "CCR - SPVias: USER_SYNC_DATA - samuel.nunes - 17-04-2024 16:24 False\n",
      "CCR - SPVias: USER_SYNC_DATA - samuel.nunes - 17-04-2024 16:20 False\n",
      "CCR - SPVias: USER_SYNC_DATA - samuel.nunes - 17-04-2024 16:19 False\n",
      "CCR - SPVias: USER_SYNC_DATA - samuel.nunes - 17-04-2024 16:19 False\n",
      "CCR - SPVias: USER_SYNC_DATA - samuel.nunes - 17-04-2024 16:19 False\n",
      "CCR - SPVias: USER_SYNC_DATA - samuel.nunes - 17-04-2024 16:19 False\n",
      "CCR - SPVias: USER_SYNC_DATA - samuel.nunes - 17-04-2024 16:19 False\n",
      "CCR - SPVias: USER_SYNC_DATA - samuel.nunes - 17-04-2024 16:19 False\n",
      "CCR - SPVias: USER_SYNC_DATA - samuel.nunes - 17-04-2024 16:19 False\n",
      "CCR - SPVias: USER_SYNC_DATA - samuel.nunes - 17-04-2024 16:17 False\n",
      "CCR - SPVias: USER_SYNC_DATA - samuel.nunes - 17-04-2024 16:17 False\n",
      "CCR - SPVias: USER_SYNC_DATA - samuel.nunes - 17-04-2024 16:17 False\n",
      "CCR - SPVias: USER_SYNC_DATA - samuel.nunes - 17-04-2024 16:16 False\n",
      "CCR - SPVias: USER_SYNC_DATA - samuel.nunes - 17-04-2024 12:39 True\n",
      "CCR - SPVias: FULL_SYNC_START - samuel.nunes - 17-04-2024 07:11 True\n",
      "CCR - SPVias: USER_SYNC_DATA - samuel.nunes - 17-04-2024 07:04 False\n",
      "CCR - SPVias: USER_SYNC_DATA - samuel.nunes - 16-04-2024 17:40 False\n",
      "CCR - SPVias: USER_SYNC_DATA - samuel.nunes - 16-04-2024 17:10 False\n",
      "CCR - SPVias: USER_SYNC_DATA - samuel.nunes - 16-04-2024 17:08 False\n",
      "CCR - SPVias: USER_SYNC_DATA - samuel.nunes - 16-04-2024 17:05 False\n",
      "CCR - SPVias: USER_SYNC_DATA - samuel.nunes - 16-04-2024 17:03 False\n",
      "CCR - SPVias: USER_SYNC_DATA - samuel.nunes - 16-04-2024 17:02 False\n",
      "CCR - SPVias: USER_SYNC_DATA - samuel.nunes - 16-04-2024 17:02 False\n",
      "CCR - SPVias: USER_SYNC_DATA - samuel.nunes - 16-04-2024 17:01 False\n",
      "CCR - SPVias: USER_SYNC_DATA - samuel.nunes - 16-04-2024 08:22 False\n",
      "CCR - SPVias: USER_SYNC_DATA - samuel.nunes - 15-04-2024 08:11 False\n",
      "CCR - SPVias: USER_SYNC_DATA - samuel.nunes - 15-04-2024 08:10 False\n",
      "CCR - SPVias: USER_SYNC_DATA - samuel.nunes - 15-04-2024 08:10 False\n",
      "CCR - SPVias: USER_SYNC_DATA - samuel.nunes - 15-04-2024 08:10 False\n",
      "CCR - SPVias: USER_SYNC_DATA - samuel.nunes - 15-04-2024 08:10 False\n",
      "CCR - SPVias: USER_SYNC_DATA - samuel.nunes - 15-04-2024 08:09 True\n",
      "CCR - SPVias: USER_SYNC_DATA - samuel.nunes - 12-04-2024 14:48 True\n",
      "CCR - SPVias: USER_SYNC_DATA - samuel.nunes - 12-04-2024 09:42 True\n",
      "CCR - SPVias: USER_SYNC_DATA - samuel.nunes - 11-04-2024 16:16 True\n",
      "CCR - SPVias: USER_SYNC_DATA - samuel.nunes - 10-04-2024 16:42 True\n",
      "CCR - SPVias: USER_SYNC_DATA - samuel.nunes - 09-04-2024 16:37 True\n",
      "CCR - SPVias: USER_SYNC_DATA - samuel.nunes - 09-04-2024 16:37 True\n",
      "CCR - SPVias: USER_SYNC_DATA - samuel.nunes - 09-04-2024 13:44 True\n",
      "CCR - SPVias: USER_SYNC_DATA - samuel.nunes - 09-04-2024 13:41 True\n",
      "CCR - SPVias: USER_SYNC_DATA - samuel.nunes - 09-04-2024 10:13 True\n",
      "CCR - SPVias: USER_SYNC_DATA - samuel.nunes - 08-04-2024 10:13 True\n",
      "CCR - SPVias: USER_SYNC_DATA - samuel.nunes - 05-04-2024 16:06 True\n",
      "CCR - SPVias: USER_SYNC_DATA - samuel.nunes - 05-04-2024 15:31 True\n",
      "CCR - SPVias: USER_SYNC_DATA - samuel.nunes - 05-04-2024 07:45 True\n",
      "CCR - SPVias: USER_SYNC_DATA - samuel.nunes - 05-04-2024 07:45 True\n",
      "CCR - SPVias: USER_SYNC_DATA - samuel.nunes - 04-04-2024 16:54 True\n",
      "CCR - SPVias: USER_SYNC_DATA - samuel.nunes - 04-04-2024 16:05 True\n",
      "CCR - SPVias: USER_SYNC_DATA - samuel.nunes - 04-04-2024 16:04 True\n",
      "CCR - SPVias: USER_SYNC_DATA - samuel.nunes - 03-04-2024 16:42 True\n",
      "CCR - SPVias: USER_SYNC_DATA - samuel.nunes - 03-04-2024 07:48 True\n",
      "CCR - SPVias: USER_SYNC_DATA - samuel.nunes - 02-04-2024 07:20 True\n",
      "CCR - SPVias: USER_SYNC_DATA - samuel.nunes - 01-04-2024 17:52 True\n",
      "CCR - SPVias: USER_SYNC_DATA - samuel.nunes - 01-04-2024 17:16 True\n",
      "CCR - SPVias: USER_SYNC_DATA - samuel.nunes - 01-04-2024 17:15 True\n",
      "CCR - SPVias: USER_SYNC_DATA - samuel.nunes - 01-04-2024 07:17 True\n",
      "CCR - SPVias: USER_SYNC_DATA - samuel.nunes - 28-03-2024 07:22 True\n",
      "CCR - SPVias: USER_SYNC_DATA - samuel.nunes - 28-03-2024 07:20 True\n",
      "CCR - SPVias: USER_SYNC_DATA - samuel.nunes - 27-03-2024 12:49 True\n",
      "CCR - SPVias: USER_SYNC_DATA - samuel.nunes - 26-03-2024 14:50 True\n",
      "CCR - SPVias: USER_SYNC_DATA - samuel.nunes - 26-03-2024 14:43 True\n",
      "CCR - SPVias: USER_SYNC_DATA - samuel.nunes - 22-03-2024 07:29 True\n",
      "CCR - SPVias: USER_SYNC_DATA - samuel.nunes - 22-03-2024 07:22 True\n",
      "CCR - SPVias: USER_SYNC_DATA - samuel.nunes - 22-03-2024 07:05 True\n",
      "CCR - SPVias: USER_SYNC_DATA - samuel.nunes - 21-03-2024 11:34 True\n",
      "CCR - SPVias: USER_SYNC_DATA - samuel.nunes - 21-03-2024 11:33 True\n",
      "CCR - SPVias: USER_SYNC_DATA - samuel.nunes - 21-03-2024 11:31 True\n",
      "CCR - SPVias: USER_SYNC_DATA - samuel.nunes - 21-03-2024 11:30 True\n",
      "CCR - SPVias: USER_SYNC_DATA - samuel.nunes - 21-03-2024 11:28 True\n",
      "CCR - SPVias: USER_SYNC_DATA - samuel.nunes - 21-03-2024 11:22 True\n",
      "CCR - SPVias: USER_SYNC_DATA - samuel.nunes - 21-03-2024 11:18 True\n",
      "CCR - SPVias: USER_SYNC_DATA - samuel.nunes - 21-03-2024 09:48 True\n",
      "CCR - SPVias: USER_SYNC_DATA - samuel.nunes - 20-03-2024 15:39 True\n",
      "CCR - SPVias: USER_SYNC_DATA - samuel.nunes - 20-03-2024 13:43 True\n",
      "CCR - SPVias: USER_SYNC_DATA - samuel.nunes - 20-03-2024 12:01 True\n",
      "CCR - SPVias: USER_SYNC_DATA - samuel.nunes - 19-03-2024 15:46 True\n",
      "CCR - SPVias: USER_SYNC_DATA - samuel.nunes - 19-03-2024 13:08 True\n",
      "CCR - SPVias: USER_SYNC_DATA - samuel.nunes - 19-03-2024 13:00 True\n",
      "CCR - SPVias: USER_SYNC_DATA - samuel.nunes - 18-03-2024 15:41 True\n",
      "CCR - SPVias: USER_SYNC_DATA - samuel.nunes - 18-03-2024 11:55 True\n",
      "CCR - SPVias: FULL_SYNC_START - samuel.nunes - 18-03-2024 11:48 True\n",
      "CCR - SPVias: FULL_SYNC_START - samuel.nunes - 18-03-2024 11:48 True\n",
      "CCR - SPVias: USER_SYNC_DATA - samuel.nunes - 18-03-2024 08:14 True\n",
      "CCR - SPVias: USER_SYNC_DATA - samuel.nunes - 15-03-2024 14:40 True\n",
      "CCR - SPVias: USER_SYNC_DATA - samuel.nunes - 15-03-2024 13:05 True\n",
      "CCR - SPVias: USER_SYNC_DATA - samuel.nunes - 15-03-2024 12:09 True\n",
      "CCR - SPVias: USER_SYNC_DATA - samuel.nunes - 14-03-2024 15:38 True\n",
      "CCR - SPVias: USER_SYNC_DATA - samuel.nunes - 14-03-2024 13:03 True\n",
      "CCR - SPVias: USER_SYNC_DATA - samuel.nunes - 14-03-2024 13:03 True\n",
      "CCR - SPVias: USER_SYNC_DATA - samuel.nunes - 14-03-2024 12:01 True\n",
      "CCR - SPVias: USER_SYNC_DATA - samuel.nunes - 13-03-2024 12:49 True\n",
      "CCR - SPVias: USER_SYNC_DATA - samuel.nunes - 12-03-2024 16:25 True\n",
      "CCR - SPVias: USER_SYNC_DATA - samuel.nunes - 12-03-2024 16:17 True\n",
      "CCR - SPVias: USER_SYNC_DATA - samuel.nunes - 12-03-2024 07:09 True\n",
      "CCR - SPVias: USER_SYNC_DATA - samuel.nunes - 11-03-2024 15:21 True\n",
      "CCR - SPVias: USER_SYNC_DATA - samuel.nunes - 11-03-2024 15:13 True\n",
      "CCR - SPVias: USER_SYNC_DATA - samuel.nunes - 11-03-2024 08:08 True\n",
      "CCR - SPVias: USER_SYNC_DATA - samuel.nunes - 11-03-2024 08:08 True\n",
      "CCR - SPVias: USER_SYNC_DATA - samuel.nunes - 11-03-2024 08:02 True\n",
      "CCR - SPVias: USER_SYNC_DATA - samuel.nunes - 07-03-2024 16:18 True\n"
     ]
    },
    {
     "name": "stdout",
     "output_type": "stream",
     "text": [
      "CCR - SPVias: USER_SYNC_DATA - samuel.nunes - 07-03-2024 12:04 True\n",
      "CCR - SPVias: USER_SYNC_DATA - samuel.nunes - 07-03-2024 12:01 True\n",
      "CCR - SPVias: USER_SYNC_DATA - samuel.nunes - 07-03-2024 11:54 True\n",
      "CCR - SPVias: USER_SYNC_DATA - samuel.nunes - 07-03-2024 11:50 True\n",
      "CCR - SPVias: USER_SYNC_DATA - samuel.nunes - 06-03-2024 16:22 True\n",
      "CCR - SPVias: USER_SYNC_DATA - samuel.nunes - 06-03-2024 11:58 True\n",
      "CCR - SPVias: USER_SYNC_DATA - samuel.nunes - 06-03-2024 08:05 True\n",
      "CCR - SPVias: USER_SYNC_DATA - samuel.nunes - 06-03-2024 07:25 True\n",
      "CCR - SPVias: USER_SYNC_DATA - samuel.nunes - 05-03-2024 15:44 True\n",
      "CCR - SPVias: USER_SYNC_DATA - samuel.nunes - 05-03-2024 12:11 True\n",
      "CCR - SPVias: USER_SYNC_DATA - samuel.nunes - 05-03-2024 12:08 True\n",
      "CCR - SPVias: USER_SYNC_DATA - samuel.nunes - 05-03-2024 07:34 True\n",
      "CCR - SPVias: USER_SYNC_DATA - samuel.nunes - 05-03-2024 07:34 True\n",
      "CCR - SPVias: USER_SYNC_DATA - samuel.nunes - 04-03-2024 14:06 True\n",
      "CCR - SPVias: USER_SYNC_DATA - samuel.nunes - 04-03-2024 10:39 True\n",
      "CCR - SPVias: USER_SYNC_DATA - samuel.nunes - 29-02-2024 16:09 True\n",
      "CCR - SPVias: USER_SYNC_DATA - samuel.nunes - 29-02-2024 11:37 True\n",
      "CCR - SPVias: USER_SYNC_DATA - samuel.nunes - 29-02-2024 11:31 True\n",
      "CCR - SPVias: USER_SYNC_DATA - samuel.nunes - 28-02-2024 14:39 True\n",
      "CCR - SPVias: USER_SYNC_DATA - samuel.nunes - 28-02-2024 08:35 True\n",
      "CCR - SPVias: USER_SYNC_DATA - samuel.nunes - 28-02-2024 07:46 True\n",
      "CCR - SPVias: USER_SYNC_DATA - samuel.nunes - 28-02-2024 07:34 True\n",
      "CCR - SPVias: USER_SYNC_DATA - samuel.nunes - 27-02-2024 15:18 True\n",
      "CCR - SPVias: USER_SYNC_DATA - samuel.nunes - 27-02-2024 12:40 True\n",
      "CCR - SPVias: USER_SYNC_DATA - samuel.nunes - 27-02-2024 11:59 True\n",
      "CCR - SPVias: USER_SYNC_DATA - samuel.nunes - 26-02-2024 10:53 True\n",
      "CCR - SPVias: USER_SYNC_DATA - samuel.nunes - 23-02-2024 14:17 True\n",
      "CCR - SPVias: USER_SYNC_DATA - samuel.nunes - 23-02-2024 11:29 True\n",
      "CCR - SPVias: USER_SYNC_DATA - samuel.nunes - 22-02-2024 12:01 True\n",
      "CCR - SPVias: USER_SYNC_DATA - samuel.nunes - 22-02-2024 08:36 True\n",
      "CCR - SPVias: USER_SYNC_DATA - samuel.nunes - 21-02-2024 14:51 True\n",
      "CCR - SPVias: USER_SYNC_DATA - samuel.nunes - 21-02-2024 14:16 True\n"
     ]
    }
   ],
   "source": [
    "for a in User.objects.get(username='samuel.nunes').user_syncs.filter().order_by('-created_at'):\n",
    "    time = a.created_at- timedelta(hours=3)\n",
    "    print(f'{a.company.name}: {a.kind} - {a.created_by.username} - {time.strftime(\"%d-%m-%Y %H:%M\")} {a.done}')"
   ]
  },
  {
   "cell_type": "code",
   "execution_count": 13,
   "id": "b48d142e",
   "metadata": {},
   "outputs": [
    {
     "name": "stderr",
     "output_type": "stream",
     "text": [
      "/home/luan/.cache/pypoetry/virtualenvs/apps-ZFymp6kh-py3.8/lib/python3.8/site-packages/django/db/models/fields/__init__.py:1424: RuntimeWarning: DateTimeField Reporting.updated_at received a naive datetime (2024-04-10 00:00:00) while time zone support is active.\n",
      "  warnings.warn(\"DateTimeField %s received a naive datetime (%s)\"\n"
     ]
    },
    {
     "data": {
      "text/plain": [
       "0"
      ]
     },
     "execution_count": 13,
     "metadata": {},
     "output_type": "execute_result"
    }
   ],
   "source": [
    "Reporting.objects.filter(created_by__username='samuel.nune',updated_at__gte='2024-04-10').count()"
   ]
  },
  {
   "cell_type": "code",
   "execution_count": 31,
   "id": "f0d86926",
   "metadata": {},
   "outputs": [
    {
     "name": "stderr",
     "output_type": "stream",
     "text": [
      "/home/luan/.cache/pypoetry/virtualenvs/apps-ZFymp6kh-py3.8/lib/python3.8/site-packages/django/db/models/fields/__init__.py:1424: RuntimeWarning: DateTimeField ActionLog.created_at received a naive datetime (2024-04-15 00:00:00) while time zone support is active.\n",
      "  warnings.warn(\"DateTimeField %s received a naive datetime (%s)\"\n"
     ]
    },
    {
     "data": {
      "text/plain": [
       "<QuerySet [<ActionLog: [CCR]: Login - Samuel Nunes de Oliveira - 15/04/2024, 11:09:53>, <ActionLog: [CCR - SPVias]: Create - Samuel Nunes de Oliveira - 15/04/2024, 11:09:54>, <ActionLog: [CCR]: Login - Samuel Nunes de Oliveira - 15/04/2024, 11:10:06>, <ActionLog: [CCR - SPVias]: Update - Samuel Nunes de Oliveira - 15/04/2024, 11:10:06>, <ActionLog: [CCR - SPVias]: Update - Samuel Nunes de Oliveira - 15/04/2024, 11:10:06>, <ActionLog: [CCR - SPVias]: Update - Samuel Nunes de Oliveira - 15/04/2024, 11:10:06>, <ActionLog: [CCR - SPVias]: Update - Samuel Nunes de Oliveira - 15/04/2024, 11:10:06>, <ActionLog: [CCR]: Login - Samuel Nunes de Oliveira - 15/04/2024, 11:10:15>, <ActionLog: [CCR - SPVias]: Create - Samuel Nunes de Oliveira - 15/04/2024, 11:10:16>, <ActionLog: [CCR]: Login - Samuel Nunes de Oliveira - 15/04/2024, 11:10:26>, <ActionLog: [CCR - SPVias]: Create - Samuel Nunes de Oliveira - 15/04/2024, 11:10:27>, <ActionLog: [CCR]: Login - Samuel Nunes de Oliveira - 15/04/2024, 11:10:33>, <ActionLog: [CCR - SPVias]: Create - Samuel Nunes de Oliveira - 15/04/2024, 11:10:34>, <ActionLog: [CCR]: Login - Samuel Nunes de Oliveira - 15/04/2024, 11:10:55>, <ActionLog: [CCR - SPVias]: Create - Samuel Nunes de Oliveira - 15/04/2024, 11:10:55>, <ActionLog: [CCR]: Login - Samuel Nunes de Oliveira - 15/04/2024, 11:11:19>, <ActionLog: [CCR - SPVias]: Create - Samuel Nunes de Oliveira - 15/04/2024, 11:11:20>, <ActionLog: [CCR]: Login - Samuel Nunes de Oliveira - 16/04/2024, 11:22:34>, <ActionLog: [CCR - SPVias]: Create - Samuel Nunes de Oliveira - 16/04/2024, 11:22:36>, <ActionLog: [CCR - SPVias]: Create - Samuel Nunes de Oliveira - 16/04/2024, 20:03:17>, '...(remaining elements truncated)...']>"
      ]
     },
     "execution_count": 31,
     "metadata": {},
     "output_type": "execute_result"
    }
   ],
   "source": [
    "for a in ActionLog.objects.filter(user__username='samuel.nunes',created_at__gte='2024-04-15'):\n",
    "    print()"
   ]
  },
  {
   "cell_type": "code",
   "execution_count": 18,
   "id": "c5417f78",
   "metadata": {
    "scrolled": true
   },
   "outputs": [
    {
     "name": "stdout",
     "output_type": "stream",
     "text": [
      "CCR - SPVias: USER_SYNC_DATA - willians.roberto - 17-04-2024 16:38 False\n",
      "CCR - SPVias: USER_SYNC_DATA - willians.roberto - 17-04-2024 16:35 True\n",
      "CCR - SPVias: USER_SYNC_DATA - willians.roberto - 17-04-2024 09:35 True\n"
     ]
    }
   ],
   "source": [
    "for a in User.objects.get(username='willians.roberto').user_syncs.filter(created_at__gte='2024-04-15').order_by('-created_at'):\n",
    "    time = a.created_at- timedelta(hours=3)\n",
    "    print(f'{a.company.name}: {a.kind} - {a.created_by.username} - {time.strftime(\"%d-%m-%Y %H:%M\")} {a.done}')"
   ]
  },
  {
   "cell_type": "code",
   "execution_count": 14,
   "id": "c4be6fe0",
   "metadata": {},
   "outputs": [
    {
     "data": {
      "text/plain": [
       "<QuerySet [<Reporting: [CCR - SPVias] CCR-OAC-2024.02738 - 2024-04-17 19:38:27.238000+00:00>]>"
      ]
     },
     "execution_count": 14,
     "metadata": {},
     "output_type": "execute_result"
    }
   ],
   "source": [
    "Reporting.objects.filter(created_by__username='willians.roberto',updated_at__gte='2024-04-10')"
   ]
  },
  {
   "cell_type": "code",
   "execution_count": 5,
   "id": "33239b75",
   "metadata": {},
   "outputs": [],
   "source": [
    "from helpers.signals import DisableSignals\n",
    "from tqdm.notebook import tqdm"
   ]
  },
  {
   "cell_type": "code",
   "execution_count": 17,
   "id": "5f2f045b",
   "metadata": {},
   "outputs": [],
   "source": [
    "reps=Reporting.objects.filter(\n",
    "    occurrence_type__name__in=['Drenagem Profunda Elemento',\n",
    "                               'Monitoração Drenagem Profunda Elemento']\n",
    ").exclude(form_data__has_key='id_ccr_antt').only('form_data')"
   ]
  },
  {
   "cell_type": "code",
   "execution_count": 18,
   "id": "b84af0ef",
   "metadata": {
    "scrolled": true
   },
   "outputs": [
    {
     "data": {
      "text/plain": [
       "32825"
      ]
     },
     "execution_count": 18,
     "metadata": {},
     "output_type": "execute_result"
    }
   ],
   "source": [
    "reps.count()"
   ]
  },
  {
   "cell_type": "code",
   "execution_count": 19,
   "id": "5d7e6bef",
   "metadata": {},
   "outputs": [
    {
     "data": {
      "application/vnd.jupyter.widget-view+json": {
       "model_id": "2d2b186f3dcd41328d07fc9cfce7f271",
       "version_major": 2,
       "version_minor": 0
      },
      "text/plain": [
       "  0%|          | 0/33 [00:00<?, ?it/s]"
      ]
     },
     "metadata": {},
     "output_type": "display_data"
    },
    {
     "data": {
      "application/vnd.jupyter.widget-view+json": {
       "model_id": "b6b9ffb776ca4d5594f1516a5ea22c94",
       "version_major": 2,
       "version_minor": 0
      },
      "text/plain": [
       "  0%|          | 0/1000 [00:00<?, ?it/s]"
      ]
     },
     "metadata": {},
     "output_type": "display_data"
    },
    {
     "data": {
      "application/vnd.jupyter.widget-view+json": {
       "model_id": "93d9f6291ce1404fb58fbff9b7e37214",
       "version_major": 2,
       "version_minor": 0
      },
      "text/plain": [
       "  0%|          | 0/1000 [00:00<?, ?it/s]"
      ]
     },
     "metadata": {},
     "output_type": "display_data"
    },
    {
     "data": {
      "application/vnd.jupyter.widget-view+json": {
       "model_id": "fa23808d26994262ac65dff3405fbf1e",
       "version_major": 2,
       "version_minor": 0
      },
      "text/plain": [
       "  0%|          | 0/1000 [00:00<?, ?it/s]"
      ]
     },
     "metadata": {},
     "output_type": "display_data"
    },
    {
     "data": {
      "application/vnd.jupyter.widget-view+json": {
       "model_id": "713d561c9ed24c3eb8df84bb4e511b62",
       "version_major": 2,
       "version_minor": 0
      },
      "text/plain": [
       "  0%|          | 0/1000 [00:00<?, ?it/s]"
      ]
     },
     "metadata": {},
     "output_type": "display_data"
    },
    {
     "data": {
      "application/vnd.jupyter.widget-view+json": {
       "model_id": "8137163202c34918a2d630cb70c7f63c",
       "version_major": 2,
       "version_minor": 0
      },
      "text/plain": [
       "  0%|          | 0/1000 [00:00<?, ?it/s]"
      ]
     },
     "metadata": {},
     "output_type": "display_data"
    },
    {
     "data": {
      "application/vnd.jupyter.widget-view+json": {
       "model_id": "2c9540fa380e436496dd530122d29642",
       "version_major": 2,
       "version_minor": 0
      },
      "text/plain": [
       "  0%|          | 0/1000 [00:00<?, ?it/s]"
      ]
     },
     "metadata": {},
     "output_type": "display_data"
    },
    {
     "data": {
      "application/vnd.jupyter.widget-view+json": {
       "model_id": "3b1bcb9fb4674ccf99fc525c41fbfe84",
       "version_major": 2,
       "version_minor": 0
      },
      "text/plain": [
       "  0%|          | 0/1000 [00:00<?, ?it/s]"
      ]
     },
     "metadata": {},
     "output_type": "display_data"
    },
    {
     "data": {
      "application/vnd.jupyter.widget-view+json": {
       "model_id": "1bed582ccae542b2ad6d0e4b0722b552",
       "version_major": 2,
       "version_minor": 0
      },
      "text/plain": [
       "  0%|          | 0/1000 [00:00<?, ?it/s]"
      ]
     },
     "metadata": {},
     "output_type": "display_data"
    },
    {
     "data": {
      "application/vnd.jupyter.widget-view+json": {
       "model_id": "007a2cd09cbc4dc0b439b58f5da8dbff",
       "version_major": 2,
       "version_minor": 0
      },
      "text/plain": [
       "  0%|          | 0/1000 [00:00<?, ?it/s]"
      ]
     },
     "metadata": {},
     "output_type": "display_data"
    },
    {
     "data": {
      "application/vnd.jupyter.widget-view+json": {
       "model_id": "a11a3a0d473c457b95c4c737af9e0382",
       "version_major": 2,
       "version_minor": 0
      },
      "text/plain": [
       "  0%|          | 0/1000 [00:00<?, ?it/s]"
      ]
     },
     "metadata": {},
     "output_type": "display_data"
    },
    {
     "data": {
      "application/vnd.jupyter.widget-view+json": {
       "model_id": "20fbc648d4c7493091c9e38e986f5d3e",
       "version_major": 2,
       "version_minor": 0
      },
      "text/plain": [
       "  0%|          | 0/1000 [00:00<?, ?it/s]"
      ]
     },
     "metadata": {},
     "output_type": "display_data"
    },
    {
     "data": {
      "application/vnd.jupyter.widget-view+json": {
       "model_id": "7fd5990ab2d34736802c7c7ef1fdbc80",
       "version_major": 2,
       "version_minor": 0
      },
      "text/plain": [
       "  0%|          | 0/1000 [00:00<?, ?it/s]"
      ]
     },
     "metadata": {},
     "output_type": "display_data"
    },
    {
     "data": {
      "application/vnd.jupyter.widget-view+json": {
       "model_id": "02144bf362984a1f878f112e76c9ca2c",
       "version_major": 2,
       "version_minor": 0
      },
      "text/plain": [
       "  0%|          | 0/1000 [00:00<?, ?it/s]"
      ]
     },
     "metadata": {},
     "output_type": "display_data"
    },
    {
     "data": {
      "application/vnd.jupyter.widget-view+json": {
       "model_id": "e9df20b009a143bcb373fd2770d757c1",
       "version_major": 2,
       "version_minor": 0
      },
      "text/plain": [
       "  0%|          | 0/1000 [00:00<?, ?it/s]"
      ]
     },
     "metadata": {},
     "output_type": "display_data"
    },
    {
     "data": {
      "application/vnd.jupyter.widget-view+json": {
       "model_id": "e0e8cb4c992f4a71a86a4dfa58297261",
       "version_major": 2,
       "version_minor": 0
      },
      "text/plain": [
       "  0%|          | 0/1000 [00:00<?, ?it/s]"
      ]
     },
     "metadata": {},
     "output_type": "display_data"
    },
    {
     "data": {
      "application/vnd.jupyter.widget-view+json": {
       "model_id": "f7b3eebbe8d74cafa663f0df6990e02e",
       "version_major": 2,
       "version_minor": 0
      },
      "text/plain": [
       "  0%|          | 0/1000 [00:00<?, ?it/s]"
      ]
     },
     "metadata": {},
     "output_type": "display_data"
    },
    {
     "data": {
      "application/vnd.jupyter.widget-view+json": {
       "model_id": "a801528bb5744302b7f4382b1875737e",
       "version_major": 2,
       "version_minor": 0
      },
      "text/plain": [
       "  0%|          | 0/1000 [00:00<?, ?it/s]"
      ]
     },
     "metadata": {},
     "output_type": "display_data"
    },
    {
     "data": {
      "application/vnd.jupyter.widget-view+json": {
       "model_id": "3a77b741d4fe4e47b6db6d8868dd313f",
       "version_major": 2,
       "version_minor": 0
      },
      "text/plain": [
       "  0%|          | 0/1000 [00:00<?, ?it/s]"
      ]
     },
     "metadata": {},
     "output_type": "display_data"
    },
    {
     "data": {
      "application/vnd.jupyter.widget-view+json": {
       "model_id": "dacb8366e9544fde95fa5f4279b3306c",
       "version_major": 2,
       "version_minor": 0
      },
      "text/plain": [
       "  0%|          | 0/1000 [00:00<?, ?it/s]"
      ]
     },
     "metadata": {},
     "output_type": "display_data"
    },
    {
     "data": {
      "application/vnd.jupyter.widget-view+json": {
       "model_id": "ca4e9241e53f429292bc1e662afd3fc6",
       "version_major": 2,
       "version_minor": 0
      },
      "text/plain": [
       "  0%|          | 0/1000 [00:00<?, ?it/s]"
      ]
     },
     "metadata": {},
     "output_type": "display_data"
    },
    {
     "data": {
      "application/vnd.jupyter.widget-view+json": {
       "model_id": "1f3740ea43bf402d8bd71b049ab7fab6",
       "version_major": 2,
       "version_minor": 0
      },
      "text/plain": [
       "  0%|          | 0/1000 [00:00<?, ?it/s]"
      ]
     },
     "metadata": {},
     "output_type": "display_data"
    },
    {
     "data": {
      "application/vnd.jupyter.widget-view+json": {
       "model_id": "8bfc76c8911d4f168f8e9ad68c9934b4",
       "version_major": 2,
       "version_minor": 0
      },
      "text/plain": [
       "  0%|          | 0/1000 [00:00<?, ?it/s]"
      ]
     },
     "metadata": {},
     "output_type": "display_data"
    },
    {
     "data": {
      "application/vnd.jupyter.widget-view+json": {
       "model_id": "bcf2d7e79ae74d088109278902a8bae8",
       "version_major": 2,
       "version_minor": 0
      },
      "text/plain": [
       "  0%|          | 0/1000 [00:00<?, ?it/s]"
      ]
     },
     "metadata": {},
     "output_type": "display_data"
    },
    {
     "data": {
      "application/vnd.jupyter.widget-view+json": {
       "model_id": "6aa5dac9a3924ff7a0e37f786acfded3",
       "version_major": 2,
       "version_minor": 0
      },
      "text/plain": [
       "  0%|          | 0/1000 [00:00<?, ?it/s]"
      ]
     },
     "metadata": {},
     "output_type": "display_data"
    },
    {
     "data": {
      "application/vnd.jupyter.widget-view+json": {
       "model_id": "2b9961ce837c4cc2a3aabdd717e5de27",
       "version_major": 2,
       "version_minor": 0
      },
      "text/plain": [
       "  0%|          | 0/1000 [00:00<?, ?it/s]"
      ]
     },
     "metadata": {},
     "output_type": "display_data"
    },
    {
     "data": {
      "application/vnd.jupyter.widget-view+json": {
       "model_id": "d1d5ce03c83f4d84a4cdde10e240d0d2",
       "version_major": 2,
       "version_minor": 0
      },
      "text/plain": [
       "  0%|          | 0/1000 [00:00<?, ?it/s]"
      ]
     },
     "metadata": {},
     "output_type": "display_data"
    },
    {
     "data": {
      "application/vnd.jupyter.widget-view+json": {
       "model_id": "68a3e4b2628f4e02be5aa31d0c8d140b",
       "version_major": 2,
       "version_minor": 0
      },
      "text/plain": [
       "  0%|          | 0/1000 [00:00<?, ?it/s]"
      ]
     },
     "metadata": {},
     "output_type": "display_data"
    },
    {
     "data": {
      "application/vnd.jupyter.widget-view+json": {
       "model_id": "c0ddad04c75d4fd5b79131c49fbec9cd",
       "version_major": 2,
       "version_minor": 0
      },
      "text/plain": [
       "  0%|          | 0/1000 [00:00<?, ?it/s]"
      ]
     },
     "metadata": {},
     "output_type": "display_data"
    },
    {
     "data": {
      "application/vnd.jupyter.widget-view+json": {
       "model_id": "c9853491343a4e0e99859ac9b5b9b1d9",
       "version_major": 2,
       "version_minor": 0
      },
      "text/plain": [
       "  0%|          | 0/1000 [00:00<?, ?it/s]"
      ]
     },
     "metadata": {},
     "output_type": "display_data"
    },
    {
     "data": {
      "application/vnd.jupyter.widget-view+json": {
       "model_id": "d62ace432dbe4c7f83715b95dc791471",
       "version_major": 2,
       "version_minor": 0
      },
      "text/plain": [
       "  0%|          | 0/1000 [00:00<?, ?it/s]"
      ]
     },
     "metadata": {},
     "output_type": "display_data"
    },
    {
     "data": {
      "application/vnd.jupyter.widget-view+json": {
       "model_id": "6dd89179a7a64ad4a4595d839609153e",
       "version_major": 2,
       "version_minor": 0
      },
      "text/plain": [
       "  0%|          | 0/1000 [00:00<?, ?it/s]"
      ]
     },
     "metadata": {},
     "output_type": "display_data"
    },
    {
     "data": {
      "application/vnd.jupyter.widget-view+json": {
       "model_id": "946251d9f1e1491a8e5e8b5eb1baab4a",
       "version_major": 2,
       "version_minor": 0
      },
      "text/plain": [
       "  0%|          | 0/1000 [00:00<?, ?it/s]"
      ]
     },
     "metadata": {},
     "output_type": "display_data"
    },
    {
     "data": {
      "application/vnd.jupyter.widget-view+json": {
       "model_id": "976c516fe52e4e3ca833e97a78726452",
       "version_major": 2,
       "version_minor": 0
      },
      "text/plain": [
       "  0%|          | 0/825 [00:00<?, ?it/s]"
      ]
     },
     "metadata": {},
     "output_type": "display_data"
    }
   ],
   "source": [
    "for _ in tqdm(range(33)):\n",
    "    rep_uuids = reps.values_list('uuid', flat=True)[:1000]\n",
    "    reportings = Reporting.objects.filter(uuid__in=rep_uuids)\n",
    "    for a in tqdm(reportings):\n",
    "        with DisableSignals():\n",
    "            if a.form_data.get('code'):\n",
    "                a.form_data['id_ccr_antt'] = a.form_data.get('code')\n",
    "                a.save()"
   ]
  },
  {
   "cell_type": "code",
   "execution_count": null,
   "id": "c92c0dda",
   "metadata": {},
   "outputs": [],
   "source": [
    "MobileSync"
   ]
  },
  {
   "cell_type": "code",
   "execution_count": 5,
   "id": "2c9e29b5",
   "metadata": {},
   "outputs": [
    {
     "data": {
      "text/plain": [
       "<User: viviane.ssilva - Viviane Santos Silva>"
      ]
     },
     "execution_count": 5,
     "metadata": {},
     "output_type": "execute_result"
    }
   ],
   "source": [
    "user=User.objects.get(email='viviane.ssilva@grupoccr.com.br')\n",
    "user"
   ]
  },
  {
   "cell_type": "code",
   "execution_count": 10,
   "id": "bc1fdc94",
   "metadata": {},
   "outputs": [
    {
     "name": "stdout",
     "output_type": "stream",
     "text": [
      "CCR - AutoBAn: FULL_SYNC_START - viviane.ssilva - 24-04-2024 17:20 True 5f9bede7-0fed-4729-a94f-5becf80bd685\n",
      "CCR - AutoBAn: USER_SYNC_DATA - viviane.ssilva - 24-04-2024 15:08 False 4240e1a6-2ae1-4c86-9651-3065c378a270\n",
      "CCR - AutoBAn: USER_SYNC_DATA - viviane.ssilva - 24-04-2024 15:00 False 99fc821c-fbf5-4352-9a45-2c6796597fc2\n",
      "CCR - AutoBAn: USER_SYNC_DATA - viviane.ssilva - 24-04-2024 14:59 False 5bd2faef-6a68-467f-99fb-ae463a855616\n",
      "CCR - AutoBAn: USER_SYNC_DATA - viviane.ssilva - 24-04-2024 14:59 False 68db414e-949d-4a5e-b0be-6b3f886ed962\n",
      "CCR - AutoBAn: USER_SYNC_DATA - viviane.ssilva - 24-04-2024 14:59 False 6923d1ec-bb63-41b9-8739-7e48af030910\n",
      "CCR - AutoBAn: USER_SYNC_DATA - viviane.ssilva - 24-04-2024 14:50 False 1f94cba2-c6dd-49ab-b2aa-a3e4d376b970\n",
      "CCR - AutoBAn: USER_SYNC_DATA - viviane.ssilva - 24-04-2024 14:38 False 20504c9f-2be7-40d0-b603-fe7290f48674\n",
      "CCR - AutoBAn: USER_SYNC_DATA - viviane.ssilva - 24-04-2024 14:35 False 83dcf6ed-27f0-4611-b87d-b569483ba413\n",
      "CCR - AutoBAn: USER_SYNC_DATA - viviane.ssilva - 24-04-2024 14:25 False b239501d-b40c-4333-b880-9da7bc2f0222\n",
      "CCR - AutoBAn: USER_SYNC_DATA - viviane.ssilva - 24-04-2024 13:34 False 4b0d562c-4029-4a1f-a71e-88f977c33990\n",
      "CCR - AutoBAn: USER_SYNC_DATA - viviane.ssilva - 24-04-2024 13:24 False e862d40b-449b-4d9e-aa76-e2b983e7edce\n",
      "CCR - AutoBAn: USER_SYNC_DATA - viviane.ssilva - 24-04-2024 13:17 False 862deb74-6b06-4997-bec9-ade10c1f9b3e\n",
      "CCR - AutoBAn: USER_SYNC_DATA - viviane.ssilva - 24-04-2024 13:10 False f7cee5d6-2965-4f37-87dc-43756c0196bb\n",
      "CCR - AutoBAn: USER_SYNC_DATA - viviane.ssilva - 24-04-2024 13:07 False e980b363-8d43-4958-9f10-6ebdedfcefa0\n",
      "CCR - AutoBAn: USER_SYNC_DATA - viviane.ssilva - 24-04-2024 13:03 False 1aceb810-be60-44ad-9d17-5fa34c00e56e\n",
      "CCR - AutoBAn: USER_SYNC_DATA - viviane.ssilva - 24-04-2024 12:48 False 0cbec20e-ff19-4ead-b209-1652c49a4a9c\n",
      "CCR - AutoBAn: USER_SYNC_DATA - viviane.ssilva - 24-04-2024 12:48 False 9dd7dbc1-9eb3-493b-afbe-9ac5e6ea752d\n",
      "CCR - AutoBAn: USER_SYNC_DATA - viviane.ssilva - 24-04-2024 12:44 False 9bb5d7d1-f73c-4b19-94c6-c616c5b25ccf\n",
      "CCR - AutoBAn: USER_SYNC_DATA - viviane.ssilva - 24-04-2024 12:43 False 8e353fc4-5731-462a-89d9-efc849dadc8d\n",
      "CCR - AutoBAn: USER_SYNC_DATA - viviane.ssilva - 24-04-2024 12:43 False 26d78232-6ed9-43ab-9eaf-6d42b3c670ef\n",
      "CCR - AutoBAn: USER_SYNC_DATA - viviane.ssilva - 24-04-2024 12:43 False 907458d9-425c-43c4-9e85-c2b8da641637\n",
      "CCR - AutoBAn: USER_SYNC_DATA - viviane.ssilva - 24-04-2024 12:42 False 14ecaa80-5160-4174-8d17-677caae0c5db\n",
      "CCR - AutoBAn: USER_SYNC_DATA - viviane.ssilva - 24-04-2024 12:42 False 4502380d-9dbd-4c94-83c8-a18153eddff5\n",
      "CCR - AutoBAn: USER_SYNC_DATA - viviane.ssilva - 24-04-2024 12:42 False 88fc27b2-7e73-41cd-ada4-d931f41e99ab\n",
      "CCR - AutoBAn: USER_SYNC_DATA - viviane.ssilva - 24-04-2024 12:42 False cdade66c-cd55-455d-bd96-823794b205d5\n",
      "CCR - AutoBAn: USER_SYNC_DATA - viviane.ssilva - 24-04-2024 12:42 False d4989754-2143-4dc8-82e1-c88d0fd08a13\n",
      "CCR - AutoBAn: USER_SYNC_DATA - viviane.ssilva - 24-04-2024 12:41 False 2fda255f-2c13-4b55-bbdb-a01058ddadcb\n",
      "CCR - AutoBAn: USER_SYNC_DATA - viviane.ssilva - 24-04-2024 12:41 False 25b1a2ca-a424-4d7a-ad00-f85f2f26b431\n",
      "CCR - AutoBAn: USER_SYNC_DATA - viviane.ssilva - 24-04-2024 12:41 False 28519918-5f7e-43c2-adfa-66fc3dbd3ac8\n",
      "CCR - AutoBAn: USER_SYNC_DATA - viviane.ssilva - 24-04-2024 12:41 False 65588f49-7af4-4e9e-8611-08e17d1ce64d\n",
      "CCR - AutoBAn: USER_SYNC_DATA - viviane.ssilva - 24-04-2024 12:40 False 91a58a3c-ff4e-4ee8-98ec-076a5da113c2\n",
      "CCR - AutoBAn: USER_SYNC_DATA - viviane.ssilva - 24-04-2024 12:39 False da5105e7-02cd-4108-a299-0efe200bf2a7\n",
      "CCR - AutoBAn: USER_SYNC_DATA - viviane.ssilva - 23-04-2024 16:25 True 694f05b9-3170-4d77-8339-2fed5542abef\n",
      "CCR - AutoBAn: USER_SYNC_DATA - viviane.ssilva - 23-04-2024 16:24 True 5b498945-e2c3-42f8-b123-5b54e4d11364\n",
      "CCR - AutoBAn: USER_SYNC_DATA - viviane.ssilva - 23-04-2024 16:23 True 65fff1fe-ff6f-4b0d-87ad-49219fb6c188\n",
      "CCR - AutoBAn: FULL_SYNC_START - viviane.ssilva - 23-04-2024 16:19 True 45113787-57fb-4ee4-9bc3-c45b950d4eff\n",
      "CCR - AutoBAn: USER_SYNC_DATA - viviane.ssilva - 23-04-2024 11:17 True 9498db49-d6dd-49d6-a6f8-cd18cf73d795\n",
      "CCR - AutoBAn: USER_SYNC_DATA - viviane.ssilva - 22-04-2024 17:03 True 16cd741a-1436-42e1-b76c-fcd337a633d5\n",
      "CCR - AutoBAn: USER_SYNC_DATA - viviane.ssilva - 22-04-2024 16:55 True 0064b2e7-04a4-4906-aa24-db4977ce1963\n"
     ]
    }
   ],
   "source": [
    "from datetime import datetime, timedelta\n",
    "for a in MobileSync.objects.filter(created_by=user).order_by('-created_at')[:40]:\n",
    "    time = a.created_at- timedelta(hours=3)\n",
    "    print(f'{a.company.name}: {a.kind} - {a.created_by.username} - {time.strftime(\"%d-%m-%Y %H:%M\")} {a.done} {a.uuid}')"
   ]
  },
  {
   "cell_type": "code",
   "execution_count": 8,
   "id": "fc6f0b68",
   "metadata": {},
   "outputs": [
    {
     "data": {
      "text/plain": [
       "<ReportingFile: [CCR - AutoBAn] - Imagem de Campo - 2024-04-23 19:25:28.762152+00:00>"
      ]
     },
     "execution_count": 8,
     "metadata": {},
     "output_type": "execute_result"
    }
   ],
   "source": [
    "ReportingFile.objects.get(uuid='b52777c0-92f4-4b38-918b-17429ac90c63')"
   ]
  },
  {
   "cell_type": "code",
   "execution_count": 1,
   "id": "d230eb74",
   "metadata": {},
   "outputs": [
    {
     "data": {
      "text/plain": [
       "(<django.db.models.fields.UUIDField: uuid>,\n",
       " <django.db.models.fields.related.ForeignKey: created_by>,\n",
       " <django.db.models.fields.DateTimeField: created_at>,\n",
       " <django.db.models.fields.DateTimeField: updated_at>,\n",
       " <django.db.models.fields.DateTimeField: synced_at>,\n",
       " <django.db.models.fields.TextField: name>,\n",
       " <django.db.models.fields.TextField: description>,\n",
       " <django.db.models.fields.BooleanField: private>,\n",
       " <django.db.models.fields.related.ForeignKey: parent>,\n",
       " <django.contrib.gis.db.models.fields.GeometryCollectionField: geometry>,\n",
       " <django.contrib.postgres.fields.jsonb.JSONField: properties>,\n",
       " <django.contrib.postgres.fields.jsonb.JSONField: metadata>,\n",
       " <django.db.models.fields.BooleanField: enable_default>)"
      ]
     },
     "execution_count": 1,
     "metadata": {},
     "output_type": "execute_result"
    }
   ],
   "source": [
    "ShapeFile._meta.fields"
   ]
  },
  {
   "cell_type": "code",
   "execution_count": 1,
   "id": "95554046",
   "metadata": {},
   "outputs": [],
   "source": [
    "import pandas as pd\n",
    "from tqdm.notebook import tqdm\n",
    "from django.db.models import Q, F\n",
    "from helpers.signals import DisableSignals"
   ]
  },
  {
   "cell_type": "code",
   "execution_count": 10,
   "id": "4e6df93d",
   "metadata": {},
   "outputs": [
    {
     "data": {
      "text/plain": [
       "161328"
      ]
     },
     "execution_count": 10,
     "metadata": {},
     "output_type": "execute_result"
    }
   ],
   "source": [
    "reps1=Reporting.objects.filter(parent__isnull=False, parent__occurrence_type__name__isnull=False\n",
    "                        ).prefetch_related('occurrence_type', 'parent', 'parent__occurrence_type', 'company'\n",
    "                        ).only('number', 'occurrence_type__name', 'parent__occurrence_type__name', 'company__name'\n",
    "                              ).values_list('number', 'occurrence_type__name', 'parent__occurrence_type__name', 'company__name'\n",
    "                        ).order_by('company__name')\n",
    "reps1.count()"
   ]
  },
  {
   "cell_type": "code",
   "execution_count": 1,
   "id": "fecae780",
   "metadata": {},
   "outputs": [
    {
     "data": {
      "text/plain": [
       "161328"
      ]
     },
     "execution_count": 1,
     "metadata": {},
     "output_type": "execute_result"
    }
   ],
   "source": [
    "reps=Reporting.objects.filter(parent__isnull=False,parent__occurrence_type__name__isnull=False\n",
    "                             ).prefetch_related('occurrence_type',\n",
    "                                                'parent',\n",
    "                                                'parent__occurrence_type',\n",
    "                                                'company').only('number').order_by('company')\n",
    "reps.count()"
   ]
  },
  {
   "cell_type": "code",
   "execution_count": 13,
   "id": "caca97c0",
   "metadata": {},
   "outputs": [
    {
     "data": {
      "text/plain": [
       "('CCR-OAC-2024.00984',\n",
       " 'Drenagem Profunda Ficha CCR',\n",
       " 'Drenagem Profunda Padrão CCR',\n",
       " 'CCR - AutoBAn')"
      ]
     },
     "execution_count": 13,
     "metadata": {},
     "output_type": "execute_result"
    }
   ],
   "source": [
    "reps1[1]"
   ]
  },
  {
   "cell_type": "code",
   "execution_count": 14,
   "id": "9ad2625e",
   "metadata": {},
   "outputs": [
    {
     "data": {
      "application/vnd.jupyter.widget-view+json": {
       "model_id": "400c55c472d246a7b735ef46dec4919c",
       "version_major": 2,
       "version_minor": 0
      },
      "text/plain": [
       "  0%|          | 0/161328 [00:00<?, ?it/s]"
      ]
     },
     "metadata": {},
     "output_type": "display_data"
    }
   ],
   "source": [
    "dados=[]\n",
    "for a in tqdm(reps1):\n",
    "    if a[2].lower() not in a[1].lower():\n",
    "        dados.append(a)"
   ]
  },
  {
   "cell_type": "code",
   "execution_count": 18,
   "id": "39c2b5be",
   "metadata": {},
   "outputs": [],
   "source": [
    "df=pd.DataFrame(data=dados,columns=['Serial Apontamento','Classe Apontamento','Classe Inventário','Unidade'])"
   ]
  },
  {
   "cell_type": "code",
   "execution_count": 20,
   "id": "83631c44",
   "metadata": {},
   "outputs": [
    {
     "data": {
      "text/html": [
       "<div>\n",
       "<style scoped>\n",
       "    .dataframe tbody tr th:only-of-type {\n",
       "        vertical-align: middle;\n",
       "    }\n",
       "\n",
       "    .dataframe tbody tr th {\n",
       "        vertical-align: top;\n",
       "    }\n",
       "\n",
       "    .dataframe thead th {\n",
       "        text-align: right;\n",
       "    }\n",
       "</style>\n",
       "<table border=\"1\" class=\"dataframe\">\n",
       "  <thead>\n",
       "    <tr style=\"text-align: right;\">\n",
       "      <th></th>\n",
       "      <th>Serial Apontamento</th>\n",
       "      <th>Classe Apontamento</th>\n",
       "      <th>Classe Inventário</th>\n",
       "      <th>Unidade</th>\n",
       "    </tr>\n",
       "  </thead>\n",
       "  <tbody>\n",
       "    <tr>\n",
       "      <th>0</th>\n",
       "      <td>CCR-DEF-2024.01594</td>\n",
       "      <td>Retrorrefletância Horizontal de Zebrado</td>\n",
       "      <td>Sinalização Horizontal (Zebrado)</td>\n",
       "      <td>CCR - AutoBAn</td>\n",
       "    </tr>\n",
       "    <tr>\n",
       "      <th>1</th>\n",
       "      <td>CCR-DEF-2024.02723</td>\n",
       "      <td>Retrorrefletância de Dispositivos</td>\n",
       "      <td>Sinalização Horizontal (Dispositivos)</td>\n",
       "      <td>CCR - AutoBAn</td>\n",
       "    </tr>\n",
       "    <tr>\n",
       "      <th>2</th>\n",
       "      <td>CCR-DEF-2024.02772</td>\n",
       "      <td>Retrorrefletância de Dispositivos</td>\n",
       "      <td>Sinalização Horizontal (Dispositivos)</td>\n",
       "      <td>CCR - AutoBAn</td>\n",
       "    </tr>\n",
       "    <tr>\n",
       "      <th>3</th>\n",
       "      <td>CCR-DEF-2024.02725</td>\n",
       "      <td>Retrorrefletância de Dispositivos</td>\n",
       "      <td>Sinalização Horizontal (Dispositivos)</td>\n",
       "      <td>CCR - AutoBAn</td>\n",
       "    </tr>\n",
       "    <tr>\n",
       "      <th>4</th>\n",
       "      <td>CCR-DEF-2024.02657</td>\n",
       "      <td>Retrorrefletância Horizontal de Zebrado</td>\n",
       "      <td>Sinalização Horizontal (Zebrado)</td>\n",
       "      <td>CCR - AutoBAn</td>\n",
       "    </tr>\n",
       "    <tr>\n",
       "      <th>...</th>\n",
       "      <td>...</td>\n",
       "      <td>...</td>\n",
       "      <td>...</td>\n",
       "      <td>...</td>\n",
       "    </tr>\n",
       "    <tr>\n",
       "      <th>26978</th>\n",
       "      <td>CCR-DEF-2024.01201</td>\n",
       "      <td>Retrorrefletância Horizontal de Zebrado</td>\n",
       "      <td>Sinalização Horizontal (Zebrado)</td>\n",
       "      <td>CCR - SPVias</td>\n",
       "    </tr>\n",
       "    <tr>\n",
       "      <th>26979</th>\n",
       "      <td>CCR-DEF-2024.01637</td>\n",
       "      <td>Retrorrefletância Horizontal de Zebrado</td>\n",
       "      <td>Sinalização Horizontal (Zebrado)</td>\n",
       "      <td>CCR - SPVias</td>\n",
       "    </tr>\n",
       "    <tr>\n",
       "      <th>26980</th>\n",
       "      <td>CCR-DEF-2024.01178</td>\n",
       "      <td>Retrorrefletância Horizontal de Zebrado</td>\n",
       "      <td>Sinalização Horizontal (Zebrado)</td>\n",
       "      <td>CCR - SPVias</td>\n",
       "    </tr>\n",
       "    <tr>\n",
       "      <th>26981</th>\n",
       "      <td>CCR-DEF-2024.01119</td>\n",
       "      <td>Retrorrefletância Horizontal de Zebrado</td>\n",
       "      <td>Sinalização Horizontal (Zebrado)</td>\n",
       "      <td>CCR - SPVias</td>\n",
       "    </tr>\n",
       "    <tr>\n",
       "      <th>26982</th>\n",
       "      <td>CCR-DEF-2024.01970</td>\n",
       "      <td>Retrorrefletância Horizontal de Zebrado</td>\n",
       "      <td>Sinalização Horizontal (Zebrado)</td>\n",
       "      <td>CCR - SPVias</td>\n",
       "    </tr>\n",
       "  </tbody>\n",
       "</table>\n",
       "<p>26983 rows × 4 columns</p>\n",
       "</div>"
      ],
      "text/plain": [
       "       Serial Apontamento                       Classe Apontamento  \\\n",
       "0      CCR-DEF-2024.01594  Retrorrefletância Horizontal de Zebrado   \n",
       "1      CCR-DEF-2024.02723        Retrorrefletância de Dispositivos   \n",
       "2      CCR-DEF-2024.02772        Retrorrefletância de Dispositivos   \n",
       "3      CCR-DEF-2024.02725        Retrorrefletância de Dispositivos   \n",
       "4      CCR-DEF-2024.02657  Retrorrefletância Horizontal de Zebrado   \n",
       "...                   ...                                      ...   \n",
       "26978  CCR-DEF-2024.01201  Retrorrefletância Horizontal de Zebrado   \n",
       "26979  CCR-DEF-2024.01637  Retrorrefletância Horizontal de Zebrado   \n",
       "26980  CCR-DEF-2024.01178  Retrorrefletância Horizontal de Zebrado   \n",
       "26981  CCR-DEF-2024.01119  Retrorrefletância Horizontal de Zebrado   \n",
       "26982  CCR-DEF-2024.01970  Retrorrefletância Horizontal de Zebrado   \n",
       "\n",
       "                           Classe Inventário        Unidade  \n",
       "0           Sinalização Horizontal (Zebrado)  CCR - AutoBAn  \n",
       "1      Sinalização Horizontal (Dispositivos)  CCR - AutoBAn  \n",
       "2      Sinalização Horizontal (Dispositivos)  CCR - AutoBAn  \n",
       "3      Sinalização Horizontal (Dispositivos)  CCR - AutoBAn  \n",
       "4           Sinalização Horizontal (Zebrado)  CCR - AutoBAn  \n",
       "...                                      ...            ...  \n",
       "26978       Sinalização Horizontal (Zebrado)   CCR - SPVias  \n",
       "26979       Sinalização Horizontal (Zebrado)   CCR - SPVias  \n",
       "26980       Sinalização Horizontal (Zebrado)   CCR - SPVias  \n",
       "26981       Sinalização Horizontal (Zebrado)   CCR - SPVias  \n",
       "26982       Sinalização Horizontal (Zebrado)   CCR - SPVias  \n",
       "\n",
       "[26983 rows x 4 columns]"
      ]
     },
     "execution_count": 20,
     "metadata": {},
     "output_type": "execute_result"
    }
   ],
   "source": [
    "df"
   ]
  },
  {
   "cell_type": "code",
   "execution_count": 22,
   "id": "c7fd0120",
   "metadata": {},
   "outputs": [],
   "source": [
    "df.to_excel('Rel_ApontamentoVinculo.xlsx',index=False)"
   ]
  },
  {
   "cell_type": "code",
   "execution_count": 23,
   "id": "d5e51f89",
   "metadata": {},
   "outputs": [],
   "source": [
    "company = Company.objects.get(name='CCR - RodoAnel')"
   ]
  },
  {
   "cell_type": "code",
   "execution_count": 24,
   "id": "2100b3ef",
   "metadata": {},
   "outputs": [
    {
     "data": {
      "text/plain": [
       "['0',\n",
       " '1',\n",
       " '2',\n",
       " '3',\n",
       " '4',\n",
       " '5',\n",
       " '6',\n",
       " '7',\n",
       " '8',\n",
       " '9',\n",
       " '10',\n",
       " '11',\n",
       " '12',\n",
       " '13',\n",
       " '14',\n",
       " '15',\n",
       " '16',\n",
       " '17',\n",
       " '18',\n",
       " '19',\n",
       " '20',\n",
       " '21',\n",
       " '22',\n",
       " '23',\n",
       " '24',\n",
       " '25']"
      ]
     },
     "execution_count": 24,
     "metadata": {},
     "output_type": "execute_result"
    }
   ],
   "source": [
    "direction=[a['value'] for a in company.custom_options['reporting']['fields']['direction']['selectOptions']['options']]\n",
    "direction"
   ]
  },
  {
   "cell_type": "code",
   "execution_count": 25,
   "id": "999b23e9",
   "metadata": {},
   "outputs": [],
   "source": [
    "roads=[]\n",
    "for a in Road.objects.filter(company=company):\n",
    "    a.metadata['direction']['values'] = direction\n",
    "    roads.append(a)"
   ]
  },
  {
   "cell_type": "code",
   "execution_count": 26,
   "id": "96f26368",
   "metadata": {},
   "outputs": [],
   "source": [
    "from helpers.histories import bulk_update_with_history\n",
    "user=User.objects.get(username=\"rlcs\")\n",
    "roads_edited = bulk_update_with_history(roads,Road, use_django_bulk=True,batch_size=5,user=user)"
   ]
  },
  {
   "cell_type": "code",
   "execution_count": 27,
   "id": "2ac3b7d0",
   "metadata": {},
   "outputs": [
    {
     "name": "stdout",
     "output_type": "stream",
     "text": [
      "['0', '1', '2', '3', '4', '5', '6', '7', '8', '9', '10', '11', '12', '13', '14', '15', '16', '17', '18', '19', '20', '21', '22', '23', '24', '25']\n"
     ]
    }
   ],
   "source": [
    "for a in Road.objects.filter(company=company):\n",
    "    print(a.metadata['direction']['values'])"
   ]
  },
  {
   "cell_type": "code",
   "execution_count": 1,
   "id": "e26bbdbe",
   "metadata": {},
   "outputs": [],
   "source": [
    "# bom para comparar cada iteração com o histórico anterior e \n",
    "# verificar se ficar vazio a lista e printar a data de quando tiver dado\n",
    "def comparar_lista_de_json(lista1, lista2):\n",
    "    diff_list = []\n",
    "\n",
    "    for i in range(min(len(lista1), len(lista2))):\n",
    "        json1 = lista1[i]\n",
    "        json2 = lista2[i]\n",
    "\n",
    "        for key in json1:\n",
    "            if key in json2:\n",
    "                if json1[key] != json2[key]:\n",
    "                    diff_list.append((i, key, json1[key], json2[key]))\n",
    "            else:\n",
    "                diff_list.append((i, key, json1[key], None))\n",
    "\n",
    "        for key in json2:\n",
    "            if key not in json1:\n",
    "                diff_list.append((i, key, None, json2[key]))\n",
    "\n",
    "    return diff_list"
   ]
  },
  {
   "cell_type": "code",
   "execution_count": 1,
   "id": "958a2e88",
   "metadata": {},
   "outputs": [],
   "source": [
    "changes=[]\n",
    "histories=OccurrenceType.history.filter(name='Drenagem Profunda Ficha CCR').order_by('-history_date')\n",
    "for i,a in enumerate(histories):\n",
    "    \n",
    "    last=histories[i+1]\n",
    "    last_changer=histories[i+1].history_user.first_name\n",
    "    last_fields = histories[i+1].form_fields['fields']\n",
    "        \n",
    "    now=histories[i]\n",
    "    now_changer=histories[i].history_user.first_name\n",
    "    now_fields = histories[i].form_fields['fields']\n",
    "    compared_date_changes=(now.history_date.strftime('%d/%m/%Y %H:%M'),now_changer,last.history_date.strftime('%d/%m/%Y %H:%M'),last_changer)\n",
    "    comparacao = comparar_lista_de_json(now_fields,last_fields)\n",
    "    if comparacao != []:\n",
    "        changes+=(comparacao,a.history_date.strftime('%d/%m/%Y'),a.history_user.first_name,i,compared_date_changes)"
   ]
  },
  {
   "cell_type": "code",
   "execution_count": 3,
   "id": "92692d43",
   "metadata": {},
   "outputs": [
    {
     "data": {
      "text/plain": [
       "[]"
      ]
     },
     "execution_count": 3,
     "metadata": {},
     "output_type": "execute_result"
    }
   ],
   "source": [
    "changes"
   ]
  },
  {
   "cell_type": "code",
   "execution_count": 10,
   "id": "6bae2f70",
   "metadata": {},
   "outputs": [
    {
     "data": {
      "text/plain": [
       "24"
      ]
     },
     "execution_count": 10,
     "metadata": {},
     "output_type": "execute_result"
    }
   ],
   "source": [
    "len(changes)"
   ]
  },
  {
   "cell_type": "code",
   "execution_count": 8,
   "id": "595978ae",
   "metadata": {},
   "outputs": [],
   "source": [
    "import pandas as pd\n",
    "df=pd.DataFrame(changes)"
   ]
  },
  {
   "cell_type": "code",
   "execution_count": 31,
   "id": "a574da59",
   "metadata": {},
   "outputs": [
    {
     "name": "stdout",
     "output_type": "stream",
     "text": [
      "{'id': 65, 'apiName': 'functionalClassification', 'autofill': {'reduce': [{'filter': [[{'var': 'formData.mouthObsMon'}, {'var': 'formData.drownMouthMon'}, {'var': 'formData.bodyAssoread'}, {'var': 'formData.drownBody'}, {'var': 'formData.solDamageMon'}, {'var': 'formData.drownBox'}], {'!=': [{'var': ''}, 'Elemento Não Vistoriado']}]}, {'min': [{'var': 'current'}, {'var': 'accumulator'}]}, '0']}, 'dataType': 'float', 'displayIf': {'!=': [{'var': 'isMobile'}, True]}, 'displayName': 'Classificação da Funcionalidade'} 2024-05-08 14:31:58.881342+00:00 felippe.vanroo - Felippe Vanroo\n",
      "{'id': 65, 'apiName': 'functionalClassification', 'autofill': {'reduce': [{'filter': [[{'var': 'formData.mouthObsMon'}, {'var': 'formData.drownMouthMon'}, {'var': 'formData.bodyAssoread'}, {'var': 'formData.drownBody'}, {'var': 'formData.solDamageMon'}, {'var': 'formData.drownBox'}], {'!=': [{'var': ''}, 'Elemento Não Vistoriado']}]}, {'min': [{'var': 'current'}, {'var': 'accumulator'}]}, '0']}, 'dataType': 'float', 'displayIf': {'!=': [{'var': 'isMobile'}, True]}, 'displayName': 'Classificação da Funcionalidade'} 2024-05-08 14:31:04.317949+00:00 felippe.vanroo - Felippe Vanroo\n",
      "{'id': 65, 'apiName': 'functionalClassification', 'autofill': {'reduce': [{'filter': [[{'var': 'formData.mouthObsMon'}, {'var': 'formData.drownMouthMon'}, {'var': 'formData.bodyAssoread'}, {'var': 'formData.drownBody'}, {'var': 'formData.solDamageMon'}, {'var': 'formData.drownBox'}], {'!=': [{'var': ''}, 'Elemento Não Vistoriado']}]}, {'min': [{'var': 'current'}, {'var': 'accumulator'}]}, '0']}, 'dataType': 'float', 'displayIf': {'!=': [{'var': 'isMobile'}, True]}, 'displayName': 'Classificação da Funcionalidade'} 2024-03-22 20:14:09.274360+00:00 luan.poletti.ccr - Luan Poletti\n",
      "{'id': 65, 'apiName': 'functionalClassification', 'autofill': {'reduce': [{'filter': [[{'var': 'formData.mouthObsMon'}, {'var': 'formData.drownMouthMon'}, {'var': 'formData.bodyAssoread'}, {'var': 'formData.drownBody'}, {'var': 'formData.solDamageMon'}, {'var': 'formData.drownBox'}], {'!=': [{'var': ''}, 'Elemento Não Vistoriado']}]}, {'min': [{'var': 'current'}, {'var': 'accumulator'}]}, '0']}, 'dataType': 'float', 'displayName': 'Classificação da Funcionalidade'} 2024-03-15 13:51:05.540568+00:00 luan.poletti.ccr - Luan Poletti\n",
      "{'id': 65, 'apiName': 'functionalClassification', 'autofill': {'reduce': [{'filter': [[{'var': 'formData.mouthObsMon'}, {'var': 'formData.drownMouthMon'}, {'var': 'formData.bodyAssoread'}, {'var': 'formData.drownBody'}, {'var': 'formData.solDamageMon'}, {'var': 'formData.drownBox'}], {'!=': [{'var': ''}, 'Elemento Não Vistoriado']}]}, {'min': [{'var': 'current'}, {'var': 'accumulator'}]}, '0']}, 'dataType': 'float', 'displayName': 'Classificação da Funcionalidade'} 2024-03-15 13:43:32.913998+00:00 luan.poletti.ccr - Luan Poletti\n",
      "{'id': 65, 'apiName': 'functionalClassification', 'autofill': {'reduce': [{'filter': [[{'var': 'formData.mouthObsMon'}, {'var': 'formData.drownMouthMon'}, {'var': 'formData.bodyAssoread'}, {'var': 'formData.drownBody'}, {'var': 'formData.solDamageMon'}, {'var': 'formData.drownBox'}], {'!=': [{'var': ''}, 'Elemento Não Vistoriado']}]}, {'min': [{'var': 'current'}, {'var': 'accumulator'}]}, '0']}, 'dataType': 'float', 'displayName': 'Classificação da Funcionalidade'} 2024-03-15 11:36:12.336423+00:00 luan.poletti.ccr - Luan Poletti\n",
      "{'id': 65, 'apiName': 'functionalClassification', 'autofill': {'reduce': [{'filter': [[{'var': 'formData.mouthObsMon'}, {'var': 'formData.drownMouthMon'}, {'var': 'formData.bodyAssoread'}, {'var': 'formData.drownBody'}, {'var': 'formData.solDamageMon'}, {'var': 'formData.drownBox'}], {'!=': [{'var': ''}, 'Elemento Não Vistoriado']}]}, {'min': [{'var': 'current'}, {'var': 'accumulator'}]}, '0']}, 'dataType': 'float', 'displayName': 'Classificação da Funcionalidade'} 2024-03-14 21:19:07.919988+00:00 luan.poletti.ccr - Luan Poletti\n",
      "{'id': 65, 'apiName': 'functionalClassification', 'autofill': {'reduce': [{'filter': [[{'var': 'formData.mouthObsMon'}, {'var': 'formData.drownMouthMon'}, {'var': 'formData.bodyAssoread'}, {'var': 'formData.drownBody'}, {'var': 'formData.solDamageMon'}, {'var': 'formData.drownBox'}], {'!=': [{'var': ''}, 'Elemento Não Vistoriado']}]}, {'min': [{'var': 'current'}, {'var': 'accumulator'}]}, '0']}, 'dataType': 'float', 'displayName': 'Classificação da Funcionalidade'} 2024-03-14 16:20:19.168933+00:00 luan.poletti.ccr - Luan Poletti\n",
      "{'id': 65, 'apiName': 'functionalClassification', 'autofill': {'reduce': [{'filter': [[{'var': 'formData.mouthObsMon'}, {'var': 'formData.drownMouthMon'}, {'var': 'formData.bodyAssoread'}, {'var': 'formData.drownBody'}, {'var': 'formData.solDamageMon'}, {'var': 'formData.drownBox'}], {'!=': [{'var': ''}, 'Elemento Não Vistoriado']}]}, {'min': [{'var': 'current'}, {'var': 'accumulator'}]}, '0']}, 'dataType': 'float', 'displayName': 'Classificação da Funcionalidade'} 2024-03-12 18:54:14.959458+00:00 luan.poletti.ccr - Luan Poletti\n",
      "{'id': 65, 'apiName': 'functionalClassification', 'autofill': {'reduce': [{'filter': [[{'var': 'formData.mouthObsMon'}, {'var': 'formData.drownMouthMon'}, {'var': 'formData.bodyAssoread'}, {'var': 'formData.drownBody'}, {'var': 'formData.solDamageMon'}, {'var': 'formData.drownBox'}], {'!=': [{'var': ''}, 'Elemento Não Vistoriado']}]}, {'min': [{'var': 'current'}, {'var': 'accumulator'}]}, '0']}, 'dataType': 'float', 'displayName': 'Classificação da Funcionalidade'} 2024-03-12 18:53:07.896473+00:00 luan.poletti.ccr - Luan Poletti\n",
      "{'id': 65, 'apiName': 'functionalClassification', 'autofill': {'reduce': [{'filter': [[{'var': 'formData.mouthObsMon'}, {'var': 'formData.drownMouthMon'}, {'var': 'formData.bodyAssoread'}, {'var': 'formData.drownBody'}, {'var': 'formData.solDamageMon'}, {'var': 'formData.drownBox'}], {'!=': [{'var': ''}, 'Elemento Não Vistoriado']}]}, {'min': [{'var': 'current'}, {'var': 'accumulator'}]}, '0']}, 'dataType': 'float', 'displayName': 'Classificação da Funcionalidade'} 2024-02-29 12:52:41.174380+00:00 pedro.gasparotti - Pedro Gasparotti\n",
      "{'id': 65, 'apiName': 'functionalClassification', 'autofill': {'reduce': [{'filter': [[{'var': 'formData.mouthObsMon'}, {'var': 'formData.drownMouthMon'}, {'var': 'formData.bodyAssoread'}, {'var': 'formData.drownBody'}, {'var': 'formData.solDamageMon'}, {'var': 'formData.drownBox'}], {'!=': [{'var': ''}, 'Elemento Não Vistoriado']}]}, {'min': [{'var': 'current'}, {'var': 'accumulator'}]}, '0']}, 'dataType': 'float', 'displayName': 'Classificação da Funcionalidade'} 2024-02-27 18:08:06.429842+00:00 leonardo.bruxel - leonardo bruxel\n",
      "{'id': 65, 'apiName': 'functionalClassification', 'autofill': {'reduce': [{'filter': [[{'var': 'formData.mouthObsMon'}, {'var': 'formData.drownMouthMon'}, {'var': 'formData.bodyAssoread'}, {'var': 'formData.drownBody'}, {'var': 'formData.solDamageMon'}, {'var': 'formData.drownBox'}], {'!=': [{'var': ''}, 'Elemento Não Vistoriado']}]}, {'min': [{'var': 'current'}, {'var': 'accumulator'}]}, '0']}, 'dataType': 'float', 'displayName': 'Classificação da Funcionalidade'} 2024-02-26 13:50:37.143079+00:00 leonardo.bruxel - leonardo bruxel\n",
      "{'id': 65, 'apiName': 'functionalClassification', 'autofill': {'reduce': [{'filter': [[{'var': 'formData.mouthObsMon'}, {'var': 'formData.drownMouthMon'}, {'var': 'formData.bodyAssoread'}, {'var': 'formData.drownBody'}, {'var': 'formData.solDamageMon'}, {'var': 'formData.drownBox'}], {'!=': [{'var': ''}, 'Elemento Não Vistoriado']}]}, {'min': [{'var': 'current'}, {'var': 'accumulator'}]}, '0']}, 'dataType': 'float', 'displayName': 'Classificação da Funcionalidade'} 2024-02-26 12:19:36.486117+00:00 pedro.gasparotti - Pedro Gasparotti\n",
      "{'id': 65, 'apiName': 'functionalClassification', 'autofill': {'reduce': [{'filter': [[{'var': 'formData.mouthObsMon'}, {'var': 'formData.drownMouthMon'}, {'var': 'formData.bodyAssoread'}, {'var': 'formData.drownBody'}, {'var': 'formData.solDamageMon'}, {'var': 'formData.drownBox'}], {'!=': [{'var': ''}, 'Elemento Não Vistoriado']}]}, {'min': [{'var': 'current'}, {'var': 'accumulator'}]}, '0']}, 'dataType': 'float', 'displayName': 'Classificação da Funcionalidade'} 2024-02-23 13:37:12.402167+00:00 leonardo.bruxel - leonardo bruxel\n",
      "{'id': 65, 'apiName': 'functionalClassification', 'autofill': {'reduce': [{'filter': [[{'var': 'formData.mouthObsMon'}, {'var': 'formData.drownMouthMon'}, {'var': 'formData.bodyAssoread'}, {'var': 'formData.drownBody'}, {'var': 'formData.solDamageMon'}, {'var': 'formData.drownBox'}], {'!=': [{'var': ''}, 'Elemento Não Vistoriado']}]}, {'min': [{'var': 'current'}, {'var': 'accumulator'}]}, '0']}, 'dataType': 'float', 'displayName': 'Classificação da Funcionalidade'} 2024-02-22 13:11:48.001663+00:00 luan.poletti.ccr - Luan Poletti\n",
      "{'id': 65, 'apiName': 'functionalClassification', 'autofill': {'reduce': [{'filter': [[{'var': 'formData.mouthObsMon'}, {'var': 'formData.drownMouthMon'}, {'var': 'formData.bodyAssoread'}, {'var': 'formData.drownBody'}, {'var': 'formData.solDamageMon'}, {'var': 'formData.drownBox'}], {'!=': [{'var': ''}, 'Elemento Não Vistoriado']}]}, {'min': [{'var': 'current'}, {'var': 'accumulator'}]}, '0']}, 'dataType': 'float', 'displayName': 'Classificação da Funcionalidade'} 2024-02-20 19:17:00.587062+00:00 leonardo.bruxel - leonardo bruxel\n",
      "{'id': 65, 'apiName': 'functionalClassification', 'autofill': {'reduce': [{'filter': [[{'var': 'formData.mouthObsMon'}, {'var': 'formData.drownMouthMon'}, {'var': 'formData.bodyAssoread'}, {'var': 'formData.drownBody'}, {'var': 'formData.solDamageMon'}, {'var': 'formData.drownBox'}], {'!=': [{'var': ''}, 'Elemento Não Vistoriado']}]}, {'min': [{'var': 'current'}, {'var': 'accumulator'}]}, '0']}, 'dataType': 'float', 'displayName': 'Classificação da Funcionalidade'} 2024-02-20 19:14:26.993423+00:00 leonardo.bruxel - leonardo bruxel\n",
      "{'id': 65, 'apiName': 'functionalClassification', 'autofill': {'reduce': [{'filter': [[{'var': 'formData.mouthObsMon'}, {'var': 'formData.drownMouthMon'}, {'var': 'formData.bodyAssoread'}, {'var': 'formData.drownBody'}, {'var': 'formData.solDamageMon'}, {'var': 'formData.drownBox'}], {'!=': [{'var': ''}, 'Elemento Não Vistoriado']}]}, {'min': [{'var': 'current'}, {'var': 'accumulator'}]}, '0']}, 'dataType': 'float', 'displayName': 'Classificação da Funcionalidade'} 2024-02-20 14:32:12.092637+00:00 leonardo.bruxel - leonardo bruxel\n",
      "{'id': 65, 'apiName': 'functionalClassification', 'autofill': {'reduce': [{'filter': [[{'var': 'formData.mouthObsMon'}, {'var': 'formData.drownMouthMon'}, {'var': 'formData.bodyAssoread'}, {'var': 'formData.drownBody'}, {'var': 'formData.solDamageMon'}, {'var': 'formData.drownBox'}], {'!=': [{'var': ''}, 'Elemento Não Vistoriado']}]}, {'min': [{'var': 'current'}, {'var': 'accumulator'}]}, '0']}, 'dataType': 'float', 'displayName': 'Classificação da Funcionalidade'} 2024-02-19 20:33:32.163146+00:00 leonardo.bruxel - leonardo bruxel\n",
      "{'id': 65, 'apiName': 'functionalClassification', 'autofill': {'reduce': [{'filter': [[{'var': 'formData.mouthObsMon'}, {'var': 'formData.drownMouthMon'}, {'var': 'formData.bodyAssoread'}, {'var': 'formData.drownBody'}, {'var': 'formData.solDamageMon'}, {'var': 'formData.drownBox'}], {'!=': [{'var': ''}, 'Elemento Não Vistoriado']}]}, {'min': [{'var': 'current'}, {'var': 'accumulator'}]}, '5']}, 'dataType': 'float', 'displayName': 'Classificação da Funcionalidade'} 2024-02-16 19:02:06.263701+00:00 leonardo.bruxel - leonardo bruxel\n",
      "{'id': 65, 'apiName': 'functionalClassification', 'autofill': {'reduce': [{'filter': [[{'var': 'formData.mouthObsMon'}, {'var': 'formData.drownMouthMon'}, {'var': 'formData.bodyAssoread'}, {'var': 'formData.drownBody'}, {'var': 'formData.solDamageMon'}, {'var': 'formData.drownBox'}], {'!=': [{'var': ''}, 'Elemento Não Vistoriado']}]}, {'min': [{'var': 'current'}, {'var': 'accumulator'}]}, '5']}, 'dataType': 'float', 'displayName': 'Classificação da Funcionalidade'} 2024-02-16 19:01:44.675931+00:00 leonardo.bruxel - leonardo bruxel\n",
      "{'id': 65, 'apiName': 'functionalClassification', 'autofill': {'reduce': [{'filter': [[{'var': 'formData.mouthObsMon'}, {'var': 'formData.drownMouthMon'}, {'var': 'formData.bodyAssoread'}, {'var': 'formData.drownBody'}, {'var': 'formData.solDamageMon'}, {'var': 'formData.drownBox'}], {'!=': [{'var': ''}, 'Elemento Não Vistoriado']}]}, {'min': [{'var': 'current'}, {'var': 'accumulator'}]}, '5']}, 'dataType': 'float', 'displayName': 'Classificação da Funcionalidade'} 2024-02-16 14:57:10.792063+00:00 leonardo.bruxel - leonardo bruxel\n",
      "{'id': 65, 'apiName': 'functionalClassification', 'autofill': {'reduce': [{'filter': [[{'var': 'formData.mouthObsMon'}, {'var': 'formData.drownMouthMon'}, {'var': 'formData.bodyAssoread'}, {'var': 'formData.drownBody'}, {'var': 'formData.solDamageMon'}, {'var': 'formData.drownBox'}], {'!=': [{'var': ''}, 'Elemento Não Vistoriado']}]}, {'min': [{'var': 'current'}, {'var': 'accumulator'}]}, '5']}, 'dataType': 'float', 'displayName': 'Classificação da Funcionalidade'} 2024-02-06 17:25:40.288684+00:00 pedro.gasparotti - Pedro Gasparotti\n"
     ]
    }
   ],
   "source": [
    "for i,a in enumerate(OccurrenceType.history.filter(name='Drenagem Profunda Ficha CCR').order_by('-history_date')):\n",
    "    for b in a.form_fields['fields']:\n",
    "        if 'functionalClassification' in b['apiName']:\n",
    "            print(b,a.history_date,a.history_user)"
   ]
  },
  {
   "cell_type": "code",
   "execution_count": 35,
   "id": "ed17b761",
   "metadata": {},
   "outputs": [
    {
     "name": "stdout",
     "output_type": "stream",
     "text": [
      "{'id': 66, 'apiName': 'structuralClassification', 'autofill': {'reduce': [{'filter': [[{'var': 'formData.solDamageMon'}, {'var': 'formData.aleDamageMon'}, {'var': 'formData.foreheadDamageTwoMon'}, {'var': 'formData.desalignmentBody'}, {'var': 'formData.jointInfiltrated'}, {'var': 'formData.damageBody'}, {'var': 'formData.grailCoverDamage'}, {'var': 'formData.coverDamageMissing'}, {'var': 'formData.wallDamageMon'}], {'!=': [{'var': ''}, 'Elemento Não Vistoriado']}]}, {'min': [{'var': 'current'}, {'var': 'accumulator'}]}, '0']}, 'dataType': 'float', 'displayIf': {'!=': [{'var': 'isMobile'}, True]}, 'displayName': 'Classificação Estrutural'} \t 2024-05-08 14:31:58.881342+00:00 felippe.vanroo - Felippe Vanroo\n",
      "{'id': 66, 'apiName': 'structuralClassification', 'autofill': {'reduce': [{'filter': [[{'var': 'formData.solDamageMon'}, {'var': 'formData.aleDamageMon'}, {'var': 'formData.foreheadDamageTwoMon'}, {'var': 'formData.desalignmentBody'}, {'var': 'formData.jointInfiltrated'}, {'var': 'formData.damageBody'}, {'var': 'formData.grailCoverDamage'}, {'var': 'formData.coverDamageMissing'}, {'var': 'formData.wallDamageMon'}], {'!=': [{'var': ''}, 'Elemento Não Vistoriado']}]}, {'min': [{'var': 'current'}, {'var': 'accumulator'}]}, '0']}, 'dataType': 'float', 'displayIf': {'!=': [{'var': 'isMobile'}, True]}, 'displayName': 'Classificação Estrutural'} \t 2024-05-08 14:31:04.317949+00:00 felippe.vanroo - Felippe Vanroo\n",
      "{'id': 66, 'apiName': 'structuralClassification', 'autofill': {'reduce': [{'filter': [[{'var': 'formData.solDamageMon'}, {'var': 'formData.aleDamageMon'}, {'var': 'formData.foreheadDamageTwoMon'}, {'var': 'formData.desalignmentBody'}, {'var': 'formData.jointInfiltrated'}, {'var': 'formData.damageBody'}, {'var': 'formData.grailCoverDamage'}, {'var': 'formData.coverDamageMissing'}, {'var': 'formData.wallDamageMon'}], {'!=': [{'var': ''}, 'Elemento Não Vistoriado']}]}, {'min': [{'var': 'current'}, {'var': 'accumulator'}]}, '0']}, 'dataType': 'float', 'displayIf': {'!=': [{'var': 'isMobile'}, True]}, 'displayName': 'Classificação Estrutural'} \t 2024-03-22 20:14:09.274360+00:00 luan.poletti.ccr - Luan Poletti\n",
      "{'id': 66, 'apiName': 'structuralClassification', 'autofill': {'reduce': [{'filter': [[{'var': 'formData.solDamageMon'}, {'var': 'formData.aleDamageMon'}, {'var': 'formData.foreheadDamageTwoMon'}, {'var': 'formData.desalignmentBody'}, {'var': 'formData.jointInfiltrated'}, {'var': 'formData.damageBody'}, {'var': 'formData.grailCoverDamage'}, {'var': 'formData.coverDamageMissing'}, {'var': 'formData.wallDamageMon'}], {'!=': [{'var': ''}, 'Elemento Não Vistoriado']}]}, {'min': [{'var': 'current'}, {'var': 'accumulator'}]}, '0']}, 'dataType': 'float', 'displayName': 'Classificação Estrutural'} \t 2024-03-15 13:51:05.540568+00:00 luan.poletti.ccr - Luan Poletti\n",
      "{'id': 66, 'apiName': 'structuralClassification', 'autofill': {'reduce': [{'filter': [[{'var': 'formData.solDamageMon'}, {'var': 'formData.aleDamageMon'}, {'var': 'formData.foreheadDamageTwoMon'}, {'var': 'formData.desalignmentBody'}, {'var': 'formData.jointInfiltrated'}, {'var': 'formData.damageBody'}, {'var': 'formData.grailCoverDamage'}, {'var': 'formData.coverDamageMissing'}, {'var': 'formData.wallDamageMon'}], {'!=': [{'var': ''}, 'Elemento Não Vistoriado']}]}, {'min': [{'var': 'current'}, {'var': 'accumulator'}]}, '0']}, 'dataType': 'float', 'displayName': 'Classificação Estrutural'} \t 2024-03-15 13:43:32.913998+00:00 luan.poletti.ccr - Luan Poletti\n",
      "{'id': 66, 'apiName': 'structuralClassification', 'autofill': {'reduce': [{'filter': [[{'var': 'formData.solDamageMon'}, {'var': 'formData.aleDamageMon'}, {'var': 'formData.foreheadDamageTwoMon'}, {'var': 'formData.desalignmentBody'}, {'var': 'formData.jointInfiltrated'}, {'var': 'formData.damageBody'}, {'var': 'formData.grailCoverDamage'}, {'var': 'formData.coverDamageMissing'}, {'var': 'formData.wallDamageMon'}], {'!=': [{'var': ''}, 'Elemento Não Vistoriado']}]}, {'min': [{'var': 'current'}, {'var': 'accumulator'}]}, '0']}, 'dataType': 'float', 'displayName': 'Classificação Estrutural'} \t 2024-03-15 11:36:12.336423+00:00 luan.poletti.ccr - Luan Poletti\n",
      "{'id': 66, 'apiName': 'structuralClassification', 'autofill': {'reduce': [{'filter': [[{'var': 'formData.solDamageMon'}, {'var': 'formData.aleDamageMon'}, {'var': 'formData.foreheadDamageTwoMon'}, {'var': 'formData.desalignmentBody'}, {'var': 'formData.jointInfiltrated'}, {'var': 'formData.damageBody'}, {'var': 'formData.grailCoverDamage'}, {'var': 'formData.coverDamageMissing'}, {'var': 'formData.wallDamageMon'}], {'!=': [{'var': ''}, 'Elemento Não Vistoriado']}]}, {'min': [{'var': 'current'}, {'var': 'accumulator'}]}, '0']}, 'dataType': 'float', 'displayName': 'Classificação Estrutural'} \t 2024-03-14 21:19:07.919988+00:00 luan.poletti.ccr - Luan Poletti\n",
      "{'id': 66, 'apiName': 'structuralClassification', 'autofill': {'reduce': [{'filter': [[{'var': 'formData.solDamageMon'}, {'var': 'formData.aleDamageMon'}, {'var': 'formData.foreheadDamageTwoMon'}, {'var': 'formData.desalignmentBody'}, {'var': 'formData.jointInfiltrated'}, {'var': 'formData.damageBody'}, {'var': 'formData.grailCoverDamage'}, {'var': 'formData.coverDamageMissing'}, {'var': 'formData.wallDamageMon'}], {'!=': [{'var': ''}, 'Elemento Não Vistoriado']}]}, {'min': [{'var': 'current'}, {'var': 'accumulator'}]}, '0']}, 'dataType': 'float', 'displayName': 'Classificação Estrutural'} \t 2024-03-14 16:20:19.168933+00:00 luan.poletti.ccr - Luan Poletti\n",
      "{'id': 66, 'apiName': 'structuralClassification', 'autofill': {'reduce': [{'filter': [[{'var': 'formData.solDamageMon'}, {'var': 'formData.aleDamageMon'}, {'var': 'formData.foreheadDamageTwoMon'}, {'var': 'formData.desalignmentBody'}, {'var': 'formData.jointInfiltrated'}, {'var': 'formData.damageBody'}, {'var': 'formData.grailCoverDamage'}, {'var': 'formData.coverDamageMissing'}, {'var': 'formData.wallDamageMon'}], {'!=': [{'var': ''}, 'Elemento Não Vistoriado']}]}, {'min': [{'var': 'current'}, {'var': 'accumulator'}]}, '0']}, 'dataType': 'float', 'displayName': 'Classificação Estrutural'} \t 2024-03-12 18:54:14.959458+00:00 luan.poletti.ccr - Luan Poletti\n",
      "{'id': 66, 'apiName': 'structuralClassification', 'autofill': {'reduce': [{'filter': [[{'var': 'formData.solDamageMon'}, {'var': 'formData.aleDamageMon'}, {'var': 'formData.foreheadDamageTwoMon'}, {'var': 'formData.desalignmentBody'}, {'var': 'formData.jointInfiltrated'}, {'var': 'formData.damageBody'}, {'var': 'formData.grailCoverDamage'}, {'var': 'formData.coverDamageMissing'}, {'var': 'formData.wallDamageMon'}], {'!=': [{'var': ''}, 'Elemento Não Vistoriado']}]}, {'min': [{'var': 'current'}, {'var': 'accumulator'}]}, '0']}, 'dataType': 'float', 'displayName': 'Classificação Estrutural'} \t 2024-03-12 18:53:07.896473+00:00 luan.poletti.ccr - Luan Poletti\n",
      "{'id': 66, 'apiName': 'structuralClassification', 'autofill': {'reduce': [{'filter': [[{'var': 'formData.solDamageMon'}, {'var': 'formData.aleDamageMon'}, {'var': 'formData.foreheadDamageTwoMon'}, {'var': 'formData.desalignmentBody'}, {'var': 'formData.jointInfiltrated'}, {'var': 'formData.damageBody'}, {'var': 'formData.grailCoverDamage'}, {'var': 'formData.coverDamageMissing'}, {'var': 'formData.wallDamageMon'}], {'!=': [{'var': ''}, 'Elemento Não Vistoriado']}]}, {'min': [{'var': 'current'}, {'var': 'accumulator'}]}, '0']}, 'dataType': 'float', 'displayName': 'Classificação Estrutural'} \t 2024-02-29 12:52:41.174380+00:00 pedro.gasparotti - Pedro Gasparotti\n",
      "{'id': 66, 'apiName': 'structuralClassification', 'autofill': {'reduce': [{'filter': [[{'var': 'formData.solDamageMon'}, {'var': 'formData.aleDamageMon'}, {'var': 'formData.foreheadDamageTwoMon'}, {'var': 'formData.desalignmentBody'}, {'var': 'formData.jointInfiltrated'}, {'var': 'formData.damageBody'}, {'var': 'formData.grailCoverDamage'}, {'var': 'formData.coverDamageMissing'}, {'var': 'formData.wallDamageMon'}], {'!=': [{'var': ''}, 'Elemento Não Vistoriado']}]}, {'min': [{'var': 'current'}, {'var': 'accumulator'}]}, '0']}, 'dataType': 'float', 'displayName': 'Classificação Estrutural'} \t 2024-02-27 18:08:06.429842+00:00 leonardo.bruxel - leonardo bruxel\n",
      "{'id': 66, 'apiName': 'structuralClassification', 'autofill': {'reduce': [{'filter': [[{'var': 'formData.solDamageMon'}, {'var': 'formData.aleDamageMon'}, {'var': 'formData.foreheadDamageTwoMon'}, {'var': 'formData.desalignmentBody'}, {'var': 'formData.jointInfiltrated'}, {'var': 'formData.damageBody'}, {'var': 'formData.grailCoverDamage'}, {'var': 'formData.coverDamageMissing'}, {'var': 'formData.wallDamageMon'}], {'!=': [{'var': ''}, 'Elemento Não Vistoriado']}]}, {'min': [{'var': 'current'}, {'var': 'accumulator'}]}, '0']}, 'dataType': 'float', 'displayName': 'Classificação Estrutural'} \t 2024-02-26 13:50:37.143079+00:00 leonardo.bruxel - leonardo bruxel\n",
      "{'id': 66, 'apiName': 'structuralClassification', 'autofill': {'reduce': [{'filter': [[{'var': 'formData.solDamageMon'}, {'var': 'formData.aleDamageMon'}, {'var': 'formData.foreheadDamageTwoMon'}, {'var': 'formData.desalignmentBody'}, {'var': 'formData.jointInfiltrated'}, {'var': 'formData.damageBody'}, {'var': 'formData.grailCoverDamage'}, {'var': 'formData.coverDamageMissing'}, {'var': 'formData.wallDamageMon'}], {'!=': [{'var': ''}, 'Elemento Não Vistoriado']}]}, {'min': [{'var': 'current'}, {'var': 'accumulator'}]}, '0']}, 'dataType': 'float', 'displayName': 'Classificação Estrutural'} \t 2024-02-26 12:19:36.486117+00:00 pedro.gasparotti - Pedro Gasparotti\n",
      "{'id': 66, 'apiName': 'structuralClassification', 'autofill': {'reduce': [{'filter': [[{'var': 'formData.solDamageMon'}, {'var': 'formData.aleDamageMon'}, {'var': 'formData.foreheadDamageTwoMon'}, {'var': 'formData.desalignmentBody'}, {'var': 'formData.jointInfiltrated'}, {'var': 'formData.damageBody'}, {'var': 'formData.grailCoverDamage'}, {'var': 'formData.coverDamageMissing'}, {'var': 'formData.wallDamageMon'}], {'!=': [{'var': ''}, 'Elemento Não Vistoriado']}]}, {'min': [{'var': 'current'}, {'var': 'accumulator'}]}, '0']}, 'dataType': 'float', 'displayName': 'Classificação Estrutural'} \t 2024-02-23 13:37:12.402167+00:00 leonardo.bruxel - leonardo bruxel\n",
      "{'id': 66, 'apiName': 'structuralClassification', 'autofill': {'reduce': [{'filter': [[{'var': 'formData.solDamageMon'}, {'var': 'formData.aleDamageMon'}, {'var': 'formData.foreheadDamageTwoMon'}, {'var': 'formData.desalignmentBody'}, {'var': 'formData.jointInfiltrated'}, {'var': 'formData.damageBody'}, {'var': 'formData.grailCoverDamage'}, {'var': 'formData.coverDamageMissing'}, {'var': 'formData.wallDamageMon'}], {'!=': [{'var': ''}, 'Elemento Não Vistoriado']}]}, {'min': [{'var': 'current'}, {'var': 'accumulator'}]}, '0']}, 'dataType': 'float', 'displayName': 'Classificação Estrutural'} \t 2024-02-22 13:11:48.001663+00:00 luan.poletti.ccr - Luan Poletti\n",
      "{'id': 66, 'apiName': 'structuralClassification', 'autofill': {'reduce': [{'filter': [[{'var': 'formData.solDamageMon'}, {'var': 'formData.aleDamageMon'}, {'var': 'formData.foreheadDamageTwoMon'}, {'var': 'formData.desalignmentBody'}, {'var': 'formData.jointInfiltrated'}, {'var': 'formData.damageBody'}, {'var': 'formData.grailCoverDamage'}, {'var': 'formData.coverDamageMissing'}, {'var': 'formData.wallDamageMon'}], {'!=': [{'var': ''}, 'Elemento Não Vistoriado']}]}, {'min': [{'var': 'current'}, {'var': 'accumulator'}]}, '0']}, 'dataType': 'float', 'displayName': 'Classificação Estrutural'} \t 2024-02-20 19:17:00.587062+00:00 leonardo.bruxel - leonardo bruxel\n",
      "{'id': 66, 'apiName': 'structuralClassification', 'autofill': {'reduce': [{'filter': [[{'var': 'formData.solDamageMon'}, {'var': 'formData.aleDamageMon'}, {'var': 'formData.foreheadDamageTwoMon'}, {'var': 'formData.desalignmentBody'}, {'var': 'formData.jointInfiltrated'}, {'var': 'formData.damageBody'}, {'var': 'formData.grailCoverDamage'}, {'var': 'formData.coverDamageMissing'}, {'var': 'formData.wallDamageMon'}], {'!=': [{'var': ''}, 'Elemento Não Vistoriado']}]}, {'min': [{'var': 'current'}, {'var': 'accumulator'}]}, '0']}, 'dataType': 'float', 'displayName': 'Classificação Estrutural'} \t 2024-02-20 19:14:26.993423+00:00 leonardo.bruxel - leonardo bruxel\n",
      "{'id': 66, 'apiName': 'structuralClassification', 'autofill': {'reduce': [{'filter': [[{'var': 'formData.solDamageMon'}, {'var': 'formData.aleDamageMon'}, {'var': 'formData.foreheadDamageTwoMon'}, {'var': 'formData.desalignmentBody'}, {'var': 'formData.jointInfiltrated'}, {'var': 'formData.damageBody'}, {'var': 'formData.grailCoverDamage'}, {'var': 'formData.coverDamageMissing'}, {'var': 'formData.wallDamageMon'}], {'!=': [{'var': ''}, 'Elemento Não Vistoriado']}]}, {'min': [{'var': 'current'}, {'var': 'accumulator'}]}, '0']}, 'dataType': 'float', 'displayName': 'Classificação Estrutural'} \t 2024-02-20 14:32:12.092637+00:00 leonardo.bruxel - leonardo bruxel\n",
      "{'id': 66, 'apiName': 'structuralClassification', 'autofill': {'reduce': [{'filter': [[{'var': 'formData.solDamageMon'}, {'var': 'formData.aleDamageMon'}, {'var': 'formData.foreheadDamageTwoMon'}, {'var': 'formData.desalignmentBody'}, {'var': 'formData.jointInfiltrated'}, {'var': 'formData.damageBody'}, {'var': 'formData.grailCoverDamage'}, {'var': 'formData.coverDamageMissing'}, {'var': 'formData.wallDamageMon'}], {'!=': [{'var': ''}, 'Elemento Não Vistoriado']}]}, {'min': [{'var': 'current'}, {'var': 'accumulator'}]}, '0']}, 'dataType': 'float', 'displayName': 'Classificação Estrutural'} \t 2024-02-19 20:33:32.163146+00:00 leonardo.bruxel - leonardo bruxel\n",
      "{'id': 66, 'apiName': 'structuralClassification', 'autofill': {'reduce': [{'filter': [[{'var': 'formData.solDamageMon'}, {'var': 'formData.aleDamageMon'}, {'var': 'formData.foreheadDamageTwoMon'}, {'var': 'formData.desalignmentBody'}, {'var': 'formData.jointInfiltrated'}, {'var': 'formData.damageBody'}, {'var': 'formData.grailCoverDamage'}, {'var': 'formData.coverDamageMissing'}, {'var': 'formData.wallDamageMon'}], {'!=': [{'var': ''}, 'Elemento Não Vistoriado']}]}, {'min': [{'var': 'current'}, {'var': 'accumulator'}]}, '5']}, 'dataType': 'float', 'displayName': 'Classificação Estrutural'} \t 2024-02-16 19:02:06.263701+00:00 leonardo.bruxel - leonardo bruxel\n",
      "{'id': 66, 'apiName': 'structuralClassification', 'autofill': {'reduce': [{'filter': [[{'var': 'formData.solDamageMon'}, {'var': 'formData.aleDamageMon'}, {'var': 'formData.foreheadDamageTwoMon'}, {'var': 'formData.desalignmentBody'}, {'var': 'formData.jointInfiltrated'}, {'var': 'formData.damageBody'}, {'var': 'formData.grailCoverDamage'}, {'var': 'formData.coverDamageMissing'}, {'var': 'formData.wallDamageMon'}], {'!=': [{'var': ''}, 'Elemento Não Vistoriado']}]}, {'min': [{'var': 'current'}, {'var': 'accumulator'}]}, '5']}, 'dataType': 'float', 'displayName': 'Classificação Estrutural'} \t 2024-02-16 19:01:44.675931+00:00 leonardo.bruxel - leonardo bruxel\n",
      "{'id': 66, 'apiName': 'structuralClassification', 'autofill': {'reduce': [{'filter': [[{'var': 'formData.solDamageMon'}, {'var': 'formData.aleDamageMon'}, {'var': 'formData.foreheadDamageTwoMon'}, {'var': 'formData.desalignmentBody'}, {'var': 'formData.jointInfiltrated'}, {'var': 'formData.damageBody'}, {'var': 'formData.grailCoverDamage'}, {'var': 'formData.coverDamageMissing'}, {'var': 'formData.wallDamageMon'}], {'!=': [{'var': ''}, 'Elemento Não Vistoriado']}]}, {'min': [{'var': 'current'}, {'var': 'accumulator'}]}, '5']}, 'dataType': 'float', 'displayName': 'Classificação Estrutural'} \t 2024-02-16 14:57:10.792063+00:00 leonardo.bruxel - leonardo bruxel\n",
      "{'id': 66, 'apiName': 'structuralClassification', 'autofill': {'reduce': [{'filter': [[{'var': 'formData.solDamageMon'}, {'var': 'formData.aleDamageMon'}, {'var': 'formData.foreheadDamageTwoMon'}, {'var': 'formData.desalignmentBody'}, {'var': 'formData.jointInfiltrated'}, {'var': 'formData.damageBody'}, {'var': 'formData.grailCoverDamage'}, {'var': 'formData.coverDamageMissing'}, {'var': 'formData.wallDamageMon'}], {'!=': [{'var': ''}, 'Elemento Não Vistoriado']}]}, {'min': [{'var': 'current'}, {'var': 'accumulator'}]}, '5']}, 'dataType': 'float', 'displayName': 'Classificação Estrutural'} \t 2024-02-06 17:25:40.288684+00:00 pedro.gasparotti - Pedro Gasparotti\n"
     ]
    }
   ],
   "source": [
    "for i,a in enumerate(OccurrenceType.history.filter(name='Drenagem Profunda Ficha CCR').order_by('-history_date')):\n",
    "    for b in a.form_fields['fields']:\n",
    "        if 'structuralClassification' in b['apiName']:\n",
    "            print(b,'\\t',a.history_date,a.history_user)"
   ]
  },
  {
   "cell_type": "code",
   "execution_count": 36,
   "id": "bfa16577",
   "metadata": {},
   "outputs": [
    {
     "name": "stdout",
     "output_type": "stream",
     "text": [
      "{'id': 67, 'apiName': 'abroadClassification', 'autofill': {'reduce': [{'filter': [[{'var': 'formData.denseVegetation'}, {'var': 'formData.otherGadgetsObs'}, {'var': 'formData.otherGadgetsDamage'}, {'var': 'formData.otherGadgetsEros'}, {'var': 'formData.otherGadgetsPav'}], {'!=': [{'var': ''}, 'Elemento Não Vistoriado']}]}, {'min': [{'var': 'current'}, {'var': 'accumulator'}]}, '0']}, 'dataType': 'float', 'displayIf': {'!=': [{'var': 'isMobile'}, True]}, 'displayName': 'Classificação do Entorno'} \t 2024-05-08 14:31:58.881342+00:00 felippe.vanroo - Felippe Vanroo\n",
      "{'id': 67, 'apiName': 'abroadClassification', 'autofill': {'reduce': [{'filter': [[{'var': 'formData.denseVegetation'}, {'var': 'formData.otherGadgetsObs'}, {'var': 'formData.otherGadgetsDamage'}, {'var': 'formData.otherGadgetsEros'}, {'var': 'formData.otherGadgetsPav'}], {'!=': [{'var': ''}, 'Elemento Não Vistoriado']}]}, {'min': [{'var': 'current'}, {'var': 'accumulator'}]}, '0']}, 'dataType': 'float', 'displayIf': {'!=': [{'var': 'isMobile'}, True]}, 'displayName': 'Classificação do Entorno'} \t 2024-05-08 14:31:04.317949+00:00 felippe.vanroo - Felippe Vanroo\n",
      "{'id': 67, 'apiName': 'abroadClassification', 'autofill': {'reduce': [{'filter': [[{'var': 'formData.denseVegetation'}, {'var': 'formData.otherGadgetsObs'}, {'var': 'formData.otherGadgetsDamage'}, {'var': 'formData.otherGadgetsEros'}, {'var': 'formData.otherGadgetsPav'}], {'!=': [{'var': ''}, 'Elemento Não Vistoriado']}]}, {'min': [{'var': 'current'}, {'var': 'accumulator'}]}, '0']}, 'dataType': 'float', 'displayIf': {'!=': [{'var': 'isMobile'}, True]}, 'displayName': 'Classificação do Entorno'} \t 2024-03-22 20:14:09.274360+00:00 luan.poletti.ccr - Luan Poletti\n",
      "{'id': 67, 'apiName': 'abroadClassification', 'autofill': {'reduce': [{'filter': [[{'var': 'formData.denseVegetation'}, {'var': 'formData.otherGadgetsObs'}, {'var': 'formData.otherGadgetsDamage'}, {'var': 'formData.otherGadgetsEros'}, {'var': 'formData.otherGadgetsPav'}], {'!=': [{'var': ''}, 'Elemento Não Vistoriado']}]}, {'min': [{'var': 'current'}, {'var': 'accumulator'}]}, '0']}, 'dataType': 'float', 'displayName': 'Classificação do Entorno'} \t 2024-03-15 13:51:05.540568+00:00 luan.poletti.ccr - Luan Poletti\n",
      "{'id': 67, 'apiName': 'abroadClassification', 'autofill': {'reduce': [{'filter': [[{'var': 'formData.denseVegetation'}, {'var': 'formData.otherGadgetsObs'}, {'var': 'formData.otherGadgetsDamage'}, {'var': 'formData.otherGadgetsEros'}, {'var': 'formData.otherGadgetsPav'}], {'!=': [{'var': ''}, 'Elemento Não Vistoriado']}]}, {'min': [{'var': 'current'}, {'var': 'accumulator'}]}, '0']}, 'dataType': 'float', 'displayName': 'Classificação do Entorno'} \t 2024-03-15 13:43:32.913998+00:00 luan.poletti.ccr - Luan Poletti\n",
      "{'id': 67, 'apiName': 'abroadClassification', 'autofill': {'reduce': [{'filter': [[{'var': 'formData.denseVegetation'}, {'var': 'formData.otherGadgetsObs'}, {'var': 'formData.otherGadgetsDamage'}, {'var': 'formData.otherGadgetsEros'}, {'var': 'formData.otherGadgetsPav'}], {'!=': [{'var': ''}, 'Elemento Não Vistoriado']}]}, {'min': [{'var': 'current'}, {'var': 'accumulator'}]}, '0']}, 'dataType': 'float', 'displayName': 'Classificação do Entorno'} \t 2024-03-15 11:36:12.336423+00:00 luan.poletti.ccr - Luan Poletti\n",
      "{'id': 67, 'apiName': 'abroadClassification', 'autofill': {'reduce': [{'filter': [[{'var': 'formData.denseVegetation'}, {'var': 'formData.otherGadgetsObs'}, {'var': 'formData.otherGadgetsDamage'}, {'var': 'formData.otherGadgetsEros'}, {'var': 'formData.otherGadgetsPav'}], {'!=': [{'var': ''}, 'Elemento Não Vistoriado']}]}, {'min': [{'var': 'current'}, {'var': 'accumulator'}]}, '0']}, 'dataType': 'float', 'displayName': 'Classificação do Entorno'} \t 2024-03-14 21:19:07.919988+00:00 luan.poletti.ccr - Luan Poletti\n",
      "{'id': 67, 'apiName': 'abroadClassification', 'autofill': {'reduce': [{'filter': [[{'var': 'formData.denseVegetation'}, {'var': 'formData.otherGadgetsObs'}, {'var': 'formData.otherGadgetsDamage'}, {'var': 'formData.otherGadgetsEros'}, {'var': 'formData.otherGadgetsPav'}], {'!=': [{'var': ''}, 'Elemento Não Vistoriado']}]}, {'min': [{'var': 'current'}, {'var': 'accumulator'}]}, '0']}, 'dataType': 'float', 'displayName': 'Classificação do Entorno'} \t 2024-03-14 16:20:19.168933+00:00 luan.poletti.ccr - Luan Poletti\n",
      "{'id': 67, 'apiName': 'abroadClassification', 'autofill': {'reduce': [{'filter': [[{'var': 'formData.denseVegetation'}, {'var': 'formData.otherGadgetsObs'}, {'var': 'formData.otherGadgetsDamage'}, {'var': 'formData.otherGadgetsEros'}, {'var': 'formData.otherGadgetsPav'}], {'!=': [{'var': ''}, 'Elemento Não Vistoriado']}]}, {'min': [{'var': 'current'}, {'var': 'accumulator'}]}, '0']}, 'dataType': 'float', 'displayName': 'Classificação do Entorno'} \t 2024-03-12 18:54:14.959458+00:00 luan.poletti.ccr - Luan Poletti\n",
      "{'id': 67, 'apiName': 'abroadClassification', 'autofill': {'reduce': [{'filter': [[{'var': 'formData.denseVegetation'}, {'var': 'formData.otherGadgetsObs'}, {'var': 'formData.otherGadgetsDamage'}, {'var': 'formData.otherGadgetsEros'}, {'var': 'formData.otherGadgetsPav'}], {'!=': [{'var': ''}, 'Elemento Não Vistoriado']}]}, {'min': [{'var': 'current'}, {'var': 'accumulator'}]}, '0']}, 'dataType': 'float', 'displayName': 'Classificação do Entorno'} \t 2024-03-12 18:53:07.896473+00:00 luan.poletti.ccr - Luan Poletti\n",
      "{'id': 67, 'apiName': 'abroadClassification', 'autofill': {'reduce': [{'filter': [[{'var': 'formData.denseVegetation'}, {'var': 'formData.otherGadgetsObs'}, {'var': 'formData.otherGadgetsDamage'}, {'var': 'formData.otherGadgetsEros'}, {'var': 'formData.otherGadgetsPav'}], {'!=': [{'var': ''}, 'Elemento Não Vistoriado']}]}, {'min': [{'var': 'current'}, {'var': 'accumulator'}]}, '0']}, 'dataType': 'float', 'displayName': 'Classificação do Entorno'} \t 2024-02-29 12:52:41.174380+00:00 pedro.gasparotti - Pedro Gasparotti\n",
      "{'id': 67, 'apiName': 'abroadClassification', 'autofill': {'reduce': [{'filter': [[{'var': 'formData.denseVegetation'}, {'var': 'formData.otherGadgetsObs'}, {'var': 'formData.otherGadgetsDamage'}, {'var': 'formData.otherGadgetsEros'}, {'var': 'formData.otherGadgetsPav'}], {'!=': [{'var': ''}, 'Elemento Não Vistoriado']}]}, {'min': [{'var': 'current'}, {'var': 'accumulator'}]}, '0']}, 'dataType': 'float', 'displayName': 'Classificação do Entorno'} \t 2024-02-27 18:08:06.429842+00:00 leonardo.bruxel - leonardo bruxel\n",
      "{'id': 67, 'apiName': 'abroadClassification', 'autofill': {'reduce': [{'filter': [[{'var': 'formData.denseVegetation'}, {'var': 'formData.otherGadgetsObs'}, {'var': 'formData.otherGadgetsDamage'}, {'var': 'formData.otherGadgetsEros'}, {'var': 'formData.otherGadgetsPav'}], {'!=': [{'var': ''}, 'Elemento Não Vistoriado']}]}, {'min': [{'var': 'current'}, {'var': 'accumulator'}]}, '0']}, 'dataType': 'float', 'displayName': 'Classificação do Entorno'} \t 2024-02-26 13:50:37.143079+00:00 leonardo.bruxel - leonardo bruxel\n",
      "{'id': 67, 'apiName': 'abroadClassification', 'autofill': {'reduce': [{'filter': [[{'var': 'formData.denseVegetation'}, {'var': 'formData.otherGadgetsObs'}, {'var': 'formData.otherGadgetsDamage'}, {'var': 'formData.otherGadgetsEros'}, {'var': 'formData.otherGadgetsPav'}], {'!=': [{'var': ''}, 'Elemento Não Vistoriado']}]}, {'min': [{'var': 'current'}, {'var': 'accumulator'}]}, '0']}, 'dataType': 'float', 'displayName': 'Classificação do Entorno'} \t 2024-02-26 12:19:36.486117+00:00 pedro.gasparotti - Pedro Gasparotti\n",
      "{'id': 67, 'apiName': 'abroadClassification', 'autofill': {'reduce': [{'filter': [[{'var': 'formData.denseVegetation'}, {'var': 'formData.otherGadgetsObs'}, {'var': 'formData.otherGadgetsDamage'}, {'var': 'formData.otherGadgetsEros'}, {'var': 'formData.otherGadgetsPav'}], {'!=': [{'var': ''}, 'Elemento Não Vistoriado']}]}, {'min': [{'var': 'current'}, {'var': 'accumulator'}]}, '0']}, 'dataType': 'float', 'displayName': 'Classificação do Entorno'} \t 2024-02-23 13:37:12.402167+00:00 leonardo.bruxel - leonardo bruxel\n",
      "{'id': 67, 'apiName': 'abroadClassification', 'autofill': {'reduce': [{'filter': [[{'var': 'formData.denseVegetation'}, {'var': 'formData.otherGadgetsObs'}, {'var': 'formData.otherGadgetsDamage'}, {'var': 'formData.otherGadgetsEros'}, {'var': 'formData.otherGadgetsPav'}], {'!=': [{'var': ''}, 'Elemento Não Vistoriado']}]}, {'min': [{'var': 'current'}, {'var': 'accumulator'}]}, '0']}, 'dataType': 'float', 'displayName': 'Classificação do Entorno'} \t 2024-02-22 13:11:48.001663+00:00 luan.poletti.ccr - Luan Poletti\n",
      "{'id': 67, 'apiName': 'abroadClassification', 'autofill': {'reduce': [{'filter': [[{'var': 'formData.denseVegetation'}, {'var': 'formData.otherGadgetsObs'}, {'var': 'formData.otherGadgetsDamage'}, {'var': 'formData.otherGadgetsEros'}, {'var': 'formData.otherGadgetsPav'}], {'!=': [{'var': ''}, 'Elemento Não Vistoriado']}]}, {'min': [{'var': 'current'}, {'var': 'accumulator'}]}, '0']}, 'dataType': 'float', 'displayName': 'Classificação do Entorno'} \t 2024-02-20 19:17:00.587062+00:00 leonardo.bruxel - leonardo bruxel\n",
      "{'id': 67, 'apiName': 'abroadClassification', 'autofill': {'reduce': [{'filter': [[{'var': 'formData.denseVegetation'}, {'var': 'formData.otherGadgetsObs'}, {'var': 'formData.otherGadgetsDamage'}, {'var': 'formData.otherGadgetsEros'}, {'var': 'formData.otherGadgetsPav'}], {'!=': [{'var': ''}, 'Elemento Não Vistoriado']}]}, {'min': [{'var': 'current'}, {'var': 'accumulator'}]}, '0']}, 'dataType': 'float', 'displayName': 'Classificação do Entorno'} \t 2024-02-20 19:14:26.993423+00:00 leonardo.bruxel - leonardo bruxel\n",
      "{'id': 67, 'apiName': 'abroadClassification', 'autofill': {'reduce': [{'filter': [[{'var': 'formData.denseVegetation'}, {'var': 'formData.otherGadgetsObs'}, {'var': 'formData.otherGadgetsDamage'}, {'var': 'formData.otherGadgetsEros'}, {'var': 'formData.otherGadgetsPav'}], {'!=': [{'var': ''}, 'Elemento Não Vistoriado']}]}, {'min': [{'var': 'current'}, {'var': 'accumulator'}]}, '0']}, 'dataType': 'float', 'displayName': 'Classificação do Entorno'} \t 2024-02-20 14:32:12.092637+00:00 leonardo.bruxel - leonardo bruxel\n",
      "{'id': 67, 'apiName': 'abroadClassification', 'autofill': {'reduce': [{'filter': [[{'var': 'formData.denseVegetation'}, {'var': 'formData.otherGadgetsObs'}, {'var': 'formData.otherGadgetsDamage'}, {'var': 'formData.otherGadgetsEros'}, {'var': 'formData.otherGadgetsPav'}], {'!=': [{'var': ''}, 'Elemento Não Vistoriado']}]}, {'min': [{'var': 'current'}, {'var': 'accumulator'}]}, '0']}, 'dataType': 'float', 'displayName': 'Classificação do Entorno'} \t 2024-02-19 20:33:32.163146+00:00 leonardo.bruxel - leonardo bruxel\n",
      "{'id': 67, 'apiName': 'abroadClassification', 'autofill': {'reduce': [{'filter': [[{'var': 'formData.denseVegetation'}, {'var': 'formData.otherGadgetsObs'}, {'var': 'formData.otherGadgetsDamage'}, {'var': 'formData.otherGadgetsEros'}, {'var': 'formData.otherGadgetsPav'}], {'!=': [{'var': ''}, 'Elemento Não Vistoriado']}]}, {'min': [{'var': 'current'}, {'var': 'accumulator'}]}, '5']}, 'dataType': 'float', 'displayName': 'Classificação do Entorno'} \t 2024-02-16 19:02:06.263701+00:00 leonardo.bruxel - leonardo bruxel\n",
      "{'id': 67, 'apiName': 'abroadClassification', 'autofill': {'reduce': [{'filter': [[{'var': 'formData.denseVegetation'}, {'var': 'formData.otherGadgetsObs'}, {'var': 'formData.otherGadgetsDamage'}, {'var': 'formData.otherGadgetsEros'}, {'var': 'formData.otherGadgetsPav'}], {'!=': [{'var': ''}, 'Elemento Não Vistoriado']}]}, {'min': [{'var': 'current'}, {'var': 'accumulator'}]}, '5']}, 'dataType': 'float', 'displayName': 'Classificação do Entorno'} \t 2024-02-16 19:01:44.675931+00:00 leonardo.bruxel - leonardo bruxel\n",
      "{'id': 67, 'apiName': 'abroadClassification', 'autofill': {'reduce': [{'filter': [[{'var': 'formData.denseVegetation'}, {'var': 'formData.otherGadgetsObs'}, {'var': 'formData.otherGadgetsDamage'}, {'var': 'formData.otherGadgetsEros'}, {'var': 'formData.otherGadgetsPav'}], {'!=': [{'var': ''}, 'Elemento Não Vistoriado']}]}, {'min': [{'var': 'current'}, {'var': 'accumulator'}]}, '5']}, 'dataType': 'float', 'displayName': 'Classificação do Entorno'} \t 2024-02-16 14:57:10.792063+00:00 leonardo.bruxel - leonardo bruxel\n",
      "{'id': 67, 'apiName': 'abroadClassification', 'autofill': {'reduce': [{'filter': [[{'var': 'formData.denseVegetation'}, {'var': 'formData.otherGadgetsObs'}, {'var': 'formData.otherGadgetsDamage'}, {'var': 'formData.otherGadgetsEros'}, {'var': 'formData.otherGadgetsPav'}], {'!=': [{'var': ''}, 'Elemento Não Vistoriado']}]}, {'min': [{'var': 'current'}, {'var': 'accumulator'}]}, '5']}, 'dataType': 'float', 'displayName': 'Classificação do Entorno'} \t 2024-02-06 17:25:40.288684+00:00 pedro.gasparotti - Pedro Gasparotti\n"
     ]
    }
   ],
   "source": [
    "for i,a in enumerate(OccurrenceType.history.filter(name='Drenagem Profunda Ficha CCR').order_by('-history_date')):\n",
    "    for b in a.form_fields['fields']:\n",
    "        if 'abroadClassification' in b['apiName']:\n",
    "            print(b,'\\t',a.history_date,a.history_user)"
   ]
  },
  {
   "cell_type": "code",
   "execution_count": null,
   "id": "0bbe0fe6",
   "metadata": {},
   "outputs": [],
   "source": []
  }
 ],
 "metadata": {
  "kernelspec": {
   "display_name": "Django Shell-Plus",
   "language": "python",
   "name": "django_extensions"
  },
  "language_info": {
   "codemirror_mode": {
    "name": "ipython",
    "version": 3
   },
   "file_extension": ".py",
   "mimetype": "text/x-python",
   "name": "python",
   "nbconvert_exporter": "python",
   "pygments_lexer": "ipython3",
   "version": "3.8.16"
  }
 },
 "nbformat": 4,
 "nbformat_minor": 5
}
