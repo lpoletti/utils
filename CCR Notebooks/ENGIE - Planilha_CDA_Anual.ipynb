{
 "cells": [
  {
   "cell_type": "code",
   "execution_count": 1,
   "metadata": {},
   "outputs": [
    {
     "name": "stdout",
     "output_type": "stream",
     "text": [
      "STAGE=ENGIE_PRODUCTION\r\n"
     ]
    }
   ],
   "source": [
    "!cat .env"
   ]
  },
  {
   "cell_type": "code",
   "execution_count": 2,
   "metadata": {},
   "outputs": [
    {
     "data": {
      "text/plain": [
       "<QuerySet [<Company: e9fce210-f652-4d7d-befe-32e02a8f0f60: GSO - UHE-ITA>, <Company: 69c4238a-fc42-4a16-a312-364ff4cd10c6: GSB - UHE-ITA>, <Company: d436bd3c-e145-44f2-a5ee-797a67110efd: GES - UHE-ITA>]>"
      ]
     },
     "execution_count": 2,
     "metadata": {},
     "output_type": "execute_result"
    }
   ],
   "source": [
    "Company.objects.filter(name__icontains='ITA')"
   ]
  },
  {
   "cell_type": "code",
   "execution_count": 3,
   "metadata": {},
   "outputs": [],
   "source": [
    "from django.db.models import Q\n",
    "import datetime\n",
    "from openpyxl import Workbook\n",
    "from tqdm.notebook import tqdm\n",
    "from django.contrib.admin.utils import flatten\n",
    "from datetime import datetime\n",
    "from tqdm.notebook import tqdm\n",
    "import json"
   ]
  },
  {
   "cell_type": "code",
   "execution_count": 4,
   "metadata": {},
   "outputs": [],
   "source": [
    "def remove_empty_dict(properties):\n",
    "    l=[i for i in properties if i]\n",
    "    l=len(l)\n",
    "#     l=str(len(l))\n",
    "    \n",
    "    return l"
   ]
  },
  {
   "cell_type": "code",
   "execution_count": 5,
   "metadata": {},
   "outputs": [],
   "source": [
    "def get_properties(data):\n",
    "    p=0\n",
    "    if data != '':\n",
    "        if 'property_intersections' in data:\n",
    "            p=len(data['property_intersections'])\n",
    "        elif 'propertyIntersections' in data:\n",
    "            p=len(data['propertyIntersections'])\n",
    "    else:\n",
    "        p=0   \n",
    "#     p=''\n",
    "#     if data != '':\n",
    "#         if 'property_intersections' in data:\n",
    "#             p=str(len(data['property_intersections']))\n",
    "#         elif 'propertyIntersections' in data:\n",
    "#             p=str(len(data['propertyIntersections']))\n",
    "#     else:\n",
    "#         p='0'\n",
    "        \n",
    "    return p"
   ]
  },
  {
   "cell_type": "code",
   "execution_count": 6,
   "metadata": {},
   "outputs": [],
   "source": [
    "def get_value(field, occ, value):\n",
    "    values = occ.form_fields['fields']\n",
    "#     print(values)\n",
    "    item_translation = flatten([item['selectOptions']['options'] for item in values if item['displayName']==field])\n",
    "#     print(item_translation)\n",
    "    final_translation = {item['value']: item['name'] for item in item_translation}\n",
    "#     print(final_translation)\n",
    "    \n",
    "    if type(value) is str:\n",
    "        return final_translation[value]\n",
    "    elif type(value) is list:\n",
    "        return ', '.join(list([get_value(field, occ, a) for a in value]))"
   ]
  },
  {
   "cell_type": "code",
   "execution_count": 7,
   "metadata": {},
   "outputs": [],
   "source": [
    "def get_value_api(field, occ, value):\n",
    "    values = occ.form_fields['fields']\n",
    "    item_translation = flatten([item['selectOptions']['options'] for item in values if item['apiName']==field])\n",
    "#     print(item_translation)\n",
    "    final_translation = {item['value']: item['name'] for item in item_translation}\n",
    "#     print(final_translation)\n",
    "    \n",
    "    if type(value) is str:\n",
    "        return final_translation[value]\n",
    "    elif type(value) is list:\n",
    "        return ', '.join(list([get_value_api(field, occ, a) for a in value]))"
   ]
  },
  {
   "cell_type": "code",
   "execution_count": 8,
   "metadata": {},
   "outputs": [],
   "source": [
    "def get_value_inner(field, inner_field, occ, value):\n",
    "\n",
    "    values = occ.form_fields['fields']\n",
    "    item_translation = flatten([item['innerFields'] for item in values if item['displayName']==field])\n",
    "#     print(item_translation)\n",
    "    mid_translation = flatten([item['selectOptions']['options'] for item in item_translation if item['displayName'] == inner_field])\n",
    "#     print(mid_translation)\n",
    "    final_translation = {item['value']: item['name'] for item in mid_translation}\n",
    "#     print(final_translation)\n",
    "    return final_translation[value]"
   ]
  },
  {
   "cell_type": "code",
   "execution_count": 9,
   "metadata": {},
   "outputs": [],
   "source": [
    "def get_kind(kind):\n",
    "    \n",
    "    kind_dict={\"705\": \"Educação Ambiental\", \"706\": \"Programa de Visitas\"}\n",
    "    \n",
    "    return kind_dict[kind]"
   ]
  },
  {
   "cell_type": "code",
   "execution_count": 10,
   "metadata": {},
   "outputs": [
    {
     "data": {
      "text/plain": [
       "<Company: d436bd3c-e145-44f2-a5ee-797a67110efd: GES - UHE-ITA>"
      ]
     },
     "execution_count": 10,
     "metadata": {},
     "output_type": "execute_result"
    }
   ],
   "source": [
    "company=Company.objects.get(name='GES - UHE-ITA')\n",
    "company"
   ]
  },
  {
   "cell_type": "code",
   "execution_count": 11,
   "metadata": {},
   "outputs": [],
   "source": [
    "mes_do_relatorio = 12"
   ]
  },
  {
   "cell_type": "code",
   "execution_count": 11,
   "metadata": {},
   "outputs": [],
   "source": [
    "occurrences=OccurrenceRecord.objects.filter(Q(operational_control__uuid='75b22f2d-414f-4f08-af03-7992ba99d4cb')|Q(operational_control__uuid='efc6c6e3-88e6-489b-bc29-ab8609eea7af'), datetime__year=2023).order_by('datetime')"
   ]
  },
  {
   "cell_type": "code",
   "execution_count": 12,
   "metadata": {},
   "outputs": [
    {
     "data": {
      "text/plain": [
       "1933"
      ]
     },
     "execution_count": 12,
     "metadata": {},
     "output_type": "execute_result"
    }
   ],
   "source": [
    "occurrences.count()"
   ]
  },
  {
   "cell_type": "code",
   "execution_count": 13,
   "metadata": {},
   "outputs": [],
   "source": [
    "occ_agendamento1=OccurrenceType.objects.get(uuid='6004e68b-3a62-41e6-9c8e-188c47efdb0e')\n",
    "occ_atendimento1=OccurrenceType.objects.get(uuid='e1b126f4-1b1c-482d-9192-0aff757bcf53')\n",
    "occ_cadastro=OccurrenceType.objects.get(uuid='71702b2c-0d0c-41c1-b5c4-243a40785967')\n",
    "occ_agendamento2=OccurrenceType.objects.get(uuid='040500ff-cea2-4d11-9cb6-830792b1d62f')\n",
    "occ_atendimento2=OccurrenceType.objects.get(uuid='2607fa44-a397-4928-9080-b9adcb788e9f')"
   ]
  },
  {
   "cell_type": "code",
   "execution_count": 14,
   "metadata": {},
   "outputs": [
    {
     "data": {
      "application/vnd.jupyter.widget-view+json": {
       "model_id": "321abecf40f84710af635242c8a8052d",
       "version_major": 2,
       "version_minor": 0
      },
      "text/plain": [
       "  0%|          | 0/1933 [00:00<?, ?it/s]"
      ]
     },
     "metadata": {},
     "output_type": "display_data"
    },
    {
     "name": "stdout",
     "output_type": "stream",
     "text": [
      "UHIT-RG-2023.1677\tFirm matching query does not exist.\n"
     ]
    }
   ],
   "source": [
    "wb = Workbook()\n",
    "\n",
    "excel=[]\n",
    "\n",
    "ws_agendamento = wb.create_sheet(title='Agendamento')\n",
    "ws_atendimento = wb.create_sheet(title='Atendimento')\n",
    "# ws_cadastro = wb.create_sheet(title='Cadastro da parte interessada')\n",
    "\n",
    "ws_agendamento.append(['Serial', 'Criado por', 'Data', 'Parte interessada', 'Responsável - Nome', 'Responsável - Email',\n",
    "                       'Responsável - Telefone', 'Responsável - Função', 'Tipo de agendamento', 'Local',\n",
    "                       'Número de adultos', 'Número de crianças', 'Modalidade', 'Outros', 'Tema', 'Descrição',\n",
    "                       'Faixa Etária', 'Número total previsto', 'Modalidade - Participação', 'Outros - Participação',\n",
    "                       'Descrição - Participação', 'Tipo de público previsto', 'Número total previsto - Participação',\n",
    "                       'Data do agendamento', 'Hora', 'Duração', 'Período', 'Atendimento - Equipe', 'Atendimento - Pessoa',\n",
    "                       'Observações', 'Tipo', 'Município'])\n",
    "\n",
    "ws_atendimento.append(['Serial', 'Criado por', 'Data', 'Número do agendamento', 'Parte(s) interessada(s)',\n",
    "                       'Série/Ano', 'Data de início', 'Horário de início', 'Duração', 'Período', 'Modalidade',\n",
    "                       'Tema', 'Número de presentes', 'Ferramenta(s)', 'Descrição', 'Quantidade(s)',\n",
    "                       'Assuntos Tratados','Nomes dos palestrantes Internos', 'Nomes dos palestrantes Externos',\n",
    "                       'Observações', 'Tipo', 'Tipo de atendimento', 'Município'])\n",
    "\n",
    "# ws_cadastro.append(['Serial', 'Criado por', 'Criado em', 'Categoria', 'Segmento/Ocupação (Pessoa física)', 'Segmento (Associação)',\n",
    "#                    'Segmento (Empresa)', 'Segmento/Ocupação (Grupo organizado)', 'Segmento/Ocupação (Instituição de ensino)',\n",
    "#                    'Segmento (Outro)', 'Nome', 'Sigla', 'RG', 'CPF', 'CNPJ (Associação)', 'CNPJ (Empresa)', 'CNPJ (Grupo organizado)',\n",
    "#                    'CNPJ (Instituição de ensino)', 'Comunidade', 'Caixa Postal', 'Telefone', 'Email', 'Site', 'Rede social', 'WhatsApp',\n",
    "#                    'Representantes Institucionais - Nome', 'Representantes Institucionais - RG', 'Representantes Institucionais - CPF',\n",
    "#                    'Representantes Institucionais - Função', 'Representantes Institucionais - Email',\n",
    "#                    'Representantes Institucionais - Celular', 'Observações'])\n",
    "\n",
    "for a in tqdm(occurrences):\n",
    "    try:\n",
    "        if a.occurrence_type==occ_agendamento1:\n",
    "\n",
    "#             print(a.uuid, a.form_data['records'])\n",
    "\n",
    "            ws_agendamento.append([a.number, a.created_by.get_full_name(),\n",
    "                                   a.datetime.strftime(\"%d/%m/%Y\"),\n",
    "                                   ', '.join(list(filter(None, list(OccurrenceRecord.objects.filter(uuid__in=a.form_data['records']).values_list('form_data__intitution_name', flat=True))))) if 'records' in a.form_data else None,\n",
    "                                   a.form_data['responsible_name'] if 'responsible_name' in a.form_data else None,\n",
    "                                   a.form_data['responsible_email'] if 'responsible_email' in a.form_data else None,\n",
    "                                   a.form_data['responsible_phone'] if 'responsible_phone' in a.form_data else None,\n",
    "                                   a.form_data['responsible_function'] if 'responsible_function' in a.form_data else None,\n",
    "                                   get_value('Tipo de agendamento', occ_agendamento1, a.form_data['agendament_type']) if 'agendament_type' in a.form_data else None,\n",
    "                                   get_value('Local', occ_agendamento1, a.form_data['local']) if 'local' in a.form_data else None,\n",
    "                                   a.form_data['adults_number_descriptipn'] if 'adults_number_descriptipn' in a.form_data else None,\n",
    "                                   a.form_data['kinds_number_descriptipn'] if 'kinds_number_descriptipn' in a.form_data else None,\n",
    "                                   get_value('Modalidade', occ_agendamento1, a.form_data['service_modality']) if 'service_modality' in a.form_data else None,\n",
    "                                   a.form_data['other_service_modality'] if 'other_service_modality' in a.form_data else None,\n",
    "                                   get_value('Tema', occ_agendamento1, a.form_data['service_theme']) if 'service_theme' in a.form_data else None,\n",
    "                                   a.form_data['other_description'] if 'other_description' in a.form_data else None,\n",
    "                                   get_value('Faixa Etária', occ_agendamento1, a.form_data['expectative_audience_service']) if 'expectative_audience_service' in a.form_data else None,\n",
    "                                   a.form_data['expectative_total_service'] if 'expectative_total_service' in a.form_data else None,\n",
    "                                   get_value_api('eventsModality', occ_agendamento1, a.form_data['events_modality']) if 'events_modality' in a.form_data else None,\n",
    "                                   a.form_data['other_modality'] if 'other_modality' in a.form_data else None,\n",
    "                                   a.form_data['events_descripton'] if 'events_descripton' in a.form_data else None,\n",
    "                                   a.form_data['expectative_audience'] if 'expectative_audience' in a.form_data else None,\n",
    "                                   a.form_data['expectative_total'] if 'expectative_total' in a.form_data else None,\n",
    "                                   '/'.join(reversed(a.form_data['date_and_hour'].split('T')[0].split('-'))) if 'date_and_hour' in a.form_data and not not a.form_data['date_and_hour'] else None,\n",
    "                                   a.form_data['date_and_hour'].split('T')[1].split('.')[0].split(':')[0] + a.form_data['date_and_hour'].split('T')[1].split('.')[0].split(':')[1] if 'date_and_hour' in a.form_data and not not a.form_data['date_and_hour'] else None, # AQUI\n",
    "                                   a.form_data['duration'].split(':')[0] if 'duration' in a.form_data else None,\n",
    "                                   get_value('Unidade de referência', occ_agendamento1, a.form_data['period']) if 'period' in a.form_data else None,\n",
    "                                   Firm.objects.get(uuid=a.form_data['team']).name if 'team' in a.form_data else None,\n",
    "                                   User.objects.get(uuid=a.form_data['people']).get_full_name() if 'people' in a.form_data and a.form_data['people'] is not None else None,\n",
    "                                   a.form_data['observation'] if 'observation' in a.form_data else None,\n",
    "                                   get_kind(a.operational_control.kind), a.city.name if a.city else None\n",
    "                                  ])\n",
    "\n",
    "        if a.occurrence_type==occ_agendamento2:\n",
    "\n",
    "    #         print(a.uuid, a.form_data['records'])\n",
    "\n",
    "            ws_agendamento.append([a.number, a.created_by.get_full_name(),\n",
    "                                   a.datetime.strftime(\"%d/%m/%Y\"),                          \n",
    "                                   ', '.join(list(filter(None, list(OccurrenceRecord.objects.filter(uuid__in=a.form_data['records']).values_list('form_data__intitution_name', flat=True))))) if 'records' in a.form_data else None,\n",
    "                                   a.form_data['responsible_name'] if 'responsible_name' in a.form_data else None,\n",
    "                                   a.form_data['responsible_email'] if 'responsible_email' in a.form_data else None,\n",
    "                                   a.form_data['responsible_phone'] if 'responsible_phone' in a.form_data else None,\n",
    "                                   a.form_data['responsible_function'] if 'responsible_function' in a.form_data else None,\n",
    "                                   get_value('Tipo de agendamento', occ_agendamento2, a.form_data['agendament_type']) if 'agendament_type' in a.form_data else None,\n",
    "                                   get_value('Local', occ_agendamento2, a.form_data['local']) if 'local' in a.form_data else None,\n",
    "                                   a.form_data['adults_number_descriptipn'] if 'adults_number_descriptipn' in a.form_data else None,\n",
    "                                   a.form_data['kinds_number_descriptipn'] if 'kinds_number_descriptipn' in a.form_data else None,\n",
    "                                   get_value('Modalidade', occ_agendamento2, a.form_data['service_modality']) if 'service_modality' in a.form_data else None,\n",
    "                                   a.form_data['other_service_modality'] if 'other_service_modality' in a.form_data else None,\n",
    "                                   get_value('Tema', occ_agendamento2, a.form_data['service_theme']) if 'service_theme' in a.form_data else None,\n",
    "                                   a.form_data['other_description'] if 'other_description' in a.form_data else None,\n",
    "                                   get_value('Faixa Etária', occ_agendamento2, a.form_data['expectative_audience_service']) if 'expectative_audience_service' in a.form_data else None,\n",
    "                                   a.form_data['expectative_total_service'] if 'expectative_total_service' in a.form_data else None,\n",
    "                                   get_value_api('eventsModality', occ_agendamento2, a.form_data['events_modality']) if 'events_modality' in a.form_data else None,\n",
    "                                   a.form_data['other_modality'] if 'other_modality' in a.form_data else None,\n",
    "                                   a.form_data['events_descripton'] if 'events_descripton' in a.form_data else None,\n",
    "                                   a.form_data['expectative_audience'] if 'expectative_audience' in a.form_data else None,\n",
    "                                   a.form_data['expectative_total'] if 'expectative_total' in a.form_data else None,\n",
    "                                   '/'.join(reversed(a.form_data['date_and_hour'].split('T')[0].split('-'))) if 'date_and_hour' in a.form_data and not not a.form_data['date_and_hour'] else None,\n",
    "                                   a.form_data['date_and_hour'].split('T')[1].split('.')[0].split(':')[0] + a.form_data['date_and_hour'].split('T')[1].split('.')[0].split(':')[1] if 'date_and_hour' in a.form_data and not not a.form_data['date_and_hour'] else None, # AQUI\n",
    "                                   a.form_data['duration'].split(':')[0] if 'duration' in a.form_data else None,\n",
    "                                   get_value('Unidade de referência', occ_agendamento2, a.form_data['period']) if 'period' in a.form_data else None,\n",
    "                                   Firm.objects.get(uuid=a.form_data['team']).name if 'team' in a.form_data else None,\n",
    "                                   User.objects.get(uuid=a.form_data['people']).get_full_name() if 'people' in a.form_data and a.form_data['people'] is not None else None,\n",
    "                                   a.form_data['observation'] if 'observation' in a.form_data else None,\n",
    "                                    get_kind(a.operational_control.kind), a.city.name if a.city else None\n",
    "                                  ])\n",
    "\n",
    "        if a.occurrence_type==occ_atendimento1:\n",
    "\n",
    "    #         print(a.form_data['speakers'])\n",
    "\n",
    "            ws_atendimento.append([a.number, a.created_by.get_full_name(),\n",
    "                                  a.datetime.strftime(\"%d/%m/%Y\"),\n",
    "                                  ', '.join(list(a.number for a in OccurrenceRecord.objects.filter(uuid__in=a.form_data['records']))) if 'records' in a.form_data else None,\n",
    "                                  ', '.join(list(OccurrenceRecord.objects.filter(uuid__in = a.form_data['records_two']).values_list('form_data__intitution_name', flat = True))) if 'records_two' in a.form_data else None,\n",
    "                                  get_value('Série/Ano', occ_atendimento1, a.form_data['grade']) if 'grade' in a.form_data else None,\n",
    "                                  '/'.join(reversed(a.form_data['start_hour'].split('T')[0].split('-'))) if 'start_hour' in a.form_data and not not a.form_data['start_hour'] else None,\n",
    "                                  a.form_data['start_hour'].split('T')[1].split('.')[0].split(':')[0] + a.form_data['start_hour'].split('T')[1].split('.')[0].split(':')[1] if 'start_hour' in a.form_data and not not a.form_data['start_hour'] else None, # AQUI\n",
    "                                  a.form_data['duration'] if 'duration' in a.form_data else None,\n",
    "                                  get_value('Unidade de referência', occ_atendimento1, a.form_data['period']) if 'period' in a.form_data else None,\n",
    "                                  get_value('Modalidade', occ_atendimento1, a.form_data['modality']) if 'modality' in a.form_data else None, \n",
    "                                  get_value('Tema', occ_atendimento1, a.form_data['theme']) if 'theme' in a.form_data else None,\n",
    "                                  a.form_data['present_number'] if 'present_number' in a.form_data else None,\n",
    "                                  ', '.join([get_value_inner('Ferramentas utilizadas', 'Ferramenta', occ_atendimento1, item['tool']) for item in a.form_data['tools_used'] if item and 'tool' in item]) if 'tools_used' in a.form_data else None,\n",
    "                                  ', '.join([item['description'] for item in a.form_data['tools_used'] if item and 'description' in item]) if 'tools_used' in a.form_data else None,\n",
    "                                  ', '.join([str(item['quantity']) for item in a.form_data['tools_used'] if item and 'quantity' in item]) if 'tools_used' in a.form_data else None,\n",
    "                                  ', '.join([item['subjects_add'] for item in a.form_data['subjects'] if item and 'subjects_add' in item]) if 'subjects' in a.form_data else None,\n",
    "                                  ', '.join([User.objects.get(uuid=item['speaker_name']).get_full_name() for item in a.form_data['speakers'] if item and 'speaker_name' in item and item['speaker_name'] is not None]) if 'speakers' in a.form_data else None,\n",
    "                                  ', '.join([item['external_speak_name'] for item in a.form_data['speakers'] if item and 'external_speak_name' in item]) if 'speakers' in a.form_data else None,\n",
    "                                  a.form_data['notes'] if 'notes' in a.form_data else None,\n",
    "                                  get_kind(a.operational_control.kind),\n",
    "                                  get_value('Tipo', occ_atendimento1, a.form_data['type']) if 'type' in a.form_data else None,\n",
    "                                  a.city.name if a.city else None\n",
    "                                  ])\n",
    "\n",
    "        if a.occurrence_type==occ_atendimento2:\n",
    "\n",
    "    #         print(a.form_data['speakers'])\n",
    "\n",
    "            ws_atendimento.append([a.number,  a.created_by.get_full_name(),\n",
    "                                  a.datetime.strftime(\"%d/%m/%Y\"),                         \n",
    "                                  ', '.join(list(a.number for a in OccurrenceRecord.objects.filter(uuid__in=a.form_data['records']))) if 'records' in a.form_data else None,\n",
    "                                  ', '.join(list(OccurrenceRecord.objects.filter(uuid__in = a.form_data['records_two']).values_list('form_data__intitution_name', flat = True)))if 'records_two' in a.form_data else None,\n",
    "                                  get_value('Série/Ano', occ_atendimento2, a.form_data['grade']) if 'grade' in a.form_data else None,\n",
    "                                  '/'.join(reversed(a.form_data['start_hour'].split('T')[0].split('-'))) if 'start_hour' in a.form_data and not not a.form_data['start_hour'] else None,\n",
    "                                  a.form_data['start_hour'].split('T')[1].split('.')[0].split(':')[0] + a.form_data['start_hour'].split('T')[1].split('.')[0].split(':')[1] if 'start_hour' in a.form_data and not not a.form_data['start_hour'] else None, # AQUI\n",
    "                                  a.form_data['duration'] if 'duration' in a.form_data else None,\n",
    "                                  get_value('Unidade de referência', occ_atendimento2, a.form_data['period']) if 'period' in a.form_data else None,\n",
    "                                  get_value('Modalidade', occ_atendimento2, a.form_data['modality']) if 'modality' in a.form_data else None, \n",
    "                                  get_value('Tema', occ_atendimento2, a.form_data['theme']) if 'theme' in a.form_data else None,\n",
    "                                  a.form_data['present_number'] if 'present_number' in a.form_data else None,\n",
    "                                  ', '.join([get_value_inner('Ferramentas utilizadas', 'Ferramenta', occ_atendimento2, item['tool']) for item in a.form_data['tools_used'] if item and 'tool' in item]) if 'tools_used' in a.form_data else None,\n",
    "                                  ', '.join([item['description'] for item in a.form_data['tools_used'] if item and 'description' in item]) if 'tools_used' in a.form_data else None,\n",
    "                                  ', '.join([str(item['quantity']) for item in a.form_data['tools_used'] if item and 'quantity' in item]) if 'tools_used' in a.form_data else None,\n",
    "                                  ', '.join([item['subjects_add'] for item in a.form_data['subjects'] if item and 'subjects_add' in item]) if 'subjects' in a.form_data else None,\n",
    "                                  ', '.join([User.objects.get(uuid=item['speaker_name']).get_full_name() for item in a.form_data['speakers'] if item and 'speaker_name' in item and item['speaker_name'] is not None]) if 'speakers' in a.form_data else None,\n",
    "                                  ', '.join([item['external_speak_name'] for item in a.form_data['speakers'] if item and 'external_speak_name' in item]) if 'speakers' in a.form_data else None,\n",
    "                                  a.form_data['notes'] if 'notes' in a.form_data else None,\n",
    "                                  get_kind(a.operational_control.kind),\n",
    "                                  get_value('Tipo', occ_atendimento1, a.form_data['type']) if 'type' in a.form_data else None,\n",
    "                                  a.city.name if a.city else None\n",
    "                                  ])\n",
    "\n",
    "    #     if a.occurrence_type==occ_cadastro:\n",
    "\n",
    "    #         ws_cadastro.append([a.number, a.created_by.get_full_name(), a.created_at.strftime(\"%d/%m/%Y\"),\n",
    "    #                            get_value('Categoria', occ_cadastro, a.form_data['category']),\n",
    "    #                            get_value_api('individual', occ_cadastro, a.form_data['individual']) if 'individual' in a.form_data else None,\n",
    "    #                            a.form_data['association'] if 'association' in a.form_data else None,\n",
    "    #                            a.form_data['legal_entity'] if 'legal_entity' in a.form_data else None,\n",
    "    #                            get_value_api('organizedGroup', occ_cadastro, a.form_data['organized_group']) if 'organized_group' in a.form_data else None,\n",
    "    #                            get_value_api('teachingIntitution', occ_cadastro, a.form_data['teaching_intitution']) if 'teaching_intitution' in a.form_data else None,\n",
    "    #                            a.form_data['other_institution'] if 'other_institution' in a.form_data else None,\n",
    "    #                            a.form_data['intitution_name'] if 'intitution_name' in a.form_data else None,\n",
    "    #                            a.form_data['abbreviation_name'] if 'abbreviation_name' in a.form_data else None,\n",
    "    #                            a.form_data['general_register'] if 'general_register' in a.form_data else None,\n",
    "    #                            a.form_data['personal_register'] if 'personal_register' in a.form_data else None,\n",
    "    #                            a.form_data['association_register'] if 'association_register' in a.form_data else None,\n",
    "    #                            a.form_data['legal_entity_register'] if 'legal_entity_register' in a.form_data else None,\n",
    "    #                            a.form_data['organized_group_register'] if 'organized_group_register' in a.form_data else None,\n",
    "    #                            a.form_data['teaching_intitution_register'] if 'teaching_intitution_register' in a.form_data else None,\n",
    "    #                            a.form_data['description_community'] if 'description_community' in a.form_data else None,\n",
    "    #                            a.form_data['description_mailbox'] if 'description_mailbox' in a.form_data else None,\n",
    "    #                            a.form_data['description_phone'] if 'description_phone' in a.form_data else None,\n",
    "    #                            a.form_data['description_email'] if 'description_email' in a.form_data else None,\n",
    "    #                            a.form_data['description_web_site'] if 'description_web_site' in a.form_data else None,\n",
    "    #                            a.form_data['description_social_network'] if 'description_social_network' in a.form_data else None,\n",
    "    #                            a.form_data['description_whatsapp_contact'] if 'description_whatsapp_contact' in a.form_data else None,\n",
    "    #                            ', '.join([item['representative_name'] for item in a.form_data['institutional_representaties'] if item and 'representative_name' in item]) if 'institutional_representaties' in a.form_data else None,\n",
    "    #                            ', '.join([item['rg'] for item in a.form_data['institutional_representaties'] if item and 'rg' in item]) if 'institutional_representaties' in a.form_data else None,\n",
    "    #                            ', '.join([item['cpf'] for item in a.form_data['institutional_representaties'] if item and 'cpf' in item]) if 'institutional_representaties' in a.form_data else None,\n",
    "    #                            ', '.join([item['representative_function'] for item in a.form_data['institutional_representaties'] if item and 'representative_function' in item]) if 'institutional_representaties' in a.form_data else None,\n",
    "    #                            ', '.join([item['email'] for item in a.form_data['institutional_representaties'] if item and 'email' in item]) if 'institutional_representaties' in a.form_data else None,\n",
    "    #                            ', '.join([item['phone_number'] for item in a.form_data['institutional_representaties'] if item and 'phone_number' in item]) if 'institutional_representaties' in a.form_data else None,\n",
    "    #                            a.form_data['observation'] if 'observation' in a.form_data else None])\n",
    "    except Exception as e:\n",
    "        print(f'{a.number}\\t{e}')"
   ]
  },
  {
   "cell_type": "code",
   "execution_count": 15,
   "metadata": {},
   "outputs": [],
   "source": [
    "filename='Occorrencias_CDA_Anual_2023'\n",
    "wb.save(filename=filename + '.xlsx')"
   ]
  },
  {
   "cell_type": "code",
   "execution_count": null,
   "metadata": {},
   "outputs": [],
   "source": []
  },
  {
   "cell_type": "code",
   "execution_count": null,
   "metadata": {},
   "outputs": [],
   "source": []
  }
 ],
 "metadata": {
  "kernelspec": {
   "display_name": "Django Shell-Plus",
   "language": "python",
   "name": "django_extensions"
  },
  "language_info": {
   "codemirror_mode": {
    "name": "ipython",
    "version": 3
   },
   "file_extension": ".py",
   "mimetype": "text/x-python",
   "name": "python",
   "nbconvert_exporter": "python",
   "pygments_lexer": "ipython3",
   "version": "3.7.9"
  }
 },
 "nbformat": 4,
 "nbformat_minor": 4
}
