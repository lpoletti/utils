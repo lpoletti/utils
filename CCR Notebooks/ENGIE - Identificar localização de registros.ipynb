{
 "cells": [
  {
   "cell_type": "code",
   "execution_count": 1,
   "metadata": {},
   "outputs": [
    {
     "name": "stdout",
     "output_type": "stream",
     "text": [
      "STAGE=ENGIE_PRODUCTION\r\n"
     ]
    }
   ],
   "source": [
    "!cat .env"
   ]
  },
  {
   "cell_type": "code",
   "execution_count": 2,
   "metadata": {},
   "outputs": [],
   "source": [
    "import json\n",
    "from helpers.fields import FeatureCollectionField\n",
    "import shapefile as shpfile\n",
    "from tqdm.notebook import tqdm\n",
    "from helpers.histories import bulk_update_with_history\n",
    "from collections import defaultdict\n",
    "import random"
   ]
  },
  {
   "cell_type": "code",
   "execution_count": 3,
   "metadata": {},
   "outputs": [],
   "source": [
    "def get_uf(uf_name):\n",
    "    if type(uf_name) != 'str':\n",
    "        uf_code=str(uf_name)\n",
    "    \n",
    "    uf=[{'id': '12', 'name': 'AC'}, {'id': '27', 'name': 'AL' }, {'id': '13', 'name': 'AM'}, {'id': '16', 'name': 'AP'},\n",
    "       {'id': '29', 'name': 'BA'}, {'id': '23', 'name': 'CE' }, {'id': '53', 'name': 'DF'}, {'id': '32', 'name': 'ES'},\n",
    "       {'id': '52', 'name': 'GO'}, {'id': '21', 'name': 'MA' }, {'id': '31', 'name': 'MG'}, {'id': '50', 'name': 'MS'},\n",
    "       {'id': '51', 'name': 'MT'}, {'id': '15', 'name': 'PA' }, {'id': '25', 'name': 'PB'}, {'id': '26', 'name': 'PE'},\n",
    "       {'id': '22', 'name': 'PI'}, {'id': '41', 'name': 'PR' }, {'id': '33', 'name': 'RJ'}, {'id': '24', 'name': 'RN'},\n",
    "       {'id': '11', 'name': 'RO'}, {'id': '14', 'name': 'RR' }, {'id': '43', 'name': 'RS'}, {'id': '42', 'name': 'SC'},\n",
    "       {'id': '28', 'name': 'SE'}, {'id': '35', 'name': 'SP' }, {'id': '17', 'name': 'TO'}]\n",
    "    \n",
    "    uf_translation={item['name']: item['id'] for item in uf}\n",
    "\n",
    "    return uf_translation[uf_name]"
   ]
  },
  {
   "cell_type": "markdown",
   "metadata": {},
   "source": [
    "# Escolher unidade"
   ]
  },
  {
   "cell_type": "code",
   "execution_count": 4,
   "metadata": {},
   "outputs": [
    {
     "data": {
      "text/plain": [
       "(<QuerySet [<Company: c85df77c-3e92-4f60-b9c1-de5866400d2d: GSO - UHE-CANA BRAVA>, <Company: 571581e3-da3a-469e-8676-0dc58c056ef7: GSO - UHE-SALTO OSORIO>, <Company: 4920816b-507a-48b1-86d5-d2eef6c63a1f: GSO - UTPS>, <Company: 37b4c80d-3f2b-4032-8cac-6ba1560d3144: GSO - UHE-SALTO SANTIAGO>, <Company: 1021dc11-d12c-4a27-88d5-dde0fad2be7d: GSO - UHE-PONTE DE PEDRA>, <Company: f0bdd035-6af9-401c-9233-26c5cdd808b0: GSO - UHE-JAGUARA>, <Company: 62ad80d9-b785-4037-933a-e23238728220: GSO - UHE-MIRANDA>, <Company: 5f0ef84c-9985-4519-95de-e87fb4fcea21: GSO - PCH-JOSÉ GELÁZIO DA ROCHA>, <Company: 1b1511d1-6f28-4aed-b02c-7c820c5f9dbb: GSO - PCH-RONDONÓPOLIS>, <Company: 33e4f910-db35-46ce-95c8-56cad68eeb94: GSO - UHE-ESTREITO>, <Company: 1f30f493-c653-46c7-b073-0046837347f7: GSO - UHE-SÃO SALVADOR>, <Company: 110bce05-5146-421e-a5a7-ffb32ee92a91: GSO - UHE-PASSO FUNDO>, <Company: e9fce210-f652-4d7d-befe-32e02a8f0f60: GSO - UHE-ITA>, <Company: 4b4bfdad-f8b8-403b-93a6-26e846a6770b: GSO - UHE-MACHADINHO>]>,\n",
       " <User: engie - Suporte Kartado>)"
      ]
     },
     "execution_count": 4,
     "metadata": {},
     "output_type": "execute_result"
    }
   ],
   "source": [
    "company = Company.objects.filter(name__startswith='GSO')\n",
    "engie=User.objects.get(username='engie')\n",
    "company, engie"
   ]
  },
  {
   "cell_type": "code",
   "execution_count": 5,
   "metadata": {},
   "outputs": [],
   "source": [
    "estados=ShapeFile.objects.filter(name__icontains='municipios')"
   ]
  },
  {
   "cell_type": "code",
   "execution_count": 6,
   "metadata": {},
   "outputs": [
    {
     "data": {
      "text/plain": [
       "(10,\n",
       " ['GO_Municipios_2022',\n",
       "  'MA_Municipios_2022',\n",
       "  'MG_Municipios_2022',\n",
       "  'MS_Municipios_2022',\n",
       "  'MT_Municipios_2022',\n",
       "  'PR_Municipios_2022',\n",
       "  'RS_Municipios_2022',\n",
       "  'SP_Municipios_2022',\n",
       "  'TO_Municipios_2022',\n",
       "  'SC_Municipios_2022'])"
      ]
     },
     "execution_count": 6,
     "metadata": {},
     "output_type": "execute_result"
    }
   ],
   "source": [
    "estados.count(),list(estados.values_list('name',flat=True))"
   ]
  },
  {
   "cell_type": "code",
   "execution_count": 7,
   "metadata": {},
   "outputs": [
    {
     "data": {
      "text/plain": [
       "3"
      ]
     },
     "execution_count": 7,
     "metadata": {},
     "output_type": "execute_result"
    }
   ],
   "source": [
    "occs = OccurrenceType.objects.filter(\n",
    "    name__in=['Sinalização da rota de fuga','Ponto de encontro','Ficha descrita da estação remota']\n",
    ")\n",
    "occs.count()"
   ]
  },
  {
   "cell_type": "code",
   "execution_count": 11,
   "metadata": {
    "scrolled": true
   },
   "outputs": [
    {
     "data": {
      "application/vnd.jupyter.widget-view+json": {
       "model_id": "f5268f5a21a247188d73854f543a562d",
       "version_major": 2,
       "version_minor": 0
      },
      "text/plain": [
       "0it [00:00, ?it/s]"
      ]
     },
     "metadata": {},
     "output_type": "display_data"
    },
    {
     "name": "stdout",
     "output_type": "stream",
     "text": [
      "GSO - UHE-CANA BRAVA 11\n",
      "GSO - UHE-CANA BRAVA 17\n"
     ]
    },
    {
     "data": {
      "application/vnd.jupyter.widget-view+json": {
       "model_id": "193dbdb2963e4fbca7e4837f36019c10",
       "version_major": 2,
       "version_minor": 0
      },
      "text/plain": [
       "0it [00:00, ?it/s]"
      ]
     },
     "metadata": {},
     "output_type": "display_data"
    },
    {
     "name": "stdout",
     "output_type": "stream",
     "text": [
      "GSO - UHE-ESTREITO 116\n"
     ]
    },
    {
     "data": {
      "application/vnd.jupyter.widget-view+json": {
       "model_id": "22d4df2d4cbc4f60abe87fc4b434e3ae",
       "version_major": 2,
       "version_minor": 0
      },
      "text/plain": [
       "0it [00:00, ?it/s]"
      ]
     },
     "metadata": {},
     "output_type": "display_data"
    },
    {
     "name": "stdout",
     "output_type": "stream",
     "text": [
      "GSO - UHE-MIRANDA 40\n",
      "GSO - UHE-MIRANDA 16\n",
      "GSO - UHE-JAGUARA 54\n",
      "GSO - UHE-MIRANDA 27\n"
     ]
    },
    {
     "data": {
      "application/vnd.jupyter.widget-view+json": {
       "model_id": "70d1564bc0c149f1b2b2ffb1a90c71c9",
       "version_major": 2,
       "version_minor": 0
      },
      "text/plain": [
       "0it [00:00, ?it/s]"
      ]
     },
     "metadata": {},
     "output_type": "display_data"
    },
    {
     "name": "stdout",
     "output_type": "stream",
     "text": [
      "GSO - UHE-PONTE DE PEDRA 27\n"
     ]
    },
    {
     "data": {
      "application/vnd.jupyter.widget-view+json": {
       "model_id": "df69cdf650044cc39c70ccb7621a1ad7",
       "version_major": 2,
       "version_minor": 0
      },
      "text/plain": [
       "0it [00:00, ?it/s]"
      ]
     },
     "metadata": {},
     "output_type": "display_data"
    },
    {
     "name": "stdout",
     "output_type": "stream",
     "text": [
      "GSO - UHE-PONTE DE PEDRA 24\n",
      "GSO - PCH-RONDONÓPOLIS 4\n",
      "[51] Rondonópolis  |  None  |  PHRO-RG-2023.0001\n",
      "[51] Rondonópolis  |  None  |  PHJG-RG-2023.0001\n",
      "[51] Rondonópolis  |  None  |  PHJG-RG-2023.0002\n",
      "[51] Rondonópolis  |  None  |  PHRO-RG-2023.0002\n"
     ]
    },
    {
     "data": {
      "application/vnd.jupyter.widget-view+json": {
       "model_id": "14967180261d4faa89978a17a2184c98",
       "version_major": 2,
       "version_minor": 0
      },
      "text/plain": [
       "0it [00:00, ?it/s]"
      ]
     },
     "metadata": {},
     "output_type": "display_data"
    },
    {
     "name": "stdout",
     "output_type": "stream",
     "text": [
      "GSO - UHE-SALTO OSORIO 3\n",
      "GSO - UHE-SALTO OSORIO 4\n",
      "GSO - UHE-SALTO SANTIAGO 79\n",
      "GSO - UHE-SALTO OSORIO 3\n",
      "GSO - UHE-SALTO SANTIAGO 104\n",
      "[41] Saudade do Iguaçu  |  None  |  UHSS-PE-2023.0000\n",
      "[41] Saudade do Iguaçu  |  None  |  UHSS-PE-2023.0000\n",
      "[41] Saudade do Iguaçu  |  None  |  UHSS-PE-2023.0000\n",
      "[41] Saudade do Iguaçu  |  None  |  UHSS-PE-2023.0000\n",
      "[41] Saudade do Iguaçu  |  None  |  UHSS-PE-2023.0000\n",
      "GSO - UHE-SALTO SANTIAGO 26\n"
     ]
    },
    {
     "data": {
      "application/vnd.jupyter.widget-view+json": {
       "model_id": "53d4b9c82717435890715411d1f8668f",
       "version_major": 2,
       "version_minor": 0
      },
      "text/plain": [
       "0it [00:00, ?it/s]"
      ]
     },
     "metadata": {},
     "output_type": "display_data"
    },
    {
     "name": "stdout",
     "output_type": "stream",
     "text": [
      "GSO - UHE-ITA 27\n",
      "GSO - UHE-ITA 30\n",
      "[43] Barra do Rio Azul  |  None  |  UHIT-PE-2023.0036\n",
      "GSO - UTPS 3\n",
      "[43] Candiota  |  None  |  UTPS-RG-2023.0012\n",
      "[43] Candiota  |  None  |  UTPS-RG-2023.0011\n",
      "[43] Candiota  |  None  |  UTPS-RG-2023.0008\n",
      "GSO - UHE-PASSO FUNDO 40\n",
      "GSO - UTPS 2\n",
      "[43] Hulha Negra  |  None  |  UTPS-RG-2023.0009\n",
      "[43] Hulha Negra  |  None  |  UTPS-RG-2023.0010\n",
      "GSO - UHE-ITA 3\n",
      "GSO - UHE-MACHADINHO 2\n",
      "GSO - UHE-MACHADINHO 23\n",
      "[43] Maximiliano de Almeida  |  None  |  UHMA-PE-2023.0000\n",
      "GSO - UHE-PASSO FUNDO 6\n",
      "GSO - UHE-PASSO FUNDO 6\n"
     ]
    },
    {
     "data": {
      "application/vnd.jupyter.widget-view+json": {
       "model_id": "4dde4681f5c440aaa78ad181a1265d3d",
       "version_major": 2,
       "version_minor": 0
      },
      "text/plain": [
       "0it [00:00, ?it/s]"
      ]
     },
     "metadata": {},
     "output_type": "display_data"
    },
    {
     "name": "stdout",
     "output_type": "stream",
     "text": [
      "GSO - UHE-JAGUARA 11\n"
     ]
    },
    {
     "data": {
      "application/vnd.jupyter.widget-view+json": {
       "model_id": "9313939188184e7b873f1cb2d1707cc0",
       "version_major": 2,
       "version_minor": 0
      },
      "text/plain": [
       "0it [00:00, ?it/s]"
      ]
     },
     "metadata": {},
     "output_type": "display_data"
    },
    {
     "name": "stdout",
     "output_type": "stream",
     "text": [
      "GSO - UHE-ESTREITO 58\n",
      "GSO - UHE-SÃO SALVADOR 33\n",
      "GSO - UHE-SÃO SALVADOR 70\n"
     ]
    },
    {
     "data": {
      "application/vnd.jupyter.widget-view+json": {
       "model_id": "9d7f1da12a4249ed85039bf41bafee37",
       "version_major": 2,
       "version_minor": 0
      },
      "text/plain": [
       "0it [00:00, ?it/s]"
      ]
     },
     "metadata": {},
     "output_type": "display_data"
    },
    {
     "name": "stdout",
     "output_type": "stream",
     "text": [
      "GSO - UHE-ITA 95\n",
      "[42] Itá  |  None  |  UHIT-PE-2023.0035\n",
      "GSO - UHE-MACHADINHO 25\n",
      "[42] Piratuba  |  None  |  UHMA-PE-2023.0000\n"
     ]
    }
   ],
   "source": [
    "from tqdm.notebook import tqdm\n",
    "for estado in estados:\n",
    "    for cidades_props, cidades_geom in tqdm(zip(estado.properties,estado.geometry)):\n",
    "        query = OccurrenceRecord.objects.filter(company__in=company,occurrence_type__in=occs,geometry__intersects=cidades_geom)\n",
    "        if query.exists():\n",
    "            print(query[0].company.name,query.count())\n",
    "            for record in query:\n",
    "                cidade_decoded = cidades_props['NM_MUN'].encode('iso-8859-1').decode('utf-8')\n",
    "                if record.city is not None:\n",
    "                    pass\n",
    "                    if  record.city.name.lower() != cidade_decoded.lower():\n",
    "\n",
    "                        try:\n",
    "                            new_city=City.objects.filter(firm__company=record.company,name=cidade_decoded).first()\n",
    "                        except Exception as e:\n",
    "                            new_city=City(name=cidade_decoded,uf_code=get_uf(cidades_props['SIGLA_UF']))\n",
    "                            new_city.save()\n",
    "                        print(new_city,' | ',record.city.name,' | ',record.number)\n",
    "                        record.uf_code = record.new_city.uf_code\n",
    "                        record.city=new_city\n",
    "                        record.save()\n",
    "                else:\n",
    "                    try:\n",
    "                        new_city=City.objects.filter(firm__company=record.company,name=cidade_decoded).first()\n",
    "                    except Exception as e:\n",
    "                        new_city=City(name=cidade_decoded,uf_code=get_uf(cidades_props['SIGLA_UF']))\n",
    "                        new_city.save()\n",
    "                    print(new_city,' | ',record.city,' | ',record.number)\n",
    "                    record.uf_code = record.new_city.uf_code\n",
    "                    record.city=new_city\n",
    "                    record.save()\n"
   ]
  },
  {
   "cell_type": "code",
   "execution_count": null,
   "metadata": {},
   "outputs": [],
   "source": []
  },
  {
   "cell_type": "code",
   "execution_count": 14,
   "metadata": {
    "collapsed": true
   },
   "outputs": [
    {
     "data": {
      "application/vnd.jupyter.widget-view+json": {
       "model_id": "d0272d8f01914e02b55486c5d2062011",
       "version_major": 2,
       "version_minor": 0
      },
      "text/plain": [
       "0it [00:00, ?it/s]"
      ]
     },
     "metadata": {},
     "output_type": "display_data"
    },
    {
     "name": "stdout",
     "output_type": "stream",
     "text": [
      "GSO - UHE-CANA BRAVA 11\n",
      "GSO - UHE-CANA BRAVA 17\n"
     ]
    },
    {
     "data": {
      "application/vnd.jupyter.widget-view+json": {
       "model_id": "b14498b4477a4c06b07e68be0c6695a7",
       "version_major": 2,
       "version_minor": 0
      },
      "text/plain": [
       "0it [00:00, ?it/s]"
      ]
     },
     "metadata": {},
     "output_type": "display_data"
    },
    {
     "name": "stdout",
     "output_type": "stream",
     "text": [
      "GSO - UHE-ESTREITO 116\n"
     ]
    },
    {
     "data": {
      "application/vnd.jupyter.widget-view+json": {
       "model_id": "323a0dda0a424dcaa5972ffd98d8a0a4",
       "version_major": 2,
       "version_minor": 0
      },
      "text/plain": [
       "0it [00:00, ?it/s]"
      ]
     },
     "metadata": {},
     "output_type": "display_data"
    },
    {
     "name": "stdout",
     "output_type": "stream",
     "text": [
      "GSO - UHE-MIRANDA 40\n",
      "GSO - UHE-MIRANDA 16\n",
      "GSO - UHE-JAGUARA 54\n",
      "GSO - UHE-MIRANDA 27\n"
     ]
    },
    {
     "data": {
      "application/vnd.jupyter.widget-view+json": {
       "model_id": "b209691087304313982a7f91c6a67790",
       "version_major": 2,
       "version_minor": 0
      },
      "text/plain": [
       "0it [00:00, ?it/s]"
      ]
     },
     "metadata": {},
     "output_type": "display_data"
    },
    {
     "name": "stdout",
     "output_type": "stream",
     "text": [
      "GSO - UHE-PONTE DE PEDRA 27\n"
     ]
    },
    {
     "data": {
      "application/vnd.jupyter.widget-view+json": {
       "model_id": "ff9e075eedd44c9eb869c3120bc1d9e5",
       "version_major": 2,
       "version_minor": 0
      },
      "text/plain": [
       "0it [00:00, ?it/s]"
      ]
     },
     "metadata": {},
     "output_type": "display_data"
    },
    {
     "name": "stdout",
     "output_type": "stream",
     "text": [
      "GSO - UHE-PONTE DE PEDRA 24\n",
      "GSO - PCH-RONDONÓPOLIS 4\n"
     ]
    },
    {
     "data": {
      "application/vnd.jupyter.widget-view+json": {
       "model_id": "fd1a9c6c60c04ee480b89e9bfce1186b",
       "version_major": 2,
       "version_minor": 0
      },
      "text/plain": [
       "0it [00:00, ?it/s]"
      ]
     },
     "metadata": {},
     "output_type": "display_data"
    },
    {
     "name": "stdout",
     "output_type": "stream",
     "text": [
      "GSO - UHE-SALTO OSORIO 3\n",
      "GSO - UHE-SALTO OSORIO 4\n",
      "GSO - UHE-SALTO SANTIAGO 79\n",
      "GSO - UHE-SALTO OSORIO 3\n",
      "GSO - UHE-SALTO SANTIAGO 104\n",
      "GSO - UHE-SALTO SANTIAGO 26\n"
     ]
    },
    {
     "data": {
      "application/vnd.jupyter.widget-view+json": {
       "model_id": "e534f6d4805d435ea74177b7162fa78b",
       "version_major": 2,
       "version_minor": 0
      },
      "text/plain": [
       "0it [00:00, ?it/s]"
      ]
     },
     "metadata": {},
     "output_type": "display_data"
    },
    {
     "name": "stdout",
     "output_type": "stream",
     "text": [
      "GSO - UHE-ITA 27\n",
      "GSO - UHE-ITA 30\n",
      "GSO - UTPS 3\n",
      "GSO - UHE-PASSO FUNDO 40\n",
      "GSO - UTPS 2\n",
      "GSO - UHE-ITA 3\n",
      "GSO - UHE-MACHADINHO 2\n",
      "GSO - UHE-MACHADINHO 23\n",
      "GSO - UHE-PASSO FUNDO 6\n",
      "GSO - UHE-PASSO FUNDO 6\n"
     ]
    },
    {
     "data": {
      "application/vnd.jupyter.widget-view+json": {
       "model_id": "92b0919b2e024c508524035ba6311033",
       "version_major": 2,
       "version_minor": 0
      },
      "text/plain": [
       "0it [00:00, ?it/s]"
      ]
     },
     "metadata": {},
     "output_type": "display_data"
    },
    {
     "name": "stdout",
     "output_type": "stream",
     "text": [
      "GSO - UHE-JAGUARA 11\n"
     ]
    },
    {
     "data": {
      "application/vnd.jupyter.widget-view+json": {
       "model_id": "372568062a5e4441bc953c66290078aa",
       "version_major": 2,
       "version_minor": 0
      },
      "text/plain": [
       "0it [00:00, ?it/s]"
      ]
     },
     "metadata": {},
     "output_type": "display_data"
    },
    {
     "name": "stdout",
     "output_type": "stream",
     "text": [
      "GSO - UHE-ESTREITO 58\n",
      "GSO - UHE-SÃO SALVADOR 33\n",
      "GSO - UHE-SÃO SALVADOR 70\n"
     ]
    },
    {
     "data": {
      "application/vnd.jupyter.widget-view+json": {
       "model_id": "d9e8a215ba244d6da32f470bf54ee66c",
       "version_major": 2,
       "version_minor": 0
      },
      "text/plain": [
       "0it [00:00, ?it/s]"
      ]
     },
     "metadata": {},
     "output_type": "display_data"
    },
    {
     "name": "stdout",
     "output_type": "stream",
     "text": [
      "GSO - UHE-ITA 95\n",
      "GSO - UHE-MACHADINHO 25\n"
     ]
    }
   ],
   "source": [
    "for estado in estados:\n",
    "    for cidades_props, cidades_geom in tqdm(zip(estado.properties,estado.geometry)):\n",
    "        query = OccurrenceRecord.objects.filter(company__in=company,occurrence_type__in=occs,geometry__intersects=cidades_geom)\n",
    "        if query.exists():\n",
    "            print(query[0].company.name,query.count())\n",
    "            for record in query:\n",
    "                cidade_decoded = cidades_props['NM_MUN'].encode('iso-8859-1').decode('utf-8')\n",
    "                if record.uf_code == None:\n",
    "                    record.uf_code = record.city.uf_code\n",
    "                    record.save()\n",
    "                    "
   ]
  },
  {
   "cell_type": "code",
   "execution_count": 17,
   "metadata": {},
   "outputs": [
    {
     "data": {
      "text/plain": [
       "{'CD_MUN': '4220000',\n",
       " 'NM_MUN': 'BalneÃ¡rio RincÃ£o',\n",
       " 'AREA_KM2': 63.42,\n",
       " 'SIGLA_UF': 'SC'}"
      ]
     },
     "execution_count": 17,
     "metadata": {},
     "output_type": "execute_result"
    }
   ],
   "source": [
    "cidades_props[]"
   ]
  },
  {
   "cell_type": "code",
   "execution_count": null,
   "metadata": {},
   "outputs": [],
   "source": []
  }
 ],
 "metadata": {
  "kernelspec": {
   "display_name": "Django Shell-Plus",
   "language": "python",
   "name": "django_extensions"
  },
  "language_info": {
   "codemirror_mode": {
    "name": "ipython",
    "version": 3
   },
   "file_extension": ".py",
   "mimetype": "text/x-python",
   "name": "python",
   "nbconvert_exporter": "python",
   "pygments_lexer": "ipython3",
   "version": "3.7.9"
  }
 },
 "nbformat": 4,
 "nbformat_minor": 2
}
