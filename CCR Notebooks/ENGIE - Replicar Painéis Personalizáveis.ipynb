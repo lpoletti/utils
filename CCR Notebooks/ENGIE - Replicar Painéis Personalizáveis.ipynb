{
 "cells": [
  {
   "cell_type": "code",
   "execution_count": 1,
   "id": "79dc9f7a",
   "metadata": {},
   "outputs": [],
   "source": [
    "from simple_history.utils import bulk_create_with_history\n",
    "from tqdm.notebook import tqdm"
   ]
  },
  {
   "cell_type": "code",
   "execution_count": null,
   "id": "74262591",
   "metadata": {},
   "outputs": [],
   "source": [
    "paineis = ['Uso e ocupação irregular', 'Deferidos', 'Inadimplência de PU']"
   ]
  },
  {
   "cell_type": "code",
   "execution_count": null,
   "id": "4e12aa15",
   "metadata": {},
   "outputs": [],
   "source": [
    "rp_show_list=[]\n",
    "rp_show_mobile=[]\n",
    "rp_show_web=[]\n",
    "for rpjaguara in tqdm(RecordPanel.objects.filter(name__in=paineis,\n",
    "                                            company__name='GES - UHE-JAGUARA')):\n",
    "    for company in Company.objects.filter(name__startswith=\"GES\").exclude(name='GES - UHE-JAGUARA'):\n",
    "        rp = RecordPanel.objects.filter(name__icontains=rpjaguara.name,company=company)\n",
    "        if rp.exists():\n",
    "            continue\n",
    "        rpjaguara.uuid = None\n",
    "        rpjaguara.company = company\n",
    "        rpjaguara.save()\n",
    "        rpjaguara.viewer_permissions.add(*UserPermissions.objects.filter(companies=company))\n",
    "    "
   ]
  },
  {
   "cell_type": "code",
   "execution_count": null,
   "id": "82290ba4",
   "metadata": {},
   "outputs": [],
   "source": [
    "rp_show_list=[]\n",
    "rp_show_mobile=[]\n",
    "rp_show_web=[]\n",
    "for rp in tqdm(RecordPanel.objects.filter(name__in=paineis).exclude(company__name='GES - UHE-JAGUARA')):\n",
    "    for ui in tqdm(UserInCompany.objects.filter(name__startswith=\"GES\").exclude(name='GES - UHE-JAGUARA')):\n",
    "        last_order=RecordPanelShowList.objects.filter(panel__company=ui.company,user=ui.user).order_by('order').last().order\n",
    "        \n",
    "        if not RecordPanelShowList.objects.filter(panel=rp,user=ui.user).exists():\n",
    "            rpsl = RecordPanelShowList(panel=rp,user=ui.user,order=last_oder+1)\n",
    "            rp_show_list.append(rpsl)\n",
    "        \n",
    "        if not RecordPanelShowMobileMap.objects.filter(panel=rp,user=ui.user).exists():\n",
    "            rpsmm = RecordPanelShowMobileMap(panel=rp,user=ui.user)\n",
    "            rp_show_mobile.append(rpsmm)\n",
    "        \n",
    "        if not RecordPanelShowWebMap.objects.filter(panel=rp,user=ui.user).exists():\n",
    "            rpswm = RecordPanelShowWebMap(panel=rp,user=ui.user)\n",
    "            rp_show_web.append(rpswm)\n",
    "    "
   ]
  },
  {
   "cell_type": "code",
   "execution_count": null,
   "id": "17b31e40",
   "metadata": {},
   "outputs": [],
   "source": [
    "user=User.objects.get(username='engie')"
   ]
  },
  {
   "cell_type": "code",
   "execution_count": null,
   "id": "3fedbaf1",
   "metadata": {},
   "outputs": [],
   "source": [
    "result1 = bulk_create_with_history(rp_show_list, RecordPanelShowList, default_user=user)\n",
    "result2 = bulk_create_with_history(rp_show_mobile, RecordPanelShowMobileMap, default_user=user) \n",
    "result3 = bulk_create_with_history(rp_show_web, RecordPanelShowWebMap, default_user=user)"
   ]
  },
  {
   "cell_type": "code",
   "execution_count": null,
   "id": "14d09c7c",
   "metadata": {},
   "outputs": [],
   "source": []
  },
  {
   "cell_type": "code",
   "execution_count": null,
   "id": "76ff436d",
   "metadata": {},
   "outputs": [],
   "source": []
  },
  {
   "cell_type": "code",
   "execution_count": null,
   "id": "d56cbfc5",
   "metadata": {},
   "outputs": [],
   "source": []
  },
  {
   "cell_type": "code",
   "execution_count": null,
   "id": "b1af0106",
   "metadata": {},
   "outputs": [],
   "source": []
  },
  {
   "cell_type": "code",
   "execution_count": null,
   "id": "ae3c748e",
   "metadata": {},
   "outputs": [],
   "source": []
  },
  {
   "cell_type": "markdown",
   "id": "c2b4386c",
   "metadata": {},
   "source": [
    "# Acesso a todos os paineis GSO"
   ]
  },
  {
   "cell_type": "code",
   "execution_count": 2,
   "id": "9922a85a",
   "metadata": {},
   "outputs": [],
   "source": [
    "from simple_history.utils import bulk_create_with_history,\n",
    "from tqdm.notebook import tqdm"
   ]
  },
  {
   "cell_type": "code",
   "execution_count": 3,
   "id": "27de2f4c",
   "metadata": {},
   "outputs": [
    {
     "data": {
      "application/vnd.jupyter.widget-view+json": {
       "model_id": "b6715d8908d84ca3a0b33f5195702655",
       "version_major": 2,
       "version_minor": 0
      },
      "text/plain": [
       "  0%|          | 0/388 [00:00<?, ?it/s]"
      ]
     },
     "metadata": {},
     "output_type": "display_data"
    },
    {
     "data": {
      "application/vnd.jupyter.widget-view+json": {
       "model_id": "5aabf9b1c1fe485f9717476d49e485f2",
       "version_major": 2,
       "version_minor": 0
      },
      "text/plain": [
       "  0%|          | 0/5 [00:00<?, ?it/s]"
      ]
     },
     "metadata": {},
     "output_type": "display_data"
    },
    {
     "data": {
      "application/vnd.jupyter.widget-view+json": {
       "model_id": "b7426c31eaef41babd648e9b7b487460",
       "version_major": 2,
       "version_minor": 0
      },
      "text/plain": [
       "  0%|          | 0/5 [00:00<?, ?it/s]"
      ]
     },
     "metadata": {},
     "output_type": "display_data"
    },
    {
     "data": {
      "application/vnd.jupyter.widget-view+json": {
       "model_id": "e632a1c758ba41f3a7d1cb7531ebb397",
       "version_major": 2,
       "version_minor": 0
      },
      "text/plain": [
       "  0%|          | 0/5 [00:00<?, ?it/s]"
      ]
     },
     "metadata": {},
     "output_type": "display_data"
    },
    {
     "data": {
      "application/vnd.jupyter.widget-view+json": {
       "model_id": "3849e48c0762401f8b0bd3dbf9a7bbf6",
       "version_major": 2,
       "version_minor": 0
      },
      "text/plain": [
       "  0%|          | 0/5 [00:00<?, ?it/s]"
      ]
     },
     "metadata": {},
     "output_type": "display_data"
    },
    {
     "data": {
      "application/vnd.jupyter.widget-view+json": {
       "model_id": "035d5c86aabe4a8eae7c739945cecfaa",
       "version_major": 2,
       "version_minor": 0
      },
      "text/plain": [
       "  0%|          | 0/5 [00:00<?, ?it/s]"
      ]
     },
     "metadata": {},
     "output_type": "display_data"
    },
    {
     "data": {
      "application/vnd.jupyter.widget-view+json": {
       "model_id": "9f510757b2274f8da769105f59b4e549",
       "version_major": 2,
       "version_minor": 0
      },
      "text/plain": [
       "  0%|          | 0/5 [00:00<?, ?it/s]"
      ]
     },
     "metadata": {},
     "output_type": "display_data"
    },
    {
     "data": {
      "application/vnd.jupyter.widget-view+json": {
       "model_id": "3bb91c13a22e44679ba083b3ee462e40",
       "version_major": 2,
       "version_minor": 0
      },
      "text/plain": [
       "  0%|          | 0/5 [00:00<?, ?it/s]"
      ]
     },
     "metadata": {},
     "output_type": "display_data"
    },
    {
     "data": {
      "application/vnd.jupyter.widget-view+json": {
       "model_id": "adb4cfbfbabf41cbbf389bc80fb4a146",
       "version_major": 2,
       "version_minor": 0
      },
      "text/plain": [
       "  0%|          | 0/5 [00:00<?, ?it/s]"
      ]
     },
     "metadata": {},
     "output_type": "display_data"
    },
    {
     "data": {
      "application/vnd.jupyter.widget-view+json": {
       "model_id": "7f0b14450b7444e3bfad775846a84e13",
       "version_major": 2,
       "version_minor": 0
      },
      "text/plain": [
       "  0%|          | 0/5 [00:00<?, ?it/s]"
      ]
     },
     "metadata": {},
     "output_type": "display_data"
    },
    {
     "data": {
      "application/vnd.jupyter.widget-view+json": {
       "model_id": "a9c04e030d064fc8ad1d2f5e137069a8",
       "version_major": 2,
       "version_minor": 0
      },
      "text/plain": [
       "  0%|          | 0/5 [00:00<?, ?it/s]"
      ]
     },
     "metadata": {},
     "output_type": "display_data"
    },
    {
     "data": {
      "application/vnd.jupyter.widget-view+json": {
       "model_id": "a0171a7e0a7b40288f25c44de5526c59",
       "version_major": 2,
       "version_minor": 0
      },
      "text/plain": [
       "  0%|          | 0/5 [00:00<?, ?it/s]"
      ]
     },
     "metadata": {},
     "output_type": "display_data"
    },
    {
     "data": {
      "application/vnd.jupyter.widget-view+json": {
       "model_id": "f5db9ed549c74077b98a1fa43acbb87b",
       "version_major": 2,
       "version_minor": 0
      },
      "text/plain": [
       "  0%|          | 0/5 [00:00<?, ?it/s]"
      ]
     },
     "metadata": {},
     "output_type": "display_data"
    },
    {
     "data": {
      "application/vnd.jupyter.widget-view+json": {
       "model_id": "5baaffe00db74b3bbe8935a08913bbb5",
       "version_major": 2,
       "version_minor": 0
      },
      "text/plain": [
       "  0%|          | 0/5 [00:00<?, ?it/s]"
      ]
     },
     "metadata": {},
     "output_type": "display_data"
    },
    {
     "data": {
      "application/vnd.jupyter.widget-view+json": {
       "model_id": "58bb7e7b16d64eb5bb68ba6e34083e6a",
       "version_major": 2,
       "version_minor": 0
      },
      "text/plain": [
       "  0%|          | 0/5 [00:00<?, ?it/s]"
      ]
     },
     "metadata": {},
     "output_type": "display_data"
    },
    {
     "data": {
      "application/vnd.jupyter.widget-view+json": {
       "model_id": "060c98023f204f1782ae47d966717cd6",
       "version_major": 2,
       "version_minor": 0
      },
      "text/plain": [
       "  0%|          | 0/5 [00:00<?, ?it/s]"
      ]
     },
     "metadata": {},
     "output_type": "display_data"
    },
    {
     "data": {
      "application/vnd.jupyter.widget-view+json": {
       "model_id": "40a1f4b6aa7b4f1bb2d543310d57ae9f",
       "version_major": 2,
       "version_minor": 0
      },
      "text/plain": [
       "  0%|          | 0/5 [00:00<?, ?it/s]"
      ]
     },
     "metadata": {},
     "output_type": "display_data"
    },
    {
     "data": {
      "application/vnd.jupyter.widget-view+json": {
       "model_id": "1b70f28ebb034daaadaffc9693360eca",
       "version_major": 2,
       "version_minor": 0
      },
      "text/plain": [
       "  0%|          | 0/5 [00:00<?, ?it/s]"
      ]
     },
     "metadata": {},
     "output_type": "display_data"
    },
    {
     "data": {
      "application/vnd.jupyter.widget-view+json": {
       "model_id": "9caa4b9614ca46e0894300c1c9619162",
       "version_major": 2,
       "version_minor": 0
      },
      "text/plain": [
       "  0%|          | 0/5 [00:00<?, ?it/s]"
      ]
     },
     "metadata": {},
     "output_type": "display_data"
    },
    {
     "data": {
      "application/vnd.jupyter.widget-view+json": {
       "model_id": "404001dbc981435088e3bb3520f52aae",
       "version_major": 2,
       "version_minor": 0
      },
      "text/plain": [
       "  0%|          | 0/5 [00:00<?, ?it/s]"
      ]
     },
     "metadata": {},
     "output_type": "display_data"
    },
    {
     "data": {
      "application/vnd.jupyter.widget-view+json": {
       "model_id": "39025655a8434803b5166124b110349a",
       "version_major": 2,
       "version_minor": 0
      },
      "text/plain": [
       "  0%|          | 0/5 [00:00<?, ?it/s]"
      ]
     },
     "metadata": {},
     "output_type": "display_data"
    },
    {
     "data": {
      "application/vnd.jupyter.widget-view+json": {
       "model_id": "6c82ae2086c44ffd8dd0b2b5aa14a33d",
       "version_major": 2,
       "version_minor": 0
      },
      "text/plain": [
       "  0%|          | 0/5 [00:00<?, ?it/s]"
      ]
     },
     "metadata": {},
     "output_type": "display_data"
    },
    {
     "data": {
      "application/vnd.jupyter.widget-view+json": {
       "model_id": "2b6cc20445b84cf48c2e8de85bbea9c5",
       "version_major": 2,
       "version_minor": 0
      },
      "text/plain": [
       "  0%|          | 0/5 [00:00<?, ?it/s]"
      ]
     },
     "metadata": {},
     "output_type": "display_data"
    },
    {
     "data": {
      "application/vnd.jupyter.widget-view+json": {
       "model_id": "f66c7d49398042b29d52270d270bf6ab",
       "version_major": 2,
       "version_minor": 0
      },
      "text/plain": [
       "  0%|          | 0/5 [00:00<?, ?it/s]"
      ]
     },
     "metadata": {},
     "output_type": "display_data"
    },
    {
     "data": {
      "application/vnd.jupyter.widget-view+json": {
       "model_id": "84304afd25494d68906fcfac53763df2",
       "version_major": 2,
       "version_minor": 0
      },
      "text/plain": [
       "  0%|          | 0/5 [00:00<?, ?it/s]"
      ]
     },
     "metadata": {},
     "output_type": "display_data"
    },
    {
     "data": {
      "application/vnd.jupyter.widget-view+json": {
       "model_id": "2ccda6b3c71048f98c67f1f13e8c23a0",
       "version_major": 2,
       "version_minor": 0
      },
      "text/plain": [
       "  0%|          | 0/5 [00:00<?, ?it/s]"
      ]
     },
     "metadata": {},
     "output_type": "display_data"
    },
    {
     "data": {
      "application/vnd.jupyter.widget-view+json": {
       "model_id": "a85d6d27878944dcb965f42cc9930f22",
       "version_major": 2,
       "version_minor": 0
      },
      "text/plain": [
       "  0%|          | 0/5 [00:00<?, ?it/s]"
      ]
     },
     "metadata": {},
     "output_type": "display_data"
    },
    {
     "data": {
      "application/vnd.jupyter.widget-view+json": {
       "model_id": "1ffd62c436b145f8b9d85552dcdf1447",
       "version_major": 2,
       "version_minor": 0
      },
      "text/plain": [
       "  0%|          | 0/5 [00:00<?, ?it/s]"
      ]
     },
     "metadata": {},
     "output_type": "display_data"
    },
    {
     "data": {
      "application/vnd.jupyter.widget-view+json": {
       "model_id": "5d493ffaeba44946bc13816ae389e4b7",
       "version_major": 2,
       "version_minor": 0
      },
      "text/plain": [
       "  0%|          | 0/5 [00:00<?, ?it/s]"
      ]
     },
     "metadata": {},
     "output_type": "display_data"
    },
    {
     "data": {
      "application/vnd.jupyter.widget-view+json": {
       "model_id": "a8ead489a43747ea9326ee891c5483b1",
       "version_major": 2,
       "version_minor": 0
      },
      "text/plain": [
       "  0%|          | 0/5 [00:00<?, ?it/s]"
      ]
     },
     "metadata": {},
     "output_type": "display_data"
    },
    {
     "data": {
      "application/vnd.jupyter.widget-view+json": {
       "model_id": "35c4eb858e654c598e68140c87543ed9",
       "version_major": 2,
       "version_minor": 0
      },
      "text/plain": [
       "  0%|          | 0/5 [00:00<?, ?it/s]"
      ]
     },
     "metadata": {},
     "output_type": "display_data"
    },
    {
     "data": {
      "application/vnd.jupyter.widget-view+json": {
       "model_id": "639e2f5ffe004b60a94f58f7bffcee17",
       "version_major": 2,
       "version_minor": 0
      },
      "text/plain": [
       "  0%|          | 0/5 [00:00<?, ?it/s]"
      ]
     },
     "metadata": {},
     "output_type": "display_data"
    },
    {
     "data": {
      "application/vnd.jupyter.widget-view+json": {
       "model_id": "db59c604a4e84322a64b9aa1a1826d83",
       "version_major": 2,
       "version_minor": 0
      },
      "text/plain": [
       "  0%|          | 0/5 [00:00<?, ?it/s]"
      ]
     },
     "metadata": {},
     "output_type": "display_data"
    },
    {
     "data": {
      "application/vnd.jupyter.widget-view+json": {
       "model_id": "00418970d8a64204a956f196653c6220",
       "version_major": 2,
       "version_minor": 0
      },
      "text/plain": [
       "  0%|          | 0/5 [00:00<?, ?it/s]"
      ]
     },
     "metadata": {},
     "output_type": "display_data"
    },
    {
     "data": {
      "application/vnd.jupyter.widget-view+json": {
       "model_id": "80a19e51d73d43a2b773c226c5eaf431",
       "version_major": 2,
       "version_minor": 0
      },
      "text/plain": [
       "  0%|          | 0/5 [00:00<?, ?it/s]"
      ]
     },
     "metadata": {},
     "output_type": "display_data"
    },
    {
     "data": {
      "application/vnd.jupyter.widget-view+json": {
       "model_id": "ca843b1d6d1948b389222bc5014c74cc",
       "version_major": 2,
       "version_minor": 0
      },
      "text/plain": [
       "  0%|          | 0/5 [00:00<?, ?it/s]"
      ]
     },
     "metadata": {},
     "output_type": "display_data"
    },
    {
     "data": {
      "application/vnd.jupyter.widget-view+json": {
       "model_id": "26d7a5346b654c008ec3cd374ab87f14",
       "version_major": 2,
       "version_minor": 0
      },
      "text/plain": [
       "  0%|          | 0/5 [00:00<?, ?it/s]"
      ]
     },
     "metadata": {},
     "output_type": "display_data"
    },
    {
     "data": {
      "application/vnd.jupyter.widget-view+json": {
       "model_id": "3c30641b097046688ff82f21a878c6c9",
       "version_major": 2,
       "version_minor": 0
      },
      "text/plain": [
       "  0%|          | 0/5 [00:00<?, ?it/s]"
      ]
     },
     "metadata": {},
     "output_type": "display_data"
    },
    {
     "data": {
      "application/vnd.jupyter.widget-view+json": {
       "model_id": "d5a8d175e2c94e1fa2bb19aebf034108",
       "version_major": 2,
       "version_minor": 0
      },
      "text/plain": [
       "  0%|          | 0/5 [00:00<?, ?it/s]"
      ]
     },
     "metadata": {},
     "output_type": "display_data"
    },
    {
     "data": {
      "application/vnd.jupyter.widget-view+json": {
       "model_id": "25ad4c39e6bd4b92be4fb05f42d9240d",
       "version_major": 2,
       "version_minor": 0
      },
      "text/plain": [
       "  0%|          | 0/5 [00:00<?, ?it/s]"
      ]
     },
     "metadata": {},
     "output_type": "display_data"
    },
    {
     "data": {
      "application/vnd.jupyter.widget-view+json": {
       "model_id": "c641dde933cc4ab1940d44e8804f0e18",
       "version_major": 2,
       "version_minor": 0
      },
      "text/plain": [
       "  0%|          | 0/5 [00:00<?, ?it/s]"
      ]
     },
     "metadata": {},
     "output_type": "display_data"
    },
    {
     "data": {
      "application/vnd.jupyter.widget-view+json": {
       "model_id": "7a0e865c6255400d8701f705ddff4ec5",
       "version_major": 2,
       "version_minor": 0
      },
      "text/plain": [
       "  0%|          | 0/5 [00:00<?, ?it/s]"
      ]
     },
     "metadata": {},
     "output_type": "display_data"
    },
    {
     "data": {
      "application/vnd.jupyter.widget-view+json": {
       "model_id": "925e10d4a4ee459b93340da0aa9c46a8",
       "version_major": 2,
       "version_minor": 0
      },
      "text/plain": [
       "  0%|          | 0/5 [00:00<?, ?it/s]"
      ]
     },
     "metadata": {},
     "output_type": "display_data"
    },
    {
     "data": {
      "application/vnd.jupyter.widget-view+json": {
       "model_id": "7f5a5806cad840508021c9d12ef8420c",
       "version_major": 2,
       "version_minor": 0
      },
      "text/plain": [
       "  0%|          | 0/5 [00:00<?, ?it/s]"
      ]
     },
     "metadata": {},
     "output_type": "display_data"
    },
    {
     "data": {
      "application/vnd.jupyter.widget-view+json": {
       "model_id": "7cd34db8fa7c4dbf95a1a64e8b2773c6",
       "version_major": 2,
       "version_minor": 0
      },
      "text/plain": [
       "  0%|          | 0/5 [00:00<?, ?it/s]"
      ]
     },
     "metadata": {},
     "output_type": "display_data"
    },
    {
     "data": {
      "application/vnd.jupyter.widget-view+json": {
       "model_id": "e14477ac15d44a57add14fa2fc4d37ce",
       "version_major": 2,
       "version_minor": 0
      },
      "text/plain": [
       "  0%|          | 0/5 [00:00<?, ?it/s]"
      ]
     },
     "metadata": {},
     "output_type": "display_data"
    },
    {
     "data": {
      "application/vnd.jupyter.widget-view+json": {
       "model_id": "bed9f96dabc24e1691e75aeff127e81f",
       "version_major": 2,
       "version_minor": 0
      },
      "text/plain": [
       "  0%|          | 0/5 [00:00<?, ?it/s]"
      ]
     },
     "metadata": {},
     "output_type": "display_data"
    },
    {
     "data": {
      "application/vnd.jupyter.widget-view+json": {
       "model_id": "277713e424d248c8b30387d964c8a2f3",
       "version_major": 2,
       "version_minor": 0
      },
      "text/plain": [
       "  0%|          | 0/5 [00:00<?, ?it/s]"
      ]
     },
     "metadata": {},
     "output_type": "display_data"
    },
    {
     "data": {
      "application/vnd.jupyter.widget-view+json": {
       "model_id": "155c6d7f7f954b889ba467db0fb517be",
       "version_major": 2,
       "version_minor": 0
      },
      "text/plain": [
       "  0%|          | 0/5 [00:00<?, ?it/s]"
      ]
     },
     "metadata": {},
     "output_type": "display_data"
    },
    {
     "data": {
      "application/vnd.jupyter.widget-view+json": {
       "model_id": "762b67ddac4c43169a5e99ee9bb4c713",
       "version_major": 2,
       "version_minor": 0
      },
      "text/plain": [
       "  0%|          | 0/5 [00:00<?, ?it/s]"
      ]
     },
     "metadata": {},
     "output_type": "display_data"
    },
    {
     "data": {
      "application/vnd.jupyter.widget-view+json": {
       "model_id": "ed0ea07bad844176941d3286275c7da7",
       "version_major": 2,
       "version_minor": 0
      },
      "text/plain": [
       "  0%|          | 0/5 [00:00<?, ?it/s]"
      ]
     },
     "metadata": {},
     "output_type": "display_data"
    },
    {
     "data": {
      "application/vnd.jupyter.widget-view+json": {
       "model_id": "9e5df246325b422e990b996db7e39a7d",
       "version_major": 2,
       "version_minor": 0
      },
      "text/plain": [
       "  0%|          | 0/5 [00:00<?, ?it/s]"
      ]
     },
     "metadata": {},
     "output_type": "display_data"
    },
    {
     "data": {
      "application/vnd.jupyter.widget-view+json": {
       "model_id": "ad8b2bf1d08d4e02ade36b2470969f39",
       "version_major": 2,
       "version_minor": 0
      },
      "text/plain": [
       "  0%|          | 0/5 [00:00<?, ?it/s]"
      ]
     },
     "metadata": {},
     "output_type": "display_data"
    },
    {
     "data": {
      "application/vnd.jupyter.widget-view+json": {
       "model_id": "b2cc147a6077456ca5aa31b581d3d5ba",
       "version_major": 2,
       "version_minor": 0
      },
      "text/plain": [
       "  0%|          | 0/5 [00:00<?, ?it/s]"
      ]
     },
     "metadata": {},
     "output_type": "display_data"
    },
    {
     "data": {
      "application/vnd.jupyter.widget-view+json": {
       "model_id": "c696285fa642403b98ad5576f9caa247",
       "version_major": 2,
       "version_minor": 0
      },
      "text/plain": [
       "  0%|          | 0/5 [00:00<?, ?it/s]"
      ]
     },
     "metadata": {},
     "output_type": "display_data"
    },
    {
     "data": {
      "application/vnd.jupyter.widget-view+json": {
       "model_id": "7a6cb6ebaac545ebaf63f844041ff9a7",
       "version_major": 2,
       "version_minor": 0
      },
      "text/plain": [
       "  0%|          | 0/5 [00:00<?, ?it/s]"
      ]
     },
     "metadata": {},
     "output_type": "display_data"
    },
    {
     "data": {
      "application/vnd.jupyter.widget-view+json": {
       "model_id": "61c25aea58fe4a5a821a5d6e00ab068e",
       "version_major": 2,
       "version_minor": 0
      },
      "text/plain": [
       "  0%|          | 0/5 [00:00<?, ?it/s]"
      ]
     },
     "metadata": {},
     "output_type": "display_data"
    },
    {
     "data": {
      "application/vnd.jupyter.widget-view+json": {
       "model_id": "74c66f2dd74c4c32b9cd01ff6c3e1db9",
       "version_major": 2,
       "version_minor": 0
      },
      "text/plain": [
       "  0%|          | 0/5 [00:00<?, ?it/s]"
      ]
     },
     "metadata": {},
     "output_type": "display_data"
    },
    {
     "data": {
      "application/vnd.jupyter.widget-view+json": {
       "model_id": "38cf46efba8c4925aa450cc61228e749",
       "version_major": 2,
       "version_minor": 0
      },
      "text/plain": [
       "  0%|          | 0/5 [00:00<?, ?it/s]"
      ]
     },
     "metadata": {},
     "output_type": "display_data"
    },
    {
     "data": {
      "application/vnd.jupyter.widget-view+json": {
       "model_id": "b3dbecf90d72474c9d9d2898ba9cee27",
       "version_major": 2,
       "version_minor": 0
      },
      "text/plain": [
       "  0%|          | 0/5 [00:00<?, ?it/s]"
      ]
     },
     "metadata": {},
     "output_type": "display_data"
    },
    {
     "data": {
      "application/vnd.jupyter.widget-view+json": {
       "model_id": "2fad2a468f7c4a47b2f54c1f986a7c0f",
       "version_major": 2,
       "version_minor": 0
      },
      "text/plain": [
       "  0%|          | 0/5 [00:00<?, ?it/s]"
      ]
     },
     "metadata": {},
     "output_type": "display_data"
    },
    {
     "data": {
      "application/vnd.jupyter.widget-view+json": {
       "model_id": "ce9f4a5f40ed4ee3a756141f0e78ced6",
       "version_major": 2,
       "version_minor": 0
      },
      "text/plain": [
       "  0%|          | 0/5 [00:00<?, ?it/s]"
      ]
     },
     "metadata": {},
     "output_type": "display_data"
    },
    {
     "data": {
      "application/vnd.jupyter.widget-view+json": {
       "model_id": "7e918ab7f5084bd8a2ac3af626012150",
       "version_major": 2,
       "version_minor": 0
      },
      "text/plain": [
       "  0%|          | 0/5 [00:00<?, ?it/s]"
      ]
     },
     "metadata": {},
     "output_type": "display_data"
    },
    {
     "data": {
      "application/vnd.jupyter.widget-view+json": {
       "model_id": "c97268cb8ec34e978810b155cb2cd7e6",
       "version_major": 2,
       "version_minor": 0
      },
      "text/plain": [
       "  0%|          | 0/5 [00:00<?, ?it/s]"
      ]
     },
     "metadata": {},
     "output_type": "display_data"
    },
    {
     "data": {
      "application/vnd.jupyter.widget-view+json": {
       "model_id": "c80b2203d5ef49ff83b3535aed709cd8",
       "version_major": 2,
       "version_minor": 0
      },
      "text/plain": [
       "  0%|          | 0/5 [00:00<?, ?it/s]"
      ]
     },
     "metadata": {},
     "output_type": "display_data"
    },
    {
     "data": {
      "application/vnd.jupyter.widget-view+json": {
       "model_id": "8bb97b09eec8467baac721469c5908d5",
       "version_major": 2,
       "version_minor": 0
      },
      "text/plain": [
       "  0%|          | 0/5 [00:00<?, ?it/s]"
      ]
     },
     "metadata": {},
     "output_type": "display_data"
    },
    {
     "data": {
      "application/vnd.jupyter.widget-view+json": {
       "model_id": "533c6f172c9c46e0a94c9239da2cc9bc",
       "version_major": 2,
       "version_minor": 0
      },
      "text/plain": [
       "  0%|          | 0/5 [00:00<?, ?it/s]"
      ]
     },
     "metadata": {},
     "output_type": "display_data"
    },
    {
     "data": {
      "application/vnd.jupyter.widget-view+json": {
       "model_id": "5d013d1b59e24a998be996e45672ae9e",
       "version_major": 2,
       "version_minor": 0
      },
      "text/plain": [
       "  0%|          | 0/5 [00:00<?, ?it/s]"
      ]
     },
     "metadata": {},
     "output_type": "display_data"
    },
    {
     "data": {
      "application/vnd.jupyter.widget-view+json": {
       "model_id": "b68a4e29a90a4197b9b63491050b79ad",
       "version_major": 2,
       "version_minor": 0
      },
      "text/plain": [
       "  0%|          | 0/5 [00:00<?, ?it/s]"
      ]
     },
     "metadata": {},
     "output_type": "display_data"
    },
    {
     "data": {
      "application/vnd.jupyter.widget-view+json": {
       "model_id": "b8a921eca1f843d4ae38a02924114f24",
       "version_major": 2,
       "version_minor": 0
      },
      "text/plain": [
       "  0%|          | 0/5 [00:00<?, ?it/s]"
      ]
     },
     "metadata": {},
     "output_type": "display_data"
    },
    {
     "data": {
      "application/vnd.jupyter.widget-view+json": {
       "model_id": "8834577df1ff4e46843c1b7734eebacb",
       "version_major": 2,
       "version_minor": 0
      },
      "text/plain": [
       "  0%|          | 0/5 [00:00<?, ?it/s]"
      ]
     },
     "metadata": {},
     "output_type": "display_data"
    },
    {
     "data": {
      "application/vnd.jupyter.widget-view+json": {
       "model_id": "6ad90fb1d76e4bc3bdf183b5936a5389",
       "version_major": 2,
       "version_minor": 0
      },
      "text/plain": [
       "  0%|          | 0/5 [00:00<?, ?it/s]"
      ]
     },
     "metadata": {},
     "output_type": "display_data"
    },
    {
     "data": {
      "application/vnd.jupyter.widget-view+json": {
       "model_id": "a2fadd8db6ab4c26a6b0144ab8d659e4",
       "version_major": 2,
       "version_minor": 0
      },
      "text/plain": [
       "  0%|          | 0/5 [00:00<?, ?it/s]"
      ]
     },
     "metadata": {},
     "output_type": "display_data"
    },
    {
     "data": {
      "application/vnd.jupyter.widget-view+json": {
       "model_id": "4ed7f9494c9b4c7fa83d34d0b103ed88",
       "version_major": 2,
       "version_minor": 0
      },
      "text/plain": [
       "  0%|          | 0/5 [00:00<?, ?it/s]"
      ]
     },
     "metadata": {},
     "output_type": "display_data"
    },
    {
     "data": {
      "application/vnd.jupyter.widget-view+json": {
       "model_id": "8c471cfc47b24b4aa81e7d49019748ab",
       "version_major": 2,
       "version_minor": 0
      },
      "text/plain": [
       "  0%|          | 0/5 [00:00<?, ?it/s]"
      ]
     },
     "metadata": {},
     "output_type": "display_data"
    },
    {
     "data": {
      "application/vnd.jupyter.widget-view+json": {
       "model_id": "b2121e3924194bd0b78b881e22b31d7e",
       "version_major": 2,
       "version_minor": 0
      },
      "text/plain": [
       "  0%|          | 0/5 [00:00<?, ?it/s]"
      ]
     },
     "metadata": {},
     "output_type": "display_data"
    },
    {
     "data": {
      "application/vnd.jupyter.widget-view+json": {
       "model_id": "04ed3cf8a1944743a760ae73de3d6074",
       "version_major": 2,
       "version_minor": 0
      },
      "text/plain": [
       "  0%|          | 0/5 [00:00<?, ?it/s]"
      ]
     },
     "metadata": {},
     "output_type": "display_data"
    },
    {
     "data": {
      "application/vnd.jupyter.widget-view+json": {
       "model_id": "1b466973fecb4fa9a6b3e8c084b0a4c8",
       "version_major": 2,
       "version_minor": 0
      },
      "text/plain": [
       "  0%|          | 0/5 [00:00<?, ?it/s]"
      ]
     },
     "metadata": {},
     "output_type": "display_data"
    },
    {
     "data": {
      "application/vnd.jupyter.widget-view+json": {
       "model_id": "bfe634888a7e403e80a5d80bc49ee8a6",
       "version_major": 2,
       "version_minor": 0
      },
      "text/plain": [
       "  0%|          | 0/5 [00:00<?, ?it/s]"
      ]
     },
     "metadata": {},
     "output_type": "display_data"
    },
    {
     "data": {
      "application/vnd.jupyter.widget-view+json": {
       "model_id": "d572e12f2b4640b9a5082e0d23c53eea",
       "version_major": 2,
       "version_minor": 0
      },
      "text/plain": [
       "  0%|          | 0/5 [00:00<?, ?it/s]"
      ]
     },
     "metadata": {},
     "output_type": "display_data"
    },
    {
     "data": {
      "application/vnd.jupyter.widget-view+json": {
       "model_id": "74cac5d31bd241b58fa71ed142c3fcda",
       "version_major": 2,
       "version_minor": 0
      },
      "text/plain": [
       "  0%|          | 0/5 [00:00<?, ?it/s]"
      ]
     },
     "metadata": {},
     "output_type": "display_data"
    },
    {
     "data": {
      "application/vnd.jupyter.widget-view+json": {
       "model_id": "09da6ce9b7b7447caf9423e7281b3284",
       "version_major": 2,
       "version_minor": 0
      },
      "text/plain": [
       "  0%|          | 0/5 [00:00<?, ?it/s]"
      ]
     },
     "metadata": {},
     "output_type": "display_data"
    },
    {
     "data": {
      "application/vnd.jupyter.widget-view+json": {
       "model_id": "0f206d59f6be44d4bd1f484427d4d359",
       "version_major": 2,
       "version_minor": 0
      },
      "text/plain": [
       "  0%|          | 0/5 [00:00<?, ?it/s]"
      ]
     },
     "metadata": {},
     "output_type": "display_data"
    },
    {
     "data": {
      "application/vnd.jupyter.widget-view+json": {
       "model_id": "2fa271c0088544acb1212e4b50b7e679",
       "version_major": 2,
       "version_minor": 0
      },
      "text/plain": [
       "  0%|          | 0/5 [00:00<?, ?it/s]"
      ]
     },
     "metadata": {},
     "output_type": "display_data"
    },
    {
     "data": {
      "application/vnd.jupyter.widget-view+json": {
       "model_id": "021e20e4e0654e9b87f50bacb253d1e7",
       "version_major": 2,
       "version_minor": 0
      },
      "text/plain": [
       "  0%|          | 0/5 [00:00<?, ?it/s]"
      ]
     },
     "metadata": {},
     "output_type": "display_data"
    },
    {
     "data": {
      "application/vnd.jupyter.widget-view+json": {
       "model_id": "731dbc72fb7f4c84b13b2961b2178a88",
       "version_major": 2,
       "version_minor": 0
      },
      "text/plain": [
       "  0%|          | 0/5 [00:00<?, ?it/s]"
      ]
     },
     "metadata": {},
     "output_type": "display_data"
    },
    {
     "data": {
      "application/vnd.jupyter.widget-view+json": {
       "model_id": "0f896fa93d65455b9bec0d32b2ea504e",
       "version_major": 2,
       "version_minor": 0
      },
      "text/plain": [
       "  0%|          | 0/5 [00:00<?, ?it/s]"
      ]
     },
     "metadata": {},
     "output_type": "display_data"
    },
    {
     "data": {
      "application/vnd.jupyter.widget-view+json": {
       "model_id": "53e1e9b5616649aea06ec05e63d28ccc",
       "version_major": 2,
       "version_minor": 0
      },
      "text/plain": [
       "  0%|          | 0/5 [00:00<?, ?it/s]"
      ]
     },
     "metadata": {},
     "output_type": "display_data"
    },
    {
     "data": {
      "application/vnd.jupyter.widget-view+json": {
       "model_id": "5bfae261fa4e4661a34976f95b555d31",
       "version_major": 2,
       "version_minor": 0
      },
      "text/plain": [
       "  0%|          | 0/5 [00:00<?, ?it/s]"
      ]
     },
     "metadata": {},
     "output_type": "display_data"
    },
    {
     "data": {
      "application/vnd.jupyter.widget-view+json": {
       "model_id": "038180e2f15b4f2f9269a10e64a35d49",
       "version_major": 2,
       "version_minor": 0
      },
      "text/plain": [
       "  0%|          | 0/5 [00:00<?, ?it/s]"
      ]
     },
     "metadata": {},
     "output_type": "display_data"
    },
    {
     "data": {
      "application/vnd.jupyter.widget-view+json": {
       "model_id": "0a0b3ceff3384147981c976bb87f3448",
       "version_major": 2,
       "version_minor": 0
      },
      "text/plain": [
       "  0%|          | 0/5 [00:00<?, ?it/s]"
      ]
     },
     "metadata": {},
     "output_type": "display_data"
    },
    {
     "data": {
      "application/vnd.jupyter.widget-view+json": {
       "model_id": "d7aeab7d278641a0a34e05cc201a7099",
       "version_major": 2,
       "version_minor": 0
      },
      "text/plain": [
       "  0%|          | 0/5 [00:00<?, ?it/s]"
      ]
     },
     "metadata": {},
     "output_type": "display_data"
    },
    {
     "data": {
      "application/vnd.jupyter.widget-view+json": {
       "model_id": "fab627cb593d4a9ab53c1c4d0f87f46e",
       "version_major": 2,
       "version_minor": 0
      },
      "text/plain": [
       "  0%|          | 0/5 [00:00<?, ?it/s]"
      ]
     },
     "metadata": {},
     "output_type": "display_data"
    },
    {
     "data": {
      "application/vnd.jupyter.widget-view+json": {
       "model_id": "3143b973c3024253b46909f9292812cc",
       "version_major": 2,
       "version_minor": 0
      },
      "text/plain": [
       "  0%|          | 0/5 [00:00<?, ?it/s]"
      ]
     },
     "metadata": {},
     "output_type": "display_data"
    },
    {
     "data": {
      "application/vnd.jupyter.widget-view+json": {
       "model_id": "58ab159caee948d5a5cca0f8bfd9492e",
       "version_major": 2,
       "version_minor": 0
      },
      "text/plain": [
       "  0%|          | 0/5 [00:00<?, ?it/s]"
      ]
     },
     "metadata": {},
     "output_type": "display_data"
    },
    {
     "data": {
      "application/vnd.jupyter.widget-view+json": {
       "model_id": "5777e69c669747c7838ad699adb7253f",
       "version_major": 2,
       "version_minor": 0
      },
      "text/plain": [
       "  0%|          | 0/5 [00:00<?, ?it/s]"
      ]
     },
     "metadata": {},
     "output_type": "display_data"
    },
    {
     "data": {
      "application/vnd.jupyter.widget-view+json": {
       "model_id": "d3ca4be0565a415ab8b3a265515abb2a",
       "version_major": 2,
       "version_minor": 0
      },
      "text/plain": [
       "  0%|          | 0/5 [00:00<?, ?it/s]"
      ]
     },
     "metadata": {},
     "output_type": "display_data"
    },
    {
     "data": {
      "application/vnd.jupyter.widget-view+json": {
       "model_id": "4190a314131843f79e2371e23d05509e",
       "version_major": 2,
       "version_minor": 0
      },
      "text/plain": [
       "  0%|          | 0/5 [00:00<?, ?it/s]"
      ]
     },
     "metadata": {},
     "output_type": "display_data"
    },
    {
     "data": {
      "application/vnd.jupyter.widget-view+json": {
       "model_id": "ba7f2abaad2b46f0880e992e9ce20bc8",
       "version_major": 2,
       "version_minor": 0
      },
      "text/plain": [
       "  0%|          | 0/5 [00:00<?, ?it/s]"
      ]
     },
     "metadata": {},
     "output_type": "display_data"
    },
    {
     "data": {
      "application/vnd.jupyter.widget-view+json": {
       "model_id": "c13bf96d804647be8f560c922bda209b",
       "version_major": 2,
       "version_minor": 0
      },
      "text/plain": [
       "  0%|          | 0/5 [00:00<?, ?it/s]"
      ]
     },
     "metadata": {},
     "output_type": "display_data"
    },
    {
     "data": {
      "application/vnd.jupyter.widget-view+json": {
       "model_id": "1e79df7f83844412adc43e7831ac0e3f",
       "version_major": 2,
       "version_minor": 0
      },
      "text/plain": [
       "  0%|          | 0/5 [00:00<?, ?it/s]"
      ]
     },
     "metadata": {},
     "output_type": "display_data"
    },
    {
     "data": {
      "application/vnd.jupyter.widget-view+json": {
       "model_id": "e3789ecebb874d3a9a219ae3b741e810",
       "version_major": 2,
       "version_minor": 0
      },
      "text/plain": [
       "  0%|          | 0/5 [00:00<?, ?it/s]"
      ]
     },
     "metadata": {},
     "output_type": "display_data"
    },
    {
     "data": {
      "application/vnd.jupyter.widget-view+json": {
       "model_id": "f975c07a2d124ce7b6248770143c7d86",
       "version_major": 2,
       "version_minor": 0
      },
      "text/plain": [
       "  0%|          | 0/5 [00:00<?, ?it/s]"
      ]
     },
     "metadata": {},
     "output_type": "display_data"
    },
    {
     "data": {
      "application/vnd.jupyter.widget-view+json": {
       "model_id": "cfdcd9f799ec45e4b7aa2e1e2827b3f3",
       "version_major": 2,
       "version_minor": 0
      },
      "text/plain": [
       "  0%|          | 0/5 [00:00<?, ?it/s]"
      ]
     },
     "metadata": {},
     "output_type": "display_data"
    },
    {
     "data": {
      "application/vnd.jupyter.widget-view+json": {
       "model_id": "fdd52630247a40c8a8eba5b72016ca62",
       "version_major": 2,
       "version_minor": 0
      },
      "text/plain": [
       "  0%|          | 0/5 [00:00<?, ?it/s]"
      ]
     },
     "metadata": {},
     "output_type": "display_data"
    },
    {
     "data": {
      "application/vnd.jupyter.widget-view+json": {
       "model_id": "d793d1aff0e5469e8d65a4c7981b42eb",
       "version_major": 2,
       "version_minor": 0
      },
      "text/plain": [
       "  0%|          | 0/5 [00:00<?, ?it/s]"
      ]
     },
     "metadata": {},
     "output_type": "display_data"
    },
    {
     "data": {
      "application/vnd.jupyter.widget-view+json": {
       "model_id": "46662eff908f4887839118416ebba6ff",
       "version_major": 2,
       "version_minor": 0
      },
      "text/plain": [
       "  0%|          | 0/5 [00:00<?, ?it/s]"
      ]
     },
     "metadata": {},
     "output_type": "display_data"
    },
    {
     "data": {
      "application/vnd.jupyter.widget-view+json": {
       "model_id": "cbb69717f8264a2d9902e68e69e86331",
       "version_major": 2,
       "version_minor": 0
      },
      "text/plain": [
       "  0%|          | 0/5 [00:00<?, ?it/s]"
      ]
     },
     "metadata": {},
     "output_type": "display_data"
    },
    {
     "data": {
      "application/vnd.jupyter.widget-view+json": {
       "model_id": "d4ceca589dc24937a3a1d4c8be799a92",
       "version_major": 2,
       "version_minor": 0
      },
      "text/plain": [
       "  0%|          | 0/5 [00:00<?, ?it/s]"
      ]
     },
     "metadata": {},
     "output_type": "display_data"
    },
    {
     "data": {
      "application/vnd.jupyter.widget-view+json": {
       "model_id": "8cff25ea54664cd5bb610a949fbee39b",
       "version_major": 2,
       "version_minor": 0
      },
      "text/plain": [
       "  0%|          | 0/5 [00:00<?, ?it/s]"
      ]
     },
     "metadata": {},
     "output_type": "display_data"
    },
    {
     "data": {
      "application/vnd.jupyter.widget-view+json": {
       "model_id": "c590c3f742174cdaa7f89de7e2092585",
       "version_major": 2,
       "version_minor": 0
      },
      "text/plain": [
       "  0%|          | 0/5 [00:00<?, ?it/s]"
      ]
     },
     "metadata": {},
     "output_type": "display_data"
    },
    {
     "data": {
      "application/vnd.jupyter.widget-view+json": {
       "model_id": "44e3312a6dd04e18920a676e6c7bd15a",
       "version_major": 2,
       "version_minor": 0
      },
      "text/plain": [
       "  0%|          | 0/5 [00:00<?, ?it/s]"
      ]
     },
     "metadata": {},
     "output_type": "display_data"
    },
    {
     "data": {
      "application/vnd.jupyter.widget-view+json": {
       "model_id": "ac795501a5594e0f9386eb2684feecc6",
       "version_major": 2,
       "version_minor": 0
      },
      "text/plain": [
       "  0%|          | 0/5 [00:00<?, ?it/s]"
      ]
     },
     "metadata": {},
     "output_type": "display_data"
    },
    {
     "data": {
      "application/vnd.jupyter.widget-view+json": {
       "model_id": "0d482547d6da487797952d38330b0faa",
       "version_major": 2,
       "version_minor": 0
      },
      "text/plain": [
       "  0%|          | 0/5 [00:00<?, ?it/s]"
      ]
     },
     "metadata": {},
     "output_type": "display_data"
    },
    {
     "data": {
      "application/vnd.jupyter.widget-view+json": {
       "model_id": "346e23da726c47288d8aa22593ad06fa",
       "version_major": 2,
       "version_minor": 0
      },
      "text/plain": [
       "  0%|          | 0/5 [00:00<?, ?it/s]"
      ]
     },
     "metadata": {},
     "output_type": "display_data"
    },
    {
     "data": {
      "application/vnd.jupyter.widget-view+json": {
       "model_id": "29195164ccf14e20b9054df305d805c2",
       "version_major": 2,
       "version_minor": 0
      },
      "text/plain": [
       "  0%|          | 0/5 [00:00<?, ?it/s]"
      ]
     },
     "metadata": {},
     "output_type": "display_data"
    },
    {
     "data": {
      "application/vnd.jupyter.widget-view+json": {
       "model_id": "bfcede7a8e2c48a19cd965e26a964fb4",
       "version_major": 2,
       "version_minor": 0
      },
      "text/plain": [
       "  0%|          | 0/5 [00:00<?, ?it/s]"
      ]
     },
     "metadata": {},
     "output_type": "display_data"
    },
    {
     "data": {
      "application/vnd.jupyter.widget-view+json": {
       "model_id": "f221fef2a5204615a9a872a15d402c43",
       "version_major": 2,
       "version_minor": 0
      },
      "text/plain": [
       "  0%|          | 0/5 [00:00<?, ?it/s]"
      ]
     },
     "metadata": {},
     "output_type": "display_data"
    },
    {
     "data": {
      "application/vnd.jupyter.widget-view+json": {
       "model_id": "6cbab564449748eead3594ebebb0dd13",
       "version_major": 2,
       "version_minor": 0
      },
      "text/plain": [
       "  0%|          | 0/5 [00:00<?, ?it/s]"
      ]
     },
     "metadata": {},
     "output_type": "display_data"
    },
    {
     "data": {
      "application/vnd.jupyter.widget-view+json": {
       "model_id": "238605b33a384c7dab630b1af4b89696",
       "version_major": 2,
       "version_minor": 0
      },
      "text/plain": [
       "  0%|          | 0/5 [00:00<?, ?it/s]"
      ]
     },
     "metadata": {},
     "output_type": "display_data"
    },
    {
     "data": {
      "application/vnd.jupyter.widget-view+json": {
       "model_id": "74b4774c7f5b4a418c75345c8f1d814f",
       "version_major": 2,
       "version_minor": 0
      },
      "text/plain": [
       "  0%|          | 0/5 [00:00<?, ?it/s]"
      ]
     },
     "metadata": {},
     "output_type": "display_data"
    },
    {
     "data": {
      "application/vnd.jupyter.widget-view+json": {
       "model_id": "14a536abc0fc402685a822f980c9760f",
       "version_major": 2,
       "version_minor": 0
      },
      "text/plain": [
       "  0%|          | 0/5 [00:00<?, ?it/s]"
      ]
     },
     "metadata": {},
     "output_type": "display_data"
    },
    {
     "data": {
      "application/vnd.jupyter.widget-view+json": {
       "model_id": "c34c2ce896b24f51a7e2e61efdb1adb6",
       "version_major": 2,
       "version_minor": 0
      },
      "text/plain": [
       "  0%|          | 0/5 [00:00<?, ?it/s]"
      ]
     },
     "metadata": {},
     "output_type": "display_data"
    },
    {
     "data": {
      "application/vnd.jupyter.widget-view+json": {
       "model_id": "60f78f91475743578dbe09a53f4f5570",
       "version_major": 2,
       "version_minor": 0
      },
      "text/plain": [
       "  0%|          | 0/5 [00:00<?, ?it/s]"
      ]
     },
     "metadata": {},
     "output_type": "display_data"
    },
    {
     "data": {
      "application/vnd.jupyter.widget-view+json": {
       "model_id": "71275c7326cb4aec8fa1164cb61a4c71",
       "version_major": 2,
       "version_minor": 0
      },
      "text/plain": [
       "  0%|          | 0/5 [00:00<?, ?it/s]"
      ]
     },
     "metadata": {},
     "output_type": "display_data"
    },
    {
     "data": {
      "application/vnd.jupyter.widget-view+json": {
       "model_id": "3b2eed5a277e4e0ea4b6e1db30160e95",
       "version_major": 2,
       "version_minor": 0
      },
      "text/plain": [
       "  0%|          | 0/5 [00:00<?, ?it/s]"
      ]
     },
     "metadata": {},
     "output_type": "display_data"
    },
    {
     "data": {
      "application/vnd.jupyter.widget-view+json": {
       "model_id": "bf7488203e1b41f182cfe6a6b5a767d6",
       "version_major": 2,
       "version_minor": 0
      },
      "text/plain": [
       "  0%|          | 0/5 [00:00<?, ?it/s]"
      ]
     },
     "metadata": {},
     "output_type": "display_data"
    },
    {
     "data": {
      "application/vnd.jupyter.widget-view+json": {
       "model_id": "ef8c5775c6f1468f87dc4ccdf87cb91f",
       "version_major": 2,
       "version_minor": 0
      },
      "text/plain": [
       "  0%|          | 0/5 [00:00<?, ?it/s]"
      ]
     },
     "metadata": {},
     "output_type": "display_data"
    },
    {
     "data": {
      "application/vnd.jupyter.widget-view+json": {
       "model_id": "adf6caea59bf4a9597c0e96f147a0da3",
       "version_major": 2,
       "version_minor": 0
      },
      "text/plain": [
       "  0%|          | 0/5 [00:00<?, ?it/s]"
      ]
     },
     "metadata": {},
     "output_type": "display_data"
    },
    {
     "data": {
      "application/vnd.jupyter.widget-view+json": {
       "model_id": "55ce4a3ffc5142b89b0d69204cf27758",
       "version_major": 2,
       "version_minor": 0
      },
      "text/plain": [
       "  0%|          | 0/5 [00:00<?, ?it/s]"
      ]
     },
     "metadata": {},
     "output_type": "display_data"
    },
    {
     "data": {
      "application/vnd.jupyter.widget-view+json": {
       "model_id": "85c71488eec84f89bbf707c306b81237",
       "version_major": 2,
       "version_minor": 0
      },
      "text/plain": [
       "  0%|          | 0/5 [00:00<?, ?it/s]"
      ]
     },
     "metadata": {},
     "output_type": "display_data"
    },
    {
     "data": {
      "application/vnd.jupyter.widget-view+json": {
       "model_id": "e1498f70ed7c4959bd1ac7964c5314b0",
       "version_major": 2,
       "version_minor": 0
      },
      "text/plain": [
       "  0%|          | 0/5 [00:00<?, ?it/s]"
      ]
     },
     "metadata": {},
     "output_type": "display_data"
    },
    {
     "data": {
      "application/vnd.jupyter.widget-view+json": {
       "model_id": "49214e36686d46ba85a99576dfa555a8",
       "version_major": 2,
       "version_minor": 0
      },
      "text/plain": [
       "  0%|          | 0/5 [00:00<?, ?it/s]"
      ]
     },
     "metadata": {},
     "output_type": "display_data"
    },
    {
     "data": {
      "application/vnd.jupyter.widget-view+json": {
       "model_id": "3ee40089c3e34d76bcaa811b3533812b",
       "version_major": 2,
       "version_minor": 0
      },
      "text/plain": [
       "  0%|          | 0/5 [00:00<?, ?it/s]"
      ]
     },
     "metadata": {},
     "output_type": "display_data"
    },
    {
     "data": {
      "application/vnd.jupyter.widget-view+json": {
       "model_id": "aacb9c49708443a593e6a195d64579b5",
       "version_major": 2,
       "version_minor": 0
      },
      "text/plain": [
       "  0%|          | 0/5 [00:00<?, ?it/s]"
      ]
     },
     "metadata": {},
     "output_type": "display_data"
    },
    {
     "data": {
      "application/vnd.jupyter.widget-view+json": {
       "model_id": "80c2e79ed5cb4b28a254ed75baac9820",
       "version_major": 2,
       "version_minor": 0
      },
      "text/plain": [
       "  0%|          | 0/5 [00:00<?, ?it/s]"
      ]
     },
     "metadata": {},
     "output_type": "display_data"
    },
    {
     "data": {
      "application/vnd.jupyter.widget-view+json": {
       "model_id": "afe3a4a3753b47e8aa577afa92568085",
       "version_major": 2,
       "version_minor": 0
      },
      "text/plain": [
       "  0%|          | 0/5 [00:00<?, ?it/s]"
      ]
     },
     "metadata": {},
     "output_type": "display_data"
    },
    {
     "data": {
      "application/vnd.jupyter.widget-view+json": {
       "model_id": "168243947b964c4eb1c3652d59140a7a",
       "version_major": 2,
       "version_minor": 0
      },
      "text/plain": [
       "  0%|          | 0/5 [00:00<?, ?it/s]"
      ]
     },
     "metadata": {},
     "output_type": "display_data"
    },
    {
     "data": {
      "application/vnd.jupyter.widget-view+json": {
       "model_id": "46ec84c1123a433091a7d3de01f77ac2",
       "version_major": 2,
       "version_minor": 0
      },
      "text/plain": [
       "  0%|          | 0/5 [00:00<?, ?it/s]"
      ]
     },
     "metadata": {},
     "output_type": "display_data"
    },
    {
     "data": {
      "application/vnd.jupyter.widget-view+json": {
       "model_id": "7bf13546092949fd90c785b039fd229b",
       "version_major": 2,
       "version_minor": 0
      },
      "text/plain": [
       "  0%|          | 0/5 [00:00<?, ?it/s]"
      ]
     },
     "metadata": {},
     "output_type": "display_data"
    },
    {
     "data": {
      "application/vnd.jupyter.widget-view+json": {
       "model_id": "c3c049388f0c4e0e8d48082e06cc891d",
       "version_major": 2,
       "version_minor": 0
      },
      "text/plain": [
       "  0%|          | 0/5 [00:00<?, ?it/s]"
      ]
     },
     "metadata": {},
     "output_type": "display_data"
    },
    {
     "data": {
      "application/vnd.jupyter.widget-view+json": {
       "model_id": "bf1992a4cf0b4480915f8cfdbfcd56f5",
       "version_major": 2,
       "version_minor": 0
      },
      "text/plain": [
       "  0%|          | 0/5 [00:00<?, ?it/s]"
      ]
     },
     "metadata": {},
     "output_type": "display_data"
    },
    {
     "data": {
      "application/vnd.jupyter.widget-view+json": {
       "model_id": "8d865b1e28ec42a49113d526cb78b412",
       "version_major": 2,
       "version_minor": 0
      },
      "text/plain": [
       "  0%|          | 0/5 [00:00<?, ?it/s]"
      ]
     },
     "metadata": {},
     "output_type": "display_data"
    },
    {
     "data": {
      "application/vnd.jupyter.widget-view+json": {
       "model_id": "a3c8167048c94aafa8cfde8b12a64e52",
       "version_major": 2,
       "version_minor": 0
      },
      "text/plain": [
       "  0%|          | 0/5 [00:00<?, ?it/s]"
      ]
     },
     "metadata": {},
     "output_type": "display_data"
    },
    {
     "data": {
      "application/vnd.jupyter.widget-view+json": {
       "model_id": "52e78186179d49949ac42bc54edf5bd0",
       "version_major": 2,
       "version_minor": 0
      },
      "text/plain": [
       "  0%|          | 0/5 [00:00<?, ?it/s]"
      ]
     },
     "metadata": {},
     "output_type": "display_data"
    },
    {
     "data": {
      "application/vnd.jupyter.widget-view+json": {
       "model_id": "7a30fd7410d3468baf94944ced11fd2e",
       "version_major": 2,
       "version_minor": 0
      },
      "text/plain": [
       "  0%|          | 0/5 [00:00<?, ?it/s]"
      ]
     },
     "metadata": {},
     "output_type": "display_data"
    },
    {
     "data": {
      "application/vnd.jupyter.widget-view+json": {
       "model_id": "4d705a736dbc43948084412b7083a013",
       "version_major": 2,
       "version_minor": 0
      },
      "text/plain": [
       "  0%|          | 0/5 [00:00<?, ?it/s]"
      ]
     },
     "metadata": {},
     "output_type": "display_data"
    },
    {
     "data": {
      "application/vnd.jupyter.widget-view+json": {
       "model_id": "d301d38e087e4315b08b6ce28ab16380",
       "version_major": 2,
       "version_minor": 0
      },
      "text/plain": [
       "  0%|          | 0/5 [00:00<?, ?it/s]"
      ]
     },
     "metadata": {},
     "output_type": "display_data"
    },
    {
     "data": {
      "application/vnd.jupyter.widget-view+json": {
       "model_id": "93983b4f6444400cbbbb6a30990d0256",
       "version_major": 2,
       "version_minor": 0
      },
      "text/plain": [
       "  0%|          | 0/5 [00:00<?, ?it/s]"
      ]
     },
     "metadata": {},
     "output_type": "display_data"
    },
    {
     "data": {
      "application/vnd.jupyter.widget-view+json": {
       "model_id": "fee53469db974fd1b9a734492467af8a",
       "version_major": 2,
       "version_minor": 0
      },
      "text/plain": [
       "  0%|          | 0/5 [00:00<?, ?it/s]"
      ]
     },
     "metadata": {},
     "output_type": "display_data"
    },
    {
     "data": {
      "application/vnd.jupyter.widget-view+json": {
       "model_id": "e0cce9309f6d435e8acde8a49c0463bc",
       "version_major": 2,
       "version_minor": 0
      },
      "text/plain": [
       "  0%|          | 0/5 [00:00<?, ?it/s]"
      ]
     },
     "metadata": {},
     "output_type": "display_data"
    },
    {
     "data": {
      "application/vnd.jupyter.widget-view+json": {
       "model_id": "02916508dd7d435ba7e2cbe09b2617cd",
       "version_major": 2,
       "version_minor": 0
      },
      "text/plain": [
       "  0%|          | 0/5 [00:00<?, ?it/s]"
      ]
     },
     "metadata": {},
     "output_type": "display_data"
    },
    {
     "data": {
      "application/vnd.jupyter.widget-view+json": {
       "model_id": "74df2915e51c401ab656193c68319bd3",
       "version_major": 2,
       "version_minor": 0
      },
      "text/plain": [
       "  0%|          | 0/5 [00:00<?, ?it/s]"
      ]
     },
     "metadata": {},
     "output_type": "display_data"
    },
    {
     "data": {
      "application/vnd.jupyter.widget-view+json": {
       "model_id": "bb9e6cde6423492288676bdfb90a378e",
       "version_major": 2,
       "version_minor": 0
      },
      "text/plain": [
       "  0%|          | 0/5 [00:00<?, ?it/s]"
      ]
     },
     "metadata": {},
     "output_type": "display_data"
    },
    {
     "data": {
      "application/vnd.jupyter.widget-view+json": {
       "model_id": "48f0afa3484542e7ae506433ee96ee67",
       "version_major": 2,
       "version_minor": 0
      },
      "text/plain": [
       "  0%|          | 0/5 [00:00<?, ?it/s]"
      ]
     },
     "metadata": {},
     "output_type": "display_data"
    },
    {
     "data": {
      "application/vnd.jupyter.widget-view+json": {
       "model_id": "83fbaf3f67a049fdb7d41264b1dff397",
       "version_major": 2,
       "version_minor": 0
      },
      "text/plain": [
       "  0%|          | 0/5 [00:00<?, ?it/s]"
      ]
     },
     "metadata": {},
     "output_type": "display_data"
    },
    {
     "data": {
      "application/vnd.jupyter.widget-view+json": {
       "model_id": "c1e7948851cd45d085f864508026a3a5",
       "version_major": 2,
       "version_minor": 0
      },
      "text/plain": [
       "  0%|          | 0/5 [00:00<?, ?it/s]"
      ]
     },
     "metadata": {},
     "output_type": "display_data"
    },
    {
     "data": {
      "application/vnd.jupyter.widget-view+json": {
       "model_id": "a338115c01584fb6b12be4806a4072d9",
       "version_major": 2,
       "version_minor": 0
      },
      "text/plain": [
       "  0%|          | 0/5 [00:00<?, ?it/s]"
      ]
     },
     "metadata": {},
     "output_type": "display_data"
    },
    {
     "data": {
      "application/vnd.jupyter.widget-view+json": {
       "model_id": "504ff76b43c443bf9c974b8eaa5590bd",
       "version_major": 2,
       "version_minor": 0
      },
      "text/plain": [
       "  0%|          | 0/5 [00:00<?, ?it/s]"
      ]
     },
     "metadata": {},
     "output_type": "display_data"
    },
    {
     "data": {
      "application/vnd.jupyter.widget-view+json": {
       "model_id": "8ce03167233d481c8528cb07a13c5a73",
       "version_major": 2,
       "version_minor": 0
      },
      "text/plain": [
       "  0%|          | 0/5 [00:00<?, ?it/s]"
      ]
     },
     "metadata": {},
     "output_type": "display_data"
    },
    {
     "data": {
      "application/vnd.jupyter.widget-view+json": {
       "model_id": "5e0f761717e04c0288a403e8761415a6",
       "version_major": 2,
       "version_minor": 0
      },
      "text/plain": [
       "  0%|          | 0/5 [00:00<?, ?it/s]"
      ]
     },
     "metadata": {},
     "output_type": "display_data"
    },
    {
     "data": {
      "application/vnd.jupyter.widget-view+json": {
       "model_id": "2180e9ae356045928ded1ddc7734dbcd",
       "version_major": 2,
       "version_minor": 0
      },
      "text/plain": [
       "  0%|          | 0/5 [00:00<?, ?it/s]"
      ]
     },
     "metadata": {},
     "output_type": "display_data"
    },
    {
     "data": {
      "application/vnd.jupyter.widget-view+json": {
       "model_id": "3158f61180e64f4390b102a3fbccfbbd",
       "version_major": 2,
       "version_minor": 0
      },
      "text/plain": [
       "  0%|          | 0/5 [00:00<?, ?it/s]"
      ]
     },
     "metadata": {},
     "output_type": "display_data"
    },
    {
     "data": {
      "application/vnd.jupyter.widget-view+json": {
       "model_id": "10f7c08a3ca6428ca2f65f73ee5e36cb",
       "version_major": 2,
       "version_minor": 0
      },
      "text/plain": [
       "  0%|          | 0/5 [00:00<?, ?it/s]"
      ]
     },
     "metadata": {},
     "output_type": "display_data"
    },
    {
     "data": {
      "application/vnd.jupyter.widget-view+json": {
       "model_id": "1babe84361d54422a1b8b59407c8f7f2",
       "version_major": 2,
       "version_minor": 0
      },
      "text/plain": [
       "  0%|          | 0/5 [00:00<?, ?it/s]"
      ]
     },
     "metadata": {},
     "output_type": "display_data"
    },
    {
     "data": {
      "application/vnd.jupyter.widget-view+json": {
       "model_id": "0c5320f0ebe14387bd0879358f43e4ab",
       "version_major": 2,
       "version_minor": 0
      },
      "text/plain": [
       "  0%|          | 0/5 [00:00<?, ?it/s]"
      ]
     },
     "metadata": {},
     "output_type": "display_data"
    },
    {
     "data": {
      "application/vnd.jupyter.widget-view+json": {
       "model_id": "d7f850cb0e5e4b059afb9cce68b56ad2",
       "version_major": 2,
       "version_minor": 0
      },
      "text/plain": [
       "  0%|          | 0/5 [00:00<?, ?it/s]"
      ]
     },
     "metadata": {},
     "output_type": "display_data"
    },
    {
     "data": {
      "application/vnd.jupyter.widget-view+json": {
       "model_id": "c67ca313c890421c8b59cf2ad7b27f94",
       "version_major": 2,
       "version_minor": 0
      },
      "text/plain": [
       "  0%|          | 0/5 [00:00<?, ?it/s]"
      ]
     },
     "metadata": {},
     "output_type": "display_data"
    },
    {
     "data": {
      "application/vnd.jupyter.widget-view+json": {
       "model_id": "effb27ffa3f143ae8b4d6543e68324db",
       "version_major": 2,
       "version_minor": 0
      },
      "text/plain": [
       "  0%|          | 0/5 [00:00<?, ?it/s]"
      ]
     },
     "metadata": {},
     "output_type": "display_data"
    },
    {
     "data": {
      "application/vnd.jupyter.widget-view+json": {
       "model_id": "6d5ffa5899204648842d67cad7d2d564",
       "version_major": 2,
       "version_minor": 0
      },
      "text/plain": [
       "  0%|          | 0/5 [00:00<?, ?it/s]"
      ]
     },
     "metadata": {},
     "output_type": "display_data"
    },
    {
     "data": {
      "application/vnd.jupyter.widget-view+json": {
       "model_id": "00f4b71709564e228f1625f881ea5e6b",
       "version_major": 2,
       "version_minor": 0
      },
      "text/plain": [
       "  0%|          | 0/5 [00:00<?, ?it/s]"
      ]
     },
     "metadata": {},
     "output_type": "display_data"
    },
    {
     "data": {
      "application/vnd.jupyter.widget-view+json": {
       "model_id": "4df2ab14340a4576b40488071faa0ffa",
       "version_major": 2,
       "version_minor": 0
      },
      "text/plain": [
       "  0%|          | 0/5 [00:00<?, ?it/s]"
      ]
     },
     "metadata": {},
     "output_type": "display_data"
    },
    {
     "data": {
      "application/vnd.jupyter.widget-view+json": {
       "model_id": "ac102bbbcf724a40ad03a80184a8d322",
       "version_major": 2,
       "version_minor": 0
      },
      "text/plain": [
       "  0%|          | 0/5 [00:00<?, ?it/s]"
      ]
     },
     "metadata": {},
     "output_type": "display_data"
    },
    {
     "data": {
      "application/vnd.jupyter.widget-view+json": {
       "model_id": "0aaad10593bc4803be2de8cd95518c35",
       "version_major": 2,
       "version_minor": 0
      },
      "text/plain": [
       "  0%|          | 0/5 [00:00<?, ?it/s]"
      ]
     },
     "metadata": {},
     "output_type": "display_data"
    },
    {
     "data": {
      "application/vnd.jupyter.widget-view+json": {
       "model_id": "6916ff4574424b07b5b4e502b31bdcf9",
       "version_major": 2,
       "version_minor": 0
      },
      "text/plain": [
       "  0%|          | 0/5 [00:00<?, ?it/s]"
      ]
     },
     "metadata": {},
     "output_type": "display_data"
    },
    {
     "data": {
      "application/vnd.jupyter.widget-view+json": {
       "model_id": "6f512cac6cb54169bf844834d1c3b421",
       "version_major": 2,
       "version_minor": 0
      },
      "text/plain": [
       "  0%|          | 0/5 [00:00<?, ?it/s]"
      ]
     },
     "metadata": {},
     "output_type": "display_data"
    },
    {
     "data": {
      "application/vnd.jupyter.widget-view+json": {
       "model_id": "a59b49d188224101b09b4ab0173cee9e",
       "version_major": 2,
       "version_minor": 0
      },
      "text/plain": [
       "  0%|          | 0/5 [00:00<?, ?it/s]"
      ]
     },
     "metadata": {},
     "output_type": "display_data"
    },
    {
     "data": {
      "application/vnd.jupyter.widget-view+json": {
       "model_id": "b3e29dfa0789413fab86ef886e340126",
       "version_major": 2,
       "version_minor": 0
      },
      "text/plain": [
       "  0%|          | 0/5 [00:00<?, ?it/s]"
      ]
     },
     "metadata": {},
     "output_type": "display_data"
    },
    {
     "data": {
      "application/vnd.jupyter.widget-view+json": {
       "model_id": "b2a21711133f4757ba8c9c8acef75e0c",
       "version_major": 2,
       "version_minor": 0
      },
      "text/plain": [
       "  0%|          | 0/5 [00:00<?, ?it/s]"
      ]
     },
     "metadata": {},
     "output_type": "display_data"
    },
    {
     "data": {
      "application/vnd.jupyter.widget-view+json": {
       "model_id": "15cee7a3706a4091a0453d739c18cbaf",
       "version_major": 2,
       "version_minor": 0
      },
      "text/plain": [
       "  0%|          | 0/5 [00:00<?, ?it/s]"
      ]
     },
     "metadata": {},
     "output_type": "display_data"
    },
    {
     "data": {
      "application/vnd.jupyter.widget-view+json": {
       "model_id": "b9c3149579f34ac18c57d2f34eafd33d",
       "version_major": 2,
       "version_minor": 0
      },
      "text/plain": [
       "  0%|          | 0/5 [00:00<?, ?it/s]"
      ]
     },
     "metadata": {},
     "output_type": "display_data"
    },
    {
     "data": {
      "application/vnd.jupyter.widget-view+json": {
       "model_id": "d8b98707055b4930a596ea3cd8213bbd",
       "version_major": 2,
       "version_minor": 0
      },
      "text/plain": [
       "  0%|          | 0/5 [00:00<?, ?it/s]"
      ]
     },
     "metadata": {},
     "output_type": "display_data"
    },
    {
     "data": {
      "application/vnd.jupyter.widget-view+json": {
       "model_id": "f97d4bb0e0354facab13d6e8e0354d14",
       "version_major": 2,
       "version_minor": 0
      },
      "text/plain": [
       "  0%|          | 0/5 [00:00<?, ?it/s]"
      ]
     },
     "metadata": {},
     "output_type": "display_data"
    },
    {
     "data": {
      "application/vnd.jupyter.widget-view+json": {
       "model_id": "39ac915aa77a4b9e8b8952647a837740",
       "version_major": 2,
       "version_minor": 0
      },
      "text/plain": [
       "  0%|          | 0/5 [00:00<?, ?it/s]"
      ]
     },
     "metadata": {},
     "output_type": "display_data"
    },
    {
     "data": {
      "application/vnd.jupyter.widget-view+json": {
       "model_id": "ee19e04ccad24259bf457dcc0a329976",
       "version_major": 2,
       "version_minor": 0
      },
      "text/plain": [
       "  0%|          | 0/5 [00:00<?, ?it/s]"
      ]
     },
     "metadata": {},
     "output_type": "display_data"
    },
    {
     "data": {
      "application/vnd.jupyter.widget-view+json": {
       "model_id": "d71529a0a5ef4a7d8ddb596572d3dfe4",
       "version_major": 2,
       "version_minor": 0
      },
      "text/plain": [
       "  0%|          | 0/5 [00:00<?, ?it/s]"
      ]
     },
     "metadata": {},
     "output_type": "display_data"
    },
    {
     "data": {
      "application/vnd.jupyter.widget-view+json": {
       "model_id": "e0d5ab9b03dd44b59b67fcc7674d08f9",
       "version_major": 2,
       "version_minor": 0
      },
      "text/plain": [
       "  0%|          | 0/5 [00:00<?, ?it/s]"
      ]
     },
     "metadata": {},
     "output_type": "display_data"
    },
    {
     "data": {
      "application/vnd.jupyter.widget-view+json": {
       "model_id": "a2d64277e6ec4b50b619f345c83b6411",
       "version_major": 2,
       "version_minor": 0
      },
      "text/plain": [
       "  0%|          | 0/5 [00:00<?, ?it/s]"
      ]
     },
     "metadata": {},
     "output_type": "display_data"
    },
    {
     "data": {
      "application/vnd.jupyter.widget-view+json": {
       "model_id": "28807ec44cf74d418f85db6bea52e366",
       "version_major": 2,
       "version_minor": 0
      },
      "text/plain": [
       "  0%|          | 0/5 [00:00<?, ?it/s]"
      ]
     },
     "metadata": {},
     "output_type": "display_data"
    },
    {
     "data": {
      "application/vnd.jupyter.widget-view+json": {
       "model_id": "d680b1dccf984f1c90d5722986e03713",
       "version_major": 2,
       "version_minor": 0
      },
      "text/plain": [
       "  0%|          | 0/5 [00:00<?, ?it/s]"
      ]
     },
     "metadata": {},
     "output_type": "display_data"
    },
    {
     "data": {
      "application/vnd.jupyter.widget-view+json": {
       "model_id": "ef04fb331a4545508f61486b6ce3a304",
       "version_major": 2,
       "version_minor": 0
      },
      "text/plain": [
       "  0%|          | 0/5 [00:00<?, ?it/s]"
      ]
     },
     "metadata": {},
     "output_type": "display_data"
    },
    {
     "data": {
      "application/vnd.jupyter.widget-view+json": {
       "model_id": "fa544099bf3a4dceb3033764691305d4",
       "version_major": 2,
       "version_minor": 0
      },
      "text/plain": [
       "  0%|          | 0/5 [00:00<?, ?it/s]"
      ]
     },
     "metadata": {},
     "output_type": "display_data"
    },
    {
     "data": {
      "application/vnd.jupyter.widget-view+json": {
       "model_id": "f311ffba28b74c25a627ede329d9b7b4",
       "version_major": 2,
       "version_minor": 0
      },
      "text/plain": [
       "  0%|          | 0/5 [00:00<?, ?it/s]"
      ]
     },
     "metadata": {},
     "output_type": "display_data"
    },
    {
     "data": {
      "application/vnd.jupyter.widget-view+json": {
       "model_id": "0d3b4f8ea75a415daeadb74fb62124c2",
       "version_major": 2,
       "version_minor": 0
      },
      "text/plain": [
       "  0%|          | 0/5 [00:00<?, ?it/s]"
      ]
     },
     "metadata": {},
     "output_type": "display_data"
    },
    {
     "data": {
      "application/vnd.jupyter.widget-view+json": {
       "model_id": "38024d1bb0b1449fbe4ed719e08574b9",
       "version_major": 2,
       "version_minor": 0
      },
      "text/plain": [
       "  0%|          | 0/5 [00:00<?, ?it/s]"
      ]
     },
     "metadata": {},
     "output_type": "display_data"
    },
    {
     "data": {
      "application/vnd.jupyter.widget-view+json": {
       "model_id": "d9f55c675a1e41dba82f95cd1b91100f",
       "version_major": 2,
       "version_minor": 0
      },
      "text/plain": [
       "  0%|          | 0/5 [00:00<?, ?it/s]"
      ]
     },
     "metadata": {},
     "output_type": "display_data"
    },
    {
     "data": {
      "application/vnd.jupyter.widget-view+json": {
       "model_id": "17755db84acf465cb6e59a8da8010b35",
       "version_major": 2,
       "version_minor": 0
      },
      "text/plain": [
       "  0%|          | 0/5 [00:00<?, ?it/s]"
      ]
     },
     "metadata": {},
     "output_type": "display_data"
    },
    {
     "data": {
      "application/vnd.jupyter.widget-view+json": {
       "model_id": "ed75fb816d874adcba7449eb1bc7e928",
       "version_major": 2,
       "version_minor": 0
      },
      "text/plain": [
       "  0%|          | 0/5 [00:00<?, ?it/s]"
      ]
     },
     "metadata": {},
     "output_type": "display_data"
    },
    {
     "data": {
      "application/vnd.jupyter.widget-view+json": {
       "model_id": "c6aa963c379d4027b9f11a04f174b48c",
       "version_major": 2,
       "version_minor": 0
      },
      "text/plain": [
       "  0%|          | 0/5 [00:00<?, ?it/s]"
      ]
     },
     "metadata": {},
     "output_type": "display_data"
    },
    {
     "data": {
      "application/vnd.jupyter.widget-view+json": {
       "model_id": "cb7d4174c3d94c6ca6dcee179e527a26",
       "version_major": 2,
       "version_minor": 0
      },
      "text/plain": [
       "  0%|          | 0/5 [00:00<?, ?it/s]"
      ]
     },
     "metadata": {},
     "output_type": "display_data"
    },
    {
     "data": {
      "application/vnd.jupyter.widget-view+json": {
       "model_id": "1a2aa1529379485f99e1f858074f721f",
       "version_major": 2,
       "version_minor": 0
      },
      "text/plain": [
       "  0%|          | 0/5 [00:00<?, ?it/s]"
      ]
     },
     "metadata": {},
     "output_type": "display_data"
    },
    {
     "data": {
      "application/vnd.jupyter.widget-view+json": {
       "model_id": "bad8adf1fb8d4aa18c2f9070e1008472",
       "version_major": 2,
       "version_minor": 0
      },
      "text/plain": [
       "  0%|          | 0/5 [00:00<?, ?it/s]"
      ]
     },
     "metadata": {},
     "output_type": "display_data"
    },
    {
     "data": {
      "application/vnd.jupyter.widget-view+json": {
       "model_id": "574fa39be4804c079f795ace25f84a13",
       "version_major": 2,
       "version_minor": 0
      },
      "text/plain": [
       "  0%|          | 0/5 [00:00<?, ?it/s]"
      ]
     },
     "metadata": {},
     "output_type": "display_data"
    },
    {
     "data": {
      "application/vnd.jupyter.widget-view+json": {
       "model_id": "cee21d7dca7240b6b224a5ca0f732bf4",
       "version_major": 2,
       "version_minor": 0
      },
      "text/plain": [
       "  0%|          | 0/5 [00:00<?, ?it/s]"
      ]
     },
     "metadata": {},
     "output_type": "display_data"
    },
    {
     "data": {
      "application/vnd.jupyter.widget-view+json": {
       "model_id": "e8068cb9d7a246a281fcb504fac439df",
       "version_major": 2,
       "version_minor": 0
      },
      "text/plain": [
       "  0%|          | 0/5 [00:00<?, ?it/s]"
      ]
     },
     "metadata": {},
     "output_type": "display_data"
    },
    {
     "data": {
      "application/vnd.jupyter.widget-view+json": {
       "model_id": "f88f0828c7014e238bb4dc1803c1c613",
       "version_major": 2,
       "version_minor": 0
      },
      "text/plain": [
       "  0%|          | 0/5 [00:00<?, ?it/s]"
      ]
     },
     "metadata": {},
     "output_type": "display_data"
    },
    {
     "data": {
      "application/vnd.jupyter.widget-view+json": {
       "model_id": "cb01a76993e74ebd9ca16054aa7bb494",
       "version_major": 2,
       "version_minor": 0
      },
      "text/plain": [
       "  0%|          | 0/5 [00:00<?, ?it/s]"
      ]
     },
     "metadata": {},
     "output_type": "display_data"
    },
    {
     "data": {
      "application/vnd.jupyter.widget-view+json": {
       "model_id": "fc63d9fb029c4cb1b2490e23e9e425b6",
       "version_major": 2,
       "version_minor": 0
      },
      "text/plain": [
       "  0%|          | 0/5 [00:00<?, ?it/s]"
      ]
     },
     "metadata": {},
     "output_type": "display_data"
    },
    {
     "data": {
      "application/vnd.jupyter.widget-view+json": {
       "model_id": "2f83f92af9d74969bb63e08e09184905",
       "version_major": 2,
       "version_minor": 0
      },
      "text/plain": [
       "  0%|          | 0/5 [00:00<?, ?it/s]"
      ]
     },
     "metadata": {},
     "output_type": "display_data"
    },
    {
     "data": {
      "application/vnd.jupyter.widget-view+json": {
       "model_id": "7ba00737a75545079577aa015062a317",
       "version_major": 2,
       "version_minor": 0
      },
      "text/plain": [
       "  0%|          | 0/5 [00:00<?, ?it/s]"
      ]
     },
     "metadata": {},
     "output_type": "display_data"
    },
    {
     "data": {
      "application/vnd.jupyter.widget-view+json": {
       "model_id": "08e6bb3537454e7a9fded908ccdc2558",
       "version_major": 2,
       "version_minor": 0
      },
      "text/plain": [
       "  0%|          | 0/5 [00:00<?, ?it/s]"
      ]
     },
     "metadata": {},
     "output_type": "display_data"
    },
    {
     "data": {
      "application/vnd.jupyter.widget-view+json": {
       "model_id": "ad176f574f454d379a017169fd398ef8",
       "version_major": 2,
       "version_minor": 0
      },
      "text/plain": [
       "  0%|          | 0/5 [00:00<?, ?it/s]"
      ]
     },
     "metadata": {},
     "output_type": "display_data"
    },
    {
     "data": {
      "application/vnd.jupyter.widget-view+json": {
       "model_id": "f43a3bc7591042ad89aa8a5ce17dbd3d",
       "version_major": 2,
       "version_minor": 0
      },
      "text/plain": [
       "  0%|          | 0/5 [00:00<?, ?it/s]"
      ]
     },
     "metadata": {},
     "output_type": "display_data"
    },
    {
     "data": {
      "application/vnd.jupyter.widget-view+json": {
       "model_id": "8be4d180538e45e8b88cd6f9c8b5ccf9",
       "version_major": 2,
       "version_minor": 0
      },
      "text/plain": [
       "  0%|          | 0/5 [00:00<?, ?it/s]"
      ]
     },
     "metadata": {},
     "output_type": "display_data"
    },
    {
     "data": {
      "application/vnd.jupyter.widget-view+json": {
       "model_id": "6ab6b11fff524fb89a57c5875c790254",
       "version_major": 2,
       "version_minor": 0
      },
      "text/plain": [
       "  0%|          | 0/5 [00:00<?, ?it/s]"
      ]
     },
     "metadata": {},
     "output_type": "display_data"
    },
    {
     "data": {
      "application/vnd.jupyter.widget-view+json": {
       "model_id": "6acfb0bd42a448cdb6d3c8c204c958e0",
       "version_major": 2,
       "version_minor": 0
      },
      "text/plain": [
       "  0%|          | 0/5 [00:00<?, ?it/s]"
      ]
     },
     "metadata": {},
     "output_type": "display_data"
    },
    {
     "data": {
      "application/vnd.jupyter.widget-view+json": {
       "model_id": "383baadf4b6143ca93408e8bd5f19250",
       "version_major": 2,
       "version_minor": 0
      },
      "text/plain": [
       "  0%|          | 0/5 [00:00<?, ?it/s]"
      ]
     },
     "metadata": {},
     "output_type": "display_data"
    },
    {
     "data": {
      "application/vnd.jupyter.widget-view+json": {
       "model_id": "7494b2446a0c4995bc536d05448326f3",
       "version_major": 2,
       "version_minor": 0
      },
      "text/plain": [
       "  0%|          | 0/5 [00:00<?, ?it/s]"
      ]
     },
     "metadata": {},
     "output_type": "display_data"
    },
    {
     "data": {
      "application/vnd.jupyter.widget-view+json": {
       "model_id": "3c05fe9c68564fee8ff857bdfbc0423f",
       "version_major": 2,
       "version_minor": 0
      },
      "text/plain": [
       "  0%|          | 0/5 [00:00<?, ?it/s]"
      ]
     },
     "metadata": {},
     "output_type": "display_data"
    },
    {
     "data": {
      "application/vnd.jupyter.widget-view+json": {
       "model_id": "a45a13ce68c543c8b5febb80b99cb436",
       "version_major": 2,
       "version_minor": 0
      },
      "text/plain": [
       "  0%|          | 0/5 [00:00<?, ?it/s]"
      ]
     },
     "metadata": {},
     "output_type": "display_data"
    },
    {
     "data": {
      "application/vnd.jupyter.widget-view+json": {
       "model_id": "e097a3d92ba442b4bd031803f12c4351",
       "version_major": 2,
       "version_minor": 0
      },
      "text/plain": [
       "  0%|          | 0/5 [00:00<?, ?it/s]"
      ]
     },
     "metadata": {},
     "output_type": "display_data"
    },
    {
     "data": {
      "application/vnd.jupyter.widget-view+json": {
       "model_id": "63013ddf48b64529896c763ee9e90f68",
       "version_major": 2,
       "version_minor": 0
      },
      "text/plain": [
       "  0%|          | 0/5 [00:00<?, ?it/s]"
      ]
     },
     "metadata": {},
     "output_type": "display_data"
    },
    {
     "data": {
      "application/vnd.jupyter.widget-view+json": {
       "model_id": "f5e2e631d5fa4ec6978f29dd239687f4",
       "version_major": 2,
       "version_minor": 0
      },
      "text/plain": [
       "  0%|          | 0/5 [00:00<?, ?it/s]"
      ]
     },
     "metadata": {},
     "output_type": "display_data"
    },
    {
     "data": {
      "application/vnd.jupyter.widget-view+json": {
       "model_id": "68766d31cb3e41bc8895b0380cee3cd3",
       "version_major": 2,
       "version_minor": 0
      },
      "text/plain": [
       "  0%|          | 0/5 [00:00<?, ?it/s]"
      ]
     },
     "metadata": {},
     "output_type": "display_data"
    },
    {
     "data": {
      "application/vnd.jupyter.widget-view+json": {
       "model_id": "badb8b5a27d04b82b25719a52766ef1e",
       "version_major": 2,
       "version_minor": 0
      },
      "text/plain": [
       "  0%|          | 0/5 [00:00<?, ?it/s]"
      ]
     },
     "metadata": {},
     "output_type": "display_data"
    },
    {
     "data": {
      "application/vnd.jupyter.widget-view+json": {
       "model_id": "f99372eabf454e7ea60cbeac925d587f",
       "version_major": 2,
       "version_minor": 0
      },
      "text/plain": [
       "  0%|          | 0/5 [00:00<?, ?it/s]"
      ]
     },
     "metadata": {},
     "output_type": "display_data"
    },
    {
     "data": {
      "application/vnd.jupyter.widget-view+json": {
       "model_id": "b0b99ab55dd44ca39e13293f4d823b6c",
       "version_major": 2,
       "version_minor": 0
      },
      "text/plain": [
       "  0%|          | 0/5 [00:00<?, ?it/s]"
      ]
     },
     "metadata": {},
     "output_type": "display_data"
    },
    {
     "data": {
      "application/vnd.jupyter.widget-view+json": {
       "model_id": "03218dd7986247a4b54a71067f8f6715",
       "version_major": 2,
       "version_minor": 0
      },
      "text/plain": [
       "  0%|          | 0/5 [00:00<?, ?it/s]"
      ]
     },
     "metadata": {},
     "output_type": "display_data"
    },
    {
     "data": {
      "application/vnd.jupyter.widget-view+json": {
       "model_id": "c6807b25d72f49c88bd1e7603dc3378a",
       "version_major": 2,
       "version_minor": 0
      },
      "text/plain": [
       "  0%|          | 0/5 [00:00<?, ?it/s]"
      ]
     },
     "metadata": {},
     "output_type": "display_data"
    },
    {
     "data": {
      "application/vnd.jupyter.widget-view+json": {
       "model_id": "c7f8df9525404f32a275436407d33756",
       "version_major": 2,
       "version_minor": 0
      },
      "text/plain": [
       "  0%|          | 0/5 [00:00<?, ?it/s]"
      ]
     },
     "metadata": {},
     "output_type": "display_data"
    },
    {
     "data": {
      "application/vnd.jupyter.widget-view+json": {
       "model_id": "4b7ee107671e44c18dc0950986fd5c40",
       "version_major": 2,
       "version_minor": 0
      },
      "text/plain": [
       "  0%|          | 0/5 [00:00<?, ?it/s]"
      ]
     },
     "metadata": {},
     "output_type": "display_data"
    },
    {
     "data": {
      "application/vnd.jupyter.widget-view+json": {
       "model_id": "ab3a65d724884e79b9df227a7f7da8a7",
       "version_major": 2,
       "version_minor": 0
      },
      "text/plain": [
       "  0%|          | 0/5 [00:00<?, ?it/s]"
      ]
     },
     "metadata": {},
     "output_type": "display_data"
    },
    {
     "data": {
      "application/vnd.jupyter.widget-view+json": {
       "model_id": "703ff5d7e4ed4afd9f9a4c87300379a1",
       "version_major": 2,
       "version_minor": 0
      },
      "text/plain": [
       "  0%|          | 0/5 [00:00<?, ?it/s]"
      ]
     },
     "metadata": {},
     "output_type": "display_data"
    },
    {
     "data": {
      "application/vnd.jupyter.widget-view+json": {
       "model_id": "a0f68d0498c04751a85ece4b336872f0",
       "version_major": 2,
       "version_minor": 0
      },
      "text/plain": [
       "  0%|          | 0/5 [00:00<?, ?it/s]"
      ]
     },
     "metadata": {},
     "output_type": "display_data"
    },
    {
     "data": {
      "application/vnd.jupyter.widget-view+json": {
       "model_id": "b74cf23f1f2146ec9a871a9e3b278c80",
       "version_major": 2,
       "version_minor": 0
      },
      "text/plain": [
       "  0%|          | 0/5 [00:00<?, ?it/s]"
      ]
     },
     "metadata": {},
     "output_type": "display_data"
    },
    {
     "data": {
      "application/vnd.jupyter.widget-view+json": {
       "model_id": "37005b6965ce493fa9a2359a3353eb6b",
       "version_major": 2,
       "version_minor": 0
      },
      "text/plain": [
       "  0%|          | 0/5 [00:00<?, ?it/s]"
      ]
     },
     "metadata": {},
     "output_type": "display_data"
    },
    {
     "data": {
      "application/vnd.jupyter.widget-view+json": {
       "model_id": "e660ef3702b64602a971252e1a70fbb5",
       "version_major": 2,
       "version_minor": 0
      },
      "text/plain": [
       "  0%|          | 0/5 [00:00<?, ?it/s]"
      ]
     },
     "metadata": {},
     "output_type": "display_data"
    },
    {
     "data": {
      "application/vnd.jupyter.widget-view+json": {
       "model_id": "dd4fee21d6234d66a075b78ca91555c5",
       "version_major": 2,
       "version_minor": 0
      },
      "text/plain": [
       "  0%|          | 0/5 [00:00<?, ?it/s]"
      ]
     },
     "metadata": {},
     "output_type": "display_data"
    },
    {
     "data": {
      "application/vnd.jupyter.widget-view+json": {
       "model_id": "947613ac81d9453aa10445abc252e787",
       "version_major": 2,
       "version_minor": 0
      },
      "text/plain": [
       "  0%|          | 0/5 [00:00<?, ?it/s]"
      ]
     },
     "metadata": {},
     "output_type": "display_data"
    },
    {
     "data": {
      "application/vnd.jupyter.widget-view+json": {
       "model_id": "aa9228c91f674b33a02c734b5949e7a4",
       "version_major": 2,
       "version_minor": 0
      },
      "text/plain": [
       "  0%|          | 0/5 [00:00<?, ?it/s]"
      ]
     },
     "metadata": {},
     "output_type": "display_data"
    },
    {
     "data": {
      "application/vnd.jupyter.widget-view+json": {
       "model_id": "0b1e4ff1811e445e87dbff5189121fdb",
       "version_major": 2,
       "version_minor": 0
      },
      "text/plain": [
       "  0%|          | 0/5 [00:00<?, ?it/s]"
      ]
     },
     "metadata": {},
     "output_type": "display_data"
    },
    {
     "data": {
      "application/vnd.jupyter.widget-view+json": {
       "model_id": "a733487f76774d519da0b6af16054ab1",
       "version_major": 2,
       "version_minor": 0
      },
      "text/plain": [
       "  0%|          | 0/5 [00:00<?, ?it/s]"
      ]
     },
     "metadata": {},
     "output_type": "display_data"
    },
    {
     "data": {
      "application/vnd.jupyter.widget-view+json": {
       "model_id": "a21f7720e4724c099939c018dedeb47a",
       "version_major": 2,
       "version_minor": 0
      },
      "text/plain": [
       "  0%|          | 0/5 [00:00<?, ?it/s]"
      ]
     },
     "metadata": {},
     "output_type": "display_data"
    },
    {
     "data": {
      "application/vnd.jupyter.widget-view+json": {
       "model_id": "ae4e7eab7e7e446496364bf8c39c78b5",
       "version_major": 2,
       "version_minor": 0
      },
      "text/plain": [
       "  0%|          | 0/5 [00:00<?, ?it/s]"
      ]
     },
     "metadata": {},
     "output_type": "display_data"
    },
    {
     "data": {
      "application/vnd.jupyter.widget-view+json": {
       "model_id": "30af60ff0fd4439c88bfb0bf7410e90e",
       "version_major": 2,
       "version_minor": 0
      },
      "text/plain": [
       "  0%|          | 0/5 [00:00<?, ?it/s]"
      ]
     },
     "metadata": {},
     "output_type": "display_data"
    },
    {
     "data": {
      "application/vnd.jupyter.widget-view+json": {
       "model_id": "4f4a41dfa952428e83fe18abba7dcfad",
       "version_major": 2,
       "version_minor": 0
      },
      "text/plain": [
       "  0%|          | 0/5 [00:00<?, ?it/s]"
      ]
     },
     "metadata": {},
     "output_type": "display_data"
    },
    {
     "data": {
      "application/vnd.jupyter.widget-view+json": {
       "model_id": "8f280621e44b4fa3902ac72f7e16b5a3",
       "version_major": 2,
       "version_minor": 0
      },
      "text/plain": [
       "  0%|          | 0/5 [00:00<?, ?it/s]"
      ]
     },
     "metadata": {},
     "output_type": "display_data"
    },
    {
     "data": {
      "application/vnd.jupyter.widget-view+json": {
       "model_id": "cbbe692f83534fdf8b97bdfa85f434ad",
       "version_major": 2,
       "version_minor": 0
      },
      "text/plain": [
       "  0%|          | 0/5 [00:00<?, ?it/s]"
      ]
     },
     "metadata": {},
     "output_type": "display_data"
    },
    {
     "data": {
      "application/vnd.jupyter.widget-view+json": {
       "model_id": "f3108e243343421080eca79e78ea8ad4",
       "version_major": 2,
       "version_minor": 0
      },
      "text/plain": [
       "  0%|          | 0/5 [00:00<?, ?it/s]"
      ]
     },
     "metadata": {},
     "output_type": "display_data"
    },
    {
     "data": {
      "application/vnd.jupyter.widget-view+json": {
       "model_id": "cd753ae464894dc09db8a421b2359062",
       "version_major": 2,
       "version_minor": 0
      },
      "text/plain": [
       "  0%|          | 0/5 [00:00<?, ?it/s]"
      ]
     },
     "metadata": {},
     "output_type": "display_data"
    },
    {
     "data": {
      "application/vnd.jupyter.widget-view+json": {
       "model_id": "a728e2269882448ca66a4b7e696f575c",
       "version_major": 2,
       "version_minor": 0
      },
      "text/plain": [
       "  0%|          | 0/5 [00:00<?, ?it/s]"
      ]
     },
     "metadata": {},
     "output_type": "display_data"
    },
    {
     "data": {
      "application/vnd.jupyter.widget-view+json": {
       "model_id": "7966928a159b479fb9fb6491bb4f1bc7",
       "version_major": 2,
       "version_minor": 0
      },
      "text/plain": [
       "  0%|          | 0/5 [00:00<?, ?it/s]"
      ]
     },
     "metadata": {},
     "output_type": "display_data"
    },
    {
     "data": {
      "application/vnd.jupyter.widget-view+json": {
       "model_id": "6bc32459ab27401fb6c1d5651d5d3003",
       "version_major": 2,
       "version_minor": 0
      },
      "text/plain": [
       "  0%|          | 0/5 [00:00<?, ?it/s]"
      ]
     },
     "metadata": {},
     "output_type": "display_data"
    },
    {
     "data": {
      "application/vnd.jupyter.widget-view+json": {
       "model_id": "bba805e84b704b52b8e31a577cf42e91",
       "version_major": 2,
       "version_minor": 0
      },
      "text/plain": [
       "  0%|          | 0/5 [00:00<?, ?it/s]"
      ]
     },
     "metadata": {},
     "output_type": "display_data"
    },
    {
     "data": {
      "application/vnd.jupyter.widget-view+json": {
       "model_id": "99cb9a2ec6ab4a8c8cc58a2aa5891b91",
       "version_major": 2,
       "version_minor": 0
      },
      "text/plain": [
       "  0%|          | 0/5 [00:00<?, ?it/s]"
      ]
     },
     "metadata": {},
     "output_type": "display_data"
    },
    {
     "data": {
      "application/vnd.jupyter.widget-view+json": {
       "model_id": "91132dc0a2ca45bca01732a080db2c5f",
       "version_major": 2,
       "version_minor": 0
      },
      "text/plain": [
       "  0%|          | 0/5 [00:00<?, ?it/s]"
      ]
     },
     "metadata": {},
     "output_type": "display_data"
    },
    {
     "data": {
      "application/vnd.jupyter.widget-view+json": {
       "model_id": "f427d38d70444db389725199eb1c0364",
       "version_major": 2,
       "version_minor": 0
      },
      "text/plain": [
       "  0%|          | 0/5 [00:00<?, ?it/s]"
      ]
     },
     "metadata": {},
     "output_type": "display_data"
    },
    {
     "data": {
      "application/vnd.jupyter.widget-view+json": {
       "model_id": "a548117d5dbf4d898d0c8a08b86a81d6",
       "version_major": 2,
       "version_minor": 0
      },
      "text/plain": [
       "  0%|          | 0/5 [00:00<?, ?it/s]"
      ]
     },
     "metadata": {},
     "output_type": "display_data"
    },
    {
     "data": {
      "application/vnd.jupyter.widget-view+json": {
       "model_id": "a0be333b13ab46708a246bbf76c1dd39",
       "version_major": 2,
       "version_minor": 0
      },
      "text/plain": [
       "  0%|          | 0/5 [00:00<?, ?it/s]"
      ]
     },
     "metadata": {},
     "output_type": "display_data"
    },
    {
     "data": {
      "application/vnd.jupyter.widget-view+json": {
       "model_id": "13b2823a9be243bf9a6ccfa2dc7db831",
       "version_major": 2,
       "version_minor": 0
      },
      "text/plain": [
       "  0%|          | 0/5 [00:00<?, ?it/s]"
      ]
     },
     "metadata": {},
     "output_type": "display_data"
    },
    {
     "data": {
      "application/vnd.jupyter.widget-view+json": {
       "model_id": "e51b3861ef9343d8bad82bdd10ca8df5",
       "version_major": 2,
       "version_minor": 0
      },
      "text/plain": [
       "  0%|          | 0/5 [00:00<?, ?it/s]"
      ]
     },
     "metadata": {},
     "output_type": "display_data"
    },
    {
     "data": {
      "application/vnd.jupyter.widget-view+json": {
       "model_id": "dbeac1b14a7d4924a9adb7682945354e",
       "version_major": 2,
       "version_minor": 0
      },
      "text/plain": [
       "  0%|          | 0/5 [00:00<?, ?it/s]"
      ]
     },
     "metadata": {},
     "output_type": "display_data"
    },
    {
     "data": {
      "application/vnd.jupyter.widget-view+json": {
       "model_id": "4d2ef26537404e40a17e5c61c4450f42",
       "version_major": 2,
       "version_minor": 0
      },
      "text/plain": [
       "  0%|          | 0/5 [00:00<?, ?it/s]"
      ]
     },
     "metadata": {},
     "output_type": "display_data"
    },
    {
     "data": {
      "application/vnd.jupyter.widget-view+json": {
       "model_id": "7f61318722bb442ea2fb03a24b99ca82",
       "version_major": 2,
       "version_minor": 0
      },
      "text/plain": [
       "  0%|          | 0/5 [00:00<?, ?it/s]"
      ]
     },
     "metadata": {},
     "output_type": "display_data"
    },
    {
     "data": {
      "application/vnd.jupyter.widget-view+json": {
       "model_id": "b8cba96575ea4988b8d39363920139d8",
       "version_major": 2,
       "version_minor": 0
      },
      "text/plain": [
       "  0%|          | 0/5 [00:00<?, ?it/s]"
      ]
     },
     "metadata": {},
     "output_type": "display_data"
    },
    {
     "data": {
      "application/vnd.jupyter.widget-view+json": {
       "model_id": "fa204501320545928679b5c975e9cf73",
       "version_major": 2,
       "version_minor": 0
      },
      "text/plain": [
       "  0%|          | 0/5 [00:00<?, ?it/s]"
      ]
     },
     "metadata": {},
     "output_type": "display_data"
    },
    {
     "data": {
      "application/vnd.jupyter.widget-view+json": {
       "model_id": "74801a34f8e7455f8ee0e505224af54e",
       "version_major": 2,
       "version_minor": 0
      },
      "text/plain": [
       "  0%|          | 0/5 [00:00<?, ?it/s]"
      ]
     },
     "metadata": {},
     "output_type": "display_data"
    },
    {
     "data": {
      "application/vnd.jupyter.widget-view+json": {
       "model_id": "719563cf2d7d49c08744e828ada69dd2",
       "version_major": 2,
       "version_minor": 0
      },
      "text/plain": [
       "  0%|          | 0/5 [00:00<?, ?it/s]"
      ]
     },
     "metadata": {},
     "output_type": "display_data"
    },
    {
     "data": {
      "application/vnd.jupyter.widget-view+json": {
       "model_id": "53633aeab4fa4b3f9785c984f8128d74",
       "version_major": 2,
       "version_minor": 0
      },
      "text/plain": [
       "  0%|          | 0/5 [00:00<?, ?it/s]"
      ]
     },
     "metadata": {},
     "output_type": "display_data"
    },
    {
     "data": {
      "application/vnd.jupyter.widget-view+json": {
       "model_id": "1b787ce912f444bc895516745aeb5118",
       "version_major": 2,
       "version_minor": 0
      },
      "text/plain": [
       "  0%|          | 0/5 [00:00<?, ?it/s]"
      ]
     },
     "metadata": {},
     "output_type": "display_data"
    },
    {
     "data": {
      "application/vnd.jupyter.widget-view+json": {
       "model_id": "1616a907859a4841ba8fd4fdb7440137",
       "version_major": 2,
       "version_minor": 0
      },
      "text/plain": [
       "  0%|          | 0/5 [00:00<?, ?it/s]"
      ]
     },
     "metadata": {},
     "output_type": "display_data"
    },
    {
     "data": {
      "application/vnd.jupyter.widget-view+json": {
       "model_id": "3c7afdf4643945b9834a6a887d94c41a",
       "version_major": 2,
       "version_minor": 0
      },
      "text/plain": [
       "  0%|          | 0/5 [00:00<?, ?it/s]"
      ]
     },
     "metadata": {},
     "output_type": "display_data"
    },
    {
     "data": {
      "application/vnd.jupyter.widget-view+json": {
       "model_id": "817a12fd011c4f17a5c96fd5ed60bd03",
       "version_major": 2,
       "version_minor": 0
      },
      "text/plain": [
       "  0%|          | 0/5 [00:00<?, ?it/s]"
      ]
     },
     "metadata": {},
     "output_type": "display_data"
    },
    {
     "data": {
      "application/vnd.jupyter.widget-view+json": {
       "model_id": "56f3906f94de45168a569ce7a9a16a7e",
       "version_major": 2,
       "version_minor": 0
      },
      "text/plain": [
       "  0%|          | 0/5 [00:00<?, ?it/s]"
      ]
     },
     "metadata": {},
     "output_type": "display_data"
    },
    {
     "data": {
      "application/vnd.jupyter.widget-view+json": {
       "model_id": "0dda03b4071341ceaf0e5e1f049bff16",
       "version_major": 2,
       "version_minor": 0
      },
      "text/plain": [
       "  0%|          | 0/5 [00:00<?, ?it/s]"
      ]
     },
     "metadata": {},
     "output_type": "display_data"
    },
    {
     "data": {
      "application/vnd.jupyter.widget-view+json": {
       "model_id": "4eb17cce397e466ea546f8c331994ffe",
       "version_major": 2,
       "version_minor": 0
      },
      "text/plain": [
       "  0%|          | 0/5 [00:00<?, ?it/s]"
      ]
     },
     "metadata": {},
     "output_type": "display_data"
    },
    {
     "data": {
      "application/vnd.jupyter.widget-view+json": {
       "model_id": "18a0eece29d14af8a002fad725f1c7ec",
       "version_major": 2,
       "version_minor": 0
      },
      "text/plain": [
       "  0%|          | 0/5 [00:00<?, ?it/s]"
      ]
     },
     "metadata": {},
     "output_type": "display_data"
    },
    {
     "data": {
      "application/vnd.jupyter.widget-view+json": {
       "model_id": "c7bf5f9654a942d785b3366d679984d1",
       "version_major": 2,
       "version_minor": 0
      },
      "text/plain": [
       "  0%|          | 0/5 [00:00<?, ?it/s]"
      ]
     },
     "metadata": {},
     "output_type": "display_data"
    },
    {
     "data": {
      "application/vnd.jupyter.widget-view+json": {
       "model_id": "1b8abae2fac547c8a755dbd183db70ca",
       "version_major": 2,
       "version_minor": 0
      },
      "text/plain": [
       "  0%|          | 0/5 [00:00<?, ?it/s]"
      ]
     },
     "metadata": {},
     "output_type": "display_data"
    },
    {
     "data": {
      "application/vnd.jupyter.widget-view+json": {
       "model_id": "3e1779b45b2b40d8962fa632d59b1af5",
       "version_major": 2,
       "version_minor": 0
      },
      "text/plain": [
       "  0%|          | 0/5 [00:00<?, ?it/s]"
      ]
     },
     "metadata": {},
     "output_type": "display_data"
    },
    {
     "data": {
      "application/vnd.jupyter.widget-view+json": {
       "model_id": "8aa0f5b5be214e71b59d15bbe03199cf",
       "version_major": 2,
       "version_minor": 0
      },
      "text/plain": [
       "  0%|          | 0/5 [00:00<?, ?it/s]"
      ]
     },
     "metadata": {},
     "output_type": "display_data"
    },
    {
     "data": {
      "application/vnd.jupyter.widget-view+json": {
       "model_id": "b0c472433ae34833b0b03e0b7d251995",
       "version_major": 2,
       "version_minor": 0
      },
      "text/plain": [
       "  0%|          | 0/5 [00:00<?, ?it/s]"
      ]
     },
     "metadata": {},
     "output_type": "display_data"
    },
    {
     "data": {
      "application/vnd.jupyter.widget-view+json": {
       "model_id": "59726794e89e49e0b485bd506148fc10",
       "version_major": 2,
       "version_minor": 0
      },
      "text/plain": [
       "  0%|          | 0/5 [00:00<?, ?it/s]"
      ]
     },
     "metadata": {},
     "output_type": "display_data"
    },
    {
     "data": {
      "application/vnd.jupyter.widget-view+json": {
       "model_id": "6b1d7ecdace7461baacf43bc1c06ef5e",
       "version_major": 2,
       "version_minor": 0
      },
      "text/plain": [
       "  0%|          | 0/5 [00:00<?, ?it/s]"
      ]
     },
     "metadata": {},
     "output_type": "display_data"
    },
    {
     "data": {
      "application/vnd.jupyter.widget-view+json": {
       "model_id": "01c51ea9936a47288e3483b90652d30a",
       "version_major": 2,
       "version_minor": 0
      },
      "text/plain": [
       "  0%|          | 0/5 [00:00<?, ?it/s]"
      ]
     },
     "metadata": {},
     "output_type": "display_data"
    },
    {
     "data": {
      "application/vnd.jupyter.widget-view+json": {
       "model_id": "24759ca52d174fb8a7950c7b500de3fa",
       "version_major": 2,
       "version_minor": 0
      },
      "text/plain": [
       "  0%|          | 0/5 [00:00<?, ?it/s]"
      ]
     },
     "metadata": {},
     "output_type": "display_data"
    },
    {
     "data": {
      "application/vnd.jupyter.widget-view+json": {
       "model_id": "caeb85ddc60d451899af40f983172ea4",
       "version_major": 2,
       "version_minor": 0
      },
      "text/plain": [
       "  0%|          | 0/5 [00:00<?, ?it/s]"
      ]
     },
     "metadata": {},
     "output_type": "display_data"
    },
    {
     "data": {
      "application/vnd.jupyter.widget-view+json": {
       "model_id": "684ab25494ea4a329ffdd2b4710a675d",
       "version_major": 2,
       "version_minor": 0
      },
      "text/plain": [
       "  0%|          | 0/5 [00:00<?, ?it/s]"
      ]
     },
     "metadata": {},
     "output_type": "display_data"
    },
    {
     "data": {
      "application/vnd.jupyter.widget-view+json": {
       "model_id": "1b431846f49b424ab9a170e1bd3c9126",
       "version_major": 2,
       "version_minor": 0
      },
      "text/plain": [
       "  0%|          | 0/5 [00:00<?, ?it/s]"
      ]
     },
     "metadata": {},
     "output_type": "display_data"
    },
    {
     "data": {
      "application/vnd.jupyter.widget-view+json": {
       "model_id": "60935f0f40bd4a2e991298f2176e4288",
       "version_major": 2,
       "version_minor": 0
      },
      "text/plain": [
       "  0%|          | 0/5 [00:00<?, ?it/s]"
      ]
     },
     "metadata": {},
     "output_type": "display_data"
    },
    {
     "data": {
      "application/vnd.jupyter.widget-view+json": {
       "model_id": "35a7fce5738c4e1bb5f9632e847576b8",
       "version_major": 2,
       "version_minor": 0
      },
      "text/plain": [
       "  0%|          | 0/5 [00:00<?, ?it/s]"
      ]
     },
     "metadata": {},
     "output_type": "display_data"
    },
    {
     "data": {
      "application/vnd.jupyter.widget-view+json": {
       "model_id": "e5bba497a3624646b0e657474079b519",
       "version_major": 2,
       "version_minor": 0
      },
      "text/plain": [
       "  0%|          | 0/5 [00:00<?, ?it/s]"
      ]
     },
     "metadata": {},
     "output_type": "display_data"
    },
    {
     "data": {
      "application/vnd.jupyter.widget-view+json": {
       "model_id": "c0c44c47aab84953a38cc687daf4417d",
       "version_major": 2,
       "version_minor": 0
      },
      "text/plain": [
       "  0%|          | 0/5 [00:00<?, ?it/s]"
      ]
     },
     "metadata": {},
     "output_type": "display_data"
    },
    {
     "data": {
      "application/vnd.jupyter.widget-view+json": {
       "model_id": "b02955ebd9574337bdba3532209f0ebd",
       "version_major": 2,
       "version_minor": 0
      },
      "text/plain": [
       "  0%|          | 0/5 [00:00<?, ?it/s]"
      ]
     },
     "metadata": {},
     "output_type": "display_data"
    },
    {
     "data": {
      "application/vnd.jupyter.widget-view+json": {
       "model_id": "d477e72dca214402a306fa090f60d6e6",
       "version_major": 2,
       "version_minor": 0
      },
      "text/plain": [
       "  0%|          | 0/5 [00:00<?, ?it/s]"
      ]
     },
     "metadata": {},
     "output_type": "display_data"
    },
    {
     "data": {
      "application/vnd.jupyter.widget-view+json": {
       "model_id": "1f5d682aea0b4291b0548e92434b3117",
       "version_major": 2,
       "version_minor": 0
      },
      "text/plain": [
       "  0%|          | 0/5 [00:00<?, ?it/s]"
      ]
     },
     "metadata": {},
     "output_type": "display_data"
    },
    {
     "data": {
      "application/vnd.jupyter.widget-view+json": {
       "model_id": "b8b173caa16340648b49ca5886427dcf",
       "version_major": 2,
       "version_minor": 0
      },
      "text/plain": [
       "  0%|          | 0/5 [00:00<?, ?it/s]"
      ]
     },
     "metadata": {},
     "output_type": "display_data"
    },
    {
     "data": {
      "application/vnd.jupyter.widget-view+json": {
       "model_id": "2f74d48433b2487097d909f4c26f2edd",
       "version_major": 2,
       "version_minor": 0
      },
      "text/plain": [
       "  0%|          | 0/5 [00:00<?, ?it/s]"
      ]
     },
     "metadata": {},
     "output_type": "display_data"
    },
    {
     "data": {
      "application/vnd.jupyter.widget-view+json": {
       "model_id": "690a23b3ec454e3a9d84f7e9272d3cba",
       "version_major": 2,
       "version_minor": 0
      },
      "text/plain": [
       "  0%|          | 0/5 [00:00<?, ?it/s]"
      ]
     },
     "metadata": {},
     "output_type": "display_data"
    },
    {
     "data": {
      "application/vnd.jupyter.widget-view+json": {
       "model_id": "62c328588fc74657917f186c0eace1ad",
       "version_major": 2,
       "version_minor": 0
      },
      "text/plain": [
       "  0%|          | 0/5 [00:00<?, ?it/s]"
      ]
     },
     "metadata": {},
     "output_type": "display_data"
    },
    {
     "data": {
      "application/vnd.jupyter.widget-view+json": {
       "model_id": "a106005c4a5c49e7a8bf248975a59ccb",
       "version_major": 2,
       "version_minor": 0
      },
      "text/plain": [
       "  0%|          | 0/5 [00:00<?, ?it/s]"
      ]
     },
     "metadata": {},
     "output_type": "display_data"
    },
    {
     "data": {
      "application/vnd.jupyter.widget-view+json": {
       "model_id": "574e8f07c36849aa9fa5469d08e4dea9",
       "version_major": 2,
       "version_minor": 0
      },
      "text/plain": [
       "  0%|          | 0/5 [00:00<?, ?it/s]"
      ]
     },
     "metadata": {},
     "output_type": "display_data"
    },
    {
     "data": {
      "application/vnd.jupyter.widget-view+json": {
       "model_id": "9d9b2d1792de457a873c7994f299480a",
       "version_major": 2,
       "version_minor": 0
      },
      "text/plain": [
       "  0%|          | 0/5 [00:00<?, ?it/s]"
      ]
     },
     "metadata": {},
     "output_type": "display_data"
    },
    {
     "data": {
      "application/vnd.jupyter.widget-view+json": {
       "model_id": "772d8a9c3e0e4d53ac240557faf7738f",
       "version_major": 2,
       "version_minor": 0
      },
      "text/plain": [
       "  0%|          | 0/5 [00:00<?, ?it/s]"
      ]
     },
     "metadata": {},
     "output_type": "display_data"
    },
    {
     "data": {
      "application/vnd.jupyter.widget-view+json": {
       "model_id": "eae815e5bba04a06b54e338dd8dfffff",
       "version_major": 2,
       "version_minor": 0
      },
      "text/plain": [
       "  0%|          | 0/5 [00:00<?, ?it/s]"
      ]
     },
     "metadata": {},
     "output_type": "display_data"
    },
    {
     "data": {
      "application/vnd.jupyter.widget-view+json": {
       "model_id": "e9186678ae5a49aa999e61931410c278",
       "version_major": 2,
       "version_minor": 0
      },
      "text/plain": [
       "  0%|          | 0/5 [00:00<?, ?it/s]"
      ]
     },
     "metadata": {},
     "output_type": "display_data"
    },
    {
     "data": {
      "application/vnd.jupyter.widget-view+json": {
       "model_id": "499b75f0d4744278a8ff27bd244636ad",
       "version_major": 2,
       "version_minor": 0
      },
      "text/plain": [
       "  0%|          | 0/5 [00:00<?, ?it/s]"
      ]
     },
     "metadata": {},
     "output_type": "display_data"
    },
    {
     "data": {
      "application/vnd.jupyter.widget-view+json": {
       "model_id": "17d9d99312cd47af80fe71b99211ecd6",
       "version_major": 2,
       "version_minor": 0
      },
      "text/plain": [
       "  0%|          | 0/5 [00:00<?, ?it/s]"
      ]
     },
     "metadata": {},
     "output_type": "display_data"
    },
    {
     "data": {
      "application/vnd.jupyter.widget-view+json": {
       "model_id": "681a9ecc612e46968750becd395276f8",
       "version_major": 2,
       "version_minor": 0
      },
      "text/plain": [
       "  0%|          | 0/5 [00:00<?, ?it/s]"
      ]
     },
     "metadata": {},
     "output_type": "display_data"
    },
    {
     "data": {
      "application/vnd.jupyter.widget-view+json": {
       "model_id": "fbc2ae9b99e54022a0570a415e835016",
       "version_major": 2,
       "version_minor": 0
      },
      "text/plain": [
       "  0%|          | 0/5 [00:00<?, ?it/s]"
      ]
     },
     "metadata": {},
     "output_type": "display_data"
    },
    {
     "data": {
      "application/vnd.jupyter.widget-view+json": {
       "model_id": "39bc515a83c24ad7acfdbbc2035b7ba6",
       "version_major": 2,
       "version_minor": 0
      },
      "text/plain": [
       "  0%|          | 0/5 [00:00<?, ?it/s]"
      ]
     },
     "metadata": {},
     "output_type": "display_data"
    },
    {
     "data": {
      "application/vnd.jupyter.widget-view+json": {
       "model_id": "74641eacf965487caf4e4da9a10ab18f",
       "version_major": 2,
       "version_minor": 0
      },
      "text/plain": [
       "  0%|          | 0/5 [00:00<?, ?it/s]"
      ]
     },
     "metadata": {},
     "output_type": "display_data"
    },
    {
     "data": {
      "application/vnd.jupyter.widget-view+json": {
       "model_id": "2be3b9e451b3415681876ab35dc03a22",
       "version_major": 2,
       "version_minor": 0
      },
      "text/plain": [
       "  0%|          | 0/5 [00:00<?, ?it/s]"
      ]
     },
     "metadata": {},
     "output_type": "display_data"
    },
    {
     "data": {
      "application/vnd.jupyter.widget-view+json": {
       "model_id": "61cfa248aa3a409eabc6fc8c2db6f5d8",
       "version_major": 2,
       "version_minor": 0
      },
      "text/plain": [
       "  0%|          | 0/5 [00:00<?, ?it/s]"
      ]
     },
     "metadata": {},
     "output_type": "display_data"
    },
    {
     "data": {
      "application/vnd.jupyter.widget-view+json": {
       "model_id": "070acaa4e2b543d580993806e5916de0",
       "version_major": 2,
       "version_minor": 0
      },
      "text/plain": [
       "  0%|          | 0/5 [00:00<?, ?it/s]"
      ]
     },
     "metadata": {},
     "output_type": "display_data"
    },
    {
     "data": {
      "application/vnd.jupyter.widget-view+json": {
       "model_id": "698e82ca6be1448d923c9ad9d5534c42",
       "version_major": 2,
       "version_minor": 0
      },
      "text/plain": [
       "  0%|          | 0/5 [00:00<?, ?it/s]"
      ]
     },
     "metadata": {},
     "output_type": "display_data"
    },
    {
     "data": {
      "application/vnd.jupyter.widget-view+json": {
       "model_id": "0df9b612ef194744a77fbde6618dc75a",
       "version_major": 2,
       "version_minor": 0
      },
      "text/plain": [
       "  0%|          | 0/5 [00:00<?, ?it/s]"
      ]
     },
     "metadata": {},
     "output_type": "display_data"
    },
    {
     "data": {
      "application/vnd.jupyter.widget-view+json": {
       "model_id": "1a2584e0d81e4597801685c3c8f59518",
       "version_major": 2,
       "version_minor": 0
      },
      "text/plain": [
       "  0%|          | 0/5 [00:00<?, ?it/s]"
      ]
     },
     "metadata": {},
     "output_type": "display_data"
    },
    {
     "data": {
      "application/vnd.jupyter.widget-view+json": {
       "model_id": "01a98040cd644ebbbd834c1b3e45aa86",
       "version_major": 2,
       "version_minor": 0
      },
      "text/plain": [
       "  0%|          | 0/5 [00:00<?, ?it/s]"
      ]
     },
     "metadata": {},
     "output_type": "display_data"
    },
    {
     "data": {
      "application/vnd.jupyter.widget-view+json": {
       "model_id": "9f84b0ad56ff4c94ba2e15f900efcf71",
       "version_major": 2,
       "version_minor": 0
      },
      "text/plain": [
       "  0%|          | 0/5 [00:00<?, ?it/s]"
      ]
     },
     "metadata": {},
     "output_type": "display_data"
    },
    {
     "data": {
      "application/vnd.jupyter.widget-view+json": {
       "model_id": "cf9ac0f3979b4ac58db0ee27c8be41f2",
       "version_major": 2,
       "version_minor": 0
      },
      "text/plain": [
       "  0%|          | 0/5 [00:00<?, ?it/s]"
      ]
     },
     "metadata": {},
     "output_type": "display_data"
    },
    {
     "data": {
      "application/vnd.jupyter.widget-view+json": {
       "model_id": "bc1de921fdc1493580e176125b198c0d",
       "version_major": 2,
       "version_minor": 0
      },
      "text/plain": [
       "  0%|          | 0/5 [00:00<?, ?it/s]"
      ]
     },
     "metadata": {},
     "output_type": "display_data"
    },
    {
     "data": {
      "application/vnd.jupyter.widget-view+json": {
       "model_id": "dac44a284a93427a84a33d4dd2868798",
       "version_major": 2,
       "version_minor": 0
      },
      "text/plain": [
       "  0%|          | 0/5 [00:00<?, ?it/s]"
      ]
     },
     "metadata": {},
     "output_type": "display_data"
    },
    {
     "data": {
      "application/vnd.jupyter.widget-view+json": {
       "model_id": "8ff8fca6e8194e2380862c63ed844904",
       "version_major": 2,
       "version_minor": 0
      },
      "text/plain": [
       "  0%|          | 0/5 [00:00<?, ?it/s]"
      ]
     },
     "metadata": {},
     "output_type": "display_data"
    },
    {
     "data": {
      "application/vnd.jupyter.widget-view+json": {
       "model_id": "3860dcbb724d4707b595f98d2109d211",
       "version_major": 2,
       "version_minor": 0
      },
      "text/plain": [
       "  0%|          | 0/5 [00:00<?, ?it/s]"
      ]
     },
     "metadata": {},
     "output_type": "display_data"
    },
    {
     "data": {
      "application/vnd.jupyter.widget-view+json": {
       "model_id": "cc6bde3df21249d2987543742594c68f",
       "version_major": 2,
       "version_minor": 0
      },
      "text/plain": [
       "  0%|          | 0/5 [00:00<?, ?it/s]"
      ]
     },
     "metadata": {},
     "output_type": "display_data"
    },
    {
     "data": {
      "application/vnd.jupyter.widget-view+json": {
       "model_id": "5c98b25bf1df451298b29ac3baf915c3",
       "version_major": 2,
       "version_minor": 0
      },
      "text/plain": [
       "  0%|          | 0/5 [00:00<?, ?it/s]"
      ]
     },
     "metadata": {},
     "output_type": "display_data"
    },
    {
     "data": {
      "application/vnd.jupyter.widget-view+json": {
       "model_id": "ede483bab77942ad957ac43aa911caee",
       "version_major": 2,
       "version_minor": 0
      },
      "text/plain": [
       "  0%|          | 0/5 [00:00<?, ?it/s]"
      ]
     },
     "metadata": {},
     "output_type": "display_data"
    },
    {
     "data": {
      "application/vnd.jupyter.widget-view+json": {
       "model_id": "1719ee2126a344d199ab440967b5e1f2",
       "version_major": 2,
       "version_minor": 0
      },
      "text/plain": [
       "  0%|          | 0/5 [00:00<?, ?it/s]"
      ]
     },
     "metadata": {},
     "output_type": "display_data"
    },
    {
     "data": {
      "application/vnd.jupyter.widget-view+json": {
       "model_id": "be8215a560a2495dbddb4bef3e89b296",
       "version_major": 2,
       "version_minor": 0
      },
      "text/plain": [
       "  0%|          | 0/5 [00:00<?, ?it/s]"
      ]
     },
     "metadata": {},
     "output_type": "display_data"
    },
    {
     "data": {
      "application/vnd.jupyter.widget-view+json": {
       "model_id": "b18d3309d275407ca6698c308a1c9e47",
       "version_major": 2,
       "version_minor": 0
      },
      "text/plain": [
       "  0%|          | 0/5 [00:00<?, ?it/s]"
      ]
     },
     "metadata": {},
     "output_type": "display_data"
    },
    {
     "data": {
      "application/vnd.jupyter.widget-view+json": {
       "model_id": "c1d31d0678df4f8c9230031e288aa29e",
       "version_major": 2,
       "version_minor": 0
      },
      "text/plain": [
       "  0%|          | 0/5 [00:00<?, ?it/s]"
      ]
     },
     "metadata": {},
     "output_type": "display_data"
    },
    {
     "data": {
      "application/vnd.jupyter.widget-view+json": {
       "model_id": "3e71077570bd4dd6ac1942aa696c5ff8",
       "version_major": 2,
       "version_minor": 0
      },
      "text/plain": [
       "  0%|          | 0/5 [00:00<?, ?it/s]"
      ]
     },
     "metadata": {},
     "output_type": "display_data"
    },
    {
     "data": {
      "application/vnd.jupyter.widget-view+json": {
       "model_id": "606a98fbad024b2da16229608c990792",
       "version_major": 2,
       "version_minor": 0
      },
      "text/plain": [
       "  0%|          | 0/5 [00:00<?, ?it/s]"
      ]
     },
     "metadata": {},
     "output_type": "display_data"
    },
    {
     "data": {
      "application/vnd.jupyter.widget-view+json": {
       "model_id": "a289e73a54ec488a96f891412d71a396",
       "version_major": 2,
       "version_minor": 0
      },
      "text/plain": [
       "  0%|          | 0/5 [00:00<?, ?it/s]"
      ]
     },
     "metadata": {},
     "output_type": "display_data"
    },
    {
     "data": {
      "application/vnd.jupyter.widget-view+json": {
       "model_id": "6dc1df983a6042bfbcdbd4260f4d5473",
       "version_major": 2,
       "version_minor": 0
      },
      "text/plain": [
       "  0%|          | 0/5 [00:00<?, ?it/s]"
      ]
     },
     "metadata": {},
     "output_type": "display_data"
    },
    {
     "data": {
      "application/vnd.jupyter.widget-view+json": {
       "model_id": "1b2997ab6d3242a4adae41ef20c310fc",
       "version_major": 2,
       "version_minor": 0
      },
      "text/plain": [
       "  0%|          | 0/5 [00:00<?, ?it/s]"
      ]
     },
     "metadata": {},
     "output_type": "display_data"
    },
    {
     "data": {
      "application/vnd.jupyter.widget-view+json": {
       "model_id": "4f8af3cade684acba00f64f66abc5f39",
       "version_major": 2,
       "version_minor": 0
      },
      "text/plain": [
       "  0%|          | 0/5 [00:00<?, ?it/s]"
      ]
     },
     "metadata": {},
     "output_type": "display_data"
    },
    {
     "data": {
      "application/vnd.jupyter.widget-view+json": {
       "model_id": "7425964a9c9f4d3dba9f848f619624c4",
       "version_major": 2,
       "version_minor": 0
      },
      "text/plain": [
       "  0%|          | 0/5 [00:00<?, ?it/s]"
      ]
     },
     "metadata": {},
     "output_type": "display_data"
    },
    {
     "data": {
      "application/vnd.jupyter.widget-view+json": {
       "model_id": "37771a06371a486eabf98a4fe813ae62",
       "version_major": 2,
       "version_minor": 0
      },
      "text/plain": [
       "  0%|          | 0/5 [00:00<?, ?it/s]"
      ]
     },
     "metadata": {},
     "output_type": "display_data"
    },
    {
     "data": {
      "application/vnd.jupyter.widget-view+json": {
       "model_id": "bb7d79490d034c0c94a53f105e44bfcb",
       "version_major": 2,
       "version_minor": 0
      },
      "text/plain": [
       "  0%|          | 0/5 [00:00<?, ?it/s]"
      ]
     },
     "metadata": {},
     "output_type": "display_data"
    },
    {
     "data": {
      "application/vnd.jupyter.widget-view+json": {
       "model_id": "db8e4b1a0a39419cbef88ca3e8617028",
       "version_major": 2,
       "version_minor": 0
      },
      "text/plain": [
       "  0%|          | 0/5 [00:00<?, ?it/s]"
      ]
     },
     "metadata": {},
     "output_type": "display_data"
    },
    {
     "data": {
      "application/vnd.jupyter.widget-view+json": {
       "model_id": "e7b3e09fba1d4b2490e3fe36db3f58c6",
       "version_major": 2,
       "version_minor": 0
      },
      "text/plain": [
       "  0%|          | 0/5 [00:00<?, ?it/s]"
      ]
     },
     "metadata": {},
     "output_type": "display_data"
    },
    {
     "data": {
      "application/vnd.jupyter.widget-view+json": {
       "model_id": "141f0ab5fe8a4dfc9fa18fb2c6b3c1a6",
       "version_major": 2,
       "version_minor": 0
      },
      "text/plain": [
       "  0%|          | 0/5 [00:00<?, ?it/s]"
      ]
     },
     "metadata": {},
     "output_type": "display_data"
    },
    {
     "data": {
      "application/vnd.jupyter.widget-view+json": {
       "model_id": "83b0a36d46334e569800abb7102bac9d",
       "version_major": 2,
       "version_minor": 0
      },
      "text/plain": [
       "  0%|          | 0/5 [00:00<?, ?it/s]"
      ]
     },
     "metadata": {},
     "output_type": "display_data"
    },
    {
     "data": {
      "application/vnd.jupyter.widget-view+json": {
       "model_id": "e3c67acd07b34366b3386eaf90a35548",
       "version_major": 2,
       "version_minor": 0
      },
      "text/plain": [
       "  0%|          | 0/5 [00:00<?, ?it/s]"
      ]
     },
     "metadata": {},
     "output_type": "display_data"
    },
    {
     "data": {
      "application/vnd.jupyter.widget-view+json": {
       "model_id": "89de4f8e99024eb4b9952be3f9cc7986",
       "version_major": 2,
       "version_minor": 0
      },
      "text/plain": [
       "  0%|          | 0/5 [00:00<?, ?it/s]"
      ]
     },
     "metadata": {},
     "output_type": "display_data"
    },
    {
     "data": {
      "application/vnd.jupyter.widget-view+json": {
       "model_id": "11960e6399bd49cb89493e3fae6381b1",
       "version_major": 2,
       "version_minor": 0
      },
      "text/plain": [
       "  0%|          | 0/5 [00:00<?, ?it/s]"
      ]
     },
     "metadata": {},
     "output_type": "display_data"
    },
    {
     "data": {
      "application/vnd.jupyter.widget-view+json": {
       "model_id": "5b509c671e394267bf2b4bdad794e0ad",
       "version_major": 2,
       "version_minor": 0
      },
      "text/plain": [
       "  0%|          | 0/5 [00:00<?, ?it/s]"
      ]
     },
     "metadata": {},
     "output_type": "display_data"
    },
    {
     "data": {
      "application/vnd.jupyter.widget-view+json": {
       "model_id": "29b441d29f3e4fee89829f5ba222df7b",
       "version_major": 2,
       "version_minor": 0
      },
      "text/plain": [
       "  0%|          | 0/5 [00:00<?, ?it/s]"
      ]
     },
     "metadata": {},
     "output_type": "display_data"
    },
    {
     "data": {
      "application/vnd.jupyter.widget-view+json": {
       "model_id": "b1fba8e74d934e7e938d07801f841b71",
       "version_major": 2,
       "version_minor": 0
      },
      "text/plain": [
       "  0%|          | 0/5 [00:00<?, ?it/s]"
      ]
     },
     "metadata": {},
     "output_type": "display_data"
    },
    {
     "data": {
      "application/vnd.jupyter.widget-view+json": {
       "model_id": "dbddbab80bf84bebbf0a8b0ce5383797",
       "version_major": 2,
       "version_minor": 0
      },
      "text/plain": [
       "  0%|          | 0/5 [00:00<?, ?it/s]"
      ]
     },
     "metadata": {},
     "output_type": "display_data"
    },
    {
     "data": {
      "application/vnd.jupyter.widget-view+json": {
       "model_id": "9bb8d6d1cfaf435a971c5faa26d73ebb",
       "version_major": 2,
       "version_minor": 0
      },
      "text/plain": [
       "  0%|          | 0/5 [00:00<?, ?it/s]"
      ]
     },
     "metadata": {},
     "output_type": "display_data"
    },
    {
     "data": {
      "application/vnd.jupyter.widget-view+json": {
       "model_id": "6389c4dda6bc478e918c7714a7fb2afe",
       "version_major": 2,
       "version_minor": 0
      },
      "text/plain": [
       "  0%|          | 0/5 [00:00<?, ?it/s]"
      ]
     },
     "metadata": {},
     "output_type": "display_data"
    },
    {
     "data": {
      "application/vnd.jupyter.widget-view+json": {
       "model_id": "5d37e3355f944fa8a7d6420a00333de6",
       "version_major": 2,
       "version_minor": 0
      },
      "text/plain": [
       "  0%|          | 0/5 [00:00<?, ?it/s]"
      ]
     },
     "metadata": {},
     "output_type": "display_data"
    },
    {
     "data": {
      "application/vnd.jupyter.widget-view+json": {
       "model_id": "64e1e6dd111c4969bd2971cf12e0b3ec",
       "version_major": 2,
       "version_minor": 0
      },
      "text/plain": [
       "  0%|          | 0/5 [00:00<?, ?it/s]"
      ]
     },
     "metadata": {},
     "output_type": "display_data"
    },
    {
     "data": {
      "application/vnd.jupyter.widget-view+json": {
       "model_id": "c678ae8e047e4f40a7745f3d53d73789",
       "version_major": 2,
       "version_minor": 0
      },
      "text/plain": [
       "  0%|          | 0/5 [00:00<?, ?it/s]"
      ]
     },
     "metadata": {},
     "output_type": "display_data"
    },
    {
     "data": {
      "application/vnd.jupyter.widget-view+json": {
       "model_id": "80597061bff1430183e6ace78ed55433",
       "version_major": 2,
       "version_minor": 0
      },
      "text/plain": [
       "  0%|          | 0/5 [00:00<?, ?it/s]"
      ]
     },
     "metadata": {},
     "output_type": "display_data"
    },
    {
     "data": {
      "application/vnd.jupyter.widget-view+json": {
       "model_id": "2b8c339a2cd3444dab944d3b638ae8a2",
       "version_major": 2,
       "version_minor": 0
      },
      "text/plain": [
       "  0%|          | 0/5 [00:00<?, ?it/s]"
      ]
     },
     "metadata": {},
     "output_type": "display_data"
    },
    {
     "data": {
      "application/vnd.jupyter.widget-view+json": {
       "model_id": "8260d0e4aa04497d9c98b1d216efe687",
       "version_major": 2,
       "version_minor": 0
      },
      "text/plain": [
       "  0%|          | 0/5 [00:00<?, ?it/s]"
      ]
     },
     "metadata": {},
     "output_type": "display_data"
    },
    {
     "data": {
      "application/vnd.jupyter.widget-view+json": {
       "model_id": "233c44f8b17b480fbf57363e2f7dd43c",
       "version_major": 2,
       "version_minor": 0
      },
      "text/plain": [
       "  0%|          | 0/5 [00:00<?, ?it/s]"
      ]
     },
     "metadata": {},
     "output_type": "display_data"
    },
    {
     "data": {
      "application/vnd.jupyter.widget-view+json": {
       "model_id": "bea59d9b0cf04477a7e3c100db15248a",
       "version_major": 2,
       "version_minor": 0
      },
      "text/plain": [
       "  0%|          | 0/5 [00:00<?, ?it/s]"
      ]
     },
     "metadata": {},
     "output_type": "display_data"
    },
    {
     "data": {
      "application/vnd.jupyter.widget-view+json": {
       "model_id": "5249d6487f7e41ad959d8bcd3b8653c2",
       "version_major": 2,
       "version_minor": 0
      },
      "text/plain": [
       "  0%|          | 0/5 [00:00<?, ?it/s]"
      ]
     },
     "metadata": {},
     "output_type": "display_data"
    },
    {
     "data": {
      "application/vnd.jupyter.widget-view+json": {
       "model_id": "2037b8ed7ed6491f9a48530f97b98831",
       "version_major": 2,
       "version_minor": 0
      },
      "text/plain": [
       "  0%|          | 0/5 [00:00<?, ?it/s]"
      ]
     },
     "metadata": {},
     "output_type": "display_data"
    },
    {
     "data": {
      "application/vnd.jupyter.widget-view+json": {
       "model_id": "dd45a60a089f4ef2a2f3b6652981de23",
       "version_major": 2,
       "version_minor": 0
      },
      "text/plain": [
       "  0%|          | 0/5 [00:00<?, ?it/s]"
      ]
     },
     "metadata": {},
     "output_type": "display_data"
    },
    {
     "data": {
      "application/vnd.jupyter.widget-view+json": {
       "model_id": "cc7188c321f5457cbbab0cf11f1e1672",
       "version_major": 2,
       "version_minor": 0
      },
      "text/plain": [
       "  0%|          | 0/5 [00:00<?, ?it/s]"
      ]
     },
     "metadata": {},
     "output_type": "display_data"
    },
    {
     "data": {
      "application/vnd.jupyter.widget-view+json": {
       "model_id": "79ac4a12b8ee4283863d62a6f07ba3bf",
       "version_major": 2,
       "version_minor": 0
      },
      "text/plain": [
       "  0%|          | 0/5 [00:00<?, ?it/s]"
      ]
     },
     "metadata": {},
     "output_type": "display_data"
    },
    {
     "data": {
      "application/vnd.jupyter.widget-view+json": {
       "model_id": "f33c3ee9f92a44c893792a367730feb6",
       "version_major": 2,
       "version_minor": 0
      },
      "text/plain": [
       "  0%|          | 0/5 [00:00<?, ?it/s]"
      ]
     },
     "metadata": {},
     "output_type": "display_data"
    },
    {
     "data": {
      "application/vnd.jupyter.widget-view+json": {
       "model_id": "8704c31afd4f470a9c014491d868fce0",
       "version_major": 2,
       "version_minor": 0
      },
      "text/plain": [
       "  0%|          | 0/5 [00:00<?, ?it/s]"
      ]
     },
     "metadata": {},
     "output_type": "display_data"
    },
    {
     "data": {
      "application/vnd.jupyter.widget-view+json": {
       "model_id": "2b75122f80444d919dfcdfe0ca07f697",
       "version_major": 2,
       "version_minor": 0
      },
      "text/plain": [
       "  0%|          | 0/5 [00:00<?, ?it/s]"
      ]
     },
     "metadata": {},
     "output_type": "display_data"
    },
    {
     "data": {
      "application/vnd.jupyter.widget-view+json": {
       "model_id": "5750a94105b243afbbe19b1c0c8fd972",
       "version_major": 2,
       "version_minor": 0
      },
      "text/plain": [
       "  0%|          | 0/5 [00:00<?, ?it/s]"
      ]
     },
     "metadata": {},
     "output_type": "display_data"
    },
    {
     "data": {
      "application/vnd.jupyter.widget-view+json": {
       "model_id": "ed4cde90fcf24049911595a4c87cea7f",
       "version_major": 2,
       "version_minor": 0
      },
      "text/plain": [
       "  0%|          | 0/5 [00:00<?, ?it/s]"
      ]
     },
     "metadata": {},
     "output_type": "display_data"
    },
    {
     "data": {
      "application/vnd.jupyter.widget-view+json": {
       "model_id": "c75a507ab01946adbb9600607910e9e2",
       "version_major": 2,
       "version_minor": 0
      },
      "text/plain": [
       "  0%|          | 0/5 [00:00<?, ?it/s]"
      ]
     },
     "metadata": {},
     "output_type": "display_data"
    },
    {
     "data": {
      "application/vnd.jupyter.widget-view+json": {
       "model_id": "21c75637f1344113bf03a11a6f360607",
       "version_major": 2,
       "version_minor": 0
      },
      "text/plain": [
       "  0%|          | 0/5 [00:00<?, ?it/s]"
      ]
     },
     "metadata": {},
     "output_type": "display_data"
    },
    {
     "data": {
      "application/vnd.jupyter.widget-view+json": {
       "model_id": "6c720dccaecc46c0a2ffa737d5cc535b",
       "version_major": 2,
       "version_minor": 0
      },
      "text/plain": [
       "  0%|          | 0/5 [00:00<?, ?it/s]"
      ]
     },
     "metadata": {},
     "output_type": "display_data"
    },
    {
     "data": {
      "application/vnd.jupyter.widget-view+json": {
       "model_id": "cff37c599c53437ab14e8368c9f0ec8e",
       "version_major": 2,
       "version_minor": 0
      },
      "text/plain": [
       "  0%|          | 0/5 [00:00<?, ?it/s]"
      ]
     },
     "metadata": {},
     "output_type": "display_data"
    },
    {
     "data": {
      "application/vnd.jupyter.widget-view+json": {
       "model_id": "deaaeb95a24149d3a34fe71c6b8eb4f1",
       "version_major": 2,
       "version_minor": 0
      },
      "text/plain": [
       "  0%|          | 0/5 [00:00<?, ?it/s]"
      ]
     },
     "metadata": {},
     "output_type": "display_data"
    },
    {
     "data": {
      "application/vnd.jupyter.widget-view+json": {
       "model_id": "3c524bd2a3d54ef8bbe4797e31659bba",
       "version_major": 2,
       "version_minor": 0
      },
      "text/plain": [
       "  0%|          | 0/5 [00:00<?, ?it/s]"
      ]
     },
     "metadata": {},
     "output_type": "display_data"
    },
    {
     "data": {
      "application/vnd.jupyter.widget-view+json": {
       "model_id": "fc180fb5bf7f42188fb2098956c57cc6",
       "version_major": 2,
       "version_minor": 0
      },
      "text/plain": [
       "  0%|          | 0/5 [00:00<?, ?it/s]"
      ]
     },
     "metadata": {},
     "output_type": "display_data"
    },
    {
     "data": {
      "application/vnd.jupyter.widget-view+json": {
       "model_id": "2395aa47a10c47308102efb5842f084d",
       "version_major": 2,
       "version_minor": 0
      },
      "text/plain": [
       "  0%|          | 0/5 [00:00<?, ?it/s]"
      ]
     },
     "metadata": {},
     "output_type": "display_data"
    },
    {
     "data": {
      "application/vnd.jupyter.widget-view+json": {
       "model_id": "a2ee2dfdd2d4469f8f833663d9615d6e",
       "version_major": 2,
       "version_minor": 0
      },
      "text/plain": [
       "  0%|          | 0/5 [00:00<?, ?it/s]"
      ]
     },
     "metadata": {},
     "output_type": "display_data"
    },
    {
     "data": {
      "application/vnd.jupyter.widget-view+json": {
       "model_id": "7d793f284d6f4fc1a20e15e15dd2ebf6",
       "version_major": 2,
       "version_minor": 0
      },
      "text/plain": [
       "  0%|          | 0/5 [00:00<?, ?it/s]"
      ]
     },
     "metadata": {},
     "output_type": "display_data"
    },
    {
     "data": {
      "application/vnd.jupyter.widget-view+json": {
       "model_id": "2b27598033214e6999455cafc623bc94",
       "version_major": 2,
       "version_minor": 0
      },
      "text/plain": [
       "  0%|          | 0/5 [00:00<?, ?it/s]"
      ]
     },
     "metadata": {},
     "output_type": "display_data"
    },
    {
     "data": {
      "application/vnd.jupyter.widget-view+json": {
       "model_id": "02aaa88e28484437a8a2fb356daa8a6a",
       "version_major": 2,
       "version_minor": 0
      },
      "text/plain": [
       "  0%|          | 0/5 [00:00<?, ?it/s]"
      ]
     },
     "metadata": {},
     "output_type": "display_data"
    },
    {
     "data": {
      "application/vnd.jupyter.widget-view+json": {
       "model_id": "8d45addb859e496590d8a19a51d944e6",
       "version_major": 2,
       "version_minor": 0
      },
      "text/plain": [
       "  0%|          | 0/5 [00:00<?, ?it/s]"
      ]
     },
     "metadata": {},
     "output_type": "display_data"
    },
    {
     "data": {
      "application/vnd.jupyter.widget-view+json": {
       "model_id": "a69f66ca2fbf4b3a97e9e9dacfe94446",
       "version_major": 2,
       "version_minor": 0
      },
      "text/plain": [
       "  0%|          | 0/5 [00:00<?, ?it/s]"
      ]
     },
     "metadata": {},
     "output_type": "display_data"
    },
    {
     "data": {
      "application/vnd.jupyter.widget-view+json": {
       "model_id": "4a701e17b07940e2b4347210001cb49b",
       "version_major": 2,
       "version_minor": 0
      },
      "text/plain": [
       "  0%|          | 0/5 [00:00<?, ?it/s]"
      ]
     },
     "metadata": {},
     "output_type": "display_data"
    },
    {
     "data": {
      "application/vnd.jupyter.widget-view+json": {
       "model_id": "085001e8565e4eef8f05fa72e9261faf",
       "version_major": 2,
       "version_minor": 0
      },
      "text/plain": [
       "  0%|          | 0/5 [00:00<?, ?it/s]"
      ]
     },
     "metadata": {},
     "output_type": "display_data"
    },
    {
     "data": {
      "application/vnd.jupyter.widget-view+json": {
       "model_id": "89f9ac4804dd40a1b49aad7f5a06dd79",
       "version_major": 2,
       "version_minor": 0
      },
      "text/plain": [
       "  0%|          | 0/5 [00:00<?, ?it/s]"
      ]
     },
     "metadata": {},
     "output_type": "display_data"
    }
   ],
   "source": [
    "rp_show_list=[]\n",
    "rp_show_mobile=[]\n",
    "rp_show_web=[]\n",
    "for ui in tqdm(UserInCompany.objects.filter(company__name__startswith=\"GSO\")):\n",
    "    for rp in tqdm(RecordPanel.objects.filter(company=ui.company)):\n",
    "        if RecordPanelShowList.objects.filter(panel__company=ui.company,user=ui.user).order_by('order').last() != None:\n",
    "            last_order=RecordPanelShowList.objects.filter(panel__company=ui.company,user=ui.user).order_by('order').last().order\n",
    "        else:\n",
    "            last_order=-1\n",
    "#         print(last_order)\n",
    "        if not RecordPanelShowList.objects.filter(panel=rp,user=ui.user).exists():\n",
    "            rpsl = RecordPanelShowList(panel=rp,user=ui.user,order=last_order+1)\n",
    "            rp_show_list.append(rpsl)\n",
    "\n",
    "        if not RecordPanelShowMobileMap.objects.filter(panel=rp,user=ui.user).exists():\n",
    "            rpsmm = RecordPanelShowMobileMap(panel=rp,user=ui.user)\n",
    "            rp_show_mobile.append(rpsmm)\n",
    "\n",
    "        if not RecordPanelShowWebMap.objects.filter(panel=rp,user=ui.user).exists():\n",
    "            rpswm = RecordPanelShowWebMap(panel=rp,user=ui.user)\n",
    "            rp_show_web.append(rpswm)"
   ]
  },
  {
   "cell_type": "code",
   "execution_count": 4,
   "id": "ad6a015d",
   "metadata": {},
   "outputs": [
    {
     "data": {
      "text/plain": [
       "(1115, 1858, 1117)"
      ]
     },
     "execution_count": 4,
     "metadata": {},
     "output_type": "execute_result"
    }
   ],
   "source": [
    "len(rp_show_list),len(rp_show_mobile),len(rp_show_web)"
   ]
  },
  {
   "cell_type": "code",
   "execution_count": 5,
   "id": "b219992f",
   "metadata": {},
   "outputs": [
    {
     "name": "stdout",
     "output_type": "stream",
     "text": [
      "roque sanchez ZAS GSO - UHE-PONTE DE PEDRA\n",
      "roque sanchez Alerta sonoro GSO - UHE-PONTE DE PEDRA\n",
      "roque sanchez ZSS GSO - UHE-PONTE DE PEDRA\n",
      "roque sanchez Ponto de encontro GSO - UHE-PONTE DE PEDRA\n",
      "Giulia Platt Maffezzolli ZAS GSO - UHE-PONTE DE PEDRA\n",
      "Giulia Platt Maffezzolli Alerta sonoro GSO - UHE-PONTE DE PEDRA\n",
      "Giulia Platt Maffezzolli ZSS GSO - UHE-PONTE DE PEDRA\n",
      "Giulia Platt Maffezzolli Ponto de encontro GSO - UHE-PONTE DE PEDRA\n",
      "Igor Renan Braga Dos Santos ZAS GSO - UHE-PONTE DE PEDRA\n",
      "Igor Renan Braga Dos Santos Alerta sonoro GSO - UHE-PONTE DE PEDRA\n",
      "Igor Renan Braga Dos Santos ZSS GSO - UHE-PONTE DE PEDRA\n",
      "Igor Renan Braga Dos Santos Ponto de encontro GSO - UHE-PONTE DE PEDRA\n",
      "Jose Vicente Miranda Rescigno ZAS GSO - UHE-PONTE DE PEDRA\n",
      "Jose Vicente Miranda Rescigno Alerta sonoro GSO - UHE-PONTE DE PEDRA\n",
      "Jose Vicente Miranda Rescigno ZSS GSO - UHE-PONTE DE PEDRA\n",
      "Jose Vicente Miranda Rescigno Ponto de encontro GSO - UHE-PONTE DE PEDRA\n",
      "Andréia Zanatta ZAS GSO - UHE-PONTE DE PEDRA\n",
      "Andréia Zanatta Alerta sonoro GSO - UHE-PONTE DE PEDRA\n",
      "Andréia Zanatta ZSS GSO - UHE-PONTE DE PEDRA\n",
      "Andréia Zanatta Ponto de encontro GSO - UHE-PONTE DE PEDRA\n",
      "Olavo lajus ZAS GSO - UHE-PONTE DE PEDRA\n",
      "Olavo lajus Alerta sonoro GSO - UHE-PONTE DE PEDRA\n",
      "Olavo lajus ZSS GSO - UHE-PONTE DE PEDRA\n",
      "Olavo lajus Ponto de encontro GSO - UHE-PONTE DE PEDRA\n",
      "Manual PAEB ZAS GSO - UHE-PONTE DE PEDRA\n",
      "Manual PAEB Alerta sonoro GSO - UHE-PONTE DE PEDRA\n",
      "Manual PAEB ZSS GSO - UHE-PONTE DE PEDRA\n",
      "Manual PAEB Ponto de encontro GSO - UHE-PONTE DE PEDRA\n",
      "Nilson Berticelli ZAS GSO - UHE-PONTE DE PEDRA\n",
      "Nilson Berticelli Alerta sonoro GSO - UHE-PONTE DE PEDRA\n",
      "Nilson Berticelli ZSS GSO - UHE-PONTE DE PEDRA\n",
      "Nilson Berticelli Ponto de encontro GSO - UHE-PONTE DE PEDRA\n",
      "Cid Ionceck ZAS GSO - UHE-PONTE DE PEDRA\n",
      "Cid Ionceck Alerta sonoro GSO - UHE-PONTE DE PEDRA\n",
      "Cid Ionceck ZSS GSO - UHE-PONTE DE PEDRA\n",
      "Cid Ionceck Ponto de encontro GSO - UHE-PONTE DE PEDRA\n",
      "Evandro Ferreira ZAS GSO - UHE-PONTE DE PEDRA\n",
      "Evandro Ferreira Alerta sonoro GSO - UHE-PONTE DE PEDRA\n",
      "Evandro Ferreira ZSS GSO - UHE-PONTE DE PEDRA\n",
      "Evandro Ferreira Ponto de encontro GSO - UHE-PONTE DE PEDRA\n",
      "Giovana Garlet ZAS GSO - UHE-PONTE DE PEDRA\n",
      "Giovana Garlet Alerta sonoro GSO - UHE-PONTE DE PEDRA\n",
      "Giovana Garlet ZSS GSO - UHE-PONTE DE PEDRA\n",
      "Giovana Garlet Ponto de encontro GSO - UHE-PONTE DE PEDRA\n",
      "Agente de Defesa Civil ZAS GSO - UHE-PONTE DE PEDRA\n",
      "Agente de Defesa Civil Alerta sonoro GSO - UHE-PONTE DE PEDRA\n",
      "Agente de Defesa Civil ZSS GSO - UHE-PONTE DE PEDRA\n",
      "Agente de Defesa Civil Ponto de encontro GSO - UHE-PONTE DE PEDRA\n",
      "Karine Denize Posser ZAS GSO - UHE-PONTE DE PEDRA\n",
      "Karine Denize Posser Alerta sonoro GSO - UHE-PONTE DE PEDRA\n",
      "Karine Denize Posser ZSS GSO - UHE-PONTE DE PEDRA\n",
      "Karine Denize Posser Ponto de encontro GSO - UHE-PONTE DE PEDRA\n",
      "Gustavo Oliveira ZAS GSO - UHE-PONTE DE PEDRA\n",
      "Gustavo Oliveira Alerta sonoro GSO - UHE-PONTE DE PEDRA\n",
      "Gustavo Oliveira ZSS GSO - UHE-PONTE DE PEDRA\n",
      "Gustavo Oliveira Ponto de encontro GSO - UHE-PONTE DE PEDRA\n",
      "Karla Zorzam ZAS GSO - UHE-PONTE DE PEDRA\n",
      "Karla Zorzam Alerta sonoro GSO - UHE-PONTE DE PEDRA\n",
      "Karla Zorzam ZSS GSO - UHE-PONTE DE PEDRA\n",
      "Karla Zorzam Ponto de encontro GSO - UHE-PONTE DE PEDRA\n",
      "Rafael Silva De Almeida ZAS GSO - UHE-PONTE DE PEDRA\n",
      "Rafael Silva De Almeida Alerta sonoro GSO - UHE-PONTE DE PEDRA\n",
      "Rafael Silva De Almeida ZSS GSO - UHE-PONTE DE PEDRA\n",
      "Rafael Silva De Almeida Ponto de encontro GSO - UHE-PONTE DE PEDRA\n",
      "Allan Keller ZAS GSO - UHE-PONTE DE PEDRA\n",
      "Allan Keller Alerta sonoro GSO - UHE-PONTE DE PEDRA\n",
      "Allan Keller ZSS GSO - UHE-PONTE DE PEDRA\n",
      "Allan Keller Ponto de encontro GSO - UHE-PONTE DE PEDRA\n",
      "Leone Genz ZAS GSO - UHE-PONTE DE PEDRA\n",
      "Leone Genz Alerta sonoro GSO - UHE-PONTE DE PEDRA\n",
      "Leone Genz ZSS GSO - UHE-PONTE DE PEDRA\n",
      "Leone Genz Ponto de encontro GSO - UHE-PONTE DE PEDRA\n",
      "Graciele Woiciekoski ZAS GSO - UHE-PONTE DE PEDRA\n",
      "Graciele Woiciekoski Alerta sonoro GSO - UHE-PONTE DE PEDRA\n",
      "Graciele Woiciekoski ZSS GSO - UHE-PONTE DE PEDRA\n",
      "Graciele Woiciekoski Ponto de encontro GSO - UHE-PONTE DE PEDRA\n",
      "Victor Martins ZAS GSO - UHE-PONTE DE PEDRA\n",
      "Victor Martins Alerta sonoro GSO - UHE-PONTE DE PEDRA\n",
      "Victor Martins ZSS GSO - UHE-PONTE DE PEDRA\n",
      "Victor Martins Ponto de encontro GSO - UHE-PONTE DE PEDRA\n",
      "Eduardo Soares Porto ZAS GSO - UHE-PONTE DE PEDRA\n",
      "Eduardo Soares Porto Alerta sonoro GSO - UHE-PONTE DE PEDRA\n",
      "Eduardo Soares Porto ZSS GSO - UHE-PONTE DE PEDRA\n",
      "Eduardo Soares Porto Ponto de encontro GSO - UHE-PONTE DE PEDRA\n",
      "João Guilherme Stumpf Reis ZAS GSO - UHE-PONTE DE PEDRA\n",
      "João Guilherme Stumpf Reis Alerta sonoro GSO - UHE-PONTE DE PEDRA\n",
      "João Guilherme Stumpf Reis ZSS GSO - UHE-PONTE DE PEDRA\n",
      "João Guilherme Stumpf Reis Ponto de encontro GSO - UHE-PONTE DE PEDRA\n",
      "Karine Denize Posser ZAS GSO - UHE-PASSO FUNDO\n",
      "Karine Denize Posser Ponto de encontro GSO - UHE-PASSO FUNDO\n",
      "Karine Denize Posser Rota de fuga GSO - UHE-PASSO FUNDO\n",
      "Karine Denize Posser Alerta sonoro GSO - UHE-PASSO FUNDO\n",
      "Karine Denize Posser ZSS GSO - UHE-PASSO FUNDO\n",
      "Nilson Berticelli ZAS GSO - UHE-PASSO FUNDO\n",
      "Nilson Berticelli Ponto de encontro GSO - UHE-PASSO FUNDO\n",
      "Nilson Berticelli Rota de fuga GSO - UHE-PASSO FUNDO\n",
      "Nilson Berticelli Alerta sonoro GSO - UHE-PASSO FUNDO\n",
      "Nilson Berticelli ZSS GSO - UHE-PASSO FUNDO\n",
      "Graciele Woiciekoski ZAS GSO - UHE-PASSO FUNDO\n",
      "Graciele Woiciekoski Ponto de encontro GSO - UHE-PASSO FUNDO\n",
      "Graciele Woiciekoski Rota de fuga GSO - UHE-PASSO FUNDO\n",
      "Graciele Woiciekoski Alerta sonoro GSO - UHE-PASSO FUNDO\n",
      "Graciele Woiciekoski ZSS GSO - UHE-PASSO FUNDO\n",
      "Karla Zorzam ZAS GSO - UHE-PASSO FUNDO\n",
      "Karla Zorzam Ponto de encontro GSO - UHE-PASSO FUNDO\n",
      "Karla Zorzam Rota de fuga GSO - UHE-PASSO FUNDO\n",
      "Karla Zorzam Alerta sonoro GSO - UHE-PASSO FUNDO\n",
      "Karla Zorzam ZSS GSO - UHE-PASSO FUNDO\n",
      "Clademir Mandelli Ponto de encontro GSO - UHE-PASSO FUNDO\n",
      "Clademir Mandelli Rota de fuga GSO - UHE-PASSO FUNDO\n",
      "Clademir Mandelli Alerta sonoro GSO - UHE-PASSO FUNDO\n",
      "Clademir Mandelli ZSS GSO - UHE-PASSO FUNDO\n",
      "Giulia Platt Maffezzolli ZAS GSO - UHE-PASSO FUNDO\n",
      "Giulia Platt Maffezzolli Ponto de encontro GSO - UHE-PASSO FUNDO\n",
      "Giulia Platt Maffezzolli Rota de fuga GSO - UHE-PASSO FUNDO\n",
      "Giulia Platt Maffezzolli Alerta sonoro GSO - UHE-PASSO FUNDO\n",
      "Giulia Platt Maffezzolli ZSS GSO - UHE-PASSO FUNDO\n",
      "Gustavo Oliveira ZAS GSO - UHE-PASSO FUNDO\n",
      "Gustavo Oliveira Ponto de encontro GSO - UHE-PASSO FUNDO\n",
      "Gustavo Oliveira Rota de fuga GSO - UHE-PASSO FUNDO\n",
      "Gustavo Oliveira Alerta sonoro GSO - UHE-PASSO FUNDO\n",
      "Gustavo Oliveira ZSS GSO - UHE-PASSO FUNDO\n",
      "Victor Martins ZAS GSO - UHE-PASSO FUNDO\n",
      "Victor Martins Ponto de encontro GSO - UHE-PASSO FUNDO\n",
      "Victor Martins Rota de fuga GSO - UHE-PASSO FUNDO\n",
      "Victor Martins Alerta sonoro GSO - UHE-PASSO FUNDO\n",
      "Victor Martins ZSS GSO - UHE-PASSO FUNDO\n",
      "Giovana Garlet ZAS GSO - UHE-PASSO FUNDO\n",
      "Giovana Garlet Ponto de encontro GSO - UHE-PASSO FUNDO\n",
      "Giovana Garlet Rota de fuga GSO - UHE-PASSO FUNDO\n",
      "Giovana Garlet Alerta sonoro GSO - UHE-PASSO FUNDO\n",
      "Giovana Garlet ZSS GSO - UHE-PASSO FUNDO\n",
      "Andréia Zanatta ZAS GSO - UHE-PASSO FUNDO\n",
      "Andréia Zanatta Ponto de encontro GSO - UHE-PASSO FUNDO\n",
      "Andréia Zanatta Rota de fuga GSO - UHE-PASSO FUNDO\n",
      "Andréia Zanatta Alerta sonoro GSO - UHE-PASSO FUNDO\n",
      "Andréia Zanatta ZSS GSO - UHE-PASSO FUNDO\n",
      "roque sanchez ZAS GSO - UHE-PASSO FUNDO\n",
      "roque sanchez Ponto de encontro GSO - UHE-PASSO FUNDO\n",
      "roque sanchez Rota de fuga GSO - UHE-PASSO FUNDO\n",
      "roque sanchez Alerta sonoro GSO - UHE-PASSO FUNDO\n",
      "roque sanchez ZSS GSO - UHE-PASSO FUNDO\n",
      "Rafael Silva De Almeida ZAS GSO - UHE-PASSO FUNDO\n",
      "Rafael Silva De Almeida Ponto de encontro GSO - UHE-PASSO FUNDO\n",
      "Rafael Silva De Almeida Rota de fuga GSO - UHE-PASSO FUNDO\n",
      "Rafael Silva De Almeida Alerta sonoro GSO - UHE-PASSO FUNDO\n",
      "Rafael Silva De Almeida ZSS GSO - UHE-PASSO FUNDO\n",
      "Allan Keller ZAS GSO - UHE-PASSO FUNDO\n",
      "Allan Keller Ponto de encontro GSO - UHE-PASSO FUNDO\n",
      "Allan Keller Rota de fuga GSO - UHE-PASSO FUNDO\n",
      "Allan Keller Alerta sonoro GSO - UHE-PASSO FUNDO\n",
      "Allan Keller ZSS GSO - UHE-PASSO FUNDO\n",
      "Pedro Flávio Dias Portela Oliveira Ponto de encontro GSO - UHE-PASSO FUNDO\n",
      "Pedro Flávio Dias Portela Oliveira Rota de fuga GSO - UHE-PASSO FUNDO\n",
      "Pedro Flávio Dias Portela Oliveira Alerta sonoro GSO - UHE-PASSO FUNDO\n",
      "Pedro Flávio Dias Portela Oliveira ZSS GSO - UHE-PASSO FUNDO\n",
      "Olavo lajus ZAS GSO - UHE-PASSO FUNDO\n",
      "Olavo lajus Ponto de encontro GSO - UHE-PASSO FUNDO\n",
      "Olavo lajus Rota de fuga GSO - UHE-PASSO FUNDO\n",
      "Olavo lajus Alerta sonoro GSO - UHE-PASSO FUNDO\n"
     ]
    },
    {
     "name": "stdout",
     "output_type": "stream",
     "text": [
      "Olavo lajus ZSS GSO - UHE-PASSO FUNDO\n",
      "Jose Vicente Miranda Rescigno ZAS GSO - UHE-PASSO FUNDO\n",
      "Jose Vicente Miranda Rescigno Ponto de encontro GSO - UHE-PASSO FUNDO\n",
      "Jose Vicente Miranda Rescigno Rota de fuga GSO - UHE-PASSO FUNDO\n",
      "Jose Vicente Miranda Rescigno Alerta sonoro GSO - UHE-PASSO FUNDO\n",
      "Jose Vicente Miranda Rescigno ZSS GSO - UHE-PASSO FUNDO\n",
      "Rui Pinali Biavatti Ponto de encontro GSO - UHE-PASSO FUNDO\n",
      "Rui Pinali Biavatti Rota de fuga GSO - UHE-PASSO FUNDO\n",
      "Rui Pinali Biavatti Alerta sonoro GSO - UHE-PASSO FUNDO\n",
      "Rui Pinali Biavatti ZSS GSO - UHE-PASSO FUNDO\n",
      "Manual PAEB ZAS GSO - UHE-PASSO FUNDO\n",
      "Manual PAEB Ponto de encontro GSO - UHE-PASSO FUNDO\n",
      "Manual PAEB Rota de fuga GSO - UHE-PASSO FUNDO\n",
      "Manual PAEB Alerta sonoro GSO - UHE-PASSO FUNDO\n",
      "Manual PAEB ZSS GSO - UHE-PASSO FUNDO\n",
      "Leone Genz ZAS GSO - UHE-PASSO FUNDO\n",
      "Leone Genz Ponto de encontro GSO - UHE-PASSO FUNDO\n",
      "Leone Genz Rota de fuga GSO - UHE-PASSO FUNDO\n",
      "Leone Genz Alerta sonoro GSO - UHE-PASSO FUNDO\n",
      "Leone Genz ZSS GSO - UHE-PASSO FUNDO\n",
      "Cid Ionceck ZAS GSO - UHE-PASSO FUNDO\n",
      "Cid Ionceck Ponto de encontro GSO - UHE-PASSO FUNDO\n",
      "Cid Ionceck Rota de fuga GSO - UHE-PASSO FUNDO\n",
      "Cid Ionceck Alerta sonoro GSO - UHE-PASSO FUNDO\n",
      "Cid Ionceck ZSS GSO - UHE-PASSO FUNDO\n",
      "Igor Renan Braga Dos Santos ZAS GSO - UHE-PASSO FUNDO\n",
      "Igor Renan Braga Dos Santos Ponto de encontro GSO - UHE-PASSO FUNDO\n",
      "Igor Renan Braga Dos Santos Rota de fuga GSO - UHE-PASSO FUNDO\n",
      "Igor Renan Braga Dos Santos Alerta sonoro GSO - UHE-PASSO FUNDO\n",
      "Igor Renan Braga Dos Santos ZSS GSO - UHE-PASSO FUNDO\n",
      "João Guilherme Stumpf Reis ZAS GSO - UHE-PASSO FUNDO\n",
      "João Guilherme Stumpf Reis Ponto de encontro GSO - UHE-PASSO FUNDO\n",
      "João Guilherme Stumpf Reis Rota de fuga GSO - UHE-PASSO FUNDO\n",
      "João Guilherme Stumpf Reis Alerta sonoro GSO - UHE-PASSO FUNDO\n",
      "João Guilherme Stumpf Reis ZSS GSO - UHE-PASSO FUNDO\n",
      "Evandro Ferreira ZAS GSO - UHE-PASSO FUNDO\n",
      "Evandro Ferreira Ponto de encontro GSO - UHE-PASSO FUNDO\n",
      "Evandro Ferreira Rota de fuga GSO - UHE-PASSO FUNDO\n",
      "Evandro Ferreira Alerta sonoro GSO - UHE-PASSO FUNDO\n",
      "Evandro Ferreira ZSS GSO - UHE-PASSO FUNDO\n",
      "Agente de Defesa Civil ZAS GSO - UHE-PASSO FUNDO\n",
      "Agente de Defesa Civil Ponto de encontro GSO - UHE-PASSO FUNDO\n",
      "Agente de Defesa Civil Rota de fuga GSO - UHE-PASSO FUNDO\n",
      "Agente de Defesa Civil Alerta sonoro GSO - UHE-PASSO FUNDO\n",
      "Agente de Defesa Civil ZSS GSO - UHE-PASSO FUNDO\n",
      "Laís Caroline Centenaro Ponto de encontro GSO - UHE-PASSO FUNDO\n",
      "Laís Caroline Centenaro Rota de fuga GSO - UHE-PASSO FUNDO\n",
      "Laís Caroline Centenaro Alerta sonoro GSO - UHE-PASSO FUNDO\n",
      "Laís Caroline Centenaro ZSS GSO - UHE-PASSO FUNDO\n",
      "Guilherme Eduardo D'Alascio Ponto de encontro GSO - UHE-PASSO FUNDO\n",
      "Guilherme Eduardo D'Alascio Rota de fuga GSO - UHE-PASSO FUNDO\n",
      "Guilherme Eduardo D'Alascio Alerta sonoro GSO - UHE-PASSO FUNDO\n",
      "Guilherme Eduardo D'Alascio ZSS GSO - UHE-PASSO FUNDO\n",
      "Olavo lajus Rota de fuga GSO - PCH-RONDONÓPOLIS\n",
      "Olavo lajus Ponto de encontro GSO - PCH-RONDONÓPOLIS\n",
      "Olavo lajus Alerta sonoro GSO - PCH-RONDONÓPOLIS\n",
      "Olavo lajus ZSS GSO - PCH-RONDONÓPOLIS\n",
      "Olavo lajus ZAS GSO - PCH-RONDONÓPOLIS\n",
      "Graciele Woiciekoski Rota de fuga GSO - PCH-RONDONÓPOLIS\n",
      "Graciele Woiciekoski Ponto de encontro GSO - PCH-RONDONÓPOLIS\n",
      "Graciele Woiciekoski Alerta sonoro GSO - PCH-RONDONÓPOLIS\n",
      "Graciele Woiciekoski ZSS GSO - PCH-RONDONÓPOLIS\n",
      "Graciele Woiciekoski ZAS GSO - PCH-RONDONÓPOLIS\n",
      "Giovana Garlet Rota de fuga GSO - PCH-RONDONÓPOLIS\n",
      "Giovana Garlet Ponto de encontro GSO - PCH-RONDONÓPOLIS\n",
      "Giovana Garlet Alerta sonoro GSO - PCH-RONDONÓPOLIS\n",
      "Giovana Garlet ZSS GSO - PCH-RONDONÓPOLIS\n",
      "Giovana Garlet ZAS GSO - PCH-RONDONÓPOLIS\n",
      "roque sanchez Rota de fuga GSO - PCH-RONDONÓPOLIS\n",
      "roque sanchez Ponto de encontro GSO - PCH-RONDONÓPOLIS\n",
      "roque sanchez Alerta sonoro GSO - PCH-RONDONÓPOLIS\n",
      "roque sanchez ZSS GSO - PCH-RONDONÓPOLIS\n",
      "roque sanchez ZAS GSO - PCH-RONDONÓPOLIS\n",
      "Nilson Berticelli Rota de fuga GSO - PCH-RONDONÓPOLIS\n",
      "Nilson Berticelli Ponto de encontro GSO - PCH-RONDONÓPOLIS\n",
      "Nilson Berticelli Alerta sonoro GSO - PCH-RONDONÓPOLIS\n",
      "Nilson Berticelli ZSS GSO - PCH-RONDONÓPOLIS\n",
      "Nilson Berticelli ZAS GSO - PCH-RONDONÓPOLIS\n",
      "Jose Vicente Miranda Rescigno Rota de fuga GSO - PCH-RONDONÓPOLIS\n",
      "Jose Vicente Miranda Rescigno Ponto de encontro GSO - PCH-RONDONÓPOLIS\n",
      "Jose Vicente Miranda Rescigno Alerta sonoro GSO - PCH-RONDONÓPOLIS\n",
      "Jose Vicente Miranda Rescigno ZSS GSO - PCH-RONDONÓPOLIS\n",
      "Jose Vicente Miranda Rescigno ZAS GSO - PCH-RONDONÓPOLIS\n",
      "Karine Denize Posser Rota de fuga GSO - PCH-RONDONÓPOLIS\n",
      "Karine Denize Posser Ponto de encontro GSO - PCH-RONDONÓPOLIS\n",
      "Karine Denize Posser Alerta sonoro GSO - PCH-RONDONÓPOLIS\n",
      "Karine Denize Posser ZSS GSO - PCH-RONDONÓPOLIS\n",
      "Karine Denize Posser ZAS GSO - PCH-RONDONÓPOLIS\n",
      "Karla Zorzam Rota de fuga GSO - PCH-RONDONÓPOLIS\n",
      "Karla Zorzam Ponto de encontro GSO - PCH-RONDONÓPOLIS\n",
      "Karla Zorzam Alerta sonoro GSO - PCH-RONDONÓPOLIS\n",
      "Karla Zorzam ZSS GSO - PCH-RONDONÓPOLIS\n",
      "Karla Zorzam ZAS GSO - PCH-RONDONÓPOLIS\n",
      "Gustavo Oliveira Rota de fuga GSO - PCH-RONDONÓPOLIS\n",
      "Gustavo Oliveira Ponto de encontro GSO - PCH-RONDONÓPOLIS\n",
      "Gustavo Oliveira Alerta sonoro GSO - PCH-RONDONÓPOLIS\n",
      "Gustavo Oliveira ZSS GSO - PCH-RONDONÓPOLIS\n",
      "Gustavo Oliveira ZAS GSO - PCH-RONDONÓPOLIS\n",
      "Rafael Silva De Almeida Rota de fuga GSO - PCH-RONDONÓPOLIS\n",
      "Rafael Silva De Almeida Ponto de encontro GSO - PCH-RONDONÓPOLIS\n",
      "Rafael Silva De Almeida Alerta sonoro GSO - PCH-RONDONÓPOLIS\n",
      "Rafael Silva De Almeida ZSS GSO - PCH-RONDONÓPOLIS\n",
      "Rafael Silva De Almeida ZAS GSO - PCH-RONDONÓPOLIS\n",
      "Evandro Ferreira Rota de fuga GSO - PCH-RONDONÓPOLIS\n",
      "Evandro Ferreira Ponto de encontro GSO - PCH-RONDONÓPOLIS\n",
      "Evandro Ferreira Alerta sonoro GSO - PCH-RONDONÓPOLIS\n",
      "Evandro Ferreira ZSS GSO - PCH-RONDONÓPOLIS\n",
      "Evandro Ferreira ZAS GSO - PCH-RONDONÓPOLIS\n",
      "Victor Martins Rota de fuga GSO - PCH-RONDONÓPOLIS\n",
      "Victor Martins Ponto de encontro GSO - PCH-RONDONÓPOLIS\n",
      "Victor Martins Alerta sonoro GSO - PCH-RONDONÓPOLIS\n",
      "Victor Martins ZSS GSO - PCH-RONDONÓPOLIS\n",
      "Victor Martins ZAS GSO - PCH-RONDONÓPOLIS\n",
      "Eduardo Soares Porto Rota de fuga GSO - PCH-RONDONÓPOLIS\n",
      "Eduardo Soares Porto Ponto de encontro GSO - PCH-RONDONÓPOLIS\n",
      "Eduardo Soares Porto Alerta sonoro GSO - PCH-RONDONÓPOLIS\n",
      "Eduardo Soares Porto ZSS GSO - PCH-RONDONÓPOLIS\n",
      "Eduardo Soares Porto ZAS GSO - PCH-RONDONÓPOLIS\n",
      "João Guilherme Stumpf Reis Rota de fuga GSO - PCH-RONDONÓPOLIS\n",
      "João Guilherme Stumpf Reis Ponto de encontro GSO - PCH-RONDONÓPOLIS\n",
      "João Guilherme Stumpf Reis Alerta sonoro GSO - PCH-RONDONÓPOLIS\n",
      "João Guilherme Stumpf Reis ZSS GSO - PCH-RONDONÓPOLIS\n",
      "João Guilherme Stumpf Reis ZAS GSO - PCH-RONDONÓPOLIS\n",
      "Igor Renan Braga Dos Santos Rota de fuga GSO - PCH-RONDONÓPOLIS\n",
      "Igor Renan Braga Dos Santos Ponto de encontro GSO - PCH-RONDONÓPOLIS\n",
      "Igor Renan Braga Dos Santos Alerta sonoro GSO - PCH-RONDONÓPOLIS\n",
      "Igor Renan Braga Dos Santos ZSS GSO - PCH-RONDONÓPOLIS\n",
      "Igor Renan Braga Dos Santos ZAS GSO - PCH-RONDONÓPOLIS\n",
      "Giulia Platt Maffezzolli Rota de fuga GSO - PCH-RONDONÓPOLIS\n",
      "Giulia Platt Maffezzolli Ponto de encontro GSO - PCH-RONDONÓPOLIS\n",
      "Giulia Platt Maffezzolli Alerta sonoro GSO - PCH-RONDONÓPOLIS\n",
      "Giulia Platt Maffezzolli ZSS GSO - PCH-RONDONÓPOLIS\n",
      "Giulia Platt Maffezzolli ZAS GSO - PCH-RONDONÓPOLIS\n",
      "Andréia Zanatta Rota de fuga GSO - PCH-RONDONÓPOLIS\n",
      "Andréia Zanatta Ponto de encontro GSO - PCH-RONDONÓPOLIS\n",
      "Andréia Zanatta Alerta sonoro GSO - PCH-RONDONÓPOLIS\n",
      "Andréia Zanatta ZSS GSO - PCH-RONDONÓPOLIS\n",
      "Andréia Zanatta ZAS GSO - PCH-RONDONÓPOLIS\n",
      "Leone Genz Rota de fuga GSO - PCH-RONDONÓPOLIS\n",
      "Leone Genz Ponto de encontro GSO - PCH-RONDONÓPOLIS\n",
      "Leone Genz Alerta sonoro GSO - PCH-RONDONÓPOLIS\n",
      "Leone Genz ZSS GSO - PCH-RONDONÓPOLIS\n",
      "Leone Genz ZAS GSO - PCH-RONDONÓPOLIS\n",
      "Cid Ionceck Rota de fuga GSO - PCH-RONDONÓPOLIS\n",
      "Cid Ionceck Ponto de encontro GSO - PCH-RONDONÓPOLIS\n",
      "Cid Ionceck Alerta sonoro GSO - PCH-RONDONÓPOLIS\n",
      "Cid Ionceck ZSS GSO - PCH-RONDONÓPOLIS\n",
      "Cid Ionceck ZAS GSO - PCH-RONDONÓPOLIS\n",
      "Manual PAEB Rota de fuga GSO - PCH-RONDONÓPOLIS\n",
      "Manual PAEB Ponto de encontro GSO - PCH-RONDONÓPOLIS\n",
      "Manual PAEB Alerta sonoro GSO - PCH-RONDONÓPOLIS\n",
      "Manual PAEB ZSS GSO - PCH-RONDONÓPOLIS\n",
      "Manual PAEB ZAS GSO - PCH-RONDONÓPOLIS\n",
      "Agente de Defesa Civil Rota de fuga GSO - PCH-RONDONÓPOLIS\n",
      "Agente de Defesa Civil Ponto de encontro GSO - PCH-RONDONÓPOLIS\n",
      "Agente de Defesa Civil Alerta sonoro GSO - PCH-RONDONÓPOLIS\n",
      "Agente de Defesa Civil ZSS GSO - PCH-RONDONÓPOLIS\n",
      "Agente de Defesa Civil ZAS GSO - PCH-RONDONÓPOLIS\n"
     ]
    },
    {
     "name": "stdout",
     "output_type": "stream",
     "text": [
      "Allan Keller Rota de fuga GSO - PCH-RONDONÓPOLIS\n",
      "Allan Keller Ponto de encontro GSO - PCH-RONDONÓPOLIS\n",
      "Allan Keller Alerta sonoro GSO - PCH-RONDONÓPOLIS\n",
      "Allan Keller ZSS GSO - PCH-RONDONÓPOLIS\n",
      "Allan Keller ZAS GSO - PCH-RONDONÓPOLIS\n",
      "Manual PAEB Ponto de encontro GSO - UHE-SÃO SALVADOR\n",
      "Manual PAEB Rota de fuga GSO - UHE-SÃO SALVADOR\n",
      "Manual PAEB Alerta sonoro GSO - UHE-SÃO SALVADOR\n",
      "Manual PAEB ZSS GSO - UHE-SÃO SALVADOR\n",
      "Manual PAEB ZAS GSO - UHE-SÃO SALVADOR\n",
      "Rafael Sanzio Gomes Borges Rota de fuga GSO - UHE-SÃO SALVADOR\n",
      "Rafael Sanzio Gomes Borges Alerta sonoro GSO - UHE-SÃO SALVADOR\n",
      "Rafael Sanzio Gomes Borges ZSS GSO - UHE-SÃO SALVADOR\n",
      "Rafael Sanzio Gomes Borges ZAS GSO - UHE-SÃO SALVADOR\n",
      "Giovana Garlet Ponto de encontro GSO - UHE-SÃO SALVADOR\n",
      "Giovana Garlet Rota de fuga GSO - UHE-SÃO SALVADOR\n",
      "Giovana Garlet Alerta sonoro GSO - UHE-SÃO SALVADOR\n",
      "Giovana Garlet ZSS GSO - UHE-SÃO SALVADOR\n",
      "Giovana Garlet ZAS GSO - UHE-SÃO SALVADOR\n",
      "Igor Renan Braga Dos Santos Ponto de encontro GSO - UHE-SÃO SALVADOR\n",
      "Igor Renan Braga Dos Santos Rota de fuga GSO - UHE-SÃO SALVADOR\n",
      "Igor Renan Braga Dos Santos Alerta sonoro GSO - UHE-SÃO SALVADOR\n",
      "Igor Renan Braga Dos Santos ZSS GSO - UHE-SÃO SALVADOR\n",
      "Igor Renan Braga Dos Santos ZAS GSO - UHE-SÃO SALVADOR\n",
      "Allan Keller Ponto de encontro GSO - UHE-SÃO SALVADOR\n",
      "Allan Keller Rota de fuga GSO - UHE-SÃO SALVADOR\n",
      "Allan Keller Alerta sonoro GSO - UHE-SÃO SALVADOR\n",
      "Allan Keller ZSS GSO - UHE-SÃO SALVADOR\n",
      "Allan Keller ZAS GSO - UHE-SÃO SALVADOR\n",
      "Graciele Woiciekoski Ponto de encontro GSO - UHE-SÃO SALVADOR\n",
      "Graciele Woiciekoski Rota de fuga GSO - UHE-SÃO SALVADOR\n",
      "Graciele Woiciekoski Alerta sonoro GSO - UHE-SÃO SALVADOR\n",
      "Graciele Woiciekoski ZSS GSO - UHE-SÃO SALVADOR\n",
      "Graciele Woiciekoski ZAS GSO - UHE-SÃO SALVADOR\n",
      "Giulia Platt Maffezzolli Ponto de encontro GSO - UHE-SÃO SALVADOR\n",
      "Giulia Platt Maffezzolli Rota de fuga GSO - UHE-SÃO SALVADOR\n",
      "Giulia Platt Maffezzolli Alerta sonoro GSO - UHE-SÃO SALVADOR\n",
      "Giulia Platt Maffezzolli ZSS GSO - UHE-SÃO SALVADOR\n",
      "Giulia Platt Maffezzolli ZAS GSO - UHE-SÃO SALVADOR\n",
      "Nilson Berticelli Ponto de encontro GSO - UHE-SÃO SALVADOR\n",
      "Nilson Berticelli Rota de fuga GSO - UHE-SÃO SALVADOR\n",
      "Nilson Berticelli Alerta sonoro GSO - UHE-SÃO SALVADOR\n",
      "Nilson Berticelli ZSS GSO - UHE-SÃO SALVADOR\n",
      "Nilson Berticelli ZAS GSO - UHE-SÃO SALVADOR\n",
      "Karla Zorzam Ponto de encontro GSO - UHE-SÃO SALVADOR\n",
      "Karla Zorzam Rota de fuga GSO - UHE-SÃO SALVADOR\n",
      "Karla Zorzam Alerta sonoro GSO - UHE-SÃO SALVADOR\n",
      "Karla Zorzam ZSS GSO - UHE-SÃO SALVADOR\n",
      "Karla Zorzam ZAS GSO - UHE-SÃO SALVADOR\n",
      "Rafael Silva De Almeida Ponto de encontro GSO - UHE-SÃO SALVADOR\n",
      "Rafael Silva De Almeida Rota de fuga GSO - UHE-SÃO SALVADOR\n",
      "Rafael Silva De Almeida Alerta sonoro GSO - UHE-SÃO SALVADOR\n",
      "Rafael Silva De Almeida ZSS GSO - UHE-SÃO SALVADOR\n",
      "Rafael Silva De Almeida ZAS GSO - UHE-SÃO SALVADOR\n",
      "Evandro Ferreira Ponto de encontro GSO - UHE-SÃO SALVADOR\n",
      "Evandro Ferreira Rota de fuga GSO - UHE-SÃO SALVADOR\n",
      "Evandro Ferreira Alerta sonoro GSO - UHE-SÃO SALVADOR\n",
      "Evandro Ferreira ZSS GSO - UHE-SÃO SALVADOR\n",
      "Evandro Ferreira ZAS GSO - UHE-SÃO SALVADOR\n",
      "Victor Martins Ponto de encontro GSO - UHE-SÃO SALVADOR\n",
      "Victor Martins Rota de fuga GSO - UHE-SÃO SALVADOR\n",
      "Victor Martins Alerta sonoro GSO - UHE-SÃO SALVADOR\n",
      "Victor Martins ZSS GSO - UHE-SÃO SALVADOR\n",
      "Victor Martins ZAS GSO - UHE-SÃO SALVADOR\n",
      "João Guilherme Stumpf Reis Ponto de encontro GSO - UHE-SÃO SALVADOR\n",
      "João Guilherme Stumpf Reis Rota de fuga GSO - UHE-SÃO SALVADOR\n",
      "João Guilherme Stumpf Reis Alerta sonoro GSO - UHE-SÃO SALVADOR\n",
      "João Guilherme Stumpf Reis ZSS GSO - UHE-SÃO SALVADOR\n",
      "João Guilherme Stumpf Reis ZAS GSO - UHE-SÃO SALVADOR\n",
      "Andréia Zanatta Ponto de encontro GSO - UHE-SÃO SALVADOR\n",
      "Andréia Zanatta Rota de fuga GSO - UHE-SÃO SALVADOR\n",
      "Andréia Zanatta Alerta sonoro GSO - UHE-SÃO SALVADOR\n",
      "Andréia Zanatta ZSS GSO - UHE-SÃO SALVADOR\n",
      "Andréia Zanatta ZAS GSO - UHE-SÃO SALVADOR\n",
      "Cid Ionceck Ponto de encontro GSO - UHE-SÃO SALVADOR\n",
      "Cid Ionceck Rota de fuga GSO - UHE-SÃO SALVADOR\n",
      "Cid Ionceck Alerta sonoro GSO - UHE-SÃO SALVADOR\n",
      "Cid Ionceck ZSS GSO - UHE-SÃO SALVADOR\n",
      "Cid Ionceck ZAS GSO - UHE-SÃO SALVADOR\n",
      "Agente de Defesa Civil Ponto de encontro GSO - UHE-SÃO SALVADOR\n",
      "Agente de Defesa Civil Rota de fuga GSO - UHE-SÃO SALVADOR\n",
      "Agente de Defesa Civil Alerta sonoro GSO - UHE-SÃO SALVADOR\n",
      "Agente de Defesa Civil ZSS GSO - UHE-SÃO SALVADOR\n",
      "Agente de Defesa Civil ZAS GSO - UHE-SÃO SALVADOR\n",
      "Olavo lajus Ponto de encontro GSO - UHE-SÃO SALVADOR\n",
      "Olavo lajus Rota de fuga GSO - UHE-SÃO SALVADOR\n",
      "Olavo lajus Alerta sonoro GSO - UHE-SÃO SALVADOR\n",
      "Olavo lajus ZSS GSO - UHE-SÃO SALVADOR\n",
      "Olavo lajus ZAS GSO - UHE-SÃO SALVADOR\n",
      "Leone Genz Ponto de encontro GSO - UHE-SÃO SALVADOR\n",
      "Leone Genz Rota de fuga GSO - UHE-SÃO SALVADOR\n",
      "Leone Genz Alerta sonoro GSO - UHE-SÃO SALVADOR\n",
      "Leone Genz ZSS GSO - UHE-SÃO SALVADOR\n",
      "Leone Genz ZAS GSO - UHE-SÃO SALVADOR\n",
      "Lucas Mateus Fontenele de Oliveira Rota de fuga GSO - UHE-SÃO SALVADOR\n",
      "Lucas Mateus Fontenele de Oliveira Alerta sonoro GSO - UHE-SÃO SALVADOR\n",
      "Lucas Mateus Fontenele de Oliveira ZSS GSO - UHE-SÃO SALVADOR\n",
      "Lucas Mateus Fontenele de Oliveira ZAS GSO - UHE-SÃO SALVADOR\n",
      "Neuri Gomes de Araújo Rota de fuga GSO - UHE-SÃO SALVADOR\n",
      "Neuri Gomes de Araújo Alerta sonoro GSO - UHE-SÃO SALVADOR\n",
      "Neuri Gomes de Araújo ZSS GSO - UHE-SÃO SALVADOR\n",
      "Neuri Gomes de Araújo ZAS GSO - UHE-SÃO SALVADOR\n",
      "Johnny Rafael Lang Rota de fuga GSO - UHE-SÃO SALVADOR\n",
      "Johnny Rafael Lang Alerta sonoro GSO - UHE-SÃO SALVADOR\n",
      "Johnny Rafael Lang ZSS GSO - UHE-SÃO SALVADOR\n",
      "Johnny Rafael Lang ZAS GSO - UHE-SÃO SALVADOR\n",
      "Winkelmann da Silva Santos Rota de fuga GSO - UHE-SÃO SALVADOR\n",
      "Winkelmann da Silva Santos Alerta sonoro GSO - UHE-SÃO SALVADOR\n",
      "Winkelmann da Silva Santos ZSS GSO - UHE-SÃO SALVADOR\n",
      "Winkelmann da Silva Santos ZAS GSO - UHE-SÃO SALVADOR\n",
      "roque sanchez Ponto de encontro GSO - UHE-SÃO SALVADOR\n",
      "roque sanchez Rota de fuga GSO - UHE-SÃO SALVADOR\n",
      "roque sanchez Alerta sonoro GSO - UHE-SÃO SALVADOR\n",
      "roque sanchez ZSS GSO - UHE-SÃO SALVADOR\n",
      "roque sanchez ZAS GSO - UHE-SÃO SALVADOR\n",
      "Ana Caroline Gomes da Silva Rota de fuga GSO - UHE-SÃO SALVADOR\n",
      "Ana Caroline Gomes da Silva Alerta sonoro GSO - UHE-SÃO SALVADOR\n",
      "Ana Caroline Gomes da Silva ZSS GSO - UHE-SÃO SALVADOR\n",
      "Ana Caroline Gomes da Silva ZAS GSO - UHE-SÃO SALVADOR\n",
      "José Gustavo Almeida da Silva Rota de fuga GSO - UHE-SÃO SALVADOR\n",
      "José Gustavo Almeida da Silva Alerta sonoro GSO - UHE-SÃO SALVADOR\n",
      "José Gustavo Almeida da Silva ZSS GSO - UHE-SÃO SALVADOR\n",
      "José Gustavo Almeida da Silva ZAS GSO - UHE-SÃO SALVADOR\n",
      "Jose Vicente Miranda Rescigno Ponto de encontro GSO - UHE-SÃO SALVADOR\n",
      "Jose Vicente Miranda Rescigno Rota de fuga GSO - UHE-SÃO SALVADOR\n",
      "Jose Vicente Miranda Rescigno Alerta sonoro GSO - UHE-SÃO SALVADOR\n",
      "Jose Vicente Miranda Rescigno ZSS GSO - UHE-SÃO SALVADOR\n",
      "Jose Vicente Miranda Rescigno ZAS GSO - UHE-SÃO SALVADOR\n",
      "Karine Denize Posser Ponto de encontro GSO - UHE-SÃO SALVADOR\n",
      "Karine Denize Posser Rota de fuga GSO - UHE-SÃO SALVADOR\n",
      "Karine Denize Posser Alerta sonoro GSO - UHE-SÃO SALVADOR\n",
      "Karine Denize Posser ZSS GSO - UHE-SÃO SALVADOR\n",
      "Karine Denize Posser ZAS GSO - UHE-SÃO SALVADOR\n",
      "Matias Ribeiro Cabral Junior Rota de fuga GSO - UHE-SÃO SALVADOR\n",
      "Matias Ribeiro Cabral Junior Alerta sonoro GSO - UHE-SÃO SALVADOR\n",
      "Matias Ribeiro Cabral Junior ZSS GSO - UHE-SÃO SALVADOR\n",
      "Matias Ribeiro Cabral Junior ZAS GSO - UHE-SÃO SALVADOR\n",
      "Gustavo Oliveira Ponto de encontro GSO - UHE-SÃO SALVADOR\n",
      "Gustavo Oliveira Rota de fuga GSO - UHE-SÃO SALVADOR\n",
      "Gustavo Oliveira Alerta sonoro GSO - UHE-SÃO SALVADOR\n",
      "Gustavo Oliveira ZSS GSO - UHE-SÃO SALVADOR\n",
      "Gustavo Oliveira ZAS GSO - UHE-SÃO SALVADOR\n",
      "Silvia Gois Ponto de encontro GSO - UHE-ESTREITO\n",
      "Silvia Gois Rota de fuga GSO - UHE-ESTREITO\n",
      "Silvia Gois ZSS GSO - UHE-ESTREITO\n",
      "Leone Genz Alerta sonoro GSO - UHE-ESTREITO\n",
      "Leone Genz Ponto de encontro GSO - UHE-ESTREITO\n",
      "Leone Genz Rota de fuga GSO - UHE-ESTREITO\n",
      "Leone Genz ZSS GSO - UHE-ESTREITO\n",
      "Leone Genz ZAS GSO - UHE-ESTREITO\n",
      "Graciele Woiciekoski Alerta sonoro GSO - UHE-ESTREITO\n",
      "Graciele Woiciekoski Ponto de encontro GSO - UHE-ESTREITO\n",
      "Graciele Woiciekoski Rota de fuga GSO - UHE-ESTREITO\n",
      "Graciele Woiciekoski ZSS GSO - UHE-ESTREITO\n",
      "Graciele Woiciekoski ZAS GSO - UHE-ESTREITO\n",
      "Rafael Silva De Almeida Alerta sonoro GSO - UHE-ESTREITO\n",
      "Rafael Silva De Almeida Ponto de encontro GSO - UHE-ESTREITO\n",
      "Rafael Silva De Almeida Rota de fuga GSO - UHE-ESTREITO\n",
      "Rafael Silva De Almeida ZSS GSO - UHE-ESTREITO\n",
      "Rafael Silva De Almeida ZAS GSO - UHE-ESTREITO\n",
      "João Guilherme Stumpf Reis Alerta sonoro GSO - UHE-ESTREITO\n",
      "João Guilherme Stumpf Reis Ponto de encontro GSO - UHE-ESTREITO\n"
     ]
    },
    {
     "name": "stdout",
     "output_type": "stream",
     "text": [
      "João Guilherme Stumpf Reis Rota de fuga GSO - UHE-ESTREITO\n",
      "João Guilherme Stumpf Reis ZSS GSO - UHE-ESTREITO\n",
      "João Guilherme Stumpf Reis ZAS GSO - UHE-ESTREITO\n",
      "Olavo lajus Alerta sonoro GSO - UHE-ESTREITO\n",
      "Olavo lajus Ponto de encontro GSO - UHE-ESTREITO\n",
      "Olavo lajus Rota de fuga GSO - UHE-ESTREITO\n",
      "Olavo lajus ZSS GSO - UHE-ESTREITO\n",
      "Olavo lajus ZAS GSO - UHE-ESTREITO\n",
      "Ana Caroline Gomes da Silva Alerta sonoro GSO - UHE-ESTREITO\n",
      "Ana Caroline Gomes da Silva Ponto de encontro GSO - UHE-ESTREITO\n",
      "Ana Caroline Gomes da Silva Rota de fuga GSO - UHE-ESTREITO\n",
      "Ana Caroline Gomes da Silva ZSS GSO - UHE-ESTREITO\n",
      "Ana Caroline Gomes da Silva ZAS GSO - UHE-ESTREITO\n",
      "Jose Vicente Miranda Rescigno Alerta sonoro GSO - UHE-ESTREITO\n",
      "Jose Vicente Miranda Rescigno Ponto de encontro GSO - UHE-ESTREITO\n",
      "Jose Vicente Miranda Rescigno Rota de fuga GSO - UHE-ESTREITO\n",
      "Jose Vicente Miranda Rescigno ZSS GSO - UHE-ESTREITO\n",
      "Jose Vicente Miranda Rescigno ZAS GSO - UHE-ESTREITO\n",
      "Manual PAEB Alerta sonoro GSO - UHE-ESTREITO\n",
      "Manual PAEB Ponto de encontro GSO - UHE-ESTREITO\n",
      "Manual PAEB Rota de fuga GSO - UHE-ESTREITO\n",
      "Manual PAEB ZSS GSO - UHE-ESTREITO\n",
      "Manual PAEB ZAS GSO - UHE-ESTREITO\n",
      "Giovana Garlet Alerta sonoro GSO - UHE-ESTREITO\n",
      "Giovana Garlet Ponto de encontro GSO - UHE-ESTREITO\n",
      "Giovana Garlet Rota de fuga GSO - UHE-ESTREITO\n",
      "Giovana Garlet ZSS GSO - UHE-ESTREITO\n",
      "Giovana Garlet ZAS GSO - UHE-ESTREITO\n",
      "Rafael Sanzio Gomes Borges Alerta sonoro GSO - UHE-ESTREITO\n",
      "Rafael Sanzio Gomes Borges Ponto de encontro GSO - UHE-ESTREITO\n",
      "Rafael Sanzio Gomes Borges Rota de fuga GSO - UHE-ESTREITO\n",
      "Rafael Sanzio Gomes Borges ZSS GSO - UHE-ESTREITO\n",
      "Rafael Sanzio Gomes Borges ZAS GSO - UHE-ESTREITO\n",
      "Gustavo Oliveira Alerta sonoro GSO - UHE-ESTREITO\n",
      "Gustavo Oliveira Ponto de encontro GSO - UHE-ESTREITO\n",
      "Gustavo Oliveira Rota de fuga GSO - UHE-ESTREITO\n",
      "Gustavo Oliveira ZSS GSO - UHE-ESTREITO\n",
      "Gustavo Oliveira ZAS GSO - UHE-ESTREITO\n",
      "Matias Ribeiro Cabral Junior Alerta sonoro GSO - UHE-ESTREITO\n",
      "Matias Ribeiro Cabral Junior Ponto de encontro GSO - UHE-ESTREITO\n",
      "Matias Ribeiro Cabral Junior Rota de fuga GSO - UHE-ESTREITO\n",
      "Matias Ribeiro Cabral Junior ZSS GSO - UHE-ESTREITO\n",
      "Matias Ribeiro Cabral Junior ZAS GSO - UHE-ESTREITO\n",
      "Karine Denize Posser Alerta sonoro GSO - UHE-ESTREITO\n",
      "Karine Denize Posser Ponto de encontro GSO - UHE-ESTREITO\n",
      "Karine Denize Posser Rota de fuga GSO - UHE-ESTREITO\n",
      "Karine Denize Posser ZSS GSO - UHE-ESTREITO\n",
      "Karine Denize Posser ZAS GSO - UHE-ESTREITO\n",
      "roque sanchez Alerta sonoro GSO - UHE-ESTREITO\n",
      "roque sanchez Ponto de encontro GSO - UHE-ESTREITO\n",
      "roque sanchez Rota de fuga GSO - UHE-ESTREITO\n",
      "roque sanchez ZSS GSO - UHE-ESTREITO\n",
      "roque sanchez ZAS GSO - UHE-ESTREITO\n",
      "Winkelmann da Silva Santos Alerta sonoro GSO - UHE-ESTREITO\n",
      "Winkelmann da Silva Santos Ponto de encontro GSO - UHE-ESTREITO\n",
      "Winkelmann da Silva Santos Rota de fuga GSO - UHE-ESTREITO\n",
      "Winkelmann da Silva Santos ZSS GSO - UHE-ESTREITO\n",
      "Winkelmann da Silva Santos ZAS GSO - UHE-ESTREITO\n",
      "Renan Rezende Santos Ponto de encontro GSO - UHE-ESTREITO\n",
      "Renan Rezende Santos Rota de fuga GSO - UHE-ESTREITO\n",
      "Renan Rezende Santos ZSS GSO - UHE-ESTREITO\n",
      "Renan Rezende Santos ZAS GSO - UHE-ESTREITO\n",
      "Johnny Rafael Lang Alerta sonoro GSO - UHE-ESTREITO\n",
      "Johnny Rafael Lang Ponto de encontro GSO - UHE-ESTREITO\n",
      "Johnny Rafael Lang Rota de fuga GSO - UHE-ESTREITO\n",
      "Johnny Rafael Lang ZSS GSO - UHE-ESTREITO\n",
      "Johnny Rafael Lang ZAS GSO - UHE-ESTREITO\n",
      "Neuri Gomes de Araújo Alerta sonoro GSO - UHE-ESTREITO\n",
      "Neuri Gomes de Araújo Ponto de encontro GSO - UHE-ESTREITO\n",
      "Neuri Gomes de Araújo Rota de fuga GSO - UHE-ESTREITO\n",
      "Neuri Gomes de Araújo ZSS GSO - UHE-ESTREITO\n",
      "Neuri Gomes de Araújo ZAS GSO - UHE-ESTREITO\n",
      "Lucas Mateus Fontenele de Oliveira Alerta sonoro GSO - UHE-ESTREITO\n",
      "Lucas Mateus Fontenele de Oliveira Ponto de encontro GSO - UHE-ESTREITO\n",
      "Lucas Mateus Fontenele de Oliveira Rota de fuga GSO - UHE-ESTREITO\n",
      "Lucas Mateus Fontenele de Oliveira ZSS GSO - UHE-ESTREITO\n",
      "Lucas Mateus Fontenele de Oliveira ZAS GSO - UHE-ESTREITO\n",
      "Agente de Defesa Civil Alerta sonoro GSO - UHE-ESTREITO\n",
      "Agente de Defesa Civil Ponto de encontro GSO - UHE-ESTREITO\n",
      "Agente de Defesa Civil Rota de fuga GSO - UHE-ESTREITO\n",
      "Agente de Defesa Civil ZSS GSO - UHE-ESTREITO\n",
      "Agente de Defesa Civil ZAS GSO - UHE-ESTREITO\n",
      "Cid Ionceck Alerta sonoro GSO - UHE-ESTREITO\n",
      "Cid Ionceck Ponto de encontro GSO - UHE-ESTREITO\n",
      "Cid Ionceck Rota de fuga GSO - UHE-ESTREITO\n",
      "Cid Ionceck ZSS GSO - UHE-ESTREITO\n",
      "Cid Ionceck ZAS GSO - UHE-ESTREITO\n",
      "Carlos André Santos Silva Ponto de encontro GSO - UHE-ESTREITO\n",
      "Carlos André Santos Silva Rota de fuga GSO - UHE-ESTREITO\n",
      "Carlos André Santos Silva ZSS GSO - UHE-ESTREITO\n",
      "Carlos André Santos Silva ZAS GSO - UHE-ESTREITO\n",
      "Danilo dos Santos Gonçalves Ponto de encontro GSO - UHE-ESTREITO\n",
      "Danilo dos Santos Gonçalves Rota de fuga GSO - UHE-ESTREITO\n",
      "Danilo dos Santos Gonçalves ZSS GSO - UHE-ESTREITO\n",
      "Danilo dos Santos Gonçalves ZAS GSO - UHE-ESTREITO\n",
      "Igor Tobias Paula Ponto de encontro GSO - UHE-ESTREITO\n",
      "Igor Tobias Paula Rota de fuga GSO - UHE-ESTREITO\n",
      "Igor Tobias Paula ZSS GSO - UHE-ESTREITO\n",
      "Igor Tobias Paula ZAS GSO - UHE-ESTREITO\n",
      "Elisvan Vieira de Moura Ponto de encontro GSO - UHE-ESTREITO\n",
      "Elisvan Vieira de Moura Rota de fuga GSO - UHE-ESTREITO\n",
      "Elisvan Vieira de Moura ZSS GSO - UHE-ESTREITO\n",
      "Elisvan Vieira de Moura ZAS GSO - UHE-ESTREITO\n",
      "Lucival Miranda Lourenço Ponto de encontro GSO - UHE-ESTREITO\n",
      "Lucival Miranda Lourenço Rota de fuga GSO - UHE-ESTREITO\n",
      "Lucival Miranda Lourenço ZSS GSO - UHE-ESTREITO\n",
      "Lucival Miranda Lourenço ZAS GSO - UHE-ESTREITO\n",
      "Arlan Ferreira de Souza Ponto de encontro GSO - UHE-ESTREITO\n",
      "Arlan Ferreira de Souza Rota de fuga GSO - UHE-ESTREITO\n",
      "Arlan Ferreira de Souza ZSS GSO - UHE-ESTREITO\n",
      "Arlan Ferreira de Souza ZAS GSO - UHE-ESTREITO\n",
      "Pollyana da Silva Oliveira Ponto de encontro GSO - UHE-ESTREITO\n",
      "Pollyana da Silva Oliveira Rota de fuga GSO - UHE-ESTREITO\n",
      "Pollyana da Silva Oliveira ZSS GSO - UHE-ESTREITO\n",
      "Pollyana da Silva Oliveira ZAS GSO - UHE-ESTREITO\n",
      "Victória Maria Santos Silva Ponto de encontro GSO - UHE-ESTREITO\n",
      "Victória Maria Santos Silva Rota de fuga GSO - UHE-ESTREITO\n",
      "Victória Maria Santos Silva ZSS GSO - UHE-ESTREITO\n",
      "Victória Maria Santos Silva ZAS GSO - UHE-ESTREITO\n",
      "Marcelo Conceição Reis Ponto de encontro GSO - UHE-ESTREITO\n",
      "Marcelo Conceição Reis Rota de fuga GSO - UHE-ESTREITO\n",
      "Marcelo Conceição Reis ZSS GSO - UHE-ESTREITO\n",
      "Marcelo Conceição Reis ZAS GSO - UHE-ESTREITO\n",
      "Emivaldo da Silva Aguiar Ponto de encontro GSO - UHE-ESTREITO\n",
      "Emivaldo da Silva Aguiar Rota de fuga GSO - UHE-ESTREITO\n",
      "Emivaldo da Silva Aguiar ZSS GSO - UHE-ESTREITO\n",
      "Emivaldo da Silva Aguiar ZAS GSO - UHE-ESTREITO\n",
      "Beatrice Gomes de Almeida Carvalho Ponto de encontro GSO - UHE-ESTREITO\n",
      "Beatrice Gomes de Almeida Carvalho Rota de fuga GSO - UHE-ESTREITO\n",
      "Beatrice Gomes de Almeida Carvalho ZSS GSO - UHE-ESTREITO\n",
      "Beatrice Gomes de Almeida Carvalho ZAS GSO - UHE-ESTREITO\n",
      "Mario Gomes Aguiar Ponto de encontro GSO - UHE-ESTREITO\n",
      "Mario Gomes Aguiar Rota de fuga GSO - UHE-ESTREITO\n",
      "Mario Gomes Aguiar ZSS GSO - UHE-ESTREITO\n",
      "Mario Gomes Aguiar ZAS GSO - UHE-ESTREITO\n",
      "Nilton Rocha de Oliveira Costa Ponto de encontro GSO - UHE-ESTREITO\n",
      "Nilton Rocha de Oliveira Costa Rota de fuga GSO - UHE-ESTREITO\n",
      "Nilton Rocha de Oliveira Costa ZSS GSO - UHE-ESTREITO\n",
      "Nilton Rocha de Oliveira Costa ZAS GSO - UHE-ESTREITO\n",
      "Osmano Sousa Brito Ponto de encontro GSO - UHE-ESTREITO\n",
      "Osmano Sousa Brito Rota de fuga GSO - UHE-ESTREITO\n",
      "Osmano Sousa Brito ZSS GSO - UHE-ESTREITO\n",
      "Osmano Sousa Brito ZAS GSO - UHE-ESTREITO\n",
      "Pedro Cassiano da Silva Ponto de encontro GSO - UHE-ESTREITO\n",
      "Pedro Cassiano da Silva Rota de fuga GSO - UHE-ESTREITO\n",
      "Pedro Cassiano da Silva ZSS GSO - UHE-ESTREITO\n",
      "Pedro Cassiano da Silva ZAS GSO - UHE-ESTREITO\n",
      "Daiany Silva Lima Ponto de encontro GSO - UHE-ESTREITO\n",
      "Daiany Silva Lima Rota de fuga GSO - UHE-ESTREITO\n",
      "Daiany Silva Lima ZSS GSO - UHE-ESTREITO\n",
      "Daiany Silva Lima ZAS GSO - UHE-ESTREITO\n",
      "Jefferson Lopes Brandão Ponto de encontro GSO - UHE-ESTREITO\n",
      "Jefferson Lopes Brandão Rota de fuga GSO - UHE-ESTREITO\n",
      "Jefferson Lopes Brandão ZSS GSO - UHE-ESTREITO\n",
      "Jefferson Lopes Brandão ZAS GSO - UHE-ESTREITO\n",
      "Carlos Roberto Barbosa de Sousa e Silva Ponto de encontro GSO - UHE-ESTREITO\n",
      "Carlos Roberto Barbosa de Sousa e Silva Rota de fuga GSO - UHE-ESTREITO\n",
      "Carlos Roberto Barbosa de Sousa e Silva ZSS GSO - UHE-ESTREITO\n",
      "Carlos Roberto Barbosa de Sousa e Silva ZAS GSO - UHE-ESTREITO\n",
      "Paulo Roberto de Lira Danda Ponto de encontro GSO - UHE-ESTREITO\n",
      "Paulo Roberto de Lira Danda Rota de fuga GSO - UHE-ESTREITO\n",
      "Paulo Roberto de Lira Danda ZSS GSO - UHE-ESTREITO\n",
      "Paulo Roberto de Lira Danda ZAS GSO - UHE-ESTREITO\n",
      "Magno Moreira de Abreu Ponto de encontro GSO - UHE-ESTREITO\n",
      "Magno Moreira de Abreu Rota de fuga GSO - UHE-ESTREITO\n",
      "Magno Moreira de Abreu ZSS GSO - UHE-ESTREITO\n"
     ]
    },
    {
     "name": "stdout",
     "output_type": "stream",
     "text": [
      "Magno Moreira de Abreu ZAS GSO - UHE-ESTREITO\n",
      "Jhonatan Reis Silva Ponto de encontro GSO - UHE-ESTREITO\n",
      "Jhonatan Reis Silva Rota de fuga GSO - UHE-ESTREITO\n",
      "Jhonatan Reis Silva ZSS GSO - UHE-ESTREITO\n",
      "Jhonatan Reis Silva ZAS GSO - UHE-ESTREITO\n",
      "Lael Nascimento Ponto de encontro GSO - UHE-ESTREITO\n",
      "Lael Nascimento Rota de fuga GSO - UHE-ESTREITO\n",
      "Lael Nascimento ZSS GSO - UHE-ESTREITO\n",
      "Lael Nascimento ZAS GSO - UHE-ESTREITO\n",
      "Adriano Pereira Fernandes Brito Ponto de encontro GSO - UHE-ESTREITO\n",
      "Adriano Pereira Fernandes Brito Rota de fuga GSO - UHE-ESTREITO\n",
      "Adriano Pereira Fernandes Brito ZSS GSO - UHE-ESTREITO\n",
      "Adriano Pereira Fernandes Brito ZAS GSO - UHE-ESTREITO\n",
      "Leonardo Araújo dos Santos Ponto de encontro GSO - UHE-ESTREITO\n",
      "Leonardo Araújo dos Santos Rota de fuga GSO - UHE-ESTREITO\n",
      "Leonardo Araújo dos Santos ZSS GSO - UHE-ESTREITO\n",
      "Leonardo Araújo dos Santos ZAS GSO - UHE-ESTREITO\n",
      "Kellyta Pinheiros Barros Ponto de encontro GSO - UHE-ESTREITO\n",
      "Kellyta Pinheiros Barros Rota de fuga GSO - UHE-ESTREITO\n",
      "Kellyta Pinheiros Barros ZSS GSO - UHE-ESTREITO\n",
      "Kellyta Pinheiros Barros ZAS GSO - UHE-ESTREITO\n",
      "Andréia Zanatta Alerta sonoro GSO - UHE-ESTREITO\n",
      "Andréia Zanatta Ponto de encontro GSO - UHE-ESTREITO\n",
      "Andréia Zanatta Rota de fuga GSO - UHE-ESTREITO\n",
      "Andréia Zanatta ZSS GSO - UHE-ESTREITO\n",
      "Andréia Zanatta ZAS GSO - UHE-ESTREITO\n",
      "Giulia Platt Maffezzolli Alerta sonoro GSO - UHE-ESTREITO\n",
      "Giulia Platt Maffezzolli Ponto de encontro GSO - UHE-ESTREITO\n",
      "Giulia Platt Maffezzolli Rota de fuga GSO - UHE-ESTREITO\n",
      "Giulia Platt Maffezzolli ZSS GSO - UHE-ESTREITO\n",
      "Giulia Platt Maffezzolli ZAS GSO - UHE-ESTREITO\n",
      "Victor Martins Alerta sonoro GSO - UHE-ESTREITO\n",
      "Victor Martins Ponto de encontro GSO - UHE-ESTREITO\n",
      "Victor Martins Rota de fuga GSO - UHE-ESTREITO\n",
      "Victor Martins ZSS GSO - UHE-ESTREITO\n",
      "Victor Martins ZAS GSO - UHE-ESTREITO\n",
      "Evandro Ferreira Alerta sonoro GSO - UHE-ESTREITO\n",
      "Evandro Ferreira Ponto de encontro GSO - UHE-ESTREITO\n",
      "Evandro Ferreira Rota de fuga GSO - UHE-ESTREITO\n",
      "Evandro Ferreira ZSS GSO - UHE-ESTREITO\n",
      "Evandro Ferreira ZAS GSO - UHE-ESTREITO\n",
      "Karla Zorzam Alerta sonoro GSO - UHE-ESTREITO\n",
      "Karla Zorzam Ponto de encontro GSO - UHE-ESTREITO\n",
      "Karla Zorzam Rota de fuga GSO - UHE-ESTREITO\n",
      "Karla Zorzam ZSS GSO - UHE-ESTREITO\n",
      "Karla Zorzam ZAS GSO - UHE-ESTREITO\n",
      "Nilson Berticelli Alerta sonoro GSO - UHE-ESTREITO\n",
      "Nilson Berticelli Ponto de encontro GSO - UHE-ESTREITO\n",
      "Nilson Berticelli Rota de fuga GSO - UHE-ESTREITO\n",
      "Nilson Berticelli ZSS GSO - UHE-ESTREITO\n",
      "Nilson Berticelli ZAS GSO - UHE-ESTREITO\n",
      "Allan Keller Alerta sonoro GSO - UHE-ESTREITO\n",
      "Allan Keller Ponto de encontro GSO - UHE-ESTREITO\n",
      "Allan Keller Rota de fuga GSO - UHE-ESTREITO\n",
      "Allan Keller ZSS GSO - UHE-ESTREITO\n",
      "Allan Keller ZAS GSO - UHE-ESTREITO\n",
      "Igor Renan Braga Dos Santos Alerta sonoro GSO - UHE-ESTREITO\n",
      "Igor Renan Braga Dos Santos Ponto de encontro GSO - UHE-ESTREITO\n",
      "Igor Renan Braga Dos Santos Rota de fuga GSO - UHE-ESTREITO\n",
      "Igor Renan Braga Dos Santos ZSS GSO - UHE-ESTREITO\n",
      "Igor Renan Braga Dos Santos ZAS GSO - UHE-ESTREITO\n",
      "Victor Martins Rota de fuga GSO - UHE-SALTO SANTIAGO\n",
      "Victor Martins Alerta sonoro GSO - UHE-SALTO SANTIAGO\n",
      "Victor Martins ZSS GSO - UHE-SALTO SANTIAGO\n",
      "Victor Martins Ponto de encontro GSO - UHE-SALTO SANTIAGO\n",
      "Victor Martins ZAS GSO - UHE-SALTO SANTIAGO\n",
      "Paulo Henrique Santos Feitosa Alerta sonoro GSO - UHE-SALTO SANTIAGO\n",
      "Paulo Henrique Santos Feitosa ZSS GSO - UHE-SALTO SANTIAGO\n",
      "Paulo Henrique Santos Feitosa Ponto de encontro GSO - UHE-SALTO SANTIAGO\n",
      "Paulo Henrique Santos Feitosa ZAS GSO - UHE-SALTO SANTIAGO\n",
      "Nilson Berticelli Rota de fuga GSO - UHE-SALTO SANTIAGO\n",
      "Nilson Berticelli Alerta sonoro GSO - UHE-SALTO SANTIAGO\n",
      "Nilson Berticelli ZSS GSO - UHE-SALTO SANTIAGO\n",
      "Nilson Berticelli Ponto de encontro GSO - UHE-SALTO SANTIAGO\n",
      "Nilson Berticelli ZAS GSO - UHE-SALTO SANTIAGO\n",
      "Giovana Garlet Rota de fuga GSO - UHE-SALTO SANTIAGO\n",
      "Giovana Garlet Alerta sonoro GSO - UHE-SALTO SANTIAGO\n",
      "Giovana Garlet ZSS GSO - UHE-SALTO SANTIAGO\n",
      "Giovana Garlet Ponto de encontro GSO - UHE-SALTO SANTIAGO\n",
      "Giovana Garlet ZAS GSO - UHE-SALTO SANTIAGO\n",
      "Graciele Woiciekoski Rota de fuga GSO - UHE-SALTO SANTIAGO\n",
      "Graciele Woiciekoski Alerta sonoro GSO - UHE-SALTO SANTIAGO\n",
      "Graciele Woiciekoski ZSS GSO - UHE-SALTO SANTIAGO\n",
      "Graciele Woiciekoski Ponto de encontro GSO - UHE-SALTO SANTIAGO\n",
      "Graciele Woiciekoski ZAS GSO - UHE-SALTO SANTIAGO\n",
      "Olavo lajus Rota de fuga GSO - UHE-SALTO SANTIAGO\n",
      "Olavo lajus Alerta sonoro GSO - UHE-SALTO SANTIAGO\n",
      "Olavo lajus ZSS GSO - UHE-SALTO SANTIAGO\n",
      "Olavo lajus Ponto de encontro GSO - UHE-SALTO SANTIAGO\n",
      "Olavo lajus ZAS GSO - UHE-SALTO SANTIAGO\n",
      "Igor Renan Braga Dos Santos Rota de fuga GSO - UHE-SALTO SANTIAGO\n",
      "Igor Renan Braga Dos Santos Alerta sonoro GSO - UHE-SALTO SANTIAGO\n",
      "Igor Renan Braga Dos Santos ZSS GSO - UHE-SALTO SANTIAGO\n",
      "Igor Renan Braga Dos Santos Ponto de encontro GSO - UHE-SALTO SANTIAGO\n",
      "Igor Renan Braga Dos Santos ZAS GSO - UHE-SALTO SANTIAGO\n",
      "Allan Keller Rota de fuga GSO - UHE-SALTO SANTIAGO\n",
      "Allan Keller Alerta sonoro GSO - UHE-SALTO SANTIAGO\n",
      "Allan Keller ZSS GSO - UHE-SALTO SANTIAGO\n",
      "Allan Keller Ponto de encontro GSO - UHE-SALTO SANTIAGO\n",
      "Allan Keller ZAS GSO - UHE-SALTO SANTIAGO\n",
      "Andréia Zanatta Rota de fuga GSO - UHE-SALTO SANTIAGO\n",
      "Andréia Zanatta Alerta sonoro GSO - UHE-SALTO SANTIAGO\n",
      "Andréia Zanatta ZSS GSO - UHE-SALTO SANTIAGO\n",
      "Andréia Zanatta Ponto de encontro GSO - UHE-SALTO SANTIAGO\n",
      "Andréia Zanatta ZAS GSO - UHE-SALTO SANTIAGO\n",
      "Jose Vicente Miranda Rescigno Rota de fuga GSO - UHE-SALTO SANTIAGO\n",
      "Jose Vicente Miranda Rescigno Alerta sonoro GSO - UHE-SALTO SANTIAGO\n",
      "Jose Vicente Miranda Rescigno ZSS GSO - UHE-SALTO SANTIAGO\n",
      "Jose Vicente Miranda Rescigno Ponto de encontro GSO - UHE-SALTO SANTIAGO\n",
      "Jose Vicente Miranda Rescigno ZAS GSO - UHE-SALTO SANTIAGO\n",
      "Karla Zorzam Rota de fuga GSO - UHE-SALTO SANTIAGO\n",
      "Karla Zorzam Alerta sonoro GSO - UHE-SALTO SANTIAGO\n",
      "Karla Zorzam ZSS GSO - UHE-SALTO SANTIAGO\n",
      "Karla Zorzam Ponto de encontro GSO - UHE-SALTO SANTIAGO\n",
      "Karla Zorzam ZAS GSO - UHE-SALTO SANTIAGO\n",
      "João Guilherme Stumpf Reis Rota de fuga GSO - UHE-SALTO SANTIAGO\n",
      "João Guilherme Stumpf Reis Alerta sonoro GSO - UHE-SALTO SANTIAGO\n",
      "João Guilherme Stumpf Reis ZSS GSO - UHE-SALTO SANTIAGO\n",
      "João Guilherme Stumpf Reis Ponto de encontro GSO - UHE-SALTO SANTIAGO\n",
      "João Guilherme Stumpf Reis ZAS GSO - UHE-SALTO SANTIAGO\n",
      "Evandro Ferreira Rota de fuga GSO - UHE-SALTO SANTIAGO\n",
      "Evandro Ferreira Alerta sonoro GSO - UHE-SALTO SANTIAGO\n",
      "Evandro Ferreira ZSS GSO - UHE-SALTO SANTIAGO\n",
      "Evandro Ferreira Ponto de encontro GSO - UHE-SALTO SANTIAGO\n",
      "Evandro Ferreira ZAS GSO - UHE-SALTO SANTIAGO\n",
      "Agente de Defesa Civil Rota de fuga GSO - UHE-SALTO SANTIAGO\n",
      "Agente de Defesa Civil Alerta sonoro GSO - UHE-SALTO SANTIAGO\n",
      "Agente de Defesa Civil ZSS GSO - UHE-SALTO SANTIAGO\n",
      "Agente de Defesa Civil Ponto de encontro GSO - UHE-SALTO SANTIAGO\n",
      "Agente de Defesa Civil ZAS GSO - UHE-SALTO SANTIAGO\n",
      "Emerson Giel Maurer Alerta sonoro GSO - UHE-SALTO SANTIAGO\n",
      "Emerson Giel Maurer ZSS GSO - UHE-SALTO SANTIAGO\n",
      "Emerson Giel Maurer Ponto de encontro GSO - UHE-SALTO SANTIAGO\n",
      "Emerson Giel Maurer ZAS GSO - UHE-SALTO SANTIAGO\n",
      "Rafael Silva De Almeida Rota de fuga GSO - UHE-SALTO SANTIAGO\n",
      "Rafael Silva De Almeida Alerta sonoro GSO - UHE-SALTO SANTIAGO\n",
      "Rafael Silva De Almeida ZSS GSO - UHE-SALTO SANTIAGO\n",
      "Rafael Silva De Almeida Ponto de encontro GSO - UHE-SALTO SANTIAGO\n",
      "Rafael Silva De Almeida ZAS GSO - UHE-SALTO SANTIAGO\n",
      "Giulia Platt Maffezzolli Rota de fuga GSO - UHE-SALTO SANTIAGO\n",
      "Giulia Platt Maffezzolli Alerta sonoro GSO - UHE-SALTO SANTIAGO\n",
      "Giulia Platt Maffezzolli ZSS GSO - UHE-SALTO SANTIAGO\n",
      "Giulia Platt Maffezzolli Ponto de encontro GSO - UHE-SALTO SANTIAGO\n",
      "Giulia Platt Maffezzolli ZAS GSO - UHE-SALTO SANTIAGO\n",
      "Karine Denize Posser Rota de fuga GSO - UHE-SALTO SANTIAGO\n",
      "Karine Denize Posser Alerta sonoro GSO - UHE-SALTO SANTIAGO\n",
      "Karine Denize Posser ZSS GSO - UHE-SALTO SANTIAGO\n",
      "Karine Denize Posser Ponto de encontro GSO - UHE-SALTO SANTIAGO\n",
      "Karine Denize Posser ZAS GSO - UHE-SALTO SANTIAGO\n",
      "Leone Genz Rota de fuga GSO - UHE-SALTO SANTIAGO\n",
      "Leone Genz Alerta sonoro GSO - UHE-SALTO SANTIAGO\n",
      "Leone Genz ZSS GSO - UHE-SALTO SANTIAGO\n",
      "Leone Genz Ponto de encontro GSO - UHE-SALTO SANTIAGO\n",
      "Leone Genz ZAS GSO - UHE-SALTO SANTIAGO\n",
      "Gustavo Oliveira Rota de fuga GSO - UHE-SALTO SANTIAGO\n",
      "Gustavo Oliveira Alerta sonoro GSO - UHE-SALTO SANTIAGO\n",
      "Gustavo Oliveira ZSS GSO - UHE-SALTO SANTIAGO\n",
      "Gustavo Oliveira Ponto de encontro GSO - UHE-SALTO SANTIAGO\n",
      "Gustavo Oliveira ZAS GSO - UHE-SALTO SANTIAGO\n",
      "roque sanchez Rota de fuga GSO - UHE-SALTO SANTIAGO\n",
      "roque sanchez Alerta sonoro GSO - UHE-SALTO SANTIAGO\n"
     ]
    },
    {
     "name": "stdout",
     "output_type": "stream",
     "text": [
      "roque sanchez ZSS GSO - UHE-SALTO SANTIAGO\n",
      "roque sanchez Ponto de encontro GSO - UHE-SALTO SANTIAGO\n",
      "roque sanchez ZAS GSO - UHE-SALTO SANTIAGO\n",
      "Manual PAEB Rota de fuga GSO - UHE-SALTO SANTIAGO\n",
      "Manual PAEB Alerta sonoro GSO - UHE-SALTO SANTIAGO\n",
      "Manual PAEB ZSS GSO - UHE-SALTO SANTIAGO\n",
      "Manual PAEB Ponto de encontro GSO - UHE-SALTO SANTIAGO\n",
      "Manual PAEB ZAS GSO - UHE-SALTO SANTIAGO\n",
      "Cid Ionceck ZSS GSO - UTPS\n",
      "Cid Ionceck Rota de fuga GSO - UTPS\n",
      "Cid Ionceck Ponto de encontro GSO - UTPS\n",
      "Cid Ionceck ZAS GSO - UTPS\n",
      "Cid Ionceck Alerta sonoro GSO - UTPS\n",
      "Andréia Zanatta ZSS GSO - UTPS\n",
      "Andréia Zanatta Rota de fuga GSO - UTPS\n",
      "Andréia Zanatta Ponto de encontro GSO - UTPS\n",
      "Andréia Zanatta ZAS GSO - UTPS\n",
      "Andréia Zanatta Alerta sonoro GSO - UTPS\n",
      "Karla Zorzam ZSS GSO - UTPS\n",
      "Karla Zorzam Rota de fuga GSO - UTPS\n",
      "Karla Zorzam Ponto de encontro GSO - UTPS\n",
      "Karla Zorzam ZAS GSO - UTPS\n",
      "Karla Zorzam Alerta sonoro GSO - UTPS\n",
      "Sérgio Luiz Rodrigues Rota de fuga GSO - UTPS\n",
      "Sérgio Luiz Rodrigues Ponto de encontro GSO - UTPS\n",
      "Sérgio Luiz Rodrigues ZAS GSO - UTPS\n",
      "Sérgio Luiz Rodrigues Alerta sonoro GSO - UTPS\n",
      "Igor Renan Braga Dos Santos ZSS GSO - UTPS\n",
      "Igor Renan Braga Dos Santos Rota de fuga GSO - UTPS\n",
      "Igor Renan Braga Dos Santos Ponto de encontro GSO - UTPS\n",
      "Igor Renan Braga Dos Santos ZAS GSO - UTPS\n",
      "Igor Renan Braga Dos Santos Alerta sonoro GSO - UTPS\n",
      "Evandro Ferreira ZSS GSO - UTPS\n",
      "Evandro Ferreira Rota de fuga GSO - UTPS\n",
      "Evandro Ferreira Ponto de encontro GSO - UTPS\n",
      "Evandro Ferreira ZAS GSO - UTPS\n",
      "Evandro Ferreira Alerta sonoro GSO - UTPS\n",
      "Giulia Platt Maffezzolli ZSS GSO - UTPS\n",
      "Giulia Platt Maffezzolli Rota de fuga GSO - UTPS\n",
      "Giulia Platt Maffezzolli Ponto de encontro GSO - UTPS\n",
      "Giulia Platt Maffezzolli ZAS GSO - UTPS\n",
      "Giulia Platt Maffezzolli Alerta sonoro GSO - UTPS\n",
      "Victor Martins ZSS GSO - UTPS\n",
      "Victor Martins Rota de fuga GSO - UTPS\n",
      "Victor Martins Ponto de encontro GSO - UTPS\n",
      "Victor Martins ZAS GSO - UTPS\n",
      "Victor Martins Alerta sonoro GSO - UTPS\n",
      "Allan Keller ZSS GSO - UTPS\n",
      "Allan Keller Rota de fuga GSO - UTPS\n",
      "Allan Keller Ponto de encontro GSO - UTPS\n",
      "Allan Keller ZAS GSO - UTPS\n",
      "Allan Keller Alerta sonoro GSO - UTPS\n",
      "Johnny Rafael Lang ZSS GSO - UTPS\n",
      "Johnny Rafael Lang Rota de fuga GSO - UTPS\n",
      "Johnny Rafael Lang Ponto de encontro GSO - UTPS\n",
      "Johnny Rafael Lang ZAS GSO - UTPS\n",
      "Johnny Rafael Lang Alerta sonoro GSO - UTPS\n",
      "GIL Goss Rota de fuga GSO - UTPS\n",
      "GIL Goss Ponto de encontro GSO - UTPS\n",
      "GIL Goss ZAS GSO - UTPS\n",
      "GIL Goss Alerta sonoro GSO - UTPS\n",
      "roque sanchez ZSS GSO - UTPS\n",
      "roque sanchez Rota de fuga GSO - UTPS\n",
      "roque sanchez Ponto de encontro GSO - UTPS\n",
      "roque sanchez ZAS GSO - UTPS\n",
      "roque sanchez Alerta sonoro GSO - UTPS\n",
      "Nilson Berticelli ZSS GSO - UTPS\n",
      "Nilson Berticelli Rota de fuga GSO - UTPS\n",
      "Nilson Berticelli Ponto de encontro GSO - UTPS\n",
      "Nilson Berticelli ZAS GSO - UTPS\n",
      "Nilson Berticelli Alerta sonoro GSO - UTPS\n",
      "Nilson Berticelli Ponto de encontro GSO - UHE-MACHADINHO\n",
      "Nilson Berticelli Rota de fuga GSO - UHE-MACHADINHO\n",
      "Nilson Berticelli ZSS GSO - UHE-MACHADINHO\n",
      "Nilson Berticelli Alerta sonoro GSO - UHE-MACHADINHO\n",
      "Nilson Berticelli ZAS GSO - UHE-MACHADINHO\n",
      "Olavo lajus Ponto de encontro GSO - UHE-MACHADINHO\n",
      "Olavo lajus Rota de fuga GSO - UHE-MACHADINHO\n",
      "Olavo lajus ZSS GSO - UHE-MACHADINHO\n",
      "Olavo lajus Alerta sonoro GSO - UHE-MACHADINHO\n",
      "Olavo lajus ZAS GSO - UHE-MACHADINHO\n",
      "Giulia Platt Maffezzolli Ponto de encontro GSO - UHE-MACHADINHO\n",
      "Giulia Platt Maffezzolli Rota de fuga GSO - UHE-MACHADINHO\n",
      "Giulia Platt Maffezzolli ZSS GSO - UHE-MACHADINHO\n",
      "Giulia Platt Maffezzolli Alerta sonoro GSO - UHE-MACHADINHO\n",
      "Giulia Platt Maffezzolli ZAS GSO - UHE-MACHADINHO\n",
      "Renato da Conceição Rota de fuga GSO - UHE-MACHADINHO\n",
      "Renato da Conceição ZSS GSO - UHE-MACHADINHO\n",
      "Renato da Conceição Alerta sonoro GSO - UHE-MACHADINHO\n",
      "Renato da Conceição ZAS GSO - UHE-MACHADINHO\n",
      "roque sanchez Ponto de encontro GSO - UHE-MACHADINHO\n",
      "roque sanchez Rota de fuga GSO - UHE-MACHADINHO\n",
      "roque sanchez ZSS GSO - UHE-MACHADINHO\n",
      "roque sanchez Alerta sonoro GSO - UHE-MACHADINHO\n",
      "roque sanchez ZAS GSO - UHE-MACHADINHO\n",
      "Guilherme Eduardo D'Alascio Ponto de encontro GSO - UHE-MACHADINHO\n",
      "Guilherme Eduardo D'Alascio Rota de fuga GSO - UHE-MACHADINHO\n",
      "Guilherme Eduardo D'Alascio ZSS GSO - UHE-MACHADINHO\n",
      "Guilherme Eduardo D'Alascio Alerta sonoro GSO - UHE-MACHADINHO\n",
      "Guilherme Eduardo D'Alascio ZAS GSO - UHE-MACHADINHO\n",
      "Karine Denize Posser Ponto de encontro GSO - UHE-MACHADINHO\n",
      "Karine Denize Posser Rota de fuga GSO - UHE-MACHADINHO\n",
      "Karine Denize Posser ZSS GSO - UHE-MACHADINHO\n",
      "Karine Denize Posser Alerta sonoro GSO - UHE-MACHADINHO\n",
      "Karine Denize Posser ZAS GSO - UHE-MACHADINHO\n",
      "Rafael Silva De Almeida Ponto de encontro GSO - UHE-MACHADINHO\n",
      "Rafael Silva De Almeida Rota de fuga GSO - UHE-MACHADINHO\n",
      "Rafael Silva De Almeida ZSS GSO - UHE-MACHADINHO\n",
      "Rafael Silva De Almeida Alerta sonoro GSO - UHE-MACHADINHO\n",
      "Rafael Silva De Almeida ZAS GSO - UHE-MACHADINHO\n",
      "Giovana Garlet Ponto de encontro GSO - UHE-MACHADINHO\n",
      "Giovana Garlet Rota de fuga GSO - UHE-MACHADINHO\n",
      "Giovana Garlet ZSS GSO - UHE-MACHADINHO\n",
      "Giovana Garlet Alerta sonoro GSO - UHE-MACHADINHO\n",
      "Giovana Garlet ZAS GSO - UHE-MACHADINHO\n",
      "Clademir Mandelli Ponto de encontro GSO - UHE-MACHADINHO\n",
      "Clademir Mandelli Rota de fuga GSO - UHE-MACHADINHO\n",
      "Clademir Mandelli ZSS GSO - UHE-MACHADINHO\n",
      "Clademir Mandelli Alerta sonoro GSO - UHE-MACHADINHO\n",
      "Clademir Mandelli ZAS GSO - UHE-MACHADINHO\n",
      "Graciele Woiciekoski Ponto de encontro GSO - UHE-MACHADINHO\n",
      "Graciele Woiciekoski Rota de fuga GSO - UHE-MACHADINHO\n",
      "Graciele Woiciekoski ZSS GSO - UHE-MACHADINHO\n",
      "Graciele Woiciekoski Alerta sonoro GSO - UHE-MACHADINHO\n",
      "Graciele Woiciekoski ZAS GSO - UHE-MACHADINHO\n",
      "Gustavo Oliveira Ponto de encontro GSO - UHE-MACHADINHO\n",
      "Gustavo Oliveira Rota de fuga GSO - UHE-MACHADINHO\n",
      "Gustavo Oliveira ZSS GSO - UHE-MACHADINHO\n",
      "Gustavo Oliveira Alerta sonoro GSO - UHE-MACHADINHO\n",
      "Gustavo Oliveira ZAS GSO - UHE-MACHADINHO\n",
      "Allan Keller Ponto de encontro GSO - UHE-MACHADINHO\n",
      "Allan Keller Rota de fuga GSO - UHE-MACHADINHO\n",
      "Allan Keller ZSS GSO - UHE-MACHADINHO\n",
      "Allan Keller Alerta sonoro GSO - UHE-MACHADINHO\n",
      "Allan Keller ZAS GSO - UHE-MACHADINHO\n",
      "João Guilherme Stumpf Reis Ponto de encontro GSO - UHE-MACHADINHO\n",
      "João Guilherme Stumpf Reis Rota de fuga GSO - UHE-MACHADINHO\n",
      "João Guilherme Stumpf Reis ZSS GSO - UHE-MACHADINHO\n",
      "João Guilherme Stumpf Reis Alerta sonoro GSO - UHE-MACHADINHO\n",
      "João Guilherme Stumpf Reis ZAS GSO - UHE-MACHADINHO\n",
      "Leone Genz Ponto de encontro GSO - UHE-MACHADINHO\n",
      "Leone Genz Rota de fuga GSO - UHE-MACHADINHO\n",
      "Leone Genz ZSS GSO - UHE-MACHADINHO\n",
      "Leone Genz Alerta sonoro GSO - UHE-MACHADINHO\n",
      "Leone Genz ZAS GSO - UHE-MACHADINHO\n",
      "Agente de Defesa Civil Ponto de encontro GSO - UHE-MACHADINHO\n",
      "Agente de Defesa Civil Rota de fuga GSO - UHE-MACHADINHO\n",
      "Agente de Defesa Civil ZSS GSO - UHE-MACHADINHO\n",
      "Agente de Defesa Civil Alerta sonoro GSO - UHE-MACHADINHO\n",
      "Agente de Defesa Civil ZAS GSO - UHE-MACHADINHO\n",
      "Adilson de Oliveira Rota de fuga GSO - UHE-MACHADINHO\n",
      "Adilson de Oliveira ZSS GSO - UHE-MACHADINHO\n",
      "Adilson de Oliveira Alerta sonoro GSO - UHE-MACHADINHO\n",
      "Adilson de Oliveira ZAS GSO - UHE-MACHADINHO\n",
      "Igor Renan Braga Dos Santos Ponto de encontro GSO - UHE-MACHADINHO\n",
      "Igor Renan Braga Dos Santos Rota de fuga GSO - UHE-MACHADINHO\n",
      "Igor Renan Braga Dos Santos ZSS GSO - UHE-MACHADINHO\n",
      "Igor Renan Braga Dos Santos Alerta sonoro GSO - UHE-MACHADINHO\n",
      "Igor Renan Braga Dos Santos ZAS GSO - UHE-MACHADINHO\n",
      "Evandro Ferreira Ponto de encontro GSO - UHE-MACHADINHO\n",
      "Evandro Ferreira Rota de fuga GSO - UHE-MACHADINHO\n",
      "Evandro Ferreira ZSS GSO - UHE-MACHADINHO\n",
      "Evandro Ferreira Alerta sonoro GSO - UHE-MACHADINHO\n",
      "Evandro Ferreira ZAS GSO - UHE-MACHADINHO\n",
      "Victor Martins Ponto de encontro GSO - UHE-MACHADINHO\n",
      "Victor Martins Rota de fuga GSO - UHE-MACHADINHO\n",
      "Victor Martins ZSS GSO - UHE-MACHADINHO\n",
      "Victor Martins Alerta sonoro GSO - UHE-MACHADINHO\n",
      "Victor Martins ZAS GSO - UHE-MACHADINHO\n",
      "Andréia Zanatta Ponto de encontro GSO - UHE-MACHADINHO\n",
      "Andréia Zanatta Rota de fuga GSO - UHE-MACHADINHO\n",
      "Andréia Zanatta ZSS GSO - UHE-MACHADINHO\n",
      "Andréia Zanatta Alerta sonoro GSO - UHE-MACHADINHO\n",
      "Andréia Zanatta ZAS GSO - UHE-MACHADINHO\n",
      "Laís Caroline Centenaro Ponto de encontro GSO - UHE-MACHADINHO\n",
      "Laís Caroline Centenaro Rota de fuga GSO - UHE-MACHADINHO\n",
      "Laís Caroline Centenaro ZSS GSO - UHE-MACHADINHO\n",
      "Laís Caroline Centenaro Alerta sonoro GSO - UHE-MACHADINHO\n"
     ]
    },
    {
     "name": "stdout",
     "output_type": "stream",
     "text": [
      "Laís Caroline Centenaro ZAS GSO - UHE-MACHADINHO\n",
      "Rui Pinali Biavatti Ponto de encontro GSO - UHE-MACHADINHO\n",
      "Rui Pinali Biavatti Rota de fuga GSO - UHE-MACHADINHO\n",
      "Rui Pinali Biavatti ZSS GSO - UHE-MACHADINHO\n",
      "Rui Pinali Biavatti Alerta sonoro GSO - UHE-MACHADINHO\n",
      "Rui Pinali Biavatti ZAS GSO - UHE-MACHADINHO\n",
      "Cid Ionceck ZSS GSO - UHE-MACHADINHO\n",
      "Cid Ionceck Alerta sonoro GSO - UHE-MACHADINHO\n",
      "Cid Ionceck ZAS GSO - UHE-MACHADINHO\n",
      "Jose Vicente Miranda Rescigno Ponto de encontro GSO - UHE-MACHADINHO\n",
      "Jose Vicente Miranda Rescigno Rota de fuga GSO - UHE-MACHADINHO\n",
      "Jose Vicente Miranda Rescigno ZSS GSO - UHE-MACHADINHO\n",
      "Jose Vicente Miranda Rescigno Alerta sonoro GSO - UHE-MACHADINHO\n",
      "Jose Vicente Miranda Rescigno ZAS GSO - UHE-MACHADINHO\n",
      "Manual PAEB Ponto de encontro GSO - UHE-MACHADINHO\n",
      "Manual PAEB Rota de fuga GSO - UHE-MACHADINHO\n",
      "Manual PAEB ZSS GSO - UHE-MACHADINHO\n",
      "Manual PAEB Alerta sonoro GSO - UHE-MACHADINHO\n",
      "Manual PAEB ZAS GSO - UHE-MACHADINHO\n",
      "Karla Zorzam Ponto de encontro GSO - UHE-MACHADINHO\n",
      "Karla Zorzam Rota de fuga GSO - UHE-MACHADINHO\n",
      "Karla Zorzam ZSS GSO - UHE-MACHADINHO\n",
      "Karla Zorzam Alerta sonoro GSO - UHE-MACHADINHO\n",
      "Karla Zorzam ZAS GSO - UHE-MACHADINHO\n",
      "Pedro Flávio Dias Portela Oliveira Ponto de encontro GSO - UHE-MACHADINHO\n",
      "Pedro Flávio Dias Portela Oliveira Rota de fuga GSO - UHE-MACHADINHO\n",
      "Pedro Flávio Dias Portela Oliveira ZSS GSO - UHE-MACHADINHO\n",
      "Pedro Flávio Dias Portela Oliveira Alerta sonoro GSO - UHE-MACHADINHO\n",
      "Pedro Flávio Dias Portela Oliveira ZAS GSO - UHE-MACHADINHO\n",
      "Igor Renan Braga Dos Santos Rota de fuga GSO - UHE-SALTO OSORIO\n",
      "Igor Renan Braga Dos Santos Ponto de encontro GSO - UHE-SALTO OSORIO\n",
      "Igor Renan Braga Dos Santos ZAS GSO - UHE-SALTO OSORIO\n",
      "Igor Renan Braga Dos Santos ZSS GSO - UHE-SALTO OSORIO\n",
      "Igor Renan Braga Dos Santos Alerta sonoro GSO - UHE-SALTO OSORIO\n",
      "João Guilherme Stumpf Reis Rota de fuga GSO - UHE-SALTO OSORIO\n",
      "João Guilherme Stumpf Reis Ponto de encontro GSO - UHE-SALTO OSORIO\n",
      "João Guilherme Stumpf Reis ZAS GSO - UHE-SALTO OSORIO\n",
      "João Guilherme Stumpf Reis ZSS GSO - UHE-SALTO OSORIO\n",
      "João Guilherme Stumpf Reis Alerta sonoro GSO - UHE-SALTO OSORIO\n",
      "Giulia Platt Maffezzolli Rota de fuga GSO - UHE-SALTO OSORIO\n",
      "Giulia Platt Maffezzolli Ponto de encontro GSO - UHE-SALTO OSORIO\n",
      "Giulia Platt Maffezzolli ZAS GSO - UHE-SALTO OSORIO\n",
      "Giulia Platt Maffezzolli ZSS GSO - UHE-SALTO OSORIO\n",
      "Giulia Platt Maffezzolli Alerta sonoro GSO - UHE-SALTO OSORIO\n",
      "Emerson Giel Maurer Rota de fuga GSO - UHE-SALTO OSORIO\n",
      "Emerson Giel Maurer Ponto de encontro GSO - UHE-SALTO OSORIO\n",
      "Emerson Giel Maurer ZAS GSO - UHE-SALTO OSORIO\n",
      "Emerson Giel Maurer ZSS GSO - UHE-SALTO OSORIO\n",
      "Emerson Giel Maurer Alerta sonoro GSO - UHE-SALTO OSORIO\n",
      "roque sanchez Rota de fuga GSO - UHE-SALTO OSORIO\n",
      "roque sanchez Ponto de encontro GSO - UHE-SALTO OSORIO\n",
      "roque sanchez ZAS GSO - UHE-SALTO OSORIO\n",
      "roque sanchez ZSS GSO - UHE-SALTO OSORIO\n",
      "roque sanchez Alerta sonoro GSO - UHE-SALTO OSORIO\n",
      "Karine Denize Posser Rota de fuga GSO - UHE-SALTO OSORIO\n",
      "Karine Denize Posser Ponto de encontro GSO - UHE-SALTO OSORIO\n",
      "Karine Denize Posser ZAS GSO - UHE-SALTO OSORIO\n",
      "Karine Denize Posser ZSS GSO - UHE-SALTO OSORIO\n",
      "Karine Denize Posser Alerta sonoro GSO - UHE-SALTO OSORIO\n",
      "Gustavo Oliveira Rota de fuga GSO - UHE-SALTO OSORIO\n",
      "Gustavo Oliveira Ponto de encontro GSO - UHE-SALTO OSORIO\n",
      "Gustavo Oliveira ZAS GSO - UHE-SALTO OSORIO\n",
      "Gustavo Oliveira ZSS GSO - UHE-SALTO OSORIO\n",
      "Gustavo Oliveira Alerta sonoro GSO - UHE-SALTO OSORIO\n",
      "Giovana Garlet Rota de fuga GSO - UHE-SALTO OSORIO\n",
      "Giovana Garlet Ponto de encontro GSO - UHE-SALTO OSORIO\n",
      "Giovana Garlet ZAS GSO - UHE-SALTO OSORIO\n",
      "Giovana Garlet ZSS GSO - UHE-SALTO OSORIO\n",
      "Giovana Garlet Alerta sonoro GSO - UHE-SALTO OSORIO\n",
      "Allan Keller Rota de fuga GSO - UHE-SALTO OSORIO\n",
      "Allan Keller Ponto de encontro GSO - UHE-SALTO OSORIO\n",
      "Allan Keller ZAS GSO - UHE-SALTO OSORIO\n",
      "Allan Keller ZSS GSO - UHE-SALTO OSORIO\n",
      "Allan Keller Alerta sonoro GSO - UHE-SALTO OSORIO\n",
      "Olavo lajus Rota de fuga GSO - UHE-SALTO OSORIO\n",
      "Olavo lajus Ponto de encontro GSO - UHE-SALTO OSORIO\n",
      "Olavo lajus ZAS GSO - UHE-SALTO OSORIO\n",
      "Olavo lajus ZSS GSO - UHE-SALTO OSORIO\n",
      "Olavo lajus Alerta sonoro GSO - UHE-SALTO OSORIO\n",
      "Manual PAEB Rota de fuga GSO - UHE-SALTO OSORIO\n",
      "Manual PAEB Ponto de encontro GSO - UHE-SALTO OSORIO\n",
      "Manual PAEB ZAS GSO - UHE-SALTO OSORIO\n",
      "Manual PAEB ZSS GSO - UHE-SALTO OSORIO\n",
      "Manual PAEB Alerta sonoro GSO - UHE-SALTO OSORIO\n",
      "Nilson Berticelli Rota de fuga GSO - UHE-SALTO OSORIO\n",
      "Nilson Berticelli Ponto de encontro GSO - UHE-SALTO OSORIO\n",
      "Nilson Berticelli ZAS GSO - UHE-SALTO OSORIO\n",
      "Nilson Berticelli ZSS GSO - UHE-SALTO OSORIO\n",
      "Nilson Berticelli Alerta sonoro GSO - UHE-SALTO OSORIO\n",
      "Graciele Woiciekoski Rota de fuga GSO - UHE-SALTO OSORIO\n",
      "Graciele Woiciekoski Ponto de encontro GSO - UHE-SALTO OSORIO\n",
      "Graciele Woiciekoski ZAS GSO - UHE-SALTO OSORIO\n",
      "Graciele Woiciekoski ZSS GSO - UHE-SALTO OSORIO\n",
      "Graciele Woiciekoski Alerta sonoro GSO - UHE-SALTO OSORIO\n",
      "Agente de Defesa Civil Rota de fuga GSO - UHE-SALTO OSORIO\n",
      "Agente de Defesa Civil Ponto de encontro GSO - UHE-SALTO OSORIO\n",
      "Agente de Defesa Civil ZAS GSO - UHE-SALTO OSORIO\n",
      "Agente de Defesa Civil ZSS GSO - UHE-SALTO OSORIO\n",
      "Agente de Defesa Civil Alerta sonoro GSO - UHE-SALTO OSORIO\n",
      "Karla Zorzam Rota de fuga GSO - UHE-SALTO OSORIO\n",
      "Karla Zorzam Ponto de encontro GSO - UHE-SALTO OSORIO\n",
      "Karla Zorzam ZAS GSO - UHE-SALTO OSORIO\n",
      "Karla Zorzam ZSS GSO - UHE-SALTO OSORIO\n",
      "Karla Zorzam Alerta sonoro GSO - UHE-SALTO OSORIO\n",
      "Cid Ionceck Rota de fuga GSO - UHE-SALTO OSORIO\n",
      "Cid Ionceck Ponto de encontro GSO - UHE-SALTO OSORIO\n",
      "Cid Ionceck ZAS GSO - UHE-SALTO OSORIO\n",
      "Cid Ionceck ZSS GSO - UHE-SALTO OSORIO\n",
      "Cid Ionceck Alerta sonoro GSO - UHE-SALTO OSORIO\n",
      "Evandro Ferreira Rota de fuga GSO - UHE-SALTO OSORIO\n",
      "Evandro Ferreira Ponto de encontro GSO - UHE-SALTO OSORIO\n",
      "Evandro Ferreira ZAS GSO - UHE-SALTO OSORIO\n",
      "Evandro Ferreira ZSS GSO - UHE-SALTO OSORIO\n",
      "Evandro Ferreira Alerta sonoro GSO - UHE-SALTO OSORIO\n",
      "Jose Vicente Miranda Rescigno Rota de fuga GSO - UHE-SALTO OSORIO\n",
      "Jose Vicente Miranda Rescigno Ponto de encontro GSO - UHE-SALTO OSORIO\n",
      "Jose Vicente Miranda Rescigno ZAS GSO - UHE-SALTO OSORIO\n",
      "Jose Vicente Miranda Rescigno ZSS GSO - UHE-SALTO OSORIO\n",
      "Jose Vicente Miranda Rescigno Alerta sonoro GSO - UHE-SALTO OSORIO\n",
      "Victor Martins Rota de fuga GSO - UHE-SALTO OSORIO\n",
      "Victor Martins Ponto de encontro GSO - UHE-SALTO OSORIO\n",
      "Victor Martins ZAS GSO - UHE-SALTO OSORIO\n",
      "Victor Martins ZSS GSO - UHE-SALTO OSORIO\n",
      "Victor Martins Alerta sonoro GSO - UHE-SALTO OSORIO\n",
      "Rafael Silva De Almeida Rota de fuga GSO - UHE-SALTO OSORIO\n",
      "Rafael Silva De Almeida Ponto de encontro GSO - UHE-SALTO OSORIO\n",
      "Rafael Silva De Almeida ZAS GSO - UHE-SALTO OSORIO\n",
      "Rafael Silva De Almeida ZSS GSO - UHE-SALTO OSORIO\n",
      "Rafael Silva De Almeida Alerta sonoro GSO - UHE-SALTO OSORIO\n",
      "Leone Genz Rota de fuga GSO - UHE-SALTO OSORIO\n",
      "Leone Genz Ponto de encontro GSO - UHE-SALTO OSORIO\n",
      "Leone Genz ZAS GSO - UHE-SALTO OSORIO\n",
      "Leone Genz ZSS GSO - UHE-SALTO OSORIO\n",
      "Leone Genz Alerta sonoro GSO - UHE-SALTO OSORIO\n",
      "Paulo Henrique Santos Feitosa Rota de fuga GSO - UHE-SALTO OSORIO\n",
      "Paulo Henrique Santos Feitosa Ponto de encontro GSO - UHE-SALTO OSORIO\n",
      "Paulo Henrique Santos Feitosa ZAS GSO - UHE-SALTO OSORIO\n",
      "Paulo Henrique Santos Feitosa ZSS GSO - UHE-SALTO OSORIO\n",
      "Paulo Henrique Santos Feitosa Alerta sonoro GSO - UHE-SALTO OSORIO\n",
      "Andréia Zanatta Rota de fuga GSO - UHE-SALTO OSORIO\n",
      "Andréia Zanatta Ponto de encontro GSO - UHE-SALTO OSORIO\n",
      "Andréia Zanatta ZAS GSO - UHE-SALTO OSORIO\n",
      "Andréia Zanatta ZSS GSO - UHE-SALTO OSORIO\n",
      "Andréia Zanatta Alerta sonoro GSO - UHE-SALTO OSORIO\n",
      "Igor Renan Braga Dos Santos Ponto de encontro GSO - PCH-JOSÉ GELÁZIO DA ROCHA\n",
      "Igor Renan Braga Dos Santos Rota de fuga GSO - PCH-JOSÉ GELÁZIO DA ROCHA\n",
      "Igor Renan Braga Dos Santos Alerta sonoro GSO - PCH-JOSÉ GELÁZIO DA ROCHA\n",
      "Igor Renan Braga Dos Santos ZSS GSO - PCH-JOSÉ GELÁZIO DA ROCHA\n",
      "Igor Renan Braga Dos Santos ZAS GSO - PCH-JOSÉ GELÁZIO DA ROCHA\n",
      "roque sanchez Ponto de encontro GSO - PCH-JOSÉ GELÁZIO DA ROCHA\n",
      "roque sanchez Rota de fuga GSO - PCH-JOSÉ GELÁZIO DA ROCHA\n",
      "roque sanchez Alerta sonoro GSO - PCH-JOSÉ GELÁZIO DA ROCHA\n",
      "roque sanchez ZSS GSO - PCH-JOSÉ GELÁZIO DA ROCHA\n",
      "roque sanchez ZAS GSO - PCH-JOSÉ GELÁZIO DA ROCHA\n",
      "Karla Zorzam Ponto de encontro GSO - PCH-JOSÉ GELÁZIO DA ROCHA\n",
      "Karla Zorzam Rota de fuga GSO - PCH-JOSÉ GELÁZIO DA ROCHA\n",
      "Karla Zorzam Alerta sonoro GSO - PCH-JOSÉ GELÁZIO DA ROCHA\n"
     ]
    },
    {
     "name": "stdout",
     "output_type": "stream",
     "text": [
      "Karla Zorzam ZSS GSO - PCH-JOSÉ GELÁZIO DA ROCHA\n",
      "Karla Zorzam ZAS GSO - PCH-JOSÉ GELÁZIO DA ROCHA\n",
      "Graciele Woiciekoski Ponto de encontro GSO - PCH-JOSÉ GELÁZIO DA ROCHA\n",
      "Graciele Woiciekoski Rota de fuga GSO - PCH-JOSÉ GELÁZIO DA ROCHA\n",
      "Graciele Woiciekoski Alerta sonoro GSO - PCH-JOSÉ GELÁZIO DA ROCHA\n",
      "Graciele Woiciekoski ZSS GSO - PCH-JOSÉ GELÁZIO DA ROCHA\n",
      "Graciele Woiciekoski ZAS GSO - PCH-JOSÉ GELÁZIO DA ROCHA\n",
      "Leone Genz Ponto de encontro GSO - PCH-JOSÉ GELÁZIO DA ROCHA\n",
      "Leone Genz Rota de fuga GSO - PCH-JOSÉ GELÁZIO DA ROCHA\n",
      "Leone Genz Alerta sonoro GSO - PCH-JOSÉ GELÁZIO DA ROCHA\n",
      "Leone Genz ZSS GSO - PCH-JOSÉ GELÁZIO DA ROCHA\n",
      "Leone Genz ZAS GSO - PCH-JOSÉ GELÁZIO DA ROCHA\n",
      "Rafael Silva De Almeida Ponto de encontro GSO - PCH-JOSÉ GELÁZIO DA ROCHA\n",
      "Rafael Silva De Almeida Rota de fuga GSO - PCH-JOSÉ GELÁZIO DA ROCHA\n",
      "Rafael Silva De Almeida Alerta sonoro GSO - PCH-JOSÉ GELÁZIO DA ROCHA\n",
      "Rafael Silva De Almeida ZSS GSO - PCH-JOSÉ GELÁZIO DA ROCHA\n",
      "Rafael Silva De Almeida ZAS GSO - PCH-JOSÉ GELÁZIO DA ROCHA\n",
      "Agente de Defesa Civil Ponto de encontro GSO - PCH-JOSÉ GELÁZIO DA ROCHA\n",
      "Agente de Defesa Civil Rota de fuga GSO - PCH-JOSÉ GELÁZIO DA ROCHA\n",
      "Agente de Defesa Civil Alerta sonoro GSO - PCH-JOSÉ GELÁZIO DA ROCHA\n",
      "Agente de Defesa Civil ZSS GSO - PCH-JOSÉ GELÁZIO DA ROCHA\n",
      "Agente de Defesa Civil ZAS GSO - PCH-JOSÉ GELÁZIO DA ROCHA\n",
      "Manual PAEB Ponto de encontro GSO - PCH-JOSÉ GELÁZIO DA ROCHA\n",
      "Manual PAEB Rota de fuga GSO - PCH-JOSÉ GELÁZIO DA ROCHA\n",
      "Manual PAEB Alerta sonoro GSO - PCH-JOSÉ GELÁZIO DA ROCHA\n",
      "Manual PAEB ZSS GSO - PCH-JOSÉ GELÁZIO DA ROCHA\n",
      "Manual PAEB ZAS GSO - PCH-JOSÉ GELÁZIO DA ROCHA\n",
      "Andréia Zanatta Ponto de encontro GSO - PCH-JOSÉ GELÁZIO DA ROCHA\n",
      "Andréia Zanatta Rota de fuga GSO - PCH-JOSÉ GELÁZIO DA ROCHA\n",
      "Andréia Zanatta Alerta sonoro GSO - PCH-JOSÉ GELÁZIO DA ROCHA\n",
      "Andréia Zanatta ZSS GSO - PCH-JOSÉ GELÁZIO DA ROCHA\n",
      "Andréia Zanatta ZAS GSO - PCH-JOSÉ GELÁZIO DA ROCHA\n",
      "Olavo lajus Ponto de encontro GSO - PCH-JOSÉ GELÁZIO DA ROCHA\n",
      "Olavo lajus Rota de fuga GSO - PCH-JOSÉ GELÁZIO DA ROCHA\n",
      "Olavo lajus Alerta sonoro GSO - PCH-JOSÉ GELÁZIO DA ROCHA\n",
      "Olavo lajus ZSS GSO - PCH-JOSÉ GELÁZIO DA ROCHA\n",
      "Olavo lajus ZAS GSO - PCH-JOSÉ GELÁZIO DA ROCHA\n",
      "Nilson Berticelli Ponto de encontro GSO - PCH-JOSÉ GELÁZIO DA ROCHA\n",
      "Nilson Berticelli Rota de fuga GSO - PCH-JOSÉ GELÁZIO DA ROCHA\n",
      "Nilson Berticelli Alerta sonoro GSO - PCH-JOSÉ GELÁZIO DA ROCHA\n",
      "Nilson Berticelli ZSS GSO - PCH-JOSÉ GELÁZIO DA ROCHA\n",
      "Nilson Berticelli ZAS GSO - PCH-JOSÉ GELÁZIO DA ROCHA\n",
      "Giovana Garlet Ponto de encontro GSO - PCH-JOSÉ GELÁZIO DA ROCHA\n",
      "Giovana Garlet Rota de fuga GSO - PCH-JOSÉ GELÁZIO DA ROCHA\n",
      "Giovana Garlet Alerta sonoro GSO - PCH-JOSÉ GELÁZIO DA ROCHA\n",
      "Giovana Garlet ZSS GSO - PCH-JOSÉ GELÁZIO DA ROCHA\n",
      "Giovana Garlet ZAS GSO - PCH-JOSÉ GELÁZIO DA ROCHA\n",
      "Karine Denize Posser Ponto de encontro GSO - PCH-JOSÉ GELÁZIO DA ROCHA\n",
      "Karine Denize Posser Rota de fuga GSO - PCH-JOSÉ GELÁZIO DA ROCHA\n",
      "Karine Denize Posser Alerta sonoro GSO - PCH-JOSÉ GELÁZIO DA ROCHA\n",
      "Karine Denize Posser ZSS GSO - PCH-JOSÉ GELÁZIO DA ROCHA\n",
      "Karine Denize Posser ZAS GSO - PCH-JOSÉ GELÁZIO DA ROCHA\n",
      "João Guilherme Stumpf Reis Ponto de encontro GSO - PCH-JOSÉ GELÁZIO DA ROCHA\n",
      "João Guilherme Stumpf Reis Rota de fuga GSO - PCH-JOSÉ GELÁZIO DA ROCHA\n",
      "João Guilherme Stumpf Reis Alerta sonoro GSO - PCH-JOSÉ GELÁZIO DA ROCHA\n",
      "João Guilherme Stumpf Reis ZSS GSO - PCH-JOSÉ GELÁZIO DA ROCHA\n",
      "João Guilherme Stumpf Reis ZAS GSO - PCH-JOSÉ GELÁZIO DA ROCHA\n",
      "Giulia Platt Maffezzolli Ponto de encontro GSO - PCH-JOSÉ GELÁZIO DA ROCHA\n",
      "Giulia Platt Maffezzolli Rota de fuga GSO - PCH-JOSÉ GELÁZIO DA ROCHA\n",
      "Giulia Platt Maffezzolli Alerta sonoro GSO - PCH-JOSÉ GELÁZIO DA ROCHA\n",
      "Giulia Platt Maffezzolli ZSS GSO - PCH-JOSÉ GELÁZIO DA ROCHA\n",
      "Giulia Platt Maffezzolli ZAS GSO - PCH-JOSÉ GELÁZIO DA ROCHA\n",
      "Gustavo Oliveira Ponto de encontro GSO - PCH-JOSÉ GELÁZIO DA ROCHA\n",
      "Gustavo Oliveira Rota de fuga GSO - PCH-JOSÉ GELÁZIO DA ROCHA\n",
      "Gustavo Oliveira Alerta sonoro GSO - PCH-JOSÉ GELÁZIO DA ROCHA\n",
      "Gustavo Oliveira ZSS GSO - PCH-JOSÉ GELÁZIO DA ROCHA\n",
      "Gustavo Oliveira ZAS GSO - PCH-JOSÉ GELÁZIO DA ROCHA\n",
      "Eduardo Soares Porto Ponto de encontro GSO - PCH-JOSÉ GELÁZIO DA ROCHA\n",
      "Eduardo Soares Porto Rota de fuga GSO - PCH-JOSÉ GELÁZIO DA ROCHA\n",
      "Eduardo Soares Porto Alerta sonoro GSO - PCH-JOSÉ GELÁZIO DA ROCHA\n",
      "Eduardo Soares Porto ZSS GSO - PCH-JOSÉ GELÁZIO DA ROCHA\n",
      "Eduardo Soares Porto ZAS GSO - PCH-JOSÉ GELÁZIO DA ROCHA\n",
      "Allan Keller Ponto de encontro GSO - PCH-JOSÉ GELÁZIO DA ROCHA\n",
      "Allan Keller Rota de fuga GSO - PCH-JOSÉ GELÁZIO DA ROCHA\n",
      "Allan Keller Alerta sonoro GSO - PCH-JOSÉ GELÁZIO DA ROCHA\n",
      "Allan Keller ZSS GSO - PCH-JOSÉ GELÁZIO DA ROCHA\n",
      "Allan Keller ZAS GSO - PCH-JOSÉ GELÁZIO DA ROCHA\n",
      "Evandro Ferreira Ponto de encontro GSO - PCH-JOSÉ GELÁZIO DA ROCHA\n",
      "Evandro Ferreira Rota de fuga GSO - PCH-JOSÉ GELÁZIO DA ROCHA\n",
      "Evandro Ferreira Alerta sonoro GSO - PCH-JOSÉ GELÁZIO DA ROCHA\n",
      "Evandro Ferreira ZSS GSO - PCH-JOSÉ GELÁZIO DA ROCHA\n",
      "Evandro Ferreira ZAS GSO - PCH-JOSÉ GELÁZIO DA ROCHA\n",
      "Cid Ionceck Ponto de encontro GSO - PCH-JOSÉ GELÁZIO DA ROCHA\n",
      "Cid Ionceck Rota de fuga GSO - PCH-JOSÉ GELÁZIO DA ROCHA\n",
      "Cid Ionceck Alerta sonoro GSO - PCH-JOSÉ GELÁZIO DA ROCHA\n",
      "Cid Ionceck ZSS GSO - PCH-JOSÉ GELÁZIO DA ROCHA\n",
      "Cid Ionceck ZAS GSO - PCH-JOSÉ GELÁZIO DA ROCHA\n",
      "Victor Martins Ponto de encontro GSO - PCH-JOSÉ GELÁZIO DA ROCHA\n",
      "Victor Martins Rota de fuga GSO - PCH-JOSÉ GELÁZIO DA ROCHA\n",
      "Victor Martins Alerta sonoro GSO - PCH-JOSÉ GELÁZIO DA ROCHA\n",
      "Victor Martins ZSS GSO - PCH-JOSÉ GELÁZIO DA ROCHA\n",
      "Victor Martins ZAS GSO - PCH-JOSÉ GELÁZIO DA ROCHA\n",
      "Jose Vicente Miranda Rescigno Ponto de encontro GSO - PCH-JOSÉ GELÁZIO DA ROCHA\n",
      "Jose Vicente Miranda Rescigno Rota de fuga GSO - PCH-JOSÉ GELÁZIO DA ROCHA\n",
      "Jose Vicente Miranda Rescigno Alerta sonoro GSO - PCH-JOSÉ GELÁZIO DA ROCHA\n",
      "Jose Vicente Miranda Rescigno ZSS GSO - PCH-JOSÉ GELÁZIO DA ROCHA\n",
      "Jose Vicente Miranda Rescigno ZAS GSO - PCH-JOSÉ GELÁZIO DA ROCHA\n",
      "Nilson Berticelli Rota de fuga GSO - UHE-MIRANDA\n",
      "Nilson Berticelli ZSS GSO - UHE-MIRANDA\n",
      "Nilson Berticelli Alerta sonoro GSO - UHE-MIRANDA\n",
      "Nilson Berticelli ZAS GSO - UHE-MIRANDA\n",
      "Nilson Berticelli Ponto de encontro GSO - UHE-MIRANDA\n",
      "Karine Denize Posser Rota de fuga GSO - UHE-MIRANDA\n",
      "Karine Denize Posser ZSS GSO - UHE-MIRANDA\n",
      "Karine Denize Posser Alerta sonoro GSO - UHE-MIRANDA\n",
      "Karine Denize Posser ZAS GSO - UHE-MIRANDA\n",
      "Karine Denize Posser Ponto de encontro GSO - UHE-MIRANDA\n",
      "roque sanchez Rota de fuga GSO - UHE-MIRANDA\n",
      "roque sanchez ZSS GSO - UHE-MIRANDA\n",
      "roque sanchez Alerta sonoro GSO - UHE-MIRANDA\n",
      "roque sanchez ZAS GSO - UHE-MIRANDA\n",
      "roque sanchez Ponto de encontro GSO - UHE-MIRANDA\n",
      "Olavo lajus Rota de fuga GSO - UHE-MIRANDA\n",
      "Olavo lajus ZSS GSO - UHE-MIRANDA\n",
      "Olavo lajus Alerta sonoro GSO - UHE-MIRANDA\n",
      "Olavo lajus ZAS GSO - UHE-MIRANDA\n",
      "Olavo lajus Ponto de encontro GSO - UHE-MIRANDA\n",
      "Agente de Defesa Civil Rota de fuga GSO - UHE-MIRANDA\n",
      "Agente de Defesa Civil ZSS GSO - UHE-MIRANDA\n",
      "Agente de Defesa Civil Alerta sonoro GSO - UHE-MIRANDA\n",
      "Agente de Defesa Civil ZAS GSO - UHE-MIRANDA\n",
      "Agente de Defesa Civil Ponto de encontro GSO - UHE-MIRANDA\n",
      "Allan Keller Rota de fuga GSO - UHE-MIRANDA\n",
      "Allan Keller ZSS GSO - UHE-MIRANDA\n",
      "Allan Keller Alerta sonoro GSO - UHE-MIRANDA\n",
      "Allan Keller ZAS GSO - UHE-MIRANDA\n",
      "Allan Keller Ponto de encontro GSO - UHE-MIRANDA\n",
      "Cid Ionceck Rota de fuga GSO - UHE-MIRANDA\n",
      "Cid Ionceck ZSS GSO - UHE-MIRANDA\n",
      "Cid Ionceck Alerta sonoro GSO - UHE-MIRANDA\n",
      "Cid Ionceck ZAS GSO - UHE-MIRANDA\n",
      "Cid Ionceck Ponto de encontro GSO - UHE-MIRANDA\n",
      "Igor Renan Braga Dos Santos Rota de fuga GSO - UHE-MIRANDA\n",
      "Igor Renan Braga Dos Santos ZSS GSO - UHE-MIRANDA\n",
      "Igor Renan Braga Dos Santos Alerta sonoro GSO - UHE-MIRANDA\n",
      "Igor Renan Braga Dos Santos ZAS GSO - UHE-MIRANDA\n",
      "Igor Renan Braga Dos Santos Ponto de encontro GSO - UHE-MIRANDA\n",
      "Leone Genz Rota de fuga GSO - UHE-MIRANDA\n",
      "Leone Genz ZSS GSO - UHE-MIRANDA\n",
      "Leone Genz Alerta sonoro GSO - UHE-MIRANDA\n",
      "Leone Genz ZAS GSO - UHE-MIRANDA\n",
      "Leone Genz Ponto de encontro GSO - UHE-MIRANDA\n",
      "João Guilherme Stumpf Reis Rota de fuga GSO - UHE-MIRANDA\n",
      "João Guilherme Stumpf Reis ZSS GSO - UHE-MIRANDA\n",
      "João Guilherme Stumpf Reis Alerta sonoro GSO - UHE-MIRANDA\n",
      "João Guilherme Stumpf Reis ZAS GSO - UHE-MIRANDA\n",
      "João Guilherme Stumpf Reis Ponto de encontro GSO - UHE-MIRANDA\n",
      "Andréia Zanatta Rota de fuga GSO - UHE-MIRANDA\n",
      "Andréia Zanatta ZSS GSO - UHE-MIRANDA\n",
      "Andréia Zanatta Alerta sonoro GSO - UHE-MIRANDA\n",
      "Andréia Zanatta ZAS GSO - UHE-MIRANDA\n",
      "Andréia Zanatta Ponto de encontro GSO - UHE-MIRANDA\n",
      "Giulia Platt Maffezzolli Rota de fuga GSO - UHE-MIRANDA\n",
      "Giulia Platt Maffezzolli ZSS GSO - UHE-MIRANDA\n",
      "Giulia Platt Maffezzolli Alerta sonoro GSO - UHE-MIRANDA\n",
      "Giulia Platt Maffezzolli ZAS GSO - UHE-MIRANDA\n",
      "Giulia Platt Maffezzolli Ponto de encontro GSO - UHE-MIRANDA\n",
      "Marcus Aurelio Silva Pereira ZSS GSO - UHE-MIRANDA\n",
      "Marcus Aurelio Silva Pereira Alerta sonoro GSO - UHE-MIRANDA\n",
      "Marcus Aurelio Silva Pereira ZAS GSO - UHE-MIRANDA\n"
     ]
    },
    {
     "name": "stdout",
     "output_type": "stream",
     "text": [
      "Marcus Aurelio Silva Pereira Ponto de encontro GSO - UHE-MIRANDA\n",
      "Rafael Silva De Almeida Rota de fuga GSO - UHE-MIRANDA\n",
      "Rafael Silva De Almeida ZSS GSO - UHE-MIRANDA\n",
      "Rafael Silva De Almeida Alerta sonoro GSO - UHE-MIRANDA\n",
      "Rafael Silva De Almeida ZAS GSO - UHE-MIRANDA\n",
      "Rafael Silva De Almeida Ponto de encontro GSO - UHE-MIRANDA\n",
      "Victor Martins Rota de fuga GSO - UHE-MIRANDA\n",
      "Victor Martins ZSS GSO - UHE-MIRANDA\n",
      "Victor Martins Alerta sonoro GSO - UHE-MIRANDA\n",
      "Victor Martins ZAS GSO - UHE-MIRANDA\n",
      "Victor Martins Ponto de encontro GSO - UHE-MIRANDA\n",
      "Evandro Ferreira Rota de fuga GSO - UHE-MIRANDA\n",
      "Evandro Ferreira ZSS GSO - UHE-MIRANDA\n",
      "Evandro Ferreira Alerta sonoro GSO - UHE-MIRANDA\n",
      "Evandro Ferreira ZAS GSO - UHE-MIRANDA\n",
      "Evandro Ferreira Ponto de encontro GSO - UHE-MIRANDA\n",
      "Graciele Woiciekoski Rota de fuga GSO - UHE-MIRANDA\n",
      "Graciele Woiciekoski ZSS GSO - UHE-MIRANDA\n",
      "Graciele Woiciekoski Alerta sonoro GSO - UHE-MIRANDA\n",
      "Graciele Woiciekoski ZAS GSO - UHE-MIRANDA\n",
      "Graciele Woiciekoski Ponto de encontro GSO - UHE-MIRANDA\n",
      "Karla Zorzam Rota de fuga GSO - UHE-MIRANDA\n",
      "Karla Zorzam ZSS GSO - UHE-MIRANDA\n",
      "Karla Zorzam Alerta sonoro GSO - UHE-MIRANDA\n",
      "Karla Zorzam ZAS GSO - UHE-MIRANDA\n",
      "Karla Zorzam Ponto de encontro GSO - UHE-MIRANDA\n",
      "Manual PAEB Rota de fuga GSO - UHE-MIRANDA\n",
      "Manual PAEB ZSS GSO - UHE-MIRANDA\n",
      "Manual PAEB Alerta sonoro GSO - UHE-MIRANDA\n",
      "Manual PAEB ZAS GSO - UHE-MIRANDA\n",
      "Manual PAEB Ponto de encontro GSO - UHE-MIRANDA\n",
      "Giovana Garlet Rota de fuga GSO - UHE-MIRANDA\n",
      "Giovana Garlet ZSS GSO - UHE-MIRANDA\n",
      "Giovana Garlet Alerta sonoro GSO - UHE-MIRANDA\n",
      "Giovana Garlet ZAS GSO - UHE-MIRANDA\n",
      "Giovana Garlet Ponto de encontro GSO - UHE-MIRANDA\n",
      "Gustavo Oliveira Rota de fuga GSO - UHE-MIRANDA\n",
      "Gustavo Oliveira ZSS GSO - UHE-MIRANDA\n",
      "Gustavo Oliveira Alerta sonoro GSO - UHE-MIRANDA\n",
      "Gustavo Oliveira ZAS GSO - UHE-MIRANDA\n",
      "Gustavo Oliveira Ponto de encontro GSO - UHE-MIRANDA\n",
      "Jose Vicente Miranda Rescigno Rota de fuga GSO - UHE-MIRANDA\n",
      "Jose Vicente Miranda Rescigno ZSS GSO - UHE-MIRANDA\n",
      "Jose Vicente Miranda Rescigno Alerta sonoro GSO - UHE-MIRANDA\n",
      "Jose Vicente Miranda Rescigno ZAS GSO - UHE-MIRANDA\n",
      "Jose Vicente Miranda Rescigno Ponto de encontro GSO - UHE-MIRANDA\n",
      "Rafael Sanzio Gomes Borges Rota de fuga GSO - UHE-CANA BRAVA\n",
      "Rafael Sanzio Gomes Borges Alerta sonoro GSO - UHE-CANA BRAVA\n",
      "Rafael Sanzio Gomes Borges ZAS GSO - UHE-CANA BRAVA\n",
      "Rafael Sanzio Gomes Borges ZSS GSO - UHE-CANA BRAVA\n",
      "Rafael Sanzio Gomes Borges Ponto de encontro GSO - UHE-CANA BRAVA\n",
      "Giulia Platt Maffezzolli Rota de fuga GSO - UHE-CANA BRAVA\n",
      "Giulia Platt Maffezzolli Alerta sonoro GSO - UHE-CANA BRAVA\n",
      "Giulia Platt Maffezzolli ZAS GSO - UHE-CANA BRAVA\n",
      "Giulia Platt Maffezzolli ZSS GSO - UHE-CANA BRAVA\n",
      "Giulia Platt Maffezzolli Ponto de encontro GSO - UHE-CANA BRAVA\n",
      "Cid Ionceck Rota de fuga GSO - UHE-CANA BRAVA\n",
      "Cid Ionceck Alerta sonoro GSO - UHE-CANA BRAVA\n",
      "Cid Ionceck ZAS GSO - UHE-CANA BRAVA\n",
      "Cid Ionceck ZSS GSO - UHE-CANA BRAVA\n",
      "Cid Ionceck Ponto de encontro GSO - UHE-CANA BRAVA\n",
      "Leone Genz Rota de fuga GSO - UHE-CANA BRAVA\n",
      "Leone Genz Alerta sonoro GSO - UHE-CANA BRAVA\n",
      "Leone Genz ZAS GSO - UHE-CANA BRAVA\n",
      "Leone Genz ZSS GSO - UHE-CANA BRAVA\n",
      "Leone Genz Ponto de encontro GSO - UHE-CANA BRAVA\n",
      "Olavo lajus Rota de fuga GSO - UHE-CANA BRAVA\n",
      "Olavo lajus Alerta sonoro GSO - UHE-CANA BRAVA\n",
      "Olavo lajus ZAS GSO - UHE-CANA BRAVA\n",
      "Olavo lajus ZSS GSO - UHE-CANA BRAVA\n",
      "Olavo lajus Ponto de encontro GSO - UHE-CANA BRAVA\n",
      "Rafael Silva De Almeida Rota de fuga GSO - UHE-CANA BRAVA\n",
      "Rafael Silva De Almeida Alerta sonoro GSO - UHE-CANA BRAVA\n",
      "Rafael Silva De Almeida ZAS GSO - UHE-CANA BRAVA\n",
      "Rafael Silva De Almeida ZSS GSO - UHE-CANA BRAVA\n",
      "Rafael Silva De Almeida Ponto de encontro GSO - UHE-CANA BRAVA\n",
      "Ana Caroline Gomes da Silva Rota de fuga GSO - UHE-CANA BRAVA\n",
      "Ana Caroline Gomes da Silva Alerta sonoro GSO - UHE-CANA BRAVA\n",
      "Ana Caroline Gomes da Silva ZAS GSO - UHE-CANA BRAVA\n",
      "Ana Caroline Gomes da Silva ZSS GSO - UHE-CANA BRAVA\n",
      "Ana Caroline Gomes da Silva Ponto de encontro GSO - UHE-CANA BRAVA\n",
      "Karla Zorzam Rota de fuga GSO - UHE-CANA BRAVA\n",
      "Karla Zorzam Alerta sonoro GSO - UHE-CANA BRAVA\n",
      "Karla Zorzam ZAS GSO - UHE-CANA BRAVA\n",
      "Karla Zorzam ZSS GSO - UHE-CANA BRAVA\n",
      "Karla Zorzam Ponto de encontro GSO - UHE-CANA BRAVA\n",
      "roque sanchez Rota de fuga GSO - UHE-CANA BRAVA\n",
      "roque sanchez Alerta sonoro GSO - UHE-CANA BRAVA\n",
      "roque sanchez ZAS GSO - UHE-CANA BRAVA\n",
      "roque sanchez ZSS GSO - UHE-CANA BRAVA\n",
      "roque sanchez Ponto de encontro GSO - UHE-CANA BRAVA\n",
      "Giovana Garlet Rota de fuga GSO - UHE-CANA BRAVA\n",
      "Giovana Garlet Alerta sonoro GSO - UHE-CANA BRAVA\n",
      "Giovana Garlet ZAS GSO - UHE-CANA BRAVA\n",
      "Giovana Garlet ZSS GSO - UHE-CANA BRAVA\n",
      "Giovana Garlet Ponto de encontro GSO - UHE-CANA BRAVA\n",
      "Agente de Defesa Civil Rota de fuga GSO - UHE-CANA BRAVA\n",
      "Agente de Defesa Civil Alerta sonoro GSO - UHE-CANA BRAVA\n",
      "Agente de Defesa Civil ZAS GSO - UHE-CANA BRAVA\n",
      "Agente de Defesa Civil ZSS GSO - UHE-CANA BRAVA\n",
      "Agente de Defesa Civil Ponto de encontro GSO - UHE-CANA BRAVA\n",
      "Allan Keller Rota de fuga GSO - UHE-CANA BRAVA\n",
      "Allan Keller Alerta sonoro GSO - UHE-CANA BRAVA\n",
      "Allan Keller ZAS GSO - UHE-CANA BRAVA\n",
      "Allan Keller ZSS GSO - UHE-CANA BRAVA\n",
      "Allan Keller Ponto de encontro GSO - UHE-CANA BRAVA\n",
      "Winkelmann da Silva Santos Rota de fuga GSO - UHE-CANA BRAVA\n",
      "Winkelmann da Silva Santos Alerta sonoro GSO - UHE-CANA BRAVA\n",
      "Winkelmann da Silva Santos ZAS GSO - UHE-CANA BRAVA\n",
      "Winkelmann da Silva Santos ZSS GSO - UHE-CANA BRAVA\n",
      "Winkelmann da Silva Santos Ponto de encontro GSO - UHE-CANA BRAVA\n",
      "Karine Denize Posser Rota de fuga GSO - UHE-CANA BRAVA\n",
      "Karine Denize Posser Alerta sonoro GSO - UHE-CANA BRAVA\n",
      "Karine Denize Posser ZAS GSO - UHE-CANA BRAVA\n",
      "Karine Denize Posser ZSS GSO - UHE-CANA BRAVA\n",
      "Karine Denize Posser Ponto de encontro GSO - UHE-CANA BRAVA\n",
      "Lucas Mateus Fontenele de Oliveira Rota de fuga GSO - UHE-CANA BRAVA\n",
      "Lucas Mateus Fontenele de Oliveira Alerta sonoro GSO - UHE-CANA BRAVA\n",
      "Lucas Mateus Fontenele de Oliveira ZAS GSO - UHE-CANA BRAVA\n",
      "Lucas Mateus Fontenele de Oliveira ZSS GSO - UHE-CANA BRAVA\n",
      "Lucas Mateus Fontenele de Oliveira Ponto de encontro GSO - UHE-CANA BRAVA\n",
      "Johnny Rafael Lang Rota de fuga GSO - UHE-CANA BRAVA\n",
      "Johnny Rafael Lang Alerta sonoro GSO - UHE-CANA BRAVA\n",
      "Johnny Rafael Lang ZAS GSO - UHE-CANA BRAVA\n",
      "Johnny Rafael Lang ZSS GSO - UHE-CANA BRAVA\n",
      "Johnny Rafael Lang Ponto de encontro GSO - UHE-CANA BRAVA\n",
      "Manual PAEB Rota de fuga GSO - UHE-CANA BRAVA\n",
      "Manual PAEB Alerta sonoro GSO - UHE-CANA BRAVA\n",
      "Manual PAEB ZAS GSO - UHE-CANA BRAVA\n",
      "Manual PAEB ZSS GSO - UHE-CANA BRAVA\n",
      "Manual PAEB Ponto de encontro GSO - UHE-CANA BRAVA\n",
      "Matias Ribeiro Cabral Junior Rota de fuga GSO - UHE-CANA BRAVA\n",
      "Matias Ribeiro Cabral Junior Alerta sonoro GSO - UHE-CANA BRAVA\n",
      "Matias Ribeiro Cabral Junior ZAS GSO - UHE-CANA BRAVA\n",
      "Matias Ribeiro Cabral Junior ZSS GSO - UHE-CANA BRAVA\n",
      "Matias Ribeiro Cabral Junior Ponto de encontro GSO - UHE-CANA BRAVA\n",
      "Neuri Gomes de Araújo Rota de fuga GSO - UHE-CANA BRAVA\n",
      "Neuri Gomes de Araújo Alerta sonoro GSO - UHE-CANA BRAVA\n",
      "Neuri Gomes de Araújo ZAS GSO - UHE-CANA BRAVA\n",
      "Neuri Gomes de Araújo ZSS GSO - UHE-CANA BRAVA\n",
      "Neuri Gomes de Araújo Ponto de encontro GSO - UHE-CANA BRAVA\n",
      "Evandro Ferreira Rota de fuga GSO - UHE-CANA BRAVA\n",
      "Evandro Ferreira Alerta sonoro GSO - UHE-CANA BRAVA\n",
      "Evandro Ferreira ZAS GSO - UHE-CANA BRAVA\n",
      "Evandro Ferreira ZSS GSO - UHE-CANA BRAVA\n",
      "Evandro Ferreira Ponto de encontro GSO - UHE-CANA BRAVA\n",
      "Victor Martins Rota de fuga GSO - UHE-CANA BRAVA\n",
      "Victor Martins Alerta sonoro GSO - UHE-CANA BRAVA\n",
      "Victor Martins ZAS GSO - UHE-CANA BRAVA\n",
      "Victor Martins ZSS GSO - UHE-CANA BRAVA\n",
      "Victor Martins Ponto de encontro GSO - UHE-CANA BRAVA\n",
      "Nilson Berticelli Rota de fuga GSO - UHE-CANA BRAVA\n",
      "Nilson Berticelli Alerta sonoro GSO - UHE-CANA BRAVA\n",
      "Nilson Berticelli ZAS GSO - UHE-CANA BRAVA\n",
      "Nilson Berticelli ZSS GSO - UHE-CANA BRAVA\n",
      "Nilson Berticelli Ponto de encontro GSO - UHE-CANA BRAVA\n",
      "João Guilherme Stumpf Reis Rota de fuga GSO - UHE-CANA BRAVA\n",
      "João Guilherme Stumpf Reis Alerta sonoro GSO - UHE-CANA BRAVA\n",
      "João Guilherme Stumpf Reis ZAS GSO - UHE-CANA BRAVA\n",
      "João Guilherme Stumpf Reis ZSS GSO - UHE-CANA BRAVA\n",
      "João Guilherme Stumpf Reis Ponto de encontro GSO - UHE-CANA BRAVA\n",
      "Gustavo Oliveira Rota de fuga GSO - UHE-CANA BRAVA\n",
      "Gustavo Oliveira Alerta sonoro GSO - UHE-CANA BRAVA\n",
      "Gustavo Oliveira ZAS GSO - UHE-CANA BRAVA\n",
      "Gustavo Oliveira ZSS GSO - UHE-CANA BRAVA\n",
      "Gustavo Oliveira Ponto de encontro GSO - UHE-CANA BRAVA\n",
      "Jose Vicente Miranda Rescigno Rota de fuga GSO - UHE-CANA BRAVA\n",
      "Jose Vicente Miranda Rescigno Alerta sonoro GSO - UHE-CANA BRAVA\n",
      "Jose Vicente Miranda Rescigno ZAS GSO - UHE-CANA BRAVA\n",
      "Jose Vicente Miranda Rescigno ZSS GSO - UHE-CANA BRAVA\n",
      "Jose Vicente Miranda Rescigno Ponto de encontro GSO - UHE-CANA BRAVA\n",
      "Igor Renan Braga Dos Santos Rota de fuga GSO - UHE-CANA BRAVA\n",
      "Igor Renan Braga Dos Santos Alerta sonoro GSO - UHE-CANA BRAVA\n"
     ]
    },
    {
     "name": "stdout",
     "output_type": "stream",
     "text": [
      "Igor Renan Braga Dos Santos ZAS GSO - UHE-CANA BRAVA\n",
      "Igor Renan Braga Dos Santos ZSS GSO - UHE-CANA BRAVA\n",
      "Igor Renan Braga Dos Santos Ponto de encontro GSO - UHE-CANA BRAVA\n",
      "Graciele Woiciekoski Rota de fuga GSO - UHE-CANA BRAVA\n",
      "Graciele Woiciekoski Alerta sonoro GSO - UHE-CANA BRAVA\n",
      "Graciele Woiciekoski ZAS GSO - UHE-CANA BRAVA\n",
      "Graciele Woiciekoski ZSS GSO - UHE-CANA BRAVA\n",
      "Graciele Woiciekoski Ponto de encontro GSO - UHE-CANA BRAVA\n",
      "Andréia Zanatta Rota de fuga GSO - UHE-CANA BRAVA\n",
      "Andréia Zanatta Alerta sonoro GSO - UHE-CANA BRAVA\n",
      "Andréia Zanatta ZAS GSO - UHE-CANA BRAVA\n",
      "Andréia Zanatta ZSS GSO - UHE-CANA BRAVA\n",
      "Andréia Zanatta Ponto de encontro GSO - UHE-CANA BRAVA\n",
      "Nilson Berticelli Ponto de encontro GSO - UHE-ITA\n",
      "Nilson Berticelli Rota de fuga GSO - UHE-ITA\n",
      "Nilson Berticelli ZAS GSO - UHE-ITA\n",
      "Nilson Berticelli ZSS GSO - UHE-ITA\n",
      "Nilson Berticelli Alerta sonoro GSO - UHE-ITA\n",
      "Rui Pinali Biavatti Ponto de encontro GSO - UHE-ITA\n",
      "Rui Pinali Biavatti Rota de fuga GSO - UHE-ITA\n",
      "Rui Pinali Biavatti ZAS GSO - UHE-ITA\n",
      "Rui Pinali Biavatti ZSS GSO - UHE-ITA\n",
      "Rui Pinali Biavatti Alerta sonoro GSO - UHE-ITA\n",
      "João Guilherme Stumpf Reis Ponto de encontro GSO - UHE-ITA\n",
      "João Guilherme Stumpf Reis Rota de fuga GSO - UHE-ITA\n",
      "João Guilherme Stumpf Reis ZAS GSO - UHE-ITA\n",
      "João Guilherme Stumpf Reis ZSS GSO - UHE-ITA\n",
      "João Guilherme Stumpf Reis Alerta sonoro GSO - UHE-ITA\n",
      "Igor Renan Braga Dos Santos Ponto de encontro GSO - UHE-ITA\n",
      "Igor Renan Braga Dos Santos Rota de fuga GSO - UHE-ITA\n",
      "Igor Renan Braga Dos Santos ZAS GSO - UHE-ITA\n",
      "Igor Renan Braga Dos Santos ZSS GSO - UHE-ITA\n",
      "Igor Renan Braga Dos Santos Alerta sonoro GSO - UHE-ITA\n",
      "Leone Genz Ponto de encontro GSO - UHE-ITA\n",
      "Leone Genz Rota de fuga GSO - UHE-ITA\n",
      "Leone Genz ZAS GSO - UHE-ITA\n",
      "Leone Genz ZSS GSO - UHE-ITA\n",
      "Leone Genz Alerta sonoro GSO - UHE-ITA\n",
      "Allan Keller Ponto de encontro GSO - UHE-ITA\n",
      "Allan Keller Rota de fuga GSO - UHE-ITA\n",
      "Allan Keller ZAS GSO - UHE-ITA\n",
      "Allan Keller ZSS GSO - UHE-ITA\n",
      "Allan Keller Alerta sonoro GSO - UHE-ITA\n",
      "Luciano Fossá Rota de fuga GSO - UHE-ITA\n",
      "Luciano Fossá ZAS GSO - UHE-ITA\n",
      "Luciano Fossá ZSS GSO - UHE-ITA\n",
      "Luciano Fossá Alerta sonoro GSO - UHE-ITA\n",
      "Adilson de Oliveira Ponto de encontro GSO - UHE-ITA\n",
      "Adilson de Oliveira Rota de fuga GSO - UHE-ITA\n",
      "Adilson de Oliveira ZAS GSO - UHE-ITA\n",
      "Adilson de Oliveira ZSS GSO - UHE-ITA\n",
      "Adilson de Oliveira Alerta sonoro GSO - UHE-ITA\n",
      "Usuário teste ENGIE Rota de fuga GSO - UHE-ITA\n",
      "Usuário teste ENGIE ZAS GSO - UHE-ITA\n",
      "Usuário teste ENGIE ZSS GSO - UHE-ITA\n",
      "Usuário teste ENGIE Alerta sonoro GSO - UHE-ITA\n",
      "Evandro Ferreira Ponto de encontro GSO - UHE-ITA\n",
      "Evandro Ferreira Rota de fuga GSO - UHE-ITA\n",
      "Evandro Ferreira ZAS GSO - UHE-ITA\n",
      "Evandro Ferreira ZSS GSO - UHE-ITA\n",
      "Evandro Ferreira Alerta sonoro GSO - UHE-ITA\n",
      "Victor Martins Ponto de encontro GSO - UHE-ITA\n",
      "Victor Martins Rota de fuga GSO - UHE-ITA\n",
      "Victor Martins ZAS GSO - UHE-ITA\n",
      "Victor Martins ZSS GSO - UHE-ITA\n",
      "Victor Martins Alerta sonoro GSO - UHE-ITA\n",
      "Graciele Woiciekoski Ponto de encontro GSO - UHE-ITA\n",
      "Graciele Woiciekoski Rota de fuga GSO - UHE-ITA\n",
      "Graciele Woiciekoski ZAS GSO - UHE-ITA\n",
      "Graciele Woiciekoski ZSS GSO - UHE-ITA\n",
      "Graciele Woiciekoski Alerta sonoro GSO - UHE-ITA\n",
      "Clademir Ongaratto Rota de fuga GSO - UHE-ITA\n",
      "Clademir Ongaratto ZAS GSO - UHE-ITA\n",
      "Clademir Ongaratto ZSS GSO - UHE-ITA\n",
      "Clademir Ongaratto Alerta sonoro GSO - UHE-ITA\n",
      "Cid Ionceck Ponto de encontro GSO - UHE-ITA\n",
      "Cid Ionceck Rota de fuga GSO - UHE-ITA\n",
      "Cid Ionceck ZAS GSO - UHE-ITA\n",
      "Cid Ionceck ZSS GSO - UHE-ITA\n",
      "Cid Ionceck Alerta sonoro GSO - UHE-ITA\n",
      "Valter Luciano Huning Rota de fuga GSO - UHE-ITA\n",
      "Valter Luciano Huning ZAS GSO - UHE-ITA\n",
      "Valter Luciano Huning ZSS GSO - UHE-ITA\n",
      "Valter Luciano Huning Alerta sonoro GSO - UHE-ITA\n",
      "Agente de Defesa Civil Ponto de encontro GSO - UHE-ITA\n",
      "Agente de Defesa Civil Rota de fuga GSO - UHE-ITA\n",
      "Agente de Defesa Civil Alerta sonoro GSO - UHE-ITA\n",
      "Karla Zorzam Ponto de encontro GSO - UHE-ITA\n",
      "Karla Zorzam Rota de fuga GSO - UHE-ITA\n",
      "Karla Zorzam ZAS GSO - UHE-ITA\n",
      "Karla Zorzam ZSS GSO - UHE-ITA\n",
      "Karla Zorzam Alerta sonoro GSO - UHE-ITA\n",
      "Claudio Giovani Silva Martins Rota de fuga GSO - UHE-ITA\n",
      "Claudio Giovani Silva Martins ZAS GSO - UHE-ITA\n",
      "Claudio Giovani Silva Martins ZSS GSO - UHE-ITA\n",
      "Claudio Giovani Silva Martins Alerta sonoro GSO - UHE-ITA\n",
      "Manual PAEB Ponto de encontro GSO - UHE-ITA\n",
      "Manual PAEB Rota de fuga GSO - UHE-ITA\n",
      "Manual PAEB ZAS GSO - UHE-ITA\n",
      "Manual PAEB ZSS GSO - UHE-ITA\n",
      "Manual PAEB Alerta sonoro GSO - UHE-ITA\n",
      "Laís Caroline Centenaro ZAS GSO - UHE-ITA\n",
      "Laís Caroline Centenaro Alerta sonoro GSO - UHE-ITA\n",
      "Pedro Flávio Dias Portela Oliveira Ponto de encontro GSO - UHE-ITA\n",
      "Pedro Flávio Dias Portela Oliveira Rota de fuga GSO - UHE-ITA\n",
      "Pedro Flávio Dias Portela Oliveira ZAS GSO - UHE-ITA\n",
      "Pedro Flávio Dias Portela Oliveira ZSS GSO - UHE-ITA\n",
      "Pedro Flávio Dias Portela Oliveira Alerta sonoro GSO - UHE-ITA\n",
      "Guilherme Eduardo D'Alascio Ponto de encontro GSO - UHE-ITA\n",
      "Guilherme Eduardo D'Alascio Rota de fuga GSO - UHE-ITA\n",
      "Guilherme Eduardo D'Alascio ZAS GSO - UHE-ITA\n",
      "Guilherme Eduardo D'Alascio ZSS GSO - UHE-ITA\n",
      "Guilherme Eduardo D'Alascio Alerta sonoro GSO - UHE-ITA\n",
      "Renato Vailon Rota de fuga GSO - UHE-ITA\n",
      "Renato Vailon ZAS GSO - UHE-ITA\n",
      "Renato Vailon ZSS GSO - UHE-ITA\n",
      "Renato Vailon Alerta sonoro GSO - UHE-ITA\n",
      "Erivelton de Oliveira Rota de fuga GSO - UHE-ITA\n",
      "Erivelton de Oliveira ZAS GSO - UHE-ITA\n",
      "Erivelton de Oliveira ZSS GSO - UHE-ITA\n",
      "Erivelton de Oliveira Alerta sonoro GSO - UHE-ITA\n",
      "Giovana Garlet Ponto de encontro GSO - UHE-ITA\n",
      "Giovana Garlet Rota de fuga GSO - UHE-ITA\n",
      "Giovana Garlet ZAS GSO - UHE-ITA\n",
      "Giovana Garlet ZSS GSO - UHE-ITA\n",
      "Giovana Garlet Alerta sonoro GSO - UHE-ITA\n",
      "Mauro Antonio Serraglio Rota de fuga GSO - UHE-ITA\n",
      "Mauro Antonio Serraglio ZAS GSO - UHE-ITA\n",
      "Mauro Antonio Serraglio ZSS GSO - UHE-ITA\n",
      "Mauro Antonio Serraglio Alerta sonoro GSO - UHE-ITA\n",
      "Luís Paulo Lara Rota de fuga GSO - UHE-ITA\n",
      "Luís Paulo Lara ZAS GSO - UHE-ITA\n",
      "Luís Paulo Lara ZSS GSO - UHE-ITA\n",
      "Luís Paulo Lara Alerta sonoro GSO - UHE-ITA\n",
      "Jose Vicente Miranda Rescigno Ponto de encontro GSO - UHE-ITA\n",
      "Jose Vicente Miranda Rescigno Rota de fuga GSO - UHE-ITA\n",
      "Jose Vicente Miranda Rescigno ZAS GSO - UHE-ITA\n",
      "Jose Vicente Miranda Rescigno ZSS GSO - UHE-ITA\n",
      "Jose Vicente Miranda Rescigno Alerta sonoro GSO - UHE-ITA\n",
      "Clademir Mandelli Ponto de encontro GSO - UHE-ITA\n",
      "Clademir Mandelli Rota de fuga GSO - UHE-ITA\n",
      "Clademir Mandelli ZAS GSO - UHE-ITA\n",
      "Clademir Mandelli ZSS GSO - UHE-ITA\n",
      "Clademir Mandelli Alerta sonoro GSO - UHE-ITA\n",
      "Olavo lajus Ponto de encontro GSO - UHE-ITA\n",
      "Olavo lajus Rota de fuga GSO - UHE-ITA\n",
      "Olavo lajus ZAS GSO - UHE-ITA\n",
      "Olavo lajus ZSS GSO - UHE-ITA\n",
      "Olavo lajus Alerta sonoro GSO - UHE-ITA\n",
      "roque sanchez Ponto de encontro GSO - UHE-ITA\n",
      "roque sanchez Rota de fuga GSO - UHE-ITA\n",
      "roque sanchez ZAS GSO - UHE-ITA\n",
      "roque sanchez ZSS GSO - UHE-ITA\n",
      "roque sanchez Alerta sonoro GSO - UHE-ITA\n",
      "Karine Denize Posser Ponto de encontro GSO - UHE-ITA\n",
      "Karine Denize Posser Rota de fuga GSO - UHE-ITA\n",
      "Karine Denize Posser ZAS GSO - UHE-ITA\n",
      "Karine Denize Posser ZSS GSO - UHE-ITA\n",
      "Karine Denize Posser Alerta sonoro GSO - UHE-ITA\n",
      "Gustavo Oliveira Ponto de encontro GSO - UHE-ITA\n",
      "Gustavo Oliveira Rota de fuga GSO - UHE-ITA\n",
      "Gustavo Oliveira ZAS GSO - UHE-ITA\n",
      "Gustavo Oliveira ZSS GSO - UHE-ITA\n",
      "Gustavo Oliveira Alerta sonoro GSO - UHE-ITA\n",
      "Anderson Fernando Bagatini Rota de fuga GSO - UHE-ITA\n",
      "Anderson Fernando Bagatini ZAS GSO - UHE-ITA\n",
      "Anderson Fernando Bagatini ZSS GSO - UHE-ITA\n",
      "Anderson Fernando Bagatini Alerta sonoro GSO - UHE-ITA\n",
      "Leandro Schneider Rota de fuga GSO - UHE-ITA\n",
      "Leandro Schneider ZAS GSO - UHE-ITA\n",
      "Leandro Schneider ZSS GSO - UHE-ITA\n",
      "Leandro Schneider Alerta sonoro GSO - UHE-ITA\n",
      "Giulia Platt Maffezzolli Ponto de encontro GSO - UHE-ITA\n",
      "Giulia Platt Maffezzolli Rota de fuga GSO - UHE-ITA\n",
      "Giulia Platt Maffezzolli ZAS GSO - UHE-ITA\n",
      "Giulia Platt Maffezzolli ZSS GSO - UHE-ITA\n",
      "Giulia Platt Maffezzolli Alerta sonoro GSO - UHE-ITA\n",
      "Andréia Zanatta Ponto de encontro GSO - UHE-ITA\n",
      "Andréia Zanatta Rota de fuga GSO - UHE-ITA\n",
      "Andréia Zanatta ZAS GSO - UHE-ITA\n",
      "Andréia Zanatta ZSS GSO - UHE-ITA\n",
      "Andréia Zanatta Alerta sonoro GSO - UHE-ITA\n",
      "Rafael Silva De Almeida Ponto de encontro GSO - UHE-ITA\n",
      "Rafael Silva De Almeida Rota de fuga GSO - UHE-ITA\n",
      "Rafael Silva De Almeida ZAS GSO - UHE-ITA\n",
      "Rafael Silva De Almeida ZSS GSO - UHE-ITA\n",
      "Rafael Silva De Almeida Alerta sonoro GSO - UHE-ITA\n",
      "Graciele Woiciekoski Rota de fuga GSO - UHE-JAGUARA\n",
      "Graciele Woiciekoski Ponto de encontro GSO - UHE-JAGUARA\n",
      "Graciele Woiciekoski Alerta sonoro GSO - UHE-JAGUARA\n",
      "Graciele Woiciekoski ZSS GSO - UHE-JAGUARA\n",
      "Graciele Woiciekoski ZAS GSO - UHE-JAGUARA\n",
      "Igor Renan Braga Dos Santos Rota de fuga GSO - UHE-JAGUARA\n",
      "Igor Renan Braga Dos Santos Ponto de encontro GSO - UHE-JAGUARA\n",
      "Igor Renan Braga Dos Santos Alerta sonoro GSO - UHE-JAGUARA\n"
     ]
    },
    {
     "name": "stdout",
     "output_type": "stream",
     "text": [
      "Igor Renan Braga Dos Santos ZSS GSO - UHE-JAGUARA\n",
      "Igor Renan Braga Dos Santos ZAS GSO - UHE-JAGUARA\n",
      "Giulia Platt Maffezzolli Rota de fuga GSO - UHE-JAGUARA\n",
      "Giulia Platt Maffezzolli Ponto de encontro GSO - UHE-JAGUARA\n",
      "Giulia Platt Maffezzolli Alerta sonoro GSO - UHE-JAGUARA\n",
      "Giulia Platt Maffezzolli ZSS GSO - UHE-JAGUARA\n",
      "Giulia Platt Maffezzolli ZAS GSO - UHE-JAGUARA\n",
      "roque sanchez Rota de fuga GSO - UHE-JAGUARA\n",
      "roque sanchez Ponto de encontro GSO - UHE-JAGUARA\n",
      "roque sanchez Alerta sonoro GSO - UHE-JAGUARA\n",
      "roque sanchez ZSS GSO - UHE-JAGUARA\n",
      "roque sanchez ZAS GSO - UHE-JAGUARA\n",
      "Osvaldo Rodrigues Pereira Ponto de encontro GSO - UHE-JAGUARA\n",
      "Osvaldo Rodrigues Pereira Alerta sonoro GSO - UHE-JAGUARA\n",
      "Osvaldo Rodrigues Pereira ZSS GSO - UHE-JAGUARA\n",
      "Osvaldo Rodrigues Pereira ZAS GSO - UHE-JAGUARA\n",
      "Nilson Berticelli Rota de fuga GSO - UHE-JAGUARA\n",
      "Nilson Berticelli Ponto de encontro GSO - UHE-JAGUARA\n",
      "Nilson Berticelli Alerta sonoro GSO - UHE-JAGUARA\n",
      "Nilson Berticelli ZSS GSO - UHE-JAGUARA\n",
      "Nilson Berticelli ZAS GSO - UHE-JAGUARA\n",
      "Manual PAEB Rota de fuga GSO - UHE-JAGUARA\n",
      "Manual PAEB Ponto de encontro GSO - UHE-JAGUARA\n",
      "Manual PAEB Alerta sonoro GSO - UHE-JAGUARA\n",
      "Manual PAEB ZSS GSO - UHE-JAGUARA\n",
      "Manual PAEB ZAS GSO - UHE-JAGUARA\n",
      "Victor Martins Rota de fuga GSO - UHE-JAGUARA\n",
      "Victor Martins Ponto de encontro GSO - UHE-JAGUARA\n",
      "Victor Martins Alerta sonoro GSO - UHE-JAGUARA\n",
      "Victor Martins ZSS GSO - UHE-JAGUARA\n",
      "Victor Martins ZAS GSO - UHE-JAGUARA\n",
      "Marcelo Teixeira Caixeta Ponto de encontro GSO - UHE-JAGUARA\n",
      "Marcelo Teixeira Caixeta Alerta sonoro GSO - UHE-JAGUARA\n",
      "Marcelo Teixeira Caixeta ZSS GSO - UHE-JAGUARA\n",
      "Marcelo Teixeira Caixeta ZAS GSO - UHE-JAGUARA\n",
      "Leone Genz Rota de fuga GSO - UHE-JAGUARA\n",
      "Leone Genz Ponto de encontro GSO - UHE-JAGUARA\n",
      "Leone Genz Alerta sonoro GSO - UHE-JAGUARA\n",
      "Leone Genz ZSS GSO - UHE-JAGUARA\n",
      "Leone Genz ZAS GSO - UHE-JAGUARA\n",
      "Gustavo Oliveira Rota de fuga GSO - UHE-JAGUARA\n",
      "Gustavo Oliveira Ponto de encontro GSO - UHE-JAGUARA\n",
      "Gustavo Oliveira Alerta sonoro GSO - UHE-JAGUARA\n",
      "Gustavo Oliveira ZSS GSO - UHE-JAGUARA\n",
      "Gustavo Oliveira ZAS GSO - UHE-JAGUARA\n",
      "Andréia Zanatta Rota de fuga GSO - UHE-JAGUARA\n",
      "Andréia Zanatta Ponto de encontro GSO - UHE-JAGUARA\n",
      "Andréia Zanatta Alerta sonoro GSO - UHE-JAGUARA\n",
      "Andréia Zanatta ZSS GSO - UHE-JAGUARA\n",
      "Andréia Zanatta ZAS GSO - UHE-JAGUARA\n",
      "Allan Keller Rota de fuga GSO - UHE-JAGUARA\n",
      "Allan Keller Ponto de encontro GSO - UHE-JAGUARA\n",
      "Allan Keller Alerta sonoro GSO - UHE-JAGUARA\n",
      "Allan Keller ZSS GSO - UHE-JAGUARA\n",
      "Allan Keller ZAS GSO - UHE-JAGUARA\n",
      "Karine Denize Posser Rota de fuga GSO - UHE-JAGUARA\n",
      "Karine Denize Posser Ponto de encontro GSO - UHE-JAGUARA\n",
      "Karine Denize Posser Alerta sonoro GSO - UHE-JAGUARA\n",
      "Karine Denize Posser ZSS GSO - UHE-JAGUARA\n",
      "Karine Denize Posser ZAS GSO - UHE-JAGUARA\n",
      "Karla Zorzam Rota de fuga GSO - UHE-JAGUARA\n",
      "Karla Zorzam Ponto de encontro GSO - UHE-JAGUARA\n",
      "Karla Zorzam Alerta sonoro GSO - UHE-JAGUARA\n",
      "Karla Zorzam ZSS GSO - UHE-JAGUARA\n",
      "Karla Zorzam ZAS GSO - UHE-JAGUARA\n",
      "Rafael Silva De Almeida Rota de fuga GSO - UHE-JAGUARA\n",
      "Rafael Silva De Almeida Ponto de encontro GSO - UHE-JAGUARA\n",
      "Rafael Silva De Almeida Alerta sonoro GSO - UHE-JAGUARA\n",
      "Rafael Silva De Almeida ZSS GSO - UHE-JAGUARA\n",
      "Rafael Silva De Almeida ZAS GSO - UHE-JAGUARA\n",
      "Giovana Garlet Rota de fuga GSO - UHE-JAGUARA\n",
      "Giovana Garlet Ponto de encontro GSO - UHE-JAGUARA\n",
      "Giovana Garlet Alerta sonoro GSO - UHE-JAGUARA\n",
      "Giovana Garlet ZSS GSO - UHE-JAGUARA\n",
      "Giovana Garlet ZAS GSO - UHE-JAGUARA\n",
      "Agente de Defesa Civil Rota de fuga GSO - UHE-JAGUARA\n",
      "Agente de Defesa Civil Ponto de encontro GSO - UHE-JAGUARA\n",
      "Agente de Defesa Civil Alerta sonoro GSO - UHE-JAGUARA\n",
      "Agente de Defesa Civil ZSS GSO - UHE-JAGUARA\n",
      "Agente de Defesa Civil ZAS GSO - UHE-JAGUARA\n",
      "Evandro Ferreira Rota de fuga GSO - UHE-JAGUARA\n",
      "Evandro Ferreira Ponto de encontro GSO - UHE-JAGUARA\n",
      "Evandro Ferreira Alerta sonoro GSO - UHE-JAGUARA\n",
      "Evandro Ferreira ZSS GSO - UHE-JAGUARA\n",
      "Evandro Ferreira ZAS GSO - UHE-JAGUARA\n",
      "Cid Ionceck Rota de fuga GSO - UHE-JAGUARA\n",
      "Cid Ionceck Ponto de encontro GSO - UHE-JAGUARA\n",
      "Cid Ionceck Alerta sonoro GSO - UHE-JAGUARA\n",
      "Cid Ionceck ZSS GSO - UHE-JAGUARA\n",
      "Cid Ionceck ZAS GSO - UHE-JAGUARA\n",
      "Olavo lajus Rota de fuga GSO - UHE-JAGUARA\n",
      "Olavo lajus Ponto de encontro GSO - UHE-JAGUARA\n",
      "Olavo lajus Alerta sonoro GSO - UHE-JAGUARA\n",
      "Olavo lajus ZSS GSO - UHE-JAGUARA\n",
      "Olavo lajus ZAS GSO - UHE-JAGUARA\n",
      "Jose Vicente Miranda Rescigno Rota de fuga GSO - UHE-JAGUARA\n",
      "Jose Vicente Miranda Rescigno Ponto de encontro GSO - UHE-JAGUARA\n",
      "Jose Vicente Miranda Rescigno Alerta sonoro GSO - UHE-JAGUARA\n",
      "Jose Vicente Miranda Rescigno ZSS GSO - UHE-JAGUARA\n",
      "Jose Vicente Miranda Rescigno ZAS GSO - UHE-JAGUARA\n",
      "João Guilherme Stumpf Reis Rota de fuga GSO - UHE-JAGUARA\n",
      "João Guilherme Stumpf Reis Ponto de encontro GSO - UHE-JAGUARA\n",
      "João Guilherme Stumpf Reis Alerta sonoro GSO - UHE-JAGUARA\n",
      "João Guilherme Stumpf Reis ZSS GSO - UHE-JAGUARA\n",
      "João Guilherme Stumpf Reis ZAS GSO - UHE-JAGUARA\n"
     ]
    }
   ],
   "source": [
    "teste=[]\n",
    "users=[]\n",
    "for a in rp_show_mobile:\n",
    "    if a.panel.name not in teste:\n",
    "        teste.append(a.panel.name)\n",
    "    if not a.user in users:\n",
    "        users.append(a.user)\n",
    "    else:\n",
    "        print(a.user.get_full_name(),a.panel.name,a.panel.company.name)"
   ]
  },
  {
   "cell_type": "code",
   "execution_count": 19,
   "id": "eabb0c75",
   "metadata": {},
   "outputs": [
    {
     "data": {
      "text/plain": [
       "['Rota de fuga', 'ZAS', 'Alerta sonoro', 'ZSS', 'Ponto de encontro']"
      ]
     },
     "execution_count": 19,
     "metadata": {},
     "output_type": "execute_result"
    }
   ],
   "source": [
    "teste"
   ]
  },
  {
   "cell_type": "code",
   "execution_count": 25,
   "id": "5790cbb3",
   "metadata": {},
   "outputs": [
    {
     "data": {
      "text/plain": [
       "388"
      ]
     },
     "execution_count": 25,
     "metadata": {},
     "output_type": "execute_result"
    }
   ],
   "source": [
    "UserInCompany.objects.filter(company__name__startswith=\"GSO\").count()"
   ]
  },
  {
   "cell_type": "code",
   "execution_count": null,
   "id": "87181335",
   "metadata": {},
   "outputs": [],
   "source": []
  },
  {
   "cell_type": "code",
   "execution_count": 28,
   "id": "0c767790",
   "metadata": {},
   "outputs": [],
   "source": [
    "user=User.objects.get(username='engie')"
   ]
  },
  {
   "cell_type": "code",
   "execution_count": 6,
   "id": "4dd51139",
   "metadata": {},
   "outputs": [],
   "source": [
    "# result1 = RecordPanelShowList.objects.bulk_create(rp_show_list)\n",
    "# result2 = RecordPanelShowMobileMap.objects.bulk_create(rp_show_mobile) \n",
    "# result3 = RecordPanelShowWebMap.objects.bulk_create(rp_show_web)"
   ]
  },
  {
   "cell_type": "code",
   "execution_count": null,
   "id": "0f997230",
   "metadata": {},
   "outputs": [],
   "source": []
  },
  {
   "cell_type": "code",
   "execution_count": null,
   "id": "119844ae",
   "metadata": {},
   "outputs": [],
   "source": [
    "RecordPanelShowList._meta.fields"
   ]
  },
  {
   "cell_type": "code",
   "execution_count": null,
   "id": "b33d55a2",
   "metadata": {},
   "outputs": [],
   "source": [
    "RecordPanelShowMobileMap._meta.fields"
   ]
  },
  {
   "cell_type": "code",
   "execution_count": null,
   "id": "e89d0c46",
   "metadata": {},
   "outputs": [],
   "source": [
    "RecordPanelShowWebMap._meta.fields"
   ]
  },
  {
   "cell_type": "code",
   "execution_count": 13,
   "id": "cc1f491f",
   "metadata": {},
   "outputs": [
    {
     "data": {
      "text/plain": [
       "(<django.db.models.fields.UUIDField: uuid>,\n",
       " <django.db.models.fields.TextField: name>,\n",
       " <django.db.models.fields.CharField: panel_type>,\n",
       " <django.contrib.postgres.fields.jsonb.JSONField: conditions>,\n",
       " <django.db.models.fields.related.ForeignKey: company>,\n",
       " <django.contrib.postgres.fields.jsonb.JSONField: list_columns>,\n",
       " <django.contrib.postgres.fields.jsonb.JSONField: list_order_by>,\n",
       " <django.contrib.postgres.fields.jsonb.JSONField: kanban_columns>,\n",
       " <django.contrib.postgres.fields.jsonb.JSONField: kanban_group_by>,\n",
       " <django.db.models.fields.TextField: icon>,\n",
       " <django.db.models.fields.IntegerField: icon_size>,\n",
       " <django.db.models.fields.CharField: color>,\n",
       " <django.db.models.fields.DateTimeField: created_at>,\n",
       " <django.db.models.fields.related.ForeignKey: created_by>,\n",
       " <django.db.models.fields.related.ForeignKey: content_type>)"
      ]
     },
     "execution_count": 13,
     "metadata": {},
     "output_type": "execute_result"
    }
   ],
   "source": [
    "RecordPanel._meta.fields"
   ]
  },
  {
   "cell_type": "code",
   "execution_count": null,
   "id": "cbaf4248",
   "metadata": {},
   "outputs": [],
   "source": [
    "for a in Company.objects.all():\n",
    "    rps=RecordPanel.objects.filter(company=a)\n",
    "    if not rps.exists():\n",
    "        continue\n",
    "    print(a.name,[b.name for b in rps])"
   ]
  }
 ],
 "metadata": {
  "kernelspec": {
   "display_name": "Django Shell-Plus",
   "language": "python",
   "name": "django_extensions"
  },
  "language_info": {
   "codemirror_mode": {
    "name": "ipython",
    "version": 3
   },
   "file_extension": ".py",
   "mimetype": "text/x-python",
   "name": "python",
   "nbconvert_exporter": "python",
   "pygments_lexer": "ipython3",
   "version": "3.8.16"
  }
 },
 "nbformat": 4,
 "nbformat_minor": 5
}
