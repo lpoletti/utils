{
 "cells": [
  {
   "cell_type": "code",
   "execution_count": 1,
   "id": "49ea13f6",
   "metadata": {},
   "outputs": [
    {
     "name": "stdout",
     "output_type": "stream",
     "text": [
      "STAGE=CCR_PRODUCTION\r\n"
     ]
    }
   ],
   "source": [
    "!cat .env"
   ]
  },
  {
   "cell_type": "code",
   "execution_count": 2,
   "id": "101d1f95",
   "metadata": {},
   "outputs": [
    {
     "data": {
      "text/plain": [
       "<QuerySet [<Company: 3af64f25-59e8-446b-bb1e-963549090b0d: CCR - Rio Sp>, <Company: 385c3404-2c8b-4987-8015-9b93e044aa6d: CCR - AutoBAn>, <Company: be176150-b4da-4162-9eec-67f6db3f5612: CCR - RodoAnel>, <Company: 161ab539-eea0-4c7c-8e9f-99058261f850: CCR - SPVias>]>"
      ]
     },
     "execution_count": 2,
     "metadata": {},
     "output_type": "execute_result"
    }
   ],
   "source": [
    "Company.objects.all()"
   ]
  },
  {
   "cell_type": "code",
   "execution_count": 3,
   "id": "b559f436",
   "metadata": {
    "collapsed": true
   },
   "outputs": [
    {
     "data": {
      "text/plain": [
       "{'_state': <django.db.models.base.ModelState at 0x7f315e955e50>,\n",
       " 'password': '',\n",
       " 'last_login': None,\n",
       " 'is_superuser': False,\n",
       " 'username': 'Caio.Martins',\n",
       " 'first_name': 'Caio',\n",
       " 'last_name': 'Martins',\n",
       " 'email': 'caio.martins@grupoccr.com.br',\n",
       " 'is_staff': False,\n",
       " 'is_active': True,\n",
       " 'date_joined': datetime.datetime(2023, 7, 7, 18, 25, 59, 375935, tzinfo=<UTC>),\n",
       " 'uuid': UUID('712fe88a-792e-4462-96fc-e59de8738f95'),\n",
       " 'cpf': None,\n",
       " 'avatar': '',\n",
       " 'metadata': {'role': 'Analista'},\n",
       " 'configuration': {'send_email_notifications': True},\n",
       " 'jwt_secret': '13%0tcx!epfuolsvx8e7#vl29ax*n5e8$0_+!xo6n1jo!i3bj!',\n",
       " 'saml_idp': 'https://sts.windows.net/d233d58a-9973-43a7-af69-6763630548a0/',\n",
       " 'saml_nameid': 'caio.martins@grupoccr.com.br',\n",
       " 'company_group_id': UUID('47e2587c-f3c4-4103-88c6-f6334e13b91c'),\n",
       " 'supervisor_id': None,\n",
       " 'is_supervisor': False,\n",
       " 'is_internal': False,\n",
       " 'has_accepted_tos': False,\n",
       " 'responsible_id': None,\n",
       " 'birth_date': None,\n",
       " 'firm_name': None,\n",
       " 'phone': None,\n",
       " 'auth_error': None}"
      ]
     },
     "execution_count": 3,
     "metadata": {},
     "output_type": "execute_result"
    }
   ],
   "source": [
    "User.objects.filter(saml_nameid__isnull=False).order_by('username')[5].__dict__"
   ]
  },
  {
   "cell_type": "code",
   "execution_count": 5,
   "id": "7f0a42b2",
   "metadata": {},
   "outputs": [
    {
     "name": "stdout",
     "output_type": "stream",
     "text": [
      "adriano.junior \n",
      "aline.cunha \n",
      "ana.rachadel \n",
      "antonio.morandin \n",
      "caio.cirillo \n",
      "Caio.Martins \n",
      "carolina.foz \n",
      "DanielAndrade01 \n",
      "donelly.teixeira \n",
      "evertonpereira.capitani \n",
      "fabio.boton \n",
      "felipe.pires \n",
      "fernanda.pacheco \n",
      "gian.fakhouri \n",
      "giovane.aguado \n",
      "guilherme.amarante \n",
      "henrique.armarolli \n",
      "italo.santos \n",
      "jessica.moreira \n",
      "jhonnathan.souza \n",
      "juliana.maeda \n",
      "karina.akiko \n",
      "laylla.souza \n",
      "leandro.barzanelli \n",
      "leonardo.vsantos \n",
      "lucas.aragao \n",
      "luiza.medeiros \n",
      "luiz.vpereira \n",
      "maiara.viel \n",
      "marcia.leal \n",
      "mario.ferreira \n",
      "pedro.cicci \n",
      "raquel.bassam \n",
      "regiane.villa \n",
      "renata.caroline \n",
      "ruan.maciel \n",
      "sabrina.poubel \n",
      "tatiana.rodrigues \n",
      "valdir.rodrigo \n",
      "wilson.matiazi \n"
     ]
    }
   ],
   "source": [
    "for a in User.objects.filter(saml_nameid__isnull=False).order_by('username'):\n",
    "    if a.saml_nameid is not None:\n",
    "        a.password = ''\n",
    "        a.save()\n",
    "        print(a.username,a.password)"
   ]
  },
  {
   "cell_type": "code",
   "execution_count": 3,
   "id": "138ab56c",
   "metadata": {},
   "outputs": [],
   "source": [
    "for a in Reporting.objects.filter(point__isnull=True):\n",
    "    a.save()\n",
    "    print(a.km,a.road_name)"
   ]
  },
  {
   "cell_type": "code",
   "execution_count": 4,
   "id": "16f5da0c",
   "metadata": {},
   "outputs": [
    {
     "data": {
      "text/plain": [
       "<QuerySet []>"
      ]
     },
     "execution_count": 4,
     "metadata": {},
     "output_type": "execute_result"
    }
   ],
   "source": [
    "Reporting.objects.filter(point__isnull=True)"
   ]
  },
  {
   "cell_type": "code",
   "execution_count": 4,
   "id": "87e3d85c",
   "metadata": {},
   "outputs": [],
   "source": [
    "from openpyxl import load_workbook"
   ]
  },
  {
   "cell_type": "code",
   "execution_count": 7,
   "id": "6f26b9ef",
   "metadata": {},
   "outputs": [],
   "source": [
    "filename='Template - Monitoração - Barreira - BR-101 - Submetido'"
   ]
  },
  {
   "cell_type": "code",
   "execution_count": 8,
   "id": "746f0728",
   "metadata": {},
   "outputs": [
    {
     "name": "stderr",
     "output_type": "stream",
     "text": [
      "/home/luan/.cache/pypoetry/virtualenvs/apps-ZFymp6kh-py3.7/lib/python3.7/site-packages/openpyxl/worksheet/_reader.py:312: UserWarning: Data Validation extension is not supported and will be removed\n",
      "  warn(msg)\n"
     ]
    }
   ],
   "source": [
    "wb = load_workbook(filename + '.xlsx')\n",
    "sheetname = wb.sheetnames[0]\n",
    "# sheetname\n",
    "ws = wb[sheetname]"
   ]
  },
  {
   "cell_type": "code",
   "execution_count": 11,
   "id": "b0418229",
   "metadata": {},
   "outputs": [
    {
     "name": "stdout",
     "output_type": "stream",
     "text": [
      "Status Civil: SGS\n"
     ]
    }
   ],
   "source": [
    "c1 = ws['A1'].value\n",
    "c2 = ws['B2'].value\n",
    "print(c1,c2)"
   ]
  },
  {
   "cell_type": "code",
   "execution_count": 8,
   "id": "4aff9d7b",
   "metadata": {},
   "outputs": [],
   "source": [
    "header = []\n",
    "values = []\n",
    "\n",
    "for index, row in enumerate(ws.rows):\n",
    "    if index == 0:\n",
    "        header = list([a.value for a in row])\n",
    "        continue\n",
    "    obj = {}\n",
    "    for col_index, cell in enumerate(row):\n",
    "        value = cell.value\n",
    "        obj[header[col_index]] = value\n",
    "    values.append(obj)"
   ]
  },
  {
   "cell_type": "code",
   "execution_count": 9,
   "id": "b3b3f1d7",
   "metadata": {},
   "outputs": [
    {
     "data": {
      "text/plain": [
       "{'occ_kind': 38,\n",
       " 'occ_type': 'Monitoração Pêndulo Britânico',\n",
       " 'id': 4,\n",
       " 'dataType': 'select',\n",
       " 'apiName': 'penduloDirecaoPista',\n",
       " 'group': 'Localização',\n",
       " 'displayName - Antigo': 'Pista',\n",
       " 'displayName': 'Pista (Localização)'}"
      ]
     },
     "execution_count": 9,
     "metadata": {},
     "output_type": "execute_result"
    }
   ],
   "source": [
    "values[0]"
   ]
  },
  {
   "cell_type": "code",
   "execution_count": 16,
   "id": "b2b080ce",
   "metadata": {},
   "outputs": [],
   "source": [
    "company=Company.objects.get(name='CCR - Rio Sp')"
   ]
  },
  {
   "cell_type": "code",
   "execution_count": 11,
   "id": "dd18014a",
   "metadata": {},
   "outputs": [
    {
     "name": "stdout",
     "output_type": "stream",
     "text": [
      "Sinalização Vertical\n",
      "Monitoração de Sinalização Vertical\n"
     ]
    }
   ],
   "source": [
    "occ=OccurrenceType.objects.filter(company=company)\n",
    "for a in occ:\n",
    "    for b in a.form_fields['fields']:\n",
    "        if 'signMissing' == b['apiName']:\n",
    "            print(a.name)"
   ]
  },
  {
   "cell_type": "code",
   "execution_count": 12,
   "id": "5ce56aed",
   "metadata": {},
   "outputs": [],
   "source": [
    "for a in values:\n",
    "    occ=OccurrenceType.objects.get(name=a['occ_type'],company=company)\n",
    "    for b in occ.form_fields['fields']:\n",
    "        if 'Pista' == b['displayName']:\n",
    "            b['displayName'] = a['displayName']\n",
    "    occ.save()"
   ]
  },
  {
   "cell_type": "code",
   "execution_count": 2,
   "id": "cb81dcc3",
   "metadata": {},
   "outputs": [],
   "source": [
    "company=Company.objects.get(name=\"CCR - Rio Sp\")"
   ]
  },
  {
   "cell_type": "code",
   "execution_count": 3,
   "id": "24d77962",
   "metadata": {},
   "outputs": [],
   "source": [
    "import pandas as pd\n",
    "%run 'LPKNB - Funcao Traducao.ipynb'"
   ]
  },
  {
   "cell_type": "code",
   "execution_count": 4,
   "id": "17080c4e",
   "metadata": {},
   "outputs": [],
   "source": [
    "occ = OccurrenceType.objects.filter(company=company).values_list('occurrence_kind','name','form_fields').order_by('occurrence_kind').exclude(occurrence_kind='999',occurrence_kind__isnull=True)\n",
    "values=[list(a) for a in occ]"
   ]
  },
  {
   "cell_type": "code",
   "execution_count": 5,
   "id": "807b2597",
   "metadata": {},
   "outputs": [],
   "source": [
    "df=pd.DataFrame(data=values)"
   ]
  },
  {
   "cell_type": "code",
   "execution_count": 6,
   "id": "1b44137a",
   "metadata": {},
   "outputs": [],
   "source": [
    "df.to_excel('testeCCR.xlsx')"
   ]
  },
  {
   "cell_type": "code",
   "execution_count": null,
   "id": "9f710a32",
   "metadata": {},
   "outputs": [],
   "source": []
  },
  {
   "cell_type": "code",
   "execution_count": 16,
   "id": "0f40979e",
   "metadata": {},
   "outputs": [
    {
     "data": {
      "text/plain": [
       "(27, 27, 27)"
      ]
     },
     "execution_count": 16,
     "metadata": {},
     "output_type": "execute_result"
    }
   ],
   "source": [
    "lista=['Monitoração de Barreira New Jersey',\n",
    "'Retrorrefletância Horizontal Longitudinal',\n",
    "'Retrorrefletância de Dispositivos',\n",
    "'Inspeção Interna CCR – OAC',\n",
    "'Retrorrefletância Horizontal de Zebrado',\n",
    "'Retrorrefletância Horizontal de Zebrado',\n",
    "'Retrorrefletância Horizontal de Zebrado',\n",
    "'Monitoração de Acessos',\n",
    "'Monitoração de Defensas Metálicas',\n",
    "'Sinalização Vertical',\n",
    "'Cadastro de Acessos',\n",
    "'Monitoração de Ocupações',\n",
    "'Monitoração de Tela Antiofuscante',\n",
    "'Monitoração de Sinalização Vertical',\n",
    "'Defensas Metálicas',\n",
    "'Tela Antiofuscante',\n",
    "'Ocupações',\n",
    "'Monitoração de Acessos',\n",
    "'Monitoração de Defensas Metálicas',\n",
    "'Sinalização Vertical',\n",
    "'Cadastro de Acessos',\n",
    "'Monitoração de Ocupações',\n",
    "'Monitoração de Tela Antiofuscante',\n",
    "'Monitoração de Sinalização Vertical',\n",
    "'Defensas Metálicas',\n",
    "'Tela Antiofuscante',\n",
    "'Ocupações',\n",
    "]\n",
    "lista_apiName=[\n",
    "    'notesTwo',\n",
    "'notesTwo',\n",
    "'notesTwo',\n",
    "'notesTwo',\n",
    "'attendenceZpa',\n",
    "'attendenceLca',\n",
    "'attendence',\n",
    "'lat',\n",
    "'lat',\n",
    "'lat',\n",
    "'lat',\n",
    "'lat',\n",
    "'lat',\n",
    "'lat',\n",
    "'lat',\n",
    "'lat',\n",
    "'lat',\n",
    "'long',\n",
    "'long',\n",
    "'long',\n",
    "'long',\n",
    "'long',\n",
    "'long',\n",
    "'long',\n",
    "'long',\n",
    "'long',\n",
    "'long'\n",
    "]\n",
    "lista_dnNovo=['Observações (Considerações)',\n",
    "'Observações (Considerações)',\n",
    "'Observações (Considerações)',\n",
    "'Observações (Considerações)',\n",
    "'Status de atendimento - ZPA',\n",
    "'Status de atendimento - LCA',\n",
    "'Atendimento',\n",
    "'Lat',\n",
    "'Lat',\n",
    "'Lat',\n",
    "'Lat',\n",
    "'Lat',\n",
    "'Lat',\n",
    "'Lat',\n",
    "'Lat',\n",
    "'Lat',\n",
    "'Lat',\n",
    "'Long',\n",
    "'Long',\n",
    "'Long',\n",
    "'Long',\n",
    "'Long',\n",
    "'Long',\n",
    "'Long',\n",
    "'Long',\n",
    "'Long',\n",
    "'Long']\n",
    "len(lista),len(lista_apiName),len(lista_dnNovo)"
   ]
  },
  {
   "cell_type": "code",
   "execution_count": 17,
   "id": "481ad784",
   "metadata": {},
   "outputs": [
    {
     "data": {
      "application/vnd.jupyter.widget-view+json": {
       "model_id": "d9bb9ebf3b604439926af27d516c8005",
       "version_major": 2,
       "version_minor": 0
      },
      "text/plain": [
       "0it [00:00, ?it/s]"
      ]
     },
     "metadata": {},
     "output_type": "display_data"
    }
   ],
   "source": [
    "from tqdm.notebook import tqdm\n",
    "for a,x,c in tqdm(zip(lista,lista_apiName,lista_dnNovo)):\n",
    "    occ=OccurrenceType.objects.filter(company__name=\"CCR - Rio Sp\",name=a)\n",
    "    for ac in occ:\n",
    "        for b in ac.form_fields['fields']:\n",
    "#             print(b)\n",
    "            if b['apiName'] == x:\n",
    "                b['displayName'] = c\n",
    "#                 print(c)\n",
    "        ac.save()"
   ]
  },
  {
   "cell_type": "code",
   "execution_count": 18,
   "id": "baa8fa56",
   "metadata": {},
   "outputs": [
    {
     "data": {
      "text/plain": [
       "{'_state': <django.db.models.base.ModelState at 0x7f794e0be950>,\n",
       " 'uuid': UUID('c433fff6-b996-403b-ab4b-74638bdcd600'),\n",
       " 'name': 'Ocupações',\n",
       " 'occurrence_kind': '2',\n",
       " 'form_fields': {'id': 321,\n",
       "  'name': 'Ocupações',\n",
       "  'fields': [{'id': 1,\n",
       "    'apiName': 'idCcrAntt',\n",
       "    'autofill': {'cat': ['OC ',\n",
       "      {'cat': [{'substr': [{'var': 'roadName'}, 3, -3]}, ' ']},\n",
       "      {'substr': [{'var': 'roadName'}, -2, 2]},\n",
       "      ' ',\n",
       "      {'if': [{'<': [{'var': 'km'}, 10]},\n",
       "        {'cat': ['00',\n",
       "          {'substr': [{'var': 'km'}, 0, 1]},\n",
       "          '+',\n",
       "          {'if': [{'==': [{'substr': [{'var': 'km'}, 2, 10]}, 0]},\n",
       "            '000',\n",
       "            {'==': [{'substr': [{'var': 'km'}, 3, 10]}, 0]},\n",
       "            {'cat': [{'substr': [{'var': 'km'}, 2, 1]}, '00']},\n",
       "            {'==': [{'substr': [{'var': 'km'}, 4, 10]}, 0]},\n",
       "            {'cat': [{'substr': [{'var': 'km'}, 2, 2]}, '0']},\n",
       "            {'substr': [{'var': 'km'}, 2]}]}]},\n",
       "        {'and': [{'>=': [{'var': 'km'}, 10]}, {'<': [{'var': 'km'}, 100]}]},\n",
       "        {'cat': ['0',\n",
       "          {'substr': [{'var': 'km'}, 0, 2]},\n",
       "          '+',\n",
       "          {'if': [{'==': [{'substr': [{'var': 'km'}, 3, 10]}, 0]},\n",
       "            '000',\n",
       "            {'==': [{'substr': [{'var': 'km'}, 4, 10]}, 0]},\n",
       "            {'cat': [{'substr': [{'var': 'km'}, 3, 1]}, '00']},\n",
       "            {'==': [{'substr': [{'var': 'km'}, 5, 10]}, 0]},\n",
       "            {'cat': [{'substr': [{'var': 'km'}, 3, 2]}, '0']},\n",
       "            {'substr': [{'var': 'km'}, 3]}]}]},\n",
       "        {'and': [{'>=': [{'var': 'km'}, 100]}, {'<': [{'var': 'km'}, 1000]}]},\n",
       "        {'cat': [{'substr': [{'var': 'km'}, 0, 3]},\n",
       "          '+',\n",
       "          {'if': [{'==': [{'substr': [{'var': 'km'}, 4, 10]}, 0]},\n",
       "            '000',\n",
       "            {'==': [{'substr': [{'var': 'km'}, 5, 10]}, 0]},\n",
       "            {'cat': [{'substr': [{'var': 'km'}, 4, 1]}, '00']},\n",
       "            {'==': [{'substr': [{'var': 'km'}, 6, 10]}, 0]},\n",
       "            {'cat': [{'substr': [{'var': 'km'}, 4, 2]}, '0']},\n",
       "            {'substr': [{'var': 'km'}, 4]}]}]}]},\n",
       "      ' ',\n",
       "      {'substr': [{'if': [{'==': [{'var': 'direction'}, 0]},\n",
       "          'N',\n",
       "          {'==': [{'var': 'direction'}, 1]},\n",
       "          'S',\n",
       "          {'==': [{'var': 'direction'}, 2]},\n",
       "          'L',\n",
       "          {'==': [{'var': 'direction'}, 3]},\n",
       "          'O',\n",
       "          {'==': [{'var': 'direction'}, 4]},\n",
       "          'NS',\n",
       "          {'==': [{'var': 'direction'}, 5]},\n",
       "          'LO',\n",
       "          {'==': [{'var': 'direction'}, 6]},\n",
       "          'C',\n",
       "          {'==': [{'var': 'direction'}, 7]},\n",
       "          'D',\n",
       "          {'==': [{'var': 'direction'}, 8]},\n",
       "          'CC',\n",
       "          {'==': [{'var': 'direction'}, 9]},\n",
       "          'A',\n",
       "          {'==': [{'var': 'direction'}, 10]},\n",
       "          'TR',\n",
       "          {'==': [{'var': 'direction'}, 11]},\n",
       "          'NA']}]},\n",
       "      {'cat': [' ', {'var': 'formData.index'}]}]},\n",
       "    'dataType': 'string',\n",
       "    'disableIf ': True,\n",
       "    'displayName': 'Identificação ANTT'},\n",
       "   {'id': 2, 'apiName': 'lat', 'dataType': 'float', 'displayName': 'Lat'},\n",
       "   {'id': 3, 'apiName': 'long', 'dataType': 'float', 'displayName': 'Long'},\n",
       "   {'id': 4,\n",
       "    'apiName': 'city',\n",
       "    'autofill': {'if': [{'and': [{'==': [{'var': 'roadName'}, 'BR-116 SP']},\n",
       "        {'>': [{'var': 'km'}, '0.0']},\n",
       "        {'<': [{'var': 'km'}, '15.208']}]},\n",
       "      'Queluz',\n",
       "      {'and': [{'==': [{'var': 'roadName'}, 'BR-116 SP']},\n",
       "        {'>': [{'var': 'km'}, '15.21']},\n",
       "        {'<': [{'var': 'km'}, '25.75']}]},\n",
       "      'Lavrinhas',\n",
       "      {'and': [{'==': [{'var': 'roadName'}, 'BR-116 SP']},\n",
       "        {'>': [{'var': 'km'}, '25.75']},\n",
       "        {'<': [{'var': 'km'}, '27.816']}]},\n",
       "      'Silveiras',\n",
       "      {'and': [{'==': [{'var': 'roadName'}, 'BR-116 SP']},\n",
       "        {'>': [{'var': 'km'}, '27.82']},\n",
       "        {'<': [{'var': 'km'}, '33.75']}]},\n",
       "      'Cruzeiro',\n",
       "      {'and': [{'==': [{'var': 'roadName'}, 'BR-116 SP']},\n",
       "        {'>': [{'var': 'km'}, '33.75']},\n",
       "        {'<': [{'var': 'km'}, '43.13']}]},\n",
       "      'Cachoeira Paulista',\n",
       "      {'and': [{'==': [{'var': 'roadName'}, 'BR-116 SP']},\n",
       "        {'>': [{'var': 'km'}, '43.13']},\n",
       "        {'<': [{'var': 'km'}, '48.79']}]},\n",
       "      'Canas',\n",
       "      {'and': [{'==': [{'var': 'roadName'}, 'BR-116 SP']},\n",
       "        {'>': [{'var': 'km'}, '48.79']},\n",
       "        {'<': [{'var': 'km'}, '56.73']}]},\n",
       "      'Lorena',\n",
       "      {'and': [{'==': [{'var': 'roadName'}, 'BR-116 SP']},\n",
       "        {'>': [{'var': 'km'}, '56.73']},\n",
       "        {'<': [{'var': 'km'}, '67.45']}]},\n",
       "      'Guaratinguetá',\n",
       "      {'and': [{'==': [{'var': 'roadName'}, 'BR-116 SP']},\n",
       "        {'>': [{'var': 'km'}, '67.45']},\n",
       "        {'<': [{'var': 'km'}, '75.786']}]},\n",
       "      'Aparecida',\n",
       "      {'and': [{'==': [{'var': 'roadName'}, 'BR-116 SP']},\n",
       "        {'>': [{'var': 'km'}, '75.786']},\n",
       "        {'<': [{'var': 'km'}, '83.85']}]},\n",
       "      'Roseira',\n",
       "      {'and': [{'==': [{'var': 'roadName'}, 'BR-116 SP']},\n",
       "        {'>': [{'var': 'km'}, '83.85']},\n",
       "        {'<': [{'var': 'km'}, '103.019']}]},\n",
       "      'Pindamonhangaba',\n",
       "      {'and': [{'==': [{'var': 'roadName'}, 'BR-116 SP']},\n",
       "        {'>': [{'var': 'km'}, '103.019']},\n",
       "        {'<': [{'var': 'km'}, '119.383']}]},\n",
       "      'Taubaté',\n",
       "      {'and': [{'==': [{'var': 'roadName'}, 'BR-116 SP']},\n",
       "        {'>': [{'var': 'km'}, '119.383']},\n",
       "        {'<': [{'var': 'km'}, '133.818']}]},\n",
       "      'Caçapava',\n",
       "      {'and': [{'==': [{'var': 'roadName'}, 'BR-116 SP']},\n",
       "        {'>': [{'var': 'km'}, '133.818']},\n",
       "        {'<': [{'var': 'km'}, '157.65']}]},\n",
       "      'São José dos Campos',\n",
       "      {'and': [{'==': [{'var': 'roadName'}, 'BR-116 SP']},\n",
       "        {'>': [{'var': 'km'}, '157.65']},\n",
       "        {'<': [{'var': 'km'}, '174.96']}]},\n",
       "      'Jacareí',\n",
       "      {'and': [{'==': [{'var': 'roadName'}, 'BR-116 SP']},\n",
       "        {'>': [{'var': 'km'}, '174.96']},\n",
       "        {'<': [{'var': 'km'}, '181.556']}]},\n",
       "      'Guararema',\n",
       "      {'and': [{'==': [{'var': 'roadName'}, 'BR-116 SP']},\n",
       "        {'>': [{'var': 'km'}, '181.556']},\n",
       "        {'<': [{'var': 'km'}, '194.938']}]},\n",
       "      'Santa Isabel',\n",
       "      {'and': [{'==': [{'var': 'roadName'}, 'BR-116 SP']},\n",
       "        {'>': [{'var': 'km'}, '194.938']},\n",
       "        {'<': [{'var': 'km'}, '205.41']}]},\n",
       "      'Arujá',\n",
       "      {'and': [{'==': [{'var': 'roadName'}, 'BR-116 SP']},\n",
       "        {'>': [{'var': 'km'}, '205.41']},\n",
       "        {'<': [{'var': 'km'}, '227.126']}]},\n",
       "      'Guarulhos',\n",
       "      {'and': [{'==': [{'var': 'roadName'}, 'BR-116 SP']},\n",
       "        {'>': [{'var': 'km'}, '227.126']},\n",
       "        {'<': [{'var': 'km'}, '231.476']}]},\n",
       "      'São Paulo',\n",
       "      {'and': [{'==': [{'var': 'roadName'}, 'BR-116 RJ']},\n",
       "        {'>': [{'var': 'km'}, '169.1']},\n",
       "        {'<': [{'var': 'km'}, '172.152']}]},\n",
       "      'Rio de Janeiro',\n",
       "      {'and': [{'==': [{'var': 'roadName'}, 'BR-116 RJ']},\n",
       "        {'>': [{'var': 'km'}, '172.152']},\n",
       "        {'<': [{'var': 'km'}, '178.05']}]},\n",
       "      'São João de Meriti',\n",
       "      {'and': [{'==': [{'var': 'roadName'}, 'BR-116 RJ']},\n",
       "        {'>': [{'var': 'km'}, '178.05']},\n",
       "        {'<': [{'var': 'km'}, '179.8']}]},\n",
       "      'Mesquita PN',\n",
       "      {'and': [{'==': [{'var': 'roadName'}, 'BR-116 RJ']},\n",
       "        {'>': [{'var': 'km'}, '178.05']},\n",
       "        {'<': [{'var': 'km'}, '180.43']}]},\n",
       "      'Belford Roxo PS',\n",
       "      {'and': [{'==': [{'var': 'roadName'}, 'BR-116 RJ']},\n",
       "        {'>': [{'var': 'km'}, '179.8']},\n",
       "        {'<': [{'var': 'km'}, '193.5']}]},\n",
       "      'Nova Iguaçu PN',\n",
       "      {'and': [{'==': [{'var': 'roadName'}, 'BR-116 RJ']},\n",
       "        {'>': [{'var': 'km'}, '180.037']},\n",
       "        {'<': [{'var': 'km'}, '194.5']}]},\n",
       "      'Nova Iguaçu PS',\n",
       "      {'and': [{'==': [{'var': 'roadName'}, 'BR-116 RJ']},\n",
       "        {'>': [{'var': 'km'}, '193.46']},\n",
       "        {'<': [{'var': 'km'}, '204.95']}]},\n",
       "      'Queimados PN',\n",
       "      {'and': [{'==': [{'var': 'roadName'}, 'BR-116 RJ']},\n",
       "        {'>': [{'var': 'km'}, '194.518']},\n",
       "        {'<': [{'var': 'km'}, '204.958']}]},\n",
       "      'Queimados PS',\n",
       "      {'and': [{'==': [{'var': 'roadName'}, 'BR-116 RJ']},\n",
       "        {'>': [{'var': 'km'}, '204.958']},\n",
       "        {'<': [{'var': 'km'}, '214.7']}]},\n",
       "      'Seropédica',\n",
       "      {'and': [{'==': [{'var': 'roadName'}, 'BR-116 RJ']},\n",
       "        {'>': [{'var': 'km'}, '204.958']},\n",
       "        {'<': [{'var': 'km'}, '217.25']}]},\n",
       "      'Seropédica PS',\n",
       "      {'and': [{'==': [{'var': 'roadName'}, 'BR-116 RJ']},\n",
       "        {'>': [{'var': 'km'}, '215.421']},\n",
       "        {'<': [{'var': 'km'}, '220.85']}]},\n",
       "      'Itaguaí PN',\n",
       "      {'and': [{'==': [{'var': 'roadName'}, 'BR-116 RJ']},\n",
       "        {'>': [{'var': 'km'}, '217.266']},\n",
       "        {'<': [{'var': 'km'}, '225.428']}]},\n",
       "      'Paracambi PS',\n",
       "      {'and': [{'==': [{'var': 'roadName'}, 'BR-116 RJ']},\n",
       "        {'>': [{'var': 'km'}, '220.861']},\n",
       "        {'<': [{'var': 'km'}, '225.425']}]},\n",
       "      'Paracambi PN',\n",
       "      {'and': [{'==': [{'var': 'roadName'}, 'BR-116 RJ']},\n",
       "        {'>': [{'var': 'km'}, '225.428']},\n",
       "        {'<': [{'var': 'km'}, '228.388']}]},\n",
       "      'Piraí PS',\n",
       "      {'and': [{'==': [{'var': 'roadName'}, 'BR-116 RJ']},\n",
       "        {'>': [{'var': 'km'}, '225.425']},\n",
       "        {'<': [{'var': 'km'}, '263.106']}]},\n",
       "      'Piraí PN',\n",
       "      {'and': [{'==': [{'var': 'roadName'}, 'BR-116 RJ']},\n",
       "        {'>': [{'var': 'km'}, '228.38']},\n",
       "        {'<': [{'var': 'km'}, '231.656']}]},\n",
       "      'Paracambi PS',\n",
       "      {'and': [{'==': [{'var': 'roadName'}, 'BR-116 RJ']},\n",
       "        {'>': [{'var': 'km'}, '231.656']},\n",
       "        {'<': [{'var': 'km'}, '253.5']}]},\n",
       "      'Piraí PS',\n",
       "      {'and': [{'==': [{'var': 'roadName'}, 'BR-116 RJ']},\n",
       "        {'>': [{'var': 'km'}, '253.5']},\n",
       "        {'<': [{'var': 'km'}, '263.106']}]},\n",
       "      'Pinheiral PS',\n",
       "      {'and': [{'==': [{'var': 'roadName'}, 'BR-116 RJ']},\n",
       "        {'>': [{'var': 'km'}, '263.106']},\n",
       "        {'<': [{'var': 'km'}, '265.94']}]},\n",
       "      'Volta Redonda',\n",
       "      {'and': [{'==': [{'var': 'roadName'}, 'BR-116 RJ']},\n",
       "        {'>': [{'var': 'km'}, '265.94']},\n",
       "        {'<': [{'var': 'km'}, '296.715']}]},\n",
       "      'Barra Mansa',\n",
       "      {'and': [{'==': [{'var': 'roadName'}, 'BR-116 RJ']},\n",
       "        {'>': [{'var': 'km'}, '296.715']},\n",
       "        {'<': [{'var': 'km'}, '303.293']}]},\n",
       "      'Porto Real',\n",
       "      {'and': [{'==': [{'var': 'roadName'}, 'BR-116 RJ']},\n",
       "        {'>': [{'var': 'km'}, '303.293']},\n",
       "        {'<': [{'var': 'km'}, '315.675']}]},\n",
       "      'Resende',\n",
       "      {'and': [{'==': [{'var': 'roadName'}, 'BR-116 RJ']},\n",
       "        {'>': [{'var': 'km'}, '315.675']},\n",
       "        {'<': [{'var': 'km'}, '333.41']}]},\n",
       "      'Itatiaia',\n",
       "      {'and': [{'==': [{'var': 'roadName'}, 'BR-116 RJ']},\n",
       "        {'>': [{'var': 'km'}, '333.41']},\n",
       "        {'<': [{'var': 'km'}, '339.45']}]},\n",
       "      'Resende',\n",
       "      {'and': [{'==': [{'var': 'roadName'}, 'BR-101 SP']},\n",
       "        {'>': [{'var': 'km'}, '0.0']},\n",
       "        {'<': [{'var': 'km'}, '52.6']}]},\n",
       "      'Ubatuba',\n",
       "      {'and': [{'==': [{'var': 'roadName'}, 'BR-101 RJ']},\n",
       "        {'>': [{'var': 'km'}, '380.8']},\n",
       "        {'<': [{'var': 'km'}, '395.7']}]},\n",
       "      'Rio de Janeiro',\n",
       "      {'and': [{'==': [{'var': 'roadName'}, 'BR-101 RJ']},\n",
       "        {'>': [{'var': 'km'}, '395.7']},\n",
       "        {'<': [{'var': 'km'}, '414.358']}]},\n",
       "      'Itaguaí',\n",
       "      {'and': [{'==': [{'var': 'roadName'}, 'BR-101 RJ']},\n",
       "        {'>': [{'var': 'km'}, '414.358']},\n",
       "        {'<': [{'var': 'km'}, '455.471']}]},\n",
       "      'Mangaratiba',\n",
       "      {'and': [{'==': [{'var': 'roadName'}, 'BR-101 RJ']},\n",
       "        {'>': [{'var': 'km'}, '455.471']},\n",
       "        {'<': [{'var': 'km'}, '533.176']}]},\n",
       "      'Angra do Reis',\n",
       "      {'and': [{'==': [{'var': 'roadName'}, 'BR-101 RJ']},\n",
       "        {'>': [{'var': 'km'}, '533.176']},\n",
       "        {'<': [{'var': 'km'}, '598.6']}]},\n",
       "      'Paraty',\n",
       "      'NA']},\n",
       "    'dataType': 'string',\n",
       "    'displayName': 'Município'},\n",
       "   {'id': 5,\n",
       "    'apiName': 'uf',\n",
       "    'autofill': {'substr': [{'var': 'roadName'}, -2, 2]},\n",
       "    'dataType': 'string',\n",
       "    'disableIf ': True,\n",
       "    'displayName': 'UF'},\n",
       "   {'id': 6,\n",
       "    'apiName': 'titularKind',\n",
       "    'dataType': 'select',\n",
       "    'displayName': 'Tipo de Titular',\n",
       "    'selectOptions': {'options': [{'name': 'Pessoa Jurídica', 'value': '1'},\n",
       "      {'name': 'Pessoa Física', 'value': '2'}]}},\n",
       "   {'id': 7,\n",
       "    'apiName': 'name',\n",
       "    'dataType': 'textArea',\n",
       "    'displayName': 'Nome/Razão Social'},\n",
       "   {'id': 8,\n",
       "    'apiName': 'cpf',\n",
       "    'dataType': 'string',\n",
       "    'displayName': 'CPF/CNPJ'},\n",
       "   {'id': 9,\n",
       "    'apiName': 'address',\n",
       "    'dataType': 'textArea',\n",
       "    'displayName': 'Endereço'},\n",
       "   {'id': 10,\n",
       "    'apiName': 'cityOfProp',\n",
       "    'dataType': 'textArea',\n",
       "    'displayName': 'Cidade'},\n",
       "   {'id': 11,\n",
       "    'apiName': 'state',\n",
       "    'dataType': 'select',\n",
       "    'displayName': 'Estado',\n",
       "    'selectOptions': {'options': [{'name': 'RJ', 'value': '1'},\n",
       "      {'name': 'SP', 'value': '2'}]}},\n",
       "   {'id': 12,\n",
       "    'apiName': 'postalCode',\n",
       "    'dataType': 'number',\n",
       "    'displayName': 'CEP'},\n",
       "   {'id': 13,\n",
       "    'apiName': 'ownerFone',\n",
       "    'dataType': 'number',\n",
       "    'displayName': 'Telefone do Proprietário'},\n",
       "   {'id': 14,\n",
       "    'apiName': 'telephone',\n",
       "    'dataType': 'number',\n",
       "    'displayName': 'Telefone'},\n",
       "   {'id': 15,\n",
       "    'apiName': 'celular',\n",
       "    'dataType': 'number',\n",
       "    'displayName': 'Celular'},\n",
       "   {'id': 16,\n",
       "    'apiName': 'sheet',\n",
       "    'dataType': 'number',\n",
       "    'displayName': 'Folha'},\n",
       "   {'id': 17,\n",
       "    'apiName': 'matricule',\n",
       "    'dataType': 'number',\n",
       "    'displayName': 'Matrícula'},\n",
       "   {'id': 18,\n",
       "    'apiName': 'cartory',\n",
       "    'dataType': 'string',\n",
       "    'displayName': 'Cartório'},\n",
       "   {'id': 19,\n",
       "    'apiName': 'laneOccupied',\n",
       "    'dataType': 'select',\n",
       "    'displayName': 'Faixa Ocupada',\n",
       "    'selectOptions': {'options': [{'name': 'Faixa de Domínio', 'value': '1'},\n",
       "      {'name': 'Faixa não Edificante', 'value': '2'},\n",
       "      {'name': 'Faixa de Domínio e Faixa não Edificante', 'value': '3'}]}},\n",
       "   {'id': 20,\n",
       "    'apiName': 'zone',\n",
       "    'dataType': 'select',\n",
       "    'displayName': 'Zona',\n",
       "    'selectOptions': {'options': [{'name': 'Rural', 'value': '1'},\n",
       "      {'name': 'Urbana', 'value': '2'}]}},\n",
       "   {'id': 21,\n",
       "    'apiName': 'situation',\n",
       "    'dataType': 'select',\n",
       "    'displayName': 'Situação',\n",
       "    'selectOptions': {'options': [{'name': 'Regular', 'value': '1'},\n",
       "      {'name': 'Irregular', 'value': '2'}]}},\n",
       "   {'id': 22,\n",
       "    'apiName': 'ocupation',\n",
       "    'dataType': 'select',\n",
       "    'displayName': 'Ocupação',\n",
       "    'selectOptions': {'options': [{'name': 'Comercial', 'value': '1'},\n",
       "      {'name': 'Industrial', 'value': '2'},\n",
       "      {'name': 'Residencial', 'value': '3'},\n",
       "      {'name': 'Lavoura', 'value': '4'},\n",
       "      {'name': 'Público', 'value': '5'}]}},\n",
       "   {'id': 23,\n",
       "    'apiName': 'ocupationKind',\n",
       "    'dataType': 'select',\n",
       "    'displayName': 'Tipo de Ocupação',\n",
       "    'selectOptions': {'options': [{'name': 'Telecomunicação', 'value': '1'},\n",
       "      {'name': 'Ponto de Ônibus', 'value': '2'},\n",
       "      {'name': 'Elétrica', 'value': '3'},\n",
       "      {'name': 'Painel', 'value': '4'},\n",
       "      {'name': 'Edificação', 'value': '5'},\n",
       "      {'name': 'Outros', 'value': '6'}]}},\n",
       "   {'id': 24,\n",
       "    'apiName': 'ocupationKindOthers',\n",
       "    'dataType': 'string',\n",
       "    'displayIf': {'in': ['6', {'var': 'data.formData.ocupationKind'}]},\n",
       "    'displayName': 'Tipo de Ocupação'},\n",
       "   {'id': 25,\n",
       "    'apiName': 'characteristics',\n",
       "    'dataType': 'select',\n",
       "    'displayName': 'Características',\n",
       "    'selectOptions': {'options': [{'name': 'Transversal', 'value': '1'},\n",
       "      {'name': 'Longitudinal', 'value': '2'},\n",
       "      {'name': 'Pontual', 'value': '3'}]}},\n",
       "   {'id': 26,\n",
       "    'apiName': 'laneExtension',\n",
       "    'dataType': 'float',\n",
       "    'displayName': 'Extensão da Faixa de Domínio (m)'},\n",
       "   {'id': 27,\n",
       "    'apiName': 'laneExtensionNotEdified',\n",
       "    'dataType': 'float',\n",
       "    'displayName': 'Extensão da Faixa de Domínio não Edificável (m)'},\n",
       "   {'id': 28,\n",
       "    'apiName': 'laneExtensionEdifiedArea',\n",
       "    'dataType': 'float',\n",
       "    'displayName': 'Área da Faixa de Domínio Ocupada (m²)'},\n",
       "   {'id': 29,\n",
       "    'apiName': 'laneExtensionNotEdifiedArea',\n",
       "    'dataType': 'float',\n",
       "    'displayName': 'Área da Faixa não Edificante Ocupada (m²)'},\n",
       "   {'id': 30,\n",
       "    'apiName': 'constructionKindOccupation',\n",
       "    'dataType': 'select',\n",
       "    'displayName': 'Tipo da Construção da Ocupação',\n",
       "    'selectOptions': {'options': [{'name': 'Construção em Madeira',\n",
       "       'value': '1'},\n",
       "      {'name': 'Construção Metálica', 'value': '2'},\n",
       "      {'name': 'Construção em Alvenaria', 'value': '3'},\n",
       "      {'name': 'Construção Mista', 'value': '4'},\n",
       "      {'name': 'Outro', 'value': '5'}]}},\n",
       "   {'id': 31,\n",
       "    'apiName': 'utilizationCondition',\n",
       "    'dataType': 'select',\n",
       "    'displayName': 'Condição de Utilização',\n",
       "    'selectOptions': {'options': [{'name': 'Exclusivamente Residencial',\n",
       "       'value': '1'},\n",
       "      {'name': 'Exclusivamente Industrial', 'value': '2'},\n",
       "      {'name': 'Residencial e Industrial', 'value': '3'},\n",
       "      {'name': 'Exclusivamente Comercial', 'value': '4'},\n",
       "      {'name': 'Agropecuário', 'value': '5'},\n",
       "      {'name': 'Residencial e Comercial', 'value': '6'},\n",
       "      {'name': 'Pública', 'value': '7'},\n",
       "      {'name': 'Outros', 'value': '8'}]}},\n",
       "   {'id': 32,\n",
       "    'apiName': 'utilizationConditionOther',\n",
       "    'dataType': 'string',\n",
       "    'displayIf': {'in': ['8', {'var': 'data.formData.utilizationCondition'}]},\n",
       "    'displayName': 'Condição de Utilização'},\n",
       "   {'id': 33,\n",
       "    'apiName': 'processConcessionaire',\n",
       "    'dataType': 'number',\n",
       "    'displayName': 'N° Processo Concessionária'},\n",
       "   {'id': 34,\n",
       "    'apiName': 'processAntt',\n",
       "    'dataType': 'number',\n",
       "    'displayName': 'N° Processo ANTT '},\n",
       "   {'id': 35,\n",
       "    'apiName': 'numberJudiciaryProcess',\n",
       "    'dataType': 'number',\n",
       "    'displayName': 'N° Processo Judicial'},\n",
       "   {'id': 36,\n",
       "    'apiName': 'afterOrBefore',\n",
       "    'dataType': 'boolean',\n",
       "    'displayName': 'Antes da Concessão?'},\n",
       "   {'id': 37,\n",
       "    'apiName': 'observations',\n",
       "    'dataType': 'textArea',\n",
       "    'displayName': 'Observações'},\n",
       "   {'id': 38,\n",
       "    'apiName': 'qualInv',\n",
       "    'dataType': 'string',\n",
       "    'displayIf': {'in': ['5',\n",
       "      {'var': 'data.formData.constructionKindOccupation'}]},\n",
       "    'displayName': 'Qual?'},\n",
       "   {'id': 101,\n",
       "    'apiName': 'index',\n",
       "    'dataType': 'number',\n",
       "    'displayName': 'Índice (Serial Antt)'}],\n",
       "  'groups': [{'order': 1,\n",
       "    'members': [1, 101, 2, 3, 4, 5],\n",
       "    'displayName': 'Localização'},\n",
       "   {'order': 2,\n",
       "    'members': [6, 7, 8, 9, 10, 11, 12, 13, 14, 15, 16, 17, 18],\n",
       "    'displayName': 'Titular da Ocupação'},\n",
       "   {'order': 3,\n",
       "    'members': [19, 20, 21, 22, 23, 24, 25],\n",
       "    'displayName': 'Dados Complementares'},\n",
       "   {'order': 4,\n",
       "    'members': [26, 27, 28, 29],\n",
       "    'displayName': 'Dados Cadastrais'},\n",
       "   {'order': 5,\n",
       "    'members': [30, 38],\n",
       "    'displayName': 'Tipo da Construção da Ocupação'},\n",
       "   {'order': 6, 'members': [31, 32], 'displayName': 'Condição de Utilização'},\n",
       "   {'order': 7,\n",
       "    'members': [33, 34, 35, 36, 37],\n",
       "    'displayName': 'Informações Adicionais'}],\n",
       "  'displayName': 'Ocupações',\n",
       "  'measurementColumns': [{'key': 'idCcrAntt', 'header': 'Identificação ANTT'},\n",
       "   {'key': 'lat',\n",
       "    'style': {'num_fmt': '0.000'},\n",
       "    'header': 'Latitude (Decimal)'},\n",
       "   {'key': 'long',\n",
       "    'style': {'num_fmt': '0.000'},\n",
       "    'header': 'Longitude (Decimal)'},\n",
       "   {'key': 'city', 'header': 'Município'},\n",
       "   {'key': 'uf', 'header': 'UF'},\n",
       "   {'key': 'titularKind',\n",
       "    'logic': {'if': [{'==': [{'var': 'formData.titularKind'}, '1']},\n",
       "      'Pessoa Jurídica',\n",
       "      {'==': [{'var': 'formData.titularKind'}, '2']},\n",
       "      'Pessoa Física']},\n",
       "    'header': 'Tipo de Titular'},\n",
       "   {'key': 'name', 'header': 'Nome/Razão Social'},\n",
       "   {'key': 'cpf', 'header': 'CPF/CNPJ'},\n",
       "   {'key': 'address', 'header': 'Endereço'},\n",
       "   {'key': 'cityOfProp', 'header': 'Cidade'},\n",
       "   {'key': 'state',\n",
       "    'logic': {'if': [{'==': [{'var': 'formData.state'}, '1']},\n",
       "      'RJ',\n",
       "      {'==': [{'var': 'formData.state'}, '2']},\n",
       "      'SP']},\n",
       "    'header': 'Estado'},\n",
       "   {'key': 'postalCode', 'header': 'CEP'},\n",
       "   {'key': 'ownerFone', 'header': 'Telefone do Proprietário'},\n",
       "   {'key': 'telephone', 'header': 'Telefone'},\n",
       "   {'key': 'celular', 'header': 'Celular'},\n",
       "   {'key': 'sheet', 'header': 'Folha'},\n",
       "   {'key': 'matricule', 'header': 'Matrícula'},\n",
       "   {'key': 'cartory', 'header': 'Cartório'},\n",
       "   {'key': 'laneOccupied',\n",
       "    'logic': {'if': [{'==': [{'var': 'formData.laneOccupied'}, '1']},\n",
       "      'Faixa de Domínio',\n",
       "      {'==': [{'var': 'formData.laneOccupied'}, '2']},\n",
       "      'Faixa não Edificante',\n",
       "      {'==': [{'var': 'formData.laneOccupied'}, '3']},\n",
       "      'Faixa de Domínio e Faixa não Edificante']},\n",
       "    'header': 'Faixa Ocupada'},\n",
       "   {'key': 'zone',\n",
       "    'logic': {'if': [{'==': [{'var': 'formData.zone'}, '1']},\n",
       "      'Rural',\n",
       "      {'==': [{'var': 'formData.zone'}, '2']},\n",
       "      'Urbana']},\n",
       "    'header': 'Zona'},\n",
       "   {'key': 'situation',\n",
       "    'logic': {'if': [{'==': [{'var': 'formData.situation'}, '1']},\n",
       "      'Regular',\n",
       "      {'==': [{'var': 'formData.situation'}, '2']},\n",
       "      'Irregular']},\n",
       "    'header': 'Situação'},\n",
       "   {'key': 'ocupation',\n",
       "    'logic': {'if': [{'==': [{'var': 'formData.ocupation'}, '1']},\n",
       "      'Comercial',\n",
       "      {'==': [{'var': 'formData.ocupation'}, '2']},\n",
       "      'Industrial',\n",
       "      {'==': [{'var': 'formData.ocupation'}, '3']},\n",
       "      'Residencial',\n",
       "      {'==': [{'var': 'formData.ocupation'}, '4']},\n",
       "      'Lavoura',\n",
       "      {'==': [{'var': 'formData.ocupation'}, '5']},\n",
       "      'Público']},\n",
       "    'header': 'Ocupação'},\n",
       "   {'key': 'ocupationKind',\n",
       "    'logic': {'if': [{'==': [{'var': 'formData.ocupationKind'}, '1']},\n",
       "      'Telecomunicação',\n",
       "      {'==': [{'var': 'formData.ocupationKind'}, '2']},\n",
       "      'Ponto de Ônibus',\n",
       "      {'==': [{'var': 'formData.ocupationKind'}, '3']},\n",
       "      'Elétrica',\n",
       "      {'==': [{'var': 'formData.ocupationKind'}, '4']},\n",
       "      'Painel',\n",
       "      {'==': [{'var': 'formData.ocupationKind'}, '5']},\n",
       "      'Edificação',\n",
       "      {'==': [{'var': 'formData.ocupationKind'}, '6']},\n",
       "      'Outros']},\n",
       "    'header': 'Tipo de Ocupação'},\n",
       "   {'key': 'ocupationKindOthers', 'header': 'Tipo de Ocupação'},\n",
       "   {'key': 'characteristics',\n",
       "    'logic': {'if': [{'==': [{'var': 'formData.characteristics'}, '1']},\n",
       "      'Transversal',\n",
       "      {'==': [{'var': 'formData.characteristics'}, '2']},\n",
       "      'Longitudinal',\n",
       "      {'==': [{'var': 'formData.characteristics'}, '3']},\n",
       "      'Pontual']},\n",
       "    'header': 'Características'},\n",
       "   {'key': 'laneExtension',\n",
       "    'style': {'num_fmt': '0.000'},\n",
       "    'header': 'Extensão da Faixa de Domínio (m)'},\n",
       "   {'key': 'laneExtensionNotEdified',\n",
       "    'style': {'num_fmt': '0.000'},\n",
       "    'header': 'Extensão da Faixa de Domínio não Edificável (m)'},\n",
       "   {'key': 'laneExtensionEdifiedArea',\n",
       "    'style': {'num_fmt': '0.000'},\n",
       "    'header': 'Área da Faixa de Domínio Ocupada (m²)'},\n",
       "   {'key': 'laneExtensionNotEdifiedArea',\n",
       "    'style': {'num_fmt': '0.000'},\n",
       "    'header': 'Área da Faixa não Edificante Ocupada (m²)'},\n",
       "   {'key': 'constructionKindOccupation',\n",
       "    'logic': {'if': [{'==': [{'var': 'formData.constructionKindOccupation'},\n",
       "        '1']},\n",
       "      'Construção em Madeira',\n",
       "      {'==': [{'var': 'formData.constructionKindOccupation'}, '2']},\n",
       "      'Construção Metálica',\n",
       "      {'==': [{'var': 'formData.constructionKindOccupation'}, '3']},\n",
       "      'Construção em Alvenaria',\n",
       "      {'==': [{'var': 'formData.constructionKindOccupation'}, '4']},\n",
       "      'Construção Mista',\n",
       "      {'==': [{'var': 'formData.constructionKindOccupation'}, '5']},\n",
       "      'Outro']},\n",
       "    'header': 'Tipo da Construção da Ocupação'},\n",
       "   {'key': 'utilizationCondition',\n",
       "    'logic': {'if': [{'==': [{'var': 'formData.utilizationCondition'}, '1']},\n",
       "      'Exclusivamente Residencial',\n",
       "      {'==': [{'var': 'formData.utilizationCondition'}, '2']},\n",
       "      'Exclusivamente Industrial',\n",
       "      {'==': [{'var': 'formData.utilizationCondition'}, '3']},\n",
       "      'Residencial e Industrial',\n",
       "      {'==': [{'var': 'formData.utilizationCondition'}, '4']},\n",
       "      'Exclusivamente Comercial',\n",
       "      {'==': [{'var': 'formData.utilizationCondition'}, '5']},\n",
       "      'Agropecuário',\n",
       "      {'==': [{'var': 'formData.utilizationCondition'}, '6']},\n",
       "      'Residencial e Comercial',\n",
       "      {'==': [{'var': 'formData.utilizationCondition'}, '7']},\n",
       "      'Pública',\n",
       "      {'==': [{'var': 'formData.utilizationCondition'}, '8']},\n",
       "      'Outros']},\n",
       "    'header': 'Condição de Utilização'},\n",
       "   {'key': 'utilizationConditionOther', 'header': 'Condição de Utilização'},\n",
       "   {'key': 'processConcessionaire', 'header': 'N° Processo Concessionária'},\n",
       "   {'key': 'processAntt', 'header': 'N° Processo ANTT '},\n",
       "   {'key': 'numberJudiciaryProcess', 'header': 'N° Processo Judicial'},\n",
       "   {'key': 'afterOrBefore', 'header': 'Antes da Concessão?'},\n",
       "   {'key': 'observations', 'header': 'Observações'},\n",
       "   {'key': 'qualInv', 'header': 'Qual?'},\n",
       "   {'key': 'index', 'header': 'Índice (Serial Antt)'}]},\n",
       " 'goal_formula': [],\n",
       " 'monitoring_plan_id': None,\n",
       " 'created_at': datetime.datetime(2023, 6, 23, 18, 41, 6, 578553, tzinfo=<UTC>),\n",
       " 'updated_at': datetime.datetime(2023, 9, 15, 17, 34, 25, 652562, tzinfo=<UTC>),\n",
       " 'created_by_id': UUID('cbe5bd37-cb9c-4dde-b7b9-a17cf5bb8c4e'),\n",
       " 'deadline': None,\n",
       " 'active': True,\n",
       " 'previous_version_id': None,\n",
       " 'show_in_web_map': True,\n",
       " 'show_in_app_map': False,\n",
       " 'icon': '',\n",
       " 'icon_size': 15,\n",
       " 'color': '#005dffb3',\n",
       " 'is_oae': False,\n",
       " 'repetition': {}}"
      ]
     },
     "execution_count": 18,
     "metadata": {},
     "output_type": "execute_result"
    }
   ],
   "source": [
    "occ[0].__dict__"
   ]
  },
  {
   "cell_type": "code",
   "execution_count": 4,
   "id": "603140f7",
   "metadata": {},
   "outputs": [
    {
     "data": {
      "text/plain": [
       "15"
      ]
     },
     "execution_count": 4,
     "metadata": {},
     "output_type": "execute_result"
    }
   ],
   "source": [
    "occurrence = OccurrenceType.objects.filter(company__name=\"CCR - Rio Sp\",name__in=lista)\n",
    "occurrence.count()"
   ]
  },
  {
   "cell_type": "code",
   "execution_count": 4,
   "id": "ac24cc88",
   "metadata": {},
   "outputs": [
    {
     "data": {
      "application/vnd.jupyter.widget-view+json": {
       "model_id": "9628d7472a8e497bb7e7d96aa6b9be08",
       "version_major": 2,
       "version_minor": 0
      },
      "text/plain": [
       "  0%|          | 0/238 [00:00<?, ?it/s]"
      ]
     },
     "metadata": {},
     "output_type": "display_data"
    },
    {
     "name": "stdout",
     "output_type": "stream",
     "text": [
      "Monitoração Pêndulo Britânico\n",
      "Monitoração de Defensas Em OAE\n",
      "Monitoração de Defensas Metálicas\n",
      "Monitoração de Defensas Metálicas\n",
      "Monitoração de Barreira New Jersey\n",
      "Monitoração de Tela Antiofuscante\n",
      "Monitoração IRI Segmento\n",
      "Monitoração IRI Total\n",
      "Monitoração OAE ANTT\n",
      "Monitoração FWD\n"
     ]
    }
   ],
   "source": [
    "from tqdm.notebook import tqdm\n",
    "for ac in tqdm(occurrence):\n",
    "    for b in ac.form_fields['fields']:\n",
    "        if b['displayName'] == 'Pista':\n",
    "            print(ac.name)"
   ]
  },
  {
   "cell_type": "code",
   "execution_count": null,
   "id": "f0291979",
   "metadata": {},
   "outputs": [],
   "source": [
    "road=Road.objects.get()"
   ]
  },
  {
   "cell_type": "markdown",
   "id": "5cfafd8c",
   "metadata": {},
   "source": [
    "# Dados Classe para importação"
   ]
  },
  {
   "cell_type": "code",
   "execution_count": 2,
   "id": "c8fd9923",
   "metadata": {},
   "outputs": [],
   "source": [
    "company=Company.objects.get(name='CCR - Rio Sp')"
   ]
  },
  {
   "cell_type": "code",
   "execution_count": 4,
   "id": "044f449b",
   "metadata": {},
   "outputs": [
    {
     "data": {
      "text/plain": [
       "UUID('e7143be8-1733-44f8-b54f-a2e61b4615e4')"
      ]
     },
     "execution_count": 4,
     "metadata": {},
     "output_type": "execute_result"
    }
   ],
   "source": [
    "occ = OccurrenceType.objects.get(company=company,name='Monitoração Drenagem Profunda Elemento')\n",
    "occ.uuid"
   ]
  },
  {
   "cell_type": "code",
   "execution_count": 5,
   "id": "59dc8c7d",
   "metadata": {},
   "outputs": [],
   "source": [
    "import re\n",
    "\n",
    "def convert_string(string: str) -> str:\n",
    "    if '_' in string:\n",
    "        # Convert snake_case to camelCase\n",
    "        return re.sub(r'_([a-z])', lambda x: x.group(1).upper(), string)\n",
    "    else:\n",
    "        # Convert camelCase to snake_case\n",
    "        return re.sub(r'([A-Z])', lambda x: '_' + x.group(1).lower(), string)"
   ]
  },
  {
   "cell_type": "code",
   "execution_count": 6,
   "id": "ff4c2335",
   "metadata": {},
   "outputs": [
    {
     "name": "stdout",
     "output_type": "stream",
     "text": [
      "\"element\": a[\"Elemento\"]textArea\n",
      "\"hole_classification\": a[\"Estado Geral de Conservação da Caixa\"]select\n",
      "\"exclude_element\": a[\"Elemento Excluído\"]select\n",
      "\"exclusion_motive\": a[\"Motivo Exclusão\"]textArea\n",
      "\"latitude\": a[\"Latitude\"]float\n",
      "\"longitude\": a[\"Longitude\"]float\n",
      "\"zone\": a[\"Zona\"]select\n",
      "\"x_utm\": a[\"X UTM\"]float\n",
      "\"y_utm\": a[\"Y UTM\"]float\n",
      "\"entry_struc\": a[\"Estrutura Entrada\"]select\n",
      "\"ambient_mon\": a[\"Ambiente\"]select\n",
      "\"height\": a[\"Altura (m)\"]float\n",
      "\"width\": a[\"Largura (m)\"]float\n",
      "\"diameter\": a[\"Diâmetro (m)\"]float\n",
      "\"code\": a[\"Código\"]textArea\n",
      "\"material_rev_mont\": a[\"Material Revestimento\"]select\n",
      "\"description_mat\": a[\"Descrição do Material\"]textArea\n",
      "\"side_mont\": a[\"Lado\"]select\n",
      "\"is_domain_stripmon\": a[\"Está na faixa de domínio? \"]boolean\n",
      "\"works_drownmon\": a[\"Trabalha afogado? \"]boolean\n",
      "\"cleaningmon\": a[\"Limpeza \"]boolean\n",
      "\"rocada_mon\": a[\"Roçada \"]boolean\n",
      "\"desassoreamentomon\": a[\"Assoreado\"]boolean\n",
      "\"desobstrucaomon\": a[\"Afogado\"]boolean\n",
      "\"forehead_damagemon\": a[\"Testa ou ala danificada\"]boolean\n",
      "\"tube_damagemon\": a[\"Tubulação danificada\"]boolean\n",
      "\"box_damagemon\": a[\"Caixa danificada\"]boolean\n",
      "\"erosionmon\": a[\"Erosão\"]boolean\n",
      "\"brokenmon\": a[\"Fissuras/trincas\"]boolean\n",
      "\"cover_damagemon\": a[\"Tampa Danificada/Inexistente\"]boolean\n",
      "\"anomaly_interventions\": a[\"Anomalias\"]arrayOfObjects\n",
      "\t\"anomaly_description\": a[\"Descrição da Anomalia\"]select\n",
      "\t\"anomaly_place\": a[\"Local da Anomalia Identificada\"]select\n",
      "\t\"pictures_anomaly\": a[\"Foto da Anomalia\"]innerImagesArray\n",
      "\"photos_mon\": a[\"Fotos para relatório\"]arrayOfObjects\n",
      "\t\"panoramic_photos_mon\": a[\"Fotos Panorâmicas\"]innerImagesArray\n",
      "\t\"detail_photos_mon\": a[\"Fotos Detalhe\"]innerImagesArray\n"
     ]
    }
   ],
   "source": [
    "for a in occ.form_fields['fields']:\n",
    "    print(f'\"{convert_string(a[\"apiName\"])}\": a[\"{a[\"displayName\"]}\"]{a[\"dataType\"]}')\n",
    "    if a['dataType'] == 'arrayOfObjects':\n",
    "        for b in a['innerFields']:\n",
    "            print(f'\\t\"{convert_string(b[\"apiName\"])}\": a[\"{b[\"displayName\"]}\"]{b[\"dataType\"]}')"
   ]
  },
  {
   "cell_type": "markdown",
   "id": "516c5efa",
   "metadata": {
    "collapsed": true
   },
   "source": [
    "# Grupo de Classes com campo especifico"
   ]
  },
  {
   "cell_type": "code",
   "execution_count": 13,
   "id": "6eecdbad",
   "metadata": {},
   "outputs": [],
   "source": [
    "for occ in OccurrenceType.objects.filter(company=company):\n",
    "    for a in occ.form_fields['fields']:\n",
    "        if a['displayName'] == 'Pista':\n",
    "            print(occ.name)"
   ]
  },
  {
   "cell_type": "markdown",
   "id": "0cff424b",
   "metadata": {},
   "source": [
    "# Replace palavra em dicionario ou lista"
   ]
  },
  {
   "cell_type": "code",
   "execution_count": 23,
   "id": "bad91427",
   "metadata": {},
   "outputs": [],
   "source": [
    "def replace_word_in_dict(d, old_word, new_word):\n",
    "    if isinstance(d, dict):\n",
    "        for key, value in d.items():\n",
    "            if isinstance(value, str):\n",
    "                d[key] = value.replace(old_word, new_word)\n",
    "            elif isinstance(value, (dict, list)):\n",
    "                replace_word_in_dict(value, old_word, new_word)\n",
    "    elif isinstance(d, list):\n",
    "        for i, item in enumerate(d):\n",
    "            if isinstance(item, str):\n",
    "                d[i] = item.replace(old_word, new_word)\n",
    "            elif isinstance(item, (dict, list)):\n",
    "                replace_word_in_dict(item, old_word, new_word)"
   ]
  },
  {
   "cell_type": "code",
   "execution_count": 3,
   "id": "2affe1a7",
   "metadata": {},
   "outputs": [],
   "source": [
    "fs=FieldSurvey.objects.get(contract__uuid='1111ecd6-a189-46fb-89b4-e1fbd5cbaf7c',name='Avaliação do dia 17/08/2023 - Célula 01', approval_status='APPROVED_APPROVAL')"
   ]
  },
  {
   "cell_type": "code",
   "execution_count": 6,
   "id": "208488e4",
   "metadata": {},
   "outputs": [],
   "source": [
    "fs.approval_status = 'WAITING_APPROVAL'"
   ]
  },
  {
   "cell_type": "code",
   "execution_count": 7,
   "id": "253c6f91",
   "metadata": {},
   "outputs": [],
   "source": [
    "fs.save()"
   ]
  },
  {
   "cell_type": "code",
   "execution_count": 9,
   "id": "71ef8644",
   "metadata": {},
   "outputs": [
    {
     "data": {
      "text/plain": [
       "(10,\n",
       " {'resources.MeasurementBulletinExport': 9,\n",
       "  'service_orders.MeasurementBulletin': 1})"
      ]
     },
     "execution_count": 9,
     "metadata": {},
     "output_type": "execute_result"
    }
   ],
   "source": [
    "MeasurementBulletin.objects.get(uuid='1a0bff5d-fb93-42cd-8664-ab93813c1837').delete()"
   ]
  },
  {
   "cell_type": "code",
   "execution_count": 29,
   "id": "225f9ff0",
   "metadata": {},
   "outputs": [],
   "source": [
    "fs=FieldSurvey.objects.filter(contract__uuid='1111ecd6-a189-46fb-89b4-e1fbd5cbaf7c')"
   ]
  },
  {
   "cell_type": "code",
   "execution_count": 30,
   "id": "4efcf704",
   "metadata": {},
   "outputs": [
    {
     "data": {
      "text/plain": [
       "2"
      ]
     },
     "execution_count": 30,
     "metadata": {},
     "output_type": "execute_result"
    }
   ],
   "source": [
    "fs.count()"
   ]
  },
  {
   "cell_type": "code",
   "execution_count": 33,
   "id": "56c2e3cc",
   "metadata": {},
   "outputs": [
    {
     "data": {
      "text/plain": [
       "datetime.datetime(2023, 8, 30, 17, 29, 0, 430937, tzinfo=<UTC>)"
      ]
     },
     "execution_count": 33,
     "metadata": {},
     "output_type": "execute_result"
    }
   ],
   "source": [
    "fs[0].created_at"
   ]
  },
  {
   "cell_type": "code",
   "execution_count": 3,
   "id": "927dfe06",
   "metadata": {},
   "outputs": [
    {
     "data": {
      "text/plain": [
       "831"
      ]
     },
     "execution_count": 3,
     "metadata": {},
     "output_type": "execute_result"
    }
   ],
   "source": [
    "reps=Reporting.objects.filter(occurrence_type__uuid='79ac53f8-f265-4375-b920-040b13457b80',road_name='BR-116 SP')\n",
    "reps.count()"
   ]
  },
  {
   "cell_type": "code",
   "execution_count": 1,
   "id": "cde202b7",
   "metadata": {},
   "outputs": [],
   "source": [
    "from tqdm.notebook import tqdm\n",
    "from helpers.histories import bulk_update_with_history"
   ]
  },
  {
   "cell_type": "code",
   "execution_count": 2,
   "id": "94b8fa89",
   "metadata": {
    "collapsed": true
   },
   "outputs": [
    {
     "data": {
      "text/plain": [
       "(135,\n",
       " {'_state': <django.db.models.base.ModelState at 0x7f309b678510>,\n",
       "  'uuid': UUID('9c0bfbc6-a200-4338-9ca6-aa8ddaba61a5'),\n",
       "  'number': 'CCR-Inv-2023.36966',\n",
       "  'company_id': UUID('3af64f25-59e8-446b-bb1e-963549090b0d'),\n",
       "  'road_name': 'BR-101 RJ',\n",
       "  'road_id': 2040,\n",
       "  'km': 390.16,\n",
       "  'end_km': 390.1,\n",
       "  'km_reference': None,\n",
       "  'project_km': 0.0,\n",
       "  'project_end_km': 0.0,\n",
       "  'point': <Point object at 0x7f309b650c70>,\n",
       "  'direction': '1',\n",
       "  'lane': '99',\n",
       "  'track': None,\n",
       "  'branch': None,\n",
       "  'address': {},\n",
       "  'created_by_id': UUID('58957d33-0adc-4ee9-a333-506dd826ac37'),\n",
       "  'firm_id': UUID('8e3f277d-cd02-444f-a49b-c8d724f92c9d'),\n",
       "  'occurrence_type_id': UUID('d7153fa0-7a64-40d8-8a8f-ee473eb406b3'),\n",
       "  'form_data': {'ficha_barreira_nj': 'BC 101 RJ 390+160 S 1',\n",
       "   'x_utm_barreira_nj': 635712.26,\n",
       "   'y_utm_barreira_nj': 7467618.04,\n",
       "   'height_barreira_nj': 0.92,\n",
       "   'length_barreira_nj': 60.0,\n",
       "   'latitude_barreira_nj': -22.882017,\n",
       "   'zona_utm_barreira_nj': '23K',\n",
       "   'longitude_barreira_nj': -43.6374,\n",
       "   'refletores_barreira_nj': '1',\n",
       "   'dispositivo_barreira_nj': '2',\n",
       "   'x_utm_barreira_nj_saida': 635712.26,\n",
       "   'y_utm_barreira_nj_saida': 7467618.04,\n",
       "   'cor_refletores_barreira_nj': '2',\n",
       "   'latitude_barreira_nj_saida': -22.882017,\n",
       "   'longitude_barreira_nj_saida': -43.6374,\n",
       "   'refletores_barreira_nj_saida': '1',\n",
       "   'tipo_dispositivo_barreira_nj': '1',\n",
       "   'elemento_refletivo_barreira_nj': True,\n",
       "   'cor_refletores_barreira_nj_saida': '2',\n",
       "   'elemento_refletivo_barreira_nj_saida': True},\n",
       "  'form_metadata': {'ficha_barreira_nj': {'manually_specified': True}},\n",
       "  'executed_at': datetime.datetime(2022, 12, 5, 3, 0, tzinfo=<UTC>),\n",
       "  'created_at': datetime.datetime(2023, 8, 30, 14, 24, 14, 404371, tzinfo=<UTC>),\n",
       "  'updated_at': datetime.datetime(2023, 8, 30, 14, 24, 14, 404389, tzinfo=<UTC>),\n",
       "  'found_at': datetime.datetime(2022, 12, 5, 3, 0, tzinfo=<UTC>),\n",
       "  'due_at': None,\n",
       "  'status_id': UUID('e2001078-3039-4ace-af1d-642c03fe0be2'),\n",
       "  'job_id': None,\n",
       "  'parent_id': None,\n",
       "  'active_inspection_id': None,\n",
       "  'due_at_manually_specified': False,\n",
       "  'end_km_manually_specified': True,\n",
       "  'project_end_km_manually_specified': False,\n",
       "  'editable': True,\n",
       "  'approval_step_id': UUID('a3136f17-7545-47e2-aee6-4221db062c34'),\n",
       "  'keywords': 'BC 101 RJ 390+160 S 1 -22.882017 -43.6374 635712.26 7467618.04 23K Barreira Rígida de Concreto Móvel Monodirecional Branco 60.0 0.92',\n",
       "  'lot': '4',\n",
       "  'technical_opinion': None,\n",
       "  'construction_id': None,\n",
       "  'pdf_import_id': None,\n",
       "  '_fieldsignals_originals': {(139847060593168,\n",
       "    139846747973536): {'uuid': UUID('9c0bfbc6-a200-4338-9ca6-aa8ddaba61a5'), 'number': 'CCR-Inv-2023.36966', 'company': UUID('3af64f25-59e8-446b-bb1e-963549090b0d'), 'road_name': 'BR-101 RJ', 'road': 2040, 'km': 390.16, 'end_km': 390.1, 'project_km': 0.0, 'project_end_km': 0.0, 'point': <Point object at 0x7f309b64c760>, 'direction': '1', 'lane': '99', 'address': {}, 'created_by': UUID('58957d33-0adc-4ee9-a333-506dd826ac37'), 'firm': UUID('8e3f277d-cd02-444f-a49b-c8d724f92c9d'), 'occurrence_type': UUID('d7153fa0-7a64-40d8-8a8f-ee473eb406b3'), 'form_data': {'ficha_barreira_nj': 'BC 101 RJ 390+160 S 1',\n",
       "     'x_utm_barreira_nj': 635712.26,\n",
       "     'y_utm_barreira_nj': 7467618.04,\n",
       "     'height_barreira_nj': 0.92,\n",
       "     'length_barreira_nj': 60.0,\n",
       "     'latitude_barreira_nj': -22.882017,\n",
       "     'zona_utm_barreira_nj': '23K',\n",
       "     'longitude_barreira_nj': -43.6374,\n",
       "     'refletores_barreira_nj': '1',\n",
       "     'dispositivo_barreira_nj': '2',\n",
       "     'x_utm_barreira_nj_saida': 635712.26,\n",
       "     'y_utm_barreira_nj_saida': 7467618.04,\n",
       "     'cor_refletores_barreira_nj': '2',\n",
       "     'latitude_barreira_nj_saida': -22.882017,\n",
       "     'longitude_barreira_nj_saida': -43.6374,\n",
       "     'refletores_barreira_nj_saida': '1',\n",
       "     'tipo_dispositivo_barreira_nj': '1',\n",
       "     'elemento_refletivo_barreira_nj': True,\n",
       "     'cor_refletores_barreira_nj_saida': '2',\n",
       "     'elemento_refletivo_barreira_nj_saida': True}, 'form_metadata': {'ficha_barreira_nj': {'manually_specified': True}}, 'executed_at': datetime.datetime(2022, 12, 5, 3, 0, tzinfo=<UTC>), 'created_at': datetime.datetime(2023, 8, 30, 14, 24, 14, 404371, tzinfo=<UTC>), 'updated_at': datetime.datetime(2023, 8, 30, 14, 24, 14, 404389, tzinfo=<UTC>), 'found_at': datetime.datetime(2022, 12, 5, 3, 0, tzinfo=<UTC>), 'status': UUID('e2001078-3039-4ace-af1d-642c03fe0be2'), 'due_at_manually_specified': False, 'end_km_manually_specified': True, 'project_end_km_manually_specified': False, 'editable': True, 'approval_step': UUID('a3136f17-7545-47e2-aee6-4221db062c34'), 'keywords': 'BC 101 RJ 390+160 S 1 -22.882017 -43.6374 635712.26 7467618.04 23K Barreira Rígida de Concreto Móvel Monodirecional Branco 60.0 0.92', 'lot': '4'},\n",
       "   (139847060593040,\n",
       "    139846747366176): {'uuid': UUID('9c0bfbc6-a200-4338-9ca6-aa8ddaba61a5'), 'number': 'CCR-Inv-2023.36966', 'company': UUID('3af64f25-59e8-446b-bb1e-963549090b0d'), 'road_name': 'BR-101 RJ', 'road': 2040, 'km': 390.16, 'end_km': 390.1, 'project_km': 0.0, 'project_end_km': 0.0, 'point': <Point object at 0x7f309b7de1c0>, 'direction': '1', 'lane': '99', 'address': {}, 'created_by': UUID('58957d33-0adc-4ee9-a333-506dd826ac37'), 'firm': UUID('8e3f277d-cd02-444f-a49b-c8d724f92c9d'), 'occurrence_type': UUID('d7153fa0-7a64-40d8-8a8f-ee473eb406b3'), 'form_data': {'ficha_barreira_nj': 'BC 101 RJ 390+160 S 1',\n",
       "     'x_utm_barreira_nj': 635712.26,\n",
       "     'y_utm_barreira_nj': 7467618.04,\n",
       "     'height_barreira_nj': 0.92,\n",
       "     'length_barreira_nj': 60.0,\n",
       "     'latitude_barreira_nj': -22.882017,\n",
       "     'zona_utm_barreira_nj': '23K',\n",
       "     'longitude_barreira_nj': -43.6374,\n",
       "     'refletores_barreira_nj': '1',\n",
       "     'dispositivo_barreira_nj': '2',\n",
       "     'x_utm_barreira_nj_saida': 635712.26,\n",
       "     'y_utm_barreira_nj_saida': 7467618.04,\n",
       "     'cor_refletores_barreira_nj': '2',\n",
       "     'latitude_barreira_nj_saida': -22.882017,\n",
       "     'longitude_barreira_nj_saida': -43.6374,\n",
       "     'refletores_barreira_nj_saida': '1',\n",
       "     'tipo_dispositivo_barreira_nj': '1',\n",
       "     'elemento_refletivo_barreira_nj': True,\n",
       "     'cor_refletores_barreira_nj_saida': '2',\n",
       "     'elemento_refletivo_barreira_nj_saida': True}, 'form_metadata': {'ficha_barreira_nj': {'manually_specified': True}}, 'executed_at': datetime.datetime(2022, 12, 5, 3, 0, tzinfo=<UTC>), 'created_at': datetime.datetime(2023, 8, 30, 14, 24, 14, 404371, tzinfo=<UTC>), 'updated_at': datetime.datetime(2023, 8, 30, 14, 24, 14, 404389, tzinfo=<UTC>), 'found_at': datetime.datetime(2022, 12, 5, 3, 0, tzinfo=<UTC>), 'status': UUID('e2001078-3039-4ace-af1d-642c03fe0be2'), 'due_at_manually_specified': False, 'end_km_manually_specified': True, 'project_end_km_manually_specified': False, 'editable': True, 'approval_step': UUID('a3136f17-7545-47e2-aee6-4221db062c34'), 'keywords': 'BC 101 RJ 390+160 S 1 -22.882017 -43.6374 635712.26 7467618.04 23K Barreira Rígida de Concreto Móvel Monodirecional Branco 60.0 0.92', 'lot': '4'}}})"
      ]
     },
     "execution_count": 2,
     "metadata": {},
     "output_type": "execute_result"
    }
   ],
   "source": [
    "user=User.objects.get(username=\"rlcs\")\n",
    "reps=Reporting.objects.filter(occurrence_type__name='Barreira New Jersey',road_name__startswith=\"BR-101\")\n",
    "reps.count(),reps[0].__dict__"
   ]
  },
  {
   "cell_type": "code",
   "execution_count": 5,
   "id": "76e5bd04",
   "metadata": {},
   "outputs": [
    {
     "data": {
      "application/vnd.jupyter.widget-view+json": {
       "model_id": "ef4f235ac589433f9465892dd391fd54",
       "version_major": 2,
       "version_minor": 0
      },
      "text/plain": [
       "  0%|          | 0/649 [00:00<?, ?it/s]"
      ]
     },
     "metadata": {},
     "output_type": "display_data"
    }
   ],
   "source": [
    "rep_edit=[]\n",
    "for a in tqdm(reps):\n",
    "    if a.form_data.get('height'):\n",
    "        a.form_data['heightM']=a.form_data.pop('height')\n",
    "        rep_edit.append(a)"
   ]
  },
  {
   "cell_type": "code",
   "execution_count": 7,
   "id": "16d2ce57",
   "metadata": {},
   "outputs": [],
   "source": [
    "apontamentos = bulk_update_with_history(rep_edit,Reporting, use_django_bulk=True,batch_size=1200,user=user)"
   ]
  },
  {
   "cell_type": "code",
   "execution_count": 3,
   "id": "7d1c5e42",
   "metadata": {},
   "outputs": [
    {
     "data": {
      "application/vnd.jupyter.widget-view+json": {
       "model_id": "0f1aa419b55745f1b939eb98957597d3",
       "version_major": 2,
       "version_minor": 0
      },
      "text/plain": [
       "  0%|          | 0/135 [00:00<?, ?it/s]"
      ]
     },
     "metadata": {},
     "output_type": "display_data"
    }
   ],
   "source": [
    "rep_edit=[]\n",
    "for a in tqdm(reps):\n",
    "    if a.form_data.get('x_utm_barreira_nj_saida'):\n",
    "        a.form_data['x_utm_barreira_nj_saida']=''\n",
    "    if a.form_data.get('y_utm_barreira_nj_saida'):\n",
    "        a.form_data['y_utm_barreira_nj_saida']=''\n",
    "    if a.form_data.get('latitude_barreira_nj_saida'):\n",
    "        a.form_data['latitude_barreira_nj_saida']=''\n",
    "    if a.form_data.get('longitude_barreira_nj_saida'):\n",
    "        a.form_data['longitude_barreira_nj_saida']=''\n",
    "    rep_edit.append(a)"
   ]
  },
  {
   "cell_type": "code",
   "execution_count": 9,
   "id": "9741078a",
   "metadata": {
    "collapsed": true
   },
   "outputs": [
    {
     "data": {
      "text/plain": [
       "{'_state': <django.db.models.base.ModelState at 0x7fcb314ac610>,\n",
       " 'uuid': UUID('41997ec5-6045-40b0-9f7c-094cc13e7f0c'),\n",
       " 'number': 'CCR-Inv-2023.53333',\n",
       " 'company_id': UUID('3af64f25-59e8-446b-bb1e-963549090b0d'),\n",
       " 'road_name': 'BR-116 SP',\n",
       " 'road_id': 1,\n",
       " 'km': 124.2,\n",
       " 'end_km': 124.49,\n",
       " 'km_reference': None,\n",
       " 'project_km': 0.0,\n",
       " 'project_end_km': 0.0,\n",
       " 'point': <Point object at 0x7fcb2de83d90>,\n",
       " 'direction': '1',\n",
       " 'lane': '99',\n",
       " 'track': None,\n",
       " 'branch': None,\n",
       " 'address': {},\n",
       " 'created_by_id': UUID('d8b9a477-aab9-4c08-815b-521e6c06a9ad'),\n",
       " 'firm_id': UUID('8e3f277d-cd02-444f-a49b-c8d724f92c9d'),\n",
       " 'occurrence_type_id': UUID('d7153fa0-7a64-40d8-8a8f-ee473eb406b3'),\n",
       " 'form_data': {'ficha_barreira_nj': 'BC 116 SP 124+200 S 1',\n",
       "  'pista_barreira_nj': '2',\n",
       "  'x_utm_barreira_nj': 430693.7,\n",
       "  'y_utm_barreira_nj': 7446123.09,\n",
       "  'height_barreira_nj': 0.85,\n",
       "  'length_barreira_nj': 290.0,\n",
       "  'dispositivo_entrada': False,\n",
       "  'latitude_barreira_nj': -23.09211,\n",
       "  'zona_utm_barreira_nj': '23K',\n",
       "  'longitude_barreira_nj': -45.67673,\n",
       "  'refletores_barreira_nj': '1',\n",
       "  'dispositivo_barreira_nj': '2',\n",
       "  'x_utm_barreira_nj_saida': '',\n",
       "  'y_utm_barreira_nj_saida': '',\n",
       "  'cor_refletores_barreira_nj': '2',\n",
       "  'latitude_barreira_nj_saida': '',\n",
       "  'longitude_barreira_nj_saida': '',\n",
       "  'refletores_barreira_nj_saida': '1',\n",
       "  'tipo_dispositivo_barreira_nj': '1',\n",
       "  'elemento_refletivo_barreira_nj': True,\n",
       "  'cor_refletores_barreira_nj_saida': '2',\n",
       "  'elemento_refletivo_barreira_nj_saida': True},\n",
       " 'form_metadata': {'ficha_barreira_nj': {'manually_specified': True}},\n",
       " 'executed_at': datetime.datetime(2022, 12, 1, 3, 0, tzinfo=<UTC>),\n",
       " 'created_at': datetime.datetime(2023, 9, 12, 15, 18, 24, 623755, tzinfo=<UTC>),\n",
       " 'updated_at': datetime.datetime(2023, 9, 12, 15, 18, 24, 623770, tzinfo=<UTC>),\n",
       " 'found_at': datetime.datetime(2022, 12, 1, 3, 0, tzinfo=<UTC>),\n",
       " 'due_at': None,\n",
       " 'status_id': UUID('e2001078-3039-4ace-af1d-642c03fe0be2'),\n",
       " 'job_id': None,\n",
       " 'parent_id': None,\n",
       " 'active_inspection_id': None,\n",
       " 'due_at_manually_specified': False,\n",
       " 'end_km_manually_specified': True,\n",
       " 'project_end_km_manually_specified': False,\n",
       " 'editable': True,\n",
       " 'approval_step_id': UUID('a3136f17-7545-47e2-aee6-4221db062c34'),\n",
       " 'keywords': 'BC 116 SP 124+200 S 1 Sul -23.09211 -45.67673 430693.7 7446123.09 23K Barreira Rígida de Concreto Móvel Monodirecional Branco 290.0 0.85',\n",
       " 'lot': '2',\n",
       " 'technical_opinion': None,\n",
       " 'construction_id': None,\n",
       " 'pdf_import_id': None,\n",
       " '_fieldsignals_originals': {(140511081306768,\n",
       "   140510702630816): {'uuid': UUID('41997ec5-6045-40b0-9f7c-094cc13e7f0c'), 'number': 'CCR-Inv-2023.53333', 'company': UUID('3af64f25-59e8-446b-bb1e-963549090b0d'), 'road_name': 'BR-116 SP', 'road': 1, 'km': 124.2, 'end_km': 124.49, 'project_km': 0.0, 'project_end_km': 0.0, 'point': <Point object at 0x7fcb2f5fab50>, 'direction': '1', 'lane': '99', 'address': {}, 'created_by': UUID('d8b9a477-aab9-4c08-815b-521e6c06a9ad'), 'firm': UUID('8e3f277d-cd02-444f-a49b-c8d724f92c9d'), 'occurrence_type': UUID('d7153fa0-7a64-40d8-8a8f-ee473eb406b3'), 'form_data': {'ficha_barreira_nj': 'BC 116 SP 124+200 S 1',\n",
       "    'pista_barreira_nj': '2',\n",
       "    'x_utm_barreira_nj': 430693.7,\n",
       "    'y_utm_barreira_nj': 7446123.09,\n",
       "    'height_barreira_nj': 0.85,\n",
       "    'length_barreira_nj': 290.0,\n",
       "    'dispositivo_entrada': False,\n",
       "    'latitude_barreira_nj': -23.09211,\n",
       "    'zona_utm_barreira_nj': '23K',\n",
       "    'longitude_barreira_nj': -45.67673,\n",
       "    'refletores_barreira_nj': '1',\n",
       "    'dispositivo_barreira_nj': '2',\n",
       "    'x_utm_barreira_nj_saida': 430693.7,\n",
       "    'y_utm_barreira_nj_saida': 7446123.09,\n",
       "    'cor_refletores_barreira_nj': '2',\n",
       "    'latitude_barreira_nj_saida': -23.09211,\n",
       "    'longitude_barreira_nj_saida': -45.67673,\n",
       "    'refletores_barreira_nj_saida': '1',\n",
       "    'tipo_dispositivo_barreira_nj': '1',\n",
       "    'elemento_refletivo_barreira_nj': True,\n",
       "    'cor_refletores_barreira_nj_saida': '2',\n",
       "    'elemento_refletivo_barreira_nj_saida': True}, 'form_metadata': {'ficha_barreira_nj': {'manually_specified': True}}, 'executed_at': datetime.datetime(2022, 12, 1, 3, 0, tzinfo=<UTC>), 'created_at': datetime.datetime(2023, 9, 12, 15, 18, 24, 623755, tzinfo=<UTC>), 'updated_at': datetime.datetime(2023, 9, 12, 15, 18, 24, 623770, tzinfo=<UTC>), 'found_at': datetime.datetime(2022, 12, 1, 3, 0, tzinfo=<UTC>), 'status': UUID('e2001078-3039-4ace-af1d-642c03fe0be2'), 'due_at_manually_specified': False, 'end_km_manually_specified': True, 'project_end_km_manually_specified': False, 'editable': True, 'approval_step': UUID('a3136f17-7545-47e2-aee6-4221db062c34'), 'keywords': 'BC 116 SP 124+200 S 1 Sul -23.09211 -45.67673 430693.7 7446123.09 23K Barreira Rígida de Concreto Móvel Monodirecional Branco 290.0 0.85', 'lot': '2'},\n",
       "  (140511081306640,\n",
       "   140510699660064): {'uuid': UUID('41997ec5-6045-40b0-9f7c-094cc13e7f0c'), 'number': 'CCR-Inv-2023.53333', 'company': UUID('3af64f25-59e8-446b-bb1e-963549090b0d'), 'road_name': 'BR-116 SP', 'road': 1, 'km': 124.2, 'end_km': 124.49, 'project_km': 0.0, 'project_end_km': 0.0, 'point': <Point object at 0x7fcb2f5fad90>, 'direction': '1', 'lane': '99', 'address': {}, 'created_by': UUID('d8b9a477-aab9-4c08-815b-521e6c06a9ad'), 'firm': UUID('8e3f277d-cd02-444f-a49b-c8d724f92c9d'), 'occurrence_type': UUID('d7153fa0-7a64-40d8-8a8f-ee473eb406b3'), 'form_data': {'ficha_barreira_nj': 'BC 116 SP 124+200 S 1',\n",
       "    'pista_barreira_nj': '2',\n",
       "    'x_utm_barreira_nj': 430693.7,\n",
       "    'y_utm_barreira_nj': 7446123.09,\n",
       "    'height_barreira_nj': 0.85,\n",
       "    'length_barreira_nj': 290.0,\n",
       "    'dispositivo_entrada': False,\n",
       "    'latitude_barreira_nj': -23.09211,\n",
       "    'zona_utm_barreira_nj': '23K',\n",
       "    'longitude_barreira_nj': -45.67673,\n",
       "    'refletores_barreira_nj': '1',\n",
       "    'dispositivo_barreira_nj': '2',\n",
       "    'x_utm_barreira_nj_saida': 430693.7,\n",
       "    'y_utm_barreira_nj_saida': 7446123.09,\n",
       "    'cor_refletores_barreira_nj': '2',\n",
       "    'latitude_barreira_nj_saida': -23.09211,\n",
       "    'longitude_barreira_nj_saida': -45.67673,\n",
       "    'refletores_barreira_nj_saida': '1',\n",
       "    'tipo_dispositivo_barreira_nj': '1',\n",
       "    'elemento_refletivo_barreira_nj': True,\n",
       "    'cor_refletores_barreira_nj_saida': '2',\n",
       "    'elemento_refletivo_barreira_nj_saida': True}, 'form_metadata': {'ficha_barreira_nj': {'manually_specified': True}}, 'executed_at': datetime.datetime(2022, 12, 1, 3, 0, tzinfo=<UTC>), 'created_at': datetime.datetime(2023, 9, 12, 15, 18, 24, 623755, tzinfo=<UTC>), 'updated_at': datetime.datetime(2023, 9, 12, 15, 18, 24, 623770, tzinfo=<UTC>), 'found_at': datetime.datetime(2022, 12, 1, 3, 0, tzinfo=<UTC>), 'status': UUID('e2001078-3039-4ace-af1d-642c03fe0be2'), 'due_at_manually_specified': False, 'end_km_manually_specified': True, 'project_end_km_manually_specified': False, 'editable': True, 'approval_step': UUID('a3136f17-7545-47e2-aee6-4221db062c34'), 'keywords': 'BC 116 SP 124+200 S 1 Sul -23.09211 -45.67673 430693.7 7446123.09 23K Barreira Rígida de Concreto Móvel Monodirecional Branco 290.0 0.85', 'lot': '2'}}}"
      ]
     },
     "execution_count": 9,
     "metadata": {},
     "output_type": "execute_result"
    }
   ],
   "source": [
    "rep_edit[0].__dict__"
   ]
  },
  {
   "cell_type": "code",
   "execution_count": 4,
   "id": "2c6507f7",
   "metadata": {},
   "outputs": [],
   "source": [
    "apontamentos = bulk_update_with_history(rep_edit,Reporting, use_django_bulk=True,batch_size=1200,user=user)"
   ]
  },
  {
   "cell_type": "code",
   "execution_count": 6,
   "id": "d3ccf013",
   "metadata": {},
   "outputs": [
    {
     "data": {
      "text/plain": [
       "43662"
      ]
     },
     "execution_count": 6,
     "metadata": {},
     "output_type": "execute_result"
    }
   ],
   "source": [
    "Reporting.objects.filter(occurrence_type__occurrence_kind=2).count()"
   ]
  },
  {
   "cell_type": "code",
   "execution_count": 2,
   "id": "396574e5",
   "metadata": {},
   "outputs": [
    {
     "data": {
      "text/plain": [
       "'S'"
      ]
     },
     "execution_count": 2,
     "metadata": {},
     "output_type": "execute_result"
    }
   ],
   "source": [
    "traduzirDirectionValue('1')[0]"
   ]
  },
  {
   "cell_type": "code",
   "execution_count": 36,
   "id": "8752a3ff",
   "metadata": {},
   "outputs": [
    {
     "data": {
      "text/plain": [
       "'OC 101 RJ 469+940 S'"
      ]
     },
     "execution_count": 36,
     "metadata": {},
     "output_type": "execute_result"
    }
   ],
   "source": [
    "f'''{reps[0].occurrence_type.name[:2].upper()} {reps[0].road_name[3:]} {str(reps[0].km).replace(\",\",\"+\").replace(\".\",\"+\") if len(str(reps[0].km).split('.')[1]) == 3 else str(reps[0].km).replace(\",\",\"+\").replace(\".\",\"+\")+'0'} {traduzirDirectionValue(reps[0].direction)[0]}'''"
   ]
  },
  {
   "cell_type": "code",
   "execution_count": 3,
   "id": "ace3ac5d",
   "metadata": {},
   "outputs": [],
   "source": [
    "from tqdm.notebook import tqdm\n",
    "import json\n",
    "from json_logic import jsonLogic\n",
    "from helpers.serializers import get_obj_serialized"
   ]
  },
  {
   "cell_type": "code",
   "execution_count": 4,
   "id": "f6fae1dd",
   "metadata": {},
   "outputs": [
    {
     "data": {
      "application/vnd.jupyter.widget-view+json": {
       "model_id": "5e1679057af24817ab268e8782d5e2f0",
       "version_major": 2,
       "version_minor": 0
      },
      "text/plain": [
       "  0%|          | 0/36692 [00:00<?, ?it/s]"
      ]
     },
     "metadata": {},
     "output_type": "display_data"
    }
   ],
   "source": [
    "reps=[]\n",
    "for a in tqdm(Reporting.objects.all()):\n",
    "    if 'id_ccr_antt' not in a.form_data or a.form_data.get('id_ccr_antt') == \"\":\n",
    "        reps.append(a)"
   ]
  },
  {
   "cell_type": "code",
   "execution_count": 5,
   "id": "acdfe9ab",
   "metadata": {
    "collapsed": true
   },
   "outputs": [
    {
     "data": {
      "text/plain": [
       "(24101,\n",
       " {'_state': <django.db.models.base.ModelState at 0x7f41fc703650>,\n",
       "  'uuid': UUID('8e490aae-4270-4dd5-aaad-7ebc1de119f4'),\n",
       "  'number': 'CCR-Inv-2023.05559',\n",
       "  'company_id': UUID('3af64f25-59e8-446b-bb1e-963549090b0d'),\n",
       "  'road_name': 'BR-101 RJ',\n",
       "  'road_id': 2040,\n",
       "  'km': 473.124,\n",
       "  'end_km': 473.124,\n",
       "  'km_reference': None,\n",
       "  'project_km': 0.0,\n",
       "  'project_end_km': 0.0,\n",
       "  'point': <Point object at 0x7f41adb61c70>,\n",
       "  'direction': '1',\n",
       "  'lane': '99',\n",
       "  'track': None,\n",
       "  'branch': None,\n",
       "  'address': {},\n",
       "  'created_by_id': UUID('58957d33-0adc-4ee9-a333-506dd826ac37'),\n",
       "  'firm_id': UUID('c51e2071-67ca-44ff-ad4a-4a005cf95591'),\n",
       "  'occurrence_type_id': UUID('3f6988f9-1574-4843-b0b7-d31614bde620'),\n",
       "  'form_data': {'uf': 'RJ',\n",
       "   'city': 'Angra do Reis',\n",
       "   'kindedificacao_inventario': 'Posto de Polícia Rodoviária',\n",
       "   'sideedificacao_inventario': '2',\n",
       "   'localedificacao_inventario': '30',\n",
       "   'notesedificacao_inventario': 'Coordenadas UTM - Zona: 23K - E1: 0577709; N1: 7457426.\\n\\nEdificação sem acesso para inspeção interna devido a ausência de funcionários no dia da inspeção.\\nAs fundações encontram-se enterradas, portanto, não foi possível inspecioná-las.',\n",
       "   'x_startedificacao_inventario': 577709.0,\n",
       "   'y_startedificacao_inventario': 7457426.0,\n",
       "   'utm_zoneedificacao_inventario': '1',\n",
       "   'descriptionedificacao_inventario': 'Identificação: PRF. Trata-se de um posto operacional da PRF, composto pela Sala Principal, Hall, Copa, Dormitórios, Vestiário, Sanitários externos e internos, Sanitário externo PNE, Estacionamento Coberto e Reservatório Elevado.',\n",
       "   'edified_areaedificacao_inventario': 173.25,\n",
       "   'parking_areaedificacao_inventario': 39.6,\n",
       "   'numero_edificiosedificacao_inventario': 1,\n",
       "   'construction_kindedificacao_inventario': '1',\n",
       "   'other_constructionedificacao_inventario': '-',\n",
       "   'covered_parking_areaedificacao_inventario': 39.6},\n",
       "  'form_metadata': {'uf': {'manually_specified': True},\n",
       "   'city': {'manually_specified': False},\n",
       "   'id_ccr_antt': {'manually_specified': False}},\n",
       "  'executed_at': None,\n",
       "  'created_at': datetime.datetime(2023, 8, 2, 17, 6, 27, 449629, tzinfo=<UTC>),\n",
       "  'updated_at': datetime.datetime(2023, 8, 3, 1, 53, 57, 188025, tzinfo=<UTC>),\n",
       "  'found_at': datetime.datetime(2022, 12, 6, 3, 0, tzinfo=<UTC>),\n",
       "  'due_at': None,\n",
       "  'status_id': UUID('e2001078-3039-4ace-af1d-642c03fe0be2'),\n",
       "  'job_id': None,\n",
       "  'parent_id': None,\n",
       "  'active_inspection_id': None,\n",
       "  'due_at_manually_specified': False,\n",
       "  'end_km_manually_specified': False,\n",
       "  'project_end_km_manually_specified': False,\n",
       "  'editable': True,\n",
       "  'approval_step_id': UUID('a3136f17-7545-47e2-aee6-4221db062c34'),\n",
       "  'keywords': 'Angra do Reis 1 23K 577709.0 7457426.0 Posto de Polícia Rodoviária Angra dos Reis RJ Direito Identificação: PRF. Trata-se de um posto operacional da PRF, composto pela Sala Principal, Hall, Copa, Dormitórios, Vestiário, Sanitários externos e internos, Sanitário externo PNE, Estacionamento Coberto e Reservatório Elevado. Estrutura de concreto armado com fechamento de alvenaria - 173.25 39.6 Coordenadas UTM - Zona: 23K - E1: 0577709; N1: 7457426.\\n\\nEdificação sem acesso para inspeção interna devido a ausência de funcionários no dia da inspeção.\\nAs fundações encontram-se enterradas, portanto, não foi possível inspecioná-las.',\n",
       "  'lot': '2',\n",
       "  'technical_opinion': None,\n",
       "  'construction_id': None,\n",
       "  'pdf_import_id': None,\n",
       "  '_fieldsignals_originals': {(139921007740944,\n",
       "    139920560214240): {'uuid': UUID('8e490aae-4270-4dd5-aaad-7ebc1de119f4'), 'number': 'CCR-Inv-2023.05559', 'company': UUID('3af64f25-59e8-446b-bb1e-963549090b0d'), 'road_name': 'BR-101 RJ', 'road': 2040, 'km': 473.124, 'end_km': 473.124, 'project_km': 0.0, 'project_end_km': 0.0, 'point': <Point object at 0x7f41adb61f40>, 'direction': '1', 'lane': '99', 'address': {}, 'created_by': UUID('58957d33-0adc-4ee9-a333-506dd826ac37'), 'firm': UUID('c51e2071-67ca-44ff-ad4a-4a005cf95591'), 'occurrence_type': UUID('3f6988f9-1574-4843-b0b7-d31614bde620'), 'form_data': {'uf': 'RJ',\n",
       "     'city': 'Angra do Reis',\n",
       "     'kindedificacao_inventario': 'Posto de Polícia Rodoviária',\n",
       "     'sideedificacao_inventario': '2',\n",
       "     'localedificacao_inventario': '30',\n",
       "     'notesedificacao_inventario': 'Coordenadas UTM - Zona: 23K - E1: 0577709; N1: 7457426.\\n\\nEdificação sem acesso para inspeção interna devido a ausência de funcionários no dia da inspeção.\\nAs fundações encontram-se enterradas, portanto, não foi possível inspecioná-las.',\n",
       "     'x_startedificacao_inventario': 577709.0,\n",
       "     'y_startedificacao_inventario': 7457426.0,\n",
       "     'utm_zoneedificacao_inventario': '1',\n",
       "     'descriptionedificacao_inventario': 'Identificação: PRF. Trata-se de um posto operacional da PRF, composto pela Sala Principal, Hall, Copa, Dormitórios, Vestiário, Sanitários externos e internos, Sanitário externo PNE, Estacionamento Coberto e Reservatório Elevado.',\n",
       "     'edified_areaedificacao_inventario': 173.25,\n",
       "     'parking_areaedificacao_inventario': 39.6,\n",
       "     'numero_edificiosedificacao_inventario': 1,\n",
       "     'construction_kindedificacao_inventario': '1',\n",
       "     'other_constructionedificacao_inventario': '-',\n",
       "     'covered_parking_areaedificacao_inventario': 39.6}, 'form_metadata': {'uf': {'manually_specified': True},\n",
       "     'city': {'manually_specified': False},\n",
       "     'id_ccr_antt': {'manually_specified': False}}, 'created_at': datetime.datetime(2023, 8, 2, 17, 6, 27, 449629, tzinfo=<UTC>), 'updated_at': datetime.datetime(2023, 8, 3, 1, 53, 57, 188025, tzinfo=<UTC>), 'found_at': datetime.datetime(2022, 12, 6, 3, 0, tzinfo=<UTC>), 'status': UUID('e2001078-3039-4ace-af1d-642c03fe0be2'), 'due_at_manually_specified': False, 'end_km_manually_specified': False, 'project_end_km_manually_specified': False, 'editable': True, 'approval_step': UUID('a3136f17-7545-47e2-aee6-4221db062c34'), 'keywords': 'Angra do Reis 1 23K 577709.0 7457426.0 Posto de Polícia Rodoviária Angra dos Reis RJ Direito Identificação: PRF. Trata-se de um posto operacional da PRF, composto pela Sala Principal, Hall, Copa, Dormitórios, Vestiário, Sanitários externos e internos, Sanitário externo PNE, Estacionamento Coberto e Reservatório Elevado. Estrutura de concreto armado com fechamento de alvenaria - 173.25 39.6 Coordenadas UTM - Zona: 23K - E1: 0577709; N1: 7457426.\\n\\nEdificação sem acesso para inspeção interna devido a ausência de funcionários no dia da inspeção.\\nAs fundações encontram-se enterradas, portanto, não foi possível inspecioná-las.', 'lot': '2'},\n",
       "   (139921007740816,\n",
       "    139920556701888): {'uuid': UUID('8e490aae-4270-4dd5-aaad-7ebc1de119f4'), 'number': 'CCR-Inv-2023.05559', 'company': UUID('3af64f25-59e8-446b-bb1e-963549090b0d'), 'road_name': 'BR-101 RJ', 'road': 2040, 'km': 473.124, 'end_km': 473.124, 'project_km': 0.0, 'project_end_km': 0.0, 'point': <Point object at 0x7f41adb1e1c0>, 'direction': '1', 'lane': '99', 'address': {}, 'created_by': UUID('58957d33-0adc-4ee9-a333-506dd826ac37'), 'firm': UUID('c51e2071-67ca-44ff-ad4a-4a005cf95591'), 'occurrence_type': UUID('3f6988f9-1574-4843-b0b7-d31614bde620'), 'form_data': {'uf': 'RJ',\n",
       "     'city': 'Angra do Reis',\n",
       "     'kindedificacao_inventario': 'Posto de Polícia Rodoviária',\n",
       "     'sideedificacao_inventario': '2',\n",
       "     'localedificacao_inventario': '30',\n",
       "     'notesedificacao_inventario': 'Coordenadas UTM - Zona: 23K - E1: 0577709; N1: 7457426.\\n\\nEdificação sem acesso para inspeção interna devido a ausência de funcionários no dia da inspeção.\\nAs fundações encontram-se enterradas, portanto, não foi possível inspecioná-las.',\n",
       "     'x_startedificacao_inventario': 577709.0,\n",
       "     'y_startedificacao_inventario': 7457426.0,\n",
       "     'utm_zoneedificacao_inventario': '1',\n",
       "     'descriptionedificacao_inventario': 'Identificação: PRF. Trata-se de um posto operacional da PRF, composto pela Sala Principal, Hall, Copa, Dormitórios, Vestiário, Sanitários externos e internos, Sanitário externo PNE, Estacionamento Coberto e Reservatório Elevado.',\n",
       "     'edified_areaedificacao_inventario': 173.25,\n",
       "     'parking_areaedificacao_inventario': 39.6,\n",
       "     'numero_edificiosedificacao_inventario': 1,\n",
       "     'construction_kindedificacao_inventario': '1',\n",
       "     'other_constructionedificacao_inventario': '-',\n",
       "     'covered_parking_areaedificacao_inventario': 39.6}, 'form_metadata': {'uf': {'manually_specified': True},\n",
       "     'city': {'manually_specified': False},\n",
       "     'id_ccr_antt': {'manually_specified': False}}, 'created_at': datetime.datetime(2023, 8, 2, 17, 6, 27, 449629, tzinfo=<UTC>), 'updated_at': datetime.datetime(2023, 8, 3, 1, 53, 57, 188025, tzinfo=<UTC>), 'found_at': datetime.datetime(2022, 12, 6, 3, 0, tzinfo=<UTC>), 'status': UUID('e2001078-3039-4ace-af1d-642c03fe0be2'), 'due_at_manually_specified': False, 'end_km_manually_specified': False, 'project_end_km_manually_specified': False, 'editable': True, 'approval_step': UUID('a3136f17-7545-47e2-aee6-4221db062c34'), 'keywords': 'Angra do Reis 1 23K 577709.0 7457426.0 Posto de Polícia Rodoviária Angra dos Reis RJ Direito Identificação: PRF. Trata-se de um posto operacional da PRF, composto pela Sala Principal, Hall, Copa, Dormitórios, Vestiário, Sanitários externos e internos, Sanitário externo PNE, Estacionamento Coberto e Reservatório Elevado. Estrutura de concreto armado com fechamento de alvenaria - 173.25 39.6 Coordenadas UTM - Zona: 23K - E1: 0577709; N1: 7457426.\\n\\nEdificação sem acesso para inspeção interna devido a ausência de funcionários no dia da inspeção.\\nAs fundações encontram-se enterradas, portanto, não foi possível inspecioná-las.', 'lot': '2'}}})"
      ]
     },
     "execution_count": 5,
     "metadata": {},
     "output_type": "execute_result"
    }
   ],
   "source": [
    "len(reps),reps[0].__dict__"
   ]
  },
  {
   "cell_type": "code",
   "execution_count": 4,
   "id": "5c2878eb",
   "metadata": {},
   "outputs": [],
   "source": [
    "abrev = next(a.get('autofill').get('cat')[0] for a in reps[0].occurrence_type.form_fields['fields'] if a['apiName'] == 'idCcrAntt' and a.get('autofill'))"
   ]
  },
  {
   "cell_type": "code",
   "execution_count": 8,
   "id": "474f4195",
   "metadata": {},
   "outputs": [
    {
     "name": "stdout",
     "output_type": "stream",
     "text": [
      "OC 101 RJ 469+940 S\n"
     ]
    }
   ],
   "source": [
    "print(f'''{abrev}{reps[0].road_name[3:]} {str(reps[0].km).replace(\",\",\"+\").replace(\".\",\"+\") if len(str(reps[0].km).split('.')[1]) == 3 else str(reps[0].km).replace(\",\",\"+\").replace(\".\",\"+\")+'0'} {traduzirDirectionValue(reps[0].direction)[0]}{\" \"+reps[0].form_data.get('index') if reps[0].form_data.get('index') else \"\"}''')"
   ]
  },
  {
   "cell_type": "markdown",
   "id": "6f4a64df",
   "metadata": {},
   "source": [
    "# Criar idCcrAntt Inicio"
   ]
  },
  {
   "cell_type": "code",
   "execution_count": 4,
   "id": "104ad07c",
   "metadata": {},
   "outputs": [],
   "source": [
    "from tqdm.notebook import tqdm\n",
    "from helpers.histories import bulk_update_with_history"
   ]
  },
  {
   "cell_type": "code",
   "execution_count": 5,
   "id": "fee68fad",
   "metadata": {},
   "outputs": [],
   "source": [
    "occs=[]\n",
    "for a in OccurrenceType.objects.filter(company__name=\"CCR - Rio Sp\"):\n",
    "    for b in a.form_fields['fields']:\n",
    "        if b['apiName'] == 'idCcrAntt':\n",
    "            if b.get('autofill'):\n",
    "                occs.append(a)"
   ]
  },
  {
   "cell_type": "code",
   "execution_count": 2,
   "id": "9a9b9f00",
   "metadata": {},
   "outputs": [],
   "source": [
    "traduzirDirectionValue = lambda value: ''.join([item['name'] for item in Company.objects.get(name='CCR - Rio Sp').custom_options['reporting']['fields']['direction']['selectOptions']['options'] if item['value'].lower() == value.lower()])"
   ]
  },
  {
   "cell_type": "code",
   "execution_count": 13,
   "id": "26d6ac7d",
   "metadata": {},
   "outputs": [
    {
     "data": {
      "application/vnd.jupyter.widget-view+json": {
       "model_id": "17c3b4eb693f402fbc0fa6a415d93fbb",
       "version_major": 2,
       "version_minor": 0
      },
      "text/plain": [
       "  0%|          | 0/23899 [00:00<?, ?it/s]"
      ]
     },
     "metadata": {},
     "output_type": "display_data"
    }
   ],
   "source": [
    "reps=[]\n",
    "for rep in tqdm(Reporting.objects.filter(company__name=\"CCR - Rio Sp\",occurrence_type__in=occs).exclude(occurrence_type__name='Drenagem Superficial')):\n",
    "     if rep.form_data.get('id_ccr_antt') == '' or rep.form_data.get('id_ccr_antt') == None or not rep.form_data.get('id_ccr_antt'):\n",
    "        try:\n",
    "            abrev = next(a.get('autofill').get('cat')[0] for a in rep.occurrence_type.form_fields['fields'] if a['apiName'] == 'idCcrAntt' and a.get('autofill'))\n",
    "            if not abrev:\n",
    "                print(rep.occurrence_type.name)\n",
    "            else:\n",
    "                if len(str(rep.km).split('.')[1])== 0:\n",
    "                    metros=str(rep.km).replace(\",\",\"+\").replace(\".\",\"+\")+'000'\n",
    "                elif len(str(rep.km).split('.')[1])== 1:\n",
    "                    metros=str(rep.km).replace(\",\",\"+\").replace(\".\",\"+\")+\"00\"\n",
    "                elif len(str(rep.km).split('.')[1])== 2:\n",
    "                    metros=str(rep.km).replace(\",\",\"+\").replace(\".\",\"+\")+\"0\"\n",
    "                else: \n",
    "                    metros=str(rep.km).replace(\",\",\"+\").replace(\".\",\"+\")\n",
    "                rep.form_data['id_ccr_antt'] = f'''{abrev}{rep.road_name[3:]} {metros} {traduzirDirectionValue(rep.direction)[0]}{\" \"+str(rep.form_data.get('index')) if rep.form_data.get('index') else \"\"}'''\n",
    "                reps.append(rep)\n",
    "    #             print(f'''{abrev}{rep.road_name[3:]} {metros} {traduzirDirectionValue(rep.direction)[0]}{\" \"+str(rep.form_data.get('index')) if rep.form_data.get('index') else \"\"}''')\n",
    "            abrev=''\n",
    "        except Exception as e:\n",
    "            print(rep.number,rep.occurrence_type.name, e)\n",
    "#     else: \n",
    "#         pass"
   ]
  },
  {
   "cell_type": "code",
   "execution_count": 15,
   "id": "9d6eaad1",
   "metadata": {},
   "outputs": [],
   "source": [
    "user=User.objects.get(username=\"rlcs\")"
   ]
  },
  {
   "cell_type": "code",
   "execution_count": 16,
   "id": "e882dd75",
   "metadata": {},
   "outputs": [],
   "source": [
    "apontamentos = bulk_update_with_history(reps,Reporting, use_django_bulk=True,batch_size=500,user=user)"
   ]
  },
  {
   "cell_type": "markdown",
   "id": "0b51c2fc",
   "metadata": {},
   "source": [
    "# Criar idCcrAntt Fim"
   ]
  },
  {
   "cell_type": "code",
   "execution_count": 3,
   "id": "837c019f",
   "metadata": {},
   "outputs": [
    {
     "data": {
      "text/plain": [
       "17155"
      ]
     },
     "execution_count": 3,
     "metadata": {},
     "output_type": "execute_result"
    }
   ],
   "source": [
    "Reporting.objects.filter(company__name=\"CCR - Rio Sp\",occurrence_type__name='Drenagem Superficial').exclude(form_data__id_ccr_antt__isnull=True).count()"
   ]
  },
  {
   "cell_type": "markdown",
   "id": "fb74f1be",
   "metadata": {},
   "source": [
    "# Criar idCcrAntt Inicio para Drenagem Superficial "
   ]
  },
  {
   "cell_type": "code",
   "execution_count": 17,
   "id": "3f4536a7",
   "metadata": {},
   "outputs": [],
   "source": [
    "from tqdm.notebook import tqdm\n",
    "from helpers.histories import bulk_update_with_history"
   ]
  },
  {
   "cell_type": "code",
   "execution_count": 18,
   "id": "0f5faa7d",
   "metadata": {},
   "outputs": [],
   "source": [
    "traduzirDirectionValue = lambda value: ''.join([item['name'] for item in Company.objects.get(name='CCR - Rio Sp').custom_options['reporting']['fields']['direction']['selectOptions']['options'] if item['value'].lower() == value.lower()])"
   ]
  },
  {
   "cell_type": "code",
   "execution_count": 26,
   "id": "2ef35213",
   "metadata": {},
   "outputs": [
    {
     "data": {
      "application/vnd.jupyter.widget-view+json": {
       "model_id": "579c7d69030c4461a27a3a9ef57caec3",
       "version_major": 2,
       "version_minor": 0
      },
      "text/plain": [
       "  0%|          | 0/8069 [00:00<?, ?it/s]"
      ]
     },
     "metadata": {},
     "output_type": "display_data"
    }
   ],
   "source": [
    "reps=[]\n",
    "for rep in tqdm(Reporting.objects.filter(company__name=\"CCR - Rio Sp\",occurrence_type__name='Drenagem Superficial').exclude(form_data__has_key='id_ccr_antt')):\n",
    "# for rep in tqdm(teste):\n",
    "    if rep.form_data.get('id_ccr_antt') == '' or rep.form_data.get('id_ccr_antt') == None or not rep.form_data.get('id_ccr_antt'):\n",
    "        try:\n",
    "            if rep.form_data.get('elemento') in ['1','2']:\n",
    "                abrev='DA '\n",
    "            elif rep.form_data.get('elemento') in ['3']:\n",
    "                abrev='DI '\n",
    "            elif rep.form_data.get('elemento') in ['4']:\n",
    "                abrev='MF '\n",
    "            elif rep.form_data.get('elemento') in ['5']:\n",
    "                abrev='SJ '\n",
    "            elif rep.form_data.get('elemento') in ['6']:\n",
    "                abrev='VA '\n",
    "            elif rep.form_data.get('elemento') in ['7']:\n",
    "                abrev='TSS '\n",
    "#             abrev = next(a.get('autofill').get('cat')[0] for a in rep.occurrence_type.form_fields['fields'] if a['apiName'] == 'idCcrAntt' and a.get('autofill'))\n",
    "            if not abrev:\n",
    "                print(rep.occurrence_type.name)\n",
    "            else:\n",
    "                if len(str(rep.km).split('.')[1])== 0:\n",
    "                    metros=str(rep.km).replace(\",\",\"+\").replace(\".\",\"+\")+'000'\n",
    "                elif len(str(rep.km).split('.')[1])== 1:\n",
    "                    metros=str(rep.km).replace(\",\",\"+\").replace(\".\",\"+\")+\"00\"\n",
    "                elif len(str(rep.km).split('.')[1])== 2:\n",
    "                    metros=str(rep.km).replace(\",\",\"+\").replace(\".\",\"+\")+\"0\"\n",
    "                else: \n",
    "                    metros=str(rep.km).replace(\",\",\"+\").replace(\".\",\"+\")\n",
    "                rep.form_data['id_ccr_antt'] = f'''{abrev}{rep.road_name[3:]} {metros} {traduzirDirectionValue(rep.direction)[0]}{\" \"+str(rep.form_data.get('index')) if rep.form_data.get('index') else \"\"}'''\n",
    "#                 print(rep.form_data)\n",
    "                reps.append(rep)\n",
    "#                 print(f'''{abrev}{rep.road_name[3:]} {metros} {traduzirDirectionValue(rep.direction)[0]}{\" \"+str(rep.form_data.get('index')) if rep.form_data.get('index') else \"\"}''')\n",
    "            abrev=''\n",
    "        except Exception as e:\n",
    "            print(rep.number,rep.occurrence_type.name, e)\n",
    "    else: \n",
    "        pass"
   ]
  },
  {
   "cell_type": "code",
   "execution_count": 27,
   "id": "cb67c459",
   "metadata": {},
   "outputs": [
    {
     "data": {
      "text/plain": [
       "(8069, 'MF 101 RJ 410+967 S 1')"
      ]
     },
     "execution_count": 27,
     "metadata": {},
     "output_type": "execute_result"
    }
   ],
   "source": [
    "len(reps),reps[0].form_data['id_ccr_antt']"
   ]
  },
  {
   "cell_type": "code",
   "execution_count": 28,
   "id": "c5b2b636",
   "metadata": {},
   "outputs": [],
   "source": [
    "user=User.objects.get(username=\"rlcs\")"
   ]
  },
  {
   "cell_type": "code",
   "execution_count": 29,
   "id": "20531dc2",
   "metadata": {},
   "outputs": [],
   "source": [
    "apontamentos = bulk_update_with_history(reps,Reporting, use_django_bulk=True,batch_size=1000,user=user)"
   ]
  },
  {
   "cell_type": "code",
   "execution_count": null,
   "id": "830c12ac",
   "metadata": {},
   "outputs": [],
   "source": []
  },
  {
   "cell_type": "code",
   "execution_count": 5,
   "id": "1a9fa399",
   "metadata": {
    "scrolled": true
   },
   "outputs": [
    {
     "data": {
      "text/plain": [
       "dict"
      ]
     },
     "execution_count": 5,
     "metadata": {},
     "output_type": "execute_result"
    }
   ],
   "source": [
    "reps[0].occurrence_type,\n",
    "obj_serialized = get_obj_serialized(reps[0], is_reporting=True)\n",
    "type(obj_serialized)"
   ]
  },
  {
   "cell_type": "code",
   "execution_count": 6,
   "id": "43f4eb64",
   "metadata": {
    "collapsed": true
   },
   "outputs": [
    {
     "data": {
      "application/vnd.jupyter.widget-view+json": {
       "model_id": "ef282398c5c24a0ba44e7ce3063250e4",
       "version_major": 2,
       "version_minor": 0
      },
      "text/plain": [
       "  0%|          | 0/1 [00:00<?, ?it/s]"
      ]
     },
     "metadata": {},
     "output_type": "display_data"
    },
    {
     "ename": "TypeError",
     "evalue": "'float' object is not subscriptable",
     "output_type": "error",
     "traceback": [
      "\u001b[0;31m---------------------------------------------------------------------------\u001b[0m",
      "\u001b[0;31mTypeError\u001b[0m                                 Traceback (most recent call last)",
      "\u001b[0;32m/tmp/ipykernel_49917/1719972828.py\u001b[0m in \u001b[0;36m<module>\u001b[0;34m\u001b[0m\n\u001b[1;32m      4\u001b[0m     \u001b[0;32mfor\u001b[0m \u001b[0mc\u001b[0m \u001b[0;32min\u001b[0m \u001b[0ma\u001b[0m\u001b[0;34m.\u001b[0m\u001b[0moccurrence_type\u001b[0m\u001b[0;34m.\u001b[0m\u001b[0mform_fields\u001b[0m\u001b[0;34m[\u001b[0m\u001b[0;34m'fields'\u001b[0m\u001b[0;34m]\u001b[0m\u001b[0;34m:\u001b[0m\u001b[0;34m\u001b[0m\u001b[0;34m\u001b[0m\u001b[0m\n\u001b[1;32m      5\u001b[0m         \u001b[0;32mif\u001b[0m \u001b[0mc\u001b[0m\u001b[0;34m[\u001b[0m\u001b[0;34m'apiName'\u001b[0m\u001b[0;34m]\u001b[0m \u001b[0;34m==\u001b[0m \u001b[0;34m'idCcrAntt'\u001b[0m\u001b[0;34m:\u001b[0m\u001b[0;34m\u001b[0m\u001b[0;34m\u001b[0m\u001b[0m\n\u001b[0;32m----> 6\u001b[0;31m             \u001b[0mautofillCCR\u001b[0m \u001b[0;34m=\u001b[0m \u001b[0mjsonLogic\u001b[0m\u001b[0;34m(\u001b[0m\u001b[0mc\u001b[0m\u001b[0;34m[\u001b[0m\u001b[0;34m'autofill'\u001b[0m\u001b[0;34m]\u001b[0m\u001b[0;34m,\u001b[0m\u001b[0mobj_serialized\u001b[0m\u001b[0;34m)\u001b[0m\u001b[0;34m\u001b[0m\u001b[0;34m\u001b[0m\u001b[0m\n\u001b[0m\u001b[1;32m      7\u001b[0m     \u001b[0mprint\u001b[0m\u001b[0;34m(\u001b[0m\u001b[0mautofillCCR\u001b[0m\u001b[0;34m)\u001b[0m\u001b[0;34m\u001b[0m\u001b[0;34m\u001b[0m\u001b[0m\n",
      "\u001b[0;32m~/.cache/pypoetry/virtualenvs/apps-ZFymp6kh-py3.7/lib/python3.7/site-packages/json_logic/__init__.py\u001b[0m in \u001b[0;36mjsonLogic\u001b[0;34m(logic, data)\u001b[0m\n\u001b[1;32m    802\u001b[0m \u001b[0;34m\u001b[0m\u001b[0m\n\u001b[1;32m    803\u001b[0m     \u001b[0;31m# Recursion!\u001b[0m\u001b[0;34m\u001b[0m\u001b[0;34m\u001b[0m\u001b[0;34m\u001b[0m\u001b[0m\n\u001b[0;32m--> 804\u001b[0;31m     \u001b[0mvalues\u001b[0m \u001b[0;34m=\u001b[0m \u001b[0;34m[\u001b[0m\u001b[0mjsonLogic\u001b[0m\u001b[0;34m(\u001b[0m\u001b[0mval\u001b[0m\u001b[0;34m,\u001b[0m \u001b[0mdata\u001b[0m\u001b[0;34m)\u001b[0m \u001b[0;32mfor\u001b[0m \u001b[0mval\u001b[0m \u001b[0;32min\u001b[0m \u001b[0mvalues\u001b[0m\u001b[0;34m]\u001b[0m\u001b[0;34m\u001b[0m\u001b[0;34m\u001b[0m\u001b[0m\n\u001b[0m\u001b[1;32m    805\u001b[0m \u001b[0;34m\u001b[0m\u001b[0m\n\u001b[1;32m    806\u001b[0m     \u001b[0;31m# Apply data retrieval operations\u001b[0m\u001b[0;34m\u001b[0m\u001b[0;34m\u001b[0m\u001b[0;34m\u001b[0m\u001b[0m\n",
      "\u001b[0;32m~/.cache/pypoetry/virtualenvs/apps-ZFymp6kh-py3.7/lib/python3.7/site-packages/json_logic/__init__.py\u001b[0m in \u001b[0;36m<listcomp>\u001b[0;34m(.0)\u001b[0m\n\u001b[1;32m    802\u001b[0m \u001b[0;34m\u001b[0m\u001b[0m\n\u001b[1;32m    803\u001b[0m     \u001b[0;31m# Recursion!\u001b[0m\u001b[0;34m\u001b[0m\u001b[0;34m\u001b[0m\u001b[0;34m\u001b[0m\u001b[0m\n\u001b[0;32m--> 804\u001b[0;31m     \u001b[0mvalues\u001b[0m \u001b[0;34m=\u001b[0m \u001b[0;34m[\u001b[0m\u001b[0mjsonLogic\u001b[0m\u001b[0;34m(\u001b[0m\u001b[0mval\u001b[0m\u001b[0;34m,\u001b[0m \u001b[0mdata\u001b[0m\u001b[0;34m)\u001b[0m \u001b[0;32mfor\u001b[0m \u001b[0mval\u001b[0m \u001b[0;32min\u001b[0m \u001b[0mvalues\u001b[0m\u001b[0;34m]\u001b[0m\u001b[0;34m\u001b[0m\u001b[0;34m\u001b[0m\u001b[0m\n\u001b[0m\u001b[1;32m    805\u001b[0m \u001b[0;34m\u001b[0m\u001b[0m\n\u001b[1;32m    806\u001b[0m     \u001b[0;31m# Apply data retrieval operations\u001b[0m\u001b[0;34m\u001b[0m\u001b[0;34m\u001b[0m\u001b[0;34m\u001b[0m\u001b[0m\n",
      "\u001b[0;32m~/.cache/pypoetry/virtualenvs/apps-ZFymp6kh-py3.7/lib/python3.7/site-packages/json_logic/__init__.py\u001b[0m in \u001b[0;36mjsonLogic\u001b[0;34m(logic, data)\u001b[0m\n\u001b[1;32m    794\u001b[0m     \u001b[0;31m# depth-first calculating consequents. Let each manage recursion as needed.\u001b[0m\u001b[0;34m\u001b[0m\u001b[0;34m\u001b[0m\u001b[0;34m\u001b[0m\u001b[0m\n\u001b[1;32m    795\u001b[0m     \u001b[0;32mif\u001b[0m \u001b[0moperator\u001b[0m \u001b[0;32min\u001b[0m \u001b[0m_logical_operations\u001b[0m\u001b[0;34m:\u001b[0m\u001b[0;34m\u001b[0m\u001b[0;34m\u001b[0m\u001b[0m\n\u001b[0;32m--> 796\u001b[0;31m         \u001b[0;32mreturn\u001b[0m \u001b[0m_logical_operations\u001b[0m\u001b[0;34m[\u001b[0m\u001b[0moperator\u001b[0m\u001b[0;34m]\u001b[0m\u001b[0;34m(\u001b[0m\u001b[0mdata\u001b[0m\u001b[0;34m,\u001b[0m \u001b[0;34m*\u001b[0m\u001b[0mvalues\u001b[0m\u001b[0;34m)\u001b[0m\u001b[0;34m\u001b[0m\u001b[0;34m\u001b[0m\u001b[0m\n\u001b[0m\u001b[1;32m    797\u001b[0m \u001b[0;34m\u001b[0m\u001b[0m\n\u001b[1;32m    798\u001b[0m     \u001b[0;31m# Next up, try applying scoped operations that manage their own data scopes\u001b[0m\u001b[0;34m\u001b[0m\u001b[0;34m\u001b[0m\u001b[0;34m\u001b[0m\u001b[0m\n",
      "\u001b[0;32m~/.cache/pypoetry/virtualenvs/apps-ZFymp6kh-py3.7/lib/python3.7/site-packages/json_logic/__init__.py\u001b[0m in \u001b[0;36m_if\u001b[0;34m(data, *args)\u001b[0m\n\u001b[1;32m    384\u001b[0m     \u001b[0;32mfor\u001b[0m \u001b[0mi\u001b[0m \u001b[0;32min\u001b[0m \u001b[0mrange\u001b[0m\u001b[0;34m(\u001b[0m\u001b[0;36m0\u001b[0m\u001b[0;34m,\u001b[0m \u001b[0mlen\u001b[0m\u001b[0;34m(\u001b[0m\u001b[0margs\u001b[0m\u001b[0;34m)\u001b[0m \u001b[0;34m-\u001b[0m \u001b[0;36m1\u001b[0m\u001b[0;34m,\u001b[0m \u001b[0;36m2\u001b[0m\u001b[0;34m)\u001b[0m\u001b[0;34m:\u001b[0m\u001b[0;34m\u001b[0m\u001b[0;34m\u001b[0m\u001b[0m\n\u001b[1;32m    385\u001b[0m         \u001b[0;32mif\u001b[0m \u001b[0m_truthy\u001b[0m\u001b[0;34m(\u001b[0m\u001b[0mjsonLogic\u001b[0m\u001b[0;34m(\u001b[0m\u001b[0margs\u001b[0m\u001b[0;34m[\u001b[0m\u001b[0mi\u001b[0m\u001b[0;34m]\u001b[0m\u001b[0;34m,\u001b[0m \u001b[0mdata\u001b[0m\u001b[0;34m)\u001b[0m\u001b[0;34m)\u001b[0m\u001b[0;34m:\u001b[0m\u001b[0;34m\u001b[0m\u001b[0;34m\u001b[0m\u001b[0m\n\u001b[0;32m--> 386\u001b[0;31m             \u001b[0;32mreturn\u001b[0m \u001b[0mjsonLogic\u001b[0m\u001b[0;34m(\u001b[0m\u001b[0margs\u001b[0m\u001b[0;34m[\u001b[0m\u001b[0mi\u001b[0m \u001b[0;34m+\u001b[0m \u001b[0;36m1\u001b[0m\u001b[0;34m]\u001b[0m\u001b[0;34m,\u001b[0m \u001b[0mdata\u001b[0m\u001b[0;34m)\u001b[0m\u001b[0;34m\u001b[0m\u001b[0;34m\u001b[0m\u001b[0m\n\u001b[0m\u001b[1;32m    387\u001b[0m     \u001b[0;32mif\u001b[0m \u001b[0mlen\u001b[0m\u001b[0;34m(\u001b[0m\u001b[0margs\u001b[0m\u001b[0;34m)\u001b[0m \u001b[0;34m%\u001b[0m \u001b[0;36m2\u001b[0m\u001b[0;34m:\u001b[0m\u001b[0;34m\u001b[0m\u001b[0;34m\u001b[0m\u001b[0m\n\u001b[1;32m    388\u001b[0m         \u001b[0;32mreturn\u001b[0m \u001b[0mjsonLogic\u001b[0m\u001b[0;34m(\u001b[0m\u001b[0margs\u001b[0m\u001b[0;34m[\u001b[0m\u001b[0;34m-\u001b[0m\u001b[0;36m1\u001b[0m\u001b[0;34m]\u001b[0m\u001b[0;34m,\u001b[0m \u001b[0mdata\u001b[0m\u001b[0;34m)\u001b[0m\u001b[0;34m\u001b[0m\u001b[0;34m\u001b[0m\u001b[0m\n",
      "\u001b[0;32m~/.cache/pypoetry/virtualenvs/apps-ZFymp6kh-py3.7/lib/python3.7/site-packages/json_logic/__init__.py\u001b[0m in \u001b[0;36mjsonLogic\u001b[0;34m(logic, data)\u001b[0m\n\u001b[1;32m    802\u001b[0m \u001b[0;34m\u001b[0m\u001b[0m\n\u001b[1;32m    803\u001b[0m     \u001b[0;31m# Recursion!\u001b[0m\u001b[0;34m\u001b[0m\u001b[0;34m\u001b[0m\u001b[0;34m\u001b[0m\u001b[0m\n\u001b[0;32m--> 804\u001b[0;31m     \u001b[0mvalues\u001b[0m \u001b[0;34m=\u001b[0m \u001b[0;34m[\u001b[0m\u001b[0mjsonLogic\u001b[0m\u001b[0;34m(\u001b[0m\u001b[0mval\u001b[0m\u001b[0;34m,\u001b[0m \u001b[0mdata\u001b[0m\u001b[0;34m)\u001b[0m \u001b[0;32mfor\u001b[0m \u001b[0mval\u001b[0m \u001b[0;32min\u001b[0m \u001b[0mvalues\u001b[0m\u001b[0;34m]\u001b[0m\u001b[0;34m\u001b[0m\u001b[0;34m\u001b[0m\u001b[0m\n\u001b[0m\u001b[1;32m    805\u001b[0m \u001b[0;34m\u001b[0m\u001b[0m\n\u001b[1;32m    806\u001b[0m     \u001b[0;31m# Apply data retrieval operations\u001b[0m\u001b[0;34m\u001b[0m\u001b[0;34m\u001b[0m\u001b[0;34m\u001b[0m\u001b[0m\n",
      "\u001b[0;32m~/.cache/pypoetry/virtualenvs/apps-ZFymp6kh-py3.7/lib/python3.7/site-packages/json_logic/__init__.py\u001b[0m in \u001b[0;36m<listcomp>\u001b[0;34m(.0)\u001b[0m\n\u001b[1;32m    802\u001b[0m \u001b[0;34m\u001b[0m\u001b[0m\n\u001b[1;32m    803\u001b[0m     \u001b[0;31m# Recursion!\u001b[0m\u001b[0;34m\u001b[0m\u001b[0;34m\u001b[0m\u001b[0;34m\u001b[0m\u001b[0m\n\u001b[0;32m--> 804\u001b[0;31m     \u001b[0mvalues\u001b[0m \u001b[0;34m=\u001b[0m \u001b[0;34m[\u001b[0m\u001b[0mjsonLogic\u001b[0m\u001b[0;34m(\u001b[0m\u001b[0mval\u001b[0m\u001b[0;34m,\u001b[0m \u001b[0mdata\u001b[0m\u001b[0;34m)\u001b[0m \u001b[0;32mfor\u001b[0m \u001b[0mval\u001b[0m \u001b[0;32min\u001b[0m \u001b[0mvalues\u001b[0m\u001b[0;34m]\u001b[0m\u001b[0;34m\u001b[0m\u001b[0;34m\u001b[0m\u001b[0m\n\u001b[0m\u001b[1;32m    805\u001b[0m \u001b[0;34m\u001b[0m\u001b[0m\n\u001b[1;32m    806\u001b[0m     \u001b[0;31m# Apply data retrieval operations\u001b[0m\u001b[0;34m\u001b[0m\u001b[0;34m\u001b[0m\u001b[0;34m\u001b[0m\u001b[0m\n",
      "\u001b[0;32m~/.cache/pypoetry/virtualenvs/apps-ZFymp6kh-py3.7/lib/python3.7/site-packages/json_logic/__init__.py\u001b[0m in \u001b[0;36mjsonLogic\u001b[0;34m(logic, data)\u001b[0m\n\u001b[1;32m    814\u001b[0m     \u001b[0;31m# Apply common operations\u001b[0m\u001b[0;34m\u001b[0m\u001b[0;34m\u001b[0m\u001b[0;34m\u001b[0m\u001b[0m\n\u001b[1;32m    815\u001b[0m     \u001b[0;32mif\u001b[0m \u001b[0moperator\u001b[0m \u001b[0;32min\u001b[0m \u001b[0m_common_operations\u001b[0m\u001b[0;34m:\u001b[0m\u001b[0;34m\u001b[0m\u001b[0;34m\u001b[0m\u001b[0m\n\u001b[0;32m--> 816\u001b[0;31m         \u001b[0;32mreturn\u001b[0m \u001b[0m_common_operations\u001b[0m\u001b[0;34m[\u001b[0m\u001b[0moperator\u001b[0m\u001b[0;34m]\u001b[0m\u001b[0;34m(\u001b[0m\u001b[0;34m*\u001b[0m\u001b[0mvalues\u001b[0m\u001b[0;34m)\u001b[0m\u001b[0;34m\u001b[0m\u001b[0;34m\u001b[0m\u001b[0m\n\u001b[0m\u001b[1;32m    817\u001b[0m \u001b[0;34m\u001b[0m\u001b[0m\n\u001b[1;32m    818\u001b[0m     \u001b[0;31m# Apply unsupported common operations if any\u001b[0m\u001b[0;34m\u001b[0m\u001b[0;34m\u001b[0m\u001b[0;34m\u001b[0m\u001b[0m\n",
      "\u001b[0;32m~/.cache/pypoetry/virtualenvs/apps-ZFymp6kh-py3.7/lib/python3.7/site-packages/json_logic/__init__.py\u001b[0m in \u001b[0;36m_substring\u001b[0;34m(source, start, length)\u001b[0m\n\u001b[1;32m    222\u001b[0m     \u001b[0mOmitted\u001b[0m \u001b[0;34m'length'\u001b[0m\u001b[0;34m:\u001b[0m \u001b[0;32mreturn\u001b[0m \u001b[0mpart\u001b[0m \u001b[0;32mfrom\u001b[0m \u001b[0mthe\u001b[0m \u001b[0;34m'start'\u001b[0m \u001b[0mtill\u001b[0m \u001b[0mthe\u001b[0m \u001b[0mend\u001b[0m \u001b[0mof\u001b[0m \u001b[0mthe\u001b[0m \u001b[0mstring\u001b[0m\u001b[0;34m.\u001b[0m\u001b[0;34m\u001b[0m\u001b[0;34m\u001b[0m\u001b[0m\n\u001b[1;32m    223\u001b[0m     \"\"\"\n\u001b[0;32m--> 224\u001b[0;31m     \u001b[0;32mreturn\u001b[0m \u001b[0msource\u001b[0m\u001b[0;34m[\u001b[0m\u001b[0mstart\u001b[0m\u001b[0;34m:\u001b[0m\u001b[0;34m]\u001b[0m\u001b[0;34m[\u001b[0m\u001b[0;34m:\u001b[0m\u001b[0mlength\u001b[0m\u001b[0;34m]\u001b[0m\u001b[0;34m\u001b[0m\u001b[0;34m\u001b[0m\u001b[0m\n\u001b[0m\u001b[1;32m    225\u001b[0m \u001b[0;34m\u001b[0m\u001b[0m\n\u001b[1;32m    226\u001b[0m \u001b[0;34m\u001b[0m\u001b[0m\n",
      "\u001b[0;31mTypeError\u001b[0m: 'float' object is not subscriptable"
     ]
    }
   ],
   "source": [
    "for a in tqdm(reps[:1]):\n",
    "    obj_serialized = get_obj_serialized(a, is_reporting=True)\n",
    "\n",
    "    for c in a.occurrence_type.form_fields['fields']:\n",
    "        if c['apiName'] == 'idCcrAntt':\n",
    "            autofillCCR = jsonLogic(c['autofill'],obj_serialized)\n",
    "    print(autofillCCR)"
   ]
  },
  {
   "cell_type": "code",
   "execution_count": 87,
   "id": "4d23180c",
   "metadata": {
    "scrolled": true
   },
   "outputs": [
    {
     "data": {
      "text/plain": [
       "{'cat': ['OC ',\n",
       "  {'cat': [{'substr': [{'var': 'roadName'}, 3, -3]}, ' ']},\n",
       "  {'substr': [{'var': 'roadName'}, -2, 2]},\n",
       "  ' ',\n",
       "  {'if': [{'<': [{'var': 'km'}, 10]},\n",
       "    {'cat': ['00',\n",
       "      {'substr': [{'var': 'km'}, 0, 1]},\n",
       "      '+',\n",
       "      {'if': [{'==': [{'substr': [{'var': 'km'}, 2, 10]}, 0]},\n",
       "        '000',\n",
       "        {'==': [{'substr': [{'var': 'km'}, 3, 10]}, 0]},\n",
       "        {'cat': [{'substr': [{'var': 'km'}, 2, 1]}, '00']},\n",
       "        {'==': [{'substr': [{'var': 'km'}, 4, 10]}, 0]},\n",
       "        {'cat': [{'substr': [{'var': 'km'}, 2, 2]}, '0']},\n",
       "        {'substr': [{'var': 'km'}, 2]}]}]},\n",
       "    {'and': [{'>=': [{'var': 'km'}, 10]}, {'<': [{'var': 'km'}, 100]}]},\n",
       "    {'cat': ['0',\n",
       "      {'substr': [{'var': 'km'}, 0, 2]},\n",
       "      '+',\n",
       "      {'if': [{'==': [{'substr': [{'var': 'km'}, 3, 10]}, 0]},\n",
       "        '000',\n",
       "        {'==': [{'substr': [{'var': 'km'}, 4, 10]}, 0]},\n",
       "        {'cat': [{'substr': [{'var': 'km'}, 3, 1]}, '00']},\n",
       "        {'==': [{'substr': [{'var': 'km'}, 5, 10]}, 0]},\n",
       "        {'cat': [{'substr': [{'var': 'km'}, 3, 2]}, '0']},\n",
       "        {'substr': [{'var': 'km'}, 3]}]}]},\n",
       "    {'and': [{'>=': [{'var': 'km'}, 100]}, {'<': [{'var': 'km'}, 1000]}]},\n",
       "    {'cat': [{'substr': [{'var': 'km'}, 0, 3]},\n",
       "      '+',\n",
       "      {'if': [{'==': [{'substr': [{'var': 'km'}, 4, 10]}, 0]},\n",
       "        '000',\n",
       "        {'==': [{'substr': [{'var': 'km'}, 5, 10]}, 0]},\n",
       "        {'cat': [{'substr': [{'var': 'km'}, 4, 1]}, '00']},\n",
       "        {'==': [{'substr': [{'var': 'km'}, 6, 10]}, 0]},\n",
       "        {'cat': [{'substr': [{'var': 'km'}, 4, 2]}, '0']},\n",
       "        {'substr': [{'var': 'km'}, 4]}]}]}]},\n",
       "  ' ',\n",
       "  {'substr': [{'if': [{'==': [{'var': 'direction'}, 0]},\n",
       "      'N',\n",
       "      {'==': [{'var': 'direction'}, 1]},\n",
       "      'S',\n",
       "      {'==': [{'var': 'direction'}, 2]},\n",
       "      'L',\n",
       "      {'==': [{'var': 'direction'}, 3]},\n",
       "      'O',\n",
       "      {'==': [{'var': 'direction'}, 4]},\n",
       "      'NS',\n",
       "      {'==': [{'var': 'direction'}, 5]},\n",
       "      'LO',\n",
       "      {'==': [{'var': 'direction'}, 6]},\n",
       "      'C',\n",
       "      {'==': [{'var': 'direction'}, 7]},\n",
       "      'D',\n",
       "      {'==': [{'var': 'direction'}, 8]},\n",
       "      'CC',\n",
       "      {'==': [{'var': 'direction'}, 9]},\n",
       "      'A',\n",
       "      {'==': [{'var': 'direction'}, 10]},\n",
       "      'TR',\n",
       "      {'==': [{'var': 'direction'}, 11]},\n",
       "      'NA']}]},\n",
       "  {'cat': [' ', {'var': 'formData.index'}]}]}"
      ]
     },
     "execution_count": 87,
     "metadata": {},
     "output_type": "execute_result"
    }
   ],
   "source": [
    "reps[0].occurrence_type.form_fields['fields'][0]['autofill']."
   ]
  },
  {
   "cell_type": "code",
   "execution_count": 79,
   "id": "5ec5c3ca",
   "metadata": {
    "scrolled": true
   },
   "outputs": [
    {
     "data": {
      "application/vnd.jupyter.widget-view+json": {
       "model_id": "4e4a7b441c914f7a99f03a2d32af24fe",
       "version_major": 2,
       "version_minor": 0
      },
      "text/plain": [
       "  0%|          | 0/1 [00:00<?, ?it/s]"
      ]
     },
     "metadata": {},
     "output_type": "display_data"
    },
    {
     "ename": "JSONDecodeError",
     "evalue": "Expecting property name enclosed in double quotes: line 1 column 2 (char 1)",
     "output_type": "error",
     "traceback": [
      "\u001b[0;31m---------------------------------------------------------------------------\u001b[0m",
      "\u001b[0;31mJSONDecodeError\u001b[0m                           Traceback (most recent call last)",
      "\u001b[0;32m/tmp/ipykernel_49579/1039393297.py\u001b[0m in \u001b[0;36m<module>\u001b[0;34m\u001b[0m\n\u001b[1;32m      4\u001b[0m         \u001b[0;32mfor\u001b[0m \u001b[0mc\u001b[0m \u001b[0;32min\u001b[0m \u001b[0mocc\u001b[0m\u001b[0;34m.\u001b[0m\u001b[0mform_fields\u001b[0m\u001b[0;34m[\u001b[0m\u001b[0;34m'fields'\u001b[0m\u001b[0;34m]\u001b[0m\u001b[0;34m:\u001b[0m\u001b[0;34m\u001b[0m\u001b[0;34m\u001b[0m\u001b[0m\n\u001b[1;32m      5\u001b[0m             \u001b[0;32mif\u001b[0m \u001b[0mc\u001b[0m\u001b[0;34m[\u001b[0m\u001b[0;34m'apiName'\u001b[0m\u001b[0;34m]\u001b[0m \u001b[0;34m==\u001b[0m \u001b[0;34m'idCcrAntt'\u001b[0m\u001b[0;34m:\u001b[0m\u001b[0;34m\u001b[0m\u001b[0;34m\u001b[0m\u001b[0m\n\u001b[0;32m----> 6\u001b[0;31m                 \u001b[0mautofillCCR\u001b[0m \u001b[0;34m=\u001b[0m \u001b[0mjsonLogic\u001b[0m\u001b[0;34m(\u001b[0m\u001b[0mjson\u001b[0m\u001b[0;34m.\u001b[0m\u001b[0mloads\u001b[0m\u001b[0;34m(\u001b[0m\u001b[0mstr\u001b[0m\u001b[0;34m(\u001b[0m\u001b[0mc\u001b[0m\u001b[0;34m[\u001b[0m\u001b[0;34m'autofill'\u001b[0m\u001b[0;34m]\u001b[0m\u001b[0;34m)\u001b[0m\u001b[0;34m)\u001b[0m\u001b[0;34m)\u001b[0m\u001b[0;34m\u001b[0m\u001b[0;34m\u001b[0m\u001b[0m\n\u001b[0m\u001b[1;32m      7\u001b[0m         \u001b[0mprint\u001b[0m\u001b[0;34m(\u001b[0m\u001b[0mautofillCCR\u001b[0m\u001b[0;34m)\u001b[0m\u001b[0;34m\u001b[0m\u001b[0;34m\u001b[0m\u001b[0m\n",
      "\u001b[0;32m~/.pyenv/versions/3.7.9/lib/python3.7/json/__init__.py\u001b[0m in \u001b[0;36mloads\u001b[0;34m(s, encoding, cls, object_hook, parse_float, parse_int, parse_constant, object_pairs_hook, **kw)\u001b[0m\n\u001b[1;32m    346\u001b[0m             \u001b[0mparse_int\u001b[0m \u001b[0;32mis\u001b[0m \u001b[0;32mNone\u001b[0m \u001b[0;32mand\u001b[0m \u001b[0mparse_float\u001b[0m \u001b[0;32mis\u001b[0m \u001b[0;32mNone\u001b[0m \u001b[0;32mand\u001b[0m\u001b[0;34m\u001b[0m\u001b[0;34m\u001b[0m\u001b[0m\n\u001b[1;32m    347\u001b[0m             parse_constant is None and object_pairs_hook is None and not kw):\n\u001b[0;32m--> 348\u001b[0;31m         \u001b[0;32mreturn\u001b[0m \u001b[0m_default_decoder\u001b[0m\u001b[0;34m.\u001b[0m\u001b[0mdecode\u001b[0m\u001b[0;34m(\u001b[0m\u001b[0ms\u001b[0m\u001b[0;34m)\u001b[0m\u001b[0;34m\u001b[0m\u001b[0;34m\u001b[0m\u001b[0m\n\u001b[0m\u001b[1;32m    349\u001b[0m     \u001b[0;32mif\u001b[0m \u001b[0mcls\u001b[0m \u001b[0;32mis\u001b[0m \u001b[0;32mNone\u001b[0m\u001b[0;34m:\u001b[0m\u001b[0;34m\u001b[0m\u001b[0;34m\u001b[0m\u001b[0m\n\u001b[1;32m    350\u001b[0m         \u001b[0mcls\u001b[0m \u001b[0;34m=\u001b[0m \u001b[0mJSONDecoder\u001b[0m\u001b[0;34m\u001b[0m\u001b[0;34m\u001b[0m\u001b[0m\n",
      "\u001b[0;32m~/.pyenv/versions/3.7.9/lib/python3.7/json/decoder.py\u001b[0m in \u001b[0;36mdecode\u001b[0;34m(self, s, _w)\u001b[0m\n\u001b[1;32m    335\u001b[0m \u001b[0;34m\u001b[0m\u001b[0m\n\u001b[1;32m    336\u001b[0m         \"\"\"\n\u001b[0;32m--> 337\u001b[0;31m         \u001b[0mobj\u001b[0m\u001b[0;34m,\u001b[0m \u001b[0mend\u001b[0m \u001b[0;34m=\u001b[0m \u001b[0mself\u001b[0m\u001b[0;34m.\u001b[0m\u001b[0mraw_decode\u001b[0m\u001b[0;34m(\u001b[0m\u001b[0ms\u001b[0m\u001b[0;34m,\u001b[0m \u001b[0midx\u001b[0m\u001b[0;34m=\u001b[0m\u001b[0m_w\u001b[0m\u001b[0;34m(\u001b[0m\u001b[0ms\u001b[0m\u001b[0;34m,\u001b[0m \u001b[0;36m0\u001b[0m\u001b[0;34m)\u001b[0m\u001b[0;34m.\u001b[0m\u001b[0mend\u001b[0m\u001b[0;34m(\u001b[0m\u001b[0;34m)\u001b[0m\u001b[0;34m)\u001b[0m\u001b[0;34m\u001b[0m\u001b[0;34m\u001b[0m\u001b[0m\n\u001b[0m\u001b[1;32m    338\u001b[0m         \u001b[0mend\u001b[0m \u001b[0;34m=\u001b[0m \u001b[0m_w\u001b[0m\u001b[0;34m(\u001b[0m\u001b[0ms\u001b[0m\u001b[0;34m,\u001b[0m \u001b[0mend\u001b[0m\u001b[0;34m)\u001b[0m\u001b[0;34m.\u001b[0m\u001b[0mend\u001b[0m\u001b[0;34m(\u001b[0m\u001b[0;34m)\u001b[0m\u001b[0;34m\u001b[0m\u001b[0;34m\u001b[0m\u001b[0m\n\u001b[1;32m    339\u001b[0m         \u001b[0;32mif\u001b[0m \u001b[0mend\u001b[0m \u001b[0;34m!=\u001b[0m \u001b[0mlen\u001b[0m\u001b[0;34m(\u001b[0m\u001b[0ms\u001b[0m\u001b[0;34m)\u001b[0m\u001b[0;34m:\u001b[0m\u001b[0;34m\u001b[0m\u001b[0;34m\u001b[0m\u001b[0m\n",
      "\u001b[0;32m~/.pyenv/versions/3.7.9/lib/python3.7/json/decoder.py\u001b[0m in \u001b[0;36mraw_decode\u001b[0;34m(self, s, idx)\u001b[0m\n\u001b[1;32m    351\u001b[0m         \"\"\"\n\u001b[1;32m    352\u001b[0m         \u001b[0;32mtry\u001b[0m\u001b[0;34m:\u001b[0m\u001b[0;34m\u001b[0m\u001b[0;34m\u001b[0m\u001b[0m\n\u001b[0;32m--> 353\u001b[0;31m             \u001b[0mobj\u001b[0m\u001b[0;34m,\u001b[0m \u001b[0mend\u001b[0m \u001b[0;34m=\u001b[0m \u001b[0mself\u001b[0m\u001b[0;34m.\u001b[0m\u001b[0mscan_once\u001b[0m\u001b[0;34m(\u001b[0m\u001b[0ms\u001b[0m\u001b[0;34m,\u001b[0m \u001b[0midx\u001b[0m\u001b[0;34m)\u001b[0m\u001b[0;34m\u001b[0m\u001b[0;34m\u001b[0m\u001b[0m\n\u001b[0m\u001b[1;32m    354\u001b[0m         \u001b[0;32mexcept\u001b[0m \u001b[0mStopIteration\u001b[0m \u001b[0;32mas\u001b[0m \u001b[0merr\u001b[0m\u001b[0;34m:\u001b[0m\u001b[0;34m\u001b[0m\u001b[0;34m\u001b[0m\u001b[0m\n\u001b[1;32m    355\u001b[0m             \u001b[0;32mraise\u001b[0m \u001b[0mJSONDecodeError\u001b[0m\u001b[0;34m(\u001b[0m\u001b[0;34m\"Expecting value\"\u001b[0m\u001b[0;34m,\u001b[0m \u001b[0ms\u001b[0m\u001b[0;34m,\u001b[0m \u001b[0merr\u001b[0m\u001b[0;34m.\u001b[0m\u001b[0mvalue\u001b[0m\u001b[0;34m)\u001b[0m \u001b[0;32mfrom\u001b[0m \u001b[0;32mNone\u001b[0m\u001b[0;34m\u001b[0m\u001b[0;34m\u001b[0m\u001b[0m\n",
      "\u001b[0;31mJSONDecodeError\u001b[0m: Expecting property name enclosed in double quotes: line 1 column 2 (char 1)"
     ]
    }
   ],
   "source": [
    "for b in range(26):\n",
    "    for a in tqdm(reps[:1]):\n",
    "        occ=a.occurrence_type\n",
    "        for c in occ.form_fields['fields']:\n",
    "            if c['apiName'] == 'idCcrAntt':\n",
    "                autofillCCR = jsonLogic(c['autofill'])\n",
    "        print(autofillCCR)"
   ]
  },
  {
   "cell_type": "code",
   "execution_count": 51,
   "id": "0b742db0",
   "metadata": {},
   "outputs": [
    {
     "data": {
      "text/plain": [
       "{'uf': 'RJ',\n",
       " 'city': 'Angra dos Reis',\n",
       " 'zone': '2',\n",
       " 'ocupation_kind': '5',\n",
       " 'characteristics': '3',\n",
       " 'ocupation_kind_others': 'Edificação',\n",
       " 'id_ccr_antt': 'OC 101 RJ 458+280 N'}"
      ]
     },
     "execution_count": 51,
     "metadata": {},
     "output_type": "execute_result"
    }
   ],
   "source": [
    "reps[9].form_data"
   ]
  },
  {
   "cell_type": "code",
   "execution_count": 6,
   "id": "6ebd95e2",
   "metadata": {
    "scrolled": true
   },
   "outputs": [
    {
     "data": {
      "text/plain": [
       "({'cat': [{'if': [{'==': [1, {'var': 'formData.elemento'}]},\n",
       "     'DA ',\n",
       "     {'==': [2, {'var': 'formData.elemento'}]},\n",
       "     'DA ',\n",
       "     {'==': [3, {'var': 'formData.elemento'}]},\n",
       "     'DI ',\n",
       "     {'==': [4, {'var': 'formData.elemento'}]},\n",
       "     'MF ',\n",
       "     {'==': [5, {'var': 'formData.elemento'}]},\n",
       "     'SJ ',\n",
       "     {'==': [6, {'var': 'formData.elemento'}]},\n",
       "     'VA ',\n",
       "     {'==': [7, {'var': 'formData.elemento'}]},\n",
       "     'TSS ']},\n",
       "   {'cat': [{'substr': [{'var': 'roadName'}, 3, -3]}, ' ']},\n",
       "   {'var': 'formData.uf'},\n",
       "   ' ',\n",
       "   {'if': [{'<': [{'var': 'km'}, 10]},\n",
       "     {'cat': [{'substr': [{'var': 'km'}, 0, 1]},\n",
       "       '+',\n",
       "       {'if': [{'==': [{'substr': [{'var': 'km'}, 2, 10]}, 0]},\n",
       "         '000',\n",
       "         {'==': [{'substr': [{'var': 'km'}, 3, 10]}, 0]},\n",
       "         {'cat': [{'substr': [{'var': 'km'}, 2, 1]}, '00']},\n",
       "         {'==': [{'substr': [{'var': 'km'}, 4, 10]}, 0]},\n",
       "         {'cat': [{'substr': [{'var': 'km'}, 2, 2]}, '0']},\n",
       "         {'substr': [{'var': 'km'}, 2]}]}]},\n",
       "     {'and': [{'>=': [{'var': 'km'}, 10]}, {'<': [{'var': 'km'}, 100]}]},\n",
       "     {'cat': [{'substr': [{'var': 'km'}, 0, 2]},\n",
       "       '+',\n",
       "       {'if': [{'==': [{'substr': [{'var': 'km'}, 3, 10]}, 0]},\n",
       "         '000',\n",
       "         {'==': [{'substr': [{'var': 'km'}, 4, 10]}, 0]},\n",
       "         {'cat': [{'substr': [{'var': 'km'}, 3, 1]}, '00']},\n",
       "         {'==': [{'substr': [{'var': 'km'}, 5, 10]}, 0]},\n",
       "         {'cat': [{'substr': [{'var': 'km'}, 3, 2]}, '0']},\n",
       "         {'substr': [{'var': 'km'}, 3]}]}]},\n",
       "     {'and': [{'>=': [{'var': 'km'}, 100]}, {'<': [{'var': 'km'}, 1000]}]},\n",
       "     {'cat': [{'substr': [{'var': 'km'}, 0, 3]},\n",
       "       '+',\n",
       "       {'if': [{'==': [{'substr': [{'var': 'km'}, 4, 10]}, 0]},\n",
       "         '000',\n",
       "         {'==': [{'substr': [{'var': 'km'}, 5, 10]}, 0]},\n",
       "         {'cat': [{'substr': [{'var': 'km'}, 4, 1]}, '00']},\n",
       "         {'==': [{'substr': [{'var': 'km'}, 6, 10]}, 0]},\n",
       "         {'cat': [{'substr': [{'var': 'km'}, 4, 2]}, '0']},\n",
       "         {'substr': [{'var': 'km'}, 4]}]}]}]},\n",
       "   ' ',\n",
       "   {'substr': [{'if': [{'==': [{'var': 'direction'}, 0]},\n",
       "       'N',\n",
       "       {'==': [{'var': 'direction'}, 1]},\n",
       "       'S',\n",
       "       {'==': [{'var': 'direction'}, 2]},\n",
       "       'L',\n",
       "       {'==': [{'var': 'direction'}, 3]},\n",
       "       'O',\n",
       "       {'==': [{'var': 'direction'}, 4]},\n",
       "       'N/S',\n",
       "       {'==': [{'var': 'direction'}, 5]},\n",
       "       'L/O',\n",
       "       {'==': [{'var': 'direction'}, 6]},\n",
       "       'C',\n",
       "       {'==': [{'var': 'direction'}, 7]},\n",
       "       'D',\n",
       "       {'==': [{'var': 'direction'}, 8]},\n",
       "       'CC',\n",
       "       {'==': [{'var': 'direction'}, 9]},\n",
       "       'A',\n",
       "       {'==': [{'var': 'direction'}, 10]},\n",
       "       'NA']}]},\n",
       "   {'cat': [' ', {'var': 'formData.index'}]}]},\n",
       " 'Drenagem Superficial')"
      ]
     },
     "execution_count": 6,
     "metadata": {},
     "output_type": "execute_result"
    }
   ],
   "source": [
    "Reporting.objects.first().occurrence_type.form_fields['fields'][0]['autofill'],Reporting.objects.first().occurrence_type.name"
   ]
  },
  {
   "cell_type": "code",
   "execution_count": 14,
   "id": "02d6cb09",
   "metadata": {},
   "outputs": [],
   "source": [
    "rep=Reporting.objects.get(number='CCR-Inv-2023.36830')"
   ]
  },
  {
   "cell_type": "code",
   "execution_count": 16,
   "id": "505bf508",
   "metadata": {},
   "outputs": [],
   "source": [
    "rep.form_metadata['id_ccr_antt'] = {'manually_specified': False}"
   ]
  },
  {
   "cell_type": "code",
   "execution_count": 17,
   "id": "ecb9e24c",
   "metadata": {},
   "outputs": [
    {
     "name": "stdout",
     "output_type": "stream",
     "text": [
      "Searching KM on direction...\n",
      "Found KM on Road 2041: BR-101 RJ\n"
     ]
    }
   ],
   "source": [
    "# rep.save()"
   ]
  },
  {
   "cell_type": "code",
   "execution_count": 8,
   "id": "70f6862c",
   "metadata": {},
   "outputs": [
    {
     "data": {
      "text/plain": [
       "43910"
      ]
     },
     "execution_count": 8,
     "metadata": {},
     "output_type": "execute_result"
    }
   ],
   "source": [
    "Reporting.objects.filter(occurrence_type__occurrence_kind='2').count()"
   ]
  },
  {
   "cell_type": "markdown",
   "id": "5f611392",
   "metadata": {},
   "source": [
    "# Alterar campos de encontrado_em para criado_em"
   ]
  },
  {
   "cell_type": "code",
   "execution_count": 1,
   "id": "79ce8465",
   "metadata": {},
   "outputs": [],
   "source": [
    "from tqdm.notebook import tqdm\n",
    "from helpers.histories import bulk_update_with_history"
   ]
  },
  {
   "cell_type": "code",
   "execution_count": 2,
   "id": "43b390ff",
   "metadata": {},
   "outputs": [],
   "source": [
    "user=User.objects.get(username='rlcs')"
   ]
  },
  {
   "cell_type": "code",
   "execution_count": 7,
   "id": "ac1766fb",
   "metadata": {},
   "outputs": [
    {
     "data": {
      "text/plain": [
       "43910"
      ]
     },
     "execution_count": 7,
     "metadata": {},
     "output_type": "execute_result"
    }
   ],
   "source": [
    "Reporting.objects.filter(occurrence_type__occurrence_kind='2').count()"
   ]
  },
  {
   "cell_type": "code",
   "execution_count": 5,
   "id": "9fe62862",
   "metadata": {},
   "outputs": [],
   "source": [
    "rep_edit=[]\n",
    "for a in Reporting.objects.filter(occurrence_type__occurrence_kind='2').exclude(found_at__isnull=True):\n",
    "    created_at = a.created_at\n",
    "    a.created_at = a.found_at\n",
    "    a.found_at = created_at\n",
    "    rep_edit.append(a)"
   ]
  },
  {
   "cell_type": "code",
   "execution_count": 4,
   "id": "1f62b67e",
   "metadata": {},
   "outputs": [
    {
     "data": {
      "text/plain": [
       "[]"
      ]
     },
     "execution_count": 4,
     "metadata": {},
     "output_type": "execute_result"
    }
   ],
   "source": [
    "rep_edit"
   ]
  },
  {
   "cell_type": "code",
   "execution_count": null,
   "id": "3819438e",
   "metadata": {},
   "outputs": [],
   "source": [
    "apontamentos = bulk_update_with_history(rep_edit,Reporting, use_django_bulk=True,batch_size=1200,user=user)"
   ]
  },
  {
   "cell_type": "code",
   "execution_count": null,
   "id": "70731a0a",
   "metadata": {},
   "outputs": [],
   "source": []
  },
  {
   "cell_type": "markdown",
   "id": "4341e60f",
   "metadata": {},
   "source": [
    "# inclusão de campos json em formulario existente"
   ]
  },
  {
   "cell_type": "code",
   "execution_count": null,
   "id": "7ec2750f",
   "metadata": {},
   "outputs": [],
   "source": [
    "from copy import deepcopy\n",
    "from tqdm.notebook import tqdm\n",
    "from django.contrib.admin.utils import flatten\n",
    "from helpers.strings import keys_to_snake_case, keys_to_camel_case\n",
    "from rest_framework_json_api.utils import format_field_names"
   ]
  },
  {
   "cell_type": "code",
   "execution_count": null,
   "id": "a395ecb7",
   "metadata": {},
   "outputs": [],
   "source": [
    "def format_keys(obj, format_type=\"camelize\"):\n",
    "    if isinstance(obj, dict):\n",
    "        for key, value in obj.items():\n",
    "            if isinstance(value, dict):\n",
    "                obj[key] = format_field_names(\n",
    "                            format_keys(value), format_type\n",
    "                            )\n",
    "            elif isinstance(value, list):\n",
    "                list_temp = value.copy()\n",
    "                for i, item in enumerate(value):\n",
    "                    if isinstance(item, dict):\n",
    "                        list_temp[i] = format_field_names(\n",
    "                        format_keys(item), format_type\n",
    "                        )\n",
    "                    else:\n",
    "                        list_temp[i] = item\n",
    "                obj[key] = list_temp\n",
    "    return obj"
   ]
  },
  {
   "cell_type": "code",
   "execution_count": 2,
   "id": "aa930b18",
   "metadata": {},
   "outputs": [
    {
     "data": {
      "text/plain": [
       "<Company: 3af64f25-59e8-446b-bb1e-963549090b0d: CCR - Rio Sp>"
      ]
     },
     "execution_count": 2,
     "metadata": {},
     "output_type": "execute_result"
    }
   ],
   "source": [
    "company = Company.objects.get(name=\"CCR - Rio Sp\")\n",
    "company"
   ]
  },
  {
   "cell_type": "code",
   "execution_count": 3,
   "id": "30920faf",
   "metadata": {},
   "outputs": [
    {
     "data": {
      "text/plain": [
       "22"
      ]
     },
     "execution_count": 3,
     "metadata": {},
     "output_type": "execute_result"
    }
   ],
   "source": [
    "occurrence = OccurrenceType.objects.filter(company=company,occurrence_kind=2).order_by('name')\n",
    "occurrence.count()"
   ]
  },
  {
   "cell_type": "code",
   "execution_count": null,
   "id": "9ddcc269",
   "metadata": {},
   "outputs": [],
   "source": [
    "for match in tqdm(occurrence):\n",
    "    for index, field in enumerate(match.form_fields['fields']):\n",
    "        match.form_fields['fields'][index]=format_keys(keys_to_camel_case(field))\n",
    "    for indexg, field_group in enumerate(match.form_fields['groups']):\n",
    "        match.form_fields['groups'][indexg]=format_keys(keys_to_camel_case(field_group))\n",
    "    match.save()"
   ]
  },
  {
   "cell_type": "code",
   "execution_count": null,
   "id": "704a0736",
   "metadata": {},
   "outputs": [],
   "source": [
    "for a in tqdm(occurrence):\n",
    "    size = len(ac.form_fields['fields'])\n",
    "    ac.form_fields['fields'].append({\n",
    "                                        \"id\": size+1,\n",
    "                                        \"apiName\": \"laneCcr\",\n",
    "                                        \"dataType\": \"select\",\n",
    "                                        \"displayName\": \"Faixa\",\n",
    "                                        \"selectOptions\": {\n",
    "                                            \"options\": [{\n",
    "                                                \"name\": \"Canteiro Central\",\n",
    "                                                \"value\": \"1\"\n",
    "                                            }, {\n",
    "                                                \"name\": \"Canteiro Lateral\",\n",
    "                                                \"value\": \"2\"\n",
    "                                            }]\n",
    "                                        }\n",
    "                                    })\n",
    "    ac.form_fields['fields'].append({\n",
    "                                        \"id\": size+2,\n",
    "                                        \"apiName\": \"directionCcr\",\n",
    "                                        \"dataType\": \"select\",\n",
    "                                        \"displayName\": \"Sentidos\",\n",
    "                                        \"selectOptions\": {\n",
    "                                            \"options\": [{\n",
    "                                                \"name\": \"Interna\",\n",
    "                                                \"value\": \"1\"\n",
    "                                            }, {\n",
    "                                                \"name\": \"Externa\",\n",
    "                                                \"value\": \"2\"\n",
    "                                            }]\n",
    "                                        }\n",
    "                                    })\n",
    "    ac.form_fields['fields'].append({\n",
    "                                        \"id\": size+3,\n",
    "                                        \"apiName\": \"kindAsset\",\n",
    "                                        \"dataType\": \"select\",\n",
    "                                        \"displayName\": \"Tipo de Ativo\",\n",
    "                                        \"selectOptions\": {\n",
    "                                            \"options\": [{\n",
    "                                                \"name\": \"Linear\",\n",
    "                                                \"value\": \"1\"\n",
    "                                            }, {\n",
    "                                                \"name\": \"Não-Linear\",\n",
    "                                                \"value\": \"2\"\n",
    "                                            }]\n",
    "                                        }\n",
    "                                    })\n",
    "    ac.form_fields['groups'][0]['members'].append(size+1)\n",
    "    ac.form_fields['groups'][0]['members'].append(size+2)\n",
    "    ac.form_fields['groups'][0]['members'].append(size+3)"
   ]
  },
  {
   "cell_type": "code",
   "execution_count": null,
   "id": "3dcc77af",
   "metadata": {},
   "outputs": [],
   "source": []
  },
  {
   "cell_type": "code",
   "execution_count": 1,
   "id": "8f1af293",
   "metadata": {},
   "outputs": [
    {
     "data": {
      "text/plain": [
       "1451"
      ]
     },
     "execution_count": 1,
     "metadata": {},
     "output_type": "execute_result"
    }
   ],
   "source": [
    "reps=Reporting.objects.filter(occurrence_type__name='Drenagem Superficial')\n",
    "reps.count()"
   ]
  },
  {
   "cell_type": "code",
   "execution_count": 2,
   "id": "3ac6a158",
   "metadata": {},
   "outputs": [
    {
     "data": {
      "application/vnd.jupyter.widget-view+json": {
       "model_id": "064a6d9ae1ea43e9be08837088e437f5",
       "version_major": 2,
       "version_minor": 0
      },
      "text/plain": [
       "  0%|          | 0/850 [00:00<?, ?it/s]"
      ]
     },
     "metadata": {},
     "output_type": "display_data"
    },
    {
     "data": {
      "application/vnd.jupyter.widget-view+json": {
       "model_id": "8c1d94c20c0c42028f855c5560caab83",
       "version_major": 2,
       "version_minor": 0
      },
      "text/plain": [
       "  0%|          | 0/601 [00:00<?, ?it/s]"
      ]
     },
     "metadata": {},
     "output_type": "display_data"
    },
    {
     "data": {
      "application/vnd.jupyter.widget-view+json": {
       "model_id": "575afcf745524381bb7504d6038c451c",
       "version_major": 2,
       "version_minor": 0
      },
      "text/plain": [
       "0it [00:00, ?it/s]"
      ]
     },
     "metadata": {},
     "output_type": "display_data"
    },
    {
     "data": {
      "application/vnd.jupyter.widget-view+json": {
       "model_id": "adb4fe2729034bf396f637f69e0d6113",
       "version_major": 2,
       "version_minor": 0
      },
      "text/plain": [
       "0it [00:00, ?it/s]"
      ]
     },
     "metadata": {},
     "output_type": "display_data"
    },
    {
     "data": {
      "application/vnd.jupyter.widget-view+json": {
       "model_id": "c08dad2f74c641b8b2602a4a68216172",
       "version_major": 2,
       "version_minor": 0
      },
      "text/plain": [
       "0it [00:00, ?it/s]"
      ]
     },
     "metadata": {},
     "output_type": "display_data"
    },
    {
     "data": {
      "application/vnd.jupyter.widget-view+json": {
       "model_id": "63a72b23555640d99a45f9e21e44bcd8",
       "version_major": 2,
       "version_minor": 0
      },
      "text/plain": [
       "0it [00:00, ?it/s]"
      ]
     },
     "metadata": {},
     "output_type": "display_data"
    },
    {
     "data": {
      "application/vnd.jupyter.widget-view+json": {
       "model_id": "40057123004940cabfae230fdcf61b0b",
       "version_major": 2,
       "version_minor": 0
      },
      "text/plain": [
       "0it [00:00, ?it/s]"
      ]
     },
     "metadata": {},
     "output_type": "display_data"
    },
    {
     "data": {
      "application/vnd.jupyter.widget-view+json": {
       "model_id": "58ed26ad09dc4a72b73626678728c640",
       "version_major": 2,
       "version_minor": 0
      },
      "text/plain": [
       "0it [00:00, ?it/s]"
      ]
     },
     "metadata": {},
     "output_type": "display_data"
    },
    {
     "data": {
      "application/vnd.jupyter.widget-view+json": {
       "model_id": "cc612926d3364d6292be9f8a9d4f7354",
       "version_major": 2,
       "version_minor": 0
      },
      "text/plain": [
       "0it [00:00, ?it/s]"
      ]
     },
     "metadata": {},
     "output_type": "display_data"
    },
    {
     "data": {
      "application/vnd.jupyter.widget-view+json": {
       "model_id": "a5570d8a3b344ed0a0cca74c1fb67ab4",
       "version_major": 2,
       "version_minor": 0
      },
      "text/plain": [
       "0it [00:00, ?it/s]"
      ]
     },
     "metadata": {},
     "output_type": "display_data"
    },
    {
     "data": {
      "application/vnd.jupyter.widget-view+json": {
       "model_id": "d2876901652949c78c58dd81d31f2500",
       "version_major": 2,
       "version_minor": 0
      },
      "text/plain": [
       "0it [00:00, ?it/s]"
      ]
     },
     "metadata": {},
     "output_type": "display_data"
    },
    {
     "data": {
      "application/vnd.jupyter.widget-view+json": {
       "model_id": "3f019d98b336401cabd7f6f1ce9de0a4",
       "version_major": 2,
       "version_minor": 0
      },
      "text/plain": [
       "0it [00:00, ?it/s]"
      ]
     },
     "metadata": {},
     "output_type": "display_data"
    },
    {
     "data": {
      "application/vnd.jupyter.widget-view+json": {
       "model_id": "b11813c95fdd4363859d499f8c8f9591",
       "version_major": 2,
       "version_minor": 0
      },
      "text/plain": [
       "0it [00:00, ?it/s]"
      ]
     },
     "metadata": {},
     "output_type": "display_data"
    },
    {
     "data": {
      "application/vnd.jupyter.widget-view+json": {
       "model_id": "291a29b48b83498e94f8e27486c0e820",
       "version_major": 2,
       "version_minor": 0
      },
      "text/plain": [
       "0it [00:00, ?it/s]"
      ]
     },
     "metadata": {},
     "output_type": "display_data"
    },
    {
     "data": {
      "application/vnd.jupyter.widget-view+json": {
       "model_id": "1bce9a021bae4c23aa671fb2123c5e41",
       "version_major": 2,
       "version_minor": 0
      },
      "text/plain": [
       "0it [00:00, ?it/s]"
      ]
     },
     "metadata": {},
     "output_type": "display_data"
    },
    {
     "data": {
      "application/vnd.jupyter.widget-view+json": {
       "model_id": "3496a6df60d54c13b89b8fddb430cdc6",
       "version_major": 2,
       "version_minor": 0
      },
      "text/plain": [
       "0it [00:00, ?it/s]"
      ]
     },
     "metadata": {},
     "output_type": "display_data"
    },
    {
     "data": {
      "application/vnd.jupyter.widget-view+json": {
       "model_id": "b8e030ec270549a2a75d978d129beb6c",
       "version_major": 2,
       "version_minor": 0
      },
      "text/plain": [
       "0it [00:00, ?it/s]"
      ]
     },
     "metadata": {},
     "output_type": "display_data"
    },
    {
     "data": {
      "application/vnd.jupyter.widget-view+json": {
       "model_id": "ba94c5cc03414141ac1dce4fb6510e7e",
       "version_major": 2,
       "version_minor": 0
      },
      "text/plain": [
       "0it [00:00, ?it/s]"
      ]
     },
     "metadata": {},
     "output_type": "display_data"
    },
    {
     "data": {
      "application/vnd.jupyter.widget-view+json": {
       "model_id": "1d1d8208d4aa4da0afdaef930e6cdc77",
       "version_major": 2,
       "version_minor": 0
      },
      "text/plain": [
       "0it [00:00, ?it/s]"
      ]
     },
     "metadata": {},
     "output_type": "display_data"
    },
    {
     "data": {
      "application/vnd.jupyter.widget-view+json": {
       "model_id": "b2987bba14b24d0db46c847aa3e8dfab",
       "version_major": 2,
       "version_minor": 0
      },
      "text/plain": [
       "0it [00:00, ?it/s]"
      ]
     },
     "metadata": {},
     "output_type": "display_data"
    }
   ],
   "source": [
    "from tqdm.notebook import tqdm\n",
    "for a in range(20):\n",
    "    for a in tqdm(reps[:850]):\n",
    "        a.delete()"
   ]
  },
  {
   "cell_type": "code",
   "execution_count": 1,
   "id": "e5ebc549",
   "metadata": {},
   "outputs": [
    {
     "name": "stdout",
     "output_type": "stream",
     "text": [
      "STAGE=CCR_HOMOLOG\r\n"
     ]
    }
   ],
   "source": [
    "!cat .env"
   ]
  },
  {
   "cell_type": "markdown",
   "id": "a5d93392",
   "metadata": {},
   "source": [
    "# reporting exemplo homolog 4470beac-5798-4cb2-a415-d0fe18de3fbf Relatório Imagens"
   ]
  },
  {
   "cell_type": "code",
   "execution_count": 1,
   "id": "e927edfc",
   "metadata": {},
   "outputs": [],
   "source": [
    "import pandas as pd"
   ]
  },
  {
   "cell_type": "code",
   "execution_count": 2,
   "id": "0bf15b18",
   "metadata": {},
   "outputs": [
    {
     "data": {
      "text/plain": [
       "0"
      ]
     },
     "execution_count": 2,
     "metadata": {},
     "output_type": "execute_result"
    }
   ],
   "source": [
    "reps=Reporting.objects.filter(occurrence_type__name=\"Monitoração de Terraplenos e Estruturas de Contenção\")\n",
    "reps.count()"
   ]
  },
  {
   "cell_type": "code",
   "execution_count": 8,
   "id": "bee69990",
   "metadata": {},
   "outputs": [],
   "source": [
    "dados=[]\n",
    "qtd_esperada,croqui_esperada,pano_esperada=5,1,1\n",
    "for a in reps:\n",
    "    panoramic_size,patology_size,details_size,criste_size,right_size,left_size,foot_size=0,0,0,0,0,0,0\n",
    "#     A última que sairá na exportação no formato validado, foto do campo \n",
    "#     “Croqui Atual”, será a primeira foto não obrigatória inserida no \n",
    "#     apontamento.\n",
    "    primeira_imagem_croqui_geral=ReportingFile.objects.filter(reporting=a.uuid).order_by(\"-uploaded_at\").count()\n",
    "    \n",
    "    if a.form_data.get('mandatory_pictures') and len(a.form_data.get('mandatory_pictures')) >0:\n",
    "        mandatory_pictures=a.form_data['mandatory_pictures'][0]\n",
    "        panoramic_size=len(mandatory_pictures.get('panoramic_mandatory')) if mandatory_pictures.get('panoramic_mandatory') else 0\n",
    "        patology_size=len(mandatory_pictures.get('patology_mandatory')) if mandatory_pictures.get('patology_mandatory') else 0\n",
    "        details_size=len(mandatory_pictures.get('details_mandatory')) if mandatory_pictures.get('details_mandatory') else 0\n",
    "        criste_size=len(mandatory_pictures.get('criste_mandatory')) if mandatory_pictures.get('criste_mandatory') else 0\n",
    "        right_size=len(mandatory_pictures.get('right_mandatory')) if mandatory_pictures.get('right_mandatory') else 0\n",
    "        left_size=len(mandatory_pictures.get('left_mandatory')) if mandatory_pictures.get('left_mandatory') else 0\n",
    "        foot_size=len(mandatory_pictures.get('foot_mandatory')) if mandatory_pictures.get('foot_mandatory') else 0\n",
    "        \n",
    "        \n",
    "        dados.append([a.number,\n",
    "                      primeira_imagem_croqui_geral, croqui_esperada,\n",
    "                      panoramic_size, pano_esperada,\n",
    "                      patology_size,\n",
    "                      details_size,\n",
    "                      criste_size,\n",
    "                      right_size,\n",
    "                      left_size,\n",
    "                      foot_size])\n",
    "#         print(a.number,panoramic_size,patology_size,details_size,criste_size,right_size,left_size,foot_size)\n"
   ]
  },
  {
   "cell_type": "code",
   "execution_count": 9,
   "id": "10581ab7",
   "metadata": {},
   "outputs": [],
   "source": [
    "df=pd.DataFrame(data=dados,columns=['Serial',\n",
    "                                    'Croqui Adiconada','Croqui Esperada',\n",
    "                                    'Panoramica Atual Adicionada','Panoramica Atual Esperada',\n",
    "                                    'Patologia Adicionada','Detalhes Adicionada','Crista Adicionada','Vista Direita Adicionada','Vista Esquerda Adicionada','Pé Adicionada'])\n",
    "df.set_index(\"Serial\", inplace=True)"
   ]
  },
  {
   "cell_type": "code",
   "execution_count": 11,
   "id": "82dc33f8",
   "metadata": {},
   "outputs": [
    {
     "data": {
      "text/html": [
       "<div>\n",
       "<style scoped>\n",
       "    .dataframe tbody tr th:only-of-type {\n",
       "        vertical-align: middle;\n",
       "    }\n",
       "\n",
       "    .dataframe tbody tr th {\n",
       "        vertical-align: top;\n",
       "    }\n",
       "\n",
       "    .dataframe thead th {\n",
       "        text-align: right;\n",
       "    }\n",
       "</style>\n",
       "<table border=\"1\" class=\"dataframe\">\n",
       "  <thead>\n",
       "    <tr style=\"text-align: right;\">\n",
       "      <th></th>\n",
       "      <th>Croqui Adiconada</th>\n",
       "      <th>Croqui Esperada</th>\n",
       "      <th>Panoramica Atual Adicionada</th>\n",
       "      <th>Panoramica Atual Esperada</th>\n",
       "      <th>Patologia Adicionada</th>\n",
       "      <th>Detalhes Adicionada</th>\n",
       "      <th>Crista Adicionada</th>\n",
       "      <th>Vista Direita Adicionada</th>\n",
       "      <th>Vista Esquerda Adicionada</th>\n",
       "      <th>Pé Adicionada</th>\n",
       "    </tr>\n",
       "    <tr>\n",
       "      <th>Serial</th>\n",
       "      <th></th>\n",
       "      <th></th>\n",
       "      <th></th>\n",
       "      <th></th>\n",
       "      <th></th>\n",
       "      <th></th>\n",
       "      <th></th>\n",
       "      <th></th>\n",
       "      <th></th>\n",
       "      <th></th>\n",
       "    </tr>\n",
       "  </thead>\n",
       "  <tbody>\n",
       "    <tr>\n",
       "      <th>CCR-TER-2023.00020</th>\n",
       "      <td>0</td>\n",
       "      <td>1</td>\n",
       "      <td>0</td>\n",
       "      <td>1</td>\n",
       "      <td>0</td>\n",
       "      <td>0</td>\n",
       "      <td>0</td>\n",
       "      <td>0</td>\n",
       "      <td>0</td>\n",
       "      <td>0</td>\n",
       "    </tr>\n",
       "    <tr>\n",
       "      <th>CCR-TER-2023.00006</th>\n",
       "      <td>2</td>\n",
       "      <td>1</td>\n",
       "      <td>1</td>\n",
       "      <td>1</td>\n",
       "      <td>0</td>\n",
       "      <td>0</td>\n",
       "      <td>0</td>\n",
       "      <td>0</td>\n",
       "      <td>0</td>\n",
       "      <td>0</td>\n",
       "    </tr>\n",
       "    <tr>\n",
       "      <th>CCR-TER-2023.00021</th>\n",
       "      <td>0</td>\n",
       "      <td>1</td>\n",
       "      <td>0</td>\n",
       "      <td>1</td>\n",
       "      <td>0</td>\n",
       "      <td>0</td>\n",
       "      <td>0</td>\n",
       "      <td>0</td>\n",
       "      <td>0</td>\n",
       "      <td>0</td>\n",
       "    </tr>\n",
       "    <tr>\n",
       "      <th>CCR-TER-2023.02053</th>\n",
       "      <td>1</td>\n",
       "      <td>1</td>\n",
       "      <td>1</td>\n",
       "      <td>1</td>\n",
       "      <td>0</td>\n",
       "      <td>0</td>\n",
       "      <td>0</td>\n",
       "      <td>0</td>\n",
       "      <td>0</td>\n",
       "      <td>0</td>\n",
       "    </tr>\n",
       "    <tr>\n",
       "      <th>CCR-TER-2023.02054</th>\n",
       "      <td>7</td>\n",
       "      <td>1</td>\n",
       "      <td>1</td>\n",
       "      <td>1</td>\n",
       "      <td>1</td>\n",
       "      <td>1</td>\n",
       "      <td>1</td>\n",
       "      <td>1</td>\n",
       "      <td>1</td>\n",
       "      <td>1</td>\n",
       "    </tr>\n",
       "    <tr>\n",
       "      <th>CCR-TER-2023.00024</th>\n",
       "      <td>9</td>\n",
       "      <td>1</td>\n",
       "      <td>3</td>\n",
       "      <td>1</td>\n",
       "      <td>1</td>\n",
       "      <td>1</td>\n",
       "      <td>1</td>\n",
       "      <td>1</td>\n",
       "      <td>1</td>\n",
       "      <td>1</td>\n",
       "    </tr>\n",
       "    <tr>\n",
       "      <th>CCR-TER-2023.00025</th>\n",
       "      <td>7</td>\n",
       "      <td>1</td>\n",
       "      <td>1</td>\n",
       "      <td>1</td>\n",
       "      <td>1</td>\n",
       "      <td>1</td>\n",
       "      <td>1</td>\n",
       "      <td>1</td>\n",
       "      <td>1</td>\n",
       "      <td>1</td>\n",
       "    </tr>\n",
       "    <tr>\n",
       "      <th>CCR-OAC-2023.00030</th>\n",
       "      <td>3</td>\n",
       "      <td>1</td>\n",
       "      <td>1</td>\n",
       "      <td>1</td>\n",
       "      <td>0</td>\n",
       "      <td>0</td>\n",
       "      <td>0</td>\n",
       "      <td>1</td>\n",
       "      <td>1</td>\n",
       "      <td>0</td>\n",
       "    </tr>\n",
       "    <tr>\n",
       "      <th>CCR-TER-2023.00026</th>\n",
       "      <td>1</td>\n",
       "      <td>1</td>\n",
       "      <td>1</td>\n",
       "      <td>1</td>\n",
       "      <td>0</td>\n",
       "      <td>0</td>\n",
       "      <td>0</td>\n",
       "      <td>0</td>\n",
       "      <td>0</td>\n",
       "      <td>0</td>\n",
       "    </tr>\n",
       "    <tr>\n",
       "      <th>CCR-TER-2023.00001</th>\n",
       "      <td>4</td>\n",
       "      <td>1</td>\n",
       "      <td>3</td>\n",
       "      <td>1</td>\n",
       "      <td>0</td>\n",
       "      <td>0</td>\n",
       "      <td>0</td>\n",
       "      <td>0</td>\n",
       "      <td>0</td>\n",
       "      <td>0</td>\n",
       "    </tr>\n",
       "    <tr>\n",
       "      <th>CCR-TER-2023.00017</th>\n",
       "      <td>0</td>\n",
       "      <td>1</td>\n",
       "      <td>0</td>\n",
       "      <td>1</td>\n",
       "      <td>0</td>\n",
       "      <td>0</td>\n",
       "      <td>0</td>\n",
       "      <td>0</td>\n",
       "      <td>0</td>\n",
       "      <td>0</td>\n",
       "    </tr>\n",
       "    <tr>\n",
       "      <th>CCR-TER-2023.00047</th>\n",
       "      <td>7</td>\n",
       "      <td>1</td>\n",
       "      <td>1</td>\n",
       "      <td>1</td>\n",
       "      <td>1</td>\n",
       "      <td>1</td>\n",
       "      <td>1</td>\n",
       "      <td>1</td>\n",
       "      <td>1</td>\n",
       "      <td>1</td>\n",
       "    </tr>\n",
       "    <tr>\n",
       "      <th>CCR-TER-2023.00050</th>\n",
       "      <td>7</td>\n",
       "      <td>1</td>\n",
       "      <td>1</td>\n",
       "      <td>1</td>\n",
       "      <td>1</td>\n",
       "      <td>1</td>\n",
       "      <td>1</td>\n",
       "      <td>1</td>\n",
       "      <td>1</td>\n",
       "      <td>1</td>\n",
       "    </tr>\n",
       "    <tr>\n",
       "      <th>CCR-TER-2023.00052</th>\n",
       "      <td>6</td>\n",
       "      <td>1</td>\n",
       "      <td>1</td>\n",
       "      <td>1</td>\n",
       "      <td>0</td>\n",
       "      <td>1</td>\n",
       "      <td>0</td>\n",
       "      <td>1</td>\n",
       "      <td>0</td>\n",
       "      <td>0</td>\n",
       "    </tr>\n",
       "  </tbody>\n",
       "</table>\n",
       "</div>"
      ],
      "text/plain": [
       "                    Croqui Adiconada  Croqui Esperada  \\\n",
       "Serial                                                  \n",
       "CCR-TER-2023.00020                 0                1   \n",
       "CCR-TER-2023.00006                 2                1   \n",
       "CCR-TER-2023.00021                 0                1   \n",
       "CCR-TER-2023.02053                 1                1   \n",
       "CCR-TER-2023.02054                 7                1   \n",
       "CCR-TER-2023.00024                 9                1   \n",
       "CCR-TER-2023.00025                 7                1   \n",
       "CCR-OAC-2023.00030                 3                1   \n",
       "CCR-TER-2023.00026                 1                1   \n",
       "CCR-TER-2023.00001                 4                1   \n",
       "CCR-TER-2023.00017                 0                1   \n",
       "CCR-TER-2023.00047                 7                1   \n",
       "CCR-TER-2023.00050                 7                1   \n",
       "CCR-TER-2023.00052                 6                1   \n",
       "\n",
       "                    Panoramica Atual Adicionada  Panoramica Atual Esperada  \\\n",
       "Serial                                                                       \n",
       "CCR-TER-2023.00020                            0                          1   \n",
       "CCR-TER-2023.00006                            1                          1   \n",
       "CCR-TER-2023.00021                            0                          1   \n",
       "CCR-TER-2023.02053                            1                          1   \n",
       "CCR-TER-2023.02054                            1                          1   \n",
       "CCR-TER-2023.00024                            3                          1   \n",
       "CCR-TER-2023.00025                            1                          1   \n",
       "CCR-OAC-2023.00030                            1                          1   \n",
       "CCR-TER-2023.00026                            1                          1   \n",
       "CCR-TER-2023.00001                            3                          1   \n",
       "CCR-TER-2023.00017                            0                          1   \n",
       "CCR-TER-2023.00047                            1                          1   \n",
       "CCR-TER-2023.00050                            1                          1   \n",
       "CCR-TER-2023.00052                            1                          1   \n",
       "\n",
       "                    Patologia Adicionada  Detalhes Adicionada  \\\n",
       "Serial                                                          \n",
       "CCR-TER-2023.00020                     0                    0   \n",
       "CCR-TER-2023.00006                     0                    0   \n",
       "CCR-TER-2023.00021                     0                    0   \n",
       "CCR-TER-2023.02053                     0                    0   \n",
       "CCR-TER-2023.02054                     1                    1   \n",
       "CCR-TER-2023.00024                     1                    1   \n",
       "CCR-TER-2023.00025                     1                    1   \n",
       "CCR-OAC-2023.00030                     0                    0   \n",
       "CCR-TER-2023.00026                     0                    0   \n",
       "CCR-TER-2023.00001                     0                    0   \n",
       "CCR-TER-2023.00017                     0                    0   \n",
       "CCR-TER-2023.00047                     1                    1   \n",
       "CCR-TER-2023.00050                     1                    1   \n",
       "CCR-TER-2023.00052                     0                    1   \n",
       "\n",
       "                    Crista Adicionada  Vista Direita Adicionada  \\\n",
       "Serial                                                            \n",
       "CCR-TER-2023.00020                  0                         0   \n",
       "CCR-TER-2023.00006                  0                         0   \n",
       "CCR-TER-2023.00021                  0                         0   \n",
       "CCR-TER-2023.02053                  0                         0   \n",
       "CCR-TER-2023.02054                  1                         1   \n",
       "CCR-TER-2023.00024                  1                         1   \n",
       "CCR-TER-2023.00025                  1                         1   \n",
       "CCR-OAC-2023.00030                  0                         1   \n",
       "CCR-TER-2023.00026                  0                         0   \n",
       "CCR-TER-2023.00001                  0                         0   \n",
       "CCR-TER-2023.00017                  0                         0   \n",
       "CCR-TER-2023.00047                  1                         1   \n",
       "CCR-TER-2023.00050                  1                         1   \n",
       "CCR-TER-2023.00052                  0                         1   \n",
       "\n",
       "                    Vista Esquerda Adicionada  Pé Adicionada  \n",
       "Serial                                                        \n",
       "CCR-TER-2023.00020                          0              0  \n",
       "CCR-TER-2023.00006                          0              0  \n",
       "CCR-TER-2023.00021                          0              0  \n",
       "CCR-TER-2023.02053                          0              0  \n",
       "CCR-TER-2023.02054                          1              1  \n",
       "CCR-TER-2023.00024                          1              1  \n",
       "CCR-TER-2023.00025                          1              1  \n",
       "CCR-OAC-2023.00030                          1              0  \n",
       "CCR-TER-2023.00026                          0              0  \n",
       "CCR-TER-2023.00001                          0              0  \n",
       "CCR-TER-2023.00017                          0              0  \n",
       "CCR-TER-2023.00047                          1              1  \n",
       "CCR-TER-2023.00050                          1              1  \n",
       "CCR-TER-2023.00052                          0              0  "
      ]
     },
     "execution_count": 11,
     "metadata": {},
     "output_type": "execute_result"
    }
   ],
   "source": [
    "df"
   ]
  },
  {
   "cell_type": "code",
   "execution_count": 5,
   "id": "d2d8a647",
   "metadata": {},
   "outputs": [],
   "source": [
    "from tqdm.notebook import tqdm"
   ]
  },
  {
   "cell_type": "code",
   "execution_count": 8,
   "id": "60ba3ee3",
   "metadata": {},
   "outputs": [],
   "source": [
    "reps=Reporting.objects.filter(occurrence_type__name=\"Sinalização Vertical\")"
   ]
  },
  {
   "cell_type": "code",
   "execution_count": 9,
   "id": "104395e4",
   "metadata": {
    "scrolled": true
   },
   "outputs": [
    {
     "ename": "OperationalError",
     "evalue": "SSL connection has been closed unexpectedly\n",
     "output_type": "error",
     "traceback": [
      "\u001b[0;31m---------------------------------------------------------------------------\u001b[0m",
      "\u001b[0;31mOperationalError\u001b[0m                          Traceback (most recent call last)",
      "\u001b[0;32m~/.cache/pypoetry/virtualenvs/apps-ZFymp6kh-py3.7/lib/python3.7/site-packages/django/db/backends/utils.py\u001b[0m in \u001b[0;36m_execute\u001b[0;34m(self, sql, params, *ignored_wrapper_args)\u001b[0m\n\u001b[1;32m     83\u001b[0m             \u001b[0;32melse\u001b[0m\u001b[0;34m:\u001b[0m\u001b[0;34m\u001b[0m\u001b[0;34m\u001b[0m\u001b[0m\n\u001b[0;32m---> 84\u001b[0;31m                 \u001b[0;32mreturn\u001b[0m \u001b[0mself\u001b[0m\u001b[0;34m.\u001b[0m\u001b[0mcursor\u001b[0m\u001b[0;34m.\u001b[0m\u001b[0mexecute\u001b[0m\u001b[0;34m(\u001b[0m\u001b[0msql\u001b[0m\u001b[0;34m,\u001b[0m \u001b[0mparams\u001b[0m\u001b[0;34m)\u001b[0m\u001b[0;34m\u001b[0m\u001b[0;34m\u001b[0m\u001b[0m\n\u001b[0m\u001b[1;32m     85\u001b[0m \u001b[0;34m\u001b[0m\u001b[0m\n",
      "\u001b[0;31mOperationalError\u001b[0m: SSL connection has been closed unexpectedly\n",
      "\nThe above exception was the direct cause of the following exception:\n",
      "\u001b[0;31mOperationalError\u001b[0m                          Traceback (most recent call last)",
      "\u001b[0;32m/tmp/ipykernel_31531/1185371473.py\u001b[0m in \u001b[0;36m<module>\u001b[0;34m\u001b[0m\n\u001b[0;32m----> 1\u001b[0;31m \u001b[0mreps\u001b[0m\u001b[0;34m.\u001b[0m\u001b[0mcount\u001b[0m\u001b[0;34m(\u001b[0m\u001b[0;34m)\u001b[0m\u001b[0;34m\u001b[0m\u001b[0;34m\u001b[0m\u001b[0m\n\u001b[0m",
      "\u001b[0;32m~/.cache/pypoetry/virtualenvs/apps-ZFymp6kh-py3.7/lib/python3.7/site-packages/django/db/models/query.py\u001b[0m in \u001b[0;36mcount\u001b[0;34m(self)\u001b[0m\n\u001b[1;32m    390\u001b[0m             \u001b[0;32mreturn\u001b[0m \u001b[0mlen\u001b[0m\u001b[0;34m(\u001b[0m\u001b[0mself\u001b[0m\u001b[0;34m.\u001b[0m\u001b[0m_result_cache\u001b[0m\u001b[0;34m)\u001b[0m\u001b[0;34m\u001b[0m\u001b[0;34m\u001b[0m\u001b[0m\n\u001b[1;32m    391\u001b[0m \u001b[0;34m\u001b[0m\u001b[0m\n\u001b[0;32m--> 392\u001b[0;31m         \u001b[0;32mreturn\u001b[0m \u001b[0mself\u001b[0m\u001b[0;34m.\u001b[0m\u001b[0mquery\u001b[0m\u001b[0;34m.\u001b[0m\u001b[0mget_count\u001b[0m\u001b[0;34m(\u001b[0m\u001b[0musing\u001b[0m\u001b[0;34m=\u001b[0m\u001b[0mself\u001b[0m\u001b[0;34m.\u001b[0m\u001b[0mdb\u001b[0m\u001b[0;34m)\u001b[0m\u001b[0;34m\u001b[0m\u001b[0;34m\u001b[0m\u001b[0m\n\u001b[0m\u001b[1;32m    393\u001b[0m \u001b[0;34m\u001b[0m\u001b[0m\n\u001b[1;32m    394\u001b[0m     \u001b[0;32mdef\u001b[0m \u001b[0mget\u001b[0m\u001b[0;34m(\u001b[0m\u001b[0mself\u001b[0m\u001b[0;34m,\u001b[0m \u001b[0;34m*\u001b[0m\u001b[0margs\u001b[0m\u001b[0;34m,\u001b[0m \u001b[0;34m**\u001b[0m\u001b[0mkwargs\u001b[0m\u001b[0;34m)\u001b[0m\u001b[0;34m:\u001b[0m\u001b[0;34m\u001b[0m\u001b[0;34m\u001b[0m\u001b[0m\n",
      "\u001b[0;32m~/.cache/pypoetry/virtualenvs/apps-ZFymp6kh-py3.7/lib/python3.7/site-packages/django/db/models/sql/query.py\u001b[0m in \u001b[0;36mget_count\u001b[0;34m(self, using)\u001b[0m\n\u001b[1;32m    511\u001b[0m         \u001b[0mobj\u001b[0m \u001b[0;34m=\u001b[0m \u001b[0mself\u001b[0m\u001b[0;34m.\u001b[0m\u001b[0mclone\u001b[0m\u001b[0;34m(\u001b[0m\u001b[0;34m)\u001b[0m\u001b[0;34m\u001b[0m\u001b[0;34m\u001b[0m\u001b[0m\n\u001b[1;32m    512\u001b[0m         \u001b[0mobj\u001b[0m\u001b[0;34m.\u001b[0m\u001b[0madd_annotation\u001b[0m\u001b[0;34m(\u001b[0m\u001b[0mCount\u001b[0m\u001b[0;34m(\u001b[0m\u001b[0;34m'*'\u001b[0m\u001b[0;34m)\u001b[0m\u001b[0;34m,\u001b[0m \u001b[0malias\u001b[0m\u001b[0;34m=\u001b[0m\u001b[0;34m'__count'\u001b[0m\u001b[0;34m,\u001b[0m \u001b[0mis_summary\u001b[0m\u001b[0;34m=\u001b[0m\u001b[0;32mTrue\u001b[0m\u001b[0;34m)\u001b[0m\u001b[0;34m\u001b[0m\u001b[0;34m\u001b[0m\u001b[0m\n\u001b[0;32m--> 513\u001b[0;31m         \u001b[0mnumber\u001b[0m \u001b[0;34m=\u001b[0m \u001b[0mobj\u001b[0m\u001b[0;34m.\u001b[0m\u001b[0mget_aggregation\u001b[0m\u001b[0;34m(\u001b[0m\u001b[0musing\u001b[0m\u001b[0;34m,\u001b[0m \u001b[0;34m[\u001b[0m\u001b[0;34m'__count'\u001b[0m\u001b[0;34m]\u001b[0m\u001b[0;34m)\u001b[0m\u001b[0;34m[\u001b[0m\u001b[0;34m'__count'\u001b[0m\u001b[0;34m]\u001b[0m\u001b[0;34m\u001b[0m\u001b[0;34m\u001b[0m\u001b[0m\n\u001b[0m\u001b[1;32m    514\u001b[0m         \u001b[0;32mif\u001b[0m \u001b[0mnumber\u001b[0m \u001b[0;32mis\u001b[0m \u001b[0;32mNone\u001b[0m\u001b[0;34m:\u001b[0m\u001b[0;34m\u001b[0m\u001b[0;34m\u001b[0m\u001b[0m\n\u001b[1;32m    515\u001b[0m             \u001b[0mnumber\u001b[0m \u001b[0;34m=\u001b[0m \u001b[0;36m0\u001b[0m\u001b[0;34m\u001b[0m\u001b[0;34m\u001b[0m\u001b[0m\n",
      "\u001b[0;32m~/.cache/pypoetry/virtualenvs/apps-ZFymp6kh-py3.7/lib/python3.7/site-packages/django/db/models/sql/query.py\u001b[0m in \u001b[0;36mget_aggregation\u001b[0;34m(self, using, added_aggregate_names)\u001b[0m\n\u001b[1;32m    496\u001b[0m         \u001b[0mouter_query\u001b[0m\u001b[0;34m.\u001b[0m\u001b[0mselect_related\u001b[0m \u001b[0;34m=\u001b[0m \u001b[0;32mFalse\u001b[0m\u001b[0;34m\u001b[0m\u001b[0;34m\u001b[0m\u001b[0m\n\u001b[1;32m    497\u001b[0m         \u001b[0mcompiler\u001b[0m \u001b[0;34m=\u001b[0m \u001b[0mouter_query\u001b[0m\u001b[0;34m.\u001b[0m\u001b[0mget_compiler\u001b[0m\u001b[0;34m(\u001b[0m\u001b[0musing\u001b[0m\u001b[0;34m)\u001b[0m\u001b[0;34m\u001b[0m\u001b[0;34m\u001b[0m\u001b[0m\n\u001b[0;32m--> 498\u001b[0;31m         \u001b[0mresult\u001b[0m \u001b[0;34m=\u001b[0m \u001b[0mcompiler\u001b[0m\u001b[0;34m.\u001b[0m\u001b[0mexecute_sql\u001b[0m\u001b[0;34m(\u001b[0m\u001b[0mSINGLE\u001b[0m\u001b[0;34m)\u001b[0m\u001b[0;34m\u001b[0m\u001b[0;34m\u001b[0m\u001b[0m\n\u001b[0m\u001b[1;32m    499\u001b[0m         \u001b[0;32mif\u001b[0m \u001b[0mresult\u001b[0m \u001b[0;32mis\u001b[0m \u001b[0;32mNone\u001b[0m\u001b[0;34m:\u001b[0m\u001b[0;34m\u001b[0m\u001b[0;34m\u001b[0m\u001b[0m\n\u001b[1;32m    500\u001b[0m             \u001b[0mresult\u001b[0m \u001b[0;34m=\u001b[0m \u001b[0;34m[\u001b[0m\u001b[0;32mNone\u001b[0m\u001b[0;34m]\u001b[0m \u001b[0;34m*\u001b[0m \u001b[0mlen\u001b[0m\u001b[0;34m(\u001b[0m\u001b[0mouter_query\u001b[0m\u001b[0;34m.\u001b[0m\u001b[0mannotation_select\u001b[0m\u001b[0;34m)\u001b[0m\u001b[0;34m\u001b[0m\u001b[0;34m\u001b[0m\u001b[0m\n",
      "\u001b[0;32m~/.cache/pypoetry/virtualenvs/apps-ZFymp6kh-py3.7/lib/python3.7/site-packages/django/db/models/sql/compiler.py\u001b[0m in \u001b[0;36mexecute_sql\u001b[0;34m(self, result_type, chunked_fetch, chunk_size)\u001b[0m\n\u001b[1;32m   1140\u001b[0m             \u001b[0mcursor\u001b[0m \u001b[0;34m=\u001b[0m \u001b[0mself\u001b[0m\u001b[0;34m.\u001b[0m\u001b[0mconnection\u001b[0m\u001b[0;34m.\u001b[0m\u001b[0mcursor\u001b[0m\u001b[0;34m(\u001b[0m\u001b[0;34m)\u001b[0m\u001b[0;34m\u001b[0m\u001b[0;34m\u001b[0m\u001b[0m\n\u001b[1;32m   1141\u001b[0m         \u001b[0;32mtry\u001b[0m\u001b[0;34m:\u001b[0m\u001b[0;34m\u001b[0m\u001b[0;34m\u001b[0m\u001b[0m\n\u001b[0;32m-> 1142\u001b[0;31m             \u001b[0mcursor\u001b[0m\u001b[0;34m.\u001b[0m\u001b[0mexecute\u001b[0m\u001b[0;34m(\u001b[0m\u001b[0msql\u001b[0m\u001b[0;34m,\u001b[0m \u001b[0mparams\u001b[0m\u001b[0;34m)\u001b[0m\u001b[0;34m\u001b[0m\u001b[0;34m\u001b[0m\u001b[0m\n\u001b[0m\u001b[1;32m   1143\u001b[0m         \u001b[0;32mexcept\u001b[0m \u001b[0mException\u001b[0m\u001b[0;34m:\u001b[0m\u001b[0;34m\u001b[0m\u001b[0;34m\u001b[0m\u001b[0m\n\u001b[1;32m   1144\u001b[0m             \u001b[0;31m# Might fail for server-side cursors (e.g. connection closed)\u001b[0m\u001b[0;34m\u001b[0m\u001b[0;34m\u001b[0m\u001b[0;34m\u001b[0m\u001b[0m\n",
      "\u001b[0;32m~/.cache/pypoetry/virtualenvs/apps-ZFymp6kh-py3.7/lib/python3.7/site-packages/sentry_sdk/integrations/django/__init__.py\u001b[0m in \u001b[0;36mexecute\u001b[0;34m(self, sql, params)\u001b[0m\n\u001b[1;32m    575\u001b[0m             \u001b[0mhub\u001b[0m\u001b[0;34m,\u001b[0m \u001b[0mself\u001b[0m\u001b[0;34m.\u001b[0m\u001b[0mcursor\u001b[0m\u001b[0;34m,\u001b[0m \u001b[0msql\u001b[0m\u001b[0;34m,\u001b[0m \u001b[0mparams\u001b[0m\u001b[0;34m,\u001b[0m \u001b[0mparamstyle\u001b[0m\u001b[0;34m=\u001b[0m\u001b[0;34m\"format\"\u001b[0m\u001b[0;34m,\u001b[0m \u001b[0mexecutemany\u001b[0m\u001b[0;34m=\u001b[0m\u001b[0;32mFalse\u001b[0m\u001b[0;34m\u001b[0m\u001b[0;34m\u001b[0m\u001b[0m\n\u001b[1;32m    576\u001b[0m         ):\n\u001b[0;32m--> 577\u001b[0;31m             \u001b[0;32mreturn\u001b[0m \u001b[0mreal_execute\u001b[0m\u001b[0;34m(\u001b[0m\u001b[0mself\u001b[0m\u001b[0;34m,\u001b[0m \u001b[0msql\u001b[0m\u001b[0;34m,\u001b[0m \u001b[0mparams\u001b[0m\u001b[0;34m)\u001b[0m\u001b[0;34m\u001b[0m\u001b[0;34m\u001b[0m\u001b[0m\n\u001b[0m\u001b[1;32m    578\u001b[0m \u001b[0;34m\u001b[0m\u001b[0m\n\u001b[1;32m    579\u001b[0m     \u001b[0;32mdef\u001b[0m \u001b[0mexecutemany\u001b[0m\u001b[0;34m(\u001b[0m\u001b[0mself\u001b[0m\u001b[0;34m,\u001b[0m \u001b[0msql\u001b[0m\u001b[0;34m,\u001b[0m \u001b[0mparam_list\u001b[0m\u001b[0;34m)\u001b[0m\u001b[0;34m:\u001b[0m\u001b[0;34m\u001b[0m\u001b[0;34m\u001b[0m\u001b[0m\n",
      "\u001b[0;32m~/.cache/pypoetry/virtualenvs/apps-ZFymp6kh-py3.7/lib/python3.7/site-packages/django/db/backends/utils.py\u001b[0m in \u001b[0;36mexecute\u001b[0;34m(self, sql, params)\u001b[0m\n\u001b[1;32m     65\u001b[0m \u001b[0;34m\u001b[0m\u001b[0m\n\u001b[1;32m     66\u001b[0m     \u001b[0;32mdef\u001b[0m \u001b[0mexecute\u001b[0m\u001b[0;34m(\u001b[0m\u001b[0mself\u001b[0m\u001b[0;34m,\u001b[0m \u001b[0msql\u001b[0m\u001b[0;34m,\u001b[0m \u001b[0mparams\u001b[0m\u001b[0;34m=\u001b[0m\u001b[0;32mNone\u001b[0m\u001b[0;34m)\u001b[0m\u001b[0;34m:\u001b[0m\u001b[0;34m\u001b[0m\u001b[0;34m\u001b[0m\u001b[0m\n\u001b[0;32m---> 67\u001b[0;31m         \u001b[0;32mreturn\u001b[0m \u001b[0mself\u001b[0m\u001b[0;34m.\u001b[0m\u001b[0m_execute_with_wrappers\u001b[0m\u001b[0;34m(\u001b[0m\u001b[0msql\u001b[0m\u001b[0;34m,\u001b[0m \u001b[0mparams\u001b[0m\u001b[0;34m,\u001b[0m \u001b[0mmany\u001b[0m\u001b[0;34m=\u001b[0m\u001b[0;32mFalse\u001b[0m\u001b[0;34m,\u001b[0m \u001b[0mexecutor\u001b[0m\u001b[0;34m=\u001b[0m\u001b[0mself\u001b[0m\u001b[0;34m.\u001b[0m\u001b[0m_execute\u001b[0m\u001b[0;34m)\u001b[0m\u001b[0;34m\u001b[0m\u001b[0;34m\u001b[0m\u001b[0m\n\u001b[0m\u001b[1;32m     68\u001b[0m \u001b[0;34m\u001b[0m\u001b[0m\n\u001b[1;32m     69\u001b[0m     \u001b[0;32mdef\u001b[0m \u001b[0mexecutemany\u001b[0m\u001b[0;34m(\u001b[0m\u001b[0mself\u001b[0m\u001b[0;34m,\u001b[0m \u001b[0msql\u001b[0m\u001b[0;34m,\u001b[0m \u001b[0mparam_list\u001b[0m\u001b[0;34m)\u001b[0m\u001b[0;34m:\u001b[0m\u001b[0;34m\u001b[0m\u001b[0;34m\u001b[0m\u001b[0m\n",
      "\u001b[0;32m~/.cache/pypoetry/virtualenvs/apps-ZFymp6kh-py3.7/lib/python3.7/site-packages/django/db/backends/utils.py\u001b[0m in \u001b[0;36m_execute_with_wrappers\u001b[0;34m(self, sql, params, many, executor)\u001b[0m\n\u001b[1;32m     74\u001b[0m         \u001b[0;32mfor\u001b[0m \u001b[0mwrapper\u001b[0m \u001b[0;32min\u001b[0m \u001b[0mreversed\u001b[0m\u001b[0;34m(\u001b[0m\u001b[0mself\u001b[0m\u001b[0;34m.\u001b[0m\u001b[0mdb\u001b[0m\u001b[0;34m.\u001b[0m\u001b[0mexecute_wrappers\u001b[0m\u001b[0;34m)\u001b[0m\u001b[0;34m:\u001b[0m\u001b[0;34m\u001b[0m\u001b[0;34m\u001b[0m\u001b[0m\n\u001b[1;32m     75\u001b[0m             \u001b[0mexecutor\u001b[0m \u001b[0;34m=\u001b[0m \u001b[0mfunctools\u001b[0m\u001b[0;34m.\u001b[0m\u001b[0mpartial\u001b[0m\u001b[0;34m(\u001b[0m\u001b[0mwrapper\u001b[0m\u001b[0;34m,\u001b[0m \u001b[0mexecutor\u001b[0m\u001b[0;34m)\u001b[0m\u001b[0;34m\u001b[0m\u001b[0;34m\u001b[0m\u001b[0m\n\u001b[0;32m---> 76\u001b[0;31m         \u001b[0;32mreturn\u001b[0m \u001b[0mexecutor\u001b[0m\u001b[0;34m(\u001b[0m\u001b[0msql\u001b[0m\u001b[0;34m,\u001b[0m \u001b[0mparams\u001b[0m\u001b[0;34m,\u001b[0m \u001b[0mmany\u001b[0m\u001b[0;34m,\u001b[0m \u001b[0mcontext\u001b[0m\u001b[0;34m)\u001b[0m\u001b[0;34m\u001b[0m\u001b[0;34m\u001b[0m\u001b[0m\n\u001b[0m\u001b[1;32m     77\u001b[0m \u001b[0;34m\u001b[0m\u001b[0m\n\u001b[1;32m     78\u001b[0m     \u001b[0;32mdef\u001b[0m \u001b[0m_execute\u001b[0m\u001b[0;34m(\u001b[0m\u001b[0mself\u001b[0m\u001b[0;34m,\u001b[0m \u001b[0msql\u001b[0m\u001b[0;34m,\u001b[0m \u001b[0mparams\u001b[0m\u001b[0;34m,\u001b[0m \u001b[0;34m*\u001b[0m\u001b[0mignored_wrapper_args\u001b[0m\u001b[0;34m)\u001b[0m\u001b[0;34m:\u001b[0m\u001b[0;34m\u001b[0m\u001b[0;34m\u001b[0m\u001b[0m\n",
      "\u001b[0;32m~/.cache/pypoetry/virtualenvs/apps-ZFymp6kh-py3.7/lib/python3.7/site-packages/django/db/backends/utils.py\u001b[0m in \u001b[0;36m_execute\u001b[0;34m(self, sql, params, *ignored_wrapper_args)\u001b[0m\n\u001b[1;32m     82\u001b[0m                 \u001b[0;32mreturn\u001b[0m \u001b[0mself\u001b[0m\u001b[0;34m.\u001b[0m\u001b[0mcursor\u001b[0m\u001b[0;34m.\u001b[0m\u001b[0mexecute\u001b[0m\u001b[0;34m(\u001b[0m\u001b[0msql\u001b[0m\u001b[0;34m)\u001b[0m\u001b[0;34m\u001b[0m\u001b[0;34m\u001b[0m\u001b[0m\n\u001b[1;32m     83\u001b[0m             \u001b[0;32melse\u001b[0m\u001b[0;34m:\u001b[0m\u001b[0;34m\u001b[0m\u001b[0;34m\u001b[0m\u001b[0m\n\u001b[0;32m---> 84\u001b[0;31m                 \u001b[0;32mreturn\u001b[0m \u001b[0mself\u001b[0m\u001b[0;34m.\u001b[0m\u001b[0mcursor\u001b[0m\u001b[0;34m.\u001b[0m\u001b[0mexecute\u001b[0m\u001b[0;34m(\u001b[0m\u001b[0msql\u001b[0m\u001b[0;34m,\u001b[0m \u001b[0mparams\u001b[0m\u001b[0;34m)\u001b[0m\u001b[0;34m\u001b[0m\u001b[0;34m\u001b[0m\u001b[0m\n\u001b[0m\u001b[1;32m     85\u001b[0m \u001b[0;34m\u001b[0m\u001b[0m\n\u001b[1;32m     86\u001b[0m     \u001b[0;32mdef\u001b[0m \u001b[0m_executemany\u001b[0m\u001b[0;34m(\u001b[0m\u001b[0mself\u001b[0m\u001b[0;34m,\u001b[0m \u001b[0msql\u001b[0m\u001b[0;34m,\u001b[0m \u001b[0mparam_list\u001b[0m\u001b[0;34m,\u001b[0m \u001b[0;34m*\u001b[0m\u001b[0mignored_wrapper_args\u001b[0m\u001b[0;34m)\u001b[0m\u001b[0;34m:\u001b[0m\u001b[0;34m\u001b[0m\u001b[0;34m\u001b[0m\u001b[0m\n",
      "\u001b[0;32m~/.cache/pypoetry/virtualenvs/apps-ZFymp6kh-py3.7/lib/python3.7/site-packages/django/db/utils.py\u001b[0m in \u001b[0;36m__exit__\u001b[0;34m(self, exc_type, exc_value, traceback)\u001b[0m\n\u001b[1;32m     87\u001b[0m                 \u001b[0;32mif\u001b[0m \u001b[0mdj_exc_type\u001b[0m \u001b[0;32mnot\u001b[0m \u001b[0;32min\u001b[0m \u001b[0;34m(\u001b[0m\u001b[0mDataError\u001b[0m\u001b[0;34m,\u001b[0m \u001b[0mIntegrityError\u001b[0m\u001b[0;34m)\u001b[0m\u001b[0;34m:\u001b[0m\u001b[0;34m\u001b[0m\u001b[0;34m\u001b[0m\u001b[0m\n\u001b[1;32m     88\u001b[0m                     \u001b[0mself\u001b[0m\u001b[0;34m.\u001b[0m\u001b[0mwrapper\u001b[0m\u001b[0;34m.\u001b[0m\u001b[0merrors_occurred\u001b[0m \u001b[0;34m=\u001b[0m \u001b[0;32mTrue\u001b[0m\u001b[0;34m\u001b[0m\u001b[0;34m\u001b[0m\u001b[0m\n\u001b[0;32m---> 89\u001b[0;31m                 \u001b[0;32mraise\u001b[0m \u001b[0mdj_exc_value\u001b[0m\u001b[0;34m.\u001b[0m\u001b[0mwith_traceback\u001b[0m\u001b[0;34m(\u001b[0m\u001b[0mtraceback\u001b[0m\u001b[0;34m)\u001b[0m \u001b[0;32mfrom\u001b[0m \u001b[0mexc_value\u001b[0m\u001b[0;34m\u001b[0m\u001b[0;34m\u001b[0m\u001b[0m\n\u001b[0m\u001b[1;32m     90\u001b[0m \u001b[0;34m\u001b[0m\u001b[0m\n\u001b[1;32m     91\u001b[0m     \u001b[0;32mdef\u001b[0m \u001b[0m__call__\u001b[0m\u001b[0;34m(\u001b[0m\u001b[0mself\u001b[0m\u001b[0;34m,\u001b[0m \u001b[0mfunc\u001b[0m\u001b[0;34m)\u001b[0m\u001b[0;34m:\u001b[0m\u001b[0;34m\u001b[0m\u001b[0;34m\u001b[0m\u001b[0m\n",
      "\u001b[0;32m~/.cache/pypoetry/virtualenvs/apps-ZFymp6kh-py3.7/lib/python3.7/site-packages/django/db/backends/utils.py\u001b[0m in \u001b[0;36m_execute\u001b[0;34m(self, sql, params, *ignored_wrapper_args)\u001b[0m\n\u001b[1;32m     82\u001b[0m                 \u001b[0;32mreturn\u001b[0m \u001b[0mself\u001b[0m\u001b[0;34m.\u001b[0m\u001b[0mcursor\u001b[0m\u001b[0;34m.\u001b[0m\u001b[0mexecute\u001b[0m\u001b[0;34m(\u001b[0m\u001b[0msql\u001b[0m\u001b[0;34m)\u001b[0m\u001b[0;34m\u001b[0m\u001b[0;34m\u001b[0m\u001b[0m\n\u001b[1;32m     83\u001b[0m             \u001b[0;32melse\u001b[0m\u001b[0;34m:\u001b[0m\u001b[0;34m\u001b[0m\u001b[0;34m\u001b[0m\u001b[0m\n\u001b[0;32m---> 84\u001b[0;31m                 \u001b[0;32mreturn\u001b[0m \u001b[0mself\u001b[0m\u001b[0;34m.\u001b[0m\u001b[0mcursor\u001b[0m\u001b[0;34m.\u001b[0m\u001b[0mexecute\u001b[0m\u001b[0;34m(\u001b[0m\u001b[0msql\u001b[0m\u001b[0;34m,\u001b[0m \u001b[0mparams\u001b[0m\u001b[0;34m)\u001b[0m\u001b[0;34m\u001b[0m\u001b[0;34m\u001b[0m\u001b[0m\n\u001b[0m\u001b[1;32m     85\u001b[0m \u001b[0;34m\u001b[0m\u001b[0m\n\u001b[1;32m     86\u001b[0m     \u001b[0;32mdef\u001b[0m \u001b[0m_executemany\u001b[0m\u001b[0;34m(\u001b[0m\u001b[0mself\u001b[0m\u001b[0;34m,\u001b[0m \u001b[0msql\u001b[0m\u001b[0;34m,\u001b[0m \u001b[0mparam_list\u001b[0m\u001b[0;34m,\u001b[0m \u001b[0;34m*\u001b[0m\u001b[0mignored_wrapper_args\u001b[0m\u001b[0;34m)\u001b[0m\u001b[0;34m:\u001b[0m\u001b[0;34m\u001b[0m\u001b[0;34m\u001b[0m\u001b[0m\n",
      "\u001b[0;31mOperationalError\u001b[0m: SSL connection has been closed unexpectedly\n"
     ]
    }
   ],
   "source": [
    "reps.count()"
   ]
  },
  {
   "cell_type": "code",
   "execution_count": 4,
   "id": "cb58e867",
   "metadata": {},
   "outputs": [
    {
     "data": {
      "application/vnd.jupyter.widget-view+json": {
       "model_id": "497896d21129433da507de4fe4ac56e6",
       "version_major": 2,
       "version_minor": 0
      },
      "text/plain": [
       "  0%|          | 0/850 [00:00<?, ?it/s]"
      ]
     },
     "metadata": {},
     "output_type": "display_data"
    },
    {
     "data": {
      "application/vnd.jupyter.widget-view+json": {
       "model_id": "5870536233564a8db49de4d53451e094",
       "version_major": 2,
       "version_minor": 0
      },
      "text/plain": [
       "  0%|          | 0/850 [00:00<?, ?it/s]"
      ]
     },
     "metadata": {},
     "output_type": "display_data"
    },
    {
     "data": {
      "application/vnd.jupyter.widget-view+json": {
       "model_id": "8cda21bdcc124e598d6b8a001435d506",
       "version_major": 2,
       "version_minor": 0
      },
      "text/plain": [
       "  0%|          | 0/850 [00:00<?, ?it/s]"
      ]
     },
     "metadata": {},
     "output_type": "display_data"
    },
    {
     "data": {
      "application/vnd.jupyter.widget-view+json": {
       "model_id": "cab3f4062f9a4d6f9571cfdddb6fb53b",
       "version_major": 2,
       "version_minor": 0
      },
      "text/plain": [
       "  0%|          | 0/850 [00:00<?, ?it/s]"
      ]
     },
     "metadata": {},
     "output_type": "display_data"
    },
    {
     "data": {
      "application/vnd.jupyter.widget-view+json": {
       "model_id": "de83d53a88b64b41ac0fc31ed3bce36c",
       "version_major": 2,
       "version_minor": 0
      },
      "text/plain": [
       "  0%|          | 0/850 [00:00<?, ?it/s]"
      ]
     },
     "metadata": {},
     "output_type": "display_data"
    },
    {
     "data": {
      "application/vnd.jupyter.widget-view+json": {
       "model_id": "cf43909d9104432b9e71837f8e58ea57",
       "version_major": 2,
       "version_minor": 0
      },
      "text/plain": [
       "  0%|          | 0/850 [00:00<?, ?it/s]"
      ]
     },
     "metadata": {},
     "output_type": "display_data"
    },
    {
     "data": {
      "application/vnd.jupyter.widget-view+json": {
       "model_id": "eb346680ea504c4ea6f341156836cc26",
       "version_major": 2,
       "version_minor": 0
      },
      "text/plain": [
       "  0%|          | 0/850 [00:00<?, ?it/s]"
      ]
     },
     "metadata": {},
     "output_type": "display_data"
    },
    {
     "data": {
      "application/vnd.jupyter.widget-view+json": {
       "model_id": "509b8890e42944f6a32c51ebab184e00",
       "version_major": 2,
       "version_minor": 0
      },
      "text/plain": [
       "  0%|          | 0/850 [00:00<?, ?it/s]"
      ]
     },
     "metadata": {},
     "output_type": "display_data"
    },
    {
     "data": {
      "application/vnd.jupyter.widget-view+json": {
       "model_id": "178ae8d74b9a41f2af685c6f03c6026e",
       "version_major": 2,
       "version_minor": 0
      },
      "text/plain": [
       "  0%|          | 0/850 [00:00<?, ?it/s]"
      ]
     },
     "metadata": {},
     "output_type": "display_data"
    },
    {
     "data": {
      "application/vnd.jupyter.widget-view+json": {
       "model_id": "979a82a00e13470b8fab18c644717e95",
       "version_major": 2,
       "version_minor": 0
      },
      "text/plain": [
       "  0%|          | 0/850 [00:00<?, ?it/s]"
      ]
     },
     "metadata": {},
     "output_type": "display_data"
    },
    {
     "data": {
      "application/vnd.jupyter.widget-view+json": {
       "model_id": "6be66c9c00554ebb919500104d387f50",
       "version_major": 2,
       "version_minor": 0
      },
      "text/plain": [
       "  0%|          | 0/850 [00:00<?, ?it/s]"
      ]
     },
     "metadata": {},
     "output_type": "display_data"
    },
    {
     "data": {
      "application/vnd.jupyter.widget-view+json": {
       "model_id": "13fc39523ef54a1e8d8508c3ff9a1722",
       "version_major": 2,
       "version_minor": 0
      },
      "text/plain": [
       "  0%|          | 0/850 [00:00<?, ?it/s]"
      ]
     },
     "metadata": {},
     "output_type": "display_data"
    },
    {
     "data": {
      "application/vnd.jupyter.widget-view+json": {
       "model_id": "e2e044d734424eeda6466e188dc25b20",
       "version_major": 2,
       "version_minor": 0
      },
      "text/plain": [
       "  0%|          | 0/850 [00:00<?, ?it/s]"
      ]
     },
     "metadata": {},
     "output_type": "display_data"
    },
    {
     "data": {
      "application/vnd.jupyter.widget-view+json": {
       "model_id": "ff12d0e1d4e74ff99485987633e6aded",
       "version_major": 2,
       "version_minor": 0
      },
      "text/plain": [
       "  0%|          | 0/850 [00:00<?, ?it/s]"
      ]
     },
     "metadata": {},
     "output_type": "display_data"
    },
    {
     "data": {
      "application/vnd.jupyter.widget-view+json": {
       "model_id": "a605bd67a42e4deaa854b3f998abb3f1",
       "version_major": 2,
       "version_minor": 0
      },
      "text/plain": [
       "  0%|          | 0/850 [00:00<?, ?it/s]"
      ]
     },
     "metadata": {},
     "output_type": "display_data"
    },
    {
     "data": {
      "application/vnd.jupyter.widget-view+json": {
       "model_id": "4710e7bfb27e47038896c570b685123e",
       "version_major": 2,
       "version_minor": 0
      },
      "text/plain": [
       "  0%|          | 0/850 [00:00<?, ?it/s]"
      ]
     },
     "metadata": {},
     "output_type": "display_data"
    },
    {
     "data": {
      "application/vnd.jupyter.widget-view+json": {
       "model_id": "9d3ab16289d5489f9a47427ebb3b9bac",
       "version_major": 2,
       "version_minor": 0
      },
      "text/plain": [
       "  0%|          | 0/850 [00:00<?, ?it/s]"
      ]
     },
     "metadata": {},
     "output_type": "display_data"
    },
    {
     "data": {
      "application/vnd.jupyter.widget-view+json": {
       "model_id": "e1afc3713d464b7d81493a94668f368f",
       "version_major": 2,
       "version_minor": 0
      },
      "text/plain": [
       "  0%|          | 0/850 [00:00<?, ?it/s]"
      ]
     },
     "metadata": {},
     "output_type": "display_data"
    },
    {
     "data": {
      "application/vnd.jupyter.widget-view+json": {
       "model_id": "c553d6f5a11b410e8657bd085af9e3e0",
       "version_major": 2,
       "version_minor": 0
      },
      "text/plain": [
       "  0%|          | 0/850 [00:00<?, ?it/s]"
      ]
     },
     "metadata": {},
     "output_type": "display_data"
    },
    {
     "data": {
      "application/vnd.jupyter.widget-view+json": {
       "model_id": "dadf65d5a8cf48e38f377bd468f96122",
       "version_major": 2,
       "version_minor": 0
      },
      "text/plain": [
       "  0%|          | 0/850 [00:00<?, ?it/s]"
      ]
     },
     "metadata": {},
     "output_type": "display_data"
    },
    {
     "data": {
      "application/vnd.jupyter.widget-view+json": {
       "model_id": "fde1baa269e241c19576326eb9f23af0",
       "version_major": 2,
       "version_minor": 0
      },
      "text/plain": [
       "  0%|          | 0/586 [00:00<?, ?it/s]"
      ]
     },
     "metadata": {},
     "output_type": "display_data"
    },
    {
     "data": {
      "application/vnd.jupyter.widget-view+json": {
       "model_id": "2bcf04932cab481784cb9c67480c21e8",
       "version_major": 2,
       "version_minor": 0
      },
      "text/plain": [
       "0it [00:00, ?it/s]"
      ]
     },
     "metadata": {},
     "output_type": "display_data"
    },
    {
     "data": {
      "application/vnd.jupyter.widget-view+json": {
       "model_id": "bb34e3d22430407783295f3292df8200",
       "version_major": 2,
       "version_minor": 0
      },
      "text/plain": [
       "0it [00:00, ?it/s]"
      ]
     },
     "metadata": {},
     "output_type": "display_data"
    },
    {
     "data": {
      "application/vnd.jupyter.widget-view+json": {
       "model_id": "0f35f993f2704565b271a4f091d0010d",
       "version_major": 2,
       "version_minor": 0
      },
      "text/plain": [
       "0it [00:00, ?it/s]"
      ]
     },
     "metadata": {},
     "output_type": "display_data"
    },
    {
     "data": {
      "application/vnd.jupyter.widget-view+json": {
       "model_id": "4a7bccb35a784e25b94e45cb69b6dca1",
       "version_major": 2,
       "version_minor": 0
      },
      "text/plain": [
       "0it [00:00, ?it/s]"
      ]
     },
     "metadata": {},
     "output_type": "display_data"
    }
   ],
   "source": [
    "for b in range(25):\n",
    "    for a in tqdm(reps[:850]):\n",
    "        a.delete()"
   ]
  },
  {
   "cell_type": "code",
   "execution_count": 2,
   "id": "1b387a50",
   "metadata": {},
   "outputs": [],
   "source": [
    "aps=ApprovalStep.objects.get(uuid='a3136f17-7545-47e2-aee6-4221db062c34')"
   ]
  },
  {
   "cell_type": "code",
   "execution_count": 5,
   "id": "d5c3786b",
   "metadata": {},
   "outputs": [],
   "source": [
    "for a in aps.responsible_firms.all():\n",
    "    print(a.full_name)"
   ]
  },
  {
   "cell_type": "code",
   "execution_count": 2,
   "id": "f81ab011",
   "metadata": {},
   "outputs": [
    {
     "data": {
      "text/plain": [
       "17586"
      ]
     },
     "execution_count": 2,
     "metadata": {},
     "output_type": "execute_result"
    }
   ],
   "source": [
    "Reporting.objects.filter(occurrence_type__name=\"Sinalização Vertical\").count()"
   ]
  },
  {
   "cell_type": "code",
   "execution_count": 5,
   "id": "3f001063",
   "metadata": {},
   "outputs": [],
   "source": [
    "from tqdm.notebook import tqdm\n",
    "from helpers.histories import bulk_update_with_history"
   ]
  },
  {
   "cell_type": "code",
   "execution_count": 3,
   "id": "2af96608",
   "metadata": {},
   "outputs": [],
   "source": [
    "reps=[]\n",
    "for a in Reporting.objects.filter(occurrence_type__name=\"Sinalização Vertical\"):\n",
    "    if '-' not in str(a.form_data.get('lat')) and a.form_data.get('lat'):\n",
    "        a.form_data['lat'] = float('-'+str(a.form_data['lat']))\n",
    "    if '-' not in str(a.form_data.get('long')) and a.form_data.get('long'):\n",
    "        a.form_data['long'] = float('-'+str(a.form_data['long']))\n",
    "    reps.append(a)"
   ]
  },
  {
   "cell_type": "code",
   "execution_count": 6,
   "id": "9d5a213b",
   "metadata": {},
   "outputs": [
    {
     "data": {
      "text/plain": [
       "{'_state': <django.db.models.base.ModelState at 0x7f186decb390>,\n",
       " 'uuid': UUID('277d86cf-73ae-478d-a83e-e09e7d112636'),\n",
       " 'number': 'CCR-Inv-2023.145125',\n",
       " 'company_id': UUID('3af64f25-59e8-446b-bb1e-963549090b0d'),\n",
       " 'road_name': 'BR-116 RJ',\n",
       " 'road_id': 2037,\n",
       " 'km': 234.36,\n",
       " 'end_km': 234.36,\n",
       " 'km_reference': None,\n",
       " 'project_km': 0.0,\n",
       " 'project_end_km': 0.0,\n",
       " 'point': <Point object at 0x7f186df29a30>,\n",
       " 'direction': '0',\n",
       " 'lane': '29',\n",
       " 'track': None,\n",
       " 'branch': None,\n",
       " 'address': {},\n",
       " 'created_by_id': UUID('508a66f3-3f58-4c4e-bc9a-fbba6078c02d'),\n",
       " 'firm_id': UUID('8e3f277d-cd02-444f-a49b-c8d724f92c9d'),\n",
       " 'occurrence_type_id': UUID('f53142e7-15b7-4382-8fb4-bb829f7cafcc'),\n",
       " 'form_data': {'uf': 'RJ',\n",
       "  'lat': -22.66627,\n",
       "  'area': 1,\n",
       "  'long': -43.84987,\n",
       "  'xutm': 618160.46,\n",
       "  'yutm': 7492966.21,\n",
       "  'zone': '1',\n",
       "  'width': 1.0,\n",
       "  'height': 1.0,\n",
       "  'sign_type': '2',\n",
       "  'id_ccr_antt': 'SV 116 RJ 234+360 N 1',\n",
       "  'plate_format': '2',\n",
       "  'sign_missing': False,\n",
       "  'minimal_value': 216.0,\n",
       "  'pelicule_kind': '2',\n",
       "  'pelicule_color': '2',\n",
       "  'plate_material': '2',\n",
       "  'fabrication_date': '2014-07-01T00:00:00-03:00',\n",
       "  'fabrication_name': 'Sinalta',\n",
       "  'support_material': '3',\n",
       "  'minimal_value_two': 0,\n",
       "  'belongs_concession': True,\n",
       "  'implantation_place': '2',\n",
       "  'minimal_value_four': 0,\n",
       "  'minimal_value_three': 0,\n",
       "  'pelicule_application': '2',\n",
       "  'sign_code_advertencia': '18'},\n",
       " 'form_metadata': {'uf': {'manually_specified': True},\n",
       "  'area': {'manually_specified': False},\n",
       "  'id_ccr_antt': {'manually_specified': True},\n",
       "  'minimal_value': {'manually_specified': True},\n",
       "  'minimal_value_two': {'manually_specified': False},\n",
       "  'minimal_value_four': {'manually_specified': False},\n",
       "  'minimal_value_three': {'manually_specified': False}},\n",
       " 'executed_at': datetime.datetime(2022, 11, 24, 3, 0, tzinfo=<UTC>),\n",
       " 'created_at': datetime.datetime(2023, 11, 1, 18, 49, 2, 383, tzinfo=<UTC>),\n",
       " 'updated_at': datetime.datetime(2023, 11, 1, 18, 49, 2, 364906, tzinfo=<UTC>),\n",
       " 'found_at': datetime.datetime(2022, 11, 24, 3, 0, tzinfo=<UTC>),\n",
       " 'due_at': None,\n",
       " 'status_id': UUID('e2001078-3039-4ace-af1d-642c03fe0be2'),\n",
       " 'job_id': None,\n",
       " 'parent_id': None,\n",
       " 'active_inspection_id': None,\n",
       " 'due_at_manually_specified': False,\n",
       " 'end_km_manually_specified': False,\n",
       " 'project_end_km_manually_specified': False,\n",
       " 'editable': True,\n",
       " 'approval_step_id': UUID('a3136f17-7545-47e2-aee6-4221db062c34'),\n",
       " 'keywords': '-22.66627 -43.84987 618160.46 7492966.21 23K SV 116 RJ 234+360 N 1 RJ Sinalta Advertência A-1b-Curva acentuada ã direita Em solo ACM Perfil Metálico C Retangular 1.0 1 Tipo III Fundo Amarela 216.0 0',\n",
       " 'lot': '1',\n",
       " 'technical_opinion': None,\n",
       " 'construction_id': None,\n",
       " 'pdf_import_id': None,\n",
       " '_fieldsignals_originals': {(139743807936784,\n",
       "   139743242883440): {'uuid': UUID('277d86cf-73ae-478d-a83e-e09e7d112636'), 'number': 'CCR-Inv-2023.145125', 'company': UUID('3af64f25-59e8-446b-bb1e-963549090b0d'), 'road_name': 'BR-116 RJ', 'road': 2037, 'km': 234.36, 'end_km': 234.36, 'project_km': 0.0, 'project_end_km': 0.0, 'point': <Point object at 0x7f186df29be0>, 'direction': '0', 'lane': '29', 'address': {}, 'created_by': UUID('508a66f3-3f58-4c4e-bc9a-fbba6078c02d'), 'firm': UUID('8e3f277d-cd02-444f-a49b-c8d724f92c9d'), 'occurrence_type': UUID('f53142e7-15b7-4382-8fb4-bb829f7cafcc'), 'form_data': {'uf': 'RJ',\n",
       "    'lat': -22.66627,\n",
       "    'area': 1,\n",
       "    'long': -43.84987,\n",
       "    'xutm': 618160.46,\n",
       "    'yutm': 7492966.21,\n",
       "    'zone': '1',\n",
       "    'width': 1.0,\n",
       "    'height': 1.0,\n",
       "    'sign_type': '2',\n",
       "    'id_ccr_antt': 'SV 116 RJ 234+360 N 1',\n",
       "    'plate_format': '2',\n",
       "    'sign_missing': False,\n",
       "    'minimal_value': 216.0,\n",
       "    'pelicule_kind': '2',\n",
       "    'pelicule_color': '2',\n",
       "    'plate_material': '2',\n",
       "    'fabrication_date': '2014-07-01T00:00:00-03:00',\n",
       "    'fabrication_name': 'Sinalta',\n",
       "    'support_material': '3',\n",
       "    'minimal_value_two': 0,\n",
       "    'belongs_concession': True,\n",
       "    'implantation_place': '2',\n",
       "    'minimal_value_four': 0,\n",
       "    'minimal_value_three': 0,\n",
       "    'pelicule_application': '2',\n",
       "    'sign_code_advertencia': '18'}, 'form_metadata': {'uf': {'manually_specified': True},\n",
       "    'area': {'manually_specified': False},\n",
       "    'id_ccr_antt': {'manually_specified': True},\n",
       "    'minimal_value': {'manually_specified': True},\n",
       "    'minimal_value_two': {'manually_specified': False},\n",
       "    'minimal_value_four': {'manually_specified': False},\n",
       "    'minimal_value_three': {'manually_specified': False}}, 'executed_at': datetime.datetime(2022, 11, 24, 3, 0, tzinfo=<UTC>), 'created_at': datetime.datetime(2023, 11, 1, 18, 49, 2, 383, tzinfo=<UTC>), 'updated_at': datetime.datetime(2023, 11, 1, 18, 49, 2, 364906, tzinfo=<UTC>), 'found_at': datetime.datetime(2022, 11, 24, 3, 0, tzinfo=<UTC>), 'status': UUID('e2001078-3039-4ace-af1d-642c03fe0be2'), 'due_at_manually_specified': False, 'end_km_manually_specified': False, 'project_end_km_manually_specified': False, 'editable': True, 'approval_step': UUID('a3136f17-7545-47e2-aee6-4221db062c34'), 'keywords': '-22.66627 -43.84987 618160.46 7492966.21 23K SV 116 RJ 234+360 N 1 RJ Sinalta Advertência A-1b-Curva acentuada ã direita Em solo ACM Perfil Metálico C Retangular 1.0 1 Tipo III Fundo Amarela 216.0 0', 'lot': '1'},\n",
       "  (139743807936656,\n",
       "   139743238855280): {'uuid': UUID('277d86cf-73ae-478d-a83e-e09e7d112636'), 'number': 'CCR-Inv-2023.145125', 'company': UUID('3af64f25-59e8-446b-bb1e-963549090b0d'), 'road_name': 'BR-116 RJ', 'road': 2037, 'km': 234.36, 'end_km': 234.36, 'project_km': 0.0, 'project_end_km': 0.0, 'point': <Point object at 0x7f186decd2e0>, 'direction': '0', 'lane': '29', 'address': {}, 'created_by': UUID('508a66f3-3f58-4c4e-bc9a-fbba6078c02d'), 'firm': UUID('8e3f277d-cd02-444f-a49b-c8d724f92c9d'), 'occurrence_type': UUID('f53142e7-15b7-4382-8fb4-bb829f7cafcc'), 'form_data': {'uf': 'RJ',\n",
       "    'lat': -22.66627,\n",
       "    'area': 1,\n",
       "    'long': -43.84987,\n",
       "    'xutm': 618160.46,\n",
       "    'yutm': 7492966.21,\n",
       "    'zone': '1',\n",
       "    'width': 1.0,\n",
       "    'height': 1.0,\n",
       "    'sign_type': '2',\n",
       "    'id_ccr_antt': 'SV 116 RJ 234+360 N 1',\n",
       "    'plate_format': '2',\n",
       "    'sign_missing': False,\n",
       "    'minimal_value': 216.0,\n",
       "    'pelicule_kind': '2',\n",
       "    'pelicule_color': '2',\n",
       "    'plate_material': '2',\n",
       "    'fabrication_date': '2014-07-01T00:00:00-03:00',\n",
       "    'fabrication_name': 'Sinalta',\n",
       "    'support_material': '3',\n",
       "    'minimal_value_two': 0,\n",
       "    'belongs_concession': True,\n",
       "    'implantation_place': '2',\n",
       "    'minimal_value_four': 0,\n",
       "    'minimal_value_three': 0,\n",
       "    'pelicule_application': '2',\n",
       "    'sign_code_advertencia': '18'}, 'form_metadata': {'uf': {'manually_specified': True},\n",
       "    'area': {'manually_specified': False},\n",
       "    'id_ccr_antt': {'manually_specified': True},\n",
       "    'minimal_value': {'manually_specified': True},\n",
       "    'minimal_value_two': {'manually_specified': False},\n",
       "    'minimal_value_four': {'manually_specified': False},\n",
       "    'minimal_value_three': {'manually_specified': False}}, 'executed_at': datetime.datetime(2022, 11, 24, 3, 0, tzinfo=<UTC>), 'created_at': datetime.datetime(2023, 11, 1, 18, 49, 2, 383, tzinfo=<UTC>), 'updated_at': datetime.datetime(2023, 11, 1, 18, 49, 2, 364906, tzinfo=<UTC>), 'found_at': datetime.datetime(2022, 11, 24, 3, 0, tzinfo=<UTC>), 'status': UUID('e2001078-3039-4ace-af1d-642c03fe0be2'), 'due_at_manually_specified': False, 'end_km_manually_specified': False, 'project_end_km_manually_specified': False, 'editable': True, 'approval_step': UUID('a3136f17-7545-47e2-aee6-4221db062c34'), 'keywords': '-22.66627 -43.84987 618160.46 7492966.21 23K SV 116 RJ 234+360 N 1 RJ Sinalta Advertência A-1b-Curva acentuada ã direita Em solo ACM Perfil Metálico C Retangular 1.0 1 Tipo III Fundo Amarela 216.0 0', 'lot': '1'}}}"
      ]
     },
     "execution_count": 6,
     "metadata": {},
     "output_type": "execute_result"
    }
   ],
   "source": [
    "reps[0].__dict__"
   ]
  },
  {
   "cell_type": "code",
   "execution_count": 7,
   "id": "6131511e",
   "metadata": {},
   "outputs": [],
   "source": [
    "apontamentos = bulk_update_with_history(reps,Reporting, use_django_bulk=True,batch_size=6000,user=User.objects.get(username='rlcs'))"
   ]
  },
  {
   "cell_type": "code",
   "execution_count": 1,
   "id": "b6d2a8b4",
   "metadata": {},
   "outputs": [
    {
     "data": {
      "text/plain": [
       "<Company: 3af64f25-59e8-446b-bb1e-963549090b0d: CCR - Rio Sp>"
      ]
     },
     "execution_count": 1,
     "metadata": {},
     "output_type": "execute_result"
    }
   ],
   "source": [
    "company = Company.objects.get(name=\"CCR - Rio Sp\")\n",
    "company"
   ]
  },
  {
   "cell_type": "code",
   "execution_count": 2,
   "id": "62d0db77",
   "metadata": {},
   "outputs": [
    {
     "data": {
      "text/plain": [
       "<QuerySet [{'occurrence_type__name': 'Barreira New Jersey', 'qtd_por_classe': 2387}, {'occurrence_type__name': 'Cadastro de Acessos', 'qtd_por_classe': 2705}, {'occurrence_type__name': 'Cadastro Inicial OAE', 'qtd_por_classe': 533}, {'occurrence_type__name': 'Coleta de lixo/entulho', 'qtd_por_classe': 1}, {'occurrence_type__name': 'Conformação/Regularização de Terreno', 'qtd_por_classe': 13}, {'occurrence_type__name': 'Conformação / Regularização de terreno faixa de dominio', 'qtd_por_classe': 1}, {'occurrence_type__name': 'Defensas em OAE', 'qtd_por_classe': 649}, {'occurrence_type__name': 'Defensas Metálicas', 'qtd_por_classe': 4939}, {'occurrence_type__name': 'Desentupimento Manual', 'qtd_por_classe': 2}, {'occurrence_type__name': 'Drenagem Profunda Elemento', 'qtd_por_classe': 9217}, {'occurrence_type__name': 'Drenagem Profunda Ficha ANTT', 'qtd_por_classe': 7991}, {'occurrence_type__name': 'Drenagem Superficial', 'qtd_por_classe': 17156}, {'occurrence_type__name': 'Edificações SGE', 'qtd_por_classe': 84}, {'occurrence_type__name': 'Equipamentos de ITS', 'qtd_por_classe': 223}, {'occurrence_type__name': 'Erro de marco quilométrico', 'qtd_por_classe': 148}, {'occurrence_type__name': 'Hidrossemeadura', 'qtd_por_classe': 2}, {'occurrence_type__name': 'Iluminação', 'qtd_por_classe': 290}, {'occurrence_type__name': 'Implantação de elementos na faixa de domínio', 'qtd_por_classe': 4}, {'occurrence_type__name': 'Implantação Elementos em Edificações', 'qtd_por_classe': 4}, {'occurrence_type__name': 'Implantação EPS', 'qtd_por_classe': 19}, '...(remaining elements truncated)...']>"
      ]
     },
     "execution_count": 2,
     "metadata": {},
     "output_type": "execute_result"
    }
   ],
   "source": [
    "reps=Reporting.objects.filter(company=company\n",
    "                             ).values('occurrence_type__name'\n",
    "                                     ).annotate(qtd_por_classe=Count('uuid')\n",
    "                                               ).order_by('occurrence_type__name')\n",
    "reps"
   ]
  },
  {
   "cell_type": "code",
   "execution_count": 8,
   "id": "1fb16092",
   "metadata": {},
   "outputs": [
    {
     "data": {
      "text/plain": [
       "{'Barreira New Jersey': 2387,\n",
       " 'Cadastro de Acessos': 2705,\n",
       " 'Cadastro Inicial OAE': 533,\n",
       " 'Coleta de lixo/entulho': 1,\n",
       " 'Conformação/Regularização de Terreno': 13,\n",
       " 'Conformação / Regularização de terreno faixa de dominio': 1,\n",
       " 'Defensas em OAE': 649,\n",
       " 'Defensas Metálicas': 4939,\n",
       " 'Desentupimento Manual': 2,\n",
       " 'Drenagem Profunda Elemento': 9217,\n",
       " 'Drenagem Profunda Ficha ANTT': 7991,\n",
       " 'Drenagem Superficial': 17156,\n",
       " 'Edificações SGE': 84,\n",
       " 'Equipamentos de ITS': 223,\n",
       " 'Erro de marco quilométrico': 148,\n",
       " 'Hidrossemeadura': 2,\n",
       " 'Iluminação': 290,\n",
       " 'Implantação de elementos na faixa de domínio': 4,\n",
       " 'Implantação Elementos em Edificações': 4,\n",
       " 'Implantação EPS': 19,\n",
       " 'Instalação em Edificações': 26,\n",
       " 'Instalação sin.vertical': 35,\n",
       " 'Instalações Elétricas de Edificações': 62,\n",
       " 'Lavagem manual de sinalização vertical': 12,\n",
       " 'Limpeza de OAEs': 2,\n",
       " 'Limpeza/desobstrução manual': 29,\n",
       " 'Limpeza/desobstrução mecânica': 42,\n",
       " 'Limpeza em Edificações': 8,\n",
       " 'Limpeza/Lavagem Manual EPS': 3,\n",
       " 'Limpeza/Lavagem Mecânica EPS': 1,\n",
       " 'Limpeza ou varrição': 42,\n",
       " 'Manutenção de elementos na faixa de domínio': 3,\n",
       " 'Manutenção EPS': 57,\n",
       " 'Monitoração de Acessos': 2744,\n",
       " 'Monitoração de Barreira New Jersey': 2506,\n",
       " 'Monitoração de Defensas Em OAE': 820,\n",
       " 'Monitoração de Defensas Metálicas': 5156,\n",
       " 'Monitoração de Drenagem Profunda': 16,\n",
       " 'Monitoração de Edificações SGE': 196,\n",
       " 'Monitoração Degrau': 5274,\n",
       " 'Monitoração de Iluminação': 288,\n",
       " 'Monitoração de Instalações Elétricas de Edificações': 44,\n",
       " 'Monitoração de Ocupações': 2050,\n",
       " 'Monitoração de Sinalização Vertical': 23372,\n",
       " 'Monitoração de Tela Antiofuscante': 168,\n",
       " 'Monitoração de Terraplenos e Estruturas de Contenção': 3846,\n",
       " 'Monitoração Drenagem Superficial': 34336,\n",
       " 'Monitoração Flecha': 1367,\n",
       " 'Monitoração ICP': 219,\n",
       " 'Monitoração IGG': 60832,\n",
       " 'Monitoração IGG - Km a Km': 1574,\n",
       " 'Monitoração IRI Segmento': 12204,\n",
       " 'Monitoração IRI Total': 2691,\n",
       " 'Monitoração Mancha de Areia': 19,\n",
       " 'Monitoração OAE ANTT': 1066,\n",
       " 'Monitoração OAE CCR': 533,\n",
       " 'Monitoração Pêndulo Britânico': 26,\n",
       " 'Monitoração Pro-07': 7400,\n",
       " 'Ocupações': 2059,\n",
       " 'Panelas - tapa buraco': 1,\n",
       " 'Pintura': 2,\n",
       " 'Pintura de elementos na faixa de domínio': 2,\n",
       " 'Pintura em Edificações': 12,\n",
       " 'Pintura EPS': 1,\n",
       " 'Pintura manual': 1,\n",
       " 'Pintura/tratamento superficial em OAE': 5,\n",
       " 'Placas Pavimento de Concreto - ICP': 11,\n",
       " 'Poda ou regularização de árvores e arbustos': 44,\n",
       " 'Preenchimento/regularização': 25,\n",
       " 'Prestação de serviço especializado OAE': 1,\n",
       " 'Reconstrução de elementos na faixa de domínio': 1,\n",
       " 'Reconstrução em Edificações': 1,\n",
       " 'Reconstrução EPS': 3,\n",
       " 'Recuperação Terrapleno': 2,\n",
       " 'Reinstalação em Edificações': 1,\n",
       " 'Remanejamento sin.vertical': 2,\n",
       " 'Remoção de árvores e arbustos': 1,\n",
       " 'Remoção de elementos na faixa de domínio': 13,\n",
       " 'Remoção e Instalação de Sinalização Vertical': 4,\n",
       " 'Remoção  EPS': 1,\n",
       " 'Remoção sin.vertical': 6,\n",
       " 'Reparo de elementos na faixa de domínio': 38,\n",
       " 'Reparo em drenagem': 66,\n",
       " 'Reparo em Edificações': 117,\n",
       " 'Reparo em elemento de OAE': 5,\n",
       " 'Reparo ou substituição de treliças': 1,\n",
       " 'Reparo sin.vertical': 39,\n",
       " 'Reposição EPS': 6,\n",
       " 'Retrorrefletância de Dispositivos': 529,\n",
       " 'Retrorrefletância de Marcas Viárias': 652,\n",
       " 'Retrorrefletância Horizontal de Zebrado': 2031,\n",
       " 'Retrorrefletância Horizontal Longitudinal': 150,\n",
       " 'Roçada Manual': 4,\n",
       " 'Selagem de Trinca (Pavimento flexível)': 25,\n",
       " 'Sinalização Horizontal (Dispositivos)': 447,\n",
       " 'Sinalização horizontal (Longitudinal)': 122,\n",
       " 'Sinalização Horizontal (Marcas Viárias)': 559,\n",
       " 'Sinalização Horizontal (Zebrado)': 1882,\n",
       " 'Sinalização Vertical': 18803,\n",
       " 'Substituição de elemento de OAE': 1,\n",
       " 'Substituição de elementos na faixa de domínio': 1,\n",
       " 'Substituição em Edificações': 28,\n",
       " 'Substituição EPS': 32,\n",
       " 'Substituição sin.vertical': 59,\n",
       " 'Tela Antiofuscante': 168,\n",
       " 'Terraplenos e Estrutura de Contenção': 2106}"
      ]
     },
     "execution_count": 8,
     "metadata": {},
     "output_type": "execute_result"
    }
   ],
   "source": [
    "{a['occurrence_type__name']:a['qtd_por_classe'] for a in reps}"
   ]
  },
  {
   "cell_type": "code",
   "execution_count": 17,
   "id": "9623585b",
   "metadata": {},
   "outputs": [
    {
     "name": "stdout",
     "output_type": "stream",
     "text": [
      "{'occurrence_type__name': 'Barreira New Jersey', 'qtd_por_classe': 2387}\n",
      "{'occurrence_type__name': 'Cadastro de Acessos', 'qtd_por_classe': 2705}\n",
      "{'occurrence_type__name': 'Coleta de lixo/entulho', 'qtd_por_classe': 1}\n",
      "{'occurrence_type__name': 'Conformação/Regularização de Terreno', 'qtd_por_classe': 5}\n",
      "{'occurrence_type__name': 'Conformação / Regularização de terreno faixa de dominio', 'qtd_por_classe': 1}\n",
      "{'occurrence_type__name': 'Defensas em OAE', 'qtd_por_classe': 649}\n",
      "{'occurrence_type__name': 'Defensas Metálicas', 'qtd_por_classe': 4939}\n",
      "{'occurrence_type__name': 'Desentupimento Manual', 'qtd_por_classe': 2}\n",
      "{'occurrence_type__name': 'Drenagem Superficial', 'qtd_por_classe': 17155}\n",
      "{'occurrence_type__name': 'Edificações SGE', 'qtd_por_classe': 84}\n",
      "{'occurrence_type__name': 'Equipamentos de ITS', 'qtd_por_classe': 223}\n",
      "{'occurrence_type__name': 'Erro de marco quilométrico', 'qtd_por_classe': 148}\n",
      "{'occurrence_type__name': 'Hidrossemeadura', 'qtd_por_classe': 2}\n",
      "{'occurrence_type__name': 'Iluminação', 'qtd_por_classe': 290}\n",
      "{'occurrence_type__name': 'Implantação de elementos na faixa de domínio', 'qtd_por_classe': 1}\n",
      "{'occurrence_type__name': 'Implantação Elementos em Edificações', 'qtd_por_classe': 1}\n",
      "{'occurrence_type__name': 'Implantação EPS', 'qtd_por_classe': 8}\n",
      "{'occurrence_type__name': 'Instalação em Edificações', 'qtd_por_classe': 19}\n",
      "{'occurrence_type__name': 'Instalação sin.vertical', 'qtd_por_classe': 34}\n",
      "{'occurrence_type__name': 'Instalações Elétricas de Edificações', 'qtd_por_classe': 62}\n",
      "{'occurrence_type__name': 'Lavagem manual de sinalização vertical', 'qtd_por_classe': 11}\n",
      "{'occurrence_type__name': 'Limpeza/desobstrução manual', 'qtd_por_classe': 11}\n",
      "{'occurrence_type__name': 'Limpeza/desobstrução mecânica', 'qtd_por_classe': 19}\n",
      "{'occurrence_type__name': 'Limpeza em Edificações', 'qtd_por_classe': 6}\n",
      "{'occurrence_type__name': 'Limpeza/Lavagem Manual EPS', 'qtd_por_classe': 2}\n",
      "{'occurrence_type__name': 'Limpeza ou varrição', 'qtd_por_classe': 30}\n",
      "{'occurrence_type__name': 'Manutenção EPS', 'qtd_por_classe': 40}\n",
      "{'occurrence_type__name': 'Monitoração de Barreira New Jersey', 'qtd_por_classe': 2387}\n",
      "{'occurrence_type__name': 'Monitoração de Defensas Em OAE', 'qtd_por_classe': 700}\n",
      "{'occurrence_type__name': 'Monitoração de Drenagem Profunda', 'qtd_por_classe': 16}\n",
      "{'occurrence_type__name': 'Monitoração de Edificações SGE', 'qtd_por_classe': 28}\n",
      "{'occurrence_type__name': 'Monitoração Degrau', 'qtd_por_classe': 5274}\n",
      "{'occurrence_type__name': 'Monitoração de Ocupações', 'qtd_por_classe': 2050}\n",
      "{'occurrence_type__name': 'Monitoração de Tela Antiofuscante', 'qtd_por_classe': 168}\n",
      "{'occurrence_type__name': 'Monitoração Flecha', 'qtd_por_classe': 1367}\n",
      "{'occurrence_type__name': 'Monitoração ICP', 'qtd_por_classe': 219}\n",
      "{'occurrence_type__name': 'Monitoração IGG', 'qtd_por_classe': 50357}\n",
      "{'occurrence_type__name': 'Monitoração IGG - Km a Km', 'qtd_por_classe': 1574}\n",
      "{'occurrence_type__name': 'Monitoração IRI Segmento', 'qtd_por_classe': 12204}\n",
      "{'occurrence_type__name': 'Monitoração IRI Total', 'qtd_por_classe': 2691}\n",
      "{'occurrence_type__name': 'Monitoração Mancha de Areia', 'qtd_por_classe': 19}\n",
      "{'occurrence_type__name': 'Monitoração Pêndulo Britânico', 'qtd_por_classe': 26}\n",
      "{'occurrence_type__name': 'Monitoração Pro-07', 'qtd_por_classe': 7400}\n",
      "{'occurrence_type__name': 'Ocupações', 'qtd_por_classe': 2059}\n",
      "{'occurrence_type__name': 'Panelas - tapa buraco', 'qtd_por_classe': 1}\n",
      "{'occurrence_type__name': 'Pintura', 'qtd_por_classe': 2}\n",
      "{'occurrence_type__name': 'Pintura de elementos na faixa de domínio', 'qtd_por_classe': 2}\n",
      "{'occurrence_type__name': 'Pintura em Edificações', 'qtd_por_classe': 11}\n",
      "{'occurrence_type__name': 'Pintura manual', 'qtd_por_classe': 1}\n",
      "{'occurrence_type__name': 'Pintura/tratamento superficial em OAE', 'qtd_por_classe': 2}\n",
      "{'occurrence_type__name': 'Placas Pavimento de Concreto - ICP', 'qtd_por_classe': 11}\n",
      "{'occurrence_type__name': 'Poda ou regularização de árvores e arbustos', 'qtd_por_classe': 26}\n",
      "{'occurrence_type__name': 'Preenchimento/regularização', 'qtd_por_classe': 25}\n",
      "{'occurrence_type__name': 'Prestação de serviço especializado OAE', 'qtd_por_classe': 1}\n",
      "{'occurrence_type__name': 'Reconstrução de elementos na faixa de domínio', 'qtd_por_classe': 1}\n",
      "{'occurrence_type__name': 'Reconstrução em Edificações', 'qtd_por_classe': 1}\n",
      "{'occurrence_type__name': 'Reconstrução EPS', 'qtd_por_classe': 1}\n",
      "{'occurrence_type__name': 'Recuperação Terrapleno', 'qtd_por_classe': 2}\n",
      "{'occurrence_type__name': 'Reinstalação em Edificações', 'qtd_por_classe': 1}\n",
      "{'occurrence_type__name': 'Remanejamento sin.vertical', 'qtd_por_classe': 1}\n",
      "{'occurrence_type__name': 'Remoção de elementos na faixa de domínio', 'qtd_por_classe': 5}\n",
      "{'occurrence_type__name': 'Remoção e Instalação de Sinalização Vertical', 'qtd_por_classe': 3}\n",
      "{'occurrence_type__name': 'Remoção  EPS', 'qtd_por_classe': 1}\n",
      "{'occurrence_type__name': 'Remoção sin.vertical', 'qtd_por_classe': 6}\n",
      "{'occurrence_type__name': 'Reparo de elementos na faixa de domínio', 'qtd_por_classe': 36}\n",
      "{'occurrence_type__name': 'Reparo em drenagem', 'qtd_por_classe': 50}\n",
      "{'occurrence_type__name': 'Reparo em Edificações', 'qtd_por_classe': 111}\n",
      "{'occurrence_type__name': 'Reparo em elemento de OAE', 'qtd_por_classe': 4}\n",
      "{'occurrence_type__name': 'Reparo ou substituição de treliças', 'qtd_por_classe': 1}\n",
      "{'occurrence_type__name': 'Reparo sin.vertical', 'qtd_por_classe': 33}\n",
      "{'occurrence_type__name': 'Reposição EPS', 'qtd_por_classe': 5}\n",
      "{'occurrence_type__name': 'Retrorrefletância de Dispositivos', 'qtd_por_classe': 115}\n",
      "{'occurrence_type__name': 'Retrorrefletância de Marcas Viárias', 'qtd_por_classe': 559}\n",
      "{'occurrence_type__name': 'Retrorrefletância Horizontal de Zebrado', 'qtd_por_classe': 1882}\n",
      "{'occurrence_type__name': 'Sinalização Horizontal (Dispositivos)', 'qtd_por_classe': 447}\n",
      "{'occurrence_type__name': 'Sinalização horizontal (Longitudinal)', 'qtd_por_classe': 122}\n",
      "{'occurrence_type__name': 'Sinalização Horizontal (Marcas Viárias)', 'qtd_por_classe': 559}\n",
      "{'occurrence_type__name': 'Sinalização Horizontal (Zebrado)', 'qtd_por_classe': 1882}\n",
      "{'occurrence_type__name': 'Sinalização Vertical', 'qtd_por_classe': 17586}\n",
      "{'occurrence_type__name': 'Substituição de elemento de OAE', 'qtd_por_classe': 1}\n",
      "{'occurrence_type__name': 'Substituição de elementos na faixa de domínio', 'qtd_por_classe': 1}\n",
      "{'occurrence_type__name': 'Substituição em Edificações', 'qtd_por_classe': 17}\n",
      "{'occurrence_type__name': 'Substituição EPS', 'qtd_por_classe': 30}\n",
      "{'occurrence_type__name': 'Substituição sin.vertical', 'qtd_por_classe': 50}\n",
      "{'occurrence_type__name': 'Tela Antiofuscante', 'qtd_por_classe': 168}\n",
      "{'occurrence_type__name': 'Terraplenos e Estrutura de Contenção', 'qtd_por_classe': 2106}\n"
     ]
    }
   ],
   "source": [
    "for a in reps:\n",
    "    print(a)"
   ]
  },
  {
   "cell_type": "code",
   "execution_count": 18,
   "id": "44f34202",
   "metadata": {},
   "outputs": [],
   "source": [
    "import pandas as pd"
   ]
  },
  {
   "cell_type": "code",
   "execution_count": 20,
   "id": "5839abc5",
   "metadata": {},
   "outputs": [],
   "source": [
    "pd.DataFrame(data=reps).to_excel('ccr.xlsx')"
   ]
  },
  {
   "cell_type": "code",
   "execution_count": 1,
   "id": "0fc6677c",
   "metadata": {},
   "outputs": [],
   "source": [
    "from django.contrib.contenttypes.models import ContentType"
   ]
  },
  {
   "cell_type": "code",
   "execution_count": 10,
   "id": "a65ebaa5",
   "metadata": {},
   "outputs": [
    {
     "name": "stdout",
     "output_type": "stream",
     "text": [
      "206 dailyreport\n",
      "207 historicaldailyreport\n",
      "208 dailyreportrelation\n",
      "209 dailyreportworker\n",
      "210 historicaldailyreportrelation\n",
      "211 historicaldailyreportworker\n",
      "212 dailyreportexternalteam\n",
      "213 historicaldailyreportexternalteam\n",
      "214 dailyreportequipment\n",
      "215 historicaldailyreportequipment\n",
      "216 dailyreportvehicle\n",
      "217 historicaldailyreportvehicle\n",
      "218 dailyreportsignaling\n",
      "219 historicaldailyreportsignaling\n",
      "220 historicalmultipledailyreport\n",
      "221 multipledailyreport\n",
      "224 historicaldailyreportoccurrence\n",
      "225 dailyreportoccurrence\n",
      "226 historicaldailyreportresource\n",
      "227 dailyreportresource\n",
      "228 historicaldailyreportexport\n",
      "229 dailyreportexport\n",
      "230 historicaldailyreportcontractusage\n",
      "231 dailyreportcontractusage\n"
     ]
    }
   ],
   "source": [
    "for a in ContentType.objects.all():\n",
    "    if 'daily' in a.model.lower() and :\n",
    "        print(a.id,a.model)"
   ]
  },
  {
   "cell_type": "code",
   "execution_count": 7,
   "id": "09716f64",
   "metadata": {},
   "outputs": [
    {
     "data": {
      "text/plain": [
       "{'_state': <django.db.models.base.ModelState at 0x7f67aa0d3c90>,\n",
       " 'id': 1,\n",
       " 'app_label': 'occurrence_records',\n",
       " 'model': 'occurrencerecord'}"
      ]
     },
     "execution_count": 7,
     "metadata": {},
     "output_type": "execute_result"
    }
   ],
   "source": [
    "ContentType.objects.all()[0].__dict__"
   ]
  },
  {
   "cell_type": "code",
   "execution_count": 2,
   "id": "c14043aa",
   "metadata": {},
   "outputs": [
    {
     "data": {
      "text/plain": [
       "<Company: 3af64f25-59e8-446b-bb1e-963549090b0d: CCR - Rio Sp>"
      ]
     },
     "execution_count": 2,
     "metadata": {},
     "output_type": "execute_result"
    }
   ],
   "source": [
    "company = Company.objects.get(name=\"CCR - Rio Sp\")\n",
    "company"
   ]
  },
  {
   "cell_type": "code",
   "execution_count": 3,
   "id": "3ec4517f",
   "metadata": {},
   "outputs": [
    {
     "data": {
      "text/plain": [
       "<UserPermission: ['CCR - Rio Sp'] - Coordenador/Gerente>"
      ]
     },
     "execution_count": 3,
     "metadata": {},
     "output_type": "execute_result"
    }
   ],
   "source": [
    "permission = UserPermission.objects.get(name='Coordenador/Gerente', companies=company)\n",
    "permission"
   ]
  },
  {
   "cell_type": "markdown",
   "id": "d0b4701f",
   "metadata": {},
   "source": [
    "# Erro de solicitação de acesso de usuários"
   ]
  },
  {
   "cell_type": "code",
   "execution_count": 5,
   "id": "1b69dbc1",
   "metadata": {},
   "outputs": [],
   "source": [
    "for a in UserInCompany.objects.filter(permissions__name__in=['Coordenador','Usuário Padrão'],company=company):\n",
    "#     a.permissions = permission\n",
    "#     a.save()\n",
    "    print(a.permissions.name)"
   ]
  },
  {
   "cell_type": "code",
   "execution_count": 1,
   "id": "cd39851a",
   "metadata": {},
   "outputs": [
    {
     "name": "stdout",
     "output_type": "stream",
     "text": [
      "tudo certo pra CCR - SPVias  Permissão:  Coordenador\n",
      "tudo certo pra CCR - AutoBAn  Permissão:  Coordenador\n",
      "tudo certo pra CCR - Rio Sp  Permissão:  Coordenador/Gerente\n",
      "tudo certo pra CCR - RodoAnel  Permissão:  Coordenador\n"
     ]
    }
   ],
   "source": [
    "for a in UserInCompany.objects.filter(user__username='giovane.aguado'):\n",
    "    try:\n",
    "        UserPermission.objects.get(companies=a.company,name=a.permissions.name)\n",
    "        print('tudo certo pra',a.company.name,' Permissão: ',a.permissions.name)\n",
    "    except Exception as e:\n",
    "        print(f'essa permissão {a.permissions.name} não existe pra essa unidade {a.company.name} | Erro: {e}')"
   ]
  },
  {
   "cell_type": "code",
   "execution_count": 1,
   "id": "d3534f22",
   "metadata": {},
   "outputs": [
    {
     "ename": "NameError",
     "evalue": "name 'company' is not defined",
     "output_type": "error",
     "traceback": [
      "\u001b[0;31m---------------------------------------------------------------------------\u001b[0m",
      "\u001b[0;31mNameError\u001b[0m                                 Traceback (most recent call last)",
      "\u001b[0;32m/tmp/ipykernel_20192/103409732.py\u001b[0m in \u001b[0;36m<module>\u001b[0;34m\u001b[0m\n\u001b[0;32m----> 1\u001b[0;31m \u001b[0mpermission\u001b[0m \u001b[0;34m=\u001b[0m \u001b[0mUserPermission\u001b[0m\u001b[0;34m.\u001b[0m\u001b[0mobjects\u001b[0m\u001b[0;34m.\u001b[0m\u001b[0mget\u001b[0m\u001b[0;34m(\u001b[0m\u001b[0mname\u001b[0m\u001b[0;34m=\u001b[0m\u001b[0;34m'Suporte'\u001b[0m\u001b[0;34m,\u001b[0m \u001b[0mcompanies\u001b[0m\u001b[0;34m=\u001b[0m\u001b[0mcompany\u001b[0m\u001b[0;34m)\u001b[0m\u001b[0;34m\u001b[0m\u001b[0;34m\u001b[0m\u001b[0m\n\u001b[0m\u001b[1;32m      2\u001b[0m \u001b[0mpermission\u001b[0m\u001b[0;34m\u001b[0m\u001b[0;34m\u001b[0m\u001b[0m\n",
      "\u001b[0;31mNameError\u001b[0m: name 'company' is not defined"
     ]
    }
   ],
   "source": [
    "permission = UserPermission.objects.get(name='Suporte', companies=company)\n",
    "permission"
   ]
  },
  {
   "cell_type": "code",
   "execution_count": 20,
   "id": "f9963507",
   "metadata": {},
   "outputs": [
    {
     "name": "stderr",
     "output_type": "stream",
     "text": [
      "/home/luan/.cache/pypoetry/virtualenvs/apps-ZFymp6kh-py3.7/lib/python3.7/site-packages/django/db/models/fields/__init__.py:1427: RuntimeWarning: DateTimeField HistoricalUserPermission.history_date received a naive datetime (2023-11-14 00:00:00) while time zone support is active.\n",
      "  RuntimeWarning)\n"
     ]
    },
    {
     "name": "stdout",
     "output_type": "stream",
     "text": [
      "['CCR - RodoAnel', 'CCR - SPVias', 'CCR - AutoBAn', 'CCR - Rio Sp'] - Suporte as of 2023-11-13 13:31:17.993724+00:00\n"
     ]
    }
   ],
   "source": [
    "for a in permission.history.filter(history_date__lte='2023-11-14').order_by('-history_date')[:1]:\n",
    "    print(a)"
   ]
  },
  {
   "cell_type": "code",
   "execution_count": 22,
   "id": "7500e467",
   "metadata": {},
   "outputs": [
    {
     "data": {
      "text/plain": [
       "{'can_edit': True,\n",
       " 'can_view': True,\n",
       " 'queryset': 'all',\n",
       " 'can_create': True,\n",
       " 'can_delete': True}"
      ]
     },
     "execution_count": 22,
     "metadata": {},
     "output_type": "execute_result"
    }
   ],
   "source": [
    "a.permissions['ReportingRelation']"
   ]
  },
  {
   "cell_type": "code",
   "execution_count": 21,
   "id": "da10f43f",
   "metadata": {},
   "outputs": [
    {
     "data": {
      "text/plain": [
       "{'can_edit': True,\n",
       " 'can_view': True,\n",
       " 'queryset': 'all',\n",
       " 'can_create': True,\n",
       " 'can_delete': True}"
      ]
     },
     "execution_count": 21,
     "metadata": {},
     "output_type": "execute_result"
    }
   ],
   "source": [
    "b.permissions['ReportingRelation']"
   ]
  },
  {
   "cell_type": "code",
   "execution_count": 19,
   "id": "316e9c9f",
   "metadata": {},
   "outputs": [
    {
     "name": "stdout",
     "output_type": "stream",
     "text": [
      "['CCR - RodoAnel', 'CCR - SPVias', 'CCR - AutoBAn', 'CCR - Rio Sp'] - Suporte as of 2023-10-20 18:46:22.043023+00:00\n"
     ]
    }
   ],
   "source": [
    "for b in permission.history.filter(history_date__lte='2023-10-21').order_by('-history_date')[:1]:\n",
    "    print(b)"
   ]
  },
  {
   "cell_type": "code",
   "execution_count": 30,
   "id": "686c9f8a",
   "metadata": {},
   "outputs": [
    {
     "name": "stdout",
     "output_type": "stream",
     "text": [
      "('Job', True)\n",
      "('File', True)\n",
      "('Firm', True)\n",
      "('Road', True)\n",
      "('User', True)\n",
      "('Company', True)\n",
      "('Service', True)\n",
      "('Contract', True)\n",
      "('HelpChat', True)\n",
      "('Resource', True)\n",
      "('ActionLog', True)\n",
      "('CSVImport', True)\n",
      "('Equipment', True)\n",
      "('Inventory', True)\n",
      "('PDFImport', True)\n",
      "('Reporting', True)\n",
      "('ShapeFile', True)\n",
      "('TileLayer', True)\n",
      "('Dashboard2', True)\n",
      "('Permission', True)\n",
      "('QueuedPush', True)\n",
      "('SubCompany', True)\n",
      "('UserInFirm', True)\n",
      "('ExcelImport', True)\n",
      "('FieldSurvey', True)\n",
      "('Measurement', True)\n",
      "('OaeSchedule', True)\n",
      "('RecordPanel', True)\n",
      "('ApprovalFlow', True)\n",
      "('ApprovalStep', True)\n",
      "('ServiceUsage', True)\n",
      "('construction', True)\n",
      "('AccessRequest', True)\n",
      "('ExportRequest', True)\n",
      "('ReportingFile', True)\n",
      "('UserInCompany', True)\n",
      "('OccurrenceType', True)\n",
      "('UserPermission', True)\n",
      "('AdvancedOptions', True)\n",
      "('ContractService', True)\n",
      "('FieldSurveyRoad', True)\n",
      "('InspectorInFirm', True)\n",
      "('RecordPanelView', True)\n",
      "('ReportingMessage', True)\n",
      "('AdditionalControl', True)\n",
      "('CustomizationMenu', True)\n",
      "('DailyReportConfig', True)\n",
      "('DailyReportExport', True)\n",
      "('DailyReportWorker', True)\n",
      "('ProcedureResource', True)\n",
      "('ReportingDeadline', True)\n",
      "('ReportingRelation', True)\n",
      "('ApprovalTransition', True)\n",
      "('DailyReportVehicle', True)\n",
      "('MeasurementService', True)\n",
      "('ReportingAppConfig', True)\n",
      "('construction_plant', True)\n",
      "('DailyReportRelation', True)\n",
      "('DailyReportResource', True)\n",
      "('MeasurementBulletin', True)\n",
      "('MultipleDailyReport', False)\n",
      "{'can_edit': True, 'can_view': True, 'queryset': 'all', 'can_create': True, 'can_delete': True, 'can_approve': True} 2023-10-20 18:46:22.043023+00:00\n",
      "{'can_edit': True, 'can_view': True, 'queryset': 'all', 'can_create': True, 'can_delete': True, 'can_approve': True, 'can_view_all_firms': True, 'can_create_and_edit_all_firms': True} 2023-11-13 13:31:17.993724+00:00\n",
      "('DailyReportEquipment', True)\n",
      "('DailyReportSignaling', True)\n",
      "('FieldSurveySignature', True)\n",
      "('ReportingInReporting', True)\n",
      "('ServiceOrderResource', True)\n",
      "('ContractItemUnitPrice', True)\n",
      "('DailyReportOccurrence', True)\n",
      "('construction_progress', True)\n",
      "('ContractItemPerformance', True)\n",
      "('DailyReportExternalTeam', True)\n",
      "('DailyReportContractUsage', True)\n",
      "('ServiceOrderActionStatus', True)\n",
      "('MeasurementBulletinExport', True)\n",
      "('ContractItemAdministration', True)\n"
     ]
    }
   ],
   "source": [
    "for c,d in a.permissions.items():\n",
    "    print((c,b.permissions[c]==a.permissions[c]))\n",
    "    if c == 'MultipleDailyReport':\n",
    "        print(b.permissions[c],b.history_date)\n",
    "        print(a.permissions[c],a.history_date)"
   ]
  },
  {
   "cell_type": "code",
   "execution_count": 1,
   "id": "774753da",
   "metadata": {},
   "outputs": [],
   "source": [
    "occs=OccurrenceType.objects.all()"
   ]
  },
  {
   "cell_type": "code",
   "execution_count": 3,
   "id": "cb5da6b2",
   "metadata": {},
   "outputs": [],
   "source": [
    "for a in occs:\n",
    "    for field in a.form_fields['fields']:\n",
    "        if field.get('displayName') == 'Índice (Serial Antt)' or field.get('displayName') == 'Índice (Serial ANTT)' or field.get('displayName') == 'índice (Código do Ativo)':\n",
    "            field['displayName'] = 'Índice (Identificação Poder Concedente)'\n",
    "            a.save()"
   ]
  },
  {
   "cell_type": "code",
   "execution_count": 1,
   "id": "1f925916",
   "metadata": {},
   "outputs": [],
   "source": [
    "jobs=Job.objects.filter(number__in=['CCR-job-2023.71','CCR-job-2023.72','CCR-job-2023.84'])"
   ]
  },
  {
   "cell_type": "code",
   "execution_count": 2,
   "id": "d56e8278",
   "metadata": {},
   "outputs": [
    {
     "data": {
      "text/plain": [
       "<QuerySet [<Job: [CCR - Rio Sp][katia.nunes] - 2023-12-01 03:01:00+00:00 - 2024-01-30 02:59:00+00:00>, <Job: [CCR - Rio Sp][katia.nunes] - 2023-12-01 03:01:00+00:00 - 2024-01-30 02:59:00+00:00>]>"
      ]
     },
     "execution_count": 2,
     "metadata": {},
     "output_type": "execute_result"
    }
   ],
   "source": [
    "jobs"
   ]
  },
  {
   "cell_type": "code",
   "execution_count": 3,
   "id": "6be93dce",
   "metadata": {},
   "outputs": [
    {
     "data": {
      "text/plain": [
       "0"
      ]
     },
     "execution_count": 3,
     "metadata": {},
     "output_type": "execute_result"
    }
   ],
   "source": [
    "Reporting.objects.filter(uuid__in=list(Reporting.objects.filter(job__in=jobs).values_list('uuid',flat=True))).count()"
   ]
  },
  {
   "cell_type": "code",
   "execution_count": null,
   "id": "1fe2a00f",
   "metadata": {},
   "outputs": [],
   "source": [
    "from helpers.signals import DisableSignals\n",
    "with DisableSignals():\n",
    "    Reporting.objects.filter(uuid__in=list(Reporting.objects.filter(job__in=jobs).values_list('uuid',flat=True)[:200])).delete()"
   ]
  },
  {
   "cell_type": "code",
   "execution_count": 7,
   "id": "2960ab37",
   "metadata": {},
   "outputs": [
    {
     "data": {
      "text/plain": [
       "200"
      ]
     },
     "execution_count": 7,
     "metadata": {},
     "output_type": "execute_result"
    }
   ],
   "source": [
    "reps.count()"
   ]
  },
  {
   "cell_type": "code",
   "execution_count": 5,
   "id": "e87dbcf6",
   "metadata": {
    "collapsed": true
   },
   "outputs": [
    {
     "data": {
      "application/vnd.jupyter.widget-view+json": {
       "model_id": "ebca8697c80b4c61a2efa9823e6315a0",
       "version_major": 2,
       "version_minor": 0
      },
      "text/plain": [
       "  0%|          | 0/200 [00:00<?, ?it/s]"
      ]
     },
     "metadata": {},
     "output_type": "display_data"
    },
    {
     "ename": "KeyboardInterrupt",
     "evalue": "",
     "output_type": "error",
     "traceback": [
      "\u001b[0;31m---------------------------------------------------------------------------\u001b[0m",
      "\u001b[0;31mKeyboardInterrupt\u001b[0m                         Traceback (most recent call last)",
      "\u001b[0;32m/tmp/ipykernel_1371/3434653658.py\u001b[0m in \u001b[0;36m<module>\u001b[0;34m\u001b[0m\n\u001b[1;32m      2\u001b[0m \u001b[0;32mfor\u001b[0m \u001b[0mi\u001b[0m \u001b[0;32min\u001b[0m \u001b[0mrange\u001b[0m\u001b[0;34m(\u001b[0m\u001b[0;36m11\u001b[0m\u001b[0;34m)\u001b[0m\u001b[0;34m:\u001b[0m\u001b[0;34m\u001b[0m\u001b[0;34m\u001b[0m\u001b[0m\n\u001b[1;32m      3\u001b[0m     \u001b[0;32mfor\u001b[0m \u001b[0ma\u001b[0m \u001b[0;32min\u001b[0m \u001b[0mtqdm\u001b[0m\u001b[0;34m(\u001b[0m\u001b[0mreps\u001b[0m\u001b[0;34m[\u001b[0m\u001b[0;34m:\u001b[0m\u001b[0;36m200\u001b[0m\u001b[0;34m]\u001b[0m\u001b[0;34m)\u001b[0m\u001b[0;34m:\u001b[0m\u001b[0;34m\u001b[0m\u001b[0;34m\u001b[0m\u001b[0m\n\u001b[0;32m----> 4\u001b[0;31m         \u001b[0ma\u001b[0m\u001b[0;34m.\u001b[0m\u001b[0mdelete\u001b[0m\u001b[0;34m(\u001b[0m\u001b[0;34m)\u001b[0m\u001b[0;34m\u001b[0m\u001b[0;34m\u001b[0m\u001b[0m\n\u001b[0m",
      "\u001b[0;32m~/.cache/pypoetry/virtualenvs/apps-ZFymp6kh-py3.7/lib/python3.7/site-packages/django/db/models/base.py\u001b[0m in \u001b[0;36mdelete\u001b[0;34m(self, using, keep_parents)\u001b[0m\n\u001b[1;32m    920\u001b[0m         \u001b[0mcollector\u001b[0m \u001b[0;34m=\u001b[0m \u001b[0mCollector\u001b[0m\u001b[0;34m(\u001b[0m\u001b[0musing\u001b[0m\u001b[0;34m=\u001b[0m\u001b[0musing\u001b[0m\u001b[0;34m)\u001b[0m\u001b[0;34m\u001b[0m\u001b[0;34m\u001b[0m\u001b[0m\n\u001b[1;32m    921\u001b[0m         \u001b[0mcollector\u001b[0m\u001b[0;34m.\u001b[0m\u001b[0mcollect\u001b[0m\u001b[0;34m(\u001b[0m\u001b[0;34m[\u001b[0m\u001b[0mself\u001b[0m\u001b[0;34m]\u001b[0m\u001b[0;34m,\u001b[0m \u001b[0mkeep_parents\u001b[0m\u001b[0;34m=\u001b[0m\u001b[0mkeep_parents\u001b[0m\u001b[0;34m)\u001b[0m\u001b[0;34m\u001b[0m\u001b[0;34m\u001b[0m\u001b[0m\n\u001b[0;32m--> 922\u001b[0;31m         \u001b[0;32mreturn\u001b[0m \u001b[0mcollector\u001b[0m\u001b[0;34m.\u001b[0m\u001b[0mdelete\u001b[0m\u001b[0;34m(\u001b[0m\u001b[0;34m)\u001b[0m\u001b[0;34m\u001b[0m\u001b[0;34m\u001b[0m\u001b[0m\n\u001b[0m\u001b[1;32m    923\u001b[0m \u001b[0;34m\u001b[0m\u001b[0m\n\u001b[1;32m    924\u001b[0m     \u001b[0mdelete\u001b[0m\u001b[0;34m.\u001b[0m\u001b[0malters_data\u001b[0m \u001b[0;34m=\u001b[0m \u001b[0;32mTrue\u001b[0m\u001b[0;34m\u001b[0m\u001b[0;34m\u001b[0m\u001b[0m\n",
      "\u001b[0;32m~/.cache/pypoetry/virtualenvs/apps-ZFymp6kh-py3.7/lib/python3.7/site-packages/django/db/models/deletion.py\u001b[0m in \u001b[0;36mdelete\u001b[0;34m(self)\u001b[0m\n\u001b[1;32m    316\u001b[0m                     \u001b[0;32mfor\u001b[0m \u001b[0mobj\u001b[0m \u001b[0;32min\u001b[0m \u001b[0minstances\u001b[0m\u001b[0;34m:\u001b[0m\u001b[0;34m\u001b[0m\u001b[0;34m\u001b[0m\u001b[0m\n\u001b[1;32m    317\u001b[0m                         signals.post_delete.send(\n\u001b[0;32m--> 318\u001b[0;31m                             \u001b[0msender\u001b[0m\u001b[0;34m=\u001b[0m\u001b[0mmodel\u001b[0m\u001b[0;34m,\u001b[0m \u001b[0minstance\u001b[0m\u001b[0;34m=\u001b[0m\u001b[0mobj\u001b[0m\u001b[0;34m,\u001b[0m \u001b[0musing\u001b[0m\u001b[0;34m=\u001b[0m\u001b[0mself\u001b[0m\u001b[0;34m.\u001b[0m\u001b[0musing\u001b[0m\u001b[0;34m\u001b[0m\u001b[0;34m\u001b[0m\u001b[0m\n\u001b[0m\u001b[1;32m    319\u001b[0m                         )\n\u001b[1;32m    320\u001b[0m \u001b[0;34m\u001b[0m\u001b[0m\n",
      "\u001b[0;32m~/.cache/pypoetry/virtualenvs/apps-ZFymp6kh-py3.7/lib/python3.7/site-packages/django/dispatch/dispatcher.py\u001b[0m in \u001b[0;36msend\u001b[0;34m(self, sender, **named)\u001b[0m\n\u001b[1;32m    173\u001b[0m         return [\n\u001b[1;32m    174\u001b[0m             \u001b[0;34m(\u001b[0m\u001b[0mreceiver\u001b[0m\u001b[0;34m,\u001b[0m \u001b[0mreceiver\u001b[0m\u001b[0;34m(\u001b[0m\u001b[0msignal\u001b[0m\u001b[0;34m=\u001b[0m\u001b[0mself\u001b[0m\u001b[0;34m,\u001b[0m \u001b[0msender\u001b[0m\u001b[0;34m=\u001b[0m\u001b[0msender\u001b[0m\u001b[0;34m,\u001b[0m \u001b[0;34m**\u001b[0m\u001b[0mnamed\u001b[0m\u001b[0;34m)\u001b[0m\u001b[0;34m)\u001b[0m\u001b[0;34m\u001b[0m\u001b[0;34m\u001b[0m\u001b[0m\n\u001b[0;32m--> 175\u001b[0;31m             \u001b[0;32mfor\u001b[0m \u001b[0mreceiver\u001b[0m \u001b[0;32min\u001b[0m \u001b[0mself\u001b[0m\u001b[0;34m.\u001b[0m\u001b[0m_live_receivers\u001b[0m\u001b[0;34m(\u001b[0m\u001b[0msender\u001b[0m\u001b[0;34m)\u001b[0m\u001b[0;34m\u001b[0m\u001b[0;34m\u001b[0m\u001b[0m\n\u001b[0m\u001b[1;32m    176\u001b[0m         ]\n\u001b[1;32m    177\u001b[0m \u001b[0;34m\u001b[0m\u001b[0m\n",
      "\u001b[0;32m~/.cache/pypoetry/virtualenvs/apps-ZFymp6kh-py3.7/lib/python3.7/site-packages/django/dispatch/dispatcher.py\u001b[0m in \u001b[0;36m<listcomp>\u001b[0;34m(.0)\u001b[0m\n\u001b[1;32m    173\u001b[0m         return [\n\u001b[1;32m    174\u001b[0m             \u001b[0;34m(\u001b[0m\u001b[0mreceiver\u001b[0m\u001b[0;34m,\u001b[0m \u001b[0mreceiver\u001b[0m\u001b[0;34m(\u001b[0m\u001b[0msignal\u001b[0m\u001b[0;34m=\u001b[0m\u001b[0mself\u001b[0m\u001b[0;34m,\u001b[0m \u001b[0msender\u001b[0m\u001b[0;34m=\u001b[0m\u001b[0msender\u001b[0m\u001b[0;34m,\u001b[0m \u001b[0;34m**\u001b[0m\u001b[0mnamed\u001b[0m\u001b[0;34m)\u001b[0m\u001b[0;34m)\u001b[0m\u001b[0;34m\u001b[0m\u001b[0;34m\u001b[0m\u001b[0m\n\u001b[0;32m--> 175\u001b[0;31m             \u001b[0;32mfor\u001b[0m \u001b[0mreceiver\u001b[0m \u001b[0;32min\u001b[0m \u001b[0mself\u001b[0m\u001b[0;34m.\u001b[0m\u001b[0m_live_receivers\u001b[0m\u001b[0;34m(\u001b[0m\u001b[0msender\u001b[0m\u001b[0;34m)\u001b[0m\u001b[0;34m\u001b[0m\u001b[0;34m\u001b[0m\u001b[0m\n\u001b[0m\u001b[1;32m    176\u001b[0m         ]\n\u001b[1;32m    177\u001b[0m \u001b[0;34m\u001b[0m\u001b[0m\n",
      "\u001b[0;32m~/.cache/pypoetry/virtualenvs/apps-ZFymp6kh-py3.7/lib/python3.7/site-packages/sentry_sdk/integrations/django/signals_handlers.py\u001b[0m in \u001b[0;36mwrapper\u001b[0;34m(*args, **kwargs)\u001b[0m\n\u001b[1;32m     63\u001b[0m                 ) as span:\n\u001b[1;32m     64\u001b[0m                     \u001b[0mspan\u001b[0m\u001b[0;34m.\u001b[0m\u001b[0mset_data\u001b[0m\u001b[0;34m(\u001b[0m\u001b[0;34m\"signal\"\u001b[0m\u001b[0;34m,\u001b[0m \u001b[0msignal_name\u001b[0m\u001b[0;34m)\u001b[0m\u001b[0;34m\u001b[0m\u001b[0;34m\u001b[0m\u001b[0m\n\u001b[0;32m---> 65\u001b[0;31m                     \u001b[0;32mreturn\u001b[0m \u001b[0mreceiver\u001b[0m\u001b[0;34m(\u001b[0m\u001b[0;34m*\u001b[0m\u001b[0margs\u001b[0m\u001b[0;34m,\u001b[0m \u001b[0;34m**\u001b[0m\u001b[0mkwargs\u001b[0m\u001b[0;34m)\u001b[0m\u001b[0;34m\u001b[0m\u001b[0;34m\u001b[0m\u001b[0m\n\u001b[0m\u001b[1;32m     66\u001b[0m \u001b[0;34m\u001b[0m\u001b[0m\n\u001b[1;32m     67\u001b[0m             \u001b[0;32mreturn\u001b[0m \u001b[0mwrapper\u001b[0m\u001b[0;34m\u001b[0m\u001b[0;34m\u001b[0m\u001b[0m\n",
      "\u001b[0;32m~/kartado-backend/apps/work_plans/signals.py\u001b[0m in \u001b[0;36mupdate_calculated_fields_after_reporting_deletion\u001b[0;34m(sender, instance, **kwargs)\u001b[0m\n\u001b[1;32m     94\u001b[0m     \"\"\"\n\u001b[1;32m     95\u001b[0m     \u001b[0;32mif\u001b[0m \u001b[0minstance\u001b[0m\u001b[0;34m.\u001b[0m\u001b[0mjob\u001b[0m\u001b[0;34m:\u001b[0m\u001b[0;34m\u001b[0m\u001b[0;34m\u001b[0m\u001b[0m\n\u001b[0;32m---> 96\u001b[0;31m         \u001b[0minstance\u001b[0m\u001b[0;34m.\u001b[0m\u001b[0mjob\u001b[0m\u001b[0;34m.\u001b[0m\u001b[0msave\u001b[0m\u001b[0;34m(\u001b[0m\u001b[0;34m)\u001b[0m\u001b[0;34m\u001b[0m\u001b[0;34m\u001b[0m\u001b[0m\n\u001b[0m",
      "\u001b[0;32m~/.cache/pypoetry/virtualenvs/apps-ZFymp6kh-py3.7/lib/python3.7/site-packages/django/db/models/base.py\u001b[0m in \u001b[0;36msave\u001b[0;34m(self, force_insert, force_update, using, update_fields)\u001b[0m\n\u001b[1;32m    742\u001b[0m \u001b[0;34m\u001b[0m\u001b[0m\n\u001b[1;32m    743\u001b[0m         self.save_base(using=using, force_insert=force_insert,\n\u001b[0;32m--> 744\u001b[0;31m                        force_update=force_update, update_fields=update_fields)\n\u001b[0m\u001b[1;32m    745\u001b[0m     \u001b[0msave\u001b[0m\u001b[0;34m.\u001b[0m\u001b[0malters_data\u001b[0m \u001b[0;34m=\u001b[0m \u001b[0;32mTrue\u001b[0m\u001b[0;34m\u001b[0m\u001b[0;34m\u001b[0m\u001b[0m\n\u001b[1;32m    746\u001b[0m \u001b[0;34m\u001b[0m\u001b[0m\n",
      "\u001b[0;32m~/.cache/pypoetry/virtualenvs/apps-ZFymp6kh-py3.7/lib/python3.7/site-packages/django/db/models/base.py\u001b[0m in \u001b[0;36msave_base\u001b[0;34m(self, raw, force_insert, force_update, using, update_fields)\u001b[0m\n\u001b[1;32m    767\u001b[0m             pre_save.send(\n\u001b[1;32m    768\u001b[0m                 \u001b[0msender\u001b[0m\u001b[0;34m=\u001b[0m\u001b[0morigin\u001b[0m\u001b[0;34m,\u001b[0m \u001b[0minstance\u001b[0m\u001b[0;34m=\u001b[0m\u001b[0mself\u001b[0m\u001b[0;34m,\u001b[0m \u001b[0mraw\u001b[0m\u001b[0;34m=\u001b[0m\u001b[0mraw\u001b[0m\u001b[0;34m,\u001b[0m \u001b[0musing\u001b[0m\u001b[0;34m=\u001b[0m\u001b[0musing\u001b[0m\u001b[0;34m,\u001b[0m\u001b[0;34m\u001b[0m\u001b[0;34m\u001b[0m\u001b[0m\n\u001b[0;32m--> 769\u001b[0;31m                 \u001b[0mupdate_fields\u001b[0m\u001b[0;34m=\u001b[0m\u001b[0mupdate_fields\u001b[0m\u001b[0;34m,\u001b[0m\u001b[0;34m\u001b[0m\u001b[0;34m\u001b[0m\u001b[0m\n\u001b[0m\u001b[1;32m    770\u001b[0m             )\n\u001b[1;32m    771\u001b[0m         \u001b[0;31m# A transaction isn't needed if one query is issued.\u001b[0m\u001b[0;34m\u001b[0m\u001b[0;34m\u001b[0m\u001b[0;34m\u001b[0m\u001b[0m\n",
      "\u001b[0;32m~/.cache/pypoetry/virtualenvs/apps-ZFymp6kh-py3.7/lib/python3.7/site-packages/django/dispatch/dispatcher.py\u001b[0m in \u001b[0;36msend\u001b[0;34m(self, sender, **named)\u001b[0m\n\u001b[1;32m    173\u001b[0m         return [\n\u001b[1;32m    174\u001b[0m             \u001b[0;34m(\u001b[0m\u001b[0mreceiver\u001b[0m\u001b[0;34m,\u001b[0m \u001b[0mreceiver\u001b[0m\u001b[0;34m(\u001b[0m\u001b[0msignal\u001b[0m\u001b[0;34m=\u001b[0m\u001b[0mself\u001b[0m\u001b[0;34m,\u001b[0m \u001b[0msender\u001b[0m\u001b[0;34m=\u001b[0m\u001b[0msender\u001b[0m\u001b[0;34m,\u001b[0m \u001b[0;34m**\u001b[0m\u001b[0mnamed\u001b[0m\u001b[0;34m)\u001b[0m\u001b[0;34m)\u001b[0m\u001b[0;34m\u001b[0m\u001b[0;34m\u001b[0m\u001b[0m\n\u001b[0;32m--> 175\u001b[0;31m             \u001b[0;32mfor\u001b[0m \u001b[0mreceiver\u001b[0m \u001b[0;32min\u001b[0m \u001b[0mself\u001b[0m\u001b[0;34m.\u001b[0m\u001b[0m_live_receivers\u001b[0m\u001b[0;34m(\u001b[0m\u001b[0msender\u001b[0m\u001b[0;34m)\u001b[0m\u001b[0;34m\u001b[0m\u001b[0;34m\u001b[0m\u001b[0m\n\u001b[0m\u001b[1;32m    176\u001b[0m         ]\n\u001b[1;32m    177\u001b[0m \u001b[0;34m\u001b[0m\u001b[0m\n",
      "\u001b[0;32m~/.cache/pypoetry/virtualenvs/apps-ZFymp6kh-py3.7/lib/python3.7/site-packages/django/dispatch/dispatcher.py\u001b[0m in \u001b[0;36m<listcomp>\u001b[0;34m(.0)\u001b[0m\n\u001b[1;32m    173\u001b[0m         return [\n\u001b[1;32m    174\u001b[0m             \u001b[0;34m(\u001b[0m\u001b[0mreceiver\u001b[0m\u001b[0;34m,\u001b[0m \u001b[0mreceiver\u001b[0m\u001b[0;34m(\u001b[0m\u001b[0msignal\u001b[0m\u001b[0;34m=\u001b[0m\u001b[0mself\u001b[0m\u001b[0;34m,\u001b[0m \u001b[0msender\u001b[0m\u001b[0;34m=\u001b[0m\u001b[0msender\u001b[0m\u001b[0;34m,\u001b[0m \u001b[0;34m**\u001b[0m\u001b[0mnamed\u001b[0m\u001b[0;34m)\u001b[0m\u001b[0;34m)\u001b[0m\u001b[0;34m\u001b[0m\u001b[0;34m\u001b[0m\u001b[0m\n\u001b[0;32m--> 175\u001b[0;31m             \u001b[0;32mfor\u001b[0m \u001b[0mreceiver\u001b[0m \u001b[0;32min\u001b[0m \u001b[0mself\u001b[0m\u001b[0;34m.\u001b[0m\u001b[0m_live_receivers\u001b[0m\u001b[0;34m(\u001b[0m\u001b[0msender\u001b[0m\u001b[0;34m)\u001b[0m\u001b[0;34m\u001b[0m\u001b[0;34m\u001b[0m\u001b[0m\n\u001b[0m\u001b[1;32m    176\u001b[0m         ]\n\u001b[1;32m    177\u001b[0m \u001b[0;34m\u001b[0m\u001b[0m\n",
      "\u001b[0;32m~/.cache/pypoetry/virtualenvs/apps-ZFymp6kh-py3.7/lib/python3.7/site-packages/sentry_sdk/integrations/django/signals_handlers.py\u001b[0m in \u001b[0;36mwrapper\u001b[0;34m(*args, **kwargs)\u001b[0m\n\u001b[1;32m     63\u001b[0m                 ) as span:\n\u001b[1;32m     64\u001b[0m                     \u001b[0mspan\u001b[0m\u001b[0;34m.\u001b[0m\u001b[0mset_data\u001b[0m\u001b[0;34m(\u001b[0m\u001b[0;34m\"signal\"\u001b[0m\u001b[0;34m,\u001b[0m \u001b[0msignal_name\u001b[0m\u001b[0;34m)\u001b[0m\u001b[0;34m\u001b[0m\u001b[0;34m\u001b[0m\u001b[0m\n\u001b[0;32m---> 65\u001b[0;31m                     \u001b[0;32mreturn\u001b[0m \u001b[0mreceiver\u001b[0m\u001b[0;34m(\u001b[0m\u001b[0;34m*\u001b[0m\u001b[0margs\u001b[0m\u001b[0;34m,\u001b[0m \u001b[0;34m**\u001b[0m\u001b[0mkwargs\u001b[0m\u001b[0;34m)\u001b[0m\u001b[0;34m\u001b[0m\u001b[0;34m\u001b[0m\u001b[0m\n\u001b[0m\u001b[1;32m     66\u001b[0m \u001b[0;34m\u001b[0m\u001b[0m\n\u001b[1;32m     67\u001b[0m             \u001b[0;32mreturn\u001b[0m \u001b[0mwrapper\u001b[0m\u001b[0;34m\u001b[0m\u001b[0;34m\u001b[0m\u001b[0m\n",
      "\u001b[0;32m~/kartado-backend/apps/work_plans/signals.py\u001b[0m in \u001b[0;36mupdate_calculated_fields\u001b[0;34m(sender, instance, **kwargs)\u001b[0m\n\u001b[1;32m     56\u001b[0m         \u001b[0;31m# Calculate the updated fields\u001b[0m\u001b[0;34m\u001b[0m\u001b[0;34m\u001b[0m\u001b[0;34m\u001b[0m\u001b[0m\n\u001b[1;32m     57\u001b[0m         progress, executed_reportings, reporting_count = calculate_fields(\n\u001b[0;32m---> 58\u001b[0;31m             \u001b[0mreportings\u001b[0m\u001b[0;34m,\u001b[0m \u001b[0mcompany\u001b[0m\u001b[0;34m\u001b[0m\u001b[0;34m\u001b[0m\u001b[0m\n\u001b[0m\u001b[1;32m     59\u001b[0m         )\n\u001b[1;32m     60\u001b[0m \u001b[0;34m\u001b[0m\u001b[0m\n",
      "\u001b[0;32m~/kartado-backend/helpers/apps/job.py\u001b[0m in \u001b[0;36mcalculate_fields\u001b[0;34m(reportings, company)\u001b[0m\n\u001b[1;32m    117\u001b[0m     \u001b[0;31m# Prepare the data\u001b[0m\u001b[0;34m\u001b[0m\u001b[0;34m\u001b[0m\u001b[0;34m\u001b[0m\u001b[0m\n\u001b[1;32m    118\u001b[0m     reporting_count, executed_reportings = total_and_executed_reporting(\n\u001b[0;32m--> 119\u001b[0;31m         \u001b[0mreportings\u001b[0m\u001b[0;34m,\u001b[0m \u001b[0mcompany\u001b[0m\u001b[0;34m\u001b[0m\u001b[0;34m\u001b[0m\u001b[0m\n\u001b[0m\u001b[1;32m    120\u001b[0m     )\n\u001b[1;32m    121\u001b[0m \u001b[0;34m\u001b[0m\u001b[0m\n",
      "\u001b[0;32m~/kartado-backend/helpers/apps/job.py\u001b[0m in \u001b[0;36mtotal_and_executed_reporting\u001b[0;34m(reportings, company)\u001b[0m\n\u001b[1;32m     92\u001b[0m     \u001b[0mtotal\u001b[0m \u001b[0;34m=\u001b[0m \u001b[0;36m0\u001b[0m\u001b[0;34m\u001b[0m\u001b[0;34m\u001b[0m\u001b[0m\n\u001b[1;32m     93\u001b[0m     \u001b[0mexecuted\u001b[0m \u001b[0;34m=\u001b[0m \u001b[0;36m0\u001b[0m\u001b[0;34m\u001b[0m\u001b[0;34m\u001b[0m\u001b[0m\n\u001b[0;32m---> 94\u001b[0;31m     \u001b[0;32mfor\u001b[0m \u001b[0mreporting\u001b[0m \u001b[0;32min\u001b[0m \u001b[0mreportings\u001b[0m\u001b[0;34m:\u001b[0m\u001b[0;34m\u001b[0m\u001b[0;34m\u001b[0m\u001b[0m\n\u001b[0m\u001b[1;32m     95\u001b[0m         \u001b[0mtotal\u001b[0m \u001b[0;34m+=\u001b[0m \u001b[0;36m1\u001b[0m\u001b[0;34m\u001b[0m\u001b[0;34m\u001b[0m\u001b[0m\n\u001b[1;32m     96\u001b[0m         \u001b[0;32mtry\u001b[0m\u001b[0;34m:\u001b[0m\u001b[0;34m\u001b[0m\u001b[0;34m\u001b[0m\u001b[0m\n",
      "\u001b[0;32m~/.cache/pypoetry/virtualenvs/apps-ZFymp6kh-py3.7/lib/python3.7/site-packages/django/db/models/query.py\u001b[0m in \u001b[0;36m__iter__\u001b[0;34m(self)\u001b[0m\n\u001b[1;32m    272\u001b[0m                \u001b[0;34m-\u001b[0m \u001b[0mResponsible\u001b[0m \u001b[0;32mfor\u001b[0m \u001b[0mturning\u001b[0m \u001b[0mthe\u001b[0m \u001b[0mrows\u001b[0m \u001b[0minto\u001b[0m \u001b[0mmodel\u001b[0m \u001b[0mobjects\u001b[0m\u001b[0;34m.\u001b[0m\u001b[0;34m\u001b[0m\u001b[0;34m\u001b[0m\u001b[0m\n\u001b[1;32m    273\u001b[0m         \"\"\"\n\u001b[0;32m--> 274\u001b[0;31m         \u001b[0mself\u001b[0m\u001b[0;34m.\u001b[0m\u001b[0m_fetch_all\u001b[0m\u001b[0;34m(\u001b[0m\u001b[0;34m)\u001b[0m\u001b[0;34m\u001b[0m\u001b[0;34m\u001b[0m\u001b[0m\n\u001b[0m\u001b[1;32m    275\u001b[0m         \u001b[0;32mreturn\u001b[0m \u001b[0miter\u001b[0m\u001b[0;34m(\u001b[0m\u001b[0mself\u001b[0m\u001b[0;34m.\u001b[0m\u001b[0m_result_cache\u001b[0m\u001b[0;34m)\u001b[0m\u001b[0;34m\u001b[0m\u001b[0;34m\u001b[0m\u001b[0m\n\u001b[1;32m    276\u001b[0m \u001b[0;34m\u001b[0m\u001b[0m\n",
      "\u001b[0;32m~/.cache/pypoetry/virtualenvs/apps-ZFymp6kh-py3.7/lib/python3.7/site-packages/django/db/models/query.py\u001b[0m in \u001b[0;36m_fetch_all\u001b[0;34m(self)\u001b[0m\n\u001b[1;32m   1240\u001b[0m     \u001b[0;32mdef\u001b[0m \u001b[0m_fetch_all\u001b[0m\u001b[0;34m(\u001b[0m\u001b[0mself\u001b[0m\u001b[0;34m)\u001b[0m\u001b[0;34m:\u001b[0m\u001b[0;34m\u001b[0m\u001b[0;34m\u001b[0m\u001b[0m\n\u001b[1;32m   1241\u001b[0m         \u001b[0;32mif\u001b[0m \u001b[0mself\u001b[0m\u001b[0;34m.\u001b[0m\u001b[0m_result_cache\u001b[0m \u001b[0;32mis\u001b[0m \u001b[0;32mNone\u001b[0m\u001b[0;34m:\u001b[0m\u001b[0;34m\u001b[0m\u001b[0;34m\u001b[0m\u001b[0m\n\u001b[0;32m-> 1242\u001b[0;31m             \u001b[0mself\u001b[0m\u001b[0;34m.\u001b[0m\u001b[0m_result_cache\u001b[0m \u001b[0;34m=\u001b[0m \u001b[0mlist\u001b[0m\u001b[0;34m(\u001b[0m\u001b[0mself\u001b[0m\u001b[0;34m.\u001b[0m\u001b[0m_iterable_class\u001b[0m\u001b[0;34m(\u001b[0m\u001b[0mself\u001b[0m\u001b[0;34m)\u001b[0m\u001b[0;34m)\u001b[0m\u001b[0;34m\u001b[0m\u001b[0;34m\u001b[0m\u001b[0m\n\u001b[0m\u001b[1;32m   1243\u001b[0m         \u001b[0;32mif\u001b[0m \u001b[0mself\u001b[0m\u001b[0;34m.\u001b[0m\u001b[0m_prefetch_related_lookups\u001b[0m \u001b[0;32mand\u001b[0m \u001b[0;32mnot\u001b[0m \u001b[0mself\u001b[0m\u001b[0;34m.\u001b[0m\u001b[0m_prefetch_done\u001b[0m\u001b[0;34m:\u001b[0m\u001b[0;34m\u001b[0m\u001b[0;34m\u001b[0m\u001b[0m\n\u001b[1;32m   1244\u001b[0m             \u001b[0mself\u001b[0m\u001b[0;34m.\u001b[0m\u001b[0m_prefetch_related_objects\u001b[0m\u001b[0;34m(\u001b[0m\u001b[0;34m)\u001b[0m\u001b[0;34m\u001b[0m\u001b[0;34m\u001b[0m\u001b[0m\n",
      "\u001b[0;32m~/.cache/pypoetry/virtualenvs/apps-ZFymp6kh-py3.7/lib/python3.7/site-packages/django/db/models/query.py\u001b[0m in \u001b[0;36m__iter__\u001b[0;34m(self)\u001b[0m\n\u001b[1;32m     71\u001b[0m         ]\n\u001b[1;32m     72\u001b[0m         \u001b[0;32mfor\u001b[0m \u001b[0mrow\u001b[0m \u001b[0;32min\u001b[0m \u001b[0mcompiler\u001b[0m\u001b[0;34m.\u001b[0m\u001b[0mresults_iter\u001b[0m\u001b[0;34m(\u001b[0m\u001b[0mresults\u001b[0m\u001b[0;34m)\u001b[0m\u001b[0;34m:\u001b[0m\u001b[0;34m\u001b[0m\u001b[0;34m\u001b[0m\u001b[0m\n\u001b[0;32m---> 73\u001b[0;31m             \u001b[0mobj\u001b[0m \u001b[0;34m=\u001b[0m \u001b[0mmodel_cls\u001b[0m\u001b[0;34m.\u001b[0m\u001b[0mfrom_db\u001b[0m\u001b[0;34m(\u001b[0m\u001b[0mdb\u001b[0m\u001b[0;34m,\u001b[0m \u001b[0minit_list\u001b[0m\u001b[0;34m,\u001b[0m \u001b[0mrow\u001b[0m\u001b[0;34m[\u001b[0m\u001b[0mmodel_fields_start\u001b[0m\u001b[0;34m:\u001b[0m\u001b[0mmodel_fields_end\u001b[0m\u001b[0;34m]\u001b[0m\u001b[0;34m)\u001b[0m\u001b[0;34m\u001b[0m\u001b[0;34m\u001b[0m\u001b[0m\n\u001b[0m\u001b[1;32m     74\u001b[0m             \u001b[0;32mfor\u001b[0m \u001b[0mrel_populator\u001b[0m \u001b[0;32min\u001b[0m \u001b[0mrelated_populators\u001b[0m\u001b[0;34m:\u001b[0m\u001b[0;34m\u001b[0m\u001b[0;34m\u001b[0m\u001b[0m\n\u001b[1;32m     75\u001b[0m                 \u001b[0mrel_populator\u001b[0m\u001b[0;34m.\u001b[0m\u001b[0mpopulate\u001b[0m\u001b[0;34m(\u001b[0m\u001b[0mrow\u001b[0m\u001b[0;34m,\u001b[0m \u001b[0mobj\u001b[0m\u001b[0;34m)\u001b[0m\u001b[0;34m\u001b[0m\u001b[0;34m\u001b[0m\u001b[0m\n",
      "\u001b[0;32m~/.cache/pypoetry/virtualenvs/apps-ZFymp6kh-py3.7/lib/python3.7/site-packages/django/db/models/base.py\u001b[0m in \u001b[0;36mfrom_db\u001b[0;34m(cls, db, field_names, values)\u001b[0m\n\u001b[1;32m    511\u001b[0m                 \u001b[0;32mfor\u001b[0m \u001b[0mf\u001b[0m \u001b[0;32min\u001b[0m \u001b[0mcls\u001b[0m\u001b[0;34m.\u001b[0m\u001b[0m_meta\u001b[0m\u001b[0;34m.\u001b[0m\u001b[0mconcrete_fields\u001b[0m\u001b[0;34m\u001b[0m\u001b[0;34m\u001b[0m\u001b[0m\n\u001b[1;32m    512\u001b[0m             ]\n\u001b[0;32m--> 513\u001b[0;31m         \u001b[0mnew\u001b[0m \u001b[0;34m=\u001b[0m \u001b[0mcls\u001b[0m\u001b[0;34m(\u001b[0m\u001b[0;34m*\u001b[0m\u001b[0mvalues\u001b[0m\u001b[0;34m)\u001b[0m\u001b[0;34m\u001b[0m\u001b[0;34m\u001b[0m\u001b[0m\n\u001b[0m\u001b[1;32m    514\u001b[0m         \u001b[0mnew\u001b[0m\u001b[0;34m.\u001b[0m\u001b[0m_state\u001b[0m\u001b[0;34m.\u001b[0m\u001b[0madding\u001b[0m \u001b[0;34m=\u001b[0m \u001b[0;32mFalse\u001b[0m\u001b[0;34m\u001b[0m\u001b[0;34m\u001b[0m\u001b[0m\n\u001b[1;32m    515\u001b[0m         \u001b[0mnew\u001b[0m\u001b[0;34m.\u001b[0m\u001b[0m_state\u001b[0m\u001b[0;34m.\u001b[0m\u001b[0mdb\u001b[0m \u001b[0;34m=\u001b[0m \u001b[0mdb\u001b[0m\u001b[0;34m\u001b[0m\u001b[0;34m\u001b[0m\u001b[0m\n",
      "\u001b[0;32m~/.cache/pypoetry/virtualenvs/apps-ZFymp6kh-py3.7/lib/python3.7/site-packages/django/db/models/base.py\u001b[0m in \u001b[0;36m__init__\u001b[0;34m(self, *args, **kwargs)\u001b[0m\n\u001b[1;32m    501\u001b[0m                 \u001b[0;32mraise\u001b[0m \u001b[0mTypeError\u001b[0m\u001b[0;34m(\u001b[0m\u001b[0;34m\"%s() got an unexpected keyword argument '%s'\"\u001b[0m \u001b[0;34m%\u001b[0m \u001b[0;34m(\u001b[0m\u001b[0mcls\u001b[0m\u001b[0;34m.\u001b[0m\u001b[0m__name__\u001b[0m\u001b[0;34m,\u001b[0m \u001b[0mkwarg\u001b[0m\u001b[0;34m)\u001b[0m\u001b[0;34m)\u001b[0m\u001b[0;34m\u001b[0m\u001b[0;34m\u001b[0m\u001b[0m\n\u001b[1;32m    502\u001b[0m         \u001b[0msuper\u001b[0m\u001b[0;34m(\u001b[0m\u001b[0;34m)\u001b[0m\u001b[0;34m.\u001b[0m\u001b[0m__init__\u001b[0m\u001b[0;34m(\u001b[0m\u001b[0;34m)\u001b[0m\u001b[0;34m\u001b[0m\u001b[0;34m\u001b[0m\u001b[0m\n\u001b[0;32m--> 503\u001b[0;31m         \u001b[0mpost_init\u001b[0m\u001b[0;34m.\u001b[0m\u001b[0msend\u001b[0m\u001b[0;34m(\u001b[0m\u001b[0msender\u001b[0m\u001b[0;34m=\u001b[0m\u001b[0mcls\u001b[0m\u001b[0;34m,\u001b[0m \u001b[0minstance\u001b[0m\u001b[0;34m=\u001b[0m\u001b[0mself\u001b[0m\u001b[0;34m)\u001b[0m\u001b[0;34m\u001b[0m\u001b[0;34m\u001b[0m\u001b[0m\n\u001b[0m\u001b[1;32m    504\u001b[0m \u001b[0;34m\u001b[0m\u001b[0m\n\u001b[1;32m    505\u001b[0m     \u001b[0;34m@\u001b[0m\u001b[0mclassmethod\u001b[0m\u001b[0;34m\u001b[0m\u001b[0;34m\u001b[0m\u001b[0m\n",
      "\u001b[0;32m~/.cache/pypoetry/virtualenvs/apps-ZFymp6kh-py3.7/lib/python3.7/site-packages/django/dispatch/dispatcher.py\u001b[0m in \u001b[0;36msend\u001b[0;34m(self, sender, **named)\u001b[0m\n\u001b[1;32m    173\u001b[0m         return [\n\u001b[1;32m    174\u001b[0m             \u001b[0;34m(\u001b[0m\u001b[0mreceiver\u001b[0m\u001b[0;34m,\u001b[0m \u001b[0mreceiver\u001b[0m\u001b[0;34m(\u001b[0m\u001b[0msignal\u001b[0m\u001b[0;34m=\u001b[0m\u001b[0mself\u001b[0m\u001b[0;34m,\u001b[0m \u001b[0msender\u001b[0m\u001b[0;34m=\u001b[0m\u001b[0msender\u001b[0m\u001b[0;34m,\u001b[0m \u001b[0;34m**\u001b[0m\u001b[0mnamed\u001b[0m\u001b[0;34m)\u001b[0m\u001b[0;34m)\u001b[0m\u001b[0;34m\u001b[0m\u001b[0;34m\u001b[0m\u001b[0m\n\u001b[0;32m--> 175\u001b[0;31m             \u001b[0;32mfor\u001b[0m \u001b[0mreceiver\u001b[0m \u001b[0;32min\u001b[0m \u001b[0mself\u001b[0m\u001b[0;34m.\u001b[0m\u001b[0m_live_receivers\u001b[0m\u001b[0;34m(\u001b[0m\u001b[0msender\u001b[0m\u001b[0;34m)\u001b[0m\u001b[0;34m\u001b[0m\u001b[0;34m\u001b[0m\u001b[0m\n\u001b[0m\u001b[1;32m    176\u001b[0m         ]\n\u001b[1;32m    177\u001b[0m \u001b[0;34m\u001b[0m\u001b[0m\n",
      "\u001b[0;32m~/.cache/pypoetry/virtualenvs/apps-ZFymp6kh-py3.7/lib/python3.7/site-packages/django/dispatch/dispatcher.py\u001b[0m in \u001b[0;36m<listcomp>\u001b[0;34m(.0)\u001b[0m\n\u001b[1;32m    173\u001b[0m         return [\n\u001b[1;32m    174\u001b[0m             \u001b[0;34m(\u001b[0m\u001b[0mreceiver\u001b[0m\u001b[0;34m,\u001b[0m \u001b[0mreceiver\u001b[0m\u001b[0;34m(\u001b[0m\u001b[0msignal\u001b[0m\u001b[0;34m=\u001b[0m\u001b[0mself\u001b[0m\u001b[0;34m,\u001b[0m \u001b[0msender\u001b[0m\u001b[0;34m=\u001b[0m\u001b[0msender\u001b[0m\u001b[0;34m,\u001b[0m \u001b[0;34m**\u001b[0m\u001b[0mnamed\u001b[0m\u001b[0;34m)\u001b[0m\u001b[0;34m)\u001b[0m\u001b[0;34m\u001b[0m\u001b[0;34m\u001b[0m\u001b[0m\n\u001b[0;32m--> 175\u001b[0;31m             \u001b[0;32mfor\u001b[0m \u001b[0mreceiver\u001b[0m \u001b[0;32min\u001b[0m \u001b[0mself\u001b[0m\u001b[0;34m.\u001b[0m\u001b[0m_live_receivers\u001b[0m\u001b[0;34m(\u001b[0m\u001b[0msender\u001b[0m\u001b[0;34m)\u001b[0m\u001b[0;34m\u001b[0m\u001b[0;34m\u001b[0m\u001b[0m\n\u001b[0m\u001b[1;32m    176\u001b[0m         ]\n\u001b[1;32m    177\u001b[0m \u001b[0;34m\u001b[0m\u001b[0m\n",
      "\u001b[0;32m~/.cache/pypoetry/virtualenvs/apps-ZFymp6kh-py3.7/lib/python3.7/site-packages/sentry_sdk/integrations/django/signals_handlers.py\u001b[0m in \u001b[0;36mwrapper\u001b[0;34m(*args, **kwargs)\u001b[0m\n\u001b[1;32m     63\u001b[0m                 ) as span:\n\u001b[1;32m     64\u001b[0m                     \u001b[0mspan\u001b[0m\u001b[0;34m.\u001b[0m\u001b[0mset_data\u001b[0m\u001b[0;34m(\u001b[0m\u001b[0;34m\"signal\"\u001b[0m\u001b[0;34m,\u001b[0m \u001b[0msignal_name\u001b[0m\u001b[0;34m)\u001b[0m\u001b[0;34m\u001b[0m\u001b[0;34m\u001b[0m\u001b[0m\n\u001b[0;32m---> 65\u001b[0;31m                     \u001b[0;32mreturn\u001b[0m \u001b[0mreceiver\u001b[0m\u001b[0;34m(\u001b[0m\u001b[0;34m*\u001b[0m\u001b[0margs\u001b[0m\u001b[0;34m,\u001b[0m \u001b[0;34m**\u001b[0m\u001b[0mkwargs\u001b[0m\u001b[0;34m)\u001b[0m\u001b[0;34m\u001b[0m\u001b[0;34m\u001b[0m\u001b[0m\n\u001b[0m\u001b[1;32m     66\u001b[0m \u001b[0;34m\u001b[0m\u001b[0m\n\u001b[1;32m     67\u001b[0m             \u001b[0;32mreturn\u001b[0m \u001b[0mwrapper\u001b[0m\u001b[0;34m\u001b[0m\u001b[0;34m\u001b[0m\u001b[0m\n",
      "\u001b[0;32m~/.cache/pypoetry/virtualenvs/apps-ZFymp6kh-py3.7/lib/python3.7/site-packages/fieldsignals/signals.py\u001b[0m in \u001b[0;36mpost_init_closure\u001b[0;34m(sender, instance, **kwargs)\u001b[0m\n\u001b[1;32m     77\u001b[0m         \u001b[0;31m### post_init : initialize the list of fields for each instance\u001b[0m\u001b[0;34m\u001b[0m\u001b[0;34m\u001b[0m\u001b[0;34m\u001b[0m\u001b[0m\n\u001b[1;32m     78\u001b[0m         \u001b[0;32mdef\u001b[0m \u001b[0mpost_init_closure\u001b[0m\u001b[0;34m(\u001b[0m\u001b[0msender\u001b[0m\u001b[0;34m,\u001b[0m \u001b[0minstance\u001b[0m\u001b[0;34m,\u001b[0m \u001b[0;34m**\u001b[0m\u001b[0mkwargs\u001b[0m\u001b[0;34m)\u001b[0m\u001b[0;34m:\u001b[0m\u001b[0;34m\u001b[0m\u001b[0;34m\u001b[0m\u001b[0m\n\u001b[0;32m---> 79\u001b[0;31m             \u001b[0mself\u001b[0m\u001b[0;34m.\u001b[0m\u001b[0mget_and_update_changed_fields\u001b[0m\u001b[0;34m(\u001b[0m\u001b[0mreceiver\u001b[0m\u001b[0;34m,\u001b[0m \u001b[0minstance\u001b[0m\u001b[0;34m,\u001b[0m \u001b[0mfields\u001b[0m\u001b[0;34m)\u001b[0m\u001b[0;34m\u001b[0m\u001b[0;34m\u001b[0m\u001b[0m\n\u001b[0m\u001b[1;32m     80\u001b[0m         \u001b[0m_signals\u001b[0m\u001b[0;34m.\u001b[0m\u001b[0mpost_init\u001b[0m\u001b[0;34m.\u001b[0m\u001b[0mconnect\u001b[0m\u001b[0;34m(\u001b[0m\u001b[0mpost_init_closure\u001b[0m\u001b[0;34m,\u001b[0m \u001b[0msender\u001b[0m\u001b[0;34m=\u001b[0m\u001b[0msender\u001b[0m\u001b[0;34m,\u001b[0m \u001b[0mweak\u001b[0m\u001b[0;34m=\u001b[0m\u001b[0;32mFalse\u001b[0m\u001b[0;34m,\u001b[0m \u001b[0mdispatch_uid\u001b[0m\u001b[0;34m=\u001b[0m\u001b[0;34m(\u001b[0m\u001b[0mself\u001b[0m\u001b[0;34m,\u001b[0m \u001b[0mreceiver\u001b[0m\u001b[0;34m)\u001b[0m\u001b[0;34m)\u001b[0m\u001b[0;34m\u001b[0m\u001b[0;34m\u001b[0m\u001b[0m\n\u001b[1;32m     81\u001b[0m         \u001b[0mself\u001b[0m\u001b[0;34m.\u001b[0m\u001b[0mconnect_source_signals\u001b[0m\u001b[0;34m(\u001b[0m\u001b[0msender\u001b[0m\u001b[0;34m)\u001b[0m\u001b[0;34m\u001b[0m\u001b[0;34m\u001b[0m\u001b[0m\n",
      "\u001b[0;32m~/.cache/pypoetry/virtualenvs/apps-ZFymp6kh-py3.7/lib/python3.7/site-packages/fieldsignals/signals.py\u001b[0m in \u001b[0;36mget_and_update_changed_fields\u001b[0;34m(self, receiver, instance, fields)\u001b[0m\n\u001b[1;32m    138\u001b[0m                 \u001b[0;32mcontinue\u001b[0m\u001b[0;34m\u001b[0m\u001b[0;34m\u001b[0m\u001b[0m\n\u001b[1;32m    139\u001b[0m             \u001b[0;31m# using value_from_object instead of getattr() means we don't traverse foreignkeys\u001b[0m\u001b[0;34m\u001b[0m\u001b[0;34m\u001b[0m\u001b[0;34m\u001b[0m\u001b[0m\n\u001b[0;32m--> 140\u001b[0;31m             \u001b[0mnew_value\u001b[0m \u001b[0;34m=\u001b[0m \u001b[0mfield\u001b[0m\u001b[0;34m.\u001b[0m\u001b[0mto_python\u001b[0m\u001b[0;34m(\u001b[0m\u001b[0mfield\u001b[0m\u001b[0;34m.\u001b[0m\u001b[0mvalue_from_object\u001b[0m\u001b[0;34m(\u001b[0m\u001b[0minstance\u001b[0m\u001b[0;34m)\u001b[0m\u001b[0;34m)\u001b[0m\u001b[0;34m\u001b[0m\u001b[0;34m\u001b[0m\u001b[0m\n\u001b[0m\u001b[1;32m    141\u001b[0m             \u001b[0mold_value\u001b[0m \u001b[0;34m=\u001b[0m \u001b[0moriginals\u001b[0m\u001b[0;34m.\u001b[0m\u001b[0mget\u001b[0m\u001b[0;34m(\u001b[0m\u001b[0mfield\u001b[0m\u001b[0;34m.\u001b[0m\u001b[0mname\u001b[0m\u001b[0;34m,\u001b[0m \u001b[0;32mNone\u001b[0m\u001b[0;34m)\u001b[0m\u001b[0;34m\u001b[0m\u001b[0;34m\u001b[0m\u001b[0m\n\u001b[1;32m    142\u001b[0m             \u001b[0;32mif\u001b[0m \u001b[0mold_value\u001b[0m \u001b[0;34m!=\u001b[0m \u001b[0mnew_value\u001b[0m\u001b[0;34m:\u001b[0m\u001b[0;34m\u001b[0m\u001b[0;34m\u001b[0m\u001b[0m\n",
      "\u001b[0;32m~/.cache/pypoetry/virtualenvs/apps-ZFymp6kh-py3.7/lib/python3.7/site-packages/django/db/models/fields/related.py\u001b[0m in \u001b[0;36mto_python\u001b[0;34m(self, value)\u001b[0m\n\u001b[1;32m    872\u001b[0m \u001b[0;34m\u001b[0m\u001b[0m\n\u001b[1;32m    873\u001b[0m     \u001b[0;32mdef\u001b[0m \u001b[0mto_python\u001b[0m\u001b[0;34m(\u001b[0m\u001b[0mself\u001b[0m\u001b[0;34m,\u001b[0m \u001b[0mvalue\u001b[0m\u001b[0;34m)\u001b[0m\u001b[0;34m:\u001b[0m\u001b[0;34m\u001b[0m\u001b[0;34m\u001b[0m\u001b[0m\n\u001b[0;32m--> 874\u001b[0;31m         \u001b[0;32mreturn\u001b[0m \u001b[0mself\u001b[0m\u001b[0;34m.\u001b[0m\u001b[0mtarget_field\u001b[0m\u001b[0;34m.\u001b[0m\u001b[0mto_python\u001b[0m\u001b[0;34m(\u001b[0m\u001b[0mvalue\u001b[0m\u001b[0;34m)\u001b[0m\u001b[0;34m\u001b[0m\u001b[0;34m\u001b[0m\u001b[0m\n\u001b[0m\u001b[1;32m    875\u001b[0m \u001b[0;34m\u001b[0m\u001b[0m\n\u001b[1;32m    876\u001b[0m     \u001b[0;34m@\u001b[0m\u001b[0mproperty\u001b[0m\u001b[0;34m\u001b[0m\u001b[0;34m\u001b[0m\u001b[0m\n",
      "\u001b[0;31mKeyboardInterrupt\u001b[0m: "
     ]
    }
   ],
   "source": [
    "from tqdm.notebook import tqdm\n",
    "for i in range(11):\n",
    "    for a in tqdm(reps[:200]):\n",
    "        a.delete()"
   ]
  },
  {
   "cell_type": "code",
   "execution_count": 4,
   "id": "6c289427",
   "metadata": {},
   "outputs": [
    {
     "data": {
      "text/plain": [
       "(20,\n",
       " {'work_plans.Job_watcher_firms': 4,\n",
       "  'work_plans.Job_watcher_users': 10,\n",
       "  'work_plans.Job_watcher_subcompanies': 4,\n",
       "  'work_plans.Job': 2})"
      ]
     },
     "execution_count": 4,
     "metadata": {},
     "output_type": "execute_result"
    }
   ],
   "source": [
    "jobs.delete()"
   ]
  },
  {
   "cell_type": "code",
   "execution_count": 38,
   "id": "0076a68c",
   "metadata": {},
   "outputs": [
    {
     "ename": "OperationalError",
     "evalue": "SSL connection has been closed unexpectedly\n",
     "output_type": "error",
     "traceback": [
      "\u001b[0;31m---------------------------------------------------------------------------\u001b[0m",
      "\u001b[0;31mOperationalError\u001b[0m                          Traceback (most recent call last)",
      "\u001b[0;32m~/.cache/pypoetry/virtualenvs/apps-ZFymp6kh-py3.7/lib/python3.7/site-packages/django/db/backends/utils.py\u001b[0m in \u001b[0;36m_execute\u001b[0;34m(self, sql, params, *ignored_wrapper_args)\u001b[0m\n\u001b[1;32m     83\u001b[0m             \u001b[0;32melse\u001b[0m\u001b[0;34m:\u001b[0m\u001b[0;34m\u001b[0m\u001b[0;34m\u001b[0m\u001b[0m\n\u001b[0;32m---> 84\u001b[0;31m                 \u001b[0;32mreturn\u001b[0m \u001b[0mself\u001b[0m\u001b[0;34m.\u001b[0m\u001b[0mcursor\u001b[0m\u001b[0;34m.\u001b[0m\u001b[0mexecute\u001b[0m\u001b[0;34m(\u001b[0m\u001b[0msql\u001b[0m\u001b[0;34m,\u001b[0m \u001b[0mparams\u001b[0m\u001b[0;34m)\u001b[0m\u001b[0;34m\u001b[0m\u001b[0;34m\u001b[0m\u001b[0m\n\u001b[0m\u001b[1;32m     85\u001b[0m \u001b[0;34m\u001b[0m\u001b[0m\n",
      "\u001b[0;31mOperationalError\u001b[0m: SSL connection has been closed unexpectedly\n",
      "\nThe above exception was the direct cause of the following exception:\n",
      "\u001b[0;31mOperationalError\u001b[0m                          Traceback (most recent call last)",
      "\u001b[0;32m/tmp/ipykernel_86691/1385103567.py\u001b[0m in \u001b[0;36m<module>\u001b[0;34m\u001b[0m\n\u001b[0;32m----> 1\u001b[0;31m \u001b[0mcompany\u001b[0m \u001b[0;34m=\u001b[0m \u001b[0mCompany\u001b[0m\u001b[0;34m.\u001b[0m\u001b[0mobjects\u001b[0m\u001b[0;34m.\u001b[0m\u001b[0mget\u001b[0m\u001b[0;34m(\u001b[0m\u001b[0mname\u001b[0m\u001b[0;34m=\u001b[0m\u001b[0;34m'CCR - Rio Sp'\u001b[0m\u001b[0;34m)\u001b[0m\u001b[0;34m\u001b[0m\u001b[0;34m\u001b[0m\u001b[0m\n\u001b[0m\u001b[1;32m      2\u001b[0m \u001b[0moccurrence_type_elemento\u001b[0m \u001b[0;34m=\u001b[0m \u001b[0mOccurrenceType\u001b[0m\u001b[0;34m.\u001b[0m\u001b[0mobjects\u001b[0m\u001b[0;34m.\u001b[0m\u001b[0mget\u001b[0m\u001b[0;34m(\u001b[0m\u001b[0mname\u001b[0m\u001b[0;34m=\u001b[0m\u001b[0;34m'Drenagem Profunda Elemento'\u001b[0m\u001b[0;34m,\u001b[0m\u001b[0mcompany\u001b[0m\u001b[0;34m=\u001b[0m\u001b[0mcompany\u001b[0m\u001b[0;34m)\u001b[0m\u001b[0;34m\u001b[0m\u001b[0;34m\u001b[0m\u001b[0m\n",
      "\u001b[0;32m~/.cache/pypoetry/virtualenvs/apps-ZFymp6kh-py3.7/lib/python3.7/site-packages/django/db/models/manager.py\u001b[0m in \u001b[0;36mmanager_method\u001b[0;34m(self, *args, **kwargs)\u001b[0m\n\u001b[1;32m     80\u001b[0m         \u001b[0;32mdef\u001b[0m \u001b[0mcreate_method\u001b[0m\u001b[0;34m(\u001b[0m\u001b[0mname\u001b[0m\u001b[0;34m,\u001b[0m \u001b[0mmethod\u001b[0m\u001b[0;34m)\u001b[0m\u001b[0;34m:\u001b[0m\u001b[0;34m\u001b[0m\u001b[0;34m\u001b[0m\u001b[0m\n\u001b[1;32m     81\u001b[0m             \u001b[0;32mdef\u001b[0m \u001b[0mmanager_method\u001b[0m\u001b[0;34m(\u001b[0m\u001b[0mself\u001b[0m\u001b[0;34m,\u001b[0m \u001b[0;34m*\u001b[0m\u001b[0margs\u001b[0m\u001b[0;34m,\u001b[0m \u001b[0;34m**\u001b[0m\u001b[0mkwargs\u001b[0m\u001b[0;34m)\u001b[0m\u001b[0;34m:\u001b[0m\u001b[0;34m\u001b[0m\u001b[0;34m\u001b[0m\u001b[0m\n\u001b[0;32m---> 82\u001b[0;31m                 \u001b[0;32mreturn\u001b[0m \u001b[0mgetattr\u001b[0m\u001b[0;34m(\u001b[0m\u001b[0mself\u001b[0m\u001b[0;34m.\u001b[0m\u001b[0mget_queryset\u001b[0m\u001b[0;34m(\u001b[0m\u001b[0;34m)\u001b[0m\u001b[0;34m,\u001b[0m \u001b[0mname\u001b[0m\u001b[0;34m)\u001b[0m\u001b[0;34m(\u001b[0m\u001b[0;34m*\u001b[0m\u001b[0margs\u001b[0m\u001b[0;34m,\u001b[0m \u001b[0;34m**\u001b[0m\u001b[0mkwargs\u001b[0m\u001b[0;34m)\u001b[0m\u001b[0;34m\u001b[0m\u001b[0;34m\u001b[0m\u001b[0m\n\u001b[0m\u001b[1;32m     83\u001b[0m             \u001b[0mmanager_method\u001b[0m\u001b[0;34m.\u001b[0m\u001b[0m__name__\u001b[0m \u001b[0;34m=\u001b[0m \u001b[0mmethod\u001b[0m\u001b[0;34m.\u001b[0m\u001b[0m__name__\u001b[0m\u001b[0;34m\u001b[0m\u001b[0;34m\u001b[0m\u001b[0m\n\u001b[1;32m     84\u001b[0m             \u001b[0mmanager_method\u001b[0m\u001b[0;34m.\u001b[0m\u001b[0m__doc__\u001b[0m \u001b[0;34m=\u001b[0m \u001b[0mmethod\u001b[0m\u001b[0;34m.\u001b[0m\u001b[0m__doc__\u001b[0m\u001b[0;34m\u001b[0m\u001b[0;34m\u001b[0m\u001b[0m\n",
      "\u001b[0;32m~/.cache/pypoetry/virtualenvs/apps-ZFymp6kh-py3.7/lib/python3.7/site-packages/django/db/models/query.py\u001b[0m in \u001b[0;36mget\u001b[0;34m(self, *args, **kwargs)\u001b[0m\n\u001b[1;32m    400\u001b[0m         \u001b[0;32mif\u001b[0m \u001b[0mself\u001b[0m\u001b[0;34m.\u001b[0m\u001b[0mquery\u001b[0m\u001b[0;34m.\u001b[0m\u001b[0mcan_filter\u001b[0m\u001b[0;34m(\u001b[0m\u001b[0;34m)\u001b[0m \u001b[0;32mand\u001b[0m \u001b[0;32mnot\u001b[0m \u001b[0mself\u001b[0m\u001b[0;34m.\u001b[0m\u001b[0mquery\u001b[0m\u001b[0;34m.\u001b[0m\u001b[0mdistinct_fields\u001b[0m\u001b[0;34m:\u001b[0m\u001b[0;34m\u001b[0m\u001b[0;34m\u001b[0m\u001b[0m\n\u001b[1;32m    401\u001b[0m             \u001b[0mclone\u001b[0m \u001b[0;34m=\u001b[0m \u001b[0mclone\u001b[0m\u001b[0;34m.\u001b[0m\u001b[0morder_by\u001b[0m\u001b[0;34m(\u001b[0m\u001b[0;34m)\u001b[0m\u001b[0;34m\u001b[0m\u001b[0;34m\u001b[0m\u001b[0m\n\u001b[0;32m--> 402\u001b[0;31m         \u001b[0mnum\u001b[0m \u001b[0;34m=\u001b[0m \u001b[0mlen\u001b[0m\u001b[0;34m(\u001b[0m\u001b[0mclone\u001b[0m\u001b[0;34m)\u001b[0m\u001b[0;34m\u001b[0m\u001b[0;34m\u001b[0m\u001b[0m\n\u001b[0m\u001b[1;32m    403\u001b[0m         \u001b[0;32mif\u001b[0m \u001b[0mnum\u001b[0m \u001b[0;34m==\u001b[0m \u001b[0;36m1\u001b[0m\u001b[0;34m:\u001b[0m\u001b[0;34m\u001b[0m\u001b[0;34m\u001b[0m\u001b[0m\n\u001b[1;32m    404\u001b[0m             \u001b[0;32mreturn\u001b[0m \u001b[0mclone\u001b[0m\u001b[0;34m.\u001b[0m\u001b[0m_result_cache\u001b[0m\u001b[0;34m[\u001b[0m\u001b[0;36m0\u001b[0m\u001b[0;34m]\u001b[0m\u001b[0;34m\u001b[0m\u001b[0;34m\u001b[0m\u001b[0m\n",
      "\u001b[0;32m~/.cache/pypoetry/virtualenvs/apps-ZFymp6kh-py3.7/lib/python3.7/site-packages/django/db/models/query.py\u001b[0m in \u001b[0;36m__len__\u001b[0;34m(self)\u001b[0m\n\u001b[1;32m    254\u001b[0m \u001b[0;34m\u001b[0m\u001b[0m\n\u001b[1;32m    255\u001b[0m     \u001b[0;32mdef\u001b[0m \u001b[0m__len__\u001b[0m\u001b[0;34m(\u001b[0m\u001b[0mself\u001b[0m\u001b[0;34m)\u001b[0m\u001b[0;34m:\u001b[0m\u001b[0;34m\u001b[0m\u001b[0;34m\u001b[0m\u001b[0m\n\u001b[0;32m--> 256\u001b[0;31m         \u001b[0mself\u001b[0m\u001b[0;34m.\u001b[0m\u001b[0m_fetch_all\u001b[0m\u001b[0;34m(\u001b[0m\u001b[0;34m)\u001b[0m\u001b[0;34m\u001b[0m\u001b[0;34m\u001b[0m\u001b[0m\n\u001b[0m\u001b[1;32m    257\u001b[0m         \u001b[0;32mreturn\u001b[0m \u001b[0mlen\u001b[0m\u001b[0;34m(\u001b[0m\u001b[0mself\u001b[0m\u001b[0;34m.\u001b[0m\u001b[0m_result_cache\u001b[0m\u001b[0;34m)\u001b[0m\u001b[0;34m\u001b[0m\u001b[0;34m\u001b[0m\u001b[0m\n\u001b[1;32m    258\u001b[0m \u001b[0;34m\u001b[0m\u001b[0m\n",
      "\u001b[0;32m~/.cache/pypoetry/virtualenvs/apps-ZFymp6kh-py3.7/lib/python3.7/site-packages/django/db/models/query.py\u001b[0m in \u001b[0;36m_fetch_all\u001b[0;34m(self)\u001b[0m\n\u001b[1;32m   1240\u001b[0m     \u001b[0;32mdef\u001b[0m \u001b[0m_fetch_all\u001b[0m\u001b[0;34m(\u001b[0m\u001b[0mself\u001b[0m\u001b[0;34m)\u001b[0m\u001b[0;34m:\u001b[0m\u001b[0;34m\u001b[0m\u001b[0;34m\u001b[0m\u001b[0m\n\u001b[1;32m   1241\u001b[0m         \u001b[0;32mif\u001b[0m \u001b[0mself\u001b[0m\u001b[0;34m.\u001b[0m\u001b[0m_result_cache\u001b[0m \u001b[0;32mis\u001b[0m \u001b[0;32mNone\u001b[0m\u001b[0;34m:\u001b[0m\u001b[0;34m\u001b[0m\u001b[0;34m\u001b[0m\u001b[0m\n\u001b[0;32m-> 1242\u001b[0;31m             \u001b[0mself\u001b[0m\u001b[0;34m.\u001b[0m\u001b[0m_result_cache\u001b[0m \u001b[0;34m=\u001b[0m \u001b[0mlist\u001b[0m\u001b[0;34m(\u001b[0m\u001b[0mself\u001b[0m\u001b[0;34m.\u001b[0m\u001b[0m_iterable_class\u001b[0m\u001b[0;34m(\u001b[0m\u001b[0mself\u001b[0m\u001b[0;34m)\u001b[0m\u001b[0;34m)\u001b[0m\u001b[0;34m\u001b[0m\u001b[0;34m\u001b[0m\u001b[0m\n\u001b[0m\u001b[1;32m   1243\u001b[0m         \u001b[0;32mif\u001b[0m \u001b[0mself\u001b[0m\u001b[0;34m.\u001b[0m\u001b[0m_prefetch_related_lookups\u001b[0m \u001b[0;32mand\u001b[0m \u001b[0;32mnot\u001b[0m \u001b[0mself\u001b[0m\u001b[0;34m.\u001b[0m\u001b[0m_prefetch_done\u001b[0m\u001b[0;34m:\u001b[0m\u001b[0;34m\u001b[0m\u001b[0;34m\u001b[0m\u001b[0m\n\u001b[1;32m   1244\u001b[0m             \u001b[0mself\u001b[0m\u001b[0;34m.\u001b[0m\u001b[0m_prefetch_related_objects\u001b[0m\u001b[0;34m(\u001b[0m\u001b[0;34m)\u001b[0m\u001b[0;34m\u001b[0m\u001b[0;34m\u001b[0m\u001b[0m\n",
      "\u001b[0;32m~/.cache/pypoetry/virtualenvs/apps-ZFymp6kh-py3.7/lib/python3.7/site-packages/django/db/models/query.py\u001b[0m in \u001b[0;36m__iter__\u001b[0;34m(self)\u001b[0m\n\u001b[1;32m     53\u001b[0m         \u001b[0;31m# Execute the query. This will also fill compiler.select, klass_info,\u001b[0m\u001b[0;34m\u001b[0m\u001b[0;34m\u001b[0m\u001b[0;34m\u001b[0m\u001b[0m\n\u001b[1;32m     54\u001b[0m         \u001b[0;31m# and annotations.\u001b[0m\u001b[0;34m\u001b[0m\u001b[0;34m\u001b[0m\u001b[0;34m\u001b[0m\u001b[0m\n\u001b[0;32m---> 55\u001b[0;31m         \u001b[0mresults\u001b[0m \u001b[0;34m=\u001b[0m \u001b[0mcompiler\u001b[0m\u001b[0;34m.\u001b[0m\u001b[0mexecute_sql\u001b[0m\u001b[0;34m(\u001b[0m\u001b[0mchunked_fetch\u001b[0m\u001b[0;34m=\u001b[0m\u001b[0mself\u001b[0m\u001b[0;34m.\u001b[0m\u001b[0mchunked_fetch\u001b[0m\u001b[0;34m,\u001b[0m \u001b[0mchunk_size\u001b[0m\u001b[0;34m=\u001b[0m\u001b[0mself\u001b[0m\u001b[0;34m.\u001b[0m\u001b[0mchunk_size\u001b[0m\u001b[0;34m)\u001b[0m\u001b[0;34m\u001b[0m\u001b[0;34m\u001b[0m\u001b[0m\n\u001b[0m\u001b[1;32m     56\u001b[0m         select, klass_info, annotation_col_map = (compiler.select, compiler.klass_info,\n\u001b[1;32m     57\u001b[0m                                                   compiler.annotation_col_map)\n",
      "\u001b[0;32m~/.cache/pypoetry/virtualenvs/apps-ZFymp6kh-py3.7/lib/python3.7/site-packages/django/db/models/sql/compiler.py\u001b[0m in \u001b[0;36mexecute_sql\u001b[0;34m(self, result_type, chunked_fetch, chunk_size)\u001b[0m\n\u001b[1;32m   1140\u001b[0m             \u001b[0mcursor\u001b[0m \u001b[0;34m=\u001b[0m \u001b[0mself\u001b[0m\u001b[0;34m.\u001b[0m\u001b[0mconnection\u001b[0m\u001b[0;34m.\u001b[0m\u001b[0mcursor\u001b[0m\u001b[0;34m(\u001b[0m\u001b[0;34m)\u001b[0m\u001b[0;34m\u001b[0m\u001b[0;34m\u001b[0m\u001b[0m\n\u001b[1;32m   1141\u001b[0m         \u001b[0;32mtry\u001b[0m\u001b[0;34m:\u001b[0m\u001b[0;34m\u001b[0m\u001b[0;34m\u001b[0m\u001b[0m\n\u001b[0;32m-> 1142\u001b[0;31m             \u001b[0mcursor\u001b[0m\u001b[0;34m.\u001b[0m\u001b[0mexecute\u001b[0m\u001b[0;34m(\u001b[0m\u001b[0msql\u001b[0m\u001b[0;34m,\u001b[0m \u001b[0mparams\u001b[0m\u001b[0;34m)\u001b[0m\u001b[0;34m\u001b[0m\u001b[0;34m\u001b[0m\u001b[0m\n\u001b[0m\u001b[1;32m   1143\u001b[0m         \u001b[0;32mexcept\u001b[0m \u001b[0mException\u001b[0m\u001b[0;34m:\u001b[0m\u001b[0;34m\u001b[0m\u001b[0;34m\u001b[0m\u001b[0m\n\u001b[1;32m   1144\u001b[0m             \u001b[0;31m# Might fail for server-side cursors (e.g. connection closed)\u001b[0m\u001b[0;34m\u001b[0m\u001b[0;34m\u001b[0m\u001b[0;34m\u001b[0m\u001b[0m\n",
      "\u001b[0;32m~/.cache/pypoetry/virtualenvs/apps-ZFymp6kh-py3.7/lib/python3.7/site-packages/sentry_sdk/integrations/django/__init__.py\u001b[0m in \u001b[0;36mexecute\u001b[0;34m(self, sql, params)\u001b[0m\n\u001b[1;32m    575\u001b[0m             \u001b[0mhub\u001b[0m\u001b[0;34m,\u001b[0m \u001b[0mself\u001b[0m\u001b[0;34m.\u001b[0m\u001b[0mcursor\u001b[0m\u001b[0;34m,\u001b[0m \u001b[0msql\u001b[0m\u001b[0;34m,\u001b[0m \u001b[0mparams\u001b[0m\u001b[0;34m,\u001b[0m \u001b[0mparamstyle\u001b[0m\u001b[0;34m=\u001b[0m\u001b[0;34m\"format\"\u001b[0m\u001b[0;34m,\u001b[0m \u001b[0mexecutemany\u001b[0m\u001b[0;34m=\u001b[0m\u001b[0;32mFalse\u001b[0m\u001b[0;34m\u001b[0m\u001b[0;34m\u001b[0m\u001b[0m\n\u001b[1;32m    576\u001b[0m         ):\n\u001b[0;32m--> 577\u001b[0;31m             \u001b[0;32mreturn\u001b[0m \u001b[0mreal_execute\u001b[0m\u001b[0;34m(\u001b[0m\u001b[0mself\u001b[0m\u001b[0;34m,\u001b[0m \u001b[0msql\u001b[0m\u001b[0;34m,\u001b[0m \u001b[0mparams\u001b[0m\u001b[0;34m)\u001b[0m\u001b[0;34m\u001b[0m\u001b[0;34m\u001b[0m\u001b[0m\n\u001b[0m\u001b[1;32m    578\u001b[0m \u001b[0;34m\u001b[0m\u001b[0m\n\u001b[1;32m    579\u001b[0m     \u001b[0;32mdef\u001b[0m \u001b[0mexecutemany\u001b[0m\u001b[0;34m(\u001b[0m\u001b[0mself\u001b[0m\u001b[0;34m,\u001b[0m \u001b[0msql\u001b[0m\u001b[0;34m,\u001b[0m \u001b[0mparam_list\u001b[0m\u001b[0;34m)\u001b[0m\u001b[0;34m:\u001b[0m\u001b[0;34m\u001b[0m\u001b[0;34m\u001b[0m\u001b[0m\n",
      "\u001b[0;32m~/.cache/pypoetry/virtualenvs/apps-ZFymp6kh-py3.7/lib/python3.7/site-packages/django/db/backends/utils.py\u001b[0m in \u001b[0;36mexecute\u001b[0;34m(self, sql, params)\u001b[0m\n\u001b[1;32m     65\u001b[0m \u001b[0;34m\u001b[0m\u001b[0m\n\u001b[1;32m     66\u001b[0m     \u001b[0;32mdef\u001b[0m \u001b[0mexecute\u001b[0m\u001b[0;34m(\u001b[0m\u001b[0mself\u001b[0m\u001b[0;34m,\u001b[0m \u001b[0msql\u001b[0m\u001b[0;34m,\u001b[0m \u001b[0mparams\u001b[0m\u001b[0;34m=\u001b[0m\u001b[0;32mNone\u001b[0m\u001b[0;34m)\u001b[0m\u001b[0;34m:\u001b[0m\u001b[0;34m\u001b[0m\u001b[0;34m\u001b[0m\u001b[0m\n\u001b[0;32m---> 67\u001b[0;31m         \u001b[0;32mreturn\u001b[0m \u001b[0mself\u001b[0m\u001b[0;34m.\u001b[0m\u001b[0m_execute_with_wrappers\u001b[0m\u001b[0;34m(\u001b[0m\u001b[0msql\u001b[0m\u001b[0;34m,\u001b[0m \u001b[0mparams\u001b[0m\u001b[0;34m,\u001b[0m \u001b[0mmany\u001b[0m\u001b[0;34m=\u001b[0m\u001b[0;32mFalse\u001b[0m\u001b[0;34m,\u001b[0m \u001b[0mexecutor\u001b[0m\u001b[0;34m=\u001b[0m\u001b[0mself\u001b[0m\u001b[0;34m.\u001b[0m\u001b[0m_execute\u001b[0m\u001b[0;34m)\u001b[0m\u001b[0;34m\u001b[0m\u001b[0;34m\u001b[0m\u001b[0m\n\u001b[0m\u001b[1;32m     68\u001b[0m \u001b[0;34m\u001b[0m\u001b[0m\n\u001b[1;32m     69\u001b[0m     \u001b[0;32mdef\u001b[0m \u001b[0mexecutemany\u001b[0m\u001b[0;34m(\u001b[0m\u001b[0mself\u001b[0m\u001b[0;34m,\u001b[0m \u001b[0msql\u001b[0m\u001b[0;34m,\u001b[0m \u001b[0mparam_list\u001b[0m\u001b[0;34m)\u001b[0m\u001b[0;34m:\u001b[0m\u001b[0;34m\u001b[0m\u001b[0;34m\u001b[0m\u001b[0m\n",
      "\u001b[0;32m~/.cache/pypoetry/virtualenvs/apps-ZFymp6kh-py3.7/lib/python3.7/site-packages/django/db/backends/utils.py\u001b[0m in \u001b[0;36m_execute_with_wrappers\u001b[0;34m(self, sql, params, many, executor)\u001b[0m\n\u001b[1;32m     74\u001b[0m         \u001b[0;32mfor\u001b[0m \u001b[0mwrapper\u001b[0m \u001b[0;32min\u001b[0m \u001b[0mreversed\u001b[0m\u001b[0;34m(\u001b[0m\u001b[0mself\u001b[0m\u001b[0;34m.\u001b[0m\u001b[0mdb\u001b[0m\u001b[0;34m.\u001b[0m\u001b[0mexecute_wrappers\u001b[0m\u001b[0;34m)\u001b[0m\u001b[0;34m:\u001b[0m\u001b[0;34m\u001b[0m\u001b[0;34m\u001b[0m\u001b[0m\n\u001b[1;32m     75\u001b[0m             \u001b[0mexecutor\u001b[0m \u001b[0;34m=\u001b[0m \u001b[0mfunctools\u001b[0m\u001b[0;34m.\u001b[0m\u001b[0mpartial\u001b[0m\u001b[0;34m(\u001b[0m\u001b[0mwrapper\u001b[0m\u001b[0;34m,\u001b[0m \u001b[0mexecutor\u001b[0m\u001b[0;34m)\u001b[0m\u001b[0;34m\u001b[0m\u001b[0;34m\u001b[0m\u001b[0m\n\u001b[0;32m---> 76\u001b[0;31m         \u001b[0;32mreturn\u001b[0m \u001b[0mexecutor\u001b[0m\u001b[0;34m(\u001b[0m\u001b[0msql\u001b[0m\u001b[0;34m,\u001b[0m \u001b[0mparams\u001b[0m\u001b[0;34m,\u001b[0m \u001b[0mmany\u001b[0m\u001b[0;34m,\u001b[0m \u001b[0mcontext\u001b[0m\u001b[0;34m)\u001b[0m\u001b[0;34m\u001b[0m\u001b[0;34m\u001b[0m\u001b[0m\n\u001b[0m\u001b[1;32m     77\u001b[0m \u001b[0;34m\u001b[0m\u001b[0m\n\u001b[1;32m     78\u001b[0m     \u001b[0;32mdef\u001b[0m \u001b[0m_execute\u001b[0m\u001b[0;34m(\u001b[0m\u001b[0mself\u001b[0m\u001b[0;34m,\u001b[0m \u001b[0msql\u001b[0m\u001b[0;34m,\u001b[0m \u001b[0mparams\u001b[0m\u001b[0;34m,\u001b[0m \u001b[0;34m*\u001b[0m\u001b[0mignored_wrapper_args\u001b[0m\u001b[0;34m)\u001b[0m\u001b[0;34m:\u001b[0m\u001b[0;34m\u001b[0m\u001b[0;34m\u001b[0m\u001b[0m\n",
      "\u001b[0;32m~/.cache/pypoetry/virtualenvs/apps-ZFymp6kh-py3.7/lib/python3.7/site-packages/django/db/backends/utils.py\u001b[0m in \u001b[0;36m_execute\u001b[0;34m(self, sql, params, *ignored_wrapper_args)\u001b[0m\n\u001b[1;32m     82\u001b[0m                 \u001b[0;32mreturn\u001b[0m \u001b[0mself\u001b[0m\u001b[0;34m.\u001b[0m\u001b[0mcursor\u001b[0m\u001b[0;34m.\u001b[0m\u001b[0mexecute\u001b[0m\u001b[0;34m(\u001b[0m\u001b[0msql\u001b[0m\u001b[0;34m)\u001b[0m\u001b[0;34m\u001b[0m\u001b[0;34m\u001b[0m\u001b[0m\n\u001b[1;32m     83\u001b[0m             \u001b[0;32melse\u001b[0m\u001b[0;34m:\u001b[0m\u001b[0;34m\u001b[0m\u001b[0;34m\u001b[0m\u001b[0m\n\u001b[0;32m---> 84\u001b[0;31m                 \u001b[0;32mreturn\u001b[0m \u001b[0mself\u001b[0m\u001b[0;34m.\u001b[0m\u001b[0mcursor\u001b[0m\u001b[0;34m.\u001b[0m\u001b[0mexecute\u001b[0m\u001b[0;34m(\u001b[0m\u001b[0msql\u001b[0m\u001b[0;34m,\u001b[0m \u001b[0mparams\u001b[0m\u001b[0;34m)\u001b[0m\u001b[0;34m\u001b[0m\u001b[0;34m\u001b[0m\u001b[0m\n\u001b[0m\u001b[1;32m     85\u001b[0m \u001b[0;34m\u001b[0m\u001b[0m\n\u001b[1;32m     86\u001b[0m     \u001b[0;32mdef\u001b[0m \u001b[0m_executemany\u001b[0m\u001b[0;34m(\u001b[0m\u001b[0mself\u001b[0m\u001b[0;34m,\u001b[0m \u001b[0msql\u001b[0m\u001b[0;34m,\u001b[0m \u001b[0mparam_list\u001b[0m\u001b[0;34m,\u001b[0m \u001b[0;34m*\u001b[0m\u001b[0mignored_wrapper_args\u001b[0m\u001b[0;34m)\u001b[0m\u001b[0;34m:\u001b[0m\u001b[0;34m\u001b[0m\u001b[0;34m\u001b[0m\u001b[0m\n",
      "\u001b[0;32m~/.cache/pypoetry/virtualenvs/apps-ZFymp6kh-py3.7/lib/python3.7/site-packages/django/db/utils.py\u001b[0m in \u001b[0;36m__exit__\u001b[0;34m(self, exc_type, exc_value, traceback)\u001b[0m\n\u001b[1;32m     87\u001b[0m                 \u001b[0;32mif\u001b[0m \u001b[0mdj_exc_type\u001b[0m \u001b[0;32mnot\u001b[0m \u001b[0;32min\u001b[0m \u001b[0;34m(\u001b[0m\u001b[0mDataError\u001b[0m\u001b[0;34m,\u001b[0m \u001b[0mIntegrityError\u001b[0m\u001b[0;34m)\u001b[0m\u001b[0;34m:\u001b[0m\u001b[0;34m\u001b[0m\u001b[0;34m\u001b[0m\u001b[0m\n\u001b[1;32m     88\u001b[0m                     \u001b[0mself\u001b[0m\u001b[0;34m.\u001b[0m\u001b[0mwrapper\u001b[0m\u001b[0;34m.\u001b[0m\u001b[0merrors_occurred\u001b[0m \u001b[0;34m=\u001b[0m \u001b[0;32mTrue\u001b[0m\u001b[0;34m\u001b[0m\u001b[0;34m\u001b[0m\u001b[0m\n\u001b[0;32m---> 89\u001b[0;31m                 \u001b[0;32mraise\u001b[0m \u001b[0mdj_exc_value\u001b[0m\u001b[0;34m.\u001b[0m\u001b[0mwith_traceback\u001b[0m\u001b[0;34m(\u001b[0m\u001b[0mtraceback\u001b[0m\u001b[0;34m)\u001b[0m \u001b[0;32mfrom\u001b[0m \u001b[0mexc_value\u001b[0m\u001b[0;34m\u001b[0m\u001b[0;34m\u001b[0m\u001b[0m\n\u001b[0m\u001b[1;32m     90\u001b[0m \u001b[0;34m\u001b[0m\u001b[0m\n\u001b[1;32m     91\u001b[0m     \u001b[0;32mdef\u001b[0m \u001b[0m__call__\u001b[0m\u001b[0;34m(\u001b[0m\u001b[0mself\u001b[0m\u001b[0;34m,\u001b[0m \u001b[0mfunc\u001b[0m\u001b[0;34m)\u001b[0m\u001b[0;34m:\u001b[0m\u001b[0;34m\u001b[0m\u001b[0;34m\u001b[0m\u001b[0m\n",
      "\u001b[0;32m~/.cache/pypoetry/virtualenvs/apps-ZFymp6kh-py3.7/lib/python3.7/site-packages/django/db/backends/utils.py\u001b[0m in \u001b[0;36m_execute\u001b[0;34m(self, sql, params, *ignored_wrapper_args)\u001b[0m\n\u001b[1;32m     82\u001b[0m                 \u001b[0;32mreturn\u001b[0m \u001b[0mself\u001b[0m\u001b[0;34m.\u001b[0m\u001b[0mcursor\u001b[0m\u001b[0;34m.\u001b[0m\u001b[0mexecute\u001b[0m\u001b[0;34m(\u001b[0m\u001b[0msql\u001b[0m\u001b[0;34m)\u001b[0m\u001b[0;34m\u001b[0m\u001b[0;34m\u001b[0m\u001b[0m\n\u001b[1;32m     83\u001b[0m             \u001b[0;32melse\u001b[0m\u001b[0;34m:\u001b[0m\u001b[0;34m\u001b[0m\u001b[0;34m\u001b[0m\u001b[0m\n\u001b[0;32m---> 84\u001b[0;31m                 \u001b[0;32mreturn\u001b[0m \u001b[0mself\u001b[0m\u001b[0;34m.\u001b[0m\u001b[0mcursor\u001b[0m\u001b[0;34m.\u001b[0m\u001b[0mexecute\u001b[0m\u001b[0;34m(\u001b[0m\u001b[0msql\u001b[0m\u001b[0;34m,\u001b[0m \u001b[0mparams\u001b[0m\u001b[0;34m)\u001b[0m\u001b[0;34m\u001b[0m\u001b[0;34m\u001b[0m\u001b[0m\n\u001b[0m\u001b[1;32m     85\u001b[0m \u001b[0;34m\u001b[0m\u001b[0m\n\u001b[1;32m     86\u001b[0m     \u001b[0;32mdef\u001b[0m \u001b[0m_executemany\u001b[0m\u001b[0;34m(\u001b[0m\u001b[0mself\u001b[0m\u001b[0;34m,\u001b[0m \u001b[0msql\u001b[0m\u001b[0;34m,\u001b[0m \u001b[0mparam_list\u001b[0m\u001b[0;34m,\u001b[0m \u001b[0;34m*\u001b[0m\u001b[0mignored_wrapper_args\u001b[0m\u001b[0;34m)\u001b[0m\u001b[0;34m:\u001b[0m\u001b[0;34m\u001b[0m\u001b[0;34m\u001b[0m\u001b[0m\n",
      "\u001b[0;31mOperationalError\u001b[0m: SSL connection has been closed unexpectedly\n"
     ]
    }
   ],
   "source": [
    "company = Company.objects.get(name='CCR - Rio Sp')\n",
    "occurrence_type_elemento = OccurrenceType.objects.get(name='Drenagem Profunda Elemento',company=company)"
   ]
  },
  {
   "cell_type": "code",
   "execution_count": 7,
   "id": "835136bf",
   "metadata": {},
   "outputs": [
    {
     "data": {
      "text/plain": [
       "<QuerySet [<Reporting: [CCR - Rio Sp] CCR-Inv-2023.161417 - 2022-10-22 03:00:00+00:00>]>"
      ]
     },
     "execution_count": 7,
     "metadata": {},
     "output_type": "execute_result"
    }
   ],
   "source": [
    "Reporting.objects.filter(occurrence_type=occurrence_type_elemento,form_data__code='CLP 116 RJ 215+790 CC 1')"
   ]
  },
  {
   "cell_type": "code",
   "execution_count": 7,
   "id": "03465956",
   "metadata": {},
   "outputs": [
    {
     "data": {
      "text/plain": [
       "203"
      ]
     },
     "execution_count": 7,
     "metadata": {},
     "output_type": "execute_result"
    }
   ],
   "source": [
    "Reporting.objects.filter(form_data__has_key='therapy').count()"
   ]
  },
  {
   "cell_type": "code",
   "execution_count": 16,
   "id": "e9cf1c1c",
   "metadata": {},
   "outputs": [],
   "source": [
    "counter=0\n",
    "reps=[]\n",
    "for a in Reporting.objects.filter(form_data__has_key='therapy'):\n",
    "    if len(a.form_data['therapy']) >0:\n",
    "        counter+=1\n",
    "        reps.append(a.uuid)"
   ]
  },
  {
   "cell_type": "code",
   "execution_count": 7,
   "id": "476baf9a",
   "metadata": {},
   "outputs": [
    {
     "data": {
      "text/plain": [
       "203"
      ]
     },
     "execution_count": 7,
     "metadata": {},
     "output_type": "execute_result"
    }
   ],
   "source": [
    "Reporting.objects.filter(form_data__has_key='therapy').count()"
   ]
  },
  {
   "cell_type": "code",
   "execution_count": 6,
   "id": "3b34ecf3",
   "metadata": {},
   "outputs": [
    {
     "data": {
      "text/plain": [
       "166"
      ]
     },
     "execution_count": 6,
     "metadata": {},
     "output_type": "execute_result"
    }
   ],
   "source": [
    "counter"
   ]
  },
  {
   "cell_type": "code",
   "execution_count": 13,
   "id": "8e628bb1",
   "metadata": {},
   "outputs": [],
   "source": [
    "jobs=Job.objects.filter(inspection__isnull=False)"
   ]
  },
  {
   "cell_type": "code",
   "execution_count": 20,
   "id": "0f8df423",
   "metadata": {},
   "outputs": [
    {
     "data": {
      "text/plain": [
       "150"
      ]
     },
     "execution_count": 20,
     "metadata": {},
     "output_type": "execute_result"
    }
   ],
   "source": [
    "reps_n_job=Reporting.objects.filter(uuid__in=reps).exclude(job__in=jobs)\n",
    "reps_n_job.count()"
   ]
  },
  {
   "cell_type": "code",
   "execution_count": 22,
   "id": "36e50b11",
   "metadata": {},
   "outputs": [
    {
     "data": {
      "text/plain": [
       "(<Reporting: [CCR - Rio Sp] CCR-TER-2023.00008 - 2023-07-04 18:39:14.287000+00:00>,\n",
       " UUID('00c572bb-00d8-46a5-a1ca-9285c00fd5de'))"
      ]
     },
     "execution_count": 22,
     "metadata": {},
     "output_type": "execute_result"
    }
   ],
   "source": [
    "reps_n_job[0],reps_n_job[0].uuid"
   ]
  },
  {
   "cell_type": "code",
   "execution_count": 25,
   "id": "e510331f",
   "metadata": {},
   "outputs": [
    {
     "data": {
      "text/plain": [
       "16"
      ]
     },
     "execution_count": 25,
     "metadata": {},
     "output_type": "execute_result"
    }
   ],
   "source": [
    "Reporting.objects.filter(form_data__has_key='therapy',job__in=jobs).count()"
   ]
  },
  {
   "cell_type": "code",
   "execution_count": null,
   "id": "a365a1fd",
   "metadata": {},
   "outputs": [],
   "source": []
  },
  {
   "cell_type": "code",
   "execution_count": 12,
   "id": "11c5943c",
   "metadata": {},
   "outputs": [
    {
     "data": {
      "text/plain": [
       "16"
      ]
     },
     "execution_count": 12,
     "metadata": {},
     "output_type": "execute_result"
    }
   ],
   "source": [
    "Job.objects.filter(inspection__isnull=False,reportings__in=reps).count()"
   ]
  },
  {
   "cell_type": "code",
   "execution_count": 35,
   "id": "97b36802",
   "metadata": {},
   "outputs": [],
   "source": [
    "counter2=0\n",
    "reps_n_recuperacao=[]\n",
    "reps_tem_recuperacao=[]\n",
    "for a in reps:\n",
    "    for b in a.form_data['therapy']:\n",
    "        occ = OccurrenceType.objects.get(uuid=b.get('occurrence_type')) if b.get('occurrence_type') else None\n",
    "        if occ is not None and \"monitoração\" not in occ.name.lower() and b.get('occurrence_type') and not Reporting.objects.filter(occurrence_type__uuid=b['occurrence_type'],parent=a.parent,job__isnull=False).exists():\n",
    "            counter2+=1\n",
    "            reps_n_recuperacao.append(a)\n",
    "        else:\n",
    "            reps_tem_recuperacao.append(a)"
   ]
  },
  {
   "cell_type": "code",
   "execution_count": 37,
   "id": "ac3bba78",
   "metadata": {},
   "outputs": [
    {
     "data": {
      "text/plain": [
       "(<OccurrenceType: Monitoração OAE CCR - ['CCR - RodoAnel', 'CCR - SPVias', 'CCR - AutoBAn', 'CCR - Rio Sp']>,\n",
       " {'_state': <django.db.models.base.ModelState at 0x7f9a5cae2a90>,\n",
       "  'uuid': UUID('36f028ae-380c-4f78-abc9-e50429e450a9'),\n",
       "  'number': 'CCR-OAE-2023.00032',\n",
       "  'company_id': UUID('3af64f25-59e8-446b-bb1e-963549090b0d'),\n",
       "  'road_name': 'BR-101 RJ',\n",
       "  'road_id': 2040,\n",
       "  'km': 382.7,\n",
       "  'end_km': 382.7,\n",
       "  'km_reference': None,\n",
       "  'project_km': 0.0,\n",
       "  'project_end_km': 0.0,\n",
       "  'point': <Point object at 0x7f9a7dff2a30>,\n",
       "  'direction': '1',\n",
       "  'lane': '99',\n",
       "  'track': None,\n",
       "  'branch': None,\n",
       "  'address': {},\n",
       "  'created_by_id': UUID('583f383e-709f-4ce1-ab47-29d60617c9f7'),\n",
       "  'firm_id': UUID('3e814127-3500-46c7-921b-60b8e971c6bd'),\n",
       "  'occurrence_type_id': UUID('a0feb786-6eb4-4d96-8fdb-f63c983156be'),\n",
       "  'form_data': {'therapy': [{'anomalia_oae': ['7',\n",
       "      'f7072173-83a4-4192-850d-da54a1e654db'],\n",
       "     'estrutura_oae': '1',\n",
       "     'n_elemento_oae': None,\n",
       "     'occurrence_type': '45f8fbfe-5ac9-4adf-9c77-7cb4306fa2dc',\n",
       "     'posicao_vao_oae': 2,\n",
       "     'elemento_matriz_oae': '3'},\n",
       "    {'anomalia_oae': ['4', '4', '87eb9ad7-7cc5-4b99-8f67-4dee29e131c6'],\n",
       "     'estrutura_oae': '3',\n",
       "     'n_elemento_oae': 1,\n",
       "     'quantidade_oae': None,\n",
       "     'posicao_vao_oae': 1,\n",
       "     'tipo_elemento_matriz_oae': '3'}],\n",
       "   'codigo_agencia': 'OAE 101 RJ 382+700 S ',\n",
       "   'resumo_oae_atual_juntas': ' 1 1            4,4,87eb9ad7-7cc5-4b99-8f67-4dee29e131c6   4,4,87eb9ad7-7cc5-4b99-8f67-4dee29e131c6',\n",
       "   'resumo_oae_atual_pilares': ' 1 1            4,4,87eb9ad7-7cc5-4b99-8f67-4dee29e131c6   4,4,87eb9ad7-7cc5-4b99-8f67-4dee29e131c6',\n",
       "   'resumo_oae_atual_taludes': ' 1 1            4,4,87eb9ad7-7cc5-4b99-8f67-4dee29e131c6   4,4,87eb9ad7-7cc5-4b99-8f67-4dee29e131c6',\n",
       "   'resumo_oae_atual_drenagem': ' 1 1            4,4,87eb9ad7-7cc5-4b99-8f67-4dee29e131c6   4,4,87eb9ad7-7cc5-4b99-8f67-4dee29e131c6',\n",
       "   'resumo_oae_anterior_juntas': ' 1 1            4,4,87eb9ad7-7cc5-4b99-8f67-4dee29e131c6   4,4,87eb9ad7-7cc5-4b99-8f67-4dee29e131c6',\n",
       "   'resumo_oae_atual_encontros': ' 1 1            4,4,87eb9ad7-7cc5-4b99-8f67-4dee29e131c6   4,4,87eb9ad7-7cc5-4b99-8f67-4dee29e131c6',\n",
       "   'resumo_oae_atual_gabaritos': ' 1 1            4,4,87eb9ad7-7cc5-4b99-8f67-4dee29e131c6   4,4,87eb9ad7-7cc5-4b99-8f67-4dee29e131c6',\n",
       "   'resumo_oae_atual_pavimento': ' 1 1            4,4,87eb9ad7-7cc5-4b99-8f67-4dee29e131c6   4,4,87eb9ad7-7cc5-4b99-8f67-4dee29e131c6',\n",
       "   'resumo_oae_anterior_pilares': ' 1 1            4,4,87eb9ad7-7cc5-4b99-8f67-4dee29e131c6   4,4,87eb9ad7-7cc5-4b99-8f67-4dee29e131c6',\n",
       "   'resumo_oae_anterior_taludes': ' 1 1            4,4,87eb9ad7-7cc5-4b99-8f67-4dee29e131c6   4,4,87eb9ad7-7cc5-4b99-8f67-4dee29e131c6',\n",
       "   'resumo_oae_atual_iluminacao': ' 1 1            4,4,87eb9ad7-7cc5-4b99-8f67-4dee29e131c6   4,4,87eb9ad7-7cc5-4b99-8f67-4dee29e131c6',\n",
       "   'resumo_oae_anterior_drenagem': ' 1 1            4,4,87eb9ad7-7cc5-4b99-8f67-4dee29e131c6   4,4,87eb9ad7-7cc5-4b99-8f67-4dee29e131c6',\n",
       "   'resumo_oae_atual_acostamento': ' 1 1            4,4,87eb9ad7-7cc5-4b99-8f67-4dee29e131c6   4,4,87eb9ad7-7cc5-4b99-8f67-4dee29e131c6',\n",
       "   'resumo_oae_atual_sinalizacao': ' 1 1            4,4,87eb9ad7-7cc5-4b99-8f67-4dee29e131c6   4,4,87eb9ad7-7cc5-4b99-8f67-4dee29e131c6',\n",
       "   'resumo_oae_anterior_encontros': ' 1 1            4,4,87eb9ad7-7cc5-4b99-8f67-4dee29e131c6   4,4,87eb9ad7-7cc5-4b99-8f67-4dee29e131c6',\n",
       "   'resumo_oae_anterior_gabaritos': ' 1 1            4,4,87eb9ad7-7cc5-4b99-8f67-4dee29e131c6   4,4,87eb9ad7-7cc5-4b99-8f67-4dee29e131c6',\n",
       "   'resumo_oae_anterior_pavimento': ' 1 1            4,4,87eb9ad7-7cc5-4b99-8f67-4dee29e131c6   4,4,87eb9ad7-7cc5-4b99-8f67-4dee29e131c6',\n",
       "   'resumo_oae_atual_guarda_rodas': ' 1 1            4,4,87eb9ad7-7cc5-4b99-8f67-4dee29e131c6   4,4,87eb9ad7-7cc5-4b99-8f67-4dee29e131c6',\n",
       "   'resum_oae_atual_superestrutura': ' 1 1            4,4,87eb9ad7-7cc5-4b99-8f67-4dee29e131c6   4,4,87eb9ad7-7cc5-4b99-8f67-4dee29e131c6',\n",
       "   'resumo_oae_anterior_iluminacao': ' 1 1            4,4,87eb9ad7-7cc5-4b99-8f67-4dee29e131c6   4,4,87eb9ad7-7cc5-4b99-8f67-4dee29e131c6',\n",
       "   'resumo_oae_atual_guarda_corpos': ' 1 1            4,4,87eb9ad7-7cc5-4b99-8f67-4dee29e131c6   4,4,87eb9ad7-7cc5-4b99-8f67-4dee29e131c6',\n",
       "   'resumo_oae_atual_mesoestrutura': ' 1 1            4,4,87eb9ad7-7cc5-4b99-8f67-4dee29e131c6   4,4,87eb9ad7-7cc5-4b99-8f67-4dee29e131c6',\n",
       "   'resumo_oae_anterior_acostamento': ' 1 1            4,4,87eb9ad7-7cc5-4b99-8f67-4dee29e131c6   4,4,87eb9ad7-7cc5-4b99-8f67-4dee29e131c6',\n",
       "   'resumo_oae_anterior_sinalizacao': ' 1 1            4,4,87eb9ad7-7cc5-4b99-8f67-4dee29e131c6   4,4,87eb9ad7-7cc5-4b99-8f67-4dee29e131c6',\n",
       "   'resumo_oae_anterior_guarda_rodas': ' 1 1            4,4,87eb9ad7-7cc5-4b99-8f67-4dee29e131c6   4,4,87eb9ad7-7cc5-4b99-8f67-4dee29e131c6',\n",
       "   'resumo_oae_anterior_guarda_corpos': ' 1 1            4,4,87eb9ad7-7cc5-4b99-8f67-4dee29e131c6   4,4,87eb9ad7-7cc5-4b99-8f67-4dee29e131c6',\n",
       "   'resumo_oae_anterior_mesoestrutura': ' 1 1            4,4,87eb9ad7-7cc5-4b99-8f67-4dee29e131c6   4,4,87eb9ad7-7cc5-4b99-8f67-4dee29e131c6',\n",
       "   'resumo_oae_anterior_superestrutura': ' 1 1            4,4,87eb9ad7-7cc5-4b99-8f67-4dee29e131c6   4,4,87eb9ad7-7cc5-4b99-8f67-4dee29e131c6'},\n",
       "  'form_metadata': {'uf': {'manually_specified': False},\n",
       "   'resumo_oae_atual_juntas': {'manually_specified': True},\n",
       "   'resumo_oae_atual_pilares': {'manually_specified': True},\n",
       "   'resumo_oae_atual_taludes': {'manually_specified': True},\n",
       "   'resumo_oae_atual_drenagem': {'manually_specified': True},\n",
       "   'resumo_oae_anterior_juntas': {'manually_specified': True},\n",
       "   'resumo_oae_atual_encontros': {'manually_specified': True},\n",
       "   'resumo_oae_atual_gabaritos': {'manually_specified': True},\n",
       "   'resumo_oae_atual_pavimento': {'manually_specified': True},\n",
       "   'resumo_oae_anterior_pilares': {'manually_specified': True},\n",
       "   'resumo_oae_anterior_taludes': {'manually_specified': True},\n",
       "   'resumo_oae_atual_iluminacao': {'manually_specified': True},\n",
       "   'resumo_oae_anterior_drenagem': {'manually_specified': True},\n",
       "   'resumo_oae_atual_acostamento': {'manually_specified': True},\n",
       "   'resumo_oae_atual_sinalizacao': {'manually_specified': True},\n",
       "   'resumo_oae_anterior_encontros': {'manually_specified': True},\n",
       "   'resumo_oae_anterior_gabaritos': {'manually_specified': True},\n",
       "   'resumo_oae_anterior_pavimento': {'manually_specified': True},\n",
       "   'resumo_oae_atual_guarda_rodas': {'manually_specified': True},\n",
       "   'resum_oae_atual_superestrutura': {'manually_specified': True},\n",
       "   'resumo_oae_anterior_iluminacao': {'manually_specified': True},\n",
       "   'resumo_oae_atual_guarda_corpos': {'manually_specified': True},\n",
       "   'resumo_oae_atual_mesoestrutura': {'manually_specified': True},\n",
       "   'resumo_oae_anterior_acostamento': {'manually_specified': True},\n",
       "   'resumo_oae_anterior_sinalizacao': {'manually_specified': True},\n",
       "   'resumo_oae_anterior_guarda_rodas': {'manually_specified': True},\n",
       "   'resumo_oae_anterior_guarda_corpos': {'manually_specified': True},\n",
       "   'resumo_oae_anterior_mesoestrutura': {'manually_specified': True},\n",
       "   'resumo_oae_anterior_superestrutura': {'manually_specified': True}},\n",
       "  'executed_at': None,\n",
       "  'created_at': datetime.datetime(2023, 10, 5, 12, 14, 28, 688992, tzinfo=<UTC>),\n",
       "  'updated_at': datetime.datetime(2023, 10, 5, 12, 29, 55, 14107, tzinfo=<UTC>),\n",
       "  'found_at': datetime.datetime(2023, 10, 5, 10, 45, 32, 275000, tzinfo=<UTC>),\n",
       "  'due_at': None,\n",
       "  'status_id': UUID('4d0453c9-49d3-43ec-9dc6-a592cf9d8c56'),\n",
       "  'job_id': UUID('5536f3eb-d7d1-4952-95b0-3dfe109ece7b'),\n",
       "  'parent_id': UUID('14a8ee90-457f-48a3-a6e5-78c1c3b7d304'),\n",
       "  'active_inspection_id': None,\n",
       "  'due_at_manually_specified': False,\n",
       "  'end_km_manually_specified': False,\n",
       "  'project_end_km_manually_specified': False,\n",
       "  'editable': True,\n",
       "  'approval_step_id': UUID('a3136f17-7545-47e2-aee6-4221db062c34'),\n",
       "  'keywords': \"OAE 101 RJ 382+700 S  Superestrutura Laje superior None 2 Concreto desagregado com armadura exposta RASO ['7', 'f7072173-83a4-4192-850d-da54a1e654db'] Aparelhos de apoio 1 Neoprene Armadura exposta com perda de seção maior que 20% ['4', '4', '87eb9ad7-7cc5-4b99-8f67-4dee29e131c6']  1 1            4,4,87eb9ad7-7cc5-4b99-8f67-4dee29e131c6   4,4,87eb9ad7-7cc5-4b99-8f67-4dee29e131c6\",\n",
       "  'lot': '4',\n",
       "  'technical_opinion': None,\n",
       "  'construction_id': None,\n",
       "  'pdf_import_id': None,\n",
       "  '_fieldsignals_originals': {(140301280229648,\n",
       "    140300961915968): {'uuid': UUID('36f028ae-380c-4f78-abc9-e50429e450a9'), 'number': 'CCR-OAE-2023.00032', 'company': UUID('3af64f25-59e8-446b-bb1e-963549090b0d'), 'road_name': 'BR-101 RJ', 'road': 2040, 'km': 382.7, 'end_km': 382.7, 'project_km': 0.0, 'project_end_km': 0.0, 'point': <Point object at 0x7f9a7dff2e20>, 'direction': '1', 'lane': '99', 'address': {}, 'created_by': UUID('583f383e-709f-4ce1-ab47-29d60617c9f7'), 'firm': UUID('3e814127-3500-46c7-921b-60b8e971c6bd'), 'occurrence_type': UUID('a0feb786-6eb4-4d96-8fdb-f63c983156be'), 'form_data': {'therapy': [{'anomalia_oae': ['7',\n",
       "        'f7072173-83a4-4192-850d-da54a1e654db'],\n",
       "       'estrutura_oae': '1',\n",
       "       'n_elemento_oae': None,\n",
       "       'occurrence_type': '45f8fbfe-5ac9-4adf-9c77-7cb4306fa2dc',\n",
       "       'posicao_vao_oae': 2,\n",
       "       'elemento_matriz_oae': '3'},\n",
       "      {'anomalia_oae': ['4', '4', '87eb9ad7-7cc5-4b99-8f67-4dee29e131c6'],\n",
       "       'estrutura_oae': '3',\n",
       "       'n_elemento_oae': 1,\n",
       "       'quantidade_oae': None,\n",
       "       'posicao_vao_oae': 1,\n",
       "       'tipo_elemento_matriz_oae': '3'}],\n",
       "     'codigo_agencia': 'OAE 101 RJ 382+700 S ',\n",
       "     'resumo_oae_atual_juntas': ' 1 1            4,4,87eb9ad7-7cc5-4b99-8f67-4dee29e131c6   4,4,87eb9ad7-7cc5-4b99-8f67-4dee29e131c6',\n",
       "     'resumo_oae_atual_pilares': ' 1 1            4,4,87eb9ad7-7cc5-4b99-8f67-4dee29e131c6   4,4,87eb9ad7-7cc5-4b99-8f67-4dee29e131c6',\n",
       "     'resumo_oae_atual_taludes': ' 1 1            4,4,87eb9ad7-7cc5-4b99-8f67-4dee29e131c6   4,4,87eb9ad7-7cc5-4b99-8f67-4dee29e131c6',\n",
       "     'resumo_oae_atual_drenagem': ' 1 1            4,4,87eb9ad7-7cc5-4b99-8f67-4dee29e131c6   4,4,87eb9ad7-7cc5-4b99-8f67-4dee29e131c6',\n",
       "     'resumo_oae_anterior_juntas': ' 1 1            4,4,87eb9ad7-7cc5-4b99-8f67-4dee29e131c6   4,4,87eb9ad7-7cc5-4b99-8f67-4dee29e131c6',\n",
       "     'resumo_oae_atual_encontros': ' 1 1            4,4,87eb9ad7-7cc5-4b99-8f67-4dee29e131c6   4,4,87eb9ad7-7cc5-4b99-8f67-4dee29e131c6',\n",
       "     'resumo_oae_atual_gabaritos': ' 1 1            4,4,87eb9ad7-7cc5-4b99-8f67-4dee29e131c6   4,4,87eb9ad7-7cc5-4b99-8f67-4dee29e131c6',\n",
       "     'resumo_oae_atual_pavimento': ' 1 1            4,4,87eb9ad7-7cc5-4b99-8f67-4dee29e131c6   4,4,87eb9ad7-7cc5-4b99-8f67-4dee29e131c6',\n",
       "     'resumo_oae_anterior_pilares': ' 1 1            4,4,87eb9ad7-7cc5-4b99-8f67-4dee29e131c6   4,4,87eb9ad7-7cc5-4b99-8f67-4dee29e131c6',\n",
       "     'resumo_oae_anterior_taludes': ' 1 1            4,4,87eb9ad7-7cc5-4b99-8f67-4dee29e131c6   4,4,87eb9ad7-7cc5-4b99-8f67-4dee29e131c6',\n",
       "     'resumo_oae_atual_iluminacao': ' 1 1            4,4,87eb9ad7-7cc5-4b99-8f67-4dee29e131c6   4,4,87eb9ad7-7cc5-4b99-8f67-4dee29e131c6',\n",
       "     'resumo_oae_anterior_drenagem': ' 1 1            4,4,87eb9ad7-7cc5-4b99-8f67-4dee29e131c6   4,4,87eb9ad7-7cc5-4b99-8f67-4dee29e131c6',\n",
       "     'resumo_oae_atual_acostamento': ' 1 1            4,4,87eb9ad7-7cc5-4b99-8f67-4dee29e131c6   4,4,87eb9ad7-7cc5-4b99-8f67-4dee29e131c6',\n",
       "     'resumo_oae_atual_sinalizacao': ' 1 1            4,4,87eb9ad7-7cc5-4b99-8f67-4dee29e131c6   4,4,87eb9ad7-7cc5-4b99-8f67-4dee29e131c6',\n",
       "     'resumo_oae_anterior_encontros': ' 1 1            4,4,87eb9ad7-7cc5-4b99-8f67-4dee29e131c6   4,4,87eb9ad7-7cc5-4b99-8f67-4dee29e131c6',\n",
       "     'resumo_oae_anterior_gabaritos': ' 1 1            4,4,87eb9ad7-7cc5-4b99-8f67-4dee29e131c6   4,4,87eb9ad7-7cc5-4b99-8f67-4dee29e131c6',\n",
       "     'resumo_oae_anterior_pavimento': ' 1 1            4,4,87eb9ad7-7cc5-4b99-8f67-4dee29e131c6   4,4,87eb9ad7-7cc5-4b99-8f67-4dee29e131c6',\n",
       "     'resumo_oae_atual_guarda_rodas': ' 1 1            4,4,87eb9ad7-7cc5-4b99-8f67-4dee29e131c6   4,4,87eb9ad7-7cc5-4b99-8f67-4dee29e131c6',\n",
       "     'resum_oae_atual_superestrutura': ' 1 1            4,4,87eb9ad7-7cc5-4b99-8f67-4dee29e131c6   4,4,87eb9ad7-7cc5-4b99-8f67-4dee29e131c6',\n",
       "     'resumo_oae_anterior_iluminacao': ' 1 1            4,4,87eb9ad7-7cc5-4b99-8f67-4dee29e131c6   4,4,87eb9ad7-7cc5-4b99-8f67-4dee29e131c6',\n",
       "     'resumo_oae_atual_guarda_corpos': ' 1 1            4,4,87eb9ad7-7cc5-4b99-8f67-4dee29e131c6   4,4,87eb9ad7-7cc5-4b99-8f67-4dee29e131c6',\n",
       "     'resumo_oae_atual_mesoestrutura': ' 1 1            4,4,87eb9ad7-7cc5-4b99-8f67-4dee29e131c6   4,4,87eb9ad7-7cc5-4b99-8f67-4dee29e131c6',\n",
       "     'resumo_oae_anterior_acostamento': ' 1 1            4,4,87eb9ad7-7cc5-4b99-8f67-4dee29e131c6   4,4,87eb9ad7-7cc5-4b99-8f67-4dee29e131c6',\n",
       "     'resumo_oae_anterior_sinalizacao': ' 1 1            4,4,87eb9ad7-7cc5-4b99-8f67-4dee29e131c6   4,4,87eb9ad7-7cc5-4b99-8f67-4dee29e131c6',\n",
       "     'resumo_oae_anterior_guarda_rodas': ' 1 1            4,4,87eb9ad7-7cc5-4b99-8f67-4dee29e131c6   4,4,87eb9ad7-7cc5-4b99-8f67-4dee29e131c6',\n",
       "     'resumo_oae_anterior_guarda_corpos': ' 1 1            4,4,87eb9ad7-7cc5-4b99-8f67-4dee29e131c6   4,4,87eb9ad7-7cc5-4b99-8f67-4dee29e131c6',\n",
       "     'resumo_oae_anterior_mesoestrutura': ' 1 1            4,4,87eb9ad7-7cc5-4b99-8f67-4dee29e131c6   4,4,87eb9ad7-7cc5-4b99-8f67-4dee29e131c6',\n",
       "     'resumo_oae_anterior_superestrutura': ' 1 1            4,4,87eb9ad7-7cc5-4b99-8f67-4dee29e131c6   4,4,87eb9ad7-7cc5-4b99-8f67-4dee29e131c6'}, 'form_metadata': {'uf': {'manually_specified': False},\n",
       "     'resumo_oae_atual_juntas': {'manually_specified': True},\n",
       "     'resumo_oae_atual_pilares': {'manually_specified': True},\n",
       "     'resumo_oae_atual_taludes': {'manually_specified': True},\n",
       "     'resumo_oae_atual_drenagem': {'manually_specified': True},\n",
       "     'resumo_oae_anterior_juntas': {'manually_specified': True},\n",
       "     'resumo_oae_atual_encontros': {'manually_specified': True},\n",
       "     'resumo_oae_atual_gabaritos': {'manually_specified': True},\n",
       "     'resumo_oae_atual_pavimento': {'manually_specified': True},\n",
       "     'resumo_oae_anterior_pilares': {'manually_specified': True},\n",
       "     'resumo_oae_anterior_taludes': {'manually_specified': True},\n",
       "     'resumo_oae_atual_iluminacao': {'manually_specified': True},\n",
       "     'resumo_oae_anterior_drenagem': {'manually_specified': True},\n",
       "     'resumo_oae_atual_acostamento': {'manually_specified': True},\n",
       "     'resumo_oae_atual_sinalizacao': {'manually_specified': True},\n",
       "     'resumo_oae_anterior_encontros': {'manually_specified': True},\n",
       "     'resumo_oae_anterior_gabaritos': {'manually_specified': True},\n",
       "     'resumo_oae_anterior_pavimento': {'manually_specified': True},\n",
       "     'resumo_oae_atual_guarda_rodas': {'manually_specified': True},\n",
       "     'resum_oae_atual_superestrutura': {'manually_specified': True},\n",
       "     'resumo_oae_anterior_iluminacao': {'manually_specified': True},\n",
       "     'resumo_oae_atual_guarda_corpos': {'manually_specified': True},\n",
       "     'resumo_oae_atual_mesoestrutura': {'manually_specified': True},\n",
       "     'resumo_oae_anterior_acostamento': {'manually_specified': True},\n",
       "     'resumo_oae_anterior_sinalizacao': {'manually_specified': True},\n",
       "     'resumo_oae_anterior_guarda_rodas': {'manually_specified': True},\n",
       "     'resumo_oae_anterior_guarda_corpos': {'manually_specified': True},\n",
       "     'resumo_oae_anterior_mesoestrutura': {'manually_specified': True},\n",
       "     'resumo_oae_anterior_superestrutura': {'manually_specified': True}}, 'created_at': datetime.datetime(2023, 10, 5, 12, 14, 28, 688992, tzinfo=<UTC>), 'updated_at': datetime.datetime(2023, 10, 5, 12, 29, 55, 14107, tzinfo=<UTC>), 'found_at': datetime.datetime(2023, 10, 5, 10, 45, 32, 275000, tzinfo=<UTC>), 'status': UUID('4d0453c9-49d3-43ec-9dc6-a592cf9d8c56'), 'job': UUID('5536f3eb-d7d1-4952-95b0-3dfe109ece7b'), 'parent': UUID('14a8ee90-457f-48a3-a6e5-78c1c3b7d304'), 'due_at_manually_specified': False, 'end_km_manually_specified': False, 'project_end_km_manually_specified': False, 'editable': True, 'approval_step': UUID('a3136f17-7545-47e2-aee6-4221db062c34'), 'keywords': \"OAE 101 RJ 382+700 S  Superestrutura Laje superior None 2 Concreto desagregado com armadura exposta RASO ['7', 'f7072173-83a4-4192-850d-da54a1e654db'] Aparelhos de apoio 1 Neoprene Armadura exposta com perda de seção maior que 20% ['4', '4', '87eb9ad7-7cc5-4b99-8f67-4dee29e131c6']  1 1            4,4,87eb9ad7-7cc5-4b99-8f67-4dee29e131c6   4,4,87eb9ad7-7cc5-4b99-8f67-4dee29e131c6\", 'lot': '4'},\n",
       "   (140301280229520,\n",
       "    140300960792656): {'uuid': UUID('36f028ae-380c-4f78-abc9-e50429e450a9'), 'number': 'CCR-OAE-2023.00032', 'company': UUID('3af64f25-59e8-446b-bb1e-963549090b0d'), 'road_name': 'BR-101 RJ', 'road': 2040, 'km': 382.7, 'end_km': 382.7, 'project_km': 0.0, 'project_end_km': 0.0, 'point': <Point object at 0x7f9a7dff2910>, 'direction': '1', 'lane': '99', 'address': {}, 'created_by': UUID('583f383e-709f-4ce1-ab47-29d60617c9f7'), 'firm': UUID('3e814127-3500-46c7-921b-60b8e971c6bd'), 'occurrence_type': UUID('a0feb786-6eb4-4d96-8fdb-f63c983156be'), 'form_data': {'therapy': [{'anomalia_oae': ['7',\n",
       "        'f7072173-83a4-4192-850d-da54a1e654db'],\n",
       "       'estrutura_oae': '1',\n",
       "       'n_elemento_oae': None,\n",
       "       'occurrence_type': '45f8fbfe-5ac9-4adf-9c77-7cb4306fa2dc',\n",
       "       'posicao_vao_oae': 2,\n",
       "       'elemento_matriz_oae': '3'},\n",
       "      {'anomalia_oae': ['4', '4', '87eb9ad7-7cc5-4b99-8f67-4dee29e131c6'],\n",
       "       'estrutura_oae': '3',\n",
       "       'n_elemento_oae': 1,\n",
       "       'quantidade_oae': None,\n",
       "       'posicao_vao_oae': 1,\n",
       "       'tipo_elemento_matriz_oae': '3'}],\n",
       "     'codigo_agencia': 'OAE 101 RJ 382+700 S ',\n",
       "     'resumo_oae_atual_juntas': ' 1 1            4,4,87eb9ad7-7cc5-4b99-8f67-4dee29e131c6   4,4,87eb9ad7-7cc5-4b99-8f67-4dee29e131c6',\n",
       "     'resumo_oae_atual_pilares': ' 1 1            4,4,87eb9ad7-7cc5-4b99-8f67-4dee29e131c6   4,4,87eb9ad7-7cc5-4b99-8f67-4dee29e131c6',\n",
       "     'resumo_oae_atual_taludes': ' 1 1            4,4,87eb9ad7-7cc5-4b99-8f67-4dee29e131c6   4,4,87eb9ad7-7cc5-4b99-8f67-4dee29e131c6',\n",
       "     'resumo_oae_atual_drenagem': ' 1 1            4,4,87eb9ad7-7cc5-4b99-8f67-4dee29e131c6   4,4,87eb9ad7-7cc5-4b99-8f67-4dee29e131c6',\n",
       "     'resumo_oae_anterior_juntas': ' 1 1            4,4,87eb9ad7-7cc5-4b99-8f67-4dee29e131c6   4,4,87eb9ad7-7cc5-4b99-8f67-4dee29e131c6',\n",
       "     'resumo_oae_atual_encontros': ' 1 1            4,4,87eb9ad7-7cc5-4b99-8f67-4dee29e131c6   4,4,87eb9ad7-7cc5-4b99-8f67-4dee29e131c6',\n",
       "     'resumo_oae_atual_gabaritos': ' 1 1            4,4,87eb9ad7-7cc5-4b99-8f67-4dee29e131c6   4,4,87eb9ad7-7cc5-4b99-8f67-4dee29e131c6',\n",
       "     'resumo_oae_atual_pavimento': ' 1 1            4,4,87eb9ad7-7cc5-4b99-8f67-4dee29e131c6   4,4,87eb9ad7-7cc5-4b99-8f67-4dee29e131c6',\n",
       "     'resumo_oae_anterior_pilares': ' 1 1            4,4,87eb9ad7-7cc5-4b99-8f67-4dee29e131c6   4,4,87eb9ad7-7cc5-4b99-8f67-4dee29e131c6',\n",
       "     'resumo_oae_anterior_taludes': ' 1 1            4,4,87eb9ad7-7cc5-4b99-8f67-4dee29e131c6   4,4,87eb9ad7-7cc5-4b99-8f67-4dee29e131c6',\n",
       "     'resumo_oae_atual_iluminacao': ' 1 1            4,4,87eb9ad7-7cc5-4b99-8f67-4dee29e131c6   4,4,87eb9ad7-7cc5-4b99-8f67-4dee29e131c6',\n",
       "     'resumo_oae_anterior_drenagem': ' 1 1            4,4,87eb9ad7-7cc5-4b99-8f67-4dee29e131c6   4,4,87eb9ad7-7cc5-4b99-8f67-4dee29e131c6',\n",
       "     'resumo_oae_atual_acostamento': ' 1 1            4,4,87eb9ad7-7cc5-4b99-8f67-4dee29e131c6   4,4,87eb9ad7-7cc5-4b99-8f67-4dee29e131c6',\n",
       "     'resumo_oae_atual_sinalizacao': ' 1 1            4,4,87eb9ad7-7cc5-4b99-8f67-4dee29e131c6   4,4,87eb9ad7-7cc5-4b99-8f67-4dee29e131c6',\n",
       "     'resumo_oae_anterior_encontros': ' 1 1            4,4,87eb9ad7-7cc5-4b99-8f67-4dee29e131c6   4,4,87eb9ad7-7cc5-4b99-8f67-4dee29e131c6',\n",
       "     'resumo_oae_anterior_gabaritos': ' 1 1            4,4,87eb9ad7-7cc5-4b99-8f67-4dee29e131c6   4,4,87eb9ad7-7cc5-4b99-8f67-4dee29e131c6',\n",
       "     'resumo_oae_anterior_pavimento': ' 1 1            4,4,87eb9ad7-7cc5-4b99-8f67-4dee29e131c6   4,4,87eb9ad7-7cc5-4b99-8f67-4dee29e131c6',\n",
       "     'resumo_oae_atual_guarda_rodas': ' 1 1            4,4,87eb9ad7-7cc5-4b99-8f67-4dee29e131c6   4,4,87eb9ad7-7cc5-4b99-8f67-4dee29e131c6',\n",
       "     'resum_oae_atual_superestrutura': ' 1 1            4,4,87eb9ad7-7cc5-4b99-8f67-4dee29e131c6   4,4,87eb9ad7-7cc5-4b99-8f67-4dee29e131c6',\n",
       "     'resumo_oae_anterior_iluminacao': ' 1 1            4,4,87eb9ad7-7cc5-4b99-8f67-4dee29e131c6   4,4,87eb9ad7-7cc5-4b99-8f67-4dee29e131c6',\n",
       "     'resumo_oae_atual_guarda_corpos': ' 1 1            4,4,87eb9ad7-7cc5-4b99-8f67-4dee29e131c6   4,4,87eb9ad7-7cc5-4b99-8f67-4dee29e131c6',\n",
       "     'resumo_oae_atual_mesoestrutura': ' 1 1            4,4,87eb9ad7-7cc5-4b99-8f67-4dee29e131c6   4,4,87eb9ad7-7cc5-4b99-8f67-4dee29e131c6',\n",
       "     'resumo_oae_anterior_acostamento': ' 1 1            4,4,87eb9ad7-7cc5-4b99-8f67-4dee29e131c6   4,4,87eb9ad7-7cc5-4b99-8f67-4dee29e131c6',\n",
       "     'resumo_oae_anterior_sinalizacao': ' 1 1            4,4,87eb9ad7-7cc5-4b99-8f67-4dee29e131c6   4,4,87eb9ad7-7cc5-4b99-8f67-4dee29e131c6',\n",
       "     'resumo_oae_anterior_guarda_rodas': ' 1 1            4,4,87eb9ad7-7cc5-4b99-8f67-4dee29e131c6   4,4,87eb9ad7-7cc5-4b99-8f67-4dee29e131c6',\n",
       "     'resumo_oae_anterior_guarda_corpos': ' 1 1            4,4,87eb9ad7-7cc5-4b99-8f67-4dee29e131c6   4,4,87eb9ad7-7cc5-4b99-8f67-4dee29e131c6',\n",
       "     'resumo_oae_anterior_mesoestrutura': ' 1 1            4,4,87eb9ad7-7cc5-4b99-8f67-4dee29e131c6   4,4,87eb9ad7-7cc5-4b99-8f67-4dee29e131c6',\n",
       "     'resumo_oae_anterior_superestrutura': ' 1 1            4,4,87eb9ad7-7cc5-4b99-8f67-4dee29e131c6   4,4,87eb9ad7-7cc5-4b99-8f67-4dee29e131c6'}, 'form_metadata': {'uf': {'manually_specified': False},\n",
       "     'resumo_oae_atual_juntas': {'manually_specified': True},\n",
       "     'resumo_oae_atual_pilares': {'manually_specified': True},\n",
       "     'resumo_oae_atual_taludes': {'manually_specified': True},\n",
       "     'resumo_oae_atual_drenagem': {'manually_specified': True},\n",
       "     'resumo_oae_anterior_juntas': {'manually_specified': True},\n",
       "     'resumo_oae_atual_encontros': {'manually_specified': True},\n",
       "     'resumo_oae_atual_gabaritos': {'manually_specified': True},\n",
       "     'resumo_oae_atual_pavimento': {'manually_specified': True},\n",
       "     'resumo_oae_anterior_pilares': {'manually_specified': True},\n",
       "     'resumo_oae_anterior_taludes': {'manually_specified': True},\n",
       "     'resumo_oae_atual_iluminacao': {'manually_specified': True},\n",
       "     'resumo_oae_anterior_drenagem': {'manually_specified': True},\n",
       "     'resumo_oae_atual_acostamento': {'manually_specified': True},\n",
       "     'resumo_oae_atual_sinalizacao': {'manually_specified': True},\n",
       "     'resumo_oae_anterior_encontros': {'manually_specified': True},\n",
       "     'resumo_oae_anterior_gabaritos': {'manually_specified': True},\n",
       "     'resumo_oae_anterior_pavimento': {'manually_specified': True},\n",
       "     'resumo_oae_atual_guarda_rodas': {'manually_specified': True},\n",
       "     'resum_oae_atual_superestrutura': {'manually_specified': True},\n",
       "     'resumo_oae_anterior_iluminacao': {'manually_specified': True},\n",
       "     'resumo_oae_atual_guarda_corpos': {'manually_specified': True},\n",
       "     'resumo_oae_atual_mesoestrutura': {'manually_specified': True},\n",
       "     'resumo_oae_anterior_acostamento': {'manually_specified': True},\n",
       "     'resumo_oae_anterior_sinalizacao': {'manually_specified': True},\n",
       "     'resumo_oae_anterior_guarda_rodas': {'manually_specified': True},\n",
       "     'resumo_oae_anterior_guarda_corpos': {'manually_specified': True},\n",
       "     'resumo_oae_anterior_mesoestrutura': {'manually_specified': True},\n",
       "     'resumo_oae_anterior_superestrutura': {'manually_specified': True}}, 'created_at': datetime.datetime(2023, 10, 5, 12, 14, 28, 688992, tzinfo=<UTC>), 'updated_at': datetime.datetime(2023, 10, 5, 12, 29, 55, 14107, tzinfo=<UTC>), 'found_at': datetime.datetime(2023, 10, 5, 10, 45, 32, 275000, tzinfo=<UTC>), 'status': UUID('4d0453c9-49d3-43ec-9dc6-a592cf9d8c56'), 'job': UUID('5536f3eb-d7d1-4952-95b0-3dfe109ece7b'), 'parent': UUID('14a8ee90-457f-48a3-a6e5-78c1c3b7d304'), 'due_at_manually_specified': False, 'end_km_manually_specified': False, 'project_end_km_manually_specified': False, 'editable': True, 'approval_step': UUID('a3136f17-7545-47e2-aee6-4221db062c34'), 'keywords': \"OAE 101 RJ 382+700 S  Superestrutura Laje superior None 2 Concreto desagregado com armadura exposta RASO ['7', 'f7072173-83a4-4192-850d-da54a1e654db'] Aparelhos de apoio 1 Neoprene Armadura exposta com perda de seção maior que 20% ['4', '4', '87eb9ad7-7cc5-4b99-8f67-4dee29e131c6']  1 1            4,4,87eb9ad7-7cc5-4b99-8f67-4dee29e131c6   4,4,87eb9ad7-7cc5-4b99-8f67-4dee29e131c6\", 'lot': '4'}}})"
      ]
     },
     "execution_count": 37,
     "metadata": {},
     "output_type": "execute_result"
    }
   ],
   "source": [
    "reps_n_recuperacao[0].occurrence_type,reps_n_recuperacao[0].__dict__"
   ]
  },
  {
   "cell_type": "code",
   "execution_count": 36,
   "id": "f952239e",
   "metadata": {},
   "outputs": [
    {
     "data": {
      "text/plain": [
       "38"
      ]
     },
     "execution_count": 36,
     "metadata": {},
     "output_type": "execute_result"
    }
   ],
   "source": [
    "counter2"
   ]
  },
  {
   "cell_type": "markdown",
   "id": "ec8da6cf",
   "metadata": {},
   "source": [
    "# Copiar usuários do ambiente compartilhado para CCR"
   ]
  },
  {
   "cell_type": "code",
   "execution_count": 2,
   "id": "d03d9fd1",
   "metadata": {},
   "outputs": [],
   "source": [
    "from copy import deepcopy\n",
    "import json"
   ]
  },
  {
   "cell_type": "code",
   "execution_count": 8,
   "id": "47f49842",
   "metadata": {},
   "outputs": [],
   "source": [
    "data=[]\n",
    "with open('data.json', 'r+') as fo:\n",
    "    form = json.load(fo)\n",
    "#     print(form.model)\n",
    "data.append(json.loads(form))"
   ]
  },
  {
   "cell_type": "code",
   "execution_count": 11,
   "id": "88155717",
   "metadata": {},
   "outputs": [
    {
     "data": {
      "text/plain": [
       "<CompanyGroup: [marcos] CCR>"
      ]
     },
     "execution_count": 11,
     "metadata": {},
     "output_type": "execute_result"
    }
   ],
   "source": [
    "company_group= CompanyGroup.objects.first()\n",
    "company_group"
   ]
  },
  {
   "cell_type": "code",
   "execution_count": 22,
   "id": "2ff16edf",
   "metadata": {},
   "outputs": [],
   "source": [
    "data_import=[]\n",
    "for x in data:\n",
    "    try:\n",
    "        \n",
    "        for a in x:\n",
    "            user=User()\n",
    "            for field in User._meta.fields:\n",
    "                if field.name == 'company_group':\n",
    "                    setattr(user, field.name, company_group)\n",
    "                    continue\n",
    "                if field.name in ['supervisor','responsible']:\n",
    "                    continue\n",
    "                setattr(user, field.name, a['fields'].get(field.name))\n",
    "\n",
    "            data_import.append(user)\n",
    "    except Exception as e:\n",
    "        print(x,e)"
   ]
  },
  {
   "cell_type": "code",
   "execution_count": 23,
   "id": "ae6eae08",
   "metadata": {
    "collapsed": true
   },
   "outputs": [
    {
     "data": {
      "text/plain": [
       "[<User: andre.coelho - ANDRE COELHO>,\n",
       " <User: tiago.vieira.silva - TIAGO VIEIRA SILVA>,\n",
       " <User: rodrigo.cardoso - RODRIGO CARDOSO>,\n",
       " <User: leandro.quintiliano - LEANDRO QUINTILIANO>,\n",
       " <User: henio.fioruci - HENIO FIORUCI>,\n",
       " <User: claudio.pieri - CLAUDIO PIERI>,\n",
       " <User: isabela.silveira - Isabela Corrêa Silveira>,\n",
       " <User: mauri.lagares - MAURI LAGARES>,\n",
       " <User: israel.rodrigues - ISRAEL RODRIGUES>,\n",
       " <User: nilton.lima - NILTON LIMA>,\n",
       " <User: michel.silva - MICHEL SILVA>,\n",
       " <User: leandro.gonçalves - LEANDRO GONÇALVES>,\n",
       " <User: leonardo.cazeiro - Leonardo Cazeiro>,\n",
       " <User: ezequiel.pereira - EZEQUIEL PEREIRA>,\n",
       " <User: ricardo.marino - RICARDO MARINO>,\n",
       " <User: david.oliveira - David Oliveira>,\n",
       " <User: dhiego.silvestree - DHIEGO SILVESTRE>,\n",
       " <User: carlos.henrique.vieira - CARLOS HENRIQUE VIEIRA>,\n",
       " <User: isabela.braz - isabela braz>,\n",
       " <User: joao.roberto.mello - JOAO ROBERTO MELLO>,\n",
       " <User: jorgeluiz.batista - JORGE BATISTA>,\n",
       " <User: mateus.cravo - MATEUS CRAVO>,\n",
       " <User: ademir.queiroz - ADEMIR QUEIROZ>,\n",
       " <User: milton.martins - Milton Martins>,\n",
       " <User: andreluiz.oliveira - ANDRE OLIVEIRA>,\n",
       " <User: eduardo.lima - EDUARDO LIMA>,\n",
       " <User: jose.francisco.almeida - JOSE FRANCISCO ALMEIDA>,\n",
       " <User: sergio.augusto.silva - SERGIO AUGUSTO SILVA>,\n",
       " <User: roberto.fogaça - ROBERTO FOGAÇA>,\n",
       " <User: edivaldo.vicena - EDIVALDO VICENA>,\n",
       " <User: dirceu.lopes - DIRCEU LOPES>,\n",
       " <User: marcelo.ferreira - MARCELO FERREIRA>,\n",
       " <User: daniella.gomes - Daniella Da Silva Gomes>,\n",
       " <User: Dirceu.Lopes - Dirceu Lopes>,\n",
       " <User: leticia.lopes - Letícia Lopes>,\n",
       " <User: felipe.vieira - FELIPE RIBEIRO>,\n",
       " <User: Alisson.elo - Alisson Galvani ELO>,\n",
       " <User: daniel.francisco - DANIEL FRANCISCO>,\n",
       " <User: diego.maia - Diego Maia>,\n",
       " <User: donizeti.santos - DONIZETI SANTOS>,\n",
       " <User: jose.luiz.silva - JOSE LUIZ SILVA>,\n",
       " <User: marcos.francisco.santos - MARCOS FRANCISCO SANTOS>,\n",
       " <User: marcelo.nascimento - MARCELO NASCIMENTO>,\n",
       " <User: denilson.camargo - DENILSON CAMARGO>,\n",
       " <User: robson.nascimento - ROBSON NASCIMENTO>,\n",
       " <User: milton.elias.costa - MILTON ELIAS COSTA>,\n",
       " <User: uilson.ferreira - UILSON FERREIRA>,\n",
       " <User: elias.antonio - ELIAS ANTONIO>,\n",
       " <User: arnaldo.silva - ARNALDO SILVA>,\n",
       " <User: marcio.antonio.barros - MARCIO ANTONIO BARROS>,\n",
       " <User: antoniomilton.braz - ANTONIO BRAZ>,\n",
       " <User: sergio.scaglione - Sergio Scaglione Neto>,\n",
       " <User: valdemir.almeida - VALDEMIR ALMEIDA>,\n",
       " <User: marcio.lacerda - MARCIO LACERDA>,\n",
       " <User: mauro.domingues - MAURO DOMINGUES>,\n",
       " <User: douglas.proenca - DOUGLAS PROENÇA>,\n",
       " <User: carlos.alexandre.vieira - CARLOS ALEXANDRE VIEIRA>,\n",
       " <User: lucas.cardoso - LUCAS CARDOSO>,\n",
       " <User: milton.costa - MILTON COSTA>,\n",
       " <User: flavio.freitas - Flavio Ferreira de Freitas>,\n",
       " <User: Jose.Queiroz - Jose Queiroz>,\n",
       " <User: isaias.dina - ISAIAS DINA>,\n",
       " <User: samuel.santos - SAMUEL SANTOS>,\n",
       " <User: leandro.salvador - LEANDRO SALVADOR>,\n",
       " <User: carla.devides - Carla Devides>,\n",
       " <User: anderson.marino - ANDERSON MARINO>]"
      ]
     },
     "execution_count": 23,
     "metadata": {},
     "output_type": "execute_result"
    }
   ],
   "source": [
    "data_import"
   ]
  },
  {
   "cell_type": "code",
   "execution_count": 27,
   "id": "1dad5a48",
   "metadata": {},
   "outputs": [
    {
     "data": {
      "text/plain": [
       "<Company: 161ab539-eea0-4c7c-8e9f-99058261f850: CCR - SPVias>"
      ]
     },
     "execution_count": 27,
     "metadata": {},
     "output_type": "execute_result"
    }
   ],
   "source": [
    "company = Company.objects.get(name='CCR - SPVias')\n",
    "up = UserPermission.objects.filter(companies=company)\n",
    "company"
   ]
  },
  {
   "cell_type": "code",
   "execution_count": 28,
   "id": "ac3a5efd",
   "metadata": {},
   "outputs": [
    {
     "data": {
      "text/plain": [
       "<QuerySet [<UserPermission: ['CCR - Rio Sp', 'CCR - AutoBAn', 'CCR - RodoAnel', 'CCR - SPVias'] - Suporte>, <UserPermission: ['CCR - Rio Sp', 'CCR - AutoBAn', 'CCR - RodoAnel', 'CCR - SPVias'] - Fiscal>, <UserPermission: ['CCR - Rio Sp', 'CCR - AutoBAn', 'CCR - RodoAnel', 'CCR - SPVias'] - Terceiro (campo)>, <UserPermission: ['CCR - Rio Sp', 'CCR - AutoBAn', 'CCR - RodoAnel', 'CCR - SPVias'] - Administrador>, <UserPermission: ['CCR - Rio Sp', 'CCR - AutoBAn', 'CCR - RodoAnel', 'CCR - SPVias'] - Sala técnica operacional>, <UserPermission: ['CCR - Rio Sp', 'CCR - AutoBAn', 'CCR - RodoAnel', 'CCR - SPVias'] - Usuário padrão>, <UserPermission: ['CCR - Rio Sp', 'CCR - AutoBAn', 'CCR - RodoAnel', 'CCR - SPVias'] - Terceiro (escritório)>, <UserPermission: ['CCR - Rio Sp', 'CCR - AutoBAn', 'CCR - RodoAnel', 'CCR - SPVias'] - Regulador>, <UserPermission: ['CCR - Rio Sp', 'CCR - AutoBAn', 'CCR - RodoAnel', 'CCR - SPVias'] - Coordenador>, <UserPermission: ['CCR - Rio Sp', 'CCR - AutoBAn', 'CCR - RodoAnel', 'CCR - SPVias'] - Núcleo técnico>, <UserPermission: ['CCR - Rio Sp', 'CCR - AutoBAn', 'CCR - RodoAnel', 'CCR - SPVias'] - Sala técnica gerencial>, <UserPermission: ['CCR - Rio Sp', 'CCR - AutoBAn', 'CCR - RodoAnel', 'CCR - SPVias'] - Inspetor>, <UserPermission: ['CCR - Rio Sp', 'CCR - AutoBAn', 'CCR - RodoAnel', 'CCR - SPVias'] - Coordenador/Gerente>]>"
      ]
     },
     "execution_count": 28,
     "metadata": {},
     "output_type": "execute_result"
    }
   ],
   "source": [
    "up"
   ]
  },
  {
   "cell_type": "code",
   "execution_count": 15,
   "id": "6e625c07",
   "metadata": {
    "collapsed": true
   },
   "outputs": [
    {
     "ename": "TypeError",
     "evalue": "string indices must be integers",
     "output_type": "error",
     "traceback": [
      "\u001b[0;31m---------------------------------------------------------------------------\u001b[0m",
      "\u001b[0;31mTypeError\u001b[0m                                 Traceback (most recent call last)",
      "\u001b[0;32m/tmp/ipykernel_38602/351140855.py\u001b[0m in \u001b[0;36m<module>\u001b[0;34m\u001b[0m\n\u001b[0;32m----> 1\u001b[0;31m \u001b[0mgetattr\u001b[0m\u001b[0;34m(\u001b[0m\u001b[0ma\u001b[0m\u001b[0;34m[\u001b[0m\u001b[0;34m'fields'\u001b[0m\u001b[0;34m]\u001b[0m\u001b[0;34m,\u001b[0m \u001b[0mfield\u001b[0m\u001b[0;34m.\u001b[0m\u001b[0mname\u001b[0m\u001b[0;34m)\u001b[0m\u001b[0;34m\u001b[0m\u001b[0;34m\u001b[0m\u001b[0m\n\u001b[0m",
      "\u001b[0;31mTypeError\u001b[0m: string indices must be integers"
     ]
    }
   ],
   "source": [
    "for a in data_import:\n",
    "#     a.save()\n",
    "    ui = UserInCompany(company=company,permissions=,user=a)\n",
    "#     ui.save()"
   ]
  },
  {
   "cell_type": "code",
   "execution_count": 17,
   "id": "8310b354",
   "metadata": {},
   "outputs": [
    {
     "data": {
      "text/plain": [
       "(<django.db.models.fields.UUIDField: uuid>,\n",
       " <django.db.models.fields.related.ForeignKey: company>,\n",
       " <django.db.models.fields.TextField: title>,\n",
       " <django.db.models.fields.TextField: content_plain_text>,\n",
       " <django.db.models.fields.TextField: content_html>,\n",
       " <django.db.models.fields.BooleanField: cleared>,\n",
       " <django.db.models.fields.BooleanField: in_progress>,\n",
       " <django.db.models.fields.BooleanField: sent>,\n",
       " <django.db.models.fields.BooleanField: error>,\n",
       " <django.db.models.fields.DateTimeField: created_at>,\n",
       " <django.db.models.fields.DateTimeField: updated_at>,\n",
       " <django.db.models.fields.BooleanField: send_anyway>,\n",
       " <django.contrib.postgres.fields.jsonb.JSONField: custom_headers>,\n",
       " <django.db.models.fields.related.ForeignKey: content_type>,\n",
       " <django.db.models.fields.UUIDField: object_id>)"
      ]
     },
     "execution_count": 17,
     "metadata": {},
     "output_type": "execute_result"
    }
   ],
   "source": [
    "QueuedEmail._meta.fields"
   ]
  },
  {
   "cell_type": "code",
   "execution_count": 19,
   "id": "d731196c",
   "metadata": {},
   "outputs": [
    {
     "data": {
      "text/plain": [
       "31"
      ]
     },
     "execution_count": 19,
     "metadata": {},
     "output_type": "execute_result"
    }
   ],
   "source": [
    "QueuedEmail.objects.filter(title__icontains='senha',error=True).update(sent=True)"
   ]
  },
  {
   "cell_type": "code",
   "execution_count": 16,
   "id": "1f413b4e",
   "metadata": {},
   "outputs": [
    {
     "data": {
      "text/plain": [
       "{'_state': <django.db.models.base.ModelState at 0x7f5f09ff9410>,\n",
       " 'uuid': UUID('e9fe9752-cabe-45a1-86b2-7d6fdff057a2'),\n",
       " 'company_id': None,\n",
       " 'title': 'Redefinição da sua senha Kartado',\n",
       " 'content_plain_text': 'Olá,\\n\\nVocê solicitou a redefinição da sua senha de acesso à plataforma Kartado!\\n\\nUtilize o link abaixo para alterar a senha:\\nPor favor, para garantir o funcionamento, acesse esse link pelos navegadores Chrome ou Firefox.\\n\\nhttps://homolog-ccr.kartado.com.br/#/ResetPassword/?token=3d6dda58fac138e550c4472f30a0a51937d25a7c\\n\\nEssa solicitação corresponde ao usuário:\\n\\nUsername: leonardo.bruxel\\nEmail: leonardo.bruxel@kartado.com.br\\n\\n\\n',\n",
       " 'content_html': '',\n",
       " 'cleared': True,\n",
       " 'in_progress': False,\n",
       " 'sent': False,\n",
       " 'error': True,\n",
       " 'created_at': datetime.datetime(2023, 12, 7, 20, 18, 58, 192255, tzinfo=<UTC>),\n",
       " 'updated_at': datetime.datetime(2023, 12, 7, 20, 21, 33, 485588, tzinfo=<UTC>),\n",
       " 'send_anyway': True,\n",
       " 'custom_headers': {},\n",
       " 'content_type_id': 9,\n",
       " 'object_id': UUID('2579ec70-aca4-4b4a-8315-a1371888b43f')}"
      ]
     },
     "execution_count": 16,
     "metadata": {},
     "output_type": "execute_result"
    }
   ],
   "source": [
    "qe[1].__dict__"
   ]
  },
  {
   "cell_type": "code",
   "execution_count": 15,
   "id": "3524ea26",
   "metadata": {},
   "outputs": [
    {
     "data": {
      "text/plain": [
       "438"
      ]
     },
     "execution_count": 15,
     "metadata": {},
     "output_type": "execute_result"
    }
   ],
   "source": [
    "uic=UserInCompany.objects.all().exclude(user__email__icontains='kartado').only('user__saml_nameid',\n",
    "                                                                               'permissions__name',\n",
    "                                                                               'company__name').distinct().order_by('user__first_name')\n",
    "uic.count()"
   ]
  },
  {
   "cell_type": "code",
   "execution_count": 16,
   "id": "efe0f573",
   "metadata": {},
   "outputs": [
    {
     "data": {
      "text/plain": [
       "{'_state': <django.db.models.base.ModelState at 0x7faf24d7e7d0>,\n",
       " 'uuid': UUID('41857f64-f186-432f-b304-0253d19ced7e'),\n",
       " 'user_id': UUID('d076e06e-2b7b-4232-8bc8-3575a46389f9'),\n",
       " 'company_id': UUID('3af64f25-59e8-446b-bb1e-963549090b0d'),\n",
       " 'permissions_id': UUID('0a5e630e-7cf7-497e-a755-580e39070712')}"
      ]
     },
     "execution_count": 16,
     "metadata": {},
     "output_type": "execute_result"
    }
   ],
   "source": [
    "uic[0].__dict__"
   ]
  },
  {
   "cell_type": "code",
   "execution_count": 17,
   "id": "87b461e7",
   "metadata": {},
   "outputs": [],
   "source": [
    "data=[]\n",
    "for a in uic:\n",
    "    temp={}\n",
    "    temp['Nome Usuário'] = a.user.full_name\n",
    "    temp['Login Azure'] = a.user.saml_nameid\n",
    "    temp['Nivel de Acesso'] = a.permissions.name\n",
    "    temp['Unidade'] = a.company.name\n",
    "    data.append(temp)\n",
    "#     print(a.user.full_name,' | ',a.user.saml_nameid,)"
   ]
  },
  {
   "cell_type": "code",
   "execution_count": 19,
   "id": "90ec4a38",
   "metadata": {},
   "outputs": [
    {
     "data": {
      "text/plain": [
       "{'Nome Usuário': 'Adebiyi Rodrigue Virgile Alitonou',\n",
       " 'Login Azure': 'adebiyi.alitonou@grupoccr.com.br',\n",
       " 'Nivel de Acesso': 'Coordenador/Gerente',\n",
       " 'Unidade': 'CCR - Rio Sp'}"
      ]
     },
     "execution_count": 19,
     "metadata": {},
     "output_type": "execute_result"
    }
   ],
   "source": [
    "data[0]"
   ]
  },
  {
   "cell_type": "code",
   "execution_count": 21,
   "id": "2890a5d8",
   "metadata": {},
   "outputs": [],
   "source": [
    "import pandas as pd"
   ]
  },
  {
   "cell_type": "code",
   "execution_count": 29,
   "id": "8a11064e",
   "metadata": {},
   "outputs": [],
   "source": [
    "df = pd.DataFrame(data=data)"
   ]
  },
  {
   "cell_type": "code",
   "execution_count": 32,
   "id": "5dd3adae",
   "metadata": {},
   "outputs": [],
   "source": [
    "df=df.set_index(['Nome Usuário'])"
   ]
  },
  {
   "cell_type": "code",
   "execution_count": 33,
   "id": "dbb37e2b",
   "metadata": {},
   "outputs": [],
   "source": [
    "df.to_excel('CCRLogins.xlsx')"
   ]
  },
  {
   "cell_type": "code",
   "execution_count": 7,
   "id": "3529b0f4",
   "metadata": {},
   "outputs": [],
   "source": [
    "user = User.objects.get(username='isabela.silveira')"
   ]
  },
  {
   "cell_type": "code",
   "execution_count": 4,
   "id": "f4cafce1",
   "metadata": {},
   "outputs": [],
   "source": [
    "rep = Reporting.history.filter(number='CCR-DEF-2023.00003', company__name='CCR - SPVias')"
   ]
  },
  {
   "cell_type": "code",
   "execution_count": 8,
   "id": "dd3f2ba3",
   "metadata": {},
   "outputs": [
    {
     "name": "stdout",
     "output_type": "stream",
     "text": [
      "- Criado\n",
      "~ Criado\n",
      "+ Criado\n"
     ]
    }
   ],
   "source": [
    "for a in rep:\n",
    "    print(a.history_type,a.approval_step.name)"
   ]
  },
  {
   "cell_type": "code",
   "execution_count": 1,
   "id": "920bdda7",
   "metadata": {},
   "outputs": [
    {
     "data": {
      "text/plain": [
       "<QuerySet [<Company: be176150-b4da-4162-9eec-67f6db3f5612: CCR - RodoAnel>, <Company: 161ab539-eea0-4c7c-8e9f-99058261f850: CCR - SPVias>, <Company: 385c3404-2c8b-4987-8015-9b93e044aa6d: CCR - AutoBAn>, <Company: 3af64f25-59e8-446b-bb1e-963549090b0d: CCR - Rio Sp>]>"
      ]
     },
     "execution_count": 1,
     "metadata": {},
     "output_type": "execute_result"
    }
   ],
   "source": [
    "Company.objects.all()"
   ]
  },
  {
   "cell_type": "markdown",
   "id": "d27007c2",
   "metadata": {},
   "source": [
    "# Alteração de Apontamentos"
   ]
  },
  {
   "cell_type": "code",
   "execution_count": 1,
   "id": "2bc61b48",
   "metadata": {},
   "outputs": [],
   "source": [
    "from helpers.histories import bulk_update_with_history\n",
    "from tqdm.notebook import tqdm"
   ]
  },
  {
   "cell_type": "code",
   "execution_count": 2,
   "id": "d576dadd",
   "metadata": {},
   "outputs": [],
   "source": [
    "reps=Reporting.objects.filter(form_data__has_key='inspection_campaign_year')"
   ]
  },
  {
   "cell_type": "code",
   "execution_count": 3,
   "id": "bdf04ff4",
   "metadata": {},
   "outputs": [
    {
     "data": {
      "text/plain": [
       "19140"
      ]
     },
     "execution_count": 3,
     "metadata": {},
     "output_type": "execute_result"
    }
   ],
   "source": [
    "reps.count()"
   ]
  },
  {
   "cell_type": "code",
   "execution_count": 11,
   "id": "f924e18c",
   "metadata": {},
   "outputs": [
    {
     "data": {
      "application/vnd.jupyter.widget-view+json": {
       "model_id": "0694cfbc2e864730aee1853d06d346f5",
       "version_major": 2,
       "version_minor": 0
      },
      "text/plain": [
       "  0%|          | 0/19140 [00:00<?, ?it/s]"
      ]
     },
     "metadata": {},
     "output_type": "display_data"
    }
   ],
   "source": [
    "rep_edit=[]\n",
    "for a in tqdm(reps):\n",
    "    if isinstance(a.form_data['inspection_campaign_year'],int):\n",
    "        pass\n",
    "    else:\n",
    "        a.form_data['inspection_campaign_year'] = int(a.form_data['inspection_campaign_year']) if a.form_data['inspection_campaign_year'] is not None else None\n",
    "        a.save()"
   ]
  },
  {
   "cell_type": "code",
   "execution_count": 12,
   "id": "f440054e",
   "metadata": {},
   "outputs": [
    {
     "data": {
      "text/plain": [
       "211"
      ]
     },
     "execution_count": 12,
     "metadata": {},
     "output_type": "execute_result"
    }
   ],
   "source": [
    "len(rep_edit)"
   ]
  },
  {
   "cell_type": "code",
   "execution_count": 13,
   "id": "abb382be",
   "metadata": {},
   "outputs": [],
   "source": [
    "user=User.objects.get(username='rlcs')\n",
    "apontamentos = bulk_update_with_history(rep_edit,Reporting, use_django_bulk=True,batch_size=50,user=user)b"
   ]
  },
  {
   "cell_type": "markdown",
   "id": "16a16e51",
   "metadata": {},
   "source": [
    "# Alteração de apontamentos apiName"
   ]
  },
  {
   "cell_type": "code",
   "execution_count": null,
   "id": "77604254",
   "metadata": {},
   "outputs": [],
   "source": [
    "for a in tqdm(reps):\n",
    "    a.form_data['apiNameNovo'] = a.form_data['apiNameAntigo']\n",
    "    del a.form_data['apiNameAntigo']\n",
    "    a.save()"
   ]
  }
 ],
 "metadata": {
  "kernelspec": {
   "display_name": "Django Shell-Plus",
   "language": "python",
   "name": "django_extensions"
  },
  "language_info": {
   "codemirror_mode": {
    "name": "ipython",
    "version": 3
   },
   "file_extension": ".py",
   "mimetype": "text/x-python",
   "name": "python",
   "nbconvert_exporter": "python",
   "pygments_lexer": "ipython3",
   "version": "3.7.9"
  }
 },
 "nbformat": 4,
 "nbformat_minor": 5
}
