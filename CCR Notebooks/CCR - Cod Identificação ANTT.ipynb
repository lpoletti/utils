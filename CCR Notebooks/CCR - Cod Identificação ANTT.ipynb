{
 "cells": [
  {
   "cell_type": "code",
   "execution_count": 6,
   "id": "49ea13f6",
   "metadata": {},
   "outputs": [
    {
     "name": "stdout",
     "output_type": "stream",
     "text": [
      "STAGE=CCR_HOMOLOG\r\n"
     ]
    }
   ],
   "source": [
    "!cat .env"
   ]
  },
  {
   "cell_type": "code",
   "execution_count": 7,
   "id": "101d1f95",
   "metadata": {},
   "outputs": [
    {
     "data": {
      "text/plain": [
       "<QuerySet [<Company: 385c3404-2c8b-4987-8015-9b93e044aa6d: CCR - AutoBAn>, <Company: be176150-b4da-4162-9eec-67f6db3f5612: CCR - RodoAnel>, <Company: 161ab539-eea0-4c7c-8e9f-99058261f850: CCR - SPVias>, <Company: 3af64f25-59e8-446b-bb1e-963549090b0d: CCR - Rio Sp>]>"
      ]
     },
     "execution_count": 7,
     "metadata": {},
     "output_type": "execute_result"
    }
   ],
   "source": [
    "Company.objects.all()"
   ]
  },
  {
   "cell_type": "markdown",
   "id": "6f4a64df",
   "metadata": {},
   "source": [
    "# Criar idCcrAntt Inicio"
   ]
  },
  {
   "cell_type": "code",
   "execution_count": 4,
   "id": "104ad07c",
   "metadata": {},
   "outputs": [],
   "source": [
    "from tqdm.notebook import tqdm\n",
    "from helpers.histories import bulk_update_with_history"
   ]
  },
  {
   "cell_type": "code",
   "execution_count": 5,
   "id": "fee68fad",
   "metadata": {},
   "outputs": [],
   "source": [
    "occs=[]\n",
    "for a in OccurrenceType.objects.filter(company__name=\"CCR - Rio Sp\"):\n",
    "    for b in a.form_fields['fields']:\n",
    "        if b['apiName'] == 'idCcrAntt':\n",
    "            if b.get('autofill'):\n",
    "                occs.append(a)"
   ]
  },
  {
   "cell_type": "code",
   "execution_count": 2,
   "id": "9a9b9f00",
   "metadata": {},
   "outputs": [],
   "source": [
    "traduzirDirectionValue = lambda value: ''.join([item['name'] for item in Company.objects.get(name='CCR - Rio Sp').custom_options['reporting']['fields']['direction']['selectOptions']['options'] if item['value'].lower() == value.lower()])"
   ]
  },
  {
   "cell_type": "code",
   "execution_count": 13,
   "id": "26d6ac7d",
   "metadata": {},
   "outputs": [
    {
     "data": {
      "application/vnd.jupyter.widget-view+json": {
       "model_id": "17c3b4eb693f402fbc0fa6a415d93fbb",
       "version_major": 2,
       "version_minor": 0
      },
      "text/plain": [
       "  0%|          | 0/23899 [00:00<?, ?it/s]"
      ]
     },
     "metadata": {},
     "output_type": "display_data"
    }
   ],
   "source": [
    "reps=[]\n",
    "for rep in tqdm(Reporting.objects.filter(company__name=\"CCR - Rio Sp\",occurrence_type__in=occs).exclude(occurrence_type__name='Drenagem Superficial')):\n",
    "     if rep.form_data.get('id_ccr_antt') == '' or rep.form_data.get('id_ccr_antt') == None or not rep.form_data.get('id_ccr_antt'):\n",
    "        try:\n",
    "            abrev = next(a.get('autofill').get('cat')[0] for a in rep.occurrence_type.form_fields['fields'] if a['apiName'] == 'idCcrAntt' and a.get('autofill'))\n",
    "            if not abrev:\n",
    "                print(rep.occurrence_type.name)\n",
    "            else:\n",
    "                if len(str(rep.km).split('.')[1])== 0:\n",
    "                    metros=str(rep.km).replace(\",\",\"+\").replace(\".\",\"+\")+'000'\n",
    "                elif len(str(rep.km).split('.')[1])== 1:\n",
    "                    metros=str(rep.km).replace(\",\",\"+\").replace(\".\",\"+\")+\"00\"\n",
    "                elif len(str(rep.km).split('.')[1])== 2:\n",
    "                    metros=str(rep.km).replace(\",\",\"+\").replace(\".\",\"+\")+\"0\"\n",
    "                else: \n",
    "                    metros=str(rep.km).replace(\",\",\"+\").replace(\".\",\"+\")\n",
    "                rep.form_data['id_ccr_antt'] = f'''{abrev}{rep.road_name[3:]} {metros} {traduzirDirectionValue(rep.direction)[0]}{\" \"+str(rep.form_data.get('index')) if rep.form_data.get('index') else \"\"}'''\n",
    "                reps.append(rep)\n",
    "    #             print(f'''{abrev}{rep.road_name[3:]} {metros} {traduzirDirectionValue(rep.direction)[0]}{\" \"+str(rep.form_data.get('index')) if rep.form_data.get('index') else \"\"}''')\n",
    "            abrev=''\n",
    "        except Exception as e:\n",
    "            print(rep.number,rep.occurrence_type.name, e)\n",
    "#     else: \n",
    "#         pass"
   ]
  },
  {
   "cell_type": "code",
   "execution_count": 15,
   "id": "9d6eaad1",
   "metadata": {},
   "outputs": [],
   "source": [
    "user=User.objects.get(username=\"rlcs\")"
   ]
  },
  {
   "cell_type": "code",
   "execution_count": 16,
   "id": "e882dd75",
   "metadata": {},
   "outputs": [],
   "source": [
    "apontamentos = bulk_update_with_history(reps,Reporting, use_django_bulk=True,batch_size=500,user=user)"
   ]
  },
  {
   "cell_type": "markdown",
   "id": "0b51c2fc",
   "metadata": {},
   "source": [
    "# Criar idCcrAntt Fim"
   ]
  },
  {
   "cell_type": "markdown",
   "id": "fb74f1be",
   "metadata": {},
   "source": [
    "# Criar idCcrAntt Inicio para Drenagem Superficial "
   ]
  },
  {
   "cell_type": "code",
   "execution_count": 17,
   "id": "3f4536a7",
   "metadata": {},
   "outputs": [],
   "source": [
    "from tqdm.notebook import tqdm\n",
    "from helpers.histories import bulk_update_with_history"
   ]
  },
  {
   "cell_type": "code",
   "execution_count": 18,
   "id": "0f5faa7d",
   "metadata": {},
   "outputs": [],
   "source": [
    "traduzirDirectionValue = lambda value: ''.join([item['name'] for item in Company.objects.get(name='CCR - Rio Sp').custom_options['reporting']['fields']['direction']['selectOptions']['options'] if item['value'].lower() == value.lower()])"
   ]
  },
  {
   "cell_type": "code",
   "execution_count": 26,
   "id": "2ef35213",
   "metadata": {},
   "outputs": [
    {
     "data": {
      "application/vnd.jupyter.widget-view+json": {
       "model_id": "579c7d69030c4461a27a3a9ef57caec3",
       "version_major": 2,
       "version_minor": 0
      },
      "text/plain": [
       "  0%|          | 0/8069 [00:00<?, ?it/s]"
      ]
     },
     "metadata": {},
     "output_type": "display_data"
    }
   ],
   "source": [
    "reps=[]\n",
    "for rep in tqdm(Reporting.objects.filter(company__name=\"CCR - Rio Sp\",occurrence_type__name='Drenagem Superficial').exclude(form_data__has_key='id_ccr_antt')):\n",
    "# for rep in tqdm(teste):\n",
    "    if rep.form_data.get('id_ccr_antt') == '' or rep.form_data.get('id_ccr_antt') == None or not rep.form_data.get('id_ccr_antt'):\n",
    "        try:\n",
    "            if rep.form_data.get('elemento') in ['1','2']:\n",
    "                abrev='DA '\n",
    "            elif rep.form_data.get('elemento') in ['3']:\n",
    "                abrev='DI '\n",
    "            elif rep.form_data.get('elemento') in ['4']:\n",
    "                abrev='MF '\n",
    "            elif rep.form_data.get('elemento') in ['5']:\n",
    "                abrev='SJ '\n",
    "            elif rep.form_data.get('elemento') in ['6']:\n",
    "                abrev='VA '\n",
    "            elif rep.form_data.get('elemento') in ['7']:\n",
    "                abrev='TSS '\n",
    "#             abrev = next(a.get('autofill').get('cat')[0] for a in rep.occurrence_type.form_fields['fields'] if a['apiName'] == 'idCcrAntt' and a.get('autofill'))\n",
    "            if not abrev:\n",
    "                print(rep.occurrence_type.name)\n",
    "            else:\n",
    "                if len(str(rep.km).split('.')[1])== 0:\n",
    "                    metros=str(rep.km).replace(\",\",\"+\").replace(\".\",\"+\")+'000'\n",
    "                elif len(str(rep.km).split('.')[1])== 1:\n",
    "                    metros=str(rep.km).replace(\",\",\"+\").replace(\".\",\"+\")+\"00\"\n",
    "                elif len(str(rep.km).split('.')[1])== 2:\n",
    "                    metros=str(rep.km).replace(\",\",\"+\").replace(\".\",\"+\")+\"0\"\n",
    "                else: \n",
    "                    metros=str(rep.km).replace(\",\",\"+\").replace(\".\",\"+\")\n",
    "                rep.form_data['id_ccr_antt'] = f'''{abrev}{rep.road_name[3:]} {metros} {traduzirDirectionValue(rep.direction)[0]}{\" \"+str(rep.form_data.get('index')) if rep.form_data.get('index') else \"\"}'''\n",
    "#                 print(rep.form_data)\n",
    "                reps.append(rep)\n",
    "#                 print(f'''{abrev}{rep.road_name[3:]} {metros} {traduzirDirectionValue(rep.direction)[0]}{\" \"+str(rep.form_data.get('index')) if rep.form_data.get('index') else \"\"}''')\n",
    "            abrev=''\n",
    "        except Exception as e:\n",
    "            print(rep.number,rep.occurrence_type.name, e)\n",
    "    else: \n",
    "        pass"
   ]
  },
  {
   "cell_type": "code",
   "execution_count": 27,
   "id": "cb67c459",
   "metadata": {},
   "outputs": [
    {
     "data": {
      "text/plain": [
       "(8069, 'MF 101 RJ 410+967 S 1')"
      ]
     },
     "execution_count": 27,
     "metadata": {},
     "output_type": "execute_result"
    }
   ],
   "source": [
    "len(reps),reps[0].form_data['id_ccr_antt']"
   ]
  },
  {
   "cell_type": "code",
   "execution_count": 28,
   "id": "c5b2b636",
   "metadata": {},
   "outputs": [],
   "source": [
    "user=User.objects.get(username=\"rlcs\")"
   ]
  },
  {
   "cell_type": "code",
   "execution_count": 29,
   "id": "20531dc2",
   "metadata": {},
   "outputs": [],
   "source": [
    "apontamentos = bulk_update_with_history(reps,Reporting, use_django_bulk=True,batch_size=1000,user=user)"
   ]
  },
  {
   "cell_type": "code",
   "execution_count": null,
   "id": "830c12ac",
   "metadata": {},
   "outputs": [],
   "source": []
  },
  {
   "cell_type": "code",
   "execution_count": null,
   "id": "a89f9cca",
   "metadata": {},
   "outputs": [],
   "source": []
  },
  {
   "cell_type": "markdown",
   "id": "1a2c85a7",
   "metadata": {},
   "source": [
    "# Testes"
   ]
  },
  {
   "cell_type": "code",
   "execution_count": 5,
   "id": "1a9fa399",
   "metadata": {
    "scrolled": true
   },
   "outputs": [
    {
     "data": {
      "text/plain": [
       "dict"
      ]
     },
     "execution_count": 5,
     "metadata": {},
     "output_type": "execute_result"
    }
   ],
   "source": [
    "reps[0].occurrence_type,\n",
    "obj_serialized = get_obj_serialized(reps[0], is_reporting=True)\n",
    "type(obj_serialized)"
   ]
  },
  {
   "cell_type": "code",
   "execution_count": 6,
   "id": "43f4eb64",
   "metadata": {
    "collapsed": true
   },
   "outputs": [
    {
     "data": {
      "application/vnd.jupyter.widget-view+json": {
       "model_id": "ef282398c5c24a0ba44e7ce3063250e4",
       "version_major": 2,
       "version_minor": 0
      },
      "text/plain": [
       "  0%|          | 0/1 [00:00<?, ?it/s]"
      ]
     },
     "metadata": {},
     "output_type": "display_data"
    },
    {
     "ename": "TypeError",
     "evalue": "'float' object is not subscriptable",
     "output_type": "error",
     "traceback": [
      "\u001b[0;31m---------------------------------------------------------------------------\u001b[0m",
      "\u001b[0;31mTypeError\u001b[0m                                 Traceback (most recent call last)",
      "\u001b[0;32m/tmp/ipykernel_49917/1719972828.py\u001b[0m in \u001b[0;36m<module>\u001b[0;34m\u001b[0m\n\u001b[1;32m      4\u001b[0m     \u001b[0;32mfor\u001b[0m \u001b[0mc\u001b[0m \u001b[0;32min\u001b[0m \u001b[0ma\u001b[0m\u001b[0;34m.\u001b[0m\u001b[0moccurrence_type\u001b[0m\u001b[0;34m.\u001b[0m\u001b[0mform_fields\u001b[0m\u001b[0;34m[\u001b[0m\u001b[0;34m'fields'\u001b[0m\u001b[0;34m]\u001b[0m\u001b[0;34m:\u001b[0m\u001b[0;34m\u001b[0m\u001b[0;34m\u001b[0m\u001b[0m\n\u001b[1;32m      5\u001b[0m         \u001b[0;32mif\u001b[0m \u001b[0mc\u001b[0m\u001b[0;34m[\u001b[0m\u001b[0;34m'apiName'\u001b[0m\u001b[0;34m]\u001b[0m \u001b[0;34m==\u001b[0m \u001b[0;34m'idCcrAntt'\u001b[0m\u001b[0;34m:\u001b[0m\u001b[0;34m\u001b[0m\u001b[0;34m\u001b[0m\u001b[0m\n\u001b[0;32m----> 6\u001b[0;31m             \u001b[0mautofillCCR\u001b[0m \u001b[0;34m=\u001b[0m \u001b[0mjsonLogic\u001b[0m\u001b[0;34m(\u001b[0m\u001b[0mc\u001b[0m\u001b[0;34m[\u001b[0m\u001b[0;34m'autofill'\u001b[0m\u001b[0;34m]\u001b[0m\u001b[0;34m,\u001b[0m\u001b[0mobj_serialized\u001b[0m\u001b[0;34m)\u001b[0m\u001b[0;34m\u001b[0m\u001b[0;34m\u001b[0m\u001b[0m\n\u001b[0m\u001b[1;32m      7\u001b[0m     \u001b[0mprint\u001b[0m\u001b[0;34m(\u001b[0m\u001b[0mautofillCCR\u001b[0m\u001b[0;34m)\u001b[0m\u001b[0;34m\u001b[0m\u001b[0;34m\u001b[0m\u001b[0m\n",
      "\u001b[0;32m~/.cache/pypoetry/virtualenvs/apps-ZFymp6kh-py3.7/lib/python3.7/site-packages/json_logic/__init__.py\u001b[0m in \u001b[0;36mjsonLogic\u001b[0;34m(logic, data)\u001b[0m\n\u001b[1;32m    802\u001b[0m \u001b[0;34m\u001b[0m\u001b[0m\n\u001b[1;32m    803\u001b[0m     \u001b[0;31m# Recursion!\u001b[0m\u001b[0;34m\u001b[0m\u001b[0;34m\u001b[0m\u001b[0;34m\u001b[0m\u001b[0m\n\u001b[0;32m--> 804\u001b[0;31m     \u001b[0mvalues\u001b[0m \u001b[0;34m=\u001b[0m \u001b[0;34m[\u001b[0m\u001b[0mjsonLogic\u001b[0m\u001b[0;34m(\u001b[0m\u001b[0mval\u001b[0m\u001b[0;34m,\u001b[0m \u001b[0mdata\u001b[0m\u001b[0;34m)\u001b[0m \u001b[0;32mfor\u001b[0m \u001b[0mval\u001b[0m \u001b[0;32min\u001b[0m \u001b[0mvalues\u001b[0m\u001b[0;34m]\u001b[0m\u001b[0;34m\u001b[0m\u001b[0;34m\u001b[0m\u001b[0m\n\u001b[0m\u001b[1;32m    805\u001b[0m \u001b[0;34m\u001b[0m\u001b[0m\n\u001b[1;32m    806\u001b[0m     \u001b[0;31m# Apply data retrieval operations\u001b[0m\u001b[0;34m\u001b[0m\u001b[0;34m\u001b[0m\u001b[0;34m\u001b[0m\u001b[0m\n",
      "\u001b[0;32m~/.cache/pypoetry/virtualenvs/apps-ZFymp6kh-py3.7/lib/python3.7/site-packages/json_logic/__init__.py\u001b[0m in \u001b[0;36m<listcomp>\u001b[0;34m(.0)\u001b[0m\n\u001b[1;32m    802\u001b[0m \u001b[0;34m\u001b[0m\u001b[0m\n\u001b[1;32m    803\u001b[0m     \u001b[0;31m# Recursion!\u001b[0m\u001b[0;34m\u001b[0m\u001b[0;34m\u001b[0m\u001b[0;34m\u001b[0m\u001b[0m\n\u001b[0;32m--> 804\u001b[0;31m     \u001b[0mvalues\u001b[0m \u001b[0;34m=\u001b[0m \u001b[0;34m[\u001b[0m\u001b[0mjsonLogic\u001b[0m\u001b[0;34m(\u001b[0m\u001b[0mval\u001b[0m\u001b[0;34m,\u001b[0m \u001b[0mdata\u001b[0m\u001b[0;34m)\u001b[0m \u001b[0;32mfor\u001b[0m \u001b[0mval\u001b[0m \u001b[0;32min\u001b[0m \u001b[0mvalues\u001b[0m\u001b[0;34m]\u001b[0m\u001b[0;34m\u001b[0m\u001b[0;34m\u001b[0m\u001b[0m\n\u001b[0m\u001b[1;32m    805\u001b[0m \u001b[0;34m\u001b[0m\u001b[0m\n\u001b[1;32m    806\u001b[0m     \u001b[0;31m# Apply data retrieval operations\u001b[0m\u001b[0;34m\u001b[0m\u001b[0;34m\u001b[0m\u001b[0;34m\u001b[0m\u001b[0m\n",
      "\u001b[0;32m~/.cache/pypoetry/virtualenvs/apps-ZFymp6kh-py3.7/lib/python3.7/site-packages/json_logic/__init__.py\u001b[0m in \u001b[0;36mjsonLogic\u001b[0;34m(logic, data)\u001b[0m\n\u001b[1;32m    794\u001b[0m     \u001b[0;31m# depth-first calculating consequents. Let each manage recursion as needed.\u001b[0m\u001b[0;34m\u001b[0m\u001b[0;34m\u001b[0m\u001b[0;34m\u001b[0m\u001b[0m\n\u001b[1;32m    795\u001b[0m     \u001b[0;32mif\u001b[0m \u001b[0moperator\u001b[0m \u001b[0;32min\u001b[0m \u001b[0m_logical_operations\u001b[0m\u001b[0;34m:\u001b[0m\u001b[0;34m\u001b[0m\u001b[0;34m\u001b[0m\u001b[0m\n\u001b[0;32m--> 796\u001b[0;31m         \u001b[0;32mreturn\u001b[0m \u001b[0m_logical_operations\u001b[0m\u001b[0;34m[\u001b[0m\u001b[0moperator\u001b[0m\u001b[0;34m]\u001b[0m\u001b[0;34m(\u001b[0m\u001b[0mdata\u001b[0m\u001b[0;34m,\u001b[0m \u001b[0;34m*\u001b[0m\u001b[0mvalues\u001b[0m\u001b[0;34m)\u001b[0m\u001b[0;34m\u001b[0m\u001b[0;34m\u001b[0m\u001b[0m\n\u001b[0m\u001b[1;32m    797\u001b[0m \u001b[0;34m\u001b[0m\u001b[0m\n\u001b[1;32m    798\u001b[0m     \u001b[0;31m# Next up, try applying scoped operations that manage their own data scopes\u001b[0m\u001b[0;34m\u001b[0m\u001b[0;34m\u001b[0m\u001b[0;34m\u001b[0m\u001b[0m\n",
      "\u001b[0;32m~/.cache/pypoetry/virtualenvs/apps-ZFymp6kh-py3.7/lib/python3.7/site-packages/json_logic/__init__.py\u001b[0m in \u001b[0;36m_if\u001b[0;34m(data, *args)\u001b[0m\n\u001b[1;32m    384\u001b[0m     \u001b[0;32mfor\u001b[0m \u001b[0mi\u001b[0m \u001b[0;32min\u001b[0m \u001b[0mrange\u001b[0m\u001b[0;34m(\u001b[0m\u001b[0;36m0\u001b[0m\u001b[0;34m,\u001b[0m \u001b[0mlen\u001b[0m\u001b[0;34m(\u001b[0m\u001b[0margs\u001b[0m\u001b[0;34m)\u001b[0m \u001b[0;34m-\u001b[0m \u001b[0;36m1\u001b[0m\u001b[0;34m,\u001b[0m \u001b[0;36m2\u001b[0m\u001b[0;34m)\u001b[0m\u001b[0;34m:\u001b[0m\u001b[0;34m\u001b[0m\u001b[0;34m\u001b[0m\u001b[0m\n\u001b[1;32m    385\u001b[0m         \u001b[0;32mif\u001b[0m \u001b[0m_truthy\u001b[0m\u001b[0;34m(\u001b[0m\u001b[0mjsonLogic\u001b[0m\u001b[0;34m(\u001b[0m\u001b[0margs\u001b[0m\u001b[0;34m[\u001b[0m\u001b[0mi\u001b[0m\u001b[0;34m]\u001b[0m\u001b[0;34m,\u001b[0m \u001b[0mdata\u001b[0m\u001b[0;34m)\u001b[0m\u001b[0;34m)\u001b[0m\u001b[0;34m:\u001b[0m\u001b[0;34m\u001b[0m\u001b[0;34m\u001b[0m\u001b[0m\n\u001b[0;32m--> 386\u001b[0;31m             \u001b[0;32mreturn\u001b[0m \u001b[0mjsonLogic\u001b[0m\u001b[0;34m(\u001b[0m\u001b[0margs\u001b[0m\u001b[0;34m[\u001b[0m\u001b[0mi\u001b[0m \u001b[0;34m+\u001b[0m \u001b[0;36m1\u001b[0m\u001b[0;34m]\u001b[0m\u001b[0;34m,\u001b[0m \u001b[0mdata\u001b[0m\u001b[0;34m)\u001b[0m\u001b[0;34m\u001b[0m\u001b[0;34m\u001b[0m\u001b[0m\n\u001b[0m\u001b[1;32m    387\u001b[0m     \u001b[0;32mif\u001b[0m \u001b[0mlen\u001b[0m\u001b[0;34m(\u001b[0m\u001b[0margs\u001b[0m\u001b[0;34m)\u001b[0m \u001b[0;34m%\u001b[0m \u001b[0;36m2\u001b[0m\u001b[0;34m:\u001b[0m\u001b[0;34m\u001b[0m\u001b[0;34m\u001b[0m\u001b[0m\n\u001b[1;32m    388\u001b[0m         \u001b[0;32mreturn\u001b[0m \u001b[0mjsonLogic\u001b[0m\u001b[0;34m(\u001b[0m\u001b[0margs\u001b[0m\u001b[0;34m[\u001b[0m\u001b[0;34m-\u001b[0m\u001b[0;36m1\u001b[0m\u001b[0;34m]\u001b[0m\u001b[0;34m,\u001b[0m \u001b[0mdata\u001b[0m\u001b[0;34m)\u001b[0m\u001b[0;34m\u001b[0m\u001b[0;34m\u001b[0m\u001b[0m\n",
      "\u001b[0;32m~/.cache/pypoetry/virtualenvs/apps-ZFymp6kh-py3.7/lib/python3.7/site-packages/json_logic/__init__.py\u001b[0m in \u001b[0;36mjsonLogic\u001b[0;34m(logic, data)\u001b[0m\n\u001b[1;32m    802\u001b[0m \u001b[0;34m\u001b[0m\u001b[0m\n\u001b[1;32m    803\u001b[0m     \u001b[0;31m# Recursion!\u001b[0m\u001b[0;34m\u001b[0m\u001b[0;34m\u001b[0m\u001b[0;34m\u001b[0m\u001b[0m\n\u001b[0;32m--> 804\u001b[0;31m     \u001b[0mvalues\u001b[0m \u001b[0;34m=\u001b[0m \u001b[0;34m[\u001b[0m\u001b[0mjsonLogic\u001b[0m\u001b[0;34m(\u001b[0m\u001b[0mval\u001b[0m\u001b[0;34m,\u001b[0m \u001b[0mdata\u001b[0m\u001b[0;34m)\u001b[0m \u001b[0;32mfor\u001b[0m \u001b[0mval\u001b[0m \u001b[0;32min\u001b[0m \u001b[0mvalues\u001b[0m\u001b[0;34m]\u001b[0m\u001b[0;34m\u001b[0m\u001b[0;34m\u001b[0m\u001b[0m\n\u001b[0m\u001b[1;32m    805\u001b[0m \u001b[0;34m\u001b[0m\u001b[0m\n\u001b[1;32m    806\u001b[0m     \u001b[0;31m# Apply data retrieval operations\u001b[0m\u001b[0;34m\u001b[0m\u001b[0;34m\u001b[0m\u001b[0;34m\u001b[0m\u001b[0m\n",
      "\u001b[0;32m~/.cache/pypoetry/virtualenvs/apps-ZFymp6kh-py3.7/lib/python3.7/site-packages/json_logic/__init__.py\u001b[0m in \u001b[0;36m<listcomp>\u001b[0;34m(.0)\u001b[0m\n\u001b[1;32m    802\u001b[0m \u001b[0;34m\u001b[0m\u001b[0m\n\u001b[1;32m    803\u001b[0m     \u001b[0;31m# Recursion!\u001b[0m\u001b[0;34m\u001b[0m\u001b[0;34m\u001b[0m\u001b[0;34m\u001b[0m\u001b[0m\n\u001b[0;32m--> 804\u001b[0;31m     \u001b[0mvalues\u001b[0m \u001b[0;34m=\u001b[0m \u001b[0;34m[\u001b[0m\u001b[0mjsonLogic\u001b[0m\u001b[0;34m(\u001b[0m\u001b[0mval\u001b[0m\u001b[0;34m,\u001b[0m \u001b[0mdata\u001b[0m\u001b[0;34m)\u001b[0m \u001b[0;32mfor\u001b[0m \u001b[0mval\u001b[0m \u001b[0;32min\u001b[0m \u001b[0mvalues\u001b[0m\u001b[0;34m]\u001b[0m\u001b[0;34m\u001b[0m\u001b[0;34m\u001b[0m\u001b[0m\n\u001b[0m\u001b[1;32m    805\u001b[0m \u001b[0;34m\u001b[0m\u001b[0m\n\u001b[1;32m    806\u001b[0m     \u001b[0;31m# Apply data retrieval operations\u001b[0m\u001b[0;34m\u001b[0m\u001b[0;34m\u001b[0m\u001b[0;34m\u001b[0m\u001b[0m\n",
      "\u001b[0;32m~/.cache/pypoetry/virtualenvs/apps-ZFymp6kh-py3.7/lib/python3.7/site-packages/json_logic/__init__.py\u001b[0m in \u001b[0;36mjsonLogic\u001b[0;34m(logic, data)\u001b[0m\n\u001b[1;32m    814\u001b[0m     \u001b[0;31m# Apply common operations\u001b[0m\u001b[0;34m\u001b[0m\u001b[0;34m\u001b[0m\u001b[0;34m\u001b[0m\u001b[0m\n\u001b[1;32m    815\u001b[0m     \u001b[0;32mif\u001b[0m \u001b[0moperator\u001b[0m \u001b[0;32min\u001b[0m \u001b[0m_common_operations\u001b[0m\u001b[0;34m:\u001b[0m\u001b[0;34m\u001b[0m\u001b[0;34m\u001b[0m\u001b[0m\n\u001b[0;32m--> 816\u001b[0;31m         \u001b[0;32mreturn\u001b[0m \u001b[0m_common_operations\u001b[0m\u001b[0;34m[\u001b[0m\u001b[0moperator\u001b[0m\u001b[0;34m]\u001b[0m\u001b[0;34m(\u001b[0m\u001b[0;34m*\u001b[0m\u001b[0mvalues\u001b[0m\u001b[0;34m)\u001b[0m\u001b[0;34m\u001b[0m\u001b[0;34m\u001b[0m\u001b[0m\n\u001b[0m\u001b[1;32m    817\u001b[0m \u001b[0;34m\u001b[0m\u001b[0m\n\u001b[1;32m    818\u001b[0m     \u001b[0;31m# Apply unsupported common operations if any\u001b[0m\u001b[0;34m\u001b[0m\u001b[0;34m\u001b[0m\u001b[0;34m\u001b[0m\u001b[0m\n",
      "\u001b[0;32m~/.cache/pypoetry/virtualenvs/apps-ZFymp6kh-py3.7/lib/python3.7/site-packages/json_logic/__init__.py\u001b[0m in \u001b[0;36m_substring\u001b[0;34m(source, start, length)\u001b[0m\n\u001b[1;32m    222\u001b[0m     \u001b[0mOmitted\u001b[0m \u001b[0;34m'length'\u001b[0m\u001b[0;34m:\u001b[0m \u001b[0;32mreturn\u001b[0m \u001b[0mpart\u001b[0m \u001b[0;32mfrom\u001b[0m \u001b[0mthe\u001b[0m \u001b[0;34m'start'\u001b[0m \u001b[0mtill\u001b[0m \u001b[0mthe\u001b[0m \u001b[0mend\u001b[0m \u001b[0mof\u001b[0m \u001b[0mthe\u001b[0m \u001b[0mstring\u001b[0m\u001b[0;34m.\u001b[0m\u001b[0;34m\u001b[0m\u001b[0;34m\u001b[0m\u001b[0m\n\u001b[1;32m    223\u001b[0m     \"\"\"\n\u001b[0;32m--> 224\u001b[0;31m     \u001b[0;32mreturn\u001b[0m \u001b[0msource\u001b[0m\u001b[0;34m[\u001b[0m\u001b[0mstart\u001b[0m\u001b[0;34m:\u001b[0m\u001b[0;34m]\u001b[0m\u001b[0;34m[\u001b[0m\u001b[0;34m:\u001b[0m\u001b[0mlength\u001b[0m\u001b[0;34m]\u001b[0m\u001b[0;34m\u001b[0m\u001b[0;34m\u001b[0m\u001b[0m\n\u001b[0m\u001b[1;32m    225\u001b[0m \u001b[0;34m\u001b[0m\u001b[0m\n\u001b[1;32m    226\u001b[0m \u001b[0;34m\u001b[0m\u001b[0m\n",
      "\u001b[0;31mTypeError\u001b[0m: 'float' object is not subscriptable"
     ]
    }
   ],
   "source": [
    "for a in tqdm(reps[:1]):\n",
    "    obj_serialized = get_obj_serialized(a, is_reporting=True)\n",
    "\n",
    "    for c in a.occurrence_type.form_fields['fields']:\n",
    "        if c['apiName'] == 'idCcrAntt':\n",
    "            autofillCCR = jsonLogic(c['autofill'],obj_serialized)\n",
    "    print(autofillCCR)"
   ]
  },
  {
   "cell_type": "code",
   "execution_count": 87,
   "id": "4d23180c",
   "metadata": {
    "scrolled": true
   },
   "outputs": [
    {
     "data": {
      "text/plain": [
       "{'cat': ['OC ',\n",
       "  {'cat': [{'substr': [{'var': 'roadName'}, 3, -3]}, ' ']},\n",
       "  {'substr': [{'var': 'roadName'}, -2, 2]},\n",
       "  ' ',\n",
       "  {'if': [{'<': [{'var': 'km'}, 10]},\n",
       "    {'cat': ['00',\n",
       "      {'substr': [{'var': 'km'}, 0, 1]},\n",
       "      '+',\n",
       "      {'if': [{'==': [{'substr': [{'var': 'km'}, 2, 10]}, 0]},\n",
       "        '000',\n",
       "        {'==': [{'substr': [{'var': 'km'}, 3, 10]}, 0]},\n",
       "        {'cat': [{'substr': [{'var': 'km'}, 2, 1]}, '00']},\n",
       "        {'==': [{'substr': [{'var': 'km'}, 4, 10]}, 0]},\n",
       "        {'cat': [{'substr': [{'var': 'km'}, 2, 2]}, '0']},\n",
       "        {'substr': [{'var': 'km'}, 2]}]}]},\n",
       "    {'and': [{'>=': [{'var': 'km'}, 10]}, {'<': [{'var': 'km'}, 100]}]},\n",
       "    {'cat': ['0',\n",
       "      {'substr': [{'var': 'km'}, 0, 2]},\n",
       "      '+',\n",
       "      {'if': [{'==': [{'substr': [{'var': 'km'}, 3, 10]}, 0]},\n",
       "        '000',\n",
       "        {'==': [{'substr': [{'var': 'km'}, 4, 10]}, 0]},\n",
       "        {'cat': [{'substr': [{'var': 'km'}, 3, 1]}, '00']},\n",
       "        {'==': [{'substr': [{'var': 'km'}, 5, 10]}, 0]},\n",
       "        {'cat': [{'substr': [{'var': 'km'}, 3, 2]}, '0']},\n",
       "        {'substr': [{'var': 'km'}, 3]}]}]},\n",
       "    {'and': [{'>=': [{'var': 'km'}, 100]}, {'<': [{'var': 'km'}, 1000]}]},\n",
       "    {'cat': [{'substr': [{'var': 'km'}, 0, 3]},\n",
       "      '+',\n",
       "      {'if': [{'==': [{'substr': [{'var': 'km'}, 4, 10]}, 0]},\n",
       "        '000',\n",
       "        {'==': [{'substr': [{'var': 'km'}, 5, 10]}, 0]},\n",
       "        {'cat': [{'substr': [{'var': 'km'}, 4, 1]}, '00']},\n",
       "        {'==': [{'substr': [{'var': 'km'}, 6, 10]}, 0]},\n",
       "        {'cat': [{'substr': [{'var': 'km'}, 4, 2]}, '0']},\n",
       "        {'substr': [{'var': 'km'}, 4]}]}]}]},\n",
       "  ' ',\n",
       "  {'substr': [{'if': [{'==': [{'var': 'direction'}, 0]},\n",
       "      'N',\n",
       "      {'==': [{'var': 'direction'}, 1]},\n",
       "      'S',\n",
       "      {'==': [{'var': 'direction'}, 2]},\n",
       "      'L',\n",
       "      {'==': [{'var': 'direction'}, 3]},\n",
       "      'O',\n",
       "      {'==': [{'var': 'direction'}, 4]},\n",
       "      'NS',\n",
       "      {'==': [{'var': 'direction'}, 5]},\n",
       "      'LO',\n",
       "      {'==': [{'var': 'direction'}, 6]},\n",
       "      'C',\n",
       "      {'==': [{'var': 'direction'}, 7]},\n",
       "      'D',\n",
       "      {'==': [{'var': 'direction'}, 8]},\n",
       "      'CC',\n",
       "      {'==': [{'var': 'direction'}, 9]},\n",
       "      'A',\n",
       "      {'==': [{'var': 'direction'}, 10]},\n",
       "      'TR',\n",
       "      {'==': [{'var': 'direction'}, 11]},\n",
       "      'NA']}]},\n",
       "  {'cat': [' ', {'var': 'formData.index'}]}]}"
      ]
     },
     "execution_count": 87,
     "metadata": {},
     "output_type": "execute_result"
    }
   ],
   "source": [
    "reps[0].occurrence_type.form_fields['fields'][0]['autofill']."
   ]
  },
  {
   "cell_type": "code",
   "execution_count": 79,
   "id": "5ec5c3ca",
   "metadata": {
    "scrolled": true
   },
   "outputs": [
    {
     "data": {
      "application/vnd.jupyter.widget-view+json": {
       "model_id": "4e4a7b441c914f7a99f03a2d32af24fe",
       "version_major": 2,
       "version_minor": 0
      },
      "text/plain": [
       "  0%|          | 0/1 [00:00<?, ?it/s]"
      ]
     },
     "metadata": {},
     "output_type": "display_data"
    },
    {
     "ename": "JSONDecodeError",
     "evalue": "Expecting property name enclosed in double quotes: line 1 column 2 (char 1)",
     "output_type": "error",
     "traceback": [
      "\u001b[0;31m---------------------------------------------------------------------------\u001b[0m",
      "\u001b[0;31mJSONDecodeError\u001b[0m                           Traceback (most recent call last)",
      "\u001b[0;32m/tmp/ipykernel_49579/1039393297.py\u001b[0m in \u001b[0;36m<module>\u001b[0;34m\u001b[0m\n\u001b[1;32m      4\u001b[0m         \u001b[0;32mfor\u001b[0m \u001b[0mc\u001b[0m \u001b[0;32min\u001b[0m \u001b[0mocc\u001b[0m\u001b[0;34m.\u001b[0m\u001b[0mform_fields\u001b[0m\u001b[0;34m[\u001b[0m\u001b[0;34m'fields'\u001b[0m\u001b[0;34m]\u001b[0m\u001b[0;34m:\u001b[0m\u001b[0;34m\u001b[0m\u001b[0;34m\u001b[0m\u001b[0m\n\u001b[1;32m      5\u001b[0m             \u001b[0;32mif\u001b[0m \u001b[0mc\u001b[0m\u001b[0;34m[\u001b[0m\u001b[0;34m'apiName'\u001b[0m\u001b[0;34m]\u001b[0m \u001b[0;34m==\u001b[0m \u001b[0;34m'idCcrAntt'\u001b[0m\u001b[0;34m:\u001b[0m\u001b[0;34m\u001b[0m\u001b[0;34m\u001b[0m\u001b[0m\n\u001b[0;32m----> 6\u001b[0;31m                 \u001b[0mautofillCCR\u001b[0m \u001b[0;34m=\u001b[0m \u001b[0mjsonLogic\u001b[0m\u001b[0;34m(\u001b[0m\u001b[0mjson\u001b[0m\u001b[0;34m.\u001b[0m\u001b[0mloads\u001b[0m\u001b[0;34m(\u001b[0m\u001b[0mstr\u001b[0m\u001b[0;34m(\u001b[0m\u001b[0mc\u001b[0m\u001b[0;34m[\u001b[0m\u001b[0;34m'autofill'\u001b[0m\u001b[0;34m]\u001b[0m\u001b[0;34m)\u001b[0m\u001b[0;34m)\u001b[0m\u001b[0;34m)\u001b[0m\u001b[0;34m\u001b[0m\u001b[0;34m\u001b[0m\u001b[0m\n\u001b[0m\u001b[1;32m      7\u001b[0m         \u001b[0mprint\u001b[0m\u001b[0;34m(\u001b[0m\u001b[0mautofillCCR\u001b[0m\u001b[0;34m)\u001b[0m\u001b[0;34m\u001b[0m\u001b[0;34m\u001b[0m\u001b[0m\n",
      "\u001b[0;32m~/.pyenv/versions/3.7.9/lib/python3.7/json/__init__.py\u001b[0m in \u001b[0;36mloads\u001b[0;34m(s, encoding, cls, object_hook, parse_float, parse_int, parse_constant, object_pairs_hook, **kw)\u001b[0m\n\u001b[1;32m    346\u001b[0m             \u001b[0mparse_int\u001b[0m \u001b[0;32mis\u001b[0m \u001b[0;32mNone\u001b[0m \u001b[0;32mand\u001b[0m \u001b[0mparse_float\u001b[0m \u001b[0;32mis\u001b[0m \u001b[0;32mNone\u001b[0m \u001b[0;32mand\u001b[0m\u001b[0;34m\u001b[0m\u001b[0;34m\u001b[0m\u001b[0m\n\u001b[1;32m    347\u001b[0m             parse_constant is None and object_pairs_hook is None and not kw):\n\u001b[0;32m--> 348\u001b[0;31m         \u001b[0;32mreturn\u001b[0m \u001b[0m_default_decoder\u001b[0m\u001b[0;34m.\u001b[0m\u001b[0mdecode\u001b[0m\u001b[0;34m(\u001b[0m\u001b[0ms\u001b[0m\u001b[0;34m)\u001b[0m\u001b[0;34m\u001b[0m\u001b[0;34m\u001b[0m\u001b[0m\n\u001b[0m\u001b[1;32m    349\u001b[0m     \u001b[0;32mif\u001b[0m \u001b[0mcls\u001b[0m \u001b[0;32mis\u001b[0m \u001b[0;32mNone\u001b[0m\u001b[0;34m:\u001b[0m\u001b[0;34m\u001b[0m\u001b[0;34m\u001b[0m\u001b[0m\n\u001b[1;32m    350\u001b[0m         \u001b[0mcls\u001b[0m \u001b[0;34m=\u001b[0m \u001b[0mJSONDecoder\u001b[0m\u001b[0;34m\u001b[0m\u001b[0;34m\u001b[0m\u001b[0m\n",
      "\u001b[0;32m~/.pyenv/versions/3.7.9/lib/python3.7/json/decoder.py\u001b[0m in \u001b[0;36mdecode\u001b[0;34m(self, s, _w)\u001b[0m\n\u001b[1;32m    335\u001b[0m \u001b[0;34m\u001b[0m\u001b[0m\n\u001b[1;32m    336\u001b[0m         \"\"\"\n\u001b[0;32m--> 337\u001b[0;31m         \u001b[0mobj\u001b[0m\u001b[0;34m,\u001b[0m \u001b[0mend\u001b[0m \u001b[0;34m=\u001b[0m \u001b[0mself\u001b[0m\u001b[0;34m.\u001b[0m\u001b[0mraw_decode\u001b[0m\u001b[0;34m(\u001b[0m\u001b[0ms\u001b[0m\u001b[0;34m,\u001b[0m \u001b[0midx\u001b[0m\u001b[0;34m=\u001b[0m\u001b[0m_w\u001b[0m\u001b[0;34m(\u001b[0m\u001b[0ms\u001b[0m\u001b[0;34m,\u001b[0m \u001b[0;36m0\u001b[0m\u001b[0;34m)\u001b[0m\u001b[0;34m.\u001b[0m\u001b[0mend\u001b[0m\u001b[0;34m(\u001b[0m\u001b[0;34m)\u001b[0m\u001b[0;34m)\u001b[0m\u001b[0;34m\u001b[0m\u001b[0;34m\u001b[0m\u001b[0m\n\u001b[0m\u001b[1;32m    338\u001b[0m         \u001b[0mend\u001b[0m \u001b[0;34m=\u001b[0m \u001b[0m_w\u001b[0m\u001b[0;34m(\u001b[0m\u001b[0ms\u001b[0m\u001b[0;34m,\u001b[0m \u001b[0mend\u001b[0m\u001b[0;34m)\u001b[0m\u001b[0;34m.\u001b[0m\u001b[0mend\u001b[0m\u001b[0;34m(\u001b[0m\u001b[0;34m)\u001b[0m\u001b[0;34m\u001b[0m\u001b[0;34m\u001b[0m\u001b[0m\n\u001b[1;32m    339\u001b[0m         \u001b[0;32mif\u001b[0m \u001b[0mend\u001b[0m \u001b[0;34m!=\u001b[0m \u001b[0mlen\u001b[0m\u001b[0;34m(\u001b[0m\u001b[0ms\u001b[0m\u001b[0;34m)\u001b[0m\u001b[0;34m:\u001b[0m\u001b[0;34m\u001b[0m\u001b[0;34m\u001b[0m\u001b[0m\n",
      "\u001b[0;32m~/.pyenv/versions/3.7.9/lib/python3.7/json/decoder.py\u001b[0m in \u001b[0;36mraw_decode\u001b[0;34m(self, s, idx)\u001b[0m\n\u001b[1;32m    351\u001b[0m         \"\"\"\n\u001b[1;32m    352\u001b[0m         \u001b[0;32mtry\u001b[0m\u001b[0;34m:\u001b[0m\u001b[0;34m\u001b[0m\u001b[0;34m\u001b[0m\u001b[0m\n\u001b[0;32m--> 353\u001b[0;31m             \u001b[0mobj\u001b[0m\u001b[0;34m,\u001b[0m \u001b[0mend\u001b[0m \u001b[0;34m=\u001b[0m \u001b[0mself\u001b[0m\u001b[0;34m.\u001b[0m\u001b[0mscan_once\u001b[0m\u001b[0;34m(\u001b[0m\u001b[0ms\u001b[0m\u001b[0;34m,\u001b[0m \u001b[0midx\u001b[0m\u001b[0;34m)\u001b[0m\u001b[0;34m\u001b[0m\u001b[0;34m\u001b[0m\u001b[0m\n\u001b[0m\u001b[1;32m    354\u001b[0m         \u001b[0;32mexcept\u001b[0m \u001b[0mStopIteration\u001b[0m \u001b[0;32mas\u001b[0m \u001b[0merr\u001b[0m\u001b[0;34m:\u001b[0m\u001b[0;34m\u001b[0m\u001b[0;34m\u001b[0m\u001b[0m\n\u001b[1;32m    355\u001b[0m             \u001b[0;32mraise\u001b[0m \u001b[0mJSONDecodeError\u001b[0m\u001b[0;34m(\u001b[0m\u001b[0;34m\"Expecting value\"\u001b[0m\u001b[0;34m,\u001b[0m \u001b[0ms\u001b[0m\u001b[0;34m,\u001b[0m \u001b[0merr\u001b[0m\u001b[0;34m.\u001b[0m\u001b[0mvalue\u001b[0m\u001b[0;34m)\u001b[0m \u001b[0;32mfrom\u001b[0m \u001b[0;32mNone\u001b[0m\u001b[0;34m\u001b[0m\u001b[0;34m\u001b[0m\u001b[0m\n",
      "\u001b[0;31mJSONDecodeError\u001b[0m: Expecting property name enclosed in double quotes: line 1 column 2 (char 1)"
     ]
    }
   ],
   "source": [
    "for b in range(26):\n",
    "    for a in tqdm(reps[:1]):\n",
    "        occ=a.occurrence_type\n",
    "        for c in occ.form_fields['fields']:\n",
    "            if c['apiName'] == 'idCcrAntt':\n",
    "                autofillCCR = jsonLogic(c['autofill'])\n",
    "        print(autofillCCR)"
   ]
  },
  {
   "cell_type": "code",
   "execution_count": 51,
   "id": "0b742db0",
   "metadata": {},
   "outputs": [
    {
     "data": {
      "text/plain": [
       "{'uf': 'RJ',\n",
       " 'city': 'Angra dos Reis',\n",
       " 'zone': '2',\n",
       " 'ocupation_kind': '5',\n",
       " 'characteristics': '3',\n",
       " 'ocupation_kind_others': 'Edificação',\n",
       " 'id_ccr_antt': 'OC 101 RJ 458+280 N'}"
      ]
     },
     "execution_count": 51,
     "metadata": {},
     "output_type": "execute_result"
    }
   ],
   "source": [
    "reps[9].form_data"
   ]
  },
  {
   "cell_type": "code",
   "execution_count": 6,
   "id": "6ebd95e2",
   "metadata": {
    "scrolled": true
   },
   "outputs": [
    {
     "data": {
      "text/plain": [
       "({'cat': [{'if': [{'==': [1, {'var': 'formData.elemento'}]},\n",
       "     'DA ',\n",
       "     {'==': [2, {'var': 'formData.elemento'}]},\n",
       "     'DA ',\n",
       "     {'==': [3, {'var': 'formData.elemento'}]},\n",
       "     'DI ',\n",
       "     {'==': [4, {'var': 'formData.elemento'}]},\n",
       "     'MF ',\n",
       "     {'==': [5, {'var': 'formData.elemento'}]},\n",
       "     'SJ ',\n",
       "     {'==': [6, {'var': 'formData.elemento'}]},\n",
       "     'VA ',\n",
       "     {'==': [7, {'var': 'formData.elemento'}]},\n",
       "     'TSS ']},\n",
       "   {'cat': [{'substr': [{'var': 'roadName'}, 3, -3]}, ' ']},\n",
       "   {'var': 'formData.uf'},\n",
       "   ' ',\n",
       "   {'if': [{'<': [{'var': 'km'}, 10]},\n",
       "     {'cat': [{'substr': [{'var': 'km'}, 0, 1]},\n",
       "       '+',\n",
       "       {'if': [{'==': [{'substr': [{'var': 'km'}, 2, 10]}, 0]},\n",
       "         '000',\n",
       "         {'==': [{'substr': [{'var': 'km'}, 3, 10]}, 0]},\n",
       "         {'cat': [{'substr': [{'var': 'km'}, 2, 1]}, '00']},\n",
       "         {'==': [{'substr': [{'var': 'km'}, 4, 10]}, 0]},\n",
       "         {'cat': [{'substr': [{'var': 'km'}, 2, 2]}, '0']},\n",
       "         {'substr': [{'var': 'km'}, 2]}]}]},\n",
       "     {'and': [{'>=': [{'var': 'km'}, 10]}, {'<': [{'var': 'km'}, 100]}]},\n",
       "     {'cat': [{'substr': [{'var': 'km'}, 0, 2]},\n",
       "       '+',\n",
       "       {'if': [{'==': [{'substr': [{'var': 'km'}, 3, 10]}, 0]},\n",
       "         '000',\n",
       "         {'==': [{'substr': [{'var': 'km'}, 4, 10]}, 0]},\n",
       "         {'cat': [{'substr': [{'var': 'km'}, 3, 1]}, '00']},\n",
       "         {'==': [{'substr': [{'var': 'km'}, 5, 10]}, 0]},\n",
       "         {'cat': [{'substr': [{'var': 'km'}, 3, 2]}, '0']},\n",
       "         {'substr': [{'var': 'km'}, 3]}]}]},\n",
       "     {'and': [{'>=': [{'var': 'km'}, 100]}, {'<': [{'var': 'km'}, 1000]}]},\n",
       "     {'cat': [{'substr': [{'var': 'km'}, 0, 3]},\n",
       "       '+',\n",
       "       {'if': [{'==': [{'substr': [{'var': 'km'}, 4, 10]}, 0]},\n",
       "         '000',\n",
       "         {'==': [{'substr': [{'var': 'km'}, 5, 10]}, 0]},\n",
       "         {'cat': [{'substr': [{'var': 'km'}, 4, 1]}, '00']},\n",
       "         {'==': [{'substr': [{'var': 'km'}, 6, 10]}, 0]},\n",
       "         {'cat': [{'substr': [{'var': 'km'}, 4, 2]}, '0']},\n",
       "         {'substr': [{'var': 'km'}, 4]}]}]}]},\n",
       "   ' ',\n",
       "   {'substr': [{'if': [{'==': [{'var': 'direction'}, 0]},\n",
       "       'N',\n",
       "       {'==': [{'var': 'direction'}, 1]},\n",
       "       'S',\n",
       "       {'==': [{'var': 'direction'}, 2]},\n",
       "       'L',\n",
       "       {'==': [{'var': 'direction'}, 3]},\n",
       "       'O',\n",
       "       {'==': [{'var': 'direction'}, 4]},\n",
       "       'N/S',\n",
       "       {'==': [{'var': 'direction'}, 5]},\n",
       "       'L/O',\n",
       "       {'==': [{'var': 'direction'}, 6]},\n",
       "       'C',\n",
       "       {'==': [{'var': 'direction'}, 7]},\n",
       "       'D',\n",
       "       {'==': [{'var': 'direction'}, 8]},\n",
       "       'CC',\n",
       "       {'==': [{'var': 'direction'}, 9]},\n",
       "       'A',\n",
       "       {'==': [{'var': 'direction'}, 10]},\n",
       "       'NA']}]},\n",
       "   {'cat': [' ', {'var': 'formData.index'}]}]},\n",
       " 'Drenagem Superficial')"
      ]
     },
     "execution_count": 6,
     "metadata": {},
     "output_type": "execute_result"
    }
   ],
   "source": [
    "Reporting.objects.first().occurrence_type.form_fields['fields'][0]['autofill'],Reporting.objects.first().occurrence_type.name"
   ]
  },
  {
   "cell_type": "code",
   "execution_count": 14,
   "id": "02d6cb09",
   "metadata": {},
   "outputs": [],
   "source": [
    "rep=Reporting.objects.get(number='CCR-Inv-2023.36830')"
   ]
  },
  {
   "cell_type": "code",
   "execution_count": 16,
   "id": "505bf508",
   "metadata": {},
   "outputs": [],
   "source": [
    "rep.form_metadata['id_ccr_antt'] = {'manually_specified': False}"
   ]
  },
  {
   "cell_type": "code",
   "execution_count": 17,
   "id": "ecb9e24c",
   "metadata": {},
   "outputs": [
    {
     "name": "stdout",
     "output_type": "stream",
     "text": [
      "Searching KM on direction...\n",
      "Found KM on Road 2041: BR-101 RJ\n"
     ]
    }
   ],
   "source": [
    "rep.save()"
   ]
  },
  {
   "cell_type": "code",
   "execution_count": null,
   "id": "9fe62862",
   "metadata": {},
   "outputs": [],
   "source": []
  }
 ],
 "metadata": {
  "kernelspec": {
   "display_name": "Django Shell-Plus",
   "language": "python",
   "name": "django_extensions"
  },
  "language_info": {
   "codemirror_mode": {
    "name": "ipython",
    "version": 3
   },
   "file_extension": ".py",
   "mimetype": "text/x-python",
   "name": "python",
   "nbconvert_exporter": "python",
   "pygments_lexer": "ipython3",
   "version": "3.7.9"
  }
 },
 "nbformat": 4,
 "nbformat_minor": 5
}
