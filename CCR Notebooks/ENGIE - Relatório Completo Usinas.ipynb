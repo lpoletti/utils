{
 "cells": [
  {
   "cell_type": "code",
   "execution_count": 14,
   "id": "7646e9a8",
   "metadata": {},
   "outputs": [],
   "source": [
    "from helpers.apps.json_logic import apply_json_logic\n",
    "from helpers.serializers import get_obj_serialized\n",
    "from helpers.strings import get_obj_from_path, to_flatten_str\n",
    "from helpers.apps.daily_reports import generate_exported_file\n",
    "import re\n",
    "import pandas as pd\n",
    "from tqdm.notebook import tqdm\n",
    "from django.db.models import Q"
   ]
  },
  {
   "cell_type": "code",
   "execution_count": 15,
   "id": "abe1c447",
   "metadata": {},
   "outputs": [],
   "source": [
    "def ordenar_chave(elemento):\n",
    "    partes = re.split(r'(\\d+)', elemento)\n",
    "    return (partes[0], int(partes[1]))"
   ]
  },
  {
   "cell_type": "code",
   "execution_count": 16,
   "id": "e1d5cc90",
   "metadata": {},
   "outputs": [],
   "source": [
    "def get_exporter_extra_columns(company):\n",
    "    return get_obj_from_path(\n",
    "        company.custom_options, \"reporting__exporter__extra_columns\"\n",
    "    )\n"
   ]
  },
  {
   "cell_type": "code",
   "execution_count": 17,
   "id": "88e41ec3",
   "metadata": {},
   "outputs": [],
   "source": [
    "def get_uf(uf_code):\n",
    "    if type(uf_code) != 'str':\n",
    "        uf_code=str(uf_code)\n",
    "    \n",
    "    uf=[{'id': '12', 'name': 'AC'}, {'id': '27', 'name': 'AL' }, {'id': '13', 'name': 'AM'}, {'id': '16', 'name': 'AP'}, \n",
    "        {'id': '29', 'name': 'BA'}, {'id': '23', 'name': 'CE' }, {'id': '53', 'name': 'DF'}, {'id': '32', 'name': 'ES'}, \n",
    "        {'id': '52', 'name': 'GO'}, {'id': '21', 'name': 'MA' }, {'id': '31', 'name': 'MG'}, {'id': '50', 'name': 'MS'}, \n",
    "        {'id': '51', 'name': 'MT'}, {'id': '15', 'name': 'PA' }, {'id': '25', 'name': 'PB'}, {'id': '26', 'name': 'PE'}, \n",
    "        {'id': '22', 'name': 'PI'}, {'id': '41', 'name': 'PR' }, {'id': '33', 'name': 'RJ'}, {'id': '24', 'name': 'RN'},\n",
    "        {'id': '11', 'name': 'RO'}, {'id': '14', 'name': 'RR' }, {'id': '43', 'name': 'RS'}, {'id': '42', 'name': 'SC'},\n",
    "        {'id': '28', 'name': 'SE'}, {'id': '35', 'name': 'SP' }, {'id': '17', 'name': 'TO'}]\n",
    "    uf_translation={item['id']: item['name'] for item in uf}\n",
    "#     print(uf_translation)    \n",
    "    \n",
    "    return uf_translation[uf_code]"
   ]
  },
  {
   "cell_type": "code",
   "execution_count": 18,
   "id": "6ac0842d",
   "metadata": {},
   "outputs": [],
   "source": [
    "def get_exporter_extra_columns_parsed_infos(exporter_extra_columns):\n",
    "    extra_columns = {}\n",
    "    for extra_column in exporter_extra_columns:\n",
    "        column_key = extra_column.get(\"key\", \"\")\n",
    "        extra_columns[column_key] = extra_column.get(\"header\", \"\")\n",
    "    return extra_columns"
   ]
  },
  {
   "cell_type": "code",
   "execution_count": 19,
   "id": "aa5268df",
   "metadata": {},
   "outputs": [],
   "source": [
    "def get_values_from_reporting_extra_columns(record, extra_columns):\n",
    "    new_val = {}\n",
    "    if extra_columns:\n",
    "        reporting_formatted = get_obj_serialized(record, is_occurrence_record=True)\n",
    "#         new_val[(\"Data do registro\")] = getattr(record,'datetime','')\n",
    "#         new_val[(\"Data de criação\")] = getattr(record,'created_at','')\n",
    "#         new_val[(\"Atualizado em\")] = getattr(record,'updated_at','')\n",
    "#         new_val[(\"Nº Registro\")] = getattr(record,'number','')\n",
    "#         new_val[(\"Unidade\")] = getattr(getattr(record,'company',''),'name','')\n",
    "#         new_val[(\"Status\")] = getattr(getattr(record,'approval_step',''),'name','')\n",
    "#         new_val[(\"Profissional\")] = record.user.get_full_name() if getattr(record,'user','') != '' else ''\n",
    "#         new_val[(\"Função\")] = getattr(getattr(record,'user',''),'metadata','').get('role','')\n",
    "#         new_val[(\"Nº Registro Conselho\")] = ''\n",
    "#         new_val[(\"Equipe\")] = getattr(getattr(record,'firm',''),'name','')\n",
    "#         new_val[(\"UF\")] = get_uf(getattr(record,'uf_code',''))\n",
    "#         new_val[(\"Município\")] = getattr(getattr(record,'city',''),'name','')\n",
    "#         new_val[(\"Localidade\")] = getattr(getattr(record,'location',''),'name','')\n",
    "#         new_val[(\"Local\")] = getattr(record,'place_on_dam','')\n",
    "#         new_val[(\"Corpo Hídrico\")] = record.end_km\n",
    "#         new_val[(\"KM da Occorrência\")] = record.occurrence_type.name\n",
    "#         new_val[(\"Outra Referência\")] = record.occurrence_type.name\n",
    "        \n",
    "        for item in extra_columns:\n",
    "            json_logic = None\n",
    "            key = item.get(\"key\", \"\")\n",
    "            logic = item.get(\"logic\", False)\n",
    "            header = item.get(\"header\", \"\")\n",
    "            is_date = item.get(\"isDate\", False)\n",
    "            if key and logic:\n",
    "                try:\n",
    "                    json_logic = apply_json_logic(logic, reporting_formatted)\n",
    "                except Exception:\n",
    "                    pass\n",
    "            if not json_logic:\n",
    "                try:\n",
    "                    json_logic = reporting_formatted.form_data[key]\n",
    "                except Exception:\n",
    "                    pass\n",
    "            if is_date and json_logic:\n",
    "                json_logic = format_date(json_logic)\n",
    "            new_val[(header)] = json_logic\n",
    "    return new_val"
   ]
  },
  {
   "cell_type": "code",
   "execution_count": 20,
   "id": "9e19f471",
   "metadata": {},
   "outputs": [
    {
     "data": {
      "text/plain": [
       "47"
      ]
     },
     "execution_count": 20,
     "metadata": {},
     "output_type": "execute_result"
    }
   ],
   "source": [
    "Company.objects.all().count()"
   ]
  },
  {
   "cell_type": "code",
   "execution_count": 21,
   "id": "1f8fc1f5",
   "metadata": {},
   "outputs": [
    {
     "data": {
      "text/plain": [
       "['GSO - PCH-JOSÉ GELÁZIO DA ROCHA',\n",
       " 'GSO - PCH-RONDONÓPOLIS',\n",
       " 'GSO - UHE-CANA BRAVA',\n",
       " 'GSO - UHE-ESTREITO',\n",
       " 'GSO - UHE-ITA',\n",
       " 'GSO - UHE-JAGUARA',\n",
       " 'GSO - UHE-MACHADINHO',\n",
       " 'GSO - UHE-MIRANDA',\n",
       " 'GSO - UHE-PASSO FUNDO',\n",
       " 'GSO - UHE-PONTE DE PEDRA',\n",
       " 'GSO - UHE-SALTO OSORIO',\n",
       " 'GSO - UHE-SALTO SANTIAGO',\n",
       " 'GSO - UHE-SÃO SALVADOR',\n",
       " 'GSO - UTPS']"
      ]
     },
     "execution_count": 21,
     "metadata": {},
     "output_type": "execute_result"
    }
   ],
   "source": [
    "# company=Company.objects.get(name__icontains='DER/SP')\n",
    "companies  = list(Company.objects.filter(\n",
    "    name__icontains='GSO').exclude(name='Energia Compartilhado GSO').order_by('name').values_list('name',flat=True))\n",
    "companies"
   ]
  },
  {
   "cell_type": "code",
   "execution_count": 22,
   "id": "cdd0c7bf",
   "metadata": {},
   "outputs": [
    {
     "data": {
      "application/vnd.jupyter.widget-view+json": {
       "model_id": "5ff97d4e1ce7476f8deca5e1f3e2ab70",
       "version_major": 2,
       "version_minor": 0
      },
      "text/plain": [
       "  0%|          | 0/14 [00:00<?, ?it/s]"
      ]
     },
     "metadata": {},
     "output_type": "display_data"
    },
    {
     "name": "stdout",
     "output_type": "stream",
     "text": [
      "GSO - PCH-JOSÉ GELÁZIO DA ROCHA 1\n",
      "GSO - PCH-RONDONÓPOLIS 0\n",
      "GSO - UHE-CANA BRAVA 36\n",
      "GSO - UHE-ESTREITO 3793\n",
      "GSO - UHE-ITA 744\n",
      "GSO - UHE-JAGUARA 453\n",
      "GSO - UHE-MACHADINHO 655\n",
      "GSO - UHE-MIRANDA 337\n",
      "GSO - UHE-PASSO FUNDO 62\n",
      "GSO - UHE-PONTE DE PEDRA 60\n",
      "GSO - UHE-SALTO OSORIO 241\n",
      "GSO - UHE-SALTO SANTIAGO 794\n",
      "GSO - UHE-SÃO SALVADOR 948\n",
      "GSO - UTPS 15\n",
      "Total: 8139\n"
     ]
    }
   ],
   "source": [
    "counter=0\n",
    "for name in tqdm(companies):\n",
    "    ocrs=OccurrenceRecord.objects.filter(Q(place_on_dam='ZAS') | Q(place_on_dam='ZSS'),\n",
    "        company__name=name\n",
    "    ).prefetch_related('company','occurrence_type').order_by('number','occurrence_type')\n",
    "    print(name,ocrs.count())\n",
    "    counter+=ocrs.count()\n",
    "print('Total:',counter)"
   ]
  },
  {
   "cell_type": "code",
   "execution_count": 23,
   "id": "43c6de49",
   "metadata": {
    "scrolled": true
   },
   "outputs": [
    {
     "data": {
      "application/vnd.jupyter.widget-view+json": {
       "model_id": "59649cb9da9348f0928c6ebe6ec715e4",
       "version_major": 2,
       "version_minor": 0
      },
      "text/plain": [
       "  0%|          | 0/14 [00:00<?, ?it/s]"
      ]
     },
     "metadata": {},
     "output_type": "display_data"
    },
    {
     "name": "stdout",
     "output_type": "stream",
     "text": [
      "GSO - PCH-JOSÉ GELÁZIO DA ROCHA\n"
     ]
    },
    {
     "data": {
      "application/vnd.jupyter.widget-view+json": {
       "model_id": "0b414e448382405ab9eb995561b77a4a",
       "version_major": 2,
       "version_minor": 0
      },
      "text/plain": [
       "  0%|          | 0/3 [00:00<?, ?it/s]"
      ]
     },
     "metadata": {},
     "output_type": "display_data"
    },
    {
     "name": "stdout",
     "output_type": "stream",
     "text": [
      "GSO - PCH-RONDONÓPOLIS\n"
     ]
    },
    {
     "data": {
      "application/vnd.jupyter.widget-view+json": {
       "model_id": "b475deab1867467f8d0e493474ec17f5",
       "version_major": 2,
       "version_minor": 0
      },
      "text/plain": [
       "  0%|          | 0/4 [00:00<?, ?it/s]"
      ]
     },
     "metadata": {},
     "output_type": "display_data"
    },
    {
     "name": "stdout",
     "output_type": "stream",
     "text": [
      "GSO - UHE-CANA BRAVA\n"
     ]
    },
    {
     "data": {
      "application/vnd.jupyter.widget-view+json": {
       "model_id": "7c5c8afbec7a4605b1172912494ee35b",
       "version_major": 2,
       "version_minor": 0
      },
      "text/plain": [
       "  0%|          | 0/65 [00:00<?, ?it/s]"
      ]
     },
     "metadata": {},
     "output_type": "display_data"
    },
    {
     "name": "stdout",
     "output_type": "stream",
     "text": [
      "GSO - UHE-ESTREITO\n"
     ]
    },
    {
     "data": {
      "application/vnd.jupyter.widget-view+json": {
       "model_id": "86bd137270fd4f04a54b1a0fa2347a12",
       "version_major": 2,
       "version_minor": 0
      },
      "text/plain": [
       "  0%|          | 0/3967 [00:00<?, ?it/s]"
      ]
     },
     "metadata": {},
     "output_type": "display_data"
    },
    {
     "name": "stdout",
     "output_type": "stream",
     "text": [
      "GSO - UHE-ITA\n"
     ]
    },
    {
     "data": {
      "application/vnd.jupyter.widget-view+json": {
       "model_id": "132d7c1828974b1a95aba3e248060596",
       "version_major": 2,
       "version_minor": 0
      },
      "text/plain": [
       "  0%|          | 0/990 [00:00<?, ?it/s]"
      ]
     },
     "metadata": {},
     "output_type": "display_data"
    },
    {
     "name": "stdout",
     "output_type": "stream",
     "text": [
      "GSO - UHE-JAGUARA\n"
     ]
    },
    {
     "data": {
      "application/vnd.jupyter.widget-view+json": {
       "model_id": "3862c2ec0f624ef68cec08ff0cd1eea8",
       "version_major": 2,
       "version_minor": 0
      },
      "text/plain": [
       "  0%|          | 0/896 [00:00<?, ?it/s]"
      ]
     },
     "metadata": {},
     "output_type": "display_data"
    },
    {
     "name": "stdout",
     "output_type": "stream",
     "text": [
      "GSO - UHE-MACHADINHO\n"
     ]
    },
    {
     "data": {
      "application/vnd.jupyter.widget-view+json": {
       "model_id": "8dff0edf80ed4daca7c22e1312305e80",
       "version_major": 2,
       "version_minor": 0
      },
      "text/plain": [
       "  0%|          | 0/1079 [00:00<?, ?it/s]"
      ]
     },
     "metadata": {},
     "output_type": "display_data"
    },
    {
     "name": "stdout",
     "output_type": "stream",
     "text": [
      "GSO - UHE-MIRANDA\n"
     ]
    },
    {
     "data": {
      "application/vnd.jupyter.widget-view+json": {
       "model_id": "71ef0f823a184527bb0db9e9e7928015",
       "version_major": 2,
       "version_minor": 0
      },
      "text/plain": [
       "  0%|          | 0/814 [00:00<?, ?it/s]"
      ]
     },
     "metadata": {},
     "output_type": "display_data"
    },
    {
     "name": "stdout",
     "output_type": "stream",
     "text": [
      "GSO - UHE-PASSO FUNDO\n"
     ]
    },
    {
     "data": {
      "application/vnd.jupyter.widget-view+json": {
       "model_id": "ced373ec05094d80a280eaef24713472",
       "version_major": 2,
       "version_minor": 0
      },
      "text/plain": [
       "  0%|          | 0/137 [00:00<?, ?it/s]"
      ]
     },
     "metadata": {},
     "output_type": "display_data"
    },
    {
     "name": "stdout",
     "output_type": "stream",
     "text": [
      "GSO - UHE-PONTE DE PEDRA\n"
     ]
    },
    {
     "data": {
      "application/vnd.jupyter.widget-view+json": {
       "model_id": "32404b6c069f4db0aa91df860f20f6ce",
       "version_major": 2,
       "version_minor": 0
      },
      "text/plain": [
       "  0%|          | 0/111 [00:00<?, ?it/s]"
      ]
     },
     "metadata": {},
     "output_type": "display_data"
    },
    {
     "name": "stdout",
     "output_type": "stream",
     "text": [
      "GSO - UHE-SALTO OSORIO\n"
     ]
    },
    {
     "data": {
      "application/vnd.jupyter.widget-view+json": {
       "model_id": "87c354e441564b6aa6815facb3dbe38b",
       "version_major": 2,
       "version_minor": 0
      },
      "text/plain": [
       "  0%|          | 0/832 [00:00<?, ?it/s]"
      ]
     },
     "metadata": {},
     "output_type": "display_data"
    },
    {
     "name": "stdout",
     "output_type": "stream",
     "text": [
      "GSO - UHE-SALTO SANTIAGO\n"
     ]
    },
    {
     "data": {
      "application/vnd.jupyter.widget-view+json": {
       "model_id": "0262b9630bf74f8e913dce23951675c4",
       "version_major": 2,
       "version_minor": 0
      },
      "text/plain": [
       "  0%|          | 0/1560 [00:00<?, ?it/s]"
      ]
     },
     "metadata": {},
     "output_type": "display_data"
    },
    {
     "name": "stdout",
     "output_type": "stream",
     "text": [
      "GSO - UHE-SÃO SALVADOR\n"
     ]
    },
    {
     "data": {
      "application/vnd.jupyter.widget-view+json": {
       "model_id": "dbb00d0f4bfd426fb5d6be7be9694343",
       "version_major": 2,
       "version_minor": 0
      },
      "text/plain": [
       "  0%|          | 0/1268 [00:00<?, ?it/s]"
      ]
     },
     "metadata": {},
     "output_type": "display_data"
    },
    {
     "name": "stdout",
     "output_type": "stream",
     "text": [
      "GSO - UTPS\n"
     ]
    },
    {
     "data": {
      "application/vnd.jupyter.widget-view+json": {
       "model_id": "e8418860f1074c26b2c5f1984a241d99",
       "version_major": 2,
       "version_minor": 0
      },
      "text/plain": [
       "  0%|          | 0/16 [00:00<?, ?it/s]"
      ]
     },
     "metadata": {},
     "output_type": "display_data"
    }
   ],
   "source": [
    "dados=[]\n",
    "for name in tqdm(companies):\n",
    "    ocrs=OccurrenceRecord.objects.filter(\n",
    "#         Q(place_on_dam='ZAS') | Q(place_on_dam='ZSS'),\n",
    "        company__name=name\n",
    "    ).prefetch_related('company','occurrence_type').order_by('number','occurrence_type')\n",
    "    print(name)\n",
    "    \n",
    "    for record in tqdm(ocrs):\n",
    "        new_val = {}\n",
    "        \n",
    "        new_val[(\"Data do registro\")] = getattr(record,'datetime','').strftime('%d/%m/%Y %H:%M:%S')\n",
    "        new_val[(\"Data de criação\")] = getattr(record,'created_at','').strftime('%d/%m/%Y %H:%M:%S')\n",
    "        new_val[(\"Atualizado em\")] = getattr(record,'updated_at','').strftime('%d/%m/%Y %H:%M:%S')\n",
    "        new_val[(\"Nº Registro\")] = record.number\n",
    "        new_val[\"Unidade\"] = name\n",
    "        new_val[(\"Classe\")] = record.occurrence_type.name\n",
    "        new_val[(\"Status\")] = getattr(getattr(record,'approval_step',''),'name','')\n",
    "        new_val[(\"Profissional\")] = record.user.get_full_name() if getattr(record,'user','') != '' else ''\n",
    "        new_val[(\"Função\")] = getattr(getattr(record,'user',''),'metadata','').get('role','') if getattr(getattr(record,'user',''),'metadata','') != '' else ''\n",
    "        new_val[(\"Nº Registro Conselho\")] = getattr(getattr(record,'user',''),'metadata','').get('board_registration','') if getattr(getattr(record,'user',''),'metadata','') != '' else ''\n",
    "        new_val[(\"Equipe\")] = getattr(getattr(record,'firm',''),'name','')\n",
    "        new_val[(\"UF\")] = get_uf(getattr(record,'uf_code',''))\n",
    "        new_val[(\"Município\")] = getattr(getattr(record,'city',''),'name','')\n",
    "        new_val[(\"Localidade\")] = getattr(getattr(record,'location',''),'name','')\n",
    "        new_val[(\"Local\")] = record.place_on_dam\n",
    "        new_val[(\"Corpo Hídrico\")] = ''\n",
    "        new_val[(\"KM da Occorrência\")] = 0\n",
    "        new_val[(\"Outra Referência\")] = record.other_reference\n",
    "        if record.occurrence_type.form_fields.get('measurementColumns'):\n",
    "            report=get_values_from_reporting_extra_columns(record,record.occurrence_type.form_fields['measurementColumns'])\n",
    "        if record.occurrence_type.form_fields.get('measurement_columns'):\n",
    "            report=get_values_from_reporting_extra_columns(record,record.occurrence_type.form_fields['measurement_columns'])\n",
    "        new_val.update(report)\n",
    "        new_val[\"Unidade\"] = name\n",
    "        dados.append(new_val)\n",
    "        "
   ]
  },
  {
   "cell_type": "code",
   "execution_count": 25,
   "id": "ec96e4c5",
   "metadata": {},
   "outputs": [],
   "source": [
    "df = pd.DataFrame.from_dict(dados)"
   ]
  },
  {
   "cell_type": "code",
   "execution_count": 26,
   "id": "c4b79600",
   "metadata": {},
   "outputs": [
    {
     "data": {
      "text/html": [
       "<div>\n",
       "<style scoped>\n",
       "    .dataframe tbody tr th:only-of-type {\n",
       "        vertical-align: middle;\n",
       "    }\n",
       "\n",
       "    .dataframe tbody tr th {\n",
       "        vertical-align: top;\n",
       "    }\n",
       "\n",
       "    .dataframe thead th {\n",
       "        text-align: right;\n",
       "    }\n",
       "</style>\n",
       "<table border=\"1\" class=\"dataframe\">\n",
       "  <thead>\n",
       "    <tr style=\"text-align: right;\">\n",
       "      <th></th>\n",
       "      <th>Data do registro</th>\n",
       "      <th>Data de criação</th>\n",
       "      <th>Atualizado em</th>\n",
       "      <th>Nº Registro</th>\n",
       "      <th>Unidade</th>\n",
       "      <th>Classe</th>\n",
       "      <th>Status</th>\n",
       "      <th>Profissional</th>\n",
       "      <th>Função</th>\n",
       "      <th>Nº Registro Conselho</th>\n",
       "      <th>...</th>\n",
       "      <th>Negociação - Data da tentativa 6</th>\n",
       "      <th>Negociação - Data 1</th>\n",
       "      <th>Negociação - Data 2</th>\n",
       "      <th>Negociação - Data 3</th>\n",
       "      <th>Negociação - Data 4</th>\n",
       "      <th>Negociação - Data 5</th>\n",
       "      <th>Negociação - Data 6</th>\n",
       "      <th>Houve acordo de compromisso de locação?</th>\n",
       "      <th>Data de assinatura do termo</th>\n",
       "      <th>Comentários sobre o acordo</th>\n",
       "    </tr>\n",
       "  </thead>\n",
       "  <tbody>\n",
       "    <tr>\n",
       "      <th>0</th>\n",
       "      <td>20/06/2022 13:01:36</td>\n",
       "      <td>05/04/2023 17:51:02</td>\n",
       "      <td>05/04/2023 17:51:02</td>\n",
       "      <td>PHJG-RG-2022.0007</td>\n",
       "      <td>GSO - PCH-JOSÉ GELÁZIO DA ROCHA</td>\n",
       "      <td>Edificação de uso coletivo</td>\n",
       "      <td>Aguardando validação DC</td>\n",
       "      <td></td>\n",
       "      <td></td>\n",
       "      <td></td>\n",
       "      <td>...</td>\n",
       "      <td>NaN</td>\n",
       "      <td>NaN</td>\n",
       "      <td>NaN</td>\n",
       "      <td>NaN</td>\n",
       "      <td>NaN</td>\n",
       "      <td>NaN</td>\n",
       "      <td>NaN</td>\n",
       "      <td>NaN</td>\n",
       "      <td>NaN</td>\n",
       "      <td>NaN</td>\n",
       "    </tr>\n",
       "    <tr>\n",
       "      <th>1</th>\n",
       "      <td>25/07/2023 14:14:23</td>\n",
       "      <td>25/07/2023 14:14:27</td>\n",
       "      <td>13/03/2024 13:22:19</td>\n",
       "      <td>PHJG-RG-2023.0001</td>\n",
       "      <td>GSO - PCH-JOSÉ GELÁZIO DA ROCHA</td>\n",
       "      <td>Sinalização da rota de fuga</td>\n",
       "      <td>Aceito</td>\n",
       "      <td></td>\n",
       "      <td></td>\n",
       "      <td></td>\n",
       "      <td>...</td>\n",
       "      <td>NaN</td>\n",
       "      <td>NaN</td>\n",
       "      <td>NaN</td>\n",
       "      <td>NaN</td>\n",
       "      <td>NaN</td>\n",
       "      <td>NaN</td>\n",
       "      <td>NaN</td>\n",
       "      <td>NaN</td>\n",
       "      <td>NaN</td>\n",
       "      <td>NaN</td>\n",
       "    </tr>\n",
       "    <tr>\n",
       "      <th>2</th>\n",
       "      <td>25/07/2023 18:54:21</td>\n",
       "      <td>25/07/2023 18:54:24</td>\n",
       "      <td>23/10/2023 18:38:32</td>\n",
       "      <td>PHJG-RG-2023.0002</td>\n",
       "      <td>GSO - PCH-JOSÉ GELÁZIO DA ROCHA</td>\n",
       "      <td>Ponto de encontro</td>\n",
       "      <td>Aceito</td>\n",
       "      <td></td>\n",
       "      <td></td>\n",
       "      <td></td>\n",
       "      <td>...</td>\n",
       "      <td>NaN</td>\n",
       "      <td>NaN</td>\n",
       "      <td>NaN</td>\n",
       "      <td>NaN</td>\n",
       "      <td>NaN</td>\n",
       "      <td>NaN</td>\n",
       "      <td>NaN</td>\n",
       "      <td>NaN</td>\n",
       "      <td>NaN</td>\n",
       "      <td>NaN</td>\n",
       "    </tr>\n",
       "    <tr>\n",
       "      <th>3</th>\n",
       "      <td>20/06/2022 13:54:38</td>\n",
       "      <td>05/04/2023 13:21:14</td>\n",
       "      <td>05/04/2023 13:21:14</td>\n",
       "      <td>PHRO-RG-2022.0004</td>\n",
       "      <td>GSO - PCH-RONDONÓPOLIS</td>\n",
       "      <td>Edificação de uso coletivo</td>\n",
       "      <td>Inativado</td>\n",
       "      <td></td>\n",
       "      <td></td>\n",
       "      <td></td>\n",
       "      <td>...</td>\n",
       "      <td>NaN</td>\n",
       "      <td>NaN</td>\n",
       "      <td>NaN</td>\n",
       "      <td>NaN</td>\n",
       "      <td>NaN</td>\n",
       "      <td>NaN</td>\n",
       "      <td>NaN</td>\n",
       "      <td>NaN</td>\n",
       "      <td>NaN</td>\n",
       "      <td>NaN</td>\n",
       "    </tr>\n",
       "    <tr>\n",
       "      <th>4</th>\n",
       "      <td>20/06/2022 14:30:23</td>\n",
       "      <td>05/04/2023 13:21:14</td>\n",
       "      <td>05/04/2023 13:21:14</td>\n",
       "      <td>PHRO-RG-2022.0005</td>\n",
       "      <td>GSO - PCH-RONDONÓPOLIS</td>\n",
       "      <td>Edificação sociofamiliar</td>\n",
       "      <td>Inativado</td>\n",
       "      <td></td>\n",
       "      <td></td>\n",
       "      <td></td>\n",
       "      <td>...</td>\n",
       "      <td>NaN</td>\n",
       "      <td>NaN</td>\n",
       "      <td>NaN</td>\n",
       "      <td>NaN</td>\n",
       "      <td>NaN</td>\n",
       "      <td>NaN</td>\n",
       "      <td>NaN</td>\n",
       "      <td>NaN</td>\n",
       "      <td>NaN</td>\n",
       "      <td>NaN</td>\n",
       "    </tr>\n",
       "    <tr>\n",
       "      <th>...</th>\n",
       "      <td>...</td>\n",
       "      <td>...</td>\n",
       "      <td>...</td>\n",
       "      <td>...</td>\n",
       "      <td>...</td>\n",
       "      <td>...</td>\n",
       "      <td>...</td>\n",
       "      <td>...</td>\n",
       "      <td>...</td>\n",
       "      <td>...</td>\n",
       "      <td>...</td>\n",
       "      <td>...</td>\n",
       "      <td>...</td>\n",
       "      <td>...</td>\n",
       "      <td>...</td>\n",
       "      <td>...</td>\n",
       "      <td>...</td>\n",
       "      <td>...</td>\n",
       "      <td>...</td>\n",
       "      <td>...</td>\n",
       "      <td>...</td>\n",
       "    </tr>\n",
       "    <tr>\n",
       "      <th>11737</th>\n",
       "      <td>25/07/2023 20:11:09</td>\n",
       "      <td>25/07/2023 20:13:16</td>\n",
       "      <td>13/03/2024 13:23:37</td>\n",
       "      <td>UTPS-RG-2023.0008</td>\n",
       "      <td>GSO - UTPS</td>\n",
       "      <td>Sinalização da rota de fuga</td>\n",
       "      <td>Aceito</td>\n",
       "      <td></td>\n",
       "      <td></td>\n",
       "      <td></td>\n",
       "      <td>...</td>\n",
       "      <td>NaN</td>\n",
       "      <td>NaN</td>\n",
       "      <td>NaN</td>\n",
       "      <td>NaN</td>\n",
       "      <td>NaN</td>\n",
       "      <td>NaN</td>\n",
       "      <td>NaN</td>\n",
       "      <td>NaN</td>\n",
       "      <td>NaN</td>\n",
       "      <td>NaN</td>\n",
       "    </tr>\n",
       "    <tr>\n",
       "      <th>11738</th>\n",
       "      <td>25/07/2023 20:11:09</td>\n",
       "      <td>25/07/2023 20:13:18</td>\n",
       "      <td>13/03/2024 13:22:15</td>\n",
       "      <td>UTPS-RG-2023.0009</td>\n",
       "      <td>GSO - UTPS</td>\n",
       "      <td>Sinalização da rota de fuga</td>\n",
       "      <td>Aceito</td>\n",
       "      <td></td>\n",
       "      <td></td>\n",
       "      <td></td>\n",
       "      <td>...</td>\n",
       "      <td>NaN</td>\n",
       "      <td>NaN</td>\n",
       "      <td>NaN</td>\n",
       "      <td>NaN</td>\n",
       "      <td>NaN</td>\n",
       "      <td>NaN</td>\n",
       "      <td>NaN</td>\n",
       "      <td>NaN</td>\n",
       "      <td>NaN</td>\n",
       "      <td>NaN</td>\n",
       "    </tr>\n",
       "    <tr>\n",
       "      <th>11739</th>\n",
       "      <td>25/07/2023 20:11:09</td>\n",
       "      <td>25/07/2023 20:13:19</td>\n",
       "      <td>13/03/2024 13:22:18</td>\n",
       "      <td>UTPS-RG-2023.0010</td>\n",
       "      <td>GSO - UTPS</td>\n",
       "      <td>Sinalização da rota de fuga</td>\n",
       "      <td>Aceito</td>\n",
       "      <td></td>\n",
       "      <td></td>\n",
       "      <td></td>\n",
       "      <td>...</td>\n",
       "      <td>NaN</td>\n",
       "      <td>NaN</td>\n",
       "      <td>NaN</td>\n",
       "      <td>NaN</td>\n",
       "      <td>NaN</td>\n",
       "      <td>NaN</td>\n",
       "      <td>NaN</td>\n",
       "      <td>NaN</td>\n",
       "      <td>NaN</td>\n",
       "      <td>NaN</td>\n",
       "    </tr>\n",
       "    <tr>\n",
       "      <th>11740</th>\n",
       "      <td>25/07/2023 20:11:09</td>\n",
       "      <td>25/07/2023 20:13:21</td>\n",
       "      <td>13/03/2024 13:23:36</td>\n",
       "      <td>UTPS-RG-2023.0011</td>\n",
       "      <td>GSO - UTPS</td>\n",
       "      <td>Sinalização da rota de fuga</td>\n",
       "      <td>Aceito</td>\n",
       "      <td></td>\n",
       "      <td></td>\n",
       "      <td></td>\n",
       "      <td>...</td>\n",
       "      <td>NaN</td>\n",
       "      <td>NaN</td>\n",
       "      <td>NaN</td>\n",
       "      <td>NaN</td>\n",
       "      <td>NaN</td>\n",
       "      <td>NaN</td>\n",
       "      <td>NaN</td>\n",
       "      <td>NaN</td>\n",
       "      <td>NaN</td>\n",
       "      <td>NaN</td>\n",
       "    </tr>\n",
       "    <tr>\n",
       "      <th>11741</th>\n",
       "      <td>25/07/2023 20:13:41</td>\n",
       "      <td>25/07/2023 20:13:45</td>\n",
       "      <td>23/10/2023 18:38:41</td>\n",
       "      <td>UTPS-RG-2023.0012</td>\n",
       "      <td>GSO - UTPS</td>\n",
       "      <td>Ponto de encontro</td>\n",
       "      <td>Aceito</td>\n",
       "      <td></td>\n",
       "      <td></td>\n",
       "      <td></td>\n",
       "      <td>...</td>\n",
       "      <td>NaN</td>\n",
       "      <td>NaN</td>\n",
       "      <td>NaN</td>\n",
       "      <td>NaN</td>\n",
       "      <td>NaN</td>\n",
       "      <td>NaN</td>\n",
       "      <td>NaN</td>\n",
       "      <td>NaN</td>\n",
       "      <td>NaN</td>\n",
       "      <td>NaN</td>\n",
       "    </tr>\n",
       "  </tbody>\n",
       "</table>\n",
       "<p>11742 rows × 549 columns</p>\n",
       "</div>"
      ],
      "text/plain": [
       "          Data do registro      Data de criação        Atualizado em  \\\n",
       "0      20/06/2022 13:01:36  05/04/2023 17:51:02  05/04/2023 17:51:02   \n",
       "1      25/07/2023 14:14:23  25/07/2023 14:14:27  13/03/2024 13:22:19   \n",
       "2      25/07/2023 18:54:21  25/07/2023 18:54:24  23/10/2023 18:38:32   \n",
       "3      20/06/2022 13:54:38  05/04/2023 13:21:14  05/04/2023 13:21:14   \n",
       "4      20/06/2022 14:30:23  05/04/2023 13:21:14  05/04/2023 13:21:14   \n",
       "...                    ...                  ...                  ...   \n",
       "11737  25/07/2023 20:11:09  25/07/2023 20:13:16  13/03/2024 13:23:37   \n",
       "11738  25/07/2023 20:11:09  25/07/2023 20:13:18  13/03/2024 13:22:15   \n",
       "11739  25/07/2023 20:11:09  25/07/2023 20:13:19  13/03/2024 13:22:18   \n",
       "11740  25/07/2023 20:11:09  25/07/2023 20:13:21  13/03/2024 13:23:36   \n",
       "11741  25/07/2023 20:13:41  25/07/2023 20:13:45  23/10/2023 18:38:41   \n",
       "\n",
       "             Nº Registro                          Unidade  \\\n",
       "0      PHJG-RG-2022.0007  GSO - PCH-JOSÉ GELÁZIO DA ROCHA   \n",
       "1      PHJG-RG-2023.0001  GSO - PCH-JOSÉ GELÁZIO DA ROCHA   \n",
       "2      PHJG-RG-2023.0002  GSO - PCH-JOSÉ GELÁZIO DA ROCHA   \n",
       "3      PHRO-RG-2022.0004           GSO - PCH-RONDONÓPOLIS   \n",
       "4      PHRO-RG-2022.0005           GSO - PCH-RONDONÓPOLIS   \n",
       "...                  ...                              ...   \n",
       "11737  UTPS-RG-2023.0008                       GSO - UTPS   \n",
       "11738  UTPS-RG-2023.0009                       GSO - UTPS   \n",
       "11739  UTPS-RG-2023.0010                       GSO - UTPS   \n",
       "11740  UTPS-RG-2023.0011                       GSO - UTPS   \n",
       "11741  UTPS-RG-2023.0012                       GSO - UTPS   \n",
       "\n",
       "                            Classe                   Status Profissional  \\\n",
       "0       Edificação de uso coletivo  Aguardando validação DC                \n",
       "1      Sinalização da rota de fuga                   Aceito                \n",
       "2                Ponto de encontro                   Aceito                \n",
       "3       Edificação de uso coletivo                Inativado                \n",
       "4         Edificação sociofamiliar                Inativado                \n",
       "...                            ...                      ...          ...   \n",
       "11737  Sinalização da rota de fuga                   Aceito                \n",
       "11738  Sinalização da rota de fuga                   Aceito                \n",
       "11739  Sinalização da rota de fuga                   Aceito                \n",
       "11740  Sinalização da rota de fuga                   Aceito                \n",
       "11741            Ponto de encontro                   Aceito                \n",
       "\n",
       "      Função Nº Registro Conselho  ... Negociação - Data da tentativa 6  \\\n",
       "0                                  ...                              NaN   \n",
       "1                                  ...                              NaN   \n",
       "2                                  ...                              NaN   \n",
       "3                                  ...                              NaN   \n",
       "4                                  ...                              NaN   \n",
       "...      ...                  ...  ...                              ...   \n",
       "11737                              ...                              NaN   \n",
       "11738                              ...                              NaN   \n",
       "11739                              ...                              NaN   \n",
       "11740                              ...                              NaN   \n",
       "11741                              ...                              NaN   \n",
       "\n",
       "      Negociação - Data 1 Negociação - Data 2 Negociação - Data 3  \\\n",
       "0                     NaN                 NaN                 NaN   \n",
       "1                     NaN                 NaN                 NaN   \n",
       "2                     NaN                 NaN                 NaN   \n",
       "3                     NaN                 NaN                 NaN   \n",
       "4                     NaN                 NaN                 NaN   \n",
       "...                   ...                 ...                 ...   \n",
       "11737                 NaN                 NaN                 NaN   \n",
       "11738                 NaN                 NaN                 NaN   \n",
       "11739                 NaN                 NaN                 NaN   \n",
       "11740                 NaN                 NaN                 NaN   \n",
       "11741                 NaN                 NaN                 NaN   \n",
       "\n",
       "      Negociação - Data 4 Negociação - Data 5  Negociação - Data 6  \\\n",
       "0                     NaN                 NaN                  NaN   \n",
       "1                     NaN                 NaN                  NaN   \n",
       "2                     NaN                 NaN                  NaN   \n",
       "3                     NaN                 NaN                  NaN   \n",
       "4                     NaN                 NaN                  NaN   \n",
       "...                   ...                 ...                  ...   \n",
       "11737                 NaN                 NaN                  NaN   \n",
       "11738                 NaN                 NaN                  NaN   \n",
       "11739                 NaN                 NaN                  NaN   \n",
       "11740                 NaN                 NaN                  NaN   \n",
       "11741                 NaN                 NaN                  NaN   \n",
       "\n",
       "      Houve acordo de compromisso de locação?  Data de assinatura do termo  \\\n",
       "0                                         NaN                          NaN   \n",
       "1                                         NaN                          NaN   \n",
       "2                                         NaN                          NaN   \n",
       "3                                         NaN                          NaN   \n",
       "4                                         NaN                          NaN   \n",
       "...                                       ...                          ...   \n",
       "11737                                     NaN                          NaN   \n",
       "11738                                     NaN                          NaN   \n",
       "11739                                     NaN                          NaN   \n",
       "11740                                     NaN                          NaN   \n",
       "11741                                     NaN                          NaN   \n",
       "\n",
       "      Comentários sobre o acordo  \n",
       "0                            NaN  \n",
       "1                            NaN  \n",
       "2                            NaN  \n",
       "3                            NaN  \n",
       "4                            NaN  \n",
       "...                          ...  \n",
       "11737                        NaN  \n",
       "11738                        NaN  \n",
       "11739                        NaN  \n",
       "11740                        NaN  \n",
       "11741                        NaN  \n",
       "\n",
       "[11742 rows x 549 columns]"
      ]
     },
     "execution_count": 26,
     "metadata": {},
     "output_type": "execute_result"
    }
   ],
   "source": [
    "df"
   ]
  },
  {
   "cell_type": "code",
   "execution_count": 27,
   "id": "18d7d162",
   "metadata": {},
   "outputs": [],
   "source": [
    "df.to_excel('Rel_Usinas.xlsx',index=False)"
   ]
  }
 ],
 "metadata": {
  "kernelspec": {
   "display_name": "Django Shell-Plus",
   "language": "python",
   "name": "django_extensions"
  },
  "language_info": {
   "codemirror_mode": {
    "name": "ipython",
    "version": 3
   },
   "file_extension": ".py",
   "mimetype": "text/x-python",
   "name": "python",
   "nbconvert_exporter": "python",
   "pygments_lexer": "ipython3",
   "version": "3.8.16"
  }
 },
 "nbformat": 4,
 "nbformat_minor": 5
}
