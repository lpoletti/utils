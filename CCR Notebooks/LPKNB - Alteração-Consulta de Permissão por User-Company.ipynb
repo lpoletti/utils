{
 "cells": [
  {
   "cell_type": "markdown",
   "id": "b9feac4c",
   "metadata": {},
   "source": [
    "# CONSULTA FLUXO DE APROVAÇÃO"
   ]
  },
  {
   "cell_type": "code",
   "execution_count": 2,
   "id": "a3795da9",
   "metadata": {},
   "outputs": [
    {
     "name": "stdout",
     "output_type": "stream",
     "text": [
      "STAGE=CCR_PRODUCTION\r\n"
     ]
    }
   ],
   "source": [
    "!cat .env"
   ]
  },
  {
   "cell_type": "code",
   "execution_count": 12,
   "id": "1dd9ba60",
   "metadata": {},
   "outputs": [
    {
     "data": {
      "text/plain": [
       "<Company: d436bd3c-e145-44f2-a5ee-797a67110efd: PRE-GES - UHE-ITA>"
      ]
     },
     "execution_count": 12,
     "metadata": {},
     "output_type": "execute_result"
    }
   ],
   "source": [
    "company= Company.objects.filter(name=\"PRE-GES - UHE-ITA\").first()\n",
    "company"
   ]
  },
  {
   "cell_type": "code",
   "execution_count": 2,
   "id": "b7a12646",
   "metadata": {},
   "outputs": [
    {
     "data": {
      "text/plain": [
       "<QuerySet []>"
      ]
     },
     "execution_count": 2,
     "metadata": {},
     "output_type": "execute_result"
    }
   ],
   "source": [
    "aps = ApprovalStep.objects.filter(approval_flow__company=company,approval_flow__target_model__icontains=\"multiple\")\n",
    "aps"
   ]
  },
  {
   "cell_type": "code",
   "execution_count": 29,
   "id": "07cec23a",
   "metadata": {},
   "outputs": [
    {
     "name": "stdout",
     "output_type": "stream",
     "text": [
      "CCR - RodoAnel  - Fluxo RDO\n",
      "[CCR - RodoAnel]: RDO Aguardando Aprovação\n",
      "\tUsuários:\n",
      "\t Tatiana Lima Zamith Rodrigues tatiana.rodrigues\n",
      "\t Fernando Fronza fernando.fronza\n",
      "\t Marina Carpes marina.carpes.ccr\n",
      "\t Fernando dos Anjos fernando.anjos\n",
      "\t Talita Pereira da Lomba Ventura talita.ventura\n",
      "\t Fabio Augusto Boton fabio.boton\n",
      "\tEquipes:\n",
      "[CCR - RodoAnel]: RDO Aprovado\n",
      "\tUsuários:\n",
      "\tEquipes:\n",
      "[CCR - RodoAnel]: RDO Criado\n",
      "\tUsuários:\n",
      "\tEquipes:\n"
     ]
    }
   ],
   "source": [
    "print(aps[0].approval_flow.company.name,\" - Fluxo RDO\")\n",
    "for a in aps:\n",
    "    print(a)\n",
    "    print('\\tUsuários:')\n",
    "    for b in a.responsible_users.all():\n",
    "        print('\\t',b.full_name,b.username)\n",
    "    print('\\tEquipes:')\n",
    "    for c in a.responsible_firms.all():\n",
    "        print('\\t',c.name)"
   ]
  },
  {
   "cell_type": "code",
   "execution_count": 26,
   "id": "121f2fac",
   "metadata": {},
   "outputs": [],
   "source": [
    "# aps[0].responsible_users.add(*User.objects.filter(username__in=['isabela.silveira',\n",
    "#                                                                'marina.carpes']))\n",
    "# aps[1].responsible_firms.add(*Firm.objects.filter(name__in=['Aprovadores de RDO'],company=company))\n",
    "# ui=UserInCompany.objects.filter(company=company,user__email__icontains=\"kartado\").values_list('user__username',flat=True)\n",
    "# list(ui)"
   ]
  },
  {
   "cell_type": "code",
   "execution_count": 5,
   "id": "a0110865",
   "metadata": {},
   "outputs": [],
   "source": [
    "# aps[0].responsible_firms.add(*listaC)\n",
    "# aps[2].responsible_users.clear()\n",
    "# aps[1].responsible_users.add(*User.objects.filter(username__in=[a.user.username for a in userLista]))"
   ]
  },
  {
   "cell_type": "code",
   "execution_count": 13,
   "id": "876c7fac",
   "metadata": {},
   "outputs": [
    {
     "data": {
      "text/plain": [
       "<QuerySet [<ApprovalStep: [PRE-GES - UHE-ITA]: Registro em elaboração>, <ApprovalStep: [PRE-GES - UHE-ITA]: Aguardando aprovação técnica>, <ApprovalStep: [PRE-GES - UHE-ITA]: Aguardando homologação>, <ApprovalStep: [PRE-GES - UHE-ITA]: Atendido>, <ApprovalStep: [PRE-GES - UHE-ITA]: Registro deferido>, <ApprovalStep: [PRE-GES - UHE-ITA]: Necessita revisão>, <ApprovalStep: [PRE-GES - UHE-ITA]: Registro indeferido>, <ApprovalStep: [PRE-GES - UHE-ITA]: Em revisão>]>"
      ]
     },
     "execution_count": 13,
     "metadata": {},
     "output_type": "execute_result"
    }
   ],
   "source": [
    "aps2 = ApprovalStep.objects.filter(approval_flow__company=company,approval_flow__target_model__icontains=\"occurrence\")\n",
    "aps2"
   ]
  },
  {
   "cell_type": "code",
   "execution_count": 14,
   "id": "1b7ea834",
   "metadata": {
    "scrolled": true
   },
   "outputs": [
    {
     "name": "stdout",
     "output_type": "stream",
     "text": [
      "PRE-GES - UHE-ITA  - Fluxo Apontamentos\n",
      "[PRE-GES - UHE-ITA]: Registro em elaboração 0\n",
      "\tUsuários:\n",
      "\t Engie Energia -  engie\n",
      "\tEquipes:\n",
      "\t Nova Equipe\n",
      "\t ITAGEO\n",
      "\t Suprimentos\n",
      "\t TOPOGRAFIA\n",
      "\t TID\n",
      "\t EPS\n",
      "\t VALLIS [Consultoria ambiental]\n",
      "\t EM CONTRATAÇÃO\n",
      "\t Águas superficiais\n",
      "\t LAGO AZUL\n",
      "\t Monitoramento Ictiofauna\n",
      "\t GMA\n",
      "\t Coord. Alerta Sonoro\n",
      "\t IHMs\n",
      "\t INFRAESTRUTURA\n",
      "\t Gerência de Ativos\n",
      "\t MANUTENÇÃO MECÂNICA\n",
      "\t PATRIMÔNIO (DPS)\n",
      "\t ECOEQUILIBRIUM [Execução engenharia natural]\n",
      "\t MEIO AMBIENTE\n",
      "\t TELEVALE\n",
      "\t Administrativo\n",
      "\t SOMA\n",
      "\t Assessoria Jurídica\n",
      "\t Fundiário\n",
      "\t GEH\n",
      "\t MAXXI SOLUÇÕES\n",
      "\t Homologadores\n",
      "\t Fiscalização\n",
      "\t IPT\n",
      "\t SEGURANÇA DO TRABALHO\n",
      "\t INOVVO\n",
      "\t OPERAÇÃO\n",
      "\t MANUTENÇÃO CIVIL\n",
      "\t ARCADIS [Relatório licenciador]\n",
      "\t PRÉ-OPERAÇÃO\n",
      "\t HORTO BOTÂNICO\n",
      "\t SOCIOAMBIENTAL (Águas superficiais)\n",
      "\t Lis Serviços e Obras\n",
      "\t PROGRAMA DE VISITAS (CI)\n",
      "\t ECOA\n",
      "\t LAGO AZUL [Educação Ambiental]\n",
      "\t VIZINHOS DO LAGO\n",
      "\t LAGO AZUL [Central de Manutenção]\n",
      "\t Supervisão Eng. Natural\n",
      "\t Assessoria comunicação\n",
      "\t Consultoria Eng. Natural\n",
      "\t KARTADO\n",
      "\t Consórcio Itá\n",
      "\t ENG. NATURAL (INTERVENÇÃO)\n",
      "[PRE-GES - UHE-ITA]: Aguardando aprovação técnica 1\n",
      "\tUsuários:\n",
      "\t Engie Energia -  engie\n",
      "\tEquipes:\n",
      "\t Nova Equipe\n",
      "\t ITAGEO\n",
      "\t Suprimentos\n",
      "\t TOPOGRAFIA\n",
      "\t TID\n",
      "\t EPS\n",
      "\t VALLIS [Consultoria ambiental]\n",
      "\t EM CONTRATAÇÃO\n",
      "\t Águas superficiais\n",
      "\t LAGO AZUL\n",
      "\t Monitoramento Ictiofauna\n",
      "\t GMA\n",
      "\t Coord. Alerta Sonoro\n",
      "\t IHMs\n",
      "\t INFRAESTRUTURA\n",
      "\t Gerência de Ativos\n",
      "\t MANUTENÇÃO MECÂNICA\n",
      "\t PATRIMÔNIO (DPS)\n",
      "\t ECOEQUILIBRIUM [Execução engenharia natural]\n",
      "\t MEIO AMBIENTE\n",
      "\t TELEVALE\n",
      "\t Administrativo\n",
      "\t SOMA\n",
      "\t Assessoria Jurídica\n",
      "\t Fundiário\n",
      "\t GEH\n",
      "\t MAXXI SOLUÇÕES\n",
      "\t Homologadores\n",
      "\t Fiscalização\n",
      "\t IPT\n",
      "\t SEGURANÇA DO TRABALHO\n",
      "\t INOVVO\n",
      "\t OPERAÇÃO\n",
      "\t MANUTENÇÃO CIVIL\n",
      "\t ARCADIS [Relatório licenciador]\n",
      "\t PRÉ-OPERAÇÃO\n",
      "\t HORTO BOTÂNICO\n",
      "\t SOCIOAMBIENTAL (Águas superficiais)\n",
      "\t Lis Serviços e Obras\n",
      "\t PROGRAMA DE VISITAS (CI)\n",
      "\t ECOA\n",
      "\t LAGO AZUL [Educação Ambiental]\n",
      "\t VIZINHOS DO LAGO\n",
      "\t LAGO AZUL [Central de Manutenção]\n",
      "\t Supervisão Eng. Natural\n",
      "\t Assessoria comunicação\n",
      "\t Consultoria Eng. Natural\n",
      "\t KARTADO\n",
      "\t Consórcio Itá\n",
      "\t ENG. NATURAL (INTERVENÇÃO)\n",
      "[PRE-GES - UHE-ITA]: Aguardando homologação 2\n",
      "\tUsuários:\n",
      "\t Engie Energia -  engie\n",
      "\tEquipes:\n",
      "\t Nova Equipe\n",
      "\t ITAGEO\n",
      "\t Suprimentos\n",
      "\t TOPOGRAFIA\n",
      "\t TID\n",
      "\t EPS\n",
      "\t VALLIS [Consultoria ambiental]\n",
      "\t EM CONTRATAÇÃO\n",
      "\t Águas superficiais\n",
      "\t LAGO AZUL\n",
      "\t Monitoramento Ictiofauna\n",
      "\t GMA\n",
      "\t Coord. Alerta Sonoro\n",
      "\t IHMs\n",
      "\t INFRAESTRUTURA\n",
      "\t Gerência de Ativos\n",
      "\t MANUTENÇÃO MECÂNICA\n",
      "\t PATRIMÔNIO (DPS)\n",
      "\t ECOEQUILIBRIUM [Execução engenharia natural]\n",
      "\t MEIO AMBIENTE\n",
      "\t TELEVALE\n",
      "\t Administrativo\n",
      "\t SOMA\n",
      "\t Assessoria Jurídica\n",
      "\t Fundiário\n",
      "\t GEH\n",
      "\t MAXXI SOLUÇÕES\n",
      "\t Homologadores\n",
      "\t Fiscalização\n",
      "\t IPT\n",
      "\t SEGURANÇA DO TRABALHO\n",
      "\t INOVVO\n",
      "\t OPERAÇÃO\n",
      "\t MANUTENÇÃO CIVIL\n",
      "\t ARCADIS [Relatório licenciador]\n",
      "\t PRÉ-OPERAÇÃO\n",
      "\t HORTO BOTÂNICO\n",
      "\t SOCIOAMBIENTAL (Águas superficiais)\n",
      "\t Lis Serviços e Obras\n",
      "\t PROGRAMA DE VISITAS (CI)\n",
      "\t ECOA\n",
      "\t LAGO AZUL [Educação Ambiental]\n",
      "\t VIZINHOS DO LAGO\n",
      "\t LAGO AZUL [Central de Manutenção]\n",
      "\t Supervisão Eng. Natural\n",
      "\t Assessoria comunicação\n",
      "\t Consultoria Eng. Natural\n",
      "\t KARTADO\n",
      "\t Consórcio Itá\n",
      "\t ENG. NATURAL (INTERVENÇÃO)\n",
      "[PRE-GES - UHE-ITA]: Atendido 3\n",
      "\tUsuários:\n",
      "\t Engie Energia -  engie\n",
      "\tEquipes:\n",
      "\t Nova Equipe\n",
      "\t ITAGEO\n",
      "\t Suprimentos\n",
      "\t TOPOGRAFIA\n",
      "\t TID\n",
      "\t EPS\n",
      "\t VALLIS [Consultoria ambiental]\n",
      "\t EM CONTRATAÇÃO\n",
      "\t Águas superficiais\n",
      "\t LAGO AZUL\n",
      "\t Monitoramento Ictiofauna\n",
      "\t GMA\n",
      "\t Coord. Alerta Sonoro\n",
      "\t IHMs\n",
      "\t INFRAESTRUTURA\n",
      "\t Gerência de Ativos\n",
      "\t MANUTENÇÃO MECÂNICA\n",
      "\t PATRIMÔNIO (DPS)\n",
      "\t ECOEQUILIBRIUM [Execução engenharia natural]\n",
      "\t MEIO AMBIENTE\n",
      "\t TELEVALE\n",
      "\t Administrativo\n",
      "\t SOMA\n",
      "\t Assessoria Jurídica\n",
      "\t Fundiário\n",
      "\t GEH\n",
      "\t MAXXI SOLUÇÕES\n",
      "\t Homologadores\n",
      "\t Fiscalização\n",
      "\t IPT\n",
      "\t SEGURANÇA DO TRABALHO\n",
      "\t INOVVO\n",
      "\t OPERAÇÃO\n",
      "\t MANUTENÇÃO CIVIL\n",
      "\t ARCADIS [Relatório licenciador]\n",
      "\t PRÉ-OPERAÇÃO\n",
      "\t HORTO BOTÂNICO\n",
      "\t SOCIOAMBIENTAL (Águas superficiais)\n",
      "\t Lis Serviços e Obras\n",
      "\t PROGRAMA DE VISITAS (CI)\n",
      "\t ECOA\n",
      "\t LAGO AZUL [Educação Ambiental]\n",
      "\t VIZINHOS DO LAGO\n",
      "\t LAGO AZUL [Central de Manutenção]\n",
      "\t Supervisão Eng. Natural\n",
      "\t Assessoria comunicação\n",
      "\t Consultoria Eng. Natural\n",
      "\t KARTADO\n",
      "\t Consórcio Itá\n",
      "\t ENG. NATURAL (INTERVENÇÃO)\n",
      "[PRE-GES - UHE-ITA]: Registro deferido 4\n",
      "\tUsuários:\n",
      "\t Engie Energia -  engie\n",
      "\tEquipes:\n",
      "\t Nova Equipe\n",
      "\t ITAGEO\n",
      "\t Suprimentos\n",
      "\t TOPOGRAFIA\n",
      "\t TID\n",
      "\t EPS\n",
      "\t VALLIS [Consultoria ambiental]\n",
      "\t EM CONTRATAÇÃO\n",
      "\t Águas superficiais\n",
      "\t LAGO AZUL\n",
      "\t Monitoramento Ictiofauna\n",
      "\t GMA\n",
      "\t Coord. Alerta Sonoro\n",
      "\t IHMs\n",
      "\t INFRAESTRUTURA\n",
      "\t Gerência de Ativos\n",
      "\t MANUTENÇÃO MECÂNICA\n",
      "\t PATRIMÔNIO (DPS)\n",
      "\t ECOEQUILIBRIUM [Execução engenharia natural]\n",
      "\t MEIO AMBIENTE\n",
      "\t TELEVALE\n",
      "\t Administrativo\n",
      "\t SOMA\n",
      "\t Assessoria Jurídica\n",
      "\t Fundiário\n",
      "\t GEH\n",
      "\t MAXXI SOLUÇÕES\n",
      "\t Homologadores\n",
      "\t Fiscalização\n",
      "\t IPT\n",
      "\t SEGURANÇA DO TRABALHO\n",
      "\t INOVVO\n",
      "\t OPERAÇÃO\n",
      "\t MANUTENÇÃO CIVIL\n",
      "\t ARCADIS [Relatório licenciador]\n",
      "\t PRÉ-OPERAÇÃO\n",
      "\t HORTO BOTÂNICO\n",
      "\t SOCIOAMBIENTAL (Águas superficiais)\n",
      "\t Lis Serviços e Obras\n",
      "\t PROGRAMA DE VISITAS (CI)\n",
      "\t ECOA\n",
      "\t LAGO AZUL [Educação Ambiental]\n",
      "\t VIZINHOS DO LAGO\n",
      "\t LAGO AZUL [Central de Manutenção]\n",
      "\t Supervisão Eng. Natural\n",
      "\t Assessoria comunicação\n",
      "\t Consultoria Eng. Natural\n",
      "\t KARTADO\n",
      "\t Consórcio Itá\n",
      "\t ENG. NATURAL (INTERVENÇÃO)\n",
      "[PRE-GES - UHE-ITA]: Necessita revisão 5\n",
      "\tUsuários:\n",
      "\t Engie Energia -  engie\n",
      "\tEquipes:\n",
      "\t Nova Equipe\n",
      "\t ITAGEO\n",
      "\t Suprimentos\n",
      "\t TOPOGRAFIA\n",
      "\t TID\n",
      "\t EPS\n",
      "\t VALLIS [Consultoria ambiental]\n",
      "\t EM CONTRATAÇÃO\n",
      "\t Águas superficiais\n",
      "\t LAGO AZUL\n",
      "\t Monitoramento Ictiofauna\n",
      "\t GMA\n",
      "\t Coord. Alerta Sonoro\n",
      "\t IHMs\n",
      "\t INFRAESTRUTURA\n",
      "\t Gerência de Ativos\n",
      "\t MANUTENÇÃO MECÂNICA\n",
      "\t PATRIMÔNIO (DPS)\n",
      "\t ECOEQUILIBRIUM [Execução engenharia natural]\n",
      "\t MEIO AMBIENTE\n",
      "\t TELEVALE\n",
      "\t Administrativo\n",
      "\t SOMA\n",
      "\t Assessoria Jurídica\n",
      "\t Fundiário\n",
      "\t GEH\n",
      "\t MAXXI SOLUÇÕES\n",
      "\t Homologadores\n",
      "\t Fiscalização\n",
      "\t IPT\n",
      "\t SEGURANÇA DO TRABALHO\n",
      "\t INOVVO\n",
      "\t OPERAÇÃO\n",
      "\t MANUTENÇÃO CIVIL\n",
      "\t ARCADIS [Relatório licenciador]\n",
      "\t PRÉ-OPERAÇÃO\n",
      "\t HORTO BOTÂNICO\n",
      "\t SOCIOAMBIENTAL (Águas superficiais)\n",
      "\t Lis Serviços e Obras\n",
      "\t PROGRAMA DE VISITAS (CI)\n",
      "\t ECOA\n",
      "\t LAGO AZUL [Educação Ambiental]\n",
      "\t VIZINHOS DO LAGO\n",
      "\t LAGO AZUL [Central de Manutenção]\n",
      "\t Supervisão Eng. Natural\n",
      "\t Assessoria comunicação\n",
      "\t Consultoria Eng. Natural\n",
      "\t KARTADO\n",
      "\t Consórcio Itá\n",
      "\t ENG. NATURAL (INTERVENÇÃO)\n",
      "[PRE-GES - UHE-ITA]: Registro indeferido 6\n",
      "\tUsuários:\n",
      "\t Engie Energia -  engie\n",
      "\tEquipes:\n",
      "\t IHMs\n",
      "\t PATRIMÔNIO (DPS)\n",
      "\t SEGURANÇA DO TRABALHO\n",
      "\t TID\n",
      "\t IPT\n",
      "\t Fiscalização\n",
      "\t Coord. Alerta Sonoro\n",
      "\t TOPOGRAFIA\n",
      "\t Águas superficiais\n",
      "\t Fundiário\n",
      "\t HORTO BOTÂNICO\n",
      "\t ARCADIS [Relatório licenciador]\n",
      "\t KARTADO\n",
      "\t ECOEQUILIBRIUM [Execução engenharia natural]\n",
      "\t EM CONTRATAÇÃO\n",
      "\t Nova Equipe\n",
      "\t ENG. NATURAL (INTERVENÇÃO)\n",
      "\t LAGO AZUL [Central de Manutenção]\n",
      "\t VALLIS [Consultoria ambiental]\n",
      "\t TELEVALE\n",
      "\t Assessoria comunicação\n",
      "\t PROGRAMA DE VISITAS (CI)\n",
      "\t VIZINHOS DO LAGO\n",
      "\t Suprimentos\n",
      "\t ECOA\n",
      "\t ITAGEO\n",
      "\t Lis Serviços e Obras\n",
      "\t Homologadores\n",
      "\t LAGO AZUL [Educação Ambiental]\n",
      "\t Administrativo\n",
      "\t Supervisão Eng. Natural\n",
      "\t INOVVO\n",
      "\t Gerência de Ativos\n",
      "\t GEH\n",
      "\t LAGO AZUL\n",
      "\t MAXXI SOLUÇÕES\n",
      "\t INFRAESTRUTURA\n",
      "\t EPS\n",
      "\t Assessoria Jurídica\n",
      "\t PRÉ-OPERAÇÃO\n",
      "\t OPERAÇÃO\n",
      "\t MANUTENÇÃO CIVIL\n",
      "\t Consórcio Itá\n",
      "\t GMA\n",
      "\t MEIO AMBIENTE\n",
      "\t SOCIOAMBIENTAL (Águas superficiais)\n",
      "\t Consultoria Eng. Natural\n",
      "\t SOMA\n",
      "\t MANUTENÇÃO MECÂNICA\n",
      "\t Monitoramento Ictiofauna\n",
      "[PRE-GES - UHE-ITA]: Em revisão 7\n",
      "\tUsuários:\n",
      "\t Engie Energia -  engie\n",
      "\tEquipes:\n",
      "\t Nova Equipe\n",
      "\t ITAGEO\n",
      "\t Suprimentos\n",
      "\t TOPOGRAFIA\n",
      "\t TID\n",
      "\t EPS\n",
      "\t VALLIS [Consultoria ambiental]\n",
      "\t EM CONTRATAÇÃO\n",
      "\t Águas superficiais\n",
      "\t LAGO AZUL\n",
      "\t Monitoramento Ictiofauna\n",
      "\t GMA\n",
      "\t Coord. Alerta Sonoro\n",
      "\t IHMs\n",
      "\t INFRAESTRUTURA\n",
      "\t Gerência de Ativos\n",
      "\t MANUTENÇÃO MECÂNICA\n",
      "\t PATRIMÔNIO (DPS)\n",
      "\t ECOEQUILIBRIUM [Execução engenharia natural]\n",
      "\t MEIO AMBIENTE\n",
      "\t TELEVALE\n",
      "\t Administrativo\n",
      "\t SOMA\n",
      "\t Assessoria Jurídica\n",
      "\t Fundiário\n",
      "\t GEH\n",
      "\t MAXXI SOLUÇÕES\n",
      "\t Homologadores\n",
      "\t Fiscalização\n",
      "\t IPT\n",
      "\t SEGURANÇA DO TRABALHO\n",
      "\t INOVVO\n",
      "\t OPERAÇÃO\n",
      "\t MANUTENÇÃO CIVIL\n",
      "\t ARCADIS [Relatório licenciador]\n",
      "\t PRÉ-OPERAÇÃO\n",
      "\t HORTO BOTÂNICO\n",
      "\t SOCIOAMBIENTAL (Águas superficiais)\n",
      "\t Lis Serviços e Obras\n",
      "\t PROGRAMA DE VISITAS (CI)\n",
      "\t ECOA\n",
      "\t LAGO AZUL [Educação Ambiental]\n",
      "\t VIZINHOS DO LAGO\n",
      "\t LAGO AZUL [Central de Manutenção]\n",
      "\t Supervisão Eng. Natural\n",
      "\t Assessoria comunicação\n",
      "\t Consultoria Eng. Natural\n",
      "\t KARTADO\n",
      "\t Consórcio Itá\n",
      "\t ENG. NATURAL (INTERVENÇÃO)\n"
     ]
    }
   ],
   "source": [
    "print(aps2[0].approval_flow.company.name,\" - Fluxo Apontamentos\")\n",
    "for i,a in enumerate(aps2):\n",
    "#     print(a,i,a.uuid)\n",
    "    print(a,i)\n",
    "    print('\\tUsuários:')\n",
    "    for b in a.responsible_users.all():\n",
    "#         if a.name == \"Aguardando Aprovação\":\n",
    "        print('\\t',b.first_name,b.last_name,'- ',b.username)\n",
    "#                 aps2[5].responsible_users.add(User.objects.get(username=b.username))\n",
    "    print('\\tEquipes:')\n",
    "    for c in a.responsible_firms.all():\n",
    "        print('\\t',c.name)"
   ]
  },
  {
   "cell_type": "code",
   "execution_count": 32,
   "id": "ed6865a0",
   "metadata": {},
   "outputs": [],
   "source": [
    "# aps2[2].responsible_users.add(*User.objects.filter(username__in=['rlcs']))\n",
    "aps2[4].responsible_users.clear()\n",
    "# aps2[0].responsible_users.add(*User.objects.filter(username__in=list(UserInCompany.objects.filter(company=company,user__email__icontains=\"kartado\").values_list('user__username',flat=True))))\n",
    "# aps2[2].responsible_firms.add(*Firm.objects.filter(company=company,name__in=['Aprovadores de Apontamentos']))"
   ]
  },
  {
   "cell_type": "code",
   "execution_count": 9,
   "id": "8404eb62",
   "metadata": {
    "scrolled": true
   },
   "outputs": [
    {
     "data": {
      "text/plain": [
       "{'_state': <django.db.models.base.ModelState at 0x7f94db950c10>,\n",
       " 'uuid': UUID('35ae20d1-7ac3-40b6-8abb-70a063636c3f'),\n",
       " 'name': 'Criado',\n",
       " 'approval_flow_id': UUID('f7f7b8a2-30c2-4f8f-be86-f8a1eb1506ed'),\n",
       " 'field_options': {},\n",
       " 'responsible_created_by': True,\n",
       " 'responsible_supervisor': False,\n",
       " 'responsible_firm_entity': False,\n",
       " 'responsible_firm_manager': False,\n",
       " 'auto_execute_transition': False,\n",
       " 'responsible_json_logic': {},\n",
       " 'color': '#FF0000'}"
      ]
     },
     "execution_count": 9,
     "metadata": {},
     "output_type": "execute_result"
    }
   ],
   "source": [
    "aps2[0].__dict__"
   ]
  },
  {
   "cell_type": "code",
   "execution_count": 16,
   "id": "15c529ac",
   "metadata": {},
   "outputs": [],
   "source": [
    "# for a in aps2[1].responsible_users.all():\n",
    "#     aps2[3].responsible_users.add(a)"
   ]
  },
  {
   "cell_type": "code",
   "execution_count": 8,
   "id": "4c9d2943",
   "metadata": {},
   "outputs": [
    {
     "data": {
      "text/plain": [
       "<QuerySet []>"
      ]
     },
     "execution_count": 8,
     "metadata": {},
     "output_type": "execute_result"
    }
   ],
   "source": [
    "aps5 = ApprovalStep.objects.filter(approval_flow__company=company,approval_flow__target_model__icontains=\"measurement\")\n",
    "aps5"
   ]
  },
  {
   "cell_type": "code",
   "execution_count": 31,
   "id": "c6ad3a67",
   "metadata": {},
   "outputs": [
    {
     "ename": "IndexError",
     "evalue": "list index out of range",
     "output_type": "error",
     "traceback": [
      "\u001b[0;31m---------------------------------------------------------------------------\u001b[0m",
      "\u001b[0;31mIndexError\u001b[0m                                Traceback (most recent call last)",
      "\u001b[0;32m/tmp/ipykernel_42528/1379707637.py\u001b[0m in \u001b[0;36m<module>\u001b[0;34m\u001b[0m\n\u001b[0;32m----> 1\u001b[0;31m \u001b[0mprint\u001b[0m\u001b[0;34m(\u001b[0m\u001b[0maps5\u001b[0m\u001b[0;34m[\u001b[0m\u001b[0;36m0\u001b[0m\u001b[0;34m]\u001b[0m\u001b[0;34m.\u001b[0m\u001b[0mapproval_flow\u001b[0m\u001b[0;34m.\u001b[0m\u001b[0mcompany\u001b[0m\u001b[0;34m.\u001b[0m\u001b[0mname\u001b[0m\u001b[0;34m,\u001b[0m\u001b[0;34m\" - Boletim\"\u001b[0m\u001b[0;34m)\u001b[0m\u001b[0;34m\u001b[0m\u001b[0;34m\u001b[0m\u001b[0m\n\u001b[0m\u001b[1;32m      2\u001b[0m \u001b[0;32mfor\u001b[0m \u001b[0mi\u001b[0m\u001b[0;34m,\u001b[0m\u001b[0ma\u001b[0m \u001b[0;32min\u001b[0m \u001b[0menumerate\u001b[0m\u001b[0;34m(\u001b[0m\u001b[0maps5\u001b[0m\u001b[0;34m)\u001b[0m\u001b[0;34m:\u001b[0m\u001b[0;34m\u001b[0m\u001b[0;34m\u001b[0m\u001b[0m\n\u001b[1;32m      3\u001b[0m \u001b[0;31m#     print(a,i,a.uuid)\u001b[0m\u001b[0;34m\u001b[0m\u001b[0;34m\u001b[0m\u001b[0;34m\u001b[0m\u001b[0m\n\u001b[1;32m      4\u001b[0m     \u001b[0mprint\u001b[0m\u001b[0;34m(\u001b[0m\u001b[0ma\u001b[0m\u001b[0;34m,\u001b[0m\u001b[0mi\u001b[0m\u001b[0;34m)\u001b[0m\u001b[0;34m\u001b[0m\u001b[0;34m\u001b[0m\u001b[0m\n\u001b[1;32m      5\u001b[0m     \u001b[0mprint\u001b[0m\u001b[0;34m(\u001b[0m\u001b[0;34m'\\tUsuários:'\u001b[0m\u001b[0;34m)\u001b[0m\u001b[0;34m\u001b[0m\u001b[0;34m\u001b[0m\u001b[0m\n",
      "\u001b[0;32m~/.cache/pypoetry/virtualenvs/apps-ZFymp6kh-py3.7/lib/python3.7/site-packages/django/db/models/query.py\u001b[0m in \u001b[0;36m__getitem__\u001b[0;34m(self, k)\u001b[0m\n\u001b[1;32m    307\u001b[0m         \u001b[0mqs\u001b[0m\u001b[0;34m.\u001b[0m\u001b[0mquery\u001b[0m\u001b[0;34m.\u001b[0m\u001b[0mset_limits\u001b[0m\u001b[0;34m(\u001b[0m\u001b[0mk\u001b[0m\u001b[0;34m,\u001b[0m \u001b[0mk\u001b[0m \u001b[0;34m+\u001b[0m \u001b[0;36m1\u001b[0m\u001b[0;34m)\u001b[0m\u001b[0;34m\u001b[0m\u001b[0;34m\u001b[0m\u001b[0m\n\u001b[1;32m    308\u001b[0m         \u001b[0mqs\u001b[0m\u001b[0;34m.\u001b[0m\u001b[0m_fetch_all\u001b[0m\u001b[0;34m(\u001b[0m\u001b[0;34m)\u001b[0m\u001b[0;34m\u001b[0m\u001b[0;34m\u001b[0m\u001b[0m\n\u001b[0;32m--> 309\u001b[0;31m         \u001b[0;32mreturn\u001b[0m \u001b[0mqs\u001b[0m\u001b[0;34m.\u001b[0m\u001b[0m_result_cache\u001b[0m\u001b[0;34m[\u001b[0m\u001b[0;36m0\u001b[0m\u001b[0;34m]\u001b[0m\u001b[0;34m\u001b[0m\u001b[0;34m\u001b[0m\u001b[0m\n\u001b[0m\u001b[1;32m    310\u001b[0m \u001b[0;34m\u001b[0m\u001b[0m\n\u001b[1;32m    311\u001b[0m     \u001b[0;32mdef\u001b[0m \u001b[0m__and__\u001b[0m\u001b[0;34m(\u001b[0m\u001b[0mself\u001b[0m\u001b[0;34m,\u001b[0m \u001b[0mother\u001b[0m\u001b[0;34m)\u001b[0m\u001b[0;34m:\u001b[0m\u001b[0;34m\u001b[0m\u001b[0;34m\u001b[0m\u001b[0m\n",
      "\u001b[0;31mIndexError\u001b[0m: list index out of range"
     ]
    }
   ],
   "source": [
    "print(aps5[0].approval_flow.company.name,\" - Boletim\")\n",
    "for i,a in enumerate(aps5):\n",
    "#     print(a,i,a.uuid)\n",
    "    print(a,i)\n",
    "    print('\\tUsuários:')\n",
    "    for b in a.responsible_users.all():\n",
    "#         if a.name == \"Aguardando Aprovação\":\n",
    "        print('\\t',b.first_name,b.last_name,'- ',b.username)\n",
    "#                 aps2[5].responsible_users.add(User.objects.get(username=b.username))\n",
    "    print('\\tEquipes:')\n",
    "    for c in a.responsible_firms.all():\n",
    "        print('\\t',c.name)"
   ]
  },
  {
   "cell_type": "code",
   "execution_count": null,
   "id": "6665fb86",
   "metadata": {},
   "outputs": [],
   "source": [
    "aps5[1].responsible_users.add(*User.objects.filter(username__in=['johnata.souza']))"
   ]
  },
  {
   "cell_type": "code",
   "execution_count": 4,
   "id": "d931da31",
   "metadata": {},
   "outputs": [
    {
     "data": {
      "text/plain": [
       "<QuerySet [<ApprovalStep: [Engie Umburanas]: Aguardando Aprovação>, <ApprovalStep: [Engie Umburanas]: Aprovado>]>"
      ]
     },
     "execution_count": 4,
     "metadata": {},
     "output_type": "execute_result"
    }
   ],
   "source": [
    "aps3 = ApprovalStep.objects.filter(approval_flow__company=company,approval_flow__target_model__icontains=\"access\")\n",
    "aps3"
   ]
  },
  {
   "cell_type": "code",
   "execution_count": 5,
   "id": "bfc9e2cb",
   "metadata": {},
   "outputs": [
    {
     "name": "stdout",
     "output_type": "stream",
     "text": [
      "Engie Umburanas  - Fluxo de Requisição de Usuário\n",
      "[Engie Umburanas]: Aguardando Aprovação 0\n",
      "\tEquipes:\n",
      "[Engie Umburanas]: Aprovado 1\n",
      "\tEquipes:\n"
     ]
    }
   ],
   "source": [
    "print(aps3[0].approval_flow.company.name,\" - Fluxo de Requisição de Usuário\")\n",
    "for i,a in enumerate(aps3):\n",
    "    print(a,i)\n",
    "    for b in a.responsible_users.all():\n",
    "#         if a.name == \"Aguardando Aprovação\":\n",
    "        print('\\t',b.first_name,b.last_name,'- ',b.username)\n",
    "#                 aps2[5].responsible_users.add(User.objects.get(username=b.username))\n",
    "    print('\\tEquipes:')\n",
    "    for c in a.responsible_firms.all():\n",
    "        print('\\t',c.name)"
   ]
  },
  {
   "cell_type": "code",
   "execution_count": 6,
   "id": "d2d740eb",
   "metadata": {},
   "outputs": [
    {
     "data": {
      "text/plain": [
       "{'_state': <django.db.models.base.ModelState at 0x7f4ca2dcda50>,\n",
       " 'uuid': UUID('54be2f5d-b0a8-4d86-aa67-5ec6caad3a60'),\n",
       " 'name': 'Aguardando Aprovação',\n",
       " 'approval_flow_id': UUID('7fe41e8a-aaeb-49f3-8ae7-70174216d99f'),\n",
       " 'field_options': {'required': ['relationships.permissions.data.id']},\n",
       " 'responsible_created_by': False,\n",
       " 'responsible_supervisor': False,\n",
       " 'responsible_firm_entity': False,\n",
       " 'responsible_firm_manager': False,\n",
       " 'auto_execute_transition': True,\n",
       " 'responsible_json_logic': {},\n",
       " 'color': '#FF0000'}"
      ]
     },
     "execution_count": 6,
     "metadata": {},
     "output_type": "execute_result"
    }
   ],
   "source": [
    "aps3[0].__dict__"
   ]
  },
  {
   "cell_type": "code",
   "execution_count": 4,
   "id": "e7ee7038",
   "metadata": {},
   "outputs": [],
   "source": [
    "# aps3[0].responsible_users.add(*User.objects.filter(username__in=['rlcs']))"
   ]
  },
  {
   "cell_type": "code",
   "execution_count": 11,
   "id": "50e5a843",
   "metadata": {},
   "outputs": [],
   "source": [
    "# aps3[0].auto_execute_transition=True\n",
    "# aps3[0].save()"
   ]
  },
  {
   "cell_type": "code",
   "execution_count": 16,
   "id": "d468db71",
   "metadata": {},
   "outputs": [
    {
     "ename": "AttributeError",
     "evalue": "'User' object has no attribute 'user_in_company'",
     "output_type": "error",
     "traceback": [
      "\u001b[0;31m---------------------------------------------------------------------------\u001b[0m",
      "\u001b[0;31mAttributeError\u001b[0m                            Traceback (most recent call last)",
      "\u001b[0;32m/tmp/ipykernel_44489/263927036.py\u001b[0m in \u001b[0;36m<module>\u001b[0;34m\u001b[0m\n\u001b[1;32m      1\u001b[0m \u001b[0musers\u001b[0m \u001b[0;34m=\u001b[0m \u001b[0mUser\u001b[0m\u001b[0;34m.\u001b[0m\u001b[0mobjects\u001b[0m\u001b[0;34m.\u001b[0m\u001b[0mfilter\u001b[0m\u001b[0;34m(\u001b[0m\u001b[0mcompanies\u001b[0m\u001b[0;34m=\u001b[0m\u001b[0mcompany\u001b[0m\u001b[0;34m)\u001b[0m\u001b[0;34m\u001b[0m\u001b[0;34m\u001b[0m\u001b[0m\n\u001b[0;32m----> 2\u001b[0;31m \u001b[0musers\u001b[0m\u001b[0;34m[\u001b[0m\u001b[0;36m0\u001b[0m\u001b[0;34m]\u001b[0m\u001b[0;34m.\u001b[0m\u001b[0muser_in_company\u001b[0m\u001b[0;34m\u001b[0m\u001b[0;34m\u001b[0m\u001b[0m\n\u001b[0m",
      "\u001b[0;31mAttributeError\u001b[0m: 'User' object has no attribute 'user_in_company'"
     ]
    }
   ],
   "source": [
    "users = User.objects.filter(companies=company)\n",
    "users[0].user_in_company"
   ]
  },
  {
   "cell_type": "markdown",
   "id": "6f5da2b2",
   "metadata": {},
   "source": [
    "# TRANSITION"
   ]
  },
  {
   "cell_type": "code",
   "execution_count": 18,
   "id": "abbc2666",
   "metadata": {},
   "outputs": [
    {
     "data": {
      "text/plain": [
       "<Company: d436bd3c-e145-44f2-a5ee-797a67110efd: PRE-GES - UHE-ITA>"
      ]
     },
     "execution_count": 18,
     "metadata": {},
     "output_type": "execute_result"
    }
   ],
   "source": [
    "company= Company.objects.filter(name=\"PRE-GES - UHE-ITA\").first()\n",
    "company"
   ]
  },
  {
   "cell_type": "code",
   "execution_count": 19,
   "id": "80cf2914",
   "metadata": {
    "scrolled": true
   },
   "outputs": [
    {
     "data": {
      "text/plain": [
       "(<QuerySet [<User: engie - Engie Energia>]>,\n",
       " <QuerySet [<ApprovalTransition: [Solicitar aprovação técnica]: Registro em elaboração - Aguardando aprovação técnica>]>)"
      ]
     },
     "execution_count": 19,
     "metadata": {},
     "output_type": "execute_result"
    }
   ],
   "source": [
    "at=ApprovalTransition.objects.filter(\n",
    "    destination__approval_flow__company=company,destination__approval_flow__target_model__icontains=\"occurrence\")\n",
    "at[0].origin.responsible_users.all(),at"
   ]
  },
  {
   "cell_type": "code",
   "execution_count": 20,
   "id": "1fcba70a",
   "metadata": {},
   "outputs": [
    {
     "name": "stdout",
     "output_type": "stream",
     "text": [
      "PRE-GES - UHE-ITA\n",
      "Registro em elaboração > BOTÃO: [Solicitar aprovação técnica] > Aguardando aprovação técnica\n"
     ]
    }
   ],
   "source": [
    "print(company.name)\n",
    "for a in at:\n",
    "    print(f\"{a.origin.name} > BOTÃO: {str(a).split(':')[0]} > {a.destination.name}\")"
   ]
  },
  {
   "cell_type": "code",
   "execution_count": 23,
   "id": "fb325a3d",
   "metadata": {},
   "outputs": [
    {
     "data": {
      "text/plain": [
       "({'_state': <django.db.models.base.ModelState at 0x718540960640>,\n",
       "  'uuid': UUID('6cd7d4c8-08b5-4fb1-9c19-09154425d2c4'),\n",
       "  'name': 'Solicitar aprovação técnica',\n",
       "  'origin_id': UUID('4f7cc453-851a-4700-9510-f682414f198b'),\n",
       "  'destination_id': UUID('569327c8-b79b-447a-9e79-3b19616054cc'),\n",
       "  'condition': {'===': [{'var': 'request.action'},\n",
       "    'Solicitar aprovação técnica']},\n",
       "  'callback': {'change_fields': [{'name': 'editable', 'value': False},\n",
       "    {'name': 'status',\n",
       "     'value': {'type': 'object',\n",
       "      'model': 'service_orders.ServiceOrderActionStatus',\n",
       "      'filters': {'uuid': '5a0cd4af-c36c-4348-899d-d30ec1b0d996'}}}]},\n",
       "  'button': {'icon': 'assignment', 'color': 'primary', 'variant': 'raised'},\n",
       "  'order': '1'},\n",
       " 'Registro em elaboração',\n",
       " 'Aguardando aprovação técnica')"
      ]
     },
     "execution_count": 23,
     "metadata": {},
     "output_type": "execute_result"
    }
   ],
   "source": [
    "at[0].__dict__,at[0].origin.name,at[0].destination.name"
   ]
  },
  {
   "cell_type": "markdown",
   "id": "bd7d5ca4",
   "metadata": {},
   "source": [
    "# Relatório Transitions"
   ]
  },
  {
   "cell_type": "code",
   "execution_count": 21,
   "id": "cf2a75c3",
   "metadata": {},
   "outputs": [
    {
     "name": "stdout",
     "output_type": "stream",
     "text": [
      "PRE-GES - UHE-ITA\n",
      "Registro em elaboração > BOTÃO: [Solicitar aprovação técnica] > Aguardando aprovação técnica\n"
     ]
    }
   ],
   "source": [
    "data=[]\n",
    "print(company.name)\n",
    "for a in at:\n",
    "    try:\n",
    "        editable=''\n",
    "        equipes,responsaveis=[],[]\n",
    "#         responsible_created_by,responsible_supervisor,responsible_firm_entity,responsible_firm_manager=False,False,False,False\n",
    "        equipes=[] if not a.origin.responsible_firms.exists() else list(a.origin.responsible_firms.values_list('name',flat=True))\n",
    "        responsaveis=[] if not a.origin.responsible_users.exists() else list(a.origin.responsible_users.values_list('username',flat=True))\n",
    "        if any(call['value'] for call in a.callback['change_fields'] if call['name'] == 'editable'):\n",
    "            editable = next(call['value'] for call in a.callback['change_fields'] if call['name'] == 'editable')\n",
    "        data.append({'Origem':a.origin.name,\n",
    "                     'Botão':str(a).split(':')[0],\n",
    "                     'Destino':a.destination.name,\n",
    "                     'Editável':editable,\n",
    "                     'Equipes': equipes,\n",
    "                     \"Responsáveis\":responsaveis,\n",
    "                     'Criador Responsável':a.origin.responsible_created_by,\n",
    "                    'Supervisor Responsável':a.origin.responsible_supervisor,\n",
    "                    'Entidade Equipe Responsável':a.origin.responsible_firm_entity,\n",
    "                    'Manager da Equipe Responsável':a.origin.responsible_firm_manager})\n",
    "        print(f\"{a.origin.name} > BOTÃO: {str(a).split(':')[0]} > {a.destination.name}\")\n",
    "    except Exception as e:\n",
    "        print(a.callback['change_fields'],e)"
   ]
  },
  {
   "cell_type": "code",
   "execution_count": 22,
   "id": "ae511ffc",
   "metadata": {
    "scrolled": true
   },
   "outputs": [
    {
     "data": {
      "text/plain": [
       "[{'Origem': 'Registro em elaboração',\n",
       "  'Botão': '[Solicitar aprovação técnica]',\n",
       "  'Destino': 'Aguardando aprovação técnica',\n",
       "  'Editável': '',\n",
       "  'Equipes': ['Nova Equipe',\n",
       "   'ITAGEO',\n",
       "   'Suprimentos',\n",
       "   'TOPOGRAFIA',\n",
       "   'TID',\n",
       "   'EPS',\n",
       "   'VALLIS [Consultoria ambiental]',\n",
       "   'EM CONTRATAÇÃO',\n",
       "   'Águas superficiais',\n",
       "   'LAGO AZUL',\n",
       "   'Monitoramento Ictiofauna',\n",
       "   'GMA',\n",
       "   'Coord. Alerta Sonoro',\n",
       "   'IHMs',\n",
       "   'INFRAESTRUTURA',\n",
       "   'Gerência de Ativos',\n",
       "   'MANUTENÇÃO MECÂNICA',\n",
       "   'PATRIMÔNIO (DPS)',\n",
       "   'ECOEQUILIBRIUM [Execução engenharia natural]',\n",
       "   'MEIO AMBIENTE',\n",
       "   'TELEVALE',\n",
       "   'Administrativo',\n",
       "   'SOMA',\n",
       "   'Assessoria Jurídica',\n",
       "   'Fundiário',\n",
       "   'GEH',\n",
       "   'MAXXI SOLUÇÕES',\n",
       "   'Homologadores',\n",
       "   'Fiscalização',\n",
       "   'IPT',\n",
       "   'SEGURANÇA DO TRABALHO',\n",
       "   'INOVVO',\n",
       "   'OPERAÇÃO',\n",
       "   'MANUTENÇÃO CIVIL',\n",
       "   'ARCADIS [Relatório licenciador]',\n",
       "   'PRÉ-OPERAÇÃO',\n",
       "   'HORTO BOTÂNICO',\n",
       "   'SOCIOAMBIENTAL (Águas superficiais)',\n",
       "   'Lis Serviços e Obras',\n",
       "   'PROGRAMA DE VISITAS (CI)',\n",
       "   'ECOA',\n",
       "   'LAGO AZUL [Educação Ambiental]',\n",
       "   'VIZINHOS DO LAGO',\n",
       "   'LAGO AZUL [Central de Manutenção]',\n",
       "   'Supervisão Eng. Natural',\n",
       "   'Assessoria comunicação',\n",
       "   'Consultoria Eng. Natural',\n",
       "   'KARTADO',\n",
       "   'Consórcio Itá',\n",
       "   'ENG. NATURAL (INTERVENÇÃO)'],\n",
       "  'Responsáveis': ['engie'],\n",
       "  'Criador Responsável': True,\n",
       "  'Supervisor Responsável': False,\n",
       "  'Entidade Equipe Responsável': False,\n",
       "  'Manager da Equipe Responsável': False}]"
      ]
     },
     "execution_count": 22,
     "metadata": {},
     "output_type": "execute_result"
    }
   ],
   "source": [
    "data"
   ]
  },
  {
   "cell_type": "code",
   "execution_count": 51,
   "id": "929c0268",
   "metadata": {},
   "outputs": [],
   "source": [
    "import pandas as pd\n",
    "df=pd.DataFrame(data)"
   ]
  },
  {
   "cell_type": "code",
   "execution_count": 17,
   "id": "2e98ed84",
   "metadata": {
    "scrolled": true
   },
   "outputs": [
    {
     "ename": "NameError",
     "evalue": "name 'df' is not defined",
     "output_type": "error",
     "traceback": [
      "\u001b[0;31m---------------------------------------------------------------------------\u001b[0m",
      "\u001b[0;31mNameError\u001b[0m                                 Traceback (most recent call last)",
      "\u001b[0;32m/tmp/ipykernel_4065/1396537375.py\u001b[0m in \u001b[0;36m<cell line: 1>\u001b[0;34m()\u001b[0m\n\u001b[0;32m----> 1\u001b[0;31m \u001b[0mdf\u001b[0m\u001b[0;34m\u001b[0m\u001b[0;34m\u001b[0m\u001b[0m\n\u001b[0m",
      "\u001b[0;31mNameError\u001b[0m: name 'df' is not defined"
     ]
    }
   ],
   "source": [
    "df"
   ]
  },
  {
   "cell_type": "code",
   "execution_count": 53,
   "id": "9c9eeac8",
   "metadata": {},
   "outputs": [],
   "source": [
    "df.to_excel('Transition_Engie_GSO.xlsx',index=False)"
   ]
  },
  {
   "cell_type": "code",
   "execution_count": 7,
   "id": "b9ee2e28",
   "metadata": {},
   "outputs": [
    {
     "data": {
      "text/plain": [
       "False"
      ]
     },
     "execution_count": 7,
     "metadata": {},
     "output_type": "execute_result"
    }
   ],
   "source": [
    "a.origin.responsible_firms.exists()"
   ]
  },
  {
   "cell_type": "code",
   "execution_count": 9,
   "id": "6577731f",
   "metadata": {},
   "outputs": [
    {
     "data": {
      "text/plain": [
       "({'_state': <django.db.models.base.ModelState at 0x736f94055d60>,\n",
       "  'uuid': UUID('0ed63b98-4d91-4462-a5d2-62cfc4a64958'),\n",
       "  'name': 'Solicitar Revisão',\n",
       "  'origin_id': UUID('b49723a4-29b1-4f5d-b471-fed2caf7d344'),\n",
       "  'destination_id': UUID('0bf5fc16-c975-4ec4-ab14-6c957261a6b2'),\n",
       "  'condition': {'===': [{'var': 'request.action'}, 'Solicitar Revisão']},\n",
       "  'callback': {'change_fields': [{'name': 'editable', 'value': True}]},\n",
       "  'button': {'icon': 'warning',\n",
       "   'color': 'amber',\n",
       "   'variant': 'outlined',\n",
       "   'needs_dialog': True},\n",
       "  'order': ''},\n",
       " 'Aguardando Aprovação',\n",
       " 'Em Revisão')"
      ]
     },
     "execution_count": 9,
     "metadata": {},
     "output_type": "execute_result"
    }
   ],
   "source": [
    "at[3].__dict__,at[3].origin.name,at[3].destination.name"
   ]
  },
  {
   "cell_type": "code",
   "execution_count": 8,
   "id": "c13f12cb",
   "metadata": {},
   "outputs": [
    {
     "data": {
      "text/plain": [
       "({'_state': <django.db.models.base.ModelState at 0x7fe9c2bea580>,\n",
       "  'uuid': UUID('91c4c9f9-f7c7-473c-8341-f832437dd4a9'),\n",
       "  'name': 'Não compartilhar com ANTT',\n",
       "  'origin_id': UUID('48b45dd6-c0db-4895-b1b8-068a47de58af'),\n",
       "  'destination_id': UUID('bc77b464-cbb3-48a4-88ef-951559c99d5e'),\n",
       "  'condition': {'===': [{'var': 'request.action'},\n",
       "    'Não compartilhar com ANTT']},\n",
       "  'callback': {'change_fields': [{'name': 'shared_with_agency',\n",
       "     'value': False}]},\n",
       "  'button': {'icon': 'close', 'color': 'red', 'variant': 'outlined'},\n",
       "  'order': '2'},\n",
       " 'Compartilhado com ANTT',\n",
       " 'Não compartilhar com ANTT')"
      ]
     },
     "execution_count": 8,
     "metadata": {},
     "output_type": "execute_result"
    }
   ],
   "source": [
    "at[5].__dict__,at[5].origin.name,at[5].destination.name"
   ]
  },
  {
   "cell_type": "code",
   "execution_count": 9,
   "id": "6cd0b44e",
   "metadata": {},
   "outputs": [
    {
     "data": {
      "text/plain": [
       "({'_state': <django.db.models.base.ModelState at 0x7fe9c2bea220>,\n",
       "  'uuid': UUID('6bc152ce-f67e-46f6-b823-fc3888dc3828'),\n",
       "  'name': 'Compartilhar com ANTT',\n",
       "  'origin_id': UUID('bc77b464-cbb3-48a4-88ef-951559c99d5e'),\n",
       "  'destination_id': UUID('48b45dd6-c0db-4895-b1b8-068a47de58af'),\n",
       "  'condition': {'===': [{'var': 'request.action'}, 'Compartilhar com ANTT']},\n",
       "  'callback': {'change_fields': [{'name': 'shared_with_agency',\n",
       "     'value': True}]},\n",
       "  'button': {'icon': 'done', 'color': 'primary', 'variant': 'raised'},\n",
       "  'order': '2'},\n",
       " 'Não compartilhar com ANTT',\n",
       " 'Compartilhado com ANTT')"
      ]
     },
     "execution_count": 9,
     "metadata": {},
     "output_type": "execute_result"
    }
   ],
   "source": [
    "at[6].__dict__,at[6].origin.name,at[6].destination.name"
   ]
  },
  {
   "cell_type": "code",
   "execution_count": 10,
   "id": "c4c0bad3",
   "metadata": {},
   "outputs": [
    {
     "data": {
      "text/plain": [
       "({'_state': <django.db.models.base.ModelState at 0x7fe9c2bea520>,\n",
       "  'uuid': UUID('c8beb1b8-b93a-4573-9b46-94f601e04bf7'),\n",
       "  'name': 'Compartilhar com ANTT',\n",
       "  'origin_id': UUID('8c9b2ff0-f694-4d29-b838-ea2eadfdbe0d'),\n",
       "  'destination_id': UUID('48b45dd6-c0db-4895-b1b8-068a47de58af'),\n",
       "  'condition': {'===': [{'var': 'request.action'}, 'Compartilhar com ANTT']},\n",
       "  'callback': {'change_fields': [{'name': 'shared_with_agency',\n",
       "     'value': True}]},\n",
       "  'button': {'icon': 'done', 'color': 'primary', 'variant': 'raised'},\n",
       "  'order': ''},\n",
       " 'Aprovado',\n",
       " 'Compartilhado com ANTT')"
      ]
     },
     "execution_count": 10,
     "metadata": {},
     "output_type": "execute_result"
    }
   ],
   "source": [
    "at[7].__dict__,at[7].origin.name,at[7].destination.name"
   ]
  },
  {
   "cell_type": "code",
   "execution_count": 8,
   "id": "da8f18ae",
   "metadata": {},
   "outputs": [
    {
     "data": {
      "text/plain": [
       "({'_state': <django.db.models.base.ModelState at 0x718540e8f610>,\n",
       "  'uuid': UUID('378d1886-c3c5-46a6-a82d-c39b991b2ec4'),\n",
       "  'name': 'Homologar',\n",
       "  'origin_id': UUID('fc274c31-139d-46bf-acbb-d636f7051d00'),\n",
       "  'destination_id': UUID('4124f56d-656f-4ef7-8289-eaf2bb8e34c9'),\n",
       "  'condition': {'and': [{'===': [{'var': 'request.action'}, 'Homologar']},\n",
       "    {'!==': [{'var': 'source.relationships.occurrenceType.data.id'},\n",
       "      'be716386-51aa-4026-ba80-b555dc29ddaa']}]},\n",
       "  'callback': {'is_approved': True,\n",
       "   'change_fields': [{'name': 'status',\n",
       "     'value': {'type': 'object',\n",
       "      'model': 'service_orders.ServiceOrderActionStatus',\n",
       "      'filters': {'uuid': '4f89dd8b-dbe9-4cae-be66-ea7ffa2af61b'}}}],\n",
       "   'create_objects': True},\n",
       "  'button': {'icon': 'check',\n",
       "   'color': 'primary',\n",
       "   'variant': 'raised',\n",
       "   'to_action': 'Sinalizar como Atendido',\n",
       "   'check_procedures': True},\n",
       "  'order': '1'},\n",
       " 'Aguardando Homologação',\n",
       " 'Registro Deferido')"
      ]
     },
     "execution_count": 8,
     "metadata": {},
     "output_type": "execute_result"
    }
   ],
   "source": [
    "at[1].__dict__,at[1].origin.name,at[1].destination.name"
   ]
  },
  {
   "cell_type": "code",
   "execution_count": 19,
   "id": "48b3b484",
   "metadata": {},
   "outputs": [],
   "source": [
    "lista_user_add=['diegobernardes','flavio.sales','jhonatan.bezerra','karla.zorzam','rlcs','larissacampos']"
   ]
  },
  {
   "cell_type": "code",
   "execution_count": 24,
   "id": "749d1282",
   "metadata": {},
   "outputs": [],
   "source": [
    "for a in aps:\n",
    "    if 'RDO Aprovado' in a.name:\n",
    "        continue\n",
    "    else:\n",
    "        a.responsible_users.add(*User.objects.filter(username__in=lista_user_add))"
   ]
  },
  {
   "cell_type": "code",
   "execution_count": 11,
   "id": "e4f844a3",
   "metadata": {},
   "outputs": [
    {
     "data": {
      "text/plain": [
       "(<ApprovalStep: [CCR - Rio Sp]: Compartilhado com ANTT>,\n",
       " <ApprovalStep: [CCR - Rio Sp]: Não compartilhar com ANTT>,\n",
       " <ApprovalStep: [CCR - Rio Sp]: Aprovado>)"
      ]
     },
     "execution_count": 11,
     "metadata": {},
     "output_type": "execute_result"
    }
   ],
   "source": [
    "aps2[2],aps2[3],aps2[0]"
   ]
  },
  {
   "cell_type": "code",
   "execution_count": null,
   "id": "7401ce8b",
   "metadata": {},
   "outputs": [],
   "source": [
    "'condition': {'===': [{'var': 'request.action'}, 'Solicitar Revisão']},\n",
    "  'callback': {'change_fields': [{'name': 'editable', 'value': True}]},\n",
    "  'button': {'icon': 'warning',\n",
    "   'color': 'amber',\n",
    "   'variant': 'outlined',\n",
    "   'needs_dialog': True},\n",
    "  'order': ''},"
   ]
  },
  {
   "cell_type": "code",
   "execution_count": 34,
   "id": "315a9390",
   "metadata": {},
   "outputs": [
    {
     "name": "stdout",
     "output_type": "stream",
     "text": [
      "[CCR - SPVias]: Em Revisão 0\n",
      "[CCR - SPVias]: Cancelado 1\n",
      "[CCR - SPVias]: Aprovado 2\n",
      "[CCR - SPVias]: Criado 3\n",
      "[CCR - SPVias]: Aguardando Aprovação 4\n"
     ]
    }
   ],
   "source": [
    "aps2 = ApprovalStep.objects.filter(approval_flow__company=company,approval_flow__target_model__icontains=\"reporting\")\n",
    "for i,a in enumerate(aps2):\n",
    "    print(a,i)"
   ]
  },
  {
   "cell_type": "markdown",
   "id": "a67b1ab8",
   "metadata": {},
   "source": [
    "# Criação de approvalTransition Apontamentos"
   ]
  },
  {
   "cell_type": "code",
   "execution_count": 35,
   "id": "2fb91501",
   "metadata": {},
   "outputs": [],
   "source": [
    "at2 = ApprovalTransition(name='Solicitar Revisão',\n",
    "                        origin=aps2[2], # apontamento Aprovado\n",
    "                         destination=aps2[0], # apontamento Em Revisão\n",
    "                         condition={'===': [{'var': 'request.action'}, 'Solicitar Revisão']},\n",
    "                         callback={'change_fields': [{'name': 'editable', 'value': True}]},\n",
    "                         button={'icon': 'warning','color': 'amber','variant': 'outlined','needs_dialog': True},\n",
    "                         order= '3'\n",
    "                        )\n",
    "at2.save()"
   ]
  },
  {
   "cell_type": "markdown",
   "id": "92249121",
   "metadata": {},
   "source": [
    "# Criação de approvalTransition RDO"
   ]
  },
  {
   "cell_type": "code",
   "execution_count": 20,
   "id": "7053bd06",
   "metadata": {},
   "outputs": [],
   "source": [
    "at2 = ApprovalTransition(name='Solicitar revisão após aprovado',\n",
    "                        origin=aps[2], # RDO Aprovado\n",
    "                         destination=aps[1], # RDO Aguardando Aprovação\n",
    "                         condition={'===': [{'var': 'request.action'}, 'Solicitar revisão após aprovado']},\n",
    "                         callback={'change_fields': [{'name': 'editable', 'value': True}]},\n",
    "                         button={'icon': 'check', 'color': 'primary', 'variant': 'raised', \"needs_dialog\": True}\n",
    "                        )\n",
    "at2.save()"
   ]
  },
  {
   "cell_type": "code",
   "execution_count": null,
   "id": "a86cef71",
   "metadata": {},
   "outputs": [],
   "source": [
    "Exemplo de transitions de compartilhar ou não com a ANTT\n",
    "ApprovalTransition(name='Não compartilhar com ANTT',\n",
    "                        origin=aps2[2], # apontamento Aprovado\n",
    "                         destination=aps2[3], # apontamento Em Revisão\n",
    "                         condition={'===': [{'var': 'request.action'},'Não compartilhar com ANTT']},\n",
    "                         callback={'change_fields': [{'name': 'shared_with_agency','value': False}]},\n",
    "                         button={'icon': 'close', 'color': 'red', 'variant': 'outlined'},\n",
    "                         order= '2'\n",
    "                        )"
   ]
  },
  {
   "cell_type": "code",
   "execution_count": null,
   "id": "cc07ea8b",
   "metadata": {},
   "outputs": [],
   "source": []
  },
  {
   "cell_type": "markdown",
   "id": "00dcf10b",
   "metadata": {},
   "source": [
    "# CONSULTA PERMISSÕES E INSERÇÃO DE USUÁRIO A NIVEL DE ACESSO"
   ]
  },
  {
   "cell_type": "code",
   "execution_count": 1,
   "id": "a6bfb2a6",
   "metadata": {
    "scrolled": true
   },
   "outputs": [
    {
     "name": "stdout",
     "output_type": "stream",
     "text": [
      "4\n",
      "6d21b28e-4154-45e9-a1cd-f572db18e9db Suporte 0\n",
      "3371550a-1542-4bc2-a2cb-8b7dd852b7aa Coordenador 1\n",
      "c0e59476-bc05-4649-81d9-954898f7a99b Fiscal ARTESP 2\n",
      "abca0b11-4750-44fd-b411-74386cb51cf1 Inativo 3\n"
     ]
    }
   ],
   "source": [
    "company=Company.objects.get(name=\"Arteris Via Paulista - Faixa de Domínio\")\n",
    "### PERMISSÕES POR UNIDADE ###\n",
    "perm_dest = UserPermission.objects.filter(companies=company)\n",
    "print(perm_dest.count())\n",
    "for i,a in enumerate(perm_dest):\n",
    "    print(a.uuid,a.name,i)"
   ]
  },
  {
   "cell_type": "code",
   "execution_count": 2,
   "id": "a4a459e4",
   "metadata": {},
   "outputs": [
    {
     "data": {
      "text/plain": [
       "(<User: luan.poletti - Luan Poletti>,\n",
       " 'Suporte',\n",
       " {'_state': <django.db.models.base.ModelState at 0x7fa31c4e8110>,\n",
       "  'uuid': UUID('9c61690f-d5bd-4b7e-b7ea-45210bafd8b7'),\n",
       "  'user_id': UUID('8c30480c-f19b-4171-80b1-cabca58e65e3'),\n",
       "  'company_id': UUID('ec364a8e-b335-4729-8ac8-50ccabd73459'),\n",
       "  'expiration_date': datetime.date(2024, 9, 13),\n",
       "  'level': 2,\n",
       "  'permissions_id': UUID('6d21b28e-4154-45e9-a1cd-f572db18e9db'),\n",
       "  'added_permissions': None})"
      ]
     },
     "execution_count": 2,
     "metadata": {},
     "output_type": "execute_result"
    }
   ],
   "source": [
    "### USUÁRIOS POR EMPRESA E SUA PERMISSÃO ###\n",
    "uc_origin = UserInCompany.objects.get(user__username=\"luan.poletti\",company=company)\n",
    "uc_origin.user,uc_origin.permissions.name,uc_origin.__dict__"
   ]
  },
  {
   "cell_type": "code",
   "execution_count": 3,
   "id": "48c44c3c",
   "metadata": {},
   "outputs": [],
   "source": [
    "### INCLUIR A INSTANCE INTEIRA PARA O PERMISSION COM SUA RESPECTIVA POSIÇÃO NO ARRAY\n",
    "uc_origin.permissions = perm_dest[1]\n",
    "uc_origin.save()"
   ]
  },
  {
   "cell_type": "code",
   "execution_count": 23,
   "id": "1c9ef46b",
   "metadata": {},
   "outputs": [
    {
     "data": {
      "text/plain": [
       "(56, {'companies.UserInCompany': 56})"
      ]
     },
     "execution_count": 23,
     "metadata": {},
     "output_type": "execute_result"
    }
   ],
   "source": [
    "# UserInCompany.objects.filter(user__username=\"danieli.soares\").delete()"
   ]
  },
  {
   "cell_type": "code",
   "execution_count": 39,
   "id": "5defc62c",
   "metadata": {},
   "outputs": [
    {
     "data": {
      "text/plain": [
       "{'_state': <django.db.models.base.ModelState at 0x7fb04930dd50>,\n",
       " 'uuid': UUID('d6db3a1a-eaed-4301-94d5-2a6139ee68ab'),\n",
       " 'user_id': UUID('e12f4de8-23b1-491f-ae6f-1a8716bc31d6'),\n",
       " 'company_id': UUID('eee8616b-7b11-40a9-a7f2-3d1c2207b7a8'),\n",
       " 'expiration_date': None,\n",
       " 'level': 2,\n",
       " 'permissions_id': UUID('32076d08-901e-4005-a296-8a3e907fa5de'),\n",
       " 'added_permissions': []}"
      ]
     },
     "execution_count": 39,
     "metadata": {},
     "output_type": "execute_result"
    }
   ],
   "source": [
    "### Get User permissions\n",
    "uc_origin.__dict__"
   ]
  },
  {
   "cell_type": "code",
   "execution_count": 3,
   "id": "a3fed96c",
   "metadata": {},
   "outputs": [
    {
     "data": {
      "text/plain": [
       "<QuerySet [<Firm: [52bf5f0c-7d75-4081-8616-06e0b43dee29: Arteris Litoral Sul - Conserva] bf80f991-8e0b-497c-93be-913ab5d83d8a: Lote 1 - Tacha 1>, <Firm: [52bf5f0c-7d75-4081-8616-06e0b43dee29: Arteris Litoral Sul - Conserva] ce9f2749-5028-416b-9639-2d661aa2bb5a: Lote 1 - Poda>, <Firm: [52bf5f0c-7d75-4081-8616-06e0b43dee29: Arteris Litoral Sul - Conserva] a7c44af0-7a46-45b9-9584-e31bce1a6d53: Sala Técnica>, <Firm: [52bf5f0c-7d75-4081-8616-06e0b43dee29: Arteris Litoral Sul - Conserva] a6388c89-989c-4cbf-b26e-cb5ffca9fa2e: Conserva Lote 1>, <Firm: [52bf5f0c-7d75-4081-8616-06e0b43dee29: Arteris Litoral Sul - Conserva] 738cb58b-6aef-407e-8687-1294a740c3e3: Lote 1 - Coleta 1>, <Firm: [52bf5f0c-7d75-4081-8616-06e0b43dee29: Arteris Litoral Sul - Conserva] fe42ea0f-df9f-4ea6-b121-4b76b0233a98: Lote 1 - Coleta 2>, <Firm: [52bf5f0c-7d75-4081-8616-06e0b43dee29: Arteris Litoral Sul - Conserva] 7b4cb8dc-30cf-421d-8af3-de9220fe06bb: Lote 1 - Roçada 2>, <Firm: [52bf5f0c-7d75-4081-8616-06e0b43dee29: Arteris Litoral Sul - Conserva] a80fb4bc-6268-4584-8c44-91d58476fd84: Lote 1 - Roçada 3>, <Firm: [52bf5f0c-7d75-4081-8616-06e0b43dee29: Arteris Litoral Sul - Conserva] 5ffc0f69-6b14-4595-829b-510349a014a4: Lote 1 - Roçada 4>, <Firm: [52bf5f0c-7d75-4081-8616-06e0b43dee29: Arteris Litoral Sul - Conserva] 874a7392-1bc8-4d0d-a3ce-7c203c40e9eb: Lote 1 - Roçada 5>, <Firm: [52bf5f0c-7d75-4081-8616-06e0b43dee29: Arteris Litoral Sul - Conserva] 8bc1a43a-29ca-474a-85a4-8c80ede4d1f1: Lote 1 - Roçada 6>, <Firm: [52bf5f0c-7d75-4081-8616-06e0b43dee29: Arteris Litoral Sul - Conserva] b12cf58a-f57f-4a3c-b0ef-182f6718f4aa: Lote 1 - Varrição 1>, <Firm: [52bf5f0c-7d75-4081-8616-06e0b43dee29: Arteris Litoral Sul - Conserva] dd3425b7-3afd-4f10-915a-eeabf2498a8c: Lote 1 - Varrição 2>, <Firm: [52bf5f0c-7d75-4081-8616-06e0b43dee29: Arteris Litoral Sul - Conserva] 36fdf9a0-54c7-42f2-9239-8eba3b922499: Lote 1 - Limpeza 1>, <Firm: [52bf5f0c-7d75-4081-8616-06e0b43dee29: Arteris Litoral Sul - Conserva] 7c95f994-fe7d-4e5f-8bf3-caac46b2ed0a: Lote 1 - Limpeza 2>, <Firm: [52bf5f0c-7d75-4081-8616-06e0b43dee29: Arteris Litoral Sul - Conserva] 7593d2d1-7b44-4f64-aff2-cf3cc8ae3661: Lote 1 - Defensa 1>, <Firm: [52bf5f0c-7d75-4081-8616-06e0b43dee29: Arteris Litoral Sul - Conserva] f677fb0d-23e9-447b-a56d-c940ef33461e: Lote 1 - Drenagem 1>, <Firm: [52bf5f0c-7d75-4081-8616-06e0b43dee29: Arteris Litoral Sul - Conserva] a0cdfe56-4b1d-4c30-a80b-7668cbb6e2d0: Lote 1 - Terrapleno 1>, <Firm: [52bf5f0c-7d75-4081-8616-06e0b43dee29: Arteris Litoral Sul - Conserva] b3afd710-8c37-4213-9edf-7362843837e2: Lote 1 - Pintura 1>, <Firm: [52bf5f0c-7d75-4081-8616-06e0b43dee29: Arteris Litoral Sul - Conserva] c7b6e9cd-18db-47ac-9729-96e9168893f9: Lote 1 - Pintura 2>, '...(remaining elements truncated)...']>"
      ]
     },
     "execution_count": 3,
     "metadata": {},
     "output_type": "execute_result"
    }
   ],
   "source": [
    "f = Firm.objects.filter(company=company,users__username=\"allana.wendler\")\n",
    "f"
   ]
  },
  {
   "cell_type": "code",
   "execution_count": 2,
   "id": "63f947f5",
   "metadata": {},
   "outputs": [],
   "source": [
    "f = UserInFirm.objects.filter(user__username=\"marcelo.piacenco\")\n",
    "for a in f:\n",
    "    a.uuid = None\n",
    "    a.user = User.objects.get(username='luan.poletti')\n",
    "    a.save()\n"
   ]
  },
  {
   "cell_type": "code",
   "execution_count": 4,
   "id": "e1465e91",
   "metadata": {},
   "outputs": [
    {
     "name": "stdout",
     "output_type": "stream",
     "text": [
      "CONSERVA-01_RZF 01_24275\n",
      "CONSERVA-02_C&K_063\n",
      "ROÇ.INTELIGENTE-01_OPTIMUS_23760\n",
      "ROÇ.INTELIGENTE-02_OPTIMUS_23760\n",
      "EROSÃO EMERGENCIAL\n",
      "CONSERVA-02-AIR LESS 02-24178\n",
      "SINISTROS\n",
      "OBRAS DE MELHORAMENTO\n",
      "RETRO-01_AIR LESS_24178\n",
      "RETRO-01_RZF_24275\n",
      "ROÇADA-01-AIR LESS 02-24178\n",
      "ROÇADA-02-AIR LESS 02-24178\n",
      "ROÇADA-03-AIR LESS 02-24178\n",
      "LP-01-AIR LESS 02-24178\n",
      "LP-02-AIR LESS 02-24178\n",
      "MULTI-01-AIR LESS 02-24178\n",
      "MULTI-02-AIR LESS 02-24178\n",
      "MOITA-01-AIR LESS 02-24178\n",
      "TRATO EX-01-AIR LESS 02-24178\n",
      "ROÇADA-01_RZF 01_24275\n",
      "ROÇADA-02_RZF 01_24275\n",
      "ROÇADA-03_RZF 01_24275\n",
      "LP-01_RZF 01_24275\n",
      "LP-02_RZF 01_24275\n",
      "MULTI-01_RZF 01_24275\n",
      "MULTI-02_RZF 01_24275\n",
      "MOITA-01_RZF 01_24275\n",
      "MOITA-02_RZF 01_24275\n",
      "TRATO EX-01_RZF 01_24275\n",
      "MOITA-02_AIR LESS 02_24178\n",
      "REL.ANUAL.DRENAGEM-01_ITV_CONSERVA\n",
      "CERCA-01_AIR LESS_24178\n",
      "CERCA-01_RZF_24275\n"
     ]
    }
   ],
   "source": [
    "f = UserInFirm.objects.filter(user__username=\"francisco.cavassin\")\n",
    "for a in f:\n",
    "    print(a.firm.name) "
   ]
  },
  {
   "cell_type": "code",
   "execution_count": 8,
   "id": "24215380",
   "metadata": {},
   "outputs": [
    {
     "name": "stdout",
     "output_type": "stream",
     "text": [
      "cat: env: No such file or directory\r\n"
     ]
    }
   ],
   "source": [
    "!cat env"
   ]
  },
  {
   "cell_type": "code",
   "execution_count": 101,
   "id": "457e6023",
   "metadata": {},
   "outputs": [],
   "source": [
    "# LISTAGEM DE USUÁRIOS POR NIVEL DE ACESSO\n",
    "usersCompany = UserInCompany.objects.filter(company=company)\n",
    "user_perm = UserPermission.objects.filter(companies=company)\n",
    "chefia=[]\n",
    "pelego=[]\n",
    "for b in user_perm:\n",
    "#     print(b.name)\n",
    "    for a in usersCompany:\n",
    "        if a.permissions == b:\n",
    "            if b.name == 'Suporte' or b.name == 'Usuário de controle' or b.name =='Coordenador/Engenheiro' or b.name == 'Fiscal Técnico':\n",
    "                    chefia.append(a)\n",
    "            if b.name == \"Empreiteiras (Terceirizadas)\" or b.name == 'Empreiteiras Terceirizadas (Campo)':\n",
    "                    pelego.append(a) "
   ]
  },
  {
   "cell_type": "code",
   "execution_count": 102,
   "id": "decbc4aa",
   "metadata": {},
   "outputs": [
    {
     "data": {
      "text/plain": [
       "(41, 11)"
      ]
     },
     "execution_count": 102,
     "metadata": {},
     "output_type": "execute_result"
    }
   ],
   "source": [
    "len(chefia),len(pelego)"
   ]
  },
  {
   "cell_type": "code",
   "execution_count": 97,
   "id": "cd468bef",
   "metadata": {},
   "outputs": [
    {
     "name": "stdout",
     "output_type": "stream",
     "text": [
      "[CAJ]: Criado 0\n",
      "[CAJ]: Aguardando Aprovação 1\n",
      "[CAJ]: Em Revisão 2\n",
      "[CAJ]: Aprovado 3\n",
      "[CAJ]: Cancelado 4\n"
     ]
    }
   ],
   "source": [
    "for i,a in enumerate(aps2):\n",
    "    print(a,i)\n",
    "#     for h in a.responsible_users.all():\n",
    "#         print('\\t',h.full_name,'- ',h.username)"
   ]
  },
  {
   "cell_type": "code",
   "execution_count": 95,
   "id": "27145cd7",
   "metadata": {},
   "outputs": [
    {
     "name": "stdout",
     "output_type": "stream",
     "text": [
      "[CAJ]: Criado 0\n",
      "\t Kartado CS -  rlcs\n",
      "\t Silvio Araujo -  silvio.araujo\n",
      "\t Sandro Junior -  sandro.junior\n",
      "\t João Airton de Moraes Junior -  joao.airton\n",
      "\t teste terceirocaj -  teste.terceirocaj\n",
      "\t Willian Lubrigati -  willian.lubrigati\n",
      "\t Teste Terceiro -  teste.terceiro.leo\n",
      "\t João Fernando Gomes Pereira -  joao.fernando\n",
      "\t Esdras Dias Alves -  esdras.alves\n",
      "\t Joanderson Cruz -  joanderson.cruz\n",
      "\t Katrynn H -  katrynn.terceiro\n",
      "\t Victor Martins -  victor.martins\n",
      "\t Elcioni Pacífico de Oliveira -  elcioni.oliveira\n",
      "\t Bruno Gentil -  bruno.gentil\n",
      "\t Marcelo Bittencourt -  marcelo.bittencourt\n",
      "\t Priscila Kayane Krambeck Voltolini -  priscila.krambeck\n",
      "\t Samira Giovanella Pereira -  samira.pereira\n",
      "\t Ramon Claus Colonetti -  ramon.colonetti\n",
      "\t Isaac Cruz -  isaac.cruz\n",
      "\t Bianca Berndt Kamradt -  bianca.berndt\n",
      "\t Andréia Zanatta -  andreia.zanatta\n",
      "\t André Rocha Vieira -  andre.vieira\n",
      "\t Pedro Gasparotti -  pedro.gasparotti\n",
      "\t Lucas Pereira Luiz -  lucas.pereira\n",
      "\t Caroline Baumgartner -  caroline.baumgartner\n",
      "\t Eduarda Bernardo -  eduarda.bernardo\n",
      "\t Mauro Fernando Teodoro -  mauro.teodoro\n",
      "\t Katrynn Honorio -  katrynn.honorio\n",
      "\t Julia Bittencourt -  julia.bittencourt\n",
      "\t Leonardo Ramos -  leonardo.ramos\n",
      "\t Hírya Souza -  hirya.souza\n",
      "\t Gizele Ginklings -  gizele.ginklings\n",
      "\t Luan Poletti -  luan.poletti\n",
      "\t Leonardo Minski -  leonardo.minski\n",
      "\t Karla Zorzam Brito -  karla.zorzam\n",
      "\t Pedro Fornari -  pedroh.fornari\n",
      "\t Jaqueline Turcatto -  jaqueline.turcatto\n",
      "\t Marina Carpes -  marina.carpes\n",
      "\t Rosemeri de Oliveira Correa -  rosemeri.correa\n",
      "\t Claudia Rocha -  claudia.rocha\n",
      "\t Mariana Limas -  mariana.limas\n",
      "\t Leandro Parizzi -  leandro.parizzi\n",
      "\t Rafael Benedito -  rafael.benedito\n",
      "\t Tony Paese -  tony.paese\n",
      "\t Gabriel Moreira -  gabriel.moreira\n",
      "\t Cristiano Bandeira -  cristiano.bandeira\n",
      "\t Helio Kuhl -  helio.kuhl\n",
      "\t Ysadora Ignácio -  ysadora.ignacio\n",
      "\t Lucas Kuhl -  lucas.kuhl\n",
      "\t David Cesar Apolonio Goncalves Vieira -  david.vieira\n",
      "\t Jeison Vieira -  jeison.vieira\n",
      "\t Franciele dos Santos -  franciele.dsantos\n",
      "[CAJ]: Aguardando Aprovação 1\n",
      "\t Kartado CS -  rlcs\n",
      "\t Bianca Berndt Kamradt -  bianca.berndt\n",
      "\t Elcioni Pacífico de Oliveira -  elcioni.oliveira\n",
      "\t Bruno Gentil -  bruno.gentil\n",
      "\t Marcelo Bittencourt -  marcelo.bittencourt\n",
      "\t Priscila Kayane Krambeck Voltolini -  priscila.krambeck\n",
      "\t Samira Giovanella Pereira -  samira.pereira\n",
      "\t Ramon Claus Colonetti -  ramon.colonetti\n",
      "\t Isaac Cruz -  isaac.cruz\n",
      "\t Andréia Zanatta -  andreia.zanatta\n",
      "\t André Rocha Vieira -  andre.vieira\n",
      "\t Pedro Gasparotti -  pedro.gasparotti\n",
      "\t Lucas Pereira Luiz -  lucas.pereira\n",
      "\t Caroline Baumgartner -  caroline.baumgartner\n",
      "\t Eduarda Bernardo -  eduarda.bernardo\n",
      "\t Mauro Fernando Teodoro -  mauro.teodoro\n",
      "\t Katrynn Honorio -  katrynn.honorio\n",
      "\t Julia Bittencourt -  julia.bittencourt\n",
      "\t Leonardo Ramos -  leonardo.ramos\n",
      "\t Hírya Souza -  hirya.souza\n",
      "\t Gizele Ginklings -  gizele.ginklings\n",
      "\t Luan Poletti -  luan.poletti\n",
      "\t Leonardo Minski -  leonardo.minski\n",
      "\t Karla Zorzam Brito -  karla.zorzam\n",
      "\t Pedro Fornari -  pedroh.fornari\n",
      "\t Jaqueline Turcatto -  jaqueline.turcatto\n",
      "\t Marina Carpes -  marina.carpes\n",
      "\t Rosemeri de Oliveira Correa -  rosemeri.correa\n",
      "\t Claudia Rocha -  claudia.rocha\n",
      "\t Mariana Limas -  mariana.limas\n",
      "\t Leandro Parizzi -  leandro.parizzi\n",
      "\t Rafael Benedito -  rafael.benedito\n",
      "\t Tony Paese -  tony.paese\n",
      "\t Gabriel Moreira -  gabriel.moreira\n",
      "\t Cristiano Bandeira -  cristiano.bandeira\n",
      "\t Helio Kuhl -  helio.kuhl\n",
      "\t Ysadora Ignácio -  ysadora.ignacio\n",
      "\t Lucas Kuhl -  lucas.kuhl\n",
      "\t David Cesar Apolonio Goncalves Vieira -  david.vieira\n",
      "\t Jeison Vieira -  jeison.vieira\n",
      "\t Franciele dos Santos -  franciele.dsantos\n",
      "[CAJ]: Em Revisão 2\n",
      "\t Kartado CS -  rlcs\n",
      "\t Bianca Berndt Kamradt -  bianca.berndt\n",
      "\t Silvio Araujo -  silvio.araujo\n",
      "\t Sandro Junior -  sandro.junior\n",
      "\t João Airton de Moraes Junior -  joao.airton\n",
      "\t teste terceirocaj -  teste.terceirocaj\n",
      "\t Willian Lubrigati -  willian.lubrigati\n",
      "\t Teste Terceiro -  teste.terceiro.leo\n",
      "\t João Fernando Gomes Pereira -  joao.fernando\n",
      "\t Esdras Dias Alves -  esdras.alves\n",
      "\t Joanderson Cruz -  joanderson.cruz\n",
      "\t Katrynn H -  katrynn.terceiro\n",
      "\t Victor Martins -  victor.martins\n",
      "\t Elcioni Pacífico de Oliveira -  elcioni.oliveira\n",
      "\t Bruno Gentil -  bruno.gentil\n",
      "\t Marcelo Bittencourt -  marcelo.bittencourt\n",
      "\t Priscila Kayane Krambeck Voltolini -  priscila.krambeck\n",
      "\t Samira Giovanella Pereira -  samira.pereira\n",
      "\t Ramon Claus Colonetti -  ramon.colonetti\n",
      "\t Isaac Cruz -  isaac.cruz\n",
      "\t Andréia Zanatta -  andreia.zanatta\n",
      "\t André Rocha Vieira -  andre.vieira\n",
      "\t Pedro Gasparotti -  pedro.gasparotti\n",
      "\t Lucas Pereira Luiz -  lucas.pereira\n",
      "\t Caroline Baumgartner -  caroline.baumgartner\n",
      "\t Eduarda Bernardo -  eduarda.bernardo\n",
      "\t Mauro Fernando Teodoro -  mauro.teodoro\n",
      "\t Katrynn Honorio -  katrynn.honorio\n",
      "\t Julia Bittencourt -  julia.bittencourt\n",
      "\t Leonardo Ramos -  leonardo.ramos\n",
      "\t Hírya Souza -  hirya.souza\n",
      "\t Gizele Ginklings -  gizele.ginklings\n",
      "\t Luan Poletti -  luan.poletti\n",
      "\t Leonardo Minski -  leonardo.minski\n",
      "\t Karla Zorzam Brito -  karla.zorzam\n",
      "\t Pedro Fornari -  pedroh.fornari\n",
      "\t Jaqueline Turcatto -  jaqueline.turcatto\n",
      "\t Marina Carpes -  marina.carpes\n",
      "\t Rosemeri de Oliveira Correa -  rosemeri.correa\n",
      "\t Claudia Rocha -  claudia.rocha\n",
      "\t Mariana Limas -  mariana.limas\n",
      "\t Leandro Parizzi -  leandro.parizzi\n",
      "\t Rafael Benedito -  rafael.benedito\n",
      "\t Tony Paese -  tony.paese\n",
      "\t Gabriel Moreira -  gabriel.moreira\n",
      "\t Cristiano Bandeira -  cristiano.bandeira\n",
      "\t Helio Kuhl -  helio.kuhl\n",
      "\t Ysadora Ignácio -  ysadora.ignacio\n",
      "\t Lucas Kuhl -  lucas.kuhl\n",
      "\t David Cesar Apolonio Goncalves Vieira -  david.vieira\n",
      "\t Jeison Vieira -  jeison.vieira\n",
      "\t Franciele dos Santos -  franciele.dsantos\n",
      "[CAJ]: Aprovado 3\n",
      "\t Elcioni Pacífico de Oliveira -  elcioni.oliveira\n",
      "\t Bruno Gentil -  bruno.gentil\n",
      "\t Marcelo Bittencourt -  marcelo.bittencourt\n",
      "\t Priscila Kayane Krambeck Voltolini -  priscila.krambeck\n",
      "\t Samira Giovanella Pereira -  samira.pereira\n",
      "\t Ramon Claus Colonetti -  ramon.colonetti\n",
      "\t Isaac Cruz -  isaac.cruz\n",
      "\t Kartado CS -  rlcs\n",
      "\t Bianca Berndt Kamradt -  bianca.berndt\n",
      "\t Andréia Zanatta -  andreia.zanatta\n",
      "\t André Rocha Vieira -  andre.vieira\n",
      "\t Pedro Gasparotti -  pedro.gasparotti\n",
      "\t Lucas Pereira Luiz -  lucas.pereira\n",
      "\t Caroline Baumgartner -  caroline.baumgartner\n",
      "\t Eduarda Bernardo -  eduarda.bernardo\n",
      "\t Mauro Fernando Teodoro -  mauro.teodoro\n",
      "\t Katrynn Honorio -  katrynn.honorio\n",
      "\t Julia Bittencourt -  julia.bittencourt\n",
      "\t Leonardo Ramos -  leonardo.ramos\n",
      "\t Hírya Souza -  hirya.souza\n",
      "\t Gizele Ginklings -  gizele.ginklings\n",
      "\t Luan Poletti -  luan.poletti\n",
      "\t Leonardo Minski -  leonardo.minski\n",
      "\t Karla Zorzam Brito -  karla.zorzam\n",
      "\t Pedro Fornari -  pedroh.fornari\n",
      "\t Jaqueline Turcatto -  jaqueline.turcatto\n",
      "\t Marina Carpes -  marina.carpes\n",
      "\t Rosemeri de Oliveira Correa -  rosemeri.correa\n",
      "\t Claudia Rocha -  claudia.rocha\n",
      "\t Mariana Limas -  mariana.limas\n",
      "\t Leandro Parizzi -  leandro.parizzi\n",
      "\t Rafael Benedito -  rafael.benedito\n",
      "\t Tony Paese -  tony.paese\n",
      "\t Gabriel Moreira -  gabriel.moreira\n",
      "\t Cristiano Bandeira -  cristiano.bandeira\n",
      "\t Helio Kuhl -  helio.kuhl\n",
      "\t Ysadora Ignácio -  ysadora.ignacio\n",
      "\t Lucas Kuhl -  lucas.kuhl\n",
      "\t David Cesar Apolonio Goncalves Vieira -  david.vieira\n",
      "\t Jeison Vieira -  jeison.vieira\n",
      "\t Franciele dos Santos -  franciele.dsantos\n",
      "[CAJ]: Cancelado 4\n",
      "\t Elcioni Pacífico de Oliveira -  elcioni.oliveira\n",
      "\t Bruno Gentil -  bruno.gentil\n",
      "\t Marcelo Bittencourt -  marcelo.bittencourt\n",
      "\t Priscila Kayane Krambeck Voltolini -  priscila.krambeck\n",
      "\t Samira Giovanella Pereira -  samira.pereira\n",
      "\t Ramon Claus Colonetti -  ramon.colonetti\n",
      "\t Isaac Cruz -  isaac.cruz\n",
      "\t Kartado CS -  rlcs\n",
      "\t Bianca Berndt Kamradt -  bianca.berndt\n",
      "\t Andréia Zanatta -  andreia.zanatta\n",
      "\t André Rocha Vieira -  andre.vieira\n",
      "\t Pedro Gasparotti -  pedro.gasparotti\n",
      "\t Lucas Pereira Luiz -  lucas.pereira\n",
      "\t Caroline Baumgartner -  caroline.baumgartner\n",
      "\t Eduarda Bernardo -  eduarda.bernardo\n",
      "\t Mauro Fernando Teodoro -  mauro.teodoro\n",
      "\t Katrynn Honorio -  katrynn.honorio\n",
      "\t Julia Bittencourt -  julia.bittencourt\n",
      "\t Leonardo Ramos -  leonardo.ramos\n",
      "\t Hírya Souza -  hirya.souza\n",
      "\t Gizele Ginklings -  gizele.ginklings\n",
      "\t Luan Poletti -  luan.poletti\n",
      "\t Leonardo Minski -  leonardo.minski\n",
      "\t Karla Zorzam Brito -  karla.zorzam\n",
      "\t Pedro Fornari -  pedroh.fornari\n",
      "\t Jaqueline Turcatto -  jaqueline.turcatto\n",
      "\t Marina Carpes -  marina.carpes\n",
      "\t Rosemeri de Oliveira Correa -  rosemeri.correa\n",
      "\t Claudia Rocha -  claudia.rocha\n",
      "\t Mariana Limas -  mariana.limas\n",
      "\t Leandro Parizzi -  leandro.parizzi\n",
      "\t Rafael Benedito -  rafael.benedito\n",
      "\t Tony Paese -  tony.paese\n",
      "\t Gabriel Moreira -  gabriel.moreira\n",
      "\t Cristiano Bandeira -  cristiano.bandeira\n",
      "\t Helio Kuhl -  helio.kuhl\n",
      "\t Ysadora Ignácio -  ysadora.ignacio\n",
      "\t Lucas Kuhl -  lucas.kuhl\n",
      "\t David Cesar Apolonio Goncalves Vieira -  david.vieira\n",
      "\t Jeison Vieira -  jeison.vieira\n",
      "\t Franciele dos Santos -  franciele.dsantos\n"
     ]
    }
   ],
   "source": [
    "for i,a in enumerate(aps2):\n",
    "    print(a,i)\n",
    "    if a.name == \"Criado\" or a.name == \"Em Revisão\":\n",
    "        for b in pelego:\n",
    "            aps2[0].responsible_users.add(User.objects.get(username=b.user.username))\n",
    "            aps2[2].responsible_users.add(User.objects.get(username=b.user.username))\n",
    "    else:\n",
    "        for c in chefia:\n",
    "            aps2[1].responsible_users.add(User.objects.get(username=c.user.username))\n",
    "            aps2[3].responsible_users.add(User.objects.get(username=c.user.username))\n",
    "            aps2[4].responsible_users.add(User.objects.get(username=c.user.username))\n",
    "        \n",
    "#     for h in a.responsible_users.all():\n",
    "\n",
    "#         print('\\t',h.full_name,'- ',h.username)\n"
   ]
  },
  {
   "cell_type": "code",
   "execution_count": 1,
   "id": "50e41fd4",
   "metadata": {},
   "outputs": [
    {
     "data": {
      "text/plain": [
       "<QuerySet [<UserInCompany: [8e70b23f-907a-4e9a-ae4e-fb316dda2831: Construtora Castilho] glaucio.smoraes>]>"
      ]
     },
     "execution_count": 1,
     "metadata": {},
     "output_type": "execute_result"
    }
   ],
   "source": [
    "t=UserInCompany.objects.filter(user__username=\"glaucio.smoraes\")\n",
    "t"
   ]
  },
  {
   "cell_type": "code",
   "execution_count": 27,
   "id": "b3d054a5",
   "metadata": {},
   "outputs": [
    {
     "name": "stdout",
     "output_type": "stream",
     "text": [
      "{'_state': <django.db.models.base.ModelState object at 0x7f72981485d0>, 'uuid': UUID('5a3f7a36-8237-42f5-8d6f-6aea4052e6a5'), 'name': 'Suporte', 'permissions': {'gps': {'canUseNewLib': True}, 'job': {'can_edit': True, 'can_view': True, 'queryset': 'all', 'can_create': True, 'can_delete': True, 'can_reschedule': True, 'can_view_progress_in_app': True}, 'Firm': {'can_edit': True, 'can_view': True, 'queryset': 'all', 'can_create': True, 'can_delete': True}, 'road': {'can_edit': False, 'can_view': True, 'queryset': 'all', 'can_create': False, 'can_delete': False}, 'user': {'can_edit': True, 'can_view': True, 'queryset': 'all', 'can_create': True, 'can_delete': True}, 'company': {'can_edit': True, 'can_view': True, 'queryset': 'self', 'can_create': True, 'can_delete': True, 'can_change_custom_options': True}, 'Contract': {'can_edit': True, 'can_view': True, 'queryset': 'all', 'can_create': True, 'can_delete': True}, 'HelpChat': {'can_view': True}, 'Resource': {'can_edit': True, 'can_view': True, 'queryset': 'all', 'can_create': True, 'can_delete': True, 'can_approve': True}, 'ShapeFile': {'can_edit': True, 'can_view': True, 'queryset': 'all', 'can_create': True, 'can_delete': True}, 'TileLayer': {'can_edit': True, 'can_view': True, 'queryset': 'all', 'can_create': True, 'can_delete': True}, 'inventory': {'can_edit': True, 'can_view': True, 'queryset': 'all', 'can_create': True, 'can_delete': True, 'can_view_sisoaes': True}, 'reporting': {'can_edit': True, 'can_view': True, 'queryset': 'all', 'can_create': True, 'can_delete': True, 'can_approve': True, 'can_hold_button': True, 'can_use_buttons': True, 'can_use_bluetooth_button': True}, 'QueuedPush': {'can_view': True}, 'UserInFirm': {'can_edit': True, 'can_view': True, 'queryset': 'all', 'can_create': True, 'can_delete': True}, 'dashboard2': {'can_edit': True, 'can_view': True, 'queryset': 'all', 'can_create': True, 'can_delete': True, 'can_view_map': True, 'can_view_heat_map': True, 'can_view_tech_plots': True, 'can_view_financial_indicators': True}, 'permission': {'can_edit': True, 'can_view': True, 'queryset': 'all', 'can_create': True, 'can_delete': True}, 'RecordPanel': {'can_edit': True, 'can_view': True, 'queryset': 'all', 'can_create': True, 'can_delete': True}, 'excelImport': {'can_edit': True, 'can_view': True, 'queryset': 'all', 'can_create': True, 'can_delete': True}, 'sub_company': {'can_edit': True, 'can_view': True, 'queryset': 'all', 'can_create': True, 'can_delete': True}, 'approval_Flow': {'can_edit': True, 'can_view': True, 'queryset': 'all', 'can_create': True, 'can_delete': True}, 'approval_step': {'can_edit': True, 'can_view': True, 'queryset': 'all', 'can_create': True, 'can_delete': True}, 'access_request': {'can_edit': True, 'can_view': True, 'queryset': 'all', 'can_create': True, 'can_delete': True, 'can_approve': False}, 'export_request': {'can_edit': True, 'can_view': True, 'queryset': 'all', 'can_create': True, 'can_delete': True}, 'reporting_file': {'can_edit': True, 'can_view': True, 'queryset': 'all', 'can_create': True, 'can_delete': True}, 'ContractService': {'can_edit': True, 'can_view': True, 'queryset': 'all', 'can_create': True, 'can_delete': True, 'can_view_money': True}, 'InspectorInFirm': {'can_edit': True, 'can_view': True, 'queryset': 'all', 'can_create': True, 'can_delete': True}, 'RecordPanelView': {'can_view': True}, 'occurrence_type': {'can_edit': True, 'can_view': True, 'queryset': 'all', 'can_create': True, 'can_delete': True}, 'user_in_company': {'can_edit': True, 'can_view': True, 'queryset': 'all', 'can_create': True, 'can_delete': True}, 'user_permission': {'can_edit': True, 'can_view': True, 'queryset': 'all', 'can_create': True, 'can_delete': True}, 'advanced_options': {'can_edit': True, 'can_view': True, 'queryset': 'all', 'can_create': True, 'can_delete': True}, 'AdditionalControl': {'can_edit': True, 'can_view': True, 'queryset': 'all', 'can_create': True, 'can_delete': True, 'can_view_money': True}, 'ProcedureResource': {'can_edit': True, 'can_view': True, 'queryset': 'all', 'can_create': True, 'can_delete': True, 'can_approve': True, 'can_view_money': True}, 'dailyReportConfig': {'can_edit': True, 'can_view': True, 'queryset': 'all', 'can_create': True, 'can_delete': True, 'can_approve': True}, 'dailyReportExport': {'can_edit': True, 'can_view': True, 'queryset': 'all', 'can_create': True, 'can_delete': True, 'can_approve': True}, 'dailyReportWorker': {'can_edit': True, 'can_view': True, 'queryset': 'all', 'can_create': True, 'can_delete': True, 'can_approve': True}, 'reporting_message': {'can_edit': True, 'can_view': True, 'queryset': 'all', 'can_create': True, 'can_delete': True}, 'customization_menu': {'can_edit': True, 'can_view': True, 'queryset': 'all', 'can_create': True, 'can_delete': True}, 'dailyReportVehicle': {'can_edit': True, 'can_view': True, 'queryset': 'all', 'can_create': True, 'can_delete': True, 'can_approve': True}, 'reporting_deadline': {'can_edit': True, 'can_view': True, 'queryset': 'all', 'can_create': True, 'can_delete': True}, 'MeasurementBulletin': {'can_edit': True, 'can_view': True, 'queryset': 'all', 'can_create': True, 'can_delete': True, 'can_view_money': True, 'can_view_summary': True}, 'approval_transition': {'can_edit': True, 'can_view': True, 'queryset': 'all', 'can_create': True, 'can_delete': True}, 'dailyReportRelation': {'can_edit': True, 'can_view': True, 'queryset': 'all', 'can_create': True, 'can_delete': True, 'can_approve': True}, 'dailyReportResource': {'can_edit': True, 'can_view': True, 'queryset': 'all', 'can_create': True, 'can_delete': True, 'can_approve': True}, 'multipleDailyReport': {'can_edit': True, 'can_view': True, 'queryset': 'all', 'can_create': True, 'can_delete': True, 'can_approve': True, 'can_view_all_firms': True, 'can_create_and_edit_all_firms': True}, 'ServiceOrderResource': {'can_edit': True, 'can_view': True, 'queryset': 'all', 'can_create': True, 'can_delete': True, 'can_view_money': True}, 'dailyReportEquipment': {'can_edit': True, 'can_view': True, 'queryset': 'all', 'can_create': True, 'can_delete': True, 'can_approve': True}, 'dailyReportSignaling': {'can_edit': True, 'can_view': True, 'queryset': 'all', 'can_create': True, 'can_delete': True, 'can_approve': True}, 'ContractItemUnitPrice': {'can_edit': True, 'can_view': True, 'queryset': 'all', 'can_create': True, 'can_delete': True, 'can_view_money': True}, 'dailyReportOccurrence': {'can_edit': True, 'can_view': True, 'queryset': 'all', 'can_create': True, 'can_delete': True, 'can_approve': True}, 'dailyReportExternalTeam': {'can_edit': True, 'can_view': True, 'queryset': 'all', 'can_create': True, 'can_delete': True, 'can_approve': True}, 'DailyReportContractUsage': {'can_edit': True, 'can_view': True, 'queryset': 'all', 'can_create': True, 'can_delete': True, 'can_approve': True}, 'serviceOrderActionStatus': {'can_edit': True, 'can_view': True, 'queryset': 'all', 'can_create': True, 'can_delete': True}, 'MeasurementBulletinExport': {'can_edit': True, 'can_view': True, 'queryset': 'all', 'can_create': True, 'can_delete': True, 'can_view_money': True, 'can_view_summary': True}, 'ContractItemAdministration': {'can_edit': True, 'can_view': True, 'queryset': 'all', 'can_create': True, 'can_delete': True, 'can_view_money': True}}, 'is_inactive': False, 'history_id': UUID('d3a2c6e8-fd93-4fff-be5d-d311f43b09bf'), 'history_date': datetime.datetime(2023, 8, 22, 19, 50, 47, 897013, tzinfo=<UTC>), 'history_change_reason': None, 'history_type': '~', 'history_user_id': UUID('6fcf5505-d2de-4ef1-97fe-81803e3b04a6')}\n",
      "{'_state': <django.db.models.base.ModelState object at 0x7f729814c590>, 'uuid': UUID('54a4807d-ba19-4263-9d63-fea3c7e142c7'), 'name': 'Suporte', 'permissions': {'Job': {'can_edit': True, 'can_view': True, 'queryset': 'all', 'can_create': True, 'can_delete': True, 'can_reschedule': True}, 'gps': {'can_use_new_lib': True}, 'File': {'can_edit': True, 'can_view': True, 'queryset': 'all', 'can_create': True, 'can_delete': True}, 'Firm': {'can_edit': True, 'can_view': True, 'queryset': 'all', 'can_create': True, 'can_delete': True}, 'Road': {'can_edit': True, 'can_view': True, 'queryset': 'all', 'can_create': True, 'can_delete': True}, 'User': {'can_edit': True, 'can_view': True, 'queryset': 'all', 'can_create': True, 'can_delete': False, 'can_edit_all_fields': True}, 'Entity': {'can_edit': True, 'can_view': True, 'queryset': 'all', 'can_create': True, 'can_delete': True}, 'Company': {'can_edit': True, 'can_view': True, 'queryset': 'self', 'can_create': True, 'can_delete': False, 'can_change_custom_options': True}, 'Service': {'can_edit': True, 'can_view': False, 'queryset': 'all', 'can_create': True, 'can_delete': True}, 'Contract': {'can_edit': True, 'can_view': True, 'queryset': 'all', 'can_create': True, 'can_delete': True, 'can_view_money': True, 'can_view_financial_indicators': True}, 'HelpChat': {'can_view': True}, 'Resource': {'can_edit': True, 'can_view': True, 'queryset': 'all', 'can_create': True, 'can_delete': True}, 'CSVImport': {'can_edit': True, 'can_view': True, 'queryset': 'all', 'can_create': True, 'can_delete': True}, 'Equipment': {'can_edit': False, 'can_view': False, 'queryset': 'none', 'can_create': False, 'can_delete': False}, 'Inventory': {'can_edit': True, 'can_view': True, 'queryset': 'all', 'can_create': True, 'can_delete': True, 'can_view_sisoaes': True}, 'Reporting': {'can_edit': True, 'can_view': True, 'queryset': 'all', 'can_create': True, 'can_delete': True, 'can_approve': True, 'can_hold_button': True, 'can_use_buttons': True, 'can_download_artesp_pdf': True, 'can_download_arteris_pdf': True, 'can_use_bluetooth_button': True}, 'ShapeFile': {'can_edit': True, 'can_view': True, 'queryset': 'all', 'can_create': True, 'can_delete': True}, 'TileLayer': {'can_edit': True, 'can_view': True, 'queryset': 'all', 'can_create': True, 'can_delete': True}, 'Dashboard2': {'can_edit': False, 'can_view': True, 'queryset': 'all', 'can_create': False, 'can_delete': False, 'can_view_map': True, 'can_view_r_d_o': True, 'can_view_heat_map': True, 'can_view_tech_plots': True, 'can_view_financial_indicators': True}, 'Permission': {'can_edit': False, 'can_view': True, 'queryset': 'all', 'can_create': False, 'can_delete': False}, 'QueuedPush': {'can_view': True}, 'SubCompany': {'can_edit': True, 'can_view': True, 'queryset': 'all', 'can_create': True, 'can_delete': True}, 'UserInFirm': {'can_edit': True, 'can_view': True, 'queryset': 'all', 'can_create': True, 'can_delete': True}, 'subCompany': {'can_edit': True, 'can_view': True, 'queryset': 'all', 'can_create': True, 'can_delete': True}, 'ExcelImport': {'can_edit': False, 'can_view': True, 'queryset': 'all', 'can_create': True, 'can_delete': False}, 'FieldSurvey': {'can_edit': True, 'can_view': True, 'queryset': 'all', 'can_create': True, 'can_delete': True, 'can_approve': True, 'can_view_money': True}, 'Measurement': {'can_edit': False, 'can_view': False, 'queryset': 'all', 'can_create': False, 'can_delete': False}, 'OaeSchedule': {'can_edit': True, 'can_view': True, 'queryset': 'all', 'can_create': True, 'can_delete': True}, 'RecordPanel': {'can_edit': True, 'can_view': True, 'queryset': 'default', 'can_create': True, 'can_delete': True}, 'mobile_sync': {'can_edit': True, 'can_view': True, 'queryset': 'self', 'can_create': True, 'can_delete': True}, 'ApprovalFlow': {'can_edit': False, 'can_view': True, 'queryset': 'all', 'can_create': False, 'can_delete': False}, 'ApprovalStep': {'can_edit': False, 'can_view': True, 'queryset': 'all', 'can_create': False, 'can_delete': False}, 'ServiceUsage': {'can_edit': True, 'can_view': False, 'queryset': 'all', 'can_create': True, 'can_delete': True}, 'construction': {'can_edit': True, 'can_view': True, 'queryset': 'all', 'can_create': True, 'can_delete': True}, 'excel_import': {'can_edit': False, 'can_view': True, 'queryset': 'all', 'can_create': True, 'can_delete': False}, 'AccessRequest': {'can_edit': True, 'can_view': True, 'queryset': 'self', 'can_create': True, 'can_delete': True, 'can_approve': True}, 'ExportRequest': {'can_edit': True, 'can_view': True, 'queryset': 'self', 'can_create': True, 'can_delete': True}, 'GoalAggregate': {'can_edit': True, 'can_view': True, 'queryset': 'all', 'can_create': True, 'can_delete': True}, 'ReportingFile': {'can_edit': True, 'can_view': True, 'queryset': 'all', 'can_create': True, 'can_delete': True}, 'UserInCompany': {'can_edit': True, 'can_view': True, 'queryset': 'all', 'can_create': True, 'can_delete': True}, 'quality_assay': {'can_edit': True, 'can_view': True, 'queryset': 'all', 'can_create': True, 'can_delete': True}, 'OccurrenceType': {'can_edit': True, 'can_view': True, 'queryset': 'all', 'can_create': True, 'can_delete': False}, 'UserPermission': {'can_edit': False, 'can_view': True, 'queryset': 'all', 'can_create': False, 'can_delete': False}, 'quality_sample': {'can_edit': True, 'can_view': True, 'queryset': 'all', 'can_create': True, 'can_delete': True}, 'ContractService': {'can_edit': True, 'can_view': True, 'queryset': 'all', 'can_create': True, 'can_delete': True, 'can_view_money': True}, 'FieldSurveyRoad': {'can_edit': True, 'can_view': True, 'queryset': 'all', 'can_create': True, 'can_delete': True, 'can_view_money': True}, 'InspectorInFirm': {'can_edit': True, 'can_view': True, 'queryset': 'all', 'can_create': True, 'can_delete': True}, 'RecordPanelView': {'can_view': True}, 'quality_project': {'can_edit': True, 'can_view': True, 'queryset': 'all', 'can_create': True, 'can_delete': True}, 'ReportingMessage': {'can_edit': False, 'can_view': True, 'queryset': 'all', 'can_create': True, 'can_delete': False}, 'advanced_options': {'can_edit': True, 'can_view': True, 'queryset': 'all', 'can_create': True, 'can_delete': True}, 'AdditionalControl': {'can_edit': True, 'can_view': True, 'queryset': 'all', 'can_create': True, 'can_delete': True, 'can_view_money': True}, 'CustomizationMenu': {'can_edit': True, 'can_view': True, 'queryset': 'all', 'can_create': True, 'can_delete': True}, 'DailyReportConfig': {'can_edit': True, 'can_view': True, 'queryset': 'all', 'can_create': True, 'can_delete': True}, 'DailyReportExport': {'can_edit': False, 'can_view': True, 'queryset': 'all', 'can_create': True, 'can_delete': False}, 'DailyReportWorker': {'can_edit': True, 'can_view': True, 'queryset': 'all', 'can_create': True, 'can_delete': True, 'can_approve': True}, 'FieldSurveyExport': {'can_edit': True, 'can_view': True, 'queryset': 'all', 'can_create': True, 'can_delete': True}, 'ProcedureResource': {'can_edit': True, 'can_view': True, 'queryset': 'all', 'can_create': True, 'can_delete': True, 'can_approve': True, 'can_view_money': True}, 'ReportingDeadline': {'can_edit': True, 'can_view': True, 'queryset': 'all', 'can_create': True, 'can_delete': True, 'can_hold_button': True, 'can_use_buttons': True, 'can_download_arteris_pdf': True}, 'ApprovalTransition': {'can_edit': False, 'can_view': True, 'queryset': 'all', 'can_create': False, 'can_delete': False}, 'DailyReportVehicle': {'can_edit': True, 'can_view': True, 'queryset': 'all', 'can_create': True, 'can_delete': True, 'can_approve': True}, 'MeasurementService': {'can_edit': False, 'can_view': True, 'queryset': 'all', 'can_create': True, 'can_delete': False}, 'ReportingAppConfig': {'can_edit': True, 'can_view': True, 'queryset': 'all', 'can_create': True, 'can_delete': True}, 'construction_plant': {'can_edit': True, 'can_view': True, 'queryset': 'all', 'can_create': True, 'can_delete': True}, 'DailyReportResource': {'can_edit': True, 'can_view': True, 'queryset': 'all', 'can_create': True, 'can_delete': True}, 'MeasurementBulletin': {'can_edit': True, 'can_view': True, 'queryset': 'all', 'can_create': True, 'can_delete': True, 'can_approve': True, 'can_view_money': True, 'can_view_summary': True}, 'MultipleDailyReport': {'can_edit': True, 'can_view': True, 'queryset': 'all', 'can_create': True, 'can_delete': True, 'can_approve': True, 'can_delete_all': True, 'can_view_all_firms': True, 'can_create_and_edit_all_firms': True}, 'dailyReportRelation': {'can_edit': True, 'can_view': True, 'queryset': 'all', 'can_create': True, 'can_delete': True}, 'DailyReportEquipment': {'can_edit': True, 'can_view': True, 'queryset': 'all', 'can_create': True, 'can_delete': True, 'can_approve': True}, 'DailyReportSignaling': {'can_edit': True, 'can_view': True, 'queryset': 'all', 'can_create': True, 'can_delete': True}, 'FieldSurveySignature': {'can_edit': True, 'can_view': True, 'queryset': 'all', 'can_create': True, 'can_delete': True, 'can_view_money': True}, 'ServiceOrderResource': {'can_edit': True, 'can_view': True, 'queryset': 'all', 'can_create': True, 'can_delete': True, 'can_view_money': True}, 'ContractItemUnitPrice': {'can_edit': True, 'can_view': True, 'queryset': 'all', 'can_create': True, 'can_delete': True, 'can_view_money': True}, 'DailyReportOccurrence': {'can_edit': True, 'can_view': True, 'queryset': 'all', 'can_create': True, 'can_delete': True}, 'construction_progress': {'can_edit': True, 'can_view': True, 'queryset': 'all', 'can_create': True, 'can_delete': True}, 'quality_control_export': {'can_edit': True, 'can_view': True, 'queryset': 'all', 'can_create': True, 'can_delete': True}, 'ContractItemPerformance': {'can_edit': True, 'can_view': True, 'queryset': 'all', 'can_create': True, 'can_delete': True, 'can_view_money': True}, 'DailyReportExternalTeam': {'can_edit': True, 'can_view': True, 'queryset': 'all', 'can_create': True, 'can_delete': True}, 'DailyReportContractUsage': {'can_edit': True, 'can_view': True, 'queryset': 'all', 'can_create': True, 'can_delete': True}, 'ServiceOrderActionStatus': {'can_edit': True, 'can_view': True, 'queryset': 'all', 'can_create': True, 'can_delete': True}, 'MeasurementBulletinExport': {'can_edit': True, 'can_view': True, 'queryset': 'all', 'can_create': True, 'can_delete': True, 'can_approve': False, 'can_view_money': True}, 'ContractItemAdministration': {'can_edit': True, 'can_view': True, 'queryset': 'all', 'can_create': True, 'can_delete': True, 'can_view_money': True}}, 'is_inactive': False, 'history_id': UUID('1155be51-2e4e-442e-b9a5-9f8ebd919c94'), 'history_date': datetime.datetime(2023, 8, 10, 17, 53, 29, 261348, tzinfo=<UTC>), 'history_change_reason': None, 'history_type': '~', 'history_user_id': None}\n"
     ]
    }
   ],
   "source": [
    "for a in t:\n",
    "    print(a.permissions.history.filter(history_date=))"
   ]
  },
  {
   "cell_type": "code",
   "execution_count": 1,
   "id": "0c492bc0",
   "metadata": {},
   "outputs": [
    {
     "name": "stdout",
     "output_type": "stream",
     "text": [
      "STAGE=ENGIE_STAGING\r\n"
     ]
    }
   ],
   "source": [
    "!cat .env"
   ]
  },
  {
   "cell_type": "code",
   "execution_count": 2,
   "id": "b491fbe2",
   "metadata": {},
   "outputs": [
    {
     "data": {
      "text/plain": [
       "<Company: e9fce210-f652-4d7d-befe-32e02a8f0f60: PRE-GSO - UHE-ITA>"
      ]
     },
     "execution_count": 2,
     "metadata": {},
     "output_type": "execute_result"
    }
   ],
   "source": [
    "company= Company.objects.filter(name=\"PRE-GSO - UHE-ITA\").first()\n",
    "company"
   ]
  },
  {
   "cell_type": "code",
   "execution_count": 3,
   "id": "5b6b1676",
   "metadata": {},
   "outputs": [
    {
     "data": {
      "text/plain": [
       "<QuerySet [<ApprovalStep: [PRE-GSO - UHE-ITA]: Aguardando aprovação>, <ApprovalStep: [PRE-GSO - UHE-ITA]: Cadastro em Elaboração>, <ApprovalStep: [PRE-GSO - UHE-ITA]: Em revisão>, <ApprovalStep: [PRE-GSO - UHE-ITA]: Rejeitado>, <ApprovalStep: [PRE-GSO - UHE-ITA]: Aguardando validação DC>, <ApprovalStep: [PRE-GSO - UHE-ITA]: Em atualização cadastral>, <ApprovalStep: [PRE-GSO - UHE-ITA]: Aceito>, <ApprovalStep: [PRE-GSO - UHE-ITA]: Inativado>]>"
      ]
     },
     "execution_count": 3,
     "metadata": {},
     "output_type": "execute_result"
    }
   ],
   "source": [
    "aps2 = ApprovalStep.objects.filter(approval_flow__company=company,approval_flow__target_model__icontains=\"record\")\n",
    "aps2"
   ]
  },
  {
   "cell_type": "code",
   "execution_count": 4,
   "id": "16ca50cd",
   "metadata": {
    "scrolled": true
   },
   "outputs": [
    {
     "data": {
      "text/plain": [
       "(<QuerySet [<User: joao.silva - João da SIlva>]>,\n",
       " <QuerySet [<ApprovalTransition: [Atualizar cadastro]: Aceito - Em atualização cadastral>, <ApprovalTransition: [Solicitar revisão]: Aguardando aprovação - Em revisão>, <ApprovalTransition: [Rejeitar]: Aguardando aprovação - Rejeitado>, <ApprovalTransition: [Aprovar]: Aguardando aprovação - Aguardando validação DC>, <ApprovalTransition: [Solicitar revisão]: Aguardando validação DC - Em atualização cadastral>, <ApprovalTransition: [Aceitar]: Aguardando validação DC - Aceito>, <ApprovalTransition: [Inativar]: Aguardando validação DC - Inativado>, <ApprovalTransition: [Solicitar aprovação]: Cadastro em Elaboração - Aguardando aprovação>, <ApprovalTransition: [Solicitar aprovação]: Em atualização cadastral - Aguardando validação DC>, <ApprovalTransition: [Solicitar homologação]: Em revisão - Aguardando aprovação>, <ApprovalTransition: [Atualizar cadastro]: Inativado - Em atualização cadastral>]>)"
      ]
     },
     "execution_count": 4,
     "metadata": {},
     "output_type": "execute_result"
    }
   ],
   "source": [
    "at=ApprovalTransition.objects.filter(\n",
    "    destination__approval_flow__company=company,destination__approval_flow__target_model__icontains=\"record\").order_by('origin__name')\n",
    "at[0].origin.responsible_users.all(),at"
   ]
  },
  {
   "cell_type": "code",
   "execution_count": 5,
   "id": "34c06845",
   "metadata": {},
   "outputs": [
    {
     "name": "stdout",
     "output_type": "stream",
     "text": [
      "PRE-GSO - UHE-ITA\n",
      "Aceito > BOTÃO: [Atualizar cadastro] > Em atualização cadastral | ConfigBotão:{'icon': 'warning', 'color': 'amber', 'variant': 'outlined', 'needs_dialog': True}\n",
      "Aguardando aprovação > BOTÃO: [Solicitar revisão] > Em revisão | ConfigBotão:{'icon': 'warning', 'color': 'amber', 'variant': 'outlined', 'needs_dialog': True}\n",
      "Aguardando aprovação > BOTÃO: [Rejeitar] > Rejeitado | ConfigBotão:{'icon': 'clear', 'color': 'red', 'variant': 'outlined', 'needs_dialog': True}\n",
      "Aguardando aprovação > BOTÃO: [Aprovar] > Aguardando validação DC | ConfigBotão:{'icon': 'check', 'color': 'primary', 'variant': 'raised'}\n",
      "Aguardando validação DC > BOTÃO: [Solicitar revisão] > Em atualização cadastral | ConfigBotão:{'icon': 'warning', 'color': 'amber', 'variant': 'outlined', 'needs_dialog': True}\n",
      "Aguardando validação DC > BOTÃO: [Aceitar] > Aceito | ConfigBotão:{'icon': 'check', 'color': 'primary', 'variant': 'raised'}\n",
      "Aguardando validação DC > BOTÃO: [Inativar] > Inativado | ConfigBotão:{'icon': 'clear', 'color': 'red', 'variant': 'outlined', 'needs_dialog': True}\n",
      "Cadastro em Elaboração > BOTÃO: [Solicitar aprovação] > Aguardando aprovação | ConfigBotão:{'icon': 'assignment', 'color': 'primary', 'variant': 'raised'}\n",
      "Em atualização cadastral > BOTÃO: [Solicitar aprovação] > Aguardando validação DC | ConfigBotão:{'icon': 'assignment', 'color': 'primary', 'variant': 'raised'}\n",
      "Em revisão > BOTÃO: [Solicitar homologação] > Aguardando aprovação | ConfigBotão:{'icon': 'assignment', 'color': 'primary', 'variant': 'raised'}\n",
      "Inativado > BOTÃO: [Atualizar cadastro] > Em atualização cadastral | ConfigBotão:{'icon': 'warning', 'color': 'amber', 'variant': 'outlined', 'needs_dialog': True}\n"
     ]
    }
   ],
   "source": [
    "print(company.name)\n",
    "for a in at:\n",
    "    print(f\"{a.origin.name} > BOTÃO: {str(a).split(':')[0]} > {a.destination.name} | ConfigBotão:{a.button}\")"
   ]
  },
  {
   "cell_type": "code",
   "execution_count": 8,
   "id": "90eb6ca5",
   "metadata": {},
   "outputs": [
    {
     "data": {
      "text/plain": [
       "({'_state': <django.db.models.base.ModelState at 0x753e1bfab790>,\n",
       "  'uuid': UUID('77a2dfa6-43ab-4b6b-96b0-3c6547d49ba8'),\n",
       "  'name': 'Aprovar',\n",
       "  'origin_id': UUID('e9ddf04f-ae74-49ff-9f1b-274cc6ebbf78'),\n",
       "  'destination_id': UUID('b3fcf900-5424-40a6-8835-bcff981f6985'),\n",
       "  'condition': {'===': [{'var': 'request.action'}, 'Aprovar']},\n",
       "  'callback': {'change_fields': [{'name': 'status',\n",
       "     'value': {'type': 'object',\n",
       "      'model': 'service_orders.ServiceOrderActionStatus',\n",
       "      'filters': {'uuid': '583b64e5-db49-49ac-8594-6f1c7add5bef'}}}]},\n",
       "  'button': {'icon': 'check', 'color': 'primary', 'variant': 'raised'},\n",
       "  'order': ''},\n",
       " 'Aguardando aprovação',\n",
       " 'Aguardando validação DC')"
      ]
     },
     "execution_count": 8,
     "metadata": {},
     "output_type": "execute_result"
    }
   ],
   "source": [
    "at[5].__dict__,at[5].origin.name,at[5].destination.name"
   ]
  },
  {
   "cell_type": "code",
   "execution_count": 9,
   "id": "53834cdd",
   "metadata": {},
   "outputs": [],
   "source": [
    "from django.core.serializers import serialize"
   ]
  },
  {
   "cell_type": "code",
   "execution_count": 16,
   "id": "210c3e2d",
   "metadata": {},
   "outputs": [],
   "source": [
    "# Serializa os modelos desejados\n",
    "data_model1 = serialize('json', ApprovalTransition.objects.filter(destination__approval_flow__company=company,\n",
    "                                                               destination__approval_flow__target_model__icontains=\"record\"))\n",
    "data_model2 = serialize('json', ApprovalStep.objects.filter(approval_flow__company=company,\n",
    "                                                           approval_flow__target_model__icontains=\"record\").only('uuid','name'))"
   ]
  },
  {
   "cell_type": "code",
   "execution_count": 15,
   "id": "8d963377",
   "metadata": {},
   "outputs": [
    {
     "data": {
      "text/plain": [
       "'[{\"model\": \"approval_flows.approvaltransition\", \"pk\": \"aa9aa5ee-5346-4025-8713-46350646e861\", \"fields\": {\"name\": \"Solicitar homologa\\\\u00e7\\\\u00e3o\", \"origin\": \"13fd9c37-0ffb-4a67-b545-a73d01deba4b\", \"destination\": \"e9ddf04f-ae74-49ff-9f1b-274cc6ebbf78\", \"condition\": {\"===\": [{\"var\": \"request.action\"}, \"Solicitar homologa\\\\u00e7\\\\u00e3o\"]}, \"callback\": {\"change_fields\": [{\"name\": \"editable\", \"value\": false}, {\"name\": \"status\", \"value\": {\"type\": \"object\", \"model\": \"service_orders.ServiceOrderActionStatus\", \"filters\": {\"uuid\": \"98a77250-cda4-43ec-9972-90265d717911\"}}}]}, \"button\": {\"icon\": \"assignment\", \"color\": \"primary\", \"variant\": \"raised\"}, \"order\": \"\"}}, {\"model\": \"approval_flows.approvaltransition\", \"pk\": \"b6b6bfd8-7664-44c9-bc78-eca4c8feec11\", \"fields\": {\"name\": \"Solicitar aprova\\\\u00e7\\\\u00e3o\", \"origin\": \"62915af7-cfde-429e-9179-27ffbeaadf7c\", \"destination\": \"e9ddf04f-ae74-49ff-9f1b-274cc6ebbf78\", \"condition\": {\"===\": [{\"var\": \"request.action\"}, \"Solicitar aprova\\\\u00e7\\\\u00e3o\"]}, \"callback\": {\"change_fields\": [{\"name\": \"editable\", \"value\": false}, {\"name\": \"status\", \"value\": {\"type\": \"object\", \"model\": \"service_orders.ServiceOrderActionStatus\", \"filters\": {\"uuid\": \"98a77250-cda4-43ec-9972-90265d717911\"}}}]}, \"button\": {\"icon\": \"assignment\", \"color\": \"primary\", \"variant\": \"raised\"}, \"order\": \"\"}}, {\"model\": \"approval_flows.approvaltransition\", \"pk\": \"e6169b7c-06d0-421b-881c-654773a82704\", \"fields\": {\"name\": \"Solicitar revis\\\\u00e3o\", \"origin\": \"e9ddf04f-ae74-49ff-9f1b-274cc6ebbf78\", \"destination\": \"13fd9c37-0ffb-4a67-b545-a73d01deba4b\", \"condition\": {\"===\": [{\"var\": \"request.action\"}, \"Solicitar revis\\\\u00e3o\"]}, \"callback\": {\"change_fields\": [{\"name\": \"editable\", \"value\": true}, {\"name\": \"status\", \"value\": {\"type\": \"object\", \"model\": \"service_orders.ServiceOrderActionStatus\", \"filters\": {\"uuid\": \"d596df91-455b-4635-8504-0477f1748001\"}}}]}, \"button\": {\"icon\": \"warning\", \"color\": \"amber\", \"variant\": \"outlined\", \"needs_dialog\": true}, \"order\": \"\"}}, {\"model\": \"approval_flows.approvaltransition\", \"pk\": \"e0aa71d4-66e7-487d-b8ac-713a62cd6a99\", \"fields\": {\"name\": \"Rejeitar\", \"origin\": \"e9ddf04f-ae74-49ff-9f1b-274cc6ebbf78\", \"destination\": \"24527f1f-980f-404d-afdf-892f1f345b0b\", \"condition\": {\"===\": [{\"var\": \"request.action\"}, \"Rejeitar\"]}, \"callback\": {\"change_fields\": [{\"name\": \"status\", \"value\": {\"type\": \"object\", \"model\": \"service_orders.ServiceOrderActionStatus\", \"filters\": {\"uuid\": \"d7152748-f69f-46f3-b4de-4554210c3599\"}}}]}, \"button\": {\"icon\": \"clear\", \"color\": \"red\", \"variant\": \"outlined\", \"needs_dialog\": true}, \"order\": \"\"}}, {\"model\": \"approval_flows.approvaltransition\", \"pk\": \"df971a3d-d31c-4507-b89b-0fce070fcad8\", \"fields\": {\"name\": \"Solicitar aprova\\\\u00e7\\\\u00e3o\", \"origin\": \"afe9b99d-3a37-453e-b391-4c80c01d80b6\", \"destination\": \"b3fcf900-5424-40a6-8835-bcff981f6985\", \"condition\": {\"===\": [{\"var\": \"request.action\"}, \"Solicitar aprova\\\\u00e7\\\\u00e3o\"]}, \"callback\": {\"change_fields\": [{\"name\": \"editable\", \"value\": false}, {\"name\": \"status\", \"value\": {\"type\": \"object\", \"model\": \"service_orders.ServiceOrderActionStatus\", \"filters\": {\"uuid\": \"583b64e5-db49-49ac-8594-6f1c7add5bef\"}}}]}, \"button\": {\"icon\": \"assignment\", \"color\": \"primary\", \"variant\": \"raised\"}, \"order\": \"\"}}, {\"model\": \"approval_flows.approvaltransition\", \"pk\": \"77a2dfa6-43ab-4b6b-96b0-3c6547d49ba8\", \"fields\": {\"name\": \"Aprovar\", \"origin\": \"e9ddf04f-ae74-49ff-9f1b-274cc6ebbf78\", \"destination\": \"b3fcf900-5424-40a6-8835-bcff981f6985\", \"condition\": {\"===\": [{\"var\": \"request.action\"}, \"Aprovar\"]}, \"callback\": {\"change_fields\": [{\"name\": \"status\", \"value\": {\"type\": \"object\", \"model\": \"service_orders.ServiceOrderActionStatus\", \"filters\": {\"uuid\": \"583b64e5-db49-49ac-8594-6f1c7add5bef\"}}}]}, \"button\": {\"icon\": \"check\", \"color\": \"primary\", \"variant\": \"raised\"}, \"order\": \"\"}}, {\"model\": \"approval_flows.approvaltransition\", \"pk\": \"34233219-d48a-45bc-9134-198dc16a53aa\", \"fields\": {\"name\": \"Atualizar cadastro\", \"origin\": \"a46c4346-19e2-40d3-ba78-f4d885444a3e\", \"destination\": \"afe9b99d-3a37-453e-b391-4c80c01d80b6\", \"condition\": {\"===\": [{\"var\": \"request.action\"}, \"Atualizar cadastro\"]}, \"callback\": {\"change_fields\": [{\"name\": \"editable\", \"value\": true}, {\"name\": \"status\", \"value\": {\"type\": \"object\", \"model\": \"service_orders.ServiceOrderActionStatus\", \"filters\": {\"uuid\": \"418ff150-0257-4ee2-8b00-615c9a5f28cd\"}}}]}, \"button\": {\"icon\": \"warning\", \"color\": \"amber\", \"variant\": \"outlined\", \"needs_dialog\": true}, \"order\": \"\"}}, {\"model\": \"approval_flows.approvaltransition\", \"pk\": \"4def00c8-6d43-46ac-83ef-239fbef932c8\", \"fields\": {\"name\": \"Atualizar cadastro\", \"origin\": \"e033991b-1ac0-488a-93a8-23ee16be7d59\", \"destination\": \"afe9b99d-3a37-453e-b391-4c80c01d80b6\", \"condition\": {\"===\": [{\"var\": \"request.action\"}, \"Atualizar cadastro\"]}, \"callback\": {\"change_fields\": [{\"name\": \"editable\", \"value\": true}, {\"name\": \"status\", \"value\": {\"type\": \"object\", \"model\": \"service_orders.ServiceOrderActionStatus\", \"filters\": {\"uuid\": \"418ff150-0257-4ee2-8b00-615c9a5f28cd\"}}}]}, \"button\": {\"icon\": \"warning\", \"color\": \"amber\", \"variant\": \"outlined\", \"needs_dialog\": true}, \"order\": \"\"}}, {\"model\": \"approval_flows.approvaltransition\", \"pk\": \"550dec13-3481-411a-b119-924be2746e83\", \"fields\": {\"name\": \"Solicitar revis\\\\u00e3o\", \"origin\": \"b3fcf900-5424-40a6-8835-bcff981f6985\", \"destination\": \"afe9b99d-3a37-453e-b391-4c80c01d80b6\", \"condition\": {\"===\": [{\"var\": \"request.action\"}, \"Solicitar revis\\\\u00e3o\"]}, \"callback\": {\"change_fields\": [{\"name\": \"editable\", \"value\": true}, {\"name\": \"status\", \"value\": {\"type\": \"object\", \"model\": \"service_orders.ServiceOrderActionStatus\", \"filters\": {\"uuid\": \"418ff150-0257-4ee2-8b00-615c9a5f28cd\"}}}]}, \"button\": {\"icon\": \"warning\", \"color\": \"amber\", \"variant\": \"outlined\", \"needs_dialog\": true}, \"order\": \"\"}}, {\"model\": \"approval_flows.approvaltransition\", \"pk\": \"121454b2-bc96-4aae-b0c5-a6d9508e4a4c\", \"fields\": {\"name\": \"Aceitar\", \"origin\": \"b3fcf900-5424-40a6-8835-bcff981f6985\", \"destination\": \"e033991b-1ac0-488a-93a8-23ee16be7d59\", \"condition\": {\"===\": [{\"var\": \"request.action\"}, \"Aceitar\"]}, \"callback\": {\"change_fields\": [{\"name\": \"status\", \"value\": {\"type\": \"object\", \"model\": \"service_orders.ServiceOrderActionStatus\", \"filters\": {\"uuid\": \"fce15cc9-074a-4cbf-bf4e-1089f5181877\"}}}]}, \"button\": {\"icon\": \"check\", \"color\": \"primary\", \"variant\": \"raised\"}, \"order\": \"\"}}, {\"model\": \"approval_flows.approvaltransition\", \"pk\": \"475fcee9-51c8-47d0-9a91-8d54c6b0eeb6\", \"fields\": {\"name\": \"Inativar\", \"origin\": \"b3fcf900-5424-40a6-8835-bcff981f6985\", \"destination\": \"a46c4346-19e2-40d3-ba78-f4d885444a3e\", \"condition\": {\"===\": [{\"var\": \"request.action\"}, \"Inativar\"]}, \"callback\": {\"change_fields\": [{\"name\": \"status\", \"value\": {\"type\": \"object\", \"model\": \"service_orders.ServiceOrderActionStatus\", \"filters\": {\"uuid\": \"bfd407f8-30f6-4911-8359-5c5f42259f9d\"}}}]}, \"button\": {\"icon\": \"clear\", \"color\": \"red\", \"variant\": \"outlined\", \"needs_dialog\": true}, \"order\": \"\"}}]'"
      ]
     },
     "execution_count": 15,
     "metadata": {},
     "output_type": "execute_result"
    }
   ],
   "source": [
    "data_model1"
   ]
  },
  {
   "cell_type": "code",
   "execution_count": 17,
   "id": "0f8c8720",
   "metadata": {},
   "outputs": [
    {
     "data": {
      "text/plain": [
       "'[{\"model\": \"approval_flows.approvalstep\", \"pk\": \"62915af7-cfde-429e-9179-27ffbeaadf7c\", \"fields\": {\"name\": \"Cadastro em Elabora\\\\u00e7\\\\u00e3o\", \"approval_flow\": \"a088ce4f-374e-4625-9684-d26d27cfcf69\", \"field_options\": {}, \"responsible_created_by\": true, \"responsible_supervisor\": false, \"responsible_firm_entity\": false, \"responsible_firm_manager\": false, \"auto_execute_transition\": false, \"responsible_json_logic\": {}, \"color\": \"#FF0000\", \"responsible_firms\": [], \"responsible_users\": [\"0aa50773-b368-4a50-9f12-4a7d8dfaf256\", \"df3e437a-8a19-4a0d-8632-99bdd573e7fb\"]}}, {\"model\": \"approval_flows.approvalstep\", \"pk\": \"e9ddf04f-ae74-49ff-9f1b-274cc6ebbf78\", \"fields\": {\"name\": \"Aguardando aprova\\\\u00e7\\\\u00e3o\", \"approval_flow\": \"a088ce4f-374e-4625-9684-d26d27cfcf69\", \"field_options\": {}, \"responsible_created_by\": false, \"responsible_supervisor\": false, \"responsible_firm_entity\": false, \"responsible_firm_manager\": false, \"auto_execute_transition\": false, \"responsible_json_logic\": {}, \"color\": \"#FF0000\", \"responsible_firms\": [], \"responsible_users\": [\"0aa50773-b368-4a50-9f12-4a7d8dfaf256\", \"df3e437a-8a19-4a0d-8632-99bdd573e7fb\"]}}, {\"model\": \"approval_flows.approvalstep\", \"pk\": \"13fd9c37-0ffb-4a67-b545-a73d01deba4b\", \"fields\": {\"name\": \"Em revis\\\\u00e3o\", \"approval_flow\": \"a088ce4f-374e-4625-9684-d26d27cfcf69\", \"field_options\": {}, \"responsible_created_by\": true, \"responsible_supervisor\": false, \"responsible_firm_entity\": false, \"responsible_firm_manager\": false, \"auto_execute_transition\": false, \"responsible_json_logic\": {}, \"color\": \"#FF0000\", \"responsible_firms\": [], \"responsible_users\": [\"0aa50773-b368-4a50-9f12-4a7d8dfaf256\", \"df3e437a-8a19-4a0d-8632-99bdd573e7fb\"]}}, {\"model\": \"approval_flows.approvalstep\", \"pk\": \"24527f1f-980f-404d-afdf-892f1f345b0b\", \"fields\": {\"name\": \"Rejeitado\", \"approval_flow\": \"a088ce4f-374e-4625-9684-d26d27cfcf69\", \"field_options\": {}, \"responsible_created_by\": false, \"responsible_supervisor\": false, \"responsible_firm_entity\": false, \"responsible_firm_manager\": false, \"auto_execute_transition\": false, \"responsible_json_logic\": {}, \"color\": \"#FF0000\", \"responsible_firms\": [], \"responsible_users\": [\"0aa50773-b368-4a50-9f12-4a7d8dfaf256\", \"df3e437a-8a19-4a0d-8632-99bdd573e7fb\"]}}, {\"model\": \"approval_flows.approvalstep\", \"pk\": \"b3fcf900-5424-40a6-8835-bcff981f6985\", \"fields\": {\"name\": \"Aguardando valida\\\\u00e7\\\\u00e3o DC\", \"approval_flow\": \"a088ce4f-374e-4625-9684-d26d27cfcf69\", \"field_options\": {}, \"responsible_created_by\": false, \"responsible_supervisor\": false, \"responsible_firm_entity\": false, \"responsible_firm_manager\": false, \"auto_execute_transition\": false, \"responsible_json_logic\": {}, \"color\": \"#FF0000\", \"responsible_firms\": [], \"responsible_users\": [\"0aa50773-b368-4a50-9f12-4a7d8dfaf256\", \"df3e437a-8a19-4a0d-8632-99bdd573e7fb\"]}}, {\"model\": \"approval_flows.approvalstep\", \"pk\": \"afe9b99d-3a37-453e-b391-4c80c01d80b6\", \"fields\": {\"name\": \"Em atualiza\\\\u00e7\\\\u00e3o cadastral\", \"approval_flow\": \"a088ce4f-374e-4625-9684-d26d27cfcf69\", \"field_options\": {}, \"responsible_created_by\": true, \"responsible_supervisor\": false, \"responsible_firm_entity\": false, \"responsible_firm_manager\": false, \"auto_execute_transition\": false, \"responsible_json_logic\": {}, \"color\": \"#FF0000\", \"responsible_firms\": [], \"responsible_users\": [\"0aa50773-b368-4a50-9f12-4a7d8dfaf256\", \"df3e437a-8a19-4a0d-8632-99bdd573e7fb\"]}}, {\"model\": \"approval_flows.approvalstep\", \"pk\": \"e033991b-1ac0-488a-93a8-23ee16be7d59\", \"fields\": {\"name\": \"Aceito\", \"approval_flow\": \"a088ce4f-374e-4625-9684-d26d27cfcf69\", \"field_options\": {}, \"responsible_created_by\": false, \"responsible_supervisor\": false, \"responsible_firm_entity\": false, \"responsible_firm_manager\": false, \"auto_execute_transition\": false, \"responsible_json_logic\": {}, \"color\": \"#FF0000\", \"responsible_firms\": [], \"responsible_users\": [\"0aa50773-b368-4a50-9f12-4a7d8dfaf256\", \"df3e437a-8a19-4a0d-8632-99bdd573e7fb\"]}}, {\"model\": \"approval_flows.approvalstep\", \"pk\": \"a46c4346-19e2-40d3-ba78-f4d885444a3e\", \"fields\": {\"name\": \"Inativado\", \"approval_flow\": \"a088ce4f-374e-4625-9684-d26d27cfcf69\", \"field_options\": {}, \"responsible_created_by\": true, \"responsible_supervisor\": false, \"responsible_firm_entity\": false, \"responsible_firm_manager\": false, \"auto_execute_transition\": false, \"responsible_json_logic\": {}, \"color\": \"#FF0000\", \"responsible_firms\": [], \"responsible_users\": [\"0aa50773-b368-4a50-9f12-4a7d8dfaf256\", \"df3e437a-8a19-4a0d-8632-99bdd573e7fb\"]}}]'"
      ]
     },
     "execution_count": 17,
     "metadata": {},
     "output_type": "execute_result"
    }
   ],
   "source": [
    "data_model2"
   ]
  },
  {
   "cell_type": "markdown",
   "id": "2b30d4f1",
   "metadata": {},
   "source": [
    "# Adição de usuários ao fluxo PRE Engie"
   ]
  },
  {
   "cell_type": "code",
   "execution_count": 1,
   "id": "1e89ace4",
   "metadata": {},
   "outputs": [
    {
     "data": {
      "text/plain": [
       "<QuerySet [<Company: a17b7aca-5552-4f17-9ba0-9946029390a6: POC-Projeto APR>, <Company: 571581e3-da3a-469e-8676-0dc58c056ef7: GSO - UHE-SALTO OSORIO>, <Company: 4920816b-507a-48b1-86d5-d2eef6c63a1f: GSO - UTPS>, <Company: 4a5e0119-fb85-40fd-87ab-f201a2aa0fde: GSB - UHE-MACHADINHO>, <Company: 7fe7b473-6d9c-49d6-a9ca-74f3424d3211: GSB - UHE-SALTO OSORIO>, <Company: b75339ff-e91f-4e75-a082-5d7e23a4d049: GSB - UHE-SALTO SANTIAGO>, <Company: f0bdd035-6af9-401c-9233-26c5cdd808b0: GSO - UHE-JAGUARA>, <Company: d25d0eb2-61a8-4646-8e0e-31c8e68cf216: TESTE>, <Company: c85df77c-3e92-4f60-b9c1-de5866400d2d: GSO - UHE-CANA BRAVA>, <Company: 62ad80d9-b785-4037-933a-e23238728220: GSO - UHE-MIRANDA>, <Company: 37b4c80d-3f2b-4032-8cac-6ba1560d3144: GSO - UHE-SALTO SANTIAGO>, <Company: cff59760-69dd-4d07-bba5-61aa8b6faeea: GES - UHE-CANA BRAVA>, <Company: 90041917-e41e-46f2-b979-7d3ad53efad2: Engie Umburanas>, <Company: 7647aa61-e7eb-42f4-b2c1-5567d083df4f: Energia Compartilhado GSO>, <Company: 4b4bfdad-f8b8-403b-93a6-26e846a6770b: GSO - UHE-MACHADINHO>, <Company: 1b1511d1-6f28-4aed-b02c-7c820c5f9dbb: GSO - PCH-RONDONÓPOLIS>, <Company: 69c4238a-fc42-4a16-a312-364ff4cd10c6: GSB - UHE-ITA>, <Company: 6ea3a49c-55a7-4aeb-919f-949034a5d2fa: GSB - UHE-ESTREITO>, <Company: e9fce210-f652-4d7d-befe-32e02a8f0f60: GSO - UHE-ITA>, <Company: e2d725b7-1b3b-4138-b790-cf49a6ab5284: GSB - UHE-JAGUARA>, '...(remaining elements truncated)...']>"
      ]
     },
     "execution_count": 1,
     "metadata": {},
     "output_type": "execute_result"
    }
   ],
   "source": [
    "companies= Company.objects.all()\n",
    "companies"
   ]
  },
  {
   "cell_type": "code",
   "execution_count": 10,
   "id": "6e6de5ca",
   "metadata": {},
   "outputs": [
    {
     "data": {
      "text/plain": [
       "<QuerySet [<ApprovalStep: [PRE-GSO - UHE-ESTREITO]: Cadastro em Elaboração>, <ApprovalStep: [PRE-GSO - UHE-ESTREITO]: Aguardando aprovação>, <ApprovalStep: [PRE-GSO - UHE-ESTREITO]: Em revisão>, <ApprovalStep: [PRE-GSO - UHE-ESTREITO]: Rejeitado>, <ApprovalStep: [PRE-GSO - UHE-ESTREITO]: Aguardando validação DC>, <ApprovalStep: [PRE-GSO - UHE-ESTREITO]: Em atualização cadastral>, <ApprovalStep: [PRE-GSO - UHE-ESTREITO]: Aceito>, <ApprovalStep: [PRE-GSO - UHE-ESTREITO]: Inativado>]>"
      ]
     },
     "execution_count": 10,
     "metadata": {},
     "output_type": "execute_result"
    }
   ],
   "source": [
    "aps = ApprovalStep.objects.filter(approval_flow__company=company,approval_flow__target_model__icontains=\"occurrence\")\n",
    "aps"
   ]
  },
  {
   "cell_type": "code",
   "execution_count": 11,
   "id": "d9aefcd0",
   "metadata": {},
   "outputs": [
    {
     "data": {
      "text/plain": [
       "<User: joao.silva - João da SIlva>"
      ]
     },
     "execution_count": 11,
     "metadata": {},
     "output_type": "execute_result"
    }
   ],
   "source": [
    "user= User.objects.get(username='joao.silva')\n",
    "user"
   ]
  },
  {
   "cell_type": "code",
   "execution_count": 12,
   "id": "950fb55d",
   "metadata": {},
   "outputs": [],
   "source": [
    "for a in aps:\n",
    "    a.responsible_users.add(user)"
   ]
  },
  {
   "cell_type": "code",
   "execution_count": null,
   "id": "973079cc",
   "metadata": {},
   "outputs": [],
   "source": []
  }
 ],
 "metadata": {
  "kernelspec": {
   "display_name": "Django Shell-Plus",
   "language": "python",
   "name": "django_extensions"
  },
  "language_info": {
   "codemirror_mode": {
    "name": "ipython",
    "version": 3
   },
   "file_extension": ".py",
   "mimetype": "text/x-python",
   "name": "python",
   "nbconvert_exporter": "python",
   "pygments_lexer": "ipython3",
   "version": "3.8.16"
  }
 },
 "nbformat": 4,
 "nbformat_minor": 5
}
