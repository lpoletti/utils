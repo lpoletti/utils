{
 "cells": [
  {
   "cell_type": "markdown",
   "metadata": {},
   "source": [
    "# Inventário"
   ]
  },
  {
   "cell_type": "markdown",
   "metadata": {},
   "source": [
    " "
   ]
  },
  {
   "cell_type": "markdown",
   "metadata": {},
   "source": [
    "Deve-se executar as seis primeiras células para carregar funções utilizadas para rodar o script"
   ]
  },
  {
   "cell_type": "code",
   "execution_count": 1,
   "metadata": {},
   "outputs": [],
   "source": [
    "import json\n",
    "import os\n",
    "from openpyxl import load_workbook\n",
    "from datetime import timedelta\n",
    "import random\n",
    "from copy import deepcopy\n",
    "from django.contrib.gis.geos import LineString, Point\n",
    "from django.contrib.admin.utils import flatten\n",
    "import math\n",
    "import datetime\n",
    "import locale\n",
    "from tqdm.notebook import tqdm\n",
    "from PIL import Image\n",
    "from io import BytesIO\n",
    "from simple_history.utils import bulk_create_with_history\n",
    "from django.contrib.gis.geos import Point, LineString as DjangoLineString\n",
    "from helpers.histories import bulk_update_with_history\n",
    "import pytz"
   ]
  },
  {
   "cell_type": "code",
   "execution_count": 2,
   "metadata": {},
   "outputs": [],
   "source": [
    "from helpers.route_maker import dic_to_ordered_list, unequal_point_pairs"
   ]
  },
  {
   "cell_type": "code",
   "execution_count": 3,
   "metadata": {},
   "outputs": [
    {
     "name": "stderr",
     "output_type": "stream",
     "text": [
      "/home/luan/.cache/pypoetry/virtualenvs/apps-ZFymp6kh-py3.7/lib/python3.7/site-packages/geopandas/_compat.py:110: UserWarning: The Shapely GEOS version (3.10.3-CAPI-1.16.1) is incompatible with the GEOS version PyGEOS was compiled with (3.9.1-CAPI-1.14.2). Conversions between both will be slow.\n",
      "  shapely_geos_version, geos_capi_version_string\n"
     ]
    }
   ],
   "source": [
    "from django.contrib.gis.geos import Point, LineString as DjangoLineString\n",
    "from django.contrib.gis.db.models.functions import Distance\n",
    "from turfpy.misc import nearest_point_on_line\n",
    "from turfpy.measurement import length\n",
    "from geojson import LineString, loads\n",
    "from helpers.histories import bulk_update_with_history\n",
    "from tqdm.notebook import tqdm"
   ]
  },
  {
   "cell_type": "code",
   "execution_count": 4,
   "metadata": {},
   "outputs": [],
   "source": [
    "def km_to_coordinates(road, km):\n",
    "\n",
    "    road_marks = dic_to_ordered_list(road.marks)\n",
    "    selected_pair = None\n",
    "\n",
    "    for pair in unequal_point_pairs(road_marks):\n",
    "        if pair[0][\"km\"] > km and pair[1][\"km\"] < km:\n",
    "            selected_pair = pair\n",
    "            break\n",
    "        elif pair[1][\"km\"] > km and pair[0][\"km\"] < km:\n",
    "            selected_pair = pair\n",
    "            break\n",
    "        elif pair[0][\"km\"] == km:\n",
    "            return Point(pair[0][\"point\"][\"coordinates\"]), road\n",
    "        elif pair[1][\"km\"] == km:\n",
    "            return Point(pair[1][\"point\"][\"coordinates\"]), road\n",
    "\n",
    "    # Calculate total length\n",
    "    start_km = min([selected_pair[0][\"km\"], selected_pair[1][\"km\"]])\n",
    "    end_km = max([selected_pair[0][\"km\"], selected_pair[1][\"km\"]])\n",
    "    segment_mark_length = end_km - start_km\n",
    "    distance_from_min = km - start_km\n",
    "    # Check if km is decreasing\n",
    "    invert_km = selected_pair[1][\"km\"] <= selected_pair[0][\"km\"]\n",
    "\n",
    "    # Cut segment\n",
    "    start_key = min((selected_pair[0][\"index\"], selected_pair[1][\"index\"]))\n",
    "    end_key = max((selected_pair[0][\"index\"], selected_pair[1][\"index\"]))\n",
    "\n",
    "    points = []\n",
    "    for key in range(start_key, end_key + 1):\n",
    "        points.append(\n",
    "            Point(road.path[key][0], road.path[key][1], road.path[key][2])\n",
    "        )\n",
    "\n",
    "    segment = LineString(points, srid=4326)\n",
    "    # Apply km inversion correction\n",
    "    if invert_km:\n",
    "        segment_distance = (\n",
    "            1 - (distance_from_min / segment_mark_length)\n",
    "        ) * segment.length\n",
    "    else:\n",
    "        segment_distance = (\n",
    "            distance_from_min / segment_mark_length\n",
    "        ) * segment.length\n",
    "    # Find point\n",
    "    point = segment.interpolate(segment_distance)\n",
    "\n",
    "    return Point(point.x, point.y), road"
   ]
  },
  {
   "cell_type": "code",
   "execution_count": 5,
   "metadata": {},
   "outputs": [],
   "source": [
    "def check_valid_road(road, km):\n",
    "\n",
    "    road_marks = dic_to_ordered_list(road.marks)\n",
    "\n",
    "    for pair in unequal_point_pairs(road_marks):\n",
    "        if pair[0][\"km\"] >= km and pair[1][\"km\"] <= km:\n",
    "            return True\n",
    "        elif pair[1][\"km\"] >= km and pair[0][\"km\"] <= km:\n",
    "            return True\n",
    "\n",
    "    return False"
   ]
  },
  {
   "cell_type": "code",
   "execution_count": 6,
   "metadata": {},
   "outputs": [],
   "source": [
    "def get_road_coordinates(road_name, km, direction, company):\n",
    "    road_set = Road.objects.filter(\n",
    "        name__contains=road_name, direction=int(direction), company=company\n",
    "    )\n",
    "\n",
    "    # If roads in specified direction are not found, search road only\n",
    "    # by name and order then by direction\n",
    "    road_set_generic = Road.objects.filter(\n",
    "        name__contains=road_name, company=company\n",
    "    ).order_by(\"direction\")\n",
    "\n",
    "    # Check if KM range in road_set\n",
    "#     print(\"Searching KM on direction...\")\n",
    "    valid = False\n",
    "    for road in road_set:\n",
    "        if check_valid_road(road, km):\n",
    "#             print(\"Found KM on Road {}\".format(road))\n",
    "            valid = True\n",
    "            break\n",
    "\n",
    "    if not valid:\n",
    "#         print(\"Searching KM without direction...\")\n",
    "        for road in road_set_generic:\n",
    "            if check_valid_road(road, km):\n",
    "#                 print(\"Found KM on Road {}\".format(road))\n",
    "                valid = True\n",
    "                break\n",
    "\n",
    "    if not valid:\n",
    "        return Point(0, 0), None\n",
    "\n",
    "    try:\n",
    "        return km_to_coordinates(road, km)\n",
    "    except Exception:\n",
    "        return Point(0, 0), None"
   ]
  },
  {
   "cell_type": "code",
   "execution_count": 7,
   "metadata": {},
   "outputs": [],
   "source": [
    "def findIndex(flist, func):\n",
    "    for i,v in enumerate(flist):\n",
    "        if func(v): \n",
    "            return i\n",
    "    return -1"
   ]
  },
  {
   "cell_type": "code",
   "execution_count": 8,
   "metadata": {},
   "outputs": [],
   "source": [
    "def point_to_km(lng, lat, road):\n",
    "    point = Point(lng, lat, srid=4326)\n",
    "#     roads = Road.objects.filter(company=company).annotate(distance=Distance(point, 'path')).order_by('distance')\n",
    "#     road = roads[0]\n",
    "    path = loads(road.path.geojson)\n",
    "    point_geojson = loads(point.geojson)\n",
    "    road_marks = list(road.marks.values())\n",
    "    snap_point = nearest_point_on_line(path, point_geojson)\n",
    "    \n",
    "\n",
    "    road_markers = sorted([a for a in road_marks if 'index' in a or ('index' in a and a['index'] == 0)], key=lambda x: int(x['key']))\n",
    "#     road_markers = sorted([a for a in road_marks if a['index'] or a['index'] == 0], key=lambda x: int(x['key']))\n",
    "    rm_index = findIndex(road_markers, lambda x: x['index'] > snap_point['properties']['index'])\n",
    "    \n",
    "    if (rm_index == -1):\n",
    "        rm_index = len(road_markers) - 1;\n",
    "    \n",
    "    km_marker_start = road_markers[rm_index - 1]\n",
    "    km_marker_end = road_markers[rm_index]\n",
    "    \n",
    "    if km_marker_start['index'] == road_markers[-1]['index']: \n",
    "        snap = road_markers[-1]\n",
    "        km = snap['km']\n",
    "    elif km_marker_end['index'] == road_markers[0]['index']:\n",
    "        snap = road_markers[0]\n",
    "        km = snap['km']\n",
    "    else:\n",
    "        test = path['coordinates'][km_marker_start['index']:km_marker_end['index'] + 1]\n",
    "        marker_path = LineString(test)\n",
    "        snap = nearest_point_on_line(marker_path, point_geojson)        \n",
    "        ls_length = length(marker_path, units=\"km\")\n",
    "        km = ((snap['properties']['location'] / ls_length)        \n",
    "            * (km_marker_end['km'] - km_marker_start['km'])\n",
    "            + km_marker_start['km'])\n",
    "    \n",
    "    return road, road.name, point, round(km, 3)"
   ]
  },
  {
   "cell_type": "code",
   "execution_count": 9,
   "metadata": {},
   "outputs": [],
   "source": [
    "from collections import defaultdict\n",
    "from django.db.models.signals import *\n",
    "\n",
    "\n",
    "class DisableSignals(object):\n",
    "    def __init__(self, disabled_signals=None):\n",
    "        self.stashed_signals = defaultdict(list)\n",
    "        self.disabled_signals = disabled_signals or [\n",
    "            pre_init, post_init,\n",
    "            pre_save, post_save,\n",
    "            pre_delete, post_delete,\n",
    "            pre_migrate, post_migrate,\n",
    "        ]\n",
    "\n",
    "    def __enter__(self):\n",
    "        for signal in self.disabled_signals:\n",
    "            self.disconnect(signal)\n",
    "\n",
    "    def __exit__(self, exc_type, exc_val, exc_tb):\n",
    "        for signal in list(self.stashed_signals):\n",
    "            self.reconnect(signal)\n",
    "\n",
    "    def disconnect(self, signal):\n",
    "        self.stashed_signals[signal] = signal.receivers\n",
    "        signal.receivers = []\n",
    "\n",
    "    def reconnect(self, signal):\n",
    "        signal.receivers = self.stashed_signals.get(signal, [])\n",
    "        del self.stashed_signals[signal]"
   ]
  },
  {
   "cell_type": "code",
   "execution_count": 10,
   "metadata": {},
   "outputs": [],
   "source": [
    "import re\n",
    "\n",
    "def convert_string(string: str) -> str:\n",
    "    if '_' in string:\n",
    "        # Convert snake_case to camelCase\n",
    "        return re.sub(r'_([a-z])', lambda x: x.group(1).upper(), string)\n",
    "    else:\n",
    "        # Convert camelCase to snake_case\n",
    "        return re.sub(r'([A-Z])', lambda x: '_' + x.group(1).lower(), string)"
   ]
  },
  {
   "cell_type": "markdown",
   "metadata": {},
   "source": [
    " Verificando se está no ambiente de produção"
   ]
  },
  {
   "cell_type": "code",
   "execution_count": 11,
   "metadata": {},
   "outputs": [
    {
     "data": {
      "text/plain": [
       "<QuerySet [<Company: 3af64f25-59e8-446b-bb1e-963549090b0d: CCR - Rio Sp>, <Company: 385c3404-2c8b-4987-8015-9b93e044aa6d: CCR - AutoBAn>, <Company: 161ab539-eea0-4c7c-8e9f-99058261f850: CCR - SPVias>, <Company: be176150-b4da-4162-9eec-67f6db3f5612: CCR - RodoAnel>]>"
      ]
     },
     "execution_count": 11,
     "metadata": {},
     "output_type": "execute_result"
    }
   ],
   "source": [
    "Company.objects.all()"
   ]
  },
  {
   "cell_type": "code",
   "execution_count": 12,
   "metadata": {},
   "outputs": [
    {
     "data": {
      "text/plain": [
       "(<Company: 3af64f25-59e8-446b-bb1e-963549090b0d: CCR - Rio Sp>,\n",
       " <User: rlcs - Kartado CS>)"
      ]
     },
     "execution_count": 12,
     "metadata": {},
     "output_type": "execute_result"
    }
   ],
   "source": [
    "company = Company.objects.get(name='CCR - Rio Sp')\n",
    "user=User.objects.get(username='rlcs')\n",
    "company,user"
   ]
  },
  {
   "cell_type": "code",
   "execution_count": 13,
   "metadata": {},
   "outputs": [
    {
     "data": {
      "text/plain": [
       "11819"
      ]
     },
     "execution_count": 13,
     "metadata": {},
     "output_type": "execute_result"
    }
   ],
   "source": [
    "reps=Reporting.objects.filter(occurrence_type__name__in=[\"Drenagem Superficial\",\"Monitoração Drenagem Superficial\"]).exclude(company=company)\n",
    "reps.count()"
   ]
  },
  {
   "cell_type": "code",
   "execution_count": 14,
   "metadata": {},
   "outputs": [
    {
     "data": {
      "text/plain": [
       "-22.669645"
      ]
     },
     "execution_count": 14,
     "metadata": {},
     "output_type": "execute_result"
    }
   ],
   "source": [
    "reps[0].form_data['latitudedecimal']"
   ]
  },
  {
   "cell_type": "code",
   "execution_count": 19,
   "metadata": {},
   "outputs": [],
   "source": [
    "occs=OccurrenceType.objects.filter(company=company)\n",
    "lista_latitude,lista_longitude=[],[]\n",
    "for a in occs:\n",
    "    for b in a.form_fields['fields']:\n",
    "        if 'latitude' in b['apiName']:\n",
    "            lista_latitude.append(convert_string(b['apiName']))\n",
    "        if 'longitude' in b['apiName']:\n",
    "            lista_longitude.append(convert_string(b['apiName']))\n"
   ]
  },
  {
   "cell_type": "code",
   "execution_count": 20,
   "metadata": {},
   "outputs": [],
   "source": [
    "lista_latitude = list(set(lista_latitude))\n",
    "lista_longitude = list(set(lista_longitude))"
   ]
  },
  {
   "cell_type": "code",
   "execution_count": 14,
   "metadata": {},
   "outputs": [],
   "source": [
    "lista_latitude=['latidudeini']\n",
    "lista_longitude=['longitudeini']"
   ]
  },
  {
   "cell_type": "code",
   "execution_count": null,
   "metadata": {},
   "outputs": [
    {
     "data": {
      "application/vnd.jupyter.widget-view+json": {
       "model_id": "fc2d45d1162145e195614283b8f0414d",
       "version_major": 2,
       "version_minor": 0
      },
      "text/plain": [
       "  0%|          | 0/51491 [00:00<?, ?it/s]"
      ]
     },
     "metadata": {},
     "output_type": "display_data"
    }
   ],
   "source": [
    "rep_edit=[]\n",
    "lat='latidudeini'\n",
    "lon='longitudeini'\n",
    "for a in tqdm(reps):\n",
    "    try:\n",
    "#         lat= next(valor for valor in lista_latitude if valor in list(a.form_data.keys()))\n",
    "        if lat is not None and '-' in str(a.form_data[lat]):\n",
    "            latitude = a.form_data[lat]\n",
    "#         lon= next(valor for valor in lista_longitude if valor in list(a.form_data.keys()))\n",
    "        if lon is not None and '-' in str(a.form_data[lon]):\n",
    "            longitude = a.form_data[lon]\n",
    "        road,_,point,km =point_to_km(float(longitude),float(latitude),a.road)\n",
    "        a.point=point\n",
    "        rep_edit.append(a)\n",
    "    except Exception as e:\n",
    "        print(e)      "
   ]
  },
  {
   "cell_type": "code",
   "execution_count": null,
   "metadata": {},
   "outputs": [],
   "source": [
    "apontamentos = bulk_update_with_history(rep_edit,Reporting, use_django_bulk=True,batch_size=1000,user=user)"
   ]
  },
  {
   "cell_type": "code",
   "execution_count": null,
   "metadata": {},
   "outputs": [],
   "source": [
    "rep_edit[0]"
   ]
  },
  {
   "cell_type": "code",
   "execution_count": null,
   "metadata": {},
   "outputs": [],
   "source": []
  },
  {
   "cell_type": "code",
   "execution_count": null,
   "metadata": {},
   "outputs": [],
   "source": []
  },
  {
   "cell_type": "code",
   "execution_count": null,
   "metadata": {},
   "outputs": [],
   "source": []
  },
  {
   "cell_type": "code",
   "execution_count": 2,
   "metadata": {},
   "outputs": [],
   "source": [
    "occ=OccurrenceType.objects.get(name='Monitoração Drenagem Superficial'\n",
    ")"
   ]
  },
  {
   "cell_type": "code",
   "execution_count": 7,
   "metadata": {},
   "outputs": [
    {
     "name": "stdout",
     "output_type": "stream",
     "text": [
      "{'name': 'DAD-02', 'value': '1'}\n",
      "{'name': 'DAD-06', 'value': '2'}\n",
      "{'name': 'DAD-10', 'value': '3'}\n",
      "{'name': 'DAD-21L', 'value': '4'}\n",
      "{'name': 'DAR-01', 'value': '5'}\n",
      "{'name': 'DAR-03', 'value': '6'}\n",
      "{'name': 'DAR-05L', 'value': '7'}\n",
      "{'name': 'DEB', 'value': '8'}\n",
      "{'name': 'DED', 'value': '9'}\n",
      "{'name': 'DRT-01L', 'value': '10'}\n",
      "{'name': 'DRZ-01L', 'value': '11'}\n",
      "{'name': 'MFC-01', 'value': '12'}\n",
      "{'name': 'MFC-02', 'value': '13'}\n",
      "{'name': 'MFC-03', 'value': '14'}\n",
      "{'name': 'MFC-04', 'value': '15'}\n",
      "{'name': 'MFC-05', 'value': '16'}\n",
      "{'name': 'MFC-06', 'value': '17'}\n",
      "{'name': 'MFC-08', 'value': '18'}\n",
      "{'name': 'SCC-01', 'value': '19'}\n",
      "{'name': 'SCC-02', 'value': '20'}\n",
      "{'name': 'SCC-03', 'value': '21'}\n",
      "{'name': 'SCC-06L', 'value': '22'}\n",
      "{'name': 'SCC-12L', 'value': '23'}\n",
      "{'name': 'SMC-01L', 'value': '24'}\n",
      "{'name': 'SRC-01L', 'value': '25'}\n",
      "{'name': 'STC-01', 'value': '26'}\n",
      "{'name': 'STC-02', 'value': '27'}\n",
      "{'name': 'STC-03', 'value': '28'}\n",
      "{'name': 'STC-04', 'value': '29'}\n",
      "{'name': 'SZC-01', 'value': '30'}\n",
      "{'name': 'SZC-02', 'value': '31'}\n",
      "{'name': 'SZC-05L', 'value': '32'}\n",
      "{'name': 'SZC-06L', 'value': '33'}\n",
      "{'name': 'SZC-07L', 'value': '34'}\n",
      "{'name': 'TSS-01', 'value': '35'}\n",
      "{'name': 'VPA-01', 'value': '36'}\n",
      "{'name': 'VPA-03', 'value': '37'}\n",
      "{'name': 'VPA-04', 'value': '38'}\n",
      "{'name': 'VPC-02', 'value': '39'}\n",
      "{'name': 'VPC-03', 'value': '40'}\n"
     ]
    }
   ],
   "source": [
    "for a in occ.form_fields['fields']:\n",
    "    if a['apiName'] == 'detalheelemento':\n",
    "        for b in a['selectOptions']['options']:\n",
    "            print(b)"
   ]
  },
  {
   "cell_type": "code",
   "execution_count": 19,
   "metadata": {},
   "outputs": [
    {
     "ename": "AttributeError",
     "evalue": "'QuerySet' object has no attribute 'history'",
     "output_type": "error",
     "traceback": [
      "\u001b[0;31m---------------------------------------------------------------------------\u001b[0m",
      "\u001b[0;31mAttributeError\u001b[0m                            Traceback (most recent call last)",
      "\u001b[0;32m/tmp/ipykernel_34326/1496841839.py\u001b[0m in \u001b[0;36m<module>\u001b[0;34m\u001b[0m\n\u001b[0;32m----> 1\u001b[0;31m \u001b[0mreps_history\u001b[0m\u001b[0;34m=\u001b[0m\u001b[0mreps\u001b[0m\u001b[0;34m.\u001b[0m\u001b[0mhistory\u001b[0m\u001b[0;34m.\u001b[0m\u001b[0mfilter\u001b[0m\u001b[0;34m(\u001b[0m\u001b[0mhistory_user\u001b[0m\u001b[0;34m=\u001b[0m\u001b[0muser\u001b[0m\u001b[0;34m)\u001b[0m\u001b[0;34m.\u001b[0m\u001b[0morder_by\u001b[0m\u001b[0;34m(\u001b[0m\u001b[0;34m'-history_date'\u001b[0m\u001b[0;34m)\u001b[0m\u001b[0;34m\u001b[0m\u001b[0;34m\u001b[0m\u001b[0m\n\u001b[0m",
      "\u001b[0;31mAttributeError\u001b[0m: 'QuerySet' object has no attribute 'history'"
     ]
    }
   ],
   "source": [
    "reps_history=reps.history.filter(history_user=user).order_by('-history_date')"
   ]
  },
  {
   "cell_type": "code",
   "execution_count": 20,
   "metadata": {},
   "outputs": [],
   "source": [
    "reps_history=Reporting.history.filter(occurrence_type__occurrence_kind=2,history_user=user,history_type='~',history_date).order_by('-history_date')"
   ]
  },
  {
   "cell_type": "code",
   "execution_count": 21,
   "metadata": {},
   "outputs": [
    {
     "data": {
      "text/plain": [
       "147999"
      ]
     },
     "execution_count": 21,
     "metadata": {},
     "output_type": "execute_result"
    }
   ],
   "source": [
    "reps_history.count()"
   ]
  },
  {
   "cell_type": "code",
   "execution_count": 24,
   "metadata": {},
   "outputs": [
    {
     "data": {
      "text/plain": [
       "{'_state': <django.db.models.base.ModelState at 0x7f551c554290>,\n",
       " 'mobile_sync_id': None,\n",
       " 'uuid': UUID('34ef1ff1-9d42-419c-9d8b-809c20824377'),\n",
       " 'number': 'CCR-Inv-2023.76429',\n",
       " 'road_name': 'BR-116 RJ',\n",
       " 'km': 215.989,\n",
       " 'end_km': 244.015,\n",
       " 'km_reference': None,\n",
       " 'project_km': 0.0,\n",
       " 'project_end_km': 0.0,\n",
       " 'point': <Point object at 0x7f551d4632e0>,\n",
       " 'direction': '0',\n",
       " 'lane': '29',\n",
       " 'track': None,\n",
       " 'branch': None,\n",
       " 'address': {},\n",
       " 'form_data': {'zone': '1',\n",
       "  'index': None,\n",
       "  'notes': '',\n",
       "  'retro': [{'area': None,\n",
       "    'type': 'Legenda: Pare',\n",
       "    'color': '2',\n",
       "    'width': None,\n",
       "    'length': None,\n",
       "    'description': 'PARE (P)'},\n",
       "   {'area': None,\n",
       "    'type': 'Legenda: Pare',\n",
       "    'color': '2',\n",
       "    'width': None,\n",
       "    'length': None,\n",
       "    'description': 'PARE (A)'},\n",
       "   {'area': None,\n",
       "    'type': 'Legenda: Pare',\n",
       "    'color': '2',\n",
       "    'width': None,\n",
       "    'length': None,\n",
       "    'description': 'PARE (R)'},\n",
       "   {'area': None,\n",
       "    'type': 'Legenda: Pare',\n",
       "    'color': '2',\n",
       "    'width': None,\n",
       "    'length': None,\n",
       "    'description': 'PARE (E)'}],\n",
       "  'latitude': 611933.66,\n",
       "  'longitude': 7497025.43,\n",
       "  'id_ccr_antt': 'MV 116 RJ 244+015 N 2',\n",
       "  'localization': 'Expressa',\n",
       "  'latitudedecimal': '-22.624421',\n",
       "  'longitudedecimal': '-43.917358'},\n",
       " 'form_metadata': {'id_ccr_antt': {'manually_specified': True}},\n",
       " 'executed_at': datetime.datetime(2022, 10, 21, 3, 0, tzinfo=<UTC>),\n",
       " 'created_at': datetime.datetime(2023, 10, 17, 14, 19, 25, 930574, tzinfo=<UTC>),\n",
       " 'updated_at': datetime.datetime(2023, 10, 30, 13, 26, 26, 843862, tzinfo=<UTC>),\n",
       " 'found_at': datetime.datetime(2022, 10, 21, 3, 0, tzinfo=<UTC>),\n",
       " 'due_at': None,\n",
       " 'due_at_manually_specified': False,\n",
       " 'end_km_manually_specified': False,\n",
       " 'project_end_km_manually_specified': False,\n",
       " 'editable': True,\n",
       " 'keywords': 'Expressa MV 116 RJ 244+015 N 2 None Legenda: Pare Branco PARE (P) PARE (A) PARE (R) PARE (E)  611933.66 7497025.43 23K -22.624421 -43.917358',\n",
       " 'lot': '1',\n",
       " 'technical_opinion': None,\n",
       " 'history_change_reason': '',\n",
       " 'company_id': UUID('3af64f25-59e8-446b-bb1e-963549090b0d'),\n",
       " 'road_id': 2037,\n",
       " 'created_by_id': UUID('508a66f3-3f58-4c4e-bc9a-fbba6078c02d'),\n",
       " 'firm_id': UUID('8e3f277d-cd02-444f-a49b-c8d724f92c9d'),\n",
       " 'occurrence_type_id': UUID('29c1bb9b-16b0-4e7d-9b78-2221447b3d6b'),\n",
       " 'status_id': None,\n",
       " 'job_id': None,\n",
       " 'parent_id': None,\n",
       " 'active_inspection_id': None,\n",
       " 'approval_step_id': None,\n",
       " 'construction_id': None,\n",
       " 'pdf_import_id': None,\n",
       " 'history_id': UUID('094ec2d7-05c2-4379-914d-dda1c3613111'),\n",
       " 'history_date': datetime.datetime(2023, 11, 16, 0, 54, 41, 60239, tzinfo=<UTC>),\n",
       " 'history_type': '~',\n",
       " 'history_relation_id': UUID('094ec2d7-05c2-4379-914d-dda1c3613111'),\n",
       " 'history_user_id': UUID('508a66f3-3f58-4c4e-bc9a-fbba6078c02d')}"
      ]
     },
     "execution_count": 24,
     "metadata": {},
     "output_type": "execute_result"
    }
   ],
   "source": [
    "reps_history[0].__dict__"
   ]
  },
  {
   "cell_type": "code",
   "execution_count": null,
   "metadata": {},
   "outputs": [],
   "source": []
  }
 ],
 "metadata": {
  "kernelspec": {
   "display_name": "Django Shell-Plus",
   "language": "python",
   "name": "django_extensions"
  },
  "language_info": {
   "codemirror_mode": {
    "name": "ipython",
    "version": 3
   },
   "file_extension": ".py",
   "mimetype": "text/x-python",
   "name": "python",
   "nbconvert_exporter": "python",
   "pygments_lexer": "ipython3",
   "version": "3.7.9"
  }
 },
 "nbformat": 4,
 "nbformat_minor": 2
}
