{
 "cells": [
  {
   "cell_type": "markdown",
   "id": "506381e7",
   "metadata": {},
   "source": [
    "CART Alteração em massa comprimento, largura e area executada"
   ]
  },
  {
   "cell_type": "code",
   "execution_count": null,
   "id": "f2cc079a",
   "metadata": {},
   "outputs": [],
   "source": []
  },
  {
   "cell_type": "code",
   "execution_count": 1,
   "id": "f97ed406",
   "metadata": {},
   "outputs": [
    {
     "data": {
      "text/plain": [
       "<Worksheet \"Planilha3\">"
      ]
     },
     "execution_count": 1,
     "metadata": {},
     "output_type": "execute_result"
    }
   ],
   "source": [
    "from openpyxl import load_workbook\n",
    "filename = \"ALTERACOES OCORRENCIAS(1).xlsm\"\n",
    "wb = load_workbook(filename)\n",
    "ws = wb[wb.sheetnames[0]]\n",
    "ws"
   ]
  },
  {
   "cell_type": "code",
   "execution_count": 4,
   "id": "5d9cbe22",
   "metadata": {},
   "outputs": [
    {
     "data": {
      "text/plain": [
       "{'DADOS  DIÁRIO DE OBRA': 'Serial RDO',\n",
       " None: 'Impacto',\n",
       " 'DADOS OCORRÊNCIAS': 'Origem'}"
      ]
     },
     "execution_count": 4,
     "metadata": {},
     "output_type": "execute_result"
    }
   ],
   "source": [
    "header = []\n",
    "values = []\n",
    "\n",
    "for index, row in enumerate(ws.rows):\n",
    "    if index == 0:\n",
    "        header = list([a.value for a in row])\n",
    "        continue\n",
    "    obj = {}\n",
    "    for col_index, cell in enumerate(row):\n",
    "        value = cell.value\n",
    "        obj[header[col_index]] = value\n",
    "    values.append(obj)\n",
    "values[0]"
   ]
  },
  {
   "cell_type": "code",
   "execution_count": 32,
   "id": "1c46973c",
   "metadata": {},
   "outputs": [
    {
     "data": {
      "application/vnd.jupyter.widget-view+json": {
       "model_id": "cb7eee99a6c74e24b7ed5bdfe9a91758",
       "version_major": 2,
       "version_minor": 0
      },
      "text/plain": [
       "  0%|          | 0/382 [00:00<?, ?it/s]"
      ]
     },
     "metadata": {},
     "output_type": "display_data"
    },
    {
     "name": "stdout",
     "output_type": "stream",
     "text": [
      "Searching KM on direction...\n",
      "Found KM on Road 869: SP-327\n",
      "Searching KM on direction...\n",
      "Found KM on Road 838: SP-327\n",
      "Searching KM on direction...\n",
      "Found KM on Road 838: SP-327\n",
      "Searching KM on direction...\n",
      "Found KM on Road 816: SPA 424/270\n",
      "Searching KM on direction...\n",
      "Found KM on Road 816: SPA 424/270\n",
      "Searching KM on direction...\n",
      "Searching KM without direction...\n",
      "Found KM on Road 816: SPA 424/270\n",
      "Searching KM on direction...\n",
      "Searching KM without direction...\n",
      "Found KM on Road 816: SPA 424/270\n",
      "Searching KM on direction...\n",
      "Found KM on Road 838: SP-327\n",
      "Searching KM on direction...\n",
      "Found KM on Road 838: SP-327\n",
      "Searching KM on direction...\n",
      "Searching KM without direction...\n",
      "Found KM on Road 816: SPA 424/270\n",
      "Searching KM on direction...\n",
      "Found KM on Road 869: SP-327\n",
      "Searching KM on direction...\n",
      "Found KM on Road 869: SP-327\n",
      "Searching KM on direction...\n",
      "Found KM on Road 869: SP-327\n",
      "Searching KM on direction...\n",
      "Found KM on Road 838: SP-327\n",
      "Searching KM on direction...\n",
      "Found KM on Road 838: SP-327\n",
      "Searching KM on direction...\n",
      "Found KM on Road 838: SP-327\n",
      "Searching KM on direction...\n",
      "Found KM on Road 838: SP-327\n",
      "Searching KM on direction...\n",
      "Found KM on Road 817: SP-225\n",
      "Searching KM on direction...\n",
      "Found KM on Road 817: SP-225\n",
      "Searching KM on direction...\n",
      "Found KM on Road 817: SP-225\n",
      "Searching KM on direction...\n",
      "Found KM on Road 817: SP-225\n",
      "Searching KM on direction...\n",
      "Found KM on Road 847: SP-225\n",
      "Searching KM on direction...\n",
      "Found KM on Road 847: SP-225\n",
      "Searching KM on direction...\n",
      "Found KM on Road 847: SP-225\n",
      "Searching KM on direction...\n",
      "Found KM on Road 847: SP-225\n",
      "Searching KM on direction...\n",
      "Found KM on Road 847: SP-225\n",
      "Searching KM on direction...\n",
      "Found KM on Road 847: SP-225\n",
      "Searching KM on direction...\n",
      "Found KM on Road 847: SP-225\n",
      "Searching KM on direction...\n",
      "Found KM on Road 847: SP-225\n",
      "Searching KM on direction...\n",
      "Found KM on Road 847: SP-225\n",
      "Searching KM on direction...\n",
      "Found KM on Road 847: SP-225\n",
      "Searching KM on direction...\n",
      "Found KM on Road 847: SP-225\n",
      "Searching KM on direction...\n",
      "Found KM on Road 847: SP-225\n",
      "Searching KM on direction...\n",
      "Found KM on Road 847: SP-225\n",
      "Searching KM on direction...\n",
      "Found KM on Road 847: SP-225\n",
      "Searching KM on direction...\n",
      "Found KM on Road 817: SP-225\n",
      "Searching KM on direction...\n",
      "Found KM on Road 817: SP-225\n",
      "Searching KM on direction...\n",
      "Found KM on Road 817: SP-225\n",
      "Searching KM on direction...\n",
      "Found KM on Road 817: SP-225\n",
      "Searching KM on direction...\n",
      "Found KM on Road 817: SP-225\n",
      "Searching KM on direction...\n",
      "Found KM on Road 847: SP-225\n",
      "Searching KM on direction...\n",
      "Found KM on Road 847: SP-225\n",
      "Searching KM on direction...\n",
      "Found KM on Road 867: SP-270\n",
      "Searching KM on direction...\n",
      "Found KM on Road 865: SP-270\n",
      "Searching KM on direction...\n",
      "Found KM on Road 865: SP-270\n",
      "Searching KM on direction...\n",
      "Found KM on Road 865: SP-270\n",
      "Searching KM on direction...\n",
      "Found KM on Road 867: SP-270\n",
      "Searching KM on direction...\n",
      "Found KM on Road 867: SP-270\n",
      "Searching KM on direction...\n",
      "Found KM on Road 867: SP-270\n",
      "Searching KM on direction...\n",
      "Found KM on Road 865: SP-270\n",
      "Searching KM on direction...\n",
      "Found KM on Road 867: SP-270\n",
      "Searching KM on direction...\n",
      "Found KM on Road 867: SP-270\n",
      "Searching KM on direction...\n",
      "Found KM on Road 865: SP-270\n",
      "Searching KM on direction...\n",
      "Found KM on Road 865: SP-270\n",
      "Searching KM on direction...\n",
      "Found KM on Road 867: SP-270\n",
      "Searching KM on direction...\n",
      "Found KM on Road 865: SP-270\n",
      "Searching KM on direction...\n",
      "Found KM on Road 867: SP-270\n",
      "Searching KM on direction...\n",
      "Found KM on Road 865: SP-270\n",
      "Searching KM on direction...\n",
      "Found KM on Road 865: SP-270\n",
      "Searching KM on direction...\n",
      "Found KM on Road 867: SP-270\n",
      "Searching KM on direction...\n",
      "Found KM on Road 865: SP-270\n",
      "Searching KM on direction...\n",
      "Found KM on Road 865: SP-270\n",
      "Searching KM on direction...\n",
      "Found KM on Road 867: SP-270\n",
      "Searching KM on direction...\n",
      "Found KM on Road 867: SP-270\n",
      "Searching KM on direction...\n",
      "Found KM on Road 865: SP-270\n",
      "Searching KM on direction...\n",
      "Found KM on Road 865: SP-270\n",
      "Searching KM on direction...\n",
      "Found KM on Road 865: SP-270\n",
      "Searching KM on direction...\n",
      "Found KM on Road 867: SP-270\n",
      "Searching KM on direction...\n",
      "Found KM on Road 867: SP-270\n",
      "Searching KM on direction...\n",
      "Found KM on Road 865: SP-270\n",
      "Searching KM on direction...\n",
      "Found KM on Road 865: SP-270\n",
      "Searching KM on direction...\n",
      "Found KM on Road 865: SP-270\n",
      "Searching KM on direction...\n",
      "Found KM on Road 865: SP-270\n",
      "Searching KM on direction...\n",
      "Found KM on Road 865: SP-270\n",
      "Searching KM on direction...\n",
      "Found KM on Road 867: SP-270\n",
      "Searching KM on direction...\n",
      "Found KM on Road 867: SP-270\n",
      "Searching KM on direction...\n",
      "Found KM on Road 865: SP-270\n",
      "Searching KM on direction...\n",
      "Found KM on Road 865: SP-270\n",
      "Searching KM on direction...\n",
      "Found KM on Road 865: SP-270\n",
      "Searching KM on direction...\n",
      "Found KM on Road 867: SP-270\n",
      "Searching KM on direction...\n",
      "Found KM on Road 867: SP-270\n",
      "Searching KM on direction...\n",
      "Found KM on Road 867: SP-270\n",
      "Searching KM on direction...\n",
      "Found KM on Road 867: SP-270\n",
      "Searching KM on direction...\n",
      "Found KM on Road 867: SP-270\n",
      "Searching KM on direction...\n",
      "Found KM on Road 865: SP-270\n",
      "Searching KM on direction...\n",
      "Found KM on Road 865: SP-270\n",
      "Searching KM on direction...\n",
      "Found KM on Road 867: SP-270\n",
      "Searching KM on direction...\n",
      "Found KM on Road 867: SP-270\n",
      "Searching KM on direction...\n",
      "Found KM on Road 867: SP-270\n",
      "Searching KM on direction...\n",
      "Found KM on Road 867: SP-270\n",
      "Searching KM on direction...\n",
      "Found KM on Road 865: SP-270\n",
      "Searching KM on direction...\n",
      "Found KM on Road 865: SP-270\n",
      "Searching KM on direction...\n",
      "Found KM on Road 867: SP-270\n",
      "Searching KM on direction...\n",
      "Found KM on Road 867: SP-270\n",
      "Searching KM on direction...\n",
      "Found KM on Road 867: SP-270\n",
      "Searching KM on direction...\n",
      "Found KM on Road 867: SP-270\n",
      "Searching KM on direction...\n",
      "Found KM on Road 865: SP-270\n",
      "Searching KM on direction...\n",
      "Found KM on Road 867: SP-270\n",
      "Searching KM on direction...\n",
      "Found KM on Road 867: SP-270\n",
      "Searching KM on direction...\n",
      "Found KM on Road 867: SP-270\n",
      "Searching KM on direction...\n",
      "Found KM on Road 867: SP-270\n",
      "Searching KM on direction...\n",
      "Found KM on Road 867: SP-270\n",
      "Searching KM on direction...\n",
      "Found KM on Road 867: SP-270\n",
      "Searching KM on direction...\n",
      "Found KM on Road 867: SP-270\n",
      "Searching KM on direction...\n",
      "Found KM on Road 867: SP-270\n",
      "Searching KM on direction...\n",
      "Found KM on Road 867: SP-270\n",
      "Searching KM on direction...\n",
      "Found KM on Road 867: SP-270\n",
      "Searching KM on direction...\n",
      "Found KM on Road 867: SP-270\n",
      "Searching KM on direction...\n",
      "Found KM on Road 867: SP-270\n",
      "Searching KM on direction...\n",
      "Found KM on Road 867: SP-270\n",
      "Searching KM on direction...\n",
      "Found KM on Road 867: SP-270\n",
      "Searching KM on direction...\n",
      "Found KM on Road 867: SP-270\n",
      "Searching KM on direction...\n",
      "Found KM on Road 867: SP-270\n",
      "Searching KM on direction...\n",
      "Found KM on Road 867: SP-270\n",
      "Searching KM on direction...\n",
      "Found KM on Road 867: SP-270\n",
      "Searching KM on direction...\n",
      "Found KM on Road 867: SP-270\n",
      "Searching KM on direction...\n",
      "Found KM on Road 867: SP-270\n",
      "Searching KM on direction...\n",
      "Found KM on Road 867: SP-270\n",
      "Searching KM on direction...\n",
      "Found KM on Road 867: SP-270\n",
      "Searching KM on direction...\n",
      "Found KM on Road 867: SP-270\n",
      "Searching KM on direction...\n",
      "Found KM on Road 867: SP-270\n",
      "Searching KM on direction...\n",
      "Found KM on Road 867: SP-270\n",
      "Searching KM on direction...\n",
      "Found KM on Road 867: SP-270\n",
      "Searching KM on direction...\n",
      "Found KM on Road 867: SP-270\n",
      "Searching KM on direction...\n",
      "Found KM on Road 867: SP-270\n",
      "Searching KM on direction...\n",
      "Found KM on Road 867: SP-270\n",
      "Searching KM on direction...\n",
      "Found KM on Road 867: SP-270\n",
      "Searching KM on direction...\n",
      "Found KM on Road 867: SP-270\n",
      "Searching KM on direction...\n",
      "Found KM on Road 867: SP-270\n",
      "Searching KM on direction...\n",
      "Found KM on Road 865: SP-270\n",
      "Searching KM on direction...\n",
      "Found KM on Road 865: SP-270\n",
      "Searching KM on direction...\n",
      "Found KM on Road 865: SP-270\n",
      "Searching KM on direction...\n",
      "Found KM on Road 867: SP-270\n",
      "Searching KM on direction...\n",
      "Found KM on Road 867: SP-270\n",
      "Searching KM on direction...\n",
      "Found KM on Road 867: SP-270\n",
      "Searching KM on direction...\n",
      "Found KM on Road 867: SP-270\n",
      "Searching KM on direction...\n",
      "Found KM on Road 867: SP-270\n",
      "Searching KM on direction...\n",
      "Found KM on Road 867: SP-270\n",
      "Searching KM on direction...\n",
      "Found KM on Road 867: SP-270\n",
      "Searching KM on direction...\n",
      "Found KM on Road 867: SP-270\n",
      "Searching KM on direction...\n",
      "Found KM on Road 867: SP-270\n",
      "Searching KM on direction...\n",
      "Found KM on Road 865: SP-270\n",
      "Searching KM on direction...\n",
      "Found KM on Road 865: SP-270\n",
      "Searching KM on direction...\n",
      "Found KM on Road 865: SP-270\n",
      "Searching KM on direction...\n",
      "Found KM on Road 865: SP-270\n",
      "Searching KM on direction...\n",
      "Found KM on Road 867: SP-270\n",
      "Searching KM on direction...\n",
      "Found KM on Road 867: SP-270\n",
      "Searching KM on direction...\n",
      "Found KM on Road 865: SP-270\n",
      "Searching KM on direction...\n",
      "Found KM on Road 865: SP-270\n",
      "Searching KM on direction...\n",
      "Found KM on Road 865: SP-270\n",
      "Searching KM on direction...\n",
      "Found KM on Road 865: SP-270\n",
      "Searching KM on direction...\n",
      "Found KM on Road 865: SP-270\n",
      "Searching KM on direction...\n",
      "Found KM on Road 865: SP-270\n",
      "Searching KM on direction...\n",
      "Found KM on Road 867: SP-270\n",
      "Searching KM on direction...\n",
      "Found KM on Road 865: SP-270\n",
      "Searching KM on direction...\n",
      "Found KM on Road 865: SP-270\n",
      "Searching KM on direction...\n",
      "Found KM on Road 865: SP-270\n",
      "Searching KM on direction...\n",
      "Found KM on Road 867: SP-270\n",
      "Searching KM on direction...\n",
      "Found KM on Road 867: SP-270\n",
      "Searching KM on direction...\n",
      "Found KM on Road 867: SP-270\n",
      "Searching KM on direction...\n",
      "Found KM on Road 867: SP-270\n",
      "Searching KM on direction...\n",
      "Found KM on Road 867: SP-270\n",
      "Searching KM on direction...\n",
      "Found KM on Road 867: SP-270\n",
      "Searching KM on direction...\n",
      "Found KM on Road 865: SP-270\n",
      "Searching KM on direction...\n",
      "Found KM on Road 865: SP-270\n",
      "Searching KM on direction...\n",
      "Found KM on Road 865: SP-270\n",
      "Searching KM on direction...\n",
      "Found KM on Road 865: SP-270\n",
      "Searching KM on direction...\n",
      "Found KM on Road 867: SP-270\n",
      "Searching KM on direction...\n",
      "Found KM on Road 867: SP-270\n",
      "Searching KM on direction...\n",
      "Found KM on Road 865: SP-270\n",
      "Searching KM on direction...\n",
      "Found KM on Road 865: SP-270\n",
      "Searching KM on direction...\n",
      "Found KM on Road 851: SCD 005\n",
      "Searching KM on direction...\n",
      "Found KM on Road 961: SPA 471/270\n",
      "Searching KM on direction...\n",
      "Found KM on Road 821: SPA 586/270\n",
      "Searching KM on direction...\n",
      "Found KM on Road 856: MPR 311\n",
      "Searching KM on direction...\n",
      "Found KM on Road 860: OUR 118\n",
      "Searching KM on direction...\n",
      "Searching KM without direction...\n",
      "Found KM on Road 962: SPA 576/270\n",
      "Searching KM on direction...\n",
      "Searching KM without direction...\n",
      "Found KM on Road 824: SPA 597/270\n",
      "Searching KM on direction...\n",
      "Searching KM without direction...\n",
      "Found KM on Road 824: SPA 597/270\n",
      "Searching KM on direction...\n",
      "Found KM on Road 962: SPA 576/270\n",
      "Searching KM on direction...\n",
      "Searching KM without direction...\n",
      "Found KM on Road 851: SCD 005\n",
      "Searching KM on direction...\n",
      "Searching KM without direction...\n",
      "Found KM on Road 821: SPA 586/270\n",
      "Searching KM on direction...\n",
      "Searching KM without direction...\n",
      "Found KM on Road 856: MPR 311\n",
      "Searching KM on direction...\n",
      "Searching KM without direction...\n",
      "Found KM on Road 870: SAS 393\n",
      "Searching KM on direction...\n",
      "Searching KM without direction...\n",
      "Found KM on Road 828: CNP 050\n",
      "Searching KM on direction...\n",
      "Found KM on Road 860: OUR 118\n",
      "Searching KM on direction...\n",
      "Found KM on Road 856: MPR 311\n",
      "Searching KM on direction...\n",
      "Found KM on Road 831: AVM 030\n",
      "Searching KM on direction...\n",
      "Searching KM without direction...\n",
      "Found KM on Road 991: SAS 055\n",
      "Searching KM on direction...\n",
      "Searching KM without direction...\n",
      "Found KM on Road 830: PSB 040\n",
      "Searching KM on direction...\n",
      "Searching KM without direction...\n",
      "Found KM on Road 856: MPR 311\n",
      "Searching KM on direction...\n",
      "Searching KM without direction...\n",
      "Found KM on Road 870: SAS 393\n",
      "Searching KM on direction...\n",
      "Found KM on Road 823: SPA 553/270\n",
      "Searching KM on direction...\n",
      "Found KM on Road 856: MPR 311\n",
      "Searching KM on direction...\n",
      "Searching KM without direction...\n",
      "Found KM on Road 828: CNP 050\n",
      "Searching KM on direction...\n",
      "Searching KM without direction...\n",
      "Found KM on Road 846: RBS 060\n",
      "Searching KM on direction...\n",
      "Searching KM without direction...\n",
      "Found KM on Road 855: PSP 397\n",
      "Searching KM on direction...\n",
      "Searching KM without direction...\n",
      "Found KM on Road 833: MBP 322\n",
      "Searching KM on direction...\n",
      "Searching KM without direction...\n",
      "Found KM on Road 855: PSP 397\n",
      "Searching KM on direction...\n",
      "Searching KM without direction...\n",
      "Found KM on Road 856: MPR 311\n",
      "Searching KM on direction...\n",
      "Searching KM without direction...\n",
      "Found KM on Road 828: CNP 050\n",
      "Searching KM on direction...\n",
      "Found KM on Road 841: AVM 075\n",
      "Searching KM on direction...\n",
      "Found KM on Road 846: RBS 060\n",
      "Searching KM on direction...\n",
      "Searching KM without direction...\n",
      "Found KM on Road 821: SPA 586/270\n",
      "Searching KM on direction...\n",
      "Searching KM without direction...\n",
      "Found KM on Road 821: SPA 586/270\n",
      "Searching KM on direction...\n",
      "Searching KM without direction...\n",
      "Found KM on Road 841: AVM 075\n",
      "Searching KM on direction...\n",
      "Searching KM without direction...\n",
      "Found KM on Road 856: MPR 311\n",
      "Searching KM on direction...\n",
      "Searching KM without direction...\n",
      "Found KM on Road 846: RBS 060\n",
      "Searching KM on direction...\n",
      "Searching KM without direction...\n",
      "Found KM on Road 833: MBP 322\n",
      "Searching KM on direction...\n",
      "Searching KM without direction...\n",
      "Found KM on Road 855: PSP 397\n",
      "Searching KM on direction...\n",
      "Found KM on Road 846: RBS 060\n",
      "Searching KM on direction...\n",
      "Searching KM without direction...\n",
      "Found KM on Road 846: RBS 060\n",
      "Searching KM on direction...\n",
      "Searching KM without direction...\n",
      "Found KM on Road 855: PSP 397\n",
      "Searching KM on direction...\n",
      "Found KM on Road 860: OUR 118\n",
      "Searching KM on direction...\n",
      "Found KM on Road 853: SGR 139\n",
      "Searching KM on direction...\n",
      "Searching KM without direction...\n",
      "Found KM on Road 828: CNP 050\n",
      "Searching KM on direction...\n",
      "Searching KM without direction...\n",
      "Found KM on Road 853: SGR 139\n",
      "Searching KM on direction...\n",
      "Searching KM without direction...\n",
      "Found KM on Road 870: SAS 393\n",
      "Searching KM on direction...\n",
      "Searching KM without direction...\n",
      "Found KM on Road 860: OUR 118\n",
      "Searching KM on direction...\n",
      "Found KM on Road 860: OUR 118\n",
      "Searching KM on direction...\n",
      "Found KM on Road 856: MPR 311\n",
      "Searching KM on direction...\n",
      "Found KM on Road 870: SAS 393\n",
      "Searching KM on direction...\n",
      "Searching KM without direction...\n",
      "Found KM on Road 845: SCD 328\n",
      "Searching KM on direction...\n",
      "Searching KM without direction...\n",
      "Found KM on Road 860: OUR 118\n",
      "Searching KM on direction...\n",
      "Searching KM without direction...\n",
      "Found KM on Road 870: SAS 393\n",
      "Searching KM on direction...\n",
      "Searching KM without direction...\n",
      "Found KM on Road 860: OUR 118\n",
      "Searching KM on direction...\n",
      "Searching KM without direction...\n",
      "Found KM on Road 856: MPR 311\n",
      "Searching KM on direction...\n",
      "Found KM on Road 870: SAS 393\n",
      "Searching KM on direction...\n",
      "Found KM on Road 837: IBM 122\n",
      "Searching KM on direction...\n",
      "Searching KM without direction...\n",
      "Found KM on Road 863: PGP 265\n",
      "Searching KM on direction...\n",
      "Searching KM without direction...\n",
      "Found KM on Road 860: OUR 118\n",
      "Searching KM on direction...\n",
      "Searching KM without direction...\n",
      "Found KM on Road 860: OUR 118\n",
      "Searching KM on direction...\n",
      "Searching KM without direction...\n",
      "Found KM on Road 856: MPR 311\n",
      "Searching KM on direction...\n",
      "Searching KM without direction...\n",
      "Found KM on Road 830: PSB 040\n",
      "Searching KM on direction...\n",
      "Searching KM without direction...\n",
      "Found KM on Road 856: MPR 311\n",
      "Searching KM on direction...\n",
      "Found KM on Road 870: SAS 393\n",
      "Searching KM on direction...\n",
      "Searching KM without direction...\n",
      "Found KM on Road 856: MPR 311\n",
      "Searching KM on direction...\n",
      "Searching KM without direction...\n",
      "Found KM on Road 870: SAS 393\n",
      "Searching KM on direction...\n",
      "Found KM on Road 870: SAS 393\n",
      "Searching KM on direction...\n",
      "Found KM on Road 856: MPR 311\n",
      "Searching KM on direction...\n",
      "Searching KM without direction...\n",
      "Found KM on Road 816: SPA 424/270\n",
      "Searching KM on direction...\n",
      "Searching KM without direction...\n",
      "Found KM on Road 870: SAS 393\n",
      "Searching KM on direction...\n",
      "Searching KM without direction...\n",
      "Found KM on Road 856: MPR 311\n",
      "Searching KM on direction...\n",
      "Searching KM without direction...\n",
      "Found KM on Road 831: AVM 030\n",
      "Searching KM on direction...\n",
      "Found KM on Road 854: PSE 174\n",
      "Searching KM on direction...\n",
      "Searching KM without direction...\n",
      "Found KM on Road 835: PTN 075\n",
      "Searching KM on direction...\n",
      "Found KM on Road 832: MBP 173\n",
      "Searching KM on direction...\n",
      "Searching KM without direction...\n",
      "Searching KM on direction...\n",
      "Searching KM without direction...\n",
      "Found KM on Road 832: MBP 173\n",
      "Searching KM on direction...\n",
      "Found KM on Road 830: PSB 040\n",
      "Searching KM on direction...\n",
      "Found KM on Road 832: MBP 173\n",
      "Searching KM on direction...\n",
      "Searching KM without direction...\n",
      "Found KM on Road 832: MBP 173\n",
      "Searching KM on direction...\n",
      "Found KM on Road 870: SAS 393\n",
      "Searching KM on direction...\n",
      "Searching KM without direction...\n",
      "Found KM on Road 870: SAS 393\n",
      "Searching KM on direction...\n",
      "Found KM on Road 870: SAS 393\n",
      "Searching KM on direction...\n",
      "Searching KM without direction...\n",
      "Found KM on Road 830: PSB 040\n",
      "Searching KM on direction...\n",
      "Searching KM without direction...\n",
      "Found KM on Road 870: SAS 393\n",
      "Searching KM on direction...\n",
      "Found KM on Road 870: SAS 393\n",
      "Searching KM on direction...\n",
      "Searching KM without direction...\n",
      "Found KM on Road 870: SAS 393\n",
      "Searching KM on direction...\n",
      "Searching KM without direction...\n",
      "Found KM on Road 870: SAS 393\n",
      "Searching KM on direction...\n",
      "Found KM on Road 870: SAS 393\n",
      "Searching KM on direction...\n",
      "Found KM on Road 854: PSE 174\n",
      "Searching KM on direction...\n",
      "Found KM on Road 870: SAS 393\n",
      "Searching KM on direction...\n",
      "Searching KM without direction...\n",
      "Found KM on Road 870: SAS 393\n",
      "Searching KM on direction...\n",
      "Searching KM without direction...\n",
      "Found KM on Road 854: PSE 174\n",
      "Searching KM on direction...\n",
      "Found KM on Road 854: PSE 174\n",
      "Searching KM on direction...\n",
      "Found KM on Road 854: PSE 174\n",
      "Searching KM on direction...\n",
      "Searching KM without direction...\n",
      "Found KM on Road 854: PSE 174\n",
      "Searching KM on direction...\n",
      "Searching KM without direction...\n",
      "Found KM on Road 854: PSE 174\n",
      "Searching KM on direction...\n",
      "Found KM on Road 854: PSE 174\n",
      "Searching KM on direction...\n",
      "Searching KM without direction...\n",
      "Found KM on Road 854: PSE 174\n",
      "Searching KM on direction...\n",
      "Searching KM without direction...\n",
      "Found KM on Road 854: PSE 174\n",
      "Searching KM on direction...\n",
      "Found KM on Road 854: PSE 174\n",
      "Searching KM on direction...\n",
      "Searching KM without direction...\n",
      "Found KM on Road 854: PSE 174\n",
      "Searching KM on direction...\n",
      "Found KM on Road 854: PSE 174\n",
      "Searching KM on direction...\n",
      "Searching KM without direction...\n",
      "Found KM on Road 854: PSE 174\n",
      "Searching KM on direction...\n",
      "Found KM on Road 847: SP-225\n",
      "Searching KM on direction...\n",
      "Found KM on Road 847: SP-225\n",
      "Searching KM on direction...\n",
      "Found KM on Road 847: SP-225\n",
      "Searching KM on direction...\n",
      "Found KM on Road 867: SP-270\n",
      "Searching KM on direction...\n",
      "Found KM on Road 865: SP-270\n",
      "Searching KM on direction...\n",
      "Found KM on Road 867: SP-270\n",
      "Searching KM on direction...\n",
      "Found KM on Road 865: SP-270\n",
      "Searching KM on direction...\n",
      "Found KM on Road 865: SP-270\n",
      "Searching KM on direction...\n",
      "Found KM on Road 867: SP-270\n",
      "Searching KM on direction...\n",
      "Found KM on Road 867: SP-270\n",
      "Searching KM on direction...\n",
      "Found KM on Road 867: SP-270\n",
      "Searching KM on direction...\n",
      "Found KM on Road 867: SP-270\n",
      "Searching KM on direction...\n",
      "Found KM on Road 865: SP-270\n",
      "Searching KM on direction...\n",
      "Found KM on Road 865: SP-270\n",
      "Searching KM on direction...\n",
      "Found KM on Road 867: SP-270\n",
      "Searching KM on direction...\n",
      "Found KM on Road 867: SP-270\n",
      "Searching KM on direction...\n",
      "Found KM on Road 865: SP-270\n",
      "Searching KM on direction...\n",
      "Found KM on Road 865: SP-270\n",
      "Searching KM on direction...\n",
      "Found KM on Road 865: SP-270\n",
      "Searching KM on direction...\n",
      "Found KM on Road 867: SP-270\n",
      "Searching KM on direction...\n",
      "Found KM on Road 867: SP-270\n",
      "Searching KM on direction...\n",
      "Found KM on Road 867: SP-270\n",
      "Searching KM on direction...\n",
      "Found KM on Road 867: SP-270\n",
      "Searching KM on direction...\n",
      "Found KM on Road 867: SP-270\n",
      "Searching KM on direction...\n",
      "Found KM on Road 867: SP-270\n",
      "Searching KM on direction...\n",
      "Found KM on Road 867: SP-270\n",
      "Searching KM on direction...\n",
      "Found KM on Road 867: SP-270\n",
      "Searching KM on direction...\n",
      "Found KM on Road 867: SP-270\n",
      "Searching KM on direction...\n",
      "Found KM on Road 867: SP-270\n",
      "Searching KM on direction...\n",
      "Found KM on Road 867: SP-270\n",
      "Searching KM on direction...\n",
      "Found KM on Road 867: SP-270\n",
      "Searching KM on direction...\n",
      "Found KM on Road 865: SP-270\n",
      "Searching KM on direction...\n",
      "Found KM on Road 865: SP-270\n",
      "Searching KM on direction...\n",
      "Found KM on Road 865: SP-270\n",
      "Searching KM on direction...\n",
      "Found KM on Road 865: SP-270\n",
      "Searching KM on direction...\n",
      "Found KM on Road 865: SP-270\n",
      "Searching KM on direction...\n",
      "Found KM on Road 865: SP-270\n",
      "Searching KM on direction...\n",
      "Found KM on Road 865: SP-270\n",
      "Searching KM on direction...\n",
      "Found KM on Road 865: SP-270\n",
      "Searching KM on direction...\n",
      "Found KM on Road 865: SP-270\n",
      "Searching KM on direction...\n",
      "Found KM on Road 865: SP-270\n",
      "Searching KM on direction...\n",
      "Found KM on Road 865: SP-270\n",
      "Searching KM on direction...\n",
      "Found KM on Road 865: SP-270\n",
      "Searching KM on direction...\n",
      "Found KM on Road 865: SP-270\n",
      "Searching KM on direction...\n",
      "Found KM on Road 867: SP-270\n",
      "Searching KM on direction...\n",
      "Found KM on Road 865: SP-270\n",
      "Searching KM on direction...\n",
      "Found KM on Road 865: SP-270\n",
      "Searching KM on direction...\n",
      "Found KM on Road 865: SP-270\n",
      "Searching KM on direction...\n",
      "Found KM on Road 865: SP-270\n",
      "Searching KM on direction...\n",
      "Found KM on Road 867: SP-270\n",
      "Searching KM on direction...\n",
      "Found KM on Road 867: SP-270\n",
      "Searching KM on direction...\n",
      "Found KM on Road 867: SP-270\n",
      "Searching KM on direction...\n",
      "Found KM on Road 867: SP-270\n",
      "Searching KM on direction...\n",
      "Found KM on Road 867: SP-270\n",
      "Searching KM on direction...\n",
      "Found KM on Road 867: SP-270\n",
      "Searching KM on direction...\n",
      "Found KM on Road 867: SP-270\n",
      "Searching KM on direction...\n",
      "Found KM on Road 865: SP-270\n",
      "Searching KM on direction...\n",
      "Found KM on Road 867: SP-270\n",
      "Searching KM on direction...\n",
      "Found KM on Road 867: SP-270\n",
      "Searching KM on direction...\n",
      "Found KM on Road 867: SP-270\n",
      "Searching KM on direction...\n",
      "Found KM on Road 867: SP-270\n",
      "Searching KM on direction...\n",
      "Found KM on Road 867: SP-270\n",
      "Searching KM on direction...\n",
      "Found KM on Road 865: SP-270\n",
      "Searching KM on direction...\n",
      "Found KM on Road 865: SP-270\n",
      "Searching KM on direction...\n",
      "Found KM on Road 865: SP-270\n",
      "Searching KM on direction...\n",
      "Found KM on Road 865: SP-270\n",
      "Searching KM on direction...\n",
      "Found KM on Road 867: SP-270\n",
      "Searching KM on direction...\n",
      "Found KM on Road 867: SP-270\n",
      "Searching KM on direction...\n",
      "Found KM on Road 865: SP-270\n",
      "Searching KM on direction...\n",
      "Found KM on Road 865: SP-270\n",
      "Searching KM on direction...\n",
      "Found KM on Road 865: SP-270\n",
      "Searching KM on direction...\n",
      "Found KM on Road 865: SP-270\n",
      "Searching KM on direction...\n",
      "Found KM on Road 865: SP-270\n",
      "Searching KM on direction...\n",
      "Found KM on Road 865: SP-270\n",
      "Searching KM on direction...\n",
      "Found KM on Road 865: SP-270\n",
      "Searching KM on direction...\n",
      "Found KM on Road 865: SP-270\n",
      "Searching KM on direction...\n",
      "Found KM on Road 865: SP-270\n",
      "Searching KM on direction...\n",
      "Found KM on Road 865: SP-270\n",
      "Searching KM on direction...\n",
      "Found KM on Road 865: SP-270\n",
      "Searching KM on direction...\n",
      "Found KM on Road 865: SP-270\n",
      "Searching KM on direction...\n",
      "Found KM on Road 865: SP-270\n",
      "Searching KM on direction...\n",
      "Found KM on Road 867: SP-270\n",
      "Searching KM on direction...\n",
      "Found KM on Road 867: SP-270\n",
      "Searching KM on direction...\n",
      "Found KM on Road 865: SP-270\n",
      "Searching KM on direction...\n",
      "Found KM on Road 867: SP-270\n",
      "Searching KM on direction...\n",
      "Found KM on Road 867: SP-270\n",
      "Searching KM on direction...\n",
      "Found KM on Road 867: SP-270\n",
      "Searching KM on direction...\n",
      "Found KM on Road 867: SP-270\n",
      "Searching KM on direction...\n",
      "Found KM on Road 867: SP-270\n",
      "Searching KM on direction...\n",
      "Found KM on Road 867: SP-270\n",
      "Searching KM on direction...\n",
      "Found KM on Road 867: SP-270\n",
      "Searching KM on direction...\n",
      "Found KM on Road 865: SP-270\n",
      "Searching KM on direction...\n",
      "Found KM on Road 867: SP-270\n",
      "Searching KM on direction...\n",
      "Found KM on Road 865: SP-270\n",
      "Searching KM on direction...\n",
      "Found KM on Road 867: SP-270\n",
      "Searching KM on direction...\n",
      "Found KM on Road 867: SP-270\n",
      "Searching KM on direction...\n",
      "Found KM on Road 867: SP-270\n",
      "Searching KM on direction...\n",
      "Found KM on Road 865: SP-270\n",
      "Searching KM on direction...\n",
      "Found KM on Road 865: SP-270\n",
      "Searching KM on direction...\n",
      "Found KM on Road 867: SP-270\n",
      "Searching KM on direction...\n",
      "Found KM on Road 867: SP-270\n",
      "Searching KM on direction...\n",
      "Found KM on Road 867: SP-270\n",
      "Searching KM on direction...\n",
      "Found KM on Road 867: SP-270\n",
      "Searching KM on direction...\n",
      "Found KM on Road 867: SP-270\n",
      "Searching KM on direction...\n",
      "Found KM on Road 867: SP-270\n",
      "Searching KM on direction...\n",
      "Found KM on Road 867: SP-270\n"
     ]
    }
   ],
   "source": [
    "from tqdm.notebook import tqdm\n",
    "from datetime import datetime\n",
    "\n",
    "rep_edit = []\n",
    "company = Company.objects.get(name='CART')\n",
    "\n",
    "try:\n",
    "    for index, a in enumerate(tqdm(values)):\n",
    "    \n",
    "        if str(a['Serial'])[-4:] == '2021':\n",
    "            number = int(str(a['Serial'])[:-4])\n",
    "            number = '{:05}'.format(number) + '.2021'    \n",
    "        elif str(a['Serial RDO'])[-4:] == '2022':\n",
    "            number = int(str(a['Serial RDO'])[:-4])\n",
    "            number = '{:05}'.format(number) + '.2022'\n",
    "        if str(a['Serial'])[-4:] == '2023':\n",
    "            numero_str = str(a['Serial']).rstrip('.')[:-4]\n",
    "            numero = int(numero_str)\n",
    "            numero = '{:05}'.format(numero) + '.2023'\n",
    "        elif str(a['Serial'])[-4:] == '2024':\n",
    "            numero_str = str(a['Serial']).replace('.', '')\n",
    "            numero = int(numero_str)\n",
    "            numero = '{:05}'.format(numero) + '.2024'\n",
    "        else:\n",
    "            numero = a['Serial']\n",
    "\n",
    "        numero = a['Serial']\n",
    "\n",
    "        rep = Reporting.objects.get(number=numero, company=company)\n",
    "        rep.history_user = User.objects.get(username='rlcs')\n",
    "\n",
    "        if a['Cód. ARTESP'] is not None:\n",
    "            rep.form_data['artesp_code'] = a['Cód. ARTESP']\n",
    "        # if a['Descrição'] is not None:\n",
    "        #     rep.form_data['description'] = a['Descrição']\n",
    "        # if a['Peso Executado'] is not None:\n",
    "        #     rep.form_data['executed_weight'] = a['Peso Executado']\n",
    "\n",
    "        rep.save()\n",
    "        rep_edit.append(rep)\n",
    "        rep_edit[0].__dict__\n",
    "\n",
    "except Exception as e:\n",
    "    print(f\"Erro: {e}, linha da planilha: {index+2}\")\n"
   ]
  },
  {
   "cell_type": "code",
   "execution_count": null,
   "id": "87a428e7",
   "metadata": {},
   "outputs": [],
   "source": [
    "user=User.objects.get(username=\"rlcs\")\n",
    "user"
   ]
  },
  {
   "cell_type": "code",
   "execution_count": null,
   "id": "200869c2",
   "metadata": {},
   "outputs": [],
   "source": [
    "from helpers.histories import bulk_update_with_history\n",
    "apontamentos = bulk_update_with_history(rep_edit,Reporting, use_django_bulk=True,batch_size=800,user=user)"
   ]
  },
  {
   "cell_type": "code",
   "execution_count": null,
   "id": "aadc767e",
   "metadata": {},
   "outputs": [],
   "source": [
    "company=Company.objects.get(name='Arteris Via Paulista - SISOBRAS/SISQUALI')\n",
    "up=UserPermission.objects.filter(name='Suporte',companies=company)\n",
    "company,up"
   ]
  },
  {
   "cell_type": "code",
   "execution_count": null,
   "id": "a1c11172",
   "metadata": {},
   "outputs": [],
   "source": [
    "for a in up:\n",
    "    a.companies.remove(company)\n",
    "    uperm = a\n",
    "    uperm.uuid=None\n",
    "    uperm.companies.set([company])\n",
    "    uperm.save()\n",
    "    UserInCompany.objects.filter(company=company,permissions__name=a.name).update(permissions=uperm)"
   ]
  },
  {
   "cell_type": "code",
   "execution_count": null,
   "id": "46c07d21",
   "metadata": {},
   "outputs": [],
   "source": [
    "rep=Reporting.objects.get(uuid='e1817019-5ed7-41dc-99b5-270d8b31aa99')"
   ]
  },
  {
   "cell_type": "code",
   "execution_count": null,
   "id": "31434042",
   "metadata": {},
   "outputs": [],
   "source": [
    "rep.__dict__"
   ]
  },
  {
   "cell_type": "code",
   "execution_count": null,
   "id": "dff268ef",
   "metadata": {},
   "outputs": [],
   "source": [
    "reps=Reporting.objects.filter(number__in=['111211.2023','111210.2023','111368.2023'])"
   ]
  },
  {
   "cell_type": "code",
   "execution_count": null,
   "id": "7f334476",
   "metadata": {},
   "outputs": [],
   "source": [
    "for a in reps:\n",
    "    a.occurrence_type = OccurrenceType.objects.get(name='Reposição/Substituição (baixa refletância/furto/avariada) (solo/aérea)',\n",
    "                                                   company__name='CART')\n",
    "    a.save()"
   ]
  },
  {
   "cell_type": "code",
   "execution_count": null,
   "id": "61cd2f9a",
   "metadata": {},
   "outputs": [],
   "source": [
    "company=Company.objects.get(name='Eixo Sp - Pavimento')"
   ]
  },
  {
   "cell_type": "code",
   "execution_count": null,
   "id": "223f69c9",
   "metadata": {},
   "outputs": [],
   "source": [
    "reps=Reporting.objects.filter(occurrence_type__occurrence_kind__in=[5,6,8],company=company\n",
    "                             ).exclude(form_data__has_key='service')"
   ]
  },
  {
   "cell_type": "code",
   "execution_count": null,
   "id": "ceffa605",
   "metadata": {},
   "outputs": [],
   "source": [
    "reps.count()"
   ]
  },
  {
   "cell_type": "code",
   "execution_count": null,
   "id": "7ecd1ccb",
   "metadata": {},
   "outputs": [],
   "source": [
    "reps=Reporting.objects.filter(uuid='bc957403-87af-4473-8ff0-779e3df894ab')"
   ]
  },
  {
   "cell_type": "code",
   "execution_count": null,
   "id": "153b7646",
   "metadata": {},
   "outputs": [],
   "source": [
    "for a in reps:\n",
    "    a.form_data['service'] = []\n",
    "    a.save()"
   ]
  },
  {
   "cell_type": "code",
   "execution_count": null,
   "id": "6a48e5df",
   "metadata": {},
   "outputs": [],
   "source": [
    "team=Firm.objects.get(name='RMC_T3_01')"
   ]
  },
  {
   "cell_type": "code",
   "execution_count": null,
   "id": "b08fa170",
   "metadata": {},
   "outputs": [],
   "source": [
    "team"
   ]
  },
  {
   "cell_type": "code",
   "execution_count": null,
   "id": "d53fd917",
   "metadata": {},
   "outputs": [],
   "source": [
    "mdr=MultipleDailyReport.objects.get(number='CART-RDO-2023.18902')"
   ]
  },
  {
   "cell_type": "code",
   "execution_count": null,
   "id": "feac4131",
   "metadata": {},
   "outputs": [],
   "source": [
    "mdr.firm=team\n",
    "mdr.save()"
   ]
  },
  {
   "cell_type": "code",
   "execution_count": null,
   "id": "5b0c877d",
   "metadata": {},
   "outputs": [],
   "source": [
    "import pandas as pd\n",
    "import matplotlib.pyplot as plt\n",
    "import scipy.stats as stats\n",
    "import numpy as np\n",
    "import plotly.express as px\n",
    "import plotly.io as pio\n",
    "import plotly.graph_objects as go"
   ]
  },
  {
   "cell_type": "code",
   "execution_count": null,
   "id": "3b21a5ec",
   "metadata": {},
   "outputs": [],
   "source": [
    "occs = OccurrenceType.objects.all().values('name')"
   ]
  },
  {
   "cell_type": "code",
   "execution_count": null,
   "id": "14fad835",
   "metadata": {},
   "outputs": [],
   "source": [
    "occs"
   ]
  },
  {
   "cell_type": "code",
   "execution_count": null,
   "id": "b9589e4c",
   "metadata": {},
   "outputs": [],
   "source": [
    "for a in occs:\n",
    "    a['tamanho_string'] = len(a['name'])"
   ]
  },
  {
   "cell_type": "code",
   "execution_count": null,
   "id": "2e6f1d5e",
   "metadata": {},
   "outputs": [],
   "source": [
    "occs"
   ]
  },
  {
   "cell_type": "code",
   "execution_count": null,
   "id": "d3ece44d",
   "metadata": {},
   "outputs": [],
   "source": [
    "df = pd.DataFrame(data=occs)\n",
    "df"
   ]
  },
  {
   "cell_type": "code",
   "execution_count": null,
   "id": "8c22e286",
   "metadata": {},
   "outputs": [],
   "source": [
    "intervalos=[a for a in range(0,200,10)]\n",
    "intervalos"
   ]
  },
  {
   "cell_type": "code",
   "execution_count": null,
   "id": "fbdf5b17",
   "metadata": {},
   "outputs": [],
   "source": [
    "df['group'] = pd.cut(df['tamanho_string'], intervalos)\n",
    "\n",
    "# Use groupby() para agrupar os dados pela nova coluna\n",
    "grouped = df.groupby('group')\n",
    "\n",
    "# Imprima os grupos e suas contagens\n",
    "last=[]\n",
    "for name, group in grouped:\n",
    "    last.append([name,len(group)])\n",
    "    print(f'{name}: {len(group)}')"
   ]
  },
  {
   "cell_type": "code",
   "execution_count": null,
   "id": "b076ebd7",
   "metadata": {},
   "outputs": [],
   "source": [
    "df2 = pd.DataFrame(data=last,columns=['Range de Caracteres','Quantidade Classes por grupo de caracteres'])"
   ]
  },
  {
   "cell_type": "code",
   "execution_count": null,
   "id": "2f1076b7",
   "metadata": {},
   "outputs": [],
   "source": [
    "df2"
   ]
  },
  {
   "cell_type": "code",
   "execution_count": null,
   "id": "a29db4fb",
   "metadata": {},
   "outputs": [],
   "source": [
    "df2.to_excel('Quantidade Classes por grupo de caracteres.xlsx')"
   ]
  },
  {
   "cell_type": "code",
   "execution_count": null,
   "id": "7d2f7f65",
   "metadata": {},
   "outputs": [],
   "source": [
    "# Crie uma série Pandas com os dados\n",
    "s = pd.Series(df2['Quantidade Classes por grupo de caracteres'])\n",
    "\n",
    "# Crie a função de distribuição acumulada empírica\n",
    "ecdf = s.value_counts(normalize=True).sort_index().cumsum()\n",
    "\n",
    "# Crie o gráfico de distribuição acumulada interativo\n",
    "fig = px.line(x=ecdf.index, y=ecdf.values)\n",
    "\n",
    "# Defina o título do gráfico e dos eixos x e y\n",
    "fig.update_layout(title='Distribuição Acumulada', xaxis_title='Quantidade por grupo de caracteres', yaxis_title='Distribuição Acumulativa')\n",
    "\n",
    "# Defina o intervalo entre os marcadores do eixo x como 10\n",
    "fig.update_xaxes(dtick=500)\n",
    "\n",
    "# Transforme o eixo y em porcentagem\n",
    "fig.update_yaxes(tickformat='.0%')\n",
    "\n",
    "# fig.add_trace(\n",
    "#     go.Scatter(\n",
    "#         mode='markers+text',\n",
    "#         x=[50,100,200],\n",
    "#         y=[0.93,0.96,0.99],\n",
    "#         text=['50-93%','100-96%','200-99%'],\n",
    "#         textposition=\"bottom center\",\n",
    "#         marker=dict(\n",
    "#             color='red',\n",
    "#             size=5\n",
    "#         ),\n",
    "#         showlegend=False\n",
    "#     )\n",
    "# )\n",
    "\n",
    "# Exiba o gráfico\n",
    "fig.show()"
   ]
  },
  {
   "cell_type": "code",
   "execution_count": null,
   "id": "a0b58c8c",
   "metadata": {},
   "outputs": [],
   "source": [
    "mdr=MultipleDailyReport.objects.get(uuid='09d4c37f-66f1-4e0a-88aa-482b21d1d471')"
   ]
  },
  {
   "cell_type": "code",
   "execution_count": null,
   "id": "2c3ff28b",
   "metadata": {},
   "outputs": [],
   "source": [
    "mdr.multiple_daily_report_occurrences.all()[0].__dict__\n",
    "\n"
   ]
  },
  {
   "cell_type": "markdown",
   "id": "782bac58",
   "metadata": {},
   "source": [
    "# Alterações de campos em massa"
   ]
  },
  {
   "cell_type": "code",
   "execution_count": 1,
   "id": "ecc3a808",
   "metadata": {},
   "outputs": [],
   "source": [
    "from helpers.histories import bulk_update_with_history\n",
    "from django.db.models import Q"
   ]
  },
  {
   "cell_type": "code",
   "execution_count": 2,
   "id": "787371b9",
   "metadata": {},
   "outputs": [],
   "source": [
    "company=Company.objects.get(name=\"CART\")"
   ]
  },
  {
   "cell_type": "code",
   "execution_count": 28,
   "id": "b61b4642",
   "metadata": {},
   "outputs": [
    {
     "name": "stdout",
     "output_type": "stream",
     "text": [
      "906\n"
     ]
    }
   ],
   "source": [
    "reports = Reporting.objects.filter(Q(form_data__has_key=\"lenght\")| Q(form_data__has_key=\"width\"),company=company, occurrence_type_id__in=[\n",
    "    '6e69ba68-22cc-4966-a7ff-6a5ce8532374',\n",
    "    '03c498e9-e1cf-4afd-9e4b-7112a4f2ae87',\n",
    "    '45b5da54-84e8-4f5d-957b-e7809d5b9b8c',\n",
    "    '9749758a-53bd-444c-a22d-9d7108a235d7'\n",
    "])\n",
    "\n",
    "count = reports.count()\n",
    "print(count)\n"
   ]
  },
  {
   "cell_type": "code",
   "execution_count": 21,
   "id": "6004b559",
   "metadata": {
    "collapsed": true
   },
   "outputs": [
    {
     "data": {
      "text/plain": [
       "{'_state': <django.db.models.base.ModelState at 0x7fcd9fd3bc10>,\n",
       " 'uuid': UUID('8029f515-4f82-4a47-894e-e7514a04dca0'),\n",
       " 'number': '05780.2024',\n",
       " 'company_id': UUID('96e24ad5-3b23-461f-9300-85c542576894'),\n",
       " 'road_name': 'SP-270',\n",
       " 'road_id': 867,\n",
       " 'km': 417.3526,\n",
       " 'end_km': 417.3526,\n",
       " 'km_reference': None,\n",
       " 'project_km': 0.0,\n",
       " 'project_end_km': 0.1,\n",
       " 'point': <Point object at 0x7fcda19065b0>,\n",
       " 'direction': '3',\n",
       " 'lane': '33',\n",
       " 'track': None,\n",
       " 'branch': None,\n",
       " 'address': {},\n",
       " 'created_by_id': UUID('a539a689-62ea-4280-928d-d0c08c4cb0b5'),\n",
       " 'firm_id': UUID('2cb6ddc9-a591-4450-9834-2c0d9927bd47'),\n",
       " 'occurrence_type_id': UUID('03c498e9-e1cf-4afd-9e4b-7112a4f2ae87'),\n",
       " 'form_data': {'width': 1,\n",
       "  'height': 1,\n",
       "  'length': 100,\n",
       "  'criticality': '2',\n",
       "  'number_of_persons': '1',\n",
       "  'final_time_activity': '2024-01-15T20:28:00.000Z',\n",
       "  'initial_time_activity': '2024-01-15T12:00:00.000Z'},\n",
       " 'form_metadata': {},\n",
       " 'executed_at': datetime.datetime(2024, 1, 15, 11, 59, tzinfo=<UTC>),\n",
       " 'created_at': datetime.datetime(2024, 1, 15, 20, 1, 3, 616844, tzinfo=<UTC>),\n",
       " 'updated_at': datetime.datetime(2024, 1, 16, 17, 41, 9, 624461, tzinfo=<UTC>),\n",
       " 'found_at': datetime.datetime(2024, 1, 15, 11, 59, 35, 203000, tzinfo=<UTC>),\n",
       " 'due_at': None,\n",
       " 'status_id': UUID('ae8c8033-387e-4b8d-93bc-525f8313ded3'),\n",
       " 'job_id': None,\n",
       " 'parent_id': None,\n",
       " 'active_inspection_id': None,\n",
       " 'due_at_manually_specified': False,\n",
       " 'end_km_manually_specified': True,\n",
       " 'project_end_km_manually_specified': False,\n",
       " 'editable': True,\n",
       " 'approval_step_id': UUID('a8fcbad7-8588-4f50-a0ea-241e6d62ca56'),\n",
       " 'keywords': 'Média 1 100',\n",
       " 'lot': '',\n",
       " 'technical_opinion': None,\n",
       " 'construction_id': None,\n",
       " 'pdf_import_id': None,\n",
       " '_fieldsignals_originals': {(140521547787920,\n",
       "   140521177004800): {'uuid': UUID('8029f515-4f82-4a47-894e-e7514a04dca0'), 'number': '05780.2024', 'company': UUID('96e24ad5-3b23-461f-9300-85c542576894'), 'road_name': 'SP-270', 'road': 867, 'km': 417.3526, 'end_km': 417.3526, 'project_km': 0.0, 'project_end_km': 0.1, 'point': <Point object at 0x7fcda252aeb0>, 'direction': '3', 'lane': '33', 'address': {}, 'created_by': UUID('a539a689-62ea-4280-928d-d0c08c4cb0b5'), 'firm': UUID('2cb6ddc9-a591-4450-9834-2c0d9927bd47'), 'occurrence_type': UUID('03c498e9-e1cf-4afd-9e4b-7112a4f2ae87'), 'form_data': {'width': 1,\n",
       "    'height': 1,\n",
       "    'length': 100,\n",
       "    'criticality': '2',\n",
       "    'number_of_persons': '1',\n",
       "    'final_time_activity': '2024-01-15T20:28:00.000Z',\n",
       "    'initial_time_activity': '2024-01-15T12:00:00.000Z'}, 'form_metadata': {}, 'executed_at': datetime.datetime(2024, 1, 15, 11, 59, tzinfo=<UTC>), 'created_at': datetime.datetime(2024, 1, 15, 20, 1, 3, 616844, tzinfo=<UTC>), 'updated_at': datetime.datetime(2024, 1, 16, 17, 41, 9, 624461, tzinfo=<UTC>), 'found_at': datetime.datetime(2024, 1, 15, 11, 59, 35, 203000, tzinfo=<UTC>), 'status': UUID('ae8c8033-387e-4b8d-93bc-525f8313ded3'), 'due_at_manually_specified': False, 'end_km_manually_specified': True, 'project_end_km_manually_specified': False, 'editable': True, 'approval_step': UUID('a8fcbad7-8588-4f50-a0ea-241e6d62ca56'), 'keywords': 'Média 1 100', 'lot': ''},\n",
       "  (140521547786960,\n",
       "   140521173231808): {'uuid': UUID('8029f515-4f82-4a47-894e-e7514a04dca0'), 'number': '05780.2024', 'company': UUID('96e24ad5-3b23-461f-9300-85c542576894'), 'road_name': 'SP-270', 'road': 867, 'km': 417.3526, 'end_km': 417.3526, 'project_km': 0.0, 'project_end_km': 0.1, 'point': <Point object at 0x7fcda252ae20>, 'direction': '3', 'lane': '33', 'address': {}, 'created_by': UUID('a539a689-62ea-4280-928d-d0c08c4cb0b5'), 'firm': UUID('2cb6ddc9-a591-4450-9834-2c0d9927bd47'), 'occurrence_type': UUID('03c498e9-e1cf-4afd-9e4b-7112a4f2ae87'), 'form_data': {'width': 1,\n",
       "    'height': 1,\n",
       "    'length': 100,\n",
       "    'criticality': '2',\n",
       "    'number_of_persons': '1',\n",
       "    'final_time_activity': '2024-01-15T20:28:00.000Z',\n",
       "    'initial_time_activity': '2024-01-15T12:00:00.000Z'}, 'form_metadata': {}, 'executed_at': datetime.datetime(2024, 1, 15, 11, 59, tzinfo=<UTC>), 'created_at': datetime.datetime(2024, 1, 15, 20, 1, 3, 616844, tzinfo=<UTC>), 'updated_at': datetime.datetime(2024, 1, 16, 17, 41, 9, 624461, tzinfo=<UTC>), 'found_at': datetime.datetime(2024, 1, 15, 11, 59, 35, 203000, tzinfo=<UTC>), 'status': UUID('ae8c8033-387e-4b8d-93bc-525f8313ded3'), 'due_at_manually_specified': False, 'end_km_manually_specified': True, 'project_end_km_manually_specified': False, 'editable': True, 'approval_step': UUID('a8fcbad7-8588-4f50-a0ea-241e6d62ca56'), 'keywords': 'Média 1 100', 'lot': ''}}}"
      ]
     },
     "execution_count": 21,
     "metadata": {},
     "output_type": "execute_result"
    }
   ],
   "source": [
    "reports[0].__dict__"
   ]
  },
  {
   "cell_type": "code",
   "execution_count": 29,
   "id": "059eaed9",
   "metadata": {},
   "outputs": [],
   "source": [
    "rep_edit=[]\n",
    "for rep in reports:\n",
    "    form_data = rep.form_data\n",
    "\n",
    "    if 'length' in form_data:\n",
    "        rep.form_data['executed_length'] = rep.form_data.pop('length')\n",
    "    \n",
    "    if 'width' in form_data:\n",
    "        rep.form_data['executed_width'] = rep.form_data.pop('width')\n",
    "    \n",
    "    if 'height' in form_data:\n",
    "        rep.form_data['executed_height'] = rep.form_data.pop('height')\n",
    "        \n",
    "    if 'area' in form_data.keys():\n",
    "        rep.form_data['executed_area'] = rep.form_data.pop('area')\n",
    "    elif (rep.form_data.get('executed_length') is not None and rep.form_data.get('executed_width') is not None) and ('area' not in form_data.keys() or 'executed_area' not in form_data.keys()):\n",
    "        rep.form_data['executed_area'] = rep.form_data.get('executed_length') * rep.form_data.get('executed_width')\n",
    "    if 'volume' in form_data:\n",
    "        rep.form_data['executed_volume'] = rep.form_data.pop('volume')\n",
    "    elif (rep.form_data.get('executed_length') is not None and rep.form_data.get('executed_width') is not None and rep.form_data.get('executed_height') is not None) and ('volume' not in form_data.keys() or 'executed_volume' not in form_data.keys()): \n",
    "        rep.form_data['executed_volume'] = rep.form_data.get('executed_length') * rep.form_data.get('executed_width') * rep.form_data.get('executed_height')\n",
    "        \n",
    "    rep_edit.append(rep)"
   ]
  },
  {
   "cell_type": "code",
   "execution_count": 33,
   "id": "f1eae832",
   "metadata": {
    "scrolled": true
   },
   "outputs": [
    {
     "data": {
      "text/plain": [
       "{'_state': <django.db.models.base.ModelState at 0x7fcda1ce3c90>,\n",
       " 'uuid': UUID('27919ae7-0145-41bb-9ef2-be0a4e7cac1a'),\n",
       " 'number': '70281.2022',\n",
       " 'company_id': UUID('96e24ad5-3b23-461f-9300-85c542576894'),\n",
       " 'road_name': 'SP-270',\n",
       " 'road_id': 867,\n",
       " 'km': 608.1,\n",
       " 'end_km': 608.12,\n",
       " 'km_reference': 0.0,\n",
       " 'project_km': 0.0,\n",
       " 'project_end_km': 0.02,\n",
       " 'point': <Point object at 0x7fcd9fcf2f40>,\n",
       " 'direction': '3',\n",
       " 'lane': '33',\n",
       " 'track': '',\n",
       " 'branch': '',\n",
       " 'address': {},\n",
       " 'created_by_id': UUID('e47161a0-879d-4a70-9a00-c25ad4e6b64b'),\n",
       " 'firm_id': UUID('c1e291d9-89f5-4728-805f-68cc8f3eaaf3'),\n",
       " 'occurrence_type_id': UUID('03c498e9-e1cf-4afd-9e4b-7112a4f2ae87'),\n",
       " 'form_data': {'city': '19',\n",
       "  'criticality': '1',\n",
       "  'type_service': '2',\n",
       "  'demand_origin': ['11'],\n",
       "  'contratual_code': 'b.3.2.',\n",
       "  'number_of_persons': '02',\n",
       "  'final_time_activity': '2022-11-14T19:30:00.000Z',\n",
       "  'initial_time_activity': '2022-11-14T18:48:00.000Z',\n",
       "  'executed_length': 20,\n",
       "  'executed_width': 6,\n",
       "  'executed_area': 120},\n",
       " 'form_metadata': {'city': {'manually_specified': False},\n",
       "  'contratual_code': {'manually_specified': False}},\n",
       " 'executed_at': datetime.datetime(2022, 11, 14, 19, 58, 26, 146000, tzinfo=<UTC>),\n",
       " 'created_at': datetime.datetime(2022, 11, 16, 10, 47, 23, 66339, tzinfo=<UTC>),\n",
       " 'updated_at': datetime.datetime(2023, 5, 15, 18, 34, 20, 463395, tzinfo=<UTC>),\n",
       " 'found_at': datetime.datetime(2022, 11, 14, 19, 54, 6, 355000, tzinfo=<UTC>),\n",
       " 'due_at': None,\n",
       " 'status_id': UUID('ae8c8033-387e-4b8d-93bc-525f8313ded3'),\n",
       " 'job_id': None,\n",
       " 'parent_id': None,\n",
       " 'active_inspection_id': None,\n",
       " 'due_at_manually_specified': False,\n",
       " 'end_km_manually_specified': False,\n",
       " 'project_end_km_manually_specified': False,\n",
       " 'editable': True,\n",
       " 'approval_step_id': UUID('a8fcbad7-8588-4f50-a0ea-241e6d62ca56'),\n",
       " 'keywords': 'Fiscais de campo Manutenção Corretiva Alta 02 Piquerobi 20 6',\n",
       " 'lot': '',\n",
       " 'technical_opinion': None,\n",
       " 'construction_id': None,\n",
       " 'pdf_import_id': None,\n",
       " '_fieldsignals_originals': {(140521547787920,\n",
       "   140521177004800): {'uuid': UUID('27919ae7-0145-41bb-9ef2-be0a4e7cac1a'), 'number': '70281.2022', 'company': UUID('96e24ad5-3b23-461f-9300-85c542576894'), 'road_name': 'SP-270', 'road': 867, 'km': 608.1, 'end_km': 608.12, 'km_reference': 0.0, 'project_km': 0.0, 'project_end_km': 0.02, 'point': <Point object at 0x7fcda2087250>, 'direction': '3', 'lane': '33', 'track': '', 'branch': '', 'address': {}, 'created_by': UUID('e47161a0-879d-4a70-9a00-c25ad4e6b64b'), 'firm': UUID('c1e291d9-89f5-4728-805f-68cc8f3eaaf3'), 'occurrence_type': UUID('03c498e9-e1cf-4afd-9e4b-7112a4f2ae87'), 'form_data': {'city': '19',\n",
       "    'width': 6,\n",
       "    'length': 20,\n",
       "    'criticality': '1',\n",
       "    'type_service': '2',\n",
       "    'demand_origin': ['11'],\n",
       "    'contratual_code': 'b.3.2.',\n",
       "    'number_of_persons': '02',\n",
       "    'final_time_activity': '2022-11-14T19:30:00.000Z',\n",
       "    'initial_time_activity': '2022-11-14T18:48:00.000Z'}, 'form_metadata': {'city': {'manually_specified': False},\n",
       "    'contratual_code': {'manually_specified': False}}, 'executed_at': datetime.datetime(2022, 11, 14, 19, 58, 26, 146000, tzinfo=<UTC>), 'created_at': datetime.datetime(2022, 11, 16, 10, 47, 23, 66339, tzinfo=<UTC>), 'updated_at': datetime.datetime(2023, 5, 15, 18, 34, 20, 463395, tzinfo=<UTC>), 'found_at': datetime.datetime(2022, 11, 14, 19, 54, 6, 355000, tzinfo=<UTC>), 'status': UUID('ae8c8033-387e-4b8d-93bc-525f8313ded3'), 'due_at_manually_specified': False, 'end_km_manually_specified': False, 'project_end_km_manually_specified': False, 'editable': True, 'approval_step': UUID('a8fcbad7-8588-4f50-a0ea-241e6d62ca56'), 'keywords': 'Fiscais de campo Manutenção Corretiva Alta 02 Piquerobi 20 6', 'lot': ''},\n",
       "  (140521547786960,\n",
       "   140521173231808): {'uuid': UUID('27919ae7-0145-41bb-9ef2-be0a4e7cac1a'), 'number': '70281.2022', 'company': UUID('96e24ad5-3b23-461f-9300-85c542576894'), 'road_name': 'SP-270', 'road': 867, 'km': 608.1, 'end_km': 608.12, 'km_reference': 0.0, 'project_km': 0.0, 'project_end_km': 0.02, 'point': <Point object at 0x7fcda2087490>, 'direction': '3', 'lane': '33', 'track': '', 'branch': '', 'address': {}, 'created_by': UUID('e47161a0-879d-4a70-9a00-c25ad4e6b64b'), 'firm': UUID('c1e291d9-89f5-4728-805f-68cc8f3eaaf3'), 'occurrence_type': UUID('03c498e9-e1cf-4afd-9e4b-7112a4f2ae87'), 'form_data': {'city': '19',\n",
       "    'width': 6,\n",
       "    'length': 20,\n",
       "    'criticality': '1',\n",
       "    'type_service': '2',\n",
       "    'demand_origin': ['11'],\n",
       "    'contratual_code': 'b.3.2.',\n",
       "    'number_of_persons': '02',\n",
       "    'final_time_activity': '2022-11-14T19:30:00.000Z',\n",
       "    'initial_time_activity': '2022-11-14T18:48:00.000Z'}, 'form_metadata': {'city': {'manually_specified': False},\n",
       "    'contratual_code': {'manually_specified': False}}, 'executed_at': datetime.datetime(2022, 11, 14, 19, 58, 26, 146000, tzinfo=<UTC>), 'created_at': datetime.datetime(2022, 11, 16, 10, 47, 23, 66339, tzinfo=<UTC>), 'updated_at': datetime.datetime(2023, 5, 15, 18, 34, 20, 463395, tzinfo=<UTC>), 'found_at': datetime.datetime(2022, 11, 14, 19, 54, 6, 355000, tzinfo=<UTC>), 'status': UUID('ae8c8033-387e-4b8d-93bc-525f8313ded3'), 'due_at_manually_specified': False, 'end_km_manually_specified': False, 'project_end_km_manually_specified': False, 'editable': True, 'approval_step': UUID('a8fcbad7-8588-4f50-a0ea-241e6d62ca56'), 'keywords': 'Fiscais de campo Manutenção Corretiva Alta 02 Piquerobi 20 6', 'lot': ''}}}"
      ]
     },
     "execution_count": 33,
     "metadata": {},
     "output_type": "execute_result"
    }
   ],
   "source": [
    "rep_edit[2].__dict__"
   ]
  },
  {
   "cell_type": "code",
   "execution_count": 34,
   "id": "6ec4de7f",
   "metadata": {},
   "outputs": [],
   "source": [
    "apontamentos = bulk_update_with_history(rep_edit,Reporting, use_django_bulk=True,batch_size=300,user=User.objects.get(username='rlcs'))"
   ]
  },
  {
   "cell_type": "code",
   "execution_count": null,
   "id": "9766557a",
   "metadata": {},
   "outputs": [],
   "source": []
  },
  {
   "cell_type": "code",
   "execution_count": null,
   "id": "8a506cb7",
   "metadata": {},
   "outputs": [],
   "source": []
  },
  {
   "cell_type": "markdown",
   "id": "75c7426f",
   "metadata": {},
   "source": [
    "# ALTERAÇÕES PELO RDO"
   ]
  },
  {
   "cell_type": "code",
   "execution_count": 38,
   "id": "b2299235",
   "metadata": {},
   "outputs": [],
   "source": [
    "from helpers.strings import get_obj_from_path\n",
    "from helpers.apps.reportings import get_lane"
   ]
  },
  {
   "cell_type": "code",
   "execution_count": 39,
   "id": "584753af",
   "metadata": {},
   "outputs": [],
   "source": [
    "company=Company.objects.get(name=\"CART\")"
   ]
  },
  {
   "cell_type": "code",
   "execution_count": 40,
   "id": "4381eb58",
   "metadata": {},
   "outputs": [
    {
     "data": {
      "text/plain": [
       "<Worksheet \"Planilha3\">"
      ]
     },
     "execution_count": 40,
     "metadata": {},
     "output_type": "execute_result"
    }
   ],
   "source": [
    "from openpyxl import load_workbook\n",
    "filename = \"ALTERACOES OCORRENCIAS(1).xlsm\"\n",
    "wb = load_workbook(filename)\n",
    "ws = wb[wb.sheetnames[0]]\n",
    "ws"
   ]
  },
  {
   "cell_type": "code",
   "execution_count": 41,
   "id": "1f704265",
   "metadata": {},
   "outputs": [
    {
     "data": {
      "text/plain": [
       "{'Serial RDO': 'CART-RDO-2024.00438',\n",
       " 'Equipe': 'EPA_T1_01',\n",
       " 'Data': datetime.datetime(2024, 1, 5, 0, 0),\n",
       " 'Origem': 'Executora',\n",
       " 'Descrição': 'Preparo para início do trabalho (Separar material, ferramentas, combustível e etc',\n",
       " 'Horário de Início': datetime.time(6, 30),\n",
       " 'Horário de Fim': datetime.time(6, 35),\n",
       " 'Complemento': None,\n",
       " 'Impacto': datetime.time(0, 5)}"
      ]
     },
     "execution_count": 41,
     "metadata": {},
     "output_type": "execute_result"
    }
   ],
   "source": [
    "header = []\n",
    "values = []\n",
    "\n",
    "for index, row in enumerate(ws.rows):\n",
    "    if index == 0:\n",
    "        header = list([a.value for a in row])\n",
    "        continue\n",
    "    obj = {}\n",
    "    for col_index, cell in enumerate(row):\n",
    "        value = cell.value\n",
    "        obj[header[col_index]] = value\n",
    "    values.append(obj)\n",
    "values[0]"
   ]
  },
  {
   "cell_type": "code",
   "execution_count": 42,
   "id": "53a9ee94",
   "metadata": {},
   "outputs": [],
   "source": [
    "possible_lane_path = (\n",
    "        \"daily_report_occurrence__fields__description__selectoptions__options\"\n",
    "    )\n",
    "occurrences = get_obj_from_path(\n",
    "        company.custom_options, possible_lane_path\n",
    "    )"
   ]
  },
  {
   "cell_type": "code",
   "execution_count": 43,
   "id": "57549629",
   "metadata": {
    "scrolled": true
   },
   "outputs": [
    {
     "data": {
      "text/plain": [
       "[{'name': 'Acidente sem vítimas', 'value': '0'},\n",
       " {'name': 'Deslocamento', 'value': '1'},\n",
       " {'name': 'Improdutivo (Justificar)', 'value': '2'},\n",
       " {'name': 'Manutenção Veículo/Equip.', 'value': '3'},\n",
       " {'name': 'Tempo Impraticável', 'value': '4'},\n",
       " {'name': 'Carga e Descarga', 'value': '5'},\n",
       " {'name': 'Trabalhando', 'value': '6'},\n",
       " {'name': 'Indisponível/Outros', 'value': '7'},\n",
       " {'name': 'Preparo para início do trabalho (Separar material, ferramentas, combustível e etc',\n",
       "  'value': '8'},\n",
       " {'name': 'DDS - Diálogo Diário de Segurança', 'value': '9'},\n",
       " {'name': 'Deslocamento Ida (Base até o Trecho)', 'value': '10'},\n",
       " {'name': 'Preparo para início das atividades no trecho e Check List Preventivo',\n",
       "  'value': '11'},\n",
       " {'name': 'Preparo para almoço', 'value': '12'},\n",
       " {'name': 'Horario de almoço', 'value': '13'},\n",
       " {'name': 'Preparo Fim das Atividades no Campo (guardar ferramentas',\n",
       "  'value': '14'},\n",
       " {'name': 'Deslocamento Retorno (Trecho até a Base)', 'value': '15'}]"
      ]
     },
     "execution_count": 43,
     "metadata": {},
     "output_type": "execute_result"
    }
   ],
   "source": [
    "occurrences"
   ]
  },
  {
   "cell_type": "code",
   "execution_count": 44,
   "id": "29f89821",
   "metadata": {},
   "outputs": [
    {
     "data": {
      "application/vnd.jupyter.widget-view+json": {
       "model_id": "632b30c3846541b49a664c0101228044",
       "version_major": 2,
       "version_minor": 0
      },
      "text/plain": [
       "0it [00:00, ?it/s]"
      ]
     },
     "metadata": {},
     "output_type": "display_data"
    }
   ],
   "source": [
    "for index,a in tqdm(enumerate(values)):\n",
    "    rdo=MultipleDailyReport.objects.get(number=a['Serial RDO'], company=company)"
   ]
  },
  {
   "cell_type": "code",
   "execution_count": 46,
   "id": "cbf86ae3",
   "metadata": {},
   "outputs": [
    {
     "data": {
      "application/vnd.jupyter.widget-view+json": {
       "model_id": "ddcfbac7fd854afb82cc0637aa090ec9",
       "version_major": 2,
       "version_minor": 0
      },
      "text/plain": [
       "  0%|          | 0/456 [00:00<?, ?it/s]"
      ]
     },
     "metadata": {},
     "output_type": "display_data"
    }
   ],
   "source": [
    "from tqdm.notebook import tqdm\n",
    "from datetime import datetime\n",
    "\n",
    "for index,a in enumerate(tqdm(values)):\n",
    "    try:\n",
    "        rdo=MultipleDailyReport.objects.get(number=a['Serial RDO'], company=company)\n",
    "        firm=rdo.firm\n",
    "        origin = 'Executora'\n",
    "        description = next(o['value'] for o in occurrences if o['name'] == a['Descrição'])\n",
    "        starts_at = a['Horário de Início']\n",
    "        ends_at = a['Horário de Fim']\n",
    "        #address_additional = a['Complemento']\n",
    "        impact_duration = a['Impacto']\n",
    "        dro = DailyReportOccurrence(firm=firm,description=description,origin=origin,\n",
    "                                   starts_at=starts_at,ends_at=ends_at,impact_duration=impact_duration)\n",
    "        \n",
    "        dro.save()\n",
    "        rdo.multiple_daily_report_occurrences.add(dro)\n",
    "\n",
    "    except Exception as e:\n",
    "        print(f\"Erro: {e},linha da planilha:{index+3}\")"
   ]
  },
  {
   "cell_type": "code",
   "execution_count": null,
   "id": "98431300",
   "metadata": {},
   "outputs": [],
   "source": [
    "dro"
   ]
  },
  {
   "cell_type": "code",
   "execution_count": null,
   "id": "f799452d",
   "metadata": {},
   "outputs": [],
   "source": [
    "rdo"
   ]
  },
  {
   "cell_type": "code",
   "execution_count": null,
   "id": "0bae294f",
   "metadata": {},
   "outputs": [],
   "source": [
    "Firm.objects.filter(company__name='Demo Concessionárias',subcompany__name='M&A LTDA')"
   ]
  },
  {
   "cell_type": "code",
   "execution_count": null,
   "id": "c31a4743",
   "metadata": {},
   "outputs": [],
   "source": [
    "occs=OccurrenceType.objects.filter(company__name__startswith='Arteris')"
   ]
  },
  {
   "cell_type": "code",
   "execution_count": null,
   "id": "3d6643e0",
   "metadata": {},
   "outputs": [],
   "source": [
    "occs.count()"
   ]
  },
  {
   "cell_type": "code",
   "execution_count": null,
   "id": "899a44d8",
   "metadata": {},
   "outputs": [],
   "source": [
    "occs[0].company.all()[0].name"
   ]
  },
  {
   "cell_type": "code",
   "execution_count": null,
   "id": "a0fd6a0f",
   "metadata": {},
   "outputs": [],
   "source": [
    "for a in occs:\n",
    "    if a.form_fields['fields'] is not None or a.form_fields['fields'] is not {}:\n",
    "        for field in a.form_fields['fields']:\n",
    "            try:\n",
    "                if 'city' in field.get('apiName'):\n",
    "                    print(field['dataType'],a.name,next(b.name for b in a.company.all()))\n",
    "            except:\n",
    "                pass"
   ]
  },
  {
   "cell_type": "code",
   "execution_count": null,
   "id": "33b76ce7",
   "metadata": {},
   "outputs": [],
   "source": [
    "MeasurementBulletin._meta.get_fields()"
   ]
  },
  {
   "cell_type": "code",
   "execution_count": null,
   "id": "6e6d8875",
   "metadata": {},
   "outputs": [],
   "source": [
    "mb=MeasurementBulletin.objects.filter(number__in=[\"AFD-BM-2023.12\", \"AFD-BM-2023.14\", \"AFD-BM-2023.13\"],\n",
    "                                     contract__subcompany__company=Company.objects.get(name=\"Arteris Fernão Dias - Conserva\"))"
   ]
  },
  {
   "cell_type": "code",
   "execution_count": null,
   "id": "676a3c4c",
   "metadata": {},
   "outputs": [],
   "source": [
    "mb"
   ]
  },
  {
   "cell_type": "code",
   "execution_count": null,
   "id": "14af6d5d",
   "metadata": {},
   "outputs": [],
   "source": [
    "mb[0].__dict__"
   ]
  },
  {
   "cell_type": "code",
   "execution_count": null,
   "id": "b1b26d3e",
   "metadata": {},
   "outputs": [],
   "source": [
    "up=UserPermission.objects.filter(companies__name='CART')"
   ]
  },
  {
   "cell_type": "code",
   "execution_count": null,
   "id": "bf400d16",
   "metadata": {},
   "outputs": [],
   "source": [
    "for a in up:\n",
    "    print(a.name,a.permissions['MultipleDailyReport'])"
   ]
  },
  {
   "cell_type": "code",
   "execution_count": null,
   "id": "e9e5feb2",
   "metadata": {},
   "outputs": [],
   "source": [
    "for a in UserInCompany.objects.filter(company__name__icontains='Kapa'):\n",
    "    print(a.permissions.name,a.user.username)"
   ]
  },
  {
   "cell_type": "code",
   "execution_count": null,
   "id": "139af64c",
   "metadata": {},
   "outputs": [],
   "source": [
    "company=Company.objects.get(name=\"CART\")"
   ]
  },
  {
   "cell_type": "code",
   "execution_count": null,
   "id": "6170a94b",
   "metadata": {},
   "outputs": [],
   "source": [
    "from openpyxl import load_workbook\n",
    "filename = \"Unidades ativas Kartado Geral (1).xlsx\"\n",
    "wb = load_workbook(filename)\n",
    "ws = wb[wb.sheetnames[2]]\n",
    "ws"
   ]
  },
  {
   "cell_type": "code",
   "execution_count": null,
   "id": "60c66a66",
   "metadata": {},
   "outputs": [],
   "source": [
    "header = []\n",
    "values = []\n",
    "\n",
    "for index, row in enumerate(ws.rows):\n",
    "    if index == 0:\n",
    "        header = list([a.value for a in row])\n",
    "        continue\n",
    "    obj = {}\n",
    "    for col_index, cell in enumerate(row):\n",
    "        value = cell.value\n",
    "        obj[header[col_index]] = value\n",
    "    values.append(obj)\n",
    "values[0]"
   ]
  },
  {
   "cell_type": "code",
   "execution_count": null,
   "id": "35d24def",
   "metadata": {},
   "outputs": [],
   "source": [
    "values[0]['Unidades:'].split(' | ')[0].strip()"
   ]
  },
  {
   "cell_type": "code",
   "execution_count": null,
   "id": "1742d7c6",
   "metadata": {},
   "outputs": [],
   "source": [
    "ativas=[]\n",
    "for a in values:\n",
    "    ativas.append(Company.objects.get(name=a['Unidades:'].split('|  [')[0].strip()).uuid)\n",
    "#     Company.objects.get(name=a['Unidades:'].split('|  [')[0].strip())"
   ]
  },
  {
   "cell_type": "code",
   "execution_count": null,
   "id": "433433d5",
   "metadata": {},
   "outputs": [],
   "source": [
    "Company.objects.filter(uuid__in=ativas).update(active=True)"
   ]
  },
  {
   "cell_type": "code",
   "execution_count": null,
   "id": "8dabf15a",
   "metadata": {},
   "outputs": [],
   "source": [
    "Company.objects.all()[0].active"
   ]
  },
  {
   "cell_type": "code",
   "execution_count": null,
   "id": "d5f90500",
   "metadata": {},
   "outputs": [],
   "source": [
    "Company.objects.all().exclude(uuid__in=ativas).update(active=False)"
   ]
  },
  {
   "cell_type": "code",
   "execution_count": null,
   "id": "ac8b07e9",
   "metadata": {},
   "outputs": [],
   "source": [
    "up=UserPermission.objects.filter(companies__name='CART')"
   ]
  },
  {
   "cell_type": "code",
   "execution_count": null,
   "id": "9e099810",
   "metadata": {},
   "outputs": [],
   "source": [
    "up.count()"
   ]
  },
  {
   "cell_type": "code",
   "execution_count": null,
   "id": "5079c8b1",
   "metadata": {},
   "outputs": [],
   "source": [
    "company=Company.objects.get(name='Sinalizavia (Municípios)')"
   ]
  },
  {
   "cell_type": "code",
   "execution_count": null,
   "id": "a105117a",
   "metadata": {},
   "outputs": [],
   "source": [
    "for a in company.history.all().order_by('-history_date'):\n",
    "    print(a.history_date,a.history_user)"
   ]
  },
  {
   "cell_type": "code",
   "execution_count": null,
   "id": "cb73a096",
   "metadata": {},
   "outputs": [],
   "source": [
    "company.history.all().order_by('-history_date')[2].history_user,company.history.all().order_by('-history_date')[2].history_date"
   ]
  },
  {
   "cell_type": "code",
   "execution_count": null,
   "id": "d38fca1d",
   "metadata": {},
   "outputs": [],
   "source": [
    "rep=Reporting.objects.get(number='SV-SinV-2023.00010')"
   ]
  },
  {
   "cell_type": "code",
   "execution_count": null,
   "id": "fb967dab",
   "metadata": {},
   "outputs": [],
   "source": [
    "rep.history.all().order_by('-history_date')[0].history_user"
   ]
  },
  {
   "cell_type": "code",
   "execution_count": null,
   "id": "915a04dc",
   "metadata": {},
   "outputs": [],
   "source": [
    "Reporting.history.model.objects.filter(\n",
    "    history_date__date=\"2023-07-24\", \n",
    "    history_type=\"-\", \n",
    "    form_data__artesp_code=\"618034\"\n",
    ")"
   ]
  },
  {
   "cell_type": "code",
   "execution_count": null,
   "id": "e4210093",
   "metadata": {},
   "outputs": [],
   "source": [
    "occs=OccurrenceType.objects.filter(company__name='CART')"
   ]
  },
  {
   "cell_type": "code",
   "execution_count": null,
   "id": "58bb78e7",
   "metadata": {},
   "outputs": [],
   "source": [
    "for a in occs:\n",
    "    for field in a.form_fields['fields']:\n",
    "        try:\n",
    "            if 'altura' in field.get('displayName').lower() and 'executad' in field.get('displayName').lower():\n",
    "                print(a.name)\n",
    "        except:\n",
    "            if 'altura' in field.get('display_name').lower() and 'executad' in field.get('display_name').lower():\n",
    "                print(a.name)"
   ]
  },
  {
   "cell_type": "code",
   "execution_count": null,
   "id": "2f3f2f96",
   "metadata": {},
   "outputs": [],
   "source": [
    "for a in occs:\n",
    "    for field in a.form_fields['fields']:\n",
    "        try:\n",
    "            if 'executedHeight' in field.get('apiName'):\n",
    "                print(a.name)\n",
    "        except:\n",
    "            pass"
   ]
  },
  {
   "cell_type": "code",
   "execution_count": null,
   "id": "3263b626",
   "metadata": {},
   "outputs": [],
   "source": [
    "Reporting.objects.filter(form_data__has_key='executed_height',company__name='CART')"
   ]
  },
  {
   "cell_type": "code",
   "execution_count": null,
   "id": "3a83b045",
   "metadata": {},
   "outputs": [],
   "source": [
    "MultipleDailyReport.objects.get(number='INT-RDO-2023.00134').firm"
   ]
  },
  {
   "cell_type": "code",
   "execution_count": null,
   "id": "10d62562",
   "metadata": {},
   "outputs": [],
   "source": [
    "con = Contract.objects.get(uuid='f82a9b41-7a23-4f84-8423-42eff51be42f')"
   ]
  },
  {
   "cell_type": "code",
   "execution_count": null,
   "id": "af6711d4",
   "metadata": {},
   "outputs": [],
   "source": [
    "con"
   ]
  },
  {
   "cell_type": "code",
   "execution_count": null,
   "id": "04543918",
   "metadata": {},
   "outputs": [],
   "source": [
    "firms_iasin = Firm.objects.filter(subcompany__name='IASIN - SINALIZAÇÕES')\n",
    "firms_iasin"
   ]
  },
  {
   "cell_type": "code",
   "execution_count": null,
   "id": "78c31d87",
   "metadata": {},
   "outputs": [],
   "source": [
    "rdo=MultipleDailyReport.objects.filter(contract=con,reportings__firm__in=firms_iasin)"
   ]
  },
  {
   "cell_type": "code",
   "execution_count": null,
   "id": "b22dc5ba",
   "metadata": {},
   "outputs": [],
   "source": [
    "rdo"
   ]
  },
  {
   "cell_type": "code",
   "execution_count": null,
   "id": "25907361",
   "metadata": {},
   "outputs": [],
   "source": [
    "mb=MeasurementBulletin.objects.get(number='SV-BM-2023.9')"
   ]
  },
  {
   "cell_type": "code",
   "execution_count": null,
   "id": "8889dd52",
   "metadata": {},
   "outputs": [],
   "source": [
    "mb.delete()"
   ]
  },
  {
   "cell_type": "markdown",
   "id": "2ee17965",
   "metadata": {},
   "source": [
    "# ARQUIVO SEM LINHAS EM BRANCO"
   ]
  },
  {
   "cell_type": "code",
   "execution_count": 28,
   "id": "6d8f6a60",
   "metadata": {},
   "outputs": [],
   "source": [
    "from openpyxl import load_workbook\n",
    "\n",
    "# Carregar o arquivo Excel\n",
    "filename = \"ALTERACOES OCORRENCIAS(1).xlsm\"\n",
    "wb = load_workbook(filename)\n",
    "\n",
    "# Selecionar a planilha\n",
    "ws = wb.active\n",
    "\n",
    "# Percorrer as linhas da planilha de baixo para cima\n",
    "for row in reversed(range(1, ws.max_row + 1)):\n",
    "    # Verificar se todas as células da linha estão vazias\n",
    "    if all(ws.cell(row=row, column=col).value is None for col in range(1, ws.max_column + 1)):\n",
    "        # Se todas as células estiverem vazias, remover a linha\n",
    "        ws.delete_rows(row)\n",
    "\n",
    "# Salvar as alterações no arquivo\n",
    "wb.save(\"seuarquivo_sem_linhas_em_branco.xlsx\")\n"
   ]
  }
 ],
 "metadata": {
  "celltoolbar": "Raw Cell Format",
  "kernelspec": {
   "display_name": "Django Shell-Plus",
   "language": "python",
   "name": "django_extensions"
  },
  "language_info": {
   "codemirror_mode": {
    "name": "ipython",
    "version": 3
   },
   "file_extension": ".py",
   "mimetype": "text/x-python",
   "name": "python",
   "nbconvert_exporter": "python",
   "pygments_lexer": "ipython3",
   "version": "3.7.9"
  }
 },
 "nbformat": 4,
 "nbformat_minor": 5
}
