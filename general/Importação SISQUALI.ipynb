{
 "cells": [
  {
   "cell_type": "code",
   "execution_count": 3,
   "id": "34ecba01",
   "metadata": {},
   "outputs": [],
   "source": [
    "from openpyxl import load_workbook\n",
    "from tqdm.notebook import tqdm\n",
    "import json\n",
    "import re"
   ]
  },
  {
   "cell_type": "code",
   "execution_count": 8,
   "id": "df25c3f9",
   "metadata": {},
   "outputs": [],
   "source": [
    "def get_connected_reference(company, resource, key, value):\n",
    "    value=value.strip()\n",
    "    select_options = company.custom_options[resource]['fields'][key]['selectOptions']['options']\n",
    "    return next(a['value'] for a in select_options if a['name'].lower() == value.lower())"
   ]
  },
  {
   "cell_type": "code",
   "execution_count": 9,
   "id": "edcd5343",
   "metadata": {},
   "outputs": [],
   "source": [
    "def get_value(field, occ, value):\n",
    "    values = occ.form_fields['fields']\n",
    "    item_translation = flatten([item['selectOptions']['options'] for item in values if item['displayName']==field])\n",
    "#     print(item_translation)\n",
    "    if field == 'Nome da placa':\n",
    "        value=value.upper()\n",
    "    final_translation = {item['name']: item['value'] for item in item_translation}\n",
    "#     print(final_translation)\n",
    "    return final_translation[value]"
   ]
  },
  {
   "cell_type": "code",
   "execution_count": 4,
   "id": "33feffcf",
   "metadata": {},
   "outputs": [],
   "source": [
    "def load_excel(filename,sheetPosision=0):\n",
    "    wb = load_workbook(filename=filename+'.xlsx')\n",
    "    sheet = wb[wb.sheetnames[sheetPosision]]\n",
    "    data = []\n",
    "\n",
    "    headers = [cell.value for cell in sheet[1]]\n",
    "\n",
    "    for row in sheet.iter_rows(min_row=2):\n",
    "        row_dict = {}\n",
    "        for key, cell in zip(headers, row):\n",
    "            row_dict[key] = cell.value\n",
    "    #         if 'Foto Contenção 1_1' == key:\n",
    "    #             print(cell.value)\n",
    "        data.append(row_dict)\n",
    "    return data"
   ]
  },
  {
   "cell_type": "code",
   "execution_count": 5,
   "id": "6ab8d1e8",
   "metadata": {},
   "outputs": [],
   "source": [
    "def convert_string(string: str) -> str:\n",
    "    if '_' in string:\n",
    "        # Convert snake_case to camelCase\n",
    "        return re.sub(r'_([a-z])', lambda x: x.group(1).upper(), string)\n",
    "    else:\n",
    "        # Convert camelCase to snake_case\n",
    "        return re.sub(r'([A-Z])', lambda x: '_' + x.group(1).lower(), string)"
   ]
  },
  {
   "cell_type": "code",
   "execution_count": null,
   "id": "eb9efc36",
   "metadata": {},
   "outputs": [],
   "source": [
    "values=load_excel('PROJETO',0)"
   ]
  },
  {
   "cell_type": "code",
   "execution_count": 18,
   "id": "aca4bda9",
   "metadata": {},
   "outputs": [
    {
     "data": {
      "text/plain": [
       "(<OccurrenceType: Concreto Asfáltico - ['Arteris Via Paulista - SISOBRAS/SISQUALI']>,\n",
       " <User: rlcs - Kartado CS>)"
      ]
     },
     "execution_count": 18,
     "metadata": {},
     "output_type": "execute_result"
    }
   ],
   "source": [
    "company=Company.objects.get(name='Arteris Via Paulista - SISOBRAS/SISQUALI')\n",
    "user=User.objects.get(username='rlcs')\n",
    "occProjeto=OccurrenceType.objects.get(name='Concreto Asfáltico',company=company)\n",
    "occProjeto,user"
   ]
  },
  {
   "cell_type": "code",
   "execution_count": 7,
   "id": "e7010734",
   "metadata": {
    "collapsed": true
   },
   "outputs": [
    {
     "name": "stdout",
     "output_type": "stream",
     "text": [
      "\"range_gran_conc_asf\": a[\"Faixa Granulométrica\"]string\n",
      "\"ligante_conc_asf\": a[\"Ligante\"]select\n",
      "\"teor_cap_conc_asf\": a[\"Teor de cap (%)\"]float\n",
      "\"empty_volume_conc_asf\": a[\"Volume de vazios (%)\"]float\n",
      "\"vam_conc_asf\": a[\"VAM (%)\"]float\n",
      "\"mass_esp_visi_conc_asf\": a[\"Massa Específca Aparente (g/cm³)\"]float\n",
      "\"mass_esp_max_conc_asf\": a[\"Massa Específca Máxima (g/cm³)\"]float\n",
      "\"mass_esp_efective_conc_asf\": a[\"Massa Específca Efetiva dos Agregdos (g/cm³)\"]float\n",
      "\"aggregate1_conc_asf\": a[\"Agregado 1\"]select\n",
      "\"percentage_aggregate1_conc_asf\": a[\"% de Agregado 1\"]float\n",
      "\"aggregate2_conc_asf\": a[\"Agregado 2\"]select\n",
      "\"percentage_aggregate2_conc_asf\": a[\"% de Agregado 2\"]float\n",
      "\"aggregate3_conc_asf\": a[\"Agregado 3\"]select\n",
      "\"percentage_aggregate3_conc_asf\": a[\"% de Agregado 3\"]float\n",
      "\"aggregate4_conc_asf\": a[\"Agregado 4\"]select\n",
      "\"percentage_aggregate4_conc_asf\": a[\"% de Agregado 4\"]float\n",
      "\"filer_conc_asf\": a[\"Fíler\"]select\n",
      "\"percentage_filer_conc_asf\": a[\"% de Fíler\"]float\n"
     ]
    }
   ],
   "source": [
    "for a in occProjeto.form_fields['fields']:\n",
    "    if a.get(\"apiName\"):\n",
    "        print(f'\"{convert_string(a[\"apiName\"])}\": a[\"{a[\"displayName\"]}\"]{a[\"dataType\"]}')\n",
    "    else:\n",
    "        print(f'\"{convert_string(a[\"api_name\"])}\": a[\"{a[\"display_name\"]}\"]{a[\"data_type\"]}')\n",
    "    if a.get('dataType') == 'arrayOfObjects':\n",
    "        for b in a['innerFields']:\n",
    "            print(f'\\t\"{convert_string(b[\"apiName\"])}\": a[\"{b[\"displayName\"]}\"]{b[\"dataType\"]}')\n",
    "    if a.get('data_type') == 'arrayOfObjects':\n",
    "        for b in a['inner_fields']:\n",
    "            print(f'\\t\"{convert_string(b[\"api_name\"])}\": a[\"{b[\"display_name\"]}\"]{b[\"data_type\"]}')"
   ]
  },
  {
   "cell_type": "markdown",
   "id": "0f44c4a5",
   "metadata": {},
   "source": [
    "# Importação Projeto"
   ]
  },
  {
   "cell_type": "code",
   "execution_count": null,
   "id": "f861d6b8",
   "metadata": {},
   "outputs": [],
   "source": [
    "objects=[]\n",
    "\n",
    "for index, a in enumerate(tqdm(values)):\n",
    "    \n",
    "    try:\n",
    "        objects.append(QualityProject(\n",
    "                    project_number=a['Nº do Projeto'],\n",
    "                    firm=Firm.objects.get(name=a['Equipe/Construtora'],company=company),\n",
    "                    occurrence_type=occProjeto,\n",
    "                    created_at=a['Data de Criação'],\n",
    "                    registered_at=datetime.today(),\n",
    "                    expires_at=a['Data de Validade'],\n",
    "                    form_data={\n",
    "                        \"range_gran_conc_asf\": a[\"Faixa Granulométrica\"],\n",
    "                        \"ligante_conc_asf\": get_value('Ligante',occurrence_type,a[\"Ligante\"].strip()) if a[\"Ligante\"] is not None else None,\n",
    "                        \"teor_cap_conc_asf\": a[\"Teor de cap (%)\"],\n",
    "                        \"empty_volume_conc_asf\": a[\"Volume de vazios (%)\"],\n",
    "                        \"vam_conc_asf\": a[\"VAM (%)\"],\n",
    "                        \"mass_esp_visi_conc_asf\": a[\"Massa Específca Aparente (g/cm³)\"],\n",
    "                        \"mass_esp_max_conc_asf\": a[\"Massa Específca Máxima (g/cm³)\"],\n",
    "                        \"mass_esp_efective_conc_asf\": a[\"Massa Específca Efetiva dos Agregdos (g/cm³)\"],\n",
    "                        \"aggregate1_conc_asf\": get_value('Agregado 1',occurrence_type,a[\"Agregado 1\"].strip()) if a[\"Agregado 1\"] is not None else None,\n",
    "                        \"percentage_aggregate1_conc_asf\": a[\"% de Agregado 1\"],\n",
    "                        \"aggregate2_conc_asf\": get_value('Agregado 2',occurrence_type,a[\"Agregado 2\"].strip()) if a[\"Agregado 2\"] is not None else None,\n",
    "                        \"percentage_aggregate2_conc_asf\": a[\"% de Agregado 2\"],\n",
    "                        \"aggregate3_conc_asf\": get_value('Agregado 3',occurrence_type,a[\"Agregado 3\"].strip()) if a[\"Agregado 3\"] is not None else None,\n",
    "                        \"percentage_aggregate3_conc_asf\": a[\"% de Agregado 3\"],\n",
    "                        \"aggregate4_conc_asf\": get_value('Agregado 4',occurrence_type,a[\"Agregado 4\"].strip()) if a[\"Agregado 4\"] is not None else None,\n",
    "                        \"percentage_aggregate4_conc_asf\": a[\"% de Agregado 4\"],\n",
    "                        \"filer_conc_asf\": get_value('Fíler',occurrence_type,a[\"Fíler\"].strip()) if a[\"Fíler\"] is not None else None,\n",
    "                        \"percentage_filer_conc_asf\": a[\"% de Fíler\"]\n",
    "                        },\n",
    "                    ))\n",
    "    except Exception as e:\n",
    "        print(f'AQUI: Linha da Planilha: {index+2} erro: {e}')\n",
    "#         print(objects.form_data)\n",
    "        pass"
   ]
  },
  {
   "cell_type": "code",
   "execution_count": null,
   "id": "3cd36338",
   "metadata": {},
   "outputs": [],
   "source": [
    "objects[0]"
   ]
  },
  {
   "cell_type": "code",
   "execution_count": null,
   "id": "428afac7",
   "metadata": {},
   "outputs": [],
   "source": [
    "for projeto in tqdm(objects):\n",
    "    projeto.save()\n",
    "    print(projeto.number)"
   ]
  },
  {
   "cell_type": "code",
   "execution_count": null,
   "id": "f6a9265f",
   "metadata": {},
   "outputs": [],
   "source": []
  },
  {
   "cell_type": "markdown",
   "id": "fb9e198c",
   "metadata": {},
   "source": [
    "# Amostras"
   ]
  },
  {
   "cell_type": "code",
   "execution_count": 13,
   "id": "7347549f",
   "metadata": {},
   "outputs": [
    {
     "data": {
      "text/plain": [
       "<OccurrenceType: Amostra CBUQ - ['Arteris Via Paulista - SISOBRAS/SISQUALI']>"
      ]
     },
     "execution_count": 13,
     "metadata": {},
     "output_type": "execute_result"
    }
   ],
   "source": [
    "occAmostra = OccurrenceType.objects.get(name='Amostra CBUQ',company=company)\n",
    "occAmostra"
   ]
  },
  {
   "cell_type": "code",
   "execution_count": 14,
   "id": "aca175bd",
   "metadata": {},
   "outputs": [
    {
     "name": "stdout",
     "output_type": "stream",
     "text": [
      "\"colected_place\": a[\"Local da Coleta\"]string\n",
      "\"camada\": a[\"Camada\"]string\n",
      "\"certify\": a[\"Certificado\"]number\n",
      "\"teste_date\": a[\"Data do ensaio\"]timestamp\n"
     ]
    }
   ],
   "source": [
    "for a in occAmostra.form_fields['fields']:\n",
    "    if a.get(\"apiName\"):\n",
    "        print(f'\"{convert_string(a[\"apiName\"])}\": a[\"{a[\"displayName\"]}\"]{a[\"dataType\"]}')\n",
    "    else:\n",
    "        print(f'\"{convert_string(a[\"api_name\"])}\": a[\"{a[\"display_name\"]}\"]{a[\"data_type\"]}')\n",
    "    if a.get('dataType') == 'arrayOfObjects':\n",
    "        for b in a['innerFields']:\n",
    "            print(f'\\t\"{convert_string(b[\"apiName\"])}\": a[\"{b[\"displayName\"]}\"]{b[\"dataType\"]}')\n",
    "    if a.get('data_type') == 'arrayOfObjects':\n",
    "        for b in a['inner_fields']:\n",
    "            print(f'\\t\"{convert_string(b[\"api_name\"])}\": a[\"{b[\"display_name\"]}\"]{b[\"data_type\"]}')"
   ]
  },
  {
   "cell_type": "markdown",
   "id": "3437b129",
   "metadata": {},
   "source": [
    "## Importação Amostras"
   ]
  },
  {
   "cell_type": "code",
   "execution_count": null,
   "id": "7923204e",
   "metadata": {},
   "outputs": [],
   "source": [
    "objectsAmostra=[]\n",
    "\n",
    "for index, a in enumerate(tqdm(values)):\n",
    "    \n",
    "    try:\n",
    "        objectsAmostra.append(QualitySample(\n",
    "                    company=company,\n",
    "                    collected_at=a['Data da Coleta'],\n",
    "                    created_at=datetime.today(),\n",
    "                    created_by=user,\n",
    "                    responsible=str(User.objects.get(first_name=a['Responsável pela Coleta'].split()[0],\n",
    "                                                     last_name=a['Responsável pela Coleta'].split()[1]).uuid),\n",
    "                    quality_project=QualityProject.objects.get(project_number=a['Nº do Projeto']),\n",
    "                    project_number=a['Nº do Projeto'],\n",
    "                    construction_firm=Firm.objects.get(name=a['Construtora'],company=company),\n",
    "                    occurrence_type=occAmostra,\n",
    "                    construction_plant=ConstructionPlant.objects.get(name=a['Pedreira/Usina'],company=company),\n",
    "                    received_at=a['Data do Recebimento'],\n",
    "                    is_proof=True if a['É uma contra prova?'].lower() == 'sim' else False,\n",
    "                    form_data={\n",
    "                        \"colected_place\": a[\"Local da Coleta\"],\n",
    "                        \"camada\": a[\"Camada\"],\n",
    "                        \"certify\": a[\"Certificado\"],\n",
    "                        \"teste_date\": a[\"Data do ensaio\"].strftime('%Y-%m-%dT03:00:00.000Z')\n",
    "                        },\n",
    "                    ))\n",
    "    except Exception as e:\n",
    "        print(f'AQUI: Linha da Planilha: {index+2} erro: {e}')\n",
    "#         print(objects.form_data)\n",
    "        pass"
   ]
  },
  {
   "cell_type": "code",
   "execution_count": null,
   "id": "c23035f8",
   "metadata": {},
   "outputs": [],
   "source": [
    "objectsAmostra[0]"
   ]
  },
  {
   "cell_type": "code",
   "execution_count": null,
   "id": "d2ae8d54",
   "metadata": {},
   "outputs": [],
   "source": [
    "for amostra in tqdm(objectsAmostra):\n",
    "    amostra.save()\n",
    "    print(amostra.number)"
   ]
  },
  {
   "cell_type": "code",
   "execution_count": null,
   "id": "fc010795",
   "metadata": {},
   "outputs": [],
   "source": []
  },
  {
   "cell_type": "markdown",
   "id": "22bd0d8d",
   "metadata": {},
   "source": [
    "# Ensaio"
   ]
  },
  {
   "cell_type": "code",
   "execution_count": 23,
   "id": "2175c1f4",
   "metadata": {},
   "outputs": [
    {
     "data": {
      "text/plain": [
       "<OccurrenceType: Ensaio CBUQ - ['Arteris Via Paulista - SISOBRAS/SISQUALI']>"
      ]
     },
     "execution_count": 23,
     "metadata": {},
     "output_type": "execute_result"
    }
   ],
   "source": [
    "occEnsaio = OccurrenceType.objects.get(name='Ensaio CBUQ',company=company)\n",
    "occEnsaio"
   ]
  },
  {
   "cell_type": "code",
   "execution_count": 25,
   "id": "df08d86f",
   "metadata": {
    "scrolled": true
   },
   "outputs": [
    {
     "name": "stdout",
     "output_type": "stream",
     "text": [
      "\"teor_founded_lig\": a[\"Teor de Ligante Encontrado\"] if a[\"Teor de Ligante Encontrado\"] is not None else None,\n",
      "\"teor_founded_lig_lim_min\": a[\"Teor de Ligante Limites Min\"] if a[\"Teor de Ligante Limites Min\"] is not None else None,\n",
      "\"teor_founded_lig_lim_max\": a[\"Teor de Ligante Limites Max\"] if a[\"Teor de Ligante Limites Max\"] is not None else None,\n",
      "\"factor_consider_correct\": a[\"Fator de correção considerado\"] if a[\"Fator de correção considerado\"] is not None else None,\n",
      "\"mass_esp_max_measure\": a[\"Massa Esp. Máxima Medida (Rice)\"] if a[\"Massa Esp. Máxima Medida (Rice)\"] is not None else None,\n",
      "\"damage_damp_ind\": a[\"Danos por Umidade Induzida (%RRT)\"] if a[\"Danos por Umidade Induzida (%RRT)\"] is not None else None,\n",
      "\"mass_espec_efective_group\": a[\"Massa Específica Efetiva dos Agregados\"] if a[\"Massa Específica Efetiva dos Agregados\"] is not None else None,\n",
      "\"passerby_sample2\": a[\"(ASTM 2'')% Passante da Amostra\"] if a[\"(ASTM 2'')% Passante da Amostra\"] is not None else None,\n",
      "\"passerby_sample112\": a[\"(ASTM 1 1/2'') % Passante da Amostra\"] if a[\"(ASTM 1 1/2'') % Passante da Amostra\"] is not None else None,\n",
      "\"passerby_sample1\": a[\"(ASTM 1'') % Passante da Amostra\"] if a[\"(ASTM 1'') % Passante da Amostra\"] is not None else None,\n",
      "\"passerby_sample34\": a[\"(ASTM 3/4'') % Passante da Amostra\"] if a[\"(ASTM 3/4'') % Passante da Amostra\"] is not None else None,\n",
      "\"passerby_sample58\": a[\"(ASTM 5/8'') % Passante da Amostra\"] if a[\"(ASTM 5/8'') % Passante da Amostra\"] is not None else None,\n",
      "\"passerby_sample12\": a[\"(ASTM 1/2'') % Passante da Amostra\"] if a[\"(ASTM 1/2'') % Passante da Amostra\"] is not None else None,\n",
      "\"passerby_sample38\": a[\"(ASTM 3/8'') % Passante da Amostra\"] if a[\"(ASTM 3/8'') % Passante da Amostra\"] is not None else None,\n",
      "\"passerby_sample_n4\": a[\"(ASTM Nº4) % Passante da Amostra\"] if a[\"(ASTM Nº4) % Passante da Amostra\"] is not None else None,\n",
      "\"passerby_sample_n10\": a[\"(ASTM Nº10) % Passante da Amostra\"] if a[\"(ASTM Nº10) % Passante da Amostra\"] is not None else None,\n",
      "\"passerby_sample_n40\": a[\"(ASTM Nº40) % Passante da Amostra\"] if a[\"(ASTM Nº40) % Passante da Amostra\"] is not None else None,\n",
      "\"passerby_sample_n80\": a[\"(ASTM Nº80) % Passante da Amostra\"] if a[\"(ASTM Nº80) % Passante da Amostra\"] is not None else None,\n",
      "\"passerby_sample_n200\": a[\"(ASTM Nº200) % Passante da Amostra\"] if a[\"(ASTM Nº200) % Passante da Amostra\"] is not None else None,\n",
      "\"irre_long\": a[\"Irregularidade Longitudinal (IRI)\"] if a[\"Irregularidade Longitudinal (IRI)\"] is not None else None,\n",
      "\"tax_lig_res\": a[\"Taxa de Ligante Residual\"] if a[\"Taxa de Ligante Residual\"] is not None else None,\n",
      "\"macro_sand\": a[\"Macrotextura - Mancha de areia\"] if a[\"Macrotextura - Mancha de areia\"] is not None else None,\n",
      "\"micro_brit\": a[\"Microtextura - Pêndulo Britânico\"] if a[\"Microtextura - Pêndulo Britânico\"] is not None else None,\n",
      "\"rejected\": a[\"Rejeito (Desprendimento de agregados)\"] if a[\"Rejeito (Desprendimento de agregados)\"] is not None else None,\n",
      "\"vol_empty_low\": a[\"Volume de vazios Inferior\"] if a[\"Volume de vazios Inferior\"] is not None else None,\n",
      "\"vol_empty_high\": a[\"Volume de vazios Superior\"] if a[\"Volume de vazios Superior\"] is not None else None,\n",
      "\"required_vol\": a[\"Requisito\"] if a[\"Requisito\"] is not None else None,\n",
      "\"teor_ligante_asfalt_result\": a[\"Teor de Ligante Asfaltico\"] if a[\"Teor de Ligante Asfaltico\"] is not None else None,\n",
      "\"granulometria_result\": a[\"Granulometria\"] if a[\"Granulometria\"] is not None else None,\n",
      "\"empty_volume_result\": a[\"Volume de Vazios\"] if a[\"Volume de Vazios\"] is not None else None,\n",
      "\"umity_damage_ind_result\": a[\"Danos por Umidade Induzida\"] if a[\"Danos por Umidade Induzida\"] is not None else None,\n",
      "\"long_wrong_result\": a[\"Irregularidade Longitudinal\"] if a[\"Irregularidade Longitudinal\"] is not None else None,\n",
      "\"macrotextura_result\": a[\"Macrotextura\"] if a[\"Macrotextura\"] is not None else None,\n",
      "\"microtextura_result\": a[\"Microtextura\"] if a[\"Microtextura\"] is not None else None,\n",
      "\"loose_aggregated_result\": a[\"Desprendimento de Agregado\"] if a[\"Desprendimento de Agregado\"] is not None else None,\n",
      "\"density_result\": a[\"Densidade\"] if a[\"Densidade\"] is not None else None,\n"
     ]
    }
   ],
   "source": [
    "for a in occEnsaio.form_fields['fields']:\n",
    "    if a.get(\"apiName\"):\n",
    "        print(f'\"{convert_string(a[\"apiName\"])}\": a[\"{a[\"displayName\"]}\"] if a[\"{a[\"displayName\"]}\"] is not None else None,')\n",
    "    else:\n",
    "        print(f'\"{convert_string(a[\"api_name\"])}\": a[\"{a[\"display_name\"]}\"] if a[\"{a[\"displayName\"]}\"] is not None else None,')\n",
    "    if a.get('dataType') == 'arrayOfObjects':\n",
    "        for b in a['innerFields']:\n",
    "            print(f'\\t\"{convert_string(b[\"apiName\"])}\": a[\"{b[\"displayName\"]}\"] if a[\"{a[\"displayName\"]}\"] is not None else None,')\n",
    "    if a.get('data_type') == 'arrayOfObjects':\n",
    "        for b in a['inner_fields']:\n",
    "            print(f'\\t\"{convert_string(b[\"api_name\"])}\": a[\"{b[\"display_name\"]}\"] if a[\"{a[\"displayName\"]}\"] is not None else None,')"
   ]
  },
  {
   "cell_type": "markdown",
   "id": "a191fa7a",
   "metadata": {},
   "source": [
    "## Importação Ensaio"
   ]
  },
  {
   "cell_type": "code",
   "execution_count": 26,
   "id": "d5b410ec",
   "metadata": {},
   "outputs": [
    {
     "data": {
      "text/plain": [
       "(<ManyToManyRel: quality_control.qualityassay>,\n",
       " <django.db.models.fields.UUIDField: uuid>,\n",
       " <django.db.models.fields.CharField: number>,\n",
       " <django.db.models.fields.related.ForeignKey: company>,\n",
       " <django.db.models.fields.DateTimeField: created_at>,\n",
       " <django.db.models.fields.DateTimeField: executed_at>,\n",
       " <django.db.models.fields.related.ForeignKey: created_by>,\n",
       " <django.db.models.fields.related.ForeignKey: responsible>,\n",
       " <django.db.models.fields.related.ForeignKey: quality_project>,\n",
       " <django.db.models.fields.related.ForeignKey: occurrence_type>,\n",
       " <django.db.models.fields.related.ForeignKey: quality_sample>,\n",
       " <django.contrib.postgres.fields.jsonb.JSONField: form_data>,\n",
       " <django.db.models.fields.TextField: notes>,\n",
       " <django.db.models.fields.related.ForeignKey: csv_import>,\n",
       " <django.db.models.fields.related.ManyToManyField: related_assays>,\n",
       " <django.db.models.fields.related.ManyToManyField: reportings>)"
      ]
     },
     "execution_count": 26,
     "metadata": {},
     "output_type": "execute_result"
    }
   ],
   "source": [
    "QualityAssay._meta.get_fields()"
   ]
  },
  {
   "cell_type": "code",
   "execution_count": null,
   "id": "fe9bc5c2",
   "metadata": {},
   "outputs": [],
   "source": [
    "objectsEnsaio=[]\n",
    "\n",
    "for index, a in enumerate(tqdm(values)):\n",
    "    \n",
    "    try:\n",
    "        objectsEnsaio.append(QualityAssay(\n",
    "                    company=company,\n",
    "                    created_at=a['Data de Criação'],\n",
    "                    created_by=user,\n",
    "                    responsible=str(User.objects.get(first_name=a['Responsável pela Coleta'].split()[0],\n",
    "                                                     last_name=a['Responsável pela Coleta'].split()[1]).uuid),\n",
    "                    quality_project=QualityProject.objects.get(project_number=a['Nº do Projeto']),\n",
    "                    project_number=a['Nº do Projeto'],\n",
    "                    form_data={\n",
    "                        \"teor_founded_lig\": a[\"Teor de Ligante Encontrado\"] if a[\"Teor de Ligante Encontrado\"] is not None else None,\n",
    "                        \"teor_founded_lig_lim_min\": a[\"Teor de Ligante Limites Min\"] if a[\"Teor de Ligante Limites Min\"] is not None else None,\n",
    "                        \"teor_founded_lig_lim_max\": a[\"Teor de Ligante Limites Max\"] if a[\"Teor de Ligante Limites Max\"] is not None else None,\n",
    "                        \"factor_consider_correct\": a[\"Fator de correção considerado\"] if a[\"Fator de correção considerado\"] is not None else None,\n",
    "                        \"mass_esp_max_measure\": a[\"Massa Esp. Máxima Medida (Rice)\"] if a[\"Massa Esp. Máxima Medida (Rice)\"] is not None else None,\n",
    "                        \"damage_damp_ind\": a[\"Danos por Umidade Induzida (%RRT)\"] if a[\"Danos por Umidade Induzida (%RRT)\"] is not None else None,\n",
    "                        \"mass_espec_efective_group\": a[\"Massa Específica Efetiva dos Agregados\"] if a[\"Massa Específica Efetiva dos Agregados\"] is not None else None,\n",
    "                        \"passerby_sample2\": a[\"(ASTM 2'')% Passante da Amostra\"] if a[\"(ASTM 2'')% Passante da Amostra\"] is not None else None,\n",
    "                        \"passerby_sample112\": a[\"(ASTM 1 1/2'') % Passante da Amostra\"] if a[\"(ASTM 1 1/2'') % Passante da Amostra\"] is not None else None,\n",
    "                        \"passerby_sample1\": a[\"(ASTM 1'') % Passante da Amostra\"] if a[\"(ASTM 1'') % Passante da Amostra\"] is not None else None,\n",
    "                        \"passerby_sample34\": a[\"(ASTM 3/4'') % Passante da Amostra\"] if a[\"(ASTM 3/4'') % Passante da Amostra\"] is not None else None,\n",
    "                        \"passerby_sample58\": a[\"(ASTM 5/8'') % Passante da Amostra\"] if a[\"(ASTM 5/8'') % Passante da Amostra\"] is not None else None,\n",
    "                        \"passerby_sample12\": a[\"(ASTM 1/2'') % Passante da Amostra\"] if a[\"(ASTM 1/2'') % Passante da Amostra\"] is not None else None,\n",
    "                        \"passerby_sample38\": a[\"(ASTM 3/8'') % Passante da Amostra\"] if a[\"(ASTM 3/8'') % Passante da Amostra\"] is not None else None,\n",
    "                        \"passerby_sample_n4\": a[\"(ASTM Nº4) % Passante da Amostra\"] if a[\"(ASTM Nº4) % Passante da Amostra\"] is not None else None,\n",
    "                        \"passerby_sample_n10\": a[\"(ASTM Nº10) % Passante da Amostra\"] if a[\"(ASTM Nº10) % Passante da Amostra\"] is not None else None,\n",
    "                        \"passerby_sample_n40\": a[\"(ASTM Nº40) % Passante da Amostra\"] if a[\"(ASTM Nº40) % Passante da Amostra\"] is not None else None,\n",
    "                        \"passerby_sample_n80\": a[\"(ASTM Nº80) % Passante da Amostra\"] if a[\"(ASTM Nº80) % Passante da Amostra\"] is not None else None,\n",
    "                        \"passerby_sample_n200\": a[\"(ASTM Nº200) % Passante da Amostra\"] if a[\"(ASTM Nº200) % Passante da Amostra\"] is not None else None,\n",
    "                        \"irre_long\": get_value('Irregularidade Longitudinal (IRI)',occurrence_type,a[\"Irregularidade Longitudinal (IRI)\"].strip()) if a[\"Irregularidade Longitudinal (IRI)\"] is not None else None,\n",
    "                        \"tax_lig_res\": a[\"Taxa de Ligante Residual\"] if a[\"Taxa de Ligante Residual\"] is not None else None,\n",
    "                        \"macro_sand\": a[\"Macrotextura - Mancha de areia\"] if a[\"Macrotextura - Mancha de areia\"] is not None else None,\n",
    "                        \"micro_brit\": a[\"Microtextura - Pêndulo Britânico\"] if a[\"Microtextura - Pêndulo Britânico\"] is not None else None,\n",
    "                        \"rejected\": a[\"Rejeito (Desprendimento de agregados)\"] if a[\"Rejeito (Desprendimento de agregados)\"] is not None else None,\n",
    "                        \"vol_empty_low\": a[\"Volume de vazios Inferior\"] if a[\"Volume de vazios Inferior\"] is not None else None,\n",
    "                        \"vol_empty_high\": a[\"Volume de vazios Superior\"] if a[\"Volume de vazios Superior\"] is not None else None,\n",
    "                        \"required_vol\": a[\"Requisito\"] if a[\"Requisito\"] is not None else None,\n",
    "                        \"teor_ligante_asfalt_result\": a[\"Teor de Ligante Asfaltico\"] if a[\"Teor de Ligante Asfaltico\"] is not None else None,\n",
    "                        \"granulometria_result\": a[\"Granulometria\"] if a[\"Granulometria\"] is not None else None,\n",
    "                        \"empty_volume_result\": a[\"Volume de Vazios\"] if a[\"Volume de Vazios\"] is not None else None,\n",
    "                        \"umity_damage_ind_result\": a[\"Danos por Umidade Induzida\"] if a[\"Danos por Umidade Induzida\"] is not None else None,\n",
    "                        \"long_wrong_result\": a[\"Irregularidade Longitudinal\"] if a[\"Irregularidade Longitudinal\"] is not None else None,\n",
    "                        \"macrotextura_result\": a[\"Macrotextura\"] if a[\"Macrotextura\"] is not None else None,\n",
    "                        \"microtextura_result\": a[\"Microtextura\"] if a[\"Microtextura\"] is not None else None,\n",
    "                        \"loose_aggregated_result\": a[\"Desprendimento de Agregado\"] if a[\"Desprendimento de Agregado\"] is not None else None,\n",
    "                        \"density_result\": a[\"Densidade\"] if a[\"Densidade\"] is not None else None,\n",
    "                        },\n",
    "                    ))\n",
    "    except Exception as e:\n",
    "        print(f'AQUI: Linha da Planilha: {index+2} erro: {e}')\n",
    "#         print(objects.form_data)\n",
    "        pass"
   ]
  },
  {
   "cell_type": "code",
   "execution_count": null,
   "id": "b2a72e82",
   "metadata": {},
   "outputs": [],
   "source": [
    "objectsEnsaio[0]"
   ]
  },
  {
   "cell_type": "code",
   "execution_count": null,
   "id": "3d6daf55",
   "metadata": {},
   "outputs": [],
   "source": [
    "for ensaio in tqdm(objectsEnsaio):\n",
    "    ensaio.save()\n",
    "    print(ensaio.number)"
   ]
  }
 ],
 "metadata": {
  "kernelspec": {
   "display_name": "Django Shell-Plus",
   "language": "python",
   "name": "django_extensions"
  },
  "language_info": {
   "codemirror_mode": {
    "name": "ipython",
    "version": 3
   },
   "file_extension": ".py",
   "mimetype": "text/x-python",
   "name": "python",
   "nbconvert_exporter": "python",
   "pygments_lexer": "ipython3",
   "version": "3.7.9"
  }
 },
 "nbformat": 4,
 "nbformat_minor": 5
}
