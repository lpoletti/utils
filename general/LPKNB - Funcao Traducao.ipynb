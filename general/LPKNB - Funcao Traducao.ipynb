{
 "cells": [
  {
   "cell_type": "code",
   "execution_count": 3,
   "id": "34d8de6f",
   "metadata": {},
   "outputs": [
    {
     "data": {
      "text/plain": [
       "<Company: 7c7b39ac-7711-420a-9402-0859df283634: Rota do Oeste>"
      ]
     },
     "execution_count": 3,
     "metadata": {},
     "output_type": "execute_result"
    }
   ],
   "source": [
    "# company = Company.objects.get(name=\"Rota do Oeste\")\n",
    "# company"
   ]
  },
  {
   "cell_type": "code",
   "execution_count": 46,
   "id": "1bffba2b",
   "metadata": {},
   "outputs": [],
   "source": [
    "# ock = company.custom_options['reporting']['fields']['occurrence_kind']['select_options']['options']\n",
    "# occ = company.custom_options['occurrence_type']['fields']['occurrence_kind']['select_options']['options']"
   ]
  },
  {
   "cell_type": "code",
   "execution_count": 42,
   "id": "6b13e62f",
   "metadata": {
    "scrolled": true
   },
   "outputs": [
    {
     "name": "stdout",
     "output_type": "stream",
     "text": [
      "Pluviométrico\n",
      "Pluviométrico\n"
     ]
    }
   ],
   "source": []
  },
  {
   "cell_type": "code",
   "execution_count": 1,
   "id": "8fa32a77",
   "metadata": {},
   "outputs": [],
   "source": [
    "def traduzirNaturezaSnake(valorKind,company):\n",
    "    ock = company.custom_options['reporting']['fields']['occurrence_kind']['select_options']['options']\n",
    "    for v in ock:\n",
    "        if v['value'] == str(valorKind):\n",
    "            return v['name']\n",
    "def traduzirNaturezaCamel(valorKind,company):\n",
    "    ock = company.custom_options['reporting']['fields']['occurrenceKind']['selectOptions']['options']\n",
    "    for v in ock:\n",
    "        if v['value'] == str(valorKind):\n",
    "            return v['name']\n",
    "def traduzirLane(name,company):\n",
    "    for a in company.custom_options['reporting']['fields']['lane']['select_options']['options']:\n",
    "        if a['name'].lower() == name.lower():\n",
    "            return a['value']\n",
    "def traduzirDir(name,company):\n",
    "    for a in company.custom_options['reporting']['fields']['direction']['select_options']['options']:\n",
    "        if a['name'].lower() == name.lower():\n",
    "            return a['value']"
   ]
  },
  {
   "cell_type": "code",
   "execution_count": 4,
   "id": "50b84a31",
   "metadata": {},
   "outputs": [],
   "source": [
    "lst_ock=company.custom_options['reporting']['fields']['occurrenceKind']['selectOptions']['options']\n",
    "            \n",
    "traduzirNaturezaName = lambda name: ''.join([item['value'] for item in lst_ock if item['name'].lower() == name.lower()])\n",
    "traduzirNaturezaValue = lambda value: ''.join([item['name'] for item in lst_ock if item['value'].lower() == value.lower()])\n",
    "\n",
    "# traduzirNaturezaName = lambda name: ''.join([item['value'] for item in company.custom_options['reporting']['fields']['occurrenceKind']['selectOptions']['options'] if item['name'].lower() == name.lower()])\n",
    "# traduzirNaturezaValue = lambda value: ''.join([item['name'] for item in company.custom_options['reporting']['fields']['occurrenceKind']['selectOptions']['options'] if item['value'].lower() == value.lower()])\n",
    "    "
   ]
  },
  {
   "cell_type": "code",
   "execution_count": 19,
   "id": "7f057a7a",
   "metadata": {},
   "outputs": [],
   "source": [
    "lst_ock=company.custom_options['reporting']['fields']['occurrenceKind']['selectOptions']['options']\n",
    "traduzirNaturezaValue = lambda value: ''.join([item['name'] for item in lst_ock if item['value'].lower() == value.lower()])"
   ]
  },
  {
   "cell_type": "code",
   "execution_count": 32,
   "id": "75e14bd6",
   "metadata": {},
   "outputs": [
    {
     "data": {
      "text/plain": [
       "'Estruturas'"
      ]
     },
     "execution_count": 32,
     "metadata": {},
     "output_type": "execute_result"
    }
   ],
   "source": [
    "# translate = lambda value: [{'name': item['name'], 'value': item['value']} for item in lst if item['value'].lower() == value.lower()]\n",
    "\n",
    "# translated_data = translate('10')\n",
    "# translated_data"
   ]
  },
  {
   "cell_type": "code",
   "execution_count": 16,
   "id": "ffa9cf45",
   "metadata": {},
   "outputs": [],
   "source": [
    "# deletar = ['Levantamento','Pavimento','Dispositivo de Drenagem','Sinalização','Edificações','Faixa de Domínio','OAE','Pavimento/Operação','Proteção e Segurança','Iluminação','Terraplenos e Estruturas de Contenção','TODOS']"
   ]
  },
  {
   "cell_type": "code",
   "execution_count": 17,
   "id": "386ff40d",
   "metadata": {},
   "outputs": [
    {
     "data": {
      "text/plain": [
       "12"
      ]
     },
     "execution_count": 17,
     "metadata": {},
     "output_type": "execute_result"
    }
   ],
   "source": [
    "# len(deletar)"
   ]
  },
  {
   "cell_type": "code",
   "execution_count": 51,
   "id": "ebb64223",
   "metadata": {},
   "outputs": [],
   "source": [
    "# for index, v in enumerate(occ):\n",
    "#     if v['name'] in deletar:\n",
    "#         del occ[index]"
   ]
  },
  {
   "cell_type": "code",
   "execution_count": 54,
   "id": "13632927",
   "metadata": {
    "collapsed": true
   },
   "outputs": [
    {
     "data": {
      "text/plain": [
       "[{'name': 'Inventário', 'value': '2'},\n",
       " {'name': 'Dispositivo de Drenagem', 'value': '8'},\n",
       " {'name': 'Edificações', 'value': '12'},\n",
       " {'name': 'OAE', 'value': '14'},\n",
       " {'name': 'Proteção e Segurança', 'value': '16'},\n",
       " {'name': 'Terraplenos e Estruturas de Contenção', 'value': '18'},\n",
       " {'name': '3.1.1 - Pavimento', 'value': '20'},\n",
       " {'name': '3.1.2 - Sinalização e Elementos de Proteção e Segurança',\n",
       "  'value': '21'},\n",
       " {'name': '3.1.3 - Obra de Artes Especiais', 'value': '22'},\n",
       " {'name': '3.1.4 - OAC / Drenagem', 'value': '23'},\n",
       " {'name': '3.1.6 - Faixa de Domínio', 'value': '24'},\n",
       " {'name': '3.1.7 - Edificações e Instalações Operacionais', 'value': '25'},\n",
       " {'name': '3.4 - Frente de Serviços Operacionais', 'value': '27'},\n",
       " {'name': 'Monitoração', 'value': '26'},\n",
       " {'name': 'Retrorrefletância', 'value': '99'},\n",
       " {'name': 'Pluviométrico', 'value': '28'}]"
      ]
     },
     "execution_count": 54,
     "metadata": {},
     "output_type": "execute_result"
    }
   ],
   "source": [
    "# ock"
   ]
  },
  {
   "cell_type": "code",
   "execution_count": null,
   "id": "2b242bf3",
   "metadata": {},
   "outputs": [],
   "source": []
  }
 ],
 "metadata": {
  "kernelspec": {
   "display_name": "Django Shell-Plus",
   "language": "python",
   "name": "django_extensions"
  },
  "language_info": {
   "codemirror_mode": {
    "name": "ipython",
    "version": 3
   },
   "file_extension": ".py",
   "mimetype": "text/x-python",
   "name": "python",
   "nbconvert_exporter": "python",
   "pygments_lexer": "ipython3",
   "version": "3.7.9"
  }
 },
 "nbformat": 4,
 "nbformat_minor": 5
}
