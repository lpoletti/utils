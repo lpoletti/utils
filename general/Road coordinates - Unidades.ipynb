{
 "cells": [
  {
   "cell_type": "code",
   "execution_count": 1,
   "metadata": {},
   "outputs": [],
   "source": [
    "import numpy\n",
    "from numpy import arange\n",
    "from helpers.km_converter import km_to_coordinates\n",
    "from collections import defaultdict\n",
    "from openpyxl import Workbook\n",
    "from django.db.models import Q\n",
    "from tqdm.notebook import tqdm\n",
    "from helpers.apps.json_logic import apply_json_logic"
   ]
  },
  {
   "cell_type": "code",
   "execution_count": 2,
   "metadata": {},
   "outputs": [
    {
     "data": {
      "text/plain": [
       "62"
      ]
     },
     "execution_count": 2,
     "metadata": {},
     "output_type": "execute_result"
    }
   ],
   "source": [
    "company = Company.objects.get(name='Eixo SP')\n",
    "\n",
    "roads = Road.objects.filter(company=company).order_by('name')\n",
    "roads.count()"
   ]
  },
  {
   "cell_type": "code",
   "execution_count": 10,
   "metadata": {},
   "outputs": [],
   "source": [
    "filename = 'Coordinates_'+company.name+'.xlsx'"
   ]
  },
  {
   "cell_type": "markdown",
   "metadata": {},
   "source": [
    "# Export Roads and Lote"
   ]
  },
  {
   "cell_type": "code",
   "execution_count": 3,
   "metadata": {},
   "outputs": [
    {
     "data": {
      "text/plain": [
       "[{'name': 'São Pedro', 'value': '1'},\n",
       " {'name': 'Itirapina', 'value': '2'},\n",
       " {'name': 'Marília', 'value': '3'},\n",
       " {'name': 'Martinópolis', 'value': '4'}]"
      ]
     },
     "execution_count": 3,
     "metadata": {},
     "output_type": "execute_result"
    }
   ],
   "source": [
    "lotes_company = company.custom_options['reporting']['fields']['lot']['selectOptions']['options']\n",
    "lotes_company"
   ]
  },
  {
   "cell_type": "code",
   "execution_count": 22,
   "metadata": {},
   "outputs": [],
   "source": [
    "kms = defaultdict(list)\n",
    "road_lotes={}\n",
    "lotes=[]\n",
    "for road in roads:\n",
    "    road_lotes[road.name]=set()\n",
    "    if road.lot_logic:\n",
    "        for i in range(1,20,2):\n",
    "            try:\n",
    "                valor=road.lot_logic['if'][int(i)]\n",
    "                name_lote=next(a['name'] for a in lotes_company if valor == a['value'])\n",
    "                \n",
    "                road_lotes[road.name].add(name_lote)\n",
    "            except:\n",
    "                break\n",
    "    lotes = ', '.join(road_lotes[road.name])\n",
    "    \n",
    "    start = road.marks['0']['km']\n",
    "    end = road.marks[list(road.marks.keys())[-1]]['km']\n",
    "#     print('\\n')\n",
    "    \n",
    "    if start > end:\n",
    "        temp = end\n",
    "        end = start\n",
    "        start = temp\n",
    "    try:\n",
    "#         coordinate = km_to_coordinates(road, round(km, 3))\n",
    "        kms[road.name + \" (\" + str(road.id) + \")\"].append((float(start), float(end), lotes))\n",
    "    except Exception as e:\n",
    "        print(repr(e), lotes,road.name)\n",
    "#             pass\n",
    "#             print(road.name, road.id, km)"
   ]
  },
  {
   "cell_type": "code",
   "execution_count": 23,
   "metadata": {
    "scrolled": true
   },
   "outputs": [
    {
     "data": {
      "text/plain": [
       "defaultdict(list,\n",
       "            {'SP-191 (516)': [(74.42, 98.999, 'São Pedro')],\n",
       "             'SP-191 (542)': [(99.0, 115.61, 'São Pedro')],\n",
       "             'SP-197 (519)': [(0.0, 20.02, 'São Pedro')],\n",
       "             'SP-225 (561)': [(91.43, 235.04, 'Itirapina')],\n",
       "             'SP-261 (523)': [(150.6, 183.7, 'Itirapina')],\n",
       "             'SP-284 (530)': [(447.0, 506.001, 'Martinópolis')],\n",
       "             'SP-284 (546)': [(506.0, 550.53, 'Martinópolis')],\n",
       "             'SP-293 (521)': [(0.0, 24.6, 'Marília')],\n",
       "             'SP-294 (509)': [(560.0, 687.0, 'Martinópolis, Marília')],\n",
       "             'SP-294 (564)': [(458.0, 560.0, 'Martinópolis, Marília')],\n",
       "             'SP-294 (563)': [(347.0, 451.8, 'Martinópolis, Marília')],\n",
       "             'SP-304 (552)': [(272.0, 294.0, 'São Pedro')],\n",
       "             'SP-304 (511)': [(168.0, 234.0, 'São Pedro')],\n",
       "             'SP-304 (551)': [(234.0, 272.0, 'São Pedro')],\n",
       "             'SP-308 (513)': [(173.62, 194.2, 'São Pedro')],\n",
       "             'SP-310 (562)': [(153.25, 227.8, 'Itirapina')],\n",
       "             'SP-331 (539)': [(165.0, 206.532, 'Marília')],\n",
       "             'SP-425 (565)': [(0.0, 11.2, 'Martinópolis')],\n",
       "             'SP-425 (536)': [(374.35, 450.3, 'Martinópolis')],\n",
       "             'SPA-005/197 (515)': [(0.0, 5.0, 'São Pedro')],\n",
       "             'SPA-006/293 (525)': [(0.07, 0.16, 'Marília')],\n",
       "             'SPA-017/293 (527)': [(0.16, 0.8, 'Marília')],\n",
       "             'SPA-130/225 (566)': [(0.0, 1.08, 'Itirapina')],\n",
       "             'SPA-159/225 (567)': [(0.0, 11.6, 'Itirapina')],\n",
       "             'SPA-160/225 (571)': [(0.0, 2.0, 'Itirapina')],\n",
       "             'SPA-193/310 (533)': [(1.0, 9.0, 'Itirapina')],\n",
       "             'SPA-195/225 (572)': [(0.0, 8.0, 'Itirapina')],\n",
       "             'SPA-195/304 (538)': [(0.0, 3.0, 'São Pedro')],\n",
       "             'SPA-195/331 (518)': [(0.0, 0.6, 'Marília')],\n",
       "             'SPA-196/331 (524)': [(0.0, 5.6, 'Marília')],\n",
       "             'SPA-198/304 (499)': [(0.0, 0.65, 'São Pedro')],\n",
       "             'SPA-200/310 (558)': [(0.0, 2.999, 'Itirapina')],\n",
       "             'SPA-200/310 (496)': [(3.0, 10.0, 'Itirapina')],\n",
       "             'SPA-201/304 (541)': [(0.0, 1.98, 'São Pedro')],\n",
       "             'SPA-223/304 (526)': [(0.0, 2.1, 'São Pedro')],\n",
       "             'SPA-227/304 (532)': [(0.0, 1.0, 'São Pedro')],\n",
       "             'SPA-228/225 (573)': [(0.0, 6.0, 'Itirapina')],\n",
       "             'SPA-360/294 (504)': [(0.02, 10.85, 'Marília')],\n",
       "             'SPA-402/294 (505)': [(0.0, 3.25, 'Marília')],\n",
       "             'SPA-420/294 (685)': [(0.0, 2.88, 'Marília')],\n",
       "             'SPA-431/425 (500)': [(0.0, 14.985, 'Martinópolis')],\n",
       "             'SPA-437/425 (537)': [(0.0, 2.91, 'Martinópolis')],\n",
       "             'SPA-475/284 (495)': [(0.0, 0.387, 'Martinópolis')],\n",
       "             'SPA-498/284 (502)': [(0.0, 6.125, 'Martinópolis')],\n",
       "             'SPA-498/294 (514)': [(0.0, 0.17, 'Marília')],\n",
       "             'SPA-504/284 (506)': [(0.0, 0.32, 'Martinópolis')],\n",
       "             'SPA-511/294 (522)': [(0.0, 0.29, 'Marília')],\n",
       "             'SPA-517/284 (498)': [(0.0, 0.4, 'Martinópolis')],\n",
       "             'SPA-570/294 (520)': [(10.0, 16.846, 'Martinópolis')],\n",
       "             'SPA-570/294 (540)': [(0.0, 10.0, 'Martinópolis')],\n",
       "             'SPA-571/294 (508)': [(0.0, 15.95, 'Martinópolis')],\n",
       "             'SPA-578/294 (528)': [(0.0, 1.45, 'Martinópolis')],\n",
       "             'SPA-585/294 (510)': [(0.0, 0.287, 'Martinópolis')],\n",
       "             'SPA-592/294 (512)': [(0.0, 18.6, 'Martinópolis')],\n",
       "             'SPA-605/294 (517)': [(0.0, 1.5, 'Martinópolis')],\n",
       "             'SPA-616/294 (503)': [(0.0, 1.5, 'Martinópolis')],\n",
       "             'SPA-617/294 (534)': [(0.0, 0.16, 'Martinópolis')],\n",
       "             'SPA-627/294 (529)': [(0.0, 3.315, 'Martinópolis')],\n",
       "             'SPA-658/294 (531)': [(0.0, 4.993, 'Martinópolis')],\n",
       "             'SPA-683/294 (497)': [(0.0, 2.205, 'Martinópolis')],\n",
       "             'SPI-083/191 (507)': [(0.0, 10.36, 'São Pedro')],\n",
       "             'SPI-194/308 (535)': [(0.0, 3.1, 'São Pedro')]})"
      ]
     },
     "execution_count": 23,
     "metadata": {},
     "output_type": "execute_result"
    }
   ],
   "source": [
    "kms"
   ]
  },
  {
   "cell_type": "code",
   "execution_count": 38,
   "metadata": {},
   "outputs": [],
   "source": [
    "wb = Workbook()"
   ]
  },
  {
   "cell_type": "code",
   "execution_count": 39,
   "metadata": {},
   "outputs": [],
   "source": [
    "ws = wb.create_sheet(title='Rodovias-Lotes')\n",
    "ws.append(['RODOVIA','KM INICIAL', 'KM FINAL', 'LOTES'])\n",
    "for names, marks in kms.items():\n",
    "    \n",
    "    for mark in marks:\n",
    "        l=list(mark)\n",
    "        l.insert(0,names)\n",
    "        ws.append(l)"
   ]
  },
  {
   "cell_type": "code",
   "execution_count": 40,
   "metadata": {},
   "outputs": [],
   "source": [
    "wb.save(filename=filename)"
   ]
  },
  {
   "cell_type": "markdown",
   "metadata": {},
   "source": [
    "# Export roads + lat/long por metro ou km"
   ]
  },
  {
   "cell_type": "code",
   "execution_count": 5,
   "metadata": {},
   "outputs": [
    {
     "name": "stdout",
     "output_type": "stream",
     "text": [
      "\n",
      "\n"
     ]
    },
    {
     "data": {
      "application/vnd.jupyter.widget-view+json": {
       "model_id": "ed5c1b8128444e139a306685f8365a10",
       "version_major": 2,
       "version_minor": 0
      },
      "text/plain": [
       "  0%|          | 0/752 [00:00<?, ?it/s]"
      ]
     },
     "metadata": {},
     "output_type": "display_data"
    },
    {
     "name": "stdout",
     "output_type": "stream",
     "text": [
      "TypeError(\"'NoneType' object is not subscriptable\")\n",
      "\n",
      "\n"
     ]
    },
    {
     "data": {
      "application/vnd.jupyter.widget-view+json": {
       "model_id": "a12a766729b94e2bb2867d19ce89d5a8",
       "version_major": 2,
       "version_minor": 0
      },
      "text/plain": [
       "  0%|          | 0/1717 [00:00<?, ?it/s]"
      ]
     },
     "metadata": {},
     "output_type": "display_data"
    },
    {
     "name": "stdout",
     "output_type": "stream",
     "text": [
      "TypeError(\"'NoneType' object is not subscriptable\")\n",
      "\n",
      "\n"
     ]
    },
    {
     "data": {
      "application/vnd.jupyter.widget-view+json": {
       "model_id": "758789b38ca84168a3b8056ee499f8d9",
       "version_major": 2,
       "version_minor": 0
      },
      "text/plain": [
       "  0%|          | 0/7257 [00:00<?, ?it/s]"
      ]
     },
     "metadata": {},
     "output_type": "display_data"
    },
    {
     "name": "stdout",
     "output_type": "stream",
     "text": [
      "TypeError(\"'NoneType' object is not subscriptable\")\n",
      "\n",
      "\n"
     ]
    },
    {
     "data": {
      "application/vnd.jupyter.widget-view+json": {
       "model_id": "fa799200845a4f8aab1c85804001506e",
       "version_major": 2,
       "version_minor": 0
      },
      "text/plain": [
       "  0%|          | 0/4102 [00:00<?, ?it/s]"
      ]
     },
     "metadata": {},
     "output_type": "display_data"
    },
    {
     "name": "stdout",
     "output_type": "stream",
     "text": [
      "TypeError(\"'NoneType' object is not subscriptable\")\n",
      "\n",
      "\n"
     ]
    },
    {
     "data": {
      "application/vnd.jupyter.widget-view+json": {
       "model_id": "87498f9572c94946a8f34aee368a08a9",
       "version_major": 2,
       "version_minor": 0
      },
      "text/plain": [
       "  0%|          | 0/1729 [00:00<?, ?it/s]"
      ]
     },
     "metadata": {},
     "output_type": "display_data"
    },
    {
     "name": "stdout",
     "output_type": "stream",
     "text": [
      "TypeError(\"'NoneType' object is not subscriptable\")\n",
      "\n",
      "\n"
     ]
    },
    {
     "data": {
      "application/vnd.jupyter.widget-view+json": {
       "model_id": "152f54be9c064b78890ef1722804173e",
       "version_major": 2,
       "version_minor": 0
      },
      "text/plain": [
       "  0%|          | 0/992 [00:00<?, ?it/s]"
      ]
     },
     "metadata": {},
     "output_type": "display_data"
    },
    {
     "name": "stdout",
     "output_type": "stream",
     "text": [
      "TypeError(\"'NoneType' object is not subscriptable\")\n",
      "\n",
      "\n"
     ]
    },
    {
     "data": {
      "application/vnd.jupyter.widget-view+json": {
       "model_id": "460d93e1b78843f493eb08e940e7a8b4",
       "version_major": 2,
       "version_minor": 0
      },
      "text/plain": [
       "  0%|          | 0/1376 [00:00<?, ?it/s]"
      ]
     },
     "metadata": {},
     "output_type": "display_data"
    },
    {
     "name": "stdout",
     "output_type": "stream",
     "text": [
      "TypeError(\"'NoneType' object is not subscriptable\")\n",
      "\n",
      "\n"
     ]
    },
    {
     "data": {
      "application/vnd.jupyter.widget-view+json": {
       "model_id": "f70f3c68f49642cf80d7f8a3d002e558",
       "version_major": 2,
       "version_minor": 0
      },
      "text/plain": [
       "  0%|          | 0/602 [00:00<?, ?it/s]"
      ]
     },
     "metadata": {},
     "output_type": "display_data"
    },
    {
     "name": "stdout",
     "output_type": "stream",
     "text": [
      "TypeError(\"'NoneType' object is not subscriptable\")\n",
      "\n",
      "\n"
     ]
    },
    {
     "data": {
      "application/vnd.jupyter.widget-view+json": {
       "model_id": "bb3058a43d2e4fd69716a6a7ac408c79",
       "version_major": 2,
       "version_minor": 0
      },
      "text/plain": [
       "  0%|          | 0/2232 [00:00<?, ?it/s]"
      ]
     },
     "metadata": {},
     "output_type": "display_data"
    },
    {
     "name": "stdout",
     "output_type": "stream",
     "text": [
      "TypeError(\"'NoneType' object is not subscriptable\")\n",
      "\n",
      "\n"
     ]
    },
    {
     "data": {
      "application/vnd.jupyter.widget-view+json": {
       "model_id": "d774eb5054124b42af459ccb99a3ee9b",
       "version_major": 2,
       "version_minor": 0
      },
      "text/plain": [
       "  0%|          | 0/232 [00:00<?, ?it/s]"
      ]
     },
     "metadata": {},
     "output_type": "display_data"
    },
    {
     "name": "stdout",
     "output_type": "stream",
     "text": [
      "TypeError(\"'NoneType' object is not subscriptable\")\n",
      "\n",
      "\n"
     ]
    },
    {
     "data": {
      "application/vnd.jupyter.widget-view+json": {
       "model_id": "2f13792db2fc4d7dab04549628ebca6d",
       "version_major": 2,
       "version_minor": 0
      },
      "text/plain": [
       "  0%|          | 0/641 [00:00<?, ?it/s]"
      ]
     },
     "metadata": {},
     "output_type": "display_data"
    },
    {
     "name": "stdout",
     "output_type": "stream",
     "text": [
      "TypeError(\"'NoneType' object is not subscriptable\")\n",
      "TypeError(\"'NoneType' object is not subscriptable\")\n",
      "\n",
      "\n"
     ]
    },
    {
     "data": {
      "application/vnd.jupyter.widget-view+json": {
       "model_id": "7019882ebbe94cbcbe4fe8b2caf29de0",
       "version_major": 2,
       "version_minor": 0
      },
      "text/plain": [
       "  0%|          | 0/136 [00:00<?, ?it/s]"
      ]
     },
     "metadata": {},
     "output_type": "display_data"
    },
    {
     "name": "stdout",
     "output_type": "stream",
     "text": [
      "TypeError(\"'NoneType' object is not subscriptable\")\n",
      "\n",
      "\n"
     ]
    },
    {
     "data": {
      "application/vnd.jupyter.widget-view+json": {
       "model_id": "8b447624c2144e7cb173cfce02ed8f99",
       "version_major": 2,
       "version_minor": 0
      },
      "text/plain": [
       "  0%|          | 0/3952 [00:00<?, ?it/s]"
      ]
     },
     "metadata": {},
     "output_type": "display_data"
    },
    {
     "name": "stdout",
     "output_type": "stream",
     "text": [
      "TypeError(\"'NoneType' object is not subscriptable\")\n",
      "\n",
      "\n"
     ]
    },
    {
     "data": {
      "application/vnd.jupyter.widget-view+json": {
       "model_id": "8fa13c9bad204eefbf46b357037fcdbc",
       "version_major": 2,
       "version_minor": 0
      },
      "text/plain": [
       "  0%|          | 0/4552 [00:00<?, ?it/s]"
      ]
     },
     "metadata": {},
     "output_type": "display_data"
    },
    {
     "name": "stdout",
     "output_type": "stream",
     "text": [
      "TypeError(\"'NoneType' object is not subscriptable\")\n",
      "\n",
      "\n"
     ]
    },
    {
     "data": {
      "application/vnd.jupyter.widget-view+json": {
       "model_id": "aaaa669cded0451297fa528d50ff4c9d",
       "version_major": 2,
       "version_minor": 0
      },
      "text/plain": [
       "  0%|          | 0/1502 [00:00<?, ?it/s]"
      ]
     },
     "metadata": {},
     "output_type": "display_data"
    },
    {
     "name": "stdout",
     "output_type": "stream",
     "text": [
      "TypeError(\"'NoneType' object is not subscriptable\")\n",
      "\n",
      "\n"
     ]
    },
    {
     "data": {
      "application/vnd.jupyter.widget-view+json": {
       "model_id": "23a75182228742358cffb5f65892b742",
       "version_major": 2,
       "version_minor": 0
      },
      "text/plain": [
       "  0%|          | 0/232 [00:00<?, ?it/s]"
      ]
     },
     "metadata": {},
     "output_type": "display_data"
    },
    {
     "name": "stdout",
     "output_type": "stream",
     "text": [
      "TypeError(\"'NoneType' object is not subscriptable\")\n",
      "\n",
      "\n"
     ]
    },
    {
     "data": {
      "application/vnd.jupyter.widget-view+json": {
       "model_id": "72f90a7063d34780909427e4c28f81cb",
       "version_major": 2,
       "version_minor": 0
      },
      "text/plain": [
       "  0%|          | 0/92 [00:00<?, ?it/s]"
      ]
     },
     "metadata": {},
     "output_type": "display_data"
    },
    {
     "name": "stdout",
     "output_type": "stream",
     "text": [
      "TypeError(\"'NoneType' object is not subscriptable\")\n",
      "\n",
      "\n"
     ]
    },
    {
     "data": {
      "application/vnd.jupyter.widget-view+json": {
       "model_id": "c09b4aabb38746faabfa95b27e60f4fa",
       "version_major": 2,
       "version_minor": 0
      },
      "text/plain": [
       "  0%|          | 0/127 [00:00<?, ?it/s]"
      ]
     },
     "metadata": {},
     "output_type": "display_data"
    },
    {
     "name": "stdout",
     "output_type": "stream",
     "text": [
      "TypeError(\"'NoneType' object is not subscriptable\")\n",
      "\n",
      "\n"
     ]
    },
    {
     "data": {
      "application/vnd.jupyter.widget-view+json": {
       "model_id": "ac8b87cccc5d494e95ed25af8064a4e3",
       "version_major": 2,
       "version_minor": 0
      },
      "text/plain": [
       "  0%|          | 0/152 [00:00<?, ?it/s]"
      ]
     },
     "metadata": {},
     "output_type": "display_data"
    },
    {
     "name": "stdout",
     "output_type": "stream",
     "text": [
      "TypeError(\"'NoneType' object is not subscriptable\")\n",
      "\n",
      "\n"
     ]
    },
    {
     "data": {
      "application/vnd.jupyter.widget-view+json": {
       "model_id": "45de4c756dfa4d41a53c90ff63ea2de4",
       "version_major": 2,
       "version_minor": 0
      },
      "text/plain": [
       "  0%|          | 0/642 [00:00<?, ?it/s]"
      ]
     },
     "metadata": {},
     "output_type": "display_data"
    },
    {
     "name": "stdout",
     "output_type": "stream",
     "text": [
      "TypeError(\"'NoneType' object is not subscriptable\")\n",
      "\n",
      "\n"
     ]
    },
    {
     "data": {
      "application/vnd.jupyter.widget-view+json": {
       "model_id": "13abaa15f8ae477cacda331ff87b2db1",
       "version_major": 2,
       "version_minor": 0
      },
      "text/plain": [
       "  0%|          | 0/252 [00:00<?, ?it/s]"
      ]
     },
     "metadata": {},
     "output_type": "display_data"
    },
    {
     "name": "stdout",
     "output_type": "stream",
     "text": [
      "TypeError(\"'NoneType' object is not subscriptable\")\n",
      "\n",
      "\n"
     ]
    },
    {
     "data": {
      "application/vnd.jupyter.widget-view+json": {
       "model_id": "406f7dc644b24fd188218dededfb2c4c",
       "version_major": 2,
       "version_minor": 0
      },
      "text/plain": [
       "  0%|          | 0/152 [00:00<?, ?it/s]"
      ]
     },
     "metadata": {},
     "output_type": "display_data"
    },
    {
     "name": "stdout",
     "output_type": "stream",
     "text": [
      "TypeError(\"'NoneType' object is not subscriptable\")\n",
      "\n",
      "\n"
     ]
    },
    {
     "data": {
      "application/vnd.jupyter.widget-view+json": {
       "model_id": "bc4e5bc8e2d34fe2b6960b8a032cf546",
       "version_major": 2,
       "version_minor": 0
      },
      "text/plain": [
       "  0%|          | 0/59 [00:00<?, ?it/s]"
      ]
     },
     "metadata": {},
     "output_type": "display_data"
    },
    {
     "name": "stdout",
     "output_type": "stream",
     "text": [
      "TypeError(\"'NoneType' object is not subscriptable\")\n",
      "\n",
      "\n"
     ]
    },
    {
     "data": {
      "application/vnd.jupyter.widget-view+json": {
       "model_id": "4da33f3b339d4cc3a25389e0321762fb",
       "version_major": 2,
       "version_minor": 0
      },
      "text/plain": [
       "  0%|          | 0/364 [00:00<?, ?it/s]"
      ]
     },
     "metadata": {},
     "output_type": "display_data"
    },
    {
     "name": "stdout",
     "output_type": "stream",
     "text": [
      "TypeError(\"'NoneType' object is not subscriptable\")\n",
      "\n",
      "\n"
     ]
    },
    {
     "data": {
      "application/vnd.jupyter.widget-view+json": {
       "model_id": "f8e0afe75cac409891cdbc70a7c37093",
       "version_major": 2,
       "version_minor": 0
      },
      "text/plain": [
       "  0%|          | 0/57 [00:00<?, ?it/s]"
      ]
     },
     "metadata": {},
     "output_type": "display_data"
    },
    {
     "name": "stdout",
     "output_type": "stream",
     "text": [
      "TypeError(\"'NoneType' object is not subscriptable\")\n",
      "\n",
      "\n"
     ]
    },
    {
     "data": {
      "application/vnd.jupyter.widget-view+json": {
       "model_id": "aa3b0cd6e3294afdae838b44d9b90e93",
       "version_major": 2,
       "version_minor": 0
      },
      "text/plain": [
       "  0%|          | 0/52 [00:00<?, ?it/s]"
      ]
     },
     "metadata": {},
     "output_type": "display_data"
    },
    {
     "name": "stdout",
     "output_type": "stream",
     "text": [
      "TypeError(\"'NoneType' object is not subscriptable\")\n",
      "\n",
      "\n"
     ]
    },
    {
     "data": {
      "application/vnd.jupyter.widget-view+json": {
       "model_id": "684bdc6d99e948afac8b1297051dc1bb",
       "version_major": 2,
       "version_minor": 0
      },
      "text/plain": [
       "  0%|          | 0/362 [00:00<?, ?it/s]"
      ]
     },
     "metadata": {},
     "output_type": "display_data"
    },
    {
     "name": "stdout",
     "output_type": "stream",
     "text": [
      "TypeError(\"'NoneType' object is not subscriptable\")\n",
      "\n",
      "\n"
     ]
    },
    {
     "data": {
      "application/vnd.jupyter.widget-view+json": {
       "model_id": "8397505db2ca482d8366d6e933cb86f0",
       "version_major": 2,
       "version_minor": 0
      },
      "text/plain": [
       "  0%|          | 0/287 [00:00<?, ?it/s]"
      ]
     },
     "metadata": {},
     "output_type": "display_data"
    },
    {
     "name": "stdout",
     "output_type": "stream",
     "text": [
      "TypeError(\"'NoneType' object is not subscriptable\")\n",
      "\n",
      "\n"
     ]
    },
    {
     "data": {
      "application/vnd.jupyter.widget-view+json": {
       "model_id": "7521edc816eb4bb18abfe753bcd1cae0",
       "version_major": 2,
       "version_minor": 0
      },
      "text/plain": [
       "  0%|          | 0/242 [00:00<?, ?it/s]"
      ]
     },
     "metadata": {},
     "output_type": "display_data"
    },
    {
     "name": "stdout",
     "output_type": "stream",
     "text": [
      "TypeError(\"'NoneType' object is not subscriptable\")\n",
      "\n",
      "\n"
     ]
    },
    {
     "data": {
      "application/vnd.jupyter.widget-view+json": {
       "model_id": "8938d2bf17c242c9a0ac9254c3ac8743",
       "version_major": 2,
       "version_minor": 0
      },
      "text/plain": [
       "  0%|          | 0/22 [00:00<?, ?it/s]"
      ]
     },
     "metadata": {},
     "output_type": "display_data"
    },
    {
     "name": "stdout",
     "output_type": "stream",
     "text": [
      "TypeError(\"'NoneType' object is not subscriptable\")\n",
      "\n",
      "\n"
     ]
    },
    {
     "data": {
      "application/vnd.jupyter.widget-view+json": {
       "model_id": "e35d4ccbf07a4a109640f9829bf28b1a",
       "version_major": 2,
       "version_minor": 0
      },
      "text/plain": [
       "  0%|          | 0/127 [00:00<?, ?it/s]"
      ]
     },
     "metadata": {},
     "output_type": "display_data"
    },
    {
     "name": "stdout",
     "output_type": "stream",
     "text": [
      "TypeError(\"'NoneType' object is not subscriptable\")\n",
      "\n",
      "\n"
     ]
    },
    {
     "data": {
      "application/vnd.jupyter.widget-view+json": {
       "model_id": "842b3e23a3224a3688827da0ad30a2e2",
       "version_major": 2,
       "version_minor": 0
      },
      "text/plain": [
       "  0%|          | 0/302 [00:00<?, ?it/s]"
      ]
     },
     "metadata": {},
     "output_type": "display_data"
    },
    {
     "name": "stdout",
     "output_type": "stream",
     "text": [
      "TypeError(\"'NoneType' object is not subscriptable\")\n",
      "\n",
      "\n"
     ]
    },
    {
     "data": {
      "application/vnd.jupyter.widget-view+json": {
       "model_id": "853bb5ed45444805864977a78e091d61",
       "version_major": 2,
       "version_minor": 0
      },
      "text/plain": [
       "  0%|          | 0/37 [00:00<?, ?it/s]"
      ]
     },
     "metadata": {},
     "output_type": "display_data"
    },
    {
     "name": "stdout",
     "output_type": "stream",
     "text": [
      "TypeError(\"'NoneType' object is not subscriptable\")\n",
      "\n",
      "\n"
     ]
    },
    {
     "data": {
      "application/vnd.jupyter.widget-view+json": {
       "model_id": "1718a66596c5432492789bb4ef9a8374",
       "version_major": 2,
       "version_minor": 0
      },
      "text/plain": [
       "  0%|          | 0/599 [00:00<?, ?it/s]"
      ]
     },
     "metadata": {},
     "output_type": "display_data"
    },
    {
     "name": "stdout",
     "output_type": "stream",
     "text": [
      "TypeError(\"'NoneType' object is not subscriptable\")\n",
      "\n",
      "\n"
     ]
    },
    {
     "data": {
      "application/vnd.jupyter.widget-view+json": {
       "model_id": "de15304a3d514a6696c5ab3df07174f9",
       "version_major": 2,
       "version_minor": 0
      },
      "text/plain": [
       "  0%|          | 0/147 [00:00<?, ?it/s]"
      ]
     },
     "metadata": {},
     "output_type": "display_data"
    },
    {
     "name": "stdout",
     "output_type": "stream",
     "text": [
      "TypeError(\"'NoneType' object is not subscriptable\")\n",
      "\n",
      "\n"
     ]
    },
    {
     "data": {
      "application/vnd.jupyter.widget-view+json": {
       "model_id": "d787488bd96941cd9ebd144167d9a14e",
       "version_major": 2,
       "version_minor": 0
      },
      "text/plain": [
       "  0%|          | 0/31 [00:00<?, ?it/s]"
      ]
     },
     "metadata": {},
     "output_type": "display_data"
    },
    {
     "name": "stdout",
     "output_type": "stream",
     "text": [
      "TypeError(\"'NoneType' object is not subscriptable\")\n",
      "\n",
      "\n"
     ]
    },
    {
     "data": {
      "application/vnd.jupyter.widget-view+json": {
       "model_id": "0e214d9cd76e41668f909e8fb06b475a",
       "version_major": 2,
       "version_minor": 0
      },
      "text/plain": [
       "  0%|          | 0/170 [00:00<?, ?it/s]"
      ]
     },
     "metadata": {},
     "output_type": "display_data"
    },
    {
     "name": "stdout",
     "output_type": "stream",
     "text": [
      "TypeError(\"'NoneType' object is not subscriptable\")\n",
      "\n",
      "\n"
     ]
    },
    {
     "data": {
      "application/vnd.jupyter.widget-view+json": {
       "model_id": "ef56981b36db4802bce9253ff11d5014",
       "version_major": 2,
       "version_minor": 0
      },
      "text/plain": [
       "  0%|          | 0/84 [00:00<?, ?it/s]"
      ]
     },
     "metadata": {},
     "output_type": "display_data"
    },
    {
     "name": "stdout",
     "output_type": "stream",
     "text": [
      "TypeError(\"'NoneType' object is not subscriptable\")\n",
      "\n",
      "\n"
     ]
    },
    {
     "data": {
      "application/vnd.jupyter.widget-view+json": {
       "model_id": "fd24204b44134e0f8c4ccade2b496375",
       "version_major": 2,
       "version_minor": 0
      },
      "text/plain": [
       "  0%|          | 0/212 [00:00<?, ?it/s]"
      ]
     },
     "metadata": {},
     "output_type": "display_data"
    },
    {
     "name": "stdout",
     "output_type": "stream",
     "text": [
      "KeyError('index')\n",
      "KeyError('index')\n",
      "KeyError('index')\n",
      "KeyError('index')\n",
      "KeyError('index')\n",
      "KeyError('index')\n",
      "KeyError('index')\n",
      "KeyError('index')\n",
      "KeyError('index')\n",
      "KeyError('index')\n",
      "KeyError('index')\n",
      "KeyError('index')\n",
      "KeyError('index')\n",
      "KeyError('index')\n",
      "KeyError('index')\n",
      "KeyError('index')\n",
      "KeyError('index')\n",
      "KeyError('index')\n",
      "KeyError('index')\n",
      "KeyError('index')\n",
      "KeyError('index')\n",
      "KeyError('index')\n",
      "KeyError('index')\n",
      "KeyError('index')\n",
      "KeyError('index')\n",
      "KeyError('index')\n",
      "KeyError('index')\n",
      "KeyError('index')\n",
      "KeyError('index')\n",
      "KeyError('index')\n",
      "KeyError('index')\n",
      "KeyError('index')\n",
      "KeyError('index')\n",
      "KeyError('index')\n",
      "KeyError('index')\n",
      "KeyError('index')\n",
      "KeyError('index')\n",
      "KeyError('index')\n",
      "KeyError('index')\n",
      "KeyError('index')\n",
      "KeyError('index')\n",
      "KeyError('index')\n",
      "KeyError('index')\n",
      "KeyError('index')\n",
      "KeyError('index')\n",
      "KeyError('index')\n",
      "KeyError('index')\n",
      "KeyError('index')\n",
      "KeyError('index')\n",
      "KeyError('index')\n",
      "KeyError('index')\n",
      "KeyError('index')\n",
      "KeyError('index')\n",
      "KeyError('index')\n",
      "KeyError('index')\n",
      "KeyError('index')\n",
      "KeyError('index')\n",
      "KeyError('index')\n",
      "KeyError('index')\n",
      "KeyError('index')\n",
      "KeyError('index')\n",
      "KeyError('index')\n",
      "KeyError('index')\n",
      "KeyError('index')\n",
      "KeyError('index')\n",
      "KeyError('index')\n",
      "KeyError('index')\n",
      "KeyError('index')\n",
      "KeyError('index')\n",
      "KeyError('index')\n",
      "KeyError('index')\n",
      "KeyError('index')\n",
      "KeyError('index')\n",
      "KeyError('index')\n",
      "KeyError('index')\n",
      "KeyError('index')\n",
      "KeyError('index')\n",
      "KeyError('index')\n",
      "KeyError('index')\n",
      "KeyError('index')\n",
      "KeyError('index')\n",
      "KeyError('index')\n",
      "KeyError('index')\n",
      "KeyError('index')\n",
      "KeyError('index')\n",
      "KeyError('index')\n",
      "KeyError('index')\n",
      "KeyError('index')\n",
      "KeyError('index')\n",
      "KeyError('index')\n",
      "KeyError('index')\n",
      "KeyError('index')\n",
      "KeyError('index')\n",
      "KeyError('index')\n",
      "KeyError('index')\n",
      "KeyError('index')\n",
      "KeyError('index')\n",
      "KeyError('index')\n",
      "KeyError('index')\n",
      "KeyError('index')\n",
      "KeyError('index')\n",
      "KeyError('index')\n",
      "KeyError('index')\n",
      "KeyError('index')\n",
      "KeyError('index')\n",
      "KeyError('index')\n",
      "KeyError('index')\n",
      "KeyError('index')\n",
      "TypeError(\"'NoneType' object is not subscriptable\")\n",
      "\n",
      "\n"
     ]
    },
    {
     "data": {
      "application/vnd.jupyter.widget-view+json": {
       "model_id": "0e5d1a2a7d6e4148a6eeeeaf7fc9fc69",
       "version_major": 2,
       "version_minor": 0
      },
      "text/plain": [
       "  0%|          | 0/502 [00:00<?, ?it/s]"
      ]
     },
     "metadata": {},
     "output_type": "display_data"
    },
    {
     "name": "stdout",
     "output_type": "stream",
     "text": [
      "KeyError('index')\n",
      "KeyError('index')\n",
      "KeyError('index')\n",
      "KeyError('index')\n",
      "KeyError('index')\n",
      "KeyError('index')\n",
      "KeyError('index')\n",
      "KeyError('index')\n",
      "KeyError('index')\n",
      "KeyError('index')\n",
      "KeyError('index')\n",
      "KeyError('index')\n",
      "KeyError('index')\n",
      "KeyError('index')\n",
      "KeyError('index')\n",
      "KeyError('index')\n",
      "KeyError('index')\n",
      "KeyError('index')\n",
      "KeyError('index')\n",
      "KeyError('index')\n",
      "KeyError('index')\n",
      "KeyError('index')\n",
      "KeyError('index')\n",
      "KeyError('index')\n",
      "KeyError('index')\n",
      "KeyError('index')\n",
      "KeyError('index')\n",
      "KeyError('index')\n",
      "KeyError('index')\n",
      "KeyError('index')\n",
      "KeyError('index')\n",
      "KeyError('index')\n",
      "KeyError('index')\n",
      "KeyError('index')\n",
      "KeyError('index')\n",
      "KeyError('index')\n",
      "KeyError('index')\n",
      "KeyError('index')\n",
      "KeyError('index')\n",
      "KeyError('index')\n",
      "KeyError('index')\n",
      "KeyError('index')\n",
      "KeyError('index')\n",
      "KeyError('index')\n",
      "KeyError('index')\n",
      "KeyError('index')\n",
      "KeyError('index')\n",
      "KeyError('index')\n",
      "KeyError('index')\n",
      "KeyError('index')\n",
      "KeyError('index')\n",
      "KeyError('index')\n",
      "KeyError('index')\n",
      "KeyError('index')\n",
      "KeyError('index')\n",
      "KeyError('index')\n",
      "KeyError('index')\n",
      "KeyError('index')\n",
      "KeyError('index')\n",
      "KeyError('index')\n",
      "KeyError('index')\n",
      "KeyError('index')\n",
      "KeyError('index')\n",
      "KeyError('index')\n",
      "KeyError('index')\n",
      "KeyError('index')\n",
      "KeyError('index')\n",
      "KeyError('index')\n",
      "KeyError('index')\n",
      "KeyError('index')\n",
      "KeyError('index')\n",
      "KeyError('index')\n",
      "KeyError('index')\n",
      "KeyError('index')\n",
      "KeyError('index')\n",
      "KeyError('index')\n",
      "KeyError('index')\n",
      "KeyError('index')\n",
      "KeyError('index')\n",
      "KeyError('index')\n",
      "KeyError('index')\n",
      "KeyError('index')\n",
      "KeyError('index')\n",
      "KeyError('index')\n",
      "KeyError('index')\n",
      "KeyError('index')\n",
      "KeyError('index')\n",
      "KeyError('index')\n",
      "KeyError('index')\n",
      "KeyError('index')\n",
      "KeyError('index')\n",
      "KeyError('index')\n",
      "KeyError('index')\n",
      "KeyError('index')\n",
      "KeyError('index')\n",
      "KeyError('index')\n",
      "KeyError('index')\n",
      "KeyError('index')\n",
      "TypeError(\"'NoneType' object is not subscriptable\")\n",
      "\n",
      "\n"
     ]
    },
    {
     "data": {
      "application/vnd.jupyter.widget-view+json": {
       "model_id": "29c7bf41f4b44f8bb6b2716d17866931",
       "version_major": 2,
       "version_minor": 0
      },
      "text/plain": [
       "  0%|          | 0/48 [00:00<?, ?it/s]"
      ]
     },
     "metadata": {},
     "output_type": "display_data"
    },
    {
     "name": "stdout",
     "output_type": "stream",
     "text": [
      "TypeError(\"'NoneType' object is not subscriptable\")\n",
      "\n",
      "\n"
     ]
    },
    {
     "data": {
      "application/vnd.jupyter.widget-view+json": {
       "model_id": "be1ec49dc92d4c83bd0972d3e39eb1c4",
       "version_major": 2,
       "version_minor": 0
      },
      "text/plain": [
       "  0%|          | 0/177 [00:00<?, ?it/s]"
      ]
     },
     "metadata": {},
     "output_type": "display_data"
    },
    {
     "name": "stdout",
     "output_type": "stream",
     "text": [
      "TypeError(\"'NoneType' object is not subscriptable\")\n",
      "\n",
      "\n"
     ]
    },
    {
     "data": {
      "application/vnd.jupyter.widget-view+json": {
       "model_id": "69b1f75554d34b3db98f6480c8278483",
       "version_major": 2,
       "version_minor": 0
      },
      "text/plain": [
       "  0%|          | 0/147 [00:00<?, ?it/s]"
      ]
     },
     "metadata": {},
     "output_type": "display_data"
    },
    {
     "name": "stdout",
     "output_type": "stream",
     "text": [
      "TypeError(\"'NoneType' object is not subscriptable\")\n",
      "\n",
      "\n"
     ]
    },
    {
     "data": {
      "application/vnd.jupyter.widget-view+json": {
       "model_id": "b6b374ff2e6e4819ad7f67003b62f77a",
       "version_major": 2,
       "version_minor": 0
      },
      "text/plain": [
       "  0%|          | 0/212 [00:00<?, ?it/s]"
      ]
     },
     "metadata": {},
     "output_type": "display_data"
    },
    {
     "name": "stdout",
     "output_type": "stream",
     "text": [
      "TypeError(\"'NoneType' object is not subscriptable\")\n",
      "\n",
      "\n"
     ]
    },
    {
     "data": {
      "application/vnd.jupyter.widget-view+json": {
       "model_id": "022a55647de04096a93e77379f034957",
       "version_major": 2,
       "version_minor": 0
      },
      "text/plain": [
       "  0%|          | 0/377 [00:00<?, ?it/s]"
      ]
     },
     "metadata": {},
     "output_type": "display_data"
    },
    {
     "name": "stdout",
     "output_type": "stream",
     "text": [
      "TypeError(\"'NoneType' object is not subscriptable\")\n",
      "\n",
      "\n"
     ]
    },
    {
     "data": {
      "application/vnd.jupyter.widget-view+json": {
       "model_id": "cbfb6f0d2e1941c489a34f90c48c444a",
       "version_major": 2,
       "version_minor": 0
      },
      "text/plain": [
       "  0%|          | 0/107 [00:00<?, ?it/s]"
      ]
     },
     "metadata": {},
     "output_type": "display_data"
    },
    {
     "name": "stdout",
     "output_type": "stream",
     "text": [
      "TypeError(\"'NoneType' object is not subscriptable\")\n"
     ]
    }
   ],
   "source": [
    "kms = defaultdict(list)\n",
    "\n",
    "for road in roads:\n",
    "#     if road.name in kms.keys():\n",
    "#         continue\n",
    "    \n",
    "    start = road.marks['0']['km']\n",
    "    end = road.marks[list(road.marks.keys())[-1]]['km']\n",
    "    print('\\n')\n",
    "    \n",
    "    if start > end:\n",
    "        temp = end\n",
    "        end = start\n",
    "        start = temp\n",
    "    \n",
    "    for km in tqdm(arange(start, end+0.03, 0.02)):\n",
    "#         print('{:.3f}'.format(km))\n",
    "#         instance.point, instance.road = get_road_coordinates(\n",
    "#         instance.road_name,\n",
    "#         instance.km,\n",
    "#         instance.direction,\n",
    "#         instance.company,\n",
    "#         ) or (Point(0, 0), None)\n",
    "        try:\n",
    "            coordinate = km_to_coordinates(road, round(km, 3))\n",
    "            kms[road.name + \" (\" + str(road.id) + \")\"].append((float('{:.3f}'.format(km)), coordinate[0].x, coordinate[0].y))\n",
    "        except Exception as e:\n",
    "            print(repr(e))\n",
    "#             pass\n",
    "#             print(road.name, road.id, km)"
   ]
  },
  {
   "cell_type": "code",
   "execution_count": 6,
   "metadata": {},
   "outputs": [
    {
     "data": {
      "text/plain": [
       "46"
      ]
     },
     "execution_count": 6,
     "metadata": {},
     "output_type": "execute_result"
    }
   ],
   "source": [
    "len(kms.keys())"
   ]
  },
  {
   "cell_type": "code",
   "execution_count": 11,
   "metadata": {},
   "outputs": [],
   "source": [
    "wb=None"
   ]
  },
  {
   "cell_type": "code",
   "execution_count": 12,
   "metadata": {},
   "outputs": [],
   "source": [
    "wb = Workbook()"
   ]
  },
  {
   "cell_type": "code",
   "execution_count": 9,
   "metadata": {
    "scrolled": true
   },
   "outputs": [
    {
     "name": "stdout",
     "output_type": "stream",
     "text": [
      "42: SP-249\n",
      "354: SP-255\n",
      "45: SP-255\n",
      "353: SP-255\n",
      "355: SP-255\n",
      "51: SP-257\n",
      "53: SP-281\n",
      "56: SP-304\n",
      "58: SP-318\n",
      "1166: SP-328\n",
      "60: SP-328\n",
      "59: SP-328\n",
      "62: SP-330\n",
      "63: SP-334\n",
      "67: SP-345\n",
      "356: SPA-004/257\n",
      "358: SPA-011/345\n",
      "359: SPA-020/345\n",
      "360: SPA-043/281\n",
      "361: SPA-051/255\n",
      "364: SPA-074/255\n",
      "367: SPA-077/255\n",
      "368: SPA-085/255\n",
      "373: SPA-106/255\n",
      "374: SPA-112/255\n",
      "375: SPA-114/255\n",
      "377: SPA-115/255\n",
      "378: SPA-133/255\n",
      "381: SPA-138/255\n",
      "382: SPA-179/255\n",
      "383: SPA-196/255\n",
      "384: SPA-198/255\n",
      "385: SPA-214/255\n",
      "386: SPA-241/330\n",
      "387: SPA-268/310\n",
      "388: SPA-271/310\n",
      "389: SPA-307/330\n",
      "391: SPA-318/330\n",
      "420: SPA-321/334\n",
      "475: SPA-334/334\n",
      "397: SPA-338/255\n",
      "398: SPA-348/334\n",
      "400: SPA-352/334\n",
      "401: SPA-384/334\n",
      "402: SPA-397/334\n",
      "403: SPI-274/310\n"
     ]
    }
   ],
   "source": [
    "for a in roads:\n",
    "    if not a.name in kms.keys():\n",
    "        print(a)"
   ]
  },
  {
   "cell_type": "code",
   "execution_count": 10,
   "metadata": {
    "scrolled": true
   },
   "outputs": [
    {
     "name": "stdout",
     "output_type": "stream",
     "text": [
      "SP-249 (42)\n",
      "SP-255 (354)\n",
      "SP-255 (45)\n",
      "SP-255 (353)\n",
      "SP-255 (355)\n",
      "SP-257 (51)\n",
      "SP-281 (53)\n",
      "SP-304 (56)\n",
      "SP-318 (58)\n",
      "SP-328 (1166)\n",
      "SP-328 (60)\n",
      "SP-328 (59)\n",
      "SP-330 (62)\n",
      "SP-334 (63)\n",
      "SP-345 (67)\n",
      "SPA-004/257 (356)\n",
      "SPA-011/345 (358)\n",
      "SPA-020/345 (359)\n",
      "SPA-043/281 (360)\n",
      "SPA-051/255 (361)\n",
      "SPA-074/255 (364)\n",
      "SPA-077/255 (367)\n",
      "SPA-085/255 (368)\n",
      "SPA-106/255 (373)\n",
      "SPA-112/255 (374)\n",
      "SPA-114/255 (375)\n",
      "SPA-115/255 (377)\n",
      "SPA-133/255 (378)\n",
      "SPA-138/255 (381)\n",
      "SPA-179/255 (382)\n",
      "SPA-196/255 (383)\n",
      "SPA-198/255 (384)\n",
      "SPA-214/255 (385)\n",
      "SPA-241/330 (386)\n",
      "SPA-268/310 (387)\n",
      "SPA-271/310 (388)\n",
      "SPA-307/330 (389)\n",
      "SPA-318/330 (391)\n",
      "SPA-321/334 (420)\n",
      "SPA-334/334 (475)\n",
      "SPA-338/255 (397)\n",
      "SPA-348/334 (398)\n",
      "SPA-352/334 (400)\n",
      "SPA-384/334 (401)\n",
      "SPA-397/334 (402)\n",
      "SPI-274/310 (403)\n"
     ]
    }
   ],
   "source": [
    "for names, marks in kms.items():\n",
    "    print(names)"
   ]
  },
  {
   "cell_type": "code",
   "execution_count": 11,
   "metadata": {},
   "outputs": [],
   "source": [
    "for names, marks in kms.items():\n",
    "    ws = wb.create_sheet(title=names.replace('/', '-'))\n",
    "    ws.append(['Km', 'Longitude', 'Latitude'])\n",
    "    for mark in marks:\n",
    "        ws.append(mark)"
   ]
  },
  {
   "cell_type": "code",
   "execution_count": 12,
   "metadata": {},
   "outputs": [],
   "source": [
    "wb.save(filename=filename)"
   ]
  },
  {
   "cell_type": "code",
   "execution_count": 13,
   "metadata": {},
   "outputs": [
    {
     "data": {
      "text/plain": [
       "[(0.0, -48.198346495628364, -21.805043444906175),\n",
       " (0.02, -48.19816912126651, -21.8050761757467),\n",
       " (0.04, -48.1979949708347, -21.80513637424193),\n",
       " (0.06, -48.19782161575194, -21.805199412453838),\n",
       " (0.08, -48.19765257996526, -21.805273246265198),\n",
       " (0.1, -48.19748358481522, -21.80534718164334),\n",
       " (0.12, -48.197316600393776, -21.805424890658504),\n",
       " (0.14, -48.19716097788848, -21.805523923161875),\n",
       " (0.16, -48.19700535538319, -21.805622955665243),\n",
       " (0.18, -48.196851937573626, -21.805725214054963),\n",
       " (0.2, -48.19670314060875, -21.805834233613393),\n",
       " (0.22, -48.19655434364387, -21.80594325317182),\n",
       " (0.24, -48.19640554667899, -21.806052272730245),\n",
       " (0.26, -48.19625674971411, -21.80616129228867),\n",
       " (0.28, -48.19610795274922, -21.8062703118471),\n",
       " (0.3, -48.195959155784344, -21.806379331405527),\n",
       " (0.32, -48.19582018756332, -21.806499812436684),\n",
       " (0.34, -48.19571522896868, -21.8066503372345),\n",
       " (0.36, -48.19565134147417, -21.806821951154955),\n",
       " (0.38, -48.19562366960305, -21.807004312778606),\n",
       " (0.4, -48.19561340102469, -21.807188375407243),\n",
       " (0.42, -48.19561380351889, -21.80737269501022),\n",
       " (0.44, -48.19562269233796, -21.807556827112297),\n",
       " (0.46, -48.195651835398245, -21.807738971239058),\n",
       " (0.48, -48.19569098796934, -21.80791911653896),\n",
       " (0.5, -48.19574111820441, -21.80809631521178),\n",
       " (0.52, -48.195805886728806, -21.808269031276826),\n",
       " (0.54, -48.1958800423702, -21.808437582092267),\n",
       " (0.56, -48.195964644027676, -21.808601497803622),\n",
       " (0.58, -48.19606349625718, -21.80875658580525),\n",
       " (0.6, -48.19617257969433, -21.808905335946818),\n",
       " (0.62, -48.19629373198778, -21.80904373198778),\n",
       " (0.64, -48.196424165497426, -21.809174165497428),\n",
       " (0.66, -48.19655459900707, -21.809304599007074),\n",
       " (0.68, -48.19669992127435, -21.809417328338355),\n",
       " (0.7, -48.196850789820125, -21.80952346260602),\n",
       " (0.72, -48.1970016583659, -21.809629596873688),\n",
       " (0.74, -48.19715252691167, -21.809735731141355),\n",
       " (0.76, -48.197303395457446, -21.809841865409023),\n",
       " (0.78, -48.19745426400322, -21.809947999676687),\n",
       " (0.8, -48.19760513254899, -21.810054133944355),\n",
       " (0.82, -48.19775600109477, -21.810160268212023),\n",
       " (0.84, -48.19790686964054, -21.810266402479687),\n",
       " (0.86, -48.198057738186314, -21.810372536747355),\n",
       " (0.88, -48.19820860673209, -21.810478671015023),\n",
       " (0.9, -48.19835947527787, -21.81058480528269),\n",
       " (0.92, -48.19851034382364, -21.810690939550355),\n",
       " (0.94, -48.198661212369416, -21.810797073818023),\n",
       " (0.96, -48.19881208091519, -21.81090320808569),\n",
       " (0.98, -48.19896294946096, -21.811009342353355),\n",
       " (1.0, -48.19911381800674, -21.811115476621023),\n",
       " (1.02, -48.19926468655251, -21.81122161088869),\n",
       " (1.04, -48.199415555098284, -21.81132774515636),\n",
       " (1.06, -48.19956642364406, -21.811433879424023),\n",
       " (1.08, -48.19971729218983, -21.81154001369169),\n",
       " (1.1, -48.199868160735605, -21.811646147959358),\n",
       " (1.12, -48.20001902928138, -21.811752282227022),\n",
       " (1.14, -48.20016989782715, -21.81185841649469),\n",
       " (1.16, -48.200320766372926, -21.811964550762358),\n",
       " (1.18, -48.200471634918706, -21.812070685030026),\n",
       " (1.2, -48.20062250346448, -21.81217681929769),\n",
       " (1.22, -48.200773372010254, -21.812282953565358),\n",
       " (1.24, -48.20092424055603, -21.812389087833026),\n",
       " (1.26, -48.2010751091018, -21.81249522210069),\n",
       " (1.28, -48.201225977647574, -21.812601356368358),\n",
       " (1.3, -48.20137684619335, -21.812707490636026),\n",
       " (1.32, -48.20152771473912, -21.81281362490369),\n",
       " (1.34, -48.201678583284895, -21.812919759171358),\n",
       " (1.36, -48.201829159864054, -21.813026306179463),\n",
       " (1.38, -48.20197947400374, -21.81313322418677),\n",
       " (1.4, -48.20212978814343, -21.81324014219408),\n",
       " (1.42, -48.20228010228312, -21.81334706020139),\n",
       " (1.44, -48.20243041642281, -21.8134539782087),\n",
       " (1.46, -48.202580730562495, -21.81356089621601),\n",
       " (1.48, -48.20273104470218, -21.81366781422332),\n",
       " (1.5, -48.20288135884187, -21.813774732230627),\n",
       " (1.52, -48.20303167298156, -21.81388165023794),\n",
       " (1.54, -48.20318198712125, -21.813988568245247),\n",
       " (1.56, -48.203332301260936, -21.814095486252555),\n",
       " (1.58, -48.203482615400624, -21.814202404259866),\n",
       " (1.6, -48.20363292954031, -21.814309322267174),\n",
       " (1.62, -48.20378324368, -21.814416240274486),\n",
       " (1.64, -48.20393355781969, -21.814523158281794),\n",
       " (1.66, -48.20408387195938, -21.814630076289102),\n",
       " (1.68, -48.20423352366059, -21.81473791599163),\n",
       " (1.7, -48.20438278059682, -21.814846304957225),\n",
       " (1.72, -48.204532037533056, -21.814954693922825),\n",
       " (1.74, -48.20468129446929, -21.815063082888425),\n",
       " (1.76, -48.20483055140552, -21.815171471854025),\n",
       " (1.78, -48.204979808341754, -21.815279860819622),\n",
       " (1.8, -48.20512956780692, -21.815387554378027),\n",
       " (1.82, -48.20527932791821, -21.815495247042325),\n",
       " (1.84, -48.205429088029504, -21.815602939706622),\n",
       " (1.86, -48.205578848140796, -21.815710632370923),\n",
       " (1.88, -48.20572860825209, -21.81581832503522),\n",
       " (1.9, -48.20587839836398, -21.815925975758994),\n",
       " (1.92, -48.20602869536561, -21.816032917856308),\n",
       " (1.94, -48.206178992367235, -21.816139859953623),\n",
       " (1.96, -48.20632928936887, -21.81624680205094),\n",
       " (1.98, -48.20646429602035, -21.816371050204047),\n",
       " (2.0, -48.2065378, -21.8164867),\n",
       " (2.02, -48.206651796676226, -21.816644563872746),\n",
       " (2.04, -48.20676742118913, -21.816802786890396),\n",
       " (2.06, -48.206890281229306, -21.81695531638297),\n",
       " (2.08, -48.20697888705393, -21.817127106340248),\n",
       " (2.1, -48.2069715, -21.8172968)]"
      ]
     },
     "execution_count": 13,
     "metadata": {},
     "output_type": "execute_result"
    }
   ],
   "source": [
    "marks"
   ]
  },
  {
   "cell_type": "code",
   "execution_count": 35,
   "metadata": {},
   "outputs": [],
   "source": [
    "wb = Workbook()"
   ]
  },
  {
   "cell_type": "code",
   "execution_count": 36,
   "metadata": {},
   "outputs": [],
   "source": [
    "ws = wb.create_sheet(title='Rodovias')\n",
    "ws.append(['Rodovias'])\n",
    "for a in roads:\n",
    "    ws.append([a.name])"
   ]
  },
  {
   "cell_type": "code",
   "execution_count": 19,
   "metadata": {},
   "outputs": [
    {
     "data": {
      "text/plain": [
       "['São Pedro', 'Itirapina', 'Marília', 'Martinópolis']"
      ]
     },
     "execution_count": 19,
     "metadata": {},
     "output_type": "execute_result"
    }
   ],
   "source": [
    "[a['name'] for a in company.custom_options['reporting']['fields']['lot']['selectOptions']['options']]"
   ]
  },
  {
   "cell_type": "code",
   "execution_count": 39,
   "metadata": {},
   "outputs": [],
   "source": [
    "ws = wb.create_sheet(title='Lotes')\n",
    "ws.append(['Lotes'])\n",
    "for a in company.custom_options['reporting']['fields']['lot']['selectOptions']['options']:\n",
    "    ws.append([a['name']])"
   ]
  },
  {
   "cell_type": "code",
   "execution_count": 42,
   "metadata": {},
   "outputs": [
    {
     "data": {
      "text/plain": [
       "'Itirapina'"
      ]
     },
     "execution_count": 42,
     "metadata": {},
     "output_type": "execute_result"
    }
   ],
   "source": [
    "ws['A3'].value"
   ]
  },
  {
   "cell_type": "code",
   "execution_count": 43,
   "metadata": {},
   "outputs": [],
   "source": [
    "wb.save(filename='EixoSP_roads_lots.xlsx')"
   ]
  },
  {
   "cell_type": "code",
   "execution_count": null,
   "metadata": {},
   "outputs": [],
   "source": []
  }
 ],
 "metadata": {
  "kernelspec": {
   "display_name": "Django Shell-Plus",
   "language": "python",
   "name": "django_extensions"
  },
  "language_info": {
   "codemirror_mode": {
    "name": "ipython",
    "version": 3
   },
   "file_extension": ".py",
   "mimetype": "text/x-python",
   "name": "python",
   "nbconvert_exporter": "python",
   "pygments_lexer": "ipython3",
   "version": "3.8.16"
  }
 },
 "nbformat": 4,
 "nbformat_minor": 2
}
