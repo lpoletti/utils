{
 "cells": [
  {
   "cell_type": "markdown",
   "metadata": {},
   "source": [
    "# Criar fluxo de aprovação para solicitações de acesso"
   ]
  },
  {
   "cell_type": "markdown",
   "metadata": {},
   "source": [
    "### Fluxo simplificado com aprovação automática"
   ]
  },
  {
   "cell_type": "markdown",
   "metadata": {},
   "source": [
    "Verifique que você está executando o código no ambiente que deseja"
   ]
  },
  {
   "cell_type": "code",
   "execution_count": 1,
   "metadata": {},
   "outputs": [
    {
     "name": "stdout",
     "output_type": "stream",
     "text": [
      "STAGE=PRODUCTION\r\n"
     ]
    }
   ],
   "source": [
    "!cat .env"
   ]
  },
  {
   "cell_type": "markdown",
   "metadata": {},
   "source": [
    "Escolha a unidade que deseja utilizar"
   ]
  },
  {
   "cell_type": "code",
   "execution_count": 87,
   "metadata": {},
   "outputs": [
    {
     "data": {
      "text/plain": [
       "<Company: b64a2e4e-8d2b-4db5-bdb2-53369e6bf749: Kartado Demonstração 10>"
      ]
     },
     "execution_count": 87,
     "metadata": {},
     "output_type": "execute_result"
    }
   ],
   "source": [
    "company = Company.objects.get(name=\"Kartado Demonstração 10\")\n",
    "company"
   ]
  },
  {
   "cell_type": "markdown",
   "metadata": {},
   "source": [
    "Crie o fluxo"
   ]
  },
  {
   "cell_type": "code",
   "execution_count": 88,
   "metadata": {},
   "outputs": [],
   "source": [
    "flow = ApprovalFlow(\n",
    "    name=\"Fluxo Usuários\",\n",
    "    target_model=\"companies.AccessRequest\",\n",
    "    company=company\n",
    ")\n",
    "flow.save()"
   ]
  },
  {
   "cell_type": "markdown",
   "metadata": {},
   "source": [
    "Crie os dois passos (aguardando aprovação, e aprovado). Repare que o primero passo contém a propriedade `auto_execute_transition` setada, o que faz com que as solicitações sejam automaticamente aprovadas"
   ]
  },
  {
   "cell_type": "code",
   "execution_count": 89,
   "metadata": {},
   "outputs": [],
   "source": [
    "step1 = ApprovalStep(\n",
    "    name=\"Aguardando Aprovação\",\n",
    "    approval_flow=flow,\n",
    "    field_options={\"required\": [\"relationships.permissions.data.id\"]},\n",
    "    auto_execute_transition=True\n",
    ")\n",
    "step1.save()"
   ]
  },
  {
   "cell_type": "code",
   "execution_count": 90,
   "metadata": {},
   "outputs": [],
   "source": [
    "step3 = ApprovalStep(\n",
    "    name=\"Aprovado\",\n",
    "    approval_flow=flow,\n",
    "    field_options={\"required\": [\"relationships.permissions.data.id\"]}\n",
    ")\n",
    "step3.save()"
   ]
  },
  {
   "cell_type": "markdown",
   "metadata": {},
   "source": [
    "Crie a transição entre os dois passos"
   ]
  },
  {
   "cell_type": "code",
   "execution_count": 91,
   "metadata": {},
   "outputs": [],
   "source": [
    "transition1 = ApprovalTransition(\n",
    "    name=\"Aprovar\",\n",
    "    origin=step1,\n",
    "    destination=step3,\n",
    "    condition={\"===\": [{\"var\": \"request.action\"}, \"Aprovar\"]},\n",
    "    callback={\"change_fields\": [{\"name\": \"approved\", \"value\": True}, {\"name\": \"done\", \"value\": True}], \"create_user_in_company\": True},\n",
    ")\n",
    "transition1.save()"
   ]
  },
  {
   "cell_type": "markdown",
   "metadata": {},
   "source": [
    "Caso necessário, verifique se existe alguma solicitação de acesso que foi criada antes do fluxo ser parametrizado"
   ]
  },
  {
   "cell_type": "code",
   "execution_count": 92,
   "metadata": {},
   "outputs": [
    {
     "data": {
      "text/plain": [
       "<QuerySet []>"
      ]
     },
     "execution_count": 92,
     "metadata": {},
     "output_type": "execute_result"
    }
   ],
   "source": [
    "AccessRequest.objects.filter(company=company, approval_step__isnull=True)"
   ]
  },
  {
   "cell_type": "markdown",
   "metadata": {},
   "source": [
    "Se existir, você pode atualizar essas solicitações para estarem no primeiro passo. Será necessário aprová-las através da interface"
   ]
  },
  {
   "cell_type": "code",
   "execution_count": 93,
   "metadata": {},
   "outputs": [
    {
     "data": {
      "text/plain": [
       "0"
      ]
     },
     "execution_count": 93,
     "metadata": {},
     "output_type": "execute_result"
    }
   ],
   "source": [
    "AccessRequest.objects.filter(company=company, approval_step__isnull=True).update(approval_step=step1)"
   ]
  },
  {
   "cell_type": "markdown",
   "metadata": {},
   "source": [
    "# Adicionar usuários a unidade"
   ]
  },
  {
   "cell_type": "code",
   "execution_count": 94,
   "metadata": {},
   "outputs": [],
   "source": [
    "from tqdm.notebook import tqdm\n",
    "lista_user=['rlcs','victor.martins',\n",
    "            'leonardo.minski',\n",
    "            'karla.zorzam',\n",
    "            'pedro.cardoso',\n",
    "            'pedroh.fornari','thayse.tessaro','gabriel.rodrigues@kartado.com.br','joao.fornari','lukas.oliveira']"
   ]
  },
  {
   "cell_type": "code",
   "execution_count": 95,
   "metadata": {},
   "outputs": [
    {
     "data": {
      "application/vnd.jupyter.widget-view+json": {
       "model_id": "79499e63afa244aea0653c613fc00e06",
       "version_major": 2,
       "version_minor": 0
      },
      "text/plain": [
       "  0%|          | 0/10 [00:00<?, ?it/s]"
      ]
     },
     "metadata": {},
     "output_type": "display_data"
    },
    {
     "name": "stdout",
     "output_type": "stream",
     "text": [
      "Criado com sucesso [b64a2e4e-8d2b-4db5-bdb2-53369e6bf749: Kartado Demonstração 10] rlcs\n",
      "Criado com sucesso [b64a2e4e-8d2b-4db5-bdb2-53369e6bf749: Kartado Demonstração 10] victor.martins\n",
      "Criado com sucesso [b64a2e4e-8d2b-4db5-bdb2-53369e6bf749: Kartado Demonstração 10] leonardo.minski\n",
      "Criado com sucesso [b64a2e4e-8d2b-4db5-bdb2-53369e6bf749: Kartado Demonstração 10] karla.zorzam\n",
      "Criado com sucesso [b64a2e4e-8d2b-4db5-bdb2-53369e6bf749: Kartado Demonstração 10] pedro.cardoso\n",
      "Criado com sucesso [b64a2e4e-8d2b-4db5-bdb2-53369e6bf749: Kartado Demonstração 10] pedroh.fornari\n",
      "Criado com sucesso [b64a2e4e-8d2b-4db5-bdb2-53369e6bf749: Kartado Demonstração 10] thayse.tessaro\n",
      "Criado com sucesso [b64a2e4e-8d2b-4db5-bdb2-53369e6bf749: Kartado Demonstração 10] gabriel.rodrigues\n",
      "Criado com sucesso [b64a2e4e-8d2b-4db5-bdb2-53369e6bf749: Kartado Demonstração 10] joao.fornari\n",
      "Criado com sucesso [b64a2e4e-8d2b-4db5-bdb2-53369e6bf749: Kartado Demonstração 10] lukas.oliveira\n"
     ]
    }
   ],
   "source": [
    "for a in tqdm(lista_user):\n",
    "    for b in Company.objects.filter(uuid=company.uuid):\n",
    "        try:\n",
    "            uc=UserInCompany(user=User.objects.get(username=a),\n",
    "                          company=b,\n",
    "                          permissions=UserPermission.objects.filter(companies=b, name__icontains='Suporte').first())\n",
    "            uc.save()\n",
    "            print('Criado com sucesso',uc)\n",
    "        except:\n",
    "            print('Já Existe',a)"
   ]
  },
  {
   "cell_type": "markdown",
   "metadata": {},
   "source": [
    "# Energia Approvals de Acesso - Sem aprovação automatica"
   ]
  },
  {
   "cell_type": "code",
   "execution_count": 1,
   "metadata": {},
   "outputs": [
    {
     "name": "stdout",
     "output_type": "stream",
     "text": [
      "STAGE=PRODUCTION\r\n"
     ]
    }
   ],
   "source": [
    "!cat .env"
   ]
  },
  {
   "cell_type": "markdown",
   "metadata": {},
   "source": [
    "Escolha a unidade que deseja utilizar"
   ]
  },
  {
   "cell_type": "code",
   "execution_count": 9,
   "metadata": {
    "scrolled": true
   },
   "outputs": [
    {
     "data": {
      "text/plain": [
       "<Company: 5a7918ca-d799-4f6b-8b48-28bfab77a52a: Demo Energia>"
      ]
     },
     "execution_count": 9,
     "metadata": {},
     "output_type": "execute_result"
    },
    {
     "data": {
      "text/plain": [
       "<Company: 5a7918ca-d799-4f6b-8b48-28bfab77a52a: Demo Energia>"
      ]
     },
     "execution_count": 9,
     "metadata": {},
     "output_type": "execute_result"
    }
   ],
   "source": [
    "company = Company.objects.get(name=\"Demo Energia\")\n",
    "company"
   ]
  },
  {
   "cell_type": "code",
   "execution_count": 3,
   "metadata": {},
   "outputs": [],
   "source": [
    "flow = ApprovalFlow(\n",
    "    name=\"Fluxo Usuários\",\n",
    "    target_model=\"companies.AccessRequest\",\n",
    "    company=company\n",
    ")\n",
    "flow.save()"
   ]
  },
  {
   "cell_type": "code",
   "execution_count": 14,
   "metadata": {},
   "outputs": [],
   "source": [
    "step1 = ApprovalStep(\n",
    "    name=\"Aguardando Aprovação do Supervisor\",\n",
    "    approval_flow=flow,\n",
    "    field_options={\"required\": [\"relationships.permissions.data.id\"]},\n",
    "    responsible_supervisor = True\n",
    ")\n",
    "step1.save()"
   ]
  },
  {
   "cell_type": "code",
   "execution_count": 15,
   "metadata": {},
   "outputs": [],
   "source": [
    "step3 = ApprovalStep(\n",
    "    name=\"Aguardando Aprovação do Usuário-Chave do Sistema\",\n",
    "    approval_flow=flow,\n",
    "    field_options={\"required\": [\"relationships.permissions.data.id\"]},\n",
    ")\n",
    "step3.save()"
   ]
  },
  {
   "cell_type": "code",
   "execution_count": 16,
   "metadata": {},
   "outputs": [],
   "source": [
    "step4 = ApprovalStep(\n",
    "    name=\"Aprovado\",\n",
    "    approval_flow=flow,\n",
    "    field_options={\"required\": [\"relationships.permissions.data.id\"]}\n",
    ")\n",
    "step4.save()"
   ]
  },
  {
   "cell_type": "code",
   "execution_count": 17,
   "metadata": {},
   "outputs": [],
   "source": [
    "step5 = ApprovalStep(\n",
    "    name=\"Negado\",\n",
    "    approval_flow=flow,\n",
    "    field_options={\"required\": [\"relationships.permissions.data.id\"]}\n",
    ")\n",
    "step5.save()"
   ]
  },
  {
   "cell_type": "markdown",
   "metadata": {},
   "source": [
    "Cria a transição entre os passos"
   ]
  },
  {
   "cell_type": "code",
   "execution_count": 18,
   "metadata": {},
   "outputs": [],
   "source": [
    "transition1 = ApprovalTransition(\n",
    "    name=\"Aprovar\",\n",
    "    origin=step1,\n",
    "    destination=step3,\n",
    "    condition={\"===\": [{\"var\": \"request.action\"}, \"Aprovar\"]},\n",
    "    callback={},\n",
    ")\n",
    "transition1.save()"
   ]
  },
  {
   "cell_type": "code",
   "execution_count": 19,
   "metadata": {},
   "outputs": [],
   "source": [
    "transition2 = ApprovalTransition(\n",
    "    name=\"Rejeitar\",\n",
    "    origin=step1,\n",
    "    destination=step5,\n",
    "    condition={\"===\": [{\"var\": \"request.action\"}, \"Rejeitar\"]},\n",
    "    callback={'change_fields': [{'name': 'done', 'value': True}]},\n",
    ")\n",
    "transition2.save()"
   ]
  },
  {
   "cell_type": "code",
   "execution_count": 20,
   "metadata": {},
   "outputs": [],
   "source": [
    "transition3 = ApprovalTransition(\n",
    "    name=\"Aprovar\",\n",
    "    origin=step3,\n",
    "    destination=step4,\n",
    "    condition={\"===\": [{\"var\": \"request.action\"}, \"Aprovar\"]},\n",
    "    callback={\"change_fields\": [{\"name\": \"approved\", \"value\": True}, {\"name\": \"done\", \"value\": True}], \"create_user_in_company\": True},\n",
    ")\n",
    "transition3.save()"
   ]
  },
  {
   "cell_type": "code",
   "execution_count": 21,
   "metadata": {},
   "outputs": [],
   "source": [
    "transition4 = ApprovalTransition(\n",
    "    name=\"Rejeitar\",\n",
    "    origin=step3,\n",
    "    destination=step5,\n",
    "    condition={\"===\": [{\"var\": \"request.action\"}, \"Rejeitar\"]},\n",
    "    callback={'change_fields': [{'name': 'done', 'value': True}]},\n",
    ")\n",
    "transition4.save()"
   ]
  },
  {
   "cell_type": "markdown",
   "metadata": {},
   "source": [
    "Caso necessário, verifique se existe alguma solicitação de acesso que foi criada antes do fluxo ser parametrizado"
   ]
  },
  {
   "cell_type": "code",
   "execution_count": 22,
   "metadata": {},
   "outputs": [
    {
     "data": {
      "text/plain": [
       "<QuerySet []>"
      ]
     },
     "execution_count": 22,
     "metadata": {},
     "output_type": "execute_result"
    },
    {
     "data": {
      "text/plain": [
       "<QuerySet []>"
      ]
     },
     "execution_count": 22,
     "metadata": {},
     "output_type": "execute_result"
    }
   ],
   "source": [
    "AccessRequest.objects.filter(company=company, approval_step__isnull=True)"
   ]
  },
  {
   "cell_type": "markdown",
   "metadata": {},
   "source": [
    "Se existir, você pode atualizar essas solicitações para estarem no primeiro passo. Será necessário aprová-las através da interface"
   ]
  },
  {
   "cell_type": "code",
   "execution_count": 23,
   "metadata": {},
   "outputs": [
    {
     "data": {
      "text/plain": [
       "0"
      ]
     },
     "execution_count": 23,
     "metadata": {},
     "output_type": "execute_result"
    },
    {
     "data": {
      "text/plain": [
       "0"
      ]
     },
     "execution_count": 23,
     "metadata": {},
     "output_type": "execute_result"
    }
   ],
   "source": [
    "AccessRequest.objects.filter(company=company, approval_step__isnull=True).update(approval_step=step1)"
   ]
  },
  {
   "cell_type": "code",
   "execution_count": null,
   "metadata": {},
   "outputs": [],
   "source": []
  },
  {
   "cell_type": "code",
   "execution_count": null,
   "metadata": {},
   "outputs": [],
   "source": []
  },
  {
   "cell_type": "code",
   "execution_count": 32,
   "metadata": {},
   "outputs": [],
   "source": [
    "ast=ApprovalStep.objects.get(name=\"Aguardando Aprovação do Supervisor\",approval_flow__company__name=\"Demo Energia\")"
   ]
  },
  {
   "cell_type": "code",
   "execution_count": 33,
   "metadata": {},
   "outputs": [
    {
     "data": {
      "text/plain": [
       "True"
      ]
     },
     "execution_count": 33,
     "metadata": {},
     "output_type": "execute_result"
    },
    {
     "data": {
      "text/plain": [
       "True"
      ]
     },
     "execution_count": 33,
     "metadata": {},
     "output_type": "execute_result"
    }
   ],
   "source": [
    "ast.responsible_supervisor"
   ]
  },
  {
   "cell_type": "code",
   "execution_count": null,
   "metadata": {},
   "outputs": [],
   "source": []
  },
  {
   "cell_type": "code",
   "execution_count": null,
   "metadata": {},
   "outputs": [],
   "source": []
  },
  {
   "cell_type": "code",
   "execution_count": null,
   "metadata": {},
   "outputs": [],
   "source": []
  },
  {
   "cell_type": "code",
   "execution_count": null,
   "metadata": {},
   "outputs": [],
   "source": []
  },
  {
   "cell_type": "code",
   "execution_count": null,
   "metadata": {},
   "outputs": [],
   "source": []
  },
  {
   "cell_type": "code",
   "execution_count": null,
   "metadata": {},
   "outputs": [],
   "source": []
  },
  {
   "cell_type": "code",
   "execution_count": null,
   "metadata": {},
   "outputs": [],
   "source": []
  }
 ],
 "metadata": {
  "kernelspec": {
   "display_name": "Django Shell-Plus",
   "language": "python",
   "name": "django_extensions"
  },
  "language_info": {
   "codemirror_mode": {
    "name": "ipython",
    "version": 3
   },
   "file_extension": ".py",
   "mimetype": "text/x-python",
   "name": "python",
   "nbconvert_exporter": "python",
   "pygments_lexer": "ipython3",
   "version": "3.7.9"
  }
 },
 "nbformat": 4,
 "nbformat_minor": 2
}
