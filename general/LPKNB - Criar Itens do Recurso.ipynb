{
 "cells": [
  {
   "cell_type": "code",
   "execution_count": 20,
   "id": "ceb35deb",
   "metadata": {},
   "outputs": [],
   "source": [
    "from openpyxl import load_workbook\n",
    "from tqdm.notebook import tqdm\n",
    "filename2 = \"Lista de Materiais Conserva RioSP.xlsx\"\n",
    "wb = load_workbook(filename2)\n",
    "ws = wb[wb.sheetnames[0]]\n",
    "# wb.sheetnames[0]"
   ]
  },
  {
   "cell_type": "code",
   "execution_count": 21,
   "id": "e802c1dd",
   "metadata": {},
   "outputs": [
    {
     "data": {
      "text/plain": [
       "(494,\n",
       " {'Cod': 1021527,\n",
       "  'Descrição do Material': 'ABRACADEIRA 4\" X 250MM',\n",
       "  'UN': 'UN'})"
      ]
     },
     "execution_count": 21,
     "metadata": {},
     "output_type": "execute_result"
    }
   ],
   "source": [
    "header = []\n",
    "values = []\n",
    "\n",
    "for index, row in enumerate(ws.rows):\n",
    "    if index == 0:\n",
    "        header = list([a.value for a in row])\n",
    "        continue\n",
    "    obj = {}\n",
    "    for col_index, cell in enumerate(row):\n",
    "        value = cell.value\n",
    "        obj[header[col_index]] = value\n",
    "    values.append(obj)\n",
    "len(values),values[0]"
   ]
  },
  {
   "cell_type": "code",
   "execution_count": 22,
   "id": "ebca8fa0",
   "metadata": {},
   "outputs": [
    {
     "data": {
      "text/plain": [
       "<Company: f0b6948c-3d75-47dd-94a6-4b8ea4373ce4: Demo Concessionárias>"
      ]
     },
     "execution_count": 22,
     "metadata": {},
     "output_type": "execute_result"
    }
   ],
   "source": [
    "# Unidade\n",
    "company=Company.objects.get(name='Demo Concessionárias')\n",
    "company"
   ]
  },
  {
   "cell_type": "code",
   "execution_count": 23,
   "id": "fc0b90a3",
   "metadata": {},
   "outputs": [
    {
     "data": {
      "text/plain": [
       "<QuerySet [<Contract: [] 7ed2ef07-0023-49f0-b14f-179dae0d0eca: treinamento dia 22/03 (2023-01-01 - 2023-12-13)>]>"
      ]
     },
     "execution_count": 23,
     "metadata": {},
     "output_type": "execute_result"
    }
   ],
   "source": [
    "# Contrato\n",
    "contract = Contract.objects.filter(subcompany__company=company,name='treinamento dia 22/03')\n",
    "contract"
   ]
  },
  {
   "cell_type": "code",
   "execution_count": 24,
   "id": "edf787e2",
   "metadata": {},
   "outputs": [],
   "source": [
    "name_session='Pavimento seção1'"
   ]
  },
  {
   "cell_type": "code",
   "execution_count": 25,
   "id": "6c005ec1",
   "metadata": {},
   "outputs": [
    {
     "data": {
      "text/plain": [
       "1"
      ]
     },
     "execution_count": 25,
     "metadata": {},
     "output_type": "execute_result"
    }
   ],
   "source": [
    "# Seção do contrato\n",
    "cs=ContractService.objects.annotate(qtd_unit_price=Count('contract_item_unit_prices')).filter(firms__subcompany__company=company,description=name_session,qtd_unit_price__gte=1)\n",
    "cs.count()"
   ]
  },
  {
   "cell_type": "code",
   "execution_count": 26,
   "id": "7f323690",
   "metadata": {},
   "outputs": [
    {
     "data": {
      "text/plain": [
       "<User: rlcs - Kartado CS>"
      ]
     },
     "execution_count": 26,
     "metadata": {},
     "output_type": "execute_result"
    }
   ],
   "source": [
    "# Usuário\n",
    "user=User.objects.get(username='rlcs')\n",
    "user"
   ]
  },
  {
   "cell_type": "code",
   "execution_count": 27,
   "id": "8fece316",
   "metadata": {},
   "outputs": [
    {
     "data": {
      "text/plain": [
       "<Entity: [Demo Concessionárias] Exemplo>"
      ]
     },
     "execution_count": 27,
     "metadata": {},
     "output_type": "execute_result"
    }
   ],
   "source": [
    "# Entidade\n",
    "entity=Entity.objects.filter(company=company).first()\n",
    "entity"
   ]
  },
  {
   "cell_type": "code",
   "execution_count": 28,
   "id": "48d971a1",
   "metadata": {},
   "outputs": [],
   "source": [
    "# Quantidade de itens\n",
    "amount=10000"
   ]
  },
  {
   "cell_type": "code",
   "execution_count": 29,
   "id": "fd1842eb",
   "metadata": {},
   "outputs": [
    {
     "data": {
      "application/vnd.jupyter.widget-view+json": {
       "model_id": "7ebde36ecb4f4499a03e4519fc4422f5",
       "version_major": 2,
       "version_minor": 0
      },
      "text/plain": [
       "  0%|          | 0/494 [00:00<?, ?it/s]"
      ]
     },
     "metadata": {},
     "output_type": "display_data"
    },
    {
     "name": "stdout",
     "output_type": "stream",
     "text": [
      "'NoneType' object has no attribute 'company'\n",
      "'NoneType' object has no attribute 'company'\n",
      "'NoneType' object has no attribute 'company'\n",
      "'NoneType' object has no attribute 'company'\n",
      "'NoneType' object has no attribute 'company'\n",
      "'NoneType' object has no attribute 'company'\n",
      "'NoneType' object has no attribute 'company'\n",
      "'NoneType' object has no attribute 'company'\n",
      "'NoneType' object has no attribute 'company'\n",
      "'NoneType' object has no attribute 'company'\n",
      "'NoneType' object has no attribute 'company'\n",
      "'NoneType' object has no attribute 'company'\n",
      "'NoneType' object has no attribute 'company'\n",
      "'NoneType' object has no attribute 'company'\n",
      "'NoneType' object has no attribute 'company'\n",
      "'NoneType' object has no attribute 'company'\n",
      "'NoneType' object has no attribute 'company'\n",
      "'NoneType' object has no attribute 'company'\n",
      "'NoneType' object has no attribute 'company'\n",
      "'NoneType' object has no attribute 'company'\n",
      "'NoneType' object has no attribute 'company'\n",
      "'NoneType' object has no attribute 'company'\n",
      "'NoneType' object has no attribute 'company'\n",
      "'NoneType' object has no attribute 'company'\n",
      "'NoneType' object has no attribute 'company'\n",
      "'NoneType' object has no attribute 'company'\n",
      "'NoneType' object has no attribute 'company'\n",
      "'NoneType' object has no attribute 'company'\n",
      "'NoneType' object has no attribute 'company'\n",
      "'NoneType' object has no attribute 'company'\n",
      "'NoneType' object has no attribute 'company'\n",
      "'NoneType' object has no attribute 'company'\n",
      "'NoneType' object has no attribute 'company'\n",
      "'NoneType' object has no attribute 'company'\n",
      "'NoneType' object has no attribute 'company'\n",
      "'NoneType' object has no attribute 'company'\n",
      "'NoneType' object has no attribute 'company'\n",
      "'NoneType' object has no attribute 'company'\n",
      "'NoneType' object has no attribute 'company'\n",
      "'NoneType' object has no attribute 'company'\n",
      "'NoneType' object has no attribute 'company'\n",
      "'NoneType' object has no attribute 'company'\n",
      "'NoneType' object has no attribute 'company'\n",
      "'NoneType' object has no attribute 'company'\n",
      "'NoneType' object has no attribute 'company'\n",
      "'NoneType' object has no attribute 'company'\n",
      "'NoneType' object has no attribute 'company'\n",
      "'NoneType' object has no attribute 'company'\n",
      "'NoneType' object has no attribute 'company'\n",
      "'NoneType' object has no attribute 'company'\n",
      "'NoneType' object has no attribute 'company'\n",
      "'NoneType' object has no attribute 'company'\n",
      "'NoneType' object has no attribute 'company'\n",
      "'NoneType' object has no attribute 'company'\n",
      "'NoneType' object has no attribute 'company'\n",
      "'NoneType' object has no attribute 'company'\n",
      "'NoneType' object has no attribute 'company'\n",
      "'NoneType' object has no attribute 'company'\n",
      "'NoneType' object has no attribute 'company'\n",
      "'NoneType' object has no attribute 'company'\n",
      "'NoneType' object has no attribute 'company'\n",
      "'NoneType' object has no attribute 'company'\n",
      "'NoneType' object has no attribute 'company'\n",
      "'NoneType' object has no attribute 'company'\n",
      "'NoneType' object has no attribute 'company'\n",
      "'NoneType' object has no attribute 'company'\n",
      "'NoneType' object has no attribute 'company'\n",
      "'NoneType' object has no attribute 'company'\n",
      "'NoneType' object has no attribute 'company'\n",
      "'NoneType' object has no attribute 'company'\n",
      "'NoneType' object has no attribute 'company'\n",
      "'NoneType' object has no attribute 'company'\n",
      "'NoneType' object has no attribute 'company'\n",
      "'NoneType' object has no attribute 'company'\n",
      "'NoneType' object has no attribute 'company'\n",
      "'NoneType' object has no attribute 'company'\n",
      "'NoneType' object has no attribute 'company'\n",
      "'NoneType' object has no attribute 'company'\n",
      "'NoneType' object has no attribute 'company'\n",
      "'NoneType' object has no attribute 'company'\n",
      "'NoneType' object has no attribute 'company'\n",
      "'NoneType' object has no attribute 'company'\n",
      "'NoneType' object has no attribute 'company'\n",
      "'NoneType' object has no attribute 'company'\n",
      "'NoneType' object has no attribute 'company'\n",
      "'NoneType' object has no attribute 'company'\n",
      "'NoneType' object has no attribute 'company'\n",
      "'NoneType' object has no attribute 'company'\n",
      "'NoneType' object has no attribute 'company'\n",
      "'NoneType' object has no attribute 'company'\n",
      "'NoneType' object has no attribute 'company'\n",
      "'NoneType' object has no attribute 'company'\n",
      "'NoneType' object has no attribute 'company'\n",
      "'NoneType' object has no attribute 'company'\n",
      "'NoneType' object has no attribute 'company'\n",
      "'NoneType' object has no attribute 'company'\n",
      "'NoneType' object has no attribute 'company'\n",
      "'NoneType' object has no attribute 'company'\n",
      "'NoneType' object has no attribute 'company'\n",
      "'NoneType' object has no attribute 'company'\n",
      "'NoneType' object has no attribute 'company'\n",
      "'NoneType' object has no attribute 'company'\n",
      "'NoneType' object has no attribute 'company'\n",
      "'NoneType' object has no attribute 'company'\n",
      "'NoneType' object has no attribute 'company'\n",
      "'NoneType' object has no attribute 'company'\n",
      "'NoneType' object has no attribute 'company'\n",
      "'NoneType' object has no attribute 'company'\n",
      "'NoneType' object has no attribute 'company'\n",
      "'NoneType' object has no attribute 'company'\n",
      "'NoneType' object has no attribute 'company'\n",
      "'NoneType' object has no attribute 'company'\n",
      "'NoneType' object has no attribute 'company'\n",
      "'NoneType' object has no attribute 'company'\n",
      "'NoneType' object has no attribute 'company'\n",
      "'NoneType' object has no attribute 'company'\n",
      "'NoneType' object has no attribute 'company'\n",
      "'NoneType' object has no attribute 'company'\n",
      "'NoneType' object has no attribute 'company'\n",
      "'NoneType' object has no attribute 'company'\n",
      "'NoneType' object has no attribute 'company'\n",
      "'NoneType' object has no attribute 'company'\n",
      "'NoneType' object has no attribute 'company'\n",
      "'NoneType' object has no attribute 'company'\n",
      "'NoneType' object has no attribute 'company'\n",
      "'NoneType' object has no attribute 'company'\n",
      "'NoneType' object has no attribute 'company'\n",
      "'NoneType' object has no attribute 'company'\n",
      "'NoneType' object has no attribute 'company'\n",
      "'NoneType' object has no attribute 'company'\n",
      "'NoneType' object has no attribute 'company'\n",
      "'NoneType' object has no attribute 'company'\n",
      "'NoneType' object has no attribute 'company'\n",
      "'NoneType' object has no attribute 'company'\n",
      "'NoneType' object has no attribute 'company'\n",
      "'NoneType' object has no attribute 'company'\n",
      "'NoneType' object has no attribute 'company'\n",
      "'NoneType' object has no attribute 'company'\n",
      "'NoneType' object has no attribute 'company'\n",
      "'NoneType' object has no attribute 'company'\n",
      "'NoneType' object has no attribute 'company'\n",
      "'NoneType' object has no attribute 'company'\n",
      "'NoneType' object has no attribute 'company'\n",
      "'NoneType' object has no attribute 'company'\n",
      "'NoneType' object has no attribute 'company'\n",
      "'NoneType' object has no attribute 'company'\n",
      "'NoneType' object has no attribute 'company'\n",
      "'NoneType' object has no attribute 'company'\n",
      "'NoneType' object has no attribute 'company'\n",
      "'NoneType' object has no attribute 'company'\n",
      "'NoneType' object has no attribute 'company'\n",
      "'NoneType' object has no attribute 'company'\n",
      "'NoneType' object has no attribute 'company'\n",
      "'NoneType' object has no attribute 'company'\n",
      "'NoneType' object has no attribute 'company'\n",
      "'NoneType' object has no attribute 'company'\n",
      "'NoneType' object has no attribute 'company'\n",
      "'NoneType' object has no attribute 'company'\n",
      "'NoneType' object has no attribute 'company'\n",
      "'NoneType' object has no attribute 'company'\n",
      "'NoneType' object has no attribute 'company'\n",
      "'NoneType' object has no attribute 'company'\n",
      "'NoneType' object has no attribute 'company'\n",
      "'NoneType' object has no attribute 'company'\n",
      "'NoneType' object has no attribute 'company'\n",
      "'NoneType' object has no attribute 'company'\n",
      "'NoneType' object has no attribute 'company'\n",
      "'NoneType' object has no attribute 'company'\n",
      "'NoneType' object has no attribute 'company'\n",
      "'NoneType' object has no attribute 'company'\n",
      "'NoneType' object has no attribute 'company'\n",
      "'NoneType' object has no attribute 'company'\n",
      "'NoneType' object has no attribute 'company'\n",
      "'NoneType' object has no attribute 'company'\n",
      "'NoneType' object has no attribute 'company'\n",
      "'NoneType' object has no attribute 'company'\n",
      "'NoneType' object has no attribute 'company'\n",
      "'NoneType' object has no attribute 'company'\n",
      "'NoneType' object has no attribute 'company'\n",
      "'NoneType' object has no attribute 'company'\n",
      "'NoneType' object has no attribute 'company'\n",
      "'NoneType' object has no attribute 'company'\n",
      "'NoneType' object has no attribute 'company'\n",
      "'NoneType' object has no attribute 'company'\n"
     ]
    },
    {
     "name": "stdout",
     "output_type": "stream",
     "text": [
      "'NoneType' object has no attribute 'company'\n",
      "'NoneType' object has no attribute 'company'\n",
      "'NoneType' object has no attribute 'company'\n",
      "'NoneType' object has no attribute 'company'\n",
      "'NoneType' object has no attribute 'company'\n",
      "'NoneType' object has no attribute 'company'\n",
      "'NoneType' object has no attribute 'company'\n",
      "'NoneType' object has no attribute 'company'\n",
      "'NoneType' object has no attribute 'company'\n",
      "'NoneType' object has no attribute 'company'\n",
      "'NoneType' object has no attribute 'company'\n",
      "'NoneType' object has no attribute 'company'\n",
      "'NoneType' object has no attribute 'company'\n",
      "'NoneType' object has no attribute 'company'\n",
      "'NoneType' object has no attribute 'company'\n",
      "'NoneType' object has no attribute 'company'\n",
      "'NoneType' object has no attribute 'company'\n",
      "'NoneType' object has no attribute 'company'\n",
      "'NoneType' object has no attribute 'company'\n",
      "'NoneType' object has no attribute 'company'\n",
      "'NoneType' object has no attribute 'company'\n",
      "'NoneType' object has no attribute 'company'\n",
      "'NoneType' object has no attribute 'company'\n",
      "'NoneType' object has no attribute 'company'\n",
      "'NoneType' object has no attribute 'company'\n",
      "'NoneType' object has no attribute 'company'\n",
      "'NoneType' object has no attribute 'company'\n",
      "'NoneType' object has no attribute 'company'\n",
      "'NoneType' object has no attribute 'company'\n",
      "'NoneType' object has no attribute 'company'\n",
      "'NoneType' object has no attribute 'company'\n",
      "'NoneType' object has no attribute 'company'\n",
      "'NoneType' object has no attribute 'company'\n",
      "'NoneType' object has no attribute 'company'\n",
      "'NoneType' object has no attribute 'company'\n",
      "'NoneType' object has no attribute 'company'\n",
      "'NoneType' object has no attribute 'company'\n",
      "'NoneType' object has no attribute 'company'\n",
      "'NoneType' object has no attribute 'company'\n",
      "'NoneType' object has no attribute 'company'\n",
      "'NoneType' object has no attribute 'company'\n",
      "'NoneType' object has no attribute 'company'\n",
      "'NoneType' object has no attribute 'company'\n",
      "'NoneType' object has no attribute 'company'\n",
      "'NoneType' object has no attribute 'company'\n",
      "'NoneType' object has no attribute 'company'\n",
      "'NoneType' object has no attribute 'company'\n",
      "'NoneType' object has no attribute 'company'\n",
      "'NoneType' object has no attribute 'company'\n",
      "'NoneType' object has no attribute 'company'\n",
      "'NoneType' object has no attribute 'company'\n",
      "'NoneType' object has no attribute 'company'\n",
      "'NoneType' object has no attribute 'company'\n",
      "'NoneType' object has no attribute 'company'\n",
      "'NoneType' object has no attribute 'company'\n",
      "'NoneType' object has no attribute 'company'\n",
      "'NoneType' object has no attribute 'company'\n",
      "'NoneType' object has no attribute 'company'\n",
      "'NoneType' object has no attribute 'company'\n",
      "'NoneType' object has no attribute 'company'\n",
      "'NoneType' object has no attribute 'company'\n",
      "'NoneType' object has no attribute 'company'\n",
      "'NoneType' object has no attribute 'company'\n",
      "'NoneType' object has no attribute 'company'\n",
      "'NoneType' object has no attribute 'company'\n",
      "'NoneType' object has no attribute 'company'\n",
      "'NoneType' object has no attribute 'company'\n",
      "'NoneType' object has no attribute 'company'\n",
      "'NoneType' object has no attribute 'company'\n",
      "'NoneType' object has no attribute 'company'\n",
      "'NoneType' object has no attribute 'company'\n",
      "'NoneType' object has no attribute 'company'\n",
      "'NoneType' object has no attribute 'company'\n",
      "'NoneType' object has no attribute 'company'\n",
      "'NoneType' object has no attribute 'company'\n",
      "'NoneType' object has no attribute 'company'\n",
      "'NoneType' object has no attribute 'company'\n",
      "'NoneType' object has no attribute 'company'\n",
      "'NoneType' object has no attribute 'company'\n",
      "'NoneType' object has no attribute 'company'\n",
      "'NoneType' object has no attribute 'company'\n",
      "'NoneType' object has no attribute 'company'\n",
      "'NoneType' object has no attribute 'company'\n",
      "'NoneType' object has no attribute 'company'\n",
      "'NoneType' object has no attribute 'company'\n",
      "'NoneType' object has no attribute 'company'\n",
      "'NoneType' object has no attribute 'company'\n",
      "'NoneType' object has no attribute 'company'\n",
      "'NoneType' object has no attribute 'company'\n",
      "'NoneType' object has no attribute 'company'\n",
      "'NoneType' object has no attribute 'company'\n",
      "'NoneType' object has no attribute 'company'\n",
      "'NoneType' object has no attribute 'company'\n",
      "'NoneType' object has no attribute 'company'\n",
      "'NoneType' object has no attribute 'company'\n",
      "'NoneType' object has no attribute 'company'\n",
      "'NoneType' object has no attribute 'company'\n",
      "'NoneType' object has no attribute 'company'\n",
      "'NoneType' object has no attribute 'company'\n",
      "'NoneType' object has no attribute 'company'\n",
      "'NoneType' object has no attribute 'company'\n",
      "'NoneType' object has no attribute 'company'\n",
      "'NoneType' object has no attribute 'company'\n",
      "'NoneType' object has no attribute 'company'\n",
      "'NoneType' object has no attribute 'company'\n",
      "'NoneType' object has no attribute 'company'\n",
      "'NoneType' object has no attribute 'company'\n",
      "'NoneType' object has no attribute 'company'\n",
      "'NoneType' object has no attribute 'company'\n",
      "'NoneType' object has no attribute 'company'\n",
      "'NoneType' object has no attribute 'company'\n",
      "'NoneType' object has no attribute 'company'\n",
      "'NoneType' object has no attribute 'company'\n",
      "'NoneType' object has no attribute 'company'\n",
      "'NoneType' object has no attribute 'company'\n",
      "'NoneType' object has no attribute 'company'\n",
      "'NoneType' object has no attribute 'company'\n",
      "'NoneType' object has no attribute 'company'\n",
      "'NoneType' object has no attribute 'company'\n",
      "'NoneType' object has no attribute 'company'\n",
      "'NoneType' object has no attribute 'company'\n",
      "'NoneType' object has no attribute 'company'\n",
      "'NoneType' object has no attribute 'company'\n",
      "'NoneType' object has no attribute 'company'\n",
      "'NoneType' object has no attribute 'company'\n",
      "'NoneType' object has no attribute 'company'\n",
      "'NoneType' object has no attribute 'company'\n",
      "'NoneType' object has no attribute 'company'\n",
      "'NoneType' object has no attribute 'company'\n",
      "'NoneType' object has no attribute 'company'\n",
      "'NoneType' object has no attribute 'company'\n",
      "'NoneType' object has no attribute 'company'\n",
      "'NoneType' object has no attribute 'company'\n",
      "'NoneType' object has no attribute 'company'\n",
      "'NoneType' object has no attribute 'company'\n",
      "'NoneType' object has no attribute 'company'\n",
      "'NoneType' object has no attribute 'company'\n",
      "'NoneType' object has no attribute 'company'\n",
      "'NoneType' object has no attribute 'company'\n",
      "'NoneType' object has no attribute 'company'\n",
      "'NoneType' object has no attribute 'company'\n",
      "'NoneType' object has no attribute 'company'\n",
      "'NoneType' object has no attribute 'company'\n",
      "'NoneType' object has no attribute 'company'\n",
      "'NoneType' object has no attribute 'company'\n",
      "'NoneType' object has no attribute 'company'\n",
      "'NoneType' object has no attribute 'company'\n",
      "'NoneType' object has no attribute 'company'\n",
      "'NoneType' object has no attribute 'company'\n",
      "'NoneType' object has no attribute 'company'\n",
      "'NoneType' object has no attribute 'company'\n",
      "'NoneType' object has no attribute 'company'\n",
      "'NoneType' object has no attribute 'company'\n",
      "'NoneType' object has no attribute 'company'\n",
      "'NoneType' object has no attribute 'company'\n",
      "'NoneType' object has no attribute 'company'\n",
      "'NoneType' object has no attribute 'company'\n",
      "'NoneType' object has no attribute 'company'\n",
      "'NoneType' object has no attribute 'company'\n",
      "'NoneType' object has no attribute 'company'\n",
      "'NoneType' object has no attribute 'company'\n",
      "'NoneType' object has no attribute 'company'\n",
      "'NoneType' object has no attribute 'company'\n",
      "'NoneType' object has no attribute 'company'\n",
      "'NoneType' object has no attribute 'company'\n",
      "'NoneType' object has no attribute 'company'\n",
      "'NoneType' object has no attribute 'company'\n",
      "'NoneType' object has no attribute 'company'\n",
      "'NoneType' object has no attribute 'company'\n",
      "'NoneType' object has no attribute 'company'\n",
      "'NoneType' object has no attribute 'company'\n",
      "'NoneType' object has no attribute 'company'\n",
      "'NoneType' object has no attribute 'company'\n",
      "'NoneType' object has no attribute 'company'\n",
      "'NoneType' object has no attribute 'company'\n",
      "'NoneType' object has no attribute 'company'\n",
      "'NoneType' object has no attribute 'company'\n",
      "'NoneType' object has no attribute 'company'\n",
      "'NoneType' object has no attribute 'company'\n",
      "'NoneType' object has no attribute 'company'\n",
      "'NoneType' object has no attribute 'company'\n",
      "'NoneType' object has no attribute 'company'\n",
      "'NoneType' object has no attribute 'company'\n"
     ]
    },
    {
     "name": "stdout",
     "output_type": "stream",
     "text": [
      "'NoneType' object has no attribute 'company'\n",
      "'NoneType' object has no attribute 'company'\n",
      "'NoneType' object has no attribute 'company'\n",
      "'NoneType' object has no attribute 'company'\n",
      "'NoneType' object has no attribute 'company'\n",
      "'NoneType' object has no attribute 'company'\n",
      "'NoneType' object has no attribute 'company'\n",
      "'NoneType' object has no attribute 'company'\n",
      "'NoneType' object has no attribute 'company'\n",
      "'NoneType' object has no attribute 'company'\n",
      "'NoneType' object has no attribute 'company'\n",
      "'NoneType' object has no attribute 'company'\n",
      "'NoneType' object has no attribute 'company'\n",
      "'NoneType' object has no attribute 'company'\n",
      "'NoneType' object has no attribute 'company'\n",
      "'NoneType' object has no attribute 'company'\n",
      "'NoneType' object has no attribute 'company'\n",
      "'NoneType' object has no attribute 'company'\n",
      "'NoneType' object has no attribute 'company'\n",
      "'NoneType' object has no attribute 'company'\n",
      "'NoneType' object has no attribute 'company'\n",
      "'NoneType' object has no attribute 'company'\n",
      "'NoneType' object has no attribute 'company'\n",
      "'NoneType' object has no attribute 'company'\n",
      "'NoneType' object has no attribute 'company'\n",
      "'NoneType' object has no attribute 'company'\n",
      "'NoneType' object has no attribute 'company'\n",
      "'NoneType' object has no attribute 'company'\n",
      "'NoneType' object has no attribute 'company'\n",
      "'NoneType' object has no attribute 'company'\n",
      "'NoneType' object has no attribute 'company'\n",
      "'NoneType' object has no attribute 'company'\n",
      "'NoneType' object has no attribute 'company'\n",
      "'NoneType' object has no attribute 'company'\n",
      "'NoneType' object has no attribute 'company'\n",
      "'NoneType' object has no attribute 'company'\n",
      "'NoneType' object has no attribute 'company'\n",
      "'NoneType' object has no attribute 'company'\n",
      "'NoneType' object has no attribute 'company'\n",
      "'NoneType' object has no attribute 'company'\n",
      "'NoneType' object has no attribute 'company'\n",
      "'NoneType' object has no attribute 'company'\n",
      "'NoneType' object has no attribute 'company'\n",
      "'NoneType' object has no attribute 'company'\n",
      "'NoneType' object has no attribute 'company'\n",
      "'NoneType' object has no attribute 'company'\n",
      "'NoneType' object has no attribute 'company'\n",
      "'NoneType' object has no attribute 'company'\n",
      "'NoneType' object has no attribute 'company'\n",
      "'NoneType' object has no attribute 'company'\n",
      "'NoneType' object has no attribute 'company'\n",
      "'NoneType' object has no attribute 'company'\n",
      "'NoneType' object has no attribute 'company'\n",
      "'NoneType' object has no attribute 'company'\n",
      "'NoneType' object has no attribute 'company'\n",
      "'NoneType' object has no attribute 'company'\n",
      "'NoneType' object has no attribute 'company'\n",
      "'NoneType' object has no attribute 'company'\n",
      "'NoneType' object has no attribute 'company'\n",
      "'NoneType' object has no attribute 'company'\n",
      "'NoneType' object has no attribute 'company'\n",
      "'NoneType' object has no attribute 'company'\n",
      "'NoneType' object has no attribute 'company'\n",
      "'NoneType' object has no attribute 'company'\n",
      "'NoneType' object has no attribute 'company'\n",
      "'NoneType' object has no attribute 'company'\n",
      "'NoneType' object has no attribute 'company'\n",
      "'NoneType' object has no attribute 'company'\n",
      "'NoneType' object has no attribute 'company'\n",
      "'NoneType' object has no attribute 'company'\n",
      "'NoneType' object has no attribute 'company'\n",
      "'NoneType' object has no attribute 'company'\n",
      "'NoneType' object has no attribute 'company'\n",
      "'NoneType' object has no attribute 'company'\n",
      "'NoneType' object has no attribute 'company'\n",
      "'NoneType' object has no attribute 'company'\n",
      "'NoneType' object has no attribute 'company'\n",
      "'NoneType' object has no attribute 'company'\n",
      "'NoneType' object has no attribute 'company'\n",
      "'NoneType' object has no attribute 'company'\n",
      "'NoneType' object has no attribute 'company'\n",
      "'NoneType' object has no attribute 'company'\n",
      "'NoneType' object has no attribute 'company'\n",
      "'NoneType' object has no attribute 'company'\n",
      "'NoneType' object has no attribute 'company'\n",
      "'NoneType' object has no attribute 'company'\n",
      "'NoneType' object has no attribute 'company'\n",
      "'NoneType' object has no attribute 'company'\n",
      "'NoneType' object has no attribute 'company'\n",
      "'NoneType' object has no attribute 'company'\n",
      "'NoneType' object has no attribute 'company'\n",
      "'NoneType' object has no attribute 'company'\n",
      "'NoneType' object has no attribute 'company'\n",
      "'NoneType' object has no attribute 'company'\n",
      "'NoneType' object has no attribute 'company'\n",
      "'NoneType' object has no attribute 'company'\n",
      "'NoneType' object has no attribute 'company'\n",
      "'NoneType' object has no attribute 'company'\n",
      "'NoneType' object has no attribute 'company'\n",
      "'NoneType' object has no attribute 'company'\n",
      "'NoneType' object has no attribute 'company'\n",
      "'NoneType' object has no attribute 'company'\n",
      "'NoneType' object has no attribute 'company'\n",
      "'NoneType' object has no attribute 'company'\n",
      "'NoneType' object has no attribute 'company'\n",
      "'NoneType' object has no attribute 'company'\n",
      "'NoneType' object has no attribute 'company'\n",
      "'NoneType' object has no attribute 'company'\n",
      "'NoneType' object has no attribute 'company'\n",
      "'NoneType' object has no attribute 'company'\n",
      "'NoneType' object has no attribute 'company'\n",
      "'NoneType' object has no attribute 'company'\n",
      "'NoneType' object has no attribute 'company'\n",
      "'NoneType' object has no attribute 'company'\n",
      "'NoneType' object has no attribute 'company'\n",
      "'NoneType' object has no attribute 'company'\n",
      "'NoneType' object has no attribute 'company'\n",
      "'NoneType' object has no attribute 'company'\n",
      "'NoneType' object has no attribute 'company'\n",
      "'NoneType' object has no attribute 'company'\n",
      "'NoneType' object has no attribute 'company'\n",
      "'NoneType' object has no attribute 'company'\n",
      "'NoneType' object has no attribute 'company'\n",
      "'NoneType' object has no attribute 'company'\n",
      "'NoneType' object has no attribute 'company'\n",
      "'NoneType' object has no attribute 'company'\n",
      "'NoneType' object has no attribute 'company'\n"
     ]
    }
   ],
   "source": [
    "for a in tqdm(values):\n",
    "    # Recurso\n",
    "    r=Resource(company=company,\n",
    "               name=a['Descrição do Material'],\n",
    "               unit=a['UN'],\n",
    "               total_amount=amount)\n",
    "    r.save()\n",
    "    \n",
    "    # Recurso do Contrato\n",
    "    sor = ServiceOrderResource(contract=contract[0],\n",
    "                           resource=r,\n",
    "                           amount=amount,\n",
    "                           created_by=user)\n",
    "    sor.save()\n",
    "    \n",
    "    # atribui o Recurso do Contrato ao Item de Preço Unitário\n",
    "    cup = ContractItemUnitPrice(sort_string=str(a['Cod']),resource=sor)\n",
    "    cup.save()\n",
    "    \n",
    "    # Adiciona a seção do contrato desejada\n",
    "    cs[0].contract_item_unit_prices.add(cup)"
   ]
  },
  {
   "cell_type": "code",
   "execution_count": null,
   "id": "daa858a7",
   "metadata": {},
   "outputs": [],
   "source": []
  },
  {
   "cell_type": "code",
   "execution_count": null,
   "id": "f20d5e73",
   "metadata": {},
   "outputs": [],
   "source": []
  },
  {
   "cell_type": "code",
   "execution_count": null,
   "id": "255eec5f",
   "metadata": {},
   "outputs": [],
   "source": []
  },
  {
   "cell_type": "code",
   "execution_count": null,
   "id": "57f1b6f0",
   "metadata": {},
   "outputs": [],
   "source": []
  },
  {
   "cell_type": "code",
   "execution_count": null,
   "id": "451cb3fa",
   "metadata": {},
   "outputs": [],
   "source": []
  },
  {
   "cell_type": "code",
   "execution_count": null,
   "id": "77d300c9",
   "metadata": {},
   "outputs": [],
   "source": []
  },
  {
   "cell_type": "code",
   "execution_count": null,
   "id": "d5faf781",
   "metadata": {},
   "outputs": [],
   "source": []
  },
  {
   "cell_type": "code",
   "execution_count": null,
   "id": "8beecaeb",
   "metadata": {},
   "outputs": [],
   "source": []
  },
  {
   "cell_type": "markdown",
   "id": "a762635d",
   "metadata": {},
   "source": [
    "# Adicionar item a item no contrato"
   ]
  },
  {
   "cell_type": "code",
   "execution_count": 63,
   "id": "c0374aad",
   "metadata": {},
   "outputs": [],
   "source": [
    "# Recurso(pode ser do RDO ou Contrato)\n",
    "r=Resource(company=company,name=values[0]['Descrição do Material'],unit=values[0]['UN'],total_amount=amount)\n",
    "r.save()"
   ]
  },
  {
   "cell_type": "code",
   "execution_count": 65,
   "id": "01222647",
   "metadata": {},
   "outputs": [
    {
     "name": "stdout",
     "output_type": "stream",
     "text": [
      "'NoneType' object has no attribute 'company'\n"
     ]
    }
   ],
   "source": [
    "# Recurso do Contrato\n",
    "sor = ServiceOrderResource(contract=contract[0],\n",
    "                           resource=r,\n",
    "                           entity=entity,\n",
    "                           amount=amount,\n",
    "                           created_by=user)\n",
    "sor.save()"
   ]
  },
  {
   "cell_type": "code",
   "execution_count": 66,
   "id": "c580eabd",
   "metadata": {},
   "outputs": [
    {
     "data": {
      "text/plain": [
       "UUID('58b2df4a-5aee-4dfa-827f-24ef89771226')"
      ]
     },
     "execution_count": 66,
     "metadata": {},
     "output_type": "execute_result"
    }
   ],
   "source": [
    "sor.uuid"
   ]
  },
  {
   "cell_type": "code",
   "execution_count": 68,
   "id": "beef7d93",
   "metadata": {},
   "outputs": [],
   "source": [
    "# atribui o Recurso do Contrato ao Item de Preço Unitário\n",
    "cup = ContractItemUnitPrice(entity=entity,resource=sor)\n",
    "cup.save()"
   ]
  },
  {
   "cell_type": "code",
   "execution_count": 69,
   "id": "40fa7f8e",
   "metadata": {},
   "outputs": [
    {
     "data": {
      "text/plain": [
       "<ContractItemUnitPrice: [Demo Concessionárias] 1adeee8b-40ae-455e-bb75-1f27c5467f7b:  ABRACADEIRA 4\" X 250MM>"
      ]
     },
     "execution_count": 69,
     "metadata": {},
     "output_type": "execute_result"
    }
   ],
   "source": [
    "cup.uuid"
   ]
  },
  {
   "cell_type": "code",
   "execution_count": 76,
   "id": "21500afb",
   "metadata": {},
   "outputs": [],
   "source": [
    "# Adiciona a seção do contrato desejada\n",
    "cs[0].contract_item_unit_prices.add(cup)"
   ]
  },
  {
   "cell_type": "code",
   "execution_count": null,
   "id": "9fe8d272",
   "metadata": {},
   "outputs": [],
   "source": []
  },
  {
   "cell_type": "code",
   "execution_count": null,
   "id": "86fc5e0f",
   "metadata": {},
   "outputs": [],
   "source": []
  }
 ],
 "metadata": {
  "kernelspec": {
   "display_name": "Django Shell-Plus",
   "language": "python",
   "name": "django_extensions"
  },
  "language_info": {
   "codemirror_mode": {
    "name": "ipython",
    "version": 3
   },
   "file_extension": ".py",
   "mimetype": "text/x-python",
   "name": "python",
   "nbconvert_exporter": "python",
   "pygments_lexer": "ipython3",
   "version": "3.7.9"
  }
 },
 "nbformat": 4,
 "nbformat_minor": 5
}
