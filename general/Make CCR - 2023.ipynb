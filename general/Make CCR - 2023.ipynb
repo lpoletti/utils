{
 "cells": [
  {
   "cell_type": "code",
   "execution_count": 1,
   "metadata": {},
   "outputs": [
    {
     "name": "stdout",
     "output_type": "stream",
     "text": [
      "STAGE=PRODUCTION\r\n"
     ]
    }
   ],
   "source": [
    "!cat .env"
   ]
  },
  {
   "cell_type": "code",
   "execution_count": 2,
   "metadata": {},
   "outputs": [],
   "source": [
    "import json\n",
    "from tqdm.notebook import tqdm\n",
    "from openpyxl import load_workbook\n",
    "from django.contrib.gis.geos import Point\n",
    "from helpers.signals import DisableSignals\n",
    "from helpers.strings import get_autonumber_array\n",
    "from simple_history.utils import bulk_create_with_history\n",
    "from uuid import uuid4\n",
    "from django.utils import timezone\n",
    "import random\n",
    "from datetime import timedelta\n",
    "from datetime import datetime\n",
    "from collections import defaultdict"
   ]
  },
  {
   "cell_type": "code",
   "execution_count": 3,
   "metadata": {},
   "outputs": [],
   "source": [
    "arteriscs = User.objects.get(username=\"rlcs\")"
   ]
  },
  {
   "cell_type": "code",
   "execution_count": 4,
   "metadata": {},
   "outputs": [],
   "source": [
    "company = Company.objects.get(name=\"Homolog - CCR\")"
   ]
  },
  {
   "cell_type": "code",
   "execution_count": 5,
   "metadata": {},
   "outputs": [],
   "source": [
    "def get_sheet_values(filename, sheet_index):\n",
    "    wb = load_workbook(filename + \".xlsx\")\n",
    "    sheetname = wb.sheetnames[sheet_index]\n",
    "    ws = wb[sheetname]\n",
    "    \n",
    "    header = []\n",
    "    values = []\n",
    "\n",
    "    for index, row in enumerate(ws.rows):\n",
    "        if index == 0:\n",
    "            header = list([a.value for a in row])\n",
    "            continue\n",
    "        obj = {}\n",
    "        for col_index, cell in enumerate(row):\n",
    "            value = cell.value\n",
    "            obj[header[col_index]] = value\n",
    "        values.append(obj)\n",
    "        \n",
    "    return values"
   ]
  },
  {
   "cell_type": "code",
   "execution_count": 56,
   "metadata": {},
   "outputs": [],
   "source": [
    "rotineira2022 = get_sheet_values('Inspecoes_v2', 0)"
   ]
  },
  {
   "cell_type": "code",
   "execution_count": 6,
   "metadata": {},
   "outputs": [],
   "source": [
    "prefix_blacklist = [\"1) \",\"2) \",\"3) \",\"4) \",\"5) \",\"6) \",\"7) \",\"8) \",\"9) \",\"10) \",\"11) \",\"12) \",\"13) \",\"14) \",\"15) \",\n",
    "                    \"1. \",\"2. \",\"3. \",\"4. \",\"5. \",\"6. \",\"7. \",\"8. \",\"9. \",\"10. \",\"11. \",\"12. \",\"13. \",\"14. \",\"15. \",\n",
    "                    \"1.\",\"2.\",\"3.\",\"4.\",\"5.\",\"6.\",\"7.\",\"8.\",\"9.\",\"10.\",\"11.\",\"12.\",\"13.\",\"14.\",\"15.\",\n",
    "                    \"1 – \",\"2 – \",\"3 – \",\"4 – \",\"5 – \",\"6 – \",\"7 – \",\"8 – \",\"9 – \",\"10 – \",\"11 – \",\"12 – \",\"13 – \",\"14 – \",\"15 – \",\n",
    "                    \"1 - \",\"2 - \",\"3 - \",\"4 - \",\"5 - \",\"6 - \",\"7 - \",\"8 - \",\"9 - \",\"10 - \",\"11 - \",\"12 - \", \"13 - \",\"14 - \",\"15 - \",\n",
    "                    \"10 – \", \"9  – \", \"1- \",  \"2 – \",\"4 –\", \"5– \", \"6  - \", \"3  – \", \"8  – \", \"5  – \", \"4  – \", \"6  – \", \"-1. \",\n",
    "                   \"• \", \"•\"]"
   ]
  },
  {
   "cell_type": "code",
   "execution_count": 7,
   "metadata": {},
   "outputs": [],
   "source": [
    "def separate_photos(value):\n",
    "    value=tuple(value.split(' '))\n",
    "    \n",
    "    return value"
   ]
  },
  {
   "cell_type": "code",
   "execution_count": 8,
   "metadata": {},
   "outputs": [],
   "source": [
    "def parse_terapias(terapias):\n",
    "    terapias_list = ([\n",
    "        b.strip(' .,;') for b in terapias.split('\\n') \n",
    "        if b.strip(' .,;') \n",
    "        and b != \"Por ora não há recomendações de terapia.\" \n",
    "        and b != \"-\"\n",
    "        and b != \"- Indicações de Terapia\"]\n",
    "        if terapias else [])\n",
    "    ret_terapias = []\n",
    "#     print(terapias_list)\n",
    "\n",
    "    \n",
    "    for terapia in terapias_list:\n",
    "#         print(terapia)\n",
    "\n",
    "        if terapia[0:2] in prefix_blacklist:\n",
    "            terapia = terapia[2:]\n",
    "        elif terapia[0:3] in prefix_blacklist:\n",
    "            terapia = terapia[3:]            \n",
    "        elif terapia[0:4] in prefix_blacklist:\n",
    "            terapia = terapia[4:]\n",
    "        elif terapia[0:5] in prefix_blacklist:\n",
    "            terapia = terapia[5:]\n",
    "\n",
    "        if terapia == \"Implantação de sinalização horizontall\":\n",
    "            terapia = \"Implantação de sinalização horizontal\"\n",
    "            \n",
    "        if terapia == \"- Indicações de Terapia\":\n",
    "            continue\n",
    "#         print(terapia)\n",
    "        \n",
    "\n",
    "        \n",
    "        terapia=terapia.replace('f','F').replace(').', ')').replace('.', ';').replace(' (', '; (').replace('.(', '; (').replace(';;', ';').replace(';(', '; (').replace('  ', ' ')\n",
    "#         print(terapia)\n",
    "#         if 'e' in terapia.split('; ')[1]:\n",
    "#             print(terapia.split('; ')[1].strip('.,;)(').replace(',', '').replace(' e', '').replace(' 1', ' 01').replace(' 2', ' 02').replace(' 3', ' 03').replace(' 4', ' 04').replace(' 5', ' 05').replace(' 6', ' 06').replace(' 7', ' 07').replace(' 8', ' 08').replace(' 9', ' 09').replace('010', '10').replace('011', '11').replace('012', '12').replace('013', '13').replace('014', '14').replace('015', '15').replace('016', '16').replace('017', '17').replace('018', '18').replace('019', '19'))\n",
    "#         terapia = (terapia.split('; ')[0].strip(' .,;'), separate_photos(terapia.split('; ')[1].strip(' .,;)(').replace(',', '').replace(' e', '').replace(' 1', ' 01').replace(' 2', ' 02').replace(' 3', ' 03').replace(' 4', ' 04').replace(' 5', ' 05').replace(' 6', ' 06').replace(' 7', ' 07').replace(' 8', ' 08').replace(' 9', ' 09').replace('010', '10').replace('011', '11').replace('012', '12').replace('013', '13').replace('014', '14').replace('015', '15').replace('016', '16').replace('017', '17').replace('018', '18').replace('019', '19').replace('020', '20').replace('021', '21').replace('022', '22').replace('Fotos', '').replace('Foto', '').replace('023', '23').replace('024', '24').replace('025', '25').replace('026', '26').replace('  ', ' ').strip()))\n",
    "        terapia = (terapia.split('; ')[0].strip(' .,;'), separate_photos(terapia.split('; ')[1].strip(' .,;)(').replace(',', '').replace(' e', '').replace(' 01', ' 1').replace(' 02', ' 2').replace(' 03', ' 3').replace(' 04', ' 4').replace(' 05', ' 5').replace(' 06', ' 6').replace(' 07', ' 7').replace(' 08', ' 8').replace(' 09', ' 9').replace('010', '10').replace('011', '11').replace('012', '12').replace('013', '13').replace('014', '14').replace('015', '15').replace('016', '16').replace('017', '17').replace('018', '18').replace('019', '19').replace('020', '20').replace('021', '21').replace('022', '22').replace('Fotos', '').replace('Foto', '').replace('023', '23').replace('024', '24').replace('025', '25').replace('026', '26').replace('  ', ' ').strip()))\n",
    "#         terapia[1] = separate_photos(terapia[1])\n",
    "        ret_terapias.append(terapia)\n",
    "\n",
    "        \n",
    "        \n",
    "#     print(terapias)\n",
    "#     print(ret_terapias)\n",
    "#     print('\\n')\n",
    "#     print('\\n')\n",
    "    return ret_terapias"
   ]
  },
  {
   "cell_type": "code",
   "execution_count": 9,
   "metadata": {},
   "outputs": [],
   "source": [
    "all_terapias = []"
   ]
  },
  {
   "cell_type": "code",
   "execution_count": 61,
   "metadata": {
    "scrolled": true
   },
   "outputs": [
    {
     "data": {
      "application/vnd.jupyter.widget-view+json": {
       "model_id": "e5405e4bb6244cfd9d087decc88fe6d6",
       "version_major": 2,
       "version_minor": 0
      },
      "text/plain": [
       "  0%|          | 0/185 [00:00<?, ?it/s]"
      ]
     },
     "metadata": {},
     "output_type": "display_data"
    }
   ],
   "source": [
    "for a in tqdm(rotineira2022):\n",
    "    all_terapias += parse_terapias(a['Terapia 1'])"
   ]
  },
  {
   "cell_type": "code",
   "execution_count": 10,
   "metadata": {},
   "outputs": [],
   "source": [
    "def get_connected_reference(company, resource, key, value, default=None):\n",
    "    select_options = company.custom_options[resource]['fields'][key]['selectOptions']['options']\n",
    "    try:\n",
    "        return next(a['value'] for a in select_options if a['name'].lower() == value.lower())\n",
    "    except StopIteration:\n",
    "        return default"
   ]
  },
  {
   "cell_type": "code",
   "execution_count": 11,
   "metadata": {},
   "outputs": [],
   "source": [
    "def get_form_reference(form, key, value):\n",
    "    field = next(a for a in form.form_fields['fields'] if a['apiName'] == key)\n",
    "    try:\n",
    "        return next(a['value'] for a in field['selectOptions']['options'] if a['name'].lower() == value.lower())\n",
    "    except StopIteration:\n",
    "        print(\"DEURUIMM\")\n",
    "        print(form, key, value)\n",
    "        return \"\""
   ]
  },
  {
   "cell_type": "code",
   "execution_count": 12,
   "metadata": {},
   "outputs": [],
   "source": [
    "def get_job_number(company):\n",
    "\n",
    "    instance_type = \"job\"\n",
    "    key_name = \"{}_name_format\".format(instance_type)\n",
    "    # Get datetime and serial arrays\n",
    "    data = get_autonumber_array(company, instance_type)\n",
    "    # Get company prefix\n",
    "    if \"company_prefix\" in company.metadata:\n",
    "        data[\"prefixo\"] = company.metadata[\"company_prefix\"]\n",
    "    else:\n",
    "        data[\"prefixo\"] = \"[{}]\".format(company.name)\n",
    "    # Make number\n",
    "    try:\n",
    "        if key_name in company.metadata:\n",
    "            number = company.metadata[key_name].format(**data)\n",
    "        else:\n",
    "            raise Exception(\"Variáveis de nome inválidas!\")\n",
    "    except Exception as e:\n",
    "        print(e)\n",
    "        # Fallback\n",
    "        # UHIT-job-2018.0001\n",
    "        number = \"{prefixo}-{nome}-{anoCompleto}.{serialAno}\".format(**data)\n",
    "\n",
    "    return number"
   ]
  },
  {
   "cell_type": "code",
   "execution_count": 13,
   "metadata": {},
   "outputs": [],
   "source": [
    "def get_reporting_number(company, occurrence_kind):\n",
    "\n",
    "    key_name = \"RP_name_format\"\n",
    "    number_format = \"\"\n",
    "\n",
    "    if key_name in company.metadata:\n",
    "        try:\n",
    "            number_format = company.metadata[key_name][\n",
    "                occurrence_kind\n",
    "            ]\n",
    "        except Exception:\n",
    "            if \"default\" in company.metadata[key_name]:\n",
    "                number_format = company.metadata[key_name][\n",
    "                    \"default\"\n",
    "                ]\n",
    "            else:\n",
    "                raise serializers.ValidationError(\n",
    "                    \"Variáveis de nome inválidas!\"\n",
    "                )\n",
    "    else:\n",
    "        raise serializers.ValidationError(\"Variáveis de nome inválidas!\")\n",
    "\n",
    "    instance_type = number_format[\"type\"]\n",
    "\n",
    "    # Get datetime and serial arrays\n",
    "    data = get_autonumber_array(company.uuid, instance_type)\n",
    "\n",
    "    # Get company prefix\n",
    "    if \"company_prefix\" in company.metadata:\n",
    "        data[\"prefixo\"] = company.metadata[\"company_prefix\"]\n",
    "    else:\n",
    "        data[\"prefixo\"] = \"[{}]\".format(company.name)\n",
    "\n",
    "    # Make number\n",
    "    try:\n",
    "        number = number_format[\"format\"].format(**data)\n",
    "    except Exception as e:\n",
    "        print(e)\n",
    "        # Fallback\n",
    "        # UHIT-RG-2018.0001\n",
    "        number = \"{prefixo}-{nome}-{anoCompleto}.{serialAno}\".format(**data)\n",
    "\n",
    "    return number"
   ]
  },
  {
   "cell_type": "code",
   "execution_count": 14,
   "metadata": {},
   "outputs": [],
   "source": [
    "def get_direction_name(company, value):\n",
    "    choices=company.custom_options['reporting']['fields']['direction']['select_options']['options']\n",
    "#     items={a['name']: a['short'] for a in choices}\n",
    "    items={a['value']: a['short'] for a in choices}\n",
    "    \n",
    "    return items[value].replace('/','')"
   ]
  },
  {
   "cell_type": "code",
   "execution_count": 15,
   "metadata": {},
   "outputs": [],
   "source": [
    "def get_direction_value(company, name):\n",
    "    choices=company.custom_options['reporting']['fields']['direction']['select_options']['options']\n",
    "#     items={a['name']: a['short'] for a in choices}\n",
    "    items={a['short'].replace('/',''): a['value'] for a in choices}\n",
    "    \n",
    "    return items[name.upper()]"
   ]
  },
  {
   "cell_type": "code",
   "execution_count": 16,
   "metadata": {},
   "outputs": [],
   "source": [
    "executado = ServiceOrderActionStatus.objects.get(companies=company, name=\"Executado\")\n",
    "identificado = ServiceOrderActionStatus.objects.get(companies=company, name=\"Identificado\")\n",
    "firm = Firm.objects.get(company=company, name=\"Não atribuído\")\n",
    "form_inspecao_rotineira = OccurrenceType.objects.get(company=company, name=\"Inspeção Rotineira\")"
   ]
  },
  {
   "cell_type": "code",
   "execution_count": 64,
   "metadata": {},
   "outputs": [
    {
     "data": {
      "application/vnd.jupyter.widget-view+json": {
       "model_id": "356b26d89e1443bfad795a664969f467",
       "version_major": 2,
       "version_minor": 0
      },
      "text/plain": [
       "  0%|          | 0/185 [00:00<?, ?it/s]"
      ]
     },
     "metadata": {},
     "output_type": "display_data"
    }
   ],
   "source": [
    "objects = []\n",
    "terapia_objects = []\n",
    "jobs = []\n",
    "photos=[]\n",
    "photos_general=[]\n",
    "counter_inside=0\n",
    "\n",
    "for a in tqdm(rotineira2022):\n",
    "    \n",
    "#     km = float(a['km'].replace(\"+\", \".\"))\n",
    "    road_name = a['Rodovia'].replace(' ', '-').replace('/','-')\n",
    "    road_name_photo = a['Rodovia'].replace(' ', '').replace('-','').replace('/','-')\n",
    "#     print(road_name_photo)\n",
    "    \n",
    "    try:\n",
    "        oae = Reporting.objects.get(company=company, form_data__artesp_service=a['Item de serviço ARTESP'], occurrence_type__occurrence_kind=\"2\")\n",
    "    except Exception as e:\n",
    "        print(f\"OAE não encontrada - Item da ARTESP {a['Item de serviço ARTESP']}\")\n",
    "        continue\n",
    "        \n",
    "    inspection_2022 = oae.children.filter(executed_at__year=2022, occurrence_type__name__icontains=\"rotineira\")\n",
    "    if inspection_2022.exists():\n",
    "        print(f'Inspeção já existe - {inspection_2022.first().number}')\n",
    "#         inspection_2022.first().delete()\n",
    "        continue\n",
    "\n",
    "    inspection_uuid = uuid4()   \n",
    "    \n",
    "    photos_uuid=defaultdict(list)\n",
    "    \n",
    "    terapias = parse_terapias(a['Terapia 1'])\n",
    "    extensions=['.jpeg', '.jpg', '.png']\n",
    "    \n",
    "    for terapia in terapias:\n",
    "        \n",
    "        for photo_name in terapia[1]:\n",
    "            counter_inside+=1\n",
    "            for i, item in enumerate(extensions):\n",
    "        \n",
    "                photo=ReportingFile(upload='sisoae_2022_vpt_v2/' + road_name_photo + '/' + road_name_photo + '-km' + a['km'] + '-' + get_direction_name(company, oae.direction) + '/' + road_name_photo + '-km' + a['km'] + '-' + get_direction_name(company, oae.direction) + '/' + 'Foto' + photo_name + item,\n",
    "                                uuid=uuid4(), description='Imagem da Terapia', reporting_id=inspection_uuid, created_by=arteriscs)\n",
    "                photo_general=ReportingFile(upload='sisoae_2022_vpt_v2/' + road_name_photo + '/' + road_name_photo + '-km' + a['km'] + '-' + get_direction_name(company, oae.direction) + '/' + road_name_photo + '-km' + a['km'] + '-' + get_direction_name(company, oae.direction) + '/' + 'Foto' + photo_name + item,\n",
    "                                uuid=uuid4(), description='Imagem da Terapia',  kind='antes', reporting_id=inspection_uuid, created_by=arteriscs)\n",
    "                try:\n",
    "                    photo.upload.size\n",
    "                    photo_general.upload.size\n",
    "                except Exception as e:\n",
    "                    if i == 2:\n",
    "                        print(f'{road_name_photo}/{road_name_photo}-km{a[\"km\"]}-{get_direction_name(company, oae.direction)}/{road_name_photo}-km{a[\"km\"]}-{get_direction_name(company, oae.direction)}/Foto{photo_name}')\n",
    "                    continue\n",
    "                else:\n",
    "                    photos_uuid[terapia[0]].append(str(photo.uuid))\n",
    "                    photos.append(photo)\n",
    "                    photos_general.append(photo_general)\n",
    "                    break\n",
    "#     continue\n",
    "     \n",
    "#     print(photos_uuid)\n",
    "    terapias = [\n",
    "        {\"description\": terapia, \"occurrence_type\":\"f7858877-f5a5-4416-ba1a-39e5f320b30d\", \"treatment_images\": photo_uuid}\n",
    "        for terapia, photo_uuid in photos_uuid.items() if terapia is not None and terapia != []\n",
    "    ]\n",
    "#     print(terapias)\n",
    "    \n",
    "    try:\n",
    "        structural_classification = get_form_reference(form_inspecao_rotineira, 'structuralClassification', a['Estrutural'].strip()) if not \"-\" in a['Estrutural'] else \"\"\n",
    "        functional_classification = get_form_reference(form_inspecao_rotineira, 'functionalClassification', a['Funcional'].strip()) if not \"-\" in a['Funcional'] else \"\"\n",
    "        wear_classification = get_form_reference(form_inspecao_rotineira, 'wearClassification', a['Durabilidade'].strip()) if not \"-\" in a['Durabilidade'] else \"\"\n",
    "    except Exception as e:\n",
    "        print(f'Erro na função \"get_form_reference\" - {e}')\n",
    "        structural_classification = \"\"\n",
    "        functional_classification = \"\"\n",
    "        wear_classification = \"\"\n",
    "        \n",
    "    if isinstance(a['Encontrado em'], str):\n",
    "        a['Encontrado em'] = datetime.strptime(a['Encontrado em'], \"%d/%m/%Y\")\n",
    "        \n",
    "    try:\n",
    "        obj = {\n",
    "            \"uuid\": inspection_uuid,\n",
    "            \"number\": get_reporting_number(company, form_inspecao_rotineira.occurrence_kind),\n",
    "            \"km\": oae.km,\n",
    "            \"end_km\": oae.end_km,\n",
    "            'direction': oae.direction,\n",
    "            'lane': oae.lane,\n",
    "            'occurrence_type': form_inspecao_rotineira,\n",
    "            'status': executado,\n",
    "            'executed_at': a['Encontrado em'],\n",
    "            'found_at': a['Encontrado em'],\n",
    "            'created_at': a['Encontrado em'],\n",
    "            'road_name': oae.road_name,\n",
    "            'parent_id': oae.uuid,\n",
    "            'form_data': {\n",
    "                'repairs': a['Reparos'].replace('\\n', '') if a['Reparos'] is not None else None,\n",
    "                'reform': a['Reformas'].replace('\\n', '') if a['Reformas'] is not None else None,\n",
    "                'intervention': a['Reforços'].replace('\\n', '') if a['Reforços'] is not None else None,\n",
    "                'visual_structure_board': a['Característica visual do tabuleiro'].replace('\\n', '')if a['Característica visual do tabuleiro'] is not None else None,\n",
    "                'visual_structure_joints': a['Característica visual das juntas de dilatação'].replace('\\n', '') if a['Característica visual das juntas de dilatação'] is not None else None, \n",
    "                'visual_structure_supports': a['Característica visual dos aparelhos de apoio'].replace('\\n', '') if a['Característica visual dos aparelhos de apoio'] is not None else None,\n",
    "                'visual_structure_walls': a['Característica visual dos pilares'].replace('\\n', '') if a['Característica visual dos pilares'] is not None else None,\n",
    "                'visual_structure_connections': a['Característica visual dos encontros'].replace('\\n', '') if a['Característica visual dos encontros'] is not None else None,\n",
    "                'paving_conditions': a['Pavimento'].replace('\\n', '') if a['Pavimento'] is not None else None,\n",
    "                'coasting': a['Acostamento'].replace('\\n', '') if a['Acostamento'] is not None else None,\n",
    "                'drains': a['Drenagem'].replace('\\n', '') if a['Drenagem'] is not None else None,\n",
    "                'guard_rail': a['Guarda-Corpos'].replace('\\n', '') if a['Guarda-Corpos'] is not None else None,\n",
    "                'defenses': a['Defensas rígidas'].replace('\\n', '') if a['Defensas rígidas'] is not None else None,\n",
    "                'slope': a['Taludes'].replace('\\n', '') if a['Taludes'] is not None else None,\n",
    "                'lightning': a['Iluminação'].replace('\\n', '') if a['Iluminação'] is not None else None,\n",
    "                'signaling': a['Sinalização'].replace('\\n', '') if a['Sinalização'] is not None else None,\n",
    "                'templates': a['Gabaritos'].replace('\\n', '') if a['Gabaritos'] is not None else None,\n",
    "                'dolfins': a['Dolfins'].replace('\\n', '') if a['Dolfins'] is not None else None,\n",
    "                'additional_info': a['Informações complementares'].replace('\\n', '') if a['Informações complementares'] is not None else None,\n",
    "                \"construction\": oae.form_data['construction'] if 'construction' in oae.form_data and oae.form_data['construction'] is not None else None,\n",
    "                'therapy': terapias if terapias and terapias != [] else None,\n",
    "                'structural_classification': structural_classification,\n",
    "                'functional_classification': functional_classification, \n",
    "                'wear_classification': wear_classification,\n",
    "                \"artesp_service\": a[\"Item de serviço ARTESP\"],\n",
    "            },\n",
    "            'created_by': arteriscs,\n",
    "            'point': oae.point,\n",
    "            'road': oae.road,\n",
    "            'company': oae.company,\n",
    "            'firm': firm\n",
    "        }\n",
    "        try:\n",
    "            if not obj['form_data']['therapy']:\n",
    "                del obj['form_data']['therapy']\n",
    "            inspection = Reporting(**obj)\n",
    "            objects.append(inspection)\n",
    "        except Exception as e:\n",
    "            print(f'Erro de criação de terapia do item {a[\"Item de serviço ARTESP\"]} - {e}')\n",
    "            continue\n",
    "    except AttributeError as e:\n",
    "        print(f'Erro geral - {e}')\n",
    "        continue\n",
    "                  \n",
    "    continue\n",
    "        \n",
    "    job_title = \"Fase 2 - {}\".format(oae.form_data['artesp_service'])\n",
    "    job_color = \"#7030A0\"\n",
    "    job_exists = Job.objects.filter(title=job_title, company=company).exists()\n",
    "    \n",
    "    if job_exists:\n",
    "        job_title = \"Fase 3 - {}\".format(oae.form_data['artesp_service'])\n",
    "        job_color = \"#00CCFF\"\n",
    "        \n",
    "    job = Job(\n",
    "        title=job_title,\n",
    "        description=job_color,\n",
    "        number=get_job_number(company),\n",
    "        start_date=a['Encontrado em'],\n",
    "        end_date=a['Encontrado em'] + timedelta(days=365),\n",
    "        inspection=inspection,\n",
    "        parent_inventory=oae,\n",
    "        created_by=arteriscs,\n",
    "        firm=firm,\n",
    "        worker=arteriscs,\n",
    "        company=company\n",
    "    )\n",
    "    jobs.append(job)\n",
    "    \n",
    "    for terapia in terapias:\n",
    "        form_terapia = OccurrenceType.objects.get(company=company, uuid=terapia['occurrence_type'])\n",
    "        obj = {\n",
    "            \"number\": get_reporting_number(company, form_terapia.occurrence_kind),\n",
    "            \"km\": oae.km,\n",
    "            \"end_km\": oae.end_km,\n",
    "            'direction': oae.direction,\n",
    "            'lane': oae.lane,\n",
    "            'occurrence_type': form_terapia,\n",
    "            'status': identificado,\n",
    "            'found_at': a['Encontrado em'],\n",
    "            'created_at': a['Encontrado em'],\n",
    "            'road_name': oae.road_name,\n",
    "            'parent_id': oae.uuid,\n",
    "            'form_data': {\n",
    "                'description': terapia['description']\n",
    "            },\n",
    "            'created_by': arteriscs,\n",
    "            'point': oae.point,\n",
    "            'road': oae.road,\n",
    "            'company': oae.company,\n",
    "            'firm': firm,\n",
    "            'job': job\n",
    "        }\n",
    "        try:\n",
    "            terapia_obj = Reporting(**obj)\n",
    "            terapia_objects.append(terapia_obj)\n",
    "        except Exception:\n",
    "            print('terapia error')"
   ]
  },
  {
   "cell_type": "code",
   "execution_count": 65,
   "metadata": {},
   "outputs": [
    {
     "data": {
      "text/plain": [
       "580"
      ]
     },
     "execution_count": 65,
     "metadata": {},
     "output_type": "execute_result"
    }
   ],
   "source": [
    "len(list(photos_general))"
   ]
  },
  {
   "cell_type": "code",
   "execution_count": 66,
   "metadata": {
    "scrolled": true
   },
   "outputs": [
    {
     "name": "stderr",
     "output_type": "stream",
     "text": [
      "/home/ubuntu/hidros-backend/venv/lib/python3.6/site-packages/django/db/models/fields/__init__.py:1427: RuntimeWarning: DateTimeField Reporting.executed_at received a naive datetime (2022-07-01 00:00:00) while time zone support is active.\n",
      "  RuntimeWarning)\n",
      "/home/ubuntu/hidros-backend/venv/lib/python3.6/site-packages/django/db/models/fields/__init__.py:1427: RuntimeWarning: DateTimeField Reporting.found_at received a naive datetime (2022-07-01 00:00:00) while time zone support is active.\n",
      "  RuntimeWarning)\n",
      "/home/ubuntu/hidros-backend/venv/lib/python3.6/site-packages/django/db/models/fields/__init__.py:1427: RuntimeWarning: DateTimeField Reporting.executed_at received a naive datetime (2022-07-19 00:00:00) while time zone support is active.\n",
      "  RuntimeWarning)\n",
      "/home/ubuntu/hidros-backend/venv/lib/python3.6/site-packages/django/db/models/fields/__init__.py:1427: RuntimeWarning: DateTimeField Reporting.found_at received a naive datetime (2022-07-19 00:00:00) while time zone support is active.\n",
      "  RuntimeWarning)\n",
      "/home/ubuntu/hidros-backend/venv/lib/python3.6/site-packages/django/db/models/fields/__init__.py:1427: RuntimeWarning: DateTimeField Reporting.executed_at received a naive datetime (2022-12-01 00:00:00) while time zone support is active.\n",
      "  RuntimeWarning)\n",
      "/home/ubuntu/hidros-backend/venv/lib/python3.6/site-packages/django/db/models/fields/__init__.py:1427: RuntimeWarning: DateTimeField Reporting.found_at received a naive datetime (2022-12-01 00:00:00) while time zone support is active.\n",
      "  RuntimeWarning)\n",
      "/home/ubuntu/hidros-backend/venv/lib/python3.6/site-packages/django/db/models/fields/__init__.py:1427: RuntimeWarning: DateTimeField Reporting.executed_at received a naive datetime (2022-07-22 00:00:00) while time zone support is active.\n",
      "  RuntimeWarning)\n",
      "/home/ubuntu/hidros-backend/venv/lib/python3.6/site-packages/django/db/models/fields/__init__.py:1427: RuntimeWarning: DateTimeField Reporting.found_at received a naive datetime (2022-07-22 00:00:00) while time zone support is active.\n",
      "  RuntimeWarning)\n",
      "/home/ubuntu/hidros-backend/venv/lib/python3.6/site-packages/django/db/models/fields/__init__.py:1427: RuntimeWarning: DateTimeField Reporting.executed_at received a naive datetime (2022-08-01 00:00:00) while time zone support is active.\n",
      "  RuntimeWarning)\n",
      "/home/ubuntu/hidros-backend/venv/lib/python3.6/site-packages/django/db/models/fields/__init__.py:1427: RuntimeWarning: DateTimeField Reporting.found_at received a naive datetime (2022-08-01 00:00:00) while time zone support is active.\n",
      "  RuntimeWarning)\n",
      "/home/ubuntu/hidros-backend/venv/lib/python3.6/site-packages/django/db/models/fields/__init__.py:1427: RuntimeWarning: DateTimeField Reporting.executed_at received a naive datetime (2022-08-16 00:00:00) while time zone support is active.\n",
      "  RuntimeWarning)\n",
      "/home/ubuntu/hidros-backend/venv/lib/python3.6/site-packages/django/db/models/fields/__init__.py:1427: RuntimeWarning: DateTimeField Reporting.found_at received a naive datetime (2022-08-16 00:00:00) while time zone support is active.\n",
      "  RuntimeWarning)\n",
      "/home/ubuntu/hidros-backend/venv/lib/python3.6/site-packages/django/db/models/fields/__init__.py:1427: RuntimeWarning: DateTimeField Reporting.executed_at received a naive datetime (2022-08-17 00:00:00) while time zone support is active.\n",
      "  RuntimeWarning)\n",
      "/home/ubuntu/hidros-backend/venv/lib/python3.6/site-packages/django/db/models/fields/__init__.py:1427: RuntimeWarning: DateTimeField Reporting.found_at received a naive datetime (2022-08-17 00:00:00) while time zone support is active.\n",
      "  RuntimeWarning)\n",
      "/home/ubuntu/hidros-backend/venv/lib/python3.6/site-packages/django/db/models/fields/__init__.py:1427: RuntimeWarning: DateTimeField Reporting.executed_at received a naive datetime (2022-08-13 00:00:00) while time zone support is active.\n",
      "  RuntimeWarning)\n",
      "/home/ubuntu/hidros-backend/venv/lib/python3.6/site-packages/django/db/models/fields/__init__.py:1427: RuntimeWarning: DateTimeField Reporting.found_at received a naive datetime (2022-08-13 00:00:00) while time zone support is active.\n",
      "  RuntimeWarning)\n",
      "/home/ubuntu/hidros-backend/venv/lib/python3.6/site-packages/django/db/models/fields/__init__.py:1427: RuntimeWarning: DateTimeField HistoricalReporting.executed_at received a naive datetime (2022-07-01 00:00:00) while time zone support is active.\n",
      "  RuntimeWarning)\n",
      "/home/ubuntu/hidros-backend/venv/lib/python3.6/site-packages/django/db/models/fields/__init__.py:1427: RuntimeWarning: DateTimeField HistoricalReporting.found_at received a naive datetime (2022-07-01 00:00:00) while time zone support is active.\n",
      "  RuntimeWarning)\n",
      "/home/ubuntu/hidros-backend/venv/lib/python3.6/site-packages/django/db/models/fields/__init__.py:1427: RuntimeWarning: DateTimeField HistoricalReporting.executed_at received a naive datetime (2022-07-19 00:00:00) while time zone support is active.\n",
      "  RuntimeWarning)\n",
      "/home/ubuntu/hidros-backend/venv/lib/python3.6/site-packages/django/db/models/fields/__init__.py:1427: RuntimeWarning: DateTimeField HistoricalReporting.found_at received a naive datetime (2022-07-19 00:00:00) while time zone support is active.\n",
      "  RuntimeWarning)\n",
      "/home/ubuntu/hidros-backend/venv/lib/python3.6/site-packages/django/db/models/fields/__init__.py:1427: RuntimeWarning: DateTimeField HistoricalReporting.executed_at received a naive datetime (2022-12-01 00:00:00) while time zone support is active.\n",
      "  RuntimeWarning)\n",
      "/home/ubuntu/hidros-backend/venv/lib/python3.6/site-packages/django/db/models/fields/__init__.py:1427: RuntimeWarning: DateTimeField HistoricalReporting.found_at received a naive datetime (2022-12-01 00:00:00) while time zone support is active.\n",
      "  RuntimeWarning)\n",
      "/home/ubuntu/hidros-backend/venv/lib/python3.6/site-packages/django/db/models/fields/__init__.py:1427: RuntimeWarning: DateTimeField HistoricalReporting.executed_at received a naive datetime (2022-07-22 00:00:00) while time zone support is active.\n",
      "  RuntimeWarning)\n",
      "/home/ubuntu/hidros-backend/venv/lib/python3.6/site-packages/django/db/models/fields/__init__.py:1427: RuntimeWarning: DateTimeField HistoricalReporting.found_at received a naive datetime (2022-07-22 00:00:00) while time zone support is active.\n",
      "  RuntimeWarning)\n",
      "/home/ubuntu/hidros-backend/venv/lib/python3.6/site-packages/django/db/models/fields/__init__.py:1427: RuntimeWarning: DateTimeField HistoricalReporting.executed_at received a naive datetime (2022-08-01 00:00:00) while time zone support is active.\n",
      "  RuntimeWarning)\n",
      "/home/ubuntu/hidros-backend/venv/lib/python3.6/site-packages/django/db/models/fields/__init__.py:1427: RuntimeWarning: DateTimeField HistoricalReporting.found_at received a naive datetime (2022-08-01 00:00:00) while time zone support is active.\n",
      "  RuntimeWarning)\n",
      "/home/ubuntu/hidros-backend/venv/lib/python3.6/site-packages/django/db/models/fields/__init__.py:1427: RuntimeWarning: DateTimeField HistoricalReporting.executed_at received a naive datetime (2022-08-16 00:00:00) while time zone support is active.\n",
      "  RuntimeWarning)\n",
      "/home/ubuntu/hidros-backend/venv/lib/python3.6/site-packages/django/db/models/fields/__init__.py:1427: RuntimeWarning: DateTimeField HistoricalReporting.found_at received a naive datetime (2022-08-16 00:00:00) while time zone support is active.\n",
      "  RuntimeWarning)\n",
      "/home/ubuntu/hidros-backend/venv/lib/python3.6/site-packages/django/db/models/fields/__init__.py:1427: RuntimeWarning: DateTimeField HistoricalReporting.executed_at received a naive datetime (2022-08-17 00:00:00) while time zone support is active.\n",
      "  RuntimeWarning)\n",
      "/home/ubuntu/hidros-backend/venv/lib/python3.6/site-packages/django/db/models/fields/__init__.py:1427: RuntimeWarning: DateTimeField HistoricalReporting.found_at received a naive datetime (2022-08-17 00:00:00) while time zone support is active.\n",
      "  RuntimeWarning)\n",
      "/home/ubuntu/hidros-backend/venv/lib/python3.6/site-packages/django/db/models/fields/__init__.py:1427: RuntimeWarning: DateTimeField HistoricalReporting.executed_at received a naive datetime (2022-08-13 00:00:00) while time zone support is active.\n",
      "  RuntimeWarning)\n",
      "/home/ubuntu/hidros-backend/venv/lib/python3.6/site-packages/django/db/models/fields/__init__.py:1427: RuntimeWarning: DateTimeField HistoricalReporting.found_at received a naive datetime (2022-08-13 00:00:00) while time zone support is active.\n",
      "  RuntimeWarning)\n"
     ]
    }
   ],
   "source": [
    "result1 = bulk_create_with_history(objects, Reporting, default_user=arteriscs)\n",
    "result2 = bulk_create_with_history(photos, ReportingFile, default_user=arteriscs)\n",
    "result3 = bulk_create_with_history(photos_general, ReportingFile, default_user=arteriscs)"
   ]
  },
  {
   "cell_type": "markdown",
   "metadata": {},
   "source": [
    " "
   ]
  },
  {
   "cell_type": "code",
   "execution_count": 56,
   "metadata": {},
   "outputs": [
    {
     "name": "stderr",
     "output_type": "stream",
     "text": [
      "/home/ubuntu/hidros-backend/venv/lib/python3.6/site-packages/django/db/models/fields/__init__.py:1427: RuntimeWarning: DateTimeField Reporting.created_at received a naive datetime (2022-12-10 00:00:00) while time zone support is active.\n",
      "  RuntimeWarning)\n"
     ]
    },
    {
     "data": {
      "text/plain": [
       "411"
      ]
     },
     "execution_count": 56,
     "metadata": {},
     "output_type": "execute_result"
    }
   ],
   "source": [
    "reportings=Reporting.objects.filter(company=company, occurrence_type=form_inspecao_rotineira, created_at__gte='2022-12-10').order_by('number')\n",
    "reportings.count()"
   ]
  },
  {
   "cell_type": "code",
   "execution_count": 57,
   "metadata": {},
   "outputs": [
    {
     "data": {
      "application/vnd.jupyter.widget-view+json": {
       "model_id": "a007dff9b71649c898a169aa4787c8c6",
       "version_major": 2,
       "version_minor": 0
      },
      "text/plain": [
       "  0%|          | 0/411 [00:00<?, ?it/s]"
      ]
     },
     "metadata": {},
     "output_type": "display_data"
    }
   ],
   "source": [
    "for a in tqdm(reportings):\n",
    "    if a.form_data['therapy'] is None:\n",
    "        print(a.uuid)\n",
    "        del a.form_data['therapy']\n",
    "        a.save()"
   ]
  },
  {
   "cell_type": "code",
   "execution_count": 5,
   "metadata": {},
   "outputs": [],
   "source": [
    "file_name='Lista de Fotos - SISOAE 2022'\n",
    "\n",
    "with open(file_name + '.txt', 'r+') as fo:\n",
    "    photo_list=json.load(fo)"
   ]
  },
  {
   "cell_type": "code",
   "execution_count": 25,
   "metadata": {},
   "outputs": [
    {
     "data": {
      "application/vnd.jupyter.widget-view+json": {
       "model_id": "91e4779d8c33469392059371728bd0d2",
       "version_major": 2,
       "version_minor": 0
      },
      "text/plain": [
       "  0%|          | 0/411 [00:00<?, ?it/s]"
      ]
     },
     "metadata": {},
     "output_type": "display_data"
    },
    {
     "name": "stderr",
     "output_type": "stream",
     "text": [
      "/home/ubuntu/hidros-backend/venv/lib/python3.6/site-packages/django/db/models/fields/__init__.py:1427: RuntimeWarning: DateTimeField Reporting.created_at received a naive datetime (2021-11-26 00:00:00) while time zone support is active.\n",
      "  RuntimeWarning)\n"
     ]
    },
    {
     "name": "stdout",
     "output_type": "stream",
     "text": [
      "SP 255*178+080*T\n",
      "SP 255*179+020*T\n"
     ]
    }
   ],
   "source": [
    "photos=[]\n",
    "\n",
    "for key, values in tqdm(photo_list.items()):\n",
    "    \n",
    "    try:\n",
    "        reporting=Reporting.objects.get(company=company, occurrence_type=form_inspecao_rotineira, created_at__gte='2022-12-10', created_by=arteriscs, road_name=key.split('*')[0].replace('-', '/').replace(' ', '-'), km=key.split('*')[1].replace('+', '.'), direction=get_direction_value(company, key.split('*')[2]))\n",
    "        for value in values:\n",
    "            photo=ReportingFile(upload='sisoae_2022_vpt/' + key.split('*')[0] + '/' + key.split('*')[1] + ' ' + key.split('*')[2] + '/' + value,\n",
    "                            uuid=uuid4(), description='Imagem da Inspeção', kind='antes', reporting_id=reporting.uuid, created_by=arteriscs)\n",
    "            \n",
    "            try:\n",
    "                photo.upload.size\n",
    "                photos.append(photo)\n",
    "            except Exception as e:\n",
    "                print(key, value)\n",
    "    except Exception as e:\n",
    "        print(key)\n",
    "        pass"
   ]
  },
  {
   "cell_type": "code",
   "execution_count": 26,
   "metadata": {},
   "outputs": [],
   "source": [
    "# photo_result = bulk_create_with_history(photos, ReportingFile, default_user=arteriscs)"
   ]
  },
  {
   "cell_type": "markdown",
   "metadata": {},
   "source": [
    " "
   ]
  },
  {
   "cell_type": "markdown",
   "metadata": {},
   "source": [
    " "
   ]
  },
  {
   "cell_type": "code",
   "execution_count": 68,
   "metadata": {},
   "outputs": [],
   "source": [
    "from RoadLabsAPI.settings import credentials\n",
    "import boto3\n",
    "\n",
    "\n",
    "\n",
    "# session = boto3.client(\n",
    "#     \"s3\",\n",
    "#     aws_access_key_id=credentials.AWS_ACCESS_KEY_ID,\n",
    "#     aws_secret_access_key=credentials.AWS_SECRET_ACCESS_KEY,\n",
    "# )\n",
    "\n",
    "s3 = boto3.resource('s3')"
   ]
  },
  {
   "cell_type": "code",
   "execution_count": 70,
   "metadata": {},
   "outputs": [],
   "source": [
    "pdf_list={}"
   ]
  },
  {
   "cell_type": "code",
   "execution_count": 71,
   "metadata": {},
   "outputs": [],
   "source": [
    "my_bucket = s3.Bucket('spotway-roadlabs-assets')\n",
    "\n",
    "for my_bucket_object in my_bucket.objects.filter(Prefix=\"media/private/sisoae_2022_vpt_v2/pdf\"):\n",
    "    if '.pdf' in my_bucket_object.key:\n",
    "        pdf_list[my_bucket_object.key.split('/')[-1].split('-')[0]] = my_bucket_object.key.split('/')[-1]"
   ]
  },
  {
   "cell_type": "code",
   "execution_count": 72,
   "metadata": {},
   "outputs": [
    {
     "data": {
      "text/plain": [
       "{'SP255': 'SP255-km356+200-NS.pdf',\n",
       " 'SP257': 'SP257-km010+200-NS.pdf',\n",
       " 'SP304': 'SP304-km295+850-T.pdf',\n",
       " 'SP318': 'SP318-km277+180-NS.pdf',\n",
       " 'SP328': 'SP328-km310+500-NS.pdf',\n",
       " 'SP330': 'SP330-km318+480-T.pdf',\n",
       " 'SP334': 'SP334-km403+200-T.pdf',\n",
       " 'SP345': 'SP345-km039+050-T.pdf',\n",
       " 'SPA020': 'SPA020-345-km002+000-NS.pdf',\n",
       " 'SPA074': 'SPA074-255-km003+900-T.pdf',\n",
       " 'SPA214': 'SPA214-255-km000+200-NS.pdf',\n",
       " 'SPA307': 'SPA307-330-km002+600-T.pdf',\n",
       " 'SPA318': 'SPA318-330-km001+100-T.pdf',\n",
       " 'SPA348': 'SPA348-334-km002+700-NS.pdf'}"
      ]
     },
     "execution_count": 72,
     "metadata": {},
     "output_type": "execute_result"
    }
   ],
   "source": [
    "pdf_list"
   ]
  },
  {
   "cell_type": "code",
   "execution_count": 18,
   "metadata": {},
   "outputs": [
    {
     "data": {
      "text/plain": [
       "416"
      ]
     },
     "execution_count": 18,
     "metadata": {},
     "output_type": "execute_result"
    }
   ],
   "source": [
    "oaes=Reporting.objects.filter(company=company, occurrence_type__occurrence_kind=\"2\")\n",
    "oaes.count()"
   ]
  },
  {
   "cell_type": "code",
   "execution_count": 19,
   "metadata": {},
   "outputs": [
    {
     "ename": "NameError",
     "evalue": "name 'inspection_2022' is not defined",
     "output_type": "error",
     "traceback": [
      "\u001b[0;31m---------------------------------------------------------------------------\u001b[0m",
      "\u001b[0;31mNameError\u001b[0m                                 Traceback (most recent call last)",
      "\u001b[0;32m<ipython-input-19-e14df37cfb81>\u001b[0m in \u001b[0;36m<module>\u001b[0;34m()\u001b[0m\n\u001b[0;32m----> 1\u001b[0;31m \u001b[0minspection_2022\u001b[0m\u001b[0;34m.\u001b[0m\u001b[0mroad_name\u001b[0m\u001b[0;34m.\u001b[0m\u001b[0mreplace\u001b[0m\u001b[0;34m(\u001b[0m\u001b[0;34m'-'\u001b[0m\u001b[0;34m,\u001b[0m\u001b[0;34m''\u001b[0m\u001b[0;34m)\u001b[0m\u001b[0;34m.\u001b[0m\u001b[0mreplace\u001b[0m\u001b[0;34m(\u001b[0m\u001b[0;34m'/'\u001b[0m\u001b[0;34m,\u001b[0m\u001b[0;34m'-'\u001b[0m\u001b[0;34m)\u001b[0m\u001b[0;34m\u001b[0m\u001b[0m\n\u001b[0m",
      "\u001b[0;31mNameError\u001b[0m: name 'inspection_2022' is not defined"
     ]
    }
   ],
   "source": [
    "inspection_2022.road_name.replace('-','').replace('/','-')"
   ]
  },
  {
   "cell_type": "code",
   "execution_count": 20,
   "metadata": {},
   "outputs": [
    {
     "data": {
      "application/vnd.jupyter.widget-view+json": {
       "model_id": "ca4f89afdc7f4fed83f756ff0e82ba1d",
       "version_major": 2,
       "version_minor": 0
      },
      "text/plain": [
       "  0%|          | 0/416 [00:00<?, ?it/s]"
      ]
     },
     "metadata": {},
     "output_type": "display_data"
    }
   ],
   "source": [
    "pdf_upload=[]\n",
    "\n",
    "for oae in tqdm(oaes):\n",
    "    \n",
    "    try:\n",
    "        inspection_2022 = oae.children.filter(executed_at__year=2022, created_at__year=2023, occurrence_type__name__icontains=\"rotineira\").first()\n",
    "        if inspection_2022:\n",
    "            km=\"{:07.3f}\".format(inspection_2022.km).replace(\".\", \"+\")\n",
    "            pdf_file=ReportingFile(upload='sisoae_2022_vpt_v2/pdf/' + inspection_2022.road_name.replace('-','').replace('/','-') + '-km'+ km + \"-\" + get_direction_name(company, oae.direction) + \".pdf\",\n",
    "                                uuid=uuid4(), description='PDF', reporting_id=inspection_2022.uuid, created_by=arteriscs)\n",
    "            pdf_file.upload.size\n",
    "            pdf_upload.append(pdf_file)    \n",
    "    except Exception as e:\n",
    "        if inspection_2022:\n",
    "            print(f\"{inspection_2022.road_name.replace('-','').replace('/','-')}-km{km}-{get_direction_name(company, oae.direction)}\")\n",
    "            print(oae.form_data['artesp_service'])\n",
    "            pass"
   ]
  },
  {
   "cell_type": "code",
   "execution_count": 21,
   "metadata": {},
   "outputs": [
    {
     "data": {
      "text/plain": [
       "185"
      ]
     },
     "execution_count": 21,
     "metadata": {},
     "output_type": "execute_result"
    }
   ],
   "source": [
    "len(pdf_upload)"
   ]
  },
  {
   "cell_type": "code",
   "execution_count": 22,
   "metadata": {},
   "outputs": [],
   "source": [
    "result = bulk_create_with_history(pdf_upload, ReportingFile, default_user=arteriscs)"
   ]
  },
  {
   "cell_type": "code",
   "execution_count": null,
   "metadata": {},
   "outputs": [],
   "source": []
  }
 ],
 "metadata": {
  "kernelspec": {
   "display_name": "Django Shell-Plus",
   "language": "python",
   "name": "django_extensions"
  },
  "language_info": {
   "codemirror_mode": {
    "name": "ipython",
    "version": 3
   },
   "file_extension": ".py",
   "mimetype": "text/x-python",
   "name": "python",
   "nbconvert_exporter": "python",
   "pygments_lexer": "ipython3",
   "version": "3.7.9"
  }
 },
 "nbformat": 4,
 "nbformat_minor": 2
}
