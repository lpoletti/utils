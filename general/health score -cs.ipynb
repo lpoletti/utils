{
 "cells": [
  {
   "cell_type": "code",
   "execution_count": 1,
   "metadata": {},
   "outputs": [],
   "source": [
    "import datetime as dt\n",
    "import pytz\n",
    "from matplotlib import pyplot as plt\n",
    "from django.db.models.query_utils import Q\n",
    "import pandas as pd\n",
    "from tqdm.notebook import tqdm\n",
    "import openpyxl"
   ]
  },
  {
   "cell_type": "code",
   "execution_count": 2,
   "metadata": {},
   "outputs": [
    {
     "name": "stdout",
     "output_type": "stream",
     "text": [
      "STAGE=PRODUCTION\r\n"
     ]
    }
   ],
   "source": [
    "!cat .env"
   ]
  },
  {
   "cell_type": "code",
   "execution_count": 13,
   "metadata": {},
   "outputs": [],
   "source": [
    "# road_companies = ['Future',\n",
    "#  'Arteris Intervias',\n",
    "#  'Neovia Tijucas',\n",
    "#  'VF Gomes - Vila Bela',\n",
    "#  'Entrevias',\n",
    "#  'Neovia Rancho Queimado 080/2021',\n",
    "#  'Afirma Engenharia Viária',\n",
    "#  'Neovia Bocaína do Sul 329/2018',\n",
    "#  'VF Gomes - Confresa',\n",
    "#  'ELO Ecopistas',\n",
    "#  'Arteris Litoral Sul',\n",
    "#  'Neovia Contorno Sul',\n",
    "#  'Neovia Diamantino',\n",
    "#  'Neovia Vacaria',\n",
    "#  'VF Gomes - Porto Espiridião',\n",
    "#  'CART',\n",
    "#  'Dalba Guarapuava',\n",
    "# 'Neovia Oeste',\n",
    "# 'ELO Rota das Bandeiras',\n",
    "# 'Via Brasil',\n",
    "# 'Arteris Fernão Dias - Conserva',\n",
    "#   'Arteris Fluminense - Conserva',\n",
    "#    'Arteris Litoral Sul - Conserva' ,\n",
    "#     'Arteris Régis Bittencourt - Conserva' ,\n",
    "#         'Dalba Foz do Iguaçu', 'Eixo SP SISOAE', 'Arteris Via Paulista - SISOBRAS', 'Neovia Ponte Serrada',\n",
    "#         'Neovia Régis Bittencourt', 'Rota do Oeste', 'VF Gomes - BR158', 'ELO Via Lagos', 'Garcia Monteiro', \n",
    "#                   'Arteris Via Paulista - SISOBRAS', 'Televale','Arteris Fernão Dias', 'Arteris Fluminense', 'Arteris Planalto Sul - Conserva','Arteris Régis Bittencourt',\n",
    "#                   'Neovia General Carneiro','Eixo SP', 'Neovia Cto Biguaçu', 'VF Gomes - Nova Lacerda','Neovia Planalto Sul',\n",
    "#                   'Neovia Alcinópolis', 'ELO Rodovias Tietê', 'VF Gomes - BR010', 'VF Gomes - BR010', 'Sanson', 'ELO Rodovias dos Tamoios',\n",
    "#                   'Neovia Lages 652/2019', 'Pavicolet', 'Neovia Lagoa Vermelha','Neovia Araquari 886/2020','Arteris Planalto Sul', 'Entrevias SISOAE', 'Eixo SP - Fx. Dom. | Qualidade | Topografia',\n",
    "#                  'ELO Ecovias dos Imigrantes', 'Televale', 'Arteris Planalto Sul','Arteris Régis Bittencourt']\n",
    "road_companies = ['Entrevias']"
   ]
  },
  {
   "cell_type": "code",
   "execution_count": 14,
   "metadata": {},
   "outputs": [
    {
     "data": {
      "text/plain": [
       "'09'"
      ]
     },
     "execution_count": 14,
     "metadata": {},
     "output_type": "execute_result"
    }
   ],
   "source": [
    "today = dt.date.today().strftime('%m')\n",
    "today"
   ]
  },
  {
   "cell_type": "code",
   "execution_count": 15,
   "metadata": {},
   "outputs": [
    {
     "data": {
      "text/plain": [
       "2023"
      ]
     },
     "execution_count": 15,
     "metadata": {},
     "output_type": "execute_result"
    }
   ],
   "source": [
    "ano = dt.date.today().year\n",
    "ano"
   ]
  },
  {
   "cell_type": "code",
   "execution_count": 16,
   "metadata": {},
   "outputs": [
    {
     "data": {
      "text/plain": [
       "[1, 2, 3, 4, 5, 6, 7, 8]"
      ]
     },
     "execution_count": 16,
     "metadata": {},
     "output_type": "execute_result"
    }
   ],
   "source": [
    "months_number = [i for i in range(1, int(today))]\n",
    "\n",
    "months_number"
   ]
  },
  {
   "cell_type": "code",
   "execution_count": 17,
   "metadata": {},
   "outputs": [],
   "source": [
    "def quantitativos_v2(months_name,company):\n",
    "    sem_qtt =[]\n",
    "\n",
    "    for n in months_name:\n",
    "        com_qtt = 0\n",
    "        apontamentos_totais = 0\n",
    "        for occ in OccurrenceType.objects.filter(company__name = company).exclude(occurrence_kind='2'):\n",
    "            autofill_keys = []\n",
    "            autofill_keys = [field[\"apiName\"] for field in occ.form_fields[\"fields\"] if \"autofill\" in field.keys()]\n",
    "            size_occ=len(autofill_keys)            \n",
    "            reportings=Reporting.objects.filter(occurrence_type=occ, created_at__month = n, company__name = company, created_at__year=ano).exclude(occurrence_type__occurrence_kind='2').exclude(created_by__username='rlcs').exclude(created_by__username='cartcs').only('form_data', 'occurrence_type').select_related('occurrence_type')\n",
    "            reportings_keys=[len(a.keys()) for a in list(reportings.values_list('form_data', flat=True))]            \n",
    "            com_qtt += len([a for a in reportings_keys if a > size_occ])\n",
    "            apontamentos_totais += reportings.count()\n",
    "        sem_qtt.append((apontamentos_totais - com_qtt)/apontamentos_totais if apontamentos_totais != 0 else 0)\n",
    "    return sem_qtt"
   ]
  },
  {
   "cell_type": "code",
   "execution_count": 18,
   "metadata": {},
   "outputs": [],
   "source": [
    "def dias_de_uso_v2(months_name, company):\n",
    "    \n",
    "    qtd_dias = []\n",
    "    dias = [31, 28, 31, 30, 31, 30, 31, 31, 30, 31, 30, 31]\n",
    "\n",
    "    for index, mes in enumerate(months_name):\n",
    "\n",
    "        a= []\n",
    "        for n in range(1, dias[index]):\n",
    "            a.append(Reporting.objects.filter(company__name = company, created_at__year=ano, created_at__month = mes,created_at__day=n).exclude(occurrence_type__occurrence_kind='2').exclude(created_by__username='rlcs').exclude(created_by__username='neoviacs').exclude(created_by__username='arteriscs').only('uuid').count())\n",
    "        qtd_dias.append(a)\n",
    "\n",
    "    \n",
    "    quantidade = []\n",
    "    porcen_dias= []\n",
    "    \n",
    "    for qtd in qtd_dias:\n",
    "        quantidade.append(len([x for x in qtd if x != 0]))\n",
    "        \n",
    "    \n",
    "    for index, qtd in enumerate(quantidade):\n",
    "        b = qtd/dias[index]\n",
    "        porcen_dias.append(b)\n",
    "    return porcen_dias"
   ]
  },
  {
   "cell_type": "code",
   "execution_count": 19,
   "metadata": {},
   "outputs": [
    {
     "data": {
      "text/plain": [
       "3143"
      ]
     },
     "execution_count": 19,
     "metadata": {},
     "output_type": "execute_result"
    }
   ],
   "source": [
    "Reporting.objects.filter(company__name = \"Entrevias\", created_at__year=2023, created_at__month = 7,created_at__day=31).exclude(occurrence_type__occurrence_kind='2').exclude(created_by__username='rlcs').exclude(created_by__username='neoviacs').exclude(created_by__username='arteriscs').only('uuid').count()"
   ]
  },
  {
   "cell_type": "code",
   "execution_count": 20,
   "metadata": {},
   "outputs": [],
   "source": [
    "def equipes_ativas_v2(months_name, company):\n",
    "    team_name = list(Firm.objects.filter(company__name = company).values_list('name', flat=True))\n",
    "    \n",
    "#     team_name = []\n",
    "#     for i in range(len(teams)):\n",
    "#         team_name.append(teams[i].name)\n",
    "    \n",
    "    equipes=[]\n",
    "    for team in team_name:\n",
    "        for i in months_name:\n",
    "            equipes.append(Reporting.objects.filter(company__name = company, created_at__year=2023, created_at__month= i,firm__name = team).exclude(occurrence_type__occurrence_kind='2').exclude(created_by__username='rlcs').exclude(created_by__username='neoviacs').exclude(created_by__username='arteriscs').only('uuid').count())\n",
    "    \n",
    "#     equipe=[]\n",
    "#     a =0\n",
    "#     b = 11\n",
    "#     for i in range(0, len(team_name)):\n",
    "#         equipe.append(equipes[a:b])\n",
    "#         a += 11\n",
    "#         b+=11\n",
    "    \n",
    "    soma = []\n",
    "    for team in team_name:\n",
    "        soma.append(Reporting.objects.filter(company__name = company, created_at__year=2023,firm__name = team).exclude(occurrence_type__occurrence_kind='2').exclude(created_by__username='rlcs').exclude(created_by__username='neoviacs').exclude(created_by__username='arteriscs').only('uuid').count())\n",
    "\n",
    "#     top = []\n",
    "#     if len(soma) < 5:\n",
    "#         top = sorted(soma)\n",
    "#     else:    \n",
    "#         ordenada = sorted(soma, reverse = True)\n",
    "#         top = ordenada[:5]\n",
    "#     top=sorted(soma[:5])\n",
    "    \n",
    "    porcen = []\n",
    "    for month in months_name:\n",
    "        firm_moves=[]\n",
    "        objects=['Reporting', 'Job']\n",
    "        for firm in team_name:\n",
    "            num_moves = 0\n",
    "            for item in objects:\n",
    "                num_moves+=eval(item).history.filter(history_date__year=2023, history_date__month=month, company__name= company, firm__name=firm).only('uuid').count()\n",
    "            firm_moves.append((num_moves, firm))\n",
    "\n",
    "        firm_moves.sort(key=lambda tup: tup[0], reverse=True)\n",
    "        active_firms=len([firm for firm in firm_moves if firm[0]>0])\n",
    "        porcen.append(active_firms/len(firm_moves) if len(firm_moves) != 0 else 0)\n",
    "    \n",
    "    return porcen"
   ]
  },
  {
   "cell_type": "code",
   "execution_count": 21,
   "metadata": {},
   "outputs": [],
   "source": [
    "def variacao(months):\n",
    "    taxa_variacao = []\n",
    "    for i,m in enumerate(months):\n",
    "        y = months[i]\n",
    "        b = months\n",
    "        c = b.index(y) \n",
    "        if c == 0:\n",
    "            taxa_variacao.append(0)\n",
    "        if y > b[c-1] and c != 0:\n",
    "            m = (y-b[c-1])/y\n",
    "            taxa_variacao.append(m)\n",
    "        if y == b[c-1] and c != 0:\n",
    "            i = y*0\n",
    "            taxa_variacao.append(i)\n",
    "        if y < b[c-1] and c!= 0 :\n",
    "            n = (y -b[c-1])/b[c-1]\n",
    "            taxa_variacao.append(n)\n",
    "    return taxa_variacao\n"
   ]
  },
  {
   "cell_type": "code",
   "execution_count": 22,
   "metadata": {},
   "outputs": [],
   "source": [
    "def qtt_nota(nota):\n",
    "    a = 0\n",
    "    if nota <0.05:\n",
    "        a = 1\n",
    "    if nota >= 0.05 and nota <0.15:\n",
    "        a = 0.65\n",
    "    if nota >= 0.15 and nota < 0.3:\n",
    "        a = 0.3\n",
    "    if nota >= 0.3:\n",
    "        a = 0\n",
    "    return a"
   ]
  },
  {
   "cell_type": "code",
   "execution_count": 23,
   "metadata": {},
   "outputs": [],
   "source": [
    "def uso_nota(nota):\n",
    "    a = 0\n",
    "    if nota <0.4:\n",
    "        a = 0\n",
    "    if nota >= 0.4 and nota <0.65:\n",
    "        a = 0.3\n",
    "    if nota >= 0.65 and nota < 0.8:\n",
    "        a = 0.65\n",
    "    if nota > 0.8:\n",
    "        a = 1\n",
    "    return a"
   ]
  },
  {
   "cell_type": "code",
   "execution_count": 24,
   "metadata": {},
   "outputs": [],
   "source": [
    "def equipe_nota(nota):\n",
    "    a = 0\n",
    "    if nota > 0.6:\n",
    "        a = 1\n",
    "    if nota >0.45 and nota <=0.6:\n",
    "        a = 0.65\n",
    "    if nota > 0.3 and nota <= 0.45:\n",
    "        a = 0.3\n",
    "    if nota <= 0.3:\n",
    "        a = 0\n",
    "    return a"
   ]
  },
  {
   "cell_type": "code",
   "execution_count": 25,
   "metadata": {},
   "outputs": [],
   "source": [
    "def variacao_nota(nota):\n",
    "    a= 0\n",
    "    if nota >= 0.25:\n",
    "        a = 1\n",
    "    if nota >= 0.15 and nota <0.25:\n",
    "        a = 0.75\n",
    "    if nota >= -0.15 and nota < 0.15:\n",
    "        a = 0.5\n",
    "    if nota >= -0.25 and nota < -0.15:\n",
    "        a = 0.5\n",
    "    if nota < -0.25:\n",
    "        a = 0\n",
    "    return a"
   ]
  },
  {
   "cell_type": "code",
   "execution_count": 26,
   "metadata": {
    "scrolled": true
   },
   "outputs": [
    {
     "data": {
      "application/vnd.jupyter.widget-view+json": {
       "model_id": "3963c7f2057a4a3c9c3422d8144728c0",
       "version_major": 2,
       "version_minor": 0
      },
      "text/plain": [
       "  0%|          | 0/1 [00:00<?, ?it/s]"
      ]
     },
     "metadata": {},
     "output_type": "display_data"
    },
    {
     "name": "stdout",
     "output_type": "stream",
     "text": [
      "Entrevias\n",
      "[7153, 8711, 13719, 6011, 15204, 13530, 8839, 12460]\n",
      " dias de uso: [0.967741935483871, 0.9642857142857143, 0.967741935483871, 0.9666666666666667, 0.9354838709677419, 0.9666666666666667, 0.967741935483871, 0.967741935483871] \n",
      " sem quantitativos: [0.4087795330630505, 0.3164963838824475, 0.0989868066185582, 0.17933788055232075, 0.1637726913970008, 0.19903917220990391, 0.15273220952596447, 0.09606741573033707] \n",
      " equipes ativas: [0.41304347826086957, 0.43478260869565216, 0.5869565217391305, 0.6413043478260869, 0.6086956521739131, 0.6304347826086957, 0.6195652173913043, 0.6413043478260869] \n",
      " variação dias: [0, 0.17885432212145563, 0.36504118375974925, -0.561848531234055, 0.6046435148645093, -0.1101026045777427, -0.34671101256467113, 0.2906099518459069] \n"
     ]
    }
   ],
   "source": [
    "hs_dict = {}\n",
    "uso_sistema = []\n",
    "sem_quantitativos = []\n",
    "equipes = []\n",
    "variacao_dias = []\n",
    "parametros = ['Dias de uso', 'Sem quantitativos', 'Equipes Ativas', 'Variacao dias']\n",
    "for company in tqdm(road_companies):\n",
    "    months=[]\n",
    "    print(company)\n",
    "    for n in months_number:\n",
    "        months.append(Reporting.objects.filter(company__name = company, created_at__year=2023, created_at__month=n).exclude(occurrence_type__occurrence_kind='2').exclude(created_by__username='rlcs').exclude(created_by__username='neoviacs').exclude(created_by__username='arteriscs').only('uuid').count())\n",
    "    print(months)\n",
    "    uso_sistema.append(dias_de_uso_v2(months_number, company))\n",
    "    sem_quantitativos.append(quantitativos_v2(months_number, company))\n",
    "    equipes.append(equipes_ativas_v2(months_number, company))\n",
    "    variacao_dias.append(variacao(months)) \n",
    "    if not hs_dict.get(company):\n",
    "        hs_dict[company] = {}\n",
    "        hs_dict[company]['Dias de uso'] = dias_de_uso_v2(months_number, company)[-1]\n",
    "        hs_dict[company]['Sem quantitativos'] = quantitativos_v2(months_number, company)[-1]\n",
    "        hs_dict[company]['Equipes ativas'] = equipes_ativas_v2(months_number, company)[-1]\n",
    "        hs_dict[company]['Variação dias'] =  variacao(months)[-1]\n",
    "    print(f' dias de uso: {dias_de_uso_v2(months_number, company)} \\n sem quantitativos: {quantitativos_v2(months_number, company)} \\n equipes ativas: {equipes_ativas_v2(months_number, company)} \\n variação dias: {variacao(months)} ')"
   ]
  },
  {
   "cell_type": "code",
   "execution_count": 27,
   "metadata": {},
   "outputs": [
    {
     "data": {
      "text/plain": [
       "{'Entrevias': {'Dias de uso': 0.967741935483871,\n",
       "  'Sem quantitativos': 0.09606741573033707,\n",
       "  'Equipes ativas': 0.6413043478260869,\n",
       "  'Variação dias': 0.2906099518459069}}"
      ]
     },
     "execution_count": 27,
     "metadata": {},
     "output_type": "execute_result"
    }
   ],
   "source": [
    "hs_dict"
   ]
  },
  {
   "cell_type": "code",
   "execution_count": 19,
   "metadata": {},
   "outputs": [],
   "source": [
    "#tabela = pd.DataFrame(hs_dict)"
   ]
  },
  {
   "cell_type": "code",
   "execution_count": 20,
   "metadata": {},
   "outputs": [],
   "source": [
    "#tabela"
   ]
  },
  {
   "cell_type": "code",
   "execution_count": 21,
   "metadata": {},
   "outputs": [],
   "source": [
    "#tabela.to_excel('analise_hs_ELO.xlsx')"
   ]
  },
  {
   "cell_type": "code",
   "execution_count": 28,
   "metadata": {},
   "outputs": [
    {
     "data": {
      "application/vnd.jupyter.widget-view+json": {
       "model_id": "7341b9f3f05b425b91b7858c356632d1",
       "version_major": 2,
       "version_minor": 0
      },
      "text/plain": [
       "  0%|          | 0/8 [00:00<?, ?it/s]"
      ]
     },
     "metadata": {},
     "output_type": "display_data"
    },
    {
     "name": "stdout",
     "output_type": "stream",
     "text": [
      "Entrevias\n",
      "Entrevias\n",
      "Entrevias\n",
      "Entrevias\n",
      "Entrevias\n",
      "Entrevias\n",
      "Entrevias\n",
      "Entrevias\n"
     ]
    }
   ],
   "source": [
    "hs_month = []\n",
    "hs_month_export = {}\n",
    "for i in tqdm(range(len(months_number))):\n",
    "    hs = []\n",
    "    for n in range(len(road_companies)):\n",
    "        print(road_companies[n])\n",
    "        if uso_sistema[n][i] == 0:\n",
    "            hs.append(0)\n",
    "        else:\n",
    "            hs.append(35*(uso_nota(uso_sistema[n][i])) + 15*(qtt_nota(sem_quantitativos[n][i])) + 15*(equipe_nota(equipes[n][i]))+ 35*(variacao_nota(variacao_dias[n][i])))\n",
    "        if not hs_month_export.get(road_companies[n]):\n",
    "            hs_month_export[road_companies[n]] = []\n",
    "        hs_month_export[road_companies[n]].append(hs[-1])\n",
    "\n",
    "\n",
    "    hs_month.append(hs)"
   ]
  },
  {
   "cell_type": "code",
   "execution_count": 29,
   "metadata": {},
   "outputs": [
    {
     "data": {
      "text/plain": [
       "{'Entrevias': [57.0, 65.75, 89.5, 54.5, 89.5, 72.0, 54.5, 94.75]}"
      ]
     },
     "execution_count": 29,
     "metadata": {},
     "output_type": "execute_result"
    }
   ],
   "source": [
    "hs_month_export"
   ]
  },
  {
   "cell_type": "code",
   "execution_count": 24,
   "metadata": {},
   "outputs": [],
   "source": [
    "#for i in hs_month_export.items():\n",
    " #   print(i[0],i[1][-1])"
   ]
  },
  {
   "cell_type": "code",
   "execution_count": 32,
   "metadata": {},
   "outputs": [],
   "source": [
    "hs_novo = []\n",
    "for i in hs_month_export.values():\n",
    "    hs_novo.append(i[-1])"
   ]
  },
  {
   "cell_type": "code",
   "execution_count": 33,
   "metadata": {},
   "outputs": [
    {
     "data": {
      "text/plain": [
       "[66.75]"
      ]
     },
     "execution_count": 33,
     "metadata": {},
     "output_type": "execute_result"
    }
   ],
   "source": [
    "hs_novo"
   ]
  },
  {
   "cell_type": "code",
   "execution_count": 26,
   "metadata": {},
   "outputs": [],
   "source": [
    "hs_atencao = {}\n",
    "for i in hs_month_export:\n",
    "    if hs_month_export[i][-1] < 30:\n",
    "        print(i,hs_dict[i])\n",
    "        if not hs_atencao.get(i):\n",
    "            hs_atencao[i] =hs_dict[i] \n",
    "        \n",
    "    "
   ]
  }
 ],
 "metadata": {
  "kernelspec": {
   "display_name": "Django Shell-Plus",
   "language": "python",
   "name": "django_extensions"
  },
  "language_info": {
   "codemirror_mode": {
    "name": "ipython",
    "version": 3
   },
   "file_extension": ".py",
   "mimetype": "text/x-python",
   "name": "python",
   "nbconvert_exporter": "python",
   "pygments_lexer": "ipython3",
   "version": "3.7.9"
  }
 },
 "nbformat": 4,
 "nbformat_minor": 2
}
