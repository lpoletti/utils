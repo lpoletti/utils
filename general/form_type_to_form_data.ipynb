{
 "cells": [
  {
   "cell_type": "code",
   "execution_count": 26,
   "metadata": {},
   "outputs": [
    {
     "name": "stdout",
     "output_type": "stream",
     "text": [
      "Python 3.7.9 (default, Feb  1 2024, 17:42:47) \n",
      "Type 'copyright', 'credits' or 'license' for more information\n",
      "IPython 7.34.0 -- An enhanced Interactive Python. Type '?' for help.\n",
      "\n",
      "\n"
     ]
    }
   ],
   "source": [
    "# assim que abriu o shell da quit que ele fecha\n",
    "%run django_shell_to_jupter.py"
   ]
  },
  {
   "cell_type": "code",
   "execution_count": 27,
   "metadata": {},
   "outputs": [],
   "source": [
    "def modify_cat(json_obj):\n",
    "    if isinstance(json_obj, dict):\n",
    "        if \"cat\" in json_obj:\n",
    "            cat_value = json_obj[\"cat\"]\n",
    "            if isinstance(cat_value, list):\n",
    "                for i in range(len(cat_value)):\n",
    "                    if isinstance(cat_value[i], dict) and \"var\" in cat_value[i]:\n",
    "                        var_value = cat_value[i][\"var\"]\n",
    "                        if isinstance(var_value, str) and var_value.startswith(\"index.\"):\n",
    "                            cat_value[i] = \".\" + var_value.split(\".\")[1]\n",
    "\n",
    "                    if isinstance(cat_value[i], str) and str(cat_value[i]).startswith(\"data.form_data.\"):\n",
    "                        cat_value[i] = str(cat_value[i]).replace(\"data.form_data.\", \"\")\n",
    "        return {key: modify_cat(value) for key, value in json_obj.items()}\n",
    "    elif isinstance(json_obj, list):\n",
    "        return [modify_cat(item) for item in json_obj]\n",
    "    else:\n",
    "        return json_obj"
   ]
  },
  {
   "cell_type": "code",
   "execution_count": 28,
   "metadata": {},
   "outputs": [],
   "source": [
    "from helpers.strings import to_snake_case\n",
    "\n",
    "\n",
    "def apply_to_snake_case(obj):\n",
    "    if isinstance(obj, dict):\n",
    "        return {\n",
    "            apply_to_snake_case(key): apply_to_snake_case(value)\n",
    "            for key, value in obj.items()\n",
    "        }\n",
    "    elif isinstance(obj, list):\n",
    "        return [apply_to_snake_case(element) for element in obj]\n",
    "    elif isinstance(obj, str):\n",
    "        return to_snake_case(obj)\n",
    "    else:\n",
    "        return obj"
   ]
  },
  {
   "cell_type": "code",
   "execution_count": 29,
   "metadata": {},
   "outputs": [],
   "source": [
    "from json_logic import jsonLogic\n",
    "\n",
    "\n",
    "def valid_if(form_data: dict, json_logic: dict) -> bool:\n",
    "    json_logic = apply_to_snake_case(json_logic)\n",
    "    modify_cat(json_logic)\n",
    "\n",
    "    return jsonLogic(json_logic, form_data)"
   ]
  },
  {
   "cell_type": "code",
   "execution_count": 30,
   "metadata": {},
   "outputs": [],
   "source": [
    "from typing import List\n",
    "\n",
    "\n",
    "def get_field_by_members(members, form_fields) -> List[dict]:\n",
    "    fields = form_fields.get(\"fields\", [])\n",
    "    return [field for field in fields if field[\"id\"] in members]"
   ]
  },
  {
   "cell_type": "code",
   "execution_count": 31,
   "metadata": {},
   "outputs": [],
   "source": [
    "from apps.reportings.models import Reporting\n",
    "\n",
    "# reportings = Reporting.objects.filter(\n",
    "#     # pk=\"0532bed2-86eb-4e74-ba3e-93f52eeb2d42\"\n",
    "# ).first()\n",
    "reportings = Reporting.objects.filter(occurrence_type__isnull=False).first()\n",
    "\n",
    "occurrence_type = reportings.occurrence_type"
   ]
  },
  {
   "cell_type": "code",
   "execution_count": 32,
   "metadata": {},
   "outputs": [],
   "source": [
    "form_fields = occurrence_type.form_fields\n",
    "form_data = reportings.form_data"
   ]
  },
  {
   "cell_type": "code",
   "execution_count": 33,
   "metadata": {},
   "outputs": [
    {
     "ename": "ImportError",
     "evalue": "cannot import name 'deep_keys_to_snake_case' from 'helpers.strings' (/home/leograciano/Projects/Kartado/kartado-backend/helpers/strings.py)",
     "output_type": "error",
     "traceback": [
      "\u001b[0;31m---------------------------------------------------------------------------\u001b[0m",
      "\u001b[0;31mImportError\u001b[0m                               Traceback (most recent call last)",
      "\u001b[0;32m/tmp/ipykernel_11566/2796037691.py\u001b[0m in \u001b[0;36m<module>\u001b[0;34m\u001b[0m\n\u001b[0;32m----> 1\u001b[0;31m \u001b[0;32mfrom\u001b[0m \u001b[0mhelpers\u001b[0m\u001b[0;34m.\u001b[0m\u001b[0mstrings\u001b[0m \u001b[0;32mimport\u001b[0m \u001b[0mdeep_keys_to_snake_case\u001b[0m\u001b[0;34m\u001b[0m\u001b[0;34m\u001b[0m\u001b[0m\n\u001b[0m\u001b[1;32m      2\u001b[0m \u001b[0;34m\u001b[0m\u001b[0m\n\u001b[1;32m      3\u001b[0m \u001b[0;34m\u001b[0m\u001b[0m\n\u001b[1;32m      4\u001b[0m \u001b[0mdata_new\u001b[0m \u001b[0;34m=\u001b[0m \u001b[0;34m[\u001b[0m\u001b[0;34m]\u001b[0m\u001b[0;34m\u001b[0m\u001b[0;34m\u001b[0m\u001b[0m\n\u001b[1;32m      5\u001b[0m \u001b[0;32mfor\u001b[0m \u001b[0mgroup\u001b[0m \u001b[0;32min\u001b[0m \u001b[0mform_fields\u001b[0m\u001b[0;34m.\u001b[0m\u001b[0mget\u001b[0m\u001b[0;34m(\u001b[0m\u001b[0;34m\"groups\"\u001b[0m\u001b[0;34m,\u001b[0m \u001b[0;34m[\u001b[0m\u001b[0;34m]\u001b[0m\u001b[0;34m)\u001b[0m\u001b[0;34m:\u001b[0m\u001b[0;34m\u001b[0m\u001b[0;34m\u001b[0m\u001b[0m\n",
      "\u001b[0;31mImportError\u001b[0m: cannot import name 'deep_keys_to_snake_case' from 'helpers.strings' (/home/leograciano/Projects/Kartado/kartado-backend/helpers/strings.py)"
     ]
    }
   ],
   "source": [
    "from helpers.strings import deep_keys_to_snake_case\n",
    "\n",
    "\n",
    "data_new = []\n",
    "for group in form_fields.get(\"groups\", []):\n",
    "    members = group.get(\"members\", [])\n",
    "    _data = {\"label\": group.get(\"display_name\"), \"fields_id\": members, \"fields\": []}\n",
    "    fields = get_field_by_members(members, form_fields)\n",
    "    fields = deep_keys_to_snake_case(fields)\n",
    "    for field in fields:\n",
    "        api_name = to_snake_case(field.get(\"api_name\"))\n",
    "        data_type_field = field.get(\"data_type\")\n",
    "        print_if_field = field.get(\"print_if\")\n",
    "        display_if_field = field.get(\"display_if\")\n",
    "        _data[\"data_type\"] = field.get(\"data_type\")\n",
    "        if data_type_field in [\"string\", \"boolean\", \"timestamp\", \"textArea\"]:\n",
    "            if (print_if_field is None and display_if_field is None) or (print_if_field and (valid_if(form_data, print_if_field) or valid_if(form_data, print_if_field) is None))  or (display_if_field and (valid_if(form_data, display_if_field) or valid_if(form_data, display_if_field) is None)):\n",
    "                _fields = {\"label\": field.get(\"display_name\", \"\", ), \"value\": form_data.get(api_name), \"data_type\": field.get(\"data_type\")}\n",
    "                _data[\"fields\"].append(_fields)\n",
    "\n",
    "        elif data_type_field == \"arrayOfObjects\":\n",
    "            _data[\"data_type\"] = field.get(\"data_type\")\n",
    "            _data[\"fields\"] = []\n",
    "            blocks = []\n",
    "            inner_fields = field.get(\"inner_fields\", [])\n",
    "            for inner in inner_fields:\n",
    "                inner_name = to_snake_case(inner.get(\"api_name\"))\n",
    "                print_if_inner = inner.get(\"print_if\")\n",
    "                display_if_inner = inner.get(\"display_if\")\n",
    "                if print_if_inner and (valid_if(form_data, print_if_inner) or valid_if(form_data, print_if_inner) is None) or (print_if_inner is None and display_if_inner is None):\n",
    "\n",
    "                    for form_data_field in form_data.get(api_name, {}):\n",
    "                        for x in inner.get(\"select_options\", {}).get(\"options\", []):\n",
    "                            _v = form_data_field.get(inner_name)\n",
    "                            if x.get(\"value\") == _v:\n",
    "                                _values = x.get(\"name\")\n",
    "                                blocks.append({\"label\": inner.get(\"display_name\"), \"values\":_values, \"data_type\": inner.get(\"data_type\")})\n",
    "                                break\n",
    "                elif display_if_inner and (valid_if(form_data, display_if_inner) or valid_if(form_data, display_if_inner) is None) or (print_if_field is None and display_if_inner is None):\n",
    "                    for form_data_field in form_data.get(api_name, {}):\n",
    "                        for x in inner.get(\"select_options\", {}).get(\"options\", []):\n",
    "                            _v = form_data_field.get(inner_name)\n",
    "                            if x.get(\"value\") == _v:\n",
    "                                _values = x.get(\"name\")\n",
    "                                blocks.append({\"label\": inner.get(\"display_name\"), \"values\":_values, \"data_type\": inner.get(\"data_type\")})\n",
    "                                break\n",
    "\n",
    "            _data[\"fields\"].append(blocks)\n",
    "\n",
    "        else:\n",
    "            print(field)\n",
    "\n",
    "    if _data not in data_new:\n",
    "        data_new.append(_data)\n",
    "\n",
    "\n",
    "print(data_new)"
   ]
  },
  {
   "cell_type": "code",
   "execution_count": null,
   "metadata": {},
   "outputs": [],
   "source": [
    "company = reportings.company\n",
    "\n",
    "custom_options = company.custom_options\n",
    "\n",
    "print(custom_options)"
   ]
  }
 ],
 "metadata": {
  "kernelspec": {
   "display_name": "apps-QsWZGmwa-py3.7",
   "language": "python",
   "name": "python3"
  },
  "language_info": {
   "codemirror_mode": {
    "name": "ipython",
    "version": 3
   },
   "file_extension": ".py",
   "mimetype": "text/x-python",
   "name": "python",
   "nbconvert_exporter": "python",
   "pygments_lexer": "ipython3",
   "version": "3.7.9"
  }
 },
 "nbformat": 4,
 "nbformat_minor": 2
}
