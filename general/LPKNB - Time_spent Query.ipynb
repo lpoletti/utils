{
 "cells": [
  {
   "cell_type": "code",
   "execution_count": 2,
   "id": "ed9c1786",
   "metadata": {},
   "outputs": [],
   "source": [
    "from django.db import connection\n",
    "import time"
   ]
  },
  {
   "cell_type": "code",
   "execution_count": 3,
   "id": "67d353b9",
   "metadata": {},
   "outputs": [],
   "source": [
    "def time_spent(queryset):\n",
    "\n",
    "    # Start time\n",
    "    start_time = time.time()\n",
    "\n",
    "    # Your query goes here\n",
    "    # For example:\n",
    "    queryset\n",
    "\n",
    "    # End time\n",
    "    end_time = time.time()\n",
    "\n",
    "    # Calculate the total time spent\n",
    "    total_time = end_time - start_time\n",
    "\n",
    "    # Print the total time spent\n",
    "    print(\"Total time spent: {:.10f} seconds\".format(total_time))\n",
    "\n",
    "    # Print the queries and their times\n",
    "    for query in connection.queries:\n",
    "        print(\"Query: {}, Time: {} seconds\".format(query['sql'], query['time']))"
   ]
  }
 ],
 "metadata": {
  "kernelspec": {
   "display_name": "Django Shell-Plus",
   "language": "python",
   "name": "django_extensions"
  },
  "language_info": {
   "codemirror_mode": {
    "name": "ipython",
    "version": 3
   },
   "file_extension": ".py",
   "mimetype": "text/x-python",
   "name": "python",
   "nbconvert_exporter": "python",
   "pygments_lexer": "ipython3",
   "version": "3.8.16"
  }
 },
 "nbformat": 4,
 "nbformat_minor": 5
}
