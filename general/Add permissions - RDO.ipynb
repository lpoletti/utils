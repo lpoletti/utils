{
 "cells": [
  {
   "cell_type": "code",
   "execution_count": 1,
   "metadata": {},
   "outputs": [
    {
     "name": "stdout",
     "output_type": "stream",
     "text": [
      "STAGE=PRODUCTION\r\n"
     ]
    }
   ],
   "source": [
    "!cat .env"
   ]
  },
  {
   "cell_type": "code",
   "execution_count": 2,
   "metadata": {},
   "outputs": [],
   "source": [
    "def to_camel_case(value):\n",
    "    content = value.split(\"_\")\n",
    "    if len(content) > 1:\n",
    "        return content[0].capitalize() + \"\".join(\n",
    "            word.capitalize() for word in content[1:] if not word.isspace())\n",
    "    else:\n",
    "        return value[0].capitalize() + value[1:]"
   ]
  },
  {
   "cell_type": "markdown",
   "metadata": {},
   "source": [
    "### **Unidade**"
   ]
  },
  {
   "cell_type": "code",
   "execution_count": 3,
   "metadata": {},
   "outputs": [
    {
     "data": {
      "text/plain": [
       "<Company: a3fca710-54b8-4ee1-8375-1a908342438d: LCM Construção e Comércio>"
      ]
     },
     "execution_count": 3,
     "metadata": {},
     "output_type": "execute_result"
    }
   ],
   "source": [
    "company=Company.objects.get(name='LCM Construção e Comércio')\n",
    "company"
   ]
  },
  {
   "cell_type": "markdown",
   "metadata": {},
   "source": [
    "### **Nome da permissão**"
   ]
  },
  {
   "cell_type": "code",
   "execution_count": 4,
   "metadata": {},
   "outputs": [
    {
     "data": {
      "text/plain": [
       "<UserPermission: ['LCM Construção e Comércio'] - Sala técnica>"
      ]
     },
     "execution_count": 4,
     "metadata": {},
     "output_type": "execute_result"
    }
   ],
   "source": [
    "permission = UserPermission.objects.get(companies=company, name='Sala técnica')\n",
    "permission"
   ]
  },
  {
   "cell_type": "markdown",
   "metadata": {},
   "source": [
    "### Arrumando casing"
   ]
  },
  {
   "cell_type": "code",
   "execution_count": 5,
   "metadata": {},
   "outputs": [],
   "source": [
    "permission_new={}\n",
    "\n",
    "for k, v in permission.permissions.items():\n",
    "    permission_new[to_camel_case(k)] = v"
   ]
  },
  {
   "cell_type": "code",
   "execution_count": 6,
   "metadata": {},
   "outputs": [
    {
     "data": {
      "text/plain": [
       "{'Job': {'can_edit': False,\n",
       "  'can_view': False,\n",
       "  'queryset': 'none',\n",
       "  'can_create': False,\n",
       "  'can_delete': False},\n",
       " 'Gps': {'canUseNewLib': True},\n",
       " 'Firm': {'can_edit': True,\n",
       "  'can_view': True,\n",
       "  'queryset': 'all',\n",
       "  'can_create': True,\n",
       "  'can_delete': True},\n",
       " 'Road': {'can_edit': False,\n",
       "  'can_view': True,\n",
       "  'queryset': 'all',\n",
       "  'can_create': False,\n",
       "  'can_delete': False},\n",
       " 'User': {'can_edit': True,\n",
       "  'can_view': True,\n",
       "  'queryset': 'all',\n",
       "  'can_create': True,\n",
       "  'can_delete': False,\n",
       "  'can_edit_all_fields': True},\n",
       " 'Company': {'can_edit': True,\n",
       "  'can_view': True,\n",
       "  'queryset': 'self',\n",
       "  'can_create': False,\n",
       "  'can_delete': False,\n",
       "  'can_change_custom_options': True},\n",
       " 'HelpChat': {'can_view': True},\n",
       " 'ActionLog': {'can_edit': False,\n",
       "  'can_view': True,\n",
       "  'queryset': 'all',\n",
       "  'can_create': False,\n",
       "  'can_delete': False},\n",
       " 'Inventory': {'can_edit': False,\n",
       "  'can_view': False,\n",
       "  'queryset': 'none',\n",
       "  'can_create': False,\n",
       "  'can_delete': False},\n",
       " 'Reporting': {'can_edit': True,\n",
       "  'can_view': True,\n",
       "  'queryset': 'all',\n",
       "  'can_clone': True,\n",
       "  'can_create': True,\n",
       "  'can_delete': True},\n",
       " 'ShapeFile': {'can_edit': True,\n",
       "  'can_view': True,\n",
       "  'queryset': 'all',\n",
       "  'can_create': True,\n",
       "  'can_delete': False},\n",
       " 'TileLayer': {'can_edit': True,\n",
       "  'can_view': True,\n",
       "  'queryset': 'all',\n",
       "  'can_create': True,\n",
       "  'can_delete': False},\n",
       " 'Dashboard2': {'can_edit': False,\n",
       "  'can_view': False,\n",
       "  'queryset': 'none',\n",
       "  'can_create': False,\n",
       "  'can_delete': False,\n",
       "  'can_view_financial_indicators': False},\n",
       " 'Permission': {'can_edit': False,\n",
       "  'can_view': True,\n",
       "  'queryset': 'all',\n",
       "  'can_create': False,\n",
       "  'can_delete': False},\n",
       " 'QueuedPush': {'can_view': True},\n",
       " 'SubCompany': {'can_edit': False,\n",
       "  'can_view': False,\n",
       "  'queryset': 'none',\n",
       "  'can_create': False,\n",
       "  'can_delete': False},\n",
       " 'UserInFirm': {'can_edit': True,\n",
       "  'can_view': True,\n",
       "  'queryset': 'all',\n",
       "  'can_create': True,\n",
       "  'can_delete': True},\n",
       " 'ExcelImport': {'can_edit': True,\n",
       "  'can_view': True,\n",
       "  'queryset': 'all',\n",
       "  'can_create': True,\n",
       "  'can_delete': False},\n",
       " 'RecordPanel': {'can_edit': True,\n",
       "  'can_view': True,\n",
       "  'queryset': 'all',\n",
       "  'can_create': True,\n",
       "  'can_delete': True},\n",
       " 'ApprovalFlow': {'can_edit': True,\n",
       "  'can_view': True,\n",
       "  'queryset': 'all',\n",
       "  'can_create': True,\n",
       "  'can_delete': False,\n",
       "  'can_approve': True},\n",
       " 'ApprovalStep': {'can_edit': True,\n",
       "  'can_view': True,\n",
       "  'queryset': 'all',\n",
       "  'can_create': True,\n",
       "  'can_delete': False,\n",
       "  'can_approve': True},\n",
       " 'AccessRequest': {'can_edit': True,\n",
       "  'can_view': True,\n",
       "  'queryset': 'all',\n",
       "  'can_create': True,\n",
       "  'can_delete': True,\n",
       "  'can_approve': True},\n",
       " 'ExportRequest': {'can_edit': True,\n",
       "  'can_view': True,\n",
       "  'queryset': 'all',\n",
       "  'can_create': True,\n",
       "  'can_delete': False},\n",
       " 'ReportingFile': {'can_edit': True,\n",
       "  'can_view': True,\n",
       "  'queryset': 'all',\n",
       "  'can_create': True,\n",
       "  'can_delete': True},\n",
       " 'UserInCompany': {'can_edit': True,\n",
       "  'can_view': True,\n",
       "  'queryset': 'all',\n",
       "  'can_create': True,\n",
       "  'can_delete': False},\n",
       " 'OccurrenceType': {'can_edit': False,\n",
       "  'can_view': True,\n",
       "  'queryset': 'all',\n",
       "  'can_create': False,\n",
       "  'can_delete': False},\n",
       " 'UserPermission': {'can_edit': True,\n",
       "  'can_view': True,\n",
       "  'queryset': 'all',\n",
       "  'can_create': True,\n",
       "  'can_delete': False},\n",
       " 'AdvancedOptions': {'can_edit': True,\n",
       "  'can_view': True,\n",
       "  'queryset': 'all',\n",
       "  'can_create': True,\n",
       "  'can_delete': True},\n",
       " 'InspectorInFirm': {'can_edit': True,\n",
       "  'can_view': True,\n",
       "  'queryset': 'all',\n",
       "  'can_create': True,\n",
       "  'can_delete': True},\n",
       " 'RecordPanelView': {'can_view': True},\n",
       " 'ReportingMessage': {'can_edit': False,\n",
       "  'can_view': False,\n",
       "  'queryset': 'none',\n",
       "  'can_create': False,\n",
       "  'can_delete': False},\n",
       " 'CustomizationMenu': {'can_edit': True,\n",
       "  'can_view': True,\n",
       "  'queryset': 'all',\n",
       "  'can_create': True,\n",
       "  'can_delete': False},\n",
       " 'ReportingDeadline': {'can_edit': True,\n",
       "  'can_view': True,\n",
       "  'queryset': 'all',\n",
       "  'can_create': True,\n",
       "  'can_delete': True},\n",
       " 'ApprovalTransition': {'can_edit': True,\n",
       "  'can_view': True,\n",
       "  'queryset': 'all',\n",
       "  'can_create': True,\n",
       "  'can_delete': False,\n",
       "  'can_approve': True},\n",
       " 'ReportingAppConfig': {'can_edit': True,\n",
       "  'can_view': True,\n",
       "  'queryset': 'all',\n",
       "  'can_create': True,\n",
       "  'can_delete': False},\n",
       " 'ServiceOrderActionStatus': {'can_edit': True,\n",
       "  'can_view': True,\n",
       "  'queryset': 'all',\n",
       "  'can_create': True,\n",
       "  'can_delete': True}}"
      ]
     },
     "execution_count": 6,
     "metadata": {},
     "output_type": "execute_result"
    }
   ],
   "source": [
    "permission_new"
   ]
  },
  {
   "cell_type": "code",
   "execution_count": 7,
   "metadata": {},
   "outputs": [],
   "source": [
    "permission.permissions=permission_new\n",
    "permission.save()"
   ]
  },
  {
   "cell_type": "markdown",
   "metadata": {},
   "source": [
    "### Adicionando as permissões"
   ]
  },
  {
   "cell_type": "code",
   "execution_count": 8,
   "metadata": {},
   "outputs": [],
   "source": [
    "# Empresa\n",
    "\n",
    "permission.permissions['SubCompany']={\n",
    "                                        \"can_edit\": True,\n",
    "                                        \"can_view\": True,\n",
    "                                        \"queryset\": \"all\",\n",
    "                                        \"can_create\": True,\n",
    "                                        \"can_delete\": True\n",
    "                                        }"
   ]
  },
  {
   "cell_type": "code",
   "execution_count": 9,
   "metadata": {},
   "outputs": [],
   "source": [
    "# RDO\n",
    "\n",
    "permission.permissions['MultipleDailyReport']={\n",
    "                                                \"can_edit\": True,\n",
    "                                                \"can_view\": True,\n",
    "                                                \"queryset\": \"all\",\n",
    "                                                \"can_create\": True,\n",
    "                                                \"can_delete\": True\n",
    "                                                }"
   ]
  },
  {
   "cell_type": "code",
   "execution_count": 10,
   "metadata": {},
   "outputs": [],
   "source": [
    "# Funcionários\n",
    "\n",
    "permission.permissions['DailyReportWorker']={\n",
    "                                                \"can_edit\": True,\n",
    "                                                \"can_view\": True,\n",
    "                                                \"queryset\": \"all\",\n",
    "                                                \"can_create\": True,\n",
    "                                                \"can_delete\": True\n",
    "                                                }"
   ]
  },
  {
   "cell_type": "code",
   "execution_count": 11,
   "metadata": {},
   "outputs": [],
   "source": [
    "# Veículos\n",
    "\n",
    "permission.permissions['DailyReportVehicle']={\n",
    "                                                \"can_edit\": True,\n",
    "                                                \"can_view\": True,\n",
    "                                                \"queryset\": \"all\",\n",
    "                                                \"can_create\": True,\n",
    "                                                \"can_delete\": True\n",
    "                                                }"
   ]
  },
  {
   "cell_type": "code",
   "execution_count": 12,
   "metadata": {},
   "outputs": [],
   "source": [
    "# Equipamentos\n",
    "\n",
    "permission.permissions['DailyReportEquipment']={\n",
    "                                                \"can_edit\": True,\n",
    "                                                \"can_view\": True,\n",
    "                                                \"queryset\": \"all\",\n",
    "                                                \"can_create\": True,\n",
    "                                                \"can_delete\": True\n",
    "                                                }"
   ]
  },
  {
   "cell_type": "code",
   "execution_count": 13,
   "metadata": {},
   "outputs": [],
   "source": [
    "# Ocorrências\n",
    "\n",
    "permission.permissions['DailyReportOccurrence']={\n",
    "                                                \"can_edit\": True,\n",
    "                                                \"can_view\": True,\n",
    "                                                \"queryset\": \"all\",\n",
    "                                                \"can_create\": True,\n",
    "                                                \"can_delete\": True\n",
    "                                                }"
   ]
  },
  {
   "cell_type": "code",
   "execution_count": 14,
   "metadata": {},
   "outputs": [],
   "source": [
    "# Recursos em RDO\n",
    "\n",
    "permission.permissions['DailyReportResource']={\n",
    "                                                \"can_edit\": True,\n",
    "                                                \"can_view\": True,\n",
    "                                                \"queryset\": \"all\",\n",
    "                                                \"can_create\": True,\n",
    "                                                \"can_delete\": True\n",
    "                                                }"
   ]
  },
  {
   "cell_type": "code",
   "execution_count": 15,
   "metadata": {},
   "outputs": [],
   "source": [
    "# Recursos\n",
    "\n",
    "permission.permissions['Resource']={\"can_edit\": True,\n",
    "                                    \"can_view\": True,\n",
    "                                    \"queryset\": \"all\",\n",
    "                                    \"can_create\": True,\n",
    "                                    \"can_delete\": True\n",
    "                                    }"
   ]
  },
  {
   "cell_type": "code",
   "execution_count": 16,
   "metadata": {},
   "outputs": [],
   "source": [
    "# Sinalização\n",
    "\n",
    "permission.permissions['DailyReportSignaling']={\n",
    "                                                \"can_edit\": True,\n",
    "                                                \"can_view\": True,\n",
    "                                                \"queryset\": \"all\",\n",
    "                                                \"can_create\": True,\n",
    "                                                \"can_delete\": True\n",
    "                                                }"
   ]
  },
  {
   "cell_type": "code",
   "execution_count": 17,
   "metadata": {},
   "outputs": [],
   "source": [
    "# Configurações\n",
    "\n",
    "permission.permissions['DailyReportConfig']={\n",
    "                                            \"can_edit\": True,\n",
    "                                            \"can_view\": True,\n",
    "                                            \"queryset\": \"all\",\n",
    "                                            \"can_create\": True,\n",
    "                                            \"can_delete\": True\n",
    "                                            }"
   ]
  },
  {
   "cell_type": "code",
   "execution_count": 18,
   "metadata": {},
   "outputs": [],
   "source": [
    "# Exportação\n",
    "\n",
    "permission.permissions['DailyReportExport']={\n",
    "                                            \"can_edit\": True,\n",
    "                                            \"can_view\": True,\n",
    "                                            \"queryset\": \"all\",\n",
    "                                            \"can_create\": True,\n",
    "                                            \"can_delete\": True\n",
    "                                            }"
   ]
  },
  {
   "cell_type": "code",
   "execution_count": 19,
   "metadata": {},
   "outputs": [],
   "source": [
    "# Uso para unidades com Contratos\n",
    "\n",
    "permission.permissions['DailyReportContractUsage']={\n",
    "                                            \"can_edit\": True,\n",
    "                                            \"can_view\": True,\n",
    "                                            \"queryset\": \"all\",\n",
    "                                            \"can_create\": True,\n",
    "                                            \"can_delete\": True\n",
    "                                            }"
   ]
  },
  {
   "cell_type": "code",
   "execution_count": 20,
   "metadata": {},
   "outputs": [],
   "source": [
    "# Permissão para criar/excluir itens do quadro de controle - OPCIONAL\n",
    "\n",
    "if 'Company' in permission.permissions.keys():\n",
    "    permission.permissions['Company']['can_change_custom_options'] = True\n",
    "elif 'company' in permission.permissions.keys():\n",
    "    permission.permissions['company']['can_change_custom_options'] = True"
   ]
  },
  {
   "cell_type": "code",
   "execution_count": 21,
   "metadata": {},
   "outputs": [],
   "source": [
    "# Salvando\n",
    "\n",
    "permission.save()"
   ]
  },
  {
   "cell_type": "code",
   "execution_count": null,
   "metadata": {},
   "outputs": [],
   "source": []
  },
  {
   "cell_type": "code",
   "execution_count": null,
   "metadata": {},
   "outputs": [],
   "source": []
  }
 ],
 "metadata": {
  "kernelspec": {
   "display_name": "Django Shell-Plus",
   "language": "python",
   "name": "django_extensions"
  },
  "language_info": {
   "codemirror_mode": {
    "name": "ipython",
    "version": 3
   },
   "file_extension": ".py",
   "mimetype": "text/x-python",
   "name": "python",
   "nbconvert_exporter": "python",
   "pygments_lexer": "ipython3",
   "version": "3.7.9"
  }
 },
 "nbformat": 4,
 "nbformat_minor": 2
}
