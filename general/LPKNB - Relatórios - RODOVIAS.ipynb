{
 "cells": [
  {
   "cell_type": "code",
   "execution_count": 1,
   "id": "663406d5",
   "metadata": {},
   "outputs": [],
   "source": [
    "import datetime\n",
    "from datetime import datetime, date\n",
    "import datetime as dt \n",
    "import pytz\n",
    "from matplotlib import pyplot as plt\n",
    "from django.db.models.query_utils import Q\n",
    "import pandas as pd\n",
    "import seaborn as sns\n",
    "from tqdm.notebook import tqdm\n",
    "import openpyxl"
   ]
  },
  {
   "cell_type": "code",
   "execution_count": 2,
   "id": "422bda43",
   "metadata": {},
   "outputs": [
    {
     "name": "stdout",
     "output_type": "stream",
     "text": [
      "STAGE=PRODUCTION\r\n"
     ]
    }
   ],
   "source": [
    "!cat .env"
   ]
  },
  {
   "cell_type": "code",
   "execution_count": 3,
   "id": "fbea38a8",
   "metadata": {},
   "outputs": [
    {
     "data": {
      "text/plain": [
       "[<Company: b0c55603-e20e-4e98-aa83-2f7b220a0b57: Afirma Engenharia Viária>,\n",
       " <Company: 7841ee9f-a338-4a04-b8f9-b033c2144734: Ambiente Teste>,\n",
       " <Company: 1cbc88a2-0490-4301-a767-05986b16d271: APG Engenharia>,\n",
       " <Company: a0fdb4a5-498d-4c1e-9858-ad118e9ece76: Arteris Fernão Dias>,\n",
       " <Company: 31938021-6b32-461b-821c-4759a5016441: Arteris Fernão Dias - Conserva>,\n",
       " <Company: 22b051ef-d318-4cba-a8ca-77f252fee3af: Arteris Fluminense>,\n",
       " <Company: d0fac1b3-8fa7-4251-be6d-9ee603a4a421: Arteris Fluminense - Conserva>,\n",
       " <Company: 38372c18-a598-4c34-8997-37587d8b4330: Arteris Fluminense - Teste Segurança>,\n",
       " <Company: b8450161-14d1-4de8-b254-7d1ddc4a9c20: Arteris Intervias>,\n",
       " <Company: 9763a1c5-3be6-4ddb-90bc-e6b96cc60b8d: Arteris Litoral Sul>,\n",
       " <Company: 52bf5f0c-7d75-4081-8616-06e0b43dee29: Arteris Litoral Sul - Conserva>,\n",
       " <Company: 9060b81c-9113-439c-b278-1c9df9fd9c0e: Arteris Litoral Sul Lab>,\n",
       " <Company: acd47ed7-4f96-4a27-b6a3-268b4e30779b: Arteris Planalto Sul>,\n",
       " <Company: 5741c7e7-f5ec-489a-a11d-daa935053277: Arteris Planalto Sul - Con>,\n",
       " <Company: 5fe09687-e797-4d8e-a169-a3d27fa16611: Arteris Planalto Sul - Conserva>,\n",
       " <Company: 755f394f-475f-420f-bb4a-e33c5ae754ef: Arteris Planalto Sul - Conserva Teste>,\n",
       " <Company: 0b80821a-94e6-40cf-a507-2e4918f836ce: Arteris Planalto Sul Lab>,\n",
       " <Company: 9f11c666-9324-4d2c-8378-4648157b838b: Arteris Régis Bittencourt>,\n",
       " <Company: 57daa1f5-ac75-4a6f-be14-18694a25fdc4: Arteris Régis Bittencourt - Conserva>,\n",
       " <Company: f08f7f12-ddb0-4ad4-b274-961ba16da48a: Arteris Régis Bittencourt Lab>,\n",
       " <Company: 433c0cd2-80e2-46c9-b8c5-030fc61070e5: Arteris Via Paulista>,\n",
       " <Company: ec364a8e-b335-4729-8ac8-50ccabd73459: Arteris Via Paulista - Faixa de Domínio>,\n",
       " <Company: 4e3abcde-b827-469c-ab60-4e6a3030ee60: Arteris Via Paulista - SISOAE>,\n",
       " <Company: d8ad38eb-91bf-4482-b5c8-7f3c6341c65e: Arteris Via Paulista - SISOBRAS/SISQUALI>,\n",
       " <Company: daac1370-ee61-45ce-ad13-63aa131bf4e6: ATIVO-TREINAMENTO ENERGIA>,\n",
       " <Company: ffbd0bac-3af9-471c-ade2-23e7bca306ef: Brusque>,\n",
       " <Company: efbf4869-4486-449d-8052-21fef17c2f62: CAJ>,\n",
       " <Company: 4edb7778-e350-4e77-8e1e-de5f87b1da7f: Caminhos da Serra Gaúcha>,\n",
       " <Company: ba851062-0573-4bad-8ed8-2de01e52c98a: Campina Grande>,\n",
       " <Company: 96e24ad5-3b23-461f-9300-85c542576894: CART>,\n",
       " <Company: 3d5f2e4d-f106-4415-973a-1b0e2ba2ca3b: Castilho Umuarama>,\n",
       " <Company: 5eb1e243-7992-4a8c-8d55-e4eb01f52c73: CCR Autoban - SISOAE>,\n",
       " <Company: 3af64f25-59e8-446b-bb1e-963549090b0d: CCR - Rio Sp>,\n",
       " <Company: b6ada631-d29b-4f6d-8d2e-ac536c6f06e8: CCR - ViaLagos>,\n",
       " <Company: 4234a39e-6044-4884-8ce5-085d9040b775: CCR - ViaRio>,\n",
       " <Company: 0ead5051-9350-412d-8578-14aeeb119740: ConcretMolding>,\n",
       " <Company: 8e70b23f-907a-4e9a-ae4e-fb316dda2831: Construtora Castilho>,\n",
       " <Company: 3be541f1-3489-4ec5-b44a-cd1faab091e2: Construtora Castilho (Ferrovias)>,\n",
       " <Company: ddf214d7-f46c-4a6e-8e88-e6c7b47fa97c: Copavi>,\n",
       " <Company: e58b3283-3d6b-4fdf-a80f-23a0077d9479: Cora Duarte - Ecosul>,\n",
       " <Company: 3167dbad-d788-4697-b866-1a4842df34a4: Cuiabá Saneamento>,\n",
       " <Company: 586ebf86-592d-47ca-8c0d-1ba7b0dd05bb: CV Seg - Via Sul>,\n",
       " <Company: bed840c2-d630-46c2-ac37-a86eca9c7901: Dalba Foz do Iguaçu>,\n",
       " <Company: daea8a45-f321-421d-a483-959b8ae9a208: Dalba Guarapuava>,\n",
       " <Company: 33c4bd91-cc13-449b-ad22-2eb270dc86dc: Dalba Guarapuava -Lote A>,\n",
       " <Company: 65e836aa-7bfa-4742-9739-f6ab56fe94bb: Dalba L14>,\n",
       " <Company: 08c9d965-ac65-4284-801f-16d972adedf5: Dalba L18>,\n",
       " <Company: 908804d5-6c99-49d2-9dc4-e81d9dd9cb32: DEMO>,\n",
       " <Company: f0b6948c-3d75-47dd-94a6-4b8ea4373ce4: Demo Concessionárias>,\n",
       " <Company: f9b5b1bc-6c12-4d47-a7c5-98acb466ca24: Demo - Concessionárias>,\n",
       " <Company: e7573efc-5cdc-4349-b24d-4785993b7a88: Demo Concessionárias - 10/2020>,\n",
       " <Company: 5a7918ca-d799-4f6b-8b48-28bfab77a52a: Demo Energia>,\n",
       " <Company: edcb2ab4-ce09-451e-a9d5-9871e43532f7: Demonstração - Energia>,\n",
       " <Company: 52bc8999-8495-4210-9718-7fe3537e51dc: Demonstração - SISOBRAS>,\n",
       " <Company: d320c615-6a95-4303-8ce5-983eafc838b2: Demonstração Usina solar>,\n",
       " <Company: 4c915d5a-295f-485a-ad36-1ac5ac14819a: Demo Teste>,\n",
       " <Company: 3ab47d88-fd1a-4fc0-9134-2aad2b15122c: ECOPISTAS>,\n",
       " <Company: 097fe80a-4917-4fa1-8207-2de35c113599: Eixo SP>,\n",
       " <Company: b6d9e6b7-c290-4dfc-8902-12d007237f07: Eixo SP - Demonstração>,\n",
       " <Company: bec1fdb9-85a7-40ad-b1ac-6f1c215859a8: Eixo SP - Fx. Dom. | Qualidade | Topografia>,\n",
       " <Company: 8174e68f-3a8f-4013-98dd-062954e4c0da: Eixo Sp - Pavimento>,\n",
       " <Company: 1e1f2935-12dc-49c0-8b77-a2c7158979d8: Eixo SP - PoC>,\n",
       " <Company: f12a3c0c-e7d3-4eca-881a-0c7e9666e201: Eixo SP - PoC Patrimonial>,\n",
       " <Company: 368b6a99-502e-4f1c-8f10-4de6f445a160: Eixo SP - SISOAE>,\n",
       " <Company: e31b08e6-ba7e-48cf-ad95-3605f27a879b: ELO AutoBAn>,\n",
       " <Company: 0dcad023-ac00-4141-8262-8f1688f4b7bd: ELO EcoNoroeste>,\n",
       " <Company: f3b2b4c4-b5be-42ab-9a34-27bfa44e2044: ELO Ecopistas>,\n",
       " <Company: 29ad3984-36b8-4163-b8bd-958336a41040: ELO Ecovias dos Imigrantes>,\n",
       " <Company: 7e5afe32-fc54-411e-9145-8f7ea7361ee6: ELO Rodoanel>,\n",
       " <Company: c24f491c-9380-4bbe-b776-51ef7159b9bb: ELO Rodovias dos Tamoios>,\n",
       " <Company: d2a2a37d-b7d1-438c-81cd-38e8cf87c865: ELO Rodovias Tietê>,\n",
       " <Company: fb10d5e8-fad2-4eed-85c4-5d64a5dac008: ELO Rota das Bandeiras>,\n",
       " <Company: 43ba6c7c-d2a4-4fa5-a424-137623dcc747: ELO SPVias>,\n",
       " <Company: 0570317e-e56d-4a53-991d-351a6ff86863: ELO SP Vias Antiga (Não utilizada)>,\n",
       " <Company: 19f7a119-7100-479f-a8a4-74eb46c69c00: ELO Teste>,\n",
       " <Company: 9fc8e4c3-ace6-4d30-b4ac-04d858aaa0df: ELO Via Lagos>,\n",
       " <Company: b3ba58fe-c03e-428f-bd35-f88d83f214ed: ELO Via Oeste>,\n",
       " <Company: 90041917-e41e-46f2-b979-7d3ad53efad2: Engie Umburanas>,\n",
       " <Company: 91d69c92-2284-4570-9011-760a5a74a708: Entrevias>,\n",
       " <Company: 67704003-f388-4d35-b9a6-7e6f2b0ffc6d: Entrevias SISOAE>,\n",
       " <Company: d610e1bc-6684-4c80-99c0-7320ce416752: EXCLUSÃO>,\n",
       " <Company: 7eb6a2d5-1dab-44c7-9426-7e841cc9e874: Fratello BR-174/MT Pontes e Lacerda>,\n",
       " <Company: c9283ab1-27b9-4637-aa35-3597395f7345: Fratello MT-130 Paranatinga>,\n",
       " <Company: 8571f4e2-c42b-434e-993c-75a34d9ef3ff: Fratello MT-220 Porto dos Gaúchos>,\n",
       " <Company: 8b52a97e-6aad-49fb-b5a5-5cd4eb2193b1: Future>,\n",
       " <Company: 3f610cb1-5476-4d2a-9b08-47a50bc4f5ca: Garcia Monteiro>,\n",
       " <Company: 68e3af24-2fec-4ab0-b2ff-97e1076b02b3: GEH>,\n",
       " <Company: c6c02f1c-9915-4d10-8f42-ab08b1d52369: GPS - Via Paulista>,\n",
       " <Company: caba5ee3-9e28-4e50-98b2-87c1dae57d82: Kapa Município>,\n",
       " <Company: 86c06181-8b3e-4fce-bead-d03d4289c1fc: Kapa Pavimentação>,\n",
       " <Company: 2548531b-4421-4c1e-ac0d-faaacf7d215a: Kartado | Avançado>,\n",
       " <Company: ddf36e21-d03f-4cd9-b858-7906e52bca4b: Kartado | Básico>,\n",
       " <Company: 710f0d14-d1c2-4c0b-a47a-3f80d693c7df: Kartado Demonstração>,\n",
       " <Company: a3e0322d-8fe9-4b56-967e-7cd6eb4e464d: Kartado | Intermediário>,\n",
       " <Company: f14e9514-ae4b-4a3c-8395-43c06b6b103c: Kartado | SIGACO>,\n",
       " <Company: a5bd219a-66bc-4eb9-a2bb-6ae825b7c48f: Kartado - TESTE>,\n",
       " <Company: a3fca710-54b8-4ee1-8375-1a908342438d: LCM Construção e Comércio>,\n",
       " <Company: 2955998b-b4a8-46a8-96bb-eed11e18d4d8: Llucena Infraestrutura>,\n",
       " <Company: d9bc4a71-94a5-4294-9385-e66f05e1aba0: Minasul>,\n",
       " <Company: 31ba4470-cdfd-48ff-a513-8d9859f4a4a9: Modera>,\n",
       " <Company: 3a356ef4-d030-44cc-9268-bb75b0fb5572: MTSUL - Cláudia>,\n",
       " <Company: 92e33531-368a-492a-83dd-9e54988d45c2: MTSUL - Matupá>,\n",
       " <Company: c6ac2ffe-ab66-4d29-9129-a76f370251eb: Neovia Alcinópolis>,\n",
       " <Company: ee45a8e1-5f6c-4bf6-a2b4-51f686187fa7: Neovia Araquari 886/2020>,\n",
       " <Company: 914a045a-f592-4860-9c17-45c73c54e14e: Neovia Araranguá>,\n",
       " <Company: aedb8304-0410-4916-85a9-bce1cdb87e24: Neovia Bocaína do Sul 329/2018>,\n",
       " <Company: a4035b6a-eb90-45fa-9f94-a1120ad00f3b: Neovia BR-285>,\n",
       " <Company: 248bd308-934d-44d2-8921-ac52456cae31: Neovia Campo Mourão 213/2019>,\n",
       " <Company: 1943b1eb-dbd9-48be-887d-a5498af515dc: Neovia CART>,\n",
       " <Company: de8462a2-7bcd-4a71-a33d-0138164868d2: Neovia CCR Rodonorte>,\n",
       " <Company: a76bc044-1936-4342-b488-373ec987f3c6: Neovia Chapecó>,\n",
       " <Company: e572ed6f-ed84-418d-8366-1b0456bb970f: Neovia Contorno Sul>,\n",
       " <Company: 0581e8a1-c60f-46c6-b607-fc928e476fbf: Neovia Coronel Vivida>,\n",
       " <Company: ae9e491c-fa55-4570-80f0-c032a15652a7: Neovia Cto Biguaçu>,\n",
       " <Company: f700f9bf-2321-4173-97f4-1fc0e06d9537: Neovia Diamantino>,\n",
       " <Company: f27c48c5-37b9-45c6-a326-7c4015f4e755: Neovia Florianópolis>,\n",
       " <Company: b29baa4a-36f4-47cb-95ec-0afb23cc9b2e: Neovia General Carneiro>,\n",
       " <Company: 1becd2e8-28f4-4d80-8c94-8112553324b0: Neovia Juquitiba>,\n",
       " <Company: 1910171c-de0c-4ebb-93a4-0bd46ab2320a: Neovia Lages 421/2014>,\n",
       " <Company: 889a1d83-317e-4ff7-810b-fbd345bf7887: Neovia Lages 652/2019>,\n",
       " <Company: a8fd21ba-2c6c-4df1-9930-69737a2ff181: Neovia Lagoa Vermelha>,\n",
       " <Company: 85f84ea9-6f2f-4fc7-992b-f412a5468943: Neovia Lev. BR277>,\n",
       " <Company: 495e47e1-3b69-4dde-a59b-1d06061443e6: Neovia Oeste>,\n",
       " <Company: 895f7509-2f04-4ae5-947b-dd8cb260b466: Neovia Pérola d'Oeste>,\n",
       " <Company: 8c4da155-84b7-43bc-9982-5878eef5b415: Neovia Planalto Sul>,\n",
       " <Company: 12b98a50-b8f0-484a-bf91-f9cc0cb41adc: Neovia Ponte Serrada>,\n",
       " <Company: 83ce2755-5d1a-49b6-9fc2-7dbc2cd4ecce: Neovia Rancho Queimado 080/2021>,\n",
       " <Company: c5598c72-909a-4ffb-9a27-8839872ccaa4: Neovia Régis Bittencourt>,\n",
       " <Company: 6eb8832e-205f-4c9c-9fac-0b28bb04e30f: Neovia São Bento 533/2014>,\n",
       " <Company: 408375b5-b9b6-41a6-b663-75660a4ed378: Neovia Teste>,\n",
       " <Company: 6ac992a9-8138-4ee9-8507-a6ca310d6737: Neovia - TESTE>,\n",
       " <Company: 483bf9b6-91a8-443f-9b34-403ab8ace069: Neovia Tijucas>,\n",
       " <Company: 40749785-946f-4545-87e9-18fc844f6677: Neovia Vacaria>,\n",
       " <Company: 447a03e3-27ea-4bb1-992b-d3d8784974cd: OLD PCH-JOSÉ GELÁZIO DA ROCHA>,\n",
       " <Company: 97f7268b-32f8-434f-8254-ecd647a60e37: OLD PCH-RONDONÓPOLIS>,\n",
       " <Company: 005d89e3-2be2-4195-ac49-febfa78e53e0: OLD UHE-AAPL>,\n",
       " <Company: cff59760-69dd-4d07-bba5-61aa8b6faeea: OLD UHE-CANA BRAVA>,\n",
       " <Company: 42ddc389-3258-4daf-868a-097235427e0f: OLD UHE-ESTREITO>,\n",
       " <Company: d436bd3c-e145-44f2-a5ee-797a67110efd: OLD UHE-ITA>,\n",
       " <Company: 17663a30-5f71-4e7c-8ac2-adf472342b42: OLD UHE-JAGUARA>,\n",
       " <Company: b4a06d54-e99b-4a79-82e5-2460a06fcbc5: OLD UHE-MACHADINHO>,\n",
       " <Company: 2fd0ca76-b741-47d7-af9c-607e6ed1eca2: OLD UHE-MIRANDA>,\n",
       " <Company: 574400b8-28b9-4a59-b29f-9d542e42fbdc: OLD UHE-PASSO FUNDO>,\n",
       " <Company: 296edae1-b154-40ff-87b1-3b78e3441906: OLD UHE-PONTE DE PEDRA>,\n",
       " <Company: 3167c3b2-95fa-4ecb-b759-dc1d63067ba4: OLD UHE-SALTO OSORIO>,\n",
       " <Company: 94fc0888-2e78-43c9-ac2d-f6dffc86d5fc: OLD UHE-SALTO SANTIAGO>,\n",
       " <Company: 96bcaf1a-593b-4c6e-bdca-9b0dad0db0f1: OLD UHE-SÃO SALVADOR>,\n",
       " <Company: a5d5d2a0-7063-47d6-9a6d-58080cb65e71: OLD UHE-TESTE>,\n",
       " <Company: ee7795f4-c04a-4f5c-8918-47c3d8645de7: Pavicolet (Amapá)>,\n",
       " <Company: 52adb06a-066a-4a8e-9696-600de5573d91: Pavicolet (Amazonas)>,\n",
       " <Company: 5f0ef84c-9985-4519-95de-e87fb4fcea21: PCH-JOSÉ GELÁZIO DA ROCHA>,\n",
       " <Company: 1b1511d1-6f28-4aed-b02c-7c820c5f9dbb: PCH-RONDONÓPOLIS>,\n",
       " <Company: a17b7aca-5552-4f17-9ba0-9946029390a6: POC-Projeto APR>,\n",
       " <Company: acbd6358-b2cf-45f8-a14b-3b819de220e9: PoC SISOAE>,\n",
       " <Company: 8f41f884-8312-4b2b-8959-378240fa0d07: Porto Itapoá>,\n",
       " <Company: c7dc3799-9f9f-4692-b990-b8b04e47ad8a: Projeto Formulários Arteris>,\n",
       " <Company: e3a59ccd-1df6-4870-bb7c-64cee4a49ae2: Radar SA>,\n",
       " <Company: 225e8c14-75be-4ecd-8518-eff9e6a81363: Radar SA Concessões>,\n",
       " <Company: 7c7b39ac-7711-420a-9402-0859df283634: Rota do Oeste>,\n",
       " <Company: c2bc7bad-0602-46d7-91ab-c26c5a8c406f: Rota do Oeste - Obras>,\n",
       " <Company: c02e47f2-5038-41b8-bad5-0b543664caf9: Sanson>,\n",
       " <Company: 9b820ccd-be2f-46c7-b423-312eca3134df: SETA>,\n",
       " <Company: e21922b0-9464-4985-b299-aeb6ef691547: SETA>,\n",
       " <Company: eee8616b-7b11-40a9-a7f2-3d1c2207b7a8: Sinaliza Via (Municípios)>,\n",
       " <Company: be11c6d3-a7d3-456a-b0b3-3fa1c5583ca4: Sinaliza Via (Rodovias)>,\n",
       " <Company: 0e335175-a81b-43a2-868a-92ee6371c2ba: SinalTraffic - Parnaíba>,\n",
       " <Company: 6b1104b5-10d8-4b9d-85a4-ea24283f6cd1: SinalTraffic - Teresina>,\n",
       " <Company: 9ff78f9f-ea54-48fa-bbd2-05243c4f58c4: Televale>,\n",
       " <Company: 12cd483c-2a0c-4afd-9f2c-c96a160d9eff: TESTE - CONCESSIONÁRIA>,\n",
       " <Company: 7ad1e26e-e770-49a2-98f7-0f7169e38abf: Teste Concessionárias>,\n",
       " <Company: 705392a5-4206-4144-8fd6-b23d4186de0b: TESTE EMPREITEIRA 2>,\n",
       " <Company: 9f07ce01-a665-4a13-b7d7-f86b3704694e: TESTE EMPREITEIRA 3>,\n",
       " <Company: efe5ba66-bc1e-4fdc-8d29-b30d904c3eca: Teste Empreitera>,\n",
       " <Company: f501d276-df2a-4296-b739-40e0b67adf68: Teste fluxo IMT>,\n",
       " <Company: ec195a43-2bc4-40de-9336-4af5513a0eb0: Teste Integração - Fadami>,\n",
       " <Company: 2b25b300-1bd3-4d52-85cf-5b3ee32cff00: Teste Integração - KCOR>,\n",
       " <Company: 29c5946b-0362-4e03-ac4e-650a4e980778: Teste Integração - OptGIS>,\n",
       " <Company: 4e8702fd-d3ef-4c89-8b31-d87be24579f9: Teste Migração>,\n",
       " <Company: b75339ff-e91f-4e75-a082-5d7e23a4d049: Testes Auscultação>,\n",
       " <Company: 7a1aee09-ef30-4eba-bfc1-d8d168f9dda3: Triunfo Concebra - TESTE>,\n",
       " <Company: c85df77c-3e92-4f60-b9c1-de5866400d2d: UHE-CANA BRAVA>,\n",
       " <Company: 33e4f910-db35-46ce-95c8-56cad68eeb94: UHE-ESTREITO>,\n",
       " <Company: 7607cd3f-af08-49d4-8cff-d9354e71b3f3: UHE-ESTREITO 2>,\n",
       " <Company: e9fce210-f652-4d7d-befe-32e02a8f0f60: UHE-ITA>,\n",
       " <Company: f0bdd035-6af9-401c-9233-26c5cdd808b0: UHE-JAGUARA>,\n",
       " <Company: 4b4bfdad-f8b8-403b-93a6-26e846a6770b: UHE-MACHADINHO>,\n",
       " <Company: 62ad80d9-b785-4037-933a-e23238728220: UHE-MIRANDA>,\n",
       " <Company: 110bce05-5146-421e-a5a7-ffb32ee92a91: UHE-PASSO FUNDO>,\n",
       " <Company: 1021dc11-d12c-4a27-88d5-dde0fad2be7d: UHE-PONTE DE PEDRA>,\n",
       " <Company: 571581e3-da3a-469e-8676-0dc58c056ef7: UHE-SALTO OSORIO>,\n",
       " <Company: 37b4c80d-3f2b-4032-8cac-6ba1560d3144: UHE-SALTO SANTIAGO>,\n",
       " <Company: 1f30f493-c653-46c7-b073-0046837347f7: UHE-SÃO SALVADOR>,\n",
       " <Company: 4920816b-507a-48b1-86d5-d2eef6c63a1f: UTPS>,\n",
       " <Company: a7ccb2d4-798d-478b-b284-999dbcb98d55: VF Gomes - 350>,\n",
       " <Company: 75f005f5-37b0-489e-a077-85f3c31ca13b: VF Gomes - 358>,\n",
       " <Company: be375f3a-0947-4381-be62-81ad4bd0570e: VF Gomes - 455>,\n",
       " <Company: 975bb601-a4ee-4939-afc8-0b3273a958c4: VF Gomes - BR010>,\n",
       " <Company: 1f17a9b0-401c-4551-8c46-920162410ed5: VF Gomes - BR158>,\n",
       " <Company: 16ec7aca-c7f8-4064-b92b-7bcc273617ad: VF Gomes - BR163>,\n",
       " <Company: 0c0ca18d-1785-4191-a790-eb1429aa9842: VF Gomes - Confresa>,\n",
       " <Company: 60c9f9f4-a529-42ab-a116-636a6956369d: VF Gomes - Nova Lacerda>,\n",
       " <Company: c3c9bfe9-3607-4894-a8d5-61f6f5acd4fa: VF Gomes - Porto Espiridião>,\n",
       " <Company: 23a6442c-5835-48a0-8916-bcf3e3a0e58b: VF Gomes - Vila Bela>,\n",
       " <Company: fea2b0fe-868f-4bb8-826a-337f03c69305: Via Brasil>,\n",
       " <Company: 329e80a5-c02c-41d5-be0f-2321c50ca580: Via Brasil SISQUALI>,\n",
       " <Company: 0a3f32bd-b11a-4510-b914-90d3fb3045b9: Vig. Epidemiológica Brusque>]"
      ]
     },
     "execution_count": 3,
     "metadata": {},
     "output_type": "execute_result"
    }
   ],
   "source": [
    "companies = Company.objects.all().order_by('name')\n",
    "# companies = Company.objects.filter(active = True)\n",
    "list(companies)"
   ]
  },
  {
   "cell_type": "code",
   "execution_count": 4,
   "id": "67aaa476",
   "metadata": {},
   "outputs": [],
   "source": [
    "company = ['Pavicolet (Amapá)']"
   ]
  },
  {
   "cell_type": "code",
   "execution_count": 5,
   "id": "d656e3b4",
   "metadata": {},
   "outputs": [],
   "source": [
    "!mkdir \"Pavicolet (Amapá)\"\n",
    "path=f'Pavicolet (Amapá)/'"
   ]
  },
  {
   "cell_type": "code",
   "execution_count": 6,
   "id": "eb55cdbf",
   "metadata": {},
   "outputs": [],
   "source": [
    "data_relatorios = '2023-08-31'"
   ]
  },
  {
   "cell_type": "markdown",
   "id": "27b9497f",
   "metadata": {},
   "source": [
    "# Apontamentos"
   ]
  },
  {
   "cell_type": "code",
   "execution_count": 7,
   "id": "f7454a11",
   "metadata": {},
   "outputs": [],
   "source": [
    "road_company = Company.objects.get(\n",
    "    name__in = company\n",
    ")"
   ]
  },
  {
   "cell_type": "code",
   "execution_count": 8,
   "id": "b37a0949",
   "metadata": {},
   "outputs": [
    {
     "data": {
      "text/plain": [
       "<Company: ee7795f4-c04a-4f5c-8918-47c3d8645de7: Pavicolet (Amapá)>"
      ]
     },
     "execution_count": 8,
     "metadata": {},
     "output_type": "execute_result"
    }
   ],
   "source": [
    "road_company"
   ]
  },
  {
   "cell_type": "code",
   "execution_count": 9,
   "id": "03d5fd89",
   "metadata": {},
   "outputs": [
    {
     "name": "stderr",
     "output_type": "stream",
     "text": [
      "/home/luan/.cache/pypoetry/virtualenvs/apps-ZFymp6kh-py3.7/lib/python3.7/site-packages/django/db/models/fields/__init__.py:1427: RuntimeWarning: DateTimeField Reporting.executed_at received a naive datetime (2023-08-31 00:00:00) while time zone support is active.\n",
      "  RuntimeWarning)\n"
     ]
    }
   ],
   "source": [
    "apontamentos_exe = Reporting.objects.filter(\n",
    "    executed_at__year = 2023,\n",
    "    executed_at__lte = data_relatorios,\n",
    "    company_id = road_company.uuid,\n",
    ")"
   ]
  },
  {
   "cell_type": "code",
   "execution_count": 10,
   "id": "bd3cf630",
   "metadata": {},
   "outputs": [],
   "source": [
    "traduzirNaturezaName1 = lambda name: ''.join([item['value'] for item in road_company.custom_options['reporting']['fields']['occurrenceKind']['selectOptions']['options'] if item['name'].lower() == name.lower()])\n",
    "traduzirNaturezaValue1 = lambda value: ''.join([item['name'] for item in road_company.custom_options['reporting']['fields']['occurrenceKind']['selectOptions']['options'] if item['value'].lower() == value.lower()])"
   ]
  },
  {
   "cell_type": "code",
   "execution_count": 11,
   "id": "da1def80",
   "metadata": {},
   "outputs": [],
   "source": [
    "traduzirNaturezaName = lambda name: ''.join([item['value'] for item in road_company.custom_options['reporting']['fields']['occurrence_kind']['select_options']['options'] if item['name'].lower() == name.lower()])\n",
    "traduzirNaturezaValue = lambda value: ''.join([item['name'] for item in road_company.custom_options['reporting']['fields']['occurrence_kind']['select_options']['options'] if item['value'].lower() == value.lower()])"
   ]
  },
  {
   "cell_type": "code",
   "execution_count": 12,
   "id": "1f7e7053",
   "metadata": {},
   "outputs": [
    {
     "data": {
      "text/plain": [
       "812"
      ]
     },
     "execution_count": 12,
     "metadata": {},
     "output_type": "execute_result"
    }
   ],
   "source": [
    "apontamentos_exe.count()"
   ]
  },
  {
   "cell_type": "code",
   "execution_count": 13,
   "id": "b6ab8480",
   "metadata": {},
   "outputs": [
    {
     "data": {
      "application/vnd.jupyter.widget-view+json": {
       "model_id": "ab5b143df3144609bfda1dd5805c5a0a",
       "version_major": 2,
       "version_minor": 0
      },
      "text/plain": [
       "  0%|          | 0/812 [00:00<?, ?it/s]"
      ]
     },
     "metadata": {},
     "output_type": "display_data"
    }
   ],
   "source": [
    "obj={}\n",
    "\n",
    "for i in tqdm(\n",
    "    apontamentos_exe.prefetch_related(\n",
    "        \"occurrence_type\"\n",
    "    ).annotate(\n",
    "        occurrence_kind=F(\"occurrence_type__occurrence_kind\"),\n",
    "        occurrence_type_name=F(\"occurrence_type__name\")\n",
    "    ).only(\n",
    "        \"executed_at\", \n",
    "        \"found_at\", \n",
    "    )\n",
    "):\n",
    "    try:\n",
    "        t=i.executed_at-i.found_at\n",
    "        hour = t.seconds//3600\n",
    "    except:\n",
    "        pass\n",
    "    \n",
    "    if t.days <0:\n",
    "        continue\n",
    "    \n",
    "#     a  = Reporting.objects.filter(number = i.number, company__name__in = company)\n",
    "    \n",
    "#     for i in a:\n",
    "    item = i.occurrence_kind\n",
    "    c =  i.occurrence_type_name\n",
    "    try:\n",
    "        n = traduzirNaturezaValue1(i.occurrence_kind)\n",
    "    except:\n",
    "        n = traduzirNaturezaValue(i.occurrence_kind)\n",
    "\n",
    "    obj[i.number] = {\n",
    "        'Encontrado': i.found_at, \n",
    "        'Executado': i.executed_at,\n",
    "        'Resultado Tempo Exec': t,\n",
    "        'Tempo para Exec. Dias': t.days,\n",
    "        'Tempo para Exec. Horas': hour, \n",
    "        'Natureza': n, \n",
    "        'Classe': c\n",
    "    }\n",
    "\n",
    "# media_tempo_horas = tempo_total.days"
   ]
  },
  {
   "cell_type": "code",
   "execution_count": 14,
   "id": "7b747545",
   "metadata": {},
   "outputs": [
    {
     "data": {
      "text/plain": [
       "(808,\n",
       " dict_keys(['Encontrado', 'Executado', 'Resultado Tempo Exec', 'Tempo para Exec. Dias', 'Tempo para Exec. Horas', 'Natureza', 'Classe']))"
      ]
     },
     "execution_count": 14,
     "metadata": {},
     "output_type": "execute_result"
    }
   ],
   "source": [
    "_,cabecalho = list(obj.items())[0]\n",
    "len(obj),cabecalho.keys()"
   ]
  },
  {
   "cell_type": "code",
   "execution_count": 15,
   "id": "08b5a81f",
   "metadata": {},
   "outputs": [],
   "source": [
    "df = pd.DataFrame(data=obj.values(),columns=cabecalho.keys(), index = obj.keys())"
   ]
  },
  {
   "cell_type": "code",
   "execution_count": 25,
   "id": "92349b91",
   "metadata": {},
   "outputs": [],
   "source": [
    "df['Data'] = df['Executado'].apply(lambda x: str(x)[:4]) + '/'+df['Executado'].apply(lambda x: str(x)[5:7])"
   ]
  },
  {
   "cell_type": "code",
   "execution_count": 26,
   "id": "ce4d7d15",
   "metadata": {},
   "outputs": [
    {
     "name": "stderr",
     "output_type": "stream",
     "text": [
      "/home/luan/.cache/pypoetry/virtualenvs/apps-ZFymp6kh-py3.7/lib/python3.7/site-packages/ipykernel_launcher.py:1: FutureWarning: Index.__or__ operating as a set operation is deprecated, in the future this will be a logical operation matching Series.__or__.  Use index.union(other) instead\n",
      "  \"\"\"Entry point for launching an IPython kernel.\n"
     ]
    }
   ],
   "source": [
    "df = df.drop(df[df['Data']=='5202/01'].index| df[df['Data']=='6202/05'].index| df[df['Data']=='None/'].index)"
   ]
  },
  {
   "cell_type": "code",
   "execution_count": 27,
   "id": "c2d81a82",
   "metadata": {},
   "outputs": [
    {
     "data": {
      "text/plain": [
       "array(['2023/06', '2023/07', '2023/04', '2023/08', '2023/05', '2023/02',\n",
       "       '2023/03', '2023/01'], dtype=object)"
      ]
     },
     "execution_count": 27,
     "metadata": {},
     "output_type": "execute_result"
    }
   ],
   "source": [
    "pd.unique(df['Data'])"
   ]
  },
  {
   "cell_type": "code",
   "execution_count": 28,
   "id": "e158ae02",
   "metadata": {},
   "outputs": [
    {
     "data": {
      "text/plain": [
       "array([ 0,  1,  6,  9,  5,  3,  7, 75,  2,  4])"
      ]
     },
     "execution_count": 28,
     "metadata": {},
     "output_type": "execute_result"
    }
   ],
   "source": [
    "pd.unique(df['Tempo para Exec. Dias'])"
   ]
  },
  {
   "cell_type": "code",
   "execution_count": 29,
   "id": "a6359050",
   "metadata": {},
   "outputs": [],
   "source": [
    "# definir as faixas de valores\n",
    "faixas = [0, 1, 7, 14, 21, float('inf')]\n",
    "\n",
    "# categorizar os valores de acordo com as faixas\n",
    "categorias = pd.cut(df['Tempo para Exec. Dias'], bins=faixas)\n",
    "\n",
    "# criar as colunas para cada categoria\n",
    "colunas = pd.get_dummies(categorias, prefix='faixa')\n",
    "\n",
    "# concatenar as colunas ao dataframe original\n",
    "dados = pd.concat([df, colunas], axis=1)\n",
    "\n",
    "# renomeia as colunas\n",
    "dados = dados.rename(columns={\"faixa_(0.0, 1.0]\": \"até 24h\",\n",
    "                              \"faixa_(1.0, 7.0]\": \"Entre 1 e 7 Dias\",\n",
    "                              \"faixa_(7.0, 14.0]\": \"Entre 7 e 14 Dias\",\n",
    "                              \"faixa_(14.0, 21.0]\": \"Entre 14 e 21 Dias\",\n",
    "                              \"faixa_(21.0, inf]\": \"Mais 21 Dias\"}, errors='raise')\n",
    "\n",
    "# renomeia as colunas\n",
    "df2 = dados.groupby('Data')[['até 24h','Entre 1 e 7 Dias','Entre 7 e 14 Dias','Entre 14 e 21 Dias','Mais 21 Dias']].sum()\n",
    "# df2.iloc[:4]"
   ]
  },
  {
   "cell_type": "code",
   "execution_count": 30,
   "id": "572f89e2",
   "metadata": {},
   "outputs": [],
   "source": [
    "#df2.drop('None/', axis = 0, inplace = True)"
   ]
  },
  {
   "cell_type": "code",
   "execution_count": 31,
   "id": "5f90dbf5",
   "metadata": {},
   "outputs": [],
   "source": [
    "df2 = df2.tail(5)"
   ]
  },
  {
   "cell_type": "code",
   "execution_count": 32,
   "id": "44a0eac9",
   "metadata": {},
   "outputs": [
    {
     "data": {
      "text/html": [
       "<div>\n",
       "<style scoped>\n",
       "    .dataframe tbody tr th:only-of-type {\n",
       "        vertical-align: middle;\n",
       "    }\n",
       "\n",
       "    .dataframe tbody tr th {\n",
       "        vertical-align: top;\n",
       "    }\n",
       "\n",
       "    .dataframe thead th {\n",
       "        text-align: right;\n",
       "    }\n",
       "</style>\n",
       "<table border=\"1\" class=\"dataframe\">\n",
       "  <thead>\n",
       "    <tr style=\"text-align: right;\">\n",
       "      <th></th>\n",
       "      <th>até 24h</th>\n",
       "      <th>Entre 1 e 7 Dias</th>\n",
       "      <th>Entre 7 e 14 Dias</th>\n",
       "      <th>Entre 14 e 21 Dias</th>\n",
       "      <th>Mais 21 Dias</th>\n",
       "    </tr>\n",
       "    <tr>\n",
       "      <th>Data</th>\n",
       "      <th></th>\n",
       "      <th></th>\n",
       "      <th></th>\n",
       "      <th></th>\n",
       "      <th></th>\n",
       "    </tr>\n",
       "  </thead>\n",
       "  <tbody>\n",
       "    <tr>\n",
       "      <th>2023/04</th>\n",
       "      <td>0</td>\n",
       "      <td>1</td>\n",
       "      <td>0</td>\n",
       "      <td>0</td>\n",
       "      <td>0</td>\n",
       "    </tr>\n",
       "    <tr>\n",
       "      <th>2023/05</th>\n",
       "      <td>0</td>\n",
       "      <td>0</td>\n",
       "      <td>0</td>\n",
       "      <td>0</td>\n",
       "      <td>0</td>\n",
       "    </tr>\n",
       "    <tr>\n",
       "      <th>2023/06</th>\n",
       "      <td>0</td>\n",
       "      <td>0</td>\n",
       "      <td>0</td>\n",
       "      <td>0</td>\n",
       "      <td>0</td>\n",
       "    </tr>\n",
       "    <tr>\n",
       "      <th>2023/07</th>\n",
       "      <td>0</td>\n",
       "      <td>0</td>\n",
       "      <td>0</td>\n",
       "      <td>0</td>\n",
       "      <td>1</td>\n",
       "    </tr>\n",
       "    <tr>\n",
       "      <th>2023/08</th>\n",
       "      <td>1</td>\n",
       "      <td>12</td>\n",
       "      <td>1</td>\n",
       "      <td>0</td>\n",
       "      <td>0</td>\n",
       "    </tr>\n",
       "  </tbody>\n",
       "</table>\n",
       "</div>"
      ],
      "text/plain": [
       "         até 24h  Entre 1 e 7 Dias  Entre 7 e 14 Dias  Entre 14 e 21 Dias  \\\n",
       "Data                                                                        \n",
       "2023/04        0                 1                  0                   0   \n",
       "2023/05        0                 0                  0                   0   \n",
       "2023/06        0                 0                  0                   0   \n",
       "2023/07        0                 0                  0                   0   \n",
       "2023/08        1                12                  1                   0   \n",
       "\n",
       "         Mais 21 Dias  \n",
       "Data                   \n",
       "2023/04             0  \n",
       "2023/05             0  \n",
       "2023/06             0  \n",
       "2023/07             1  \n",
       "2023/08             0  "
      ]
     },
     "execution_count": 32,
     "metadata": {},
     "output_type": "execute_result"
    }
   ],
   "source": [
    "df2"
   ]
  },
  {
   "cell_type": "code",
   "execution_count": 33,
   "id": "6d5c25d2",
   "metadata": {},
   "outputs": [],
   "source": [
    "# total por faixa de valor\n",
    "l_tot_mes = [df2.iloc[a].sum() for a in range(0,len(df2.index))]\n",
    "# l_tot_mes,list(df2.index),len(df2.index)"
   ]
  },
  {
   "cell_type": "code",
   "execution_count": 34,
   "id": "850d25bf",
   "metadata": {},
   "outputs": [
    {
     "data": {
      "text/plain": [
       "[1, 0, 0, 1, 14]"
      ]
     },
     "execution_count": 34,
     "metadata": {},
     "output_type": "execute_result"
    }
   ],
   "source": [
    "l_tot_mes"
   ]
  },
  {
   "cell_type": "code",
   "execution_count": 35,
   "id": "d2bdf0ed",
   "metadata": {},
   "outputs": [],
   "source": [
    "l_periodo=[df2[a].sum() for a in df2.columns]\n",
    "df3 = df2.describe()"
   ]
  },
  {
   "cell_type": "code",
   "execution_count": 36,
   "id": "ac1e219c",
   "metadata": {},
   "outputs": [
    {
     "data": {
      "image/png": "[encoded data removed]",
      "text/plain": [
       "<Figure size 900x700 with 1 Axes>"
      ]
     },
     "metadata": {},
     "output_type": "display_data"
    }
   ],
   "source": [
    "# df2.iloc[:4] pegar o 4 primeiros meses somente\n",
    "ax1 = df2.plot(y=list(df2.columns),figsize=(9,7), kind='bar', stacked=False,title='Apontamentos/Mês por Data Execução no ano de 2023',xlabel='Meses',ylabel='Apontamentos',width=0.9)\n",
    "plt.xticks(rotation = 0)\n",
    "for i in ax1.containers:\n",
    "    ax1.bar_label(i, label_type='edge')\n",
    "plt.savefig(path+'apontamentos.png', dpi=300, bbox_inches='tight')"
   ]
  },
  {
   "cell_type": "code",
   "execution_count": 37,
   "id": "8be1b574",
   "metadata": {},
   "outputs": [
    {
     "data": {
      "text/plain": [
       "([1, 13, 1, 0, 1],\n",
       " Index(['até 24h', 'Entre 1 e 7 Dias', 'Entre 7 e 14 Dias',\n",
       "        'Entre 14 e 21 Dias', 'Mais 21 Dias'],\n",
       "       dtype='object'))"
      ]
     },
     "execution_count": 37,
     "metadata": {},
     "output_type": "execute_result"
    }
   ],
   "source": [
    "l_periodo,df2.columns"
   ]
  },
  {
   "cell_type": "code",
   "execution_count": 38,
   "id": "d17872a5",
   "metadata": {},
   "outputs": [
    {
     "data": {
      "image/png": "[encoded data removed]",
      "text/plain": [
       "<Figure size 900x700 with 1 Axes>"
      ]
     },
     "metadata": {},
     "output_type": "display_data"
    }
   ],
   "source": [
    "fig, ax = plt.subplots()\n",
    "ax.figure.set_size_inches(9,7)\n",
    "\n",
    "bar_labels = ['24h', '1 e 7', '7 e 14', '14 e 21', '+21']\n",
    "bar_colors = ['tab:red', 'tab:blue', 'tab:green', 'tab:orange']\n",
    "for i,a in enumerate(l_periodo):\n",
    "    ax.bar(bar_labels[i], l_periodo[i], label=df2.columns[i])\n",
    "\n",
    "ax.set_ylabel('Apontamentos')\n",
    "ax.set_xmargin(0.01)\n",
    "ax.set_title('Média de apontamentos executados por faixa de tempo')\n",
    "ax.legend(title='',prop={'size': 10})\n",
    "\n",
    "\n",
    "# for label in ax.patches:\n",
    "#     print(label)\n",
    "\n",
    "for rect, label in zip(ax.patches, l_periodo):\n",
    "    plt.annotate(format(rect.get_height()/sum(l_periodo), '.0%'),\n",
    "                   (rect.get_x() + rect.get_width() / 2,\n",
    "                    rect.get_height()), ha='center', va='center',\n",
    "                   size=10, xytext=(0, 8),\n",
    "                   textcoords='offset points')\n",
    "\n",
    "\n",
    "plt.savefig(path+'media_apontamentos_faixa.png', dpi=300, bbox_inches='tight')"
   ]
  },
  {
   "cell_type": "code",
   "execution_count": 39,
   "id": "f0846759",
   "metadata": {},
   "outputs": [],
   "source": [
    "df_tempo_medio = df.groupby([\"Data\"]).mean().drop('Tempo para Exec. Horas', axis='columns')"
   ]
  },
  {
   "cell_type": "code",
   "execution_count": 40,
   "id": "4c1a5f55",
   "metadata": {},
   "outputs": [
    {
     "data": {
      "text/html": [
       "<div>\n",
       "<style scoped>\n",
       "    .dataframe tbody tr th:only-of-type {\n",
       "        vertical-align: middle;\n",
       "    }\n",
       "\n",
       "    .dataframe tbody tr th {\n",
       "        vertical-align: top;\n",
       "    }\n",
       "\n",
       "    .dataframe thead th {\n",
       "        text-align: right;\n",
       "    }\n",
       "</style>\n",
       "<table border=\"1\" class=\"dataframe\">\n",
       "  <thead>\n",
       "    <tr style=\"text-align: right;\">\n",
       "      <th></th>\n",
       "      <th>Tempo para Exec. Dias</th>\n",
       "    </tr>\n",
       "    <tr>\n",
       "      <th>Data</th>\n",
       "      <th></th>\n",
       "    </tr>\n",
       "  </thead>\n",
       "  <tbody>\n",
       "    <tr>\n",
       "      <th>2023/01</th>\n",
       "      <td>0.000000</td>\n",
       "    </tr>\n",
       "    <tr>\n",
       "      <th>2023/02</th>\n",
       "      <td>0.285714</td>\n",
       "    </tr>\n",
       "    <tr>\n",
       "      <th>2023/03</th>\n",
       "      <td>0.000000</td>\n",
       "    </tr>\n",
       "    <tr>\n",
       "      <th>2023/04</th>\n",
       "      <td>0.028169</td>\n",
       "    </tr>\n",
       "    <tr>\n",
       "      <th>2023/05</th>\n",
       "      <td>0.000000</td>\n",
       "    </tr>\n",
       "    <tr>\n",
       "      <th>2023/06</th>\n",
       "      <td>0.000000</td>\n",
       "    </tr>\n",
       "    <tr>\n",
       "      <th>2023/07</th>\n",
       "      <td>0.350467</td>\n",
       "    </tr>\n",
       "    <tr>\n",
       "      <th>2023/08</th>\n",
       "      <td>0.360190</td>\n",
       "    </tr>\n",
       "  </tbody>\n",
       "</table>\n",
       "</div>"
      ],
      "text/plain": [
       "         Tempo para Exec. Dias\n",
       "Data                          \n",
       "2023/01               0.000000\n",
       "2023/02               0.285714\n",
       "2023/03               0.000000\n",
       "2023/04               0.028169\n",
       "2023/05               0.000000\n",
       "2023/06               0.000000\n",
       "2023/07               0.350467\n",
       "2023/08               0.360190"
      ]
     },
     "execution_count": 40,
     "metadata": {},
     "output_type": "execute_result"
    }
   ],
   "source": [
    "df_tempo_medio"
   ]
  },
  {
   "cell_type": "code",
   "execution_count": 41,
   "id": "c5a28a33",
   "metadata": {},
   "outputs": [],
   "source": [
    "#df_tempo_medio.drop('None/', axis = 0, inplace = True)"
   ]
  },
  {
   "cell_type": "code",
   "execution_count": 42,
   "id": "5fa64b8d",
   "metadata": {},
   "outputs": [
    {
     "data": {
      "image/png": "[encoded data removed]",
      "text/plain": [
       "<Figure size 600x400 with 1 Axes>"
      ]
     },
     "metadata": {},
     "output_type": "display_data"
    }
   ],
   "source": [
    "df_tempo_medio_2 = df_tempo_medio.reset_index()\n",
    "df_tempo_medio_2['Tempo para Exec. Dias'] = round(df_tempo_medio_2['Tempo para Exec. Dias'],2)\n",
    "fig, ax = plt.subplots(figsize=(6, 4))\n",
    "ax.axis('off')\n",
    "ax.table(cellText=df_tempo_medio_2.values, colLabels=df_tempo_medio_2.columns, cellLoc='center', loc='center')\n",
    "\n",
    "# Salvar como imagem\n",
    "plt.savefig(path+'data_tempo.png', bbox_inches='tight')"
   ]
  },
  {
   "cell_type": "code",
   "execution_count": 43,
   "id": "fea30c76",
   "metadata": {},
   "outputs": [],
   "source": [
    "df_tempo_medio[\"Tempo para Exec. Dias\"] = df_tempo_medio[\"Tempo para Exec. Dias\"].round(2)"
   ]
  },
  {
   "cell_type": "code",
   "execution_count": 44,
   "id": "fbb7e776",
   "metadata": {
    "scrolled": true
   },
   "outputs": [
    {
     "data": {
      "image/png": "[encoded data removed]",
      "text/plain": [
       "<Figure size 1000x200 with 1 Axes>"
      ]
     },
     "metadata": {},
     "output_type": "display_data"
    }
   ],
   "source": [
    "fig, ax = plt.subplots(figsize = ( 10 , 2 ))\n",
    "sns.lineplot(df_tempo_medio, ax = ax, legend = False, palette = 'deep')\n",
    "plt.xticks(rotation = 60)\n",
    "ax.set_xlabel(\"Meses\")\n",
    "ax.set_ylabel(\"Tempo médio de execução\")\n",
    "ax.set_title(\"Tempo médio de execução dos apontamentos ao longo do tempo\")\n",
    "sns.set_style('whitegrid')\n",
    "for i in ax1.containers:\n",
    "    ax1.bar_label(i, label_type='edge')\n",
    "plt.savefig(path+'tempo_exe_apontamentos.png', dpi=300, bbox_inches='tight')"
   ]
  },
  {
   "cell_type": "code",
   "execution_count": 45,
   "id": "a551de58",
   "metadata": {},
   "outputs": [
    {
     "name": "stdout",
     "output_type": "stream",
     "text": [
      "17\n",
      "75\n",
      "67\n",
      "66\n",
      "111\n",
      "164\n",
      "210\n",
      "388\n"
     ]
    }
   ],
   "source": [
    "qtd = {}\n",
    "for i in df_tempo_medio.index:\n",
    "    a = i.split('/')[0] \n",
    "    m = i.split('/')[1]\n",
    "    reportings = Reporting.objects.filter(\n",
    "        created_at__year = a, \n",
    "        created_at__month = m, \n",
    "        company__name__in = company\n",
    "    ).exclude(\n",
    "        occurrence_type__occurrence_kind='2'\n",
    "    ).exclude(\n",
    "        created_by__username='rlcs'\n",
    "    ).exclude(\n",
    "        created_by__username='cartcs'\n",
    "    ).only(\n",
    "        'form_data', \n",
    "        'occurrence_type'\n",
    "    ).select_related('occurrence_type')\n",
    "    if not qtd.get(i):\n",
    "        print(reportings.count())\n",
    "        qtd[i] = reportings.count()"
   ]
  },
  {
   "cell_type": "code",
   "execution_count": 46,
   "id": "9061f89d",
   "metadata": {},
   "outputs": [
    {
     "data": {
      "text/plain": [
       "{'2023/01': 17,\n",
       " '2023/02': 75,\n",
       " '2023/03': 67,\n",
       " '2023/04': 66,\n",
       " '2023/05': 111,\n",
       " '2023/06': 164,\n",
       " '2023/07': 210,\n",
       " '2023/08': 388}"
      ]
     },
     "execution_count": 46,
     "metadata": {},
     "output_type": "execute_result"
    }
   ],
   "source": [
    "qtd"
   ]
  },
  {
   "cell_type": "code",
   "execution_count": 47,
   "id": "d5b729f1",
   "metadata": {},
   "outputs": [],
   "source": [
    "df_qtd = pd.DataFrame(data = qtd.values(), index = qtd.keys(), columns = ['Qtd. apontamentos'])"
   ]
  },
  {
   "cell_type": "code",
   "execution_count": 48,
   "id": "c3bd0951",
   "metadata": {},
   "outputs": [
    {
     "data": {
      "image/png": "[encoded data removed]",
      "text/plain": [
       "<Figure size 600x400 with 1 Axes>"
      ]
     },
     "metadata": {},
     "output_type": "display_data"
    }
   ],
   "source": [
    "df_qtd_2 = df_qtd.reset_index()\n",
    "df_qtd_2.rename(columns={'index': 'Data'}, inplace = True)\n",
    "fig, ax = plt.subplots(figsize=(6, 4))\n",
    "ax.axis('off')\n",
    "ax.table(cellText=df_qtd_2.values, colLabels=df_qtd_2.columns, cellLoc='center', loc='center')\n",
    "\n",
    "# Salvar como imagem\n",
    "plt.savefig(path+'data_qtd.png', bbox_inches='tight')"
   ]
  },
  {
   "cell_type": "code",
   "execution_count": 49,
   "id": "58663da6",
   "metadata": {},
   "outputs": [
    {
     "data": {
      "image/png": "[encoded data removed]",
      "text/plain": [
       "<Figure size 900x700 with 1 Axes>"
      ]
     },
     "metadata": {},
     "output_type": "display_data"
    }
   ],
   "source": [
    "fig, ax = plt.subplots()\n",
    "\n",
    "ax.figure.set_size_inches(9,7)\n",
    "ax.set_title('Quantidade de apontamentos criados ao longo do tempo')\n",
    "ax.set_ylabel('Quantidade de apontamentos')\n",
    "ax.set_xlabel('Meses')\n",
    "#bar_labels= months_number\n",
    "plt.xticks(rotation = 60)\n",
    "for i,a in enumerate(df_qtd[\"Qtd. apontamentos\"]):\n",
    "    ax.bar(df_qtd.index[i], df_qtd[\"Qtd. apontamentos\"][i])\n",
    "\n",
    "\n",
    "for rect, label in zip(ax.patches, df_qtd.index):\n",
    "    plt.annotate(format(rect.get_height(), '.0f'),\n",
    "                   (rect.get_x() + rect.get_width() / 2,\n",
    "                    rect.get_height()), ha='center', va='center',\n",
    "                   size=10, xytext=(0, 8),\n",
    "                   textcoords='offset points')\n",
    "plt.savefig(path+'qtd_apontamentos.png', dpi=300, bbox_inches='tight')"
   ]
  },
  {
   "cell_type": "code",
   "execution_count": 50,
   "id": "acf79557",
   "metadata": {},
   "outputs": [],
   "source": [
    "ano = set()\n",
    "mes = []\n",
    "for i in df_qtd.index:\n",
    "    mes.append(i.split('/')[1])\n",
    "    ano.add(i.split('/')[0])"
   ]
  },
  {
   "cell_type": "code",
   "execution_count": 51,
   "id": "5927c4d8",
   "metadata": {},
   "outputs": [
    {
     "data": {
      "text/plain": [
       "{'2023'}"
      ]
     },
     "execution_count": 51,
     "metadata": {},
     "output_type": "execute_result"
    }
   ],
   "source": [
    "ano"
   ]
  },
  {
   "cell_type": "code",
   "execution_count": 52,
   "id": "c70cbcae",
   "metadata": {},
   "outputs": [
    {
     "data": {
      "text/plain": [
       "['01', '02', '03', '04', '05', '06', '07', '08']"
      ]
     },
     "execution_count": 52,
     "metadata": {},
     "output_type": "execute_result"
    }
   ],
   "source": [
    "mes"
   ]
  },
  {
   "cell_type": "code",
   "execution_count": 53,
   "id": "2a71b9b7",
   "metadata": {},
   "outputs": [],
   "source": [
    "def quantitativos_v2(df,company):\n",
    "    sem_qtt =[]\n",
    "    for i in df_qtd.index:\n",
    "        a = i.split('/')[0] \n",
    "        m = i.split('/')[1]\n",
    "        com_qtt = 0\n",
    "        apontamentos_totais = 0\n",
    "        for occ in OccurrenceType.objects.filter(\n",
    "            company = road_company,\n",
    "        ).exclude(\n",
    "            occurrence_kind='2'\n",
    "        ):\n",
    "            autofill_keys = []\n",
    "            autofill_keys = [\n",
    "                field[\"apiName\"] for field in occ.form_fields[\"fields\"] if \"autofill\" in field.keys()\n",
    "            ]\n",
    "            size_occ=len(autofill_keys)            \n",
    "            reportings = Reporting.objects.filter(\n",
    "                occurrence_type = occ,\n",
    "                created_at__year = a,\n",
    "                created_at__month = m, \n",
    "                company__name__in = company\n",
    "            ).exclude(\n",
    "                occurrence_type__occurrence_kind='2'\n",
    "            ).exclude(\n",
    "                created_by__username='rlcs'\n",
    "            ).exclude(\n",
    "                created_by__username='cartcs'\n",
    "            ).only(\n",
    "                'form_data',\n",
    "                'occurrence_type'\n",
    "            ).prefetch_related('occurrence_type')\n",
    "            reportings_keys=[len(a.keys()) for a in list(reportings.values_list('form_data', flat=True))]            \n",
    "            com_qtt += len([a for a in reportings_keys if a > size_occ])\n",
    "            apontamentos_totais += reportings.count()\n",
    "        sem_qtt.append((apontamentos_totais - com_qtt)/apontamentos_totais if apontamentos_totais != 0 else 0)\n",
    "    return sem_qtt"
   ]
  },
  {
   "cell_type": "code",
   "execution_count": 54,
   "id": "2be1925a",
   "metadata": {},
   "outputs": [],
   "source": [
    "qtt = quantitativos_v2(df_qtd,company)"
   ]
  },
  {
   "cell_type": "code",
   "execution_count": 55,
   "id": "195745c6",
   "metadata": {},
   "outputs": [
    {
     "data": {
      "text/plain": [
       "[1.0,\n",
       " 0.9733333333333334,\n",
       " 1.0,\n",
       " 1.0,\n",
       " 0.9009009009009009,\n",
       " 1.0,\n",
       " 0.8666666666666667,\n",
       " 0.42010309278350516]"
      ]
     },
     "execution_count": 55,
     "metadata": {},
     "output_type": "execute_result"
    }
   ],
   "source": [
    "qtt"
   ]
  },
  {
   "cell_type": "code",
   "execution_count": 56,
   "id": "02f42f99",
   "metadata": {},
   "outputs": [
    {
     "data": {
      "image/png": "[encoded data removed]",
      "text/plain": [
       "<Figure size 900x700 with 1 Axes>"
      ]
     },
     "metadata": {},
     "output_type": "display_data"
    }
   ],
   "source": [
    "fig, ax = plt.subplots()\n",
    "\n",
    "ax.figure.set_size_inches(9,7)\n",
    "ax.set_title('Apontamentos sem quantitativos')\n",
    "ax.set_ylabel('Quantidade de apontamentos sem quantitativos')\n",
    "ax.set_xlabel('Meses')\n",
    "#bar_labels= months_number\n",
    "plt.xticks(rotation = 60)\n",
    "for i,a in enumerate(qtt):\n",
    "    ax.bar(df_qtd.index[i], qtt[i])\n",
    "\n",
    "\n",
    "for rect, label in zip(ax.patches, df_qtd.index):\n",
    "    plt.annotate(format(rect.get_height(), '.2%'),\n",
    "                   (rect.get_x() + rect.get_width() / 2,\n",
    "                    rect.get_height()), ha='center', va='center',\n",
    "                   size=10, xytext=(0, 8),\n",
    "                   textcoords='offset points')\n",
    "plt.savefig(path+'sem_qtt.png', dpi=300, bbox_inches='tight')"
   ]
  },
  {
   "cell_type": "code",
   "execution_count": 57,
   "id": "503dfe46",
   "metadata": {},
   "outputs": [],
   "source": [
    "def dias_de_uso_v2(df, company):\n",
    "    \n",
    "    qtd_dias = []\n",
    "    dias = {1: 31, 2:28, 3:31, 4:30, 5:31, 6:30, 7:31, 8:31,9: 30, 10:31, 11:30, 12:31}\n",
    "    \n",
    "    for index, i in enumerate(df_qtd.index):\n",
    "        a = i.split('/')[0] \n",
    "        m = i.split('/')[1]\n",
    "        q = []\n",
    "        for n in range(1, dias[int(m)]):\n",
    "            q.append(\n",
    "                Reporting.objects.filter(\n",
    "                    company__name__in = company, \n",
    "                    created_at__year=a, \n",
    "                    created_at__month = m,\n",
    "                    created_at__day=n\n",
    "                ).exclude(\n",
    "                    occurrence_type__occurrence_kind='2'\n",
    "                ).exclude(\n",
    "                    created_by__username='rlcs'\n",
    "                ).exclude(\n",
    "                    created_by__username='neoviacs'\n",
    "                ).exclude(\n",
    "                    created_by__username='arteriscs'\n",
    "                ).only('uuid').count()\n",
    "            )\n",
    "        qtd_dias.append(q)\n",
    "    \n",
    "    quantidade = []\n",
    "    porcen_dias= []\n",
    "    for qtd in qtd_dias:\n",
    "        quantidade.append(len([x for x in qtd if x != 0]))\n",
    "\n",
    "    for index, i in enumerate(df_qtd.index):\n",
    "        m = i.split('/')[1]\n",
    "        b = quantidade[index]/dias[int(m)]\n",
    "        porcen_dias.append(round(b*100,2))\n",
    "    return porcen_dias"
   ]
  },
  {
   "cell_type": "code",
   "execution_count": 58,
   "id": "baf77499",
   "metadata": {},
   "outputs": [],
   "source": [
    "d = dias_de_uso_v2(df_qtd,company)"
   ]
  },
  {
   "cell_type": "code",
   "execution_count": 59,
   "id": "c67f2a07",
   "metadata": {},
   "outputs": [],
   "source": [
    "dias_de_uso = pd.DataFrame(zip(df_qtd.index, d), columns = ['Data', 'Porcentagem uso do sistema' ])"
   ]
  },
  {
   "cell_type": "code",
   "execution_count": 60,
   "id": "fba07b64",
   "metadata": {},
   "outputs": [
    {
     "data": {
      "image/png": "[encoded data removed]",
      "text/plain": [
       "<Figure size 600x800 with 1 Axes>"
      ]
     },
     "metadata": {},
     "output_type": "display_data"
    }
   ],
   "source": [
    "fig, ax = plt.subplots(figsize=(6, 8))\n",
    "ax.axis('off')\n",
    "ax.table(cellText=dias_de_uso.values, colLabels=dias_de_uso.columns, cellLoc='center', loc='center')\n",
    "\n",
    "# Salvar como imagem\n",
    "plt.savefig(path+'data_uso.png', bbox_inches='tight')"
   ]
  },
  {
   "cell_type": "code",
   "execution_count": 61,
   "id": "ed4f9d26",
   "metadata": {},
   "outputs": [
    {
     "data": {
      "image/png": "[encoded data removed]",
      "text/plain": [
       "<Figure size 1100x700 with 1 Axes>"
      ]
     },
     "metadata": {},
     "output_type": "display_data"
    }
   ],
   "source": [
    "fig, ax = plt.subplots()\n",
    "\n",
    "ax.figure.set_size_inches(11,7)\n",
    "ax.set_title('Porcentagem de dias que usaram o sistema')\n",
    "ax.set_ylabel('Porcentagem de dias que usaram o sistema')\n",
    "ax.set_xlabel('Meses')\n",
    "plt.xticks(rotation = 60)\n",
    "\n",
    "for i,a in enumerate(d):\n",
    "    ax.bar(df_qtd.index[i], d[i])\n",
    "\n",
    "for rect, label in zip(ax.patches, df_qtd.index):\n",
    "    plt.annotate(format(rect.get_height(), '.2f'),\n",
    "                   (rect.get_x() + rect.get_width() / 2,\n",
    "                    rect.get_height()), ha='center', va='center',\n",
    "                   size=10, xytext=(0, 8),\n",
    "                   textcoords='offset points')\n",
    "\n",
    "plt.savefig(path+'uso_sistema.png', dpi=300, bbox_inches='tight')"
   ]
  },
  {
   "cell_type": "code",
   "execution_count": 62,
   "id": "8546689f",
   "metadata": {},
   "outputs": [],
   "source": [
    "def equipes_ativas_v2(df, company):\n",
    "    team_name = list(\n",
    "        Firm.objects.filter(\n",
    "            company_id = road_company.uuid\n",
    "        ).values_list(\n",
    "            'name', flat=True\n",
    "        )\n",
    "    )\n",
    "    porcen = []\n",
    "    for index, i in enumerate(df_qtd.index):\n",
    "        a = i.split('/')[0] \n",
    "        m = i.split('/')[1]\n",
    "    \n",
    "        equipes=[]\n",
    "        for team in team_name:\n",
    "            equipes.append(\n",
    "                Reporting.objects.filter(\n",
    "                    company__name__in = company, \n",
    "                    created_at__year=a, \n",
    "                    created_at__month= m,\n",
    "                    firm__name = team\n",
    "                ).exclude(\n",
    "                    occurrence_type__occurrence_kind='2'\n",
    "                ).exclude(\n",
    "                    created_by__username='rlcs'\n",
    "                ).exclude(\n",
    "                    created_by__username='neoviacs'\n",
    "                ).exclude(\n",
    "                    created_by__username='arteriscs'\n",
    "                ).only('uuid').count()\n",
    "            )\n",
    "\n",
    "        \n",
    "        firm_moves=[]\n",
    "        objects=['Reporting', 'Job']\n",
    "        for firm in team_name:\n",
    "            num_moves = 0\n",
    "            for item in objects:\n",
    "                num_moves+=eval(item).history.filter(\n",
    "                    history_date__year=a, \n",
    "                    history_date__month=m, \n",
    "                    company__name__in= company,\n",
    "                    firm__name=firm\n",
    "                ).only('uuid').count()\n",
    "            firm_moves.append((num_moves, firm))\n",
    "\n",
    "        firm_moves.sort(key=lambda tup: tup[0], reverse=True)\n",
    "        active_firms=len([firm for firm in firm_moves if firm[0]>0])\n",
    "        porcen.append(round(active_firms*100/len(firm_moves),2) if len(firm_moves) != 0 else 0)\n",
    "    \n",
    "    return porcen"
   ]
  },
  {
   "cell_type": "code",
   "execution_count": 63,
   "id": "7a13811e",
   "metadata": {},
   "outputs": [],
   "source": [
    "e = equipes_ativas_v2(df_qtd, company)"
   ]
  },
  {
   "cell_type": "code",
   "execution_count": 64,
   "id": "1b9d3939",
   "metadata": {},
   "outputs": [],
   "source": [
    "dias_de_uso = pd.DataFrame(zip(df_qtd.index, e), columns = ['Data', 'Porcentagem de equipes ativas' ])"
   ]
  },
  {
   "cell_type": "code",
   "execution_count": 65,
   "id": "f016b337",
   "metadata": {},
   "outputs": [
    {
     "data": {
      "image/png": "[encoded data removed]",
      "text/plain": [
       "<Figure size 600x400 with 1 Axes>"
      ]
     },
     "metadata": {},
     "output_type": "display_data"
    }
   ],
   "source": [
    "fig, ax = plt.subplots(figsize=(6, 4))\n",
    "ax.axis('off')\n",
    "ax.table(cellText=dias_de_uso.values, colLabels=dias_de_uso.columns, cellLoc='center', loc='center')\n",
    "\n",
    "# Salvar como imagem\n",
    "plt.savefig(path+'data_equipes.png', bbox_inches='tight')"
   ]
  },
  {
   "cell_type": "code",
   "execution_count": 66,
   "id": "f081eec4",
   "metadata": {},
   "outputs": [
    {
     "data": {
      "image/png": "[encoded data removed]",
      "text/plain": [
       "<Figure size 900x700 with 1 Axes>"
      ]
     },
     "metadata": {},
     "output_type": "display_data"
    }
   ],
   "source": [
    "fig, ax = plt.subplots()\n",
    "\n",
    "ax.figure.set_size_inches(9,7)\n",
    "ax.set_title('Porcentagem de equipes ativas')\n",
    "ax.set_ylabel('Porcentagem de equipes ativas')\n",
    "ax.set_xlabel('Meses')\n",
    "plt.xticks(rotation = 60)\n",
    "\n",
    "for i,a in enumerate(d):\n",
    "    ax.bar(df_qtd.index[i], e[i])\n",
    "\n",
    "for rect, label in zip(ax.patches, df_qtd.index):\n",
    "    plt.annotate(format(rect.get_height(), '.2f'),\n",
    "                   (rect.get_x() + rect.get_width() / 2,\n",
    "                    rect.get_height()), ha='center', va='center',\n",
    "                   size=10, xytext=(0, 8),\n",
    "                   textcoords='offset points')\n",
    "\n",
    "plt.savefig(path+'equipes_ativas.png', dpi=300, bbox_inches='tight')"
   ]
  },
  {
   "cell_type": "code",
   "execution_count": 67,
   "id": "6e8a60c6",
   "metadata": {},
   "outputs": [],
   "source": [
    "def variacao(months):\n",
    "    taxa_variacao = []\n",
    "    for i,m in enumerate(months):\n",
    "        y = months[i]\n",
    "        b = months\n",
    "        c = b.index(y) \n",
    "        if c == 0:\n",
    "            taxa_variacao.append(0)\n",
    "        if y > b[c-1] and c != 0:\n",
    "            m = round(((y-b[c-1])/y)*100,2)\n",
    "            taxa_variacao.append(m)\n",
    "        if y == b[c-1] and c != 0:\n",
    "            i = y*0\n",
    "            taxa_variacao.append(i)\n",
    "        if y < b[c-1] and c!= 0 :\n",
    "            n = round(((y -b[c-1])/b[c-1])*100, 2)\n",
    "            taxa_variacao.append(n)\n",
    "    return taxa_variacao"
   ]
  },
  {
   "cell_type": "code",
   "execution_count": 68,
   "id": "10864ab4",
   "metadata": {},
   "outputs": [
    {
     "data": {
      "text/plain": [
       "Index(['2023/01', '2023/02', '2023/03', '2023/04', '2023/05', '2023/06',\n",
       "       '2023/07', '2023/08'],\n",
       "      dtype='object')"
      ]
     },
     "execution_count": 68,
     "metadata": {},
     "output_type": "execute_result"
    }
   ],
   "source": [
    "df_qtd.index"
   ]
  },
  {
   "cell_type": "code",
   "execution_count": 69,
   "id": "d01abd55",
   "metadata": {},
   "outputs": [],
   "source": [
    "months=[]\n",
    "for index, i in enumerate(df_qtd.index):\n",
    "    a = i.split('/')[0] \n",
    "    m = i.split('/')[1]\n",
    "    months.append(Reporting.objects.filter(company__name__in = company, created_at__year=a, created_at__month=m).exclude(occurrence_type__occurrence_kind='2').exclude(created_by__username='rlcs').exclude(created_by__username='neoviacs').exclude(created_by__username='arteriscs').only('uuid').count())"
   ]
  },
  {
   "cell_type": "code",
   "execution_count": 70,
   "id": "11ba06e0",
   "metadata": {},
   "outputs": [
    {
     "data": {
      "text/plain": [
       "[17, 75, 67, 66, 111, 164, 210, 388]"
      ]
     },
     "execution_count": 70,
     "metadata": {},
     "output_type": "execute_result"
    }
   ],
   "source": [
    "months"
   ]
  },
  {
   "cell_type": "code",
   "execution_count": 71,
   "id": "15569a7a",
   "metadata": {},
   "outputs": [],
   "source": [
    "v = variacao(months)[1:]"
   ]
  },
  {
   "cell_type": "code",
   "execution_count": 72,
   "id": "e9f8a4d6",
   "metadata": {},
   "outputs": [
    {
     "data": {
      "text/plain": [
       "[77.33, -10.67, -1.49, 40.54, 32.32, 21.9, 45.88]"
      ]
     },
     "execution_count": 72,
     "metadata": {},
     "output_type": "execute_result"
    }
   ],
   "source": [
    "v"
   ]
  },
  {
   "cell_type": "code",
   "execution_count": 73,
   "id": "da0adc5d",
   "metadata": {},
   "outputs": [],
   "source": [
    "df_qtd['Taxa de variacao'] = variacao(months)"
   ]
  },
  {
   "cell_type": "code",
   "execution_count": 74,
   "id": "4e56a382",
   "metadata": {},
   "outputs": [
    {
     "data": {
      "image/png": "[encoded data removed]",
      "text/plain": [
       "<Figure size 600x400 with 1 Axes>"
      ]
     },
     "metadata": {},
     "output_type": "display_data"
    }
   ],
   "source": [
    "df_taxa = df_qtd.reset_index()\n",
    "df_taxa.rename(columns={'index': 'Data'}, inplace = True)\n",
    "fig, ax = plt.subplots(figsize=(6, 4))\n",
    "ax.axis('off')\n",
    "ax.table(cellText=df_taxa.values, colLabels=df_taxa.columns, cellLoc='center', loc='center')\n",
    "\n",
    "# Salvar como imagem\n",
    "plt.savefig(path+'data_variacao.png', bbox_inches='tight')"
   ]
  },
  {
   "cell_type": "code",
   "execution_count": 75,
   "id": "8df1b39c",
   "metadata": {},
   "outputs": [
    {
     "data": {
      "image/png": "[encoded data removed]",
      "text/plain": [
       "<Figure size 640x480 with 1 Axes>"
      ]
     },
     "metadata": {},
     "output_type": "display_data"
    }
   ],
   "source": [
    "x = df_qtd.index\n",
    "y = df_qtd['Taxa de variacao']\n",
    "rotulos = df_qtd['Taxa de variacao']\n",
    "\n",
    "\n",
    "plt.plot(x, y)\n",
    "\n",
    "for i in range(len(x)):\n",
    "    plt.text(x[i], y[i], rotulos[i])\n",
    "\n",
    "plt.xticks(rotation = 60)\n",
    "plt.xlabel('Meses')\n",
    "plt.ylabel('Taxa de variação do número de apontamentos')\n",
    "plt.title('Taxa de variação do número de apontamentos em relação ao mês anterior')\n",
    "\n",
    "\n",
    "\n",
    "plt.savefig(path+'variacao_apontamentos.png', dpi=300, bbox_inches='tight')"
   ]
  },
  {
   "cell_type": "code",
   "execution_count": 76,
   "id": "fe86e92a",
   "metadata": {},
   "outputs": [],
   "source": [
    "team_name = list(Firm.objects.filter(company__name__in = company).values_list('name', flat=True))\n",
    "equipe = {}\n",
    "for index, i in enumerate(df_qtd.index):\n",
    "    a = i.split('/')[0] \n",
    "    m = i.split('/')[1]\n",
    "    for team in team_name:\n",
    "        if not equipe.get(i):\n",
    "            equipe[i] = {}\n",
    "        if not equipe[i].get(team):\n",
    "                equipe[i][team]= Reporting.objects.filter(company__name__in = company, created_at__year=a, created_at__month= m,firm__name = team).exclude(occurrence_type__occurrence_kind='2').exclude(created_by__username='rlcs').exclude(created_by__username='neoviacs').exclude(created_by__username='arteriscs').only('uuid').count()"
   ]
  },
  {
   "cell_type": "code",
   "execution_count": 77,
   "id": "7a1f4e9b",
   "metadata": {},
   "outputs": [],
   "source": [
    "df_equipes = pd.DataFrame(equipe)"
   ]
  },
  {
   "cell_type": "code",
   "execution_count": 78,
   "id": "6afff0a2",
   "metadata": {
    "scrolled": true
   },
   "outputs": [
    {
     "name": "stderr",
     "output_type": "stream",
     "text": [
      "/home/luan/.cache/pypoetry/virtualenvs/apps-ZFymp6kh-py3.7/lib/python3.7/site-packages/ipykernel_launcher.py:6: SettingWithCopyWarning: \n",
      "A value is trying to be set on a copy of a slice from a DataFrame.\n",
      "Try using .loc[row_indexer,col_indexer] = value instead\n",
      "\n",
      "See the caveats in the documentation: https://pandas.pydata.org/pandas-docs/stable/user_guide/indexing.html#returning-a-view-versus-a-copy\n",
      "  \n"
     ]
    }
   ],
   "source": [
    "equipe_top3 = []\n",
    "lista = []\n",
    "for i in df_equipes.columns:\n",
    "    a = df_equipes.nlargest(3, i )\n",
    "    b = a[[i]]\n",
    "    b['mes'] = i\n",
    "    c = a[i]\n",
    "    equipe_top3.append(b)\n",
    "    lista.append(c)\n",
    "    "
   ]
  },
  {
   "cell_type": "code",
   "execution_count": 79,
   "id": "53eeb264",
   "metadata": {},
   "outputs": [],
   "source": [
    "equipe_df = pd.concat(equipe_top3)"
   ]
  },
  {
   "cell_type": "code",
   "execution_count": 80,
   "id": "96f27bc6",
   "metadata": {},
   "outputs": [],
   "source": [
    "equipe_df = equipe_df.set_index(['mes',equipe_df.index])"
   ]
  },
  {
   "cell_type": "code",
   "execution_count": 81,
   "id": "ff00d4a0",
   "metadata": {},
   "outputs": [],
   "source": [
    "equipe_df.index.set_names(['Data', 'Equipe'], inplace = True)"
   ]
  },
  {
   "cell_type": "code",
   "execution_count": 82,
   "id": "99c23c4b",
   "metadata": {},
   "outputs": [],
   "source": [
    "colunas = equipe_df.columns\n",
    "equipe_df['Qtd. apontamentos'] = equipe_df.sum(axis = 1)\n",
    "equipe_df = equipe_df.drop(colunas, axis=1)"
   ]
  },
  {
   "cell_type": "code",
   "execution_count": 83,
   "id": "1058a411",
   "metadata": {
    "scrolled": true
   },
   "outputs": [
    {
     "data": {
      "text/html": [
       "<div>\n",
       "<style scoped>\n",
       "    .dataframe tbody tr th:only-of-type {\n",
       "        vertical-align: middle;\n",
       "    }\n",
       "\n",
       "    .dataframe tbody tr th {\n",
       "        vertical-align: top;\n",
       "    }\n",
       "\n",
       "    .dataframe thead th {\n",
       "        text-align: right;\n",
       "    }\n",
       "</style>\n",
       "<table border=\"1\" class=\"dataframe\">\n",
       "  <thead>\n",
       "    <tr style=\"text-align: right;\">\n",
       "      <th></th>\n",
       "      <th></th>\n",
       "      <th>Qtd. apontamentos</th>\n",
       "    </tr>\n",
       "    <tr>\n",
       "      <th>Data</th>\n",
       "      <th>Equipe</th>\n",
       "      <th></th>\n",
       "    </tr>\n",
       "  </thead>\n",
       "  <tbody>\n",
       "    <tr>\n",
       "      <th rowspan=\"3\" valign=\"top\">2023/01</th>\n",
       "      <th>Sala Técnica</th>\n",
       "      <td>14.0</td>\n",
       "    </tr>\n",
       "    <tr>\n",
       "      <th>CONTRATO 631</th>\n",
       "      <td>3.0</td>\n",
       "    </tr>\n",
       "    <tr>\n",
       "      <th>Manutenção de pontes</th>\n",
       "      <td>0.0</td>\n",
       "    </tr>\n",
       "    <tr>\n",
       "      <th rowspan=\"3\" valign=\"top\">2023/02</th>\n",
       "      <th>CONTRATO 631</th>\n",
       "      <td>55.0</td>\n",
       "    </tr>\n",
       "    <tr>\n",
       "      <th>CONTRATO 207</th>\n",
       "      <td>20.0</td>\n",
       "    </tr>\n",
       "    <tr>\n",
       "      <th>Sala Técnica</th>\n",
       "      <td>0.0</td>\n",
       "    </tr>\n",
       "    <tr>\n",
       "      <th rowspan=\"3\" valign=\"top\">2023/03</th>\n",
       "      <th>CONTRATO 207</th>\n",
       "      <td>30.0</td>\n",
       "    </tr>\n",
       "    <tr>\n",
       "      <th>CONTRATO 631</th>\n",
       "      <td>27.0</td>\n",
       "    </tr>\n",
       "    <tr>\n",
       "      <th>Sala Técnica</th>\n",
       "      <td>10.0</td>\n",
       "    </tr>\n",
       "    <tr>\n",
       "      <th rowspan=\"3\" valign=\"top\">2023/04</th>\n",
       "      <th>Sala Técnica</th>\n",
       "      <td>36.0</td>\n",
       "    </tr>\n",
       "    <tr>\n",
       "      <th>CONTRATO 207</th>\n",
       "      <td>26.0</td>\n",
       "    </tr>\n",
       "    <tr>\n",
       "      <th>Suporte</th>\n",
       "      <td>4.0</td>\n",
       "    </tr>\n",
       "    <tr>\n",
       "      <th rowspan=\"3\" valign=\"top\">2023/05</th>\n",
       "      <th>Sala Técnica</th>\n",
       "      <td>45.0</td>\n",
       "    </tr>\n",
       "    <tr>\n",
       "      <th>CONTRATO 631</th>\n",
       "      <td>41.0</td>\n",
       "    </tr>\n",
       "    <tr>\n",
       "      <th>CONTRATO 207</th>\n",
       "      <td>17.0</td>\n",
       "    </tr>\n",
       "    <tr>\n",
       "      <th rowspan=\"3\" valign=\"top\">2023/06</th>\n",
       "      <th>CONTRATO 631</th>\n",
       "      <td>58.0</td>\n",
       "    </tr>\n",
       "    <tr>\n",
       "      <th>CONTRATO 139</th>\n",
       "      <td>43.0</td>\n",
       "    </tr>\n",
       "    <tr>\n",
       "      <th>Sala Técnica</th>\n",
       "      <td>42.0</td>\n",
       "    </tr>\n",
       "    <tr>\n",
       "      <th rowspan=\"3\" valign=\"top\">2023/07</th>\n",
       "      <th>CONTRATO 139</th>\n",
       "      <td>86.0</td>\n",
       "    </tr>\n",
       "    <tr>\n",
       "      <th>CONTRATO 207</th>\n",
       "      <td>57.0</td>\n",
       "    </tr>\n",
       "    <tr>\n",
       "      <th>CONTRATO 631</th>\n",
       "      <td>46.0</td>\n",
       "    </tr>\n",
       "    <tr>\n",
       "      <th rowspan=\"3\" valign=\"top\">2023/08</th>\n",
       "      <th>CONTRATO 631</th>\n",
       "      <td>139.0</td>\n",
       "    </tr>\n",
       "    <tr>\n",
       "      <th>CONTRATO 207</th>\n",
       "      <td>119.0</td>\n",
       "    </tr>\n",
       "    <tr>\n",
       "      <th>CONTRATO 120</th>\n",
       "      <td>69.0</td>\n",
       "    </tr>\n",
       "  </tbody>\n",
       "</table>\n",
       "</div>"
      ],
      "text/plain": [
       "                              Qtd. apontamentos\n",
       "Data    Equipe                                 \n",
       "2023/01 Sala Técnica                       14.0\n",
       "        CONTRATO 631                        3.0\n",
       "        Manutenção de pontes                0.0\n",
       "2023/02 CONTRATO 631                       55.0\n",
       "        CONTRATO 207                       20.0\n",
       "        Sala Técnica                        0.0\n",
       "2023/03 CONTRATO 207                       30.0\n",
       "        CONTRATO 631                       27.0\n",
       "        Sala Técnica                       10.0\n",
       "2023/04 Sala Técnica                       36.0\n",
       "        CONTRATO 207                       26.0\n",
       "        Suporte                             4.0\n",
       "2023/05 Sala Técnica                       45.0\n",
       "        CONTRATO 631                       41.0\n",
       "        CONTRATO 207                       17.0\n",
       "2023/06 CONTRATO 631                       58.0\n",
       "        CONTRATO 139                       43.0\n",
       "        Sala Técnica                       42.0\n",
       "2023/07 CONTRATO 139                       86.0\n",
       "        CONTRATO 207                       57.0\n",
       "        CONTRATO 631                       46.0\n",
       "2023/08 CONTRATO 631                      139.0\n",
       "        CONTRATO 207                      119.0\n",
       "        CONTRATO 120                       69.0"
      ]
     },
     "execution_count": 83,
     "metadata": {},
     "output_type": "execute_result"
    }
   ],
   "source": [
    "equipe_df"
   ]
  },
  {
   "cell_type": "code",
   "execution_count": 84,
   "id": "cbf814ae",
   "metadata": {
    "scrolled": true
   },
   "outputs": [
    {
     "data": {
      "text/html": [
       "<div>\n",
       "<style scoped>\n",
       "    .dataframe tbody tr th:only-of-type {\n",
       "        vertical-align: middle;\n",
       "    }\n",
       "\n",
       "    .dataframe tbody tr th {\n",
       "        vertical-align: top;\n",
       "    }\n",
       "\n",
       "    .dataframe thead th {\n",
       "        text-align: right;\n",
       "    }\n",
       "</style>\n",
       "<table border=\"1\" class=\"dataframe\">\n",
       "  <thead>\n",
       "    <tr style=\"text-align: right;\">\n",
       "      <th></th>\n",
       "      <th>Encontrado</th>\n",
       "      <th>Executado</th>\n",
       "      <th>Resultado Tempo Exec</th>\n",
       "      <th>Tempo para Exec. Dias</th>\n",
       "      <th>Tempo para Exec. Horas</th>\n",
       "      <th>Natureza</th>\n",
       "      <th>Classe</th>\n",
       "      <th>Data</th>\n",
       "    </tr>\n",
       "  </thead>\n",
       "  <tbody>\n",
       "    <tr>\n",
       "      <th>pavicolet-CON-2023.13598</th>\n",
       "      <td>2023-06-21 19:46:01.722000+00:00</td>\n",
       "      <td>2023-06-21 19:47:17.936000+00:00</td>\n",
       "      <td>0 days 00:01:16.214000</td>\n",
       "      <td>0</td>\n",
       "      <td>0</td>\n",
       "      <td>Conservação</td>\n",
       "      <td>Enrocamento com pedra de mão</td>\n",
       "      <td>2023/06</td>\n",
       "    </tr>\n",
       "    <tr>\n",
       "      <th>pavicolet-CON-2023.13877</th>\n",
       "      <td>2023-07-26 16:16:48.880000+00:00</td>\n",
       "      <td>2023-07-26 16:19:19.048000+00:00</td>\n",
       "      <td>0 days 00:02:30.168000</td>\n",
       "      <td>0</td>\n",
       "      <td>0</td>\n",
       "      <td>Conservação</td>\n",
       "      <td>Desmatamento, destocamento, limpeza de área e ...</td>\n",
       "      <td>2023/07</td>\n",
       "    </tr>\n",
       "    <tr>\n",
       "      <th>pavicolet-CON-2023.13631</th>\n",
       "      <td>2023-06-26 09:50:12.051000+00:00</td>\n",
       "      <td>2023-06-26 09:51:25.131000+00:00</td>\n",
       "      <td>0 days 00:01:13.080000</td>\n",
       "      <td>0</td>\n",
       "      <td>0</td>\n",
       "      <td>Conservação</td>\n",
       "      <td>Recomposição do revestimento primário com mate...</td>\n",
       "      <td>2023/06</td>\n",
       "    </tr>\n",
       "    <tr>\n",
       "      <th>pavicolet-CON-2023.13373</th>\n",
       "      <td>2023-04-18 12:23:17.899000+00:00</td>\n",
       "      <td>2023-04-18 12:25:23.706000+00:00</td>\n",
       "      <td>0 days 00:02:05.807000</td>\n",
       "      <td>0</td>\n",
       "      <td>0</td>\n",
       "      <td>Conservação</td>\n",
       "      <td>Compactação de aterros a 100% do Proctor Normal</td>\n",
       "      <td>2023/04</td>\n",
       "    </tr>\n",
       "    <tr>\n",
       "      <th>pavicolet-CON-2023.14051</th>\n",
       "      <td>2023-08-03 18:51:44.091000+00:00</td>\n",
       "      <td>2023-08-03 18:52:36.092000+00:00</td>\n",
       "      <td>0 days 00:00:52.001000</td>\n",
       "      <td>0</td>\n",
       "      <td>0</td>\n",
       "      <td>Conservação</td>\n",
       "      <td>Recomposição do revestimento primário com mate...</td>\n",
       "      <td>2023/08</td>\n",
       "    </tr>\n",
       "    <tr>\n",
       "      <th>...</th>\n",
       "      <td>...</td>\n",
       "      <td>...</td>\n",
       "      <td>...</td>\n",
       "      <td>...</td>\n",
       "      <td>...</td>\n",
       "      <td>...</td>\n",
       "      <td>...</td>\n",
       "      <td>...</td>\n",
       "    </tr>\n",
       "    <tr>\n",
       "      <th>pavicolet-CON-2023.14587</th>\n",
       "      <td>2023-08-25 12:54:27.079000+00:00</td>\n",
       "      <td>2023-08-25 12:56:11.553000+00:00</td>\n",
       "      <td>0 days 00:01:44.474000</td>\n",
       "      <td>0</td>\n",
       "      <td>0</td>\n",
       "      <td>Conservação</td>\n",
       "      <td>Recomposição do revestimento primário com mate...</td>\n",
       "      <td>2023/08</td>\n",
       "    </tr>\n",
       "    <tr>\n",
       "      <th>pavicolet-CON-2023.14576</th>\n",
       "      <td>2023-08-23 16:16:09.553000+00:00</td>\n",
       "      <td>2023-08-23 16:16:51.475000+00:00</td>\n",
       "      <td>0 days 00:00:41.922000</td>\n",
       "      <td>0</td>\n",
       "      <td>0</td>\n",
       "      <td>Conservação</td>\n",
       "      <td>Recomposição do revestimento primário com mate...</td>\n",
       "      <td>2023/08</td>\n",
       "    </tr>\n",
       "    <tr>\n",
       "      <th>pavicolet-CON-2023.14568</th>\n",
       "      <td>2023-08-22 11:53:44.968000+00:00</td>\n",
       "      <td>2023-08-22 11:54:35.990000+00:00</td>\n",
       "      <td>0 days 00:00:51.022000</td>\n",
       "      <td>0</td>\n",
       "      <td>0</td>\n",
       "      <td>Conservação</td>\n",
       "      <td>Recomposição do revestimento primário com mate...</td>\n",
       "      <td>2023/08</td>\n",
       "    </tr>\n",
       "    <tr>\n",
       "      <th>pavicolet-CON-2023.14586</th>\n",
       "      <td>2023-08-24 10:11:36.225000+00:00</td>\n",
       "      <td>2023-08-24 10:11:50.467000+00:00</td>\n",
       "      <td>0 days 00:00:14.242000</td>\n",
       "      <td>0</td>\n",
       "      <td>0</td>\n",
       "      <td>Conservação</td>\n",
       "      <td>Recomposição do revestimento primário com mate...</td>\n",
       "      <td>2023/08</td>\n",
       "    </tr>\n",
       "    <tr>\n",
       "      <th>pavicolet-CON-2023.14044</th>\n",
       "      <td>2023-08-02 12:37:01.408000+00:00</td>\n",
       "      <td>2023-08-02 12:37:43.752000+00:00</td>\n",
       "      <td>0 days 00:00:42.344000</td>\n",
       "      <td>0</td>\n",
       "      <td>0</td>\n",
       "      <td>Conservação</td>\n",
       "      <td>Recomposição do revestimento primário com mate...</td>\n",
       "      <td>2023/08</td>\n",
       "    </tr>\n",
       "  </tbody>\n",
       "</table>\n",
       "<p>808 rows × 8 columns</p>\n",
       "</div>"
      ],
      "text/plain": [
       "                                               Encontrado  \\\n",
       "pavicolet-CON-2023.13598 2023-06-21 19:46:01.722000+00:00   \n",
       "pavicolet-CON-2023.13877 2023-07-26 16:16:48.880000+00:00   \n",
       "pavicolet-CON-2023.13631 2023-06-26 09:50:12.051000+00:00   \n",
       "pavicolet-CON-2023.13373 2023-04-18 12:23:17.899000+00:00   \n",
       "pavicolet-CON-2023.14051 2023-08-03 18:51:44.091000+00:00   \n",
       "...                                                   ...   \n",
       "pavicolet-CON-2023.14587 2023-08-25 12:54:27.079000+00:00   \n",
       "pavicolet-CON-2023.14576 2023-08-23 16:16:09.553000+00:00   \n",
       "pavicolet-CON-2023.14568 2023-08-22 11:53:44.968000+00:00   \n",
       "pavicolet-CON-2023.14586 2023-08-24 10:11:36.225000+00:00   \n",
       "pavicolet-CON-2023.14044 2023-08-02 12:37:01.408000+00:00   \n",
       "\n",
       "                                                Executado  \\\n",
       "pavicolet-CON-2023.13598 2023-06-21 19:47:17.936000+00:00   \n",
       "pavicolet-CON-2023.13877 2023-07-26 16:19:19.048000+00:00   \n",
       "pavicolet-CON-2023.13631 2023-06-26 09:51:25.131000+00:00   \n",
       "pavicolet-CON-2023.13373 2023-04-18 12:25:23.706000+00:00   \n",
       "pavicolet-CON-2023.14051 2023-08-03 18:52:36.092000+00:00   \n",
       "...                                                   ...   \n",
       "pavicolet-CON-2023.14587 2023-08-25 12:56:11.553000+00:00   \n",
       "pavicolet-CON-2023.14576 2023-08-23 16:16:51.475000+00:00   \n",
       "pavicolet-CON-2023.14568 2023-08-22 11:54:35.990000+00:00   \n",
       "pavicolet-CON-2023.14586 2023-08-24 10:11:50.467000+00:00   \n",
       "pavicolet-CON-2023.14044 2023-08-02 12:37:43.752000+00:00   \n",
       "\n",
       "                           Resultado Tempo Exec  Tempo para Exec. Dias  \\\n",
       "pavicolet-CON-2023.13598 0 days 00:01:16.214000                      0   \n",
       "pavicolet-CON-2023.13877 0 days 00:02:30.168000                      0   \n",
       "pavicolet-CON-2023.13631 0 days 00:01:13.080000                      0   \n",
       "pavicolet-CON-2023.13373 0 days 00:02:05.807000                      0   \n",
       "pavicolet-CON-2023.14051 0 days 00:00:52.001000                      0   \n",
       "...                                         ...                    ...   \n",
       "pavicolet-CON-2023.14587 0 days 00:01:44.474000                      0   \n",
       "pavicolet-CON-2023.14576 0 days 00:00:41.922000                      0   \n",
       "pavicolet-CON-2023.14568 0 days 00:00:51.022000                      0   \n",
       "pavicolet-CON-2023.14586 0 days 00:00:14.242000                      0   \n",
       "pavicolet-CON-2023.14044 0 days 00:00:42.344000                      0   \n",
       "\n",
       "                          Tempo para Exec. Horas     Natureza  \\\n",
       "pavicolet-CON-2023.13598                       0  Conservação   \n",
       "pavicolet-CON-2023.13877                       0  Conservação   \n",
       "pavicolet-CON-2023.13631                       0  Conservação   \n",
       "pavicolet-CON-2023.13373                       0  Conservação   \n",
       "pavicolet-CON-2023.14051                       0  Conservação   \n",
       "...                                          ...          ...   \n",
       "pavicolet-CON-2023.14587                       0  Conservação   \n",
       "pavicolet-CON-2023.14576                       0  Conservação   \n",
       "pavicolet-CON-2023.14568                       0  Conservação   \n",
       "pavicolet-CON-2023.14586                       0  Conservação   \n",
       "pavicolet-CON-2023.14044                       0  Conservação   \n",
       "\n",
       "                                                                     Classe  \\\n",
       "pavicolet-CON-2023.13598                       Enrocamento com pedra de mão   \n",
       "pavicolet-CON-2023.13877  Desmatamento, destocamento, limpeza de área e ...   \n",
       "pavicolet-CON-2023.13631  Recomposição do revestimento primário com mate...   \n",
       "pavicolet-CON-2023.13373    Compactação de aterros a 100% do Proctor Normal   \n",
       "pavicolet-CON-2023.14051  Recomposição do revestimento primário com mate...   \n",
       "...                                                                     ...   \n",
       "pavicolet-CON-2023.14587  Recomposição do revestimento primário com mate...   \n",
       "pavicolet-CON-2023.14576  Recomposição do revestimento primário com mate...   \n",
       "pavicolet-CON-2023.14568  Recomposição do revestimento primário com mate...   \n",
       "pavicolet-CON-2023.14586  Recomposição do revestimento primário com mate...   \n",
       "pavicolet-CON-2023.14044  Recomposição do revestimento primário com mate...   \n",
       "\n",
       "                             Data  \n",
       "pavicolet-CON-2023.13598  2023/06  \n",
       "pavicolet-CON-2023.13877  2023/07  \n",
       "pavicolet-CON-2023.13631  2023/06  \n",
       "pavicolet-CON-2023.13373  2023/04  \n",
       "pavicolet-CON-2023.14051  2023/08  \n",
       "...                           ...  \n",
       "pavicolet-CON-2023.14587  2023/08  \n",
       "pavicolet-CON-2023.14576  2023/08  \n",
       "pavicolet-CON-2023.14568  2023/08  \n",
       "pavicolet-CON-2023.14586  2023/08  \n",
       "pavicolet-CON-2023.14044  2023/08  \n",
       "\n",
       "[808 rows x 8 columns]"
      ]
     },
     "execution_count": 84,
     "metadata": {},
     "output_type": "execute_result"
    }
   ],
   "source": [
    "df"
   ]
  },
  {
   "cell_type": "code",
   "execution_count": 85,
   "id": "737001d3",
   "metadata": {},
   "outputs": [],
   "source": [
    "ranking_natureza = df[['Data','Natureza']]"
   ]
  },
  {
   "cell_type": "code",
   "execution_count": 86,
   "id": "1305d263",
   "metadata": {},
   "outputs": [
    {
     "data": {
      "text/html": [
       "<div>\n",
       "<style scoped>\n",
       "    .dataframe tbody tr th:only-of-type {\n",
       "        vertical-align: middle;\n",
       "    }\n",
       "\n",
       "    .dataframe tbody tr th {\n",
       "        vertical-align: top;\n",
       "    }\n",
       "\n",
       "    .dataframe thead th {\n",
       "        text-align: right;\n",
       "    }\n",
       "</style>\n",
       "<table border=\"1\" class=\"dataframe\">\n",
       "  <thead>\n",
       "    <tr style=\"text-align: right;\">\n",
       "      <th></th>\n",
       "      <th>Data</th>\n",
       "      <th>Natureza</th>\n",
       "    </tr>\n",
       "  </thead>\n",
       "  <tbody>\n",
       "    <tr>\n",
       "      <th>pavicolet-CON-2023.13598</th>\n",
       "      <td>2023/06</td>\n",
       "      <td>Conservação</td>\n",
       "    </tr>\n",
       "    <tr>\n",
       "      <th>pavicolet-CON-2023.13877</th>\n",
       "      <td>2023/07</td>\n",
       "      <td>Conservação</td>\n",
       "    </tr>\n",
       "    <tr>\n",
       "      <th>pavicolet-CON-2023.13631</th>\n",
       "      <td>2023/06</td>\n",
       "      <td>Conservação</td>\n",
       "    </tr>\n",
       "    <tr>\n",
       "      <th>pavicolet-CON-2023.13373</th>\n",
       "      <td>2023/04</td>\n",
       "      <td>Conservação</td>\n",
       "    </tr>\n",
       "    <tr>\n",
       "      <th>pavicolet-CON-2023.14051</th>\n",
       "      <td>2023/08</td>\n",
       "      <td>Conservação</td>\n",
       "    </tr>\n",
       "    <tr>\n",
       "      <th>...</th>\n",
       "      <td>...</td>\n",
       "      <td>...</td>\n",
       "    </tr>\n",
       "    <tr>\n",
       "      <th>pavicolet-CON-2023.14587</th>\n",
       "      <td>2023/08</td>\n",
       "      <td>Conservação</td>\n",
       "    </tr>\n",
       "    <tr>\n",
       "      <th>pavicolet-CON-2023.14576</th>\n",
       "      <td>2023/08</td>\n",
       "      <td>Conservação</td>\n",
       "    </tr>\n",
       "    <tr>\n",
       "      <th>pavicolet-CON-2023.14568</th>\n",
       "      <td>2023/08</td>\n",
       "      <td>Conservação</td>\n",
       "    </tr>\n",
       "    <tr>\n",
       "      <th>pavicolet-CON-2023.14586</th>\n",
       "      <td>2023/08</td>\n",
       "      <td>Conservação</td>\n",
       "    </tr>\n",
       "    <tr>\n",
       "      <th>pavicolet-CON-2023.14044</th>\n",
       "      <td>2023/08</td>\n",
       "      <td>Conservação</td>\n",
       "    </tr>\n",
       "  </tbody>\n",
       "</table>\n",
       "<p>808 rows × 2 columns</p>\n",
       "</div>"
      ],
      "text/plain": [
       "                             Data     Natureza\n",
       "pavicolet-CON-2023.13598  2023/06  Conservação\n",
       "pavicolet-CON-2023.13877  2023/07  Conservação\n",
       "pavicolet-CON-2023.13631  2023/06  Conservação\n",
       "pavicolet-CON-2023.13373  2023/04  Conservação\n",
       "pavicolet-CON-2023.14051  2023/08  Conservação\n",
       "...                           ...          ...\n",
       "pavicolet-CON-2023.14587  2023/08  Conservação\n",
       "pavicolet-CON-2023.14576  2023/08  Conservação\n",
       "pavicolet-CON-2023.14568  2023/08  Conservação\n",
       "pavicolet-CON-2023.14586  2023/08  Conservação\n",
       "pavicolet-CON-2023.14044  2023/08  Conservação\n",
       "\n",
       "[808 rows x 2 columns]"
      ]
     },
     "execution_count": 86,
     "metadata": {},
     "output_type": "execute_result"
    }
   ],
   "source": [
    "ranking_natureza"
   ]
  },
  {
   "cell_type": "code",
   "execution_count": 87,
   "id": "de73eb8c",
   "metadata": {},
   "outputs": [],
   "source": [
    "frequencia = ranking_natureza.groupby('Data')['Natureza'].value_counts()\n",
    "\n"
   ]
  },
  {
   "cell_type": "code",
   "execution_count": 88,
   "id": "ae2fbcf5",
   "metadata": {},
   "outputs": [],
   "source": [
    "freq = pd.DataFrame(frequencia)"
   ]
  },
  {
   "cell_type": "code",
   "execution_count": 89,
   "id": "8ed44354",
   "metadata": {},
   "outputs": [],
   "source": [
    "freq.rename(columns={'Natureza' : 'Qtd. de apontamentos'}, inplace = True)"
   ]
  },
  {
   "cell_type": "code",
   "execution_count": 90,
   "id": "dd77f1fe",
   "metadata": {},
   "outputs": [
    {
     "data": {
      "text/html": [
       "<div>\n",
       "<style scoped>\n",
       "    .dataframe tbody tr th:only-of-type {\n",
       "        vertical-align: middle;\n",
       "    }\n",
       "\n",
       "    .dataframe tbody tr th {\n",
       "        vertical-align: top;\n",
       "    }\n",
       "\n",
       "    .dataframe thead th {\n",
       "        text-align: right;\n",
       "    }\n",
       "</style>\n",
       "<table border=\"1\" class=\"dataframe\">\n",
       "  <thead>\n",
       "    <tr style=\"text-align: right;\">\n",
       "      <th></th>\n",
       "      <th></th>\n",
       "      <th>Qtd. de apontamentos</th>\n",
       "    </tr>\n",
       "    <tr>\n",
       "      <th>Data</th>\n",
       "      <th>Natureza</th>\n",
       "      <th></th>\n",
       "    </tr>\n",
       "  </thead>\n",
       "  <tbody>\n",
       "    <tr>\n",
       "      <th rowspan=\"2\" valign=\"top\">2023/01</th>\n",
       "      <th>Conservação</th>\n",
       "      <td>14</td>\n",
       "    </tr>\n",
       "    <tr>\n",
       "      <th>Aquisição asfalto</th>\n",
       "      <td>1</td>\n",
       "    </tr>\n",
       "    <tr>\n",
       "      <th rowspan=\"3\" valign=\"top\">2023/02</th>\n",
       "      <th>Conservação</th>\n",
       "      <td>18</td>\n",
       "    </tr>\n",
       "    <tr>\n",
       "      <th>Mobilização/Desmobilização; Instalação de Canteiro e Administração Local</th>\n",
       "      <td>2</td>\n",
       "    </tr>\n",
       "    <tr>\n",
       "      <th>Manutenção de pontes de madeira</th>\n",
       "      <td>1</td>\n",
       "    </tr>\n",
       "    <tr>\n",
       "      <th rowspan=\"2\" valign=\"top\">2023/03</th>\n",
       "      <th>Conservação</th>\n",
       "      <td>38</td>\n",
       "    </tr>\n",
       "    <tr>\n",
       "      <th>Manutenção de pontes de madeira</th>\n",
       "      <td>7</td>\n",
       "    </tr>\n",
       "    <tr>\n",
       "      <th>2023/04</th>\n",
       "      <th>Conservação</th>\n",
       "      <td>71</td>\n",
       "    </tr>\n",
       "    <tr>\n",
       "      <th rowspan=\"2\" valign=\"top\">2023/05</th>\n",
       "      <th>Conservação</th>\n",
       "      <td>71</td>\n",
       "    </tr>\n",
       "    <tr>\n",
       "      <th>Dispositivos de sinalização</th>\n",
       "      <td>1</td>\n",
       "    </tr>\n",
       "    <tr>\n",
       "      <th rowspan=\"2\" valign=\"top\">2023/06</th>\n",
       "      <th>Conservação</th>\n",
       "      <td>156</td>\n",
       "    </tr>\n",
       "    <tr>\n",
       "      <th>Dispositivos de drenagem</th>\n",
       "      <td>3</td>\n",
       "    </tr>\n",
       "    <tr>\n",
       "      <th rowspan=\"3\" valign=\"top\">2023/07</th>\n",
       "      <th>Conservação</th>\n",
       "      <td>203</td>\n",
       "    </tr>\n",
       "    <tr>\n",
       "      <th>Dispositivos de sinalização</th>\n",
       "      <td>9</td>\n",
       "    </tr>\n",
       "    <tr>\n",
       "      <th>Dispositivos de drenagem</th>\n",
       "      <td>2</td>\n",
       "    </tr>\n",
       "    <tr>\n",
       "      <th rowspan=\"5\" valign=\"top\">2023/08</th>\n",
       "      <th>Conservação</th>\n",
       "      <td>205</td>\n",
       "    </tr>\n",
       "    <tr>\n",
       "      <th>Dispositivos de drenagem</th>\n",
       "      <td>3</td>\n",
       "    </tr>\n",
       "    <tr>\n",
       "      <th>Controle Tecnológico</th>\n",
       "      <td>1</td>\n",
       "    </tr>\n",
       "    <tr>\n",
       "      <th>Dispositivos de sinalização</th>\n",
       "      <td>1</td>\n",
       "    </tr>\n",
       "    <tr>\n",
       "      <th>Inventário</th>\n",
       "      <td>1</td>\n",
       "    </tr>\n",
       "  </tbody>\n",
       "</table>\n",
       "</div>"
      ],
      "text/plain": [
       "                                                            Qtd. de apontamentos\n",
       "Data    Natureza                                                                \n",
       "2023/01 Conservação                                                           14\n",
       "        Aquisição asfalto                                                      1\n",
       "2023/02 Conservação                                                           18\n",
       "        Mobilização/Desmobilização; Instalação de Cante...                     2\n",
       "        Manutenção de pontes de madeira                                        1\n",
       "2023/03 Conservação                                                           38\n",
       "        Manutenção de pontes de madeira                                        7\n",
       "2023/04 Conservação                                                           71\n",
       "2023/05 Conservação                                                           71\n",
       "        Dispositivos de sinalização                                            1\n",
       "2023/06 Conservação                                                          156\n",
       "        Dispositivos de drenagem                                               3\n",
       "2023/07 Conservação                                                          203\n",
       "        Dispositivos de sinalização                                            9\n",
       "        Dispositivos de drenagem                                               2\n",
       "2023/08 Conservação                                                          205\n",
       "        Dispositivos de drenagem                                               3\n",
       "        Controle Tecnológico                                                   1\n",
       "        Dispositivos de sinalização                                            1\n",
       "        Inventário                                                             1"
      ]
     },
     "execution_count": 90,
     "metadata": {},
     "output_type": "execute_result"
    }
   ],
   "source": [
    "freq"
   ]
  },
  {
   "cell_type": "code",
   "execution_count": 91,
   "id": "b6431b16",
   "metadata": {},
   "outputs": [],
   "source": [
    "maior = freq.groupby('Data')['Qtd. de apontamentos'].idxmax()"
   ]
  },
  {
   "cell_type": "code",
   "execution_count": 92,
   "id": "09f17092",
   "metadata": {},
   "outputs": [
    {
     "data": {
      "text/plain": [
       "Data\n",
       "2023/01    (2023/01, Conservação)\n",
       "2023/02    (2023/02, Conservação)\n",
       "2023/03    (2023/03, Conservação)\n",
       "2023/04    (2023/04, Conservação)\n",
       "2023/05    (2023/05, Conservação)\n",
       "2023/06    (2023/06, Conservação)\n",
       "2023/07    (2023/07, Conservação)\n",
       "2023/08    (2023/08, Conservação)\n",
       "Name: Qtd. de apontamentos, dtype: object"
      ]
     },
     "execution_count": 92,
     "metadata": {},
     "output_type": "execute_result"
    }
   ],
   "source": [
    "maior"
   ]
  },
  {
   "cell_type": "code",
   "execution_count": 93,
   "id": "515843aa",
   "metadata": {},
   "outputs": [],
   "source": [
    "maior_equipe_mes = freq.loc[maior]"
   ]
  },
  {
   "cell_type": "code",
   "execution_count": 94,
   "id": "4a67d5e2",
   "metadata": {},
   "outputs": [],
   "source": [
    "maior_equipe_mes.reset_index(inplace = True)"
   ]
  },
  {
   "cell_type": "code",
   "execution_count": 95,
   "id": "8b91f4d3",
   "metadata": {},
   "outputs": [
    {
     "data": {
      "text/html": [
       "<div>\n",
       "<style scoped>\n",
       "    .dataframe tbody tr th:only-of-type {\n",
       "        vertical-align: middle;\n",
       "    }\n",
       "\n",
       "    .dataframe tbody tr th {\n",
       "        vertical-align: top;\n",
       "    }\n",
       "\n",
       "    .dataframe thead th {\n",
       "        text-align: right;\n",
       "    }\n",
       "</style>\n",
       "<table border=\"1\" class=\"dataframe\">\n",
       "  <thead>\n",
       "    <tr style=\"text-align: right;\">\n",
       "      <th></th>\n",
       "      <th>Data</th>\n",
       "      <th>Natureza</th>\n",
       "      <th>Qtd. de apontamentos</th>\n",
       "    </tr>\n",
       "  </thead>\n",
       "  <tbody>\n",
       "    <tr>\n",
       "      <th>0</th>\n",
       "      <td>2023/01</td>\n",
       "      <td>Conservação</td>\n",
       "      <td>14</td>\n",
       "    </tr>\n",
       "    <tr>\n",
       "      <th>1</th>\n",
       "      <td>2023/02</td>\n",
       "      <td>Conservação</td>\n",
       "      <td>18</td>\n",
       "    </tr>\n",
       "    <tr>\n",
       "      <th>2</th>\n",
       "      <td>2023/03</td>\n",
       "      <td>Conservação</td>\n",
       "      <td>38</td>\n",
       "    </tr>\n",
       "    <tr>\n",
       "      <th>3</th>\n",
       "      <td>2023/04</td>\n",
       "      <td>Conservação</td>\n",
       "      <td>71</td>\n",
       "    </tr>\n",
       "    <tr>\n",
       "      <th>4</th>\n",
       "      <td>2023/05</td>\n",
       "      <td>Conservação</td>\n",
       "      <td>71</td>\n",
       "    </tr>\n",
       "    <tr>\n",
       "      <th>5</th>\n",
       "      <td>2023/06</td>\n",
       "      <td>Conservação</td>\n",
       "      <td>156</td>\n",
       "    </tr>\n",
       "    <tr>\n",
       "      <th>6</th>\n",
       "      <td>2023/07</td>\n",
       "      <td>Conservação</td>\n",
       "      <td>203</td>\n",
       "    </tr>\n",
       "    <tr>\n",
       "      <th>7</th>\n",
       "      <td>2023/08</td>\n",
       "      <td>Conservação</td>\n",
       "      <td>205</td>\n",
       "    </tr>\n",
       "  </tbody>\n",
       "</table>\n",
       "</div>"
      ],
      "text/plain": [
       "      Data     Natureza  Qtd. de apontamentos\n",
       "0  2023/01  Conservação                    14\n",
       "1  2023/02  Conservação                    18\n",
       "2  2023/03  Conservação                    38\n",
       "3  2023/04  Conservação                    71\n",
       "4  2023/05  Conservação                    71\n",
       "5  2023/06  Conservação                   156\n",
       "6  2023/07  Conservação                   203\n",
       "7  2023/08  Conservação                   205"
      ]
     },
     "execution_count": 95,
     "metadata": {},
     "output_type": "execute_result"
    }
   ],
   "source": [
    "maior_equipe_mes"
   ]
  },
  {
   "cell_type": "code",
   "execution_count": 96,
   "id": "cfc770a4",
   "metadata": {},
   "outputs": [],
   "source": [
    "maior_equipe_mes['Natureza'] = maior_equipe_mes['Natureza'].str[:6]"
   ]
  },
  {
   "cell_type": "code",
   "execution_count": 97,
   "id": "eced5618",
   "metadata": {},
   "outputs": [
    {
     "data": {
      "image/png": "[encoded data removed]",
      "text/plain": [
       "<Figure size 600x400 with 1 Axes>"
      ]
     },
     "metadata": {},
     "output_type": "display_data"
    }
   ],
   "source": [
    "fig, ax = plt.subplots(figsize=(6, 4))\n",
    "ax.axis('off')\n",
    "ax.table(cellText=maior_equipe_mes.values, colLabels=maior_equipe_mes.columns, cellLoc='center', loc='center')\n",
    "\n",
    "# Salvar como imagem\n",
    "plt.savefig(path+'data_natureza.png', bbox_inches='tight')"
   ]
  },
  {
   "cell_type": "code",
   "execution_count": 98,
   "id": "46816104",
   "metadata": {
    "scrolled": false
   },
   "outputs": [
    {
     "data": {
      "image/png": "[encoded data removed]",
      "text/plain": [
       "<Figure size 640x480 with 1 Axes>"
      ]
     },
     "metadata": {},
     "output_type": "display_data"
    }
   ],
   "source": [
    "plt.bar(maior_equipe_mes['Data'], maior_equipe_mes['Qtd. de apontamentos'],width=1.0)\n",
    "legenda = maior_equipe_mes['Natureza'].tolist()\n",
    "x = maior_equipe_mes['Data']\n",
    "y = maior_equipe_mes['Qtd. de apontamentos']\n",
    "plt.title('Natureza de apontamento mais executada por mês ')\n",
    "plt.xticks(rotation = 60) \n",
    "\n",
    "\n",
    "for i, label in enumerate(legenda):\n",
    "    plt.text(x[i], y[i], label, ha='center')\n",
    "    \n",
    "\n",
    "plt.savefig(path+'natureza.png', dpi=300, bbox_inches='tight')"
   ]
  },
  {
   "cell_type": "code",
   "execution_count": 99,
   "id": "72cdcc87",
   "metadata": {},
   "outputs": [],
   "source": [
    "try:    \n",
    "    natureza = traduzirNaturezaName('Monitoramentos')\n",
    "except:\n",
    "    natureza = traduzirNaturezaName1('Monitoramentos')"
   ]
  },
  {
   "cell_type": "code",
   "execution_count": 100,
   "id": "c2bd172b",
   "metadata": {},
   "outputs": [
    {
     "data": {
      "text/plain": [
       "''"
      ]
     },
     "execution_count": 100,
     "metadata": {},
     "output_type": "execute_result"
    }
   ],
   "source": [
    "natureza"
   ]
  },
  {
   "cell_type": "code",
   "execution_count": 101,
   "id": "5d892748",
   "metadata": {},
   "outputs": [],
   "source": [
    "qtd_registro_monitoramento = Reporting.objects.filter(company__name__in = company, occurrence_type__occurrence_kind = natureza).count()"
   ]
  },
  {
   "cell_type": "code",
   "execution_count": 102,
   "id": "d41e8af6",
   "metadata": {},
   "outputs": [
    {
     "name": "stdout",
     "output_type": "stream",
     "text": [
      "Quantidade de registros de monitoramento: 0\n"
     ]
    }
   ],
   "source": [
    "print('Quantidade de registros de monitoramento:', qtd_registro_monitoramento)"
   ]
  },
  {
   "cell_type": "markdown",
   "id": "75fb34f8",
   "metadata": {},
   "source": [
    "# Programações"
   ]
  },
  {
   "cell_type": "code",
   "execution_count": 103,
   "id": "1a2c7afa",
   "metadata": {},
   "outputs": [
    {
     "name": "stderr",
     "output_type": "stream",
     "text": [
      "/home/luan/.cache/pypoetry/virtualenvs/apps-ZFymp6kh-py3.7/lib/python3.7/site-packages/django/db/models/fields/__init__.py:1427: RuntimeWarning: DateTimeField Job.start_date received a naive datetime (2023-01-01 00:00:00) while time zone support is active.\n",
      "  RuntimeWarning)\n",
      "/home/luan/.cache/pypoetry/virtualenvs/apps-ZFymp6kh-py3.7/lib/python3.7/site-packages/django/db/models/fields/__init__.py:1427: RuntimeWarning: DateTimeField Job.start_date received a naive datetime (2023-08-31 00:00:00) while time zone support is active.\n",
      "  RuntimeWarning)\n"
     ]
    },
    {
     "data": {
      "text/plain": [
       "14"
      ]
     },
     "execution_count": 103,
     "metadata": {},
     "output_type": "execute_result"
    }
   ],
   "source": [
    "jobs = Job.objects.filter(company__name__in = company, start_date__gte = '2023-01-01', start_date__lte = data_relatorios).exclude(created_by__username='rlcs').exclude(created_by__username='neoviacs').exclude(created_by__username='arteriscs')\n",
    "jobs.count()"
   ]
  },
  {
   "cell_type": "code",
   "execution_count": 104,
   "id": "d117d0ab",
   "metadata": {},
   "outputs": [],
   "source": [
    "zero=0\n",
    "faixa05=0\n",
    "faixa9=0\n",
    "faixa10=0\n",
    "for a in jobs:\n",
    "    if a.progress == 0:\n",
    "        zero+=1\n",
    "    elif a.progress > 0 and a.progress <=0.5:\n",
    "        faixa05+=1\n",
    "    elif a.progress > 0.5 and a.progress <=0.99:\n",
    "        faixa9+=1\n",
    "    else:\n",
    "        faixa10+=1\n",
    "    \n",
    "        \n",
    "faixas=[zero,faixa05,faixa9,faixa10]"
   ]
  },
  {
   "cell_type": "code",
   "execution_count": 105,
   "id": "3653db0c",
   "metadata": {},
   "outputs": [],
   "source": [
    "bar_labels = ['Zeradas','0-50%','50-99%','100%']"
   ]
  },
  {
   "cell_type": "code",
   "execution_count": 106,
   "id": "b70f8530",
   "metadata": {},
   "outputs": [
    {
     "data": {
      "image/png": "[encoded data removed]",
      "text/plain": [
       "<Figure size 900x700 with 1 Axes>"
      ]
     },
     "metadata": {},
     "output_type": "display_data"
    }
   ],
   "source": [
    "fig, ax = plt.subplots()\n",
    "\n",
    "ax.figure.set_size_inches(9,7)\n",
    "ax.set_title('Programações por faixa de conclusão')\n",
    "ax.set_ylabel('Programações')\n",
    "ax.set_xlabel('Faixas de Conclusão')\n",
    "\n",
    "\n",
    "for i,a in enumerate(faixas):\n",
    "    ax.bar(bar_labels[i], faixas[i], label=bar_labels[i])\n",
    "\n",
    "ax.legend(title='',loc='upper center',prop={'size': 10})\n",
    "    \n",
    "for rect, label in zip(ax.patches, faixas):\n",
    "    plt.annotate(format(rect.get_height(), '.0f'),\n",
    "                   (rect.get_x() + rect.get_width() / 2,\n",
    "                    rect.get_height()), ha='center', va='center',\n",
    "                   size=10, xytext=(0, 8),\n",
    "                   textcoords='offset points')\n",
    "\n",
    "plt.savefig(path+'prog_faixa_conclusao.png', dpi=300, bbox_inches='tight')"
   ]
  },
  {
   "cell_type": "code",
   "execution_count": 107,
   "id": "b9c8e140",
   "metadata": {},
   "outputs": [
    {
     "name": "stderr",
     "output_type": "stream",
     "text": [
      "/home/luan/.cache/pypoetry/virtualenvs/apps-ZFymp6kh-py3.7/lib/python3.7/site-packages/django/db/models/fields/__init__.py:1427: RuntimeWarning: DateTimeField Job.start_date received a naive datetime (2023-01-01 00:00:00) while time zone support is active.\n",
      "  RuntimeWarning)\n"
     ]
    }
   ],
   "source": [
    "jobs2 = Job.objects.filter(start_date__gte = '2023-01-01', progress__lt=1,company__name__in=company).exclude(created_by__username='rlcs').exclude(created_by__username='neoviacs').exclude(created_by__username='arteriscs')"
   ]
  },
  {
   "cell_type": "code",
   "execution_count": 108,
   "id": "e4a6b367",
   "metadata": {},
   "outputs": [
    {
     "data": {
      "text/plain": [
       "{'_state': <django.db.models.base.ModelState at 0x7f45f46dec90>,\n",
       " 'uuid': UUID('fe6c14a1-2453-4fba-be8f-5c19621342a5'),\n",
       " 'company_id': UUID('ee7795f4-c04a-4f5c-8918-47c3d8645de7'),\n",
       " 'number': 'pavicolet-job-2023.17',\n",
       " 'title': 'PROGRAMAÇÃO MENSAL SR 207 09 2023 COM RECURSOS ALOCADOS rev. 3',\n",
       " 'description': '',\n",
       " 'start_date': datetime.datetime(2023, 8, 30, 19, 53, 10, 697000, tzinfo=<UTC>),\n",
       " 'end_date': datetime.datetime(2023, 8, 31, 19, 53, tzinfo=<UTC>),\n",
       " 'progress': 0.0,\n",
       " 'executed_reportings': 0,\n",
       " 'reporting_count': 25,\n",
       " 'worker_id': UUID('c634d64b-5da1-4f5c-bc59-ac918da2946c'),\n",
       " 'firm_id': UUID('4a072268-6ea5-400c-942b-fa80cbd40ab0'),\n",
       " 'inspection_id': None,\n",
       " 'parent_inventory_id': None,\n",
       " 'metadata': {},\n",
       " 'created_by_id': UUID('5f046393-edf9-49ce-9eff-b5126442a630'),\n",
       " 'archived': True,\n",
       " 'last_notification_sent_at': None}"
      ]
     },
     "execution_count": 108,
     "metadata": {},
     "output_type": "execute_result"
    }
   ],
   "source": [
    "jobs2[0].__dict__"
   ]
  },
  {
   "cell_type": "code",
   "execution_count": 109,
   "id": "0fbf744c",
   "metadata": {},
   "outputs": [],
   "source": [
    "data={}\n",
    "arquivadas=0\n",
    "narquivadas,ven0,ven05,ven59=0,0,0,0\n",
    "for a in jobs2:\n",
    "    if a.end_date is not None:\n",
    "        if a.end_date.date() <= date.today():\n",
    "            arquivadas+=1 if a.archived == True else 0\n",
    "            narquivadas+=1 if a.archived == False else 0\n",
    "            ven59+=1 if a.progress > 0.5 else 0\n",
    "            ven0+=1 if a.progress ==0 else 0\n",
    "            ven05+=1 if a.progress > 0 and a.progress <= 0.5 else 0\n",
    "            \n",
    "            data[a.number]={}\n",
    "            data[a.number]['data_final'] = a.end_date\n",
    "            \n",
    "            data[a.number]['progresso'] = a.progress*100\n",
    "dfjob=pd.DataFrame(data=data).transpose()\n",
    "job_vencido=[ven0,ven05,ven59]"
   ]
  },
  {
   "cell_type": "code",
   "execution_count": 110,
   "id": "1733bdfa",
   "metadata": {},
   "outputs": [
    {
     "data": {
      "text/html": [
       "<div>\n",
       "<style scoped>\n",
       "    .dataframe tbody tr th:only-of-type {\n",
       "        vertical-align: middle;\n",
       "    }\n",
       "\n",
       "    .dataframe tbody tr th {\n",
       "        vertical-align: top;\n",
       "    }\n",
       "\n",
       "    .dataframe thead th {\n",
       "        text-align: right;\n",
       "    }\n",
       "</style>\n",
       "<table border=\"1\" class=\"dataframe\">\n",
       "  <thead>\n",
       "    <tr style=\"text-align: right;\">\n",
       "      <th></th>\n",
       "      <th>data_final</th>\n",
       "      <th>progresso</th>\n",
       "    </tr>\n",
       "  </thead>\n",
       "  <tbody>\n",
       "    <tr>\n",
       "      <th>pavicolet-job-2023.17</th>\n",
       "      <td>2023-08-31 19:53:00+00:00</td>\n",
       "      <td>0.0</td>\n",
       "    </tr>\n",
       "    <tr>\n",
       "      <th>pavicolet-job-2023.19</th>\n",
       "      <td>2023-09-01 19:59:00+00:00</td>\n",
       "      <td>0.0</td>\n",
       "    </tr>\n",
       "    <tr>\n",
       "      <th>pavicolet-job-2023.18</th>\n",
       "      <td>2023-09-01 19:50:00+00:00</td>\n",
       "      <td>64.0</td>\n",
       "    </tr>\n",
       "    <tr>\n",
       "      <th>pavicolet-job-2023.20</th>\n",
       "      <td>2023-09-02 10:57:00+00:00</td>\n",
       "      <td>63.0</td>\n",
       "    </tr>\n",
       "    <tr>\n",
       "      <th>pavicolet-job-2023.2</th>\n",
       "      <td>2023-08-31 15:28:00+00:00</td>\n",
       "      <td>0.0</td>\n",
       "    </tr>\n",
       "  </tbody>\n",
       "</table>\n",
       "</div>"
      ],
      "text/plain": [
       "                                     data_final progresso\n",
       "pavicolet-job-2023.17 2023-08-31 19:53:00+00:00       0.0\n",
       "pavicolet-job-2023.19 2023-09-01 19:59:00+00:00       0.0\n",
       "pavicolet-job-2023.18 2023-09-01 19:50:00+00:00      64.0\n",
       "pavicolet-job-2023.20 2023-09-02 10:57:00+00:00      63.0\n",
       "pavicolet-job-2023.2  2023-08-31 15:28:00+00:00       0.0"
      ]
     },
     "execution_count": 110,
     "metadata": {},
     "output_type": "execute_result"
    }
   ],
   "source": [
    "dfjob.head()"
   ]
  },
  {
   "cell_type": "code",
   "execution_count": 111,
   "id": "aea3556b",
   "metadata": {},
   "outputs": [
    {
     "data": {
      "image/png": "[encoded data removed]",
      "text/plain": [
       "<Figure size 900x700 with 1 Axes>"
      ]
     },
     "metadata": {},
     "output_type": "display_data"
    }
   ],
   "source": [
    "fig, ax = plt.subplots()\n",
    "\n",
    "ax.figure.set_size_inches(9,7)\n",
    "ax.set_title('Programações vencidas')\n",
    "ax.set_ylabel('Programações')\n",
    "ax.set_xlabel('Faixas de Programações Vencidas')\n",
    "bar_labels=['Zeradas','0-50%','50-99%']\n",
    "\n",
    "for i,a in enumerate(job_vencido):\n",
    "    ax.bar(bar_labels[i], job_vencido[i], label=bar_labels[i])\n",
    "\n",
    "ax.legend(title='',prop={'size': 10})\n",
    "    \n",
    "for rect, label in zip(ax.patches, job_vencido):\n",
    "    plt.annotate(format(rect.get_height(), '.0f'),\n",
    "                   (rect.get_x() + rect.get_width() / 2,\n",
    "                    rect.get_height()), ha='center', va='center',\n",
    "                   size=10, xytext=(0, 8),\n",
    "                   textcoords='offset points')\n",
    "\n",
    "plt.savefig(path+'prog_vencidas.png', dpi=300, bbox_inches='tight')"
   ]
  },
  {
   "cell_type": "markdown",
   "id": "243dc99d",
   "metadata": {},
   "source": [
    "# RDO"
   ]
  },
  {
   "cell_type": "code",
   "execution_count": 112,
   "id": "cad9f203",
   "metadata": {},
   "outputs": [
    {
     "name": "stderr",
     "output_type": "stream",
     "text": [
      "/home/luan/.cache/pypoetry/virtualenvs/apps-ZFymp6kh-py3.7/lib/python3.7/site-packages/django/db/models/fields/__init__.py:1427: RuntimeWarning: DateTimeField MultipleDailyReport.created_at received a naive datetime (2023-01-01 00:00:00) while time zone support is active.\n",
      "  RuntimeWarning)\n",
      "/home/luan/.cache/pypoetry/virtualenvs/apps-ZFymp6kh-py3.7/lib/python3.7/site-packages/django/db/models/fields/__init__.py:1427: RuntimeWarning: DateTimeField MultipleDailyReport.created_at received a naive datetime (2023-08-31 00:00:00) while time zone support is active.\n",
      "  RuntimeWarning)\n"
     ]
    }
   ],
   "source": [
    "rdos = MultipleDailyReport.objects.filter(company__name__in = company, created_at__gte= '2023-01-01', created_at__lte = data_relatorios)"
   ]
  },
  {
   "cell_type": "code",
   "execution_count": 113,
   "id": "0d02cc44",
   "metadata": {
    "scrolled": true
   },
   "outputs": [
    {
     "data": {
      "text/plain": [
       "28"
      ]
     },
     "execution_count": 113,
     "metadata": {},
     "output_type": "execute_result"
    }
   ],
   "source": [
    "rdos.count()"
   ]
  },
  {
   "cell_type": "code",
   "execution_count": 114,
   "id": "0a5a2ddd",
   "metadata": {},
   "outputs": [],
   "source": [
    "rdo_dict = {}\n",
    "for i in rdos:\n",
    "    #print(i.created_at.date())\n",
    "    rdo_dict[i.number] = {'Equipe': i.firm.name, 'Criado em': i.created_at.date()}"
   ]
  },
  {
   "cell_type": "code",
   "execution_count": 115,
   "id": "4b669874",
   "metadata": {},
   "outputs": [],
   "source": [
    "df_rdo = pd.DataFrame(rdo_dict.values(), index = rdo_dict.keys())"
   ]
  },
  {
   "cell_type": "code",
   "execution_count": 116,
   "id": "1dfcfac8",
   "metadata": {},
   "outputs": [
    {
     "data": {
      "text/html": [
       "<div>\n",
       "<style scoped>\n",
       "    .dataframe tbody tr th:only-of-type {\n",
       "        vertical-align: middle;\n",
       "    }\n",
       "\n",
       "    .dataframe tbody tr th {\n",
       "        vertical-align: top;\n",
       "    }\n",
       "\n",
       "    .dataframe thead th {\n",
       "        text-align: right;\n",
       "    }\n",
       "</style>\n",
       "<table border=\"1\" class=\"dataframe\">\n",
       "  <thead>\n",
       "    <tr style=\"text-align: right;\">\n",
       "      <th></th>\n",
       "      <th>Equipe</th>\n",
       "      <th>Criado em</th>\n",
       "    </tr>\n",
       "  </thead>\n",
       "  <tbody>\n",
       "    <tr>\n",
       "      <th>pavicolet-RDO-2023.00047</th>\n",
       "      <td>CONTRATO 631</td>\n",
       "      <td>2023-08-28</td>\n",
       "    </tr>\n",
       "    <tr>\n",
       "      <th>pavicolet-RDO-2023.00046</th>\n",
       "      <td>CONTRATO 631</td>\n",
       "      <td>2023-08-28</td>\n",
       "    </tr>\n",
       "    <tr>\n",
       "      <th>pavicolet-RDO-2023.00045</th>\n",
       "      <td>CONTRATO 631</td>\n",
       "      <td>2023-08-28</td>\n",
       "    </tr>\n",
       "    <tr>\n",
       "      <th>pavicolet-RDO-2023.00044</th>\n",
       "      <td>CONTRATO 631</td>\n",
       "      <td>2023-08-28</td>\n",
       "    </tr>\n",
       "    <tr>\n",
       "      <th>pavicolet-RDO-2023.00043</th>\n",
       "      <td>CONTRATO 631</td>\n",
       "      <td>2023-08-28</td>\n",
       "    </tr>\n",
       "    <tr>\n",
       "      <th>pavicolet-RDO-2023.00042</th>\n",
       "      <td>CONTRATO 631</td>\n",
       "      <td>2023-08-28</td>\n",
       "    </tr>\n",
       "    <tr>\n",
       "      <th>pavicolet-RDO-2023.00041</th>\n",
       "      <td>CONTRATO 631</td>\n",
       "      <td>2023-08-28</td>\n",
       "    </tr>\n",
       "    <tr>\n",
       "      <th>pavicolet-RDO-2023.00040</th>\n",
       "      <td>CONTRATO 631</td>\n",
       "      <td>2023-08-28</td>\n",
       "    </tr>\n",
       "    <tr>\n",
       "      <th>pavicolet-RDO-2023.00039</th>\n",
       "      <td>CONTRATO 631</td>\n",
       "      <td>2023-08-28</td>\n",
       "    </tr>\n",
       "    <tr>\n",
       "      <th>pavicolet-RDO-2023.00038</th>\n",
       "      <td>CONTRATO 631</td>\n",
       "      <td>2023-08-28</td>\n",
       "    </tr>\n",
       "    <tr>\n",
       "      <th>pavicolet-RDO-2023.00037</th>\n",
       "      <td>CONTRATO 631</td>\n",
       "      <td>2023-08-28</td>\n",
       "    </tr>\n",
       "    <tr>\n",
       "      <th>pavicolet-RDO-2023.00036</th>\n",
       "      <td>CONTRATO 631</td>\n",
       "      <td>2023-08-28</td>\n",
       "    </tr>\n",
       "    <tr>\n",
       "      <th>pavicolet-RDO-2023.00035</th>\n",
       "      <td>CONTRATO 631</td>\n",
       "      <td>2023-08-28</td>\n",
       "    </tr>\n",
       "    <tr>\n",
       "      <th>pavicolet-RDO-2023.00034</th>\n",
       "      <td>CONTRATO 631</td>\n",
       "      <td>2023-08-28</td>\n",
       "    </tr>\n",
       "    <tr>\n",
       "      <th>pavicolet-RDO-2023.00033</th>\n",
       "      <td>CONTRATO 631</td>\n",
       "      <td>2023-08-28</td>\n",
       "    </tr>\n",
       "    <tr>\n",
       "      <th>pavicolet-RDO-2023.00032</th>\n",
       "      <td>CONTRATO 631</td>\n",
       "      <td>2023-08-28</td>\n",
       "    </tr>\n",
       "    <tr>\n",
       "      <th>pavicolet-RDO-2023.00004</th>\n",
       "      <td>CONTRATO 631</td>\n",
       "      <td>2023-08-09</td>\n",
       "    </tr>\n",
       "    <tr>\n",
       "      <th>pavicolet-RDO-2023.00005</th>\n",
       "      <td>CONTRATO 631</td>\n",
       "      <td>2023-08-10</td>\n",
       "    </tr>\n",
       "    <tr>\n",
       "      <th>pavicolet-RDO-2023.00006</th>\n",
       "      <td>CONTRATO 631</td>\n",
       "      <td>2023-08-10</td>\n",
       "    </tr>\n",
       "    <tr>\n",
       "      <th>pavicolet-RDO-2023.00007</th>\n",
       "      <td>CONTRATO 631</td>\n",
       "      <td>2023-08-10</td>\n",
       "    </tr>\n",
       "    <tr>\n",
       "      <th>pavicolet-RDO-2023.00008</th>\n",
       "      <td>CONTRATO 631</td>\n",
       "      <td>2023-08-10</td>\n",
       "    </tr>\n",
       "    <tr>\n",
       "      <th>pavicolet-RDO-2023.00010</th>\n",
       "      <td>CONTRATO 631</td>\n",
       "      <td>2023-08-10</td>\n",
       "    </tr>\n",
       "    <tr>\n",
       "      <th>pavicolet-RDO-2023.00009</th>\n",
       "      <td>CONTRATO 631</td>\n",
       "      <td>2023-08-10</td>\n",
       "    </tr>\n",
       "    <tr>\n",
       "      <th>pavicolet-RDO-2023.00011</th>\n",
       "      <td>CONTRATO 631</td>\n",
       "      <td>2023-08-10</td>\n",
       "    </tr>\n",
       "    <tr>\n",
       "      <th>pavicolet-RDO-2023.00013</th>\n",
       "      <td>CONTRATO 631</td>\n",
       "      <td>2023-08-10</td>\n",
       "    </tr>\n",
       "    <tr>\n",
       "      <th>pavicolet-RDO-2023.00014</th>\n",
       "      <td>CONTRATO 631</td>\n",
       "      <td>2023-08-11</td>\n",
       "    </tr>\n",
       "    <tr>\n",
       "      <th>pavicolet-RDO-2023.00026</th>\n",
       "      <td>CONTRATO 207</td>\n",
       "      <td>2023-08-11</td>\n",
       "    </tr>\n",
       "    <tr>\n",
       "      <th>pavicolet-RDO-2023.00030</th>\n",
       "      <td>CONTRATO 207</td>\n",
       "      <td>2023-08-20</td>\n",
       "    </tr>\n",
       "  </tbody>\n",
       "</table>\n",
       "</div>"
      ],
      "text/plain": [
       "                                Equipe   Criado em\n",
       "pavicolet-RDO-2023.00047  CONTRATO 631  2023-08-28\n",
       "pavicolet-RDO-2023.00046  CONTRATO 631  2023-08-28\n",
       "pavicolet-RDO-2023.00045  CONTRATO 631  2023-08-28\n",
       "pavicolet-RDO-2023.00044  CONTRATO 631  2023-08-28\n",
       "pavicolet-RDO-2023.00043  CONTRATO 631  2023-08-28\n",
       "pavicolet-RDO-2023.00042  CONTRATO 631  2023-08-28\n",
       "pavicolet-RDO-2023.00041  CONTRATO 631  2023-08-28\n",
       "pavicolet-RDO-2023.00040  CONTRATO 631  2023-08-28\n",
       "pavicolet-RDO-2023.00039  CONTRATO 631  2023-08-28\n",
       "pavicolet-RDO-2023.00038  CONTRATO 631  2023-08-28\n",
       "pavicolet-RDO-2023.00037  CONTRATO 631  2023-08-28\n",
       "pavicolet-RDO-2023.00036  CONTRATO 631  2023-08-28\n",
       "pavicolet-RDO-2023.00035  CONTRATO 631  2023-08-28\n",
       "pavicolet-RDO-2023.00034  CONTRATO 631  2023-08-28\n",
       "pavicolet-RDO-2023.00033  CONTRATO 631  2023-08-28\n",
       "pavicolet-RDO-2023.00032  CONTRATO 631  2023-08-28\n",
       "pavicolet-RDO-2023.00004  CONTRATO 631  2023-08-09\n",
       "pavicolet-RDO-2023.00005  CONTRATO 631  2023-08-10\n",
       "pavicolet-RDO-2023.00006  CONTRATO 631  2023-08-10\n",
       "pavicolet-RDO-2023.00007  CONTRATO 631  2023-08-10\n",
       "pavicolet-RDO-2023.00008  CONTRATO 631  2023-08-10\n",
       "pavicolet-RDO-2023.00010  CONTRATO 631  2023-08-10\n",
       "pavicolet-RDO-2023.00009  CONTRATO 631  2023-08-10\n",
       "pavicolet-RDO-2023.00011  CONTRATO 631  2023-08-10\n",
       "pavicolet-RDO-2023.00013  CONTRATO 631  2023-08-10\n",
       "pavicolet-RDO-2023.00014  CONTRATO 631  2023-08-11\n",
       "pavicolet-RDO-2023.00026  CONTRATO 207  2023-08-11\n",
       "pavicolet-RDO-2023.00030  CONTRATO 207  2023-08-20"
      ]
     },
     "execution_count": 116,
     "metadata": {},
     "output_type": "execute_result"
    }
   ],
   "source": [
    "df_rdo"
   ]
  },
  {
   "cell_type": "code",
   "execution_count": 117,
   "id": "4ee58b1f",
   "metadata": {},
   "outputs": [],
   "source": [
    "df_rdo_equipes = df_rdo.groupby('Equipe').count()"
   ]
  },
  {
   "cell_type": "code",
   "execution_count": 118,
   "id": "de7db7cd",
   "metadata": {},
   "outputs": [],
   "source": [
    "df_rdo['Data'] = df_rdo['Criado em'].apply(lambda x: str(x)[:4]) + '/'+df_rdo['Criado em'].apply(lambda x: str(x)[5:7])"
   ]
  },
  {
   "cell_type": "code",
   "execution_count": 119,
   "id": "255f082e",
   "metadata": {},
   "outputs": [],
   "source": [
    "df_rdo_data = df_rdo.groupby('Data').count()"
   ]
  },
  {
   "cell_type": "code",
   "execution_count": 120,
   "id": "4ee89655",
   "metadata": {},
   "outputs": [],
   "source": [
    "months_rdo=[]\n",
    "for index, i in enumerate(df_rdo_data.index):\n",
    "    a = i.split('/')[0] \n",
    "    m = i.split('/')[1]\n",
    "    months_rdo.append(MultipleDailyReport.objects.filter(company__name__in = company, created_at__year=a, created_at__month=m).count())"
   ]
  },
  {
   "cell_type": "code",
   "execution_count": 121,
   "id": "a73f37ae",
   "metadata": {},
   "outputs": [],
   "source": [
    "df_rdo_data['Taxa de variacao'] = variacao(months_rdo)"
   ]
  },
  {
   "cell_type": "code",
   "execution_count": 122,
   "id": "2c3cb0bf",
   "metadata": {},
   "outputs": [
    {
     "data": {
      "text/html": [
       "<div>\n",
       "<style scoped>\n",
       "    .dataframe tbody tr th:only-of-type {\n",
       "        vertical-align: middle;\n",
       "    }\n",
       "\n",
       "    .dataframe tbody tr th {\n",
       "        vertical-align: top;\n",
       "    }\n",
       "\n",
       "    .dataframe thead th {\n",
       "        text-align: right;\n",
       "    }\n",
       "</style>\n",
       "<table border=\"1\" class=\"dataframe\">\n",
       "  <thead>\n",
       "    <tr style=\"text-align: right;\">\n",
       "      <th></th>\n",
       "      <th>Equipe</th>\n",
       "      <th>Criado em</th>\n",
       "      <th>Taxa de variacao</th>\n",
       "    </tr>\n",
       "    <tr>\n",
       "      <th>Data</th>\n",
       "      <th></th>\n",
       "      <th></th>\n",
       "      <th></th>\n",
       "    </tr>\n",
       "  </thead>\n",
       "  <tbody>\n",
       "    <tr>\n",
       "      <th>2023/08</th>\n",
       "      <td>28</td>\n",
       "      <td>28</td>\n",
       "      <td>0</td>\n",
       "    </tr>\n",
       "  </tbody>\n",
       "</table>\n",
       "</div>"
      ],
      "text/plain": [
       "         Equipe  Criado em  Taxa de variacao\n",
       "Data                                        \n",
       "2023/08      28         28                 0"
      ]
     },
     "execution_count": 122,
     "metadata": {},
     "output_type": "execute_result"
    }
   ],
   "source": [
    "df_rdo_data"
   ]
  },
  {
   "cell_type": "code",
   "execution_count": 123,
   "id": "af22f389",
   "metadata": {},
   "outputs": [],
   "source": [
    "df_variacao = df_rdo_data.drop('Equipe', axis=1)"
   ]
  },
  {
   "cell_type": "code",
   "execution_count": 124,
   "id": "0270b617",
   "metadata": {},
   "outputs": [],
   "source": [
    "df_variacao.rename(columns = {'Criado em': 'Qtd. de apontamentos'}, inplace = True)"
   ]
  },
  {
   "cell_type": "code",
   "execution_count": 125,
   "id": "f1c92aca",
   "metadata": {},
   "outputs": [
    {
     "data": {
      "text/html": [
       "<div>\n",
       "<style scoped>\n",
       "    .dataframe tbody tr th:only-of-type {\n",
       "        vertical-align: middle;\n",
       "    }\n",
       "\n",
       "    .dataframe tbody tr th {\n",
       "        vertical-align: top;\n",
       "    }\n",
       "\n",
       "    .dataframe thead th {\n",
       "        text-align: right;\n",
       "    }\n",
       "</style>\n",
       "<table border=\"1\" class=\"dataframe\">\n",
       "  <thead>\n",
       "    <tr style=\"text-align: right;\">\n",
       "      <th></th>\n",
       "      <th>Qtd. de apontamentos</th>\n",
       "      <th>Taxa de variacao</th>\n",
       "    </tr>\n",
       "    <tr>\n",
       "      <th>Data</th>\n",
       "      <th></th>\n",
       "      <th></th>\n",
       "    </tr>\n",
       "  </thead>\n",
       "  <tbody>\n",
       "    <tr>\n",
       "      <th>2023/08</th>\n",
       "      <td>28</td>\n",
       "      <td>0</td>\n",
       "    </tr>\n",
       "  </tbody>\n",
       "</table>\n",
       "</div>"
      ],
      "text/plain": [
       "         Qtd. de apontamentos  Taxa de variacao\n",
       "Data                                           \n",
       "2023/08                    28                 0"
      ]
     },
     "execution_count": 125,
     "metadata": {},
     "output_type": "execute_result"
    }
   ],
   "source": [
    "df_variacao"
   ]
  },
  {
   "cell_type": "code",
   "execution_count": 126,
   "id": "c3383688",
   "metadata": {},
   "outputs": [],
   "source": [
    "df_rdo_equipes.rename(columns={'Criado em' : 'Qtd. de apontamentos'}, inplace = True)"
   ]
  },
  {
   "cell_type": "code",
   "execution_count": 127,
   "id": "f5498f59",
   "metadata": {},
   "outputs": [
    {
     "data": {
      "text/html": [
       "<div>\n",
       "<style scoped>\n",
       "    .dataframe tbody tr th:only-of-type {\n",
       "        vertical-align: middle;\n",
       "    }\n",
       "\n",
       "    .dataframe tbody tr th {\n",
       "        vertical-align: top;\n",
       "    }\n",
       "\n",
       "    .dataframe thead th {\n",
       "        text-align: right;\n",
       "    }\n",
       "</style>\n",
       "<table border=\"1\" class=\"dataframe\">\n",
       "  <thead>\n",
       "    <tr style=\"text-align: right;\">\n",
       "      <th></th>\n",
       "      <th>Qtd. de apontamentos</th>\n",
       "    </tr>\n",
       "    <tr>\n",
       "      <th>Equipe</th>\n",
       "      <th></th>\n",
       "    </tr>\n",
       "  </thead>\n",
       "  <tbody>\n",
       "    <tr>\n",
       "      <th>CONTRATO 207</th>\n",
       "      <td>2</td>\n",
       "    </tr>\n",
       "    <tr>\n",
       "      <th>CONTRATO 631</th>\n",
       "      <td>26</td>\n",
       "    </tr>\n",
       "  </tbody>\n",
       "</table>\n",
       "</div>"
      ],
      "text/plain": [
       "              Qtd. de apontamentos\n",
       "Equipe                            \n",
       "CONTRATO 207                     2\n",
       "CONTRATO 631                    26"
      ]
     },
     "execution_count": 127,
     "metadata": {},
     "output_type": "execute_result"
    }
   ],
   "source": [
    "df_rdo_equipes"
   ]
  },
  {
   "cell_type": "code",
   "execution_count": 128,
   "id": "d1ab28a9",
   "metadata": {},
   "outputs": [],
   "source": [
    "maior_equipe_rdo = df_rdo_equipes.nlargest(10, 'Qtd. de apontamentos')"
   ]
  },
  {
   "cell_type": "code",
   "execution_count": 129,
   "id": "5eae2ab6",
   "metadata": {},
   "outputs": [
    {
     "data": {
      "text/html": [
       "<div>\n",
       "<style scoped>\n",
       "    .dataframe tbody tr th:only-of-type {\n",
       "        vertical-align: middle;\n",
       "    }\n",
       "\n",
       "    .dataframe tbody tr th {\n",
       "        vertical-align: top;\n",
       "    }\n",
       "\n",
       "    .dataframe thead th {\n",
       "        text-align: right;\n",
       "    }\n",
       "</style>\n",
       "<table border=\"1\" class=\"dataframe\">\n",
       "  <thead>\n",
       "    <tr style=\"text-align: right;\">\n",
       "      <th></th>\n",
       "      <th>Qtd. de apontamentos</th>\n",
       "    </tr>\n",
       "    <tr>\n",
       "      <th>Equipe</th>\n",
       "      <th></th>\n",
       "    </tr>\n",
       "  </thead>\n",
       "  <tbody>\n",
       "    <tr>\n",
       "      <th>CONTRATO 631</th>\n",
       "      <td>26</td>\n",
       "    </tr>\n",
       "    <tr>\n",
       "      <th>CONTRATO 207</th>\n",
       "      <td>2</td>\n",
       "    </tr>\n",
       "  </tbody>\n",
       "</table>\n",
       "</div>"
      ],
      "text/plain": [
       "              Qtd. de apontamentos\n",
       "Equipe                            \n",
       "CONTRATO 631                    26\n",
       "CONTRATO 207                     2"
      ]
     },
     "execution_count": 129,
     "metadata": {},
     "output_type": "execute_result"
    }
   ],
   "source": [
    "maior_equipe_rdo"
   ]
  },
  {
   "cell_type": "code",
   "execution_count": 130,
   "id": "43548588",
   "metadata": {},
   "outputs": [
    {
     "data": {
      "image/png": "[encoded data removed]",
      "text/plain": [
       "<Figure size 1500x300 with 1 Axes>"
      ]
     },
     "metadata": {},
     "output_type": "display_data"
    }
   ],
   "source": [
    "df_rdo = maior_equipe_rdo.reset_index()\n",
    "df_rdo.rename(columns={'Qtd. de apontamentos': 'Qtd. de rdo'}, inplace = True)\n",
    "fig, ax = plt.subplots(figsize=(15, 3))\n",
    "ax.axis('off')\n",
    "ax.table(cellText=df_rdo.values, colLabels=df_rdo.columns, cellLoc='center', loc='center')\n",
    "\n",
    "# Salvar como imagem\n",
    "plt.savefig(path+'data_rdo_equipe.png', bbox_inches='tight')"
   ]
  },
  {
   "cell_type": "code",
   "execution_count": 131,
   "id": "137477e2",
   "metadata": {},
   "outputs": [
    {
     "data": {
      "image/png": "[encoded data removed]",
      "text/plain": [
       "<Figure size 900x700 with 1 Axes>"
      ]
     },
     "metadata": {},
     "output_type": "display_data"
    }
   ],
   "source": [
    "x = list(maior_equipe_rdo.index)\n",
    "y = maior_equipe_rdo['Qtd. de apontamentos']\n",
    "fig, ax = plt.subplots()\n",
    "\n",
    "ax.figure.set_size_inches(9,7)\n",
    "ax.set_title('Quantidade de rdos por equipe (Top 10 equipes)')\n",
    "ax.set_ylabel('Qtd. de rdos')\n",
    "ax.set_xlabel('Equipe')\n",
    "\n",
    "plt.xticks(rotation = 90)\n",
    "for i,a in enumerate(y):\n",
    "    ax.bar(x[i], y[i])\n",
    "\n",
    "\n",
    "for rect, label in zip(ax.patches, x):\n",
    "    plt.annotate(format(rect.get_height()),\n",
    "                   (rect.get_x() + rect.get_width() / 2,\n",
    "                    rect.get_height()), ha='center', va='center',\n",
    "                   size=10, xytext=(0, 8),\n",
    "                   textcoords='offset points')\n",
    "\n",
    "\n",
    "plt.savefig(path+'equipe_rdos.png', dpi=300, bbox_inches='tight')"
   ]
  },
  {
   "cell_type": "code",
   "execution_count": 132,
   "id": "b8b981e3",
   "metadata": {},
   "outputs": [
    {
     "data": {
      "text/plain": [
       "[0]"
      ]
     },
     "execution_count": 132,
     "metadata": {},
     "output_type": "execute_result"
    }
   ],
   "source": [
    "variacao(months_rdo)"
   ]
  },
  {
   "cell_type": "code",
   "execution_count": 133,
   "id": "59e8728b",
   "metadata": {},
   "outputs": [
    {
     "data": {
      "text/html": [
       "<div>\n",
       "<style scoped>\n",
       "    .dataframe tbody tr th:only-of-type {\n",
       "        vertical-align: middle;\n",
       "    }\n",
       "\n",
       "    .dataframe tbody tr th {\n",
       "        vertical-align: top;\n",
       "    }\n",
       "\n",
       "    .dataframe thead th {\n",
       "        text-align: right;\n",
       "    }\n",
       "</style>\n",
       "<table border=\"1\" class=\"dataframe\">\n",
       "  <thead>\n",
       "    <tr style=\"text-align: right;\">\n",
       "      <th></th>\n",
       "      <th>Qtd. de apontamentos</th>\n",
       "      <th>Taxa de variacao</th>\n",
       "    </tr>\n",
       "    <tr>\n",
       "      <th>Data</th>\n",
       "      <th></th>\n",
       "      <th></th>\n",
       "    </tr>\n",
       "  </thead>\n",
       "  <tbody>\n",
       "    <tr>\n",
       "      <th>2023/08</th>\n",
       "      <td>28</td>\n",
       "      <td>0</td>\n",
       "    </tr>\n",
       "  </tbody>\n",
       "</table>\n",
       "</div>"
      ],
      "text/plain": [
       "         Qtd. de apontamentos  Taxa de variacao\n",
       "Data                                           \n",
       "2023/08                    28                 0"
      ]
     },
     "execution_count": 133,
     "metadata": {},
     "output_type": "execute_result"
    }
   ],
   "source": [
    "df_variacao"
   ]
  },
  {
   "cell_type": "code",
   "execution_count": 134,
   "id": "13674eda",
   "metadata": {},
   "outputs": [
    {
     "data": {
      "image/png": "[encoded data removed]",
      "text/plain": [
       "<Figure size 600x400 with 1 Axes>"
      ]
     },
     "metadata": {},
     "output_type": "display_data"
    }
   ],
   "source": [
    "df_rdo_variacao = df_variacao.reset_index()\n",
    "df_rdo_variacao.rename(columns={'Qtd. de apontamentos': 'Qtd. de rdo'}, inplace = True)\n",
    "fig, ax = plt.subplots(figsize=(6, 4))\n",
    "ax.axis('off')\n",
    "ax.table(cellText=df_rdo_variacao.values, colLabels=df_rdo_variacao.columns, cellLoc='center', loc='center')\n",
    "\n",
    "# Salvar como imagem\n",
    "plt.savefig(path+'data_rdo_variacao.png', bbox_inches='tight')"
   ]
  },
  {
   "cell_type": "code",
   "execution_count": null,
   "id": "22291124",
   "metadata": {},
   "outputs": [],
   "source": []
  },
  {
   "cell_type": "markdown",
   "id": "55050768",
   "metadata": {},
   "source": [
    "# Contratos"
   ]
  },
  {
   "cell_type": "code",
   "execution_count": 135,
   "id": "33afa41b",
   "metadata": {
    "scrolled": false
   },
   "outputs": [
    {
     "name": "stderr",
     "output_type": "stream",
     "text": [
      "/home/luan/.cache/pypoetry/virtualenvs/apps-ZFymp6kh-py3.7/lib/python3.7/site-packages/django/db/models/fields/__init__.py:1427: RuntimeWarning: DateTimeField Contract.created_at received a naive datetime (2023-08-31 00:00:00) while time zone support is active.\n",
      "  RuntimeWarning)\n"
     ]
    }
   ],
   "source": [
    "contracts = Contract.objects.filter(subcompany__company__name__in = company, created_at = data_relatorios)"
   ]
  },
  {
   "cell_type": "code",
   "execution_count": 136,
   "id": "e7081012",
   "metadata": {},
   "outputs": [
    {
     "name": "stdout",
     "output_type": "stream",
     "text": [
      "Número de contratos cadastrados: 0\n"
     ]
    }
   ],
   "source": [
    "print('Número de contratos cadastrados:',contracts.count())\n"
   ]
  },
  {
   "cell_type": "code",
   "execution_count": 137,
   "id": "9e2b5b05",
   "metadata": {},
   "outputs": [],
   "source": [
    "contratos = {}\n",
    "for i in contracts:\n",
    "    adm = i.administration_services.count()\n",
    "    perfor = i.performance_services.count()\n",
    "    preco_uni = i.unit_price_services.count()\n",
    "    contratos[i.uuid] =  {'admin' : adm, 'performance': perfor, 'preco_unitario' : preco_uni}"
   ]
  },
  {
   "cell_type": "code",
   "execution_count": 138,
   "id": "c0c39592",
   "metadata": {},
   "outputs": [
    {
     "data": {
      "text/plain": [
       "{}"
      ]
     },
     "execution_count": 138,
     "metadata": {},
     "output_type": "execute_result"
    }
   ],
   "source": [
    "contratos"
   ]
  },
  {
   "cell_type": "code",
   "execution_count": 139,
   "id": "23602081",
   "metadata": {},
   "outputs": [],
   "source": [
    "df_contratos = pd.DataFrame(contratos)\n",
    "df_contratos = df_contratos.T"
   ]
  },
  {
   "cell_type": "code",
   "execution_count": 140,
   "id": "27b8bbfb",
   "metadata": {},
   "outputs": [
    {
     "data": {
      "text/html": [
       "<div>\n",
       "<style scoped>\n",
       "    .dataframe tbody tr th:only-of-type {\n",
       "        vertical-align: middle;\n",
       "    }\n",
       "\n",
       "    .dataframe tbody tr th {\n",
       "        vertical-align: top;\n",
       "    }\n",
       "\n",
       "    .dataframe thead th {\n",
       "        text-align: right;\n",
       "    }\n",
       "</style>\n",
       "<table border=\"1\" class=\"dataframe\">\n",
       "  <thead>\n",
       "    <tr style=\"text-align: right;\">\n",
       "      <th></th>\n",
       "    </tr>\n",
       "  </thead>\n",
       "  <tbody>\n",
       "  </tbody>\n",
       "</table>\n",
       "</div>"
      ],
      "text/plain": [
       "Empty DataFrame\n",
       "Columns: []\n",
       "Index: []"
      ]
     },
     "execution_count": 140,
     "metadata": {},
     "output_type": "execute_result"
    }
   ],
   "source": [
    "df_contratos"
   ]
  },
  {
   "cell_type": "code",
   "execution_count": 141,
   "id": "f62d559b",
   "metadata": {},
   "outputs": [
    {
     "ename": "AttributeError",
     "evalue": "'DataFrame' object has no attribute 'performance'",
     "output_type": "error",
     "traceback": [
      "\u001b[0;31m---------------------------------------------------------------------------\u001b[0m",
      "\u001b[0;31mAttributeError\u001b[0m                            Traceback (most recent call last)",
      "\u001b[0;32m/tmp/ipykernel_11795/2962000434.py\u001b[0m in \u001b[0;36m<module>\u001b[0;34m\u001b[0m\n\u001b[1;32m      1\u001b[0m \u001b[0mtotal\u001b[0m \u001b[0;34m=\u001b[0m \u001b[0mlen\u001b[0m\u001b[0;34m(\u001b[0m\u001b[0mdf_contratos\u001b[0m\u001b[0;34m.\u001b[0m\u001b[0mindex\u001b[0m\u001b[0;34m)\u001b[0m\u001b[0;34m\u001b[0m\u001b[0;34m\u001b[0m\u001b[0m\n\u001b[0;32m----> 2\u001b[0;31m \u001b[0mperform_count\u001b[0m \u001b[0;34m=\u001b[0m \u001b[0mdf_contratos\u001b[0m\u001b[0;34m.\u001b[0m\u001b[0mwhere\u001b[0m\u001b[0;34m(\u001b[0m\u001b[0mdf_contratos\u001b[0m\u001b[0;34m.\u001b[0m\u001b[0mperformance\u001b[0m \u001b[0;34m!=\u001b[0m \u001b[0;36m0\u001b[0m\u001b[0;34m)\u001b[0m\u001b[0;34m.\u001b[0m\u001b[0mcount\u001b[0m\u001b[0;34m(\u001b[0m\u001b[0;34m)\u001b[0m\u001b[0;34m[\u001b[0m\u001b[0;36m0\u001b[0m\u001b[0;34m]\u001b[0m\u001b[0;34m\u001b[0m\u001b[0;34m\u001b[0m\u001b[0m\n\u001b[0m\u001b[1;32m      3\u001b[0m \u001b[0madmin_count\u001b[0m \u001b[0;34m=\u001b[0m \u001b[0mdf_contratos\u001b[0m\u001b[0;34m.\u001b[0m\u001b[0mwhere\u001b[0m\u001b[0;34m(\u001b[0m\u001b[0mdf_contratos\u001b[0m\u001b[0;34m.\u001b[0m\u001b[0madmin\u001b[0m \u001b[0;34m!=\u001b[0m \u001b[0;36m0\u001b[0m\u001b[0;34m)\u001b[0m\u001b[0;34m.\u001b[0m\u001b[0mcount\u001b[0m\u001b[0;34m(\u001b[0m\u001b[0;34m)\u001b[0m\u001b[0;34m[\u001b[0m\u001b[0;36m0\u001b[0m\u001b[0;34m]\u001b[0m\u001b[0;34m\u001b[0m\u001b[0;34m\u001b[0m\u001b[0m\n\u001b[1;32m      4\u001b[0m \u001b[0mpreco_unit_count\u001b[0m \u001b[0;34m=\u001b[0m \u001b[0mdf_contratos\u001b[0m\u001b[0;34m.\u001b[0m\u001b[0mwhere\u001b[0m\u001b[0;34m(\u001b[0m\u001b[0mdf_contratos\u001b[0m\u001b[0;34m.\u001b[0m\u001b[0mpreco_unitario\u001b[0m \u001b[0;34m!=\u001b[0m \u001b[0;36m0\u001b[0m\u001b[0;34m)\u001b[0m\u001b[0;34m.\u001b[0m\u001b[0mcount\u001b[0m\u001b[0;34m(\u001b[0m\u001b[0;34m)\u001b[0m\u001b[0;34m[\u001b[0m\u001b[0;36m0\u001b[0m\u001b[0;34m]\u001b[0m\u001b[0;34m\u001b[0m\u001b[0;34m\u001b[0m\u001b[0m\n",
      "\u001b[0;32m~/.cache/pypoetry/virtualenvs/apps-ZFymp6kh-py3.7/lib/python3.7/site-packages/pandas/core/generic.py\u001b[0m in \u001b[0;36m__getattr__\u001b[0;34m(self, name)\u001b[0m\n\u001b[1;32m   5485\u001b[0m         ):\n\u001b[1;32m   5486\u001b[0m             \u001b[0;32mreturn\u001b[0m \u001b[0mself\u001b[0m\u001b[0;34m[\u001b[0m\u001b[0mname\u001b[0m\u001b[0;34m]\u001b[0m\u001b[0;34m\u001b[0m\u001b[0;34m\u001b[0m\u001b[0m\n\u001b[0;32m-> 5487\u001b[0;31m         \u001b[0;32mreturn\u001b[0m \u001b[0mobject\u001b[0m\u001b[0;34m.\u001b[0m\u001b[0m__getattribute__\u001b[0m\u001b[0;34m(\u001b[0m\u001b[0mself\u001b[0m\u001b[0;34m,\u001b[0m \u001b[0mname\u001b[0m\u001b[0;34m)\u001b[0m\u001b[0;34m\u001b[0m\u001b[0;34m\u001b[0m\u001b[0m\n\u001b[0m\u001b[1;32m   5488\u001b[0m \u001b[0;34m\u001b[0m\u001b[0m\n\u001b[1;32m   5489\u001b[0m     \u001b[0;32mdef\u001b[0m \u001b[0m__setattr__\u001b[0m\u001b[0;34m(\u001b[0m\u001b[0mself\u001b[0m\u001b[0;34m,\u001b[0m \u001b[0mname\u001b[0m\u001b[0;34m:\u001b[0m \u001b[0mstr\u001b[0m\u001b[0;34m,\u001b[0m \u001b[0mvalue\u001b[0m\u001b[0;34m)\u001b[0m \u001b[0;34m->\u001b[0m \u001b[0;32mNone\u001b[0m\u001b[0;34m:\u001b[0m\u001b[0;34m\u001b[0m\u001b[0;34m\u001b[0m\u001b[0m\n",
      "\u001b[0;31mAttributeError\u001b[0m: 'DataFrame' object has no attribute 'performance'"
     ]
    }
   ],
   "source": [
    "total = len(df_contratos.index)\n",
    "perform_count = df_contratos.where(df_contratos.performance != 0).count()[0]\n",
    "admin_count = df_contratos.where(df_contratos.admin != 0).count()[0]\n",
    "preco_unit_count = df_contratos.where(df_contratos.preco_unitario != 0).count()[0]"
   ]
  },
  {
   "cell_type": "code",
   "execution_count": null,
   "id": "a7c7dbc1",
   "metadata": {},
   "outputs": [],
   "source": [
    "lista_tipo = [admin_count/total,perform_count/total, preco_unit_count/total]"
   ]
  },
  {
   "cell_type": "code",
   "execution_count": null,
   "id": "b9b05690",
   "metadata": {},
   "outputs": [],
   "source": [
    "x = list(df_contratos.columns)\n",
    "y = lista_tipo\n",
    "fig, ax = plt.subplots()\n",
    "\n",
    "ax.figure.set_size_inches(9,7)\n",
    "ax.set_title('Porcentagem do tipo de cadastro')\n",
    "ax.set_ylabel('Porcentagem')\n",
    "ax.set_xlabel('Tipo')\n",
    "#bar_labels= months_number\n",
    "\n",
    "for i,a in enumerate(y):\n",
    "    ax.bar(x[i], y[i])\n",
    "\n",
    "\n",
    "for rect, label in zip(ax.patches, x):\n",
    "    plt.annotate(format(rect.get_height(), '.2%'),\n",
    "                   (rect.get_x() + rect.get_width() / 2,\n",
    "                    rect.get_height()), ha='center', va='center',\n",
    "                   size=10, xytext=(0, 8),\n",
    "                   textcoords='offset points')\n",
    "\n",
    "\n",
    "plt.savefig(path+'contratos.png', dpi=300, bbox_inches='tight')"
   ]
  },
  {
   "cell_type": "code",
   "execution_count": 16,
   "id": "66608948",
   "metadata": {},
   "outputs": [],
   "source": [
    "import plotly.graph_objects as go\n",
    "from reportlab.pdfgen import canvas\n",
    "from reportlab.lib.pagesizes import letter\n",
    "import plotly.io as pio\n",
    "from io import BytesIO\n",
    "import tempfile\n",
    "from PyPDF2 import PdfReader, PdfWriter"
   ]
  },
  {
   "cell_type": "code",
   "execution_count": 17,
   "id": "ac94369e",
   "metadata": {},
   "outputs": [
    {
     "name": "stdout",
     "output_type": "stream",
     "text": [
      "PDF file 'output.pdf' generated successfully with the Plotly graph appended.\n"
     ]
    }
   ],
   "source": [
    "# Create a PDF file\n",
    "pdf_filename = \"output.pdf\"\n",
    "c = canvas.Canvas(pdf_filename, pagesize=letter)\n",
    "\n",
    "# Add text to the PDF\n",
    "c.drawString(100, 750, \"Hello, this is a PDF with a Plotly graph appended to it!\")\n",
    "\n",
    "# Generate a sample Plotly graph\n",
    "fig = go.Figure(data=go.Scatter(x=[1, 2, 3, 4], y=[10, 20, 25, 30]))\n",
    "fig.update_layout(title='Sample Plotly Graph', xaxis_title='X-axis', yaxis_title='Y-axis')\n",
    "\n",
    "# Convert the Plotly graph to a static image\n",
    "image_bytes = pio.to_image(fig, format='png')\n",
    "\n",
    "# Save the image data to a temporary file\n",
    "temp_image_file = tempfile.NamedTemporaryFile(delete=False, suffix='.png')\n",
    "temp_image_file.write(image_bytes)\n",
    "temp_image_file.close()\n",
    "\n",
    "# Append the graph to the PDF\n",
    "c.drawImage(temp_image_file.name, 100, 500, width=400, height=300)\n",
    "\n",
    "\n",
    "##\n",
    "# Generate a sample Plotly graph\n",
    "fig2 = go.Figure(data=go.Scatter(x=[100, 200, 300, 400], y=[100, 200, 250, 300]))\n",
    "fig2.update_layout(title='Second Sample Plotly Graph', xaxis_title='X-axis', yaxis_title='Y-axis')\n",
    "\n",
    "# Convert the Plotly graph to a static image\n",
    "image_bytes2 = pio.to_image(fig2, format='png')\n",
    "\n",
    "# Save the image data to a temporary file\n",
    "temp_image_file2 = tempfile.NamedTemporaryFile(delete=False, suffix='.png')\n",
    "temp_image_file2.write(image_bytes2)\n",
    "temp_image_file2.close()\n",
    "\n",
    "# Create a new PDF document for the graph\n",
    "c2 = canvas.Canvas(temp_image_file2.name, pagesize=letter)\n",
    "c2.drawImage(temp_image_file2.name, 100, 1000, width=400, height=300)\n",
    "##\n",
    "# Save the PDF file\n",
    "c.save()\n",
    "\n",
    "print(f\"PDF file '{pdf_filename}' generated successfully with the Plotly graph appended.\")\n"
   ]
  },
  {
   "cell_type": "code",
   "execution_count": 14,
   "id": "1f4a6e8f",
   "metadata": {},
   "outputs": [
    {
     "name": "stdout",
     "output_type": "stream",
     "text": [
      "PDF file 'output_with_graph.pdf' generated successfully with the Plotly graph appended.\n"
     ]
    }
   ],
   "source": [
    "# Open an existing PDF file\n",
    "existing_pdf = \"output.pdf\"\n",
    "output_pdf = \"output_with_graph.pdf\"\n",
    "\n",
    "# Create a new PDF file with the existing content\n",
    "output = PdfWriter()\n",
    "input_pdf = PdfReader(open(existing_pdf, \"rb\"))\n",
    "output.add_page(input_pdf.pages[0])\n",
    "\n",
    "# Generate a sample Plotly graph\n",
    "fig = go.Figure(data=go.Scatter(x=[100, 200, 300, 400], y=[100, 200, 250, 300]))\n",
    "fig.update_layout(title='Second Sample Plotly Graph', xaxis_title='X-axis', yaxis_title='Y-axis')\n",
    "\n",
    "# Convert the Plotly graph to a static image\n",
    "image_bytes = pio.to_image(fig, format='png')\n",
    "\n",
    "# Save the image data to a temporary file\n",
    "temp_image_file = tempfile.NamedTemporaryFile(delete=False, suffix='.png')\n",
    "temp_image_file.write(image_bytes)\n",
    "temp_image_file.close()\n",
    "\n",
    "# Create a new PDF document for the graph\n",
    "c = canvas.Canvas(temp_image_file.name, pagesize=letter)\n",
    "c.drawImage(temp_image_file.name, 100, 1000, width=400, height=300)\n",
    "c.save()\n",
    "\n",
    "# Merge the existing PDF with the new content\n",
    "with open(output_pdf, \"wb\") as output_stream:\n",
    "    output.write(output_stream)\n",
    "\n",
    "print(f\"PDF file '{output_pdf}' generated successfully with the Plotly graph appended.\")"
   ]
  },
  {
   "cell_type": "code",
   "execution_count": 15,
   "id": "d0064163",
   "metadata": {},
   "outputs": [
    {
     "data": {
      "application/vnd.plotly.v1+json": {
       "config": {
        "plotlyServerURL": "https://plot.ly"
       },
       "data": [
        {
         "type": "scatter",
         "x": [
          100,
          200,
          300,
          400
         ],
         "y": [
          100,
          200,
          250,
          300
         ]
        }
       ],
       "layout": {
        "template": {
         "data": {
          "bar": [
           {
            "error_x": {
             "color": "#2a3f5f"
            },
            "error_y": {
             "color": "#2a3f5f"
            },
            "marker": {
             "line": {
              "color": "#E5ECF6",
              "width": 0.5
             },
             "pattern": {
              "fillmode": "overlay",
              "size": 10,
              "solidity": 0.2
             }
            },
            "type": "bar"
           }
          ],
          "barpolar": [
           {
            "marker": {
             "line": {
              "color": "#E5ECF6",
              "width": 0.5
             },
             "pattern": {
              "fillmode": "overlay",
              "size": 10,
              "solidity": 0.2
             }
            },
            "type": "barpolar"
           }
          ],
          "carpet": [
           {
            "aaxis": {
             "endlinecolor": "#2a3f5f",
             "gridcolor": "white",
             "linecolor": "white",
             "minorgridcolor": "white",
             "startlinecolor": "#2a3f5f"
            },
            "baxis": {
             "endlinecolor": "#2a3f5f",
             "gridcolor": "white",
             "linecolor": "white",
             "minorgridcolor": "white",
             "startlinecolor": "#2a3f5f"
            },
            "type": "carpet"
           }
          ],
          "choropleth": [
           {
            "colorbar": {
             "outlinewidth": 0,
             "ticks": ""
            },
            "type": "choropleth"
           }
          ],
          "contour": [
           {
            "colorbar": {
             "outlinewidth": 0,
             "ticks": ""
            },
            "colorscale": [
             [
              0,
              "#0d0887"
             ],
             [
              0.1111111111111111,
              "#46039f"
             ],
             [
              0.2222222222222222,
              "#7201a8"
             ],
             [
              0.3333333333333333,
              "#9c179e"
             ],
             [
              0.4444444444444444,
              "#bd3786"
             ],
             [
              0.5555555555555556,
              "#d8576b"
             ],
             [
              0.6666666666666666,
              "#ed7953"
             ],
             [
              0.7777777777777778,
              "#fb9f3a"
             ],
             [
              0.8888888888888888,
              "#fdca26"
             ],
             [
              1,
              "#f0f921"
             ]
            ],
            "type": "contour"
           }
          ],
          "contourcarpet": [
           {
            "colorbar": {
             "outlinewidth": 0,
             "ticks": ""
            },
            "type": "contourcarpet"
           }
          ],
          "heatmap": [
           {
            "colorbar": {
             "outlinewidth": 0,
             "ticks": ""
            },
            "colorscale": [
             [
              0,
              "#0d0887"
             ],
             [
              0.1111111111111111,
              "#46039f"
             ],
             [
              0.2222222222222222,
              "#7201a8"
             ],
             [
              0.3333333333333333,
              "#9c179e"
             ],
             [
              0.4444444444444444,
              "#bd3786"
             ],
             [
              0.5555555555555556,
              "#d8576b"
             ],
             [
              0.6666666666666666,
              "#ed7953"
             ],
             [
              0.7777777777777778,
              "#fb9f3a"
             ],
             [
              0.8888888888888888,
              "#fdca26"
             ],
             [
              1,
              "#f0f921"
             ]
            ],
            "type": "heatmap"
           }
          ],
          "heatmapgl": [
           {
            "colorbar": {
             "outlinewidth": 0,
             "ticks": ""
            },
            "colorscale": [
             [
              0,
              "#0d0887"
             ],
             [
              0.1111111111111111,
              "#46039f"
             ],
             [
              0.2222222222222222,
              "#7201a8"
             ],
             [
              0.3333333333333333,
              "#9c179e"
             ],
             [
              0.4444444444444444,
              "#bd3786"
             ],
             [
              0.5555555555555556,
              "#d8576b"
             ],
             [
              0.6666666666666666,
              "#ed7953"
             ],
             [
              0.7777777777777778,
              "#fb9f3a"
             ],
             [
              0.8888888888888888,
              "#fdca26"
             ],
             [
              1,
              "#f0f921"
             ]
            ],
            "type": "heatmapgl"
           }
          ],
          "histogram": [
           {
            "marker": {
             "pattern": {
              "fillmode": "overlay",
              "size": 10,
              "solidity": 0.2
             }
            },
            "type": "histogram"
           }
          ],
          "histogram2d": [
           {
            "colorbar": {
             "outlinewidth": 0,
             "ticks": ""
            },
            "colorscale": [
             [
              0,
              "#0d0887"
             ],
             [
              0.1111111111111111,
              "#46039f"
             ],
             [
              0.2222222222222222,
              "#7201a8"
             ],
             [
              0.3333333333333333,
              "#9c179e"
             ],
             [
              0.4444444444444444,
              "#bd3786"
             ],
             [
              0.5555555555555556,
              "#d8576b"
             ],
             [
              0.6666666666666666,
              "#ed7953"
             ],
             [
              0.7777777777777778,
              "#fb9f3a"
             ],
             [
              0.8888888888888888,
              "#fdca26"
             ],
             [
              1,
              "#f0f921"
             ]
            ],
            "type": "histogram2d"
           }
          ],
          "histogram2dcontour": [
           {
            "colorbar": {
             "outlinewidth": 0,
             "ticks": ""
            },
            "colorscale": [
             [
              0,
              "#0d0887"
             ],
             [
              0.1111111111111111,
              "#46039f"
             ],
             [
              0.2222222222222222,
              "#7201a8"
             ],
             [
              0.3333333333333333,
              "#9c179e"
             ],
             [
              0.4444444444444444,
              "#bd3786"
             ],
             [
              0.5555555555555556,
              "#d8576b"
             ],
             [
              0.6666666666666666,
              "#ed7953"
             ],
             [
              0.7777777777777778,
              "#fb9f3a"
             ],
             [
              0.8888888888888888,
              "#fdca26"
             ],
             [
              1,
              "#f0f921"
             ]
            ],
            "type": "histogram2dcontour"
           }
          ],
          "mesh3d": [
           {
            "colorbar": {
             "outlinewidth": 0,
             "ticks": ""
            },
            "type": "mesh3d"
           }
          ],
          "parcoords": [
           {
            "line": {
             "colorbar": {
              "outlinewidth": 0,
              "ticks": ""
             }
            },
            "type": "parcoords"
           }
          ],
          "pie": [
           {
            "automargin": true,
            "type": "pie"
           }
          ],
          "scatter": [
           {
            "fillpattern": {
             "fillmode": "overlay",
             "size": 10,
             "solidity": 0.2
            },
            "type": "scatter"
           }
          ],
          "scatter3d": [
           {
            "line": {
             "colorbar": {
              "outlinewidth": 0,
              "ticks": ""
             }
            },
            "marker": {
             "colorbar": {
              "outlinewidth": 0,
              "ticks": ""
             }
            },
            "type": "scatter3d"
           }
          ],
          "scattercarpet": [
           {
            "marker": {
             "colorbar": {
              "outlinewidth": 0,
              "ticks": ""
             }
            },
            "type": "scattercarpet"
           }
          ],
          "scattergeo": [
           {
            "marker": {
             "colorbar": {
              "outlinewidth": 0,
              "ticks": ""
             }
            },
            "type": "scattergeo"
           }
          ],
          "scattergl": [
           {
            "marker": {
             "colorbar": {
              "outlinewidth": 0,
              "ticks": ""
             }
            },
            "type": "scattergl"
           }
          ],
          "scattermapbox": [
           {
            "marker": {
             "colorbar": {
              "outlinewidth": 0,
              "ticks": ""
             }
            },
            "type": "scattermapbox"
           }
          ],
          "scatterpolar": [
           {
            "marker": {
             "colorbar": {
              "outlinewidth": 0,
              "ticks": ""
             }
            },
            "type": "scatterpolar"
           }
          ],
          "scatterpolargl": [
           {
            "marker": {
             "colorbar": {
              "outlinewidth": 0,
              "ticks": ""
             }
            },
            "type": "scatterpolargl"
           }
          ],
          "scatterternary": [
           {
            "marker": {
             "colorbar": {
              "outlinewidth": 0,
              "ticks": ""
             }
            },
            "type": "scatterternary"
           }
          ],
          "surface": [
           {
            "colorbar": {
             "outlinewidth": 0,
             "ticks": ""
            },
            "colorscale": [
             [
              0,
              "#0d0887"
             ],
             [
              0.1111111111111111,
              "#46039f"
             ],
             [
              0.2222222222222222,
              "#7201a8"
             ],
             [
              0.3333333333333333,
              "#9c179e"
             ],
             [
              0.4444444444444444,
              "#bd3786"
             ],
             [
              0.5555555555555556,
              "#d8576b"
             ],
             [
              0.6666666666666666,
              "#ed7953"
             ],
             [
              0.7777777777777778,
              "#fb9f3a"
             ],
             [
              0.8888888888888888,
              "#fdca26"
             ],
             [
              1,
              "#f0f921"
             ]
            ],
            "type": "surface"
           }
          ],
          "table": [
           {
            "cells": {
             "fill": {
              "color": "#EBF0F8"
             },
             "line": {
              "color": "white"
             }
            },
            "header": {
             "fill": {
              "color": "#C8D4E3"
             },
             "line": {
              "color": "white"
             }
            },
            "type": "table"
           }
          ]
         },
         "layout": {
          "annotationdefaults": {
           "arrowcolor": "#2a3f5f",
           "arrowhead": 0,
           "arrowwidth": 1
          },
          "autotypenumbers": "strict",
          "coloraxis": {
           "colorbar": {
            "outlinewidth": 0,
            "ticks": ""
           }
          },
          "colorscale": {
           "diverging": [
            [
             0,
             "#8e0152"
            ],
            [
             0.1,
             "#c51b7d"
            ],
            [
             0.2,
             "#de77ae"
            ],
            [
             0.3,
             "#f1b6da"
            ],
            [
             0.4,
             "#fde0ef"
            ],
            [
             0.5,
             "#f7f7f7"
            ],
            [
             0.6,
             "#e6f5d0"
            ],
            [
             0.7,
             "#b8e186"
            ],
            [
             0.8,
             "#7fbc41"
            ],
            [
             0.9,
             "#4d9221"
            ],
            [
             1,
             "#276419"
            ]
           ],
           "sequential": [
            [
             0,
             "#0d0887"
            ],
            [
             0.1111111111111111,
             "#46039f"
            ],
            [
             0.2222222222222222,
             "#7201a8"
            ],
            [
             0.3333333333333333,
             "#9c179e"
            ],
            [
             0.4444444444444444,
             "#bd3786"
            ],
            [
             0.5555555555555556,
             "#d8576b"
            ],
            [
             0.6666666666666666,
             "#ed7953"
            ],
            [
             0.7777777777777778,
             "#fb9f3a"
            ],
            [
             0.8888888888888888,
             "#fdca26"
            ],
            [
             1,
             "#f0f921"
            ]
           ],
           "sequentialminus": [
            [
             0,
             "#0d0887"
            ],
            [
             0.1111111111111111,
             "#46039f"
            ],
            [
             0.2222222222222222,
             "#7201a8"
            ],
            [
             0.3333333333333333,
             "#9c179e"
            ],
            [
             0.4444444444444444,
             "#bd3786"
            ],
            [
             0.5555555555555556,
             "#d8576b"
            ],
            [
             0.6666666666666666,
             "#ed7953"
            ],
            [
             0.7777777777777778,
             "#fb9f3a"
            ],
            [
             0.8888888888888888,
             "#fdca26"
            ],
            [
             1,
             "#f0f921"
            ]
           ]
          },
          "colorway": [
           "#636efa",
           "#EF553B",
           "#00cc96",
           "#ab63fa",
           "#FFA15A",
           "#19d3f3",
           "#FF6692",
           "#B6E880",
           "#FF97FF",
           "#FECB52"
          ],
          "font": {
           "color": "#2a3f5f"
          },
          "geo": {
           "bgcolor": "white",
           "lakecolor": "white",
           "landcolor": "#E5ECF6",
           "showlakes": true,
           "showland": true,
           "subunitcolor": "white"
          },
          "hoverlabel": {
           "align": "left"
          },
          "hovermode": "closest",
          "mapbox": {
           "style": "light"
          },
          "paper_bgcolor": "white",
          "plot_bgcolor": "#E5ECF6",
          "polar": {
           "angularaxis": {
            "gridcolor": "white",
            "linecolor": "white",
            "ticks": ""
           },
           "bgcolor": "#E5ECF6",
           "radialaxis": {
            "gridcolor": "white",
            "linecolor": "white",
            "ticks": ""
           }
          },
          "scene": {
           "xaxis": {
            "backgroundcolor": "#E5ECF6",
            "gridcolor": "white",
            "gridwidth": 2,
            "linecolor": "white",
            "showbackground": true,
            "ticks": "",
            "zerolinecolor": "white"
           },
           "yaxis": {
            "backgroundcolor": "#E5ECF6",
            "gridcolor": "white",
            "gridwidth": 2,
            "linecolor": "white",
            "showbackground": true,
            "ticks": "",
            "zerolinecolor": "white"
           },
           "zaxis": {
            "backgroundcolor": "#E5ECF6",
            "gridcolor": "white",
            "gridwidth": 2,
            "linecolor": "white",
            "showbackground": true,
            "ticks": "",
            "zerolinecolor": "white"
           }
          },
          "shapedefaults": {
           "line": {
            "color": "#2a3f5f"
           }
          },
          "ternary": {
           "aaxis": {
            "gridcolor": "white",
            "linecolor": "white",
            "ticks": ""
           },
           "baxis": {
            "gridcolor": "white",
            "linecolor": "white",
            "ticks": ""
           },
           "bgcolor": "#E5ECF6",
           "caxis": {
            "gridcolor": "white",
            "linecolor": "white",
            "ticks": ""
           }
          },
          "title": {
           "x": 0.05
          },
          "xaxis": {
           "automargin": true,
           "gridcolor": "white",
           "linecolor": "white",
           "ticks": "",
           "title": {
            "standoff": 15
           },
           "zerolinecolor": "white",
           "zerolinewidth": 2
          },
          "yaxis": {
           "automargin": true,
           "gridcolor": "white",
           "linecolor": "white",
           "ticks": "",
           "title": {
            "standoff": 15
           },
           "zerolinecolor": "white",
           "zerolinewidth": 2
          }
         }
        },
        "title": {
         "text": "Second Sample Plotly Graph"
        },
        "xaxis": {
         "title": {
          "text": "X-axis"
         }
        },
        "yaxis": {
         "title": {
          "text": "Y-axis"
         }
        }
       }
      },
      "text/html": [
       "<div>                            <div id=\"e4d2ca69-79ae-4d79-895b-f6df457114d4\" class=\"plotly-graph-div\" style=\"height:525px; width:100%;\"></div>            <script type=\"text/javascript\">                require([\"plotly\"], function(Plotly) {                    window.PLOTLYENV=window.PLOTLYENV || {};                                    if (document.getElementById(\"e4d2ca69-79ae-4d79-895b-f6df457114d4\")) {                    Plotly.newPlot(                        \"e4d2ca69-79ae-4d79-895b-f6df457114d4\",                        [{\"x\":[100,200,300,400],\"y\":[100,200,250,300],\"type\":\"scatter\"}],                        {\"template\":{\"data\":{\"histogram2dcontour\":[{\"type\":\"histogram2dcontour\",\"colorbar\":{\"outlinewidth\":0,\"ticks\":\"\"},\"colorscale\":[[0.0,\"#0d0887\"],[0.1111111111111111,\"#46039f\"],[0.2222222222222222,\"#7201a8\"],[0.3333333333333333,\"#9c179e\"],[0.4444444444444444,\"#bd3786\"],[0.5555555555555556,\"#d8576b\"],[0.6666666666666666,\"#ed7953\"],[0.7777777777777778,\"#fb9f3a\"],[0.8888888888888888,\"#fdca26\"],[1.0,\"#f0f921\"]]}],\"choropleth\":[{\"type\":\"choropleth\",\"colorbar\":{\"outlinewidth\":0,\"ticks\":\"\"}}],\"histogram2d\":[{\"type\":\"histogram2d\",\"colorbar\":{\"outlinewidth\":0,\"ticks\":\"\"},\"colorscale\":[[0.0,\"#0d0887\"],[0.1111111111111111,\"#46039f\"],[0.2222222222222222,\"#7201a8\"],[0.3333333333333333,\"#9c179e\"],[0.4444444444444444,\"#bd3786\"],[0.5555555555555556,\"#d8576b\"],[0.6666666666666666,\"#ed7953\"],[0.7777777777777778,\"#fb9f3a\"],[0.8888888888888888,\"#fdca26\"],[1.0,\"#f0f921\"]]}],\"heatmap\":[{\"type\":\"heatmap\",\"colorbar\":{\"outlinewidth\":0,\"ticks\":\"\"},\"colorscale\":[[0.0,\"#0d0887\"],[0.1111111111111111,\"#46039f\"],[0.2222222222222222,\"#7201a8\"],[0.3333333333333333,\"#9c179e\"],[0.4444444444444444,\"#bd3786\"],[0.5555555555555556,\"#d8576b\"],[0.6666666666666666,\"#ed7953\"],[0.7777777777777778,\"#fb9f3a\"],[0.8888888888888888,\"#fdca26\"],[1.0,\"#f0f921\"]]}],\"heatmapgl\":[{\"type\":\"heatmapgl\",\"colorbar\":{\"outlinewidth\":0,\"ticks\":\"\"},\"colorscale\":[[0.0,\"#0d0887\"],[0.1111111111111111,\"#46039f\"],[0.2222222222222222,\"#7201a8\"],[0.3333333333333333,\"#9c179e\"],[0.4444444444444444,\"#bd3786\"],[0.5555555555555556,\"#d8576b\"],[0.6666666666666666,\"#ed7953\"],[0.7777777777777778,\"#fb9f3a\"],[0.8888888888888888,\"#fdca26\"],[1.0,\"#f0f921\"]]}],\"contourcarpet\":[{\"type\":\"contourcarpet\",\"colorbar\":{\"outlinewidth\":0,\"ticks\":\"\"}}],\"contour\":[{\"type\":\"contour\",\"colorbar\":{\"outlinewidth\":0,\"ticks\":\"\"},\"colorscale\":[[0.0,\"#0d0887\"],[0.1111111111111111,\"#46039f\"],[0.2222222222222222,\"#7201a8\"],[0.3333333333333333,\"#9c179e\"],[0.4444444444444444,\"#bd3786\"],[0.5555555555555556,\"#d8576b\"],[0.6666666666666666,\"#ed7953\"],[0.7777777777777778,\"#fb9f3a\"],[0.8888888888888888,\"#fdca26\"],[1.0,\"#f0f921\"]]}],\"surface\":[{\"type\":\"surface\",\"colorbar\":{\"outlinewidth\":0,\"ticks\":\"\"},\"colorscale\":[[0.0,\"#0d0887\"],[0.1111111111111111,\"#46039f\"],[0.2222222222222222,\"#7201a8\"],[0.3333333333333333,\"#9c179e\"],[0.4444444444444444,\"#bd3786\"],[0.5555555555555556,\"#d8576b\"],[0.6666666666666666,\"#ed7953\"],[0.7777777777777778,\"#fb9f3a\"],[0.8888888888888888,\"#fdca26\"],[1.0,\"#f0f921\"]]}],\"mesh3d\":[{\"type\":\"mesh3d\",\"colorbar\":{\"outlinewidth\":0,\"ticks\":\"\"}}],\"scatter\":[{\"fillpattern\":{\"fillmode\":\"overlay\",\"size\":10,\"solidity\":0.2},\"type\":\"scatter\"}],\"parcoords\":[{\"type\":\"parcoords\",\"line\":{\"colorbar\":{\"outlinewidth\":0,\"ticks\":\"\"}}}],\"scatterpolargl\":[{\"type\":\"scatterpolargl\",\"marker\":{\"colorbar\":{\"outlinewidth\":0,\"ticks\":\"\"}}}],\"bar\":[{\"error_x\":{\"color\":\"#2a3f5f\"},\"error_y\":{\"color\":\"#2a3f5f\"},\"marker\":{\"line\":{\"color\":\"#E5ECF6\",\"width\":0.5},\"pattern\":{\"fillmode\":\"overlay\",\"size\":10,\"solidity\":0.2}},\"type\":\"bar\"}],\"scattergeo\":[{\"type\":\"scattergeo\",\"marker\":{\"colorbar\":{\"outlinewidth\":0,\"ticks\":\"\"}}}],\"scatterpolar\":[{\"type\":\"scatterpolar\",\"marker\":{\"colorbar\":{\"outlinewidth\":0,\"ticks\":\"\"}}}],\"histogram\":[{\"marker\":{\"pattern\":{\"fillmode\":\"overlay\",\"size\":10,\"solidity\":0.2}},\"type\":\"histogram\"}],\"scattergl\":[{\"type\":\"scattergl\",\"marker\":{\"colorbar\":{\"outlinewidth\":0,\"ticks\":\"\"}}}],\"scatter3d\":[{\"type\":\"scatter3d\",\"line\":{\"colorbar\":{\"outlinewidth\":0,\"ticks\":\"\"}},\"marker\":{\"colorbar\":{\"outlinewidth\":0,\"ticks\":\"\"}}}],\"scattermapbox\":[{\"type\":\"scattermapbox\",\"marker\":{\"colorbar\":{\"outlinewidth\":0,\"ticks\":\"\"}}}],\"scatterternary\":[{\"type\":\"scatterternary\",\"marker\":{\"colorbar\":{\"outlinewidth\":0,\"ticks\":\"\"}}}],\"scattercarpet\":[{\"type\":\"scattercarpet\",\"marker\":{\"colorbar\":{\"outlinewidth\":0,\"ticks\":\"\"}}}],\"carpet\":[{\"aaxis\":{\"endlinecolor\":\"#2a3f5f\",\"gridcolor\":\"white\",\"linecolor\":\"white\",\"minorgridcolor\":\"white\",\"startlinecolor\":\"#2a3f5f\"},\"baxis\":{\"endlinecolor\":\"#2a3f5f\",\"gridcolor\":\"white\",\"linecolor\":\"white\",\"minorgridcolor\":\"white\",\"startlinecolor\":\"#2a3f5f\"},\"type\":\"carpet\"}],\"table\":[{\"cells\":{\"fill\":{\"color\":\"#EBF0F8\"},\"line\":{\"color\":\"white\"}},\"header\":{\"fill\":{\"color\":\"#C8D4E3\"},\"line\":{\"color\":\"white\"}},\"type\":\"table\"}],\"barpolar\":[{\"marker\":{\"line\":{\"color\":\"#E5ECF6\",\"width\":0.5},\"pattern\":{\"fillmode\":\"overlay\",\"size\":10,\"solidity\":0.2}},\"type\":\"barpolar\"}],\"pie\":[{\"automargin\":true,\"type\":\"pie\"}]},\"layout\":{\"autotypenumbers\":\"strict\",\"colorway\":[\"#636efa\",\"#EF553B\",\"#00cc96\",\"#ab63fa\",\"#FFA15A\",\"#19d3f3\",\"#FF6692\",\"#B6E880\",\"#FF97FF\",\"#FECB52\"],\"font\":{\"color\":\"#2a3f5f\"},\"hovermode\":\"closest\",\"hoverlabel\":{\"align\":\"left\"},\"paper_bgcolor\":\"white\",\"plot_bgcolor\":\"#E5ECF6\",\"polar\":{\"bgcolor\":\"#E5ECF6\",\"angularaxis\":{\"gridcolor\":\"white\",\"linecolor\":\"white\",\"ticks\":\"\"},\"radialaxis\":{\"gridcolor\":\"white\",\"linecolor\":\"white\",\"ticks\":\"\"}},\"ternary\":{\"bgcolor\":\"#E5ECF6\",\"aaxis\":{\"gridcolor\":\"white\",\"linecolor\":\"white\",\"ticks\":\"\"},\"baxis\":{\"gridcolor\":\"white\",\"linecolor\":\"white\",\"ticks\":\"\"},\"caxis\":{\"gridcolor\":\"white\",\"linecolor\":\"white\",\"ticks\":\"\"}},\"coloraxis\":{\"colorbar\":{\"outlinewidth\":0,\"ticks\":\"\"}},\"colorscale\":{\"sequential\":[[0.0,\"#0d0887\"],[0.1111111111111111,\"#46039f\"],[0.2222222222222222,\"#7201a8\"],[0.3333333333333333,\"#9c179e\"],[0.4444444444444444,\"#bd3786\"],[0.5555555555555556,\"#d8576b\"],[0.6666666666666666,\"#ed7953\"],[0.7777777777777778,\"#fb9f3a\"],[0.8888888888888888,\"#fdca26\"],[1.0,\"#f0f921\"]],\"sequentialminus\":[[0.0,\"#0d0887\"],[0.1111111111111111,\"#46039f\"],[0.2222222222222222,\"#7201a8\"],[0.3333333333333333,\"#9c179e\"],[0.4444444444444444,\"#bd3786\"],[0.5555555555555556,\"#d8576b\"],[0.6666666666666666,\"#ed7953\"],[0.7777777777777778,\"#fb9f3a\"],[0.8888888888888888,\"#fdca26\"],[1.0,\"#f0f921\"]],\"diverging\":[[0,\"#8e0152\"],[0.1,\"#c51b7d\"],[0.2,\"#de77ae\"],[0.3,\"#f1b6da\"],[0.4,\"#fde0ef\"],[0.5,\"#f7f7f7\"],[0.6,\"#e6f5d0\"],[0.7,\"#b8e186\"],[0.8,\"#7fbc41\"],[0.9,\"#4d9221\"],[1,\"#276419\"]]},\"xaxis\":{\"gridcolor\":\"white\",\"linecolor\":\"white\",\"ticks\":\"\",\"title\":{\"standoff\":15},\"zerolinecolor\":\"white\",\"automargin\":true,\"zerolinewidth\":2},\"yaxis\":{\"gridcolor\":\"white\",\"linecolor\":\"white\",\"ticks\":\"\",\"title\":{\"standoff\":15},\"zerolinecolor\":\"white\",\"automargin\":true,\"zerolinewidth\":2},\"scene\":{\"xaxis\":{\"backgroundcolor\":\"#E5ECF6\",\"gridcolor\":\"white\",\"linecolor\":\"white\",\"showbackground\":true,\"ticks\":\"\",\"zerolinecolor\":\"white\",\"gridwidth\":2},\"yaxis\":{\"backgroundcolor\":\"#E5ECF6\",\"gridcolor\":\"white\",\"linecolor\":\"white\",\"showbackground\":true,\"ticks\":\"\",\"zerolinecolor\":\"white\",\"gridwidth\":2},\"zaxis\":{\"backgroundcolor\":\"#E5ECF6\",\"gridcolor\":\"white\",\"linecolor\":\"white\",\"showbackground\":true,\"ticks\":\"\",\"zerolinecolor\":\"white\",\"gridwidth\":2}},\"shapedefaults\":{\"line\":{\"color\":\"#2a3f5f\"}},\"annotationdefaults\":{\"arrowcolor\":\"#2a3f5f\",\"arrowhead\":0,\"arrowwidth\":1},\"geo\":{\"bgcolor\":\"white\",\"landcolor\":\"#E5ECF6\",\"subunitcolor\":\"white\",\"showland\":true,\"showlakes\":true,\"lakecolor\":\"white\"},\"title\":{\"x\":0.05},\"mapbox\":{\"style\":\"light\"}}},\"title\":{\"text\":\"Second Sample Plotly Graph\"},\"xaxis\":{\"title\":{\"text\":\"X-axis\"}},\"yaxis\":{\"title\":{\"text\":\"Y-axis\"}}},                        {\"responsive\": true}                    ).then(function(){\n",
       "                            \n",
       "var gd = document.getElementById('e4d2ca69-79ae-4d79-895b-f6df457114d4');\n",
       "var x = new MutationObserver(function (mutations, observer) {{\n",
       "        var display = window.getComputedStyle(gd).display;\n",
       "        if (!display || display === 'none') {{\n",
       "            console.log([gd, 'removed!']);\n",
       "            Plotly.purge(gd);\n",
       "            observer.disconnect();\n",
       "        }}\n",
       "}});\n",
       "\n",
       "// Listen for the removal of the full notebook cells\n",
       "var notebookContainer = gd.closest('#notebook-container');\n",
       "if (notebookContainer) {{\n",
       "    x.observe(notebookContainer, {childList: true});\n",
       "}}\n",
       "\n",
       "// Listen for the clearing of the current output cell\n",
       "var outputEl = gd.closest('.output');\n",
       "if (outputEl) {{\n",
       "    x.observe(outputEl, {childList: true});\n",
       "}}\n",
       "\n",
       "                        })                };                });            </script>        </div>"
      ]
     },
     "metadata": {},
     "output_type": "display_data"
    }
   ],
   "source": [
    "fig"
   ]
  },
  {
   "cell_type": "code",
   "execution_count": 29,
   "id": "47261072",
   "metadata": {},
   "outputs": [
    {
     "ename": "AttributeError",
     "evalue": "type object 'PageObject' has no attribute 'createFormXObject'",
     "output_type": "error",
     "traceback": [
      "\u001b[0;31m---------------------------------------------------------------------------\u001b[0m",
      "\u001b[0;31mAttributeError\u001b[0m                            Traceback (most recent call last)",
      "\u001b[0;32m/tmp/ipykernel_4987/2391251040.py\u001b[0m in \u001b[0;36m<cell line: 21>\u001b[0;34m()\u001b[0m\n\u001b[1;32m     31\u001b[0m \u001b[0;34m\u001b[0m\u001b[0m\n\u001b[1;32m     32\u001b[0m     \u001b[0mpage\u001b[0m \u001b[0;34m=\u001b[0m \u001b[0mPageObject\u001b[0m\u001b[0;34m.\u001b[0m\u001b[0mcreate_blank_page\u001b[0m\u001b[0;34m(\u001b[0m\u001b[0mwidth\u001b[0m\u001b[0;34m=\u001b[0m\u001b[0mletter\u001b[0m\u001b[0;34m[\u001b[0m\u001b[0;36m0\u001b[0m\u001b[0;34m]\u001b[0m\u001b[0;34m,\u001b[0m \u001b[0mheight\u001b[0m\u001b[0;34m=\u001b[0m\u001b[0mletter\u001b[0m\u001b[0;34m[\u001b[0m\u001b[0;36m1\u001b[0m\u001b[0;34m]\u001b[0m\u001b[0;34m)\u001b[0m\u001b[0;34m\u001b[0m\u001b[0;34m\u001b[0m\u001b[0m\n\u001b[0;32m---> 33\u001b[0;31m     \u001b[0mpage\u001b[0m\u001b[0;34m.\u001b[0m\u001b[0mmerge_page\u001b[0m\u001b[0;34m(\u001b[0m\u001b[0mPageObject\u001b[0m\u001b[0;34m.\u001b[0m\u001b[0mcreateFormXObject\u001b[0m\u001b[0;34m(\u001b[0m\u001b[0mc\u001b[0m\u001b[0;34m)\u001b[0m\u001b[0;34m)\u001b[0m\u001b[0;34m\u001b[0m\u001b[0;34m\u001b[0m\u001b[0m\n\u001b[0m\u001b[1;32m     34\u001b[0m     \u001b[0moutput\u001b[0m\u001b[0;34m.\u001b[0m\u001b[0madd_page\u001b[0m\u001b[0;34m(\u001b[0m\u001b[0mpage\u001b[0m\u001b[0;34m)\u001b[0m\u001b[0;34m\u001b[0m\u001b[0;34m\u001b[0m\u001b[0m\n\u001b[1;32m     35\u001b[0m \u001b[0;34m\u001b[0m\u001b[0m\n",
      "\u001b[0;31mAttributeError\u001b[0m: type object 'PageObject' has no attribute 'createFormXObject'"
     ]
    }
   ],
   "source": [
    "from PyPDF2 import PdfWriter\n",
    "from reportlab.pdfgen import canvas\n",
    "from reportlab.lib.pagesizes import letter\n",
    "import plotly.graph_objects as go\n",
    "import plotly.io as pio\n",
    "import tempfile\n",
    "from PyPDF2 import PageObject\n",
    "\n",
    "# Create a new PDF file\n",
    "output_pdf = \"output_with_graphs.pdf\"\n",
    "output = PdfWriter()\n",
    "\n",
    "# Generate multiple sample Plotly graphs\n",
    "graphs = [\n",
    "    go.Figure(data=go.Scatter(x=[1, 2, 3, 4], y=[10, 20, 25, 30])),\n",
    "    go.Figure(data=go.Bar(x=['A', 'B', 'C'], y=[10, 20, 30])),\n",
    "    go.Figure(data=go.Pie(labels=['A', 'B', 'C'], values=[30, 40, 30]))\n",
    "]\n",
    "\n",
    "# Convert each Plotly graph to a static image and save to PDF\n",
    "for idx, fig in enumerate(graphs):\n",
    "    image_bytes = pio.to_image(fig, format='png')\n",
    "\n",
    "    temp_image_file = tempfile.NamedTemporaryFile(delete=False, suffix='.png')\n",
    "    temp_image_file.write(image_bytes)\n",
    "    temp_image_file.close()\n",
    "\n",
    "    c = canvas.Canvas(temp_image_file.name, pagesize=letter)\n",
    "    c.drawImage(temp_image_file.name, 100, 500, width=400, height=300)\n",
    "    c.save()\n",
    "\n",
    "    page = PageObject.create_blank_page(width=595, height=842)\n",
    "    page.insert_page(page)\n",
    "    output.add_page(page)\n",
    "\n",
    "# Save the multi-page PDF with graphs\n",
    "with open(output_pdf, \"wb\") as output_stream:\n",
    "    output.write(output_stream)\n",
    "\n",
    "print(f\"PDF file '{output_pdf}' generated successfully with multiple graphs.\")"
   ]
  },
  {
   "cell_type": "code",
   "execution_count": 19,
   "id": "78cb3d4d",
   "metadata": {},
   "outputs": [
    {
     "data": {
      "text/plain": [
       "<reportlab.pdfgen.canvas.Canvas at 0x7a321335f8b0>"
      ]
     },
     "execution_count": 19,
     "metadata": {},
     "output_type": "execute_result"
    }
   ],
   "source": [
    "c"
   ]
  },
  {
   "cell_type": "code",
   "execution_count": 11,
   "id": "47aae9e7",
   "metadata": {},
   "outputs": [],
   "source": [
    "now=OccurrenceType.objects.get(name='Luan Classe Teste 1')\n",
    "nowf=now.form_fields['fields']\n",
    "last=now.history.all().order_by('-history_date')[1].form_fields['fields']"
   ]
  },
  {
   "cell_type": "code",
   "execution_count": 12,
   "id": "e15eeebf",
   "metadata": {},
   "outputs": [],
   "source": [
    "def comparar_lista_de_json(lista1, lista2):\n",
    "    diff_list = []\n",
    "\n",
    "    for i in range(min(len(lista1), len(lista2))):\n",
    "        json1 = lista1[i]\n",
    "        json2 = lista2[i]\n",
    "\n",
    "        for key in json1:\n",
    "            if key in json2:\n",
    "                if json1[key] != json2[key]:\n",
    "                    diff_list.append((i, key, json1[key], json2[key]))\n",
    "            else:\n",
    "                diff_list.append((i, key, json1[key], None))\n",
    "\n",
    "        for key in json2:\n",
    "            if key not in json1:\n",
    "                diff_list.append((i, key, None, json2[key]))\n",
    "\n",
    "    return diff_list"
   ]
  },
  {
   "cell_type": "code",
   "execution_count": 13,
   "id": "208f86f4",
   "metadata": {},
   "outputs": [
    {
     "data": {
      "text/plain": [
       "[(0, 'displayName', 'Código de Edital1', 'Código de Edital')]"
      ]
     },
     "execution_count": 13,
     "metadata": {},
     "output_type": "execute_result"
    }
   ],
   "source": [
    "comparar_lista_de_json(nowf, last)"
   ]
  },
  {
   "cell_type": "code",
   "execution_count": 15,
   "id": "b6bc4407",
   "metadata": {},
   "outputs": [
    {
     "data": {
      "text/plain": [
       "{0: {'displayName': ['Código de Edital1', 'Código de Edital']}}"
      ]
     },
     "execution_count": 15,
     "metadata": {},
     "output_type": "execute_result"
    }
   ],
   "source": [
    "from jsondiff import diff\n",
    "diff(nowf, last, syntax='symmetric')"
   ]
  },
  {
   "cell_type": "code",
   "execution_count": null,
   "id": "5ef95c1a",
   "metadata": {},
   "outputs": [],
   "source": []
  }
 ],
 "metadata": {
  "kernelspec": {
   "display_name": "Django Shell-Plus",
   "language": "python",
   "name": "django_extensions"
  },
  "language_info": {
   "codemirror_mode": {
    "name": "ipython",
    "version": 3
   },
   "file_extension": ".py",
   "mimetype": "text/x-python",
   "name": "python",
   "nbconvert_exporter": "python",
   "pygments_lexer": "ipython3",
   "version": "3.8.16"
  }
 },
 "nbformat": 4,
 "nbformat_minor": 5
}
