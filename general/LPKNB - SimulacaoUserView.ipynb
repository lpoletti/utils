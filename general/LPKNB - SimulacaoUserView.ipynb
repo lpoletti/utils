{
 "cells": [
  {
   "cell_type": "markdown",
   "id": "7c1e085b",
   "metadata": {},
   "source": [
    "# SIMULAÇÃO DE VISUALIZAÇÃO DO USUÁRIO"
   ]
  },
  {
   "cell_type": "code",
   "execution_count": 1,
   "id": "b00499a4",
   "metadata": {},
   "outputs": [
    {
     "data": {
      "text/plain": [
       "<Company: 31938021-6b32-461b-821c-4759a5016441: Arteris Fernão Dias - Conserva>"
      ]
     },
     "execution_count": 1,
     "metadata": {},
     "output_type": "execute_result"
    }
   ],
   "source": [
    "company = Company.objects.filter(name__iexact=\"Arteris Fernão Dias - Conserva\").first()\n",
    "company"
   ]
  },
  {
   "cell_type": "code",
   "execution_count": 2,
   "id": "1c7ea657",
   "metadata": {},
   "outputs": [
    {
     "data": {
      "text/plain": [
       "<User: rodolfo.rodrigues - Rodolfo Rodrigues>"
      ]
     },
     "execution_count": 2,
     "metadata": {},
     "output_type": "execute_result"
    }
   ],
   "source": [
    "user = User.objects.get(username=\"rodolfo.rodrigues\")\n",
    "user"
   ]
  },
  {
   "cell_type": "markdown",
   "id": "180c3a34",
   "metadata": {},
   "source": [
    "### EQUIPES DO USUÁRIO"
   ]
  },
  {
   "cell_type": "code",
   "execution_count": 3,
   "id": "ee2c1397",
   "metadata": {},
   "outputs": [
    {
     "data": {
      "text/plain": [
       "[<Firm: [31938021-6b32-461b-821c-4759a5016441: Arteris Fernão Dias - Conserva] 47f332db-6b9e-4e2a-b745-ff5fdac561ca: Multifuncional - Lote 01>,\n",
       " <Firm: [31938021-6b32-461b-821c-4759a5016441: Arteris Fernão Dias - Conserva] 41626a9b-c1a9-4771-8f3a-02723d632dab: Lote 01 - Varrição Mecânica>,\n",
       " <Firm: [31938021-6b32-461b-821c-4759a5016441: Arteris Fernão Dias - Conserva] bf5633dc-21c4-439a-925c-326b1372d8e5: Roçada Central Igarapé - Lote 01>,\n",
       " <Firm: [31938021-6b32-461b-821c-4759a5016441: Arteris Fernão Dias - Conserva] 5d9f9e8b-606a-40fb-8063-f5f177d228d1: Lote 01 – Roçada Lateral Perdões>,\n",
       " <Firm: [31938021-6b32-461b-821c-4759a5016441: Arteris Fernão Dias - Conserva] 3a160816-6e72-42a8-b543-08c095504937: Varrição - Lote 01>,\n",
       " <Firm: [31938021-6b32-461b-821c-4759a5016441: Arteris Fernão Dias - Conserva] f3b9ee1a-1d28-455e-9b04-f52c0b84f767: 29200 - Marajó (Guarda-Chuva)>,\n",
       " <Firm: [31938021-6b32-461b-821c-4759a5016441: Arteris Fernão Dias - Conserva] 3bf15b55-880d-4f83-9b12-2cb9e4439c6f: Roçada Avançada 05 - Lote 01>,\n",
       " <Firm: [31938021-6b32-461b-821c-4759a5016441: Arteris Fernão Dias - Conserva] 87c5a222-1a75-4667-8142-58fc96dc4141: Lote 01 - Roçada Lateral 02 Perdões>,\n",
       " <Firm: [31938021-6b32-461b-821c-4759a5016441: Arteris Fernão Dias - Conserva] c64c95f4-ad4e-4c14-8bd2-d3c4d2bb44b9: Lote 01 – Roçada Lateral Igarapé>,\n",
       " <Firm: [31938021-6b32-461b-821c-4759a5016441: Arteris Fernão Dias - Conserva] 61544ea7-d7c7-47f6-84cc-e4dd305248d9: Lote 01 - Multifuncional Igarapé>,\n",
       " <Firm: [31938021-6b32-461b-821c-4759a5016441: Arteris Fernão Dias - Conserva] 1ab89ec7-e49a-44ae-a79b-2d0c81950f5d: Terrapleno - Lote 01>,\n",
       " <Firm: [31938021-6b32-461b-821c-4759a5016441: Arteris Fernão Dias - Conserva] 4e92bde9-6b2b-42e9-a4d9-342a6caa0318: Lote 01 – Roçada Central Perdões>,\n",
       " <Firm: [31938021-6b32-461b-821c-4759a5016441: Arteris Fernão Dias - Conserva] e7e6dfec-954b-44de-9a35-09ed96572890: Lote 01 - Roçada Avançada  Igarapé>,\n",
       " <Firm: [31938021-6b32-461b-821c-4759a5016441: Arteris Fernão Dias - Conserva] aca4bcf8-b83a-48eb-919f-df475b84eabe: Lote 01 - Emergencial>,\n",
       " <Firm: [31938021-6b32-461b-821c-4759a5016441: Arteris Fernão Dias - Conserva] 81fea6c3-437e-4ea8-8e50-e115db201f83: Lote 01 - Multifuncional Perdões>,\n",
       " <Firm: [31938021-6b32-461b-821c-4759a5016441: Arteris Fernão Dias - Conserva] 56408054-06b4-4366-9bde-03dee5a3c1e7: Roçada Avançada 01 - Lote 01>,\n",
       " <Firm: [31938021-6b32-461b-821c-4759a5016441: Arteris Fernão Dias - Conserva] 259effe8-5eca-4389-b609-e16a16a71eed: Roçada Avançada 02 - Lote 01>,\n",
       " <Firm: [31938021-6b32-461b-821c-4759a5016441: Arteris Fernão Dias - Conserva] c4d2bf37-c545-4db9-8592-d24c43cb2709: Monitoração de OAE - Nuno Lev>,\n",
       " <Firm: [31938021-6b32-461b-821c-4759a5016441: Arteris Fernão Dias - Conserva] 503a6b76-698d-49a8-b97a-1b703c517f40: Emergencial - Lote 01>,\n",
       " <Firm: [31938021-6b32-461b-821c-4759a5016441: Arteris Fernão Dias - Conserva] a81a2704-15c6-41e4-9983-09b5555a150f: Lote 01 - Equipe Defensa Igarapé>,\n",
       " <Firm: [31938021-6b32-461b-821c-4759a5016441: Arteris Fernão Dias - Conserva] 7e87ee1a-567b-4fe5-84bc-1f0801578298: Limpeza de Fx Domínio>,\n",
       " <Firm: [31938021-6b32-461b-821c-4759a5016441: Arteris Fernão Dias - Conserva] 027418bb-b47e-46c4-a8be-5d1db4c47cd1: Lote 01 - Limpeza de Placas Perdões>,\n",
       " <Firm: [31938021-6b32-461b-821c-4759a5016441: Arteris Fernão Dias - Conserva] 87b0f1ba-a824-4d2a-8021-4a72d6f53e4a: Roçada Lateral Igarapé - Lote 01>,\n",
       " <Firm: [31938021-6b32-461b-821c-4759a5016441: Arteris Fernão Dias - Conserva] 9150446e-9259-4dcd-80c3-df92b16adb0c: Lote 01 – Roçada Central Igarapé>,\n",
       " <Firm: [31938021-6b32-461b-821c-4759a5016441: Arteris Fernão Dias - Conserva] f5cb930f-5e88-4b39-8f08-22a9ad810259: Lote 01 - Roçada Avançada Perdões>,\n",
       " <Firm: [31938021-6b32-461b-821c-4759a5016441: Arteris Fernão Dias - Conserva] 2e7974cd-8274-4d40-80b3-20a69c785a16: Hidrossemeadura - Lote 01>]"
      ]
     },
     "execution_count": 3,
     "metadata": {},
     "output_type": "execute_result"
    }
   ],
   "source": [
    "user_firms = list((user.user_firms.all()).union(\n",
    "                    user.user_firms_manager.all()))\n",
    "            \n",
    "user_firms"
   ]
  },
  {
   "cell_type": "markdown",
   "id": "53dcd81f",
   "metadata": {},
   "source": [
    "### VISUALIZAÇÃO DAS PROGRAMAÇÕES QUE O USUÁRIO PODE VER\n",
    "##### POR COMPANY, \n",
    "##### ONDE O USUÁRIO POSSA SER RESPONSÁVEL PELA PROGRAMAÇÃO OU\n",
    "##### CRIADOR DA PROGRAMAÇÃO OU\n",
    "##### VISUALIZADOR DA PROGRAMAÇÃO OU\n",
    "##### FAZ PARTE DA EQUIPE DA PROGRAMAÇÃO OU\n",
    "##### FAZ PARTE DA EQUIPE VISUALIZADORA DA PROGRAMAÇÃO"
   ]
  },
  {
   "cell_type": "code",
   "execution_count": 9,
   "id": "b4552de3",
   "metadata": {
    "scrolled": true
   },
   "outputs": [
    {
     "data": {
      "text/plain": [
       "(2221,\n",
       " 764,\n",
       " {'_state': <django.db.models.base.ModelState at 0x7f51379d7e80>,\n",
       "  'uuid': UUID('167daa93-128a-4017-9975-c3f5d3d7c259'),\n",
       "  'company_id': UUID('31938021-6b32-461b-821c-4759a5016441'),\n",
       "  'number': 'AFD-job-2024.1113',\n",
       "  'title': '05/03 - Multifuncional Lote 01',\n",
       "  'description': '',\n",
       "  'start_date': datetime.datetime(2024, 3, 5, 10, 0, tzinfo=<UTC>),\n",
       "  'end_date': None,\n",
       "  'progress': 0.0,\n",
       "  'executed_reportings': 0,\n",
       "  'reporting_count': 2,\n",
       "  'worker_id': UUID('910d785b-d4f6-4b8b-8d6d-421fe762ddcd'),\n",
       "  'firm_id': UUID('47f332db-6b9e-4e2a-b745-ff5fdac561ca'),\n",
       "  'inspection_id': None,\n",
       "  'parent_inventory_id': None,\n",
       "  'metadata': {},\n",
       "  'created_by_id': UUID('f4204ee0-2084-4bff-b3b6-ecee2ce40808'),\n",
       "  'archived': False,\n",
       "  'creating_batches': False,\n",
       "  'pending_inventory_to_reporting_id': None,\n",
       "  'total_inventory_batches': 0,\n",
       "  'total_reporting_in_reporting_batches': 0,\n",
       "  'last_notification_sent_at': None})"
      ]
     },
     "execution_count": 9,
     "metadata": {},
     "output_type": "execute_result"
    }
   ],
   "source": [
    "jobs_all = Job.objects.filter(\n",
    "                Q(company_id=company)\n",
    "                & (\n",
    "                    Q(worker=user)\n",
    "                    | Q(created_by=user)\n",
    "                    | Q(watcher_users=user)\n",
    "                    | Q(firm__in=user_firms)\n",
    "                    | Q(watcher_firms__in=user_firms)\n",
    "                )\n",
    "            ).distinct()\n",
    "jobs_open = Job.objects.filter(\n",
    "                Q(company_id=company)\n",
    "                & (\n",
    "                    Q(worker=user)\n",
    "                    | Q(created_by=user)\n",
    "                    | Q(watcher_users=user)\n",
    "                    | Q(firm__in=user_firms)\n",
    "                    | Q(watcher_firms__in=user_firms)\n",
    "                ),\n",
    "                archived='False'\n",
    "            ).distinct().order_by('-start_date')\n",
    "jobs_all.count(),jobs_open.count(),jobs_open[0].__dict__"
   ]
  },
  {
   "cell_type": "code",
   "execution_count": 12,
   "id": "9fc9e19d",
   "metadata": {},
   "outputs": [
    {
     "name": "stdout",
     "output_type": "stream",
     "text": [
      "166 AFD-job-2023.3732\n"
     ]
    }
   ],
   "source": [
    "#Primeiras 15 programações\n",
    "for i,a in enumerate(jobs_open):\n",
    "    if '2023.3732' in a.number:\n",
    "        print(i,a.number)"
   ]
  },
  {
   "cell_type": "code",
   "execution_count": 9,
   "id": "7b51f10a",
   "metadata": {},
   "outputs": [
    {
     "data": {
      "text/plain": [
       "(30,\n",
       " [{'serial': 'ENT-job-2024.77', 'apontamentos_contagem': 14685},\n",
       "  {'serial': 'ENT-job-2023.1150', 'apontamentos_contagem': 390},\n",
       "  {'serial': 'ENT-job-2023.1151', 'apontamentos_contagem': 387},\n",
       "  {'serial': 'ENT-job-2023.1295', 'apontamentos_contagem': 351},\n",
       "  {'serial': 'ENT-job-2023.1147', 'apontamentos_contagem': 331},\n",
       "  {'serial': 'ENT-job-2023.934', 'apontamentos_contagem': 266},\n",
       "  {'serial': 'ENT-job-2023.1149', 'apontamentos_contagem': 254},\n",
       "  {'serial': 'ENT-job-2023.131', 'apontamentos_contagem': 185},\n",
       "  {'serial': 'ENT-job-2023.1514', 'apontamentos_contagem': 166},\n",
       "  {'serial': 'ENT-job-2023.1521', 'apontamentos_contagem': 166},\n",
       "  {'serial': 'ENT-job-2024.7', 'apontamentos_contagem': 154},\n",
       "  {'serial': 'ENT-job-2023.1163', 'apontamentos_contagem': 146},\n",
       "  {'serial': 'ENT-job-2021.1559', 'apontamentos_contagem': 146},\n",
       "  {'serial': 'ENT-job-2023.1148', 'apontamentos_contagem': 140},\n",
       "  {'serial': 'ENT-job-2023.1076', 'apontamentos_contagem': 134},\n",
       "  {'serial': 'ENT-job-2023.1062', 'apontamentos_contagem': 134},\n",
       "  {'serial': 'ENT-job-2023.1513', 'apontamentos_contagem': 134},\n",
       "  {'serial': 'ENT-job-2024.23', 'apontamentos_contagem': 132},\n",
       "  {'serial': 'ENT-job-2023.841', 'apontamentos_contagem': 119},\n",
       "  {'serial': 'ENT-job-2023.1106', 'apontamentos_contagem': 102},\n",
       "  {'serial': 'ENT-job-2023.1088', 'apontamentos_contagem': 102},\n",
       "  {'serial': 'ENT-job-2023.1444', 'apontamentos_contagem': 102},\n",
       "  {'serial': 'ENT-job-2023.1421', 'apontamentos_contagem': 102},\n",
       "  {'serial': 'ENT-job-2023.1433', 'apontamentos_contagem': 102},\n",
       "  {'serial': 'ENT-job-2023.1404', 'apontamentos_contagem': 102},\n",
       "  {'serial': 'ENT-job-2023.1130', 'apontamentos_contagem': 102},\n",
       "  {'serial': 'ENT-job-2023.1118', 'apontamentos_contagem': 102},\n",
       "  {'serial': 'ENT-job-2023.1416', 'apontamentos_contagem': 102},\n",
       "  {'serial': 'ENT-job-2023.1141', 'apontamentos_contagem': 102},\n",
       "  {'serial': 'ENT-job-2023.1152', 'apontamentos_contagem': 100}])"
      ]
     },
     "execution_count": 9,
     "metadata": {},
     "output_type": "execute_result"
    }
   ],
   "source": [
    "values=[]\n",
    "for a in jobs_open:\n",
    "    if a.reporting_count>=100 and a.archived == False:\n",
    "        obj={}\n",
    "        obj['serial'] = a.number\n",
    "        obj['apontamentos_contagem'] = a.reporting_count\n",
    "#         obj['job'] = a\n",
    "        values.append(obj)\n",
    "    else:\n",
    "        pass\n",
    "#         print('Não há programações com + 50 apontamentos')\n",
    "newlist = sorted(values, key=lambda d: d['apontamentos_contagem'],reverse=True)\n",
    "len(newlist),newlist"
   ]
  },
  {
   "cell_type": "code",
   "execution_count": 15,
   "id": "47d9caed",
   "metadata": {},
   "outputs": [
    {
     "data": {
      "text/plain": [
       "3396"
      ]
     },
     "execution_count": 15,
     "metadata": {},
     "output_type": "execute_result"
    }
   ],
   "source": [
    "rdos = MultipleDailyReport.objects.filter(\n",
    "                Q(company_id=company)\n",
    "                & (\n",
    "                    Q(firm__in=user_firms)\n",
    "                )\n",
    "            ).distinct().order_by('-created_at')\n",
    "rdos.count()"
   ]
  },
  {
   "cell_type": "code",
   "execution_count": 16,
   "id": "5ec8dda7",
   "metadata": {},
   "outputs": [
    {
     "data": {
      "text/plain": [
       "<QuerySet [<MultipleDailyReport: [Arteris Litoral Sul - Conserva] 5bfb5bcd-749c-41be-859b-4fba4a4e534b - 2023-10-06>, <MultipleDailyReport: [Arteris Litoral Sul - Conserva] 6a59678e-0730-4cb8-b29a-92a1cd7dec90 - 2023-10-05>, <MultipleDailyReport: [Arteris Litoral Sul - Conserva] e91614ae-1136-4e90-8f82-4ce99bad4334 - 2023-10-04>, <MultipleDailyReport: [Arteris Litoral Sul - Conserva] 9d35c580-78f0-44c5-b889-a186d4aed994 - 2023-10-06>, <MultipleDailyReport: [Arteris Litoral Sul - Conserva] 5de0d762-ce97-4152-9b4f-ed8c0ba8fdb0 - 2023-10-05>, <MultipleDailyReport: [Arteris Litoral Sul - Conserva] 5fbaa946-bc79-4969-ad85-4d59b0bd085b - 2023-10-04>, <MultipleDailyReport: [Arteris Litoral Sul - Conserva] 415d1ebf-13cc-4010-82d9-f1452f0698d7 - 2023-10-06>]>"
      ]
     },
     "execution_count": 16,
     "metadata": {},
     "output_type": "execute_result"
    }
   ],
   "source": [
    "rdos[:7],rdos[0]."
   ]
  },
  {
   "cell_type": "code",
   "execution_count": 21,
   "id": "97336251",
   "metadata": {
    "scrolled": true
   },
   "outputs": [
    {
     "name": "stdout",
     "output_type": "stream",
     "text": [
      "None None 1.0\n",
      "None None 1.0\n",
      "None None 1.0\n",
      "None None 1.0\n",
      "None None 1.0\n",
      "None None 1.0\n",
      "None None 1.0\n",
      "None None 1.0\n",
      "None None 1.0\n",
      "None None 1.0\n",
      "None None 1.0\n",
      "None None 1.0\n",
      "None None 1.0\n",
      "None None 1.0\n",
      "None None 1.0\n",
      "None None 1.0\n",
      "None None 1.0\n",
      "None None 1.0\n",
      "None None 1.0\n",
      "None None 1.0\n",
      "None None 1.0\n",
      "None None 1.0\n",
      "None None 1.0\n",
      "None None 1.0\n",
      "None None 1.0\n",
      "None None 1.0\n"
     ]
    }
   ],
   "source": [
    "for a in DailyReportEquipment.objects.filter(multiple_daily_reports__in=list(rdos[:7])):\n",
    "    print(a.description,a.kind,a.amount)"
   ]
  },
  {
   "cell_type": "code",
   "execution_count": 27,
   "id": "8f5e88e6",
   "metadata": {},
   "outputs": [
    {
     "data": {
      "text/plain": [
       "{'_state': <django.db.models.base.ModelState at 0x7fd0586789d0>,\n",
       " 'uuid': UUID('ea94646d-1b2b-4142-a217-12686d6f57a7'),\n",
       " 'created_by_id': None,\n",
       " 'company_id': UUID('52bf5f0c-7d75-4081-8616-06e0b43dee29'),\n",
       " 'kind': None,\n",
       " 'description': None,\n",
       " 'amount': 1.0,\n",
       " 'creation_date': datetime.datetime(2023, 8, 17, 6, 35, 30, 269602, tzinfo=<UTC>),\n",
       " 'total_price': 0.0,\n",
       " 'contract_item_administration_id': UUID('e2f072cf-e0ef-4418-9d6f-67211d3198fa'),\n",
       " 'approval_status': 'WAITING_APPROVAL',\n",
       " 'approval_date': None,\n",
       " 'approved_by_id': None,\n",
       " 'measurement_bulletin_id': None,\n",
       " '_fieldsignals_originals': {(140533378289488,\n",
       "   140533147281024): {'uuid': UUID('ea94646d-1b2b-4142-a217-12686d6f57a7'), 'company': UUID('52bf5f0c-7d75-4081-8616-06e0b43dee29'), 'amount': 1.0, 'creation_date': datetime.datetime(2023, 8, 17, 6, 35, 30, 269602, tzinfo=<UTC>), 'total_price': 0.0, 'contract_item_administration': UUID('e2f072cf-e0ef-4418-9d6f-67211d3198fa'), 'approval_status': 'WAITING_APPROVAL'}}}"
      ]
     },
     "execution_count": 27,
     "metadata": {},
     "output_type": "execute_result"
    }
   ],
   "source": [
    "DailyReportEquipment.objects.filter(multiple_daily_reports__in=list(rdos[:7]))[8].__dict__"
   ]
  },
  {
   "cell_type": "code",
   "execution_count": 6,
   "id": "aa1b73fc",
   "metadata": {},
   "outputs": [
    {
     "data": {
      "text/plain": [
       "(<django.db.models.fields.UUIDField: uuid>,\n",
       " <django.db.models.fields.related.ForeignKey: company>,\n",
       " <django.db.models.fields.CharField: number>,\n",
       " <django.db.models.fields.CharField: title>,\n",
       " <django.db.models.fields.CharField: description>,\n",
       " <django.db.models.fields.DateTimeField: start_date>,\n",
       " <django.db.models.fields.DateTimeField: end_date>,\n",
       " <django.db.models.fields.FloatField: progress>,\n",
       " <django.db.models.fields.IntegerField: executed_reportings>,\n",
       " <django.db.models.fields.IntegerField: reporting_count>,\n",
       " <django.db.models.fields.related.ForeignKey: worker>,\n",
       " <django.db.models.fields.related.ForeignKey: firm>,\n",
       " <django.db.models.fields.related.ForeignKey: inspection>,\n",
       " <django.db.models.fields.related.ForeignKey: parent_inventory>,\n",
       " <django.contrib.postgres.fields.jsonb.JSONField: metadata>,\n",
       " <django.db.models.fields.related.ForeignKey: created_by>,\n",
       " <django.db.models.fields.BooleanField: archived>,\n",
       " <django.db.models.fields.BooleanField: creating_batches>,\n",
       " <django.contrib.postgres.fields.jsonb.JSONField: pending_inventory_to_reporting_id>,\n",
       " <django.db.models.fields.IntegerField: total_inventory_batches>,\n",
       " <django.db.models.fields.IntegerField: total_reporting_in_reporting_batches>,\n",
       " <django.db.models.fields.DateTimeField: last_notification_sent_at>)"
      ]
     },
     "execution_count": 6,
     "metadata": {},
     "output_type": "execute_result"
    }
   ],
   "source": [
    "Job._meta.fields"
   ]
  },
  {
   "cell_type": "code",
   "execution_count": 16,
   "id": "152414c2",
   "metadata": {},
   "outputs": [
    {
     "data": {
      "text/plain": [
       "<QuerySet [<User: eduarda.beraldo - Eduarda Beraldo>, <User: marcoantonio.reis - Marco Antonio Reis>, <User: gessica.gomes.ter - Gessica Gomes>, <User: saimon.sassaki - Saimon Sassaki>, <User: saullo.mendes - Saullo Mendes>, <User: rodolfo.rodrigues - Rodolfo Rodrigues>, <User: luan.poletti - Luan Poletti>]>"
      ]
     },
     "execution_count": 16,
     "metadata": {},
     "output_type": "execute_result"
    }
   ],
   "source": [
    "user_firms[0].users.all()"
   ]
  },
  {
   "cell_type": "code",
   "execution_count": 15,
   "id": "2759d2be",
   "metadata": {},
   "outputs": [],
   "source": [
    "for a in user_firms:\n",
    "    a.users.add(*User.objects.filter(username='luan.poletti'))"
   ]
  },
  {
   "cell_type": "code",
   "execution_count": null,
   "id": "54d83bd8",
   "metadata": {},
   "outputs": [],
   "source": []
  }
 ],
 "metadata": {
  "kernelspec": {
   "display_name": "Django Shell-Plus",
   "language": "python",
   "name": "django_extensions"
  },
  "language_info": {
   "codemirror_mode": {
    "name": "ipython",
    "version": 3
   },
   "file_extension": ".py",
   "mimetype": "text/x-python",
   "name": "python",
   "nbconvert_exporter": "python",
   "pygments_lexer": "ipython3",
   "version": "3.8.16"
  }
 },
 "nbformat": 4,
 "nbformat_minor": 5
}
