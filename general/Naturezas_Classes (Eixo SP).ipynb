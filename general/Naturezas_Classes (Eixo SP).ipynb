{
 "cells": [
  {
   "cell_type": "code",
   "execution_count": 1,
   "metadata": {},
   "outputs": [
    {
     "name": "stdout",
     "output_type": "stream",
     "text": [
      "STAGE=PRODUCTION\r\n"
     ]
    }
   ],
   "source": [
    "!cat .env"
   ]
  },
  {
   "cell_type": "code",
   "execution_count": 2,
   "metadata": {},
   "outputs": [],
   "source": [
    "from django.db.models import Q\n",
    "from tqdm.notebook import tqdm\n",
    "from helpers.histories import bulk_update_with_history\n",
    "import random"
   ]
  },
  {
   "cell_type": "code",
   "execution_count": 3,
   "metadata": {},
   "outputs": [
    {
     "data": {
      "text/plain": [
       "<Company: 097fe80a-4917-4fa1-8207-2de35c113599: Eixo SP>"
      ]
     },
     "execution_count": 3,
     "metadata": {},
     "output_type": "execute_result"
    }
   ],
   "source": [
    "company=Company.objects.get(name='Eixo SP')\n",
    "company"
   ]
  },
  {
   "cell_type": "code",
   "execution_count": 80,
   "metadata": {},
   "outputs": [],
   "source": [
    "# for match in occ:\n",
    "    \n",
    "#     form={\"key\": \"roadCode\", \"logic\": { \"var\": \"formData.roadCode\" }, \"width\": 20, \"header\": \"Tipo de Rodovia\"}\n",
    "    \n",
    "#     try:\n",
    "#         match.form_fields['measurementColumns'].insert(-1, form)\n",
    "#     except:\n",
    "#         try:\n",
    "#             match.form_fields['measurement_columns'].insert(-1, form)\n",
    "#         except:\n",
    "#             pass\n",
    "        \n",
    "#     match.save()"
   ]
  },
  {
   "cell_type": "code",
   "execution_count": 11,
   "metadata": {},
   "outputs": [
    {
     "data": {
      "text/plain": [
       "20"
      ]
     },
     "execution_count": 11,
     "metadata": {},
     "output_type": "execute_result"
    }
   ],
   "source": [
    "types=OccurrenceType.objects.filter(company=company, occurrence_kind='9')\n",
    "types.count()"
   ]
  },
  {
   "cell_type": "code",
   "execution_count": 12,
   "metadata": {},
   "outputs": [],
   "source": [
    "for a in types:\n",
    "    del a.form_fields['fields'][-1]\n",
    "    del a.form_fields['fields'][-1]\n",
    "    del a.form_fields['fields'][-1]\n",
    "    a.form_fields['groups'][1]['members'] = [8]\n",
    "\n",
    "    \n",
    "#     a.save()"
   ]
  },
  {
   "cell_type": "code",
   "execution_count": 13,
   "metadata": {},
   "outputs": [],
   "source": [
    "tpu={\"8578c40a-c0e8-46ca-9bfb-593e221b2506\": \"MICROREVESTIMENTO ASFALTICO A FRIO COM POLIMERO COM FIBRA\",\n",
    "\"e115a005-006a-437e-a940-9ef1e1c9b8df\": \"CAMADA ROLAMENTO-CBUQ GRADUACAO C-S/DOP       \",\n",
    "\"bc7dcbfa-4ad7-40a9-9589-baee33fc302c\": \"REPARO EMERGENCIAL DE PAV.-TAPA BURACO COM CBUQ E EQUIP. C/ SILO MOVEL TERMICO \",\n",
    "\"46d334b6-1be4-4ed6-b4ef-cfac74bc6b0f\": \"REPARO EMERGENCIAL DE PAV.-TAPA BURACO                                         \",\n",
    "\"61e4debe-dd99-479f-b72e-234247ebcda2\": \"FRESAGEM PAVIMENTO                                                             \",\n",
    "\"daa9fda4-e99d-4f93-9579-3a39f6b57f47\": \"SELAGEM DE TRINCA                                                              \",\n",
    "\"b87ae6a2-6d1c-4098-822c-731fabb7b06f\": \"FRESAGEM PAVIMENTO                                                             \",\n",
    "\"39133297-37ee-41c7-8103-6c0f5ea8b729\": \"FRESAGEM PAVIMENTO                                                             \",\n",
    "\"8e8d70ad-1457-4140-9e81-8e7adab1f817\": \"PAVIMENTO DE CONCRETO - APLICACAO COM FORMAS DESLIZANTES                       \",\n",
    "\"c1e9c02b-db2b-4d07-8de9-56da390d08eb\": \"PAVIMENTO DE CONCRETO SOBRE OBRA DE ARTE ESPECIAL-MANUAL.                      \",\n",
    "\"83aa063b-1ca4-4bfa-91ce-7687a8b9b27f\": \"SELAGEM DE TRINCA                                                              \",\n",
    "\"a89f4b78-d9ed-44cc-aeb5-5300fc42688c\": \"PAVIMENTO DE CONCRETO SOBRE OBRA DE ARTE ESPECIAL-MANUAL.                      \",\n",
    "\"b796d363-71c7-4b64-979c-dad61f01118e\": \"PAVIMENTO DE CONCRETO SOBRE OBRA DE ARTE ESPECIAL-MANUAL.                      \",\n",
    "\"c3e5b340-4653-488c-9563-2dafc921d6ec\": \"CAPINA MANUAL,INCL.AMONT.CARGA/DESC.                                           \",\n",
    "\"5a7146dc-3f27-4a97-b43c-07661ccf59fe\": \"RECONFORMACAO DE PLATAFORMA                                                    \",\n",
    "\"da7465dc-8946-46bb-a2fa-09ff0aba06c4\": \"CONSERVACAO MANUAL DE ACEIRO                                                   \",\n",
    "\"2be2e188-9ead-4bd5-b9c3-57cf9bf726b5\": \"LIMPEZA AREAS EXT.PISOS PAV.E TERRA                                            \",\n",
    "\"c25ae9d5-4ab7-44ec-8a25-045946454578\": \"DERRUBADA E DEST.ARV.C/PERIMETRO>78CM                                          \",\n",
    "\"cbcaaf93-7cf6-44bd-b307-e7899c7f03c0\": \"DERRUBADA E DEST.ARV.C/PERIMETRO>78CM                                          \",\n",
    "\"b9017855-7b03-446a-897a-dda592ace5ac\": \"DESPRAGUEJAMENTO MANUAL DE GRAMADO                                             \",\n",
    "\"7cc621c5-684f-4890-8a4a-5c4c0c6df100\": \"LIMPEZA DE GALERIA                                                             \",\n",
    "\"c1f0dd44-72a8-4666-ac29-792524c4a147\": \"LIMPEZA AREAS EXT.PISOS PAV.E TERRA                                            \",\n",
    "\"c08845f4-2265-42d7-8dc7-63ad844daf7d\": \"RASPAGEM DO TERRENO                                                            \",\n",
    "\"3dfdc698-d563-4b20-b703-99fd735a154c\": \"MANUTENCAO DO PLANTIO FLORESTAL DE ESP.ARBÓREAS NATIVAS COM ESP.DE 3,00MX 2,00M\",\n",
    "\"009c27ab-ffec-40ca-9450-cc617dab6fff\": \"ROCADA MANUAL                                                                  \",\n",
    "\"ffafad09-d69c-47a7-80ae-bda650e90c86\": \"RETALUDAMENTO MECANICO 1A/2A CAT.                                              \",\n",
    "\"b04d1fe4-2340-4bb8-ba91-f7446bfdde74\": \"GRAMA EM PLACA SEM ADUBO                                                       \",\n",
    "\"7f94420b-56dc-4618-8eb5-179207d552c6\": \"RECOLHIMENTO DE ANIMAIS                                                        \",\n",
    "\"6d5ce2b7-1cf1-4102-8a4d-b5f793746a51\": \"REMOCAO LIXO ENTULHO                                                           \",\n",
    "\"e57b3899-a7e1-408d-94a2-785120f58d28\": \"PINTURA ANTI-PICHACAO A BASE DE AGUA PARA CONCRETO APARENTE                    \",\n",
    "\"c9dbf2bd-e75b-4c6c-9c8e-9328bf4add74\": \"REMOCAO LIXO ENTULHO                                                           \",\n",
    "\"cf5c5d94-6044-48f7-bc17-67003defb9d6\": \"REPARO TOTAL DE CERCA                                                          \",\n",
    "\"9a5b91e8-eaa8-4f36-be6f-3c8ff61d11ee\": \"RECONFORMACAO DE PLATAFORMA                                                    \",\n",
    "\"24da2246-b766-46b4-b9ad-d7966c757124\": \"LIMPEZA DE GALERIA                                                             \",\n",
    "\"4108dee6-b59a-433a-b5a2-6e1ffb3ce7cd\": \"LIMPEZA DE DRENAGEM DA PLATAFORMA                                              \",\n",
    "\"554c5f48-d265-4f08-a50f-cf3c61aea8c7\": \"LIMPEZA DE DRENAGEM DA PLATAFORMA                                              \",\n",
    "\"3ceeb137-7d77-48be-92bf-999029c8f60e\": \"LIMPEZA DE DRENAGEM FORA DA PLATAFORMA                                         \",\n",
    "\"ed7baaea-8258-48bd-be83-1c1971fb35e6\": \"LIMPEZA DE DRENAGEM DA PLATAFORMA                                              \",\n",
    "\"13e812d6-a2d4-4104-9329-151e9a8b1a27\": \"LIMPEZA DE DRENAGEM FORA DA PLATAFORMA                                         \",\n",
    "\"9dfb0230-daac-4b2c-a7b9-4beffd81e543\": \"LIMPEZA DE GALERIA                                                             \",\n",
    "\"665ab383-464c-4587-8a67-0d7b9e2a720d\": \"GRAMA ARMADA TELA VEGETAL                                                      \",\n",
    "\"6f01aba2-21d5-47f3-b7ba-7a284382d028\": \"REPARO DE CONCRETO PORTLAND                                                    \",\n",
    "\"ce573f81-659a-4ba6-9e03-3c9ae445f33e\": \"REPARO DE CONCRETO PORTLAND                                                    \",\n",
    "\"d5d0555c-5a9b-426f-91aa-4a825305cce5\": \"REPARO DE CONCRETO PORTLAND                                                    \",\n",
    "\"f477c747-7437-4297-a223-b2c47c1e8713\": \"REPARO DE CONCRETO PORTLAND                                                    \",\n",
    "\"fb8c9d5c-044d-429e-b03e-1a637d1907a8\": \"REPARO DE CONCRETO PORTLAND                                                    \",\n",
    "\"ad185147-4133-42b3-ac8b-9bb29294520f\": \"TRANSPORTE DE 1/2 CATEGORIA ALEM DE 15KM                                       \",\n",
    "\"24a7e544-1d38-4e53-a4a8-640dc11eceb5\": \"FORNECIMENTO DE DEFENSA DE CONTENCAO SIMPLES, EM SOLO, CERTIF. MOD.H1AW4 15º   \",\n",
    "\"5a383b29-88a5-4156-bd06-e80eabbc6f6f\": \"LIMPEZA SUPERFICIAL CONCRETO                                                   \",\n",
    "\"59e6be55-e2d8-42bd-8a91-7c4f0d579a39\": \"LIMPEZA SUPERFICIAL CONCRETO                                                   \",\n",
    "\"db6a3aa8-9457-451f-8a11-8ad730bcb25a\": \"BARREIRA RIGIDA DE CONCRETO ARMADO SIMPLES BAIXA NBR 14.885                    \",\n",
    "\"aa4f73ef-5513-4411-afa4-0218476f8cab\": \"REMOCAO MANUAL DE BARREIRA                                                     \",\n",
    "\"68a0166e-ea96-413b-ad22-7d77b7306c46\": \"DEMOLICAO E RETIRADA DE GUARDA-CORPO                                           \",\n",
    "\"d3468d57-5cdb-44ae-a984-830cf799fc59\": \"REMOCAO DE DEFENSA METALICA SIMPLES                                            \",\n",
    "\"f38c887d-56a3-42af-a560-9f982f6def77\": \"REMOCAO DE DEFENSA METALICA SIMPLES                                            \",\n",
    "\"63d1acc6-c573-439d-a965-ce694736f34b\": \"BARREIRA RIGIDA DE CONCRETO ARMADO SIMPLES BAIXA NBR 14.885                    \",\n",
    "\"9c878e7a-38fd-419f-8402-ba0ce5630282\": \"DEMOLICAO E RETIRADA DE GUARDA-CORPO                                           \",\n",
    "\"8841bbaf-5519-4b5a-84cb-18484c21eb4f\": \"FORN./INSTAL. BALIZ. (CATADIOPTRICO) P/BAR. RIGIDA C/PEL. GT+GT, CONF. OP-06-05\",\n",
    "\"8138cb91-7036-419d-8bd0-6c0ff097bdb6\": \"FORN./INSTAL. BALIZ.(CATADIOPTRICO) P/DEF. MET. C/PELICULA GT+GT, CONF.OP-06-05\",\n",
    "\"2da6744d-927f-4242-9816-d0afe1533ff5\": \"FORN./INSTAL. BALIZ.(CATADIOPTRICO) P/DEF. MET. C/PELICULA GT+GT, CONF.OP-06-05\",\n",
    "\"d1f1b709-519b-4cb8-a06d-3ffa6311770d\": \"FORN./INSTAL. BALIZ.(CATADIOPTRICO) P/DEF. MET. C/PELICULA GT+GT, CONF.OP-06-05\",\n",
    "\"a3942bf0-79b4-45ac-ba5a-8e28bb6a6173\": \"FORN./INSTAL. BALIZ. (CATADIOPTRICO) P/BAR. RIGIDA C/PEL. GT+GT, CONF. OP-06-05\",\n",
    "\"18055706-b7cf-4f07-9d11-87e51b17b60d\": \"LIMPEZA DE DRENAGEM DA PLATAFORMA                                              \",\n",
    "\"25bd2aca-386b-4512-bfcb-d8958c92d099\": \"LIMPEZA DE DRENAGEM DA PLATAFORMA                                              \",\n",
    "\"70e5dbac-a358-46ec-ad00-e945c93782c7\": \"PINTURA ACRILICA - 2DEMAOS                                                     \",\n",
    "\"b0123f21-0fae-4f85-bfce-2d003c14713b\": \"DESOBSTRUCAO DE JUNTA DE DILATACAO                                             \",\n",
    "\"7b18d712-7195-443f-a07b-fbcf0ccfc4b0\": \"PINTURA A BASE DE EPOXI - 2DEMAOS                                              \",\n",
    "\"494c6c14-29ed-4f64-9507-a40d1c26a284\": \"APARELHO DE APOIO NEOPRENE FRETADO                                             \",\n",
    "\"b7e0f1eb-784d-4763-af49-5d2e2b67e3d0\": \"EQUIPE PARA SERVICOS CONSERVACAO                                               \",\n",
    "\"2a8b3cf6-8656-4e87-b8a2-5737d8e89efb\": \"EQUIPE PARA SERVICOS CONSERVACAO                                               \",\n",
    "\"0dd90605-b443-4daa-9dfc-166d65767554\": \"EQUIPE PARA SERVICOS CONSERVACAO                                               \",\n",
    "\"0aa2cb1b-c6d8-4a2a-b193-d0f552929265\": \"EQUIPE PARA SERVICOS CONSERVACAO                                               \",\n",
    "\"f7206435-bf62-47c4-bf70-9ced5d62701b\": \"EQUIPE PARA SERVICOS CONSERVACAO                                               \",\n",
    "\"203db28c-505f-4c62-a5eb-a24a86ed8d93\": \"EQUIPE PARA SERVICOS CONSERVACAO                                               \",\n",
    "\"e26d8c9e-af92-47f1-83c2-8935a6dd53a6\": \"EQUIPE PARA SERVICOS CONSERVACAO                                               \",\n",
    "\"7dcd1a88-31e6-4fa8-93b8-4770e27a900c\": \"EQUIPE PARA SERVICOS CONSERVACAO                                               \",\n",
    "\"54fae784-d202-4c44-9ced-019f1e2d4b5b\": \"SINALIZ.HORIZ.ACRIL.BASE DE AGUA                                               \",\n",
    "\"6ed5e6b3-d009-45a8-9cf0-d16f22878a54\": \"SINALIZ.HORIZ.ACRIL.BASE DE AGUA                                               \",\n",
    "\"f6e928de-72f9-467f-a919-0cfaba4706d4\": \"LIMPEZA AREAS EXT.PISOS PAV.E TERRA                                            \",\n",
    "\"6d131bce-8b51-4004-8d23-3facaae00984\": \"SINALIZ.HORIZ.ACRIL.BASE DE AGUA                                               \",\n",
    "\"5d2a25df-f8dd-4966-9b8d-27fcee3a05c4\": \"MANUTENCAO DE PLACA INSTITUCIONAL                                              \",\n",
    "\"353a6a42-1c55-4d68-8a7c-07d8285170a2\": \"LIMPEZA DE PLACA                                                               \",\n",
    "\"5d4732d2-201f-4a02-906b-a7e8102caef4\": \"FORN.,TRANSP.E FIXACAO DE SEMI-PORTICO TUBULAR MET.EM BALANCO COM VAO 6,00M    \",\n",
    "\"08cf8cd2-d24f-4527-8e86-057413bacd11\": \"FORNECIMENTO E TRANSPORTE DE PLACA MOD. ALUMINIO GT+GT.                        \",\n",
    "\"b5ba2342-a330-4e0c-841f-fcd9d8242698\": \"FORNECIMENTO E TRANSPORTE DE PLACA MOD. ALUMINIO GT+GT.                        \",\n",
    "\"b5e14e98-7ebd-40c8-a865-f0aff0c998e4\": \"FORNECIMENTO E TRANSPORTE DE PLACA MOD. ALUMINIO GT+GT.                        \",\n",
    "\"b3d7c3ff-73b3-4b41-a1f0-4242e7de2875\": \"FORN.,TRANSP.E FIXACAO DE SEMI-PORTICO TUBULAR MET.EM BALANCO COM VAO 6,00M    \",\n",
    "\"0e319b60-5bd8-42ca-b263-c9cf6a976f83\": \"DISP.DELIMITADOR-BALIZADOR CIL.C/PEL.AI                                        \",\n",
    "\"c956ecdf-2d6f-4625-b635-c0f09c6a8ede\": \"TACHA REFLETIVA BIDIRECIONAL TIPO III OU IV ABNT (VIDRO OU PRISMÁTICO)\",\n",
    "\"5ad3074f-54ca-4c27-b38c-579318104704\": \"DISP.DELIMITADOR-BALIZADOR CIL.C/PEL.AI                                        \",\n",
    "\"30d2386e-4238-4c3b-9290-c0c7ee3f7bc0\": \"LIMPEZA AREAS EXT.PISOS PAV.E TERRA                                            \",\n",
    "\"40a15a3b-c343-40b5-80d5-901204bca027\": \"LIMPEZA AREAS EXT.PISOS PAV.E TERRA                                            \",\n",
    "\"f0eda3d3-4631-4488-abd2-867b2fdc949e\": \"LIMPEZA AREAS EXT.PISOS PAV.E TERRA                                            \",\n",
    "\"ebadb955-53c4-4475-843a-69acd4ad2365\": \"LIMPEZA TACHA REFLETIVA MONO/BIDIREC                                           \",\n",
    "\"7b2b0475-cc7b-4aa9-a93f-6647672f4430\": \"LIMPEZA AREAS EXT.PISOS PAV.E TERRA                                            \",\n",
    "\"79221bda-fa5f-4221-ade7-4e44364f3342\": \"SINALIZ.HORIZ.ACRIL.BASE DE AGUA                                               \",\n",
    "\"89d615cc-fd30-48dd-b243-018e7e0661c5\": \"SINALIZ.HORIZ.ACRIL.BASE DE AGUA                                               \",\n",
    "\"effa956b-0833-4665-a787-a34283c4bef8\": \"SINALIZ.HORIZ.ACRIL.BASE DE AGUA        \"}"
   ]
  },
  {
   "cell_type": "code",
   "execution_count": 17,
   "metadata": {},
   "outputs": [],
   "source": [
    "subitem={\"8578c40a-c0e8-46ca-9bfb-593e221b2506\": \"23.06.04.07\",\n",
    "\"e115a005-006a-437e-a940-9ef1e1c9b8df\": \"23.08.03.01\",\n",
    "\"bc7dcbfa-4ad7-40a9-9589-baee33fc302c\": \"37.03.03.01\",\n",
    "\"46d334b6-1be4-4ed6-b4ef-cfac74bc6b0f\": \"37.03.03\",\n",
    "\"61e4debe-dd99-479f-b72e-234247ebcda2\": \"37.03.18\",\n",
    "\"daa9fda4-e99d-4f93-9579-3a39f6b57f47\": \"37.03.05\",\n",
    "\"b87ae6a2-6d1c-4098-822c-731fabb7b06f\": \"37.03.18\",\n",
    "\"39133297-37ee-41c7-8103-6c0f5ea8b729\": \"37.03.18\",\n",
    "\"8e8d70ad-1457-4140-9e81-8e7adab1f817\": \"23.11.04.01\",\n",
    "\"c1e9c02b-db2b-4d07-8de9-56da390d08eb\": \"23.11.09\",\n",
    "\"83aa063b-1ca4-4bfa-91ce-7687a8b9b27f\": \"37.03.05\",\n",
    "\"a89f4b78-d9ed-44cc-aeb5-5300fc42688c\": \"23.11.09\",\n",
    "\"b796d363-71c7-4b64-979c-dad61f01118e\": \"23.11.09\",\n",
    "\"c3e5b340-4653-488c-9563-2dafc921d6ec\": \"30.01.12\",\n",
    "\"5a7146dc-3f27-4a97-b43c-07661ccf59fe\": \"37.02.03\",\n",
    "\"da7465dc-8946-46bb-a2fa-09ff0aba06c4\": \"37.06.07\",\n",
    "\"2be2e188-9ead-4bd5-b9c3-57cf9bf726b5\": \"34.03.06\",\n",
    "\"c25ae9d5-4ab7-44ec-8a25-045946454578\": \"22.01.04\",\n",
    "\"cbcaaf93-7cf6-44bd-b307-e7899c7f03c0\": \"22.01.04\",\n",
    "\"b9017855-7b03-446a-897a-dda592ace5ac\": \"37.06.08\",\n",
    "\"7cc621c5-684f-4890-8a4a-5c4c0c6df100\": \"21.08.06\",\n",
    "\"c1f0dd44-72a8-4666-ac29-792524c4a147\": \"34.03.06\",\n",
    "\"c08845f4-2265-42d7-8dc7-63ad844daf7d\": \"22.01.06\",\n",
    "\"3dfdc698-d563-4b20-b703-99fd735a154c\": \"30.01.40.02\",\n",
    "\"009c27ab-ffec-40ca-9450-cc617dab6fff\": \"30.01.10\",\n",
    "\"ffafad09-d69c-47a7-80ae-bda650e90c86\": \"37.02.10\",\n",
    "\"b04d1fe4-2340-4bb8-ba91-f7446bfdde74\": \"30.01.01\",\n",
    "\"7f94420b-56dc-4618-8eb5-179207d552c6\": \"37.01.21\",\n",
    "\"6d5ce2b7-1cf1-4102-8a4d-b5f793746a51\": \"37.06.09\",\n",
    "\"e57b3899-a7e1-408d-94a2-785120f58d28\": \"28.12.02\",\n",
    "\"c9dbf2bd-e75b-4c6c-9c8e-9328bf4add74\": \"37.06.09\",\n",
    "\"cf5c5d94-6044-48f7-bc17-67003defb9d6\": \"37.01.01\",\n",
    "\"9a5b91e8-eaa8-4f36-be6f-3c8ff61d11ee\": \"37.02.03\",\n",
    "\"24da2246-b766-46b4-b9ad-d7966c757124\": \"21.08.06\",\n",
    "\"4108dee6-b59a-433a-b5a2-6e1ffb3ce7cd\": \"21.08.01\",\n",
    "\"554c5f48-d265-4f08-a50f-cf3c61aea8c7\": \"21.08.01\",\n",
    "\"3ceeb137-7d77-48be-92bf-999029c8f60e\": \"21.08.11\",\n",
    "\"ed7baaea-8258-48bd-be83-1c1971fb35e6\": \"21.08.01\",\n",
    "\"13e812d6-a2d4-4104-9329-151e9a8b1a27\": \"21.08.11\",\n",
    "\"9dfb0230-daac-4b2c-a7b9-4beffd81e543\": \"21.08.06\",\n",
    "\"665ab383-464c-4587-8a67-0d7b9e2a720d\": \"30.01.09\",\n",
    "\"6f01aba2-21d5-47f3-b7ba-7a284382d028\": \"37.03.06\",\n",
    "\"ce573f81-659a-4ba6-9e03-3c9ae445f33e\": \"37.03.06\",\n",
    "\"d5d0555c-5a9b-426f-91aa-4a825305cce5\": \"37.03.06\",\n",
    "\"f477c747-7437-4297-a223-b2c47c1e8713\": \"37.03.06\",\n",
    "\"fb8c9d5c-044d-429e-b03e-1a637d1907a8\": \"37.03.06\",\n",
    "\"ad185147-4133-42b3-ac8b-9bb29294520f\": \"22.03.06\",\n",
    "\"24a7e544-1d38-4e53-a4a8-640dc11eceb5\": \"28.05.11.01\",\n",
    "\"5a383b29-88a5-4156-bd06-e80eabbc6f6f\": \"37.01.19\",\n",
    "\"59e6be55-e2d8-42bd-8a91-7c4f0d579a39\": \"37.01.19\",\n",
    "\"db6a3aa8-9457-451f-8a11-8ad730bcb25a\": \"28.06.17\",\n",
    "\"aa4f73ef-5513-4411-afa4-0218476f8cab\": \"37.02.07\t\",\n",
    "\"68a0166e-ea96-413b-ad22-7d77b7306c46\": \"21.08.08\",\n",
    "\"d3468d57-5cdb-44ae-a984-830cf799fc59\": \"21.03.02\",\n",
    "\"f38c887d-56a3-42af-a560-9f982f6def77\": \"21.03.02\",\n",
    "\"63d1acc6-c573-439d-a965-ce694736f34b\": \"28.06.17\",\n",
    "\"9c878e7a-38fd-419f-8402-ba0ce5630282\": \"21.08.08\t\",\n",
    "\"8841bbaf-5519-4b5a-84cb-18484c21eb4f\": \"28.10.02\",\n",
    "\"8138cb91-7036-419d-8bd0-6c0ff097bdb6\": \"28.10.01\",\n",
    "\"2da6744d-927f-4242-9816-d0afe1533ff5\": \"28.10.01\",\n",
    "\"d1f1b709-519b-4cb8-a06d-3ffa6311770d\": \"28.10.01\",\n",
    "\"a3942bf0-79b4-45ac-ba5a-8e28bb6a6173\": \"28.10.02\",\n",
    "\"18055706-b7cf-4f07-9d11-87e51b17b60d\": \"21.08.01\",\n",
    "\"25bd2aca-386b-4512-bfcb-d8958c92d099\": \"21.08.01\",\n",
    "\"70e5dbac-a358-46ec-ad00-e945c93782c7\": \"27.14.04\",\n",
    "\"b0123f21-0fae-4f85-bfce-2d003c14713b\": \"27.01.45\",\n",
    "\"7b18d712-7195-443f-a07b-fbcf0ccfc4b0\": \"27.14.03\",\n",
    "\"494c6c14-29ed-4f64-9507-a40d1c26a284\": \"26.08.01\",\n",
    "\"b7e0f1eb-784d-4763-af49-5d2e2b67e3d0\": \"37.01.22\",\n",
    "\"2a8b3cf6-8656-4e87-b8a2-5737d8e89efb\": \"37.01.22\",\n",
    "\"0dd90605-b443-4daa-9dfc-166d65767554\": \"37.01.22\",\n",
    "\"0aa2cb1b-c6d8-4a2a-b193-d0f552929265\": \"37.01.22\",\n",
    "\"f7206435-bf62-47c4-bf70-9ced5d62701b\": \"37.01.22\",\n",
    "\"203db28c-505f-4c62-a5eb-a24a86ed8d93\": \"37.01.22\",\n",
    "\"e26d8c9e-af92-47f1-83c2-8935a6dd53a6\": \"37.01.22\",\n",
    "\"7dcd1a88-31e6-4fa8-93b8-4770e27a900c\": \"37.01.22\",\n",
    "\"54fae784-d202-4c44-9ced-019f1e2d4b5b\": \"37.05.20\",\n",
    "\"6ed5e6b3-d009-45a8-9cf0-d16f22878a54\": \"37.05.20\",\n",
    "\"f6e928de-72f9-467f-a919-0cfaba4706d4\": \"34.03.06\",\n",
    "\"6d131bce-8b51-4004-8d23-3facaae00984\": \"37.05.20\",\n",
    "\"5d2a25df-f8dd-4966-9b8d-27fcee3a05c4\": \"28.08.02.01\",\n",
    "\"353a6a42-1c55-4d68-8a7c-07d8285170a2\": \"37.01.16\",\n",
    "\"5d4732d2-201f-4a02-906b-a7e8102caef4\": \"28.02.04.02\",\n",
    "\"08cf8cd2-d24f-4527-8e86-057413bacd11\": \"37.05.31\",\n",
    "\"b5ba2342-a330-4e0c-841f-fcd9d8242698\": \"37.05.31\",\n",
    "\"b5e14e98-7ebd-40c8-a865-f0aff0c998e4\": \"37.05.31\",\n",
    "\"b3d7c3ff-73b3-4b41-a1f0-4242e7de2875\": \"28.02.04.02\",\n",
    "\"0e319b60-5bd8-42ca-b263-c9cf6a976f83\": \"37.05.36.03\",\n",
    "\"c956ecdf-2d6f-4625-b635-c0f09c6a8ede\": \"28.03.09.02\",\n",
    "\"5ad3074f-54ca-4c27-b38c-579318104704\": \"37.05.36.03\",\n",
    "\"30d2386e-4238-4c3b-9290-c0c7ee3f7bc0\": \"34.03.06\",\n",
    "\"40a15a3b-c343-40b5-80d5-901204bca027\": \"34.03.06\",\n",
    "\"f0eda3d3-4631-4488-abd2-867b2fdc949e\": \"34.03.06\",\n",
    "\"ebadb955-53c4-4475-843a-69acd4ad2365\": \"37.01.17\",\n",
    "\"7b2b0475-cc7b-4aa9-a93f-6647672f4430\": \"34.03.06\t\",\n",
    "\"79221bda-fa5f-4221-ade7-4e44364f3342\": \"37.05.20\",\n",
    "\"89d615cc-fd30-48dd-b243-018e7e0661c5\": \"37.05.20\",\n",
    "\"effa956b-0833-4665-a787-a34283c4bef8\": \"37.05.20\"}"
   ]
  },
  {
   "cell_type": "code",
   "execution_count": 18,
   "metadata": {},
   "outputs": [],
   "source": [
    "unit={\"8578c40a-c0e8-46ca-9bfb-593e221b2506\": \"m2\",\n",
    "\"e115a005-006a-437e-a940-9ef1e1c9b8df\": \"m3\",\n",
    "\"bc7dcbfa-4ad7-40a9-9589-baee33fc302c\": \"m3\",\n",
    "\"46d334b6-1be4-4ed6-b4ef-cfac74bc6b0f\": \"m3\",\n",
    "\"61e4debe-dd99-479f-b72e-234247ebcda2\": \"m3\",\n",
    "\"daa9fda4-e99d-4f93-9579-3a39f6b57f47\": \"litro\",\n",
    "\"b87ae6a2-6d1c-4098-822c-731fabb7b06f\": \"m3\",\n",
    "\"39133297-37ee-41c7-8103-6c0f5ea8b729\": \"m3\",\n",
    "\"8e8d70ad-1457-4140-9e81-8e7adab1f817\": \"m3\",\n",
    "\"c1e9c02b-db2b-4d07-8de9-56da390d08eb\": \"m3\",\n",
    "\"83aa063b-1ca4-4bfa-91ce-7687a8b9b27f\": \"litro\",\n",
    "\"a89f4b78-d9ed-44cc-aeb5-5300fc42688c\": \"m3\",\n",
    "\"b796d363-71c7-4b64-979c-dad61f01118e\": \"m3\",\n",
    "\"c3e5b340-4653-488c-9563-2dafc921d6ec\": \"ha\",\n",
    "\"5a7146dc-3f27-4a97-b43c-07661ccf59fe\": \"km\",\n",
    "\"da7465dc-8946-46bb-a2fa-09ff0aba06c4\": \"ha\",\n",
    "\"2be2e188-9ead-4bd5-b9c3-57cf9bf726b5\": \"m2 x mes\",\n",
    "\"c25ae9d5-4ab7-44ec-8a25-045946454578\": \"un\",\n",
    "\"cbcaaf93-7cf6-44bd-b307-e7899c7f03c0\": \"un\",\n",
    "\"b9017855-7b03-446a-897a-dda592ace5ac\": \"ha\",\n",
    "\"7cc621c5-684f-4890-8a4a-5c4c0c6df100\": \"m\",\n",
    "\"c1f0dd44-72a8-4666-ac29-792524c4a147\": \"m2 x mes\",\n",
    "\"c08845f4-2265-42d7-8dc7-63ad844daf7d\": \"m2\",\n",
    "\"3dfdc698-d563-4b20-b703-99fd735a154c\": \"ha x mes\",\n",
    "\"009c27ab-ffec-40ca-9450-cc617dab6fff\": \"ha\",\n",
    "\"ffafad09-d69c-47a7-80ae-bda650e90c86\": \"m3\",\n",
    "\"b04d1fe4-2340-4bb8-ba91-f7446bfdde74\": \"m2\",\n",
    "\"7f94420b-56dc-4618-8eb5-179207d552c6\": \"equipe.hor\",\n",
    "\"6d5ce2b7-1cf1-4102-8a4d-b5f793746a51\": \"equipe.hor\",\n",
    "\"e57b3899-a7e1-408d-94a2-785120f58d28\": \"m2\",\n",
    "\"c9dbf2bd-e75b-4c6c-9c8e-9328bf4add74\": \"equipe.hor\",\n",
    "\"cf5c5d94-6044-48f7-bc17-67003defb9d6\": \"m\",\n",
    "\"9a5b91e8-eaa8-4f36-be6f-3c8ff61d11ee\": \"km\",\n",
    "\"24da2246-b766-46b4-b9ad-d7966c757124\": \"m\",\n",
    "\"4108dee6-b59a-433a-b5a2-6e1ffb3ce7cd\": \"m\",\n",
    "\"554c5f48-d265-4f08-a50f-cf3c61aea8c7\": \"m\",\n",
    "\"3ceeb137-7d77-48be-92bf-999029c8f60e\": \"m\",\n",
    "\"ed7baaea-8258-48bd-be83-1c1971fb35e6\": \"m\",\n",
    "\"13e812d6-a2d4-4104-9329-151e9a8b1a27\": \"m\",\n",
    "\"9dfb0230-daac-4b2c-a7b9-4beffd81e543\": \"m\",\n",
    "\"665ab383-464c-4587-8a67-0d7b9e2a720d\": \"m2\",\n",
    "\"6f01aba2-21d5-47f3-b7ba-7a284382d028\": \"m3\",\n",
    "\"ce573f81-659a-4ba6-9e03-3c9ae445f33e\": \"m3\",\n",
    "\"d5d0555c-5a9b-426f-91aa-4a825305cce5\": \"m3\",\n",
    "\"f477c747-7437-4297-a223-b2c47c1e8713\": \"m3\",\n",
    "\"fb8c9d5c-044d-429e-b03e-1a637d1907a8\": \"m3\",\n",
    "\"ad185147-4133-42b3-ac8b-9bb29294520f\": \"m3*km\",\n",
    "\"24a7e544-1d38-4e53-a4a8-640dc11eceb5\": \"m\",\n",
    "\"5a383b29-88a5-4156-bd06-e80eabbc6f6f\": \"m2\t\",\n",
    "\"59e6be55-e2d8-42bd-8a91-7c4f0d579a39\": \"m2\",\n",
    "\"db6a3aa8-9457-451f-8a11-8ad730bcb25a\": \"m\",\n",
    "\"aa4f73ef-5513-4411-afa4-0218476f8cab\": \"m3\",\n",
    "\"68a0166e-ea96-413b-ad22-7d77b7306c46\": \"m3\",\n",
    "\"d3468d57-5cdb-44ae-a984-830cf799fc59\": \"m\",\n",
    "\"f38c887d-56a3-42af-a560-9f982f6def77\": \"m\",\n",
    "\"63d1acc6-c573-439d-a965-ce694736f34b\": \"m\",\n",
    "\"9c878e7a-38fd-419f-8402-ba0ce5630282\": \"m3\t\",\n",
    "\"8841bbaf-5519-4b5a-84cb-18484c21eb4f\": \"un\",\n",
    "\"8138cb91-7036-419d-8bd0-6c0ff097bdb6\": \"un\",\n",
    "\"2da6744d-927f-4242-9816-d0afe1533ff5\": \"un\",\n",
    "\"d1f1b709-519b-4cb8-a06d-3ffa6311770d\": \"un\",\n",
    "\"a3942bf0-79b4-45ac-ba5a-8e28bb6a6173\": \"un\",\n",
    "\"18055706-b7cf-4f07-9d11-87e51b17b60d\": \"m\",\n",
    "\"25bd2aca-386b-4512-bfcb-d8958c92d099\": \"m\",\n",
    "\"70e5dbac-a358-46ec-ad00-e945c93782c7\": \"m2\",\n",
    "\"b0123f21-0fae-4f85-bfce-2d003c14713b\": \"m\",\n",
    "\"7b18d712-7195-443f-a07b-fbcf0ccfc4b0\": \"m2\",\n",
    "\"494c6c14-29ed-4f64-9507-a40d1c26a284\": \"dm3\",\n",
    "\"b7e0f1eb-784d-4763-af49-5d2e2b67e3d0\": \"equip/dia\",\n",
    "\"2a8b3cf6-8656-4e87-b8a2-5737d8e89efb\": \"equip/dia\",\n",
    "\"0dd90605-b443-4daa-9dfc-166d65767554\": \"equip/dia\",\n",
    "\"0aa2cb1b-c6d8-4a2a-b193-d0f552929265\": \"equip/dia\",\n",
    "\"f7206435-bf62-47c4-bf70-9ced5d62701b\": \"equip/dia\",\n",
    "\"203db28c-505f-4c62-a5eb-a24a86ed8d93\": \"equip/dia\",\n",
    "\"e26d8c9e-af92-47f1-83c2-8935a6dd53a6\": \"equip/dia\",\n",
    "\"7dcd1a88-31e6-4fa8-93b8-4770e27a900c\": \"equip/dia\",\n",
    "\"54fae784-d202-4c44-9ced-019f1e2d4b5b\": \"m2\",\n",
    "\"6ed5e6b3-d009-45a8-9cf0-d16f22878a54\": \"m2\",\n",
    "\"f6e928de-72f9-467f-a919-0cfaba4706d4\": \"m2 x mes\",\n",
    "\"6d131bce-8b51-4004-8d23-3facaae00984\": \"m2\",\n",
    "\"5d2a25df-f8dd-4966-9b8d-27fcee3a05c4\": \"m2 x mes\",\n",
    "\"353a6a42-1c55-4d68-8a7c-07d8285170a2\": \"m2\",\n",
    "\"5d4732d2-201f-4a02-906b-a7e8102caef4\": \"un\",\n",
    "\"08cf8cd2-d24f-4527-8e86-057413bacd11\": \"m2\",\n",
    "\"b5ba2342-a330-4e0c-841f-fcd9d8242698\": \"m2\",\n",
    "\"b5e14e98-7ebd-40c8-a865-f0aff0c998e4\": \"m2\",\n",
    "\"b3d7c3ff-73b3-4b41-a1f0-4242e7de2875\": \"un\",\n",
    "\"0e319b60-5bd8-42ca-b263-c9cf6a976f83\": \"un\",\n",
    "\"c956ecdf-2d6f-4625-b635-c0f09c6a8ede\": \"un\",\n",
    "\"5ad3074f-54ca-4c27-b38c-579318104704\": \"un\",\n",
    "\"30d2386e-4238-4c3b-9290-c0c7ee3f7bc0\": \"m2 x mes\",\n",
    "\"40a15a3b-c343-40b5-80d5-901204bca027\": \"m2 x mes\",\n",
    "\"f0eda3d3-4631-4488-abd2-867b2fdc949e\": \"m2 x mes\",\n",
    "\"ebadb955-53c4-4475-843a-69acd4ad2365\": \"un\",\n",
    "\"7b2b0475-cc7b-4aa9-a93f-6647672f4430\": \"m2 x mes\",\n",
    "\"79221bda-fa5f-4221-ade7-4e44364f3342\": \"m2\",\n",
    "\"89d615cc-fd30-48dd-b243-018e7e0661c5\": \"m2\",\n",
    "\"effa956b-0833-4665-a787-a34283c4bef8\": \"m2\"}"
   ]
  },
  {
   "cell_type": "code",
   "execution_count": 55,
   "metadata": {},
   "outputs": [
    {
     "data": {
      "text/plain": [
       "5"
      ]
     },
     "execution_count": 55,
     "metadata": {},
     "output_type": "execute_result"
    }
   ],
   "source": [
    "occ=OccurrenceType.objects.filter(company=company, occurrence_kind='6').order_by('name')\n",
    "occ.count()"
   ]
  },
  {
   "cell_type": "code",
   "execution_count": 56,
   "metadata": {},
   "outputs": [],
   "source": [
    "for match in occ:\n",
    "    size = len(match.form_fields['fields'])\n",
    "    \n",
    "    if str(match.uuid) in tpu.keys():\n",
    "\n",
    "        tpu_name=tpu[str(match.uuid)].strip()\n",
    "        tpu_subitem=subitem[str(match.uuid)].strip()\n",
    "        tpu_unit=unit[str(match.uuid)].strip()\n",
    "\n",
    "        match.form_fields['fields'].append({\"id\": size+1,\n",
    "                                            \"apiName\": \"tpuItems\",\n",
    "                                            \"dataType\": \"string\",\n",
    "                                            \"displayName\": \"Serviço TPU\",\n",
    "                                            \"autofill\": tpu_name})\n",
    "        match.form_fields['fields'].append({\"id\": size+2,\n",
    "                                            \"apiName\": \"tpuSubitem\",\n",
    "                                            \"dataType\": \"string\",\n",
    "                                            \"displayName\": \"Subitem TPU\",\n",
    "                                            \"autofill\": tpu_subitem})\n",
    "\n",
    "        match.form_fields['fields'].append({\"id\": size+3,\n",
    "                                            \"apiName\": \"tpuUnit\",\n",
    "                                            \"dataType\": \"string\",\n",
    "                                            \"displayName\": \"Unidade de Medida TPU\",\n",
    "                                            \"autofill\": tpu_unit})\n",
    "        \n",
    "        try:\n",
    "            if match.form_fields['groups'][1]['displayName'] == 'Descrição dos serviços (TPU)':\n",
    "                match.form_fields['groups'][1]['members'] = [size+1, size+2, size+3]\n",
    "\n",
    "        except:\n",
    "            if match.form_fields['groups'][1]['display_name'] == 'Descrição dos serviços (TPU)':\n",
    "                match.form_fields['groups'][1]['members'] = [size+1, size+2, size+3]\n",
    "        \n",
    "#         match.save()\n",
    "                                           \n",
    "\n",
    "    else:\n",
    "        \n",
    "        print(match.name)\n",
    "                                           \n",
    "        match.form_fields['fields'].append({\"id\": size+1,\n",
    "                                            \"apiName\": \"tpuItems\",\n",
    "                                            \"dataType\": \"string\",\n",
    "                                            \"displayName\": \"Serviço TPU\",\n",
    "                                            \"autofill\": \" \"})\n",
    "        match.form_fields['fields'].append({\"id\": size+2,\n",
    "                                            \"apiName\": \"tpuSubitem\",\n",
    "                                            \"dataType\": \"string\",\n",
    "                                            \"displayName\": \"Subitem TPU\",\n",
    "                                            \"autofill\": \" \"})\n",
    "\n",
    "        match.form_fields['fields'].append({\"id\": size+3,\n",
    "                                            \"apiName\": \"tpuUnit\",\n",
    "                                            \"dataType\": \"string\",\n",
    "                                            \"displayName\": \"Unidade de Medida TPU\",\n",
    "                                            \"autofill\": \" \"})\n",
    "        \n",
    "        try:\n",
    "            if match.form_fields['groups'][1]['displayName'] == 'Descrição dos serviços (TPU)':\n",
    "                match.form_fields['groups'][1]['members'] = [size+1, size+2, size+3]\n",
    "\n",
    "        except:\n",
    "            if match.form_fields['groups'][1]['display_name'] == 'Descrição dos serviços (TPU)':\n",
    "                match.form_fields['groups'][1]['members'] = [size+1, size+2, size+3]\n",
    "#         match.form_fields['fields'][-3]['autofill']=\" \"\n",
    "#         match.form_fields['fields'][-2]['autofill']=\" \"\n",
    "#         match.form_fields['fields'][-1]['autofill']=\" \"\n",
    "                                           \n",
    "#         match.save()"
   ]
  },
  {
   "cell_type": "code",
   "execution_count": 27,
   "metadata": {},
   "outputs": [],
   "source": [
    "for match in occ:\n",
    "    \n",
    "    if str(match.uuid) in tpu.keys():\n",
    "        tpu_name=tpu[str(match.uuid)].strip()\n",
    "        tpu_subitem=subitem[str(match.uuid)].strip()\n",
    "        tpu_unit=unit[str(match.uuid)].strip()\n",
    "        match.form_fields['fields'][-3]['autofill']=tpu_name\n",
    "        match.form_fields['fields'][-2]['autofill']=tpu_subitem\n",
    "        match.form_fields['fields'][-1]['autofill']=tpu_unit\n",
    "#         match.save()\n",
    "    else:\n",
    "        match.form_fields['fields'][-3]['autofill']=\"\"\n",
    "        match.form_fields['fields'][-2]['autofill']=\"\"\n",
    "        match.form_fields['fields'][-1]['autofill']=\"\"\n",
    "        print(match.name)"
   ]
  },
  {
   "cell_type": "markdown",
   "metadata": {},
   "source": [
    " "
   ]
  },
  {
   "cell_type": "code",
   "execution_count": 8,
   "metadata": {},
   "outputs": [
    {
     "data": {
      "text/plain": [
       "5"
      ]
     },
     "execution_count": 8,
     "metadata": {},
     "output_type": "execute_result"
    }
   ],
   "source": [
    "occ=OccurrenceType.objects.filter(company=company, occurrence_kind=122)\n",
    "occ.count()"
   ]
  },
  {
   "cell_type": "code",
   "execution_count": 9,
   "metadata": {},
   "outputs": [],
   "source": [
    "for match in occ:\n",
    "    size = len(match.form_fields['fields'])\n",
    "    match.form_fields['fields'].append({\"id\": size+1,\n",
    "                                            \"apiName\": \"signColor\",\n",
    "                                            \"dataType\": \"select\",\n",
    "                                            \"displayName\": \"Cor\",\n",
    "                                            \"selectOptions\": {\"options\": [{\"name\": \"Amarela\", \"value\": \"1\"},\n",
    "                                                                            {\"name\": \"Branca\", \"value\": \"2\"},\n",
    "                                                                            {\"name\": \"Cinza\", \"value\": \"3\"}]}})\n",
    "    match.form_fields['groups'][-2]['members'].append(size+1)\n",
    "    match.save()"
   ]
  },
  {
   "cell_type": "markdown",
   "metadata": {},
   "source": [
    " "
   ]
  },
  {
   "cell_type": "code",
   "execution_count": 9,
   "metadata": {},
   "outputs": [
    {
     "data": {
      "text/plain": [
       "190"
      ]
     },
     "execution_count": 9,
     "metadata": {},
     "output_type": "execute_result"
    }
   ],
   "source": [
    "occ=OccurrenceType.objects.filter(company=company, active=True)\n",
    "occ.count()"
   ]
  },
  {
   "cell_type": "code",
   "execution_count": 10,
   "metadata": {},
   "outputs": [
    {
     "data": {
      "application/vnd.jupyter.widget-view+json": {
       "model_id": "897a3a87256546bcb6305ff29d7e41f8",
       "version_major": 2,
       "version_minor": 0
      },
      "text/plain": [
       "  0%|          | 0/190 [00:00<?, ?it/s]"
      ]
     },
     "metadata": {},
     "output_type": "display_data"
    }
   ],
   "source": [
    "for match in tqdm(occ):\n",
    "    for index, field in enumerate(match.form_fields['fields']):\n",
    "        if field['displayName'] == 'Origem':\n",
    "            match.form_fields['fields'][index]['requiredIf'] = {\"!\": {\"var\": \"value\"}}\n",
    "            match.save()"
   ]
  },
  {
   "cell_type": "markdown",
   "metadata": {},
   "source": [
    " "
   ]
  },
  {
   "cell_type": "code",
   "execution_count": 6,
   "metadata": {},
   "outputs": [
    {
     "data": {
      "text/plain": [
       "<Company: 097fe80a-4917-4fa1-8207-2de35c113599: Eixo SP>"
      ]
     },
     "execution_count": 6,
     "metadata": {},
     "output_type": "execute_result"
    }
   ],
   "source": [
    "company=Company.objects.get(name='Eixo SP')\n",
    "company"
   ]
  },
  {
   "cell_type": "code",
   "execution_count": 7,
   "metadata": {},
   "outputs": [
    {
     "data": {
      "text/plain": [
       "<User: rlcs - Kartado CS>"
      ]
     },
     "execution_count": 7,
     "metadata": {},
     "output_type": "execute_result"
    }
   ],
   "source": [
    "user=User.objects.get(username='rlcs')\n",
    "user"
   ]
  },
  {
   "cell_type": "code",
   "execution_count": 8,
   "metadata": {},
   "outputs": [
    {
     "data": {
      "text/plain": [
       "12"
      ]
     },
     "execution_count": 8,
     "metadata": {},
     "output_type": "execute_result"
    }
   ],
   "source": [
    "occ=OccurrenceType.objects.filter(company=company, occurrence_kind__in=[\"124\"]).distinct()\n",
    "occ.count()"
   ]
  },
  {
   "cell_type": "code",
   "execution_count": 9,
   "metadata": {},
   "outputs": [],
   "source": [
    "for match in occ:\n",
    "    \n",
    "    match.uuid = None\n",
    "    match.name = match.name + \" (Adequação)\"\n",
    "    match.occurrence_kind = \"30\"\n",
    "    match.deadline = None\n",
    "    match.created_by = user\n",
    "    if 'display_name' in match.form_fields:\n",
    "        match.form_fields['display_name'] = match.name\n",
    "    elif 'displayName' in match.form_fields:\n",
    "        match.form_fields['displayName'] = match.name\n",
    "    match.form_fields['name'] = match.name\n",
    "    match.save()\n",
    "    spec = OccurrenceTypeSpecs(\n",
    "        occurrence_type = match,\n",
    "        company = company,\n",
    "        color = \"#\"+''.join([random.choice('0123456789ABCDEF') for j in range(6)])\n",
    "    )\n",
    "    spec.save()"
   ]
  },
  {
   "cell_type": "code",
   "execution_count": null,
   "metadata": {},
   "outputs": [],
   "source": []
  }
 ],
 "metadata": {
  "kernelspec": {
   "display_name": "Django Shell-Plus",
   "language": "python",
   "name": "django_extensions"
  },
  "language_info": {
   "codemirror_mode": {
    "name": "ipython",
    "version": 3
   },
   "file_extension": ".py",
   "mimetype": "text/x-python",
   "name": "python",
   "nbconvert_exporter": "python",
   "pygments_lexer": "ipython3",
   "version": "3.7.9"
  }
 },
 "nbformat": 4,
 "nbformat_minor": 2
}
