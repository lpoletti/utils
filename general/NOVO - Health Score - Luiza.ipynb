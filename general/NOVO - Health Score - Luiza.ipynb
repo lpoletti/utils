{
 "cells": [
  {
   "cell_type": "markdown",
   "id": "f8da5eb9",
   "metadata": {},
   "source": [
    "Variáveis para os cálclulos:\n",
    "\n",
    "x = dias de uso – considerando apontamentos/inventário \n",
    "\n",
    "w = variação número de apontamentos comparado ao mês anterior  \n",
    "\n",
    "k = programações \n",
    "\n",
    "q = recursos \n",
    "\n",
    "j =  RDOs "
   ]
  },
  {
   "cell_type": "code",
   "execution_count": 1,
   "id": "aac6ba7b",
   "metadata": {},
   "outputs": [],
   "source": [
    "from tqdm.notebook import tqdm\n",
    "from django.db.models import Count\n",
    "from datetime import datetime, timedelta\n",
    "import calendar"
   ]
  },
  {
   "cell_type": "code",
   "execution_count": 2,
   "id": "ba2056d3",
   "metadata": {},
   "outputs": [],
   "source": [
    "road_companies = ['Neovia Planalto Sul',\n",
    "                 'Sinalizavia (Municípios)',\n",
    "                 'Pavicolet (Amapá)',\n",
    "                 'Pavicolet (Amazonas)',\n",
    "                 'Arteris Planalto Sul - Conserva',\n",
    "                 'Entrevias',\n",
    "                 'Arteris Litoral Sul - Conserva',\n",
    "                 'Arteris Régis Bittencourt - Conserva',\n",
    "                 'Arteris Fluminense - Conserva',\n",
    "                 'Arteris Fernão Dias - Conserva', \n",
    "                 'ELO Ecovias dos Imigrantes',\n",
    "                 'ELO Rodovias dos Tamoios',\n",
    "                 'Neovia Diamantino']"
   ]
  },
  {
   "cell_type": "code",
   "execution_count": 57,
   "id": "91f39dae",
   "metadata": {
    "scrolled": true
   },
   "outputs": [],
   "source": [
    "# road_companies = [x for x in Company.objects.filter(active=True).values_list('name',flat=True).order_by('name')]"
   ]
  },
  {
   "cell_type": "code",
   "execution_count": 3,
   "id": "eda34bc2",
   "metadata": {
    "scrolled": false
   },
   "outputs": [
    {
     "data": {
      "text/plain": [
       "(datetime.datetime(2024, 3, 22, 10, 32, 1, 785015),\n",
       " datetime.datetime(2024, 2, 21, 10, 32, 1, 785015),\n",
       " [2, 3])"
      ]
     },
     "execution_count": 3,
     "metadata": {},
     "output_type": "execute_result"
    }
   ],
   "source": [
    "today = datetime.now()-timedelta(days=10)\n",
    "last_month = today - timedelta(days=30)\n",
    "months = [last_month.month,today.month]\n",
    "today,last_month,months"
   ]
  },
  {
   "cell_type": "code",
   "execution_count": 4,
   "id": "9e20a61d",
   "metadata": {},
   "outputs": [
    {
     "data": {
      "text/plain": [
       "[29, 31]"
      ]
     },
     "execution_count": 4,
     "metadata": {},
     "output_type": "execute_result"
    }
   ],
   "source": [
    "last_days = [calendar.monthrange(today.year, mes)[1] for mes in months]\n",
    "last_days"
   ]
  },
  {
   "cell_type": "markdown",
   "id": "6dbc9f47",
   "metadata": {},
   "source": [
    "# x = dias de uso"
   ]
  },
  {
   "cell_type": "code",
   "execution_count": 5,
   "id": "ea8b615f",
   "metadata": {},
   "outputs": [],
   "source": [
    "def calculo_dias_de_uso(porcentagem):\n",
    "    if porcentagem < 25:\n",
    "        return 0\n",
    "    elif 25 <= porcentagem < 65:\n",
    "        return 0.3\n",
    "    elif 65 <= porcentagem < 80:\n",
    "        return 0.65\n",
    "    else:\n",
    "        return 1"
   ]
  },
  {
   "cell_type": "code",
   "execution_count": 6,
   "id": "417c2c73",
   "metadata": {},
   "outputs": [],
   "source": [
    "def x(months, company):\n",
    "    porcen_dias = []\n",
    "\n",
    "    for x, month in enumerate(months):\n",
    "        total_days_in_month = last_days[x]\n",
    "        qtd_dias = []\n",
    "\n",
    "        for day in range(1, total_days_in_month + 1):\n",
    "            qtd_dias.append(\n",
    "                Reporting.objects.filter(\n",
    "                    company__name=company, \n",
    "                    updated_at__year=today.year, \n",
    "                    updated_at__month=month,\n",
    "                    updated_at__day=day\n",
    "                ).exclude(\n",
    "                    created_by__username='rlcs'\n",
    "                ).exclude(\n",
    "                    created_by__username='neoviacs'\n",
    "                ).exclude(\n",
    "                    created_by__username='arteriscs'\n",
    "                ).only('uuid').count()\n",
    "            )\n",
    "\n",
    "        # Calcula a quantidade de dias com apontamento\n",
    "        quantity = sum(1 for qtd in qtd_dias if qtd != 0)\n",
    "        # calcula a porcentagem de dias de uso, em relação ao total de dias no mês\n",
    "        porcentagem = quantity / total_days_in_month * 100\n",
    "        # o resultado é definido de acordo com as 'regras' do calculo_dias_de_uso\n",
    "        porcentagem_dias_de_uso = calculo_dias_de_uso(porcentagem) # comentar pra ver a porcentagem sem o cálculo\n",
    "        porcen_dias.append(porcentagem_dias_de_uso)\n",
    "\n",
    "    return porcen_dias "
   ]
  },
  {
   "cell_type": "code",
   "execution_count": 7,
   "id": "1aa9844c",
   "metadata": {
    "scrolled": true
   },
   "outputs": [
    {
     "data": {
      "application/vnd.jupyter.widget-view+json": {
       "model_id": "eeac809b21db41c08c307295e9f561f0",
       "version_major": 2,
       "version_minor": 0
      },
      "text/plain": [
       "Empresas:   0%|          | 0/13 [00:00<?, ?it/s]"
      ]
     },
     "metadata": {},
     "output_type": "display_data"
    },
    {
     "name": "stdout",
     "output_type": "stream",
     "text": [
      "Nota da unidade Neovia Planalto Sul, mês 2: 0.3\n",
      "Nota da unidade Neovia Planalto Sul, mês 3: 0.3\n",
      "Nota da unidade Sinalizavia (Municípios), mês 2: 0\n",
      "Nota da unidade Sinalizavia (Municípios), mês 3: 0.3\n",
      "Nota da unidade Pavicolet (Amapá), mês 2: 0.3\n",
      "Nota da unidade Pavicolet (Amapá), mês 3: 1\n",
      "Nota da unidade Pavicolet (Amazonas), mês 2: 1\n",
      "Nota da unidade Pavicolet (Amazonas), mês 3: 1\n",
      "Nota da unidade Arteris Planalto Sul - Conserva, mês 2: 0.65\n",
      "Nota da unidade Arteris Planalto Sul - Conserva, mês 3: 0.3\n",
      "Nota da unidade Entrevias, mês 2: 1\n",
      "Nota da unidade Entrevias, mês 3: 1\n",
      "Nota da unidade Arteris Litoral Sul - Conserva, mês 2: 1\n",
      "Nota da unidade Arteris Litoral Sul - Conserva, mês 3: 1\n",
      "Nota da unidade Arteris Régis Bittencourt - Conserva, mês 2: 0.65\n",
      "Nota da unidade Arteris Régis Bittencourt - Conserva, mês 3: 0.65\n",
      "Nota da unidade Arteris Fluminense - Conserva, mês 2: 0\n",
      "Nota da unidade Arteris Fluminense - Conserva, mês 3: 0\n",
      "Nota da unidade Arteris Fernão Dias - Conserva, mês 2: 0.65\n",
      "Nota da unidade Arteris Fernão Dias - Conserva, mês 3: 1\n",
      "Nota da unidade ELO Ecovias dos Imigrantes, mês 2: 0.3\n",
      "Nota da unidade ELO Ecovias dos Imigrantes, mês 3: 0.3\n",
      "Nota da unidade ELO Rodovias dos Tamoios, mês 2: 0.3\n",
      "Nota da unidade ELO Rodovias dos Tamoios, mês 3: 0.65\n",
      "Nota da unidade Neovia Diamantino, mês 2: 1\n",
      "Nota da unidade Neovia Diamantino, mês 3: 0.65\n"
     ]
    }
   ],
   "source": [
    "resultados_por_empresa = {}\n",
    "\n",
    "for company in tqdm(road_companies, desc='Empresas'):\n",
    "    resultados_por_empresa[company] = x(months, company)\n",
    "\n",
    "for company, resultados in resultados_por_empresa.items():\n",
    "    for index, porcentagem_dias_de_uso in enumerate(resultados):\n",
    "        print(f\"Nota da unidade {company}, mês {months[index]}: {porcentagem_dias_de_uso}\")"
   ]
  },
  {
   "cell_type": "markdown",
   "id": "2559b47c",
   "metadata": {},
   "source": [
    "# w = variação número de apontamentos comparado ao mês anterior  "
   ]
  },
  {
   "cell_type": "code",
   "execution_count": 8,
   "id": "3c1b2ba2",
   "metadata": {},
   "outputs": [],
   "source": [
    "def calcular_variacao(atual, anterior):\n",
    "    if anterior == 0:\n",
    "        return 1, \"Aumento de 100%\"\n",
    "    # Quando não há apontamentos no mês anterior, é  considerado como aumento de 100%\n",
    "\n",
    "    variacao = (atual - anterior) / anterior * 100\n",
    "\n",
    "    if variacao >= 0:\n",
    "        return 1, \"Positivo\"  # Aumento ou igual é considerado Postivo\n",
    "    elif -15 <= variacao < 0:\n",
    "        return 0.7, \"Regular\"\n",
    "    elif -25 <= variacao < -15:\n",
    "        return 0.35, \"Mediano\"\n",
    "    else:\n",
    "        return 0, \"Atenção\""
   ]
  },
  {
   "cell_type": "code",
   "execution_count": 10,
   "id": "f4070a99",
   "metadata": {},
   "outputs": [
    {
     "data": {
      "application/vnd.jupyter.widget-view+json": {
       "model_id": "dbf1a9eb59bc43d490283ac35bec01cf",
       "version_major": 2,
       "version_minor": 0
      },
      "text/plain": [
       "  0%|          | 0/13 [00:00<?, ?it/s]"
      ]
     },
     "metadata": {},
     "output_type": "display_data"
    },
    {
     "name": "stdout",
     "output_type": "stream",
     "text": [
      "Neovia Planalto Sul 120 76\n",
      "Neovia Planalto Sul 1\n",
      "\n",
      "Sinalizavia (Municípios) 15 11\n",
      "Sinalizavia (Municípios) 1\n",
      "\n",
      "Pavicolet (Amapá) 492 102\n",
      "Pavicolet (Amapá) 1\n",
      "\n",
      "Pavicolet (Amazonas) 612 695\n",
      "Pavicolet (Amazonas) 0.7\n",
      "\n",
      "Arteris Planalto Sul - Conserva 656 381\n",
      "Arteris Planalto Sul - Conserva 1\n",
      "\n",
      "Entrevias 9422 8270\n",
      "Entrevias 1\n",
      "\n",
      "Arteris Litoral Sul - Conserva 32979 3705\n",
      "Arteris Litoral Sul - Conserva 1\n",
      "\n",
      "Arteris Régis Bittencourt - Conserva 3560 4770\n",
      "Arteris Régis Bittencourt - Conserva 0\n",
      "\n",
      "Arteris Fluminense - Conserva 7 18\n",
      "Arteris Fluminense - Conserva 0\n",
      "\n",
      "Arteris Fernão Dias - Conserva 1232 1114\n",
      "Arteris Fernão Dias - Conserva 1\n",
      "\n",
      "ELO Ecovias dos Imigrantes 309 472\n",
      "ELO Ecovias dos Imigrantes 0\n",
      "\n",
      "ELO Rodovias dos Tamoios 375 605\n",
      "ELO Rodovias dos Tamoios 0\n",
      "\n",
      "Neovia Diamantino 108 92\n",
      "Neovia Diamantino 1\n",
      "\n"
     ]
    }
   ],
   "source": [
    "# Cálculo de w\n",
    "w = []\n",
    "\n",
    "for company in tqdm(road_companies):\n",
    "    atual_count = Reporting.objects.filter(\n",
    "        company__name=company,\n",
    "        updated_at__year=today.year,\n",
    "        updated_at__month=today.month\n",
    "    ).exclude(\n",
    "        created_by__username='rlcs'\n",
    "    ).exclude(\n",
    "        created_by__username='neoviacs'\n",
    "    ).exclude(\n",
    "        created_by__username='arteriscs'\n",
    "    ).only('uuid').count()\n",
    "\n",
    "    anterior_count = Reporting.objects.filter(\n",
    "        company__name=company,\n",
    "        updated_at__year=last_month.year,\n",
    "        updated_at__month=last_month.month\n",
    "    ).exclude(\n",
    "        created_by__username='rlcs'\n",
    "    ).exclude(\n",
    "        created_by__username='neoviacs'\n",
    "    ).exclude(\n",
    "        created_by__username='arteriscs'\n",
    "    ).only('uuid').count()\n",
    "\n",
    "    atual = int(atual_count)\n",
    "    anterior = int(anterior_count)\n",
    "    print(company,atual,anterior)\n",
    "    # Calcular a variação\n",
    "    variacao, categoria = calcular_variacao(atual, anterior)\n",
    "    w.append((company, variacao))\n",
    "\n",
    "    print(company, variacao)\n",
    "    print()"
   ]
  },
  {
   "cell_type": "markdown",
   "id": "529c2fee",
   "metadata": {},
   "source": [
    "# k = programações"
   ]
  },
  {
   "cell_type": "code",
   "execution_count": 27,
   "id": "e3735782",
   "metadata": {},
   "outputs": [],
   "source": [
    "def calcular_valor_programacoes(programacoes):\n",
    "    # Obtém o número de programações\n",
    "    num_programacoes = programacoes.count()\n",
    "    \n",
    "    if num_programacoes >= 4:\n",
    "        return 1\n",
    "    elif 2 <= num_programacoes <= 3:\n",
    "        return 0.5\n",
    "    else:\n",
    "        return 0"
   ]
  },
  {
   "cell_type": "code",
   "execution_count": 28,
   "id": "e88a5c42",
   "metadata": {},
   "outputs": [
    {
     "data": {
      "application/vnd.jupyter.widget-view+json": {
       "model_id": "59eeca2ae38a44b0974c801efd3cd7c4",
       "version_major": 2,
       "version_minor": 0
      },
      "text/plain": [
       "  0%|          | 0/13 [00:00<?, ?it/s]"
      ]
     },
     "metadata": {},
     "output_type": "display_data"
    },
    {
     "name": "stdout",
     "output_type": "stream",
     "text": [
      "Neovia Planalto Sul: Nota programações mês anterior = 0\n",
      "Neovia Planalto Sul: Nota programações mês atual = 0\n",
      "Sinalizavia (Municípios): Nota programações mês anterior = 1\n",
      "Sinalizavia (Municípios): Nota programações mês atual = 0.5\n",
      "Pavicolet (Amapá): Nota programações mês anterior = 0.5\n",
      "Pavicolet (Amapá): Nota programações mês atual = 1\n",
      "Pavicolet (Amazonas): Nota programações mês anterior = 1\n",
      "Pavicolet (Amazonas): Nota programações mês atual = 1\n",
      "Arteris Planalto Sul - Conserva: Nota programações mês anterior = 1\n",
      "Arteris Planalto Sul - Conserva: Nota programações mês atual = 1\n",
      "Entrevias: Nota programações mês anterior = 1\n",
      "Entrevias: Nota programações mês atual = 1\n",
      "Arteris Litoral Sul - Conserva: Nota programações mês anterior = 1\n",
      "Arteris Litoral Sul - Conserva: Nota programações mês atual = 1\n",
      "Arteris Régis Bittencourt - Conserva: Nota programações mês anterior = 1\n",
      "Arteris Régis Bittencourt - Conserva: Nota programações mês atual = 1\n",
      "Arteris Fluminense - Conserva: Nota programações mês anterior = 0\n",
      "Arteris Fluminense - Conserva: Nota programações mês atual = 0\n",
      "Arteris Fernão Dias - Conserva: Nota programações mês anterior = 1\n",
      "Arteris Fernão Dias - Conserva: Nota programações mês atual = 1\n",
      "ELO Ecovias dos Imigrantes: Nota programações mês anterior = 1\n",
      "ELO Ecovias dos Imigrantes: Nota programações mês atual = 1\n",
      "ELO Rodovias dos Tamoios: Nota programações mês anterior = 1\n",
      "ELO Rodovias dos Tamoios: Nota programações mês atual = 1\n",
      "Neovia Diamantino: Nota programações mês anterior = 0\n",
      "Neovia Diamantino: Nota programações mês atual = 0\n"
     ]
    }
   ],
   "source": [
    "def k(road_companies, today, last_month,):\n",
    "    result = {}\n",
    "\n",
    "    for company in tqdm(road_companies):\n",
    "        last = Job.history.filter(\n",
    "            history_date__month=last_month.month,\n",
    "            history_date__year=last_month.year,\n",
    "            company__name=company,\n",
    "            history_type='+'\n",
    "        )\n",
    "\n",
    "        valor_mes_anterior = calcular_valor_programacoes(last)\n",
    "\n",
    "        print(f'{company}: Nota programações mês anterior = {valor_mes_anterior}')\n",
    "\n",
    "        atual = Job.history.filter(\n",
    "            history_date__month=today.month,\n",
    "            history_date__year=today.year,\n",
    "            company__name=company,\n",
    "            history_type='+'\n",
    "        )\n",
    "\n",
    "        valor_atual = calcular_valor_programacoes(atual)\n",
    "\n",
    "        print(f'{company}: Nota programações mês atual = {valor_atual}')\n",
    "\n",
    "        result[company] = (valor_atual, valor_mes_anterior)\n",
    "\n",
    "    return result\n",
    "\n",
    "# Chamando a função k e armazenando os resultados\n",
    "k_result = k(road_companies, today, last_month)"
   ]
  },
  {
   "cell_type": "markdown",
   "id": "510126c1",
   "metadata": {},
   "source": [
    "# q = recursos"
   ]
  },
  {
   "cell_type": "code",
   "execution_count": 29,
   "id": "a88f7273",
   "metadata": {},
   "outputs": [
    {
     "name": "stdout",
     "output_type": "stream",
     "text": [
      "Nota de recursos no mês atual:\n"
     ]
    },
    {
     "name": "stderr",
     "output_type": "stream",
     "text": [
      "  0%|                                                    | 0/13 [00:00<?, ?it/s]"
     ]
    },
    {
     "name": "stdout",
     "output_type": "stream",
     "text": [
      "Neovia Planalto Sul: Nota recursos = 0\n",
      "Sinalizavia (Municípios): Nota recursos = 0\n",
      "Pavicolet (Amapá): Nota recursos = 1\n",
      "Pavicolet (Amazonas): Nota recursos = 1\n",
      "Arteris Planalto Sul - Conserva: Nota recursos = 0\n",
      "Entrevias: Nota recursos = 0\n",
      "Arteris Litoral Sul - Conserva: Nota recursos = 1\n",
      "Arteris Régis Bittencourt - Conserva: Nota recursos = 0\n",
      "Arteris Fluminense - Conserva: Nota recursos = 0\n"
     ]
    },
    {
     "name": "stderr",
     "output_type": "stream",
     "text": [
      "100%|██████████████████████████████████████████| 13/13 [00:00<00:00, 324.67it/s]\n"
     ]
    },
    {
     "name": "stdout",
     "output_type": "stream",
     "text": [
      "Arteris Fernão Dias - Conserva: Nota recursos = 0\n",
      "ELO Ecovias dos Imigrantes: Nota recursos = 0\n",
      "ELO Rodovias dos Tamoios: Nota recursos = 0\n",
      "Neovia Diamantino: Nota recursos = 0\n",
      "\n",
      "Nota de recursos no mês anterior:\n"
     ]
    },
    {
     "name": "stderr",
     "output_type": "stream",
     "text": [
      "100%|██████████████████████████████████████████| 13/13 [00:00<00:00, 324.34it/s]"
     ]
    },
    {
     "name": "stdout",
     "output_type": "stream",
     "text": [
      "Neovia Planalto Sul: Nota recursos = 0\n",
      "Sinalizavia (Municípios): Nota recursos = 0\n",
      "Pavicolet (Amapá): Nota recursos = 1\n",
      "Pavicolet (Amazonas): Nota recursos = 0\n",
      "Arteris Planalto Sul - Conserva: Nota recursos = 0\n",
      "Entrevias: Nota recursos = 0\n",
      "Arteris Litoral Sul - Conserva: Nota recursos = 1\n",
      "Arteris Régis Bittencourt - Conserva: Nota recursos = 0\n",
      "Arteris Fluminense - Conserva: Nota recursos = 0\n",
      "Arteris Fernão Dias - Conserva: Nota recursos = 0\n",
      "ELO Ecovias dos Imigrantes: Nota recursos = 0\n",
      "ELO Rodovias dos Tamoios: Nota recursos = 0\n",
      "Neovia Diamantino: Nota recursos = 0\n"
     ]
    },
    {
     "name": "stderr",
     "output_type": "stream",
     "text": [
      "\n"
     ]
    }
   ],
   "source": [
    "from tqdm import tqdm\n",
    "\n",
    "def q(road_companies, today, last_month):\n",
    "    result = []\n",
    "\n",
    "    print(\"Nota de recursos no mês atual:\")\n",
    "    for company in tqdm(road_companies):\n",
    "        contador = 0\n",
    "        total_equipes = ProcedureResource.objects.filter(\n",
    "            firm__company__name=company,\n",
    "            creation_date__month=today.month,\n",
    "            creation_date__year=today.year\n",
    "        ).count()\n",
    "\n",
    "        # Verificando se foram criados recursos no mês atual\n",
    "        porcentagem_atual = 1 if total_equipes > 0 else 0\n",
    "        result.append((company, porcentagem_atual))\n",
    "        print(f'{company}: Nota recursos = {porcentagem_atual}')\n",
    "\n",
    "    print()\n",
    "\n",
    "    # Calculando a porcentagem para o mês anterior\n",
    "    print(\"Nota de recursos no mês anterior:\")\n",
    "    for company in tqdm(road_companies):\n",
    "        contador = 0\n",
    "        total_equipes = ProcedureResource.objects.filter(\n",
    "            firm__company__name=company,\n",
    "            creation_date__month=last_month.month,\n",
    "            creation_date__year=last_month.year\n",
    "        ).count()\n",
    "\n",
    "        # Verificando se foram criados recursos no mês anterior\n",
    "        porcentagem_anterior = 1 if total_equipes > 0 else 0\n",
    "        result.append((company, porcentagem_anterior))\n",
    "        print(f'{company}: Nota recursos = {porcentagem_anterior}')\n",
    "\n",
    "    return result\n",
    "\n",
    "# Chamando a função q e armazenando os resultados\n",
    "q_result = q(road_companies, last_month, today)"
   ]
  },
  {
   "cell_type": "markdown",
   "id": "992e8f2b",
   "metadata": {},
   "source": [
    "# j = RDOs"
   ]
  },
  {
   "cell_type": "code",
   "execution_count": 30,
   "id": "8a55b748",
   "metadata": {},
   "outputs": [],
   "source": [
    "def calcular_valor_RDO(porcentagem):\n",
    "    if porcentagem >= 50:\n",
    "        return 1\n",
    "    elif 15 <= porcentagem < 50:\n",
    "        return 0.5\n",
    "    else:\n",
    "        return 0"
   ]
  },
  {
   "cell_type": "code",
   "execution_count": 31,
   "id": "5ee8ad97",
   "metadata": {},
   "outputs": [
    {
     "name": "stdout",
     "output_type": "stream",
     "text": [
      "Porcentagem de equipes com RDOs criados no mês atual:\n"
     ]
    },
    {
     "name": "stderr",
     "output_type": "stream",
     "text": [
      "  0%|                                                    | 0/13 [00:00<?, ?it/s]"
     ]
    },
    {
     "name": "stdout",
     "output_type": "stream",
     "text": [
      "Empresa: Neovia Planalto Sul, Nota RDO: 0\n",
      "Empresa: Sinalizavia (Municípios), Nota RDO: 0\n",
      "Empresa: Pavicolet (Amapá), Nota RDO: 0.5\n"
     ]
    },
    {
     "name": "stderr",
     "output_type": "stream",
     "text": [
      " 31%|█████████████▌                              | 4/13 [00:00<00:00, 35.64it/s]"
     ]
    },
    {
     "name": "stdout",
     "output_type": "stream",
     "text": [
      "Empresa: Pavicolet (Amazonas), Nota RDO: 0\n",
      "Empresa: Arteris Planalto Sul - Conserva, Nota RDO: 0.5\n",
      "Empresa: Entrevias, Nota RDO: 0.5\n",
      "Empresa: Arteris Litoral Sul - Conserva, Nota RDO: 0.5\n"
     ]
    },
    {
     "name": "stderr",
     "output_type": "stream",
     "text": [
      " 62%|███████████████████████████                 | 8/13 [00:00<00:00,  7.90it/s]"
     ]
    },
    {
     "name": "stdout",
     "output_type": "stream",
     "text": [
      "Empresa: Arteris Régis Bittencourt - Conserva, Nota RDO: 0.5\n",
      "Empresa: Arteris Fluminense - Conserva, Nota RDO: 0\n"
     ]
    },
    {
     "name": "stderr",
     "output_type": "stream",
     "text": [
      "100%|███████████████████████████████████████████| 13/13 [00:01<00:00, 10.69it/s]\n"
     ]
    },
    {
     "name": "stdout",
     "output_type": "stream",
     "text": [
      "Empresa: Arteris Fernão Dias - Conserva, Nota RDO: 0.5\n",
      "Empresa: ELO Ecovias dos Imigrantes, Nota RDO: 0\n",
      "Empresa: ELO Rodovias dos Tamoios, Nota RDO: 0\n",
      "Empresa: Neovia Diamantino, Nota RDO: 0\n",
      "\n",
      "Porcentagem de equipes com RDOs criados no mês anterior:\n"
     ]
    },
    {
     "name": "stderr",
     "output_type": "stream",
     "text": [
      " 31%|█████████████▌                              | 4/13 [00:00<00:00, 35.37it/s]"
     ]
    },
    {
     "name": "stdout",
     "output_type": "stream",
     "text": [
      "Empresa: Neovia Planalto Sul, Nota RDO: 0\n",
      "Empresa: Sinalizavia (Municípios), Nota RDO: 0\n",
      "Empresa: Pavicolet (Amapá), Nota RDO: 0.5\n",
      "Empresa: Pavicolet (Amazonas), Nota RDO: 0\n",
      "Empresa: Arteris Planalto Sul - Conserva, Nota RDO: 0.5\n",
      "Empresa: Entrevias, Nota RDO: 0.5\n",
      "Empresa: Arteris Litoral Sul - Conserva, Nota RDO: 1\n"
     ]
    },
    {
     "name": "stderr",
     "output_type": "stream",
     "text": [
      " 62%|███████████████████████████                 | 8/13 [00:00<00:00,  8.39it/s]"
     ]
    },
    {
     "name": "stdout",
     "output_type": "stream",
     "text": [
      "Empresa: Arteris Régis Bittencourt - Conserva, Nota RDO: 0.5\n",
      "Empresa: Arteris Fluminense - Conserva, Nota RDO: 0\n"
     ]
    },
    {
     "name": "stderr",
     "output_type": "stream",
     "text": [
      "100%|███████████████████████████████████████████| 13/13 [00:01<00:00, 10.53it/s]"
     ]
    },
    {
     "name": "stdout",
     "output_type": "stream",
     "text": [
      "Empresa: Arteris Fernão Dias - Conserva, Nota RDO: 0.5\n",
      "Empresa: ELO Ecovias dos Imigrantes, Nota RDO: 0\n",
      "Empresa: ELO Rodovias dos Tamoios, Nota RDO: 0\n",
      "Empresa: Neovia Diamantino, Nota RDO: 0\n"
     ]
    },
    {
     "name": "stderr",
     "output_type": "stream",
     "text": [
      "\n"
     ]
    }
   ],
   "source": [
    "def j(road_companies, today, last_month):\n",
    "    valor_RDO_atual_por_empresa = {}\n",
    "    valor_RDO_anterior_por_empresa = {}\n",
    "\n",
    "    print(\"Porcentagem de equipes com RDOs criados no mês atual:\")\n",
    "    for company in tqdm(road_companies):\n",
    "        contador = 0\n",
    "        firms = Firm.objects.filter(company__name=company)\n",
    "        total_equipes = firms.count()\n",
    "\n",
    "        for firm in firms:\n",
    "            if firm.firm_multiple_daily_report.filter(\n",
    "                Q(date__month=today.month),\n",
    "                Q(date__year=today.year)\n",
    "            ).exists():\n",
    "                contador += 1\n",
    "\n",
    "        porcentagem_atual = (contador / total_equipes) * 100 if total_equipes != 0 else 0\n",
    "        valor_RDO_atual = calcular_valor_RDO(porcentagem_atual)\n",
    "        print(f'Empresa: {company}, Nota RDO: {valor_RDO_atual}')\n",
    "        valor_RDO_atual_por_empresa[company] = valor_RDO_atual\n",
    "\n",
    "    print()\n",
    "\n",
    "    # Calculando a porcentagem para o mês anterior\n",
    "    print(\"Porcentagem de equipes com RDOs criados no mês anterior:\")\n",
    "    for company in tqdm(road_companies):\n",
    "        contador = 0\n",
    "        firms = Firm.objects.filter(company__name=company)\n",
    "        total_equipes = firms.count()\n",
    "\n",
    "        for firm in firms:\n",
    "            if firm.firm_multiple_daily_report.filter(\n",
    "                Q(date__month=last_month.month),\n",
    "                Q(date__year=last_month.year)\n",
    "            ).exists():\n",
    "                contador += 1\n",
    "\n",
    "        porcentagem_anterior = (contador / total_equipes) * 100 if total_equipes != 0 else 0\n",
    "        valor_RDO_anterior = calcular_valor_RDO(porcentagem_anterior)\n",
    "        print(f'Empresa: {company}, Nota RDO: {valor_RDO_anterior}')\n",
    "        valor_RDO_anterior_por_empresa[company] = valor_RDO_anterior\n",
    "\n",
    "    return valor_RDO_atual_por_empresa, valor_RDO_anterior_por_empresa\n",
    "\n",
    "valor_RDO_atual_por_empresa, valor_RDO_anterior_por_empresa = j(road_companies, today, last_month)"
   ]
  },
  {
   "cell_type": "markdown",
   "id": "22661c0c",
   "metadata": {},
   "source": [
    "# HS (básico) "
   ]
  },
  {
   "cell_type": "markdown",
   "id": "63b96081",
   "metadata": {},
   "source": [
    "Exemplo:\n",
    "    Porcentagem de uso 0.3\n",
    "    Variação de apontamentos: 1\n",
    "Exemplo cálculo:\n",
    "    hs_basico = 50 * 0.3 + 50 * 1\n",
    "          = 15 + 50\n",
    "          = 65"
   ]
  },
  {
   "cell_type": "code",
   "execution_count": 32,
   "id": "6f4ec9e6",
   "metadata": {},
   "outputs": [
    {
     "name": "stdout",
     "output_type": "stream",
     "text": [
      "Empresa: Neovia Planalto Sul            | Mês: 2          | Porcentagem de dias de uso: 0.3 | Variação de apontamentos: 1\n",
      "HS Básico para a empresa Neovia Planalto Sul no mês 2: 65.0\n",
      "\n",
      "Empresa: Neovia Planalto Sul            | Mês: 3          | Porcentagem de dias de uso: 0.3 | Variação de apontamentos: 1\n",
      "HS Básico para a empresa Neovia Planalto Sul no mês 3: 65.0\n",
      "\n",
      "Empresa: Sinalizavia (Municípios)       | Mês: 2          | Porcentagem de dias de uso: 0 | Variação de apontamentos: 1\n",
      "HS Básico para a empresa Sinalizavia (Municípios) no mês 2: 50\n",
      "\n",
      "Empresa: Sinalizavia (Municípios)       | Mês: 3          | Porcentagem de dias de uso: 0 | Variação de apontamentos: 1\n",
      "HS Básico para a empresa Sinalizavia (Municípios) no mês 3: 50\n",
      "\n",
      "Empresa: Pavicolet (Amapá)              | Mês: 2          | Porcentagem de dias de uso: 0.3 | Variação de apontamentos: 1\n",
      "HS Básico para a empresa Pavicolet (Amapá) no mês 2: 65.0\n",
      "\n",
      "Empresa: Pavicolet (Amapá)              | Mês: 3          | Porcentagem de dias de uso: 0.65 | Variação de apontamentos: 1\n",
      "HS Básico para a empresa Pavicolet (Amapá) no mês 3: 82.5\n",
      "\n",
      "Empresa: Pavicolet (Amazonas)           | Mês: 2          | Porcentagem de dias de uso: 1 | Variação de apontamentos: 0.35\n",
      "HS Básico para a empresa Pavicolet (Amazonas) no mês 2: 67.5\n",
      "\n",
      "Empresa: Pavicolet (Amazonas)           | Mês: 3          | Porcentagem de dias de uso: 1 | Variação de apontamentos: 0.35\n",
      "HS Básico para a empresa Pavicolet (Amazonas) no mês 3: 67.5\n",
      "\n",
      "Empresa: Arteris Planalto Sul - Conserva | Mês: 2          | Porcentagem de dias de uso: 0.65 | Variação de apontamentos: 1\n",
      "HS Básico para a empresa Arteris Planalto Sul - Conserva no mês 2: 82.5\n",
      "\n",
      "Empresa: Arteris Planalto Sul - Conserva | Mês: 3          | Porcentagem de dias de uso: 0.3 | Variação de apontamentos: 1\n",
      "HS Básico para a empresa Arteris Planalto Sul - Conserva no mês 3: 65.0\n",
      "\n",
      "Empresa: Entrevias                      | Mês: 2          | Porcentagem de dias de uso: 1 | Variação de apontamentos: 1\n",
      "HS Básico para a empresa Entrevias no mês 2: 100\n",
      "\n",
      "Empresa: Entrevias                      | Mês: 3          | Porcentagem de dias de uso: 1 | Variação de apontamentos: 1\n",
      "HS Básico para a empresa Entrevias no mês 3: 100\n",
      "\n",
      "Empresa: Arteris Litoral Sul - Conserva | Mês: 2          | Porcentagem de dias de uso: 1 | Variação de apontamentos: 1\n",
      "HS Básico para a empresa Arteris Litoral Sul - Conserva no mês 2: 100\n",
      "\n",
      "Empresa: Arteris Litoral Sul - Conserva | Mês: 3          | Porcentagem de dias de uso: 0.65 | Variação de apontamentos: 1\n",
      "HS Básico para a empresa Arteris Litoral Sul - Conserva no mês 3: 82.5\n",
      "\n",
      "Empresa: Arteris Régis Bittencourt - Conserva | Mês: 2          | Porcentagem de dias de uso: 0.65 | Variação de apontamentos: 0\n",
      "HS Básico para a empresa Arteris Régis Bittencourt - Conserva no mês 2: 32.5\n",
      "\n",
      "Empresa: Arteris Régis Bittencourt - Conserva | Mês: 3          | Porcentagem de dias de uso: 0.3 | Variação de apontamentos: 0\n",
      "HS Básico para a empresa Arteris Régis Bittencourt - Conserva no mês 3: 15.0\n",
      "\n",
      "Empresa: Arteris Fluminense - Conserva  | Mês: 2          | Porcentagem de dias de uso: 0 | Variação de apontamentos: 0\n",
      "HS Básico para a empresa Arteris Fluminense - Conserva no mês 2: 0\n",
      "\n",
      "Empresa: Arteris Fluminense - Conserva  | Mês: 3          | Porcentagem de dias de uso: 0 | Variação de apontamentos: 0\n",
      "HS Básico para a empresa Arteris Fluminense - Conserva no mês 3: 0\n",
      "\n",
      "Empresa: Arteris Fernão Dias - Conserva | Mês: 2          | Porcentagem de dias de uso: 0.65 | Variação de apontamentos: 1\n",
      "HS Básico para a empresa Arteris Fernão Dias - Conserva no mês 2: 82.5\n",
      "\n",
      "Empresa: Arteris Fernão Dias - Conserva | Mês: 3          | Porcentagem de dias de uso: 0.65 | Variação de apontamentos: 1\n",
      "HS Básico para a empresa Arteris Fernão Dias - Conserva no mês 3: 82.5\n",
      "\n",
      "Empresa: ELO Ecovias dos Imigrantes     | Mês: 2          | Porcentagem de dias de uso: 0.3 | Variação de apontamentos: 0\n",
      "HS Básico para a empresa ELO Ecovias dos Imigrantes no mês 2: 15.0\n",
      "\n",
      "Empresa: ELO Ecovias dos Imigrantes     | Mês: 3          | Porcentagem de dias de uso: 0.3 | Variação de apontamentos: 0\n",
      "HS Básico para a empresa ELO Ecovias dos Imigrantes no mês 3: 15.0\n",
      "\n",
      "Empresa: ELO Rodovias dos Tamoios       | Mês: 2          | Porcentagem de dias de uso: 0.3 | Variação de apontamentos: 0\n",
      "HS Básico para a empresa ELO Rodovias dos Tamoios no mês 2: 15.0\n",
      "\n",
      "Empresa: ELO Rodovias dos Tamoios       | Mês: 3          | Porcentagem de dias de uso: 0.3 | Variação de apontamentos: 0\n",
      "HS Básico para a empresa ELO Rodovias dos Tamoios no mês 3: 15.0\n",
      "\n",
      "Empresa: Neovia Diamantino              | Mês: 2          | Porcentagem de dias de uso: 1 | Variação de apontamentos: 1\n",
      "HS Básico para a empresa Neovia Diamantino no mês 2: 100\n",
      "\n",
      "Empresa: Neovia Diamantino              | Mês: 3          | Porcentagem de dias de uso: 0.65 | Variação de apontamentos: 1\n",
      "HS Básico para a empresa Neovia Diamantino no mês 3: 82.5\n",
      "\n"
     ]
    }
   ],
   "source": [
    "def calcular_hs_basico(resultados_por_empresa, w):\n",
    "    hs_basico = {}\n",
    "    hs_export_basico = {}\n",
    "\n",
    "    for company, variacao in w:\n",
    "        hs_basico[company] = []\n",
    "        hs_export_basico[company] = []\n",
    "\n",
    "        for i, month in enumerate(months):\n",
    "            porcentagem_dias_de_uso = resultados_por_empresa[company][i]\n",
    "            variacao_apontamentos = variacao\n",
    "            \n",
    "            hs_basico_value = 50 * porcentagem_dias_de_uso + 50 * variacao_apontamentos\n",
    "            \n",
    "            company_str = str(company).ljust(30)\n",
    "            month_str = str(month).ljust(10)\n",
    "            print(f\"Empresa: {company_str} | Mês: {month_str} | Porcentagem de dias de uso: {porcentagem_dias_de_uso} | Variação de apontamentos: {variacao_apontamentos}\")\n",
    "            print(f\"HS Básico para a empresa {company} no mês {month}: {hs_basico_value}\\n\")\n",
    "\n",
    "            hs_basico[company].append(hs_basico_value)\n",
    "            hs_export_basico[company].append(hs_basico_value)\n",
    "\n",
    "    return hs_basico, hs_export_basico\n",
    "\n",
    "hs_basico, hs_export_basico = calcular_hs_basico(resultados_por_empresa, w)"
   ]
  },
  {
   "cell_type": "markdown",
   "id": "dd31e1ed",
   "metadata": {},
   "source": [
    "# HS (intermediário) "
   ]
  },
  {
   "cell_type": "markdown",
   "id": "e32c2187",
   "metadata": {},
   "source": [
    "Exemplo:\n",
    "    Porcentagem de uso 0.3\n",
    "    Variação de apontamentos: 1\n",
    "    Nota programações: 0\n",
    "Exemplo de cálculo:\n",
    "    hs_intermediario = 34 * 0.3 + 34 * 1 + 32 * 0\n",
    "                     = 10.2 + 34 + 0\n",
    "                     = 44.2"
   ]
  },
  {
   "cell_type": "code",
   "execution_count": 33,
   "id": "44ab2696",
   "metadata": {},
   "outputs": [
    {
     "name": "stdout",
     "output_type": "stream",
     "text": [
      "Empresa: Neovia Planalto Sul            | Mês: 2          | Porcentagem de dias de uso: 0.3 | Variação de apontamentos: 1 | Valor de programações: 0\n",
      "HS Intermediário para a empresa Neovia Planalto Sul no mês 2: 44.2\n",
      "\n",
      "Empresa: Neovia Planalto Sul            | Mês: 3          | Porcentagem de dias de uso: 0.3 | Variação de apontamentos: 1 | Valor de programações: 0\n",
      "HS Intermediário para a empresa Neovia Planalto Sul no mês 3: 44.2\n",
      "\n",
      "Empresa: Sinalizavia (Municípios)       | Mês: 2          | Porcentagem de dias de uso: 0 | Variação de apontamentos: 1 | Valor de programações: 0.5\n",
      "HS Intermediário para a empresa Sinalizavia (Municípios) no mês 2: 50.0\n",
      "\n",
      "Empresa: Sinalizavia (Municípios)       | Mês: 3          | Porcentagem de dias de uso: 0 | Variação de apontamentos: 1 | Valor de programações: 1\n",
      "HS Intermediário para a empresa Sinalizavia (Municípios) no mês 3: 66\n",
      "\n",
      "Empresa: Pavicolet (Amapá)              | Mês: 2          | Porcentagem de dias de uso: 0.3 | Variação de apontamentos: 1 | Valor de programações: 1\n",
      "HS Intermediário para a empresa Pavicolet (Amapá) no mês 2: 76.2\n",
      "\n",
      "Empresa: Pavicolet (Amapá)              | Mês: 3          | Porcentagem de dias de uso: 0.65 | Variação de apontamentos: 1 | Valor de programações: 0.5\n",
      "HS Intermediário para a empresa Pavicolet (Amapá) no mês 3: 72.1\n",
      "\n",
      "Empresa: Pavicolet (Amazonas)           | Mês: 2          | Porcentagem de dias de uso: 1 | Variação de apontamentos: 0.35 | Valor de programações: 1\n",
      "HS Intermediário para a empresa Pavicolet (Amazonas) no mês 2: 77.9\n",
      "\n",
      "Empresa: Pavicolet (Amazonas)           | Mês: 3          | Porcentagem de dias de uso: 1 | Variação de apontamentos: 0.35 | Valor de programações: 1\n",
      "HS Intermediário para a empresa Pavicolet (Amazonas) no mês 3: 77.9\n",
      "\n",
      "Empresa: Arteris Planalto Sul - Conserva | Mês: 2          | Porcentagem de dias de uso: 0.65 | Variação de apontamentos: 1 | Valor de programações: 1\n",
      "HS Intermediário para a empresa Arteris Planalto Sul - Conserva no mês 2: 88.1\n",
      "\n",
      "Empresa: Arteris Planalto Sul - Conserva | Mês: 3          | Porcentagem de dias de uso: 0.3 | Variação de apontamentos: 1 | Valor de programações: 1\n",
      "HS Intermediário para a empresa Arteris Planalto Sul - Conserva no mês 3: 76.2\n",
      "\n",
      "Empresa: Entrevias                      | Mês: 2          | Porcentagem de dias de uso: 1 | Variação de apontamentos: 1 | Valor de programações: 1\n",
      "HS Intermediário para a empresa Entrevias no mês 2: 100\n",
      "\n",
      "Empresa: Entrevias                      | Mês: 3          | Porcentagem de dias de uso: 1 | Variação de apontamentos: 1 | Valor de programações: 1\n",
      "HS Intermediário para a empresa Entrevias no mês 3: 100\n",
      "\n",
      "Empresa: Arteris Litoral Sul - Conserva | Mês: 2          | Porcentagem de dias de uso: 1 | Variação de apontamentos: 1 | Valor de programações: 1\n",
      "HS Intermediário para a empresa Arteris Litoral Sul - Conserva no mês 2: 100\n",
      "\n",
      "Empresa: Arteris Litoral Sul - Conserva | Mês: 3          | Porcentagem de dias de uso: 0.65 | Variação de apontamentos: 1 | Valor de programações: 1\n",
      "HS Intermediário para a empresa Arteris Litoral Sul - Conserva no mês 3: 88.1\n",
      "\n",
      "Empresa: Arteris Régis Bittencourt - Conserva | Mês: 2          | Porcentagem de dias de uso: 0.65 | Variação de apontamentos: 0 | Valor de programações: 1\n",
      "HS Intermediário para a empresa Arteris Régis Bittencourt - Conserva no mês 2: 54.1\n",
      "\n",
      "Empresa: Arteris Régis Bittencourt - Conserva | Mês: 3          | Porcentagem de dias de uso: 0.3 | Variação de apontamentos: 0 | Valor de programações: 1\n",
      "HS Intermediário para a empresa Arteris Régis Bittencourt - Conserva no mês 3: 42.2\n",
      "\n",
      "Empresa: Arteris Fluminense - Conserva  | Mês: 2          | Porcentagem de dias de uso: 0 | Variação de apontamentos: 0 | Valor de programações: 0\n",
      "HS Intermediário para a empresa Arteris Fluminense - Conserva no mês 2: 0\n",
      "\n",
      "Empresa: Arteris Fluminense - Conserva  | Mês: 3          | Porcentagem de dias de uso: 0 | Variação de apontamentos: 0 | Valor de programações: 0\n",
      "HS Intermediário para a empresa Arteris Fluminense - Conserva no mês 3: 0\n",
      "\n",
      "Empresa: Arteris Fernão Dias - Conserva | Mês: 2          | Porcentagem de dias de uso: 0.65 | Variação de apontamentos: 1 | Valor de programações: 1\n",
      "HS Intermediário para a empresa Arteris Fernão Dias - Conserva no mês 2: 88.1\n",
      "\n",
      "Empresa: Arteris Fernão Dias - Conserva | Mês: 3          | Porcentagem de dias de uso: 0.65 | Variação de apontamentos: 1 | Valor de programações: 1\n",
      "HS Intermediário para a empresa Arteris Fernão Dias - Conserva no mês 3: 88.1\n",
      "\n",
      "Empresa: ELO Ecovias dos Imigrantes     | Mês: 2          | Porcentagem de dias de uso: 0.3 | Variação de apontamentos: 0 | Valor de programações: 1\n",
      "HS Intermediário para a empresa ELO Ecovias dos Imigrantes no mês 2: 42.2\n",
      "\n",
      "Empresa: ELO Ecovias dos Imigrantes     | Mês: 3          | Porcentagem de dias de uso: 0.3 | Variação de apontamentos: 0 | Valor de programações: 1\n",
      "HS Intermediário para a empresa ELO Ecovias dos Imigrantes no mês 3: 42.2\n",
      "\n",
      "Empresa: ELO Rodovias dos Tamoios       | Mês: 2          | Porcentagem de dias de uso: 0.3 | Variação de apontamentos: 0 | Valor de programações: 1\n",
      "HS Intermediário para a empresa ELO Rodovias dos Tamoios no mês 2: 42.2\n",
      "\n",
      "Empresa: ELO Rodovias dos Tamoios       | Mês: 3          | Porcentagem de dias de uso: 0.3 | Variação de apontamentos: 0 | Valor de programações: 1\n",
      "HS Intermediário para a empresa ELO Rodovias dos Tamoios no mês 3: 42.2\n",
      "\n",
      "Empresa: Neovia Diamantino              | Mês: 2          | Porcentagem de dias de uso: 1 | Variação de apontamentos: 1 | Valor de programações: 0\n",
      "HS Intermediário para a empresa Neovia Diamantino no mês 2: 68\n",
      "\n",
      "Empresa: Neovia Diamantino              | Mês: 3          | Porcentagem de dias de uso: 0.65 | Variação de apontamentos: 1 | Valor de programações: 0\n",
      "HS Intermediário para a empresa Neovia Diamantino no mês 3: 56.1\n",
      "\n"
     ]
    }
   ],
   "source": [
    "def calcular_hs_intermediario(resultados_por_empresa, w, k_result):\n",
    "    hs_intermediario = {}\n",
    "    hs_export_intermediario = {}\n",
    "\n",
    "    for company, variacao in w:\n",
    "        hs_intermediario[company] = []\n",
    "        hs_export_intermediario[company] = []\n",
    "\n",
    "        for i, month in enumerate(months):\n",
    "            porcentagem_dias_de_uso = resultados_por_empresa[company][i]\n",
    "            variacao_apontamentos = variacao\n",
    "            valor_programacoes = k_result[company][i]\n",
    "            \n",
    "            hs_intermediario_value = 34 * porcentagem_dias_de_uso + 34 * variacao_apontamentos + 32 * valor_programacoes\n",
    "            \n",
    "            company_str = str(company).ljust(30)\n",
    "            month_str = str(month).ljust(10)\n",
    "            print(f\"Empresa: {company_str} | Mês: {month_str} | Porcentagem de dias de uso: {porcentagem_dias_de_uso} | Variação de apontamentos: {variacao_apontamentos} | Valor de programações: {valor_programacoes}\")\n",
    "            print(f\"HS Intermediário para a empresa {company} no mês {month}: {hs_intermediario_value}\\n\")\n",
    "\n",
    "            hs_intermediario[company].append(hs_intermediario_value)\n",
    "            hs_export_intermediario[company].append(hs_intermediario_value)\n",
    "\n",
    "    return hs_intermediario, hs_export_intermediario\n",
    "\n",
    "hs_intermediario, hs_export_intermediario = calcular_hs_intermediario(resultados_por_empresa, w, k_result)"
   ]
  },
  {
   "cell_type": "markdown",
   "id": "479692d5",
   "metadata": {},
   "source": [
    "# HS (avançado) "
   ]
  },
  {
   "cell_type": "markdown",
   "id": "c07feccc",
   "metadata": {},
   "source": [
    "Exemplo:\n",
    "    Porcentagem de uso: 0.3\n",
    "    Variação de apontamentos: 1 (Positivo)\n",
    "    Nota programações: 0\n",
    "    Nota Recursos = 0\n",
    "    Nota RDO: 0\n",
    "Exemplo de cálculo:\n",
    "    hs_avancado_value = 20 * (0.3 + 1 + 0 + 0 + 0)\n",
    "                      = 20 * 1.3\n",
    "                      = 26"
   ]
  },
  {
   "cell_type": "code",
   "execution_count": 34,
   "id": "518f975b",
   "metadata": {
    "scrolled": true
   },
   "outputs": [
    {
     "name": "stdout",
     "output_type": "stream",
     "text": [
      "Empresa: Neovia Planalto Sul            | Mês: 2          | Porcentagem de dias de uso: 0.3 | Variação de apontamentos: 1 | Valor de programações: 0 | Nota de recursos: 0 | Nota RDO: 0\n",
      "HS Avançado para a empresa Neovia Planalto Sul no mês 2: 26.0\n",
      "\n",
      "Empresa: Neovia Planalto Sul            | Mês: 3          | Porcentagem de dias de uso: 0.3 | Variação de apontamentos: 1 | Valor de programações: 0 | Nota de recursos: 0 | Nota RDO: 0\n",
      "HS Avançado para a empresa Neovia Planalto Sul no mês 3: 26.0\n",
      "\n",
      "Empresa: Sinalizavia (Municípios)       | Mês: 2          | Porcentagem de dias de uso: 0 | Variação de apontamentos: 1 | Valor de programações: 0.5 | Nota de recursos: 0 | Nota RDO: 0\n",
      "HS Avançado para a empresa Sinalizavia (Municípios) no mês 2: 30.0\n",
      "\n",
      "Empresa: Sinalizavia (Municípios)       | Mês: 3          | Porcentagem de dias de uso: 0 | Variação de apontamentos: 1 | Valor de programações: 1 | Nota de recursos: 0 | Nota RDO: 0\n",
      "HS Avançado para a empresa Sinalizavia (Municípios) no mês 3: 40\n",
      "\n",
      "Empresa: Pavicolet (Amapá)              | Mês: 2          | Porcentagem de dias de uso: 0.3 | Variação de apontamentos: 1 | Valor de programações: 1 | Nota de recursos: 0 | Nota RDO: 0.5\n",
      "HS Avançado para a empresa Pavicolet (Amapá) no mês 2: 56.0\n",
      "\n",
      "Empresa: Pavicolet (Amapá)              | Mês: 3          | Porcentagem de dias de uso: 0.65 | Variação de apontamentos: 1 | Valor de programações: 0.5 | Nota de recursos: 0 | Nota RDO: 0.5\n",
      "HS Avançado para a empresa Pavicolet (Amapá) no mês 3: 53.0\n",
      "\n",
      "Empresa: Pavicolet (Amazonas)           | Mês: 2          | Porcentagem de dias de uso: 1 | Variação de apontamentos: 0.35 | Valor de programações: 1 | Nota de recursos: 0 | Nota RDO: 0\n",
      "HS Avançado para a empresa Pavicolet (Amazonas) no mês 2: 47.0\n",
      "\n",
      "Empresa: Pavicolet (Amazonas)           | Mês: 3          | Porcentagem de dias de uso: 1 | Variação de apontamentos: 0.35 | Valor de programações: 1 | Nota de recursos: 0 | Nota RDO: 0\n",
      "HS Avançado para a empresa Pavicolet (Amazonas) no mês 3: 47.0\n",
      "\n",
      "Empresa: Arteris Planalto Sul - Conserva | Mês: 2          | Porcentagem de dias de uso: 0.65 | Variação de apontamentos: 1 | Valor de programações: 1 | Nota de recursos: 0 | Nota RDO: 0.5\n",
      "HS Avançado para a empresa Arteris Planalto Sul - Conserva no mês 2: 63.0\n",
      "\n",
      "Empresa: Arteris Planalto Sul - Conserva | Mês: 3          | Porcentagem de dias de uso: 0.3 | Variação de apontamentos: 1 | Valor de programações: 1 | Nota de recursos: 0 | Nota RDO: 0.5\n",
      "HS Avançado para a empresa Arteris Planalto Sul - Conserva no mês 3: 56.0\n",
      "\n",
      "Empresa: Entrevias                      | Mês: 2          | Porcentagem de dias de uso: 1 | Variação de apontamentos: 1 | Valor de programações: 1 | Nota de recursos: 0 | Nota RDO: 0.5\n",
      "HS Avançado para a empresa Entrevias no mês 2: 70.0\n",
      "\n",
      "Empresa: Entrevias                      | Mês: 3          | Porcentagem de dias de uso: 1 | Variação de apontamentos: 1 | Valor de programações: 1 | Nota de recursos: 0 | Nota RDO: 0.5\n",
      "HS Avançado para a empresa Entrevias no mês 3: 70.0\n",
      "\n",
      "Empresa: Arteris Litoral Sul - Conserva | Mês: 2          | Porcentagem de dias de uso: 1 | Variação de apontamentos: 1 | Valor de programações: 1 | Nota de recursos: 0 | Nota RDO: 0.5\n",
      "HS Avançado para a empresa Arteris Litoral Sul - Conserva no mês 2: 70.0\n",
      "\n",
      "Empresa: Arteris Litoral Sul - Conserva | Mês: 3          | Porcentagem de dias de uso: 0.65 | Variação de apontamentos: 1 | Valor de programações: 1 | Nota de recursos: 0 | Nota RDO: 0.5\n",
      "HS Avançado para a empresa Arteris Litoral Sul - Conserva no mês 3: 63.0\n",
      "\n",
      "Empresa: Arteris Régis Bittencourt - Conserva | Mês: 2          | Porcentagem de dias de uso: 0.65 | Variação de apontamentos: 0 | Valor de programações: 1 | Nota de recursos: 0 | Nota RDO: 0.5\n",
      "HS Avançado para a empresa Arteris Régis Bittencourt - Conserva no mês 2: 43.0\n",
      "\n",
      "Empresa: Arteris Régis Bittencourt - Conserva | Mês: 3          | Porcentagem de dias de uso: 0.3 | Variação de apontamentos: 0 | Valor de programações: 1 | Nota de recursos: 0 | Nota RDO: 0.5\n",
      "HS Avançado para a empresa Arteris Régis Bittencourt - Conserva no mês 3: 36.0\n",
      "\n",
      "Empresa: Arteris Fluminense - Conserva  | Mês: 2          | Porcentagem de dias de uso: 0 | Variação de apontamentos: 0 | Valor de programações: 0 | Nota de recursos: 0 | Nota RDO: 0\n",
      "HS Avançado para a empresa Arteris Fluminense - Conserva no mês 2: 0\n",
      "\n",
      "Empresa: Arteris Fluminense - Conserva  | Mês: 3          | Porcentagem de dias de uso: 0 | Variação de apontamentos: 0 | Valor de programações: 0 | Nota de recursos: 0 | Nota RDO: 0\n",
      "HS Avançado para a empresa Arteris Fluminense - Conserva no mês 3: 0\n",
      "\n",
      "Empresa: Arteris Fernão Dias - Conserva | Mês: 2          | Porcentagem de dias de uso: 0.65 | Variação de apontamentos: 1 | Valor de programações: 1 | Nota de recursos: 0 | Nota RDO: 0.5\n",
      "HS Avançado para a empresa Arteris Fernão Dias - Conserva no mês 2: 63.0\n",
      "\n",
      "Empresa: Arteris Fernão Dias - Conserva | Mês: 3          | Porcentagem de dias de uso: 0.65 | Variação de apontamentos: 1 | Valor de programações: 1 | Nota de recursos: 0 | Nota RDO: 0.5\n",
      "HS Avançado para a empresa Arteris Fernão Dias - Conserva no mês 3: 63.0\n",
      "\n",
      "Empresa: ELO Ecovias dos Imigrantes     | Mês: 2          | Porcentagem de dias de uso: 0.3 | Variação de apontamentos: 0 | Valor de programações: 1 | Nota de recursos: 0 | Nota RDO: 0\n",
      "HS Avançado para a empresa ELO Ecovias dos Imigrantes no mês 2: 26.0\n",
      "\n",
      "Empresa: ELO Ecovias dos Imigrantes     | Mês: 3          | Porcentagem de dias de uso: 0.3 | Variação de apontamentos: 0 | Valor de programações: 1 | Nota de recursos: 0 | Nota RDO: 0\n",
      "HS Avançado para a empresa ELO Ecovias dos Imigrantes no mês 3: 26.0\n",
      "\n",
      "Empresa: ELO Rodovias dos Tamoios       | Mês: 2          | Porcentagem de dias de uso: 0.3 | Variação de apontamentos: 0 | Valor de programações: 1 | Nota de recursos: 0 | Nota RDO: 0\n",
      "HS Avançado para a empresa ELO Rodovias dos Tamoios no mês 2: 26.0\n",
      "\n",
      "Empresa: ELO Rodovias dos Tamoios       | Mês: 3          | Porcentagem de dias de uso: 0.3 | Variação de apontamentos: 0 | Valor de programações: 1 | Nota de recursos: 0 | Nota RDO: 0\n",
      "HS Avançado para a empresa ELO Rodovias dos Tamoios no mês 3: 26.0\n",
      "\n",
      "Empresa: Neovia Diamantino              | Mês: 2          | Porcentagem de dias de uso: 1 | Variação de apontamentos: 1 | Valor de programações: 0 | Nota de recursos: 0 | Nota RDO: 0\n",
      "HS Avançado para a empresa Neovia Diamantino no mês 2: 40\n",
      "\n",
      "Empresa: Neovia Diamantino              | Mês: 3          | Porcentagem de dias de uso: 0.65 | Variação de apontamentos: 1 | Valor de programações: 0 | Nota de recursos: 0 | Nota RDO: 0\n",
      "HS Avançado para a empresa Neovia Diamantino no mês 3: 33.0\n",
      "\n"
     ]
    }
   ],
   "source": [
    "def calcular_hs_avancado(resultados_por_empresa, w, k_result, q, valor_RDO_atual_por_empresa):\n",
    "    hs_avancado = {}\n",
    "    hs_export_avancado = {}\n",
    "\n",
    "    for company, variacao in w:\n",
    "        hs_avancado[company] = []\n",
    "        hs_export_avancado[company] = []\n",
    "\n",
    "        for i, month in enumerate(months):\n",
    "            porcentagem_dias_de_uso = resultados_por_empresa[company][i]\n",
    "            variacao_apontamentos = variacao\n",
    "            valor_programacoes = k_result[company][i] \n",
    "            nota_recursos = q[i][1] \n",
    "            nota_rdo = valor_RDO_atual_por_empresa.get(company, 0)  \n",
    "            \n",
    "            company_str = str(company).ljust(30)\n",
    "            month_str = str(month).ljust(10)\n",
    "            \n",
    "            print(f\"Empresa: {company_str} | Mês: {month_str} | Porcentagem de dias de uso: {porcentagem_dias_de_uso} | Variação de apontamentos: {variacao_apontamentos} | Valor de programações: {valor_programacoes} | Nota de recursos: {nota_recursos} | Nota RDO: {nota_rdo}\")\n",
    "\n",
    "            hs_avancado_value = 20 * porcentagem_dias_de_uso + 20 * variacao_apontamentos + 20 * valor_programacoes + 20 * nota_recursos + 20 * nota_rdo\n",
    "            print(f\"HS Avançado para a empresa {company} no mês {month}: {hs_avancado_value}\\n\")\n",
    "\n",
    "            hs_avancado[company].append(hs_avancado_value)\n",
    "            hs_export_avancado[company].append(hs_avancado_value)\n",
    "\n",
    "\n",
    "    return hs_avancado, hs_export_avancado\n",
    "\n",
    "hs_avancado, hs_export_avancado = calcular_hs_avancado(resultados_por_empresa, w, k_result, q_result, valor_RDO_atual_por_empresa)"
   ]
  }
 ],
 "metadata": {
  "kernelspec": {
   "display_name": "Django Shell-Plus",
   "language": "python",
   "name": "django_extensions"
  },
  "language_info": {
   "codemirror_mode": {
    "name": "ipython",
    "version": 3
   },
   "file_extension": ".py",
   "mimetype": "text/x-python",
   "name": "python",
   "nbconvert_exporter": "python",
   "pygments_lexer": "ipython3",
   "version": "3.8.16"
  }
 },
 "nbformat": 4,
 "nbformat_minor": 5
}
