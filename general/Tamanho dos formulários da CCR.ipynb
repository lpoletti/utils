{
 "cells": [
  {
   "cell_type": "code",
   "execution_count": 1,
   "metadata": {},
   "outputs": [],
   "source": [
    "import json\n",
    "from django.db.models.functions import Length, Cast\n",
    "from django.db.models import TextField\n",
    "from django.contrib.postgres.fields.jsonb import KeyTextTransform"
   ]
  },
  {
   "cell_type": "code",
   "execution_count": 2,
   "metadata": {},
   "outputs": [],
   "source": [
    "ccr = Company.objects.get(name=\"LCM - Ituporanga\")"
   ]
  },
  {
   "cell_type": "code",
   "execution_count": 3,
   "metadata": {},
   "outputs": [
    {
     "name": "stdout",
     "output_type": "stream",
     "text": [
      "Equipamentos Locados - 14963 50.27% 47.76%\n",
      "Equipamentos Próprios - 14927 50.39% 47.62%\n",
      "Tapa Buraco Emergencial CBUQ - 2074 27.19% 58.73%\n",
      "CBUQ - Concreto Asfáltico - 2069 27.26% 58.87%\n",
      "Tapa Buraco Bob Fresa - 2060 27.38% 59.13%\n",
      "Tapa Buraco PMF - 2050 27.51% 59.41%\n",
      "Recomposição de revestimento primário mat. Jazida - 1661 27.51% 52.50%\n",
      "Escavação mec. com retroescavadeira mat. 1º CAT - 1657 27.58% 52.63%\n",
      "Recomposição mecanizada de aterro mat. jazida - 1653 27.65% 52.75%\n",
      "Enrocamento de Pedra Arrumada Manualmente - 1645 27.78% 53.01%\n",
      "Remoção da Camada Granular do Pavimento - 1641 27.85% 53.14%\n",
      "Lastro de Brita compactada - 1635 0.00% 54.43%\n",
      "Remoção de Revestimento Asfáltico - 1629 28.05% 53.53%\n",
      "Remoção de Barreira em Rocha - 1619 28.23% 53.86%\n",
      "Remoção de Barreira em Solo - 1617 28.26% 53.93%\n",
      "Enrocamento de Pedra Jogada - 1617 28.26% 53.93%\n",
      "Sub- Base de macadame seco - 1615 28.30% 53.99%\n",
      "Regularização de Bota Fora - 1615 28.30% 53.99%\n",
      "Escavação de Vala 1º CAT - 1611 28.37% 54.13%\n",
      "Escavação Manual 1º CAT - 1609 28.40% 54.20%\n",
      "Base de Brita Graduada - 1607 28.44% 54.26%\n",
      "Fresagem Descontínua - 1603 28.51% 54.40%\n",
      "Concreto FCK= 15MPA - 1601 28.54% 54.47%\n",
      "Concreto FCK= 25MPA - 1601 28.54% 54.47%\n",
      "Escavação 1º CAT. - 1597 28.62% 54.60%\n",
      "Escavação 2º CAT. - 1597 28.62% 54.60%\n",
      "Escavação 1º CAT - 1595 28.65% 54.67%\n",
      "Escavação 2º CAT - 1595 28.65% 54.67%\n",
      "Gabião Caixa - 1587 28.80% 54.95%\n",
      "Reaterro - 1579 28.94% 55.22%\n",
      "Recomformação da Plataforma (patrolamento) - 1126 0.00% 45.56%\n",
      "Remoção de camada Granular do Pavimento - 1112 27.43% 45.05%\n",
      "Remoção de painel de Publicidade - 1097 27.80% 45.67%\n",
      "Desmatamento e Limpeza - 1077 28.32% 46.52%\n",
      "Grama - Enleivamento - 1073 28.42% 46.69%\n",
      "Remoção de Asfalto - 1070 28.50% 46.82%\n",
      "Pintura de Ligação - 1069 28.53% 46.87%\n",
      "Microrrevestimento - 1069 28.53% 46.87%\n",
      "Escavação 3º CAT. - 1067 28.58% 46.95%\n",
      "Forma de Madeira - 1065 28.64% 47.04%\n",
      "Hidrosemeadura - 1061 28.75% 47.22%\n",
      "Imprimação - 1053 28.96% 47.58%\n",
      "Dreno Profundo em Areia - 616 0.00% 30.36%\n",
      "Dreno Profundo em Rocha - 609 26.27% 29.72%\n",
      "OBRA 437 - ITUPORANGA - 608 0.00% 30.76%\n",
      "Dreno Profundo em Solo - 607 26.36% 29.82%\n",
      "OBRA 495 EMERGÊNCIA - 605 0.00% 30.91%\n",
      "Valas de Escoamento - 601 26.62% 30.12%\n",
      "Sarjeta Trapezoidal - 601 26.62% 30.12%\n",
      "Galeria 2,5x2,5 - 600 0.00% 31.17%\n",
      "Sarjeta Triangular - 599 26.71% 30.22%\n",
      "Dreno Superficial - 597 26.80% 30.32%\n",
      "Faixa Elevada - 589 27.16% 30.73%\n",
      "Caixa Coletora - 588 26.70% 30.78%\n",
      "Boca de Bueiro - 588 26.70% 30.78%\n",
      "Galeria 2,00 - 587 27.26% 30.83%\n",
      "BSTC D= 0,80 - 587 27.26% 30.83%\n",
      "BSTC D= 1,20 - 587 27.26% 30.83%\n",
      "BSTC D= 0,40 - 587 27.26% 30.83%\n",
      "Galeria 2,50 - 587 27.26% 30.83%\n",
      "BSTC D= 1,00 - 587 27.26% 30.83%\n",
      "Galeria 1,50 - 587 27.26% 30.83%\n",
      "BSTC D= 0,60 - 587 27.26% 30.83%\n",
      "Armação em Aço CA-50 - 584 25.51% 29.62%\n",
      "Meio Fio - 579 27.63% 31.26%\n",
      "Lombada - 577 27.73% 31.37%\n",
      "Bigode - 575 27.83% 31.48%\n",
      "Erro de Marco Quilométrico - 568 0.00% 30.63%\n",
      "Obra 01 - Enrocamento - 558 0.00% 31.18%\n",
      "Tamanho total 105813\n",
      "Tamanho em colunas 34509\n"
     ]
    }
   ],
   "source": [
    "total_size = 0\n",
    "columns_size = 0\n",
    "for a in OccurrenceType.objects.filter(\n",
    "    company=ccr\n",
    ").annotate(\n",
    "    total_size=Length(\n",
    "        Cast(\n",
    "            \"form_fields\", \n",
    "            output_field=TextField()\n",
    "        )\n",
    "    ),\n",
    "    measurement_columns_size=Length(\n",
    "        Cast(\n",
    "            KeyTextTransform(\"measurementColumns\", \"form_fields\"), \n",
    "            output_field=TextField()\n",
    "        )\n",
    "    ),\n",
    "    fields_size=Length(\n",
    "        Cast(\n",
    "            KeyTextTransform(\"fields\", \"form_fields\"), \n",
    "            output_field=TextField()\n",
    "        )\n",
    "    )\n",
    ").order_by(\"-total_size\"):\n",
    "    total_size += a.total_size\n",
    "    columns_size += a.measurement_columns_size if a.measurement_columns_size is not None else 0\n",
    "    print(\n",
    "        \"{} - {} {:.2f}% {:.2f}%\".format(\n",
    "            a.name, \n",
    "            a.total_size, \n",
    "            (a.measurement_columns_size/a.total_size) * 100 if a.measurement_columns_size else 0, \n",
    "            (a.fields_size/a.total_size) * 100\n",
    "        )\n",
    "    )\n",
    "    \n",
    "print(\"Tamanho total\", total_size)\n",
    "print(\"Tamanho em colunas\", columns_size)"
   ]
  },
  {
   "cell_type": "code",
   "execution_count": 4,
   "metadata": {
    "collapsed": true
   },
   "outputs": [
    {
     "data": {
      "text/plain": [
       "{'_state': <django.db.models.base.ModelState at 0x7f2a3e0f7190>,\n",
       " 'uuid': UUID('44ee2c28-8306-418b-8a47-3d69d651be56'),\n",
       " 'name': 'Obra 01 - Enrocamento',\n",
       " 'occurrence_kind': '8',\n",
       " 'form_fields': {'id': 101,\n",
       "  'name': 'Obra01Enrocamento',\n",
       "  'fields': [{'id': 1,\n",
       "    'api_name': 'kmRight',\n",
       "    'data_type': 'float',\n",
       "    'display_name': 'Km Correto'},\n",
       "   {'id': 2,\n",
       "    'api_name': 'notes',\n",
       "    'data_type': 'textArea',\n",
       "    'display_name': 'Observações'}],\n",
       "  'groups': [{'order': 1, 'members': [1], 'display_name': 'Quantitativos'},\n",
       "   {'order': 2, 'members': [2], 'display_name': 'Informações adicionais'}],\n",
       "  'display_name': 'Obra 01 - Enrocamento ',\n",
       "  'measurement_columns': [{'key': 'kmRight',\n",
       "    'style': {'num_fmt': '0.000'},\n",
       "    'header': 'Km Correto'},\n",
       "   {'key': 'notes', 'header': 'Observações'}]},\n",
       " 'goal_formula': [],\n",
       " 'monitoring_plan_id': None,\n",
       " 'created_at': datetime.datetime(2024, 2, 29, 14, 14, 24, 804020, tzinfo=<UTC>),\n",
       " 'updated_at': datetime.datetime(2024, 2, 29, 16, 33, 36, 389871, tzinfo=<UTC>),\n",
       " 'created_by_id': UUID('38659112-66cd-4238-bf11-d8108eb885cf'),\n",
       " 'deadline': None,\n",
       " 'active': True,\n",
       " 'previous_version_id': None,\n",
       " 'show_in_web_map': True,\n",
       " 'show_in_app_map': False,\n",
       " 'icon': '',\n",
       " 'icon_size': 15,\n",
       " 'color': '#005dffb3',\n",
       " 'is_oae': False,\n",
       " 'repetition': {},\n",
       " 'total_size': 558,\n",
       " 'measurement_columns_size': None,\n",
       " 'fields_size': 174}"
      ]
     },
     "execution_count": 4,
     "metadata": {},
     "output_type": "execute_result"
    }
   ],
   "source": [
    "a.__dict__"
   ]
  },
  {
   "cell_type": "markdown",
   "metadata": {},
   "source": [
    "# Eixo SP\n",
    "De:\n",
    "Tamanho total 4208224\n",
    "Para:\n",
    "Tamanho total 3238779"
   ]
  },
  {
   "cell_type": "markdown",
   "metadata": {},
   "source": [
    "# CART\n",
    "De:\n",
    "Tamanho total 4866717\n",
    "Para:\n",
    "Tamanho total 2972729"
   ]
  },
  {
   "cell_type": "markdown",
   "metadata": {},
   "source": [
    "# Eixo Sp - Pavimento\n",
    "De: Tamanho total 1944048\n",
    "Para: Tamanho total 1920099"
   ]
  },
  {
   "cell_type": "markdown",
   "metadata": {},
   "source": [
    "# Entrevias\n",
    "De: Tamanho total 3374717\n",
    "Para: Tamanho total Tamanho total 2771458"
   ]
  },
  {
   "cell_type": "code",
   "execution_count": null,
   "metadata": {},
   "outputs": [],
   "source": []
  }
 ],
 "metadata": {
  "kernelspec": {
   "display_name": "Django Shell-Plus",
   "language": "python",
   "name": "django_extensions"
  },
  "language_info": {
   "codemirror_mode": {
    "name": "ipython",
    "version": 3
   },
   "file_extension": ".py",
   "mimetype": "text/x-python",
   "name": "python",
   "nbconvert_exporter": "python",
   "pygments_lexer": "ipython3",
   "version": "3.8.16"
  }
 },
 "nbformat": 4,
 "nbformat_minor": 2
}
