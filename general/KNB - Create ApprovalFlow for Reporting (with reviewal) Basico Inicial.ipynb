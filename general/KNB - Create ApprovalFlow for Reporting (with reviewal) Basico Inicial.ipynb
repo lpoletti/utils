{
 "cells": [
  {
   "cell_type": "code",
   "execution_count": 1,
   "metadata": {},
   "outputs": [
    {
     "name": "stdout",
     "output_type": "stream",
     "text": [
      "STAGE=PRODUCTION\r\n"
     ]
    }
   ],
   "source": [
    "!cat .env"
   ]
  },
  {
   "cell_type": "markdown",
   "metadata": {},
   "source": [
    "## Escolher a unidade"
   ]
  },
  {
   "cell_type": "code",
   "execution_count": 1,
   "metadata": {},
   "outputs": [
    {
     "data": {
      "text/plain": [
       "<Company: f501d276-df2a-4296-b739-40e0b67adf68: Teste fluxo IMT>"
      ]
     },
     "execution_count": 1,
     "metadata": {},
     "output_type": "execute_result"
    }
   ],
   "source": [
    "company = Company.objects.get(name__icontains=\"Teste Fluxo Imt\")\n",
    "company"
   ]
  },
  {
   "cell_type": "code",
   "execution_count": 2,
   "metadata": {},
   "outputs": [
    {
     "data": {
      "text/plain": [
       "<ApprovalFlow: [Teste fluxo IMT]: Fluxo Apontamentos - reportings.Reporting>"
      ]
     },
     "execution_count": 2,
     "metadata": {},
     "output_type": "execute_result"
    }
   ],
   "source": [
    "ApprovalFlow.objects.get(company=company, target_model=\"reportings.Reporting\")"
   ]
  },
  {
   "cell_type": "code",
   "execution_count": 3,
   "metadata": {},
   "outputs": [
    {
     "name": "stdout",
     "output_type": "stream",
     "text": [
      "['Teste fluxo IMT'] - Teste fluxo IMT\n"
     ]
    }
   ],
   "source": [
    "for permission in UserPermission.objects.filter(companies=company):    \n",
    "    \n",
    "    try:\n",
    "        if 'Reporting' in permission.permissions.keys():\n",
    "            permission.permissions['Reporting']['can_approve'] = True\n",
    "        \n",
    "        else:\n",
    "            permission.permissions['reporting']['can_approve'] = True\n",
    "\n",
    "        permission.save()\n",
    "        print(permission)\n",
    "    except Exception as e:\n",
    "        pass"
   ]
  },
  {
   "cell_type": "code",
   "execution_count": 4,
   "metadata": {},
   "outputs": [],
   "source": [
    "flow = ApprovalFlow(\n",
    "    name=\"Fluxo Apontamentos\",\n",
    "    target_model=\"reportings.Reporting\",\n",
    "    company=company\n",
    ")\n",
    "flow.save()"
   ]
  },
  {
   "cell_type": "code",
   "execution_count": 5,
   "metadata": {},
   "outputs": [],
   "source": [
    "elaboracao = ApprovalStep(\n",
    "    name=\"Criado\",\n",
    "    approval_flow=flow,\n",
    ")\n",
    "elaboracao.responsible_created_by = True\n",
    "elaboracao.save()\n",
    "# elaboracao.responsible_users.add(User.objects.get(username='rlcs'))\n",
    "# for a in approvers:\n",
    "#     elaboracao.responsible_users.add(a)"
   ]
  },
  {
   "cell_type": "code",
   "execution_count": 6,
   "metadata": {},
   "outputs": [],
   "source": [
    "homolog_normal = ApprovalStep(\n",
    "    name=\"Aguardando Aprovação\",\n",
    "    approval_flow=flow,\n",
    ")\n",
    "homolog_normal.save()\n",
    "# homolog_normal.responsible_users.add(User.objects.get(username='rlcs'))"
   ]
  },
  {
   "cell_type": "code",
   "execution_count": 7,
   "metadata": {},
   "outputs": [],
   "source": [
    "revisao = ApprovalStep(\n",
    "    name=\"Em Revisão\",\n",
    "    approval_flow=flow,\n",
    ")\n",
    "revisao.responsible_created_by = True\n",
    "revisao.save()\n",
    "revisao.responsible_users.add(User.objects.get(username='rlcs'))"
   ]
  },
  {
   "cell_type": "code",
   "execution_count": 8,
   "metadata": {},
   "outputs": [],
   "source": [
    "deferido = ApprovalStep(\n",
    "    name=\"Aprovado\",\n",
    "    approval_flow=flow,\n",
    ")\n",
    "deferido.save()"
   ]
  },
  {
   "cell_type": "code",
   "execution_count": 9,
   "metadata": {},
   "outputs": [],
   "source": [
    "indeferido = ApprovalStep(\n",
    "    name=\"Cancelado\",\n",
    "    approval_flow=flow,\n",
    ")\n",
    "indeferido.save()"
   ]
  },
  {
   "cell_type": "code",
   "execution_count": 10,
   "metadata": {},
   "outputs": [],
   "source": [
    "trans_homolog_normal = ApprovalTransition(\n",
    "    name=\"Solicitar Análise\",\n",
    "    origin=elaboracao,\n",
    "    destination=homolog_normal,\n",
    "    condition={\n",
    "        \"===\": [{\n",
    "            \"var\": \"request.action\"\n",
    "            }, \"Solicitar Análise\"]\n",
    "    },\n",
    "    button={\"icon\": \"assignment\", \"color\": \"primary\", \"variant\": \"raised\"},\n",
    "    callback={\"change_fields\": [{\"name\": \"editable\", \"value\": False}]}\n",
    ")\n",
    "trans_homolog_normal.save()"
   ]
  },
  {
   "cell_type": "code",
   "execution_count": 11,
   "metadata": {},
   "outputs": [],
   "source": [
    "trans_revisar_normal = ApprovalTransition(\n",
    "    name=\"Solicitar Revisão\",\n",
    "    origin=homolog_normal,\n",
    "    destination=revisao,\n",
    "    condition={\n",
    "        \"===\": [{\n",
    "            \"var\": \"request.action\"\n",
    "        }, \"Solicitar Revisão\"]\n",
    "    },\n",
    "    button={\"icon\": \"warning\", \"color\": \"amber\", \"variant\": \"outlined\", \"needs_dialog\": True},\n",
    "    callback={\"change_fields\": [{\"name\": \"editable\", \"value\": True}]}\n",
    ")\n",
    "trans_revisar_normal.save()"
   ]
  },
  {
   "cell_type": "code",
   "execution_count": 12,
   "metadata": {},
   "outputs": [],
   "source": [
    "trans_homolog_again_normal = ApprovalTransition(\n",
    "    name=\"Solicitar Análise\",\n",
    "    origin=revisao,\n",
    "    destination=homolog_normal,\n",
    "    condition={\n",
    "        \"===\": [{\n",
    "            \"var\": \"request.action\"\n",
    "        }, \"Solicitar Análise\"]\n",
    "    },\n",
    "    button={\"icon\": \"assignment\", \"color\": \"primary\", \"variant\": \"raised\"},\n",
    "    callback={\"change_fields\": [{\"name\": \"editable\", \"value\": False}]}\n",
    ")\n",
    "trans_homolog_again_normal.save()"
   ]
  },
  {
   "cell_type": "code",
   "execution_count": 13,
   "metadata": {},
   "outputs": [],
   "source": [
    "trans_homologar_normal = ApprovalTransition(\n",
    "    name=\"Aprovar\",\n",
    "    origin=homolog_normal,\n",
    "    destination=deferido,\n",
    "    condition={\n",
    "        \"===\": [{\n",
    "            \"var\": \"request.action\"\n",
    "        }, \"Aprovar\"] \n",
    "    },\n",
    "    button={\"icon\": \"check\", \"color\": \"primary\", \"variant\": \"raised\"},\n",
    "    callback={\"change_fields\": [{\"name\": \"editable\", \"value\": False}]}\n",
    ")\n",
    "trans_homologar_normal.save()"
   ]
  },
  {
   "cell_type": "code",
   "execution_count": 14,
   "metadata": {},
   "outputs": [],
   "source": [
    "trans_rejeitar_normal = ApprovalTransition(\n",
    "    name=\"Cancelar\",\n",
    "    origin=homolog_normal,\n",
    "    destination=indeferido,\n",
    "    condition={\n",
    "        \"===\": [{\n",
    "            \"var\": \"request.action\"\n",
    "        }, \"Cancelar\"]\n",
    "    },\n",
    "    button={\"icon\": \"clear\", \"color\": \"red\", \"variant\": \"outlined\", \"needs_dialog\": True},\n",
    "    callback={\"change_fields\": [{\"name\": \"editable\", \"value\": False}]}\n",
    ")\n",
    "trans_rejeitar_normal.save()"
   ]
  },
  {
   "cell_type": "code",
   "execution_count": 15,
   "metadata": {},
   "outputs": [
    {
     "data": {
      "text/plain": [
       "0"
      ]
     },
     "execution_count": 15,
     "metadata": {},
     "output_type": "execute_result"
    }
   ],
   "source": [
    "Reporting.objects.filter(company=company).update(approval_step=elaboracao)"
   ]
  },
  {
   "cell_type": "code",
   "execution_count": 16,
   "metadata": {},
   "outputs": [
    {
     "data": {
      "text/plain": [
       "'ef9db6ec-5c7b-4904-abfb-209f6f7a1cc2'"
      ]
     },
     "execution_count": 16,
     "metadata": {},
     "output_type": "execute_result"
    }
   ],
   "source": [
    "str(deferido.uuid)"
   ]
  },
  {
   "cell_type": "code",
   "execution_count": 17,
   "metadata": {},
   "outputs": [],
   "source": [
    "company.metadata['approved_approval_steps'] = [str(deferido.uuid)]"
   ]
  },
  {
   "cell_type": "code",
   "execution_count": 18,
   "metadata": {},
   "outputs": [],
   "source": [
    "company.save()"
   ]
  },
  {
   "cell_type": "code",
   "execution_count": 3,
   "metadata": {},
   "outputs": [],
   "source": []
  },
  {
   "cell_type": "markdown",
   "metadata": {},
   "source": [
    "# Passos para outros tipos especiais de approval"
   ]
  },
  {
   "cell_type": "code",
   "execution_count": 24,
   "metadata": {},
   "outputs": [],
   "source": [
    "at2 = ApprovalTransition(name='Solicitar revisão após aprovado',\n",
    "                        origin=deferido, # apontamento Aprovado\n",
    "                         destination=revisao, # apontamento Em Revisão\n",
    "                         condition={'===': [{'var': 'request.action'}, 'Solicitar revisão após aprovado']},\n",
    "                         callback={'change_fields': [{'name': 'editable', 'value': True}]},\n",
    "                         button={'icon': 'check', 'color': 'primary', 'variant': 'raised', \"needs_dialog\": True}\n",
    "                        )\n",
    "at2.save()"
   ]
  },
  {
   "cell_type": "code",
   "execution_count": 33,
   "metadata": {},
   "outputs": [],
   "source": [
    "homolog_normal.responsible_firms.add(*Firm.objects.filter(company=company,name='Aprovadores de Apontamentos'))"
   ]
  },
  {
   "cell_type": "code",
   "execution_count": 40,
   "metadata": {},
   "outputs": [
    {
     "data": {
      "text/plain": [
       "<QuerySet []>"
      ]
     },
     "execution_count": 40,
     "metadata": {},
     "output_type": "execute_result"
    }
   ],
   "source": [
    "homolog_normal.responsible_users.all()"
   ]
  },
  {
   "cell_type": "code",
   "execution_count": 19,
   "metadata": {},
   "outputs": [],
   "source": [
    "aprovado_revisao = ApprovalStep(\n",
    "    name=\"Aprovado/Revisão\",\n",
    "    approval_flow=ApprovalFlow.objects.get(company=company, target_model=\"reportings.Reporting\"),\n",
    ")\n",
    "aprovado_revisao.save()"
   ]
  },
  {
   "cell_type": "code",
   "execution_count": 20,
   "metadata": {},
   "outputs": [
    {
     "data": {
      "text/plain": [
       "<QuerySet [<User: rlcs - Kartado CS>]>"
      ]
     },
     "execution_count": 20,
     "metadata": {},
     "output_type": "execute_result"
    }
   ],
   "source": [
    "aprovado_revisao.responsible_users.add(User.objects.get(username='rlcs'))\n",
    "aprovado_revisao.responsible_users.all()"
   ]
  },
  {
   "cell_type": "markdown",
   "metadata": {},
   "source": [
    "# Criação Approvals para OccurrenceRecord Energia"
   ]
  },
  {
   "cell_type": "code",
   "execution_count": 3,
   "metadata": {},
   "outputs": [
    {
     "data": {
      "text/plain": [
       "<Company: 5a7918ca-d799-4f6b-8b48-28bfab77a52a: Demo Energia>"
      ]
     },
     "execution_count": 3,
     "metadata": {},
     "output_type": "execute_result"
    }
   ],
   "source": [
    "company = Company.objects.get(name__icontains=\"Demo Energia\")\n",
    "company"
   ]
  },
  {
   "cell_type": "code",
   "execution_count": 4,
   "metadata": {},
   "outputs": [
    {
     "ename": "DoesNotExist",
     "evalue": "ApprovalFlow matching query does not exist.",
     "output_type": "error",
     "traceback": [
      "\u001b[0;31m---------------------------------------------------------------------------\u001b[0m",
      "\u001b[0;31mDoesNotExist\u001b[0m                              Traceback (most recent call last)",
      "\u001b[0;32m/tmp/ipykernel_18312/588561091.py\u001b[0m in \u001b[0;36m<module>\u001b[0;34m\u001b[0m\n\u001b[0;32m----> 1\u001b[0;31m \u001b[0mApprovalFlow\u001b[0m\u001b[0;34m.\u001b[0m\u001b[0mobjects\u001b[0m\u001b[0;34m.\u001b[0m\u001b[0mget\u001b[0m\u001b[0;34m(\u001b[0m\u001b[0mcompany\u001b[0m\u001b[0;34m=\u001b[0m\u001b[0mcompany\u001b[0m\u001b[0;34m,\u001b[0m \u001b[0mtarget_model\u001b[0m\u001b[0;34m=\u001b[0m\u001b[0;34m\"occurrence_records.OccurrenceRecord\"\u001b[0m\u001b[0;34m)\u001b[0m\u001b[0;34m\u001b[0m\u001b[0;34m\u001b[0m\u001b[0m\n\u001b[0m",
      "\u001b[0;32m~/.cache/pypoetry/virtualenvs/apps-ZFymp6kh-py3.7/lib/python3.7/site-packages/django/db/models/manager.py\u001b[0m in \u001b[0;36mmanager_method\u001b[0;34m(self, *args, **kwargs)\u001b[0m\n\u001b[1;32m     80\u001b[0m         \u001b[0;32mdef\u001b[0m \u001b[0mcreate_method\u001b[0m\u001b[0;34m(\u001b[0m\u001b[0mname\u001b[0m\u001b[0;34m,\u001b[0m \u001b[0mmethod\u001b[0m\u001b[0;34m)\u001b[0m\u001b[0;34m:\u001b[0m\u001b[0;34m\u001b[0m\u001b[0;34m\u001b[0m\u001b[0m\n\u001b[1;32m     81\u001b[0m             \u001b[0;32mdef\u001b[0m \u001b[0mmanager_method\u001b[0m\u001b[0;34m(\u001b[0m\u001b[0mself\u001b[0m\u001b[0;34m,\u001b[0m \u001b[0;34m*\u001b[0m\u001b[0margs\u001b[0m\u001b[0;34m,\u001b[0m \u001b[0;34m**\u001b[0m\u001b[0mkwargs\u001b[0m\u001b[0;34m)\u001b[0m\u001b[0;34m:\u001b[0m\u001b[0;34m\u001b[0m\u001b[0;34m\u001b[0m\u001b[0m\n\u001b[0;32m---> 82\u001b[0;31m                 \u001b[0;32mreturn\u001b[0m \u001b[0mgetattr\u001b[0m\u001b[0;34m(\u001b[0m\u001b[0mself\u001b[0m\u001b[0;34m.\u001b[0m\u001b[0mget_queryset\u001b[0m\u001b[0;34m(\u001b[0m\u001b[0;34m)\u001b[0m\u001b[0;34m,\u001b[0m \u001b[0mname\u001b[0m\u001b[0;34m)\u001b[0m\u001b[0;34m(\u001b[0m\u001b[0;34m*\u001b[0m\u001b[0margs\u001b[0m\u001b[0;34m,\u001b[0m \u001b[0;34m**\u001b[0m\u001b[0mkwargs\u001b[0m\u001b[0;34m)\u001b[0m\u001b[0;34m\u001b[0m\u001b[0;34m\u001b[0m\u001b[0m\n\u001b[0m\u001b[1;32m     83\u001b[0m             \u001b[0mmanager_method\u001b[0m\u001b[0;34m.\u001b[0m\u001b[0m__name__\u001b[0m \u001b[0;34m=\u001b[0m \u001b[0mmethod\u001b[0m\u001b[0;34m.\u001b[0m\u001b[0m__name__\u001b[0m\u001b[0;34m\u001b[0m\u001b[0;34m\u001b[0m\u001b[0m\n\u001b[1;32m     84\u001b[0m             \u001b[0mmanager_method\u001b[0m\u001b[0;34m.\u001b[0m\u001b[0m__doc__\u001b[0m \u001b[0;34m=\u001b[0m \u001b[0mmethod\u001b[0m\u001b[0;34m.\u001b[0m\u001b[0m__doc__\u001b[0m\u001b[0;34m\u001b[0m\u001b[0;34m\u001b[0m\u001b[0m\n",
      "\u001b[0;32m~/.cache/pypoetry/virtualenvs/apps-ZFymp6kh-py3.7/lib/python3.7/site-packages/django/db/models/query.py\u001b[0m in \u001b[0;36mget\u001b[0;34m(self, *args, **kwargs)\u001b[0m\n\u001b[1;32m    406\u001b[0m             raise self.model.DoesNotExist(\n\u001b[1;32m    407\u001b[0m                 \u001b[0;34m\"%s matching query does not exist.\"\u001b[0m \u001b[0;34m%\u001b[0m\u001b[0;34m\u001b[0m\u001b[0;34m\u001b[0m\u001b[0m\n\u001b[0;32m--> 408\u001b[0;31m                 \u001b[0mself\u001b[0m\u001b[0;34m.\u001b[0m\u001b[0mmodel\u001b[0m\u001b[0;34m.\u001b[0m\u001b[0m_meta\u001b[0m\u001b[0;34m.\u001b[0m\u001b[0mobject_name\u001b[0m\u001b[0;34m\u001b[0m\u001b[0;34m\u001b[0m\u001b[0m\n\u001b[0m\u001b[1;32m    409\u001b[0m             )\n\u001b[1;32m    410\u001b[0m         raise self.model.MultipleObjectsReturned(\n",
      "\u001b[0;31mDoesNotExist\u001b[0m: ApprovalFlow matching query does not exist."
     ]
    }
   ],
   "source": [
    "ApprovalFlow.objects.get(company=company, target_model=\"occurrence_records.OccurrenceRecord\")"
   ]
  },
  {
   "cell_type": "code",
   "execution_count": 5,
   "metadata": {},
   "outputs": [
    {
     "name": "stdout",
     "output_type": "stream",
     "text": [
      "['Demo Energia'] - LÍDER TÉCNICO E COMERCIAL EXTERNO\n",
      "['Demo Energia'] - ADMINISTRADOR\n",
      "['Demo Energia'] - COLABORADOR INTERNO\n",
      "['Demo Energia'] - HOMOLOGADOR\n"
     ]
    }
   ],
   "source": [
    "for permission in UserPermission.objects.filter(companies=company):    \n",
    "    \n",
    "    try:\n",
    "        if 'OccurrenceRecord' in permission.permissions.keys():\n",
    "            permission.permissions['OccurrenceRecord']['can_approve'] = True\n",
    "        \n",
    "        else:\n",
    "            permission.permissions['OccurrenceRecord']['can_approve'] = True\n",
    "\n",
    "        permission.save()\n",
    "        print(permission)\n",
    "    except Exception as e:\n",
    "        pass"
   ]
  },
  {
   "cell_type": "code",
   "execution_count": 6,
   "metadata": {},
   "outputs": [],
   "source": [
    "flow = ApprovalFlow(\n",
    "    name=\"Fluxo Registros\",\n",
    "    target_model=\"occurrence_records.OccurrenceRecord\",\n",
    "    company=company\n",
    ")\n",
    "flow.save()"
   ]
  },
  {
   "cell_type": "code",
   "execution_count": 7,
   "metadata": {},
   "outputs": [],
   "source": [
    "elaboracao = ApprovalStep(\n",
    "    name=\"Registro em Elaboração\",\n",
    "    approval_flow=flow,\n",
    ")\n",
    "elaboracao.responsible_created_by = True\n",
    "elaboracao.save()\n",
    "elaboracao.responsible_users.add(User.objects.get(username='rlcs'))\n",
    "# for a in approvers:\n",
    "#     elaboracao.responsible_users.add(a)"
   ]
  },
  {
   "cell_type": "code",
   "execution_count": 8,
   "metadata": {},
   "outputs": [],
   "source": [
    "aguard_aprov_tec = ApprovalStep(\n",
    "    name=\"Aguardando aprovação técnica\",\n",
    "    approval_flow=flow,\n",
    ")\n",
    "aguard_aprov_tec.save()\n",
    "aguard_aprov_tec.responsible_users.add(User.objects.get(username='rlcs'))"
   ]
  },
  {
   "cell_type": "code",
   "execution_count": 9,
   "metadata": {},
   "outputs": [],
   "source": [
    "revisao = ApprovalStep(\n",
    "    name=\"Necessita Revisão\",\n",
    "    approval_flow=flow,\n",
    ")\n",
    "revisao.responsible_created_by = True\n",
    "revisao.save()\n",
    "revisao.responsible_users.add(User.objects.get(username='rlcs'))"
   ]
  },
  {
   "cell_type": "code",
   "execution_count": 10,
   "metadata": {},
   "outputs": [],
   "source": [
    "homologacao = ApprovalStep(\n",
    "    name=\"Aguardando Homologação\",\n",
    "    approval_flow=flow,\n",
    ")\n",
    "homologacao.responsible_created_by = True\n",
    "homologacao.save()\n",
    "homologacao.responsible_users.add(User.objects.get(username='rlcs'))"
   ]
  },
  {
   "cell_type": "code",
   "execution_count": 11,
   "metadata": {},
   "outputs": [],
   "source": [
    "atendido = ApprovalStep(\n",
    "    name=\"Atendido\",\n",
    "    approval_flow=flow,\n",
    ")\n",
    "atendido.responsible_created_by = True\n",
    "atendido.save()\n",
    "atendido.responsible_users.add(User.objects.get(username='rlcs'))"
   ]
  },
  {
   "cell_type": "code",
   "execution_count": 12,
   "metadata": {},
   "outputs": [],
   "source": [
    "reagendado = ApprovalStep(\n",
    "    name=\"Reagendado\",\n",
    "    approval_flow=flow,\n",
    ")\n",
    "reagendado.responsible_created_by = True\n",
    "reagendado.save()\n",
    "reagendado.responsible_users.add(User.objects.get(username='rlcs'))"
   ]
  },
  {
   "cell_type": "code",
   "execution_count": 13,
   "metadata": {},
   "outputs": [],
   "source": [
    "deferido = ApprovalStep(\n",
    "    name=\"Registro Deferido\",\n",
    "    approval_flow=flow,\n",
    ")\n",
    "deferido.save()"
   ]
  },
  {
   "cell_type": "code",
   "execution_count": 14,
   "metadata": {},
   "outputs": [],
   "source": [
    "cancelado = ApprovalStep(\n",
    "    name=\"Cancelado\",\n",
    "    approval_flow=flow,\n",
    ")\n",
    "cancelado.save()"
   ]
  },
  {
   "cell_type": "code",
   "execution_count": 15,
   "metadata": {},
   "outputs": [],
   "source": [
    "indeferido = ApprovalStep(\n",
    "    name=\"Registro Indeferido\",\n",
    "    approval_flow=flow,\n",
    ")\n",
    "indeferido.save()"
   ]
  },
  {
   "cell_type": "code",
   "execution_count": 16,
   "metadata": {},
   "outputs": [],
   "source": [
    "trans_homolog_normal = ApprovalTransition(\n",
    "    name=\"Solicitar Homologação\",\n",
    "    origin=aguard_aprov_tec,\n",
    "    destination=homologacao,\n",
    "    condition={'and': [{'===': [{'var': 'request.action'}, 'Solicitar Homologação']}, {'!==': [{'var': 'source.relationships.occurrenceType.data.id'}, 'be716386-51aa-4026-ba80-b555dc29ddaa']}]},\n",
    "    button={\"icon\": \"assignment\", \"color\": \"primary\", \"variant\": \"raised\"},\n",
    "    callback={'change_fields': [{'name': 'status', 'value': {'type': 'object', 'model': 'service_orders.ServiceOrderActionStatus', 'filters': {'uuid': '20134139-c77b-4404-8b9c-6697af03d07c'}}}, {'name': 'responsible', 'value': {'type': 'object', 'model': 'companies.Firm', 'follow': {'key': 'manager', 'type': 'relationship'}, 'filters': {'uuid': 'ed9132c6-b426-44a4-973d-31d85081e40d'}}}]}\n",
    ")\n",
    "trans_homolog_normal.save()"
   ]
  },
  {
   "cell_type": "code",
   "execution_count": 17,
   "metadata": {},
   "outputs": [],
   "source": [
    "trans_revisar_normal = ApprovalTransition(\n",
    "    name=\"Solicitar revisão\",\n",
    "    origin=aguard_aprov_tec,\n",
    "    destination=revisao,\n",
    "    condition={\n",
    "        \"===\": [{\n",
    "            \"var\": \"request.action\"\n",
    "        }, \"Solicitar revisão\"]\n",
    "    },\n",
    "    button={\"icon\": \"warning\", \"color\": \"amber\", \"variant\": \"outlined\", \"needs_dialog\": True},\n",
    "    callback={'change_fields': [{'name': 'editable', 'value': True}, {'name': 'status', 'value': {'type': 'object', 'model': 'service_orders.ServiceOrderActionStatus', 'filters': {'uuid': '08199255-6eaf-4415-838b-56357287152e'}}}]}\n",
    ")\n",
    "trans_revisar_normal.save()"
   ]
  },
  {
   "cell_type": "code",
   "execution_count": 18,
   "metadata": {},
   "outputs": [],
   "source": [
    "trans_homolog_again_normal = ApprovalTransition(\n",
    "    name=\"Rejeitar\",\n",
    "    origin=homologacao,\n",
    "    destination=indeferido,\n",
    "    condition={'and': [{'===': [{'var': 'request.action'}, 'Rejeitar']}, {'!==': [{'var': 'source.relationships.occurrenceType.data.id'}, 'be716386-51aa-4026-ba80-b555dc29ddaa']}]},\n",
    "    button={'icon': 'cancel', 'color': 'red', 'variant': 'outlined'},\n",
    "    callback={'change_fields': [{'name': 'status', 'value': {'type': 'object', 'model': 'service_orders.ServiceOrderActionStatus', 'filters': {'uuid': 'ff9face2-8bd7-4ab3-8f1d-8df52d733574'}}}]}\n",
    ")\n",
    "trans_homolog_again_normal.save()"
   ]
  },
  {
   "cell_type": "code",
   "execution_count": 19,
   "metadata": {},
   "outputs": [],
   "source": [
    "trans_homologar_normal = ApprovalTransition(\n",
    "    name=\"Solicitar Revisão\",\n",
    "    origin=homologacao,\n",
    "    destination=revisao,\n",
    "    condition={'and': [{'===': [{'var': 'request.action'}, 'Solicitar Revisão']}, {'!==': [{'var': 'source.relationships.occurrenceType.data.id'}, 'be716386-51aa-4026-ba80-b555dc29ddaa']}]},\n",
    "    button={'icon': 'warning', 'color': 'amber', 'variant': 'outlined', 'needs_dialog': True},\n",
    "    callback={'change_fields': [{'name': 'status', 'value': {'type': 'object', 'model': 'service_orders.ServiceOrderActionStatus', 'filters': {'uuid': '08199255-6eaf-4415-838b-56357287152e'}}}, {'name': 'responsible', 'value': {'key': 'created_by', 'type': 'relationship'}}]}\n",
    ")\n",
    "trans_homologar_normal.save()"
   ]
  },
  {
   "cell_type": "code",
   "execution_count": 20,
   "metadata": {},
   "outputs": [],
   "source": [
    "trans_rejeitar_normal = ApprovalTransition(\n",
    "    name=\"Rejeitar\",\n",
    "    origin=homologacao,\n",
    "    destination=indeferido,\n",
    "    condition={'and': [{'===': [{'var': 'request.action'}, 'Rejeitar']}, {'===': [{'var': 'source.relationships.occurrenceType.data.id'}, 'be716386-51aa-4026-ba80-b555dc29ddaa']}]},\n",
    "    button={'icon': 'cancel', 'color': 'red', 'variant': 'outlined'},\n",
    "    callback={'change_fields': [{'name': 'status', 'value': {'type': 'object', 'model': 'service_orders.ServiceOrderActionStatus', 'filters': {'uuid': 'ff9face2-8bd7-4ab3-8f1d-8df52d733574'}}}]}\n",
    ")\n",
    "trans_rejeitar_normal.save()"
   ]
  },
  {
   "cell_type": "code",
   "execution_count": 21,
   "metadata": {},
   "outputs": [],
   "source": [
    "trans_deferir_normal = ApprovalTransition(\n",
    "    name=\"Homologar\",\n",
    "    origin=homologacao,\n",
    "    destination=deferido,\n",
    "    condition={'and': [{'===': [{'var': 'request.action'}, 'Homologar']}, {'!==': [{'var': 'source.relationships.occurrenceType.data.id'}, 'be716386-51aa-4026-ba80-b555dc29ddaa']}]},\n",
    "    button={'icon': 'check', 'color': 'primary', 'variant': 'raised', 'to_action': 'Sinalizar como Atendido', 'check_procedures': True},\n",
    "    callback={'is_approved': True, 'change_fields': [{'name': 'status', 'value': {'type': 'object', 'model': 'service_orders.ServiceOrderActionStatus', 'filters': {'uuid': '4f89dd8b-dbe9-4cae-be66-ea7ffa2af61b'}}}], 'create_objects': True}\n",
    ")\n",
    "trans_rejeitar_normal.save()"
   ]
  },
  {
   "cell_type": "code",
   "execution_count": 22,
   "metadata": {},
   "outputs": [
    {
     "data": {
      "text/plain": [
       "'69e3e477-4a07-4ae1-9d98-1425364daecd'"
      ]
     },
     "execution_count": 22,
     "metadata": {},
     "output_type": "execute_result"
    }
   ],
   "source": [
    "str(deferido.uuid)"
   ]
  },
  {
   "cell_type": "code",
   "execution_count": 23,
   "metadata": {},
   "outputs": [],
   "source": [
    "company.metadata['approved_approval_steps'] = [str(deferido.uuid)]"
   ]
  },
  {
   "cell_type": "code",
   "execution_count": 24,
   "metadata": {},
   "outputs": [],
   "source": [
    "company.save()"
   ]
  },
  {
   "cell_type": "code",
   "execution_count": null,
   "metadata": {},
   "outputs": [],
   "source": []
  },
  {
   "cell_type": "code",
   "execution_count": null,
   "metadata": {},
   "outputs": [],
   "source": []
  },
  {
   "cell_type": "code",
   "execution_count": null,
   "metadata": {},
   "outputs": [],
   "source": []
  },
  {
   "cell_type": "code",
   "execution_count": null,
   "metadata": {},
   "outputs": [],
   "source": []
  },
  {
   "cell_type": "code",
   "execution_count": null,
   "metadata": {},
   "outputs": [],
   "source": []
  },
  {
   "cell_type": "code",
   "execution_count": null,
   "metadata": {},
   "outputs": [],
   "source": []
  }
 ],
 "metadata": {
  "kernelspec": {
   "display_name": "Django Shell-Plus",
   "language": "python",
   "name": "django_extensions"
  },
  "language_info": {
   "codemirror_mode": {
    "name": "ipython",
    "version": 3
   },
   "file_extension": ".py",
   "mimetype": "text/x-python",
   "name": "python",
   "nbconvert_exporter": "python",
   "pygments_lexer": "ipython3",
   "version": "3.8.16"
  }
 },
 "nbformat": 4,
 "nbformat_minor": 4
}
