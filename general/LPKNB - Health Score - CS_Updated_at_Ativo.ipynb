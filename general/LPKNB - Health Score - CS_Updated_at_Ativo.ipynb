{
 "cells": [
  {
   "cell_type": "code",
   "execution_count": 1,
   "metadata": {},
   "outputs": [],
   "source": [
    "import datetime as dt\n",
    "import pytz\n",
    "from matplotlib import pyplot as plt\n",
    "from django.db.models.query_utils import Q\n",
    "import pandas as pd\n",
    "from tqdm.notebook import tqdm\n",
    "import openpyxl\n",
    "import calendar"
   ]
  },
  {
   "cell_type": "code",
   "execution_count": 2,
   "metadata": {},
   "outputs": [
    {
     "name": "stdout",
     "output_type": "stream",
     "text": [
      "STAGE=PRODUCTION\r\n"
     ]
    }
   ],
   "source": [
    "!cat .env"
   ]
  },
  {
   "cell_type": "code",
   "execution_count": 3,
   "metadata": {},
   "outputs": [],
   "source": [
    "#hs_tabela = pd.read_excel(\"hs.xlsx\", engine ='openpyxl')"
   ]
  },
  {
   "cell_type": "code",
   "execution_count": 3,
   "metadata": {},
   "outputs": [],
   "source": [
    "road_companies=[x for x in Company.objects.filter(active=True).values_list('name',flat=True).order_by('name')]"
   ]
  },
  {
   "cell_type": "code",
   "execution_count": 4,
   "metadata": {},
   "outputs": [
    {
     "data": {
      "text/plain": [
       "59"
      ]
     },
     "execution_count": 4,
     "metadata": {},
     "output_type": "execute_result"
    }
   ],
   "source": [
    "len(road_companies)"
   ]
  },
  {
   "cell_type": "code",
   "execution_count": 4,
   "metadata": {},
   "outputs": [],
   "source": [
    "road_companies = ['Arteris Fernão Dias',]"
   ]
  },
  {
   "cell_type": "code",
   "execution_count": 13,
   "metadata": {},
   "outputs": [
    {
     "data": {
      "text/plain": [
       "([30, 31], 2023, [11, 12], '01')"
      ]
     },
     "execution_count": 13,
     "metadata": {},
     "output_type": "execute_result"
    }
   ],
   "source": [
    "today = dt.date.today().strftime('%m')\n",
    "year = int(dt.date.today().strftime('%Y'))-1\n",
    "meses = [int(today)-i for i,a in enumerate(range(2),start=1)]\n",
    "meses.sort()\n",
    "months_number,meses=[30,31],[11,12]\n",
    "# months_number=meses\n",
    "months_number,year,meses,today"
   ]
  },
  {
   "cell_type": "code",
   "execution_count": 14,
   "metadata": {},
   "outputs": [
    {
     "data": {
      "text/plain": [
       "[30, 31]"
      ]
     },
     "execution_count": 14,
     "metadata": {},
     "output_type": "execute_result"
    }
   ],
   "source": [
    "last_days=[dt.date(year,a,calendar.monthrange(year, a)[1]).day for a in meses]\n",
    "last_days"
   ]
  },
  {
   "cell_type": "code",
   "execution_count": 15,
   "metadata": {},
   "outputs": [],
   "source": [
    "def quantitativos_v2(months_name,company):\n",
    "    sem_qtt =[]\n",
    "\n",
    "    for n in months_name:\n",
    "        com_qtt = 0\n",
    "        apontamentos_totais = 0\n",
    "        for occ in OccurrenceType.objects.filter(company__name = company).exclude(occurrence_kind='2'):\n",
    "            autofill_keys = []\n",
    "            try:\n",
    "                autofill_keys = [\n",
    "                    field[\"apiName\"] for field in occ.form_fields[\"fields\"] if \"autofill\" in field.keys()\n",
    "                ]\n",
    "            except:\n",
    "                autofill_keys = [\n",
    "                    field[\"api_name\"] for field in occ.form_fields[\"fields\"] if \"autofill\" in field.keys()\n",
    "                ]\n",
    "            size_occ=len(autofill_keys)            \n",
    "            reportings=Reporting.objects.filter(\n",
    "                occurrence_type=occ, \n",
    "                updated_at__month = n, \n",
    "                company__name = company, \n",
    "                updated_at__year=year\n",
    "            ).exclude(\n",
    "                occurrence_type__occurrence_kind='2'\n",
    "            ).exclude(\n",
    "                created_by__username='rlcs'\n",
    "            ).exclude(\n",
    "                created_by__username='cartcs'\n",
    "            ).only(\n",
    "                'form_data', 'occurrence_type'\n",
    "            ).select_related(\n",
    "                'occurrence_type'\n",
    "            )\n",
    "            \n",
    "            reportings_keys=[\n",
    "                len(a.keys()) for a in list(reportings.values_list('form_data', flat=True))\n",
    "            ]\n",
    "            com_qtt += len([a for a in reportings_keys if a > size_occ])\n",
    "            apontamentos_totais += reportings.count()\n",
    "        sem_qtt.append((apontamentos_totais - com_qtt)/apontamentos_totais if apontamentos_totais != 0 else 0)\n",
    "    return sem_qtt"
   ]
  },
  {
   "cell_type": "code",
   "execution_count": 16,
   "metadata": {},
   "outputs": [],
   "source": [
    "def dias_de_uso_v2(months_name, company):\n",
    "    \n",
    "    qtd_dias = []\n",
    "#     dias = [31, 28, 31, 30, 31, 30, 31, 31, 30, 31, 30, 31]\n",
    "    dias=last_days\n",
    "\n",
    "    for index, mes in enumerate(months_name):\n",
    "\n",
    "        a= []\n",
    "        for n in range(1, dias[index]):\n",
    "            a.append(\n",
    "                Reporting.objects.filter(\n",
    "                    company__name = company, \n",
    "                    updated_at__year=year, \n",
    "                    updated_at__month = mes,\n",
    "                    updated_at__day=n\n",
    "                ).exclude(\n",
    "                    occurrence_type__occurrence_kind='2'\n",
    "                ).exclude(\n",
    "                    created_by__username='rlcs'\n",
    "                ).exclude(\n",
    "                    created_by__username='neoviacs'\n",
    "                ).exclude(\n",
    "                    created_by__username='arteriscs'\n",
    "                ).only('uuid').count()\n",
    "            )\n",
    "        qtd_dias.append(a)\n",
    "\n",
    "    \n",
    "    quantidade = []\n",
    "    porcen_dias= []\n",
    "    \n",
    "    for qtd in qtd_dias:\n",
    "        quantidade.append(len([x for x in qtd if x != 0]))\n",
    "        \n",
    "    \n",
    "    for index, qtd in enumerate(quantidade):\n",
    "        b = qtd/dias[index]\n",
    "        porcen_dias.append(b)\n",
    "    return porcen_dias"
   ]
  },
  {
   "cell_type": "code",
   "execution_count": 17,
   "metadata": {},
   "outputs": [],
   "source": [
    "# Não está em uso o que está vigente é o v2\n",
    "def dias_de_uso_v3(months_name, company):\n",
    "    \n",
    "    porcen_dias = []\n",
    "    dias=last_days\n",
    "\n",
    "    for mes in months_name:\n",
    "\n",
    "        a = []\n",
    "        dias_do_mes = dias[mes-1]\n",
    "        for n in range(1, dias_do_mes):\n",
    "            a.append(\n",
    "                Reporting.objects.filter(\n",
    "                    company__name = company, \n",
    "                    updated_at__year=year, \n",
    "                    updated_at__month = mes,\n",
    "                    updated_at__day=n\n",
    "                ).exclude(\n",
    "                    occurrence_type__occurrence_kind='2'\n",
    "                ).exclude(\n",
    "                    created_by__username='rlcs'\n",
    "                ).exclude(\n",
    "                    created_by__username='neoviacs'\n",
    "                ).exclude(\n",
    "                    created_by__username='arteriscs'\n",
    "                ).only('uuid').count()\n",
    "            )\n",
    "\n",
    "        dias_com_apontamentos = len([x for x in a if x != 0])\n",
    "        porcen_dias.append(dias_com_apontamentos/dias_do_mes)\n",
    "\n",
    "    return porcen_dias"
   ]
  },
  {
   "cell_type": "code",
   "execution_count": null,
   "metadata": {},
   "outputs": [],
   "source": [
    "def equipes_ativas_v2(months_name, company):\n",
    "    team_name = list(Firm.objects.filter(company__name = company).values_list('name', flat=True))\n",
    "    \n",
    "    equipes=[]\n",
    "    for team in team_name:\n",
    "        for i in months_name:\n",
    "            equipes.append(\n",
    "                Reporting.objects.filter(\n",
    "                    company__name = company, \n",
    "                    updated_at__year=year, \n",
    "                    updated_at__month= i,\n",
    "                    firm__name = team\n",
    "                ).exclude(\n",
    "                    occurrence_type__occurrence_kind='2'\n",
    "                ).exclude(\n",
    "                    created_by__username='rlcs'\n",
    "                ).exclude(\n",
    "                    created_by__username='neoviacs'\n",
    "                ).exclude(\n",
    "                    created_by__username='arteriscs'\n",
    "                ).only('uuid').count()\n",
    "            )\n",
    "    \n",
    "\n",
    "    soma = []\n",
    "    for team in team_name:\n",
    "\n",
    "        soma.append(Reporting.objects.filter(company__name = company, updated_at__year=year,firm__name = team).exclude(occurrence_type__occurrence_kind='2').exclude(created_by__username='rlcs').exclude(created_by__username='neoviacs').exclude(created_by__username='arteriscs').only('uuid').count())\n",
    "\n",
    "    porcen = []\n",
    "    for month in months_name:\n",
    "        firm_moves=[]\n",
    "        objects=['Reporting', 'Job']\n",
    "        for firm in team_name:\n",
    "            num_moves = 0\n",
    "            for item in objects:\n",
    "                num_moves+=eval(item).history.filter(history_date__year=year, history_date__month=month, company__name= company, firm__name=firm).only('uuid').count()\n",
    "            firm_moves.append((num_moves, firm))\n",
    "\n",
    "        firm_moves.sort(key=lambda tup: tup[0], reverse=True)\n",
    "        active_firms=len([firm for firm in firm_moves if firm[0]>0])\n",
    "        porcen.append(active_firms/len(firm_moves) if len(firm_moves) != 0 else 0)\n",
    "    \n",
    "    return porcen"
   ]
  },
  {
   "cell_type": "code",
   "execution_count": 30,
   "metadata": {},
   "outputs": [],
   "source": [
    "def variacao(months):\n",
    "    taxa_variacao = []\n",
    "    for i,m in enumerate(months):\n",
    "        y = months[i]\n",
    "        b = months\n",
    "        c = b.index(y) \n",
    "        if c == 0:\n",
    "            taxa_variacao.append(0)\n",
    "        if y > b[c-1] and c != 0:\n",
    "            m = (y-b[c-1])/y\n",
    "            taxa_variacao.append(m)\n",
    "        if y == b[c-1] and c != 0:\n",
    "            i = y*0\n",
    "            taxa_variacao.append(i)\n",
    "        if y < b[c-1] and c!= 0 :\n",
    "            n = (y -b[c-1])/b[c-1]\n",
    "            taxa_variacao.append(n)\n",
    "    return taxa_variacao\n"
   ]
  },
  {
   "cell_type": "code",
   "execution_count": 31,
   "metadata": {},
   "outputs": [],
   "source": [
    "def qtt_nota(nota):\n",
    "    a = 0\n",
    "    if nota <0.05:\n",
    "        a = 1\n",
    "    if nota >= 0.05 and nota <0.15:\n",
    "        a = 0.65\n",
    "    if nota >= 0.15 and nota < 0.3:\n",
    "        a = 0.3\n",
    "    if nota >= 0.3:\n",
    "        a = 0\n",
    "    return a"
   ]
  },
  {
   "cell_type": "code",
   "execution_count": 32,
   "metadata": {},
   "outputs": [],
   "source": [
    "def uso_nota(nota):\n",
    "    a = 0\n",
    "    if nota <0.4:\n",
    "        a = 0\n",
    "    if nota >= 0.4 and nota <0.65:\n",
    "        a = 0.3\n",
    "    if nota >= 0.65 and nota < 0.8:\n",
    "        a = 0.65\n",
    "    if nota > 0.8:\n",
    "        a = 1\n",
    "    return a"
   ]
  },
  {
   "cell_type": "code",
   "execution_count": 33,
   "metadata": {},
   "outputs": [],
   "source": [
    "def equipe_nota(nota):\n",
    "    a = 0\n",
    "    if nota > 0.6:\n",
    "        a = 1\n",
    "    if nota >0.45 and nota <=0.6:\n",
    "        a = 0.65\n",
    "    if nota > 0.3 and nota <= 0.45:\n",
    "        a = 0.3\n",
    "    if nota <= 0.3:\n",
    "        a = 0\n",
    "    return a"
   ]
  },
  {
   "cell_type": "code",
   "execution_count": 34,
   "metadata": {},
   "outputs": [],
   "source": [
    "def variacao_nota(nota):\n",
    "    a= 0\n",
    "    if nota >= 0.25:\n",
    "        a = 1\n",
    "    if nota >= 0.15 and nota <0.25:\n",
    "        a = 0.75\n",
    "    if nota >= -0.15 and nota < 0.15:\n",
    "        a = 0.5\n",
    "    if nota >= -0.25 and nota < -0.15:\n",
    "        a = 0.5\n",
    "    if nota < -0.25:\n",
    "        a = 0\n",
    "    return a"
   ]
  },
  {
   "cell_type": "code",
   "execution_count": 35,
   "metadata": {},
   "outputs": [
    {
     "data": {
      "application/vnd.jupyter.widget-view+json": {
       "model_id": "3e2d597045344826bae54ea1c64818c3",
       "version_major": 2,
       "version_minor": 0
      },
      "text/plain": [
       "  0%|          | 0/10 [00:00<?, ?it/s]"
      ]
     },
     "metadata": {},
     "output_type": "display_data"
    },
    {
     "name": "stdout",
     "output_type": "stream",
     "text": [
      "Arteris Régis Bittencourt\n",
      "Dalba Foz do Iguaçu\n",
      "Eixo SP - Fx. Dom. | Qualidade | Topografia\n",
      "ELO Ecovias dos Imigrantes\n",
      "ELO Rodovias dos Tamoios\n",
      "ELO Rodovias Tietê\n",
      "ELO Via Lagos\n",
      "Neovia Planalto Sul\n",
      "Sinalizavia (Municípios) \n",
      "VF Gomes - BR158\n"
     ]
    }
   ],
   "source": [
    "uso_sistema = []\n",
    "sem_quantitativos = []\n",
    "equipes = []\n",
    "variacao_dias = []\n",
    "for company in tqdm(road_companies):\n",
    "    months=[]\n",
    "    print(company)\n",
    "    for n in months_number:\n",
    "        months.append(\n",
    "            Reporting.objects.filter(\n",
    "                company__name = company, \n",
    "                updated_at__year=year, \n",
    "                updated_at__month=n\n",
    "            ).exclude(\n",
    "                occurrence_type__occurrence_kind='2'\n",
    "            ).exclude(\n",
    "                created_by__username='rlcs'\n",
    "            ).exclude(\n",
    "                created_by__username='neoviacs'\n",
    "            ).exclude(\n",
    "                created_by__username='arteriscs'\n",
    "            ).only('uuid').count()\n",
    "        )\n",
    "    uso_sistema.append(dias_de_uso_v2(months_number, company))\n",
    "    sem_quantitativos.append(quantitativos_v2(months_number, company))\n",
    "    equipes.append(equipes_ativas_v2(months_number, company))\n",
    "    variacao_dias.append(variacao(months)) \n",
    "    #print(months)\n",
    "#     print(f' dias de uso: {dias_de_uso_v2(months_number, company)} \\n sem quantitativos: {quantitativos_v2(months_number, company)} \\n equipes ativas: {equipes_ativas_v2(months_number, company)} \\n variação dias: {variacao(months)} ')"
   ]
  },
  {
   "cell_type": "code",
   "execution_count": 36,
   "metadata": {},
   "outputs": [
    {
     "data": {
      "application/vnd.jupyter.widget-view+json": {
       "model_id": "2cd2e11c57864a79ae6779ec83dddd18",
       "version_major": 2,
       "version_minor": 0
      },
      "text/plain": [
       "  0%|          | 0/2 [00:00<?, ?it/s]"
      ]
     },
     "metadata": {},
     "output_type": "display_data"
    },
    {
     "name": "stdout",
     "output_type": "stream",
     "text": [
      "Arteris Régis Bittencourt\n",
      "10.5\n",
      "0\n",
      "15\n",
      "17.5\n",
      "Dalba Foz do Iguaçu\n",
      "22.75\n",
      "15\n",
      "4.5\n",
      "17.5\n",
      "Eixo SP - Fx. Dom. | Qualidade | Topografia\n",
      "0\n",
      "15\n",
      "4.5\n",
      "17.5\n",
      "ELO Ecovias dos Imigrantes\n",
      "0\n",
      "0\n",
      "15\n",
      "17.5\n",
      "ELO Rodovias dos Tamoios\n",
      "0\n",
      "0\n",
      "15\n",
      "17.5\n",
      "ELO Rodovias Tietê\n",
      "0\n",
      "0\n",
      "0\n",
      "17.5\n",
      "ELO Via Lagos\n",
      "10.5\n",
      "15\n",
      "0\n",
      "17.5\n",
      "Neovia Planalto Sul\n",
      "10.5\n",
      "0\n",
      "4.5\n",
      "17.5\n",
      "Sinalizavia (Municípios) \n",
      "VF Gomes - BR158\n",
      "Arteris Régis Bittencourt\n",
      "10.5\n",
      "0\n",
      "15\n",
      "0\n",
      "Dalba Foz do Iguaçu\n",
      "35\n",
      "15\n",
      "4.5\n",
      "26.25\n",
      "Eixo SP - Fx. Dom. | Qualidade | Topografia\n",
      "0\n",
      "9.75\n",
      "4.5\n",
      "17.5\n",
      "ELO Ecovias dos Imigrantes\n",
      "0\n",
      "0\n",
      "15\n",
      "35\n",
      "ELO Rodovias dos Tamoios\n",
      "10.5\n",
      "0\n",
      "15\n",
      "35\n",
      "ELO Rodovias Tietê\n",
      "ELO Via Lagos\n",
      "0\n",
      "15\n",
      "0\n",
      "0\n",
      "Neovia Planalto Sul\n",
      "0\n",
      "0\n",
      "4.5\n",
      "17.5\n",
      "Sinalizavia (Municípios) \n",
      "VF Gomes - BR158\n"
     ]
    }
   ],
   "source": [
    "hs_month = []\n",
    "hs_month_export = {}\n",
    "for i in tqdm(range(len(months_number))):\n",
    "    hs = []\n",
    "    for n in range(len(road_companies)):\n",
    "        print(road_companies[n])\n",
    "        if uso_sistema[n][i] == 0:\n",
    "            hs.append(0)\n",
    "        else:\n",
    "            hs.append(\n",
    "                35*(uso_nota(uso_sistema[n][i])) \n",
    "                + 15*(qtt_nota(sem_quantitativos[n][i])) \n",
    "                + 15*(equipe_nota(equipes[n][i]))\n",
    "                + 35*(variacao_nota(variacao_dias[n][i]))\n",
    "            )\n",
    "            print(35 * uso_nota(uso_sistema[n][i]))\n",
    "            print(15 * qtt_nota(sem_quantitativos[n][i]))\n",
    "            print(15 * equipe_nota(equipes[n][i]))\n",
    "            print(35 * variacao_nota(variacao_dias[n][i]))\n",
    "        if not hs_month_export.get(road_companies[n]):\n",
    "            hs_month_export[road_companies[n]] = []\n",
    "        hs_month_export[road_companies[n]].append(hs[-1])\n",
    "\n",
    "    hs_month.append(hs)"
   ]
  },
  {
   "cell_type": "code",
   "execution_count": 37,
   "metadata": {},
   "outputs": [
    {
     "data": {
      "text/plain": [
       "{'Arteris Régis Bittencourt': [43.0, 25.5],\n",
       " 'Dalba Foz do Iguaçu': [59.75, 80.75],\n",
       " 'Eixo SP - Fx. Dom. | Qualidade | Topografia': [37.0, 31.75],\n",
       " 'ELO Ecovias dos Imigrantes': [32.5, 50],\n",
       " 'ELO Rodovias dos Tamoios': [32.5, 60.5],\n",
       " 'ELO Rodovias Tietê': [17.5, 0],\n",
       " 'ELO Via Lagos': [43.0, 15],\n",
       " 'Neovia Planalto Sul': [32.5, 22.0],\n",
       " 'Sinalizavia (Municípios) ': [0, 0],\n",
       " 'VF Gomes - BR158': [0, 0]}"
      ]
     },
     "execution_count": 37,
     "metadata": {},
     "output_type": "execute_result"
    }
   ],
   "source": [
    "hs_month_export"
   ]
  },
  {
   "cell_type": "code",
   "execution_count": 38,
   "metadata": {},
   "outputs": [],
   "source": [
    "hs_novo = []\n",
    "for i in hs_month_export.values():\n",
    "    hs_novo.append(i[-1])"
   ]
  },
  {
   "cell_type": "code",
   "execution_count": 39,
   "metadata": {},
   "outputs": [
    {
     "data": {
      "text/plain": [
       "[25.5, 80.75, 31.75, 50, 60.5, 0, 15, 22.0, 0, 0]"
      ]
     },
     "execution_count": 39,
     "metadata": {},
     "output_type": "execute_result"
    }
   ],
   "source": [
    "hs_novo"
   ]
  },
  {
   "cell_type": "code",
   "execution_count": 40,
   "metadata": {},
   "outputs": [],
   "source": [
    "#with pd.ExcelWriter(\"hs2022piloto\" + '.xlsx') as writer:\n",
    "#    hs_excel = hs_tabela.to_excel(writer, index = False, sheet_name = \"Página 1\")"
   ]
  },
  {
   "cell_type": "code",
   "execution_count": 41,
   "metadata": {},
   "outputs": [],
   "source": [
    "df= pd.DataFrame(data=hs_month_export)\n",
    "df = df.transpose()"
   ]
  },
  {
   "cell_type": "code",
   "execution_count": 42,
   "metadata": {},
   "outputs": [
    {
     "data": {
      "text/html": [
       "<div>\n",
       "<style scoped>\n",
       "    .dataframe tbody tr th:only-of-type {\n",
       "        vertical-align: middle;\n",
       "    }\n",
       "\n",
       "    .dataframe tbody tr th {\n",
       "        vertical-align: top;\n",
       "    }\n",
       "\n",
       "    .dataframe thead th {\n",
       "        text-align: right;\n",
       "    }\n",
       "</style>\n",
       "<table border=\"1\" class=\"dataframe\">\n",
       "  <thead>\n",
       "    <tr style=\"text-align: right;\">\n",
       "      <th></th>\n",
       "      <th>10/2023</th>\n",
       "      <th>11/2023</th>\n",
       "    </tr>\n",
       "  </thead>\n",
       "  <tbody>\n",
       "    <tr>\n",
       "      <th>Arteris Régis Bittencourt</th>\n",
       "      <td>43.00</td>\n",
       "      <td>25.50</td>\n",
       "    </tr>\n",
       "    <tr>\n",
       "      <th>Dalba Foz do Iguaçu</th>\n",
       "      <td>59.75</td>\n",
       "      <td>80.75</td>\n",
       "    </tr>\n",
       "    <tr>\n",
       "      <th>Eixo SP - Fx. Dom. | Qualidade | Topografia</th>\n",
       "      <td>37.00</td>\n",
       "      <td>31.75</td>\n",
       "    </tr>\n",
       "    <tr>\n",
       "      <th>ELO Ecovias dos Imigrantes</th>\n",
       "      <td>32.50</td>\n",
       "      <td>50.00</td>\n",
       "    </tr>\n",
       "    <tr>\n",
       "      <th>ELO Rodovias dos Tamoios</th>\n",
       "      <td>32.50</td>\n",
       "      <td>60.50</td>\n",
       "    </tr>\n",
       "    <tr>\n",
       "      <th>ELO Rodovias Tietê</th>\n",
       "      <td>17.50</td>\n",
       "      <td>0.00</td>\n",
       "    </tr>\n",
       "    <tr>\n",
       "      <th>ELO Via Lagos</th>\n",
       "      <td>43.00</td>\n",
       "      <td>15.00</td>\n",
       "    </tr>\n",
       "    <tr>\n",
       "      <th>Neovia Planalto Sul</th>\n",
       "      <td>32.50</td>\n",
       "      <td>22.00</td>\n",
       "    </tr>\n",
       "    <tr>\n",
       "      <th>Sinalizavia (Municípios)</th>\n",
       "      <td>0.00</td>\n",
       "      <td>0.00</td>\n",
       "    </tr>\n",
       "    <tr>\n",
       "      <th>VF Gomes - BR158</th>\n",
       "      <td>0.00</td>\n",
       "      <td>0.00</td>\n",
       "    </tr>\n",
       "  </tbody>\n",
       "</table>\n",
       "</div>"
      ],
      "text/plain": [
       "                                             10/2023  11/2023\n",
       "Arteris Régis Bittencourt                      43.00    25.50\n",
       "Dalba Foz do Iguaçu                            59.75    80.75\n",
       "Eixo SP - Fx. Dom. | Qualidade | Topografia    37.00    31.75\n",
       "ELO Ecovias dos Imigrantes                     32.50    50.00\n",
       "ELO Rodovias dos Tamoios                       32.50    60.50\n",
       "ELO Rodovias Tietê                             17.50     0.00\n",
       "ELO Via Lagos                                  43.00    15.00\n",
       "Neovia Planalto Sul                            32.50    22.00\n",
       "Sinalizavia (Municípios)                        0.00     0.00\n",
       "VF Gomes - BR158                                0.00     0.00"
      ]
     },
     "execution_count": 42,
     "metadata": {},
     "output_type": "execute_result"
    }
   ],
   "source": [
    "df.columns=[f'{months_number[0]}/{year}',f'{months_number[-1]}/{year}']\n",
    "df"
   ]
  },
  {
   "cell_type": "code",
   "execution_count": 46,
   "metadata": {},
   "outputs": [],
   "source": [
    "df.to_excel('hsOut2023.xlsx')"
   ]
  },
  {
   "cell_type": "code",
   "execution_count": null,
   "metadata": {},
   "outputs": [],
   "source": []
  }
 ],
 "metadata": {
  "kernelspec": {
   "display_name": "Django Shell-Plus",
   "language": "python",
   "name": "django_extensions"
  },
  "language_info": {
   "codemirror_mode": {
    "name": "ipython",
    "version": 3
   },
   "file_extension": ".py",
   "mimetype": "text/x-python",
   "name": "python",
   "nbconvert_exporter": "python",
   "pygments_lexer": "ipython3",
   "version": "3.8.16"
  }
 },
 "nbformat": 4,
 "nbformat_minor": 2
}
