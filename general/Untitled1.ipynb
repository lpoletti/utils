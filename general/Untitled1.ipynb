{
 "cells": [
  {
   "cell_type": "code",
   "execution_count": null,
   "id": "f07d07f2",
   "metadata": {},
   "outputs": [],
   "source": [
    "!cat .env"
   ]
  },
  {
   "cell_type": "code",
   "execution_count": null,
   "id": "0af416b6",
   "metadata": {},
   "outputs": [],
   "source": [
    "!pip list"
   ]
  },
  {
   "cell_type": "code",
   "execution_count": null,
   "id": "52425c5b",
   "metadata": {},
   "outputs": [],
   "source": [
    "import json\n",
    "import os\n",
    "import datetime\n",
    "from openpyxl import load_workbook\n",
    "from copy import deepcopy\n",
    "from json_logic import jsonLogic\n",
    "from helpers.histories import bulk_update_with_history\n",
    "from tqdm.notebook import tqdm\n",
    "from helpers.km_converter import get_road_coordinates,km_to_coordinates\n",
    "from django.contrib.gis.geos import LineString, Point\n",
    "import time\n",
    "import pytz\n",
    "import uuid\n",
    "import json\n",
    "import re\n",
    "import pandas as pd\n",
    "from openpyxl import load_workbook\n",
    "from datetime import timedelta\n",
    "import random\n",
    "from copy import deepcopy\n",
    "from django.contrib.gis.geos import LineString, Point\n",
    "from django.contrib.admin.utils import flatten\n",
    "import math\n",
    "import datetime\n",
    "import locale\n",
    "from tqdm.notebook import tqdm\n",
    "from PIL import Image\n",
    "from io import BytesIO\n",
    "from simple_history.utils import bulk_create_with_history\n",
    "from django.contrib.gis.geos import Point, LineString as DjangoLineString\n",
    "from helpers.dates import utc_to_local\n",
    "from helpers.apps.reportings import get_occurrence_kind"
   ]
  },
  {
   "cell_type": "code",
   "execution_count": null,
   "id": "476a6cf4",
   "metadata": {},
   "outputs": [],
   "source": [
    "_,road=get_road_coordinates('BR-163', 854,0,Company.objects.get(name__icontains=\"Rota do Oeste\"))\n",
    "road,get_road_coordinates('BR-163', 854,0,Company.objects.get(name__icontains=\"Rota do Oeste\"))[0][0]"
   ]
  },
  {
   "cell_type": "code",
   "execution_count": null,
   "id": "1f384cd3",
   "metadata": {},
   "outputs": [],
   "source": [
    "km_to_coordinates(road,855)[0][0],km_to_coordinates(road,855)[0][1]"
   ]
  },
  {
   "cell_type": "code",
   "execution_count": null,
   "id": "cf294700",
   "metadata": {},
   "outputs": [],
   "source": [
    "r=Road.objects.get(id=2041)\n",
    "r.metadata['direction']['values']"
   ]
  },
  {
   "cell_type": "code",
   "execution_count": null,
   "id": "34f21dcb",
   "metadata": {},
   "outputs": [],
   "source": []
  },
  {
   "cell_type": "code",
   "execution_count": null,
   "id": "cae6f7fb",
   "metadata": {},
   "outputs": [],
   "source": [
    "reps = Reporting.objects.get(company__name=\"Via Brasil\", uuid='4f2ac80a-8639-443c-a889-7c5b947f1a5b')\n",
    "reps.__dict__"
   ]
  },
  {
   "cell_type": "code",
   "execution_count": null,
   "id": "493ad8a9",
   "metadata": {},
   "outputs": [],
   "source": [
    "user = User.objects.get(username=\"victor.teste.csg\")\n",
    "user.delete()"
   ]
  },
  {
   "cell_type": "code",
   "execution_count": null,
   "id": "619f8023",
   "metadata": {},
   "outputs": [],
   "source": [
    "for rep in tqdm(reps):\n",
    "    rep.direction = rep.direction\n",
    "    rep._history_user = user\n",
    "    rep.save()"
   ]
  },
  {
   "cell_type": "code",
   "execution_count": null,
   "id": "08d553bd",
   "metadata": {},
   "outputs": [],
   "source": [
    "for a in reps:\n",
    "    if a.road and a.road.lot_logic:\n",
    "        print(a.km, a.road, a.road.lot_logic)"
   ]
  },
  {
   "cell_type": "code",
   "execution_count": null,
   "id": "f1983ced",
   "metadata": {},
   "outputs": [],
   "source": [
    "r = Reporting.history.filter(number=\"RO-DrenI-2022.02310\")\n",
    "r[0].history_type"
   ]
  },
  {
   "cell_type": "code",
   "execution_count": null,
   "id": "657fa937",
   "metadata": {},
   "outputs": [],
   "source": [
    "reps[1]._history_user"
   ]
  },
  {
   "cell_type": "code",
   "execution_count": null,
   "id": "e3ed42d6",
   "metadata": {},
   "outputs": [],
   "source": [
    "company=Company.objects.get(name=\"CART\")\n",
    "company"
   ]
  },
  {
   "cell_type": "code",
   "execution_count": null,
   "id": "5c9c1abe",
   "metadata": {},
   "outputs": [],
   "source": [
    "roads=Road.objects.filter(company__name__in=[\"Garcia Monteiro\"]).order_by('name').exclude(name__in=[\"SP-270\",\"SP-300\"])\n",
    "roads.count()"
   ]
  },
  {
   "cell_type": "code",
   "execution_count": null,
   "id": "70b44277",
   "metadata": {},
   "outputs": [],
   "source": [
    "for a in tqdm(roads):\n",
    "    #Remove a company especificada do campo m2m\n",
    "    a.company.remove(company)\n",
    "    #cria nova road sem o lot_logic\n",
    "    r=Road(name=a.name,direction=a.direction,marks=a.marks,uf=a.uf,metadata=a.metadata)\n",
    "    r.save()\n",
    "    r.company.add(company)"
   ]
  },
  {
   "cell_type": "code",
   "execution_count": null,
   "id": "2044fbee",
   "metadata": {},
   "outputs": [],
   "source": [
    "reps = Reporting.objects.filter(company=company)\n",
    "reps.count()"
   ]
  },
  {
   "cell_type": "code",
   "execution_count": null,
   "id": "fcd81367",
   "metadata": {},
   "outputs": [],
   "source": [
    "get_road_coordinates(reps[1000].road_name, reps[1000].km,reps[1000].direction,reps[1000].company)"
   ]
  },
  {
   "cell_type": "code",
   "execution_count": null,
   "id": "1ea1db32",
   "metadata": {},
   "outputs": [],
   "source": [
    "rep_edit=[]\n",
    "\n",
    "for a in reps:\n",
    "    ### GET_ROAD_COORDINATES RETORNAR 2 INFORMAÇÕES POINT OBJECT E A ROAD DESSAS COORDENADAS\n",
    "    _,road=get_road_coordinates(a.road_name, a.km,a.direction,a.company)\n",
    "    a.roads = road\n",
    "    rep_edit.append(a)"
   ]
  },
  {
   "cell_type": "code",
   "execution_count": null,
   "id": "c16bcd57",
   "metadata": {},
   "outputs": [],
   "source": [
    "al = ActionLog.objects.filter(company__name=\"Arteris Fluminense\",user='6b286419-348f-4782-ac62-21583d22018f')\n",
    "al[1].__dict__"
   ]
  },
  {
   "cell_type": "code",
   "execution_count": null,
   "id": "ac2d1f15",
   "metadata": {},
   "outputs": [],
   "source": [
    "company=Company.objects.get(name=\"CART\")"
   ]
  },
  {
   "cell_type": "code",
   "execution_count": null,
   "id": "5ee310d9",
   "metadata": {},
   "outputs": [],
   "source": [
    "status = ServiceOrderActionStatus.objects.get(name=\"Cancelado\",companies=company)\n",
    "status"
   ]
  },
  {
   "cell_type": "code",
   "execution_count": null,
   "id": "3e56aaf2",
   "metadata": {},
   "outputs": [],
   "source": [
    "from openpyxl import load_workbook\n",
    "filename = \"Email dos Usuarios Rodovias.xlsx\"\n",
    "wb = load_workbook(filename)\n",
    "ws = wb[wb.sheetnames[0]]\n",
    "ws"
   ]
  },
  {
   "cell_type": "code",
   "execution_count": null,
   "id": "fb282ed7",
   "metadata": {},
   "outputs": [],
   "source": [
    "header = []\n",
    "values = []\n",
    "\n",
    "for index, row in enumerate(ws.rows):\n",
    "    if index == 0:\n",
    "        header = list([a.value for a in row])\n",
    "        continue\n",
    "    obj = {}\n",
    "    for col_index, cell in enumerate(row):\n",
    "        value = cell.value\n",
    "        obj[header[col_index]] = value\n",
    "    values.append(obj)\n",
    "values[0]"
   ]
  },
  {
   "cell_type": "code",
   "execution_count": null,
   "id": "ca2a3318",
   "metadata": {},
   "outputs": [],
   "source": [
    "values[1]"
   ]
  },
  {
   "cell_type": "code",
   "execution_count": null,
   "id": "9255e211",
   "metadata": {},
   "outputs": [],
   "source": [
    "rep_edit=[]\n",
    "for a in tqdm(values):\n",
    "    rep=Reporting.objects.filter(number=a['Número']).first()\n",
    "    rep.status=status\n",
    "    rep_edit.append(rep)"
   ]
  },
  {
   "cell_type": "code",
   "execution_count": null,
   "id": "6cd7ede5",
   "metadata": {},
   "outputs": [],
   "source": [
    "apontamentos = bulk_update_with_history(rep_edit,Reporting, use_django_bulk=True,batch_size=900,user=user)"
   ]
  },
  {
   "cell_type": "code",
   "execution_count": null,
   "id": "7b74c6aa",
   "metadata": {},
   "outputs": [],
   "source": [
    "company=Company.objects.get(name=\"CART\")\n",
    "user=User.objects.get(username=\"rlcs\")\n",
    "company,user"
   ]
  },
  {
   "cell_type": "code",
   "execution_count": null,
   "id": "deee2f61",
   "metadata": {},
   "outputs": [],
   "source": [
    "from tqdm.notebook import tqdm\n",
    "rep_edit=[]\n",
    "errados=[]\n",
    "\n",
    "for b in tqdm(values):\n",
    "    try:\n",
    "        rep=Reporting.objects.get(company=company, number=b['Número'])\n",
    "        rep.form_data['reference']='Aceiros 2023'\n",
    "        rep_edit.append(rep)\n",
    "#         print(rep)\n",
    "    except Exception as e:\n",
    "        # ARRUMANDO O CAMPO PRA PODER CONSULTAR NO SISTEMA POIS ESTAVA FORA DO PADRÃO\n",
    "        if str(b['Número'])[-4:] == '2021':\n",
    "            number = int(str(b['Número'])[:-4])\n",
    "            number = '{:05}'. format(number) + '.2021'    \n",
    "        elif str(b['Número'])[-4:] == '2022':\n",
    "            number = int(str(b['Número'])[:-4])\n",
    "            number = '{:05}'. format(number) + '.2022'    \n",
    "        elif str(b['Número'])[-4:] == '2023':\n",
    "            number = int(str(b['Número'])[:-4])\n",
    "            number = '{:05}'. format(number) + '.2023'    \n",
    "        else:\n",
    "            number = b['Número']\n",
    "        rep=Reporting.objects.get(company=company, number=number)\n",
    "        rep.form_data['reference']='Aceiros 2023'\n",
    "        rep_edit.append(rep)\n",
    "#         print(number,rep)"
   ]
  },
  {
   "cell_type": "code",
   "execution_count": null,
   "id": "3c31cf9a",
   "metadata": {},
   "outputs": [],
   "source": [
    "apontamentos = bulk_update_with_history(rep_edit,Reporting, use_django_bulk=True,batch_size=200,user=user)"
   ]
  },
  {
   "cell_type": "code",
   "execution_count": null,
   "id": "4447d101",
   "metadata": {},
   "outputs": [],
   "source": [
    "company=Company.objects.get(name=\"CART\")\n",
    "user=User.objects.get(username=\"rlcs\")\n",
    "new_step = ApprovalStep.objects.get(\n",
    "    approval_flow__company=company, \n",
    "    name=\"Cancelado\",\n",
    "    approval_flow__target_model=\"reportings.Reporting\"\n",
    ")\n",
    "company,user,new_step"
   ]
  },
  {
   "cell_type": "code",
   "execution_count": null,
   "id": "72dd29bb",
   "metadata": {},
   "outputs": [],
   "source": [
    "reps = Reporting.objects.filter(company=company,approval_step=new_step)\n",
    "reps.count()"
   ]
  },
  {
   "cell_type": "code",
   "execution_count": null,
   "id": "06018dec",
   "metadata": {},
   "outputs": [],
   "source": [
    "rep = Reporting.objects.get(company=company, number='78708.2022')\n",
    "rep.history.all().order_by('-history_date')[1]"
   ]
  },
  {
   "cell_type": "code",
   "execution_count": null,
   "id": "79799236",
   "metadata": {},
   "outputs": [],
   "source": [
    "rep_edit=[]\n",
    "for a in tqdm(values):\n",
    "    try:\n",
    "        rep = Reporting.objects.get(company=company, number=a['Número'])\n",
    "        rep.approval_step = new_step\n",
    "        rep.editable = False\n",
    "        rep._history_user = user\n",
    "        rep_edit.append(rep)\n",
    "    except:\n",
    "        print(a['Número'])\n"
   ]
  },
  {
   "cell_type": "code",
   "execution_count": null,
   "id": "06349610",
   "metadata": {},
   "outputs": [],
   "source": [
    "utc = pytz.timezone('Asia/Almaty')\n",
    "rep=Reporting.objects.get(company=company, number='CART-DRE-SDP-01548.2021')\n",
    "rep.form_data['received_date'],utc"
   ]
  },
  {
   "cell_type": "code",
   "execution_count": null,
   "id": "ddf4f47d",
   "metadata": {},
   "outputs": [],
   "source": [
    "rep_edit[0].__dict__"
   ]
  },
  {
   "cell_type": "code",
   "execution_count": null,
   "id": "e6872ea4",
   "metadata": {},
   "outputs": [],
   "source": [
    "apontamentos = bulk_update_with_history(rep_edit,Reporting, use_django_bulk=True,batch_size=200,user=user)"
   ]
  },
  {
   "cell_type": "code",
   "execution_count": null,
   "id": "c482e536",
   "metadata": {},
   "outputs": [],
   "source": [
    "rep_edit=[]\n",
    "errados=[]\n",
    "user=User.objects.get(username=\"rlcs\")\n",
    "for b in tqdm(values):\n",
    "    try:\n",
    "        rep=Reporting.objects.get(company=company, number=b['Número'])\n",
    "        rep.form_data['reference'] = b['Referência']\n",
    "        rep._history_user = user\n",
    "        rep_edit.append(rep)\n",
    "    except:\n",
    "        # ARRUMANDO O CAMPO PRA PODER CONSULTAR NO SISTEMA POIS ESTAVA FORA DO PADRÃO\n",
    "        if str(b['Número'])[-4:] == '2021':\n",
    "            number = int(str(b['Número'])[:-4])\n",
    "            number = '{:05}'. format(number) + '.2021'    \n",
    "        elif str(b['Número'])[-4:] == '2022':\n",
    "            number = int(str(b['Número'])[:-4])\n",
    "            number = '{:05}'. format(number) + '.2022'    \n",
    "        elif str(b['Número'])[-4:] == '2023':\n",
    "            number = int(str(b['Número'])[:-4])\n",
    "            number = '{:05}'. format(number) + '.2023'    \n",
    "        else:\n",
    "            number = b['Número']\n",
    "        try:\n",
    "            rep=Reporting.objects.get(company=company, number=number)\n",
    "            rep.form_data['reference'] = b['Referência']\n",
    "            rep._history_user = user\n",
    "            rep_edit.append(rep)\n",
    "        except Exception as e:\n",
    "            print(f'{b[\"Número\"]} -> {number}')"
   ]
  },
  {
   "cell_type": "code",
   "execution_count": null,
   "id": "7c7791ae",
   "metadata": {},
   "outputs": [],
   "source": [
    "len(rep_edit),rep_edit[0].__dict__"
   ]
  },
  {
   "cell_type": "code",
   "execution_count": null,
   "id": "7927e676",
   "metadata": {},
   "outputs": [],
   "source": [
    "apontamentos = bulk_update_with_history(rep_edit,Reporting, use_django_bulk=True,batch_size=230,user=user)"
   ]
  },
  {
   "cell_type": "code",
   "execution_count": null,
   "id": "b198276b",
   "metadata": {},
   "outputs": [],
   "source": [
    "occ = OccurrenceType.objects.filter(company__name=\"Rota do Oeste\",active=True)"
   ]
  },
  {
   "cell_type": "code",
   "execution_count": null,
   "id": "5364f163",
   "metadata": {},
   "outputs": [],
   "source": [
    "for a in tqdm(occ):\n",
    "    for b in a.form_fields['fields']:\n",
    "        if b['apiName'] == 'anttCode':\n",
    "            b['dataType'] = 'number'\n",
    "            a.save()"
   ]
  },
  {
   "cell_type": "code",
   "execution_count": null,
   "id": "176dd80b",
   "metadata": {},
   "outputs": [],
   "source": [
    "occ[0].form_fields['fields']"
   ]
  },
  {
   "cell_type": "code",
   "execution_count": null,
   "id": "61b90e8e",
   "metadata": {},
   "outputs": [],
   "source": [
    "reps=Reporting.objects.filter(company__name=\"Rota do Oeste\",form_data__antt_code__isnull=False)\n",
    "reps.count()"
   ]
  },
  {
   "cell_type": "code",
   "execution_count": null,
   "id": "f296aa3e",
   "metadata": {
    "scrolled": true
   },
   "outputs": [],
   "source": [
    "rep_edit=[]\n",
    "user=User.objects.get(username=\"rlcs\")\n",
    "for a in tqdm(reps):\n",
    "    try:\n",
    "        a.form_data['antt_code'] = int(a.form_data['antt_code'])\n",
    "        rep_edit.append(a)\n",
    "    except Exception as e:\n",
    "        if a.form_data['antt_code']:\n",
    "            a.form_data['antt_code'] = int(a.form_data['antt_code'][:5])\n",
    "            rep_edit.append(a)\n",
    "        else:\n",
    "            del a.form_data['antt_code']\n",
    "            rep_edit.append(a)"
   ]
  },
  {
   "cell_type": "code",
   "execution_count": null,
   "id": "114141a8",
   "metadata": {},
   "outputs": [],
   "source": [
    "apontamentos = bulk_update_with_history(rep_edit,Reporting, use_django_bulk=True,batch_size=200,user=user)"
   ]
  },
  {
   "cell_type": "code",
   "execution_count": null,
   "id": "f2f1d206",
   "metadata": {},
   "outputs": [],
   "source": [
    "for a,b in obj_str.items():\n",
    "    if b is not None:\n",
    "        obj_str[a] = b[:5]"
   ]
  },
  {
   "cell_type": "code",
   "execution_count": null,
   "id": "bfb61e0c",
   "metadata": {},
   "outputs": [],
   "source": [
    "obj_str"
   ]
  },
  {
   "cell_type": "code",
   "execution_count": null,
   "id": "e2b20a99",
   "metadata": {},
   "outputs": [],
   "source": [
    "rep_edit=[]\n",
    "user=User.objects.get(username=\"rlcs\")\n",
    "for a,b in tqdm(obj_str.items()):\n",
    "    \n",
    "    if b:\n",
    "        rep = Reporting.objects.get(company__name=\"Rota do Oeste\",number=a.strip())\n",
    "        rep.form_data['antt_code'] = int(b[:5])\n",
    "        rep_edit.append(rep)"
   ]
  },
  {
   "cell_type": "code",
   "execution_count": null,
   "id": "f787dc26",
   "metadata": {},
   "outputs": [],
   "source": [
    "apontamentos = bulk_update_with_history(rep_edit,Reporting, use_django_bulk=True,batch_size=2000,user=user)"
   ]
  },
  {
   "cell_type": "code",
   "execution_count": null,
   "id": "a8e37b49",
   "metadata": {
    "scrolled": true
   },
   "outputs": [],
   "source": [
    "for a in reps:\n",
    "    a.occurrence_type = OccurrenceType.objects.get(name=\"Cerca\", company__name=\"Eixo SP\")\n",
    "#     a.save()"
   ]
  },
  {
   "cell_type": "code",
   "execution_count": null,
   "id": "abff8e4d",
   "metadata": {},
   "outputs": [],
   "source": [
    "%run 'LPKNB - Funcao Traducao.ipynb'"
   ]
  },
  {
   "cell_type": "code",
   "execution_count": null,
   "id": "96bf2f23",
   "metadata": {
    "scrolled": true
   },
   "outputs": [],
   "source": [
    "traduzirLane('Não se aplica'),traduzirDir('Ambos')"
   ]
  },
  {
   "cell_type": "code",
   "execution_count": null,
   "id": "84a24cf2",
   "metadata": {},
   "outputs": [],
   "source": [
    "company.custom_options['reporting']['fields']['direction']['select_options']['options']"
   ]
  },
  {
   "cell_type": "markdown",
   "id": "8a0f6e53",
   "metadata": {},
   "source": [
    "# INCLUSÃO DE INFORMAÇÕES EM CLASSE VIA EXCEL "
   ]
  },
  {
   "cell_type": "code",
   "execution_count": null,
   "id": "0a4edc80",
   "metadata": {},
   "outputs": [],
   "source": [
    "filename2 = \"Pavimento - quantitativos.xlsx\"\n",
    "wb = load_workbook(filename2)\n",
    "ws = wb['Apontamentos']"
   ]
  },
  {
   "cell_type": "code",
   "execution_count": null,
   "id": "194bae10",
   "metadata": {},
   "outputs": [],
   "source": [
    "header = []\n",
    "values = []\n",
    "\n",
    "for index, row in enumerate(ws.rows):\n",
    "    if index == 0:\n",
    "        header = list([a.value for a in row])\n",
    "        continue\n",
    "    obj = {}\n",
    "    for col_index, cell in enumerate(row):\n",
    "        value = cell.value\n",
    "        obj[header[col_index]] = value\n",
    "    values.append(obj)\n",
    "values[0]"
   ]
  },
  {
   "cell_type": "code",
   "execution_count": null,
   "id": "c2c7fd07",
   "metadata": {},
   "outputs": [],
   "source": [
    "rep_edit=[]\n",
    "user=User.objects.get(username=\"rlcs\")\n",
    "for b in tqdm(values):\n",
    "    rep = Reporting.objects.get(company=company,number=b['Número'].strip())\n",
    "    if 'length' in rep.form_data and 'width' in rep.form_data:\n",
    "        rep.form_data['area'] = rep.form_data['length']*rep.form_data['width']\n",
    "    if 'length' in rep.form_data and 'width' in rep.form_data and 'height' in rep.form_data:\n",
    "        rep.form_data['volume'] = rep.form_data['length']*rep.form_data['width']*rep.form_data['height']\n",
    "    rep_edit.append(rep)"
   ]
  },
  {
   "cell_type": "code",
   "execution_count": null,
   "id": "689e17c0",
   "metadata": {},
   "outputs": [],
   "source": [
    "apontamentos = bulk_update_with_history(rep_edit,Reporting, use_django_bulk=True,batch_size=40,user=user)"
   ]
  },
  {
   "cell_type": "code",
   "execution_count": null,
   "id": "ab0ce5c1",
   "metadata": {},
   "outputs": [],
   "source": [
    "c = Company.objects.get(name=\"Arteris Fernão Dias - Conserva\")\n",
    "c"
   ]
  },
  {
   "cell_type": "code",
   "execution_count": null,
   "id": "704fa250",
   "metadata": {},
   "outputs": [],
   "source": [
    "f = Firm.objects.filter(company=c,users__username=\"gustavo.souza\")\n",
    "for a in f:\n",
    "    print(a.name)"
   ]
  },
  {
   "cell_type": "code",
   "execution_count": null,
   "id": "e440e4cc",
   "metadata": {},
   "outputs": [],
   "source": [
    "mdr = MultipleDailyReport.objects.filter(number__in=['AFD-RDO-2023.01954',\n",
    "'AFD-RDO-2023.01663',\n",
    "'AFD-RDO-2023.01928',\n",
    "'AFD-RDO-2023.01649'\n",
    "])\n",
    "firm= ['Roçada 03 - Lote 02',\n",
    "'Multifuncional - Lote 02',\n",
    "'Roçada 02 - Lote 02',\n",
    "'Defensa - Lote 02'\n",
    "]\n",
    "len(mdr),len(firm),Firm.objects.filter(name__in=firm)"
   ]
  },
  {
   "cell_type": "code",
   "execution_count": null,
   "id": "1c41bf09",
   "metadata": {},
   "outputs": [],
   "source": [
    "for rdo,a in zip(mdr,firm):\n",
    "    try:\n",
    "        rdo.firm = Firm.objects.get(name=a)\n",
    "        rdo.save()\n",
    "    except:\n",
    "        print(rdo.number)\n",
    "#     a.firm=firm\n",
    "#     a.save()"
   ]
  },
  {
   "cell_type": "code",
   "execution_count": null,
   "id": "cd4897e2",
   "metadata": {},
   "outputs": [],
   "source": [
    "# mdr.delete()"
   ]
  },
  {
   "cell_type": "markdown",
   "id": "8248b306",
   "metadata": {},
   "source": [
    "# Adição ou consulta ApprovalStep"
   ]
  },
  {
   "cell_type": "code",
   "execution_count": null,
   "id": "01b2a993",
   "metadata": {},
   "outputs": [],
   "source": [
    "users=User.objects.filter(username__in=['gessica.gomes.ter',\"eduarda.beraldo\",'marcoantonio.reis'])\n",
    "users\n"
   ]
  },
  {
   "cell_type": "code",
   "execution_count": null,
   "id": "42172749",
   "metadata": {},
   "outputs": [],
   "source": [
    "aps = ApprovalStep.objects.filter(approval_flow__company__name__icontains=\"Arteris Fernão Dias - Conserva\", approval_flow__target_model__icontains=\"reporting\")\n",
    "aps[1],aps[1].responsible_users.all(),aps[1].__dict__"
   ]
  },
  {
   "cell_type": "code",
   "execution_count": null,
   "id": "5e057eee",
   "metadata": {},
   "outputs": [],
   "source": [
    "for a in users:\n",
    "    aps[5].responsible_users.add(a)"
   ]
  },
  {
   "cell_type": "code",
   "execution_count": null,
   "id": "72f2e53c",
   "metadata": {
    "scrolled": true
   },
   "outputs": [],
   "source": [
    "for i,ap in enumerate(aps):\n",
    "    print(ap,i,ap.uuid)\n",
    "    for i,a in enumerate(ap.responsible_users.all()):\n",
    "        print('\\t'+a.first_name + \" \"+ a.last_name,a.username)"
   ]
  },
  {
   "cell_type": "code",
   "execution_count": null,
   "id": "543abb3f",
   "metadata": {},
   "outputs": [],
   "source": [
    "aps[2].responsible_users.clear()"
   ]
  },
  {
   "cell_type": "code",
   "execution_count": null,
   "id": "f4f2fb59",
   "metadata": {},
   "outputs": [],
   "source": [
    "apst = ApprovalStep(name=\"Aprovado - Revisão\",approval_flow_id=\"5b55570a-06df-48e9-b5d0-b0802f28094a\")\n",
    "apst.pk"
   ]
  },
  {
   "cell_type": "code",
   "execution_count": null,
   "id": "0a2d487c",
   "metadata": {},
   "outputs": [],
   "source": [
    "apt = ApprovalTransition(name=\"Aprovado/Revisão\",\n",
    "                         origin_id=\"f3872ad5-fbf7-4be7-8e2a-8e13bf72c2e6\",\n",
    "                         destination_id=\"5643d203-1818-4fbe-b6df-2cbff516b506\",\n",
    "                        condition={'===': [{'var': 'request.action'}, 'Aprovado/Revisão']},\n",
    "                        callback= {'change_fields': [{'name': 'editable', 'value': True}]},\n",
    "                         button= {'icon': 'assignment', 'color': 'primary', 'variant': 'raised'})\n",
    "apt"
   ]
  },
  {
   "cell_type": "code",
   "execution_count": null,
   "id": "eff49d53",
   "metadata": {},
   "outputs": [],
   "source": [
    "apt2 = ApprovalTransition(name=\"Editado/Aprovado\",\n",
    "                         origin_id=\"5643d203-1818-4fbe-b6df-2cbff516b506\",\n",
    "                         destination_id=\"f3872ad5-fbf7-4be7-8e2a-8e13bf72c2e6\",\n",
    "                        condition={'===': [{'var': 'request.action'}, 'Editado/Aprovado']},\n",
    "                        callback= {'change_fields': [{'name': 'editable', 'value': True}]},\n",
    "                         button= {'icon': 'assignment', 'color': 'primary', 'variant': 'raised'})\n",
    "apt2.save()"
   ]
  },
  {
   "cell_type": "code",
   "execution_count": null,
   "id": "7d597d9d",
   "metadata": {},
   "outputs": [],
   "source": [
    "apt.callback = {'change_fields': [{'name': 'editable', 'value': True}]}\n",
    "apt.save()"
   ]
  },
  {
   "cell_type": "code",
   "execution_count": null,
   "id": "c49cff5f",
   "metadata": {},
   "outputs": [],
   "source": [
    "apt = ApprovalTransition.objects.get(origin__uuid=\"f3872ad5-fbf7-4be7-8e2a-8e13bf72c2e6\")\n",
    "apt,apt.__dict__\n"
   ]
  },
  {
   "cell_type": "code",
   "execution_count": null,
   "id": "a73b7298",
   "metadata": {},
   "outputs": [],
   "source": [
    "Company.objects.all()"
   ]
  },
  {
   "cell_type": "code",
   "execution_count": null,
   "id": "5470f5b1",
   "metadata": {},
   "outputs": [],
   "source": [
    "MultipleDailyReport.objects.get(uuid='e503fe4a-8bc8-4bb4-8a4a-f5767e496d62')"
   ]
  },
  {
   "cell_type": "code",
   "execution_count": null,
   "id": "796ea536",
   "metadata": {},
   "outputs": [],
   "source": [
    "list(UserInCompany.objects.filter(user__username='freitas.flavio').values_list('company__name', flat=True).order_by('company__name'))"
   ]
  },
  {
   "cell_type": "code",
   "execution_count": null,
   "id": "b789831b",
   "metadata": {},
   "outputs": [],
   "source": [
    "excluir=list(UserInCompany.objects.filter(user__username='victor.martins').values_list('company', flat=True))\n",
    "companies = UserInCompany.objects.filter(user__username='leonardo.ramos').exclude(company__in=excluir)\n",
    "companies.count()"
   ]
  },
  {
   "cell_type": "code",
   "execution_count": null,
   "id": "9e28bc09",
   "metadata": {},
   "outputs": [],
   "source": [
    "companies[0].__dict__"
   ]
  },
  {
   "cell_type": "code",
   "execution_count": null,
   "id": "c401f088",
   "metadata": {},
   "outputs": [],
   "source": [
    "victor = User.objects.get(username='victor.martins')\n",
    "victor"
   ]
  },
  {
   "cell_type": "code",
   "execution_count": null,
   "id": "71d419b2",
   "metadata": {},
   "outputs": [],
   "source": [
    "for a in tqdm(companies):\n",
    "    a.uuid = None\n",
    "    a.user = victor\n",
    "    a.save()"
   ]
  },
  {
   "cell_type": "code",
   "execution_count": null,
   "id": "57e6b33f",
   "metadata": {},
   "outputs": [],
   "source": [
    "UserInCompany.objects.filter(user__username='eduardo.mascarenhas')"
   ]
  },
  {
   "cell_type": "code",
   "execution_count": null,
   "id": "c1773ec5",
   "metadata": {
    "scrolled": true
   },
   "outputs": [],
   "source": [
    "com = Company.objects.get(name=\"Demo Concessionárias\")\n",
    "rep = Reporting.objects.get(number=\"DEMO-default-2023.00004\")\n",
    "rep.form_data['retro'].append({'type': '3',\n",
    "                               'color': '1',\n",
    "                               'branch': '1',\n",
    "                               'station': 'teste arrayOfObjects v3',\n",
    "                               'station_km': 789})\n",
    "rep.save()"
   ]
  },
  {
   "cell_type": "code",
   "execution_count": null,
   "id": "8ac5041a",
   "metadata": {},
   "outputs": [],
   "source": [
    "rep = Reporting.objects.get( occurrence_type__uuid = 'a141a451-1bb9-4f50-bced-529011871fb0')"
   ]
  },
  {
   "cell_type": "code",
   "execution_count": null,
   "id": "6fe7e893",
   "metadata": {},
   "outputs": [],
   "source": [
    "from json_logic import jsonLogic\n",
    "reps = Reporting.objects.filter(company__name=\"Arteris Via Paulista\" "
   ]
  },
  {
   "cell_type": "code",
   "execution_count": null,
   "id": "317a071b",
   "metadata": {},
   "outputs": [],
   "source": [
    "job = Job.objects.filter(company__name=\"Arteris Via Paulista\",end_date__gte='2023-01-01').order_by('-reporting_count')\n",
    "job[0].firm.__dict__"
   ]
  },
  {
   "cell_type": "code",
   "execution_count": null,
   "id": "3ad141c4",
   "metadata": {},
   "outputs": [],
   "source": [
    "occ=OccurrenceType.objects.filter(company__name='Eixo Sp - Pavimento', name='Boca De Saída Drenos')\n",
    "occ"
   ]
  },
  {
   "cell_type": "code",
   "execution_count": null,
   "id": "de0f08e7",
   "metadata": {},
   "outputs": [],
   "source": [
    "occ[0].delete()"
   ]
  },
  {
   "cell_type": "code",
   "execution_count": null,
   "id": "ccdf4888",
   "metadata": {},
   "outputs": [],
   "source": [
    "rep = Reporting.objects.get(form_data__artesp_code='580722',company__name='Entrevias')\n",
    "rep.__dict__"
   ]
  },
  {
   "cell_type": "code",
   "execution_count": null,
   "id": "88596fad",
   "metadata": {},
   "outputs": [],
   "source": [
    "filename = \"Apontamentos de Poda 12.04.xlsx\"\n",
    "wb = load_workbook(filename)\n",
    "ws = wb['Apontamentos']"
   ]
  },
  {
   "cell_type": "code",
   "execution_count": null,
   "id": "90db4e17",
   "metadata": {
    "scrolled": true
   },
   "outputs": [],
   "source": [
    "header = []\n",
    "values = []\n",
    "\n",
    "for index, row in enumerate(ws.rows):\n",
    "    if index == 0:\n",
    "        header = list([a.value for a in row])\n",
    "        continue\n",
    "    obj = {}\n",
    "    for col_index, cell in enumerate(row):\n",
    "        value = cell.value\n",
    "        obj[header[col_index]] = value\n",
    "    values.append(obj)\n",
    "values[0]"
   ]
  },
  {
   "cell_type": "code",
   "execution_count": null,
   "id": "a184dae6",
   "metadata": {},
   "outputs": [],
   "source": [
    "rept=[]\n",
    "user=User.objects.get(username=\"rlcs\")\n",
    "for a in tqdm(values):\n",
    "    try:\n",
    "        rep = Reporting.objects.get(number=a['Número'],company__name='Eixo SP')\n",
    "        rep.occurrence_type = OccurrenceType.objects.get(company__name=\"Eixo SP\",uuid=\"c25ae9d5-4ab7-44ec-8a25-045946454578\")\n",
    "        rept.append(rep)\n",
    "    except Exception as e:\n",
    "        print(e,a['Número'])"
   ]
  },
  {
   "cell_type": "code",
   "execution_count": null,
   "id": "a35c476f",
   "metadata": {},
   "outputs": [],
   "source": [
    "apontamentos = bulk_update_with_history(rept,Reporting, use_django_bulk=True,batch_size=50,user=user)"
   ]
  },
  {
   "cell_type": "code",
   "execution_count": null,
   "id": "9a78f242",
   "metadata": {},
   "outputs": [],
   "source": [
    "rdo = MultipleDailyReport.objects.get(number=\"EIXO-RDO-2023.08907\")\n",
    "rdo.reportings.all()"
   ]
  },
  {
   "cell_type": "code",
   "execution_count": null,
   "id": "3c8b5c40",
   "metadata": {},
   "outputs": [],
   "source": [
    "al = ActionLog.objects.filter(user__username=\"eduardo.bonfim1\").order_by('-created_at')\n",
    "al[4].__dict__"
   ]
  },
  {
   "cell_type": "code",
   "execution_count": null,
   "id": "58e9ba07",
   "metadata": {},
   "outputs": [],
   "source": [
    "rep = Reporting.objects.filter(occurrence_type=OccurrenceType.objects.get(company__name=\"CART\",name=\"Fundação\"))\n",
    "rep[0].__dict__"
   ]
  },
  {
   "cell_type": "code",
   "execution_count": null,
   "id": "2def0be4",
   "metadata": {},
   "outputs": [],
   "source": [
    "rep = Reporting.objects.filter(company__name=\"Rota do Oeste\")\n",
    "rep.count()"
   ]
  },
  {
   "cell_type": "code",
   "execution_count": null,
   "id": "2d12f45f",
   "metadata": {},
   "outputs": [],
   "source": [
    "counter=0\n",
    "for a in rep:\n",
    "    if type(a.form_data['anttCode']) is str:\n",
    "        counter+=1\n",
    "counter"
   ]
  },
  {
   "cell_type": "code",
   "execution_count": null,
   "id": "e1d2f3b8",
   "metadata": {
    "scrolled": true
   },
   "outputs": [],
   "source": [
    "reg = OccurrenceRecord.history.filter(number__icontains='2023',history_type=\"-\").order_by(\"-history_date\")\n",
    "reg[0].__dict__"
   ]
  },
  {
   "cell_type": "code",
   "execution_count": null,
   "id": "8c1411b1",
   "metadata": {},
   "outputs": [],
   "source": [
    "bull = Reporting.objects.filter(company__name=\"Arteris Fluminense - Conserva\",reporting_resources__isnull=False)\n",
    "bull.count()"
   ]
  },
  {
   "cell_type": "code",
   "execution_count": null,
   "id": "04e7382c",
   "metadata": {},
   "outputs": [],
   "source": [
    "for a in bull:\n",
    "    print(a.number)"
   ]
  },
  {
   "cell_type": "code",
   "execution_count": null,
   "id": "1730c555",
   "metadata": {},
   "outputs": [],
   "source": [
    "bull[2].reporting_resources.all()"
   ]
  },
  {
   "cell_type": "code",
   "execution_count": null,
   "id": "0b33813d",
   "metadata": {},
   "outputs": [],
   "source": [
    "uuid=\"ca20ea8a-24db-4b90-84f4-78bb768e38c0\"\n",
    "p = ProcedureResource.objects.get(uuid='032cbae3-3a1f-4208-af2c-7d1f2affc3b7')\n",
    "p.delete()"
   ]
  },
  {
   "cell_type": "markdown",
   "id": "7bc9dfd2",
   "metadata": {},
   "source": [
    "# NC_ARTESP"
   ]
  },
  {
   "cell_type": "code",
   "execution_count": null,
   "id": "a76b6e8e",
   "metadata": {},
   "outputs": [],
   "source": [
    "import pytz"
   ]
  },
  {
   "cell_type": "code",
   "execution_count": null,
   "id": "4ae09226",
   "metadata": {},
   "outputs": [],
   "source": [
    "utc = pytz.timezone('America/Sao_Paulo')\n",
    "utc"
   ]
  },
  {
   "cell_type": "code",
   "execution_count": null,
   "id": "8542b802",
   "metadata": {},
   "outputs": [],
   "source": [
    "data=datetime.datetime(2023, 4, 13, 0, 0).replace(tzinfo=utc)\n",
    "data"
   ]
  },
  {
   "cell_type": "code",
   "execution_count": null,
   "id": "bc84d135",
   "metadata": {},
   "outputs": [],
   "source": [
    "filename = \"Solicitacao Prazo ARTESP_Remanescente.xlsx\"\n",
    "wb = load_workbook(filename)\n",
    "ws = wb[wb.sheetnames[1]]"
   ]
  },
  {
   "cell_type": "code",
   "execution_count": null,
   "id": "3933240c",
   "metadata": {},
   "outputs": [],
   "source": [
    "header = []\n",
    "values = []\n",
    "\n",
    "for index, row in enumerate(ws.rows):\n",
    "    if index == 0:\n",
    "        header = list([a.value for a in row])\n",
    "        continue\n",
    "    obj = {}\n",
    "    for col_index, cell in enumerate(row):\n",
    "        value = cell.value\n",
    "        obj[header[col_index]] = value\n",
    "    values.append(obj)"
   ]
  },
  {
   "cell_type": "code",
   "execution_count": null,
   "id": "1b97478e",
   "metadata": {},
   "outputs": [],
   "source": [
    "values[400]"
   ]
  },
  {
   "cell_type": "code",
   "execution_count": null,
   "id": "43e3d175",
   "metadata": {},
   "outputs": [],
   "source": [
    "rept=[]\n",
    "user=User.objects.get(username=\"rlcs\")\n",
    "for a in tqdm(values):\n",
    "    try:\n",
    "        if a['Prazo Solicitado'] is not None:\n",
    "            rep = Reporting.objects.get(company__name__exact=\"Entrevias\",form_data__artesp_code=str(a['NC']))\n",
    "            new_date = a['Prazo Solicitado'].replace(tzinfo=utc)\n",
    "            rep.due_at = new_date\n",
    "            \n",
    "            rept.append(rep)\n",
    "            print(rep)\n",
    "    except Exception as e:\n",
    "        print(e,a['NC'])\n",
    "    "
   ]
  },
  {
   "cell_type": "code",
   "execution_count": null,
   "id": "82873cdc",
   "metadata": {},
   "outputs": [],
   "source": [
    "apontamentos = bulk_update_with_history(rept,Reporting, use_django_bulk=True,batch_size=100,user=user)"
   ]
  },
  {
   "cell_type": "code",
   "execution_count": null,
   "id": "8022f151",
   "metadata": {},
   "outputs": [],
   "source": [
    "rept[0].form_data['artesp_code']"
   ]
  },
  {
   "cell_type": "code",
   "execution_count": null,
   "id": "35f8bd7e",
   "metadata": {},
   "outputs": [],
   "source": [
    "rep = Reporting.objects.get(company__name__exact=\"Entrevias\",form_data__artesp_code='629244')\n",
    "rep.due_at,rep.form_data"
   ]
  },
  {
   "cell_type": "code",
   "execution_count": null,
   "id": "ff0f6cc0",
   "metadata": {},
   "outputs": [],
   "source": [
    "for b in rept:\n",
    "    if b.form_data['artesp_code'] == '629244':\n",
    "        print(b.due_at)"
   ]
  },
  {
   "cell_type": "code",
   "execution_count": null,
   "id": "61b7bc59",
   "metadata": {},
   "outputs": [],
   "source": [
    "rep = Reporting.objects.get(uuid=\"513a9a9a-690b-4d41-8134-5f187d3102b6\")\n",
    "rep.__dict__"
   ]
  },
  {
   "cell_type": "code",
   "execution_count": null,
   "id": "0f9a6ee9",
   "metadata": {},
   "outputs": [],
   "source": [
    "rep.road_name = \"Sem nome 2\"\n",
    "rep.road_id = \"1652\"\n",
    "# rep.save()"
   ]
  },
  {
   "cell_type": "code",
   "execution_count": 1,
   "id": "c7ba3fb9",
   "metadata": {},
   "outputs": [],
   "source": [
    "lista = [\n",
    "{ \"type\": \"Feature\", \"properties\": { \"Name\": \"KM 415 NORTE - BR 116MG\", \"description\": None, \"timestamp\": None, \"begin\": None, \"end\": None, \"altitudeMode\": None, \"tessellate\": -1, \"extrude\": 0, \"visibility\": -1, \"drawOrder\": None, \"icon\": None }, \"geometry\": { \"type\": \"Point\", \"coordinates\": [ -41.94633381653049, -18.889667581621961, 0.0 ] } },\n",
    "{ \"type\": \"Feature\", \"properties\": { \"Name\": \"KM 415 SUL - BR 116MG\", \"description\": None, \"timestamp\": None, \"begin\": None, \"end\": None, \"altitudeMode\": None, \"tessellate\": -1, \"extrude\": 0, \"visibility\": -1, \"drawOrder\": None, \"icon\": None }, \"geometry\": { \"type\": \"Point\", \"coordinates\": [ -41.9463715878749, -18.889657954248928, 0.0 ] } },\n",
    "{ \"type\": \"Feature\", \"properties\": { \"Name\": \"km 416 NORTE - BR116MG\", \"description\": None, \"timestamp\": None, \"begin\": None, \"end\": None, \"altitudeMode\": None, \"tessellate\": -1, \"extrude\": 0, \"visibility\": -1, \"drawOrder\": None, \"icon\": None }, \"geometry\": { \"type\": \"Point\", \"coordinates\": [ -41.946712023240188, -18.898265535720331, 0.0 ] } },\n",
    "{ \"type\": \"Feature\", \"properties\": { \"Name\": \"KM 416 SUL - BR 116MG\", \"description\": None, \"timestamp\": None, \"begin\": None, \"end\": None, \"altitudeMode\": None, \"tessellate\": -1, \"extrude\": 0, \"visibility\": -1, \"drawOrder\": None, \"icon\": None }, \"geometry\": { \"type\": \"Point\", \"coordinates\": [ -41.946750428827592, -18.89829201109864, 0.0 ] } },\n",
    "{ \"type\": \"Feature\", \"properties\": { \"Name\": \"KM 417 NORTE - BR 116MG\", \"description\": None, \"timestamp\": None, \"begin\": None, \"end\": None, \"altitudeMode\": None, \"tessellate\": -1, \"extrude\": 0, \"visibility\": -1, \"drawOrder\": None, \"icon\": None }, \"geometry\": { \"type\": \"Point\", \"coordinates\": [ -41.942375392662377, -18.90629726717582, 0.0 ] } },\n",
    "{ \"type\": \"Feature\", \"properties\": { \"Name\": \"KM 417 SUL - BR 116 MG\", \"description\": None, \"timestamp\": None, \"begin\": None, \"end\": None, \"altitudeMode\": None, \"tessellate\": -1, \"extrude\": 0, \"visibility\": -1, \"drawOrder\": None, \"icon\": None }, \"geometry\": { \"type\": \"Point\", \"coordinates\": [ -41.942451732964749, -18.906323141975161, 0.0 ] } },\n",
    "{ \"type\": \"Feature\", \"properties\": { \"Name\": \"KM 418 SUL - BR-116MG\", \"description\": None, \"timestamp\": None, \"begin\": None, \"end\": None, \"altitudeMode\": None, \"tessellate\": -1, \"extrude\": 0, \"visibility\": -1, \"drawOrder\": None, \"icon\": None }, \"geometry\": { \"type\": \"Point\", \"coordinates\": [ -41.941004272528147, -18.915220906931431, 977.62833246670948 ] } },\n",
    "{ \"type\": \"Feature\", \"properties\": { \"Name\": \"KM 418 NORTE - BR-116MG\", \"description\": None, \"timestamp\": None, \"begin\": None, \"end\": None, \"altitudeMode\": None, \"tessellate\": -1, \"extrude\": 0, \"visibility\": -1, \"drawOrder\": None, \"icon\": None }, \"geometry\": { \"type\": \"Point\", \"coordinates\": [ -41.940956853411507, -18.915221658527098, 977.62833246670948 ] } },\n",
    "{ \"type\": \"Feature\", \"properties\": { \"Name\": \"KM 419 SUL - BR-116 MG\", \"description\": None, \"timestamp\": None, \"begin\": None, \"end\": None, \"altitudeMode\": None, \"tessellate\": -1, \"extrude\": 0, \"visibility\": -1, \"drawOrder\": None, \"icon\": None }, \"geometry\": { \"type\": \"Point\", \"coordinates\": [ -41.939804583895032, -18.924186972059161, 0.0 ] } },\n",
    "{ \"type\": \"Feature\", \"properties\": { \"Name\": \"KM 419 NORTE - BR-116 MG\", \"description\": None, \"timestamp\": None, \"begin\": None, \"end\": None, \"altitudeMode\": None, \"tessellate\": -1, \"extrude\": 0, \"visibility\": -1, \"drawOrder\": None, \"icon\": None }, \"geometry\": { \"type\": \"Point\", \"coordinates\": [ -41.939747677859252, -18.92418787401574, 0.0 ] } },\n",
    "{ \"type\": \"Feature\", \"properties\": { \"Name\": \"KM 420 NORTE - BR 116MG\", \"description\": None, \"timestamp\": None, \"begin\": None, \"end\": None, \"altitudeMode\": None, \"tessellate\": -1, \"extrude\": 0, \"visibility\": -1, \"drawOrder\": None, \"icon\": None }, \"geometry\": { \"type\": \"Point\", \"coordinates\": [ -41.94249139352732, -18.931881606937491, 0.0 ] } },\n",
    "{ \"type\": \"Feature\", \"properties\": { \"Name\": \"KM 420 SUL - BR-116MG\", \"description\": None, \"timestamp\": None, \"begin\": None, \"end\": None, \"altitudeMode\": None, \"tessellate\": -1, \"extrude\": 0, \"visibility\": -1, \"drawOrder\": None, \"icon\": None }, \"geometry\": { \"type\": \"Point\", \"coordinates\": [ -41.94251889870182, -18.931827000732319, 0.0 ] } },\n",
    "{ \"type\": \"Feature\", \"properties\": { \"Name\": \"KM 421 SUL - BR-116MG\", \"description\": None, \"timestamp\": None, \"begin\": None, \"end\": None, \"altitudeMode\": None, \"tessellate\": -1, \"extrude\": 0, \"visibility\": -1, \"drawOrder\": None, \"icon\": None }, \"geometry\": { \"type\": \"Point\", \"coordinates\": [ -41.948781840863333, -18.938381313666401, 0.0 ] } },\n",
    "{ \"type\": \"Feature\", \"properties\": { \"Name\": \"KM 421 NORTE - BR-116MG\", \"description\": None, \"timestamp\": None, \"begin\": None, \"end\": None, \"altitudeMode\": None, \"tessellate\": -1, \"extrude\": 0, \"visibility\": -1, \"drawOrder\": None, \"icon\": None }, \"geometry\": { \"type\": \"Point\", \"coordinates\": [ -41.948734732689758, -18.938400119565021, 0.0 ] } },\n",
    "{ \"type\": \"Feature\", \"properties\": { \"Name\": \"KM 422 NORTE - BR-116MG\", \"description\": None, \"timestamp\": None, \"begin\": None, \"end\": None, \"altitudeMode\": None, \"tessellate\": -1, \"extrude\": 0, \"visibility\": -1, \"drawOrder\": None, \"icon\": None }, \"geometry\": { \"type\": \"Point\", \"coordinates\": [ -41.950823800610713, -18.947133276629661, 0.0 ] } },\n",
    "{ \"type\": \"Feature\", \"properties\": { \"Name\": \"KM 422 SUL- BR-116MG\", \"description\": None, \"timestamp\": None, \"begin\": None, \"end\": None, \"altitudeMode\": None, \"tessellate\": -1, \"extrude\": 0, \"visibility\": -1, \"drawOrder\": None, \"icon\": None }, \"geometry\": { \"type\": \"Point\", \"coordinates\": [ -41.950851780937121, -18.947105746360471, 0.0 ] } },\n",
    "{ \"type\": \"Feature\", \"properties\": { \"Name\": \"KM 423 SUL - BR 116MG\", \"description\": None, \"timestamp\": None, \"begin\": None, \"end\": None, \"altitudeMode\": None, \"tessellate\": -1, \"extrude\": 0, \"visibility\": -1, \"drawOrder\": None, \"icon\": None }, \"geometry\": { \"type\": \"Point\", \"coordinates\": [ -41.958192210907441, -18.95282992153199, 0.0 ] } },\n",
    "{ \"type\": \"Feature\", \"properties\": { \"Name\": \"KM 423 NORTE - BR 116MG\", \"description\": None, \"timestamp\": None, \"begin\": None, \"end\": None, \"altitudeMode\": None, \"tessellate\": -1, \"extrude\": 0, \"visibility\": -1, \"drawOrder\": None, \"icon\": None }, \"geometry\": { \"type\": \"Point\", \"coordinates\": [ -41.958173716939321, -18.952857301376749, 0.0 ] } },\n",
    "{ \"type\": \"Feature\", \"properties\": { \"Name\": \"KM 424 SUL - BR 116MG\", \"description\": None, \"timestamp\": None, \"begin\": None, \"end\": None, \"altitudeMode\": None, \"tessellate\": -1, \"extrude\": 0, \"visibility\": -1, \"drawOrder\": None, \"icon\": None }, \"geometry\": { \"type\": \"Point\", \"coordinates\": [ -41.966336057850548, -18.95727693911974, 0.0 ] } },\n",
    "{ \"type\": \"Feature\", \"properties\": { \"Name\": \"KM 424 NORTE - BR 116MG\", \"description\": None, \"timestamp\": None, \"begin\": None, \"end\": None, \"altitudeMode\": None, \"tessellate\": -1, \"extrude\": 0, \"visibility\": -1, \"drawOrder\": None, \"icon\": None }, \"geometry\": { \"type\": \"Point\", \"coordinates\": [ -41.966317884331247, -18.957322370758739, 0.0 ] } },\n",
    "{ \"type\": \"Feature\", \"properties\": { \"Name\": \"KM 425 SUL - BR 116MG\", \"description\": None, \"timestamp\": None, \"begin\": None, \"end\": None, \"altitudeMode\": None, \"tessellate\": -1, \"extrude\": 0, \"visibility\": -1, \"drawOrder\": None, \"icon\": None }, \"geometry\": { \"type\": \"Point\", \"coordinates\": [ -41.971212826128699, -18.96421357851241, 0.0 ] } },\n",
    "{ \"type\": \"Feature\", \"properties\": { \"Name\": \"KM 425 NORTE - BR 116MG\", \"description\": None, \"timestamp\": None, \"begin\": None, \"end\": None, \"altitudeMode\": None, \"tessellate\": -1, \"extrude\": 0, \"visibility\": -1, \"drawOrder\": None, \"icon\": None }, \"geometry\": { \"type\": \"Point\", \"coordinates\": [ -41.971165714501069, -18.964232390724309, 0.0 ] } }\n",
    "]"
   ]
  },
  {
   "cell_type": "code",
   "execution_count": 3,
   "id": "5e5f99b7",
   "metadata": {},
   "outputs": [
    {
     "data": {
      "text/plain": [
       "('BR-116', 415, -41.94633381653049, -18.88966758162196)"
      ]
     },
     "execution_count": 3,
     "metadata": {},
     "output_type": "execute_result"
    }
   ],
   "source": [
    "import re\n",
    "road_name = 'BR-116'\n",
    "road_km = int(re.search(r'\\d+', lista[0]['properties']['Name']).group())\n",
    "latitude = lista[0]['geometry']['coordinates'][0]\n",
    "longitude = lista[0]['geometry']['coordinates'][1]\n",
    "road_name,road_km,latitude,longitude"
   ]
  },
  {
   "cell_type": "code",
   "execution_count": 4,
   "id": "d1a02dfc",
   "metadata": {},
   "outputs": [],
   "source": [
    "values=[]\n",
    "obj={}\n",
    "key=0\n",
    "values.append({'road_name': 'BR-116'})\n",
    "for i,a in enumerate(lista):\n",
    "    if 'NORTE' in a['properties']['Name']:\n",
    "        key+=1\n",
    "        obj[str(key)]={}\n",
    "#         road_name = 'BR-116'\n",
    "        road_km = a['properties']['Name'].split(' ')[1]\n",
    "        latitude = a['geometry']['coordinates'][0]\n",
    "        longitude = a['geometry']['coordinates'][1]\n",
    "\n",
    "\n",
    "#         obj[str(i)]['road_name'] = road_name\n",
    "        obj[str(key)]['km'] = float(road_km)\n",
    "        obj[str(key)]['key'] = key\n",
    "        obj[str(key)]['point'] ={}\n",
    "        obj[str(key)]['point']['type'] = \"Point\"\n",
    "        obj[str(key)]['point']['coordinates'] = [latitude,longitude]\n",
    "values.append(obj)\n",
    "    "
   ]
  },
  {
   "cell_type": "code",
   "execution_count": 5,
   "id": "dfe9ac86",
   "metadata": {},
   "outputs": [
    {
     "data": {
      "text/plain": [
       "[{'road_name': 'BR-116'},\n",
       " {'1': {'km': 415.0,\n",
       "   'key': 1,\n",
       "   'point': {'type': 'Point',\n",
       "    'coordinates': [-41.94633381653049, -18.88966758162196]}},\n",
       "  '2': {'km': 416.0,\n",
       "   'key': 2,\n",
       "   'point': {'type': 'Point',\n",
       "    'coordinates': [-41.94671202324019, -18.89826553572033]}},\n",
       "  '3': {'km': 417.0,\n",
       "   'key': 3,\n",
       "   'point': {'type': 'Point',\n",
       "    'coordinates': [-41.94237539266238, -18.90629726717582]}},\n",
       "  '4': {'km': 418.0,\n",
       "   'key': 4,\n",
       "   'point': {'type': 'Point',\n",
       "    'coordinates': [-41.94095685341151, -18.9152216585271]}},\n",
       "  '5': {'km': 419.0,\n",
       "   'key': 5,\n",
       "   'point': {'type': 'Point',\n",
       "    'coordinates': [-41.93974767785925, -18.92418787401574]}},\n",
       "  '6': {'km': 420.0,\n",
       "   'key': 6,\n",
       "   'point': {'type': 'Point',\n",
       "    'coordinates': [-41.94249139352732, -18.93188160693749]}},\n",
       "  '7': {'km': 421.0,\n",
       "   'key': 7,\n",
       "   'point': {'type': 'Point',\n",
       "    'coordinates': [-41.94873473268976, -18.93840011956502]}},\n",
       "  '8': {'km': 422.0,\n",
       "   'key': 8,\n",
       "   'point': {'type': 'Point',\n",
       "    'coordinates': [-41.95082380061071, -18.94713327662966]}},\n",
       "  '9': {'km': 423.0,\n",
       "   'key': 9,\n",
       "   'point': {'type': 'Point',\n",
       "    'coordinates': [-41.95817371693932, -18.95285730137675]}},\n",
       "  '10': {'km': 424.0,\n",
       "   'key': 10,\n",
       "   'point': {'type': 'Point',\n",
       "    'coordinates': [-41.96631788433125, -18.95732237075874]}},\n",
       "  '11': {'km': 425.0,\n",
       "   'key': 11,\n",
       "   'point': {'type': 'Point',\n",
       "    'coordinates': [-41.97116571450107, -18.96423239072431]}}}]"
      ]
     },
     "execution_count": 5,
     "metadata": {},
     "output_type": "execute_result"
    }
   ],
   "source": [
    "values"
   ]
  },
  {
   "cell_type": "code",
   "execution_count": null,
   "id": "ed82042e",
   "metadata": {},
   "outputs": [],
   "source": [
    "r=Road.objects.get(id='2044')\n",
    "r.__dict__"
   ]
  },
  {
   "cell_type": "code",
   "execution_count": null,
   "id": "3ab4ed2c",
   "metadata": {},
   "outputs": [],
   "source": [
    "list(r.marks.values())[-1]['point']['coordinates']"
   ]
  },
  {
   "cell_type": "code",
   "execution_count": null,
   "id": "314a0436",
   "metadata": {},
   "outputs": [],
   "source": [
    "lista = [\"Arteris Planalto Sul - Conserva\",\n",
    "\"Arteris Régis Bittencourt\",\n",
    "\"Arteris Litoral Sul\",\n",
    "\"Arteris Via Paulista\",\n",
    "\"Arteris Fernão Dias\",\n",
    "\"Arteris Intervias\",\n",
    "\"Arteris Via Paulista\",\n",
    "\"Eixo SP\",\n",
    "\"Entrevias\",\n",
    "\"CART\",\n",
    "\"Neovia Bocaína do Sul 329/2018\",\n",
    "\"Neovia Lages 652/2019\",\n",
    "\"Neovia Alcinópolis\",\n",
    "\"Neovia Tijucas\",\n",
    "\"Neovia Araquari 886/2020\",\n",
    "\"Neovia Vacaria\",\n",
    "\"Neovia Planalto sul\",\n",
    "\"Neovia General Carneiro\",\n",
    "\"Neovia Rancho Queimado 080/2021\",\n",
    "\"VF Gomes - BR010\",\n",
    "\"VF Gomes - BR010\",\n",
    "\"VF Gomes - BR158\",\n",
    "\"ELO Rodovias Tietê\",\n",
    "\"ELO Ecopistas\",\n",
    "\"Elo Rodovias dos Tamoios\",\n",
    "\"Afirma Engenharia Viária\",\n",
    "\"Neovia Contorno Sul\",\n",
    "\"VF Gomes - Confresa\",\n",
    "\"Neovia Diamantino\",\n",
    "\"Entrevias\",\n",
    "\"Neovia Lagoa Vermelha\",\n",
    "\"nova lacerda\",\n",
    "\"porto espiridião\",\n",
    "\"vila bela\",\n",
    "\"Entrevias\",\n",
    "\"neovia cto biguaçu\",\n",
    "\"ELO Rota das Bandeiras\",\n",
    "\"Dalba Guarapuava\",\n",
    "\"Sanson\",\n",
    "\"Neovia Régis Bittencourt\",\n",
    "\"Dalba Foz do Iguaçu\",\n",
    "\"via brasil\",\n",
    "\"Elo Ecovias dos Imigrantes\",\n",
    "\"Arteris Fluminense - Conserva\",\n",
    "\"Arteris Régis Bittencourt\",\n",
    "\"Arteris Litoral Sul - Conserva\",\n",
    "\"Arteris Fernão Dias - Conserva\",\n",
    "\"Pavicolet\",\n",
    "\"Rota do Oeste\",\n",
    "\"Neovia Ponte Serrada\",\n",
    "\"Arteris Fluminense\",\n",
    "\"Elo Via Lagos\",\n",
    "\"Garcia Monteiro\",\n",
    "\"Televale\"]"
   ]
  },
  {
   "cell_type": "code",
   "execution_count": null,
   "id": "c2ad5e87",
   "metadata": {},
   "outputs": [],
   "source": [
    "cont=0\n",
    "for a in lista:\n",
    "#     company=Company.objects.filter(name__icontains=a).first()\n",
    "    \n",
    "#     print(company.name)\n",
    "#     print(a)\n",
    "    try:\n",
    "        company=Company.objects.filter(name__icontains=a).first()\n",
    "        user=UserPermission.objects.filter(companies=company)\n",
    "        print(company.name)\n",
    "        for b in user:\n",
    "            cont+=1\n",
    "            print(f'{company.name} &\\t {b.name}')\n",
    "    except Exception as e:\n",
    "        print(e,company,a)"
   ]
  },
  {
   "cell_type": "code",
   "execution_count": null,
   "id": "3851189d",
   "metadata": {},
   "outputs": [],
   "source": [
    "cont"
   ]
  },
  {
   "cell_type": "code",
   "execution_count": null,
   "id": "9ad6a46c",
   "metadata": {},
   "outputs": [],
   "source": [
    "c = UserPermission.objects.filter(companies__name__in=lista)\n",
    "repr(c[3].companies.permission)"
   ]
  },
  {
   "cell_type": "code",
   "execution_count": null,
   "id": "ff526379",
   "metadata": {},
   "outputs": [],
   "source": [
    "rep = Reporting.history.filter(km=350,history_type=\"-\",number__startswith='EIXO-DRE',road_name='SP-294',job_id=\"b112acd3-9638-4509-83be-fc6e6660ca56\").order_by('-updated_at')\n",
    "rep.count()"
   ]
  },
  {
   "cell_type": "code",
   "execution_count": null,
   "id": "a09651a2",
   "metadata": {},
   "outputs": [],
   "source": [
    "rep[0].__dict__"
   ]
  },
  {
   "cell_type": "code",
   "execution_count": null,
   "id": "4aa0449e",
   "metadata": {},
   "outputs": [],
   "source": [
    "rep[1].__dict__"
   ]
  },
  {
   "cell_type": "code",
   "execution_count": null,
   "id": "ed8ac5c0",
   "metadata": {},
   "outputs": [],
   "source": [
    "job=Job.objects.get(number=\"EIXO-job-2023.934\")\n",
    "job.uuid"
   ]
  },
  {
   "cell_type": "code",
   "execution_count": null,
   "id": "aca1ca9d",
   "metadata": {},
   "outputs": [],
   "source": [
    "rep2 = Reporting.history.filter(history_type=\"-\",number__startswith='EIXO-DRE',job_id=\"b112acd3-9638-4509-83be-fc6e6660ca56\",history_user_id=\"5f2434f3-dc65-4880-8805-d144f98c6126\").order_by('-updated_at')\n",
    "rep2.count()"
   ]
  },
  {
   "cell_type": "code",
   "execution_count": null,
   "id": "72835e08",
   "metadata": {},
   "outputs": [],
   "source": []
  },
  {
   "cell_type": "code",
   "execution_count": null,
   "id": "5e5d569c",
   "metadata": {},
   "outputs": [],
   "source": []
  },
  {
   "cell_type": "code",
   "execution_count": null,
   "id": "33541b02",
   "metadata": {},
   "outputs": [],
   "source": [
    "rep2[0].__dict__"
   ]
  },
  {
   "cell_type": "code",
   "execution_count": null,
   "id": "ab4963e6",
   "metadata": {},
   "outputs": [],
   "source": [
    "ap = ApprovalStep.objects.get(uuid=\"84621272-540b-474c-9dd9-87fe5a84558b\")\n",
    "ap.__dict__,ap.approval_flow.company.name"
   ]
  },
  {
   "cell_type": "code",
   "execution_count": null,
   "id": "fe9e5312",
   "metadata": {},
   "outputs": [],
   "source": [
    "rep = Reporting.history.filter(number=\"38262.2023\",form_data__number_of_persons__isnull=False,history_type=\"-\")\n"
   ]
  },
  {
   "cell_type": "code",
   "execution_count": null,
   "id": "8ad3d0dc",
   "metadata": {},
   "outputs": [],
   "source": [
    "rep[0].form_data['number_of_persons']"
   ]
  },
  {
   "cell_type": "code",
   "execution_count": null,
   "id": "bfc742a3",
   "metadata": {},
   "outputs": [],
   "source": [
    "rep = Reporting.objects.filter(number__in=['70218.2022','38243.2023','38237.2023'],company__name=\"CART\")"
   ]
  },
  {
   "cell_type": "code",
   "execution_count": null,
   "id": "701f39fd",
   "metadata": {},
   "outputs": [],
   "source": [
    "rep[2].occurrence_type,rep[0].occurrence_type.uuid,rep[0].__dict__"
   ]
  },
  {
   "cell_type": "code",
   "execution_count": null,
   "id": "059ecd6b",
   "metadata": {},
   "outputs": [],
   "source": [
    "import pandas as pd"
   ]
  },
  {
   "cell_type": "code",
   "execution_count": null,
   "id": "245e49c5",
   "metadata": {},
   "outputs": [],
   "source": [
    "company = Company.objects.get(name=\"Arteris Fernão Dias - Conserva\")\n",
    "company"
   ]
  },
  {
   "cell_type": "code",
   "execution_count": null,
   "id": "1e14b863",
   "metadata": {},
   "outputs": [],
   "source": [
    "%run 'LPKNB - Funcao Traducao.ipynb'"
   ]
  },
  {
   "cell_type": "code",
   "execution_count": null,
   "id": "e90215d3",
   "metadata": {},
   "outputs": [],
   "source": [
    "occ = OccurrenceType.objects.filter(company=company).values_list('occurrence_kind','name','form_fields__fields').exclude(occurrence_kind__isnull=True).order_by('occurrence_kind')\n",
    "values=[list(a) for a in occ]\n",
    "anterior=''\n",
    "for i,a in enumerate(values):\n",
    "    if traduzirNaturezaCamel(a[0],company) != None:\n",
    "        values[i].insert(0,traduzirNaturezaCamel(a[0],company))\n",
    "\n",
    "        if anterior != a[2]:\n",
    "            values[i].append([a['displayName'] for a in a[3]])\n",
    "            anterior=a[2]\n",
    "        del a[3]"
   ]
  },
  {
   "cell_type": "code",
   "execution_count": null,
   "id": "a90667d5",
   "metadata": {},
   "outputs": [],
   "source": [
    "a[0],occ.count(),values[0]"
   ]
  },
  {
   "cell_type": "code",
   "execution_count": null,
   "id": "a064b106",
   "metadata": {},
   "outputs": [],
   "source": [
    "df=pd.DataFrame(data=values).to_excel('AF2023.xlsx')"
   ]
  },
  {
   "cell_type": "code",
   "execution_count": null,
   "id": "eec399c0",
   "metadata": {},
   "outputs": [],
   "source": [
    "teste= [a['displayName'] for a in values[0][2]]\n",
    "teste"
   ]
  },
  {
   "cell_type": "code",
   "execution_count": null,
   "id": "86e52091",
   "metadata": {},
   "outputs": [],
   "source": [
    "firm = Firm.objects.filter(company=company).values_list('name','uuid').order_by('name')\n",
    "values2=[list(a) for a in firm]\n",
    "df2=pd.DataFrame(data=values2).to_excel('cart2023-2.xlsx')\n"
   ]
  },
  {
   "cell_type": "code",
   "execution_count": null,
   "id": "26cc33fb",
   "metadata": {},
   "outputs": [],
   "source": [
    "OccurrenceType.objects.filter(company=company).exclude(occurrence_kind__isnull=True)"
   ]
  },
  {
   "cell_type": "code",
   "execution_count": null,
   "id": "b581c437",
   "metadata": {},
   "outputs": [],
   "source": [
    "rep = Reporting.objects.filter(found_at__gte='2020-01-01',found_at__lte='2022-05-31',lot__in=[1,4],company__name=\"Eixo SP\", occurrence_type__uuid='ff9f0674-fdc9-48a7-99b3-0f5a3302160a')\n",
    "rep.count()"
   ]
  },
  {
   "cell_type": "code",
   "execution_count": null,
   "id": "636c4900",
   "metadata": {},
   "outputs": [],
   "source": [
    "\n",
    "for i,a in enumerate(tqdm(rep)):\n",
    "    a.delete()"
   ]
  },
  {
   "cell_type": "code",
   "execution_count": null,
   "id": "e43c8cf6",
   "metadata": {
    "scrolled": true
   },
   "outputs": [],
   "source": [
    "rep = Reporting.objects.filter(company__name=\"CAJ\", firm__isnull=True).order_by('-found_at')\n",
    "rep.count()"
   ]
  },
  {
   "cell_type": "code",
   "execution_count": null,
   "id": "717d17d6",
   "metadata": {},
   "outputs": [],
   "source": [
    "subempresa = '55d21899-c992-4dab-87dd-9b1ab5c80c98'\n",
    "firm = \"ac4ed564-dfe3-4373-820e-739d381e4240\"\n",
    "sub=SubCompany.objects.get(uuid=subempresa)\n",
    "f=Firm.objects.get(uuid=firm)"
   ]
  },
  {
   "cell_type": "code",
   "execution_count": null,
   "id": "b49e1cae",
   "metadata": {},
   "outputs": [],
   "source": [
    "sub,f"
   ]
  },
  {
   "cell_type": "code",
   "execution_count": null,
   "id": "8a0f2f85",
   "metadata": {},
   "outputs": [],
   "source": [
    "for a in rep:\n",
    "    a.firm = f\n",
    "    a.sub_company = sub\n",
    "    a.save()"
   ]
  },
  {
   "cell_type": "code",
   "execution_count": null,
   "id": "d7e0c150",
   "metadata": {
    "scrolled": true
   },
   "outputs": [],
   "source": [
    "rep = Reporting.objects.get(number=\"AFD-2023.00859\")"
   ]
  },
  {
   "cell_type": "code",
   "execution_count": null,
   "id": "f5693ffb",
   "metadata": {},
   "outputs": [],
   "source": [
    "rep.instance.save()"
   ]
  },
  {
   "cell_type": "code",
   "execution_count": null,
   "id": "0dae6cd4",
   "metadata": {},
   "outputs": [],
   "source": [
    "repfile =ReportingFile.history.model.objects.filter(reporting=rep)\n",
    "repfile.count()"
   ]
  },
  {
   "cell_type": "code",
   "execution_count": null,
   "id": "66306fbe",
   "metadata": {},
   "outputs": [],
   "source": [
    "for a in repfile:\n",
    "    a.instance.save()"
   ]
  },
  {
   "cell_type": "code",
   "execution_count": null,
   "id": "911363e7",
   "metadata": {},
   "outputs": [],
   "source": [
    "r = Road.objects.filter(company__name=\"Eixo SP\").order_by('name','marks__0__km')\n",
    "r"
   ]
  },
  {
   "cell_type": "code",
   "execution_count": null,
   "id": "2e9c7fea",
   "metadata": {},
   "outputs": [],
   "source": [
    "data={}\n",
    "for i,a in enumerate(r):\n",
    "    data[i]=a.name\n",
    "    data[i]=a.marks['0']['km']\n",
    "    data[i]=a.marks[list(a.marks)[-1]]['km']"
   ]
  },
  {
   "cell_type": "code",
   "execution_count": null,
   "id": "c46721f5",
   "metadata": {},
   "outputs": [],
   "source": [
    "df=pd.DataFrame(data=list(data))"
   ]
  },
  {
   "cell_type": "code",
   "execution_count": null,
   "id": "b3cdcadb",
   "metadata": {},
   "outputs": [],
   "source": [
    "df"
   ]
  },
  {
   "cell_type": "code",
   "execution_count": null,
   "id": "acb65538",
   "metadata": {},
   "outputs": [],
   "source": [
    "reps = Reporting.objects.filter(company__name=\"CAJ\", occurrence_type__occurrence_kind=2, road=road[1])\n",
    "road= Road.objects.filter(name__icontains='Sem Nome',company__name=\"CAJ\")\n",
    "road[0],reps.count()"
   ]
  },
  {
   "cell_type": "code",
   "execution_count": null,
   "id": "ffbc8063",
   "metadata": {
    "scrolled": true
   },
   "outputs": [],
   "source": [
    "reps2 = Reporting.objects.filter(company__name=\"CAJ\", occurrence_type__occurrence_kind=2, road=road[0])\n",
    "reps2.count()"
   ]
  },
  {
   "cell_type": "code",
   "execution_count": null,
   "id": "978b23d7",
   "metadata": {},
   "outputs": [],
   "source": [
    "for a in reps2:\n",
    "    print(a.number,a.road,'|    name:',a.road_name)"
   ]
  },
  {
   "cell_type": "code",
   "execution_count": null,
   "id": "9607ff1a",
   "metadata": {},
   "outputs": [],
   "source": [
    "rep_edit=[]\n",
    "errados=[]\n",
    "user=User.objects.get(username=\"rlcs\")\n",
    "for b in tqdm(reps):\n",
    "    try:\n",
    "        b.road = road[0]\n",
    "        b.road_name=road[0].name\n",
    "        b.road_id=road[0].id\n",
    "        rep_edit.append(b)\n",
    "    except Exception as e:\n",
    "        print(f'{b} | {e}')\n",
    "        errados.append(b)"
   ]
  },
  {
   "cell_type": "code",
   "execution_count": null,
   "id": "2425ce53",
   "metadata": {},
   "outputs": [],
   "source": [
    "rep_edit[0].__dict__"
   ]
  },
  {
   "cell_type": "code",
   "execution_count": null,
   "id": "8c685e57",
   "metadata": {},
   "outputs": [],
   "source": [
    "apontamentos = bulk_update_with_history(rep_edit,Reporting, use_django_bulk=True,batch_size=400,user=user)"
   ]
  },
  {
   "cell_type": "code",
   "execution_count": null,
   "id": "9f6eafde",
   "metadata": {},
   "outputs": [],
   "source": [
    "\n",
    "rep.road=road[1]\n",
    "rep.road_name=road[1].name\n",
    "rep.road_id=road[1].id\n",
    "rep.save()"
   ]
  },
  {
   "cell_type": "code",
   "execution_count": null,
   "id": "c56099b2",
   "metadata": {},
   "outputs": [],
   "source": [
    "target = 'reporting'\n",
    "company = Company.objects.get(name__exact=\"Rota do Oeste\")\n",
    "at=ApprovalTransition.objects.filter(\n",
    "    destination__approval_flow__company=company,destination__approval_flow__target_model__icontains=target)\n",
    "at"
   ]
  },
  {
   "cell_type": "code",
   "execution_count": null,
   "id": "0b123786",
   "metadata": {
    "scrolled": true
   },
   "outputs": [],
   "source": [
    "users=[]\n",
    "obj={}\n",
    "for a in at:\n",
    "    print(f\"{a.origin.name} > BOTÃO: {str(a).split(':')[0]} > {a.destination.name}\")\n",
    "    users=[str(b).split(' - ')[1] for b in a.origin.responsible_users.all()]\n",
    "    obj[a.origin.name] = users\n",
    "obj"
   ]
  },
  {
   "cell_type": "code",
   "execution_count": null,
   "id": "8c817812",
   "metadata": {},
   "outputs": [],
   "source": [
    "for a,b in obj.items():\n",
    "    print(a)\n",
    "    print('\\t',b)"
   ]
  },
  {
   "cell_type": "code",
   "execution_count": null,
   "id": "d6f3916e",
   "metadata": {},
   "outputs": [],
   "source": [
    "reps=Reporting.objects.filter(company__name=\"Garcia Monteiro\", occurrence_type__name=\"Chegada de agregado\")\n",
    "reps.count(),int(reps[0].number.split('.')[1]),reps[0].__dict__"
   ]
  },
  {
   "cell_type": "code",
   "execution_count": null,
   "id": "7cfdc68d",
   "metadata": {},
   "outputs": [],
   "source": [
    "rep_edit=[]\n",
    "user=User.objects.get(username=\"rlcs\")\n",
    "for b in tqdm(reps):\n",
    "    \n",
    "    try:\n",
    "        rep=Reporting.objects.get(company__name=\"Garcia Monteiro\", number=b.number)\n",
    "        if int(b.number.split('.')[1]) >=680:\n",
    "            print(b.number)\n",
    "            b.occurrence_type_id = b.occurrence_type_id\n",
    "            b.form_data['material_provider'] = b.form_data['material_provider']\n",
    "            b.form_data['material_destiny'] = b.form_data['material_destiny']\n",
    "            b.save()\n",
    "    except Exception as e:\n",
    "        print(f'{b[\"Número\"]} -> {number}')"
   ]
  },
  {
   "cell_type": "code",
   "execution_count": null,
   "id": "fa65846b",
   "metadata": {},
   "outputs": [],
   "source": [
    "company=Company.objects.get(name=\"Arteris Via Paulista - SISOAE\")\n",
    "company"
   ]
  },
  {
   "cell_type": "code",
   "execution_count": null,
   "id": "9579a5b6",
   "metadata": {},
   "outputs": [],
   "source": [
    "filename = \"Relacao InventarioXInspecao\""
   ]
  },
  {
   "cell_type": "code",
   "execution_count": null,
   "id": "d5b9e7e5",
   "metadata": {},
   "outputs": [],
   "source": [
    "wb = load_workbook(filename + '.xlsx')\n",
    "sheetname = wb.sheetnames[0]\n",
    "# sheetname\n",
    "ws = wb[sheetname]\n",
    "wb.sheetnames, ws"
   ]
  },
  {
   "cell_type": "code",
   "execution_count": null,
   "id": "04e86578",
   "metadata": {},
   "outputs": [],
   "source": [
    "header = []\n",
    "values = []\n",
    "\n",
    "for index, row in enumerate(ws.rows):\n",
    "    if index == 0:\n",
    "        header = list([a.value for a in row])\n",
    "        continue\n",
    "    obj = {}\n",
    "    for col_index, cell in enumerate(row):\n",
    "        value = cell.value\n",
    "        obj[header[col_index]] = value\n",
    "\n",
    "        \n",
    "    values.append(obj)"
   ]
  },
  {
   "cell_type": "code",
   "execution_count": null,
   "id": "bdbd0d26",
   "metadata": {},
   "outputs": [],
   "source": [
    "len(values)"
   ]
  },
  {
   "cell_type": "code",
   "execution_count": null,
   "id": "a73f9b4e",
   "metadata": {},
   "outputs": [],
   "source": [
    "company=Company.objects.get(name=\"Arteris Via Paulista - SISOAE\")\n",
    "reps=[\"INS-2023.00192\",\n",
    "\"INS-2023.00193\",\n",
    "\"INS-2023.00194\",\n",
    "\"INS-2023.00195\",\n",
    "\"INS-2023.00196\",\n",
    "\"INS-2023.00197\",\n",
    "\"INS-2023.00199\",\n",
    "\"INS-2023.00198\",\n",
    "\"INS-2023.00200\",\n",
    "\"INS-2023.00201\"]\n",
    "invs=[\"05.03.01.48\",\n",
    "\"05.03.29.09.00.03\",\n",
    "\"05.03.01.09\",\n",
    "\"05.03.01.37\",\n",
    "\"05.03.02.11\",\n",
    "\"05.03.29.04.00.02\",\n",
    "\"05.03.04.93\",\n",
    "\"05.03.04.73\",\n",
    "\"05.03.03.78\",\n",
    "\"05.03.03.79\"]"
   ]
  },
  {
   "cell_type": "code",
   "execution_count": null,
   "id": "06c4f36f",
   "metadata": {},
   "outputs": [],
   "source": [
    "# for a in values:\n",
    "for i,a in enumerate(reps):\n",
    "    try:\n",
    "        rep=Reporting.objects.get(company=company,number=a)\n",
    "        inv=Reporting.objects.get(company=company,number=invs[i])\n",
    "        rep.parent = inv\n",
    "        rep.save()\n",
    "    except Exception as e:\n",
    "        print(f'{e} | {rep} | {inv}')"
   ]
  },
  {
   "cell_type": "code",
   "execution_count": null,
   "id": "673f5a1e",
   "metadata": {},
   "outputs": [],
   "source": [
    "rep=Reporting.objects.filter(number='INS-2022.00887')\n",
    "rep"
   ]
  },
  {
   "cell_type": "code",
   "execution_count": null,
   "id": "8af97c82",
   "metadata": {},
   "outputs": [],
   "source": [
    "rep=Reporting.objects.get(company=company,number='INS-2022.00888')\n",
    "inv=Reporting.objects.get(company=company,number='05.03.29.09.00.04')\n",
    "rep.parent = inv\n",
    "# rep.save()"
   ]
  },
  {
   "cell_type": "code",
   "execution_count": null,
   "id": "45cc3640",
   "metadata": {},
   "outputs": [],
   "source": [
    "recuperar = ['c29ef86a-cbb8-4f08-a68f-56032635ef5d',\n",
    " '40d41851-88b1-4501-800a-dd04514a075a',\n",
    " '307d77ba-3b0a-45af-9a64-a2b47a833ca0']\n",
    "desobstruir=['a91f5d55-cd13-450e-a3fa-057f35229579',\n",
    " '69ae5a2b-e04e-41c3-887e-3baabefe94d3']\n",
    "prolongar=['e1bd87de-2a31-4dc8-8681-b7121850b220',\n",
    " '14ab5e16-1014-4c42-8289-aefb26496ccb']"
   ]
  },
  {
   "cell_type": "code",
   "execution_count": null,
   "id": "65b9b320",
   "metadata": {},
   "outputs": [],
   "source": [
    "company = Company.objects.get(name=\"Arteris Via Paulista - SISOAE\")"
   ]
  },
  {
   "cell_type": "code",
   "execution_count": null,
   "id": "02316267",
   "metadata": {},
   "outputs": [],
   "source": [
    "rep_problema=Reporting.objects.get(company=company,number='INS-2023.00205')\n",
    "rep_problema_file=list(map(str,ReportingFile.objects.filter(reporting=rep_problema).values_list('uuid',flat=True)))"
   ]
  },
  {
   "cell_type": "code",
   "execution_count": null,
   "id": "f3ca3411",
   "metadata": {},
   "outputs": [],
   "source": [
    "for a in rep_problema.form_data['therapy']:\n",
    "    for b in a['treatment_images']:\n",
    "        if b in rep_problema_file:\n",
    "            pass\n",
    "        else:\n",
    "            print(b)\n",
    "            a['treatment_images'].remove(b)"
   ]
  },
  {
   "cell_type": "code",
   "execution_count": null,
   "id": "04edebfb",
   "metadata": {},
   "outputs": [],
   "source": [
    "rep_problema.form_data['therapy']"
   ]
  },
  {
   "cell_type": "code",
   "execution_count": null,
   "id": "9a68d40d",
   "metadata": {},
   "outputs": [],
   "source": [
    "rep_problema.save()"
   ]
  },
  {
   "cell_type": "code",
   "execution_count": null,
   "id": "88813302",
   "metadata": {},
   "outputs": [],
   "source": [
    "rep=Reporting.history.filter(uuid=\"e2563928-ed3e-40d6-bf65-29bd36f53fed\")\n",
    "rep"
   ]
  },
  {
   "cell_type": "code",
   "execution_count": null,
   "id": "8cdc400f",
   "metadata": {},
   "outputs": [],
   "source": [
    "rep_edit=[]\n",
    "user=User.objects.get(username=\"rlcs\")\n",
    "for a in tqdm(values):\n",
    "    rdo = MultipleDailyReport.objects.get(number=a['Serial do RDO'])\n",
    "#     print(rdo.number,rdo.firm.name,a['PARA'])\n",
    "    try:\n",
    "        rdo.firm = Firm.objects.get(name=a['PARA'])\n",
    "        rdo.save()\n",
    "    except Exception as e:\n",
    "        print(f'{e} | {rdo.number}')"
   ]
  },
  {
   "cell_type": "code",
   "execution_count": null,
   "id": "1887405c",
   "metadata": {},
   "outputs": [],
   "source": [
    "apontamentos = bulk_update_with_history(rep_edit,Reporting, use_django_bulk=True,batch_size=200,user=user)"
   ]
  },
  {
   "cell_type": "code",
   "execution_count": null,
   "id": "231d0cdc",
   "metadata": {},
   "outputs": [],
   "source": [
    "reps= Reporting.objects.get(company__name=\"Entrevias SISOAE\", number__icontains='2023.01366')\n",
    "reps.save()"
   ]
  },
  {
   "cell_type": "code",
   "execution_count": null,
   "id": "009ec9e3",
   "metadata": {},
   "outputs": [],
   "source": [
    "company = Company.objects.get(name=\"Eixo Sp - Pavimento\")\n",
    "company"
   ]
  },
  {
   "cell_type": "code",
   "execution_count": null,
   "id": "057f6814",
   "metadata": {},
   "outputs": [],
   "source": [
    "company.custom_options"
   ]
  },
  {
   "cell_type": "code",
   "execution_count": null,
   "id": "d4316b7d",
   "metadata": {},
   "outputs": [],
   "source": [
    "company.custom_options.keys()"
   ]
  },
  {
   "cell_type": "code",
   "execution_count": null,
   "id": "b3dac2f9",
   "metadata": {},
   "outputs": [],
   "source": [
    "company.custom_options['reporting']['exporter']['extra_columns'][0].keys()"
   ]
  },
  {
   "cell_type": "code",
   "execution_count": null,
   "id": "4e3728bb",
   "metadata": {},
   "outputs": [],
   "source": [
    "key,header=[],[]\n",
    "for a in company.custom_options['reporting']['exporter']['extra_columns']:\n",
    "#     print(a['key'],a['header'])\n",
    "    key.append(a['key'].replace(\"'\",'\"'))\n",
    "    header.append(a['header'])"
   ]
  },
  {
   "cell_type": "code",
   "execution_count": null,
   "id": "d5afdba0",
   "metadata": {},
   "outputs": [],
   "source": [
    "print(key)\n",
    "print(header)"
   ]
  },
  {
   "cell_type": "code",
   "execution_count": null,
   "id": "1dc44e3a",
   "metadata": {},
   "outputs": [],
   "source": [
    "reps = Reporting.history.filter(company__name=\"Arteris Fernão Dias - Conserva\",history_type='~',history_date__gte='2023-5-11',history_user_id='f4204ee0-2084-4bff-b3b6-ecee2ce40808')\n",
    "reps.count(),reps[0].__dict__"
   ]
  },
  {
   "cell_type": "code",
   "execution_count": null,
   "id": "201ef5b8",
   "metadata": {},
   "outputs": [],
   "source": [
    "for a in reps:\n",
    "    print(a.number)"
   ]
  },
  {
   "cell_type": "code",
   "execution_count": null,
   "id": "945f49c5",
   "metadata": {},
   "outputs": [],
   "source": [
    "shape = ShapeFile.objects.filter(company__name=\"Demo Concessionárias\")"
   ]
  },
  {
   "cell_type": "code",
   "execution_count": null,
   "id": "b65500b6",
   "metadata": {},
   "outputs": [],
   "source": [
    "reps = Reporting.objects.filter(company__name=\"Demo Concessionárias\",form_data__can_filter__isnull=True)\n",
    "reps.count()"
   ]
  },
  {
   "cell_type": "code",
   "execution_count": null,
   "id": "e68c3adf",
   "metadata": {},
   "outputs": [],
   "source": [
    "userPerm = UserPermission.objects.filter(companies__name=\"Demo Concessionárias\")\n",
    "for i,a in enumerate(userPerm):\n",
    "    print(i,a.name)"
   ]
  },
  {
   "cell_type": "code",
   "execution_count": null,
   "id": "8050e4b3",
   "metadata": {},
   "outputs": [],
   "source": [
    "userPerm[8].permissions"
   ]
  },
  {
   "cell_type": "code",
   "execution_count": null,
   "id": "4172b8c6",
   "metadata": {},
   "outputs": [],
   "source": [
    "lista1=[ \"link\", \"number\",\"roadName\",\"km\",\"endKm\",\"latitude\",\"longitude\",\"occurrenceType\",\"occurrenceKind\",\"length\", \"width\",\"height\",\"lane\",\"direction\",\"status\",\"createdBy\",\"updatedBy\",\"firm\",\"job\",\"foundAt\",\"updatedAt\",\"executedAt\", \"dueAt\",\"notes\",\"demandOrigin\",\"artespCode\",\"csp\",\"lot\" ]\n",
    "lista2= [\"Link\", \"Número\",\"Rodovia\",\"km inicial\",\"km final\",\"Latitude\",\"Longitude\",\"Classe\",\"Natureza\",\"Comprimento\", \"Largura\",\"Espessura\",\"Faixa\",\"Sentido\",\"Status\",\"Criado por\",\"Atualizado por\",\"Equipe\",\"Programação\",\"Encontrado em\", \"Atualizado em\",\"Executado em\",\"Prazo\",\"Observações\",\"Origem\",\"Cód. ARTESP\",\"CSP\", \"Lote\"]\n",
    "len(lista1),len(lista2)"
   ]
  },
  {
   "cell_type": "code",
   "execution_count": null,
   "id": "ccee31a1",
   "metadata": {},
   "outputs": [],
   "source": [
    "rep = Reporting.objects.get(uuid=\"8576c680-14c0-4782-92bd-25a3aa91d531\")"
   ]
  },
  {
   "cell_type": "code",
   "execution_count": null,
   "id": "9737ded4",
   "metadata": {},
   "outputs": [],
   "source": [
    "rdo = MultipleDailyReport.objects.filter(reportings=rep)\n",
    "rdo.count(),rdo[0].number"
   ]
  },
  {
   "cell_type": "code",
   "execution_count": null,
   "id": "b224161c",
   "metadata": {},
   "outputs": [],
   "source": [
    "bol = MeasurementBulletin.objects.get(uuid='dfa8318e-c56d-421d-9805-ea19645b5f19')\n",
    "bol"
   ]
  },
  {
   "cell_type": "code",
   "execution_count": null,
   "id": "ee8baaa6",
   "metadata": {},
   "outputs": [],
   "source": [
    "bol.delete()"
   ]
  },
  {
   "cell_type": "code",
   "execution_count": null,
   "id": "64ce3513",
   "metadata": {},
   "outputs": [],
   "source": [
    "company=Company.objects.get(name=\"Eixo Sp - Pavimento\")\n",
    "UserInCompany.objects.filter(company=company,permissions__name='Usuário Padrão').count()\n"
   ]
  },
  {
   "cell_type": "code",
   "execution_count": null,
   "id": "44ab6502",
   "metadata": {},
   "outputs": [],
   "source": [
    "panControl=UserPermission.objects.get(name__icontains='Usuário Padrão',companies=company)\n",
    "panControl.delete()"
   ]
  },
  {
   "cell_type": "code",
   "execution_count": null,
   "id": "f530281f",
   "metadata": {},
   "outputs": [],
   "source": [
    "UserInCompany.objects.filter(company=company,permissions__name='Coordenador')"
   ]
  },
  {
   "cell_type": "code",
   "execution_count": null,
   "id": "a083e718",
   "metadata": {},
   "outputs": [],
   "source": [
    "UserInCompany.objects.filter(company=company,permissions=panControl).count()"
   ]
  },
  {
   "cell_type": "code",
   "execution_count": null,
   "id": "95f96b24",
   "metadata": {},
   "outputs": [],
   "source": [
    "jobs = Job.objects.filter(company__name=\"Entrevias\",archived=True,progress__lte=99)\n",
    "jobs.count()"
   ]
  },
  {
   "cell_type": "code",
   "execution_count": null,
   "id": "859b0f35",
   "metadata": {},
   "outputs": [],
   "source": [
    "jobs[0].__dict__"
   ]
  },
  {
   "cell_type": "code",
   "execution_count": null,
   "id": "b1f6133e",
   "metadata": {},
   "outputs": [],
   "source": [
    "jobsH=Job.history.filter(company__name=\"Entrevias\",archived=True,history_type='~',history_date__gte='2023-1-1').order_by('-history_date')"
   ]
  },
  {
   "cell_type": "code",
   "execution_count": null,
   "id": "56c98165",
   "metadata": {},
   "outputs": [],
   "source": [
    "jobsH.count(),jobsH[0].__dict__"
   ]
  },
  {
   "cell_type": "code",
   "execution_count": null,
   "id": "b4a10dbc",
   "metadata": {},
   "outputs": [],
   "source": [
    "for a in jobsH:\n",
    "    print(a.history_user,'|', a.number,'|',a.history_date.strftime('%d-%m-%Y') ,'|',str(a.progress)+'%')"
   ]
  },
  {
   "cell_type": "code",
   "execution_count": null,
   "id": "2086ced0",
   "metadata": {},
   "outputs": [],
   "source": [
    "occ=OccurrenceType.objects.filter(company__name=\"CART\")\n",
    "occ.count(),occ[0].__dict__"
   ]
  },
  {
   "cell_type": "code",
   "execution_count": null,
   "id": "f0d6575e",
   "metadata": {},
   "outputs": [],
   "source": [
    "\n",
    "for a in occ:\n",
    "    print(a.name)\n",
    "    for b in a.form_fields['fields']:\n",
    "        try:\n",
    "            print('\\t',b['displayName'])\n",
    "        except:\n",
    "            print('\\t',b['display_name'])"
   ]
  },
  {
   "cell_type": "code",
   "execution_count": null,
   "id": "80267158",
   "metadata": {
    "scrolled": true
   },
   "outputs": [],
   "source": [
    "userC = UserInCompany.objects.filter(company__name=\"Demo Concessionárias\", user__username=\"rlcs\")\n",
    "userC"
   ]
  },
  {
   "cell_type": "code",
   "execution_count": null,
   "id": "38acc2ff",
   "metadata": {},
   "outputs": [],
   "source": [
    "user = User.objects.get(username='daniella.gomes')\n",
    "user"
   ]
  },
  {
   "cell_type": "code",
   "execution_count": null,
   "id": "23fd3edd",
   "metadata": {},
   "outputs": [],
   "source": [
    "for a in userC:\n",
    "    a.uuid=None\n",
    "    a.user = user\n",
    "    a.save()"
   ]
  },
  {
   "cell_type": "code",
   "execution_count": null,
   "id": "ef871c90",
   "metadata": {},
   "outputs": [],
   "source": [
    "reps=Reporting.objects.filter(created_at__gte='2023-1-1',company__name='Entrevias').values('occurrence_type__occurrence_kind').annotate(qtd_occ=Count('reporting'))"
   ]
  },
  {
   "cell_type": "code",
   "execution_count": null,
   "id": "df3c19e9",
   "metadata": {},
   "outputs": [],
   "source": [
    "for rep in reps:\n",
    "    print(rep)"
   ]
  },
  {
   "cell_type": "code",
   "execution_count": null,
   "id": "20780628",
   "metadata": {},
   "outputs": [],
   "source": [
    "reps = Reporting.objects.filter(number__in=['48638.2023','43846.2023','43734.2023','43610.2023'],company__name=\"CART\")\n",
    "reps.count()"
   ]
  },
  {
   "cell_type": "code",
   "execution_count": null,
   "id": "e5d9d17e",
   "metadata": {},
   "outputs": [],
   "source": [
    "for a in reps:\n",
    "    a.occurrence_type=occ\n",
    "    a.save()"
   ]
  },
  {
   "cell_type": "code",
   "execution_count": null,
   "id": "3785066c",
   "metadata": {},
   "outputs": [],
   "source": [
    "occ = OccurrenceType.objects.get(company__name=\"CART\", name__icontains=\"Motor não funciona\")"
   ]
  },
  {
   "cell_type": "code",
   "execution_count": null,
   "id": "0e207b77",
   "metadata": {},
   "outputs": [],
   "source": [
    "occ"
   ]
  },
  {
   "cell_type": "code",
   "execution_count": null,
   "id": "e4fb3131",
   "metadata": {},
   "outputs": [],
   "source": [
    "al = ActionLog.objects.filter(company=Company.objects.get(name=\"Entrevias\"),content_type__app_label='service_orders')\n",
    "al[0].__dict__,al[0].object_id,al.count()"
   ]
  },
  {
   "cell_type": "code",
   "execution_count": null,
   "id": "75041417",
   "metadata": {},
   "outputs": [],
   "source": [
    "sos=ServiceOrderActionStatusSpecs.history.filter(company=Company.objects.get(name=\"Entrevias\"),status__uuid=\"6411edf1-1309-43dd-818f-c9c95c835710\").order_by('-history_date')\n",
    "sos"
   ]
  },
  {
   "cell_type": "code",
   "execution_count": null,
   "id": "19f3ef1c",
   "metadata": {},
   "outputs": [],
   "source": [
    "for a in sos:\n",
    "    print(a.order,a.history_user,a.history_date)\n",
    "sos[0].__dict__"
   ]
  },
  {
   "cell_type": "code",
   "execution_count": null,
   "id": "c19f2630",
   "metadata": {},
   "outputs": [],
   "source": [
    "from django.core import serializers\n",
    "import json\n",
    "from io import StringIO\n",
    "data = serializers.serialize(\"json\", Reporting.objects.filter(company__name=\"Entrevias\",found_at__gte='2023-5-24'))"
   ]
  },
  {
   "cell_type": "code",
   "execution_count": null,
   "id": "230ee094",
   "metadata": {},
   "outputs": [],
   "source": [
    "json.loads(data)[0]"
   ]
  },
  {
   "cell_type": "code",
   "execution_count": null,
   "id": "cda2e3bd",
   "metadata": {},
   "outputs": [],
   "source": [
    "UserPermission.objects.get(companies__name__icontains=\"Entrevias\",name=\"Suporte\").__dict__"
   ]
  },
  {
   "cell_type": "code",
   "execution_count": null,
   "id": "cc82fad4",
   "metadata": {},
   "outputs": [],
   "source": [
    "UserInCompany.objects.filter(company__name__icontains=\"Afirma\",user__username=\"rlcs\")[0].__dict__"
   ]
  },
  {
   "cell_type": "code",
   "execution_count": null,
   "id": "07943246",
   "metadata": {},
   "outputs": [],
   "source": [
    "rep=Reporting.objects.get(number=\"ENT-PAV-2023.00673\")\n",
    "rep"
   ]
  },
  {
   "cell_type": "code",
   "execution_count": null,
   "id": "88ade22e",
   "metadata": {},
   "outputs": [],
   "source": [
    "rep.__dict__"
   ]
  },
  {
   "cell_type": "code",
   "execution_count": null,
   "id": "dfb9e67a",
   "metadata": {},
   "outputs": [],
   "source": [
    "rep.form_metadata['area'] = {'manually_specified': False}\n",
    "rep.form_metadata['height'] = {'manually_specified': False}\n",
    "rep.form_metadata['tonnage'] = {'manually_specified': False}\n",
    "rep.form_metadata['length'] = {'manually_specified': False}\n",
    "rep.save()"
   ]
  },
  {
   "cell_type": "code",
   "execution_count": null,
   "id": "09cf9fdc",
   "metadata": {},
   "outputs": [],
   "source": [
    "rdo=MultipleDailyReport.history.filter(company__name=\"CAJ\", uuid=\"710d397b-7037-426a-9a9b-83ccef34dbd4\")\n",
    "rdo[0].history_user"
   ]
  },
  {
   "cell_type": "code",
   "execution_count": null,
   "id": "ef69c136",
   "metadata": {},
   "outputs": [],
   "source": [
    "dro = DailyReportOccurrence.history.get(uuid='fabbd043-809a-4a2a-9995-133945d6ce04')\n",
    "dro.__dict__,dro.firm.name"
   ]
  },
  {
   "cell_type": "code",
   "execution_count": null,
   "id": "7118ba51",
   "metadata": {},
   "outputs": [],
   "source": [
    "contracts = Contract.objects.filter(company__name=\"Entrevias\")"
   ]
  },
  {
   "cell_type": "code",
   "execution_count": null,
   "id": "cffe6ed3",
   "metadata": {},
   "outputs": [],
   "source": [
    "perm = UserPermission.objects.get(companies__name=\"Arteris Planalto Sul - Conserva\", name=\"Coordenador\")"
   ]
  },
  {
   "cell_type": "code",
   "execution_count": null,
   "id": "d671a0ef",
   "metadata": {},
   "outputs": [],
   "source": [
    "UserInCompany.objects.filter(user__email=\"cesar.souza@arteris.com.br\",company__name=\"Arteris Planalto Sul - Conserva\").update(permissions=perm)"
   ]
  },
  {
   "cell_type": "code",
   "execution_count": null,
   "id": "129a057f",
   "metadata": {},
   "outputs": [],
   "source": [
    "users=User.objects.filter(companies__name=\"CART\")\n",
    "users.count()"
   ]
  },
  {
   "cell_type": "code",
   "execution_count": null,
   "id": "ba247f68",
   "metadata": {},
   "outputs": [],
   "source": [
    "users[0].__dict__"
   ]
  },
  {
   "cell_type": "code",
   "execution_count": null,
   "id": "fb202a07",
   "metadata": {},
   "outputs": [],
   "source": [
    "users_perm = UserInCompany.objects.filter(company__name=\"Eixo SP\")"
   ]
  },
  {
   "cell_type": "code",
   "execution_count": null,
   "id": "383f5792",
   "metadata": {},
   "outputs": [],
   "source": [
    "for a in users_perm:\n",
    "    try:\n",
    "        print(a.user,';',a.permissions.name, ';',a.user.last_login.strftime('%d-%m-%Y'))\n",
    "    except:\n",
    "        pass"
   ]
  },
  {
   "cell_type": "code",
   "execution_count": null,
   "id": "244e1128",
   "metadata": {},
   "outputs": [],
   "source": [
    "occ=OccurrenceType.objects.filter(company__name=\"CART\").first()"
   ]
  },
  {
   "cell_type": "code",
   "execution_count": null,
   "id": "1952b3de",
   "metadata": {},
   "outputs": [],
   "source": [
    "len(occ.form_fields['fields'][0]['apiName'])"
   ]
  },
  {
   "cell_type": "code",
   "execution_count": null,
   "id": "9e4c7a68",
   "metadata": {},
   "outputs": [],
   "source": [
    "con=Contract.objects.get(uuid=\"6034b6d5-c217-408d-8ce9-320c101d1469\")\n",
    "con"
   ]
  },
  {
   "cell_type": "code",
   "execution_count": null,
   "id": "9209df9d",
   "metadata": {},
   "outputs": [],
   "source": [
    "con.administration_services.count()"
   ]
  },
  {
   "cell_type": "code",
   "execution_count": null,
   "id": "c3ae7290",
   "metadata": {},
   "outputs": [],
   "source": [
    "con.performance_services.count()"
   ]
  },
  {
   "cell_type": "code",
   "execution_count": null,
   "id": "57a30d69",
   "metadata": {},
   "outputs": [],
   "source": [
    "fs=FieldSurvey.objects.filter(name='Avaliação do dia 05/10/2023')\n",
    "fs"
   ]
  },
  {
   "cell_type": "code",
   "execution_count": null,
   "id": "01319807",
   "metadata": {},
   "outputs": [],
   "source": [
    "fs.delete()"
   ]
  },
  {
   "cell_type": "code",
   "execution_count": null,
   "id": "97329665",
   "metadata": {},
   "outputs": [],
   "source": [
    "MeasurementBulletin.objects.get(uuid='5b9053e9-e4c4-4b84-a821-6c92f8b34c53').delete()"
   ]
  },
  {
   "cell_type": "code",
   "execution_count": null,
   "id": "036cec8c",
   "metadata": {},
   "outputs": [],
   "source": [
    "con2 = Contract.objects.get(uuid=\"75755d48-c275-446d-8011-568550e370c3\")\n",
    "con2.unit_price_services.count()"
   ]
  },
  {
   "cell_type": "code",
   "execution_count": null,
   "id": "79665df3",
   "metadata": {},
   "outputs": [],
   "source": [
    "reps=Reporting.objects.filter(company__name=\"Arteris Fluminense - Conserva\", occurrence_type__name=\"Remoção (Desmembrar - Cerca)\")\n",
    "reps.count()"
   ]
  },
  {
   "cell_type": "code",
   "execution_count": null,
   "id": "ec61158e",
   "metadata": {},
   "outputs": [],
   "source": [
    "occ = OccurrenceType.objects.filter(name__icontains=\"(Desmembrar - Cerca)\")\n",
    "occ.count()"
   ]
  },
  {
   "cell_type": "code",
   "execution_count": null,
   "id": "ba8c1936",
   "metadata": {},
   "outputs": [],
   "source": [
    "for a in occ:\n",
    "#     a.delete()"
   ]
  },
  {
   "cell_type": "code",
   "execution_count": null,
   "id": "e451a731",
   "metadata": {},
   "outputs": [],
   "source": [
    "rep = Reporting.history.model.objects.filter(company__name=\"Arteris Fernão Dias - Conserva\",number=\"AFD-2023.02018\",history_type=\"-\")\n",
    "rep[0].instance.save()"
   ]
  },
  {
   "cell_type": "code",
   "execution_count": null,
   "id": "d2884189",
   "metadata": {},
   "outputs": [],
   "source": [
    "repf = ReportingFile.history.model.objects.filter(reporting=Reporting.objects.get(company__name=\"Arteris Fernão Dias - Conserva\",number=\"AFD-2023.02018\"))\n",
    "repf.count()"
   ]
  },
  {
   "cell_type": "code",
   "execution_count": null,
   "id": "6c79ca38",
   "metadata": {},
   "outputs": [],
   "source": [
    "for a in repf:\n",
    "    print(a.__dict__)"
   ]
  },
  {
   "cell_type": "code",
   "execution_count": null,
   "id": "18dcd19a",
   "metadata": {},
   "outputs": [],
   "source": [
    "userincompany=UserInCompany.objects.get(user__first_name=\"Denil\")\n",
    "userincompany"
   ]
  },
  {
   "cell_type": "code",
   "execution_count": null,
   "id": "3c29c4c9",
   "metadata": {},
   "outputs": [],
   "source": [
    "al = ActionLog.objects.filter(user=userincompany.user,created_at__gte=\"2023-05-24\",action=\"Create\", object_id__isnull=False)"
   ]
  },
  {
   "cell_type": "code",
   "execution_count": null,
   "id": "90c6ecd3",
   "metadata": {},
   "outputs": [],
   "source": [
    "al[0].__dict__,al.count()"
   ]
  },
  {
   "cell_type": "code",
   "execution_count": null,
   "id": "60df9789",
   "metadata": {},
   "outputs": [],
   "source": [
    "for a in al:\n",
    "    print(a.action,a.content_object.__dict__)"
   ]
  },
  {
   "cell_type": "code",
   "execution_count": null,
   "id": "d2cc46f6",
   "metadata": {},
   "outputs": [],
   "source": [
    "rep=Reporting.objects.get(number=\"INS-2023.00205\")\n",
    "inv=Reporting.objects.get(number=\"05.03.29.23.00.09\")"
   ]
  },
  {
   "cell_type": "code",
   "execution_count": null,
   "id": "5f171f66",
   "metadata": {},
   "outputs": [],
   "source": [
    "rep,inv"
   ]
  },
  {
   "cell_type": "code",
   "execution_count": null,
   "id": "e61f1761",
   "metadata": {},
   "outputs": [],
   "source": [
    "rep.parent = inv\n",
    "rep.save()"
   ]
  },
  {
   "cell_type": "code",
   "execution_count": null,
   "id": "118cd4b7",
   "metadata": {},
   "outputs": [],
   "source": [
    "occ=OccurrenceType.objects.filter(company__name=\"Rota do Oeste\",)\n",
    "occ.count()"
   ]
  },
  {
   "cell_type": "code",
   "execution_count": null,
   "id": "521f01b9",
   "metadata": {},
   "outputs": [],
   "source": [
    "occ[0].__dict__"
   ]
  },
  {
   "cell_type": "code",
   "execution_count": null,
   "id": "bc773645",
   "metadata": {},
   "outputs": [],
   "source": [
    "for a in occ:\n",
    "    found=False\n",
    "    for b in a.form_fields['fields']:\n",
    "        if 'arrayOfObjects' == b['dataType']:\n",
    "            size=len(b['innerFields'])\n",
    "            for c in b['innerFields']:\n",
    "                if 'notes' in c['apiName']:\n",
    "                    c['dataType']\n",
    "#     a.save()"
   ]
  },
  {
   "cell_type": "code",
   "execution_count": null,
   "id": "1cd3c3fa",
   "metadata": {},
   "outputs": [],
   "source": [
    "con=Contract.objects.get(uuid=\"47b07c38-eeb6-41ba-8f5c-d63d7d9c3d5a\")\n",
    "con"
   ]
  },
  {
   "cell_type": "code",
   "execution_count": null,
   "id": "fae1377e",
   "metadata": {},
   "outputs": [],
   "source": [
    "con.delete()"
   ]
  },
  {
   "cell_type": "code",
   "execution_count": null,
   "id": "1f019541",
   "metadata": {},
   "outputs": [],
   "source": [
    "teste=ReportingFile.objects.filter(uploaded_at__date='2023-6-5',description__icontains='Imagem de Campo', created_by__username='Jeferson.sartori').order_by('-uploaded_at')\n",
    "for a in teste:\n",
    "    print(a)"
   ]
  },
  {
   "cell_type": "code",
   "execution_count": null,
   "id": "537ba34f",
   "metadata": {},
   "outputs": [],
   "source": [
    "teste[81].__dict__"
   ]
  },
  {
   "cell_type": "code",
   "execution_count": null,
   "id": "b61746fe",
   "metadata": {},
   "outputs": [],
   "source": [
    "lis = [22,23,24,25,26,27,28,29,30,31,32,33,34,35,36,37,38]\n",
    "lis = list(map(str,lis))"
   ]
  },
  {
   "cell_type": "code",
   "execution_count": null,
   "id": "a8982493",
   "metadata": {},
   "outputs": [],
   "source": [
    "print(lis)"
   ]
  },
  {
   "cell_type": "code",
   "execution_count": null,
   "id": "4e8f509f",
   "metadata": {},
   "outputs": [],
   "source": [
    "rep=Reporting.objects.get(uuid=\"91c8592f-8255-45ea-a6ce-86d687afa77d\")\n",
    "rep.__dict__,rep.created_by"
   ]
  },
  {
   "cell_type": "code",
   "execution_count": null,
   "id": "80d3121c",
   "metadata": {},
   "outputs": [],
   "source": [
    "rep.created_by = User.objects.get(username=\"luan.poletti\")"
   ]
  },
  {
   "cell_type": "code",
   "execution_count": null,
   "id": "358beda5",
   "metadata": {},
   "outputs": [],
   "source": [
    "rep.save()"
   ]
  },
  {
   "cell_type": "code",
   "execution_count": null,
   "id": "29785d9c",
   "metadata": {},
   "outputs": [],
   "source": [
    "rep. = User.objects.get(username=\"luan.poletti\")"
   ]
  },
  {
   "cell_type": "code",
   "execution_count": null,
   "id": "c3dc3e3b",
   "metadata": {},
   "outputs": [],
   "source": [
    "rep.save()"
   ]
  },
  {
   "cell_type": "code",
   "execution_count": null,
   "id": "5f40883b",
   "metadata": {},
   "outputs": [],
   "source": [
    "rep.created_by"
   ]
  },
  {
   "cell_type": "code",
   "execution_count": null,
   "id": "90f71465",
   "metadata": {},
   "outputs": [],
   "source": [
    "al=ActionLog.objects.filter(company__name=\"CCR - Rio Sp\",action=\"Update\",content_type_id=12).order_by('-created_at')\n",
    "al[0].__dict__"
   ]
  },
  {
   "cell_type": "code",
   "execution_count": null,
   "id": "d5124a50",
   "metadata": {},
   "outputs": [],
   "source": [
    "for a in al:\n",
    "    print(a.user,a.created_at,a.object_id)"
   ]
  },
  {
   "cell_type": "code",
   "execution_count": null,
   "id": "d188a854",
   "metadata": {},
   "outputs": [],
   "source": [
    "c=Company.history.filter(name=\"CCR - Rio Sp\")"
   ]
  },
  {
   "cell_type": "code",
   "execution_count": null,
   "id": "0063efb9",
   "metadata": {},
   "outputs": [],
   "source": [
    "c.count()"
   ]
  },
  {
   "cell_type": "code",
   "execution_count": null,
   "id": "20efe0f0",
   "metadata": {},
   "outputs": [],
   "source": [
    "c[0].__dict__"
   ]
  },
  {
   "cell_type": "code",
   "execution_count": null,
   "id": "5ad1be59",
   "metadata": {},
   "outputs": [],
   "source": [
    "for a in c:\n",
    "    try:\n",
    "        print(a.history_date,a.history_user,a.custom_options['daily_report_occurrence'])\n",
    "    except:\n",
    "        print(a,a.history_user)"
   ]
  },
  {
   "cell_type": "code",
   "execution_count": null,
   "id": "19eeee01",
   "metadata": {},
   "outputs": [],
   "source": [
    "occ=OccurrenceType.objects.filter(company__name=\"Arteris Via Paulista\")"
   ]
  },
  {
   "cell_type": "code",
   "execution_count": null,
   "id": "ab54c8ee",
   "metadata": {},
   "outputs": [],
   "source": [
    "occ,occ.__dict__"
   ]
  },
  {
   "cell_type": "code",
   "execution_count": null,
   "id": "35c6cd64",
   "metadata": {},
   "outputs": [],
   "source": [
    "columns=[]\n",
    "for a in occ:\n",
    "    for b in a.form_fields['fields']:\n",
    "        try:\n",
    "            if 'arrayOfObjects' in b['dataType']:\n",
    "                for c in b['innerFields']:\n",
    "                    print(c)\n",
    "        except:\n",
    "            pass"
   ]
  },
  {
   "cell_type": "code",
   "execution_count": null,
   "id": "4828a762",
   "metadata": {},
   "outputs": [],
   "source": [
    "for match in tqdm(occ):\n",
    "    for index, field in enumerate(match.form_fields['fields']):\n",
    "        match.form_fields['fields'][index]=format_keys(keys_to_camel_case(field))\n",
    "    match.save()"
   ]
  },
  {
   "cell_type": "code",
   "execution_count": null,
   "id": "3835026d",
   "metadata": {},
   "outputs": [],
   "source": [
    "from tqdm.notebook import tqdm\n",
    "from helpers.strings import keys_to_snake_case, keys_to_camel_case\n",
    "from rest_framework_json_api.utils import format_field_names"
   ]
  },
  {
   "cell_type": "code",
   "execution_count": null,
   "id": "1b39a346",
   "metadata": {},
   "outputs": [],
   "source": [
    "def format_keys(obj, format_type=\"camelize\"):\n",
    "    if isinstance(obj, dict):\n",
    "        for key, value in obj.items():\n",
    "            if isinstance(value, dict):\n",
    "                obj[key] = format_field_names(\n",
    "                            format_keys(value), format_type\n",
    "                            )\n",
    "            elif isinstance(value, list):\n",
    "                list_temp = value.copy()\n",
    "                for i, item in enumerate(value):\n",
    "                    if isinstance(item, dict):\n",
    "                        list_temp[i] = format_field_names(\n",
    "                        format_keys(item), format_type\n",
    "                        )\n",
    "                    else:\n",
    "                        list_temp[i] = item\n",
    "                obj[key] = list_temp\n",
    "    return obj"
   ]
  },
  {
   "cell_type": "code",
   "execution_count": null,
   "id": "15eafd34",
   "metadata": {
    "scrolled": true
   },
   "outputs": [],
   "source": [
    "for a in OccurrenceType.objects.filter(company__name=\"CCR - Rio Sp\"):\n",
    "    for b in a.form_fields['fields']:\n",
    "        try:\n",
    "            if 'ufAcess' == b['apiName']:\n",
    "                b['autofill'] = {\"substr\": [{\"var\": \"roadName\"},-2,2]}\n",
    "                print(a)\n",
    "                a.save()\n",
    "        except:\n",
    "            pass"
   ]
  },
  {
   "cell_type": "code",
   "execution_count": null,
   "id": "b564d5b9",
   "metadata": {},
   "outputs": [],
   "source": [
    "ac = ActionLog.objects.filter(company__name=\"Eixo SP\",object_id=Job.objects.get(uuid=\"2660c601-a013-4a26-ae4e-3441abfafa60\").uuid)\n",
    "ac"
   ]
  },
  {
   "cell_type": "code",
   "execution_count": null,
   "id": "f22f1f0d",
   "metadata": {},
   "outputs": [],
   "source": [
    "ac[0].__dict__,ac[0]"
   ]
  },
  {
   "cell_type": "code",
   "execution_count": null,
   "id": "e5ea9fbf",
   "metadata": {},
   "outputs": [],
   "source": []
  },
  {
   "cell_type": "code",
   "execution_count": null,
   "id": "2bd056de",
   "metadata": {},
   "outputs": [],
   "source": [
    "mr = MultipleDailyReport.objects.filter(subcompany__uuid=\"918ae6bb-adeb-409c-ba74-cf7a97706474\")"
   ]
  },
  {
   "cell_type": "code",
   "execution_count": null,
   "id": "e888ac72",
   "metadata": {},
   "outputs": [],
   "source": [
    "user = User.objects.get(uuid=\"132cfe89-9150-4ebd-a085-dacf09a6faa3\")\n",
    "user"
   ]
  },
  {
   "cell_type": "code",
   "execution_count": null,
   "id": "c0c13823",
   "metadata": {},
   "outputs": [],
   "source": [
    "user.history.all().count(),user.history.all().order_by(\"-history_date\")[0].__dict__\n",
    "# for a in con.history.all():\n",
    "#     print(a.history_id,a.history_date,a.spend_schedule)"
   ]
  },
  {
   "cell_type": "code",
   "execution_count": null,
   "id": "da24c1e2",
   "metadata": {},
   "outputs": [],
   "source": [
    "uic = UserInCompany.objects.filter(company__name=\"Entrevias\", user=user)\n",
    "uic[0].permissions.name"
   ]
  },
  {
   "cell_type": "code",
   "execution_count": null,
   "id": "367e61ac",
   "metadata": {},
   "outputs": [],
   "source": []
  },
  {
   "cell_type": "code",
   "execution_count": null,
   "id": "ccb69e3e",
   "metadata": {},
   "outputs": [],
   "source": [
    "ast = ApprovalStep.objects.get(uuid=\"2c0f3011-cf65-49f1-ae8c-38e94aaa843e\")\n",
    "ast.__dict__"
   ]
  },
  {
   "cell_type": "code",
   "execution_count": null,
   "id": "21b50533",
   "metadata": {},
   "outputs": [],
   "source": [
    "rep=Reporting.objects.get(uuid=\"adab443d-35f9-4c52-99c5-f84a3a50c24c\")"
   ]
  },
  {
   "cell_type": "code",
   "execution_count": null,
   "id": "4d00631d",
   "metadata": {},
   "outputs": [],
   "source": [
    "rep.occurrence_type.created_at,rep.occurrence_type.history.all()[23].__dict__"
   ]
  },
  {
   "cell_type": "code",
   "execution_count": null,
   "id": "f427b255",
   "metadata": {
    "scrolled": true
   },
   "outputs": [],
   "source": [
    "rep.__dict__"
   ]
  },
  {
   "cell_type": "code",
   "execution_count": null,
   "id": "5862e2a3",
   "metadata": {},
   "outputs": [],
   "source": [
    "rep.occurrence_type.history.all()[23].__dict__"
   ]
  },
  {
   "cell_type": "code",
   "execution_count": null,
   "id": "c69b0f30",
   "metadata": {},
   "outputs": [],
   "source": [
    "rep.form_data"
   ]
  },
  {
   "cell_type": "code",
   "execution_count": null,
   "id": "9a12c406",
   "metadata": {},
   "outputs": [],
   "source": [
    "rep.save()"
   ]
  },
  {
   "cell_type": "code",
   "execution_count": null,
   "id": "2658eb0b",
   "metadata": {},
   "outputs": [],
   "source": [
    "company=Company.objects.get(name='ELO Via Lagos')\n",
    "company"
   ]
  },
  {
   "cell_type": "code",
   "execution_count": null,
   "id": "1dfed205",
   "metadata": {
    "scrolled": true
   },
   "outputs": [],
   "source": [
    "for a in UserPermission.objects.filter(companies__name='ELO Via Lagos'):\n",
    "    up=UserPermission(name=a.name,permissions=a.permissions)\n",
    "    up.save()\n",
    "    up.companies.add(company)"
   ]
  },
  {
   "cell_type": "code",
   "execution_count": null,
   "id": "a958a890",
   "metadata": {},
   "outputs": [],
   "source": [
    "for a in UserInCompany.objects.filter(company=company):\n",
    "#     u=UserPermission.objects.filter(companies=company,name=a.permissions.name)[1]\n",
    "    print(a.permissions)"
   ]
  },
  {
   "cell_type": "code",
   "execution_count": null,
   "id": "640fa76b",
   "metadata": {},
   "outputs": [],
   "source": []
  },
  {
   "cell_type": "code",
   "execution_count": null,
   "id": "cd83d61b",
   "metadata": {},
   "outputs": [],
   "source": [
    "con = Contract.objects.get(uuid=\"4b2fb621-6aca-47e2-ad7a-b9d07d60cf42\")\n",
    "con.__dict__"
   ]
  },
  {
   "cell_type": "code",
   "execution_count": null,
   "id": "abbe024d",
   "metadata": {},
   "outputs": [],
   "source": [
    "lista=[1,2,3,4,5]\n",
    "lista= list(map(str,lista))"
   ]
  },
  {
   "cell_type": "code",
   "execution_count": null,
   "id": "e29baefe",
   "metadata": {},
   "outputs": [],
   "source": [
    "lista"
   ]
  },
  {
   "cell_type": "code",
   "execution_count": null,
   "id": "240653e4",
   "metadata": {},
   "outputs": [],
   "source": [
    "con=Contract.objects.get(uuid=\"60f30e3e-63fc-4c33-ab0d-d86ff1421a39\")"
   ]
  },
  {
   "cell_type": "code",
   "execution_count": null,
   "id": "09bd762d",
   "metadata": {},
   "outputs": [],
   "source": [
    "con.unit_price_services.all()[0]."
   ]
  },
  {
   "cell_type": "code",
   "execution_count": null,
   "id": "5ac51a8d",
   "metadata": {},
   "outputs": [],
   "source": [
    "pr=ProcedureResource.objects.filter(uuid__in=[\"7b9187af-782d-48a0-bf8b-5b3883b50ef9\"])\n",
    "pr.count()"
   ]
  },
  {
   "cell_type": "code",
   "execution_count": null,
   "id": "a903f94d",
   "metadata": {},
   "outputs": [],
   "source": [
    "for a in pr:\n",
    "    a.approval_status = \"WAITING_APPROVAL\"\n",
    "    a.save()"
   ]
  },
  {
   "cell_type": "code",
   "execution_count": null,
   "id": "39e9f358",
   "metadata": {},
   "outputs": [],
   "source": [
    "occ_origin = OccurrenceType.objects.get(company__name='CART',uuid='46146623-2d0f-4dd9-bfb7-f02a38021d85')\n",
    "occ_destiny=OccurrenceType.objects.get(company__name='CART',uuid='999003b9-1ae7-4790-af45-80c1f44c8a5c')\n",
    "occ_origin,occ_destiny"
   ]
  },
  {
   "cell_type": "code",
   "execution_count": null,
   "id": "21720ae0",
   "metadata": {},
   "outputs": [],
   "source": [
    "reps=Reporting.objects.filter(company__name=\"CART\", occurrence_type=occ_origin)\n",
    "reps.count()"
   ]
  },
  {
   "cell_type": "code",
   "execution_count": null,
   "id": "8ec184d9",
   "metadata": {
    "scrolled": true
   },
   "outputs": [],
   "source": [
    "rep_edit=[]\n",
    "for a in tqdm(reps):\n",
    "    a.occurrence_type=occ_destiny\n",
    "    rep_edit.append(a)"
   ]
  },
  {
   "cell_type": "code",
   "execution_count": null,
   "id": "dda347e3",
   "metadata": {},
   "outputs": [],
   "source": [
    "user=User.objects.get(username=\"rlcs\")\n",
    "apontamentos = bulk_update_with_history(rep_edit,Reporting, use_django_bulk=True,batch_size=2000,user=user)"
   ]
  },
  {
   "cell_type": "code",
   "execution_count": null,
   "id": "46d2986a",
   "metadata": {},
   "outputs": [],
   "source": [
    "occ_origin.active=False"
   ]
  },
  {
   "cell_type": "code",
   "execution_count": null,
   "id": "b787724f",
   "metadata": {},
   "outputs": [],
   "source": []
  },
  {
   "cell_type": "code",
   "execution_count": null,
   "id": "ff70616d",
   "metadata": {},
   "outputs": [],
   "source": [
    "rep=Reporting.objects.filter(number='2022.03859')\n",
    "rep[1].__dict__"
   ]
  },
  {
   "cell_type": "code",
   "execution_count": null,
   "id": "b71c9939",
   "metadata": {},
   "outputs": [],
   "source": [
    "rep[1].company.name"
   ]
  },
  {
   "cell_type": "code",
   "execution_count": null,
   "id": "fc0c9825",
   "metadata": {},
   "outputs": [],
   "source": [
    "occ[0].__dict__"
   ]
  },
  {
   "cell_type": "code",
   "execution_count": null,
   "id": "fed744b4",
   "metadata": {},
   "outputs": [],
   "source": [
    "occ = OccurrenceType.objects.filter(company__name=\"CART\",active=True)"
   ]
  },
  {
   "cell_type": "code",
   "execution_count": null,
   "id": "f0b1dd01",
   "metadata": {},
   "outputs": [],
   "source": [
    "tem2=False\n",
    "for a in occ:\n",
    "    for b in a.form_fields['fields']:\n",
    "        try:\n",
    "            if \"lacre da amostra\" in b['displayName']:\n",
    "\n",
    "                print(a)\n",
    "            \n",
    "                \n",
    "                \n",
    "        except:\n",
    "#             if \"Quantitativos executados\" in b['display_name'] and \"Quantitativos\" == b['display_name']:\n",
    "#                 print(a.name)\n",
    "            pass"
   ]
  },
  {
   "cell_type": "code",
   "execution_count": null,
   "id": "2ebb2606",
   "metadata": {},
   "outputs": [],
   "source": [
    "oi='oi'\n",
    "if 'i'== oi:\n",
    "    print('merda')"
   ]
  },
  {
   "cell_type": "code",
   "execution_count": null,
   "id": "a4c77287",
   "metadata": {},
   "outputs": [],
   "source": [
    "def generate_select_export_occ(field,occ):\n",
    "    result={\"if\":[]} \n",
    "    \n",
    "    for value in occ:\n",
    "        result[\"if\"].append({\"==\":[{\"var\": \"formData.therapy.0.\"+field[\"apiName\"]}, str(value[\"uuid\"])]})\n",
    "        result[\"if\"].append(value[\"name\"])\n",
    "        \n",
    "    return result"
   ]
  },
  {
   "cell_type": "code",
   "execution_count": null,
   "id": "f09f46d9",
   "metadata": {},
   "outputs": [],
   "source": [
    "occ = OccurrenceType.objects.filter(company__name=\"CAJ\").values('name','uuid')\n",
    "occ.count()"
   ]
  },
  {
   "cell_type": "code",
   "execution_count": null,
   "id": "3608b635",
   "metadata": {},
   "outputs": [],
   "source": [
    "occcampo=OccurrenceType.objects.filter(company__name=\"CAJ\",name__exact=\"Avaliação\")\n",
    "field = occcampo[0].form_fields['fields'][5]['innerFields'][0]"
   ]
  },
  {
   "cell_type": "code",
   "execution_count": null,
   "id": "8c3c76fa",
   "metadata": {},
   "outputs": [],
   "source": [
    "field"
   ]
  },
  {
   "cell_type": "code",
   "execution_count": null,
   "id": "79b1c4ae",
   "metadata": {},
   "outputs": [],
   "source": [
    "str(occ[0]['uuid'])"
   ]
  },
  {
   "cell_type": "code",
   "execution_count": null,
   "id": "081d6014",
   "metadata": {
    "scrolled": true
   },
   "outputs": [],
   "source": [
    "r=generate_select_export_occ(field,occ)"
   ]
  },
  {
   "cell_type": "code",
   "execution_count": null,
   "id": "0aae77fa",
   "metadata": {},
   "outputs": [],
   "source": [
    "r"
   ]
  },
  {
   "cell_type": "code",
   "execution_count": null,
   "id": "93808080",
   "metadata": {},
   "outputs": [],
   "source": [
    "import pandas as pd\n",
    "%run 'LPKNB - Funcao Traducao.ipynb'"
   ]
  },
  {
   "cell_type": "code",
   "execution_count": null,
   "id": "114fb9d7",
   "metadata": {},
   "outputs": [],
   "source": [
    "company=Company.objects.get(name=\"Arteris Fluminense\")"
   ]
  },
  {
   "cell_type": "code",
   "execution_count": null,
   "id": "62f61382",
   "metadata": {},
   "outputs": [],
   "source": [
    "occ = OccurrenceType.objects.filter(company=company).values_list('occurrence_kind','name').order_by('occurrence_kind').exclude(occurrence_kind='999',occurrence_kind__isnull=True)\n",
    "values=[list(a) for a in occ]\n",
    "for i,a in enumerate(values):\n",
    "    if traduzirNaturezaValue(a[0]) !='':\n",
    "        values[i].insert(1,traduzirNaturezaValue(a[0]))"
   ]
  },
  {
   "cell_type": "code",
   "execution_count": null,
   "id": "dc7c8986",
   "metadata": {},
   "outputs": [],
   "source": [
    "df=pd.DataFrame(data=values)\n",
    "df.to_excel('AF2023.xlsx')"
   ]
  },
  {
   "cell_type": "code",
   "execution_count": null,
   "id": "8b804422",
   "metadata": {},
   "outputs": [],
   "source": [
    "df"
   ]
  },
  {
   "cell_type": "code",
   "execution_count": null,
   "id": "785ad35a",
   "metadata": {},
   "outputs": [],
   "source": [
    "import pandas as pd\n",
    "%run 'LPKNB - Funcao Traducao.ipynb'"
   ]
  },
  {
   "cell_type": "code",
   "execution_count": null,
   "id": "bf6ce510",
   "metadata": {},
   "outputs": [],
   "source": [
    "company=Company.objects.get(name=\"Arteris Fluminense\")"
   ]
  },
  {
   "cell_type": "code",
   "execution_count": null,
   "id": "5da8e4ad",
   "metadata": {},
   "outputs": [],
   "source": [
    "occ = OccurrenceType.objects.filter(company=company).values_list('occurrence_kind','name','form_fields').order_by('occurrence_kind').exclude(occurrence_kind='999',occurrence_kind__isnull=True)\n",
    "values=[list(a) for a in occ]\n",
    "# for i,a in enumerate(values):\n",
    "#     if traduzirNaturezaValue(a[0]) !='':\n",
    "#         values[i].insert(1,traduzirNaturezaValue(a[0]))"
   ]
  },
  {
   "cell_type": "code",
   "execution_count": null,
   "id": "bdf87d3e",
   "metadata": {},
   "outputs": [],
   "source": [
    "df=pd.DataFrame(data=values)\n",
    "# df.to_excel('AF2023.xlsx')"
   ]
  },
  {
   "cell_type": "code",
   "execution_count": null,
   "id": "668d2ad9",
   "metadata": {},
   "outputs": [],
   "source": [
    "df.to_excel('testeCCR.xlsx')"
   ]
  },
  {
   "cell_type": "code",
   "execution_count": null,
   "id": "ca815333",
   "metadata": {},
   "outputs": [],
   "source": [
    "Reporting.objects.filter(occurrence_type__uuid=\"a898794d-03ca-411d-bfdf-8a96d5c673fe\").count()"
   ]
  },
  {
   "cell_type": "code",
   "execution_count": null,
   "id": "da453424",
   "metadata": {},
   "outputs": [],
   "source": [
    "occ=OccurrenceType.objects.get(uuid=\"3ef5544e-b3fe-4b06-9703-0c6e583605a9\")"
   ]
  },
  {
   "cell_type": "code",
   "execution_count": null,
   "id": "bb9b7cc8",
   "metadata": {},
   "outputs": [],
   "source": [
    "occ.delete()"
   ]
  },
  {
   "cell_type": "code",
   "execution_count": null,
   "id": "20edbf01",
   "metadata": {},
   "outputs": [],
   "source": [
    "company=Company.objects.get(name=\"Arteris Via Paulista - SISOAE\")"
   ]
  },
  {
   "cell_type": "code",
   "execution_count": null,
   "id": "413665b7",
   "metadata": {},
   "outputs": [],
   "source": [
    "rep=Reporting.objects.get(number=\"05.03.29.06.00.11\",company=company)"
   ]
  },
  {
   "cell_type": "code",
   "execution_count": null,
   "id": "a1f25964",
   "metadata": {},
   "outputs": [],
   "source": [
    "rep.number = '05.03.29.06.00.11'"
   ]
  },
  {
   "cell_type": "code",
   "execution_count": null,
   "id": "fbd453a7",
   "metadata": {
    "scrolled": true
   },
   "outputs": [],
   "source": [
    "rep.__dict__"
   ]
  },
  {
   "cell_type": "code",
   "execution_count": null,
   "id": "6da85fca",
   "metadata": {},
   "outputs": [],
   "source": [
    "lista=[\"leonardo.ramos\",\n",
    "\"ayrton.lima\",\n",
    "\"breno.hack\",\n",
    "\"isadoraschmitz\",\n",
    "\"bruna.alves\",\n",
    "\"esther.madeira\",\n",
    "\"isadora.medeiros\",\n",
    "\"julia.santana\",\n",
    "\"monique.andreola\",\n",
    "\"nicolas.whitechurch\",\n",
    "\"paola.hansen\"]"
   ]
  },
  {
   "cell_type": "code",
   "execution_count": null,
   "id": "36f7e505",
   "metadata": {},
   "outputs": [],
   "source": [
    "users=User.objects.filter(username__in=lista).order_by('username')\n",
    "users[1].__dict__"
   ]
  },
  {
   "cell_type": "code",
   "execution_count": null,
   "id": "3542f1ff",
   "metadata": {},
   "outputs": [],
   "source": [
    "for a in users:\n",
    "    a.is_active = False\n",
    "    a.is_staff = False\n",
    "    a.is_superuser = False\n",
    "    a.save()"
   ]
  },
  {
   "cell_type": "code",
   "execution_count": null,
   "id": "1e8cb0a8",
   "metadata": {},
   "outputs": [],
   "source": [
    "for a in users:\n",
    "    ui = UserInCompany.objects.filter(user__username=a.username)\n",
    "#     print(ui.company)\n",
    "    for b in ui:\n",
    "        b.permissions = UserPermission.objects.filter(companies=b.company,name=\"Inativo\").first()\n",
    "        b.save()\n",
    "        "
   ]
  },
  {
   "cell_type": "code",
   "execution_count": null,
   "id": "fac9405e",
   "metadata": {},
   "outputs": [],
   "source": [
    "# permissions = UserPermission.objects.get(uuid='abca0b11-4750-44fd-b411-74386cb51cf1',companies__name=\"CART\")\n",
    "ui = UserInCompany.objects.filter(user__username=a.username)\n",
    "ui[1].company"
   ]
  },
  {
   "cell_type": "code",
   "execution_count": null,
   "id": "291adf4a",
   "metadata": {},
   "outputs": [],
   "source": [
    "filename = \"Terraplenos_estruturas_contencao.xlsx\"\n",
    "wb = load_workbook(filename)\n",
    "ws = wb['Terraplenos e Estrutura de C']"
   ]
  },
  {
   "cell_type": "code",
   "execution_count": null,
   "id": "f09370d5",
   "metadata": {},
   "outputs": [],
   "source": [
    "header = []\n",
    "values = []\n",
    "\n",
    "for index, row in enumerate(ws.rows):\n",
    "    if index == 0:\n",
    "        header = list([a.value for a in row])\n",
    "        continue\n",
    "    obj = {}\n",
    "    for col_index, cell in enumerate(row):\n",
    "        value = cell.value\n",
    "        obj[header[col_index]] = value\n",
    "    if obj['Rodovia'] is not None:           \n",
    "        obj['img'] = [a for a in ws._images if a.anchor._from.row == index]\n",
    "        \n",
    "        for i, img in enumerate(obj['img']):\n",
    "            if i == 0:\n",
    "                obj['img'][i].name = obj['Descrição Foto Contenção 1_1']\n",
    "                obj['img'][i].tipo = obj['Tipo Foto Contenção 1_1']\n",
    "            elif i == 1:\n",
    "                obj['img'][i].name = obj['Descrição Foto Contenção 1_2']\n",
    "                obj['img'][i].tipo = obj['Tipo Foto Contenção 1_2']\n",
    "            elif i == 2:\n",
    "                obj['img'][i].name = obj['Descrição Foto Contenção 2_1']\n",
    "                obj['img'][i].tipo = obj['Tipo Foto Contenção 2_1']\n",
    "            elif i == 3:\n",
    "                obj['img'][i].name = obj['Descrição Foto Contenção 2_2']\n",
    "                obj['img'][i].tipo = obj['Tipo Foto Contenção 2_2']\n",
    "            elif i == 4:\n",
    "                obj['img'][i].name = obj['Descrição Foto Contenção 3_1']\n",
    "                obj['img'][i].tipo = obj['Tipo Foto Contenção 3_1']\n",
    "            elif i == 5:\n",
    "                obj['img'][i].name = obj['Descrição Foto Contenção 3_2']\n",
    "                obj['img'][i].tipo = obj['Tipo Foto Contenção 3_2']\n",
    "            elif i == 6:\n",
    "                obj['img'][i].name = obj['Descrição Foto Contenção 4_1']\n",
    "                obj['img'][i].tipo = obj['Tipo Foto Contenção 4_1']\n",
    "            elif i == 7:\n",
    "                obj['img'][i].name = obj['Descrição Foto Contenção 4_2']\n",
    "                obj['img'][i].tipo = obj['Tipo Foto Contenção 4_2']\n",
    "\n",
    "        \n",
    "    values.append(obj)"
   ]
  },
  {
   "cell_type": "code",
   "execution_count": null,
   "id": "1384a3dd",
   "metadata": {},
   "outputs": [],
   "source": [
    "print(values[0]['img'][2].tipo)"
   ]
  },
  {
   "cell_type": "code",
   "execution_count": null,
   "id": "e01235c9",
   "metadata": {},
   "outputs": [],
   "source": [
    "import openpyxl\n",
    "from openpyxl_image_loader import SheetImageLoader\n",
    "\n",
    "# Chamando o image_loader\n",
    "image_loader = SheetImageLoader(ws)\n",
    "\n",
    "# Obtendo a imagem (coloque a célula que você precisa em vez de 'A1')\n",
    "image = image_loader.get('A1')\n",
    "\n",
    "# Mostrando a imagem\n",
    "image.show()"
   ]
  },
  {
   "cell_type": "code",
   "execution_count": null,
   "id": "a64f9a7b",
   "metadata": {},
   "outputs": [],
   "source": [
    "dr=DailyReportContractUsage.objects.get(uuid='7b9187af-782d-48a0-bf8b-5b3883b50ef9')\n",
    "dr"
   ]
  },
  {
   "cell_type": "code",
   "execution_count": null,
   "id": "9fbb0938",
   "metadata": {},
   "outputs": [],
   "source": [
    "dr.delete()"
   ]
  },
  {
   "cell_type": "code",
   "execution_count": null,
   "id": "cd00d8ad",
   "metadata": {
    "scrolled": true
   },
   "outputs": [],
   "source": [
    "rep = Reporting.objects.get(uuid='a22ba886-cc13-4ea1-baa9-8146efea9de2')\n",
    "rep.__dict__"
   ]
  },
  {
   "cell_type": "code",
   "execution_count": null,
   "id": "fa8528c4",
   "metadata": {},
   "outputs": [],
   "source": [
    "repFile=ReportingFile.objects.get(uuid='dbb2b49f-da5a-43e3-85cb-7beeceb2b4f9')\n",
    "repFile"
   ]
  },
  {
   "cell_type": "code",
   "execution_count": null,
   "id": "309579bc",
   "metadata": {},
   "outputs": [],
   "source": [
    "company=Company.objects.get(name=\"Eixo SP\")"
   ]
  },
  {
   "cell_type": "code",
   "execution_count": null,
   "id": "93d2276f",
   "metadata": {},
   "outputs": [],
   "source": [
    "uc=UserInCompany.objects.filter(company__name='Eixo SP',user__last_login__lte='2022-7-31',permissions=perm_inativo)\n",
    "uc.count()"
   ]
  },
  {
   "cell_type": "code",
   "execution_count": null,
   "id": "185125a3",
   "metadata": {},
   "outputs": [],
   "source": [
    "uc[0].user.last_login,uc[0].user.is_active,uc[0].permissions.name,uc.count()"
   ]
  },
  {
   "cell_type": "code",
   "execution_count": null,
   "id": "f422d57f",
   "metadata": {},
   "outputs": [],
   "source": [
    "for a in uc:\n",
    "    a.permissions = "
   ]
  },
  {
   "cell_type": "code",
   "execution_count": null,
   "id": "afab483e",
   "metadata": {},
   "outputs": [],
   "source": [
    "perm_inativo"
   ]
  },
  {
   "cell_type": "markdown",
   "id": "890c0603",
   "metadata": {},
   "source": [
    "# Ler cabeçalho e valores da celulas openpyxl"
   ]
  },
  {
   "cell_type": "code",
   "execution_count": null,
   "id": "e8c186e5",
   "metadata": {},
   "outputs": [],
   "source": [
    "from openpyxl import load_workbook\n",
    "\n",
    "wb = load_workbook(filename='Terraplenos_estruturas_contencao.xlsx')\n",
    "sheet = wb.active\n",
    "data = []\n",
    "\n",
    "headers = [cell.value for cell in sheet[1]]\n",
    "\n",
    "for row in sheet.iter_rows(min_row=2):\n",
    "    row_dict = {}\n",
    "    for key, cell in zip(headers, row):\n",
    "        row_dict[key] = cell.value\n",
    "#         if 'Foto Contenção 1_1' == key:\n",
    "#             print(cell.value)\n",
    "    data.append(row_dict)"
   ]
  },
  {
   "cell_type": "code",
   "execution_count": null,
   "id": "9aeb830c",
   "metadata": {},
   "outputs": [],
   "source": [
    "def get_sign(field, sign_field, occ, value):\n",
    "    if sign_field == 'Cor':\n",
    "        value=value.capitalize() if value != 'Amarela fluorescente (VII)' else value\n",
    "    elif sign_field == 'Tipo de Película':\n",
    "        value=value\n",
    "    values = occ.form_fields['fields']\n",
    "    item_translation = flatten([item['innerFields'] for item in values if item['displayName']==field])\n",
    "#     print(item_translation)\n",
    "    mid_translation = flatten([item['selectOptions']['options'] for item in item_translation if item['displayName'] == sign_field])\n",
    "#     print(mid_translation)\n",
    "    final_translation = {item['name']: item['value'] for item in mid_translation}\n",
    "#     print(final_translation)\n",
    "    return final_translation[value]"
   ]
  },
  {
   "cell_type": "code",
   "execution_count": null,
   "id": "862ffba9",
   "metadata": {},
   "outputs": [],
   "source": [
    "occ=OccurrenceType.objects.get(name__contains=\"Terraplenos e Estrutura de C\",company__name=\"CCR - Rio Sp\")\n",
    "occ"
   ]
  },
  {
   "cell_type": "code",
   "execution_count": null,
   "id": "7dc85c2c",
   "metadata": {},
   "outputs": [],
   "source": [
    "from openpyxl import load_workbook\n",
    "import tempfile\n",
    "\n",
    "wb = load_workbook(filename='Terraplenos_estruturas_contencao.xlsx')\n",
    "sheet = wb.active\n",
    "data = []\n",
    "\n",
    "headers = [cell.value for cell in sheet[1]]\n",
    "# img = [a for a in ws._images if a.anchor._from.row == index]\n",
    "for index, row in enumerate(sheet.iter_rows(min_row=2),1):\n",
    "    row_dict = {}\n",
    "    for key, cell in zip(headers, row):\n",
    "        row_dict[key] = cell.value\n",
    "    if row_dict['Descrição Foto Contenção 1_1'] is not None:\n",
    "        row_dict['img'] = [a for a in sheet._images if a.anchor._from.row == index]\n",
    "        for i,img in enumerate(row_dict['img']):\n",
    "            if i == 0 and row_dict['Descrição Foto Contenção 1_1'] is not None:\n",
    "                img.name = row_dict['Descrição Foto Contenção 1_1']\n",
    "                img.tipo = row_dict['Tipo Foto Contenção 1_1']\n",
    "            if i == 1 and row_dict['Descrição Foto Contenção 1_2'] is not None:\n",
    "                img.name = row_dict['Descrição Foto Contenção 1_2']\n",
    "                img.tipo = row_dict['Tipo Foto Contenção 1_2']\n",
    "            if i == 2 and row_dict['Descrição Foto Contenção 2_1'] is not None:\n",
    "                img.name = row_dict['Descrição Foto Contenção 2_1']\n",
    "                img.tipo = row_dict['Tipo Foto Contenção 2_1']\n",
    "            if i == 3 and row_dict['Descrição Foto Contenção 2_2'] is not None:\n",
    "                img.name = row_dict['Descrição Foto Contenção 2_2']\n",
    "                img.tipo = row_dict['Tipo Foto Contenção 2_2']\n",
    "            if i == 4 and row_dict['Descrição Foto Contenção 3_1'] is not None:\n",
    "                img.name = row_dict['Descrição Foto Contenção 3_1']\n",
    "                img.tipo = row_dict['Tipo Foto Contenção 3_1']\n",
    "            if i == 5 and row_dict['Descrição Foto Contenção 3_2'] is not None:\n",
    "                img.name = row_dict['Descrição Foto Contenção 3_2']\n",
    "                img.tipo = row_dict['Tipo Foto Contenção 3_2']\n",
    "            if i == 6 and row_dict['Descrição Foto Contenção 4_1'] is not None:\n",
    "                img.name = row_dict['Descrição Foto Contenção 4_1']\n",
    "                img.tipo = row_dict['Tipo Foto Contenção 4_1']\n",
    "            if i == 7 and row_dict['Descrição Foto Contenção 4_2'] is not None:\n",
    "                img.name = row_dict['Descrição Foto Contenção 4_2']\n",
    "                img.tipo = row_dict['Tipo Foto Contenção 4_2']\n",
    "        row_dict['contencao'] = row_dict['img']\n",
    "    data.append(row_dict)"
   ]
  },
  {
   "cell_type": "code",
   "execution_count": null,
   "id": "58c6e05d",
   "metadata": {},
   "outputs": [],
   "source": [
    "data[0]['contencao']"
   ]
  },
  {
   "cell_type": "code",
   "execution_count": null,
   "id": "4fcfc2e5",
   "metadata": {},
   "outputs": [],
   "source": [
    "for a in tqdm(data):\n",
    "    a['contencao'] = list(filter(None, [{'structurekind': get_sign('Tipo de Estrutura',occ,a['Tipo de Estrutura_1']) if a['Tipo de Estrutura_1'] is not None else None, 'other': a['Outro tipo de estrutura_1'], 'extenstion': a['Extensão Contenção (m)_1'], 'innerHeight': a['Altura Contenção (m)_1'],'anchor':get_sign('Ancoragens da Contenção',occ,a['Ancoragens da Contenção_1']) if a['Ancoragens da Contenção_1'] is not None else None, 'innerQuantity': a['Quantidade (unidade)_1']} if a['Tipo de Estrutura_1'] is not None else None,\n",
    "                                    {'structurekind': get_sign('Tipo de Estrutura',occ,a['Tipo de Estrutura_2']) if a['Tipo de Estrutura_2'] is not None else None, 'other': a['Outro tipo de estrutura_2'], 'extenstion': a['Extensão Contenção (m)_2'], 'innerHeight': a['Altura Contenção (m)_2'],'anchor':get_sign('Ancoragens da Contenção',occ,a['Ancoragens da Contenção_2']) if a['Ancoragens da Contenção_2'] is not None else None, 'innerQuantity': a['Quantidade (unidade)_2']} if a['Tipo de Estrutura_2'] is not None else None,\n",
    "                                    {'structurekind': get_sign('Tipo de Estrutura',occ,a['Tipo de Estrutura_3']) if a['Tipo de Estrutura_3'] is not None else None, 'other': a['Outro tipo de estrutura_3'], 'extenstion': a['Extensão Contenção (m)_3'], 'innerHeight': a['Altura Contenção (m)_3'],'anchor':get_sign('Ancoragens da Contenção',occ,a['Ancoragens da Contenção_3']) if a['Ancoragens da Contenção_3'] is not None else None, 'innerQuantity': a['Quantidade (unidade)_3']} if a['Tipo de Estrutura_3'] is not None else None,\n",
    "                                    {'structurekind': get_sign('Tipo de Estrutura',occ,a['Tipo de Estrutura_4']) if a['Tipo de Estrutura_4'] is not None else None, 'other': a['Outro tipo de estrutura_4'], 'extenstion': a['Extensão Contenção (m)_4'], 'innerHeight': a['Altura Contenção (m)_4'],'anchor':get_sign('Ancoragens da Contenção',occ,a['Ancoragens da Contenção_4']) if a['Ancoragens da Contenção_4'] is not None else None, 'innerQuantity': a['Quantidade (unidade)_4']} if a['Tipo de Estrutura_4'] is not None else None,]))"
   ]
  },
  {
   "cell_type": "code",
   "execution_count": null,
   "id": "8001fd8a",
   "metadata": {},
   "outputs": [],
   "source": [
    "rep=Reporting.objects.get(uuid='d4305bdc-cdf7-437f-8843-37ce34804d19')\n",
    "rep.__dict__"
   ]
  },
  {
   "cell_type": "code",
   "execution_count": null,
   "id": "5e2b8b9f",
   "metadata": {},
   "outputs": [],
   "source": [
    "job=Job.objects.get(uuid=\"7def981e-fe77-449e-82c5-e7710a4ffe14\")\n",
    "job"
   ]
  },
  {
   "cell_type": "code",
   "execution_count": null,
   "id": "8a1046e2",
   "metadata": {},
   "outputs": [],
   "source": [
    "job.delete()"
   ]
  },
  {
   "cell_type": "code",
   "execution_count": null,
   "id": "952e2c1c",
   "metadata": {},
   "outputs": [],
   "source": [
    "company=Company.objects.get(name__contains=\"Kapa\")\n",
    "company"
   ]
  },
  {
   "cell_type": "code",
   "execution_count": null,
   "id": "db970a2d",
   "metadata": {},
   "outputs": [],
   "source": [
    "occ= OccurrenceType.objects.filter(occurrence_kind='1',company=company)\n",
    "occ"
   ]
  },
  {
   "cell_type": "code",
   "execution_count": null,
   "id": "a6434b2d",
   "metadata": {},
   "outputs": [],
   "source": [
    "roads = Road.objects.filter(company__uuid='7c7b39ac-7711-420a-9402-0859df283634',id__in=['1698','1701','1702','1699'])"
   ]
  },
  {
   "cell_type": "code",
   "execution_count": null,
   "id": "7578a08e",
   "metadata": {},
   "outputs": [],
   "source": [
    "roads[0].__dict__"
   ]
  },
  {
   "cell_type": "code",
   "execution_count": null,
   "id": "f41249ea",
   "metadata": {},
   "outputs": [],
   "source": [
    "for a in tqdm(roads):\n",
    "    new_road=Road(uf=a.uf,direction=a.direction,name=a.name,description=a.description,marks=a.marks,metadata=a.metadata)\n",
    "    new_road.save()\n",
    "    new_road.company.add(company)"
   ]
  },
  {
   "cell_type": "code",
   "execution_count": null,
   "id": "baca639f",
   "metadata": {},
   "outputs": [],
   "source": [
    "company=Company.objects.get(name=\"Demo Concessionárias\")\n",
    "company"
   ]
  },
  {
   "cell_type": "code",
   "execution_count": null,
   "id": "0ee64c88",
   "metadata": {},
   "outputs": [],
   "source": [
    "occs=OccurrenceType.objects.filter(is_oae=True, name=\"Inspeção Especial\")"
   ]
  },
  {
   "cell_type": "code",
   "execution_count": null,
   "id": "ab80c3b2",
   "metadata": {},
   "outputs": [],
   "source": [
    "occs"
   ]
  },
  {
   "cell_type": "code",
   "execution_count": null,
   "id": "f967dc25",
   "metadata": {},
   "outputs": [],
   "source": [
    "ss=ServiceOrderActionStatusSpecs.objects.filter(\n",
    "                company=company, order=2\n",
    "            ).first()"
   ]
  },
  {
   "cell_type": "code",
   "execution_count": null,
   "id": "cc27a17c",
   "metadata": {},
   "outputs": [],
   "source": [
    "ss.__dict__"
   ]
  },
  {
   "cell_type": "code",
   "execution_count": null,
   "id": "0e232db8",
   "metadata": {},
   "outputs": [],
   "source": [
    "from helpers.strings import get_obj_from_path\n",
    "from helpers.apps.reportings import get_lane"
   ]
  },
  {
   "cell_type": "code",
   "execution_count": null,
   "id": "b5c6acfa",
   "metadata": {},
   "outputs": [],
   "source": [
    "possible_lane_path = (\n",
    "        \"reporting__fields__occurrence_kind__selectoptions__options\"\n",
    "    )\n",
    "occurrence_types = get_obj_from_path(\n",
    "        company.custom_options, possible_lane_path\n",
    "    )"
   ]
  },
  {
   "cell_type": "code",
   "execution_count": null,
   "id": "aed6bf86",
   "metadata": {},
   "outputs": [],
   "source": [
    "occurrence_types"
   ]
  },
  {
   "cell_type": "code",
   "execution_count": null,
   "id": "208dd0c1",
   "metadata": {},
   "outputs": [],
   "source": [
    "dicionario=[{'name': 'Levantamento', 'value': '1'},\n",
    " {'name': 'Inventário', 'value': '2'},\n",
    " {'name': 'Pavimento flexível', 'value': '13'}]"
   ]
  },
  {
   "cell_type": "code",
   "execution_count": null,
   "id": "556352af",
   "metadata": {},
   "outputs": [],
   "source": [
    "\n",
    "dicionario[0]['teste']=dicionario[0].pop('name')\n",
    "dicionario"
   ]
  },
  {
   "cell_type": "code",
   "execution_count": null,
   "id": "5dc69948",
   "metadata": {},
   "outputs": [],
   "source": [
    "car = {\n",
    "  \"brand\": \"Ford\",\n",
    "  \"model\": \"Mustang\",\n",
    "  \"year\": 1964\n",
    "}\n",
    "\n",
    "car['marca']=car.pop('brand')"
   ]
  },
  {
   "cell_type": "code",
   "execution_count": null,
   "id": "419944c5",
   "metadata": {},
   "outputs": [],
   "source": [
    "car"
   ]
  },
  {
   "cell_type": "code",
   "execution_count": null,
   "id": "d519c10d",
   "metadata": {},
   "outputs": [],
   "source": [
    "ui=UserInCompany.objects.filter(user__username=\"erico.lopes@kartado.com.br\",permissions__isnull=True)\n",
    "ui.count()"
   ]
  },
  {
   "cell_type": "code",
   "execution_count": null,
   "id": "8d23eee7",
   "metadata": {},
   "outputs": [],
   "source": [
    "job = Job.objects.get(uuid='81eccfc8-5b53-4c9a-8e3d-c39f71d0209c')\n",
    "job.__dict__"
   ]
  },
  {
   "cell_type": "code",
   "execution_count": null,
   "id": "7934723e",
   "metadata": {},
   "outputs": [],
   "source": [
    "ui=UserInCompany.objects.filter(user__username='matheus.santos')\n",
    "ui[0].__dict__,ui[1].permissions.name"
   ]
  },
  {
   "cell_type": "code",
   "execution_count": null,
   "id": "7f4f4db4",
   "metadata": {},
   "outputs": [],
   "source": [
    "reps= Reporting.objects.filter(company__name=\"Caminhos da Serra Gaúcha\",occurrence_type__name__in=['Cercas',''])\n",
    "reps.count(),reps[0].__dict__"
   ]
  },
  {
   "cell_type": "code",
   "execution_count": null,
   "id": "7f4a4e4e",
   "metadata": {},
   "outputs": [],
   "source": [
    "rep_edit=[]\n",
    "for a in tqdm(reps):\n",
    "    if 'extension' in a.form_data or 'extensao' in a.form_data:\n",
    "        rep_edit.append(a)"
   ]
  },
  {
   "cell_type": "code",
   "execution_count": null,
   "id": "3a3ca79c",
   "metadata": {},
   "outputs": [],
   "source": [
    "len(rep_edit)"
   ]
  },
  {
   "cell_type": "code",
   "execution_count": null,
   "id": "a78f0d03",
   "metadata": {},
   "outputs": [],
   "source": [
    "for a in tqdm(rep_edit):\n",
    "    a.save()"
   ]
  },
  {
   "cell_type": "markdown",
   "id": "ba1fc5cf",
   "metadata": {},
   "source": [
    "# CART alterar equipe rdo"
   ]
  },
  {
   "cell_type": "code",
   "execution_count": null,
   "id": "5b9ca90c",
   "metadata": {},
   "outputs": [],
   "source": [
    "company=Company.objects.get(name=\"CART\")\n",
    "company"
   ]
  },
  {
   "cell_type": "code",
   "execution_count": null,
   "id": "5ffff4b1",
   "metadata": {},
   "outputs": [],
   "source": [
    "rd = MultipleDailyReport.objects.get(number=\"CART-RDO-2023.19774\")\n",
    "rd"
   ]
  },
  {
   "cell_type": "code",
   "execution_count": null,
   "id": "d6036978",
   "metadata": {},
   "outputs": [],
   "source": [
    "rd.firm = Firm.objects.get(company=company,name='RMA_T3_07')\n",
    "rd.save()"
   ]
  },
  {
   "cell_type": "code",
   "execution_count": null,
   "id": "edc8897f",
   "metadata": {},
   "outputs": [],
   "source": [
    "from django.db.models import Q"
   ]
  },
  {
   "cell_type": "code",
   "execution_count": null,
   "id": "2c507dec",
   "metadata": {},
   "outputs": [],
   "source": [
    "users = User.objects.filter(Q(email__icontains='ramosleonardo') | Q(email__icontains='leonardo@kartado.com.br') | Q(email__icontains='leonardo.ramos.1@hotmail.com') | Q(username='leonardo.ramos'))"
   ]
  },
  {
   "cell_type": "code",
   "execution_count": null,
   "id": "2dc31837",
   "metadata": {},
   "outputs": [],
   "source": [
    "users.count(),users[0].__dict__"
   ]
  },
  {
   "cell_type": "code",
   "execution_count": null,
   "id": "8508bc91",
   "metadata": {},
   "outputs": [],
   "source": [
    "leo=[]\n",
    "for a in users:\n",
    "    if a.is_active is not True:\n",
    "        print(a.username)\n",
    "        leo.append(a.uuid)"
   ]
  },
  {
   "cell_type": "code",
   "execution_count": null,
   "id": "37a42038",
   "metadata": {},
   "outputs": [],
   "source": [
    "companies=[]\n",
    "for a in users:\n",
    "    a.is_active = False\n",
    "    a.is_staff = False\n",
    "    a.is_superuser = False\n",
    "    a.save()\n",
    "    "
   ]
  },
  {
   "cell_type": "code",
   "execution_count": null,
   "id": "2b72eef7",
   "metadata": {},
   "outputs": [],
   "source": [
    "companies"
   ]
  },
  {
   "cell_type": "code",
   "execution_count": null,
   "id": "5b7fd2fa",
   "metadata": {},
   "outputs": [],
   "source": [
    "Reporting.objects.filter(created_by__in=leo).count()"
   ]
  },
  {
   "cell_type": "code",
   "execution_count": null,
   "id": "45e11032",
   "metadata": {},
   "outputs": [],
   "source": [
    "programacoes = ['PROG-2023.00249',\n",
    "'PROG-2023.00383',\n",
    "'PROG-2023.00384',\n",
    "'PROG-2023.00385',\n",
    "'PROG-2023.00386',\n",
    "'PROG-2023.00387',\n",
    "'PROG-2023.00388',\n",
    "'PROG-2023.00389',\n",
    "'PROG-2023.00390',\n",
    "'PROG-2023.00391',\n",
    "'PROG-2023.00392',\n",
    "'PROG-2023.00393',\n",
    "'PROG-2023.00394',\n",
    "'PROG-2023.00398',\n",
    "'PROG-2023.00397',\n",
    "'PROG-2023.00399',\n",
    "'PROG-2023.00400',\n",
    "'PROG-2023.00401',\n",
    "'PROG-2023.00402',\n",
    "'PROG-2023.00434',\n",
    "'PROG-2023.00403',\n",
    "'PROG-2023.00404',\n",
    "'PROG-2023.00435',\n",
    "'PROG-2023.00405',\n",
    "'PROG-2023.00406',\n",
    "'PROG-2023.00407']\n",
    "inspecao = ['05.03.01.36',\n",
    "'05.03.01.48',\n",
    "'05.03.01.37',\n",
    "'05.03.29.01.00.06',\n",
    "'05.03.29.01.00.07',\n",
    "'05.03.29.01.00.17',\n",
    "'05.03.29.01.00.20',\n",
    "'05.03.29.01.00.23',\n",
    "'05.03.29.01.00.26',\n",
    "'05.03.29.01.00.27',\n",
    "'05.03.29.01.00.29',\n",
    "'05.03.29.01.00.36',\n",
    "'05.03.29.01.00.41',\n",
    "'05.03.29.01.00.42',\n",
    "'05.03.29.04.00.03',\n",
    "'05.03.29.04.00.04',\n",
    "'05.03.29.04.00.06',\n",
    "'05.03.29.04.00.05',\n",
    "'05.03.03.78',\n",
    "'05.03.04.93',\n",
    "'05.03.04.73',\n",
    "'05.03.29.09.00.03',\n",
    "'05.03.29.09.00.04',\n",
    "'05.03.29.10.00.03',\n",
    "'05.03.29.13.00.01',\n",
    "'05.03.29.23.00.09'\n",
    "]"
   ]
  },
  {
   "cell_type": "code",
   "execution_count": null,
   "id": "68a01c30",
   "metadata": {},
   "outputs": [],
   "source": [
    "for a,b in zip(programacoes,inspecao):\n",
    "    \n",
    "    try:\n",
    "        job = Job.objects.get(company__name=\"Arteris Via Paulista - SISOAE\", number=a)\n",
    "        job.parent_inventory = Reporting.objects.get(company__name=\"Arteris Via Paulista - SISOAE\", number=b)\n",
    "        job.save()\n",
    "    except:\n",
    "        print(a,b)"
   ]
  },
  {
   "cell_type": "code",
   "execution_count": null,
   "id": "ff0bf7ed",
   "metadata": {},
   "outputs": [],
   "source": [
    "job = Job.objects.get(company__name=\"Arteris Via Paulista - SISOAE\", number='PROG-2023.00387')\n",
    "inventory = Reporting.objects.get(company__name=\"Arteris Via Paulista - SISOAE\", number='05.03.29.01.00.17')\n",
    "job.parent_inventory = inventory\n",
    "job.save()"
   ]
  },
  {
   "cell_type": "code",
   "execution_count": null,
   "id": "6e52ddf0",
   "metadata": {},
   "outputs": [],
   "source": [
    "from helpers.strings import get_obj_from_path\n",
    "possible_lane_path = (\n",
    "        \"reporting__fields__occurrence_kind__selectoptions__options\"\n",
    "    )\n",
    "occurrence_types = get_obj_from_path(\n",
    "        Company.objects.get(name=\"Via Brasil\").custom_options, possible_lane_path\n",
    "    )\n",
    "occurrence_types"
   ]
  },
  {
   "cell_type": "code",
   "execution_count": null,
   "id": "8d0d60f4",
   "metadata": {},
   "outputs": [],
   "source": [
    "from tqdm.notebook import tqdm\n",
    "reps=Reporting.objects.filter(company__name='Eixo SP',\n",
    "                              occurrence_type__name=\"Sinalização vertical\", \n",
    "                              found_at__gte='2020-1-1',\n",
    "                              found_at__lte='2022-5-31',\n",
    "                              lot__in=['2','3'],\n",
    "                              occurrence_type__occurrence_kind=2)\n",
    "reps.count()"
   ]
  },
  {
   "cell_type": "code",
   "execution_count": null,
   "id": "e1ddd50f",
   "metadata": {},
   "outputs": [],
   "source": [
    "for b in range(reps.count()):\n",
    "    for a in tqdm(reps[:900]):\n",
    "        a.delete()"
   ]
  },
  {
   "cell_type": "code",
   "execution_count": null,
   "id": "027fcc4b",
   "metadata": {},
   "outputs": [],
   "source": []
  },
  {
   "cell_type": "code",
   "execution_count": null,
   "id": "d270d643",
   "metadata": {},
   "outputs": [],
   "source": [
    "con = Contract.objects.filter(roads__company__name=\"Arteris Fernão Dias - Conserva\").first()\n",
    "# get_item_total_price(con,con.performance_services.all())\n",
    "con.get_item_total_price()"
   ]
  },
  {
   "cell_type": "code",
   "execution_count": null,
   "id": "ce4094b3",
   "metadata": {},
   "outputs": [],
   "source": [
    "con.performance_services.all()[0].weight"
   ]
  },
  {
   "cell_type": "code",
   "execution_count": null,
   "id": "5c64cc76",
   "metadata": {},
   "outputs": [],
   "source": [
    "con.total_price"
   ]
  },
  {
   "cell_type": "code",
   "execution_count": null,
   "id": "ec4645cf",
   "metadata": {},
   "outputs": [],
   "source": [
    "conH = Contract.history.filter(uuid=\"06d69ed6-0b7c-4d44-8f9c-bc8f13be43a8\").order_by('-history_date')"
   ]
  },
  {
   "cell_type": "code",
   "execution_count": null,
   "id": "a6b3e92e",
   "metadata": {},
   "outputs": [],
   "source": [
    "conH.__dict__"
   ]
  },
  {
   "cell_type": "code",
   "execution_count": null,
   "id": "ff16a62d",
   "metadata": {},
   "outputs": [],
   "source": [
    "for a in conH:\n",
    "    print(a.history_user,a.history_date)"
   ]
  },
  {
   "cell_type": "code",
   "execution_count": null,
   "id": "f0764233",
   "metadata": {},
   "outputs": [],
   "source": [
    "a=UserPermission.objects.filter(companies__name=\"ATIVO-TREINAMENTO ENERGIA\",name=\"GERENCIAL\")\n",
    "a,a[0].__dict__"
   ]
  },
  {
   "cell_type": "code",
   "execution_count": null,
   "id": "24000bdc",
   "metadata": {},
   "outputs": [],
   "source": [
    "ui=UserInCompany.objects.get(user=User.objects.get(username=\"rlcs\"),\n",
    "                 company=Company.objects.get(name=\"ATIVO-TREINAMENTO ENERGIA\"),\n",
    "                permissions=a[0])\n",
    "ui"
   ]
  },
  {
   "cell_type": "code",
   "execution_count": null,
   "id": "f60b642b",
   "metadata": {},
   "outputs": [],
   "source": [
    "ui.permissions.name"
   ]
  },
  {
   "cell_type": "code",
   "execution_count": null,
   "id": "4c6218da",
   "metadata": {},
   "outputs": [],
   "source": [
    "ui.delete().strip(' .,;')"
   ]
  },
  {
   "cell_type": "code",
   "execution_count": null,
   "id": "b5d8f9f0",
   "metadata": {},
   "outputs": [],
   "source": [
    "st='luan .,;;'\n",
    "st = st.strip(' .,;')\n",
    "print(st)"
   ]
  },
  {
   "cell_type": "code",
   "execution_count": null,
   "id": "f74c58c8",
   "metadata": {},
   "outputs": [],
   "source": [
    "UserInCompany._meta.get_fields()"
   ]
  },
  {
   "cell_type": "code",
   "execution_count": null,
   "id": "eee54a59",
   "metadata": {},
   "outputs": [],
   "source": [
    "company=Company.objects.get(name=\"Caminhos da Serra Gaúcha\")\n",
    "company"
   ]
  },
  {
   "cell_type": "code",
   "execution_count": null,
   "id": "2f011ba3",
   "metadata": {},
   "outputs": [],
   "source": [
    "reps=Reporting.objects.filter(occurrence_type__occurrence_kind='2', road__name='BRS-470')\n",
    "reps.count()"
   ]
  },
  {
   "cell_type": "code",
   "execution_count": null,
   "id": "6f93ff87",
   "metadata": {},
   "outputs": [],
   "source": [
    "from tqdm.notebook import tqdm\n",
    "for a in tqdm(reps):\n",
    "    a.delete()"
   ]
  },
  {
   "cell_type": "code",
   "execution_count": null,
   "id": "b7354381",
   "metadata": {},
   "outputs": [],
   "source": [
    "import pandas as pd\n",
    "\n",
    "# Primeiro DataFrame\n",
    "df1 = pd.DataFrame({'A': ['A0', 'A1', 'A2', 'A3'],\n",
    "                    'B': ['B0', 'B1', 'B2', 'B3']})\n",
    "\n",
    "# Segundo DataFrame\n",
    "df2 = pd.DataFrame({'A': ['A4', 'A5', 'A6', 'A7'],\n",
    "                    'B': ['B4', 'B5', 'B6', 'B7']})\n",
    "\n",
    "# Terceiro DataFrame\n",
    "df3 = pd.DataFrame({'A': ['A8', 'A9', 'A10', 'A11'],\n",
    "                    'B': ['B8', 'B9', 'B10', 'B11']})\n",
    "\n",
    "# Concatenando os DataFrames\n",
    "result = pd.concat([df1, df2,df3], axis=0)\n",
    "\n",
    "result"
   ]
  },
  {
   "cell_type": "code",
   "execution_count": null,
   "id": "6025814a",
   "metadata": {},
   "outputs": [],
   "source": [
    "ar=AccessRequest.objects.filter(company__name=\"ATIVO-TREINAMENTO ENERGIA\").order_by('-created_at')\n",
    "ar[0].__dict__"
   ]
  },
  {
   "cell_type": "code",
   "execution_count": null,
   "id": "11ef0a20",
   "metadata": {},
   "outputs": [],
   "source": [
    "ar[0].delete()"
   ]
  },
  {
   "cell_type": "code",
   "execution_count": null,
   "id": "4b83d42b",
   "metadata": {},
   "outputs": [],
   "source": [
    "ui = UserInCompany.objects.filter(permissions=UserPermission.objects.get(companies__name=\"Arteris Intervias\", name=\"Visualizador\"))\n",
    "for a in ui:\n",
    "    print(a.user.full_name,' - ',a.user.username)"
   ]
  },
  {
   "cell_type": "markdown",
   "id": "421ea007",
   "metadata": {},
   "source": [
    "# Correção CCR apiName, displayName e selectOptions"
   ]
  },
  {
   "cell_type": "code",
   "execution_count": null,
   "id": "ebad4f29",
   "metadata": {},
   "outputs": [],
   "source": [
    "from openpyxl import load_workbook\n",
    "from tqdm.notebook import tqdm\n",
    "import json"
   ]
  },
  {
   "cell_type": "code",
   "execution_count": null,
   "id": "783a490f",
   "metadata": {},
   "outputs": [],
   "source": [
    "def load_excel(filename,sheetPosision=0):\n",
    "    wb = load_workbook(filename=filename+'.xlsx')\n",
    "    sheet = wb[wb.sheetnames[sheetPosision]]\n",
    "    data = []\n",
    "\n",
    "    headers = [cell.value for cell in sheet[1]]\n",
    "\n",
    "    for row in sheet.iter_rows(min_row=2):\n",
    "        row_dict = {}\n",
    "        for key, cell in zip(headers, row):\n",
    "            row_dict[key] = cell.value\n",
    "    #         if 'Foto Contenção 1_1' == key:\n",
    "    #             print(cell.value)\n",
    "        data.append(row_dict)\n",
    "    return data"
   ]
  },
  {
   "cell_type": "code",
   "execution_count": null,
   "id": "a341b49c",
   "metadata": {},
   "outputs": [],
   "source": [
    "dados=[]\n",
    "for a in tqdm(load_excel('CCR Padronizacao',1)):\n",
    "    occ = OccurrenceType.objects.get(company__name=\"CCR - Rio Sp\",name=a['occ_type'],occurrence_kind=a['r'])\n",
    "    for o in occ.form_fields['fields']: \n",
    "        if a['apiName'] == o['apiName']:\n",
    "            o['apiName'] = a['apiName (Padrão)']\n",
    "    occ.save()\n",
    "#     dados.append(occ)\n",
    "            "
   ]
  },
  {
   "cell_type": "code",
   "execution_count": null,
   "id": "06590a9b",
   "metadata": {},
   "outputs": [],
   "source": [
    "dados2=[]\n",
    "for a in tqdm(load_excel('CCR Padronizacao',2)):\n",
    "    occ = OccurrenceType.objects.get(company__name=\"CCR - Rio Sp\",name=a['occ_type'],occurrence_kind=a['r'])\n",
    "    for o in occ.form_fields['fields']: \n",
    "        if a['apiName'] == o['apiName'] and a['displayName'] == o['displayName']:\n",
    "            o['apiName'] = a['apiName (Padrão)']\n",
    "            o['displayName'] = a['displayName (Padrão)']\n",
    "            if a['dataType'] == 'select':\n",
    "                selectO = str(a['selectOptions (Padrão)'])\n",
    "                o['selectOptions'] = json.loads(selectO.replace(\"'\", '\"'))\n",
    "    occ.save()\n",
    "#     dados2.append(occ)"
   ]
  },
  {
   "cell_type": "code",
   "execution_count": null,
   "id": "071c3a65",
   "metadata": {},
   "outputs": [],
   "source": [
    "rep = Reporting.objects.filter(company__name=\"Garcia Monteiro\", form_data__material_provider='2')"
   ]
  },
  {
   "cell_type": "code",
   "execution_count": null,
   "id": "cd0c140d",
   "metadata": {},
   "outputs": [],
   "source": [
    "rep[280]"
   ]
  },
  {
   "cell_type": "code",
   "execution_count": null,
   "id": "291cb219",
   "metadata": {},
   "outputs": [],
   "source": [
    "reps=Reporting.objects.filter(company__name=\"Eixo Sp - Pavimento\", number__in=[\"EIXO-TER-2023.00541\",\"EIXO-TER-2023.00537\"])"
   ]
  },
  {
   "cell_type": "code",
   "execution_count": null,
   "id": "13e7b7de",
   "metadata": {},
   "outputs": [],
   "source": [
    "reps.count()"
   ]
  },
  {
   "cell_type": "code",
   "execution_count": null,
   "id": "d1061731",
   "metadata": {},
   "outputs": [],
   "source": [
    "reps=Reporting.objects.filter(road__name__icontains='SP-345', company__name=\"Arteris Via Paulista - SISOAE\").order_by('-found_at')"
   ]
  },
  {
   "cell_type": "code",
   "execution_count": null,
   "id": "a806d6e5",
   "metadata": {},
   "outputs": [],
   "source": [
    "reps[0].__dict__"
   ]
  },
  {
   "cell_type": "code",
   "execution_count": null,
   "id": "dcdb11c7",
   "metadata": {},
   "outputs": [],
   "source": [
    "reps=Reporting.objects.filter(road__name__icontains='453', company__name=\"Caminhos da Serra Gaúcha\", occurrence_type__name='Sinalização Vertical')"
   ]
  },
  {
   "cell_type": "code",
   "execution_count": null,
   "id": "fd94a005",
   "metadata": {},
   "outputs": [],
   "source": [
    "reps.count()"
   ]
  },
  {
   "cell_type": "code",
   "execution_count": null,
   "id": "e12aff75",
   "metadata": {},
   "outputs": [],
   "source": [
    "from tqdm.notebook import tqdm\n",
    "for a in tqdm(reps):\n",
    "    a.delete()"
   ]
  },
  {
   "cell_type": "code",
   "execution_count": null,
   "id": "d00e90dc",
   "metadata": {},
   "outputs": [],
   "source": [
    "occ = OccurrenceType.objects.filter(company__name=\"Caminhos da Serra Gaúcha\", occurrence_kind='2')"
   ]
  },
  {
   "cell_type": "code",
   "execution_count": null,
   "id": "33c0cc7c",
   "metadata": {},
   "outputs": [],
   "source": [
    "for a in occ:\n",
    "    spec=OccurrenceTypeSpecs.objects.get(occurrence_type=a)\n",
    "    print(spec.color)"
   ]
  },
  {
   "cell_type": "code",
   "execution_count": null,
   "id": "47a72383",
   "metadata": {},
   "outputs": [],
   "source": [
    "lista=iter(['#355E1F', '#339936', '#2C846A', '#235E6A', '#1E4559', '#3D77B8', '#3D77B8', '#CA7661', '#BA953E', '#AED175', '#ADE4AF', '#672261', '#A23660'])"
   ]
  },
  {
   "cell_type": "code",
   "execution_count": null,
   "id": "2a4e640f",
   "metadata": {},
   "outputs": [],
   "source": [
    "for a in occ:\n",
    "    a.color = next(lista)\n",
    "#     a.save()\n",
    "    print(a.color)"
   ]
  },
  {
   "cell_type": "code",
   "execution_count": null,
   "id": "4a2c13fb",
   "metadata": {},
   "outputs": [],
   "source": [
    "mb = MeasurementBulletin.objects.filter(uuid__in=['f2129e5e-054f-4741-bcfa-14a92d75129b','b6cd6105-21aa-429b-898a-640326b8e3ef'])"
   ]
  },
  {
   "cell_type": "code",
   "execution_count": null,
   "id": "77e54337",
   "metadata": {},
   "outputs": [],
   "source": []
  },
  {
   "cell_type": "code",
   "execution_count": null,
   "id": "04fc0054",
   "metadata": {},
   "outputs": [],
   "source": [
    "import os\n",
    "import json\n",
    "import re\n",
    "\n",
    "folder_path = 'CCR_Problem'\n",
    "new_options=[]\n",
    "for filename in os.listdir(folder_path):\n",
    "    if filename.endswith('.json'):\n",
    "        with open(os.path.join(folder_path, filename), 'r') as file:\n",
    "            data={}\n",
    "            key=re.findall(r'\\d+', filename.replace('.json',''))\n",
    "            data[key[0]] = json.load(file)\n",
    "            new_options.append(data)"
   ]
  },
  {
   "cell_type": "code",
   "execution_count": null,
   "id": "74daa1af",
   "metadata": {},
   "outputs": [],
   "source": [
    "for a in new_options:\n",
    "    kind=str(list(a.keys())[0])\n",
    "    occs = OccurrenceType.objects.filter(occurrence_kind=kind,company__name=\"CCR - Rio Sp\")\n",
    "    for b in occs:\n",
    "        for c in b.form_fields['fields']:\n",
    "            if c['apiName'] == 'problem':\n",
    "                c['selectOptions']['options'] = a[kind]\n",
    "        b.save()"
   ]
  },
  {
   "cell_type": "code",
   "execution_count": null,
   "id": "5e1f8455",
   "metadata": {},
   "outputs": [],
   "source": [
    "numbers=['ALS-2023.20074',\n",
    "'ALS-2023.22563',\n",
    "'ALS-2023.18715',\n",
    "'ALS-2023.22597']"
   ]
  },
  {
   "cell_type": "code",
   "execution_count": null,
   "id": "efc91c04",
   "metadata": {},
   "outputs": [],
   "source": [
    "reps=Reporting.objects.filter(number__in=numbers)"
   ]
  },
  {
   "cell_type": "code",
   "execution_count": null,
   "id": "79293ad1",
   "metadata": {},
   "outputs": [],
   "source": [
    "reps.count(),reps[0]"
   ]
  },
  {
   "cell_type": "code",
   "execution_count": null,
   "id": "3acede76",
   "metadata": {},
   "outputs": [],
   "source": [
    "pr=ProcedureResource.objects.filter(reporting=reps[3]\n",
    "                                   )"
   ]
  },
  {
   "cell_type": "code",
   "execution_count": null,
   "id": "3d61e5d9",
   "metadata": {},
   "outputs": [],
   "source": [
    "pr"
   ]
  },
  {
   "cell_type": "code",
   "execution_count": null,
   "id": "19c62104",
   "metadata": {},
   "outputs": [],
   "source": [
    "con = Contract.objects.get(uuid=\"e17c6a19-b59e-4fe8-9dba-b46face83d40\")\n",
    "con.delete()"
   ]
  },
  {
   "cell_type": "code",
   "execution_count": null,
   "id": "8cd17a5a",
   "metadata": {},
   "outputs": [],
   "source": [
    "rdo=MultipleDailyReport.objects.filter(number__in=['CART-RDO-2023.13936'])\n",
    "firm=Firm.objects.get(name='EPO_T3_01')\n",
    "rdo,firm"
   ]
  },
  {
   "cell_type": "code",
   "execution_count": null,
   "id": "7beb33a1",
   "metadata": {},
   "outputs": [],
   "source": [
    "for a in rdo:\n",
    "    a.firm=firm\n",
    "    a.save()"
   ]
  },
  {
   "cell_type": "code",
   "execution_count": null,
   "id": "95ecec1e",
   "metadata": {},
   "outputs": [],
   "source": [
    "rdo=MultipleDailyReport.objects.filter(number__in=['CART-RDO-2023.13983'])"
   ]
  },
  {
   "cell_type": "code",
   "execution_count": null,
   "id": "fd32d173",
   "metadata": {},
   "outputs": [],
   "source": [
    "rdo.delete()"
   ]
  },
  {
   "cell_type": "code",
   "execution_count": null,
   "id": "015963ce",
   "metadata": {},
   "outputs": [],
   "source": [
    "company=Company.objects.get(name='Construtora Castilho')\n",
    "company"
   ]
  },
  {
   "cell_type": "code",
   "execution_count": null,
   "id": "8f46ba72",
   "metadata": {},
   "outputs": [],
   "source": [
    "roads = Road.objects.filter(company__name=\"Caminhos da Serra Gaúcha\", name='RSC-453')\n",
    "roads.count()"
   ]
  },
  {
   "cell_type": "code",
   "execution_count": null,
   "id": "23d831ed",
   "metadata": {},
   "outputs": [],
   "source": [
    "# roads[0].company.add(Company.objects.get(name='Demo Concessionárias'))"
   ]
  },
  {
   "cell_type": "code",
   "execution_count": null,
   "id": "353b7e68",
   "metadata": {},
   "outputs": [],
   "source": [
    "for a in tqdm(roads):\n",
    "    #cria nova road sem o lot_logic\n",
    "    r=Road(name=a.name,direction=a.direction,marks=a.marks,uf=a.uf,metadata=a.metadata)\n",
    "    r.save()\n",
    "    r.company.add(company)"
   ]
  },
  {
   "cell_type": "code",
   "execution_count": null,
   "id": "29ef27e5",
   "metadata": {},
   "outputs": [],
   "source": [
    "Entity._meta.get_fields()"
   ]
  },
  {
   "cell_type": "code",
   "execution_count": null,
   "id": "dc30abc1",
   "metadata": {},
   "outputs": [],
   "source": [
    "from datetime import datetime, timedelta"
   ]
  },
  {
   "cell_type": "code",
   "execution_count": null,
   "id": "4adc5d98",
   "metadata": {},
   "outputs": [],
   "source": [
    "reps=Reporting.objects.filter(occurrence_type__occurrence_kind='2',\n",
    "                              company__name='Caminhos da Serra Gaúcha',\n",
    "                              occurrence_type__name__icontains='Sinalização Vertical',\n",
    "                              form_data__retro__isnull=False)"
   ]
  },
  {
   "cell_type": "code",
   "execution_count": null,
   "id": "bf3b5c1b",
   "metadata": {
    "scrolled": true
   },
   "outputs": [],
   "source": [
    "reps[0].form_data['retro'][0]"
   ]
  },
  {
   "cell_type": "code",
   "execution_count": null,
   "id": "200cd623",
   "metadata": {},
   "outputs": [],
   "source": [
    "for b in reps:\n",
    "    print(b.number)\n",
    "    for a in b.form_data['retro']:\n",
    "        print(a['type_of_film'])"
   ]
  },
  {
   "cell_type": "code",
   "execution_count": null,
   "id": "fc977a57",
   "metadata": {},
   "outputs": [],
   "source": [
    "for occ in OccurrenceType.objects.filter(company__name=\"Entrevias\"):\n",
    "    for a in occ.form_fields['fields']:\n",
    "        if 'fresa' in a['displayName']:\n",
    "            print(occ.name)\n",
    "        if 'select' in a['dataType']:\n",
    "            for b in a['selectOptions']['options']:\n",
    "                if 'fresa' in b['name']:\n",
    "                    print(occ.name)"
   ]
  },
  {
   "cell_type": "code",
   "execution_count": null,
   "id": "6b9f31c8",
   "metadata": {},
   "outputs": [],
   "source": [
    "for a in Reporting.objects.filter(occurrence_type__occurrence_kind='2',\n",
    "                                  occurrence_type__name__icontains='Sinalização Aérea'):\n",
    "    if a.point[0] == -51.247291 and a.point[1] == -29.189454:\n",
    "        print('Serial:',a.number,' | Classe:',a.occurrence_type.name.split(' - ')[0],' | ',a.road_name, 'Coordenadas:', a.point[1],a.point[0],' | Atualizado em:',a.updated_at.strftime('%d-%m-%Y | %H:%M'))"
   ]
  },
  {
   "cell_type": "code",
   "execution_count": null,
   "id": "262e45f7",
   "metadata": {},
   "outputs": [],
   "source": [
    "for a in Reporting.objects.filter(occurrence_type__occurrence_kind='2', road_name__icontains='122',\n",
    "                                  occurrence_type__name__icontains='Sinalização Horizontal'):\n",
    "    if (a.point[0] == -51.340856 and a.point[1] == -29.309806) or (a.point[0] == -51.252303 and a.point[1] == -29.192978) or (a.point[0] == -51.181926 and a.point[1] == -28.999584) or (a.point[0] == -51.105770 and a.point[1] == -28.662179):\n",
    "        print('Serial:',a.number,' | Classe:',a.occurrence_type.name.split(' - ')[0],' | ',a.road_name, 'Coordenadas:', a.point[1],a.point[0],' | Atualizado em:',a.updated_at.strftime('%d-%m-%Y | %H:%M'))"
   ]
  },
  {
   "cell_type": "code",
   "execution_count": null,
   "id": "6305bc7f",
   "metadata": {},
   "outputs": [],
   "source": [
    "for a in Reporting.objects.filter(occurrence_type__occurrence_kind='2', road_name__icontains='453',\n",
    "                                  occurrence_type__name__icontains='Sinalização Vertical'):\n",
    "    if (a.point[0] == -51.4767 and a.point[1] == -29.2000) or (a.point[0] == -51.3368 and a.point[1] == -29.2216) or (a.point[0] == -51.485492 and a.point[1] == -29.207537):\n",
    "        print('Serial:',a.number,' | Classe:',a.occurrence_type.name.split(' - ')[0],' | ',a.road_name, 'Coordenadas:', a.point[1],a.point[0],' | Atualizado em:',a.updated_at.strftime('%d-%m-%Y | %H:%M'))"
   ]
  },
  {
   "cell_type": "code",
   "execution_count": null,
   "id": "e424bb24",
   "metadata": {},
   "outputs": [],
   "source": [
    "occ = OccurrenceType.objects.all()"
   ]
  },
  {
   "cell_type": "code",
   "execution_count": null,
   "id": "05fed929",
   "metadata": {},
   "outputs": [],
   "source": [
    "occ.count(),occ[0].form_fields['fields']"
   ]
  },
  {
   "cell_type": "code",
   "execution_count": null,
   "id": "d533b704",
   "metadata": {},
   "outputs": [],
   "source": [
    "from tqdm.notebook import tqdm\n",
    "dados=[{}]\n",
    "\n",
    "for a in tqdm(occ):\n",
    "    if 'fields' in a.form_fields:\n",
    "        for b in a.form_fields['fields']:\n",
    "            try:\n",
    "                if 'apiName' in b or 'displayName' in b:\n",
    "                    dados.append({'apiName':b['apiName'],'displayName':b['displayName']})\n",
    "                else:\n",
    "                    dados.append({'apiName':b['api_name'],'displayName':b['display_name']})\n",
    "            except:\n",
    "                pass"
   ]
  },
  {
   "cell_type": "code",
   "execution_count": null,
   "id": "ce73f564",
   "metadata": {},
   "outputs": [],
   "source": [
    "import pandas as pd\n",
    "df2=pd.DataFrame(data=dados).to_excel('RelPedro.xlsx')"
   ]
  },
  {
   "cell_type": "code",
   "execution_count": null,
   "id": "9c984c53",
   "metadata": {},
   "outputs": [],
   "source": [
    "lista = [len(a['form_fields__fields']) if a['form_fields__fields'] is not None else 0 for a in occ]"
   ]
  },
  {
   "cell_type": "code",
   "execution_count": null,
   "id": "80da3651",
   "metadata": {},
   "outputs": [],
   "source": [
    "lista"
   ]
  },
  {
   "cell_type": "code",
   "execution_count": null,
   "id": "490cdb79",
   "metadata": {},
   "outputs": [],
   "source": [
    "from collections import Counter\n",
    "\n",
    "count = dict(Counter(lista))\n",
    "\n",
    "print(count)"
   ]
  },
  {
   "cell_type": "code",
   "execution_count": null,
   "id": "46333e85",
   "metadata": {
    "scrolled": true
   },
   "outputs": [],
   "source": [
    "import pandas as pd\n",
    "df2=pd.DataFrame(data=count,index=['a']).to_excel('RelProduto.xlsx')"
   ]
  },
  {
   "cell_type": "code",
   "execution_count": null,
   "id": "c9c79875",
   "metadata": {},
   "outputs": [],
   "source": [
    "df2.tail()"
   ]
  },
  {
   "cell_type": "code",
   "execution_count": null,
   "id": "2feba502",
   "metadata": {},
   "outputs": [],
   "source": [
    "ui = UserInCompany.objects.filter(user__username='Wagner.França')"
   ]
  },
  {
   "cell_type": "code",
   "execution_count": null,
   "id": "bbb34f76",
   "metadata": {},
   "outputs": [],
   "source": [
    "ui[0].permissions"
   ]
  },
  {
   "cell_type": "code",
   "execution_count": null,
   "id": "d9ee335e",
   "metadata": {},
   "outputs": [],
   "source": [
    "rdo = MultipleDailyReport.objects.get(number='RDO AFD-RDO-2023.01408')\n",
    "rdo"
   ]
  },
  {
   "cell_type": "code",
   "execution_count": null,
   "id": "f7a94749",
   "metadata": {},
   "outputs": [],
   "source": [
    "con=Contract.history.filter(history_type='-',subcompany__company=company)"
   ]
  },
  {
   "cell_type": "code",
   "execution_count": null,
   "id": "b1ad6d26",
   "metadata": {},
   "outputs": [],
   "source": [
    "con"
   ]
  },
  {
   "cell_type": "code",
   "execution_count": null,
   "id": "89dce80d",
   "metadata": {},
   "outputs": [],
   "source": []
  },
  {
   "cell_type": "code",
   "execution_count": null,
   "id": "ab6e7c3a",
   "metadata": {},
   "outputs": [],
   "source": [
    "company=Company.objects.get(name=\"CART\")"
   ]
  },
  {
   "cell_type": "code",
   "execution_count": null,
   "id": "5d7fc25b",
   "metadata": {},
   "outputs": [],
   "source": [
    "from tqdm.notebook import tqdm"
   ]
  },
  {
   "cell_type": "code",
   "execution_count": null,
   "id": "c92bd8b0",
   "metadata": {},
   "outputs": [],
   "source": [
    "rdos=MultipleDailyReport.objects.filter(company=company,number__in=['CART-RDO-2023.18902'])\n",
    "rdos.count(),rdos[0].firm"
   ]
  },
  {
   "cell_type": "code",
   "execution_count": null,
   "id": "f32575d4",
   "metadata": {},
   "outputs": [],
   "source": [
    "firm=Firm.objects.get(name='RMC_T3_03',company=company)"
   ]
  },
  {
   "cell_type": "code",
   "execution_count": null,
   "id": "f2cecdf8",
   "metadata": {},
   "outputs": [],
   "source": [
    "for a in rdos:\n",
    "    a.firm = firm\n",
    "    a.save()"
   ]
  },
  {
   "cell_type": "code",
   "execution_count": null,
   "id": "4377c6c1",
   "metadata": {},
   "outputs": [],
   "source": [
    "job=Job.history.filter(uuid='772256e1-e2e4-4388-8888-15b0dd009d4a').order_by('-history_date')"
   ]
  },
  {
   "cell_type": "code",
   "execution_count": null,
   "id": "d3225708",
   "metadata": {},
   "outputs": [],
   "source": [
    "job[1].__dict__,job[1].history_user"
   ]
  },
  {
   "cell_type": "code",
   "execution_count": null,
   "id": "883726d8",
   "metadata": {},
   "outputs": [],
   "source": [
    "for a in job:\n",
    "    print(a.reporting_count)"
   ]
  },
  {
   "cell_type": "code",
   "execution_count": null,
   "id": "537e373a",
   "metadata": {},
   "outputs": [],
   "source": [
    "user = User.objects.get(username=\"allana.wendler\")\n",
    "user"
   ]
  },
  {
   "cell_type": "code",
   "execution_count": null,
   "id": "548daae8",
   "metadata": {},
   "outputs": [],
   "source": [
    "user_firms = list((user.user_firms.all()).union(\n",
    "                    user.user_firms_manager.all()))\n",
    "            \n",
    "user_firms"
   ]
  },
  {
   "cell_type": "code",
   "execution_count": null,
   "id": "1aea4805",
   "metadata": {},
   "outputs": [],
   "source": [
    "ReportingFile.objects.filter(reporting__firm__in=user_firms).count()"
   ]
  },
  {
   "cell_type": "code",
   "execution_count": null,
   "id": "83e38acd",
   "metadata": {},
   "outputs": [],
   "source": [
    "con= Contract.objects.get(uuid='60f30e3e-63fc-4c33-ab0d-d86ff1421a39')\n",
    "con.resources.history.all()"
   ]
  },
  {
   "cell_type": "code",
   "execution_count": null,
   "id": "ee3ec10a",
   "metadata": {},
   "outputs": [],
   "source": [
    "cons=ContractService.objects.get(uuid=\"e0f21114-42cd-4d46-bb36-008ae80fc5d2\")\n",
    "cons"
   ]
  },
  {
   "cell_type": "code",
   "execution_count": null,
   "id": "51e1e9de",
   "metadata": {},
   "outputs": [],
   "source": [
    "cons._meta.get_fields()"
   ]
  },
  {
   "cell_type": "code",
   "execution_count": null,
   "id": "7238e173",
   "metadata": {},
   "outputs": [],
   "source": [
    "from django.db.models import Q\n",
    "up=UserPermission.objects.filter(Q(permissions__has_key='MultipleDailyReport')|Q(permissions__has_key='multipleDailyReport')|Q(permissions__has_key='multiple_daily_report')).order_by('companies__name')\n",
    "up.count()"
   ]
  },
  {
   "cell_type": "code",
   "execution_count": null,
   "id": "14871faf",
   "metadata": {},
   "outputs": [],
   "source": [
    "up[0].name,'MultipleDailyReport' in up[0].permissions"
   ]
  },
  {
   "cell_type": "code",
   "execution_count": null,
   "id": "ad8c2c87",
   "metadata": {},
   "outputs": [],
   "source": [
    "dados=[{}]\n",
    "for a in up:\n",
    "    dados.append({'company':a['companies__name'],'permissão':a['name']})"
   ]
  },
  {
   "cell_type": "code",
   "execution_count": null,
   "id": "e39c6b2c",
   "metadata": {
    "scrolled": true
   },
   "outputs": [],
   "source": [
    "import pandas as pd\n",
    "df = pd.DataFrame(data=dados)"
   ]
  },
  {
   "cell_type": "code",
   "execution_count": null,
   "id": "9977c977",
   "metadata": {},
   "outputs": [],
   "source": [
    "df.to_excel('permissoes.xlsx')"
   ]
  },
  {
   "cell_type": "code",
   "execution_count": null,
   "id": "d6c2bd06",
   "metadata": {},
   "outputs": [],
   "source": [
    "lista=[\"ENGENHEIRO(A)\",\n",
    "\"Sala técnica\",\n",
    "\"Coordenador\",\n",
    "\"Engenheiro\",\n",
    "\"Gerente\",\n",
    "\"HOMOLOGATOR\",\n",
    "\"Administrador\",\n",
    "\"GESTOR\",\n",
    "\"Gerente/Engenheiro\",\n",
    "\"Planejamento e controle\",\n",
    "\"Homologador\",\n",
    "\"Administrador do sistema\",\n",
    "\"Escritório\",\n",
    "\"Coord/Supervisor\",\n",
    "\"Sala técnica AMP\",\n",
    "\"Sala técnica AJR\",\n",
    "\"Usuário de controle\",\n",
    "\"Encarregado com Configurações\",\n",
    "\"Suporte\"]"
   ]
  },
  {
   "cell_type": "code",
   "execution_count": null,
   "id": "18dae1ae",
   "metadata": {},
   "outputs": [],
   "source": [
    "for a in up:\n",
    "    if a.name in lista:\n",
    "        if 'MultipleDailyReport' in a.permissions:\n",
    "            a.permissions['MultipleDailyReport']['can_create_and_edit_all_firms'] = True\n",
    "            a.permissions['MultipleDailyReport']['can_view_all_firms'] = True\n",
    "            a.save()\n",
    "        if 'multiple_daily_report' in a.permissions:\n",
    "            a.permissions['multiple_daily_report']['can_create_and_edit_all_firms'] = True\n",
    "            a.permissions['multiple_daily_report']['can_view_all_firms'] = True\n",
    "            a.save()\n",
    "        if 'multipleDailyReport' in a.permissions:\n",
    "            a.permissions['multipleDailyReport']['can_create_and_edit_all_firms'] = True\n",
    "            a.permissions['multipleDailyReport']['can_view_all_firms'] = True\n",
    "            a.save()"
   ]
  },
  {
   "cell_type": "code",
   "execution_count": null,
   "id": "60be8bef",
   "metadata": {},
   "outputs": [],
   "source": []
  },
  {
   "cell_type": "code",
   "execution_count": null,
   "id": "c74cdccc",
   "metadata": {},
   "outputs": [],
   "source": []
  },
  {
   "cell_type": "code",
   "execution_count": null,
   "id": "9c392e91",
   "metadata": {},
   "outputs": [],
   "source": [
    "ContractItemUnitPrice.objects.filter(entity__name='Arteris Fluminense')"
   ]
  },
  {
   "cell_type": "code",
   "execution_count": null,
   "id": "b91c383f",
   "metadata": {},
   "outputs": [],
   "source": [
    "con.resources.all().count()"
   ]
  },
  {
   "cell_type": "code",
   "execution_count": null,
   "id": "f89649b9",
   "metadata": {},
   "outputs": [],
   "source": [
    "ContractItemUnitPrice._meta.get_fields()"
   ]
  },
  {
   "cell_type": "code",
   "execution_count": null,
   "id": "c179b730",
   "metadata": {},
   "outputs": [],
   "source": [
    "ContractItemUnitPrice.objects.filter(sort_string='11111').delete()"
   ]
  },
  {
   "cell_type": "code",
   "execution_count": null,
   "id": "e93b98fd",
   "metadata": {},
   "outputs": [],
   "source": [
    "con= Contract.objects.get(uuid='46d3622a-80c4-4d4d-91c6-70da479b1d11')"
   ]
  },
  {
   "cell_type": "code",
   "execution_count": null,
   "id": "ade7ae16",
   "metadata": {},
   "outputs": [],
   "source": [
    "con.field_survey"
   ]
  },
  {
   "cell_type": "code",
   "execution_count": null,
   "id": "2afd5eac",
   "metadata": {},
   "outputs": [],
   "source": [
    "fs=FieldSurvey.objects.filter(contract=con,name__in=['Avaliação do dia 05/10/2023','A03 - SETEMBRO/2023'])"
   ]
  },
  {
   "cell_type": "code",
   "execution_count": null,
   "id": "ccb33f55",
   "metadata": {},
   "outputs": [],
   "source": [
    "fs.count(),fs.delete()"
   ]
  },
  {
   "cell_type": "code",
   "execution_count": null,
   "id": "928b2cee",
   "metadata": {},
   "outputs": [],
   "source": [
    "fs.delete()"
   ]
  },
  {
   "cell_type": "code",
   "execution_count": null,
   "id": "5bd361df",
   "metadata": {},
   "outputs": [],
   "source": [
    "up=UserInCompany.objects.filter(company__name=\"Pavicolet (Amapá)\").exclude(user__email__icontains='kartado')\n",
    "for a in up:\n",
    "    print(a.user.full_name,'|',a.permissions.name)"
   ]
  },
  {
   "cell_type": "code",
   "execution_count": null,
   "id": "8036e993",
   "metadata": {},
   "outputs": [],
   "source": [
    "company=Company.objects.get(name='Demo Energia')"
   ]
  },
  {
   "cell_type": "code",
   "execution_count": null,
   "id": "9a86c91e",
   "metadata": {},
   "outputs": [],
   "source": [
    "st=SearchTagOccurrenceType(company=company,\n",
    "                           occurrence_type=OccurrenceType.objects.get(company__name='Demo Energia',\n",
    "                                                                       name='Visita técnica a parte interessada'))\n",
    "st.save()"
   ]
  },
  {
   "cell_type": "code",
   "execution_count": null,
   "id": "40fa39dd",
   "metadata": {},
   "outputs": [],
   "source": [
    "st.search_tags.add(SearchTag.objects.get(name__icontains='Visita técnica a parte interessada',company=company))"
   ]
  },
  {
   "cell_type": "code",
   "execution_count": null,
   "id": "7dc51c96",
   "metadata": {
    "scrolled": true
   },
   "outputs": [],
   "source": [
    "st.__dict__"
   ]
  },
  {
   "cell_type": "code",
   "execution_count": null,
   "id": "04809fa0",
   "metadata": {},
   "outputs": [],
   "source": [
    "uc=UserInCompany.objects.filter(Q(user__email__icontains='kartado')| Q(user__email__icontains='hermes'),company__name=\"Pavicolet (Amapá)\")"
   ]
  },
  {
   "cell_type": "code",
   "execution_count": null,
   "id": "beffa35e",
   "metadata": {},
   "outputs": [],
   "source": [
    "for a in uc:\n",
    "    print(a.permissions.name)\n",
    "    a.permissions=UserPermission.objects.get(companies__name=\"Pavicolet (Amapá)\",name='Suporte')\n",
    "    a.save()\n",
    "    print(a.permissions.name)"
   ]
  },
  {
   "cell_type": "code",
   "execution_count": null,
   "id": "b0e2a201",
   "metadata": {},
   "outputs": [],
   "source": [
    "up=UserPermission.objects.filter(companies__name=\"Pavicolet (Amapá)\",name='Coordenador').exclude(name='Inativo')\n",
    "up[0].__dict__"
   ]
  },
  {
   "cell_type": "code",
   "execution_count": null,
   "id": "5250dff8",
   "metadata": {},
   "outputs": [],
   "source": [
    "for a in up:\n",
    "    a.uuid=None\n",
    "    a.name='Suporte'\n",
    "    a.save()"
   ]
  },
  {
   "cell_type": "code",
   "execution_count": null,
   "id": "9026a225",
   "metadata": {},
   "outputs": [],
   "source": [
    "a"
   ]
  },
  {
   "cell_type": "code",
   "execution_count": null,
   "id": "0872dbec",
   "metadata": {},
   "outputs": [],
   "source": [
    "from openpyxl import load_workbook\n",
    "filename2 = \"Lista de Materiais Conserva RioSP.xlsx\"\n",
    "wb = load_workbook(filename2)\n",
    "ws = wb[wb.sheetnames[0]]\n",
    "# wb.sheetnames[0]"
   ]
  },
  {
   "cell_type": "code",
   "execution_count": null,
   "id": "a4c8c37d",
   "metadata": {},
   "outputs": [],
   "source": [
    "header = []\n",
    "values = []\n",
    "\n",
    "for index, row in enumerate(ws.rows):\n",
    "    if index == 0:\n",
    "        header = list([a.value for a in row])\n",
    "        continue\n",
    "    obj = {}\n",
    "    for col_index, cell in enumerate(row):\n",
    "        value = cell.value\n",
    "        obj[header[col_index]] = value\n",
    "    values.append(obj)\n",
    "values[0]"
   ]
  },
  {
   "cell_type": "code",
   "execution_count": null,
   "id": "4ff1f961",
   "metadata": {},
   "outputs": [],
   "source": [
    "# Unidade\n",
    "company=Company.objects.get(name='Demo Concessionárias')\n",
    "company"
   ]
  },
  {
   "cell_type": "code",
   "execution_count": null,
   "id": "5d88b96b",
   "metadata": {},
   "outputs": [],
   "source": [
    "# Contrato\n",
    "contract = Contract.objects.filter(subcompany__company=company,name='treinamento dia 22/03')\n",
    "contract"
   ]
  },
  {
   "cell_type": "code",
   "execution_count": null,
   "id": "934ed6ec",
   "metadata": {},
   "outputs": [],
   "source": [
    "# Seção do contrato\n",
    "cs=ContractService.objects.annotate(qtd_unit_price=Count('contract_item_unit_prices')).filter(firms__subcompany__company=company,qtd_unit_price__gte=1)\n",
    "cs.count()"
   ]
  },
  {
   "cell_type": "code",
   "execution_count": null,
   "id": "5d0be5ed",
   "metadata": {},
   "outputs": [],
   "source": [
    "# Usuário\n",
    "user=User.objects.get(username='rlcs')"
   ]
  },
  {
   "cell_type": "code",
   "execution_count": null,
   "id": "90527157",
   "metadata": {},
   "outputs": [],
   "source": [
    "# Entidade\n",
    "entity=Entity.objects.filter(company=company).first()\n",
    "entity"
   ]
  },
  {
   "cell_type": "code",
   "execution_count": null,
   "id": "5d936cfd",
   "metadata": {},
   "outputs": [],
   "source": [
    "# Quantidade de itens\n",
    "amount=10000"
   ]
  },
  {
   "cell_type": "code",
   "execution_count": null,
   "id": "2521b513",
   "metadata": {},
   "outputs": [],
   "source": [
    "for a in values:\n",
    "    r=Resource(company=company,\n",
    "               name=a['Descrição do Material'],\n",
    "               unit=a['UN'],\n",
    "               total_amount=amount)\n",
    "    r.save()"
   ]
  },
  {
   "cell_type": "code",
   "execution_count": null,
   "id": "9b52c50d",
   "metadata": {},
   "outputs": [],
   "source": [
    "# Recurso(pode ser do RDO ou Contrato)\n",
    "r=Resource(company=company,name=values[0]['Descrição do Material'],unit=values[0]['UN'],total_amount=amount)\n",
    "r.save()"
   ]
  },
  {
   "cell_type": "code",
   "execution_count": null,
   "id": "8ef48ab2",
   "metadata": {},
   "outputs": [],
   "source": [
    "# Recurso do Contrato\n",
    "sor = ServiceOrderResource(contract=contract[0],\n",
    "                           resource=r,\n",
    "                           entity=entity,\n",
    "                           amount=amount,\n",
    "                           created_by=user)\n",
    "sor.save()"
   ]
  },
  {
   "cell_type": "code",
   "execution_count": null,
   "id": "7a280b95",
   "metadata": {},
   "outputs": [],
   "source": [
    "sor.uuid"
   ]
  },
  {
   "cell_type": "code",
   "execution_count": null,
   "id": "bc4813fe",
   "metadata": {},
   "outputs": [],
   "source": [
    "# atribui o Recurso do Contrato ao Item de Preço Unitário\n",
    "cup = ContractItemUnitPrice(entity=entity,resource=sor)\n",
    "cup.save()"
   ]
  },
  {
   "cell_type": "code",
   "execution_count": null,
   "id": "b2720cba",
   "metadata": {},
   "outputs": [],
   "source": [
    "cup.uuid"
   ]
  },
  {
   "cell_type": "code",
   "execution_count": null,
   "id": "a4b1b771",
   "metadata": {},
   "outputs": [],
   "source": [
    "# Adiciona a seção do contrato desejada\n",
    "cs[0].contract_item_unit_prices.add(cup)"
   ]
  },
  {
   "cell_type": "code",
   "execution_count": null,
   "id": "34b96a06",
   "metadata": {},
   "outputs": [],
   "source": []
  },
  {
   "cell_type": "code",
   "execution_count": null,
   "id": "bdd9db43",
   "metadata": {},
   "outputs": [],
   "source": [
    "cs[0].__dict__"
   ]
  },
  {
   "cell_type": "code",
   "execution_count": null,
   "id": "7c1bd045",
   "metadata": {},
   "outputs": [],
   "source": []
  },
  {
   "cell_type": "code",
   "execution_count": null,
   "id": "578a3a8d",
   "metadata": {},
   "outputs": [],
   "source": [
    "resource=Resource.objects.filter(company__name='Demo Concessionárias',name='Teste 04')"
   ]
  },
  {
   "cell_type": "code",
   "execution_count": null,
   "id": "13dd1e32",
   "metadata": {},
   "outputs": [],
   "source": [
    "resource[0].__dict__"
   ]
  },
  {
   "cell_type": "code",
   "execution_count": null,
   "id": "2cd3f294",
   "metadata": {},
   "outputs": [],
   "source": [
    "resource1=Resource.objects.filter(company__name='Demo Concessionárias',name='CBUQ',unit='unidade')\n",
    "resource1[0].__dict__"
   ]
  },
  {
   "cell_type": "code",
   "execution_count": null,
   "id": "0094653f",
   "metadata": {},
   "outputs": [],
   "source": [
    "from django.conf import settings\n",
    "\n",
    "# Obtenha a lista de aplicativos instalados\n",
    "installed_apps = settings.INSTALLED_APPS\n",
    "\n",
    "# Crie a lista de app_labels\n",
    "app_labelss = [app.split('.')[-1] for app in installed_apps]\n",
    "app_labelss"
   ]
  },
  {
   "cell_type": "code",
   "execution_count": null,
   "id": "aff6a8e0",
   "metadata": {},
   "outputs": [],
   "source": [
    "import pandas as pd\n",
    "import openpyxl as op\n",
    "from tqdm.notebook import tqdm"
   ]
  },
  {
   "cell_type": "code",
   "execution_count": null,
   "id": "a43cb40a",
   "metadata": {},
   "outputs": [],
   "source": [
    "company = Company.objects.get(name__exact=\"Garcia Monteiro\")\n",
    "filename = company.name.replace(' ','_')+'_teste'\n",
    "pd.DataFrame().to_excel(filename+'.xlsx')\n",
    "wb=op.load_workbook(filename+'.xlsx')\n",
    "# wb['Sheet1'].title = \"Disclaimer\"\n",
    "company,filename"
   ]
  },
  {
   "cell_type": "code",
   "execution_count": null,
   "id": "ea7ae199",
   "metadata": {},
   "outputs": [],
   "source": [
    "occs = OccurrenceType.objects.filter(company=company)\n",
    "occs.count()"
   ]
  },
  {
   "cell_type": "code",
   "execution_count": null,
   "id": "792df05a",
   "metadata": {},
   "outputs": [],
   "source": [
    "index={}\n",
    "sheetname =\"\"\n",
    "for a in tqdm(occs):\n",
    "    index[a.name] = {}\n",
    "    sheetname = a.name.translate(str.maketrans('', '', './,!?'))[:15]\n",
    "    for b in a.form_fields['fields']:\n",
    "        for key,value in b.items():\n",
    "            index[a.name][key]=value\n",
    "        \n",
    "    df2 = pd.DataFrame(data=index[a.name].values(),index=index[a.name].keys())\n",
    "    with pd.ExcelWriter(filename+'.xlsx', mode='a',if_sheet_exists='replace') as writer:\n",
    "        df2.to_excel(writer,sheet_name=sheetname,na_rep=\"-\")"
   ]
  },
  {
   "cell_type": "code",
   "execution_count": null,
   "id": "66dd7e64",
   "metadata": {},
   "outputs": [],
   "source": [
    "uc_origin = UserInCompany.objects.filter(user__username=\"danieli.soares\").order_by('company__name')\n",
    "print(uc_origin[0].company.name)"
   ]
  },
  {
   "cell_type": "code",
   "execution_count": null,
   "id": "f726dbfd",
   "metadata": {},
   "outputs": [],
   "source": [
    "for a in uc_origin:\n",
    "    print(a.permissions.name,a.company.name)"
   ]
  },
  {
   "cell_type": "code",
   "execution_count": null,
   "id": "9dabd2c4",
   "metadata": {},
   "outputs": [],
   "source": [
    "company=Company.objects.get(name='Arteris Régis Bittencourt')\n",
    "user = User.objects.get(username='rlcs')\n",
    "company,user"
   ]
  },
  {
   "cell_type": "code",
   "execution_count": null,
   "id": "0b04fa73",
   "metadata": {
    "scrolled": true
   },
   "outputs": [],
   "source": [
    "up=UserPermission.objects.filter(companies=company)\n",
    "for i,a in enumerate(up):\n",
    "    print(a.name,i)"
   ]
  },
  {
   "cell_type": "code",
   "execution_count": null,
   "id": "c84728a3",
   "metadata": {},
   "outputs": [],
   "source": [
    "UserInCompany.objects.get(user=user,company=company).permissions.name"
   ]
  },
  {
   "cell_type": "code",
   "execution_count": null,
   "id": "a59a3587",
   "metadata": {},
   "outputs": [],
   "source": [
    "# ui=UserInCompany.objects.filter(user=user,company=company).update(permissions=up[4])"
   ]
  },
  {
   "cell_type": "code",
   "execution_count": null,
   "id": "d615e5bc",
   "metadata": {},
   "outputs": [],
   "source": [
    "ui=UserInCompany.objects.filter(company=company,permissions__name='Inativo')"
   ]
  },
  {
   "cell_type": "code",
   "execution_count": null,
   "id": "9f4bdec9",
   "metadata": {},
   "outputs": [],
   "source": [
    "for a in ui:\n",
    "    print(a.permissions.name,a.company.name,a.permissions)"
   ]
  },
  {
   "cell_type": "code",
   "execution_count": null,
   "id": "709cfd32",
   "metadata": {},
   "outputs": [],
   "source": [
    "up[2].companies.all()"
   ]
  },
  {
   "cell_type": "code",
   "execution_count": null,
   "id": "087c6639",
   "metadata": {},
   "outputs": [],
   "source": [
    "company=Company.objects.get(name='CART')"
   ]
  },
  {
   "cell_type": "code",
   "execution_count": null,
   "id": "510d94cb",
   "metadata": {},
   "outputs": [],
   "source": [
    "for a in OccurrenceType.objects.filter(company=company):\n",
    "    for b in a.form_fields['groups']:\n",
    "        try:\n",
    "            if 'Quantitativos de campo' == b['displayName']:\n",
    "                print(a.uuid,a.name)\n",
    "        except:\n",
    "            pass"
   ]
  },
  {
   "cell_type": "code",
   "execution_count": null,
   "id": "438ebf4d",
   "metadata": {},
   "outputs": [],
   "source": [
    "MeasurementBulletin.objects.filter(firm__subcompany__company__name=\"Sinaliza Via\")"
   ]
  },
  {
   "cell_type": "code",
   "execution_count": null,
   "id": "b4e5a5dc",
   "metadata": {},
   "outputs": [],
   "source": [
    "for a in Reporting.objects.filter(occurrence_type__isnull=True,company__name=\"Rota do Oeste - Obras\"):\n",
    "    print(a.number)"
   ]
  },
  {
   "cell_type": "code",
   "execution_count": null,
   "id": "bebd9c86",
   "metadata": {},
   "outputs": [],
   "source": [
    "company=Company.objects.get(name=\"Arteris Fernão Dias\")\n",
    "company"
   ]
  },
  {
   "cell_type": "code",
   "execution_count": null,
   "id": "4629491d",
   "metadata": {},
   "outputs": [],
   "source": [
    "for a in UserPermission.objects.filter(companies__name='Arteris Litoral Sul').exclude(name='Inativo'):\n",
    "    a.uuid=None,\n",
    "#     a.companies.set(company)\n",
    "    a.save()\n",
    "    a.companies.add(company)"
   ]
  },
  {
   "cell_type": "code",
   "execution_count": null,
   "id": "eaa7b5b1",
   "metadata": {},
   "outputs": [],
   "source": [
    "for a in UserInCompany.objects.filter(company=company):\n",
    "#     if a.permissions is not None:\n",
    "#         a.permissions = UserPermission.objects.get(name=a.permissions.name,companies=company)\n",
    "#         a.save()\n",
    "#     else:\n",
    "#         a.delete()\n",
    "    print(a.permissions,a.user.username)"
   ]
  },
  {
   "cell_type": "code",
   "execution_count": null,
   "id": "0624e60b",
   "metadata": {},
   "outputs": [],
   "source": [
    "up=UserPermission.objects.filter(name='ENGENHEIRO(A)')"
   ]
  },
  {
   "cell_type": "code",
   "execution_count": null,
   "id": "aaf2f9db",
   "metadata": {},
   "outputs": [],
   "source": [
    "up[0].companies.add(company)"
   ]
  },
  {
   "cell_type": "code",
   "execution_count": null,
   "id": "41ffaf4e",
   "metadata": {},
   "outputs": [],
   "source": [
    "up[0]"
   ]
  },
  {
   "cell_type": "code",
   "execution_count": null,
   "id": "85a07b41",
   "metadata": {},
   "outputs": [],
   "source": [
    "UserInCompany.objects.filter(company=company,user__username='rlcs')"
   ]
  },
  {
   "cell_type": "code",
   "execution_count": null,
   "id": "b8c2f8b2",
   "metadata": {},
   "outputs": [],
   "source": [
    "from helpers.route_maker import dic_to_ordered_list, unequal_point_pairs\n",
    "from helpers.histories import bulk_update_with_history\n",
    "from django.contrib.gis.geos import LineString, Point\n",
    "from tqdm.notebook import tqdm"
   ]
  },
  {
   "cell_type": "code",
   "execution_count": null,
   "id": "cd011e6c",
   "metadata": {},
   "outputs": [],
   "source": [
    "def km_to_coordinates(road, km):\n",
    "\n",
    "    road_marks = dic_to_ordered_list(road.marks)\n",
    "    selected_pair = None\n",
    "\n",
    "    for pair in unequal_point_pairs(road_marks):\n",
    "        if pair[0][\"km\"] > km and pair[1][\"km\"] < km:\n",
    "            selected_pair = pair\n",
    "            break\n",
    "        elif pair[1][\"km\"] > km and pair[0][\"km\"] < km:\n",
    "            selected_pair = pair\n",
    "            break\n",
    "        elif pair[0][\"km\"] == km:\n",
    "            return Point(pair[0][\"point\"][\"coordinates\"]), road\n",
    "        elif pair[1][\"km\"] == km:\n",
    "            return Point(pair[1][\"point\"][\"coordinates\"]), road\n",
    "\n",
    "    # Calculate total length\n",
    "    start_km = min([selected_pair[0][\"km\"], selected_pair[1][\"km\"]])\n",
    "    end_km = max([selected_pair[0][\"km\"], selected_pair[1][\"km\"]])\n",
    "    segment_mark_length = end_km - start_km\n",
    "    distance_from_min = km - start_km\n",
    "    # Check if km is decreasing\n",
    "    invert_km = selected_pair[1][\"km\"] <= selected_pair[0][\"km\"]\n",
    "\n",
    "    # Cut segment\n",
    "    start_key = min((selected_pair[0][\"index\"], selected_pair[1][\"index\"]))\n",
    "    end_key = max((selected_pair[0][\"index\"], selected_pair[1][\"index\"]))\n",
    "\n",
    "    points = []\n",
    "    for key in range(start_key, end_key + 1):\n",
    "        points.append(\n",
    "            Point(road.path[key][0], road.path[key][1], road.path[key][2])\n",
    "        )\n",
    "\n",
    "    segment = LineString(points, srid=4326)\n",
    "    # Apply km inversion correction\n",
    "    if invert_km:\n",
    "        segment_distance = (\n",
    "            1 - (distance_from_min / segment_mark_length)\n",
    "        ) * segment.length\n",
    "    else:\n",
    "        segment_distance = (\n",
    "            distance_from_min / segment_mark_length\n",
    "        ) * segment.length\n",
    "    # Find point\n",
    "    point = segment.interpolate(segment_distance)\n",
    "\n",
    "    return Point(point.x, point.y), road"
   ]
  },
  {
   "cell_type": "code",
   "execution_count": null,
   "id": "989dd874",
   "metadata": {},
   "outputs": [],
   "source": [
    "def check_valid_road(road, km):\n",
    "\n",
    "    road_marks = dic_to_ordered_list(road.marks)\n",
    "\n",
    "    for pair in unequal_point_pairs(road_marks):\n",
    "        if pair[0][\"km\"] >= km and pair[1][\"km\"] <= km:\n",
    "            return True\n",
    "        elif pair[1][\"km\"] >= km and pair[0][\"km\"] <= km:\n",
    "            return True\n",
    "\n",
    "    return False"
   ]
  },
  {
   "cell_type": "code",
   "execution_count": null,
   "id": "14ad5d7e",
   "metadata": {},
   "outputs": [],
   "source": [
    "def get_road_coordinates(road_name, km, direction, company):\n",
    "    road_set = Road.objects.filter(\n",
    "        name__contains=road_name, direction=int(direction), company=company\n",
    "    )\n",
    "    print(road_set)\n",
    "\n",
    "    # If roads in specified direction are not found, search road only\n",
    "    # by name and order then by direction\n",
    "    road_set_generic = Road.objects.filter(\n",
    "        name__contains=road_name, company=company\n",
    "    ).order_by(\"direction\")\n",
    "\n",
    "    # Check if KM range in road_set\n",
    "    print(\"Searching KM on direction...\")\n",
    "    valid = False\n",
    "    for road in road_set:\n",
    "        if check_valid_road(road, km):\n",
    "            print(\"Found KM on Road {}\".format(road))\n",
    "            valid = True\n",
    "            break\n",
    "\n",
    "    if not valid:\n",
    "        print(\"Searching KM without direction...\")\n",
    "        for road in road_set_generic:\n",
    "            if check_valid_road(road, km):\n",
    "                print(\"Found KM on Road {}\".format(road))\n",
    "                valid = True\n",
    "                break\n",
    "\n",
    "    if not valid:\n",
    "        return Point(0, 0), None\n",
    "\n",
    "    try:\n",
    "        return km_to_coordinates(road, km)\n",
    "    except Exception:\n",
    "        return Point(0, 0), None"
   ]
  },
  {
   "cell_type": "code",
   "execution_count": null,
   "id": "b2f7c38f",
   "metadata": {},
   "outputs": [],
   "source": [
    "company=Company.objects.get(name=\"Caminhos da Serra Gaúcha\")"
   ]
  },
  {
   "cell_type": "code",
   "execution_count": null,
   "id": "bce9e6d0",
   "metadata": {},
   "outputs": [],
   "source": [
    "reps=Reporting.objects.filter(road_name=\"ERS-122\", company=company)"
   ]
  },
  {
   "cell_type": "code",
   "execution_count": null,
   "id": "db02d05f",
   "metadata": {},
   "outputs": [],
   "source": [
    "reps.count(),reps[0].__dict__"
   ]
  },
  {
   "cell_type": "code",
   "execution_count": null,
   "id": "b22abc96",
   "metadata": {},
   "outputs": [],
   "source": [
    "# point, road = get_road_coordinates(reps[0].road_name, reps[0].km, reps[0].direction , company)\n",
    "point, road = get_road_coordinates(reps[0].road_name, reps[0].km, reps[0].direction , company)\n",
    "point,road,point[0],point[1]"
   ]
  },
  {
   "cell_type": "code",
   "execution_count": null,
   "id": "e8b241a6",
   "metadata": {},
   "outputs": [],
   "source": [
    "rep_edit=[]\n",
    "for a in tqdm(reps):\n",
    "    point, road = get_road_coordinates(a.road_name, \n",
    "                                       a.km, \n",
    "                                       a.direction, \n",
    "                                       company)\n",
    "    if road.name == 'ERS-122':\n",
    "        a.road=road\n",
    "        a.point=point\n",
    "        rep_edit.append(a)\n",
    "    else:\n",
    "        print(a.number)"
   ]
  },
  {
   "cell_type": "code",
   "execution_count": null,
   "id": "d34cfbfb",
   "metadata": {},
   "outputs": [],
   "source": [
    "user=User.objects.get(username=\"rlcs\")"
   ]
  },
  {
   "cell_type": "code",
   "execution_count": null,
   "id": "4b262c61",
   "metadata": {},
   "outputs": [],
   "source": [
    "apontamentos = bulk_update_with_history(rep_edit,Reporting, use_django_bulk=True,batch_size=2000,user=user)"
   ]
  },
  {
   "cell_type": "code",
   "execution_count": null,
   "id": "194569d5",
   "metadata": {},
   "outputs": [],
   "source": [
    "for a in UserInCompany.objects.filter(user__username='carla.devides',company__name__startswith='Intervias'):\n",
    "    try:\n",
    "        a.permissions=UserPermission.objects.get(companies=a.company,name=\"Inativo\")\n",
    "        a.save()\n",
    "    except:\n",
    "        print(UserPermission.objects.get(companies=a.company,name=a.permissions.name))"
   ]
  },
  {
   "cell_type": "code",
   "execution_count": null,
   "id": "a9272fc1",
   "metadata": {},
   "outputs": [],
   "source": [
    "ar=AccessRequest.objects.filter(uuid='07040b37-26b2-475a-8aae-a70efd4feaa4')\n",
    "ar[0].permissions"
   ]
  },
  {
   "cell_type": "code",
   "execution_count": null,
   "id": "a94a8e2f",
   "metadata": {},
   "outputs": [],
   "source": [
    "reps=Reporting.objects.filter(occurrence_type__name=\"Marcos Quilométricos (temporário)\",company__name=\"Eixo SP\")\n",
    "reps.count()"
   ]
  },
  {
   "cell_type": "code",
   "execution_count": null,
   "id": "0bd0d262",
   "metadata": {},
   "outputs": [],
   "source": [
    "from tqdm.notebook import tqdm\n",
    "for i in range(2):\n",
    "    for a in tqdm(reps[:800]):\n",
    "        a.delete()"
   ]
  },
  {
   "cell_type": "code",
   "execution_count": null,
   "id": "fd8a9211",
   "metadata": {},
   "outputs": [],
   "source": [
    "occ2 = OccurrenceType.objects.filter(company__name=\"Modera\")"
   ]
  },
  {
   "cell_type": "code",
   "execution_count": null,
   "id": "e2acde75",
   "metadata": {},
   "outputs": [],
   "source": [
    "occCoisas=[]\n",
    "for o in occ2:\n",
    "    for a in o.form_fields['fields']:\n",
    "        if a.get(\"apiName\"):\n",
    "            occCoisas.append({\"apiName\":a[\"apiName\"],\"displayName\":a[\"displayName\"],'dataType':a[\"dataType\"]})\n",
    "        else:\n",
    "            occCoisas.append({\"apiName\":a[\"apiName\"],\"displayName\":a[\"displayName\"],'dataType':a[\"dataType\"]})\n",
    "#         if a.get('dataType') == 'arrayOfObjects':\n",
    "#             occCoisas['arrayOfObjects'] = []\n",
    "#             for b in a['innerFields']:\n",
    "#                 occCoisas['arrayOfObjects'].append({\"apiName\":a[\"apiName\"],\"displayName\":a[\"displayName\"],'dataType':a[\"dataType\"]})\n",
    "#         if a.get('data_type') == 'arrayOfObjects':\n",
    "#             occCoisas['arrayOfObjects'] = []\n",
    "#             for b in a['inner_fields']:\n",
    "#                 occCoisas['arrayOfObjects'].append({\"apiName\":a[\"apiName\"],\"displayName\":a[\"displayName\"],'dataType':a[\"dataType\"]})"
   ]
  },
  {
   "cell_type": "code",
   "execution_count": null,
   "id": "2b412c1a",
   "metadata": {},
   "outputs": [],
   "source": [
    "occCoisas"
   ]
  },
  {
   "cell_type": "code",
   "execution_count": null,
   "id": "f115ee4a",
   "metadata": {},
   "outputs": [],
   "source": [
    "import json\n",
    "with open('ModeraFields.txt', 'w') as f:\n",
    "    json.dump(occCoisas, f)"
   ]
  },
  {
   "cell_type": "code",
   "execution_count": null,
   "id": "8d66a7ec",
   "metadata": {},
   "outputs": [],
   "source": [
    "mb = MeasurementBulletin.objects.get(uuid=\"4c35bc03-28ed-4d89-ba9b-fe123448605d\")\n",
    "mb"
   ]
  },
  {
   "cell_type": "code",
   "execution_count": null,
   "id": "e4f349cf",
   "metadata": {},
   "outputs": [],
   "source": [
    "mb.__dict__"
   ]
  },
  {
   "cell_type": "code",
   "execution_count": null,
   "id": "a7ecce5a",
   "metadata": {},
   "outputs": [],
   "source": [
    "pr=ProcedureResource.objects.filter(measurement_bulletin__contract__uuid=\"e492a29f-852c-4cf9-b461-2a01a6f272bb\")"
   ]
  },
  {
   "cell_type": "code",
   "execution_count": null,
   "id": "df34af9a",
   "metadata": {},
   "outputs": [],
   "source": [
    "pr[0].__dict__"
   ]
  },
  {
   "cell_type": "code",
   "execution_count": null,
   "id": "cba79883",
   "metadata": {},
   "outputs": [],
   "source": [
    "for a in pr:\n",
    "    a.approval_date = a.creation_date\n",
    "    a.save()"
   ]
  },
  {
   "cell_type": "code",
   "execution_count": null,
   "id": "68e0873d",
   "metadata": {},
   "outputs": [],
   "source": [
    "pr[0]"
   ]
  },
  {
   "cell_type": "code",
   "execution_count": null,
   "id": "4babf042",
   "metadata": {},
   "outputs": [],
   "source": [
    "uc = UserInCompany.objects.filter(user__username=\"rlcs\",company__name__startswith='Neovia')\n",
    "uc.count()"
   ]
  },
  {
   "cell_type": "code",
   "execution_count": null,
   "id": "4e1fe202",
   "metadata": {},
   "outputs": [],
   "source": [
    "for a in uc:\n",
    "    try:\n",
    "        a.uuid = None\n",
    "        a.user = User.objects.get(username=\"pedro.cardoso\")\n",
    "        a.save()\n",
    "    except:\n",
    "        print(a.company.name)"
   ]
  },
  {
   "cell_type": "markdown",
   "id": "04887597",
   "metadata": {},
   "source": [
    "# TRANSFERENCIA DE FOTOS PAVICOLET"
   ]
  },
  {
   "cell_type": "code",
   "execution_count": null,
   "id": "b9c94e19",
   "metadata": {},
   "outputs": [],
   "source": [
    "pavicolet-CON-2023.15057 >\t\t pavicolet-CON-2023.14930\t\n",
    "pavicolet-CON-2023.13742 >\t\t pavicolet-CON-2023.14824\t\n",
    "pavicolet-CON-2023.15074 >\t\t pavicolet-CON-2023.14825\t\n",
    "pavicolet-CON-2023.15087 >\t\t pavicolet-CON-2023.14830 "
   ]
  },
  {
   "cell_type": "code",
   "execution_count": null,
   "id": "0f865094",
   "metadata": {},
   "outputs": [],
   "source": [
    "origem=['pavicolet-CON-2023.15057','pavicolet-CON-2023.13742','pavicolet-CON-2023.15074','avicolet-CON-2023.15087'\n",
    "]\n",
    "destino=['pavicolet-CON-2023.14930',\n",
    "'pavicolet-CON-2023.14824',\n",
    "'pavicolet-CON-2023.14825',\n",
    "'pavicolet-CON-2023.14830'\n",
    "]\n",
    "len(origem),len(destino)"
   ]
  },
  {
   "cell_type": "code",
   "execution_count": null,
   "id": "bf6a1fe5",
   "metadata": {},
   "outputs": [],
   "source": [
    "rep=Reporting.objects.get(number='pavicolet-CON-2023.14767')"
   ]
  },
  {
   "cell_type": "code",
   "execution_count": null,
   "id": "83265bb6",
   "metadata": {},
   "outputs": [],
   "source": [
    "rf=ReportingFile.objects.filter(reporting__number='pavicolet-CON-2023.14681').update(reporting_id=rep.uuid)"
   ]
  },
  {
   "cell_type": "code",
   "execution_count": null,
   "id": "a2930972",
   "metadata": {},
   "outputs": [],
   "source": [
    "for orig,dest in zip(origem,destino):\n",
    "    d=Reporting.objects.get(number=dest)\n",
    "    ReportingFile.objects.filter(reporting__number=orig).update(reporting_id=d)"
   ]
  },
  {
   "cell_type": "code",
   "execution_count": null,
   "id": "3a80818a",
   "metadata": {},
   "outputs": [],
   "source": []
  },
  {
   "cell_type": "code",
   "execution_count": null,
   "id": "d6f8679e",
   "metadata": {},
   "outputs": [],
   "source": [
    "Reporting.objects.get(uuid='cfedb230-b47e-4aad-8acd-6623ce63a492').company"
   ]
  },
  {
   "cell_type": "code",
   "execution_count": null,
   "id": "49904479",
   "metadata": {},
   "outputs": [],
   "source": [
    "rep=Reporting.objects.filter()"
   ]
  },
  {
   "cell_type": "code",
   "execution_count": null,
   "id": "05b95934",
   "metadata": {},
   "outputs": [],
   "source": [
    "for a in rep:\n",
    "    print(a)"
   ]
  },
  {
   "cell_type": "code",
   "execution_count": null,
   "id": "6c07d2d0",
   "metadata": {},
   "outputs": [],
   "source": [
    "firm=Firm.objects.get(name=\"REMAN - AMP - MULTI DRENAGEM - 01\")"
   ]
  },
  {
   "cell_type": "code",
   "execution_count": null,
   "id": "6820a1b2",
   "metadata": {},
   "outputs": [],
   "source": [
    "reps=Reporting.objects.filter(company__name=\"Entrevias\", occurrence_type__occurrence_kind='18')"
   ]
  },
  {
   "cell_type": "code",
   "execution_count": null,
   "id": "5d0bb638",
   "metadata": {},
   "outputs": [],
   "source": [
    "reps.count()"
   ]
  },
  {
   "cell_type": "code",
   "execution_count": null,
   "id": "0a529024",
   "metadata": {},
   "outputs": [],
   "source": [
    "reps[39705].__dict__"
   ]
  },
  {
   "cell_type": "code",
   "execution_count": null,
   "id": "5b1c0bd6",
   "metadata": {},
   "outputs": [],
   "source": [
    "user=User.objects.get(username='rlcs')"
   ]
  },
  {
   "cell_type": "code",
   "execution_count": null,
   "id": "b358b9a7",
   "metadata": {},
   "outputs": [],
   "source": [
    "rep_edit=[]\n",
    "for a in tqdm(reps):\n",
    "    if a.form_data.get('demand_origin'):\n",
    "        a.form_data['demand_origin'].append('2')\n",
    "    else:\n",
    "        a.form_data['demand_origin'] = ['2']\n",
    "    rep_edit.append(a)"
   ]
  },
  {
   "cell_type": "code",
   "execution_count": null,
   "id": "95d0f3b2",
   "metadata": {
    "scrolled": true
   },
   "outputs": [],
   "source": [
    "rep_edit[1].__dict__"
   ]
  },
  {
   "cell_type": "code",
   "execution_count": null,
   "id": "736c259c",
   "metadata": {},
   "outputs": [],
   "source": [
    "apontamentos = bulk_update_with_history(rep_edit,Reporting, use_django_bulk=True,batch_size=900,user=user)"
   ]
  },
  {
   "cell_type": "code",
   "execution_count": null,
   "id": "434f7ae4",
   "metadata": {},
   "outputs": [],
   "source": []
  },
  {
   "cell_type": "code",
   "execution_count": null,
   "id": "8e6c105c",
   "metadata": {},
   "outputs": [],
   "source": [
    "reps=Reporting.objects.filter(company__name=\"Arteris Via Paulista - Faixa de Domínio\", occurrence_type__name='Ocupações')"
   ]
  },
  {
   "cell_type": "code",
   "execution_count": null,
   "id": "4eb18fef",
   "metadata": {},
   "outputs": [],
   "source": [
    "reps.count()"
   ]
  },
  {
   "cell_type": "code",
   "execution_count": null,
   "id": "ba7b3eaf",
   "metadata": {
    "scrolled": true
   },
   "outputs": [],
   "source": [
    "for a in reps:\n",
    "    a.form_metadata['total_acumulado'] = {'manually_specified': False}\n",
    "    a.save()"
   ]
  },
  {
   "cell_type": "code",
   "execution_count": null,
   "id": "6e0bb1ed",
   "metadata": {},
   "outputs": [],
   "source": [
    "import json\n",
    "from tqdm.notebook import tqdm\n",
    "rep_edit=[]\n",
    "for a in tqdm(reps):\n",
    "    a.keywords = a.keywords.replace(\"{'reduce': [{'var': 'formData.annuityArr'}, {'+': [{'var': 'current.annuityValuePaidStep'}, {'var': 'accumulator'}]}, 0]}\",\"\")\n",
    "    rep_edit.append(a)"
   ]
  },
  {
   "cell_type": "code",
   "execution_count": null,
   "id": "ec6d1d06",
   "metadata": {},
   "outputs": [],
   "source": [
    "apontamentos = bulk_update_with_history(rep_edit,Reporting, use_django_bulk=True,batch_size=900,user=user)"
   ]
  },
  {
   "cell_type": "code",
   "execution_count": null,
   "id": "065a46cb",
   "metadata": {},
   "outputs": [],
   "source": [
    "for a in tqdm(reps[5:10]):\n",
    "    print(a)"
   ]
  },
  {
   "cell_type": "code",
   "execution_count": null,
   "id": "078b5e9a",
   "metadata": {},
   "outputs": [],
   "source": [
    "reps=Reporting.objects.filter(company__name='Entrevias',firm__name='Remanescente Sinalização',created_at__lte='2023-9-17',occurrence_type__occurrence_kind=2)"
   ]
  },
  {
   "cell_type": "code",
   "execution_count": null,
   "id": "fdb7b77a",
   "metadata": {},
   "outputs": [],
   "source": [
    "reps.count()"
   ]
  },
  {
   "cell_type": "code",
   "execution_count": null,
   "id": "7e4b533b",
   "metadata": {},
   "outputs": [],
   "source": [
    "from tqdm.notebook import tqdm\n",
    "for a in range(10):\n",
    "    for b in tqdm(reps[:800]):\n",
    "        b.delete()"
   ]
  },
  {
   "cell_type": "code",
   "execution_count": null,
   "id": "efbe0a3f",
   "metadata": {},
   "outputs": [],
   "source": [
    "lista=['ROO-RDO-2023.00001',\n",
    "'ROO-RDO-2023.00007',\n",
    "'ROO-RDO-2023.00010',\n",
    "'ROO-RDO-2023.00012',\n",
    "'ROO-RDO-2023.00015',\n",
    "'ROO-RDO-2023.00033',\n",
    "'ROO-RDO-2023.00108',\n",
    "'ROO-RDO-2023.00116',\n",
    "'ROO-RDO-2023.00125',\n",
    "'ROO-RDO-2023.00172',\n",
    "'ROO-RDO-2023.00269']"
   ]
  },
  {
   "cell_type": "code",
   "execution_count": null,
   "id": "eed15336",
   "metadata": {},
   "outputs": [],
   "source": [
    "for a in MultipleDailyReport.objects.filter(company__name=\"Rota do Oeste - Obras\", number__in=lista):\n",
    "    a.delete()"
   ]
  },
  {
   "cell_type": "code",
   "execution_count": null,
   "id": "844d699d",
   "metadata": {},
   "outputs": [],
   "source": [
    "rdo=MultipleDailyReport.objects.get(number='AFD-RDO-2023.02202')"
   ]
  },
  {
   "cell_type": "code",
   "execution_count": null,
   "id": "bbe0018f",
   "metadata": {},
   "outputs": [],
   "source": [
    "jobs=Job.objects.filter(company__name='Arteris Via Paulista',reporting_count__gte=1).annotate(qtd_apontamentos = Count('reportings')).exclude(archived=True)"
   ]
  },
  {
   "cell_type": "code",
   "execution_count": null,
   "id": "6a74c9db",
   "metadata": {},
   "outputs": [],
   "source": [
    "jobs[0].__dict__"
   ]
  },
  {
   "cell_type": "code",
   "execution_count": null,
   "id": "b8eafec6",
   "metadata": {},
   "outputs": [],
   "source": [
    "for a in jobs:\n",
    "    if a.reporting_count != a.qtd_apontamentos:\n",
    "        print(a.number)"
   ]
  },
  {
   "cell_type": "code",
   "execution_count": null,
   "id": "6d943d2e",
   "metadata": {},
   "outputs": [],
   "source": [
    "MultipleDailyReport.objects.all().values('firm').annotate(qtd_por_firm=Count('uuid'))"
   ]
  },
  {
   "cell_type": "code",
   "execution_count": null,
   "id": "72cc56e4",
   "metadata": {},
   "outputs": [],
   "source": [
    "!cat .env"
   ]
  },
  {
   "cell_type": "code",
   "execution_count": null,
   "id": "f1d913fb",
   "metadata": {},
   "outputs": [],
   "source": [
    "ProcedureResource._meta.get_fields()"
   ]
  },
  {
   "cell_type": "code",
   "execution_count": null,
   "id": "5eee32e5",
   "metadata": {},
   "outputs": [],
   "source": [
    "ProcedureResource.objects.filter(firm__uuid__in=[*list(UserInFirm.objects.filter(user__username='Alessandro.bonalume').values_list('firm',flat=True))])"
   ]
  },
  {
   "cell_type": "code",
   "execution_count": null,
   "id": "62edff88",
   "metadata": {},
   "outputs": [],
   "source": [
    "list(UserInFirm.objects.filter(user__username='Alessandro.bonalume').values_list('firm',flat=True))"
   ]
  },
  {
   "cell_type": "code",
   "execution_count": null,
   "id": "053c9dd8",
   "metadata": {},
   "outputs": [],
   "source": [
    "# feito: f4841ea6-f7f0-4ff0-9e50-b2854e071b7e; 67b065b9-aac3-4bff-b49a-e4e20fe465dc; d0397913-fe99-47f9-84e8-70dcf75071c1;\n",
    "# 613f892e-26fc-491e-9dad-cc24953fbb97; 79dc048f-7b17-437e-b738-a0d5e38a996c; 0c63c7c2-40bb-4c11-a392-eb1a7f032944\n",
    "# 03b2e043-ac62-4fee-8fcc-1b8983484a72\n",
    "ProcedureResource.objects.filter(uuid='03b2e043-ac62-4fee-8fcc-1b8983484a72').delete()"
   ]
  },
  {
   "cell_type": "code",
   "execution_count": null,
   "id": "f837658a",
   "metadata": {},
   "outputs": [],
   "source": [
    "Reporting.objects.filter(company__name=\"Construtora Castilho\", occurrence_type__isnull=True)"
   ]
  },
  {
   "cell_type": "code",
   "execution_count": null,
   "id": "df3faa7f",
   "metadata": {},
   "outputs": [],
   "source": [
    "lista={\"link\", \"number\", \"roadName\", \"km\", \"endKm\", \"latitude\", \"longitude\", \"occurrenceType\", \"length\", \"width\", \"height\", \"lane\", \"track\", \"branch\", \"kmReference\", \"direction\", \"occurrenceKind\", \"status\", \"createdBy\", \"updatedBy\", \"firm\", \"subcompany\", \"job\", \"createdAt\", \"foundAt\", \"updatedAt\", \"executedAt\", \"notes\", \"dueAt\", \"price\", \"equipamentoVeiculoInner1\", \"horimetroOdometro1\", \"placaPrefixo1\", \"operadorMotorista1\", \"empresa1\", \"tipo1\", \"quantidadeOleo1\", \"diesel1\", \"acumuladoBomba1\", \"saldoAnterior1\", \"entrada1\", \"notaFiscal1\", \"saida1\", \"saldoAtual1\", \"ponto1\", \"quantidadeGraxa1\", \"notes1\", \"equipamentoVeiculoInner2\", \"horimetroOdometro2\", \"placaPrefixo2\", \"operadorMotorista2\", \"empresa2\", \"tipo2\", \"quantidadeOleo2\", \"diesel2\", \"acumuladoBomba2\", \"saldoAnterior2\", \"entrada2\", \"notaFiscal2\", \"saida2\", \"saldoAtual2\", \"ponto2\", \"quantidadeGraxa2\", \"notes2\", \"equipamentoVeiculoInner3\", \"horimetroOdometro3\", \"placaPrefixo3\", \"operadorMotorista3\", \"empresa3\", \"tipo3\", \"quantidadeOleo3\", \"diesel3\", \"acumuladoBomba3\", \"saldoAnterior3\", \"entrada3\", \"notaFiscal3\", \"saida3\", \"saldoAtual3\", \"ponto3\", \"quantidadeGraxa3\", \"notes3\", \"equipamentoVeiculoInner4\", \"horimetroOdometro4\", \"placaPrefixo4\", \"operadorMotorista4\", \"empresa4\", \"tipo4\", \"quantidadeOleo4\", \"diesel4\", \"acumuladoBomba4\", \"saldoAnterior4\", \"entrada4\", \"notaFiscal4\", \"saida4\", \"saldoAtual4\", \"ponto4\", \"quantidadeGraxa4\", \"notes4\", \"equipamentoVeiculoInner5\", \"horimetroOdometro5\", \"placaPrefixo5\", \"operadorMotorista5\", \"empresa5\", \"tipo5\", \"quantidadeOleo5\", \"diesel5\", \"acumuladoBomba5\", \"saldoAnterior5\", \"entrada5\", \"notaFiscal5\", \"saida5\", \"saldoAtual5\", \"ponto5\", \"quantidadeGraxa5\", \"notes5\", \"equipamentoVeiculoInner6\", \"horimetroOdometro6\", \"placaPrefixo6\", \"operadorMotorista6\", \"empresa6\", \"tipo6\", \"quantidadeOleo6\", \"diesel6\", \"acumuladoBomba6\", \"saldoAnterior6\", \"entrada6\", \"notaFiscal6\", \"saida6\", \"saldoAtual6\", \"ponto6\", \"quantidadeGraxa6\", \"notes6\", \"equipamentoVeiculoInner7\", \"horimetroOdometro7\", \"placaPrefixo7\", \"operadorMotorista7\", \"empresa7\", \"tipo7\", \"quantidadeOleo7\", \"diesel7\", \"acumuladoBomba7\", \"saldoAnterior7\", \"entrada7\", \"notaFiscal7\", \"saida7\", \"saldoAtual7\", \"ponto7\", \"quantidadeGraxa7\", \"notes7\", \"equipamentoVeiculoInner8\", \"horimetroOdometro8\", \"placaPrefixo8\", \"operadorMotorista8\", \"empresa8\", \"tipo8\", \"quantidadeOleo8\", \"diesel8\", \"acumuladoBomba8\", \"saldoAnterior8\", \"entrada8\", \"notaFiscal8\", \"saida8\", \"saldoAtual8\", \"ponto8\", \"quantidadeGraxa8\", \"notes8\", \"equipamentoVeiculoInner9\", \"horimetroOdometro9\", \"placaPrefixo9\", \"operadorMotorista9\", \"empresa9\", \"tipo9\", \"quantidadeOleo9\", \"diesel9\", \"acumuladoBomba9\", \"saldoAnterior9\", \"entrada9\", \"notaFiscal9\", \"saida9\", \"saldoAtual9\", \"ponto9\", \"quantidadeGraxa9\", \"notes9\", \"equipamentoVeiculoInner10\", \"horimetroOdometro10\", \"placaPrefixo10\", \"operadorMotorista10\", \"empresa10\", \"tipo10\", \"quantidadeOleo10\", \"diesel10\", \"acumuladoBomba10\", \"saldoAnterior10\", \"entrada10\", \"notaFiscal10\", \"saida10\", \"saldoAtual10\", \"ponto10\", \"quantidadeGraxa10\", \"notes10\", \"equipamentoVeiculoInner11\", \"horimetroOdometro11\", \"placaPrefixo11\", \"operadorMotorista11\", \"empresa11\", \"tipo11\", \"quantidadeOleo11\", \"diesel11\", \"acumuladoBomba11\", \"saldoAnterior11\", \"entrada11\", \"notaFiscal11\", \"saida11\", \"saldoAtual11\", \"ponto11\", \"quantidadeGraxa11\", \"notes11\", \"equipamentoVeiculoInner12\", \"horimetroOdometro12\", \"placaPrefixo12\", \"operadorMotorista12\", \"empresa12\", \"tipo12\", \"quantidadeOleo12\", \"diesel12\", \"acumuladoBomba12\", \"saldoAnterior12\", \"entrada12\", \"notaFiscal12\", \"saida12\", \"saldoAtual12\", \"ponto12\", \"quantidadeGraxa12\", \"notes12\", \"equipamentoVeiculoInner13\", \"horimetroOdometro13\", \"placaPrefixo13\", \"operadorMotorista13\", \"empresa13\", \"tipo13\", \"quantidadeOleo13\", \"diesel13\", \"acumuladoBomba13\", \"saldoAnterior13\", \"entrada13\", \"notaFiscal13\", \"saida13\", \"saldoAtual13\", \"ponto13\", \"quantidadeGraxa13\", \"notes13\", \"equipamentoVeiculoInner14\", \"horimetroOdometro14\", \"placaPrefixo14\", \"operadorMotorista14\", \"empresa14\", \"tipo14\", \"quantidadeOleo14\", \"diesel14\", \"acumuladoBomba14\", \"saldoAnterior14\", \"entrada14\", \"notaFiscal14\", \"saida14\", \"saldoAtual14\", \"ponto14\", \"quantidadeGraxa14\", \"notes14\", \"equipamentoVeiculoInner15\", \"horimetroOdometro15\", \"placaPrefixo15\", \"operadorMotorista15\", \"empresa15\", \"tipo15\", \"quantidadeOleo15\", \"diesel15\", \"acumuladoBomba15\", \"saldoAnterior15\", \"entrada15\", \"notaFiscal15\", \"saida15\", \"saldoAtual15\", \"ponto15\", \"quantidadeGraxa15\", \"notes15\", \"comprimentoProgramado\", \"notesProgramado\", \"volume\", \"larguraProgramada\", \"espessuraProgramada\", \"volumeProgramado\", \"area\", \"areaProgramada\", \"distancia\", \"dmt\", \"distanciaProgramada\", \"dmtProgramada\", \"amount\", \"unidadesProgramadas\", \"massaTon\", \"volumeMapa\", \"tipoDeBordo1\", \"tipoDeLinha1\", \"corLinha1\", \"lengthInner1\", \"widthInner1\", \"areaInner1\", \"tipoDeBordo2\", \"tipoDeLinha2\", \"corLinha2\", \"lengthInner2\", \"widthInner2\", \"areaInner2\", \"tipoDeBordo3\", \"tipoDeLinha3\", \"corLinha3\", \"lengthInner3\", \"widthInner3\", \"areaInner3\", \"tipoDeBordo4\", \"tipoDeLinha4\", \"corLinha4\", \"lengthInner4\", \"widthInner4\", \"areaInner4\", \"tipoDeBordo5\", \"tipoDeLinha5\", \"corLinha5\", \"lengthInner5\", \"widthInner5\", \"areaInner5\", \"tipoDeBordo6\", \"tipoDeLinha6\", \"corLinha6\", \"lengthInner6\", \"widthInner6\", \"areaInner6\", \"tipoDeBordo7\", \"tipoDeLinha7\", \"corLinha7\", \"lengthInner7\", \"widthInner7\", \"areaInner7\", \"tipoDeBordo8\", \"tipoDeLinha8\", \"corLinha8\", \"lengthInner8\", \"widthInner8\", \"areaInner8\", \"tipoDeBordo9\", \"tipoDeLinha9\", \"corLinha9\", \"lengthInner9\", \"widthInner9\", \"areaInner9\", \"tipoDeBordo10\", \"tipoDeLinha10\", \"corLinha10\", \"lengthInner10\", \"widthInner10\", \"areaInner10\", \"tipoDeBordo11\", \"tipoDeLinha11\", \"corLinha11\", \"lengthInner11\", \"widthInner11\", \"areaInner11\", \"tipoDeBordo12\", \"tipoDeLinha12\", \"corLinha12\", \"lengthInner12\", \"widthInner12\", \"areaInner12\", \"tipoDeBordo13\", \"tipoDeLinha13\", \"corLinha13\", \"lengthInner13\", \"widthInner13\", \"areaInner13\", \"tipoDeBordo14\", \"tipoDeLinha14\", \"corLinha14\", \"lengthInner14\", \"widthInner14\", \"areaInner14\", \"tipoDeBordo15\", \"tipoDeLinha15\", \"corLinha15\", \"lengthInner15\", \"widthInner15\", \"areaInner15\", \"massa\", \"massaProgramada\", \"prefixo1\", \"placa1\", \"kmHorimetroInicial1\", \"kmHorimetroFinal1\", \"situacao1\", \"prefixo2\", \"placa2\", \"kmHorimetroInicial2\", \"kmHorimetroFinal2\", \"situacao2\", \"prefixo3\", \"placa3\", \"kmHorimetroInicial3\", \"kmHorimetroFinal3\", \"situacao3\", \"prefixo4\", \"placa4\", \"kmHorimetroInicial4\", \"kmHorimetroFinal4\", \"situacao4\", \"prefixo5\", \"placa5\", \"kmHorimetroInicial5\", \"kmHorimetroFinal5\", \"situacao5\", \"prefixo6\", \"placa6\", \"kmHorimetroInicial6\", \"kmHorimetroFinal6\", \"situacao6\", \"prefixo7\", \"placa7\", \"kmHorimetroInicial7\", \"kmHorimetroFinal7\", \"situacao7\", \"prefixo8\", \"placa8\", \"kmHorimetroInicial8\", \"kmHorimetroFinal8\", \"situacao8\", \"prefixo9\", \"placa9\", \"kmHorimetroInicial9\", \"kmHorimetroFinal9\", \"situacao9\", \"prefixo10\", \"placa10\", \"kmHorimetroInicial10\", \"kmHorimetroFinal10\", \"situacao10\", \"prefixo11\", \"placa11\", \"kmHorimetroInicial11\", \"kmHorimetroFinal11\", \"situacao11\", \"prefixo12\", \"placa12\", \"kmHorimetroInicial12\", \"kmHorimetroFinal12\", \"situacao12\", \"prefixo13\", \"placa13\", \"kmHorimetroInicial13\", \"kmHorimetroFinal13\", \"situacao13\", \"prefixo14\", \"placa14\", \"kmHorimetroInicial14\", \"kmHorimetroFinal14\", \"situacao14\", \"prefixo15\", \"placa15\", \"kmHorimetroInicial15\", \"kmHorimetroFinal15\", \"situacao15\", \"placa\", \"prefixo\", \"hodometroInicial\", \"localOrigem\", \"servicoExecutado\", \"escavadeiraPrefixo\", \"material\", \"horaCarga\", \"localDestino\", \"servicoDestino\", \"hodometroFinal\", \"estacaInicial\", \"estacaFinal\", \"horaDescarga\", \"serial\"}"
   ]
  },
  {
   "cell_type": "code",
   "execution_count": null,
   "id": "4e3fc3dc",
   "metadata": {},
   "outputs": [],
   "source": [
    "occs=[]\n",
    "for a in Company.objects.get(name=\"Construtora Castilho\").custom_options['reportingSpreadsheet']['extraColumns']:\n",
    "        if a['key'] in lista:\n",
    "            continue\n",
    "        else:\n",
    "            occs.append(a)"
   ]
  },
  {
   "cell_type": "code",
   "execution_count": null,
   "id": "25b7451e",
   "metadata": {},
   "outputs": [],
   "source": [
    "occs"
   ]
  },
  {
   "cell_type": "code",
   "execution_count": null,
   "id": "ec6dbd20",
   "metadata": {},
   "outputs": [],
   "source": [
    "MobileSync.objects.filter(created_by__username='luan.poletti',kind='USER_FULL_SYNC_DATA').order_by('-created_at')"
   ]
  },
  {
   "cell_type": "code",
   "execution_count": null,
   "id": "28c674f5",
   "metadata": {},
   "outputs": [],
   "source": [
    "occ=[]\n",
    "erro=[]\n",
    "for a in Reporting.objects.filter(company__name=\"Eixo Sp - Pavimento\",executed_at__gte='2023-7-16',executed_at__lte='2023-7-31',road_name='SP-225'):\n",
    "    try:\n",
    "        if a.occurrence_type.name not in occ:\n",
    "            occ.append(a.occurrence_type.name)\n",
    "            print(a.occurrence_type.name)\n",
    "    except:\n",
    "        erro.append(a)\n",
    "        print(a.number)"
   ]
  },
  {
   "cell_type": "code",
   "execution_count": null,
   "id": "3f423f11",
   "metadata": {},
   "outputs": [],
   "source": [
    "for b in OccurrenceType.objects.filter(company__name=\"Eixo Sp - Pavimento\"):\n",
    "    for c in b.form_fields['fields']:\n",
    "        if c['dataType'] == 'arrayOfObjects' and c['apiName'] == 'alertaServiceEspessura':\n",
    "            \n",
    "            print(b.form_fields['id'],b.name,b.occurrence_kind,b.uuid)"
   ]
  },
  {
   "cell_type": "code",
   "execution_count": null,
   "id": "69fbed72",
   "metadata": {},
   "outputs": [],
   "source": [
    "r=Reporting.history.filter(number='EIXO-TER-2023.00972')"
   ]
  },
  {
   "cell_type": "code",
   "execution_count": null,
   "id": "57c0e4b5",
   "metadata": {
    "scrolled": true
   },
   "outputs": [],
   "source": [
    "r[0].__dict__"
   ]
  },
  {
   "cell_type": "code",
   "execution_count": null,
   "id": "2235486e",
   "metadata": {},
   "outputs": [],
   "source": [
    "UserInCompany.objects.filter(company__name=\"Entrevias\",permissions__uuid='b99fbd77-8556-4274-a9c0-4b40a2159c08')"
   ]
  },
  {
   "cell_type": "code",
   "execution_count": null,
   "id": "870ea162",
   "metadata": {},
   "outputs": [],
   "source": [
    "up = UserPermission.objects.filter(\n",
    "    companies__name__startswith='Arteris'\n",
    ").exclude(\n",
    "    companies__name__icontains='paulista'\n",
    ").exclude(\n",
    "    companies__name__icontains='intervias'\n",
    ").exclude(\n",
    "    companies__name__icontains='lab'\n",
    ")"
   ]
  },
  {
   "cell_type": "code",
   "execution_count": null,
   "id": "ee601f93",
   "metadata": {},
   "outputs": [],
   "source": [
    "from tqdm.notebook import tqdm\n",
    "for a in tqdm(up):\n",
    "    if a.permissions.get('quality_assay'):\n",
    "        a.permissions['quality_assay'] ={\"can_edit\": False, \n",
    "                                           \"can_view\": False, \n",
    "                                           \"queryset\": \"all\", \n",
    "                                           \"can_create\": False, \n",
    "                                           \"can_delete\": False}\n",
    "    if a.permissions.get('quality_sample'):\n",
    "        a.permissions['quality_sample'] ={\"can_edit\": False, \n",
    "                                           \"can_view\": False, \n",
    "                                           \"queryset\": \"all\", \n",
    "                                           \"can_create\": False, \n",
    "                                           \"can_delete\": False}\n",
    "    if a.permissions.get('quality_project'):\n",
    "        a.permissions['quality_project'] ={\"can_edit\": False, \n",
    "                                           \"can_view\": False, \n",
    "                                           \"queryset\": \"all\", \n",
    "                                           \"can_create\": False, \n",
    "                                           \"can_delete\": False}\n",
    "    if a.permissions.get('qualityAssay'):\n",
    "        a.permissions['qualityAssay'] ={\"can_edit\": False, \n",
    "                                           \"can_view\": False, \n",
    "                                           \"queryset\": \"all\", \n",
    "                                           \"can_create\": False, \n",
    "                                           \"can_delete\": False}\n",
    "    if a.permissions.get('qualitySample'):\n",
    "        a.permissions['qualitySample'] ={\"can_edit\": False, \n",
    "                                           \"can_view\": False, \n",
    "                                           \"queryset\": \"all\", \n",
    "                                           \"can_create\": False, \n",
    "                                           \"can_delete\": False}\n",
    "    if a.permissions.get('qualityProject'):\n",
    "        a.permissions['qualityProject'] ={\"can_edit\": False, \n",
    "                                           \"can_view\": False, \n",
    "                                           \"queryset\": \"all\", \n",
    "                                           \"can_create\": False, \n",
    "                                           \"can_delete\": False}\n",
    "    a.save()"
   ]
  },
  {
   "cell_type": "code",
   "execution_count": null,
   "id": "b62a2c83",
   "metadata": {},
   "outputs": [],
   "source": [
    "up[0].permissions"
   ]
  },
  {
   "cell_type": "code",
   "execution_count": null,
   "id": "0664a6eb",
   "metadata": {},
   "outputs": [],
   "source": [
    "import json\n",
    "company=Company.objects.get(name='Entrevias SISOAE')\n",
    "print(company.name)\n",
    "print('Permissão | Qtd_Verdadeiros | Qtd_All')\n",
    "for a in UserPermission.objects.filter(companies=company):\n",
    "    \n",
    "    print(a.name,'|',json.dumps(a.permissions).count('true'),'|',json.dumps(a.permissions).count('all'))"
   ]
  },
  {
   "cell_type": "code",
   "execution_count": null,
   "id": "b8d8cde9",
   "metadata": {},
   "outputs": [],
   "source": [
    "reps = Reporting.objects.filter(company__name='Construtora Castilho')"
   ]
  },
  {
   "cell_type": "code",
   "execution_count": null,
   "id": "58a75dc5",
   "metadata": {},
   "outputs": [],
   "source": [
    "for a in reps:\n",
    "    if not a.occurrence_type:\n",
    "        print(a.number)"
   ]
  },
  {
   "cell_type": "code",
   "execution_count": null,
   "id": "e510129e",
   "metadata": {},
   "outputs": [],
   "source": [
    "ap = ApprovalStep.objects.get(uuid='387e5cce-4aa1-4360-aec8-ee34abd46a15')"
   ]
  },
  {
   "cell_type": "code",
   "execution_count": null,
   "id": "f3dd288b",
   "metadata": {},
   "outputs": [],
   "source": [
    "ap.__dict__"
   ]
  },
  {
   "cell_type": "code",
   "execution_count": null,
   "id": "e5c6a0cf",
   "metadata": {},
   "outputs": [],
   "source": [
    "ap2 = ApprovalStep.objects.get(uuid='3983b63f-ccee-4ae6-89ac-8cffe414bbd2')"
   ]
  },
  {
   "cell_type": "code",
   "execution_count": null,
   "id": "55f3c2a0",
   "metadata": {},
   "outputs": [],
   "source": [
    "ap2.__dict__"
   ]
  },
  {
   "cell_type": "code",
   "execution_count": null,
   "id": "9ed54567",
   "metadata": {},
   "outputs": [],
   "source": [
    "ap2._meta.get_fields()"
   ]
  },
  {
   "cell_type": "code",
   "execution_count": null,
   "id": "ed853715",
   "metadata": {},
   "outputs": [],
   "source": [
    "ap2.responsible_users.all()"
   ]
  },
  {
   "cell_type": "code",
   "execution_count": null,
   "id": "21c3e323",
   "metadata": {},
   "outputs": [],
   "source": [
    "criado=ApprovalStep.objects.get(approval_flow__company__name='Construtora Castilho', name='Criado')\n",
    "aprovacao_1=ApprovalStep.objects.get(approval_flow__company__name='Construtora Castilho', name='Aguardando Aprovação 1ª camada')\n",
    "# aprovacao_2=ApprovalStep.objects.get(approval_flow__company__name='Construtora Castilho', name='Aguardando Aprovação 2ª camada')\n",
    "aprovado=ApprovalStep.objects.get(approval_flow__company__name='Construtora Castilho',\n",
    "                                  approval_flow__target_model__icontains='reporting',\n",
    "                                  name='Aprovado')"
   ]
  },
  {
   "cell_type": "code",
   "execution_count": null,
   "id": "127a00f3",
   "metadata": {},
   "outputs": [],
   "source": [
    "aprovacao_1.name='Aguardando Aprovação'\n",
    "aprovacao_1.save()"
   ]
  },
  {
   "cell_type": "code",
   "execution_count": null,
   "id": "472cee70",
   "metadata": {},
   "outputs": [],
   "source": [
    "at_2=ApprovalTransition.objects.get(destination__approval_flow__company__name='Construtora Castilho',destination=aprovacao_2)"
   ]
  },
  {
   "cell_type": "code",
   "execution_count": null,
   "id": "dc67e397",
   "metadata": {},
   "outputs": [],
   "source": [
    "at_2.__dict__"
   ]
  },
  {
   "cell_type": "code",
   "execution_count": null,
   "id": "c90582ed",
   "metadata": {},
   "outputs": [],
   "source": [
    "at_2.name=\"Aprovar\"\n",
    "at_2.condition= {'===': [{'var': 'request.action'}, 'Aprovar']}\n",
    "at_2.save()"
   ]
  },
  {
   "cell_type": "code",
   "execution_count": null,
   "id": "59264219",
   "metadata": {},
   "outputs": [],
   "source": [
    "reps=Reporting.objects.filter(company__name='Construtora Castilho',approval_step=aprovacao_2)"
   ]
  },
  {
   "cell_type": "code",
   "execution_count": null,
   "id": "b9258cb6",
   "metadata": {},
   "outputs": [],
   "source": [
    "criado.responsible_firms.add(*Firm.objects.filter(company__name='Construtora Castilho',name='Suporte Kartado'))"
   ]
  },
  {
   "cell_type": "code",
   "execution_count": null,
   "id": "6a84f3e9",
   "metadata": {},
   "outputs": [],
   "source": [
    "ReportingFile.objects.get(uuid='b6ce7dc4-87dd-48f5-b399-b329cd9b90c4')"
   ]
  },
  {
   "cell_type": "code",
   "execution_count": null,
   "id": "7a3b8326",
   "metadata": {},
   "outputs": [],
   "source": [
    "up=UserPermission.objects.get(uuid='32076d08-901e-4005-a296-8a3e907fa5de').history.all().order_by('-history_date')"
   ]
  },
  {
   "cell_type": "code",
   "execution_count": null,
   "id": "3fa8a7fc",
   "metadata": {},
   "outputs": [],
   "source": [
    "for a in up:\n",
    "    print(a.history_user,' > ',a.history_date,a.permissions.get('occurrence_record',\"Vazio\"))"
   ]
  },
  {
   "cell_type": "code",
   "execution_count": null,
   "id": "027b9522",
   "metadata": {},
   "outputs": [],
   "source": [
    "up[2].permissions['occurrence_record'],up[0].__dict__"
   ]
  },
  {
   "cell_type": "code",
   "execution_count": null,
   "id": "cf939c58",
   "metadata": {},
   "outputs": [],
   "source": [
    "UserInFirm.objects.filter(user__username=\"luan.poletti\",firm__company__name=\"Arteris Litoral Sul - Conserva\").delete()"
   ]
  },
  {
   "cell_type": "code",
   "execution_count": null,
   "id": "4c079077",
   "metadata": {},
   "outputs": [],
   "source": [
    "user = User.objects.get(username=\"cassio.conci\")\n",
    "user_firms = list((user.user_firms.all()).union(\n",
    "                    user.user_firms_manager.all()))\n",
    "len(user_firms)"
   ]
  },
  {
   "cell_type": "code",
   "execution_count": null,
   "id": "cf5e7525",
   "metadata": {},
   "outputs": [],
   "source": [
    "for a in UserInFirm.objects.filter(user=user,firm__company__name=\"Arteris Litoral Sul - Conserva\"):\n",
    "    a.uuid=None\n",
    "    a.user=User.objects.get(username=\"luan.poletti\")\n",
    "#     a.save()"
   ]
  },
  {
   "cell_type": "code",
   "execution_count": null,
   "id": "64268f7b",
   "metadata": {},
   "outputs": [],
   "source": [
    "ufirm = UserInFirm.objects.filter(user=user,firm__company__name=\"Arteris Litoral Sul - Conserva\")"
   ]
  },
  {
   "cell_type": "code",
   "execution_count": null,
   "id": "99ad085b",
   "metadata": {},
   "outputs": [],
   "source": [
    "ufirm.uuid=None\n",
    "ufirm.user=User.objects.get(username=\"luan.poletti\")\n",
    "# ufirm.save()"
   ]
  },
  {
   "cell_type": "code",
   "execution_count": null,
   "id": "235d7993",
   "metadata": {},
   "outputs": [],
   "source": [
    "UserInFirm.objects.filter(user__username=\"luan.poletti\",firm__company__name=\"Arteris Litoral Sul - Conserva\").count()"
   ]
  },
  {
   "cell_type": "code",
   "execution_count": null,
   "id": "d06a5104",
   "metadata": {},
   "outputs": [],
   "source": [
    "ufirm"
   ]
  },
  {
   "cell_type": "code",
   "execution_count": null,
   "id": "81d82829",
   "metadata": {},
   "outputs": [],
   "source": [
    "# company= Company.objects.get(name='Rota do Oeste')\n",
    "company= Company.objects.get(uuid='fea2b0fe-868f-4bb8-826a-337f03c69305')"
   ]
  },
  {
   "cell_type": "code",
   "execution_count": null,
   "id": "9e349aad",
   "metadata": {},
   "outputs": [],
   "source": [
    "a=company.custom_options\n",
    "a"
   ]
  },
  {
   "cell_type": "code",
   "execution_count": null,
   "id": "399c5943",
   "metadata": {},
   "outputs": [],
   "source": [
    "import json\n",
    "b = json.dumps(a).encode('ascii').decode()\n",
    "print(b)"
   ]
  },
  {
   "cell_type": "code",
   "execution_count": null,
   "id": "b4b0e601",
   "metadata": {},
   "outputs": [],
   "source": [
    "OccurrenceType.objects.get(uuid='ffddc9a8-f0c9-4628-8a61-8ea3b64af904').form_fields"
   ]
  },
  {
   "cell_type": "code",
   "execution_count": null,
   "id": "75a04721",
   "metadata": {},
   "outputs": [],
   "source": [
    "MultipleDailyReport.objects.filter(uuid='ac7d6266-f0fe-48cb-b336-62918955a976').delete()"
   ]
  },
  {
   "cell_type": "markdown",
   "id": "2e863685",
   "metadata": {},
   "source": [
    "# Inativar em massa"
   ]
  },
  {
   "cell_type": "code",
   "execution_count": null,
   "id": "db1b9253",
   "metadata": {},
   "outputs": [],
   "source": [
    "from tqdm.notebook import tqdm\n",
    "for a in tqdm(UserInCompany.objects.filter(company__name=\"Neovia Vacaria\")):\n",
    "    a.permissions=UserPermission.objects.filter(companies__name='Neovia Vacaria',name=\"Inativo\").first()\n",
    "    a.save()\n",
    "#     ui=a.history.all().order_by('-history_date')[1]\n",
    "#     ui.instance.save()"
   ]
  },
  {
   "cell_type": "markdown",
   "id": "3d1103b8",
   "metadata": {},
   "source": [
    "# Apontamentos por permissão"
   ]
  },
  {
   "cell_type": "code",
   "execution_count": null,
   "id": "53f0e096",
   "metadata": {},
   "outputs": [],
   "source": [
    "company=Company.objects.get(name=\"Arteris Régis Bittencourt - Conserva\")"
   ]
  },
  {
   "cell_type": "code",
   "execution_count": null,
   "id": "d01a5f77",
   "metadata": {
    "scrolled": true
   },
   "outputs": [],
   "source": [
    "user_qtd_criado={}\n",
    "for a in Reporting.history.model.objects.filter(company=company, history_type__in=[\"+\"]).values(\"history_user\"):\n",
    "    if str(a['history_user']) in user_qtd_criado:\n",
    "        \n",
    "        user_qtd_criado[str(a['history_user'])] +=1\n",
    "    else:\n",
    "        user_qtd_criado[str(a['history_user'])]=0"
   ]
  },
  {
   "cell_type": "code",
   "execution_count": null,
   "id": "e27353e7",
   "metadata": {
    "scrolled": true
   },
   "outputs": [],
   "source": [
    "# user_qtd_criado"
   ]
  },
  {
   "cell_type": "code",
   "execution_count": null,
   "id": "8eeb14a3",
   "metadata": {},
   "outputs": [],
   "source": [
    "perm_qtd_criado={}\n",
    "for b in user_qtd_criado.items():\n",
    "#     print(b)\n",
    "    if b[0] != None:\n",
    "        try:\n",
    "            perm = UserInCompany.objects.filter(user__uuid=b[0]).order_by('permissions__name').first()\n",
    "            perm_name = perm.permissions.name\n",
    "            \n",
    "            if perm_name in perm_qtd_criado:\n",
    "                perm_qtd_criado[perm_name]=b[1] + perm_qtd_criado[perm_name]\n",
    "            else:\n",
    "                perm_qtd_criado[perm_name] = b[1]\n",
    "        except:\n",
    "            pass"
   ]
  },
  {
   "cell_type": "code",
   "execution_count": null,
   "id": "91459b05",
   "metadata": {},
   "outputs": [],
   "source": [
    "# perm_qtd_criado"
   ]
  },
  {
   "cell_type": "code",
   "execution_count": null,
   "id": "4b65fb7e",
   "metadata": {},
   "outputs": [],
   "source": [
    "user_qtd_alter={}\n",
    "for a in Reporting.history.model.objects.filter(company=company, history_type__in=[\"~\"]).values(\"history_user\"):\n",
    "    if str(a['history_user']) in user_qtd_alter:\n",
    "        \n",
    "        user_qtd_alter[str(a['history_user'])] +=1\n",
    "    else:\n",
    "        user_qtd_alter[str(a['history_user'])]=0"
   ]
  },
  {
   "cell_type": "code",
   "execution_count": null,
   "id": "761abc19",
   "metadata": {},
   "outputs": [],
   "source": [
    "# user_qtd_alter"
   ]
  },
  {
   "cell_type": "code",
   "execution_count": null,
   "id": "f1d5313a",
   "metadata": {},
   "outputs": [],
   "source": [
    "perm_qtd_alter={}\n",
    "for b in user_qtd_alter.items():\n",
    "#     print(b)\n",
    "    if b[0] != None:\n",
    "        try:\n",
    "            perm = UserInCompany.objects.filter(user__uuid=b[0]).order_by('permissions__name').first()\n",
    "            perm_name = perm.permissions.name\n",
    "            \n",
    "            if perm_name in perm_qtd_alter:\n",
    "                perm_qtd_alter[perm_name]=b[1] + perm_qtd_alter[perm_name]\n",
    "            else:\n",
    "                perm_qtd_alter[perm_name] = b[1]\n",
    "        except:\n",
    "            pass"
   ]
  },
  {
   "cell_type": "code",
   "execution_count": null,
   "id": "18a853ba",
   "metadata": {},
   "outputs": [],
   "source": [
    "perm_qtd_criado,perm_qtd_alter"
   ]
  },
  {
   "cell_type": "code",
   "execution_count": null,
   "id": "1a48c941",
   "metadata": {},
   "outputs": [],
   "source": [
    "from tqdm.notebook import tqdm\n",
    "company = Company.objects.get(name=\"Arteris Régis Bittencourt - Conserva\")\n",
    "usuarios_que_criaram_ou_alteraram = Reporting.history.model.objects.filter(company=company, history_type__in=[\"+\", \"~\"]).values_list(\"history_user\", flat=True).annotate(qtd_apt = Count('uuid')).distinct()\n",
    "# usuarios_que_criaram = Reporting.history.model.objects.filter(company=company, history_type__in=[\"+\"]).values_list(\"history_user\", flat=True).annotate(qtd_apt = Count('uuid')).distinct()\n",
    "# usuarios_que_alteraram = Reporting.history.model.objects.filter(company=company, history_type__in=[\"~\"]).values_list(\"history_user\", flat=True).annotate(qtd_apt = Count('uuid')).distinct()\n",
    "permissions = []\n",
    "for user in tqdm(list(set(usuarios_que_criaram_ou_alteraram))):\n",
    "    try:\n",
    "         user_obj = User.objects.get(uuid=user)\n",
    "    except Exception as e:\n",
    "        print(e)\n",
    "        continue\n",
    "    perm = user_obj.companies_membership.get(company=company).permissions\n",
    "    if perm:\n",
    "        permissions.append(perm.name)\n",
    "print(list(set(permissions)))"
   ]
  },
  {
   "cell_type": "code",
   "execution_count": null,
   "id": "e015a669",
   "metadata": {},
   "outputs": [],
   "source": [
    "usuarios_que_criaram_ou_alteraram"
   ]
  },
  {
   "cell_type": "code",
   "execution_count": null,
   "id": "b1aad0b0",
   "metadata": {},
   "outputs": [],
   "source": [
    "UserInCompany._meta.get_fields()"
   ]
  },
  {
   "cell_type": "code",
   "execution_count": null,
   "id": "47333f26",
   "metadata": {},
   "outputs": [],
   "source": [
    "reps[0].created_by.__dict__"
   ]
  },
  {
   "cell_type": "code",
   "execution_count": null,
   "id": "abb34345",
   "metadata": {},
   "outputs": [],
   "source": [
    "reps[0].__dict__"
   ]
  },
  {
   "cell_type": "code",
   "execution_count": null,
   "id": "b1b3ae77",
   "metadata": {},
   "outputs": [],
   "source": [
    "company=Company.objects.get(name=\"VF Gomes - Vila Bela\")\n",
    "permission=UserPermission.objects.get(companies=company,name='Inativo')\n",
    "company,permission"
   ]
  },
  {
   "cell_type": "code",
   "execution_count": null,
   "id": "e0a5c844",
   "metadata": {},
   "outputs": [],
   "source": [
    "UserInCompany.objects.filter(company=company).update(permissions=permission)"
   ]
  },
  {
   "cell_type": "code",
   "execution_count": null,
   "id": "42ab2b30",
   "metadata": {},
   "outputs": [],
   "source": [
    "for a in UserInCompany.objects.filter(company__name=\"Neovia Vacaria\"):\n",
    "    print(a.user.username,a.permissions.name)"
   ]
  },
  {
   "cell_type": "code",
   "execution_count": null,
   "id": "ad3bdc0b",
   "metadata": {},
   "outputs": [],
   "source": [
    "MultipleDailyReport.objects.filter(number='KapaMun-RDO-2023.00004').delete()"
   ]
  },
  {
   "cell_type": "code",
   "execution_count": null,
   "id": "eaf4072d",
   "metadata": {},
   "outputs": [],
   "source": [
    "new_step = ApprovalStep.objects.get(\n",
    "    approval_flow__company=Company.objects.get(name=\"Rota do Oeste - Obras\"), \n",
    "    name=\"Aguardando Aprovação 2ª camada\",\n",
    "    approval_flow__target_model__icontains=\"reporting\"\n",
    ")"
   ]
  },
  {
   "cell_type": "code",
   "execution_count": null,
   "id": "a8b94f8e",
   "metadata": {},
   "outputs": [],
   "source": [
    "new_step.responsible_firms.add(*Firm.objects.filter(company__name=\"Rota do Oeste - Obras\", \n",
    "                                                    name__in=['ADP - Lote 2A - Funcional',\n",
    "                                                                     'ADP - Lote 2A - Reciclagem',\n",
    "                                                                    'ADP - Lote 2B',\n",
    "                                                                    'ADP - Lote 3A',\n",
    "                                                                    'ADP - Lote 3B']))"
   ]
  },
  {
   "cell_type": "code",
   "execution_count": null,
   "id": "c7f6ed73",
   "metadata": {},
   "outputs": [],
   "source": [
    "lista=[\"A2– Colaboradores portando crachá padrão Arteris?\",\n",
    "\"A2.1– O Encarregado está na frente de serviço?\",\n",
    "\"B2 - PDST preenchido e assinado pelos colaboradores e líder?\",\n",
    "\"C1– PTC preenchida e assinada (quando aplicável)?\",\n",
    "\"Atividade informada ao CCO (OC.)?\",\n",
    "\"D1 - Sinalização de obras e serviços está de acordo com o manual de Sinalização Arteris?\",\n",
    "\"D1.1– Robô Bandeira está em boas condições (quando aplicável)?\",\n",
    "\"D1.2– Moto Bandeira sinalizado e visível (quando aplicável)?\",\n",
    "\"D2 - Área de operação de máquinas, movimentação de cargas ou alto risco delimitada ou isolada (quando aplicável)?\",\n",
    "\"D3 - Colaborador designado e identificado para vigilância da área de operações de equipamentos 'SPOTTER'?\",\n",
    "\"D3.1– Colaborador designado para “ANJO DA GUARDA”?\",\n",
    "\"D9 - Inflamáveis estocados em local adequados/sinalizados?\",\n",
    "\"D10 - Local específico delimitado/sinalizado para uso de aparelho celular?\",\n",
    "\"D11 - Ponto de travessia segura implantado (quando necessário)?\",\n",
    "\"D15 - Condições adequadas de banheiros, área de vivência e água potável?\",\n",
    "\"D15.1– Local de Trabalho está organizado?\",\n",
    "\"D15.2– Resíduos gerados pela atividade foram recolhidos?\",\n",
    "\"D17 - Veículo de proteção posicionado adequadamente (quando aplicável)?\",\n",
    "\"E1 - Colete/Uniforme em boas condições de uso?\",\n",
    "\"E2 - Uniformes possuem tecido de alta visibilidade conservado e faixas refletivas em boas condições?\",\n",
    "\"E3 - Todos os colaboradores estão utilizando os EPI’s?\",\n",
    "\"E4 - Os EPI's encontram-se em boas condições de uso?\",\n",
    "\"F1 - Pneus e rodas em boas condições?\",\n",
    "\"F2 - Luzes (freio, faróis, giroflex) funcionando?\",\n",
    "\"F3 - Alarme sonoro funcionando?\",\n",
    "\"F4 - Câmera de Ré funcionando?\",\n",
    "\"F6 - Cintos de Segurança em boas condições?\",\n",
    "\"F11 - Documentação do Veículo válida?\",\n",
    "\"F13 - Checklist do veículo realizado?\",\n",
    "\"F13.1– Veículo devidamente identificado?\",\n",
    "\"F14 - Habilitação para transporte coletivo (quando aplicável)?\",\n",
    "\"F14.1– Motorista capacitado e habilitado?\",\n",
    "\"G1 - Operador capacitado e habilitado?\",\n",
    "\"G3 - Checklist do equipamento / máquina realizado?\",\n",
    "\"G7 - Equipamentos Manuais em condições adequadas?\"]"
   ]
  },
  {
   "cell_type": "code",
   "execution_count": null,
   "id": "2786cff2",
   "metadata": {},
   "outputs": [],
   "source": [
    "dicionario = []\n",
    "for i,a in enumerate(lista,start=1):\n",
    "    dicionario.append({'id':i,\n",
    "                    'displayName':a,\n",
    "                    'dataType':'boolean',\n",
    "                      'apiName':'securityWork'+str(i)})"
   ]
  },
  {
   "cell_type": "code",
   "execution_count": null,
   "id": "3c1205e7",
   "metadata": {},
   "outputs": [],
   "source": [
    "{\n",
    "\t\t\t\t\t\"key\": \"isTro\",\n",
    "\t\t\t\t\t\"logic\": {\n",
    "\t\t\t\t\t\t\"var\": \"formData.isTro\"\n",
    "\t\t\t\t\t},\n",
    "\t\t\t\t\t\"header\": \"TRO?\"\n",
    "\t\t\t\t}"
   ]
  },
  {
   "cell_type": "code",
   "execution_count": null,
   "id": "61fe75ea",
   "metadata": {},
   "outputs": [],
   "source": [
    "exporter=[]\n",
    "for a in OccurrenceType.objects.get(company__name=\"Arteris Litoral Sul - Conserva\", name='Segurança do Trabalho').form_fields['measurementColumns']:\n",
    "    exporter.append({\"key\": a['key'],\n",
    "                    \"header\": a['header'],\n",
    "                    \"logic\":{\"var\": \"formData.\"+a['key']}})"
   ]
  },
  {
   "cell_type": "code",
   "execution_count": null,
   "id": "5301e1bd",
   "metadata": {},
   "outputs": [],
   "source": [
    "exporter"
   ]
  },
  {
   "cell_type": "code",
   "execution_count": null,
   "id": "6df40af4",
   "metadata": {},
   "outputs": [],
   "source": [
    "company=Company.objects.get(name=\"Arteris Litoral Sul - Conserva\")"
   ]
  },
  {
   "cell_type": "code",
   "execution_count": null,
   "id": "22f76edd",
   "metadata": {},
   "outputs": [],
   "source": [
    "c=company.history.all().order_by('-history_date')\n",
    "ce=c[5]"
   ]
  },
  {
   "cell_type": "code",
   "execution_count": null,
   "id": "a63bbed3",
   "metadata": {},
   "outputs": [],
   "source": [
    "ce.history_user.username,ce.history_date,ce.custom_options"
   ]
  },
  {
   "cell_type": "code",
   "execution_count": null,
   "id": "e7fafda0",
   "metadata": {},
   "outputs": [],
   "source": [
    "# c[5].instance.save()"
   ]
  },
  {
   "cell_type": "code",
   "execution_count": null,
   "id": "7225611c",
   "metadata": {},
   "outputs": [],
   "source": [
    "import json\n",
    "for a in Reporting.objects.filter(company=company):\n",
    "    if a.occurrence_type == None:\n",
    "        print(a)"
   ]
  },
  {
   "cell_type": "code",
   "execution_count": null,
   "id": "d30f641c",
   "metadata": {},
   "outputs": [],
   "source": [
    "Reporting.objects.filter(company=company,occurrence_type__isnull=True)"
   ]
  },
  {
   "cell_type": "code",
   "execution_count": null,
   "id": "30b6323e",
   "metadata": {},
   "outputs": [],
   "source": [
    "for a in OccurrenceType.objects.filter(company=company):\n",
    "    if a.form_fields.get('fields'):\n",
    "        for b in a.form_fields['fields']:\n",
    "            for x,c in b.items():\n",
    "                if 'security' in x or 'security' in c:\n",
    "                    print(a.name)"
   ]
  },
  {
   "cell_type": "code",
   "execution_count": null,
   "id": "66d09574",
   "metadata": {},
   "outputs": [],
   "source": [
    "oc=OccurrenceType.objects.get(company=company,uuid='8f9a1e51-07fa-4707-9074-097e558f7c0f')"
   ]
  },
  {
   "cell_type": "code",
   "execution_count": null,
   "id": "dfd90332",
   "metadata": {},
   "outputs": [],
   "source": [
    "teste=oc.history.all().order_by('-history_date')"
   ]
  },
  {
   "cell_type": "code",
   "execution_count": null,
   "id": "480a37a8",
   "metadata": {},
   "outputs": [],
   "source": [
    "teste[2].instance.save()"
   ]
  },
  {
   "cell_type": "code",
   "execution_count": null,
   "id": "07e4d1eb",
   "metadata": {},
   "outputs": [],
   "source": [
    "user = User.objects.get(username=\"marcio.iran\")\n",
    "user_firms = list((user.user_firms.all()).union(\n",
    "                    user.user_firms_manager.all()))\n",
    "len(user_firms)"
   ]
  },
  {
   "cell_type": "code",
   "execution_count": null,
   "id": "a2d348c7",
   "metadata": {},
   "outputs": [],
   "source": [
    "UserInFirm.objects.filter(user=user)[0].history.all().order_by('-history_date')"
   ]
  },
  {
   "cell_type": "code",
   "execution_count": null,
   "id": "18258c04",
   "metadata": {},
   "outputs": [],
   "source": [
    "job=Job.objects.get(number='INT-job-2023.4812')"
   ]
  },
  {
   "cell_type": "code",
   "execution_count": null,
   "id": "332c04ae",
   "metadata": {},
   "outputs": [],
   "source": [
    "job_history=job.history.all().order_by('-history_date')"
   ]
  },
  {
   "cell_type": "code",
   "execution_count": null,
   "id": "dab92773",
   "metadata": {},
   "outputs": [],
   "source": [
    "j=job_history[0]"
   ]
  },
  {
   "cell_type": "code",
   "execution_count": null,
   "id": "20b93af4",
   "metadata": {},
   "outputs": [],
   "source": [
    "j.archived"
   ]
  },
  {
   "cell_type": "code",
   "execution_count": null,
   "id": "408c8c48",
   "metadata": {},
   "outputs": [],
   "source": [
    "j.history_user,j.history_date"
   ]
  },
  {
   "cell_type": "code",
   "execution_count": null,
   "id": "da755199",
   "metadata": {},
   "outputs": [],
   "source": [
    "\"\"\"\n",
    "INT-job-2023.4870 > 05/10/23\n",
    "INT-job-2023.4835 > 29/09/23\n",
    "INT-job-2023.4808 > 29/09/23\n",
    "INT-job-2023.4838 > 29/09/23\n",
    "INT-job-2023.4812 > 29/09/23\n",
    "\"\"\"\n"
   ]
  },
  {
   "cell_type": "code",
   "execution_count": null,
   "id": "013a99cb",
   "metadata": {},
   "outputs": [],
   "source": [
    "uf=UserInFirm.history.filter(user__username='marcio.iran')"
   ]
  },
  {
   "cell_type": "code",
   "execution_count": null,
   "id": "285ed40b",
   "metadata": {},
   "outputs": [],
   "source": [
    "for a in uf:\n",
    "    print(a)"
   ]
  },
  {
   "cell_type": "code",
   "execution_count": null,
   "id": "d58c0aaf",
   "metadata": {},
   "outputs": [],
   "source": [
    "MultipleDailyReport.objects.get(uuid='158c62dc-fc78-4dc1-a46a-95ec103a6f27').delete()"
   ]
  },
  {
   "cell_type": "markdown",
   "id": "e1d57eff",
   "metadata": {},
   "source": [
    "# Tela branca no login do usuário erro de solicitação de acesso/permissão"
   ]
  },
  {
   "cell_type": "code",
   "execution_count": 1,
   "id": "89162e6b",
   "metadata": {},
   "outputs": [
    {
     "name": "stdout",
     "output_type": "stream",
     "text": [
      "tudo certo pra Construtora Castilho (Grupo Pátria)  Permissão:  Suporte\n",
      "tudo certo pra Modera - Maya  Permissão:  Suporte\n",
      "tudo certo pra Eixo SP  Permissão:  Suporte\n",
      "tudo certo pra Modera - Consórcio Gerencia OAE SP  Permissão:  Suporte\n",
      "tudo certo pra Kartado Modelo (Avançado)  Permissão:  Suporte\n",
      "tudo certo pra Demonstração Ferrovias  Permissão:  Suporte\n",
      "tudo certo pra Eixo SP - SISOAE  Permissão:  Suporte\n",
      "tudo certo pra Construtora Castilho (Ferrovias)  Permissão:  Suporte\n",
      "tudo certo pra Demonstração Saneamento  Permissão:  Suporte\n",
      "tudo certo pra Construtora Castilho (Ramilândia)  Permissão:  Suporte\n",
      "tudo certo pra Demonstração Concessionárias  Permissão:  Suporte\n",
      "tudo certo pra Eixo Sp - Pavimento  Permissão:  Suporte\n",
      "tudo certo pra Modera - Consolare  Permissão:  Suporte\n",
      "tudo certo pra Modera - Cortel  Permissão:  Suporte\n",
      "tudo certo pra LCM - Criciúma  Permissão:  Suporte\n",
      "tudo certo pra LCM - Gaspar  Permissão:  Suporte\n",
      "tudo certo pra Eco Noroeste SISOBRAS  Permissão:  Suporte\n",
      "tudo certo pra Via Araucária  Permissão:  Suporte\n",
      "tudo certo pra Afirma Engenharia Viária  Permissão:  Suporte\n",
      "tudo certo pra Modera - Velar  Permissão:  Suporte\n",
      "tudo certo pra LCM - Ituporanga  Permissão:  Suporte\n",
      "tudo certo pra CAJ  Permissão:  Suporte\n",
      "tudo certo pra Demo Concessionárias  Permissão:  Suporte\n",
      "tudo certo pra Kartado | SIGACO  Permissão:  Coordenador\n",
      "tudo certo pra Kartado Modelo (Básico)  Permissão:  Suporte\n",
      "tudo certo pra Terrayama - DER Araçuaí  Permissão:  Suporte\n",
      "tudo certo pra Eco Noroeste SISSOND  Permissão:  Suporte\n"
     ]
    }
   ],
   "source": [
    "for a in UserInCompany.objects.filter(user__username='arthur.barros'):\n",
    "    try:\n",
    "        UserPermission.objects.get(companies=a.company,name=a.permissions.name)\n",
    "        print('tudo certo pra',a.company.name,' Permissão: ',a.permissions.name)\n",
    "    except Exception as e:\n",
    "        print(f'essa permissão {a.permissions.name} não existe pra essa unidade {a.company.name} | Erro: {e}')"
   ]
  },
  {
   "cell_type": "code",
   "execution_count": null,
   "id": "3e1c8409",
   "metadata": {},
   "outputs": [],
   "source": [
    "for a in UserPermission.objects.filter(companies__name='VF Gomes - BR158'):\n",
    "    print(a.name)"
   ]
  },
  {
   "cell_type": "code",
   "execution_count": null,
   "id": "9f47fd9a",
   "metadata": {},
   "outputs": [],
   "source": [
    "for a in AccessRequest.objects.filter(user__username='heverton.juliano').order_by('-created_at'):\n",
    "    print(a.user.full_name,a.company.name,a.permissions.name,a.created_by)"
   ]
  },
  {
   "cell_type": "code",
   "execution_count": null,
   "id": "ddd57fcc",
   "metadata": {},
   "outputs": [],
   "source": [
    "AccessRequest.objects.filter(user__username='talita.arantes')[0].__dict__"
   ]
  },
  {
   "cell_type": "code",
   "execution_count": null,
   "id": "87b9c347",
   "metadata": {},
   "outputs": [],
   "source": [
    "UserPermission.objects.filter(companies__name='Neovia Vacaria',name='Inativo')"
   ]
  },
  {
   "cell_type": "code",
   "execution_count": null,
   "id": "64f8603a",
   "metadata": {},
   "outputs": [],
   "source": [
    "# UserInCompany.objects.filter(user=User.objects.get(username='LETICIA'),\n",
    "#              company=Company.objects.get(name='Neovia Vacaria')).update(\n",
    "#              permissions=UserPermission.objects.filter(companies__name='Neovia Vacaria',name='Inativo').first())\n",
    "\n",
    "# UserInCompany.objects.filter(\n",
    "#              company=Company.objects.get(name='Neovia Vacaria')).update(\n",
    "#              permissions=UserPermission.objects.get(companies__name='Neovia Vacaria',uuid='abca0b11-4750-44fd-b411-74386cb51cf1'))"
   ]
  },
  {
   "cell_type": "markdown",
   "id": "1b2b2efa",
   "metadata": {},
   "source": [
    "# Relatório Km inicial e final/ coordenadas"
   ]
  },
  {
   "cell_type": "code",
   "execution_count": null,
   "id": "02649975",
   "metadata": {},
   "outputs": [],
   "source": [
    "values=[]\n",
    "for a in Road.objects.filter(company__name=\"Eixo Sp - Pavimento\"):\n",
    "    inicial=a.marks[list(a.marks)[0]]\n",
    "    final=a.marks[list(a.marks)[-1]]\n",
    "    obj={}\n",
    "    obj={'rodovia':a.name,\n",
    "        'km inicial':inicial['km'],\n",
    "        'km final':final['km'],\n",
    "        'longitude_inicial': inicial['point']['coordinates'][0],\n",
    "        'latitude_inicial': inicial['point']['coordinates'][1],\n",
    "        'longitude_final': final['point']['coordinates'][0],\n",
    "        'latitude_final': final['point']['coordinates'][1]}\n",
    "    values.append(obj)"
   ]
  },
  {
   "cell_type": "code",
   "execution_count": null,
   "id": "9b32958a",
   "metadata": {},
   "outputs": [],
   "source": [
    "values[0]"
   ]
  },
  {
   "cell_type": "code",
   "execution_count": null,
   "id": "95bdb286",
   "metadata": {},
   "outputs": [],
   "source": [
    "a"
   ]
  },
  {
   "cell_type": "markdown",
   "id": "cdc6d90f",
   "metadata": {},
   "source": [
    "# todas as coordenadas"
   ]
  },
  {
   "cell_type": "code",
   "execution_count": null,
   "id": "0fe9e216",
   "metadata": {},
   "outputs": [],
   "source": [
    "values=[]\n",
    "for a in Road.objects.filter(company__name__icontains=\"Modera\"):\n",
    "    marks=a.marks\n",
    "    obj={}\n",
    "    obj={'rodovia':a.name,\n",
    "        'marcos':[{'km':marks[data]['km'],\n",
    "                   'longitude': marks[data]['point']['coordinates'][0],\n",
    "                   'latitude': marks[data]['point']['coordinates'][1]} for data in marks]}\n",
    "    values.append(obj)"
   ]
  },
  {
   "cell_type": "code",
   "execution_count": null,
   "id": "177c5560",
   "metadata": {},
   "outputs": [],
   "source": [
    "values"
   ]
  },
  {
   "cell_type": "code",
   "execution_count": null,
   "id": "ebda8047",
   "metadata": {},
   "outputs": [],
   "source": [
    "import pandas as pd\n",
    "from tqdm.notebook import tqdm"
   ]
  },
  {
   "cell_type": "code",
   "execution_count": null,
   "id": "22c1b0bb",
   "metadata": {},
   "outputs": [],
   "source": [
    "filename = 'Rodovias_Modera'\n",
    "pd.DataFrame().to_excel(filename+'.xlsx')"
   ]
  },
  {
   "cell_type": "code",
   "execution_count": null,
   "id": "1d9afe58",
   "metadata": {},
   "outputs": [],
   "source": [
    "for dataU in tqdm(values):\n",
    "    index={}\n",
    "    sheetname = dataU['rodovia'].replace('/','-')\n",
    "    df2 = pd.DataFrame(data=dataU['marcos'])\n",
    "    with pd.ExcelWriter(filename+'.xlsx', mode='a',if_sheet_exists='replace') as writer:\n",
    "        df2.to_excel(writer,sheet_name=sheetname,na_rep=\"-\")"
   ]
  },
  {
   "cell_type": "markdown",
   "id": "a53a1dde",
   "metadata": {},
   "source": [
    "# arquivo corrompido"
   ]
  },
  {
   "cell_type": "code",
   "execution_count": null,
   "id": "c6c632f5",
   "metadata": {},
   "outputs": [],
   "source": [
    "reporting_file=ReportingFile.objects.get(uuid='d7d05a98-bd23-4fe8-9dc4-c3840bb84af9')\n",
    "reporting_file.__dict__"
   ]
  },
  {
   "cell_type": "code",
   "execution_count": null,
   "id": "abb7d91c",
   "metadata": {},
   "outputs": [],
   "source": [
    "reporting_file.upload.url"
   ]
  },
  {
   "cell_type": "code",
   "execution_count": null,
   "id": "93a58f32",
   "metadata": {},
   "outputs": [],
   "source": [
    "ReportingFile.objects.filter(reporting__in=Reporting.objects.filter(created_by__username='ingrid.santos',found_at__gte='2023-2-1',found_at__lte='2023-2-28'))"
   ]
  },
  {
   "cell_type": "code",
   "execution_count": null,
   "id": "74a5c08a",
   "metadata": {},
   "outputs": [],
   "source": [
    "for a in ReportingFile.objects.filter(reporting__in=Reporting.objects.filter(created_by__username='barbara.ferreira')):\n",
    "    try:\n",
    "        a.upload.url\n",
    "    except:\n",
    "        print(a.reporting)"
   ]
  },
  {
   "cell_type": "code",
   "execution_count": null,
   "id": "fd243835",
   "metadata": {},
   "outputs": [],
   "source": [
    "for a in ReportingFile.objects.filter(uuid='d7d05a98-bd23-4fe8-9dc4-c3840bb84af9'):\n",
    "    try:\n",
    "        a.upload.url\n",
    "    except:\n",
    "        print(a.reporting)                                  "
   ]
  },
  {
   "cell_type": "code",
   "execution_count": null,
   "id": "10853563",
   "metadata": {},
   "outputs": [],
   "source": [
    "con=Contract.objects.get(subcompany__company__name=\"Pavicolet (Amapá)\",\n",
    "                            name='Manutenção (Conservação/Recuperação) BR-156/AP - km 659,44 à km 769,80 - Lote 3')\n",
    "con"
   ]
  },
  {
   "cell_type": "code",
   "execution_count": null,
   "id": "19d57045",
   "metadata": {},
   "outputs": [],
   "source": [
    "cu=ContractItemUnitPrice.objects.get(\n",
    "    resource__contract=con,\n",
    "    resource__resource__name='Desmatamento, destocamento, limpeza de área e estocagem do material de limpeza com árvores de diâmetro até 0,15 m')"
   ]
  },
  {
   "cell_type": "code",
   "execution_count": null,
   "id": "0eaa1bbb",
   "metadata": {},
   "outputs": [],
   "source": [
    "for a in cu.resource.history.all().order_by('-history_date'):\n",
    "    print(a.history_date)"
   ]
  },
  {
   "cell_type": "code",
   "execution_count": null,
   "id": "8f55e7af",
   "metadata": {},
   "outputs": [],
   "source": [
    "lista=['Fresagem Estrutural',\n",
    "'Recuperação de Base',\n",
    "'Reconstrução',\n",
    "'Microfresagem e Microrrevestimento',\n",
    "'Remendo Corretivo',\n",
    "'Remendo Emergencial',\n",
    "'Tapa Buraco',\n",
    "'Dreno Pavimento  Longitudinal',\n",
    "'Dreno Pavimento Transversal']\n",
    "len(lista)"
   ]
  },
  {
   "cell_type": "code",
   "execution_count": null,
   "id": "f515e5db",
   "metadata": {},
   "outputs": [],
   "source": [
    "company=Company.objects.get(name=\"CART\")\n",
    "company"
   ]
  },
  {
   "cell_type": "code",
   "execution_count": null,
   "id": "839c9447",
   "metadata": {},
   "outputs": [],
   "source": [
    "for a in OccurrenceType.objects.filter(company=company,name='Reposição/Substituição (baixa refletância/furto/avariada) (solo/aérea)'):\n",
    "    a.uuid=None\n",
    "    a.name='Reposição/Substituição (baixa refletância/furto/avariada) (solo/aérea) Inventário'\n",
    "    a.occurrence_kind='2'\n",
    "    a.save()\n",
    "    spec=OccurrenceTypeSpecs(occurrence_type=a, company=company)\n",
    "    spec.save()\n",
    "    "
   ]
  },
  {
   "cell_type": "code",
   "execution_count": null,
   "id": "e3ff9b9c",
   "metadata": {},
   "outputs": [],
   "source": [
    "occ=OccurrenceType.objects.filter(company=company).order_by('-created_at')\n",
    "occ[1]"
   ]
  },
  {
   "cell_type": "code",
   "execution_count": null,
   "id": "b7381e9e",
   "metadata": {},
   "outputs": [],
   "source": [
    "for b in lista:\n",
    "    spec=OccurrenceTypeSpecs(occurrence_type=OccurrenceType.objects.get(name=b,occurrence_kind='9'), company=company)\n",
    "#     spec.save()\n",
    "    print(OccurrenceType.objects.get(name=b,occurrence_kind='9'))"
   ]
  },
  {
   "cell_type": "code",
   "execution_count": null,
   "id": "4194f84c",
   "metadata": {},
   "outputs": [],
   "source": [
    "for a in Company.objects.all().order_by('name'):\n",
    "    print(a.name,\" | \",a.company_group)"
   ]
  },
  {
   "cell_type": "code",
   "execution_count": null,
   "id": "8dbfe6ac",
   "metadata": {},
   "outputs": [],
   "source": [
    "!cat .env"
   ]
  },
  {
   "cell_type": "code",
   "execution_count": null,
   "id": "8f62b9ab",
   "metadata": {},
   "outputs": [],
   "source": [
    "import datetime as dt\n",
    "from tqdm.notebook import tqdm"
   ]
  },
  {
   "cell_type": "code",
   "execution_count": null,
   "id": "4baf0275",
   "metadata": {},
   "outputs": [],
   "source": [
    "company=Company.objects.filter(name='Demo Concessionárias').first()\n",
    "description=\"Teste Performance\"\n",
    "user=User.objects.get(username='rlcs')\n",
    "firm=Firm.objects.get(company=company,name='Teste Performance')\n",
    "data=dt.datetime.today()\n",
    "company"
   ]
  },
  {
   "cell_type": "code",
   "execution_count": null,
   "id": "d84bed56",
   "metadata": {},
   "outputs": [],
   "source": [
    "duz=Reporting.objects.filter(company=company,job_id__isnull=True).order_by('-number').distinct()[:200]\n",
    "quin=Reporting.objects.filter(company=company,job_id__isnull=True).order_by('-number').distinct()[:500]\n",
    "mil=Reporting.objects.filter(company=company,job_id__isnull=True).order_by('-number').distinct()[:1000]\n",
    "milq=Reporting.objects.filter(company=company,job_id__isnull=True).order_by('-number').distinct()[:1500]"
   ]
  },
  {
   "cell_type": "code",
   "execution_count": null,
   "id": "4347f7ef",
   "metadata": {},
   "outputs": [],
   "source": [
    "job=Job(description=description,\n",
    "       firm=firm,\n",
    "       created_by=user,\n",
    "        company=company,\n",
    "       start_date=data,\n",
    "        title=description,\n",
    "       worker=user)\n",
    "job.save()\n",
    "job.reportings.add(*duz)\n",
    "job.watcher_users.add(*User.objects.filter(username__in=['luan.poletti','renato.dandaluzia']))"
   ]
  },
  {
   "cell_type": "code",
   "execution_count": null,
   "id": "bd9c9f48",
   "metadata": {},
   "outputs": [],
   "source": [
    "duz.count(),quin.count(),mil.count(),milq.count()"
   ]
  },
  {
   "cell_type": "code",
   "execution_count": null,
   "id": "e0ee6b24",
   "metadata": {},
   "outputs": [],
   "source": [
    "job.reportings.add(*duz)"
   ]
  },
  {
   "cell_type": "code",
   "execution_count": null,
   "id": "6974bdcf",
   "metadata": {},
   "outputs": [],
   "source": [
    "for i,a in enumerate(range(15)):\n",
    "    duz=Reporting.objects.filter(company=company,job_id__isnull=True).order_by('-number').distinct()[:200]\n",
    "    job=Job(description=description+str(i),\n",
    "       firm=firm,\n",
    "       created_by=user,\n",
    "        company=company,\n",
    "       start_date=data,\n",
    "        title=description+str(i),\n",
    "       worker=user)\n",
    "    job.save()\n",
    "    job.reportings.add(*duz)\n",
    "    job.watcher_users.add(*User.objects.filter(username__in=['luan.poletti','renato.dandaluzia']))"
   ]
  },
  {
   "cell_type": "code",
   "execution_count": null,
   "id": "9b897824",
   "metadata": {},
   "outputs": [],
   "source": [
    "for i,a in enumerate(Job.objects.filter(firm=firm)):\n",
    "    a.save()"
   ]
  },
  {
   "cell_type": "code",
   "execution_count": null,
   "id": "a06f170c",
   "metadata": {},
   "outputs": [],
   "source": [
    "rf_vacaria=ReportingFile.objects.filter(reporting__company__name=\"Neovia Vacaria\")[:4]"
   ]
  },
  {
   "cell_type": "code",
   "execution_count": null,
   "id": "b6c02d81",
   "metadata": {},
   "outputs": [],
   "source": [
    "rf=[]\n",
    "for i,a in tqdm(enumerate(Reporting.objects.filter(job__firm=firm,company=company))):\n",
    "    for vaca in rf_vacaria:\n",
    "        rf.append(ReportingFile(created_by=user,\n",
    "                reporting=a,\n",
    "                description='teste performance'+str(i),\n",
    "                km=a.km,\n",
    "                point=a.point,\n",
    "                upload=vaca.upload))\n"
   ]
  },
  {
   "cell_type": "code",
   "execution_count": null,
   "id": "4e2db697",
   "metadata": {},
   "outputs": [],
   "source": [
    "ReportingFile.objects.bulk_create(rf)"
   ]
  },
  {
   "cell_type": "code",
   "execution_count": null,
   "id": "9111fca7",
   "metadata": {},
   "outputs": [],
   "source": [
    "Reporting.objects.filter(job__firm=firm,company=company).count()"
   ]
  },
  {
   "cell_type": "code",
   "execution_count": null,
   "id": "5acaa38b",
   "metadata": {},
   "outputs": [],
   "source": [
    "rf_vacaria[0]._meta.get_fields(),rf_vacaria[0].upload,rf_vacaria.count()"
   ]
  },
  {
   "cell_type": "code",
   "execution_count": null,
   "id": "616a64b7",
   "metadata": {},
   "outputs": [],
   "source": [
    "job2=Job.objects.get(uuid='2c514499-a0a4-4f06-8a73-bd7f59eabf36')\n",
    "job2.reporting_count=146\n",
    "job2.save()"
   ]
  },
  {
   "cell_type": "code",
   "execution_count": null,
   "id": "7e0ec4c0",
   "metadata": {},
   "outputs": [],
   "source": [
    "for i,a in enumerate(job2.reportings.all()):\n",
    "    print(i,a)"
   ]
  },
  {
   "cell_type": "code",
   "execution_count": null,
   "id": "88a8856a",
   "metadata": {},
   "outputs": [],
   "source": [
    "job2.save()"
   ]
  },
  {
   "cell_type": "code",
   "execution_count": null,
   "id": "80528776",
   "metadata": {},
   "outputs": [],
   "source": [
    "job._meta.get_fields()"
   ]
  },
  {
   "cell_type": "code",
   "execution_count": null,
   "id": "1d545a4e",
   "metadata": {},
   "outputs": [],
   "source": [
    "Reporting.objects.filter(company=company,job_id__isnull=True).count()"
   ]
  },
  {
   "cell_type": "code",
   "execution_count": null,
   "id": "03f1538e",
   "metadata": {},
   "outputs": [],
   "source": [
    "for a in Company.objects.all():\n",
    "    if a.custom_options.get('reporting'):\n",
    "        print(a.custom_options.get('reporting').get('listColumns'))"
   ]
  },
  {
   "cell_type": "code",
   "execution_count": null,
   "id": "2a99329c",
   "metadata": {},
   "outputs": [],
   "source": [
    "DailyReportConfig._meta.get_fields()"
   ]
  },
  {
   "cell_type": "code",
   "execution_count": null,
   "id": "c12b84f0",
   "metadata": {},
   "outputs": [],
   "source": [
    "company=Company.objects.get(name='Construtora Castilho')"
   ]
  },
  {
   "cell_type": "code",
   "execution_count": null,
   "id": "e3216e43",
   "metadata": {},
   "outputs": [],
   "source": [
    "for a in company.history.all():\n",
    "    for b,c in a.metadata.items():\n",
    "        if b == 'field_to_automatically_link_reportings_to_rdo':\n",
    "            print(b,c)"
   ]
  },
  {
   "cell_type": "markdown",
   "id": "aa53739a",
   "metadata": {},
   "source": [
    "# Relatório Antigo Kapa"
   ]
  },
  {
   "cell_type": "code",
   "execution_count": null,
   "id": "d7b64582",
   "metadata": {},
   "outputs": [],
   "source": [
    "import re\n",
    "\n",
    "def convert_string(string: str) -> str:\n",
    "    if '_' in string:\n",
    "        # Convert snake_case to camelCase\n",
    "        return re.sub(r'_([a-z])', lambda x: x.group(1).upper(), string)\n",
    "    else:\n",
    "        # Convert camelCase to snake_case\n",
    "        return re.sub(r'([A-Z])', lambda x: '_' + x.group(1).lower(), string)"
   ]
  },
  {
   "cell_type": "code",
   "execution_count": null,
   "id": "46ca8ee0",
   "metadata": {},
   "outputs": [],
   "source": [
    "def traduz_occ_apiName(field_raw,occ):\n",
    "    field=convert_string(field_raw)\n",
    "    for a in occ.form_fields['fields']:\n",
    "        if a['apiName'] == field:\n",
    "#             print(a['apiName'],a['displayName'],field)\n",
    "            return a['displayName'].strip()\n",
    "        elif a['dataType'] == 'arrayOfObjects':\n",
    "            for b in a['innerFields']:\n",
    "                if b['apiName'] == field:\n",
    "#                     print(b['apiName'],field)\n",
    "                    return b['displayName'].strip()\n",
    "        elif a['dataType'] == 'select':\n",
    "            for c in a['selectOptions']['options']:\n",
    "                if c['value'] == field:\n",
    "#                     print(b['apiName'],field)\n",
    "                    return c['name'].strip()\n",
    "    \n",
    "    return field"
   ]
  },
  {
   "cell_type": "code",
   "execution_count": null,
   "id": "1448bbd4",
   "metadata": {},
   "outputs": [],
   "source": [
    "reps=[]\n",
    "for a in Reporting.objects.filter(company__name='Kapa Município'):\n",
    "    rep={'Serial':a.number,\n",
    "                'Rodovia':a.road_name,\n",
    "                'Km':a.km,\n",
    "                'Km Final':a.end_km,\n",
    "                'Lote':a.lot,\n",
    "                \"Sentido\":a.direction,\n",
    "                'Faixa':a.lane,\n",
    "                'Classe':a.occurrence_type.name,\n",
    "                'Criado Em':a.created_at.strftime('%Y-%m-%dT03:00:00.000Z') if a.created_at is not None else None,\n",
    "                'Executado Em':a.executed_at.strftime('%Y-%m-%dT03:00:00.000Z') if a.executed_at is not None else None\n",
    "                }\n",
    "    \n",
    "    \n",
    "    \n",
    "    \n",
    "    \n",
    "    for form_data_field in a.form_data:\n",
    "#         print(a.form_data[form_data_field])\n",
    "        for fields in a.occurrence_type.history.all().order_by('-history_date')[1].form_fields['fields']: \n",
    "            if fields['apiName'] == form_data_field and fields['dataType'] == 'select':\n",
    "                for v in fields['selectOptions']['options']:\n",
    "                    if v['value'] == a.form_data[form_data_field]:\n",
    "                        rep.update({fields['displayName']: v['value']})\n",
    "            if fields['dataType'] == 'arrayOfObjects':\n",
    "                for inner in fields['innerFields']:\n",
    "                    if inner['apiName'] == form_data_field:\n",
    "                        rep.update({fields['displayName']: a.form_data[form_data_field]})\n",
    "            if fields['apiName'] == form_data_field:\n",
    "                rep.update({fields['displayName']: a.form_data[form_data_field]})\n",
    "        \n",
    "        \n",
    "        \n",
    "        \n",
    "#         for name, valor in a.form_data.items():\n",
    "#             if isinstance(valor,list):\n",
    "#                 for i,val in enumerate(valor):\n",
    "#                     for k,v in enumerate(val.items(),start=1):\n",
    "#     #                     print(v[0])\n",
    "#                         display=traduz_occ_apiName(v[0],a.occurrence_type)\n",
    "#     #                     print(display)\n",
    "#                         rep.update({display+'_'+str(i): v[1]})\n",
    "#             if valor == 'select':\n",
    "#             else:\n",
    "#                 display2 = traduz_occ_apiName(name,a.occurrence_type)\n",
    "#                 rep.update({display2: valor})\n",
    "\n",
    "    reps.append(rep)\n",
    "    "
   ]
  },
  {
   "cell_type": "code",
   "execution_count": null,
   "id": "0ed2b1f8",
   "metadata": {},
   "outputs": [],
   "source": [
    "reps[0]"
   ]
  },
  {
   "cell_type": "code",
   "execution_count": null,
   "id": "b8606825",
   "metadata": {},
   "outputs": [],
   "source": [
    "company=Company.objects.get(name='CART')"
   ]
  },
  {
   "cell_type": "code",
   "execution_count": null,
   "id": "d57a7fc4",
   "metadata": {},
   "outputs": [],
   "source": [
    "for a in OccurrenceType.objects.filter(company=company,occurrence_kind='13'):\n",
    "    print(f\"'{a.uuid}'\")"
   ]
  },
  {
   "cell_type": "code",
   "execution_count": null,
   "id": "bd2c0336",
   "metadata": {},
   "outputs": [],
   "source": [
    "Job._meta.get_fields()"
   ]
  },
  {
   "cell_type": "markdown",
   "id": "b9553eaa",
   "metadata": {},
   "source": [
    "# Relatório Programações"
   ]
  },
  {
   "cell_type": "code",
   "execution_count": null,
   "id": "acabfa40",
   "metadata": {},
   "outputs": [],
   "source": [
    "import pandas as pd\n",
    "import matplotlib.pyplot as plt\n",
    "import scipy.stats as stats\n",
    "import numpy as np\n",
    "import plotly.express as px\n",
    "import plotly.io as pio\n",
    "import plotly.graph_objects as go"
   ]
  },
  {
   "cell_type": "code",
   "execution_count": null,
   "id": "d08fc79f",
   "metadata": {},
   "outputs": [],
   "source": [
    "jobs=Job.objects.filter(archived=False,start_date__gte='2023-6-1',reporting_count__gt=0).values('company__name','reporting_count','uuid').order_by('company__name')"
   ]
  },
  {
   "cell_type": "code",
   "execution_count": null,
   "id": "29870693",
   "metadata": {},
   "outputs": [],
   "source": [
    "jobs_total=Job.objects.filter(archived=False,start_date__gte='2023-6-1').values('company__name').annotate(qtd_prog=Count('uuid')).order_by('company__name')"
   ]
  },
  {
   "cell_type": "code",
   "execution_count": null,
   "id": "37d37a90",
   "metadata": {},
   "outputs": [],
   "source": [
    "jobs.count()"
   ]
  },
  {
   "cell_type": "code",
   "execution_count": null,
   "id": "dd53bdb7",
   "metadata": {},
   "outputs": [],
   "source": [
    "jobs[7]"
   ]
  },
  {
   "cell_type": "code",
   "execution_count": null,
   "id": "55ece919",
   "metadata": {},
   "outputs": [],
   "source": [
    "df = pd.DataFrame(data=jobs,columns=['company__name','reporting_count','uuid'])"
   ]
  },
  {
   "cell_type": "code",
   "execution_count": null,
   "id": "9ec14b7e",
   "metadata": {},
   "outputs": [],
   "source": [
    "df"
   ]
  },
  {
   "cell_type": "code",
   "execution_count": null,
   "id": "626d9f23",
   "metadata": {},
   "outputs": [],
   "source": [
    "jobs_total[0]"
   ]
  },
  {
   "cell_type": "code",
   "execution_count": null,
   "id": "0ebadf43",
   "metadata": {},
   "outputs": [],
   "source": [
    "df2 = pd.DataFrame(data=jobs_total,columns=['company__name','qtd_prog'])"
   ]
  },
  {
   "cell_type": "code",
   "execution_count": null,
   "id": "3aacba46",
   "metadata": {},
   "outputs": [],
   "source": [
    "df2"
   ]
  },
  {
   "cell_type": "code",
   "execution_count": null,
   "id": "6982c0f7",
   "metadata": {},
   "outputs": [],
   "source": [
    "# df.set_index(\"Unidade\", inplace=True)"
   ]
  },
  {
   "cell_type": "code",
   "execution_count": null,
   "id": "d7f0798d",
   "metadata": {},
   "outputs": [],
   "source": [
    "# df.to_excel('jobs.xlsx')"
   ]
  },
  {
   "cell_type": "code",
   "execution_count": null,
   "id": "c251ae9f",
   "metadata": {},
   "outputs": [],
   "source": [
    "# with pd.ExcelWriter(\"Jobs.xlsx\") as writer:\n",
    "#     df.to_excel(writer, sheet_name=\"Qtd por programação\")  \n",
    "#     df2.to_excel(writer, sheet_name=\"Qtd programação por unidade\")"
   ]
  },
  {
   "cell_type": "code",
   "execution_count": null,
   "id": "a421dda8",
   "metadata": {},
   "outputs": [],
   "source": [
    "m = pd.merge(df, df2, how = 'left', on = 'company__name')"
   ]
  },
  {
   "cell_type": "code",
   "execution_count": null,
   "id": "99c5071c",
   "metadata": {},
   "outputs": [],
   "source": [
    "m"
   ]
  },
  {
   "cell_type": "code",
   "execution_count": null,
   "id": "97746505",
   "metadata": {},
   "outputs": [],
   "source": [
    "intervalos=[a for a in range(0,1001,10)]\n",
    "intervalos[-1]"
   ]
  },
  {
   "cell_type": "code",
   "execution_count": null,
   "id": "05f819df",
   "metadata": {},
   "outputs": [],
   "source": [
    "m['group'] = pd.cut(m['reporting_count'], intervalos)\n",
    "\n",
    "# Use groupby() para agrupar os dados pela nova coluna\n",
    "grouped = m.groupby('group')\n",
    "\n",
    "# Imprima os grupos e suas contagens\n",
    "last=[]\n",
    "for name, group in grouped:\n",
    "    last.append([name,len(group)])\n",
    "    print(f'{name}: {len(group)}')"
   ]
  },
  {
   "cell_type": "code",
   "execution_count": null,
   "id": "6298c044",
   "metadata": {},
   "outputs": [],
   "source": [
    "df3 = pd.DataFrame(data=last,columns=['Grupo de apontamentos','Quantidade de programações por grupo'])"
   ]
  },
  {
   "cell_type": "code",
   "execution_count": null,
   "id": "449e2d6b",
   "metadata": {},
   "outputs": [],
   "source": [
    "# df3=df3.drop(0)"
   ]
  },
  {
   "cell_type": "code",
   "execution_count": null,
   "id": "296a210e",
   "metadata": {},
   "outputs": [],
   "source": [
    "df3"
   ]
  },
  {
   "cell_type": "code",
   "execution_count": null,
   "id": "eb5e20b3",
   "metadata": {},
   "outputs": [],
   "source": [
    "# Crie o histograma\n",
    "plt.hist(df3['Quantidade de programações por grupo'], bins=intervalos, density=True)\n",
    "\n",
    "# Adicione a linha de distribuição\n",
    "mu, std = stats.norm.fit(df3['Quantidade de programações por grupo'])\n",
    "xmin, xmax = plt.xlim()\n",
    "x = np.linspace(xmin, xmax, 100)\n",
    "p = stats.norm.pdf(x, mu, std)\n",
    "plt.plot(x, p, 'k', linewidth=2)\n",
    "\n",
    "# Defina os limites do eixo y como [0, 1]\n",
    "plt.ylim([0, 0.1])\n",
    "\n",
    "# Adicione rótulos aos eixos x e y\n",
    "plt.xlabel('Reporting Count')\n",
    "plt.ylabel('Density')\n",
    "\n",
    "# Exiba o gráfico\n",
    "plt.show()"
   ]
  },
  {
   "cell_type": "code",
   "execution_count": null,
   "id": "1f0e0daa",
   "metadata": {},
   "outputs": [],
   "source": [
    "# Crie o gráfico de barras\n",
    "ax = df3.plot.bar(x='Grupo de apontamentos', y='Quantidade de programações por grupo', rot=90)\n",
    "\n",
    "# Adicione rótulos aos eixos x e y\n",
    "ax.set_xlabel('Grupo de apontamentos')\n",
    "ax.set_ylabel('Quantidade de programações por grupo')\n",
    "\n",
    "fig = ax.get_figure()\n",
    "fig.set_figheight(10)\n",
    "fig.set_figwidth(20)\n",
    "# ax.set_yscale('log')\n",
    "ax.set_ylim(top=1000)\n",
    "\n",
    "# Exiba o gráfico\n",
    "plt.show()"
   ]
  },
  {
   "cell_type": "code",
   "execution_count": null,
   "id": "e27e67e3",
   "metadata": {
    "scrolled": true
   },
   "outputs": [],
   "source": [
    "with pd.ExcelWriter(\"Jobs.xlsx\") as writer:\n",
    "    df.to_excel(writer, sheet_name=\"Qtd por programação\")  \n",
    "    df2.to_excel(writer, sheet_name=\"Qtd programação por unidade\")\n",
    "    df3.to_excel(writer, sheet_name=\"Grupos Programações\")\n",
    "    m.to_excel(writer, sheet_name=\"Merge\")"
   ]
  },
  {
   "cell_type": "code",
   "execution_count": null,
   "id": "e6de79f0",
   "metadata": {},
   "outputs": [],
   "source": [
    "# Crie a figura com um tamanho maior\n",
    "plt.figure(figsize=(10,8))\n",
    "\n",
    "# Crie uma série Pandas com os dados\n",
    "s = pd.Series(m['reporting_count'])\n",
    "\n",
    "# Crie a função de distribuição acumulada empírica\n",
    "ecdf = np.cumsum(np.sort(s)) / float(s.sum())\n",
    "\n",
    "# Crie o gráfico de distribuição acumulada\n",
    "plt.step(np.sort(s), ecdf)\n",
    "\n",
    "# Defina os valores e rótulos dos marcadores do eixo x\n",
    "plt.xticks(range(0, 1001, 50))\n",
    "\n",
    "# Adicione grades ao gráfico\n",
    "plt.grid(which='both')\n",
    "\n",
    "# Defina os limites do eixo y como [0, 1]\n",
    "plt.ylim([0, 1])\n",
    "\n",
    "\n",
    "\n",
    "# Adicione rótulos aos eixos x e y\n",
    "plt.xlabel('Reporting Count')\n",
    "plt.ylabel('Cumulative Distribution')\n",
    "\n",
    "# Exiba o gráfico\n",
    "plt.show()"
   ]
  },
  {
   "cell_type": "code",
   "execution_count": null,
   "id": "6c6a211b",
   "metadata": {},
   "outputs": [],
   "source": [
    "# Crie uma série Pandas com os dados\n",
    "s = pd.Series(m['reporting_count'])\n",
    "\n",
    "# Crie a função de distribuição acumulada empírica\n",
    "ecdf = s.value_counts(normalize=True).sort_index().cumsum()\n",
    "\n",
    "# Crie o gráfico de distribuição acumulada interativo\n",
    "fig = px.line(x=ecdf.index, y=ecdf.values)\n",
    "\n",
    "# Defina o título do gráfico e dos eixos x e y\n",
    "fig.update_layout(title='Distribuição Acumulada', xaxis_title='Qtd Apontamentos', yaxis_title='Distribuição Acumulativa')\n",
    "\n",
    "# Defina o intervalo entre os marcadores do eixo x como 10\n",
    "fig.update_xaxes(dtick=10)\n",
    "\n",
    "# Transforme o eixo y em porcentagem\n",
    "fig.update_yaxes(tickformat='.0%')\n",
    "\n",
    "fig.add_trace(\n",
    "    go.Scatter(\n",
    "        mode='markers+text',\n",
    "        x=[50,100,200],\n",
    "        y=[0.93,0.96,0.99],\n",
    "        text=['50-93%','100-96%','200-99%'],\n",
    "        textposition=\"bottom center\",\n",
    "        marker=dict(\n",
    "            color='red',\n",
    "            size=5\n",
    "        ),\n",
    "        showlegend=False\n",
    "    )\n",
    ")\n",
    "\n",
    "# Exiba o gráfico\n",
    "fig.show()"
   ]
  },
  {
   "cell_type": "code",
   "execution_count": null,
   "id": "5a33f8b8",
   "metadata": {},
   "outputs": [],
   "source": [
    "# Replace 'fig' with your Plotly figure object\n",
    "pio.write_html(fig, file='chart.html', auto_open=True)"
   ]
  },
  {
   "cell_type": "code",
   "execution_count": null,
   "id": "3e792a70",
   "metadata": {},
   "outputs": [],
   "source": [
    "from tqdm.notebook import tqdm"
   ]
  },
  {
   "cell_type": "code",
   "execution_count": null,
   "id": "13b4242e",
   "metadata": {},
   "outputs": [],
   "source": [
    "for a in OccurrenceType.objects.filter(company__name='Construtora Castilho (Ferrovias)'):\n",
    "    a.form_fields['measurementColumns'] = []\n",
    "#     a.save()"
   ]
  },
  {
   "cell_type": "code",
   "execution_count": null,
   "id": "52c867dd",
   "metadata": {},
   "outputs": [],
   "source": [
    "MultipleDailyReport.objects.filter(number='CART-RDO-2023.16148').delete()"
   ]
  },
  {
   "cell_type": "code",
   "execution_count": null,
   "id": "2251f066",
   "metadata": {},
   "outputs": [],
   "source": [
    "for a in OccurrenceType.objects.filter(company__name='Rota do Oeste - Obras'):\n",
    "    dados=[]\n",
    "    for b in a.form_fields['fields']:\n",
    "        if b['dataType'] == 'arrayOfObjects':\n",
    "            for c in b['innerFields']:\n",
    "                if c['apiName'] == 'unidades':\n",
    "                    print(a.name)\n",
    "#                     c['apiName'] = 'unidades'\n",
    "#                     a.save()"
   ]
  },
  {
   "cell_type": "code",
   "execution_count": null,
   "id": "4ed1d27f",
   "metadata": {},
   "outputs": [],
   "source": [
    "for a in Firm.objects.filter(company__name='Rota do Oeste - Obras'):\n",
    "    print(a.name)"
   ]
  },
  {
   "cell_type": "code",
   "execution_count": null,
   "id": "65612458",
   "metadata": {},
   "outputs": [],
   "source": [
    "lista=['Totem não funciona',\n",
    "'Iluminação interna queimada',\n",
    "'Iluminação externa queimada',\n",
    "'Tomada externa com defeito',\n",
    "'Tomada interna com defeito',]\n",
    "len(lista)"
   ]
  },
  {
   "cell_type": "code",
   "execution_count": null,
   "id": "f9382d52",
   "metadata": {},
   "outputs": [],
   "source": [
    "company=Company.objects.get(name='Eixo SP')\n",
    "occ=OccurrenceType.objects.get(company__name='Eixo SP',name='Manutenção de junta de dilatação')\n",
    "occ,company"
   ]
  },
  {
   "cell_type": "code",
   "execution_count": null,
   "id": "57cab5ff",
   "metadata": {},
   "outputs": [],
   "source": [
    "occ.form_fields['displayName']"
   ]
  },
  {
   "cell_type": "code",
   "execution_count": null,
   "id": "65ed8e34",
   "metadata": {},
   "outputs": [],
   "source": [
    "from tqdm.notebook import tqdm\n",
    "for a in tqdm(lista):\n",
    "    new_occ=occ\n",
    "    new_occ.uuid=None\n",
    "    new_occ.name=a.strip()\n",
    "    new_occ.occurrence_kind='23'\n",
    "    new_occ.form_fields['name'] = a.strip()\n",
    "    new_occ.form_fields['displayName'] = a.strip()\n",
    "    new_occ.save()\n",
    "    \n",
    "    spec=OccurrenceTypeSpecs(occurrence_type=new_occ, company=company)\n",
    "    spec.save()"
   ]
  },
  {
   "cell_type": "code",
   "execution_count": null,
   "id": "ff285793",
   "metadata": {},
   "outputs": [],
   "source": [
    "!pip list"
   ]
  },
  {
   "cell_type": "code",
   "execution_count": null,
   "id": "14e0ec07",
   "metadata": {},
   "outputs": [],
   "source": [
    "mdr=MultipleDailyReport.objects.get(uuid='b24ba9f3-ebe9-4303-aa00-3ada3cbe46ee')\n",
    "rep=Reporting.objects.get(uuid='0068d45e-511c-4082-8622-c0e1922d8f96')"
   ]
  },
  {
   "cell_type": "code",
   "execution_count": null,
   "id": "0dc1fa6e",
   "metadata": {},
   "outputs": [],
   "source": [
    "mdr._meta.get_fields()"
   ]
  },
  {
   "cell_type": "code",
   "execution_count": null,
   "id": "af28c98a",
   "metadata": {},
   "outputs": [],
   "source": [
    "mdr.reportings.all()"
   ]
  },
  {
   "cell_type": "code",
   "execution_count": null,
   "id": "5fd2ab40",
   "metadata": {},
   "outputs": [],
   "source": [
    "Reporting._meta.get_fields()"
   ]
  },
  {
   "cell_type": "code",
   "execution_count": null,
   "id": "b009fe09",
   "metadata": {},
   "outputs": [],
   "source": [
    "rep._meta.get_fields()"
   ]
  },
  {
   "cell_type": "code",
   "execution_count": null,
   "id": "43d45217",
   "metadata": {},
   "outputs": [],
   "source": [
    "Reporting.objects.filter(occurrence_type__occurrence_kind='2',\n",
    "                         company__name='Eixo SP',\n",
    "                         created_at__gte='2023-10-09',\n",
    "                         reporting_multiple_daily_reports__gte=1).count()"
   ]
  },
  {
   "cell_type": "code",
   "execution_count": null,
   "id": "c2d84a56",
   "metadata": {},
   "outputs": [],
   "source": [
    "for a in Reporting.objects.filter(occurrence_type__occurrence_kind='2',\n",
    "                                  company__name='Eixo SP',\n",
    "                                  created_at__gte='2023-01-01',\n",
    "                                  reporting_multiple_daily_reports__gte=1).order_by('created_at'):\n",
    "    if a.reporting_multiple_daily_reports.all().exists():\n",
    "        for b in a.reporting_multiple_daily_reports.all():\n",
    "            \n",
    "            print(a.number,'|',b.number,'|',b.created_at.strftime('%d-%m-%Y'),'|',b.firm.name)"
   ]
  },
  {
   "cell_type": "code",
   "execution_count": null,
   "id": "9e2b55e6",
   "metadata": {},
   "outputs": [],
   "source": [
    "mdr=MultipleDailyReport.objects.get(uuid='bbf805e7-5ca5-4d74-8b77-fc25a43d10a2')"
   ]
  },
  {
   "cell_type": "code",
   "execution_count": null,
   "id": "cf4b55fb",
   "metadata": {},
   "outputs": [],
   "source": [
    "header_info = mdr.header_info"
   ]
  },
  {
   "cell_type": "code",
   "execution_count": null,
   "id": "5b9f2abf",
   "metadata": {},
   "outputs": [],
   "source": [
    "mdr.firm.subcompany.name"
   ]
  },
  {
   "cell_type": "code",
   "execution_count": null,
   "id": "8462a983",
   "metadata": {},
   "outputs": [],
   "source": [
    "for a in MultipleDailyReport.objects.filter(company__name=\"Construtora Castilho\"):\n",
    "    if a.firm.subcompany.name == 'Obra Paraguaçu Paulista':\n",
    "        a.header_info = header_info\n",
    "#         a.save()"
   ]
  },
  {
   "cell_type": "code",
   "execution_count": null,
   "id": "d2b6b10d",
   "metadata": {},
   "outputs": [],
   "source": [
    "for a in mdr.history.all().order_by('-created_at'):\n",
    "    print(a.history_user,a.__dict__)"
   ]
  },
  {
   "cell_type": "code",
   "execution_count": null,
   "id": "3775b847",
   "metadata": {},
   "outputs": [],
   "source": [
    "sc=SubCompany.objects.get(uuid='f137fccf-6654-4ac8-9a27-4fd3f156eac5')"
   ]
  },
  {
   "cell_type": "code",
   "execution_count": null,
   "id": "f31be5d0",
   "metadata": {},
   "outputs": [],
   "source": [
    "for a in sc.history.all().order_by('-history_date'):\n",
    "    print(a.cnpj)"
   ]
  },
  {
   "cell_type": "code",
   "execution_count": null,
   "id": "cebac01a",
   "metadata": {},
   "outputs": [],
   "source": [
    "sc.__dict__"
   ]
  },
  {
   "cell_type": "code",
   "execution_count": null,
   "id": "8d9b11b2",
   "metadata": {},
   "outputs": [],
   "source": [
    "UserInCompany.objects.filter(user__username='MATEUS.LIMA')"
   ]
  },
  {
   "cell_type": "code",
   "execution_count": null,
   "id": "9edf5b8a",
   "metadata": {},
   "outputs": [],
   "source": [
    "for a in Reporting.objects.filter(number__in=['111368.2023','111211.2023','111210.2023']):\n",
    "    print(a.form_data)"
   ]
  },
  {
   "cell_type": "code",
   "execution_count": null,
   "id": "ad06f96d",
   "metadata": {},
   "outputs": [],
   "source": [
    "occs=OccurrenceType.objects.filter(occurrence_kind__in=['31','32','33'],company__name='Rota do Oeste - Obras')"
   ]
  },
  {
   "cell_type": "code",
   "execution_count": null,
   "id": "28ff6f45",
   "metadata": {},
   "outputs": [],
   "source": [
    "occs[0].__dict__"
   ]
  },
  {
   "cell_type": "code",
   "execution_count": null,
   "id": "b2d32756",
   "metadata": {},
   "outputs": [],
   "source": [
    "{\"order\": 3,\n",
    "      \"apiName\": \"ensaio\",\n",
    "      \"dataType\": \"select\",\n",
    "      \"displayName\": \"Ensaio\",\n",
    "      \"selectOptions\": {\"options\": [{\"name\": \"Determinação do teor de umidade e grau de compactação 'in situ' - Reciclagem\",\n",
    "         \"value\": \"1\"},\n",
    "        {\"name\": \"Taxa de aplicação da emulsão asfáltica (TSD)\", \"value\": \"2\"},\n",
    "        {\"name\": \"Taxa de aplicação da emulsão asfáltica (Capa selante)\",\n",
    "         \"value\": \"3\"},\n",
    "        {\"name\": \"Taxa de aplicação dos agregados (Capa selante)\",\n",
    "         \"value\": \"4\"},\n",
    "        {\"name\": \"Taxa de aplicação dos agregados (TSD)\", \"value\": \"5\"},\n",
    "        {\"name\": \"Taxa de aplicação da emulsão asfáltica (Pintura de Ligação)\",\n",
    "         \"value\": \"6\"},\n",
    "        {\"name\": \"Extração de corpos de prova e grau de compactação (CAUQ)\",\n",
    "         \"value\": \"7\"},\n",
    "        {\"name\": \"Determinação da taxa de distribuição do cimento - Reciclagem\",\n",
    "         \"value\": \"8\"},\n",
    "        {\"name\": \"Determinação de finura - Reciclagem\", \"value\": \"9\"},\n",
    "        {\"name\": \"Certificado do fabricante/distribuidor - Reciclagem\",\n",
    "         \"value\": \"10\"},\n",
    "        {\"name\": \"Abrasão Los Angeles\", \"value\": \"11\"},\n",
    "        {\"name\": \"Índice de forma\", \"value\": \"12\"},\n",
    "        {\"name\": \"Partículas lamelares\", \"value\": \"13\"},\n",
    "        {\"name\": \"Durabilidade\", \"value\": \"14\"},\n",
    "        {\"name\": \"Equivalente de areia\", \"value\": \"15\"},\n",
    "        {\"name\": \"Análise granulométrica da mistura reciclada\", \"value\": \"16\"},\n",
    "        {\"name\": \"Ensaio de compactação (proctor)\", \"value\": \"17\"},\n",
    "        {\"name\": \"Determinação do teor de umidade da mistura reciclada\",\n",
    "         \"value\": \"18\"},\n",
    "        {\"name\": \"Ensaio de resistência à compressão axial aos 7 dias de cura\",\n",
    "         \"value\": \"19\"},\n",
    "        {\"name\": \"Ensaio de resistência à compressão axial aos 7 dias de cura\",\n",
    "         \"value\": \"20\"},\n",
    "        {\"name\": \"Ensaio de resistência à compressão axial aos 28 dias de cura\",\n",
    "         \"value\": \"21\"},\n",
    "        {\"name\": \"Ensaio de resistência à tração por compressão diametral aos 7 dias de cura\",\n",
    "         \"value\": \"22\"},\n",
    "        {\"name\": \"Ensaio de resistência à tração por compressão diametral aos 28 dias de cura\",\n",
    "         \"value\": \"23\"}],\n",
    "       \"optionsFilter\": {\"filter\": [{\"var\": \"options\"},\n",
    "         {\"if\": [{\"==\": [{\"var\": {\"cat\": [\"data.formData.servico\",\n",
    "                {\"var\": \"index.0\"},\n",
    "                \".identificacaoDeControle\"]}},\n",
    "             1]},\n",
    "           {\"<=\": [{\"var\": \"value\"}, 8]},\n",
    "           {\">\": [{\"var\": \"value\"}, 8]}]}]}}},"
   ]
  },
  {
   "cell_type": "code",
   "execution_count": null,
   "id": "2620966f",
   "metadata": {},
   "outputs": [],
   "source": [
    "for a in occs:\n",
    "    for fields in a.form_fields['fields']:\n",
    "        if fields['apiName'] == 'servico' and fields['dataType'] == 'arrayOfObjects':\n",
    "            for inner in fields['innerFields']:\n",
    "                if inner['apiName'] == 'ensaio':\n",
    "                    inner['selectOptions']['options']=[{\"name\": \"Determinação do teor de umidade e grau de compactação 'in situ' - Reciclagem\",\n",
    "         \"value\": \"1\"},\n",
    "        {\"name\": \"Taxa de aplicação da emulsão asfáltica (TSD)\", \"value\": \"2\"},\n",
    "        {\"name\": \"Taxa de aplicação da emulsão asfáltica (Capa selante)\",\n",
    "         \"value\": \"3\"},\n",
    "        {\"name\": \"Taxa de aplicação dos agregados (Capa selante)\",\n",
    "         \"value\": \"4\"},\n",
    "        {\"name\": \"Taxa de aplicação dos agregados (TSD)\", \"value\": \"5\"},\n",
    "        {\"name\": \"Taxa de aplicação da emulsão asfáltica (Pintura de Ligação)\",\n",
    "         \"value\": \"6\"},\n",
    "        {\"name\": \"Extração de corpos de prova e grau de compactação (CAUQ)\",\n",
    "         \"value\": \"7\"},\n",
    "        {\"name\": \"Determinação da taxa de distribuição do cimento - Reciclagem\",\n",
    "         \"value\": \"8\"},\n",
    "        {\"name\": \"Determinação de finura - Reciclagem\", \"value\": \"9\"},\n",
    "        {\"name\": \"Certificado do fabricante/distribuidor - Reciclagem\",\n",
    "         \"value\": \"10\"},\n",
    "        {\"name\": \"Abrasão Los Angeles\", \"value\": \"11\"},\n",
    "        {\"name\": \"Índice de forma\", \"value\": \"12\"},\n",
    "        {\"name\": \"Partículas lamelares\", \"value\": \"13\"},\n",
    "        {\"name\": \"Durabilidade\", \"value\": \"14\"},\n",
    "        {\"name\": \"Equivalente de areia\", \"value\": \"15\"},\n",
    "        {\"name\": \"Análise granulométrica da mistura reciclada\", \"value\": \"16\"},\n",
    "        {\"name\": \"Ensaio de compactação (proctor)\", \"value\": \"17\"},\n",
    "        {\"name\": \"Determinação do teor de umidade da mistura reciclada\",\n",
    "         \"value\": \"18\"},\n",
    "        {\"name\": \"Ensaio de resistência à compressão axial aos 7 dias de cura\",\n",
    "         \"value\": \"19\"},\n",
    "        {\"name\": \"Ensaio de resistência à compressão axial aos 7 dias de cura\",\n",
    "         \"value\": \"20\"},\n",
    "        {\"name\": \"Ensaio de resistência à compressão axial aos 28 dias de cura\",\n",
    "         \"value\": \"21\"},\n",
    "        {\"name\": \"Ensaio de resistência à tração por compressão diametral aos 7 dias de cura\",\n",
    "         \"value\": \"22\"},\n",
    "        {\"name\": \"Ensaio de resistência à tração por compressão diametral aos 28 dias de cura\",\n",
    "         \"value\": \"23\"}]\n",
    "    a.save()"
   ]
  },
  {
   "cell_type": "code",
   "execution_count": null,
   "id": "cc5be7bd",
   "metadata": {},
   "outputs": [],
   "source": [
    "name= \"Taxa de aplic. da emulsão asfáltica(TSD)\"\n",
    "len(name)"
   ]
  },
  {
   "cell_type": "code",
   "execution_count": null,
   "id": "e5310fda",
   "metadata": {},
   "outputs": [],
   "source": [
    "for a in occs[:1]:\n",
    "    for fields in a.form_fields['fields']:\n",
    "        if fields['apiName'] == 'servico' and fields['dataType'] == 'arrayOfObjects':\n",
    "            for i,inner in enumerate(fields['innerFields']):\n",
    "                if inner['apiName'] == 'ensaioss':\n",
    "                    del fields['innerFields'][i]\n",
    "                    \n",
    "    print(a)\n",
    "    a.save()"
   ]
  },
  {
   "cell_type": "code",
   "execution_count": null,
   "id": "d256ee12",
   "metadata": {},
   "outputs": [],
   "source": [
    "a.__dict__"
   ]
  },
  {
   "cell_type": "code",
   "execution_count": null,
   "id": "d1b4efb6",
   "metadata": {},
   "outputs": [],
   "source": [
    "import json\n",
    "a.form_fields=json.loads(json.dumps(a.form_fields).replace('ensaio','ensaios').replace('Ensaio','Ensaios').replace(\": 'id'\",\": 'ids'\"))"
   ]
  },
  {
   "cell_type": "code",
   "execution_count": null,
   "id": "8c8b6ae2",
   "metadata": {},
   "outputs": [],
   "source": [
    "a.form_fields"
   ]
  },
  {
   "cell_type": "code",
   "execution_count": null,
   "id": "3cb68594",
   "metadata": {},
   "outputs": [],
   "source": [
    "for a in occs[:1]:\n",
    "    for fields in a.form_fields['fields']:\n",
    "        print(fields['apiName'])\n",
    "        if fields['apiName'] == 'servico' and fields['dataType'] == 'arrayOfObjects':\n",
    "            for inner in fields['innerFields']:\n",
    "                print('\\t',inner['apiName'])"
   ]
  },
  {
   "cell_type": "code",
   "execution_count": null,
   "id": "a9ef90e6",
   "metadata": {},
   "outputs": [],
   "source": [
    "reps=Reporting.objects.filter(occurrence_type__name='1. Procedência do material')"
   ]
  },
  {
   "cell_type": "code",
   "execution_count": null,
   "id": "8e0eb586",
   "metadata": {},
   "outputs": [],
   "source": [
    "for a in reps:\n",
    "    a.form_data['codigo_rastreio'] = a.form_data['codigo_rastreio'].strip()\n",
    "    a.save()"
   ]
  },
  {
   "cell_type": "code",
   "execution_count": null,
   "id": "9a9616e8",
   "metadata": {},
   "outputs": [],
   "source": [
    "occ=OccurrenceType.objects.get(name=\"Emulsões Asfálticas\",occurrence_kind__in=['31','32','33'],company__name='Rota do Oeste - Obras')"
   ]
  },
  {
   "cell_type": "code",
   "execution_count": null,
   "id": "ff369a23",
   "metadata": {},
   "outputs": [],
   "source": [
    "history=occ.history.filter(history_date__lte='2023-11-1').order_by('-history_date')"
   ]
  },
  {
   "cell_type": "code",
   "execution_count": null,
   "id": "b4aae17d",
   "metadata": {},
   "outputs": [],
   "source": [
    "history[0].instance.save()"
   ]
  },
  {
   "cell_type": "code",
   "execution_count": null,
   "id": "cb17da5a",
   "metadata": {},
   "outputs": [],
   "source": [
    "outro=1\n",
    "print(f'Rodovia|Seq|km')\n",
    "for a in Road.objects.filter(company__name='Construtora Castilho (Ferrovias)'):\n",
    "    for i,mark in a.marks.items():\n",
    "        if (int(i) - outro) >1: \n",
    "            print(a.name,'|',i,'|',mark['km'])\n",
    "        outro=int(i)"
   ]
  },
  {
   "cell_type": "code",
   "execution_count": null,
   "id": "f8d8880c",
   "metadata": {},
   "outputs": [],
   "source": [
    "from tqdm.notebook import tqdm\n",
    "for a in tqdm(OccurrenceType.objects.filter(occurrence_kind__in=[18,19,20,21,22,23],company__name='Eixo SP')):\n",
    "    for field in a.form_fields['fields']:\n",
    "        if field.get('displayName') in ['Código de edital']:\n",
    "            del field['autofill']\n",
    "    a.save()"
   ]
  },
  {
   "cell_type": "code",
   "execution_count": null,
   "id": "c5752538",
   "metadata": {},
   "outputs": [],
   "source": [
    "company=Company.objects.get(name=\"Via Brasil\")\n",
    "ident = ServiceOrderActionStatus.objects.get(companies=company,name=\"Identificado\")\n",
    "em_validacao = ServiceOrderActionStatus.objects.get(companies=company,name=\"Em Validação\")"
   ]
  },
  {
   "cell_type": "code",
   "execution_count": null,
   "id": "3c85732c",
   "metadata": {},
   "outputs": [],
   "source": [
    "Reporting.objects.filter(status=ident,company=company).exclude(occurrence_type__occurrence_kind=2).update(status=em_validacao)"
   ]
  },
  {
   "cell_type": "code",
   "execution_count": null,
   "id": "054fac52",
   "metadata": {},
   "outputs": [],
   "source": [
    "aps=ApprovalStep.objects.get(name='Aguardando Aprovação',approval_flow__company=company,approval_flow__target_model='reportings.Reporting')"
   ]
  },
  {
   "cell_type": "code",
   "execution_count": null,
   "id": "39d14e45",
   "metadata": {},
   "outputs": [],
   "source": [
    "ApprovalTransition.objects.filter(destination=aps,name='Solicitar Análise')[0].__dict__"
   ]
  },
  {
   "cell_type": "code",
   "execution_count": null,
   "id": "11a87e8c",
   "metadata": {},
   "outputs": [],
   "source": [
    "Reporting.objects.filter(approval_step=aps).update(editable=True)"
   ]
  },
  {
   "cell_type": "code",
   "execution_count": null,
   "id": "08a35cfc",
   "metadata": {},
   "outputs": [],
   "source": [
    "company=Company.objects.get(name='Arteris Fernão Dias - Conserva')\n",
    "firm = Firm.objects.get(name='Multifuncional - Lote 01',company=company)\n",
    "user=User.objects.get(username='rodolfo.rodrigues')"
   ]
  },
  {
   "cell_type": "code",
   "execution_count": null,
   "id": "784802cf",
   "metadata": {},
   "outputs": [],
   "source": [
    "for a in Reporting.history.filter(firm=firm,company=company,km__gte=494,km__lte=496,history_type='-'):\n",
    "    print('km:',a.km,'deletado em:',a.history_date.strftime('%d-%m-%Y'),'serial:',a.number,'criador:',a.created_by.full_name)"
   ]
  },
  {
   "cell_type": "code",
   "execution_count": null,
   "id": "a58ae577",
   "metadata": {},
   "outputs": [],
   "source": [
    "Reporting.objects.filter(company__name=\"Caminhos da Serra Gaúcha\",occurrence_type__occurrence_kind=2).count()"
   ]
  },
  {
   "cell_type": "code",
   "execution_count": null,
   "id": "e10b3cda",
   "metadata": {},
   "outputs": [],
   "source": [
    "rep_edit=[]\n",
    "for a in tqdm(Reporting.objects.filter(company__name=\"Caminhos da Serra Gaúcha\",occurrence_type__occurrence_kind=2)):\n",
    "    a.form_data['monitoring_id'] = 'Cadastro Inicial'\n",
    "    rep_edit.append(a)"
   ]
  },
  {
   "cell_type": "code",
   "execution_count": null,
   "id": "a4d7d7de",
   "metadata": {},
   "outputs": [],
   "source": [
    "user=User.objects.get(username='rlcs')\n",
    "apontamentos = bulk_update_with_history(rep_edit,Reporting, use_django_bulk=True,batch_size=2500,user=user)"
   ]
  },
  {
   "cell_type": "code",
   "execution_count": null,
   "id": "0334c23b",
   "metadata": {},
   "outputs": [],
   "source": [
    "job=Job.objects.get(number__icontains='pavicolet-job-2023.33',company__name='Pavicolet (Amapá)')"
   ]
  },
  {
   "cell_type": "code",
   "execution_count": null,
   "id": "c499ae96",
   "metadata": {},
   "outputs": [],
   "source": [
    "for a in job.history.all().order_by('-history_date'):\n",
    "#     for b in Reporting.objects.filter(company=a.company,job__number=a):\n",
    "#         print(b)\n",
    "    print(a.history_date.strftime('%d-%m-%Y %HH:%MM'),a.reporting_count,a.history_user.full_name)"
   ]
  },
  {
   "cell_type": "code",
   "execution_count": null,
   "id": "9d8aeb2e",
   "metadata": {},
   "outputs": [],
   "source": [
    "for a in ActionLog.objects.filter(company__name='Pavicolet (Amapá)',object_id=job.uuid):\n",
    "    print(a)"
   ]
  },
  {
   "cell_type": "code",
   "execution_count": null,
   "id": "f6849b30",
   "metadata": {
    "scrolled": true
   },
   "outputs": [],
   "source": [
    "Job.objects.filter(created_by__username='karla.zorzam',company__name='Modera - Consórcio ME2').delete()"
   ]
  },
  {
   "cell_type": "code",
   "execution_count": null,
   "id": "c2de0422",
   "metadata": {},
   "outputs": [],
   "source": [
    "company_origin= Company.objects.get(name='Sinalizavia (Municípios)')\n",
    "company = Company.objects.get(name='Sinaliza Via (Rodovias)')\n",
    "company_origin,company"
   ]
  },
  {
   "cell_type": "code",
   "execution_count": null,
   "id": "4b4880d9",
   "metadata": {},
   "outputs": [],
   "source": [
    "ApprovalFlow.objects.filter(company=company_origin)"
   ]
  },
  {
   "cell_type": "code",
   "execution_count": null,
   "id": "ad4b9c1e",
   "metadata": {},
   "outputs": [],
   "source": [
    "for a in ApprovalFlow.objects.filter(company=company_origin):\n",
    "    a.uuid = None\n",
    "    a.company=company\n",
    "    a.save()"
   ]
  },
  {
   "cell_type": "code",
   "execution_count": null,
   "id": "71028e31",
   "metadata": {},
   "outputs": [],
   "source": [
    "for a in ApprovalStep.objects.filter(approval_flow__company=company_origin):\n",
    "    a.uuid=None\n",
    "    a.approval_flow = ApprovalFlow.objects.get(name=a.approval_flow.name,company=company)\n",
    "    a.save()"
   ]
  },
  {
   "cell_type": "code",
   "execution_count": null,
   "id": "ac7bb873",
   "metadata": {},
   "outputs": [],
   "source": [
    "for a in ApprovalTransition.objects.filter(origin__approval_flow__company=company_origin):\n",
    "    a.uuid=None\n",
    "    a.origin = ApprovalStep.objects.get(approval_flow__company=company,\n",
    "                                        name=a.origin.name,\n",
    "                                        approval_flow__target_model=a.origin.approval_flow.target_model)\n",
    "    a.destination = ApprovalStep.objects.get(approval_flow__company=company,\n",
    "                                        name=a.destination.name,\n",
    "                                        approval_flow__target_model=a.destination.approval_flow.target_model)\n",
    "    a.save()\n",
    "    print(a.origin,a.destination)"
   ]
  },
  {
   "cell_type": "code",
   "execution_count": null,
   "id": "97ec33b0",
   "metadata": {},
   "outputs": [],
   "source": [
    "job=Job.history.filter(number='Modera-job-2023.5').order_by('-history_date')"
   ]
  },
  {
   "cell_type": "code",
   "execution_count": null,
   "id": "c2ad3537",
   "metadata": {},
   "outputs": [],
   "source": [
    "job[0].__dict__"
   ]
  },
  {
   "cell_type": "code",
   "execution_count": null,
   "id": "1f51c463",
   "metadata": {},
   "outputs": [],
   "source": [
    "for a in job:\n",
    "    print(a.history_date,a.created_by,a.worker)\n",
    "    for b in a.firm.history.all():\n",
    "        print(b.__dict__)\n",
    "#     print(a.firm.users.all())"
   ]
  },
  {
   "cell_type": "code",
   "execution_count": null,
   "id": "09b93dd5",
   "metadata": {},
   "outputs": [],
   "source": [
    "import json\n",
    " \n",
    "original_list = [\n",
    "    \"ST01\", \"ST02\", \"ST03\", \"ST04\", \"ST05\", \"ST06\", \"ST07\", \"ST08\", \"ST09\", \"ST10\", \n",
    "    \"ST100\", \"ST11\", \"ST101\", \"ST102\", \"ST13\", \"ST103\", \"ST104\", \"ST15\", \"ST105\", \n",
    "    \"ST105A\", \"ST105B\", \"ST106\", \"ST17\", \"ST107\", \"ST108\", \"ST19\", \"ST109\", \"ST21\", \n",
    "    \"ST110\", \"ST23\", \"ST111\", \"ST112\", \"ST24\", \"ST113\", \"ST114\", \"ST25\", \"ST115\", \n",
    "    \"ST116\", \"ST28\", \"ST117\", \"ST118\", \"ST30\", \"ST118A\", \"ST118B\", \"ST118C\", \"ST119\", \n",
    "    \"ST12\", \"ST120\", \"ST121\", \"ST122\", \"ST123\", \"ST124\", \"ST125\", \"ST126\", \"ST127\", \n",
    "    \"ST128\", \"ST129\", \"ST31\", \"ST130\", \"ST131\", \"ST132\", \"ST133\", \"ST134\", \"ST135\", \n",
    "    \"ST136\", \"ST137\", \"ST138\", \"ST139\", \"ST14\", \"ST140\", \"ST141\", \"ST142\", \"ST143\", \n",
    "    \"ST144\", \"ST145\", \"ST146\", \"ST147\", \"ST147A\", \"ST147B\", \"ST148\", \"ST149\", \"ST32\", \n",
    "    \"ST150\", \"ST151\", \"ST152\", \"ST153\", \"ST154\", \"ST155\", \"ST156\", \"ST157\", \"ST158\", \n",
    "    \"ST159\", \"ST16\", \"ST160\", \"ST161\", \"ST162\", \"ST163\", \"ST164\", \"ST165\", \"ST166\", \n",
    "    \"ST167\", \"ST168\", \"ST169\", \"ST34\", \"ST170\", \"ST171\", \"ST172\", \"ST173\", \"ST174\", \n",
    "    \"ST175\", \"ST176\", \"ST177\", \"ST178\", \"ST179\", \"ST18\", \"ST180\", \"ST181\", \"ST183\", \n",
    "    \"ST185\", \"ST186\", \"ST187\", \"ST188\", \"ST189\", \"ST35\", \"ST190\", \"ST191\", \"ST192\", \n",
    "    \"ST193\", \"ST194\", \"ST195\", \"ST197\", \"ST198\", \"ST199\", \"ST20\", \"ST200\", \"ST201\", \n",
    "    \"ST203\", \"ST204\", \"ST205\", \"ST206\", \"ST207\", \"ST208\", \"ST209\", \"ST36\", \"ST210\", \n",
    "    \"ST211\", \"ST212\", \"ST214\", \"ST215\", \"ST216\", \"ST217\", \"ST218\", \"ST219\", \"ST22\", \n",
    "    \"ST220\", \"ST221\", \"ST222\", \"ST223\", \"ST224\", \"ST225\", \"ST226\", \"ST227\", \"ST228\", \n",
    "    \"ST229\", \"ST37\", \"ST230\", \"ST231\", \"ST232\", \"ST233\", \"ST235\", \"ST237\", \"ST238\", \n",
    "    \"ST239\", \"ST39\", \"ST240\", \"ST241\", \"ST243\", \"ST245\", \"ST247\", \"ST248\", \"ST249\", \n",
    "    \"ST41\", \"ST250\", \"ST251\", \"ST252\", \"ST253\", \"ST254\", \"ST255\", \"ST257\", \"ST259\", \n",
    "    \"ST26\", \"ST261\", \"ST263\", \"ST265\", \"ST267\", \"ST269\", \"ST27\", \"ST271\", \"ST273\", \n",
    "    \"ST275\", \"ST277\", \"ST279\", \"ST43\", \"ST281\", \"ST283\", \"ST285\", \"ST287\", \"ST289\", \n",
    "    \"ST29\", \"ST291\", \"ST293\", \"ST295\", \"ST296\", \"ST298\", \"ST44\", \"ST300\", \"ST302\", \n",
    "    \"ST304\", \"ST306\", \"ST308\", \"ST46\", \"ST310\", \"ST312\", \"ST314\", \"ST316\", \"ST317\", \n",
    "    \"ST319\", \"ST31A\", \"ST48\", \"ST321\", \"ST322\", \"ST323\", \"ST325\", \"ST327\", \"ST329\", \n",
    "    \"ST33\", \"ST331\", \"ST332\", \"ST334\", \"ST335\", \"ST337\", \"ST339\", \"ST50\", \"ST341\", \n",
    "    \"ST343\", \"ST345\", \"ST347\", \"ST348\", \"ST53\", \"ST350\", \"ST352\", \"ST354\", \"ST356\", \n",
    "    \"ST358\", \"ST359\", \"ST55\", \"ST361\", \"ST363\", \"ST365\", \"ST367\", \"ST369\", \"ST57\", \n",
    "    \"ST371\", \"ST373\", \"ST375\", \"ST377\", \"ST378\", \"ST38\", \"ST380\", \"ST382\", \"ST384\", \n",
    "    \"ST386\", \"ST388\", \"ST59\", \"ST390\", \"ST392\", \"ST394\", \"ST396\", \"ST398\", \"ST40\", \n",
    "    \"ST400\", \"ST402\", \"ST404\", \"ST406\", \"ST408\", \"ST60\", \"ST410\", \"ST411\", \"ST413\", \n",
    "    \"ST415\", \"ST417\", \"ST419\", \"ST42\", \"ST421\", \"ST423\", \"ST425\", \"ST427\", \"ST429\", \n",
    "    \"ST61\", \"ST431\", \"ST433\", \"ST435\", \"ST437\", \"ST439\", \"ST63\", \"ST441\", \"ST443\", \n",
    "    \"ST445\", \"ST447\", \"ST449\", \"ST45\", \"ST451\", \"ST453\", \"ST455\", \"ST457\", \"ST458\", \n",
    "    \"ST459\", \"ST65\", \"ST461\", \"ST463\", \"ST464\", \"ST467\", \"ST469\", \"ST47\", \"ST471\", \n",
    "    \"ST473\", \"ST475\", \"ST477\", \"ST479\", \"ST67\", \"ST481\", \"ST484\", \"ST486\", \"ST488\", \n",
    "    \"ST49\", \"ST490\", \"ST492\", \"ST494\", \"ST496\", \"ST498\", \"ST69\", \"ST500\", \"ST502\", \n",
    "    \"ST504\", \"ST506\", \"ST508\", \"ST51\", \"ST510\", \"ST512\", \"ST514\", \"ST516\", \"ST517\", \n",
    "    \"ST518\", \"ST52\", \"ST520\", \"ST522\", \"ST524\", \"ST525\", \"ST526\", \"ST527\", \"ST529\", \n",
    "    \"ST71\", \"ST53A\", \"ST53B\", \"ST54\", \"ST73\", \"ST55A\", \"ST55B\", \"ST56\", \"ST75\", \"ST57A\", \n",
    "    \"ST57B\", \"ST58\", \"ST77\", \"ST59A\", \"ST59B\", \"ST79\", \"ST81\", \"ST62\", \"ST83\", \"ST64\", \n",
    "    \"ST85\", \"ST66\", \"ST66B\", \"ST86\", \"ST68\", \"ST88\", \"ST70\", \"ST90\", \"ST72\", \"ST92\", \n",
    "    \"ST74\", \"ST94\", \"ST76\", \"ST96\", \"ST78\", \"ST98\", \"ST80\", \"ST82\", \"ST84\", \"ST87\", \n",
    "    \"ST89\", \"ST91\", \"ST93\", \"ST95\", \"ST97\", \"ST99\"\n",
    "]\n",
    " \n",
    "formatted_list = [{\"name\": name, \"value\": str(i + 1)} for i, name in enumerate(original_list)]\n",
    " \n",
    "# Converter para aspas duplas\n",
    "formatted_json = json.dumps(formatted_list, indent=4)\n",
    " \n",
    "print(formatted_json)"
   ]
  },
  {
   "cell_type": "code",
   "execution_count": null,
   "id": "0916bb7d",
   "metadata": {},
   "outputs": [],
   "source": [
    "import openpyxl as op"
   ]
  },
  {
   "cell_type": "code",
   "execution_count": null,
   "id": "7cb87de9",
   "metadata": {},
   "outputs": [],
   "source": [
    "filename2 = \"APONTAMENTOS DE SELA TRINCA - MUDAR ORIGEM PARA INTERNA (1).xlsx\"\n",
    "wb = op.load_workbook(filename2)\n",
    "ws = wb['Apontamentos']"
   ]
  },
  {
   "cell_type": "code",
   "execution_count": null,
   "id": "584601e5",
   "metadata": {
    "scrolled": true
   },
   "outputs": [],
   "source": [
    "header = []\n",
    "values = []\n",
    "\n",
    "for index, row in enumerate(ws.rows):\n",
    "    if index == 0:\n",
    "        header = list([a.value for a in row])\n",
    "        continue\n",
    "    obj = {}\n",
    "    for col_index, cell in enumerate(row):\n",
    "        value = cell.value\n",
    "        obj[header[col_index]] = value\n",
    "    values.append(obj)\n",
    "values[0]"
   ]
  },
  {
   "cell_type": "code",
   "execution_count": null,
   "id": "81f29b80",
   "metadata": {},
   "outputs": [],
   "source": [
    "erros=[]\n",
    "for a in values:\n",
    "    try:\n",
    "        rep=Reporting.objects.get(number=a['Serial'])\n",
    "        rep.form_data['demand_origin']=['1']\n",
    "        rep.save()\n",
    "    except Exception as e:\n",
    "        erros.append(a)\n",
    "        print(a['Serial'],e)"
   ]
  },
  {
   "cell_type": "code",
   "execution_count": null,
   "id": "b68e1179",
   "metadata": {},
   "outputs": [],
   "source": [
    "occs=OccurrenceType.objects.filter(occurrence_kind__in=[5,6],company__name='Eixo Sp - Pavimento')"
   ]
  },
  {
   "cell_type": "code",
   "execution_count": null,
   "id": "71b77d66",
   "metadata": {},
   "outputs": [],
   "source": [
    "apis=[]\n",
    "for a in occs[:2]:\n",
    "    for campo in a.form_fields['fields']:\n",
    "        temp={}\n",
    "        temp[a.name]=[]\n",
    "        temp[a.name].append(campo['apiName'])\n",
    "        if campo['dataType'] == \"arrayOfObjects\":\n",
    "            t={}\n",
    "            t['inner']=[inner['apiName'] for inner in campo['innerFields']]\n",
    "        temp[a.name].append(t)\n",
    "    apis.append(temp)\n",
    "        "
   ]
  },
  {
   "cell_type": "code",
   "execution_count": null,
   "id": "0c45d077",
   "metadata": {},
   "outputs": [],
   "source": [
    "apis"
   ]
  },
  {
   "cell_type": "code",
   "execution_count": null,
   "id": "51b83c9f",
   "metadata": {},
   "outputs": [],
   "source": [
    "company=Company.objects.get(name='Eixo Sp - Pavimento')"
   ]
  },
  {
   "cell_type": "code",
   "execution_count": null,
   "id": "f4898207",
   "metadata": {},
   "outputs": [],
   "source": [
    "reps=Reporting.objects.filter(company=company,occurrence_type__occurrence_kind__in=[5,6])\n",
    "reps.count()"
   ]
  },
  {
   "cell_type": "code",
   "execution_count": null,
   "id": "88bfa35b",
   "metadata": {},
   "outputs": [],
   "source": [
    "rep_edit=[]\n",
    "for a in reps:\n",
    "    if 'service' in a.form_data.keys():\n",
    "        rep_edit.append({a.number:[st.get('servicetype') for st in a.form_data['service']]})\n",
    "#         for st in a.form_data['service']:\n",
    "#             rep_edit.append()\n",
    "#             print(st.get('servicetype'))"
   ]
  },
  {
   "cell_type": "code",
   "execution_count": null,
   "id": "fe53d300",
   "metadata": {},
   "outputs": [],
   "source": [
    "rep_edit"
   ]
  },
  {
   "cell_type": "code",
   "execution_count": null,
   "id": "735be459",
   "metadata": {},
   "outputs": [],
   "source": [
    "lista_nova={\n",
    "    \"1\": \"39\",\n",
    "    \"2\": \"40\",\n",
    "    \"3\": \"40\",\n",
    "    \"4\": \"40\",\n",
    "    \"5\": \"40\",\n",
    "    \"6\": \"42\",\n",
    "    \"7\": \"40\",\n",
    "    \"8\": \"40\",\n",
    "    \"9\": \"44\",\n",
    "    \"10\": \"46\",\n",
    "    \"11\": \"45\",\n",
    "    \"12\": \"49\",\n",
    "    \"13\": \"50\",\n",
    "    \"14\": \"51\",\n",
    "    \"15\": \"54\",\n",
    "    \"16\": \"52\",\n",
    "    \"17\": \"55\",\n",
    "    \"18\": \"57\",\n",
    "    \"19\": \"58\",\n",
    "    \"20\": \"59\",\n",
    "    \"21\": \"62\",\n",
    "    \"22\": \"63\",\n",
    "    \"23\": \"74\",\n",
    "    \"24\": \"65\",\n",
    "    \"25\": \"66\",\n",
    "    \"26\": \"67\",\n",
    "    \"27\": \"68\",\n",
    "    \"28\": \"69\",\n",
    "    \"29\": \"70\",\n",
    "    \"31\": \"64\",\n",
    "    \"32\": \"71\",\n",
    "    \"33\": \"72\",\n",
    "    \"35\": \"73\",\n",
    "    \"36\": \"60\",\n",
    "    \"37\": \"40\"\n",
    "}"
   ]
  },
  {
   "cell_type": "code",
   "execution_count": null,
   "id": "58265043",
   "metadata": {},
   "outputs": [],
   "source": [
    "outra=[]\n",
    "for r in rep_edit:\n",
    "    for k,v in r.items():\n",
    "        try:\n",
    "            rep=Reporting.objects.get(number=k,company=company,created_at__lte='2023-10-10')\n",
    "            for i,a in enumerate(rep.form_data['service']):\n",
    "                if a.get('servicetype'):\n",
    "                    a['servicetype'] = lista_nova[a.get('servicetype')] if lista_nova.get(a.get('servicetype')) else a['servicetype']\n",
    "            rep.save()\n",
    "            outra.append(rep)\n",
    "        except:\n",
    "            print(rep.form_data['service'])"
   ]
  },
  {
   "cell_type": "code",
   "execution_count": null,
   "id": "1400fc85",
   "metadata": {},
   "outputs": [],
   "source": [
    "from helpers.histories import bulk_update_with_history\n",
    "user=User.objects.get(username='rlcs')\n",
    "apontamentos = bulk_update_with_history(outra,Reporting, use_django_bulk=True,batch_size=1000,user=user)"
   ]
  },
  {
   "cell_type": "code",
   "execution_count": null,
   "id": "dc774031",
   "metadata": {},
   "outputs": [],
   "source": [
    "MultipleDailyReport.objects.get(number='ROO-RDO-2023.00712')"
   ]
  },
  {
   "cell_type": "code",
   "execution_count": null,
   "id": "9bc10383",
   "metadata": {},
   "outputs": [],
   "source": [
    "dados=[]\n",
    "for a in OccurrenceType.objects.filter(company__name=\"Eixo Sp - Pavimento\"):\n",
    "    temp={}\n",
    "    temp[a.name]=[]\n",
    "    for field in a.form_fields['fields']:\n",
    "        if field['dataType'] == 'arrayOfObjects':\n",
    "            field_arr={}\n",
    "            field_arr[field['apiName']]=[]\n",
    "            for inner in field['innerFields']:\n",
    "                field_arr[field['apiName']].append(inner['apiName'])\n",
    "            temp[a.name].append({field['apiName']:field_arr[field['apiName']]})\n",
    "        else:\n",
    "            temp[a.name].append(field['apiName'])\n",
    "    dados.append(temp)"
   ]
  },
  {
   "cell_type": "code",
   "execution_count": null,
   "id": "fb2da1af",
   "metadata": {},
   "outputs": [],
   "source": [
    "dados"
   ]
  },
  {
   "cell_type": "code",
   "execution_count": null,
   "id": "0c5b7431",
   "metadata": {},
   "outputs": [],
   "source": [
    "reps=Reporting.history.filter(company__name='LCM Construção e Comércio',history_type='-')"
   ]
  },
  {
   "cell_type": "code",
   "execution_count": null,
   "id": "309eec01",
   "metadata": {},
   "outputs": [],
   "source": [
    "dados=[]\n",
    "for a in reps:\n",
    "    dados.append({\"Deletado por\":a.history_user.full_name,\"Data Exclusão\":a.history_date.strftime('%d/%m/%Y'),\"Apontamento\":a.number})"
   ]
  },
  {
   "cell_type": "code",
   "execution_count": null,
   "id": "d5e593d4",
   "metadata": {},
   "outputs": [],
   "source": [
    "pd.DataFrame(data=dados).to_excel('LCMExclusoes.xlsx')"
   ]
  },
  {
   "cell_type": "code",
   "execution_count": null,
   "id": "275142eb",
   "metadata": {},
   "outputs": [],
   "source": [
    "company=Company.objects.get(name=\"Arteris Fernão Dias - Conserva\")"
   ]
  },
  {
   "cell_type": "code",
   "execution_count": null,
   "id": "20b6874c",
   "metadata": {},
   "outputs": [],
   "source": [
    "cs=ContractService.objects.get(uuid='156b44a7-2127-4d6c-a733-fa4b6ed674b0')"
   ]
  },
  {
   "cell_type": "code",
   "execution_count": null,
   "id": "06a4f281",
   "metadata": {},
   "outputs": [],
   "source": [
    "for a in cs.contract_item_administration.all():\n",
    "    h=a.history."
   ]
  },
  {
   "cell_type": "code",
   "execution_count": null,
   "id": "a3af5933",
   "metadata": {},
   "outputs": [],
   "source": [
    "cs.contract_item_administration.all()[0].history.first()"
   ]
  },
  {
   "cell_type": "code",
   "execution_count": null,
   "id": "32089c62",
   "metadata": {},
   "outputs": [],
   "source": [
    "DailyReportContractUsage.objects.get(uuid='85aaef28-3329-479a-9680-799d4f80e2e1').__dict__"
   ]
  },
  {
   "cell_type": "code",
   "execution_count": null,
   "id": "3d726fee",
   "metadata": {},
   "outputs": [],
   "source": [
    "for a in worker:\n",
    "    h=a.history.order_by('-history_date').first()\n",
    "    print(h.history_user, h.history_date)"
   ]
  },
  {
   "cell_type": "code",
   "execution_count": null,
   "id": "d026ead3",
   "metadata": {},
   "outputs": [],
   "source": [
    "cia=DailyReportContractUsage.objects.filter(worker=worker)"
   ]
  },
  {
   "cell_type": "code",
   "execution_count": null,
   "id": "7f8e27dd",
   "metadata": {},
   "outputs": [],
   "source": [
    "cia"
   ]
  },
  {
   "cell_type": "code",
   "execution_count": null,
   "id": "8d17bc38",
   "metadata": {},
   "outputs": [],
   "source": [
    "DailyReportContractUsage._meta.get_fields()"
   ]
  },
  {
   "cell_type": "code",
   "execution_count": null,
   "id": "ebce4ba0",
   "metadata": {},
   "outputs": [],
   "source": [
    "FieldSurvey.objects.first().__dict__"
   ]
  },
  {
   "cell_type": "code",
   "execution_count": null,
   "id": "9f0b19fa",
   "metadata": {},
   "outputs": [],
   "source": [
    "for a in OccurrenceType.objects.filter(company__name='CART'):\n",
    "    for field in a.form_fields['fields']:\n",
    "        if field.get('displayName') and 'campo' in field.get('displayName').lower():\n",
    "            print(a)"
   ]
  },
  {
   "cell_type": "code",
   "execution_count": null,
   "id": "4b360c6d",
   "metadata": {},
   "outputs": [],
   "source": [
    "OccurrenceType.objects.filter(company__name='CART')[0].form_fields['fields']"
   ]
  },
  {
   "cell_type": "markdown",
   "id": "fbee8cea",
   "metadata": {},
   "source": [
    "# CART Alteração em massa comprimento, largura e area executada"
   ]
  },
  {
   "cell_type": "code",
   "execution_count": null,
   "id": "8c109db1",
   "metadata": {},
   "outputs": [],
   "source": [
    "from openpyxl import load_workbook\n",
    "filename = \"00 - Producao Compilado - Kartado.xlsx\"\n",
    "wb = load_workbook(filename)\n",
    "ws = wb[wb.sheetnames[1]]\n",
    "ws"
   ]
  },
  {
   "cell_type": "code",
   "execution_count": null,
   "id": "fe06e6b0",
   "metadata": {
    "scrolled": true
   },
   "outputs": [],
   "source": [
    "header = []\n",
    "values = []\n",
    "\n",
    "for index, row in enumerate(ws.rows):\n",
    "    if index == 0:\n",
    "        header = list([a.value for a in row])\n",
    "        continue\n",
    "    obj = {}\n",
    "    for col_index, cell in enumerate(row):\n",
    "        value = cell.value\n",
    "        obj[header[col_index]] = value\n",
    "    values.append(obj)\n",
    "values[0]"
   ]
  },
  {
   "cell_type": "code",
   "execution_count": null,
   "id": "8c81f9b5",
   "metadata": {},
   "outputs": [],
   "source": [
    "from tqdm.notebook import tqdm\n",
    "rep_edit=[]\n",
    "company=Company.objects.get(name='CART')\n",
    "for a in tqdm(values):\n",
    "    \n",
    "    if str(a['Serial'])[-4:] == '2021':\n",
    "        number = int(str(a['Serial'])[:-4])\n",
    "        number = '{:05}'. format(number) + '.2021'    \n",
    "    elif str(a['Serial'])[-4:] == '2022':\n",
    "        number = int(str(a['Serial'])[:-4])\n",
    "        number = '{:05}'. format(number) + '.2022'    \n",
    "    elif str(a['Serial'])[-4:] == '2023':\n",
    "        number = int(str(a['Serial'])[:-4])\n",
    "        number = '{:05}'. format(number) + '.2023'\n",
    "    elif str(a['Serial'])[-4:] == '2024':\n",
    "        number = int(str(a['Serial'])[:-4])\n",
    "        number = '{:05}'. format(number) + '.2024'\n",
    "    else:\n",
    "        number = a['Serial']\n",
    "    \n",
    "    rep=Reporting.objects.get(number=number,company=company)\n",
    "#     rep.executed_at = a['Executado em']\n",
    "    if a['Comprimento Executado (m)'] is not None:\n",
    "        rep.form_data['executed_length'] = a['Comprimento Executado (m)']\n",
    "    if a['Largura Executada (m)'] is not None:\n",
    "        rep.form_data['executed_width'] = a['Largura Executada (m)']\n",
    "    if a['Área Executada (m²)'] is not None:\n",
    "        rep.form_data['executed_area'] = a['Área Executada (m²)']\n",
    "#     if a['Peso Executado'] is not None:\n",
    "#         rep.form_data['executed_weight'] = a['Peso Executado']\n",
    "    rep_edit.append(rep)"
   ]
  },
  {
   "cell_type": "code",
   "execution_count": null,
   "id": "53793e18",
   "metadata": {},
   "outputs": [],
   "source": [
    "user=User.objects.get(username=\"rlcs\")\n",
    "user"
   ]
  },
  {
   "cell_type": "code",
   "execution_count": null,
   "id": "e5d6c165",
   "metadata": {},
   "outputs": [],
   "source": [
    "from helpers.histories import bulk_update_with_history\n",
    "apontamentos = bulk_update_with_history(rep_edit,Reporting, use_django_bulk=True,batch_size=800,user=user)"
   ]
  },
  {
   "cell_type": "code",
   "execution_count": null,
   "id": "1c472c82",
   "metadata": {},
   "outputs": [],
   "source": [
    "company=Company.objects.get(name='Arteris Via Paulista - SISOBRAS/SISQUALI')\n",
    "up=UserPermission.objects.filter(name='Suporte',companies=company)\n",
    "company,up"
   ]
  },
  {
   "cell_type": "code",
   "execution_count": null,
   "id": "c9f3fad6",
   "metadata": {},
   "outputs": [],
   "source": [
    "for a in up:\n",
    "    a.companies.remove(company)\n",
    "    uperm = a\n",
    "    uperm.uuid=None\n",
    "    uperm.companies.set([company])\n",
    "    uperm.save()\n",
    "    UserInCompany.objects.filter(company=company,permissions__name=a.name).update(permissions=uperm)"
   ]
  },
  {
   "cell_type": "code",
   "execution_count": null,
   "id": "236887a8",
   "metadata": {},
   "outputs": [],
   "source": [
    "rep=Reporting.objects.get(uuid='e1817019-5ed7-41dc-99b5-270d8b31aa99')"
   ]
  },
  {
   "cell_type": "code",
   "execution_count": null,
   "id": "958de96e",
   "metadata": {
    "scrolled": true
   },
   "outputs": [],
   "source": [
    "rep.__dict__"
   ]
  },
  {
   "cell_type": "code",
   "execution_count": null,
   "id": "4edef1a8",
   "metadata": {},
   "outputs": [],
   "source": [
    "reps=Reporting.objects.filter(number__in=['111211.2023','111210.2023','111368.2023'])"
   ]
  },
  {
   "cell_type": "code",
   "execution_count": null,
   "id": "6b6eaa4e",
   "metadata": {},
   "outputs": [],
   "source": [
    "for a in reps:\n",
    "    a.occurrence_type = OccurrenceType.objects.get(name='Reposição/Substituição (baixa refletância/furto/avariada) (solo/aérea)',\n",
    "                                                   company__name='CART')\n",
    "    a.save()"
   ]
  },
  {
   "cell_type": "code",
   "execution_count": null,
   "id": "147ecab4",
   "metadata": {},
   "outputs": [],
   "source": [
    "company=Company.objects.get(name='Eixo Sp - Pavimento')"
   ]
  },
  {
   "cell_type": "code",
   "execution_count": null,
   "id": "df0c706d",
   "metadata": {},
   "outputs": [],
   "source": [
    "reps=Reporting.objects.filter(occurrence_type__occurrence_kind__in=[5,6,8],company=company\n",
    "                             ).exclude(form_data__has_key='service')"
   ]
  },
  {
   "cell_type": "code",
   "execution_count": null,
   "id": "16b1e19f",
   "metadata": {},
   "outputs": [],
   "source": [
    "reps.count()"
   ]
  },
  {
   "cell_type": "code",
   "execution_count": null,
   "id": "6feb69df",
   "metadata": {},
   "outputs": [],
   "source": [
    "reps=Reporting.objects.filter(uuid='bc957403-87af-4473-8ff0-779e3df894ab')"
   ]
  },
  {
   "cell_type": "code",
   "execution_count": null,
   "id": "d0a4d080",
   "metadata": {},
   "outputs": [],
   "source": [
    "for a in reps:\n",
    "    a.form_data['service'] = []\n",
    "    a.save()"
   ]
  },
  {
   "cell_type": "code",
   "execution_count": null,
   "id": "2bb45a5a",
   "metadata": {},
   "outputs": [],
   "source": [
    "team=Firm.objects.get(name='RMC_T3_01')"
   ]
  },
  {
   "cell_type": "code",
   "execution_count": null,
   "id": "820ff47c",
   "metadata": {},
   "outputs": [],
   "source": [
    "team"
   ]
  },
  {
   "cell_type": "code",
   "execution_count": null,
   "id": "d5e1d083",
   "metadata": {},
   "outputs": [],
   "source": [
    "mdr=MultipleDailyReport.objects.get(number='CART-RDO-2023.18902')"
   ]
  },
  {
   "cell_type": "code",
   "execution_count": null,
   "id": "a8e1b027",
   "metadata": {},
   "outputs": [],
   "source": [
    "mdr.firm=team\n",
    "mdr.save()"
   ]
  },
  {
   "cell_type": "code",
   "execution_count": null,
   "id": "378e1271",
   "metadata": {},
   "outputs": [],
   "source": [
    "import pandas as pd\n",
    "import matplotlib.pyplot as plt\n",
    "import scipy.stats as stats\n",
    "import numpy as np\n",
    "import plotly.express as px\n",
    "import plotly.io as pio\n",
    "import plotly.graph_objects as go"
   ]
  },
  {
   "cell_type": "code",
   "execution_count": null,
   "id": "b488c3e7",
   "metadata": {},
   "outputs": [],
   "source": [
    "occs = OccurrenceType.objects.all().values('name')"
   ]
  },
  {
   "cell_type": "code",
   "execution_count": null,
   "id": "0e42610e",
   "metadata": {},
   "outputs": [],
   "source": [
    "occs"
   ]
  },
  {
   "cell_type": "code",
   "execution_count": null,
   "id": "39737e39",
   "metadata": {},
   "outputs": [],
   "source": [
    "for a in occs:\n",
    "    a['tamanho_string'] = len(a['name'])"
   ]
  },
  {
   "cell_type": "code",
   "execution_count": null,
   "id": "e5d034ae",
   "metadata": {},
   "outputs": [],
   "source": [
    "occs"
   ]
  },
  {
   "cell_type": "code",
   "execution_count": null,
   "id": "c8ea8c3e",
   "metadata": {},
   "outputs": [],
   "source": [
    "df = pd.DataFrame(data=occs)\n",
    "df"
   ]
  },
  {
   "cell_type": "code",
   "execution_count": null,
   "id": "57725de0",
   "metadata": {},
   "outputs": [],
   "source": [
    "intervalos=[a for a in range(0,200,10)]\n",
    "intervalos"
   ]
  },
  {
   "cell_type": "code",
   "execution_count": null,
   "id": "89c47520",
   "metadata": {},
   "outputs": [],
   "source": [
    "df['group'] = pd.cut(df['tamanho_string'], intervalos)\n",
    "\n",
    "# Use groupby() para agrupar os dados pela nova coluna\n",
    "grouped = df.groupby('group')\n",
    "\n",
    "# Imprima os grupos e suas contagens\n",
    "last=[]\n",
    "for name, group in grouped:\n",
    "    last.append([name,len(group)])\n",
    "    print(f'{name}: {len(group)}')"
   ]
  },
  {
   "cell_type": "code",
   "execution_count": null,
   "id": "64e16b09",
   "metadata": {},
   "outputs": [],
   "source": [
    "df2 = pd.DataFrame(data=last,columns=['Range de Caracteres','Quantidade Classes por grupo de caracteres'])"
   ]
  },
  {
   "cell_type": "code",
   "execution_count": null,
   "id": "efe0ce29",
   "metadata": {},
   "outputs": [],
   "source": [
    "df2"
   ]
  },
  {
   "cell_type": "code",
   "execution_count": null,
   "id": "2ce41429",
   "metadata": {},
   "outputs": [],
   "source": [
    "df2.to_excel('Quantidade Classes por grupo de caracteres.xlsx')"
   ]
  },
  {
   "cell_type": "code",
   "execution_count": null,
   "id": "c455c194",
   "metadata": {},
   "outputs": [],
   "source": [
    "# Crie uma série Pandas com os dados\n",
    "s = pd.Series(df2['Quantidade Classes por grupo de caracteres'])\n",
    "\n",
    "# Crie a função de distribuição acumulada empírica\n",
    "ecdf = s.value_counts(normalize=True).sort_index().cumsum()\n",
    "\n",
    "# Crie o gráfico de distribuição acumulada interativo\n",
    "fig = px.line(x=ecdf.index, y=ecdf.values)\n",
    "\n",
    "# Defina o título do gráfico e dos eixos x e y\n",
    "fig.update_layout(title='Distribuição Acumulada', xaxis_title='Quantidade por grupo de caracteres', yaxis_title='Distribuição Acumulativa')\n",
    "\n",
    "# Defina o intervalo entre os marcadores do eixo x como 10\n",
    "fig.update_xaxes(dtick=500)\n",
    "\n",
    "# Transforme o eixo y em porcentagem\n",
    "fig.update_yaxes(tickformat='.0%')\n",
    "\n",
    "# fig.add_trace(\n",
    "#     go.Scatter(\n",
    "#         mode='markers+text',\n",
    "#         x=[50,100,200],\n",
    "#         y=[0.93,0.96,0.99],\n",
    "#         text=['50-93%','100-96%','200-99%'],\n",
    "#         textposition=\"bottom center\",\n",
    "#         marker=dict(\n",
    "#             color='red',\n",
    "#             size=5\n",
    "#         ),\n",
    "#         showlegend=False\n",
    "#     )\n",
    "# )\n",
    "\n",
    "# Exiba o gráfico\n",
    "fig.show()"
   ]
  },
  {
   "cell_type": "code",
   "execution_count": null,
   "id": "f5387d56",
   "metadata": {},
   "outputs": [],
   "source": [
    "mdr=MultipleDailyReport.objects.get(uuid='09d4c37f-66f1-4e0a-88aa-482b21d1d471')"
   ]
  },
  {
   "cell_type": "code",
   "execution_count": null,
   "id": "706a6fe8",
   "metadata": {},
   "outputs": [],
   "source": [
    "mdr.multiple_daily_report_occurrences.all()[0].__dict__"
   ]
  },
  {
   "cell_type": "code",
   "execution_count": null,
   "id": "ca1db6b8",
   "metadata": {},
   "outputs": [],
   "source": []
  },
  {
   "cell_type": "code",
   "execution_count": null,
   "id": "3005c8fc",
   "metadata": {},
   "outputs": [],
   "source": [
    "from helpers.strings import get_obj_from_path\n",
    "from helpers.apps.reportings import get_lane"
   ]
  },
  {
   "cell_type": "code",
   "execution_count": null,
   "id": "cd1267a7",
   "metadata": {},
   "outputs": [],
   "source": [
    "company=Company.objects.get(name=\"CART\")"
   ]
  },
  {
   "cell_type": "code",
   "execution_count": null,
   "id": "b37a707c",
   "metadata": {},
   "outputs": [],
   "source": [
    "from openpyxl import load_workbook\n",
    "filename = \"CORRECAO RDO (1).xlsx\"\n",
    "wb = load_workbook(filename)\n",
    "ws = wb[wb.sheetnames[0]]\n",
    "ws"
   ]
  },
  {
   "cell_type": "code",
   "execution_count": null,
   "id": "d54333d5",
   "metadata": {},
   "outputs": [],
   "source": [
    "header = []\n",
    "values = []\n",
    "\n",
    "for index, row in enumerate(ws.rows):\n",
    "    if index == 0:\n",
    "        header = list([a.value for a in row])\n",
    "        continue\n",
    "    obj = {}\n",
    "    for col_index, cell in enumerate(row):\n",
    "        value = cell.value\n",
    "        obj[header[col_index]] = value\n",
    "    values.append(obj)\n",
    "values[0]"
   ]
  },
  {
   "cell_type": "code",
   "execution_count": null,
   "id": "7fa75d47",
   "metadata": {},
   "outputs": [],
   "source": [
    "possible_lane_path = (\n",
    "        \"daily_report_occurrence__fields__description__selectoptions__options\"\n",
    "    )\n",
    "occurrences = get_obj_from_path(\n",
    "        company.custom_options, possible_lane_path\n",
    "    )"
   ]
  },
  {
   "cell_type": "code",
   "execution_count": null,
   "id": "f6e3ca70",
   "metadata": {},
   "outputs": [],
   "source": [
    "occurrences"
   ]
  },
  {
   "cell_type": "code",
   "execution_count": null,
   "id": "0245fc6b",
   "metadata": {},
   "outputs": [],
   "source": [
    "from tqdm.notebook import tqdm\n",
    "for a in tqdm(values):\n",
    "    rdo=MultipleDailyReport.objects.get(number=a['Serial do RDO'])\n",
    "    firm=rdo.firm\n",
    "    description = next(o['value'] for o in occurrences if o['name'] == a['Descrição'])\n",
    "    origin = 'EXECUTOR' if a['Origem'] == 'Executora' else 'INSPECTION'\n",
    "    starts_at = a['Horário de Início']\n",
    "    ends_at = a['Horário de Fim']\n",
    "    impact_duration = a['Impacto']\n",
    "    dro = DailyReportOccurrence(firm=firm,description=description,origin=origin,\n",
    "                               starts_at=starts_at,ends_at=ends_at,impact_duration=impact_duration)\n",
    "    dro.save()\n",
    "    rdo.multiple_daily_report_occurrences.add(dro)"
   ]
  },
  {
   "cell_type": "code",
   "execution_count": null,
   "id": "90512f87",
   "metadata": {},
   "outputs": [],
   "source": [
    "dro"
   ]
  },
  {
   "cell_type": "code",
   "execution_count": null,
   "id": "13dfaf63",
   "metadata": {},
   "outputs": [],
   "source": [
    "rdo"
   ]
  },
  {
   "cell_type": "code",
   "execution_count": null,
   "id": "56804650",
   "metadata": {},
   "outputs": [],
   "source": [
    "Firm.objects.filter(company__name='Demo Concessionárias',subcompany__name='M&A LTDA')"
   ]
  },
  {
   "cell_type": "code",
   "execution_count": null,
   "id": "db692111",
   "metadata": {},
   "outputs": [],
   "source": [
    "occs=OccurrenceType.objects.filter(company__name__startswith='Arteris')"
   ]
  },
  {
   "cell_type": "code",
   "execution_count": null,
   "id": "f14d4976",
   "metadata": {},
   "outputs": [],
   "source": [
    "occs.count()"
   ]
  },
  {
   "cell_type": "code",
   "execution_count": null,
   "id": "e42e20c9",
   "metadata": {},
   "outputs": [],
   "source": [
    "occs[0].company.all()[0].name"
   ]
  },
  {
   "cell_type": "code",
   "execution_count": null,
   "id": "d50aef26",
   "metadata": {},
   "outputs": [],
   "source": [
    "for a in occs:\n",
    "    if a.form_fields['fields'] is not None or a.form_fields['fields'] is not {}:\n",
    "        for field in a.form_fields['fields']:\n",
    "            try:\n",
    "                if 'city' in field.get('apiName'):\n",
    "                    print(field['dataType'],a.name,next(b.name for b in a.company.all()))\n",
    "            except:\n",
    "                pass"
   ]
  },
  {
   "cell_type": "code",
   "execution_count": null,
   "id": "c8d5e925",
   "metadata": {},
   "outputs": [],
   "source": [
    "MeasurementBulletin._meta.get_fields()"
   ]
  },
  {
   "cell_type": "code",
   "execution_count": null,
   "id": "4a3e3ce3",
   "metadata": {},
   "outputs": [],
   "source": [
    "mb=MeasurementBulletin.objects.filter(number__in=[\"AFD-BM-2023.12\", \"AFD-BM-2023.14\", \"AFD-BM-2023.13\"],\n",
    "                                     contract__subcompany__company=Company.objects.get(name=\"Arteris Fernão Dias - Conserva\"))"
   ]
  },
  {
   "cell_type": "code",
   "execution_count": null,
   "id": "e7f2bc98",
   "metadata": {},
   "outputs": [],
   "source": [
    "mb"
   ]
  },
  {
   "cell_type": "code",
   "execution_count": null,
   "id": "4c4e7922",
   "metadata": {},
   "outputs": [],
   "source": [
    "mb[0].__dict__"
   ]
  },
  {
   "cell_type": "code",
   "execution_count": null,
   "id": "b30c6e75",
   "metadata": {},
   "outputs": [],
   "source": [
    "up=UserPermission.objects.filter(companies__name='CART')"
   ]
  },
  {
   "cell_type": "code",
   "execution_count": null,
   "id": "32f7fe0b",
   "metadata": {},
   "outputs": [],
   "source": [
    "for a in up:\n",
    "    print(a.name,a.permissions['MultipleDailyReport'])"
   ]
  },
  {
   "cell_type": "code",
   "execution_count": null,
   "id": "2b691b50",
   "metadata": {},
   "outputs": [],
   "source": [
    "for a in UserInCompany.objects.filter(company__name__icontains='Kapa'):\n",
    "    print(a.permissions.name,a.user.username)"
   ]
  },
  {
   "cell_type": "code",
   "execution_count": null,
   "id": "8fad95a2",
   "metadata": {},
   "outputs": [],
   "source": []
  },
  {
   "cell_type": "code",
   "execution_count": null,
   "id": "8cd18fd3",
   "metadata": {},
   "outputs": [],
   "source": [
    "company=Company.objects.get(name=\"CART\")"
   ]
  },
  {
   "cell_type": "code",
   "execution_count": null,
   "id": "a72e1022",
   "metadata": {},
   "outputs": [],
   "source": [
    "from openpyxl import load_workbook\n",
    "filename = \"Unidades ativas Kartado Geral (1).xlsx\"\n",
    "wb = load_workbook(filename)\n",
    "ws = wb[wb.sheetnames[2]]\n",
    "ws"
   ]
  },
  {
   "cell_type": "code",
   "execution_count": null,
   "id": "5d4b8a32",
   "metadata": {},
   "outputs": [],
   "source": [
    "header = []\n",
    "values = []\n",
    "\n",
    "for index, row in enumerate(ws.rows):\n",
    "    if index == 0:\n",
    "        header = list([a.value for a in row])\n",
    "        continue\n",
    "    obj = {}\n",
    "    for col_index, cell in enumerate(row):\n",
    "        value = cell.value\n",
    "        obj[header[col_index]] = value\n",
    "    values.append(obj)\n",
    "values[0]"
   ]
  },
  {
   "cell_type": "code",
   "execution_count": null,
   "id": "c198b149",
   "metadata": {},
   "outputs": [],
   "source": [
    "values[0]['Unidades:'].split(' | ')[0].strip()"
   ]
  },
  {
   "cell_type": "code",
   "execution_count": null,
   "id": "c0db9e6c",
   "metadata": {},
   "outputs": [],
   "source": [
    "ativas=[]\n",
    "for a in values:\n",
    "    ativas.append(Company.objects.get(name=a['Unidades:'].split('|  [')[0].strip()).uuid)\n",
    "#     Company.objects.get(name=a['Unidades:'].split('|  [')[0].strip())"
   ]
  },
  {
   "cell_type": "code",
   "execution_count": null,
   "id": "06ce6160",
   "metadata": {},
   "outputs": [],
   "source": [
    "Company.objects.filter(uuid__in=ativas).update(active=True)"
   ]
  },
  {
   "cell_type": "code",
   "execution_count": null,
   "id": "61b4d297",
   "metadata": {},
   "outputs": [],
   "source": [
    "Company.objects.all()[0].active"
   ]
  },
  {
   "cell_type": "code",
   "execution_count": null,
   "id": "0111cb52",
   "metadata": {},
   "outputs": [],
   "source": [
    "Company.objects.all().exclude(uuid__in=ativas).update(active=False)"
   ]
  },
  {
   "cell_type": "code",
   "execution_count": null,
   "id": "43ec71a3",
   "metadata": {},
   "outputs": [],
   "source": [
    "up=UserPermission.objects.filter(companies__name='CART')"
   ]
  },
  {
   "cell_type": "code",
   "execution_count": null,
   "id": "46c50bf4",
   "metadata": {},
   "outputs": [],
   "source": [
    "up.count()"
   ]
  },
  {
   "cell_type": "code",
   "execution_count": null,
   "id": "1447bf17",
   "metadata": {},
   "outputs": [],
   "source": []
  },
  {
   "cell_type": "code",
   "execution_count": null,
   "id": "24a75195",
   "metadata": {},
   "outputs": [],
   "source": [
    "company=Company.objects.get(name='Sinalizavia (Municípios)')"
   ]
  },
  {
   "cell_type": "code",
   "execution_count": null,
   "id": "252b7dc7",
   "metadata": {
    "scrolled": true
   },
   "outputs": [],
   "source": [
    "for a in company.history.all().order_by('-history_date'):\n",
    "    print(a.history_date,a.history_user)"
   ]
  },
  {
   "cell_type": "code",
   "execution_count": null,
   "id": "b1b5de7b",
   "metadata": {},
   "outputs": [],
   "source": [
    "company.history.all().order_by('-history_date')[2].history_user,company.history.all().order_by('-history_date')[2].history_date"
   ]
  },
  {
   "cell_type": "code",
   "execution_count": null,
   "id": "4f8ddbb2",
   "metadata": {},
   "outputs": [],
   "source": [
    "rep=Reporting.objects.get(number='SV-SinV-2023.00010')"
   ]
  },
  {
   "cell_type": "code",
   "execution_count": null,
   "id": "923722a9",
   "metadata": {},
   "outputs": [],
   "source": [
    "rep.history.all().order_by('-history_date')[0].history_user"
   ]
  },
  {
   "cell_type": "code",
   "execution_count": null,
   "id": "859dabb6",
   "metadata": {},
   "outputs": [],
   "source": [
    "Reporting.history.model.objects.filter(\n",
    "    history_date__date=\"2023-07-24\", \n",
    "    history_type=\"-\", \n",
    "    form_data__artesp_code=\"618034\"\n",
    ")"
   ]
  },
  {
   "cell_type": "code",
   "execution_count": null,
   "id": "ac358694",
   "metadata": {},
   "outputs": [],
   "source": [
    "occs=OccurrenceType.objects.filter(company__name='CART')"
   ]
  },
  {
   "cell_type": "code",
   "execution_count": null,
   "id": "314c06a2",
   "metadata": {},
   "outputs": [],
   "source": [
    "for a in occs:\n",
    "    for field in a.form_fields['fields']:\n",
    "        try:\n",
    "            if 'altura' in field.get('displayName').lower() and 'executad' in field.get('displayName').lower():\n",
    "                print(a.name)\n",
    "        except:\n",
    "            if 'altura' in field.get('display_name').lower() and 'executad' in field.get('display_name').lower():\n",
    "                print(a.name)"
   ]
  },
  {
   "cell_type": "code",
   "execution_count": null,
   "id": "129f20b4",
   "metadata": {},
   "outputs": [],
   "source": [
    "for a in occs:\n",
    "    for field in a.form_fields['fields']:\n",
    "        try:\n",
    "            if 'executedHeight' in field.get('apiName'):\n",
    "                print(a.name)\n",
    "        except:\n",
    "            pass"
   ]
  },
  {
   "cell_type": "code",
   "execution_count": null,
   "id": "e2f1c0c5",
   "metadata": {},
   "outputs": [],
   "source": [
    "Reporting.objects.filter(form_data__has_key='executed_height',company__name='CART')"
   ]
  },
  {
   "cell_type": "code",
   "execution_count": null,
   "id": "b581a5f2",
   "metadata": {},
   "outputs": [],
   "source": [
    "MultipleDailyReport.objects.get(number='INT-RDO-2023.00134').firm"
   ]
  },
  {
   "cell_type": "code",
   "execution_count": null,
   "id": "e4ccae51",
   "metadata": {},
   "outputs": [],
   "source": [
    "con = Contract.objects.get(uuid='f82a9b41-7a23-4f84-8423-42eff51be42f')"
   ]
  },
  {
   "cell_type": "code",
   "execution_count": null,
   "id": "db16139d",
   "metadata": {},
   "outputs": [],
   "source": [
    "con"
   ]
  },
  {
   "cell_type": "code",
   "execution_count": null,
   "id": "ca8a76bc",
   "metadata": {},
   "outputs": [],
   "source": [
    "firms_iasin = Firm.objects.filter(subcompany__name='IASIN - SINALIZAÇÕES')\n",
    "firms_iasin"
   ]
  },
  {
   "cell_type": "code",
   "execution_count": null,
   "id": "424741af",
   "metadata": {},
   "outputs": [],
   "source": [
    "rdo=MultipleDailyReport.objects.filter(contract=con,reportings__firm__in=firms_iasin)"
   ]
  },
  {
   "cell_type": "code",
   "execution_count": null,
   "id": "9362171a",
   "metadata": {},
   "outputs": [],
   "source": [
    "rdo"
   ]
  },
  {
   "cell_type": "code",
   "execution_count": null,
   "id": "4dfd91f6",
   "metadata": {},
   "outputs": [],
   "source": [
    "mb=MeasurementBulletin.objects.get(number='SV-BM-2023.9')"
   ]
  },
  {
   "cell_type": "code",
   "execution_count": null,
   "id": "a5d090c1",
   "metadata": {},
   "outputs": [],
   "source": [
    "mb.delete()"
   ]
  },
  {
   "cell_type": "markdown",
   "id": "e3d7cb25",
   "metadata": {},
   "source": [
    "# Alterar Status Itens do contrato"
   ]
  },
  {
   "cell_type": "markdown",
   "id": "bc07a253",
   "metadata": {},
   "source": [
    "# ProcedureResource Preço Unitário do Contrato"
   ]
  },
  {
   "cell_type": "code",
   "execution_count": null,
   "id": "991b9125",
   "metadata": {},
   "outputs": [],
   "source": [
    "pr=ProcedureResource.objects.get(reporting=Reporting.objects.get(number='SV-SinH-2023.00085'))"
   ]
  },
  {
   "cell_type": "code",
   "execution_count": null,
   "id": "2be3e46f",
   "metadata": {},
   "outputs": [],
   "source": [
    "pr.approval_status = \"WAITING_APPROVAL\"\n",
    "pr.save()"
   ]
  },
  {
   "cell_type": "code",
   "execution_count": null,
   "id": "3359ac13",
   "metadata": {},
   "outputs": [],
   "source": [
    "con=Contract.objects.get(uuid='21ba83ee-5610-49fa-9394-1a23011b14a9')"
   ]
  },
  {
   "cell_type": "code",
   "execution_count": null,
   "id": "5f0661a7",
   "metadata": {},
   "outputs": [],
   "source": [
    "# ContractItemAdministration.objects.filter(contract=con,name='SERVENTE')approval_status='APPROVED_APPROVAL',\n",
    "# sor=ServiceOrderResource.objects.filter(contract=con,resource__name='SERVENTE')"
   ]
  },
  {
   "cell_type": "markdown",
   "id": "7e8f3cc8",
   "metadata": {},
   "source": [
    "# Item de Administração do Contrato"
   ]
  },
  {
   "cell_type": "code",
   "execution_count": null,
   "id": "8e1651fe",
   "metadata": {},
   "outputs": [],
   "source": [
    "rdo=MultipleDailyReport.objects.filter(contract=con,date__gte='2023-10-11')"
   ]
  },
  {
   "cell_type": "code",
   "execution_count": null,
   "id": "1a4bc9fd",
   "metadata": {},
   "outputs": [],
   "source": [
    "worker=DailyReportWorker.objects.filter(multiple_daily_reports__in=rdo,approval_status='APPROVED_APPROVAL')\n",
    "equipment = DailyReportEquipment.objects.filter(multiple_daily_reports__in=rdo,approval_status='APPROVED_APPROVAL')\n",
    "veiculo = DailyReportVehicle.objects.filter(multiple_daily_reports__in=rdo,approval_status='APPROVED_APPROVAL')"
   ]
  },
  {
   "cell_type": "code",
   "execution_count": null,
   "id": "3a9ec379",
   "metadata": {},
   "outputs": [],
   "source": [
    "worker.count(),equipment.count(),veiculo.count(),worker[0].__dict__"
   ]
  },
  {
   "cell_type": "code",
   "execution_count": null,
   "id": "8a126639",
   "metadata": {
    "scrolled": false
   },
   "outputs": [],
   "source": [
    "for b in [worker,equipment,veiculo]:\n",
    "    for a in b:\n",
    "        a.approval_status = 'WAITING_APPROVAL'\n",
    "        a.save()\n",
    "#     if a.worker.approval_status == 'APPROVED_APPROVAL'\n",
    "#     a.worker."
   ]
  },
  {
   "cell_type": "code",
   "execution_count": null,
   "id": "1358515c",
   "metadata": {},
   "outputs": [],
   "source": [
    "company=Company.objects.get(name='Arteris Intervias')"
   ]
  },
  {
   "cell_type": "code",
   "execution_count": null,
   "id": "a49a422a",
   "metadata": {},
   "outputs": [],
   "source": [
    "rep=Reporting.objects.get(number='INT-SIN-Aer-2023.07107')"
   ]
  },
  {
   "cell_type": "code",
   "execution_count": null,
   "id": "949dc6a2",
   "metadata": {
    "scrolled": true
   },
   "outputs": [],
   "source": [
    "pr=ProcedureResource.objects.filter(service_order_resource__contract=con,\n",
    "                                    reporting=rep,\n",
    "                                    approval_status='APPROVED_APPROVAL',\n",
    "                                    resource__name='2.7 - Fornecimento de placas de regulamentação, advertência e dispositivos de segurança confeccionadas em chapa de aço galvanizado, com película tipo III ou tipo X, exceto os elementos em preto, que deverão ser não refletivos com película tipo IV. - Ø 1,20 m (tipo III)')\n",
    "pr"
   ]
  },
  {
   "cell_type": "code",
   "execution_count": null,
   "id": "c565ce14",
   "metadata": {},
   "outputs": [],
   "source": [
    "pr_teste = pr[0]"
   ]
  },
  {
   "cell_type": "code",
   "execution_count": null,
   "id": "20513caa",
   "metadata": {},
   "outputs": [],
   "source": [
    "pr_teste.approval_status = 'WAITING_APPROVAL'\n",
    "pr_teste.save()"
   ]
  },
  {
   "cell_type": "code",
   "execution_count": null,
   "id": "26a6eba2",
   "metadata": {},
   "outputs": [],
   "source": [
    "ServiceOrderResource._meta.fields"
   ]
  },
  {
   "cell_type": "code",
   "execution_count": null,
   "id": "c3f8834b",
   "metadata": {},
   "outputs": [],
   "source": []
  },
  {
   "cell_type": "code",
   "execution_count": null,
   "id": "b5b2e011",
   "metadata": {},
   "outputs": [],
   "source": []
  },
  {
   "cell_type": "code",
   "execution_count": null,
   "id": "9d3f5067",
   "metadata": {},
   "outputs": [],
   "source": [
    "up=UserPermission.objects.filter(companies__name='Sinaliza Via (Rodovias)')"
   ]
  },
  {
   "cell_type": "code",
   "execution_count": null,
   "id": "75debb65",
   "metadata": {},
   "outputs": [],
   "source": [
    "for a in up:\n",
    "    a.permissions['Reporting']['can_approve'] = True\n",
    "    a.save()\n",
    "#     print(a.permissions['Reporting'])"
   ]
  },
  {
   "cell_type": "code",
   "execution_count": null,
   "id": "9eab0386",
   "metadata": {},
   "outputs": [],
   "source": [
    "uis=UserInCompany.objects.filter(company__name='ELO SPVias').exclude(user__email__icontains='kartado').values('user__uuid')"
   ]
  },
  {
   "cell_type": "code",
   "execution_count": null,
   "id": "43502528",
   "metadata": {},
   "outputs": [],
   "source": [
    "uis.count(),uis"
   ]
  },
  {
   "cell_type": "code",
   "execution_count": null,
   "id": "826b8b21",
   "metadata": {},
   "outputs": [],
   "source": [
    "User.objects.filter(uuid__in=uis)"
   ]
  },
  {
   "cell_type": "code",
   "execution_count": null,
   "id": "82ce24d5",
   "metadata": {},
   "outputs": [],
   "source": [
    "from django.core import serializers\n",
    "\n",
    "data = serializers.serialize(\"json\", User.objects.filter(uuid__in=uis))"
   ]
  },
  {
   "cell_type": "code",
   "execution_count": null,
   "id": "4068a6ef",
   "metadata": {},
   "outputs": [],
   "source": [
    "data"
   ]
  },
  {
   "cell_type": "code",
   "execution_count": null,
   "id": "9d593e79",
   "metadata": {},
   "outputs": [],
   "source": [
    "data=[]\n",
    "for a in uis:\n",
    "    user=User()\n",
    "    for field in a.user._meta.fields:\n",
    "        setattr(user, field.name, getattr(a.user, field.name))\n",
    "    \n",
    "    data.append(user)"
   ]
  },
  {
   "cell_type": "code",
   "execution_count": null,
   "id": "8dce3d24",
   "metadata": {},
   "outputs": [],
   "source": [
    "import json\n",
    "with open('data.json', 'w') as f:\n",
    "    json.dump(data, f)"
   ]
  },
  {
   "cell_type": "markdown",
   "id": "63fbd941",
   "metadata": {},
   "source": [
    "# Exemplo de copia de atributos"
   ]
  },
  {
   "cell_type": "code",
   "execution_count": null,
   "id": "a8e3c234",
   "metadata": {},
   "outputs": [],
   "source": [
    "user_source = User.objects.get(user=user)\n",
    "\n",
    "\n",
    "user_dest = User()\n",
    "\n",
    "for field in user_source._meta.fields:\n",
    "    if field.uuid:\n",
    "        continue  # Skip the primary key field\n",
    "    setattr(user_dest, field.name, getattr(user_source, field.name))"
   ]
  },
  {
   "cell_type": "code",
   "execution_count": null,
   "id": "cbafdb0a",
   "metadata": {},
   "outputs": [],
   "source": [
    "uis[0].user._meta.fields"
   ]
  },
  {
   "cell_type": "code",
   "execution_count": null,
   "id": "11c62aa5",
   "metadata": {},
   "outputs": [],
   "source": [
    "QueuedEmail.objects.filter(title='Redefinição da sua senha Kartado',company__name='CCR - SPVias')"
   ]
  },
  {
   "cell_type": "code",
   "execution_count": null,
   "id": "4a5e41f7",
   "metadata": {},
   "outputs": [],
   "source": [
    "status=ServiceOrderActionStatus.objects.get(companies__name='Arteris Via Paulista',name=\"Executado\")"
   ]
  },
  {
   "cell_type": "code",
   "execution_count": null,
   "id": "99a16d8d",
   "metadata": {},
   "outputs": [],
   "source": [
    "status"
   ]
  },
  {
   "cell_type": "code",
   "execution_count": null,
   "id": "18212470",
   "metadata": {},
   "outputs": [],
   "source": [
    "rep=Reporting.objects.get(number='VPT-SIN-Ver-2023.14695')"
   ]
  },
  {
   "cell_type": "code",
   "execution_count": null,
   "id": "1b673798",
   "metadata": {},
   "outputs": [],
   "source": [
    "rep.status"
   ]
  },
  {
   "cell_type": "code",
   "execution_count": null,
   "id": "d35c35f8",
   "metadata": {},
   "outputs": [],
   "source": [
    "rep.approval_step"
   ]
  },
  {
   "cell_type": "code",
   "execution_count": null,
   "id": "bc272fb5",
   "metadata": {},
   "outputs": [],
   "source": [
    "from openpyxl import load_workbook\n",
    "filename = \"elospviasclasses.xlsx\"\n",
    "wb = load_workbook(filename)\n",
    "ws = wb['Naturezas e Classes Preencher']\n",
    "ws"
   ]
  },
  {
   "cell_type": "code",
   "execution_count": null,
   "id": "0c0a710d",
   "metadata": {},
   "outputs": [],
   "source": [
    "header = []\n",
    "values = []\n",
    "\n",
    "for index, row in enumerate(ws.rows):\n",
    "    if index == 0:\n",
    "        header = list([a.value for a in row])\n",
    "        continue\n",
    "    obj = {}\n",
    "    for col_index, cell in enumerate(row):\n",
    "        value = cell.value\n",
    "        obj[header[col_index]] = value\n",
    "    values.append(obj)\n",
    "values[0]"
   ]
  },
  {
   "cell_type": "code",
   "execution_count": null,
   "id": "642360b2",
   "metadata": {},
   "outputs": [],
   "source": [
    "company=Company.objects.get(name='ELO SPVias')"
   ]
  },
  {
   "cell_type": "code",
   "execution_count": null,
   "id": "514724b6",
   "metadata": {},
   "outputs": [],
   "source": [
    "from tqdm.notebook import tqdm\n",
    "for a in tqdm(values):\n",
    "#     try:\n",
    "    occ=OccurrenceType.objects.filter(name=a['Classes'].strip(),company__name='ELO EcoNoroeste')\n",
    "    if occ.exists():\n",
    "        occ = occ.first()\n",
    "        \n",
    "        specs=OccurrenceTypeSpecs.objects.filter(occurrence_type=occ,company=company)\n",
    "        if not specs.exists():\n",
    "            occ_specs=OccurrenceTypeSpecs(occurrence_type=occ,company=company)\n",
    "            occ_specs.save()\n",
    "    else:\n",
    "        print(specs,occ)\n",
    "#     except:\n",
    "#         print(occ)"
   ]
  },
  {
   "cell_type": "code",
   "execution_count": null,
   "id": "47d70a18",
   "metadata": {},
   "outputs": [],
   "source": [
    "nat=[{\n",
    "\t\t\t\t\t\t\t\"name\": \"Pavimento Flexível\",\n",
    "\t\t\t\t\t\t\t\"value\": \"5\"\n",
    "\t\t\t\t\t\t},\n",
    "\t\t\t\t\t\t{\n",
    "\t\t\t\t\t\t\t\"name\": \"Pavimento Rígido\",\n",
    "\t\t\t\t\t\t\t\"value\": \"6\"\n",
    "\t\t\t\t\t\t},\n",
    "\t\t\t\t\t\t{\n",
    "\t\t\t\t\t\t\t\"name\": \"Revestimento Vegetal\",\n",
    "\t\t\t\t\t\t\t\"value\": \"7\"\n",
    "\t\t\t\t\t\t},\n",
    "\t\t\t\t\t\t{\n",
    "\t\t\t\t\t\t\t\"name\": \"Limpeza\",\n",
    "\t\t\t\t\t\t\t\"value\": \"8\"\n",
    "\t\t\t\t\t\t},\n",
    "\t\t\t\t\t\t{\n",
    "\t\t\t\t\t\t\t\"name\": \"Drenagem de Plataforma\",\n",
    "\t\t\t\t\t\t\t\"value\": \"9\"\n",
    "\t\t\t\t\t\t},\n",
    "\t\t\t\t\t\t{\n",
    "\t\t\t\t\t\t\t\"name\": \"Drenagem Fora de Plataforma\",\n",
    "\t\t\t\t\t\t\t\"value\": \"10\"\n",
    "\t\t\t\t\t\t},\n",
    "\t\t\t\t\t\t{\n",
    "\t\t\t\t\t\t\t\"name\": \"Caixas de Captação\",\n",
    "\t\t\t\t\t\t\t\"value\": \"11\"\n",
    "\t\t\t\t\t\t},\n",
    "\t\t\t\t\t\t{\n",
    "\t\t\t\t\t\t\t\"name\": \"Bueiros, Galerias e Drenos\",\n",
    "\t\t\t\t\t\t\t\"value\": \"12\"\n",
    "\t\t\t\t\t\t},\n",
    "\t\t\t\t\t\t{\n",
    "\t\t\t\t\t\t\t\"name\": \"Sinalização Vertical - Placas\",\n",
    "\t\t\t\t\t\t\t\"value\": \"13\"\n",
    "\t\t\t\t\t\t},\n",
    "\t\t\t\t\t\t{\n",
    "\t\t\t\t\t\t\t\"name\": \"Balizadores e Delineadores\",\n",
    "\t\t\t\t\t\t\t\"value\": \"14\"\n",
    "\t\t\t\t\t\t},\n",
    "\t\t\t\t\t\t{\n",
    "\t\t\t\t\t\t\t\"name\": \"Dispositivo de Contenção Viária\",\n",
    "\t\t\t\t\t\t\t\"value\": \"15\"\n",
    "\t\t\t\t\t\t}]"
   ]
  },
  {
   "cell_type": "code",
   "execution_count": null,
   "id": "35ed407f",
   "metadata": {},
   "outputs": [],
   "source": [
    "nat"
   ]
  },
  {
   "cell_type": "code",
   "execution_count": null,
   "id": "b555c60c",
   "metadata": {},
   "outputs": [],
   "source": [
    "for a in tqdm(values):\n",
    "    num_nat = next(num['value'] for num in nat if a['Naturezas'].strip() == num['name'])\n",
    "    occ=OccurrenceType.objects.filter(name=a['Classes'].strip(),company=company)\n",
    "    occ_origem = OccurrenceType.objects.get(name=a['Classes'].strip(),company__name='ELO EcoNoroeste')\n",
    "    if occ.exists():\n",
    "        occ_dest = OccurrenceType(name=f\"{a['Classes'].strip()} ({a['Naturezas']})\",\n",
    "                                 occurrence_kind=num_nat, \n",
    "                                  form_fields=occ_origem.form_fields)\n",
    "        occ_dest.save()\n",
    "        specs = OccurrenceTypeSpecs(occurrence_type=occ_dest,company=company)\n",
    "        specs.save()\n",
    "    else:\n",
    "        occ_dest = OccurrenceType(name=f\"{a['Classes'].strip()}\",\n",
    "                                 occurrence_kind=num_nat, \n",
    "                                  form_fields=occ_origem.form_fields)\n",
    "        occ_dest.save()\n",
    "        specs = OccurrenceTypeSpecs(occurrence_type=occ_dest,company=company)\n",
    "        specs.save()"
   ]
  },
  {
   "cell_type": "code",
   "execution_count": null,
   "id": "50698e09",
   "metadata": {},
   "outputs": [],
   "source": [
    "occ_dest.delete()"
   ]
  },
  {
   "cell_type": "code",
   "execution_count": null,
   "id": "31eec906",
   "metadata": {},
   "outputs": [],
   "source": [
    "for a in values:\n",
    "    if a['Classes'] == 'Corte e poda de árvores e arbustos':\n",
    "        a['Classes'] = 'Corte e Poda de Árvores e Arbustos'"
   ]
  },
  {
   "cell_type": "code",
   "execution_count": null,
   "id": "a5f8ed41",
   "metadata": {},
   "outputs": [],
   "source": [
    "values"
   ]
  },
  {
   "cell_type": "code",
   "execution_count": null,
   "id": "fa9e022a",
   "metadata": {},
   "outputs": [],
   "source": [
    "occ=OccurrenceType.objects.get(name='Fresagem',company__name='Eixo Sp - Pavimento')"
   ]
  },
  {
   "cell_type": "code",
   "execution_count": null,
   "id": "0d2d9f86",
   "metadata": {},
   "outputs": [],
   "source": [
    "occ.form_fields['fields']"
   ]
  },
  {
   "cell_type": "code",
   "execution_count": null,
   "id": "53f3522a",
   "metadata": {},
   "outputs": [],
   "source": [
    "for a in occ.history.all():\n",
    "    for b in a.form_fields['fields']:\n",
    "        if b['apiName'] == 'service':\n",
    "            for inner in b['innerFields']:\n",
    "                if inner['apiName'] == 'length':\n",
    "                    print(a.history_date,inner['requiredIf'])"
   ]
  },
  {
   "cell_type": "code",
   "execution_count": null,
   "id": "8cfd4b14",
   "metadata": {},
   "outputs": [],
   "source": [
    "rep=Reporting.objects.get(number='EIXO-TER-2023.02940').history.all()"
   ]
  },
  {
   "cell_type": "code",
   "execution_count": null,
   "id": "dcd762e3",
   "metadata": {},
   "outputs": [],
   "source": [
    "for a in rep:\n",
    "    print(a.history_date,a.form_data['service'])"
   ]
  },
  {
   "cell_type": "code",
   "execution_count": null,
   "id": "2a020264",
   "metadata": {},
   "outputs": [],
   "source": [
    "bi=list({\"uuid\", \"link\", \"number\", \"roadName\", \"km\", \"endKm\", \"latitude\", \"longitude\", \"occurrenceType\", \"length\", \"width\", \"height\", \"lane\", \"track\", \"branch\", \"kmReference\", \"direction\", \"occurrenceKind\", \"status\", \"createdBy\", \"updatedBy\", \"firm\", \"subcompany\", \"job\", \"createdAt\", \"foundAt\", \"updatedAt\", \"executedAt\", \"notes\", \"dueAt\", \"price\", \"construction\", \"idInventory\", \"contratualCode\", \"csp\", \"artespCode\", \"receivedDate\", \"area\", \"volume\", \"tonnage\", \"building\", \"amount\", \"demandOrigin\", \"services\", \"signName\", \"signType\", \"raOld\", \"raNew\", \"lcaLength\", \"lcaWidth\", \"lcaArea\", \"zpaLength\", \"zpaWidth\", \"zpaArea\", \"notTree\", \"manualAmount\", \"manualLength\", \"manualWidth\", \"manualArea\", \"mecanizadaAmount\", \"mecanizadaLength\", \"mecanizadaWidth\", \"mecanizadaArea\", \"mourao\", \"arame\", \"weight\", \"canchasDeAplicacao\", \"cbuqType\", \"truckArrival2\", \"finalTemperature\", \"arrivalTemperature\", \"compressionTemperature\", \"ticket\", \"notifiedId\", \"notifiedNumber\", \"lot\"})"
   ]
  },
  {
   "cell_type": "code",
   "execution_count": null,
   "id": "9edf5a5c",
   "metadata": {},
   "outputs": [],
   "source": [
    "api = [\"uuid\", \"link\",\"number\",\"roadName\",\"subCompany\",\"km\",\"endKm\",\"lot\",\"latitude\",\"longitude\",\"occurrenceType\",\n",
    "      \"occurrenceKind\",\"lane\",\"direction\",\"status\",\"createdBy\",\"lastHistoryUser\",\"firm\",\"job\",\"foundAt\",\"updatedAt\",\n",
    "      \"executedAt\",\"dueAt\"]\n",
    "names=[\"uuid\", \"link\",\"Número\",\"Rodovia\",\"Empresa\",\"km inicial\",\"km final\",\"Lote\",\"Latitude\",\"Longitude\",\"Classe\",\"Natureza\",\"Faixa\",\n",
    "      \"Sentido\",\"Status\",\"Criado por\",\"Atualizado por\",\"Equipe\",\"Programação\",\"Criado em\",\"Atualizado em\",\"Executado em\",\"Prazo\"]\n",
    "traducao={a:b for a,b in zip(api,names)}"
   ]
  },
  {
   "cell_type": "code",
   "execution_count": null,
   "id": "711b8da4",
   "metadata": {},
   "outputs": [],
   "source": [
    "traducao"
   ]
  },
  {
   "cell_type": "code",
   "execution_count": null,
   "id": "f2e12b69",
   "metadata": {},
   "outputs": [],
   "source": [
    "company=Company.objects.get(name='Entrevias')"
   ]
  },
  {
   "cell_type": "code",
   "execution_count": null,
   "id": "9ab51dad",
   "metadata": {
    "scrolled": true
   },
   "outputs": [],
   "source": [
    "company.custom_options['reportingSpreadsheet']"
   ]
  },
  {
   "cell_type": "code",
   "execution_count": null,
   "id": "34653a97",
   "metadata": {},
   "outputs": [],
   "source": [
    "for i,a in enumerate(bi):\n",
    "    if a not in [key for key in traducao.keys()]:\n",
    "        for k in company.custom_options['reportingSpreadsheet']['extraColumns']:\n",
    "            if a == k['key']:\n",
    "                traducao[k['key']] = k['header']"
   ]
  },
  {
   "cell_type": "code",
   "execution_count": null,
   "id": "81fa4d7c",
   "metadata": {},
   "outputs": [],
   "source": [
    "traducao"
   ]
  },
  {
   "cell_type": "code",
   "execution_count": null,
   "id": "a073442d",
   "metadata": {},
   "outputs": [],
   "source": [
    "for a in UserPermission.objects.filter(name__icontains='artesp'):\n",
    "    try:\n",
    "        print(a.name,a.companies.first().name)\n",
    "        for k,v in a.permissions.items():\n",
    "            if v.get('can_view') == True:\n",
    "                print(k,v.get('can_view'),v.get('queryset'),v.get('can_view_sisoaes'))\n",
    "    except:\n",
    "        pass"
   ]
  },
  {
   "cell_type": "code",
   "execution_count": null,
   "id": "e6108491",
   "metadata": {},
   "outputs": [],
   "source": [
    "from django.db.models import Q"
   ]
  },
  {
   "cell_type": "code",
   "execution_count": null,
   "id": "5e611a37",
   "metadata": {},
   "outputs": [],
   "source": [
    "for a in UserPermission.objects.filter(Q(name__icontains='artesp') | Q(name__icontains='antt')):\n",
    "    print(a.name,[b.name for b in a.companies.all()])"
   ]
  },
  {
   "cell_type": "code",
   "execution_count": null,
   "id": "e483a91d",
   "metadata": {},
   "outputs": [],
   "source": [
    "import pandas as pd\n",
    "import openpyxl as op\n",
    "from django.db.models import Q"
   ]
  },
  {
   "cell_type": "code",
   "execution_count": null,
   "id": "1ce4c905",
   "metadata": {},
   "outputs": [],
   "source": [
    "filename = 'ArterisQuantidades'\n",
    "pd.DataFrame().to_excel(filename+'.xlsx')\n",
    "wb=op.load_workbook(filename+'.xlsx')"
   ]
  },
  {
   "cell_type": "code",
   "execution_count": null,
   "id": "548b7208",
   "metadata": {},
   "outputs": [],
   "source": [
    "for company in Company.objects.filter(Q(name__startswith='Arteris') | Q(name__icontains='conserva')):\n",
    "    reps=Reporting.objects.filter(company=company\n",
    "                             ).values('occurrence_type__name'\n",
    "                                     ).annotate(qtd_por_classe=Count('uuid')\n",
    "                                               ).order_by('occurrence_type__name')\n",
    "    if reps.exists():\n",
    "        data={a['occurrence_type__name']:a['qtd_por_classe'] for a in reps}\n",
    "        df2 = pd.DataFrame(data=data,index=['Qtd Apontamentos por Classe'])\n",
    "        df2 = df2.transpose()\n",
    "        with pd.ExcelWriter(filename+'.xlsx', mode='a',if_sheet_exists='replace') as writer:\n",
    "            df2.to_excel(writer,sheet_name=company.name,na_rep=\"-\")"
   ]
  },
  {
   "cell_type": "code",
   "execution_count": null,
   "id": "a15f8a42",
   "metadata": {},
   "outputs": [],
   "source": []
  },
  {
   "cell_type": "code",
   "execution_count": null,
   "id": "c1c8274d",
   "metadata": {},
   "outputs": [],
   "source": [
    "rep=Reporting.history.filter(history_type='-',\n",
    "                             history_date__gt='2023-12-10',\n",
    "                             firm=Firm.objects.get(name='teste notificacao',company__name='Demo Concessionárias'),\n",
    "                             company__name='Demo Concessionárias')"
   ]
  },
  {
   "cell_type": "code",
   "execution_count": null,
   "id": "5b367b36",
   "metadata": {},
   "outputs": [],
   "source": [
    "rep[0].instance.save()"
   ]
  },
  {
   "cell_type": "code",
   "execution_count": null,
   "id": "2f5e02a2",
   "metadata": {},
   "outputs": [],
   "source": [
    "rep=Reporting.objects.get(number='DEMO-SIN-Ver-2023.00013')"
   ]
  },
  {
   "cell_type": "code",
   "execution_count": null,
   "id": "eb1c8a65",
   "metadata": {},
   "outputs": [],
   "source": [
    "historico = rep.history.all()"
   ]
  },
  {
   "cell_type": "code",
   "execution_count": null,
   "id": "5b1efe6a",
   "metadata": {},
   "outputs": [],
   "source": [
    "historico,historico.count()"
   ]
  },
  {
   "cell_type": "code",
   "execution_count": null,
   "id": "1bf75d79",
   "metadata": {},
   "outputs": [],
   "source": [
    "for a in historico:\n",
    "    print(a.history_type)"
   ]
  },
  {
   "cell_type": "code",
   "execution_count": null,
   "id": "2755425a",
   "metadata": {},
   "outputs": [],
   "source": [
    "historico[1].history_user = User.objects.get(username='joao.nitzke')\n",
    "historico[1].save()"
   ]
  },
  {
   "cell_type": "code",
   "execution_count": null,
   "id": "9b84b465",
   "metadata": {
    "scrolled": true
   },
   "outputs": [],
   "source": [
    "historico[0].history_relation.__dict__"
   ]
  },
  {
   "cell_type": "code",
   "execution_count": null,
   "id": "23c28d97",
   "metadata": {},
   "outputs": [],
   "source": [
    "historico[0].__dict__"
   ]
  },
  {
   "cell_type": "code",
   "execution_count": null,
   "id": "cc97a30b",
   "metadata": {},
   "outputs": [],
   "source": [
    "repfile=ReportingFile.objects.get(uuid='b0a12b5b-5528-4673-8a7c-342d69e55919')"
   ]
  },
  {
   "cell_type": "code",
   "execution_count": null,
   "id": "d6aaa087",
   "metadata": {},
   "outputs": [],
   "source": [
    "repfile.__dict__"
   ]
  },
  {
   "cell_type": "code",
   "execution_count": null,
   "id": "0c1a3fd6",
   "metadata": {},
   "outputs": [],
   "source": [
    "ReportingFile.objects.first().upload"
   ]
  },
  {
   "cell_type": "code",
   "execution_count": null,
   "id": "4648d64e",
   "metadata": {},
   "outputs": [],
   "source": [
    "mdr=MultipleDailyReport.objects.get(number='ROO-RDO-2023.00763')"
   ]
  },
  {
   "cell_type": "code",
   "execution_count": null,
   "id": "a108af12",
   "metadata": {},
   "outputs": [],
   "source": [
    "mdr._meta.fields"
   ]
  },
  {
   "cell_type": "code",
   "execution_count": null,
   "id": "58b21738",
   "metadata": {},
   "outputs": [],
   "source": []
  },
  {
   "cell_type": "code",
   "execution_count": null,
   "id": "1c955e3d",
   "metadata": {},
   "outputs": [],
   "source": [
    "for a in Reportin:\n",
    "    try:\n",
    "        a.upload.size\n",
    "    except:\n",
    "        print(a.uuid)"
   ]
  },
  {
   "cell_type": "code",
   "execution_count": null,
   "id": "2e47a1d7",
   "metadata": {},
   "outputs": [],
   "source": [
    "rep=Reporting.objects.get(number='INT-SIN-Aer-2023.06753')"
   ]
  },
  {
   "cell_type": "code",
   "execution_count": null,
   "id": "a3a7a243",
   "metadata": {},
   "outputs": [],
   "source": [
    "for a in rep.history.all():\n",
    "    print(a.history_date.strftime('%d/%m/%Y %HH:%MM'),a.firm.name,a.history_user.full_name)"
   ]
  },
  {
   "cell_type": "code",
   "execution_count": null,
   "id": "852982b6",
   "metadata": {},
   "outputs": [],
   "source": [
    "rep=Reporting.objects.get(uuid='9ffba2f2-4517-421e-943d-308a39a29c91')"
   ]
  },
  {
   "cell_type": "code",
   "execution_count": null,
   "id": "9bd07d2d",
   "metadata": {},
   "outputs": [],
   "source": [
    "hist=rep.history.all()"
   ]
  },
  {
   "cell_type": "code",
   "execution_count": null,
   "id": "c70409da",
   "metadata": {},
   "outputs": [],
   "source": [
    "hist[0].occurrence_type"
   ]
  },
  {
   "cell_type": "code",
   "execution_count": null,
   "id": "59790282",
   "metadata": {},
   "outputs": [],
   "source": [
    "rep.occurrence_type"
   ]
  },
  {
   "cell_type": "code",
   "execution_count": null,
   "id": "fc4f0257",
   "metadata": {},
   "outputs": [],
   "source": [
    "al=ActionLog.objects.filter(company__name='Neovia Cto Biguaçu')"
   ]
  },
  {
   "cell_type": "code",
   "execution_count": null,
   "id": "f45fd0ab",
   "metadata": {},
   "outputs": [],
   "source": [
    "for a in ActionLog.objects.filter(company__name='Neovia Cto Biguaçu'):\n",
    "    print(a)"
   ]
  },
  {
   "cell_type": "code",
   "execution_count": null,
   "id": "1264ae8a",
   "metadata": {},
   "outputs": [],
   "source": [
    "MobileSync.objects.filter(created_by__username='edgar.silva')"
   ]
  },
  {
   "cell_type": "code",
   "execution_count": null,
   "id": "bac0906e",
   "metadata": {},
   "outputs": [],
   "source": [
    "MobileSync._meta.fields"
   ]
  },
  {
   "cell_type": "code",
   "execution_count": null,
   "id": "5c20c456",
   "metadata": {},
   "outputs": [],
   "source": [
    "AccessRequest.objects.get(uuid='08de5d30-4df8-4de7-b590-8bdf01ad5f37').created_by"
   ]
  },
  {
   "cell_type": "code",
   "execution_count": null,
   "id": "16e22482",
   "metadata": {},
   "outputs": [],
   "source": [
    "Reporting.objects.filter(occurrence_type__name=\"Erro de marco quilométrico\", company__name__icontains='Modera')"
   ]
  },
  {
   "cell_type": "code",
   "execution_count": null,
   "id": "4d950955",
   "metadata": {},
   "outputs": [],
   "source": [
    "rep=Reporting.objects.get(uuid='9ffba2f2-4517-421e-943d-308a39a29c91')"
   ]
  },
  {
   "cell_type": "code",
   "execution_count": null,
   "id": "5618abe7",
   "metadata": {},
   "outputs": [],
   "source": [
    "rep.__dict__.keys()"
   ]
  },
  {
   "cell_type": "code",
   "execution_count": null,
   "id": "5eeb14ff",
   "metadata": {},
   "outputs": [],
   "source": [
    "duplicates = Road.objects.values('name').annotate(\n",
    "    count=Count('name')).filter(count__gt=1,\n",
    "    company__name='Modera - Consórcio ME2')\n",
    "duplicate_objects = Road.objects.filter(\n",
    "    name__in=[item['name'] for item in duplicates]\n",
    ").order_by('name')"
   ]
  },
  {
   "cell_type": "code",
   "execution_count": null,
   "id": "6fb2f1f7",
   "metadata": {},
   "outputs": [],
   "source": [
    "duplicate_objects"
   ]
  },
  {
   "cell_type": "code",
   "execution_count": null,
   "id": "9df592a2",
   "metadata": {},
   "outputs": [],
   "source": [
    "for a in duplicate_objects:\n",
    "    ini = list(a.marks)[0]\n",
    "    fim = list(a.marks)[-1]\n",
    "    print(f'id:{a.id}, name:{a.name}, km inicial:{a.marks[ini]}, km final:{a.marks[fim]},index:{a.all_marks_have_indexes}')"
   ]
  },
  {
   "cell_type": "code",
   "execution_count": null,
   "id": "5fad2f8f",
   "metadata": {},
   "outputs": [],
   "source": [
    "Reporting.objects.filter(company__name='Modera - Consórcio ME2',road_id=4025)"
   ]
  },
  {
   "cell_type": "code",
   "execution_count": null,
   "id": "7f744125",
   "metadata": {},
   "outputs": [],
   "source": [
    "duplicate_objects[1].__dict__"
   ]
  },
  {
   "cell_type": "code",
   "execution_count": null,
   "id": "a40e22eb",
   "metadata": {},
   "outputs": [],
   "source": [
    "for a in OccurrenceType.objects.filter(company__name='Rota do Oeste - Obras'):\n",
    "    for b in a.form_fields['fields']:\n",
    "        if 'massa' in b.get('displayName').lower():\n",
    "            print(a.name)"
   ]
  },
  {
   "cell_type": "code",
   "execution_count": null,
   "id": "b013f70f",
   "metadata": {},
   "outputs": [],
   "source": [
    "def get_summary_forum(wk_id):\n",
    "    url = f\"https://reports.api.clockify.me/v1/workspaces/{wk_id}/reports/summary\"\n",
    "    headers = {'X-Api-Key': API_key}\n",
    "    data = {\n",
    "        \"dateRangeStart\": \"2020-05-10T00:00:00\",\n",
    "        \"dateRangeEnd\": \"2022-07-10T23:59:59\",\n",
    "        \"summaryFilter\": {\n",
    "            \"groups\": [\"PROJECT\"],\n",
    "            \"sortColumn\": \"GROUP\"\n",
    "            },\n",
    "        \"exportType\": \"JSON\"\n",
    "        }\n",
    "\n",
    "    return requests.post(url, headers=headers, json=data).json()"
   ]
  },
  {
   "cell_type": "code",
   "execution_count": null,
   "id": "494f4d95",
   "metadata": {},
   "outputs": [],
   "source": [
    "get_summary_forum('6388be0aa581104ca1897b5c')"
   ]
  },
  {
   "cell_type": "code",
   "execution_count": null,
   "id": "07e9fd74",
   "metadata": {},
   "outputs": [],
   "source": [
    "\"ReportingAppConfig\": {\"can_edit\": true, \"can_view\": true, \"queryset\": \"all\", \"can_create\": true, \"can_delete\": true}"
   ]
  },
  {
   "cell_type": "code",
   "execution_count": null,
   "id": "fe7e2479",
   "metadata": {
    "scrolled": false
   },
   "outputs": [],
   "source": [
    "up=UserPermission.objects.filter(companies__active=True,name__in=['Suporte',\n",
    "                                                                  'Coordenador',\n",
    "                                                                  'HOMOLOGATOR',\n",
    "                                                                  'SUPORTE',\n",
    "                                                                  \"Administrador\",\n",
    "                                                                  'Sala técnica']).only('permissions')"
   ]
  },
  {
   "cell_type": "code",
   "execution_count": null,
   "id": "a3a3750e",
   "metadata": {},
   "outputs": [],
   "source": [
    "up[0].__dict__"
   ]
  },
  {
   "cell_type": "code",
   "execution_count": null,
   "id": "44e927fb",
   "metadata": {},
   "outputs": [],
   "source": [
    "from tqdm.notebook import tqdm\n",
    "for a in tqdm(up):\n",
    "    a.permissions['ReportingAppConfig'] = {\"can_edit\": True, \n",
    "                                           \"can_view\": True, \n",
    "                                           \"queryset\": \"all\", \n",
    "                                           \"can_create\": True, \n",
    "                                           \"can_delete\": False}\n",
    "    a.save()"
   ]
  },
  {
   "cell_type": "code",
   "execution_count": null,
   "id": "f493c99a",
   "metadata": {},
   "outputs": [],
   "source": [
    "from json_logic import jsonLogic"
   ]
  },
  {
   "cell_type": "code",
   "execution_count": null,
   "id": "e781dac0",
   "metadata": {},
   "outputs": [],
   "source": [
    "jsonLogic(logica,{'formData.service._index.length':10,'formData.service._index.width':2,'formData.service._index.servicetype':\"15\"})"
   ]
  },
  {
   "cell_type": "code",
   "execution_count": null,
   "id": "64695d13",
   "metadata": {},
   "outputs": [],
   "source": [
    "for a in Firm.objects.filter(company__name='Via Brasil',name='Aprovação de RDOS'):\n",
    "    for b in a.users.all():\n",
    "        uc=UserInCompany.objects.get(company__name='Via Brasil',user=b)\n",
    "        if uc.permissions.name == 'Usuário padrão':\n",
    "            uc.permissions = UserPermission.objects.get(name='Usuário padrão RDO',companies__name='Via Brasil')\n",
    "            uc.save()\n",
    "        print(uc.user.username,uc.permissions)"
   ]
  },
  {
   "cell_type": "code",
   "execution_count": null,
   "id": "96d76383",
   "metadata": {},
   "outputs": [],
   "source": [
    "a.users.all()[0]._meta.fields"
   ]
  },
  {
   "cell_type": "code",
   "execution_count": null,
   "id": "2b47d2c7",
   "metadata": {},
   "outputs": [],
   "source": [
    "rep=Reporting.objects.get(number='ENT-INS-2023.03101')\n",
    "rep.__dict__"
   ]
  },
  {
   "cell_type": "code",
   "execution_count": null,
   "id": "947cc05a",
   "metadata": {},
   "outputs": [],
   "source": [
    "for maini,a in enumerate(rep.form_data['therapy']):\n",
    "    for i,treat in enumerate(a['treatment_images']):\n",
    "        try:\n",
    "            rep_file=ReportingFile.objects.get(uuid=treat)\n",
    "        except:\n",
    "            print(treat)\n",
    "#             a['treatment_images']\n",
    "            print(rep.form_data['therapy'][maini]['treatment_images'][i])\n",
    "#             del rep.form_data['therapy'][maini]['treatment_images'][i]\n",
    "#             rep.save()\n",
    "#     rep.form_data['therapy']"
   ]
  },
  {
   "cell_type": "code",
   "execution_count": null,
   "id": "c39b246d",
   "metadata": {},
   "outputs": [],
   "source": [
    "company=Company.objects.get(name='Arteris Via Paulista')"
   ]
  },
  {
   "cell_type": "code",
   "execution_count": null,
   "id": "64da009e",
   "metadata": {},
   "outputs": [],
   "source": [
    "company"
   ]
  },
  {
   "cell_type": "code",
   "execution_count": null,
   "id": "3e4c7e2b",
   "metadata": {},
   "outputs": [],
   "source": [
    "reps_insp=Reporting.objects.filter(parent__isnull=True,company=company,occurrence_type__occurrence_kind='501')"
   ]
  },
  {
   "cell_type": "code",
   "execution_count": null,
   "id": "71c1bbe4",
   "metadata": {},
   "outputs": [],
   "source": [
    "reps_insp.count()"
   ]
  },
  {
   "cell_type": "code",
   "execution_count": null,
   "id": "07525f86",
   "metadata": {},
   "outputs": [],
   "source": [
    "reps_insp[0],"
   ]
  },
  {
   "cell_type": "code",
   "execution_count": null,
   "id": "39c91b1f",
   "metadata": {},
   "outputs": [],
   "source": [
    "reps_recup=Reporting.objects.filter(parent__isnull=False,company=company).exclude(occurrence_type__occurrence_kind='501')"
   ]
  },
  {
   "cell_type": "code",
   "execution_count": null,
   "id": "510f5570",
   "metadata": {},
   "outputs": [],
   "source": [
    "reps_recup.count(),reps_recup[0].parent"
   ]
  },
  {
   "cell_type": "code",
   "execution_count": null,
   "id": "a4a98d43",
   "metadata": {},
   "outputs": [],
   "source": [
    "Reporting.objects.filter(job__isnull=False,company=company,occurrence_type__occurrence_kind='2').count()"
   ]
  },
  {
   "cell_type": "code",
   "execution_count": null,
   "id": "088ff8d4",
   "metadata": {},
   "outputs": [],
   "source": [
    "ReportingFile.objects.filter(uuid__in=['ba7e9a21-1830-436d-9d98-b2d8ff14b63a'])"
   ]
  },
  {
   "cell_type": "code",
   "execution_count": null,
   "id": "63eccc04",
   "metadata": {},
   "outputs": [],
   "source": [
    "for a in Reporting.objects.filter(company__name='Modera - Consórcio ME2',occurrence_type__name=\"Local\"):\n",
    "    a.form_data['regCeo'] = a.form_data['diretoria regional']\n",
    "    del a.form_data['diretoria regional']\n",
    "    a.save()"
   ]
  },
  {
   "cell_type": "markdown",
   "id": "70842d85",
   "metadata": {},
   "source": [
    "# Alterar companyGroups"
   ]
  },
  {
   "cell_type": "code",
   "execution_count": null,
   "id": "04e8cb81",
   "metadata": {},
   "outputs": [],
   "source": [
    "from openpyxl import load_workbook\n",
    "from tqdm.notebook import tqdm"
   ]
  },
  {
   "cell_type": "code",
   "execution_count": null,
   "id": "b7a51f69",
   "metadata": {},
   "outputs": [],
   "source": [
    "filename = \"Unidades ativas Kartado Geral (2).xlsx\"\n",
    "wb = load_workbook(filename)\n",
    "ws = wb[wb.sheetnames[2]]\n",
    "ws"
   ]
  },
  {
   "cell_type": "code",
   "execution_count": null,
   "id": "5416b8dc",
   "metadata": {},
   "outputs": [],
   "source": [
    "header = []\n",
    "values = []\n",
    "\n",
    "for index, row in enumerate(ws.rows):\n",
    "    if index == 0:\n",
    "        header = list([a.value for a in row])\n",
    "        continue\n",
    "    obj = {}\n",
    "    for col_index, cell in enumerate(row):\n",
    "        value = cell.value\n",
    "        obj[header[col_index]] = value\n",
    "    values.append(obj)\n",
    "values[0]"
   ]
  },
  {
   "cell_type": "code",
   "execution_count": null,
   "id": "ce3ddef7",
   "metadata": {},
   "outputs": [],
   "source": [
    "for a in values:\n",
    "    a['Unidades:'] = a['Unidades:'].split('|  [')[0].strip()\n",
    "    a['Grupo anterior'] = a['Grupo anterior'].strip()\n",
    "    a['Grupo correto:'] = a['Grupo correto:'].strip()"
   ]
  },
  {
   "cell_type": "code",
   "execution_count": null,
   "id": "5c944807",
   "metadata": {},
   "outputs": [],
   "source": [
    "values[0]"
   ]
  },
  {
   "cell_type": "code",
   "execution_count": null,
   "id": "bb476509",
   "metadata": {},
   "outputs": [],
   "source": [
    "user=User.objects.get(username='rlcs')"
   ]
  },
  {
   "cell_type": "code",
   "execution_count": null,
   "id": "dbdd88fe",
   "metadata": {},
   "outputs": [],
   "source": [
    "for a in tqdm(values):\n",
    "    try:\n",
    "        \n",
    "        company=Company.objects.get(name__exact=a['Unidades:'])\n",
    "        company_group = CompanyGroup.objects.get(name=a['Grupo anterior'])\n",
    "        company_group_new = CompanyGroup.objects.filter(name=a['Grupo correto:'])\n",
    "        if company_group.name == a['Grupo correto:']:\n",
    "            continue\n",
    "        elif company_group_new.exists():\n",
    "            company.company_group = company_group_new.first()\n",
    "            company.save()\n",
    "            us=list(UserInCompany.objects.filter(company=company).values_list('user__uuid',flat=True))\n",
    "            User.objects.filter(uuid__in=us).update(company_group=company_group_new.first())\n",
    "        elif not company_group_new.exists():\n",
    "            cg=CompanyGroup(name=a['Grupo correto:'],key_user=user,mobile_app='road')\n",
    "            cg.save()\n",
    "            company.company_group = cg\n",
    "            us=list(UserInCompany.objects.filter(company=company).values_list('user__uuid',flat=True))\n",
    "            User.objects.filter(uuid__in=us).update(company_group=cg)\n",
    "        company.save()\n",
    "            \n",
    "    except Exception as e:\n",
    "        print(a['Unidades:'],e)"
   ]
  },
  {
   "cell_type": "code",
   "execution_count": null,
   "id": "dffe6de6",
   "metadata": {},
   "outputs": [],
   "source": [
    "CompanyGroup._meta.fields"
   ]
  },
  {
   "cell_type": "code",
   "execution_count": null,
   "id": "597b9dcd",
   "metadata": {},
   "outputs": [],
   "source": []
  },
  {
   "cell_type": "code",
   "execution_count": null,
   "id": "8bd8cb7b",
   "metadata": {},
   "outputs": [],
   "source": [
    "UserInCompany._meta.fields"
   ]
  },
  {
   "cell_type": "code",
   "execution_count": null,
   "id": "dd624407",
   "metadata": {},
   "outputs": [],
   "source": [
    "Company.objects.filter(company_group__name='Pavicolet')"
   ]
  },
  {
   "cell_type": "code",
   "execution_count": null,
   "id": "c63a7c74",
   "metadata": {},
   "outputs": [],
   "source": [
    "UserInCompany.objects.filter(user__company_group__name='Pavicolet')"
   ]
  },
  {
   "cell_type": "code",
   "execution_count": null,
   "id": "b0ff2094",
   "metadata": {},
   "outputs": [],
   "source": [
    "for a in OccurrenceType.objects.filter(company__name='Rota do Oeste'):\n",
    "    try:\n",
    "        a.form_fields['measurementColumns'].insert(0,{\n",
    "          \"key\": \"dueAt\",\n",
    "          \"width\": 15,\n",
    "          \"header\": \"Prazo\",\n",
    "          \"logic\": {\"var\": \"dueAt\"},\n",
    "          \"isDate\":True\n",
    "    })\n",
    "        a.save()\n",
    "    except Exception as e:\n",
    "        print(a.name,e)"
   ]
  },
  {
   "cell_type": "code",
   "execution_count": null,
   "id": "b6379315",
   "metadata": {},
   "outputs": [],
   "source": [
    "a.form_fields['measurementColumns']"
   ]
  },
  {
   "cell_type": "code",
   "execution_count": null,
   "id": "6f859176",
   "metadata": {},
   "outputs": [],
   "source": [
    "roads = Road.objects.filter(company__name=\"Minasul\")"
   ]
  },
  {
   "cell_type": "code",
   "execution_count": null,
   "id": "eb74eaf9",
   "metadata": {},
   "outputs": [],
   "source": [
    "for a in roads:\n",
    "#     print(a.name)\n",
    "    historic = a.history.filter(name='Obra Biguaçu')\n",
    "    if historic.exists():\n",
    "        print(a.name,a.id,a.lot_logic)"
   ]
  },
  {
   "cell_type": "code",
   "execution_count": null,
   "id": "d13c6b24",
   "metadata": {},
   "outputs": [],
   "source": [
    "rep=Reporting.objects.get(number='minasul-Remo-2023.00011')"
   ]
  },
  {
   "cell_type": "code",
   "execution_count": null,
   "id": "6a042be7",
   "metadata": {},
   "outputs": [],
   "source": [
    "for a in rep.history.all():\n",
    "    print(a.road,a.road_name,a.lot,a.history_user,a.km)"
   ]
  },
  {
   "cell_type": "code",
   "execution_count": null,
   "id": "be839afc",
   "metadata": {},
   "outputs": [],
   "source": [
    "rep.road_name = 'BR-277'\n",
    "rep.save()"
   ]
  },
  {
   "cell_type": "code",
   "execution_count": null,
   "id": "15093b44",
   "metadata": {},
   "outputs": [],
   "source": [
    "from openpyxl import load_workbook\n",
    "from tqdm.notebook import tqdm\n",
    "from helpers.signals import DisableSignals"
   ]
  },
  {
   "cell_type": "code",
   "execution_count": null,
   "id": "05d03cf8",
   "metadata": {},
   "outputs": [],
   "source": [
    "filename = \"cart_seila.xlsx\"\n",
    "wb = load_workbook(filename)\n",
    "ws = wb[wb.sheetnames[0]]\n",
    "ws"
   ]
  },
  {
   "cell_type": "code",
   "execution_count": null,
   "id": "d5d98793",
   "metadata": {},
   "outputs": [],
   "source": [
    "header = []\n",
    "values = []\n",
    "\n",
    "for index, row in enumerate(ws.rows):\n",
    "    if index == 0:\n",
    "        header = list([a.value for a in row])\n",
    "        continue\n",
    "    obj = {}\n",
    "    for col_index, cell in enumerate(row):\n",
    "        value = cell.value\n",
    "        obj[header[col_index]] = value\n",
    "    values.append(obj)\n",
    "values[0]"
   ]
  },
  {
   "cell_type": "code",
   "execution_count": null,
   "id": "8aa64b98",
   "metadata": {},
   "outputs": [],
   "source": [
    "company = Company.objects.get(name=\"CART\")\n",
    "service = ServiceOrderActionStatus.objects.get(companies=company,name=\"Cancelado\")\n",
    "user=User.objects.get(username='rlcs')\n",
    "service"
   ]
  },
  {
   "cell_type": "code",
   "execution_count": null,
   "id": "4a37fc7e",
   "metadata": {},
   "outputs": [],
   "source": [
    "rep_edit=[]\n",
    "for a in tqdm(values):\n",
    "    rep = Reporting.objects.get(company=company,number=a['SERIAL'])\n",
    "    rep.status = service\n",
    "    rep_edit.append(rep)\n",
    "#     with DisableSignals():\n",
    "#         rep.save()"
   ]
  },
  {
   "cell_type": "code",
   "execution_count": null,
   "id": "fcd11f0a",
   "metadata": {},
   "outputs": [],
   "source": [
    "from helpers.histories import bulk_update_with_history\n",
    "\n",
    "apontamentos = bulk_update_with_history(rep_edit,Reporting, use_django_bulk=True,batch_size=800,user=user)"
   ]
  },
  {
   "cell_type": "code",
   "execution_count": null,
   "id": "6c36dd6a",
   "metadata": {},
   "outputs": [],
   "source": [
    "lista=[\"EIXO-RDO-2024.00137\",\n",
    "\"EIXO-RDO-2023.39478\",\n",
    "\"EIXO-RDO-2023.39363\",\n",
    "\"EIXO-RDO-2023.39230\",\n",
    "\"EIXO-RDO-2023.39068\",\n",
    "\"EIXO-RDO-2023.38954\",\n",
    "\"EIXO-RDO-2023.38779\",\n",
    "\"EIXO-RDO-2023.38664\",\n",
    "\"EIXO-RDO-2023.38503\",\n",
    "\"EIXO-RDO-2023.38370\",\n",
    "\"EIXO-RDO-2023.38043\",\n",
    "\"EIXO-RDO-2023.37867\",\n",
    "\"EIXO-RDO-2023.37773\",\n",
    "\"EIXO-RDO-2023.37605\",\n",
    "\"EIXO-RDO-2023.37396\",\n",
    "\"EIXO-RDO-2023.37295\",\n",
    "\"EIXO-RDO-2023.37158\",\n",
    "\"EIXO-RDO-2023.37064\",\n",
    "\"EIXO-RDO-2023.36934\",\n",
    "\"EIXO-RDO-2023.36724\",\n",
    "\"EIXO-RDO-2023.36566\",\n",
    "\"EIXO-RDO-2023.36399\",\n",
    "\"EIXO-RDO-2023.36332\",\n",
    "\"EIXO-RDO-2023.36052\",\n",
    "\"EIXO-RDO-2023.36050\",\n",
    "\"EIXO-RDO-2023.35597\",\n",
    "\"EIXO-RDO-2023.35545\",]\n",
    "len(lista)"
   ]
  },
  {
   "cell_type": "code",
   "execution_count": null,
   "id": "fc198c35",
   "metadata": {},
   "outputs": [],
   "source": [
    "company=Company.objects.get(name=\"Eixo SP\")\n",
    "company"
   ]
  },
  {
   "cell_type": "code",
   "execution_count": null,
   "id": "8e14ae0c",
   "metadata": {},
   "outputs": [],
   "source": [
    "rdos = MultipleDailyReport.objects.filter(number__in=lista,company=company)\n",
    "firm = Firm.objects.get(name='SPD-DRENAGEM PROF',company=company)\n",
    "rdos.count(),firm"
   ]
  },
  {
   "cell_type": "code",
   "execution_count": null,
   "id": "474ce1d0",
   "metadata": {},
   "outputs": [],
   "source": [
    "for a in tqdm(rdos):\n",
    "    rdo_antigo = MultipleDailyReport.objects.filter(company=company,firm=firm,date=a.date)\n",
    "    if rdo_antigo.exists():\n",
    "        rdo = rdo_antigo.first()\n",
    "        print(rdo.number,rdo.date)\n",
    "    else:\n",
    "        a.firm = firm\n",
    "        a.save()"
   ]
  },
  {
   "cell_type": "code",
   "execution_count": null,
   "id": "68abeb15",
   "metadata": {},
   "outputs": [],
   "source": [
    "rdo = MultipleDailyReport.objects.get(number='RDO-DEF-2023.00096')\n",
    "rdo"
   ]
  },
  {
   "cell_type": "code",
   "execution_count": null,
   "id": "0f6f2ed4",
   "metadata": {},
   "outputs": [],
   "source": [
    "Reporting.objects.get(number='ROO-DEF-2023.00096')"
   ]
  },
  {
   "cell_type": "code",
   "execution_count": null,
   "id": "cbe582d4",
   "metadata": {},
   "outputs": [],
   "source": [
    "for a in Reporting.objects.filter(company__name='Rota do Oeste - Obras',occurrence_type__isnull=True):\n",
    "    print(a.number)"
   ]
  },
  {
   "cell_type": "code",
   "execution_count": null,
   "id": "05a78146",
   "metadata": {},
   "outputs": [],
   "source": [
    "lista=['ROO-DRE-2023.00002',\n",
    "'ROO-E-2023.00001',\n",
    "'ROO-DRE-2023.00003',\n",
    "'ROO-DRES-2023.00003',\n",
    "'ROO-RE-2023.00001',\n",
    "'ROO-DIS-2023.00001',\n",
    "'ROO-DRES-2023.00002']\n",
    "len(lista)"
   ]
  },
  {
   "cell_type": "code",
   "execution_count": null,
   "id": "af009cd3",
   "metadata": {},
   "outputs": [],
   "source": [
    "Reporting.objects.filter(company__name='Rota do Oeste - Obras',number__in=lista).delete()"
   ]
  },
  {
   "cell_type": "code",
   "execution_count": null,
   "id": "a1f425ea",
   "metadata": {},
   "outputs": [],
   "source": [
    "from tqdm.notebook import tqdm\n",
    "counter=0\n",
    "for a in tqdm(ReportingFile.objects.filter(reporting__company__name='Neovia Araranguá')):\n",
    "    try:\n",
    "        a.upload.url\n",
    "        counter+=1\n",
    "    except:\n",
    "        print(a.reporting)\n",
    "counter"
   ]
  },
  {
   "cell_type": "code",
   "execution_count": 2,
   "id": "b7b937a9",
   "metadata": {},
   "outputs": [
    {
     "data": {
      "text/plain": [
       "['Planilha1']"
      ]
     },
     "execution_count": 2,
     "metadata": {},
     "output_type": "execute_result"
    }
   ],
   "source": [
    "wb.sheetnames"
   ]
  },
  {
   "cell_type": "code",
   "execution_count": 1,
   "id": "14a2761c",
   "metadata": {},
   "outputs": [
    {
     "data": {
      "text/plain": [
       "<Worksheet \"Planilha1\">"
      ]
     },
     "execution_count": 1,
     "metadata": {},
     "output_type": "execute_result"
    }
   ],
   "source": [
    "from openpyxl import load_workbook\n",
    "filename = \"NPS.xlsx\"\n",
    "wb = load_workbook(filename)\n",
    "ws = wb[wb.sheetnames[0]]\n",
    "ws"
   ]
  },
  {
   "cell_type": "code",
   "execution_count": null,
   "id": "a451e162",
   "metadata": {},
   "outputs": [],
   "source": [
    "header = []\n",
    "values = []\n",
    "\n",
    "for index, row in enumerate(ws.rows):\n",
    "    if index == 0:\n",
    "        header = list([a.value for a in row])\n",
    "        continue\n",
    "    obj = {}\n",
    "    for col_index, cell in enumerate(row):\n",
    "        value = cell.value\n",
    "        obj[header[col_index]] = value\n",
    "    values.append(obj)\n",
    "values[0]"
   ]
  },
  {
   "cell_type": "code",
   "execution_count": null,
   "id": "70cecb3c",
   "metadata": {},
   "outputs": [],
   "source": [
    "# email e empresa\n",
    "for a in values:\n",
    "    try:\n",
    "        user = User.objects.get(uuid=a['user.userId'])\n",
    "        empresa = UserInFirm.objects.filter(user=user).values('firm__subcompany__name')\n",
    "        if empresa.exists():\n",
    "            empresa=empresa.first()\n",
    "            a['email']=user.email\n",
    "            a['Empresa Terceira'] = empresa['firm__subcompany__name']\n",
    "    except Exception as e:\n",
    "        print(e)"
   ]
  },
  {
   "cell_type": "code",
   "execution_count": null,
   "id": "5eab93d1",
   "metadata": {},
   "outputs": [],
   "source": [
    "import pandas as pd\n",
    "df = pd.DataFrame(data=values)\n",
    "df"
   ]
  },
  {
   "cell_type": "code",
   "execution_count": null,
   "id": "291397c4",
   "metadata": {},
   "outputs": [],
   "source": [
    "df.to_excel('NPS Email Terceiros.xlsx')"
   ]
  },
  {
   "cell_type": "markdown",
   "id": "fc2a82bf",
   "metadata": {},
   "source": [
    "# Desmembrar Permissões"
   ]
  },
  {
   "cell_type": "code",
   "execution_count": null,
   "id": "bbd15ab6",
   "metadata": {},
   "outputs": [],
   "source": [
    "from copy import deepcopy\n",
    "from tqdm.notebook import tqdm"
   ]
  },
  {
   "cell_type": "code",
   "execution_count": null,
   "id": "232296f5",
   "metadata": {},
   "outputs": [],
   "source": [
    "company=Company.objects.get(name='ELO Ecovias dos Imigrantes')\n",
    "perm_ecovias = UserPermission.objects.filter(companies__name__startswith='ELO').exclude(companies=company)\n",
    "perm_ecovias.count(),company"
   ]
  },
  {
   "cell_type": "code",
   "execution_count": null,
   "id": "8dff26e9",
   "metadata": {},
   "outputs": [],
   "source": [
    "# criar uma nova permissão, \n",
    "# depois setar a empresa na permissão\n",
    "# atualizar os usuários com essa nova permissão\n",
    "# remover a unidade desmembrada\n",
    "a_inserir=[]\n",
    "for a in tqdm(perm_ecovias):\n",
    "    perm_nova = deepcopy(a)\n",
    "    perm_nova.uuid=None\n",
    "    perm_nova.save()\n",
    "#     perm_nova.companies.set(company)\n",
    "    uic=UserInCompany.objects.filter(company=company,permissions__name=a.name).update(permissions=perm_nova)\n",
    "    a.companies.remove(company)\n",
    "    a_inserir.append(perm_nova)"
   ]
  },
  {
   "cell_type": "code",
   "execution_count": null,
   "id": "2982ea5d",
   "metadata": {},
   "outputs": [],
   "source": [
    "for c in tqdm(a_inserir):\n",
    "    c.companies.set(company)"
   ]
  },
  {
   "cell_type": "code",
   "execution_count": null,
   "id": "8133a425",
   "metadata": {},
   "outputs": [],
   "source": [
    "for a in UserInCompany.objects.filter(company=company):\n",
    "    print(a.permissions)"
   ]
  },
  {
   "cell_type": "code",
   "execution_count": 10,
   "id": "f04000f5",
   "metadata": {},
   "outputs": [],
   "source": [
    "from json_logic import jsonLogic\n",
    "\n",
    "# jsonLogic(json_final,{'km':681,'roadName':'BR-381/MG'})"
   ]
  },
  {
   "cell_type": "code",
   "execution_count": 26,
   "id": "b668208d",
   "metadata": {},
   "outputs": [
    {
     "data": {
      "text/plain": [
       "421"
      ]
     },
     "execution_count": 26,
     "metadata": {},
     "output_type": "execute_result"
    }
   ],
   "source": [
    "reps=Reporting.objects.filter(company__name='Eixo SP',road__isnull=True)\n",
    "reps.count()"
   ]
  },
  {
   "cell_type": "code",
   "execution_count": 27,
   "id": "6df290ae",
   "metadata": {},
   "outputs": [],
   "source": [
    "road = Road.objects.get(company__name='Eixo SP',name=reps[0].road_name)"
   ]
  },
  {
   "cell_type": "code",
   "execution_count": 28,
   "id": "32da589e",
   "metadata": {},
   "outputs": [
    {
     "data": {
      "text/plain": [
       "<Road: 504: SPA-360/294>"
      ]
     },
     "execution_count": 28,
     "metadata": {},
     "output_type": "execute_result"
    }
   ],
   "source": [
    "road"
   ]
  },
  {
   "cell_type": "code",
   "execution_count": 29,
   "id": "437244c6",
   "metadata": {},
   "outputs": [
    {
     "data": {
      "text/plain": [
       "True"
      ]
     },
     "execution_count": 29,
     "metadata": {},
     "output_type": "execute_result"
    }
   ],
   "source": [
    "jsonLogic(road.lot_logic,{'km':0.01,'roadName':'SPA-360/294'}) == None"
   ]
  },
  {
   "cell_type": "code",
   "execution_count": 31,
   "id": "eb819e93",
   "metadata": {},
   "outputs": [
    {
     "data": {
      "text/plain": [
       "0.0"
      ]
     },
     "execution_count": 31,
     "metadata": {},
     "output_type": "execute_result"
    }
   ],
   "source": [
    "reps[0].point.y"
   ]
  },
  {
   "cell_type": "code",
   "execution_count": 40,
   "id": "ce57ab5a",
   "metadata": {},
   "outputs": [],
   "source": [
    "data=[]\n",
    "for a in reps:\n",
    "    road = Road.objects.filter(company__name='Eixo SP',name=a.road_name).first()\n",
    "    if road == None:\n",
    "        data.append({'Serial':a.number,\"Rodovia\":a.road_name,\"Km inicial\":a.km,\"Km Final\":a.end_km,\n",
    "                     \"X\":a.point.x if a.point is not None else 'None',\"Y\":a.point.y if a.point is not None else 'None',\n",
    "                     \"Is Road None\":\"Sim\"})\n",
    "    elif jsonLogic(road.lot_logic,{'km':a.km,'roadName':a.road_name}) == None:\n",
    "        data.append({'Serial':a.number,\"Rodovia\":a.road_name,\"Km inicial\":a.km,\"Km Final\":a.end_km,\n",
    "                     \"X\":a.point.x if a.point is not None else 'None',\"Y\":a.point.y if a.point is not None else 'None',\n",
    "                     \"Is Road None\":\"Não\"})"
   ]
  },
  {
   "cell_type": "code",
   "execution_count": 41,
   "id": "001424b5",
   "metadata": {
    "collapsed": true
   },
   "outputs": [
    {
     "data": {
      "text/plain": [
       "[{'Serial': 'EIXO-default-2022.19125',\n",
       "  'Rodovia': 'SPA-585/294',\n",
       "  'Km inicial': 0.29,\n",
       "  'Km Final': 0.289,\n",
       "  'X': 0.0,\n",
       "  'Y': 0.0,\n",
       "  'Is Road None': 'Não'},\n",
       " {'Serial': 'EIXO-LV-2020.13390',\n",
       "  'Rodovia': 'SP-225',\n",
       "  'Km inicial': 920.0,\n",
       "  'Km Final': 106.0,\n",
       "  'X': 0.0,\n",
       "  'Y': 0.0,\n",
       "  'Is Road None': 'Não'},\n",
       " {'Serial': 'EIXO-DRE-2020.00990',\n",
       "  'Rodovia': 'SPA-228/225',\n",
       "  'Km inicial': 1440.0,\n",
       "  'Km Final': 1440.0,\n",
       "  'X': 0.0,\n",
       "  'Y': 0.0,\n",
       "  'Is Road None': 'Não'},\n",
       " {'Serial': 'EIXO-LV-2021.06033',\n",
       "  'Rodovia': 'SPA-005/197',\n",
       "  'Km inicial': 7.12,\n",
       "  'Km Final': 7.12,\n",
       "  'X': 0.0,\n",
       "  'Y': 0.0,\n",
       "  'Is Road None': 'Não'},\n",
       " {'Serial': 'EIXO-LV-2021.06034',\n",
       "  'Rodovia': 'SPA-005/197',\n",
       "  'Km inicial': 9.17,\n",
       "  'Km Final': 9.17,\n",
       "  'X': 0.0,\n",
       "  'Y': 0.0,\n",
       "  'Is Road None': 'Não'},\n",
       " {'Serial': 'EIXO-LV-2021.06035',\n",
       "  'Rodovia': 'SPA-005/197',\n",
       "  'Km inicial': 9.17,\n",
       "  'Km Final': 9.17,\n",
       "  'X': 0.0,\n",
       "  'Y': 0.0,\n",
       "  'Is Road None': 'Não'},\n",
       " {'Serial': 'EIXO-LV-2021.06036',\n",
       "  'Rodovia': 'SPA-005/197',\n",
       "  'Km inicial': 11.09,\n",
       "  'Km Final': 11.09,\n",
       "  'X': 0.0,\n",
       "  'Y': 0.0,\n",
       "  'Is Road None': 'Não'},\n",
       " {'Serial': 'EIXO-LV-2021.06037',\n",
       "  'Rodovia': 'SPA-005/197',\n",
       "  'Km inicial': 11.09,\n",
       "  'Km Final': 11.09,\n",
       "  'X': 0.0,\n",
       "  'Y': 0.0,\n",
       "  'Is Road None': 'Não'},\n",
       " {'Serial': 'EIXO-LV-2021.06038',\n",
       "  'Rodovia': 'SPA-005/197',\n",
       "  'Km inicial': 11.665,\n",
       "  'Km Final': 11.665,\n",
       "  'X': 0.0,\n",
       "  'Y': 0.0,\n",
       "  'Is Road None': 'Não'},\n",
       " {'Serial': 'EIXO-LV-2021.06039',\n",
       "  'Rodovia': 'SPA-005/197',\n",
       "  'Km inicial': 15.5,\n",
       "  'Km Final': 15.5,\n",
       "  'X': 0.0,\n",
       "  'Y': 0.0,\n",
       "  'Is Road None': 'Não'},\n",
       " {'Serial': 'EIXO-LV-2021.06040',\n",
       "  'Rodovia': 'SPA-005/197',\n",
       "  'Km inicial': 15.63,\n",
       "  'Km Final': 15.63,\n",
       "  'X': 0.0,\n",
       "  'Y': 0.0,\n",
       "  'Is Road None': 'Não'},\n",
       " {'Serial': 'EIXO-default-2022.09343',\n",
       "  'Rodovia': 'SPA-198/304',\n",
       "  'Km inicial': 2.0,\n",
       "  'Km Final': 3.0,\n",
       "  'X': 0.0,\n",
       "  'Y': 0.0,\n",
       "  'Is Road None': 'Não'},\n",
       " {'Serial': 'EIXO-default-2022.20328',\n",
       "  'Rodovia': 'SP000',\n",
       "  'Km inicial': 0.0,\n",
       "  'Km Final': 0.0,\n",
       "  'X': 0.0,\n",
       "  'Y': 0.0,\n",
       "  'Is Road None': 'Sim'},\n",
       " {'Serial': 'EIXO-default-2021.42124',\n",
       "  'Rodovia': 'SPA-223/304',\n",
       "  'Km inicial': 2.5,\n",
       "  'Km Final': 2.5,\n",
       "  'X': 0.0,\n",
       "  'Y': 0.0,\n",
       "  'Is Road None': 'Não'},\n",
       " {'Serial': 'EIXO-DRE-2020.03337',\n",
       "  'Rodovia': 'SPA-228/225',\n",
       "  'Km inicial': 166.0,\n",
       "  'Km Final': 166.0,\n",
       "  'X': 0.0,\n",
       "  'Y': 0.0,\n",
       "  'Is Road None': 'Não'},\n",
       " {'Serial': 'EIXO-default-2022.06598',\n",
       "  'Rodovia': 'SPA-431/425',\n",
       "  'Km inicial': 15.0,\n",
       "  'Km Final': 15.0,\n",
       "  'X': 0.0,\n",
       "  'Y': 0.0,\n",
       "  'Is Road None': 'Não'},\n",
       " {'Serial': 'EIXO-DRE-2021.09509',\n",
       "  'Rodovia': 'SPA-017/293',\n",
       "  'Km inicial': 0.81,\n",
       "  'Km Final': 0.81,\n",
       "  'X': 0.0,\n",
       "  'Y': 0.0,\n",
       "  'Is Road None': 'Não'},\n",
       " {'Serial': 'EIXO-IT-2023.45178',\n",
       "  'Rodovia': 'SP-308',\n",
       "  'Km inicial': 194.5,\n",
       "  'Km Final': 194.5,\n",
       "  'X': 0.0,\n",
       "  'Y': 0.0,\n",
       "  'Is Road None': 'Não'},\n",
       " {'Serial': 'EIXO-LV-2021.04487',\n",
       "  'Rodovia': 'SPA-431/425',\n",
       "  'Km inicial': 15.085,\n",
       "  'Km Final': 15.085,\n",
       "  'X': 0.0,\n",
       "  'Y': 0.0,\n",
       "  'Is Road None': 'Não'},\n",
       " {'Serial': 'EIXO-IT-2023.45341',\n",
       "  'Rodovia': 'SP-308',\n",
       "  'Km inicial': 194.5,\n",
       "  'Km Final': 194.5,\n",
       "  'X': 0.0,\n",
       "  'Y': 0.0,\n",
       "  'Is Road None': 'Não'},\n",
       " {'Serial': 'EIXO-IT-2023.45342',\n",
       "  'Rodovia': 'SP-308',\n",
       "  'Km inicial': 194.5,\n",
       "  'Km Final': 194.5,\n",
       "  'X': 0.0,\n",
       "  'Y': 0.0,\n",
       "  'Is Road None': 'Não'},\n",
       " {'Serial': 'EIXO-IT-2023.45343',\n",
       "  'Rodovia': 'SP-308',\n",
       "  'Km inicial': 194.5,\n",
       "  'Km Final': 194.5,\n",
       "  'X': 0.0,\n",
       "  'Y': 0.0,\n",
       "  'Is Road None': 'Não'},\n",
       " {'Serial': 'EIXO-default-2022.08330',\n",
       "  'Rodovia': 'SPA-196/331',\n",
       "  'Km inicial': 5.95,\n",
       "  'Km Final': 5.95,\n",
       "  'X': 0.0,\n",
       "  'Y': 0.0,\n",
       "  'Is Road None': 'Não'},\n",
       " {'Serial': 'EIXO-default-2021.39346',\n",
       "  'Rodovia': 'SPA-498/294',\n",
       "  'Km inicial': 0.6,\n",
       "  'Km Final': 0.6,\n",
       "  'X': 0.0,\n",
       "  'Y': 0.0,\n",
       "  'Is Road None': 'Não'},\n",
       " {'Serial': 'EIXO-DRE-2020.04950',\n",
       "  'Rodovia': 'SPA-196/331',\n",
       "  'Km inicial': 6.0,\n",
       "  'Km Final': 6.0,\n",
       "  'X': 0.0,\n",
       "  'Y': 0.0,\n",
       "  'Is Road None': 'Não'},\n",
       " {'Serial': 'EIXO-DRE-2021.09253',\n",
       "  'Rodovia': 'SPA-570/294',\n",
       "  'Km inicial': 16.9,\n",
       "  'Km Final': 16.9,\n",
       "  'X': 0.0,\n",
       "  'Y': 0.0,\n",
       "  'Is Road None': 'Não'},\n",
       " {'Serial': 'EIXO-IT-2023.45550',\n",
       "  'Rodovia': 'SP-308',\n",
       "  'Km inicial': 194.4,\n",
       "  'Km Final': 194.4,\n",
       "  'X': 0.0,\n",
       "  'Y': 0.0,\n",
       "  'Is Road None': 'Não'},\n",
       " {'Serial': 'EIXO-default-2022.34758',\n",
       "  'Rodovia': 'SPA-431/425',\n",
       "  'Km inicial': 12600.0,\n",
       "  'Km Final': 12600.0,\n",
       "  'X': 0.0,\n",
       "  'Y': 0.0,\n",
       "  'Is Road None': 'Não'},\n",
       " {'Serial': 'EIXO-default-2022.34759',\n",
       "  'Rodovia': 'SPA-431/425',\n",
       "  'Km inicial': 12000.0,\n",
       "  'Km Final': 12000.0,\n",
       "  'X': 0.0,\n",
       "  'Y': 0.0,\n",
       "  'Is Road None': 'Não'},\n",
       " {'Serial': 'EIXO-LV-2021.04534',\n",
       "  'Rodovia': 'SPA-617/294',\n",
       "  'Km inicial': 0.168,\n",
       "  'Km Final': 0.168,\n",
       "  'X': 0.0,\n",
       "  'Y': 0.0,\n",
       "  'Is Road None': 'Não'},\n",
       " {'Serial': 'EIXO-default-2022.14575',\n",
       "  'Rodovia': 'SP-225',\n",
       "  'Km inicial': 235.3,\n",
       "  'Km Final': 235.3,\n",
       "  'X': 0.0,\n",
       "  'Y': 0.0,\n",
       "  'Is Road None': 'Não'},\n",
       " {'Serial': 'EIXO-IT-2023.45551',\n",
       "  'Rodovia': 'SP-308',\n",
       "  'Km inicial': 194.5,\n",
       "  'Km Final': 194.5,\n",
       "  'X': 0.0,\n",
       "  'Y': 0.0,\n",
       "  'Is Road None': 'Não'},\n",
       " {'Serial': 'EIXO-PAV-2020.07034',\n",
       "  'Rodovia': 'SP-304',\n",
       "  'Km inicial': 139.074,\n",
       "  'Km Final': 139.074,\n",
       "  'X': 0.0,\n",
       "  'Y': 0.0,\n",
       "  'Is Road None': 'Não'},\n",
       " {'Serial': 'EIXO-LV-2020.14260',\n",
       "  'Rodovia': 'SP-225',\n",
       "  'Km inicial': 237.65,\n",
       "  'Km Final': 237.65,\n",
       "  'X': 0.0,\n",
       "  'Y': 0.0,\n",
       "  'Is Road None': 'Não'},\n",
       " {'Serial': 'EIXO-default-2022.14565',\n",
       "  'Rodovia': 'SP-225',\n",
       "  'Km inicial': 235.3,\n",
       "  'Km Final': 235.3,\n",
       "  'X': 0.0,\n",
       "  'Y': 0.0,\n",
       "  'Is Road None': 'Não'},\n",
       " {'Serial': 'EIXO-default-2022.14574',\n",
       "  'Rodovia': 'SP-225',\n",
       "  'Km inicial': 235.3,\n",
       "  'Km Final': 235.3,\n",
       "  'X': 0.0,\n",
       "  'Y': 0.0,\n",
       "  'Is Road None': 'Não'},\n",
       " {'Serial': 'EIXO-default-2022.14578',\n",
       "  'Rodovia': 'SP-225',\n",
       "  'Km inicial': 235.3,\n",
       "  'Km Final': 235.3,\n",
       "  'X': 0.0,\n",
       "  'Y': 0.0,\n",
       "  'Is Road None': 'Não'},\n",
       " {'Serial': 'EIXO-default-2022.14576',\n",
       "  'Rodovia': 'SP-225',\n",
       "  'Km inicial': 235.3,\n",
       "  'Km Final': 235.3,\n",
       "  'X': 0.0,\n",
       "  'Y': 0.0,\n",
       "  'Is Road None': 'Não'},\n",
       " {'Serial': 'EIXO-PAV-2021.00662',\n",
       "  'Rodovia': 'SPA-571/294',\n",
       "  'Km inicial': 16.0,\n",
       "  'Km Final': 16.0,\n",
       "  'X': 0.0,\n",
       "  'Y': 0.0,\n",
       "  'Is Road None': 'Não'},\n",
       " {'Serial': 'EIXO-default-2022.14564',\n",
       "  'Rodovia': 'SP-225',\n",
       "  'Km inicial': 235.3,\n",
       "  'Km Final': 235.3,\n",
       "  'X': 0.0,\n",
       "  'Y': 0.0,\n",
       "  'Is Road None': 'Não'},\n",
       " {'Serial': 'EIXO-default-2022.14567',\n",
       "  'Rodovia': 'SP-225',\n",
       "  'Km inicial': 235.3,\n",
       "  'Km Final': 235.3,\n",
       "  'X': 0.0,\n",
       "  'Y': 0.0,\n",
       "  'Is Road None': 'Não'},\n",
       " {'Serial': 'EIXO-PAV-2020.07035',\n",
       "  'Rodovia': 'SP-304',\n",
       "  'Km inicial': 139.163,\n",
       "  'Km Final': 139.163,\n",
       "  'X': 0.0,\n",
       "  'Y': 0.0,\n",
       "  'Is Road None': 'Não'},\n",
       " {'Serial': 'EIXO-default-2023.00134',\n",
       "  'Rodovia': 'SP-284',\n",
       "  'Km inicial': 374.35,\n",
       "  'Km Final': 450.3,\n",
       "  'X': 0.0,\n",
       "  'Y': 0.0,\n",
       "  'Is Road None': 'Não'},\n",
       " {'Serial': 'EIXO-default-2022.06688',\n",
       "  'Rodovia': 'SP-425',\n",
       "  'Km inicial': 467.82,\n",
       "  'Km Final': 467.82,\n",
       "  'X': 0.0,\n",
       "  'Y': 0.0,\n",
       "  'Is Road None': 'Não'},\n",
       " {'Serial': 'EIXO-default-2022.06689',\n",
       "  'Rodovia': 'SP-425',\n",
       "  'Km inicial': 467.8,\n",
       "  'Km Final': 467.8,\n",
       "  'X': 0.0,\n",
       "  'Y': 0.0,\n",
       "  'Is Road None': 'Não'},\n",
       " {'Serial': 'EIXO-default-2022.06690',\n",
       "  'Rodovia': 'SP-425',\n",
       "  'Km inicial': 467.8,\n",
       "  'Km Final': 467.8,\n",
       "  'X': 0.0,\n",
       "  'Y': 0.0,\n",
       "  'Is Road None': 'Não'},\n",
       " {'Serial': 'EIXO-default-2022.06691',\n",
       "  'Rodovia': 'SP-425',\n",
       "  'Km inicial': 467.1,\n",
       "  'Km Final': 467.1,\n",
       "  'X': 0.0,\n",
       "  'Y': 0.0,\n",
       "  'Is Road None': 'Não'},\n",
       " {'Serial': 'EIXO-default-2022.00723',\n",
       "  'Rodovia': 'SPA-201/304',\n",
       "  'Km inicial': 2.0,\n",
       "  'Km Final': 2.0,\n",
       "  'X': 0.0,\n",
       "  'Y': 0.0,\n",
       "  'Is Road None': 'Não'},\n",
       " {'Serial': 'EIXO-default-2021.14363',\n",
       "  'Rodovia': 'SPA-223/304',\n",
       "  'Km inicial': 2.95,\n",
       "  'Km Final': 2.95,\n",
       "  'X': 0.0,\n",
       "  'Y': 0.0,\n",
       "  'Is Road None': 'Não'},\n",
       " {'Serial': 'EIXO-default-2020.02734',\n",
       "  'Rodovia': 'SPA-196/331',\n",
       "  'Km inicial': 6.0,\n",
       "  'Km Final': 1.0,\n",
       "  'X': 0.0,\n",
       "  'Y': 0.0,\n",
       "  'Is Road None': 'Não'},\n",
       " {'Serial': 'EIXO-default-2022.00718',\n",
       "  'Rodovia': 'SPA-005/197',\n",
       "  'Km inicial': 264.3,\n",
       "  'Km Final': 264.3,\n",
       "  'X': 0.0,\n",
       "  'Y': 0.0,\n",
       "  'Is Road None': 'Não'},\n",
       " {'Serial': 'EIXO-default-2022.40085',\n",
       "  'Rodovia': 'SP-261',\n",
       "  'Km inicial': 0.0,\n",
       "  'Km Final': 0.0,\n",
       "  'X': 0.0,\n",
       "  'Y': 0.0,\n",
       "  'Is Road None': 'Não'},\n",
       " {'Serial': 'EIXO-default-2022.01536',\n",
       "  'Rodovia': 'SP-310',\n",
       "  'Km inicial': 91.43,\n",
       "  'Km Final': 235.04,\n",
       "  'X': 0.0,\n",
       "  'Y': 0.0,\n",
       "  'Is Road None': 'Não'},\n",
       " {'Serial': 'EIXO-DRE-2021.13675',\n",
       "  'Rodovia': 'SP-308',\n",
       "  'Km inicial': 173.44,\n",
       "  'Km Final': 173.44,\n",
       "  'X': 0.0,\n",
       "  'Y': 0.0,\n",
       "  'Is Road None': 'Não'},\n",
       " {'Serial': 'EIXO-default-2022.01567',\n",
       "  'Rodovia': 'SP-310',\n",
       "  'Km inicial': 91.43,\n",
       "  'Km Final': 235.04,\n",
       "  'X': 0.0,\n",
       "  'Y': 0.0,\n",
       "  'Is Road None': 'Não'},\n",
       " {'Serial': 'EIXO-default-2021.17860',\n",
       "  'Rodovia': 'SP-293',\n",
       "  'Km inicial': 24.78,\n",
       "  'Km Final': 24.78,\n",
       "  'X': 0.0,\n",
       "  'Y': 0.0,\n",
       "  'Is Road None': 'Não'},\n",
       " {'Serial': 'EIXO-DRE-2021.09508',\n",
       "  'Rodovia': 'SPA-017/293',\n",
       "  'Km inicial': 0.81,\n",
       "  'Km Final': 0.81,\n",
       "  'X': 0.0,\n",
       "  'Y': 0.0,\n",
       "  'Is Road None': 'Não'},\n",
       " {'Serial': 'EIXO-FDO-2023.60162',\n",
       "  'Rodovia': 'SP-293',\n",
       "  'Km inicial': 24.85,\n",
       "  'Km Final': 16.4,\n",
       "  'X': 0.0,\n",
       "  'Y': 0.0,\n",
       "  'Is Road None': 'Não'},\n",
       " {'Serial': 'EIXO-DRE-2021.00492',\n",
       "  'Rodovia': 'SPA-228/225',\n",
       "  'Km inicial': 133.97,\n",
       "  'Km Final': 133.97,\n",
       "  'X': 0.0,\n",
       "  'Y': 0.0,\n",
       "  'Is Road None': 'Não'},\n",
       " {'Serial': 'EIXO-default-2022.08327',\n",
       "  'Rodovia': 'SPA-196/331',\n",
       "  'Km inicial': 5.8,\n",
       "  'Km Final': 5.8,\n",
       "  'X': 0.0,\n",
       "  'Y': 0.0,\n",
       "  'Is Road None': 'Não'},\n",
       " {'Serial': 'EIXO-DRE-2021.13587',\n",
       "  'Rodovia': 'SP-304',\n",
       "  'Km inicial': 165.95,\n",
       "  'Km Final': 165.95,\n",
       "  'X': 0.0,\n",
       "  'Y': 0.0,\n",
       "  'Is Road None': 'Não'},\n",
       " {'Serial': 'EIXO-default-2021.34079',\n",
       "  'Rodovia': 'SPA-431/425',\n",
       "  'Km inicial': 15.0,\n",
       "  'Km Final': None,\n",
       "  'X': 0.0,\n",
       "  'Y': 0.0,\n",
       "  'Is Road None': 'Não'},\n",
       " {'Serial': 'EIXO-default-2020.00279',\n",
       "  'Rodovia': 'SP-331',\n",
       "  'Km inicial': 207.0,\n",
       "  'Km Final': 207.0,\n",
       "  'X': 0.0,\n",
       "  'Y': 0.0,\n",
       "  'Is Road None': 'Não'},\n",
       " {'Serial': 'EIXO-default-2021.07007',\n",
       "  'Rodovia': 'SP-308',\n",
       "  'Km inicial': 99.371,\n",
       "  'Km Final': 99.371,\n",
       "  'X': 0.0,\n",
       "  'Y': 0.0,\n",
       "  'Is Road None': 'Não'},\n",
       " {'Serial': 'EIXO-default-2021.14364',\n",
       "  'Rodovia': 'SPA-223/304',\n",
       "  'Km inicial': 2.95,\n",
       "  'Km Final': 2.95,\n",
       "  'X': 0.0,\n",
       "  'Y': 0.0,\n",
       "  'Is Road None': 'Não'},\n",
       " {'Serial': 'EIXO-default-2022.18530',\n",
       "  'Rodovia': 'SP-294',\n",
       "  'Km inicial': 167.4,\n",
       "  'Km Final': 167.4,\n",
       "  'X': 0.0,\n",
       "  'Y': 0.0,\n",
       "  'Is Road None': 'Não'},\n",
       " {'Serial': 'EIXO-default-2021.46904',\n",
       "  'Rodovia': 'SP-284',\n",
       "  'Km inicial': 445.85,\n",
       "  'Km Final': 445.85,\n",
       "  'X': 0.0,\n",
       "  'Y': 0.0,\n",
       "  'Is Road None': 'Não'},\n",
       " {'Serial': 'EIXO-default-2021.46944',\n",
       "  'Rodovia': 'SPA-517/284',\n",
       "  'Km inicial': 0.45,\n",
       "  'Km Final': 0.45,\n",
       "  'X': 0.0,\n",
       "  'Y': 0.0,\n",
       "  'Is Road None': 'Não'},\n",
       " {'Serial': 'EIXO-default-2021.47001',\n",
       "  'Rodovia': 'SPA-431/425',\n",
       "  'Km inicial': 15.3,\n",
       "  'Km Final': 15.3,\n",
       "  'X': 0.0,\n",
       "  'Y': 0.0,\n",
       "  'Is Road None': 'Não'},\n",
       " {'Serial': 'EIXO-default-2021.47002',\n",
       "  'Rodovia': 'SPA-431/425',\n",
       "  'Km inicial': 15.0,\n",
       "  'Km Final': 15.0,\n",
       "  'X': 0.0,\n",
       "  'Y': 0.0,\n",
       "  'Is Road None': 'Não'},\n",
       " {'Serial': 'EIXO-default-2021.47055',\n",
       "  'Rodovia': 'SP-284',\n",
       "  'Km inicial': 674.3,\n",
       "  'Km Final': 674.3,\n",
       "  'X': 0.0,\n",
       "  'Y': 0.0,\n",
       "  'Is Road None': 'Não'},\n",
       " {'Serial': 'EIXO-default-2021.49330',\n",
       "  'Rodovia': 'SP-294',\n",
       "  'Km inicial': 165.0,\n",
       "  'Km Final': 206.532,\n",
       "  'X': 0.0,\n",
       "  'Y': 0.0,\n",
       "  'Is Road None': 'Não'},\n",
       " {'Serial': 'EIXO-FDO-2022.11333',\n",
       "  'Rodovia': 'SPA-437/425',\n",
       "  'Km inicial': 3.0,\n",
       "  'Km Final': 3.91,\n",
       "  'X': 0.0,\n",
       "  'Y': 0.0,\n",
       "  'Is Road None': 'Não'},\n",
       " {'Serial': 'EIXO-default-2021.46905',\n",
       "  'Rodovia': 'SP-284',\n",
       "  'Km inicial': 445.85,\n",
       "  'Km Final': 445.85,\n",
       "  'X': 0.0,\n",
       "  'Y': 0.0,\n",
       "  'Is Road None': 'Não'},\n",
       " {'Serial': 'EIXO-default-2022.08329',\n",
       "  'Rodovia': 'SPA-196/331',\n",
       "  'Km inicial': 5.95,\n",
       "  'Km Final': 5.95,\n",
       "  'X': 0.0,\n",
       "  'Y': 0.0,\n",
       "  'Is Road None': 'Não'},\n",
       " {'Serial': 'EIXO-DRE-2021.03304',\n",
       "  'Rodovia': 'SPA-360/294',\n",
       "  'Km inicial': 0.0,\n",
       "  'Km Final': 5.0,\n",
       "  'X': 0.0,\n",
       "  'Y': 0.0,\n",
       "  'Is Road None': 'Não'},\n",
       " {'Serial': 'EIXO-default-2021.49886',\n",
       "  'Rodovia': 'SPA-517/284',\n",
       "  'Km inicial': 2.1,\n",
       "  'Km Final': 2.1,\n",
       "  'X': 0.0,\n",
       "  'Y': 0.0,\n",
       "  'Is Road None': 'Não'},\n",
       " {'Serial': 'EIXO-default-2021.49913',\n",
       "  'Rodovia': 'SP-425',\n",
       "  'Km inicial': 374.3,\n",
       "  'Km Final': 374.3,\n",
       "  'X': 0.0,\n",
       "  'Y': 0.0,\n",
       "  'Is Road None': 'Não'},\n",
       " {'Serial': 'EIXO-default-2021.49914',\n",
       "  'Rodovia': 'SP-425',\n",
       "  'Km inicial': 374.3,\n",
       "  'Km Final': 374.3,\n",
       "  'X': 0.0,\n",
       "  'Y': 0.0,\n",
       "  'Is Road None': 'Não'},\n",
       " {'Serial': 'EIXO-default-2022.08323',\n",
       "  'Rodovia': 'SPA-196/331',\n",
       "  'Km inicial': 5.65,\n",
       "  'Km Final': 5.65,\n",
       "  'X': 0.0,\n",
       "  'Y': 0.0,\n",
       "  'Is Road None': 'Não'},\n",
       " {'Serial': 'EIXO-default-2022.08325',\n",
       "  'Rodovia': 'SPA-196/331',\n",
       "  'Km inicial': 5.65,\n",
       "  'Km Final': 5.65,\n",
       "  'X': 0.0,\n",
       "  'Y': 0.0,\n",
       "  'Is Road None': 'Não'},\n",
       " {'Serial': 'EIXO-default-2021.17858',\n",
       "  'Rodovia': 'SP-293',\n",
       "  'Km inicial': 24.85,\n",
       "  'Km Final': 24.85,\n",
       "  'X': 0.0,\n",
       "  'Y': 0.0,\n",
       "  'Is Road None': 'Não'},\n",
       " {'Serial': 'EIXO-DRE-2021.03303',\n",
       "  'Rodovia': 'SPA-360/294',\n",
       "  'Km inicial': 0.0,\n",
       "  'Km Final': 5.0,\n",
       "  'X': 0.0,\n",
       "  'Y': 0.0,\n",
       "  'Is Road None': 'Não'},\n",
       " {'Serial': 'EIXO-default-2021.46906',\n",
       "  'Rodovia': 'SP-284',\n",
       "  'Km inicial': 445.85,\n",
       "  'Km Final': 445.85,\n",
       "  'X': 0.0,\n",
       "  'Y': 0.0,\n",
       "  'Is Road None': 'Não'},\n",
       " {'Serial': 'EIXO-default-2022.08324',\n",
       "  'Rodovia': 'SPA-196/331',\n",
       "  'Km inicial': 5.65,\n",
       "  'Km Final': 5.65,\n",
       "  'X': 0.0,\n",
       "  'Y': 0.0,\n",
       "  'Is Road None': 'Não'},\n",
       " {'Serial': 'EIXO-default-2022.08326',\n",
       "  'Rodovia': 'SPA-196/331',\n",
       "  'Km inicial': 5.65,\n",
       "  'Km Final': 5.65,\n",
       "  'X': 0.0,\n",
       "  'Y': 0.0,\n",
       "  'Is Road None': 'Não'},\n",
       " {'Serial': 'EIXO-default-2022.08328',\n",
       "  'Rodovia': 'SPA-196/331',\n",
       "  'Km inicial': 5.8,\n",
       "  'Km Final': 5.8,\n",
       "  'X': 0.0,\n",
       "  'Y': 0.0,\n",
       "  'Is Road None': 'Não'},\n",
       " {'Serial': 'EIXO-default-2022.14571',\n",
       "  'Rodovia': 'SP-225',\n",
       "  'Km inicial': 235.3,\n",
       "  'Km Final': 235.3,\n",
       "  'X': 0.0,\n",
       "  'Y': 0.0,\n",
       "  'Is Road None': 'Não'},\n",
       " {'Serial': 'EIXO-default-2022.14569',\n",
       "  'Rodovia': 'SP-225',\n",
       "  'Km inicial': 235.3,\n",
       "  'Km Final': 235.3,\n",
       "  'X': 0.0,\n",
       "  'Y': 0.0,\n",
       "  'Is Road None': 'Não'},\n",
       " {'Serial': 'EIXO-default-2022.14566',\n",
       "  'Rodovia': 'SP-225',\n",
       "  'Km inicial': 235.3,\n",
       "  'Km Final': 235.3,\n",
       "  'X': 0.0,\n",
       "  'Y': 0.0,\n",
       "  'Is Road None': 'Não'},\n",
       " {'Serial': 'EIXO-default-2022.14570',\n",
       "  'Rodovia': 'SP-225',\n",
       "  'Km inicial': 235.3,\n",
       "  'Km Final': 235.3,\n",
       "  'X': 0.0,\n",
       "  'Y': 0.0,\n",
       "  'Is Road None': 'Não'},\n",
       " {'Serial': 'EIXO-default-2022.14577',\n",
       "  'Rodovia': 'SP-225',\n",
       "  'Km inicial': 235.3,\n",
       "  'Km Final': 235.3,\n",
       "  'X': 0.0,\n",
       "  'Y': 0.0,\n",
       "  'Is Road None': 'Não'},\n",
       " {'Serial': 'EIXO-default-2022.14573',\n",
       "  'Rodovia': 'SP-225',\n",
       "  'Km inicial': 235.3,\n",
       "  'Km Final': 235.3,\n",
       "  'X': 0.0,\n",
       "  'Y': 0.0,\n",
       "  'Is Road None': 'Não'},\n",
       " {'Serial': 'EIXO-default-2022.14572',\n",
       "  'Rodovia': 'SP-225',\n",
       "  'Km inicial': 235.3,\n",
       "  'Km Final': 235.3,\n",
       "  'X': 0.0,\n",
       "  'Y': 0.0,\n",
       "  'Is Road None': 'Não'},\n",
       " {'Serial': 'EIXO-default-2022.14563',\n",
       "  'Rodovia': 'SP-225',\n",
       "  'Km inicial': 235.3,\n",
       "  'Km Final': 235.3,\n",
       "  'X': 0.0,\n",
       "  'Y': 0.0,\n",
       "  'Is Road None': 'Não'},\n",
       " {'Serial': 'EIXO-default-2022.14568',\n",
       "  'Rodovia': 'SP-225',\n",
       "  'Km inicial': 235.3,\n",
       "  'Km Final': 235.3,\n",
       "  'X': 0.0,\n",
       "  'Y': 0.0,\n",
       "  'Is Road None': 'Não'},\n",
       " {'Serial': 'EIXO-FDO-2022.13934',\n",
       "  'Rodovia': 'SP-261',\n",
       "  'Km inicial': 218.0,\n",
       "  'Km Final': 228.0,\n",
       "  'X': 0.0,\n",
       "  'Y': 0.0,\n",
       "  'Is Road None': 'Não'},\n",
       " {'Serial': 'EIXO-PAV-2021.06255',\n",
       "  'Rodovia': 'SPA-130/225',\n",
       "  'Km inicial': 1.8,\n",
       "  'Km Final': 1.8,\n",
       "  'X': 0.0,\n",
       "  'Y': 0.0,\n",
       "  'Is Road None': 'Não'},\n",
       " {'Serial': 'EIXO-PAVR-2021.00128',\n",
       "  'Rodovia': 'SPA-130/225',\n",
       "  'Km inicial': 1.8,\n",
       "  'Km Final': 1.8,\n",
       "  'X': 0.0,\n",
       "  'Y': 0.0,\n",
       "  'Is Road None': 'Não'},\n",
       " {'Serial': 'EIXO-default-2022.18073',\n",
       "  'Rodovia': 'SPA-431/425',\n",
       "  'Km inicial': 14.99,\n",
       "  'Km Final': 14.99,\n",
       "  'X': 0.0,\n",
       "  'Y': 0.0,\n",
       "  'Is Road None': 'Não'},\n",
       " {'Serial': 'EIXO-FDO-2022.19695',\n",
       "  'Rodovia': 'SPA-193/310',\n",
       "  'Km inicial': 6500.0,\n",
       "  'Km Final': 9.0,\n",
       "  'X': 0.0,\n",
       "  'Y': 0.0,\n",
       "  'Is Road None': 'Não'},\n",
       " {'Serial': 'EIXO-LV-2020.14259',\n",
       "  'Rodovia': 'SP-225',\n",
       "  'Km inicial': 237.1,\n",
       "  'Km Final': 237.1,\n",
       "  'X': 0.0,\n",
       "  'Y': 0.0,\n",
       "  'Is Road None': 'Não'},\n",
       " {'Serial': 'EIXO-LV-2020.14258',\n",
       "  'Rodovia': 'SP-225',\n",
       "  'Km inicial': 237.1,\n",
       "  'Km Final': 237.1,\n",
       "  'X': 0.0,\n",
       "  'Y': 0.0,\n",
       "  'Is Road None': 'Não'},\n",
       " {'Serial': 'EIXO-LV-2020.14319',\n",
       "  'Rodovia': 'SP-310',\n",
       "  'Km inicial': 227.85,\n",
       "  'Km Final': 227.85,\n",
       "  'X': 0.0,\n",
       "  'Y': 0.0,\n",
       "  'Is Road None': 'Não'},\n",
       " {'Serial': 'EIXO-default-2021.35729',\n",
       "  'Rodovia': 'SPA-130/225',\n",
       "  'Km inicial': 1.8,\n",
       "  'Km Final': 1.8,\n",
       "  'X': 0.0,\n",
       "  'Y': 0.0,\n",
       "  'Is Road None': 'Não'},\n",
       " {'Serial': 'EIXO-CON-2022.04956',\n",
       "  'Rodovia': 'SP-261',\n",
       "  'Km inicial': 183.76,\n",
       "  'Km Final': 183.76,\n",
       "  'X': 0.0,\n",
       "  'Y': 0.0,\n",
       "  'Is Road None': 'Não'},\n",
       " {'Serial': 'EIXO-default-2022.29613',\n",
       "  'Rodovia': 'SP-425',\n",
       "  'Km inicial': 366.0,\n",
       "  'Km Final': 376.9,\n",
       "  'X': 0.0,\n",
       "  'Y': 0.0,\n",
       "  'Is Road None': 'Não'},\n",
       " {'Serial': 'EIXO-default-2022.15822',\n",
       "  'Rodovia': 'SPA-431/425',\n",
       "  'Km inicial': 14.99,\n",
       "  'Km Final': 14.99,\n",
       "  'X': 0.0,\n",
       "  'Y': 0.0,\n",
       "  'Is Road None': 'Não'},\n",
       " {'Serial': 'EIXO-DRE-2022.11279',\n",
       "  'Rodovia': 'SPA-578/294',\n",
       "  'Km inicial': 1.92,\n",
       "  'Km Final': 1.28,\n",
       "  'X': 0.0,\n",
       "  'Y': 0.0,\n",
       "  'Is Road None': 'Não'},\n",
       " {'Serial': 'EIXO-FDO-2023.27930',\n",
       "  'Rodovia': 'SPA-431/425',\n",
       "  'Km inicial': 15.0,\n",
       "  'Km Final': 15.0,\n",
       "  'X': 0.0,\n",
       "  'Y': 0.0,\n",
       "  'Is Road None': 'Não'},\n",
       " {'Serial': 'EIXO-FDO-2022.33045',\n",
       "  'Rodovia': 'SPA-475/284',\n",
       "  'Km inicial': 197.2,\n",
       "  'Km Final': 0.0,\n",
       "  'X': 0.0,\n",
       "  'Y': 0.0,\n",
       "  'Is Road None': 'Não'},\n",
       " {'Serial': 'EIXO-FDO-2022.33046',\n",
       "  'Rodovia': 'SPA-475/284',\n",
       "  'Km inicial': 228.9,\n",
       "  'Km Final': 0.0,\n",
       "  'X': 0.0,\n",
       "  'Y': 0.0,\n",
       "  'Is Road None': 'Não'},\n",
       " {'Serial': 'EIXO-FDO-2022.33047',\n",
       "  'Rodovia': 'SPA-475/284',\n",
       "  'Km inicial': 109.2,\n",
       "  'Km Final': 0.0,\n",
       "  'X': 0.0,\n",
       "  'Y': 0.0,\n",
       "  'Is Road None': 'Não'},\n",
       " {'Serial': 'EIXO-IT-2023.00086',\n",
       "  'Rodovia': 'SP-425',\n",
       "  'Km inicial': 45.017,\n",
       "  'Km Final': 450.018,\n",
       "  'X': 0.0,\n",
       "  'Y': 0.0,\n",
       "  'Is Road None': 'Não'},\n",
       " {'Serial': 'EIXO-default-2022.53534',\n",
       "  'Rodovia': 'SPA-627/294',\n",
       "  'Km inicial': 3080.0,\n",
       "  'Km Final': 3080.0,\n",
       "  'X': 0.0,\n",
       "  'Y': 0.0,\n",
       "  'Is Road None': 'Não'},\n",
       " {'Serial': 'EIXO-default-2022.53536',\n",
       "  'Rodovia': 'SPA-627/294',\n",
       "  'Km inicial': 2960.0,\n",
       "  'Km Final': 2960.0,\n",
       "  'X': 0.0,\n",
       "  'Y': 0.0,\n",
       "  'Is Road None': 'Não'},\n",
       " {'Serial': 'EIXO-default-2023.08083',\n",
       "  'Rodovia': 'SPA-437/425',\n",
       "  'Km inicial': 546.9372,\n",
       "  'Km Final': 0.64,\n",
       "  'X': 0.0,\n",
       "  'Y': 0.0,\n",
       "  'Is Road None': 'Não'},\n",
       " {'Serial': 'EIXO-default-2023.05249',\n",
       "  'Rodovia': 'SPA-005/197',\n",
       "  'Km inicial': 10.0,\n",
       "  'Km Final': 10.0006,\n",
       "  'X': 0.0,\n",
       "  'Y': 0.0,\n",
       "  'Is Road None': 'Não'},\n",
       " {'Serial': 'EIXO-SinH-2023.00059',\n",
       "  'Rodovia': 'SPA-617/294',\n",
       "  'Km inicial': 0.18,\n",
       "  'Km Final': 0.28,\n",
       "  'X': 0.0,\n",
       "  'Y': 0.0,\n",
       "  'Is Road None': 'Não'},\n",
       " {'Serial': 'EIXO-SinV-2023.00270',\n",
       "  'Rodovia': 'SPA-585/294',\n",
       "  'Km inicial': 0.53,\n",
       "  'Km Final': 0.5309,\n",
       "  'X': 0.0,\n",
       "  'Y': 0.0,\n",
       "  'Is Road None': 'Não'},\n",
       " {'Serial': 'EIXO-IT-2023.00211',\n",
       "  'Rodovia': 'SPA-201/304',\n",
       "  'Km inicial': 1.9800000088830845,\n",
       "  'Km Final': 1.9809000088830844,\n",
       "  'X': 0.0,\n",
       "  'Y': 0.0,\n",
       "  'Is Road None': 'Não'},\n",
       " {'Serial': 'EIXO-FISC-2023.00152',\n",
       "  'Rodovia': 'SP-225',\n",
       "  'Km inicial': 91.04,\n",
       "  'Km Final': 235.04,\n",
       "  'X': 0.0,\n",
       "  'Y': 0.0,\n",
       "  'Is Road None': 'Não'},\n",
       " {'Serial': 'EIXO-IT-2023.38287',\n",
       "  'Rodovia': 'SP-425',\n",
       "  'Km inicial': 393055.0,\n",
       "  'Km Final': 393055.0,\n",
       "  'X': 0.0,\n",
       "  'Y': 0.0,\n",
       "  'Is Road None': 'Não'},\n",
       " {'Serial': 'EIXO-IT-2023.38322',\n",
       "  'Rodovia': 'SP-425',\n",
       "  'Km inicial': 398220.0,\n",
       "  'Km Final': 398220.0,\n",
       "  'X': 0.0,\n",
       "  'Y': 0.0,\n",
       "  'Is Road None': 'Não'},\n",
       " {'Serial': 'EIXO-IT-2023.38348',\n",
       "  'Rodovia': 'SP-425',\n",
       "  'Km inicial': 400500.0,\n",
       "  'Km Final': 400500.0,\n",
       "  'X': 0.0,\n",
       "  'Y': 0.0,\n",
       "  'Is Road None': 'Não'},\n",
       " {'Serial': 'EIXO-IT-2023.38514',\n",
       "  'Rodovia': 'SP-425',\n",
       "  'Km inicial': 429560.0,\n",
       "  'Km Final': 429560.0,\n",
       "  'X': 0.0,\n",
       "  'Y': 0.0,\n",
       "  'Is Road None': 'Não'},\n",
       " {'Serial': 'EIXO-IT-2023.38252',\n",
       "  'Rodovia': 'SP-425',\n",
       "  'Km inicial': 390510.0,\n",
       "  'Km Final': 390510.0,\n",
       "  'X': 0.0,\n",
       "  'Y': 0.0,\n",
       "  'Is Road None': 'Não'},\n",
       " {'Serial': 'EIXO-IT-2023.38275',\n",
       "  'Rodovia': 'SP-425',\n",
       "  'Km inicial': 391560.0,\n",
       "  'Km Final': 391560.0,\n",
       "  'X': 0.0,\n",
       "  'Y': 0.0,\n",
       "  'Is Road None': 'Não'},\n",
       " {'Serial': 'EIXO-IT-2023.38745',\n",
       "  'Rodovia': 'SP-425',\n",
       "  'Km inicial': 397250.0,\n",
       "  'Km Final': 397250.0,\n",
       "  'X': 0.0,\n",
       "  'Y': 0.0,\n",
       "  'Is Road None': 'Não'},\n",
       " {'Serial': 'EIXO-IT-2023.38970',\n",
       "  'Rodovia': 'SP-425',\n",
       "  'Km inicial': 430130.0,\n",
       "  'Km Final': 430130.0,\n",
       "  'X': 0.0,\n",
       "  'Y': 0.0,\n",
       "  'Is Road None': 'Não'},\n",
       " {'Serial': 'EIXO-IT-2023.38983',\n",
       "  'Rodovia': 'SP-425',\n",
       "  'Km inicial': 430150.0,\n",
       "  'Km Final': 430150.0,\n",
       "  'X': 0.0,\n",
       "  'Y': 0.0,\n",
       "  'Is Road None': 'Não'},\n",
       " {'Serial': 'EIXO-IT-2023.38988',\n",
       "  'Rodovia': 'SP-425',\n",
       "  'Km inicial': 430160.0,\n",
       "  'Km Final': 430160.0,\n",
       "  'X': 0.0,\n",
       "  'Y': 0.0,\n",
       "  'Is Road None': 'Não'},\n",
       " {'Serial': 'EIXO-SinH-2023.04371',\n",
       "  'Rodovia': 'SPA-592/294',\n",
       "  'Km inicial': 20.7,\n",
       "  'Km Final': 21.822,\n",
       "  'X': 0.0,\n",
       "  'Y': 0.0,\n",
       "  'Is Road None': 'Não'},\n",
       " {'Serial': 'EIXO-IT-2023.38936',\n",
       "  'Rodovia': 'SP-425',\n",
       "  'Km inicial': 429500.0,\n",
       "  'Km Final': 429500.0,\n",
       "  'X': 0.0,\n",
       "  'Y': 0.0,\n",
       "  'Is Road None': 'Não'},\n",
       " {'Serial': 'EIXO-IT-2023.38949',\n",
       "  'Rodovia': 'SP-425',\n",
       "  'Km inicial': 429590.0,\n",
       "  'Km Final': 429590.0,\n",
       "  'X': 0.0,\n",
       "  'Y': 0.0,\n",
       "  'Is Road None': 'Não'},\n",
       " {'Serial': 'EIXO-SinV-2023.26969',\n",
       "  'Rodovia': 'SP-293',\n",
       "  'Km inicial': 24.85,\n",
       "  'Km Final': 17.0,\n",
       "  'X': 0.0,\n",
       "  'Y': 0.0,\n",
       "  'Is Road None': 'Não'},\n",
       " {'Serial': 'EIXO-FDO-2023.12925',\n",
       "  'Rodovia': 'SP000',\n",
       "  'Km inicial': 5.0,\n",
       "  'Km Final': 5.0,\n",
       "  'X': 0.0,\n",
       "  'Y': 0.0,\n",
       "  'Is Road None': 'Sim'},\n",
       " {'Serial': 'EIXO-FDO-2023.58814',\n",
       "  'Rodovia': 'SPA-201/304',\n",
       "  'Km inicial': 3.0,\n",
       "  'Km Final': 1.0,\n",
       "  'X': 0.0,\n",
       "  'Y': 0.0,\n",
       "  'Is Road None': 'Não'},\n",
       " {'Serial': 'EIXO-PROJ-2023.01610',\n",
       "  'Rodovia': 'SP-293',\n",
       "  'Km inicial': 24.7,\n",
       "  'Km Final': 24.698999999999998,\n",
       "  'X': 0.0,\n",
       "  'Y': 0.0,\n",
       "  'Is Road None': 'Não'},\n",
       " {'Serial': 'EIXO-FDO-2023.22804',\n",
       "  'Rodovia': 'SPA-475/284',\n",
       "  'Km inicial': 474.0,\n",
       "  'Km Final': 475.0,\n",
       "  'X': 0.0,\n",
       "  'Y': 0.0,\n",
       "  'Is Road None': 'Não'},\n",
       " {'Serial': 'EIXO-FDO-2023.39979',\n",
       "  'Rodovia': 'SP-293',\n",
       "  'Km inicial': 24.85,\n",
       "  'Km Final': 18.0,\n",
       "  'X': 0.0,\n",
       "  'Y': 0.0,\n",
       "  'Is Road None': 'Não'},\n",
       " {'Serial': 'EIXO-FDO-2023.44722',\n",
       "  'Rodovia': 'SP-293',\n",
       "  'Km inicial': 24.85,\n",
       "  'Km Final': 22.0,\n",
       "  'X': 0.0,\n",
       "  'Y': 0.0,\n",
       "  'Is Road None': 'Não'},\n",
       " {'Serial': 'EIXO-FDO-2023.45853',\n",
       "  'Rodovia': 'SPA-431/425',\n",
       "  'Km inicial': 15.0,\n",
       "  'Km Final': 14.0,\n",
       "  'X': 0.0,\n",
       "  'Y': 0.0,\n",
       "  'Is Road None': 'Não'},\n",
       " {'Serial': 'EIXO-SinH-2023.11397',\n",
       "  'Rodovia': 'SPA-431/425',\n",
       "  'Km inicial': 15.0,\n",
       "  'Km Final': 14.6,\n",
       "  'X': 0.0,\n",
       "  'Y': 0.0,\n",
       "  'Is Road None': 'Não'},\n",
       " {'Serial': 'EIXO-IT-2023.38283',\n",
       "  'Rodovia': 'SP-425',\n",
       "  'Km inicial': 392430.0,\n",
       "  'Km Final': 392430.0,\n",
       "  'X': 0.0,\n",
       "  'Y': 0.0,\n",
       "  'Is Road None': 'Não'},\n",
       " {'Serial': 'EIXO-FDO-2023.56833',\n",
       "  'Rodovia': 'SP-293',\n",
       "  'Km inicial': 24.85,\n",
       "  'Km Final': 15.0,\n",
       "  'X': 'None',\n",
       "  'Y': 'None',\n",
       "  'Is Road None': 'Não'},\n",
       " {'Serial': 'EIXO-FDO-2023.56809',\n",
       "  'Rodovia': 'SP-293',\n",
       "  'Km inicial': 24.85,\n",
       "  'Km Final': 22.0,\n",
       "  'X': 'None',\n",
       "  'Y': 'None',\n",
       "  'Is Road None': 'Não'},\n",
       " {'Serial': 'EIXO-SinV-2023.28173',\n",
       "  'Rodovia': 'SPA-592/294',\n",
       "  'Km inicial': 19.0,\n",
       "  'Km Final': 20.0,\n",
       "  'X': 0.0,\n",
       "  'Y': 0.0,\n",
       "  'Is Road None': 'Não'},\n",
       " {'Serial': 'EIXO-default-2023.06849',\n",
       "  'Rodovia': 'SP-191',\n",
       "  'Km inicial': 0.0,\n",
       "  'Km Final': 0.0,\n",
       "  'X': 0.0,\n",
       "  'Y': 0.0,\n",
       "  'Is Road None': 'Não'},\n",
       " {'Serial': 'EIXO-default-2023.06507',\n",
       "  'Rodovia': 'SP-261',\n",
       "  'Km inicial': 0.0,\n",
       "  'Km Final': 0.0,\n",
       "  'X': 0.0,\n",
       "  'Y': 0.0,\n",
       "  'Is Road None': 'Não'},\n",
       " {'Serial': 'EIXO-default-2022.34757',\n",
       "  'Rodovia': 'SPA-431/425',\n",
       "  'Km inicial': 130000.0,\n",
       "  'Km Final': 130000.0,\n",
       "  'X': 0.0,\n",
       "  'Y': 0.0,\n",
       "  'Is Road None': 'Não'},\n",
       " {'Serial': 'EIXO-default-2023.06565',\n",
       "  'Rodovia': 'SP-261',\n",
       "  'Km inicial': 0.0,\n",
       "  'Km Final': 0.0,\n",
       "  'X': 0.0,\n",
       "  'Y': 0.0,\n",
       "  'Is Road None': 'Não'},\n",
       " {'Serial': 'EIXO-default-2023.06493',\n",
       "  'Rodovia': 'SP-308',\n",
       "  'Km inicial': 0.0,\n",
       "  'Km Final': 0.0,\n",
       "  'X': 0.0,\n",
       "  'Y': 0.0,\n",
       "  'Is Road None': 'Não'},\n",
       " {'Serial': 'EIXO-default-2023.06477',\n",
       "  'Rodovia': 'SP-191',\n",
       "  'Km inicial': 0.0,\n",
       "  'Km Final': 0.0,\n",
       "  'X': 0.0,\n",
       "  'Y': 0.0,\n",
       "  'Is Road None': 'Não'},\n",
       " {'Serial': 'EIXO-SinV-2023.27222',\n",
       "  'Rodovia': 'SP-293',\n",
       "  'Km inicial': 24.85,\n",
       "  'Km Final': 15.0,\n",
       "  'X': 0.0,\n",
       "  'Y': 0.0,\n",
       "  'Is Road None': 'Não'},\n",
       " {'Serial': 'EIXO-SinH-2023.11754',\n",
       "  'Rodovia': 'SP-293',\n",
       "  'Km inicial': 24.60000000269276,\n",
       "  'Km Final': 24.599200002692758,\n",
       "  'X': 'None',\n",
       "  'Y': 'None',\n",
       "  'Is Road None': 'Não'},\n",
       " {'Serial': 'EIXO-PRE-2023.02902',\n",
       "  'Rodovia': 'SP-310',\n",
       "  'Km inicial': 0.0,\n",
       "  'Km Final': 0.0,\n",
       "  'X': 0.0,\n",
       "  'Y': 0.0,\n",
       "  'Is Road None': 'Não'},\n",
       " {'Serial': 'EIXO-default-2023.07964',\n",
       "  'Rodovia': 'SP-304',\n",
       "  'Km inicial': 0.0,\n",
       "  'Km Final': 0.0,\n",
       "  'X': 0.0,\n",
       "  'Y': 0.0,\n",
       "  'Is Road None': 'Não'},\n",
       " {'Serial': 'EIXO-default-2024.00254',\n",
       "  'Rodovia': 'SP-294',\n",
       "  'Km inicial': 0.0,\n",
       "  'Km Final': 0.0,\n",
       "  'X': 0.0,\n",
       "  'Y': 0.0,\n",
       "  'Is Road None': 'Não'},\n",
       " {'Serial': 'EIXO-SinV-2023.28084',\n",
       "  'Rodovia': 'SPA-592/294',\n",
       "  'Km inicial': 19.0,\n",
       "  'Km Final': 18.0,\n",
       "  'X': 0.0,\n",
       "  'Y': 0.0,\n",
       "  'Is Road None': 'Não'},\n",
       " {'Serial': 'EIXO-SinV-2023.28174',\n",
       "  'Rodovia': 'SPA-592/294',\n",
       "  'Km inicial': 19.0,\n",
       "  'Km Final': 20.0,\n",
       "  'X': 0.0,\n",
       "  'Y': 0.0,\n",
       "  'Is Road None': 'Não'},\n",
       " {'Serial': 'EIXO-SinV-2023.28175',\n",
       "  'Rodovia': 'SPA-592/294',\n",
       "  'Km inicial': 20.0,\n",
       "  'Km Final': 20.7,\n",
       "  'X': 0.0,\n",
       "  'Y': 0.0,\n",
       "  'Is Road None': 'Não'},\n",
       " {'Serial': 'EIXO-SinV-2023.28176',\n",
       "  'Rodovia': 'SPA-592/294',\n",
       "  'Km inicial': 20.0,\n",
       "  'Km Final': 20.7,\n",
       "  'X': 0.0,\n",
       "  'Y': 0.0,\n",
       "  'Is Road None': 'Não'},\n",
       " {'Serial': 'EIXO-default-2024.00703',\n",
       "  'Rodovia': 'SP-225',\n",
       "  'Km inicial': 0.0,\n",
       "  'Km Final': 0.0,\n",
       "  'X': 0.0,\n",
       "  'Y': 0.0,\n",
       "  'Is Road None': 'Não'},\n",
       " {'Serial': 'EIXO-IL-2024.00009',\n",
       "  'Rodovia': 'SP-225',\n",
       "  'Km inicial': 91.0,\n",
       "  'Km Final': 91.0,\n",
       "  'X': 0.0,\n",
       "  'Y': 0.0,\n",
       "  'Is Road None': 'Não'},\n",
       " {'Serial': 'EIXO-default-2024.00871',\n",
       "  'Rodovia': 'SP-331',\n",
       "  'Km inicial': 0.0,\n",
       "  'Km Final': 0.0,\n",
       "  'X': 0.0,\n",
       "  'Y': 0.0,\n",
       "  'Is Road None': 'Não'},\n",
       " {'Serial': 'EIXO-default-2024.02465',\n",
       "  'Rodovia': 'SP-261',\n",
       "  'Km inicial': 0.0,\n",
       "  'Km Final': 0.0,\n",
       "  'X': 0.0,\n",
       "  'Y': 0.0,\n",
       "  'Is Road None': 'Não'},\n",
       " {'Serial': 'EIXO-DA-2024.05045',\n",
       "  'Rodovia': 'SPA-360/294',\n",
       "  'Km inicial': 0.0,\n",
       "  'Km Final': 3.1,\n",
       "  'X': 0.0,\n",
       "  'Y': 0.0,\n",
       "  'Is Road None': 'Não'},\n",
       " {'Serial': 'EIXO-DA-2024.05044',\n",
       "  'Rodovia': 'SPA-360/294',\n",
       "  'Km inicial': 0.0,\n",
       "  'Km Final': 3.1,\n",
       "  'X': 0.0,\n",
       "  'Y': 0.0,\n",
       "  'Is Road None': 'Não'},\n",
       " {'Serial': 'EIXO-FDO-2024.06277',\n",
       "  'Rodovia': 'SPA-402/294',\n",
       "  'Km inicial': 3.3,\n",
       "  'Km Final': 0.0,\n",
       "  'X': 0.0,\n",
       "  'Y': 0.0,\n",
       "  'Is Road None': 'Não'},\n",
       " {'Serial': 'EIXO-SinV-2024.02427',\n",
       "  'Rodovia': 'SPA-592/294',\n",
       "  'Km inicial': 19.0,\n",
       "  'Km Final': 20.0,\n",
       "  'X': 'None',\n",
       "  'Y': 'None',\n",
       "  'Is Road None': 'Não'}]"
      ]
     },
     "execution_count": 41,
     "metadata": {},
     "output_type": "execute_result"
    }
   ],
   "source": [
    "data"
   ]
  },
  {
   "cell_type": "code",
   "execution_count": 42,
   "id": "cfeca1af",
   "metadata": {},
   "outputs": [],
   "source": [
    "import pandas as pd"
   ]
  },
  {
   "cell_type": "code",
   "execution_count": 43,
   "id": "a7704abe",
   "metadata": {},
   "outputs": [],
   "source": [
    "df = pd.DataFrame(data=data)"
   ]
  },
  {
   "cell_type": "code",
   "execution_count": 44,
   "id": "d845dae9",
   "metadata": {},
   "outputs": [],
   "source": [
    "df.to_excel('erros_EixoSP.xlsx')"
   ]
  },
  {
   "cell_type": "code",
   "execution_count": 46,
   "id": "5e4cd876",
   "metadata": {},
   "outputs": [],
   "source": [
    "from helpers.signals import DisableSignals"
   ]
  },
  {
   "cell_type": "code",
   "execution_count": 51,
   "id": "046352c8",
   "metadata": {},
   "outputs": [
    {
     "name": "stdout",
     "output_type": "stream",
     "text": [
      "Modera - SP 015\n",
      "50 SP 015\n",
      "Modera - SP 019\n",
      "51 SP 019\n",
      "Modera - SP 021\n",
      "52 SP 021\n",
      "Modera - SP 023\n",
      "53 SP 023\n",
      "Modera - SP 029\n",
      "54 SP 029\n",
      "Modera - SP 031\n",
      "55 SP 031\n",
      "Modera - SP 036\n",
      "56 SP 036\n",
      "Modera - SP 039\n",
      "57 SP 039\n",
      "Modera - SP 042\n",
      "58 SP 042\n",
      "Modera - SP 043\n",
      "59 SP 043\n",
      "Modera - SP 046\n",
      "60 SP 046\n",
      "Modera - SP 055\n",
      "61 SP 055\n",
      "Modera - SP 056\n",
      "62 SP 056\n",
      "Modera - SP 057\n",
      "63 SP 057\n",
      "Modera - SP 061\n",
      "64 SP 061\n",
      "Modera - SP 062\n",
      "65 SP 062\n",
      "Modera - SP 063\n",
      "66 SP 063\n",
      "Modera - SP 064\n",
      "67 SP 064\n",
      "Modera - SP 065\n",
      "68 SP 065\n",
      "Modera - SP 066\n",
      "69 SP 066\n",
      "Modera - SP 068\n",
      "70 SP 068\n",
      "Modera - SP 070\n",
      "71 SP 070\n",
      "Modera - SP 073\n",
      "72 SP 073\n",
      "Modera - SP 075\n",
      "73 SP 075\n",
      "Modera - SP 077\n",
      "74 SP 077\n",
      "Modera - SP 079\n",
      "75 SP 079\n",
      "Modera - SP 081\n",
      "76 SP 081\n",
      "Modera - SP 083\n",
      "77 SP 083\n",
      "Modera - SP 088\n",
      "78 SP 088\n",
      "Modera - SP 091\n",
      "79 SP 091\n",
      "Modera - SP 092\n",
      "80 SP 092\n",
      "Modera - SP 095\n",
      "81 SP 095\n",
      "Modera - SP 097\n",
      "82 SP 097\n",
      "Modera - SP 098\n",
      "83 SP 098\n",
      "Modera - SP 099\n",
      "84 SP 099\n",
      "Modera - SP 101\n",
      "85 SP 101\n",
      "Modera - SP 102\n",
      "86 SP 102\n",
      "Modera - SP 105\n",
      "87 SP 105\n",
      "Modera - SP 107\n",
      "88 SP 107\n",
      "Modera - SP 113\n",
      "89 SP 113\n",
      "Modera - SP 121\n",
      "90 SP 121\n",
      "Modera - SP 122\n",
      "91 SP 122\n",
      "Modera - SP 123\n",
      "92 SP 123\n",
      "Modera - SP 125\n",
      "93 SP 125\n",
      "Modera - SP 127\n",
      "94 SP 127\n",
      "Modera - SP 129\n",
      "95 SP 129\n",
      "Modera - SP 131\n",
      "96 SP 131\n",
      "Modera - SP 132\n",
      "97 SP 132\n",
      "Modera - SP 133\n",
      "98 SP 133\n",
      "Modera - SP 135\n",
      "99 SP 135\n",
      "Modera - SP 139\n",
      "100 SP 139\n",
      "Modera - SP 141\n",
      "101 SP 141\n",
      "Modera - SP 143\n",
      "102 SP 143\n",
      "Modera - SP 147\n",
      "103 SP 147\n",
      "Modera - SP 150\n",
      "104 SP 150\n",
      "Modera - SP 151\n",
      "105 SP 151\n",
      "Modera - SP 153\n",
      "106 SP 153\n",
      "Modera - SP 157\n",
      "107 SP 157\n",
      "Modera - SP 160\n",
      "108 SP 160\n",
      "Modera - SP 165\n",
      "109 SP 165\n",
      "Modera - SP 167\n",
      "110 SP 167\n",
      "Modera - SP 171\n",
      "111 SP 171\n",
      "Modera - SP 176\n",
      "112 SP 176\n",
      "Modera - SP 180\n",
      "113 SP 180\n",
      "Modera - SP 181\n",
      "114 SP 181\n",
      "Modera - SP 183\n",
      "115 SP 183\n",
      "Modera - SP 189\n",
      "116 SP 189\n",
      "Modera - SP 191\n",
      "117 SP 191\n",
      "Modera - SP 193\n",
      "118 SP 193\n",
      "Modera - SP 197\n",
      "119 SP 197\n",
      "Modera - SP 201\n",
      "120 SP 201\n",
      "Modera - SP 207\n",
      "121 SP 207\n",
      "Modera - SP 211\n",
      "122 SP 211\n",
      "Modera - SP 214\n",
      "123 SP 214\n",
      "Modera - SP 215\n",
      "124 SP 215\n",
      "Modera - SP 216\n",
      "125 SP 216\n",
      "Modera - SP 221\n",
      "126 SP 221\n",
      "Modera - SP 222\n",
      "127 SP 222\n",
      "Modera - SP 225\n",
      "128 SP 225\n",
      "Modera - SP 226\n",
      "129 SP 226\n",
      "Modera - SP 228\n",
      "130 SP 228\n",
      "Modera - SP 234\n",
      "131 SP 234\n",
      "Modera - SP 245\n",
      "132 SP 245\n",
      "Modera - SP 247\n",
      "133 SP 247\n",
      "Modera - SP 249\n",
      "134 SP 249\n",
      "Modera - SP 250\n",
      "135 SP 250\n",
      "Modera - SP 251\n",
      "136 SP 251\n",
      "Modera - SP 252\n",
      "137 SP 252\n",
      "Modera - SP 255\n",
      "138 SP 255\n",
      "Modera - SP 257\n",
      "139 SP 257\n",
      "Modera - SP 258\n",
      "140 SP 258\n",
      "Modera - SP 259\n",
      "141 SP 259\n",
      "Modera - SP 261\n",
      "142 SP 261\n",
      "Modera - SP 264\n",
      "143 SP 264\n",
      "Modera - SP 266\n",
      "144 SP 266\n",
      "Modera - SP 267\n",
      "145 SP 267\n",
      "Modera - SP 268\n",
      "146 SP 268\n",
      "Modera - SP 270\n",
      "147 SP 270\n",
      "Modera - SP 271\n",
      "148 SP 271\n",
      "Modera - SP 272\n",
      "149 SP 272\n",
      "Modera - SP 273\n",
      "150 SP 273\n",
      "Modera - SP 274\n",
      "151 SP 274\n",
      "Modera - SP 275\n",
      "152 SP 275\n",
      "Modera - SP 276\n",
      "153 SP 276\n",
      "Modera - SP 278\n",
      "154 SP 278\n",
      "Modera - SP 280\n",
      "155 SP 280\n",
      "Modera - SP 281\n",
      "156 SP 281\n",
      "Modera - SP 284\n",
      "157 SP 284\n",
      "Modera - SP 287\n",
      "158 SP 287\n",
      "Modera - SP 291\n",
      "159 SP 291\n",
      "Modera - SP 293\n",
      "160 SP 293\n",
      "Modera - SP 294\n",
      "161 SP 294\n",
      "Modera - SP 300\n",
      "162 SP 300\n",
      "Modera - SP 303\n",
      "163 SP 303\n",
      "Modera - SP 304\n",
      "164 SP 304\n",
      "Modera - SP 305\n",
      "165 SP 305\n",
      "Modera - SP 306\n",
      "166 SP 306\n",
      "Modera - SP 312\n",
      "167 SP 312\n",
      "Modera - SP 315\n",
      "168 SP 315\n",
      "Modera - SP 316\n",
      "169 SP 316\n",
      "Modera - SP 317\n",
      "170 SP 317\n",
      "Modera - SP 318\n",
      "171 SP 318\n",
      "Modera - SP 319\n",
      "172 SP 319\n",
      "Modera - SP 320\n",
      "173 SP 320\n",
      "Modera - SP 321\n",
      "174 SP 321\n",
      "Modera - SP 322\n",
      "175 SP 322\n",
      "Modera - SP 323\n",
      "176 SP 323\n",
      "Modera - SP 324\n",
      "177 SP 324\n",
      "Modera - SP 326\n",
      "178 SP 326\n",
      "Modera - SP 327\n",
      "179 SP 327\n",
      "Modera - SP 328\n",
      "180 SP 328\n",
      "Modera - SP 330\n",
      "181 SP 330\n",
      "Modera - SP 331\n",
      "182 SP 331\n",
      "Modera - SP 332\n",
      "183 SP 332\n",
      "Modera - SP 333\n",
      "184 SP 333\n",
      "Modera - SP 334\n",
      "185 SP 334\n",
      "Modera - SP 336\n",
      "186 SP 336\n",
      "Modera - SP 338\n",
      "187 SP 338\n",
      "Modera - SP 340\n",
      "188 SP 340\n",
      "Modera - SP 342\n",
      "189 SP 342\n",
      "Modera - SP 344\n",
      "190 SP 344\n",
      "Modera - SP 345\n",
      "191 SP 345\n",
      "Modera - SP 349\n",
      "192 SP 349\n",
      "Modera - SP 350\n",
      "193 SP 350\n",
      "Modera - SP 351\n",
      "194 SP 351\n",
      "Modera - SP 352\n",
      "195 SP 352\n",
      "Modera - SP 353\n",
      "196 SP 353\n",
      "Modera - SP 354\n",
      "197 SP 354\n",
      "Modera - SP 355\n",
      "198 SP 355\n",
      "Modera - SP 360\n",
      "199 SP 360\n",
      "Modera - SP 375\n",
      "200 SP 375\n",
      "Modera - SP 377\n",
      "201 SP 377\n",
      "Modera - SP 379\n",
      "202 SP 379\n",
      "Modera - SP 381\n",
      "203 SP 381\n",
      "Modera - SP 383\n",
      "204 SP 383\n",
      "Modera - SP 385\n",
      "205 SP 385\n",
      "Modera - SP 413\n",
      "206 SP 413\n",
      "Modera - SP 419\n",
      "207 SP 419\n",
      "Modera - SP 421\n",
      "208 SP 421\n",
      "Modera - SP 423\n",
      "209 SP 423\n",
      "Modera - SP 425\n",
      "210 SP 425\n",
      "Modera - SP 427\n",
      "211 SP 427\n",
      "Modera - SP 437\n",
      "212 SP 437\n",
      "Modera - SP 457\n",
      "213 SP 457\n",
      "Modera - SP 461\n",
      "214 SP 461\n",
      "Modera - SP 473\n",
      "215 SP 473\n",
      "Modera - SP 479\n",
      "216 SP 479\n",
      "Modera - SP 483\n",
      "217 SP 483\n",
      "Modera - SP 501\n",
      "218 SP 501\n",
      "Modera - SP 527\n",
      "219 SP 527\n",
      "Modera - SP 541\n",
      "220 SP 541\n",
      "Modera - SP 543\n",
      "221 SP 543\n",
      "Modera - SP 557\n",
      "222 SP 557\n",
      "Modera - SP 561\n",
      "223 SP 561\n",
      "Modera - SP 563\n",
      "224 SP 563\n",
      "Modera - SP 595\n",
      "225 SP 595\n",
      "Modera - SP 613\n",
      "226 SP 613\n",
      "Modera - SPA 109/008\n",
      "227 SPA 109/008\n",
      "Modera - SPA 113/008\n",
      "228 SPA 113/008\n",
      "Modera - SPA 003/010\n",
      "229 SPA 003/010\n",
      "Modera - SPA 009/010\n",
      "230 SPA 009/010\n",
      "Modera - SPA 021/010\n",
      "231 SPA 021/010\n",
      "Modera - SPA 052/031\n",
      "232 SPA 052/031\n",
      "Modera - SPA 058/031\n",
      "233 SPA 058/031\n",
      "Modera - SPA 036/036\n",
      "234 SPA 036/036\n",
      "Modera - SPA 166/042\n",
      "235 SPA 166/042\n",
      "Modera - SPA 074/048\n",
      "236 SPA 074/048\n",
      "Modera - SPA 162/050\n",
      "237 SPA 162/050\n",
      "Modera - 01 SPA 248/055\n",
      "238 01 SPA 248/055\n",
      "Modera - SPA 060/056\n",
      "239 SPA 060/056\n",
      "Modera - SPA 205/058\n",
      "240 SPA 205/058\n",
      "Modera - SPA 021/060\n",
      "241 SPA 021/060\n",
      "Modera - SPA 029/060\n",
      "242 SPA 029/060\n",
      "Modera - SPA 085/060\n",
      "243 SPA 085/060\n",
      "Modera - SPA 099/060\n",
      "244 SPA 099/060\n",
      "Modera - SPA 143/062\n",
      "245 SPA 143/062\n",
      "Modera - SPA 069/066\n",
      "246 SPA 069/066\n",
      "Modera - SPA 073/066\n",
      "247 SPA 073/066\n",
      "Modera - SPA 244/068\n",
      "248 SPA 244/068\n",
      "Modera - SPA 040/079\n",
      "249 SPA 040/079\n",
      "Modera - SPA 103/079\n",
      "250 SPA 103/079\n",
      "Modera - SPA 104/079\n",
      "251 SPA 104/079\n",
      "Modera - SPA 115/079\n",
      "252 SPA 115/079\n",
      "Modera - SPA 033/099\n",
      "253 SPA 033/099\n",
      "Modera - SPA 008/101\n",
      "254 SPA 008/101\n",
      "Modera - SPA 022/101\n",
      "255 SPA 022/101\n",
      "Modera - SPA 026/101\n",
      "256 SPA 026/101\n",
      "Modera - SPA 032/101\n",
      "257 SPA 032/101\n",
      "Modera - SPA 043/101\n",
      "258 SPA 043/101\n",
      "Modera - SPA 051/101\n",
      "259 SPA 051/101\n",
      "Modera - SPA 031/107\n",
      "260 SPA 031/107\n",
      "Modera - SPA 017/123\n",
      "261 SPA 017/123\n",
      "Modera - SPA 003/125\n",
      "262 SPA 003/125\n",
      "Modera - SPA 014/125\n",
      "263 SPA 014/125\n",
      "Modera - SPA 042/125\n",
      "264 SPA 042/125\n",
      "Modera - SPA 043/125\n",
      "265 SPA 043/125\n",
      "Modera - SPA 046/125\n",
      "266 SPA 046/125\n",
      "Modera - SPA 045/127\n",
      "267 SPA 045/127\n",
      "Modera - SPA 079/127\n",
      "268 SPA 079/127\n",
      "Modera - SPA 084/127\n",
      "269 SPA 084/127\n",
      "Modera - SPA 091/127\n",
      "270 SPA 091/127\n",
      "Modera - SPA 097/127\n",
      "271 SPA 097/127\n",
      "Modera - SPA 117/127\n",
      "272 SPA 117/127\n",
      "Modera - SPA 146/127\n",
      "273 SPA 146/127\n",
      "Modera - SPA 012/129\n",
      "274 SPA 012/129\n",
      "Modera - SPA 000/131\n",
      "275 SPA 000/131\n",
      "Modera - SPA 004/131\n",
      "276 SPA 004/131\n",
      "Modera - SPA 099/139\n",
      "277 SPA 099/139\n",
      "Modera - SPA 047/141\n",
      "278 SPA 047/141\n",
      "Modera - SPA 018/143\n",
      "279 SPA 018/143\n",
      "Modera - SPA 019/143\n",
      "280 SPA 019/143\n",
      "Modera - SPA 001/153\n",
      "281 SPA 001/153\n",
      "Modera - SPA 111/165\n",
      "282 SPA 111/165\n",
      "Modera - SPA 163/165\n",
      "283 SPA 163/165\n",
      "Modera - SPA 002/171\n",
      "284 SPA 002/171\n",
      "Modera - SPA 046/171\n",
      "285 SPA 046/171\n",
      "Modera - SPA 084/191\n",
      "286 SPA 084/191\n",
      "Modera - SPA 110/191\n",
      "287 SPA 110/191\n",
      "Modera - SPA 050/193\n",
      "288 SPA 050/193\n",
      "Modera - SPA 055/193\n",
      "289 SPA 055/193\n",
      "Modera - SPA 005/197\n",
      "290 SPA 005/197\n",
      "Modera - SPA 007/209\n",
      "291 SPA 007/209\n",
      "Modera - SPA 050/215\n",
      "292 SPA 050/215\n",
      "Modera - SPA 071/215\n",
      "293 SPA 071/215\n",
      "Modera - SPA 073/215\n",
      "294 SPA 073/215\n",
      "Modera - SPA 111/215\n",
      "295 SPA 111/215\n",
      "Modera - SPA 117/215\n",
      "296 SPA 117/215\n",
      "Modera - SPA 136/215\n",
      "297 SPA 136/215\n",
      "Modera - SPA 147/215\n",
      "298 SPA 147/215\n",
      "Modera - SPA 149/215\n",
      "299 SPA 149/215\n",
      "Modera - SPA 181/215\n",
      "300 SPA 181/215\n",
      "Modera - SPA 196/215\n",
      "301 SPA 196/215\n",
      "Modera - SPA 017/225\n",
      "302 SPA 017/225\n",
      "Modera - SPA 038/225\n",
      "303 SPA 038/225\n",
      "Modera - SPA 044/225\n",
      "304 SPA 044/225\n",
      "Modera - SPA 076/225\n",
      "305 SPA 076/225\n",
      "Modera - SPA 097/225\n",
      "306 SPA 097/225\n",
      "Modera - SPA 101/225\n",
      "307 SPA 101/225\n",
      "Modera - SPA 130/225\n",
      "308 SPA 130/225\n",
      "Modera - SPA 159/225\n",
      "309 SPA 159/225\n",
      "Modera - SPA 160/225\n",
      "310 SPA 160/225\n",
      "Modera - SPA 195/225\n",
      "311 SPA 195/225\n",
      "Modera - SPA 247/225\n",
      "312 SPA 247/225\n",
      "Modera - SPA 277/225\n",
      "313 SPA 277/225\n",
      "Modera - SPA 036/226\n",
      "314 SPA 036/226\n",
      "Modera - SPA 070/230\n",
      "315 SPA 070/230\n",
      "Modera - SPA 459/230\n",
      "316 SPA 459/230\n",
      "Modera - SPA 552/230\n",
      "317 SPA 552/230\n",
      "Modera - SPA 003/245\n",
      "318 SPA 003/245\n",
      "Modera - SPA 005/245\n",
      "319 SPA 005/245\n",
      "Modera - SPA 022/245\n",
      "320 SPA 022/245\n",
      "Modera - SPA 026/245\n",
      "321 SPA 026/245\n",
      "Modera - SPA 010/249\n",
      "322 SPA 010/249\n",
      "Modera - SPA 043/249\n",
      "323 SPA 043/249\n",
      "Modera - SPA 045/249\n",
      "324 SPA 045/249\n",
      "Modera - SPA 111/249\n",
      "325 SPA 111/249\n",
      "Modera - SPA 112/249\n",
      "326 SPA 112/249\n",
      "Modera - SPA 097/250\n",
      "327 SPA 097/250\n",
      "Modera - SPA 142/250\n",
      "328 SPA 142/250\n"
     ]
    },
    {
     "name": "stdout",
     "output_type": "stream",
     "text": [
      "Modera - SPA 173/250\n",
      "329 SPA 173/250\n",
      "Modera - SPA 180/250\n",
      "330 SPA 180/250\n",
      "Modera - SPA 294/250\n",
      "331 SPA 294/250\n",
      "Modera - SPA 062/251\n",
      "332 SPA 062/251\n",
      "Modera - SPA 065/251\n",
      "333 SPA 065/251\n",
      "Modera - SPA 014/253\n",
      "334 SPA 014/253\n",
      "Modera - SPA 129/253\n",
      "335 SPA 129/253\n",
      "Modera - SPA 193/253\n",
      "336 SPA 193/253\n",
      "Modera - SPA 194/253\n",
      "337 SPA 194/253\n",
      "Modera - SPA 197/253\n",
      "338 SPA 197/253\n",
      "Modera - SPA 051/255\n",
      "339 SPA 051/255\n",
      "Modera - SPA 074/255\n",
      "340 SPA 074/255\n",
      "Modera - SPA 077/255\n",
      "341 SPA 077/255\n",
      "Modera - SPA 085/255\n",
      "342 SPA 085/255\n",
      "Modera - SPA 106/255\n",
      "343 SPA 106/255\n",
      "Modera - SPA 112/255\n",
      "344 SPA 112/255\n",
      "Modera - SPA 114/255\n",
      "345 SPA 114/255\n",
      "Modera - SPA 115/255\n",
      "346 SPA 115/255\n",
      "Modera - SPA 133/255\n",
      "347 SPA 133/255\n",
      "Modera - SPA 138/255\n",
      "348 SPA 138/255\n",
      "Modera - SPA 179/255\n",
      "349 SPA 179/255\n",
      "Modera - SPA 196/255\n",
      "350 SPA 196/255\n",
      "Modera - SPA 198/255\n",
      "351 SPA 198/255\n",
      "Modera - SPA 214/255\n",
      "352 SPA 214/255\n",
      "Modera - SPA 258/255\n",
      "353 SPA 258/255\n",
      "Modera - SPA 338/255\n",
      "354 SPA 338/255\n",
      "Modera - SPA 282/258\n",
      "355 SPA 282/258\n",
      "Modera - SPA 283/258\n",
      "356 SPA 283/258\n",
      "Modera - SPA 338/258\n",
      "357 SPA 338/258\n",
      "Modera - SPA 341/258\n",
      "358 SPA 341/258\n",
      "Modera - SPA 324/259\n",
      "359 SPA 324/259\n",
      "Modera - SPA 127/261\n",
      "360 SPA 127/261\n",
      "Modera - SPA 144/261\n",
      "361 SPA 144/261\n",
      "Modera - SPA 502/266\n",
      "362 SPA 502/266\n",
      "Modera - SPA 050/270\n",
      "363 SPA 050/270\n",
      "Modera - SPA 060/270\n",
      "364 SPA 060/270\n",
      "Modera - SPA 092/270\n",
      "365 SPA 092/270\n",
      "Modera - SPA 112/270\n",
      "366 SPA 112/270\n",
      "Modera - SPA 142/270\n",
      "367 SPA 142/270\n",
      "Modera - SPA 145/270\n",
      "368 SPA 145/270\n",
      "Modera - SPA 162/270\n",
      "369 SPA 162/270\n",
      "Modera - SPA 166/270\n",
      "370 SPA 166/270\n",
      "Modera - SPA 204/270\n",
      "371 SPA 204/270\n",
      "Modera - SPA 205/270\n",
      "372 SPA 205/270\n",
      "Modera - SPA 223/270\n",
      "373 SPA 223/270\n",
      "Modera - SPA 245/270\n",
      "374 SPA 245/270\n",
      "Modera - SPA 312/270\n",
      "375 SPA 312/270\n",
      "Modera - SPA 326/270\n",
      "376 SPA 326/270\n",
      "Modera - SPA 350/270\n",
      "377 SPA 350/270\n",
      "Modera - SPA 392/270\n",
      "378 SPA 392/270\n",
      "Modera - SPA 405/270\n",
      "379 SPA 405/270\n",
      "Modera - SPA 424/270\n",
      "380 SPA 424/270\n",
      "Modera - SPA 440/270\n",
      "381 SPA 440/270\n",
      "Modera - SPA 441/270\n",
      "382 SPA 441/270\n",
      "Modera - SPA 471/270\n",
      "383 SPA 471/270\n",
      "Modera - SPA 552/270\n",
      "384 SPA 552/270\n",
      "Modera - SPA 569/270\n",
      "385 SPA 569/270\n",
      "Modera - SPA 608/270\n",
      "386 SPA 608/270\n",
      "Modera - SPA 619/270\n",
      "387 SPA 619/270\n",
      "Modera - SPA 634/270\n",
      "388 SPA 634/270\n",
      "Modera - SPA 637/270\n",
      "389 SPA 637/270\n",
      "Modera - SPA 007/271\n",
      "390 SPA 007/271\n",
      "Modera - SPA 000/272\n",
      "391 SPA 000/272\n",
      "Modera - SPA 007/272\n",
      "392 SPA 007/272\n",
      "Modera - SPA 041/272\n",
      "393 SPA 041/272\n",
      "Modera - SPA 216/280\n",
      "394 SPA 216/280\n",
      "Modera - SPA 032/280\n",
      "395 SPA 032/280\n",
      "Modera - SPA 053/280\n",
      "396 SPA 053/280\n",
      "Modera - SPA 054/280\n",
      "397 SPA 054/280\n",
      "Modera - SPA 115/280\n",
      "398 SPA 115/280\n",
      "Modera - SPA 116/280\n",
      "399 SPA 116/280\n",
      "Modera - SPA 162/280\n",
      "400 SPA 162/280\n",
      "Modera - SPA 039/281\n",
      "401 SPA 039/281\n",
      "Modera - SPA 043/281\n",
      "402 SPA 043/281\n",
      "Modera - SPA 475/284\n",
      "403 SPA 475/284\n",
      "Modera - SPA 498/284\n",
      "404 SPA 498/284\n",
      "Modera - SPA 005/287\n",
      "405 SPA 005/287\n",
      "Modera - SPA 017/287\n",
      "406 SPA 017/287\n",
      "Modera - SPA 030/287\n",
      "407 SPA 030/287\n",
      "Modera - SPA 057/287\n",
      "408 SPA 057/287\n",
      "Modera - SPA 010/291\n",
      "409 SPA 010/291\n",
      "Modera - SPA 026/291\n",
      "410 SPA 026/291\n",
      "Modera - SPA 402/294\n",
      "411 SPA 402/294\n",
      "Modera - SPA 420/294\n",
      "412 SPA 420/294\n",
      "Modera - SPA 458/294\n",
      "413 SPA 458/294\n",
      "Modera - SPA 498/294\n",
      "414 SPA 498/294\n",
      "Modera - SPA 511/294\n",
      "415 SPA 511/294\n",
      "Modera - SPA 561/294\n",
      "416 SPA 561/294\n",
      "Modera - SPA 569/294\n",
      "417 SPA 569/294\n",
      "Modera - SPA 570/294\n",
      "418 SPA 570/294\n",
      "Modera - SPA 578/294\n",
      "419 SPA 578/294\n",
      "Modera - SPA 605/294\n",
      "420 SPA 605/294\n",
      "Modera - SPA 616/294\n",
      "421 SPA 616/294\n",
      "Modera - SPA 627/294\n",
      "422 SPA 627/294\n",
      "Modera - SPA 637/294\n",
      "423 SPA 637/294\n",
      "Modera - SPA 647/294\n",
      "424 SPA 647/294\n",
      "Modera - SPA 658/294\n",
      "425 SPA 658/294\n",
      "Modera - SPA 675/294\n",
      "426 SPA 675/294\n",
      "Modera - 01 SPA 568/300\n",
      "427 01 SPA 568/300\n",
      "Modera - SPA 066/300\n",
      "428 SPA 066/300\n",
      "Modera - SPA 085/300\n",
      "429 SPA 085/300\n",
      "Modera - SPA 097/300\n",
      "430 SPA 097/300\n",
      "Modera - SPA 129/300\n",
      "431 SPA 129/300\n",
      "Modera - SPA 155/300\n",
      "432 SPA 155/300\n",
      "Modera - SPA 157/300\n",
      "433 SPA 157/300\n",
      "Modera - SPA 159/300\n",
      "434 SPA 159/300\n",
      "Modera - SPA 172/300\n",
      "435 SPA 172/300\n",
      "Modera - SPA 176/300\n",
      "436 SPA 176/300\n",
      "Modera - SPA 193/300\n",
      "437 SPA 193/300\n",
      "Modera - SPA 196/300\n",
      "438 SPA 196/300\n",
      "Modera - SPA 231/300\n",
      "439 SPA 231/300\n",
      "Modera - SPA 241/300\n",
      "440 SPA 241/300\n",
      "Modera - SPA 251/300\n",
      "441 SPA 251/300\n",
      "Modera - SPA 254/300\n",
      "442 SPA 254/300\n",
      "Modera - SPA 258/300\n",
      "443 SPA 258/300\n",
      "Modera - SPA 283/300\n",
      "444 SPA 283/300\n",
      "Modera - SPA 323/300\n",
      "445 SPA 323/300\n",
      "Modera - SPA 326/300\n",
      "446 SPA 326/300\n",
      "Modera - SPA 376/300\n",
      "447 SPA 376/300\n",
      "Modera - SPA 388/300\n",
      "448 SPA 388/300\n",
      "Modera - SPA 396/300\n",
      "449 SPA 396/300\n",
      "Modera - SPA 397/300\n",
      "450 SPA 397/300\n",
      "Modera - SPA 422/300\n",
      "451 SPA 422/300\n",
      "Modera - SPA 425/300\n",
      "452 SPA 425/300\n",
      "Modera - SPA 460/300\n",
      "453 SPA 460/300\n",
      "Modera - SPA 476/300\n",
      "454 SPA 476/300\n",
      "Modera - SPA 501/300\n",
      "455 SPA 501/300\n",
      "Modera - SPA 516/300\n",
      "456 SPA 516/300\n",
      "Modera - SPA 553/300\n",
      "457 SPA 553/300\n",
      "Modera - SPA 561/300\n",
      "458 SPA 561/300\n",
      "Modera - SPA 568/300\n",
      "459 SPA 568/300\n",
      "Modera - SPA 576/300\n",
      "460 SPA 576/300\n",
      "Modera - SPA 594/300\n",
      "461 SPA 594/300\n",
      "Modera - SPA 601/300\n",
      "462 SPA 601/300\n",
      "Modera - SPA 607/300\n",
      "463 SPA 607/300\n",
      "Modera - SPA 615/300\n",
      "464 SPA 615/300\n",
      "Modera - SPA 624/300\n",
      "465 SPA 624/300\n",
      "Modera - SPA 127/304\n",
      "466 SPA 127/304\n",
      "Modera - SPA 191/304\n",
      "467 SPA 191/304\n",
      "Modera - SPA 195/304\n",
      "468 SPA 195/304\n",
      "Modera - SPA 198/304\n",
      "469 SPA 198/304\n",
      "Modera - SPA 201/304\n",
      "470 SPA 201/304\n",
      "Modera - SPA 223/304\n",
      "471 SPA 223/304\n",
      "Modera - SPA 227/304\n",
      "472 SPA 227/304\n",
      "Modera - SPA 270/304\n",
      "473 SPA 270/304\n",
      "Modera - SPA 341/304\n",
      "474 SPA 341/304\n",
      "Modera - SPA 363/304\n",
      "475 SPA 363/304\n",
      "Modera - SPA 365/304\n",
      "476 SPA 365/304\n",
      "Modera - SPA 394/304\n",
      "477 SPA 394/304\n",
      "Modera - SPA 016/305\n",
      "478 SPA 016/305\n",
      "Modera - SPA 117/308\n",
      "479 SPA 117/308\n",
      "Modera - SPA 139/308\n",
      "480 SPA 139/308\n",
      "Modera - SPA 155/308\n",
      "481 SPA 155/308\n",
      "Modera - SPA 193/310\n",
      "482 SPA 193/310\n",
      "Modera - SPA 200/310\n",
      "483 SPA 200/310\n",
      "Modera - SPA 268/310\n",
      "484 SPA 268/310\n",
      "Modera - SPA 271/310\n",
      "485 SPA 271/310\n",
      "Modera - SPA 276/310\n",
      "486 SPA 276/310\n",
      "Modera - SPA 301/310\n",
      "487 SPA 301/310\n",
      "Modera - SPA 341/310\n",
      "488 SPA 341/310\n",
      "Modera - SPA 382/310\n",
      "489 SPA 382/310\n",
      "Modera - SPA 402/310\n",
      "490 SPA 402/310\n",
      "Modera - SPA 411/310\n",
      "491 SPA 411/310\n",
      "Modera - SPA 424/310\n",
      "492 SPA 424/310\n",
      "Modera - SPA 430/310\n",
      "493 SPA 430/310\n",
      "Modera - SPA 451/310\n",
      "494 SPA 451/310\n",
      "Modera - SPA 463/310\n",
      "495 SPA 463/310\n",
      "Modera - SPA 498/310\n",
      "496 SPA 498/310\n",
      "Modera - SPA 499/310\n",
      "497 SPA 499/310\n",
      "Modera - SPA 508/310\n",
      "498 SPA 508/310\n",
      "Modera - SPA 520/310\n",
      "499 SPA 520/310\n",
      "Modera - SPA 555/310\n",
      "500 SPA 555/310\n",
      "Modera - SPA 605/310\n",
      "501 SPA 605/310\n",
      "Modera - SPA 053/312\n",
      "502 SPA 053/312\n",
      "Modera - SPA 020/317\n",
      "503 SPA 020/317\n",
      "Modera - SPA 463/320\n",
      "504 SPA 463/320\n",
      "Modera - 06 SPA 626/320\n",
      "505 06 SPA 626/320\n",
      "Modera - SPA 478/320\n",
      "506 SPA 478/320\n",
      "Modera - SPA 498/320\n",
      "507 SPA 498/320\n",
      "Modera - SPA 499/320\n",
      "508 SPA 499/320\n",
      "Modera - SPA 529/320\n",
      "509 SPA 529/320\n",
      "Modera - SPA 541/320\n",
      "510 SPA 541/320\n",
      "Modera - SPA 550/320\n",
      "511 SPA 550/320\n",
      "Modera - SPA 554/320\n",
      "512 SPA 554/320\n",
      "Modera - SPA 599/320\n",
      "513 SPA 599/320\n",
      "Modera - SPA 610/320\n",
      "514 SPA 610/320\n",
      "Modera - SPA 617/320\n",
      "515 SPA 617/320\n",
      "Modera - SPA 626/320\n",
      "516 SPA 626/320\n",
      "Modera - SPA 627/320\n",
      "517 SPA 627/320\n",
      "Modera - SPA 473/321\n",
      "518 SPA 473/321\n",
      "Modera - SPA 314/322\n",
      "519 SPA 314/322\n",
      "Modera - SPA 321/322\n",
      "520 SPA 321/322\n",
      "Modera - SPA 325/322\n",
      "521 SPA 325/322\n",
      "Modera - SPA 333/322\n",
      "522 SPA 333/322\n",
      "Modera - SPA 336/322\n",
      "523 SPA 336/322\n",
      "Modera - SPA 343/322\n",
      "524 SPA 343/322\n",
      "Modera - SPA 364/322\n",
      "525 SPA 364/322\n",
      "Modera - SPA 375/322\n",
      "526 SPA 375/322\n",
      "Modera - SPA 411/322\n",
      "527 SPA 411/322\n",
      "Modera - SPA 419/322\n",
      "528 SPA 419/322\n",
      "Modera - SPA 426/322\n",
      "529 SPA 426/322\n",
      "Modera - SPA 442/322\n",
      "530 SPA 442/322\n",
      "Modera - SPA 458/322\n",
      "531 SPA 458/322\n",
      "Modera - SPA 462/322\n",
      "532 SPA 462/322\n",
      "Modera - SPA 523/322\n",
      "533 SPA 523/322\n",
      "Modera - SPA 601/322\n",
      "534 SPA 601/322\n",
      "Modera - SPA 031/323\n",
      "535 SPA 031/323\n",
      "Modera - SPA 302/326\n",
      "536 SPA 302/326\n",
      "Modera - SPA 312/326\n",
      "537 SPA 312/326\n",
      "Modera - SPA 318/326\n",
      "538 SPA 318/326\n",
      "Modera - SPA 336/326\n",
      "539 SPA 336/326\n",
      "Modera - SPA 341/326\n",
      "540 SPA 341/326\n",
      "Modera - SPA 357/326\n",
      "541 SPA 357/326\n",
      "Modera - SPA 379/326\n",
      "542 SPA 379/326\n",
      "Modera - SPA 405/326\n",
      "543 SPA 405/326\n",
      "Modera - SPA 421/326\n",
      "544 SPA 421/326\n",
      "Modera - SPA 453/326\n",
      "545 SPA 453/326\n",
      "Modera - SPA 007/327\n",
      "546 SPA 007/327\n",
      "Modera - SPA 026/327\n",
      "547 SPA 026/327\n",
      "Modera - SPA 238/328\n",
      "548 SPA 238/328\n",
      "Modera - SPA 244/328\n",
      "549 SPA 244/328\n",
      "Modera - SPA 250/328\n",
      "550 SPA 250/328\n",
      "Modera - SPA 335/328\n",
      "551 SPA 335/328\n",
      "Modera - SPA 468/328\n",
      "552 SPA 468/328\n",
      "Modera - SPA 470/328\n",
      "553 SPA 470/328\n",
      "Modera - SPA 015/330\n",
      "554 SPA 015/330\n",
      "Modera - SPA 075/330\n",
      "555 SPA 075/330\n",
      "Modera - SPA 082/330\n",
      "556 SPA 082/330\n",
      "Modera - SPA 115/330\n",
      "557 SPA 115/330\n",
      "Modera - SPA 119/330\n",
      "558 SPA 119/330\n",
      "Modera - SPA 193/330\n",
      "559 SPA 193/330\n",
      "Modera - SPA 194/330\n",
      "560 SPA 194/330\n",
      "Modera - SPA 198/330\n",
      "561 SPA 198/330\n",
      "Modera - SPA 241/330\n",
      "562 SPA 241/330\n",
      "Modera - SPA 307/330\n",
      "563 SPA 307/330\n",
      "Modera - SPA 318/330\n",
      "564 SPA 318/330\n",
      "Modera - SPA 327/330\n",
      "565 SPA 327/330\n",
      "Modera - SPA 355/330\n",
      "566 SPA 355/330\n",
      "Modera - SPA 381/330\n",
      "567 SPA 381/330\n",
      "Modera - SPA 410/330\n",
      "568 SPA 410/330\n",
      "Modera - SPA 426/330\n",
      "569 SPA 426/330\n",
      "Modera - SPA 027/331\n",
      "570 SPA 027/331\n",
      "Modera - SPA 040/331\n",
      "571 SPA 040/331\n",
      "Modera - SPA 128/331\n",
      "572 SPA 128/331\n",
      "Modera - SPA 168/331\n",
      "573 SPA 168/331\n",
      "Modera - SPA 196/331\n",
      "574 SPA 196/331\n",
      "Modera - SPA 202/331\n",
      "575 SPA 202/331\n",
      "Modera - SPA 042/332\n",
      "576 SPA 042/332\n",
      "Modera - SPA 053/332\n",
      "577 SPA 053/332\n",
      "Modera - SPA 114/332\n",
      "578 SPA 114/332\n",
      "Modera - SPA 129/332\n",
      "579 SPA 129/332\n",
      "Modera - SPA 002/333\n",
      "580 SPA 002/333\n",
      "Modera - SPA 015/333\n",
      "581 SPA 015/333\n",
      "Modera - SPA 024/333\n",
      "582 SPA 024/333\n",
      "Modera - SPA 039/333\n",
      "583 SPA 039/333\n",
      "Modera - SPA 098/333\n",
      "584 SPA 098/333\n",
      "Modera - SPA 107/333\n",
      "585 SPA 107/333\n",
      "Modera - SPA 112/333\n",
      "586 SPA 112/333\n",
      "Modera - SPA 119/333\n",
      "587 SPA 119/333\n",
      "Modera - SPA 145/333\n",
      "588 SPA 145/333\n",
      "Modera - SPA 147/333\n",
      "589 SPA 147/333\n",
      "Modera - SPA 160/333\n",
      "590 SPA 160/333\n",
      "Modera - SPA 168/333\n",
      "591 SPA 168/333\n",
      "Modera - SPA 182/333\n",
      "592 SPA 182/333\n",
      "Modera - SPA 209/333\n",
      "593 SPA 209/333\n",
      "Modera - SPA 245/333\n",
      "594 SPA 245/333\n",
      "Modera - SPA 274/333\n",
      "595 SPA 274/333\n",
      "Modera - SPA 370/333\n",
      "596 SPA 370/333\n",
      "Modera - SPA 409/333\n",
      "597 SPA 409/333\n",
      "Modera - SPA 321/334\n",
      "598 SPA 321/334\n",
      "Modera - SPA 334/334\n",
      "599 SPA 334/334\n",
      "Modera - SPA 384/334\n",
      "600 SPA 384/334\n",
      "Modera - SPA 397/334\n",
      "601 SPA 397/334\n"
     ]
    },
    {
     "name": "stdout",
     "output_type": "stream",
     "text": [
      "Modera - SPA 407/334\n",
      "602 SPA 407/334\n",
      "Modera - SPA 420/334\n",
      "603 SPA 420/334\n",
      "Modera - SPA 455/334\n",
      "604 SPA 455/334\n",
      "Modera - SPA 457/334\n",
      "605 SPA 457/334\n",
      "Modera - SPA 309/338\n",
      "606 SPA 309/338\n",
      "Modera - SPA 310/338\n",
      "607 SPA 310/338\n",
      "Modera - SPA 127/340\n",
      "608 SPA 127/340\n",
      "Modera - SPA 179/340\n",
      "609 SPA 179/340\n",
      "Modera - SPA 225/340\n",
      "610 SPA 225/340\n",
      "Modera - SPA 239/340\n",
      "611 SPA 239/340\n",
      "Modera - SPA 279/340\n",
      "612 SPA 279/340\n",
      "Modera - SPA 280/340\n",
      "613 SPA 280/340\n",
      "Modera - SPA 208/342\n",
      "614 SPA 208/342\n",
      "Modera - SPA 212/342\n",
      "615 SPA 212/342\n",
      "Modera - SPA 226/342\n",
      "616 SPA 226/342\n",
      "Modera - SPA 230/342\n",
      "617 SPA 230/342\n",
      "Modera - SPA 233/342\n",
      "618 SPA 233/342\n",
      "Modera - SPA 251/342\n",
      "619 SPA 251/342\n",
      "Modera - SPA 223/344\n",
      "620 SPA 223/344\n",
      "Modera - SPA 228/344\n",
      "621 SPA 228/344\n",
      "Modera - SPA 238/344\n",
      "622 SPA 238/344\n",
      "Modera - SPA 244/344\n",
      "623 SPA 244/344\n",
      "Modera - SPA 264/344\n",
      "624 SPA 264/344\n",
      "Modera - SPA 274/344\n",
      "625 SPA 274/344\n",
      "Modera - SPA 277/344\n",
      "626 SPA 277/344\n",
      "Modera - SPA 011/345\n",
      "627 SPA 011/345\n",
      "Modera - SPA 020/345\n",
      "628 SPA 020/345\n",
      "Modera - SPA 032/345\n",
      "629 SPA 032/345\n",
      "Modera - SPA 059/345\n",
      "630 SPA 059/345\n",
      "Modera - SPA 101/345\n",
      "631 SPA 101/345\n",
      "Modera - SPA 203/346\n",
      "632 SPA 203/346\n",
      "Modera - SPA 264/350\n",
      "633 SPA 264/350\n",
      "Modera - SPA 270/350\n",
      "634 SPA 270/350\n",
      "Modera - SPA 003/351\n",
      "635 SPA 003/351\n",
      "Modera - SPA 012/351\n",
      "636 SPA 012/351\n",
      "Modera - SPA 022/351\n",
      "637 SPA 022/351\n",
      "Modera - SPA 025/351\n",
      "638 SPA 025/351\n",
      "Modera - SPA 033/351\n",
      "639 SPA 033/351\n",
      "Modera - SPA 048/351\n",
      "640 SPA 048/351\n",
      "Modera - SPA 103/351\n",
      "641 SPA 103/351\n",
      "Modera - SPA 135/351\n",
      "642 SPA 135/351\n",
      "Modera - SPA 212/351\n",
      "643 SPA 212/351\n",
      "Modera - SPA 070/354\n",
      "644 SPA 070/354\n",
      "Modera - SPA 067/360\n",
      "645 SPA 067/360\n",
      "Modera - SPA 137/360\n",
      "646 SPA 137/360\n",
      "Modera - SPA 148/360\n",
      "647 SPA 148/360\n",
      "Modera - SPA 140/373\n",
      "648 SPA 140/373\n",
      "Modera - SPA 004/379\n",
      "649 SPA 004/379\n",
      "Modera - SPA 039/379\n",
      "650 SPA 039/379\n",
      "Modera - SPA 041/379\n",
      "651 SPA 041/379\n",
      "Modera - SPA 012/383\n",
      "652 SPA 012/383\n",
      "Modera - SPA 028/387\n",
      "653 SPA 028/387\n",
      "Modera - SPA 030/387\n",
      "654 SPA 030/387\n",
      "Modera - SPA 038/387\n",
      "655 SPA 038/387\n",
      "Modera - SPA 108/387\n",
      "656 SPA 108/387\n",
      "Modera - SPA 174/387\n",
      "657 SPA 174/387\n",
      "Modera - SPA 183/387\n",
      "658 SPA 183/387\n",
      "Modera - SPA 195/387\n",
      "659 SPA 195/387\n",
      "Modera - SPA 209/387\n",
      "660 SPA 209/387\n",
      "Modera - SPA 287/387\n",
      "661 SPA 287/387\n",
      "Modera - SPA 303/387\n",
      "662 SPA 303/387\n",
      "Modera - SPA 016/419\n",
      "663 SPA 016/419\n",
      "Modera - SPA 047/421\n",
      "664 SPA 047/421\n",
      "Modera - SPA 048/421\n",
      "665 SPA 048/421\n",
      "Modera - SPA 007/423\n",
      "666 SPA 007/423\n",
      "Modera - SPA 018/423\n",
      "667 SPA 018/423\n",
      "Modera - SPA 028/425\n",
      "668 SPA 028/425\n",
      "Modera - SPA 058/425\n",
      "669 SPA 058/425\n",
      "Modera - SPA 061/425\n",
      "670 SPA 061/425\n",
      "Modera - SPA 137/425\n",
      "671 SPA 137/425\n",
      "Modera - SPA 228/425\n",
      "672 SPA 228/425\n",
      "Modera - SPA 244/425\n",
      "673 SPA 244/425\n",
      "Modera - SPA 266/425\n",
      "674 SPA 266/425\n",
      "Modera - SPA 328/425\n",
      "675 SPA 328/425\n",
      "Modera - SPA 339/425\n",
      "676 SPA 339/425\n",
      "Modera - SPA 363/425\n",
      "677 SPA 363/425\n",
      "Modera - SPA 373/425\n",
      "678 SPA 373/425\n",
      "Modera - SPA 430/425\n",
      "679 SPA 430/425\n",
      "Modera - SPA 431/425\n",
      "680 SPA 431/425\n",
      "Modera - SPA 481/425\n",
      "681 SPA 481/425\n",
      "Modera - SPA 060/457\n",
      "682 SPA 060/457\n",
      "Modera - SPA 019/461\n",
      "683 SPA 019/461\n",
      "Modera - SPA 076/461\n",
      "684 SPA 076/461\n",
      "Modera - SPA 137/461\n",
      "685 SPA 137/461\n",
      "Modera - SPA 164/461\n",
      "686 SPA 164/461\n",
      "Modera - SPA 075/463\n",
      "687 SPA 075/463\n",
      "Modera - SPA 096/463\n",
      "688 SPA 096/463\n",
      "Modera - SPA 157/463\n",
      "689 SPA 157/463\n",
      "Modera - SPA 169/463\n",
      "690 SPA 169/463\n",
      "Modera - SPA 174/463\n",
      "691 SPA 174/463\n",
      "Modera - SPA 025/479\n",
      "692 SPA 025/479\n",
      "Modera - SPA 040/479\n",
      "693 SPA 040/479\n",
      "Modera - SPA 009/483\n",
      "694 SPA 009/483\n",
      "Modera - SPA 030/501\n",
      "695 SPA 030/501\n",
      "Modera - SPA 014/527\n",
      "696 SPA 014/527\n",
      "Modera - SPA 571/543\n",
      "697 SPA 571/543\n",
      "Modera - SPA 579/543\n",
      "698 SPA 579/543\n",
      "Modera - SPA 001/563\n",
      "699 SPA 001/563\n",
      "Modera - SPA 056/272\n",
      "700 SPA 056/272\n",
      "Modera - SPA 051/563\n",
      "701 SPA 051/563\n",
      "Modera - SPA 080/563\n",
      "702 SPA 080/563\n",
      "Modera - SPA 127/563\n",
      "703 SPA 127/563\n",
      "Modera - SPA 141/563\n",
      "704 SPA 141/563\n",
      "Modera - SPA 142/563\n",
      "705 SPA 142/563\n",
      "Modera - SPA 147/563\n",
      "706 SPA 147/563\n",
      "Modera - SPA 308/563\n",
      "707 SPA 308/563\n",
      "Modera - SPA 314/563\n",
      "708 SPA 314/563\n",
      "Modera - SPA 322/563\n",
      "709 SPA 322/563\n",
      "Modera - SPA 331/563\n",
      "710 SPA 331/563\n",
      "Modera - SPA 349/563\n",
      "711 SPA 349/563\n",
      "Modera - SPA 022/595\n",
      "712 SPA 022/595\n",
      "Modera - SPA 106/595\n",
      "713 SPA 106/595\n",
      "Modera - SPA 110/595\n",
      "714 SPA 110/595\n",
      "Modera - SPA 111/595\n",
      "715 SPA 111/595\n",
      "Modera - SPA 121/595\n",
      "716 SPA 121/595\n",
      "Modera - SPA 041/613\n",
      "717 SPA 041/613\n",
      "Modera - SPA 074/613\n",
      "718 SPA 074/613\n",
      "Modera - SPA 322/267\n",
      "719 SPA 322/267\n",
      "Modera - SPI 035/056\n",
      "720 SPI 035/056\n",
      "Modera - SPI 179/060\n",
      "721 SPI 179/060\n",
      "Modera - SPI 040/150\n",
      "722 SPI 040/150\n",
      "Modera - SPI 059/150\n",
      "723 SPI 059/150\n",
      "Modera - SPI 083/191\n",
      "724 SPI 083/191\n",
      "Modera - SPI 460/266\n",
      "725 SPI 460/266\n",
      "Modera - SPI 274/310\n",
      "726 SPI 274/310\n",
      "Modera - SPI 328/326\n",
      "727 SPI 328/326\n",
      "Modera - SPI 102/330\n",
      "728 SPI 102/330\n",
      "Modera - SPI 165/330\n",
      "729 SPI 165/330\n",
      "Modera - SPI 225/342\n",
      "730 SPI 225/342\n",
      "Modera - BR 116\n",
      "731 BR 116\n",
      "Modera - BR 354\n",
      "732 BR 354\n",
      "Modera - BR 459\n",
      "733 BR 459\n",
      "Modera - BR 383\n",
      "734 BR 383\n",
      "Modera - BR 488\n",
      "735 BR 488\n",
      "Modera - SPA 572/322\n",
      "736 SPA 572/322\n",
      "Modera - 05 SPA 631/320\n",
      "737 05 SPA 631/320\n",
      "Modera - SPA 492/310\n",
      "738 SPA 492/310\n",
      "Modera - SPA 134/008\n",
      "739 SPA 134/008\n",
      "Modera - SPA 576/270\n",
      "740 SPA 576/270\n",
      "Modera - SPA 165/055\n",
      "741 SPA 165/055\n",
      "Modera - SPA 175/055\n",
      "742 SPA 175/055\n",
      "Modera - SPA 504/284\n",
      "743 SPA 504/284\n",
      "Modera - SPA 519/284\n",
      "744 SPA 519/284\n",
      "Modera - SPA 602/322\n",
      "745 SPA 602/322\n",
      "Modera - SPA 128/330\n",
      "746 SPA 128/330\n",
      "Modera - SPA 128/332\n",
      "747 SPA 128/332\n",
      "Modera - SPI 102/300\n",
      "748 SPI 102/300\n",
      "Modera - SP 308\n",
      "749 SP 308\n",
      "Modera - SP 348\n",
      "750 SP 348\n",
      "Modera - 06 SPA 053/280\n",
      "751 06 SPA 053/280\n",
      "Modera - SPA 652/270\n",
      "752 SPA 652/270\n",
      "Modera - SPA 553/270\n",
      "753 SPA 553/270\n",
      "Modera - SPA 597/270\n",
      "754 SPA 597/270\n",
      "Modera - BR 153\n",
      "755 BR 153\n",
      "Modera - BR 381\n",
      "756 BR 381\n",
      "Modera - SPA 122/065\n",
      "757 SPA 122/065\n",
      "Modera - SP 209\n",
      "758 SP 209\n",
      "Modera - SPA 270/300\n",
      "759 SPA 270/300\n",
      "Modera - SPA 586/270\n",
      "760 SPA 586/270\n",
      "Modera - BR 158\n",
      "761 BR 158\n",
      "Modera - SPA 086/021\n",
      "762 SPA 086/021\n",
      "Modera - SP 052\n",
      "763 SP 052\n",
      "Modera - BR 101\n",
      "764 BR 101\n",
      "Modera - SPA 035/099\n",
      "765 SPA 035/099\n",
      "Modera - SP 054\n",
      "766 SP 054\n",
      "Modera - SPA 352/334\n",
      "767 SPA 352/334\n",
      "Modera - SPA 348/334\n",
      "768 SPA 348/334\n",
      "Modera - SP 050\n",
      "769 SP 050\n",
      "Modera - SP 058\n",
      "770 SP 058\n",
      "Modera - SP 103\n",
      "771 SP 103\n",
      "Modera - SPA 228/225\n",
      "772 SPA 228/225\n",
      "Modera - SPA 006/293\n",
      "773 SPA 006/293\n",
      "Modera - SPA 017/293\n",
      "774 SPA 017/293\n",
      "Modera - SPA 354/294\n",
      "775 SPA 354/294\n",
      "Modera - SPA 360/294\n",
      "776 SPA 360/294\n",
      "Modera - SPA 018/315\n",
      "777 SPA 018/315\n",
      "Modera - SPA 020/315\n",
      "778 SPA 020/315\n",
      "Modera - SPA 372/321\n",
      "779 SPA 372/321\n",
      "Modera - SPA 390/321\n",
      "780 SPA 390/321\n",
      "Modera - SPA 018/461\n",
      "781 SPA 018/461\n",
      "Modera - SPA 052/461\n",
      "782 SPA 052/461\n",
      "Modera - SPA 065/461\n",
      "783 SPA 065/461\n",
      "Modera - SPA 653/300\n",
      "784 SPA 653/300\n",
      "Modera - SPA 172/563\n",
      "785 SPA 172/563\n",
      "Modera - 06 SPA 364/310\n",
      "786 06 SPA 364/310\n",
      "Modera - 08 SPA 364/310\n",
      "787 08 SPA 364/310\n",
      "Modera - SPA 364/310\n",
      "788 SPA 364/310\n",
      "Modera - SPA 375/310\n",
      "789 SPA 375/310\n",
      "Modera - SPA 395/310\n",
      "790 SPA 395/310\n",
      "Modera - SPA 423/310\n",
      "791 SPA 423/310\n",
      "Modera - SPA 194/351\n",
      "792 SPA 194/351\n",
      "Modera - SPA 011/379\n",
      "793 SPA 011/379\n",
      "Modera - SPA 024/379\n",
      "794 SPA 024/379\n",
      "Modera - SPA 473/310\n",
      "795 SPA 473/310\n",
      "Modera - SPA 482/310\n",
      "796 SPA 482/310\n",
      "Modera - SPA 171/425\n",
      "797 SPA 171/425\n",
      "Modera - SPA 020/427\n",
      "798 SPA 020/427\n",
      "Modera - SPA 569/320\n",
      "799 SPA 569/320\n",
      "Modera - SPA 631/320\n",
      "800 SPA 631/320\n",
      "Modera - SPA 129/463\n",
      "801 SPA 129/463\n",
      "Modera - SP 487\n",
      "802 SP 487\n",
      "Modera - SPA 079/613\n",
      "803 SPA 079/613\n",
      "Modera - SPA 617/294\n",
      "804 SPA 617/294\n",
      "Modera - SPA 648/294\n",
      "805 SPA 648/294\n",
      "Modera - SPA 360/425\n",
      "806 SPA 360/425\n",
      "Modera - SPA 140/563\n",
      "807 SPA 140/563\n",
      "Modera - SPA 585/294\n",
      "808 SPA 585/294\n",
      "Modera - SPA 473/322\n",
      "809 SPA 473/322\n",
      "Modera - SPA 437/425\n",
      "810 SPA 437/425\n",
      "Modera - SPA 540/322\n",
      "811 SPA 540/322\n",
      "Modera - SPA 542/322\n",
      "812 SPA 542/322\n",
      "Modera - SPA 040/323\n",
      "813 SPA 040/323\n",
      "Modera - SPA 344/055\n",
      "814 SPA 344/055\n",
      "Modera - SPA 248/055\n",
      "815 SPA 248/055\n",
      "Modera - SP 148\n",
      "816 SP 148\n",
      "Modera - SP 008\n",
      "817 SP 008\n",
      "Modera - SP 463\n",
      "818 SP 463\n",
      "Modera - SPA 030/323\n",
      "819 SPA 030/323\n",
      "Modera - SPA 009/141\n",
      "820 SPA 009/141\n",
      "Modera - SPA 284/258\n",
      "821 SPA 284/258\n",
      "Modera - SPA 181/463\n",
      "822 SPA 181/463\n",
      "Modera - SP 310\n",
      "823 SP 310\n",
      "Modera - SPA 442/266\n",
      "824 SPA 442/266\n",
      "Modera - SPA 069/387\n",
      "825 SPA 069/387\n",
      "Modera - SPA 621/310\n",
      "826 SPA 621/310\n",
      "Modera - SPA 311/425\n",
      "827 SPA 311/425\n",
      "Modera - SPA 029/312\n",
      "828 SPA 029/312\n",
      "Modera - SPA 126/563\n",
      "829 SPA 126/563\n",
      "Modera - SPI 627/310\n",
      "830 SPI 627/310\n",
      "Modera - SPA 501/425\n",
      "831 SPA 501/425\n",
      "Modera - SPA 162/387\n",
      "832 SPA 162/387\n",
      "Modera - SPA 220/052\n",
      "833 SPA 220/052\n",
      "Modera - SPA 032/099\n",
      "834 SPA 032/099\n",
      "Modera - SPA 227/058\n",
      "835 SPA 227/058\n",
      "Modera - SPA 498/322\n",
      "836 SPA 498/322\n",
      "Modera - SP 346\n",
      "837 SP 346\n",
      "Modera - SPI 172/060\n",
      "838 SPI 172/060\n",
      "Modera - SPA 483/300\n",
      "839 SPA 483/300\n",
      "Modera - SPA 045/107\n",
      "840 SPA 045/107\n",
      "Modera - SPI 084/066\n",
      "841 SPI 084/066\n",
      "Modera - SPA 110/330\n",
      "842 SPA 110/330\n",
      "Modera - SPA 110/062\n",
      "843 SPA 110/062\n",
      "Modera - SPI 060/270\n",
      "844 SPI 060/270\n",
      "Modera - SPI 177/342\n",
      "845 SPI 177/342\n",
      "Modera - SP 373\n",
      "846 SP 373\n",
      "Modera - SP 253\n",
      "847 SP 253\n",
      "Modera - SPI 016/021\n",
      "848 SPI 016/021\n",
      "Modera - SPA 262/258\n",
      "849 SPA 262/258\n",
      "Modera - SPA 265/258\n",
      "850 SPA 265/258\n",
      "Modera - SPI 194/308\n",
      "851 SPI 194/308\n",
      "Modera - SPA 565/310\n",
      "852 SPA 565/310\n",
      "Modera - SPI 054/147\n",
      "853 SPI 054/147\n",
      "Modera - SPA 015/303\n",
      "854 SPA 015/303\n",
      "Modera - SPA 327/387\n",
      "855 SPA 327/387\n",
      "Modera - SPA 097/457\n",
      "856 SPA 097/457\n",
      "Modera - SPI 162/308\n",
      "857 SPI 162/308\n",
      "Modera - SPA 175/387\n",
      "858 SPA 175/387\n",
      "Modera - SPA 654/270\n",
      "859 SPA 654/270\n",
      "Modera - SPA 488/425\n",
      "860 SPA 488/425\n",
      "Modera - SPI 097/055\n",
      "861 SPI 097/055\n",
      "Modera - SPI 117/060\n",
      "862 SPI 117/060\n",
      "Modera - BR 262\n",
      "863 BR 262\n",
      "Modera - SPA 592/294\n",
      "864 SPA 592/294\n",
      "Modera - SPA 517/284\n",
      "865 SPA 517/284\n",
      "Modera - SPA 000/563\n",
      "866 SPA 000/563\n",
      "Modera - SPA 683/294\n",
      "867 SPA 683/294\n",
      "Modera - SPA 008/457\n",
      "868 SPA 008/457\n",
      "Modera - SPA 348/310\n",
      "869 SPA 348/310\n",
      "Modera - SPA 291/055\n",
      "870 SPA 291/055\n",
      "Modera - SPA 606/294\n",
      "871 SPA 606/294\n",
      "Modera - SPA 004/257\n",
      "872 SPA 004/257\n",
      "Modera - SPI 087/270\n",
      "873 SPI 087/270\n",
      "Modera - SPA 029/207\n",
      "874 SPA 029/207\n",
      "Modera - SPA 135/065\n",
      "875 SPA 135/065\n",
      "Modera - SPI 486/300\n",
      "876 SPI 486/300\n",
      "Modera - SPA 321/387\n",
      "877 SPA 321/387\n",
      "Modera - SPA 571/294\n",
      "878 SPA 571/294\n"
     ]
    },
    {
     "name": "stdout",
     "output_type": "stream",
     "text": [
      "Modera - SPA 160/250\n",
      "879 SPA 160/250\n",
      "Modera - SPA 037/099\n",
      "880 SPA 037/099\n",
      "Modera - SPA 092/060\n",
      "881 SPA 092/060\n",
      "Modera - SPA 133/062\n",
      "882 SPA 133/062\n",
      "Modera - SPA 016/421\n",
      "883 SPA 016/421\n",
      "Modera - SPA 029/421\n",
      "884 SPA 029/421\n",
      "Modera - SPA 086/270\n",
      "885 SPA 086/270\n",
      "Modera - SPA 091/270\n",
      "886 SPA 091/270\n",
      "Modera - SPA 132/421\n",
      "887 SPA 132/421\n",
      "Modera - SPA 477/425\n",
      "888 SPA 477/425\n",
      "Modera - SPA 568/320\n",
      "889 SPA 568/320\n",
      "Modera - 01 SPA 018/461\n",
      "890 01 SPA 018/461\n",
      "Modera - SPI 065/099\n",
      "891 SPI 065/099\n"
     ]
    }
   ],
   "source": [
    "for i,a in enumerate(Road.objects.filter(company__name=\"Demo Concessionárias\")):\n",
    "    if 'modera' in a.name.lower():\n",
    "        print(a.name)\n",
    "        a.name = a.name.replace('Modera - ',str(str(i)+' '))\n",
    "        print(a.name)\n",
    "        with DisableSignals():\n",
    "            a.save()"
   ]
  },
  {
   "cell_type": "code",
   "execution_count": 5,
   "id": "8f16f6ed",
   "metadata": {},
   "outputs": [],
   "source": [
    "from tqdm.notebook import tqdm\n",
    "from helpers.signals import DisableSignals"
   ]
  },
  {
   "cell_type": "code",
   "execution_count": 8,
   "id": "e5192176",
   "metadata": {},
   "outputs": [
    {
     "data": {
      "text/plain": [
       "0"
      ]
     },
     "execution_count": 8,
     "metadata": {},
     "output_type": "execute_result"
    }
   ],
   "source": [
    "reps = Reporting.objects.filter(company__name='Entrevias', \n",
    "                               occurrence_type='a5314341-194f-4cdb-8169-a5177f46fc87', \n",
    "                               status='3067707f-1eab-44af-b344-b346fda654ac', \n",
    "                               firm__in=['0dc0862e-579b-40af-aa51-8cff6de82d89', '97833756-3387-4e1e-9610-ea4f2d3793cd'])\n",
    "reps.count()"
   ]
  },
  {
   "cell_type": "code",
   "execution_count": 7,
   "id": "53990feb",
   "metadata": {},
   "outputs": [
    {
     "data": {
      "application/vnd.jupyter.widget-view+json": {
       "model_id": "0da6bfeb40364feabaebd1d7b304be02",
       "version_major": 2,
       "version_minor": 0
      },
      "text/plain": [
       "  0%|          | 0/63 [00:00<?, ?it/s]"
      ]
     },
     "metadata": {},
     "output_type": "display_data"
    }
   ],
   "source": [
    "for _ in tqdm(range(63)):\n",
    "    rep_uuids = reps.values_list('uuid', flat=True)[:1000]\n",
    "    reportings = Reporting.objects.filter(uuid__in=rep_uuids)\n",
    "    with DisableSignals():\n",
    "        reportings.delete()"
   ]
  },
  {
   "cell_type": "code",
   "execution_count": null,
   "id": "80656066",
   "metadata": {},
   "outputs": [],
   "source": []
  },
  {
   "cell_type": "code",
   "execution_count": 37,
   "id": "a18beaaf",
   "metadata": {},
   "outputs": [],
   "source": [
    "from helpers.strings import get_obj_from_path\n",
    "from helpers.apps.reportings import get_lane\n",
    "from tqdm.notebook import tqdm\n",
    "import pandas as pd"
   ]
  },
  {
   "cell_type": "code",
   "execution_count": 38,
   "id": "000011a5",
   "metadata": {},
   "outputs": [
    {
     "data": {
      "text/plain": [
       "<QuerySet [<Company: acd47ed7-4f96-4a27-b6a3-268b4e30779b: Arteris Planalto Sul>, <Company: 9763a1c5-3be6-4ddb-90bc-e6b96cc60b8d: Arteris Litoral Sul>, <Company: 9f11c666-9324-4d2c-8378-4648157b838b: Arteris Régis Bittencourt>]>"
      ]
     },
     "execution_count": 38,
     "metadata": {},
     "output_type": "execute_result"
    }
   ],
   "source": [
    "companies = Company.objects.filter(name__in=['Arteris Litoral Sul','Arteris Régis Bittencourt','Arteris Planalto Sul'])\n",
    "companies"
   ]
  },
  {
   "cell_type": "code",
   "execution_count": 78,
   "id": "0173c3fc",
   "metadata": {},
   "outputs": [],
   "source": [
    "def get_connected_reference(company, resource, key, value):\n",
    "    select_options = get_obj_from_path(company.custom_options, \"{}__fields__{}__selectoptions__options\".format(resource, key))\n",
    "    return next(a['name'] for a in select_options if a['value'] == value)"
   ]
  },
  {
   "cell_type": "code",
   "execution_count": 79,
   "id": "a785eede",
   "metadata": {},
   "outputs": [],
   "source": [
    "my_dict=[]\n",
    "unidades=[]\n",
    "for company in tqdm(companies):\n",
    "    if company.name not in unidades:\n",
    "        unidades.append(company.name)\n",
    "        pd.DataFrame().to_excel(company.name[:14]+'_arvore.xlsx')\n",
    "    for form in tqdm(OccurrenceType.objects.filter(company=company).order_by('occurrence_kind', 'name')):\n",
    "        try:\n",
    "            campos=[]\n",
    "            for field in form.form_fields['fields']:\n",
    "                try:\n",
    "                    campos.append(field['displayName'])\n",
    "                except:\n",
    "                    campos.append(field['display_name'])\n",
    "            my_dict.append({get_connected_reference(company,\n",
    "                                                    \"reporting\",\n",
    "                                                    \"occurrence_kind\",\n",
    "                                                    form.occurrence_kind):{form.name:campos}})\n",
    "            reformed_dict = {}\n",
    "            for a in my_dict:\n",
    "                for outerKey, innerDict in a.items():\n",
    "                    for innerKey, values in innerDict.items():\n",
    "                        reformed_dict[(outerKey,\n",
    "                                       innerKey)] = values\n",
    "            max_length = max(len(v) for v in reformed_dict.values())\n",
    "            for k, v in reformed_dict.items():\n",
    "                reformed_dict[k] = v + [None] * (max_length - len(v))\n",
    "            df2 = pd.DataFrame(reformed_dict)\n",
    "            df2= df2.transpose()\n",
    "            with pd.ExcelWriter(company.name[:14]+'_arvore.xlsx', mode='a',if_sheet_exists='replace') as writer:\n",
    "                df2.to_excel(writer,sheet_name=natureza,na_rep=\"-\")  \n",
    "        except StopIteration:\n",
    "            continue"
   ]
  },
  {
   "cell_type": "code",
   "execution_count": 80,
   "id": "1511b011",
   "metadata": {},
   "outputs": [
    {
     "data": {
      "text/html": [
       "<div>\n",
       "<style scoped>\n",
       "    .dataframe tbody tr th:only-of-type {\n",
       "        vertical-align: middle;\n",
       "    }\n",
       "\n",
       "    .dataframe tbody tr th {\n",
       "        vertical-align: top;\n",
       "    }\n",
       "\n",
       "    .dataframe thead tr th {\n",
       "        text-align: left;\n",
       "    }\n",
       "</style>\n",
       "<table border=\"1\" class=\"dataframe\">\n",
       "  <thead>\n",
       "    <tr>\n",
       "      <th></th>\n",
       "      <th colspan=\"16\" halign=\"left\">Levantamento</th>\n",
       "      <th colspan=\"3\" halign=\"left\">Inventário</th>\n",
       "      <th>Monitoração</th>\n",
       "      <th>Outros Serviços</th>\n",
       "    </tr>\n",
       "    <tr>\n",
       "      <th></th>\n",
       "      <th>Acúmulo de Água</th>\n",
       "      <th>Bombeamento</th>\n",
       "      <th>Buracos no acostamento</th>\n",
       "      <th>Degrau de Acostamento</th>\n",
       "      <th>Depressão</th>\n",
       "      <th>Desplacamento</th>\n",
       "      <th>Detritos</th>\n",
       "      <th>Escorregamento de Massa</th>\n",
       "      <th>Exsudação</th>\n",
       "      <th>FC-3</th>\n",
       "      <th>...</th>\n",
       "      <th>PRO-07 2023</th>\n",
       "      <th>Projeto. RP-152</th>\n",
       "      <th>Projeto RP (157)</th>\n",
       "      <th>TESTE</th>\n",
       "      <th>Verificação de PRO-07</th>\n",
       "      <th>PRO-07 2022</th>\n",
       "      <th>Saída de dreno</th>\n",
       "      <th>TRO</th>\n",
       "      <th>PRO-07 2022 R1</th>\n",
       "      <th>PRO 07</th>\n",
       "    </tr>\n",
       "  </thead>\n",
       "  <tbody>\n",
       "    <tr>\n",
       "      <th>0</th>\n",
       "      <td>Comprimento (m)</td>\n",
       "      <td>Comprimento (m)</td>\n",
       "      <td>Comprimento (m)</td>\n",
       "      <td>Comprimento (m)</td>\n",
       "      <td>Comprimento (m)</td>\n",
       "      <td>Comprimento (m)</td>\n",
       "      <td>Comprimento (m)</td>\n",
       "      <td>Comprimento (m)</td>\n",
       "      <td>Comprimento (m)</td>\n",
       "      <td>Comprimento (m)</td>\n",
       "      <td>...</td>\n",
       "      <td>Comprimento (m)</td>\n",
       "      <td>Comprimento (m)</td>\n",
       "      <td>Comprimento (m)</td>\n",
       "      <td>Comprimento (m)</td>\n",
       "      <td>Comprimento (m)</td>\n",
       "      <td>Comprimento (m)</td>\n",
       "      <td>Comprimento (m)</td>\n",
       "      <td>Comprimento (m)</td>\n",
       "      <td>Comprimento (m)</td>\n",
       "      <td>Comprimento (m)</td>\n",
       "    </tr>\n",
       "    <tr>\n",
       "      <th>1</th>\n",
       "      <td>Largura (m)</td>\n",
       "      <td>Largura (m)</td>\n",
       "      <td>Largura (m)</td>\n",
       "      <td>Largura (m)</td>\n",
       "      <td>Largura (m)</td>\n",
       "      <td>Largura (m)</td>\n",
       "      <td>Largura (m)</td>\n",
       "      <td>Largura (m)</td>\n",
       "      <td>Largura (m)</td>\n",
       "      <td>Largura (m)</td>\n",
       "      <td>...</td>\n",
       "      <td>Largura (m)</td>\n",
       "      <td>Largura (m)</td>\n",
       "      <td>Largura (m)</td>\n",
       "      <td>Largura (m)</td>\n",
       "      <td>Largura (m)</td>\n",
       "      <td>Largura (m)</td>\n",
       "      <td>Observações</td>\n",
       "      <td>Largura (m)</td>\n",
       "      <td>Largura (m)</td>\n",
       "      <td>Largura (m)</td>\n",
       "    </tr>\n",
       "    <tr>\n",
       "      <th>2</th>\n",
       "      <td>Espessura (m)</td>\n",
       "      <td>Espessura (m)</td>\n",
       "      <td>Altura/Espessura (m)</td>\n",
       "      <td>Espessura (m)</td>\n",
       "      <td>Espessura (m)</td>\n",
       "      <td>Espessura (m)</td>\n",
       "      <td>Altura/Espessura (m)</td>\n",
       "      <td>Espessura (m)</td>\n",
       "      <td>Espessura (m)</td>\n",
       "      <td>Espessura (m)</td>\n",
       "      <td>...</td>\n",
       "      <td>Altura/Espessura (m)</td>\n",
       "      <td>Altura/Espessura (m)</td>\n",
       "      <td>Altura/Espessura (m)</td>\n",
       "      <td>Altura/Espessura (m)</td>\n",
       "      <td>Altura/Espessura (m)</td>\n",
       "      <td>Altura/Espessura (m)</td>\n",
       "      <td>None</td>\n",
       "      <td>Altura/Espessura (m)</td>\n",
       "      <td>Altura/Espessura (m)</td>\n",
       "      <td>Altura/Espessura (m)</td>\n",
       "    </tr>\n",
       "    <tr>\n",
       "      <th>3</th>\n",
       "      <td>Area (m²)</td>\n",
       "      <td>Area (m²)</td>\n",
       "      <td>Area (m²)</td>\n",
       "      <td>Area (m²)</td>\n",
       "      <td>Area (m²)</td>\n",
       "      <td>Area (m²)</td>\n",
       "      <td>Area (m²)</td>\n",
       "      <td>Area (m²)</td>\n",
       "      <td>Area (m²)</td>\n",
       "      <td>Area (m²)</td>\n",
       "      <td>...</td>\n",
       "      <td>Area (m²)</td>\n",
       "      <td>Area (m²)</td>\n",
       "      <td>Area (m²)</td>\n",
       "      <td>Area (m²)</td>\n",
       "      <td>Area (m²)</td>\n",
       "      <td>Area (m²)</td>\n",
       "      <td>None</td>\n",
       "      <td>Area (m²)</td>\n",
       "      <td>Area (m²)</td>\n",
       "      <td>Area (m²)</td>\n",
       "    </tr>\n",
       "    <tr>\n",
       "      <th>4</th>\n",
       "      <td>Volume (m³)</td>\n",
       "      <td>Volume (m³)</td>\n",
       "      <td>Volume (m³)</td>\n",
       "      <td>Volume (m³)</td>\n",
       "      <td>Volume (m³)</td>\n",
       "      <td>Volume (m³)</td>\n",
       "      <td>Volume (m³)</td>\n",
       "      <td>Volume (m³)</td>\n",
       "      <td>Volume (m³)</td>\n",
       "      <td>Volume (m³)</td>\n",
       "      <td>...</td>\n",
       "      <td>Volume (m³)</td>\n",
       "      <td>Volume (m³)</td>\n",
       "      <td>Volume (m³)</td>\n",
       "      <td>Volume (m³)</td>\n",
       "      <td>Volume (m³)</td>\n",
       "      <td>Volume (m³)</td>\n",
       "      <td>None</td>\n",
       "      <td>Volume (m³)</td>\n",
       "      <td>Volume (m³)</td>\n",
       "      <td>Volume (m³)</td>\n",
       "    </tr>\n",
       "    <tr>\n",
       "      <th>5</th>\n",
       "      <td>Observações</td>\n",
       "      <td>Observações</td>\n",
       "      <td>Observações</td>\n",
       "      <td>Observações</td>\n",
       "      <td>Observações</td>\n",
       "      <td>Observações</td>\n",
       "      <td>Observações</td>\n",
       "      <td>Observações</td>\n",
       "      <td>Observações</td>\n",
       "      <td>Observações</td>\n",
       "      <td>...</td>\n",
       "      <td>Observações</td>\n",
       "      <td>Observações</td>\n",
       "      <td>Observações</td>\n",
       "      <td>Observações</td>\n",
       "      <td>Observações</td>\n",
       "      <td>Observações</td>\n",
       "      <td>None</td>\n",
       "      <td>Observações</td>\n",
       "      <td>Observações</td>\n",
       "      <td>Observações</td>\n",
       "    </tr>\n",
       "    <tr>\n",
       "      <th>6</th>\n",
       "      <td>Origem</td>\n",
       "      <td>Origem</td>\n",
       "      <td>None</td>\n",
       "      <td>Origem</td>\n",
       "      <td>Origem</td>\n",
       "      <td>Origem</td>\n",
       "      <td>None</td>\n",
       "      <td>Origem</td>\n",
       "      <td>Origem</td>\n",
       "      <td>Origem</td>\n",
       "      <td>...</td>\n",
       "      <td>None</td>\n",
       "      <td>None</td>\n",
       "      <td>None</td>\n",
       "      <td>None</td>\n",
       "      <td>None</td>\n",
       "      <td>None</td>\n",
       "      <td>None</td>\n",
       "      <td>None</td>\n",
       "      <td>None</td>\n",
       "      <td>Estação</td>\n",
       "    </tr>\n",
       "    <tr>\n",
       "      <th>7</th>\n",
       "      <td>É TRO?</td>\n",
       "      <td>É TRO?</td>\n",
       "      <td>None</td>\n",
       "      <td>É TRO?</td>\n",
       "      <td>É TRO?</td>\n",
       "      <td>É TRO?</td>\n",
       "      <td>None</td>\n",
       "      <td>É TRO?</td>\n",
       "      <td>É TRO?</td>\n",
       "      <td>É TRO?</td>\n",
       "      <td>...</td>\n",
       "      <td>None</td>\n",
       "      <td>None</td>\n",
       "      <td>None</td>\n",
       "      <td>None</td>\n",
       "      <td>None</td>\n",
       "      <td>None</td>\n",
       "      <td>None</td>\n",
       "      <td>None</td>\n",
       "      <td>None</td>\n",
       "      <td>Solução</td>\n",
       "    </tr>\n",
       "    <tr>\n",
       "      <th>8</th>\n",
       "      <td>Código da TRO</td>\n",
       "      <td>Código da TRO</td>\n",
       "      <td>None</td>\n",
       "      <td>Código da TRO</td>\n",
       "      <td>Código da TRO</td>\n",
       "      <td>Código da TRO</td>\n",
       "      <td>None</td>\n",
       "      <td>Código da TRO</td>\n",
       "      <td>Código da TRO</td>\n",
       "      <td>Código da TRO</td>\n",
       "      <td>...</td>\n",
       "      <td>None</td>\n",
       "      <td>None</td>\n",
       "      <td>None</td>\n",
       "      <td>None</td>\n",
       "      <td>None</td>\n",
       "      <td>None</td>\n",
       "      <td>None</td>\n",
       "      <td>None</td>\n",
       "      <td>None</td>\n",
       "      <td>Parâmetro Atendido</td>\n",
       "    </tr>\n",
       "    <tr>\n",
       "      <th>9</th>\n",
       "      <td>Solução</td>\n",
       "      <td>Solução</td>\n",
       "      <td>None</td>\n",
       "      <td>Solução</td>\n",
       "      <td>Solução</td>\n",
       "      <td>Solução</td>\n",
       "      <td>None</td>\n",
       "      <td>Solução</td>\n",
       "      <td>Solução</td>\n",
       "      <td>Solução</td>\n",
       "      <td>...</td>\n",
       "      <td>None</td>\n",
       "      <td>None</td>\n",
       "      <td>None</td>\n",
       "      <td>None</td>\n",
       "      <td>None</td>\n",
       "      <td>None</td>\n",
       "      <td>None</td>\n",
       "      <td>None</td>\n",
       "      <td>None</td>\n",
       "      <td>None</td>\n",
       "    </tr>\n",
       "    <tr>\n",
       "      <th>10</th>\n",
       "      <td>Parâmetro Atendido</td>\n",
       "      <td>Parâmetro Atendido</td>\n",
       "      <td>None</td>\n",
       "      <td>Parâmetro Atendido</td>\n",
       "      <td>Parâmetro Atendido</td>\n",
       "      <td>Parâmetro Atendido</td>\n",
       "      <td>None</td>\n",
       "      <td>Parâmetro Atendido</td>\n",
       "      <td>Parâmetro Atendido</td>\n",
       "      <td>Parâmetro Atendido</td>\n",
       "      <td>...</td>\n",
       "      <td>None</td>\n",
       "      <td>None</td>\n",
       "      <td>None</td>\n",
       "      <td>None</td>\n",
       "      <td>None</td>\n",
       "      <td>None</td>\n",
       "      <td>None</td>\n",
       "      <td>None</td>\n",
       "      <td>None</td>\n",
       "      <td>None</td>\n",
       "    </tr>\n",
       "    <tr>\n",
       "      <th>11</th>\n",
       "      <td>Código KCOR</td>\n",
       "      <td>Código KCOR</td>\n",
       "      <td>None</td>\n",
       "      <td>Código KCOR</td>\n",
       "      <td>Código KCOR</td>\n",
       "      <td>Código KCOR</td>\n",
       "      <td>None</td>\n",
       "      <td>Código KCOR</td>\n",
       "      <td>Código KCOR</td>\n",
       "      <td>Código KCOR</td>\n",
       "      <td>...</td>\n",
       "      <td>None</td>\n",
       "      <td>None</td>\n",
       "      <td>None</td>\n",
       "      <td>None</td>\n",
       "      <td>None</td>\n",
       "      <td>None</td>\n",
       "      <td>None</td>\n",
       "      <td>None</td>\n",
       "      <td>None</td>\n",
       "      <td>None</td>\n",
       "    </tr>\n",
       "    <tr>\n",
       "      <th>12</th>\n",
       "      <td>Código Interno</td>\n",
       "      <td>Código Interno</td>\n",
       "      <td>None</td>\n",
       "      <td>Código Interno</td>\n",
       "      <td>Código Interno</td>\n",
       "      <td>Código Interno</td>\n",
       "      <td>None</td>\n",
       "      <td>Código Interno</td>\n",
       "      <td>Código Interno</td>\n",
       "      <td>Código Interno</td>\n",
       "      <td>...</td>\n",
       "      <td>None</td>\n",
       "      <td>None</td>\n",
       "      <td>None</td>\n",
       "      <td>None</td>\n",
       "      <td>None</td>\n",
       "      <td>None</td>\n",
       "      <td>None</td>\n",
       "      <td>None</td>\n",
       "      <td>None</td>\n",
       "      <td>None</td>\n",
       "    </tr>\n",
       "    <tr>\n",
       "      <th>13</th>\n",
       "      <td>Código Solicitação ANTT</td>\n",
       "      <td>Código Solicitação ANTT</td>\n",
       "      <td>None</td>\n",
       "      <td>Código Solicitação ANTT</td>\n",
       "      <td>Código Solicitação ANTT</td>\n",
       "      <td>Código Solicitação ANTT</td>\n",
       "      <td>None</td>\n",
       "      <td>Código Solicitação ANTT</td>\n",
       "      <td>Código Solicitação ANTT</td>\n",
       "      <td>Código Solicitação ANTT</td>\n",
       "      <td>...</td>\n",
       "      <td>None</td>\n",
       "      <td>None</td>\n",
       "      <td>None</td>\n",
       "      <td>None</td>\n",
       "      <td>None</td>\n",
       "      <td>None</td>\n",
       "      <td>None</td>\n",
       "      <td>None</td>\n",
       "      <td>None</td>\n",
       "      <td>None</td>\n",
       "    </tr>\n",
       "  </tbody>\n",
       "</table>\n",
       "<p>14 rows × 72 columns</p>\n",
       "</div>"
      ],
      "text/plain": [
       "               Levantamento                                                  \\\n",
       "            Acúmulo de Água              Bombeamento Buracos no acostamento   \n",
       "0           Comprimento (m)          Comprimento (m)        Comprimento (m)   \n",
       "1               Largura (m)              Largura (m)            Largura (m)   \n",
       "2             Espessura (m)            Espessura (m)   Altura/Espessura (m)   \n",
       "3                 Area (m²)                Area (m²)              Area (m²)   \n",
       "4               Volume (m³)              Volume (m³)            Volume (m³)   \n",
       "5               Observações              Observações            Observações   \n",
       "6                    Origem                   Origem                   None   \n",
       "7                    É TRO?                   É TRO?                   None   \n",
       "8             Código da TRO            Código da TRO                   None   \n",
       "9                   Solução                  Solução                   None   \n",
       "10       Parâmetro Atendido       Parâmetro Atendido                   None   \n",
       "11              Código KCOR              Código KCOR                   None   \n",
       "12           Código Interno           Código Interno                   None   \n",
       "13  Código Solicitação ANTT  Código Solicitação ANTT                   None   \n",
       "\n",
       "                                                                               \\\n",
       "      Degrau de Acostamento                Depressão            Desplacamento   \n",
       "0           Comprimento (m)          Comprimento (m)          Comprimento (m)   \n",
       "1               Largura (m)              Largura (m)              Largura (m)   \n",
       "2             Espessura (m)            Espessura (m)            Espessura (m)   \n",
       "3                 Area (m²)                Area (m²)                Area (m²)   \n",
       "4               Volume (m³)              Volume (m³)              Volume (m³)   \n",
       "5               Observações              Observações              Observações   \n",
       "6                    Origem                   Origem                   Origem   \n",
       "7                    É TRO?                   É TRO?                   É TRO?   \n",
       "8             Código da TRO            Código da TRO            Código da TRO   \n",
       "9                   Solução                  Solução                  Solução   \n",
       "10       Parâmetro Atendido       Parâmetro Atendido       Parâmetro Atendido   \n",
       "11              Código KCOR              Código KCOR              Código KCOR   \n",
       "12           Código Interno           Código Interno           Código Interno   \n",
       "13  Código Solicitação ANTT  Código Solicitação ANTT  Código Solicitação ANTT   \n",
       "\n",
       "                                                                            \\\n",
       "                Detritos  Escorregamento de Massa                Exsudação   \n",
       "0        Comprimento (m)          Comprimento (m)          Comprimento (m)   \n",
       "1            Largura (m)              Largura (m)              Largura (m)   \n",
       "2   Altura/Espessura (m)            Espessura (m)            Espessura (m)   \n",
       "3              Area (m²)                Area (m²)                Area (m²)   \n",
       "4            Volume (m³)              Volume (m³)              Volume (m³)   \n",
       "5            Observações              Observações              Observações   \n",
       "6                   None                   Origem                   Origem   \n",
       "7                   None                   É TRO?                   É TRO?   \n",
       "8                   None            Código da TRO            Código da TRO   \n",
       "9                   None                  Solução                  Solução   \n",
       "10                  None       Parâmetro Atendido       Parâmetro Atendido   \n",
       "11                  None              Código KCOR              Código KCOR   \n",
       "12                  None           Código Interno           Código Interno   \n",
       "13                  None  Código Solicitação ANTT  Código Solicitação ANTT   \n",
       "\n",
       "                             ...                                              \\\n",
       "                       FC-3  ...           PRO-07 2023       Projeto. RP-152   \n",
       "0           Comprimento (m)  ...       Comprimento (m)       Comprimento (m)   \n",
       "1               Largura (m)  ...           Largura (m)           Largura (m)   \n",
       "2             Espessura (m)  ...  Altura/Espessura (m)  Altura/Espessura (m)   \n",
       "3                 Area (m²)  ...             Area (m²)             Area (m²)   \n",
       "4               Volume (m³)  ...           Volume (m³)           Volume (m³)   \n",
       "5               Observações  ...           Observações           Observações   \n",
       "6                    Origem  ...                  None                  None   \n",
       "7                    É TRO?  ...                  None                  None   \n",
       "8             Código da TRO  ...                  None                  None   \n",
       "9                   Solução  ...                  None                  None   \n",
       "10       Parâmetro Atendido  ...                  None                  None   \n",
       "11              Código KCOR  ...                  None                  None   \n",
       "12           Código Interno  ...                  None                  None   \n",
       "13  Código Solicitação ANTT  ...                  None                  None   \n",
       "\n",
       "                                                                      \\\n",
       "        Projeto RP (157)                 TESTE Verificação de PRO-07   \n",
       "0        Comprimento (m)       Comprimento (m)       Comprimento (m)   \n",
       "1            Largura (m)           Largura (m)           Largura (m)   \n",
       "2   Altura/Espessura (m)  Altura/Espessura (m)  Altura/Espessura (m)   \n",
       "3              Area (m²)             Area (m²)             Area (m²)   \n",
       "4            Volume (m³)           Volume (m³)           Volume (m³)   \n",
       "5            Observações           Observações           Observações   \n",
       "6                   None                  None                  None   \n",
       "7                   None                  None                  None   \n",
       "8                   None                  None                  None   \n",
       "9                   None                  None                  None   \n",
       "10                  None                  None                  None   \n",
       "11                  None                  None                  None   \n",
       "12                  None                  None                  None   \n",
       "13                  None                  None                  None   \n",
       "\n",
       "              Inventário                                         \\\n",
       "             PRO-07 2022   Saída de dreno                   TRO   \n",
       "0        Comprimento (m)  Comprimento (m)       Comprimento (m)   \n",
       "1            Largura (m)      Observações           Largura (m)   \n",
       "2   Altura/Espessura (m)             None  Altura/Espessura (m)   \n",
       "3              Area (m²)             None             Area (m²)   \n",
       "4            Volume (m³)             None           Volume (m³)   \n",
       "5            Observações             None           Observações   \n",
       "6                   None             None                  None   \n",
       "7                   None             None                  None   \n",
       "8                   None             None                  None   \n",
       "9                   None             None                  None   \n",
       "10                  None             None                  None   \n",
       "11                  None             None                  None   \n",
       "12                  None             None                  None   \n",
       "13                  None             None                  None   \n",
       "\n",
       "             Monitoração       Outros Serviços  \n",
       "          PRO-07 2022 R1                PRO 07  \n",
       "0        Comprimento (m)       Comprimento (m)  \n",
       "1            Largura (m)           Largura (m)  \n",
       "2   Altura/Espessura (m)  Altura/Espessura (m)  \n",
       "3              Area (m²)             Area (m²)  \n",
       "4            Volume (m³)           Volume (m³)  \n",
       "5            Observações           Observações  \n",
       "6                   None               Estação  \n",
       "7                   None               Solução  \n",
       "8                   None    Parâmetro Atendido  \n",
       "9                   None                  None  \n",
       "10                  None                  None  \n",
       "11                  None                  None  \n",
       "12                  None                  None  \n",
       "13                  None                  None  \n",
       "\n",
       "[14 rows x 72 columns]"
      ]
     },
     "execution_count": 80,
     "metadata": {},
     "output_type": "execute_result"
    }
   ],
   "source": [
    "df2"
   ]
  },
  {
   "cell_type": "code",
   "execution_count": 59,
   "id": "e819a37d",
   "metadata": {
    "collapsed": true
   },
   "outputs": [
    {
     "data": {
      "text/plain": [
       "{('Levantamento', 'Acúmulo de Água'): ['Comprimento (m)',\n",
       "  'Largura (m)',\n",
       "  'Espessura (m)',\n",
       "  'Area (m²)',\n",
       "  'Volume (m³)',\n",
       "  'Observações',\n",
       "  'Origem',\n",
       "  'É TRO?',\n",
       "  'Código da TRO',\n",
       "  'Solução',\n",
       "  'Parâmetro Atendido',\n",
       "  'Código KCOR',\n",
       "  'Código Interno',\n",
       "  'Código Solicitação ANTT'],\n",
       " ('Levantamento', 'Bombeamento'): ['Comprimento (m)',\n",
       "  'Largura (m)',\n",
       "  'Espessura (m)',\n",
       "  'Area (m²)',\n",
       "  'Volume (m³)',\n",
       "  'Observações',\n",
       "  'Origem',\n",
       "  'É TRO?',\n",
       "  'Código da TRO',\n",
       "  'Solução',\n",
       "  'Parâmetro Atendido',\n",
       "  'Código KCOR',\n",
       "  'Código Interno',\n",
       "  'Código Solicitação ANTT'],\n",
       " ('Levantamento', 'Degrau de Acostamento'): ['Comprimento (m)',\n",
       "  'Largura (m)',\n",
       "  'Espessura (m)',\n",
       "  'Area (m²)',\n",
       "  'Volume (m³)',\n",
       "  'Observações',\n",
       "  'Origem',\n",
       "  'É TRO?',\n",
       "  'Código da TRO',\n",
       "  'Solução',\n",
       "  'Parâmetro Atendido',\n",
       "  'Código KCOR',\n",
       "  'Código Interno',\n",
       "  'Código Solicitação ANTT'],\n",
       " ('Levantamento', 'Depressão'): ['Comprimento (m)',\n",
       "  'Largura (m)',\n",
       "  'Espessura (m)',\n",
       "  'Area (m²)',\n",
       "  'Volume (m³)',\n",
       "  'Observações',\n",
       "  'Origem',\n",
       "  'É TRO?',\n",
       "  'Código da TRO',\n",
       "  'Solução',\n",
       "  'Parâmetro Atendido',\n",
       "  'Código KCOR',\n",
       "  'Código Interno',\n",
       "  'Código Solicitação ANTT'],\n",
       " ('Levantamento', 'Desplacamento'): ['Comprimento (m)',\n",
       "  'Largura (m)',\n",
       "  'Espessura (m)',\n",
       "  'Area (m²)',\n",
       "  'Volume (m³)',\n",
       "  'Observações',\n",
       "  'Origem',\n",
       "  'É TRO?',\n",
       "  'Código da TRO',\n",
       "  'Solução',\n",
       "  'Parâmetro Atendido',\n",
       "  'Código KCOR',\n",
       "  'Código Interno',\n",
       "  'Código Solicitação ANTT'],\n",
       " ('Levantamento', 'DRENO COM AFUNDAMENTO'): ['Comprimento (m)',\n",
       "  'Largura (m)',\n",
       "  'Altura/Espessura (m)',\n",
       "  'Area (m²)',\n",
       "  'Volume (m³)',\n",
       "  'Observações'],\n",
       " ('Levantamento', 'Dreno Existente'): ['Comprimento (m)',\n",
       "  'Largura (m)',\n",
       "  'Altura/Espessura (m)',\n",
       "  'Area (m²)',\n",
       "  'Volume (m³)',\n",
       "  'Observações'],\n",
       " ('Levantamento', 'Escorregamento de Massa'): ['Comprimento (m)',\n",
       "  'Largura (m)',\n",
       "  'Espessura (m)',\n",
       "  'Area (m²)',\n",
       "  'Volume (m³)',\n",
       "  'Observações',\n",
       "  'Origem',\n",
       "  'É TRO?',\n",
       "  'Código da TRO',\n",
       "  'Solução',\n",
       "  'Parâmetro Atendido',\n",
       "  'Código KCOR',\n",
       "  'Código Interno',\n",
       "  'Código Solicitação ANTT'],\n",
       " ('Levantamento', 'Exsudação'): ['Comprimento (m)',\n",
       "  'Largura (m)',\n",
       "  'Espessura (m)',\n",
       "  'Area (m²)',\n",
       "  'Volume (m³)',\n",
       "  'Observações',\n",
       "  'Origem',\n",
       "  'É TRO?',\n",
       "  'Código da TRO',\n",
       "  'Solução',\n",
       "  'Parâmetro Atendido',\n",
       "  'Código KCOR',\n",
       "  'Código Interno',\n",
       "  'Código Solicitação ANTT'],\n",
       " ('Levantamento', 'FC-3'): ['Comprimento (m)',\n",
       "  'Largura (m)',\n",
       "  'Espessura (m)',\n",
       "  'Area (m²)',\n",
       "  'Volume (m³)',\n",
       "  'Observações',\n",
       "  'Origem',\n",
       "  'É TRO?',\n",
       "  'Código da TRO',\n",
       "  'Solução',\n",
       "  'Parâmetro Atendido',\n",
       "  'Código KCOR',\n",
       "  'Código Interno',\n",
       "  'Código Solicitação ANTT'],\n",
       " ('Levantamento', 'Fresagem 2022'): ['Comprimento (m)',\n",
       "  'Largura (m)',\n",
       "  'Altura/Espessura (m)',\n",
       "  'Area (m²)',\n",
       "  'Volume (m³)',\n",
       "  'Observações'],\n",
       " ('Levantamento', 'Imtraff'): ['Comprimento (m)',\n",
       "  'Largura (m)',\n",
       "  'Altura/Espessura (m)',\n",
       "  'Area (m²)',\n",
       "  'Volume (m³)',\n",
       "  'Observações'],\n",
       " ('Levantamento', 'Inativo'): ['Comprimento (m)',\n",
       "  'Largura (m)',\n",
       "  'Altura/Espessura (m)',\n",
       "  'Area (m²)',\n",
       "  'Volume (m³)',\n",
       "  'Observações'],\n",
       " ('Levantamento', 'Multifuncional'): ['Comprimento (m)',\n",
       "  'Largura (m)',\n",
       "  'Altura/Espessura (m)',\n",
       "  'Area (m²)',\n",
       "  'Volume (m³)',\n",
       "  'Observações'],\n",
       " ('Levantamento', 'PA Buraco'): ['Comprimento (m)',\n",
       "  'Largura (m)',\n",
       "  'Espessura (m)',\n",
       "  'Area (m²)',\n",
       "  'Volume (m³)',\n",
       "  'Observações',\n",
       "  'Origem',\n",
       "  'É TRO?',\n",
       "  'Código da TRO',\n",
       "  'Solução',\n",
       "  'Parâmetro Atendido',\n",
       "  'Código KCOR',\n",
       "  'Código Interno',\n",
       "  'Código Solicitação ANTT'],\n",
       " ('Levantamento', 'Pintura Manual'): ['Comprimento (m)', 'Observações'],\n",
       " ('Levantamento', 'Pintura Mecânica'): ['Comprimento (m)', 'Observações'],\n",
       " ('Levantamento', 'Pintura Termoplastica a Frio'): ['Comprimento (m)',\n",
       "  'Observações'],\n",
       " ('Levantamento', 'Pintura Termoplastica a Quente'): ['Comprimento (m)',\n",
       "  'Observações'],\n",
       " ('Levantamento', 'PM Buraco'): ['Comprimento (m)',\n",
       "  'Largura (m)',\n",
       "  'Espessura (m)',\n",
       "  'Area (m²)',\n",
       "  'Volume (m³)',\n",
       "  'Observações',\n",
       "  'Origem',\n",
       "  'É TRO?',\n",
       "  'Código da TRO',\n",
       "  'Solução',\n",
       "  'Parâmetro Atendido',\n",
       "  'Código KCOR',\n",
       "  'Código Interno',\n",
       "  'Código Solicitação ANTT'],\n",
       " ('Levantamento', 'Ponto de ensaio'): ['Comprimento (m)',\n",
       "  'Largura (m)',\n",
       "  'Altura/Espessura (m)',\n",
       "  'Area (m²)',\n",
       "  'Volume (m³)',\n",
       "  'Observações'],\n",
       " ('Levantamento', 'Prioridade 1 Fresagem'): ['Comprimento (m)',\n",
       "  'Largura (m)',\n",
       "  'Altura/Espessura (m)',\n",
       "  'Area (m²)',\n",
       "  'Volume (m³)',\n",
       "  'Observações'],\n",
       " ('Levantamento', 'PRO-07 2023'): ['Comprimento (m)',\n",
       "  'Largura (m)',\n",
       "  'Altura/Espessura (m)',\n",
       "  'Area (m²)',\n",
       "  'Volume (m³)',\n",
       "  'Observações'],\n",
       " ('Levantamento', 'Projeto. RP-152'): ['Comprimento (m)',\n",
       "  'Largura (m)',\n",
       "  'Altura/Espessura (m)',\n",
       "  'Area (m²)',\n",
       "  'Volume (m³)',\n",
       "  'Observações'],\n",
       " ('Levantamento', 'Projeto RP (157)'): ['Comprimento (m)',\n",
       "  'Largura (m)',\n",
       "  'Altura/Espessura (m)',\n",
       "  'Area (m²)',\n",
       "  'Volume (m³)',\n",
       "  'Observações'],\n",
       " ('Levantamento', 'Remendo'): ['Comprimento (m)',\n",
       "  'Largura (m)',\n",
       "  'Espessura (m)',\n",
       "  'Area (m²)',\n",
       "  'Volume (m³)',\n",
       "  'Observações',\n",
       "  'Origem',\n",
       "  'É TRO?',\n",
       "  'Código da TRO',\n",
       "  'Solução',\n",
       "  'Parâmetro Atendido',\n",
       "  'Código KCOR',\n",
       "  'Código Interno',\n",
       "  'Código Solicitação ANTT'],\n",
       " ('Levantamento', 'Sela Trinca'): ['Comprimento (m)',\n",
       "  'Largura (m)',\n",
       "  'Espessura (m)',\n",
       "  'Area (m²)',\n",
       "  'Volume (m³)',\n",
       "  'Observações',\n",
       "  'Origem',\n",
       "  'É TRO?',\n",
       "  'Código da TRO',\n",
       "  'Solução',\n",
       "  'Parâmetro Atendido',\n",
       "  'Código KCOR',\n",
       "  'Código Interno',\n",
       "  'Código Solicitação ANTT'],\n",
       " ('Levantamento', 'Tachão'): ['Comprimento (m)', 'Observações'],\n",
       " ('Levantamento', 'Tachas'): ['Comprimento (m)',\n",
       "  'Largura (m)',\n",
       "  'Espessura (m)',\n",
       "  'Area (m²)',\n",
       "  'Volume (m³)',\n",
       "  'Observações',\n",
       "  'Origem',\n",
       "  'É TRO?',\n",
       "  'Código da TRO',\n",
       "  'Solução',\n",
       "  'Parâmetro Atendido',\n",
       "  'Código KCOR',\n",
       "  'Código Interno',\n",
       "  'Código Solicitação ANTT'],\n",
       " ('Levantamento', 'TESTE'): ['Comprimento (m)',\n",
       "  'Largura (m)',\n",
       "  'Altura/Espessura (m)',\n",
       "  'Area (m²)',\n",
       "  'Volume (m³)',\n",
       "  'Observações'],\n",
       " ('Levantamento', 'Trincamento'): ['Comprimento (m)',\n",
       "  'Largura (m)',\n",
       "  'Espessura (m)',\n",
       "  'Area (m²)',\n",
       "  'Volume (m³)',\n",
       "  'Observações',\n",
       "  'Origem',\n",
       "  'É TRO?',\n",
       "  'Código da TRO',\n",
       "  'Solução',\n",
       "  'Parâmetro Atendido',\n",
       "  'Código KCOR',\n",
       "  'Código Interno',\n",
       "  'Código Solicitação ANTT'],\n",
       " ('Levantamento', 'Verificação de PRO-07'): ['Comprimento (m)',\n",
       "  'Largura (m)',\n",
       "  'Altura/Espessura (m)',\n",
       "  'Area (m²)',\n",
       "  'Volume (m³)',\n",
       "  'Observações'],\n",
       " ('Inventário', 'Dreno Longitudinal'): ['Comprimento (m)',\n",
       "  'Largura (m)',\n",
       "  'Altura/Espessura (m)',\n",
       "  'Area (m²)',\n",
       "  'Volume (m³)',\n",
       "  'Observações'],\n",
       " ('Inventário', 'Dreno Transversal'): ['Comprimento (m)',\n",
       "  'Largura (m)',\n",
       "  'Altura/Espessura (m)',\n",
       "  'Area (m²)',\n",
       "  'Volume (m³)',\n",
       "  'Observações'],\n",
       " ('Inventário', 'Espessura Estrutura'): ['Revestimento',\n",
       "  'Material - Revestimento',\n",
       "  'Base',\n",
       "  'Material - Base',\n",
       "  'Sub-Base',\n",
       "  'Material - Sub-Base',\n",
       "  'Reforço',\n",
       "  'Reforço do Subleito',\n",
       "  'Material - Reforço do Subleito',\n",
       "  'Observações',\n",
       "  'Tipo de Coleta',\n",
       "  'Material - Revestimento (Outros)',\n",
       "  'Material - Base (Outros)',\n",
       "  'Material - Sub-Base (Outros)'],\n",
       " ('Inventário', 'Pavimento'): ['Comprimento (m)', 'Observações'],\n",
       " ('Inventário', 'Pista com Faixa Adicional'): ['Comprimento (m)',\n",
       "  'Largura (m)',\n",
       "  'Espessura (m)',\n",
       "  'Area (m²)',\n",
       "  'Volume (m³)',\n",
       "  'Observações',\n",
       "  'Origem',\n",
       "  'É TRO?',\n",
       "  'Código da TRO',\n",
       "  'Solução'],\n",
       " ('Inventário', 'Pista Dupla'): ['Comprimento (m)',\n",
       "  'Largura (m)',\n",
       "  'Espessura (m)',\n",
       "  'Area (m²)',\n",
       "  'Volume (m³)',\n",
       "  'Observações',\n",
       "  'Origem',\n",
       "  'É TRO?',\n",
       "  'Código da TRO',\n",
       "  'Solução'],\n",
       " ('Inventário', 'Pista Simples'): ['Comprimento (m)',\n",
       "  'Largura (m)',\n",
       "  'Espessura (m)',\n",
       "  'Area (m²)',\n",
       "  'Volume (m³)',\n",
       "  'Observações',\n",
       "  'Origem',\n",
       "  'É TRO?',\n",
       "  'Código da TRO',\n",
       "  'Solução'],\n",
       " ('Inventário', 'PRO-07 2022'): ['Comprimento (m)',\n",
       "  'Largura (m)',\n",
       "  'Altura/Espessura (m)',\n",
       "  'Area (m²)',\n",
       "  'Volume (m³)',\n",
       "  'Observações'],\n",
       " ('Inventário', 'Saída de dreno'): ['Comprimento (m)', 'Observações'],\n",
       " ('Inventário', 'TRO'): ['Comprimento (m)',\n",
       "  'Largura (m)',\n",
       "  'Altura/Espessura (m)',\n",
       "  'Area (m²)',\n",
       "  'Volume (m³)',\n",
       "  'Observações'],\n",
       " ('Diário', 'DIÁRIO'): ['Clima',\n",
       "  'Serviços Executados',\n",
       "  'Eventos com Restrições',\n",
       "  'Observação',\n",
       "  'Pluviometria'],\n",
       " ('Monitoração', 'Aderência'): ['Comprimento (m)',\n",
       "  'Largura (m)',\n",
       "  'Espessura (m)',\n",
       "  'Area (m²)',\n",
       "  'Volume (m³)',\n",
       "  'Observações',\n",
       "  'Origem',\n",
       "  'É TRO?',\n",
       "  'Código da TRO',\n",
       "  'Solução',\n",
       "  'Parâmetro Atendido',\n",
       "  'Código KCOR',\n",
       "  'Código Interno',\n",
       "  'Código Solicitação ANTT'],\n",
       " ('Monitoração', 'ATR'): ['Comprimento (m)',\n",
       "  'Largura (m)',\n",
       "  'Espessura (m)',\n",
       "  'Area (m²)',\n",
       "  'Volume (m³)',\n",
       "  'Observações',\n",
       "  'Origem',\n",
       "  'É TRO?',\n",
       "  'Código da TRO',\n",
       "  'Solução',\n",
       "  'Parâmetro Atendido',\n",
       "  'Código KCOR',\n",
       "  'Código Interno',\n",
       "  'Código Solicitação ANTT'],\n",
       " ('Monitoração', 'Flecha'): ['Comprimento (m)',\n",
       "  'Largura (m)',\n",
       "  'Espessura (m)',\n",
       "  'Area (m²)',\n",
       "  'Volume (m³)',\n",
       "  'Observações',\n",
       "  'Origem',\n",
       "  'É TRO?',\n",
       "  'Código da TRO',\n",
       "  'Solução',\n",
       "  'Parâmetro Atendido',\n",
       "  'Código KCOR',\n",
       "  'Código Interno',\n",
       "  'Código Solicitação ANTT'],\n",
       " ('Monitoração', 'FWD'): ['Comprimento (m)',\n",
       "  'Largura (m)',\n",
       "  'Espessura (m)',\n",
       "  'Area (m²)',\n",
       "  'Volume (m³)',\n",
       "  'Observações',\n",
       "  'Origem',\n",
       "  'É TRO?',\n",
       "  'Código da TRO',\n",
       "  'Solução',\n",
       "  'Parâmetro Atendido',\n",
       "  'Código KCOR',\n",
       "  'Código Interno',\n",
       "  'Código Solicitação ANTT'],\n",
       " ('Monitoração', 'ICP'): ['Comprimento (m)',\n",
       "  'Largura (m)',\n",
       "  'Espessura (m)',\n",
       "  'Area (m²)',\n",
       "  'Volume (m³)',\n",
       "  'Observações',\n",
       "  'Origem',\n",
       "  'É TRO?',\n",
       "  'Código da TRO',\n",
       "  'Solução',\n",
       "  'Parâmetro Atendido',\n",
       "  'Código KCOR',\n",
       "  'Código Interno',\n",
       "  'Código Solicitação ANTT'],\n",
       " ('Monitoração', 'IRI'): ['Comprimento (m)',\n",
       "  'Largura (m)',\n",
       "  'Espessura (m)',\n",
       "  'Area (m²)',\n",
       "  'Volume (m³)',\n",
       "  'Observações',\n",
       "  'Origem',\n",
       "  'É TRO?',\n",
       "  'Código da TRO',\n",
       "  'Solução',\n",
       "  'Parâmetro Atendido',\n",
       "  'Código KCOR',\n",
       "  'Código Interno',\n",
       "  'Código Solicitação ANTT'],\n",
       " ('Monitoração', 'PRO-07 2022 R1'): ['Comprimento (m)',\n",
       "  'Largura (m)',\n",
       "  'Altura/Espessura (m)',\n",
       "  'Area (m²)',\n",
       "  'Volume (m³)',\n",
       "  'Observações'],\n",
       " ('Monitoração', 'TR'): ['Comprimento (m)',\n",
       "  'Largura (m)',\n",
       "  'Espessura (m)',\n",
       "  'Area (m²)',\n",
       "  'Volume (m³)',\n",
       "  'Observações',\n",
       "  'Origem',\n",
       "  'É TRO?',\n",
       "  'Código da TRO',\n",
       "  'Solução',\n",
       "  'Parâmetro Atendido',\n",
       "  'Código KCOR',\n",
       "  'Código Interno',\n",
       "  'Código Solicitação ANTT'],\n",
       " ('SGP', 'SGP'): ['Comprimento (m)',\n",
       "  'Largura (m)',\n",
       "  'Espessura (m)',\n",
       "  'Area (m²)',\n",
       "  'Volume (m³)',\n",
       "  'Observações',\n",
       "  'Origem',\n",
       "  'É TRO?',\n",
       "  'Código da TRO',\n",
       "  'Solução',\n",
       "  'Parâmetro Atendido',\n",
       "  'Código KCOR',\n",
       "  'Código Interno',\n",
       "  'Código Solicitação ANTT'],\n",
       " ('Outros Serviços', 'PRO 07'): ['Comprimento (m)',\n",
       "  'Largura (m)',\n",
       "  'Altura/Espessura (m)',\n",
       "  'Area (m²)',\n",
       "  'Volume (m³)',\n",
       "  'Observações',\n",
       "  'Estação',\n",
       "  'Solução',\n",
       "  'Parâmetro Atendido'],\n",
       " ('Outros Serviços', 'Retrorrefletância'): ['Valores', 'Observações'],\n",
       " ('Outros Serviços', 'Sondagem'): ['Comprimento (m)',\n",
       "  'Largura (m)',\n",
       "  'Area (m²)',\n",
       "  'Observações',\n",
       "  'Camadas',\n",
       "  'Altura total (cm)',\n",
       "  'RG']}"
      ]
     },
     "execution_count": 59,
     "metadata": {},
     "output_type": "execute_result"
    }
   ],
   "source": [
    "reformed_dict = {}\n",
    "for a in my_dict:\n",
    "    for outerKey, innerDict in a.items():\n",
    "        for innerKey, values in innerDict.items():\n",
    "            reformed_dict[(outerKey,\n",
    "                           innerKey)] = values\n",
    "\n",
    "# Multiindex dataframe\n",
    "reformed_dict"
   ]
  },
  {
   "cell_type": "code",
   "execution_count": 72,
   "id": "23d39301",
   "metadata": {},
   "outputs": [],
   "source": [
    "max_length = max(len(v) for v in reformed_dict.values())\n",
    "for k, v in reformed_dict.items():\n",
    "    reformed_dict[k] = v + [None] * (max_length - len(v))\n"
   ]
  },
  {
   "cell_type": "code",
   "execution_count": 74,
   "id": "ef15e99b",
   "metadata": {
    "collapsed": true
   },
   "outputs": [
    {
     "data": {
      "text/plain": [
       "{('Levantamento', 'Acúmulo de Água'): ['Comprimento (m)',\n",
       "  'Largura (m)',\n",
       "  'Espessura (m)',\n",
       "  'Area (m²)',\n",
       "  'Volume (m³)',\n",
       "  'Observações',\n",
       "  'Origem',\n",
       "  'É TRO?',\n",
       "  'Código da TRO',\n",
       "  'Solução',\n",
       "  'Parâmetro Atendido',\n",
       "  'Código KCOR',\n",
       "  'Código Interno',\n",
       "  'Código Solicitação ANTT'],\n",
       " ('Levantamento', 'Bombeamento'): ['Comprimento (m)',\n",
       "  'Largura (m)',\n",
       "  'Espessura (m)',\n",
       "  'Area (m²)',\n",
       "  'Volume (m³)',\n",
       "  'Observações',\n",
       "  'Origem',\n",
       "  'É TRO?',\n",
       "  'Código da TRO',\n",
       "  'Solução',\n",
       "  'Parâmetro Atendido',\n",
       "  'Código KCOR',\n",
       "  'Código Interno',\n",
       "  'Código Solicitação ANTT'],\n",
       " ('Levantamento', 'Degrau de Acostamento'): ['Comprimento (m)',\n",
       "  'Largura (m)',\n",
       "  'Espessura (m)',\n",
       "  'Area (m²)',\n",
       "  'Volume (m³)',\n",
       "  'Observações',\n",
       "  'Origem',\n",
       "  'É TRO?',\n",
       "  'Código da TRO',\n",
       "  'Solução',\n",
       "  'Parâmetro Atendido',\n",
       "  'Código KCOR',\n",
       "  'Código Interno',\n",
       "  'Código Solicitação ANTT'],\n",
       " ('Levantamento', 'Depressão'): ['Comprimento (m)',\n",
       "  'Largura (m)',\n",
       "  'Espessura (m)',\n",
       "  'Area (m²)',\n",
       "  'Volume (m³)',\n",
       "  'Observações',\n",
       "  'Origem',\n",
       "  'É TRO?',\n",
       "  'Código da TRO',\n",
       "  'Solução',\n",
       "  'Parâmetro Atendido',\n",
       "  'Código KCOR',\n",
       "  'Código Interno',\n",
       "  'Código Solicitação ANTT'],\n",
       " ('Levantamento', 'Desplacamento'): ['Comprimento (m)',\n",
       "  'Largura (m)',\n",
       "  'Espessura (m)',\n",
       "  'Area (m²)',\n",
       "  'Volume (m³)',\n",
       "  'Observações',\n",
       "  'Origem',\n",
       "  'É TRO?',\n",
       "  'Código da TRO',\n",
       "  'Solução',\n",
       "  'Parâmetro Atendido',\n",
       "  'Código KCOR',\n",
       "  'Código Interno',\n",
       "  'Código Solicitação ANTT'],\n",
       " ('Levantamento', 'DRENO COM AFUNDAMENTO'): ['Comprimento (m)',\n",
       "  'Largura (m)',\n",
       "  'Altura/Espessura (m)',\n",
       "  'Area (m²)',\n",
       "  'Volume (m³)',\n",
       "  'Observações',\n",
       "  None,\n",
       "  None,\n",
       "  None,\n",
       "  None,\n",
       "  None,\n",
       "  None,\n",
       "  None,\n",
       "  None],\n",
       " ('Levantamento', 'Dreno Existente'): ['Comprimento (m)',\n",
       "  'Largura (m)',\n",
       "  'Altura/Espessura (m)',\n",
       "  'Area (m²)',\n",
       "  'Volume (m³)',\n",
       "  'Observações',\n",
       "  None,\n",
       "  None,\n",
       "  None,\n",
       "  None,\n",
       "  None,\n",
       "  None,\n",
       "  None,\n",
       "  None],\n",
       " ('Levantamento', 'Escorregamento de Massa'): ['Comprimento (m)',\n",
       "  'Largura (m)',\n",
       "  'Espessura (m)',\n",
       "  'Area (m²)',\n",
       "  'Volume (m³)',\n",
       "  'Observações',\n",
       "  'Origem',\n",
       "  'É TRO?',\n",
       "  'Código da TRO',\n",
       "  'Solução',\n",
       "  'Parâmetro Atendido',\n",
       "  'Código KCOR',\n",
       "  'Código Interno',\n",
       "  'Código Solicitação ANTT'],\n",
       " ('Levantamento', 'Exsudação'): ['Comprimento (m)',\n",
       "  'Largura (m)',\n",
       "  'Espessura (m)',\n",
       "  'Area (m²)',\n",
       "  'Volume (m³)',\n",
       "  'Observações',\n",
       "  'Origem',\n",
       "  'É TRO?',\n",
       "  'Código da TRO',\n",
       "  'Solução',\n",
       "  'Parâmetro Atendido',\n",
       "  'Código KCOR',\n",
       "  'Código Interno',\n",
       "  'Código Solicitação ANTT'],\n",
       " ('Levantamento', 'FC-3'): ['Comprimento (m)',\n",
       "  'Largura (m)',\n",
       "  'Espessura (m)',\n",
       "  'Area (m²)',\n",
       "  'Volume (m³)',\n",
       "  'Observações',\n",
       "  'Origem',\n",
       "  'É TRO?',\n",
       "  'Código da TRO',\n",
       "  'Solução',\n",
       "  'Parâmetro Atendido',\n",
       "  'Código KCOR',\n",
       "  'Código Interno',\n",
       "  'Código Solicitação ANTT'],\n",
       " ('Levantamento', 'Fresagem 2022'): ['Comprimento (m)',\n",
       "  'Largura (m)',\n",
       "  'Altura/Espessura (m)',\n",
       "  'Area (m²)',\n",
       "  'Volume (m³)',\n",
       "  'Observações',\n",
       "  None,\n",
       "  None,\n",
       "  None,\n",
       "  None,\n",
       "  None,\n",
       "  None,\n",
       "  None,\n",
       "  None],\n",
       " ('Levantamento', 'Imtraff'): ['Comprimento (m)',\n",
       "  'Largura (m)',\n",
       "  'Altura/Espessura (m)',\n",
       "  'Area (m²)',\n",
       "  'Volume (m³)',\n",
       "  'Observações',\n",
       "  None,\n",
       "  None,\n",
       "  None,\n",
       "  None,\n",
       "  None,\n",
       "  None,\n",
       "  None,\n",
       "  None],\n",
       " ('Levantamento', 'Inativo'): ['Comprimento (m)',\n",
       "  'Largura (m)',\n",
       "  'Altura/Espessura (m)',\n",
       "  'Area (m²)',\n",
       "  'Volume (m³)',\n",
       "  'Observações',\n",
       "  None,\n",
       "  None,\n",
       "  None,\n",
       "  None,\n",
       "  None,\n",
       "  None,\n",
       "  None,\n",
       "  None],\n",
       " ('Levantamento', 'Multifuncional'): ['Comprimento (m)',\n",
       "  'Largura (m)',\n",
       "  'Altura/Espessura (m)',\n",
       "  'Area (m²)',\n",
       "  'Volume (m³)',\n",
       "  'Observações',\n",
       "  None,\n",
       "  None,\n",
       "  None,\n",
       "  None,\n",
       "  None,\n",
       "  None,\n",
       "  None,\n",
       "  None],\n",
       " ('Levantamento', 'PA Buraco'): ['Comprimento (m)',\n",
       "  'Largura (m)',\n",
       "  'Espessura (m)',\n",
       "  'Area (m²)',\n",
       "  'Volume (m³)',\n",
       "  'Observações',\n",
       "  'Origem',\n",
       "  'É TRO?',\n",
       "  'Código da TRO',\n",
       "  'Solução',\n",
       "  'Parâmetro Atendido',\n",
       "  'Código KCOR',\n",
       "  'Código Interno',\n",
       "  'Código Solicitação ANTT'],\n",
       " ('Levantamento', 'Pintura Manual'): ['Comprimento (m)',\n",
       "  'Observações',\n",
       "  None,\n",
       "  None,\n",
       "  None,\n",
       "  None,\n",
       "  None,\n",
       "  None,\n",
       "  None,\n",
       "  None,\n",
       "  None,\n",
       "  None,\n",
       "  None,\n",
       "  None],\n",
       " ('Levantamento', 'Pintura Mecânica'): ['Comprimento (m)',\n",
       "  'Observações',\n",
       "  None,\n",
       "  None,\n",
       "  None,\n",
       "  None,\n",
       "  None,\n",
       "  None,\n",
       "  None,\n",
       "  None,\n",
       "  None,\n",
       "  None,\n",
       "  None,\n",
       "  None],\n",
       " ('Levantamento', 'Pintura Termoplastica a Frio'): ['Comprimento (m)',\n",
       "  'Observações',\n",
       "  None,\n",
       "  None,\n",
       "  None,\n",
       "  None,\n",
       "  None,\n",
       "  None,\n",
       "  None,\n",
       "  None,\n",
       "  None,\n",
       "  None,\n",
       "  None,\n",
       "  None],\n",
       " ('Levantamento', 'Pintura Termoplastica a Quente'): ['Comprimento (m)',\n",
       "  'Observações',\n",
       "  None,\n",
       "  None,\n",
       "  None,\n",
       "  None,\n",
       "  None,\n",
       "  None,\n",
       "  None,\n",
       "  None,\n",
       "  None,\n",
       "  None,\n",
       "  None,\n",
       "  None],\n",
       " ('Levantamento', 'PM Buraco'): ['Comprimento (m)',\n",
       "  'Largura (m)',\n",
       "  'Espessura (m)',\n",
       "  'Area (m²)',\n",
       "  'Volume (m³)',\n",
       "  'Observações',\n",
       "  'Origem',\n",
       "  'É TRO?',\n",
       "  'Código da TRO',\n",
       "  'Solução',\n",
       "  'Parâmetro Atendido',\n",
       "  'Código KCOR',\n",
       "  'Código Interno',\n",
       "  'Código Solicitação ANTT'],\n",
       " ('Levantamento', 'Ponto de ensaio'): ['Comprimento (m)',\n",
       "  'Largura (m)',\n",
       "  'Altura/Espessura (m)',\n",
       "  'Area (m²)',\n",
       "  'Volume (m³)',\n",
       "  'Observações',\n",
       "  None,\n",
       "  None,\n",
       "  None,\n",
       "  None,\n",
       "  None,\n",
       "  None,\n",
       "  None,\n",
       "  None],\n",
       " ('Levantamento', 'Prioridade 1 Fresagem'): ['Comprimento (m)',\n",
       "  'Largura (m)',\n",
       "  'Altura/Espessura (m)',\n",
       "  'Area (m²)',\n",
       "  'Volume (m³)',\n",
       "  'Observações',\n",
       "  None,\n",
       "  None,\n",
       "  None,\n",
       "  None,\n",
       "  None,\n",
       "  None,\n",
       "  None,\n",
       "  None],\n",
       " ('Levantamento', 'PRO-07 2023'): ['Comprimento (m)',\n",
       "  'Largura (m)',\n",
       "  'Altura/Espessura (m)',\n",
       "  'Area (m²)',\n",
       "  'Volume (m³)',\n",
       "  'Observações',\n",
       "  None,\n",
       "  None,\n",
       "  None,\n",
       "  None,\n",
       "  None,\n",
       "  None,\n",
       "  None,\n",
       "  None],\n",
       " ('Levantamento', 'Projeto. RP-152'): ['Comprimento (m)',\n",
       "  'Largura (m)',\n",
       "  'Altura/Espessura (m)',\n",
       "  'Area (m²)',\n",
       "  'Volume (m³)',\n",
       "  'Observações',\n",
       "  None,\n",
       "  None,\n",
       "  None,\n",
       "  None,\n",
       "  None,\n",
       "  None,\n",
       "  None,\n",
       "  None],\n",
       " ('Levantamento', 'Projeto RP (157)'): ['Comprimento (m)',\n",
       "  'Largura (m)',\n",
       "  'Altura/Espessura (m)',\n",
       "  'Area (m²)',\n",
       "  'Volume (m³)',\n",
       "  'Observações',\n",
       "  None,\n",
       "  None,\n",
       "  None,\n",
       "  None,\n",
       "  None,\n",
       "  None,\n",
       "  None,\n",
       "  None],\n",
       " ('Levantamento', 'Remendo'): ['Comprimento (m)',\n",
       "  'Largura (m)',\n",
       "  'Espessura (m)',\n",
       "  'Area (m²)',\n",
       "  'Volume (m³)',\n",
       "  'Observações',\n",
       "  'Origem',\n",
       "  'É TRO?',\n",
       "  'Código da TRO',\n",
       "  'Solução',\n",
       "  'Parâmetro Atendido',\n",
       "  'Código KCOR',\n",
       "  'Código Interno',\n",
       "  'Código Solicitação ANTT'],\n",
       " ('Levantamento', 'Sela Trinca'): ['Comprimento (m)',\n",
       "  'Largura (m)',\n",
       "  'Espessura (m)',\n",
       "  'Area (m²)',\n",
       "  'Volume (m³)',\n",
       "  'Observações',\n",
       "  'Origem',\n",
       "  'É TRO?',\n",
       "  'Código da TRO',\n",
       "  'Solução',\n",
       "  'Parâmetro Atendido',\n",
       "  'Código KCOR',\n",
       "  'Código Interno',\n",
       "  'Código Solicitação ANTT'],\n",
       " ('Levantamento', 'Tachão'): ['Comprimento (m)',\n",
       "  'Observações',\n",
       "  None,\n",
       "  None,\n",
       "  None,\n",
       "  None,\n",
       "  None,\n",
       "  None,\n",
       "  None,\n",
       "  None,\n",
       "  None,\n",
       "  None,\n",
       "  None,\n",
       "  None],\n",
       " ('Levantamento', 'Tachas'): ['Comprimento (m)',\n",
       "  'Largura (m)',\n",
       "  'Espessura (m)',\n",
       "  'Area (m²)',\n",
       "  'Volume (m³)',\n",
       "  'Observações',\n",
       "  'Origem',\n",
       "  'É TRO?',\n",
       "  'Código da TRO',\n",
       "  'Solução',\n",
       "  'Parâmetro Atendido',\n",
       "  'Código KCOR',\n",
       "  'Código Interno',\n",
       "  'Código Solicitação ANTT'],\n",
       " ('Levantamento', 'TESTE'): ['Comprimento (m)',\n",
       "  'Largura (m)',\n",
       "  'Altura/Espessura (m)',\n",
       "  'Area (m²)',\n",
       "  'Volume (m³)',\n",
       "  'Observações',\n",
       "  None,\n",
       "  None,\n",
       "  None,\n",
       "  None,\n",
       "  None,\n",
       "  None,\n",
       "  None,\n",
       "  None],\n",
       " ('Levantamento', 'Trincamento'): ['Comprimento (m)',\n",
       "  'Largura (m)',\n",
       "  'Espessura (m)',\n",
       "  'Area (m²)',\n",
       "  'Volume (m³)',\n",
       "  'Observações',\n",
       "  'Origem',\n",
       "  'É TRO?',\n",
       "  'Código da TRO',\n",
       "  'Solução',\n",
       "  'Parâmetro Atendido',\n",
       "  'Código KCOR',\n",
       "  'Código Interno',\n",
       "  'Código Solicitação ANTT'],\n",
       " ('Levantamento', 'Verificação de PRO-07'): ['Comprimento (m)',\n",
       "  'Largura (m)',\n",
       "  'Altura/Espessura (m)',\n",
       "  'Area (m²)',\n",
       "  'Volume (m³)',\n",
       "  'Observações',\n",
       "  None,\n",
       "  None,\n",
       "  None,\n",
       "  None,\n",
       "  None,\n",
       "  None,\n",
       "  None,\n",
       "  None],\n",
       " ('Inventário', 'Dreno Longitudinal'): ['Comprimento (m)',\n",
       "  'Largura (m)',\n",
       "  'Altura/Espessura (m)',\n",
       "  'Area (m²)',\n",
       "  'Volume (m³)',\n",
       "  'Observações',\n",
       "  None,\n",
       "  None,\n",
       "  None,\n",
       "  None,\n",
       "  None,\n",
       "  None,\n",
       "  None,\n",
       "  None],\n",
       " ('Inventário', 'Dreno Transversal'): ['Comprimento (m)',\n",
       "  'Largura (m)',\n",
       "  'Altura/Espessura (m)',\n",
       "  'Area (m²)',\n",
       "  'Volume (m³)',\n",
       "  'Observações',\n",
       "  None,\n",
       "  None,\n",
       "  None,\n",
       "  None,\n",
       "  None,\n",
       "  None,\n",
       "  None,\n",
       "  None],\n",
       " ('Inventário', 'Espessura Estrutura'): ['Revestimento',\n",
       "  'Material - Revestimento',\n",
       "  'Base',\n",
       "  'Material - Base',\n",
       "  'Sub-Base',\n",
       "  'Material - Sub-Base',\n",
       "  'Reforço',\n",
       "  'Reforço do Subleito',\n",
       "  'Material - Reforço do Subleito',\n",
       "  'Observações',\n",
       "  'Tipo de Coleta',\n",
       "  'Material - Revestimento (Outros)',\n",
       "  'Material - Base (Outros)',\n",
       "  'Material - Sub-Base (Outros)'],\n",
       " ('Inventário', 'Pavimento'): ['Comprimento (m)',\n",
       "  'Observações',\n",
       "  None,\n",
       "  None,\n",
       "  None,\n",
       "  None,\n",
       "  None,\n",
       "  None,\n",
       "  None,\n",
       "  None,\n",
       "  None,\n",
       "  None,\n",
       "  None,\n",
       "  None],\n",
       " ('Inventário', 'Pista com Faixa Adicional'): ['Comprimento (m)',\n",
       "  'Largura (m)',\n",
       "  'Espessura (m)',\n",
       "  'Area (m²)',\n",
       "  'Volume (m³)',\n",
       "  'Observações',\n",
       "  'Origem',\n",
       "  'É TRO?',\n",
       "  'Código da TRO',\n",
       "  'Solução',\n",
       "  None,\n",
       "  None,\n",
       "  None,\n",
       "  None],\n",
       " ('Inventário', 'Pista Dupla'): ['Comprimento (m)',\n",
       "  'Largura (m)',\n",
       "  'Espessura (m)',\n",
       "  'Area (m²)',\n",
       "  'Volume (m³)',\n",
       "  'Observações',\n",
       "  'Origem',\n",
       "  'É TRO?',\n",
       "  'Código da TRO',\n",
       "  'Solução',\n",
       "  None,\n",
       "  None,\n",
       "  None,\n",
       "  None],\n",
       " ('Inventário', 'Pista Simples'): ['Comprimento (m)',\n",
       "  'Largura (m)',\n",
       "  'Espessura (m)',\n",
       "  'Area (m²)',\n",
       "  'Volume (m³)',\n",
       "  'Observações',\n",
       "  'Origem',\n",
       "  'É TRO?',\n",
       "  'Código da TRO',\n",
       "  'Solução',\n",
       "  None,\n",
       "  None,\n",
       "  None,\n",
       "  None],\n",
       " ('Inventário', 'PRO-07 2022'): ['Comprimento (m)',\n",
       "  'Largura (m)',\n",
       "  'Altura/Espessura (m)',\n",
       "  'Area (m²)',\n",
       "  'Volume (m³)',\n",
       "  'Observações',\n",
       "  None,\n",
       "  None,\n",
       "  None,\n",
       "  None,\n",
       "  None,\n",
       "  None,\n",
       "  None,\n",
       "  None],\n",
       " ('Inventário', 'Saída de dreno'): ['Comprimento (m)',\n",
       "  'Observações',\n",
       "  None,\n",
       "  None,\n",
       "  None,\n",
       "  None,\n",
       "  None,\n",
       "  None,\n",
       "  None,\n",
       "  None,\n",
       "  None,\n",
       "  None,\n",
       "  None,\n",
       "  None],\n",
       " ('Inventário', 'TRO'): ['Comprimento (m)',\n",
       "  'Largura (m)',\n",
       "  'Altura/Espessura (m)',\n",
       "  'Area (m²)',\n",
       "  'Volume (m³)',\n",
       "  'Observações',\n",
       "  None,\n",
       "  None,\n",
       "  None,\n",
       "  None,\n",
       "  None,\n",
       "  None,\n",
       "  None,\n",
       "  None],\n",
       " ('Diário', 'DIÁRIO'): ['Clima',\n",
       "  'Serviços Executados',\n",
       "  'Eventos com Restrições',\n",
       "  'Observação',\n",
       "  'Pluviometria',\n",
       "  None,\n",
       "  None,\n",
       "  None,\n",
       "  None,\n",
       "  None,\n",
       "  None,\n",
       "  None,\n",
       "  None,\n",
       "  None],\n",
       " ('Monitoração', 'Aderência'): ['Comprimento (m)',\n",
       "  'Largura (m)',\n",
       "  'Espessura (m)',\n",
       "  'Area (m²)',\n",
       "  'Volume (m³)',\n",
       "  'Observações',\n",
       "  'Origem',\n",
       "  'É TRO?',\n",
       "  'Código da TRO',\n",
       "  'Solução',\n",
       "  'Parâmetro Atendido',\n",
       "  'Código KCOR',\n",
       "  'Código Interno',\n",
       "  'Código Solicitação ANTT'],\n",
       " ('Monitoração', 'ATR'): ['Comprimento (m)',\n",
       "  'Largura (m)',\n",
       "  'Espessura (m)',\n",
       "  'Area (m²)',\n",
       "  'Volume (m³)',\n",
       "  'Observações',\n",
       "  'Origem',\n",
       "  'É TRO?',\n",
       "  'Código da TRO',\n",
       "  'Solução',\n",
       "  'Parâmetro Atendido',\n",
       "  'Código KCOR',\n",
       "  'Código Interno',\n",
       "  'Código Solicitação ANTT'],\n",
       " ('Monitoração', 'Flecha'): ['Comprimento (m)',\n",
       "  'Largura (m)',\n",
       "  'Espessura (m)',\n",
       "  'Area (m²)',\n",
       "  'Volume (m³)',\n",
       "  'Observações',\n",
       "  'Origem',\n",
       "  'É TRO?',\n",
       "  'Código da TRO',\n",
       "  'Solução',\n",
       "  'Parâmetro Atendido',\n",
       "  'Código KCOR',\n",
       "  'Código Interno',\n",
       "  'Código Solicitação ANTT'],\n",
       " ('Monitoração', 'FWD'): ['Comprimento (m)',\n",
       "  'Largura (m)',\n",
       "  'Espessura (m)',\n",
       "  'Area (m²)',\n",
       "  'Volume (m³)',\n",
       "  'Observações',\n",
       "  'Origem',\n",
       "  'É TRO?',\n",
       "  'Código da TRO',\n",
       "  'Solução',\n",
       "  'Parâmetro Atendido',\n",
       "  'Código KCOR',\n",
       "  'Código Interno',\n",
       "  'Código Solicitação ANTT'],\n",
       " ('Monitoração', 'ICP'): ['Comprimento (m)',\n",
       "  'Largura (m)',\n",
       "  'Espessura (m)',\n",
       "  'Area (m²)',\n",
       "  'Volume (m³)',\n",
       "  'Observações',\n",
       "  'Origem',\n",
       "  'É TRO?',\n",
       "  'Código da TRO',\n",
       "  'Solução',\n",
       "  'Parâmetro Atendido',\n",
       "  'Código KCOR',\n",
       "  'Código Interno',\n",
       "  'Código Solicitação ANTT'],\n",
       " ('Monitoração', 'IRI'): ['Comprimento (m)',\n",
       "  'Largura (m)',\n",
       "  'Espessura (m)',\n",
       "  'Area (m²)',\n",
       "  'Volume (m³)',\n",
       "  'Observações',\n",
       "  'Origem',\n",
       "  'É TRO?',\n",
       "  'Código da TRO',\n",
       "  'Solução',\n",
       "  'Parâmetro Atendido',\n",
       "  'Código KCOR',\n",
       "  'Código Interno',\n",
       "  'Código Solicitação ANTT'],\n",
       " ('Monitoração', 'PRO-07 2022 R1'): ['Comprimento (m)',\n",
       "  'Largura (m)',\n",
       "  'Altura/Espessura (m)',\n",
       "  'Area (m²)',\n",
       "  'Volume (m³)',\n",
       "  'Observações',\n",
       "  None,\n",
       "  None,\n",
       "  None,\n",
       "  None,\n",
       "  None,\n",
       "  None,\n",
       "  None,\n",
       "  None],\n",
       " ('Monitoração', 'TR'): ['Comprimento (m)',\n",
       "  'Largura (m)',\n",
       "  'Espessura (m)',\n",
       "  'Area (m²)',\n",
       "  'Volume (m³)',\n",
       "  'Observações',\n",
       "  'Origem',\n",
       "  'É TRO?',\n",
       "  'Código da TRO',\n",
       "  'Solução',\n",
       "  'Parâmetro Atendido',\n",
       "  'Código KCOR',\n",
       "  'Código Interno',\n",
       "  'Código Solicitação ANTT'],\n",
       " ('SGP', 'SGP'): ['Comprimento (m)',\n",
       "  'Largura (m)',\n",
       "  'Espessura (m)',\n",
       "  'Area (m²)',\n",
       "  'Volume (m³)',\n",
       "  'Observações',\n",
       "  'Origem',\n",
       "  'É TRO?',\n",
       "  'Código da TRO',\n",
       "  'Solução',\n",
       "  'Parâmetro Atendido',\n",
       "  'Código KCOR',\n",
       "  'Código Interno',\n",
       "  'Código Solicitação ANTT'],\n",
       " ('Outros Serviços', 'PRO 07'): ['Comprimento (m)',\n",
       "  'Largura (m)',\n",
       "  'Altura/Espessura (m)',\n",
       "  'Area (m²)',\n",
       "  'Volume (m³)',\n",
       "  'Observações',\n",
       "  'Estação',\n",
       "  'Solução',\n",
       "  'Parâmetro Atendido',\n",
       "  None,\n",
       "  None,\n",
       "  None,\n",
       "  None,\n",
       "  None],\n",
       " ('Outros Serviços', 'Retrorrefletância'): ['Valores',\n",
       "  'Observações',\n",
       "  None,\n",
       "  None,\n",
       "  None,\n",
       "  None,\n",
       "  None,\n",
       "  None,\n",
       "  None,\n",
       "  None,\n",
       "  None,\n",
       "  None,\n",
       "  None,\n",
       "  None],\n",
       " ('Outros Serviços', 'Sondagem'): ['Comprimento (m)',\n",
       "  'Largura (m)',\n",
       "  'Area (m²)',\n",
       "  'Observações',\n",
       "  'Camadas',\n",
       "  'Altura total (cm)',\n",
       "  'RG',\n",
       "  None,\n",
       "  None,\n",
       "  None,\n",
       "  None,\n",
       "  None,\n",
       "  None,\n",
       "  None]}"
      ]
     },
     "execution_count": 74,
     "metadata": {},
     "output_type": "execute_result"
    }
   ],
   "source": [
    "reformed_dict"
   ]
  },
  {
   "cell_type": "code",
   "execution_count": 75,
   "id": "94deb35f",
   "metadata": {},
   "outputs": [],
   "source": [
    "df = pd.DataFrame(reformed_dict)"
   ]
  },
  {
   "cell_type": "code",
   "execution_count": 77,
   "id": "907795c8",
   "metadata": {},
   "outputs": [
    {
     "data": {
      "text/html": [
       "<div>\n",
       "<style scoped>\n",
       "    .dataframe tbody tr th:only-of-type {\n",
       "        vertical-align: middle;\n",
       "    }\n",
       "\n",
       "    .dataframe tbody tr th {\n",
       "        vertical-align: top;\n",
       "    }\n",
       "\n",
       "    .dataframe thead th {\n",
       "        text-align: right;\n",
       "    }\n",
       "</style>\n",
       "<table border=\"1\" class=\"dataframe\">\n",
       "  <thead>\n",
       "    <tr style=\"text-align: right;\">\n",
       "      <th></th>\n",
       "      <th></th>\n",
       "      <th>0</th>\n",
       "      <th>1</th>\n",
       "      <th>2</th>\n",
       "      <th>3</th>\n",
       "      <th>4</th>\n",
       "      <th>5</th>\n",
       "      <th>6</th>\n",
       "      <th>7</th>\n",
       "      <th>8</th>\n",
       "      <th>9</th>\n",
       "      <th>10</th>\n",
       "      <th>11</th>\n",
       "      <th>12</th>\n",
       "      <th>13</th>\n",
       "    </tr>\n",
       "  </thead>\n",
       "  <tbody>\n",
       "    <tr>\n",
       "      <th rowspan=\"32\" valign=\"top\">Levantamento</th>\n",
       "      <th>Acúmulo de Água</th>\n",
       "      <td>Comprimento (m)</td>\n",
       "      <td>Largura (m)</td>\n",
       "      <td>Espessura (m)</td>\n",
       "      <td>Area (m²)</td>\n",
       "      <td>Volume (m³)</td>\n",
       "      <td>Observações</td>\n",
       "      <td>Origem</td>\n",
       "      <td>É TRO?</td>\n",
       "      <td>Código da TRO</td>\n",
       "      <td>Solução</td>\n",
       "      <td>Parâmetro Atendido</td>\n",
       "      <td>Código KCOR</td>\n",
       "      <td>Código Interno</td>\n",
       "      <td>Código Solicitação ANTT</td>\n",
       "    </tr>\n",
       "    <tr>\n",
       "      <th>Bombeamento</th>\n",
       "      <td>Comprimento (m)</td>\n",
       "      <td>Largura (m)</td>\n",
       "      <td>Espessura (m)</td>\n",
       "      <td>Area (m²)</td>\n",
       "      <td>Volume (m³)</td>\n",
       "      <td>Observações</td>\n",
       "      <td>Origem</td>\n",
       "      <td>É TRO?</td>\n",
       "      <td>Código da TRO</td>\n",
       "      <td>Solução</td>\n",
       "      <td>Parâmetro Atendido</td>\n",
       "      <td>Código KCOR</td>\n",
       "      <td>Código Interno</td>\n",
       "      <td>Código Solicitação ANTT</td>\n",
       "    </tr>\n",
       "    <tr>\n",
       "      <th>Degrau de Acostamento</th>\n",
       "      <td>Comprimento (m)</td>\n",
       "      <td>Largura (m)</td>\n",
       "      <td>Espessura (m)</td>\n",
       "      <td>Area (m²)</td>\n",
       "      <td>Volume (m³)</td>\n",
       "      <td>Observações</td>\n",
       "      <td>Origem</td>\n",
       "      <td>É TRO?</td>\n",
       "      <td>Código da TRO</td>\n",
       "      <td>Solução</td>\n",
       "      <td>Parâmetro Atendido</td>\n",
       "      <td>Código KCOR</td>\n",
       "      <td>Código Interno</td>\n",
       "      <td>Código Solicitação ANTT</td>\n",
       "    </tr>\n",
       "    <tr>\n",
       "      <th>Depressão</th>\n",
       "      <td>Comprimento (m)</td>\n",
       "      <td>Largura (m)</td>\n",
       "      <td>Espessura (m)</td>\n",
       "      <td>Area (m²)</td>\n",
       "      <td>Volume (m³)</td>\n",
       "      <td>Observações</td>\n",
       "      <td>Origem</td>\n",
       "      <td>É TRO?</td>\n",
       "      <td>Código da TRO</td>\n",
       "      <td>Solução</td>\n",
       "      <td>Parâmetro Atendido</td>\n",
       "      <td>Código KCOR</td>\n",
       "      <td>Código Interno</td>\n",
       "      <td>Código Solicitação ANTT</td>\n",
       "    </tr>\n",
       "    <tr>\n",
       "      <th>Desplacamento</th>\n",
       "      <td>Comprimento (m)</td>\n",
       "      <td>Largura (m)</td>\n",
       "      <td>Espessura (m)</td>\n",
       "      <td>Area (m²)</td>\n",
       "      <td>Volume (m³)</td>\n",
       "      <td>Observações</td>\n",
       "      <td>Origem</td>\n",
       "      <td>É TRO?</td>\n",
       "      <td>Código da TRO</td>\n",
       "      <td>Solução</td>\n",
       "      <td>Parâmetro Atendido</td>\n",
       "      <td>Código KCOR</td>\n",
       "      <td>Código Interno</td>\n",
       "      <td>Código Solicitação ANTT</td>\n",
       "    </tr>\n",
       "    <tr>\n",
       "      <th>DRENO COM AFUNDAMENTO</th>\n",
       "      <td>Comprimento (m)</td>\n",
       "      <td>Largura (m)</td>\n",
       "      <td>Altura/Espessura (m)</td>\n",
       "      <td>Area (m²)</td>\n",
       "      <td>Volume (m³)</td>\n",
       "      <td>Observações</td>\n",
       "      <td>None</td>\n",
       "      <td>None</td>\n",
       "      <td>None</td>\n",
       "      <td>None</td>\n",
       "      <td>None</td>\n",
       "      <td>None</td>\n",
       "      <td>None</td>\n",
       "      <td>None</td>\n",
       "    </tr>\n",
       "    <tr>\n",
       "      <th>Dreno Existente</th>\n",
       "      <td>Comprimento (m)</td>\n",
       "      <td>Largura (m)</td>\n",
       "      <td>Altura/Espessura (m)</td>\n",
       "      <td>Area (m²)</td>\n",
       "      <td>Volume (m³)</td>\n",
       "      <td>Observações</td>\n",
       "      <td>None</td>\n",
       "      <td>None</td>\n",
       "      <td>None</td>\n",
       "      <td>None</td>\n",
       "      <td>None</td>\n",
       "      <td>None</td>\n",
       "      <td>None</td>\n",
       "      <td>None</td>\n",
       "    </tr>\n",
       "    <tr>\n",
       "      <th>Escorregamento de Massa</th>\n",
       "      <td>Comprimento (m)</td>\n",
       "      <td>Largura (m)</td>\n",
       "      <td>Espessura (m)</td>\n",
       "      <td>Area (m²)</td>\n",
       "      <td>Volume (m³)</td>\n",
       "      <td>Observações</td>\n",
       "      <td>Origem</td>\n",
       "      <td>É TRO?</td>\n",
       "      <td>Código da TRO</td>\n",
       "      <td>Solução</td>\n",
       "      <td>Parâmetro Atendido</td>\n",
       "      <td>Código KCOR</td>\n",
       "      <td>Código Interno</td>\n",
       "      <td>Código Solicitação ANTT</td>\n",
       "    </tr>\n",
       "    <tr>\n",
       "      <th>Exsudação</th>\n",
       "      <td>Comprimento (m)</td>\n",
       "      <td>Largura (m)</td>\n",
       "      <td>Espessura (m)</td>\n",
       "      <td>Area (m²)</td>\n",
       "      <td>Volume (m³)</td>\n",
       "      <td>Observações</td>\n",
       "      <td>Origem</td>\n",
       "      <td>É TRO?</td>\n",
       "      <td>Código da TRO</td>\n",
       "      <td>Solução</td>\n",
       "      <td>Parâmetro Atendido</td>\n",
       "      <td>Código KCOR</td>\n",
       "      <td>Código Interno</td>\n",
       "      <td>Código Solicitação ANTT</td>\n",
       "    </tr>\n",
       "    <tr>\n",
       "      <th>FC-3</th>\n",
       "      <td>Comprimento (m)</td>\n",
       "      <td>Largura (m)</td>\n",
       "      <td>Espessura (m)</td>\n",
       "      <td>Area (m²)</td>\n",
       "      <td>Volume (m³)</td>\n",
       "      <td>Observações</td>\n",
       "      <td>Origem</td>\n",
       "      <td>É TRO?</td>\n",
       "      <td>Código da TRO</td>\n",
       "      <td>Solução</td>\n",
       "      <td>Parâmetro Atendido</td>\n",
       "      <td>Código KCOR</td>\n",
       "      <td>Código Interno</td>\n",
       "      <td>Código Solicitação ANTT</td>\n",
       "    </tr>\n",
       "    <tr>\n",
       "      <th>Fresagem 2022</th>\n",
       "      <td>Comprimento (m)</td>\n",
       "      <td>Largura (m)</td>\n",
       "      <td>Altura/Espessura (m)</td>\n",
       "      <td>Area (m²)</td>\n",
       "      <td>Volume (m³)</td>\n",
       "      <td>Observações</td>\n",
       "      <td>None</td>\n",
       "      <td>None</td>\n",
       "      <td>None</td>\n",
       "      <td>None</td>\n",
       "      <td>None</td>\n",
       "      <td>None</td>\n",
       "      <td>None</td>\n",
       "      <td>None</td>\n",
       "    </tr>\n",
       "    <tr>\n",
       "      <th>Imtraff</th>\n",
       "      <td>Comprimento (m)</td>\n",
       "      <td>Largura (m)</td>\n",
       "      <td>Altura/Espessura (m)</td>\n",
       "      <td>Area (m²)</td>\n",
       "      <td>Volume (m³)</td>\n",
       "      <td>Observações</td>\n",
       "      <td>None</td>\n",
       "      <td>None</td>\n",
       "      <td>None</td>\n",
       "      <td>None</td>\n",
       "      <td>None</td>\n",
       "      <td>None</td>\n",
       "      <td>None</td>\n",
       "      <td>None</td>\n",
       "    </tr>\n",
       "    <tr>\n",
       "      <th>Inativo</th>\n",
       "      <td>Comprimento (m)</td>\n",
       "      <td>Largura (m)</td>\n",
       "      <td>Altura/Espessura (m)</td>\n",
       "      <td>Area (m²)</td>\n",
       "      <td>Volume (m³)</td>\n",
       "      <td>Observações</td>\n",
       "      <td>None</td>\n",
       "      <td>None</td>\n",
       "      <td>None</td>\n",
       "      <td>None</td>\n",
       "      <td>None</td>\n",
       "      <td>None</td>\n",
       "      <td>None</td>\n",
       "      <td>None</td>\n",
       "    </tr>\n",
       "    <tr>\n",
       "      <th>Multifuncional</th>\n",
       "      <td>Comprimento (m)</td>\n",
       "      <td>Largura (m)</td>\n",
       "      <td>Altura/Espessura (m)</td>\n",
       "      <td>Area (m²)</td>\n",
       "      <td>Volume (m³)</td>\n",
       "      <td>Observações</td>\n",
       "      <td>None</td>\n",
       "      <td>None</td>\n",
       "      <td>None</td>\n",
       "      <td>None</td>\n",
       "      <td>None</td>\n",
       "      <td>None</td>\n",
       "      <td>None</td>\n",
       "      <td>None</td>\n",
       "    </tr>\n",
       "    <tr>\n",
       "      <th>PA Buraco</th>\n",
       "      <td>Comprimento (m)</td>\n",
       "      <td>Largura (m)</td>\n",
       "      <td>Espessura (m)</td>\n",
       "      <td>Area (m²)</td>\n",
       "      <td>Volume (m³)</td>\n",
       "      <td>Observações</td>\n",
       "      <td>Origem</td>\n",
       "      <td>É TRO?</td>\n",
       "      <td>Código da TRO</td>\n",
       "      <td>Solução</td>\n",
       "      <td>Parâmetro Atendido</td>\n",
       "      <td>Código KCOR</td>\n",
       "      <td>Código Interno</td>\n",
       "      <td>Código Solicitação ANTT</td>\n",
       "    </tr>\n",
       "    <tr>\n",
       "      <th>Pintura Manual</th>\n",
       "      <td>Comprimento (m)</td>\n",
       "      <td>Observações</td>\n",
       "      <td>None</td>\n",
       "      <td>None</td>\n",
       "      <td>None</td>\n",
       "      <td>None</td>\n",
       "      <td>None</td>\n",
       "      <td>None</td>\n",
       "      <td>None</td>\n",
       "      <td>None</td>\n",
       "      <td>None</td>\n",
       "      <td>None</td>\n",
       "      <td>None</td>\n",
       "      <td>None</td>\n",
       "    </tr>\n",
       "    <tr>\n",
       "      <th>Pintura Mecânica</th>\n",
       "      <td>Comprimento (m)</td>\n",
       "      <td>Observações</td>\n",
       "      <td>None</td>\n",
       "      <td>None</td>\n",
       "      <td>None</td>\n",
       "      <td>None</td>\n",
       "      <td>None</td>\n",
       "      <td>None</td>\n",
       "      <td>None</td>\n",
       "      <td>None</td>\n",
       "      <td>None</td>\n",
       "      <td>None</td>\n",
       "      <td>None</td>\n",
       "      <td>None</td>\n",
       "    </tr>\n",
       "    <tr>\n",
       "      <th>Pintura Termoplastica a Frio</th>\n",
       "      <td>Comprimento (m)</td>\n",
       "      <td>Observações</td>\n",
       "      <td>None</td>\n",
       "      <td>None</td>\n",
       "      <td>None</td>\n",
       "      <td>None</td>\n",
       "      <td>None</td>\n",
       "      <td>None</td>\n",
       "      <td>None</td>\n",
       "      <td>None</td>\n",
       "      <td>None</td>\n",
       "      <td>None</td>\n",
       "      <td>None</td>\n",
       "      <td>None</td>\n",
       "    </tr>\n",
       "    <tr>\n",
       "      <th>Pintura Termoplastica a Quente</th>\n",
       "      <td>Comprimento (m)</td>\n",
       "      <td>Observações</td>\n",
       "      <td>None</td>\n",
       "      <td>None</td>\n",
       "      <td>None</td>\n",
       "      <td>None</td>\n",
       "      <td>None</td>\n",
       "      <td>None</td>\n",
       "      <td>None</td>\n",
       "      <td>None</td>\n",
       "      <td>None</td>\n",
       "      <td>None</td>\n",
       "      <td>None</td>\n",
       "      <td>None</td>\n",
       "    </tr>\n",
       "    <tr>\n",
       "      <th>PM Buraco</th>\n",
       "      <td>Comprimento (m)</td>\n",
       "      <td>Largura (m)</td>\n",
       "      <td>Espessura (m)</td>\n",
       "      <td>Area (m²)</td>\n",
       "      <td>Volume (m³)</td>\n",
       "      <td>Observações</td>\n",
       "      <td>Origem</td>\n",
       "      <td>É TRO?</td>\n",
       "      <td>Código da TRO</td>\n",
       "      <td>Solução</td>\n",
       "      <td>Parâmetro Atendido</td>\n",
       "      <td>Código KCOR</td>\n",
       "      <td>Código Interno</td>\n",
       "      <td>Código Solicitação ANTT</td>\n",
       "    </tr>\n",
       "    <tr>\n",
       "      <th>Ponto de ensaio</th>\n",
       "      <td>Comprimento (m)</td>\n",
       "      <td>Largura (m)</td>\n",
       "      <td>Altura/Espessura (m)</td>\n",
       "      <td>Area (m²)</td>\n",
       "      <td>Volume (m³)</td>\n",
       "      <td>Observações</td>\n",
       "      <td>None</td>\n",
       "      <td>None</td>\n",
       "      <td>None</td>\n",
       "      <td>None</td>\n",
       "      <td>None</td>\n",
       "      <td>None</td>\n",
       "      <td>None</td>\n",
       "      <td>None</td>\n",
       "    </tr>\n",
       "    <tr>\n",
       "      <th>Prioridade 1 Fresagem</th>\n",
       "      <td>Comprimento (m)</td>\n",
       "      <td>Largura (m)</td>\n",
       "      <td>Altura/Espessura (m)</td>\n",
       "      <td>Area (m²)</td>\n",
       "      <td>Volume (m³)</td>\n",
       "      <td>Observações</td>\n",
       "      <td>None</td>\n",
       "      <td>None</td>\n",
       "      <td>None</td>\n",
       "      <td>None</td>\n",
       "      <td>None</td>\n",
       "      <td>None</td>\n",
       "      <td>None</td>\n",
       "      <td>None</td>\n",
       "    </tr>\n",
       "    <tr>\n",
       "      <th>PRO-07 2023</th>\n",
       "      <td>Comprimento (m)</td>\n",
       "      <td>Largura (m)</td>\n",
       "      <td>Altura/Espessura (m)</td>\n",
       "      <td>Area (m²)</td>\n",
       "      <td>Volume (m³)</td>\n",
       "      <td>Observações</td>\n",
       "      <td>None</td>\n",
       "      <td>None</td>\n",
       "      <td>None</td>\n",
       "      <td>None</td>\n",
       "      <td>None</td>\n",
       "      <td>None</td>\n",
       "      <td>None</td>\n",
       "      <td>None</td>\n",
       "    </tr>\n",
       "    <tr>\n",
       "      <th>Projeto. RP-152</th>\n",
       "      <td>Comprimento (m)</td>\n",
       "      <td>Largura (m)</td>\n",
       "      <td>Altura/Espessura (m)</td>\n",
       "      <td>Area (m²)</td>\n",
       "      <td>Volume (m³)</td>\n",
       "      <td>Observações</td>\n",
       "      <td>None</td>\n",
       "      <td>None</td>\n",
       "      <td>None</td>\n",
       "      <td>None</td>\n",
       "      <td>None</td>\n",
       "      <td>None</td>\n",
       "      <td>None</td>\n",
       "      <td>None</td>\n",
       "    </tr>\n",
       "    <tr>\n",
       "      <th>Projeto RP (157)</th>\n",
       "      <td>Comprimento (m)</td>\n",
       "      <td>Largura (m)</td>\n",
       "      <td>Altura/Espessura (m)</td>\n",
       "      <td>Area (m²)</td>\n",
       "      <td>Volume (m³)</td>\n",
       "      <td>Observações</td>\n",
       "      <td>None</td>\n",
       "      <td>None</td>\n",
       "      <td>None</td>\n",
       "      <td>None</td>\n",
       "      <td>None</td>\n",
       "      <td>None</td>\n",
       "      <td>None</td>\n",
       "      <td>None</td>\n",
       "    </tr>\n",
       "    <tr>\n",
       "      <th>Remendo</th>\n",
       "      <td>Comprimento (m)</td>\n",
       "      <td>Largura (m)</td>\n",
       "      <td>Espessura (m)</td>\n",
       "      <td>Area (m²)</td>\n",
       "      <td>Volume (m³)</td>\n",
       "      <td>Observações</td>\n",
       "      <td>Origem</td>\n",
       "      <td>É TRO?</td>\n",
       "      <td>Código da TRO</td>\n",
       "      <td>Solução</td>\n",
       "      <td>Parâmetro Atendido</td>\n",
       "      <td>Código KCOR</td>\n",
       "      <td>Código Interno</td>\n",
       "      <td>Código Solicitação ANTT</td>\n",
       "    </tr>\n",
       "    <tr>\n",
       "      <th>Sela Trinca</th>\n",
       "      <td>Comprimento (m)</td>\n",
       "      <td>Largura (m)</td>\n",
       "      <td>Espessura (m)</td>\n",
       "      <td>Area (m²)</td>\n",
       "      <td>Volume (m³)</td>\n",
       "      <td>Observações</td>\n",
       "      <td>Origem</td>\n",
       "      <td>É TRO?</td>\n",
       "      <td>Código da TRO</td>\n",
       "      <td>Solução</td>\n",
       "      <td>Parâmetro Atendido</td>\n",
       "      <td>Código KCOR</td>\n",
       "      <td>Código Interno</td>\n",
       "      <td>Código Solicitação ANTT</td>\n",
       "    </tr>\n",
       "    <tr>\n",
       "      <th>Tachão</th>\n",
       "      <td>Comprimento (m)</td>\n",
       "      <td>Observações</td>\n",
       "      <td>None</td>\n",
       "      <td>None</td>\n",
       "      <td>None</td>\n",
       "      <td>None</td>\n",
       "      <td>None</td>\n",
       "      <td>None</td>\n",
       "      <td>None</td>\n",
       "      <td>None</td>\n",
       "      <td>None</td>\n",
       "      <td>None</td>\n",
       "      <td>None</td>\n",
       "      <td>None</td>\n",
       "    </tr>\n",
       "    <tr>\n",
       "      <th>Tachas</th>\n",
       "      <td>Comprimento (m)</td>\n",
       "      <td>Largura (m)</td>\n",
       "      <td>Espessura (m)</td>\n",
       "      <td>Area (m²)</td>\n",
       "      <td>Volume (m³)</td>\n",
       "      <td>Observações</td>\n",
       "      <td>Origem</td>\n",
       "      <td>É TRO?</td>\n",
       "      <td>Código da TRO</td>\n",
       "      <td>Solução</td>\n",
       "      <td>Parâmetro Atendido</td>\n",
       "      <td>Código KCOR</td>\n",
       "      <td>Código Interno</td>\n",
       "      <td>Código Solicitação ANTT</td>\n",
       "    </tr>\n",
       "    <tr>\n",
       "      <th>TESTE</th>\n",
       "      <td>Comprimento (m)</td>\n",
       "      <td>Largura (m)</td>\n",
       "      <td>Altura/Espessura (m)</td>\n",
       "      <td>Area (m²)</td>\n",
       "      <td>Volume (m³)</td>\n",
       "      <td>Observações</td>\n",
       "      <td>None</td>\n",
       "      <td>None</td>\n",
       "      <td>None</td>\n",
       "      <td>None</td>\n",
       "      <td>None</td>\n",
       "      <td>None</td>\n",
       "      <td>None</td>\n",
       "      <td>None</td>\n",
       "    </tr>\n",
       "    <tr>\n",
       "      <th>Trincamento</th>\n",
       "      <td>Comprimento (m)</td>\n",
       "      <td>Largura (m)</td>\n",
       "      <td>Espessura (m)</td>\n",
       "      <td>Area (m²)</td>\n",
       "      <td>Volume (m³)</td>\n",
       "      <td>Observações</td>\n",
       "      <td>Origem</td>\n",
       "      <td>É TRO?</td>\n",
       "      <td>Código da TRO</td>\n",
       "      <td>Solução</td>\n",
       "      <td>Parâmetro Atendido</td>\n",
       "      <td>Código KCOR</td>\n",
       "      <td>Código Interno</td>\n",
       "      <td>Código Solicitação ANTT</td>\n",
       "    </tr>\n",
       "    <tr>\n",
       "      <th>Verificação de PRO-07</th>\n",
       "      <td>Comprimento (m)</td>\n",
       "      <td>Largura (m)</td>\n",
       "      <td>Altura/Espessura (m)</td>\n",
       "      <td>Area (m²)</td>\n",
       "      <td>Volume (m³)</td>\n",
       "      <td>Observações</td>\n",
       "      <td>None</td>\n",
       "      <td>None</td>\n",
       "      <td>None</td>\n",
       "      <td>None</td>\n",
       "      <td>None</td>\n",
       "      <td>None</td>\n",
       "      <td>None</td>\n",
       "      <td>None</td>\n",
       "    </tr>\n",
       "    <tr>\n",
       "      <th rowspan=\"10\" valign=\"top\">Inventário</th>\n",
       "      <th>Dreno Longitudinal</th>\n",
       "      <td>Comprimento (m)</td>\n",
       "      <td>Largura (m)</td>\n",
       "      <td>Altura/Espessura (m)</td>\n",
       "      <td>Area (m²)</td>\n",
       "      <td>Volume (m³)</td>\n",
       "      <td>Observações</td>\n",
       "      <td>None</td>\n",
       "      <td>None</td>\n",
       "      <td>None</td>\n",
       "      <td>None</td>\n",
       "      <td>None</td>\n",
       "      <td>None</td>\n",
       "      <td>None</td>\n",
       "      <td>None</td>\n",
       "    </tr>\n",
       "    <tr>\n",
       "      <th>Dreno Transversal</th>\n",
       "      <td>Comprimento (m)</td>\n",
       "      <td>Largura (m)</td>\n",
       "      <td>Altura/Espessura (m)</td>\n",
       "      <td>Area (m²)</td>\n",
       "      <td>Volume (m³)</td>\n",
       "      <td>Observações</td>\n",
       "      <td>None</td>\n",
       "      <td>None</td>\n",
       "      <td>None</td>\n",
       "      <td>None</td>\n",
       "      <td>None</td>\n",
       "      <td>None</td>\n",
       "      <td>None</td>\n",
       "      <td>None</td>\n",
       "    </tr>\n",
       "    <tr>\n",
       "      <th>Espessura Estrutura</th>\n",
       "      <td>Revestimento</td>\n",
       "      <td>Material - Revestimento</td>\n",
       "      <td>Base</td>\n",
       "      <td>Material - Base</td>\n",
       "      <td>Sub-Base</td>\n",
       "      <td>Material - Sub-Base</td>\n",
       "      <td>Reforço</td>\n",
       "      <td>Reforço do Subleito</td>\n",
       "      <td>Material - Reforço do Subleito</td>\n",
       "      <td>Observações</td>\n",
       "      <td>Tipo de Coleta</td>\n",
       "      <td>Material - Revestimento (Outros)</td>\n",
       "      <td>Material - Base (Outros)</td>\n",
       "      <td>Material - Sub-Base (Outros)</td>\n",
       "    </tr>\n",
       "    <tr>\n",
       "      <th>Pavimento</th>\n",
       "      <td>Comprimento (m)</td>\n",
       "      <td>Observações</td>\n",
       "      <td>None</td>\n",
       "      <td>None</td>\n",
       "      <td>None</td>\n",
       "      <td>None</td>\n",
       "      <td>None</td>\n",
       "      <td>None</td>\n",
       "      <td>None</td>\n",
       "      <td>None</td>\n",
       "      <td>None</td>\n",
       "      <td>None</td>\n",
       "      <td>None</td>\n",
       "      <td>None</td>\n",
       "    </tr>\n",
       "    <tr>\n",
       "      <th>Pista com Faixa Adicional</th>\n",
       "      <td>Comprimento (m)</td>\n",
       "      <td>Largura (m)</td>\n",
       "      <td>Espessura (m)</td>\n",
       "      <td>Area (m²)</td>\n",
       "      <td>Volume (m³)</td>\n",
       "      <td>Observações</td>\n",
       "      <td>Origem</td>\n",
       "      <td>É TRO?</td>\n",
       "      <td>Código da TRO</td>\n",
       "      <td>Solução</td>\n",
       "      <td>None</td>\n",
       "      <td>None</td>\n",
       "      <td>None</td>\n",
       "      <td>None</td>\n",
       "    </tr>\n",
       "    <tr>\n",
       "      <th>Pista Dupla</th>\n",
       "      <td>Comprimento (m)</td>\n",
       "      <td>Largura (m)</td>\n",
       "      <td>Espessura (m)</td>\n",
       "      <td>Area (m²)</td>\n",
       "      <td>Volume (m³)</td>\n",
       "      <td>Observações</td>\n",
       "      <td>Origem</td>\n",
       "      <td>É TRO?</td>\n",
       "      <td>Código da TRO</td>\n",
       "      <td>Solução</td>\n",
       "      <td>None</td>\n",
       "      <td>None</td>\n",
       "      <td>None</td>\n",
       "      <td>None</td>\n",
       "    </tr>\n",
       "    <tr>\n",
       "      <th>Pista Simples</th>\n",
       "      <td>Comprimento (m)</td>\n",
       "      <td>Largura (m)</td>\n",
       "      <td>Espessura (m)</td>\n",
       "      <td>Area (m²)</td>\n",
       "      <td>Volume (m³)</td>\n",
       "      <td>Observações</td>\n",
       "      <td>Origem</td>\n",
       "      <td>É TRO?</td>\n",
       "      <td>Código da TRO</td>\n",
       "      <td>Solução</td>\n",
       "      <td>None</td>\n",
       "      <td>None</td>\n",
       "      <td>None</td>\n",
       "      <td>None</td>\n",
       "    </tr>\n",
       "    <tr>\n",
       "      <th>PRO-07 2022</th>\n",
       "      <td>Comprimento (m)</td>\n",
       "      <td>Largura (m)</td>\n",
       "      <td>Altura/Espessura (m)</td>\n",
       "      <td>Area (m²)</td>\n",
       "      <td>Volume (m³)</td>\n",
       "      <td>Observações</td>\n",
       "      <td>None</td>\n",
       "      <td>None</td>\n",
       "      <td>None</td>\n",
       "      <td>None</td>\n",
       "      <td>None</td>\n",
       "      <td>None</td>\n",
       "      <td>None</td>\n",
       "      <td>None</td>\n",
       "    </tr>\n",
       "    <tr>\n",
       "      <th>Saída de dreno</th>\n",
       "      <td>Comprimento (m)</td>\n",
       "      <td>Observações</td>\n",
       "      <td>None</td>\n",
       "      <td>None</td>\n",
       "      <td>None</td>\n",
       "      <td>None</td>\n",
       "      <td>None</td>\n",
       "      <td>None</td>\n",
       "      <td>None</td>\n",
       "      <td>None</td>\n",
       "      <td>None</td>\n",
       "      <td>None</td>\n",
       "      <td>None</td>\n",
       "      <td>None</td>\n",
       "    </tr>\n",
       "    <tr>\n",
       "      <th>TRO</th>\n",
       "      <td>Comprimento (m)</td>\n",
       "      <td>Largura (m)</td>\n",
       "      <td>Altura/Espessura (m)</td>\n",
       "      <td>Area (m²)</td>\n",
       "      <td>Volume (m³)</td>\n",
       "      <td>Observações</td>\n",
       "      <td>None</td>\n",
       "      <td>None</td>\n",
       "      <td>None</td>\n",
       "      <td>None</td>\n",
       "      <td>None</td>\n",
       "      <td>None</td>\n",
       "      <td>None</td>\n",
       "      <td>None</td>\n",
       "    </tr>\n",
       "    <tr>\n",
       "      <th>Diário</th>\n",
       "      <th>DIÁRIO</th>\n",
       "      <td>Clima</td>\n",
       "      <td>Serviços Executados</td>\n",
       "      <td>Eventos com Restrições</td>\n",
       "      <td>Observação</td>\n",
       "      <td>Pluviometria</td>\n",
       "      <td>None</td>\n",
       "      <td>None</td>\n",
       "      <td>None</td>\n",
       "      <td>None</td>\n",
       "      <td>None</td>\n",
       "      <td>None</td>\n",
       "      <td>None</td>\n",
       "      <td>None</td>\n",
       "      <td>None</td>\n",
       "    </tr>\n",
       "    <tr>\n",
       "      <th rowspan=\"8\" valign=\"top\">Monitoração</th>\n",
       "      <th>Aderência</th>\n",
       "      <td>Comprimento (m)</td>\n",
       "      <td>Largura (m)</td>\n",
       "      <td>Espessura (m)</td>\n",
       "      <td>Area (m²)</td>\n",
       "      <td>Volume (m³)</td>\n",
       "      <td>Observações</td>\n",
       "      <td>Origem</td>\n",
       "      <td>É TRO?</td>\n",
       "      <td>Código da TRO</td>\n",
       "      <td>Solução</td>\n",
       "      <td>Parâmetro Atendido</td>\n",
       "      <td>Código KCOR</td>\n",
       "      <td>Código Interno</td>\n",
       "      <td>Código Solicitação ANTT</td>\n",
       "    </tr>\n",
       "    <tr>\n",
       "      <th>ATR</th>\n",
       "      <td>Comprimento (m)</td>\n",
       "      <td>Largura (m)</td>\n",
       "      <td>Espessura (m)</td>\n",
       "      <td>Area (m²)</td>\n",
       "      <td>Volume (m³)</td>\n",
       "      <td>Observações</td>\n",
       "      <td>Origem</td>\n",
       "      <td>É TRO?</td>\n",
       "      <td>Código da TRO</td>\n",
       "      <td>Solução</td>\n",
       "      <td>Parâmetro Atendido</td>\n",
       "      <td>Código KCOR</td>\n",
       "      <td>Código Interno</td>\n",
       "      <td>Código Solicitação ANTT</td>\n",
       "    </tr>\n",
       "    <tr>\n",
       "      <th>Flecha</th>\n",
       "      <td>Comprimento (m)</td>\n",
       "      <td>Largura (m)</td>\n",
       "      <td>Espessura (m)</td>\n",
       "      <td>Area (m²)</td>\n",
       "      <td>Volume (m³)</td>\n",
       "      <td>Observações</td>\n",
       "      <td>Origem</td>\n",
       "      <td>É TRO?</td>\n",
       "      <td>Código da TRO</td>\n",
       "      <td>Solução</td>\n",
       "      <td>Parâmetro Atendido</td>\n",
       "      <td>Código KCOR</td>\n",
       "      <td>Código Interno</td>\n",
       "      <td>Código Solicitação ANTT</td>\n",
       "    </tr>\n",
       "    <tr>\n",
       "      <th>FWD</th>\n",
       "      <td>Comprimento (m)</td>\n",
       "      <td>Largura (m)</td>\n",
       "      <td>Espessura (m)</td>\n",
       "      <td>Area (m²)</td>\n",
       "      <td>Volume (m³)</td>\n",
       "      <td>Observações</td>\n",
       "      <td>Origem</td>\n",
       "      <td>É TRO?</td>\n",
       "      <td>Código da TRO</td>\n",
       "      <td>Solução</td>\n",
       "      <td>Parâmetro Atendido</td>\n",
       "      <td>Código KCOR</td>\n",
       "      <td>Código Interno</td>\n",
       "      <td>Código Solicitação ANTT</td>\n",
       "    </tr>\n",
       "    <tr>\n",
       "      <th>ICP</th>\n",
       "      <td>Comprimento (m)</td>\n",
       "      <td>Largura (m)</td>\n",
       "      <td>Espessura (m)</td>\n",
       "      <td>Area (m²)</td>\n",
       "      <td>Volume (m³)</td>\n",
       "      <td>Observações</td>\n",
       "      <td>Origem</td>\n",
       "      <td>É TRO?</td>\n",
       "      <td>Código da TRO</td>\n",
       "      <td>Solução</td>\n",
       "      <td>Parâmetro Atendido</td>\n",
       "      <td>Código KCOR</td>\n",
       "      <td>Código Interno</td>\n",
       "      <td>Código Solicitação ANTT</td>\n",
       "    </tr>\n",
       "    <tr>\n",
       "      <th>IRI</th>\n",
       "      <td>Comprimento (m)</td>\n",
       "      <td>Largura (m)</td>\n",
       "      <td>Espessura (m)</td>\n",
       "      <td>Area (m²)</td>\n",
       "      <td>Volume (m³)</td>\n",
       "      <td>Observações</td>\n",
       "      <td>Origem</td>\n",
       "      <td>É TRO?</td>\n",
       "      <td>Código da TRO</td>\n",
       "      <td>Solução</td>\n",
       "      <td>Parâmetro Atendido</td>\n",
       "      <td>Código KCOR</td>\n",
       "      <td>Código Interno</td>\n",
       "      <td>Código Solicitação ANTT</td>\n",
       "    </tr>\n",
       "    <tr>\n",
       "      <th>PRO-07 2022 R1</th>\n",
       "      <td>Comprimento (m)</td>\n",
       "      <td>Largura (m)</td>\n",
       "      <td>Altura/Espessura (m)</td>\n",
       "      <td>Area (m²)</td>\n",
       "      <td>Volume (m³)</td>\n",
       "      <td>Observações</td>\n",
       "      <td>None</td>\n",
       "      <td>None</td>\n",
       "      <td>None</td>\n",
       "      <td>None</td>\n",
       "      <td>None</td>\n",
       "      <td>None</td>\n",
       "      <td>None</td>\n",
       "      <td>None</td>\n",
       "    </tr>\n",
       "    <tr>\n",
       "      <th>TR</th>\n",
       "      <td>Comprimento (m)</td>\n",
       "      <td>Largura (m)</td>\n",
       "      <td>Espessura (m)</td>\n",
       "      <td>Area (m²)</td>\n",
       "      <td>Volume (m³)</td>\n",
       "      <td>Observações</td>\n",
       "      <td>Origem</td>\n",
       "      <td>É TRO?</td>\n",
       "      <td>Código da TRO</td>\n",
       "      <td>Solução</td>\n",
       "      <td>Parâmetro Atendido</td>\n",
       "      <td>Código KCOR</td>\n",
       "      <td>Código Interno</td>\n",
       "      <td>Código Solicitação ANTT</td>\n",
       "    </tr>\n",
       "    <tr>\n",
       "      <th>SGP</th>\n",
       "      <th>SGP</th>\n",
       "      <td>Comprimento (m)</td>\n",
       "      <td>Largura (m)</td>\n",
       "      <td>Espessura (m)</td>\n",
       "      <td>Area (m²)</td>\n",
       "      <td>Volume (m³)</td>\n",
       "      <td>Observações</td>\n",
       "      <td>Origem</td>\n",
       "      <td>É TRO?</td>\n",
       "      <td>Código da TRO</td>\n",
       "      <td>Solução</td>\n",
       "      <td>Parâmetro Atendido</td>\n",
       "      <td>Código KCOR</td>\n",
       "      <td>Código Interno</td>\n",
       "      <td>Código Solicitação ANTT</td>\n",
       "    </tr>\n",
       "    <tr>\n",
       "      <th rowspan=\"3\" valign=\"top\">Outros Serviços</th>\n",
       "      <th>PRO 07</th>\n",
       "      <td>Comprimento (m)</td>\n",
       "      <td>Largura (m)</td>\n",
       "      <td>Altura/Espessura (m)</td>\n",
       "      <td>Area (m²)</td>\n",
       "      <td>Volume (m³)</td>\n",
       "      <td>Observações</td>\n",
       "      <td>Estação</td>\n",
       "      <td>Solução</td>\n",
       "      <td>Parâmetro Atendido</td>\n",
       "      <td>None</td>\n",
       "      <td>None</td>\n",
       "      <td>None</td>\n",
       "      <td>None</td>\n",
       "      <td>None</td>\n",
       "    </tr>\n",
       "    <tr>\n",
       "      <th>Retrorrefletância</th>\n",
       "      <td>Valores</td>\n",
       "      <td>Observações</td>\n",
       "      <td>None</td>\n",
       "      <td>None</td>\n",
       "      <td>None</td>\n",
       "      <td>None</td>\n",
       "      <td>None</td>\n",
       "      <td>None</td>\n",
       "      <td>None</td>\n",
       "      <td>None</td>\n",
       "      <td>None</td>\n",
       "      <td>None</td>\n",
       "      <td>None</td>\n",
       "      <td>None</td>\n",
       "    </tr>\n",
       "    <tr>\n",
       "      <th>Sondagem</th>\n",
       "      <td>Comprimento (m)</td>\n",
       "      <td>Largura (m)</td>\n",
       "      <td>Area (m²)</td>\n",
       "      <td>Observações</td>\n",
       "      <td>Camadas</td>\n",
       "      <td>Altura total (cm)</td>\n",
       "      <td>RG</td>\n",
       "      <td>None</td>\n",
       "      <td>None</td>\n",
       "      <td>None</td>\n",
       "      <td>None</td>\n",
       "      <td>None</td>\n",
       "      <td>None</td>\n",
       "      <td>None</td>\n",
       "    </tr>\n",
       "  </tbody>\n",
       "</table>\n",
       "</div>"
      ],
      "text/plain": [
       "                                                             0   \\\n",
       "Levantamento    Acúmulo de Água                 Comprimento (m)   \n",
       "                Bombeamento                     Comprimento (m)   \n",
       "                Degrau de Acostamento           Comprimento (m)   \n",
       "                Depressão                       Comprimento (m)   \n",
       "                Desplacamento                   Comprimento (m)   \n",
       "                DRENO COM AFUNDAMENTO           Comprimento (m)   \n",
       "                Dreno Existente                 Comprimento (m)   \n",
       "                Escorregamento de Massa         Comprimento (m)   \n",
       "                Exsudação                       Comprimento (m)   \n",
       "                FC-3                            Comprimento (m)   \n",
       "                Fresagem 2022                   Comprimento (m)   \n",
       "                Imtraff                         Comprimento (m)   \n",
       "                Inativo                         Comprimento (m)   \n",
       "                Multifuncional                  Comprimento (m)   \n",
       "                PA Buraco                       Comprimento (m)   \n",
       "                Pintura Manual                  Comprimento (m)   \n",
       "                Pintura Mecânica                Comprimento (m)   \n",
       "                Pintura Termoplastica a Frio    Comprimento (m)   \n",
       "                Pintura Termoplastica a Quente  Comprimento (m)   \n",
       "                PM Buraco                       Comprimento (m)   \n",
       "                Ponto de ensaio                 Comprimento (m)   \n",
       "                Prioridade 1 Fresagem           Comprimento (m)   \n",
       "                PRO-07 2023                     Comprimento (m)   \n",
       "                Projeto. RP-152                 Comprimento (m)   \n",
       "                Projeto RP (157)                Comprimento (m)   \n",
       "                Remendo                         Comprimento (m)   \n",
       "                Sela Trinca                     Comprimento (m)   \n",
       "                Tachão                          Comprimento (m)   \n",
       "                Tachas                          Comprimento (m)   \n",
       "                TESTE                           Comprimento (m)   \n",
       "                Trincamento                     Comprimento (m)   \n",
       "                Verificação de PRO-07           Comprimento (m)   \n",
       "Inventário      Dreno Longitudinal              Comprimento (m)   \n",
       "                Dreno Transversal               Comprimento (m)   \n",
       "                Espessura Estrutura                Revestimento   \n",
       "                Pavimento                       Comprimento (m)   \n",
       "                Pista com Faixa Adicional       Comprimento (m)   \n",
       "                Pista Dupla                     Comprimento (m)   \n",
       "                Pista Simples                   Comprimento (m)   \n",
       "                PRO-07 2022                     Comprimento (m)   \n",
       "                Saída de dreno                  Comprimento (m)   \n",
       "                TRO                             Comprimento (m)   \n",
       "Diário          DIÁRIO                                    Clima   \n",
       "Monitoração     Aderência                       Comprimento (m)   \n",
       "                ATR                             Comprimento (m)   \n",
       "                Flecha                          Comprimento (m)   \n",
       "                FWD                             Comprimento (m)   \n",
       "                ICP                             Comprimento (m)   \n",
       "                IRI                             Comprimento (m)   \n",
       "                PRO-07 2022 R1                  Comprimento (m)   \n",
       "                TR                              Comprimento (m)   \n",
       "SGP             SGP                             Comprimento (m)   \n",
       "Outros Serviços PRO 07                          Comprimento (m)   \n",
       "                Retrorrefletância                       Valores   \n",
       "                Sondagem                        Comprimento (m)   \n",
       "\n",
       "                                                                     1   \\\n",
       "Levantamento    Acúmulo de Água                             Largura (m)   \n",
       "                Bombeamento                                 Largura (m)   \n",
       "                Degrau de Acostamento                       Largura (m)   \n",
       "                Depressão                                   Largura (m)   \n",
       "                Desplacamento                               Largura (m)   \n",
       "                DRENO COM AFUNDAMENTO                       Largura (m)   \n",
       "                Dreno Existente                             Largura (m)   \n",
       "                Escorregamento de Massa                     Largura (m)   \n",
       "                Exsudação                                   Largura (m)   \n",
       "                FC-3                                        Largura (m)   \n",
       "                Fresagem 2022                               Largura (m)   \n",
       "                Imtraff                                     Largura (m)   \n",
       "                Inativo                                     Largura (m)   \n",
       "                Multifuncional                              Largura (m)   \n",
       "                PA Buraco                                   Largura (m)   \n",
       "                Pintura Manual                              Observações   \n",
       "                Pintura Mecânica                            Observações   \n",
       "                Pintura Termoplastica a Frio                Observações   \n",
       "                Pintura Termoplastica a Quente              Observações   \n",
       "                PM Buraco                                   Largura (m)   \n",
       "                Ponto de ensaio                             Largura (m)   \n",
       "                Prioridade 1 Fresagem                       Largura (m)   \n",
       "                PRO-07 2023                                 Largura (m)   \n",
       "                Projeto. RP-152                             Largura (m)   \n",
       "                Projeto RP (157)                            Largura (m)   \n",
       "                Remendo                                     Largura (m)   \n",
       "                Sela Trinca                                 Largura (m)   \n",
       "                Tachão                                      Observações   \n",
       "                Tachas                                      Largura (m)   \n",
       "                TESTE                                       Largura (m)   \n",
       "                Trincamento                                 Largura (m)   \n",
       "                Verificação de PRO-07                       Largura (m)   \n",
       "Inventário      Dreno Longitudinal                          Largura (m)   \n",
       "                Dreno Transversal                           Largura (m)   \n",
       "                Espessura Estrutura             Material - Revestimento   \n",
       "                Pavimento                                   Observações   \n",
       "                Pista com Faixa Adicional                   Largura (m)   \n",
       "                Pista Dupla                                 Largura (m)   \n",
       "                Pista Simples                               Largura (m)   \n",
       "                PRO-07 2022                                 Largura (m)   \n",
       "                Saída de dreno                              Observações   \n",
       "                TRO                                         Largura (m)   \n",
       "Diário          DIÁRIO                              Serviços Executados   \n",
       "Monitoração     Aderência                                   Largura (m)   \n",
       "                ATR                                         Largura (m)   \n",
       "                Flecha                                      Largura (m)   \n",
       "                FWD                                         Largura (m)   \n",
       "                ICP                                         Largura (m)   \n",
       "                IRI                                         Largura (m)   \n",
       "                PRO-07 2022 R1                              Largura (m)   \n",
       "                TR                                          Largura (m)   \n",
       "SGP             SGP                                         Largura (m)   \n",
       "Outros Serviços PRO 07                                      Largura (m)   \n",
       "                Retrorrefletância                           Observações   \n",
       "                Sondagem                                    Largura (m)   \n",
       "\n",
       "                                                                    2   \\\n",
       "Levantamento    Acúmulo de Água                          Espessura (m)   \n",
       "                Bombeamento                              Espessura (m)   \n",
       "                Degrau de Acostamento                    Espessura (m)   \n",
       "                Depressão                                Espessura (m)   \n",
       "                Desplacamento                            Espessura (m)   \n",
       "                DRENO COM AFUNDAMENTO             Altura/Espessura (m)   \n",
       "                Dreno Existente                   Altura/Espessura (m)   \n",
       "                Escorregamento de Massa                  Espessura (m)   \n",
       "                Exsudação                                Espessura (m)   \n",
       "                FC-3                                     Espessura (m)   \n",
       "                Fresagem 2022                     Altura/Espessura (m)   \n",
       "                Imtraff                           Altura/Espessura (m)   \n",
       "                Inativo                           Altura/Espessura (m)   \n",
       "                Multifuncional                    Altura/Espessura (m)   \n",
       "                PA Buraco                                Espessura (m)   \n",
       "                Pintura Manual                                    None   \n",
       "                Pintura Mecânica                                  None   \n",
       "                Pintura Termoplastica a Frio                      None   \n",
       "                Pintura Termoplastica a Quente                    None   \n",
       "                PM Buraco                                Espessura (m)   \n",
       "                Ponto de ensaio                   Altura/Espessura (m)   \n",
       "                Prioridade 1 Fresagem             Altura/Espessura (m)   \n",
       "                PRO-07 2023                       Altura/Espessura (m)   \n",
       "                Projeto. RP-152                   Altura/Espessura (m)   \n",
       "                Projeto RP (157)                  Altura/Espessura (m)   \n",
       "                Remendo                                  Espessura (m)   \n",
       "                Sela Trinca                              Espessura (m)   \n",
       "                Tachão                                            None   \n",
       "                Tachas                                   Espessura (m)   \n",
       "                TESTE                             Altura/Espessura (m)   \n",
       "                Trincamento                              Espessura (m)   \n",
       "                Verificação de PRO-07             Altura/Espessura (m)   \n",
       "Inventário      Dreno Longitudinal                Altura/Espessura (m)   \n",
       "                Dreno Transversal                 Altura/Espessura (m)   \n",
       "                Espessura Estrutura                               Base   \n",
       "                Pavimento                                         None   \n",
       "                Pista com Faixa Adicional                Espessura (m)   \n",
       "                Pista Dupla                              Espessura (m)   \n",
       "                Pista Simples                            Espessura (m)   \n",
       "                PRO-07 2022                       Altura/Espessura (m)   \n",
       "                Saída de dreno                                    None   \n",
       "                TRO                               Altura/Espessura (m)   \n",
       "Diário          DIÁRIO                          Eventos com Restrições   \n",
       "Monitoração     Aderência                                Espessura (m)   \n",
       "                ATR                                      Espessura (m)   \n",
       "                Flecha                                   Espessura (m)   \n",
       "                FWD                                      Espessura (m)   \n",
       "                ICP                                      Espessura (m)   \n",
       "                IRI                                      Espessura (m)   \n",
       "                PRO-07 2022 R1                    Altura/Espessura (m)   \n",
       "                TR                                       Espessura (m)   \n",
       "SGP             SGP                                      Espessura (m)   \n",
       "Outros Serviços PRO 07                            Altura/Espessura (m)   \n",
       "                Retrorrefletância                                 None   \n",
       "                Sondagem                                     Area (m²)   \n",
       "\n",
       "                                                             3             4   \\\n",
       "Levantamento    Acúmulo de Água                       Area (m²)   Volume (m³)   \n",
       "                Bombeamento                           Area (m²)   Volume (m³)   \n",
       "                Degrau de Acostamento                 Area (m²)   Volume (m³)   \n",
       "                Depressão                             Area (m²)   Volume (m³)   \n",
       "                Desplacamento                         Area (m²)   Volume (m³)   \n",
       "                DRENO COM AFUNDAMENTO                 Area (m²)   Volume (m³)   \n",
       "                Dreno Existente                       Area (m²)   Volume (m³)   \n",
       "                Escorregamento de Massa               Area (m²)   Volume (m³)   \n",
       "                Exsudação                             Area (m²)   Volume (m³)   \n",
       "                FC-3                                  Area (m²)   Volume (m³)   \n",
       "                Fresagem 2022                         Area (m²)   Volume (m³)   \n",
       "                Imtraff                               Area (m²)   Volume (m³)   \n",
       "                Inativo                               Area (m²)   Volume (m³)   \n",
       "                Multifuncional                        Area (m²)   Volume (m³)   \n",
       "                PA Buraco                             Area (m²)   Volume (m³)   \n",
       "                Pintura Manual                             None          None   \n",
       "                Pintura Mecânica                           None          None   \n",
       "                Pintura Termoplastica a Frio               None          None   \n",
       "                Pintura Termoplastica a Quente             None          None   \n",
       "                PM Buraco                             Area (m²)   Volume (m³)   \n",
       "                Ponto de ensaio                       Area (m²)   Volume (m³)   \n",
       "                Prioridade 1 Fresagem                 Area (m²)   Volume (m³)   \n",
       "                PRO-07 2023                           Area (m²)   Volume (m³)   \n",
       "                Projeto. RP-152                       Area (m²)   Volume (m³)   \n",
       "                Projeto RP (157)                      Area (m²)   Volume (m³)   \n",
       "                Remendo                               Area (m²)   Volume (m³)   \n",
       "                Sela Trinca                           Area (m²)   Volume (m³)   \n",
       "                Tachão                                     None          None   \n",
       "                Tachas                                Area (m²)   Volume (m³)   \n",
       "                TESTE                                 Area (m²)   Volume (m³)   \n",
       "                Trincamento                           Area (m²)   Volume (m³)   \n",
       "                Verificação de PRO-07                 Area (m²)   Volume (m³)   \n",
       "Inventário      Dreno Longitudinal                    Area (m²)   Volume (m³)   \n",
       "                Dreno Transversal                     Area (m²)   Volume (m³)   \n",
       "                Espessura Estrutura             Material - Base      Sub-Base   \n",
       "                Pavimento                                  None          None   \n",
       "                Pista com Faixa Adicional             Area (m²)   Volume (m³)   \n",
       "                Pista Dupla                           Area (m²)   Volume (m³)   \n",
       "                Pista Simples                         Area (m²)   Volume (m³)   \n",
       "                PRO-07 2022                           Area (m²)   Volume (m³)   \n",
       "                Saída de dreno                             None          None   \n",
       "                TRO                                   Area (m²)   Volume (m³)   \n",
       "Diário          DIÁRIO                               Observação  Pluviometria   \n",
       "Monitoração     Aderência                             Area (m²)   Volume (m³)   \n",
       "                ATR                                   Area (m²)   Volume (m³)   \n",
       "                Flecha                                Area (m²)   Volume (m³)   \n",
       "                FWD                                   Area (m²)   Volume (m³)   \n",
       "                ICP                                   Area (m²)   Volume (m³)   \n",
       "                IRI                                   Area (m²)   Volume (m³)   \n",
       "                PRO-07 2022 R1                        Area (m²)   Volume (m³)   \n",
       "                TR                                    Area (m²)   Volume (m³)   \n",
       "SGP             SGP                                   Area (m²)   Volume (m³)   \n",
       "Outros Serviços PRO 07                                Area (m²)   Volume (m³)   \n",
       "                Retrorrefletância                          None          None   \n",
       "                Sondagem                            Observações       Camadas   \n",
       "\n",
       "                                                                 5        6   \\\n",
       "Levantamento    Acúmulo de Água                         Observações   Origem   \n",
       "                Bombeamento                             Observações   Origem   \n",
       "                Degrau de Acostamento                   Observações   Origem   \n",
       "                Depressão                               Observações   Origem   \n",
       "                Desplacamento                           Observações   Origem   \n",
       "                DRENO COM AFUNDAMENTO                   Observações     None   \n",
       "                Dreno Existente                         Observações     None   \n",
       "                Escorregamento de Massa                 Observações   Origem   \n",
       "                Exsudação                               Observações   Origem   \n",
       "                FC-3                                    Observações   Origem   \n",
       "                Fresagem 2022                           Observações     None   \n",
       "                Imtraff                                 Observações     None   \n",
       "                Inativo                                 Observações     None   \n",
       "                Multifuncional                          Observações     None   \n",
       "                PA Buraco                               Observações   Origem   \n",
       "                Pintura Manual                                 None     None   \n",
       "                Pintura Mecânica                               None     None   \n",
       "                Pintura Termoplastica a Frio                   None     None   \n",
       "                Pintura Termoplastica a Quente                 None     None   \n",
       "                PM Buraco                               Observações   Origem   \n",
       "                Ponto de ensaio                         Observações     None   \n",
       "                Prioridade 1 Fresagem                   Observações     None   \n",
       "                PRO-07 2023                             Observações     None   \n",
       "                Projeto. RP-152                         Observações     None   \n",
       "                Projeto RP (157)                        Observações     None   \n",
       "                Remendo                                 Observações   Origem   \n",
       "                Sela Trinca                             Observações   Origem   \n",
       "                Tachão                                         None     None   \n",
       "                Tachas                                  Observações   Origem   \n",
       "                TESTE                                   Observações     None   \n",
       "                Trincamento                             Observações   Origem   \n",
       "                Verificação de PRO-07                   Observações     None   \n",
       "Inventário      Dreno Longitudinal                      Observações     None   \n",
       "                Dreno Transversal                       Observações     None   \n",
       "                Espessura Estrutura             Material - Sub-Base  Reforço   \n",
       "                Pavimento                                      None     None   \n",
       "                Pista com Faixa Adicional               Observações   Origem   \n",
       "                Pista Dupla                             Observações   Origem   \n",
       "                Pista Simples                           Observações   Origem   \n",
       "                PRO-07 2022                             Observações     None   \n",
       "                Saída de dreno                                 None     None   \n",
       "                TRO                                     Observações     None   \n",
       "Diário          DIÁRIO                                         None     None   \n",
       "Monitoração     Aderência                               Observações   Origem   \n",
       "                ATR                                     Observações   Origem   \n",
       "                Flecha                                  Observações   Origem   \n",
       "                FWD                                     Observações   Origem   \n",
       "                ICP                                     Observações   Origem   \n",
       "                IRI                                     Observações   Origem   \n",
       "                PRO-07 2022 R1                          Observações     None   \n",
       "                TR                                      Observações   Origem   \n",
       "SGP             SGP                                     Observações   Origem   \n",
       "Outros Serviços PRO 07                                  Observações  Estação   \n",
       "                Retrorrefletância                              None     None   \n",
       "                Sondagem                          Altura total (cm)       RG   \n",
       "\n",
       "                                                                 7   \\\n",
       "Levantamento    Acúmulo de Água                              É TRO?   \n",
       "                Bombeamento                                  É TRO?   \n",
       "                Degrau de Acostamento                        É TRO?   \n",
       "                Depressão                                    É TRO?   \n",
       "                Desplacamento                                É TRO?   \n",
       "                DRENO COM AFUNDAMENTO                          None   \n",
       "                Dreno Existente                                None   \n",
       "                Escorregamento de Massa                      É TRO?   \n",
       "                Exsudação                                    É TRO?   \n",
       "                FC-3                                         É TRO?   \n",
       "                Fresagem 2022                                  None   \n",
       "                Imtraff                                        None   \n",
       "                Inativo                                        None   \n",
       "                Multifuncional                                 None   \n",
       "                PA Buraco                                    É TRO?   \n",
       "                Pintura Manual                                 None   \n",
       "                Pintura Mecânica                               None   \n",
       "                Pintura Termoplastica a Frio                   None   \n",
       "                Pintura Termoplastica a Quente                 None   \n",
       "                PM Buraco                                    É TRO?   \n",
       "                Ponto de ensaio                                None   \n",
       "                Prioridade 1 Fresagem                          None   \n",
       "                PRO-07 2023                                    None   \n",
       "                Projeto. RP-152                                None   \n",
       "                Projeto RP (157)                               None   \n",
       "                Remendo                                      É TRO?   \n",
       "                Sela Trinca                                  É TRO?   \n",
       "                Tachão                                         None   \n",
       "                Tachas                                       É TRO?   \n",
       "                TESTE                                          None   \n",
       "                Trincamento                                  É TRO?   \n",
       "                Verificação de PRO-07                          None   \n",
       "Inventário      Dreno Longitudinal                             None   \n",
       "                Dreno Transversal                              None   \n",
       "                Espessura Estrutura             Reforço do Subleito   \n",
       "                Pavimento                                      None   \n",
       "                Pista com Faixa Adicional                    É TRO?   \n",
       "                Pista Dupla                                  É TRO?   \n",
       "                Pista Simples                                É TRO?   \n",
       "                PRO-07 2022                                    None   \n",
       "                Saída de dreno                                 None   \n",
       "                TRO                                            None   \n",
       "Diário          DIÁRIO                                         None   \n",
       "Monitoração     Aderência                                    É TRO?   \n",
       "                ATR                                          É TRO?   \n",
       "                Flecha                                       É TRO?   \n",
       "                FWD                                          É TRO?   \n",
       "                ICP                                          É TRO?   \n",
       "                IRI                                          É TRO?   \n",
       "                PRO-07 2022 R1                                 None   \n",
       "                TR                                           É TRO?   \n",
       "SGP             SGP                                          É TRO?   \n",
       "Outros Serviços PRO 07                                      Solução   \n",
       "                Retrorrefletância                              None   \n",
       "                Sondagem                                       None   \n",
       "\n",
       "                                                                            8   \\\n",
       "Levantamento    Acúmulo de Água                                  Código da TRO   \n",
       "                Bombeamento                                      Código da TRO   \n",
       "                Degrau de Acostamento                            Código da TRO   \n",
       "                Depressão                                        Código da TRO   \n",
       "                Desplacamento                                    Código da TRO   \n",
       "                DRENO COM AFUNDAMENTO                                     None   \n",
       "                Dreno Existente                                           None   \n",
       "                Escorregamento de Massa                          Código da TRO   \n",
       "                Exsudação                                        Código da TRO   \n",
       "                FC-3                                             Código da TRO   \n",
       "                Fresagem 2022                                             None   \n",
       "                Imtraff                                                   None   \n",
       "                Inativo                                                   None   \n",
       "                Multifuncional                                            None   \n",
       "                PA Buraco                                        Código da TRO   \n",
       "                Pintura Manual                                            None   \n",
       "                Pintura Mecânica                                          None   \n",
       "                Pintura Termoplastica a Frio                              None   \n",
       "                Pintura Termoplastica a Quente                            None   \n",
       "                PM Buraco                                        Código da TRO   \n",
       "                Ponto de ensaio                                           None   \n",
       "                Prioridade 1 Fresagem                                     None   \n",
       "                PRO-07 2023                                               None   \n",
       "                Projeto. RP-152                                           None   \n",
       "                Projeto RP (157)                                          None   \n",
       "                Remendo                                          Código da TRO   \n",
       "                Sela Trinca                                      Código da TRO   \n",
       "                Tachão                                                    None   \n",
       "                Tachas                                           Código da TRO   \n",
       "                TESTE                                                     None   \n",
       "                Trincamento                                      Código da TRO   \n",
       "                Verificação de PRO-07                                     None   \n",
       "Inventário      Dreno Longitudinal                                        None   \n",
       "                Dreno Transversal                                         None   \n",
       "                Espessura Estrutura             Material - Reforço do Subleito   \n",
       "                Pavimento                                                 None   \n",
       "                Pista com Faixa Adicional                        Código da TRO   \n",
       "                Pista Dupla                                      Código da TRO   \n",
       "                Pista Simples                                    Código da TRO   \n",
       "                PRO-07 2022                                               None   \n",
       "                Saída de dreno                                            None   \n",
       "                TRO                                                       None   \n",
       "Diário          DIÁRIO                                                    None   \n",
       "Monitoração     Aderência                                        Código da TRO   \n",
       "                ATR                                              Código da TRO   \n",
       "                Flecha                                           Código da TRO   \n",
       "                FWD                                              Código da TRO   \n",
       "                ICP                                              Código da TRO   \n",
       "                IRI                                              Código da TRO   \n",
       "                PRO-07 2022 R1                                            None   \n",
       "                TR                                               Código da TRO   \n",
       "SGP             SGP                                              Código da TRO   \n",
       "Outros Serviços PRO 07                                      Parâmetro Atendido   \n",
       "                Retrorrefletância                                         None   \n",
       "                Sondagem                                                  None   \n",
       "\n",
       "                                                         9   \\\n",
       "Levantamento    Acúmulo de Água                     Solução   \n",
       "                Bombeamento                         Solução   \n",
       "                Degrau de Acostamento               Solução   \n",
       "                Depressão                           Solução   \n",
       "                Desplacamento                       Solução   \n",
       "                DRENO COM AFUNDAMENTO                  None   \n",
       "                Dreno Existente                        None   \n",
       "                Escorregamento de Massa             Solução   \n",
       "                Exsudação                           Solução   \n",
       "                FC-3                                Solução   \n",
       "                Fresagem 2022                          None   \n",
       "                Imtraff                                None   \n",
       "                Inativo                                None   \n",
       "                Multifuncional                         None   \n",
       "                PA Buraco                           Solução   \n",
       "                Pintura Manual                         None   \n",
       "                Pintura Mecânica                       None   \n",
       "                Pintura Termoplastica a Frio           None   \n",
       "                Pintura Termoplastica a Quente         None   \n",
       "                PM Buraco                           Solução   \n",
       "                Ponto de ensaio                        None   \n",
       "                Prioridade 1 Fresagem                  None   \n",
       "                PRO-07 2023                            None   \n",
       "                Projeto. RP-152                        None   \n",
       "                Projeto RP (157)                       None   \n",
       "                Remendo                             Solução   \n",
       "                Sela Trinca                         Solução   \n",
       "                Tachão                                 None   \n",
       "                Tachas                              Solução   \n",
       "                TESTE                                  None   \n",
       "                Trincamento                         Solução   \n",
       "                Verificação de PRO-07                  None   \n",
       "Inventário      Dreno Longitudinal                     None   \n",
       "                Dreno Transversal                      None   \n",
       "                Espessura Estrutura             Observações   \n",
       "                Pavimento                              None   \n",
       "                Pista com Faixa Adicional           Solução   \n",
       "                Pista Dupla                         Solução   \n",
       "                Pista Simples                       Solução   \n",
       "                PRO-07 2022                            None   \n",
       "                Saída de dreno                         None   \n",
       "                TRO                                    None   \n",
       "Diário          DIÁRIO                                 None   \n",
       "Monitoração     Aderência                           Solução   \n",
       "                ATR                                 Solução   \n",
       "                Flecha                              Solução   \n",
       "                FWD                                 Solução   \n",
       "                ICP                                 Solução   \n",
       "                IRI                                 Solução   \n",
       "                PRO-07 2022 R1                         None   \n",
       "                TR                                  Solução   \n",
       "SGP             SGP                                 Solução   \n",
       "Outros Serviços PRO 07                                 None   \n",
       "                Retrorrefletância                      None   \n",
       "                Sondagem                               None   \n",
       "\n",
       "                                                                10  \\\n",
       "Levantamento    Acúmulo de Água                 Parâmetro Atendido   \n",
       "                Bombeamento                     Parâmetro Atendido   \n",
       "                Degrau de Acostamento           Parâmetro Atendido   \n",
       "                Depressão                       Parâmetro Atendido   \n",
       "                Desplacamento                   Parâmetro Atendido   \n",
       "                DRENO COM AFUNDAMENTO                         None   \n",
       "                Dreno Existente                               None   \n",
       "                Escorregamento de Massa         Parâmetro Atendido   \n",
       "                Exsudação                       Parâmetro Atendido   \n",
       "                FC-3                            Parâmetro Atendido   \n",
       "                Fresagem 2022                                 None   \n",
       "                Imtraff                                       None   \n",
       "                Inativo                                       None   \n",
       "                Multifuncional                                None   \n",
       "                PA Buraco                       Parâmetro Atendido   \n",
       "                Pintura Manual                                None   \n",
       "                Pintura Mecânica                              None   \n",
       "                Pintura Termoplastica a Frio                  None   \n",
       "                Pintura Termoplastica a Quente                None   \n",
       "                PM Buraco                       Parâmetro Atendido   \n",
       "                Ponto de ensaio                               None   \n",
       "                Prioridade 1 Fresagem                         None   \n",
       "                PRO-07 2023                                   None   \n",
       "                Projeto. RP-152                               None   \n",
       "                Projeto RP (157)                              None   \n",
       "                Remendo                         Parâmetro Atendido   \n",
       "                Sela Trinca                     Parâmetro Atendido   \n",
       "                Tachão                                        None   \n",
       "                Tachas                          Parâmetro Atendido   \n",
       "                TESTE                                         None   \n",
       "                Trincamento                     Parâmetro Atendido   \n",
       "                Verificação de PRO-07                         None   \n",
       "Inventário      Dreno Longitudinal                            None   \n",
       "                Dreno Transversal                             None   \n",
       "                Espessura Estrutura                 Tipo de Coleta   \n",
       "                Pavimento                                     None   \n",
       "                Pista com Faixa Adicional                     None   \n",
       "                Pista Dupla                                   None   \n",
       "                Pista Simples                                 None   \n",
       "                PRO-07 2022                                   None   \n",
       "                Saída de dreno                                None   \n",
       "                TRO                                           None   \n",
       "Diário          DIÁRIO                                        None   \n",
       "Monitoração     Aderência                       Parâmetro Atendido   \n",
       "                ATR                             Parâmetro Atendido   \n",
       "                Flecha                          Parâmetro Atendido   \n",
       "                FWD                             Parâmetro Atendido   \n",
       "                ICP                             Parâmetro Atendido   \n",
       "                IRI                             Parâmetro Atendido   \n",
       "                PRO-07 2022 R1                                None   \n",
       "                TR                              Parâmetro Atendido   \n",
       "SGP             SGP                             Parâmetro Atendido   \n",
       "Outros Serviços PRO 07                                        None   \n",
       "                Retrorrefletância                             None   \n",
       "                Sondagem                                      None   \n",
       "\n",
       "                                                                              11  \\\n",
       "Levantamento    Acúmulo de Água                                      Código KCOR   \n",
       "                Bombeamento                                          Código KCOR   \n",
       "                Degrau de Acostamento                                Código KCOR   \n",
       "                Depressão                                            Código KCOR   \n",
       "                Desplacamento                                        Código KCOR   \n",
       "                DRENO COM AFUNDAMENTO                                       None   \n",
       "                Dreno Existente                                             None   \n",
       "                Escorregamento de Massa                              Código KCOR   \n",
       "                Exsudação                                            Código KCOR   \n",
       "                FC-3                                                 Código KCOR   \n",
       "                Fresagem 2022                                               None   \n",
       "                Imtraff                                                     None   \n",
       "                Inativo                                                     None   \n",
       "                Multifuncional                                              None   \n",
       "                PA Buraco                                            Código KCOR   \n",
       "                Pintura Manual                                              None   \n",
       "                Pintura Mecânica                                            None   \n",
       "                Pintura Termoplastica a Frio                                None   \n",
       "                Pintura Termoplastica a Quente                              None   \n",
       "                PM Buraco                                            Código KCOR   \n",
       "                Ponto de ensaio                                             None   \n",
       "                Prioridade 1 Fresagem                                       None   \n",
       "                PRO-07 2023                                                 None   \n",
       "                Projeto. RP-152                                             None   \n",
       "                Projeto RP (157)                                            None   \n",
       "                Remendo                                              Código KCOR   \n",
       "                Sela Trinca                                          Código KCOR   \n",
       "                Tachão                                                      None   \n",
       "                Tachas                                               Código KCOR   \n",
       "                TESTE                                                       None   \n",
       "                Trincamento                                          Código KCOR   \n",
       "                Verificação de PRO-07                                       None   \n",
       "Inventário      Dreno Longitudinal                                          None   \n",
       "                Dreno Transversal                                           None   \n",
       "                Espessura Estrutura             Material - Revestimento (Outros)   \n",
       "                Pavimento                                                   None   \n",
       "                Pista com Faixa Adicional                                   None   \n",
       "                Pista Dupla                                                 None   \n",
       "                Pista Simples                                               None   \n",
       "                PRO-07 2022                                                 None   \n",
       "                Saída de dreno                                              None   \n",
       "                TRO                                                         None   \n",
       "Diário          DIÁRIO                                                      None   \n",
       "Monitoração     Aderência                                            Código KCOR   \n",
       "                ATR                                                  Código KCOR   \n",
       "                Flecha                                               Código KCOR   \n",
       "                FWD                                                  Código KCOR   \n",
       "                ICP                                                  Código KCOR   \n",
       "                IRI                                                  Código KCOR   \n",
       "                PRO-07 2022 R1                                              None   \n",
       "                TR                                                   Código KCOR   \n",
       "SGP             SGP                                                  Código KCOR   \n",
       "Outros Serviços PRO 07                                                      None   \n",
       "                Retrorrefletância                                           None   \n",
       "                Sondagem                                                    None   \n",
       "\n",
       "                                                                      12  \\\n",
       "Levantamento    Acúmulo de Água                           Código Interno   \n",
       "                Bombeamento                               Código Interno   \n",
       "                Degrau de Acostamento                     Código Interno   \n",
       "                Depressão                                 Código Interno   \n",
       "                Desplacamento                             Código Interno   \n",
       "                DRENO COM AFUNDAMENTO                               None   \n",
       "                Dreno Existente                                     None   \n",
       "                Escorregamento de Massa                   Código Interno   \n",
       "                Exsudação                                 Código Interno   \n",
       "                FC-3                                      Código Interno   \n",
       "                Fresagem 2022                                       None   \n",
       "                Imtraff                                             None   \n",
       "                Inativo                                             None   \n",
       "                Multifuncional                                      None   \n",
       "                PA Buraco                                 Código Interno   \n",
       "                Pintura Manual                                      None   \n",
       "                Pintura Mecânica                                    None   \n",
       "                Pintura Termoplastica a Frio                        None   \n",
       "                Pintura Termoplastica a Quente                      None   \n",
       "                PM Buraco                                 Código Interno   \n",
       "                Ponto de ensaio                                     None   \n",
       "                Prioridade 1 Fresagem                               None   \n",
       "                PRO-07 2023                                         None   \n",
       "                Projeto. RP-152                                     None   \n",
       "                Projeto RP (157)                                    None   \n",
       "                Remendo                                   Código Interno   \n",
       "                Sela Trinca                               Código Interno   \n",
       "                Tachão                                              None   \n",
       "                Tachas                                    Código Interno   \n",
       "                TESTE                                               None   \n",
       "                Trincamento                               Código Interno   \n",
       "                Verificação de PRO-07                               None   \n",
       "Inventário      Dreno Longitudinal                                  None   \n",
       "                Dreno Transversal                                   None   \n",
       "                Espessura Estrutura             Material - Base (Outros)   \n",
       "                Pavimento                                           None   \n",
       "                Pista com Faixa Adicional                           None   \n",
       "                Pista Dupla                                         None   \n",
       "                Pista Simples                                       None   \n",
       "                PRO-07 2022                                         None   \n",
       "                Saída de dreno                                      None   \n",
       "                TRO                                                 None   \n",
       "Diário          DIÁRIO                                              None   \n",
       "Monitoração     Aderência                                 Código Interno   \n",
       "                ATR                                       Código Interno   \n",
       "                Flecha                                    Código Interno   \n",
       "                FWD                                       Código Interno   \n",
       "                ICP                                       Código Interno   \n",
       "                IRI                                       Código Interno   \n",
       "                PRO-07 2022 R1                                      None   \n",
       "                TR                                        Código Interno   \n",
       "SGP             SGP                                       Código Interno   \n",
       "Outros Serviços PRO 07                                              None   \n",
       "                Retrorrefletância                                   None   \n",
       "                Sondagem                                            None   \n",
       "\n",
       "                                                                          13  \n",
       "Levantamento    Acúmulo de Água                      Código Solicitação ANTT  \n",
       "                Bombeamento                          Código Solicitação ANTT  \n",
       "                Degrau de Acostamento                Código Solicitação ANTT  \n",
       "                Depressão                            Código Solicitação ANTT  \n",
       "                Desplacamento                        Código Solicitação ANTT  \n",
       "                DRENO COM AFUNDAMENTO                                   None  \n",
       "                Dreno Existente                                         None  \n",
       "                Escorregamento de Massa              Código Solicitação ANTT  \n",
       "                Exsudação                            Código Solicitação ANTT  \n",
       "                FC-3                                 Código Solicitação ANTT  \n",
       "                Fresagem 2022                                           None  \n",
       "                Imtraff                                                 None  \n",
       "                Inativo                                                 None  \n",
       "                Multifuncional                                          None  \n",
       "                PA Buraco                            Código Solicitação ANTT  \n",
       "                Pintura Manual                                          None  \n",
       "                Pintura Mecânica                                        None  \n",
       "                Pintura Termoplastica a Frio                            None  \n",
       "                Pintura Termoplastica a Quente                          None  \n",
       "                PM Buraco                            Código Solicitação ANTT  \n",
       "                Ponto de ensaio                                         None  \n",
       "                Prioridade 1 Fresagem                                   None  \n",
       "                PRO-07 2023                                             None  \n",
       "                Projeto. RP-152                                         None  \n",
       "                Projeto RP (157)                                        None  \n",
       "                Remendo                              Código Solicitação ANTT  \n",
       "                Sela Trinca                          Código Solicitação ANTT  \n",
       "                Tachão                                                  None  \n",
       "                Tachas                               Código Solicitação ANTT  \n",
       "                TESTE                                                   None  \n",
       "                Trincamento                          Código Solicitação ANTT  \n",
       "                Verificação de PRO-07                                   None  \n",
       "Inventário      Dreno Longitudinal                                      None  \n",
       "                Dreno Transversal                                       None  \n",
       "                Espessura Estrutura             Material - Sub-Base (Outros)  \n",
       "                Pavimento                                               None  \n",
       "                Pista com Faixa Adicional                               None  \n",
       "                Pista Dupla                                             None  \n",
       "                Pista Simples                                           None  \n",
       "                PRO-07 2022                                             None  \n",
       "                Saída de dreno                                          None  \n",
       "                TRO                                                     None  \n",
       "Diário          DIÁRIO                                                  None  \n",
       "Monitoração     Aderência                            Código Solicitação ANTT  \n",
       "                ATR                                  Código Solicitação ANTT  \n",
       "                Flecha                               Código Solicitação ANTT  \n",
       "                FWD                                  Código Solicitação ANTT  \n",
       "                ICP                                  Código Solicitação ANTT  \n",
       "                IRI                                  Código Solicitação ANTT  \n",
       "                PRO-07 2022 R1                                          None  \n",
       "                TR                                   Código Solicitação ANTT  \n",
       "SGP             SGP                                  Código Solicitação ANTT  \n",
       "Outros Serviços PRO 07                                                  None  \n",
       "                Retrorrefletância                                       None  \n",
       "                Sondagem                                                None  "
      ]
     },
     "execution_count": 77,
     "metadata": {},
     "output_type": "execute_result"
    }
   ],
   "source": [
    "df.transpose()"
   ]
  },
  {
   "cell_type": "code",
   "execution_count": 6,
   "id": "2466672a",
   "metadata": {},
   "outputs": [
    {
     "name": "stdout",
     "output_type": "stream",
     "text": [
      "{'_state': <django.db.models.base.ModelState object at 0x7692aaa56460>, 'uuid': UUID('7c162fc7-b4e9-46ec-86ea-eed48494eb67'), 'company_id': UUID('af087987-e1cd-47e0-8885-d306d5da6821'), 'company_group_id': UUID('e247f3b2-bd48-4849-92c6-301a7381f7e8'), 'user_id': UUID('eff91b1a-55a3-4504-850d-e6467fd99e49'), 'created_at': datetime.datetime(2024, 4, 3, 13, 25, 27, 501801, tzinfo=<UTC>), 'action': 'Update', 'user_ip': '161.22.58.178', 'user_port': None, 'user_agent': 'Mozilla/5.0 (Windows NT 10.0; Win64; x64) AppleWebKit/537.36 (KHTML, like Gecko) Chrome/123.0.0.0 Safari/537.36', 'content_type_id': 12, 'object_id': UUID('af087987-e1cd-47e0-8885-d306d5da6821')} company\n",
      "{'_state': <django.db.models.base.ModelState object at 0x76928b5e0790>, 'uuid': UUID('bba1a6e0-ee97-417d-9af1-733f9a122dce'), 'company_id': UUID('af087987-e1cd-47e0-8885-d306d5da6821'), 'company_group_id': UUID('e247f3b2-bd48-4849-92c6-301a7381f7e8'), 'user_id': UUID('eff91b1a-55a3-4504-850d-e6467fd99e49'), 'created_at': datetime.datetime(2024, 4, 3, 13, 24, 7, 955654, tzinfo=<UTC>), 'action': 'Update', 'user_ip': '161.22.58.178', 'user_port': None, 'user_agent': 'Mozilla/5.0 (Windows NT 10.0; Win64; x64) AppleWebKit/537.36 (KHTML, like Gecko) Chrome/123.0.0.0 Safari/537.36', 'content_type_id': 12, 'object_id': UUID('af087987-e1cd-47e0-8885-d306d5da6821')} company\n",
      "{'_state': <django.db.models.base.ModelState object at 0x76928b5e06a0>, 'uuid': UUID('734825db-9eba-44af-b165-66d92703e11f'), 'company_id': UUID('af087987-e1cd-47e0-8885-d306d5da6821'), 'company_group_id': UUID('e247f3b2-bd48-4849-92c6-301a7381f7e8'), 'user_id': UUID('eff91b1a-55a3-4504-850d-e6467fd99e49'), 'created_at': datetime.datetime(2024, 4, 3, 13, 34, 41, 640373, tzinfo=<UTC>), 'action': 'Update', 'user_ip': '161.22.58.178', 'user_port': None, 'user_agent': 'Mozilla/5.0 (Windows NT 10.0; Win64; x64) AppleWebKit/537.36 (KHTML, like Gecko) Chrome/123.0.0.0 Safari/537.36', 'content_type_id': 12, 'object_id': UUID('af087987-e1cd-47e0-8885-d306d5da6821')} company\n",
      "{'_state': <django.db.models.base.ModelState object at 0x76928b5e0460>, 'uuid': UUID('2c013eae-6af3-467c-bef1-498e60d411da'), 'company_id': UUID('af087987-e1cd-47e0-8885-d306d5da6821'), 'company_group_id': UUID('e247f3b2-bd48-4849-92c6-301a7381f7e8'), 'user_id': UUID('eff91b1a-55a3-4504-850d-e6467fd99e49'), 'created_at': datetime.datetime(2024, 4, 4, 1, 15, 33, 513194, tzinfo=<UTC>), 'action': 'Update', 'user_ip': '161.22.58.178', 'user_port': None, 'user_agent': 'Mozilla/5.0 (Windows NT 10.0; Win64; x64) AppleWebKit/537.36 (KHTML, like Gecko) Chrome/123.0.0.0 Safari/537.36', 'content_type_id': 27, 'object_id': UUID('e1a21f98-f0e1-43ae-be1e-19ddca9560d7')} userpermission\n",
      "{'_state': <django.db.models.base.ModelState object at 0x76928b5e03d0>, 'uuid': UUID('061e1bd2-734b-4fc8-b2d4-3d074680b1bc'), 'company_id': UUID('af087987-e1cd-47e0-8885-d306d5da6821'), 'company_group_id': UUID('e247f3b2-bd48-4849-92c6-301a7381f7e8'), 'user_id': UUID('eff91b1a-55a3-4504-850d-e6467fd99e49'), 'created_at': datetime.datetime(2024, 4, 4, 1, 15, 43, 955411, tzinfo=<UTC>), 'action': 'Update', 'user_ip': '161.22.58.178', 'user_port': None, 'user_agent': 'Mozilla/5.0 (Windows NT 10.0; Win64; x64) AppleWebKit/537.36 (KHTML, like Gecko) Chrome/123.0.0.0 Safari/537.36', 'content_type_id': 27, 'object_id': UUID('072573b9-7bb5-40e0-adf9-75942619b48a')} userpermission\n",
      "{'_state': <django.db.models.base.ModelState object at 0x76928d6f7280>, 'uuid': UUID('96de9f66-a8c9-447f-9392-40f1ffeb18f4'), 'company_id': UUID('af087987-e1cd-47e0-8885-d306d5da6821'), 'company_group_id': UUID('e247f3b2-bd48-4849-92c6-301a7381f7e8'), 'user_id': UUID('eff91b1a-55a3-4504-850d-e6467fd99e49'), 'created_at': datetime.datetime(2024, 4, 4, 1, 15, 39, 30839, tzinfo=<UTC>), 'action': 'Update', 'user_ip': '161.22.58.178', 'user_port': None, 'user_agent': 'Mozilla/5.0 (Windows NT 10.0; Win64; x64) AppleWebKit/537.36 (KHTML, like Gecko) Chrome/123.0.0.0 Safari/537.36', 'content_type_id': 27, 'object_id': UUID('42e41231-69bb-4ee2-904b-81374c24fbe3')} userpermission\n"
     ]
    }
   ],
   "source": [
    "for a in ActionLog.objects.filter(user__username='leonardo.bruxel',company__name='Via Araucária'):\n",
    "    print(a.__dict__,a.content_type.model)"
   ]
  },
  {
   "cell_type": "code",
   "execution_count": null,
   "id": "ef79e7ed",
   "metadata": {},
   "outputs": [],
   "source": []
  }
 ],
 "metadata": {
  "kernelspec": {
   "display_name": "Django Shell-Plus",
   "language": "python",
   "name": "django_extensions"
  },
  "language_info": {
   "codemirror_mode": {
    "name": "ipython",
    "version": 3
   },
   "file_extension": ".py",
   "mimetype": "text/x-python",
   "name": "python",
   "nbconvert_exporter": "python",
   "pygments_lexer": "ipython3",
   "version": "3.8.16"
  }
 },
 "nbformat": 4,
 "nbformat_minor": 5
}
