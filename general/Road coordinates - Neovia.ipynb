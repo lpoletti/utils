{
 "cells": [
  {
   "cell_type": "code",
   "execution_count": 9,
   "metadata": {},
   "outputs": [],
   "source": [
    "import numpy\n",
    "from numpy import arange\n",
    "from helpers.km_converter import km_to_coordinates\n",
    "from collections import defaultdict\n",
    "from openpyxl import Workbook\n",
    "from django.db.models import Q\n",
    "from tqdm.notebook import tqdm"
   ]
  },
  {
   "cell_type": "code",
   "execution_count": 2,
   "metadata": {},
   "outputs": [
    {
     "data": {
      "text/plain": [
       "21"
      ]
     },
     "execution_count": 2,
     "metadata": {},
     "output_type": "execute_result"
    }
   ],
   "source": [
    "company = Company.objects.filter(name__icontains='Neovia')\n",
    "roads = Road.objects.filter(Q(company__in=company) & (Q(id='803')| Q(id='804') | Q(id='805')|\n",
    "                            Q(id='1073') | Q(id='459') | Q(id='469') |\n",
    "                            Q(id='340') | Q(id='97') | Q(id='102') | Q(id='137')|\n",
    "                            Q(id='405') | Q(id='406') | Q(id='102') | Q(id='200')|\n",
    "                            Q(id='201') | Q(id='202') | Q(id='203') | Q(id='197')|\n",
    "                            Q(id='1077') | Q(id='995') | Q(id='80') | Q(id='106'))).order_by('name')\n",
    "roads.count()"
   ]
  },
  {
   "cell_type": "code",
   "execution_count": 3,
   "metadata": {},
   "outputs": [
    {
     "name": "stdout",
     "output_type": "stream",
     "text": [
      "BR101-SC\n",
      "BR101-SC\n",
      "BR-116\n",
      "BR-116\n",
      "BR-116\n",
      "BR116ANC-PR\n",
      "BR116-PR\n",
      "BR116-PR\n",
      "BR116-PR\n",
      "BR116-SC\n",
      "BR116-SP\n",
      "BR116-SP\n",
      "BR-153\n",
      "BR-280\n",
      "BR282-SC\n",
      "BR282-SC\n",
      "BR282-SC\n",
      "BR282-SC\n",
      "BR359-MS\n",
      "BR359-MS\n",
      "BR-376\n"
     ]
    }
   ],
   "source": [
    "for a in roads:\n",
    "    print(a.name)"
   ]
  },
  {
   "cell_type": "code",
   "execution_count": 10,
   "metadata": {
    "collapsed": true
   },
   "outputs": [
    {
     "name": "stdout",
     "output_type": "stream",
     "text": [
      "\n",
      "\n"
     ]
    },
    {
     "data": {
      "application/vnd.jupyter.widget-view+json": {
       "model_id": "2f877a225ad544e4aef9e98bd7920784",
       "version_major": 2,
       "version_minor": 0
      },
      "text/plain": [
       "  0%|          | 0/24602 [00:00<?, ?it/s]"
      ]
     },
     "metadata": {},
     "output_type": "display_data"
    },
    {
     "name": "stdout",
     "output_type": "stream",
     "text": [
      "TypeError(\"'NoneType' object is not subscriptable\",)\n",
      "\n",
      "\n"
     ]
    },
    {
     "data": {
      "application/vnd.jupyter.widget-view+json": {
       "model_id": "f23d90c2c45641cbbd1fdae1a4629db8",
       "version_major": 2,
       "version_minor": 0
      },
      "text/plain": [
       "  0%|          | 0/24602 [00:00<?, ?it/s]"
      ]
     },
     "metadata": {},
     "output_type": "display_data"
    },
    {
     "name": "stdout",
     "output_type": "stream",
     "text": [
      "TypeError(\"'NoneType' object is not subscriptable\",)\n",
      "\n",
      "\n"
     ]
    },
    {
     "data": {
      "application/vnd.jupyter.widget-view+json": {
       "model_id": "5e4f02e04b3940cf9eccb50798836d83",
       "version_major": 2,
       "version_minor": 0
      },
      "text/plain": [
       "  0%|          | 0/7492 [00:00<?, ?it/s]"
      ]
     },
     "metadata": {},
     "output_type": "display_data"
    },
    {
     "name": "stdout",
     "output_type": "stream",
     "text": [
      "TypeError(\"'NoneType' object is not subscriptable\",)\n",
      "\n",
      "\n"
     ]
    },
    {
     "data": {
      "application/vnd.jupyter.widget-view+json": {
       "model_id": "852f6b8c948e46399050f07289673954",
       "version_major": 2,
       "version_minor": 0
      },
      "text/plain": [
       "  0%|          | 0/10892 [00:00<?, ?it/s]"
      ]
     },
     "metadata": {},
     "output_type": "display_data"
    },
    {
     "name": "stdout",
     "output_type": "stream",
     "text": [
      "TypeError(\"'NoneType' object is not subscriptable\",)\n",
      "\n",
      "\n"
     ]
    },
    {
     "data": {
      "application/vnd.jupyter.widget-view+json": {
       "model_id": "e58322b099124da28d266b556c68d4aa",
       "version_major": 2,
       "version_minor": 0
      },
      "text/plain": [
       "  0%|          | 0/10892 [00:00<?, ?it/s]"
      ]
     },
     "metadata": {},
     "output_type": "display_data"
    },
    {
     "name": "stdout",
     "output_type": "stream",
     "text": [
      "TypeError(\"'NoneType' object is not subscriptable\",)\n",
      "\n",
      "\n"
     ]
    },
    {
     "data": {
      "application/vnd.jupyter.widget-view+json": {
       "model_id": "7f51c71e984f442b85f35eae7b105526",
       "version_major": 2,
       "version_minor": 0
      },
      "text/plain": [
       "  0%|          | 0/1872 [00:00<?, ?it/s]"
      ]
     },
     "metadata": {},
     "output_type": "display_data"
    },
    {
     "name": "stdout",
     "output_type": "stream",
     "text": [
      "TypeError(\"'NoneType' object is not subscriptable\",)\n",
      "TypeError(\"'NoneType' object is not subscriptable\",)\n",
      "\n",
      "\n"
     ]
    },
    {
     "data": {
      "application/vnd.jupyter.widget-view+json": {
       "model_id": "e9a4342572a246549695685d348cb4e8",
       "version_major": 2,
       "version_minor": 0
      },
      "text/plain": [
       "  0%|          | 0/9702 [00:00<?, ?it/s]"
      ]
     },
     "metadata": {},
     "output_type": "display_data"
    },
    {
     "name": "stdout",
     "output_type": "stream",
     "text": [
      "TypeError(\"'NoneType' object is not subscriptable\",)\n",
      "\n",
      "\n"
     ]
    },
    {
     "data": {
      "application/vnd.jupyter.widget-view+json": {
       "model_id": "90a5b64c756c4075b35efc156addc6c8",
       "version_major": 2,
       "version_minor": 0
      },
      "text/plain": [
       "  0%|          | 0/7152 [00:00<?, ?it/s]"
      ]
     },
     "metadata": {},
     "output_type": "display_data"
    },
    {
     "name": "stdout",
     "output_type": "stream",
     "text": [
      "TypeError(\"'NoneType' object is not subscriptable\",)\n",
      "TypeError(\"'NoneType' object is not subscriptable\",)\n",
      "\n",
      "\n"
     ]
    },
    {
     "data": {
      "application/vnd.jupyter.widget-view+json": {
       "model_id": "44003b88a5b743078677a87bba5bb660",
       "version_major": 2,
       "version_minor": 0
      },
      "text/plain": [
       "  0%|          | 0/7152 [00:00<?, ?it/s]"
      ]
     },
     "metadata": {},
     "output_type": "display_data"
    },
    {
     "name": "stdout",
     "output_type": "stream",
     "text": [
      "TypeError(\"'NoneType' object is not subscriptable\",)\n",
      "TypeError(\"'NoneType' object is not subscriptable\",)\n",
      "\n",
      "\n"
     ]
    },
    {
     "data": {
      "application/vnd.jupyter.widget-view+json": {
       "model_id": "3ea75322c57e4c3b9c3dd19950e9d83a",
       "version_major": 2,
       "version_minor": 0
      },
      "text/plain": [
       "  0%|          | 0/31019 [00:00<?, ?it/s]"
      ]
     },
     "metadata": {},
     "output_type": "display_data"
    },
    {
     "name": "stdout",
     "output_type": "stream",
     "text": [
      "TypeError(\"'NoneType' object is not subscriptable\",)\n",
      "\n",
      "\n"
     ]
    },
    {
     "data": {
      "application/vnd.jupyter.widget-view+json": {
       "model_id": "c65ba0b805274f5daa8ace7d432cfcbf",
       "version_major": 2,
       "version_minor": 0
      },
      "text/plain": [
       "  0%|          | 0/30045 [00:00<?, ?it/s]"
      ]
     },
     "metadata": {},
     "output_type": "display_data"
    },
    {
     "name": "stdout",
     "output_type": "stream",
     "text": [
      "TypeError(\"'NoneType' object is not subscriptable\",)\n",
      "\n",
      "\n"
     ]
    },
    {
     "data": {
      "application/vnd.jupyter.widget-view+json": {
       "model_id": "abf11e72ccfe4d4692a18db0be36889e",
       "version_major": 2,
       "version_minor": 0
      },
      "text/plain": [
       "  0%|          | 0/30015 [00:00<?, ?it/s]"
      ]
     },
     "metadata": {},
     "output_type": "display_data"
    },
    {
     "name": "stdout",
     "output_type": "stream",
     "text": [
      "TypeError(\"'NoneType' object is not subscriptable\",)\n",
      "\n",
      "\n"
     ]
    },
    {
     "data": {
      "application/vnd.jupyter.widget-view+json": {
       "model_id": "2db88a75d63e46dea977849dfdee545c",
       "version_major": 2,
       "version_minor": 0
      },
      "text/plain": [
       "  0%|          | 0/7452 [00:00<?, ?it/s]"
      ]
     },
     "metadata": {},
     "output_type": "display_data"
    },
    {
     "name": "stdout",
     "output_type": "stream",
     "text": [
      "TypeError(\"'NoneType' object is not subscriptable\",)\n",
      "\n",
      "\n"
     ]
    },
    {
     "data": {
      "application/vnd.jupyter.widget-view+json": {
       "model_id": "54d73c0e7d2347dea5582539c118014c",
       "version_major": 2,
       "version_minor": 0
      },
      "text/plain": [
       "  0%|          | 0/8442 [00:00<?, ?it/s]"
      ]
     },
     "metadata": {},
     "output_type": "display_data"
    },
    {
     "name": "stdout",
     "output_type": "stream",
     "text": [
      "TypeError(\"'NoneType' object is not subscriptable\",)\n",
      "\n",
      "\n"
     ]
    },
    {
     "data": {
      "application/vnd.jupyter.widget-view+json": {
       "model_id": "7048ce3df8054d4ca40d6cbc980903c6",
       "version_major": 2,
       "version_minor": 0
      },
      "text/plain": [
       "  0%|          | 0/10272 [00:00<?, ?it/s]"
      ]
     },
     "metadata": {},
     "output_type": "display_data"
    },
    {
     "name": "stdout",
     "output_type": "stream",
     "text": [
      "TypeError(\"'NoneType' object is not subscriptable\",)\n",
      "\n",
      "\n"
     ]
    },
    {
     "data": {
      "application/vnd.jupyter.widget-view+json": {
       "model_id": "bf987fc560434e17b2cd9459130737e1",
       "version_major": 2,
       "version_minor": 0
      },
      "text/plain": [
       "  0%|          | 0/15252 [00:00<?, ?it/s]"
      ]
     },
     "metadata": {},
     "output_type": "display_data"
    },
    {
     "name": "stdout",
     "output_type": "stream",
     "text": [
      "TypeError(\"'NoneType' object is not subscriptable\",)\n",
      "\n",
      "\n"
     ]
    },
    {
     "data": {
      "application/vnd.jupyter.widget-view+json": {
       "model_id": "a6c7485819524457854a67cf00560f96",
       "version_major": 2,
       "version_minor": 0
      },
      "text/plain": [
       "  0%|          | 0/10902 [00:00<?, ?it/s]"
      ]
     },
     "metadata": {},
     "output_type": "display_data"
    },
    {
     "name": "stdout",
     "output_type": "stream",
     "text": [
      "TypeError(\"'NoneType' object is not subscriptable\",)\n",
      "\n",
      "\n"
     ]
    },
    {
     "data": {
      "application/vnd.jupyter.widget-view+json": {
       "model_id": "e8c4b27d12e244cfa40e76027f7a2a1d",
       "version_major": 2,
       "version_minor": 0
      },
      "text/plain": [
       "  0%|          | 0/10272 [00:00<?, ?it/s]"
      ]
     },
     "metadata": {},
     "output_type": "display_data"
    },
    {
     "name": "stdout",
     "output_type": "stream",
     "text": [
      "TypeError(\"'NoneType' object is not subscriptable\",)\n",
      "\n",
      "\n"
     ]
    },
    {
     "data": {
      "application/vnd.jupyter.widget-view+json": {
       "model_id": "2982aa5369524bb6b1d4b0819b10e703",
       "version_major": 2,
       "version_minor": 0
      },
      "text/plain": [
       "  0%|          | 0/22200 [00:00<?, ?it/s]"
      ]
     },
     "metadata": {},
     "output_type": "display_data"
    },
    {
     "name": "stdout",
     "output_type": "stream",
     "text": [
      "TypeError(\"'NoneType' object is not subscriptable\",)\n",
      "\n",
      "\n"
     ]
    },
    {
     "data": {
      "application/vnd.jupyter.widget-view+json": {
       "model_id": "0e7a8b9b318d4a19b6091e8a5b7d34b9",
       "version_major": 2,
       "version_minor": 0
      },
      "text/plain": [
       "  0%|          | 0/172 [00:00<?, ?it/s]"
      ]
     },
     "metadata": {},
     "output_type": "display_data"
    },
    {
     "name": "stdout",
     "output_type": "stream",
     "text": [
      "TypeError(\"'NoneType' object is not subscriptable\",)\n",
      "\n",
      "\n"
     ]
    },
    {
     "data": {
      "application/vnd.jupyter.widget-view+json": {
       "model_id": "e5b03f9832514977bf3e6db40efe1ae4",
       "version_major": 2,
       "version_minor": 0
      },
      "text/plain": [
       "  0%|          | 0/3102 [00:00<?, ?it/s]"
      ]
     },
     "metadata": {},
     "output_type": "display_data"
    },
    {
     "name": "stdout",
     "output_type": "stream",
     "text": [
      "TypeError(\"'NoneType' object is not subscriptable\",)\n"
     ]
    }
   ],
   "source": [
    "kms = defaultdict(list)\n",
    "\n",
    "for road in roads:\n",
    "#     if road.name in kms.keys():\n",
    "#         continue\n",
    "    \n",
    "    start = road.marks['0']['km']\n",
    "    end = road.marks[list(road.marks.keys())[-1]]['km']\n",
    "    print('\\n')\n",
    "    \n",
    "    if start > end:\n",
    "        temp = end\n",
    "        end = start\n",
    "        start = temp\n",
    "    \n",
    "    for km in tqdm(arange(start, end+0.015, 0.01)):\n",
    "#         print('{:.3f}'.format(km))\n",
    "#         instance.point, instance.road = get_road_coordinates(\n",
    "#         instance.road_name,\n",
    "#         instance.km,\n",
    "#         instance.direction,\n",
    "#         instance.company,\n",
    "#         ) or (Point(0, 0), None)\n",
    "        try:\n",
    "            coordinate = km_to_coordinates(road, round(km, 3))\n",
    "            kms[road.name + str(road.id)].append(('{:.3f}'.format(km), coordinate[0].x, coordinate[0].y))\n",
    "        except Exception as e:\n",
    "            print(repr(e))\n",
    "#             pass\n",
    "#             print(road.name, road.id, km)"
   ]
  },
  {
   "cell_type": "code",
   "execution_count": 11,
   "metadata": {},
   "outputs": [
    {
     "data": {
      "text/plain": [
       "21"
      ]
     },
     "execution_count": 11,
     "metadata": {},
     "output_type": "execute_result"
    }
   ],
   "source": [
    "len(kms.keys())"
   ]
  },
  {
   "cell_type": "code",
   "execution_count": 12,
   "metadata": {},
   "outputs": [],
   "source": [
    "wb=None"
   ]
  },
  {
   "cell_type": "code",
   "execution_count": 13,
   "metadata": {},
   "outputs": [],
   "source": [
    "wb = Workbook()\n",
    "filename = 'Coordinates_Neovia_10.xlsx'"
   ]
  },
  {
   "cell_type": "code",
   "execution_count": 14,
   "metadata": {},
   "outputs": [
    {
     "name": "stdout",
     "output_type": "stream",
     "text": [
      "406: BR101-SC\n",
      "405: BR101-SC\n",
      "803: BR-116\n",
      "805: BR-116\n",
      "804: BR-116\n",
      "197: BR116ANC-PR\n",
      "80: BR116-PR\n",
      "201: BR116-PR\n",
      "203: BR116-PR\n",
      "106: BR116-SC\n",
      "200: BR116-SP\n",
      "202: BR116-SP\n",
      "1077: BR-153\n",
      "1073: BR-280\n",
      "340: BR282-SC\n",
      "97: BR282-SC\n",
      "137: BR282-SC\n",
      "102: BR282-SC\n",
      "459: BR359-MS\n",
      "469: BR359-MS\n",
      "995: BR-376\n"
     ]
    }
   ],
   "source": [
    "for a in roads:\n",
    "    if not a.name in kms.keys():\n",
    "        print(a)"
   ]
  },
  {
   "cell_type": "code",
   "execution_count": 15,
   "metadata": {},
   "outputs": [
    {
     "name": "stdout",
     "output_type": "stream",
     "text": [
      "BR101-SC406\n",
      "BR101-SC405\n",
      "BR-116803\n",
      "BR-116805\n",
      "BR-116804\n",
      "BR116ANC-PR197\n",
      "BR116-PR80\n",
      "BR116-PR201\n",
      "BR116-PR203\n",
      "BR116-SC106\n",
      "BR116-SP200\n",
      "BR116-SP202\n",
      "BR-1531077\n",
      "BR-2801073\n",
      "BR282-SC340\n",
      "BR282-SC97\n",
      "BR282-SC137\n",
      "BR282-SC102\n",
      "BR359-MS459\n",
      "BR359-MS469\n",
      "BR-376995\n"
     ]
    }
   ],
   "source": [
    "for names, marks in kms.items():\n",
    "    print(names)"
   ]
  },
  {
   "cell_type": "code",
   "execution_count": 16,
   "metadata": {},
   "outputs": [],
   "source": [
    "for names, marks in kms.items():\n",
    "    ws = wb.create_sheet(title=names.replace('/', '-'))\n",
    "    ws.append(['Km', 'Longitude', 'Latitude'])\n",
    "    for mark in marks:\n",
    "        ws.append(mark)"
   ]
  },
  {
   "cell_type": "code",
   "execution_count": 17,
   "metadata": {},
   "outputs": [],
   "source": [
    "wb.save(filename=filename)"
   ]
  },
  {
   "cell_type": "code",
   "execution_count": null,
   "metadata": {},
   "outputs": [],
   "source": []
  }
 ],
 "metadata": {
  "kernelspec": {
   "display_name": "Django Shell-Plus",
   "language": "python",
   "name": "django_extensions"
  },
  "language_info": {
   "codemirror_mode": {
    "name": "ipython",
    "version": 3
   },
   "file_extension": ".py",
   "mimetype": "text/x-python",
   "name": "python",
   "nbconvert_exporter": "python",
   "pygments_lexer": "ipython3",
   "version": "3.7.9"
  }
 },
 "nbformat": 4,
 "nbformat_minor": 2
}
