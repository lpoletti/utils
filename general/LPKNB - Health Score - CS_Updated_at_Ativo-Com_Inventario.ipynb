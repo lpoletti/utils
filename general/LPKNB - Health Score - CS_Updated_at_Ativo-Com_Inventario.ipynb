{
 "cells": [
  {
   "cell_type": "code",
   "execution_count": 11,
   "metadata": {},
   "outputs": [
    {
     "name": "stdout",
     "output_type": "stream",
     "text": [
      "Collecting matplotlib\n",
      "  Obtaining dependency information for matplotlib from https://files.pythonhosted.org/packages/30/33/cc27211d2ffeee4fd7402dca137b6e8a83f6dcae3d4be8d0ad5068555561/matplotlib-3.7.5-cp38-cp38-manylinux_2_12_x86_64.manylinux2010_x86_64.whl.metadata\n",
      "  Downloading matplotlib-3.7.5-cp38-cp38-manylinux_2_12_x86_64.manylinux2010_x86_64.whl.metadata (5.7 kB)\n",
      "Collecting contourpy>=1.0.1 (from matplotlib)\n",
      "  Obtaining dependency information for contourpy>=1.0.1 from https://files.pythonhosted.org/packages/8e/71/7f20855592cc929bc206810432b991ec4c702dc26b0567b132e52c85536f/contourpy-1.1.1-cp38-cp38-manylinux_2_17_x86_64.manylinux2014_x86_64.whl.metadata\n",
      "  Downloading contourpy-1.1.1-cp38-cp38-manylinux_2_17_x86_64.manylinux2014_x86_64.whl.metadata (5.9 kB)\n",
      "Collecting cycler>=0.10 (from matplotlib)\n",
      "  Obtaining dependency information for cycler>=0.10 from https://files.pythonhosted.org/packages/e7/05/c19819d5e3d95294a6f5947fb9b9629efb316b96de511b418c53d245aae6/cycler-0.12.1-py3-none-any.whl.metadata\n",
      "  Downloading cycler-0.12.1-py3-none-any.whl.metadata (3.8 kB)\n",
      "Collecting fonttools>=4.22.0 (from matplotlib)\n",
      "  Obtaining dependency information for fonttools>=4.22.0 from https://files.pythonhosted.org/packages/91/7d/d171198133941975965b2b6ab49775f30fd83e19e4ae23d7a1a7cda81439/fonttools-4.49.0-cp38-cp38-manylinux_2_17_x86_64.manylinux2014_x86_64.whl.metadata\n",
      "  Downloading fonttools-4.49.0-cp38-cp38-manylinux_2_17_x86_64.manylinux2014_x86_64.whl.metadata (159 kB)\n",
      "\u001b[2K     \u001b[90m━━━━━━━━━━━━━━━━━━━━━━━━━━━━━━━━━━━━━━━\u001b[0m \u001b[32m159.1/159.1 kB\u001b[0m \u001b[31m4.9 MB/s\u001b[0m eta \u001b[36m0:00:00\u001b[0m\n",
      "\u001b[?25hCollecting kiwisolver>=1.0.1 (from matplotlib)\n",
      "  Obtaining dependency information for kiwisolver>=1.0.1 from https://files.pythonhosted.org/packages/d2/55/7021ffcc8cb26a520bb051aa0a3d08daf200cde945e5863d5768161e2d3d/kiwisolver-1.4.5-cp38-cp38-manylinux_2_5_x86_64.manylinux1_x86_64.whl.metadata\n",
      "  Downloading kiwisolver-1.4.5-cp38-cp38-manylinux_2_5_x86_64.manylinux1_x86_64.whl.metadata (6.4 kB)\n",
      "Requirement already satisfied: numpy<2,>=1.20 in /home/luan/.cache/pypoetry/virtualenvs/apps-ZFymp6kh-py3.8/lib/python3.8/site-packages (from matplotlib) (1.24.4)\n",
      "Requirement already satisfied: packaging>=20.0 in /home/luan/.cache/pypoetry/virtualenvs/apps-ZFymp6kh-py3.8/lib/python3.8/site-packages (from matplotlib) (23.1)\n",
      "Requirement already satisfied: pillow>=6.2.0 in /home/luan/.cache/pypoetry/virtualenvs/apps-ZFymp6kh-py3.8/lib/python3.8/site-packages (from matplotlib) (8.0.1)\n",
      "Collecting pyparsing>=2.3.1 (from matplotlib)\n",
      "  Obtaining dependency information for pyparsing>=2.3.1 from https://files.pythonhosted.org/packages/9d/ea/6d76df31432a0e6fdf81681a895f009a4bb47b3c39036db3e1b528191d52/pyparsing-3.1.2-py3-none-any.whl.metadata\n",
      "  Downloading pyparsing-3.1.2-py3-none-any.whl.metadata (5.1 kB)\n",
      "Requirement already satisfied: python-dateutil>=2.7 in /home/luan/.cache/pypoetry/virtualenvs/apps-ZFymp6kh-py3.8/lib/python3.8/site-packages (from matplotlib) (2.8.2)\n",
      "Requirement already satisfied: importlib-resources>=3.2.0 in /home/luan/.cache/pypoetry/virtualenvs/apps-ZFymp6kh-py3.8/lib/python3.8/site-packages (from matplotlib) (5.12.0)\n",
      "Requirement already satisfied: zipp>=3.1.0 in /home/luan/.cache/pypoetry/virtualenvs/apps-ZFymp6kh-py3.8/lib/python3.8/site-packages (from importlib-resources>=3.2.0->matplotlib) (3.15.0)\n",
      "Requirement already satisfied: six>=1.5 in /home/luan/.cache/pypoetry/virtualenvs/apps-ZFymp6kh-py3.8/lib/python3.8/site-packages (from python-dateutil>=2.7->matplotlib) (1.16.0)\n",
      "Downloading matplotlib-3.7.5-cp38-cp38-manylinux_2_12_x86_64.manylinux2010_x86_64.whl (9.2 MB)\n",
      "\u001b[2K   \u001b[90m━━━━━━━━━━━━━━━━━━━━━━━━━━━━━━━━━━━━━━━━\u001b[0m \u001b[32m9.2/9.2 MB\u001b[0m \u001b[31m41.5 MB/s\u001b[0m eta \u001b[36m0:00:00\u001b[0m00:01\u001b[0m00:01\u001b[0m\n",
      "\u001b[?25hDownloading contourpy-1.1.1-cp38-cp38-manylinux_2_17_x86_64.manylinux2014_x86_64.whl (301 kB)\n",
      "\u001b[2K   \u001b[90m━━━━━━━━━━━━━━━━━━━━━━━━━━━━━━━━━━━━━━━━\u001b[0m \u001b[32m301.1/301.1 kB\u001b[0m \u001b[31m25.4 MB/s\u001b[0m eta \u001b[36m0:00:00\u001b[0m\n",
      "\u001b[?25hDownloading cycler-0.12.1-py3-none-any.whl (8.3 kB)\n",
      "Downloading fonttools-4.49.0-cp38-cp38-manylinux_2_17_x86_64.manylinux2014_x86_64.whl (4.7 MB)\n",
      "\u001b[2K   \u001b[90m━━━━━━━━━━━━━━━━━━━━━━━━━━━━━━━━━━━━━━━━\u001b[0m \u001b[32m4.7/4.7 MB\u001b[0m \u001b[31m42.3 MB/s\u001b[0m eta \u001b[36m0:00:00\u001b[0m00:01\u001b[0m00:01\u001b[0m\n",
      "\u001b[?25hDownloading kiwisolver-1.4.5-cp38-cp38-manylinux_2_5_x86_64.manylinux1_x86_64.whl (1.2 MB)\n",
      "\u001b[2K   \u001b[90m━━━━━━━━━━━━━━━━━━━━━━━━━━━━━━━━━━━━━━━━\u001b[0m \u001b[32m1.2/1.2 MB\u001b[0m \u001b[31m37.8 MB/s\u001b[0m eta \u001b[36m0:00:00\u001b[0m\n",
      "\u001b[?25hDownloading pyparsing-3.1.2-py3-none-any.whl (103 kB)\n",
      "\u001b[2K   \u001b[90m━━━━━━━━━━━━━━━━━━━━━━━━━━━━━━━━━━━━━━━━\u001b[0m \u001b[32m103.2/103.2 kB\u001b[0m \u001b[31m13.4 MB/s\u001b[0m eta \u001b[36m0:00:00\u001b[0m\n",
      "\u001b[?25hInstalling collected packages: pyparsing, kiwisolver, fonttools, cycler, contourpy, matplotlib\n",
      "Successfully installed contourpy-1.1.1 cycler-0.12.1 fonttools-4.49.0 kiwisolver-1.4.5 matplotlib-3.7.5 pyparsing-3.1.2\n",
      "\n",
      "\u001b[1m[\u001b[0m\u001b[34;49mnotice\u001b[0m\u001b[1;39;49m]\u001b[0m\u001b[39;49m A new release of pip is available: \u001b[0m\u001b[31;49m23.2\u001b[0m\u001b[39;49m -> \u001b[0m\u001b[32;49m24.0\u001b[0m\n",
      "\u001b[1m[\u001b[0m\u001b[34;49mnotice\u001b[0m\u001b[1;39;49m]\u001b[0m\u001b[39;49m To update, run: \u001b[0m\u001b[32;49mpip install --upgrade pip\u001b[0m\n"
     ]
    }
   ],
   "source": [
    "!poetry run pip install matplotlib"
   ]
  },
  {
   "cell_type": "code",
   "execution_count": 14,
   "metadata": {},
   "outputs": [],
   "source": [
    "import datetime as dt\n",
    "import pytz\n",
    "from matplotlib import pyplot as plt\n",
    "from django.db.models.query_utils import Q\n",
    "import pandas as pd\n",
    "from tqdm.notebook import tqdm\n",
    "import openpyxl\n",
    "import calendar"
   ]
  },
  {
   "cell_type": "code",
   "execution_count": 15,
   "metadata": {},
   "outputs": [
    {
     "name": "stdout",
     "output_type": "stream",
     "text": [
      "STAGE=PRODUCTION\r\n"
     ]
    }
   ],
   "source": [
    "!cat .env"
   ]
  },
  {
   "cell_type": "code",
   "execution_count": 16,
   "metadata": {},
   "outputs": [],
   "source": [
    "#hs_tabela = pd.read_excel(\"hs.xlsx\", engine ='openpyxl')"
   ]
  },
  {
   "cell_type": "code",
   "execution_count": 17,
   "metadata": {},
   "outputs": [],
   "source": [
    "road_companies=[x for x in Company.objects.filter(active=True).values_list('name',flat=True).order_by('name')]"
   ]
  },
  {
   "cell_type": "code",
   "execution_count": 18,
   "metadata": {},
   "outputs": [
    {
     "data": {
      "text/plain": [
       "78"
      ]
     },
     "execution_count": 18,
     "metadata": {},
     "output_type": "execute_result"
    }
   ],
   "source": [
    "len(road_companies)"
   ]
  },
  {
   "cell_type": "code",
   "execution_count": 19,
   "metadata": {},
   "outputs": [],
   "source": [
    "road_companies = ['Arteris Litoral Sul - Conserva']"
   ]
  },
  {
   "cell_type": "code",
   "execution_count": 20,
   "metadata": {},
   "outputs": [
    {
     "data": {
      "text/plain": [
       "([1, 2], 2024)"
      ]
     },
     "execution_count": 20,
     "metadata": {},
     "output_type": "execute_result"
    }
   ],
   "source": [
    "today = dt.date.today().strftime('%m')\n",
    "year = int(dt.date.today().strftime('%Y'))\n",
    "meses = [int(today)-i for i,a in enumerate(range(2),start=1)]\n",
    "meses.sort()\n",
    "months_number=meses\n",
    "months_number,year"
   ]
  },
  {
   "cell_type": "code",
   "execution_count": 21,
   "metadata": {},
   "outputs": [
    {
     "data": {
      "text/plain": [
       "[31, 29]"
      ]
     },
     "execution_count": 21,
     "metadata": {},
     "output_type": "execute_result"
    }
   ],
   "source": [
    "last_days=[dt.date(year,a,calendar.monthrange(year, a)[1]).day for a in meses]\n",
    "last_days"
   ]
  },
  {
   "cell_type": "code",
   "execution_count": 22,
   "metadata": {},
   "outputs": [],
   "source": [
    "def quantitativos_v2(months_name,company):\n",
    "    sem_qtt =[]\n",
    "\n",
    "    for n in months_name:\n",
    "        com_qtt = 0\n",
    "        apontamentos_totais = 0\n",
    "        for occ in OccurrenceType.objects.filter(company__name = company):\n",
    "            autofill_keys = []\n",
    "            try:\n",
    "                autofill_keys = [\n",
    "                    field[\"apiName\"] for field in occ.form_fields[\"fields\"] if \"autofill\" in field.keys()\n",
    "                ]\n",
    "            except:\n",
    "                autofill_keys = [\n",
    "                    field[\"api_name\"] for field in occ.form_fields[\"fields\"] if \"autofill\" in field.keys()\n",
    "                ]\n",
    "            size_occ=len(autofill_keys)            \n",
    "            reportings=Reporting.objects.filter(\n",
    "                occurrence_type=occ, \n",
    "                updated_at__month = n, \n",
    "                company__name = company, \n",
    "                updated_at__year=year\n",
    "            ).exclude(\n",
    "                created_by__username='rlcs'\n",
    "            ).exclude(\n",
    "                created_by__username='cartcs'\n",
    "            ).only(\n",
    "                'form_data', 'occurrence_type'\n",
    "            ).select_related(\n",
    "                'occurrence_type'\n",
    "            )\n",
    "            \n",
    "            reportings_keys=[\n",
    "                len(a.keys()) for a in list(reportings.values_list('form_data', flat=True))\n",
    "            ]\n",
    "            com_qtt += len([a for a in reportings_keys if a > size_occ])\n",
    "            apontamentos_totais += reportings.count()\n",
    "        sem_qtt.append((apontamentos_totais - com_qtt)/apontamentos_totais if apontamentos_totais != 0 else 0)\n",
    "    return sem_qtt"
   ]
  },
  {
   "cell_type": "code",
   "execution_count": 23,
   "metadata": {},
   "outputs": [],
   "source": [
    "def dias_de_uso_v2(months_name, company):\n",
    "    \n",
    "    qtd_dias = []\n",
    "#     dias = [31, 28, 31, 30, 31, 30, 31, 31, 30, 31, 30, 31]\n",
    "    dias=last_days\n",
    "\n",
    "    for index, mes in enumerate(months_name):\n",
    "\n",
    "        a= []\n",
    "        for n in range(1, dias[index]):\n",
    "            a.append(\n",
    "                Reporting.objects.filter(\n",
    "                    company__name = company, \n",
    "                    updated_at__year=year, \n",
    "                    updated_at__month = mes,\n",
    "                    updated_at__day=n\n",
    "                ).exclude(\n",
    "                    created_by__username='rlcs'\n",
    "                ).exclude(\n",
    "                    created_by__username='neoviacs'\n",
    "                ).exclude(\n",
    "                    created_by__username='arteriscs'\n",
    "                ).only('uuid').count()\n",
    "            )\n",
    "        qtd_dias.append(a)\n",
    "\n",
    "    \n",
    "    quantidade = []\n",
    "    porcen_dias= []\n",
    "    \n",
    "    for qtd in qtd_dias:\n",
    "        quantidade.append(len([x for x in qtd if x != 0]))\n",
    "        \n",
    "    \n",
    "    for index, qtd in enumerate(quantidade):\n",
    "        b = qtd/dias[index]\n",
    "        porcen_dias.append(b)\n",
    "    return porcen_dias"
   ]
  },
  {
   "cell_type": "code",
   "execution_count": 24,
   "metadata": {},
   "outputs": [],
   "source": [
    "# Não está em uso o que está vigente é o v2\n",
    "def dias_de_uso_v3(months_name, company):\n",
    "    \n",
    "    porcen_dias = []\n",
    "    dias=last_days\n",
    "\n",
    "    for mes in months_name:\n",
    "\n",
    "        a = []\n",
    "        dias_do_mes = dias[mes-1]\n",
    "        for n in range(1, dias_do_mes):\n",
    "            a.append(\n",
    "                Reporting.objects.filter(\n",
    "                    company__name = company, \n",
    "                    updated_at__year=year, \n",
    "                    updated_at__month = mes,\n",
    "                    updated_at__day=n\n",
    "                ).exclude(\n",
    "                    created_by__username='rlcs'\n",
    "                ).exclude(\n",
    "                    created_by__username='neoviacs'\n",
    "                ).exclude(\n",
    "                    created_by__username='arteriscs'\n",
    "                ).only('uuid').count()\n",
    "            )\n",
    "\n",
    "        dias_com_apontamentos = len([x for x in a if x != 0])\n",
    "        porcen_dias.append(dias_com_apontamentos/dias_do_mes)\n",
    "\n",
    "    return porcen_dias"
   ]
  },
  {
   "cell_type": "code",
   "execution_count": 25,
   "metadata": {},
   "outputs": [],
   "source": [
    "def equipes_ativas_v2(months_name, company):\n",
    "    team_name = list(Firm.objects.filter(company__name = company).values_list('name', flat=True))\n",
    "    \n",
    "    equipes=[]\n",
    "    for team in team_name:\n",
    "        for i in months_name:\n",
    "            equipes.append(\n",
    "                Reporting.objects.filter(\n",
    "                    company__name = company, \n",
    "                    updated_at__year=year, \n",
    "                    updated_at__month= i,\n",
    "                    firm__name = team\n",
    "                ).exclude(\n",
    "                    created_by__username='rlcs'\n",
    "                ).exclude(\n",
    "                    created_by__username='neoviacs'\n",
    "                ).exclude(\n",
    "                    created_by__username='arteriscs'\n",
    "                ).only('uuid').count()\n",
    "            )\n",
    "    \n",
    "\n",
    "    soma = []\n",
    "    for team in team_name:\n",
    "\n",
    "        soma.append(Reporting.objects.filter(company__name = company, updated_at__year=year,firm__name = team).exclude(created_by__username='rlcs').exclude(created_by__username='neoviacs').exclude(created_by__username='arteriscs').only('uuid').count())\n",
    "\n",
    "    porcen = []\n",
    "    for month in months_name:\n",
    "        firm_moves=[]\n",
    "        objects=['Reporting', 'Job']\n",
    "        for firm in team_name:\n",
    "            num_moves = 0\n",
    "            for item in objects:\n",
    "                num_moves+=eval(item).history.filter(history_date__year=year, history_date__month=month, company__name= company, firm__name=firm).only('uuid').count()\n",
    "            firm_moves.append((num_moves, firm))\n",
    "\n",
    "        firm_moves.sort(key=lambda tup: tup[0], reverse=True)\n",
    "        active_firms=len([firm for firm in firm_moves if firm[0]>0])\n",
    "        porcen.append(active_firms/len(firm_moves) if len(firm_moves) != 0 else 0)\n",
    "    \n",
    "    return porcen"
   ]
  },
  {
   "cell_type": "code",
   "execution_count": 26,
   "metadata": {},
   "outputs": [],
   "source": [
    "def variacao(months):\n",
    "    taxa_variacao = []\n",
    "    for i,m in enumerate(months):\n",
    "        y = months[i]\n",
    "        b = months\n",
    "        c = b.index(y) \n",
    "        if c == 0:\n",
    "            taxa_variacao.append(0)\n",
    "        if y > b[c-1] and c != 0:\n",
    "            m = (y-b[c-1])/y\n",
    "            taxa_variacao.append(m)\n",
    "        if y == b[c-1] and c != 0:\n",
    "            i = y*0\n",
    "            taxa_variacao.append(i)\n",
    "        if y < b[c-1] and c!= 0 :\n",
    "            n = (y -b[c-1])/b[c-1]\n",
    "            taxa_variacao.append(n)\n",
    "    return taxa_variacao\n"
   ]
  },
  {
   "cell_type": "code",
   "execution_count": 27,
   "metadata": {},
   "outputs": [],
   "source": [
    "def qtt_nota(nota):\n",
    "    a = 0\n",
    "    if nota <0.05:\n",
    "        a = 1\n",
    "    if nota >= 0.05 and nota <0.15:\n",
    "        a = 0.65\n",
    "    if nota >= 0.15 and nota < 0.3:\n",
    "        a = 0.3\n",
    "    if nota >= 0.3:\n",
    "        a = 0\n",
    "    return a"
   ]
  },
  {
   "cell_type": "code",
   "execution_count": 28,
   "metadata": {},
   "outputs": [],
   "source": [
    "def uso_nota(nota):\n",
    "    a = 0\n",
    "    if nota <0.4:\n",
    "        a = 0\n",
    "    if nota >= 0.4 and nota <0.65:\n",
    "        a = 0.3\n",
    "    if nota >= 0.65 and nota < 0.8:\n",
    "        a = 0.65\n",
    "    if nota > 0.8:\n",
    "        a = 1\n",
    "    return a"
   ]
  },
  {
   "cell_type": "code",
   "execution_count": 29,
   "metadata": {},
   "outputs": [],
   "source": [
    "def equipe_nota(nota):\n",
    "    a = 0\n",
    "    if nota > 0.6:\n",
    "        a = 1\n",
    "    if nota >0.45 and nota <=0.6:\n",
    "        a = 0.65\n",
    "    if nota > 0.3 and nota <= 0.45:\n",
    "        a = 0.3\n",
    "    if nota <= 0.3:\n",
    "        a = 0\n",
    "    return a"
   ]
  },
  {
   "cell_type": "code",
   "execution_count": 30,
   "metadata": {},
   "outputs": [],
   "source": [
    "def variacao_nota(nota):\n",
    "    a= 0\n",
    "    if nota >= 0.25:\n",
    "        a = 1\n",
    "    if nota >= 0.15 and nota <0.25:\n",
    "        a = 0.75\n",
    "    if nota >= -0.15 and nota < 0.15:\n",
    "        a = 0.5\n",
    "    if nota >= -0.25 and nota < -0.15:\n",
    "        a = 0.5\n",
    "    if nota < -0.25:\n",
    "        a = 0\n",
    "    return a"
   ]
  },
  {
   "cell_type": "code",
   "execution_count": 32,
   "metadata": {},
   "outputs": [
    {
     "data": {
      "application/vnd.jupyter.widget-view+json": {
       "model_id": "6a335f46ca874456a3b2704bfdc8dadf",
       "version_major": 2,
       "version_minor": 0
      },
      "text/plain": [
       "  0%|          | 0/1 [00:00<?, ?it/s]"
      ]
     },
     "metadata": {},
     "output_type": "display_data"
    },
    {
     "name": "stdout",
     "output_type": "stream",
     "text": [
      "Arteris Litoral Sul - Conserva\n",
      "[[0, 0.43067010309278353]]\n",
      "[2209, 3880] None\n"
     ]
    }
   ],
   "source": [
    "uso_sistema = []\n",
    "sem_quantitativos = []\n",
    "equipes = []\n",
    "variacao_dias = []\n",
    "for company in tqdm(road_companies):\n",
    "    months=[]\n",
    "    print(company)\n",
    "    for n in months_number:\n",
    "        months.append(\n",
    "            Reporting.objects.filter(\n",
    "                company__name = company, \n",
    "                updated_at__year=year, \n",
    "                updated_at__month=n\n",
    "            ).exclude(\n",
    "                created_by__username='rlcs'\n",
    "            ).exclude(\n",
    "                created_by__username='neoviacs'\n",
    "            ).exclude(\n",
    "                created_by__username='arteriscs'\n",
    "            ).only('uuid').count()\n",
    "        )\n",
    "#     uso_sistema.append(dias_de_uso_v2(months_number, company))\n",
    "#     sem_quantitativos.append(quantitativos_v2(months_number, company))\n",
    "#     equipes.append(equipes_ativas_v2(months_number, company))\n",
    "    \n",
    "    variacao_dias.append(variacao(months))\n",
    "    print(months,print(variacao_dias))\n",
    "    #print(months)\n",
    "#     print(f' dias de uso: {dias_de_uso_v2(months_number, company)} \\n sem quantitativos: {quantitativos_v2(months_number, company)} \\n equipes ativas: {equipes_ativas_v2(months_number, company)} \\n variação dias: {variacao(months)} ')"
   ]
  },
  {
   "cell_type": "code",
   "execution_count": 17,
   "metadata": {},
   "outputs": [
    {
     "data": {
      "application/vnd.jupyter.widget-view+json": {
       "model_id": "960184d0fda5469bb814a9dd5b60338b",
       "version_major": 2,
       "version_minor": 0
      },
      "text/plain": [
       "  0%|          | 0/2 [00:00<?, ?it/s]"
      ]
     },
     "metadata": {},
     "output_type": "display_data"
    },
    {
     "name": "stdout",
     "output_type": "stream",
     "text": [
      "Sinalizavia (Municípios)\n",
      "0\n",
      "15\n",
      "4.5\n",
      "17.5\n",
      "Caminhos da Serra Gaúcha\n",
      "Sinalizavia (Municípios)\n",
      "10.5\n",
      "15\n",
      "9.75\n",
      "35\n",
      "Caminhos da Serra Gaúcha\n"
     ]
    }
   ],
   "source": [
    "hs_month = []\n",
    "hs_month_export = {}\n",
    "for i in tqdm(range(len(months_number))):\n",
    "    hs = []\n",
    "    for n in range(len(road_companies)):\n",
    "        print(road_companies[n])\n",
    "        if uso_sistema[n][i] == 0:\n",
    "            hs.append(0)\n",
    "        else:\n",
    "            hs.append(\n",
    "                35*(uso_nota(uso_sistema[n][i])) \n",
    "                + 15*(qtt_nota(sem_quantitativos[n][i])) \n",
    "                + 15*(equipe_nota(equipes[n][i]))\n",
    "                + 35*(variacao_nota(variacao_dias[n][i]))\n",
    "            )\n",
    "            print(35 * uso_nota(uso_sistema[n][i]))\n",
    "            print(15 * qtt_nota(sem_quantitativos[n][i]))\n",
    "            print(15 * equipe_nota(equipes[n][i]))\n",
    "            print(35 * variacao_nota(variacao_dias[n][i]))\n",
    "        if not hs_month_export.get(road_companies[n]):\n",
    "            hs_month_export[road_companies[n]] = []\n",
    "        hs_month_export[road_companies[n]].append(hs[-1])\n",
    "\n",
    "    hs_month.append(hs)"
   ]
  },
  {
   "cell_type": "code",
   "execution_count": 18,
   "metadata": {},
   "outputs": [
    {
     "data": {
      "text/plain": [
       "{'Sinalizavia (Municípios)': [37.0, 70.25], 'Caminhos da Serra Gaúcha': [0, 0]}"
      ]
     },
     "execution_count": 18,
     "metadata": {},
     "output_type": "execute_result"
    }
   ],
   "source": [
    "hs_month_export"
   ]
  },
  {
   "cell_type": "code",
   "execution_count": 19,
   "metadata": {},
   "outputs": [],
   "source": [
    "hs_novo = []\n",
    "for i in hs_month_export.values():\n",
    "    hs_novo.append(i[-1])"
   ]
  },
  {
   "cell_type": "code",
   "execution_count": 20,
   "metadata": {},
   "outputs": [
    {
     "data": {
      "text/plain": [
       "[70.25, 0]"
      ]
     },
     "execution_count": 20,
     "metadata": {},
     "output_type": "execute_result"
    }
   ],
   "source": [
    "hs_novo"
   ]
  },
  {
   "cell_type": "code",
   "execution_count": 21,
   "metadata": {},
   "outputs": [],
   "source": [
    "#with pd.ExcelWriter(\"hs2022piloto\" + '.xlsx') as writer:\n",
    "#    hs_excel = hs_tabela.to_excel(writer, index = False, sheet_name = \"Página 1\")"
   ]
  },
  {
   "cell_type": "code",
   "execution_count": 22,
   "metadata": {},
   "outputs": [],
   "source": [
    "df= pd.DataFrame(data=hs_month_export)\n",
    "df = df.transpose()"
   ]
  },
  {
   "cell_type": "code",
   "execution_count": 23,
   "metadata": {},
   "outputs": [
    {
     "data": {
      "text/html": [
       "<div>\n",
       "<style scoped>\n",
       "    .dataframe tbody tr th:only-of-type {\n",
       "        vertical-align: middle;\n",
       "    }\n",
       "\n",
       "    .dataframe tbody tr th {\n",
       "        vertical-align: top;\n",
       "    }\n",
       "\n",
       "    .dataframe thead th {\n",
       "        text-align: right;\n",
       "    }\n",
       "</style>\n",
       "<table border=\"1\" class=\"dataframe\">\n",
       "  <thead>\n",
       "    <tr style=\"text-align: right;\">\n",
       "      <th></th>\n",
       "      <th>10/2023</th>\n",
       "      <th>11/2023</th>\n",
       "    </tr>\n",
       "  </thead>\n",
       "  <tbody>\n",
       "    <tr>\n",
       "      <th>Sinalizavia (Municípios)</th>\n",
       "      <td>37.0</td>\n",
       "      <td>70.25</td>\n",
       "    </tr>\n",
       "    <tr>\n",
       "      <th>Caminhos da Serra Gaúcha</th>\n",
       "      <td>0.0</td>\n",
       "      <td>0.00</td>\n",
       "    </tr>\n",
       "  </tbody>\n",
       "</table>\n",
       "</div>"
      ],
      "text/plain": [
       "                          10/2023  11/2023\n",
       "Sinalizavia (Municípios)     37.0    70.25\n",
       "Caminhos da Serra Gaúcha      0.0     0.00"
      ]
     },
     "execution_count": 23,
     "metadata": {},
     "output_type": "execute_result"
    }
   ],
   "source": [
    "df.columns=[f'{months_number[0]}/{year}',f'{months_number[-1]}/{year}']\n",
    "df"
   ]
  },
  {
   "cell_type": "code",
   "execution_count": 46,
   "metadata": {},
   "outputs": [],
   "source": [
    "df.to_excel('hsOut2023.xlsx')"
   ]
  },
  {
   "cell_type": "code",
   "execution_count": 7,
   "metadata": {},
   "outputs": [
    {
     "data": {
      "text/plain": [
       "3880"
      ]
     },
     "execution_count": 7,
     "metadata": {},
     "output_type": "execute_result"
    }
   ],
   "source": [
    "Reporting.objects.filter(company__name='Arteris Litoral Sul - Conserva',updated_at__month=2\n",
    "                        ,updated_at__year=2024).count()"
   ]
  },
  {
   "cell_type": "code",
   "execution_count": 8,
   "metadata": {},
   "outputs": [
    {
     "data": {
      "text/plain": [
       "2209"
      ]
     },
     "execution_count": 8,
     "metadata": {},
     "output_type": "execute_result"
    }
   ],
   "source": [
    "Reporting.objects.filter(company__name='Arteris Litoral Sul - Conserva',updated_at__month=1\n",
    "                        ,updated_at__year=2024).count()"
   ]
  },
  {
   "cell_type": "code",
   "execution_count": null,
   "metadata": {},
   "outputs": [],
   "source": []
  }
 ],
 "metadata": {
  "kernelspec": {
   "display_name": "Django Shell-Plus",
   "language": "python",
   "name": "django_extensions"
  },
  "language_info": {
   "codemirror_mode": {
    "name": "ipython",
    "version": 3
   },
   "file_extension": ".py",
   "mimetype": "text/x-python",
   "name": "python",
   "nbconvert_exporter": "python",
   "pygments_lexer": "ipython3",
   "version": "3.8.16"
  }
 },
 "nbformat": 4,
 "nbformat_minor": 2
}
