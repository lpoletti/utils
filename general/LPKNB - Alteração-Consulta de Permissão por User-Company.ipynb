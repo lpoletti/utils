{
 "cells": [
  {
   "cell_type": "markdown",
   "id": "b9feac4c",
   "metadata": {},
   "source": [
    "# CONSULTA FLUXO DE APROVAÇÃO"
   ]
  },
  {
   "cell_type": "code",
   "execution_count": 1,
   "id": "1dd9ba60",
   "metadata": {},
   "outputs": [
    {
     "data": {
      "text/plain": [
       "<Company: b8c91aac-3cbb-48d7-a5f2-064c0f0702a2: Nova Rota do Oeste - Obras>"
      ]
     },
     "execution_count": 1,
     "metadata": {},
     "output_type": "execute_result"
    }
   ],
   "source": [
    "company= Company.objects.filter(name=\"Nova Rota do Oeste - Obras\").first()\n",
    "company"
   ]
  },
  {
   "cell_type": "code",
   "execution_count": 2,
   "id": "b7a12646",
   "metadata": {},
   "outputs": [
    {
     "data": {
      "text/plain": [
       "<QuerySet [<ApprovalStep: [Nova Rota do Oeste - Obras]: RDO Criado>, <ApprovalStep: [Nova Rota do Oeste - Obras]: RDO Aprovado>, <ApprovalStep: [Nova Rota do Oeste - Obras]: RDO Aguardando Aprovação 1ª camada>, <ApprovalStep: [Nova Rota do Oeste - Obras]: RDO Cancelado>, <ApprovalStep: [Nova Rota do Oeste - Obras]: RDO Em Revisão>, <ApprovalStep: [Nova Rota do Oeste - Obras]: RDO Aguardando Aprovação 2ª camada>]>"
      ]
     },
     "execution_count": 2,
     "metadata": {},
     "output_type": "execute_result"
    }
   ],
   "source": [
    "aps = ApprovalStep.objects.filter(approval_flow__company=company,approval_flow__target_model__icontains=\"multiple\")\n",
    "aps"
   ]
  },
  {
   "cell_type": "code",
   "execution_count": 7,
   "id": "07cec23a",
   "metadata": {},
   "outputs": [
    {
     "name": "stdout",
     "output_type": "stream",
     "text": [
      "Nova Rota do Oeste - Obras  - Fluxo RDO\n",
      "[Nova Rota do Oeste - Obras]: RDO Criado 0\n",
      "\tUsuários:\n",
      "\tEquipes:\n",
      "[Nova Rota do Oeste - Obras]: RDO Aprovado 1\n",
      "\tUsuários:\n",
      "\t\t Kartado CS rlcs\n",
      "\tEquipes:\n",
      "[Nova Rota do Oeste - Obras]: RDO Aguardando Aprovação 1ª camada 2\n",
      "\tUsuários:\n",
      "\t\t Moisés Candido Jerônimo moisesjeronimo\n",
      "\t\t Cizenando Costa cizenando.systra\n",
      "\t\t Jonatas Felipe de Souza Moraes jonatas.felipe\n",
      "\t\t Larissa Silva Campos larissacampos\n",
      "\t\t Jurandi Carvalho polotest\n",
      "\tEquipes:\n",
      "[Nova Rota do Oeste - Obras]: RDO Cancelado 3\n",
      "\tUsuários:\n",
      "\tEquipes:\n",
      "[Nova Rota do Oeste - Obras]: RDO Em Revisão 4\n",
      "\tUsuários:\n",
      "\tEquipes:\n",
      "[Nova Rota do Oeste - Obras]: RDO Aguardando Aprovação 2ª camada 5\n",
      "\tUsuários:\n",
      "\t\t Raphaella Ribeiro Azoia razoia\n",
      "\t\t Paulo Eduardo Palma Baptista paulobaptista\n",
      "\t\t Abner Vieira da Cruz abner.cruz\n",
      "\t\t Anderson Gomes anderson.gomes\n",
      "\t\t Anddryo Juan Regis Da Silva anddryosilva\n",
      "\t\t Thiago Henrique De Almeida Colombo thiagocolombo\n",
      "\t\t Rosiel Albino Da Silva rosiel.silva\n",
      "\t\t Larissa Silva Campos larissacampos\n",
      "\tEquipes:\n"
     ]
    }
   ],
   "source": [
    "print(aps[0].approval_flow.company.name,\" - Fluxo RDO\")\n",
    "for i,a in enumerate(aps):\n",
    "    print(a,i)\n",
    "    print('\\tUsuários:')\n",
    "    for b in a.responsible_users.all():\n",
    "        print('\\t\\t',b.full_name,b.username)\n",
    "    print('\\tEquipes:')\n",
    "    for c in a.responsible_firms.all():\n",
    "        print('\\t\\t',c.name)"
   ]
  },
  {
   "cell_type": "code",
   "execution_count": 4,
   "id": "121f2fac",
   "metadata": {},
   "outputs": [],
   "source": [
    "# ui=UserInCompany.objects.filter(company=company,permissions__name__icontains=\"Empreiteiras (Terceirizadas)\").values_list('user__username',flat=True)\n",
    "# aps[1].responsible_users.add(*User.objects.filter(username__in=['allan.guimaraes']))\n",
    "# aps[0].responsible_firms.add(*Firm.objects.filter(name__in=['Aprovadores de RDO'],company=company))\n",
    "# ui=UserInCompany.objects.filter(company=company,user__email__icontains=\"kartado\").values_list('user__username',flat=True)\n",
    "# list(ui)"
   ]
  },
  {
   "cell_type": "code",
   "execution_count": 5,
   "id": "a0110865",
   "metadata": {},
   "outputs": [],
   "source": [
    "# aps[0].responsible_firms.add(*listaC)\n",
    "# aps[2].responsible_users.clear()\n",
    "# aps[1].responsible_users.add(*User.objects.filter(username__in=[a.user.username for a in userLista]))"
   ]
  },
  {
   "cell_type": "code",
   "execution_count": 4,
   "id": "876c7fac",
   "metadata": {},
   "outputs": [
    {
     "data": {
      "text/plain": [
       "<QuerySet [<ApprovalStep: [Nova Rota do Oeste - Obras]: Criado>, <ApprovalStep: [Nova Rota do Oeste - Obras]: Em Revisão>, <ApprovalStep: [Nova Rota do Oeste - Obras]: Aprovado>, <ApprovalStep: [Nova Rota do Oeste - Obras]: Cancelado>, <ApprovalStep: [Nova Rota do Oeste - Obras]: Aguardando Aprovação 1ª camada>, <ApprovalStep: [Nova Rota do Oeste - Obras]: Aguardando Aprovação 2ª camada>]>"
      ]
     },
     "execution_count": 4,
     "metadata": {},
     "output_type": "execute_result"
    }
   ],
   "source": [
    "aps2 = ApprovalStep.objects.filter(approval_flow__company=company,approval_flow__target_model__icontains=\"reporting\")\n",
    "aps2"
   ]
  },
  {
   "cell_type": "code",
   "execution_count": 6,
   "id": "1b7ea834",
   "metadata": {
    "scrolled": true
   },
   "outputs": [
    {
     "name": "stdout",
     "output_type": "stream",
     "text": [
      "Nova Rota do Oeste - Obras  - Fluxo Apontamentos\n",
      "[Nova Rota do Oeste - Obras]: Criado 0\n",
      "\tUsuários:\n",
      "\t\t Kartado CS -  rlcs\n",
      "\tEquipes:\n",
      "[Nova Rota do Oeste - Obras]: Em Revisão 1\n",
      "\tUsuários:\n",
      "\t\t Kartado CS -  rlcs\n",
      "\tEquipes:\n",
      "[Nova Rota do Oeste - Obras]: Aprovado 2\n",
      "\tUsuários:\n",
      "\t\t Kartado CS -  rlcs\n",
      "\tEquipes:\n",
      "[Nova Rota do Oeste - Obras]: Cancelado 3\n",
      "\tUsuários:\n",
      "\t\t Kartado CS -  rlcs\n",
      "\tEquipes:\n",
      "[Nova Rota do Oeste - Obras]: Aguardando Aprovação 1ª camada 4\n",
      "\tUsuários:\n",
      "\t\t Cizenando Costa -  cizenando.systra\n",
      "\t\t Jonatas Felipe de Souza Moraes -  jonatas.felipe\n",
      "\t\t Jurandi Carvalho -  polotest\n",
      "\t\t Kartado CS -  rlcs\n",
      "\t\t Larissa Silva Campos -  larissacampos\n",
      "\t\t Moisés Candido Jerônimo -  moisesjeronimo\n",
      "\tEquipes:\n",
      "[Nova Rota do Oeste - Obras]: Aguardando Aprovação 2ª camada 5\n",
      "\tUsuários:\n",
      "\t\t Abner Vieira da Cruz -  abner.cruz\n",
      "\t\t Anddryo Juan Regis Da Silva -  anddryosilva\n",
      "\t\t Anderson Gomes -  anderson.gomes\n",
      "\t\t Kartado CS -  rlcs\n",
      "\t\t Larissa Silva Campos -  larissacampos\n",
      "\t\t Paulo Eduardo Palma Baptista -  paulobaptista\n",
      "\t\t Raphaella Ribeiro Azoia -  razoia\n",
      "\t\t Rosiel Albino Da Silva -  rosiel.silva\n",
      "\t\t Thiago Henrique De Almeida Colombo -  thiagocolombo\n",
      "\tEquipes:\n"
     ]
    }
   ],
   "source": [
    "print(aps2[0].approval_flow.company.name,\" - Fluxo Apontamentos\")\n",
    "for i,a in enumerate(aps2):\n",
    "#     print(a,i,a.uuid)\n",
    "    print(a,i)\n",
    "    print('\\tUsuários:')\n",
    "    for b in a.responsible_users.all().order_by('first_name'):\n",
    "#         if a.name == \"Aguardando Aprovação\":\n",
    "        print('\\t\\t',b.get_full_name(),'- ',b.username)\n",
    "#                 aps2[5].responsible_users.add(User.objects.get(username=b.username))\n",
    "    print('\\tEquipes:')\n",
    "    for c in a.responsible_firms.all():\n",
    "        print('\\t\\t',c.name)"
   ]
  },
  {
   "cell_type": "code",
   "execution_count": 24,
   "id": "ed6865a0",
   "metadata": {},
   "outputs": [],
   "source": [
    "# ui=UserInCompany.objects.filter(company=company,permissions__name__icontains=\"Empreiteiras (Terceirizadas)\").values_list('user__username',flat=True)\n",
    "# aps2[1].responsible_users.add(*User.objects.filter(username__in=ui))\n",
    "\n",
    "# aps2[0].responsible_users.add(*User.objects.filter(username__in=['rlcs']))\n",
    "# aps2[1].responsible_users.remove()\n",
    "# aps2[0].responsible_users.add(*User.objects.filter(username__in=list(UserInCompany.objects.filter(company=company,user__email__icontains=\"kartado\").values_list('user__username',flat=True))))\n",
    "# aps2[1].responsible_firms.add(*Firm.objects.filter(company=company,name='Administrativo'))"
   ]
  },
  {
   "cell_type": "code",
   "execution_count": 9,
   "id": "8404eb62",
   "metadata": {
    "scrolled": true
   },
   "outputs": [
    {
     "data": {
      "text/plain": [
       "{'_state': <django.db.models.base.ModelState at 0x7f94db950c10>,\n",
       " 'uuid': UUID('35ae20d1-7ac3-40b6-8abb-70a063636c3f'),\n",
       " 'name': 'Criado',\n",
       " 'approval_flow_id': UUID('f7f7b8a2-30c2-4f8f-be86-f8a1eb1506ed'),\n",
       " 'field_options': {},\n",
       " 'responsible_created_by': True,\n",
       " 'responsible_supervisor': False,\n",
       " 'responsible_firm_entity': False,\n",
       " 'responsible_firm_manager': False,\n",
       " 'auto_execute_transition': False,\n",
       " 'responsible_json_logic': {},\n",
       " 'color': '#FF0000'}"
      ]
     },
     "execution_count": 9,
     "metadata": {},
     "output_type": "execute_result"
    }
   ],
   "source": [
    "aps2[0].__dict__"
   ]
  },
  {
   "cell_type": "code",
   "execution_count": 2,
   "id": "084032fe",
   "metadata": {},
   "outputs": [
    {
     "data": {
      "text/plain": [
       "<QuerySet []>"
      ]
     },
     "execution_count": 2,
     "metadata": {},
     "output_type": "execute_result"
    }
   ],
   "source": [
    "aps5 = ApprovalStep.objects.filter(approval_flow__company=company,approval_flow__target_model__icontains=\"measurement\")\n",
    "aps5"
   ]
  },
  {
   "cell_type": "code",
   "execution_count": 3,
   "id": "7cc34c29",
   "metadata": {
    "scrolled": true
   },
   "outputs": [
    {
     "ename": "IndexError",
     "evalue": "list index out of range",
     "output_type": "error",
     "traceback": [
      "\u001b[0;31m---------------------------------------------------------------------------\u001b[0m",
      "\u001b[0;31mIndexError\u001b[0m                                Traceback (most recent call last)",
      "\u001b[0;32m/tmp/ipykernel_115082/1379707637.py\u001b[0m in \u001b[0;36m<module>\u001b[0;34m\u001b[0m\n\u001b[0;32m----> 1\u001b[0;31m \u001b[0mprint\u001b[0m\u001b[0;34m(\u001b[0m\u001b[0maps5\u001b[0m\u001b[0;34m[\u001b[0m\u001b[0;36m0\u001b[0m\u001b[0;34m]\u001b[0m\u001b[0;34m.\u001b[0m\u001b[0mapproval_flow\u001b[0m\u001b[0;34m.\u001b[0m\u001b[0mcompany\u001b[0m\u001b[0;34m.\u001b[0m\u001b[0mname\u001b[0m\u001b[0;34m,\u001b[0m\u001b[0;34m\" - Boletim\"\u001b[0m\u001b[0;34m)\u001b[0m\u001b[0;34m\u001b[0m\u001b[0;34m\u001b[0m\u001b[0m\n\u001b[0m\u001b[1;32m      2\u001b[0m \u001b[0;32mfor\u001b[0m \u001b[0mi\u001b[0m\u001b[0;34m,\u001b[0m\u001b[0ma\u001b[0m \u001b[0;32min\u001b[0m \u001b[0menumerate\u001b[0m\u001b[0;34m(\u001b[0m\u001b[0maps5\u001b[0m\u001b[0;34m)\u001b[0m\u001b[0;34m:\u001b[0m\u001b[0;34m\u001b[0m\u001b[0;34m\u001b[0m\u001b[0m\n\u001b[1;32m      3\u001b[0m \u001b[0;31m#     print(a,i,a.uuid)\u001b[0m\u001b[0;34m\u001b[0m\u001b[0;34m\u001b[0m\u001b[0;34m\u001b[0m\u001b[0m\n\u001b[1;32m      4\u001b[0m     \u001b[0mprint\u001b[0m\u001b[0;34m(\u001b[0m\u001b[0ma\u001b[0m\u001b[0;34m,\u001b[0m\u001b[0mi\u001b[0m\u001b[0;34m)\u001b[0m\u001b[0;34m\u001b[0m\u001b[0;34m\u001b[0m\u001b[0m\n\u001b[1;32m      5\u001b[0m     \u001b[0mprint\u001b[0m\u001b[0;34m(\u001b[0m\u001b[0;34m'\\tUsuários:'\u001b[0m\u001b[0;34m)\u001b[0m\u001b[0;34m\u001b[0m\u001b[0;34m\u001b[0m\u001b[0m\n",
      "\u001b[0;32m~/.cache/pypoetry/virtualenvs/apps-ZFymp6kh-py3.7/lib/python3.7/site-packages/django/db/models/query.py\u001b[0m in \u001b[0;36m__getitem__\u001b[0;34m(self, k)\u001b[0m\n\u001b[1;32m    307\u001b[0m         \u001b[0mqs\u001b[0m\u001b[0;34m.\u001b[0m\u001b[0mquery\u001b[0m\u001b[0;34m.\u001b[0m\u001b[0mset_limits\u001b[0m\u001b[0;34m(\u001b[0m\u001b[0mk\u001b[0m\u001b[0;34m,\u001b[0m \u001b[0mk\u001b[0m \u001b[0;34m+\u001b[0m \u001b[0;36m1\u001b[0m\u001b[0;34m)\u001b[0m\u001b[0;34m\u001b[0m\u001b[0;34m\u001b[0m\u001b[0m\n\u001b[1;32m    308\u001b[0m         \u001b[0mqs\u001b[0m\u001b[0;34m.\u001b[0m\u001b[0m_fetch_all\u001b[0m\u001b[0;34m(\u001b[0m\u001b[0;34m)\u001b[0m\u001b[0;34m\u001b[0m\u001b[0;34m\u001b[0m\u001b[0m\n\u001b[0;32m--> 309\u001b[0;31m         \u001b[0;32mreturn\u001b[0m \u001b[0mqs\u001b[0m\u001b[0;34m.\u001b[0m\u001b[0m_result_cache\u001b[0m\u001b[0;34m[\u001b[0m\u001b[0;36m0\u001b[0m\u001b[0;34m]\u001b[0m\u001b[0;34m\u001b[0m\u001b[0;34m\u001b[0m\u001b[0m\n\u001b[0m\u001b[1;32m    310\u001b[0m \u001b[0;34m\u001b[0m\u001b[0m\n\u001b[1;32m    311\u001b[0m     \u001b[0;32mdef\u001b[0m \u001b[0m__and__\u001b[0m\u001b[0;34m(\u001b[0m\u001b[0mself\u001b[0m\u001b[0;34m,\u001b[0m \u001b[0mother\u001b[0m\u001b[0;34m)\u001b[0m\u001b[0;34m:\u001b[0m\u001b[0;34m\u001b[0m\u001b[0;34m\u001b[0m\u001b[0m\n",
      "\u001b[0;31mIndexError\u001b[0m: list index out of range"
     ]
    }
   ],
   "source": [
    "print(aps5[0].approval_flow.company.name,\" - Boletim\")\n",
    "for i,a in enumerate(aps5):\n",
    "#     print(a,i,a.uuid)\n",
    "    print(a,i)\n",
    "    print('\\tUsuários:')\n",
    "    for b in a.responsible_users.all():\n",
    "#         if a.name == \"Aguardando Aprovação\":\n",
    "        print('\\t',b.first_name,b.last_name,'- ',b.username)\n",
    "#                 aps2[5].responsible_users.add(User.objects.get(username=b.username))\n",
    "    print('\\tEquipes:')\n",
    "    for c in a.responsible_firms.all():\n",
    "        print('\\t',c.name)"
   ]
  },
  {
   "cell_type": "code",
   "execution_count": 16,
   "id": "15c529ac",
   "metadata": {},
   "outputs": [],
   "source": [
    "for a in aps2[1].responsible_users.all():\n",
    "    aps2[3].responsible_users.add(a)"
   ]
  },
  {
   "cell_type": "code",
   "execution_count": 17,
   "id": "d931da31",
   "metadata": {},
   "outputs": [
    {
     "data": {
      "text/plain": [
       "<QuerySet [<ApprovalStep: [Demo Concessionárias]: Aguardando Aprovação>, <ApprovalStep: [Demo Concessionárias]: Criado>, <ApprovalStep: [Demo Concessionárias]: Aprovado>, <ApprovalStep: [Demo Concessionárias]: Negado>]>"
      ]
     },
     "execution_count": 17,
     "metadata": {},
     "output_type": "execute_result"
    }
   ],
   "source": [
    "aps3 = ApprovalStep.objects.filter(approval_flow__company=company,approval_flow__target_model__icontains=\"access\")\n",
    "aps3"
   ]
  },
  {
   "cell_type": "code",
   "execution_count": 18,
   "id": "bfc9e2cb",
   "metadata": {},
   "outputs": [
    {
     "name": "stdout",
     "output_type": "stream",
     "text": [
      "Demo Concessionárias  - Fluxo de Requisição de Usuário\n",
      "[Demo Concessionárias]: Aguardando Aprovação 0\n",
      "\t Luiza Franco -  luiza.franco\n",
      "\t Douglas Gomes -  douglas.gomes\n",
      "\t João Nitzke -  joao.nitzke\n",
      "\tEquipes:\n",
      "[Demo Concessionárias]: Criado 1\n",
      "\t Luiza Franco -  luiza.franco\n",
      "\t Douglas Gomes -  douglas.gomes\n",
      "\t João Nitzke -  joao.nitzke\n",
      "\t Kartado CS -  rlcs\n",
      "\tEquipes:\n",
      "[Demo Concessionárias]: Aprovado 2\n",
      "\t Luiza Franco -  luiza.franco\n",
      "\t Douglas Gomes -  douglas.gomes\n",
      "\t João Nitzke -  joao.nitzke\n",
      "\tEquipes:\n",
      "[Demo Concessionárias]: Negado 3\n",
      "\t Luiza Franco -  luiza.franco\n",
      "\t Douglas Gomes -  douglas.gomes\n",
      "\t João Nitzke -  joao.nitzke\n",
      "\tEquipes:\n"
     ]
    }
   ],
   "source": [
    "print(aps3[0].approval_flow.company.name,\" - Fluxo de Requisição de Usuário\")\n",
    "for i,a in enumerate(aps3):\n",
    "    print(a,i)\n",
    "    for b in a.responsible_users.all():\n",
    "#         if a.name == \"Aguardando Aprovação\":\n",
    "        print('\\t',b.first_name,b.last_name,'- ',b.username)\n",
    "#                 aps2[5].responsible_users.add(User.objects.get(username=b.username))\n",
    "    print('\\tEquipes:')\n",
    "    for c in a.responsible_firms.all():\n",
    "        print('\\t',c.name)"
   ]
  },
  {
   "cell_type": "code",
   "execution_count": 7,
   "id": "e7ee7038",
   "metadata": {},
   "outputs": [],
   "source": [
    "aps3[1].responsible_users.add(*User.objects.filter(username__in=['rlcs']))\n",
    "# aps3[1].responsible_users.remove(*User.objects.filter(username__in=['silas.mello','silas.volpon','caio.garcia','_general.maiara.viel']))"
   ]
  },
  {
   "cell_type": "code",
   "execution_count": 11,
   "id": "50e5a843",
   "metadata": {},
   "outputs": [],
   "source": [
    "# aps3[0].auto_execute_transition=True\n",
    "# aps3[0].save()"
   ]
  },
  {
   "cell_type": "code",
   "execution_count": 16,
   "id": "d468db71",
   "metadata": {},
   "outputs": [
    {
     "ename": "AttributeError",
     "evalue": "'User' object has no attribute 'user_in_company'",
     "output_type": "error",
     "traceback": [
      "\u001b[0;31m---------------------------------------------------------------------------\u001b[0m",
      "\u001b[0;31mAttributeError\u001b[0m                            Traceback (most recent call last)",
      "\u001b[0;32m/tmp/ipykernel_44489/263927036.py\u001b[0m in \u001b[0;36m<module>\u001b[0;34m\u001b[0m\n\u001b[1;32m      1\u001b[0m \u001b[0musers\u001b[0m \u001b[0;34m=\u001b[0m \u001b[0mUser\u001b[0m\u001b[0;34m.\u001b[0m\u001b[0mobjects\u001b[0m\u001b[0;34m.\u001b[0m\u001b[0mfilter\u001b[0m\u001b[0;34m(\u001b[0m\u001b[0mcompanies\u001b[0m\u001b[0;34m=\u001b[0m\u001b[0mcompany\u001b[0m\u001b[0;34m)\u001b[0m\u001b[0;34m\u001b[0m\u001b[0;34m\u001b[0m\u001b[0m\n\u001b[0;32m----> 2\u001b[0;31m \u001b[0musers\u001b[0m\u001b[0;34m[\u001b[0m\u001b[0;36m0\u001b[0m\u001b[0;34m]\u001b[0m\u001b[0;34m.\u001b[0m\u001b[0muser_in_company\u001b[0m\u001b[0;34m\u001b[0m\u001b[0;34m\u001b[0m\u001b[0m\n\u001b[0m",
      "\u001b[0;31mAttributeError\u001b[0m: 'User' object has no attribute 'user_in_company'"
     ]
    }
   ],
   "source": [
    "users = User.objects.filter(companies=company)\n",
    "users[0].user_in_company"
   ]
  },
  {
   "cell_type": "markdown",
   "id": "4650de48",
   "metadata": {},
   "source": [
    "# Transição entre os approvalSteps"
   ]
  },
  {
   "cell_type": "code",
   "execution_count": 9,
   "id": "80cf2914",
   "metadata": {
    "scrolled": true
   },
   "outputs": [
    {
     "data": {
      "text/plain": [
       "(<QuerySet [<User: rlcs - Kartado CS>]>,\n",
       " <QuerySet [<ApprovalTransition: [Solicitar revisão após aprovado]: RDO Aprovado - RDO Criado>, <ApprovalTransition: [Solicitar revisão após reprovado]: RDO Reprovado - RDO Criado>, <ApprovalTransition: [Solicitar aprovação]: RDO Criado - RDO Aguardando Aprovação>, <ApprovalTransition: [Aprovar]: RDO Aguardando Aprovação - RDO Aprovado>, <ApprovalTransition: [Reprovar]: RDO Aguardando Aprovação - RDO Reprovado>]>)"
      ]
     },
     "execution_count": 9,
     "metadata": {},
     "output_type": "execute_result"
    }
   ],
   "source": [
    "at=ApprovalTransition.objects.filter(\n",
    "    destination__approval_flow__company=company,destination__approval_flow__target_model__icontains=\"multiple\")\n",
    "at[0].origin.responsible_users.all(),at"
   ]
  },
  {
   "cell_type": "code",
   "execution_count": 11,
   "id": "1fcba70a",
   "metadata": {},
   "outputs": [
    {
     "name": "stdout",
     "output_type": "stream",
     "text": [
      "Arteris Intervias\n",
      "\n",
      "Status Atual > Botão do status atual > Status após clicar no botão\n",
      "\n",
      "RDO Aprovado > BOTÃO: [Solicitar revisão após aprovado] > RDO Criado\n",
      "RDO Reprovado > BOTÃO: [Solicitar revisão após reprovado] > RDO Criado\n",
      "RDO Criado > BOTÃO: [Solicitar aprovação] > RDO Aguardando Aprovação\n",
      "RDO Aguardando Aprovação > BOTÃO: [Aprovar] > RDO Aprovado\n",
      "RDO Aguardando Aprovação > BOTÃO: [Reprovar] > RDO Reprovado\n"
     ]
    }
   ],
   "source": [
    "print(company.name)\n",
    "print()\n",
    "print('Status Atual > Botão do status atual > Status após clicar no botão')\n",
    "print()\n",
    "for a in at:\n",
    "    print(f\"{a.origin.name} > BOTÃO: {str(a).split(':')[0]} > {a.destination.name}\")"
   ]
  },
  {
   "cell_type": "code",
   "execution_count": 12,
   "id": "c13f12cb",
   "metadata": {},
   "outputs": [
    {
     "data": {
      "text/plain": [
       "{'_state': <django.db.models.base.ModelState at 0x7fa75e910ca0>,\n",
       " 'uuid': UUID('0ed07bce-afcc-4098-84b3-ef4ea76d1700'),\n",
       " 'name': 'Solicitar Revisão',\n",
       " 'origin_id': UUID('21eae3d9-8127-493c-ad50-506829e61bda'),\n",
       " 'destination_id': UUID('cfc5a222-a386-463e-b394-d12ee0276f79'),\n",
       " 'condition': {'===': [{'var': 'request.action'}, 'Solicitar Revisão']},\n",
       " 'callback': {'change_fields': [{'name': 'editable', 'value': True}]},\n",
       " 'button': {'icon': 'warning',\n",
       "  'color': 'amber',\n",
       "  'variant': 'outlined',\n",
       "  'needs_dialog': True},\n",
       " 'order': ''}"
      ]
     },
     "execution_count": 12,
     "metadata": {},
     "output_type": "execute_result"
    }
   ],
   "source": [
    "at[3].__dict__"
   ]
  },
  {
   "cell_type": "code",
   "execution_count": 37,
   "id": "6c2f3b0a",
   "metadata": {},
   "outputs": [],
   "source": [
    "transition=at[0]\n",
    "transition.origin =aps3[1]\n",
    "transition.destination = aps3[2]\n",
    "transition.save()"
   ]
  },
  {
   "cell_type": "code",
   "execution_count": 15,
   "id": "5cb7ecb6",
   "metadata": {},
   "outputs": [
    {
     "data": {
      "text/plain": [
       "{'_state': <django.db.models.base.ModelState at 0x7f0844697a50>,\n",
       " 'uuid': UUID('33c32204-c0a2-4b65-8518-f9dcb0999cf3'),\n",
       " 'name': 'Aprovar',\n",
       " 'origin_id': UUID('ebf8ef55-221a-4997-8569-8843d5bb1a23'),\n",
       " 'destination_id': UUID('5ef8d0f1-a56f-4237-84ea-342c7eb04b06'),\n",
       " 'condition': {'===': [{'var': 'request.action'}, 'Aprovar']},\n",
       " 'callback': {'change_fields': [{'name': 'approved', 'value': True},\n",
       "   {'name': 'done', 'value': True}],\n",
       "  'create_user_in_company': True},\n",
       " 'button': {},\n",
       " 'order': ''}"
      ]
     },
     "execution_count": 15,
     "metadata": {},
     "output_type": "execute_result"
    }
   ],
   "source": [
    "at[1].__dict__"
   ]
  },
  {
   "cell_type": "code",
   "execution_count": 19,
   "id": "48b3b484",
   "metadata": {},
   "outputs": [],
   "source": [
    "lista_user_add=['diegobernardes','flavio.sales','jhonatan.bezerra','karla.zorzam','rlcs','larissacampos']"
   ]
  },
  {
   "cell_type": "code",
   "execution_count": 24,
   "id": "749d1282",
   "metadata": {},
   "outputs": [],
   "source": [
    "for a in aps:\n",
    "    if 'RDO Aprovado' in a.name:\n",
    "        continue\n",
    "    else:\n",
    "        a.responsible_users.add(*User.objects.filter(username__in=lista_user_add))"
   ]
  },
  {
   "cell_type": "code",
   "execution_count": 16,
   "id": "8353cd51",
   "metadata": {},
   "outputs": [
    {
     "data": {
      "text/plain": [
       "(<ApprovalStep: [Rota do Oeste]: Criado>,\n",
       " <ApprovalStep: [Rota do Oeste]: Aguardando Aprovação>)"
      ]
     },
     "execution_count": 16,
     "metadata": {},
     "output_type": "execute_result"
    }
   ],
   "source": [
    "aps2[0],aps2[1]"
   ]
  },
  {
   "cell_type": "markdown",
   "id": "a67b1ab8",
   "metadata": {},
   "source": [
    "# Criação de approvalTransition Apontamentos"
   ]
  },
  {
   "cell_type": "code",
   "execution_count": 13,
   "id": "2fb91501",
   "metadata": {},
   "outputs": [],
   "source": [
    "at2 = ApprovalTransition(name='Solicitar Aprovação 1',\n",
    "                        origin=aps2[0], # apontamento Aprovado\n",
    "                         destination=aps2[1], # apontamento Em Revisão\n",
    "                         condition={'===': [{'var': 'request.action'}, 'Solicitar Aprovação 1']},\n",
    "                         callback={'change_fields': [{'name': 'editable', 'value': True}]},\n",
    "                         button={'icon': 'check', 'color': 'primary', 'variant': 'raised', \"needs_dialog\": True}\n",
    "                        )\n",
    "at2.save()"
   ]
  },
  {
   "cell_type": "markdown",
   "id": "92249121",
   "metadata": {},
   "source": [
    "# Criação de approvalTransition RDO"
   ]
  },
  {
   "cell_type": "code",
   "execution_count": 11,
   "id": "7053bd06",
   "metadata": {},
   "outputs": [],
   "source": [
    "at2 = ApprovalTransition(name='Solicitar revisão após aprovado',\n",
    "                        origin=aps[2], # RDO Aprovado\n",
    "                         destination=aps[1], # RDO Aguardando Aprovação\n",
    "                         condition={'===': [{'var': 'request.action'}, 'Solicitar revisão após aprovado']},\n",
    "                         callback={'change_fields': [{'name': 'editable', 'value': True}]},\n",
    "                         button={'icon': 'check', 'color': 'primary', 'variant': 'raised', \"needs_dialog\": True}\n",
    "                        )\n",
    "at2.save()"
   ]
  },
  {
   "cell_type": "markdown",
   "id": "00dcf10b",
   "metadata": {},
   "source": [
    "# CONSULTA PERMISSÕES E INSERÇÃO DE USUÁRIO A NIVEL DE ACESSO"
   ]
  },
  {
   "cell_type": "code",
   "execution_count": 1,
   "id": "a6bfb2a6",
   "metadata": {
    "scrolled": true
   },
   "outputs": [
    {
     "name": "stdout",
     "output_type": "stream",
     "text": [
      "4\n",
      "6d21b28e-4154-45e9-a1cd-f572db18e9db Suporte 0\n",
      "3371550a-1542-4bc2-a2cb-8b7dd852b7aa Coordenador 1\n",
      "c0e59476-bc05-4649-81d9-954898f7a99b Fiscal ARTESP 2\n",
      "abca0b11-4750-44fd-b411-74386cb51cf1 Inativo 3\n"
     ]
    }
   ],
   "source": [
    "company=Company.objects.get(name=\"Arteris Via Paulista - Faixa de Domínio\")\n",
    "### PERMISSÕES POR UNIDADE ###\n",
    "perm_dest = UserPermission.objects.filter(companies=company)\n",
    "print(perm_dest.count())\n",
    "for i,a in enumerate(perm_dest):\n",
    "    print(a.uuid,a.name,i)"
   ]
  },
  {
   "cell_type": "code",
   "execution_count": 2,
   "id": "a4a459e4",
   "metadata": {},
   "outputs": [
    {
     "data": {
      "text/plain": [
       "(<User: luan.poletti - Luan Poletti>,\n",
       " 'Suporte',\n",
       " {'_state': <django.db.models.base.ModelState at 0x7fa31c4e8110>,\n",
       "  'uuid': UUID('9c61690f-d5bd-4b7e-b7ea-45210bafd8b7'),\n",
       "  'user_id': UUID('8c30480c-f19b-4171-80b1-cabca58e65e3'),\n",
       "  'company_id': UUID('ec364a8e-b335-4729-8ac8-50ccabd73459'),\n",
       "  'expiration_date': datetime.date(2024, 9, 13),\n",
       "  'level': 2,\n",
       "  'permissions_id': UUID('6d21b28e-4154-45e9-a1cd-f572db18e9db'),\n",
       "  'added_permissions': None})"
      ]
     },
     "execution_count": 2,
     "metadata": {},
     "output_type": "execute_result"
    }
   ],
   "source": [
    "### USUÁRIOS POR EMPRESA E SUA PERMISSÃO ###\n",
    "uc_origin = UserInCompany.objects.get(user__username=\"luan.poletti\",company=company)\n",
    "uc_origin.user,uc_origin.permissions.name,uc_origin.__dict__"
   ]
  },
  {
   "cell_type": "code",
   "execution_count": 3,
   "id": "48c44c3c",
   "metadata": {},
   "outputs": [],
   "source": [
    "### INCLUIR A INSTANCE INTEIRA PARA O PERMISSION COM SUA RESPECTIVA POSIÇÃO NO ARRAY\n",
    "uc_origin.permissions = perm_dest[1]\n",
    "uc_origin.save()"
   ]
  },
  {
   "cell_type": "code",
   "execution_count": 23,
   "id": "1c9ef46b",
   "metadata": {},
   "outputs": [
    {
     "data": {
      "text/plain": [
       "(56, {'companies.UserInCompany': 56})"
      ]
     },
     "execution_count": 23,
     "metadata": {},
     "output_type": "execute_result"
    }
   ],
   "source": [
    "# UserInCompany.objects.filter(user__username=\"danieli.soares\").delete()"
   ]
  },
  {
   "cell_type": "code",
   "execution_count": 39,
   "id": "5defc62c",
   "metadata": {},
   "outputs": [
    {
     "data": {
      "text/plain": [
       "{'_state': <django.db.models.base.ModelState at 0x7fb04930dd50>,\n",
       " 'uuid': UUID('d6db3a1a-eaed-4301-94d5-2a6139ee68ab'),\n",
       " 'user_id': UUID('e12f4de8-23b1-491f-ae6f-1a8716bc31d6'),\n",
       " 'company_id': UUID('eee8616b-7b11-40a9-a7f2-3d1c2207b7a8'),\n",
       " 'expiration_date': None,\n",
       " 'level': 2,\n",
       " 'permissions_id': UUID('32076d08-901e-4005-a296-8a3e907fa5de'),\n",
       " 'added_permissions': []}"
      ]
     },
     "execution_count": 39,
     "metadata": {},
     "output_type": "execute_result"
    }
   ],
   "source": [
    "### Get User permissions\n",
    "uc_origin.__dict__"
   ]
  },
  {
   "cell_type": "code",
   "execution_count": 3,
   "id": "a3fed96c",
   "metadata": {},
   "outputs": [
    {
     "data": {
      "text/plain": [
       "<QuerySet [<Firm: [52bf5f0c-7d75-4081-8616-06e0b43dee29: Arteris Litoral Sul - Conserva] bf80f991-8e0b-497c-93be-913ab5d83d8a: Lote 1 - Tacha 1>, <Firm: [52bf5f0c-7d75-4081-8616-06e0b43dee29: Arteris Litoral Sul - Conserva] ce9f2749-5028-416b-9639-2d661aa2bb5a: Lote 1 - Poda>, <Firm: [52bf5f0c-7d75-4081-8616-06e0b43dee29: Arteris Litoral Sul - Conserva] a7c44af0-7a46-45b9-9584-e31bce1a6d53: Sala Técnica>, <Firm: [52bf5f0c-7d75-4081-8616-06e0b43dee29: Arteris Litoral Sul - Conserva] a6388c89-989c-4cbf-b26e-cb5ffca9fa2e: Conserva Lote 1>, <Firm: [52bf5f0c-7d75-4081-8616-06e0b43dee29: Arteris Litoral Sul - Conserva] 738cb58b-6aef-407e-8687-1294a740c3e3: Lote 1 - Coleta 1>, <Firm: [52bf5f0c-7d75-4081-8616-06e0b43dee29: Arteris Litoral Sul - Conserva] fe42ea0f-df9f-4ea6-b121-4b76b0233a98: Lote 1 - Coleta 2>, <Firm: [52bf5f0c-7d75-4081-8616-06e0b43dee29: Arteris Litoral Sul - Conserva] 7b4cb8dc-30cf-421d-8af3-de9220fe06bb: Lote 1 - Roçada 2>, <Firm: [52bf5f0c-7d75-4081-8616-06e0b43dee29: Arteris Litoral Sul - Conserva] a80fb4bc-6268-4584-8c44-91d58476fd84: Lote 1 - Roçada 3>, <Firm: [52bf5f0c-7d75-4081-8616-06e0b43dee29: Arteris Litoral Sul - Conserva] 5ffc0f69-6b14-4595-829b-510349a014a4: Lote 1 - Roçada 4>, <Firm: [52bf5f0c-7d75-4081-8616-06e0b43dee29: Arteris Litoral Sul - Conserva] 874a7392-1bc8-4d0d-a3ce-7c203c40e9eb: Lote 1 - Roçada 5>, <Firm: [52bf5f0c-7d75-4081-8616-06e0b43dee29: Arteris Litoral Sul - Conserva] 8bc1a43a-29ca-474a-85a4-8c80ede4d1f1: Lote 1 - Roçada 6>, <Firm: [52bf5f0c-7d75-4081-8616-06e0b43dee29: Arteris Litoral Sul - Conserva] b12cf58a-f57f-4a3c-b0ef-182f6718f4aa: Lote 1 - Varrição 1>, <Firm: [52bf5f0c-7d75-4081-8616-06e0b43dee29: Arteris Litoral Sul - Conserva] dd3425b7-3afd-4f10-915a-eeabf2498a8c: Lote 1 - Varrição 2>, <Firm: [52bf5f0c-7d75-4081-8616-06e0b43dee29: Arteris Litoral Sul - Conserva] 36fdf9a0-54c7-42f2-9239-8eba3b922499: Lote 1 - Limpeza 1>, <Firm: [52bf5f0c-7d75-4081-8616-06e0b43dee29: Arteris Litoral Sul - Conserva] 7c95f994-fe7d-4e5f-8bf3-caac46b2ed0a: Lote 1 - Limpeza 2>, <Firm: [52bf5f0c-7d75-4081-8616-06e0b43dee29: Arteris Litoral Sul - Conserva] 7593d2d1-7b44-4f64-aff2-cf3cc8ae3661: Lote 1 - Defensa 1>, <Firm: [52bf5f0c-7d75-4081-8616-06e0b43dee29: Arteris Litoral Sul - Conserva] f677fb0d-23e9-447b-a56d-c940ef33461e: Lote 1 - Drenagem 1>, <Firm: [52bf5f0c-7d75-4081-8616-06e0b43dee29: Arteris Litoral Sul - Conserva] a0cdfe56-4b1d-4c30-a80b-7668cbb6e2d0: Lote 1 - Terrapleno 1>, <Firm: [52bf5f0c-7d75-4081-8616-06e0b43dee29: Arteris Litoral Sul - Conserva] b3afd710-8c37-4213-9edf-7362843837e2: Lote 1 - Pintura 1>, <Firm: [52bf5f0c-7d75-4081-8616-06e0b43dee29: Arteris Litoral Sul - Conserva] c7b6e9cd-18db-47ac-9729-96e9168893f9: Lote 1 - Pintura 2>, '...(remaining elements truncated)...']>"
      ]
     },
     "execution_count": 3,
     "metadata": {},
     "output_type": "execute_result"
    }
   ],
   "source": [
    "f = Firm.objects.filter(company=company,users__username=\"allana.wendler\")\n",
    "f"
   ]
  },
  {
   "cell_type": "code",
   "execution_count": 2,
   "id": "63f947f5",
   "metadata": {},
   "outputs": [],
   "source": [
    "f = UserInFirm.objects.filter(user__username=\"marcelo.piacenco\")\n",
    "for a in f:\n",
    "    a.uuid = None\n",
    "    a.user = User.objects.get(username='luan.poletti')\n",
    "    a.save()\n"
   ]
  },
  {
   "cell_type": "code",
   "execution_count": 4,
   "id": "e1465e91",
   "metadata": {},
   "outputs": [
    {
     "name": "stdout",
     "output_type": "stream",
     "text": [
      "CONSERVA-01_RZF 01_24275\n",
      "CONSERVA-02_C&K_063\n",
      "ROÇ.INTELIGENTE-01_OPTIMUS_23760\n",
      "ROÇ.INTELIGENTE-02_OPTIMUS_23760\n",
      "EROSÃO EMERGENCIAL\n",
      "CONSERVA-02-AIR LESS 02-24178\n",
      "SINISTROS\n",
      "OBRAS DE MELHORAMENTO\n",
      "RETRO-01_AIR LESS_24178\n",
      "RETRO-01_RZF_24275\n",
      "ROÇADA-01-AIR LESS 02-24178\n",
      "ROÇADA-02-AIR LESS 02-24178\n",
      "ROÇADA-03-AIR LESS 02-24178\n",
      "LP-01-AIR LESS 02-24178\n",
      "LP-02-AIR LESS 02-24178\n",
      "MULTI-01-AIR LESS 02-24178\n",
      "MULTI-02-AIR LESS 02-24178\n",
      "MOITA-01-AIR LESS 02-24178\n",
      "TRATO EX-01-AIR LESS 02-24178\n",
      "ROÇADA-01_RZF 01_24275\n",
      "ROÇADA-02_RZF 01_24275\n",
      "ROÇADA-03_RZF 01_24275\n",
      "LP-01_RZF 01_24275\n",
      "LP-02_RZF 01_24275\n",
      "MULTI-01_RZF 01_24275\n",
      "MULTI-02_RZF 01_24275\n",
      "MOITA-01_RZF 01_24275\n",
      "MOITA-02_RZF 01_24275\n",
      "TRATO EX-01_RZF 01_24275\n",
      "MOITA-02_AIR LESS 02_24178\n",
      "REL.ANUAL.DRENAGEM-01_ITV_CONSERVA\n",
      "CERCA-01_AIR LESS_24178\n",
      "CERCA-01_RZF_24275\n"
     ]
    }
   ],
   "source": [
    "f = UserInFirm.objects.filter(user__username=\"francisco.cavassin\")\n",
    "for a in f:\n",
    "    print(a.firm.name) "
   ]
  },
  {
   "cell_type": "code",
   "execution_count": 8,
   "id": "24215380",
   "metadata": {},
   "outputs": [
    {
     "name": "stdout",
     "output_type": "stream",
     "text": [
      "cat: env: No such file or directory\r\n"
     ]
    }
   ],
   "source": [
    "!cat env"
   ]
  },
  {
   "cell_type": "code",
   "execution_count": 101,
   "id": "457e6023",
   "metadata": {},
   "outputs": [],
   "source": [
    "# LISTAGEM DE USUÁRIOS POR NIVEL DE ACESSO\n",
    "usersCompany = UserInCompany.objects.filter(company=company)\n",
    "user_perm = UserPermission.objects.filter(companies=company)\n",
    "chefia=[]\n",
    "pelego=[]\n",
    "for b in user_perm:\n",
    "#     print(b.name)\n",
    "    for a in usersCompany:\n",
    "        if a.permissions == b:\n",
    "            if b.name == 'Suporte' or b.name == 'Usuário de controle' or b.name =='Coordenador/Engenheiro' or b.name == 'Fiscal Técnico':\n",
    "                    chefia.append(a)\n",
    "            if b.name == \"Empreiteiras (Terceirizadas)\" or b.name == 'Empreiteiras Terceirizadas (Campo)':\n",
    "                    pelego.append(a) "
   ]
  },
  {
   "cell_type": "code",
   "execution_count": 102,
   "id": "decbc4aa",
   "metadata": {},
   "outputs": [
    {
     "data": {
      "text/plain": [
       "(41, 11)"
      ]
     },
     "execution_count": 102,
     "metadata": {},
     "output_type": "execute_result"
    }
   ],
   "source": [
    "len(chefia),len(pelego)"
   ]
  },
  {
   "cell_type": "code",
   "execution_count": 97,
   "id": "cd468bef",
   "metadata": {},
   "outputs": [
    {
     "name": "stdout",
     "output_type": "stream",
     "text": [
      "[CAJ]: Criado 0\n",
      "[CAJ]: Aguardando Aprovação 1\n",
      "[CAJ]: Em Revisão 2\n",
      "[CAJ]: Aprovado 3\n",
      "[CAJ]: Cancelado 4\n"
     ]
    }
   ],
   "source": [
    "for i,a in enumerate(aps2):\n",
    "    print(a,i)\n",
    "#     for h in a.responsible_users.all():\n",
    "#         print('\\t',h.full_name,'- ',h.username)"
   ]
  },
  {
   "cell_type": "code",
   "execution_count": 95,
   "id": "27145cd7",
   "metadata": {},
   "outputs": [
    {
     "name": "stdout",
     "output_type": "stream",
     "text": [
      "[CAJ]: Criado 0\n",
      "\t Kartado CS -  rlcs\n",
      "\t Silvio Araujo -  silvio.araujo\n",
      "\t Sandro Junior -  sandro.junior\n",
      "\t João Airton de Moraes Junior -  joao.airton\n",
      "\t teste terceirocaj -  teste.terceirocaj\n",
      "\t Willian Lubrigati -  willian.lubrigati\n",
      "\t Teste Terceiro -  teste.terceiro.leo\n",
      "\t João Fernando Gomes Pereira -  joao.fernando\n",
      "\t Esdras Dias Alves -  esdras.alves\n",
      "\t Joanderson Cruz -  joanderson.cruz\n",
      "\t Katrynn H -  katrynn.terceiro\n",
      "\t Victor Martins -  victor.martins\n",
      "\t Elcioni Pacífico de Oliveira -  elcioni.oliveira\n",
      "\t Bruno Gentil -  bruno.gentil\n",
      "\t Marcelo Bittencourt -  marcelo.bittencourt\n",
      "\t Priscila Kayane Krambeck Voltolini -  priscila.krambeck\n",
      "\t Samira Giovanella Pereira -  samira.pereira\n",
      "\t Ramon Claus Colonetti -  ramon.colonetti\n",
      "\t Isaac Cruz -  isaac.cruz\n",
      "\t Bianca Berndt Kamradt -  bianca.berndt\n",
      "\t Andréia Zanatta -  andreia.zanatta\n",
      "\t André Rocha Vieira -  andre.vieira\n",
      "\t Pedro Gasparotti -  pedro.gasparotti\n",
      "\t Lucas Pereira Luiz -  lucas.pereira\n",
      "\t Caroline Baumgartner -  caroline.baumgartner\n",
      "\t Eduarda Bernardo -  eduarda.bernardo\n",
      "\t Mauro Fernando Teodoro -  mauro.teodoro\n",
      "\t Katrynn Honorio -  katrynn.honorio\n",
      "\t Julia Bittencourt -  julia.bittencourt\n",
      "\t Leonardo Ramos -  leonardo.ramos\n",
      "\t Hírya Souza -  hirya.souza\n",
      "\t Gizele Ginklings -  gizele.ginklings\n",
      "\t Luan Poletti -  luan.poletti\n",
      "\t Leonardo Minski -  leonardo.minski\n",
      "\t Karla Zorzam Brito -  karla.zorzam\n",
      "\t Pedro Fornari -  pedroh.fornari\n",
      "\t Jaqueline Turcatto -  jaqueline.turcatto\n",
      "\t Marina Carpes -  marina.carpes\n",
      "\t Rosemeri de Oliveira Correa -  rosemeri.correa\n",
      "\t Claudia Rocha -  claudia.rocha\n",
      "\t Mariana Limas -  mariana.limas\n",
      "\t Leandro Parizzi -  leandro.parizzi\n",
      "\t Rafael Benedito -  rafael.benedito\n",
      "\t Tony Paese -  tony.paese\n",
      "\t Gabriel Moreira -  gabriel.moreira\n",
      "\t Cristiano Bandeira -  cristiano.bandeira\n",
      "\t Helio Kuhl -  helio.kuhl\n",
      "\t Ysadora Ignácio -  ysadora.ignacio\n",
      "\t Lucas Kuhl -  lucas.kuhl\n",
      "\t David Cesar Apolonio Goncalves Vieira -  david.vieira\n",
      "\t Jeison Vieira -  jeison.vieira\n",
      "\t Franciele dos Santos -  franciele.dsantos\n",
      "[CAJ]: Aguardando Aprovação 1\n",
      "\t Kartado CS -  rlcs\n",
      "\t Bianca Berndt Kamradt -  bianca.berndt\n",
      "\t Elcioni Pacífico de Oliveira -  elcioni.oliveira\n",
      "\t Bruno Gentil -  bruno.gentil\n",
      "\t Marcelo Bittencourt -  marcelo.bittencourt\n",
      "\t Priscila Kayane Krambeck Voltolini -  priscila.krambeck\n",
      "\t Samira Giovanella Pereira -  samira.pereira\n",
      "\t Ramon Claus Colonetti -  ramon.colonetti\n",
      "\t Isaac Cruz -  isaac.cruz\n",
      "\t Andréia Zanatta -  andreia.zanatta\n",
      "\t André Rocha Vieira -  andre.vieira\n",
      "\t Pedro Gasparotti -  pedro.gasparotti\n",
      "\t Lucas Pereira Luiz -  lucas.pereira\n",
      "\t Caroline Baumgartner -  caroline.baumgartner\n",
      "\t Eduarda Bernardo -  eduarda.bernardo\n",
      "\t Mauro Fernando Teodoro -  mauro.teodoro\n",
      "\t Katrynn Honorio -  katrynn.honorio\n",
      "\t Julia Bittencourt -  julia.bittencourt\n",
      "\t Leonardo Ramos -  leonardo.ramos\n",
      "\t Hírya Souza -  hirya.souza\n",
      "\t Gizele Ginklings -  gizele.ginklings\n",
      "\t Luan Poletti -  luan.poletti\n",
      "\t Leonardo Minski -  leonardo.minski\n",
      "\t Karla Zorzam Brito -  karla.zorzam\n",
      "\t Pedro Fornari -  pedroh.fornari\n",
      "\t Jaqueline Turcatto -  jaqueline.turcatto\n",
      "\t Marina Carpes -  marina.carpes\n",
      "\t Rosemeri de Oliveira Correa -  rosemeri.correa\n",
      "\t Claudia Rocha -  claudia.rocha\n",
      "\t Mariana Limas -  mariana.limas\n",
      "\t Leandro Parizzi -  leandro.parizzi\n",
      "\t Rafael Benedito -  rafael.benedito\n",
      "\t Tony Paese -  tony.paese\n",
      "\t Gabriel Moreira -  gabriel.moreira\n",
      "\t Cristiano Bandeira -  cristiano.bandeira\n",
      "\t Helio Kuhl -  helio.kuhl\n",
      "\t Ysadora Ignácio -  ysadora.ignacio\n",
      "\t Lucas Kuhl -  lucas.kuhl\n",
      "\t David Cesar Apolonio Goncalves Vieira -  david.vieira\n",
      "\t Jeison Vieira -  jeison.vieira\n",
      "\t Franciele dos Santos -  franciele.dsantos\n",
      "[CAJ]: Em Revisão 2\n",
      "\t Kartado CS -  rlcs\n",
      "\t Bianca Berndt Kamradt -  bianca.berndt\n",
      "\t Silvio Araujo -  silvio.araujo\n",
      "\t Sandro Junior -  sandro.junior\n",
      "\t João Airton de Moraes Junior -  joao.airton\n",
      "\t teste terceirocaj -  teste.terceirocaj\n",
      "\t Willian Lubrigati -  willian.lubrigati\n",
      "\t Teste Terceiro -  teste.terceiro.leo\n",
      "\t João Fernando Gomes Pereira -  joao.fernando\n",
      "\t Esdras Dias Alves -  esdras.alves\n",
      "\t Joanderson Cruz -  joanderson.cruz\n",
      "\t Katrynn H -  katrynn.terceiro\n",
      "\t Victor Martins -  victor.martins\n",
      "\t Elcioni Pacífico de Oliveira -  elcioni.oliveira\n",
      "\t Bruno Gentil -  bruno.gentil\n",
      "\t Marcelo Bittencourt -  marcelo.bittencourt\n",
      "\t Priscila Kayane Krambeck Voltolini -  priscila.krambeck\n",
      "\t Samira Giovanella Pereira -  samira.pereira\n",
      "\t Ramon Claus Colonetti -  ramon.colonetti\n",
      "\t Isaac Cruz -  isaac.cruz\n",
      "\t Andréia Zanatta -  andreia.zanatta\n",
      "\t André Rocha Vieira -  andre.vieira\n",
      "\t Pedro Gasparotti -  pedro.gasparotti\n",
      "\t Lucas Pereira Luiz -  lucas.pereira\n",
      "\t Caroline Baumgartner -  caroline.baumgartner\n",
      "\t Eduarda Bernardo -  eduarda.bernardo\n",
      "\t Mauro Fernando Teodoro -  mauro.teodoro\n",
      "\t Katrynn Honorio -  katrynn.honorio\n",
      "\t Julia Bittencourt -  julia.bittencourt\n",
      "\t Leonardo Ramos -  leonardo.ramos\n",
      "\t Hírya Souza -  hirya.souza\n",
      "\t Gizele Ginklings -  gizele.ginklings\n",
      "\t Luan Poletti -  luan.poletti\n",
      "\t Leonardo Minski -  leonardo.minski\n",
      "\t Karla Zorzam Brito -  karla.zorzam\n",
      "\t Pedro Fornari -  pedroh.fornari\n",
      "\t Jaqueline Turcatto -  jaqueline.turcatto\n",
      "\t Marina Carpes -  marina.carpes\n",
      "\t Rosemeri de Oliveira Correa -  rosemeri.correa\n",
      "\t Claudia Rocha -  claudia.rocha\n",
      "\t Mariana Limas -  mariana.limas\n",
      "\t Leandro Parizzi -  leandro.parizzi\n",
      "\t Rafael Benedito -  rafael.benedito\n",
      "\t Tony Paese -  tony.paese\n",
      "\t Gabriel Moreira -  gabriel.moreira\n",
      "\t Cristiano Bandeira -  cristiano.bandeira\n",
      "\t Helio Kuhl -  helio.kuhl\n",
      "\t Ysadora Ignácio -  ysadora.ignacio\n",
      "\t Lucas Kuhl -  lucas.kuhl\n",
      "\t David Cesar Apolonio Goncalves Vieira -  david.vieira\n",
      "\t Jeison Vieira -  jeison.vieira\n",
      "\t Franciele dos Santos -  franciele.dsantos\n",
      "[CAJ]: Aprovado 3\n",
      "\t Elcioni Pacífico de Oliveira -  elcioni.oliveira\n",
      "\t Bruno Gentil -  bruno.gentil\n",
      "\t Marcelo Bittencourt -  marcelo.bittencourt\n",
      "\t Priscila Kayane Krambeck Voltolini -  priscila.krambeck\n",
      "\t Samira Giovanella Pereira -  samira.pereira\n",
      "\t Ramon Claus Colonetti -  ramon.colonetti\n",
      "\t Isaac Cruz -  isaac.cruz\n",
      "\t Kartado CS -  rlcs\n",
      "\t Bianca Berndt Kamradt -  bianca.berndt\n",
      "\t Andréia Zanatta -  andreia.zanatta\n",
      "\t André Rocha Vieira -  andre.vieira\n",
      "\t Pedro Gasparotti -  pedro.gasparotti\n",
      "\t Lucas Pereira Luiz -  lucas.pereira\n",
      "\t Caroline Baumgartner -  caroline.baumgartner\n",
      "\t Eduarda Bernardo -  eduarda.bernardo\n",
      "\t Mauro Fernando Teodoro -  mauro.teodoro\n",
      "\t Katrynn Honorio -  katrynn.honorio\n",
      "\t Julia Bittencourt -  julia.bittencourt\n",
      "\t Leonardo Ramos -  leonardo.ramos\n",
      "\t Hírya Souza -  hirya.souza\n",
      "\t Gizele Ginklings -  gizele.ginklings\n",
      "\t Luan Poletti -  luan.poletti\n",
      "\t Leonardo Minski -  leonardo.minski\n",
      "\t Karla Zorzam Brito -  karla.zorzam\n",
      "\t Pedro Fornari -  pedroh.fornari\n",
      "\t Jaqueline Turcatto -  jaqueline.turcatto\n",
      "\t Marina Carpes -  marina.carpes\n",
      "\t Rosemeri de Oliveira Correa -  rosemeri.correa\n",
      "\t Claudia Rocha -  claudia.rocha\n",
      "\t Mariana Limas -  mariana.limas\n",
      "\t Leandro Parizzi -  leandro.parizzi\n",
      "\t Rafael Benedito -  rafael.benedito\n",
      "\t Tony Paese -  tony.paese\n",
      "\t Gabriel Moreira -  gabriel.moreira\n",
      "\t Cristiano Bandeira -  cristiano.bandeira\n",
      "\t Helio Kuhl -  helio.kuhl\n",
      "\t Ysadora Ignácio -  ysadora.ignacio\n",
      "\t Lucas Kuhl -  lucas.kuhl\n",
      "\t David Cesar Apolonio Goncalves Vieira -  david.vieira\n",
      "\t Jeison Vieira -  jeison.vieira\n",
      "\t Franciele dos Santos -  franciele.dsantos\n",
      "[CAJ]: Cancelado 4\n",
      "\t Elcioni Pacífico de Oliveira -  elcioni.oliveira\n",
      "\t Bruno Gentil -  bruno.gentil\n",
      "\t Marcelo Bittencourt -  marcelo.bittencourt\n",
      "\t Priscila Kayane Krambeck Voltolini -  priscila.krambeck\n",
      "\t Samira Giovanella Pereira -  samira.pereira\n",
      "\t Ramon Claus Colonetti -  ramon.colonetti\n",
      "\t Isaac Cruz -  isaac.cruz\n",
      "\t Kartado CS -  rlcs\n",
      "\t Bianca Berndt Kamradt -  bianca.berndt\n",
      "\t Andréia Zanatta -  andreia.zanatta\n",
      "\t André Rocha Vieira -  andre.vieira\n",
      "\t Pedro Gasparotti -  pedro.gasparotti\n",
      "\t Lucas Pereira Luiz -  lucas.pereira\n",
      "\t Caroline Baumgartner -  caroline.baumgartner\n",
      "\t Eduarda Bernardo -  eduarda.bernardo\n",
      "\t Mauro Fernando Teodoro -  mauro.teodoro\n",
      "\t Katrynn Honorio -  katrynn.honorio\n",
      "\t Julia Bittencourt -  julia.bittencourt\n",
      "\t Leonardo Ramos -  leonardo.ramos\n",
      "\t Hírya Souza -  hirya.souza\n",
      "\t Gizele Ginklings -  gizele.ginklings\n",
      "\t Luan Poletti -  luan.poletti\n",
      "\t Leonardo Minski -  leonardo.minski\n",
      "\t Karla Zorzam Brito -  karla.zorzam\n",
      "\t Pedro Fornari -  pedroh.fornari\n",
      "\t Jaqueline Turcatto -  jaqueline.turcatto\n",
      "\t Marina Carpes -  marina.carpes\n",
      "\t Rosemeri de Oliveira Correa -  rosemeri.correa\n",
      "\t Claudia Rocha -  claudia.rocha\n",
      "\t Mariana Limas -  mariana.limas\n",
      "\t Leandro Parizzi -  leandro.parizzi\n",
      "\t Rafael Benedito -  rafael.benedito\n",
      "\t Tony Paese -  tony.paese\n",
      "\t Gabriel Moreira -  gabriel.moreira\n",
      "\t Cristiano Bandeira -  cristiano.bandeira\n",
      "\t Helio Kuhl -  helio.kuhl\n",
      "\t Ysadora Ignácio -  ysadora.ignacio\n",
      "\t Lucas Kuhl -  lucas.kuhl\n",
      "\t David Cesar Apolonio Goncalves Vieira -  david.vieira\n",
      "\t Jeison Vieira -  jeison.vieira\n",
      "\t Franciele dos Santos -  franciele.dsantos\n"
     ]
    }
   ],
   "source": [
    "for i,a in enumerate(aps2):\n",
    "    print(a,i)\n",
    "    if a.name == \"Criado\" or a.name == \"Em Revisão\":\n",
    "        for b in pelego:\n",
    "            aps2[0].responsible_users.add(User.objects.get(username=b.user.username))\n",
    "            aps2[2].responsible_users.add(User.objects.get(username=b.user.username))\n",
    "    else:\n",
    "        for c in chefia:\n",
    "            aps2[1].responsible_users.add(User.objects.get(username=c.user.username))\n",
    "            aps2[3].responsible_users.add(User.objects.get(username=c.user.username))\n",
    "            aps2[4].responsible_users.add(User.objects.get(username=c.user.username))\n",
    "        \n",
    "#     for h in a.responsible_users.all():\n",
    "\n",
    "#         print('\\t',h.full_name,'- ',h.username)\n"
   ]
  },
  {
   "cell_type": "code",
   "execution_count": 1,
   "id": "50e41fd4",
   "metadata": {},
   "outputs": [
    {
     "data": {
      "text/plain": [
       "<QuerySet [<UserInCompany: [8e70b23f-907a-4e9a-ae4e-fb316dda2831: Construtora Castilho] glaucio.smoraes>]>"
      ]
     },
     "execution_count": 1,
     "metadata": {},
     "output_type": "execute_result"
    }
   ],
   "source": [
    "t=UserInCompany.objects.filter(user__username=\"glaucio.smoraes\")\n",
    "t"
   ]
  },
  {
   "cell_type": "code",
   "execution_count": 27,
   "id": "b3d054a5",
   "metadata": {},
   "outputs": [
    {
     "name": "stdout",
     "output_type": "stream",
     "text": [
      "{'_state': <django.db.models.base.ModelState object at 0x7f72981485d0>, 'uuid': UUID('5a3f7a36-8237-42f5-8d6f-6aea4052e6a5'), 'name': 'Suporte', 'permissions': {'gps': {'canUseNewLib': True}, 'job': {'can_edit': True, 'can_view': True, 'queryset': 'all', 'can_create': True, 'can_delete': True, 'can_reschedule': True, 'can_view_progress_in_app': True}, 'Firm': {'can_edit': True, 'can_view': True, 'queryset': 'all', 'can_create': True, 'can_delete': True}, 'road': {'can_edit': False, 'can_view': True, 'queryset': 'all', 'can_create': False, 'can_delete': False}, 'user': {'can_edit': True, 'can_view': True, 'queryset': 'all', 'can_create': True, 'can_delete': True}, 'company': {'can_edit': True, 'can_view': True, 'queryset': 'self', 'can_create': True, 'can_delete': True, 'can_change_custom_options': True}, 'Contract': {'can_edit': True, 'can_view': True, 'queryset': 'all', 'can_create': True, 'can_delete': True}, 'HelpChat': {'can_view': True}, 'Resource': {'can_edit': True, 'can_view': True, 'queryset': 'all', 'can_create': True, 'can_delete': True, 'can_approve': True}, 'ShapeFile': {'can_edit': True, 'can_view': True, 'queryset': 'all', 'can_create': True, 'can_delete': True}, 'TileLayer': {'can_edit': True, 'can_view': True, 'queryset': 'all', 'can_create': True, 'can_delete': True}, 'inventory': {'can_edit': True, 'can_view': True, 'queryset': 'all', 'can_create': True, 'can_delete': True, 'can_view_sisoaes': True}, 'reporting': {'can_edit': True, 'can_view': True, 'queryset': 'all', 'can_create': True, 'can_delete': True, 'can_approve': True, 'can_hold_button': True, 'can_use_buttons': True, 'can_use_bluetooth_button': True}, 'QueuedPush': {'can_view': True}, 'UserInFirm': {'can_edit': True, 'can_view': True, 'queryset': 'all', 'can_create': True, 'can_delete': True}, 'dashboard2': {'can_edit': True, 'can_view': True, 'queryset': 'all', 'can_create': True, 'can_delete': True, 'can_view_map': True, 'can_view_heat_map': True, 'can_view_tech_plots': True, 'can_view_financial_indicators': True}, 'permission': {'can_edit': True, 'can_view': True, 'queryset': 'all', 'can_create': True, 'can_delete': True}, 'RecordPanel': {'can_edit': True, 'can_view': True, 'queryset': 'all', 'can_create': True, 'can_delete': True}, 'excelImport': {'can_edit': True, 'can_view': True, 'queryset': 'all', 'can_create': True, 'can_delete': True}, 'sub_company': {'can_edit': True, 'can_view': True, 'queryset': 'all', 'can_create': True, 'can_delete': True}, 'approval_Flow': {'can_edit': True, 'can_view': True, 'queryset': 'all', 'can_create': True, 'can_delete': True}, 'approval_step': {'can_edit': True, 'can_view': True, 'queryset': 'all', 'can_create': True, 'can_delete': True}, 'access_request': {'can_edit': True, 'can_view': True, 'queryset': 'all', 'can_create': True, 'can_delete': True, 'can_approve': False}, 'export_request': {'can_edit': True, 'can_view': True, 'queryset': 'all', 'can_create': True, 'can_delete': True}, 'reporting_file': {'can_edit': True, 'can_view': True, 'queryset': 'all', 'can_create': True, 'can_delete': True}, 'ContractService': {'can_edit': True, 'can_view': True, 'queryset': 'all', 'can_create': True, 'can_delete': True, 'can_view_money': True}, 'InspectorInFirm': {'can_edit': True, 'can_view': True, 'queryset': 'all', 'can_create': True, 'can_delete': True}, 'RecordPanelView': {'can_view': True}, 'occurrence_type': {'can_edit': True, 'can_view': True, 'queryset': 'all', 'can_create': True, 'can_delete': True}, 'user_in_company': {'can_edit': True, 'can_view': True, 'queryset': 'all', 'can_create': True, 'can_delete': True}, 'user_permission': {'can_edit': True, 'can_view': True, 'queryset': 'all', 'can_create': True, 'can_delete': True}, 'advanced_options': {'can_edit': True, 'can_view': True, 'queryset': 'all', 'can_create': True, 'can_delete': True}, 'AdditionalControl': {'can_edit': True, 'can_view': True, 'queryset': 'all', 'can_create': True, 'can_delete': True, 'can_view_money': True}, 'ProcedureResource': {'can_edit': True, 'can_view': True, 'queryset': 'all', 'can_create': True, 'can_delete': True, 'can_approve': True, 'can_view_money': True}, 'dailyReportConfig': {'can_edit': True, 'can_view': True, 'queryset': 'all', 'can_create': True, 'can_delete': True, 'can_approve': True}, 'dailyReportExport': {'can_edit': True, 'can_view': True, 'queryset': 'all', 'can_create': True, 'can_delete': True, 'can_approve': True}, 'dailyReportWorker': {'can_edit': True, 'can_view': True, 'queryset': 'all', 'can_create': True, 'can_delete': True, 'can_approve': True}, 'reporting_message': {'can_edit': True, 'can_view': True, 'queryset': 'all', 'can_create': True, 'can_delete': True}, 'customization_menu': {'can_edit': True, 'can_view': True, 'queryset': 'all', 'can_create': True, 'can_delete': True}, 'dailyReportVehicle': {'can_edit': True, 'can_view': True, 'queryset': 'all', 'can_create': True, 'can_delete': True, 'can_approve': True}, 'reporting_deadline': {'can_edit': True, 'can_view': True, 'queryset': 'all', 'can_create': True, 'can_delete': True}, 'MeasurementBulletin': {'can_edit': True, 'can_view': True, 'queryset': 'all', 'can_create': True, 'can_delete': True, 'can_view_money': True, 'can_view_summary': True}, 'approval_transition': {'can_edit': True, 'can_view': True, 'queryset': 'all', 'can_create': True, 'can_delete': True}, 'dailyReportRelation': {'can_edit': True, 'can_view': True, 'queryset': 'all', 'can_create': True, 'can_delete': True, 'can_approve': True}, 'dailyReportResource': {'can_edit': True, 'can_view': True, 'queryset': 'all', 'can_create': True, 'can_delete': True, 'can_approve': True}, 'multipleDailyReport': {'can_edit': True, 'can_view': True, 'queryset': 'all', 'can_create': True, 'can_delete': True, 'can_approve': True, 'can_view_all_firms': True, 'can_create_and_edit_all_firms': True}, 'ServiceOrderResource': {'can_edit': True, 'can_view': True, 'queryset': 'all', 'can_create': True, 'can_delete': True, 'can_view_money': True}, 'dailyReportEquipment': {'can_edit': True, 'can_view': True, 'queryset': 'all', 'can_create': True, 'can_delete': True, 'can_approve': True}, 'dailyReportSignaling': {'can_edit': True, 'can_view': True, 'queryset': 'all', 'can_create': True, 'can_delete': True, 'can_approve': True}, 'ContractItemUnitPrice': {'can_edit': True, 'can_view': True, 'queryset': 'all', 'can_create': True, 'can_delete': True, 'can_view_money': True}, 'dailyReportOccurrence': {'can_edit': True, 'can_view': True, 'queryset': 'all', 'can_create': True, 'can_delete': True, 'can_approve': True}, 'dailyReportExternalTeam': {'can_edit': True, 'can_view': True, 'queryset': 'all', 'can_create': True, 'can_delete': True, 'can_approve': True}, 'DailyReportContractUsage': {'can_edit': True, 'can_view': True, 'queryset': 'all', 'can_create': True, 'can_delete': True, 'can_approve': True}, 'serviceOrderActionStatus': {'can_edit': True, 'can_view': True, 'queryset': 'all', 'can_create': True, 'can_delete': True}, 'MeasurementBulletinExport': {'can_edit': True, 'can_view': True, 'queryset': 'all', 'can_create': True, 'can_delete': True, 'can_view_money': True, 'can_view_summary': True}, 'ContractItemAdministration': {'can_edit': True, 'can_view': True, 'queryset': 'all', 'can_create': True, 'can_delete': True, 'can_view_money': True}}, 'is_inactive': False, 'history_id': UUID('d3a2c6e8-fd93-4fff-be5d-d311f43b09bf'), 'history_date': datetime.datetime(2023, 8, 22, 19, 50, 47, 897013, tzinfo=<UTC>), 'history_change_reason': None, 'history_type': '~', 'history_user_id': UUID('6fcf5505-d2de-4ef1-97fe-81803e3b04a6')}\n",
      "{'_state': <django.db.models.base.ModelState object at 0x7f729814c590>, 'uuid': UUID('54a4807d-ba19-4263-9d63-fea3c7e142c7'), 'name': 'Suporte', 'permissions': {'Job': {'can_edit': True, 'can_view': True, 'queryset': 'all', 'can_create': True, 'can_delete': True, 'can_reschedule': True}, 'gps': {'can_use_new_lib': True}, 'File': {'can_edit': True, 'can_view': True, 'queryset': 'all', 'can_create': True, 'can_delete': True}, 'Firm': {'can_edit': True, 'can_view': True, 'queryset': 'all', 'can_create': True, 'can_delete': True}, 'Road': {'can_edit': True, 'can_view': True, 'queryset': 'all', 'can_create': True, 'can_delete': True}, 'User': {'can_edit': True, 'can_view': True, 'queryset': 'all', 'can_create': True, 'can_delete': False, 'can_edit_all_fields': True}, 'Entity': {'can_edit': True, 'can_view': True, 'queryset': 'all', 'can_create': True, 'can_delete': True}, 'Company': {'can_edit': True, 'can_view': True, 'queryset': 'self', 'can_create': True, 'can_delete': False, 'can_change_custom_options': True}, 'Service': {'can_edit': True, 'can_view': False, 'queryset': 'all', 'can_create': True, 'can_delete': True}, 'Contract': {'can_edit': True, 'can_view': True, 'queryset': 'all', 'can_create': True, 'can_delete': True, 'can_view_money': True, 'can_view_financial_indicators': True}, 'HelpChat': {'can_view': True}, 'Resource': {'can_edit': True, 'can_view': True, 'queryset': 'all', 'can_create': True, 'can_delete': True}, 'CSVImport': {'can_edit': True, 'can_view': True, 'queryset': 'all', 'can_create': True, 'can_delete': True}, 'Equipment': {'can_edit': False, 'can_view': False, 'queryset': 'none', 'can_create': False, 'can_delete': False}, 'Inventory': {'can_edit': True, 'can_view': True, 'queryset': 'all', 'can_create': True, 'can_delete': True, 'can_view_sisoaes': True}, 'Reporting': {'can_edit': True, 'can_view': True, 'queryset': 'all', 'can_create': True, 'can_delete': True, 'can_approve': True, 'can_hold_button': True, 'can_use_buttons': True, 'can_download_artesp_pdf': True, 'can_download_arteris_pdf': True, 'can_use_bluetooth_button': True}, 'ShapeFile': {'can_edit': True, 'can_view': True, 'queryset': 'all', 'can_create': True, 'can_delete': True}, 'TileLayer': {'can_edit': True, 'can_view': True, 'queryset': 'all', 'can_create': True, 'can_delete': True}, 'Dashboard2': {'can_edit': False, 'can_view': True, 'queryset': 'all', 'can_create': False, 'can_delete': False, 'can_view_map': True, 'can_view_r_d_o': True, 'can_view_heat_map': True, 'can_view_tech_plots': True, 'can_view_financial_indicators': True}, 'Permission': {'can_edit': False, 'can_view': True, 'queryset': 'all', 'can_create': False, 'can_delete': False}, 'QueuedPush': {'can_view': True}, 'SubCompany': {'can_edit': True, 'can_view': True, 'queryset': 'all', 'can_create': True, 'can_delete': True}, 'UserInFirm': {'can_edit': True, 'can_view': True, 'queryset': 'all', 'can_create': True, 'can_delete': True}, 'subCompany': {'can_edit': True, 'can_view': True, 'queryset': 'all', 'can_create': True, 'can_delete': True}, 'ExcelImport': {'can_edit': False, 'can_view': True, 'queryset': 'all', 'can_create': True, 'can_delete': False}, 'FieldSurvey': {'can_edit': True, 'can_view': True, 'queryset': 'all', 'can_create': True, 'can_delete': True, 'can_approve': True, 'can_view_money': True}, 'Measurement': {'can_edit': False, 'can_view': False, 'queryset': 'all', 'can_create': False, 'can_delete': False}, 'OaeSchedule': {'can_edit': True, 'can_view': True, 'queryset': 'all', 'can_create': True, 'can_delete': True}, 'RecordPanel': {'can_edit': True, 'can_view': True, 'queryset': 'default', 'can_create': True, 'can_delete': True}, 'mobile_sync': {'can_edit': True, 'can_view': True, 'queryset': 'self', 'can_create': True, 'can_delete': True}, 'ApprovalFlow': {'can_edit': False, 'can_view': True, 'queryset': 'all', 'can_create': False, 'can_delete': False}, 'ApprovalStep': {'can_edit': False, 'can_view': True, 'queryset': 'all', 'can_create': False, 'can_delete': False}, 'ServiceUsage': {'can_edit': True, 'can_view': False, 'queryset': 'all', 'can_create': True, 'can_delete': True}, 'construction': {'can_edit': True, 'can_view': True, 'queryset': 'all', 'can_create': True, 'can_delete': True}, 'excel_import': {'can_edit': False, 'can_view': True, 'queryset': 'all', 'can_create': True, 'can_delete': False}, 'AccessRequest': {'can_edit': True, 'can_view': True, 'queryset': 'self', 'can_create': True, 'can_delete': True, 'can_approve': True}, 'ExportRequest': {'can_edit': True, 'can_view': True, 'queryset': 'self', 'can_create': True, 'can_delete': True}, 'GoalAggregate': {'can_edit': True, 'can_view': True, 'queryset': 'all', 'can_create': True, 'can_delete': True}, 'ReportingFile': {'can_edit': True, 'can_view': True, 'queryset': 'all', 'can_create': True, 'can_delete': True}, 'UserInCompany': {'can_edit': True, 'can_view': True, 'queryset': 'all', 'can_create': True, 'can_delete': True}, 'quality_assay': {'can_edit': True, 'can_view': True, 'queryset': 'all', 'can_create': True, 'can_delete': True}, 'OccurrenceType': {'can_edit': True, 'can_view': True, 'queryset': 'all', 'can_create': True, 'can_delete': False}, 'UserPermission': {'can_edit': False, 'can_view': True, 'queryset': 'all', 'can_create': False, 'can_delete': False}, 'quality_sample': {'can_edit': True, 'can_view': True, 'queryset': 'all', 'can_create': True, 'can_delete': True}, 'ContractService': {'can_edit': True, 'can_view': True, 'queryset': 'all', 'can_create': True, 'can_delete': True, 'can_view_money': True}, 'FieldSurveyRoad': {'can_edit': True, 'can_view': True, 'queryset': 'all', 'can_create': True, 'can_delete': True, 'can_view_money': True}, 'InspectorInFirm': {'can_edit': True, 'can_view': True, 'queryset': 'all', 'can_create': True, 'can_delete': True}, 'RecordPanelView': {'can_view': True}, 'quality_project': {'can_edit': True, 'can_view': True, 'queryset': 'all', 'can_create': True, 'can_delete': True}, 'ReportingMessage': {'can_edit': False, 'can_view': True, 'queryset': 'all', 'can_create': True, 'can_delete': False}, 'advanced_options': {'can_edit': True, 'can_view': True, 'queryset': 'all', 'can_create': True, 'can_delete': True}, 'AdditionalControl': {'can_edit': True, 'can_view': True, 'queryset': 'all', 'can_create': True, 'can_delete': True, 'can_view_money': True}, 'CustomizationMenu': {'can_edit': True, 'can_view': True, 'queryset': 'all', 'can_create': True, 'can_delete': True}, 'DailyReportConfig': {'can_edit': True, 'can_view': True, 'queryset': 'all', 'can_create': True, 'can_delete': True}, 'DailyReportExport': {'can_edit': False, 'can_view': True, 'queryset': 'all', 'can_create': True, 'can_delete': False}, 'DailyReportWorker': {'can_edit': True, 'can_view': True, 'queryset': 'all', 'can_create': True, 'can_delete': True, 'can_approve': True}, 'FieldSurveyExport': {'can_edit': True, 'can_view': True, 'queryset': 'all', 'can_create': True, 'can_delete': True}, 'ProcedureResource': {'can_edit': True, 'can_view': True, 'queryset': 'all', 'can_create': True, 'can_delete': True, 'can_approve': True, 'can_view_money': True}, 'ReportingDeadline': {'can_edit': True, 'can_view': True, 'queryset': 'all', 'can_create': True, 'can_delete': True, 'can_hold_button': True, 'can_use_buttons': True, 'can_download_arteris_pdf': True}, 'ApprovalTransition': {'can_edit': False, 'can_view': True, 'queryset': 'all', 'can_create': False, 'can_delete': False}, 'DailyReportVehicle': {'can_edit': True, 'can_view': True, 'queryset': 'all', 'can_create': True, 'can_delete': True, 'can_approve': True}, 'MeasurementService': {'can_edit': False, 'can_view': True, 'queryset': 'all', 'can_create': True, 'can_delete': False}, 'ReportingAppConfig': {'can_edit': True, 'can_view': True, 'queryset': 'all', 'can_create': True, 'can_delete': True}, 'construction_plant': {'can_edit': True, 'can_view': True, 'queryset': 'all', 'can_create': True, 'can_delete': True}, 'DailyReportResource': {'can_edit': True, 'can_view': True, 'queryset': 'all', 'can_create': True, 'can_delete': True}, 'MeasurementBulletin': {'can_edit': True, 'can_view': True, 'queryset': 'all', 'can_create': True, 'can_delete': True, 'can_approve': True, 'can_view_money': True, 'can_view_summary': True}, 'MultipleDailyReport': {'can_edit': True, 'can_view': True, 'queryset': 'all', 'can_create': True, 'can_delete': True, 'can_approve': True, 'can_delete_all': True, 'can_view_all_firms': True, 'can_create_and_edit_all_firms': True}, 'dailyReportRelation': {'can_edit': True, 'can_view': True, 'queryset': 'all', 'can_create': True, 'can_delete': True}, 'DailyReportEquipment': {'can_edit': True, 'can_view': True, 'queryset': 'all', 'can_create': True, 'can_delete': True, 'can_approve': True}, 'DailyReportSignaling': {'can_edit': True, 'can_view': True, 'queryset': 'all', 'can_create': True, 'can_delete': True}, 'FieldSurveySignature': {'can_edit': True, 'can_view': True, 'queryset': 'all', 'can_create': True, 'can_delete': True, 'can_view_money': True}, 'ServiceOrderResource': {'can_edit': True, 'can_view': True, 'queryset': 'all', 'can_create': True, 'can_delete': True, 'can_view_money': True}, 'ContractItemUnitPrice': {'can_edit': True, 'can_view': True, 'queryset': 'all', 'can_create': True, 'can_delete': True, 'can_view_money': True}, 'DailyReportOccurrence': {'can_edit': True, 'can_view': True, 'queryset': 'all', 'can_create': True, 'can_delete': True}, 'construction_progress': {'can_edit': True, 'can_view': True, 'queryset': 'all', 'can_create': True, 'can_delete': True}, 'quality_control_export': {'can_edit': True, 'can_view': True, 'queryset': 'all', 'can_create': True, 'can_delete': True}, 'ContractItemPerformance': {'can_edit': True, 'can_view': True, 'queryset': 'all', 'can_create': True, 'can_delete': True, 'can_view_money': True}, 'DailyReportExternalTeam': {'can_edit': True, 'can_view': True, 'queryset': 'all', 'can_create': True, 'can_delete': True}, 'DailyReportContractUsage': {'can_edit': True, 'can_view': True, 'queryset': 'all', 'can_create': True, 'can_delete': True}, 'ServiceOrderActionStatus': {'can_edit': True, 'can_view': True, 'queryset': 'all', 'can_create': True, 'can_delete': True}, 'MeasurementBulletinExport': {'can_edit': True, 'can_view': True, 'queryset': 'all', 'can_create': True, 'can_delete': True, 'can_approve': False, 'can_view_money': True}, 'ContractItemAdministration': {'can_edit': True, 'can_view': True, 'queryset': 'all', 'can_create': True, 'can_delete': True, 'can_view_money': True}}, 'is_inactive': False, 'history_id': UUID('1155be51-2e4e-442e-b9a5-9f8ebd919c94'), 'history_date': datetime.datetime(2023, 8, 10, 17, 53, 29, 261348, tzinfo=<UTC>), 'history_change_reason': None, 'history_type': '~', 'history_user_id': None}\n"
     ]
    }
   ],
   "source": [
    "for a in t:\n",
    "    print(a.permissions.history.filter(history_date=))"
   ]
  },
  {
   "cell_type": "code",
   "execution_count": 13,
   "id": "b491fbe2",
   "metadata": {},
   "outputs": [],
   "source": [
    "aps=ApprovalStep.objects.get(uuid='44e5ff26-0afe-4b3b-bf42-5824c846ed2a')"
   ]
  },
  {
   "cell_type": "code",
   "execution_count": 14,
   "id": "b1104e65",
   "metadata": {},
   "outputs": [
    {
     "data": {
      "text/plain": [
       "<ApprovalStep: [Kartado | SIGACO]: Aprovado>"
      ]
     },
     "execution_count": 14,
     "metadata": {},
     "output_type": "execute_result"
    }
   ],
   "source": [
    "aps"
   ]
  },
  {
   "cell_type": "code",
   "execution_count": 8,
   "id": "0205e2ca",
   "metadata": {},
   "outputs": [
    {
     "data": {
      "text/plain": [
       "(2,\n",
       " {'resources.MeasurementBulletinExport': 1,\n",
       "  'service_orders.MeasurementBulletin': 1})"
      ]
     },
     "execution_count": 8,
     "metadata": {},
     "output_type": "execute_result"
    }
   ],
   "source": [
    "MeasurementBulletin.objects.filter(number='ARB-BM-2023.15')"
   ]
  },
  {
   "cell_type": "code",
   "execution_count": null,
   "id": "d8fd774f",
   "metadata": {},
   "outputs": [],
   "source": []
  }
 ],
 "metadata": {
  "kernelspec": {
   "display_name": "Django Shell-Plus",
   "language": "python",
   "name": "django_extensions"
  },
  "language_info": {
   "codemirror_mode": {
    "name": "ipython",
    "version": 3
   },
   "file_extension": ".py",
   "mimetype": "text/x-python",
   "name": "python",
   "nbconvert_exporter": "python",
   "pygments_lexer": "ipython3",
   "version": "3.8.16"
  }
 },
 "nbformat": 4,
 "nbformat_minor": 5
}
