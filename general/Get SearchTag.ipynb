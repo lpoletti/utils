{
 "cells": [
  {
   "cell_type": "code",
   "execution_count": null,
   "metadata": {},
   "outputs": [],
   "source": [
    "%load_ext autoreload\n",
    "%autoreload 2"
   ]
  },
  {
   "cell_type": "code",
   "execution_count": null,
   "metadata": {},
   "outputs": [],
   "source": [
    "from openpyxl import load_workbook"
   ]
  },
  {
   "cell_type": "code",
   "execution_count": null,
   "metadata": {},
   "outputs": [],
   "source": [
    "filename = \"search_keys\"\n",
    "company = Company.objects.get(name=\"PRE-UHE-ITA\")"
   ]
  },
  {
   "cell_type": "code",
   "execution_count": null,
   "metadata": {},
   "outputs": [],
   "source": [
    "wb = load_workbook('./' + filename + \".xlsx\")\n",
    "sheetname = wb.sheetnames[0]\n",
    "ws = wb[sheetname]"
   ]
  },
  {
   "cell_type": "code",
   "execution_count": null,
   "metadata": {},
   "outputs": [],
   "source": [
    "header = []\n",
    "values = []\n",
    "good_fields = []\n",
    "bad_fields = []\n",
    "\n",
    "for index, row in enumerate(ws.rows):\n",
    "    if index == 0:\n",
    "        header = list([a.value for a in row])\n",
    "        continue\n",
    "    obj = {}\n",
    "    for col_index, cell in enumerate(row):\n",
    "        value = cell.value\n",
    "        obj[header[col_index]] = value\n",
    "    values.append(obj)"
   ]
  },
  {
   "cell_type": "code",
   "execution_count": null,
   "metadata": {},
   "outputs": [],
   "source": [
    "values[0]"
   ]
  },
  {
   "cell_type": "code",
   "execution_count": null,
   "metadata": {},
   "outputs": [],
   "source": [
    "tags = []\n",
    "for value in values:\n",
    "    for level, name in value.items():\n",
    "        if not name or name == \"NAO\":\n",
    "            continue\n",
    "        tag = {\n",
    "            \"name\": name,\n",
    "            \"level\": level,\n",
    "            \"parent_tags\": [{\n",
    "                \"name\": b,\n",
    "                \"level\": a\n",
    "            } for a, b in [c for c in value.items() if c[0] < level and c[1] and c[1] != \"NAO\"]]\n",
    "        }\n",
    "        tags.append(tag)"
   ]
  },
  {
   "cell_type": "code",
   "execution_count": null,
   "metadata": {},
   "outputs": [],
   "source": [
    "tags"
   ]
  },
  {
   "cell_type": "code",
   "execution_count": null,
   "metadata": {},
   "outputs": [],
   "source": [
    "unique_tags = []\n",
    "for tag in tags:\n",
    "    name = tag['name']\n",
    "    level = tag['level']\n",
    "    parent_tags = tag['parent_tags']\n",
    "    existing_tag = None\n",
    "    try:\n",
    "        existing_tag = next(a for a in unique_tags if a['name'] == name and a['level'] == level)\n",
    "    except Exception:\n",
    "        unique_tags.append(tag)\n",
    "    else:\n",
    "        existing_tag_index = unique_tags.index(existing_tag)\n",
    "        unique_tags[existing_tag_index]['parent_tags'] += parent_tags"
   ]
  },
  {
   "cell_type": "code",
   "execution_count": null,
   "metadata": {},
   "outputs": [],
   "source": [
    "unique_tags"
   ]
  },
  {
   "cell_type": "code",
   "execution_count": null,
   "metadata": {},
   "outputs": [],
   "source": [
    "for tag in unique_tags:\n",
    "    new_parent_tags = []\n",
    "    for index, parent in enumerate(tag['parent_tags']):\n",
    "        if tag['parent_tags'].index(parent) == index:\n",
    "            new_parent_tags.append(parent)\n",
    "    tag['parent_tags'] = new_parent_tags"
   ]
  },
  {
   "cell_type": "code",
   "execution_count": null,
   "metadata": {},
   "outputs": [],
   "source": [
    "sorted_tags = sorted(unique_tags, key=lambda x: x['level'])"
   ]
  },
  {
   "cell_type": "code",
   "execution_count": null,
   "metadata": {},
   "outputs": [],
   "source": [
    "sorted_tags"
   ]
  },
  {
   "cell_type": "code",
   "execution_count": null,
   "metadata": {},
   "outputs": [],
   "source": [
    "SearchTag.objects.all().delete()"
   ]
  },
  {
   "cell_type": "code",
   "execution_count": null,
   "metadata": {},
   "outputs": [],
   "source": [
    "for tag in sorted_tags:\n",
    "    tag_obj = SearchTag(\n",
    "        company = company,\n",
    "        name = tag['name'],\n",
    "        level = tag['level'],\n",
    "        kind = 'text_field' if tag['name'] == \"ABERTO\" else 'select_option',\n",
    "    )\n",
    "    tag_obj.save()\n",
    "    parent_objs = []\n",
    "    for parent in tag['parent_tags']:\n",
    "        parent_obj = SearchTag.objects.get(name=parent['name'], level=parent['level'])\n",
    "        parent_objs.append(parent_obj)\n",
    "    tag_obj.parent_tags.set(parent_objs)\n",
    "#         print(tag_obj, parent_obj)\n",
    "#         tag_obj.parent_tags.add(parent_obj)\n",
    "#         print(tag_obj.level, tag_obj.name)\n",
    "#         print('added level {} parent to level {} object'.format(parent_obj.level, tag_obj.level))"
   ]
  },
  {
   "cell_type": "code",
   "execution_count": null,
   "metadata": {},
   "outputs": [],
   "source": [
    "for tag in SearchTag.objects.all().order_by('level'):\n",
    "    print(tag.level, tag.parent_tags.count())"
   ]
  },
  {
   "cell_type": "code",
   "execution_count": null,
   "metadata": {},
   "outputs": [],
   "source": [
    "formularios = {\n",
    "\t\"Requisições\": [{\n",
    "\t\t\"name\": \"Requisição\",\n",
    "\t\t\"level\": 1\n",
    "\t}],\n",
    "\t\"Ocorrências ambientais\": [{\n",
    "\t\t\"name\": \"Ocorrência\",\n",
    "\t\t\"level\": 1\n",
    "\t}, {\n",
    "\t\t\"name\": \"Ambiental\",\n",
    "\t\t\"level\": 3\n",
    "\t}],\n",
    "\t\"Ocorrências patrimoniais\": [{\n",
    "\t\t\"name\": \"Ocorrência\",\n",
    "\t\t\"level\": 1\n",
    "\t}, {\n",
    "\t\t\"name\": \"Patrimonial\",\n",
    "\t\t\"level\": 3\n",
    "\t}],\n",
    "\t\"Ocorrência natureza humana e material\": [{\n",
    "\t\t\"name\": \"Ocorrência\",\n",
    "\t\t\"level\": 1\n",
    "\t}, {\n",
    "\t\t\"name\": \"Humana e material\",\n",
    "\t\t\"level\": 3\n",
    "\t}],\n",
    "\t\"Diálogo com a sociedade\": [{\n",
    "\t\t\"name\": \"Comunicação\",\n",
    "\t\t\"level\": 1\n",
    "\t}, {\n",
    "\t\t\"name\": \"Diálogo com a sociedade\",\n",
    "\t\t\"level\": 2\n",
    "\t}],\n",
    "\t\"Visita técnica a parte interessada\": [{\n",
    "\t\t\"name\": \"Comunicação\",\n",
    "\t\t\"level\": 1\n",
    "\t}, {\n",
    "\t\t\"name\": \"Visita técnica a parte interessada\",\n",
    "\t\t\"level\": 2\n",
    "\t}],\n",
    "\t\"Vistorias técnicas\": [{\n",
    "\t\t\"name\": \"Relatório\",\n",
    "\t\t\"level\": 1\n",
    "\t}, {\n",
    "\t\t\"name\": \"Vistoria técnica\",\n",
    "\t\t\"level\": 2\n",
    "\t}],\n",
    "\t\"Resumo Executivo\": [{\n",
    "\t\t\"name\": \"Relatório\",\n",
    "\t\t\"level\": 1\n",
    "\t}, {\n",
    "\t\t\"name\": \"Resumo executivo\",\n",
    "\t\t\"level\": 2\n",
    "\t}],\n",
    "\t\"Verificação de serviços\": [{\n",
    "\t\t\"name\": \"Relatório\",\n",
    "\t\t\"level\": 1\n",
    "\t}, {\n",
    "\t\t\"name\": \"Verificação de serviços\",\n",
    "\t\t\"level\": 2\n",
    "\t}]\n",
    "}"
   ]
  },
  {
   "cell_type": "code",
   "execution_count": null,
   "metadata": {},
   "outputs": [],
   "source": [
    "for form, tags in formularios.items():\n",
    "#     print(form)\n",
    "    o_type = OccurrenceType.objects.filter(company=company, name=form).first()\n",
    "    relation = SearchTagOccurrenceType(\n",
    "        company = company,\n",
    "        occurrence_type = o_type\n",
    "    )\n",
    "    relation.save()\n",
    "    for tag in tags:\n",
    "        s_tag = SearchTag.objects.get(company=company, name=tag['name'], level=tag['level'])\n",
    "        relation.search_tags.add(s_tag)"
   ]
  },
  {
   "cell_type": "markdown",
   "metadata": {},
   "source": [
    "## Adicionando Description"
   ]
  },
  {
   "cell_type": "code",
   "execution_count": null,
   "metadata": {},
   "outputs": [],
   "source": [
    "description = {\n",
    "    \"Requisição\": \"Qualquer tipo de solicitação\",\n",
    "    \"Ocorrência\": \"Um acontecimento fora do ordinário\",\n",
    "    \"Comunicação\": \"Diálogos com a sociedade ou visitas a partes interessadas\",\n",
    "    \"Relatório\": \"Vistorias técnicas, resumos executivos ou verificações de serviço\",\n",
    "    \"Controle Operacional\": \"Controle de assuntos recorrentes sem periodicidade definida\",\n",
    "    \"Monitoramentos\": \"Controles periódicos e resultados de análises\"\n",
    "}"
   ]
  },
  {
   "cell_type": "code",
   "execution_count": null,
   "metadata": {},
   "outputs": [],
   "source": [
    "for key, value in description.items():\n",
    "    search_tags = SearchTag.objects.filter(level=1, company=company, name=key)\n",
    "    if search_tags.exists():\n",
    "        search_tags.update(description=value)"
   ]
  }
 ],
 "metadata": {
  "kernelspec": {
   "display_name": "Django Shell-Plus",
   "language": "python",
   "name": "django_extensions"
  },
  "language_info": {
   "codemirror_mode": {
    "name": "ipython",
    "version": 3
   },
   "file_extension": ".py",
   "mimetype": "text/x-python",
   "name": "python",
   "nbconvert_exporter": "python",
   "pygments_lexer": "ipython3",
   "version": "3.6.9"
  }
 },
 "nbformat": 4,
 "nbformat_minor": 4
}
