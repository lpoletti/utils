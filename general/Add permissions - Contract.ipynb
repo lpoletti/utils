{
 "cells": [
  {
   "cell_type": "code",
   "execution_count": 3,
   "metadata": {},
   "outputs": [
    {
     "name": "stdout",
     "output_type": "stream",
     "text": [
      "STAGE=PRODUCTION\r\n"
     ]
    }
   ],
   "source": [
    "!cat .env"
   ]
  },
  {
   "cell_type": "code",
   "execution_count": 4,
   "metadata": {},
   "outputs": [],
   "source": [
    "def to_camel_case(value):\n",
    "    content = value.split(\"_\")\n",
    "    if len(content) > 1:\n",
    "        return content[0].capitalize() + \"\".join(\n",
    "            word.capitalize() for word in content[1:] if not word.isspace())\n",
    "    else:\n",
    "        return value[0].capitalize() + value[1:]"
   ]
  },
  {
   "cell_type": "markdown",
   "metadata": {},
   "source": [
    "### **Unidade**"
   ]
  },
  {
   "cell_type": "code",
   "execution_count": 5,
   "metadata": {},
   "outputs": [
    {
     "data": {
      "text/plain": [
       "<Company: a3fca710-54b8-4ee1-8375-1a908342438d: LCM Construção e Comércio>"
      ]
     },
     "execution_count": 5,
     "metadata": {},
     "output_type": "execute_result"
    }
   ],
   "source": [
    "company=Company.objects.get(name='LCM Construção e Comércio')\n",
    "company"
   ]
  },
  {
   "cell_type": "markdown",
   "metadata": {},
   "source": [
    "### **Nome da permissão**"
   ]
  },
  {
   "cell_type": "code",
   "execution_count": 6,
   "metadata": {},
   "outputs": [
    {
     "data": {
      "text/plain": [
       "<UserPermission: ['LCM Construção e Comércio'] - Sala técnica>"
      ]
     },
     "execution_count": 6,
     "metadata": {},
     "output_type": "execute_result"
    }
   ],
   "source": [
    "permission=UserPermission.objects.get(companies=company, name='Sala técnica')\n",
    "permission"
   ]
  },
  {
   "cell_type": "markdown",
   "metadata": {},
   "source": [
    "### Arrumando casing"
   ]
  },
  {
   "cell_type": "code",
   "execution_count": 7,
   "metadata": {},
   "outputs": [],
   "source": [
    "permission_new={}\n",
    "\n",
    "for k, v in permission.permissions.items():\n",
    "    permission_new[to_camel_case(k)] = v"
   ]
  },
  {
   "cell_type": "code",
   "execution_count": 8,
   "metadata": {},
   "outputs": [
    {
     "data": {
      "text/plain": [
       "{'Gps': {'canUseNewLib': True},\n",
       " 'Job': {'can_edit': False,\n",
       "  'can_view': False,\n",
       "  'queryset': 'none',\n",
       "  'can_create': False,\n",
       "  'can_delete': False},\n",
       " 'Firm': {'can_edit': True,\n",
       "  'can_view': True,\n",
       "  'queryset': 'all',\n",
       "  'can_create': True,\n",
       "  'can_delete': True},\n",
       " 'Road': {'can_edit': False,\n",
       "  'can_view': True,\n",
       "  'queryset': 'all',\n",
       "  'can_create': False,\n",
       "  'can_delete': False},\n",
       " 'User': {'can_edit': True,\n",
       "  'can_view': True,\n",
       "  'queryset': 'all',\n",
       "  'can_create': True,\n",
       "  'can_delete': False,\n",
       "  'can_edit_all_fields': True},\n",
       " 'Company': {'can_edit': True,\n",
       "  'can_view': True,\n",
       "  'queryset': 'self',\n",
       "  'can_create': False,\n",
       "  'can_delete': False,\n",
       "  'can_change_custom_options': True},\n",
       " 'HelpChat': {'can_view': True},\n",
       " 'Resource': {'can_edit': True,\n",
       "  'can_view': True,\n",
       "  'queryset': 'all',\n",
       "  'can_create': True,\n",
       "  'can_delete': True},\n",
       " 'ActionLog': {'can_edit': False,\n",
       "  'can_view': True,\n",
       "  'queryset': 'all',\n",
       "  'can_create': False,\n",
       "  'can_delete': False},\n",
       " 'Inventory': {'can_edit': False,\n",
       "  'can_view': False,\n",
       "  'queryset': 'none',\n",
       "  'can_create': False,\n",
       "  'can_delete': False},\n",
       " 'Reporting': {'can_edit': True,\n",
       "  'can_view': True,\n",
       "  'queryset': 'all',\n",
       "  'can_clone': True,\n",
       "  'can_create': True,\n",
       "  'can_delete': True},\n",
       " 'ShapeFile': {'can_edit': True,\n",
       "  'can_view': True,\n",
       "  'queryset': 'all',\n",
       "  'can_create': True,\n",
       "  'can_delete': False},\n",
       " 'TileLayer': {'can_edit': True,\n",
       "  'can_view': True,\n",
       "  'queryset': 'all',\n",
       "  'can_create': True,\n",
       "  'can_delete': False},\n",
       " 'Dashboard2': {'can_edit': False,\n",
       "  'can_view': False,\n",
       "  'queryset': 'none',\n",
       "  'can_create': False,\n",
       "  'can_delete': False,\n",
       "  'can_view_financial_indicators': False},\n",
       " 'Permission': {'can_edit': False,\n",
       "  'can_view': True,\n",
       "  'queryset': 'all',\n",
       "  'can_create': False,\n",
       "  'can_delete': False},\n",
       " 'QueuedPush': {'can_view': True},\n",
       " 'SubCompany': {'can_edit': True,\n",
       "  'can_view': True,\n",
       "  'queryset': 'all',\n",
       "  'can_create': True,\n",
       "  'can_delete': True},\n",
       " 'UserInFirm': {'can_edit': True,\n",
       "  'can_view': True,\n",
       "  'queryset': 'all',\n",
       "  'can_create': True,\n",
       "  'can_delete': True},\n",
       " 'ExcelImport': {'can_edit': True,\n",
       "  'can_view': True,\n",
       "  'queryset': 'all',\n",
       "  'can_create': True,\n",
       "  'can_delete': False},\n",
       " 'RecordPanel': {'can_edit': True,\n",
       "  'can_view': True,\n",
       "  'queryset': 'all',\n",
       "  'can_create': True,\n",
       "  'can_delete': True},\n",
       " 'ApprovalFlow': {'can_edit': True,\n",
       "  'can_view': True,\n",
       "  'queryset': 'all',\n",
       "  'can_create': True,\n",
       "  'can_delete': False,\n",
       "  'can_approve': True},\n",
       " 'ApprovalStep': {'can_edit': True,\n",
       "  'can_view': True,\n",
       "  'queryset': 'all',\n",
       "  'can_create': True,\n",
       "  'can_delete': False,\n",
       "  'can_approve': True},\n",
       " 'AccessRequest': {'can_edit': True,\n",
       "  'can_view': True,\n",
       "  'queryset': 'all',\n",
       "  'can_create': True,\n",
       "  'can_delete': True,\n",
       "  'can_approve': True},\n",
       " 'ExportRequest': {'can_edit': True,\n",
       "  'can_view': True,\n",
       "  'queryset': 'all',\n",
       "  'can_create': True,\n",
       "  'can_delete': False},\n",
       " 'ReportingFile': {'can_edit': True,\n",
       "  'can_view': True,\n",
       "  'queryset': 'all',\n",
       "  'can_create': True,\n",
       "  'can_delete': True},\n",
       " 'UserInCompany': {'can_edit': True,\n",
       "  'can_view': True,\n",
       "  'queryset': 'all',\n",
       "  'can_create': True,\n",
       "  'can_delete': False},\n",
       " 'OccurrenceType': {'can_edit': False,\n",
       "  'can_view': True,\n",
       "  'queryset': 'all',\n",
       "  'can_create': False,\n",
       "  'can_delete': False},\n",
       " 'UserPermission': {'can_edit': True,\n",
       "  'can_view': True,\n",
       "  'queryset': 'all',\n",
       "  'can_create': True,\n",
       "  'can_delete': False},\n",
       " 'AdvancedOptions': {'can_edit': True,\n",
       "  'can_view': True,\n",
       "  'queryset': 'all',\n",
       "  'can_create': True,\n",
       "  'can_delete': True},\n",
       " 'InspectorInFirm': {'can_edit': True,\n",
       "  'can_view': True,\n",
       "  'queryset': 'all',\n",
       "  'can_create': True,\n",
       "  'can_delete': True},\n",
       " 'RecordPanelView': {'can_view': True},\n",
       " 'ReportingMessage': {'can_edit': False,\n",
       "  'can_view': False,\n",
       "  'queryset': 'none',\n",
       "  'can_create': False,\n",
       "  'can_delete': False},\n",
       " 'CustomizationMenu': {'can_edit': True,\n",
       "  'can_view': True,\n",
       "  'queryset': 'all',\n",
       "  'can_create': True,\n",
       "  'can_delete': False},\n",
       " 'DailyReportConfig': {'can_edit': True,\n",
       "  'can_view': True,\n",
       "  'queryset': 'all',\n",
       "  'can_create': True,\n",
       "  'can_delete': True},\n",
       " 'DailyReportExport': {'can_edit': True,\n",
       "  'can_view': True,\n",
       "  'queryset': 'all',\n",
       "  'can_create': True,\n",
       "  'can_delete': True},\n",
       " 'DailyReportWorker': {'can_edit': True,\n",
       "  'can_view': True,\n",
       "  'queryset': 'all',\n",
       "  'can_create': True,\n",
       "  'can_delete': True},\n",
       " 'ReportingDeadline': {'can_edit': True,\n",
       "  'can_view': True,\n",
       "  'queryset': 'all',\n",
       "  'can_create': True,\n",
       "  'can_delete': True},\n",
       " 'ApprovalTransition': {'can_edit': True,\n",
       "  'can_view': True,\n",
       "  'queryset': 'all',\n",
       "  'can_create': True,\n",
       "  'can_delete': False,\n",
       "  'can_approve': True},\n",
       " 'DailyReportVehicle': {'can_edit': True,\n",
       "  'can_view': True,\n",
       "  'queryset': 'all',\n",
       "  'can_create': True,\n",
       "  'can_delete': True},\n",
       " 'ReportingAppConfig': {'can_edit': True,\n",
       "  'can_view': True,\n",
       "  'queryset': 'all',\n",
       "  'can_create': True,\n",
       "  'can_delete': False},\n",
       " 'DailyReportResource': {'can_edit': True,\n",
       "  'can_view': True,\n",
       "  'queryset': 'all',\n",
       "  'can_create': True,\n",
       "  'can_delete': True},\n",
       " 'MultipleDailyReport': {'can_edit': True,\n",
       "  'can_view': True,\n",
       "  'queryset': 'all',\n",
       "  'can_create': True,\n",
       "  'can_delete': True},\n",
       " 'DailyReportEquipment': {'can_edit': True,\n",
       "  'can_view': True,\n",
       "  'queryset': 'all',\n",
       "  'can_create': True,\n",
       "  'can_delete': True},\n",
       " 'DailyReportSignaling': {'can_edit': True,\n",
       "  'can_view': True,\n",
       "  'queryset': 'all',\n",
       "  'can_create': True,\n",
       "  'can_delete': True},\n",
       " 'DailyReportOccurrence': {'can_edit': True,\n",
       "  'can_view': True,\n",
       "  'queryset': 'all',\n",
       "  'can_create': True,\n",
       "  'can_delete': True},\n",
       " 'DailyReportContractUsage': {'can_edit': True,\n",
       "  'can_view': True,\n",
       "  'queryset': 'all',\n",
       "  'can_create': True,\n",
       "  'can_delete': True},\n",
       " 'ServiceOrderActionStatus': {'can_edit': True,\n",
       "  'can_view': True,\n",
       "  'queryset': 'all',\n",
       "  'can_create': True,\n",
       "  'can_delete': True}}"
      ]
     },
     "execution_count": 8,
     "metadata": {},
     "output_type": "execute_result"
    }
   ],
   "source": [
    "permission_new"
   ]
  },
  {
   "cell_type": "code",
   "execution_count": 9,
   "metadata": {},
   "outputs": [],
   "source": [
    "permission.permissions=permission_new\n",
    "permission.save()"
   ]
  },
  {
   "cell_type": "markdown",
   "metadata": {},
   "source": [
    "### Adicionando as permissões"
   ]
  },
  {
   "cell_type": "code",
   "execution_count": 10,
   "metadata": {},
   "outputs": [],
   "source": [
    "# Contrato\n",
    "\n",
    "permission.permissions['Contract']={\n",
    "                                    \"can_edit\": True,\n",
    "                                    \"can_view\": True,\n",
    "                                    \"queryset\": \"all\",\n",
    "                                    \"can_create\": True,\n",
    "                                    \"can_delete\": True\n",
    "                                    }"
   ]
  },
  {
   "cell_type": "code",
   "execution_count": 11,
   "metadata": {},
   "outputs": [],
   "source": [
    "# Seções\n",
    "\n",
    "permission.permissions['ContractService']={\n",
    "                                    \"can_edit\": True,\n",
    "                                    \"can_view\": True,\n",
    "                                    \"queryset\": \"all\",\n",
    "                                    \"can_create\": True,\n",
    "                                    \"can_delete\": True\n",
    "                                    }"
   ]
  },
  {
   "cell_type": "code",
   "execution_count": 12,
   "metadata": {},
   "outputs": [],
   "source": [
    "# Unitário\n",
    "\n",
    "permission.permissions['ContractItemUnitPrice']={\n",
    "                                    \"can_edit\": True,\n",
    "                                    \"can_view\": True,\n",
    "                                    \"queryset\": \"all\",\n",
    "                                    \"can_create\": True,\n",
    "                                    \"can_delete\": True\n",
    "                                    }"
   ]
  },
  {
   "cell_type": "code",
   "execution_count": 13,
   "metadata": {},
   "outputs": [],
   "source": [
    "# Administração\n",
    "\n",
    "permission.permissions['ContractItemAdministration']={\n",
    "                                    \"can_edit\": True,\n",
    "                                    \"can_view\": True,\n",
    "                                    \"queryset\": \"all\",\n",
    "                                    \"can_create\": True,\n",
    "                                    \"can_delete\": True\n",
    "                                    }"
   ]
  },
  {
   "cell_type": "code",
   "execution_count": 14,
   "metadata": {},
   "outputs": [],
   "source": [
    "# Performance\n",
    "\n",
    "permission.permissions['ContractItemPerformance']={\n",
    "                                    \"can_edit\": True,\n",
    "                                    \"can_view\": True,\n",
    "                                    \"queryset\": \"all\",\n",
    "                                    \"can_create\": True,\n",
    "                                    \"can_delete\": True\n",
    "                                    }"
   ]
  },
  {
   "cell_type": "code",
   "execution_count": 15,
   "metadata": {},
   "outputs": [],
   "source": [
    "# Boletim de Medição\n",
    "\n",
    "permission.permissions['MeasurementBulletin']={\n",
    "                                    \"can_edit\": True,\n",
    "                                    \"can_view\": True,\n",
    "                                    \"queryset\": \"all\",\n",
    "                                    \"can_create\": True,\n",
    "                                    \"can_delete\": True,\n",
    "                                    \"can_view_money\": True,\n",
    "                                    \"can_view_summary\": True\n",
    "                                    }"
   ]
  },
  {
   "cell_type": "code",
   "execution_count": 16,
   "metadata": {},
   "outputs": [],
   "source": [
    "# Exportação de Boletim de Medição\n",
    "\n",
    "permission.permissions['MeasurementBulletinExport']={\n",
    "                                    \"can_edit\": True,\n",
    "                                    \"can_view\": True,\n",
    "                                    \"queryset\": \"all\",\n",
    "                                    \"can_create\": True,\n",
    "                                    \"can_delete\": True\n",
    "                                    }"
   ]
  },
  {
   "cell_type": "code",
   "execution_count": 48,
   "metadata": {},
   "outputs": [],
   "source": [
    "# Uso de itens unitários\n",
    "\n",
    "permission.permissions['ProcedureResource']={\n",
    "                                    \"can_edit\": True,\n",
    "                                    \"can_view\": True,\n",
    "                                    \"queryset\": \"all\",\n",
    "                                    \"can_create\": True,\n",
    "                                    \"can_delete\": True,\n",
    "                                    \"can_approve\": True   # Opcional, somente se puder aprovar\n",
    "                                    }\n",
    "\n",
    "permission.permissions['Resource']={\n",
    "                                    \"can_edit\": True,\n",
    "                                    \"can_view\": True,\n",
    "                                    \"queryset\": \"all\",\n",
    "                                    \"can_create\": True,\n",
    "                                    \"can_delete\": True\n",
    "                                    }\n",
    "permission.permissions['ServiceOrderResource']={\n",
    "                                    \"can_edit\": True,\n",
    "                                    \"can_view\": True,\n",
    "                                    \"queryset\": \"all\",\n",
    "                                    \"can_create\": True,\n",
    "                                    \"can_delete\": True\n",
    "                                    }"
   ]
  },
  {
   "cell_type": "code",
   "execution_count": 49,
   "metadata": {},
   "outputs": [],
   "source": [
    "# Uso de itens de administração\n",
    "\n",
    "permission.permissions['DailyReportContractUsage']={\n",
    "                                    \"can_edit\": True,\n",
    "                                    \"can_view\": True,\n",
    "                                    \"queryset\": \"all\",\n",
    "                                    \"can_create\": True,\n",
    "                                    \"can_delete\": True\n",
    "                                    }"
   ]
  },
  {
   "cell_type": "code",
   "execution_count": 50,
   "metadata": {},
   "outputs": [],
   "source": [
    "# # Opcional, somente se puder aprovar\n",
    "\n",
    "permission.permissions['MultipleDailyReport']['can_approve']: True\n",
    "\n",
    "permission.permissions['DailyReportVehicle']['can_approve']: True\n",
    "\n",
    "permission.permissions['DailyReportWorker']['can_approve']: True\n",
    "\n",
    "permission.permissions['DailyReportEquipment']['can_approve']: True"
   ]
  },
  {
   "cell_type": "code",
   "execution_count": 51,
   "metadata": {},
   "outputs": [],
   "source": [
    "# Avaliações de campo\n",
    "\n",
    "permission.permissions['FieldSurvey']={\n",
    "                                    \"can_edit\": True,\n",
    "                                    \"can_view\": True,\n",
    "                                    \"queryset\": \"all\",\n",
    "                                    \"can_create\": True,\n",
    "                                    \"can_delete\": True,\n",
    "                                    \"can_approve\": True  # Opcional, somente se puder aprovar\n",
    "                                    }\n",
    "\n",
    "permission.permissions['FieldSurveyRoad']={\n",
    "                                    \"can_edit\": True,\n",
    "                                    \"can_view\": True,\n",
    "                                    \"queryset\": \"all\",\n",
    "                                    \"can_create\": True,\n",
    "                                    \"can_delete\": True\n",
    "                                    }\n",
    "\n",
    "permission.permissions['FieldSurveySignature']={\n",
    "                                    \"can_edit\": True,\n",
    "                                    \"can_view\": True,\n",
    "                                    \"queryset\": \"all\",\n",
    "                                    \"can_create\": True,\n",
    "                                    \"can_delete\": True\n",
    "                                    }"
   ]
  },
  {
   "cell_type": "code",
   "execution_count": 52,
   "metadata": {},
   "outputs": [],
   "source": [
    "# Salvando\n",
    "\n",
    "permission.save()"
   ]
  },
  {
   "cell_type": "code",
   "execution_count": null,
   "metadata": {},
   "outputs": [],
   "source": []
  }
 ],
 "metadata": {
  "kernelspec": {
   "display_name": "Django Shell-Plus",
   "language": "python",
   "name": "django_extensions"
  },
  "language_info": {
   "codemirror_mode": {
    "name": "ipython",
    "version": 3
   },
   "file_extension": ".py",
   "mimetype": "text/x-python",
   "name": "python",
   "nbconvert_exporter": "python",
   "pygments_lexer": "ipython3",
   "version": "3.8.16"
  }
 },
 "nbformat": 4,
 "nbformat_minor": 2
}
