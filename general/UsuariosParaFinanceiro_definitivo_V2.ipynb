{
 "cells": [
  {
   "cell_type": "code",
   "execution_count": 1,
   "metadata": {},
   "outputs": [],
   "source": [
    "from collections import defaultdict\n",
    "from django.db.models.signals import *\n",
    "import pandas as pd\n",
    "from itertools import chain\n",
    "from tqdm.notebook import tqdm\n",
    "import datetime\n",
    "import calendar"
   ]
  },
  {
   "cell_type": "code",
   "execution_count": 2,
   "metadata": {},
   "outputs": [],
   "source": [
    "def normalize_month(month, year):\n",
    "    return month + 12*(year - 2020)"
   ]
  },
  {
   "cell_type": "code",
   "execution_count": 3,
   "metadata": {},
   "outputs": [
    {
     "data": {
      "text/plain": [
       "48"
      ]
     },
     "execution_count": 3,
     "metadata": {},
     "output_type": "execute_result"
    }
   ],
   "source": [
    "normalize_month(12, 2023)"
   ]
  },
  {
   "cell_type": "code",
   "execution_count": 4,
   "metadata": {},
   "outputs": [],
   "source": [
    "# def normalize_day(day, month):\n",
    "#     return day + 31*(month - 1)"
   ]
  },
  {
   "cell_type": "code",
   "execution_count": 5,
   "metadata": {},
   "outputs": [],
   "source": [
    "# normalize_day(31,12)"
   ]
  },
  {
   "cell_type": "code",
   "execution_count": 6,
   "metadata": {},
   "outputs": [],
   "source": [
    "def permissoes_history_user(result_list,mes_ano):\n",
    "    permissoesUsuarios = {}\n",
    "    mes_referencia = normalize_month(mes_ano.month, mes_ano.year)\n",
    "    for a in result_list:\n",
    "        try:\n",
    "            if not permissoesUsuarios.get(a.user.get_full_name()):\n",
    "                permissoesUsuarios[a.user.get_full_name()] = {}\n",
    "            if isinstance(permissoesUsuarios.get(a.user.get_full_name()).get(normalize_month(a.history_date.month, a.history_date.year)),list):\n",
    "                permissoesUsuarios[a.user.get_full_name()][normalize_month(a.history_date.month, a.history_date.year)].append(a.permissions.name)\n",
    "            elif permissoesUsuarios.get(a.user.get_full_name()).get(normalize_month(a.history_date.month, a.history_date.year)):\n",
    "                multi_perm_per_month= permissoesUsuarios.get(a.user.get_full_name()).get(normalize_month(a.history_date.month, a.history_date.year))\n",
    "                permissoesUsuarios[a.user.get_full_name()][normalize_month(a.history_date.month, a.history_date.year)] = [multi_perm_per_month,a.permissions.name]\n",
    "            else:\n",
    "                permissoesUsuarios[a.user.get_full_name()][normalize_month(a.history_date.month, a.history_date.year)] = a.permissions.name\n",
    "        except:\n",
    "            pass\n",
    "    \n",
    "    usuariosAtivos = []\n",
    "    usuariosInativos = []\n",
    "\n",
    "    for nome, mes in permissoesUsuarios.items():\n",
    "        meses = sorted(list(mes.keys()))\n",
    "        item = max(list(mes.keys()))\n",
    "        cargo_atual = mes[item]\n",
    "\n",
    "# Se em algum momento do mesmo mês o usuário foi diferente de Inativo ele entra como ativo\n",
    "        if isinstance(cargo_atual,list):\n",
    "            for cargo in cargo_atual:\n",
    "                if cargo !='Inativo' and not any(u for u in usuariosAtivos if nome == u):\n",
    "                    usuariosAtivos.append(nome)     \n",
    "# se o cargo atual for diferente de inativo e não for uma lista(o que configura multiplas permissões no mesmo mês) ele é ativo\n",
    "        elif cargo_atual != 'Inativo' and not isinstance(cargo_atual,list):\n",
    "            usuariosAtivos.append(nome)\n",
    "# Se no mes anterior ao ultimo ele foi diferente de inativo e no ultimo mes foi Inativo e\n",
    "# o mes do cargo_atual for igual ao ultimo mes de referencia(ultimo mês pra coleta) e o nome não estiver nos usuariosAtivos\n",
    "# ele é ativo\n",
    "        elif mes[meses[-2]] != 'Inativo' and cargo_atual == 'Inativo' and item == mes_referencia and not any(u for u in usuariosAtivos if nome == u):\n",
    "            usuariosAtivos.append(nome)       \n",
    "# se o cargo atual contem a palavra Inativo e não está nos usuariosAtivos então ele é Inativo\n",
    "        elif 'Inativo' in cargo_atual and nome not in usuariosAtivos:\n",
    "            usuariosInativos.append(nome)\n",
    "        else:\n",
    "            print('Corra pras montanhas')\n",
    "    \n",
    "    return usuariosAtivos,usuariosInativos"
   ]
  },
  {
   "cell_type": "code",
   "execution_count": 7,
   "metadata": {},
   "outputs": [
    {
     "data": {
      "text/plain": [
       "10"
      ]
     },
     "execution_count": 7,
     "metadata": {},
     "output_type": "execute_result"
    }
   ],
   "source": [
    "companies = ['Modera - Consórcio ME2', \n",
    "             'Sinalizavia (Municípios)', \n",
    "             'Afirma Engenharia Viária',\n",
    "             'Pavicolet', \n",
    "             'Sanson',\n",
    "             'Entrevias',\n",
    "             'Televale',\n",
    "             'Garcia Monteiro',\n",
    "             'LCM Construção e Comércio',\n",
    "             'Construtora Castilho']\n",
    "\n",
    "len(companies)"
   ]
  },
  {
   "cell_type": "code",
   "execution_count": 20,
   "metadata": {},
   "outputs": [
    {
     "data": {
      "text/plain": [
       "['LCM - Ituporanga', 'LCM - Criciúma', 'LCM - Gaspar']"
      ]
     },
     "execution_count": 20,
     "metadata": {},
     "output_type": "execute_result"
    }
   ],
   "source": [
    "companies=[a for a in Company.objects.filter(name__startswith='LCM').values_list('name',flat=True)]\n",
    "companies"
   ]
  },
  {
   "cell_type": "code",
   "execution_count": 12,
   "metadata": {},
   "outputs": [
    {
     "data": {
      "text/plain": [
       "(31, 3, 2024)"
      ]
     },
     "execution_count": 12,
     "metadata": {},
     "output_type": "execute_result"
    }
   ],
   "source": [
    "# Mês e ano para coleta dos usuários\n",
    "mes=3\n",
    "ano=2024\n",
    "dia = calendar.monthrange(ano, mes)[1]\n",
    "dia,mes,ano"
   ]
  },
  {
   "cell_type": "code",
   "execution_count": 13,
   "metadata": {},
   "outputs": [
    {
     "data": {
      "text/plain": [
       "datetime.datetime(2024, 3, 31, 3, 0)"
      ]
     },
     "execution_count": 13,
     "metadata": {},
     "output_type": "execute_result"
    }
   ],
   "source": [
    "# DATA sempre referente ao mês que se quer coletar nesse formato history_date__lte='2024-01-31 03:00:00'\n",
    "# é utilizado 3 horas da manha pois é a pra fechar com o horario de meio noite do servidor\n",
    "data = datetime.datetime(ano,mes,dia,3,0,0)\n",
    "data"
   ]
  },
  {
   "cell_type": "code",
   "execution_count": 14,
   "metadata": {},
   "outputs": [],
   "source": [
    "pd.DataFrame().to_excel('Usuários Ativos Financeiro.xlsx')"
   ]
  },
  {
   "cell_type": "code",
   "execution_count": 21,
   "metadata": {},
   "outputs": [
    {
     "name": "stderr",
     "output_type": "stream",
     "text": [
      "<>:15: SyntaxWarning: \"is not\" with a literal. Did you mean \"!=\"?\n",
      "<>:15: SyntaxWarning: \"is not\" with a literal. Did you mean \"!=\"?\n",
      "/tmp/ipykernel_3099/2874654108.py:15: SyntaxWarning: \"is not\" with a literal. Did you mean \"!=\"?\n",
      "  elif company is not 'Entrevias':\n"
     ]
    },
    {
     "data": {
      "application/vnd.jupyter.widget-view+json": {
       "model_id": "233ed249254642859958c91af1fd83e6",
       "version_major": 2,
       "version_minor": 0
      },
      "text/plain": [
       "  0%|          | 0/3 [00:00<?, ?it/s]"
      ]
     },
     "metadata": {},
     "output_type": "display_data"
    }
   ],
   "source": [
    "for company in tqdm(companies):\n",
    "    if 'Pavicolet' in company:\n",
    "        historicoUsuarios=UserInCompany.history.model.objects.filter(\n",
    "            company__name__icontains='Pavicolet',\n",
    "            history_date__lte=data\n",
    "        ).exclude(\n",
    "            user__email__icontains='kartado'\n",
    "        ).exclude(\n",
    "            user__email__icontains='roadlabs'\n",
    "        ).exclude(\n",
    "            user__uuid = '6ca2ac08-7ee0-4587-a0cf-8850f72e1b95'\n",
    "        ).exclude(\n",
    "            user__email__icontains='hermes'\n",
    "        ).order_by( 'history_date')\n",
    "    elif company is not 'Entrevias':\n",
    "        historicoUsuarios=UserInCompany.history.model.objects.filter(\n",
    "            company__name=company,\n",
    "            history_date__lte=data\n",
    "        ).exclude(\n",
    "            user__email__icontains='kartado'\n",
    "        ).exclude(\n",
    "            user__email__icontains='roadlabs'\n",
    "        ).exclude(\n",
    "            user__uuid = '6ca2ac08-7ee0-4587-a0cf-8850f72e1b95'\n",
    "        ).exclude(\n",
    "            user__email__icontains='hermes'\n",
    "        ).order_by( 'history_date')\n",
    "    else:\n",
    "        historicoUsuarios=UserInCompany.history.model.objects.filter(\n",
    "            Q(user__email__icontains='afirma')|Q(user__email__icontains='ajr'),\n",
    "            company__name__icontains=company,\n",
    "            history_date__lte=data\n",
    "        ).exclude(\n",
    "            user__email__icontains='kartado'\n",
    "        ).exclude(\n",
    "            user__email__icontains='roadlabs'\n",
    "        ).exclude(\n",
    "            user__uuid = '6ca2ac08-7ee0-4587-a0cf-8850f72e1b95'\n",
    "        ).exclude(\n",
    "            user__email__icontains='hermes'\n",
    "        ).order_by( 'history_date')\n",
    "    \n",
    "    users_permissions = permissoes_history_user(historicoUsuarios,data)[0] if len(permissoes_history_user(historicoUsuarios,data)[0]) > 0 else 0\n",
    "    \n",
    "    if users_permissions != 0:\n",
    "        df2 = pd.DataFrame(data=users_permissions,columns=['Usuários ativos'])\n",
    "        with pd.ExcelWriter('Usuários Ativos Financeiro.xlsx', mode='a',if_sheet_exists='replace') as writer:\n",
    "            df2.to_excel(writer,sheet_name=company.replace('/','')[:15],na_rep=\"-\")"
   ]
  },
  {
   "cell_type": "code",
   "execution_count": 22,
   "metadata": {},
   "outputs": [
    {
     "data": {
      "text/plain": [
       "(['Amábile Abreu',\n",
       "  'Rafael Hoemke',\n",
       "  'Adriano Mendes',\n",
       "  'Deived Silva',\n",
       "  'Diego Santos',\n",
       "  'Maurício Jancoski',\n",
       "  'Webson Souza',\n",
       "  'Lucas Aleixo Pires',\n",
       "  'Fabio Maffei',\n",
       "  'Robson Rodrigues',\n",
       "  'Gustavo Fernandes',\n",
       "  'graziela scarpari',\n",
       "  'Camily Schultz'],\n",
       " ['Sabrina Andrade',\n",
       "  'Aldo Szaikosvki',\n",
       "  'Ralisson Rodrigues',\n",
       "  'José Pedro',\n",
       "  'Márcio Tonini',\n",
       "  'Olívio Jesus',\n",
       "  'Orlei Santos',\n",
       "  'Wellington Norato',\n",
       "  'Rodrigo Lemos',\n",
       "  'Valmir Correa Costa',\n",
       "  'Aldo Szaikosvski',\n",
       "  'DUPLICADO INATIVO',\n",
       "  'Guilherme Pereira',\n",
       "  'Douglas Miguel Jubarte'])"
      ]
     },
     "execution_count": 22,
     "metadata": {},
     "output_type": "execute_result"
    }
   ],
   "source": [
    "permissoes_history_user(historicoUsuarios,data)"
   ]
  },
  {
   "cell_type": "code",
   "execution_count": 10,
   "metadata": {},
   "outputs": [],
   "source": [
    "companies=['Neovia Alcinópolis',\n",
    "'Neovia Araquari 886/2020 ',\n",
    "'Neovia Araranguá',\n",
    "'Neovia Bocaína do Sul 329/2018',\n",
    "'Neovia Contorno Sul ',\n",
    "'Neovia Cto Biguaçu',\n",
    "'Neovia Diamantino',\n",
    "'Neovia Lages 652/2019',\n",
    "'Neovia Lagoa Vermelha',\n",
    "'Neovia Planalto Sul ',\n",
    "'Neovia Ponte Serrada',\n",
    "'Neovia Rancho Queimado 080/2021',\n",
    "'Neovia Régis Bittencourt',\n",
    "'Neovia Tijucas',]"
   ]
  },
  {
   "cell_type": "markdown",
   "metadata": {},
   "source": [
    "# TESTES"
   ]
  },
  {
   "cell_type": "code",
   "execution_count": 78,
   "metadata": {},
   "outputs": [],
   "source": [
    "# def permissoes_history_user_v2(result_list,mes_ano):\n",
    "#     permissoesUsuarios = {}\n",
    "#     mes_referencia = normalize_month(mes_ano.month, mes_ano.year)\n",
    "#     for a in result_list:\n",
    "#         try:\n",
    "# #             print(a.user.get_full_name())\n",
    "#             if not permissoesUsuarios.get(a.user.get_full_name()):\n",
    "#                 permissoesUsuarios[a.user.get_full_name()] = {}\n",
    "#             if isinstance(permissoesUsuarios.get(a.user.get_full_name()).get(normalize_month(a.history_date.month, a.history_date.year)),list):\n",
    "#                 permissoesUsuarios[a.user.get_full_name()][normalize_month(a.history_date.month, a.history_date.year)].append(a.permissions.name)\n",
    "#             elif permissoesUsuarios.get(a.user.get_full_name()).get(normalize_month(a.history_date.month, a.history_date.year)):\n",
    "#                 multi_perm_per_month= permissoesUsuarios.get(a.user.get_full_name()).get(normalize_month(a.history_date.month, a.history_date.year))\n",
    "#                 permissoesUsuarios[a.user.get_full_name()][normalize_month(a.history_date.month, a.history_date.year)] = [multi_perm_per_month,a.permissions.name]\n",
    "#             else:\n",
    "#                 permissoesUsuarios[a.user.get_full_name()][normalize_month(a.history_date.month, a.history_date.year)] = a.permissions.name\n",
    "#         except:\n",
    "#             pass\n",
    "    \n",
    "#     usuariosAtivos = []\n",
    "#     usuariosInativos = []\n",
    "#     print(permissoesUsuarios)\n",
    "#     for nome, mes in permissoesUsuarios.items():\n",
    "#         meses = sorted(list(mes.keys()))\n",
    "#         item = max(list(mes.keys()))\n",
    "#         cargo_atual = mes[item]\n",
    "#         print(nome,mes)\n",
    "# # Se em algum momento do mesmo mês o usuário foi diferente de inativo ele entra como ativo\n",
    "#         if isinstance(cargo_atual,list):\n",
    "#             for cargo in cargo_atual:\n",
    "#                 if cargo !='Inativo' and not any(u for u in usuariosAtivos if nome == u):\n",
    "#                     usuariosAtivos.append(nome)     \n",
    "# # se o cargo atual for diferente de inativo e não for uma lista(o que configura multiplas permissões no mesmo mês) ele é ativo\n",
    "#         elif cargo_atual != 'Inativo' and not isinstance(cargo_atual,list):\n",
    "#             usuariosAtivos.append(nome)\n",
    "# # Se no mes anterior ao ultimo ele foi diferente de inativo e no ultimo mes foi Inativo e\n",
    "# # o mes do cargo_atual for igual ao ultimo mes de referencia(ultimo mês pra coleta) e o nome não estiver nos usuariosAtivos\n",
    "# # ele é ativo\n",
    "#         elif mes[meses[-2]] != 'Inativo' and cargo_atual == 'Inativo' and item == mes_referencia and not any(u for u in usuariosAtivos if nome == u):\n",
    "#             usuariosAtivos.append(nome)\n",
    "# # se o cargo atual contem a palavra Inativo e não está nos usuariosAtivos então ele é Inativo\n",
    "#         elif 'Inativo' in cargo_atual and nome not in usuariosAtivos:\n",
    "#             usuariosInativos.append(nome)\n",
    "#         else:\n",
    "#             print('Corra pras montanhas')\n",
    "    \n",
    "#     return usuariosAtivos,usuariosInativos"
   ]
  },
  {
   "cell_type": "code",
   "execution_count": 118,
   "metadata": {},
   "outputs": [],
   "source": [
    "# historicoUsuarios=UserInCompany.history.model.objects.filter(\n",
    "#             company__name='Afirma Engenharia Viária',\n",
    "#             history_date__lte=data\n",
    "#         ).exclude(\n",
    "#             user__email__icontains='kartado'\n",
    "#         ).exclude(\n",
    "#             user__email__icontains='roadlabs'\n",
    "#         ).exclude(\n",
    "#             user__uuid = '6ca2ac08-7ee0-4587-a0cf-8850f72e1b95'\n",
    "#         ).exclude(\n",
    "#             user__email__icontains='hermes'\n",
    "#         ).order_by( 'history_date')\n"
   ]
  },
  {
   "cell_type": "code",
   "execution_count": 119,
   "metadata": {},
   "outputs": [
    {
     "name": "stdout",
     "output_type": "stream",
     "text": [
      "{'Gabriel Pezzi': {25: 'Administrador', 41: 'Inativo', 45: 'Inativo', 46: 'Inativo'}, 'Gerson Bueno': {26: 'Encarregado', 45: 'Inativo', 46: 'Inativo'}, 'Lucas Dadalt': {27: 'Encarregado', 41: 'Inativo', 45: 'Inativo', 46: 'Inativo'}, 'Edson Peicho': {27: ['Encarregado', 'Encarregado'], 32: 'Inativo', 45: 'Inativo', 46: 'Inativo'}, 'Eduardo Henrique': {28: 'Encarregado', 45: 'Inativo', 46: 'Inativo'}, 'Fernando Stipp': {29: 'Administrador', 32: 'Inativo', 45: 'Inativo', 46: 'Inativo'}, 'Tablet 1 Eco 101': {29: 'Encarregado', 32: 'Inativo', 45: 'Inativo', 46: 'Inativo'}, 'Tablet 2 Eco 101': {29: 'Encarregado', 32: 'Inativo', 45: 'Inativo', 46: 'Inativo'}, 'Tablet 3 Eco 101': {29: 'Encarregado', 32: 'Inativo', 45: 'Inativo', 46: 'Inativo'}, 'Tablet 4 Eco 101': {29: 'Encarregado', 32: 'Inativo', 45: 'Inativo', 46: 'Inativo'}, 'Tablet 5 ECO101': {29: 'Encarregado', 32: 'Inativo', 45: 'Inativo', 46: 'Inativo'}, 'Igor Cortes': {29: ['Encarregado', 'Administrador'], 32: 'Inativo', 35: 'Administrador', 41: 'Inativo', 45: 'Inativo', 46: 'Inativo'}, 'Stephany Camile': {29: 'Encarregado', 30: 'Administrador', 32: 'Inativo', 35: 'Administrador', 45: 'Inativo', 46: 'Inativo'}, 'Norton Antunes': {30: 'Encarregado', 32: 'Inativo', 45: 'Inativo', 46: 'Inativo', 48: 'Administrador'}, 'João Alexandre': {31: 'Encarregado', 41: 'Inativo', 45: 'Inativo', 46: 'Inativo'}, 'Mirailton Visitação da Silva': {32: ['Encarregado', 'Encarregado'], 45: 'Inativo', 46: 'Inativo'}, 'Jorge Malucelli': {35: 'Administrador', 45: 'Inativo', 46: 'Inativo', 48: 'Administrador'}, 'Marcos Silva': {41: 'Administrador', 45: 'Inativo', 46: 'Inativo'}, 'Karine Rodrigues': {41: 'Administrador', 45: 'Inativo', 46: 'Inativo'}, 'Vinicíus Coelho': {41: 'Encarregado', 45: 'Inativo', 46: 'Inativo'}, 'Elder Santos': {48: 'Administrador'}}\n",
      "Gabriel Pezzi {25: 'Administrador', 41: 'Inativo', 45: 'Inativo', 46: 'Inativo'}\n",
      "Gerson Bueno {26: 'Encarregado', 45: 'Inativo', 46: 'Inativo'}\n",
      "Lucas Dadalt {27: 'Encarregado', 41: 'Inativo', 45: 'Inativo', 46: 'Inativo'}\n",
      "Edson Peicho {27: ['Encarregado', 'Encarregado'], 32: 'Inativo', 45: 'Inativo', 46: 'Inativo'}\n",
      "Eduardo Henrique {28: 'Encarregado', 45: 'Inativo', 46: 'Inativo'}\n",
      "Fernando Stipp {29: 'Administrador', 32: 'Inativo', 45: 'Inativo', 46: 'Inativo'}\n",
      "Tablet 1 Eco 101 {29: 'Encarregado', 32: 'Inativo', 45: 'Inativo', 46: 'Inativo'}\n",
      "Tablet 2 Eco 101 {29: 'Encarregado', 32: 'Inativo', 45: 'Inativo', 46: 'Inativo'}\n",
      "Tablet 3 Eco 101 {29: 'Encarregado', 32: 'Inativo', 45: 'Inativo', 46: 'Inativo'}\n",
      "Tablet 4 Eco 101 {29: 'Encarregado', 32: 'Inativo', 45: 'Inativo', 46: 'Inativo'}\n",
      "Tablet 5 ECO101 {29: 'Encarregado', 32: 'Inativo', 45: 'Inativo', 46: 'Inativo'}\n",
      "Igor Cortes {29: ['Encarregado', 'Administrador'], 32: 'Inativo', 35: 'Administrador', 41: 'Inativo', 45: 'Inativo', 46: 'Inativo'}\n",
      "Stephany Camile {29: 'Encarregado', 30: 'Administrador', 32: 'Inativo', 35: 'Administrador', 45: 'Inativo', 46: 'Inativo'}\n",
      "Norton Antunes {30: 'Encarregado', 32: 'Inativo', 45: 'Inativo', 46: 'Inativo', 48: 'Administrador'}\n",
      "João Alexandre {31: 'Encarregado', 41: 'Inativo', 45: 'Inativo', 46: 'Inativo'}\n",
      "Mirailton Visitação da Silva {32: ['Encarregado', 'Encarregado'], 45: 'Inativo', 46: 'Inativo'}\n",
      "Jorge Malucelli {35: 'Administrador', 45: 'Inativo', 46: 'Inativo', 48: 'Administrador'}\n",
      "Marcos Silva {41: 'Administrador', 45: 'Inativo', 46: 'Inativo'}\n",
      "Karine Rodrigues {41: 'Administrador', 45: 'Inativo', 46: 'Inativo'}\n",
      "Vinicíus Coelho {41: 'Encarregado', 45: 'Inativo', 46: 'Inativo'}\n",
      "Elder Santos {48: 'Administrador'}\n"
     ]
    }
   ],
   "source": [
    "# a,i=permissoes_history_user_v2(historicoUsuarios,data)"
   ]
  },
  {
   "cell_type": "code",
   "execution_count": 120,
   "metadata": {},
   "outputs": [
    {
     "data": {
      "text/plain": [
       "(3, 18, 21)"
      ]
     },
     "execution_count": 120,
     "metadata": {},
     "output_type": "execute_result"
    }
   ],
   "source": [
    "# len(a),len(i),len(a)+len(i)"
   ]
  },
  {
   "cell_type": "code",
   "execution_count": 121,
   "metadata": {},
   "outputs": [
    {
     "data": {
      "text/plain": [
       "(['Norton Antunes', 'Jorge Malucelli', 'Elder Santos'],\n",
       " ['Gabriel Pezzi',\n",
       "  'Gerson Bueno',\n",
       "  'Lucas Dadalt',\n",
       "  'Edson Peicho',\n",
       "  'Eduardo Henrique',\n",
       "  'Fernando Stipp',\n",
       "  'Tablet 1 Eco 101',\n",
       "  'Tablet 2 Eco 101',\n",
       "  'Tablet 3 Eco 101',\n",
       "  'Tablet 4 Eco 101',\n",
       "  'Tablet 5 ECO101',\n",
       "  'Igor Cortes',\n",
       "  'Stephany Camile',\n",
       "  'João Alexandre',\n",
       "  'Mirailton Visitação da Silva',\n",
       "  'Marcos Silva',\n",
       "  'Karine Rodrigues',\n",
       "  'Vinicíus Coelho'])"
      ]
     },
     "execution_count": 121,
     "metadata": {},
     "output_type": "execute_result"
    }
   ],
   "source": [
    "# a,i"
   ]
  },
  {
   "cell_type": "code",
   "execution_count": 19,
   "metadata": {},
   "outputs": [],
   "source": [
    "uis=UserInCompany.history.model.objects.filter(\n",
    "            company__name__icontains='Construtora Castilho',\n",
    "            user__username='amanda.motta'\n",
    ").values('company__name','user__username','permissions__name','history_date').order_by( 'history_date')"
   ]
  },
  {
   "cell_type": "code",
   "execution_count": 21,
   "metadata": {},
   "outputs": [
    {
     "name": "stdout",
     "output_type": "stream",
     "text": [
      "Construtora Castilho | amanda.motta | Coordenador | 14-08-2023 16H:32M\n",
      "Construtora Castilho | amanda.motta | Inativo | 09-02-2024 11H:47M\n"
     ]
    }
   ],
   "source": [
    "for a in uis:\n",
    "    print(f\"{a['company__name']} | {a['user__username']} | {a['permissions__name']} | {a['history_date'].strftime('%d-%m-%Y %HH:%MM')}\")"
   ]
  },
  {
   "cell_type": "code",
   "execution_count": 22,
   "metadata": {},
   "outputs": [],
   "source": [
    "uis=UserInCompany.history.model.objects.filter(\n",
    "            company__name__icontains='Construtora Castilho',\n",
    "            user__username='amanda.motta@castilho.com.br'\n",
    ").values('company__name','user__username','permissions__name','history_date').order_by('company__name', 'history_date')"
   ]
  },
  {
   "cell_type": "code",
   "execution_count": 23,
   "metadata": {},
   "outputs": [
    {
     "name": "stdout",
     "output_type": "stream",
     "text": [
      "Construtora Castilho | amanda.motta@castilho.com.br | Coordenador | 14-08-2023 16H:32M\n",
      "Construtora Castilho | amanda.motta@castilho.com.br | Coordenador | 15-08-2023 12H:49M\n",
      "Construtora Castilho | amanda.motta@castilho.com.br | Coordenador | 20-02-2024 11H:45M\n",
      "Construtora Castilho | amanda.motta@castilho.com.br | Coordenador | 20-02-2024 13H:24M\n",
      "Construtora Castilho | amanda.motta@castilho.com.br | Coordenador | 20-02-2024 13H:45M\n",
      "Construtora Castilho | amanda.motta@castilho.com.br | Coordenador | 20-02-2024 14H:00M\n",
      "Construtora Castilho (Ferrovias) | amanda.motta@castilho.com.br | Coordenador | 28-09-2023 14H:20M\n",
      "Construtora Castilho (Ferrovias) | amanda.motta@castilho.com.br | Coordenador | 20-02-2024 11H:45M\n",
      "Construtora Castilho (Ferrovias) | amanda.motta@castilho.com.br | Coordenador | 20-02-2024 12H:59M\n",
      "Construtora Castilho (Ferrovias) | amanda.motta@castilho.com.br | Coordenador | 20-02-2024 13H:24M\n",
      "Construtora Castilho (Ferrovias) | amanda.motta@castilho.com.br | Coordenador | 20-02-2024 13H:45M\n",
      "Construtora Castilho (Ferrovias) | amanda.motta@castilho.com.br | Coordenador | 20-02-2024 14H:07M\n",
      "Construtora Castilho (Grupo Pátria) | amanda.motta@castilho.com.br | Coordenador | 20-02-2024 11H:45M\n",
      "Construtora Castilho (Grupo Pátria) | amanda.motta@castilho.com.br | Coordenador | 20-02-2024 13H:24M\n",
      "Construtora Castilho (Grupo Pátria) | amanda.motta@castilho.com.br | Coordenador | 20-02-2024 13H:45M\n",
      "Construtora Castilho (Grupo Pátria) | amanda.motta@castilho.com.br | Coordenador | 20-02-2024 14H:01M\n",
      "Construtora Castilho (Grupo Pátria) | amanda.motta@castilho.com.br | Coordenador | 20-02-2024 14H:06M\n",
      "Construtora Castilho (Prefeitura Curitiba) | amanda.motta@castilho.com.br | Suporte | 21-11-2023 16H:11M\n",
      "Construtora Castilho (Prefeitura Curitiba) | amanda.motta@castilho.com.br | Suporte | 21-11-2023 16H:14M\n",
      "Construtora Castilho (Prefeitura Curitiba) | amanda.motta@castilho.com.br | Coordenador | 30-11-2023 12H:44M\n",
      "Construtora Castilho (Prefeitura Curitiba) | amanda.motta@castilho.com.br | Coordenador | 20-02-2024 11H:45M\n",
      "Construtora Castilho (Prefeitura Curitiba) | amanda.motta@castilho.com.br | Coordenador | 20-02-2024 13H:24M\n",
      "Construtora Castilho (Prefeitura Curitiba) | amanda.motta@castilho.com.br | Coordenador | 20-02-2024 13H:45M\n",
      "Construtora Castilho (Prefeitura Curitiba) | amanda.motta@castilho.com.br | Coordenador | 20-02-2024 14H:02M\n"
     ]
    }
   ],
   "source": [
    "data={}\n",
    "for a in uis:\n",
    "#     if a['company__name'] not in data.keys():\n",
    "#         data[a['company__name']]={}\n",
    "    \n",
    "    print(f\"{a['company__name']} | {a['user__username']} | {a['permissions__name']} | {a['history_date'].strftime('%d-%m-%Y %HH:%MM')}\")"
   ]
  },
  {
   "cell_type": "code",
   "execution_count": null,
   "metadata": {},
   "outputs": [],
   "source": []
  }
 ],
 "metadata": {
  "kernelspec": {
   "display_name": "Django Shell-Plus",
   "language": "python",
   "name": "django_extensions"
  },
  "language_info": {
   "codemirror_mode": {
    "name": "ipython",
    "version": 3
   },
   "file_extension": ".py",
   "mimetype": "text/x-python",
   "name": "python",
   "nbconvert_exporter": "python",
   "pygments_lexer": "ipython3",
   "version": "3.8.16"
  }
 },
 "nbformat": 4,
 "nbformat_minor": 2
}
