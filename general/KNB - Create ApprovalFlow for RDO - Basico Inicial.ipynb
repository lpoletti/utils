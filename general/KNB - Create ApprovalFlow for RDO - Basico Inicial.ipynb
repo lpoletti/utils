{
 "cells": [
  {
   "cell_type": "code",
   "execution_count": 1,
   "metadata": {},
   "outputs": [
    {
     "name": "stdout",
     "output_type": "stream",
     "text": [
      "STAGE=PRODUCTION\r\n"
     ]
    }
   ],
   "source": [
    "!cat .env"
   ]
  },
  {
   "cell_type": "code",
   "execution_count": 16,
   "metadata": {},
   "outputs": [
    {
     "data": {
      "text/plain": [
       "<Company: caba5ee3-9e28-4e50-98b2-87c1dae57d82: Kapa Município>"
      ]
     },
     "execution_count": 16,
     "metadata": {},
     "output_type": "execute_result"
    }
   ],
   "source": [
    "company = Company.objects.get(name='Kapa Município')\n",
    "company"
   ]
  },
  {
   "cell_type": "code",
   "execution_count": 17,
   "metadata": {},
   "outputs": [
    {
     "ename": "DoesNotExist",
     "evalue": "ApprovalFlow matching query does not exist.",
     "output_type": "error",
     "traceback": [
      "\u001b[0;31m---------------------------------------------------------------------------\u001b[0m",
      "\u001b[0;31mDoesNotExist\u001b[0m                              Traceback (most recent call last)",
      "\u001b[0;32m/tmp/ipykernel_48973/2739502080.py\u001b[0m in \u001b[0;36m<module>\u001b[0;34m\u001b[0m\n\u001b[0;32m----> 1\u001b[0;31m \u001b[0mApprovalFlow\u001b[0m\u001b[0;34m.\u001b[0m\u001b[0mobjects\u001b[0m\u001b[0;34m.\u001b[0m\u001b[0mget\u001b[0m\u001b[0;34m(\u001b[0m\u001b[0mcompany\u001b[0m\u001b[0;34m=\u001b[0m\u001b[0mcompany\u001b[0m\u001b[0;34m,\u001b[0m \u001b[0mtarget_model\u001b[0m\u001b[0;34m=\u001b[0m\u001b[0;34m\"daily_reports.MultipleDailyReport\"\u001b[0m\u001b[0;34m)\u001b[0m\u001b[0;34m\u001b[0m\u001b[0;34m\u001b[0m\u001b[0m\n\u001b[0m",
      "\u001b[0;32m~/.cache/pypoetry/virtualenvs/apps-ZFymp6kh-py3.7/lib/python3.7/site-packages/django/db/models/manager.py\u001b[0m in \u001b[0;36mmanager_method\u001b[0;34m(self, *args, **kwargs)\u001b[0m\n\u001b[1;32m     80\u001b[0m         \u001b[0;32mdef\u001b[0m \u001b[0mcreate_method\u001b[0m\u001b[0;34m(\u001b[0m\u001b[0mname\u001b[0m\u001b[0;34m,\u001b[0m \u001b[0mmethod\u001b[0m\u001b[0;34m)\u001b[0m\u001b[0;34m:\u001b[0m\u001b[0;34m\u001b[0m\u001b[0;34m\u001b[0m\u001b[0m\n\u001b[1;32m     81\u001b[0m             \u001b[0;32mdef\u001b[0m \u001b[0mmanager_method\u001b[0m\u001b[0;34m(\u001b[0m\u001b[0mself\u001b[0m\u001b[0;34m,\u001b[0m \u001b[0;34m*\u001b[0m\u001b[0margs\u001b[0m\u001b[0;34m,\u001b[0m \u001b[0;34m**\u001b[0m\u001b[0mkwargs\u001b[0m\u001b[0;34m)\u001b[0m\u001b[0;34m:\u001b[0m\u001b[0;34m\u001b[0m\u001b[0;34m\u001b[0m\u001b[0m\n\u001b[0;32m---> 82\u001b[0;31m                 \u001b[0;32mreturn\u001b[0m \u001b[0mgetattr\u001b[0m\u001b[0;34m(\u001b[0m\u001b[0mself\u001b[0m\u001b[0;34m.\u001b[0m\u001b[0mget_queryset\u001b[0m\u001b[0;34m(\u001b[0m\u001b[0;34m)\u001b[0m\u001b[0;34m,\u001b[0m \u001b[0mname\u001b[0m\u001b[0;34m)\u001b[0m\u001b[0;34m(\u001b[0m\u001b[0;34m*\u001b[0m\u001b[0margs\u001b[0m\u001b[0;34m,\u001b[0m \u001b[0;34m**\u001b[0m\u001b[0mkwargs\u001b[0m\u001b[0;34m)\u001b[0m\u001b[0;34m\u001b[0m\u001b[0;34m\u001b[0m\u001b[0m\n\u001b[0m\u001b[1;32m     83\u001b[0m             \u001b[0mmanager_method\u001b[0m\u001b[0;34m.\u001b[0m\u001b[0m__name__\u001b[0m \u001b[0;34m=\u001b[0m \u001b[0mmethod\u001b[0m\u001b[0;34m.\u001b[0m\u001b[0m__name__\u001b[0m\u001b[0;34m\u001b[0m\u001b[0;34m\u001b[0m\u001b[0m\n\u001b[1;32m     84\u001b[0m             \u001b[0mmanager_method\u001b[0m\u001b[0;34m.\u001b[0m\u001b[0m__doc__\u001b[0m \u001b[0;34m=\u001b[0m \u001b[0mmethod\u001b[0m\u001b[0;34m.\u001b[0m\u001b[0m__doc__\u001b[0m\u001b[0;34m\u001b[0m\u001b[0;34m\u001b[0m\u001b[0m\n",
      "\u001b[0;32m~/.cache/pypoetry/virtualenvs/apps-ZFymp6kh-py3.7/lib/python3.7/site-packages/django/db/models/query.py\u001b[0m in \u001b[0;36mget\u001b[0;34m(self, *args, **kwargs)\u001b[0m\n\u001b[1;32m    406\u001b[0m             raise self.model.DoesNotExist(\n\u001b[1;32m    407\u001b[0m                 \u001b[0;34m\"%s matching query does not exist.\"\u001b[0m \u001b[0;34m%\u001b[0m\u001b[0;34m\u001b[0m\u001b[0;34m\u001b[0m\u001b[0m\n\u001b[0;32m--> 408\u001b[0;31m                 \u001b[0mself\u001b[0m\u001b[0;34m.\u001b[0m\u001b[0mmodel\u001b[0m\u001b[0;34m.\u001b[0m\u001b[0m_meta\u001b[0m\u001b[0;34m.\u001b[0m\u001b[0mobject_name\u001b[0m\u001b[0;34m\u001b[0m\u001b[0;34m\u001b[0m\u001b[0m\n\u001b[0m\u001b[1;32m    409\u001b[0m             )\n\u001b[1;32m    410\u001b[0m         raise self.model.MultipleObjectsReturned(\n",
      "\u001b[0;31mDoesNotExist\u001b[0m: ApprovalFlow matching query does not exist."
     ]
    }
   ],
   "source": [
    "ApprovalFlow.objects.get(company=company, target_model=\"daily_reports.MultipleDailyReport\")"
   ]
  },
  {
   "cell_type": "code",
   "execution_count": 18,
   "metadata": {},
   "outputs": [
    {
     "name": "stdout",
     "output_type": "stream",
     "text": [
      "['Kapa Município'] - Suporte\n",
      "['Kapa Município'] - Encarregado/Apontador\n",
      "['Kapa Município'] - Administrador do Sistema\n",
      "['Kapa Município'] - Gestor de Obra\n",
      "['Kapa Município'] - Diretoria/Gerência\n",
      "['Kapa Município'] - Apontador Líder\n",
      "['Kapa Município'] - Coordenador/Medição cliente\n",
      "['Kapa Município'] - Fiscalização/Cliente\n"
     ]
    }
   ],
   "source": [
    "for permission in UserPermission.objects.filter(companies=company).exclude(name='Inativo'):\n",
    "    \n",
    "    \n",
    "    try:\n",
    "        if 'MultipleDailyReport' in permission.permissions.keys():\n",
    "            permission.permissions['MultipleDailyReport']['can_approve'] = True\n",
    "            print(permission)\n",
    "        else:\n",
    "            permission.permissions['multiple_daily_report']['can_approve'] = True\n",
    "            print(permission)\n",
    "    except Exception as e:\n",
    "#         print(f'Não possui parametrização - {permission}')\n",
    "        pass\n",
    "\n",
    "    permission.save()"
   ]
  },
  {
   "cell_type": "code",
   "execution_count": 19,
   "metadata": {},
   "outputs": [],
   "source": [
    "flow = ApprovalFlow(\n",
    "    name=\"Fluxo RDO\",\n",
    "    target_model=\"daily_reports.MultipleDailyReport\",\n",
    "    company=company\n",
    ")\n",
    "flow.save()"
   ]
  },
  {
   "cell_type": "code",
   "execution_count": 20,
   "metadata": {},
   "outputs": [],
   "source": [
    "elaboracao = ApprovalStep(\n",
    "    name=\"RDO Criado\",\n",
    "    approval_flow=flow\n",
    ")\n",
    "elaboracao.responsible_created_by = True\n",
    "elaboracao.save()\n",
    "elaboracao.responsible_users.add(User.objects.get(username='rlcs'))\n",
    "# elaboracao.responsible_firms.add(Firm.objects.get(name='Programação e Controle', company=company))\n",
    "# elaboracao.responsible_firms.add(Firm.objects.get(name='Suporte', company=company))"
   ]
  },
  {
   "cell_type": "code",
   "execution_count": 21,
   "metadata": {},
   "outputs": [],
   "source": [
    "homolog_normal = ApprovalStep(\n",
    "    name=\"RDO Aguardando Aprovação\",\n",
    "    approval_flow=flow,\n",
    ")\n",
    "homolog_normal.save()\n",
    "homolog_normal.responsible_users.add(User.objects.get(username='rlcs'))\n",
    "homolog_normal.responsible_firms.add(Firm.objects.get(name='Aprovadores RDO', company=company))\n",
    "# homolog_normal.responsible_firms.add(Firm.objects.get(name='Suporte', company=company))"
   ]
  },
  {
   "cell_type": "code",
   "execution_count": 22,
   "metadata": {},
   "outputs": [],
   "source": [
    "deferido = ApprovalStep(\n",
    "    name=\"RDO Aprovado\",\n",
    "    approval_flow=flow,\n",
    ")\n",
    "deferido.save()"
   ]
  },
  {
   "cell_type": "code",
   "execution_count": 23,
   "metadata": {},
   "outputs": [],
   "source": [
    "trans_homolog_normal = ApprovalTransition(\n",
    "    name=\"Solicitar aprovação\",\n",
    "    origin=elaboracao,\n",
    "    destination=homolog_normal,\n",
    "    condition={\n",
    "        \"===\": [{\n",
    "            \"var\": \"request.action\"\n",
    "            }, \"Solicitar aprovação\"]\n",
    "    },\n",
    "    button={\"icon\": \"assignment\", \"color\": \"primary\", \"variant\": \"raised\"}\n",
    ")\n",
    "trans_homolog_normal.save()"
   ]
  },
  {
   "cell_type": "code",
   "execution_count": 24,
   "metadata": {},
   "outputs": [],
   "source": [
    "trans_homologar_normal = ApprovalTransition(\n",
    "    name=\"Aprovar\",\n",
    "    origin=homolog_normal,\n",
    "    destination=deferido,\n",
    "    condition={\n",
    "        \"===\": [{\n",
    "            \"var\": \"request.action\"\n",
    "        }, \"Aprovar\"] \n",
    "    },\n",
    "    button={\"icon\": \"check\", \"color\": \"primary\", \"variant\": \"raised\"},\n",
    "    callback={\"change_fields\": [{\"name\": \"editable\", \"value\": False}]}\n",
    ")\n",
    "trans_homologar_normal.save()"
   ]
  },
  {
   "cell_type": "code",
   "execution_count": 25,
   "metadata": {},
   "outputs": [
    {
     "data": {
      "text/plain": [
       "<ApprovalStep: [Kapa Município]: RDO Criado>"
      ]
     },
     "execution_count": 25,
     "metadata": {},
     "output_type": "execute_result"
    }
   ],
   "source": [
    "elaboracao=ApprovalStep.objects.get(approval_flow__company=company, name='RDO Criado')\n",
    "elaboracao"
   ]
  },
  {
   "cell_type": "code",
   "execution_count": 26,
   "metadata": {},
   "outputs": [
    {
     "data": {
      "text/plain": [
       "3"
      ]
     },
     "execution_count": 26,
     "metadata": {},
     "output_type": "execute_result"
    }
   ],
   "source": [
    "MultipleDailyReport.objects.filter(company=company).update(approval_step=elaboracao)"
   ]
  },
  {
   "cell_type": "code",
   "execution_count": 27,
   "metadata": {},
   "outputs": [
    {
     "data": {
      "text/plain": [
       "'f34635ec-57ad-4453-aad9-4a074d17db2f'"
      ]
     },
     "execution_count": 27,
     "metadata": {},
     "output_type": "execute_result"
    }
   ],
   "source": [
    "str(deferido.uuid)"
   ]
  },
  {
   "cell_type": "code",
   "execution_count": 28,
   "metadata": {},
   "outputs": [],
   "source": [
    "company.metadata['approved_approval_steps'].append(str(deferido.uuid))"
   ]
  },
  {
   "cell_type": "code",
   "execution_count": 29,
   "metadata": {},
   "outputs": [],
   "source": [
    "company.save()"
   ]
  },
  {
   "cell_type": "code",
   "execution_count": null,
   "metadata": {},
   "outputs": [],
   "source": []
  },
  {
   "cell_type": "code",
   "execution_count": 33,
   "metadata": {},
   "outputs": [],
   "source": [
    "homolog_normal.responsible_firms.add(*Firm.objects.filter(company=company,name='Aprovadores de RDO'))"
   ]
  },
  {
   "cell_type": "code",
   "execution_count": 34,
   "metadata": {},
   "outputs": [
    {
     "data": {
      "text/plain": [
       "<QuerySet [<Firm: [b8450161-14d1-4de8-b254-7d1ddc4a9c20: Arteris Intervias] 9234a29c-1edf-4b08-8e01-913d54dd61b5: Aprovadores de RDO>]>"
      ]
     },
     "execution_count": 34,
     "metadata": {},
     "output_type": "execute_result"
    }
   ],
   "source": [
    "homolog_normal.responsible_firms.all()"
   ]
  },
  {
   "cell_type": "code",
   "execution_count": null,
   "metadata": {},
   "outputs": [],
   "source": []
  }
 ],
 "metadata": {
  "kernelspec": {
   "display_name": "Django Shell-Plus",
   "language": "python",
   "name": "django_extensions"
  },
  "language_info": {
   "codemirror_mode": {
    "name": "ipython",
    "version": 3
   },
   "file_extension": ".py",
   "mimetype": "text/x-python",
   "name": "python",
   "nbconvert_exporter": "python",
   "pygments_lexer": "ipython3",
   "version": "3.7.9"
  }
 },
 "nbformat": 4,
 "nbformat_minor": 4
}
