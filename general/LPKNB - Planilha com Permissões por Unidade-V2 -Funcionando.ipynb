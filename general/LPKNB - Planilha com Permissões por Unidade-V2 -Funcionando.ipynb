{
 "cells": [
  {
   "cell_type": "markdown",
   "id": "5a4934cf",
   "metadata": {},
   "source": [
    "# Planilha com Permissões"
   ]
  },
  {
   "cell_type": "code",
   "execution_count": 1,
   "id": "a16ba083",
   "metadata": {},
   "outputs": [],
   "source": [
    "import pandas as pd\n",
    "import openpyxl as op\n",
    "from tqdm.notebook import tqdm\n",
    "from copy import deepcopy\n",
    "from openpyxl.styles import Font, Fill,PatternFill,Alignment"
   ]
  },
  {
   "cell_type": "markdown",
   "id": "e6e36338",
   "metadata": {},
   "source": [
    "### Seleciona-se a Unidade e Cria-se o arquivo"
   ]
  },
  {
   "cell_type": "code",
   "execution_count": 12,
   "id": "b0bb297c",
   "metadata": {},
   "outputs": [
    {
     "data": {
      "text/plain": [
       "(<Company: 433c0cd2-80e2-46c9-b8c5-030fc61070e5: Arteris Via Paulista>,\n",
       " 'Arteris_Via_Paulista_Permissoes')"
      ]
     },
     "execution_count": 12,
     "metadata": {},
     "output_type": "execute_result"
    }
   ],
   "source": [
    "company = Company.objects.get(name__exact=\"Arteris Via Paulista\")\n",
    "filename = company.name.replace(' ','_').replace('/','_')+'_Permissoes'\n",
    "pd.DataFrame().to_excel(filename+'.xlsx')\n",
    "wb=op.load_workbook(filename+'.xlsx')\n",
    "wb['Sheet1'].title = \"Disclaimer\"\n",
    "company,filename"
   ]
  },
  {
   "cell_type": "markdown",
   "id": "8963eba6",
   "metadata": {},
   "source": [
    "### Pega-se as permissões dessa unidade"
   ]
  },
  {
   "cell_type": "code",
   "execution_count": 13,
   "id": "4fec4002",
   "metadata": {},
   "outputs": [
    {
     "name": "stdout",
     "output_type": "stream",
     "text": [
      "16\n"
     ]
    }
   ],
   "source": [
    "perm = UserPermission.objects.filter(companies=company)\n",
    "print(perm.count())"
   ]
  },
  {
   "cell_type": "markdown",
   "id": "f383e733",
   "metadata": {},
   "source": [
    "# Lista para Tradução/Funções para Tradução"
   ]
  },
  {
   "cell_type": "code",
   "execution_count": 14,
   "id": "ea3b8c41",
   "metadata": {
    "scrolled": true
   },
   "outputs": [
    {
     "name": "stdout",
     "output_type": "stream",
     "text": [
      "Feitoooooooooooo!!!\n"
     ]
    }
   ],
   "source": [
    "%run 'LPKNB - Traducao.ipynb'"
   ]
  },
  {
   "cell_type": "markdown",
   "id": "50c78261",
   "metadata": {},
   "source": [
    "# Disclaimer"
   ]
  },
  {
   "cell_type": "code",
   "execution_count": 15,
   "id": "4b5746f2",
   "metadata": {},
   "outputs": [
    {
     "data": {
      "application/vnd.jupyter.widget-view+json": {
       "model_id": "bde609642e5e4424a5bc46fcb4b1bcb6",
       "version_major": 2,
       "version_minor": 0
      },
      "text/plain": [
       "  0%|          | 0/16 [00:00<?, ?it/s]"
      ]
     },
     "metadata": {},
     "output_type": "display_data"
    }
   ],
   "source": [
    "sisPerm={}\n",
    "for dataU in tqdm(perm): \n",
    "    sisPerm[dataU.name]=\"\"\n",
    "for i,d in enumerate(sisPerm.keys(),1):\n",
    "    if i==1:\n",
    "        wb.active.cell(row=i,column = 10).value = \"Permissões do sistema\"\n",
    "        continue\n",
    "    wb.active.cell(row=i,column = 10).value = d\n",
    "wb.active.cell(row=2,column = 2).value = 'Cada nível de permissão está em uma aba diferente com as informações do que pode o que não pode ser feito no sistema.'\n",
    "wb.active.merge_cells('B2:H4')\n",
    "wb.active.cell(row=2,column = 2).fill = PatternFill(\"solid\", start_color=\"C5D9F1\")\n",
    "wb.active.cell(row=2,column = 2).alignment = Alignment(horizontal=\"center\", vertical=\"center\")\n",
    "wb.active.cell(row=6,column = 2).value = 'Na coluna A estão os itens do sistema Kartado'\n",
    "wb.active.merge_cells('B6:H8')\n",
    "wb.active.cell(row=6,column = 2).fill = PatternFill(\"solid\", start_color=\"DCE6F0\")\n",
    "wb.active.cell(row=6,column = 2).alignment = Alignment(horizontal=\"center\", vertical=\"center\")\n",
    "wb.active.cell(row=10,column = 2).value = 'Na linha 1 são as ações que podem ser executadas sobre os itens'\n",
    "wb.active.merge_cells('B10:H12')\n",
    "wb.active.cell(row=10,column = 2).fill = PatternFill(\"solid\", start_color=\"DBEEF4\")\n",
    "wb.active.cell(row=10,column = 2).alignment = Alignment(horizontal=\"center\", vertical=\"center\")\n",
    "\n",
    "wb.save(filename+'.xlsx')"
   ]
  },
  {
   "cell_type": "markdown",
   "id": "4e4b7631",
   "metadata": {},
   "source": [
    "# Criação dos dados traduzidos em dicionário e Criação da Planilha de Excel"
   ]
  },
  {
   "cell_type": "code",
   "execution_count": 16,
   "id": "4f86cc55",
   "metadata": {
    "scrolled": false
   },
   "outputs": [
    {
     "data": {
      "application/vnd.jupyter.widget-view+json": {
       "model_id": "7a0b15180e6349abb7c4cae3fe9a19e1",
       "version_major": 2,
       "version_minor": 0
      },
      "text/plain": [
       "  0%|          | 0/16 [00:00<?, ?it/s]"
      ]
     },
     "metadata": {},
     "output_type": "display_data"
    }
   ],
   "source": [
    "sheetname =\"\"\n",
    "for dataU in tqdm(perm):\n",
    "    index={}\n",
    "    sheetname = dataU.name.translate(str.maketrans('', '', './,!?'))[:15]\n",
    "    for key,value in dataU.permissions.items():\n",
    "        key = traduzirTexto(key)\n",
    "        value = traduzirDict(value)\n",
    "        index[key]=value\n",
    "        \n",
    "    df2 = pd.DataFrame(data=index.values(),index=index.keys())\n",
    "    with pd.ExcelWriter(filename+'.xlsx', mode='a',if_sheet_exists='replace') as writer:\n",
    "        df2.to_excel(writer,sheet_name=sheetname,na_rep=\"-\")"
   ]
  },
  {
   "cell_type": "code",
   "execution_count": null,
   "id": "f203026a",
   "metadata": {},
   "outputs": [],
   "source": []
  },
  {
   "cell_type": "code",
   "execution_count": null,
   "id": "ad1c875a",
   "metadata": {},
   "outputs": [],
   "source": []
  },
  {
   "cell_type": "code",
   "execution_count": null,
   "id": "e0c881ac",
   "metadata": {},
   "outputs": [],
   "source": []
  },
  {
   "cell_type": "markdown",
   "id": "4c708880",
   "metadata": {},
   "source": [
    "# teste antigos"
   ]
  },
  {
   "cell_type": "code",
   "execution_count": 10,
   "id": "d268c78d",
   "metadata": {},
   "outputs": [
    {
     "data": {
      "application/vnd.jupyter.widget-view+json": {
       "model_id": "91c77e0c4fde4f8ebff3d5a4904cd513",
       "version_major": 2,
       "version_minor": 0
      },
      "text/plain": [
       "  0%|          | 0/9 [00:00<?, ?it/s]"
      ]
     },
     "metadata": {},
     "output_type": "display_data"
    },
    {
     "name": "stdout",
     "output_type": "stream",
     "text": [
      "Suporte\n"
     ]
    },
    {
     "data": {
      "application/vnd.jupyter.widget-view+json": {
       "model_id": "b564dfd7e1344243952ed911ad1f8779",
       "version_major": 2,
       "version_minor": 0
      },
      "text/plain": [
       "  0%|          | 0/67 [00:00<?, ?it/s]"
      ]
     },
     "metadata": {},
     "output_type": "display_data"
    },
    {
     "name": "stdout",
     "output_type": "stream",
     "text": [
      "Usuário de cont\n"
     ]
    },
    {
     "data": {
      "application/vnd.jupyter.widget-view+json": {
       "model_id": "681699b8f9f5474c96be53756a46935f",
       "version_major": 2,
       "version_minor": 0
      },
      "text/plain": [
       "  0%|          | 0/67 [00:00<?, ?it/s]"
      ]
     },
     "metadata": {},
     "output_type": "display_data"
    },
    {
     "name": "stdout",
     "output_type": "stream",
     "text": [
      "Gerente de Expa\n"
     ]
    },
    {
     "data": {
      "application/vnd.jupyter.widget-view+json": {
       "model_id": "824a5fca66f54fd48957f4a07308b2e3",
       "version_major": 2,
       "version_minor": 0
      },
      "text/plain": [
       "  0%|          | 0/67 [00:00<?, ?it/s]"
      ]
     },
     "metadata": {},
     "output_type": "display_data"
    },
    {
     "name": "stdout",
     "output_type": "stream",
     "text": [
      "Inativo\n"
     ]
    },
    {
     "data": {
      "application/vnd.jupyter.widget-view+json": {
       "model_id": "5df8738975d94d92be4d8133b3b01fd8",
       "version_major": 2,
       "version_minor": 0
      },
      "text/plain": [
       "  0%|          | 0/67 [00:00<?, ?it/s]"
      ]
     },
     "metadata": {},
     "output_type": "display_data"
    },
    {
     "name": "stdout",
     "output_type": "stream",
     "text": [
      "Coordenador de \n"
     ]
    },
    {
     "data": {
      "application/vnd.jupyter.widget-view+json": {
       "model_id": "3b9345125c5441ec83a091e3a07735a2",
       "version_major": 2,
       "version_minor": 0
      },
      "text/plain": [
       "  0%|          | 0/67 [00:00<?, ?it/s]"
      ]
     },
     "metadata": {},
     "output_type": "display_data"
    },
    {
     "name": "stdout",
     "output_type": "stream",
     "text": [
      "Fiscal Técnico \n"
     ]
    },
    {
     "data": {
      "application/vnd.jupyter.widget-view+json": {
       "model_id": "c89a8a25cc884698aa708b0277a46b59",
       "version_major": 2,
       "version_minor": 0
      },
      "text/plain": [
       "  0%|          | 0/67 [00:00<?, ?it/s]"
      ]
     },
     "metadata": {},
     "output_type": "display_data"
    },
    {
     "name": "stdout",
     "output_type": "stream",
     "text": [
      "Facilitador\n"
     ]
    },
    {
     "data": {
      "application/vnd.jupyter.widget-view+json": {
       "model_id": "dcb4ea7fc4a94b5c8b45186e1f7f1b54",
       "version_major": 2,
       "version_minor": 0
      },
      "text/plain": [
       "  0%|          | 0/67 [00:00<?, ?it/s]"
      ]
     },
     "metadata": {},
     "output_type": "display_data"
    },
    {
     "name": "stdout",
     "output_type": "stream",
     "text": [
      "Controle Tecnol\n"
     ]
    },
    {
     "data": {
      "application/vnd.jupyter.widget-view+json": {
       "model_id": "3bc1ae8ff9e749e3b9a68dd2dc55e563",
       "version_major": 2,
       "version_minor": 0
      },
      "text/plain": [
       "  0%|          | 0/67 [00:00<?, ?it/s]"
      ]
     },
     "metadata": {},
     "output_type": "display_data"
    },
    {
     "name": "stdout",
     "output_type": "stream",
     "text": [
      "Empreiteiras (T\n"
     ]
    },
    {
     "data": {
      "application/vnd.jupyter.widget-view+json": {
       "model_id": "d9c5adcc580b4d16bf711160e069d18f",
       "version_major": 2,
       "version_minor": 0
      },
      "text/plain": [
       "  0%|          | 0/67 [00:00<?, ?it/s]"
      ]
     },
     "metadata": {},
     "output_type": "display_data"
    }
   ],
   "source": [
    "data=[]\n",
    "header=[]\n",
    "index=[]\n",
    "for a in tqdm(perm):\n",
    "    print(a.name.translate(str.maketrans('', '', './,!?'))[:15])      \n",
    "    for b in tqdm(perm[idx].permissions.items()):\n",
    "        data.append(b[1])\n",
    "        header.append(list(b[1].keys()))\n",
    "    obj={}\n",
    "    for x in header:\n",
    "        for y in x:\n",
    "            obj[y] = ''\n",
    "    header.clear()\n",
    "    header = list(obj)\n",
    "    \n",
    "    index=[z for z in perm[idx].permissions]\n",
    "#     for k,c in enumerate(index):\n",
    "#         v=traduzirTexto(c)\n",
    "#         index[k] = v\n",
    "    df = pd.DataFrame(data=data,index=index,columns=header)\n",
    "    with pd.ExcelWriter(filename+'.xlsx', mode='a',if_sheet_exists='replace') as writer:\n",
    "        df.to_excel(writer,sheet_name=a.name.translate(str.maketrans('', '', './,!?'))[:15])\n",
    "   \n",
    "    data.clear()\n",
    "    index.clear()\n",
    "    header.clear()"
   ]
  },
  {
   "cell_type": "code",
   "execution_count": null,
   "id": "e5a15831",
   "metadata": {},
   "outputs": [],
   "source": [
    "data=[]\n",
    "header=[]\n",
    "index=[]\n",
    "for a in tqdm(perm):\n",
    "    print(a.name.translate(str.maketrans('', '', './,!?'))[:15])      \n",
    "    for b in tqdm(perm[idx].permissions.items()):\n",
    "        data.append(b[1])\n",
    "        header.append(list(b[1].keys()))\n",
    "    obj={}\n",
    "    for x in header:\n",
    "        for y in x:\n",
    "            obj[y] = ''\n",
    "    header.clear()\n",
    "    header = list(obj)\n",
    "    \n",
    "    index=[z for z in perm[idx].permissions]\n",
    "    for k,c in enumerate(index):\n",
    "        v=traduzirTexto(c)\n",
    "        index[k] = v\n",
    "    df = pd.DataFrame(data=traducaoDefinitiva(data),index=index,columns=header)\n",
    "    with pd.ExcelWriter(filename+'.xlsx', mode='a',if_sheet_exists='replace') as writer:\n",
    "        df.to_excel(writer,sheet_name=a.name.translate(str.maketrans('', '', './,!?'))[:15])\n",
    "   \n",
    "    data.clear()\n",
    "    index.clear()\n",
    "    header.clear()"
   ]
  },
  {
   "cell_type": "code",
   "execution_count": 19,
   "id": "9bfb67dd",
   "metadata": {},
   "outputs": [
    {
     "data": {
      "application/vnd.jupyter.widget-view+json": {
       "model_id": "7d1edb95b17c45ad82c76e78127bb325",
       "version_major": 2,
       "version_minor": 0
      },
      "text/plain": [
       "  0%|          | 0/8 [00:00<?, ?it/s]"
      ]
     },
     "metadata": {},
     "output_type": "display_data"
    }
   ],
   "source": [
    "index={}\n",
    "sheetname =\"\"\n",
    "for dataU in tqdm(perm): \n",
    "    \n",
    "    sheetname = dataU.name.translate(str.maketrans('', '', './,!?'))[:15]\n",
    "    for key,value in dataU.permissions.items():\n",
    "        \n",
    "        key = traduzirTexto(key)\n",
    "        value = traduzirDict(value)\n",
    "        index[key]=value\n",
    "        key,value=\"\",\"\"\n",
    "        \n",
    "    df2 = pd.DataFrame(data=index.values(),index=index.keys())\n",
    "    if sheetname=='Fiscal DNIT':\n",
    "        break\n",
    "#     with pd.ExcelWriter(filename+'.xlsx', mode='a',if_sheet_exists='replace') as writer:\n",
    "#         df2.to_excel(writer,sheet_name=sheetname,na_rep=\"-\")"
   ]
  },
  {
   "cell_type": "code",
   "execution_count": 20,
   "id": "d2491338",
   "metadata": {},
   "outputs": [
    {
     "data": {
      "text/plain": [
       "Pode Editar                      Verdadeiro\n",
       "Pode Ver                         Verdadeiro\n",
       "Conjunto                              Todos\n",
       "Pode Criar                       Verdadeiro\n",
       "Pode Deletar                     Verdadeiro\n",
       "Pode Usar Nova Biblioteca               NaN\n",
       "Pode Editar Todos Os Campos             NaN\n",
       "Pode Aprovar                            NaN\n",
       "Pode Usar o Botão                       NaN\n",
       "can_edit_resource                       NaN\n",
       "Pode Criar Recurso                      NaN\n",
       "can_view_price_accumulator              NaN\n",
       "Pode Ver o Mapa                         NaN\n",
       "Pode Ver RDO                            NaN\n",
       "Pode Ver Mapa de Calor                  NaN\n",
       "Pode Ver Gráficos Técnicos              NaN\n",
       "can_view_all_firms                      NaN\n",
       "can_create_and_edit_all_firms           NaN\n",
       "Pode Ver Dinheiro                       NaN\n",
       "Pode Ver Resumo                         NaN\n",
       "Name: Arquivo de Apontamento, dtype: object"
      ]
     },
     "execution_count": 20,
     "metadata": {},
     "output_type": "execute_result"
    }
   ],
   "source": [
    "df2.iloc[28]"
   ]
  },
  {
   "cell_type": "code",
   "execution_count": null,
   "id": "bead16df",
   "metadata": {},
   "outputs": [],
   "source": []
  }
 ],
 "metadata": {
  "kernelspec": {
   "display_name": "Django Shell-Plus",
   "language": "python",
   "name": "django_extensions"
  },
  "language_info": {
   "codemirror_mode": {
    "name": "ipython",
    "version": 3
   },
   "file_extension": ".py",
   "mimetype": "text/x-python",
   "name": "python",
   "nbconvert_exporter": "python",
   "pygments_lexer": "ipython3",
   "version": "3.8.16"
  }
 },
 "nbformat": 4,
 "nbformat_minor": 5
}
