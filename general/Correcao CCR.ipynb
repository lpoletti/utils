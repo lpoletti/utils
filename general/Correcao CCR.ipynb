{
 "cells": [
  {
   "cell_type": "markdown",
   "id": "87097f2a",
   "metadata": {},
   "source": [
    "# Correção CCR apiName, displayName e selectOptions"
   ]
  },
  {
   "cell_type": "code",
   "execution_count": null,
   "id": "f3be5091",
   "metadata": {},
   "outputs": [],
   "source": [
    "from openpyxl import load_workbook\n",
    "from tqdm.notebook import tqdm\n",
    "import json"
   ]
  },
  {
   "cell_type": "code",
   "execution_count": null,
   "id": "4d60c961",
   "metadata": {},
   "outputs": [],
   "source": [
    "def load_excel(filename,sheetPosision=0):\n",
    "    wb = load_workbook(filename=filename+'.xlsx')\n",
    "    sheet = wb[wb.sheetnames[sheetPosision]]\n",
    "    data = []\n",
    "\n",
    "    headers = [cell.value for cell in sheet[1]]\n",
    "\n",
    "    for row in sheet.iter_rows(min_row=2):\n",
    "        row_dict = {}\n",
    "        for key, cell in zip(headers, row):\n",
    "            row_dict[key] = cell.value\n",
    "    #         if 'Foto Contenção 1_1' == key:\n",
    "    #             print(cell.value)\n",
    "        data.append(row_dict)\n",
    "    return data"
   ]
  },
  {
   "cell_type": "code",
   "execution_count": null,
   "id": "9f17babb",
   "metadata": {},
   "outputs": [],
   "source": [
    "dados=[]\n",
    "for a in tqdm(load_excel('CCR Padronizacao',1)):\n",
    "    occ = OccurrenceType.objects.get(company__name=\"CCR - Rio Sp\",name=a['occ_type'],occurrence_kind=a['r'])\n",
    "    for o in occ.form_fields['fields']: \n",
    "        if a['apiName'] == o['apiName']:\n",
    "            o['apiName'] = a['apiName (Padrão)']\n",
    "    occ.save()\n",
    "#     dados.append(occ)"
   ]
  },
  {
   "cell_type": "code",
   "execution_count": null,
   "id": "b74e9799",
   "metadata": {},
   "outputs": [],
   "source": [
    "dados2=[]\n",
    "for a in tqdm(load_excel('CCR Padronizacao',2)):\n",
    "    occ = OccurrenceType.objects.get(company__name=\"CCR - Rio Sp\",name=a['occ_type'],occurrence_kind=a['r'])\n",
    "    for o in occ.form_fields['fields']: \n",
    "        if a['apiName'] == o['apiName'] and a['displayName'] == o['displayName']:\n",
    "            o['apiName'] = a['apiName (Padrão)']\n",
    "            o['displayName'] = a['displayName (Padrão)']\n",
    "            if a['dataType'] == 'select':\n",
    "                selectO = str(a['selectOptions (Padrão)'])\n",
    "                o['selectOptions'] = json.loads(selectO.replace(\"'\", '\"'))\n",
    "    occ.save()\n",
    "#     dados2.append(occ)"
   ]
  },
  {
   "cell_type": "markdown",
   "id": "d9b4f5d1",
   "metadata": {},
   "source": [
    "# CORREÇÃO OPTION POR NATUREZA"
   ]
  },
  {
   "cell_type": "code",
   "execution_count": null,
   "id": "6e8e08d2",
   "metadata": {},
   "outputs": [],
   "source": [
    "!mkdir \"CCR_Problem\""
   ]
  },
  {
   "cell_type": "code",
   "execution_count": null,
   "id": "047d6944",
   "metadata": {},
   "outputs": [],
   "source": [
    "!mv \"apiKind.zip\" \"CCR_Problem\"/"
   ]
  },
  {
   "cell_type": "code",
   "execution_count": null,
   "id": "b0c91a7a",
   "metadata": {},
   "outputs": [],
   "source": [
    "!cd \"CCR_Problem\"/ && unzip \"apiKind.zip\""
   ]
  },
  {
   "cell_type": "code",
   "execution_count": null,
   "id": "cfcee3a0",
   "metadata": {},
   "outputs": [],
   "source": [
    "!cd \"CCR_Problem\"/ && rm \"apiKind.zip\""
   ]
  },
  {
   "cell_type": "code",
   "execution_count": null,
   "id": "cc570ef0",
   "metadata": {},
   "outputs": [],
   "source": [
    "import os\n",
    "import json\n",
    "import re\n",
    "\n",
    "folder_path = 'CCR_Problem'\n",
    "new_options=[]\n",
    "for filename in os.listdir(folder_path):\n",
    "    if filename.endswith('.json'):\n",
    "        with open(os.path.join(folder_path, filename), 'r') as file:\n",
    "            data={}\n",
    "            key=re.findall(r'\\d+', filename.replace('.json',''))\n",
    "            data[key[0]] = json.load(file)\n",
    "            new_options.append(data)"
   ]
  },
  {
   "cell_type": "code",
   "execution_count": null,
   "id": "99053210",
   "metadata": {},
   "outputs": [],
   "source": [
    "for a in new_options:\n",
    "    kind=str(list(a.keys())[0])\n",
    "    occs = OccurrenceType.objects.filter(occurrence_kind=kind,company__name=\"CCR - Rio Sp\")\n",
    "    for b in occs:\n",
    "        for c in b.form_fields['fields']:\n",
    "            if c['apiName'] == 'problem':\n",
    "                c['selectOptions']['options'] = a[kind]\n",
    "        b.save()"
   ]
  },
  {
   "cell_type": "markdown",
   "id": "b8c8aec1",
   "metadata": {},
   "source": [
    "# CORREÇÃO OPTION Motive POR NATUREZA"
   ]
  },
  {
   "cell_type": "code",
   "execution_count": null,
   "id": "4079ea07",
   "metadata": {},
   "outputs": [],
   "source": [
    "!mkdir \"CCR_Motive\""
   ]
  },
  {
   "cell_type": "code",
   "execution_count": null,
   "id": "84b201a3",
   "metadata": {},
   "outputs": [],
   "source": [
    "!mv \"motiveKind.zip\" \"CCR_Motive\"/"
   ]
  },
  {
   "cell_type": "code",
   "execution_count": null,
   "id": "62d38b0b",
   "metadata": {},
   "outputs": [],
   "source": [
    "!cd \"CCR_Motive\"/ && unzip \"motiveKind.zip\""
   ]
  },
  {
   "cell_type": "code",
   "execution_count": null,
   "id": "d673a8ba",
   "metadata": {},
   "outputs": [],
   "source": [
    "!cd \"CCR_Motive\"/ && rm \"motiveKind.zip\""
   ]
  },
  {
   "cell_type": "code",
   "execution_count": null,
   "id": "dd84cfdd",
   "metadata": {},
   "outputs": [],
   "source": [
    "import os\n",
    "import json\n",
    "import re\n",
    "\n",
    "folder_path = 'CCR_Motive'\n",
    "new_options=[]\n",
    "for filename in os.listdir(folder_path):\n",
    "    if filename.endswith('.json'):\n",
    "        with open(os.path.join(folder_path, filename), 'r') as file:\n",
    "            data={}\n",
    "            key=re.findall(r'\\d+', filename.replace('.json',''))\n",
    "            data[key[0]] = json.load(file)\n",
    "            new_options.append(data)"
   ]
  },
  {
   "cell_type": "code",
   "execution_count": null,
   "id": "2c5fe564",
   "metadata": {},
   "outputs": [],
   "source": [
    "for a in new_options:\n",
    "    kind=str(list(a.keys())[0])\n",
    "    occs = OccurrenceType.objects.filter(occurrence_kind=kind,company__name=\"CCR - Rio Sp\")\n",
    "    for b in occs:\n",
    "        for c in b.form_fields['fields']:\n",
    "            if c['apiName'] == 'motive':\n",
    "                c['selectOptions']['options'] = a[kind]\n",
    "        b.save()"
   ]
  },
  {
   "cell_type": "code",
   "execution_count": null,
   "id": "5db576e0",
   "metadata": {},
   "outputs": [],
   "source": []
  },
  {
   "cell_type": "markdown",
   "id": "9912a134",
   "metadata": {},
   "source": [
    "# CORREÇÃO OPTION Element POR NATUREZA"
   ]
  },
  {
   "cell_type": "code",
   "execution_count": null,
   "id": "46209800",
   "metadata": {},
   "outputs": [],
   "source": [
    "!mkdir \"CCR_Element\""
   ]
  },
  {
   "cell_type": "code",
   "execution_count": null,
   "id": "2b324801",
   "metadata": {},
   "outputs": [],
   "source": [
    "!mv \"elementKind.zip\" \"CCR_Element\"/"
   ]
  },
  {
   "cell_type": "code",
   "execution_count": null,
   "id": "abb041f8",
   "metadata": {},
   "outputs": [],
   "source": [
    "!cd \"CCR_Element\"/ && unzip \"elementKind.zip\""
   ]
  },
  {
   "cell_type": "code",
   "execution_count": null,
   "id": "be4b77c8",
   "metadata": {},
   "outputs": [],
   "source": [
    "!cd \"CCR_Element\"/ && rm \"elementKind.zip\""
   ]
  },
  {
   "cell_type": "code",
   "execution_count": null,
   "id": "1e520e78",
   "metadata": {},
   "outputs": [],
   "source": [
    "import os\n",
    "import json\n",
    "import re\n",
    "\n",
    "folder_path = 'CCR_Element'\n",
    "new_options=[]\n",
    "for filename in os.listdir(folder_path):\n",
    "    if filename.endswith('.json'):\n",
    "        with open(os.path.join(folder_path, filename), 'r') as file:\n",
    "            data={}\n",
    "            key=re.findall(r'\\d+', filename.replace('.json',''))\n",
    "            data[key[0]] = json.load(file)\n",
    "            new_options.append(data)"
   ]
  },
  {
   "cell_type": "code",
   "execution_count": null,
   "id": "9b9f47a9",
   "metadata": {},
   "outputs": [],
   "source": [
    "for a in new_options:\n",
    "    kind=str(list(a.keys())[0])\n",
    "    occs = OccurrenceType.objects.filter(occurrence_kind=kind,company__name=\"CCR - Rio Sp\")\n",
    "    for b in occs:\n",
    "        for c in b.form_fields['fields']:\n",
    "            if c['apiName'] == 'element':\n",
    "                c['selectOptions']['options'] = a[kind]\n",
    "        b.save()"
   ]
  },
  {
   "cell_type": "code",
   "execution_count": null,
   "id": "b04cb648",
   "metadata": {},
   "outputs": [],
   "source": []
  },
  {
   "cell_type": "code",
   "execution_count": null,
   "id": "85e9f550",
   "metadata": {},
   "outputs": [],
   "source": []
  },
  {
   "cell_type": "code",
   "execution_count": null,
   "id": "fd3b53d7",
   "metadata": {},
   "outputs": [],
   "source": []
  }
 ],
 "metadata": {
  "kernelspec": {
   "display_name": "Django Shell-Plus",
   "language": "python",
   "name": "django_extensions"
  },
  "language_info": {
   "codemirror_mode": {
    "name": "ipython",
    "version": 3
   },
   "file_extension": ".py",
   "mimetype": "text/x-python",
   "name": "python",
   "nbconvert_exporter": "python",
   "pygments_lexer": "ipython3",
   "version": "3.7.9"
  }
 },
 "nbformat": 4,
 "nbformat_minor": 5
}
