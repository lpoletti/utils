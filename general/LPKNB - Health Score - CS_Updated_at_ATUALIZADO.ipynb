{
 "cells": [
  {
   "cell_type": "code",
   "execution_count": 1,
   "metadata": {},
   "outputs": [],
   "source": [
    "import datetime as dt\n",
    "import pytz\n",
    "from tqdm.notebook import tqdm\n",
    "from matplotlib import pyplot as plt\n",
    "from django.db.models.query_utils import Q\n",
    "import pandas as pd\n",
    "import openpyxl\n",
    "import calendar"
   ]
  },
  {
   "cell_type": "code",
   "execution_count": 2,
   "metadata": {},
   "outputs": [
    {
     "name": "stdout",
     "output_type": "stream",
     "text": [
      "STAGE=PRODUCTION\r\n"
     ]
    }
   ],
   "source": [
    "!cat .env"
   ]
  },
  {
   "cell_type": "code",
   "execution_count": 3,
   "metadata": {},
   "outputs": [],
   "source": [
    "#hs_tabela = pd.read_excel(\"hs.xlsx\", engine ='openpyxl')"
   ]
  },
  {
   "cell_type": "code",
   "execution_count": 4,
   "metadata": {},
   "outputs": [],
   "source": [
    "road_companies= ['Eixo Sp - Pavimento']"
   ]
  },
  {
   "cell_type": "code",
   "execution_count": 5,
   "metadata": {},
   "outputs": [
    {
     "data": {
      "text/plain": [
       "1"
      ]
     },
     "execution_count": 5,
     "metadata": {},
     "output_type": "execute_result"
    }
   ],
   "source": [
    "len(road_companies)"
   ]
  },
  {
   "cell_type": "code",
   "execution_count": 3,
   "metadata": {},
   "outputs": [],
   "source": [
    "road_companies = [x for x in Company.objects.filter(active=True).values_list('name',flat=True).order_by('name')]"
   ]
  },
  {
   "cell_type": "code",
   "execution_count": 6,
   "metadata": {},
   "outputs": [
    {
     "data": {
      "text/plain": [
       "['Eixo Sp - Pavimento']"
      ]
     },
     "execution_count": 6,
     "metadata": {},
     "output_type": "execute_result"
    }
   ],
   "source": [
    "road_companies"
   ]
  },
  {
   "cell_type": "code",
   "execution_count": 7,
   "metadata": {},
   "outputs": [
    {
     "data": {
      "text/plain": [
       "([2, 3], 2024)"
      ]
     },
     "execution_count": 7,
     "metadata": {},
     "output_type": "execute_result"
    }
   ],
   "source": [
    "today = dt.date.today()\n",
    "year = today.year\n",
    "meses = [today.month - i for i in range(2)]\n",
    "meses = [m if m > 0 else m + 12 for m in meses]  # Garante que os meses são válidos (1-12)\n",
    "meses.sort()\n",
    "\n",
    "months_number = meses\n",
    "meses, year"
   ]
  },
  {
   "cell_type": "code",
   "execution_count": 8,
   "metadata": {},
   "outputs": [
    {
     "data": {
      "text/plain": [
       "[29, 31]"
      ]
     },
     "execution_count": 8,
     "metadata": {},
     "output_type": "execute_result"
    }
   ],
   "source": [
    "last_days=[dt.date(year,a,calendar.monthrange(year, a)[1]).day for a in meses]\n",
    "last_days"
   ]
  },
  {
   "cell_type": "code",
   "execution_count": 9,
   "metadata": {},
   "outputs": [],
   "source": [
    "def quantitativos_v2(months_name,company):\n",
    "    sem_qtt =[]\n",
    "\n",
    "    for n in months_name:\n",
    "        com_qtt = 0\n",
    "        apontamentos_totais = 0\n",
    "        for occ in OccurrenceType.objects.filter(company__name = company).exclude(occurrence_kind='2'):\n",
    "            autofill_keys = []\n",
    "            try:\n",
    "                autofill_keys = [\n",
    "                    field[\"apiName\"] for field in occ.form_fields[\"fields\"] if \"autofill\" in field.keys()\n",
    "                ]\n",
    "            except:\n",
    "                autofill_keys = [\n",
    "                    field[\"api_name\"] for field in occ.form_fields[\"fields\"] if \"autofill\" in field.keys()\n",
    "                ]\n",
    "            size_occ=len(autofill_keys)            \n",
    "            reportings=Reporting.objects.filter(\n",
    "                occurrence_type=occ, \n",
    "                updated_at__month = n, \n",
    "                company__name = company, \n",
    "                updated_at__year=year\n",
    "            ).exclude(\n",
    "                occurrence_type__occurrence_kind='2'\n",
    "            ).exclude(\n",
    "                created_by__username='rlcs'\n",
    "            ).exclude(\n",
    "                created_by__username='cartcs'\n",
    "            ).only(\n",
    "                'form_data', 'occurrence_type'\n",
    "            ).select_related(\n",
    "                'occurrence_type'\n",
    "            )\n",
    "            \n",
    "            reportings_keys=[\n",
    "                len(a.keys()) for a in list(reportings.values_list('form_data', flat=True))\n",
    "            ]\n",
    "            com_qtt += len([a for a in reportings_keys if a > size_occ])\n",
    "            apontamentos_totais += reportings.count()\n",
    "        sem_qtt.append((apontamentos_totais - com_qtt)/apontamentos_totais if apontamentos_totais != 0 else 0)\n",
    "    return sem_qtt"
   ]
  },
  {
   "cell_type": "code",
   "execution_count": 10,
   "metadata": {},
   "outputs": [],
   "source": [
    "def dias_de_uso_v2(months_name, company):\n",
    "    \n",
    "    qtd_dias = []\n",
    "#     dias = [31, 28, 31, 30, 31, 30, 31, 31, 30, 31, 30, 31]\n",
    "    dias=last_days\n",
    "\n",
    "    for index, mes in enumerate(months_name):\n",
    "\n",
    "        a= []\n",
    "        for n in range(1, dias[index]):\n",
    "            a.append(\n",
    "                Reporting.objects.filter(\n",
    "                    company__name = company, \n",
    "                    updated_at__year=year, \n",
    "                    updated_at__month = mes,\n",
    "                    updated_at__day=n\n",
    "                ).exclude(\n",
    "                    occurrence_type__occurrence_kind='2'\n",
    "                ).exclude(\n",
    "                    created_by__username='rlcs'\n",
    "                ).exclude(\n",
    "                    created_by__username='neoviacs'\n",
    "                ).exclude(\n",
    "                    created_by__username='arteriscs'\n",
    "                ).only('uuid').count()\n",
    "            )\n",
    "        qtd_dias.append(a)\n",
    "\n",
    "    \n",
    "    quantidade = []\n",
    "    porcen_dias= []\n",
    "    \n",
    "    for qtd in qtd_dias:\n",
    "        quantidade.append(len([x for x in qtd if x != 0]))\n",
    "        \n",
    "    \n",
    "    for index, qtd in enumerate(quantidade):\n",
    "        b = qtd/dias[index]\n",
    "        porcen_dias.append(b)\n",
    "    return porcen_dias"
   ]
  },
  {
   "cell_type": "code",
   "execution_count": 11,
   "metadata": {},
   "outputs": [],
   "source": [
    "# Não está em uso o que está vigente é o v2\n",
    "def dias_de_uso_v3(months_name, company):\n",
    "    \n",
    "    porcen_dias = []\n",
    "    dias=last_days\n",
    "\n",
    "    for mes in months_name:\n",
    "\n",
    "        a = []\n",
    "        dias_do_mes = dias[mes-1]\n",
    "        for n in range(1, dias_do_mes):\n",
    "            a.append(\n",
    "                Reporting.objects.filter(\n",
    "                    company__name = company, \n",
    "                    updated_at__year=year, \n",
    "                    updated_at__month = mes,\n",
    "                    updated_at__day=n\n",
    "                ).exclude(\n",
    "                    occurrence_type__occurrence_kind='2'\n",
    "                ).exclude(\n",
    "                    created_by__username='rlcs'\n",
    "                ).exclude(\n",
    "                    created_by__username='neoviacs'\n",
    "                ).exclude(\n",
    "                    created_by__username='arteriscs'\n",
    "                ).only('uuid').count()\n",
    "            )\n",
    "\n",
    "        dias_com_apontamentos = len([x for x in a if x != 0])\n",
    "        porcen_dias.append(dias_com_apontamentos/dias_do_mes)\n",
    "\n",
    "    return porcen_dias"
   ]
  },
  {
   "cell_type": "code",
   "execution_count": 12,
   "metadata": {},
   "outputs": [],
   "source": [
    "def equipes_ativas_v2(months_name, company):\n",
    "    team_name = list(Firm.objects.filter(company__name = company).values_list('name', flat=True))\n",
    "    \n",
    "    equipes=[]\n",
    "    for team in team_name:\n",
    "        for i in months_name:\n",
    "            equipes.append(\n",
    "                Reporting.objects.filter(\n",
    "                    company__name = company, \n",
    "                    updated_at__year=year, \n",
    "                    updated_at__month= i,\n",
    "                    firm__name = team\n",
    "                ).exclude(\n",
    "                    occurrence_type__occurrence_kind='2'\n",
    "                ).exclude(\n",
    "                    created_by__username='rlcs'\n",
    "                ).exclude(\n",
    "                    created_by__username='neoviacs'\n",
    "                ).exclude(\n",
    "                    created_by__username='arteriscs'\n",
    "                ).only('uuid').count()\n",
    "            )\n",
    "    \n",
    "\n",
    "    soma = []\n",
    "    for team in team_name:\n",
    "\n",
    "        soma.append(Reporting.objects.filter(company__name = company, updated_at__year=year,firm__name = team).exclude(occurrence_type__occurrence_kind='2').exclude(created_by__username='rlcs').exclude(created_by__username='neoviacs').exclude(created_by__username='arteriscs').only('uuid').count())\n",
    "\n",
    "    porcen = []\n",
    "    for month in months_name:\n",
    "        firm_moves=[]\n",
    "        objects=['Reporting', 'Job']\n",
    "        for firm in team_name:\n",
    "            num_moves = 0\n",
    "            for item in objects:\n",
    "                num_moves+=eval(item).history.filter(history_date__year=year, history_date__month=month, company__name= company, firm__name=firm).only('uuid').count()\n",
    "            firm_moves.append((num_moves, firm))\n",
    "\n",
    "        firm_moves.sort(key=lambda tup: tup[0], reverse=True)\n",
    "        active_firms=len([firm for firm in firm_moves if firm[0]>0])\n",
    "        porcen.append(active_firms/len(firm_moves) if len(firm_moves) != 0 else 0)\n",
    "    \n",
    "    return porcen"
   ]
  },
  {
   "cell_type": "code",
   "execution_count": 13,
   "metadata": {},
   "outputs": [],
   "source": [
    "def variacao(months):\n",
    "    taxa_variacao = []\n",
    "    print(months)\n",
    "    for i,m in enumerate(months):\n",
    "        y = months[i]\n",
    "        b = months\n",
    "        c = b.index(y) \n",
    "        if c == 0:\n",
    "            taxa_variacao.append(0)\n",
    "        if y > b[c-1] and c != 0:\n",
    "            m = (y-b[c-1])/y\n",
    "            taxa_variacao.append(m)\n",
    "        if y == b[c-1] and c != 0:\n",
    "            i = y*0\n",
    "            taxa_variacao.append(i)\n",
    "        if y < b[c-1] and c!= 0 :\n",
    "            n = (y -b[c-1])/b[c-1]\n",
    "            taxa_variacao.append(n)\n",
    "    return taxa_variacao\n"
   ]
  },
  {
   "cell_type": "code",
   "execution_count": 14,
   "metadata": {},
   "outputs": [],
   "source": [
    "def qtt_nota(nota):\n",
    "    a = 0\n",
    "    if nota <0.05:\n",
    "        a = 1\n",
    "    if nota >= 0.05 and nota <0.15:\n",
    "        a = 0.65\n",
    "    if nota >= 0.15 and nota < 0.3:\n",
    "        a = 0.3\n",
    "    if nota >= 0.3:\n",
    "        a = 0\n",
    "    return a"
   ]
  },
  {
   "cell_type": "code",
   "execution_count": 15,
   "metadata": {},
   "outputs": [],
   "source": [
    "def uso_nota(nota):\n",
    "    a = 0\n",
    "    if nota <0.4:\n",
    "        a = 0\n",
    "    if nota >= 0.4 and nota <0.65:\n",
    "        a = 0.3\n",
    "    if nota >= 0.65 and nota < 0.8:\n",
    "        a = 0.65\n",
    "    if nota > 0.8:\n",
    "        a = 1\n",
    "    return a"
   ]
  },
  {
   "cell_type": "code",
   "execution_count": 16,
   "metadata": {},
   "outputs": [],
   "source": [
    "def equipe_nota(nota):\n",
    "    a = 0\n",
    "    if nota > 0.6:\n",
    "        a = 1\n",
    "    if nota >0.45 and nota <=0.6:\n",
    "        a = 0.65\n",
    "    if nota > 0.3 and nota <= 0.45:\n",
    "        a = 0.3\n",
    "    if nota <= 0.3:\n",
    "        a = 0\n",
    "    return a"
   ]
  },
  {
   "cell_type": "code",
   "execution_count": 17,
   "metadata": {},
   "outputs": [],
   "source": [
    "def variacao_nota(nota):\n",
    "    a= 0\n",
    "    if nota >= 0.25:\n",
    "        a = 1\n",
    "    if nota >= 0.15 and nota <0.25:\n",
    "        a = 0.75\n",
    "    if nota >= -0.15 and nota < 0.15:\n",
    "        a = 0.5\n",
    "    if nota >= -0.25 and nota < -0.15:\n",
    "        a = 0.5\n",
    "    if nota < -0.25:\n",
    "        a = 0\n",
    "    return a"
   ]
  },
  {
   "cell_type": "code",
   "execution_count": 18,
   "metadata": {},
   "outputs": [
    {
     "data": {
      "application/vnd.jupyter.widget-view+json": {
       "model_id": "a06b01ef3da843b3a0280e8dd54a1d76",
       "version_major": 2,
       "version_minor": 0
      },
      "text/plain": [
       "  0%|          | 0/1 [00:00<?, ?it/s]"
      ]
     },
     "metadata": {},
     "output_type": "display_data"
    },
    {
     "name": "stdout",
     "output_type": "stream",
     "text": [
      "Eixo Sp - Pavimento\n",
      "[650, 287]\n"
     ]
    }
   ],
   "source": [
    "uso_sistema = []\n",
    "sem_quantitativos = []\n",
    "equipes = []\n",
    "variacao_dias = []\n",
    "for company in tqdm(road_companies):\n",
    "    months=[]\n",
    "    print(company)\n",
    "    for n in months_number:\n",
    "        months.append(\n",
    "            Reporting.objects.filter(\n",
    "                company__name = company, \n",
    "                updated_at__year=year, \n",
    "                updated_at__month=n\n",
    "            ).exclude(\n",
    "                occurrence_type__occurrence_kind='2'\n",
    "            ).exclude(\n",
    "                created_by__username='rlcs'\n",
    "            ).exclude(\n",
    "                created_by__username='neoviacs'\n",
    "            ).exclude(\n",
    "                created_by__username='arteriscs'\n",
    "            ).only('uuid').count()\n",
    "        )\n",
    "#     uso_sistema.append(dias_de_uso_v2(months_number, company))\n",
    "#     sem_quantitativos.append(quantitativos_v2(months_number, company))\n",
    "#     equipes.append(equipes_ativas_v2(months_number, company))\n",
    "    variacao_dias.append(variacao(months)) \n",
    "    #print(months)\n",
    "#     print(f' dias de uso: {dias_de_uso_v2(months_number, company)} \\n sem quantitativos: {quantitativos_v2(months_number, company)} \\n equipes ativas: {equipes_ativas_v2(months_number, company)} \\n variação dias: {variacao(months)} ')"
   ]
  },
  {
   "cell_type": "code",
   "execution_count": 37,
   "metadata": {},
   "outputs": [
    {
     "data": {
      "application/vnd.jupyter.widget-view+json": {
       "model_id": "765c5644cf3f4cd3b7b9c100eb1a170e",
       "version_major": 2,
       "version_minor": 0
      },
      "text/plain": [
       "  0%|          | 0/2 [00:00<?, ?it/s]"
      ]
     },
     "metadata": {},
     "output_type": "display_data"
    },
    {
     "name": "stdout",
     "output_type": "stream",
     "text": [
      "Eixo Sp - Pavimento\n",
      "35\n",
      "15\n",
      "9.75\n",
      "17.5\n",
      "Afirma Engenharia Viária\n",
      "Eixo Sp - Pavimento\n",
      "0\n",
      "15\n",
      "0\n",
      "0\n",
      "Afirma Engenharia Viária\n"
     ]
    }
   ],
   "source": [
    "hs_month = []\n",
    "hs_month_export = {}\n",
    "for i in tqdm(range(len(months_number))):\n",
    "    hs = []\n",
    "    for n in range(len(road_companies)):\n",
    "        print(road_companies[n])\n",
    "        if uso_sistema[n][i] == 0:\n",
    "            hs.append(0)\n",
    "        else:\n",
    "            hs.append(\n",
    "                35*(uso_nota(uso_sistema[n][i])) \n",
    "                + 15*(qtt_nota(sem_quantitativos[n][i])) \n",
    "                + 15*(equipe_nota(equipes[n][i]))\n",
    "                + 35*(variacao_nota(variacao_dias[n][i]))\n",
    "            )\n",
    "            print(35 * uso_nota(uso_sistema[n][i]))\n",
    "            print(15 * qtt_nota(sem_quantitativos[n][i]))\n",
    "            print(15 * equipe_nota(equipes[n][i]))\n",
    "            print(35 * variacao_nota(variacao_dias[n][i]))\n",
    "        if not hs_month_export.get(road_companies[n]):\n",
    "            hs_month_export[road_companies[n]] = []\n",
    "        hs_month_export[road_companies[n]].append(hs[-1])\n",
    "\n",
    "    hs_month.append(hs)"
   ]
  },
  {
   "cell_type": "code",
   "execution_count": 38,
   "metadata": {},
   "outputs": [
    {
     "data": {
      "text/plain": [
       "{'Eixo Sp - Pavimento': [77.25, 15], 'Afirma Engenharia Viária': [0, 0]}"
      ]
     },
     "execution_count": 38,
     "metadata": {},
     "output_type": "execute_result"
    }
   ],
   "source": [
    "hs_month_export"
   ]
  },
  {
   "cell_type": "code",
   "execution_count": 39,
   "metadata": {},
   "outputs": [],
   "source": [
    "hs_novo = []\n",
    "for i in hs_month_export.values():\n",
    "    hs_novo.append(i[-1])"
   ]
  },
  {
   "cell_type": "code",
   "execution_count": 40,
   "metadata": {},
   "outputs": [
    {
     "data": {
      "text/plain": [
       "[15, 0]"
      ]
     },
     "execution_count": 40,
     "metadata": {},
     "output_type": "execute_result"
    }
   ],
   "source": [
    "hs_novo"
   ]
  },
  {
   "cell_type": "code",
   "execution_count": 20,
   "metadata": {},
   "outputs": [],
   "source": [
    "#with pd.ExcelWriter(\"hs2022piloto\" + '.xlsx') as writer:\n",
    "#    hs_excel = hs_tabela.to_excel(writer, index = False, sheet_name = \"Página 1\")"
   ]
  },
  {
   "cell_type": "code",
   "execution_count": 41,
   "metadata": {},
   "outputs": [],
   "source": [
    "df= pd.DataFrame(data=hs_month_export)\n",
    "df = df.transpose()"
   ]
  },
  {
   "cell_type": "code",
   "execution_count": 42,
   "metadata": {},
   "outputs": [
    {
     "data": {
      "text/html": [
       "<div>\n",
       "<style scoped>\n",
       "    .dataframe tbody tr th:only-of-type {\n",
       "        vertical-align: middle;\n",
       "    }\n",
       "\n",
       "    .dataframe tbody tr th {\n",
       "        vertical-align: top;\n",
       "    }\n",
       "\n",
       "    .dataframe thead th {\n",
       "        text-align: right;\n",
       "    }\n",
       "</style>\n",
       "<table border=\"1\" class=\"dataframe\">\n",
       "  <thead>\n",
       "    <tr style=\"text-align: right;\">\n",
       "      <th></th>\n",
       "      <th>Mês anterior</th>\n",
       "      <th>Atual</th>\n",
       "    </tr>\n",
       "  </thead>\n",
       "  <tbody>\n",
       "    <tr>\n",
       "      <th>Eixo Sp - Pavimento</th>\n",
       "      <td>77.25</td>\n",
       "      <td>15.0</td>\n",
       "    </tr>\n",
       "    <tr>\n",
       "      <th>Afirma Engenharia Viária</th>\n",
       "      <td>0.00</td>\n",
       "      <td>0.0</td>\n",
       "    </tr>\n",
       "  </tbody>\n",
       "</table>\n",
       "</div>"
      ],
      "text/plain": [
       "                          Mês anterior  Atual\n",
       "Eixo Sp - Pavimento              77.25   15.0\n",
       "Afirma Engenharia Viária          0.00    0.0"
      ]
     },
     "execution_count": 42,
     "metadata": {},
     "output_type": "execute_result"
    }
   ],
   "source": [
    "df.columns=['Mês anterior','Atual']\n",
    "df"
   ]
  },
  {
   "cell_type": "code",
   "execution_count": 22,
   "metadata": {},
   "outputs": [],
   "source": [
    "df.to_excel('hs.xlsx')"
   ]
  },
  {
   "cell_type": "code",
   "execution_count": null,
   "metadata": {},
   "outputs": [],
   "source": []
  }
 ],
 "metadata": {
  "kernelspec": {
   "display_name": "Django Shell-Plus",
   "language": "python",
   "name": "django_extensions"
  },
  "language_info": {
   "codemirror_mode": {
    "name": "ipython",
    "version": 3
   },
   "file_extension": ".py",
   "mimetype": "text/x-python",
   "name": "python",
   "nbconvert_exporter": "python",
   "pygments_lexer": "ipython3",
   "version": "3.8.16"
  }
 },
 "nbformat": 4,
 "nbformat_minor": 2
}
