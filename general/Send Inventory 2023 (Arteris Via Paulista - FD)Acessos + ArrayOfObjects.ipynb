{
 "cells": [
  {
   "cell_type": "code",
   "execution_count": 1,
   "metadata": {},
   "outputs": [],
   "source": [
    "import json\n",
    "import os\n",
    "from openpyxl import load_workbook\n",
    "from datetime import timedelta\n",
    "import random\n",
    "from copy import deepcopy\n",
    "from django.contrib.gis.geos import LineString, Point\n",
    "from django.contrib.admin.utils import flatten\n",
    "import math\n",
    "import datetime\n",
    "import locale\n",
    "from tqdm.notebook import tqdm\n",
    "from PIL import Image\n",
    "from io import BytesIO\n",
    "from django.contrib.gis.geos import Point, LineString as DjangoLineString\n",
    "import pytz"
   ]
  },
  {
   "cell_type": "code",
   "execution_count": 2,
   "metadata": {},
   "outputs": [],
   "source": [
    "from simple_history.utils import bulk_create_with_history\n",
    "from helpers.histories import bulk_update_with_history\n",
    "from openpyxl_image_loader import SheetImageLoader"
   ]
  },
  {
   "cell_type": "code",
   "execution_count": 3,
   "metadata": {},
   "outputs": [],
   "source": [
    "from helpers.route_maker import dic_to_ordered_list, unequal_point_pairs"
   ]
  },
  {
   "cell_type": "code",
   "execution_count": 4,
   "metadata": {},
   "outputs": [],
   "source": [
    "def km_to_coordinates(road, km):\n",
    "\n",
    "    road_marks = dic_to_ordered_list(road.marks)\n",
    "    selected_pair = None\n",
    "\n",
    "    for pair in unequal_point_pairs(road_marks):\n",
    "        if pair[0][\"km\"] > km and pair[1][\"km\"] < km:\n",
    "            selected_pair = pair\n",
    "            break\n",
    "        elif pair[1][\"km\"] > km and pair[0][\"km\"] < km:\n",
    "            selected_pair = pair\n",
    "            break\n",
    "        elif pair[0][\"km\"] == km:\n",
    "            return Point(pair[0][\"point\"][\"coordinates\"]), road\n",
    "        elif pair[1][\"km\"] == km:\n",
    "            return Point(pair[1][\"point\"][\"coordinates\"]), road\n",
    "\n",
    "    # Calculate total length\n",
    "    start_km = min([selected_pair[0][\"km\"], selected_pair[1][\"km\"]])\n",
    "    end_km = max([selected_pair[0][\"km\"], selected_pair[1][\"km\"]])\n",
    "    segment_mark_length = end_km - start_km\n",
    "    distance_from_min = km - start_km\n",
    "    # Check if km is decreasing\n",
    "    invert_km = selected_pair[1][\"km\"] <= selected_pair[0][\"km\"]\n",
    "\n",
    "    # Cut segment\n",
    "    start_key = min((selected_pair[0][\"index\"], selected_pair[1][\"index\"]))\n",
    "    end_key = max((selected_pair[0][\"index\"], selected_pair[1][\"index\"]))\n",
    "\n",
    "    points = []\n",
    "    for key in range(start_key, end_key + 1):\n",
    "        points.append(\n",
    "            Point(road.path[key][0], road.path[key][1], road.path[key][2])\n",
    "        )\n",
    "\n",
    "    segment = LineString(points, srid=4326)\n",
    "    # Apply km inversion correction\n",
    "    if invert_km:\n",
    "        segment_distance = (\n",
    "            1 - (distance_from_min / segment_mark_length)\n",
    "        ) * segment.length\n",
    "    else:\n",
    "        segment_distance = (\n",
    "            distance_from_min / segment_mark_length\n",
    "        ) * segment.length\n",
    "    # Find point\n",
    "    point = segment.interpolate(segment_distance)\n",
    "\n",
    "    return Point(point.x, point.y), road"
   ]
  },
  {
   "cell_type": "code",
   "execution_count": 5,
   "metadata": {},
   "outputs": [],
   "source": [
    "def check_valid_road(road, km):\n",
    "\n",
    "    road_marks = dic_to_ordered_list(road.marks)\n",
    "\n",
    "    for pair in unequal_point_pairs(road_marks):\n",
    "        if pair[0][\"km\"] >= km and pair[1][\"km\"] <= km:\n",
    "            return True\n",
    "        elif pair[1][\"km\"] >= km and pair[0][\"km\"] <= km:\n",
    "            return True\n",
    "\n",
    "    return False"
   ]
  },
  {
   "cell_type": "code",
   "execution_count": 6,
   "metadata": {},
   "outputs": [],
   "source": [
    "def get_road_coordinates(road_name, km, direction, company):\n",
    "    road_set = Road.objects.filter(\n",
    "        name__contains=road_name, direction=int(direction), company=company\n",
    "    )\n",
    "#     print(road_set)\n",
    "\n",
    "    # If roads in specified direction are not found, search road only\n",
    "    # by name and order then by direction\n",
    "    road_set_generic = Road.objects.filter(\n",
    "        name__contains=road_name, company=company\n",
    "    ).order_by(\"direction\")\n",
    "\n",
    "    # Check if KM range in road_set\n",
    "#     print(\"Searching KM on direction...\")\n",
    "    valid = False\n",
    "    for road in road_set:\n",
    "        if check_valid_road(road, km):\n",
    "#             print(\"Found KM on Road {}\".format(road))\n",
    "            valid = True\n",
    "            break\n",
    "\n",
    "    if not valid:\n",
    "#         print(\"Searching KM without direction...\")\n",
    "        for road in road_set_generic:\n",
    "            if check_valid_road(road, km):\n",
    "#                 print(\"Found KM on Road {}\".format(road))\n",
    "                valid = True\n",
    "                break\n",
    "\n",
    "    if not valid:\n",
    "        return Point(0, 0), None\n",
    "\n",
    "    try:\n",
    "        return km_to_coordinates(road, km)\n",
    "    except Exception:\n",
    "        return Point(0, 0), None"
   ]
  },
  {
   "cell_type": "code",
   "execution_count": 7,
   "metadata": {},
   "outputs": [],
   "source": [
    "def get_connected_reference(company, resource, key, value):\n",
    "    value=value.strip()\n",
    "    select_options = company.custom_options[resource]['fields'][key]['selectOptions']['options']\n",
    "    return next(a['value'] for a in select_options if a['name'].lower() == value.lower())"
   ]
  },
  {
   "cell_type": "code",
   "execution_count": 8,
   "metadata": {},
   "outputs": [],
   "source": [
    "def get_value(field, occ, value):\n",
    "    values = occ.form_fields['fields']\n",
    "    item_translation = flatten([item['selectOptions']['options'] for item in values if item['displayName']==field])\n",
    "#     print(item_translation)\n",
    "    if field == 'Nome da placa':\n",
    "        value=value.upper()\n",
    "    final_translation = {item['name']: item['value'] for item in item_translation}\n",
    "#     print(final_translation)\n",
    "    return final_translation[value]"
   ]
  },
  {
   "cell_type": "code",
   "execution_count": 9,
   "metadata": {},
   "outputs": [],
   "source": [
    "def get_sign(field, sign_field, occ, value):\n",
    "    if sign_field == 'Cor':\n",
    "        value=value.capitalize()\n",
    "    elif sign_field == 'Tipo de Película':\n",
    "        value=value.split(' ')[1]\n",
    "    values = occ.form_fields['fields']\n",
    "    item_translation = flatten([item['innerFields'] for item in values if item['displayName']==field])\n",
    "#     print(item_translation)\n",
    "    mid_translation = flatten([item['selectOptions']['options'] for item in item_translation if item['displayName'] == sign_field])\n",
    "#     print(mid_translation)\n",
    "    final_translation = {item['name']: item['value'] for item in mid_translation}\n",
    "#     print(final_translation)\n",
    "    return final_translation[value]"
   ]
  },
  {
   "cell_type": "code",
   "execution_count": 10,
   "metadata": {},
   "outputs": [
    {
     "name": "stdout",
     "output_type": "stream",
     "text": [
      "STAGE=PRODUCTION\r\n"
     ]
    }
   ],
   "source": [
    "!cat .env"
   ]
  },
  {
   "cell_type": "code",
   "execution_count": 11,
   "metadata": {},
   "outputs": [],
   "source": [
    "# filename = 'acessos_importacao_v2'\n",
    "filename='Acessos - SP 330 - 240+500 ao 318+000.r5' # 16/05/23"
   ]
  },
  {
   "cell_type": "code",
   "execution_count": 12,
   "metadata": {},
   "outputs": [
    {
     "name": "stderr",
     "output_type": "stream",
     "text": [
      "/home/luan/.cache/pypoetry/virtualenvs/apps-ZFymp6kh-py3.7/lib/python3.7/site-packages/openpyxl/worksheet/_reader.py:312: UserWarning: Data Validation extension is not supported and will be removed\n",
      "  warn(msg)\n"
     ]
    },
    {
     "data": {
      "text/plain": [
       "<Worksheet \"Acessos\">"
      ]
     },
     "execution_count": 12,
     "metadata": {},
     "output_type": "execute_result"
    }
   ],
   "source": [
    "wb = load_workbook(filename + '.xlsx')\n",
    "sheetname = wb.sheetnames[1]\n",
    "# sheetname\n",
    "ws = wb[sheetname]\n",
    "ws"
   ]
  },
  {
   "cell_type": "code",
   "execution_count": 13,
   "metadata": {},
   "outputs": [],
   "source": [
    "header = []\n",
    "values = []\n",
    "\n",
    "for index, row in enumerate(ws.rows):\n",
    "    if index == 0:\n",
    "        header = list([a.value for a in row])\n",
    "        continue\n",
    "    obj = {}\n",
    "    for col_index, cell in enumerate(row):\n",
    "        value = cell.value\n",
    "        obj[header[col_index]] = value\n",
    "        \n",
    "    values.append(obj)"
   ]
  },
  {
   "cell_type": "code",
   "execution_count": 14,
   "metadata": {},
   "outputs": [
    {
     "data": {
      "text/plain": [
       "(<Company: ec364a8e-b335-4729-8ac8-50ccabd73459: Arteris Via Paulista - Faixa de Domínio>,\n",
       " <OccurrenceType: Acessos - ['Arteris Via Paulista - Faixa de Domínio']>,\n",
       " <Firm: [ec364a8e-b335-4729-8ac8-50ccabd73459: Arteris Via Paulista - Faixa de Domínio] 5d9b180c-22d3-4e8a-a887-de3cfe7c4cc9: Coordenadores Faixa>,\n",
       " <ServiceOrderActionStatus: Resolvido - REPORTING_STATUS>)"
      ]
     },
     "execution_count": 14,
     "metadata": {},
     "output_type": "execute_result"
    }
   ],
   "source": [
    "company = Company.objects.get(name='Arteris Via Paulista - Faixa de Domínio')\n",
    "\n",
    "occurrence_type=OccurrenceType.objects.get(uuid='7c44852b-84d8-453f-bfc9-d3e2e92602b2')\n",
    "equipe=Firm.objects.get(name=\"Coordenadores Faixa\", company=company)\n",
    "status=ServiceOrderActionStatus.objects.get(name='Resolvido',companies=company)\n",
    "user=User.objects.get(username='rlcs')\n",
    "utc = pytz.timezone('America/Sao_Paulo')\n",
    "company,occurrence_type,equipe,status"
   ]
  },
  {
   "cell_type": "code",
   "execution_count": 15,
   "metadata": {},
   "outputs": [
    {
     "data": {
      "text/plain": [
       "(232,\n",
       " {'km': 240.56,\n",
       "  'km final': None,\n",
       "  'km de Projeto': None,\n",
       "  'km final de Projeto': None,\n",
       "  'Status': 'Resolvido',\n",
       "  'Equipe/Empreiteira': 'Coordenadores Faixa',\n",
       "  'Encontrado em': None,\n",
       "  'Executado em': None,\n",
       "  'Prazo': None,\n",
       "  'Sentido': 'Sul',\n",
       "  'Classe': 'Acessos',\n",
       "  'Faixa': 'Faixa 1',\n",
       "  'Pista': 'Tronco Dupla',\n",
       "  'km de referência': None,\n",
       "  'Ramo': None,\n",
       "  'Rodovia': 'SP-330',\n",
       "  'Código Do Acesso': 'SP330 - 01 - S',\n",
       "  'Código Novo': '029-C-SP330-240-S01',\n",
       "  'Lote': 29,\n",
       "  'Tipo Da Obra': 'Concessão SP 330',\n",
       "  'Localização': 240.56,\n",
       "  'Latitude': -21.75879,\n",
       "  'Longitude': -47.560935,\n",
       "  'Cidade': 'Santa Rita do Passa Quatro',\n",
       "  'Interessado': 'Roberto Missiatto',\n",
       "  'Matrícula': 17573,\n",
       "  'Cri': 'CRI Santa Rita do Passa Quatro ',\n",
       "  'Tipo Do Acesso': 'Simples',\n",
       "  'Classificação': 'Comercial',\n",
       "  'Atividade Do Acesso': 'Particular',\n",
       "  'Atividade': 'D01',\n",
       "  'Autorizado?': 'NÃO',\n",
       "  'Nº Protocolo Artesp': None,\n",
       "  'Nº Processo Artesp': None,\n",
       "  'Termo De Autorização': 'Não Autorizado',\n",
       "  'Expediente': 'Não Autorizado',\n",
       "  'Executado Conforme Projeto Aprovado E Autorizado?': 'NÃO',\n",
       "  'Atende As Normas Atuais?': 'NÃO',\n",
       "  'Estado De Conservação': 'Ruim',\n",
       "  'Nº Projeto D\" \"9': 'DE-SP0000330-241.240-529-D09-053-Ra',\n",
       "  'Status Projeto D\" \"9': 'Em análise / aprovação',\n",
       "  'Procedimento': 'Mantido',\n",
       "  'Solução': 'Acesso a ser mantido',\n",
       "  'Priorização?': 'NÃO',\n",
       "  'Contato': 'Roberto Missiatto',\n",
       "  'Telefone': '(19) 3582-1897',\n",
       "  'E-Mail': 'rmissiatto@uol.com.br',\n",
       "  'Endereço Para Envio De Correspondência': 'Rua Joaquim Vitor, 223 - Santa Rita do Passa Quatro/SP - CEP 13670-000',\n",
       "  'Notificado?': 'SIM',\n",
       "  'Número Carta Notificações_1': None,\n",
       "  'Data Notificações_1': datetime.datetime(2020, 8, 6, 0, 0),\n",
       "  'Número Protocolo Notificações_1': 'JU865625135BR\\xa0',\n",
       "  'Recebido Por Notificações_1': datetime.datetime(2020, 8, 13, 0, 0),\n",
       "  'Número Carta Notificações_2': None,\n",
       "  'Data Notificações_2': datetime.datetime(2021, 1, 22, 0, 0),\n",
       "  'Número Protocolo Notificações_2': 'BR054560856BR',\n",
       "  'Recebido Por Notificações_2': 'FALTA AR',\n",
       "  'Número Carta Notificações_3': None,\n",
       "  'Data Notificações_3': None,\n",
       "  'Número Protocolo Notificações_3': None,\n",
       "  'Recebido Por Notificações_3': None,\n",
       "  'Número Carta Termo de ciência_1': None,\n",
       "  'Data Termo de ciência_1': None,\n",
       "  'Número Protocolo Termo de ciência_1': None,\n",
       "  'Recebido Por Termo de ciência_1': None,\n",
       "  'Número Carta Termo de ciência_2': None,\n",
       "  'Data Termo de ciência_2': None,\n",
       "  'Número Protocolo Termo de ciência_2': None,\n",
       "  'Recebido Por Termo de ciência_2': None,\n",
       "  'Número Carta Termo de ciência_3': None,\n",
       "  'Data Termo de ciência_3': None,\n",
       "  'Número Protocolo Termo de ciência_3': None,\n",
       "  'Recebido Por Termo de ciência_3': None,\n",
       "  'Número Carta Termo de anuência_1': None,\n",
       "  'Data Termo de anuência_1': None,\n",
       "  'Número Protocolo Termo de anuência_1': None,\n",
       "  'Recebido Por Termo de anuência_1': None,\n",
       "  'Número Carta Termo de anuência_2': None,\n",
       "  'Data Termo de anuência_2': None,\n",
       "  'Número Protocolo Termo de anuência_2': None,\n",
       "  'Recebido Por Termo de anuência_2': None,\n",
       "  'Observações': None,\n",
       "  'Recurso_1': None,\n",
       "  'Quantidade_1': None,\n",
       "  'Recurso_2': None,\n",
       "  'Quantidade_2': None,\n",
       "  'Recurso_3': None,\n",
       "  'Quantidade_3': None,\n",
       "  'Recurso_4': None,\n",
       "  'Quantidade_4': None,\n",
       "  'Recurso_5': None,\n",
       "  'Quantidade_5': None,\n",
       "  'Recurso_6': None,\n",
       "  'Quantidade_6': None,\n",
       "  'Recurso_7': None,\n",
       "  'Quantidade_7': None,\n",
       "  'Recurso_8': None,\n",
       "  'Quantidade_8': None,\n",
       "  'Recurso_9': None,\n",
       "  'Quantidade_9': None,\n",
       "  'Recurso_1\" \"': None,\n",
       "  'Quantidade_1\" \"': None,\n",
       "  'Foto_1': None,\n",
       "  'Data Foto_1': None,\n",
       "  'Tipo Foto_1': None,\n",
       "  'Descrição Foto_1': None,\n",
       "  'Foto_2': None,\n",
       "  'Data Foto_2': None,\n",
       "  'Tipo Foto_2': None,\n",
       "  'Descrição Foto_2': None,\n",
       "  'Foto_3': None,\n",
       "  'Data Foto_3': None,\n",
       "  'Tipo Foto_3': None,\n",
       "  'Descrição Foto_3': None,\n",
       "  'Foto_4': None,\n",
       "  'Data Foto_4': None,\n",
       "  'Tipo Foto_4': None,\n",
       "  'Descrição Foto_4': None,\n",
       "  'Foto_5': None,\n",
       "  'Data Foto_5': None,\n",
       "  'Tipo Foto_5': None,\n",
       "  'Descrição Foto_5': None,\n",
       "  'Foto_6': None,\n",
       "  'Data Foto_6': None,\n",
       "  'Tipo Foto_6': None,\n",
       "  'Descrição Foto_6': None,\n",
       "  'Foto_7': None,\n",
       "  'Data Foto_7': None,\n",
       "  'Tipo Foto_7': None,\n",
       "  'Descrição Foto_7': None,\n",
       "  'Foto_8': None,\n",
       "  'Data Foto_8': None,\n",
       "  'Tipo Foto_8': None,\n",
       "  'Descrição Foto_8': None,\n",
       "  'Foto_9': None,\n",
       "  'Data Foto_9': None,\n",
       "  'Tipo Foto_9': None,\n",
       "  'Descrição Foto_9': None,\n",
       "  'Foto_1\" \"': None,\n",
       "  'Data Foto_1\" \"': None,\n",
       "  'Tipo Foto_1\" \"': None,\n",
       "  'Descrição Foto_1\" \"': None})"
      ]
     },
     "execution_count": 15,
     "metadata": {},
     "output_type": "execute_result"
    }
   ],
   "source": [
    "len(values),values[0]"
   ]
  },
  {
   "cell_type": "code",
   "execution_count": 16,
   "metadata": {},
   "outputs": [
    {
     "data": {
      "application/vnd.jupyter.widget-view+json": {
       "model_id": "b74153cb5a9f4eb8aeb884d4a31cfad0",
       "version_major": 2,
       "version_minor": 0
      },
      "text/plain": [
       "  0%|          | 0/232 [00:00<?, ?it/s]"
      ]
     },
     "metadata": {},
     "output_type": "display_data"
    }
   ],
   "source": [
    "for a in tqdm(values):\n",
    "    a['Data Notificações_1'] = None if a['Data Notificações_1'] == '' or  a['Data Notificações_1'] == ' ' or  a['Data Notificações_1'] == '  ' else a['Data Notificações_1']\n",
    "    a['Data Notificações_2'] = None if a['Data Notificações_2'] == '' or  a['Data Notificações_2'] == ' ' or  a['Data Notificações_2'] == '  ' else a['Data Notificações_2']\n",
    "    a['Data Notificações_3'] = None if a['Data Notificações_3'] == '' or  a['Data Notificações_3'] == ' ' or  a['Data Notificações_3'] == '  ' else a['Data Notificações_3']\n",
    "    a['Notificacao'] = list(filter(None, [{'letter_number_notification_step': a['Número Carta Notificações_1'], 'data_notification_step': a['Data Notificações_1'].strftime('%Y-%m-%dT03:00:00.000Z') if a['Data Notificações_1'] != ' ' and a['Data Notificações_1'] != '  ' else None, 'ar_notification_step': a['Número Protocolo Notificações_1'], 'recebido_por_notification_step': str(a['Recebido Por Notificações_1'])} if a['Data Notificações_1'] is not None and a['Data Notificações_1'] != ' ' and a['Data Notificações_1'] != '  ' else None,\n",
    "                                  {'letter_number_notification_step': a['Número Carta Notificações_2'], 'data_notification_step': a['Data Notificações_2'].strftime('%Y-%m-%dT03:00:00.000Z') if a['Data Notificações_2'] != ' ' and a['Data Notificações_2'] != '  ' else None, 'ar_notification_step': a['Número Protocolo Notificações_2'], 'recebido_por_notification_step': str(a['Recebido Por Notificações_2'])} if a['Data Notificações_2'] is not None and a['Data Notificações_2'] != ' ' and a['Data Notificações_2'] != '  '  else None,\n",
    "                                  {'letter_number_notification_step': a['Número Carta Notificações_3'], 'data_notification_step': a['Data Notificações_3'].strftime('%Y-%m-%dT03:00:00.000Z') if a['Data Notificações_3'] != ' ' and a['Data Notificações_3'] != '  ' else None, 'ar_notification_step': a['Número Protocolo Notificações_3'], 'recebido_por_notification_step': str(a['Recebido Por Notificações_3'])} if a['Data Notificações_3'] is not None and a['Data Notificações_3'] != ' ' and a['Data Notificações_3'] != '  '  else None]))"
   ]
  },
  {
   "cell_type": "code",
   "execution_count": 17,
   "metadata": {},
   "outputs": [
    {
     "data": {
      "application/vnd.jupyter.widget-view+json": {
       "model_id": "cae573ab223146028f149d2f5e83fd2b",
       "version_major": 2,
       "version_minor": 0
      },
      "text/plain": [
       "  0%|          | 0/232 [00:00<?, ?it/s]"
      ]
     },
     "metadata": {},
     "output_type": "display_data"
    }
   ],
   "source": [
    "for a in tqdm(values):\n",
    "    a['Data Termo de ciência_1'] = None if a['Data Termo de ciência_1'] == '' or a['Data Termo de ciência_1'] == ' ' or a['Data Termo de ciência_1'] == '  ' or a['Data Termo de ciência_1'] == '-' else a['Data Termo de ciência_1']\n",
    "    a['Data Termo de ciência_2'] = None if a['Data Termo de ciência_2'] == '' or a['Data Termo de ciência_2'] == ' ' or a['Data Termo de ciência_2'] == '  ' or a['Data Termo de ciência_2'] == '-' else a['Data Termo de ciência_2']\n",
    "    a['Data Termo de ciência_3'] = None if a['Data Termo de ciência_3'] == '' or a['Data Termo de ciência_3'] == ' ' or a['Data Termo de ciência_3'] == '  ' or a['Data Termo de ciência_3'] == '-' else a['Data Termo de ciência_3']\n",
    "    a['Termo Ciencia'] = list(filter(None, [{'letter_number_cience_step': a['Número Carta Termo de ciência_1'], 'data_cience_step': a['Data Termo de ciência_1'].strftime('%Y-%m-%dT03:00:00.000Z') if a['Data Termo de ciência_1'] != ' ' and a['Data Termo de ciência_1'] != '  ' else None, 'ar_cience_step': a['Número Protocolo Termo de ciência_1'], 'recebido_por_cience_step': a['Recebido Por Termo de ciência_1']} if a['Data Termo de ciência_1'] is not None and a['Data Termo de ciência_1'] != ' ' and a['Data Termo de ciência_1'] != '  ' else None,\n",
    "                                  {'letter_number_cience_step': a['Número Carta Termo de ciência_2'], 'data_cience_step': a['Data Termo de ciência_2'].strftime('%Y-%m-%dT03:00:00.000Z') if a['Data Termo de ciência_2'] != ' ' and a['Data Termo de ciência_2'] != '  ' else None, 'ar_cience_step': a['Número Protocolo Termo de ciência_2'], 'recebido_por_cience_step': a['Recebido Por Termo de ciência_2']} if a['Data Termo de ciência_2'] is not None and a['Data Termo de ciência_2'] != ' ' and a['Data Termo de ciência_2'] != '  ' else None,\n",
    "                                  {'letter_number_cience_step': a['Número Carta Termo de ciência_3'], 'data_cience_step': a['Data Termo de ciência_3'].strftime('%Y-%m-%dT03:00:00.000Z') if a['Data Termo de ciência_3'] != ' ' and a['Data Termo de ciência_3'] != '  ' else None, 'ar_cience_step': a['Número Protocolo Termo de ciência_3'], 'recebido_por_cience_step': a['Recebido Por Termo de ciência_3']} if a['Data Termo de ciência_3'] is not None  and a['Data Termo de ciência_3'] != ' ' and a['Data Termo de ciência_3'] != '  ' else None]))"
   ]
  },
  {
   "cell_type": "code",
   "execution_count": 18,
   "metadata": {},
   "outputs": [
    {
     "data": {
      "application/vnd.jupyter.widget-view+json": {
       "model_id": "828b30342a6b4b92a9e7f51b14eac402",
       "version_major": 2,
       "version_minor": 0
      },
      "text/plain": [
       "  0%|          | 0/232 [00:00<?, ?it/s]"
      ]
     },
     "metadata": {},
     "output_type": "display_data"
    }
   ],
   "source": [
    "for a in tqdm(values):\n",
    "    a['Termo Anuencia'] = list(filter(None, [{'letter_number_anuence_step': a['Número Carta Termo de anuência_1'], 'data_anuence_step': a['Data Termo de anuência_1'].strftime('%Y-%m-%dT03:00:00.000Z') if a['Data Termo de anuência_1'] and a['Data Termo de anuência_1'] != ' ' else None, 'ar_anuence_step': a['Número Protocolo Termo de anuência_1'], 'recebido_por_anuence_step': a['Recebido Por Termo de anuência_1']} if a['Data Termo de anuência_1'] is not None and a['Data Termo de anuência_1'] != ' ' and a['Data Termo de anuência_1'] != '  ' else None,\n",
    "                                  {'letter_number_anuence_step': a['Número Carta Termo de anuência_2'], 'data_anuence_step': a['Data Termo de anuência_2'].strftime('%Y-%m-%dT03:00:00.000Z') if a['Data Termo de anuência_2'] and a['Data Termo de anuência_2'] != ' ' else None, 'ar_anuence_step': a['Número Protocolo Termo de anuência_2'], 'recebido_por_anuence_step': a['Recebido Por Termo de anuência_2']} if a['Data Termo de anuência_2'] is not None and a['Data Termo de anuência_2'] != ' ' and a['Data Termo de anuência_2'] != '  ' else None]))"
   ]
  },
  {
   "cell_type": "code",
   "execution_count": 23,
   "metadata": {},
   "outputs": [],
   "source": [
    "for a in values:\n",
    "    if a['Procedimento'] is not None:\n",
    "        a['Procedimento'] = a['Procedimento'].capitalize()\n",
    "    if a.get('Status Projeto D\" \"9'):\n",
    "        a['Status Projeto D09'] = a.pop('Status Projeto D\" \"9')\n",
    "    if a.get('Nº Projeto D\" \"9'):\n",
    "        a['Nº Projeto D09'] = a.pop('Nº Projeto D\" \"9')\n",
    "    if a.get('Status Projeto D09') == 'Em análise / aprovação':\n",
    "        a['Status Projeto D09'] = 'Em Análise/Aprovação'\n",
    "    if a.get('Status Projeto D09') == 'Pendente elaborar':\n",
    "        a['Status Projeto D09'] = a['Status Projeto D09'].title()\n",
    "    if a['Priorização?'] is None or a['Priorização?'] == \" \":\n",
    "        a['Priorização?'] = \"Não\"\n",
    "    if a['Classificação'] == 'Não comercial':\n",
    "        a['Classificação'] = 'Não Comercial'\n",
    "    if a['Cidade'] == 'São carlos':\n",
    "        a['Cidade'] = 'São Carlos'\n",
    "    if a['Cidade'] == 'Patrocinio Paulista':\n",
    "        a['Cidade'] = 'Patrocínio Paulista'\n",
    "    if a['Tipo Do Acesso'] == 'Compatilhado':\n",
    "        a['Tipo Do Acesso'] = 'Compartilhado'\n",
    "    else:\n",
    "        continue"
   ]
  },
  {
   "cell_type": "code",
   "execution_count": 30,
   "metadata": {},
   "outputs": [],
   "source": [
    "# point, road = get_road_coordinates(values[144]['Rodovia'], values[144]['km'], str(get_connected_reference(company, 'reporting', 'direction', values[144]['Sentido'].capitalize())) , company)\n",
    "# print(values[144]['Rodovia'],values[143]['Rodovia'],road)"
   ]
  },
  {
   "cell_type": "code",
   "execution_count": 25,
   "metadata": {},
   "outputs": [
    {
     "data": {
      "application/vnd.jupyter.widget-view+json": {
       "model_id": "3de6356a2c0542b99dd9498ba1cb8d1f",
       "version_major": 2,
       "version_minor": 0
      },
      "text/plain": [
       "  0%|          | 0/232 [00:00<?, ?it/s]"
      ]
     },
     "metadata": {},
     "output_type": "display_data"
    },
    {
     "ename": "AttributeError",
     "evalue": "'NoneType' object has no attribute 'capitalize'",
     "output_type": "error",
     "traceback": [
      "\u001b[0;31m---------------------------------------------------------------------------\u001b[0m",
      "\u001b[0;31mAttributeError\u001b[0m                            Traceback (most recent call last)",
      "\u001b[0;32m/tmp/ipykernel_72339/343153281.py\u001b[0m in \u001b[0;36m<module>\u001b[0;34m\u001b[0m\n\u001b[1;32m      3\u001b[0m \u001b[0;32mfor\u001b[0m \u001b[0mindex\u001b[0m\u001b[0;34m,\u001b[0m \u001b[0ma\u001b[0m \u001b[0;32min\u001b[0m \u001b[0menumerate\u001b[0m\u001b[0;34m(\u001b[0m\u001b[0mtqdm\u001b[0m\u001b[0;34m(\u001b[0m\u001b[0mvalues\u001b[0m\u001b[0;34m)\u001b[0m\u001b[0;34m)\u001b[0m\u001b[0;34m:\u001b[0m\u001b[0;34m\u001b[0m\u001b[0;34m\u001b[0m\u001b[0m\n\u001b[1;32m      4\u001b[0m \u001b[0;34m\u001b[0m\u001b[0m\n\u001b[0;32m----> 5\u001b[0;31m     \u001b[0mpoint\u001b[0m\u001b[0;34m,\u001b[0m \u001b[0mroad\u001b[0m \u001b[0;34m=\u001b[0m \u001b[0mget_road_coordinates\u001b[0m\u001b[0;34m(\u001b[0m\u001b[0ma\u001b[0m\u001b[0;34m[\u001b[0m\u001b[0;34m'Rodovia'\u001b[0m\u001b[0;34m]\u001b[0m\u001b[0;34m,\u001b[0m \u001b[0ma\u001b[0m\u001b[0;34m[\u001b[0m\u001b[0;34m'km'\u001b[0m\u001b[0;34m]\u001b[0m\u001b[0;34m,\u001b[0m \u001b[0mstr\u001b[0m\u001b[0;34m(\u001b[0m\u001b[0mget_connected_reference\u001b[0m\u001b[0;34m(\u001b[0m\u001b[0mcompany\u001b[0m\u001b[0;34m,\u001b[0m \u001b[0;34m'reporting'\u001b[0m\u001b[0;34m,\u001b[0m \u001b[0;34m'direction'\u001b[0m\u001b[0;34m,\u001b[0m \u001b[0ma\u001b[0m\u001b[0;34m[\u001b[0m\u001b[0;34m'Sentido'\u001b[0m\u001b[0;34m]\u001b[0m\u001b[0;34m.\u001b[0m\u001b[0mcapitalize\u001b[0m\u001b[0;34m(\u001b[0m\u001b[0;34m)\u001b[0m\u001b[0;34m)\u001b[0m\u001b[0;34m)\u001b[0m \u001b[0;34m,\u001b[0m \u001b[0mcompany\u001b[0m\u001b[0;34m)\u001b[0m\u001b[0;34m\u001b[0m\u001b[0;34m\u001b[0m\u001b[0m\n\u001b[0m\u001b[1;32m      6\u001b[0m     \u001b[0;32mif\u001b[0m \u001b[0mroad\u001b[0m \u001b[0;34m==\u001b[0m \u001b[0;32mNone\u001b[0m\u001b[0;34m:\u001b[0m\u001b[0;34m\u001b[0m\u001b[0;34m\u001b[0m\u001b[0m\n\u001b[1;32m      7\u001b[0m         \u001b[0mroad_manipulada\u001b[0m \u001b[0;34m=\u001b[0m \u001b[0ma\u001b[0m\u001b[0;34m[\u001b[0m\u001b[0;34m'Rodovia'\u001b[0m\u001b[0;34m]\u001b[0m\u001b[0;34m.\u001b[0m\u001b[0msplit\u001b[0m\u001b[0;34m(\u001b[0m\u001b[0;34m' - '\u001b[0m\u001b[0;34m)\u001b[0m\u001b[0;34m[\u001b[0m\u001b[0;36m0\u001b[0m\u001b[0;34m]\u001b[0m\u001b[0;34m.\u001b[0m\u001b[0mreplace\u001b[0m\u001b[0;34m(\u001b[0m\u001b[0;34m' '\u001b[0m\u001b[0;34m,\u001b[0m\u001b[0;34m'-'\u001b[0m\u001b[0;34m)\u001b[0m\u001b[0;34m\u001b[0m\u001b[0;34m\u001b[0m\u001b[0m\n",
      "\u001b[0;31mAttributeError\u001b[0m: 'NoneType' object has no attribute 'capitalize'"
     ]
    }
   ],
   "source": [
    "objects=[]\n",
    "\n",
    "for index, a in enumerate(tqdm(values)):\n",
    "\n",
    "    point, road = get_road_coordinates(a['Rodovia'], a['km'], str(get_connected_reference(company, 'reporting', 'direction', a['Sentido'].capitalize())) , company)\n",
    "    if road == None:\n",
    "        road_manipulada = a['Rodovia'].split(' - ')[0].replace(' ','-')\n",
    "        print(road_manipulada)\n",
    "        point, road = get_road_coordinates(road_manipulada, a['km'], str(get_connected_reference(company, 'reporting', 'direction', a['Sentido'].capitalize())) , company)\n",
    "#     print(road.name)\n",
    "    try:\n",
    "        objects.append(Reporting(\n",
    "                    company=company,\n",
    "                    firm=equipe,\n",
    "                    occurrence_type=occurrence_type,\n",
    "                    lane=get_connected_reference(company, 'reporting', 'lane', 'Faixa 1'),\n",
    "                    road=road,\n",
    "                    road_name=road.name,\n",
    "                    direction=get_connected_reference(company, 'reporting', 'direction', a['Sentido'].capitalize()),\n",
    "                    created_by=user,\n",
    "                    status=status,\n",
    "#                     found_at=datetime.datetime(2023, 5, 16, 0, 0).replace(tzinfo=utc),\n",
    "                    km=a['km'],\n",
    "#                     end_km=a['km final'],\n",
    "                    point=point,\n",
    "                    form_data={\n",
    "                        'cod_novo': a['Código Novo'],\n",
    "                        'cod_acesso': a['Código Do Acesso'],\n",
    "                        'lote': a['Lote'],\n",
    "                        'tipo_da_obra': a['Tipo Da Obra'],\n",
    "                        'localization': a['Localização'] if a['Localização'] is not None else None,\n",
    "                        'latitude': a['Latitude'],\n",
    "                        'longitude': a['Longitude'],\n",
    "                        'city': get_value('Cidade',occurrence_type,a['Cidade'].strip()) if 'Cidade' in a else None,\n",
    "                        'interessado': a['Interessado'],\n",
    "                        'matricula': str(a['Matrícula']) if a['Matrícula'] is not '-' else None,\n",
    "                        'cri': str(a['Cri']) if type(a['Cri']) is str and a['Cri'] != '-' else None,\n",
    "                        'tipo_acesso': get_value('Tipo Do Acesso',occurrence_type,a['Tipo Do Acesso']) if 'Tipo Do Acesso' in a else None,\n",
    "                        'classificacao': get_value('Classificação',occurrence_type,a['Classificação']) if 'Classificação' in a else None,\n",
    "                        'atividade_do_acesso': get_value('Atividade Do Acesso',occurrence_type,a['Atividade Do Acesso']) if 'Atividade Do Acesso' in a else None,\n",
    "                        'atividade': get_value('Atividade',occurrence_type,a['Atividade'].rstrip()) if 'Atividade' in a and a['Atividade'] is not None and a['Atividade'] != ' ' else None,\n",
    "                        'autorizado': True if a['Autorizado?'].lower() == \"sim\" else False,\n",
    "                        'n_protocolo_artesp': str(a['Nº Protocolo Artesp']),\n",
    "                        'n_processo_artesp': str(a['Nº Processo Artesp']),\n",
    "                        'termo_autorizacao': a['Termo De Autorização'],\n",
    "                        'expediente': a['Expediente'],\n",
    "                        'executado_conforme': True if a['Executado Conforme Projeto Aprovado E Autorizado?'].lower() == \"sim\" else False,\n",
    "                        'atende_normas': True if a['Atende As Normas Atuais?'].lower() == \"sim\" else False,\n",
    "                        'estado_conserva': get_value('Estado De Conservação',occurrence_type,a['Estado De Conservação'].capitalize().strip()) if 'Estado De Conservação' in a and a['Estado De Conservação'].lower() != 'n/a' else None,\n",
    "                        'n_projeto': a['Nº Projeto D09'],\n",
    "                        'status_projeto': get_value('Status Projeto D09',occurrence_type,a['Status Projeto D09'])if a['Status Projeto D09'] and a['Status Projeto D09'] != ' ' else None,\n",
    "                        'procedimento': get_value('Procedimento',occurrence_type,a['Procedimento']) if 'Procedimento' in a and a['Procedimento'] != ' ' else None,\n",
    "                        'solucao': a['Solução'],\n",
    "                        'priorizacao': True if a['Priorização?'].lower() == \"sim\" else False,\n",
    "                        'contato': a['Contato'],\n",
    "                        'telefone': a['Telefone'],\n",
    "                        'email': a['E-Mail'],\n",
    "                        'endereco': a['Endereço Para Envio De Correspondência'],\n",
    "                        'notificado': True if a['Notificado?'].lower() == \"sim\" else False,\n",
    "                        'notification': a['Notificacao'],\n",
    "                        'cience': a['Termo Ciencia'],\n",
    "                        'anuence': a['Termo Anuencia'],\n",
    "                        'notes': a['Observações'],\n",
    "                        },\n",
    "                    ))\n",
    "    except Exception as e:\n",
    "#         exception_type, exception_object, exception_traceback = sys.exc_info()\n",
    "#         line_number = exception_traceback.tb_lineno\n",
    "#         if a[\"Rodovia\"] == 'SP-310':\n",
    "#             print(f'AQUI: Km não existe no sistema: {a[\"km\"]} | Rodovia não existe no sistema: {a[\"Rodovia\"]} | Linha da Planilha: {index+2} | {road} | {road_manipulada}')\n",
    "#             continue\n",
    "        print(f'AQUI: Km: {a[\"km\"]} | Rodovia: {a[\"Rodovia\"]} | Linha da Planilha: {index+2} erro: {e}')\n",
    "        print(objects.form_data)\n",
    "        pass"
   ]
  },
  {
   "cell_type": "code",
   "execution_count": 26,
   "metadata": {},
   "outputs": [
    {
     "data": {
      "text/plain": [
       "{'_state': <django.db.models.base.ModelState at 0x7f66f225aa50>,\n",
       " 'uuid': UUID('df2a0142-869d-4d20-b5a2-0a905c490d98'),\n",
       " 'number': '',\n",
       " 'company_id': UUID('ec364a8e-b335-4729-8ac8-50ccabd73459'),\n",
       " 'road_name': 'SP-330',\n",
       " 'road_id': 1926,\n",
       " 'km': 317.704,\n",
       " 'end_km': None,\n",
       " 'km_reference': None,\n",
       " 'project_km': 0,\n",
       " 'project_end_km': None,\n",
       " 'point': <Point object at 0x7f66f1fa5490>,\n",
       " 'direction': '0',\n",
       " 'lane': '1',\n",
       " 'track': None,\n",
       " 'branch': None,\n",
       " 'address': {},\n",
       " 'created_by_id': UUID('508a66f3-3f58-4c4e-bc9a-fbba6078c02d'),\n",
       " 'firm_id': UUID('5d9b180c-22d3-4e8a-a887-de3cfe7c4cc9'),\n",
       " 'occurrence_type_id': UUID('7c44852b-84d8-453f-bfc9-d3e2e92602b2'),\n",
       " 'form_data': {'cod_novo': '029-N-SP330-317-N02',\n",
       "  'lote': 29,\n",
       "  'tipo_da_obra': 'Implantação da Faixa Adicional do km 304+000 ao km 318+500',\n",
       "  'localization': 317.704,\n",
       "  'latitude': -21.117926,\n",
       "  'longitude': -47.774127,\n",
       "  'city': '19',\n",
       "  'interessado': 'Reserva Regatas Loteamento LTDA - Lemos Palma Agricola e Empreendimentos LTDA',\n",
       "  'matricula': '178329',\n",
       "  'cri': '2° CRI Ribeirão Preto',\n",
       "  'tipo_acesso': '3',\n",
       "  'classificacao': '2',\n",
       "  'atividade_do_acesso': '1',\n",
       "  'atividade': '28',\n",
       "  'autorizado': True,\n",
       "  'n_protocolo_artesp': '330.302/16',\n",
       "  'n_processo_artesp': '2019-PVPT.116 (332.16)',\n",
       "  'termo_autorizacao': '007/2020',\n",
       "  'expediente': 'NA',\n",
       "  'executado_conforme': False,\n",
       "  'atende_normas': False,\n",
       "  'estado_conserva': '1',\n",
       "  'n_projeto': 'DE-SP0000330-318.317-529-D09-001-Ra',\n",
       "  'status_projeto': '2',\n",
       "  'procedimento': '2',\n",
       "  'solucao': 'Acesso a ser mantido',\n",
       "  'priorizacao': False,\n",
       "  'contato': 'Thiago Almeida da Silva e Silva (Responsável Técnico)',\n",
       "  'telefone': '',\n",
       "  'email': 'almeidathiago@vivaurba.com.br',\n",
       "  'endereco': 'Avenida Braz Olaia Acosta, 727, Sala 307 - Jardim Califórnia - Ribeirão Preto/SP - CEP 14026-040',\n",
       "  'notificado': False,\n",
       "  'notification': [],\n",
       "  'cience': [],\n",
       "  'anuence': [],\n",
       "  'notes': None},\n",
       " 'form_metadata': {},\n",
       " 'executed_at': None,\n",
       " 'created_at': None,\n",
       " 'updated_at': None,\n",
       " 'found_at': datetime.datetime(2023, 8, 23, 18, 35, 48, 446699, tzinfo=<UTC>),\n",
       " 'due_at': None,\n",
       " 'status_id': UUID('bf7270da-8d1c-456e-8b37-bd2800b91165'),\n",
       " 'job_id': None,\n",
       " 'parent_id': None,\n",
       " 'active_inspection_id': None,\n",
       " 'due_at_manually_specified': False,\n",
       " 'end_km_manually_specified': False,\n",
       " 'project_end_km_manually_specified': False,\n",
       " 'editable': True,\n",
       " 'approval_step_id': None,\n",
       " 'keywords': '',\n",
       " 'lot': None,\n",
       " 'technical_opinion': None,\n",
       " 'construction_id': None,\n",
       " 'pdf_import_id': None,\n",
       " '_fieldsignals_originals': {(140080630173456,\n",
       "   140080668230288): {'uuid': UUID('df2a0142-869d-4d20-b5a2-0a905c490d98'), 'number': '', 'company': UUID('ec364a8e-b335-4729-8ac8-50ccabd73459'), 'road_name': 'SP-330', 'road': 1926, 'km': 317.704, 'project_km': 0.0, 'point': <Point object at 0x7f66f2286d90>, 'direction': '0', 'lane': '1', 'address': {}, 'created_by': UUID('508a66f3-3f58-4c4e-bc9a-fbba6078c02d'), 'firm': UUID('5d9b180c-22d3-4e8a-a887-de3cfe7c4cc9'), 'occurrence_type': UUID('7c44852b-84d8-453f-bfc9-d3e2e92602b2'), 'form_data': {'cod_novo': '029-N-SP330-317-N02',\n",
       "    'lote': 29,\n",
       "    'tipo_da_obra': 'Implantação da Faixa Adicional do km 304+000 ao km 318+500',\n",
       "    'localization': 317.704,\n",
       "    'latitude': -21.117926,\n",
       "    'longitude': -47.774127,\n",
       "    'city': '19',\n",
       "    'interessado': 'Reserva Regatas Loteamento LTDA - Lemos Palma Agricola e Empreendimentos LTDA',\n",
       "    'matricula': '178329',\n",
       "    'cri': '2° CRI Ribeirão Preto',\n",
       "    'tipo_acesso': '3',\n",
       "    'classificacao': '2',\n",
       "    'atividade_do_acesso': '1',\n",
       "    'atividade': '28',\n",
       "    'autorizado': True,\n",
       "    'n_protocolo_artesp': '330.302/16',\n",
       "    'n_processo_artesp': '2019-PVPT.116 (332.16)',\n",
       "    'termo_autorizacao': '007/2020',\n",
       "    'expediente': 'NA',\n",
       "    'executado_conforme': False,\n",
       "    'atende_normas': False,\n",
       "    'estado_conserva': '1',\n",
       "    'n_projeto': 'DE-SP0000330-318.317-529-D09-001-Ra',\n",
       "    'status_projeto': '2',\n",
       "    'procedimento': '2',\n",
       "    'solucao': 'Acesso a ser mantido',\n",
       "    'priorizacao': False,\n",
       "    'contato': 'Thiago Almeida da Silva e Silva (Responsável Técnico)',\n",
       "    'telefone': '',\n",
       "    'email': 'almeidathiago@vivaurba.com.br',\n",
       "    'endereco': 'Avenida Braz Olaia Acosta, 727, Sala 307 - Jardim Califórnia - Ribeirão Preto/SP - CEP 14026-040',\n",
       "    'notificado': False,\n",
       "    'notification': [],\n",
       "    'cience': [],\n",
       "    'anuence': [],\n",
       "    'notes': None}, 'form_metadata': {}, 'found_at': datetime.datetime(2023, 8, 23, 18, 35, 48, 446699, tzinfo=<UTC>), 'status': UUID('bf7270da-8d1c-456e-8b37-bd2800b91165'), 'due_at_manually_specified': False, 'end_km_manually_specified': False, 'project_end_km_manually_specified': False, 'editable': True, 'keywords': ''},\n",
       "  (140080630173328,\n",
       "   140080208080336): {'uuid': UUID('df2a0142-869d-4d20-b5a2-0a905c490d98'), 'number': '', 'company': UUID('ec364a8e-b335-4729-8ac8-50ccabd73459'), 'road_name': 'SP-330', 'road': 1926, 'km': 317.704, 'project_km': 0.0, 'point': <Point object at 0x7f66f1fccb50>, 'direction': '0', 'lane': '1', 'address': {}, 'created_by': UUID('508a66f3-3f58-4c4e-bc9a-fbba6078c02d'), 'firm': UUID('5d9b180c-22d3-4e8a-a887-de3cfe7c4cc9'), 'occurrence_type': UUID('7c44852b-84d8-453f-bfc9-d3e2e92602b2'), 'form_data': {'cod_novo': '029-N-SP330-317-N02',\n",
       "    'lote': 29,\n",
       "    'tipo_da_obra': 'Implantação da Faixa Adicional do km 304+000 ao km 318+500',\n",
       "    'localization': 317.704,\n",
       "    'latitude': -21.117926,\n",
       "    'longitude': -47.774127,\n",
       "    'city': '19',\n",
       "    'interessado': 'Reserva Regatas Loteamento LTDA - Lemos Palma Agricola e Empreendimentos LTDA',\n",
       "    'matricula': '178329',\n",
       "    'cri': '2° CRI Ribeirão Preto',\n",
       "    'tipo_acesso': '3',\n",
       "    'classificacao': '2',\n",
       "    'atividade_do_acesso': '1',\n",
       "    'atividade': '28',\n",
       "    'autorizado': True,\n",
       "    'n_protocolo_artesp': '330.302/16',\n",
       "    'n_processo_artesp': '2019-PVPT.116 (332.16)',\n",
       "    'termo_autorizacao': '007/2020',\n",
       "    'expediente': 'NA',\n",
       "    'executado_conforme': False,\n",
       "    'atende_normas': False,\n",
       "    'estado_conserva': '1',\n",
       "    'n_projeto': 'DE-SP0000330-318.317-529-D09-001-Ra',\n",
       "    'status_projeto': '2',\n",
       "    'procedimento': '2',\n",
       "    'solucao': 'Acesso a ser mantido',\n",
       "    'priorizacao': False,\n",
       "    'contato': 'Thiago Almeida da Silva e Silva (Responsável Técnico)',\n",
       "    'telefone': '',\n",
       "    'email': 'almeidathiago@vivaurba.com.br',\n",
       "    'endereco': 'Avenida Braz Olaia Acosta, 727, Sala 307 - Jardim Califórnia - Ribeirão Preto/SP - CEP 14026-040',\n",
       "    'notificado': False,\n",
       "    'notification': [],\n",
       "    'cience': [],\n",
       "    'anuence': [],\n",
       "    'notes': None}, 'form_metadata': {}, 'found_at': datetime.datetime(2023, 8, 23, 18, 35, 48, 446699, tzinfo=<UTC>), 'status': UUID('bf7270da-8d1c-456e-8b37-bd2800b91165'), 'due_at_manually_specified': False, 'end_km_manually_specified': False, 'project_end_km_manually_specified': False, 'editable': True, 'keywords': ''}}}"
      ]
     },
     "execution_count": 26,
     "metadata": {},
     "output_type": "execute_result"
    }
   ],
   "source": [
    "objects[103].__dict__"
   ]
  },
  {
   "cell_type": "code",
   "execution_count": 27,
   "metadata": {},
   "outputs": [
    {
     "data": {
      "application/vnd.jupyter.widget-view+json": {
       "model_id": "05ca5316df3949cd9fd5a1ea82131054",
       "version_major": 2,
       "version_minor": 0
      },
      "text/plain": [
       "  0%|          | 0/104 [00:00<?, ?it/s]"
      ]
     },
     "metadata": {},
     "output_type": "display_data"
    },
    {
     "name": "stderr",
     "output_type": "stream",
     "text": [
      "/home/luan/.cache/pypoetry/virtualenvs/apps-ZFymp6kh-py3.7/lib/python3.7/site-packages/django/db/models/fields/__init__.py:1427: RuntimeWarning: DateTimeField Reporting.executed_at received a naive datetime (2023-08-23 15:37:03.677864) while time zone support is active.\n",
      "  RuntimeWarning)\n",
      "/home/luan/.cache/pypoetry/virtualenvs/apps-ZFymp6kh-py3.7/lib/python3.7/site-packages/django/db/models/fields/__init__.py:1427: RuntimeWarning: DateTimeField HistoricalReporting.executed_at received a naive datetime (2023-08-23 15:37:03.677864) while time zone support is active.\n",
      "  RuntimeWarning)\n"
     ]
    },
    {
     "name": "stdout",
     "output_type": "stream",
     "text": [
      "Searching KM on direction...\n",
      "Found KM on Road 1926: SP-330\n",
      "VPT-IT-2023.03081\n",
      "Searching KM on direction...\n",
      "Found KM on Road 1926: SP-330\n",
      "VPT-IT-2023.03082\n"
     ]
    },
    {
     "name": "stderr",
     "output_type": "stream",
     "text": [
      "/home/luan/.cache/pypoetry/virtualenvs/apps-ZFymp6kh-py3.7/lib/python3.7/site-packages/django/db/models/fields/__init__.py:1427: RuntimeWarning: DateTimeField Reporting.executed_at received a naive datetime (2023-08-23 15:37:04.354641) while time zone support is active.\n",
      "  RuntimeWarning)\n",
      "/home/luan/.cache/pypoetry/virtualenvs/apps-ZFymp6kh-py3.7/lib/python3.7/site-packages/django/db/models/fields/__init__.py:1427: RuntimeWarning: DateTimeField HistoricalReporting.executed_at received a naive datetime (2023-08-23 15:37:04.354641) while time zone support is active.\n",
      "  RuntimeWarning)\n",
      "/home/luan/.cache/pypoetry/virtualenvs/apps-ZFymp6kh-py3.7/lib/python3.7/site-packages/django/db/models/fields/__init__.py:1427: RuntimeWarning: DateTimeField Reporting.executed_at received a naive datetime (2023-08-23 15:37:04.515968) while time zone support is active.\n",
      "  RuntimeWarning)\n",
      "/home/luan/.cache/pypoetry/virtualenvs/apps-ZFymp6kh-py3.7/lib/python3.7/site-packages/django/db/models/fields/__init__.py:1427: RuntimeWarning: DateTimeField HistoricalReporting.executed_at received a naive datetime (2023-08-23 15:37:04.515968) while time zone support is active.\n",
      "  RuntimeWarning)\n"
     ]
    },
    {
     "name": "stdout",
     "output_type": "stream",
     "text": [
      "Searching KM on direction...\n",
      "Searching KM without direction...\n",
      "Found KM on Road 1926: SP-330\n",
      "VPT-IT-2023.03083\n",
      "Searching KM on direction...\n",
      "Found KM on Road 1926: SP-330\n"
     ]
    },
    {
     "name": "stderr",
     "output_type": "stream",
     "text": [
      "/home/luan/.cache/pypoetry/virtualenvs/apps-ZFymp6kh-py3.7/lib/python3.7/site-packages/django/db/models/fields/__init__.py:1427: RuntimeWarning: DateTimeField Reporting.executed_at received a naive datetime (2023-08-23 15:37:04.684787) while time zone support is active.\n",
      "  RuntimeWarning)\n",
      "/home/luan/.cache/pypoetry/virtualenvs/apps-ZFymp6kh-py3.7/lib/python3.7/site-packages/django/db/models/fields/__init__.py:1427: RuntimeWarning: DateTimeField HistoricalReporting.executed_at received a naive datetime (2023-08-23 15:37:04.684787) while time zone support is active.\n",
      "  RuntimeWarning)\n",
      "/home/luan/.cache/pypoetry/virtualenvs/apps-ZFymp6kh-py3.7/lib/python3.7/site-packages/django/db/models/fields/__init__.py:1427: RuntimeWarning: DateTimeField Reporting.executed_at received a naive datetime (2023-08-23 15:37:04.849625) while time zone support is active.\n",
      "  RuntimeWarning)\n",
      "/home/luan/.cache/pypoetry/virtualenvs/apps-ZFymp6kh-py3.7/lib/python3.7/site-packages/django/db/models/fields/__init__.py:1427: RuntimeWarning: DateTimeField HistoricalReporting.executed_at received a naive datetime (2023-08-23 15:37:04.849625) while time zone support is active.\n",
      "  RuntimeWarning)\n"
     ]
    },
    {
     "name": "stdout",
     "output_type": "stream",
     "text": [
      "VPT-IT-2023.03084\n",
      "Searching KM on direction...\n",
      "Found KM on Road 1926: SP-330\n",
      "VPT-IT-2023.03085\n"
     ]
    },
    {
     "name": "stderr",
     "output_type": "stream",
     "text": [
      "/home/luan/.cache/pypoetry/virtualenvs/apps-ZFymp6kh-py3.7/lib/python3.7/site-packages/django/db/models/fields/__init__.py:1427: RuntimeWarning: DateTimeField Reporting.executed_at received a naive datetime (2023-08-23 15:37:05.012767) while time zone support is active.\n",
      "  RuntimeWarning)\n",
      "/home/luan/.cache/pypoetry/virtualenvs/apps-ZFymp6kh-py3.7/lib/python3.7/site-packages/django/db/models/fields/__init__.py:1427: RuntimeWarning: DateTimeField HistoricalReporting.executed_at received a naive datetime (2023-08-23 15:37:05.012767) while time zone support is active.\n",
      "  RuntimeWarning)\n",
      "/home/luan/.cache/pypoetry/virtualenvs/apps-ZFymp6kh-py3.7/lib/python3.7/site-packages/django/db/models/fields/__init__.py:1427: RuntimeWarning: DateTimeField Reporting.executed_at received a naive datetime (2023-08-23 15:37:05.179502) while time zone support is active.\n",
      "  RuntimeWarning)\n",
      "/home/luan/.cache/pypoetry/virtualenvs/apps-ZFymp6kh-py3.7/lib/python3.7/site-packages/django/db/models/fields/__init__.py:1427: RuntimeWarning: DateTimeField HistoricalReporting.executed_at received a naive datetime (2023-08-23 15:37:05.179502) while time zone support is active.\n",
      "  RuntimeWarning)\n"
     ]
    },
    {
     "name": "stdout",
     "output_type": "stream",
     "text": [
      "Searching KM on direction...\n",
      "Searching KM without direction...\n",
      "Found KM on Road 1926: SP-330\n",
      "VPT-IT-2023.03086\n",
      "Searching KM on direction...\n",
      "Searching KM without direction...\n",
      "Found KM on Road 1926: SP-330\n",
      "VPT-IT-2023.03087\n",
      "Searching KM on direction...\n",
      "Found KM on Road 1926: SP-330\n"
     ]
    },
    {
     "name": "stderr",
     "output_type": "stream",
     "text": [
      "/home/luan/.cache/pypoetry/virtualenvs/apps-ZFymp6kh-py3.7/lib/python3.7/site-packages/django/db/models/fields/__init__.py:1427: RuntimeWarning: DateTimeField Reporting.executed_at received a naive datetime (2023-08-23 15:37:05.355800) while time zone support is active.\n",
      "  RuntimeWarning)\n",
      "/home/luan/.cache/pypoetry/virtualenvs/apps-ZFymp6kh-py3.7/lib/python3.7/site-packages/django/db/models/fields/__init__.py:1427: RuntimeWarning: DateTimeField HistoricalReporting.executed_at received a naive datetime (2023-08-23 15:37:05.355800) while time zone support is active.\n",
      "  RuntimeWarning)\n"
     ]
    },
    {
     "name": "stdout",
     "output_type": "stream",
     "text": [
      "VPT-IT-2023.03088\n"
     ]
    },
    {
     "name": "stderr",
     "output_type": "stream",
     "text": [
      "/home/luan/.cache/pypoetry/virtualenvs/apps-ZFymp6kh-py3.7/lib/python3.7/site-packages/django/db/models/fields/__init__.py:1427: RuntimeWarning: DateTimeField Reporting.executed_at received a naive datetime (2023-08-23 15:37:05.647197) while time zone support is active.\n",
      "  RuntimeWarning)\n",
      "/home/luan/.cache/pypoetry/virtualenvs/apps-ZFymp6kh-py3.7/lib/python3.7/site-packages/django/db/models/fields/__init__.py:1427: RuntimeWarning: DateTimeField HistoricalReporting.executed_at received a naive datetime (2023-08-23 15:37:05.647197) while time zone support is active.\n",
      "  RuntimeWarning)\n"
     ]
    },
    {
     "name": "stdout",
     "output_type": "stream",
     "text": [
      "Searching KM on direction...\n",
      "Searching KM without direction...\n",
      "Found KM on Road 1926: SP-330\n",
      "VPT-IT-2023.03089\n"
     ]
    },
    {
     "name": "stderr",
     "output_type": "stream",
     "text": [
      "/home/luan/.cache/pypoetry/virtualenvs/apps-ZFymp6kh-py3.7/lib/python3.7/site-packages/django/db/models/fields/__init__.py:1427: RuntimeWarning: DateTimeField Reporting.executed_at received a naive datetime (2023-08-23 15:37:05.999063) while time zone support is active.\n",
      "  RuntimeWarning)\n",
      "/home/luan/.cache/pypoetry/virtualenvs/apps-ZFymp6kh-py3.7/lib/python3.7/site-packages/django/db/models/fields/__init__.py:1427: RuntimeWarning: DateTimeField HistoricalReporting.executed_at received a naive datetime (2023-08-23 15:37:05.999063) while time zone support is active.\n",
      "  RuntimeWarning)\n"
     ]
    },
    {
     "name": "stdout",
     "output_type": "stream",
     "text": [
      "Searching KM on direction...\n",
      "Found KM on Road 1926: SP-330\n",
      "VPT-IT-2023.03090\n"
     ]
    },
    {
     "name": "stderr",
     "output_type": "stream",
     "text": [
      "/home/luan/.cache/pypoetry/virtualenvs/apps-ZFymp6kh-py3.7/lib/python3.7/site-packages/django/db/models/fields/__init__.py:1427: RuntimeWarning: DateTimeField Reporting.executed_at received a naive datetime (2023-08-23 15:37:06.265219) while time zone support is active.\n",
      "  RuntimeWarning)\n",
      "/home/luan/.cache/pypoetry/virtualenvs/apps-ZFymp6kh-py3.7/lib/python3.7/site-packages/django/db/models/fields/__init__.py:1427: RuntimeWarning: DateTimeField HistoricalReporting.executed_at received a naive datetime (2023-08-23 15:37:06.265219) while time zone support is active.\n",
      "  RuntimeWarning)\n"
     ]
    },
    {
     "name": "stdout",
     "output_type": "stream",
     "text": [
      "Searching KM on direction...\n",
      "Found KM on Road 1926: SP-330\n",
      "VPT-IT-2023.03091\n"
     ]
    },
    {
     "name": "stderr",
     "output_type": "stream",
     "text": [
      "/home/luan/.cache/pypoetry/virtualenvs/apps-ZFymp6kh-py3.7/lib/python3.7/site-packages/django/db/models/fields/__init__.py:1427: RuntimeWarning: DateTimeField Reporting.executed_at received a naive datetime (2023-08-23 15:37:06.538375) while time zone support is active.\n",
      "  RuntimeWarning)\n",
      "/home/luan/.cache/pypoetry/virtualenvs/apps-ZFymp6kh-py3.7/lib/python3.7/site-packages/django/db/models/fields/__init__.py:1427: RuntimeWarning: DateTimeField HistoricalReporting.executed_at received a naive datetime (2023-08-23 15:37:06.538375) while time zone support is active.\n",
      "  RuntimeWarning)\n"
     ]
    },
    {
     "name": "stdout",
     "output_type": "stream",
     "text": [
      "Searching KM on direction...\n",
      "Searching KM without direction...\n",
      "Found KM on Road 1926: SP-330\n",
      "VPT-IT-2023.03092\n"
     ]
    },
    {
     "name": "stderr",
     "output_type": "stream",
     "text": [
      "/home/luan/.cache/pypoetry/virtualenvs/apps-ZFymp6kh-py3.7/lib/python3.7/site-packages/django/db/models/fields/__init__.py:1427: RuntimeWarning: DateTimeField Reporting.executed_at received a naive datetime (2023-08-23 15:37:06.745393) while time zone support is active.\n",
      "  RuntimeWarning)\n",
      "/home/luan/.cache/pypoetry/virtualenvs/apps-ZFymp6kh-py3.7/lib/python3.7/site-packages/django/db/models/fields/__init__.py:1427: RuntimeWarning: DateTimeField HistoricalReporting.executed_at received a naive datetime (2023-08-23 15:37:06.745393) while time zone support is active.\n",
      "  RuntimeWarning)\n",
      "/home/luan/.cache/pypoetry/virtualenvs/apps-ZFymp6kh-py3.7/lib/python3.7/site-packages/django/db/models/fields/__init__.py:1427: RuntimeWarning: DateTimeField Reporting.executed_at received a naive datetime (2023-08-23 15:37:06.935238) while time zone support is active.\n",
      "  RuntimeWarning)\n",
      "/home/luan/.cache/pypoetry/virtualenvs/apps-ZFymp6kh-py3.7/lib/python3.7/site-packages/django/db/models/fields/__init__.py:1427: RuntimeWarning: DateTimeField HistoricalReporting.executed_at received a naive datetime (2023-08-23 15:37:06.935238) while time zone support is active.\n",
      "  RuntimeWarning)\n"
     ]
    },
    {
     "name": "stdout",
     "output_type": "stream",
     "text": [
      "Searching KM on direction...\n",
      "Searching KM without direction...\n",
      "Found KM on Road 1926: SP-330\n",
      "VPT-IT-2023.03093\n",
      "Searching KM on direction...\n",
      "Found KM on Road 1926: SP-330\n",
      "VPT-IT-2023.03094\n",
      "Searching KM on direction...\n",
      "Searching KM without direction...\n",
      "Found KM on Road 1926: SP-330\n"
     ]
    },
    {
     "name": "stderr",
     "output_type": "stream",
     "text": [
      "/home/luan/.cache/pypoetry/virtualenvs/apps-ZFymp6kh-py3.7/lib/python3.7/site-packages/django/db/models/fields/__init__.py:1427: RuntimeWarning: DateTimeField Reporting.executed_at received a naive datetime (2023-08-23 15:37:07.104718) while time zone support is active.\n",
      "  RuntimeWarning)\n",
      "/home/luan/.cache/pypoetry/virtualenvs/apps-ZFymp6kh-py3.7/lib/python3.7/site-packages/django/db/models/fields/__init__.py:1427: RuntimeWarning: DateTimeField HistoricalReporting.executed_at received a naive datetime (2023-08-23 15:37:07.104718) while time zone support is active.\n",
      "  RuntimeWarning)\n"
     ]
    },
    {
     "name": "stdout",
     "output_type": "stream",
     "text": [
      "VPT-IT-2023.03095\n",
      "Searching KM on direction...\n",
      "Searching KM without direction...\n",
      "Found KM on Road 1926: SP-330\n"
     ]
    },
    {
     "name": "stderr",
     "output_type": "stream",
     "text": [
      "/home/luan/.cache/pypoetry/virtualenvs/apps-ZFymp6kh-py3.7/lib/python3.7/site-packages/django/db/models/fields/__init__.py:1427: RuntimeWarning: DateTimeField Reporting.executed_at received a naive datetime (2023-08-23 15:37:07.400676) while time zone support is active.\n",
      "  RuntimeWarning)\n",
      "/home/luan/.cache/pypoetry/virtualenvs/apps-ZFymp6kh-py3.7/lib/python3.7/site-packages/django/db/models/fields/__init__.py:1427: RuntimeWarning: DateTimeField HistoricalReporting.executed_at received a naive datetime (2023-08-23 15:37:07.400676) while time zone support is active.\n",
      "  RuntimeWarning)\n"
     ]
    },
    {
     "name": "stdout",
     "output_type": "stream",
     "text": [
      "VPT-IT-2023.03096\n",
      "Searching KM on direction...\n",
      "Found KM on Road 1926: SP-330\n"
     ]
    },
    {
     "name": "stderr",
     "output_type": "stream",
     "text": [
      "/home/luan/.cache/pypoetry/virtualenvs/apps-ZFymp6kh-py3.7/lib/python3.7/site-packages/django/db/models/fields/__init__.py:1427: RuntimeWarning: DateTimeField Reporting.executed_at received a naive datetime (2023-08-23 15:37:07.797072) while time zone support is active.\n",
      "  RuntimeWarning)\n",
      "/home/luan/.cache/pypoetry/virtualenvs/apps-ZFymp6kh-py3.7/lib/python3.7/site-packages/django/db/models/fields/__init__.py:1427: RuntimeWarning: DateTimeField HistoricalReporting.executed_at received a naive datetime (2023-08-23 15:37:07.797072) while time zone support is active.\n",
      "  RuntimeWarning)\n"
     ]
    },
    {
     "name": "stdout",
     "output_type": "stream",
     "text": [
      "VPT-IT-2023.03097\n",
      "Searching KM on direction...\n",
      "Searching KM without direction...\n"
     ]
    },
    {
     "name": "stderr",
     "output_type": "stream",
     "text": [
      "/home/luan/.cache/pypoetry/virtualenvs/apps-ZFymp6kh-py3.7/lib/python3.7/site-packages/django/db/models/fields/__init__.py:1427: RuntimeWarning: DateTimeField Reporting.executed_at received a naive datetime (2023-08-23 15:37:08.167222) while time zone support is active.\n",
      "  RuntimeWarning)\n",
      "/home/luan/.cache/pypoetry/virtualenvs/apps-ZFymp6kh-py3.7/lib/python3.7/site-packages/django/db/models/fields/__init__.py:1427: RuntimeWarning: DateTimeField HistoricalReporting.executed_at received a naive datetime (2023-08-23 15:37:08.167222) while time zone support is active.\n",
      "  RuntimeWarning)\n"
     ]
    },
    {
     "name": "stdout",
     "output_type": "stream",
     "text": [
      "Found KM on Road 1926: SP-330\n",
      "VPT-IT-2023.03098\n"
     ]
    },
    {
     "name": "stderr",
     "output_type": "stream",
     "text": [
      "/home/luan/.cache/pypoetry/virtualenvs/apps-ZFymp6kh-py3.7/lib/python3.7/site-packages/django/db/models/fields/__init__.py:1427: RuntimeWarning: DateTimeField Reporting.executed_at received a naive datetime (2023-08-23 15:37:08.564864) while time zone support is active.\n",
      "  RuntimeWarning)\n",
      "/home/luan/.cache/pypoetry/virtualenvs/apps-ZFymp6kh-py3.7/lib/python3.7/site-packages/django/db/models/fields/__init__.py:1427: RuntimeWarning: DateTimeField HistoricalReporting.executed_at received a naive datetime (2023-08-23 15:37:08.564864) while time zone support is active.\n",
      "  RuntimeWarning)\n"
     ]
    },
    {
     "name": "stdout",
     "output_type": "stream",
     "text": [
      "Searching KM on direction...\n",
      "Found KM on Road 1926: SP-330\n",
      "VPT-IT-2023.03099\n"
     ]
    },
    {
     "name": "stderr",
     "output_type": "stream",
     "text": [
      "/home/luan/.cache/pypoetry/virtualenvs/apps-ZFymp6kh-py3.7/lib/python3.7/site-packages/django/db/models/fields/__init__.py:1427: RuntimeWarning: DateTimeField Reporting.executed_at received a naive datetime (2023-08-23 15:37:08.962338) while time zone support is active.\n",
      "  RuntimeWarning)\n",
      "/home/luan/.cache/pypoetry/virtualenvs/apps-ZFymp6kh-py3.7/lib/python3.7/site-packages/django/db/models/fields/__init__.py:1427: RuntimeWarning: DateTimeField HistoricalReporting.executed_at received a naive datetime (2023-08-23 15:37:08.962338) while time zone support is active.\n",
      "  RuntimeWarning)\n"
     ]
    },
    {
     "name": "stdout",
     "output_type": "stream",
     "text": [
      "Searching KM on direction...\n",
      "Searching KM without direction...\n",
      "Found KM on Road 1926: SP-330\n",
      "VPT-IT-2023.03100\n"
     ]
    },
    {
     "name": "stderr",
     "output_type": "stream",
     "text": [
      "/home/luan/.cache/pypoetry/virtualenvs/apps-ZFymp6kh-py3.7/lib/python3.7/site-packages/django/db/models/fields/__init__.py:1427: RuntimeWarning: DateTimeField Reporting.executed_at received a naive datetime (2023-08-23 15:37:09.407326) while time zone support is active.\n",
      "  RuntimeWarning)\n",
      "/home/luan/.cache/pypoetry/virtualenvs/apps-ZFymp6kh-py3.7/lib/python3.7/site-packages/django/db/models/fields/__init__.py:1427: RuntimeWarning: DateTimeField HistoricalReporting.executed_at received a naive datetime (2023-08-23 15:37:09.407326) while time zone support is active.\n",
      "  RuntimeWarning)\n"
     ]
    },
    {
     "name": "stdout",
     "output_type": "stream",
     "text": [
      "Searching KM on direction...\n",
      "Found KM on Road 1926: SP-330\n",
      "VPT-IT-2023.03101\n"
     ]
    },
    {
     "name": "stderr",
     "output_type": "stream",
     "text": [
      "/home/luan/.cache/pypoetry/virtualenvs/apps-ZFymp6kh-py3.7/lib/python3.7/site-packages/django/db/models/fields/__init__.py:1427: RuntimeWarning: DateTimeField Reporting.executed_at received a naive datetime (2023-08-23 15:37:09.867358) while time zone support is active.\n",
      "  RuntimeWarning)\n",
      "/home/luan/.cache/pypoetry/virtualenvs/apps-ZFymp6kh-py3.7/lib/python3.7/site-packages/django/db/models/fields/__init__.py:1427: RuntimeWarning: DateTimeField HistoricalReporting.executed_at received a naive datetime (2023-08-23 15:37:09.867358) while time zone support is active.\n",
      "  RuntimeWarning)\n"
     ]
    },
    {
     "name": "stdout",
     "output_type": "stream",
     "text": [
      "Searching KM on direction...\n",
      "Found KM on Road 1926: SP-330\n",
      "VPT-IT-2023.03102\n"
     ]
    },
    {
     "name": "stderr",
     "output_type": "stream",
     "text": [
      "/home/luan/.cache/pypoetry/virtualenvs/apps-ZFymp6kh-py3.7/lib/python3.7/site-packages/django/db/models/fields/__init__.py:1427: RuntimeWarning: DateTimeField Reporting.executed_at received a naive datetime (2023-08-23 15:37:10.385495) while time zone support is active.\n",
      "  RuntimeWarning)\n",
      "/home/luan/.cache/pypoetry/virtualenvs/apps-ZFymp6kh-py3.7/lib/python3.7/site-packages/django/db/models/fields/__init__.py:1427: RuntimeWarning: DateTimeField HistoricalReporting.executed_at received a naive datetime (2023-08-23 15:37:10.385495) while time zone support is active.\n",
      "  RuntimeWarning)\n"
     ]
    },
    {
     "name": "stdout",
     "output_type": "stream",
     "text": [
      "Searching KM on direction...\n",
      "Found KM on Road 1926: SP-330\n",
      "VPT-IT-2023.03103\n"
     ]
    },
    {
     "name": "stderr",
     "output_type": "stream",
     "text": [
      "/home/luan/.cache/pypoetry/virtualenvs/apps-ZFymp6kh-py3.7/lib/python3.7/site-packages/django/db/models/fields/__init__.py:1427: RuntimeWarning: DateTimeField Reporting.executed_at received a naive datetime (2023-08-23 15:37:10.877402) while time zone support is active.\n",
      "  RuntimeWarning)\n",
      "/home/luan/.cache/pypoetry/virtualenvs/apps-ZFymp6kh-py3.7/lib/python3.7/site-packages/django/db/models/fields/__init__.py:1427: RuntimeWarning: DateTimeField HistoricalReporting.executed_at received a naive datetime (2023-08-23 15:37:10.877402) while time zone support is active.\n",
      "  RuntimeWarning)\n"
     ]
    },
    {
     "name": "stdout",
     "output_type": "stream",
     "text": [
      "Searching KM on direction...\n",
      "Searching KM without direction...\n",
      "Found KM on Road 1926: SP-330\n",
      "VPT-IT-2023.03104\n"
     ]
    },
    {
     "name": "stderr",
     "output_type": "stream",
     "text": [
      "/home/luan/.cache/pypoetry/virtualenvs/apps-ZFymp6kh-py3.7/lib/python3.7/site-packages/django/db/models/fields/__init__.py:1427: RuntimeWarning: DateTimeField Reporting.executed_at received a naive datetime (2023-08-23 15:37:11.315407) while time zone support is active.\n",
      "  RuntimeWarning)\n",
      "/home/luan/.cache/pypoetry/virtualenvs/apps-ZFymp6kh-py3.7/lib/python3.7/site-packages/django/db/models/fields/__init__.py:1427: RuntimeWarning: DateTimeField HistoricalReporting.executed_at received a naive datetime (2023-08-23 15:37:11.315407) while time zone support is active.\n",
      "  RuntimeWarning)\n"
     ]
    },
    {
     "name": "stdout",
     "output_type": "stream",
     "text": [
      "Searching KM on direction...\n",
      "Searching KM without direction...\n",
      "Found KM on Road 1926: SP-330\n",
      "VPT-IT-2023.03105\n",
      "Searching KM on direction...\n"
     ]
    },
    {
     "name": "stderr",
     "output_type": "stream",
     "text": [
      "/home/luan/.cache/pypoetry/virtualenvs/apps-ZFymp6kh-py3.7/lib/python3.7/site-packages/django/db/models/fields/__init__.py:1427: RuntimeWarning: DateTimeField Reporting.executed_at received a naive datetime (2023-08-23 15:37:11.733362) while time zone support is active.\n",
      "  RuntimeWarning)\n",
      "/home/luan/.cache/pypoetry/virtualenvs/apps-ZFymp6kh-py3.7/lib/python3.7/site-packages/django/db/models/fields/__init__.py:1427: RuntimeWarning: DateTimeField HistoricalReporting.executed_at received a naive datetime (2023-08-23 15:37:11.733362) while time zone support is active.\n",
      "  RuntimeWarning)\n"
     ]
    },
    {
     "name": "stdout",
     "output_type": "stream",
     "text": [
      "Found KM on Road 1926: SP-330\n",
      "VPT-IT-2023.03106\n"
     ]
    },
    {
     "name": "stderr",
     "output_type": "stream",
     "text": [
      "/home/luan/.cache/pypoetry/virtualenvs/apps-ZFymp6kh-py3.7/lib/python3.7/site-packages/django/db/models/fields/__init__.py:1427: RuntimeWarning: DateTimeField Reporting.executed_at received a naive datetime (2023-08-23 15:37:12.128223) while time zone support is active.\n",
      "  RuntimeWarning)\n",
      "/home/luan/.cache/pypoetry/virtualenvs/apps-ZFymp6kh-py3.7/lib/python3.7/site-packages/django/db/models/fields/__init__.py:1427: RuntimeWarning: DateTimeField HistoricalReporting.executed_at received a naive datetime (2023-08-23 15:37:12.128223) while time zone support is active.\n",
      "  RuntimeWarning)\n"
     ]
    },
    {
     "name": "stdout",
     "output_type": "stream",
     "text": [
      "Searching KM on direction...\n",
      "Searching KM without direction...\n",
      "Found KM on Road 1926: SP-330\n",
      "VPT-IT-2023.03107\n"
     ]
    },
    {
     "name": "stderr",
     "output_type": "stream",
     "text": [
      "/home/luan/.cache/pypoetry/virtualenvs/apps-ZFymp6kh-py3.7/lib/python3.7/site-packages/django/db/models/fields/__init__.py:1427: RuntimeWarning: DateTimeField Reporting.executed_at received a naive datetime (2023-08-23 15:37:12.556794) while time zone support is active.\n",
      "  RuntimeWarning)\n",
      "/home/luan/.cache/pypoetry/virtualenvs/apps-ZFymp6kh-py3.7/lib/python3.7/site-packages/django/db/models/fields/__init__.py:1427: RuntimeWarning: DateTimeField HistoricalReporting.executed_at received a naive datetime (2023-08-23 15:37:12.556794) while time zone support is active.\n",
      "  RuntimeWarning)\n"
     ]
    },
    {
     "name": "stdout",
     "output_type": "stream",
     "text": [
      "Searching KM on direction...\n",
      "Searching KM without direction...\n",
      "Found KM on Road 1926: SP-330\n",
      "VPT-IT-2023.03108\n"
     ]
    },
    {
     "name": "stderr",
     "output_type": "stream",
     "text": [
      "/home/luan/.cache/pypoetry/virtualenvs/apps-ZFymp6kh-py3.7/lib/python3.7/site-packages/django/db/models/fields/__init__.py:1427: RuntimeWarning: DateTimeField Reporting.executed_at received a naive datetime (2023-08-23 15:37:12.896525) while time zone support is active.\n",
      "  RuntimeWarning)\n",
      "/home/luan/.cache/pypoetry/virtualenvs/apps-ZFymp6kh-py3.7/lib/python3.7/site-packages/django/db/models/fields/__init__.py:1427: RuntimeWarning: DateTimeField HistoricalReporting.executed_at received a naive datetime (2023-08-23 15:37:12.896525) while time zone support is active.\n",
      "  RuntimeWarning)\n"
     ]
    },
    {
     "name": "stdout",
     "output_type": "stream",
     "text": [
      "Searching KM on direction...\n",
      "Found KM on Road 1926: SP-330\n",
      "VPT-IT-2023.03109\n",
      "Searching KM on direction...\n",
      "Found KM on Road 1926: SP-330\n"
     ]
    },
    {
     "name": "stderr",
     "output_type": "stream",
     "text": [
      "/home/luan/.cache/pypoetry/virtualenvs/apps-ZFymp6kh-py3.7/lib/python3.7/site-packages/django/db/models/fields/__init__.py:1427: RuntimeWarning: DateTimeField Reporting.executed_at received a naive datetime (2023-08-23 15:37:13.299168) while time zone support is active.\n",
      "  RuntimeWarning)\n",
      "/home/luan/.cache/pypoetry/virtualenvs/apps-ZFymp6kh-py3.7/lib/python3.7/site-packages/django/db/models/fields/__init__.py:1427: RuntimeWarning: DateTimeField HistoricalReporting.executed_at received a naive datetime (2023-08-23 15:37:13.299168) while time zone support is active.\n",
      "  RuntimeWarning)\n"
     ]
    },
    {
     "name": "stdout",
     "output_type": "stream",
     "text": [
      "VPT-IT-2023.03110\n",
      "Searching KM on direction...\n",
      "Searching KM without direction...\n",
      "Found KM on Road 1926: SP-330\n"
     ]
    },
    {
     "name": "stderr",
     "output_type": "stream",
     "text": [
      "/home/luan/.cache/pypoetry/virtualenvs/apps-ZFymp6kh-py3.7/lib/python3.7/site-packages/django/db/models/fields/__init__.py:1427: RuntimeWarning: DateTimeField Reporting.executed_at received a naive datetime (2023-08-23 15:37:13.637031) while time zone support is active.\n",
      "  RuntimeWarning)\n",
      "/home/luan/.cache/pypoetry/virtualenvs/apps-ZFymp6kh-py3.7/lib/python3.7/site-packages/django/db/models/fields/__init__.py:1427: RuntimeWarning: DateTimeField HistoricalReporting.executed_at received a naive datetime (2023-08-23 15:37:13.637031) while time zone support is active.\n",
      "  RuntimeWarning)\n"
     ]
    },
    {
     "name": "stdout",
     "output_type": "stream",
     "text": [
      "VPT-IT-2023.03111\n",
      "Searching KM on direction...\n",
      "Found KM on Road 1926: SP-330\n"
     ]
    },
    {
     "name": "stderr",
     "output_type": "stream",
     "text": [
      "/home/luan/.cache/pypoetry/virtualenvs/apps-ZFymp6kh-py3.7/lib/python3.7/site-packages/django/db/models/fields/__init__.py:1427: RuntimeWarning: DateTimeField Reporting.executed_at received a naive datetime (2023-08-23 15:37:13.911404) while time zone support is active.\n",
      "  RuntimeWarning)\n",
      "/home/luan/.cache/pypoetry/virtualenvs/apps-ZFymp6kh-py3.7/lib/python3.7/site-packages/django/db/models/fields/__init__.py:1427: RuntimeWarning: DateTimeField HistoricalReporting.executed_at received a naive datetime (2023-08-23 15:37:13.911404) while time zone support is active.\n",
      "  RuntimeWarning)\n"
     ]
    },
    {
     "name": "stdout",
     "output_type": "stream",
     "text": [
      "VPT-IT-2023.03112\n",
      "Searching KM on direction...\n",
      "Searching KM without direction...\n",
      "Found KM on Road 1926: SP-330\n"
     ]
    },
    {
     "name": "stderr",
     "output_type": "stream",
     "text": [
      "/home/luan/.cache/pypoetry/virtualenvs/apps-ZFymp6kh-py3.7/lib/python3.7/site-packages/django/db/models/fields/__init__.py:1427: RuntimeWarning: DateTimeField Reporting.executed_at received a naive datetime (2023-08-23 15:37:14.124552) while time zone support is active.\n",
      "  RuntimeWarning)\n",
      "/home/luan/.cache/pypoetry/virtualenvs/apps-ZFymp6kh-py3.7/lib/python3.7/site-packages/django/db/models/fields/__init__.py:1427: RuntimeWarning: DateTimeField HistoricalReporting.executed_at received a naive datetime (2023-08-23 15:37:14.124552) while time zone support is active.\n",
      "  RuntimeWarning)\n"
     ]
    },
    {
     "name": "stdout",
     "output_type": "stream",
     "text": [
      "VPT-IT-2023.03113\n",
      "Searching KM on direction...\n",
      "Found KM on Road 1926: SP-330\n"
     ]
    },
    {
     "name": "stderr",
     "output_type": "stream",
     "text": [
      "/home/luan/.cache/pypoetry/virtualenvs/apps-ZFymp6kh-py3.7/lib/python3.7/site-packages/django/db/models/fields/__init__.py:1427: RuntimeWarning: DateTimeField Reporting.executed_at received a naive datetime (2023-08-23 15:37:14.487176) while time zone support is active.\n",
      "  RuntimeWarning)\n",
      "/home/luan/.cache/pypoetry/virtualenvs/apps-ZFymp6kh-py3.7/lib/python3.7/site-packages/django/db/models/fields/__init__.py:1427: RuntimeWarning: DateTimeField HistoricalReporting.executed_at received a naive datetime (2023-08-23 15:37:14.487176) while time zone support is active.\n",
      "  RuntimeWarning)\n"
     ]
    },
    {
     "name": "stdout",
     "output_type": "stream",
     "text": [
      "VPT-IT-2023.03114\n",
      "Searching KM on direction...\n",
      "Searching KM without direction...\n",
      "Found KM on Road 1926: SP-330\n",
      "VPT-IT-2023.03115\n"
     ]
    },
    {
     "name": "stderr",
     "output_type": "stream",
     "text": [
      "/home/luan/.cache/pypoetry/virtualenvs/apps-ZFymp6kh-py3.7/lib/python3.7/site-packages/django/db/models/fields/__init__.py:1427: RuntimeWarning: DateTimeField Reporting.executed_at received a naive datetime (2023-08-23 15:37:14.924314) while time zone support is active.\n",
      "  RuntimeWarning)\n",
      "/home/luan/.cache/pypoetry/virtualenvs/apps-ZFymp6kh-py3.7/lib/python3.7/site-packages/django/db/models/fields/__init__.py:1427: RuntimeWarning: DateTimeField HistoricalReporting.executed_at received a naive datetime (2023-08-23 15:37:14.924314) while time zone support is active.\n",
      "  RuntimeWarning)\n",
      "/home/luan/.cache/pypoetry/virtualenvs/apps-ZFymp6kh-py3.7/lib/python3.7/site-packages/django/db/models/fields/__init__.py:1427: RuntimeWarning: DateTimeField Reporting.executed_at received a naive datetime (2023-08-23 15:37:15.095417) while time zone support is active.\n",
      "  RuntimeWarning)\n",
      "/home/luan/.cache/pypoetry/virtualenvs/apps-ZFymp6kh-py3.7/lib/python3.7/site-packages/django/db/models/fields/__init__.py:1427: RuntimeWarning: DateTimeField HistoricalReporting.executed_at received a naive datetime (2023-08-23 15:37:15.095417) while time zone support is active.\n",
      "  RuntimeWarning)\n"
     ]
    },
    {
     "name": "stdout",
     "output_type": "stream",
     "text": [
      "Searching KM on direction...\n",
      "Searching KM without direction...\n",
      "Found KM on Road 1926: SP-330\n",
      "VPT-IT-2023.03116\n",
      "Searching KM on direction...\n",
      "Searching KM without direction...\n",
      "Found KM on Road 1926: SP-330\n"
     ]
    },
    {
     "name": "stderr",
     "output_type": "stream",
     "text": [
      "/home/luan/.cache/pypoetry/virtualenvs/apps-ZFymp6kh-py3.7/lib/python3.7/site-packages/django/db/models/fields/__init__.py:1427: RuntimeWarning: DateTimeField Reporting.executed_at received a naive datetime (2023-08-23 15:37:15.265476) while time zone support is active.\n",
      "  RuntimeWarning)\n",
      "/home/luan/.cache/pypoetry/virtualenvs/apps-ZFymp6kh-py3.7/lib/python3.7/site-packages/django/db/models/fields/__init__.py:1427: RuntimeWarning: DateTimeField HistoricalReporting.executed_at received a naive datetime (2023-08-23 15:37:15.265476) while time zone support is active.\n",
      "  RuntimeWarning)\n",
      "/home/luan/.cache/pypoetry/virtualenvs/apps-ZFymp6kh-py3.7/lib/python3.7/site-packages/django/db/models/fields/__init__.py:1427: RuntimeWarning: DateTimeField Reporting.executed_at received a naive datetime (2023-08-23 15:37:15.427610) while time zone support is active.\n",
      "  RuntimeWarning)\n",
      "/home/luan/.cache/pypoetry/virtualenvs/apps-ZFymp6kh-py3.7/lib/python3.7/site-packages/django/db/models/fields/__init__.py:1427: RuntimeWarning: DateTimeField HistoricalReporting.executed_at received a naive datetime (2023-08-23 15:37:15.427610) while time zone support is active.\n",
      "  RuntimeWarning)\n"
     ]
    },
    {
     "name": "stdout",
     "output_type": "stream",
     "text": [
      "VPT-IT-2023.03117\n",
      "Searching KM on direction...\n",
      "Found KM on Road 1926: SP-330\n",
      "VPT-IT-2023.03118\n"
     ]
    },
    {
     "name": "stderr",
     "output_type": "stream",
     "text": [
      "/home/luan/.cache/pypoetry/virtualenvs/apps-ZFymp6kh-py3.7/lib/python3.7/site-packages/django/db/models/fields/__init__.py:1427: RuntimeWarning: DateTimeField Reporting.executed_at received a naive datetime (2023-08-23 15:37:15.579586) while time zone support is active.\n",
      "  RuntimeWarning)\n",
      "/home/luan/.cache/pypoetry/virtualenvs/apps-ZFymp6kh-py3.7/lib/python3.7/site-packages/django/db/models/fields/__init__.py:1427: RuntimeWarning: DateTimeField HistoricalReporting.executed_at received a naive datetime (2023-08-23 15:37:15.579586) while time zone support is active.\n",
      "  RuntimeWarning)\n",
      "/home/luan/.cache/pypoetry/virtualenvs/apps-ZFymp6kh-py3.7/lib/python3.7/site-packages/django/db/models/fields/__init__.py:1427: RuntimeWarning: DateTimeField Reporting.executed_at received a naive datetime (2023-08-23 15:37:15.742890) while time zone support is active.\n",
      "  RuntimeWarning)\n",
      "/home/luan/.cache/pypoetry/virtualenvs/apps-ZFymp6kh-py3.7/lib/python3.7/site-packages/django/db/models/fields/__init__.py:1427: RuntimeWarning: DateTimeField HistoricalReporting.executed_at received a naive datetime (2023-08-23 15:37:15.742890) while time zone support is active.\n",
      "  RuntimeWarning)\n"
     ]
    },
    {
     "name": "stdout",
     "output_type": "stream",
     "text": [
      "Searching KM on direction...\n",
      "Searching KM without direction...\n",
      "Found KM on Road 1926: SP-330\n",
      "VPT-IT-2023.03119\n",
      "Searching KM on direction...\n",
      "Searching KM without direction...\n",
      "Found KM on Road 1926: SP-330\n",
      "VPT-IT-2023.03120\n",
      "Searching KM on direction...\n",
      "Found KM on Road 1926: SP-330\n",
      "VPT-IT-2023.03121\n"
     ]
    },
    {
     "name": "stderr",
     "output_type": "stream",
     "text": [
      "/home/luan/.cache/pypoetry/virtualenvs/apps-ZFymp6kh-py3.7/lib/python3.7/site-packages/django/db/models/fields/__init__.py:1427: RuntimeWarning: DateTimeField Reporting.executed_at received a naive datetime (2023-08-23 15:37:15.905748) while time zone support is active.\n",
      "  RuntimeWarning)\n",
      "/home/luan/.cache/pypoetry/virtualenvs/apps-ZFymp6kh-py3.7/lib/python3.7/site-packages/django/db/models/fields/__init__.py:1427: RuntimeWarning: DateTimeField HistoricalReporting.executed_at received a naive datetime (2023-08-23 15:37:15.905748) while time zone support is active.\n",
      "  RuntimeWarning)\n",
      "/home/luan/.cache/pypoetry/virtualenvs/apps-ZFymp6kh-py3.7/lib/python3.7/site-packages/django/db/models/fields/__init__.py:1427: RuntimeWarning: DateTimeField Reporting.executed_at received a naive datetime (2023-08-23 15:37:16.078967) while time zone support is active.\n",
      "  RuntimeWarning)\n",
      "/home/luan/.cache/pypoetry/virtualenvs/apps-ZFymp6kh-py3.7/lib/python3.7/site-packages/django/db/models/fields/__init__.py:1427: RuntimeWarning: DateTimeField HistoricalReporting.executed_at received a naive datetime (2023-08-23 15:37:16.078967) while time zone support is active.\n",
      "  RuntimeWarning)\n"
     ]
    },
    {
     "name": "stdout",
     "output_type": "stream",
     "text": [
      "Searching KM on direction...\n",
      "Found KM on Road 1926: SP-330\n",
      "VPT-IT-2023.03122\n"
     ]
    },
    {
     "name": "stderr",
     "output_type": "stream",
     "text": [
      "/home/luan/.cache/pypoetry/virtualenvs/apps-ZFymp6kh-py3.7/lib/python3.7/site-packages/django/db/models/fields/__init__.py:1427: RuntimeWarning: DateTimeField Reporting.executed_at received a naive datetime (2023-08-23 15:37:16.429250) while time zone support is active.\n",
      "  RuntimeWarning)\n",
      "/home/luan/.cache/pypoetry/virtualenvs/apps-ZFymp6kh-py3.7/lib/python3.7/site-packages/django/db/models/fields/__init__.py:1427: RuntimeWarning: DateTimeField HistoricalReporting.executed_at received a naive datetime (2023-08-23 15:37:16.429250) while time zone support is active.\n",
      "  RuntimeWarning)\n",
      "/home/luan/.cache/pypoetry/virtualenvs/apps-ZFymp6kh-py3.7/lib/python3.7/site-packages/django/db/models/fields/__init__.py:1427: RuntimeWarning: DateTimeField Reporting.executed_at received a naive datetime (2023-08-23 15:37:16.639555) while time zone support is active.\n",
      "  RuntimeWarning)\n",
      "/home/luan/.cache/pypoetry/virtualenvs/apps-ZFymp6kh-py3.7/lib/python3.7/site-packages/django/db/models/fields/__init__.py:1427: RuntimeWarning: DateTimeField HistoricalReporting.executed_at received a naive datetime (2023-08-23 15:37:16.639555) while time zone support is active.\n",
      "  RuntimeWarning)\n"
     ]
    },
    {
     "name": "stdout",
     "output_type": "stream",
     "text": [
      "Searching KM on direction...\n",
      "Found KM on Road 1926: SP-330\n",
      "VPT-IT-2023.03123\n",
      "Searching KM on direction...\n",
      "Searching KM without direction...\n",
      "Found KM on Road 1926: SP-330\n",
      "VPT-IT-2023.03124\n",
      "Searching KM on direction...\n",
      "Searching KM without direction...\n",
      "Found KM on Road 1926: SP-330\n",
      "VPT-IT-2023.03125\n"
     ]
    },
    {
     "name": "stderr",
     "output_type": "stream",
     "text": [
      "/home/luan/.cache/pypoetry/virtualenvs/apps-ZFymp6kh-py3.7/lib/python3.7/site-packages/django/db/models/fields/__init__.py:1427: RuntimeWarning: DateTimeField Reporting.executed_at received a naive datetime (2023-08-23 15:37:16.800221) while time zone support is active.\n",
      "  RuntimeWarning)\n",
      "/home/luan/.cache/pypoetry/virtualenvs/apps-ZFymp6kh-py3.7/lib/python3.7/site-packages/django/db/models/fields/__init__.py:1427: RuntimeWarning: DateTimeField HistoricalReporting.executed_at received a naive datetime (2023-08-23 15:37:16.800221) while time zone support is active.\n",
      "  RuntimeWarning)\n",
      "/home/luan/.cache/pypoetry/virtualenvs/apps-ZFymp6kh-py3.7/lib/python3.7/site-packages/django/db/models/fields/__init__.py:1427: RuntimeWarning: DateTimeField Reporting.executed_at received a naive datetime (2023-08-23 15:37:16.960973) while time zone support is active.\n",
      "  RuntimeWarning)\n",
      "/home/luan/.cache/pypoetry/virtualenvs/apps-ZFymp6kh-py3.7/lib/python3.7/site-packages/django/db/models/fields/__init__.py:1427: RuntimeWarning: DateTimeField HistoricalReporting.executed_at received a naive datetime (2023-08-23 15:37:16.960973) while time zone support is active.\n",
      "  RuntimeWarning)\n"
     ]
    },
    {
     "name": "stdout",
     "output_type": "stream",
     "text": [
      "Searching KM on direction...\n",
      "Found KM on Road 1926: SP-330\n",
      "VPT-IT-2023.03126\n",
      "Searching KM on direction...\n",
      "Searching KM without direction...\n",
      "Found KM on Road 1926: SP-330\n"
     ]
    },
    {
     "name": "stderr",
     "output_type": "stream",
     "text": [
      "/home/luan/.cache/pypoetry/virtualenvs/apps-ZFymp6kh-py3.7/lib/python3.7/site-packages/django/db/models/fields/__init__.py:1427: RuntimeWarning: DateTimeField Reporting.executed_at received a naive datetime (2023-08-23 15:37:17.123905) while time zone support is active.\n",
      "  RuntimeWarning)\n",
      "/home/luan/.cache/pypoetry/virtualenvs/apps-ZFymp6kh-py3.7/lib/python3.7/site-packages/django/db/models/fields/__init__.py:1427: RuntimeWarning: DateTimeField HistoricalReporting.executed_at received a naive datetime (2023-08-23 15:37:17.123905) while time zone support is active.\n",
      "  RuntimeWarning)\n",
      "/home/luan/.cache/pypoetry/virtualenvs/apps-ZFymp6kh-py3.7/lib/python3.7/site-packages/django/db/models/fields/__init__.py:1427: RuntimeWarning: DateTimeField Reporting.executed_at received a naive datetime (2023-08-23 15:37:17.286075) while time zone support is active.\n",
      "  RuntimeWarning)\n",
      "/home/luan/.cache/pypoetry/virtualenvs/apps-ZFymp6kh-py3.7/lib/python3.7/site-packages/django/db/models/fields/__init__.py:1427: RuntimeWarning: DateTimeField HistoricalReporting.executed_at received a naive datetime (2023-08-23 15:37:17.286075) while time zone support is active.\n",
      "  RuntimeWarning)\n"
     ]
    },
    {
     "name": "stdout",
     "output_type": "stream",
     "text": [
      "VPT-IT-2023.03127\n",
      "Searching KM on direction...\n",
      "Searching KM without direction...\n",
      "Found KM on Road 1926: SP-330\n",
      "VPT-IT-2023.03128\n"
     ]
    },
    {
     "name": "stderr",
     "output_type": "stream",
     "text": [
      "/home/luan/.cache/pypoetry/virtualenvs/apps-ZFymp6kh-py3.7/lib/python3.7/site-packages/django/db/models/fields/__init__.py:1427: RuntimeWarning: DateTimeField Reporting.executed_at received a naive datetime (2023-08-23 15:37:17.447565) while time zone support is active.\n",
      "  RuntimeWarning)\n",
      "/home/luan/.cache/pypoetry/virtualenvs/apps-ZFymp6kh-py3.7/lib/python3.7/site-packages/django/db/models/fields/__init__.py:1427: RuntimeWarning: DateTimeField HistoricalReporting.executed_at received a naive datetime (2023-08-23 15:37:17.447565) while time zone support is active.\n",
      "  RuntimeWarning)\n",
      "/home/luan/.cache/pypoetry/virtualenvs/apps-ZFymp6kh-py3.7/lib/python3.7/site-packages/django/db/models/fields/__init__.py:1427: RuntimeWarning: DateTimeField Reporting.executed_at received a naive datetime (2023-08-23 15:37:17.630019) while time zone support is active.\n",
      "  RuntimeWarning)\n",
      "/home/luan/.cache/pypoetry/virtualenvs/apps-ZFymp6kh-py3.7/lib/python3.7/site-packages/django/db/models/fields/__init__.py:1427: RuntimeWarning: DateTimeField HistoricalReporting.executed_at received a naive datetime (2023-08-23 15:37:17.630019) while time zone support is active.\n",
      "  RuntimeWarning)\n"
     ]
    },
    {
     "name": "stdout",
     "output_type": "stream",
     "text": [
      "Searching KM on direction...\n",
      "Found KM on Road 1926: SP-330\n",
      "VPT-IT-2023.03129\n",
      "Searching KM on direction...\n",
      "Searching KM without direction...\n",
      "Found KM on Road 1926: SP-330\n",
      "VPT-IT-2023.03130\n",
      "Searching KM on direction...\n",
      "Found KM on Road 1926: SP-330\n",
      "VPT-IT-2023.03131\n"
     ]
    },
    {
     "name": "stderr",
     "output_type": "stream",
     "text": [
      "/home/luan/.cache/pypoetry/virtualenvs/apps-ZFymp6kh-py3.7/lib/python3.7/site-packages/django/db/models/fields/__init__.py:1427: RuntimeWarning: DateTimeField Reporting.executed_at received a naive datetime (2023-08-23 15:37:17.796847) while time zone support is active.\n",
      "  RuntimeWarning)\n",
      "/home/luan/.cache/pypoetry/virtualenvs/apps-ZFymp6kh-py3.7/lib/python3.7/site-packages/django/db/models/fields/__init__.py:1427: RuntimeWarning: DateTimeField HistoricalReporting.executed_at received a naive datetime (2023-08-23 15:37:17.796847) while time zone support is active.\n",
      "  RuntimeWarning)\n",
      "/home/luan/.cache/pypoetry/virtualenvs/apps-ZFymp6kh-py3.7/lib/python3.7/site-packages/django/db/models/fields/__init__.py:1427: RuntimeWarning: DateTimeField Reporting.executed_at received a naive datetime (2023-08-23 15:37:17.982870) while time zone support is active.\n",
      "  RuntimeWarning)\n",
      "/home/luan/.cache/pypoetry/virtualenvs/apps-ZFymp6kh-py3.7/lib/python3.7/site-packages/django/db/models/fields/__init__.py:1427: RuntimeWarning: DateTimeField HistoricalReporting.executed_at received a naive datetime (2023-08-23 15:37:17.982870) while time zone support is active.\n",
      "  RuntimeWarning)\n"
     ]
    },
    {
     "name": "stdout",
     "output_type": "stream",
     "text": [
      "Searching KM on direction...\n",
      "Searching KM without direction...\n",
      "Found KM on Road 1926: SP-330\n",
      "VPT-IT-2023.03132\n"
     ]
    },
    {
     "name": "stderr",
     "output_type": "stream",
     "text": [
      "/home/luan/.cache/pypoetry/virtualenvs/apps-ZFymp6kh-py3.7/lib/python3.7/site-packages/django/db/models/fields/__init__.py:1427: RuntimeWarning: DateTimeField Reporting.executed_at received a naive datetime (2023-08-23 15:37:18.227275) while time zone support is active.\n",
      "  RuntimeWarning)\n",
      "/home/luan/.cache/pypoetry/virtualenvs/apps-ZFymp6kh-py3.7/lib/python3.7/site-packages/django/db/models/fields/__init__.py:1427: RuntimeWarning: DateTimeField HistoricalReporting.executed_at received a naive datetime (2023-08-23 15:37:18.227275) while time zone support is active.\n",
      "  RuntimeWarning)\n"
     ]
    },
    {
     "name": "stdout",
     "output_type": "stream",
     "text": [
      "Searching KM on direction...\n",
      "Found KM on Road 1926: SP-330\n",
      "VPT-IT-2023.03133\n"
     ]
    },
    {
     "name": "stderr",
     "output_type": "stream",
     "text": [
      "/home/luan/.cache/pypoetry/virtualenvs/apps-ZFymp6kh-py3.7/lib/python3.7/site-packages/django/db/models/fields/__init__.py:1427: RuntimeWarning: DateTimeField Reporting.executed_at received a naive datetime (2023-08-23 15:37:18.627254) while time zone support is active.\n",
      "  RuntimeWarning)\n",
      "/home/luan/.cache/pypoetry/virtualenvs/apps-ZFymp6kh-py3.7/lib/python3.7/site-packages/django/db/models/fields/__init__.py:1427: RuntimeWarning: DateTimeField HistoricalReporting.executed_at received a naive datetime (2023-08-23 15:37:18.627254) while time zone support is active.\n",
      "  RuntimeWarning)\n"
     ]
    },
    {
     "name": "stdout",
     "output_type": "stream",
     "text": [
      "Searching KM on direction...\n",
      "Searching KM without direction...\n",
      "Found KM on Road 1926: SP-330\n",
      "VPT-IT-2023.03134\n"
     ]
    },
    {
     "name": "stderr",
     "output_type": "stream",
     "text": [
      "/home/luan/.cache/pypoetry/virtualenvs/apps-ZFymp6kh-py3.7/lib/python3.7/site-packages/django/db/models/fields/__init__.py:1427: RuntimeWarning: DateTimeField Reporting.executed_at received a naive datetime (2023-08-23 15:37:19.027174) while time zone support is active.\n",
      "  RuntimeWarning)\n",
      "/home/luan/.cache/pypoetry/virtualenvs/apps-ZFymp6kh-py3.7/lib/python3.7/site-packages/django/db/models/fields/__init__.py:1427: RuntimeWarning: DateTimeField HistoricalReporting.executed_at received a naive datetime (2023-08-23 15:37:19.027174) while time zone support is active.\n",
      "  RuntimeWarning)\n"
     ]
    },
    {
     "name": "stdout",
     "output_type": "stream",
     "text": [
      "Searching KM on direction...\n",
      "Searching KM without direction...\n",
      "Found KM on Road 1926: SP-330\n",
      "VPT-IT-2023.03135\n",
      "Searching KM on direction...\n",
      "Searching KM without direction...\n",
      "Found KM on Road 1926: SP-330\n"
     ]
    },
    {
     "name": "stderr",
     "output_type": "stream",
     "text": [
      "/home/luan/.cache/pypoetry/virtualenvs/apps-ZFymp6kh-py3.7/lib/python3.7/site-packages/django/db/models/fields/__init__.py:1427: RuntimeWarning: DateTimeField Reporting.executed_at received a naive datetime (2023-08-23 15:37:19.436436) while time zone support is active.\n",
      "  RuntimeWarning)\n",
      "/home/luan/.cache/pypoetry/virtualenvs/apps-ZFymp6kh-py3.7/lib/python3.7/site-packages/django/db/models/fields/__init__.py:1427: RuntimeWarning: DateTimeField HistoricalReporting.executed_at received a naive datetime (2023-08-23 15:37:19.436436) while time zone support is active.\n",
      "  RuntimeWarning)\n"
     ]
    },
    {
     "name": "stdout",
     "output_type": "stream",
     "text": [
      "VPT-IT-2023.03136\n",
      "Searching KM on direction...\n",
      "Found KM on Road 1926: SP-330\n"
     ]
    },
    {
     "name": "stderr",
     "output_type": "stream",
     "text": [
      "/home/luan/.cache/pypoetry/virtualenvs/apps-ZFymp6kh-py3.7/lib/python3.7/site-packages/django/db/models/fields/__init__.py:1427: RuntimeWarning: DateTimeField Reporting.executed_at received a naive datetime (2023-08-23 15:37:19.787473) while time zone support is active.\n",
      "  RuntimeWarning)\n",
      "/home/luan/.cache/pypoetry/virtualenvs/apps-ZFymp6kh-py3.7/lib/python3.7/site-packages/django/db/models/fields/__init__.py:1427: RuntimeWarning: DateTimeField HistoricalReporting.executed_at received a naive datetime (2023-08-23 15:37:19.787473) while time zone support is active.\n",
      "  RuntimeWarning)\n"
     ]
    },
    {
     "name": "stdout",
     "output_type": "stream",
     "text": [
      "VPT-IT-2023.03137\n"
     ]
    },
    {
     "name": "stderr",
     "output_type": "stream",
     "text": [
      "/home/luan/.cache/pypoetry/virtualenvs/apps-ZFymp6kh-py3.7/lib/python3.7/site-packages/django/db/models/fields/__init__.py:1427: RuntimeWarning: DateTimeField Reporting.executed_at received a naive datetime (2023-08-23 15:37:20.187689) while time zone support is active.\n",
      "  RuntimeWarning)\n",
      "/home/luan/.cache/pypoetry/virtualenvs/apps-ZFymp6kh-py3.7/lib/python3.7/site-packages/django/db/models/fields/__init__.py:1427: RuntimeWarning: DateTimeField HistoricalReporting.executed_at received a naive datetime (2023-08-23 15:37:20.187689) while time zone support is active.\n",
      "  RuntimeWarning)\n"
     ]
    },
    {
     "name": "stdout",
     "output_type": "stream",
     "text": [
      "Searching KM on direction...\n",
      "Searching KM without direction...\n",
      "Found KM on Road 1926: SP-330\n",
      "VPT-IT-2023.03138\n"
     ]
    },
    {
     "name": "stderr",
     "output_type": "stream",
     "text": [
      "/home/luan/.cache/pypoetry/virtualenvs/apps-ZFymp6kh-py3.7/lib/python3.7/site-packages/django/db/models/fields/__init__.py:1427: RuntimeWarning: DateTimeField Reporting.executed_at received a naive datetime (2023-08-23 15:37:20.598839) while time zone support is active.\n",
      "  RuntimeWarning)\n",
      "/home/luan/.cache/pypoetry/virtualenvs/apps-ZFymp6kh-py3.7/lib/python3.7/site-packages/django/db/models/fields/__init__.py:1427: RuntimeWarning: DateTimeField HistoricalReporting.executed_at received a naive datetime (2023-08-23 15:37:20.598839) while time zone support is active.\n",
      "  RuntimeWarning)\n",
      "/home/luan/.cache/pypoetry/virtualenvs/apps-ZFymp6kh-py3.7/lib/python3.7/site-packages/django/db/models/fields/__init__.py:1427: RuntimeWarning: DateTimeField Reporting.executed_at received a naive datetime (2023-08-23 15:37:20.769856) while time zone support is active.\n",
      "  RuntimeWarning)\n",
      "/home/luan/.cache/pypoetry/virtualenvs/apps-ZFymp6kh-py3.7/lib/python3.7/site-packages/django/db/models/fields/__init__.py:1427: RuntimeWarning: DateTimeField HistoricalReporting.executed_at received a naive datetime (2023-08-23 15:37:20.769856) while time zone support is active.\n",
      "  RuntimeWarning)\n"
     ]
    },
    {
     "name": "stdout",
     "output_type": "stream",
     "text": [
      "Searching KM on direction...\n",
      "Found KM on Road 1926: SP-330\n",
      "VPT-IT-2023.03139\n",
      "Searching KM on direction...\n",
      "Searching KM without direction...\n",
      "Found KM on Road 1926: SP-330\n",
      "VPT-IT-2023.03140\n",
      "Searching KM on direction...\n",
      "Found KM on Road 1926: SP-330\n",
      "VPT-IT-2023.03141\n"
     ]
    },
    {
     "name": "stderr",
     "output_type": "stream",
     "text": [
      "/home/luan/.cache/pypoetry/virtualenvs/apps-ZFymp6kh-py3.7/lib/python3.7/site-packages/django/db/models/fields/__init__.py:1427: RuntimeWarning: DateTimeField Reporting.executed_at received a naive datetime (2023-08-23 15:37:20.943169) while time zone support is active.\n",
      "  RuntimeWarning)\n",
      "/home/luan/.cache/pypoetry/virtualenvs/apps-ZFymp6kh-py3.7/lib/python3.7/site-packages/django/db/models/fields/__init__.py:1427: RuntimeWarning: DateTimeField HistoricalReporting.executed_at received a naive datetime (2023-08-23 15:37:20.943169) while time zone support is active.\n",
      "  RuntimeWarning)\n",
      "/home/luan/.cache/pypoetry/virtualenvs/apps-ZFymp6kh-py3.7/lib/python3.7/site-packages/django/db/models/fields/__init__.py:1427: RuntimeWarning: DateTimeField Reporting.executed_at received a naive datetime (2023-08-23 15:37:21.122596) while time zone support is active.\n",
      "  RuntimeWarning)\n",
      "/home/luan/.cache/pypoetry/virtualenvs/apps-ZFymp6kh-py3.7/lib/python3.7/site-packages/django/db/models/fields/__init__.py:1427: RuntimeWarning: DateTimeField HistoricalReporting.executed_at received a naive datetime (2023-08-23 15:37:21.122596) while time zone support is active.\n",
      "  RuntimeWarning)\n"
     ]
    },
    {
     "name": "stdout",
     "output_type": "stream",
     "text": [
      "Searching KM on direction...\n",
      "Found KM on Road 1926: SP-330\n",
      "VPT-IT-2023.03142\n",
      "Searching KM on direction...\n"
     ]
    },
    {
     "name": "stderr",
     "output_type": "stream",
     "text": [
      "/home/luan/.cache/pypoetry/virtualenvs/apps-ZFymp6kh-py3.7/lib/python3.7/site-packages/django/db/models/fields/__init__.py:1427: RuntimeWarning: DateTimeField Reporting.executed_at received a naive datetime (2023-08-23 15:37:21.327169) while time zone support is active.\n",
      "  RuntimeWarning)\n",
      "/home/luan/.cache/pypoetry/virtualenvs/apps-ZFymp6kh-py3.7/lib/python3.7/site-packages/django/db/models/fields/__init__.py:1427: RuntimeWarning: DateTimeField HistoricalReporting.executed_at received a naive datetime (2023-08-23 15:37:21.327169) while time zone support is active.\n",
      "  RuntimeWarning)\n"
     ]
    },
    {
     "name": "stdout",
     "output_type": "stream",
     "text": [
      "Searching KM without direction...\n",
      "Found KM on Road 1926: SP-330\n",
      "VPT-IT-2023.03143\n",
      "Searching KM on direction...\n",
      "Searching KM without direction...\n",
      "Found KM on Road 1926: SP-330\n"
     ]
    },
    {
     "name": "stderr",
     "output_type": "stream",
     "text": [
      "/home/luan/.cache/pypoetry/virtualenvs/apps-ZFymp6kh-py3.7/lib/python3.7/site-packages/django/db/models/fields/__init__.py:1427: RuntimeWarning: DateTimeField Reporting.executed_at received a naive datetime (2023-08-23 15:37:21.534538) while time zone support is active.\n",
      "  RuntimeWarning)\n",
      "/home/luan/.cache/pypoetry/virtualenvs/apps-ZFymp6kh-py3.7/lib/python3.7/site-packages/django/db/models/fields/__init__.py:1427: RuntimeWarning: DateTimeField HistoricalReporting.executed_at received a naive datetime (2023-08-23 15:37:21.534538) while time zone support is active.\n",
      "  RuntimeWarning)\n"
     ]
    },
    {
     "name": "stdout",
     "output_type": "stream",
     "text": [
      "VPT-IT-2023.03144\n",
      "Searching KM on direction...\n",
      "Found KM on Road 1926: SP-330\n"
     ]
    },
    {
     "name": "stderr",
     "output_type": "stream",
     "text": [
      "/home/luan/.cache/pypoetry/virtualenvs/apps-ZFymp6kh-py3.7/lib/python3.7/site-packages/django/db/models/fields/__init__.py:1427: RuntimeWarning: DateTimeField Reporting.executed_at received a naive datetime (2023-08-23 15:37:21.732043) while time zone support is active.\n",
      "  RuntimeWarning)\n",
      "/home/luan/.cache/pypoetry/virtualenvs/apps-ZFymp6kh-py3.7/lib/python3.7/site-packages/django/db/models/fields/__init__.py:1427: RuntimeWarning: DateTimeField HistoricalReporting.executed_at received a naive datetime (2023-08-23 15:37:21.732043) while time zone support is active.\n",
      "  RuntimeWarning)\n"
     ]
    },
    {
     "name": "stdout",
     "output_type": "stream",
     "text": [
      "VPT-IT-2023.03145\n",
      "Searching KM on direction...\n",
      "Found KM on Road 1926: SP-330\n"
     ]
    },
    {
     "name": "stderr",
     "output_type": "stream",
     "text": [
      "/home/luan/.cache/pypoetry/virtualenvs/apps-ZFymp6kh-py3.7/lib/python3.7/site-packages/django/db/models/fields/__init__.py:1427: RuntimeWarning: DateTimeField Reporting.executed_at received a naive datetime (2023-08-23 15:37:21.971401) while time zone support is active.\n",
      "  RuntimeWarning)\n",
      "/home/luan/.cache/pypoetry/virtualenvs/apps-ZFymp6kh-py3.7/lib/python3.7/site-packages/django/db/models/fields/__init__.py:1427: RuntimeWarning: DateTimeField HistoricalReporting.executed_at received a naive datetime (2023-08-23 15:37:21.971401) while time zone support is active.\n",
      "  RuntimeWarning)\n"
     ]
    },
    {
     "name": "stdout",
     "output_type": "stream",
     "text": [
      "VPT-IT-2023.03146\n",
      "Searching KM on direction...\n",
      "Searching KM without direction...\n",
      "Found KM on Road 1926: SP-330\n"
     ]
    },
    {
     "name": "stderr",
     "output_type": "stream",
     "text": [
      "/home/luan/.cache/pypoetry/virtualenvs/apps-ZFymp6kh-py3.7/lib/python3.7/site-packages/django/db/models/fields/__init__.py:1427: RuntimeWarning: DateTimeField Reporting.executed_at received a naive datetime (2023-08-23 15:37:22.213459) while time zone support is active.\n",
      "  RuntimeWarning)\n",
      "/home/luan/.cache/pypoetry/virtualenvs/apps-ZFymp6kh-py3.7/lib/python3.7/site-packages/django/db/models/fields/__init__.py:1427: RuntimeWarning: DateTimeField HistoricalReporting.executed_at received a naive datetime (2023-08-23 15:37:22.213459) while time zone support is active.\n",
      "  RuntimeWarning)\n"
     ]
    },
    {
     "name": "stdout",
     "output_type": "stream",
     "text": [
      "VPT-IT-2023.03147\n",
      "Searching KM on direction...\n",
      "Searching KM without direction...\n",
      "Found KM on Road 1926: SP-330\n"
     ]
    },
    {
     "name": "stderr",
     "output_type": "stream",
     "text": [
      "/home/luan/.cache/pypoetry/virtualenvs/apps-ZFymp6kh-py3.7/lib/python3.7/site-packages/django/db/models/fields/__init__.py:1427: RuntimeWarning: DateTimeField Reporting.executed_at received a naive datetime (2023-08-23 15:37:22.467821) while time zone support is active.\n",
      "  RuntimeWarning)\n",
      "/home/luan/.cache/pypoetry/virtualenvs/apps-ZFymp6kh-py3.7/lib/python3.7/site-packages/django/db/models/fields/__init__.py:1427: RuntimeWarning: DateTimeField HistoricalReporting.executed_at received a naive datetime (2023-08-23 15:37:22.467821) while time zone support is active.\n",
      "  RuntimeWarning)\n"
     ]
    },
    {
     "name": "stdout",
     "output_type": "stream",
     "text": [
      "VPT-IT-2023.03148\n",
      "Searching KM on direction...\n",
      "Found KM on Road 1926: SP-330\n"
     ]
    },
    {
     "name": "stderr",
     "output_type": "stream",
     "text": [
      "/home/luan/.cache/pypoetry/virtualenvs/apps-ZFymp6kh-py3.7/lib/python3.7/site-packages/django/db/models/fields/__init__.py:1427: RuntimeWarning: DateTimeField Reporting.executed_at received a naive datetime (2023-08-23 15:37:22.715175) while time zone support is active.\n",
      "  RuntimeWarning)\n",
      "/home/luan/.cache/pypoetry/virtualenvs/apps-ZFymp6kh-py3.7/lib/python3.7/site-packages/django/db/models/fields/__init__.py:1427: RuntimeWarning: DateTimeField HistoricalReporting.executed_at received a naive datetime (2023-08-23 15:37:22.715175) while time zone support is active.\n",
      "  RuntimeWarning)\n"
     ]
    },
    {
     "name": "stdout",
     "output_type": "stream",
     "text": [
      "VPT-IT-2023.03149\n",
      "Searching KM on direction...\n",
      "Found KM on Road 1926: SP-330\n"
     ]
    },
    {
     "name": "stderr",
     "output_type": "stream",
     "text": [
      "/home/luan/.cache/pypoetry/virtualenvs/apps-ZFymp6kh-py3.7/lib/python3.7/site-packages/django/db/models/fields/__init__.py:1427: RuntimeWarning: DateTimeField Reporting.executed_at received a naive datetime (2023-08-23 15:37:22.945818) while time zone support is active.\n",
      "  RuntimeWarning)\n",
      "/home/luan/.cache/pypoetry/virtualenvs/apps-ZFymp6kh-py3.7/lib/python3.7/site-packages/django/db/models/fields/__init__.py:1427: RuntimeWarning: DateTimeField HistoricalReporting.executed_at received a naive datetime (2023-08-23 15:37:22.945818) while time zone support is active.\n",
      "  RuntimeWarning)\n"
     ]
    },
    {
     "name": "stdout",
     "output_type": "stream",
     "text": [
      "VPT-IT-2023.03150\n",
      "Searching KM on direction...\n",
      "Found KM on Road 1926: SP-330\n",
      "VPT-IT-2023.03151\n"
     ]
    },
    {
     "name": "stderr",
     "output_type": "stream",
     "text": [
      "/home/luan/.cache/pypoetry/virtualenvs/apps-ZFymp6kh-py3.7/lib/python3.7/site-packages/django/db/models/fields/__init__.py:1427: RuntimeWarning: DateTimeField Reporting.executed_at received a naive datetime (2023-08-23 15:37:23.183463) while time zone support is active.\n",
      "  RuntimeWarning)\n",
      "/home/luan/.cache/pypoetry/virtualenvs/apps-ZFymp6kh-py3.7/lib/python3.7/site-packages/django/db/models/fields/__init__.py:1427: RuntimeWarning: DateTimeField HistoricalReporting.executed_at received a naive datetime (2023-08-23 15:37:23.183463) while time zone support is active.\n",
      "  RuntimeWarning)\n",
      "/home/luan/.cache/pypoetry/virtualenvs/apps-ZFymp6kh-py3.7/lib/python3.7/site-packages/django/db/models/fields/__init__.py:1427: RuntimeWarning: DateTimeField Reporting.executed_at received a naive datetime (2023-08-23 15:37:23.339065) while time zone support is active.\n",
      "  RuntimeWarning)\n",
      "/home/luan/.cache/pypoetry/virtualenvs/apps-ZFymp6kh-py3.7/lib/python3.7/site-packages/django/db/models/fields/__init__.py:1427: RuntimeWarning: DateTimeField HistoricalReporting.executed_at received a naive datetime (2023-08-23 15:37:23.339065) while time zone support is active.\n",
      "  RuntimeWarning)\n"
     ]
    },
    {
     "name": "stdout",
     "output_type": "stream",
     "text": [
      "Searching KM on direction...\n",
      "Found KM on Road 1926: SP-330\n",
      "VPT-IT-2023.03152\n",
      "Searching KM on direction...\n",
      "Searching KM without direction...\n",
      "Found KM on Road 1926: SP-330\n"
     ]
    },
    {
     "name": "stderr",
     "output_type": "stream",
     "text": [
      "/home/luan/.cache/pypoetry/virtualenvs/apps-ZFymp6kh-py3.7/lib/python3.7/site-packages/django/db/models/fields/__init__.py:1427: RuntimeWarning: DateTimeField Reporting.executed_at received a naive datetime (2023-08-23 15:37:23.498692) while time zone support is active.\n",
      "  RuntimeWarning)\n",
      "/home/luan/.cache/pypoetry/virtualenvs/apps-ZFymp6kh-py3.7/lib/python3.7/site-packages/django/db/models/fields/__init__.py:1427: RuntimeWarning: DateTimeField HistoricalReporting.executed_at received a naive datetime (2023-08-23 15:37:23.498692) while time zone support is active.\n",
      "  RuntimeWarning)\n",
      "/home/luan/.cache/pypoetry/virtualenvs/apps-ZFymp6kh-py3.7/lib/python3.7/site-packages/django/db/models/fields/__init__.py:1427: RuntimeWarning: DateTimeField Reporting.executed_at received a naive datetime (2023-08-23 15:37:23.658701) while time zone support is active.\n",
      "  RuntimeWarning)\n",
      "/home/luan/.cache/pypoetry/virtualenvs/apps-ZFymp6kh-py3.7/lib/python3.7/site-packages/django/db/models/fields/__init__.py:1427: RuntimeWarning: DateTimeField HistoricalReporting.executed_at received a naive datetime (2023-08-23 15:37:23.658701) while time zone support is active.\n",
      "  RuntimeWarning)\n"
     ]
    },
    {
     "name": "stdout",
     "output_type": "stream",
     "text": [
      "VPT-IT-2023.03153\n",
      "Searching KM on direction...\n",
      "Found KM on Road 1926: SP-330\n",
      "VPT-IT-2023.03154\n"
     ]
    },
    {
     "name": "stderr",
     "output_type": "stream",
     "text": [
      "/home/luan/.cache/pypoetry/virtualenvs/apps-ZFymp6kh-py3.7/lib/python3.7/site-packages/django/db/models/fields/__init__.py:1427: RuntimeWarning: DateTimeField Reporting.executed_at received a naive datetime (2023-08-23 15:37:23.819826) while time zone support is active.\n",
      "  RuntimeWarning)\n",
      "/home/luan/.cache/pypoetry/virtualenvs/apps-ZFymp6kh-py3.7/lib/python3.7/site-packages/django/db/models/fields/__init__.py:1427: RuntimeWarning: DateTimeField HistoricalReporting.executed_at received a naive datetime (2023-08-23 15:37:23.819826) while time zone support is active.\n",
      "  RuntimeWarning)\n",
      "/home/luan/.cache/pypoetry/virtualenvs/apps-ZFymp6kh-py3.7/lib/python3.7/site-packages/django/db/models/fields/__init__.py:1427: RuntimeWarning: DateTimeField Reporting.executed_at received a naive datetime (2023-08-23 15:37:23.980758) while time zone support is active.\n",
      "  RuntimeWarning)\n",
      "/home/luan/.cache/pypoetry/virtualenvs/apps-ZFymp6kh-py3.7/lib/python3.7/site-packages/django/db/models/fields/__init__.py:1427: RuntimeWarning: DateTimeField HistoricalReporting.executed_at received a naive datetime (2023-08-23 15:37:23.980758) while time zone support is active.\n",
      "  RuntimeWarning)\n"
     ]
    },
    {
     "name": "stdout",
     "output_type": "stream",
     "text": [
      "Searching KM on direction...\n",
      "Found KM on Road 1926: SP-330\n",
      "VPT-IT-2023.03155\n",
      "Searching KM on direction...\n",
      "Searching KM without direction...\n",
      "Found KM on Road 1926: SP-330\n",
      "VPT-IT-2023.03156\n",
      "Searching KM on direction...\n",
      "Found KM on Road 1926: SP-330\n",
      "VPT-IT-2023.03157\n"
     ]
    },
    {
     "name": "stderr",
     "output_type": "stream",
     "text": [
      "/home/luan/.cache/pypoetry/virtualenvs/apps-ZFymp6kh-py3.7/lib/python3.7/site-packages/django/db/models/fields/__init__.py:1427: RuntimeWarning: DateTimeField Reporting.executed_at received a naive datetime (2023-08-23 15:37:24.141378) while time zone support is active.\n",
      "  RuntimeWarning)\n",
      "/home/luan/.cache/pypoetry/virtualenvs/apps-ZFymp6kh-py3.7/lib/python3.7/site-packages/django/db/models/fields/__init__.py:1427: RuntimeWarning: DateTimeField HistoricalReporting.executed_at received a naive datetime (2023-08-23 15:37:24.141378) while time zone support is active.\n",
      "  RuntimeWarning)\n",
      "/home/luan/.cache/pypoetry/virtualenvs/apps-ZFymp6kh-py3.7/lib/python3.7/site-packages/django/db/models/fields/__init__.py:1427: RuntimeWarning: DateTimeField Reporting.executed_at received a naive datetime (2023-08-23 15:37:24.295516) while time zone support is active.\n",
      "  RuntimeWarning)\n",
      "/home/luan/.cache/pypoetry/virtualenvs/apps-ZFymp6kh-py3.7/lib/python3.7/site-packages/django/db/models/fields/__init__.py:1427: RuntimeWarning: DateTimeField HistoricalReporting.executed_at received a naive datetime (2023-08-23 15:37:24.295516) while time zone support is active.\n",
      "  RuntimeWarning)\n"
     ]
    },
    {
     "name": "stdout",
     "output_type": "stream",
     "text": [
      "Searching KM on direction...\n",
      "Searching KM without direction...\n",
      "Found KM on Road 1926: SP-330\n",
      "VPT-IT-2023.03158\n",
      "Searching KM on direction...\n",
      "Found KM on Road 1926: SP-330\n"
     ]
    },
    {
     "name": "stderr",
     "output_type": "stream",
     "text": [
      "/home/luan/.cache/pypoetry/virtualenvs/apps-ZFymp6kh-py3.7/lib/python3.7/site-packages/django/db/models/fields/__init__.py:1427: RuntimeWarning: DateTimeField Reporting.executed_at received a naive datetime (2023-08-23 15:37:24.451647) while time zone support is active.\n",
      "  RuntimeWarning)\n",
      "/home/luan/.cache/pypoetry/virtualenvs/apps-ZFymp6kh-py3.7/lib/python3.7/site-packages/django/db/models/fields/__init__.py:1427: RuntimeWarning: DateTimeField HistoricalReporting.executed_at received a naive datetime (2023-08-23 15:37:24.451647) while time zone support is active.\n",
      "  RuntimeWarning)\n",
      "/home/luan/.cache/pypoetry/virtualenvs/apps-ZFymp6kh-py3.7/lib/python3.7/site-packages/django/db/models/fields/__init__.py:1427: RuntimeWarning: DateTimeField Reporting.executed_at received a naive datetime (2023-08-23 15:37:24.610613) while time zone support is active.\n",
      "  RuntimeWarning)\n",
      "/home/luan/.cache/pypoetry/virtualenvs/apps-ZFymp6kh-py3.7/lib/python3.7/site-packages/django/db/models/fields/__init__.py:1427: RuntimeWarning: DateTimeField HistoricalReporting.executed_at received a naive datetime (2023-08-23 15:37:24.610613) while time zone support is active.\n",
      "  RuntimeWarning)\n"
     ]
    },
    {
     "name": "stdout",
     "output_type": "stream",
     "text": [
      "VPT-IT-2023.03159\n",
      "Searching KM on direction...\n",
      "Found KM on Road 1926: SP-330\n",
      "VPT-IT-2023.03160\n"
     ]
    },
    {
     "name": "stderr",
     "output_type": "stream",
     "text": [
      "/home/luan/.cache/pypoetry/virtualenvs/apps-ZFymp6kh-py3.7/lib/python3.7/site-packages/django/db/models/fields/__init__.py:1427: RuntimeWarning: DateTimeField Reporting.executed_at received a naive datetime (2023-08-23 15:37:24.763591) while time zone support is active.\n",
      "  RuntimeWarning)\n",
      "/home/luan/.cache/pypoetry/virtualenvs/apps-ZFymp6kh-py3.7/lib/python3.7/site-packages/django/db/models/fields/__init__.py:1427: RuntimeWarning: DateTimeField HistoricalReporting.executed_at received a naive datetime (2023-08-23 15:37:24.763591) while time zone support is active.\n",
      "  RuntimeWarning)\n",
      "/home/luan/.cache/pypoetry/virtualenvs/apps-ZFymp6kh-py3.7/lib/python3.7/site-packages/django/db/models/fields/__init__.py:1427: RuntimeWarning: DateTimeField Reporting.executed_at received a naive datetime (2023-08-23 15:37:24.921293) while time zone support is active.\n",
      "  RuntimeWarning)\n",
      "/home/luan/.cache/pypoetry/virtualenvs/apps-ZFymp6kh-py3.7/lib/python3.7/site-packages/django/db/models/fields/__init__.py:1427: RuntimeWarning: DateTimeField HistoricalReporting.executed_at received a naive datetime (2023-08-23 15:37:24.921293) while time zone support is active.\n",
      "  RuntimeWarning)\n"
     ]
    },
    {
     "name": "stdout",
     "output_type": "stream",
     "text": [
      "Searching KM on direction...\n",
      "Found KM on Road 1926: SP-330\n",
      "VPT-IT-2023.03161\n",
      "Searching KM on direction...\n",
      "Searching KM without direction...\n",
      "Found KM on Road 1926: SP-330\n",
      "VPT-IT-2023.03162\n",
      "Searching KM on direction...\n",
      "Searching KM without direction...\n",
      "Found KM on Road 1926: SP-330\n",
      "VPT-IT-2023.03163\n"
     ]
    },
    {
     "name": "stderr",
     "output_type": "stream",
     "text": [
      "/home/luan/.cache/pypoetry/virtualenvs/apps-ZFymp6kh-py3.7/lib/python3.7/site-packages/django/db/models/fields/__init__.py:1427: RuntimeWarning: DateTimeField Reporting.executed_at received a naive datetime (2023-08-23 15:37:25.081231) while time zone support is active.\n",
      "  RuntimeWarning)\n",
      "/home/luan/.cache/pypoetry/virtualenvs/apps-ZFymp6kh-py3.7/lib/python3.7/site-packages/django/db/models/fields/__init__.py:1427: RuntimeWarning: DateTimeField HistoricalReporting.executed_at received a naive datetime (2023-08-23 15:37:25.081231) while time zone support is active.\n",
      "  RuntimeWarning)\n",
      "/home/luan/.cache/pypoetry/virtualenvs/apps-ZFymp6kh-py3.7/lib/python3.7/site-packages/django/db/models/fields/__init__.py:1427: RuntimeWarning: DateTimeField Reporting.executed_at received a naive datetime (2023-08-23 15:37:25.242891) while time zone support is active.\n",
      "  RuntimeWarning)\n",
      "/home/luan/.cache/pypoetry/virtualenvs/apps-ZFymp6kh-py3.7/lib/python3.7/site-packages/django/db/models/fields/__init__.py:1427: RuntimeWarning: DateTimeField HistoricalReporting.executed_at received a naive datetime (2023-08-23 15:37:25.242891) while time zone support is active.\n",
      "  RuntimeWarning)\n"
     ]
    },
    {
     "name": "stdout",
     "output_type": "stream",
     "text": [
      "Searching KM on direction...\n",
      "Searching KM without direction...\n",
      "Found KM on Road 1926: SP-330\n",
      "VPT-IT-2023.03164\n",
      "Searching KM on direction...\n",
      "Found KM on Road 1926: SP-330\n"
     ]
    },
    {
     "name": "stderr",
     "output_type": "stream",
     "text": [
      "/home/luan/.cache/pypoetry/virtualenvs/apps-ZFymp6kh-py3.7/lib/python3.7/site-packages/django/db/models/fields/__init__.py:1427: RuntimeWarning: DateTimeField Reporting.executed_at received a naive datetime (2023-08-23 15:37:25.407653) while time zone support is active.\n",
      "  RuntimeWarning)\n",
      "/home/luan/.cache/pypoetry/virtualenvs/apps-ZFymp6kh-py3.7/lib/python3.7/site-packages/django/db/models/fields/__init__.py:1427: RuntimeWarning: DateTimeField HistoricalReporting.executed_at received a naive datetime (2023-08-23 15:37:25.407653) while time zone support is active.\n",
      "  RuntimeWarning)\n"
     ]
    },
    {
     "name": "stdout",
     "output_type": "stream",
     "text": [
      "VPT-IT-2023.03165\n",
      "Searching KM on direction...\n",
      "Searching KM without direction...\n",
      "Found KM on Road 1926: SP-330\n",
      "VPT-IT-2023.03166\n"
     ]
    },
    {
     "name": "stderr",
     "output_type": "stream",
     "text": [
      "/home/luan/.cache/pypoetry/virtualenvs/apps-ZFymp6kh-py3.7/lib/python3.7/site-packages/django/db/models/fields/__init__.py:1427: RuntimeWarning: DateTimeField Reporting.executed_at received a naive datetime (2023-08-23 15:37:25.603644) while time zone support is active.\n",
      "  RuntimeWarning)\n",
      "/home/luan/.cache/pypoetry/virtualenvs/apps-ZFymp6kh-py3.7/lib/python3.7/site-packages/django/db/models/fields/__init__.py:1427: RuntimeWarning: DateTimeField HistoricalReporting.executed_at received a naive datetime (2023-08-23 15:37:25.603644) while time zone support is active.\n",
      "  RuntimeWarning)\n",
      "/home/luan/.cache/pypoetry/virtualenvs/apps-ZFymp6kh-py3.7/lib/python3.7/site-packages/django/db/models/fields/__init__.py:1427: RuntimeWarning: DateTimeField Reporting.executed_at received a naive datetime (2023-08-23 15:37:25.772538) while time zone support is active.\n",
      "  RuntimeWarning)\n",
      "/home/luan/.cache/pypoetry/virtualenvs/apps-ZFymp6kh-py3.7/lib/python3.7/site-packages/django/db/models/fields/__init__.py:1427: RuntimeWarning: DateTimeField HistoricalReporting.executed_at received a naive datetime (2023-08-23 15:37:25.772538) while time zone support is active.\n",
      "  RuntimeWarning)\n"
     ]
    },
    {
     "name": "stdout",
     "output_type": "stream",
     "text": [
      "Searching KM on direction...\n",
      "Searching KM without direction...\n",
      "Found KM on Road 1926: SP-330\n",
      "VPT-IT-2023.03167\n",
      "Searching KM on direction...\n",
      "Found KM on Road 1926: SP-330\n"
     ]
    },
    {
     "name": "stderr",
     "output_type": "stream",
     "text": [
      "/home/luan/.cache/pypoetry/virtualenvs/apps-ZFymp6kh-py3.7/lib/python3.7/site-packages/django/db/models/fields/__init__.py:1427: RuntimeWarning: DateTimeField Reporting.executed_at received a naive datetime (2023-08-23 15:37:25.958454) while time zone support is active.\n",
      "  RuntimeWarning)\n",
      "/home/luan/.cache/pypoetry/virtualenvs/apps-ZFymp6kh-py3.7/lib/python3.7/site-packages/django/db/models/fields/__init__.py:1427: RuntimeWarning: DateTimeField HistoricalReporting.executed_at received a naive datetime (2023-08-23 15:37:25.958454) while time zone support is active.\n",
      "  RuntimeWarning)\n"
     ]
    },
    {
     "name": "stdout",
     "output_type": "stream",
     "text": [
      "VPT-IT-2023.03168\n",
      "Searching KM on direction...\n",
      "Searching KM without direction...\n",
      "Found KM on Road 1926: SP-330\n"
     ]
    },
    {
     "name": "stderr",
     "output_type": "stream",
     "text": [
      "/home/luan/.cache/pypoetry/virtualenvs/apps-ZFymp6kh-py3.7/lib/python3.7/site-packages/django/db/models/fields/__init__.py:1427: RuntimeWarning: DateTimeField Reporting.executed_at received a naive datetime (2023-08-23 15:37:26.159650) while time zone support is active.\n",
      "  RuntimeWarning)\n",
      "/home/luan/.cache/pypoetry/virtualenvs/apps-ZFymp6kh-py3.7/lib/python3.7/site-packages/django/db/models/fields/__init__.py:1427: RuntimeWarning: DateTimeField HistoricalReporting.executed_at received a naive datetime (2023-08-23 15:37:26.159650) while time zone support is active.\n",
      "  RuntimeWarning)\n"
     ]
    },
    {
     "name": "stdout",
     "output_type": "stream",
     "text": [
      "VPT-IT-2023.03169\n"
     ]
    },
    {
     "name": "stderr",
     "output_type": "stream",
     "text": [
      "/home/luan/.cache/pypoetry/virtualenvs/apps-ZFymp6kh-py3.7/lib/python3.7/site-packages/django/db/models/fields/__init__.py:1427: RuntimeWarning: DateTimeField Reporting.executed_at received a naive datetime (2023-08-23 15:37:26.497076) while time zone support is active.\n",
      "  RuntimeWarning)\n",
      "/home/luan/.cache/pypoetry/virtualenvs/apps-ZFymp6kh-py3.7/lib/python3.7/site-packages/django/db/models/fields/__init__.py:1427: RuntimeWarning: DateTimeField HistoricalReporting.executed_at received a naive datetime (2023-08-23 15:37:26.497076) while time zone support is active.\n",
      "  RuntimeWarning)\n"
     ]
    },
    {
     "name": "stdout",
     "output_type": "stream",
     "text": [
      "Searching KM on direction...\n",
      "Searching KM without direction...\n",
      "Found KM on Road 1926: SP-330\n",
      "VPT-IT-2023.03170\n"
     ]
    },
    {
     "name": "stderr",
     "output_type": "stream",
     "text": [
      "/home/luan/.cache/pypoetry/virtualenvs/apps-ZFymp6kh-py3.7/lib/python3.7/site-packages/django/db/models/fields/__init__.py:1427: RuntimeWarning: DateTimeField Reporting.executed_at received a naive datetime (2023-08-23 15:37:26.930888) while time zone support is active.\n",
      "  RuntimeWarning)\n",
      "/home/luan/.cache/pypoetry/virtualenvs/apps-ZFymp6kh-py3.7/lib/python3.7/site-packages/django/db/models/fields/__init__.py:1427: RuntimeWarning: DateTimeField HistoricalReporting.executed_at received a naive datetime (2023-08-23 15:37:26.930888) while time zone support is active.\n",
      "  RuntimeWarning)\n"
     ]
    },
    {
     "name": "stdout",
     "output_type": "stream",
     "text": [
      "Searching KM on direction...\n",
      "Found KM on Road 1926: SP-330\n",
      "VPT-IT-2023.03171\n"
     ]
    },
    {
     "name": "stderr",
     "output_type": "stream",
     "text": [
      "/home/luan/.cache/pypoetry/virtualenvs/apps-ZFymp6kh-py3.7/lib/python3.7/site-packages/django/db/models/fields/__init__.py:1427: RuntimeWarning: DateTimeField Reporting.executed_at received a naive datetime (2023-08-23 15:37:27.397235) while time zone support is active.\n",
      "  RuntimeWarning)\n",
      "/home/luan/.cache/pypoetry/virtualenvs/apps-ZFymp6kh-py3.7/lib/python3.7/site-packages/django/db/models/fields/__init__.py:1427: RuntimeWarning: DateTimeField HistoricalReporting.executed_at received a naive datetime (2023-08-23 15:37:27.397235) while time zone support is active.\n",
      "  RuntimeWarning)\n"
     ]
    },
    {
     "name": "stdout",
     "output_type": "stream",
     "text": [
      "Searching KM on direction...\n",
      "Searching KM without direction...\n",
      "Found KM on Road 1926: SP-330\n",
      "VPT-IT-2023.03172\n",
      "Searching KM on direction...\n",
      "Searching KM without direction...\n",
      "Found KM on Road 1926: SP-330\n"
     ]
    },
    {
     "name": "stderr",
     "output_type": "stream",
     "text": [
      "/home/luan/.cache/pypoetry/virtualenvs/apps-ZFymp6kh-py3.7/lib/python3.7/site-packages/django/db/models/fields/__init__.py:1427: RuntimeWarning: DateTimeField Reporting.executed_at received a naive datetime (2023-08-23 15:37:27.821374) while time zone support is active.\n",
      "  RuntimeWarning)\n",
      "/home/luan/.cache/pypoetry/virtualenvs/apps-ZFymp6kh-py3.7/lib/python3.7/site-packages/django/db/models/fields/__init__.py:1427: RuntimeWarning: DateTimeField HistoricalReporting.executed_at received a naive datetime (2023-08-23 15:37:27.821374) while time zone support is active.\n",
      "  RuntimeWarning)\n"
     ]
    },
    {
     "name": "stdout",
     "output_type": "stream",
     "text": [
      "VPT-IT-2023.03173\n"
     ]
    },
    {
     "name": "stderr",
     "output_type": "stream",
     "text": [
      "/home/luan/.cache/pypoetry/virtualenvs/apps-ZFymp6kh-py3.7/lib/python3.7/site-packages/django/db/models/fields/__init__.py:1427: RuntimeWarning: DateTimeField Reporting.executed_at received a naive datetime (2023-08-23 15:37:28.267202) while time zone support is active.\n",
      "  RuntimeWarning)\n",
      "/home/luan/.cache/pypoetry/virtualenvs/apps-ZFymp6kh-py3.7/lib/python3.7/site-packages/django/db/models/fields/__init__.py:1427: RuntimeWarning: DateTimeField HistoricalReporting.executed_at received a naive datetime (2023-08-23 15:37:28.267202) while time zone support is active.\n",
      "  RuntimeWarning)\n"
     ]
    },
    {
     "name": "stdout",
     "output_type": "stream",
     "text": [
      "Searching KM on direction...\n",
      "Found KM on Road 1926: SP-330\n",
      "VPT-IT-2023.03174\n"
     ]
    },
    {
     "name": "stderr",
     "output_type": "stream",
     "text": [
      "/home/luan/.cache/pypoetry/virtualenvs/apps-ZFymp6kh-py3.7/lib/python3.7/site-packages/django/db/models/fields/__init__.py:1427: RuntimeWarning: DateTimeField Reporting.executed_at received a naive datetime (2023-08-23 15:37:28.675338) while time zone support is active.\n",
      "  RuntimeWarning)\n",
      "/home/luan/.cache/pypoetry/virtualenvs/apps-ZFymp6kh-py3.7/lib/python3.7/site-packages/django/db/models/fields/__init__.py:1427: RuntimeWarning: DateTimeField HistoricalReporting.executed_at received a naive datetime (2023-08-23 15:37:28.675338) while time zone support is active.\n",
      "  RuntimeWarning)\n"
     ]
    },
    {
     "name": "stdout",
     "output_type": "stream",
     "text": [
      "Searching KM on direction...\n",
      "Found KM on Road 1926: SP-330\n",
      "VPT-IT-2023.03175\n"
     ]
    },
    {
     "name": "stderr",
     "output_type": "stream",
     "text": [
      "/home/luan/.cache/pypoetry/virtualenvs/apps-ZFymp6kh-py3.7/lib/python3.7/site-packages/django/db/models/fields/__init__.py:1427: RuntimeWarning: DateTimeField Reporting.executed_at received a naive datetime (2023-08-23 15:37:29.037295) while time zone support is active.\n",
      "  RuntimeWarning)\n",
      "/home/luan/.cache/pypoetry/virtualenvs/apps-ZFymp6kh-py3.7/lib/python3.7/site-packages/django/db/models/fields/__init__.py:1427: RuntimeWarning: DateTimeField HistoricalReporting.executed_at received a naive datetime (2023-08-23 15:37:29.037295) while time zone support is active.\n",
      "  RuntimeWarning)\n"
     ]
    },
    {
     "name": "stdout",
     "output_type": "stream",
     "text": [
      "Searching KM on direction...\n",
      "Found KM on Road 1926: SP-330\n",
      "VPT-IT-2023.03176\n"
     ]
    },
    {
     "name": "stderr",
     "output_type": "stream",
     "text": [
      "/home/luan/.cache/pypoetry/virtualenvs/apps-ZFymp6kh-py3.7/lib/python3.7/site-packages/django/db/models/fields/__init__.py:1427: RuntimeWarning: DateTimeField Reporting.executed_at received a naive datetime (2023-08-23 15:37:29.467248) while time zone support is active.\n",
      "  RuntimeWarning)\n",
      "/home/luan/.cache/pypoetry/virtualenvs/apps-ZFymp6kh-py3.7/lib/python3.7/site-packages/django/db/models/fields/__init__.py:1427: RuntimeWarning: DateTimeField HistoricalReporting.executed_at received a naive datetime (2023-08-23 15:37:29.467248) while time zone support is active.\n",
      "  RuntimeWarning)\n"
     ]
    },
    {
     "name": "stdout",
     "output_type": "stream",
     "text": [
      "Searching KM on direction...\n",
      "Searching KM without direction...\n",
      "Found KM on Road 1926: SP-330\n",
      "VPT-IT-2023.03177\n"
     ]
    },
    {
     "name": "stderr",
     "output_type": "stream",
     "text": [
      "/home/luan/.cache/pypoetry/virtualenvs/apps-ZFymp6kh-py3.7/lib/python3.7/site-packages/django/db/models/fields/__init__.py:1427: RuntimeWarning: DateTimeField Reporting.executed_at received a naive datetime (2023-08-23 15:37:29.913712) while time zone support is active.\n",
      "  RuntimeWarning)\n",
      "/home/luan/.cache/pypoetry/virtualenvs/apps-ZFymp6kh-py3.7/lib/python3.7/site-packages/django/db/models/fields/__init__.py:1427: RuntimeWarning: DateTimeField HistoricalReporting.executed_at received a naive datetime (2023-08-23 15:37:29.913712) while time zone support is active.\n",
      "  RuntimeWarning)\n"
     ]
    },
    {
     "name": "stdout",
     "output_type": "stream",
     "text": [
      "Searching KM on direction...\n",
      "Searching KM without direction...\n",
      "Found KM on Road 1926: SP-330\n",
      "VPT-IT-2023.03178\n"
     ]
    },
    {
     "name": "stderr",
     "output_type": "stream",
     "text": [
      "/home/luan/.cache/pypoetry/virtualenvs/apps-ZFymp6kh-py3.7/lib/python3.7/site-packages/django/db/models/fields/__init__.py:1427: RuntimeWarning: DateTimeField Reporting.executed_at received a naive datetime (2023-08-23 15:37:30.307311) while time zone support is active.\n",
      "  RuntimeWarning)\n",
      "/home/luan/.cache/pypoetry/virtualenvs/apps-ZFymp6kh-py3.7/lib/python3.7/site-packages/django/db/models/fields/__init__.py:1427: RuntimeWarning: DateTimeField HistoricalReporting.executed_at received a naive datetime (2023-08-23 15:37:30.307311) while time zone support is active.\n",
      "  RuntimeWarning)\n"
     ]
    },
    {
     "name": "stdout",
     "output_type": "stream",
     "text": [
      "Searching KM on direction...\n",
      "Searching KM without direction...\n",
      "Found KM on Road 1926: SP-330\n",
      "VPT-IT-2023.03179\n"
     ]
    },
    {
     "name": "stderr",
     "output_type": "stream",
     "text": [
      "/home/luan/.cache/pypoetry/virtualenvs/apps-ZFymp6kh-py3.7/lib/python3.7/site-packages/django/db/models/fields/__init__.py:1427: RuntimeWarning: DateTimeField Reporting.executed_at received a naive datetime (2023-08-23 15:37:30.688085) while time zone support is active.\n",
      "  RuntimeWarning)\n",
      "/home/luan/.cache/pypoetry/virtualenvs/apps-ZFymp6kh-py3.7/lib/python3.7/site-packages/django/db/models/fields/__init__.py:1427: RuntimeWarning: DateTimeField HistoricalReporting.executed_at received a naive datetime (2023-08-23 15:37:30.688085) while time zone support is active.\n",
      "  RuntimeWarning)\n"
     ]
    },
    {
     "name": "stdout",
     "output_type": "stream",
     "text": [
      "Searching KM on direction...\n",
      "Searching KM without direction...\n",
      "Found KM on Road 1926: SP-330\n",
      "VPT-IT-2023.03180\n",
      "Searching KM on direction...\n",
      "Searching KM without direction...\n",
      "Found KM on Road 1926: SP-330\n"
     ]
    },
    {
     "name": "stderr",
     "output_type": "stream",
     "text": [
      "/home/luan/.cache/pypoetry/virtualenvs/apps-ZFymp6kh-py3.7/lib/python3.7/site-packages/django/db/models/fields/__init__.py:1427: RuntimeWarning: DateTimeField Reporting.executed_at received a naive datetime (2023-08-23 15:37:31.075262) while time zone support is active.\n",
      "  RuntimeWarning)\n",
      "/home/luan/.cache/pypoetry/virtualenvs/apps-ZFymp6kh-py3.7/lib/python3.7/site-packages/django/db/models/fields/__init__.py:1427: RuntimeWarning: DateTimeField HistoricalReporting.executed_at received a naive datetime (2023-08-23 15:37:31.075262) while time zone support is active.\n",
      "  RuntimeWarning)\n"
     ]
    },
    {
     "name": "stdout",
     "output_type": "stream",
     "text": [
      "VPT-IT-2023.03181\n"
     ]
    },
    {
     "name": "stderr",
     "output_type": "stream",
     "text": [
      "/home/luan/.cache/pypoetry/virtualenvs/apps-ZFymp6kh-py3.7/lib/python3.7/site-packages/django/db/models/fields/__init__.py:1427: RuntimeWarning: DateTimeField Reporting.executed_at received a naive datetime (2023-08-23 15:37:31.437117) while time zone support is active.\n",
      "  RuntimeWarning)\n",
      "/home/luan/.cache/pypoetry/virtualenvs/apps-ZFymp6kh-py3.7/lib/python3.7/site-packages/django/db/models/fields/__init__.py:1427: RuntimeWarning: DateTimeField HistoricalReporting.executed_at received a naive datetime (2023-08-23 15:37:31.437117) while time zone support is active.\n",
      "  RuntimeWarning)\n"
     ]
    },
    {
     "name": "stdout",
     "output_type": "stream",
     "text": [
      "Searching KM on direction...\n",
      "Found KM on Road 1926: SP-330\n",
      "VPT-IT-2023.03182\n"
     ]
    },
    {
     "name": "stderr",
     "output_type": "stream",
     "text": [
      "/home/luan/.cache/pypoetry/virtualenvs/apps-ZFymp6kh-py3.7/lib/python3.7/site-packages/django/db/models/fields/__init__.py:1427: RuntimeWarning: DateTimeField Reporting.executed_at received a naive datetime (2023-08-23 15:37:31.733239) while time zone support is active.\n",
      "  RuntimeWarning)\n",
      "/home/luan/.cache/pypoetry/virtualenvs/apps-ZFymp6kh-py3.7/lib/python3.7/site-packages/django/db/models/fields/__init__.py:1427: RuntimeWarning: DateTimeField HistoricalReporting.executed_at received a naive datetime (2023-08-23 15:37:31.733239) while time zone support is active.\n",
      "  RuntimeWarning)\n"
     ]
    },
    {
     "name": "stdout",
     "output_type": "stream",
     "text": [
      "Searching KM on direction...\n",
      "Searching KM without direction...\n",
      "Found KM on Road 1926: SP-330\n",
      "VPT-IT-2023.03183\n"
     ]
    },
    {
     "name": "stderr",
     "output_type": "stream",
     "text": [
      "/home/luan/.cache/pypoetry/virtualenvs/apps-ZFymp6kh-py3.7/lib/python3.7/site-packages/django/db/models/fields/__init__.py:1427: RuntimeWarning: DateTimeField Reporting.executed_at received a naive datetime (2023-08-23 15:37:32.088019) while time zone support is active.\n",
      "  RuntimeWarning)\n",
      "/home/luan/.cache/pypoetry/virtualenvs/apps-ZFymp6kh-py3.7/lib/python3.7/site-packages/django/db/models/fields/__init__.py:1427: RuntimeWarning: DateTimeField HistoricalReporting.executed_at received a naive datetime (2023-08-23 15:37:32.088019) while time zone support is active.\n",
      "  RuntimeWarning)\n"
     ]
    },
    {
     "name": "stdout",
     "output_type": "stream",
     "text": [
      "Searching KM on direction...\n",
      "Searching KM without direction...\n",
      "Found KM on Road 1926: SP-330\n",
      "VPT-IT-2023.03184\n"
     ]
    }
   ],
   "source": [
    "for reporting in tqdm(objects):\n",
    "    reporting.save()\n",
    "    print(reporting.number)"
   ]
  },
  {
   "cell_type": "code",
   "execution_count": 43,
   "metadata": {},
   "outputs": [
    {
     "data": {
      "application/vnd.jupyter.widget-view+json": {
       "model_id": "735ff83ee0bb4677b6943cfd356191d4",
       "version_major": 2,
       "version_minor": 0
      },
      "text/plain": [
       "  0%|          | 0/585 [00:00<?, ?it/s]"
      ]
     },
     "metadata": {},
     "output_type": "display_data"
    }
   ],
   "source": [
    "# for reporting, images in tqdm(objects):\n",
    "#     for image in reversed(images):\n",
    "#         reporting_file = ReportingFile(\n",
    "#             created_by=user,\n",
    "#             reporting=reporting,\n",
    "#             description=image.name,\n",
    "#             km=reporting.km,\n",
    "#             point=reporting.point\n",
    "#         )\n",
    "#         reporting_file.save()\n",
    "#         image_io = BytesIO(image._data())\n",
    "#         im = Image.open(image_io)\n",
    "#         if im.mode in (\"RGBA\", \"P\"):\n",
    "#             im = im.convert(\"RGB\")\n",
    "#         thumb_io = BytesIO()\n",
    "#         im.save(thumb_io, format='jpeg', quality=90)\n",
    "#         reporting_file.upload.save(image.name + '.jpeg', thumb_io)"
   ]
  },
  {
   "cell_type": "markdown",
   "metadata": {},
   "source": [
    " "
   ]
  },
  {
   "cell_type": "code",
   "execution_count": null,
   "metadata": {},
   "outputs": [],
   "source": [
    "rep=Reporting.objects.filter(occurrence_type__name=\"Acessos\",road__name='SP-330',company__name='Arteris Via Paulista - Faixa de Domínio')"
   ]
  },
  {
   "cell_type": "code",
   "execution_count": 20,
   "metadata": {
    "collapsed": true
   },
   "outputs": [
    {
     "data": {
      "application/vnd.jupyter.widget-view+json": {
       "model_id": "a79f05ecfdf84cccbc81ef660e324b91",
       "version_major": 2,
       "version_minor": 0
      },
      "text/plain": [
       "  0%|          | 0/232 [00:00<?, ?it/s]"
      ]
     },
     "metadata": {},
     "output_type": "display_data"
    },
    {
     "name": "stdout",
     "output_type": "stream",
     "text": [
      "Searching KM on direction...\n",
      "Found KM on Road 1926: SP-330\n",
      "Searching KM on direction...\n",
      "Found KM on Road 1926: SP-330\n",
      "Searching KM on direction...\n",
      "Searching KM without direction...\n",
      "Found KM on Road 1926: SP-330\n",
      "Searching KM on direction...\n",
      "Found KM on Road 1926: SP-330\n",
      "Searching KM on direction...\n",
      "Found KM on Road 1926: SP-330\n",
      "Searching KM on direction...\n",
      "Searching KM without direction...\n",
      "Found KM on Road 1926: SP-330\n",
      "Searching KM on direction...\n",
      "Searching KM without direction...\n",
      "Found KM on Road 1926: SP-330\n",
      "Searching KM on direction...\n",
      "Found KM on Road 1926: SP-330\n",
      "Searching KM on direction...\n",
      "Searching KM without direction...\n",
      "Found KM on Road 1926: SP-330\n",
      "Searching KM on direction...\n",
      "Found KM on Road 1926: SP-330\n",
      "Searching KM on direction...\n",
      "Found KM on Road 1926: SP-330\n",
      "Searching KM on direction...\n",
      "Searching KM without direction...\n",
      "Found KM on Road 1926: SP-330\n",
      "Searching KM on direction...\n",
      "Searching KM without direction...\n",
      "Found KM on Road 1926: SP-330\n",
      "Searching KM on direction...\n",
      "Found KM on Road 1926: SP-330\n",
      "Searching KM on direction...\n",
      "Searching KM without direction...\n",
      "Found KM on Road 1926: SP-330\n",
      "Searching KM on direction...\n",
      "Searching KM without direction...\n",
      "Found KM on Road 1926: SP-330\n",
      "Searching KM on direction...\n",
      "Found KM on Road 1926: SP-330\n",
      "Searching KM on direction...\n",
      "Searching KM without direction...\n",
      "Found KM on Road 1926: SP-330\n",
      "Searching KM on direction...\n",
      "Found KM on Road 1926: SP-330\n",
      "Searching KM on direction...\n",
      "Searching KM without direction...\n",
      "Found KM on Road 1926: SP-330\n",
      "Searching KM on direction...\n",
      "Found KM on Road 1926: SP-330\n",
      "Searching KM on direction...\n",
      "Found KM on Road 1926: SP-330\n",
      "Searching KM on direction...\n",
      "Found KM on Road 1926: SP-330\n",
      "Searching KM on direction...\n",
      "Searching KM without direction...\n",
      "Found KM on Road 1926: SP-330\n",
      "Searching KM on direction...\n",
      "Searching KM without direction...\n",
      "Found KM on Road 1926: SP-330\n",
      "Searching KM on direction...\n",
      "Found KM on Road 1926: SP-330\n",
      "Searching KM on direction...\n",
      "Searching KM without direction...\n",
      "Found KM on Road 1926: SP-330\n",
      "Searching KM on direction...\n",
      "Searching KM without direction...\n",
      "Found KM on Road 1926: SP-330\n",
      "Searching KM on direction...\n",
      "Found KM on Road 1926: SP-330\n",
      "Searching KM on direction...\n",
      "Found KM on Road 1926: SP-330\n",
      "Searching KM on direction...\n",
      "Searching KM without direction...\n",
      "Found KM on Road 1926: SP-330\n",
      "Searching KM on direction...\n",
      "Found KM on Road 1926: SP-330\n",
      "Searching KM on direction...\n",
      "Searching KM without direction...\n",
      "Found KM on Road 1926: SP-330\n",
      "Searching KM on direction...\n",
      "Found KM on Road 1926: SP-330\n",
      "Searching KM on direction...\n",
      "Searching KM without direction...\n",
      "Found KM on Road 1926: SP-330\n",
      "Searching KM on direction...\n",
      "Searching KM without direction...\n",
      "Found KM on Road 1926: SP-330\n",
      "Searching KM on direction...\n",
      "Searching KM without direction...\n",
      "Found KM on Road 1926: SP-330\n",
      "Searching KM on direction...\n",
      "Found KM on Road 1926: SP-330\n",
      "Searching KM on direction...\n",
      "Searching KM without direction...\n",
      "Found KM on Road 1926: SP-330\n",
      "Searching KM on direction...\n",
      "Searching KM without direction...\n",
      "Found KM on Road 1926: SP-330\n",
      "Searching KM on direction...\n",
      "Found KM on Road 1926: SP-330\n",
      "Searching KM on direction...\n",
      "Found KM on Road 1926: SP-330\n",
      "Searching KM on direction...\n",
      "Found KM on Road 1926: SP-330\n",
      "Searching KM on direction...\n",
      "Searching KM without direction...\n",
      "Found KM on Road 1926: SP-330\n",
      "Searching KM on direction...\n",
      "Searching KM without direction...\n",
      "Found KM on Road 1926: SP-330\n",
      "Searching KM on direction...\n",
      "Found KM on Road 1926: SP-330\n",
      "Searching KM on direction...\n",
      "Searching KM without direction...\n",
      "Found KM on Road 1926: SP-330\n",
      "Searching KM on direction...\n",
      "Searching KM without direction...\n",
      "Found KM on Road 1926: SP-330\n",
      "Searching KM on direction...\n",
      "Found KM on Road 1926: SP-330\n",
      "Searching KM on direction...\n",
      "Searching KM without direction...\n",
      "Found KM on Road 1926: SP-330\n",
      "Searching KM on direction...\n",
      "Found KM on Road 1926: SP-330\n",
      "Searching KM on direction...\n",
      "Searching KM without direction...\n",
      "Found KM on Road 1926: SP-330\n",
      "Searching KM on direction...\n",
      "Found KM on Road 1926: SP-330\n",
      "Searching KM on direction...\n",
      "Searching KM without direction...\n",
      "Found KM on Road 1926: SP-330\n",
      "Searching KM on direction...\n",
      "Searching KM without direction...\n",
      "Found KM on Road 1926: SP-330\n",
      "Searching KM on direction...\n",
      "Searching KM without direction...\n",
      "Found KM on Road 1926: SP-330\n",
      "Searching KM on direction...\n",
      "Found KM on Road 1926: SP-330\n",
      "Searching KM on direction...\n",
      "Searching KM without direction...\n",
      "Found KM on Road 1926: SP-330\n",
      "Searching KM on direction...\n",
      "Found KM on Road 1926: SP-330\n",
      "Searching KM on direction...\n",
      "Searching KM without direction...\n",
      "Found KM on Road 1926: SP-330\n",
      "Searching KM on direction...\n",
      "Found KM on Road 1926: SP-330\n",
      "Searching KM on direction...\n",
      "Found KM on Road 1926: SP-330\n",
      "Searching KM on direction...\n",
      "Searching KM without direction...\n",
      "Found KM on Road 1926: SP-330\n",
      "Searching KM on direction...\n",
      "Searching KM without direction...\n",
      "Found KM on Road 1926: SP-330\n",
      "Searching KM on direction...\n",
      "Found KM on Road 1926: SP-330\n",
      "Searching KM on direction...\n",
      "Found KM on Road 1926: SP-330\n",
      "Searching KM on direction...\n",
      "Searching KM without direction...\n",
      "Found KM on Road 1926: SP-330\n",
      "Searching KM on direction...\n",
      "Searching KM without direction...\n",
      "Found KM on Road 1926: SP-330\n",
      "Searching KM on direction...\n",
      "Found KM on Road 1926: SP-330\n",
      "Searching KM on direction...\n",
      "Found KM on Road 1926: SP-330\n",
      "Searching KM on direction...\n",
      "Found KM on Road 1926: SP-330\n",
      "Searching KM on direction...\n",
      "Found KM on Road 1926: SP-330\n",
      "Searching KM on direction...\n",
      "Searching KM without direction...\n",
      "Found KM on Road 1926: SP-330\n",
      "Searching KM on direction...\n",
      "Found KM on Road 1926: SP-330\n",
      "Searching KM on direction...\n",
      "Found KM on Road 1926: SP-330\n",
      "Searching KM on direction...\n",
      "Searching KM without direction...\n",
      "Found KM on Road 1926: SP-330\n",
      "Searching KM on direction...\n",
      "Found KM on Road 1926: SP-330\n",
      "Searching KM on direction...\n",
      "Searching KM without direction...\n",
      "Found KM on Road 1926: SP-330\n",
      "Searching KM on direction...\n",
      "Found KM on Road 1926: SP-330\n",
      "Searching KM on direction...\n",
      "Found KM on Road 1926: SP-330\n",
      "Searching KM on direction...\n",
      "Found KM on Road 1926: SP-330\n",
      "Searching KM on direction...\n",
      "Searching KM without direction...\n",
      "Found KM on Road 1926: SP-330\n",
      "Searching KM on direction...\n",
      "Searching KM without direction...\n",
      "Found KM on Road 1926: SP-330\n",
      "Searching KM on direction...\n",
      "Searching KM without direction...\n",
      "Found KM on Road 1926: SP-330\n",
      "Searching KM on direction...\n",
      "Found KM on Road 1926: SP-330\n",
      "Searching KM on direction...\n",
      "Searching KM without direction...\n",
      "Found KM on Road 1926: SP-330\n",
      "Searching KM on direction...\n",
      "Searching KM without direction...\n",
      "Found KM on Road 1926: SP-330\n",
      "Searching KM on direction...\n",
      "Found KM on Road 1926: SP-330\n",
      "Searching KM on direction...\n",
      "Searching KM without direction...\n",
      "Found KM on Road 1926: SP-330\n",
      "Searching KM on direction...\n",
      "Searching KM without direction...\n",
      "Found KM on Road 1926: SP-330\n",
      "Searching KM on direction...\n",
      "Found KM on Road 1926: SP-330\n",
      "Searching KM on direction...\n",
      "Searching KM without direction...\n",
      "Found KM on Road 1926: SP-330\n",
      "Searching KM on direction...\n",
      "Searching KM without direction...\n",
      "Found KM on Road 1926: SP-330\n",
      "Searching KM on direction...\n",
      "Found KM on Road 1926: SP-330\n",
      "Searching KM on direction...\n",
      "Found KM on Road 1926: SP-330\n",
      "Searching KM on direction...\n",
      "Found KM on Road 1926: SP-330\n",
      "Searching KM on direction...\n",
      "Searching KM without direction...\n",
      "Found KM on Road 1926: SP-330\n",
      "Searching KM on direction...\n",
      "Searching KM without direction...\n",
      "Found KM on Road 1926: SP-330\n",
      "Searching KM on direction...\n",
      "Searching KM without direction...\n",
      "Found KM on Road 1926: SP-330\n",
      "Searching KM on direction...\n",
      "Searching KM without direction...\n",
      "Found KM on Road 1926: SP-330\n",
      "Searching KM on direction...\n",
      "Searching KM without direction...\n",
      "Found KM on Road 1926: SP-330\n",
      "Searching KM on direction...\n",
      "Found KM on Road 1926: SP-330\n",
      "Searching KM on direction...\n",
      "Searching KM without direction...\n",
      "Found KM on Road 1926: SP-330\n",
      "Searching KM on direction...\n",
      "Searching KM without direction...\n",
      "Found KM on Road 1926: SP-330\n"
     ]
    },
    {
     "ename": "DoesNotExist",
     "evalue": "Reporting matching query does not exist.",
     "output_type": "error",
     "traceback": [
      "\u001b[0;31m---------------------------------------------------------------------------\u001b[0m",
      "\u001b[0;31mDoesNotExist\u001b[0m                              Traceback (most recent call last)",
      "\u001b[0;32m/tmp/ipykernel_102295/2924927988.py\u001b[0m in \u001b[0;36m<module>\u001b[0;34m\u001b[0m\n\u001b[1;32m      4\u001b[0m         \u001b[0mroad__name\u001b[0m\u001b[0;34m=\u001b[0m\u001b[0;34m'SP-330'\u001b[0m\u001b[0;34m,\u001b[0m\u001b[0;34m\u001b[0m\u001b[0;34m\u001b[0m\u001b[0m\n\u001b[1;32m      5\u001b[0m         \u001b[0mcompany__name\u001b[0m\u001b[0;34m=\u001b[0m\u001b[0;34m'Arteris Via Paulista - Faixa de Domínio'\u001b[0m\u001b[0;34m,\u001b[0m\u001b[0;34m\u001b[0m\u001b[0;34m\u001b[0m\u001b[0m\n\u001b[0;32m----> 6\u001b[0;31m         \u001b[0mform_data__cod_novo\u001b[0m\u001b[0;34m=\u001b[0m\u001b[0ma\u001b[0m\u001b[0;34m[\u001b[0m\u001b[0;34m'Código Novo'\u001b[0m\u001b[0;34m]\u001b[0m\u001b[0;34m\u001b[0m\u001b[0;34m\u001b[0m\u001b[0m\n\u001b[0m\u001b[1;32m      7\u001b[0m     )\n\u001b[1;32m      8\u001b[0m     \u001b[0mrep\u001b[0m\u001b[0;34m.\u001b[0m\u001b[0mform_data\u001b[0m\u001b[0;34m[\u001b[0m\u001b[0;34m'cod_acesso'\u001b[0m\u001b[0;34m]\u001b[0m \u001b[0;34m=\u001b[0m \u001b[0ma\u001b[0m\u001b[0;34m[\u001b[0m\u001b[0;34m'Código Do Acesso'\u001b[0m\u001b[0;34m]\u001b[0m\u001b[0;34m\u001b[0m\u001b[0;34m\u001b[0m\u001b[0m\n",
      "\u001b[0;32m~/.cache/pypoetry/virtualenvs/apps-ZFymp6kh-py3.7/lib/python3.7/site-packages/django/db/models/manager.py\u001b[0m in \u001b[0;36mmanager_method\u001b[0;34m(self, *args, **kwargs)\u001b[0m\n\u001b[1;32m     80\u001b[0m         \u001b[0;32mdef\u001b[0m \u001b[0mcreate_method\u001b[0m\u001b[0;34m(\u001b[0m\u001b[0mname\u001b[0m\u001b[0;34m,\u001b[0m \u001b[0mmethod\u001b[0m\u001b[0;34m)\u001b[0m\u001b[0;34m:\u001b[0m\u001b[0;34m\u001b[0m\u001b[0;34m\u001b[0m\u001b[0m\n\u001b[1;32m     81\u001b[0m             \u001b[0;32mdef\u001b[0m \u001b[0mmanager_method\u001b[0m\u001b[0;34m(\u001b[0m\u001b[0mself\u001b[0m\u001b[0;34m,\u001b[0m \u001b[0;34m*\u001b[0m\u001b[0margs\u001b[0m\u001b[0;34m,\u001b[0m \u001b[0;34m**\u001b[0m\u001b[0mkwargs\u001b[0m\u001b[0;34m)\u001b[0m\u001b[0;34m:\u001b[0m\u001b[0;34m\u001b[0m\u001b[0;34m\u001b[0m\u001b[0m\n\u001b[0;32m---> 82\u001b[0;31m                 \u001b[0;32mreturn\u001b[0m \u001b[0mgetattr\u001b[0m\u001b[0;34m(\u001b[0m\u001b[0mself\u001b[0m\u001b[0;34m.\u001b[0m\u001b[0mget_queryset\u001b[0m\u001b[0;34m(\u001b[0m\u001b[0;34m)\u001b[0m\u001b[0;34m,\u001b[0m \u001b[0mname\u001b[0m\u001b[0;34m)\u001b[0m\u001b[0;34m(\u001b[0m\u001b[0;34m*\u001b[0m\u001b[0margs\u001b[0m\u001b[0;34m,\u001b[0m \u001b[0;34m**\u001b[0m\u001b[0mkwargs\u001b[0m\u001b[0;34m)\u001b[0m\u001b[0;34m\u001b[0m\u001b[0;34m\u001b[0m\u001b[0m\n\u001b[0m\u001b[1;32m     83\u001b[0m             \u001b[0mmanager_method\u001b[0m\u001b[0;34m.\u001b[0m\u001b[0m__name__\u001b[0m \u001b[0;34m=\u001b[0m \u001b[0mmethod\u001b[0m\u001b[0;34m.\u001b[0m\u001b[0m__name__\u001b[0m\u001b[0;34m\u001b[0m\u001b[0;34m\u001b[0m\u001b[0m\n\u001b[1;32m     84\u001b[0m             \u001b[0mmanager_method\u001b[0m\u001b[0;34m.\u001b[0m\u001b[0m__doc__\u001b[0m \u001b[0;34m=\u001b[0m \u001b[0mmethod\u001b[0m\u001b[0;34m.\u001b[0m\u001b[0m__doc__\u001b[0m\u001b[0;34m\u001b[0m\u001b[0;34m\u001b[0m\u001b[0m\n",
      "\u001b[0;32m~/.cache/pypoetry/virtualenvs/apps-ZFymp6kh-py3.7/lib/python3.7/site-packages/django/db/models/query.py\u001b[0m in \u001b[0;36mget\u001b[0;34m(self, *args, **kwargs)\u001b[0m\n\u001b[1;32m    406\u001b[0m             raise self.model.DoesNotExist(\n\u001b[1;32m    407\u001b[0m                 \u001b[0;34m\"%s matching query does not exist.\"\u001b[0m \u001b[0;34m%\u001b[0m\u001b[0;34m\u001b[0m\u001b[0;34m\u001b[0m\u001b[0m\n\u001b[0;32m--> 408\u001b[0;31m                 \u001b[0mself\u001b[0m\u001b[0;34m.\u001b[0m\u001b[0mmodel\u001b[0m\u001b[0;34m.\u001b[0m\u001b[0m_meta\u001b[0m\u001b[0;34m.\u001b[0m\u001b[0mobject_name\u001b[0m\u001b[0;34m\u001b[0m\u001b[0;34m\u001b[0m\u001b[0m\n\u001b[0m\u001b[1;32m    409\u001b[0m             )\n\u001b[1;32m    410\u001b[0m         raise self.model.MultipleObjectsReturned(\n",
      "\u001b[0;31mDoesNotExist\u001b[0m: Reporting matching query does not exist."
     ]
    }
   ],
   "source": [
    "for a in tqdm(values):\n",
    "    try:\n",
    "        rep=Reporting.objects.get(\n",
    "            occurrence_type__name=\"Acessos\",                 \n",
    "            road__name='SP-330',\n",
    "            company__name='Arteris Via Paulista - Faixa de Domínio',\n",
    "            form_data__cod_novo=a['Código Novo']\n",
    "        )\n",
    "        rep.form_data['cod_acesso'] = a['Código Do Acesso']\n",
    "        rep.save()\n",
    "    except:\n",
    "        print(a['Código Novo'])"
   ]
  },
  {
   "cell_type": "code",
   "execution_count": 2,
   "metadata": {},
   "outputs": [
    {
     "data": {
      "text/plain": [
       "145"
      ]
     },
     "execution_count": 2,
     "metadata": {},
     "output_type": "execute_result"
    }
   ],
   "source": [
    "reps=Reporting.objects.filter(\n",
    "        occurrence_type__name=\"Acessos\",                 \n",
    "        road__name__in=['SP-281'],\n",
    "        company__name='Arteris Via Paulista - Faixa de Domínio'\n",
    "    )\n",
    "reps.count()"
   ]
  },
  {
   "cell_type": "code",
   "execution_count": 3,
   "metadata": {},
   "outputs": [
    {
     "name": "stdout",
     "output_type": "stream",
     "text": [
      "Searching KM on direction...\n",
      "Found KM on Road 1921: SP-281\n",
      "Searching KM on direction...\n",
      "Found KM on Road 1921: SP-281\n",
      "Searching KM on direction...\n",
      "Searching KM without direction...\n",
      "Found KM on Road 1921: SP-281\n",
      "Searching KM on direction...\n",
      "Found KM on Road 1921: SP-281\n",
      "Searching KM on direction...\n",
      "Searching KM without direction...\n",
      "Found KM on Road 1921: SP-281\n",
      "Searching KM on direction...\n",
      "Found KM on Road 1921: SP-281\n",
      "Searching KM on direction...\n",
      "Searching KM without direction...\n",
      "Found KM on Road 1921: SP-281\n",
      "Searching KM on direction...\n",
      "Found KM on Road 1921: SP-281\n",
      "Searching KM on direction...\n",
      "Found KM on Road 1921: SP-281\n",
      "Searching KM on direction...\n",
      "Searching KM without direction...\n",
      "Found KM on Road 1921: SP-281\n",
      "Searching KM on direction...\n",
      "Found KM on Road 1921: SP-281\n",
      "Searching KM on direction...\n",
      "Found KM on Road 1921: SP-281\n",
      "Searching KM on direction...\n",
      "Searching KM without direction...\n",
      "Found KM on Road 1921: SP-281\n",
      "Searching KM on direction...\n",
      "Searching KM without direction...\n",
      "Found KM on Road 1921: SP-281\n",
      "Searching KM on direction...\n",
      "Found KM on Road 1921: SP-281\n",
      "Searching KM on direction...\n",
      "Searching KM without direction...\n",
      "Found KM on Road 1921: SP-281\n",
      "Searching KM on direction...\n",
      "Searching KM without direction...\n",
      "Found KM on Road 1921: SP-281\n",
      "Searching KM on direction...\n",
      "Searching KM without direction...\n",
      "Found KM on Road 1921: SP-281\n",
      "Searching KM on direction...\n",
      "Found KM on Road 1921: SP-281\n",
      "Searching KM on direction...\n",
      "Searching KM without direction...\n",
      "Found KM on Road 1921: SP-281\n",
      "Searching KM on direction...\n",
      "Found KM on Road 1921: SP-281\n",
      "Searching KM on direction...\n",
      "Searching KM without direction...\n",
      "Found KM on Road 1921: SP-281\n",
      "Searching KM on direction...\n",
      "Found KM on Road 1921: SP-281\n",
      "Searching KM on direction...\n",
      "Searching KM without direction...\n",
      "Found KM on Road 1921: SP-281\n",
      "Searching KM on direction...\n",
      "Found KM on Road 1921: SP-281\n",
      "Searching KM on direction...\n",
      "Searching KM without direction...\n",
      "Found KM on Road 1921: SP-281\n",
      "Searching KM on direction...\n",
      "Found KM on Road 1921: SP-281\n",
      "Searching KM on direction...\n",
      "Searching KM without direction...\n",
      "Found KM on Road 1921: SP-281\n",
      "Searching KM on direction...\n",
      "Found KM on Road 1921: SP-281\n",
      "Searching KM on direction...\n",
      "Searching KM without direction...\n",
      "Found KM on Road 1921: SP-281\n",
      "Searching KM on direction...\n",
      "Searching KM without direction...\n",
      "Found KM on Road 1921: SP-281\n",
      "Searching KM on direction...\n",
      "Found KM on Road 1921: SP-281\n",
      "Searching KM on direction...\n",
      "Found KM on Road 1921: SP-281\n",
      "Searching KM on direction...\n",
      "Found KM on Road 1921: SP-281\n",
      "Searching KM on direction...\n",
      "Searching KM without direction...\n",
      "Found KM on Road 1921: SP-281\n",
      "Searching KM on direction...\n",
      "Searching KM without direction...\n",
      "Found KM on Road 1921: SP-281\n",
      "Searching KM on direction...\n",
      "Found KM on Road 1921: SP-281\n",
      "Searching KM on direction...\n",
      "Found KM on Road 1921: SP-281\n",
      "Searching KM on direction...\n",
      "Found KM on Road 1921: SP-281\n",
      "Searching KM on direction...\n",
      "Searching KM without direction...\n",
      "Found KM on Road 1921: SP-281\n",
      "Searching KM on direction...\n",
      "Found KM on Road 1921: SP-281\n",
      "Searching KM on direction...\n",
      "Found KM on Road 1921: SP-281\n",
      "Searching KM on direction...\n",
      "Searching KM without direction...\n",
      "Found KM on Road 1921: SP-281\n",
      "Searching KM on direction...\n",
      "Searching KM without direction...\n",
      "Found KM on Road 1921: SP-281\n",
      "Searching KM on direction...\n",
      "Searching KM without direction...\n",
      "Found KM on Road 1921: SP-281\n",
      "Searching KM on direction...\n",
      "Found KM on Road 1921: SP-281\n",
      "Searching KM on direction...\n",
      "Found KM on Road 1921: SP-281\n",
      "Searching KM on direction...\n",
      "Searching KM without direction...\n",
      "Found KM on Road 1921: SP-281\n",
      "Searching KM on direction...\n",
      "Searching KM without direction...\n",
      "Found KM on Road 1921: SP-281\n",
      "Searching KM on direction...\n",
      "Found KM on Road 1921: SP-281\n",
      "Searching KM on direction...\n",
      "Found KM on Road 1921: SP-281\n",
      "Searching KM on direction...\n",
      "Searching KM without direction...\n",
      "Found KM on Road 1921: SP-281\n",
      "Searching KM on direction...\n",
      "Searching KM without direction...\n",
      "Found KM on Road 1921: SP-281\n",
      "Searching KM on direction...\n",
      "Found KM on Road 1921: SP-281\n",
      "Searching KM on direction...\n",
      "Searching KM without direction...\n",
      "Found KM on Road 1921: SP-281\n",
      "Searching KM on direction...\n",
      "Found KM on Road 1921: SP-281\n",
      "Searching KM on direction...\n",
      "Found KM on Road 1921: SP-281\n",
      "Searching KM on direction...\n",
      "Searching KM without direction...\n",
      "Found KM on Road 1921: SP-281\n",
      "Searching KM on direction...\n",
      "Found KM on Road 1921: SP-281\n",
      "Searching KM on direction...\n",
      "Searching KM without direction...\n",
      "Found KM on Road 1921: SP-281\n",
      "Searching KM on direction...\n",
      "Searching KM without direction...\n",
      "Found KM on Road 1921: SP-281\n",
      "Searching KM on direction...\n",
      "Searching KM without direction...\n",
      "Found KM on Road 1921: SP-281\n",
      "Searching KM on direction...\n",
      "Searching KM without direction...\n",
      "Found KM on Road 1921: SP-281\n",
      "Searching KM on direction...\n",
      "Searching KM without direction...\n",
      "Found KM on Road 1921: SP-281\n",
      "Searching KM on direction...\n",
      "Found KM on Road 1921: SP-281\n",
      "Searching KM on direction...\n",
      "Searching KM without direction...\n",
      "Found KM on Road 1921: SP-281\n",
      "Searching KM on direction...\n",
      "Searching KM without direction...\n",
      "Found KM on Road 1921: SP-281\n",
      "Searching KM on direction...\n",
      "Found KM on Road 1921: SP-281\n",
      "Searching KM on direction...\n",
      "Searching KM without direction...\n",
      "Found KM on Road 1921: SP-281\n",
      "Searching KM on direction...\n",
      "Searching KM without direction...\n",
      "Found KM on Road 1921: SP-281\n",
      "Searching KM on direction...\n",
      "Searching KM without direction...\n",
      "Found KM on Road 1921: SP-281\n",
      "Searching KM on direction...\n",
      "Searching KM without direction...\n",
      "Found KM on Road 1921: SP-281\n",
      "Searching KM on direction...\n",
      "Found KM on Road 1921: SP-281\n",
      "Searching KM on direction...\n",
      "Found KM on Road 1921: SP-281\n",
      "Searching KM on direction...\n",
      "Found KM on Road 1921: SP-281\n",
      "Searching KM on direction...\n",
      "Found KM on Road 1921: SP-281\n",
      "Searching KM on direction...\n",
      "Searching KM without direction...\n",
      "Found KM on Road 1921: SP-281\n",
      "Searching KM on direction...\n",
      "Found KM on Road 1921: SP-281\n",
      "Searching KM on direction...\n",
      "Found KM on Road 1921: SP-281\n",
      "Searching KM on direction...\n",
      "Found KM on Road 1921: SP-281\n",
      "Searching KM on direction...\n",
      "Searching KM without direction...\n",
      "Found KM on Road 1921: SP-281\n",
      "Searching KM on direction...\n",
      "Found KM on Road 1921: SP-281\n",
      "Searching KM on direction...\n",
      "Searching KM without direction...\n",
      "Found KM on Road 1921: SP-281\n",
      "Searching KM on direction...\n",
      "Found KM on Road 1921: SP-281\n",
      "Searching KM on direction...\n",
      "Searching KM without direction...\n",
      "Found KM on Road 1921: SP-281\n",
      "Searching KM on direction...\n",
      "Searching KM without direction...\n",
      "Found KM on Road 1921: SP-281\n",
      "Searching KM on direction...\n",
      "Searching KM without direction...\n",
      "Found KM on Road 1921: SP-281\n",
      "Searching KM on direction...\n",
      "Found KM on Road 1921: SP-281\n",
      "Searching KM on direction...\n",
      "Searching KM without direction...\n",
      "Found KM on Road 1921: SP-281\n",
      "Searching KM on direction...\n",
      "Found KM on Road 1921: SP-281\n",
      "Searching KM on direction...\n",
      "Searching KM without direction...\n",
      "Found KM on Road 1921: SP-281\n",
      "Searching KM on direction...\n",
      "Searching KM without direction...\n",
      "Found KM on Road 1921: SP-281\n",
      "Searching KM on direction...\n",
      "Searching KM without direction...\n",
      "Found KM on Road 1921: SP-281\n",
      "Searching KM on direction...\n",
      "Searching KM without direction...\n",
      "Found KM on Road 1921: SP-281\n",
      "Searching KM on direction...\n",
      "Searching KM without direction...\n",
      "Found KM on Road 1921: SP-281\n",
      "Searching KM on direction...\n",
      "Found KM on Road 1921: SP-281\n",
      "Searching KM on direction...\n",
      "Found KM on Road 1921: SP-281\n",
      "Searching KM on direction...\n",
      "Searching KM without direction...\n",
      "Found KM on Road 1921: SP-281\n",
      "Searching KM on direction...\n",
      "Searching KM without direction...\n",
      "Found KM on Road 1921: SP-281\n",
      "Searching KM on direction...\n",
      "Searching KM without direction...\n",
      "Found KM on Road 1921: SP-281\n",
      "Searching KM on direction...\n",
      "Found KM on Road 1921: SP-281\n",
      "Searching KM on direction...\n",
      "Searching KM without direction...\n",
      "Found KM on Road 1921: SP-281\n",
      "Searching KM on direction...\n",
      "Searching KM without direction...\n",
      "Found KM on Road 1921: SP-281\n",
      "Searching KM on direction...\n",
      "Searching KM without direction...\n",
      "Found KM on Road 1921: SP-281\n",
      "Searching KM on direction...\n",
      "Searching KM without direction...\n",
      "Found KM on Road 1921: SP-281\n",
      "Searching KM on direction...\n",
      "Searching KM without direction...\n",
      "Found KM on Road 1921: SP-281\n",
      "Searching KM on direction...\n",
      "Found KM on Road 1921: SP-281\n"
     ]
    },
    {
     "name": "stdout",
     "output_type": "stream",
     "text": [
      "Searching KM on direction...\n",
      "Found KM on Road 1921: SP-281\n",
      "Searching KM on direction...\n",
      "Searching KM without direction...\n",
      "Found KM on Road 1921: SP-281\n",
      "Searching KM on direction...\n",
      "Searching KM without direction...\n",
      "Found KM on Road 1921: SP-281\n",
      "Searching KM on direction...\n",
      "Found KM on Road 1921: SP-281\n",
      "Searching KM on direction...\n",
      "Searching KM without direction...\n",
      "Found KM on Road 1921: SP-281\n",
      "Searching KM on direction...\n",
      "Found KM on Road 1921: SP-281\n",
      "Searching KM on direction...\n",
      "Searching KM without direction...\n",
      "Found KM on Road 1921: SP-281\n",
      "Searching KM on direction...\n",
      "Found KM on Road 1921: SP-281\n",
      "Searching KM on direction...\n",
      "Searching KM without direction...\n",
      "Found KM on Road 1921: SP-281\n",
      "Searching KM on direction...\n",
      "Searching KM without direction...\n",
      "Found KM on Road 1921: SP-281\n",
      "Searching KM on direction...\n",
      "Found KM on Road 1921: SP-281\n",
      "Searching KM on direction...\n",
      "Found KM on Road 1921: SP-281\n",
      "Searching KM on direction...\n",
      "Searching KM without direction...\n",
      "Found KM on Road 1921: SP-281\n",
      "Searching KM on direction...\n",
      "Searching KM without direction...\n",
      "Found KM on Road 1921: SP-281\n",
      "Searching KM on direction...\n",
      "Found KM on Road 1921: SP-281\n",
      "Searching KM on direction...\n",
      "Searching KM without direction...\n",
      "Found KM on Road 1921: SP-281\n",
      "Searching KM on direction...\n",
      "Searching KM without direction...\n",
      "Found KM on Road 1921: SP-281\n",
      "Searching KM on direction...\n",
      "Searching KM without direction...\n",
      "Found KM on Road 1921: SP-281\n",
      "Searching KM on direction...\n",
      "Found KM on Road 1921: SP-281\n",
      "Searching KM on direction...\n",
      "Searching KM without direction...\n",
      "Found KM on Road 1921: SP-281\n",
      "Searching KM on direction...\n",
      "Found KM on Road 1921: SP-281\n",
      "Searching KM on direction...\n",
      "Searching KM without direction...\n",
      "Found KM on Road 1921: SP-281\n",
      "Searching KM on direction...\n",
      "Searching KM without direction...\n",
      "Found KM on Road 1921: SP-281\n",
      "Searching KM on direction...\n",
      "Found KM on Road 1921: SP-281\n",
      "Searching KM on direction...\n",
      "Searching KM without direction...\n",
      "Found KM on Road 1921: SP-281\n",
      "Searching KM on direction...\n",
      "Found KM on Road 1921: SP-281\n",
      "Searching KM on direction...\n",
      "Searching KM without direction...\n",
      "Found KM on Road 1921: SP-281\n",
      "Searching KM on direction...\n",
      "Found KM on Road 1921: SP-281\n",
      "Searching KM on direction...\n",
      "Searching KM without direction...\n",
      "Found KM on Road 1921: SP-281\n",
      "Searching KM on direction...\n",
      "Searching KM without direction...\n",
      "Found KM on Road 1921: SP-281\n",
      "Searching KM on direction...\n",
      "Found KM on Road 1921: SP-281\n",
      "Searching KM on direction...\n",
      "Searching KM without direction...\n",
      "Found KM on Road 1921: SP-281\n",
      "Searching KM on direction...\n",
      "Searching KM without direction...\n",
      "Found KM on Road 1921: SP-281\n",
      "Searching KM on direction...\n",
      "Found KM on Road 1921: SP-281\n",
      "Searching KM on direction...\n",
      "Found KM on Road 1921: SP-281\n",
      "Searching KM on direction...\n",
      "Found KM on Road 1921: SP-281\n",
      "Searching KM on direction...\n",
      "Searching KM without direction...\n",
      "Found KM on Road 1921: SP-281\n",
      "Searching KM on direction...\n",
      "Found KM on Road 1921: SP-281\n"
     ]
    }
   ],
   "source": [
    "for a in reps:\n",
    "    a.form_data['lote']=29\n",
    "    a.save()"
   ]
  },
  {
   "cell_type": "code",
   "execution_count": null,
   "metadata": {},
   "outputs": [],
   "source": []
  }
 ],
 "metadata": {
  "kernelspec": {
   "display_name": "Django Shell-Plus",
   "language": "python",
   "name": "django_extensions"
  },
  "language_info": {
   "codemirror_mode": {
    "name": "ipython",
    "version": 3
   },
   "file_extension": ".py",
   "mimetype": "text/x-python",
   "name": "python",
   "nbconvert_exporter": "python",
   "pygments_lexer": "ipython3",
   "version": "3.7.9"
  }
 },
 "nbformat": 4,
 "nbformat_minor": 2
}
