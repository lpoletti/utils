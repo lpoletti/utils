{
 "cells": [
  {
   "cell_type": "code",
   "execution_count": 3,
   "metadata": {},
   "outputs": [
    {
     "name": "stdout",
     "output_type": "stream",
     "text": [
      "Collecting pandas\n",
      "  Obtaining dependency information for pandas from https://files.pythonhosted.org/packages/f8/7f/5b047effafbdd34e52c9e2d7e44f729a0655efafb22198c45cf692cdc157/pandas-2.0.3-cp38-cp38-manylinux_2_17_x86_64.manylinux2014_x86_64.whl.metadata\n",
      "  Downloading pandas-2.0.3-cp38-cp38-manylinux_2_17_x86_64.manylinux2014_x86_64.whl.metadata (18 kB)\n",
      "Requirement already satisfied: python-dateutil>=2.8.2 in /home/luan/.cache/pypoetry/virtualenvs/apps-ZFymp6kh-py3.8/lib/python3.8/site-packages (from pandas) (2.8.2)\n",
      "Requirement already satisfied: pytz>=2020.1 in /home/luan/.cache/pypoetry/virtualenvs/apps-ZFymp6kh-py3.8/lib/python3.8/site-packages (from pandas) (2023.3)\n",
      "Collecting tzdata>=2022.1 (from pandas)\n",
      "  Obtaining dependency information for tzdata>=2022.1 from https://files.pythonhosted.org/packages/65/58/f9c9e6be752e9fcb8b6a0ee9fb87e6e7a1f6bcab2cdc73f02bb7ba91ada0/tzdata-2024.1-py2.py3-none-any.whl.metadata\n",
      "  Downloading tzdata-2024.1-py2.py3-none-any.whl.metadata (1.4 kB)\n",
      "Collecting numpy>=1.20.3 (from pandas)\n",
      "  Obtaining dependency information for numpy>=1.20.3 from https://files.pythonhosted.org/packages/98/5d/5738903efe0ecb73e51eb44feafba32bdba2081263d40c5043568ff60faf/numpy-1.24.4-cp38-cp38-manylinux_2_17_x86_64.manylinux2014_x86_64.whl.metadata\n",
      "  Downloading numpy-1.24.4-cp38-cp38-manylinux_2_17_x86_64.manylinux2014_x86_64.whl.metadata (5.6 kB)\n",
      "Requirement already satisfied: six>=1.5 in /home/luan/.cache/pypoetry/virtualenvs/apps-ZFymp6kh-py3.8/lib/python3.8/site-packages (from python-dateutil>=2.8.2->pandas) (1.16.0)\n",
      "Downloading pandas-2.0.3-cp38-cp38-manylinux_2_17_x86_64.manylinux2014_x86_64.whl (12.4 MB)\n",
      "\u001b[2K   \u001b[90m━━━━━━━━━━━━━━━━━━━━━━━━━━━━━━━━━━━━━━━━\u001b[0m \u001b[32m12.4/12.4 MB\u001b[0m \u001b[31m36.0 MB/s\u001b[0m eta \u001b[36m0:00:00\u001b[0m00:01\u001b[0m0:01\u001b[0m\n",
      "\u001b[?25hDownloading numpy-1.24.4-cp38-cp38-manylinux_2_17_x86_64.manylinux2014_x86_64.whl (17.3 MB)\n",
      "\u001b[2K   \u001b[90m━━━━━━━━━━━━━━━━━━━━━━━━━━━━━━━━━━━━━━━━\u001b[0m \u001b[32m17.3/17.3 MB\u001b[0m \u001b[31m34.1 MB/s\u001b[0m eta \u001b[36m0:00:00\u001b[0m00:01\u001b[0m00:01\u001b[0m\n",
      "\u001b[?25hDownloading tzdata-2024.1-py2.py3-none-any.whl (345 kB)\n",
      "\u001b[2K   \u001b[90m━━━━━━━━━━━━━━━━━━━━━━━━━━━━━━━━━━━━━━━━\u001b[0m \u001b[32m345.4/345.4 kB\u001b[0m \u001b[31m24.9 MB/s\u001b[0m eta \u001b[36m0:00:00\u001b[0m\n",
      "\u001b[?25hInstalling collected packages: tzdata, numpy, pandas\n",
      "Successfully installed numpy-1.24.4 pandas-2.0.3 tzdata-2024.1\n",
      "\n",
      "\u001b[1m[\u001b[0m\u001b[34;49mnotice\u001b[0m\u001b[1;39;49m]\u001b[0m\u001b[39;49m A new release of pip is available: \u001b[0m\u001b[31;49m23.2\u001b[0m\u001b[39;49m -> \u001b[0m\u001b[32;49m24.0\u001b[0m\n",
      "\u001b[1m[\u001b[0m\u001b[34;49mnotice\u001b[0m\u001b[1;39;49m]\u001b[0m\u001b[39;49m To update, run: \u001b[0m\u001b[32;49mpip install --upgrade pip\u001b[0m\n"
     ]
    }
   ],
   "source": [
    "!poetry run pip install pandas"
   ]
  },
  {
   "cell_type": "code",
   "execution_count": 4,
   "metadata": {},
   "outputs": [],
   "source": [
    "from collections import defaultdict\n",
    "from django.db.models.signals import *\n",
    "import pandas as pd\n",
    "from itertools import chain\n",
    "from tqdm.notebook import tqdm\n",
    "import datetime\n",
    "import calendar"
   ]
  },
  {
   "cell_type": "code",
   "execution_count": 5,
   "metadata": {},
   "outputs": [],
   "source": [
    "def normalize_month(month, year):\n",
    "    return month + 12*(year - 2020)"
   ]
  },
  {
   "cell_type": "code",
   "execution_count": 6,
   "metadata": {},
   "outputs": [
    {
     "data": {
      "text/plain": [
       "48"
      ]
     },
     "execution_count": 6,
     "metadata": {},
     "output_type": "execute_result"
    }
   ],
   "source": [
    "normalize_month(12, 2023)"
   ]
  },
  {
   "cell_type": "code",
   "execution_count": 7,
   "metadata": {},
   "outputs": [],
   "source": [
    "# def normalize_day(day, month):\n",
    "#     return day + 31*(month - 1)"
   ]
  },
  {
   "cell_type": "code",
   "execution_count": 8,
   "metadata": {},
   "outputs": [],
   "source": [
    "# normalize_day(31,12)"
   ]
  },
  {
   "cell_type": "code",
   "execution_count": 9,
   "metadata": {},
   "outputs": [],
   "source": [
    "def permissoes_history_user(result_list,mes_ano):\n",
    "    permissoesUsuarios = {}\n",
    "    mes_referencia = normalize_month(mes_ano.month, mes_ano.year)\n",
    "    for a in result_list:\n",
    "        try:\n",
    "            if not permissoesUsuarios.get(a.user.get_full_name()):\n",
    "                permissoesUsuarios[a.user.get_full_name()] = {}\n",
    "            if isinstance(permissoesUsuarios.get(a.user.get_full_name()).get(normalize_month(a.history_date.month, a.history_date.year)),list):\n",
    "                permissoesUsuarios[a.user.get_full_name()][normalize_month(a.history_date.month, a.history_date.year)].append(a.permissions.name)\n",
    "            elif permissoesUsuarios.get(a.user.get_full_name()).get(normalize_month(a.history_date.month, a.history_date.year)):\n",
    "                multi_perm_per_month= permissoesUsuarios.get(a.user.get_full_name()).get(normalize_month(a.history_date.month, a.history_date.year))\n",
    "                permissoesUsuarios[a.user.get_full_name()][normalize_month(a.history_date.month, a.history_date.year)] = [multi_perm_per_month,a.permissions.name]\n",
    "            else:\n",
    "                permissoesUsuarios[a.user.get_full_name()][normalize_month(a.history_date.month, a.history_date.year)] = a.permissions.name\n",
    "        except:\n",
    "            pass\n",
    "    \n",
    "    usuariosAtivos = []\n",
    "    usuariosInativos = []\n",
    "\n",
    "    for nome, mes in permissoesUsuarios.items():\n",
    "        meses = sorted(list(mes.keys()))\n",
    "        item = max(list(mes.keys()))\n",
    "        cargo_atual = mes[item]\n",
    "\n",
    "# Se em algum momento do mesmo mês o usuário foi diferente de Inativo ele entra como ativo\n",
    "        if isinstance(cargo_atual,list):\n",
    "            for cargo in cargo_atual:\n",
    "                if cargo !='Inativo' and not any(u for u in usuariosAtivos if nome == u):\n",
    "                    usuariosAtivos.append(nome)     \n",
    "# se o cargo atual for diferente de inativo e não for uma lista(o que configura multiplas permissões no mesmo mês) ele é ativo\n",
    "        elif cargo_atual != 'Inativo' and not isinstance(cargo_atual,list):\n",
    "            usuariosAtivos.append(nome)\n",
    "# Se no mes anterior ao ultimo ele foi diferente de inativo e no ultimo mes foi Inativo e\n",
    "# o mes do cargo_atual for igual ao ultimo mes de referencia(ultimo mês pra coleta) e o nome não estiver nos usuariosAtivos\n",
    "# ele é ativo\n",
    "        elif mes[meses[-2]] != 'Inativo' and cargo_atual == 'Inativo' and item == mes_referencia and not any(u for u in usuariosAtivos if nome == u):\n",
    "            usuariosAtivos.append(nome)       \n",
    "# se o cargo atual contem a palavra Inativo e não está nos usuariosAtivos então ele é Inativo\n",
    "        elif 'Inativo' in cargo_atual and nome not in usuariosAtivos:\n",
    "            usuariosInativos.append(nome)\n",
    "        else:\n",
    "            print('Corra pras montanhas')\n",
    "    \n",
    "    return usuariosAtivos,usuariosInativos"
   ]
  },
  {
   "cell_type": "code",
   "execution_count": 6,
   "metadata": {},
   "outputs": [
    {
     "data": {
      "text/plain": [
       "10"
      ]
     },
     "execution_count": 6,
     "metadata": {},
     "output_type": "execute_result"
    }
   ],
   "source": [
    "companies = ['Modera - Consórcio ME2', \n",
    "             'Sinalizavia (Municípios)', \n",
    "             'Afirma Engenharia Viária',\n",
    "             'Pavicolet', \n",
    "             'Sanson',\n",
    "             'Entrevias',\n",
    "             'Televale',\n",
    "             'Garcia Monteiro',\n",
    "             'LCM Construção e Comércio',\n",
    "             'Construtora Castilho']\n",
    "\n",
    "len(companies)"
   ]
  },
  {
   "cell_type": "code",
   "execution_count": 11,
   "metadata": {},
   "outputs": [
    {
     "data": {
      "text/plain": [
       "(31, 3, 2024)"
      ]
     },
     "execution_count": 11,
     "metadata": {},
     "output_type": "execute_result"
    }
   ],
   "source": [
    "# Mês e ano para coleta dos usuários\n",
    "mes=3\n",
    "ano=2024\n",
    "dia = calendar.monthrange(ano, mes)[1]\n",
    "dia,mes,ano"
   ]
  },
  {
   "cell_type": "code",
   "execution_count": 12,
   "metadata": {},
   "outputs": [
    {
     "data": {
      "text/plain": [
       "datetime.datetime(2024, 3, 31, 3, 0)"
      ]
     },
     "execution_count": 12,
     "metadata": {},
     "output_type": "execute_result"
    }
   ],
   "source": [
    "# DATA sempre referente ao mês que se quer coletar nesse formato history_date__lte='2024-01-31 03:00:00'\n",
    "# é utilizado 3 horas da manha pois é a pra fechar com o horario de meio noite do servidor\n",
    "data = datetime.datetime(ano,mes,dia,3,0,0)\n",
    "data"
   ]
  },
  {
   "cell_type": "code",
   "execution_count": 13,
   "metadata": {},
   "outputs": [],
   "source": [
    "pd.DataFrame().to_excel('Usuários Ativos Financeiro.xlsx')"
   ]
  },
  {
   "cell_type": "code",
   "execution_count": 14,
   "metadata": {},
   "outputs": [
    {
     "name": "stderr",
     "output_type": "stream",
     "text": [
      "<>:15: SyntaxWarning: \"is not\" with a literal. Did you mean \"!=\"?\n",
      "<>:15: SyntaxWarning: \"is not\" with a literal. Did you mean \"!=\"?\n",
      "/tmp/ipykernel_7665/2874654108.py:15: SyntaxWarning: \"is not\" with a literal. Did you mean \"!=\"?\n",
      "  elif company is not 'Entrevias':\n"
     ]
    },
    {
     "data": {
      "application/vnd.jupyter.widget-view+json": {
       "model_id": "ea6aee3e4d0a45e497eb8c6463c119dd",
       "version_major": 2,
       "version_minor": 0
      },
      "text/plain": [
       "  0%|          | 0/14 [00:00<?, ?it/s]"
      ]
     },
     "metadata": {},
     "output_type": "display_data"
    },
    {
     "name": "stderr",
     "output_type": "stream",
     "text": [
      "/home/luan/.cache/pypoetry/virtualenvs/apps-ZFymp6kh-py3.8/lib/python3.8/site-packages/django/db/models/fields/__init__.py:1424: RuntimeWarning: DateTimeField HistoricalUserInCompany.history_date received a naive datetime (2024-03-31 03:00:00) while time zone support is active.\n",
      "  warnings.warn(\"DateTimeField %s received a naive datetime (%s)\"\n"
     ]
    }
   ],
   "source": [
    "for company in tqdm(companies):\n",
    "    if 'Pavicolet' in company:\n",
    "        historicoUsuarios=UserInCompany.history.model.objects.filter(\n",
    "            company__name__icontains='Pavicolet',\n",
    "            history_date__lte=data\n",
    "        ).exclude(\n",
    "            user__email__icontains='kartado'\n",
    "        ).exclude(\n",
    "            user__email__icontains='roadlabs'\n",
    "        ).exclude(\n",
    "            user__uuid = '6ca2ac08-7ee0-4587-a0cf-8850f72e1b95'\n",
    "        ).exclude(\n",
    "            user__email__icontains='hermes'\n",
    "        ).order_by( 'history_date')\n",
    "    elif company is not 'Entrevias':\n",
    "        historicoUsuarios=UserInCompany.history.model.objects.filter(\n",
    "            company__name=company,\n",
    "            history_date__lte=data\n",
    "        ).exclude(\n",
    "            user__email__icontains='kartado'\n",
    "        ).exclude(\n",
    "            user__email__icontains='roadlabs'\n",
    "        ).exclude(\n",
    "            user__uuid = '6ca2ac08-7ee0-4587-a0cf-8850f72e1b95'\n",
    "        ).exclude(\n",
    "            user__email__icontains='hermes'\n",
    "        ).order_by( 'history_date')\n",
    "    else:\n",
    "        historicoUsuarios=UserInCompany.history.model.objects.filter(\n",
    "            Q(user__email__icontains='afirma')|Q(user__email__icontains='ajr'),\n",
    "            company__name__icontains=company,\n",
    "            history_date__lte=data\n",
    "        ).exclude(\n",
    "            user__email__icontains='kartado'\n",
    "        ).exclude(\n",
    "            user__email__icontains='roadlabs'\n",
    "        ).exclude(\n",
    "            user__uuid = '6ca2ac08-7ee0-4587-a0cf-8850f72e1b95'\n",
    "        ).exclude(\n",
    "            user__email__icontains='hermes'\n",
    "        ).order_by( 'history_date')\n",
    "    \n",
    "    users_permissions = permissoes_history_user(historicoUsuarios,data)[0] if len(permissoes_history_user(historicoUsuarios,data)[0]) > 0 else 0\n",
    "    \n",
    "    if users_permissions != 0:\n",
    "        df2 = pd.DataFrame(data=users_permissions,columns=['Usuários ativos'])\n",
    "        with pd.ExcelWriter('Usuários Ativos Financeiro.xlsx', mode='a',if_sheet_exists='replace') as writer:\n",
    "            df2.to_excel(writer,sheet_name=company.replace('/','')[:15],na_rep=\"-\")"
   ]
  },
  {
   "cell_type": "code",
   "execution_count": 10,
   "metadata": {},
   "outputs": [],
   "source": [
    "companies=['Neovia Alcinópolis',\n",
    "'Neovia Araquari 886/2020 ',\n",
    "'Neovia Araranguá',\n",
    "'Neovia Bocaína do Sul 329/2018',\n",
    "'Neovia Contorno Sul ',\n",
    "'Neovia Cto Biguaçu',\n",
    "'Neovia Diamantino',\n",
    "'Neovia Lages 652/2019',\n",
    "'Neovia Lagoa Vermelha',\n",
    "'Neovia Planalto Sul ',\n",
    "'Neovia Ponte Serrada',\n",
    "'Neovia Rancho Queimado 080/2021',\n",
    "'Neovia Régis Bittencourt',\n",
    "'Neovia Tijucas',]"
   ]
  },
  {
   "cell_type": "markdown",
   "metadata": {},
   "source": [
    "# TESTES"
   ]
  },
  {
   "cell_type": "code",
   "execution_count": 78,
   "metadata": {},
   "outputs": [],
   "source": [
    "# def permissoes_history_user_v2(result_list,mes_ano):\n",
    "#     permissoesUsuarios = {}\n",
    "#     mes_referencia = normalize_month(mes_ano.month, mes_ano.year)\n",
    "#     for a in result_list:\n",
    "#         try:\n",
    "# #             print(a.user.get_full_name())\n",
    "#             if not permissoesUsuarios.get(a.user.get_full_name()):\n",
    "#                 permissoesUsuarios[a.user.get_full_name()] = {}\n",
    "#             if isinstance(permissoesUsuarios.get(a.user.get_full_name()).get(normalize_month(a.history_date.month, a.history_date.year)),list):\n",
    "#                 permissoesUsuarios[a.user.get_full_name()][normalize_month(a.history_date.month, a.history_date.year)].append(a.permissions.name)\n",
    "#             elif permissoesUsuarios.get(a.user.get_full_name()).get(normalize_month(a.history_date.month, a.history_date.year)):\n",
    "#                 multi_perm_per_month= permissoesUsuarios.get(a.user.get_full_name()).get(normalize_month(a.history_date.month, a.history_date.year))\n",
    "#                 permissoesUsuarios[a.user.get_full_name()][normalize_month(a.history_date.month, a.history_date.year)] = [multi_perm_per_month,a.permissions.name]\n",
    "#             else:\n",
    "#                 permissoesUsuarios[a.user.get_full_name()][normalize_month(a.history_date.month, a.history_date.year)] = a.permissions.name\n",
    "#         except:\n",
    "#             pass\n",
    "    \n",
    "#     usuariosAtivos = []\n",
    "#     usuariosInativos = []\n",
    "#     print(permissoesUsuarios)\n",
    "#     for nome, mes in permissoesUsuarios.items():\n",
    "#         meses = sorted(list(mes.keys()))\n",
    "#         item = max(list(mes.keys()))\n",
    "#         cargo_atual = mes[item]\n",
    "#         print(nome,mes)\n",
    "# # Se em algum momento do mesmo mês o usuário foi diferente de inativo ele entra como ativo\n",
    "#         if isinstance(cargo_atual,list):\n",
    "#             for cargo in cargo_atual:\n",
    "#                 if cargo !='Inativo' and not any(u for u in usuariosAtivos if nome == u):\n",
    "#                     usuariosAtivos.append(nome)     \n",
    "# # se o cargo atual for diferente de inativo e não for uma lista(o que configura multiplas permissões no mesmo mês) ele é ativo\n",
    "#         elif cargo_atual != 'Inativo' and not isinstance(cargo_atual,list):\n",
    "#             usuariosAtivos.append(nome)\n",
    "# # Se no mes anterior ao ultimo ele foi diferente de inativo e no ultimo mes foi Inativo e\n",
    "# # o mes do cargo_atual for igual ao ultimo mes de referencia(ultimo mês pra coleta) e o nome não estiver nos usuariosAtivos\n",
    "# # ele é ativo\n",
    "#         elif mes[meses[-2]] != 'Inativo' and cargo_atual == 'Inativo' and item == mes_referencia and not any(u for u in usuariosAtivos if nome == u):\n",
    "#             usuariosAtivos.append(nome)\n",
    "# # se o cargo atual contem a palavra Inativo e não está nos usuariosAtivos então ele é Inativo\n",
    "#         elif 'Inativo' in cargo_atual and nome not in usuariosAtivos:\n",
    "#             usuariosInativos.append(nome)\n",
    "#         else:\n",
    "#             print('Corra pras montanhas')\n",
    "    \n",
    "#     return usuariosAtivos,usuariosInativos"
   ]
  },
  {
   "cell_type": "code",
   "execution_count": 118,
   "metadata": {},
   "outputs": [],
   "source": [
    "# historicoUsuarios=UserInCompany.history.model.objects.filter(\n",
    "#             company__name='Afirma Engenharia Viária',\n",
    "#             history_date__lte=data\n",
    "#         ).exclude(\n",
    "#             user__email__icontains='kartado'\n",
    "#         ).exclude(\n",
    "#             user__email__icontains='roadlabs'\n",
    "#         ).exclude(\n",
    "#             user__uuid = '6ca2ac08-7ee0-4587-a0cf-8850f72e1b95'\n",
    "#         ).exclude(\n",
    "#             user__email__icontains='hermes'\n",
    "#         ).order_by( 'history_date')\n"
   ]
  },
  {
   "cell_type": "code",
   "execution_count": 119,
   "metadata": {},
   "outputs": [
    {
     "name": "stdout",
     "output_type": "stream",
     "text": [
      "{'Gabriel Pezzi': {25: 'Administrador', 41: 'Inativo', 45: 'Inativo', 46: 'Inativo'}, 'Gerson Bueno': {26: 'Encarregado', 45: 'Inativo', 46: 'Inativo'}, 'Lucas Dadalt': {27: 'Encarregado', 41: 'Inativo', 45: 'Inativo', 46: 'Inativo'}, 'Edson Peicho': {27: ['Encarregado', 'Encarregado'], 32: 'Inativo', 45: 'Inativo', 46: 'Inativo'}, 'Eduardo Henrique': {28: 'Encarregado', 45: 'Inativo', 46: 'Inativo'}, 'Fernando Stipp': {29: 'Administrador', 32: 'Inativo', 45: 'Inativo', 46: 'Inativo'}, 'Tablet 1 Eco 101': {29: 'Encarregado', 32: 'Inativo', 45: 'Inativo', 46: 'Inativo'}, 'Tablet 2 Eco 101': {29: 'Encarregado', 32: 'Inativo', 45: 'Inativo', 46: 'Inativo'}, 'Tablet 3 Eco 101': {29: 'Encarregado', 32: 'Inativo', 45: 'Inativo', 46: 'Inativo'}, 'Tablet 4 Eco 101': {29: 'Encarregado', 32: 'Inativo', 45: 'Inativo', 46: 'Inativo'}, 'Tablet 5 ECO101': {29: 'Encarregado', 32: 'Inativo', 45: 'Inativo', 46: 'Inativo'}, 'Igor Cortes': {29: ['Encarregado', 'Administrador'], 32: 'Inativo', 35: 'Administrador', 41: 'Inativo', 45: 'Inativo', 46: 'Inativo'}, 'Stephany Camile': {29: 'Encarregado', 30: 'Administrador', 32: 'Inativo', 35: 'Administrador', 45: 'Inativo', 46: 'Inativo'}, 'Norton Antunes': {30: 'Encarregado', 32: 'Inativo', 45: 'Inativo', 46: 'Inativo', 48: 'Administrador'}, 'João Alexandre': {31: 'Encarregado', 41: 'Inativo', 45: 'Inativo', 46: 'Inativo'}, 'Mirailton Visitação da Silva': {32: ['Encarregado', 'Encarregado'], 45: 'Inativo', 46: 'Inativo'}, 'Jorge Malucelli': {35: 'Administrador', 45: 'Inativo', 46: 'Inativo', 48: 'Administrador'}, 'Marcos Silva': {41: 'Administrador', 45: 'Inativo', 46: 'Inativo'}, 'Karine Rodrigues': {41: 'Administrador', 45: 'Inativo', 46: 'Inativo'}, 'Vinicíus Coelho': {41: 'Encarregado', 45: 'Inativo', 46: 'Inativo'}, 'Elder Santos': {48: 'Administrador'}}\n",
      "Gabriel Pezzi {25: 'Administrador', 41: 'Inativo', 45: 'Inativo', 46: 'Inativo'}\n",
      "Gerson Bueno {26: 'Encarregado', 45: 'Inativo', 46: 'Inativo'}\n",
      "Lucas Dadalt {27: 'Encarregado', 41: 'Inativo', 45: 'Inativo', 46: 'Inativo'}\n",
      "Edson Peicho {27: ['Encarregado', 'Encarregado'], 32: 'Inativo', 45: 'Inativo', 46: 'Inativo'}\n",
      "Eduardo Henrique {28: 'Encarregado', 45: 'Inativo', 46: 'Inativo'}\n",
      "Fernando Stipp {29: 'Administrador', 32: 'Inativo', 45: 'Inativo', 46: 'Inativo'}\n",
      "Tablet 1 Eco 101 {29: 'Encarregado', 32: 'Inativo', 45: 'Inativo', 46: 'Inativo'}\n",
      "Tablet 2 Eco 101 {29: 'Encarregado', 32: 'Inativo', 45: 'Inativo', 46: 'Inativo'}\n",
      "Tablet 3 Eco 101 {29: 'Encarregado', 32: 'Inativo', 45: 'Inativo', 46: 'Inativo'}\n",
      "Tablet 4 Eco 101 {29: 'Encarregado', 32: 'Inativo', 45: 'Inativo', 46: 'Inativo'}\n",
      "Tablet 5 ECO101 {29: 'Encarregado', 32: 'Inativo', 45: 'Inativo', 46: 'Inativo'}\n",
      "Igor Cortes {29: ['Encarregado', 'Administrador'], 32: 'Inativo', 35: 'Administrador', 41: 'Inativo', 45: 'Inativo', 46: 'Inativo'}\n",
      "Stephany Camile {29: 'Encarregado', 30: 'Administrador', 32: 'Inativo', 35: 'Administrador', 45: 'Inativo', 46: 'Inativo'}\n",
      "Norton Antunes {30: 'Encarregado', 32: 'Inativo', 45: 'Inativo', 46: 'Inativo', 48: 'Administrador'}\n",
      "João Alexandre {31: 'Encarregado', 41: 'Inativo', 45: 'Inativo', 46: 'Inativo'}\n",
      "Mirailton Visitação da Silva {32: ['Encarregado', 'Encarregado'], 45: 'Inativo', 46: 'Inativo'}\n",
      "Jorge Malucelli {35: 'Administrador', 45: 'Inativo', 46: 'Inativo', 48: 'Administrador'}\n",
      "Marcos Silva {41: 'Administrador', 45: 'Inativo', 46: 'Inativo'}\n",
      "Karine Rodrigues {41: 'Administrador', 45: 'Inativo', 46: 'Inativo'}\n",
      "Vinicíus Coelho {41: 'Encarregado', 45: 'Inativo', 46: 'Inativo'}\n",
      "Elder Santos {48: 'Administrador'}\n"
     ]
    }
   ],
   "source": [
    "# a,i=permissoes_history_user_v2(historicoUsuarios,data)"
   ]
  },
  {
   "cell_type": "code",
   "execution_count": 120,
   "metadata": {},
   "outputs": [
    {
     "data": {
      "text/plain": [
       "(3, 18, 21)"
      ]
     },
     "execution_count": 120,
     "metadata": {},
     "output_type": "execute_result"
    }
   ],
   "source": [
    "# len(a),len(i),len(a)+len(i)"
   ]
  },
  {
   "cell_type": "code",
   "execution_count": 121,
   "metadata": {},
   "outputs": [
    {
     "data": {
      "text/plain": [
       "(['Norton Antunes', 'Jorge Malucelli', 'Elder Santos'],\n",
       " ['Gabriel Pezzi',\n",
       "  'Gerson Bueno',\n",
       "  'Lucas Dadalt',\n",
       "  'Edson Peicho',\n",
       "  'Eduardo Henrique',\n",
       "  'Fernando Stipp',\n",
       "  'Tablet 1 Eco 101',\n",
       "  'Tablet 2 Eco 101',\n",
       "  'Tablet 3 Eco 101',\n",
       "  'Tablet 4 Eco 101',\n",
       "  'Tablet 5 ECO101',\n",
       "  'Igor Cortes',\n",
       "  'Stephany Camile',\n",
       "  'João Alexandre',\n",
       "  'Mirailton Visitação da Silva',\n",
       "  'Marcos Silva',\n",
       "  'Karine Rodrigues',\n",
       "  'Vinicíus Coelho'])"
      ]
     },
     "execution_count": 121,
     "metadata": {},
     "output_type": "execute_result"
    }
   ],
   "source": [
    "# a,i"
   ]
  },
  {
   "cell_type": "code",
   "execution_count": 1,
   "metadata": {},
   "outputs": [
    {
     "data": {
      "text/plain": [
       "(<django.db.models.fields.UUIDField: uuid>,\n",
       " <django.db.models.fields.related.ForeignKey: user>,\n",
       " <django.db.models.fields.related.ForeignKey: company>,\n",
       " <django.db.models.fields.DateField: expiration_date>,\n",
       " <django.db.models.fields.IntegerField: level>,\n",
       " <django.db.models.fields.related.ForeignKey: permissions>,\n",
       " <django.contrib.postgres.fields.array.ArrayField: added_permissions>,\n",
       " <django.db.models.fields.BooleanField: is_active>)"
      ]
     },
     "execution_count": 1,
     "metadata": {},
     "output_type": "execute_result"
    }
   ],
   "source": [
    "UserInCompany._meta.fields"
   ]
  },
  {
   "cell_type": "code",
   "execution_count": 1,
   "metadata": {},
   "outputs": [
    {
     "ename": "ProgrammingError",
     "evalue": "column companies_userincompany.is_active does not exist\nLINE 1: ...\", \"companies_userincompany\".\"added_permissions\", \"companies...\n                                                             ^\n",
     "output_type": "error",
     "traceback": [
      "\u001b[0;31m---------------------------------------------------------------------------\u001b[0m",
      "\u001b[0;31mUndefinedColumn\u001b[0m                           Traceback (most recent call last)",
      "\u001b[0;32m~/.cache/pypoetry/virtualenvs/apps-ZFymp6kh-py3.8/lib/python3.8/site-packages/django/db/backends/utils.py\u001b[0m in \u001b[0;36m_execute\u001b[0;34m(self, sql, params, *ignored_wrapper_args)\u001b[0m\n\u001b[1;32m     83\u001b[0m             \u001b[0;32melse\u001b[0m\u001b[0;34m:\u001b[0m\u001b[0;34m\u001b[0m\u001b[0;34m\u001b[0m\u001b[0m\n\u001b[0;32m---> 84\u001b[0;31m                 \u001b[0;32mreturn\u001b[0m \u001b[0mself\u001b[0m\u001b[0;34m.\u001b[0m\u001b[0mcursor\u001b[0m\u001b[0;34m.\u001b[0m\u001b[0mexecute\u001b[0m\u001b[0;34m(\u001b[0m\u001b[0msql\u001b[0m\u001b[0;34m,\u001b[0m \u001b[0mparams\u001b[0m\u001b[0;34m)\u001b[0m\u001b[0;34m\u001b[0m\u001b[0;34m\u001b[0m\u001b[0m\n\u001b[0m\u001b[1;32m     85\u001b[0m \u001b[0;34m\u001b[0m\u001b[0m\n",
      "\u001b[0;31mUndefinedColumn\u001b[0m: column companies_userincompany.is_active does not exist\nLINE 1: ...\", \"companies_userincompany\".\"added_permissions\", \"companies...\n                                                             ^\n",
      "\nThe above exception was the direct cause of the following exception:\n",
      "\u001b[0;31mProgrammingError\u001b[0m                          Traceback (most recent call last)",
      "\u001b[0;32m~/.cache/pypoetry/virtualenvs/apps-ZFymp6kh-py3.8/lib/python3.8/site-packages/IPython/core/formatters.py\u001b[0m in \u001b[0;36m__call__\u001b[0;34m(self, obj)\u001b[0m\n\u001b[1;32m    700\u001b[0m                 \u001b[0mtype_pprinters\u001b[0m\u001b[0;34m=\u001b[0m\u001b[0mself\u001b[0m\u001b[0;34m.\u001b[0m\u001b[0mtype_printers\u001b[0m\u001b[0;34m,\u001b[0m\u001b[0;34m\u001b[0m\u001b[0;34m\u001b[0m\u001b[0m\n\u001b[1;32m    701\u001b[0m                 deferred_pprinters=self.deferred_printers)\n\u001b[0;32m--> 702\u001b[0;31m             \u001b[0mprinter\u001b[0m\u001b[0;34m.\u001b[0m\u001b[0mpretty\u001b[0m\u001b[0;34m(\u001b[0m\u001b[0mobj\u001b[0m\u001b[0;34m)\u001b[0m\u001b[0;34m\u001b[0m\u001b[0;34m\u001b[0m\u001b[0m\n\u001b[0m\u001b[1;32m    703\u001b[0m             \u001b[0mprinter\u001b[0m\u001b[0;34m.\u001b[0m\u001b[0mflush\u001b[0m\u001b[0;34m(\u001b[0m\u001b[0;34m)\u001b[0m\u001b[0;34m\u001b[0m\u001b[0;34m\u001b[0m\u001b[0m\n\u001b[1;32m    704\u001b[0m             \u001b[0;32mreturn\u001b[0m \u001b[0mstream\u001b[0m\u001b[0;34m.\u001b[0m\u001b[0mgetvalue\u001b[0m\u001b[0;34m(\u001b[0m\u001b[0;34m)\u001b[0m\u001b[0;34m\u001b[0m\u001b[0;34m\u001b[0m\u001b[0m\n",
      "\u001b[0;32m~/.cache/pypoetry/virtualenvs/apps-ZFymp6kh-py3.8/lib/python3.8/site-packages/IPython/lib/pretty.py\u001b[0m in \u001b[0;36mpretty\u001b[0;34m(self, obj)\u001b[0m\n\u001b[1;32m    392\u001b[0m                         \u001b[0;32mif\u001b[0m \u001b[0mcls\u001b[0m \u001b[0;32mis\u001b[0m \u001b[0;32mnot\u001b[0m \u001b[0mobject\u001b[0m\u001b[0;31m \u001b[0m\u001b[0;31m\\\u001b[0m\u001b[0;34m\u001b[0m\u001b[0;34m\u001b[0m\u001b[0m\n\u001b[1;32m    393\u001b[0m                                 \u001b[0;32mand\u001b[0m \u001b[0mcallable\u001b[0m\u001b[0;34m(\u001b[0m\u001b[0mcls\u001b[0m\u001b[0;34m.\u001b[0m\u001b[0m__dict__\u001b[0m\u001b[0;34m.\u001b[0m\u001b[0mget\u001b[0m\u001b[0;34m(\u001b[0m\u001b[0;34m'__repr__'\u001b[0m\u001b[0;34m)\u001b[0m\u001b[0;34m)\u001b[0m\u001b[0;34m:\u001b[0m\u001b[0;34m\u001b[0m\u001b[0;34m\u001b[0m\u001b[0m\n\u001b[0;32m--> 394\u001b[0;31m                             \u001b[0;32mreturn\u001b[0m \u001b[0m_repr_pprint\u001b[0m\u001b[0;34m(\u001b[0m\u001b[0mobj\u001b[0m\u001b[0;34m,\u001b[0m \u001b[0mself\u001b[0m\u001b[0;34m,\u001b[0m \u001b[0mcycle\u001b[0m\u001b[0;34m)\u001b[0m\u001b[0;34m\u001b[0m\u001b[0;34m\u001b[0m\u001b[0m\n\u001b[0m\u001b[1;32m    395\u001b[0m \u001b[0;34m\u001b[0m\u001b[0m\n\u001b[1;32m    396\u001b[0m             \u001b[0;32mreturn\u001b[0m \u001b[0m_default_pprint\u001b[0m\u001b[0;34m(\u001b[0m\u001b[0mobj\u001b[0m\u001b[0;34m,\u001b[0m \u001b[0mself\u001b[0m\u001b[0;34m,\u001b[0m \u001b[0mcycle\u001b[0m\u001b[0;34m)\u001b[0m\u001b[0;34m\u001b[0m\u001b[0;34m\u001b[0m\u001b[0m\n",
      "\u001b[0;32m~/.cache/pypoetry/virtualenvs/apps-ZFymp6kh-py3.8/lib/python3.8/site-packages/IPython/lib/pretty.py\u001b[0m in \u001b[0;36m_repr_pprint\u001b[0;34m(obj, p, cycle)\u001b[0m\n\u001b[1;32m    698\u001b[0m     \u001b[0;34m\"\"\"A pprint that just redirects to the normal repr function.\"\"\"\u001b[0m\u001b[0;34m\u001b[0m\u001b[0;34m\u001b[0m\u001b[0m\n\u001b[1;32m    699\u001b[0m     \u001b[0;31m# Find newlines and replace them with p.break_()\u001b[0m\u001b[0;34m\u001b[0m\u001b[0;34m\u001b[0m\u001b[0;34m\u001b[0m\u001b[0m\n\u001b[0;32m--> 700\u001b[0;31m     \u001b[0moutput\u001b[0m \u001b[0;34m=\u001b[0m \u001b[0mrepr\u001b[0m\u001b[0;34m(\u001b[0m\u001b[0mobj\u001b[0m\u001b[0;34m)\u001b[0m\u001b[0;34m\u001b[0m\u001b[0;34m\u001b[0m\u001b[0m\n\u001b[0m\u001b[1;32m    701\u001b[0m     \u001b[0mlines\u001b[0m \u001b[0;34m=\u001b[0m \u001b[0moutput\u001b[0m\u001b[0;34m.\u001b[0m\u001b[0msplitlines\u001b[0m\u001b[0;34m(\u001b[0m\u001b[0;34m)\u001b[0m\u001b[0;34m\u001b[0m\u001b[0;34m\u001b[0m\u001b[0m\n\u001b[1;32m    702\u001b[0m     \u001b[0;32mwith\u001b[0m \u001b[0mp\u001b[0m\u001b[0;34m.\u001b[0m\u001b[0mgroup\u001b[0m\u001b[0;34m(\u001b[0m\u001b[0;34m)\u001b[0m\u001b[0;34m:\u001b[0m\u001b[0;34m\u001b[0m\u001b[0;34m\u001b[0m\u001b[0m\n",
      "\u001b[0;32m~/.cache/pypoetry/virtualenvs/apps-ZFymp6kh-py3.8/lib/python3.8/site-packages/django/db/models/query.py\u001b[0m in \u001b[0;36m__repr__\u001b[0;34m(self)\u001b[0m\n\u001b[1;32m    248\u001b[0m \u001b[0;34m\u001b[0m\u001b[0m\n\u001b[1;32m    249\u001b[0m     \u001b[0;32mdef\u001b[0m \u001b[0m__repr__\u001b[0m\u001b[0;34m(\u001b[0m\u001b[0mself\u001b[0m\u001b[0;34m)\u001b[0m\u001b[0;34m:\u001b[0m\u001b[0;34m\u001b[0m\u001b[0;34m\u001b[0m\u001b[0m\n\u001b[0;32m--> 250\u001b[0;31m         \u001b[0mdata\u001b[0m \u001b[0;34m=\u001b[0m \u001b[0mlist\u001b[0m\u001b[0;34m(\u001b[0m\u001b[0mself\u001b[0m\u001b[0;34m[\u001b[0m\u001b[0;34m:\u001b[0m\u001b[0mREPR_OUTPUT_SIZE\u001b[0m \u001b[0;34m+\u001b[0m \u001b[0;36m1\u001b[0m\u001b[0;34m]\u001b[0m\u001b[0;34m)\u001b[0m\u001b[0;34m\u001b[0m\u001b[0;34m\u001b[0m\u001b[0m\n\u001b[0m\u001b[1;32m    251\u001b[0m         \u001b[0;32mif\u001b[0m \u001b[0mlen\u001b[0m\u001b[0;34m(\u001b[0m\u001b[0mdata\u001b[0m\u001b[0;34m)\u001b[0m \u001b[0;34m>\u001b[0m \u001b[0mREPR_OUTPUT_SIZE\u001b[0m\u001b[0;34m:\u001b[0m\u001b[0;34m\u001b[0m\u001b[0;34m\u001b[0m\u001b[0m\n\u001b[1;32m    252\u001b[0m             \u001b[0mdata\u001b[0m\u001b[0;34m[\u001b[0m\u001b[0;34m-\u001b[0m\u001b[0;36m1\u001b[0m\u001b[0;34m]\u001b[0m \u001b[0;34m=\u001b[0m \u001b[0;34m\"...(remaining elements truncated)...\"\u001b[0m\u001b[0;34m\u001b[0m\u001b[0;34m\u001b[0m\u001b[0m\n",
      "\u001b[0;32m~/.cache/pypoetry/virtualenvs/apps-ZFymp6kh-py3.8/lib/python3.8/site-packages/django/db/models/query.py\u001b[0m in \u001b[0;36m__len__\u001b[0;34m(self)\u001b[0m\n\u001b[1;32m    254\u001b[0m \u001b[0;34m\u001b[0m\u001b[0m\n\u001b[1;32m    255\u001b[0m     \u001b[0;32mdef\u001b[0m \u001b[0m__len__\u001b[0m\u001b[0;34m(\u001b[0m\u001b[0mself\u001b[0m\u001b[0;34m)\u001b[0m\u001b[0;34m:\u001b[0m\u001b[0;34m\u001b[0m\u001b[0;34m\u001b[0m\u001b[0m\n\u001b[0;32m--> 256\u001b[0;31m         \u001b[0mself\u001b[0m\u001b[0;34m.\u001b[0m\u001b[0m_fetch_all\u001b[0m\u001b[0;34m(\u001b[0m\u001b[0;34m)\u001b[0m\u001b[0;34m\u001b[0m\u001b[0;34m\u001b[0m\u001b[0m\n\u001b[0m\u001b[1;32m    257\u001b[0m         \u001b[0;32mreturn\u001b[0m \u001b[0mlen\u001b[0m\u001b[0;34m(\u001b[0m\u001b[0mself\u001b[0m\u001b[0;34m.\u001b[0m\u001b[0m_result_cache\u001b[0m\u001b[0;34m)\u001b[0m\u001b[0;34m\u001b[0m\u001b[0;34m\u001b[0m\u001b[0m\n\u001b[1;32m    258\u001b[0m \u001b[0;34m\u001b[0m\u001b[0m\n",
      "\u001b[0;32m~/.cache/pypoetry/virtualenvs/apps-ZFymp6kh-py3.8/lib/python3.8/site-packages/django/db/models/query.py\u001b[0m in \u001b[0;36m_fetch_all\u001b[0;34m(self)\u001b[0m\n\u001b[1;32m   1240\u001b[0m     \u001b[0;32mdef\u001b[0m \u001b[0m_fetch_all\u001b[0m\u001b[0;34m(\u001b[0m\u001b[0mself\u001b[0m\u001b[0;34m)\u001b[0m\u001b[0;34m:\u001b[0m\u001b[0;34m\u001b[0m\u001b[0;34m\u001b[0m\u001b[0m\n\u001b[1;32m   1241\u001b[0m         \u001b[0;32mif\u001b[0m \u001b[0mself\u001b[0m\u001b[0;34m.\u001b[0m\u001b[0m_result_cache\u001b[0m \u001b[0;32mis\u001b[0m \u001b[0;32mNone\u001b[0m\u001b[0;34m:\u001b[0m\u001b[0;34m\u001b[0m\u001b[0;34m\u001b[0m\u001b[0m\n\u001b[0;32m-> 1242\u001b[0;31m             \u001b[0mself\u001b[0m\u001b[0;34m.\u001b[0m\u001b[0m_result_cache\u001b[0m \u001b[0;34m=\u001b[0m \u001b[0mlist\u001b[0m\u001b[0;34m(\u001b[0m\u001b[0mself\u001b[0m\u001b[0;34m.\u001b[0m\u001b[0m_iterable_class\u001b[0m\u001b[0;34m(\u001b[0m\u001b[0mself\u001b[0m\u001b[0;34m)\u001b[0m\u001b[0;34m)\u001b[0m\u001b[0;34m\u001b[0m\u001b[0;34m\u001b[0m\u001b[0m\n\u001b[0m\u001b[1;32m   1243\u001b[0m         \u001b[0;32mif\u001b[0m \u001b[0mself\u001b[0m\u001b[0;34m.\u001b[0m\u001b[0m_prefetch_related_lookups\u001b[0m \u001b[0;32mand\u001b[0m \u001b[0;32mnot\u001b[0m \u001b[0mself\u001b[0m\u001b[0;34m.\u001b[0m\u001b[0m_prefetch_done\u001b[0m\u001b[0;34m:\u001b[0m\u001b[0;34m\u001b[0m\u001b[0;34m\u001b[0m\u001b[0m\n\u001b[1;32m   1244\u001b[0m             \u001b[0mself\u001b[0m\u001b[0;34m.\u001b[0m\u001b[0m_prefetch_related_objects\u001b[0m\u001b[0;34m(\u001b[0m\u001b[0;34m)\u001b[0m\u001b[0;34m\u001b[0m\u001b[0;34m\u001b[0m\u001b[0m\n",
      "\u001b[0;32m~/.cache/pypoetry/virtualenvs/apps-ZFymp6kh-py3.8/lib/python3.8/site-packages/django/db/models/query.py\u001b[0m in \u001b[0;36m__iter__\u001b[0;34m(self)\u001b[0m\n\u001b[1;32m     53\u001b[0m         \u001b[0;31m# Execute the query. This will also fill compiler.select, klass_info,\u001b[0m\u001b[0;34m\u001b[0m\u001b[0;34m\u001b[0m\u001b[0;34m\u001b[0m\u001b[0m\n\u001b[1;32m     54\u001b[0m         \u001b[0;31m# and annotations.\u001b[0m\u001b[0;34m\u001b[0m\u001b[0;34m\u001b[0m\u001b[0;34m\u001b[0m\u001b[0m\n\u001b[0;32m---> 55\u001b[0;31m         \u001b[0mresults\u001b[0m \u001b[0;34m=\u001b[0m \u001b[0mcompiler\u001b[0m\u001b[0;34m.\u001b[0m\u001b[0mexecute_sql\u001b[0m\u001b[0;34m(\u001b[0m\u001b[0mchunked_fetch\u001b[0m\u001b[0;34m=\u001b[0m\u001b[0mself\u001b[0m\u001b[0;34m.\u001b[0m\u001b[0mchunked_fetch\u001b[0m\u001b[0;34m,\u001b[0m \u001b[0mchunk_size\u001b[0m\u001b[0;34m=\u001b[0m\u001b[0mself\u001b[0m\u001b[0;34m.\u001b[0m\u001b[0mchunk_size\u001b[0m\u001b[0;34m)\u001b[0m\u001b[0;34m\u001b[0m\u001b[0;34m\u001b[0m\u001b[0m\n\u001b[0m\u001b[1;32m     56\u001b[0m         select, klass_info, annotation_col_map = (compiler.select, compiler.klass_info,\n\u001b[1;32m     57\u001b[0m                                                   compiler.annotation_col_map)\n",
      "\u001b[0;32m~/.cache/pypoetry/virtualenvs/apps-ZFymp6kh-py3.8/lib/python3.8/site-packages/django/db/models/sql/compiler.py\u001b[0m in \u001b[0;36mexecute_sql\u001b[0;34m(self, result_type, chunked_fetch, chunk_size)\u001b[0m\n\u001b[1;32m   1140\u001b[0m             \u001b[0mcursor\u001b[0m \u001b[0;34m=\u001b[0m \u001b[0mself\u001b[0m\u001b[0;34m.\u001b[0m\u001b[0mconnection\u001b[0m\u001b[0;34m.\u001b[0m\u001b[0mcursor\u001b[0m\u001b[0;34m(\u001b[0m\u001b[0;34m)\u001b[0m\u001b[0;34m\u001b[0m\u001b[0;34m\u001b[0m\u001b[0m\n\u001b[1;32m   1141\u001b[0m         \u001b[0;32mtry\u001b[0m\u001b[0;34m:\u001b[0m\u001b[0;34m\u001b[0m\u001b[0;34m\u001b[0m\u001b[0m\n\u001b[0;32m-> 1142\u001b[0;31m             \u001b[0mcursor\u001b[0m\u001b[0;34m.\u001b[0m\u001b[0mexecute\u001b[0m\u001b[0;34m(\u001b[0m\u001b[0msql\u001b[0m\u001b[0;34m,\u001b[0m \u001b[0mparams\u001b[0m\u001b[0;34m)\u001b[0m\u001b[0;34m\u001b[0m\u001b[0;34m\u001b[0m\u001b[0m\n\u001b[0m\u001b[1;32m   1143\u001b[0m         \u001b[0;32mexcept\u001b[0m \u001b[0mException\u001b[0m\u001b[0;34m:\u001b[0m\u001b[0;34m\u001b[0m\u001b[0;34m\u001b[0m\u001b[0m\n\u001b[1;32m   1144\u001b[0m             \u001b[0;31m# Might fail for server-side cursors (e.g. connection closed)\u001b[0m\u001b[0;34m\u001b[0m\u001b[0;34m\u001b[0m\u001b[0;34m\u001b[0m\u001b[0m\n",
      "\u001b[0;32m~/.cache/pypoetry/virtualenvs/apps-ZFymp6kh-py3.8/lib/python3.8/site-packages/django/db/backends/utils.py\u001b[0m in \u001b[0;36mexecute\u001b[0;34m(self, sql, params)\u001b[0m\n\u001b[1;32m     97\u001b[0m         \u001b[0mstart\u001b[0m \u001b[0;34m=\u001b[0m \u001b[0mtime\u001b[0m\u001b[0;34m(\u001b[0m\u001b[0;34m)\u001b[0m\u001b[0;34m\u001b[0m\u001b[0;34m\u001b[0m\u001b[0m\n\u001b[1;32m     98\u001b[0m         \u001b[0;32mtry\u001b[0m\u001b[0;34m:\u001b[0m\u001b[0;34m\u001b[0m\u001b[0;34m\u001b[0m\u001b[0m\n\u001b[0;32m---> 99\u001b[0;31m             \u001b[0;32mreturn\u001b[0m \u001b[0msuper\u001b[0m\u001b[0;34m(\u001b[0m\u001b[0;34m)\u001b[0m\u001b[0;34m.\u001b[0m\u001b[0mexecute\u001b[0m\u001b[0;34m(\u001b[0m\u001b[0msql\u001b[0m\u001b[0;34m,\u001b[0m \u001b[0mparams\u001b[0m\u001b[0;34m)\u001b[0m\u001b[0;34m\u001b[0m\u001b[0;34m\u001b[0m\u001b[0m\n\u001b[0m\u001b[1;32m    100\u001b[0m         \u001b[0;32mfinally\u001b[0m\u001b[0;34m:\u001b[0m\u001b[0;34m\u001b[0m\u001b[0;34m\u001b[0m\u001b[0m\n\u001b[1;32m    101\u001b[0m             \u001b[0mstop\u001b[0m \u001b[0;34m=\u001b[0m \u001b[0mtime\u001b[0m\u001b[0;34m(\u001b[0m\u001b[0;34m)\u001b[0m\u001b[0;34m\u001b[0m\u001b[0;34m\u001b[0m\u001b[0m\n",
      "\u001b[0;32m~/.cache/pypoetry/virtualenvs/apps-ZFymp6kh-py3.8/lib/python3.8/site-packages/sentry_sdk/integrations/django/__init__.py\u001b[0m in \u001b[0;36mexecute\u001b[0;34m(self, sql, params)\u001b[0m\n\u001b[1;32m    575\u001b[0m             \u001b[0mhub\u001b[0m\u001b[0;34m,\u001b[0m \u001b[0mself\u001b[0m\u001b[0;34m.\u001b[0m\u001b[0mcursor\u001b[0m\u001b[0;34m,\u001b[0m \u001b[0msql\u001b[0m\u001b[0;34m,\u001b[0m \u001b[0mparams\u001b[0m\u001b[0;34m,\u001b[0m \u001b[0mparamstyle\u001b[0m\u001b[0;34m=\u001b[0m\u001b[0;34m\"format\"\u001b[0m\u001b[0;34m,\u001b[0m \u001b[0mexecutemany\u001b[0m\u001b[0;34m=\u001b[0m\u001b[0;32mFalse\u001b[0m\u001b[0;34m\u001b[0m\u001b[0;34m\u001b[0m\u001b[0m\n\u001b[1;32m    576\u001b[0m         ):\n\u001b[0;32m--> 577\u001b[0;31m             \u001b[0;32mreturn\u001b[0m \u001b[0mreal_execute\u001b[0m\u001b[0;34m(\u001b[0m\u001b[0mself\u001b[0m\u001b[0;34m,\u001b[0m \u001b[0msql\u001b[0m\u001b[0;34m,\u001b[0m \u001b[0mparams\u001b[0m\u001b[0;34m)\u001b[0m\u001b[0;34m\u001b[0m\u001b[0;34m\u001b[0m\u001b[0m\n\u001b[0m\u001b[1;32m    578\u001b[0m \u001b[0;34m\u001b[0m\u001b[0m\n\u001b[1;32m    579\u001b[0m     \u001b[0;32mdef\u001b[0m \u001b[0mexecutemany\u001b[0m\u001b[0;34m(\u001b[0m\u001b[0mself\u001b[0m\u001b[0;34m,\u001b[0m \u001b[0msql\u001b[0m\u001b[0;34m,\u001b[0m \u001b[0mparam_list\u001b[0m\u001b[0;34m)\u001b[0m\u001b[0;34m:\u001b[0m\u001b[0;34m\u001b[0m\u001b[0;34m\u001b[0m\u001b[0m\n",
      "\u001b[0;32m~/.cache/pypoetry/virtualenvs/apps-ZFymp6kh-py3.8/lib/python3.8/site-packages/django/db/backends/utils.py\u001b[0m in \u001b[0;36mexecute\u001b[0;34m(self, sql, params)\u001b[0m\n\u001b[1;32m     65\u001b[0m \u001b[0;34m\u001b[0m\u001b[0m\n\u001b[1;32m     66\u001b[0m     \u001b[0;32mdef\u001b[0m \u001b[0mexecute\u001b[0m\u001b[0;34m(\u001b[0m\u001b[0mself\u001b[0m\u001b[0;34m,\u001b[0m \u001b[0msql\u001b[0m\u001b[0;34m,\u001b[0m \u001b[0mparams\u001b[0m\u001b[0;34m=\u001b[0m\u001b[0;32mNone\u001b[0m\u001b[0;34m)\u001b[0m\u001b[0;34m:\u001b[0m\u001b[0;34m\u001b[0m\u001b[0;34m\u001b[0m\u001b[0m\n\u001b[0;32m---> 67\u001b[0;31m         \u001b[0;32mreturn\u001b[0m \u001b[0mself\u001b[0m\u001b[0;34m.\u001b[0m\u001b[0m_execute_with_wrappers\u001b[0m\u001b[0;34m(\u001b[0m\u001b[0msql\u001b[0m\u001b[0;34m,\u001b[0m \u001b[0mparams\u001b[0m\u001b[0;34m,\u001b[0m \u001b[0mmany\u001b[0m\u001b[0;34m=\u001b[0m\u001b[0;32mFalse\u001b[0m\u001b[0;34m,\u001b[0m \u001b[0mexecutor\u001b[0m\u001b[0;34m=\u001b[0m\u001b[0mself\u001b[0m\u001b[0;34m.\u001b[0m\u001b[0m_execute\u001b[0m\u001b[0;34m)\u001b[0m\u001b[0;34m\u001b[0m\u001b[0;34m\u001b[0m\u001b[0m\n\u001b[0m\u001b[1;32m     68\u001b[0m \u001b[0;34m\u001b[0m\u001b[0m\n\u001b[1;32m     69\u001b[0m     \u001b[0;32mdef\u001b[0m \u001b[0mexecutemany\u001b[0m\u001b[0;34m(\u001b[0m\u001b[0mself\u001b[0m\u001b[0;34m,\u001b[0m \u001b[0msql\u001b[0m\u001b[0;34m,\u001b[0m \u001b[0mparam_list\u001b[0m\u001b[0;34m)\u001b[0m\u001b[0;34m:\u001b[0m\u001b[0;34m\u001b[0m\u001b[0;34m\u001b[0m\u001b[0m\n",
      "\u001b[0;32m~/.cache/pypoetry/virtualenvs/apps-ZFymp6kh-py3.8/lib/python3.8/site-packages/django/db/backends/utils.py\u001b[0m in \u001b[0;36m_execute_with_wrappers\u001b[0;34m(self, sql, params, many, executor)\u001b[0m\n\u001b[1;32m     74\u001b[0m         \u001b[0;32mfor\u001b[0m \u001b[0mwrapper\u001b[0m \u001b[0;32min\u001b[0m \u001b[0mreversed\u001b[0m\u001b[0;34m(\u001b[0m\u001b[0mself\u001b[0m\u001b[0;34m.\u001b[0m\u001b[0mdb\u001b[0m\u001b[0;34m.\u001b[0m\u001b[0mexecute_wrappers\u001b[0m\u001b[0;34m)\u001b[0m\u001b[0;34m:\u001b[0m\u001b[0;34m\u001b[0m\u001b[0;34m\u001b[0m\u001b[0m\n\u001b[1;32m     75\u001b[0m             \u001b[0mexecutor\u001b[0m \u001b[0;34m=\u001b[0m \u001b[0mfunctools\u001b[0m\u001b[0;34m.\u001b[0m\u001b[0mpartial\u001b[0m\u001b[0;34m(\u001b[0m\u001b[0mwrapper\u001b[0m\u001b[0;34m,\u001b[0m \u001b[0mexecutor\u001b[0m\u001b[0;34m)\u001b[0m\u001b[0;34m\u001b[0m\u001b[0;34m\u001b[0m\u001b[0m\n\u001b[0;32m---> 76\u001b[0;31m         \u001b[0;32mreturn\u001b[0m \u001b[0mexecutor\u001b[0m\u001b[0;34m(\u001b[0m\u001b[0msql\u001b[0m\u001b[0;34m,\u001b[0m \u001b[0mparams\u001b[0m\u001b[0;34m,\u001b[0m \u001b[0mmany\u001b[0m\u001b[0;34m,\u001b[0m \u001b[0mcontext\u001b[0m\u001b[0;34m)\u001b[0m\u001b[0;34m\u001b[0m\u001b[0;34m\u001b[0m\u001b[0m\n\u001b[0m\u001b[1;32m     77\u001b[0m \u001b[0;34m\u001b[0m\u001b[0m\n\u001b[1;32m     78\u001b[0m     \u001b[0;32mdef\u001b[0m \u001b[0m_execute\u001b[0m\u001b[0;34m(\u001b[0m\u001b[0mself\u001b[0m\u001b[0;34m,\u001b[0m \u001b[0msql\u001b[0m\u001b[0;34m,\u001b[0m \u001b[0mparams\u001b[0m\u001b[0;34m,\u001b[0m \u001b[0;34m*\u001b[0m\u001b[0mignored_wrapper_args\u001b[0m\u001b[0;34m)\u001b[0m\u001b[0;34m:\u001b[0m\u001b[0;34m\u001b[0m\u001b[0;34m\u001b[0m\u001b[0m\n",
      "\u001b[0;32m~/.cache/pypoetry/virtualenvs/apps-ZFymp6kh-py3.8/lib/python3.8/site-packages/django/db/backends/utils.py\u001b[0m in \u001b[0;36m_execute\u001b[0;34m(self, sql, params, *ignored_wrapper_args)\u001b[0m\n\u001b[1;32m     82\u001b[0m                 \u001b[0;32mreturn\u001b[0m \u001b[0mself\u001b[0m\u001b[0;34m.\u001b[0m\u001b[0mcursor\u001b[0m\u001b[0;34m.\u001b[0m\u001b[0mexecute\u001b[0m\u001b[0;34m(\u001b[0m\u001b[0msql\u001b[0m\u001b[0;34m)\u001b[0m\u001b[0;34m\u001b[0m\u001b[0;34m\u001b[0m\u001b[0m\n\u001b[1;32m     83\u001b[0m             \u001b[0;32melse\u001b[0m\u001b[0;34m:\u001b[0m\u001b[0;34m\u001b[0m\u001b[0;34m\u001b[0m\u001b[0m\n\u001b[0;32m---> 84\u001b[0;31m                 \u001b[0;32mreturn\u001b[0m \u001b[0mself\u001b[0m\u001b[0;34m.\u001b[0m\u001b[0mcursor\u001b[0m\u001b[0;34m.\u001b[0m\u001b[0mexecute\u001b[0m\u001b[0;34m(\u001b[0m\u001b[0msql\u001b[0m\u001b[0;34m,\u001b[0m \u001b[0mparams\u001b[0m\u001b[0;34m)\u001b[0m\u001b[0;34m\u001b[0m\u001b[0;34m\u001b[0m\u001b[0m\n\u001b[0m\u001b[1;32m     85\u001b[0m \u001b[0;34m\u001b[0m\u001b[0m\n\u001b[1;32m     86\u001b[0m     \u001b[0;32mdef\u001b[0m \u001b[0m_executemany\u001b[0m\u001b[0;34m(\u001b[0m\u001b[0mself\u001b[0m\u001b[0;34m,\u001b[0m \u001b[0msql\u001b[0m\u001b[0;34m,\u001b[0m \u001b[0mparam_list\u001b[0m\u001b[0;34m,\u001b[0m \u001b[0;34m*\u001b[0m\u001b[0mignored_wrapper_args\u001b[0m\u001b[0;34m)\u001b[0m\u001b[0;34m:\u001b[0m\u001b[0;34m\u001b[0m\u001b[0;34m\u001b[0m\u001b[0m\n",
      "\u001b[0;32m~/.cache/pypoetry/virtualenvs/apps-ZFymp6kh-py3.8/lib/python3.8/site-packages/django/db/utils.py\u001b[0m in \u001b[0;36m__exit__\u001b[0;34m(self, exc_type, exc_value, traceback)\u001b[0m\n\u001b[1;32m     87\u001b[0m                 \u001b[0;32mif\u001b[0m \u001b[0mdj_exc_type\u001b[0m \u001b[0;32mnot\u001b[0m \u001b[0;32min\u001b[0m \u001b[0;34m(\u001b[0m\u001b[0mDataError\u001b[0m\u001b[0;34m,\u001b[0m \u001b[0mIntegrityError\u001b[0m\u001b[0;34m)\u001b[0m\u001b[0;34m:\u001b[0m\u001b[0;34m\u001b[0m\u001b[0;34m\u001b[0m\u001b[0m\n\u001b[1;32m     88\u001b[0m                     \u001b[0mself\u001b[0m\u001b[0;34m.\u001b[0m\u001b[0mwrapper\u001b[0m\u001b[0;34m.\u001b[0m\u001b[0merrors_occurred\u001b[0m \u001b[0;34m=\u001b[0m \u001b[0;32mTrue\u001b[0m\u001b[0;34m\u001b[0m\u001b[0;34m\u001b[0m\u001b[0m\n\u001b[0;32m---> 89\u001b[0;31m                 \u001b[0;32mraise\u001b[0m \u001b[0mdj_exc_value\u001b[0m\u001b[0;34m.\u001b[0m\u001b[0mwith_traceback\u001b[0m\u001b[0;34m(\u001b[0m\u001b[0mtraceback\u001b[0m\u001b[0;34m)\u001b[0m \u001b[0;32mfrom\u001b[0m \u001b[0mexc_value\u001b[0m\u001b[0;34m\u001b[0m\u001b[0;34m\u001b[0m\u001b[0m\n\u001b[0m\u001b[1;32m     90\u001b[0m \u001b[0;34m\u001b[0m\u001b[0m\n\u001b[1;32m     91\u001b[0m     \u001b[0;32mdef\u001b[0m \u001b[0m__call__\u001b[0m\u001b[0;34m(\u001b[0m\u001b[0mself\u001b[0m\u001b[0;34m,\u001b[0m \u001b[0mfunc\u001b[0m\u001b[0;34m)\u001b[0m\u001b[0;34m:\u001b[0m\u001b[0;34m\u001b[0m\u001b[0;34m\u001b[0m\u001b[0m\n",
      "\u001b[0;32m~/.cache/pypoetry/virtualenvs/apps-ZFymp6kh-py3.8/lib/python3.8/site-packages/django/db/backends/utils.py\u001b[0m in \u001b[0;36m_execute\u001b[0;34m(self, sql, params, *ignored_wrapper_args)\u001b[0m\n\u001b[1;32m     82\u001b[0m                 \u001b[0;32mreturn\u001b[0m \u001b[0mself\u001b[0m\u001b[0;34m.\u001b[0m\u001b[0mcursor\u001b[0m\u001b[0;34m.\u001b[0m\u001b[0mexecute\u001b[0m\u001b[0;34m(\u001b[0m\u001b[0msql\u001b[0m\u001b[0;34m)\u001b[0m\u001b[0;34m\u001b[0m\u001b[0;34m\u001b[0m\u001b[0m\n\u001b[1;32m     83\u001b[0m             \u001b[0;32melse\u001b[0m\u001b[0;34m:\u001b[0m\u001b[0;34m\u001b[0m\u001b[0;34m\u001b[0m\u001b[0m\n\u001b[0;32m---> 84\u001b[0;31m                 \u001b[0;32mreturn\u001b[0m \u001b[0mself\u001b[0m\u001b[0;34m.\u001b[0m\u001b[0mcursor\u001b[0m\u001b[0;34m.\u001b[0m\u001b[0mexecute\u001b[0m\u001b[0;34m(\u001b[0m\u001b[0msql\u001b[0m\u001b[0;34m,\u001b[0m \u001b[0mparams\u001b[0m\u001b[0;34m)\u001b[0m\u001b[0;34m\u001b[0m\u001b[0;34m\u001b[0m\u001b[0m\n\u001b[0m\u001b[1;32m     85\u001b[0m \u001b[0;34m\u001b[0m\u001b[0m\n\u001b[1;32m     86\u001b[0m     \u001b[0;32mdef\u001b[0m \u001b[0m_executemany\u001b[0m\u001b[0;34m(\u001b[0m\u001b[0mself\u001b[0m\u001b[0;34m,\u001b[0m \u001b[0msql\u001b[0m\u001b[0;34m,\u001b[0m \u001b[0mparam_list\u001b[0m\u001b[0;34m,\u001b[0m \u001b[0;34m*\u001b[0m\u001b[0mignored_wrapper_args\u001b[0m\u001b[0;34m)\u001b[0m\u001b[0;34m:\u001b[0m\u001b[0;34m\u001b[0m\u001b[0;34m\u001b[0m\u001b[0m\n",
      "\u001b[0;31mProgrammingError\u001b[0m: column companies_userincompany.is_active does not exist\nLINE 1: ...\", \"companies_userincompany\".\"added_permissions\", \"companies...\n                                                             ^\n"
     ]
    }
   ],
   "source": [
    "UserInCompany.objects.filter(is_active=False)"
   ]
  },
  {
   "cell_type": "code",
   "execution_count": null,
   "metadata": {},
   "outputs": [],
   "source": []
  }
 ],
 "metadata": {
  "kernelspec": {
   "display_name": "Django Shell-Plus",
   "language": "python",
   "name": "django_extensions"
  },
  "language_info": {
   "codemirror_mode": {
    "name": "ipython",
    "version": 3
   },
   "file_extension": ".py",
   "mimetype": "text/x-python",
   "name": "python",
   "nbconvert_exporter": "python",
   "pygments_lexer": "ipython3",
   "version": "3.8.16"
  }
 },
 "nbformat": 4,
 "nbformat_minor": 2
}
