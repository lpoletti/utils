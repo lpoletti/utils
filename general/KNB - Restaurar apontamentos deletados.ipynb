{
 "cells": [
  {
   "cell_type": "code",
   "execution_count": 6,
   "metadata": {},
   "outputs": [],
   "source": [
    "from tqdm.notebook import tqdm"
   ]
  },
  {
   "cell_type": "code",
   "execution_count": 5,
   "metadata": {},
   "outputs": [],
   "source": [
    "occ = OccurrenceType.objects.get(name__icontains=\"Selagem de trincas em pav. flexível\", company__name=\"Arteris Litoral Sul - Conserva\")"
   ]
  },
  {
   "cell_type": "code",
   "execution_count": null,
   "metadata": {},
   "outputs": [],
   "source": [
    "for a in Reporting.history.model.objects.filter(\n",
    "    history_date__date=\"2023-07-24\", \n",
    "    history_type=\"-\", \n",
    "    form_data__artesp_code=\"618034\"\n",
    "):\n",
    "    print(a)\n",
    "#     a.instance.save()\n",
    "#     for b in ReportingFile.history.model.objects.filter(\n",
    "#         reporting=str(a.uuid)\n",
    "#     ):\n",
    "#         print(b)\n",
    "#         b.instance.save()"
   ]
  },
  {
   "cell_type": "markdown",
   "metadata": {},
   "source": [
    "# Restauração com o serial do apontamento"
   ]
  },
  {
   "cell_type": "code",
   "execution_count": 1,
   "metadata": {},
   "outputs": [
    {
     "data": {
      "text/plain": [
       "1"
      ]
     },
     "execution_count": 1,
     "metadata": {},
     "output_type": "execute_result"
    }
   ],
   "source": [
    "lista=['VBR-MEI-2023.00050']\n",
    "len(lista)"
   ]
  },
  {
   "cell_type": "code",
   "execution_count": 4,
   "metadata": {},
   "outputs": [
    {
     "data": {
      "text/plain": [
       "(1,\n",
       " <HistoricalReporting: [Via Brasil] VBR-Mei-2023.00050 - 2023-09-25 01:14:00+00:00 as of 2023-10-30 18:22:14.444941+00:00>)"
      ]
     },
     "execution_count": 4,
     "metadata": {},
     "output_type": "execute_result"
    }
   ],
   "source": [
    "reps = Reporting.history.model.objects.filter(company__name=\"Via Brasil\",\n",
    "#                                               number__in=lista,\n",
    "                                              history_type=\"-\",\n",
    "                                              history_date__gte='2023-10-30 13:00'\n",
    "                                             )\n",
    "reps.count()"
   ]
  },
  {
   "cell_type": "code",
   "execution_count": 7,
   "metadata": {},
   "outputs": [
    {
     "data": {
      "application/vnd.jupyter.widget-view+json": {
       "model_id": "98c30d5af52f4f04b1c6a17d3db21189",
       "version_major": 2,
       "version_minor": 0
      },
      "text/plain": [
       "  0%|          | 0/1 [00:00<?, ?it/s]"
      ]
     },
     "metadata": {},
     "output_type": "display_data"
    },
    {
     "name": "stdout",
     "output_type": "stream",
     "text": [
      "Searching KM on direction...\n",
      "Searching KM without direction...\n",
      "Found KM on Road 1654: BR-163/MT\n"
     ]
    },
    {
     "data": {
      "application/vnd.jupyter.widget-view+json": {
       "model_id": "ef193c2aad1e4dd5adfd63db8c7bf64f",
       "version_major": 2,
       "version_minor": 0
      },
      "text/plain": [
       "  0%|          | 0/17 [00:00<?, ?it/s]"
      ]
     },
     "metadata": {},
     "output_type": "display_data"
    }
   ],
   "source": [
    "for a in tqdm(reps):\n",
    "    a.instance.save()\n",
    "    for b in tqdm(ReportingFile.history.model.objects.filter(history_type='-', reporting__uuid=str(a.uuid))):\n",
    "        b.instance.save()"
   ]
  },
  {
   "cell_type": "code",
   "execution_count": 8,
   "metadata": {},
   "outputs": [
    {
     "data": {
      "text/plain": [
       "<QuerySet [<HistoricalReporting: [Arteris Intervias] INT-PAVF-2023.11640 - 2023-07-20 03:00:00+00:00 as of 2023-08-29 17:50:05.026381+00:00>, <HistoricalReporting: [Arteris Intervias] INT-PAVF-2023.11641 - 2023-07-20 03:00:00+00:00 as of 2023-08-29 17:49:59.752573+00:00>, <HistoricalReporting: [Arteris Intervias] INT-PAVF-2023.11645 - 2023-07-20 03:00:00+00:00 as of 2023-08-29 17:49:55.696950+00:00>, <HistoricalReporting: [Arteris Intervias] INT-PAVF-2023.11649 - 2023-07-20 03:00:00+00:00 as of 2023-08-29 17:48:30.612044+00:00>, <HistoricalReporting: [Arteris Intervias] INT-PAVF-2023.11657 - 2023-07-20 03:00:00+00:00 as of 2023-08-29 17:42:26.824681+00:00>]>"
      ]
     },
     "execution_count": 8,
     "metadata": {},
     "output_type": "execute_result"
    }
   ],
   "source": [
    "reps[1:]"
   ]
  },
  {
   "cell_type": "code",
   "execution_count": 5,
   "metadata": {},
   "outputs": [
    {
     "name": "stdout",
     "output_type": "stream",
     "text": [
      "Searching KM on direction...\n",
      "Found KM on Road 662: BR-381/MG\n"
     ]
    }
   ],
   "source": [
    "# reps[0].instance.save()\n",
    "for a in reps:\n",
    "#     a.job_id = None\n",
    "    a.instance.save()"
   ]
  },
  {
   "cell_type": "code",
   "execution_count": 2,
   "metadata": {},
   "outputs": [
    {
     "data": {
      "text/plain": [
       "<User: gessica.gomes.ter - Gessica Gomes>"
      ]
     },
     "execution_count": 2,
     "metadata": {},
     "output_type": "execute_result"
    }
   ],
   "source": [
    "user = User.objects.get(username=\"gessica.gomes.ter\")\n",
    "user"
   ]
  },
  {
   "cell_type": "code",
   "execution_count": 33,
   "metadata": {},
   "outputs": [
    {
     "data": {
      "text/plain": [
       "1"
      ]
     },
     "execution_count": 33,
     "metadata": {},
     "output_type": "execute_result"
    }
   ],
   "source": [
    "reps = Reporting.history.model.objects.filter(km=869,history_type='-',history_user=user)\n",
    "reps.count()"
   ]
  },
  {
   "cell_type": "code",
   "execution_count": 34,
   "metadata": {
    "collapsed": true
   },
   "outputs": [
    {
     "data": {
      "text/plain": [
       "{'_state': <django.db.models.base.ModelState at 0x7f8c0d8750d0>,\n",
       " 'mobile_sync_id': None,\n",
       " 'uuid': UUID('f6622d66-e887-4e8b-81d6-9f9755614fd8'),\n",
       " 'number': 'AFD-2023.00277',\n",
       " 'road_name': 'BR-381/MG',\n",
       " 'km': 869.0,\n",
       " 'end_km': 874.0,\n",
       " 'km_reference': None,\n",
       " 'project_km': 0.0,\n",
       " 'project_end_km': 0.0,\n",
       " 'point': <Point object at 0x7f8c0dc6eb50>,\n",
       " 'direction': '1',\n",
       " 'lane': '5',\n",
       " 'track': None,\n",
       " 'branch': None,\n",
       " 'address': {},\n",
       " 'form_data': {'city': 'Pouso Alegre',\n",
       "  'is_tro': False,\n",
       "  'origin': ['1'],\n",
       "  'kcor_code': '05994-23',\n",
       "  'aceiro_area': 0,\n",
       "  'capina_area': 0,\n",
       "  'fdo_service_type': ['1', '4'],\n",
       "  'refilamento_area': 0,\n",
       "  'hidrossemeadura_area': 0,\n",
       "  'despraguejamento_area': 0},\n",
       " 'form_metadata': {'city': {'manually_specified': False},\n",
       "  'aceiro_area': {'manually_specified': False},\n",
       "  'capina_area': {'manually_specified': False},\n",
       "  'refilamento_area': {'manually_specified': False},\n",
       "  'hidrossemeadura_area': {'manually_specified': False},\n",
       "  'despraguejamento_area': {'manually_specified': False}},\n",
       " 'executed_at': None,\n",
       " 'created_at': datetime.datetime(2023, 3, 8, 19, 36, 53, 548650, tzinfo=<UTC>),\n",
       " 'updated_at': datetime.datetime(2023, 3, 8, 19, 36, 53, 548674, tzinfo=<UTC>),\n",
       " 'found_at': datetime.datetime(2023, 3, 8, 19, 35, 10, 686000, tzinfo=<UTC>),\n",
       " 'due_at': None,\n",
       " 'due_at_manually_specified': False,\n",
       " 'end_km_manually_specified': True,\n",
       " 'project_end_km_manually_specified': False,\n",
       " 'editable': True,\n",
       " 'keywords': 'KCOR/KRIA 05994-23 Pouso Alegre Roçada Capina 0',\n",
       " 'lot': '2',\n",
       " 'technical_opinion': None,\n",
       " 'history_change_reason': None,\n",
       " 'company_id': UUID('31938021-6b32-461b-821c-4759a5016441'),\n",
       " 'road_id': 664,\n",
       " 'created_by_id': UUID('f4204ee0-2084-4bff-b3b6-ecee2ce40808'),\n",
       " 'firm_id': UUID('d1fe8242-489a-43b1-a6b3-e8a6119cde94'),\n",
       " 'occurrence_type_id': UUID('730b31c6-3a7e-4373-80fb-138a625f4537'),\n",
       " 'status_id': UUID('c2d420bc-eafc-49d5-91c0-6c14aeae14fb'),\n",
       " 'job_id': UUID('be67243c-289c-40ec-8853-41f95f1c4264'),\n",
       " 'parent_id': None,\n",
       " 'active_inspection_id': None,\n",
       " 'approval_step_id': UUID('387e5cce-4aa1-4360-aec8-ee34abd46a15'),\n",
       " 'construction_id': None,\n",
       " 'pdf_import_id': None,\n",
       " 'history_id': UUID('235941d1-65af-411f-aa8c-f5a4e869d351'),\n",
       " 'history_date': datetime.datetime(2023, 5, 29, 18, 43, 21, 514178, tzinfo=<UTC>),\n",
       " 'history_type': '-',\n",
       " 'history_relation_id': UUID('f6622d66-e887-4e8b-81d6-9f9755614fd8'),\n",
       " 'history_user_id': UUID('f4204ee0-2084-4bff-b3b6-ecee2ce40808')}"
      ]
     },
     "execution_count": 34,
     "metadata": {},
     "output_type": "execute_result"
    }
   ],
   "source": [
    "reps[0].__dict__"
   ]
  },
  {
   "cell_type": "code",
   "execution_count": 36,
   "metadata": {},
   "outputs": [
    {
     "data": {
      "text/plain": [
       "<QuerySet []>"
      ]
     },
     "execution_count": 36,
     "metadata": {},
     "output_type": "execute_result"
    }
   ],
   "source": [
    "reps2 = Reporting.objects.filter(form_data__kcor_code='02842-23',company__name=\"Arteris Fernão Dias - Conserva\")\n",
    "reps2"
   ]
  },
  {
   "cell_type": "code",
   "execution_count": 12,
   "metadata": {
    "scrolled": false
   },
   "outputs": [
    {
     "name": "stdout",
     "output_type": "stream",
     "text": [
      "VPT-PAV-2023.00695\n",
      "VPT-PAV-2023.00705\n",
      "VPT-PAV-2023.00689\n",
      "VPT-PAV-2023.00691\n",
      "VPT-PAV-2023.00714\n",
      "VPT-PAV-2023.00690\n",
      "VPT-PAV-2023.00693\n",
      "VPT-PAV-2023.00709\n",
      "VPT-PAV-2023.00694\n",
      "VPT-PAV-2023.00717\n",
      "VPT-PAV-2023.00720\n",
      "VPT-PAV-2023.00710\n",
      "VPT-PAV-2023.00716\n",
      "VPT-PAV-2023.00711\n",
      "VPT-DRE-SP-2023.01223\n",
      "VPT-PAV-2023.00704\n",
      "VPT-PAV-2023.00683\n",
      "VPT-PAV-2023.00713\n",
      "VPT-PAV-2023.00718\n",
      "VPT-PAV-2023.00707\n",
      "VPT-PAV-2023.00684\n",
      "VPT-PAV-2023.00715\n",
      "VPT-PAV-2023.00686\n",
      "VPT-FDO-Veg-2023.04137\n",
      "VPT-PAV-2023.00696\n",
      "VPT-PAV-2023.00708\n",
      "VPT-PAV-2023.00685\n",
      "VPT-PAV-2023.00712\n",
      "VPT-DRE-SP-2023.01224\n",
      "VPT-PAV-2023.00706\n",
      "VPT-PAV-2023.00719\n",
      "VPT-PAV-2023.00688\n",
      "VPT-PAV-2023.00687\n"
     ]
    },
    {
     "data": {
      "text/plain": [
       "33"
      ]
     },
     "execution_count": 12,
     "metadata": {},
     "output_type": "execute_result"
    }
   ],
   "source": [
    "for a in reps:\n",
    "    print(f'{a.number}')\n",
    "reps.count()"
   ]
  },
  {
   "cell_type": "code",
   "execution_count": 6,
   "metadata": {},
   "outputs": [
    {
     "data": {
      "text/plain": [
       "(<ManyToOneRel: service_orders.procedureresource>,\n",
       " <ManyToOneRel: work_plans.job>,\n",
       " <ManyToOneRel: work_plans.job>,\n",
       " <ManyToOneRel: reportings.historicalreporting>,\n",
       " <ManyToOneRel: reportings.reporting>,\n",
       " <ManyToOneRel: reportings.reporting>,\n",
       " <ManyToOneRel: reportings.reportingfile>,\n",
       " <ManyToOneRel: reportings.reportingmessage>,\n",
       " <ManyToManyRel: templates.excelimport>,\n",
       " <ManyToOneRel: templates.excelreporting>,\n",
       " <ManyToOneRel: services.serviceusage>,\n",
       " <ManyToManyRel: daily_reports.multipledailyreport>,\n",
       " <ManyToManyRel: constructions.constructionprogress>,\n",
       " <ManyToManyRel: quality_control.qualitysample>,\n",
       " <ManyToManyRel: quality_control.qualityassay>,\n",
       " <ManyToOneRel: quality_control.qualitycontrolexport>,\n",
       " <django.db.models.fields.UUIDField: uuid>,\n",
       " <django.db.models.fields.CharField: number>,\n",
       " <django.db.models.fields.related.ForeignKey: company>,\n",
       " <django.db.models.fields.CharField: road_name>,\n",
       " <django.db.models.fields.related.ForeignKey: road>,\n",
       " <django.db.models.fields.FloatField: km>,\n",
       " <django.db.models.fields.FloatField: end_km>,\n",
       " <django.db.models.fields.FloatField: km_reference>,\n",
       " <django.db.models.fields.FloatField: project_km>,\n",
       " <django.db.models.fields.FloatField: project_end_km>,\n",
       " <django.contrib.gis.db.models.fields.PointField: point>,\n",
       " <django.db.models.fields.CharField: direction>,\n",
       " <django.db.models.fields.CharField: lane>,\n",
       " <django.db.models.fields.TextField: track>,\n",
       " <django.db.models.fields.TextField: branch>,\n",
       " <django.contrib.postgres.fields.jsonb.JSONField: address>,\n",
       " <django.db.models.fields.related.ForeignKey: created_by>,\n",
       " <django.db.models.fields.related.ForeignKey: firm>,\n",
       " <django.db.models.fields.related.ForeignKey: occurrence_type>,\n",
       " <django.contrib.postgres.fields.jsonb.JSONField: form_data>,\n",
       " <django.contrib.postgres.fields.jsonb.JSONField: form_metadata>,\n",
       " <django.db.models.fields.DateTimeField: executed_at>,\n",
       " <django.db.models.fields.DateTimeField: created_at>,\n",
       " <django.db.models.fields.DateTimeField: updated_at>,\n",
       " <django.db.models.fields.DateTimeField: found_at>,\n",
       " <django.db.models.fields.DateTimeField: due_at>,\n",
       " <django.db.models.fields.related.ForeignKey: status>,\n",
       " <django.db.models.fields.related.ForeignKey: job>,\n",
       " <django.db.models.fields.related.ForeignKey: parent>,\n",
       " <django.db.models.fields.related.ForeignKey: active_inspection>,\n",
       " <django.db.models.fields.BooleanField: due_at_manually_specified>,\n",
       " <django.db.models.fields.BooleanField: end_km_manually_specified>,\n",
       " <django.db.models.fields.BooleanField: project_end_km_manually_specified>,\n",
       " <django.db.models.fields.BooleanField: editable>,\n",
       " <django.db.models.fields.related.ForeignKey: approval_step>,\n",
       " <django.db.models.fields.TextField: keywords>,\n",
       " <django.db.models.fields.CharField: lot>,\n",
       " <django.db.models.fields.TextField: technical_opinion>,\n",
       " <django.db.models.fields.related.ForeignKey: construction>,\n",
       " <django.db.models.fields.related.ForeignKey: pdf_import>,\n",
       " <django.db.models.fields.related.ManyToManyField: services>)"
      ]
     },
     "execution_count": 6,
     "metadata": {},
     "output_type": "execute_result"
    }
   ],
   "source": [
    "Reporting._meta.get_fields()"
   ]
  },
  {
   "cell_type": "code",
   "execution_count": null,
   "metadata": {},
   "outputs": [],
   "source": []
  }
 ],
 "metadata": {
  "kernelspec": {
   "display_name": "Django Shell-Plus",
   "language": "python",
   "name": "django_extensions"
  },
  "language_info": {
   "codemirror_mode": {
    "name": "ipython",
    "version": 3
   },
   "file_extension": ".py",
   "mimetype": "text/x-python",
   "name": "python",
   "nbconvert_exporter": "python",
   "pygments_lexer": "ipython3",
   "version": "3.7.9"
  }
 },
 "nbformat": 4,
 "nbformat_minor": 2
}
