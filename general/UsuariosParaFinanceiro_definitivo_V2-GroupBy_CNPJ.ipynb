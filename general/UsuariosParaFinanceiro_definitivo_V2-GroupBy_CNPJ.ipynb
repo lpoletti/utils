{
 "cells": [
  {
   "cell_type": "markdown",
   "metadata": {},
   "source": [
    "# Planilha de controle de usuários "
   ]
  },
  {
   "cell_type": "raw",
   "metadata": {},
   "source": [
    "Solicitações possiveis:\n",
    "\n",
    "- Criação pelo banco\n",
    "- Múltiplas solicitações no mesmo mês\n",
    "- Se em algum momento do mês ele foi ativo\n",
    "- Se na solicitação anterior ele foi diferente de inativo e no ultimo mês foi colocado como inativo"
   ]
  },
  {
   "cell_type": "code",
   "execution_count": 1,
   "metadata": {},
   "outputs": [],
   "source": [
    "from collections import defaultdict\n",
    "from django.db.models.signals import *\n",
    "import pandas as pd\n",
    "from itertools import chain\n",
    "from tqdm.notebook import tqdm\n",
    "import datetime\n",
    "import calendar\n",
    "import numpy as np\n",
    "import openpyxl as op"
   ]
  },
  {
   "cell_type": "markdown",
   "metadata": {},
   "source": [
    "### Normaliza os meses para passagens de ano"
   ]
  },
  {
   "cell_type": "code",
   "execution_count": 2,
   "metadata": {},
   "outputs": [],
   "source": [
    "def normalize_month(month, year):\n",
    "    return month + 12*(year - 2020)"
   ]
  },
  {
   "cell_type": "code",
   "execution_count": 3,
   "metadata": {},
   "outputs": [
    {
     "data": {
      "text/plain": [
       "48"
      ]
     },
     "execution_count": 3,
     "metadata": {},
     "output_type": "execute_result"
    }
   ],
   "source": [
    "normalize_month(12, 2023)"
   ]
  },
  {
   "cell_type": "markdown",
   "metadata": {},
   "source": [
    "### Verifica se da pra transformar o cnpj em um numero"
   ]
  },
  {
   "cell_type": "code",
   "execution_count": 4,
   "metadata": {},
   "outputs": [],
   "source": [
    "def is_valid(cnpj):\n",
    "    try:\n",
    "        cnpj = int(cnpj.replace('.', '').replace('/', '').replace('-', ''))\n",
    "        return True\n",
    "    except:\n",
    "        return False"
   ]
  },
  {
   "cell_type": "code",
   "execution_count": 5,
   "metadata": {},
   "outputs": [],
   "source": [
    "def queryset_to_dict(result_list):\n",
    "    permissoesUsuarios = {}\n",
    "    for a in result_list:\n",
    "        try:\n",
    "            if not permissoesUsuarios.get(a.user.get_full_name()):\n",
    "                permissoesUsuarios[a.user.get_full_name()] = {}\n",
    "            if isinstance(permissoesUsuarios.get(a.user.get_full_name()).get(normalize_month(a.history_date.month, a.history_date.year)),list):\n",
    "                permissoesUsuarios[a.user.get_full_name()][normalize_month(a.history_date.month, a.history_date.year)].append(a.permissions.name)\n",
    "            elif permissoesUsuarios.get(a.user.get_full_name()).get(normalize_month(a.history_date.month, a.history_date.year)):\n",
    "                multi_perm_per_month= permissoesUsuarios.get(a.user.get_full_name()).get(normalize_month(a.history_date.month, a.history_date.year))\n",
    "                permissoesUsuarios[a.user.get_full_name()][normalize_month(a.history_date.month, a.history_date.year)] = [multi_perm_per_month,a.permissions.name]\n",
    "            else:\n",
    "                permissoesUsuarios[a.user.get_full_name()][normalize_month(a.history_date.month, a.history_date.year)] = a.permissions.name\n",
    "        except:\n",
    "            pass\n",
    "    return permissoesUsuarios"
   ]
  },
  {
   "cell_type": "code",
   "execution_count": 6,
   "metadata": {},
   "outputs": [],
   "source": [
    "def cond_ativo_inativo(permissoesUsuarios,mes_referencia):\n",
    "    usuariosAtivos = []\n",
    "    usuariosInativos = []\n",
    "    \n",
    "    for nome, mes in permissoesUsuarios.items():\n",
    "        if mes == {}:\n",
    "            continue\n",
    "        meses = sorted(list(mes.keys()))\n",
    "        item = max(list(mes.keys()))\n",
    "        cargo_atual = mes[item]\n",
    "        \n",
    "        if len(meses) > 1:\n",
    "            if mes[meses[-2]] != 'Inativo':\n",
    "                cargo_antes_de_inativo = True\n",
    "            else:\n",
    "                cargo_antes_de_inativo = False\n",
    "        else:\n",
    "            cargo_antes_de_inativo = False\n",
    "        \n",
    "    # Se em algum momento do mesmo mês o usuário foi diferente de Inativo ele entra como ativo\n",
    "        if isinstance(cargo_atual,list):\n",
    "            if any(cargo for cargo in cargo_atual if cargo !='Inativo') and not any(u for u in usuariosAtivos if nome == u):\n",
    "                usuariosAtivos.append(nome)     \n",
    "    # se o cargo atual for diferente de inativo e não for uma lista(o que configura multiplas permissões no mesmo mês) ele é ativo\n",
    "        elif cargo_atual != 'Inativo' and not isinstance(cargo_atual,list):\n",
    "            usuariosAtivos.append(nome)\n",
    "    # Se no mes anterior ao ultimo ele foi diferente de inativo e no ultimo mes foi Inativo e\n",
    "    # o mes do cargo_atual for igual ao ultimo mes de referencia(ultimo mês pra coleta) e o nome não estiver nos usuariosAtivos\n",
    "    # ele é ativo, pois se nesse mês ele foi colocado como Inativo \n",
    "    # quer dizer que em algum momento do mês de referencia ele foi ativo\n",
    "        elif cargo_antes_de_inativo and cargo_atual == 'Inativo' and item == mes_referencia and not any(u for u in usuariosAtivos if nome == u):\n",
    "            usuariosAtivos.append(nome)       \n",
    "    # se o cargo atual contem a palavra Inativo e não está nos usuariosAtivos então ele é Inativo\n",
    "        elif 'Inativo' in cargo_atual and nome not in usuariosAtivos:\n",
    "            usuariosInativos.append(nome)\n",
    "        else:\n",
    "            print('Corra pras montanhas')\n",
    "    \n",
    "    return usuariosAtivos,usuariosInativos"
   ]
  },
  {
   "cell_type": "code",
   "execution_count": 7,
   "metadata": {},
   "outputs": [],
   "source": [
    "def permissoes_history_user(result_list,mes_ano):\n",
    "    temp_ativo,temp_inativo,usuariosAtivos,usuariosInativos=[],[],[],[]\n",
    "    \n",
    "    permissoesUsuarios = {}\n",
    "    \n",
    "    mes_referencia = normalize_month(mes_ano.month, mes_ano.year)\n",
    "    companies = list(result_list.values_list('company__name',flat=True).order_by('company__name').distinct('company__name'))\n",
    "    \n",
    "    # condições para tratar dos casos de agrupamento de unidades\n",
    "    if len(companies) == 1:\n",
    "        permissoesUsuarios = queryset_to_dict(result_list)\n",
    "        \n",
    "        usuariosAtivos,usuariosInativos=cond_ativo_inativo(permissoesUsuarios,mes_referencia)\n",
    "    \n",
    "    # se há mais de uma unidade quer dizer q foi feito um agrupamentos por unidade e temos que\n",
    "    # iterar sobre cada unidade separadamente, pra no fim retornar a lista de usuários por causa de um erro de o usuário\n",
    "    # estar como inativo numa e ativo na outra\n",
    "    elif len(companies) > 1:\n",
    "        \n",
    "        for company in companies:\n",
    "            result_list_filtered = result_list.filter(company__name=company)\n",
    "            permissoesUsuarios = queryset_to_dict(result_list_filtered)\n",
    "\n",
    "            temp_ativo=cond_ativo_inativo(permissoesUsuarios,mes_referencia)[0] + temp_ativo\n",
    "            temp_inativo=cond_ativo_inativo(permissoesUsuarios,mes_referencia)[1] + temp_inativo\n",
    "            \n",
    "        try:\n",
    "            usuariosInativos = list(set([x for x in temp_inativo if x not in temp_ativo]))\n",
    "            usuariosAtivos = list(set(temp_ativo))\n",
    "        except:\n",
    "            print(usuariosAtivos,usuariosInativos)\n",
    "    return usuariosAtivos,usuariosInativos"
   ]
  },
  {
   "cell_type": "code",
   "execution_count": 8,
   "metadata": {},
   "outputs": [],
   "source": [
    "cnpjs=[a for a in Company.objects.filter(\n",
    "    active=True).exclude(\n",
    "    cnpj='00000000000000').exclude(name='Entrevias').distinct(\n",
    "    'cnpj').order_by().values_list(\n",
    "    'cnpj',flat=True)]+['Entrevias']\n",
    "companies=cnpjs+[a for a in Company.objects.filter(\n",
    "    active=True,\n",
    "    cnpj='00000000000000'\n",
    ").exclude(\n",
    "    name__icontains='kartado'\n",
    ").exclude(\n",
    "    name='Entrevias'\n",
    ").order_by(\n",
    "    'name'\n",
    ").values_list(\n",
    "    'name',\n",
    "    flat=True\n",
    ")]"
   ]
  },
  {
   "cell_type": "code",
   "execution_count": 10,
   "metadata": {
    "scrolled": true
   },
   "outputs": [
    {
     "data": {
      "text/plain": [
       "['02.297.946/0001-97',\n",
       " '02.955.426/0001-24',\n",
       " '02.955.426/0002-05',\n",
       " '03.222.465/0001-85',\n",
       " '05.205.684/0001-81',\n",
       " '07.226.794/0001-55',\n",
       " '09.313.969/0001-97',\n",
       " '09.325.109/0001-73',\n",
       " '09.336.431/0001-06',\n",
       " '19.521.322/0001-04',\n",
       " '19.758.842/0001-35',\n",
       " '19.758.842/0004-88',\n",
       " '22.221.801/0001-10',\n",
       " '26.664.057/0001-89',\n",
       " '28.080.762/0001-64',\n",
       " '28.256.567/0001-42',\n",
       " '34.976.105/0001-00',\n",
       " '36.146.575/0001-64',\n",
       " '37.456.439/0001-33',\n",
       " '46.791.721/0001-68',\n",
       " '47.155.252/0001-53',\n",
       " '47.815.827/0001-17',\n",
       " '49.314.049/0001-08',\n",
       " '52.724.344/0001-47',\n",
       " '92.779.503/0001-25',\n",
       " 'Entrevias',\n",
       " 'Arteris Fernão Dias',\n",
       " 'Arteris Fernão Dias - Conserva',\n",
       " 'Arteris Fluminense - Conserva',\n",
       " 'Arteris Litoral Sul - Conserva',\n",
       " 'Arteris Litoral Sul - Faixa de Domínio',\n",
       " 'Arteris Planalto Sul - Conserva',\n",
       " 'Arteris Planalto Sul - Faixa de Domínio',\n",
       " 'Arteris Régis Bittencourt - Conserva',\n",
       " 'Arteris Régis Bittencourt - Faixa de Domínio',\n",
       " 'Arteris Via Paulista - Faixa de Domínio',\n",
       " 'Arteris Via Paulista - SISOAE',\n",
       " 'CART',\n",
       " 'CEMIG',\n",
       " 'DER/SP - D1',\n",
       " 'DER/SP - D10',\n",
       " 'DER/SP - D11',\n",
       " 'DER/SP - D12',\n",
       " 'DER/SP - D13',\n",
       " 'DER/SP - D14',\n",
       " 'DER/SP - D2',\n",
       " 'DER/SP - D3',\n",
       " 'DER/SP - D4',\n",
       " 'DER/SP - D5',\n",
       " 'DER/SP - D6',\n",
       " 'DER/SP - D7',\n",
       " 'DER/SP - D8',\n",
       " 'DER/SP - D9',\n",
       " 'Eixo SP',\n",
       " 'Eixo SP - Fx. Dom. | Qualidade | Topografia',\n",
       " 'Eixo SP - SISOAE',\n",
       " 'ELO AutoBAn',\n",
       " 'ELO EcoNoroeste',\n",
       " 'ELO Ecopistas',\n",
       " 'ELO Ecovias dos Imigrantes',\n",
       " 'ELO Rodoanel',\n",
       " 'ELO Rodovias dos Tamoios',\n",
       " 'ELO Rodovias Tietê',\n",
       " 'ELO Rota das Bandeiras',\n",
       " 'ELO SPVias',\n",
       " 'Elo Telecom',\n",
       " 'ELO Via Lagos',\n",
       " 'ELO Via Oeste',\n",
       " 'Engie Umburanas',\n",
       " 'Neovia Alcinópolis',\n",
       " 'Neovia Araranguá',\n",
       " 'Neovia Contorno Sul',\n",
       " 'Neovia Cto Biguaçu',\n",
       " 'Neovia Diamantino',\n",
       " 'Neovia Ponte Serrada',\n",
       " 'Rota do Oeste',\n",
       " 'VF Gomes - Confresa',\n",
       " 'Via Brasil']"
      ]
     },
     "execution_count": 10,
     "metadata": {},
     "output_type": "execute_result"
    }
   ],
   "source": [
    "companies"
   ]
  },
  {
   "cell_type": "code",
   "execution_count": 22,
   "metadata": {},
   "outputs": [],
   "source": [
    "# companies=['ABAPA Demonstração','Entrevias']"
   ]
  },
  {
   "cell_type": "code",
   "execution_count": 12,
   "metadata": {
    "collapsed": true
   },
   "outputs": [
    {
     "ename": "DoesNotExist",
     "evalue": "Company matching query does not exist.",
     "output_type": "error",
     "traceback": [
      "\u001b[0;31m---------------------------------------------------------------------------\u001b[0m",
      "\u001b[0;31mDoesNotExist\u001b[0m                              Traceback (most recent call last)",
      "\u001b[0;32m/tmp/ipykernel_19484/2110247445.py\u001b[0m in \u001b[0;36m<cell line: 1>\u001b[0;34m()\u001b[0m\n\u001b[0;32m----> 1\u001b[0;31m \u001b[0mCompany\u001b[0m\u001b[0;34m.\u001b[0m\u001b[0mobjects\u001b[0m\u001b[0;34m.\u001b[0m\u001b[0mget\u001b[0m\u001b[0;34m(\u001b[0m\u001b[0mcnpj\u001b[0m\u001b[0;34m=\u001b[0m\u001b[0;34m'05847054000100'\u001b[0m\u001b[0;34m)\u001b[0m\u001b[0;34m\u001b[0m\u001b[0;34m\u001b[0m\u001b[0m\n\u001b[0m",
      "\u001b[0;32m~/.cache/pypoetry/virtualenvs/apps-ZFymp6kh-py3.8/lib/python3.8/site-packages/django/db/models/manager.py\u001b[0m in \u001b[0;36mmanager_method\u001b[0;34m(self, *args, **kwargs)\u001b[0m\n\u001b[1;32m     80\u001b[0m         \u001b[0;32mdef\u001b[0m \u001b[0mcreate_method\u001b[0m\u001b[0;34m(\u001b[0m\u001b[0mname\u001b[0m\u001b[0;34m,\u001b[0m \u001b[0mmethod\u001b[0m\u001b[0;34m)\u001b[0m\u001b[0;34m:\u001b[0m\u001b[0;34m\u001b[0m\u001b[0;34m\u001b[0m\u001b[0m\n\u001b[1;32m     81\u001b[0m             \u001b[0;32mdef\u001b[0m \u001b[0mmanager_method\u001b[0m\u001b[0;34m(\u001b[0m\u001b[0mself\u001b[0m\u001b[0;34m,\u001b[0m \u001b[0;34m*\u001b[0m\u001b[0margs\u001b[0m\u001b[0;34m,\u001b[0m \u001b[0;34m**\u001b[0m\u001b[0mkwargs\u001b[0m\u001b[0;34m)\u001b[0m\u001b[0;34m:\u001b[0m\u001b[0;34m\u001b[0m\u001b[0;34m\u001b[0m\u001b[0m\n\u001b[0;32m---> 82\u001b[0;31m                 \u001b[0;32mreturn\u001b[0m \u001b[0mgetattr\u001b[0m\u001b[0;34m(\u001b[0m\u001b[0mself\u001b[0m\u001b[0;34m.\u001b[0m\u001b[0mget_queryset\u001b[0m\u001b[0;34m(\u001b[0m\u001b[0;34m)\u001b[0m\u001b[0;34m,\u001b[0m \u001b[0mname\u001b[0m\u001b[0;34m)\u001b[0m\u001b[0;34m(\u001b[0m\u001b[0;34m*\u001b[0m\u001b[0margs\u001b[0m\u001b[0;34m,\u001b[0m \u001b[0;34m**\u001b[0m\u001b[0mkwargs\u001b[0m\u001b[0;34m)\u001b[0m\u001b[0;34m\u001b[0m\u001b[0;34m\u001b[0m\u001b[0m\n\u001b[0m\u001b[1;32m     83\u001b[0m             \u001b[0mmanager_method\u001b[0m\u001b[0;34m.\u001b[0m\u001b[0m__name__\u001b[0m \u001b[0;34m=\u001b[0m \u001b[0mmethod\u001b[0m\u001b[0;34m.\u001b[0m\u001b[0m__name__\u001b[0m\u001b[0;34m\u001b[0m\u001b[0;34m\u001b[0m\u001b[0m\n\u001b[1;32m     84\u001b[0m             \u001b[0mmanager_method\u001b[0m\u001b[0;34m.\u001b[0m\u001b[0m__doc__\u001b[0m \u001b[0;34m=\u001b[0m \u001b[0mmethod\u001b[0m\u001b[0;34m.\u001b[0m\u001b[0m__doc__\u001b[0m\u001b[0;34m\u001b[0m\u001b[0;34m\u001b[0m\u001b[0m\n",
      "\u001b[0;32m~/.cache/pypoetry/virtualenvs/apps-ZFymp6kh-py3.8/lib/python3.8/site-packages/django/db/models/query.py\u001b[0m in \u001b[0;36mget\u001b[0;34m(self, *args, **kwargs)\u001b[0m\n\u001b[1;32m    404\u001b[0m             \u001b[0;32mreturn\u001b[0m \u001b[0mclone\u001b[0m\u001b[0;34m.\u001b[0m\u001b[0m_result_cache\u001b[0m\u001b[0;34m[\u001b[0m\u001b[0;36m0\u001b[0m\u001b[0;34m]\u001b[0m\u001b[0;34m\u001b[0m\u001b[0;34m\u001b[0m\u001b[0m\n\u001b[1;32m    405\u001b[0m         \u001b[0;32mif\u001b[0m \u001b[0;32mnot\u001b[0m \u001b[0mnum\u001b[0m\u001b[0;34m:\u001b[0m\u001b[0;34m\u001b[0m\u001b[0;34m\u001b[0m\u001b[0m\n\u001b[0;32m--> 406\u001b[0;31m             raise self.model.DoesNotExist(\n\u001b[0m\u001b[1;32m    407\u001b[0m                 \u001b[0;34m\"%s matching query does not exist.\"\u001b[0m \u001b[0;34m%\u001b[0m\u001b[0;34m\u001b[0m\u001b[0;34m\u001b[0m\u001b[0m\n\u001b[1;32m    408\u001b[0m                 \u001b[0mself\u001b[0m\u001b[0;34m.\u001b[0m\u001b[0mmodel\u001b[0m\u001b[0;34m.\u001b[0m\u001b[0m_meta\u001b[0m\u001b[0;34m.\u001b[0m\u001b[0mobject_name\u001b[0m\u001b[0;34m\u001b[0m\u001b[0;34m\u001b[0m\u001b[0m\n",
      "\u001b[0;31mDoesNotExist\u001b[0m: Company matching query does not exist."
     ]
    }
   ],
   "source": [
    "Company.objects.get(cnpj='05847054000100')"
   ]
  },
  {
   "cell_type": "code",
   "execution_count": 12,
   "metadata": {},
   "outputs": [],
   "source": [
    "# companies=list(Company.objects.filter(name__icontains='Construtora Castilho').values_list('name',flat=True))\n",
    "# companies"
   ]
  },
  {
   "cell_type": "markdown",
   "metadata": {},
   "source": [
    "### Mês e ano para coleta dos usuários"
   ]
  },
  {
   "cell_type": "code",
   "execution_count": 14,
   "metadata": {},
   "outputs": [
    {
     "data": {
      "text/plain": [
       "(30, 4, 2024)"
      ]
     },
     "execution_count": 14,
     "metadata": {},
     "output_type": "execute_result"
    }
   ],
   "source": [
    "# Mês e ano para coleta dos usuários\n",
    "mes=4\n",
    "ano=2024\n",
    "dia = calendar.monthrange(ano, mes)[1]\n",
    "dia,mes,ano"
   ]
  },
  {
   "cell_type": "code",
   "execution_count": 15,
   "metadata": {},
   "outputs": [
    {
     "data": {
      "text/plain": [
       "datetime.datetime(2024, 4, 30, 3, 0)"
      ]
     },
     "execution_count": 15,
     "metadata": {},
     "output_type": "execute_result"
    }
   ],
   "source": [
    "# DATA sempre referente ao mês que se quer coletar nesse formato history_date__lte='2024-01-31 03:00:00'\n",
    "# é utilizado 3 horas da manha pois é a pra fechar com o horario de meio noite do servidor\n",
    "data = datetime.datetime(ano,mes,dia,3,0,0)\n",
    "data"
   ]
  },
  {
   "cell_type": "markdown",
   "metadata": {},
   "source": [
    "### Seta o nome do arquivo e o cria"
   ]
  },
  {
   "cell_type": "code",
   "execution_count": 16,
   "metadata": {},
   "outputs": [],
   "source": [
    "filename=f'Usuários Ativos Financeiro_por_CNPJ_{mes}_{ano}'\n",
    "pd.DataFrame().to_excel(filename+'.xlsx')"
   ]
  },
  {
   "cell_type": "markdown",
   "metadata": {},
   "source": [
    "### Geração da planilha com os dados de usuários Ativos"
   ]
  },
  {
   "cell_type": "code",
   "execution_count": 23,
   "metadata": {},
   "outputs": [
    {
     "data": {
      "application/vnd.jupyter.widget-view+json": {
       "model_id": "284663ecb26544d084f70471b6d50e75",
       "version_major": 2,
       "version_minor": 0
      },
      "text/plain": [
       "  0%|          | 0/2 [00:00<?, ?it/s]"
      ]
     },
     "metadata": {},
     "output_type": "display_data"
    },
    {
     "name": "stderr",
     "output_type": "stream",
     "text": [
      "/home/luan/.cache/pypoetry/virtualenvs/apps-ZFymp6kh-py3.8/lib/python3.8/site-packages/django/db/models/fields/__init__.py:1424: RuntimeWarning: DateTimeField HistoricalUserInCompany.history_date received a naive datetime (2024-04-30 03:00:00) while time zone support is active.\n",
      "  warnings.warn(\"DateTimeField %s received a naive datetime (%s)\"\n",
      "/home/luan/.cache/pypoetry/virtualenvs/apps-ZFymp6kh-py3.8/lib/python3.8/site-packages/django/db/models/fields/__init__.py:1424: RuntimeWarning: DateTimeField HistoricalUserInCompany.history_date received a naive datetime (2024-04-30 03:00:00) while time zone support is active.\n",
      "  warnings.warn(\"DateTimeField %s received a naive datetime (%s)\"\n"
     ]
    },
    {
     "name": "stdout",
     "output_type": "stream",
     "text": [
      "['Larissa Silva Campos', 'Paulo Lopes']\n",
      "ABAPA Demonstração <QuerySet ['ABAPA Demonstração']>\n",
      "['Isabelly AJR', 'Rogério Buchala', 'Cassio Borges', 'Luciano Teixeira', 'Osmar Duprat', 'Marcio Celestino']\n",
      "Entrevias <QuerySet ['Entrevias']>\n"
     ]
    }
   ],
   "source": [
    "for company in tqdm(companies):\n",
    "    planilha_name=company.replace('.', '').replace('/', '').replace('-', '')\n",
    "    if is_valid(company):\n",
    "        # Agrupa por CNPJ\n",
    "        historicoUsuarios=UserInCompany.history.model.objects.filter(\n",
    "                company__cnpj=company,\n",
    "                history_date__lte=data\n",
    "            ).exclude(\n",
    "                user__email__icontains='kartado'\n",
    "            ).exclude(\n",
    "                user__email__icontains='roadlabs'\n",
    "            ).exclude(\n",
    "                user__uuid = '6ca2ac08-7ee0-4587-a0cf-8850f72e1b95'\n",
    "            ).exclude(\n",
    "                user__email__icontains='hermes'\n",
    "            ).order_by( 'history_date')\n",
    "    elif 'Entrevias' in company:\n",
    "        planilha_name=\"AJR\"\n",
    "        historicoUsuarios=UserInCompany.history.model.objects.filter(\n",
    "            Q(user__email__icontains='ajr')|Q(user__username__icontains='ajr'),\n",
    "            company__name__icontains=company,\n",
    "            history_date__lte=data\n",
    "        ).exclude(\n",
    "            user__email__icontains='kartado'\n",
    "        ).exclude(\n",
    "            user__email__icontains='roadlabs'\n",
    "        ).exclude(\n",
    "            user__uuid = '6ca2ac08-7ee0-4587-a0cf-8850f72e1b95'\n",
    "        ).exclude(\n",
    "            user__email__icontains='hermes'\n",
    "        ).order_by( 'history_date')\n",
    "    else:\n",
    "        historicoUsuarios=UserInCompany.history.model.objects.filter(\n",
    "                company__name=company,\n",
    "                history_date__lte=data\n",
    "            ).exclude(\n",
    "                user__email__icontains='kartado'\n",
    "            ).exclude(\n",
    "                user__email__icontains='roadlabs'\n",
    "            ).exclude(\n",
    "                user__uuid = '6ca2ac08-7ee0-4587-a0cf-8850f72e1b95'\n",
    "            ).exclude(\n",
    "                user__email__icontains='hermes'\n",
    "            ).order_by( 'history_date')\n",
    "    \n",
    "    users_permissions = permissoes_history_user(historicoUsuarios,data)[0] if len(permissoes_history_user(historicoUsuarios,data)[0]) > 0 else []\n",
    "    print(permissoes_history_user(historicoUsuarios,data)[0])\n",
    "    if users_permissions != 0:\n",
    "        df2 = pd.DataFrame(data=users_permissions,columns=['Usuários ativos'])\n",
    "        companies_list=historicoUsuarios.distinct('company__name').order_by( 'company__name').values_list('company__name',flat=True)\n",
    "        print(company,companies_list)\n",
    "        df2['Companies'] = np.nan\n",
    "        df2.loc[:len(companies_list)-1, 'Companies'] = companies_list\n",
    "        with pd.ExcelWriter(filename+'.xlsx', mode='a',if_sheet_exists='replace') as writer:\n",
    "            df2.to_excel(writer,sheet_name=planilha_name,na_rep=\"-\",index=False)"
   ]
  },
  {
   "cell_type": "markdown",
   "metadata": {},
   "source": [
    "## Geração do Resumo da página com o total de usuários por unidade ou grupo"
   ]
  },
  {
   "cell_type": "code",
   "execution_count": 24,
   "metadata": {},
   "outputs": [],
   "source": [
    "excel_file = pd.ExcelFile(filename+'.xlsx')\n",
    "dados=[]\n",
    "# Iterar sobre as abas\n",
    "for sheet_name in excel_file.sheet_names:\n",
    "    df = excel_file.parse(sheet_name)\n",
    "    \n",
    "    if 'Usuários ativos' in df.columns:\n",
    "        tamanho_coluna = len(df['Usuários ativos'])\n",
    "        dados.append((sheet_name,tamanho_coluna))\n"
   ]
  },
  {
   "cell_type": "code",
   "execution_count": 25,
   "metadata": {},
   "outputs": [],
   "source": [
    "wb=op.load_workbook(filename+'.xlsx')"
   ]
  },
  {
   "cell_type": "code",
   "execution_count": 26,
   "metadata": {},
   "outputs": [],
   "source": [
    "wb=op.load_workbook(filename+'.xlsx')\n",
    "nome_aba = 'Resumo'\n",
    "wb['Sheet1'].title = nome_aba\n",
    "wb.active = wb['Resumo']\n",
    "\n",
    "\n",
    "wb.save(filename+'.xlsx')"
   ]
  },
  {
   "cell_type": "code",
   "execution_count": 27,
   "metadata": {},
   "outputs": [],
   "source": [
    "wb.active = wb['Resumo']\n",
    "ws = wb.active"
   ]
  },
  {
   "cell_type": "code",
   "execution_count": 28,
   "metadata": {},
   "outputs": [],
   "source": [
    "ws['A1'] = \"Unidade\"\n",
    "ws['B1'] = \"Quantidade de Usuários\"\n",
    "for i,dado in enumerate(dados,start=2):\n",
    "    ws['A'+str(i)] = dado[0]\n",
    "    ws['B'+str(i)] = dado[1]\n",
    "wb.save(filename+'.xlsx')"
   ]
  },
  {
   "cell_type": "code",
   "execution_count": null,
   "metadata": {},
   "outputs": [],
   "source": []
  }
 ],
 "metadata": {
  "kernelspec": {
   "display_name": "Django Shell-Plus",
   "language": "python",
   "name": "django_extensions"
  },
  "language_info": {
   "codemirror_mode": {
    "name": "ipython",
    "version": 3
   },
   "file_extension": ".py",
   "mimetype": "text/x-python",
   "name": "python",
   "nbconvert_exporter": "python",
   "pygments_lexer": "ipython3",
   "version": "3.8.16"
  }
 },
 "nbformat": 4,
 "nbformat_minor": 2
}
