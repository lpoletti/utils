{
 "cells": [
  {
   "cell_type": "markdown",
   "id": "f9977234",
   "metadata": {},
   "source": [
    "# TOP 5 EQUIPES QUE MAIS FIZERAM RDOs"
   ]
  },
  {
   "cell_type": "code",
   "execution_count": 7,
   "id": "613f6b63",
   "metadata": {},
   "outputs": [],
   "source": [
    "from collections import Counter\n",
    "from datetime import datetime, timedelta\n",
    "from django.utils import timezone\n",
    "import pandas as pd\n",
    "from tqdm.notebook import tqdm\n",
    "from collections import defaultdict\n",
    "from operator import itemgetter\n",
    "from django.db.models import Prefetch\n",
    "from math import ceil"
   ]
  },
  {
   "cell_type": "code",
   "execution_count": 2,
   "id": "b6440427",
   "metadata": {},
   "outputs": [],
   "source": [
    "active_companies = set(Company.objects.filter(active=True).values_list('name', flat=True).order_by('name'))"
   ]
  },
  {
   "cell_type": "code",
   "execution_count": 4,
   "id": "e0d1a95a",
   "metadata": {
    "collapsed": true
   },
   "outputs": [
    {
     "data": {
      "application/vnd.jupyter.widget-view+json": {
       "model_id": "11934cc038c248149aab2b7cb263da05",
       "version_major": 2,
       "version_minor": 0
      },
      "text/plain": [
       "  0%|          | 0/941 [00:00<?, ?it/s]"
      ]
     },
     "metadata": {},
     "output_type": "display_data"
    },
    {
     "name": "stdout",
     "output_type": "stream",
     "text": [
      "Afirma Engenharia Viária\n",
      "Arteris Fernão Dias\n",
      "Arteris Fernão Dias - Conserva\n",
      "Arteris Fluminense\n",
      "Arteris Fluminense - Conserva\n",
      "Arteris Intervias\n",
      "Arteris Litoral Sul\n",
      "Arteris Litoral Sul - Conserva\n",
      "Arteris Litoral Sul - Faixa de Domínio\n",
      "Arteris Planalto Sul\n",
      "Arteris Planalto Sul - Conserva\n",
      "Arteris Planalto Sul - Faixa de Domínio\n",
      "Arteris Régis Bittencourt\n",
      "Arteris Régis Bittencourt - Conserva\n",
      "Arteris Régis Bittencourt - Faixa de Domínio\n",
      "Arteris Via Paulista\n",
      "Arteris Via Paulista - Faixa de Domínio\n",
      "Arteris Via Paulista - SISOAE\n",
      "Arteris Via Paulista - SISOBRAS/SISQUALI\n",
      "CAJ\n",
      "CART\n",
      "CCR - Rio Sp\n",
      "Caminhos da Serra Gaúcha\n",
      "Construtora Castilho\n",
      "Construtora Castilho (Ferrovias)\n",
      "Construtora Castilho (Grupo Pátria)\n",
      "Construtora Castilho (Prefeitura Curitiba)\n",
      "Construtora Castilho (Ramilândia)\n",
      "Dalba Foz do Iguaçu\n",
      "ELO AutoBAn\n",
      "ELO EcoNoroeste\n",
      "ELO Ecopistas\n",
      "ELO Ecovias dos Imigrantes\n",
      "ELO Rodoanel\n",
      "ELO Rodovias Tietê\n",
      "ELO Rodovias dos Tamoios\n",
      "ELO Rota das Bandeiras\n",
      "ELO SPVias\n",
      "ELO Via Lagos\n",
      "ELO Via Oeste\n",
      "Eco Noroeste SIGECON/SIR/SISATIVOS\n",
      "Eco Noroeste SISOAE\n",
      "Eco Noroeste SISOBRAS\n",
      "Eco Noroeste SISSOND\n",
      "Eixo SP\n",
      "Eixo SP - Fx. Dom. | Qualidade | Topografia\n",
      "Eixo SP - SISOAE\n",
      "Eixo Sp - Pavimento\n",
      "Entrevias\n",
      "Entrevias SISOAE\n",
      "Kartado Modelo (SISOAE)\n",
      "LCM - Gaspar\n",
      "Modera - Consórcio ME2\n",
      "Neovia Alcinópolis\n",
      "Neovia Araquari 886/2020\n",
      "Neovia Araranguá\n",
      "Neovia Bocaína do Sul 329/2018\n",
      "Neovia Contorno Sul\n",
      "Neovia Cto Biguaçu\n",
      "Neovia Diamantino\n",
      "Neovia Lages 652/2019\n",
      "Neovia Lagoa Vermelha\n",
      "Neovia Planalto Sul\n",
      "Neovia Rancho Queimado 080/2021\n",
      "Neovia Régis Bittencourt\n",
      "Neovia Tijucas\n",
      "Nova Rota do Oeste - Obras\n",
      "Pavicolet (Amapá)\n",
      "Pavicolet (Amazonas)\n",
      "Radar SA\n",
      "Radar SA Concessões\n",
      "Rota do Oeste\n",
      "Rota do Oeste - Obras\n",
      "Sinaliza Via (Rodovias)\n",
      "Sinalizavia (Municípios)\n",
      "VF Gomes - Confresa\n",
      "Via Araucária\n",
      "Via Brasil\n"
     ]
    }
   ],
   "source": [
    "excluded_companies = {\n",
    "    'Kartado Modelo (Avançado)', 'LCM - Criciúma', 'Kartado Modelo (Básico)', 'Modera - Maya',\n",
    "    'VF Gomes - BR158', 'Modera - Cortel', 'Modera - Velar', 'Minasul', 'VF Gomes - BR010',\n",
    "    'Engie Umburanas', 'Neovia Ponte Serrada', 'LCM - Ituporanga', 'Modera - Consolare',\n",
    "    'Modera - Consórcio Gerencia OAE SP'\n",
    "}\n",
    "\n",
    "filtered_companies = set()\n",
    "\n",
    "for permission in tqdm(UserPermission.objects.filter(\n",
    "    Q(permissions__has_key='contract') | Q(permissions__has_key='Contract')\n",
    ").prefetch_related('companies').order_by('companies__name')):\n",
    "    for company in permission.companies.all():\n",
    "        if company.name in active_companies and company.name not in excluded_companies:\n",
    "            company_name_lower = company.name.lower()\n",
    "            if 'demo' not in company_name_lower and 'uhe' not in company_name_lower:\n",
    "                filtered_companies.add(company.name)\n",
    "\n",
    "for company_name in sorted(filtered_companies):\n",
    "    print(company_name)"
   ]
  },
  {
   "cell_type": "code",
   "execution_count": 9,
   "id": "d5d61fad",
   "metadata": {},
   "outputs": [],
   "source": [
    "start_date = datetime(2024, 2, 1, tzinfo=timezone.utc)\n",
    "end_date = datetime(2024, 2, 29, 23, 59, 59, tzinfo=timezone.utc)\n",
    "\n",
    "firm_counts = {}\n",
    "\n",
    "for company_name in filtered_companies:\n",
    "    monthly_counts = {}\n",
    "\n",
    "    current_date = start_date\n",
    "    while current_date <= end_date:\n",
    "        month_start = current_date.replace(day=1)\n",
    "        next_month = month_start.replace(month=(month_start.month % 12) + 1, year=month_start.year + (1 if month_start.month == 12 else 0))\n",
    "        month_end = next_month - timedelta(days=1)\n",
    "\n",
    "        # Filtra os registros de MultipleDailyReport para a empresa atual e o mês atual\n",
    "        reports = MultipleDailyReport.objects.filter(\n",
    "            company__name=company_name,\n",
    "            date__range=(month_start, month_end)\n",
    "        )\n",
    "\n",
    "        # Conta o número de relatórios diários múltiplos para cada equipe no mês atual\n",
    "        counts = Counter(report.firm.name for report in reports)\n",
    "\n",
    "        # Armazena os top 5 de equipes\n",
    "        monthly_counts[month_start.strftime('%Y-%m')] = counts.most_common(5)\n",
    "\n",
    "        # Atualiza a data atual para o próximo mês\n",
    "        current_date = next_month\n",
    "\n",
    "    firm_counts[company_name] = monthly_counts\n",
    "\n",
    "# Criar DataFrame para exportar para Excel\n",
    "df_firms = pd.DataFrame(columns=['Empresa', 'Mês', 'Equipe', 'Total'])\n",
    "for company_name, monthly_counts in firm_counts.items():\n",
    "    for month, counts in monthly_counts.items():\n",
    "        for firm, total in counts:\n",
    "            # Adicionar linha para cada equipe no top 5 do mês, com o nome da empresa na coluna \"Empresa\" e o mês na coluna \"Mês\"\n",
    "            df_firms = pd.concat([df_firms, pd.DataFrame({'Empresa': [company_name], 'Mês': [month], 'Equipe': [firm], 'Total': [total]})], ignore_index=True)\n",
    "\n",
    "df_firms.to_excel('top_equipes_fev_2024.xlsx', index=False)\n"
   ]
  },
  {
   "cell_type": "markdown",
   "id": "f584f6f2",
   "metadata": {},
   "source": [
    "# TOP 5 USUÁRIOS MAIS ATIVOS"
   ]
  },
  {
   "cell_type": "code",
   "execution_count": 13,
   "id": "072680f7",
   "metadata": {},
   "outputs": [],
   "source": [
    "from datetime import datetime, timedelta\n",
    "from collections import Counter\n",
    "from collections import defaultdict\n",
    "from operator import itemgetter\n",
    "from django.db.models import Prefetch\n",
    "from math import ceil\n",
    "from tqdm import tqdm"
   ]
  },
  {
   "cell_type": "code",
   "execution_count": 8,
   "id": "6e870b52",
   "metadata": {},
   "outputs": [],
   "source": [
    "# excluded_companies = ['Kartado Modelo (Avançado)', 'LCM - Criciúma', 'Kartado Modelo (Básico)', 'Modera - Maya',\n",
    "#                       'VF Gomes - BR158', 'Modera - Cortel', 'Modera - Velar', 'Minasul', 'VF Gomes - BR010',\n",
    "#                       'Engie Umburanas', 'Neovia Ponte Serrada', 'LCM - Ituporanga', 'Modera - Consolare',\n",
    "#                       'Modera - Consórcio Gerencia OAE SP', 'Demo Teste', 'Demo Concessionárias']\n",
    "\n",
    "# active_companies = Company.objects.filter(active=True).exclude(name__in=excluded_companies).values_list('name', flat=True).order_by('name')"
   ]
  },
  {
   "cell_type": "code",
   "execution_count": 5,
   "id": "ff8c4f82",
   "metadata": {},
   "outputs": [
    {
     "name": "stderr",
     "output_type": "stream",
     "text": [
      "/home/luan/.cache/pypoetry/virtualenvs/apps-ZFymp6kh-py3.8/lib/python3.8/site-packages/django/db/models/fields/__init__.py:1424: RuntimeWarning: DateTimeField ActionLog.created_at received a naive datetime (2024-03-11 00:00:00) while time zone support is active.\n",
      "  warnings.warn(\"DateTimeField %s received a naive datetime (%s)\"\n",
      "/home/luan/.cache/pypoetry/virtualenvs/apps-ZFymp6kh-py3.8/lib/python3.8/site-packages/django/db/models/fields/__init__.py:1424: RuntimeWarning: DateTimeField ActionLog.created_at received a naive datetime (2024-03-11 23:59:59) while time zone support is active.\n",
      "  warnings.warn(\"DateTimeField %s received a naive datetime (%s)\"\n"
     ]
    },
    {
     "name": "stdout",
     "output_type": "stream",
     "text": [
      "Total de registros: 333\n"
     ]
    }
   ],
   "source": [
    "company = Company.objects.get(name=\"Arteris Fernão Dias - Conserva\")\n",
    "\n",
    "start_date = datetime(2024, 3, 11)\n",
    "end_date = datetime(2024, 3, 11, 23, 59, 59)\n",
    "\n",
    "records = ActionLog.objects.filter(\n",
    "    company=company,\n",
    "    action__in=[\"Create\", \"Update\", \"Delete\"],\n",
    "    content_type_id__in=[\"68\", \"72\", \"202\"], \n",
    "    created_at__gte=start_date,\n",
    "    created_at__lte=end_date\n",
    ").prefetch_related('user')\n",
    "\n",
    "total_records = records.count()\n",
    "print(\"Total de registros:\", total_records)"
   ]
  },
  {
   "cell_type": "code",
   "execution_count": 8,
   "id": "cb100175",
   "metadata": {},
   "outputs": [],
   "source": [
    "total_actions_per_user_per_company = defaultdict(lambda: defaultdict(int))"
   ]
  },
  {
   "cell_type": "code",
   "execution_count": 9,
   "id": "1799cb25",
   "metadata": {},
   "outputs": [
    {
     "name": "stdout",
     "output_type": "stream",
     "text": [
      "Empresa: Arteris Fernão Dias - Conserva\n",
      "Usuário: gessica.gomes.ter, Permissão: Coordenador, Total de Ações: 110\n",
      "Usuário: saullo.mendes, Permissão: Terceiro, Total de Ações: 57\n",
      "Usuário: joserlourenco, Permissão: Terceiro, Total de Ações: 45\n",
      "Usuário: felipe.paoli, Permissão: Inspetor, Total de Ações: 42\n",
      "Usuário: mirella.carvalho, Permissão: Terceiro, Total de Ações: 25\n",
      "\n"
     ]
    }
   ],
   "source": [
    "for record in records:\n",
    "    company_name = record.company.name\n",
    "    user_id = record.user.pk\n",
    "    total_actions_per_user_per_company[company_name][user_id] += 1\n",
    "\n",
    "for company, total_actions_per_user in total_actions_per_user_per_company.items():\n",
    "    sorted_users = sorted(total_actions_per_user.items(), key=itemgetter(1), reverse=True)\n",
    "    \n",
    "    top_users = sorted_users[:5]\n",
    "    \n",
    "    print(f\"Empresa: {company}\")\n",
    "    for user_id, total_actions in top_users:\n",
    "        user = User.objects.get(pk=user_id)\n",
    "        \n",
    "        permissions = UserPermission.objects.filter(companies__name=company, permission_memberships__user=user)\n",
    "        \n",
    "        permissions_list = \", \".join(permission.name for permission in permissions)\n",
    "        \n",
    "        # Exibe os resultados\n",
    "        print(f\"Usuário: {user.username}, Permissão: {permissions_list}, Total de Ações: {total_actions}\")\n",
    "    print()"
   ]
  },
  {
   "cell_type": "markdown",
   "id": "b75221c0",
   "metadata": {},
   "source": [
    "# QUANTOS RDOs POR MÊS"
   ]
  },
  {
   "cell_type": "code",
   "execution_count": 11,
   "id": "428b961d",
   "metadata": {},
   "outputs": [],
   "source": [
    "active_companies = set(Company.objects.filter(active=True).values_list('name', flat=True).order_by('name'))"
   ]
  },
  {
   "cell_type": "code",
   "execution_count": 12,
   "id": "a60458a6",
   "metadata": {},
   "outputs": [
    {
     "name": "stdout",
     "output_type": "stream",
     "text": [
      "Arteris Fernão Dias\n",
      "Arteris Fernão Dias - Conserva\n",
      "Arteris Fluminense\n",
      "Arteris Fluminense - Conserva\n",
      "Arteris Intervias\n",
      "Arteris Litoral Sul\n",
      "Arteris Litoral Sul - Conserva\n",
      "Arteris Litoral Sul - Faixa de Domínio\n",
      "Arteris Planalto Sul\n",
      "Arteris Planalto Sul - Conserva\n",
      "Arteris Planalto Sul - Faixa de Domínio\n",
      "Arteris Régis Bittencourt\n",
      "Arteris Régis Bittencourt - Conserva\n",
      "Arteris Régis Bittencourt - Faixa de Domínio\n",
      "Arteris Via Paulista\n",
      "Arteris Via Paulista - Faixa de Domínio\n",
      "Arteris Via Paulista - SISOBRAS/SISQUALI\n",
      "CAJ\n",
      "CART\n",
      "Caminhos da Serra Gaúcha\n",
      "Construtora Castilho\n",
      "Construtora Castilho (Ferrovias)\n",
      "Construtora Castilho (Grupo Pátria)\n",
      "Construtora Castilho (Prefeitura Curitiba)\n",
      "Dalba Foz do Iguaçu\n",
      "ELO AutoBAn\n",
      "ELO EcoNoroeste\n",
      "ELO Ecopistas\n",
      "ELO Ecovias dos Imigrantes\n",
      "ELO Rodovias Tietê\n",
      "ELO Rodovias dos Tamoios\n",
      "ELO Rota das Bandeiras\n",
      "ELO SPVias\n",
      "ELO Via Lagos\n",
      "Eco Noroeste\n",
      "Eco Noroeste SISOAE\n",
      "Eco Noroeste SISOBRAS\n",
      "Eco Noroeste SISSOND\n",
      "Eixo SP\n",
      "Eixo SP - Fx. Dom. | Qualidade | Topografia\n",
      "Eixo SP - SISOAE\n",
      "Entrevias\n",
      "Entrevias SISOAE\n",
      "LCM - Criciúma\n",
      "LCM - Gaspar\n",
      "Modera - Consórcio ME2\n",
      "Neovia Alcinópolis\n",
      "Neovia Araquari 886/2020\n",
      "Neovia Araranguá\n",
      "Neovia Bocaína do Sul 329/2018\n",
      "Neovia Contorno Sul\n",
      "Neovia Cto Biguaçu\n",
      "Neovia Diamantino\n",
      "Neovia Lages 652/2019\n",
      "Neovia Lagoa Vermelha\n",
      "Neovia Planalto Sul\n",
      "Neovia Rancho Queimado 080/2021\n",
      "Neovia Régis Bittencourt\n",
      "Neovia Tijucas\n",
      "Nova Rota do Oeste - Obras\n",
      "Pavicolet (Amapá)\n",
      "Pavicolet (Amazonas)\n",
      "Rota do Oeste\n",
      "Rota do Oeste - Obras\n",
      "Sinalizavia (Municípios)\n",
      "VF Gomes - Confresa\n",
      "Via Brasil\n"
     ]
    }
   ],
   "source": [
    "excluded_companies = {\n",
    "    'Kartado Modelo (Avançado)', 'Kartado Modelo (Básico)', 'Modera - Maya',\n",
    "    'VF Gomes - BR158', 'Modera - Cortel', 'Modera - Velar', 'Minasul', 'VF Gomes - BR010',\n",
    "    'Engie Umburanas', 'Neovia Ponte Serrada', 'LCM - Ituporanga', 'Modera - Consolare',\n",
    "    'Modera - Consórcio Gerencia OAE SP'\n",
    "}\n",
    "\n",
    "filtered_companies = set()\n",
    "\n",
    "for permission in UserPermission.objects.filter(\n",
    "    Q(permissions__has_key='contract') | Q(permissions__has_key='Contract')\n",
    ").order_by('companies__name'):\n",
    "    for company in permission.companies.all():\n",
    "        if company.name in active_companies and company.name not in excluded_companies:\n",
    "            company_name_lower = company.name.lower()\n",
    "            if 'demo' not in company_name_lower and 'uhe' not in company_name_lower:\n",
    "                filtered_companies.add(company.name)\n",
    "\n",
    "for company_name in sorted(filtered_companies):\n",
    "    print(company_name)"
   ]
  },
  {
   "cell_type": "code",
   "execution_count": 17,
   "id": "b67c6de2",
   "metadata": {},
   "outputs": [],
   "source": [
    "from datetime import datetime, timedelta\n",
    "from django.utils import timezone\n",
    "import pandas as pd\n",
    "\n",
    "start_date = datetime(2024, 2, 1)\n",
    "\n",
    "end_date = datetime(2024, 2, 29, 23, 59, 59)\n",
    "\n",
    "data = []\n",
    "\n",
    "for company_name in filtered_companies:\n",
    "    count = MultipleDailyReport.objects.filter(\n",
    "        company__name=company_name,\n",
    "        date__range=(start_date, end_date)\n",
    "    ).count()\n",
    "\n",
    "    data.append({'Empresa': company_name, 'Mês': '2024-02', 'Registros de RDO': count})\n",
    "\n",
    "df_rdo = pd.DataFrame(data)\n",
    "\n",
    "df_rdo.to_excel('registros_rdo_fev_2024.xlsx', index=False)\n"
   ]
  },
  {
   "cell_type": "markdown",
   "id": "ff4a7077",
   "metadata": {},
   "source": [
    "# UNIDADES COM ALGUM REGISTRO DE RDO"
   ]
  },
  {
   "cell_type": "code",
   "execution_count": 10,
   "id": "32ca9928",
   "metadata": {},
   "outputs": [
    {
     "ename": "AttributeError",
     "evalue": "'DataFrame' object has no attribute 'append'",
     "output_type": "error",
     "traceback": [
      "\u001b[0;31m---------------------------------------------------------------------------\u001b[0m",
      "\u001b[0;31mAttributeError\u001b[0m                            Traceback (most recent call last)",
      "\u001b[0;32m/tmp/ipykernel_11792/623322555.py\u001b[0m in \u001b[0;36m<cell line: 12>\u001b[0;34m()\u001b[0m\n\u001b[1;32m     39\u001b[0m \u001b[0;34m\u001b[0m\u001b[0m\n\u001b[1;32m     40\u001b[0m         \u001b[0;32mfor\u001b[0m \u001b[0mmonth\u001b[0m\u001b[0;34m,\u001b[0m \u001b[0mcount\u001b[0m \u001b[0;32min\u001b[0m \u001b[0mmonthly_counts\u001b[0m\u001b[0;34m.\u001b[0m\u001b[0mitems\u001b[0m\u001b[0;34m(\u001b[0m\u001b[0;34m)\u001b[0m\u001b[0;34m:\u001b[0m\u001b[0;34m\u001b[0m\u001b[0;34m\u001b[0m\u001b[0m\n\u001b[0;32m---> 41\u001b[0;31m             \u001b[0mdf_rdo\u001b[0m \u001b[0;34m=\u001b[0m \u001b[0mdf_rdo\u001b[0m\u001b[0;34m.\u001b[0m\u001b[0mappend\u001b[0m\u001b[0;34m(\u001b[0m\u001b[0;34m{\u001b[0m\u001b[0;34m'Empresa'\u001b[0m\u001b[0;34m:\u001b[0m \u001b[0mcompany_name\u001b[0m\u001b[0;34m,\u001b[0m \u001b[0;34m'Mês'\u001b[0m\u001b[0;34m:\u001b[0m \u001b[0mmonth\u001b[0m\u001b[0;34m,\u001b[0m \u001b[0;34m'Registros de RDO'\u001b[0m\u001b[0;34m:\u001b[0m \u001b[0mcount\u001b[0m\u001b[0;34m}\u001b[0m\u001b[0;34m,\u001b[0m \u001b[0mignore_index\u001b[0m\u001b[0;34m=\u001b[0m\u001b[0;32mTrue\u001b[0m\u001b[0;34m)\u001b[0m\u001b[0;34m\u001b[0m\u001b[0;34m\u001b[0m\u001b[0m\n\u001b[0m\u001b[1;32m     42\u001b[0m \u001b[0;34m\u001b[0m\u001b[0m\n\u001b[1;32m     43\u001b[0m \u001b[0;31m# df_rdo.to_excel('registros_rdo.xlsx', index=False)\u001b[0m\u001b[0;34m\u001b[0m\u001b[0;34m\u001b[0m\u001b[0;34m\u001b[0m\u001b[0m\n",
      "\u001b[0;32m~/.cache/pypoetry/virtualenvs/apps-ZFymp6kh-py3.8/lib/python3.8/site-packages/pandas/core/generic.py\u001b[0m in \u001b[0;36m__getattr__\u001b[0;34m(self, name)\u001b[0m\n\u001b[1;32m   5987\u001b[0m         ):\n\u001b[1;32m   5988\u001b[0m             \u001b[0;32mreturn\u001b[0m \u001b[0mself\u001b[0m\u001b[0;34m[\u001b[0m\u001b[0mname\u001b[0m\u001b[0;34m]\u001b[0m\u001b[0;34m\u001b[0m\u001b[0;34m\u001b[0m\u001b[0m\n\u001b[0;32m-> 5989\u001b[0;31m         \u001b[0;32mreturn\u001b[0m \u001b[0mobject\u001b[0m\u001b[0;34m.\u001b[0m\u001b[0m__getattribute__\u001b[0m\u001b[0;34m(\u001b[0m\u001b[0mself\u001b[0m\u001b[0;34m,\u001b[0m \u001b[0mname\u001b[0m\u001b[0;34m)\u001b[0m\u001b[0;34m\u001b[0m\u001b[0;34m\u001b[0m\u001b[0m\n\u001b[0m\u001b[1;32m   5990\u001b[0m \u001b[0;34m\u001b[0m\u001b[0m\n\u001b[1;32m   5991\u001b[0m     \u001b[0;32mdef\u001b[0m \u001b[0m__setattr__\u001b[0m\u001b[0;34m(\u001b[0m\u001b[0mself\u001b[0m\u001b[0;34m,\u001b[0m \u001b[0mname\u001b[0m\u001b[0;34m:\u001b[0m \u001b[0mstr\u001b[0m\u001b[0;34m,\u001b[0m \u001b[0mvalue\u001b[0m\u001b[0;34m)\u001b[0m \u001b[0;34m->\u001b[0m \u001b[0;32mNone\u001b[0m\u001b[0;34m:\u001b[0m\u001b[0;34m\u001b[0m\u001b[0;34m\u001b[0m\u001b[0m\n",
      "\u001b[0;31mAttributeError\u001b[0m: 'DataFrame' object has no attribute 'append'"
     ]
    }
   ],
   "source": [
    "excluded_companies = {\n",
    "    'Kartado Modelo (Avançado)', 'Kartado Modelo (Básico)', 'Modera - Maya',\n",
    "    'VF Gomes - BR158', 'Modera - Cortel', 'Modera - Velar', 'Minasul', 'VF Gomes - BR010',\n",
    "    'Engie Umburanas', 'Neovia Ponte Serrada', 'LCM - Ituporanga', 'Modera - Consolare',\n",
    "    'Modera - Consórcio Gerencia OAE SP'\n",
    "}\n",
    "\n",
    "companies_with_rdo = set(MultipleDailyReport.objects.filter(date__range=(datetime(2023, 11, 1), datetime(2024, 2, 29))).values_list('company__name', flat=True))\n",
    "\n",
    "df_rdo = pd.DataFrame(columns=['Empresa', 'Mês', 'Registros de RDO'])\n",
    "\n",
    "for company_name in companies_with_rdo:\n",
    "\n",
    "    if company_name in excluded_companies:\n",
    "        continue\n",
    "\n",
    "    company_name_lower = company_name.lower()\n",
    "    if 'demo' not in company_name_lower and 'uhe' not in company_name_lower:\n",
    "        monthly_counts = {}\n",
    "\n",
    "        end_date = datetime(2024, 2, 29)\n",
    "\n",
    "        start_date = datetime(2023, 11, 1)\n",
    "\n",
    "        current_date = start_date\n",
    "        while current_date <= end_date:\n",
    "            month_start = current_date.replace(day=1)\n",
    "            next_month = month_start.replace(month=(month_start.month % 12) + 1, year=month_start.year + (1 if month_start.month == 12 else 0))\n",
    "            month_end = next_month - timedelta(days=1)\n",
    "\n",
    "            count = MultipleDailyReport.objects.filter(\n",
    "                company__name=company_name,\n",
    "                date__range=(month_start, month_end)\n",
    "            ).count()\n",
    "\n",
    "            monthly_counts[month_start.strftime('%Y-%m')] = count\n",
    "\n",
    "            current_date = next_month\n",
    "\n",
    "        for month, count in monthly_counts.items():\n",
    "            df_rdo = df_rdo.append({'Empresa': company_name, 'Mês': month, 'Registros de RDO': count}, ignore_index=True)\n",
    "\n",
    "# df_rdo.to_excel('registros_rdo.xlsx', index=False)"
   ]
  },
  {
   "cell_type": "code",
   "execution_count": null,
   "id": "06de2340",
   "metadata": {},
   "outputs": [],
   "source": []
  }
 ],
 "metadata": {
  "kernelspec": {
   "display_name": "Django Shell-Plus",
   "language": "python",
   "name": "django_extensions"
  },
  "language_info": {
   "codemirror_mode": {
    "name": "ipython",
    "version": 3
   },
   "file_extension": ".py",
   "mimetype": "text/x-python",
   "name": "python",
   "nbconvert_exporter": "python",
   "pygments_lexer": "ipython3",
   "version": "3.8.16"
  }
 },
 "nbformat": 4,
 "nbformat_minor": 5
}
