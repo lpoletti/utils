{
 "cells": [
  {
   "cell_type": "code",
   "execution_count": null,
   "metadata": {},
   "outputs": [],
   "source": [
    "%load_ext autoreload"
   ]
  },
  {
   "cell_type": "code",
   "execution_count": null,
   "metadata": {},
   "outputs": [],
   "source": [
    "%autoreload 2"
   ]
  },
  {
   "cell_type": "code",
   "execution_count": null,
   "metadata": {},
   "outputs": [],
   "source": [
    "!pip install tqdm --upgrade"
   ]
  },
  {
   "cell_type": "code",
   "execution_count": null,
   "metadata": {},
   "outputs": [],
   "source": [
    "from RoadLabsAPI.settings import credentials\n",
    "import gitlab\n",
    "from tqdm.notebook import tqdm\n",
    "import re\n",
    "from datetime import timedelta, datetime"
   ]
  },
  {
   "cell_type": "code",
   "execution_count": null,
   "metadata": {},
   "outputs": [],
   "source": [
    "# Constants\n",
    "\n",
    "road_labs_group_id = 1747785"
   ]
  },
  {
   "cell_type": "code",
   "execution_count": null,
   "metadata": {},
   "outputs": [],
   "source": [
    "git = gitlab.Gitlab(\n",
    "    credentials.GL_URL, private_token=credentials.GL_PRIVATE_TOKEN\n",
    ")\n",
    "git.auth()"
   ]
  },
  {
   "cell_type": "markdown",
   "metadata": {},
   "source": [
    "## Road Labs Group"
   ]
  },
  {
   "cell_type": "code",
   "execution_count": null,
   "metadata": {},
   "outputs": [],
   "source": [
    "# Get group\n",
    "\n",
    "road_labs_group = git.groups.get(1747785)"
   ]
  },
  {
   "cell_type": "code",
   "execution_count": null,
   "metadata": {},
   "outputs": [],
   "source": [
    "# Get all open issues from group\n",
    "\n",
    "group_issues = road_labs_group.issues.list(all=True, state=\"opened\")"
   ]
  },
  {
   "cell_type": "code",
   "execution_count": null,
   "metadata": {},
   "outputs": [],
   "source": [
    "print(\"Total group open issues: {}\".format(len(group_issues)))"
   ]
  },
  {
   "cell_type": "markdown",
   "metadata": {},
   "source": [
    "## Projects"
   ]
  },
  {
   "cell_type": "code",
   "execution_count": null,
   "metadata": {},
   "outputs": [],
   "source": [
    "projects = road_labs_group.projects.list(all=True)"
   ]
  },
  {
   "cell_type": "code",
   "execution_count": null,
   "metadata": {},
   "outputs": [],
   "source": [
    "# Projects and its ids\n",
    "for item in projects:\n",
    "    print(\"{}: {}\".format(item.attributes[\"name\"], item.attributes[\"id\"]))"
   ]
  },
  {
   "cell_type": "code",
   "execution_count": null,
   "metadata": {},
   "outputs": [],
   "source": [
    "all_issues = []\n",
    "all_mrs = []"
   ]
  },
  {
   "cell_type": "code",
   "execution_count": null,
   "metadata": {},
   "outputs": [],
   "source": [
    "# Count issues per project\n",
    "\n",
    "for item in projects:\n",
    "    project = git.projects.get(item.attributes[\"id\"])\n",
    "    issues = project.issues.list(all=True)\n",
    "    mrs = project.mergerequests.list(all=True)\n",
    "    print(\"{}: {}\".format(item.attributes[\"name\"], len(issues)))\n",
    "    all_issues += issues\n",
    "    all_mrs += mrs "
   ]
  },
  {
   "cell_type": "code",
   "execution_count": null,
   "metadata": {},
   "outputs": [],
   "source": [
    "labels = road_labs_group.labels.list(all=True)"
   ]
  },
  {
   "cell_type": "code",
   "execution_count": null,
   "metadata": {},
   "outputs": [],
   "source": [
    "# Count open issues per label in BOARD\n",
    "\n",
    "board_labels = [\"STT Project Backlog\", \"STT Sprint Backlog\", \"STT Doing\", \"STT Ready For Review\",\n",
    "                \"STT Publ: Internal\", \"STT Publ: Staging\", \"STT Publ: Production\", \"STT Done\"]\n",
    "\n",
    "for name in board_labels:\n",
    "    issues = road_labs_group.issues.list(all=True, state=\"opened\", labels=[name])\n",
    "    print(\"{}: {}\".format(name, len(issues)))"
   ]
  },
  {
   "cell_type": "markdown",
   "metadata": {},
   "source": [
    "## Spent time"
   ]
  },
  {
   "cell_type": "code",
   "execution_count": null,
   "metadata": {},
   "outputs": [],
   "source": [
    "all_discussions_issues = []\n",
    "all_discussions_mrs = []"
   ]
  },
  {
   "cell_type": "code",
   "execution_count": null,
   "metadata": {},
   "outputs": [],
   "source": [
    "for issue in tqdm(all_issues):\n",
    "    all_discussions_issues += issue.discussions.list()"
   ]
  },
  {
   "cell_type": "code",
   "execution_count": null,
   "metadata": {},
   "outputs": [],
   "source": [
    "for mr in tqdm(all_mrs):\n",
    "    all_discussions_mrs += mr.discussions.list()"
   ]
  },
  {
   "cell_type": "code",
   "execution_count": null,
   "metadata": {},
   "outputs": [],
   "source": [
    "# Get issues which has spend comments\n",
    "\n",
    "spends_issues = [a for a in all_discussions_issues if 'time spent' in a.attributes['notes'][0]['body']]\n",
    "print(\"Total issues with spend: {}\".format(len(spends_issues)))"
   ]
  },
  {
   "cell_type": "code",
   "execution_count": null,
   "metadata": {},
   "outputs": [],
   "source": [
    "# Get MRS which has spend comments\n",
    "\n",
    "spends_mrs = [a for a in all_discussions_mrs if 'time spent' in a.attributes['notes'][0]['body']]\n",
    "print(\"Total MRs with spend: {}\".format(len(spends_mrs)))"
   ]
  },
  {
   "cell_type": "code",
   "execution_count": null,
   "metadata": {},
   "outputs": [],
   "source": [
    "regex = re.compile(r'((?P<days>\\d+?)d)?((?P<hours>\\d+?)h)?((?P<minutes>\\d+?)m)?((?P<seconds>\\d+?)s)?')\n",
    "\n",
    "def parse_time(time_str):\n",
    "    parts = regex.match(time_str)\n",
    "    if not parts:\n",
    "        return\n",
    "    parts = parts.groupdict()\n",
    "    time_params = {}\n",
    "    for (name, param) in parts.items():\n",
    "        if param:\n",
    "            time_params[name] = int(param)\n",
    "    return timedelta(**time_params)\n",
    "\n",
    "def parse_discussion(discussion):\n",
    "    amount = discussion.attributes['notes'][0]['body'].split(' of time')[0]\n",
    "    add_or_subtract = \"added\" in amount\n",
    "    amount = amount.strip('added ').strip('subtracted ')\n",
    "    amount = parse_time(amount)\n",
    "    if not add_or_subtract:\n",
    "        amount = timedelta() - amount\n",
    "    created_at = discussion.attributes['notes'][0]['created_at']\n",
    "\n",
    "    return(amount, created_at)\n",
    "\n",
    "def create_json_spends(discussions):\n",
    "    json_spends = {}\n",
    "    for discussion in discussions:\n",
    "        project_id = discussion.attributes['project_id']\n",
    "        if \"issue_iid\" in discussion.attributes:\n",
    "            iid = discussion.attributes['issue_iid']\n",
    "        elif \"mr_iid\" in discussion.attributes:\n",
    "            iid = discussion.attributes['mr_iid']\n",
    "            \n",
    "        if not project_id in json_spends:\n",
    "            json_spends[project_id] = {}\n",
    "        if not iid in json_spends[project_id]:\n",
    "            json_spends[project_id][iid] = []\n",
    "        \n",
    "        amount = discussion.attributes['notes'][0]['body'].split(' of time')[0]\n",
    "        add_or_subtract = \"added\" in amount\n",
    "        amount = amount.strip('added ').strip('subtracted ')\n",
    "        amount = parse_time(amount)\n",
    "        if not add_or_subtract:\n",
    "            amount = timedelta() - amount\n",
    "        created_at = datetime.strptime(discussion.attributes['notes'][0]['created_at'], '%Y-%m-%dT%H:%M:%S.%fZ')\n",
    "        \n",
    "        json_spends[project_id][iid].append({\n",
    "            \"time\": amount,\n",
    "            \"created_at\": created_at\n",
    "        })\n",
    "        \n",
    "    return json_spends"
   ]
  },
  {
   "cell_type": "markdown",
   "metadata": {},
   "source": [
    "## Milestones"
   ]
  },
  {
   "cell_type": "code",
   "execution_count": null,
   "metadata": {},
   "outputs": [],
   "source": [
    "group_milestones = road_labs_group.milestones.list(all=True)"
   ]
  },
  {
   "cell_type": "code",
   "execution_count": null,
   "metadata": {},
   "outputs": [],
   "source": [
    "actual_milestone = group_milestones[0]\n",
    "milestone_start_date = datetime.strptime(actual_milestone.attributes[\"start_date\"], \"%Y-%m-%d\")\n",
    "milestone_due_date = datetime.strptime(actual_milestone.attributes[\"due_date\"], \"%Y-%m-%d\")"
   ]
  },
  {
   "cell_type": "code",
   "execution_count": null,
   "metadata": {},
   "outputs": [],
   "source": [
    "issues = road_labs_group.issues.list(all=True, milestone=actual_milestone.attributes[\"title\"])\n",
    "mrs = road_labs_group.mergerequests.list(all=True, milestone=actual_milestone.attributes[\"title\"])"
   ]
  },
  {
   "cell_type": "code",
   "execution_count": null,
   "metadata": {},
   "outputs": [],
   "source": [
    "# Total time already spent in actual sprint\n",
    "\n",
    "time_spent_issues = 0\n",
    "time_spent_merge_requests = 0\n",
    "\n",
    "for issue in issues:\n",
    "    time_spent_issues += issue.attributes[\"time_stats\"][\"total_time_spent\"]\n",
    "    \n",
    "for mr in mrs:\n",
    "    time_spent_merge_requests += mr.attributes[\"time_stats\"][\"total_time_spent\"]"
   ]
  },
  {
   "cell_type": "code",
   "execution_count": null,
   "metadata": {},
   "outputs": [],
   "source": [
    "# Time spent in issues before milestone\n",
    "\n",
    "time_before_issues = timedelta(0)\n",
    "json_spends_issues = create_json_spends(spends_issues)\n",
    "\n",
    "for issue in issues:\n",
    "    project_id = issue.attributes[\"project_id\"]\n",
    "    issue_iid = issue.attributes[\"iid\"]\n",
    "    if project_id in json_spends_issues:\n",
    "        if issue_iid in json_spends_issues[project_id]:\n",
    "            spents = json_spends_issues[project_id][issue_iid]\n",
    "            \n",
    "            for spent in spents:\n",
    "                if spent[\"created_at\"] < milestone_start_date:\n",
    "                    time_before_issues += spent[\"time\"]"
   ]
  },
  {
   "cell_type": "code",
   "execution_count": null,
   "metadata": {},
   "outputs": [],
   "source": [
    "# Time spent in issues before milestone\n",
    "\n",
    "time_before_mrs = timedelta(0)\n",
    "json_spends_mrs = create_json_spends(spends_mrs)\n",
    "\n",
    "for mr in mrs:\n",
    "    project_id = mr.attributes[\"project_id\"]\n",
    "    mr_iid = mr.attributes[\"iid\"]\n",
    "    if project_id in json_spends_mrs:\n",
    "        if mr_iid in json_spends_mrs[project_id]:\n",
    "            spents = json_spends_mrs[project_id][mr_iid]\n",
    "            \n",
    "            for spent in spents:\n",
    "                if spent[\"created_at\"] < milestone_start_date:\n",
    "                    time_before_mrs += spent[\"time\"]"
   ]
  },
  {
   "cell_type": "code",
   "execution_count": null,
   "metadata": {},
   "outputs": [],
   "source": [
    "time_before_issues = 0"
   ]
  },
  {
   "cell_type": "code",
   "execution_count": null,
   "metadata": {},
   "outputs": [],
   "source": [
    "print(\"Time before in issues: \\t{}\".format(str(time_before_issues)))\n",
    "print(\"Total time in issues: \\t{}\".format(str(timedelta(seconds=time_spent_issues))))\n",
    "print(\"Time before in MRs: \\t{}\".format(str(time_before_mrs)))\n",
    "print(\"Total time in MRs: \\t{}\".format(str(timedelta(seconds=time_spent_merge_requests))))"
   ]
  },
  {
   "cell_type": "code",
   "execution_count": null,
   "metadata": {},
   "outputs": [],
   "source": []
  }
 ],
 "metadata": {
  "kernelspec": {
   "display_name": "Django Shell-Plus",
   "language": "python",
   "name": "django_extensions"
  },
  "language_info": {
   "codemirror_mode": {
    "name": "ipython",
    "version": 3
   },
   "file_extension": ".py",
   "mimetype": "text/x-python",
   "name": "python",
   "nbconvert_exporter": "python",
   "pygments_lexer": "ipython3",
   "version": "3.6.9"
  }
 },
 "nbformat": 4,
 "nbformat_minor": 4
}
