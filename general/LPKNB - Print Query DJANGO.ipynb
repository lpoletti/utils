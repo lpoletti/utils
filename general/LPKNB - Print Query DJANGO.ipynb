{
 "cells": [
  {
   "cell_type": "code",
   "execution_count": 1,
   "id": "2bf0fa0c",
   "metadata": {},
   "outputs": [],
   "source": [
    "from pygments import highlight\n",
    "from pygments.formatters import TerminalFormatter\n",
    "from pygments.lexers import PostgresLexer\n",
    "from sqlparse import format\n",
    "from django.db.models import QuerySet\n",
    "\n",
    "\n",
    "def print_sql(queryset: QuerySet):\n",
    "    formatted = format(str(queryset.query), reindent=True)\n",
    "    print(highlight(formatted, PostgresLexer(), TerminalFormatter()))"
   ]
  },
  {
   "cell_type": "code",
   "execution_count": 2,
   "id": "4b2af242",
   "metadata": {},
   "outputs": [],
   "source": [
    "mb=MeasurementBulletin.objects.filter(number='ALS-BM-2024.4',\n",
    "                                   contract__subcompany__company__name='Arteris Litoral Sul - Conserva')"
   ]
  },
  {
   "cell_type": "code",
   "execution_count": 3,
   "id": "7fdd1d72",
   "metadata": {},
   "outputs": [
    {
     "name": "stdout",
     "output_type": "stream",
     "text": [
      "\u001b[34mSELECT\u001b[39;49;00m\u001b[37m \u001b[39;49;00m\u001b[33m\"\u001b[39;49;00m\u001b[33mservice_orders_measurementbulletin\u001b[39;49;00m\u001b[33m\"\u001b[39;49;00m\u001b[34m.\u001b[39;49;00m\u001b[33m\"\u001b[39;49;00m\u001b[33muuid\u001b[39;49;00m\u001b[33m\"\u001b[39;49;00m,\u001b[37m\u001b[39;49;00m\n",
      "\u001b[37m       \u001b[39;49;00m\u001b[33m\"\u001b[39;49;00m\u001b[33mservice_orders_measurementbulletin\u001b[39;49;00m\u001b[33m\"\u001b[39;49;00m\u001b[34m.\u001b[39;49;00m\u001b[33m\"\u001b[39;49;00m\u001b[33mnumber\u001b[39;49;00m\u001b[33m\"\u001b[39;49;00m,\u001b[37m\u001b[39;49;00m\n",
      "\u001b[37m       \u001b[39;49;00m\u001b[33m\"\u001b[39;49;00m\u001b[33mservice_orders_measurementbulletin\u001b[39;49;00m\u001b[33m\"\u001b[39;49;00m\u001b[34m.\u001b[39;49;00m\u001b[33m\"\u001b[39;49;00m\u001b[33mfirm_id\u001b[39;49;00m\u001b[33m\"\u001b[39;49;00m,\u001b[37m\u001b[39;49;00m\n",
      "\u001b[37m       \u001b[39;49;00m\u001b[33m\"\u001b[39;49;00m\u001b[33mservice_orders_measurementbulletin\u001b[39;49;00m\u001b[33m\"\u001b[39;49;00m\u001b[34m.\u001b[39;49;00m\u001b[33m\"\u001b[39;49;00m\u001b[33mfirm_manager_id\u001b[39;49;00m\u001b[33m\"\u001b[39;49;00m,\u001b[37m\u001b[39;49;00m\n",
      "\u001b[37m       \u001b[39;49;00m\u001b[33m\"\u001b[39;49;00m\u001b[33mservice_orders_measurementbulletin\u001b[39;49;00m\u001b[33m\"\u001b[39;49;00m\u001b[34m.\u001b[39;49;00m\u001b[33m\"\u001b[39;49;00m\u001b[33mcreation_date\u001b[39;49;00m\u001b[33m\"\u001b[39;49;00m,\u001b[37m\u001b[39;49;00m\n",
      "\u001b[37m       \u001b[39;49;00m\u001b[33m\"\u001b[39;49;00m\u001b[33mservice_orders_measurementbulletin\u001b[39;49;00m\u001b[33m\"\u001b[39;49;00m\u001b[34m.\u001b[39;49;00m\u001b[33m\"\u001b[39;49;00m\u001b[33mmeasurement_date\u001b[39;49;00m\u001b[33m\"\u001b[39;49;00m,\u001b[37m\u001b[39;49;00m\n",
      "\u001b[37m       \u001b[39;49;00m\u001b[33m\"\u001b[39;49;00m\u001b[33mservice_orders_measurementbulletin\u001b[39;49;00m\u001b[33m\"\u001b[39;49;00m\u001b[34m.\u001b[39;49;00m\u001b[33m\"\u001b[39;49;00m\u001b[33mcreated_by_id\u001b[39;49;00m\u001b[33m\"\u001b[39;49;00m,\u001b[37m\u001b[39;49;00m\n",
      "\u001b[37m       \u001b[39;49;00m\u001b[33m\"\u001b[39;49;00m\u001b[33mservice_orders_measurementbulletin\u001b[39;49;00m\u001b[33m\"\u001b[39;49;00m\u001b[34m.\u001b[39;49;00m\u001b[33m\"\u001b[39;49;00m\u001b[33mtotal_price\u001b[39;49;00m\u001b[33m\"\u001b[39;49;00m,\u001b[37m\u001b[39;49;00m\n",
      "\u001b[37m       \u001b[39;49;00m\u001b[33m\"\u001b[39;49;00m\u001b[33mservice_orders_measurementbulletin\u001b[39;49;00m\u001b[33m\"\u001b[39;49;00m\u001b[34m.\u001b[39;49;00m\u001b[33m\"\u001b[39;49;00m\u001b[33mcontract_id\u001b[39;49;00m\u001b[33m\"\u001b[39;49;00m,\u001b[37m\u001b[39;49;00m\n",
      "\u001b[37m       \u001b[39;49;00m\u001b[33m\"\u001b[39;49;00m\u001b[33mservice_orders_measurementbulletin\u001b[39;49;00m\u001b[33m\"\u001b[39;49;00m\u001b[34m.\u001b[39;49;00m\u001b[33m\"\u001b[39;49;00m\u001b[33mextra_info\u001b[39;49;00m\u001b[33m\"\u001b[39;49;00m,\u001b[37m\u001b[39;49;00m\n",
      "\u001b[37m       \u001b[39;49;00m\u001b[33m\"\u001b[39;49;00m\u001b[33mservice_orders_measurementbulletin\u001b[39;49;00m\u001b[33m\"\u001b[39;49;00m\u001b[34m.\u001b[39;49;00m\u001b[33m\"\u001b[39;49;00m\u001b[33mdescription\u001b[39;49;00m\u001b[33m\"\u001b[39;49;00m,\u001b[37m\u001b[39;49;00m\n",
      "\u001b[37m       \u001b[39;49;00m\u001b[33m\"\u001b[39;49;00m\u001b[33mservice_orders_measurementbulletin\u001b[39;49;00m\u001b[33m\"\u001b[39;49;00m\u001b[34m.\u001b[39;49;00m\u001b[33m\"\u001b[39;49;00m\u001b[33mapproval_step_id\u001b[39;49;00m\u001b[33m\"\u001b[39;49;00m,\u001b[37m\u001b[39;49;00m\n",
      "\u001b[37m       \u001b[39;49;00m\u001b[33m\"\u001b[39;49;00m\u001b[33mservice_orders_measurementbulletin\u001b[39;49;00m\u001b[33m\"\u001b[39;49;00m\u001b[34m.\u001b[39;49;00m\u001b[33m\"\u001b[39;49;00m\u001b[33meditable\u001b[39;49;00m\u001b[33m\"\u001b[39;49;00m,\u001b[37m\u001b[39;49;00m\n",
      "\u001b[37m       \u001b[39;49;00m\u001b[33m\"\u001b[39;49;00m\u001b[33mservice_orders_measurementbulletin\u001b[39;49;00m\u001b[33m\"\u001b[39;49;00m\u001b[34m.\u001b[39;49;00m\u001b[33m\"\u001b[39;49;00m\u001b[33mperiod_starts_at\u001b[39;49;00m\u001b[33m\"\u001b[39;49;00m,\u001b[37m\u001b[39;49;00m\n",
      "\u001b[37m       \u001b[39;49;00m\u001b[33m\"\u001b[39;49;00m\u001b[33mservice_orders_measurementbulletin\u001b[39;49;00m\u001b[33m\"\u001b[39;49;00m\u001b[34m.\u001b[39;49;00m\u001b[33m\"\u001b[39;49;00m\u001b[33mperiod_ends_at\u001b[39;49;00m\u001b[33m\"\u001b[39;49;00m,\u001b[37m\u001b[39;49;00m\n",
      "\u001b[37m       \u001b[39;49;00m\u001b[33m\"\u001b[39;49;00m\u001b[33mservice_orders_measurementbulletin\u001b[39;49;00m\u001b[33m\"\u001b[39;49;00m\u001b[34m.\u001b[39;49;00m\u001b[33m\"\u001b[39;49;00m\u001b[33mwork_day\u001b[39;49;00m\u001b[33m\"\u001b[39;49;00m\u001b[37m\u001b[39;49;00m\n",
      "\u001b[34mFROM\u001b[39;49;00m\u001b[37m \u001b[39;49;00m\u001b[33m\"\u001b[39;49;00m\u001b[33mservice_orders_measurementbulletin\u001b[39;49;00m\u001b[33m\"\u001b[39;49;00m\u001b[37m\u001b[39;49;00m\n",
      "\u001b[34mINNER\u001b[39;49;00m\u001b[37m \u001b[39;49;00m\u001b[34mJOIN\u001b[39;49;00m\u001b[37m \u001b[39;49;00m\u001b[33m\"\u001b[39;49;00m\u001b[33mresources_contract\u001b[39;49;00m\u001b[33m\"\u001b[39;49;00m\u001b[37m \u001b[39;49;00m\u001b[34mON\u001b[39;49;00m\u001b[37m \u001b[39;49;00m(\u001b[33m\"\u001b[39;49;00m\u001b[33mservice_orders_measurementbulletin\u001b[39;49;00m\u001b[33m\"\u001b[39;49;00m\u001b[34m.\u001b[39;49;00m\u001b[33m\"\u001b[39;49;00m\u001b[33mcontract_id\u001b[39;49;00m\u001b[33m\"\u001b[39;49;00m\u001b[37m \u001b[39;49;00m=\u001b[37m \u001b[39;49;00m\u001b[33m\"\u001b[39;49;00m\u001b[33mresources_contract\u001b[39;49;00m\u001b[33m\"\u001b[39;49;00m\u001b[34m.\u001b[39;49;00m\u001b[33m\"\u001b[39;49;00m\u001b[33muuid\u001b[39;49;00m\u001b[33m\"\u001b[39;49;00m)\u001b[37m\u001b[39;49;00m\n",
      "\u001b[34mINNER\u001b[39;49;00m\u001b[37m \u001b[39;49;00m\u001b[34mJOIN\u001b[39;49;00m\u001b[37m \u001b[39;49;00m\u001b[33m\"\u001b[39;49;00m\u001b[33mcompanies_subcompany\u001b[39;49;00m\u001b[33m\"\u001b[39;49;00m\u001b[37m \u001b[39;49;00m\u001b[34mON\u001b[39;49;00m\u001b[37m \u001b[39;49;00m(\u001b[33m\"\u001b[39;49;00m\u001b[33mresources_contract\u001b[39;49;00m\u001b[33m\"\u001b[39;49;00m\u001b[34m.\u001b[39;49;00m\u001b[33m\"\u001b[39;49;00m\u001b[33msubcompany_id\u001b[39;49;00m\u001b[33m\"\u001b[39;49;00m\u001b[37m \u001b[39;49;00m=\u001b[37m \u001b[39;49;00m\u001b[33m\"\u001b[39;49;00m\u001b[33mcompanies_subcompany\u001b[39;49;00m\u001b[33m\"\u001b[39;49;00m\u001b[34m.\u001b[39;49;00m\u001b[33m\"\u001b[39;49;00m\u001b[33muuid\u001b[39;49;00m\u001b[33m\"\u001b[39;49;00m)\u001b[37m\u001b[39;49;00m\n",
      "\u001b[34mINNER\u001b[39;49;00m\u001b[37m \u001b[39;49;00m\u001b[34mJOIN\u001b[39;49;00m\u001b[37m \u001b[39;49;00m\u001b[33m\"\u001b[39;49;00m\u001b[33mcompanies_company\u001b[39;49;00m\u001b[33m\"\u001b[39;49;00m\u001b[37m \u001b[39;49;00m\u001b[34mON\u001b[39;49;00m\u001b[37m \u001b[39;49;00m(\u001b[33m\"\u001b[39;49;00m\u001b[33mcompanies_subcompany\u001b[39;49;00m\u001b[33m\"\u001b[39;49;00m\u001b[34m.\u001b[39;49;00m\u001b[33m\"\u001b[39;49;00m\u001b[33mcompany_id\u001b[39;49;00m\u001b[33m\"\u001b[39;49;00m\u001b[37m \u001b[39;49;00m=\u001b[37m \u001b[39;49;00m\u001b[33m\"\u001b[39;49;00m\u001b[33mcompanies_company\u001b[39;49;00m\u001b[33m\"\u001b[39;49;00m\u001b[34m.\u001b[39;49;00m\u001b[33m\"\u001b[39;49;00m\u001b[33muuid\u001b[39;49;00m\u001b[33m\"\u001b[39;49;00m)\u001b[37m\u001b[39;49;00m\n",
      "\u001b[34mWHERE\u001b[39;49;00m\u001b[37m \u001b[39;49;00m(\u001b[33m\"\u001b[39;49;00m\u001b[33mcompanies_company\u001b[39;49;00m\u001b[33m\"\u001b[39;49;00m\u001b[34m.\u001b[39;49;00m\u001b[33m\"\u001b[39;49;00m\u001b[33mname\u001b[39;49;00m\u001b[33m\"\u001b[39;49;00m\u001b[37m \u001b[39;49;00m=\u001b[37m \u001b[39;49;00mArteris\u001b[37m \u001b[39;49;00mLitoral\u001b[37m \u001b[39;49;00mSul\u001b[37m \u001b[39;49;00m-\u001b[37m \u001b[39;49;00mConserva\u001b[37m\u001b[39;49;00m\n",
      "\u001b[37m       \u001b[39;49;00m\u001b[34mAND\u001b[39;49;00m\u001b[37m \u001b[39;49;00m\u001b[33m\"\u001b[39;49;00m\u001b[33mservice_orders_measurementbulletin\u001b[39;49;00m\u001b[33m\"\u001b[39;49;00m\u001b[34m.\u001b[39;49;00m\u001b[33m\"\u001b[39;49;00m\u001b[33mnumber\u001b[39;49;00m\u001b[33m\"\u001b[39;49;00m\u001b[37m \u001b[39;49;00m=\u001b[37m \u001b[39;49;00mALS-BM-\u001b[34m2024.4\u001b[39;49;00m)\u001b[37m\u001b[39;49;00m\n",
      "\n"
     ]
    }
   ],
   "source": [
    "print_sql(mb)"
   ]
  },
  {
   "cell_type": "code",
   "execution_count": null,
   "id": "89eb75b9",
   "metadata": {},
   "outputs": [],
   "source": []
  }
 ],
 "metadata": {
  "kernelspec": {
   "display_name": "Django Shell-Plus",
   "language": "python",
   "name": "django_extensions"
  },
  "language_info": {
   "codemirror_mode": {
    "name": "ipython",
    "version": 3
   },
   "file_extension": ".py",
   "mimetype": "text/x-python",
   "name": "python",
   "nbconvert_exporter": "python",
   "pygments_lexer": "ipython3",
   "version": "3.8.16"
  }
 },
 "nbformat": 4,
 "nbformat_minor": 5
}
