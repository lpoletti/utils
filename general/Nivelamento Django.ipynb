{
 "cells": [
  {
   "cell_type": "markdown",
   "id": "76939646",
   "metadata": {},
   "source": [
    "# O Django é um framework web de alto nível, escrito em Python, que permite o desenvolvimento rápido e limpo de aplicações web. Aqui estão os principais pontos sobre o Django:"
   ]
  },
  {
   "cell_type": "markdown",
   "id": "f3ad78f2",
   "metadata": {},
   "source": [
    "Estrutura MVC: O Django segue o padrão de arquitetura Model-View-Controller (MVC), facilitando a separação entre a lógica de negócios, a apresentação e a manipulação de dados."
   ]
  },
  {
   "cell_type": "markdown",
   "id": "e4c9dbe1",
   "metadata": {},
   "source": [
    "ORM Integrado: O Django inclui um Object-Relational Mapping (ORM) que permite aos desenvolvedores interagir com o banco de dados usando objetos Python, em vez de escrever SQL manualmente. Nosso famoso CRUD é feito pelo objetos em Python."
   ]
  },
  {
   "cell_type": "markdown",
   "id": "dc11810b",
   "metadata": {},
   "source": [
    "Administração Automatizada: O Django oferece uma interface de administração pronta para uso, que permite gerenciar modelos de dados, usuários, grupos e permissões."
   ]
  },
  {
   "cell_type": "markdown",
   "id": "1c297228",
   "metadata": {},
   "source": [
    "Segurança e Autenticação: O framework possui recursos integrados para autenticação de usuários, proteção contra ataques de injeção de SQL e gerenciamento de cookies."
   ]
  },
  {
   "cell_type": "markdown",
   "id": "7e7fe231",
   "metadata": {},
   "source": [
    "# Documentação Django\n",
    "https://docs.djangoproject.com/en/5.0/"
   ]
  },
  {
   "cell_type": "markdown",
   "id": "a5e08bee",
   "metadata": {},
   "source": [
    "# 1. Principais modelos da Kartado."
   ]
  },
  {
   "cell_type": "raw",
   "id": "eb0d3026",
   "metadata": {},
   "source": [
    "# Exemplos de alguns modelos populares, existe uma infinidade deles :)\n",
    "\n",
    "Company,Reporting,MultipleDailyReport,ApprovalStep,OccurrenceType,Contract"
   ]
  },
  {
   "cell_type": "markdown",
   "id": "88b24a30",
   "metadata": {},
   "source": [
    "# 2. Consultas utilizando Modelo Django"
   ]
  },
  {
   "cell_type": "code",
   "execution_count": 29,
   "id": "b10fe84b",
   "metadata": {},
   "outputs": [
    {
     "data": {
      "text/plain": [
       "<QuerySet [<Company: f0b6948c-3d75-47dd-94a6-4b8ea4373ce4: Demo Concessionárias>, <Company: 52bf5f0c-7d75-4081-8616-06e0b43dee29: Arteris Litoral Sul - Conserva>, <Company: 433c0cd2-80e2-46c9-b8c5-030fc61070e5: Arteris Via Paulista>, <Company: ec364a8e-b335-4729-8ac8-50ccabd73459: Arteris Via Paulista - Faixa de Domínio>, <Company: 22b051ef-d318-4cba-a8ca-77f252fee3af: Arteris Fluminense>, <Company: a0fdb4a5-498d-4c1e-9858-ad118e9ece76: Arteris Fernão Dias>, <Company: acd47ed7-4f96-4a27-b6a3-268b4e30779b: Arteris Planalto Sul>, <Company: 755f394f-475f-420f-bb4a-e33c5ae754ef: Arteris Planalto Sul - Conserva Teste>, <Company: b6d9e6b7-c290-4dfc-8902-12d007237f07: Eixo SP - Demonstração>, <Company: b8450161-14d1-4de8-b254-7d1ddc4a9c20: Arteris Intervias>, <Company: 5ba625c8-35ee-4f92-bbdb-8c74d1ce7d00: Arteris Litoral Sul - Faixa de Domínio>, <Company: d0fac1b3-8fa7-4251-be6d-9ee603a4a421: Arteris Fluminense - Conserva>, <Company: f08f7f12-ddb0-4ad4-b274-961ba16da48a: Arteris Régis Bittencourt Lab>, <Company: 9763a1c5-3be6-4ddb-90bc-e6b96cc60b8d: Arteris Litoral Sul>, <Company: d8ad38eb-91bf-4482-b5c8-7f3c6341c65e: Arteris Via Paulista - SISOBRAS/SISQUALI>, <Company: 9060b81c-9113-439c-b278-1c9df9fd9c0e: Arteris Litoral Sul Lab>, <Company: 5741c7e7-f5ec-489a-a11d-daa935053277: Arteris Planalto Sul - Con>, <Company: 57daa1f5-ac75-4a6f-be14-18694a25fdc4: Arteris Régis Bittencourt - Conserva>, <Company: 31938021-6b32-461b-821c-4759a5016441: Arteris Fernão Dias - Conserva>, <Company: 5fe09687-e797-4d8e-a169-a3d27fa16611: Arteris Planalto Sul - Conserva>, '...(remaining elements truncated)...']>"
      ]
     },
     "execution_count": 29,
     "metadata": {},
     "output_type": "execute_result"
    }
   ],
   "source": [
    "# Company.objects.all() # all() traz todos os dados cadastrados naquele modelo\n",
    "# Company.objects.first() # first() traz o primeiro item da consulta\n",
    "# Company.objects.last() # last() traz o ultimo item da consulta\n",
    "# Company.objects.values('name')\n",
    "# list(Company.objects.values_list('name',flat=True).order_by('name'))\n",
    "Company.objects.filter(company_group__name__icontains=\"arteris\")"
   ]
  },
  {
   "cell_type": "markdown",
   "id": "7e6342bf",
   "metadata": {},
   "source": [
    "# 3. Como saber alguns dos campos possiveis de consultar dentro desses modelos"
   ]
  },
  {
   "cell_type": "code",
   "execution_count": 21,
   "id": "510496ee",
   "metadata": {},
   "outputs": [
    {
     "data": {
      "text/plain": [
       "(<django.db.models.fields.UUIDField: uuid>,\n",
       " <django.db.models.fields.CharField: name>,\n",
       " <django.db.models.fields.BooleanField: active>,\n",
       " <django.db.models.fields.related.ForeignKey: owner>,\n",
       " <django.db.models.fields.CharField: cnpj>,\n",
       " <django.db.models.fields.files.FileField: logo>,\n",
       " <django.db.models.fields.files.FileField: provider_logo>,\n",
       " <django.db.models.fields.related.ForeignKey: company_group>,\n",
       " <django.db.models.fields.CharField: street_address>,\n",
       " <django.contrib.postgres.fields.jsonb.JSONField: custom_options>,\n",
       " <django.contrib.postgres.fields.jsonb.JSONField: metadata>,\n",
       " <django.contrib.gis.db.models.fields.MultiPolygonField: shape>,\n",
       " <django.db.models.fields.CharField: mobile_app_override>)"
      ]
     },
     "execution_count": 21,
     "metadata": {},
     "output_type": "execute_result"
    }
   ],
   "source": [
    "Company._meta.fields"
   ]
  },
  {
   "cell_type": "code",
   "execution_count": 30,
   "id": "a0e905af",
   "metadata": {
    "scrolled": true
   },
   "outputs": [
    {
     "ename": "FieldError",
     "evalue": "Cannot resolve keyword 'saijdfnsafuins' into field. Choices are: accessrequest, active, additional_controls, cnpj, company_approval_flows, company_collects, company_construction_plants, company_constructions, company_daily_report_equipment, company_daily_report_signaling, company_daily_report_vehicles, company_daily_report_workers, company_dailyreports, company_dashboards, company_data_series, company_email_events, company_emails, company_equipment, company_export_requests, company_external_teams, company_firms, company_goal, company_group, company_group_id, company_jobasyncbatchs, company_log, company_logs, company_material_items, company_measurement, company_multipledailyreports, company_pending_procedures_exports, company_pushs, company_quality_assays, company_quality_samples, company_record_panels, company_reportinginreportingasyncbatchs, company_roads, company_service, company_specs, company_status_specs, company_subcompanies, company_syncs, company_table_data_series, company_tables, company_todos, company_user_notice_views, csv_imports, custom_options, entity, excel_imports, integrations, job, key_users, location, logo, metadata, mobile_app_override, monitoringplan, monitoringrecord, name, occurrence_type_companies, occurrencerecord, owner, owner_id, pdf_imports, permission_companies, provider_logo, registration_companies, reporting, reportingrelation, resource, river, search_tags, searchtagoccurrencetype, serviceorder, shape, shape_files, status_company, street_address, template_companies, tile_layers, userincompany, usernotification, users, uuid, workplan",
     "output_type": "error",
     "traceback": [
      "\u001b[0;31m---------------------------------------------------------------------------\u001b[0m",
      "\u001b[0;31mFieldError\u001b[0m                                Traceback (most recent call last)",
      "\u001b[0;32m/tmp/ipykernel_1274/1878967938.py\u001b[0m in \u001b[0;36m<cell line: 1>\u001b[0;34m()\u001b[0m\n\u001b[0;32m----> 1\u001b[0;31m \u001b[0mCompany\u001b[0m\u001b[0;34m.\u001b[0m\u001b[0mobjects\u001b[0m\u001b[0;34m.\u001b[0m\u001b[0mfilter\u001b[0m\u001b[0;34m(\u001b[0m\u001b[0msaijdfnsafuins\u001b[0m\u001b[0;34m=\u001b[0m\u001b[0;34m'qualquercoisa'\u001b[0m\u001b[0;34m)\u001b[0m\u001b[0;34m\u001b[0m\u001b[0;34m\u001b[0m\u001b[0m\n\u001b[0m",
      "\u001b[0;32m~/.cache/pypoetry/virtualenvs/apps-ZFymp6kh-py3.8/lib/python3.8/site-packages/django/db/models/manager.py\u001b[0m in \u001b[0;36mmanager_method\u001b[0;34m(self, *args, **kwargs)\u001b[0m\n\u001b[1;32m     80\u001b[0m         \u001b[0;32mdef\u001b[0m \u001b[0mcreate_method\u001b[0m\u001b[0;34m(\u001b[0m\u001b[0mname\u001b[0m\u001b[0;34m,\u001b[0m \u001b[0mmethod\u001b[0m\u001b[0;34m)\u001b[0m\u001b[0;34m:\u001b[0m\u001b[0;34m\u001b[0m\u001b[0;34m\u001b[0m\u001b[0m\n\u001b[1;32m     81\u001b[0m             \u001b[0;32mdef\u001b[0m \u001b[0mmanager_method\u001b[0m\u001b[0;34m(\u001b[0m\u001b[0mself\u001b[0m\u001b[0;34m,\u001b[0m \u001b[0;34m*\u001b[0m\u001b[0margs\u001b[0m\u001b[0;34m,\u001b[0m \u001b[0;34m**\u001b[0m\u001b[0mkwargs\u001b[0m\u001b[0;34m)\u001b[0m\u001b[0;34m:\u001b[0m\u001b[0;34m\u001b[0m\u001b[0;34m\u001b[0m\u001b[0m\n\u001b[0;32m---> 82\u001b[0;31m                 \u001b[0;32mreturn\u001b[0m \u001b[0mgetattr\u001b[0m\u001b[0;34m(\u001b[0m\u001b[0mself\u001b[0m\u001b[0;34m.\u001b[0m\u001b[0mget_queryset\u001b[0m\u001b[0;34m(\u001b[0m\u001b[0;34m)\u001b[0m\u001b[0;34m,\u001b[0m \u001b[0mname\u001b[0m\u001b[0;34m)\u001b[0m\u001b[0;34m(\u001b[0m\u001b[0;34m*\u001b[0m\u001b[0margs\u001b[0m\u001b[0;34m,\u001b[0m \u001b[0;34m**\u001b[0m\u001b[0mkwargs\u001b[0m\u001b[0;34m)\u001b[0m\u001b[0;34m\u001b[0m\u001b[0;34m\u001b[0m\u001b[0m\n\u001b[0m\u001b[1;32m     83\u001b[0m             \u001b[0mmanager_method\u001b[0m\u001b[0;34m.\u001b[0m\u001b[0m__name__\u001b[0m \u001b[0;34m=\u001b[0m \u001b[0mmethod\u001b[0m\u001b[0;34m.\u001b[0m\u001b[0m__name__\u001b[0m\u001b[0;34m\u001b[0m\u001b[0;34m\u001b[0m\u001b[0m\n\u001b[1;32m     84\u001b[0m             \u001b[0mmanager_method\u001b[0m\u001b[0;34m.\u001b[0m\u001b[0m__doc__\u001b[0m \u001b[0;34m=\u001b[0m \u001b[0mmethod\u001b[0m\u001b[0;34m.\u001b[0m\u001b[0m__doc__\u001b[0m\u001b[0;34m\u001b[0m\u001b[0;34m\u001b[0m\u001b[0m\n",
      "\u001b[0;32m~/.cache/pypoetry/virtualenvs/apps-ZFymp6kh-py3.8/lib/python3.8/site-packages/django/db/models/query.py\u001b[0m in \u001b[0;36mfilter\u001b[0;34m(self, *args, **kwargs)\u001b[0m\n\u001b[1;32m    890\u001b[0m         \u001b[0mset\u001b[0m\u001b[0;34m.\u001b[0m\u001b[0;34m\u001b[0m\u001b[0;34m\u001b[0m\u001b[0m\n\u001b[1;32m    891\u001b[0m         \"\"\"\n\u001b[0;32m--> 892\u001b[0;31m         \u001b[0;32mreturn\u001b[0m \u001b[0mself\u001b[0m\u001b[0;34m.\u001b[0m\u001b[0m_filter_or_exclude\u001b[0m\u001b[0;34m(\u001b[0m\u001b[0;32mFalse\u001b[0m\u001b[0;34m,\u001b[0m \u001b[0;34m*\u001b[0m\u001b[0margs\u001b[0m\u001b[0;34m,\u001b[0m \u001b[0;34m**\u001b[0m\u001b[0mkwargs\u001b[0m\u001b[0;34m)\u001b[0m\u001b[0;34m\u001b[0m\u001b[0;34m\u001b[0m\u001b[0m\n\u001b[0m\u001b[1;32m    893\u001b[0m \u001b[0;34m\u001b[0m\u001b[0m\n\u001b[1;32m    894\u001b[0m     \u001b[0;32mdef\u001b[0m \u001b[0mexclude\u001b[0m\u001b[0;34m(\u001b[0m\u001b[0mself\u001b[0m\u001b[0;34m,\u001b[0m \u001b[0;34m*\u001b[0m\u001b[0margs\u001b[0m\u001b[0;34m,\u001b[0m \u001b[0;34m**\u001b[0m\u001b[0mkwargs\u001b[0m\u001b[0;34m)\u001b[0m\u001b[0;34m:\u001b[0m\u001b[0;34m\u001b[0m\u001b[0;34m\u001b[0m\u001b[0m\n",
      "\u001b[0;32m~/.cache/pypoetry/virtualenvs/apps-ZFymp6kh-py3.8/lib/python3.8/site-packages/django/db/models/query.py\u001b[0m in \u001b[0;36m_filter_or_exclude\u001b[0;34m(self, negate, *args, **kwargs)\u001b[0m\n\u001b[1;32m    908\u001b[0m             \u001b[0mclone\u001b[0m\u001b[0;34m.\u001b[0m\u001b[0mquery\u001b[0m\u001b[0;34m.\u001b[0m\u001b[0madd_q\u001b[0m\u001b[0;34m(\u001b[0m\u001b[0;34m~\u001b[0m\u001b[0mQ\u001b[0m\u001b[0;34m(\u001b[0m\u001b[0;34m*\u001b[0m\u001b[0margs\u001b[0m\u001b[0;34m,\u001b[0m \u001b[0;34m**\u001b[0m\u001b[0mkwargs\u001b[0m\u001b[0;34m)\u001b[0m\u001b[0;34m)\u001b[0m\u001b[0;34m\u001b[0m\u001b[0;34m\u001b[0m\u001b[0m\n\u001b[1;32m    909\u001b[0m         \u001b[0;32melse\u001b[0m\u001b[0;34m:\u001b[0m\u001b[0;34m\u001b[0m\u001b[0;34m\u001b[0m\u001b[0m\n\u001b[0;32m--> 910\u001b[0;31m             \u001b[0mclone\u001b[0m\u001b[0;34m.\u001b[0m\u001b[0mquery\u001b[0m\u001b[0;34m.\u001b[0m\u001b[0madd_q\u001b[0m\u001b[0;34m(\u001b[0m\u001b[0mQ\u001b[0m\u001b[0;34m(\u001b[0m\u001b[0;34m*\u001b[0m\u001b[0margs\u001b[0m\u001b[0;34m,\u001b[0m \u001b[0;34m**\u001b[0m\u001b[0mkwargs\u001b[0m\u001b[0;34m)\u001b[0m\u001b[0;34m)\u001b[0m\u001b[0;34m\u001b[0m\u001b[0;34m\u001b[0m\u001b[0m\n\u001b[0m\u001b[1;32m    911\u001b[0m         \u001b[0;32mreturn\u001b[0m \u001b[0mclone\u001b[0m\u001b[0;34m\u001b[0m\u001b[0;34m\u001b[0m\u001b[0m\n\u001b[1;32m    912\u001b[0m \u001b[0;34m\u001b[0m\u001b[0m\n",
      "\u001b[0;32m~/.cache/pypoetry/virtualenvs/apps-ZFymp6kh-py3.8/lib/python3.8/site-packages/django/db/models/sql/query.py\u001b[0m in \u001b[0;36madd_q\u001b[0;34m(self, q_object)\u001b[0m\n\u001b[1;32m   1311\u001b[0m         \u001b[0;31m# So, demotion is OK.\u001b[0m\u001b[0;34m\u001b[0m\u001b[0;34m\u001b[0m\u001b[0;34m\u001b[0m\u001b[0m\n\u001b[1;32m   1312\u001b[0m         \u001b[0mexisting_inner\u001b[0m \u001b[0;34m=\u001b[0m \u001b[0;34m{\u001b[0m\u001b[0ma\u001b[0m \u001b[0;32mfor\u001b[0m \u001b[0ma\u001b[0m \u001b[0;32min\u001b[0m \u001b[0mself\u001b[0m\u001b[0;34m.\u001b[0m\u001b[0malias_map\u001b[0m \u001b[0;32mif\u001b[0m \u001b[0mself\u001b[0m\u001b[0;34m.\u001b[0m\u001b[0malias_map\u001b[0m\u001b[0;34m[\u001b[0m\u001b[0ma\u001b[0m\u001b[0;34m]\u001b[0m\u001b[0;34m.\u001b[0m\u001b[0mjoin_type\u001b[0m \u001b[0;34m==\u001b[0m \u001b[0mINNER\u001b[0m\u001b[0;34m}\u001b[0m\u001b[0;34m\u001b[0m\u001b[0;34m\u001b[0m\u001b[0m\n\u001b[0;32m-> 1313\u001b[0;31m         \u001b[0mclause\u001b[0m\u001b[0;34m,\u001b[0m \u001b[0m_\u001b[0m \u001b[0;34m=\u001b[0m \u001b[0mself\u001b[0m\u001b[0;34m.\u001b[0m\u001b[0m_add_q\u001b[0m\u001b[0;34m(\u001b[0m\u001b[0mq_object\u001b[0m\u001b[0;34m,\u001b[0m \u001b[0mself\u001b[0m\u001b[0;34m.\u001b[0m\u001b[0mused_aliases\u001b[0m\u001b[0;34m)\u001b[0m\u001b[0;34m\u001b[0m\u001b[0;34m\u001b[0m\u001b[0m\n\u001b[0m\u001b[1;32m   1314\u001b[0m         \u001b[0;32mif\u001b[0m \u001b[0mclause\u001b[0m\u001b[0;34m:\u001b[0m\u001b[0;34m\u001b[0m\u001b[0;34m\u001b[0m\u001b[0m\n\u001b[1;32m   1315\u001b[0m             \u001b[0mself\u001b[0m\u001b[0;34m.\u001b[0m\u001b[0mwhere\u001b[0m\u001b[0;34m.\u001b[0m\u001b[0madd\u001b[0m\u001b[0;34m(\u001b[0m\u001b[0mclause\u001b[0m\u001b[0;34m,\u001b[0m \u001b[0mAND\u001b[0m\u001b[0;34m)\u001b[0m\u001b[0;34m\u001b[0m\u001b[0;34m\u001b[0m\u001b[0m\n",
      "\u001b[0;32m~/.cache/pypoetry/virtualenvs/apps-ZFymp6kh-py3.8/lib/python3.8/site-packages/django/db/models/sql/query.py\u001b[0m in \u001b[0;36m_add_q\u001b[0;34m(self, q_object, used_aliases, branch_negated, current_negated, allow_joins, split_subq, simple_col)\u001b[0m\n\u001b[1;32m   1336\u001b[0m                 \u001b[0mjoinpromoter\u001b[0m\u001b[0;34m.\u001b[0m\u001b[0madd_votes\u001b[0m\u001b[0;34m(\u001b[0m\u001b[0mneeded_inner\u001b[0m\u001b[0;34m)\u001b[0m\u001b[0;34m\u001b[0m\u001b[0;34m\u001b[0m\u001b[0m\n\u001b[1;32m   1337\u001b[0m             \u001b[0;32melse\u001b[0m\u001b[0;34m:\u001b[0m\u001b[0;34m\u001b[0m\u001b[0;34m\u001b[0m\u001b[0m\n\u001b[0;32m-> 1338\u001b[0;31m                 child_clause, needed_inner = self.build_filter(\n\u001b[0m\u001b[1;32m   1339\u001b[0m                     \u001b[0mchild\u001b[0m\u001b[0;34m,\u001b[0m \u001b[0mcan_reuse\u001b[0m\u001b[0;34m=\u001b[0m\u001b[0mused_aliases\u001b[0m\u001b[0;34m,\u001b[0m \u001b[0mbranch_negated\u001b[0m\u001b[0;34m=\u001b[0m\u001b[0mbranch_negated\u001b[0m\u001b[0;34m,\u001b[0m\u001b[0;34m\u001b[0m\u001b[0;34m\u001b[0m\u001b[0m\n\u001b[1;32m   1340\u001b[0m                     \u001b[0mcurrent_negated\u001b[0m\u001b[0;34m=\u001b[0m\u001b[0mcurrent_negated\u001b[0m\u001b[0;34m,\u001b[0m \u001b[0mallow_joins\u001b[0m\u001b[0;34m=\u001b[0m\u001b[0mallow_joins\u001b[0m\u001b[0;34m,\u001b[0m\u001b[0;34m\u001b[0m\u001b[0;34m\u001b[0m\u001b[0m\n",
      "\u001b[0;32m~/.cache/pypoetry/virtualenvs/apps-ZFymp6kh-py3.8/lib/python3.8/site-packages/django/db/models/sql/query.py\u001b[0m in \u001b[0;36mbuild_filter\u001b[0;34m(self, filter_expr, branch_negated, current_negated, can_reuse, allow_joins, split_subq, reuse_with_filtered_relation, simple_col)\u001b[0m\n\u001b[1;32m   1211\u001b[0m         \u001b[0;32mif\u001b[0m \u001b[0;32mnot\u001b[0m \u001b[0marg\u001b[0m\u001b[0;34m:\u001b[0m\u001b[0;34m\u001b[0m\u001b[0;34m\u001b[0m\u001b[0m\n\u001b[1;32m   1212\u001b[0m             \u001b[0;32mraise\u001b[0m \u001b[0mFieldError\u001b[0m\u001b[0;34m(\u001b[0m\u001b[0;34m\"Cannot parse keyword query %r\"\u001b[0m \u001b[0;34m%\u001b[0m \u001b[0marg\u001b[0m\u001b[0;34m)\u001b[0m\u001b[0;34m\u001b[0m\u001b[0;34m\u001b[0m\u001b[0m\n\u001b[0;32m-> 1213\u001b[0;31m         \u001b[0mlookups\u001b[0m\u001b[0;34m,\u001b[0m \u001b[0mparts\u001b[0m\u001b[0;34m,\u001b[0m \u001b[0mreffed_expression\u001b[0m \u001b[0;34m=\u001b[0m \u001b[0mself\u001b[0m\u001b[0;34m.\u001b[0m\u001b[0msolve_lookup_type\u001b[0m\u001b[0;34m(\u001b[0m\u001b[0marg\u001b[0m\u001b[0;34m)\u001b[0m\u001b[0;34m\u001b[0m\u001b[0;34m\u001b[0m\u001b[0m\n\u001b[0m\u001b[1;32m   1214\u001b[0m \u001b[0;34m\u001b[0m\u001b[0m\n\u001b[1;32m   1215\u001b[0m         \u001b[0;32mif\u001b[0m \u001b[0;32mnot\u001b[0m \u001b[0mgetattr\u001b[0m\u001b[0;34m(\u001b[0m\u001b[0mreffed_expression\u001b[0m\u001b[0;34m,\u001b[0m \u001b[0;34m'filterable'\u001b[0m\u001b[0;34m,\u001b[0m \u001b[0;32mTrue\u001b[0m\u001b[0;34m)\u001b[0m\u001b[0;34m:\u001b[0m\u001b[0;34m\u001b[0m\u001b[0;34m\u001b[0m\u001b[0m\n",
      "\u001b[0;32m~/.cache/pypoetry/virtualenvs/apps-ZFymp6kh-py3.8/lib/python3.8/site-packages/django/db/models/sql/query.py\u001b[0m in \u001b[0;36msolve_lookup_type\u001b[0;34m(self, lookup)\u001b[0m\n\u001b[1;32m   1070\u001b[0m             \u001b[0;32mif\u001b[0m \u001b[0mexpression\u001b[0m\u001b[0;34m:\u001b[0m\u001b[0;34m\u001b[0m\u001b[0;34m\u001b[0m\u001b[0m\n\u001b[1;32m   1071\u001b[0m                 \u001b[0;32mreturn\u001b[0m \u001b[0mexpression_lookups\u001b[0m\u001b[0;34m,\u001b[0m \u001b[0;34m(\u001b[0m\u001b[0;34m)\u001b[0m\u001b[0;34m,\u001b[0m \u001b[0mexpression\u001b[0m\u001b[0;34m\u001b[0m\u001b[0;34m\u001b[0m\u001b[0m\n\u001b[0;32m-> 1072\u001b[0;31m         \u001b[0m_\u001b[0m\u001b[0;34m,\u001b[0m \u001b[0mfield\u001b[0m\u001b[0;34m,\u001b[0m \u001b[0m_\u001b[0m\u001b[0;34m,\u001b[0m \u001b[0mlookup_parts\u001b[0m \u001b[0;34m=\u001b[0m \u001b[0mself\u001b[0m\u001b[0;34m.\u001b[0m\u001b[0mnames_to_path\u001b[0m\u001b[0;34m(\u001b[0m\u001b[0mlookup_splitted\u001b[0m\u001b[0;34m,\u001b[0m \u001b[0mself\u001b[0m\u001b[0;34m.\u001b[0m\u001b[0mget_meta\u001b[0m\u001b[0;34m(\u001b[0m\u001b[0;34m)\u001b[0m\u001b[0;34m)\u001b[0m\u001b[0;34m\u001b[0m\u001b[0;34m\u001b[0m\u001b[0m\n\u001b[0m\u001b[1;32m   1073\u001b[0m         \u001b[0mfield_parts\u001b[0m \u001b[0;34m=\u001b[0m \u001b[0mlookup_splitted\u001b[0m\u001b[0;34m[\u001b[0m\u001b[0;36m0\u001b[0m\u001b[0;34m:\u001b[0m\u001b[0mlen\u001b[0m\u001b[0;34m(\u001b[0m\u001b[0mlookup_splitted\u001b[0m\u001b[0;34m)\u001b[0m \u001b[0;34m-\u001b[0m \u001b[0mlen\u001b[0m\u001b[0;34m(\u001b[0m\u001b[0mlookup_parts\u001b[0m\u001b[0;34m)\u001b[0m\u001b[0;34m]\u001b[0m\u001b[0;34m\u001b[0m\u001b[0;34m\u001b[0m\u001b[0m\n\u001b[1;32m   1074\u001b[0m         \u001b[0;32mif\u001b[0m \u001b[0mlen\u001b[0m\u001b[0;34m(\u001b[0m\u001b[0mlookup_parts\u001b[0m\u001b[0;34m)\u001b[0m \u001b[0;34m>\u001b[0m \u001b[0;36m1\u001b[0m \u001b[0;32mand\u001b[0m \u001b[0;32mnot\u001b[0m \u001b[0mfield_parts\u001b[0m\u001b[0;34m:\u001b[0m\u001b[0;34m\u001b[0m\u001b[0;34m\u001b[0m\u001b[0m\n",
      "\u001b[0;32m~/.cache/pypoetry/virtualenvs/apps-ZFymp6kh-py3.8/lib/python3.8/site-packages/django/db/models/sql/query.py\u001b[0m in \u001b[0;36mnames_to_path\u001b[0;34m(self, names, opts, allow_many, fail_on_missing)\u001b[0m\n\u001b[1;32m   1440\u001b[0m                         \u001b[0;34m*\u001b[0m\u001b[0mself\u001b[0m\u001b[0;34m.\u001b[0m\u001b[0m_filtered_relations\u001b[0m\u001b[0;34m,\u001b[0m\u001b[0;34m\u001b[0m\u001b[0;34m\u001b[0m\u001b[0m\n\u001b[1;32m   1441\u001b[0m                     ])\n\u001b[0;32m-> 1442\u001b[0;31m                     raise FieldError(\"Cannot resolve keyword '%s' into field. \"\n\u001b[0m\u001b[1;32m   1443\u001b[0m                                      \"Choices are: %s\" % (name, \", \".join(available)))\n\u001b[1;32m   1444\u001b[0m                 \u001b[0;32mbreak\u001b[0m\u001b[0;34m\u001b[0m\u001b[0;34m\u001b[0m\u001b[0m\n",
      "\u001b[0;31mFieldError\u001b[0m: Cannot resolve keyword 'saijdfnsafuins' into field. Choices are: accessrequest, active, additional_controls, cnpj, company_approval_flows, company_collects, company_construction_plants, company_constructions, company_daily_report_equipment, company_daily_report_signaling, company_daily_report_vehicles, company_daily_report_workers, company_dailyreports, company_dashboards, company_data_series, company_email_events, company_emails, company_equipment, company_export_requests, company_external_teams, company_firms, company_goal, company_group, company_group_id, company_jobasyncbatchs, company_log, company_logs, company_material_items, company_measurement, company_multipledailyreports, company_pending_procedures_exports, company_pushs, company_quality_assays, company_quality_samples, company_record_panels, company_reportinginreportingasyncbatchs, company_roads, company_service, company_specs, company_status_specs, company_subcompanies, company_syncs, company_table_data_series, company_tables, company_todos, company_user_notice_views, csv_imports, custom_options, entity, excel_imports, integrations, job, key_users, location, logo, metadata, mobile_app_override, monitoringplan, monitoringrecord, name, occurrence_type_companies, occurrencerecord, owner, owner_id, pdf_imports, permission_companies, provider_logo, registration_companies, reporting, reportingrelation, resource, river, search_tags, searchtagoccurrencetype, serviceorder, shape, shape_files, status_company, street_address, template_companies, tile_layers, userincompany, usernotification, users, uuid, workplan"
     ]
    }
   ],
   "source": [
    "Company.objects.filter(saijdfnsafuins='qualquercoisa')"
   ]
  },
  {
   "cell_type": "markdown",
   "id": "fc23a4ef",
   "metadata": {},
   "source": [
    "# 4. Exemplos de consulta"
   ]
  },
  {
   "cell_type": "code",
   "execution_count": 33,
   "id": "91a7ab29",
   "metadata": {},
   "outputs": [
    {
     "name": "stdout",
     "output_type": "stream",
     "text": [
      "52bf5f0c-7d75-4081-8616-06e0b43dee29: Arteris Litoral Sul - Conserva\n",
      "<QuerySet [<Company: 52bf5f0c-7d75-4081-8616-06e0b43dee29: Arteris Litoral Sul - Conserva>]>\n"
     ]
    }
   ],
   "source": [
    "company=Company.objects.get(name='Arteris Litoral Sul - Conserva')\n",
    "company_filters = Company.objects.filter(name='Arteris Litoral Sul - Conserva')\n",
    "# company_filters = Company.objects.filter(name__icontains='Arteris')\n",
    "print(company)# O Objeto\n",
    "print(company_filters) # Lista de Objetos"
   ]
  },
  {
   "cell_type": "code",
   "execution_count": 39,
   "id": "a22ff235",
   "metadata": {},
   "outputs": [
    {
     "data": {
      "text/plain": [
       "0"
      ]
     },
     "execution_count": 39,
     "metadata": {},
     "output_type": "execute_result"
    }
   ],
   "source": [
    "# Exemplo de consulta de um modelo relacionado MultipleDailyReport\n",
    "company.company_multipledailyreports.filter(date__gte='2024-03-01',\n",
    "                                            date__lte='2024-03-08').count()"
   ]
  },
  {
   "cell_type": "code",
   "execution_count": 40,
   "id": "a7ff1f07",
   "metadata": {},
   "outputs": [
    {
     "data": {
      "text/plain": [
       "62"
      ]
     },
     "execution_count": 40,
     "metadata": {},
     "output_type": "execute_result"
    }
   ],
   "source": [
    "# Exemplo de consulta de um modelo relacionado Firm\n",
    "company.company_firms.count()"
   ]
  },
  {
   "cell_type": "code",
   "execution_count": 41,
   "id": "b81a7c7f",
   "metadata": {},
   "outputs": [
    {
     "data": {
      "text/plain": [
       "['BR101-SC', 'BR101-SC', 'BR116-PR', 'BR116-PR', 'BR376-PR', 'BR376-PR']"
      ]
     },
     "execution_count": 41,
     "metadata": {},
     "output_type": "execute_result"
    }
   ],
   "source": [
    "list(company.company_roads.values_list('name',flat=True))"
   ]
  },
  {
   "cell_type": "code",
   "execution_count": 42,
   "id": "fefa26d9",
   "metadata": {},
   "outputs": [
    {
     "data": {
      "text/plain": [
       "<QuerySet [{'name': 'Arteris Fernão Dias', 'qtd_rdo': 0}, {'name': 'Arteris Fernão Dias - Conserva', 'qtd_rdo': 5521}, {'name': 'Arteris Fluminense', 'qtd_rdo': 0}, {'name': 'Arteris Fluminense - Conserva', 'qtd_rdo': 2648}, {'name': 'Arteris Fluminense - Teste Segurança', 'qtd_rdo': 0}, {'name': 'Arteris Intervias', 'qtd_rdo': 329}, {'name': 'Arteris Litoral Sul', 'qtd_rdo': 0}, {'name': 'Arteris Litoral Sul - Conserva', 'qtd_rdo': 10657}, {'name': 'Arteris Litoral Sul - Faixa de Domínio', 'qtd_rdo': 0}, {'name': 'Arteris Litoral Sul Lab', 'qtd_rdo': 0}, {'name': 'Arteris Planalto Sul', 'qtd_rdo': 0}, {'name': 'Arteris Planalto Sul - Con', 'qtd_rdo': 0}, {'name': 'Arteris Planalto Sul - Conserva', 'qtd_rdo': 7450}, {'name': 'Arteris Planalto Sul - Conserva Teste', 'qtd_rdo': 0}, {'name': 'Arteris Planalto Sul - Faixa de Domínio', 'qtd_rdo': 0}, {'name': 'Arteris Planalto Sul Lab', 'qtd_rdo': 0}, {'name': 'Arteris Régis Bittencourt', 'qtd_rdo': 0}, {'name': 'Arteris Régis Bittencourt - Conserva', 'qtd_rdo': 4047}, {'name': 'Arteris Régis Bittencourt - Faixa de Domínio', 'qtd_rdo': 0}, {'name': 'Arteris Régis Bittencourt Lab', 'qtd_rdo': 0}, '...(remaining elements truncated)...']>"
      ]
     },
     "execution_count": 42,
     "metadata": {},
     "output_type": "execute_result"
    }
   ],
   "source": [
    "Company.objects.filter(\n",
    "                        name__icontains='arteris'\n",
    "                        ).values(\n",
    "                            'name'\n",
    "                            ).annotate(\n",
    "                                qtd_rdo=Count(\n",
    "                                    'company_multipledailyreports'\n",
    "                                )\n",
    "                            )"
   ]
  },
  {
   "cell_type": "code",
   "execution_count": 43,
   "id": "8f237087",
   "metadata": {},
   "outputs": [
    {
     "data": {
      "text/plain": [
       "{'uuid__count': 240}"
      ]
     },
     "execution_count": 43,
     "metadata": {},
     "output_type": "execute_result"
    }
   ],
   "source": [
    "Company.objects.aggregate(\n",
    "    Count('uuid')\n",
    ")"
   ]
  },
  {
   "cell_type": "code",
   "execution_count": 44,
   "id": "8829c9b1",
   "metadata": {},
   "outputs": [
    {
     "data": {
      "text/plain": [
       "<QuerySet [<Reporting: [LCM - Ituporanga] LCMItu-CE-2024.00014 - 2024-03-20 14:18:02.526000+00:00>, <Reporting: [Demo Concessionárias] DEMO-LV-2023.00033 - 2020-07-20 15:00:00+00:00>, <Reporting: [Demo Concessionárias] DEMO-LV-2023.00038 - 2020-07-20 15:00:00+00:00>, <Reporting: [Demo Concessionárias] DEMO-LV-2023.00031 - 2023-07-10 12:23:23.410000+00:00>, <Reporting: [Demo Concessionárias] DEMO-LV-2024.00010 - 2024-01-16 14:27:07.550000+00:00>, <Reporting: [Demo Concessionárias] DEMO-LV-2024.00009 - 2024-01-16 14:15:55.343000+00:00>, <Reporting: [Sinalizavia (Municípios)] SV-SinH-2023.00082 - 2023-12-06 12:10:40.401000+00:00>, <Reporting: [Sinalizavia (Municípios)] SV-SinH-2023.00083 - 2023-12-06 12:15:29.048000+00:00>, <Reporting: [Sinalizavia (Municípios)] SV-SinH-2023.00081 - 2023-12-06 12:07:06.399000+00:00>, <Reporting: [Eixo Sp - Pavimento] EIXO-default-2023.18592 - 2023-07-21 14:35:01.616000+00:00>, <Reporting: [Ambiente Teste] VPT-LV-2023.00001 - 2023-10-19 13:44:59.186000+00:00>, <Reporting: [CCR - Rio Sp] CCR-PAV-2023.00009 - 2023-05-22 18:41:24.997000+00:00>, <Reporting: [CCR - Rio Sp] CCR-OAE-2023.00007 - 2023-06-06 14:13:36.545000+00:00>, <Reporting: [CCR - Rio Sp] CCR-OAE-2023.00008 - 2023-05-19 17:50:21.109000+00:00>, <Reporting: [CCR - Rio Sp] CCR-OAE-2023.00003 - 2023-05-29 20:10:47.810000+00:00>, <Reporting: [CCR - Rio Sp] CCR-OAE-2023.00002 - 2023-05-26 17:37:25.184000+00:00>, <Reporting: [CCR - Rio Sp] CCR-OAE-2023.00001 - 2023-04-04 16:47:41.128000+00:00>, <Reporting: [CCR - Rio Sp] CCR-Inv-2023.00012 - 2023-04-06 19:14:47.179000+00:00>, <Reporting: [CCR - Rio Sp] CCR-Inv-2023.00011 - 2023-04-04 16:47:41.128000+00:00>, <Reporting: [CCR - Rio Sp] CCR-DEF-2023.00032 - 2023-05-23 01:11:48.223000+00:00>, '...(remaining elements truncated)...']>"
      ]
     },
     "execution_count": 44,
     "metadata": {},
     "output_type": "execute_result"
    }
   ],
   "source": [
    "Reporting.objects.filter(occurrence_type__isnull=True)"
   ]
  },
  {
   "cell_type": "markdown",
   "id": "c2ee2bfe",
   "metadata": {},
   "source": [
    "# 5. Alteração em massa Classes"
   ]
  },
  {
   "cell_type": "code",
   "execution_count": 53,
   "id": "a25efbd0",
   "metadata": {},
   "outputs": [
    {
     "data": {
      "text/plain": [
       "4"
      ]
     },
     "execution_count": 53,
     "metadata": {},
     "output_type": "execute_result"
    }
   ],
   "source": [
    "occs=OccurrenceType.objects.filter(name__icontains='Luan Classe Teste',\n",
    "                                   company__name='Demo Concessionárias')\n",
    "occs.count()"
   ]
  },
  {
   "cell_type": "code",
   "execution_count": 46,
   "id": "6cc5ae22",
   "metadata": {},
   "outputs": [],
   "source": [
    "from tqdm.notebook import tqdm"
   ]
  },
  {
   "cell_type": "code",
   "execution_count": 54,
   "id": "8cf2ce54",
   "metadata": {},
   "outputs": [
    {
     "data": {
      "application/vnd.jupyter.widget-view+json": {
       "model_id": "52096f606304430d86674ae31d324b33",
       "version_major": 2,
       "version_minor": 0
      },
      "text/plain": [
       "  0%|          | 0/4 [00:00<?, ?it/s]"
      ]
     },
     "metadata": {},
     "output_type": "display_data"
    }
   ],
   "source": [
    "\"\"\"\n",
    "Cuidados: Caso iterar sem salvar somente para verificar a alteração realizada, lembre-se de carregar as classes novamente,\n",
    "pois a consulta realizada anteriormente esta salva na memória e se isso não for feito os dados inseridos serão duplicados.\n",
    "\"\"\" \n",
    "for classe in tqdm(occs):\n",
    "    # Inclusão de campo na classe\n",
    "    size_fields=len(classe.form_fields['fields'])\n",
    "    classe.form_fields['fields'].append({'id':size_fields+1,\n",
    "                                        'displayName':'Campo de Nivelamento',\n",
    "                                        'dataType':'string',\n",
    "                                         'autofill': {\"if\": [{\"and\": [{\"==\": [{\"var\": \"roadName\"}, \"SP-249\"]}, {\">=\": [{\"var\": \"km\"}, 144.115]}, {\"<=\": [{\"var\": \"km\"}, 149.0]}]}, \"Coronel Macedo\", {\"and\": [{\"==\": [{\"var\": \"roadName\"}, \"SP-249\"]}, {\">=\": [{\"var\": \"km\"}, 149.0]}, {\"<=\": [{\"var\": \"km\"}, 159.0]}]}, \"Taquarituba\", {\"and\": [{\"==\": [{\"var\": \"roadName\"}, \"SP-255\"]}, {\">=\": [{\"var\": \"km\"}, 83.2]}, {\"<=\": [{\"var\": \"km\"}, 95.16]}]}, \"Araraquara\", {\"and\": [{\"==\": [{\"var\": \"roadName\"}, \"SP-255\"]}, {\">=\": [{\"var\": \"km\"}, 95.16]}, {\"<=\": [{\"var\": \"km\"}, 122.22]}]}, \"Boa Esperan\\u00e7a do Sul\", {\"and\": [{\"==\": [{\"var\": \"roadName\"}, \"SP-255\"]}, {\">=\": [{\"var\": \"km\"}, 122.22]}, {\"<=\": [{\"var\": \"km\"}, 124.02]}]}, \"Dourado\", {\"and\": [{\"==\": [{\"var\": \"roadName\"}, \"SP-255\"]}, {\">=\": [{\"var\": \"km\"}, 124.02]}, {\"<=\": [{\"var\": \"km\"}, 138.61]}]}, \"Bocaina\", {\"and\": [{\"==\": [{\"var\": \"roadName\"}, \"SP-255\"]}, {\">=\": [{\"var\": \"km\"}, 138.61]}, {\"<=\": [{\"var\": \"km\"}, 147.3]}]}, \"Ja\\u00fa\", {\"and\": [{\"==\": [{\"var\": \"roadName\"}, \"SP-255\"]}, {\">=\": [{\"var\": \"km\"}, 155.77]}, {\"<=\": [{\"var\": \"km\"}, 167.02]}]}, \"Ja\\u00fa\", {\"and\": [{\"==\": [{\"var\": \"roadName\"}, \"SP-255\"]}, {\">=\": [{\"var\": \"km\"}, 167.02]}, {\"<=\": [{\"var\": \"km\"}, 177.8]}]}, \"Barra Bonita\", {\"and\": [{\"==\": [{\"var\": \"roadName\"}, \"SP-255\"]}, {\">=\": [{\"var\": \"km\"}, 177.8]}, {\"<=\": [{\"var\": \"km\"}, 186.7]}]}, \"Igara\\u00e7u do Tiet\\u00ea\", {\"and\": [{\"==\": [{\"var\": \"roadName\"}, \"SP-255\"]}, {\">=\": [{\"var\": \"km\"}, 186.7]}, {\"<=\": [{\"var\": \"km\"}, 212.24]}]}, \"S\\u00e3o Manuel\", {\"and\": [{\"==\": [{\"var\": \"roadName\"}, \"SP-255\"]}, {\">=\": [{\"var\": \"km\"}, 212.24]}, {\"<=\": [{\"var\": \"km\"}, 225.83]}]}, \"Prat\\u00e2nia\", {\"and\": [{\"==\": [{\"var\": \"roadName\"}, \"SP-255\"]}, {\">=\": [{\"var\": \"km\"}, 225.83]}, {\"<=\": [{\"var\": \"km\"}, 237.06]}]}, \"Botucatu\", {\"and\": [{\"==\": [{\"var\": \"roadName\"}, \"SP-255\"]}, {\">=\": [{\"var\": \"km\"}, 237.06]}, {\"<=\": [{\"var\": \"km\"}, 237.77]}]}, \"Avar\\u00e9\", {\"and\": [{\"==\": [{\"var\": \"roadName\"}, \"SP-255\"]}, {\">=\": [{\"var\": \"km\"}, 288.19]}, {\"<=\": [{\"var\": \"km\"}, 309.04]}]}, \"Ita\\u00ed\", {\"and\": [{\"==\": [{\"var\": \"roadName\"}, \"SP-255\"]}, {\">=\": [{\"var\": \"km\"}, 309.04]}, {\"<=\": [{\"var\": \"km\"}, 320.0]}]}, \"Taquarituba\", {\"and\": [{\"==\": [{\"var\": \"roadName\"}, \"SP-255\"]}, {\">=\": [{\"var\": \"km\"}, 334.25]}, {\"<=\": [{\"var\": \"km\"}, 345.46]}]}, \"Coronel Macedo\", {\"and\": [{\"==\": [{\"var\": \"roadName\"}, \"SP-255\"]}, {\">=\": [{\"var\": \"km\"}, 345.46]}, {\"<=\": [{\"var\": \"km\"}, 357.5]}]}, \"Itaporanga\", {\"and\": [{\"==\": [{\"var\": \"roadName\"}, \"SP-281\"]}, {\">=\": [{\"var\": \"km\"}, 43.36]}, {\"<=\": [{\"var\": \"km\"}, 49.64]}]}, \"Riversul\", {\"and\": [{\"==\": [{\"var\": \"roadName\"}, \"SP-281\"]}, {\">=\": [{\"var\": \"km\"}, 49.64]}, {\"<=\": [{\"var\": \"km\"}, 67.72]}]}, \"Itaporanga\", {\"and\": [{\"==\": [{\"var\": \"roadName\"}, \"SP-281\"]}, {\">=\": [{\"var\": \"km\"}, 67.72]}, {\"<=\": [{\"var\": \"km\"}, 70.85]}]}, \"Bar\\u00e3o de Antonina\", {\"and\": [{\"==\": [{\"var\": \"roadName\"}, \"SP-304\"]}, {\">=\": [{\"var\": \"km\"}, 285.0]}, {\"<=\": [{\"var\": \"km\"}, 297.0]}]}, \"Ja\\u00fa\", {\"and\": [{\"==\": [{\"var\": \"roadName\"}, \"SPA-043/281\"]}, {\"<=\": [{\"var\": \"km\"}, 3.0]}]}, \"Riversul\", {\"and\": [{\"==\": [{\"var\": \"roadName\"}, \"SPA-085/255\"]}, {\"<=\": [{\"var\": \"km\"}, 1.115]}]}, \"Araraquara\", {\"and\": [{\"==\": [{\"var\": \"roadName\"}, \"SPA-106/255\"]}, {\"<=\": [{\"var\": \"km\"}, 7.25]}]}, \"Boa Esperan\\u00e7a do Sul\", {\"and\": [{\"==\": [{\"var\": \"roadName\"}, \"SPA-112/255\"]}, {\"<=\": [{\"var\": \"km\"}, 1.1]}]}, \"Boa Esperan\\u00e7a do Sul\", {\"and\": [{\"==\": [{\"var\": \"roadName\"}, \"SPA-114/255\"]}, {\"<=\": [{\"var\": \"km\"}, 1.0]}]}, \"Boa Esperan\\u00e7a do Sul\", {\"and\": [{\"==\": [{\"var\": \"roadName\"}, \"SPA-115/255\"]}, {\"<=\": [{\"var\": \"km\"}, 2.1]}]}, \"Boa Esperan\\u00e7a do Sul\", {\"and\": [{\"==\": [{\"var\": \"roadName\"}, \"SPA-115/255\"]}, {\">=\": [{\"var\": \"km\"}, 2.1]}, {\"<=\": [{\"var\": \"km\"}, 7.2]}]}, \"Trabiju\", {\"and\": [{\"==\": [{\"var\": \"roadName\"}, \"SPA-133/255\"]}, {\"<=\": [{\"var\": \"km\"}, 5.7]}]}, \"Bocaina\", {\"and\": [{\"==\": [{\"var\": \"roadName\"}, \"SPA-138/255\"]}, {\"<=\": [{\"var\": \"km\"}, 4.8]}]}, \"Bocaina\", {\"and\": [{\"==\": [{\"var\": \"roadName\"}, \"SPA-179/255\"]}, {\"<=\": [{\"var\": \"km\"}, 0.4]}]}, \"Igara\\u00e7u do Tiet\\u00ea\", {\"and\": [{\"==\": [{\"var\": \"roadName\"}, \"SPA-196/255\"]}, {\"<=\": [{\"var\": \"km\"}, 2.5]}]}, \"S\\u00e3o Manuel\", {\"and\": [{\"==\": [{\"var\": \"roadName\"}, \"SPA-198/255\"]}, {\"<=\": [{\"var\": \"km\"}, 5.7]}]}, \"S\\u00e3o Manuel\", {\"and\": [{\"==\": [{\"var\": \"roadName\"}, \"SPA-214/255\"]}, {\"<=\": [{\"var\": \"km\"}, 0.7]}]}, \"Prat\\u00e2nia\", {\"and\": [{\"==\": [{\"var\": \"roadName\"}, \"SPA-338/255\"]}, {\"<=\": [{\"var\": \"km\"}, 0.93]}]}, \"Coronel Macedo\", {\"and\": [{\"==\": [{\"var\": \"roadName\"}, \"SPI-274/310\"]}, {\"<=\": [{\"var\": \"km\"}, 2.1]}]}, \"Araraquara\", {\"and\": [{\"==\": [{\"var\": \"roadName\"}, \"SP-255\"]}, {\">=\": [{\"var\": \"km\"}, 2.8]}, {\"<=\": [{\"var\": \"km\"}, 19.0]}]}, \"Ribeir\\u00e3o Preto\", {\"and\": [{\"==\": [{\"var\": \"roadName\"}, \"SP-255\"]}, {\">=\": [{\"var\": \"km\"}, 19.0]}, {\"<=\": [{\"var\": \"km\"}, 24.25]}]}, \"Cravinhos\", {\"and\": [{\"==\": [{\"var\": \"roadName\"}, \"SP-255\"]}, {\">=\": [{\"var\": \"km\"}, 24.25]}, {\"<=\": [{\"var\": \"km\"}, 32.87]}]}, \"Lu\\u00eds Ant\\u00f4nio\", {\"and\": [{\"==\": [{\"var\": \"roadName\"}, \"SP-255\"]}, {\">=\": [{\"var\": \"km\"}, 32.87]}, {\"<=\": [{\"var\": \"km\"}, 47.6]}]}, \"Guatapar\\u00e1\", {\"and\": [{\"==\": [{\"var\": \"roadName\"}, \"SP-255\"]}, {\">=\": [{\"var\": \"km\"}, 47.6]}, {\"<=\": [{\"var\": \"km\"}, 53.5]}]}, \"Rinc\\u00e3o\", {\"and\": [{\"==\": [{\"var\": \"roadName\"}, \"SP-255\"]}, {\">=\": [{\"var\": \"km\"}, 53.5]}, {\"<=\": [{\"var\": \"km\"}, 61.1]}]}, \"Santa L\\u00facia\", {\"and\": [{\"==\": [{\"var\": \"roadName\"}, \"SP-255\"]}, {\">=\": [{\"var\": \"km\"}, 61.1]}, {\"<=\": [{\"var\": \"km\"}, 71.0]}]}, \"Am\\u00e9rico Brasiliense\", {\"and\": [{\"==\": [{\"var\": \"roadName\"}, \"SP-255\"]}, {\">=\": [{\"var\": \"km\"}, 71.0]}, {\"<=\": [{\"var\": \"km\"}, 83.2]}]}, \"Araraquara\", {\"and\": [{\"==\": [{\"var\": \"roadName\"}, \"SP-257\"]}, {\"<=\": [{\"var\": \"km\"}, 6.92]}]}, \"Am\\u00e9rico Brasiliense\", {\"and\": [{\"==\": [{\"var\": \"roadName\"}, \"SP-257\"]}, {\">=\": [{\"var\": \"km\"}, 6.92]}, {\"<=\": [{\"var\": \"km\"}, 16.1]}]}, \"Santa L\\u00facia\", {\"and\": [{\"==\": [{\"var\": \"roadName\"}, \"SP-257\"]}, {\">=\": [{\"var\": \"km\"}, 16.1]}, {\"<=\": [{\"var\": \"km\"}, 19.8]}]}, \"Rinc\\u00e3o\", {\"and\": [{\"==\": [{\"var\": \"roadName\"}, \"SP-318\"]}, {\">=\": [{\"var\": \"km\"}, 235.4]}, {\"<=\": [{\"var\": \"km\"}, 267.4]}]}, \"S\\u00e3o Carlos\", {\"and\": [{\"==\": [{\"var\": \"roadName\"}, \"SP-318\"]}, {\">=\": [{\"var\": \"km\"}, 267.4]}, {\"<=\": [{\"var\": \"km\"}, 270.5]}]}, \"Am\\u00e9rico Brasiliense\", {\"and\": [{\"==\": [{\"var\": \"roadName\"}, \"SP-318\"]}, {\">=\": [{\"var\": \"km\"}, 270.5]}, {\"<=\": [{\"var\": \"km\"}, 271.6]}]}, \"Santa L\\u00facia\", {\"and\": [{\"==\": [{\"var\": \"roadName\"}, \"SP-318\"]}, {\">=\": [{\"var\": \"km\"}, 271.6]}, {\"<=\": [{\"var\": \"km\"}, 280.0]}]}, \"Rinc\\u00e3o\", {\"and\": [{\"==\": [{\"var\": \"roadName\"}, \"SP-328\"]}, {\">=\": [{\"var\": \"km\"}, 289.83]}, {\"<=\": [{\"var\": \"km\"}, 292.76]}]}, \"S\\u00e3o Sim\\u00e3o\", {\"and\": [{\"==\": [{\"var\": \"roadName\"}, \"SP-328\"]}, {\">=\": [{\"var\": \"km\"}, 292.76]}, {\"<=\": [{\"var\": \"km\"}, 300.28]}]}, \"Cravinhos\", {\"and\": [{\"==\": [{\"var\": \"roadName\"}, \"SP-328\"]}, {\">=\": [{\"var\": \"km\"}, 300.28]}, {\"<=\": [{\"var\": \"km\"}, 300.964]}]}, \"Ribeir\\u00e3o Preto\", {\"and\": [{\"==\": [{\"var\": \"roadName\"}, \"SP-328\"]}, {\">=\": [{\"var\": \"km\"}, 300.964]}, {\"<=\": [{\"var\": \"km\"}, 301.518]}]}, \"Cravinhos\", {\"and\": [{\"==\": [{\"var\": \"roadName\"}, \"SP-328\"]}, {\">=\": [{\"var\": \"km\"}, 301.518]}, {\"<=\": [{\"var\": \"km\"}, 302.06]}]}, \"Ribeir\\u00e3o Preto\", {\"and\": [{\"==\": [{\"var\": \"roadName\"}, \"SP-328\"]}, {\">=\": [{\"var\": \"km\"}, 304.31]}, {\"<=\": [{\"var\": \"km\"}, 306.82]}]}, \"Ribeir\\u00e3o Preto\", {\"and\": [{\"==\": [{\"var\": \"roadName\"}, \"SP-328\"]}, {\">=\": [{\"var\": \"km\"}, 307.6]}, {\"<=\": [{\"var\": \"km\"}, 311.93]}]}, \"Ribeir\\u00e3o Preto\", {\"and\": [{\"==\": [{\"var\": \"roadName\"}, \"SP-330\"]}, {\">=\": [{\"var\": \"km\"}, 240.0]}, {\"<=\": [{\"var\": \"km\"}, 261.0]}]}, \"Santa Rita do Passa Quatro\", {\"and\": [{\"==\": [{\"var\": \"roadName\"}, \"SP-330\"]}, {\">=\": [{\"var\": \"km\"}, 261.0]}, {\"<=\": [{\"var\": \"km\"}, 284.81]}]}, \"S\\u00e3o Sim\\u00e3o\", {\"and\": [{\"==\": [{\"var\": \"roadName\"}, \"SP-330\"]}, {\">=\": [{\"var\": \"km\"}, 284.81]}, {\"<=\": [{\"var\": \"km\"}, 289.65]}]}, \"Cravinhos\", {\"and\": [{\"==\": [{\"var\": \"roadName\"}, \"SP-330\"]}, {\">=\": [{\"var\": \"km\"}, 289.65]}, {\"<=\": [{\"var\": \"km\"}, 300.34]}]}, \"Cravinhos\", {\"and\": [{\"==\": [{\"var\": \"roadName\"}, \"SP-330\"]}, {\">=\": [{\"var\": \"km\"}, 300.34]}, {\"<=\": [{\"var\": \"km\"}, 319.0]}]}, \"Ribeir\\u00e3o Preto\", {\"and\": [{\"==\": [{\"var\": \"roadName\"}, \"SP-334\"]}, {\">=\": [{\"var\": \"km\"}, 318.0]}, {\"<=\": [{\"var\": \"km\"}, 321.0]}]}, \"Ribeir\\u00e3o Preto\", {\"and\": [{\"==\": [{\"var\": \"roadName\"}, \"SP-334\"]}, {\">=\": [{\"var\": \"km\"}, 321.0]}, {\"<=\": [{\"var\": \"km\"}, 330.96]}]}, \"Jardin\\u00f3polis\", {\"and\": [{\"==\": [{\"var\": \"roadName\"}, \"SP-334\"]}, {\">=\": [{\"var\": \"km\"}, 330.96]}, {\"<=\": [{\"var\": \"km\"}, 342.05]}]}, \"Brod\\u00f3wski\", {\"and\": [{\"==\": [{\"var\": \"roadName\"}, \"SP-334\"]}, {\">=\": [{\"var\": \"km\"}, 342.05]}, {\"<=\": [{\"var\": \"km\"}, 372.0]}]}, \"Batatais\", {\"and\": [{\"==\": [{\"var\": \"roadName\"}, \"SP-334\"]}, {\">=\": [{\"var\": \"km\"}, 372.0]}, {\"<=\": [{\"var\": \"km\"}, 388.65]}]}, \"Restinga\", {\"and\": [{\"==\": [{\"var\": \"roadName\"}, \"SP-334\"]}, {\">=\": [{\"var\": \"km\"}, 388.65]}, {\"<=\": [{\"var\": \"km\"}, 409.0]}]}, \"Franca\", {\"and\": [{\"==\": [{\"var\": \"roadName\"}, \"SP-345\"]}, {\">=\": [{\"var\": \"km\"}, 10.5]}, {\"<=\": [{\"var\": \"km\"}, 12.2]}]}, \"Itirapu\\u00e3\", {\"and\": [{\"==\": [{\"var\": \"roadName\"}, \"SP-345\"]}, {\">=\": [{\"var\": \"km\"}, 10.0]}, {\"<=\": [{\"var\": \"km\"}, 25.5]}]}, \"Patroc\\u00ednio Paulista\", {\"and\": [{\"==\": [{\"var\": \"roadName\"}, \"SP-345\"]}, {\">=\": [{\"var\": \"km\"}, 25.5]}, {\"<=\": [{\"var\": \"km\"}, 40.0]}]}, \"Franca\", {\"and\": [{\"==\": [{\"var\": \"roadName\"}, \"SPA-004/257\"]}, {\"<=\": [{\"var\": \"km\"}, 4.6]}]}, \"Am\\u00e9rico Brasiliense\", {\"and\": [{\"==\": [{\"var\": \"roadName\"}, \"SPA-011/345\"]}, {\"<=\": [{\"var\": \"km\"}, 1.8]}]}, \"Itirapu\\u00e3\", {\"and\": [{\"==\": [{\"var\": \"roadName\"}, \"SPA-020/345\"]}, {\"<=\": [{\"var\": \"km\"}, 2.5]}]}, \"Patroc\\u00ednio Paulista\", {\"and\": [{\"==\": [{\"var\": \"roadName\"}, \"SPA-051/255\"]}, {\"<=\": [{\"var\": \"km\"}, 12.8]}]}, \"Rinc\\u00e3o\", {\"and\": [{\"==\": [{\"var\": \"roadName\"}, \"SPA-074/255\"]}, {\"<=\": [{\"var\": \"km\"}, 5.0]}]}, \"Araraquara\", {\"and\": [{\"==\": [{\"var\": \"roadName\"}, \"SPA-077/255\"]}, {\"<=\": [{\"var\": \"km\"}, 3.0]}]}, \"Araraquara\", {\"and\": [{\"==\": [{\"var\": \"roadName\"}, \"SPA-241/330\"]}, {\"<=\": [{\"var\": \"km\"}, 11.95]}]}, \"Santa Rita do Passa Quatro\", {\"and\": [{\"==\": [{\"var\": \"roadName\"}, \"SPA-268/310\"]}, {\"<=\": [{\"var\": \"km\"}, 2.9]}]}, \"Araraquara\", {\"and\": [{\"==\": [{\"var\": \"roadName\"}, \"SPA-271/310\"]}, {\"<=\": [{\"var\": \"km\"}, 0.58]}]}, \"Araraquara\", {\"and\": [{\"==\": [{\"var\": \"roadName\"}, \"SPA-307/330\"]}, {\"<=\": [{\"var\": \"km\"}, 3.6]}]}, \"Ribeir\\u00e3o Preto\", {\"and\": [{\"==\": [{\"var\": \"roadName\"}, \"SPA-318/330\"]}, {\"<=\": [{\"var\": \"km\"}, 1.65]}]}, \"Ribeir\\u00e3o Preto\", {\"and\": [{\"==\": [{\"var\": \"roadName\"}, \"SPA-321/334\"]}, {\"<=\": [{\"var\": \"km\"}, 4.3]}]}, \"Jardin\\u00f3polis\", {\"and\": [{\"==\": [{\"var\": \"roadName\"}, \"SPA-334/334\"]}, {\"<=\": [{\"var\": \"km\"}, 1.469]}]}, \"Brod\\u00f3wski\", {\"and\": [{\"==\": [{\"var\": \"roadName\"}, \"SPA-334/334\"]}, {\">=\": [{\"var\": \"km\"}, 1.469]}, {\"<=\": [{\"var\": \"km\"}, 9.7]}]}, \"Jardin\\u00f3polis\", {\"and\": [{\"==\": [{\"var\": \"roadName\"}, \"SPA-348/334\"]}, {\"<=\": [{\"var\": \"km\"}, 3.5]}]}, \"Batatais\", {\"and\": [{\"==\": [{\"var\": \"roadName\"}, \"SPA-352/334\"]}, {\"<=\": [{\"var\": \"km\"}, 2.9]}]}, \"Batatais\", {\"and\": [{\"==\": [{\"var\": \"roadName\"}, \"SPA-384/334\"]}, {\"<=\": [{\"var\": \"km\"}, 4.2]}]}, \"Restinga\", {\"and\": [{\"==\": [{\"var\": \"roadName\"}, \"SPA-397/334\"]}, {\">=\": [{\"var\": \"km\"}, 2.44]}, {\"<=\": [{\"var\": \"km\"}, 4.47]}]}, \"Franca\", {\"and\": [{\"==\": [{\"var\": \"roadName\"}, \"SPA-397/334\"]}, {\">=\": [{\"var\": \"km\"}, 4.47]}, {\"<=\": [{\"var\": \"km\"}, 9.95]}]}, \"Restinga\", \"NA\"]},\n",
    "                                        'apiName':'levelField'})\n",
    "    # Inclusão do campo criado nos groups nesse caso em um local especifico\n",
    "    for index,group in enumerate(classe.form_fields['groups']):\n",
    "        if 'Informações teste Luan' in group['displayName']:\n",
    "            classe.form_fields['groups'][index]['members'].append(size_fields+1)\n",
    "    \n",
    "    # Adição de opção nas opções do campo Origem\n",
    "    for campos in classe.form_fields['fields']:\n",
    "        if 'Origem' == campos['displayName']:\n",
    "#             Maneiras de pegar o size\n",
    "            size_option=len(campos['selectOptions']['options'])\n",
    "#             size_option=campos['selectOptions']['options'][-1]['value']\n",
    "            campos['selectOptions']['options'].append({'name': 'Teste Nivelamento', 'value': size_option+1})\n",
    "    \n",
    "    classe._history_user = User.objects.get(username='luan.poletti')\n",
    "    classe.save()"
   ]
  },
  {
   "cell_type": "code",
   "execution_count": 52,
   "id": "a9b9cc4d",
   "metadata": {
    "collapsed": true
   },
   "outputs": [
    {
     "data": {
      "text/plain": [
       "[{'id': 1,\n",
       "  'logic': 'b.1.3.',\n",
       "  'apiName': 'contratualCode',\n",
       "  'dataType': 'jsonLogic',\n",
       "  'displayName': 'Código de Edital'},\n",
       " {'id': 2,\n",
       "  'logic': '7',\n",
       "  'apiName': 'csp',\n",
       "  'dataType': 'jsonLogic',\n",
       "  'displayName': 'CSP'},\n",
       " {'id': 3,\n",
       "  'apiName': 'demandOrigin',\n",
       "  'dataType': 'selectMultiple',\n",
       "  'displayName': 'Origem',\n",
       "  'selectOptions': {'options': [{'name': 'Interna', 'value': '1'},\n",
       "    {'name': 'KCOR', 'value': '2'},\n",
       "    {'name': 'ARTESP DIN', 'value': '3'},\n",
       "    {'name': 'ARTESP DOP', 'value': '4'},\n",
       "    {'name': 'Teste Nivelamento', 'value': 5},\n",
       "    {'name': 'Teste Nivelamento', 'value': 6}]}},\n",
       " {'id': 4,\n",
       "  'apiName': 'artespCode',\n",
       "  'dataType': 'string',\n",
       "  'displayIf': {'or': [{'in': ['3', {'var': 'data.formData.demandOrigin'}]},\n",
       "    {'in': ['4', {'var': 'data.formData.demandOrigin'}]}]},\n",
       "  'displayName': 'Código ARTESP'},\n",
       " {'id': 5,\n",
       "  'apiName': 'receivedDate',\n",
       "  'dataType': 'timestamp',\n",
       "  'displayIf': {'or': [{'in': ['3', {'var': 'data.formData.demandOrigin'}]},\n",
       "    {'in': ['4', {'var': 'data.formData.demandOrigin'}]}]},\n",
       "  'displayName': 'Recebido da ARTESP em'},\n",
       " {'id': 6,\n",
       "  'apiName': 'kcorCode',\n",
       "  'dataType': 'string',\n",
       "  'displayIf': {'in': ['2', {'var': 'data.formData.demandOrigin'}]},\n",
       "  'displayName': 'Cód KCOR'},\n",
       " {'id': 7,\n",
       "  'apiName': 'internCode',\n",
       "  'dataType': 'string',\n",
       "  'displayIf': {'in': ['1', {'var': 'data.formData.demandOrigin'}]},\n",
       "  'displayName': 'Cód interno'},\n",
       " {'id': 8,\n",
       "  'apiName': 'lot',\n",
       "  'dataType': 'select',\n",
       "  'displayName': 'Lote',\n",
       "  'selectOptions': {'options': [{'name': 'Lote 1', 'value': '1'},\n",
       "    {'name': 'Lote 2', 'value': '2'},\n",
       "    {'name': 'Lote 3', 'value': '3'},\n",
       "    {'name': 'Lote 4', 'value': '4'}]}},\n",
       " {'id': 9,\n",
       "  'apiName': 'length',\n",
       "  'dataType': 'float',\n",
       "  'displayName': 'Comprimento (m)'},\n",
       " {'id': 10,\n",
       "  'apiName': 'width',\n",
       "  'dataType': 'float',\n",
       "  'displayName': 'Largura (m)'},\n",
       " {'id': 11,\n",
       "  'logic': {'if': [{'missing': ['formData.length', 'formData.width']},\n",
       "    0,\n",
       "    {'*': [{'var': 'formData.length'}, {'var': 'formData.width'}]}]},\n",
       "  'apiName': 'area',\n",
       "  'dataType': 'jsonLogic',\n",
       "  'displayName': 'Área (m²)'},\n",
       " {'id': 12,\n",
       "  'apiName': 'notes',\n",
       "  'dataType': 'textArea',\n",
       "  'displayName': 'Observações'},\n",
       " {'id': 13,\n",
       "  'apiName': 'stopAndGo',\n",
       "  'dataType': 'boolean',\n",
       "  'displayName': 'Interdidato?'},\n",
       " {'id': 14,\n",
       "  'apiName': 'shift',\n",
       "  'dataType': 'select',\n",
       "  'displayName': 'Turno',\n",
       "  'selectOptions': {'options': [{'name': 'Manhã', 'value': '1'},\n",
       "    {'name': 'Noite', 'value': '2'}],\n",
       "   'displayIf': {'===': [{'var': 'data.formData.stopAndGo'}, True]}}},\n",
       " {'id': 15,\n",
       "  'apiName': 'interditionType',\n",
       "  'dataType': 'select',\n",
       "  'displayName': 'Tipo de Interdição',\n",
       "  'selectOptions': {'options': [{'name': 'Pare e Pare', 'value': '1'},\n",
       "    {'name': 'Pare e Siga', 'value': '2'}],\n",
       "   'displayIf': {'===': [{'var': 'data.formData.stopAndGo'}, True]}}},\n",
       " {'id': 16,\n",
       "  'displayName': 'Campo de Nivelamento',\n",
       "  'dataType': 'string',\n",
       "  'autofill': {'if': [{'and': [{'==': [{'var': 'roadName'}, 'SP-249']},\n",
       "      {'>=': [{'var': 'km'}, 144.115]},\n",
       "      {'<=': [{'var': 'km'}, 149.0]}]},\n",
       "    'Coronel Macedo',\n",
       "    {'and': [{'==': [{'var': 'roadName'}, 'SP-249']},\n",
       "      {'>=': [{'var': 'km'}, 149.0]},\n",
       "      {'<=': [{'var': 'km'}, 159.0]}]},\n",
       "    'Taquarituba',\n",
       "    {'and': [{'==': [{'var': 'roadName'}, 'SP-255']},\n",
       "      {'>=': [{'var': 'km'}, 83.2]},\n",
       "      {'<=': [{'var': 'km'}, 95.16]}]},\n",
       "    'Araraquara',\n",
       "    {'and': [{'==': [{'var': 'roadName'}, 'SP-255']},\n",
       "      {'>=': [{'var': 'km'}, 95.16]},\n",
       "      {'<=': [{'var': 'km'}, 122.22]}]},\n",
       "    'Boa Esperança do Sul',\n",
       "    {'and': [{'==': [{'var': 'roadName'}, 'SP-255']},\n",
       "      {'>=': [{'var': 'km'}, 122.22]},\n",
       "      {'<=': [{'var': 'km'}, 124.02]}]},\n",
       "    'Dourado',\n",
       "    {'and': [{'==': [{'var': 'roadName'}, 'SP-255']},\n",
       "      {'>=': [{'var': 'km'}, 124.02]},\n",
       "      {'<=': [{'var': 'km'}, 138.61]}]},\n",
       "    'Bocaina',\n",
       "    {'and': [{'==': [{'var': 'roadName'}, 'SP-255']},\n",
       "      {'>=': [{'var': 'km'}, 138.61]},\n",
       "      {'<=': [{'var': 'km'}, 147.3]}]},\n",
       "    'Jaú',\n",
       "    {'and': [{'==': [{'var': 'roadName'}, 'SP-255']},\n",
       "      {'>=': [{'var': 'km'}, 155.77]},\n",
       "      {'<=': [{'var': 'km'}, 167.02]}]},\n",
       "    'Jaú',\n",
       "    {'and': [{'==': [{'var': 'roadName'}, 'SP-255']},\n",
       "      {'>=': [{'var': 'km'}, 167.02]},\n",
       "      {'<=': [{'var': 'km'}, 177.8]}]},\n",
       "    'Barra Bonita',\n",
       "    {'and': [{'==': [{'var': 'roadName'}, 'SP-255']},\n",
       "      {'>=': [{'var': 'km'}, 177.8]},\n",
       "      {'<=': [{'var': 'km'}, 186.7]}]},\n",
       "    'Igaraçu do Tietê',\n",
       "    {'and': [{'==': [{'var': 'roadName'}, 'SP-255']},\n",
       "      {'>=': [{'var': 'km'}, 186.7]},\n",
       "      {'<=': [{'var': 'km'}, 212.24]}]},\n",
       "    'São Manuel',\n",
       "    {'and': [{'==': [{'var': 'roadName'}, 'SP-255']},\n",
       "      {'>=': [{'var': 'km'}, 212.24]},\n",
       "      {'<=': [{'var': 'km'}, 225.83]}]},\n",
       "    'Pratânia',\n",
       "    {'and': [{'==': [{'var': 'roadName'}, 'SP-255']},\n",
       "      {'>=': [{'var': 'km'}, 225.83]},\n",
       "      {'<=': [{'var': 'km'}, 237.06]}]},\n",
       "    'Botucatu',\n",
       "    {'and': [{'==': [{'var': 'roadName'}, 'SP-255']},\n",
       "      {'>=': [{'var': 'km'}, 237.06]},\n",
       "      {'<=': [{'var': 'km'}, 237.77]}]},\n",
       "    'Avaré',\n",
       "    {'and': [{'==': [{'var': 'roadName'}, 'SP-255']},\n",
       "      {'>=': [{'var': 'km'}, 288.19]},\n",
       "      {'<=': [{'var': 'km'}, 309.04]}]},\n",
       "    'Itaí',\n",
       "    {'and': [{'==': [{'var': 'roadName'}, 'SP-255']},\n",
       "      {'>=': [{'var': 'km'}, 309.04]},\n",
       "      {'<=': [{'var': 'km'}, 320.0]}]},\n",
       "    'Taquarituba',\n",
       "    {'and': [{'==': [{'var': 'roadName'}, 'SP-255']},\n",
       "      {'>=': [{'var': 'km'}, 334.25]},\n",
       "      {'<=': [{'var': 'km'}, 345.46]}]},\n",
       "    'Coronel Macedo',\n",
       "    {'and': [{'==': [{'var': 'roadName'}, 'SP-255']},\n",
       "      {'>=': [{'var': 'km'}, 345.46]},\n",
       "      {'<=': [{'var': 'km'}, 357.5]}]},\n",
       "    'Itaporanga',\n",
       "    {'and': [{'==': [{'var': 'roadName'}, 'SP-281']},\n",
       "      {'>=': [{'var': 'km'}, 43.36]},\n",
       "      {'<=': [{'var': 'km'}, 49.64]}]},\n",
       "    'Riversul',\n",
       "    {'and': [{'==': [{'var': 'roadName'}, 'SP-281']},\n",
       "      {'>=': [{'var': 'km'}, 49.64]},\n",
       "      {'<=': [{'var': 'km'}, 67.72]}]},\n",
       "    'Itaporanga',\n",
       "    {'and': [{'==': [{'var': 'roadName'}, 'SP-281']},\n",
       "      {'>=': [{'var': 'km'}, 67.72]},\n",
       "      {'<=': [{'var': 'km'}, 70.85]}]},\n",
       "    'Barão de Antonina',\n",
       "    {'and': [{'==': [{'var': 'roadName'}, 'SP-304']},\n",
       "      {'>=': [{'var': 'km'}, 285.0]},\n",
       "      {'<=': [{'var': 'km'}, 297.0]}]},\n",
       "    'Jaú',\n",
       "    {'and': [{'==': [{'var': 'roadName'}, 'SPA-043/281']},\n",
       "      {'<=': [{'var': 'km'}, 3.0]}]},\n",
       "    'Riversul',\n",
       "    {'and': [{'==': [{'var': 'roadName'}, 'SPA-085/255']},\n",
       "      {'<=': [{'var': 'km'}, 1.115]}]},\n",
       "    'Araraquara',\n",
       "    {'and': [{'==': [{'var': 'roadName'}, 'SPA-106/255']},\n",
       "      {'<=': [{'var': 'km'}, 7.25]}]},\n",
       "    'Boa Esperança do Sul',\n",
       "    {'and': [{'==': [{'var': 'roadName'}, 'SPA-112/255']},\n",
       "      {'<=': [{'var': 'km'}, 1.1]}]},\n",
       "    'Boa Esperança do Sul',\n",
       "    {'and': [{'==': [{'var': 'roadName'}, 'SPA-114/255']},\n",
       "      {'<=': [{'var': 'km'}, 1.0]}]},\n",
       "    'Boa Esperança do Sul',\n",
       "    {'and': [{'==': [{'var': 'roadName'}, 'SPA-115/255']},\n",
       "      {'<=': [{'var': 'km'}, 2.1]}]},\n",
       "    'Boa Esperança do Sul',\n",
       "    {'and': [{'==': [{'var': 'roadName'}, 'SPA-115/255']},\n",
       "      {'>=': [{'var': 'km'}, 2.1]},\n",
       "      {'<=': [{'var': 'km'}, 7.2]}]},\n",
       "    'Trabiju',\n",
       "    {'and': [{'==': [{'var': 'roadName'}, 'SPA-133/255']},\n",
       "      {'<=': [{'var': 'km'}, 5.7]}]},\n",
       "    'Bocaina',\n",
       "    {'and': [{'==': [{'var': 'roadName'}, 'SPA-138/255']},\n",
       "      {'<=': [{'var': 'km'}, 4.8]}]},\n",
       "    'Bocaina',\n",
       "    {'and': [{'==': [{'var': 'roadName'}, 'SPA-179/255']},\n",
       "      {'<=': [{'var': 'km'}, 0.4]}]},\n",
       "    'Igaraçu do Tietê',\n",
       "    {'and': [{'==': [{'var': 'roadName'}, 'SPA-196/255']},\n",
       "      {'<=': [{'var': 'km'}, 2.5]}]},\n",
       "    'São Manuel',\n",
       "    {'and': [{'==': [{'var': 'roadName'}, 'SPA-198/255']},\n",
       "      {'<=': [{'var': 'km'}, 5.7]}]},\n",
       "    'São Manuel',\n",
       "    {'and': [{'==': [{'var': 'roadName'}, 'SPA-214/255']},\n",
       "      {'<=': [{'var': 'km'}, 0.7]}]},\n",
       "    'Pratânia',\n",
       "    {'and': [{'==': [{'var': 'roadName'}, 'SPA-338/255']},\n",
       "      {'<=': [{'var': 'km'}, 0.93]}]},\n",
       "    'Coronel Macedo',\n",
       "    {'and': [{'==': [{'var': 'roadName'}, 'SPI-274/310']},\n",
       "      {'<=': [{'var': 'km'}, 2.1]}]},\n",
       "    'Araraquara',\n",
       "    {'and': [{'==': [{'var': 'roadName'}, 'SP-255']},\n",
       "      {'>=': [{'var': 'km'}, 2.8]},\n",
       "      {'<=': [{'var': 'km'}, 19.0]}]},\n",
       "    'Ribeirão Preto',\n",
       "    {'and': [{'==': [{'var': 'roadName'}, 'SP-255']},\n",
       "      {'>=': [{'var': 'km'}, 19.0]},\n",
       "      {'<=': [{'var': 'km'}, 24.25]}]},\n",
       "    'Cravinhos',\n",
       "    {'and': [{'==': [{'var': 'roadName'}, 'SP-255']},\n",
       "      {'>=': [{'var': 'km'}, 24.25]},\n",
       "      {'<=': [{'var': 'km'}, 32.87]}]},\n",
       "    'Luís Antônio',\n",
       "    {'and': [{'==': [{'var': 'roadName'}, 'SP-255']},\n",
       "      {'>=': [{'var': 'km'}, 32.87]},\n",
       "      {'<=': [{'var': 'km'}, 47.6]}]},\n",
       "    'Guatapará',\n",
       "    {'and': [{'==': [{'var': 'roadName'}, 'SP-255']},\n",
       "      {'>=': [{'var': 'km'}, 47.6]},\n",
       "      {'<=': [{'var': 'km'}, 53.5]}]},\n",
       "    'Rincão',\n",
       "    {'and': [{'==': [{'var': 'roadName'}, 'SP-255']},\n",
       "      {'>=': [{'var': 'km'}, 53.5]},\n",
       "      {'<=': [{'var': 'km'}, 61.1]}]},\n",
       "    'Santa Lúcia',\n",
       "    {'and': [{'==': [{'var': 'roadName'}, 'SP-255']},\n",
       "      {'>=': [{'var': 'km'}, 61.1]},\n",
       "      {'<=': [{'var': 'km'}, 71.0]}]},\n",
       "    'Américo Brasiliense',\n",
       "    {'and': [{'==': [{'var': 'roadName'}, 'SP-255']},\n",
       "      {'>=': [{'var': 'km'}, 71.0]},\n",
       "      {'<=': [{'var': 'km'}, 83.2]}]},\n",
       "    'Araraquara',\n",
       "    {'and': [{'==': [{'var': 'roadName'}, 'SP-257']},\n",
       "      {'<=': [{'var': 'km'}, 6.92]}]},\n",
       "    'Américo Brasiliense',\n",
       "    {'and': [{'==': [{'var': 'roadName'}, 'SP-257']},\n",
       "      {'>=': [{'var': 'km'}, 6.92]},\n",
       "      {'<=': [{'var': 'km'}, 16.1]}]},\n",
       "    'Santa Lúcia',\n",
       "    {'and': [{'==': [{'var': 'roadName'}, 'SP-257']},\n",
       "      {'>=': [{'var': 'km'}, 16.1]},\n",
       "      {'<=': [{'var': 'km'}, 19.8]}]},\n",
       "    'Rincão',\n",
       "    {'and': [{'==': [{'var': 'roadName'}, 'SP-318']},\n",
       "      {'>=': [{'var': 'km'}, 235.4]},\n",
       "      {'<=': [{'var': 'km'}, 267.4]}]},\n",
       "    'São Carlos',\n",
       "    {'and': [{'==': [{'var': 'roadName'}, 'SP-318']},\n",
       "      {'>=': [{'var': 'km'}, 267.4]},\n",
       "      {'<=': [{'var': 'km'}, 270.5]}]},\n",
       "    'Américo Brasiliense',\n",
       "    {'and': [{'==': [{'var': 'roadName'}, 'SP-318']},\n",
       "      {'>=': [{'var': 'km'}, 270.5]},\n",
       "      {'<=': [{'var': 'km'}, 271.6]}]},\n",
       "    'Santa Lúcia',\n",
       "    {'and': [{'==': [{'var': 'roadName'}, 'SP-318']},\n",
       "      {'>=': [{'var': 'km'}, 271.6]},\n",
       "      {'<=': [{'var': 'km'}, 280.0]}]},\n",
       "    'Rincão',\n",
       "    {'and': [{'==': [{'var': 'roadName'}, 'SP-328']},\n",
       "      {'>=': [{'var': 'km'}, 289.83]},\n",
       "      {'<=': [{'var': 'km'}, 292.76]}]},\n",
       "    'São Simão',\n",
       "    {'and': [{'==': [{'var': 'roadName'}, 'SP-328']},\n",
       "      {'>=': [{'var': 'km'}, 292.76]},\n",
       "      {'<=': [{'var': 'km'}, 300.28]}]},\n",
       "    'Cravinhos',\n",
       "    {'and': [{'==': [{'var': 'roadName'}, 'SP-328']},\n",
       "      {'>=': [{'var': 'km'}, 300.28]},\n",
       "      {'<=': [{'var': 'km'}, 300.964]}]},\n",
       "    'Ribeirão Preto',\n",
       "    {'and': [{'==': [{'var': 'roadName'}, 'SP-328']},\n",
       "      {'>=': [{'var': 'km'}, 300.964]},\n",
       "      {'<=': [{'var': 'km'}, 301.518]}]},\n",
       "    'Cravinhos',\n",
       "    {'and': [{'==': [{'var': 'roadName'}, 'SP-328']},\n",
       "      {'>=': [{'var': 'km'}, 301.518]},\n",
       "      {'<=': [{'var': 'km'}, 302.06]}]},\n",
       "    'Ribeirão Preto',\n",
       "    {'and': [{'==': [{'var': 'roadName'}, 'SP-328']},\n",
       "      {'>=': [{'var': 'km'}, 304.31]},\n",
       "      {'<=': [{'var': 'km'}, 306.82]}]},\n",
       "    'Ribeirão Preto',\n",
       "    {'and': [{'==': [{'var': 'roadName'}, 'SP-328']},\n",
       "      {'>=': [{'var': 'km'}, 307.6]},\n",
       "      {'<=': [{'var': 'km'}, 311.93]}]},\n",
       "    'Ribeirão Preto',\n",
       "    {'and': [{'==': [{'var': 'roadName'}, 'SP-330']},\n",
       "      {'>=': [{'var': 'km'}, 240.0]},\n",
       "      {'<=': [{'var': 'km'}, 261.0]}]},\n",
       "    'Santa Rita do Passa Quatro',\n",
       "    {'and': [{'==': [{'var': 'roadName'}, 'SP-330']},\n",
       "      {'>=': [{'var': 'km'}, 261.0]},\n",
       "      {'<=': [{'var': 'km'}, 284.81]}]},\n",
       "    'São Simão',\n",
       "    {'and': [{'==': [{'var': 'roadName'}, 'SP-330']},\n",
       "      {'>=': [{'var': 'km'}, 284.81]},\n",
       "      {'<=': [{'var': 'km'}, 289.65]}]},\n",
       "    'Cravinhos',\n",
       "    {'and': [{'==': [{'var': 'roadName'}, 'SP-330']},\n",
       "      {'>=': [{'var': 'km'}, 289.65]},\n",
       "      {'<=': [{'var': 'km'}, 300.34]}]},\n",
       "    'Cravinhos',\n",
       "    {'and': [{'==': [{'var': 'roadName'}, 'SP-330']},\n",
       "      {'>=': [{'var': 'km'}, 300.34]},\n",
       "      {'<=': [{'var': 'km'}, 319.0]}]},\n",
       "    'Ribeirão Preto',\n",
       "    {'and': [{'==': [{'var': 'roadName'}, 'SP-334']},\n",
       "      {'>=': [{'var': 'km'}, 318.0]},\n",
       "      {'<=': [{'var': 'km'}, 321.0]}]},\n",
       "    'Ribeirão Preto',\n",
       "    {'and': [{'==': [{'var': 'roadName'}, 'SP-334']},\n",
       "      {'>=': [{'var': 'km'}, 321.0]},\n",
       "      {'<=': [{'var': 'km'}, 330.96]}]},\n",
       "    'Jardinópolis',\n",
       "    {'and': [{'==': [{'var': 'roadName'}, 'SP-334']},\n",
       "      {'>=': [{'var': 'km'}, 330.96]},\n",
       "      {'<=': [{'var': 'km'}, 342.05]}]},\n",
       "    'Brodówski',\n",
       "    {'and': [{'==': [{'var': 'roadName'}, 'SP-334']},\n",
       "      {'>=': [{'var': 'km'}, 342.05]},\n",
       "      {'<=': [{'var': 'km'}, 372.0]}]},\n",
       "    'Batatais',\n",
       "    {'and': [{'==': [{'var': 'roadName'}, 'SP-334']},\n",
       "      {'>=': [{'var': 'km'}, 372.0]},\n",
       "      {'<=': [{'var': 'km'}, 388.65]}]},\n",
       "    'Restinga',\n",
       "    {'and': [{'==': [{'var': 'roadName'}, 'SP-334']},\n",
       "      {'>=': [{'var': 'km'}, 388.65]},\n",
       "      {'<=': [{'var': 'km'}, 409.0]}]},\n",
       "    'Franca',\n",
       "    {'and': [{'==': [{'var': 'roadName'}, 'SP-345']},\n",
       "      {'>=': [{'var': 'km'}, 10.5]},\n",
       "      {'<=': [{'var': 'km'}, 12.2]}]},\n",
       "    'Itirapuã',\n",
       "    {'and': [{'==': [{'var': 'roadName'}, 'SP-345']},\n",
       "      {'>=': [{'var': 'km'}, 10.0]},\n",
       "      {'<=': [{'var': 'km'}, 25.5]}]},\n",
       "    'Patrocínio Paulista',\n",
       "    {'and': [{'==': [{'var': 'roadName'}, 'SP-345']},\n",
       "      {'>=': [{'var': 'km'}, 25.5]},\n",
       "      {'<=': [{'var': 'km'}, 40.0]}]},\n",
       "    'Franca',\n",
       "    {'and': [{'==': [{'var': 'roadName'}, 'SPA-004/257']},\n",
       "      {'<=': [{'var': 'km'}, 4.6]}]},\n",
       "    'Américo Brasiliense',\n",
       "    {'and': [{'==': [{'var': 'roadName'}, 'SPA-011/345']},\n",
       "      {'<=': [{'var': 'km'}, 1.8]}]},\n",
       "    'Itirapuã',\n",
       "    {'and': [{'==': [{'var': 'roadName'}, 'SPA-020/345']},\n",
       "      {'<=': [{'var': 'km'}, 2.5]}]},\n",
       "    'Patrocínio Paulista',\n",
       "    {'and': [{'==': [{'var': 'roadName'}, 'SPA-051/255']},\n",
       "      {'<=': [{'var': 'km'}, 12.8]}]},\n",
       "    'Rincão',\n",
       "    {'and': [{'==': [{'var': 'roadName'}, 'SPA-074/255']},\n",
       "      {'<=': [{'var': 'km'}, 5.0]}]},\n",
       "    'Araraquara',\n",
       "    {'and': [{'==': [{'var': 'roadName'}, 'SPA-077/255']},\n",
       "      {'<=': [{'var': 'km'}, 3.0]}]},\n",
       "    'Araraquara',\n",
       "    {'and': [{'==': [{'var': 'roadName'}, 'SPA-241/330']},\n",
       "      {'<=': [{'var': 'km'}, 11.95]}]},\n",
       "    'Santa Rita do Passa Quatro',\n",
       "    {'and': [{'==': [{'var': 'roadName'}, 'SPA-268/310']},\n",
       "      {'<=': [{'var': 'km'}, 2.9]}]},\n",
       "    'Araraquara',\n",
       "    {'and': [{'==': [{'var': 'roadName'}, 'SPA-271/310']},\n",
       "      {'<=': [{'var': 'km'}, 0.58]}]},\n",
       "    'Araraquara',\n",
       "    {'and': [{'==': [{'var': 'roadName'}, 'SPA-307/330']},\n",
       "      {'<=': [{'var': 'km'}, 3.6]}]},\n",
       "    'Ribeirão Preto',\n",
       "    {'and': [{'==': [{'var': 'roadName'}, 'SPA-318/330']},\n",
       "      {'<=': [{'var': 'km'}, 1.65]}]},\n",
       "    'Ribeirão Preto',\n",
       "    {'and': [{'==': [{'var': 'roadName'}, 'SPA-321/334']},\n",
       "      {'<=': [{'var': 'km'}, 4.3]}]},\n",
       "    'Jardinópolis',\n",
       "    {'and': [{'==': [{'var': 'roadName'}, 'SPA-334/334']},\n",
       "      {'<=': [{'var': 'km'}, 1.469]}]},\n",
       "    'Brodówski',\n",
       "    {'and': [{'==': [{'var': 'roadName'}, 'SPA-334/334']},\n",
       "      {'>=': [{'var': 'km'}, 1.469]},\n",
       "      {'<=': [{'var': 'km'}, 9.7]}]},\n",
       "    'Jardinópolis',\n",
       "    {'and': [{'==': [{'var': 'roadName'}, 'SPA-348/334']},\n",
       "      {'<=': [{'var': 'km'}, 3.5]}]},\n",
       "    'Batatais',\n",
       "    {'and': [{'==': [{'var': 'roadName'}, 'SPA-352/334']},\n",
       "      {'<=': [{'var': 'km'}, 2.9]}]},\n",
       "    'Batatais',\n",
       "    {'and': [{'==': [{'var': 'roadName'}, 'SPA-384/334']},\n",
       "      {'<=': [{'var': 'km'}, 4.2]}]},\n",
       "    'Restinga',\n",
       "    {'and': [{'==': [{'var': 'roadName'}, 'SPA-397/334']},\n",
       "      {'>=': [{'var': 'km'}, 2.44]},\n",
       "      {'<=': [{'var': 'km'}, 4.47]}]},\n",
       "    'Franca',\n",
       "    {'and': [{'==': [{'var': 'roadName'}, 'SPA-397/334']},\n",
       "      {'>=': [{'var': 'km'}, 4.47]},\n",
       "      {'<=': [{'var': 'km'}, 9.95]}]},\n",
       "    'Restinga',\n",
       "    'NA']},\n",
       "  'apiName': 'levelField'},\n",
       " {'id': 17,\n",
       "  'displayName': 'Campo de Nivelamento',\n",
       "  'dataType': 'string',\n",
       "  'autofill': {'if': [{'and': [{'==': [{'var': 'roadName'}, 'SP-249']},\n",
       "      {'>=': [{'var': 'km'}, 144.115]},\n",
       "      {'<=': [{'var': 'km'}, 149.0]}]},\n",
       "    'Coronel Macedo',\n",
       "    {'and': [{'==': [{'var': 'roadName'}, 'SP-249']},\n",
       "      {'>=': [{'var': 'km'}, 149.0]},\n",
       "      {'<=': [{'var': 'km'}, 159.0]}]},\n",
       "    'Taquarituba',\n",
       "    {'and': [{'==': [{'var': 'roadName'}, 'SP-255']},\n",
       "      {'>=': [{'var': 'km'}, 83.2]},\n",
       "      {'<=': [{'var': 'km'}, 95.16]}]},\n",
       "    'Araraquara',\n",
       "    {'and': [{'==': [{'var': 'roadName'}, 'SP-255']},\n",
       "      {'>=': [{'var': 'km'}, 95.16]},\n",
       "      {'<=': [{'var': 'km'}, 122.22]}]},\n",
       "    'Boa Esperança do Sul',\n",
       "    {'and': [{'==': [{'var': 'roadName'}, 'SP-255']},\n",
       "      {'>=': [{'var': 'km'}, 122.22]},\n",
       "      {'<=': [{'var': 'km'}, 124.02]}]},\n",
       "    'Dourado',\n",
       "    {'and': [{'==': [{'var': 'roadName'}, 'SP-255']},\n",
       "      {'>=': [{'var': 'km'}, 124.02]},\n",
       "      {'<=': [{'var': 'km'}, 138.61]}]},\n",
       "    'Bocaina',\n",
       "    {'and': [{'==': [{'var': 'roadName'}, 'SP-255']},\n",
       "      {'>=': [{'var': 'km'}, 138.61]},\n",
       "      {'<=': [{'var': 'km'}, 147.3]}]},\n",
       "    'Jaú',\n",
       "    {'and': [{'==': [{'var': 'roadName'}, 'SP-255']},\n",
       "      {'>=': [{'var': 'km'}, 155.77]},\n",
       "      {'<=': [{'var': 'km'}, 167.02]}]},\n",
       "    'Jaú',\n",
       "    {'and': [{'==': [{'var': 'roadName'}, 'SP-255']},\n",
       "      {'>=': [{'var': 'km'}, 167.02]},\n",
       "      {'<=': [{'var': 'km'}, 177.8]}]},\n",
       "    'Barra Bonita',\n",
       "    {'and': [{'==': [{'var': 'roadName'}, 'SP-255']},\n",
       "      {'>=': [{'var': 'km'}, 177.8]},\n",
       "      {'<=': [{'var': 'km'}, 186.7]}]},\n",
       "    'Igaraçu do Tietê',\n",
       "    {'and': [{'==': [{'var': 'roadName'}, 'SP-255']},\n",
       "      {'>=': [{'var': 'km'}, 186.7]},\n",
       "      {'<=': [{'var': 'km'}, 212.24]}]},\n",
       "    'São Manuel',\n",
       "    {'and': [{'==': [{'var': 'roadName'}, 'SP-255']},\n",
       "      {'>=': [{'var': 'km'}, 212.24]},\n",
       "      {'<=': [{'var': 'km'}, 225.83]}]},\n",
       "    'Pratânia',\n",
       "    {'and': [{'==': [{'var': 'roadName'}, 'SP-255']},\n",
       "      {'>=': [{'var': 'km'}, 225.83]},\n",
       "      {'<=': [{'var': 'km'}, 237.06]}]},\n",
       "    'Botucatu',\n",
       "    {'and': [{'==': [{'var': 'roadName'}, 'SP-255']},\n",
       "      {'>=': [{'var': 'km'}, 237.06]},\n",
       "      {'<=': [{'var': 'km'}, 237.77]}]},\n",
       "    'Avaré',\n",
       "    {'and': [{'==': [{'var': 'roadName'}, 'SP-255']},\n",
       "      {'>=': [{'var': 'km'}, 288.19]},\n",
       "      {'<=': [{'var': 'km'}, 309.04]}]},\n",
       "    'Itaí',\n",
       "    {'and': [{'==': [{'var': 'roadName'}, 'SP-255']},\n",
       "      {'>=': [{'var': 'km'}, 309.04]},\n",
       "      {'<=': [{'var': 'km'}, 320.0]}]},\n",
       "    'Taquarituba',\n",
       "    {'and': [{'==': [{'var': 'roadName'}, 'SP-255']},\n",
       "      {'>=': [{'var': 'km'}, 334.25]},\n",
       "      {'<=': [{'var': 'km'}, 345.46]}]},\n",
       "    'Coronel Macedo',\n",
       "    {'and': [{'==': [{'var': 'roadName'}, 'SP-255']},\n",
       "      {'>=': [{'var': 'km'}, 345.46]},\n",
       "      {'<=': [{'var': 'km'}, 357.5]}]},\n",
       "    'Itaporanga',\n",
       "    {'and': [{'==': [{'var': 'roadName'}, 'SP-281']},\n",
       "      {'>=': [{'var': 'km'}, 43.36]},\n",
       "      {'<=': [{'var': 'km'}, 49.64]}]},\n",
       "    'Riversul',\n",
       "    {'and': [{'==': [{'var': 'roadName'}, 'SP-281']},\n",
       "      {'>=': [{'var': 'km'}, 49.64]},\n",
       "      {'<=': [{'var': 'km'}, 67.72]}]},\n",
       "    'Itaporanga',\n",
       "    {'and': [{'==': [{'var': 'roadName'}, 'SP-281']},\n",
       "      {'>=': [{'var': 'km'}, 67.72]},\n",
       "      {'<=': [{'var': 'km'}, 70.85]}]},\n",
       "    'Barão de Antonina',\n",
       "    {'and': [{'==': [{'var': 'roadName'}, 'SP-304']},\n",
       "      {'>=': [{'var': 'km'}, 285.0]},\n",
       "      {'<=': [{'var': 'km'}, 297.0]}]},\n",
       "    'Jaú',\n",
       "    {'and': [{'==': [{'var': 'roadName'}, 'SPA-043/281']},\n",
       "      {'<=': [{'var': 'km'}, 3.0]}]},\n",
       "    'Riversul',\n",
       "    {'and': [{'==': [{'var': 'roadName'}, 'SPA-085/255']},\n",
       "      {'<=': [{'var': 'km'}, 1.115]}]},\n",
       "    'Araraquara',\n",
       "    {'and': [{'==': [{'var': 'roadName'}, 'SPA-106/255']},\n",
       "      {'<=': [{'var': 'km'}, 7.25]}]},\n",
       "    'Boa Esperança do Sul',\n",
       "    {'and': [{'==': [{'var': 'roadName'}, 'SPA-112/255']},\n",
       "      {'<=': [{'var': 'km'}, 1.1]}]},\n",
       "    'Boa Esperança do Sul',\n",
       "    {'and': [{'==': [{'var': 'roadName'}, 'SPA-114/255']},\n",
       "      {'<=': [{'var': 'km'}, 1.0]}]},\n",
       "    'Boa Esperança do Sul',\n",
       "    {'and': [{'==': [{'var': 'roadName'}, 'SPA-115/255']},\n",
       "      {'<=': [{'var': 'km'}, 2.1]}]},\n",
       "    'Boa Esperança do Sul',\n",
       "    {'and': [{'==': [{'var': 'roadName'}, 'SPA-115/255']},\n",
       "      {'>=': [{'var': 'km'}, 2.1]},\n",
       "      {'<=': [{'var': 'km'}, 7.2]}]},\n",
       "    'Trabiju',\n",
       "    {'and': [{'==': [{'var': 'roadName'}, 'SPA-133/255']},\n",
       "      {'<=': [{'var': 'km'}, 5.7]}]},\n",
       "    'Bocaina',\n",
       "    {'and': [{'==': [{'var': 'roadName'}, 'SPA-138/255']},\n",
       "      {'<=': [{'var': 'km'}, 4.8]}]},\n",
       "    'Bocaina',\n",
       "    {'and': [{'==': [{'var': 'roadName'}, 'SPA-179/255']},\n",
       "      {'<=': [{'var': 'km'}, 0.4]}]},\n",
       "    'Igaraçu do Tietê',\n",
       "    {'and': [{'==': [{'var': 'roadName'}, 'SPA-196/255']},\n",
       "      {'<=': [{'var': 'km'}, 2.5]}]},\n",
       "    'São Manuel',\n",
       "    {'and': [{'==': [{'var': 'roadName'}, 'SPA-198/255']},\n",
       "      {'<=': [{'var': 'km'}, 5.7]}]},\n",
       "    'São Manuel',\n",
       "    {'and': [{'==': [{'var': 'roadName'}, 'SPA-214/255']},\n",
       "      {'<=': [{'var': 'km'}, 0.7]}]},\n",
       "    'Pratânia',\n",
       "    {'and': [{'==': [{'var': 'roadName'}, 'SPA-338/255']},\n",
       "      {'<=': [{'var': 'km'}, 0.93]}]},\n",
       "    'Coronel Macedo',\n",
       "    {'and': [{'==': [{'var': 'roadName'}, 'SPI-274/310']},\n",
       "      {'<=': [{'var': 'km'}, 2.1]}]},\n",
       "    'Araraquara',\n",
       "    {'and': [{'==': [{'var': 'roadName'}, 'SP-255']},\n",
       "      {'>=': [{'var': 'km'}, 2.8]},\n",
       "      {'<=': [{'var': 'km'}, 19.0]}]},\n",
       "    'Ribeirão Preto',\n",
       "    {'and': [{'==': [{'var': 'roadName'}, 'SP-255']},\n",
       "      {'>=': [{'var': 'km'}, 19.0]},\n",
       "      {'<=': [{'var': 'km'}, 24.25]}]},\n",
       "    'Cravinhos',\n",
       "    {'and': [{'==': [{'var': 'roadName'}, 'SP-255']},\n",
       "      {'>=': [{'var': 'km'}, 24.25]},\n",
       "      {'<=': [{'var': 'km'}, 32.87]}]},\n",
       "    'Luís Antônio',\n",
       "    {'and': [{'==': [{'var': 'roadName'}, 'SP-255']},\n",
       "      {'>=': [{'var': 'km'}, 32.87]},\n",
       "      {'<=': [{'var': 'km'}, 47.6]}]},\n",
       "    'Guatapará',\n",
       "    {'and': [{'==': [{'var': 'roadName'}, 'SP-255']},\n",
       "      {'>=': [{'var': 'km'}, 47.6]},\n",
       "      {'<=': [{'var': 'km'}, 53.5]}]},\n",
       "    'Rincão',\n",
       "    {'and': [{'==': [{'var': 'roadName'}, 'SP-255']},\n",
       "      {'>=': [{'var': 'km'}, 53.5]},\n",
       "      {'<=': [{'var': 'km'}, 61.1]}]},\n",
       "    'Santa Lúcia',\n",
       "    {'and': [{'==': [{'var': 'roadName'}, 'SP-255']},\n",
       "      {'>=': [{'var': 'km'}, 61.1]},\n",
       "      {'<=': [{'var': 'km'}, 71.0]}]},\n",
       "    'Américo Brasiliense',\n",
       "    {'and': [{'==': [{'var': 'roadName'}, 'SP-255']},\n",
       "      {'>=': [{'var': 'km'}, 71.0]},\n",
       "      {'<=': [{'var': 'km'}, 83.2]}]},\n",
       "    'Araraquara',\n",
       "    {'and': [{'==': [{'var': 'roadName'}, 'SP-257']},\n",
       "      {'<=': [{'var': 'km'}, 6.92]}]},\n",
       "    'Américo Brasiliense',\n",
       "    {'and': [{'==': [{'var': 'roadName'}, 'SP-257']},\n",
       "      {'>=': [{'var': 'km'}, 6.92]},\n",
       "      {'<=': [{'var': 'km'}, 16.1]}]},\n",
       "    'Santa Lúcia',\n",
       "    {'and': [{'==': [{'var': 'roadName'}, 'SP-257']},\n",
       "      {'>=': [{'var': 'km'}, 16.1]},\n",
       "      {'<=': [{'var': 'km'}, 19.8]}]},\n",
       "    'Rincão',\n",
       "    {'and': [{'==': [{'var': 'roadName'}, 'SP-318']},\n",
       "      {'>=': [{'var': 'km'}, 235.4]},\n",
       "      {'<=': [{'var': 'km'}, 267.4]}]},\n",
       "    'São Carlos',\n",
       "    {'and': [{'==': [{'var': 'roadName'}, 'SP-318']},\n",
       "      {'>=': [{'var': 'km'}, 267.4]},\n",
       "      {'<=': [{'var': 'km'}, 270.5]}]},\n",
       "    'Américo Brasiliense',\n",
       "    {'and': [{'==': [{'var': 'roadName'}, 'SP-318']},\n",
       "      {'>=': [{'var': 'km'}, 270.5]},\n",
       "      {'<=': [{'var': 'km'}, 271.6]}]},\n",
       "    'Santa Lúcia',\n",
       "    {'and': [{'==': [{'var': 'roadName'}, 'SP-318']},\n",
       "      {'>=': [{'var': 'km'}, 271.6]},\n",
       "      {'<=': [{'var': 'km'}, 280.0]}]},\n",
       "    'Rincão',\n",
       "    {'and': [{'==': [{'var': 'roadName'}, 'SP-328']},\n",
       "      {'>=': [{'var': 'km'}, 289.83]},\n",
       "      {'<=': [{'var': 'km'}, 292.76]}]},\n",
       "    'São Simão',\n",
       "    {'and': [{'==': [{'var': 'roadName'}, 'SP-328']},\n",
       "      {'>=': [{'var': 'km'}, 292.76]},\n",
       "      {'<=': [{'var': 'km'}, 300.28]}]},\n",
       "    'Cravinhos',\n",
       "    {'and': [{'==': [{'var': 'roadName'}, 'SP-328']},\n",
       "      {'>=': [{'var': 'km'}, 300.28]},\n",
       "      {'<=': [{'var': 'km'}, 300.964]}]},\n",
       "    'Ribeirão Preto',\n",
       "    {'and': [{'==': [{'var': 'roadName'}, 'SP-328']},\n",
       "      {'>=': [{'var': 'km'}, 300.964]},\n",
       "      {'<=': [{'var': 'km'}, 301.518]}]},\n",
       "    'Cravinhos',\n",
       "    {'and': [{'==': [{'var': 'roadName'}, 'SP-328']},\n",
       "      {'>=': [{'var': 'km'}, 301.518]},\n",
       "      {'<=': [{'var': 'km'}, 302.06]}]},\n",
       "    'Ribeirão Preto',\n",
       "    {'and': [{'==': [{'var': 'roadName'}, 'SP-328']},\n",
       "      {'>=': [{'var': 'km'}, 304.31]},\n",
       "      {'<=': [{'var': 'km'}, 306.82]}]},\n",
       "    'Ribeirão Preto',\n",
       "    {'and': [{'==': [{'var': 'roadName'}, 'SP-328']},\n",
       "      {'>=': [{'var': 'km'}, 307.6]},\n",
       "      {'<=': [{'var': 'km'}, 311.93]}]},\n",
       "    'Ribeirão Preto',\n",
       "    {'and': [{'==': [{'var': 'roadName'}, 'SP-330']},\n",
       "      {'>=': [{'var': 'km'}, 240.0]},\n",
       "      {'<=': [{'var': 'km'}, 261.0]}]},\n",
       "    'Santa Rita do Passa Quatro',\n",
       "    {'and': [{'==': [{'var': 'roadName'}, 'SP-330']},\n",
       "      {'>=': [{'var': 'km'}, 261.0]},\n",
       "      {'<=': [{'var': 'km'}, 284.81]}]},\n",
       "    'São Simão',\n",
       "    {'and': [{'==': [{'var': 'roadName'}, 'SP-330']},\n",
       "      {'>=': [{'var': 'km'}, 284.81]},\n",
       "      {'<=': [{'var': 'km'}, 289.65]}]},\n",
       "    'Cravinhos',\n",
       "    {'and': [{'==': [{'var': 'roadName'}, 'SP-330']},\n",
       "      {'>=': [{'var': 'km'}, 289.65]},\n",
       "      {'<=': [{'var': 'km'}, 300.34]}]},\n",
       "    'Cravinhos',\n",
       "    {'and': [{'==': [{'var': 'roadName'}, 'SP-330']},\n",
       "      {'>=': [{'var': 'km'}, 300.34]},\n",
       "      {'<=': [{'var': 'km'}, 319.0]}]},\n",
       "    'Ribeirão Preto',\n",
       "    {'and': [{'==': [{'var': 'roadName'}, 'SP-334']},\n",
       "      {'>=': [{'var': 'km'}, 318.0]},\n",
       "      {'<=': [{'var': 'km'}, 321.0]}]},\n",
       "    'Ribeirão Preto',\n",
       "    {'and': [{'==': [{'var': 'roadName'}, 'SP-334']},\n",
       "      {'>=': [{'var': 'km'}, 321.0]},\n",
       "      {'<=': [{'var': 'km'}, 330.96]}]},\n",
       "    'Jardinópolis',\n",
       "    {'and': [{'==': [{'var': 'roadName'}, 'SP-334']},\n",
       "      {'>=': [{'var': 'km'}, 330.96]},\n",
       "      {'<=': [{'var': 'km'}, 342.05]}]},\n",
       "    'Brodówski',\n",
       "    {'and': [{'==': [{'var': 'roadName'}, 'SP-334']},\n",
       "      {'>=': [{'var': 'km'}, 342.05]},\n",
       "      {'<=': [{'var': 'km'}, 372.0]}]},\n",
       "    'Batatais',\n",
       "    {'and': [{'==': [{'var': 'roadName'}, 'SP-334']},\n",
       "      {'>=': [{'var': 'km'}, 372.0]},\n",
       "      {'<=': [{'var': 'km'}, 388.65]}]},\n",
       "    'Restinga',\n",
       "    {'and': [{'==': [{'var': 'roadName'}, 'SP-334']},\n",
       "      {'>=': [{'var': 'km'}, 388.65]},\n",
       "      {'<=': [{'var': 'km'}, 409.0]}]},\n",
       "    'Franca',\n",
       "    {'and': [{'==': [{'var': 'roadName'}, 'SP-345']},\n",
       "      {'>=': [{'var': 'km'}, 10.5]},\n",
       "      {'<=': [{'var': 'km'}, 12.2]}]},\n",
       "    'Itirapuã',\n",
       "    {'and': [{'==': [{'var': 'roadName'}, 'SP-345']},\n",
       "      {'>=': [{'var': 'km'}, 10.0]},\n",
       "      {'<=': [{'var': 'km'}, 25.5]}]},\n",
       "    'Patrocínio Paulista',\n",
       "    {'and': [{'==': [{'var': 'roadName'}, 'SP-345']},\n",
       "      {'>=': [{'var': 'km'}, 25.5]},\n",
       "      {'<=': [{'var': 'km'}, 40.0]}]},\n",
       "    'Franca',\n",
       "    {'and': [{'==': [{'var': 'roadName'}, 'SPA-004/257']},\n",
       "      {'<=': [{'var': 'km'}, 4.6]}]},\n",
       "    'Américo Brasiliense',\n",
       "    {'and': [{'==': [{'var': 'roadName'}, 'SPA-011/345']},\n",
       "      {'<=': [{'var': 'km'}, 1.8]}]},\n",
       "    'Itirapuã',\n",
       "    {'and': [{'==': [{'var': 'roadName'}, 'SPA-020/345']},\n",
       "      {'<=': [{'var': 'km'}, 2.5]}]},\n",
       "    'Patrocínio Paulista',\n",
       "    {'and': [{'==': [{'var': 'roadName'}, 'SPA-051/255']},\n",
       "      {'<=': [{'var': 'km'}, 12.8]}]},\n",
       "    'Rincão',\n",
       "    {'and': [{'==': [{'var': 'roadName'}, 'SPA-074/255']},\n",
       "      {'<=': [{'var': 'km'}, 5.0]}]},\n",
       "    'Araraquara',\n",
       "    {'and': [{'==': [{'var': 'roadName'}, 'SPA-077/255']},\n",
       "      {'<=': [{'var': 'km'}, 3.0]}]},\n",
       "    'Araraquara',\n",
       "    {'and': [{'==': [{'var': 'roadName'}, 'SPA-241/330']},\n",
       "      {'<=': [{'var': 'km'}, 11.95]}]},\n",
       "    'Santa Rita do Passa Quatro',\n",
       "    {'and': [{'==': [{'var': 'roadName'}, 'SPA-268/310']},\n",
       "      {'<=': [{'var': 'km'}, 2.9]}]},\n",
       "    'Araraquara',\n",
       "    {'and': [{'==': [{'var': 'roadName'}, 'SPA-271/310']},\n",
       "      {'<=': [{'var': 'km'}, 0.58]}]},\n",
       "    'Araraquara',\n",
       "    {'and': [{'==': [{'var': 'roadName'}, 'SPA-307/330']},\n",
       "      {'<=': [{'var': 'km'}, 3.6]}]},\n",
       "    'Ribeirão Preto',\n",
       "    {'and': [{'==': [{'var': 'roadName'}, 'SPA-318/330']},\n",
       "      {'<=': [{'var': 'km'}, 1.65]}]},\n",
       "    'Ribeirão Preto',\n",
       "    {'and': [{'==': [{'var': 'roadName'}, 'SPA-321/334']},\n",
       "      {'<=': [{'var': 'km'}, 4.3]}]},\n",
       "    'Jardinópolis',\n",
       "    {'and': [{'==': [{'var': 'roadName'}, 'SPA-334/334']},\n",
       "      {'<=': [{'var': 'km'}, 1.469]}]},\n",
       "    'Brodówski',\n",
       "    {'and': [{'==': [{'var': 'roadName'}, 'SPA-334/334']},\n",
       "      {'>=': [{'var': 'km'}, 1.469]},\n",
       "      {'<=': [{'var': 'km'}, 9.7]}]},\n",
       "    'Jardinópolis',\n",
       "    {'and': [{'==': [{'var': 'roadName'}, 'SPA-348/334']},\n",
       "      {'<=': [{'var': 'km'}, 3.5]}]},\n",
       "    'Batatais',\n",
       "    {'and': [{'==': [{'var': 'roadName'}, 'SPA-352/334']},\n",
       "      {'<=': [{'var': 'km'}, 2.9]}]},\n",
       "    'Batatais',\n",
       "    {'and': [{'==': [{'var': 'roadName'}, 'SPA-384/334']},\n",
       "      {'<=': [{'var': 'km'}, 4.2]}]},\n",
       "    'Restinga',\n",
       "    {'and': [{'==': [{'var': 'roadName'}, 'SPA-397/334']},\n",
       "      {'>=': [{'var': 'km'}, 2.44]},\n",
       "      {'<=': [{'var': 'km'}, 4.47]}]},\n",
       "    'Franca',\n",
       "    {'and': [{'==': [{'var': 'roadName'}, 'SPA-397/334']},\n",
       "      {'>=': [{'var': 'km'}, 4.47]},\n",
       "      {'<=': [{'var': 'km'}, 9.95]}]},\n",
       "    'Restinga',\n",
       "    'NA']},\n",
       "  'apiName': 'levelField'}]"
      ]
     },
     "execution_count": 52,
     "metadata": {},
     "output_type": "execute_result"
    }
   ],
   "source": [
    "classe.form_fields['fields']"
   ]
  },
  {
   "cell_type": "markdown",
   "id": "009012b6",
   "metadata": {},
   "source": [
    "# 5.1 Fiz merda nesse caso em específico e agora?"
   ]
  },
  {
   "cell_type": "code",
   "execution_count": null,
   "id": "f700efd6",
   "metadata": {},
   "outputs": [],
   "source": [
    "for classe in tqdm(occs):\n",
    "    history_classe = classe.history.all().order_by('-history_date')[1]\n",
    "    history_classe.instance.save()"
   ]
  },
  {
   "cell_type": "markdown",
   "id": "6ed4f480",
   "metadata": {},
   "source": [
    "# 6. Exemplo de consulta de um histórico"
   ]
  },
  {
   "cell_type": "code",
   "execution_count": 55,
   "id": "ef8e35dd",
   "metadata": {},
   "outputs": [
    {
     "name": "stdout",
     "output_type": "stream",
     "text": [
      "felippe.vanroo - Felippe Vanroo 2024-03-20 18:05:45.811467+00:00\n",
      "felippe.vanroo - Felippe Vanroo 2024-03-19 14:39:46.789259+00:00\n",
      "felippe.vanroo - Felippe Vanroo 2024-03-19 14:38:32.134886+00:00\n",
      "luan.poletti - Luan Poletti 2024-03-15 17:38:37.879957+00:00\n",
      "rlcs - Kartado CS 2024-03-15 17:03:02.997066+00:00\n",
      "luan.poletti - Luan Poletti 2024-03-15 16:56:42.661613+00:00\n",
      "rlcs - Kartado CS 2024-03-15 16:50:54.126050+00:00\n",
      "rlcs - Kartado CS 2024-03-15 16:50:13.942149+00:00\n",
      "rlcs - Kartado CS 2024-03-15 16:49:18.144945+00:00\n",
      "joao.nitzke - João Nitzke 2024-03-12 17:40:57.952411+00:00\n"
     ]
    }
   ],
   "source": [
    "# exemplo de consulta pelo histórico de alterações:\n",
    "for a in Company.history.filter(name='Demo Concessionárias').order_by('-history_date')[:10]:\n",
    "    print(a.history_user,a.history_date)"
   ]
  },
  {
   "cell_type": "markdown",
   "id": "3fdec796",
   "metadata": {},
   "source": [
    "# 7. Adição de Equipes/Usuários ao fluxo de aprovação"
   ]
  },
  {
   "cell_type": "code",
   "execution_count": 56,
   "id": "66442bcf",
   "metadata": {},
   "outputs": [
    {
     "data": {
      "text/plain": [
       "5"
      ]
     },
     "execution_count": 56,
     "metadata": {},
     "output_type": "execute_result"
    }
   ],
   "source": [
    "aps=ApprovalStep.objects.filter(approval_flow__company__name='Demo Concessionárias',\n",
    "                           approval_flow__target_model__icontains='reporting')\n",
    "aps.count()"
   ]
  },
  {
   "cell_type": "code",
   "execution_count": 59,
   "id": "1fe0d24d",
   "metadata": {},
   "outputs": [
    {
     "name": "stdout",
     "output_type": "stream",
     "text": [
      "<QuerySet [<User: caroline.baumgartner - Caroline Baumgartner>, <User: eduarda.bernardo - Eduarda Bernardo>, <User: lucas.pereira - Lucas Pereira Luiz>, <User: danieli.soares - Danieli Soares>, <User: pedro.cardoso - Pedro Cardoso>, <User: victor.martins - Victor Martins>, <User: luiza.franco - Luiza Franco>, <User: joao.nitzke - João Nitzke>]>\n"
     ]
    }
   ],
   "source": [
    "for a in aps.filter(name='Aguardando Aprovação'):\n",
    "    a.responsible_users.add(*User.objects.filter(username__in=['luiza.franco','joao.nitzke']))\n",
    "    print(a.responsible_users.all())"
   ]
  },
  {
   "cell_type": "markdown",
   "id": "3fbb7b69",
   "metadata": {},
   "source": [
    "# 8. Verificar se chave existe em permissões"
   ]
  },
  {
   "cell_type": "code",
   "execution_count": 60,
   "id": "e9d43d44",
   "metadata": {},
   "outputs": [
    {
     "data": {
      "text/plain": [
       "15"
      ]
     },
     "execution_count": 60,
     "metadata": {},
     "output_type": "execute_result"
    }
   ],
   "source": [
    "# todas as permissões da unidade\n",
    "up=UserPermission.objects.filter(companies__name='Demo Concessionárias')\n",
    "up.count()"
   ]
  },
  {
   "cell_type": "code",
   "execution_count": 61,
   "id": "91a630c8",
   "metadata": {},
   "outputs": [
    {
     "data": {
      "text/plain": [
       "13"
      ]
     },
     "execution_count": 61,
     "metadata": {},
     "output_type": "execute_result"
    }
   ],
   "source": [
    "# permissões com alguma chave específica\n",
    "up2=UserPermission.objects.filter(companies__name='Demo Concessionárias',\n",
    "                                  permissions__has_key='ContractItemAdministration')\n",
    "up2.count()"
   ]
  },
  {
   "cell_type": "code",
   "execution_count": 68,
   "id": "58bea273",
   "metadata": {},
   "outputs": [
    {
     "data": {
      "text/plain": [
       "2"
      ]
     },
     "execution_count": 68,
     "metadata": {},
     "output_type": "execute_result"
    }
   ],
   "source": [
    "# permissões excluindo permissões que contenham uma chave específica\n",
    "up3=UserPermission.objects.filter(\n",
    "    companies__name='Demo Concessionárias'\n",
    ").exclude(permissions__has_key='ContractItemAdministration')\n",
    "up3.count()"
   ]
  },
  {
   "cell_type": "code",
   "execution_count": 63,
   "id": "f4c9bd51",
   "metadata": {},
   "outputs": [
    {
     "data": {
      "text/plain": [
       "1"
      ]
     },
     "execution_count": 63,
     "metadata": {},
     "output_type": "execute_result"
    }
   ],
   "source": [
    "from django.db.models import Q\n",
    "\"\"\"\n",
    "Função Q pode ser usada com as condições \n",
    "\"OU\" representada pelo simbolo |, ou pela condição \n",
    "\"AND\" representada pelo simbolo &,\n",
    "ainda é possivel fazer a negação das função utilizando o simbolo ~ antes da da função Q(), exemplo: ~Q()\n",
    "\"\"\"\n",
    "UserPermission.objects.filter(\n",
    "    ~Q(permissions__has_key='ContractItemAdministration') & ~Q(permissions__has_key='Reporting'),\n",
    "    companies__name='Demo Concessionárias'\n",
    ").count()"
   ]
  },
  {
   "cell_type": "code",
   "execution_count": 67,
   "id": "31455c79",
   "metadata": {},
   "outputs": [
    {
     "data": {
      "text/plain": [
       "{'can_edit': True,\n",
       " 'can_view': True,\n",
       " 'queryset': 'all',\n",
       " 'can_create': True,\n",
       " 'can_delete': True,\n",
       " 'can_view_money': True}"
      ]
     },
     "execution_count": 67,
     "metadata": {},
     "output_type": "execute_result"
    }
   ],
   "source": [
    "up2.first().permissions['ContractItemAdministration']"
   ]
  },
  {
   "cell_type": "code",
   "execution_count": null,
   "id": "a82112e6",
   "metadata": {},
   "outputs": [],
   "source": [
    "for a in tqdm(up3):\n",
    "    a.permissions['ContractItemAdministration'] = {'can_edit': True,\n",
    "                                                 'can_view': True,\n",
    "                                                 'queryset': 'all',\n",
    "                                                 'can_create': True,\n",
    "                                                 'can_delete': True,\n",
    "                                                 'can_view_money': True}\n",
    "#     a.save()"
   ]
  },
  {
   "cell_type": "code",
   "execution_count": null,
   "id": "6d9d6269",
   "metadata": {},
   "outputs": [],
   "source": []
  },
  {
   "cell_type": "code",
   "execution_count": null,
   "id": "5ed4ffab",
   "metadata": {},
   "outputs": [],
   "source": []
  },
  {
   "cell_type": "code",
   "execution_count": null,
   "id": "9bddabac",
   "metadata": {},
   "outputs": [],
   "source": []
  },
  {
   "cell_type": "code",
   "execution_count": null,
   "id": "710cbf83",
   "metadata": {},
   "outputs": [],
   "source": []
  },
  {
   "cell_type": "code",
   "execution_count": null,
   "id": "247f5f8d",
   "metadata": {},
   "outputs": [],
   "source": []
  },
  {
   "cell_type": "code",
   "execution_count": null,
   "id": "1913030e",
   "metadata": {},
   "outputs": [],
   "source": []
  },
  {
   "cell_type": "code",
   "execution_count": null,
   "id": "80e32c70",
   "metadata": {},
   "outputs": [],
   "source": []
  },
  {
   "cell_type": "code",
   "execution_count": null,
   "id": "b6f91e1e",
   "metadata": {},
   "outputs": [],
   "source": []
  },
  {
   "cell_type": "code",
   "execution_count": null,
   "id": "282e73cf",
   "metadata": {},
   "outputs": [],
   "source": []
  },
  {
   "cell_type": "code",
   "execution_count": null,
   "id": "8bf0cdae",
   "metadata": {},
   "outputs": [],
   "source": []
  },
  {
   "cell_type": "code",
   "execution_count": null,
   "id": "831009b8",
   "metadata": {},
   "outputs": [],
   "source": []
  },
  {
   "cell_type": "code",
   "execution_count": null,
   "id": "b0acdc5f",
   "metadata": {},
   "outputs": [],
   "source": []
  },
  {
   "cell_type": "code",
   "execution_count": null,
   "id": "85cdf513",
   "metadata": {
    "scrolled": false
   },
   "outputs": [],
   "source": [
    "reps=Reporting.objects.filter(created_at__gte='2023-09-07').only('km').prefetch_related('company')\n",
    "reps.count()"
   ]
  },
  {
   "cell_type": "code",
   "execution_count": null,
   "id": "9ed2199c",
   "metadata": {},
   "outputs": [],
   "source": [
    "data={\"0\":0,\"1\":0,\"2\":0,\"3\":0,\"4\":0,\"5\":0,\"6\":0}\n",
    "from tqdm.notebook import tqdm\n",
    "for a in tqdm(reps):\n",
    "    if a.company.name not in data.keys():\n",
    "        data[a.company.name] = {\"0\":0,\"1\":0,\"2\":0,\"3\":0,\"4\":0,\"5\":0,\"6\":0,'7':0,'8':0}\n",
    "    if len(str(a.km).split('.')) == 2 and str(a.km).split('.')[1] == '0':\n",
    "        data[a.company.name]['0'] +=1\n",
    "    elif len(str(a.km).split('.')[1]) ==1:\n",
    "        data[a.company.name]['1'] +=1\n",
    "    elif len(str(a.km).split('.')[1]) ==2:\n",
    "        data[a.company.name]['2'] +=1\n",
    "    elif len(str(a.km).split('.')[1]) ==3:\n",
    "        data[a.company.name]['3'] +=1\n",
    "    elif len(str(a.km).split('.')[1]) ==4:\n",
    "        data[a.company.name]['4'] +=1\n",
    "    elif len(str(a.km).split('.')[1]) ==5:\n",
    "        data[a.company.name]['5'] +=1\n",
    "    elif len(str(a.km).split('.')[1]) ==6:\n",
    "        data[a.company.name]['6'] +=1\n",
    "    elif len(str(a.km).split('.')[1]) ==7:\n",
    "        data[a.company.name]['7'] +=1\n",
    "    elif len(str(a.km).split('.')[1]) ==8:\n",
    "        data[a.company.name]['8'] +=1\n",
    "    "
   ]
  },
  {
   "cell_type": "code",
   "execution_count": null,
   "id": "320c5e1f",
   "metadata": {},
   "outputs": [],
   "source": [
    "data"
   ]
  },
  {
   "cell_type": "code",
   "execution_count": null,
   "id": "29476030",
   "metadata": {},
   "outputs": [],
   "source": [
    "import pandas as pd\n",
    "df=pd.DataFrame(data=data)\n",
    "df.transpose().to_excel('dadosKmKartado.xlsx')"
   ]
  },
  {
   "cell_type": "code",
   "execution_count": null,
   "id": "b0906196",
   "metadata": {},
   "outputs": [],
   "source": [
    "km=240\n",
    "str(km).split('.')"
   ]
  },
  {
   "cell_type": "code",
   "execution_count": null,
   "id": "8cf7b3da",
   "metadata": {},
   "outputs": [],
   "source": [
    "a.km"
   ]
  },
  {
   "cell_type": "code",
   "execution_count": null,
   "id": "c257e87f",
   "metadata": {},
   "outputs": [],
   "source": []
  }
 ],
 "metadata": {
  "kernelspec": {
   "display_name": "Django Shell-Plus",
   "language": "python",
   "name": "django_extensions"
  },
  "language_info": {
   "codemirror_mode": {
    "name": "ipython",
    "version": 3
   },
   "file_extension": ".py",
   "mimetype": "text/x-python",
   "name": "python",
   "nbconvert_exporter": "python",
   "pygments_lexer": "ipython3",
   "version": "3.8.16"
  }
 },
 "nbformat": 4,
 "nbformat_minor": 5
}
