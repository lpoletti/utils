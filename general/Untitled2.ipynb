{
 "cells": [
  {
   "cell_type": "code",
   "execution_count": null,
   "id": "c2f53397",
   "metadata": {},
   "outputs": [],
   "source": [
    "import json\n",
    "import os\n",
    "import datetime\n",
    "from copy import deepcopy\n",
    "from json_logic import jsonLogic\n",
    "from helpers.histories import bulk_update_with_history\n",
    "from tqdm.notebook import tqdm\n",
    "from helpers.km_converter import get_road_coordinates,km_to_coordinates\n",
    "from django.contrib.gis.geos import LineString, Point\n",
    "from django.db.models import Q\n",
    "import time\n",
    "import pytz\n",
    "import uuid\n",
    "import json\n",
    "import re\n",
    "import pandas as pd\n",
    "from openpyxl import load_workbook\n",
    "from datetime import timedelta\n",
    "import random\n",
    "from copy import deepcopy\n",
    "from django.contrib.gis.geos import LineString, Point\n",
    "from django.contrib.admin.utils import flatten\n",
    "import math\n",
    "import datetime\n",
    "import locale\n",
    "from tqdm.notebook import tqdm\n",
    "from PIL import Image\n",
    "from io import BytesIO\n",
    "from simple_history.utils import bulk_create_with_history\n",
    "from django.contrib.gis.geos import Point, LineString as DjangoLineString\n",
    "from helpers.dates import utc_to_local\n",
    "from helpers.apps.reportings import get_occurrence_kind"
   ]
  },
  {
   "cell_type": "code",
   "execution_count": null,
   "id": "4c86423f",
   "metadata": {},
   "outputs": [],
   "source": [
    "OccurrenceType.objects.select_related('company').all()"
   ]
  },
  {
   "cell_type": "code",
   "execution_count": null,
   "id": "e5a6444d",
   "metadata": {},
   "outputs": [],
   "source": [
    "occurrences=OccurrenceType.objects.filter(company__name='CART')"
   ]
  },
  {
   "cell_type": "code",
   "execution_count": null,
   "id": "8539d8aa",
   "metadata": {},
   "outputs": [],
   "source": [
    "occurrences.count()"
   ]
  },
  {
   "cell_type": "code",
   "execution_count": null,
   "id": "6a7f83e4",
   "metadata": {},
   "outputs": [],
   "source": [
    "for a in occurrences:\n",
    "    for b in a.form_fields['fields']:\n",
    "        if b.get('displayName') == 'Multa':\n",
    "            print(a.name,a.occurrence_kind)"
   ]
  },
  {
   "cell_type": "code",
   "execution_count": null,
   "id": "969bf184",
   "metadata": {},
   "outputs": [],
   "source": [
    "reps=Reporting.objects.filter(found_at__gte='2023-01-01',\n",
    "                              found_at__lte='2023-10-31',\n",
    "                              form_data__demand_origin=['3'],\n",
    "                              job__uuid='ace0dc4b-46d5-498f-8455-25f3052e4037',\n",
    "                              company__name='Arteris Intervias')\n",
    "reps.count()"
   ]
  },
  {
   "cell_type": "code",
   "execution_count": null,
   "id": "405b4571",
   "metadata": {},
   "outputs": [],
   "source": [
    "reps[0].job.uuid"
   ]
  },
  {
   "cell_type": "code",
   "execution_count": null,
   "id": "850296f3",
   "metadata": {},
   "outputs": [],
   "source": [
    "reps2=Reporting.objects.filter(job__uuid='ace0dc4b-46d5-498f-8455-25f3052e4037',\n",
    "                              company__name='Arteris Intervias').update(job=None)\n"
   ]
  },
  {
   "cell_type": "code",
   "execution_count": null,
   "id": "2fbc5ea7",
   "metadata": {},
   "outputs": [],
   "source": [
    "apt=reps2[0]"
   ]
  },
  {
   "cell_type": "code",
   "execution_count": null,
   "id": "5ba3de5a",
   "metadata": {},
   "outputs": [],
   "source": [
    "apt.job=None"
   ]
  },
  {
   "cell_type": "code",
   "execution_count": null,
   "id": "5dc324d8",
   "metadata": {},
   "outputs": [],
   "source": [
    "apt.number"
   ]
  },
  {
   "cell_type": "code",
   "execution_count": null,
   "id": "c21fa4d2",
   "metadata": {},
   "outputs": [],
   "source": [
    "apt.save()"
   ]
  },
  {
   "cell_type": "code",
   "execution_count": null,
   "id": "9dcc3a2f",
   "metadata": {},
   "outputs": [],
   "source": [
    "import pandas as pd\n",
    "df = pd.DataFrame(data=reps2.values('number','occurrence_type__name','form_data__artesp_code'))\n",
    "df.set_index('number',inplace=True)\n",
    "df.columns('Classe','ArtespCode')"
   ]
  },
  {
   "cell_type": "code",
   "execution_count": null,
   "id": "b2569f33",
   "metadata": {},
   "outputs": [],
   "source": [
    "df"
   ]
  },
  {
   "cell_type": "code",
   "execution_count": null,
   "id": "1d341bbd",
   "metadata": {},
   "outputs": [],
   "source": [
    "df.to_excel('intervias.xlsx')"
   ]
  },
  {
   "cell_type": "code",
   "execution_count": null,
   "id": "6c892a24",
   "metadata": {},
   "outputs": [],
   "source": [
    "from tqdm.notebook import tqdm\n",
    "for a in tqdm(reps):\n",
    "    if not Job.objects.filter(uuid=a.job.uuid).exists():\n",
    "        print(a.number)"
   ]
  },
  {
   "cell_type": "code",
   "execution_count": null,
   "id": "ca0e0b61",
   "metadata": {},
   "outputs": [],
   "source": [
    "lista=[\"cf931c49-0165-4ad9-b3ac-14a525aeab8c\",\"07d4a6f6-bfb2-4be0-8b60-ddeba70c82f9\",\"e97b1b76-e63a-4e0e-982d-5dcfd55d040e\",\"9ad6091a-4efd-4a89-b86f-5026021ebb28\",\"2e2b61de-8ad2-4807-adaf-cf831c611891\",\"177257af-9b8d-4029-be36-edd634f8791f\",\"1bc628e0-5c73-4cc0-ab87-c1270dea46b0\",\"10da0914-3f6f-411c-aea5-99c700c40e33\",\"cb6538d8-5676-4d7f-bbfd-ab4d5de5894b\",\"94d7f86e-bccc-4459-a157-0aec4db96540\",\"42e4bf89-3596-45a7-83dc-3c89b7548bbf\",\"9414b134-4641-4b22-9739-26763aa743c1\",\"8991af68-7945-4c74-8d36-92a6d9730042\",\"842c989f-6182-4355-93a0-af1f12726bc0\",\"9c20ed7b-c948-43b9-a6a1-be11e5f5188b\",\"826c5bae-0043-4b5b-b425-baa2142e50c2\",\"46dd8d2f-89aa-4e45-b425-62bb92aa7cee\",\"123020b3-894a-479f-8d99-85b2b201d5ed\",\"352bab12-17e6-4ab9-96f7-c417ae7ba013\",\"bb3f0212-1be6-4cdf-a7db-77dab2fea5c7\",\"80a92efb-ca36-4b3f-9c56-13b6dd7c0888\",\"197ef57f-6e65-49e3-ae5c-e36d0a61c1b0\",\"e0b6e453-72be-4a70-a6be-36b434a22349\",\"99cd294a-2cf1-4e06-86c3-76e95594d708\",\"34d9ca10-97d0-41e6-960d-61bd19dd5cb9\",\"8ff65b05-78b2-4c9b-bd49-9785d1c9be3a\",\"879f6e8c-d142-4ee5-803c-0c36d20e4f15\",\"94a9b4b5-9a8e-4622-89ff-edea246dee57\",\"7d400d0f-72c7-4f6e-b2a8-77e89575785b\",\"77c80967-ca2e-44fc-a880-4ad22dfe8c66\",\"8b08bed3-06a9-4a34-b71d-c14b3e6bae3b\",\"f48aeb50-0d64-473f-ab11-6926a9ff7812\",\"f8ee25bc-3831-479d-b573-58ee60805f7b\",\"263512cd-28da-4b62-96ef-fa90cdbc7f60\",\"80b422ce-dd72-4003-b447-f7583b637cac\",\"4803d168-5fec-406b-9946-9f4edde32fb5\",\"ace0dc4b-46d5-498f-8455-25f3052e4037\",\"ef240365-3f84-41e6-8012-10594100fed9\",\"a62314aa-2778-4e8e-8015-251cc7e14939\",\"a5aee586-a824-4c39-8b9d-f146353012f6\"]"
   ]
  },
  {
   "cell_type": "code",
   "execution_count": null,
   "id": "7718467f",
   "metadata": {},
   "outputs": [],
   "source": [
    "for a in lista:\n",
    "    try:\n",
    "        job=Job.objects.get(uuid=a)\n",
    "        print(job.reporting_count,job.uuid,job.number)\n",
    "    except:\n",
    "        print(a)"
   ]
  },
  {
   "cell_type": "code",
   "execution_count": null,
   "id": "3654d418",
   "metadata": {},
   "outputs": [],
   "source": [
    "job=Job.objects.get(uuid='ace0dc4b-46d5-498f-8455-25f3052e4037')"
   ]
  },
  {
   "cell_type": "code",
   "execution_count": null,
   "id": "2049b878",
   "metadata": {},
   "outputs": [],
   "source": [
    "job.__dict__,job.firm.name"
   ]
  },
  {
   "cell_type": "code",
   "execution_count": null,
   "id": "e2b71d38",
   "metadata": {},
   "outputs": [],
   "source": [
    "OccurrenceType.objects.first().color"
   ]
  },
  {
   "cell_type": "code",
   "execution_count": null,
   "id": "100fcac2",
   "metadata": {},
   "outputs": [],
   "source": [
    "reps=Reporting.history.filter(company__name=\"Construtora Castilho (Ferrovias)\",\n",
    "                              history_type='-',\n",
    "                              history_user__username='gabriel.rodrigues@kartado.com.br')"
   ]
  },
  {
   "cell_type": "code",
   "execution_count": null,
   "id": "ab9299a5",
   "metadata": {},
   "outputs": [],
   "source": [
    "reps.count()"
   ]
  },
  {
   "cell_type": "code",
   "execution_count": null,
   "id": "57599c24",
   "metadata": {
    "scrolled": true
   },
   "outputs": [],
   "source": [
    "from tqdm.notebook import tqdm\n",
    "for a in tqdm(reps):\n",
    "    a.instance.save()\n",
    "    "
   ]
  },
  {
   "cell_type": "code",
   "execution_count": null,
   "id": "5a918baa",
   "metadata": {},
   "outputs": [],
   "source": [
    "reps[87].__dict__"
   ]
  },
  {
   "cell_type": "code",
   "execution_count": null,
   "id": "dde8b911",
   "metadata": {},
   "outputs": [],
   "source": [
    "from tqdm.notebook import tqdm\n",
    "for a in tqdm(reps[86:]):\n",
    "    a.occurrence_type=OccurrenceType.objects.get(company__name='Construtora Castilho (Ferrovias)',name='EQUIPE DE PRONTO ATENDIM.(EPA - PEDERNEIRAS / USIMINAS)')\n",
    "    a.instance.save()"
   ]
  },
  {
   "cell_type": "code",
   "execution_count": null,
   "id": "27b5a42e",
   "metadata": {},
   "outputs": [],
   "source": [
    "history_classes=OccurrenceType.history.filter(history_user__username='gabriel.rodrigues@kartado.com.br',\n",
    "                              history_type='-',\n",
    "                             history_date__gte='2024-01-11',\n",
    "                             history_date__lt='2024-01-12')"
   ]
  },
  {
   "cell_type": "code",
   "execution_count": null,
   "id": "665c511d",
   "metadata": {},
   "outputs": [],
   "source": [
    "for a in tqdm(history_classes):\n",
    "    a.instance.save()"
   ]
  },
  {
   "cell_type": "code",
   "execution_count": null,
   "id": "2b609b93",
   "metadata": {},
   "outputs": [],
   "source": [
    "from datetime import datetime"
   ]
  },
  {
   "cell_type": "code",
   "execution_count": null,
   "id": "45d351b0",
   "metadata": {
    "scrolled": true
   },
   "outputs": [],
   "source": [
    "rep=Reporting.objects.get(uuid='f0b71e77-7689-418d-8e9a-6b575e985305')\n",
    "rep.__dict__"
   ]
  },
  {
   "cell_type": "code",
   "execution_count": null,
   "id": "36d92e25",
   "metadata": {},
   "outputs": [],
   "source": [
    "rep.updated_at"
   ]
  },
  {
   "cell_type": "code",
   "execution_count": null,
   "id": "76c5e90d",
   "metadata": {},
   "outputs": [],
   "source": [
    "User.objects.get(username='luan.poletti').user_syncs.all()"
   ]
  },
  {
   "cell_type": "code",
   "execution_count": null,
   "id": "56543fee",
   "metadata": {},
   "outputs": [],
   "source": [
    "rep.updated_at = datetime.datetime(2024,1,10)USER_FULL_SYNC_DATA USER_SYNC_DATA "
   ]
  },
  {
   "cell_type": "code",
   "execution_count": null,
   "id": "92f56af5",
   "metadata": {},
   "outputs": [],
   "source": [
    "rep.updated_at\n",
    "rep.history_user=User.objects.get(username='rlcs')\n",
    "rep.updated_at,rep.history_user"
   ]
  },
  {
   "cell_type": "code",
   "execution_count": null,
   "id": "49cdda00",
   "metadata": {},
   "outputs": [],
   "source": [
    "# rep.save()"
   ]
  },
  {
   "cell_type": "code",
   "execution_count": null,
   "id": "be9a5a1b",
   "metadata": {},
   "outputs": [],
   "source": [
    "rep.updated_at,rep.history_user"
   ]
  },
  {
   "cell_type": "code",
   "execution_count": null,
   "id": "a49698c5",
   "metadata": {},
   "outputs": [],
   "source": [
    "from datetime import datetime\n",
    "rep.history_user=User.objects.get(username='rlcs')\n",
    "rep.updated_at=datetime.now()"
   ]
  },
  {
   "cell_type": "code",
   "execution_count": null,
   "id": "b19c1829",
   "metadata": {},
   "outputs": [],
   "source": [
    "rep_file=ReportingFile.objects.first()"
   ]
  },
  {
   "cell_type": "code",
   "execution_count": null,
   "id": "a3410e7c",
   "metadata": {},
   "outputs": [],
   "source": [
    "rep_file.history.all()"
   ]
  },
  {
   "cell_type": "code",
   "execution_count": null,
   "id": "1c3102df",
   "metadata": {},
   "outputs": [],
   "source": [
    "Job.objects.first().__dict__"
   ]
  },
  {
   "cell_type": "code",
   "execution_count": null,
   "id": "2c45e0c7",
   "metadata": {},
   "outputs": [],
   "source": [
    "for a in OccurrenceType.objects.filter(company__name='Entrevias'):\n",
    "    for b in a.form_fields.get('fields'):\n",
    "        if b.get('displayName') is not None and '' in b.get('displayName').lower():\n",
    "            print(a.name)"
   ]
  },
  {
   "cell_type": "code",
   "execution_count": 3,
   "id": "98dbf425",
   "metadata": {},
   "outputs": [
    {
     "data": {
      "text/plain": [
       "8062"
      ]
     },
     "execution_count": 3,
     "metadata": {},
     "output_type": "execute_result"
    }
   ],
   "source": [
    "query=UserInCompany.objects.exclude(Q(user__email__icontains='hermesltda')|\n",
    "                                    Q(user__email__icontains='kartado') | \n",
    "                                    Q(user__email__icontains='roadlabs')|\n",
    "                                    Q(company__name__icontains='demo')|\n",
    "                                    Q(company__name__icontains='GES - ')).prefetch_related('company__company_group','user__company_group')\n",
    "query.count()"
   ]
  },
  {
   "cell_type": "code",
   "execution_count": 5,
   "id": "f84113f6",
   "metadata": {},
   "outputs": [
    {
     "data": {
      "application/vnd.jupyter.widget-view+json": {
       "model_id": "135f4d7864154c60bbdd84072bf53776",
       "version_major": 2,
       "version_minor": 0
      },
      "text/plain": [
       "  0%|          | 0/8062 [00:00<?, ?it/s]"
      ]
     },
     "metadata": {},
     "output_type": "display_data"
    },
    {
     "name": "stdout",
     "output_type": "stream",
     "text": [
      " gralha None 991a1de6-c6ba-417a-a4d9-4c15c3d3d902: DER/SP - D1 [rlcs] Kartado Demonstração\n"
     ]
    }
   ],
   "source": [
    "from tqdm.notebook import tqdm\n",
    "from django.db.models import Q\n",
    "data=[]\n",
    "for a in tqdm(query.order_by('user__username')):\n",
    "    company_group = a.company.company_group\n",
    "    if company_group and a.user.company_group != company_group:\n",
    "#         print(a.user.get_full_name(),a.user.company_group,a.company.name,company_group)\n",
    "        try:\n",
    "            data.append((a.user.get_full_name(),a.user.username,a.user.company_group.name,a.company.name,company_group.name))\n",
    "        except:\n",
    "            print(a.user.get_full_name(),a.user.username,a.user.company_group,a.company,company_group)\n",
    "#         a.user.company_group = company_group\n",
    "#         a.user.save()        "
   ]
  },
  {
   "cell_type": "code",
   "execution_count": 6,
   "id": "2b41c065",
   "metadata": {
    "collapsed": true
   },
   "outputs": [
    {
     "data": {
      "text/plain": [
       "[('Alan Pessoa', 'alan.pessoa', 'Pátria', 'Eixo Sp - Pavimento', 'Eixo Sp'),\n",
       " ('Alessandro Palhares',\n",
       "  'alessandro.palhares',\n",
       "  'Modera',\n",
       "  'DER/SP - D8',\n",
       "  'DER/SP'),\n",
       " ('Alessandro Palhares',\n",
       "  'alessandro.palhares',\n",
       "  'Modera',\n",
       "  'DER/SP - D14',\n",
       "  'DER/SP'),\n",
       " ('Alessandro Palhares',\n",
       "  'alessandro.palhares',\n",
       "  'Modera',\n",
       "  'DER/SP - D4',\n",
       "  'DER/SP'),\n",
       " ('Alessandro Palhares',\n",
       "  'alessandro.palhares',\n",
       "  'Modera',\n",
       "  'DER/SP - D9',\n",
       "  'DER/SP'),\n",
       " ('Alex Pavan BC2', 'alex.pavan', 'Arteris', 'GPS - Via Paulista', 'GPS'),\n",
       " ('Alisson Galvani ELO', 'Alisson.elo', 'Arteris', 'ELO Via Oeste', 'ELO'),\n",
       " ('Alisson Galvani ELO', 'Alisson.elo', 'Arteris', 'ELO AutoBAn', 'ELO'),\n",
       " ('Alisson Galvani ELO', 'Alisson.elo', 'Arteris', 'ELO Via Lagos', 'ELO'),\n",
       " ('Alisson Galvani ELO', 'Alisson.elo', 'Arteris', 'ELO SPVias', 'ELO'),\n",
       " ('Alisson Galvani ELO', 'Alisson.elo', 'Arteris', 'ELO Rodoanel', 'ELO'),\n",
       " ('Ana Carolina Lima', 'anacarolina.lima', 'Eixo Sp', 'Eixo SP', 'Pátria'),\n",
       " ('Ana Luiza Lima',\n",
       "  'analuiza.lima',\n",
       "  'Teste Concessionárias',\n",
       "  'DER/SP - D1',\n",
       "  'Kartado Demonstração'),\n",
       " ('Ana Luiza Lima',\n",
       "  'analuiza.lima',\n",
       "  'Teste Concessionárias',\n",
       "  'DER/SP - D9',\n",
       "  'DER/SP'),\n",
       " ('Ana Luiza Lima',\n",
       "  'analuiza.lima',\n",
       "  'Teste Concessionárias',\n",
       "  'DER/SP - D5',\n",
       "  'DER/SP'),\n",
       " ('Ana Luiza Lima',\n",
       "  'analuiza.lima',\n",
       "  'Teste Concessionárias',\n",
       "  'DER/SP - D11',\n",
       "  'DER/SP'),\n",
       " ('Ana Luiza Lima',\n",
       "  'analuiza.lima',\n",
       "  'Teste Concessionárias',\n",
       "  'DER/SP - D2',\n",
       "  'DER/SP'),\n",
       " ('Ana Luiza Lima',\n",
       "  'analuiza.lima',\n",
       "  'Teste Concessionárias',\n",
       "  'DER/SP - D10',\n",
       "  'DER/SP'),\n",
       " ('Ana Luiza Lima',\n",
       "  'analuiza.lima',\n",
       "  'Teste Concessionárias',\n",
       "  'DER/SP - D14',\n",
       "  'DER/SP'),\n",
       " ('Ana Luiza Lima',\n",
       "  'analuiza.lima',\n",
       "  'Teste Concessionárias',\n",
       "  'DER/SP - D4',\n",
       "  'DER/SP'),\n",
       " ('Ana Luiza Lima',\n",
       "  'analuiza.lima',\n",
       "  'Teste Concessionárias',\n",
       "  'DER/SP - D13',\n",
       "  'DER/SP'),\n",
       " ('Ana Luiza Lima',\n",
       "  'analuiza.lima',\n",
       "  'Teste Concessionárias',\n",
       "  'DER/SP - D6',\n",
       "  'DER/SP'),\n",
       " ('Ana Luiza Lima',\n",
       "  'analuiza.lima',\n",
       "  'Teste Concessionárias',\n",
       "  'DER/SP - D12',\n",
       "  'DER/SP'),\n",
       " ('Ana Luiza Lima',\n",
       "  'analuiza.lima',\n",
       "  'Teste Concessionárias',\n",
       "  'DER/SP - D3',\n",
       "  'DER/SP'),\n",
       " ('Ana Luiza Lima',\n",
       "  'analuiza.lima',\n",
       "  'Teste Concessionárias',\n",
       "  'DER/SP - D8',\n",
       "  'DER/SP'),\n",
       " ('Ana Luiza Lima',\n",
       "  'analuiza.lima',\n",
       "  'Teste Concessionárias',\n",
       "  'DER/SP - D7',\n",
       "  'DER/SP'),\n",
       " ('Ananias Junior',\n",
       "  'ananias.junior',\n",
       "  'Teste Concessionárias',\n",
       "  'DER/SP - D7',\n",
       "  'DER/SP'),\n",
       " ('Ananias Junior',\n",
       "  'ananias.junior',\n",
       "  'Teste Concessionárias',\n",
       "  'DER/SP - D1',\n",
       "  'Kartado Demonstração'),\n",
       " ('Ananias Junior',\n",
       "  'ananias.junior',\n",
       "  'Teste Concessionárias',\n",
       "  'DER/SP - D2',\n",
       "  'DER/SP'),\n",
       " ('Ananias Junior',\n",
       "  'ananias.junior',\n",
       "  'Teste Concessionárias',\n",
       "  'DER/SP - D10',\n",
       "  'DER/SP'),\n",
       " ('Ananias Junior',\n",
       "  'ananias.junior',\n",
       "  'Teste Concessionárias',\n",
       "  'DER/SP - D4',\n",
       "  'DER/SP'),\n",
       " ('Ananias Junior',\n",
       "  'ananias.junior',\n",
       "  'Teste Concessionárias',\n",
       "  'DER/SP - D11',\n",
       "  'DER/SP'),\n",
       " ('Ananias Junior',\n",
       "  'ananias.junior',\n",
       "  'Teste Concessionárias',\n",
       "  'DER/SP - D8',\n",
       "  'DER/SP'),\n",
       " ('Ananias Junior',\n",
       "  'ananias.junior',\n",
       "  'Teste Concessionárias',\n",
       "  'DER/SP - D5',\n",
       "  'DER/SP'),\n",
       " ('Ananias Junior',\n",
       "  'ananias.junior',\n",
       "  'Teste Concessionárias',\n",
       "  'DER/SP - D3',\n",
       "  'DER/SP'),\n",
       " ('Ananias Junior',\n",
       "  'ananias.junior',\n",
       "  'Teste Concessionárias',\n",
       "  'DER/SP - D13',\n",
       "  'DER/SP'),\n",
       " ('Ananias Junior',\n",
       "  'ananias.junior',\n",
       "  'Teste Concessionárias',\n",
       "  'DER/SP - D14',\n",
       "  'DER/SP'),\n",
       " ('Ananias Junior',\n",
       "  'ananias.junior',\n",
       "  'Teste Concessionárias',\n",
       "  'DER/SP - D6',\n",
       "  'DER/SP'),\n",
       " ('Ananias Junior',\n",
       "  'ananias.junior',\n",
       "  'Teste Concessionárias',\n",
       "  'DER/SP - D9',\n",
       "  'DER/SP'),\n",
       " ('Ananias Junior',\n",
       "  'ananias.junior',\n",
       "  'Teste Concessionárias',\n",
       "  'DER/SP - D12',\n",
       "  'DER/SP'),\n",
       " ('Anderson Almeida', 'anderson.almeida', 'Eixo Sp', 'Eixo SP', 'Pátria'),\n",
       " ('Anderson Bueno', 'anderson.bueno', 'Modera', 'DER/SP - D11', 'DER/SP'),\n",
       " ('Anderson Bueno', 'anderson.bueno', 'Modera', 'DER/SP - D7', 'DER/SP'),\n",
       " ('Anderson Bueno', 'anderson.bueno', 'Modera', 'DER/SP - D12', 'DER/SP'),\n",
       " ('Anderson Esteves',\n",
       "  'anderson.esteves',\n",
       "  'Kartado Demonstração',\n",
       "  'DER/SP - D10',\n",
       "  'DER/SP'),\n",
       " ('Anderson Esteves',\n",
       "  'anderson.esteves',\n",
       "  'Kartado Demonstração',\n",
       "  'DER/SP - D6',\n",
       "  'DER/SP'),\n",
       " ('Anderson Esteves',\n",
       "  'anderson.esteves',\n",
       "  'Kartado Demonstração',\n",
       "  'DER/SP - D3',\n",
       "  'DER/SP'),\n",
       " ('Anderson Esteves',\n",
       "  'anderson.esteves',\n",
       "  'Kartado Demonstração',\n",
       "  'DER/SP - D4',\n",
       "  'DER/SP'),\n",
       " ('Anderson Esteves',\n",
       "  'anderson.esteves',\n",
       "  'Kartado Demonstração',\n",
       "  'DER/SP - D7',\n",
       "  'DER/SP'),\n",
       " ('Anderson Esteves',\n",
       "  'anderson.esteves',\n",
       "  'Kartado Demonstração',\n",
       "  'DER/SP - D8',\n",
       "  'DER/SP'),\n",
       " ('Anderson Esteves',\n",
       "  'anderson.esteves',\n",
       "  'Kartado Demonstração',\n",
       "  'DER/SP - D13',\n",
       "  'DER/SP'),\n",
       " ('Anderson Esteves',\n",
       "  'anderson.esteves',\n",
       "  'Kartado Demonstração',\n",
       "  'DER/SP - D14',\n",
       "  'DER/SP'),\n",
       " ('Anderson Esteves',\n",
       "  'anderson.esteves',\n",
       "  'Kartado Demonstração',\n",
       "  'DER/SP - D9',\n",
       "  'DER/SP'),\n",
       " ('Anderson Esteves',\n",
       "  'anderson.esteves',\n",
       "  'Kartado Demonstração',\n",
       "  'DER/SP - D2',\n",
       "  'DER/SP'),\n",
       " ('Anderson Esteves',\n",
       "  'anderson.esteves',\n",
       "  'Kartado Demonstração',\n",
       "  'DER/SP - D5',\n",
       "  'DER/SP'),\n",
       " ('Anderson Esteves',\n",
       "  'anderson.esteves',\n",
       "  'Kartado Demonstração',\n",
       "  'DER/SP - D11',\n",
       "  'DER/SP'),\n",
       " ('Anderson Esteves',\n",
       "  'anderson.esteves',\n",
       "  'Kartado Demonstração',\n",
       "  'DER/SP - D12',\n",
       "  'DER/SP'),\n",
       " ('Andrei Cifuentes',\n",
       "  'andrei.cifuentes2',\n",
       "  'Minasul',\n",
       "  'Neovia Ponte Serrada',\n",
       "  'Neovia'),\n",
       " ('Antonio Barbosa', 'antonio.barbosa', 'Eixo Sp', 'Eixo SP', 'Pátria'),\n",
       " ('Antônio José Gomes Divino',\n",
       "  'antonio.divino',\n",
       "  'Eixo Sp',\n",
       "  'Eixo SP',\n",
       "  'Pátria'),\n",
       " ('Apollo Lucena Antunes',\n",
       "  'apollo.lucena',\n",
       "  'EcoRodovias',\n",
       "  'Kartado Modelo (SISOAE)',\n",
       "  'Kartado Modelo ImT'),\n",
       " ('Kartado ARTERISCS', 'arteriscs', 'Arteris', 'Via Brasil', 'Via Brasil'),\n",
       " ('Assis Villela', 'assis.villela', 'Eixo Sp', 'Eixo SP', 'Pátria'),\n",
       " ('Bianca Fernanda de Andreia Grossi',\n",
       "  'bianca.grossi',\n",
       "  'Eixo Sp',\n",
       "  'Eixo SP',\n",
       "  'Pátria'),\n",
       " ('Billy Martinelli',\n",
       "  'billy.martinelli',\n",
       "  'Pátria',\n",
       "  'Eixo Sp - Pavimento',\n",
       "  'Eixo Sp'),\n",
       " ('Bruno Allencastro', 'bruno.allencastro', 'Modera', 'DER/SP - D4', 'DER/SP'),\n",
       " ('Bruno Allencastro', 'bruno.allencastro', 'Modera', 'DER/SP - D8', 'DER/SP'),\n",
       " ('Bruno Allencastro',\n",
       "  'bruno.allencastro',\n",
       "  'Modera',\n",
       "  'DER/SP - D14',\n",
       "  'DER/SP'),\n",
       " ('Bruno Allencastro', 'bruno.allencastro', 'Modera', 'DER/SP - D9', 'DER/SP'),\n",
       " ('Bruno Castro', 'bruno.castro1', 'Pátria', 'Eixo Sp - Pavimento', 'Eixo Sp'),\n",
       " ('Bruno Gomes', 'bruno.gomes', 'VF GOMES', 'VF Gomes - Confresa', 'VF Gomes'),\n",
       " ('Bruno Gomes', 'bruno.gomes', 'VF GOMES', 'VF Gomes - BR010', 'VF Gomes'),\n",
       " ('Bruno Gomes', 'bruno.gomes', 'VF GOMES', 'VF Gomes - BR158', 'VF Gomes'),\n",
       " ('Bruno Souza', 'bruno.souza', 'Pátria', 'Eixo Sp - Pavimento', 'Eixo Sp'),\n",
       " ('Caio Costa', 'caio.costa', 'Eixo Sp', 'Eixo SP', 'Pátria'),\n",
       " ('Caio Octávio Buzo Ferrari',\n",
       "  'caio.ferrari',\n",
       "  'Pátria',\n",
       "  'Eixo Sp - Pavimento',\n",
       "  'Eixo Sp'),\n",
       " ('Carla Devides', 'carla.devides', 'ELO', 'Arteris Intervias', 'Arteris'),\n",
       " ('Carlos Erbella', 'carlos.erbella', 'Modera', 'DER/SP - D12', 'DER/SP'),\n",
       " ('Carlos Erbella', 'carlos.erbella', 'Modera', 'DER/SP - D7', 'DER/SP'),\n",
       " ('Carlos Erbella', 'carlos.erbella', 'Modera', 'DER/SP - D11', 'DER/SP'),\n",
       " ('Caue Lima', 'caue.lima', 'Eixo Sp', 'Eixo SP', 'Pátria'),\n",
       " ('Cid Ionceck', 'cid', 'Geogestão', 'OLD UHE-MIRANDA', 'Engie'),\n",
       " ('Cid Ionceck', 'cid', 'Geogestão', 'OLD UHE-PONTE DE PEDRA', 'Engie'),\n",
       " ('Cid Ionceck', 'cid', 'Geogestão', 'OLD UHE-SALTO OSORIO', 'Engie'),\n",
       " ('Cid Ionceck', 'cid', 'Geogestão', 'ATIVO-TREINAMENTO ENERGIA', 'Engie'),\n",
       " ('Cid Ionceck', 'cid', 'Geogestão', 'OLD UHE-CANA BRAVA', 'Engie'),\n",
       " ('Cid Ionceck', 'cid', 'Geogestão', 'OLD UHE-ESTREITO', 'Engie'),\n",
       " ('Cid Ionceck', 'cid', 'Geogestão', 'OLD UHE-SALTO SANTIAGO', 'Engie'),\n",
       " ('Cid Ionceck', 'cid', 'Geogestão', 'OLD UHE-JAGUARA', 'Engie'),\n",
       " ('Cid Ionceck', 'cid', 'Geogestão', 'OLD UHE-PASSO FUNDO', 'Engie'),\n",
       " ('Cid Ionceck', 'cid', 'Geogestão', 'OLD UHE-MACHADINHO', 'Engie'),\n",
       " ('Cid Ionceck', 'cid', 'Geogestão', 'OLD UHE-ITA', 'Engie'),\n",
       " ('Cid Ionceck', 'cid', 'Geogestão', 'GEH', 'Engie'),\n",
       " ('Cid Ionceck', 'cid', 'Geogestão', 'OLD UHE-SÃO SALVADOR', 'Engie'),\n",
       " ('Daiani Granco', 'daiani.granco', 'Arteris', 'GPS - Via Paulista', 'GPS'),\n",
       " ('Daniel Perez de Godoy', 'daniel.godoy', 'Eixo Sp', 'Eixo SP', 'Pátria'),\n",
       " ('Danilo Brandão',\n",
       "  'danilo.brandao',\n",
       "  'Modera',\n",
       "  'DER/SP - D1',\n",
       "  'Kartado Demonstração'),\n",
       " ('Danilo Brandão', 'danilo.brandao', 'Modera', 'DER/SP - D5', 'DER/SP'),\n",
       " ('Danilo Brandão', 'danilo.brandao', 'Modera', 'DER/SP - D6', 'DER/SP'),\n",
       " ('Danilo Brandão', 'danilo.brandao', 'Modera', 'DER/SP - D10', 'DER/SP'),\n",
       " ('Davi Rocha',\n",
       "  'davi.rocha',\n",
       "  'Teste Concessionárias',\n",
       "  'DER/SP - D14',\n",
       "  'DER/SP'),\n",
       " ('Davi Rocha',\n",
       "  'davi.rocha',\n",
       "  'Teste Concessionárias',\n",
       "  'DER/SP - D1',\n",
       "  'Kartado Demonstração'),\n",
       " ('Davi Rocha',\n",
       "  'davi.rocha',\n",
       "  'Teste Concessionárias',\n",
       "  'DER/SP - D5',\n",
       "  'DER/SP'),\n",
       " ('Davi Rocha',\n",
       "  'davi.rocha',\n",
       "  'Teste Concessionárias',\n",
       "  'DER/SP - D7',\n",
       "  'DER/SP'),\n",
       " ('Davi Rocha',\n",
       "  'davi.rocha',\n",
       "  'Teste Concessionárias',\n",
       "  'DER/SP - D3',\n",
       "  'DER/SP'),\n",
       " ('Davi Rocha',\n",
       "  'davi.rocha',\n",
       "  'Teste Concessionárias',\n",
       "  'DER/SP - D2',\n",
       "  'DER/SP'),\n",
       " ('Davi Rocha',\n",
       "  'davi.rocha',\n",
       "  'Teste Concessionárias',\n",
       "  'DER/SP - D9',\n",
       "  'DER/SP'),\n",
       " ('Davi Rocha',\n",
       "  'davi.rocha',\n",
       "  'Teste Concessionárias',\n",
       "  'DER/SP - D10',\n",
       "  'DER/SP'),\n",
       " ('Davi Rocha',\n",
       "  'davi.rocha',\n",
       "  'Teste Concessionárias',\n",
       "  'DER/SP - D12',\n",
       "  'DER/SP'),\n",
       " ('Davi Rocha',\n",
       "  'davi.rocha',\n",
       "  'Teste Concessionárias',\n",
       "  'DER/SP - D4',\n",
       "  'DER/SP'),\n",
       " ('Davi Rocha',\n",
       "  'davi.rocha',\n",
       "  'Teste Concessionárias',\n",
       "  'DER/SP - D13',\n",
       "  'DER/SP'),\n",
       " ('Davi Rocha',\n",
       "  'davi.rocha',\n",
       "  'Teste Concessionárias',\n",
       "  'DER/SP - D6',\n",
       "  'DER/SP'),\n",
       " ('Davi Rocha',\n",
       "  'davi.rocha',\n",
       "  'Teste Concessionárias',\n",
       "  'DER/SP - D8',\n",
       "  'DER/SP'),\n",
       " ('Davi Rocha',\n",
       "  'davi.rocha',\n",
       "  'Teste Concessionárias',\n",
       "  'DER/SP - D11',\n",
       "  'DER/SP'),\n",
       " ('Karen Vieira',\n",
       "  'demo.karen.vieira',\n",
       "  'Arteris',\n",
       "  'Dalba Foz do Iguaçu',\n",
       "  'Dalba'),\n",
       " ('Denis Lima2', 'denis.lima2', 'Arteris', 'Neovia Contorno Sul', 'Neovia'),\n",
       " ('Denis Lima2',\n",
       "  'denis.lima2',\n",
       "  'Arteris',\n",
       "  'Neovia General Carneiro',\n",
       "  'Neovia'),\n",
       " ('Diego Souza', 'diego.miranda', 'Pátria', 'Eixo Sp - Pavimento', 'Eixo Sp'),\n",
       " ('Diego Souza', 'Diego.Souza', 'VF Gomes', 'VF Gomes - BR163', 'VF GOMES'),\n",
       " ('Diogenes Santos', 'diogenes.santos', 'Eixo Sp', 'Eixo SP', 'Pátria'),\n",
       " ('Donizetti Cabral',\n",
       "  'donizetti.cabral',\n",
       "  'Pátria',\n",
       "  'Eixo Sp - Pavimento',\n",
       "  'Eixo Sp'),\n",
       " ('Douglas Thomazim',\n",
       "  'Douglas.thomazim',\n",
       "  'Arteris',\n",
       "  'GPS - Via Paulista',\n",
       "  'GPS'),\n",
       " ('Driely Mariane Lancarovici Alves',\n",
       "  'driely.alves',\n",
       "  'Pátria',\n",
       "  'Eixo Sp - Pavimento',\n",
       "  'Eixo Sp'),\n",
       " ('Edcarlos Martins',\n",
       "  'edcarlos.martinsjesus',\n",
       "  'Minasul',\n",
       "  'Neovia Ponte Serrada',\n",
       "  'Neovia'),\n",
       " ('Edilson Missio Meira', 'edilson.meira', 'Eixo Sp', 'Eixo SP', 'Pátria'),\n",
       " ('Edimilson Souza', 'edimilson.souza', 'Eixo Sp', 'Eixo SP', 'Pátria'),\n",
       " ('Edson Cruz', 'edson.rodrigues', 'Pátria', 'Via Araucária', 'Via Araucária'),\n",
       " ('Eli Ângelo do Nascimento',\n",
       "  'eli.angelo',\n",
       "  'Arteris',\n",
       "  'GPS - Via Paulista',\n",
       "  'GPS'),\n",
       " ('Ellen Vieira', 'ellen.vieira', 'Eixo Sp', 'Eixo SP', 'Pátria'),\n",
       " ('Elton Diego Gonçalves Francisco',\n",
       "  'elton.francisco',\n",
       "  'Eixo Sp',\n",
       "  'Eixo SP',\n",
       "  'Pátria'),\n",
       " ('Yuri Viana', 'engyuriviana', 'Arteris', 'CV Seg - Via Sul', 'Teste'),\n",
       " ('Érica Araújo', 'erica.araujo', 'Eixo Sp', 'Eixo SP', 'Pátria'),\n",
       " ('Ewerton Queiroz',\n",
       "  'ewerton.queiroz',\n",
       "  'Teste Concessionárias',\n",
       "  'DER/SP - D9',\n",
       "  'DER/SP'),\n",
       " ('Ewerton Queiroz',\n",
       "  'ewerton.queiroz',\n",
       "  'Teste Concessionárias',\n",
       "  'DER/SP - D13',\n",
       "  'DER/SP'),\n",
       " ('Ewerton Queiroz',\n",
       "  'ewerton.queiroz',\n",
       "  'Teste Concessionárias',\n",
       "  'DER/SP - D12',\n",
       "  'DER/SP'),\n",
       " ('Ewerton Queiroz',\n",
       "  'ewerton.queiroz',\n",
       "  'Teste Concessionárias',\n",
       "  'DER/SP - D2',\n",
       "  'DER/SP'),\n",
       " ('Ewerton Queiroz',\n",
       "  'ewerton.queiroz',\n",
       "  'Teste Concessionárias',\n",
       "  'DER/SP - D6',\n",
       "  'DER/SP'),\n",
       " ('Ewerton Queiroz',\n",
       "  'ewerton.queiroz',\n",
       "  'Teste Concessionárias',\n",
       "  'DER/SP - D3',\n",
       "  'DER/SP'),\n",
       " ('Ewerton Queiroz',\n",
       "  'ewerton.queiroz',\n",
       "  'Teste Concessionárias',\n",
       "  'DER/SP - D4',\n",
       "  'DER/SP'),\n",
       " ('Ewerton Queiroz',\n",
       "  'ewerton.queiroz',\n",
       "  'Teste Concessionárias',\n",
       "  'DER/SP - D5',\n",
       "  'DER/SP'),\n",
       " ('Ewerton Queiroz',\n",
       "  'ewerton.queiroz',\n",
       "  'Teste Concessionárias',\n",
       "  'DER/SP - D8',\n",
       "  'DER/SP'),\n",
       " ('Ewerton Queiroz',\n",
       "  'ewerton.queiroz',\n",
       "  'Teste Concessionárias',\n",
       "  'DER/SP - D7',\n",
       "  'DER/SP'),\n",
       " ('Ewerton Queiroz',\n",
       "  'ewerton.queiroz',\n",
       "  'Teste Concessionárias',\n",
       "  'DER/SP - D11',\n",
       "  'DER/SP'),\n",
       " ('Ewerton Queiroz',\n",
       "  'ewerton.queiroz',\n",
       "  'Teste Concessionárias',\n",
       "  'DER/SP - D10',\n",
       "  'DER/SP'),\n",
       " ('Ewerton Queiroz',\n",
       "  'ewerton.queiroz',\n",
       "  'Teste Concessionárias',\n",
       "  'DER/SP - D14',\n",
       "  'DER/SP'),\n",
       " ('Ewerton Queiroz',\n",
       "  'ewerton.queiroz',\n",
       "  'Teste Concessionárias',\n",
       "  'DER/SP - D1',\n",
       "  'Kartado Demonstração'),\n",
       " ('Fabiano Alberto Frighetto',\n",
       "  'fabiano.frighetto',\n",
       "  'Pátria',\n",
       "  'Eixo Sp - Pavimento',\n",
       "  'Eixo Sp'),\n",
       " ('Fabio Mariano',\n",
       "  'fabio.mariano',\n",
       "  'Pátria',\n",
       "  'Eixo Sp - Pavimento',\n",
       "  'Eixo Sp'),\n",
       " ('Fabricia Pinheiro', 'fabricia.pinheiro', 'Modera', 'DER/SP - D3', 'DER/SP'),\n",
       " ('Fabricia Pinheiro',\n",
       "  'fabricia.pinheiro',\n",
       "  'Modera',\n",
       "  'DER/SP - D13',\n",
       "  'DER/SP'),\n",
       " ('Fabricia Pinheiro', 'fabricia.pinheiro', 'Modera', 'DER/SP - D2', 'DER/SP'),\n",
       " ('Felipe Gregnanini',\n",
       "  'felipe.gregnanini',\n",
       "  'EcoRodovias',\n",
       "  'Kartado Modelo (SISOAE)',\n",
       "  'Kartado Modelo ImT'),\n",
       " ('Felipe Cezarino Pastori',\n",
       "  'felipe.pastori',\n",
       "  'Arteris',\n",
       "  'Eixo SP - SISOAE',\n",
       "  'Pátria'),\n",
       " ('Felipe Souza', 'felipe.souza', 'Pátria', 'Via Araucária', 'Via Araucária'),\n",
       " ('Maria Fernanda Loyola',\n",
       "  'fernanda.loyola',\n",
       "  'Via Brasil',\n",
       "  'Via Brasil SISQUALI',\n",
       "  'Teste'),\n",
       " ('Fernando Nascimento',\n",
       "  'fernando.nascimento',\n",
       "  'Eixo Sp',\n",
       "  'Eixo SP',\n",
       "  'Pátria'),\n",
       " ('Flávio Leme',\n",
       "  'flavio.leme',\n",
       "  'Kartado Demonstração',\n",
       "  'DER/SP - D2',\n",
       "  'DER/SP'),\n",
       " ('Flávio Leme',\n",
       "  'flavio.leme',\n",
       "  'Kartado Demonstração',\n",
       "  'DER/SP - D3',\n",
       "  'DER/SP'),\n",
       " ('Flávio Leme',\n",
       "  'flavio.leme',\n",
       "  'Kartado Demonstração',\n",
       "  'DER/SP - D7',\n",
       "  'DER/SP'),\n",
       " ('Flávio Leme',\n",
       "  'flavio.leme',\n",
       "  'Kartado Demonstração',\n",
       "  'DER/SP - D13',\n",
       "  'DER/SP'),\n",
       " ('Flávio Leme',\n",
       "  'flavio.leme',\n",
       "  'Kartado Demonstração',\n",
       "  'DER/SP - D9',\n",
       "  'DER/SP'),\n",
       " ('Flávio Leme',\n",
       "  'flavio.leme',\n",
       "  'Kartado Demonstração',\n",
       "  'DER/SP - D6',\n",
       "  'DER/SP'),\n",
       " ('Flávio Leme',\n",
       "  'flavio.leme',\n",
       "  'Kartado Demonstração',\n",
       "  'DER/SP - D4',\n",
       "  'DER/SP'),\n",
       " ('Flávio Leme',\n",
       "  'flavio.leme',\n",
       "  'Kartado Demonstração',\n",
       "  'DER/SP - D12',\n",
       "  'DER/SP'),\n",
       " ('Flávio Leme',\n",
       "  'flavio.leme',\n",
       "  'Kartado Demonstração',\n",
       "  'DER/SP - D11',\n",
       "  'DER/SP'),\n",
       " ('Flávio Leme',\n",
       "  'flavio.leme',\n",
       "  'Kartado Demonstração',\n",
       "  'DER/SP - D14',\n",
       "  'DER/SP'),\n",
       " ('Flávio Leme',\n",
       "  'flavio.leme',\n",
       "  'Kartado Demonstração',\n",
       "  'DER/SP - D8',\n",
       "  'DER/SP'),\n",
       " ('Flávio Leme',\n",
       "  'flavio.leme',\n",
       "  'Kartado Demonstração',\n",
       "  'DER/SP - D10',\n",
       "  'DER/SP'),\n",
       " ('Flávio Leme',\n",
       "  'flavio.leme',\n",
       "  'Kartado Demonstração',\n",
       "  'DER/SP - D5',\n",
       "  'DER/SP'),\n",
       " ('Gabriel Bispo', 'gabriel.bispo', 'Entrevias', 'Eixo SP', 'Pátria'),\n",
       " ('Ana Carolina Rachadel',\n",
       "  '_general.ana.rachadel',\n",
       "  'Arteris',\n",
       "  'CCR - Rio Sp',\n",
       "  'CCR'),\n",
       " ('Antonio Morandin Junior',\n",
       "  '_general.antonio.morandin',\n",
       "  'Arteris',\n",
       "  'CCR - Rio Sp',\n",
       "  'CCR'),\n",
       " ('Guilherme Amarante',\n",
       "  '_general.guilherme.amarante',\n",
       "  'Pátria',\n",
       "  'CCR - Rio Sp',\n",
       "  'CCR'),\n",
       " ('Karina Akiko Ando Passerotti',\n",
       "  '_general.karina.akiko',\n",
       "  'Teste Concessionárias',\n",
       "  'CCR - Rio Sp',\n",
       "  'CCR'),\n",
       " ('Luiz Pereira',\n",
       "  '_general.luiz.vpereira',\n",
       "  'Teste Concessionárias',\n",
       "  'CCR - Rio Sp',\n",
       "  'CCR'),\n",
       " ('Maiara Viel', '_general.maiara.viel', 'Arteris', 'CCR - Rio Sp', 'CCR'),\n",
       " ('Mario Ferreira',\n",
       "  '_general.mario.ferreira',\n",
       "  'Arteris',\n",
       "  'CCR - Rio Sp',\n",
       "  'CCR'),\n",
       " ('Gerson Lima Santos',\n",
       "  'gerson.lima',\n",
       "  'Modera',\n",
       "  'DER/SP - D1',\n",
       "  'Kartado Demonstração'),\n",
       " ('Gerson Lima Santos', 'gerson.lima', 'Modera', 'DER/SP - D6', 'DER/SP'),\n",
       " ('Gerson Lima Santos', 'gerson.lima', 'Modera', 'DER/SP - D5', 'DER/SP'),\n",
       " ('Gerson Lima Santos', 'gerson.lima', 'Modera', 'DER/SP - D10', 'DER/SP'),\n",
       " ('Gilberto Cavalcante',\n",
       "  'gilberto.cavalcante',\n",
       "  'Eixo Sp',\n",
       "  'Eixo SP',\n",
       "  'Pátria'),\n",
       " ('Guilherme Alves',\n",
       "  'guilherme.alves',\n",
       "  'Arteris',\n",
       "  'TESTE - CONCESSIONÁRIA',\n",
       "  'TESTE - CONCESSIONÁRIA'),\n",
       " ('Guilherme Bigaiski',\n",
       "  'guilherme.bigaiski',\n",
       "  'Kartado Demonstração',\n",
       "  'DER/SP - D8',\n",
       "  'DER/SP'),\n",
       " ('Guilherme Bigaiski',\n",
       "  'guilherme.bigaiski',\n",
       "  'Kartado Demonstração',\n",
       "  'DER/SP - D7',\n",
       "  'DER/SP'),\n",
       " ('Guilherme Bigaiski',\n",
       "  'guilherme.bigaiski',\n",
       "  'Kartado Demonstração',\n",
       "  'DER/SP - D11',\n",
       "  'DER/SP'),\n",
       " ('Guilherme Bigaiski',\n",
       "  'guilherme.bigaiski',\n",
       "  'Kartado Demonstração',\n",
       "  'DER/SP - D12',\n",
       "  'DER/SP'),\n",
       " ('Guilherme Bigaiski',\n",
       "  'guilherme.bigaiski',\n",
       "  'Kartado Demonstração',\n",
       "  'DER/SP - D9',\n",
       "  'DER/SP'),\n",
       " ('Guilherme Bigaiski',\n",
       "  'guilherme.bigaiski',\n",
       "  'Kartado Demonstração',\n",
       "  'DER/SP - D4',\n",
       "  'DER/SP'),\n",
       " ('Guilherme Bigaiski',\n",
       "  'guilherme.bigaiski',\n",
       "  'Kartado Demonstração',\n",
       "  'DER/SP - D5',\n",
       "  'DER/SP'),\n",
       " ('Guilherme Bigaiski',\n",
       "  'guilherme.bigaiski',\n",
       "  'Kartado Demonstração',\n",
       "  'DER/SP - D3',\n",
       "  'DER/SP'),\n",
       " ('Guilherme Bigaiski',\n",
       "  'guilherme.bigaiski',\n",
       "  'Kartado Demonstração',\n",
       "  'DER/SP - D14',\n",
       "  'DER/SP'),\n",
       " ('Guilherme Bigaiski',\n",
       "  'guilherme.bigaiski',\n",
       "  'Kartado Demonstração',\n",
       "  'DER/SP - D6',\n",
       "  'DER/SP'),\n",
       " ('Guilherme Bigaiski',\n",
       "  'guilherme.bigaiski',\n",
       "  'Kartado Demonstração',\n",
       "  'DER/SP - D2',\n",
       "  'DER/SP'),\n",
       " ('Guilherme Bigaiski',\n",
       "  'guilherme.bigaiski',\n",
       "  'Kartado Demonstração',\n",
       "  'DER/SP - D10',\n",
       "  'DER/SP'),\n",
       " ('Guilherme Bigaiski',\n",
       "  'guilherme.bigaiski',\n",
       "  'Kartado Demonstração',\n",
       "  'DER/SP - D13',\n",
       "  'DER/SP'),\n",
       " ('Gustavo Kazuo Sugahara Geromel',\n",
       "  'gustavo.sugahara',\n",
       "  'Eixo Sp',\n",
       "  'Eixo SP',\n",
       "  'Pátria'),\n",
       " ('Herbert Zanata', 'herbert.zanata', 'Eixo Sp', 'Eixo SP', 'Pátria'),\n",
       " ('Hugo Costa', 'hugo.costa', 'Eixo Sp', 'Eixo SP', 'Pátria'),\n",
       " ('Ícaro Rechineli', 'icaro.rechineli', 'Modera', 'DER/SP - D2', 'DER/SP'),\n",
       " ('Ícaro Rechineli', 'icaro.rechineli', 'Modera', 'DER/SP - D3', 'DER/SP'),\n",
       " ('Ícaro Rechineli', 'icaro.rechineli', 'Modera', 'DER/SP - D13', 'DER/SP'),\n",
       " ('Igor Gonçalves - AMP',\n",
       "  'Igor.Goncalves',\n",
       "  'Pátria',\n",
       "  'Arteris Via Paulista',\n",
       "  'Arteris'),\n",
       " ('Irinaldo Fernando da Silva',\n",
       "  'irinaldo.silva',\n",
       "  'Eixo Sp',\n",
       "  'Eixo SP',\n",
       "  'Pátria'),\n",
       " ('Isabela Sette Linhares',\n",
       "  'isalinhares',\n",
       "  'Teste Concessionárias',\n",
       "  'Via Araucária',\n",
       "  'Via Araucária'),\n",
       " ('Jeferson Coli', 'jeferson.coli', 'Modera', 'DER/SP - D2', 'DER/SP'),\n",
       " ('Jeferson Coli', 'jeferson.coli', 'Modera', 'DER/SP - D13', 'DER/SP'),\n",
       " ('Jeferson Coli', 'jeferson.coli', 'Modera', 'DER/SP - D3', 'DER/SP'),\n",
       " ('Jhonata Rodrigues', 'jhonata.rodrigues', 'Modera', 'DER/SP - D9', 'DER/SP'),\n",
       " ('Jhonata Rodrigues', 'jhonata.rodrigues', 'Modera', 'DER/SP - D8', 'DER/SP'),\n",
       " ('Jhonata Rodrigues', 'jhonata.rodrigues', 'Modera', 'DER/SP - D4', 'DER/SP'),\n",
       " ('Jhonata Rodrigues',\n",
       "  'jhonata.rodrigues',\n",
       "  'Modera',\n",
       "  'DER/SP - D14',\n",
       "  'DER/SP'),\n",
       " ('João Batista Osório',\n",
       "  'joaobatista.osorio',\n",
       "  'Modera',\n",
       "  'DER/SP - D5',\n",
       "  'DER/SP'),\n",
       " ('João Batista Osório',\n",
       "  'joaobatista.osorio',\n",
       "  'Modera',\n",
       "  'DER/SP - D6',\n",
       "  'DER/SP'),\n",
       " ('João Batista Osório',\n",
       "  'joaobatista.osorio',\n",
       "  'Modera',\n",
       "  'DER/SP - D10',\n",
       "  'DER/SP'),\n",
       " ('João Batista Osório',\n",
       "  'joaobatista.osorio',\n",
       "  'Modera',\n",
       "  'DER/SP - D1',\n",
       "  'Kartado Demonstração'),\n",
       " ('João Lopes 🔒', 'joao.lopes', 'ELO', 'Arteris Intervias', 'Arteris'),\n",
       " ('João Lopes', 'joao.lopes.elo', 'ELO', 'Arteris Intervias', 'Arteris'),\n",
       " ('João Marques', 'joao.marques', 'Pátria', 'Eixo Sp - Pavimento', 'Eixo Sp'),\n",
       " ('João Pantarotto', 'joao.pantarotto', 'Modera', 'DER/SP - D12', 'DER/SP'),\n",
       " ('João Pantarotto', 'joao.pantarotto', 'Modera', 'DER/SP - D11', 'DER/SP'),\n",
       " ('João Pantarotto', 'joao.pantarotto', 'Modera', 'DER/SP - D7', 'DER/SP'),\n",
       " ('Jonas Teixeira de Vasconcelos',\n",
       "  'jonas.vasconcelos',\n",
       "  'Arteris',\n",
       "  'Eixo SP - SISOAE',\n",
       "  'Pátria'),\n",
       " ('Jonathan Venâncio dos Reis',\n",
       "  'Jonathan.Venâncio',\n",
       "  'Via Brasil',\n",
       "  'Via Brasil SISQUALI',\n",
       "  'Teste'),\n",
       " ('Joner Rota',\n",
       "  'joner.rota',\n",
       "  'Arteris',\n",
       "  'Teste Concessionárias',\n",
       "  'Teste Concessionárias'),\n",
       " ('Jone Viana', 'jone.viana', 'Eixo Sp', 'Eixo SP', 'Pátria'),\n",
       " ('José Amaro', 'jose.amaro', 'Modera', 'DER/SP - D13', 'DER/SP'),\n",
       " ('José Amaro', 'jose.amaro', 'Modera', 'DER/SP - D3', 'DER/SP'),\n",
       " ('José Amaro', 'jose.amaro', 'Modera', 'DER/SP - D2', 'DER/SP'),\n",
       " ('José Carlos Oliveira',\n",
       "  'jose.carlos.oliveira',\n",
       "  'Modera',\n",
       "  'DER/SP - D9',\n",
       "  'DER/SP'),\n",
       " ('José Carlos Oliveira',\n",
       "  'jose.carlos.oliveira',\n",
       "  'Modera',\n",
       "  'DER/SP - D4',\n",
       "  'DER/SP'),\n",
       " ('José Carlos Oliveira',\n",
       "  'jose.carlos.oliveira',\n",
       "  'Modera',\n",
       "  'DER/SP - D14',\n",
       "  'DER/SP'),\n",
       " ('José Carlos Oliveira',\n",
       "  'jose.carlos.oliveira',\n",
       "  'Modera',\n",
       "  'DER/SP - D8',\n",
       "  'DER/SP'),\n",
       " ('José Pereira dos Santos',\n",
       "  'jose.pereira',\n",
       "  'Pátria',\n",
       "  'Via Araucária',\n",
       "  'Via Araucária'),\n",
       " ('Jose Sergio Souza',\n",
       "  'jose.souza',\n",
       "  'Pátria',\n",
       "  'Via Araucária',\n",
       "  'Via Araucária'),\n",
       " ('Ketly Nogueira', 'ketly.nogueira', 'Arteris', 'GPS - Via Paulista', 'GPS'),\n",
       " ('Laisa da Silva Mendes Vieira',\n",
       "  'laisa.vieira',\n",
       "  'Pátria',\n",
       "  'Eixo Sp - Pavimento',\n",
       "  'Eixo Sp'),\n",
       " ('Larissa Teixeira',\n",
       "  'larissa.teixeira',\n",
       "  'Pátria',\n",
       "  'Via Araucária',\n",
       "  'Via Araucária'),\n",
       " ('Lays de Almeida Gonçalves dos Santos',\n",
       "  'lays.almeida',\n",
       "  'Eixo Sp',\n",
       "  'Eixo SP',\n",
       "  'Pátria'),\n",
       " ('Leandro Amorim YTA', 'leandro.amorim', 'Arteris', 'Eixo SP', 'Pátria'),\n",
       " ('Leandro Cavalcante',\n",
       "  'leandro.cavalcante',\n",
       "  'Modera',\n",
       "  'DER/SP - D7',\n",
       "  'DER/SP'),\n",
       " ('Leandro Cavalcante',\n",
       "  'leandro.cavalcante',\n",
       "  'Modera',\n",
       "  'DER/SP - D11',\n",
       "  'DER/SP'),\n",
       " ('Leandro Cavalcante',\n",
       "  'leandro.cavalcante',\n",
       "  'Modera',\n",
       "  'DER/SP - D12',\n",
       "  'DER/SP'),\n",
       " ('Letícia Alexandre',\n",
       "  'leticia.alexandre',\n",
       "  'Pátria',\n",
       "  'Eixo Sp - Pavimento',\n",
       "  'Eixo Sp'),\n",
       " ('Luana Maciel', 'luana.silva', 'Pátria', 'Eixo Sp - Pavimento', 'Eixo Sp'),\n",
       " ('Lucas Silva',\n",
       "  'lucas.silva@csg.com.br',\n",
       "  'Arteris',\n",
       "  'Caminhos da Serra Gaúcha',\n",
       "  'Caminhos da Serra Gaúcha'),\n",
       " ('Ludovico Mathias',\n",
       "  'ludovico.mathias',\n",
       "  'Pátria',\n",
       "  'Eixo Sp - Pavimento',\n",
       "  'Eixo Sp'),\n",
       " ('Luis Campos', 'luis.campos', 'Arteris', 'GPS - Via Paulista', 'GPS'),\n",
       " ('Luiz Canale', 'luiz.canale', 'Modera', 'DER/SP - D5', 'DER/SP'),\n",
       " ('Luiz Canale', 'luiz.canale', 'Modera', 'DER/SP - D6', 'DER/SP'),\n",
       " ('Luiz Canale',\n",
       "  'luiz.canale',\n",
       "  'Modera',\n",
       "  'DER/SP - D1',\n",
       "  'Kartado Demonstração'),\n",
       " ('Luiz Canale', 'luiz.canale', 'Modera', 'DER/SP - D10', 'DER/SP'),\n",
       " ('Luiz Henrique', 'luizhenrique.silva', 'Modera', 'DER/SP - D3', 'DER/SP'),\n",
       " ('Luiz Henrique', 'luizhenrique.silva', 'Modera', 'DER/SP - D13', 'DER/SP'),\n",
       " ('Luiz Henrique', 'luizhenrique.silva', 'Modera', 'DER/SP - D2', 'DER/SP'),\n",
       " ('Manoel de Jesus Pereira Nunes',\n",
       "  'manoel.nunes',\n",
       "  'Eixo Sp',\n",
       "  'Eixo SP',\n",
       "  'Pátria'),\n",
       " ('Marcelo Martinez',\n",
       "  'marcelo.martinez',\n",
       "  'Arteris',\n",
       "  'GPS - Via Paulista',\n",
       "  'GPS'),\n",
       " ('Marciel Antonio Pereira P. Junior',\n",
       "  'marciel.junior',\n",
       "  'Eixo Sp',\n",
       "  'Eixo SP',\n",
       "  'Pátria'),\n",
       " ('Marcio Andrade Silva', 'marcio.andrade', 'Eixo Sp', 'Eixo SP', 'Pátria'),\n",
       " ('Marcio Silva', 'marcio.silva', 'Eixo Sp', 'Eixo SP', 'Pátria'),\n",
       " ('Marco Pedrocchi', 'marco.pedrocchi', 'Entrevias', 'Eixo SP', 'Pátria'),\n",
       " ('Marco Ramos', 'marco.ramos1', 'Eixo Sp', 'Eixo SP', 'Pátria'),\n",
       " ('Marcos Borges', 'marcos.borges', 'Eixo Sp', 'Eixo SP', 'Pátria'),\n",
       " ('Marcos da Costa', 'marcos.costa', 'Eixo Sp', 'Eixo SP', 'Pátria'),\n",
       " ('Maria Rita Gonçalves de Carvalho',\n",
       "  'maria.carvalho',\n",
       "  'Eixo Sp',\n",
       "  'Eixo SP',\n",
       "  'Pátria'),\n",
       " ('Marília Fogaça',\n",
       "  'marilia.fogaça',\n",
       "  'Kartado Demonstração',\n",
       "  'DER/SP - D4',\n",
       "  'DER/SP'),\n",
       " ('Marília Fogaça',\n",
       "  'marilia.fogaça',\n",
       "  'Kartado Demonstração',\n",
       "  'DER/SP - D14',\n",
       "  'DER/SP'),\n",
       " ('Marília Fogaça',\n",
       "  'marilia.fogaça',\n",
       "  'Kartado Demonstração',\n",
       "  'DER/SP - D3',\n",
       "  'DER/SP'),\n",
       " ('Marília Fogaça',\n",
       "  'marilia.fogaça',\n",
       "  'Kartado Demonstração',\n",
       "  'DER/SP - D5',\n",
       "  'DER/SP'),\n",
       " ('Marília Fogaça',\n",
       "  'marilia.fogaça',\n",
       "  'Kartado Demonstração',\n",
       "  'DER/SP - D13',\n",
       "  'DER/SP'),\n",
       " ('Marília Fogaça',\n",
       "  'marilia.fogaça',\n",
       "  'Kartado Demonstração',\n",
       "  'DER/SP - D12',\n",
       "  'DER/SP'),\n",
       " ('Marília Fogaça',\n",
       "  'marilia.fogaça',\n",
       "  'Kartado Demonstração',\n",
       "  'DER/SP - D2',\n",
       "  'DER/SP'),\n",
       " ('Marília Fogaça',\n",
       "  'marilia.fogaça',\n",
       "  'Kartado Demonstração',\n",
       "  'DER/SP - D11',\n",
       "  'DER/SP'),\n",
       " ('Marília Fogaça',\n",
       "  'marilia.fogaça',\n",
       "  'Kartado Demonstração',\n",
       "  'DER/SP - D10',\n",
       "  'DER/SP'),\n",
       " ('Marília Fogaça',\n",
       "  'marilia.fogaça',\n",
       "  'Kartado Demonstração',\n",
       "  'DER/SP - D9',\n",
       "  'DER/SP'),\n",
       " ('Marília Fogaça',\n",
       "  'marilia.fogaça',\n",
       "  'Kartado Demonstração',\n",
       "  'DER/SP - D8',\n",
       "  'DER/SP'),\n",
       " ('Marília Fogaça',\n",
       "  'marilia.fogaça',\n",
       "  'Kartado Demonstração',\n",
       "  'DER/SP - D7',\n",
       "  'DER/SP'),\n",
       " ('Marília Fogaça',\n",
       "  'marilia.fogaça',\n",
       "  'Kartado Demonstração',\n",
       "  'DER/SP - D6',\n",
       "  'DER/SP'),\n",
       " ('Matheus Coltri', 'matheus.coltri', 'Modera', 'DER/SP - D9', 'DER/SP'),\n",
       " ('Matheus Coltri', 'matheus.coltri', 'Modera', 'DER/SP - D4', 'DER/SP'),\n",
       " ('Matheus Coltri', 'matheus.coltri', 'Modera', 'DER/SP - D14', 'DER/SP'),\n",
       " ('Matheus Coltri', 'matheus.coltri', 'Modera', 'DER/SP - D8', 'DER/SP'),\n",
       " ('Matheus Assis Negretti',\n",
       "  'matheus.negretti',\n",
       "  'Via Brasil',\n",
       "  'Eixo SP',\n",
       "  'Pátria'),\n",
       " ('Mauricio Rangel',\n",
       "  'mauricio.rangel',\n",
       "  'Pátria',\n",
       "  'Eixo Sp - Pavimento',\n",
       "  'Eixo Sp'),\n",
       " ('Michael Batista de Oliveira',\n",
       "  'michael.oliveira',\n",
       "  'Eixo Sp',\n",
       "  'Eixo SP',\n",
       "  'Pátria'),\n",
       " ('Mônica Moraes',\n",
       "  'monica.moraes',\n",
       "  'Teste Concessionárias',\n",
       "  'DER/SP - D11',\n",
       "  'DER/SP'),\n",
       " ('Mônica Moraes',\n",
       "  'monica.moraes',\n",
       "  'Teste Concessionárias',\n",
       "  'DER/SP - D9',\n",
       "  'DER/SP'),\n",
       " ('Mônica Moraes',\n",
       "  'monica.moraes',\n",
       "  'Teste Concessionárias',\n",
       "  'DER/SP - D12',\n",
       "  'DER/SP'),\n",
       " ('Mônica Moraes',\n",
       "  'monica.moraes',\n",
       "  'Teste Concessionárias',\n",
       "  'DER/SP - D10',\n",
       "  'DER/SP'),\n",
       " ('Mônica Moraes',\n",
       "  'monica.moraes',\n",
       "  'Teste Concessionárias',\n",
       "  'DER/SP - D2',\n",
       "  'DER/SP'),\n",
       " ('Mônica Moraes',\n",
       "  'monica.moraes',\n",
       "  'Teste Concessionárias',\n",
       "  'DER/SP - D6',\n",
       "  'DER/SP'),\n",
       " ('Mônica Moraes',\n",
       "  'monica.moraes',\n",
       "  'Teste Concessionárias',\n",
       "  'DER/SP - D1',\n",
       "  'Kartado Demonstração'),\n",
       " ('Mônica Moraes',\n",
       "  'monica.moraes',\n",
       "  'Teste Concessionárias',\n",
       "  'DER/SP - D8',\n",
       "  'DER/SP'),\n",
       " ('Mônica Moraes',\n",
       "  'monica.moraes',\n",
       "  'Teste Concessionárias',\n",
       "  'DER/SP - D14',\n",
       "  'DER/SP'),\n",
       " ('Mônica Moraes',\n",
       "  'monica.moraes',\n",
       "  'Teste Concessionárias',\n",
       "  'DER/SP - D7',\n",
       "  'DER/SP'),\n",
       " ('Mônica Moraes',\n",
       "  'monica.moraes',\n",
       "  'Teste Concessionárias',\n",
       "  'DER/SP - D13',\n",
       "  'DER/SP'),\n",
       " ('Mônica Moraes',\n",
       "  'monica.moraes',\n",
       "  'Teste Concessionárias',\n",
       "  'DER/SP - D3',\n",
       "  'DER/SP'),\n",
       " ('Mônica Moraes',\n",
       "  'monica.moraes',\n",
       "  'Teste Concessionárias',\n",
       "  'DER/SP - D4',\n",
       "  'DER/SP'),\n",
       " ('Mônica Moraes',\n",
       "  'monica.moraes',\n",
       "  'Teste Concessionárias',\n",
       "  'DER/SP - D5',\n",
       "  'DER/SP'),\n",
       " ('Murillo Guidotti',\n",
       "  'murillo.guidotti',\n",
       "  'Pátria',\n",
       "  'Eixo Sp - Pavimento',\n",
       "  'Eixo Sp'),\n",
       " ('Natália Martins', 'natalia.martins', 'Arteris', 'Eixo SP', 'Pátria'),\n",
       " ('Nathalia Ferraz Carneiro',\n",
       "  'nathalia.carneiro',\n",
       "  'Eixo Sp',\n",
       "  'Eixo SP',\n",
       "  'Pátria'),\n",
       " ('Nathalia Liani',\n",
       "  'nathalia.liani',\n",
       "  'Pátria',\n",
       "  'Eixo Sp - Pavimento',\n",
       "  'Eixo Sp'),\n",
       " ('Nayara Yokoyama Vieira Kako',\n",
       "  'nayara.kako',\n",
       "  'Pátria',\n",
       "  'Arteris Via Paulista - SISOAE',\n",
       "  'Arteris'),\n",
       " ('Olivio Gomes',\n",
       "  'olivio.gomes',\n",
       "  'Kartado Demonstração',\n",
       "  'DER/SP - D9',\n",
       "  'DER/SP'),\n",
       " ('Olivio Gomes',\n",
       "  'olivio.gomes',\n",
       "  'Kartado Demonstração',\n",
       "  'DER/SP - D7',\n",
       "  'DER/SP'),\n",
       " ('Olivio Gomes',\n",
       "  'olivio.gomes',\n",
       "  'Kartado Demonstração',\n",
       "  'DER/SP - D13',\n",
       "  'DER/SP'),\n",
       " ('Olivio Gomes',\n",
       "  'olivio.gomes',\n",
       "  'Kartado Demonstração',\n",
       "  'DER/SP - D11',\n",
       "  'DER/SP'),\n",
       " ('Olivio Gomes',\n",
       "  'olivio.gomes',\n",
       "  'Kartado Demonstração',\n",
       "  'DER/SP - D8',\n",
       "  'DER/SP'),\n",
       " ('Olivio Gomes',\n",
       "  'olivio.gomes',\n",
       "  'Kartado Demonstração',\n",
       "  'DER/SP - D5',\n",
       "  'DER/SP'),\n",
       " ('Olivio Gomes',\n",
       "  'olivio.gomes',\n",
       "  'Kartado Demonstração',\n",
       "  'DER/SP - D12',\n",
       "  'DER/SP'),\n",
       " ('Olivio Gomes',\n",
       "  'olivio.gomes',\n",
       "  'Kartado Demonstração',\n",
       "  'DER/SP - D6',\n",
       "  'DER/SP'),\n",
       " ('Olivio Gomes',\n",
       "  'olivio.gomes',\n",
       "  'Kartado Demonstração',\n",
       "  'DER/SP - D10',\n",
       "  'DER/SP'),\n",
       " ('Olivio Gomes',\n",
       "  'olivio.gomes',\n",
       "  'Kartado Demonstração',\n",
       "  'DER/SP - D4',\n",
       "  'DER/SP'),\n",
       " ('Olivio Gomes',\n",
       "  'olivio.gomes',\n",
       "  'Kartado Demonstração',\n",
       "  'DER/SP - D2',\n",
       "  'DER/SP'),\n",
       " ('Olivio Gomes',\n",
       "  'olivio.gomes',\n",
       "  'Kartado Demonstração',\n",
       "  'DER/SP - D14',\n",
       "  'DER/SP'),\n",
       " ('Olivio Gomes',\n",
       "  'olivio.gomes',\n",
       "  'Kartado Demonstração',\n",
       "  'DER/SP - D3',\n",
       "  'DER/SP'),\n",
       " ('Orival Eredia', 'orival.eredia', 'Entrevias', 'Eixo SP', 'Pátria'),\n",
       " ('Osvaldo Cassimiro', 'osvaldo.santos', 'Eixo Sp', 'Eixo SP', 'Pátria'),\n",
       " ('Paulo César Arrieiro de Oliveira',\n",
       "  'paulo.arrieiro',\n",
       "  'Via Brasil',\n",
       "  'Via Brasil SISQUALI',\n",
       "  'Teste'),\n",
       " ('Paulo Fimenes', 'paulo.fimenes', 'Eixo Sp', 'Eixo SP', 'Pátria'),\n",
       " ('Paulo Fernando dos Santos', 'paulo.santos', 'Eixo Sp', 'Eixo SP', 'Pátria'),\n",
       " ('Pedro Francisco Hernani Santiago Henriques',\n",
       "  'pedro.henriques',\n",
       "  'Pátria',\n",
       "  'Eixo Sp - Pavimento',\n",
       "  'Eixo Sp'),\n",
       " ('Pedro Roriz',\n",
       "  'pedro.roriz',\n",
       "  'Arteris',\n",
       "  'TESTE - CONCESSIONÁRIA',\n",
       "  'TESTE - CONCESSIONÁRIA'),\n",
       " ('Pedro Henrique Lopes da Silveira',\n",
       "  'pedro.silveira',\n",
       "  'Pátria',\n",
       "  'Eixo Sp - Pavimento',\n",
       "  'Eixo Sp'),\n",
       " ('Larissa Moraes - AMP',\n",
       "  'planejamento.amp',\n",
       "  'Pátria',\n",
       "  'Arteris Via Paulista',\n",
       "  'Arteris'),\n",
       " ('Priscila Sousa', 'priscila.sousa', 'Entrevias', 'Eixo SP', 'Pátria'),\n",
       " ('Queluí Cesar', 'quelui.cesar', 'Modera', 'DER/SP - D2', 'DER/SP'),\n",
       " ('Queluí Cesar', 'quelui.cesar', 'Modera', 'DER/SP - D3', 'DER/SP'),\n",
       " ('Queluí Cesar', 'quelui.cesar', 'Modera', 'DER/SP - D13', 'DER/SP'),\n",
       " ('Rafael Ricci', 'rafael.ricci', 'Arteris', 'GPS - Via Paulista', 'GPS'),\n",
       " ('Ramilson Dally', 'ramilson.dally', 'Eixo Sp', 'Eixo SP', 'Pátria'),\n",
       " ('Raphael Valle',\n",
       "  'raphael.valle@csg.com.br',\n",
       "  'Arteris',\n",
       "  'Caminhos da Serra Gaúcha',\n",
       "  'Caminhos da Serra Gaúcha'),\n",
       " ('Raquel Aparecida Barbosa Silva',\n",
       "  'raquel.silva',\n",
       "  'Eixo Sp',\n",
       "  'Eixo SP',\n",
       "  'Pátria'),\n",
       " ('Ricardo Mazuco', 'ricardo.mazuco', 'Neovia', 'Neovia Teste', 'Teste'),\n",
       " ('Ricardo Peres',\n",
       "  'ricardo.zonta',\n",
       "  'Pátria',\n",
       "  'Eixo Sp - Pavimento',\n",
       "  'Eixo Sp'),\n",
       " ('Roberto Barbosa',\n",
       "  'roberto.barbosa',\n",
       "  'Neovia',\n",
       "  'Arteris Litoral Sul - Conserva',\n",
       "  'Arteris'),\n",
       " ('Rodolfo Fuzinato',\n",
       "  'rodolfo.fuzinato',\n",
       "  'Arteris',\n",
       "  'MTSUL - Matupá',\n",
       "  'Mt Sul'),\n",
       " ('Rodolfo Fuzinato',\n",
       "  'rodolfo.fuzinato',\n",
       "  'Arteris',\n",
       "  'MTSUL - Cláudia',\n",
       "  'Mt Sul'),\n",
       " ('Rodrigo José da Silva', 'rodrigo.dasilva', 'Eixo Sp', 'Eixo SP', 'Pátria'),\n",
       " ('Rodrigo Evangelista',\n",
       "  'rodrigo.evangelista',\n",
       "  'Eixo Sp',\n",
       "  'Eixo SP',\n",
       "  'Pátria'),\n",
       " ('Ruan Villalba', 'ruan.villalba', 'Eixo Sp', 'Eixo SP', 'Pátria'),\n",
       " ('Sabrina Oliveira', 'sabrina.oliveira', 'Arteris', 'Eixo SP', 'Pátria'),\n",
       " ('José Samuel Lopes',\n",
       "  'samuel.lopes',\n",
       "  'EcoRodovias',\n",
       "  'Kartado Modelo (SISOAE)',\n",
       "  'Kartado Modelo ImT'),\n",
       " ('Sidney Teixeira',\n",
       "  'sidney.teixeira',\n",
       "  'Pátria',\n",
       "  'Eixo Sp - Pavimento',\n",
       "  'Eixo Sp'),\n",
       " ('Taina Mendes Carvalho Daudt',\n",
       "  'taina.daut',\n",
       "  'Pátria',\n",
       "  'Eixo Sp - Pavimento',\n",
       "  'Eixo Sp'),\n",
       " ('Taise Santos', 'taise.santos', 'Pátria', 'Via Araucária', 'Via Araucária'),\n",
       " ('Tania Alves', 'tania.alves', 'Eixo Sp', 'Eixo SP', 'Pátria'),\n",
       " ('Tiago Torquato', 'tiago.torquato', 'Arteris', 'Eixo SP', 'Pátria'),\n",
       " ('Uanderson dos Santos de Oliveira',\n",
       "  'uanderson.oliveira',\n",
       "  'Arteris',\n",
       "  'MTSUL - Cláudia',\n",
       "  'Mt Sul'),\n",
       " ('Uanderson Silva',\n",
       "  'uanderson.silva',\n",
       "  'Via Brasil',\n",
       "  'Via Brasil SISQUALI',\n",
       "  'Teste'),\n",
       " ('Vinicius Mazeti',\n",
       "  'vinicius.mazeti',\n",
       "  'Pátria',\n",
       "  'Eixo Sp - Pavimento',\n",
       "  'Eixo Sp'),\n",
       " ('Vinicius Mazeti',\n",
       "  'vinicius.mazetiENT',\n",
       "  'Pátria',\n",
       "  'Eixo Sp - Pavimento',\n",
       "  'Eixo Sp'),\n",
       " ('Wellington Fanaia',\n",
       "  'wellington.fanaia',\n",
       "  'VF GOMES',\n",
       "  'VF Gomes - Confresa',\n",
       "  'VF Gomes'),\n",
       " ('Wesley Rotta de Meira', 'wesley.rotta', 'Eixo Sp', 'Eixo SP', 'Pátria'),\n",
       " ('William Sasaki', 'william.sasaki', 'Arteris', 'Eixo SP - SISOAE', 'Pátria'),\n",
       " ('William Sasaki', 'william.sasaki', 'Arteris', 'Eixo SP', 'Pátria'),\n",
       " ('Yago Polette Pedrozo Paladino',\n",
       "  'yagopaladino',\n",
       "  'Rota do Oeste',\n",
       "  'Kartado | SIGACO',\n",
       "  'Teste Concessionárias'),\n",
       " ('Yuri Silva',\n",
       "  'yuri.silva',\n",
       "  'Teste Concessionárias',\n",
       "  'DER/SP - D13',\n",
       "  'DER/SP'),\n",
       " ('Yuri Silva',\n",
       "  'yuri.silva',\n",
       "  'Teste Concessionárias',\n",
       "  'DER/SP - D1',\n",
       "  'Kartado Demonstração'),\n",
       " ('Yuri Silva',\n",
       "  'yuri.silva',\n",
       "  'Teste Concessionárias',\n",
       "  'DER/SP - D11',\n",
       "  'DER/SP'),\n",
       " ('Yuri Silva',\n",
       "  'yuri.silva',\n",
       "  'Teste Concessionárias',\n",
       "  'DER/SP - D7',\n",
       "  'DER/SP'),\n",
       " ('Yuri Silva',\n",
       "  'yuri.silva',\n",
       "  'Teste Concessionárias',\n",
       "  'DER/SP - D9',\n",
       "  'DER/SP'),\n",
       " ('Yuri Silva',\n",
       "  'yuri.silva',\n",
       "  'Teste Concessionárias',\n",
       "  'DER/SP - D8',\n",
       "  'DER/SP'),\n",
       " ('Yuri Silva',\n",
       "  'yuri.silva',\n",
       "  'Teste Concessionárias',\n",
       "  'DER/SP - D6',\n",
       "  'DER/SP'),\n",
       " ('Yuri Silva',\n",
       "  'yuri.silva',\n",
       "  'Teste Concessionárias',\n",
       "  'DER/SP - D5',\n",
       "  'DER/SP'),\n",
       " ('Yuri Silva',\n",
       "  'yuri.silva',\n",
       "  'Teste Concessionárias',\n",
       "  'DER/SP - D12',\n",
       "  'DER/SP'),\n",
       " ('Yuri Silva',\n",
       "  'yuri.silva',\n",
       "  'Teste Concessionárias',\n",
       "  'DER/SP - D10',\n",
       "  'DER/SP'),\n",
       " ('Yuri Silva',\n",
       "  'yuri.silva',\n",
       "  'Teste Concessionárias',\n",
       "  'DER/SP - D14',\n",
       "  'DER/SP'),\n",
       " ('Yuri Silva',\n",
       "  'yuri.silva',\n",
       "  'Teste Concessionárias',\n",
       "  'DER/SP - D4',\n",
       "  'DER/SP'),\n",
       " ('Yuri Silva',\n",
       "  'yuri.silva',\n",
       "  'Teste Concessionárias',\n",
       "  'DER/SP - D2',\n",
       "  'DER/SP'),\n",
       " ('Yuri Silva',\n",
       "  'yuri.silva',\n",
       "  'Teste Concessionárias',\n",
       "  'DER/SP - D3',\n",
       "  'DER/SP')]"
      ]
     },
     "execution_count": 6,
     "metadata": {},
     "output_type": "execute_result"
    }
   ],
   "source": [
    "data"
   ]
  },
  {
   "cell_type": "code",
   "execution_count": 7,
   "id": "1729eec3",
   "metadata": {},
   "outputs": [
    {
     "data": {
      "text/html": [
       "<div>\n",
       "<style scoped>\n",
       "    .dataframe tbody tr th:only-of-type {\n",
       "        vertical-align: middle;\n",
       "    }\n",
       "\n",
       "    .dataframe tbody tr th {\n",
       "        vertical-align: top;\n",
       "    }\n",
       "\n",
       "    .dataframe thead th {\n",
       "        text-align: right;\n",
       "    }\n",
       "</style>\n",
       "<table border=\"1\" class=\"dataframe\">\n",
       "  <thead>\n",
       "    <tr style=\"text-align: right;\">\n",
       "      <th></th>\n",
       "      <th>Usuário</th>\n",
       "      <th>Username</th>\n",
       "      <th>Company_Group Usuário</th>\n",
       "      <th>Unidade</th>\n",
       "      <th>Company_Group Unidade</th>\n",
       "    </tr>\n",
       "  </thead>\n",
       "  <tbody>\n",
       "    <tr>\n",
       "      <th>0</th>\n",
       "      <td>Alan Pessoa</td>\n",
       "      <td>alan.pessoa</td>\n",
       "      <td>Pátria</td>\n",
       "      <td>Eixo Sp - Pavimento</td>\n",
       "      <td>Eixo Sp</td>\n",
       "    </tr>\n",
       "    <tr>\n",
       "      <th>1</th>\n",
       "      <td>Alessandro Palhares</td>\n",
       "      <td>alessandro.palhares</td>\n",
       "      <td>Modera</td>\n",
       "      <td>DER/SP - D8</td>\n",
       "      <td>DER/SP</td>\n",
       "    </tr>\n",
       "    <tr>\n",
       "      <th>2</th>\n",
       "      <td>Alessandro Palhares</td>\n",
       "      <td>alessandro.palhares</td>\n",
       "      <td>Modera</td>\n",
       "      <td>DER/SP - D14</td>\n",
       "      <td>DER/SP</td>\n",
       "    </tr>\n",
       "    <tr>\n",
       "      <th>3</th>\n",
       "      <td>Alessandro Palhares</td>\n",
       "      <td>alessandro.palhares</td>\n",
       "      <td>Modera</td>\n",
       "      <td>DER/SP - D4</td>\n",
       "      <td>DER/SP</td>\n",
       "    </tr>\n",
       "    <tr>\n",
       "      <th>4</th>\n",
       "      <td>Alessandro Palhares</td>\n",
       "      <td>alessandro.palhares</td>\n",
       "      <td>Modera</td>\n",
       "      <td>DER/SP - D9</td>\n",
       "      <td>DER/SP</td>\n",
       "    </tr>\n",
       "    <tr>\n",
       "      <th>...</th>\n",
       "      <td>...</td>\n",
       "      <td>...</td>\n",
       "      <td>...</td>\n",
       "      <td>...</td>\n",
       "      <td>...</td>\n",
       "    </tr>\n",
       "    <tr>\n",
       "      <th>367</th>\n",
       "      <td>Yuri Silva</td>\n",
       "      <td>yuri.silva</td>\n",
       "      <td>Teste Concessionárias</td>\n",
       "      <td>DER/SP - D10</td>\n",
       "      <td>DER/SP</td>\n",
       "    </tr>\n",
       "    <tr>\n",
       "      <th>368</th>\n",
       "      <td>Yuri Silva</td>\n",
       "      <td>yuri.silva</td>\n",
       "      <td>Teste Concessionárias</td>\n",
       "      <td>DER/SP - D14</td>\n",
       "      <td>DER/SP</td>\n",
       "    </tr>\n",
       "    <tr>\n",
       "      <th>369</th>\n",
       "      <td>Yuri Silva</td>\n",
       "      <td>yuri.silva</td>\n",
       "      <td>Teste Concessionárias</td>\n",
       "      <td>DER/SP - D4</td>\n",
       "      <td>DER/SP</td>\n",
       "    </tr>\n",
       "    <tr>\n",
       "      <th>370</th>\n",
       "      <td>Yuri Silva</td>\n",
       "      <td>yuri.silva</td>\n",
       "      <td>Teste Concessionárias</td>\n",
       "      <td>DER/SP - D2</td>\n",
       "      <td>DER/SP</td>\n",
       "    </tr>\n",
       "    <tr>\n",
       "      <th>371</th>\n",
       "      <td>Yuri Silva</td>\n",
       "      <td>yuri.silva</td>\n",
       "      <td>Teste Concessionárias</td>\n",
       "      <td>DER/SP - D3</td>\n",
       "      <td>DER/SP</td>\n",
       "    </tr>\n",
       "  </tbody>\n",
       "</table>\n",
       "<p>372 rows × 5 columns</p>\n",
       "</div>"
      ],
      "text/plain": [
       "                 Usuário             Username  Company_Group Usuário  \\\n",
       "0            Alan Pessoa          alan.pessoa                 Pátria   \n",
       "1    Alessandro Palhares  alessandro.palhares                 Modera   \n",
       "2    Alessandro Palhares  alessandro.palhares                 Modera   \n",
       "3    Alessandro Palhares  alessandro.palhares                 Modera   \n",
       "4    Alessandro Palhares  alessandro.palhares                 Modera   \n",
       "..                   ...                  ...                    ...   \n",
       "367           Yuri Silva           yuri.silva  Teste Concessionárias   \n",
       "368           Yuri Silva           yuri.silva  Teste Concessionárias   \n",
       "369           Yuri Silva           yuri.silva  Teste Concessionárias   \n",
       "370           Yuri Silva           yuri.silva  Teste Concessionárias   \n",
       "371           Yuri Silva           yuri.silva  Teste Concessionárias   \n",
       "\n",
       "                 Unidade Company_Group Unidade  \n",
       "0    Eixo Sp - Pavimento               Eixo Sp  \n",
       "1            DER/SP - D8                DER/SP  \n",
       "2           DER/SP - D14                DER/SP  \n",
       "3            DER/SP - D4                DER/SP  \n",
       "4            DER/SP - D9                DER/SP  \n",
       "..                   ...                   ...  \n",
       "367         DER/SP - D10                DER/SP  \n",
       "368         DER/SP - D14                DER/SP  \n",
       "369          DER/SP - D4                DER/SP  \n",
       "370          DER/SP - D2                DER/SP  \n",
       "371          DER/SP - D3                DER/SP  \n",
       "\n",
       "[372 rows x 5 columns]"
      ]
     },
     "execution_count": 7,
     "metadata": {},
     "output_type": "execute_result"
    }
   ],
   "source": [
    "import pandas as pd\n",
    "df=pd.DataFrame(data=data,columns=['Usuário',\"Username\",'Company_Group Usuário','Unidade','Company_Group Unidade'])\n",
    "df"
   ]
  },
  {
   "cell_type": "code",
   "execution_count": 8,
   "id": "246b5008",
   "metadata": {},
   "outputs": [
    {
     "data": {
      "text/html": [
       "<div>\n",
       "<style scoped>\n",
       "    .dataframe tbody tr th:only-of-type {\n",
       "        vertical-align: middle;\n",
       "    }\n",
       "\n",
       "    .dataframe tbody tr th {\n",
       "        vertical-align: top;\n",
       "    }\n",
       "\n",
       "    .dataframe thead th {\n",
       "        text-align: right;\n",
       "    }\n",
       "</style>\n",
       "<table border=\"1\" class=\"dataframe\">\n",
       "  <thead>\n",
       "    <tr style=\"text-align: right;\">\n",
       "      <th></th>\n",
       "      <th>Usuário</th>\n",
       "      <th>Username</th>\n",
       "      <th>Company_Group Usuário</th>\n",
       "      <th>Unidade</th>\n",
       "      <th>Company_Group Unidade</th>\n",
       "    </tr>\n",
       "  </thead>\n",
       "  <tbody>\n",
       "    <tr>\n",
       "      <th>0</th>\n",
       "      <td>Alan Pessoa</td>\n",
       "      <td>alan.pessoa</td>\n",
       "      <td>Pátria</td>\n",
       "      <td>Eixo Sp - Pavimento</td>\n",
       "      <td>Eixo Sp</td>\n",
       "    </tr>\n",
       "    <tr>\n",
       "      <th>1</th>\n",
       "      <td>Alessandro Palhares</td>\n",
       "      <td>alessandro.palhares</td>\n",
       "      <td>Modera</td>\n",
       "      <td>DER/SP - D8</td>\n",
       "      <td>DER/SP</td>\n",
       "    </tr>\n",
       "    <tr>\n",
       "      <th>2</th>\n",
       "      <td>Alessandro Palhares</td>\n",
       "      <td>alessandro.palhares</td>\n",
       "      <td>Modera</td>\n",
       "      <td>DER/SP - D14</td>\n",
       "      <td>DER/SP</td>\n",
       "    </tr>\n",
       "    <tr>\n",
       "      <th>3</th>\n",
       "      <td>Alessandro Palhares</td>\n",
       "      <td>alessandro.palhares</td>\n",
       "      <td>Modera</td>\n",
       "      <td>DER/SP - D4</td>\n",
       "      <td>DER/SP</td>\n",
       "    </tr>\n",
       "    <tr>\n",
       "      <th>4</th>\n",
       "      <td>Alessandro Palhares</td>\n",
       "      <td>alessandro.palhares</td>\n",
       "      <td>Modera</td>\n",
       "      <td>DER/SP - D9</td>\n",
       "      <td>DER/SP</td>\n",
       "    </tr>\n",
       "    <tr>\n",
       "      <th>...</th>\n",
       "      <td>...</td>\n",
       "      <td>...</td>\n",
       "      <td>...</td>\n",
       "      <td>...</td>\n",
       "      <td>...</td>\n",
       "    </tr>\n",
       "    <tr>\n",
       "      <th>367</th>\n",
       "      <td>Yuri Silva</td>\n",
       "      <td>yuri.silva</td>\n",
       "      <td>Teste Concessionárias</td>\n",
       "      <td>DER/SP - D10</td>\n",
       "      <td>DER/SP</td>\n",
       "    </tr>\n",
       "    <tr>\n",
       "      <th>368</th>\n",
       "      <td>Yuri Silva</td>\n",
       "      <td>yuri.silva</td>\n",
       "      <td>Teste Concessionárias</td>\n",
       "      <td>DER/SP - D14</td>\n",
       "      <td>DER/SP</td>\n",
       "    </tr>\n",
       "    <tr>\n",
       "      <th>369</th>\n",
       "      <td>Yuri Silva</td>\n",
       "      <td>yuri.silva</td>\n",
       "      <td>Teste Concessionárias</td>\n",
       "      <td>DER/SP - D4</td>\n",
       "      <td>DER/SP</td>\n",
       "    </tr>\n",
       "    <tr>\n",
       "      <th>370</th>\n",
       "      <td>Yuri Silva</td>\n",
       "      <td>yuri.silva</td>\n",
       "      <td>Teste Concessionárias</td>\n",
       "      <td>DER/SP - D2</td>\n",
       "      <td>DER/SP</td>\n",
       "    </tr>\n",
       "    <tr>\n",
       "      <th>371</th>\n",
       "      <td>Yuri Silva</td>\n",
       "      <td>yuri.silva</td>\n",
       "      <td>Teste Concessionárias</td>\n",
       "      <td>DER/SP - D3</td>\n",
       "      <td>DER/SP</td>\n",
       "    </tr>\n",
       "  </tbody>\n",
       "</table>\n",
       "<p>372 rows × 5 columns</p>\n",
       "</div>"
      ],
      "text/plain": [
       "                 Usuário             Username  Company_Group Usuário  \\\n",
       "0            Alan Pessoa          alan.pessoa                 Pátria   \n",
       "1    Alessandro Palhares  alessandro.palhares                 Modera   \n",
       "2    Alessandro Palhares  alessandro.palhares                 Modera   \n",
       "3    Alessandro Palhares  alessandro.palhares                 Modera   \n",
       "4    Alessandro Palhares  alessandro.palhares                 Modera   \n",
       "..                   ...                  ...                    ...   \n",
       "367           Yuri Silva           yuri.silva  Teste Concessionárias   \n",
       "368           Yuri Silva           yuri.silva  Teste Concessionárias   \n",
       "369           Yuri Silva           yuri.silva  Teste Concessionárias   \n",
       "370           Yuri Silva           yuri.silva  Teste Concessionárias   \n",
       "371           Yuri Silva           yuri.silva  Teste Concessionárias   \n",
       "\n",
       "                 Unidade Company_Group Unidade  \n",
       "0    Eixo Sp - Pavimento               Eixo Sp  \n",
       "1            DER/SP - D8                DER/SP  \n",
       "2           DER/SP - D14                DER/SP  \n",
       "3            DER/SP - D4                DER/SP  \n",
       "4            DER/SP - D9                DER/SP  \n",
       "..                   ...                   ...  \n",
       "367         DER/SP - D10                DER/SP  \n",
       "368         DER/SP - D14                DER/SP  \n",
       "369          DER/SP - D4                DER/SP  \n",
       "370          DER/SP - D2                DER/SP  \n",
       "371          DER/SP - D3                DER/SP  \n",
       "\n",
       "[372 rows x 5 columns]"
      ]
     },
     "execution_count": 8,
     "metadata": {},
     "output_type": "execute_result"
    }
   ],
   "source": [
    "df.reset_index(drop=True, inplace=True)\n",
    "df"
   ]
  },
  {
   "cell_type": "code",
   "execution_count": 9,
   "id": "82e26fb3",
   "metadata": {},
   "outputs": [],
   "source": [
    "df.to_excel('company_groupUsers.xlsx',index=False)"
   ]
  },
  {
   "cell_type": "code",
   "execution_count": null,
   "id": "08af065d",
   "metadata": {},
   "outputs": [],
   "source": [
    "UserInCompany.objects.all().exclude(user__email__icontains='kartado').count()"
   ]
  },
  {
   "cell_type": "code",
   "execution_count": null,
   "id": "71eddcc7",
   "metadata": {},
   "outputs": [],
   "source": [
    "%reset -f"
   ]
  },
  {
   "cell_type": "code",
   "execution_count": null,
   "id": "e462e5fe",
   "metadata": {},
   "outputs": [],
   "source": [
    "for a in Reporting.objects.filter(company__name='Construtora Castilho (Ferrovias)'):\n",
    "    if a.occurrence_type == None:\n",
    "        print(a.number)"
   ]
  },
  {
   "cell_type": "code",
   "execution_count": null,
   "id": "a0166314",
   "metadata": {},
   "outputs": [],
   "source": [
    "history_classes=OccurrenceTypeSpecs.history.filter(history_user__username='gabriel.rodrigues@kartado.com.br',\n",
    "                              history_type='-',\n",
    "                             history_date__gte='2024-01-11',\n",
    "                             history_date__lt='2024-01-12')"
   ]
  },
  {
   "cell_type": "code",
   "execution_count": null,
   "id": "13f570d2",
   "metadata": {},
   "outputs": [],
   "source": [
    "history_classes.count()"
   ]
  },
  {
   "cell_type": "code",
   "execution_count": null,
   "id": "28eea3cc",
   "metadata": {},
   "outputs": [],
   "source": [
    "for a in history_classes:\n",
    "    a.instance.save()"
   ]
  },
  {
   "cell_type": "code",
   "execution_count": null,
   "id": "9a724b8f",
   "metadata": {},
   "outputs": [],
   "source": [
    "all_user_ccr = User.objects.all().count()\n",
    "all_user_ccr"
   ]
  },
  {
   "cell_type": "code",
   "execution_count": null,
   "id": "e75ded46",
   "metadata": {},
   "outputs": [],
   "source": [
    "company=Company.objects.get(name='Construtora Castilho')\n",
    "company"
   ]
  },
  {
   "cell_type": "code",
   "execution_count": null,
   "id": "27717af0",
   "metadata": {},
   "outputs": [],
   "source": [
    "Reporting.objects.filter(company__name__icontains=\"Construtora Castilho\",found_at__year='2018')"
   ]
  },
  {
   "cell_type": "code",
   "execution_count": null,
   "id": "d5186eee",
   "metadata": {},
   "outputs": [],
   "source": [
    "for a in OccurrenceType.history.filter(uuid='f35b8a75-b863-4bcd-a19c-7530643f49bc'):\n",
    "    for b in a.form_fields['fields']:\n",
    "        if 'sub' in b.get('displayName'):\n",
    "            print(a.name)"
   ]
  },
  {
   "cell_type": "code",
   "execution_count": null,
   "id": "1f393df2",
   "metadata": {},
   "outputs": [],
   "source": [
    "ActionLog._meta.fields"
   ]
  },
  {
   "cell_type": "code",
   "execution_count": null,
   "id": "435bdd90",
   "metadata": {},
   "outputs": [],
   "source": [
    "al = ActionLog.objects.filter(\n",
    "    created_at__gte='2024-01-01',\n",
    "    created_at__lte='2024-01-25'\n",
    ").values(\n",
    "    'company__name',\n",
    "    'action','content_type__model'\n",
    ").annotate(\n",
    "    qtd_por_action=Count('action')\n",
    ").exclude(\n",
    "    company__name=None\n",
    ").order_by(\n",
    "    '-company__name'\n",
    ")"
   ]
  },
  {
   "cell_type": "code",
   "execution_count": null,
   "id": "1f27fd80",
   "metadata": {},
   "outputs": [],
   "source": [
    "al"
   ]
  },
  {
   "cell_type": "code",
   "execution_count": null,
   "id": "4748dd6e",
   "metadata": {},
   "outputs": [],
   "source": [
    "import pandas as pd"
   ]
  },
  {
   "cell_type": "code",
   "execution_count": null,
   "id": "839882de",
   "metadata": {},
   "outputs": [],
   "source": [
    "df = pd.DataFrame(data=al)\n",
    "df"
   ]
  },
  {
   "cell_type": "code",
   "execution_count": null,
   "id": "c6eebe8c",
   "metadata": {},
   "outputs": [],
   "source": [
    "df2=pd.DataFrame(data=df.groupby(['company__name', 'action','content_type__model'])['qtd_por_action'].sum())\n",
    "df2"
   ]
  },
  {
   "cell_type": "code",
   "execution_count": null,
   "id": "19febf7d",
   "metadata": {},
   "outputs": [],
   "source": [
    "df2.to_excel('Rod_Compartilhado_uso.xlsx')"
   ]
  },
  {
   "cell_type": "code",
   "execution_count": null,
   "id": "369a1130",
   "metadata": {},
   "outputs": [],
   "source": [
    "al2 = ActionLog.objects.filter(\n",
    "    created_at__gte='2024-01-01',\n",
    "    created_at__lte='2024-01-25',\n",
    "    action='Login'\n",
    ").values(\n",
    "    'user__username','action'\n",
    ").annotate(\n",
    "    qtd_por_action=Count('action')\n",
    ").order_by(\n",
    "    '-company__name'\n",
    ")"
   ]
  },
  {
   "cell_type": "code",
   "execution_count": null,
   "id": "69eb81c9",
   "metadata": {},
   "outputs": [],
   "source": [
    "al2"
   ]
  },
  {
   "cell_type": "code",
   "execution_count": null,
   "id": "16cd5479",
   "metadata": {},
   "outputs": [],
   "source": [
    "df3 = pd.DataFrame(data=al2)\n",
    "df3[df3['user__username'] == 'luan.poletti']"
   ]
  },
  {
   "cell_type": "code",
   "execution_count": null,
   "id": "5a59a383",
   "metadata": {
    "scrolled": true
   },
   "outputs": [],
   "source": [
    "ContentType._meta.fields"
   ]
  },
  {
   "cell_type": "code",
   "execution_count": null,
   "id": "66de2c56",
   "metadata": {},
   "outputs": [],
   "source": [
    "ExcelReporting._meta.fields"
   ]
  },
  {
   "cell_type": "code",
   "execution_count": null,
   "id": "ad69c27c",
   "metadata": {},
   "outputs": [],
   "source": [
    "ExcelImport._meta.fields"
   ]
  },
  {
   "cell_type": "code",
   "execution_count": null,
   "id": "10dd19a9",
   "metadata": {},
   "outputs": [],
   "source": [
    "UserInCompany.objects.filter(company__name__icontains='Castilho').values('company__name','permissions__name','user__username').exclude(permissions__name='Inativo').exclude(company__name='Castilho Umuarama').distinct('user__username').order_by('user__username').count()"
   ]
  },
  {
   "cell_type": "code",
   "execution_count": null,
   "id": "eded070a",
   "metadata": {},
   "outputs": [],
   "source": [
    "UserInCompany.objects.filter(\n",
    "    company__name='Construtora Castilho'\n",
    ").exclude(\n",
    "    permissions__name=\"Inativo\"\n",
    ").distinct(\n",
    "    'user'\n",
    ").order_by(\n",
    "    'user'\n",
    ").count()"
   ]
  },
  {
   "cell_type": "code",
   "execution_count": null,
   "id": "e5992293",
   "metadata": {},
   "outputs": [],
   "source": [
    "UserInCompany.objects.filter(\n",
    "    company__name='Construtora Castilho (Ferrovias)'\n",
    ").exclude(\n",
    "    permissions__name=\"Inativo\"\n",
    ").distinct(\n",
    "    'user'\n",
    ").order_by(\n",
    "    'user'\n",
    ").count()"
   ]
  },
  {
   "cell_type": "code",
   "execution_count": null,
   "id": "a7cd9c76",
   "metadata": {},
   "outputs": [],
   "source": [
    "UserInCompany.objects.filter(\n",
    "    company__name='Construtora Castilho (Prefeitura Curitiba)'\n",
    ").exclude(\n",
    "    permissions__name=\"Inativo\"\n",
    ").distinct(\n",
    "    'user'\n",
    ").order_by(\n",
    "    'user'\n",
    ").count()"
   ]
  },
  {
   "cell_type": "code",
   "execution_count": null,
   "id": "5fed3f45",
   "metadata": {},
   "outputs": [],
   "source": [
    "UserInCompany._meta.fields # Construtora Castilho (Ferrovias), Construtora Castilho (Prefeitura Curitiba)"
   ]
  },
  {
   "cell_type": "code",
   "execution_count": null,
   "id": "592b3125",
   "metadata": {},
   "outputs": [],
   "source": [
    "up=UserPermission.objects.get(companies__name=\"Pavicolet (Amapá)\",name=\"Coordenador\")\n",
    "up"
   ]
  },
  {
   "cell_type": "code",
   "execution_count": null,
   "id": "f1efefd7",
   "metadata": {},
   "outputs": [],
   "source": [
    "for a in up.history.all().order_by('-history_date'):\n",
    "    print(a.permissions.get('Entity'),a.history_date,a.history_user)"
   ]
  },
  {
   "cell_type": "code",
   "execution_count": null,
   "id": "fe5a28c6",
   "metadata": {},
   "outputs": [],
   "source": [
    "UserPermission._meta.fields"
   ]
  },
  {
   "cell_type": "code",
   "execution_count": null,
   "id": "fcd793d6",
   "metadata": {},
   "outputs": [],
   "source": [
    "from django.db.models import Q"
   ]
  },
  {
   "cell_type": "code",
   "execution_count": null,
   "id": "bb34a924",
   "metadata": {},
   "outputs": [],
   "source": [
    "uis=UserPermission.objects.all().only('permissions').exclude(\n",
    "    permissions__has_key='mobile_sync'\n",
    ").exclude(\n",
    "    name='Inativo'\n",
    ")\n"
   ]
  },
  {
   "cell_type": "code",
   "execution_count": null,
   "id": "4e67427c",
   "metadata": {},
   "outputs": [],
   "source": [
    "uis.count(),uis[0].permissions.keys()"
   ]
  },
  {
   "cell_type": "code",
   "execution_count": null,
   "id": "1e70568f",
   "metadata": {},
   "outputs": [],
   "source": [
    "from tqdm.notebook import tqdm\n",
    "for a in tqdm(uis):\n",
    "#     if a.user.username =='luan.poletti':\n",
    "    if 'mobile_sync' not in a.permissions.keys():\n",
    "        a.permissions['mobile_sync'] = {\"can_edit\": True,\"can_view\": True,\"queryset\": \"self\",\"can_create\": True,\"can_delete\": True}\n",
    "        a.save()\n",
    "    else:\n",
    "        pass\n",
    "#         del a.permissions.permissions['mobile_sync']\n",
    "#         a.permissions.save()\n",
    "#         print('mobile_sync' in a.permissions.permissions.keys())"
   ]
  },
  {
   "cell_type": "code",
   "execution_count": null,
   "id": "b1769c77",
   "metadata": {},
   "outputs": [],
   "source": [
    "for a in MobileSync.objects.filter(created_by__username='luan.poletti'):\n",
    "    print(a)"
   ]
  },
  {
   "cell_type": "code",
   "execution_count": null,
   "id": "759ce87f",
   "metadata": {},
   "outputs": [],
   "source": [
    "MobileSync._meta.fields"
   ]
  },
  {
   "cell_type": "code",
   "execution_count": null,
   "id": "a9660aa0",
   "metadata": {},
   "outputs": [],
   "source": [
    "ActionLog.objects.filter(user__username='luan.poletti',action='Login').order_by('-created_at')"
   ]
  },
  {
   "cell_type": "code",
   "execution_count": null,
   "id": "28d52a00",
   "metadata": {},
   "outputs": [],
   "source": [
    "ActionLog._meta.fields"
   ]
  },
  {
   "cell_type": "code",
   "execution_count": null,
   "id": "5316ed8c",
   "metadata": {},
   "outputs": [],
   "source": [
    "lista=[ { \"type\": \"MultipleDailyReport\", \"id\": \"77348510-c064-46a1-957d-0f70e103ded7\" }, { \"type\": \"MultipleDailyReport\", \"id\": \"6951f837-a671-4bab-83dd-abc42649808f\" }, { \"type\": \"MultipleDailyReport\", \"id\": \"a2c61f23-d127-4fa0-8061-b454e3f3fe59\" }, { \"type\": \"MultipleDailyReport\", \"id\": \"794c94d3-77b6-4177-a40a-9ac6ad5a4032\" }, { \"type\": \"MultipleDailyReport\", \"id\": \"382798a4-2254-405c-8daf-802a9caffd1d\" }, { \"type\": \"MultipleDailyReport\", \"id\": \"f54597f4-1998-4fa1-bb2e-d772ecb981c9\" }, { \"type\": \"MultipleDailyReport\", \"id\": \"37057dec-ce6e-4a72-8dfe-61d74e804273\" }, { \"type\": \"MultipleDailyReport\", \"id\": \"1f3eeaa0-4f83-4971-89ad-60a3299bbf89\" }, { \"type\": \"MultipleDailyReport\", \"id\": \"e1c04e3d-796e-49df-9ef5-79641d5f1ae9\" }, { \"type\": \"MultipleDailyReport\", \"id\": \"94597617-38c0-47be-80be-55776ee22e86\" }, { \"type\": \"MultipleDailyReport\", \"id\": \"7bae9d2e-6185-4a12-b0d9-4f97d4854af3\" }, { \"type\": \"MultipleDailyReport\", \"id\": \"b843218b-87da-4566-808f-250e11567fc6\" }, { \"type\": \"MultipleDailyReport\", \"id\": \"9f6f4903-4962-4420-9996-8f8a6842127e\" }, { \"type\": \"MultipleDailyReport\", \"id\": \"289e051a-e94d-4ce8-9dd6-0e3c1a4ed55c\" }, { \"type\": \"MultipleDailyReport\", \"id\": \"0d17457e-cd15-41b1-b50d-9139a952291c\" }, { \"type\": \"MultipleDailyReport\", \"id\": \"98347aae-c3d4-43ae-8cdc-5cd25aabd411\" }, { \"type\": \"MultipleDailyReport\", \"id\": \"d9b48ac6-bdfb-45ce-b532-2e0739637c80\" }, { \"type\": \"MultipleDailyReport\", \"id\": \"b0735c05-2b46-44c4-a117-7afaad1011ac\" }, { \"type\": \"MultipleDailyReport\", \"id\": \"bbaaeafc-e622-49ce-b3fa-ae6241697b0e\" }, { \"type\": \"MultipleDailyReport\", \"id\": \"58c3c664-a712-4f35-b73a-932eddfffdf0\" }, { \"type\": \"MultipleDailyReport\", \"id\": \"c4e34ca9-d1f4-4808-ad08-578f419964be\" }, { \"type\": \"MultipleDailyReport\", \"id\": \"c7b8ac5b-b947-4c18-98e1-a62480f1db3e\" }, { \"type\": \"MultipleDailyReport\", \"id\": \"4b789c1b-4095-48fa-8df1-c5eb4ae2dd4f\" }, { \"type\": \"MultipleDailyReport\", \"id\": \"ab17d884-bd0d-4faf-8a90-d700f43fd310\" }, { \"type\": \"MultipleDailyReport\", \"id\": \"e7b43cd1-5717-4e54-9d86-ee0209233659\" }, { \"type\": \"MultipleDailyReport\", \"id\": \"d49de21b-5304-433c-849c-73dd622e27a3\" }, { \"type\": \"MultipleDailyReport\", \"id\": \"f9328661-6fd2-48a1-ac0d-e71816507071\" }, { \"type\": \"MultipleDailyReport\", \"id\": \"c0cc6d5a-22fa-428d-8028-4106aa9ec623\" }, { \"type\": \"MultipleDailyReport\", \"id\": \"ad67ce73-8360-4848-bcf2-515ae74dae4f\" }, { \"type\": \"MultipleDailyReport\", \"id\": \"7e25ef99-378d-4f0f-94aa-a4d71a496aa6\" }, { \"type\": \"MultipleDailyReport\", \"id\": \"370976e5-4e5f-48c7-9c0c-f6ec6f38777b\" }, { \"type\": \"MultipleDailyReport\", \"id\": \"7321dfdc-2957-476b-a073-9d67295fabcc\" }, { \"type\": \"MultipleDailyReport\", \"id\": \"596d09a5-4fcc-4830-990b-edc0b70fbeac\" }, { \"type\": \"MultipleDailyReport\", \"id\": \"d55e909f-cb76-4385-b820-372c684508e3\" }, { \"type\": \"MultipleDailyReport\", \"id\": \"f2a0013d-6ff9-44e7-95f3-9a308cddcf4f\" }, { \"type\": \"MultipleDailyReport\", \"id\": \"529734b6-606e-494d-a1e8-8d44e32640c9\" }, { \"type\": \"MultipleDailyReport\", \"id\": \"63f3a7fa-f1a2-4ab7-95eb-96ddcd4cc2f6\" }, { \"type\": \"MultipleDailyReport\", \"id\": \"212f949f-69c4-43c4-8ca5-2ae9a39f73a2\" }, { \"type\": \"MultipleDailyReport\", \"id\": \"fb2376d3-5f51-4aeb-823f-e0fc57540db6\" }, { \"type\": \"MultipleDailyReport\", \"id\": \"2cf4be96-dbd0-46b7-b605-8aa534728489\" }, { \"type\": \"MultipleDailyReport\", \"id\": \"ece8d9d6-f012-4df6-8d18-1420dd9fd966\" }, { \"type\": \"MultipleDailyReport\", \"id\": \"91ee961a-7080-4126-be78-f99128d26581\" }, { \"type\": \"MultipleDailyReport\", \"id\": \"2da8870c-c2ed-4ece-8a0f-c9a8e4cc2d5d\" }, { \"type\": \"MultipleDailyReport\", \"id\": \"ada8c073-342e-451e-898b-98e4c91866bf\" }, { \"type\": \"MultipleDailyReport\", \"id\": \"1f35f761-13f4-4aea-8b5a-a8e42361b78f\" }, { \"type\": \"MultipleDailyReport\", \"id\": \"320e85f9-6c81-423f-a1a3-5e270bdfd6e3\" }, { \"type\": \"MultipleDailyReport\", \"id\": \"3cddf373-5f21-47d2-9bb4-fdc6a4abe5cb\" }, { \"type\": \"MultipleDailyReport\", \"id\": \"2bf2d158-90c9-49f2-8bd2-04d675d66854\" }, { \"type\": \"MultipleDailyReport\", \"id\": \"be813cad-5da9-4105-ba07-a3dda4144117\" }, { \"type\": \"MultipleDailyReport\", \"id\": \"f5f05b47-ed00-495b-8be3-56e0e10032dd\" }, { \"type\": \"MultipleDailyReport\", \"id\": \"3d6a87f2-bf8b-4347-b823-a64a5d104baa\" }, { \"type\": \"MultipleDailyReport\", \"id\": \"f353b206-7975-4c6e-b6b3-f47f3db76ac8\" }, { \"type\": \"MultipleDailyReport\", \"id\": \"20fdfc2d-6093-4a39-aca7-086c30a6b322\" }, { \"type\": \"MultipleDailyReport\", \"id\": \"a770de6d-00f2-48f5-a9ba-8bdf51322826\" } ]"
   ]
  },
  {
   "cell_type": "code",
   "execution_count": null,
   "id": "de06a3b7",
   "metadata": {},
   "outputs": [],
   "source": [
    "dre=DailyReportExport.objects.get(uuid='b8c7911e-bdb4-43f4-9892-73db636a4ac6')\n",
    "dre2 = DailyReportExport.objects.get(uuid='cff5504d-2fb2-4b74-937e-d51457220d37')\n",
    "dre.multiple_daily_reports.all().count(),dre2.multiple_daily_reports.all().count()"
   ]
  },
  {
   "cell_type": "code",
   "execution_count": null,
   "id": "285bc010",
   "metadata": {},
   "outputs": [],
   "source": [
    "dre.daily_reports.all()"
   ]
  },
  {
   "cell_type": "code",
   "execution_count": null,
   "id": "f36bbad6",
   "metadata": {},
   "outputs": [],
   "source": [
    "aprovado = ApprovalStep.objects.get(approval_flow__company__name='Arteris Fernão Dias - Conserva',\n",
    "                                    approval_flow__target_model__icontains='multiple',\n",
    "                                   name__icontains='Aprovado')\n",
    "aprovado"
   ]
  },
  {
   "cell_type": "code",
   "execution_count": null,
   "id": "7c551bd0",
   "metadata": {},
   "outputs": [],
   "source": [
    "mdr = MultipleDailyReport.objects.filter(multiple_daily_report_exports=dre).exclude(approval_step=aprovado).values('number')\n",
    "mdr.count()"
   ]
  },
  {
   "cell_type": "code",
   "execution_count": null,
   "id": "39ec0fba",
   "metadata": {},
   "outputs": [],
   "source": [
    "mdr2 = MultipleDailyReport.objects.filter(multiple_daily_report_exports=dre2).order_by('-date')\n",
    "mdr2.count(),mdr2[0],mdr2[-1]"
   ]
  },
  {
   "cell_type": "code",
   "execution_count": null,
   "id": "d92a1c28",
   "metadata": {},
   "outputs": [],
   "source": [
    "dados=[]\n",
    "for a in mdr2:\n",
    "    relations=DailyReportRelation.objects.filter(multiple_daily_report=a)\n",
    "    for relation in relations:\n",
    "        try:\n",
    "            print(\"$$$$\")\n",
    "            print(a.number,a.firm.name,a.firm.subcompany.name,a.date)\n",
    "            print(relation.worker,relation.external_team,relation.equipment,relation.vehicle,relation.occurrence,\n",
    "              relation.resource,relation.signaling)\n",
    "            if a.number not in dados:\n",
    "                dados.append(a.number)\n",
    "        except:\n",
    "            if a.number not in dados:\n",
    "                dados.append(a.number)\n",
    "            print('---')\n",
    "            print(a.number,a.firm.name,a.firm.subcompany.name,a.date)"
   ]
  },
  {
   "cell_type": "code",
   "execution_count": null,
   "id": "7c9fd7da",
   "metadata": {},
   "outputs": [],
   "source": [
    "len(dados),dados"
   ]
  },
  {
   "cell_type": "code",
   "execution_count": null,
   "id": "4c8d9e19",
   "metadata": {},
   "outputs": [],
   "source": [
    "MultipleDailyReport._meta.fields"
   ]
  },
  {
   "cell_type": "code",
   "execution_count": null,
   "id": "acc9e0ee",
   "metadata": {},
   "outputs": [],
   "source": [
    "DailyReportRelation._meta.fields"
   ]
  },
  {
   "cell_type": "code",
   "execution_count": null,
   "id": "77d2c617",
   "metadata": {},
   "outputs": [],
   "source": [
    "mb=MeasurementBulletin.objects.get(number='AFD-BM-2023.35')"
   ]
  },
  {
   "cell_type": "code",
   "execution_count": null,
   "id": "b5a0988e",
   "metadata": {},
   "outputs": [],
   "source": [
    "mb.__dict__"
   ]
  },
  {
   "cell_type": "code",
   "execution_count": null,
   "id": "849f8a25",
   "metadata": {
    "scrolled": true
   },
   "outputs": [],
   "source": [
    "ReportingFile._meta.fields"
   ]
  },
  {
   "cell_type": "code",
   "execution_count": null,
   "id": "277489a2",
   "metadata": {},
   "outputs": [],
   "source": [
    "rf=ReportingFile.objects.filter(\n",
    "                         reporting__company__name='Arteris Fernão Dias - Conserva',\n",
    "    reporting__found_at__gte='2023-11-1')\n",
    "rf.count()"
   ]
  },
  {
   "cell_type": "code",
   "execution_count": null,
   "id": "7993bd4d",
   "metadata": {},
   "outputs": [],
   "source": [
    "from tqdm.notebook import tqdm\n",
    "dados=[]\n",
    "for a in tqdm(rf):\n",
    "    try:\n",
    "        a.upload.size\n",
    "    except:\n",
    "        dados.append(a)\n",
    "#         print(a.reporting.number,a.reporting.sub_company)"
   ]
  },
  {
   "cell_type": "code",
   "execution_count": null,
   "id": "02d54d0e",
   "metadata": {},
   "outputs": [],
   "source": [
    "temp=[]\n",
    "for a in dados:\n",
    "    if a.reporting.number not in temp:\n",
    "        temp.append(a.reporting.number)\n",
    "        print(a.reporting.number,a.reporting.firm.name,a.reporting.firm.subcompany.name)"
   ]
  },
  {
   "cell_type": "code",
   "execution_count": null,
   "id": "dc3b011f",
   "metadata": {},
   "outputs": [],
   "source": [
    "occs=OccurrenceType.objects.filter(company__name=\"CART\")"
   ]
  },
  {
   "cell_type": "code",
   "execution_count": null,
   "id": "87af908f",
   "metadata": {},
   "outputs": [],
   "source": [
    "for a in occs:\n",
    "    for b in a.form_fields['fields']:\n",
    "        if b.get('displayName') == 'Origem':\n",
    "            occ = a.history.all().order_by('-history_date')[1]\n",
    "            occ.instance.save()"
   ]
  },
  {
   "cell_type": "code",
   "execution_count": null,
   "id": "12dfe019",
   "metadata": {},
   "outputs": [],
   "source": [
    "arteris_suporte = UserPermission.objects.get(companies__name__icontains='Arteris Fernão Dias - Conserva',\n",
    "                                             name='Suporte')\n",
    "arteris_suporte"
   ]
  },
  {
   "cell_type": "code",
   "execution_count": null,
   "id": "41e99a89",
   "metadata": {},
   "outputs": [],
   "source": [
    "for a in CompanyGroup.objects.all():\n",
    "    a.mobile_app = 'road'\n",
    "#     a.save()"
   ]
  },
  {
   "cell_type": "code",
   "execution_count": null,
   "id": "63b272f6",
   "metadata": {},
   "outputs": [],
   "source": [
    "up_inativo = UserPermission.objects.get(name__icontains='Inativo',companies__name__in=['Sanson'])\n",
    "up_inativo"
   ]
  },
  {
   "cell_type": "code",
   "execution_count": null,
   "id": "7cc9adfd",
   "metadata": {},
   "outputs": [],
   "source": [
    "for a in UserInCompany.objects.filter(company__name__in=['Sanson']):\n",
    "    if a.user.username == \"danieli.soares\":\n",
    "        a.permissions = up_inativo\n",
    "        a.save()"
   ]
  },
  {
   "cell_type": "code",
   "execution_count": null,
   "id": "8e701932",
   "metadata": {},
   "outputs": [],
   "source": [
    "up=UserPermission.history.filter(uuid='abca0b11-4750-44fd-b411-74386cb51cf1').order_by('-history_date')"
   ]
  },
  {
   "cell_type": "code",
   "execution_count": null,
   "id": "49cb05f4",
   "metadata": {},
   "outputs": [],
   "source": []
  },
  {
   "cell_type": "code",
   "execution_count": null,
   "id": "b01e0e06",
   "metadata": {},
   "outputs": [],
   "source": [
    "for a in tqdm(UserInCompany.objects.filter(permissions__isnull=True)):\n",
    "    a.permissions = up_origem\n",
    "    a.save()\n",
    "    if a.company.name not in up_origem.companies.values_list('name',flat=True):\n",
    "        up_origem.companies.add(a.company)"
   ]
  },
  {
   "cell_type": "code",
   "execution_count": null,
   "id": "faab598f",
   "metadata": {},
   "outputs": [],
   "source": [
    "UserInCompany.objects.filter(permissions__isnull=True).count()"
   ]
  },
  {
   "cell_type": "code",
   "execution_count": null,
   "id": "dc9c8f43",
   "metadata": {},
   "outputs": [],
   "source": [
    "'Sinalizavia (Municípios)' in up_origem.companies.values_list('name',flat=True)"
   ]
  },
  {
   "cell_type": "code",
   "execution_count": null,
   "id": "d4290a69",
   "metadata": {},
   "outputs": [],
   "source": [
    "up_origem = UserPermission.objects.get(uuid='abca0b11-4750-44fd-b411-74386cb51cf1')\n",
    "up_dest = UserPermission.objects.get(uuid='0481b65a-5950-4abf-99f2-10f40100b75e')\n",
    "up_origem,up_dest"
   ]
  },
  {
   "cell_type": "code",
   "execution_count": null,
   "id": "1c1acdaa",
   "metadata": {},
   "outputs": [],
   "source": [
    "from tqdm.notebook import tqdm\n",
    "for a in tqdm(UserInCompany.objects.filter(company__name='Eixo SP',permissions=up_origem)):\n",
    "    a.permissions = up_dest\n",
    "    a.save()"
   ]
  },
  {
   "cell_type": "code",
   "execution_count": null,
   "id": "b75a5774",
   "metadata": {},
   "outputs": [],
   "source": [
    "import json\n",
    "for a in Company.objects.all().only('custom_options','name'):\n",
    "    if 'accumulator' in json.dumps(a.custom_options):\n",
    "        print(a.name)"
   ]
  },
  {
   "cell_type": "code",
   "execution_count": null,
   "id": "504c101d",
   "metadata": {},
   "outputs": [],
   "source": [
    "for a in Job.objects.filter()"
   ]
  },
  {
   "cell_type": "code",
   "execution_count": null,
   "id": "40ad2f2c",
   "metadata": {},
   "outputs": [],
   "source": [
    "import json\n",
    "for a in ApprovalStep.objects.filter(auto_execute_transition=False,name='Aguardando Aprovação',approval_flow__target_model__icontains='access'):\n",
    "    print(a.approval_flow.company.name)"
   ]
  },
  {
   "cell_type": "code",
   "execution_count": null,
   "id": "d5edd89e",
   "metadata": {},
   "outputs": [],
   "source": [
    "rep=Reporting.objects.get(number='05.03.03.86')"
   ]
  },
  {
   "cell_type": "code",
   "execution_count": null,
   "id": "7a1c27c1",
   "metadata": {},
   "outputs": [],
   "source": [
    "Job.objects.filter(number='PROG-2024.00001',company__name='Arteris Via Paulista - SISOAE').update(parent_inventory=rep)"
   ]
  },
  {
   "cell_type": "code",
   "execution_count": null,
   "id": "73fbc9d9",
   "metadata": {},
   "outputs": [],
   "source": [
    "up=UserPermission.objects.get(name='Sala técnica',companies__name='LCM Construção e Comércio')"
   ]
  },
  {
   "cell_type": "code",
   "execution_count": null,
   "id": "b40f4564",
   "metadata": {},
   "outputs": [],
   "source": [
    "up.history.all().order_by('-history_date')[8]"
   ]
  },
  {
   "cell_type": "code",
   "execution_count": null,
   "id": "4f8d3fe8",
   "metadata": {},
   "outputs": [],
   "source": [
    "reps=Reporting.objects.filter(occurrence_type__uuid='29dc7592-07cf-49b1-9a6f-56483a40ca6f')\n",
    "reps.count()"
   ]
  },
  {
   "cell_type": "code",
   "execution_count": null,
   "id": "9fc4c5bb",
   "metadata": {},
   "outputs": [],
   "source": [
    "options= [{'name': 'A1', 'value': '1'},\n",
    "     {'name': 'A2', 'value': '2'},\n",
    "     {'name': 'A3', 'value': '3'},\n",
    "     {'name': 'A4', 'value': '4'},\n",
    "     {'name': 'A5', 'value': '5'},\n",
    "     {'name': 'B1', 'value': '6'},\n",
    "     {'name': 'B2', 'value': '7'},\n",
    "     {'name': 'B3', 'value': '8'},\n",
    "     {'name': 'B4', 'value': '9'},\n",
    "     {'name': 'B5', 'value': '10'},\n",
    "     {'name': 'C1', 'value': '11'},\n",
    "     {'name': 'C2', 'value': '12'},\n",
    "     {'name': 'C3', 'value': '13'},\n",
    "     {'name': 'C4', 'value': '14'},\n",
    "     {'name': 'C5', 'value': '15'}]"
   ]
  },
  {
   "cell_type": "code",
   "execution_count": null,
   "id": "a9529f5a",
   "metadata": {},
   "outputs": [],
   "source": [
    "from tqdm.notebook import tqdm\n",
    "for a in tqdm(reps):\n",
    "    print(a.number)\n",
    "    if a.form_data.get('structure_grade'):\n",
    "        a.form_data['structural_classification'] = next(x['name'] for x in options if x['value'] == str(a.form_data.get('structure_grade')))\n",
    "        del a.form_data['structure_grade']\n",
    "    if a.form_data.get('functional_grade'):\n",
    "        a.form_data['functional_classification'] = next(x['name'] for x in options if x['value'] == str(a.form_data.get('functional_grade')))\n",
    "        del a.form_data['functional_grade']\n",
    "    if a.form_data.get('durability_grade'):\n",
    "        a.form_data['wear_classification'] = next(x['name'] for x in options if x['value'] == str(a.form_data.get('durability_grade')))\n",
    "        del a.form_data['durability_grade']\n",
    "    a.save()\n",
    "    "
   ]
  },
  {
   "cell_type": "code",
   "execution_count": null,
   "id": "e9d734ac",
   "metadata": {},
   "outputs": [],
   "source": [
    "reps[0].form_data.get('functional_grade')"
   ]
  },
  {
   "cell_type": "code",
   "execution_count": null,
   "id": "fb4866e2",
   "metadata": {},
   "outputs": [],
   "source": [
    "from tqdm.notebook import tqdm\n",
    "for a in tqdm(reps):\n",
    "    print(a.number)\n",
    "    if a.form_data.get('structure_grade'):\n",
    "        a.form_data['structural_classification'] = a.form_data.get('structure_grade')\n",
    "        del a.form_data['structure_grade']\n",
    "    if a.form_data.get('functional_grade'):\n",
    "        a.form_data['functional_classification'] = a.form_data['functional_grade']\n",
    "        del a.form_data['functional_grade']\n",
    "    if a.form_data.get('durability_grade'):\n",
    "        a.form_data['wear_classification'] = a.form_data['durability_grade']\n",
    "        del a.form_data['durability_grade']\n",
    "    \n",
    "    a.save()"
   ]
  },
  {
   "cell_type": "code",
   "execution_count": null,
   "id": "811401ce",
   "metadata": {},
   "outputs": [],
   "source": [
    "a.form_data"
   ]
  },
  {
   "cell_type": "code",
   "execution_count": null,
   "id": "98afeb18",
   "metadata": {},
   "outputs": [],
   "source": [
    "reps[0].occurrence_type.history.all().order_by('-history_date')[1].form_fields"
   ]
  },
  {
   "cell_type": "code",
   "execution_count": null,
   "id": "593d7916",
   "metadata": {},
   "outputs": [],
   "source": [
    "MobileSync._meta.fields"
   ]
  },
  {
   "cell_type": "code",
   "execution_count": null,
   "id": "dbe936f0",
   "metadata": {},
   "outputs": [],
   "source": [
    "user=User.objects.get(username='fabiano.tome')\n",
    "company=Company.objects.get(name='Arteris Fernão Dias - Conserva')"
   ]
  },
  {
   "cell_type": "code",
   "execution_count": null,
   "id": "55c32a3e",
   "metadata": {},
   "outputs": [],
   "source": [
    "ms=MobileSync(uuid='1da95c95-e667-46c8-a387-54546e8ceaf0',\n",
    "              created_by=user,\n",
    "              company=company)"
   ]
  },
  {
   "cell_type": "code",
   "execution_count": null,
   "id": "5d061c2d",
   "metadata": {},
   "outputs": [],
   "source": [
    "ms.save()"
   ]
  },
  {
   "cell_type": "code",
   "execution_count": null,
   "id": "eb382832",
   "metadata": {},
   "outputs": [],
   "source": [
    "ms.__dict__"
   ]
  },
  {
   "cell_type": "code",
   "execution_count": null,
   "id": "8bd1159d",
   "metadata": {},
   "outputs": [],
   "source": [
    "Job._meta.fields"
   ]
  },
  {
   "cell_type": "code",
   "execution_count": null,
   "id": "b612b012",
   "metadata": {},
   "outputs": [],
   "source": [
    "job=Job.objects.first()"
   ]
  },
  {
   "cell_type": "code",
   "execution_count": null,
   "id": "4b81eb6a",
   "metadata": {},
   "outputs": [],
   "source": [
    "hist=job.history.all().order_by('history_date')\n",
    "hist.count(),hist[0].history_date"
   ]
  },
  {
   "cell_type": "code",
   "execution_count": null,
   "id": "7b2881e9",
   "metadata": {},
   "outputs": [],
   "source": [
    "for a in hist:\n",
    "    print(a.history_date)"
   ]
  },
  {
   "cell_type": "code",
   "execution_count": null,
   "id": "a62d4dad",
   "metadata": {},
   "outputs": [],
   "source": [
    "MeasurementBulletin.objects.get(number='AFD-BM-2023.35').delete()"
   ]
  },
  {
   "cell_type": "code",
   "execution_count": null,
   "id": "6e37250d",
   "metadata": {},
   "outputs": [],
   "source": [
    "company=Company.objects.filter(name__icontains='Rota do Oeste')\n",
    "company_group=CompanyGroup.objects.get(name='Arteris')\n",
    "company.update(company_group=company_group)\n",
    "company,company_group"
   ]
  },
  {
   "cell_type": "code",
   "execution_count": null,
   "id": "a545f433",
   "metadata": {},
   "outputs": [],
   "source": [
    "for a in UserInCompany.objects.filter(\n",
    "    company__in=company,\n",
    "#     user__email__icontains='kartado'\n",
    "):\n",
    "    if a.user.company_group != a.company.company_group:\n",
    "        a.user.company_group = a.company.company_group\n",
    "#         a.user.company_group = company_group\n",
    "        a.user.save()\n",
    "        print(a.user.username,a.user.company_group,a.company.company_group)"
   ]
  },
  {
   "cell_type": "code",
   "execution_count": null,
   "id": "39b4f0be",
   "metadata": {},
   "outputs": [],
   "source": [
    "for a in UserInCompany.objects.filter(user__username='yarasantos'):\n",
    "    print(f'''Username:{a.user.username},\n",
    "    CP Usuário:{a.user.company_group.name},\n",
    "    CP Unidade:{a.company.company_group},\n",
    "    Unidade:{a.company.name}''')"
   ]
  },
  {
   "cell_type": "code",
   "execution_count": null,
   "id": "733f0f4f",
   "metadata": {},
   "outputs": [],
   "source": [
    "for a in UserInCompany.objects.filter(user__username__in=['yarasantos','rlcs']).values(\n",
    "    'user__username','user__company_group__name').distinct('user').order_by('user'):\n",
    "    print(\"Usuário:\",a['user__username'],\"Company_Group:\",a['user__company_group__name'])"
   ]
  },
  {
   "cell_type": "code",
   "execution_count": null,
   "id": "7dcf9a4c",
   "metadata": {},
   "outputs": [],
   "source": [
    "a.user"
   ]
  },
  {
   "cell_type": "code",
   "execution_count": null,
   "id": "02f49d26",
   "metadata": {},
   "outputs": [],
   "source": [
    "a.user.company_group = company_group\n",
    "a.user.save()"
   ]
  },
  {
   "cell_type": "code",
   "execution_count": null,
   "id": "d103d917",
   "metadata": {},
   "outputs": [],
   "source": [
    "import json\n",
    "from copy import deepcopy\n",
    "from tqdm.notebook import tqdm"
   ]
  },
  {
   "cell_type": "code",
   "execution_count": null,
   "id": "aca46b42",
   "metadata": {},
   "outputs": [],
   "source": [
    "for a in tqdm(OccurrenceType.objects.filter(company__name='Pavicolet (Amazonas)')):\n",
    "    fields_old = deepcopy(a.form_fields.get('fields'))\n",
    "    for b in a.form_fields.get('fields'):\n",
    "        if b['apiName'] == 'estacaInicial':\n",
    "            if b.get('autofill') and '227' in json.dumps(b.get('autofill')):\n",
    "                b['autofill'] = json.loads(json.dumps(b.get('autofill')).replace('227','227.04'))\n",
    "        if b['apiName'] == 'fracaoInicial':\n",
    "            if b.get('autofill') and '227' in json.dumps(b.get('autofill')):\n",
    "                b['autofill'] = json.loads(json.dumps(b.get('autofill')).replace('227','227.04'))\n",
    "        if b['apiName'] == 'estacaFinal':\n",
    "            if b.get('autofill') and '227' in json.dumps(b.get('autofill')):\n",
    "                b['autofill'] = json.loads(json.dumps(b.get('autofill')).replace('227','227.04'))\n",
    "        if b['apiName'] == 'fracaoFinal':\n",
    "            if b.get('autofill') and '227' in json.dumps(b.get('autofill')):\n",
    "                b['autofill'] = json.loads(json.dumps(b.get('autofill')).replace('227','227.04'))\n",
    "    if fields_old != a.form_fields.get('fields'):\n",
    "        a.save()"
   ]
  },
  {
   "cell_type": "code",
   "execution_count": null,
   "id": "7264a648",
   "metadata": {
    "scrolled": true
   },
   "outputs": [],
   "source": [
    "soma=0\n",
    "for a in Company.objects.get(uuid='097fe80a-4917-4fa1-8207-2de35c113599').metadata['csp']['topics']['5.1']['rules']['ICRD']['types']:\n",
    "    occ= OccurrenceType.objects.get(uuid=a)\n",
    "    reps = Reporting.objects.filter(occurrence_type=occ,found_at__year=2023,found_at__month=7)\n",
    "#     print(reps)\n",
    "    if reps.exists():\n",
    "        soma+=reps.count()\n",
    "        print(occ.name,reps.count())\n",
    "    else:\n",
    "        print(occ.name)\n",
    "print(soma)"
   ]
  },
  {
   "cell_type": "code",
   "execution_count": null,
   "id": "2eca1095",
   "metadata": {},
   "outputs": [],
   "source": [
    "occ.form_fields"
   ]
  },
  {
   "cell_type": "code",
   "execution_count": null,
   "id": "f5b8219b",
   "metadata": {},
   "outputs": [],
   "source": [
    "from helpers.apps.csp import CspBase,CspEndpoint"
   ]
  },
  {
   "cell_type": "code",
   "execution_count": null,
   "id": "b98bc32b",
   "metadata": {},
   "outputs": [],
   "source": [
    "company=Company.objects.get(uuid='097fe80a-4917-4fa1-8207-2de35c113599')\n",
    "company"
   ]
  },
  {
   "cell_type": "code",
   "execution_count": null,
   "id": "9c3582b4",
   "metadata": {},
   "outputs": [],
   "source": [
    "params={'csp_year':\"2023\",\n",
    "        \"company\":company,\n",
    "        \"company_id\":str(company.uuid),\n",
    "       \"csp_number\":'5.1',\n",
    "       \"csp_type\":\"segment\"}"
   ]
  },
  {
   "cell_type": "code",
   "execution_count": null,
   "id": "2664e0be",
   "metadata": {},
   "outputs": [],
   "source": [
    "params.get('csp_year')"
   ]
  },
  {
   "cell_type": "code",
   "execution_count": null,
   "id": "892173b0",
   "metadata": {},
   "outputs": [],
   "source": [
    "csp=CspBase(params)"
   ]
  },
  {
   "cell_type": "code",
   "execution_count": null,
   "id": "7be29522",
   "metadata": {},
   "outputs": [],
   "source": [
    "csp.has_csp_data_in_company()"
   ]
  },
  {
   "cell_type": "code",
   "execution_count": null,
   "id": "e391806f",
   "metadata": {},
   "outputs": [],
   "source": [
    "csp.get_basic_data()"
   ]
  },
  {
   "cell_type": "code",
   "execution_count": null,
   "id": "4d4aee00",
   "metadata": {},
   "outputs": [],
   "source": [
    "def get_basic_data(self):\n",
    "        if not self.company_id or not self.csp_number or not self.csp_type:\n",
    "            print('deu')\n",
    "            return False\n",
    "        print(self.company_id)\n",
    "        # Get company and its data related to CSP\n",
    "        try:\n",
    "            self.company = Company.objects.get(pk=self.company_id)\n",
    "        except Exception:\n",
    "            print('aqui')\n",
    "            return False\n",
    "        possible_path_lots = \"reporting__fields__lot__selectoptions__options\"\n",
    "        lots = get_obj_from_path(self.company.custom_options, possible_path_lots)\n",
    "        self.lots_translation = {item[\"value\"]: item[\"name\"] for item in lots}\n",
    "        can_calculate = self.has_csp_data_in_company()\n",
    "        return can_calculate"
   ]
  },
  {
   "cell_type": "code",
   "execution_count": null,
   "id": "92f9bf7c",
   "metadata": {},
   "outputs": [],
   "source": [
    "get_basic_data(csp)"
   ]
  },
  {
   "cell_type": "code",
   "execution_count": null,
   "id": "52aed8df",
   "metadata": {},
   "outputs": [],
   "source": [
    "type(csp.company_id.uuid)"
   ]
  },
  {
   "cell_type": "code",
   "execution_count": null,
   "id": "aca721fa",
   "metadata": {},
   "outputs": [],
   "source": [
    "Company.objects.get(pk=csp.company_id.uuid)"
   ]
  },
  {
   "cell_type": "code",
   "execution_count": null,
   "id": "467595af",
   "metadata": {},
   "outputs": [],
   "source": [
    "csp_data=Company.objects.get(uuid='097fe80a-4917-4fa1-8207-2de35c113599').metadata['csp']['topics']['5.1']\n",
    "rules = csp_data[\"rules\"]\n",
    "csp_name = csp_data[\"name\"]\n",
    "type_ids = csp_data.get(\"type_ids\", [])\n",
    "fields = [\"name\", \"weight\", \"performance\", \"scoring\", \"types\"]"
   ]
  },
  {
   "cell_type": "code",
   "execution_count": null,
   "id": "ee7c2aab",
   "metadata": {},
   "outputs": [],
   "source": [
    "all_types = []\n",
    "for value in rules.values():\n",
    "    if set(fields).issubset(value):\n",
    "        all_types += value[\"types\"]\n",
    "    else:\n",
    "        print(False)"
   ]
  },
  {
   "cell_type": "code",
   "execution_count": null,
   "id": "da571dde",
   "metadata": {},
   "outputs": [],
   "source": [
    "def get_result_by_period(self, all_information, period):\n",
    "        if period == \"month\":\n",
    "            informations = {\n",
    "                \"{}/{}\".format(str(i), self.year): list(\n",
    "                    filter(lambda x: x[\"month\"] == i, all_information)\n",
    "                )\n",
    "                for i in range(1, 13, 1)\n",
    "            }\n",
    "        elif period == \"quarter\":\n",
    "            # This is not being used\n",
    "            informations = {\n",
    "                \"{}/{}\".format(str(i), self.year): list(\n",
    "                    filter(\n",
    "                        lambda x: x[\"month\"] in self.translate_quarter[i],\n",
    "                        all_information,\n",
    "                    )\n",
    "                )\n",
    "                for i in range(1, 5, 1)\n",
    "            }\n",
    "        else:\n",
    "            return {}\n",
    "\n",
    "        result = {}\n",
    "        all_topics = list(self.rules.keys())\n",
    "        for period_name, values in informations.items():\n",
    "            indicators = []\n",
    "            indicators_period = {}\n",
    "            grades = {}\n",
    "            for topic in all_topics:\n",
    "                lots = []\n",
    "                lots_period = []\n",
    "                indicator_dict = self.rules[topic]\n",
    "                weight = indicator_dict[\"weight\"]\n",
    "                original_name = indicator_dict[\"name\"]\n",
    "                info_by_topic = list(\n",
    "                    filter(lambda x: x[\"inspection_topic\"] == topic, values)\n",
    "                )\n",
    "                all_lots = list(set([item[\"lot\"] for item in info_by_topic]))\n",
    "                for lot in all_lots:\n",
    "                    roads = []\n",
    "                    roads_period = []\n",
    "                    lot_name = self.lots_translation.get(lot, \"Sem Lote\")\n",
    "                    info_by_lot = list(filter(lambda x: x[\"lot\"] == lot, info_by_topic))\n",
    "                    all_roads = list(set([item[\"road_name\"] for item in info_by_lot]))\n",
    "                    for road in all_roads:\n",
    "                        info_by_road = list(\n",
    "                            filter(lambda x: x[\"road_name\"] == road, info_by_lot)\n",
    "                        )\n",
    "                        reportings_by_road = [\n",
    "                            a for item in info_by_road for a in item[\"reportings\"]\n",
    "                        ]\n",
    "                        not_conforming_road = self.get_not_conform_calc(\n",
    "                            reportings_by_road, indicator_dict\n",
    "                        )\n",
    "                        inspected_road = self.get_inspected(\n",
    "                            info_by_road, \"{}:{}\".format(lot_name, road)\n",
    "                        )\n",
    "                        value_perc_road, value_frac_road = self.get_perc(\n",
    "                            not_conforming_road, inspected_road\n",
    "                        )\n",
    "                        road_summary = {\n",
    "                            \"name\": road,\n",
    "                            \"inspected\": inspected_road,\n",
    "                            \"not_conforming\": not_conforming_road,\n",
    "                        }\n",
    "                        roads.append(\n",
    "                            {\n",
    "                                **road_summary,\n",
    "                                \"value_perc\": value_perc_road,\n",
    "                                \"value_frac\": value_frac_road,\n",
    "                            }\n",
    "                        )\n",
    "                        grade_road = (\n",
    "                            self.get_csp_calc(value_perc_road, indicator_dict)\n",
    "                            if info_by_road\n",
    "                            else 1\n",
    "                        )\n",
    "                        roads_period.append(\n",
    "                            {**road_summary, \"final_part\": grade_road * weight}\n",
    "                        )\n",
    "\n",
    "                    not_conforming_lot = self.get_not_conforming(roads)\n",
    "                    inspected_lot = self.get_inspected(info_by_lot, lot_name)\n",
    "                    value_perc_lot, value_frac_lot = self.get_perc(\n",
    "                        not_conforming_lot, inspected_lot\n",
    "                    )\n",
    "\n",
    "                    lot_summary = {\n",
    "                        \"name\": lot_name,\n",
    "                        \"id\": lot,\n",
    "                        \"inspected\": inspected_lot,\n",
    "                        \"not_conforming\": not_conforming_lot,\n",
    "                    }\n",
    "\n",
    "                    lots.append(\n",
    "                        {\n",
    "                            **lot_summary,\n",
    "                            \"value_perc\": value_perc_lot,\n",
    "                            \"value_frac\": value_frac_lot,\n",
    "                            \"roads\": roads,\n",
    "                        }\n",
    "                    )\n",
    "                    grade_lot = (\n",
    "                        self.get_csp_calc(value_perc_lot, indicator_dict)\n",
    "                        if info_by_lot\n",
    "                        else 1\n",
    "                    )\n",
    "                    lots_period.append(\n",
    "                        {\n",
    "                            **lot_summary,\n",
    "                            \"final_part\": grade_lot * weight,\n",
    "                            \"roads\": roads_period,\n",
    "                        }\n",
    "                    )\n",
    "\n",
    "                not_conforming_topic = self.get_not_conforming(lots)\n",
    "\n",
    "                inspected_topic = self.get_inspected(info_by_topic, \"total\")\n",
    "                value_perc_topic, value_frac_topic = self.get_perc(\n",
    "                    not_conforming_topic, inspected_topic\n",
    "                )\n",
    "                grade = (\n",
    "                    self.get_csp_calc(value_perc_topic, indicator_dict)\n",
    "                    if info_by_topic\n",
    "                    else 1\n",
    "                )\n",
    "\n",
    "                indicators.append(\n",
    "                    {\n",
    "                        \"name\": topic,\n",
    "                        \"original_name\": original_name,\n",
    "                        \"inspected\": inspected_topic,\n",
    "                        \"not_conforming\": not_conforming_topic,\n",
    "                        \"value_perc\": value_perc_topic,\n",
    "                        \"value_frac\": value_frac_topic,\n",
    "                        \"grade\": grade,\n",
    "                        \"weight\": weight,\n",
    "                        \"final_part\": grade * weight,\n",
    "                        \"lots\": lots,\n",
    "                    }\n",
    "                )\n",
    "                indicators_period[topic] = lots_period\n",
    "                grades[topic] = weight\n",
    "\n",
    "            period_int = int(period_name.split(\"/\")[0])\n",
    "\n",
    "            if period == \"month\":\n",
    "                csp_total = round(\n",
    "                    sum([item[\"final_part\"] for item in indicators]) * 100, 2\n",
    "                )\n",
    "                self.csp_total_dict[period_int] = csp_total\n",
    "            elif period == \"quarter\":\n",
    "                months = self.translate_quarter[period_int]\n",
    "                sum_csp_total = sum(\n",
    "                    [\n",
    "                        value\n",
    "                        for key, value in self.csp_total_dict.items()\n",
    "                        if key in months\n",
    "                    ]\n",
    "                )\n",
    "                csp_total = round(sum_csp_total / 3, 2)\n",
    "            else:\n",
    "                csp_total = 100\n",
    "\n",
    "            result[period_name] = {\n",
    "                \"csp_total\": csp_total,\n",
    "                \"indicators\": indicators,\n",
    "                \"lots\": self.get_summary(indicators_period, grades),\n",
    "            }\n",
    "\n",
    "        return result"
   ]
  },
  {
   "cell_type": "code",
   "execution_count": null,
   "id": "ae55c89f",
   "metadata": {},
   "outputs": [],
   "source": [
    "csp_endpoint=CspEndpoint(params)"
   ]
  },
  {
   "cell_type": "code",
   "execution_count": null,
   "id": "5736838f",
   "metadata": {},
   "outputs": [],
   "source": [
    "csp_endpoint.get_data()"
   ]
  },
  {
   "cell_type": "code",
   "execution_count": null,
   "id": "ea2ca3a8",
   "metadata": {
    "scrolled": true
   },
   "outputs": [],
   "source": [
    "csp.get_reportings_qs({\"company\":company})"
   ]
  },
  {
   "cell_type": "code",
   "execution_count": null,
   "id": "7042fc70",
   "metadata": {},
   "outputs": [],
   "source": [
    "csp.get_reportings()"
   ]
  },
  {
   "cell_type": "code",
   "execution_count": null,
   "id": "83ff22be",
   "metadata": {},
   "outputs": [],
   "source": [
    "csp.get_filters_inventory()"
   ]
  },
  {
   "cell_type": "code",
   "execution_count": null,
   "id": "17c3daf6",
   "metadata": {},
   "outputs": [],
   "source": []
  },
  {
   "cell_type": "code",
   "execution_count": null,
   "id": "0eb4391a",
   "metadata": {},
   "outputs": [],
   "source": []
  },
  {
   "cell_type": "code",
   "execution_count": null,
   "id": "1f78f83b",
   "metadata": {},
   "outputs": [],
   "source": []
  },
  {
   "cell_type": "code",
   "execution_count": null,
   "id": "3dd292f7",
   "metadata": {},
   "outputs": [],
   "source": [
    "perm_via_lagos = UserPermission.objects.filter(companies__name='ELO Via Lagos')"
   ]
  },
  {
   "cell_type": "code",
   "execution_count": null,
   "id": "d1076fd1",
   "metadata": {},
   "outputs": [],
   "source": [
    "perm_via_lagos"
   ]
  },
  {
   "cell_type": "code",
   "execution_count": null,
   "id": "6c65a638",
   "metadata": {},
   "outputs": [],
   "source": [
    "reps=Reporting.objects.filter(company__name='Arteris Via Paulista')"
   ]
  },
  {
   "cell_type": "code",
   "execution_count": null,
   "id": "5965b783",
   "metadata": {},
   "outputs": [],
   "source": [
    "reps.count()"
   ]
  },
  {
   "cell_type": "code",
   "execution_count": null,
   "id": "f9deb62c",
   "metadata": {},
   "outputs": [],
   "source": [
    "!cat .env"
   ]
  },
  {
   "cell_type": "code",
   "execution_count": null,
   "id": "704d1f5c",
   "metadata": {},
   "outputs": [],
   "source": [
    "for a in reps:\n",
    "    if a.occurrence_type == None:\n",
    "        print(a.number)"
   ]
  },
  {
   "cell_type": "code",
   "execution_count": null,
   "id": "b51081ec",
   "metadata": {},
   "outputs": [],
   "source": [
    "company=Company.objects.get(uuid='097fe80a-4917-4fa1-8207-2de35c113599')"
   ]
  },
  {
   "cell_type": "code",
   "execution_count": null,
   "id": "641bbcd1",
   "metadata": {},
   "outputs": [],
   "source": [
    "for a in company.history.all().order_by('-history_date')[:5]:\n",
    "    print(a.custom_options['reporting']['fields']['lot'],a.history_date)"
   ]
  },
  {
   "cell_type": "code",
   "execution_count": null,
   "id": "a8e87d32",
   "metadata": {},
   "outputs": [],
   "source": [
    "classes=Company.objects.get(uuid='097fe80a-4917-4fa1-8207-2de35c113599').metadata['csp']['topics']['5.1']['rules']['ICRD']['types']"
   ]
  },
  {
   "cell_type": "code",
   "execution_count": null,
   "id": "62c4c212",
   "metadata": {},
   "outputs": [],
   "source": [
    "Reporting.objects.filter(road__isnull=True,\n",
    "                         company__name='Eixo SP',\n",
    "                         found_at__year=2024,\n",
    "                         found_at__month=1,\n",
    "                        occurrence_type__in=classes)"
   ]
  },
  {
   "cell_type": "code",
   "execution_count": null,
   "id": "c6385cb9",
   "metadata": {},
   "outputs": [],
   "source": [
    "Reporting.objects.filter(lot__isnull=True,\n",
    "                         company__name='Eixo SP',\n",
    "                         found_at__year=2024,\n",
    "                         found_at__month=1,\n",
    "                        occurrence_type__in=classes)"
   ]
  },
  {
   "cell_type": "code",
   "execution_count": null,
   "id": "1cf0cf16",
   "metadata": {},
   "outputs": [],
   "source": [
    "road=Road.objects.get(id=873)"
   ]
  },
  {
   "cell_type": "code",
   "execution_count": null,
   "id": "3a316e8f",
   "metadata": {},
   "outputs": [],
   "source": [
    "h_road=road.history.all().order_by('-history_date')"
   ]
  },
  {
   "cell_type": "code",
   "execution_count": null,
   "id": "c4d6ddbf",
   "metadata": {},
   "outputs": [],
   "source": [
    "last=h_road[1]\n",
    "last.marks"
   ]
  },
  {
   "cell_type": "code",
   "execution_count": null,
   "id": "1891363c",
   "metadata": {},
   "outputs": [],
   "source": [
    "h_road[9].marks"
   ]
  },
  {
   "cell_type": "code",
   "execution_count": null,
   "id": "2cf7e1f8",
   "metadata": {},
   "outputs": [],
   "source": [
    "{\"0\": {\"km\": 158.5,\n",
    "  \"key\": 0,\n",
    "  \"index\": 0,\n",
    "  \"point\": {\"type\": \"Point\", \"coordinates\": [-47.3987233, -22.4560252]}},\n",
    " \"1\": {\"km\": 159,\n",
    "  \"key\": 1,\n",
    "  \"index\": 4,\n",
    "  \"point\": {\"type\": \"Point\", \"coordinates\": [-47.39853784, -22.45108286]}},\n",
    " \"2\": {\"km\": 160,\n",
    "  \"key\": 2,\n",
    "  \"index\": 14,\n",
    "  \"point\": {\"type\": \"Point\", \"coordinates\": [-47.39746368, -22.44256309]}},\n",
    " \"3\": {\"km\": 161,\n",
    "  \"key\": 3,\n",
    "  \"index\": 22,\n",
    "  \"point\": {\"type\": \"Point\", \"coordinates\": [-47.39508786, -22.43381005]}},\n",
    " \"4\": {\"km\": 162,\n",
    "  \"key\": 4,\n",
    "  \"index\": 26,\n",
    "  \"point\": {\"type\": \"Point\", \"coordinates\": [-47.39275671, -22.42507181]}},\n",
    " \"5\": {\"km\": 163,\n",
    "  \"key\": 5,\n",
    "  \"index\": 32,\n",
    "  \"point\": {\"type\": \"Point\", \"coordinates\": [-47.39022076, -22.41639041]}},\n",
    " \"6\": {\"km\": 164,\n",
    "  \"key\": 6,\n",
    "  \"index\": 43,\n",
    "  \"point\": {\"type\": \"Point\", \"coordinates\": [-47.38951953, -22.4073788]}},\n",
    " \"7\": {\"km\": 165,\n",
    "  \"key\": 7,\n",
    "  \"index\": 51,\n",
    "  \"point\": {\"type\": \"Point\", \"coordinates\": [-47.3897425, -22.39822253]}},\n",
    " \"8\": {\"km\": 166,\n",
    "  \"key\": 8,\n",
    "  \"index\": 68,\n",
    "  \"point\": {\"type\": \"Point\", \"coordinates\": [-47.3933979, -22.38992643]}},\n",
    " \"9\": {\"km\": 167,\n",
    "  \"key\": 9,\n",
    "  \"index\": 83,\n",
    "  \"point\": {\"type\": \"Point\", \"coordinates\": [-47.3940969, -22.38099231]}},\n",
    " \"10\": {\"km\": 168,\n",
    "  \"key\": 10,\n",
    "  \"index\": 89,\n",
    "  \"point\": {\"type\": \"Point\", \"coordinates\": [-47.39439675, -22.37199202]}},\n",
    " \"11\": {\"km\": 169,\n",
    "  \"key\": 11,\n",
    "  \"index\": 97,\n",
    "  \"point\": {\"type\": \"Point\", \"coordinates\": [-47.39451501, -22.36294149]}},\n",
    " \"12\": {\"km\": 170,\n",
    "  \"key\": 12,\n",
    "  \"index\": 106,\n",
    "  \"point\": {\"type\": \"Point\", \"coordinates\": [-47.39471513, -22.35406888]}},\n",
    " \"13\": {\"km\": 171,\n",
    "  \"key\": 13,\n",
    "  \"index\": 119,\n",
    "  \"point\": {\"type\": \"Point\", \"coordinates\": [-47.39336015, -22.34506584]}},\n",
    " \"14\": {\"km\": 172,\n",
    "  \"key\": 14,\n",
    "  \"index\": 132,\n",
    "  \"point\": {\"type\": \"Point\", \"coordinates\": [-47.390001, -22.3366667]}},\n",
    " \"15\": {\"km\": 173,\n",
    "  \"key\": 15,\n",
    "  \"index\": 146,\n",
    "  \"point\": {\"type\": \"Point\", \"coordinates\": [-47.38921113, -22.3276941]}},\n",
    " \"16\": {\"km\": 174,\n",
    "  \"key\": 16,\n",
    "  \"index\": 154,\n",
    "  \"point\": {\"type\": \"Point\", \"coordinates\": [-47.39014996, -22.31871671]}},\n",
    " \"17\": {\"km\": 175,\n",
    "  \"key\": 17,\n",
    "  \"index\": 161,\n",
    "  \"point\": {\"type\": \"Point\", \"coordinates\": [-47.39104804, -22.30972115]}},\n",
    " \"18\": {\"km\": 176,\n",
    "  \"key\": 18,\n",
    "  \"index\": 166,\n",
    "  \"point\": {\"type\": \"Point\", \"coordinates\": [-47.39196156, -22.3005691]}},\n",
    " \"19\": {\"km\": 177,\n",
    "  \"key\": 19,\n",
    "  \"index\": 167,\n",
    "  \"point\": {\"type\": \"Point\", \"coordinates\": [-47.39286822, -22.29171007]}},\n",
    " \"20\": {\"km\": 178,\n",
    "  \"key\": 20,\n",
    "  \"index\": 174,\n",
    "  \"point\": {\"type\": \"Point\", \"coordinates\": [-47.39310219, -22.2827781]}},\n",
    " \"21\": {\"km\": 179,\n",
    "  \"key\": 21,\n",
    "  \"index\": 178,\n",
    "  \"point\": {\"type\": \"Point\", \"coordinates\": [-47.39195216, -22.27375638]}},\n",
    " \"22\": {\"km\": 180,\n",
    "  \"key\": 22,\n",
    "  \"index\": 181,\n",
    "  \"point\": {\"type\": \"Point\", \"coordinates\": [-47.3907926, -22.26478775]}},\n",
    " \"23\": {\"km\": 181,\n",
    "  \"key\": 23,\n",
    "  \"index\": 188,\n",
    "  \"point\": {\"type\": \"Point\", \"coordinates\": [-47.38963104, -22.25584747]}},\n",
    " \"24\": {\"km\": 182,\n",
    "  \"key\": 24,\n",
    "  \"index\": 197,\n",
    "  \"point\": {\"type\": \"Point\", \"coordinates\": [-47.39008495, -22.24681509]}},\n",
    " \"25\": {\"km\": 183,\n",
    "  \"key\": 25,\n",
    "  \"index\": 202,\n",
    "  \"point\": {\"type\": \"Point\", \"coordinates\": [-47.39065167, -22.23781095]}},\n",
    " \"26\": {\"km\": 184,\n",
    "  \"key\": 26,\n",
    "  \"index\": 208,\n",
    "  \"point\": {\"type\": \"Point\", \"coordinates\": [-47.3912609, -22.22869172]}},\n",
    " \"27\": {\"km\": 185,\n",
    "  \"key\": 27,\n",
    "  \"index\": 218,\n",
    "  \"point\": {\"type\": \"Point\", \"coordinates\": [-47.39212823, -22.21976389]}},\n",
    " \"28\": {\"km\": 186,\n",
    "  \"key\": 28,\n",
    "  \"index\": 223,\n",
    "  \"point\": {\"type\": \"Point\", \"coordinates\": [-47.39386414, -22.21089379]}},\n",
    " \"29\": {\"km\": 187,\n",
    "  \"key\": 29,\n",
    "  \"index\": 227,\n",
    "  \"point\": {\"type\": \"Point\", \"coordinates\": [-47.39547853, -22.20204227]}},\n",
    " \"30\": {\"km\": 188,\n",
    "  \"key\": 30,\n",
    "  \"index\": 232,\n",
    "  \"point\": {\"type\": \"Point\", \"coordinates\": [-47.39717909, -22.19310581]}},\n",
    " \"31\": {\"km\": 189,\n",
    "  \"key\": 31,\n",
    "  \"index\": 239,\n",
    "  \"point\": {\"type\": \"Point\", \"coordinates\": [-47.3982305, -22.18412959]}},\n",
    " \"32\": {\"km\": 190,\n",
    "  \"key\": 32,\n",
    "  \"index\": 246,\n",
    "  \"point\": {\"type\": \"Point\", \"coordinates\": [-47.39873656, -22.17517122]}},\n",
    " \"33\": {\"km\": 191,\n",
    "  \"key\": 33,\n",
    "  \"index\": 252,\n",
    "  \"point\": {\"type\": \"Point\", \"coordinates\": [-47.39924885, -22.16612025]}},\n",
    " \"34\": {\"km\": 192,\n",
    "  \"key\": 34,\n",
    "  \"index\": 254,\n",
    "  \"point\": {\"type\": \"Point\", \"coordinates\": [-47.39985422, -22.15719296]}},\n",
    " \"35\": {\"km\": 193,\n",
    "  \"key\": 35,\n",
    "  \"index\": 265,\n",
    "  \"point\": {\"type\": \"Point\", \"coordinates\": [-47.40234334, -22.14851661]}},\n",
    " \"36\": {\"km\": 194,\n",
    "  \"key\": 36,\n",
    "  \"index\": 273,\n",
    "  \"point\": {\"type\": \"Point\", \"coordinates\": [-47.40639068, -22.14018144]}},\n",
    " \"37\": {\"km\": 195,\n",
    "  \"key\": 37,\n",
    "  \"index\": 280,\n",
    "  \"point\": {\"type\": \"Point\", \"coordinates\": [-47.40933671, -22.13180245]}},\n",
    " \"38\": {\"km\": 196,\n",
    "  \"key\": 38,\n",
    "  \"index\": 284,\n",
    "  \"point\": {\"type\": \"Point\", \"coordinates\": [-47.40995834, -22.12708799]}},\n",
    " \"39\": {\"km\": 197,\n",
    "  \"key\": 39,\n",
    "  \"index\": 286,\n",
    "  \"point\": {\"type\": \"Point\", \"coordinates\": [-47.41173288, -22.11382147]}},\n",
    " \"40\": {\"km\": 198,\n",
    "  \"key\": 40,\n",
    "  \"index\": 294,\n",
    "  \"point\": {\"type\": \"Point\", \"coordinates\": [-47.41352015, -22.10492301]}},\n",
    " \"41\": {\"km\": 199,\n",
    "  \"key\": 41,\n",
    "  \"index\": 302,\n",
    "  \"point\": {\"type\": \"Point\", \"coordinates\": [-47.4163806, -22.09642715]}},\n",
    " \"42\": {\"km\": 200,\n",
    "  \"key\": 42,\n",
    "  \"index\": 305,\n",
    "  \"point\": {\"type\": \"Point\", \"coordinates\": [-47.41930917, -22.08781876]}},\n",
    " \"43\": {\"km\": 201,\n",
    "  \"key\": 43,\n",
    "  \"index\": 312,\n",
    "  \"point\": {\"type\": \"Point\", \"coordinates\": [-47.42182728, -22.07905546]}},\n",
    " \"44\": {\"km\": 202,\n",
    "  \"key\": 44,\n",
    "  \"index\": 319,\n",
    "  \"point\": {\"type\": \"Point\", \"coordinates\": [-47.42431021, -22.0694723]}},\n",
    " \"45\": {\"km\": 203,\n",
    "  \"key\": 45,\n",
    "  \"index\": 320,\n",
    "  \"point\": {\"type\": \"Point\", \"coordinates\": [-47.4262904, -22.06144038]}},\n",
    " \"46\": {\"km\": 204,\n",
    "  \"key\": 46,\n",
    "  \"index\": 321,\n",
    "  \"point\": {\"type\": \"Point\", \"coordinates\": [-47.42862363, -22.05283976]}},\n",
    " \"47\": {\"km\": 205,\n",
    "  \"key\": 47,\n",
    "  \"index\": 326,\n",
    "  \"point\": {\"type\": \"Point\", \"coordinates\": [-47.4306992, -22.04398458]}},\n",
    " \"48\": {\"km\": 206,\n",
    "  \"key\": 48,\n",
    "  \"index\": 332,\n",
    "  \"point\": {\"type\": \"Point\", \"coordinates\": [-47.43294471, -22.03515827]}},\n",
    " \"49\": {\"km\": 207,\n",
    "  \"key\": 49,\n",
    "  \"index\": 340,\n",
    "  \"point\": {\"type\": \"Point\", \"coordinates\": [-47.43587399, -22.02662724]}},\n",
    " \"50\": {\"km\": 208,\n",
    "  \"key\": 50,\n",
    "  \"index\": 346,\n",
    "  \"point\": {\"type\": \"Point\", \"coordinates\": [-47.43894572, -22.01795241]}},\n",
    " \"51\": {\"km\": 209,\n",
    "  \"key\": 51,\n",
    "  \"index\": 353,\n",
    "  \"point\": {\"type\": \"Point\", \"coordinates\": [-47.4417878, -22.00935033]}},\n",
    " \"52\": {\"km\": 210,\n",
    "  \"key\": 52,\n",
    "  \"index\": 355,\n",
    "  \"point\": {\"type\": \"Point\", \"coordinates\": [-47.44474624, -22.00071232]}},\n",
    " \"53\": {\"km\": 211,\n",
    "  \"key\": 53,\n",
    "  \"index\": 367,\n",
    "  \"point\": {\"type\": \"Point\", \"coordinates\": [-47.447718, -21.9920382]}},\n",
    " \"54\": {\"km\": 212,\n",
    "  \"key\": 54,\n",
    "  \"index\": 371,\n",
    "  \"point\": {\"type\": \"Point\", \"coordinates\": [-47.45063741, -21.98347467]}},\n",
    " \"55\": {\"km\": 213,\n",
    "  \"key\": 55,\n",
    "  \"index\": 373,\n",
    "  \"point\": {\"type\": \"Point\",\n",
    "   \"coordinates\": [-47.4535381395831, -21.9748992372629]}},\n",
    " \"56\": {\"km\": 214,\n",
    "  \"key\": 56,\n",
    "  \"index\": 377,\n",
    "  \"point\": {\"type\": \"Point\", \"coordinates\": [-47.45647456, -21.96624574]}},\n",
    " \"57\": {\"km\": 215,\n",
    "  \"key\": 57,\n",
    "  \"index\": 385,\n",
    "  \"point\": {\"type\": \"Point\", \"coordinates\": [-47.45882768, -21.95838909]}},\n",
    " \"58\": {\"km\": 216,\n",
    "  \"key\": 58,\n",
    "  \"index\": 398,\n",
    "  \"point\": {\"type\": \"Point\", \"coordinates\": [-47.46238679, -21.94905215]}},\n",
    " \"59\": {\"km\": 217,\n",
    "  \"key\": 59,\n",
    "  \"index\": 400,\n",
    "  \"point\": {\"type\": \"Point\", \"coordinates\": [-47.46530007, -21.94048045]}},\n",
    " \"60\": {\"km\": 218,\n",
    "  \"key\": 60,\n",
    "  \"index\": 402,\n",
    "  \"point\": {\"type\": \"Point\", \"coordinates\": [-47.46820527, -21.93185828]}},\n",
    " \"61\": {\"km\": 219,\n",
    "  \"key\": 61,\n",
    "  \"index\": 405,\n",
    "  \"point\": {\"type\": \"Point\", \"coordinates\": [-47.47117703, -21.92325705]}},\n",
    " \"62\": {\"km\": 220,\n",
    "  \"key\": 62,\n",
    "  \"index\": 406,\n",
    "  \"point\": {\"type\": \"Point\", \"coordinates\": [-47.47409277, -21.9145962]}},\n",
    " \"63\": {\"km\": 221,\n",
    "  \"key\": 63,\n",
    "  \"index\": 412,\n",
    "  \"point\": {\"type\": \"Point\", \"coordinates\": [-47.47703388, -21.9060453]}},\n",
    " \"64\": {\"km\": 222,\n",
    "  \"key\": 64,\n",
    "  \"index\": 414,\n",
    "  \"point\": {\"type\": \"Point\", \"coordinates\": [-47.47999026, -21.897343]}},\n",
    " \"65\": {\"km\": 223,\n",
    "  \"key\": 65,\n",
    "  \"index\": 415,\n",
    "  \"point\": {\"type\": \"Point\", \"coordinates\": [-47.4828897, -21.88881369]}},\n",
    " \"66\": {\"km\": 224,\n",
    "  \"key\": 66,\n",
    "  \"index\": 417,\n",
    "  \"point\": {\"type\": \"Point\", \"coordinates\": [-47.4857659, -21.88017937]}},\n",
    " \"67\": {\"km\": 225,\n",
    "  \"key\": 67,\n",
    "  \"index\": 421,\n",
    "  \"point\": {\"type\": \"Point\", \"coordinates\": [-47.48870353, -21.87163206]}},\n",
    " \"68\": {\"km\": 226,\n",
    "  \"key\": 68,\n",
    "  \"index\": 431,\n",
    "  \"point\": {\"type\": \"Point\", \"coordinates\": [-47.49168684, -21.86299759]}},\n",
    " \"69\": {\"km\": 227,\n",
    "  \"key\": 69,\n",
    "  \"index\": 440,\n",
    "  \"point\": {\"type\": \"Point\", \"coordinates\": [-47.49456797, -21.85435178]}},\n",
    " \"70\": {\"km\": 228,\n",
    "  \"key\": 70,\n",
    "  \"index\": 451,\n",
    "  \"point\": {\"type\": \"Point\", \"coordinates\": [-47.49498797, -21.84539992]}},\n",
    " \"71\": {\"km\": 229,\n",
    "  \"key\": 71,\n",
    "  \"index\": 461,\n",
    "  \"point\": {\"type\": \"Point\", \"coordinates\": [-47.49511158, -21.83621156]}},\n",
    " \"72\": {\"km\": 230,\n",
    "  \"key\": 72,\n",
    "  \"index\": 466,\n",
    "  \"point\": {\"type\": \"Point\", \"coordinates\": [-47.49521282, -21.82741313]}},\n",
    " \"73\": {\"km\": 231,\n",
    "  \"key\": 73,\n",
    "  \"index\": 477,\n",
    "  \"point\": {\"type\": \"Point\", \"coordinates\": [-47.49637899, -21.81838088]}},\n",
    " \"74\": {\"km\": 232,\n",
    "  \"key\": 74,\n",
    "  \"index\": 488,\n",
    "  \"point\": {\"type\": \"Point\", \"coordinates\": [-47.49986647, -21.8099099]}},\n",
    " \"75\": {\"km\": 233,\n",
    "  \"key\": 75,\n",
    "  \"index\": 497,\n",
    "  \"point\": {\"type\": \"Point\", \"coordinates\": [-47.5051595, -21.80237047]}},\n",
    " \"76\": {\"km\": 234,\n",
    "  \"key\": 76,\n",
    "  \"index\": 503,\n",
    "  \"point\": {\"type\": \"Point\", \"coordinates\": [-47.51219145, -21.7962331]}},\n",
    " \"77\": {\"km\": 235,\n",
    "  \"key\": 77,\n",
    "  \"index\": 509,\n",
    "  \"point\": {\"type\": \"Point\", \"coordinates\": [-47.51971757, -21.79033954]}},\n",
    " \"78\": {\"km\": 236,\n",
    "  \"key\": 78,\n",
    "  \"index\": 512,\n",
    "  \"point\": {\"type\": \"Point\", \"coordinates\": [-47.5269714, -21.78463377]}},\n",
    " \"79\": {\"km\": 237,\n",
    "  \"key\": 79,\n",
    "  \"index\": 514,\n",
    "  \"point\": {\"type\": \"Point\", \"coordinates\": [-47.53442602, -21.77880678]}},\n",
    " \"80\": {\"km\": 238,\n",
    "  \"key\": 80,\n",
    "  \"index\": 521,\n",
    "  \"point\": {\"type\": \"Point\", \"coordinates\": [-47.54186761, -21.7730224]}},\n",
    " \"81\": {\"km\": 239,\n",
    "  \"key\": 81,\n",
    "  \"index\": 525,\n",
    "  \"point\": {\"type\": \"Point\", \"coordinates\": [-47.54928775, -21.76721986]}},\n",
    " \"82\": {\"km\": 240,\n",
    "  \"key\": 82,\n",
    "  \"index\": 530,\n",
    "  \"point\": {\"type\": \"Point\", \"coordinates\": [-47.55670128, -21.76139989]}},\n",
    " \"83\": {\"km\": 240.5,\n",
    "  \"key\": 83,\n",
    "  \"index\": 533,\n",
    "  \"point\": {\"type\": \"Point\", \"coordinates\": [-47.5597351, -21.7590978]}}}"
   ]
  },
  {
   "cell_type": "code",
   "execution_count": null,
   "id": "fc1908ef",
   "metadata": {},
   "outputs": [],
   "source": [
    "rep=Reporting.objects.get(uuid='1d27e575-bb2f-4989-b13c-57383c6d2dc6')"
   ]
  },
  {
   "cell_type": "code",
   "execution_count": null,
   "id": "028ed009",
   "metadata": {},
   "outputs": [],
   "source": [
    "rep.due_at=None\n",
    "rep.save()"
   ]
  },
  {
   "cell_type": "code",
   "execution_count": null,
   "id": "8b7d18c3",
   "metadata": {},
   "outputs": [],
   "source": [
    "Resource._meta.fields"
   ]
  },
  {
   "cell_type": "code",
   "execution_count": null,
   "id": "02e598bd",
   "metadata": {},
   "outputs": [],
   "source": [
    "ProcedureResource._meta.fields"
   ]
  },
  {
   "cell_type": "code",
   "execution_count": null,
   "id": "ca0bc122",
   "metadata": {},
   "outputs": [],
   "source": [
    "ServiceOrderResource._meta.fields"
   ]
  },
  {
   "cell_type": "code",
   "execution_count": null,
   "id": "1b5d9be0",
   "metadata": {},
   "outputs": [],
   "source": [
    "ContractItemUnitPrice._meta.fields"
   ]
  },
  {
   "cell_type": "code",
   "execution_count": null,
   "id": "fe53e271",
   "metadata": {},
   "outputs": [],
   "source": [
    "ContractService._meta.fields"
   ]
  },
  {
   "cell_type": "code",
   "execution_count": null,
   "id": "3dca2da6",
   "metadata": {},
   "outputs": [],
   "source": [
    "company=Company.objects.get(name='Arteris Planalto Sul - Conserva')\n",
    "con=Contract.objects.get(subcompany__company=company,uuid='9132fc4b-3ff1-4554-b425-a1306ca92b67')\n",
    "company,con"
   ]
  },
  {
   "cell_type": "code",
   "execution_count": null,
   "id": "a5563843",
   "metadata": {},
   "outputs": [],
   "source": [
    "ProcedureResource.objects.get(service_order_resource__contract=con,resource__name='Marcador de Alinhamento (MA) - delineador de curva')"
   ]
  },
  {
   "cell_type": "code",
   "execution_count": null,
   "id": "5a13318f",
   "metadata": {},
   "outputs": [],
   "source": [
    "lista=['INT-SIN-Aer-2024.00294',\n",
    "'INT-SIN-Aer-2024.00295',\n",
    "'INT-SIN-Aer-2024.00408',\n",
    "'INT-SIN-Aer-2024.00737',\n",
    "'INT-SIN-Aer-2024.00738',\n",
    "'INT-SIN-Aer-2024.00739',\n",
    "'INT-SIN-Aer-2024.00740',\n",
    "'INT-SIN-Aer-2024.00741',\n",
    "'INT-SIN-Aer-2024.00742',\n",
    "'INT-SIN-Aer-2024.00743',\n",
    "'INT-SIN-Aer-2024.00744',\n",
    "'INT-SIN-Aer-2024.00745',\n",
    "'INT-SIN-Aer-2024.00746',\n",
    "'INT-SIN-Aer-2024.00747',\n",
    "'INT-SIN-Aer-2024.00748',\n",
    "'INT-SIN-Aer-2024.00749',\n",
    "'INT-SIN-Aer-2024.00750',\n",
    "'INT-SIN-Aer-2024.00751',\n",
    "'INT-SIN-Aer-2024.00752',\n",
    "'INT-SIN-Aer-2024.00753',\n",
    "'INT-SIN-Aer-2024.00754',]"
   ]
  },
  {
   "cell_type": "code",
   "execution_count": null,
   "id": "291fa580",
   "metadata": {},
   "outputs": [],
   "source": [
    "for a in lista:\n",
    "    rep=Reporting.objects.get(company__name='Arteris Intervias',number=a)\n",
    "    try:\n",
    "        print(rep.form_data['city'])\n",
    "    except:\n",
    "        print(a)"
   ]
  },
  {
   "cell_type": "code",
   "execution_count": null,
   "id": "768596e7",
   "metadata": {},
   "outputs": [],
   "source": [
    "road=Road.objects.get(id='63')\n",
    "road.lot_logic"
   ]
  },
  {
   "cell_type": "code",
   "execution_count": null,
   "id": "83888166",
   "metadata": {},
   "outputs": [],
   "source": [
    "from json_logic import jsonLogic\n",
    "\n",
    "jsonLogic(road.lot_logic,{'km':378})"
   ]
  },
  {
   "cell_type": "code",
   "execution_count": null,
   "id": "0c9c3af4",
   "metadata": {},
   "outputs": [],
   "source": [
    "from tqdm.notebook import tqdm\n",
    "from json_logic import jsonLogic\n",
    "from helpers.histories import bulk_update_with_history\n",
    "from tqdm.notebook import tqdm"
   ]
  },
  {
   "cell_type": "code",
   "execution_count": null,
   "id": "16c71877",
   "metadata": {},
   "outputs": [],
   "source": [
    "reps=Reporting.objects.filter(company__name='Arteris Via Paulista',\n",
    "                              updated_at__gte='2024-2-19',\n",
    "                              updated_at__lte='2024-2-27').only('lot','road','km')\n",
    "reps.count()"
   ]
  },
  {
   "cell_type": "code",
   "execution_count": null,
   "id": "6d5465a1",
   "metadata": {},
   "outputs": [],
   "source": [
    "rep_edit=[]\n",
    "for a in tqdm(reps):\n",
    "    if a.km and a.road:\n",
    "        a.lot = jsonLogic(a.road.lot_logic,{'km':a.km})\n",
    "        rep_edit.append(a)"
   ]
  },
  {
   "cell_type": "code",
   "execution_count": null,
   "id": "654d5c1c",
   "metadata": {},
   "outputs": [],
   "source": [
    "teste=rep_edit[5000]\n",
    "teste.lot,teste.road,teste.km"
   ]
  },
  {
   "cell_type": "code",
   "execution_count": null,
   "id": "867553c6",
   "metadata": {},
   "outputs": [],
   "source": [
    "user=User.objects.get(username=\"rlcs\")"
   ]
  },
  {
   "cell_type": "code",
   "execution_count": null,
   "id": "b6487a12",
   "metadata": {},
   "outputs": [],
   "source": [
    "apontamentos = bulk_update_with_history(rep_edit,Reporting, use_django_bulk=True,batch_size=1200,user=user)"
   ]
  },
  {
   "cell_type": "code",
   "execution_count": null,
   "id": "295c5543",
   "metadata": {},
   "outputs": [],
   "source": [
    "reps = Reporting.objects.filter(form_data__has_key='inspection_campaign_year')\n",
    "reps.count()"
   ]
  },
  {
   "cell_type": "code",
   "execution_count": null,
   "id": "2a2ccdc3",
   "metadata": {},
   "outputs": [],
   "source": [
    "reps[0]"
   ]
  },
  {
   "cell_type": "code",
   "execution_count": null,
   "id": "0d033d1a",
   "metadata": {},
   "outputs": [],
   "source": [
    "reportings = Reporting.objects.filter(uuid = '1498f52f-e8cf-4b24-b522-52db51f0d906')\n",
    " \n",
    "reportings.count()\n",
    " \n",
    " "
   ]
  },
  {
   "cell_type": "code",
   "execution_count": null,
   "id": "469fb19d",
   "metadata": {},
   "outputs": [],
   "source": [
    "reportings[0].excel_imports.__dict__"
   ]
  },
  {
   "cell_type": "code",
   "execution_count": null,
   "id": "17841346",
   "metadata": {},
   "outputs": [],
   "source": [
    "occ=OccurrenceType.objects.get(uuid='0567675e-a952-4b70-a0e7-f1a38e9e933e')"
   ]
  },
  {
   "cell_type": "code",
   "execution_count": null,
   "id": "dec290ba",
   "metadata": {},
   "outputs": [],
   "source": [
    "for a in occ.history.all().order_by('-history_date')[1:3]:\n",
    "    print(a.history_date,next(field['autofill'] for field in a.form_fields['fields'] if field['apiName'] == 'city'))"
   ]
  },
  {
   "cell_type": "code",
   "execution_count": null,
   "id": "04982bc3",
   "metadata": {},
   "outputs": [],
   "source": [
    "for a in Reporting.objects.get(number='INT-SIN-Aer-2024.00739').history.all().order_by('-history_date'):\n",
    "    print(a.form_metadata['city'])"
   ]
  },
  {
   "cell_type": "code",
   "execution_count": null,
   "id": "0e7c9456",
   "metadata": {},
   "outputs": [],
   "source": [
    "rep=Reporting.objects.get(number='INT-SIN-Aer-2024.00739')\n",
    "excel_import = ExcelImport.objects.get(uuid=rep.excel_imports.first().uuid)"
   ]
  },
  {
   "cell_type": "code",
   "execution_count": null,
   "id": "e3b81587",
   "metadata": {},
   "outputs": [],
   "source": [
    "rep2=Reporting.objects.get(number='INT-SIN-Aer-2024.00294')\n",
    "excel_import = ExcelImport.objects.get(uuid=rep2.excel_imports.first().uuid)"
   ]
  },
  {
   "cell_type": "code",
   "execution_count": null,
   "id": "57e54cbc",
   "metadata": {},
   "outputs": [],
   "source": [
    "import json\n",
    "with excel_import.preview_file.open() as fo:\n",
    "    preview = json.load(fo)"
   ]
  },
  {
   "cell_type": "code",
   "execution_count": null,
   "id": "b16f9c98",
   "metadata": {},
   "outputs": [],
   "source": [
    "preview"
   ]
  },
  {
   "cell_type": "code",
   "execution_count": null,
   "id": "099590c8",
   "metadata": {},
   "outputs": [],
   "source": [
    "notes='13.2 - Reforma de placa - Substituição de fundo tipo III + tipo III de acordo com nova diagramação a ser fornecida pela CONCESSIONÁRIA.'"
   ]
  },
  {
   "cell_type": "code",
   "execution_count": null,
   "id": "1ee396ea",
   "metadata": {},
   "outputs": [],
   "source": [
    "for a in preview['reportings']:\n",
    "    if '27.5' in str(a['km']):\n",
    "        print(a)"
   ]
  },
  {
   "cell_type": "code",
   "execution_count": null,
   "id": "a9f17055",
   "metadata": {},
   "outputs": [],
   "source": [
    "ProcedureResource._meta.fields"
   ]
  },
  {
   "cell_type": "code",
   "execution_count": null,
   "id": "4b869655",
   "metadata": {},
   "outputs": [],
   "source": [
    "ProcedureResource.objects.filter(creation_date__gte='2024-02-01',creation_date__lte='2024-02-29').values('company','creation')"
   ]
  },
  {
   "cell_type": "code",
   "execution_count": null,
   "id": "1bc0d577",
   "metadata": {},
   "outputs": [],
   "source": [
    "from django.db.models import CharField\n",
    "from django.db.models.functions import Length\n",
    "from django.db.models import F"
   ]
  },
  {
   "cell_type": "code",
   "execution_count": null,
   "id": "a911b63c",
   "metadata": {},
   "outputs": [],
   "source": [
    "CharField.register_lookup(Length)"
   ]
  },
  {
   "cell_type": "code",
   "execution_count": null,
   "id": "a75d0c3f",
   "metadata": {},
   "outputs": [],
   "source": [
    "company=Company.objects.order_by(\"name__length\")\n",
    "company"
   ]
  },
  {
   "cell_type": "code",
   "execution_count": null,
   "id": "87f4822a",
   "metadata": {},
   "outputs": [],
   "source": [
    "F(company[0].name)"
   ]
  },
  {
   "cell_type": "code",
   "execution_count": null,
   "id": "123f648c",
   "metadata": {},
   "outputs": [],
   "source": [
    "company[0].__dict__"
   ]
  },
  {
   "cell_type": "code",
   "execution_count": null,
   "id": "55bf512f",
   "metadata": {},
   "outputs": [],
   "source": [
    "Reporting.objects.filter(uuid='86edb367-dc3a-4472-ad0b-4c18717d58a6').delete()"
   ]
  },
  {
   "cell_type": "code",
   "execution_count": null,
   "id": "891a6ada",
   "metadata": {},
   "outputs": [],
   "source": [
    "UserInCompany.objects.filter(company__name='ELO Ecopistas').count()"
   ]
  },
  {
   "cell_type": "code",
   "execution_count": null,
   "id": "17bab3d7",
   "metadata": {},
   "outputs": [],
   "source": [
    "for a in UserInCompany.objects.filter(company__name='ELO Ecopistas'):\n",
    "    try:\n",
    "        recover = a.history.all().order_by('-history_date')[1]\n",
    "        recover.instance.save()\n",
    "    except:\n",
    "        pass\n",
    "#     print(a.history.all().order_by('-history_date')[1])"
   ]
  },
  {
   "cell_type": "code",
   "execution_count": null,
   "id": "e2b2816e",
   "metadata": {},
   "outputs": [],
   "source": [
    "perm=UserPermission.objects.get(uuid='c64d71f3-1b0f-4fc3-924f-356dc185d3c7')\n",
    "perm.companies"
   ]
  },
  {
   "cell_type": "code",
   "execution_count": null,
   "id": "b9b460e4",
   "metadata": {},
   "outputs": [],
   "source": [
    "for a in UserInCompany.objects.filter(company__name='ELO Ecopistas'):\n",
    "    try:\n",
    "        a.permissions.name\n",
    "        pass\n",
    "    except Exception as e:\n",
    "        print(a.user)\n",
    "#         print(a.history.all()[1])\n",
    "#     try:\n",
    "#         p=UserPermission.objects.filter(companies__name='ELO Ecopistas',name=a.permissions.name)\n",
    "#         if p.exists():\n",
    "#             pass\n",
    "#         else:\n",
    "#             print(a.user.username)\n",
    "#     except:\n",
    "#         pass"
   ]
  },
  {
   "cell_type": "code",
   "execution_count": null,
   "id": "8aa30aa3",
   "metadata": {},
   "outputs": [],
   "source": [
    "UserInCompany.objects.filter(company__name='ELO Ecopistas',user__username='rlcs')[0].permissions"
   ]
  },
  {
   "cell_type": "code",
   "execution_count": null,
   "id": "1a2c130e",
   "metadata": {},
   "outputs": [],
   "source": [
    "DailyReportWorker._meta.fields"
   ]
  },
  {
   "cell_type": "code",
   "execution_count": null,
   "id": "2e154a5f",
   "metadata": {},
   "outputs": [],
   "source": [
    "from tqdm.notebook import tqdm\n",
    "from django.db.models import Q"
   ]
  },
  {
   "cell_type": "code",
   "execution_count": null,
   "id": "d2b13976",
   "metadata": {},
   "outputs": [],
   "source": [
    "drw = DailyReportWorker.objects.filter(Q(role__icontains=\"\\\\\") | \n",
    "                                        Q(role__icontains='\"'),firm__name='Lote 2 - Terrapleno',company__name='Arteris Litoral Sul - Conserva')\n",
    "drv = DailyReportVehicle.objects.filter(Q(description__icontains=\"\\\\\") | \n",
    "                                        Q(description__icontains='\"'),\n",
    "                                        multiple_daily_reports__firm__name='Lote 2 - Terrapleno',\n",
    "                                        company__name='Arteris Litoral Sul - Conserva')\n",
    "dre = DailyReportEquipment.objects.filter(Q(description__icontains=\"\\\\\") | \n",
    "                                        Q(description__icontains='\"'),multiple_daily_reports__firm__name='Lote 2 - Terrapleno',\n",
    "                                          company__name='Arteris Litoral Sul - Conserva')"
   ]
  },
  {
   "cell_type": "code",
   "execution_count": null,
   "id": "fe21201e",
   "metadata": {},
   "outputs": [],
   "source": [
    "drw.count(),drv.count(),dre.count()"
   ]
  },
  {
   "cell_type": "code",
   "execution_count": null,
   "id": "e0f567ef",
   "metadata": {
    "scrolled": true
   },
   "outputs": [],
   "source": [
    "rdos=[]\n",
    "for a in tqdm(dre):\n",
    "    if a.description is not None and ('\\\\' in a.description or '\"' in a.description):\n",
    "#         print(a.role)\n",
    "        a.description = str(a.description.replace('\\\\','').replace('\"',''))\n",
    "        a.save()"
   ]
  },
  {
   "cell_type": "code",
   "execution_count": null,
   "id": "be1eaefe",
   "metadata": {},
   "outputs": [],
   "source": [
    "drw.count(),"
   ]
  },
  {
   "cell_type": "code",
   "execution_count": null,
   "id": "1af30f99",
   "metadata": {
    "scrolled": true
   },
   "outputs": [],
   "source": [
    "rdos=[]\n",
    "for a in tqdm(drw):\n",
    "    if a.role is not None and ('\\\\' in a.role or '\"' in a.role):\n",
    "#         print(a.role)\n",
    "        a.role = str(a.role.replace('\\\\','').replace('\"',''))\n",
    "        a.save()\n",
    "        "
   ]
  },
  {
   "cell_type": "code",
   "execution_count": null,
   "id": "5fbe3188",
   "metadata": {},
   "outputs": [],
   "source": [
    "drw.values_list('creation_date',flat=True).order_by('creation_date')"
   ]
  },
  {
   "cell_type": "code",
   "execution_count": null,
   "id": "887b96a5",
   "metadata": {},
   "outputs": [],
   "source": [
    "from helpers.histories import bulk_update_with_history"
   ]
  },
  {
   "cell_type": "code",
   "execution_count": null,
   "id": "41176d48",
   "metadata": {},
   "outputs": [],
   "source": [
    "user=User.objects.get(username=\"rlcs\")"
   ]
  },
  {
   "cell_type": "code",
   "execution_count": null,
   "id": "23bf39b5",
   "metadata": {},
   "outputs": [],
   "source": [
    "apontamentos = bulk_update_with_history(rdos,DailyReportEquipment, use_django_bulk=True,batch_size=3,user=user)"
   ]
  },
  {
   "cell_type": "code",
   "execution_count": null,
   "id": "61a4154e",
   "metadata": {},
   "outputs": [],
   "source": [
    "!pip list"
   ]
  },
  {
   "cell_type": "code",
   "execution_count": null,
   "id": "4d397208",
   "metadata": {},
   "outputs": [],
   "source": [
    "classes=[]\n",
    "for a in OccurrenceType.objects.filter(company__name__icontains='Rota do Oeste'):\n",
    "    for field in a.form_fields['fields']:\n",
    "        if field.get('apiName') == 'density':\n",
    "            print(a.name,field)\n",
    "            classes.append(a)"
   ]
  },
  {
   "cell_type": "code",
   "execution_count": null,
   "id": "4419d15e",
   "metadata": {},
   "outputs": [],
   "source": [
    "for a in Reporting.objects.filter(occurrence_type__in=classes, form_data__density__isnull=False).only('form_data'):\n",
    "    if type(a.form_data['density']) == str:\n",
    "        a.form_data['density'] = float(a.form_data['density'].replace(',','.'))\n",
    "        a.save()\n",
    "#     print(type(a.form_data['density']))"
   ]
  },
  {
   "cell_type": "code",
   "execution_count": null,
   "id": "74936f4b",
   "metadata": {},
   "outputs": [],
   "source": [
    "UserPermission.objects.filter(companies__name=\"Pavicolet (Amapá)\",name=\"Coordenador\")"
   ]
  },
  {
   "cell_type": "code",
   "execution_count": null,
   "id": "25d143c7",
   "metadata": {},
   "outputs": [],
   "source": [
    "for a in UserPermission.objects.filter(companies__name=\"APG Engenharia\",name=\"Encarregado\"):\n",
    "    a.uuid = None\n",
    "    a.name=a.name+' Teste Replicar'\n",
    "    a.save()\n",
    "    a.companies.clear()\n",
    "    a.companies.add(*Company.objects.filter(name='Demo Concessionárias'))\n",
    "    \n"
   ]
  },
  {
   "cell_type": "code",
   "execution_count": null,
   "id": "a0282998",
   "metadata": {},
   "outputs": [],
   "source": [
    "a.delete()"
   ]
  },
  {
   "cell_type": "code",
   "execution_count": null,
   "id": "c26395f6",
   "metadata": {},
   "outputs": [],
   "source": [
    "a"
   ]
  },
  {
   "cell_type": "code",
   "execution_count": null,
   "id": "209dac53",
   "metadata": {},
   "outputs": [],
   "source": [
    "Company.objects.filter(name='Demo Concessionárias')"
   ]
  },
  {
   "cell_type": "code",
   "execution_count": null,
   "id": "4f02f6f0",
   "metadata": {},
   "outputs": [],
   "source": [
    "Contract._meta.fields"
   ]
  },
  {
   "cell_type": "code",
   "execution_count": null,
   "id": "de619d2f",
   "metadata": {},
   "outputs": [],
   "source": [
    "MeasurementBulletin._meta.fields"
   ]
  },
  {
   "cell_type": "code",
   "execution_count": null,
   "id": "f16305ca",
   "metadata": {},
   "outputs": [],
   "source": [
    "MeasurementBulletin.objects.get(number='AFD-BM-2023.38',\n",
    "                                contract__extra_info__icontains='CW32579').bulletin_workers.history.all().order_by('-history_date')"
   ]
  },
  {
   "cell_type": "code",
   "execution_count": null,
   "id": "af745fd2",
   "metadata": {},
   "outputs": [],
   "source": [
    "MeasurementBulletin.objects.get(number='AFD-BM-2023.38',\n",
    "                                contract__extra_info__icontains='CW32579').bulletin_equipments.update(measurement_bulletin=None)"
   ]
  },
  {
   "cell_type": "code",
   "execution_count": null,
   "id": "257d4ba1",
   "metadata": {},
   "outputs": [],
   "source": [
    "MeasurementBulletin.objects.get(number='AFD-BM-2023.38',\n",
    "                                contract__extra_info__icontains='CW32579').bulletin_vehicles.update(measurement_bulletin=None)"
   ]
  },
  {
   "cell_type": "code",
   "execution_count": null,
   "id": "56f7a747",
   "metadata": {},
   "outputs": [],
   "source": [
    "MeasurementBulletin.history.filter(number='AFD-BM-2023.37').order_by('-history_date')[1].instance.save()"
   ]
  },
  {
   "cell_type": "code",
   "execution_count": null,
   "id": "136de2ed",
   "metadata": {},
   "outputs": [],
   "source": [
    "MeasurementBulletin.history.filter(number='AFD-BM-2023.37').order_by('-history_date').first().creation_date"
   ]
  },
  {
   "cell_type": "code",
   "execution_count": null,
   "id": "8ce7900c",
   "metadata": {},
   "outputs": [],
   "source": [
    "MeasurementBulletin.history.filter(number='AFD-BM-2023.33',\n",
    "                                contract__extra_info__icontains='CW32496').order_by('-history_date')[1].instance.save()"
   ]
  },
  {
   "cell_type": "code",
   "execution_count": null,
   "id": "562ef9af",
   "metadata": {},
   "outputs": [],
   "source": [
    "MeasurementBulletin.history.filter(number='AFD-BM-2023.34',\n",
    "                                contract__extra_info__icontains='CW32496').order_by('-history_date')[1].instance.save()"
   ]
  },
  {
   "cell_type": "code",
   "execution_count": null,
   "id": "e432315f",
   "metadata": {},
   "outputs": [],
   "source": []
  },
  {
   "cell_type": "code",
   "execution_count": null,
   "id": "9025b967",
   "metadata": {},
   "outputs": [],
   "source": [
    "teste=[]\n",
    "for a in MeasurementBulletin.objects.filter(number='AFD-BM-2023.38',\n",
    "                                contract__extra_info__icontains='CW32579'\n",
    "                                        ):\n",
    "    for b in DailyReportWorker.history.filter(measurement_bulletin=a).order_by('-history_date'):\n",
    "        if b.measurement_bulletin == None:\n",
    "            print(b.history_type)\n",
    "    "
   ]
  },
  {
   "cell_type": "code",
   "execution_count": null,
   "id": "6f152e05",
   "metadata": {},
   "outputs": [],
   "source": []
  },
  {
   "cell_type": "code",
   "execution_count": null,
   "id": "5650f4df",
   "metadata": {},
   "outputs": [],
   "source": [
    "parent_inventory='ENT-IT-2023.01016'\n",
    "inspecao = 'ENT-INS-2023.01936'"
   ]
  },
  {
   "cell_type": "code",
   "execution_count": null,
   "id": "1f03553a",
   "metadata": {},
   "outputs": [],
   "source": [
    "Job.objects.filter(reportings__occurrence_type__name='Tratamento de fissuras',\n",
    "#                    reportings__parent__number=parent_inventory,\n",
    "                   company__name='Entrevias SISOAE')"
   ]
  },
  {
   "cell_type": "code",
   "execution_count": null,
   "id": "906ad9ac",
   "metadata": {},
   "outputs": [],
   "source": [
    "Company.objects.get(uuid='5d15be63-830d-493b-b1f1-cc0ef849b45d')"
   ]
  },
  {
   "cell_type": "code",
   "execution_count": null,
   "id": "45a43926",
   "metadata": {},
   "outputs": [],
   "source": [
    "Reporting.objects.get(number='LCMItu-Dre-2024.00020').editable"
   ]
  },
  {
   "cell_type": "code",
   "execution_count": null,
   "id": "eabede70",
   "metadata": {},
   "outputs": [],
   "source": [
    "MultipleDailyReport.objects.get(number='moderaOAE-RDO-2024.00002').__dict__"
   ]
  },
  {
   "cell_type": "code",
   "execution_count": null,
   "id": "09b90f81",
   "metadata": {},
   "outputs": [],
   "source": [
    "ActionLog._meta.fields"
   ]
  },
  {
   "cell_type": "code",
   "execution_count": null,
   "id": "ae22be9b",
   "metadata": {},
   "outputs": [],
   "source": [
    "Reporting.objects.last().point.y"
   ]
  },
  {
   "cell_type": "code",
   "execution_count": null,
   "id": "1529f98d",
   "metadata": {},
   "outputs": [],
   "source": [
    "from helpers.apps.record_filter import create_keywords"
   ]
  },
  {
   "cell_type": "code",
   "execution_count": null,
   "id": "e756bfa4",
   "metadata": {},
   "outputs": [],
   "source": [
    "reps=Reporting.objects.filter(company__name='Arteris Via Paulista - SISOAE', keywords='')\n",
    "reps.count()"
   ]
  },
  {
   "cell_type": "code",
   "execution_count": null,
   "id": "81be3221",
   "metadata": {},
   "outputs": [],
   "source": [
    "rep_edit=[]\n",
    "for a in reps:\n",
    "    a.keywords = create_keywords(a.form_data,a.occurrence_type)\n",
    "    rep_edit.append(a)"
   ]
  },
  {
   "cell_type": "code",
   "execution_count": null,
   "id": "e76c1847",
   "metadata": {},
   "outputs": [],
   "source": [
    "rep_edit[1000].keywords"
   ]
  },
  {
   "cell_type": "code",
   "execution_count": null,
   "id": "704ab7aa",
   "metadata": {},
   "outputs": [],
   "source": [
    "from helpers.histories import bulk_update_with_history"
   ]
  },
  {
   "cell_type": "code",
   "execution_count": null,
   "id": "d76ed111",
   "metadata": {},
   "outputs": [],
   "source": [
    "user=User.objects.get(username=\"rlcs\")"
   ]
  },
  {
   "cell_type": "code",
   "execution_count": null,
   "id": "0c48bc57",
   "metadata": {},
   "outputs": [],
   "source": [
    "apontamentos = bulk_update_with_history(rep_edit,Reporting, use_django_bulk=True,batch_size=1200,user=user)"
   ]
  },
  {
   "cell_type": "code",
   "execution_count": null,
   "id": "48fa14d2",
   "metadata": {},
   "outputs": [],
   "source": [
    "rep=Reporting.objects.get(uuid='99f2fd21-4a34-4f66-aa24-330588ec8735')\n",
    "inspection = Reporting.objects.get(uuid='9475093a-2751-4ddf-81b8-319fd41caa48')\n",
    "rep,inspection"
   ]
  },
  {
   "cell_type": "code",
   "execution_count": null,
   "id": "4615ffcf",
   "metadata": {},
   "outputs": [],
   "source": [
    "Job.objects.filter(uuid='3df0fd22-13cb-48b5-9967-c24a25e70f12').update(inspection=inspection)"
   ]
  },
  {
   "cell_type": "code",
   "execution_count": null,
   "id": "28927c98",
   "metadata": {},
   "outputs": [],
   "source": [
    "reps1=Reporting.objects.filter(company__name='Eixo SP',\n",
    "                               created_at__gte='2024-02-01',\n",
    "                               created_at__lte='2024-02-29').order_by('-created_at')"
   ]
  },
  {
   "cell_type": "code",
   "execution_count": null,
   "id": "82d49555",
   "metadata": {},
   "outputs": [],
   "source": [
    "reps1.last().created_at"
   ]
  },
  {
   "cell_type": "code",
   "execution_count": null,
   "id": "cffdf146",
   "metadata": {},
   "outputs": [],
   "source": [
    "reps1.first().created_at"
   ]
  },
  {
   "cell_type": "code",
   "execution_count": null,
   "id": "87d5e33c",
   "metadata": {},
   "outputs": [],
   "source": [
    "reps=Reporting.objects.filter(company__name='Eixo SP',\n",
    "                              created_at__year=2024,\n",
    "                              created_at__month=2).order_by('-created_at')"
   ]
  },
  {
   "cell_type": "code",
   "execution_count": null,
   "id": "8c19ca53",
   "metadata": {},
   "outputs": [],
   "source": [
    "reps.last().created_at"
   ]
  },
  {
   "cell_type": "code",
   "execution_count": null,
   "id": "7ee704e7",
   "metadata": {},
   "outputs": [],
   "source": [
    "reps.first().created_at"
   ]
  },
  {
   "cell_type": "code",
   "execution_count": null,
   "id": "d21db4d4",
   "metadata": {},
   "outputs": [],
   "source": [
    "reportings = Reporting.objects.filter(occurrence_type__name='Sinalização Vertical',\n",
    "                                     company__name='Caminhos da Serra Gaúcha',\n",
    "                                     created_at__gte='2024-03-21')\n",
    "reportings.count()"
   ]
  },
  {
   "cell_type": "code",
   "execution_count": null,
   "id": "69b6cd2e",
   "metadata": {},
   "outputs": [],
   "source": [
    "for a in reportings:\n",
    "    if 'monitoringId' in a.form_data.keys():\n",
    "        a.form_data['monitoring_id'] = a.form_data.pop('monitoringId')\n",
    "        print(a.form_data['monitoring_id'])"
   ]
  },
  {
   "cell_type": "code",
   "execution_count": null,
   "id": "6f33ae09",
   "metadata": {},
   "outputs": [],
   "source": [
    "rep_files=ReportingFile.objects.values('reporting__company__name').annotate(qtd_fotos=Count('uuid')).order_by('-qtd_fotos')"
   ]
  },
  {
   "cell_type": "code",
   "execution_count": null,
   "id": "cf4c1158",
   "metadata": {},
   "outputs": [],
   "source": [
    "for a in rep_files[:10]:\n",
    "    print(f\"{a['reporting__company__name']}: {a['qtd_fotos']}\")"
   ]
  },
  {
   "cell_type": "code",
   "execution_count": null,
   "id": "891df4cf",
   "metadata": {},
   "outputs": [],
   "source": [
    "ReportingFile.objects.filter(reporting__company__name='ELO Rodovias Tietê').values('reporting__company__name').annotate(qtd_fotos=Count('uuid')).order_by('-qtd_fotos')"
   ]
  },
  {
   "cell_type": "code",
   "execution_count": null,
   "id": "0d2e86ba",
   "metadata": {},
   "outputs": [],
   "source": [
    "rep_reps=ReportingFile.objects.values('reporting__number','reporting__company__name').annotate(qtd_fotos=Count('uuid')).order_by('-qtd_fotos')"
   ]
  },
  {
   "cell_type": "code",
   "execution_count": null,
   "id": "ea8716c4",
   "metadata": {},
   "outputs": [],
   "source": [
    "rep_reps"
   ]
  },
  {
   "cell_type": "code",
   "execution_count": null,
   "id": "3eee2e17",
   "metadata": {},
   "outputs": [],
   "source": [
    "for a in rep_reps[:20]:\n",
    "    print(f\"{a['reporting__company__name']}: Apontamento: {a['reporting__number']} | Imagens: {a['qtd_fotos']}\")"
   ]
  },
  {
   "cell_type": "code",
   "execution_count": null,
   "id": "a2c1436b",
   "metadata": {},
   "outputs": [],
   "source": [
    "reps_inspecao=Reporting.objects.filter(occurrence_type__name='Inspeção Especial',\n",
    "                        company__name='Entrevias SISOAE')\n",
    "reps_inspecao.count()"
   ]
  },
  {
   "cell_type": "code",
   "execution_count": null,
   "id": "f2559a85",
   "metadata": {},
   "outputs": [],
   "source": [
    "numbers=[]\n",
    "for a in reps_inspecao:\n",
    "    if a.form_data.get('therapy'):\n",
    "        for terapia in a.form_data.get('therapy'):\n",
    "            reps = Reporting.objects.filter(form_data__artesp_service = a.form_data.get('artesp_service'),\n",
    "                                        occurrence_type__uuid=terapia.get('occurrence_type'),\n",
    "                                        company__name='Entrevias SISOAE')\n",
    "            for rep in reps:\n",
    "#                 if rep.form_data.get('description') is None or rep.form_data.get('description') == '':\n",
    "#                     rep.form_data['description'] = terapia.get('description')\n",
    "#                     teste=rep.form_data.pop('rep.formData')\n",
    "                if rep.form_data.get('rep.formData'):\n",
    "                    del rep.form_data['rep.formData']\n",
    "                    rep.save()\n",
    "                    print(rep.number,rep.form_data.get('rep.form_data'),terapia.get('description'))\n",
    "                    numbers.append(rep.number)\n"
   ]
  },
  {
   "cell_type": "code",
   "execution_count": null,
   "id": "441e3ae3",
   "metadata": {},
   "outputs": [],
   "source": [
    "reps_inspecao[0].form_data"
   ]
  },
  {
   "cell_type": "code",
   "execution_count": null,
   "id": "c1c2396a",
   "metadata": {},
   "outputs": [],
   "source": [
    "Reporting.objects.filter(form_data__description = 'Metodologia para reparos superficiais com argamassa de reparo',\n",
    "                                        company__name='Entrevias SISOAE',\n",
    "                                        created_at__year=2024)"
   ]
  },
  {
   "cell_type": "code",
   "execution_count": null,
   "id": "312788c2",
   "metadata": {},
   "outputs": [],
   "source": [
    "rep=Reporting.objects.get(uuid='5ab82c82-c30d-4a9b-8ee1-8c3edb6318b8')"
   ]
  },
  {
   "cell_type": "code",
   "execution_count": null,
   "id": "f8c0dfb0",
   "metadata": {},
   "outputs": [],
   "source": [
    "rep.form_data['treatment_images'] = rep.form_data.pop('images')\n",
    "rep.save()"
   ]
  },
  {
   "cell_type": "code",
   "execution_count": null,
   "id": "f911af9d",
   "metadata": {},
   "outputs": [],
   "source": [
    "ReportingFile._meta.fields"
   ]
  },
  {
   "cell_type": "code",
   "execution_count": null,
   "id": "54768ec1",
   "metadata": {},
   "outputs": [],
   "source": [
    "rep=Reporting.objects.get(number='Modera-PFSR-2024.00194')\n",
    "rep.form_data"
   ]
  },
  {
   "cell_type": "code",
   "execution_count": null,
   "id": "1a199043",
   "metadata": {},
   "outputs": [],
   "source": [
    "rep.form_data['notes'] = rep.form_data['observacoes']\n",
    "rep.save()"
   ]
  },
  {
   "cell_type": "code",
   "execution_count": null,
   "id": "e45d4198",
   "metadata": {},
   "outputs": [],
   "source": [
    "for occ in OccurrenceType.objects.filter(company__name='Modera - Consórcio ME2'):\n",
    "    for a in occ.form_fields['fields']:\n",
    "        if 'Observações' in a['displayName'] and a['apiName'] != 'notes':\n",
    "            a['apiName'] = 'notes'\n",
    "            occ.save()\n",
    "#             print(occ.name,a['apiName'])"
   ]
  },
  {
   "cell_type": "code",
   "execution_count": null,
   "id": "20e069eb",
   "metadata": {},
   "outputs": [],
   "source": [
    "Reporting.objects.filter(company__name='Modera - Consórcio ME2',form_data__has_key='observacoes').count()"
   ]
  },
  {
   "cell_type": "code",
   "execution_count": null,
   "id": "a7d00dff",
   "metadata": {},
   "outputs": [],
   "source": [
    "for a in Reporting.objects.filter(company__name='Modera - Consórcio ME2',form_data__has_key='observacoes'):\n",
    "    a.form_data['notes'] = a.form_data['observacoes']\n",
    "    a.save()"
   ]
  },
  {
   "cell_type": "code",
   "execution_count": null,
   "id": "6b429b75",
   "metadata": {},
   "outputs": [],
   "source": [
    "rep_files=ReportingFile.objects.exclude(reporting__occurrence_type__occurrence_kind='2').values('reporting__company__name').annotate(qtd_fotos=Count('uuid')).order_by('-qtd_fotos')"
   ]
  },
  {
   "cell_type": "code",
   "execution_count": null,
   "id": "2ccab418",
   "metadata": {},
   "outputs": [],
   "source": [
    "print('Apontamentos')\n",
    "for a in rep_files[:10]:\n",
    "    print(f\"{a['reporting__company__name']}: {a['qtd_fotos']}\")"
   ]
  },
  {
   "cell_type": "code",
   "execution_count": null,
   "id": "c58b235a",
   "metadata": {},
   "outputs": [],
   "source": [
    "rep_files_inventory=ReportingFile.objects.filter(reporting__occurrence_type__occurrence_kind='2').values('reporting__company__name').annotate(qtd_fotos=Count('uuid')).order_by('-qtd_fotos')"
   ]
  },
  {
   "cell_type": "code",
   "execution_count": null,
   "id": "1a10f0f5",
   "metadata": {},
   "outputs": [],
   "source": [
    "print('Inventário')\n",
    "for a in rep_files_inventory[:10]:\n",
    "    print(f\"{a['reporting__company__name']}: {a['qtd_fotos']}\")"
   ]
  },
  {
   "cell_type": "code",
   "execution_count": null,
   "id": "b67fae96",
   "metadata": {},
   "outputs": [],
   "source": [
    "mdr_file=MultipleDailyReportFile.objects.values('multiple_daily_report__company__name').annotate(qtd_fotos=Count('uuid')).order_by('-qtd_fotos')"
   ]
  },
  {
   "cell_type": "code",
   "execution_count": null,
   "id": "05c206ac",
   "metadata": {},
   "outputs": [],
   "source": [
    "print('RDO')\n",
    "for a in mdr_file[:10]:\n",
    "    print(f\"{a['multiple_daily_report__company__name']}: {a['qtd_fotos']}\")"
   ]
  },
  {
   "cell_type": "code",
   "execution_count": null,
   "id": "8ff1aa01",
   "metadata": {},
   "outputs": [],
   "source": [
    "MultipleDailyReportFile._meta.fields"
   ]
  },
  {
   "cell_type": "code",
   "execution_count": null,
   "id": "a711ac52",
   "metadata": {},
   "outputs": [],
   "source": [
    "for a in UserPermission.objects.all():\n",
    "    if a.permissions.get('PDFImport'):\n",
    "        print(a.permissions.get('PDFImport'),a.name)\n",
    "        print(a.companies.all())"
   ]
  },
  {
   "cell_type": "code",
   "execution_count": null,
   "id": "f2e4e438",
   "metadata": {},
   "outputs": [],
   "source": [
    "aps = ApprovalStep.objects.get(approval_flow__company__name='Nova Rota do Oeste - Obras', name='Em Revisão')\n",
    "aps"
   ]
  },
  {
   "cell_type": "code",
   "execution_count": null,
   "id": "b3f9fe7c",
   "metadata": {},
   "outputs": [],
   "source": [
    "apontamentos=['ROO-OAM-2024.00189',\n",
    "'ROO-OAM-2024.00087',\n",
    "'ROO-OAM-2024.00082',\n",
    "'ROO-OAM-2024.00081',\n",
    "'ROO-OAM-2024.00102',\n",
    "'ROO-OAM-2024.00089',\n",
    "'ROO-OAM-2024.00099',\n",
    "'ROO-OAM-2024.00187',\n",
    "'ROO-OAM-2024.00215',\n",
    "'ROO-OAM-2024.00222',\n",
    "'ROO-OAM-2024.00088']\n",
    "len(apontamentos)"
   ]
  },
  {
   "cell_type": "code",
   "execution_count": null,
   "id": "fd991670",
   "metadata": {},
   "outputs": [],
   "source": [
    "for a in Reporting.objects.filter(number__in=apontamentos,company__name='Nova Rota do Oeste - Obras'):\n",
    "    print(a.approval_step)"
   ]
  },
  {
   "cell_type": "code",
   "execution_count": null,
   "id": "c33da13a",
   "metadata": {},
   "outputs": [],
   "source": [
    "ProcedureResource._meta.fields"
   ]
  },
  {
   "cell_type": "code",
   "execution_count": null,
   "id": "716bd67e",
   "metadata": {},
   "outputs": [],
   "source": [
    "reps=['APS-2024.00728',\n",
    "'APS-2024.00631',\n",
    "'APS-2024.00630',\n",
    "'APS-2024.00641']"
   ]
  },
  {
   "cell_type": "code",
   "execution_count": null,
   "id": "d117f0e7",
   "metadata": {},
   "outputs": [],
   "source": [
    "for a in ProcedureResource.objects.filter(reporting__in=Reporting.objects.filter(number__in=reps)):\n",
    "#     a.approval_status = 'WAITING_APPROVAL'\n",
    "#     a.save()\n",
    "    a.measurement_bulletin = None\n",
    "    a.save()\n",
    "    print(a.approval_status,a.resource.name,a.measurement_bulletin)"
   ]
  },
  {
   "cell_type": "code",
   "execution_count": null,
   "id": "b3e667e9",
   "metadata": {},
   "outputs": [],
   "source": [
    "a.resource.name"
   ]
  },
  {
   "cell_type": "code",
   "execution_count": null,
   "id": "3b29af9b",
   "metadata": {},
   "outputs": [],
   "source": [
    "company=Company.objects.get(name='Arteris Planalto Sul - Conserva')"
   ]
  },
  {
   "cell_type": "code",
   "execution_count": null,
   "id": "7aae9a86",
   "metadata": {},
   "outputs": [],
   "source": [
    "aps=ApprovalStep.objects.get(approval_flow__company=company,\n",
    "                         approval_flow__target_model__icontains='reporting',\n",
    "                         name__icontains='Elabo')"
   ]
  },
  {
   "cell_type": "code",
   "execution_count": null,
   "id": "c13e962a",
   "metadata": {
    "scrolled": true
   },
   "outputs": [],
   "source": [
    "Reporting.objects.filter(number__in=reps).values('approval_step__name','editable')"
   ]
  },
  {
   "cell_type": "code",
   "execution_count": null,
   "id": "9965cbdf",
   "metadata": {},
   "outputs": [],
   "source": [
    "FieldSurveyExport._meta.fields"
   ]
  },
  {
   "cell_type": "code",
   "execution_count": null,
   "id": "13a7ffc1",
   "metadata": {},
   "outputs": [],
   "source": [
    "FieldSurveyExport.objects.get(field_survey__uuid='0b80b9dc-94b2-4510-91bd-9fc063d1c352')"
   ]
  },
  {
   "cell_type": "code",
   "execution_count": null,
   "id": "02d2af2b",
   "metadata": {},
   "outputs": [],
   "source": [
    "from django.db.models import Case, Value, When, Q\n",
    "companies_data=Company.objects.filter(active=True).values('name').annotate(\n",
    "     inv=Count(\"reporting\",filter=Q(reporting__occurrence_type__occurrence_kind=2)),\n",
    "     rep=Count(\"reporting\",filter=~Q(reporting__occurrence_type__occurrence_kind=2))\n",
    "#      mdr=Count(\"company_multipledailyreports\")\n",
    ")"
   ]
  },
  {
   "cell_type": "code",
   "execution_count": null,
   "id": "60d28310",
   "metadata": {},
   "outputs": [],
   "source": [
    "dados=[]\n",
    "for a in companies_data:\n",
    "    mdr=Company.objects.filter(name=a['name']).annotate(mdr=Count(\"company_multipledailyreports\")).values_list('mdr',flat=True)[0]\n",
    "    a['mdr'] = mdr\n",
    "    dados.append(a)\n"
   ]
  },
  {
   "cell_type": "code",
   "execution_count": null,
   "id": "ed33477b",
   "metadata": {},
   "outputs": [],
   "source": [
    "import pandas as pd\n",
    "df= pd.DataFrame(data=dados)"
   ]
  },
  {
   "cell_type": "code",
   "execution_count": null,
   "id": "a36795bf",
   "metadata": {},
   "outputs": [],
   "source": [
    "df.to_excel('dadosUnidades.xlsx')"
   ]
  },
  {
   "cell_type": "code",
   "execution_count": null,
   "id": "c43e5f27",
   "metadata": {},
   "outputs": [],
   "source": [
    "companies_to_fix=[]\n",
    "for a in Company.objects.all():\n",
    "    teste=False\n",
    "    if a.custom_options:\n",
    "        if a.custom_options.get('dailyReportWorker'):\n",
    "            if a.custom_options.get('dailyReportWorker').get('fields').get('role').get('displayName') != \"Função\":\n",
    "                teste=True\n",
    "                a.custom_options['dailyReportWorker']['fields']['role']['displayName'] = 'Função'\n",
    "        if a.custom_options.get('dailyReportVehicle'):\n",
    "            if a.custom_options.get('dailyReportVehicle').get('fields').get('description').get('displayName') != \"Descrição\":\n",
    "                teste=True\n",
    "                a.custom_options['dailyReportVehicle']['fields']['description']['displayName'] = 'Descrição'\n",
    "        if a.custom_options.get('dailyReportEquipment'):\n",
    "            if a.custom_options.get('dailyReportEquipment').get('fields').get('description').get('displayName') != \"Descrição\":\n",
    "                teste=True\n",
    "                a.custom_options['dailyReportEquipment']['fields']['description']['displayName'] = 'Descrição'\n",
    "        if a.custom_options.get('dailyReportOccurrence'):\n",
    "            if a.custom_options.get('dailyReportOccurrence').get('fields').get('description'):\n",
    "                if a.custom_options.get('dailyReportOccurrence').get('fields').get('description').get('displayName') != \"Descrição\":\n",
    "                    teste=True\n",
    "                    a.custom_options['dailyReportOccurrence']['fields']['description']['displayName'] = 'Descrição'\n",
    "        if teste:\n",
    "            companies_to_fix.append(a)"
   ]
  },
  {
   "cell_type": "code",
   "execution_count": null,
   "id": "97bf292f",
   "metadata": {
    "scrolled": true
   },
   "outputs": [],
   "source": [
    "len(companies_to_fix),[a.name for a in companies_to_fix]"
   ]
  },
  {
   "cell_type": "code",
   "execution_count": null,
   "id": "c1716661",
   "metadata": {},
   "outputs": [],
   "source": [
    "from tqdm.notebook import tqdm\n",
    "for a in tqdm(companies_to_fix):\n",
    "    a.save()"
   ]
  },
  {
   "cell_type": "code",
   "execution_count": null,
   "id": "5465ecdc",
   "metadata": {},
   "outputs": [],
   "source": [
    "companies_to_fix[0].save()"
   ]
  },
  {
   "cell_type": "code",
   "execution_count": null,
   "id": "11d6d752",
   "metadata": {},
   "outputs": [],
   "source": [
    "for a in ApprovalStep.objects.all():\n",
    "    if a.field_options != {}:\n",
    "        print(a.approval_flow.company.name,a.name,a.field_options)"
   ]
  },
  {
   "cell_type": "code",
   "execution_count": null,
   "id": "faefa6e7",
   "metadata": {},
   "outputs": [],
   "source": [
    "ApprovalTransition._meta.fields"
   ]
  },
  {
   "cell_type": "code",
   "execution_count": null,
   "id": "6409309c",
   "metadata": {},
   "outputs": [],
   "source": [
    "ApprovalTransition.objects.first().condition"
   ]
  },
  {
   "cell_type": "code",
   "execution_count": null,
   "id": "b09b92d2",
   "metadata": {},
   "outputs": [],
   "source": [
    "import json"
   ]
  },
  {
   "cell_type": "code",
   "execution_count": null,
   "id": "95e2335d",
   "metadata": {},
   "outputs": [],
   "source": [
    "for a in Company.objects.all().only('name','custom_options'):\n",
    "    teste=None\n",
    "    try:\n",
    "        teste = json.dumps(a.custom_options.get('reporting').get('exporter').get('extraColumns'))\n",
    "    except:\n",
    "        pass\n",
    "    else:\n",
    "        if '.0.' in teste and '.1.' in teste:\n",
    "            print(a.name)"
   ]
  },
  {
   "cell_type": "code",
   "execution_count": null,
   "id": "35f34801",
   "metadata": {},
   "outputs": [],
   "source": [
    "SubCompany._meta.fields"
   ]
  },
  {
   "cell_type": "code",
   "execution_count": null,
   "id": "4645d2b0",
   "metadata": {},
   "outputs": [],
   "source": []
  },
  {
   "cell_type": "code",
   "execution_count": null,
   "id": "35e8357a",
   "metadata": {},
   "outputs": [],
   "source": [
    "import pandas as pd\n",
    "var={}\n",
    "for a in SubCompany.objects.filter(\n",
    "    subcompany_type='HIRED').exclude(company__name__icontains='demo').values('company__name','name'):\n",
    "    if a['company__name'] not in var:\n",
    "        var[a['company__name']] = []\n",
    "    var[a['company__name']].append(a['name'])\n",
    "df = pd.DataFrame.from_dict(var,orient='index')\n",
    "df.to_excel('TerceirasUnidades.xlsx')"
   ]
  },
  {
   "cell_type": "code",
   "execution_count": null,
   "id": "a5a54499",
   "metadata": {},
   "outputs": [],
   "source": [
    "ProcedureResource.objects.filter(service_order_resource__contract__extra_info__r_c_number='CW34690',\n",
    "                                 service_order_resource__contract__subcompany__company__name='Arteris Planalto Sul - Conserva',\n",
    "                                resource__name='Marcador de Perigo (MP)').count()"
   ]
  },
  {
   "cell_type": "code",
   "execution_count": null,
   "id": "9fae718f",
   "metadata": {},
   "outputs": [],
   "source": [
    "ProcedureResource._meta.fields"
   ]
  },
  {
   "cell_type": "code",
   "execution_count": null,
   "id": "35e10374",
   "metadata": {},
   "outputs": [],
   "source": [
    "ServiceOrderResource._meta.fields"
   ]
  },
  {
   "cell_type": "code",
   "execution_count": null,
   "id": "0ceafbd2",
   "metadata": {},
   "outputs": [],
   "source": [
    "Contract._meta.fields,Contract.objects.first().extra_info"
   ]
  },
  {
   "cell_type": "code",
   "execution_count": null,
   "id": "032300da",
   "metadata": {},
   "outputs": [],
   "source": [
    "testes=['Eixo troncal',\n",
    "'Interligações',\n",
    "'Acessos',\n",
    "'Vicinais',\n",
    "'Ramos',\n",
    "'Rotatórias',\n",
    "'Marginais',\n",
    "'Acostamentos',\n",
    "'Ciclovia',\n",
    "'Túnel',\n",
    "'Passagem Superior',\n",
    "'Passagem Inferior',]"
   ]
  },
  {
   "cell_type": "code",
   "execution_count": null,
   "id": "4a9b659a",
   "metadata": {},
   "outputs": [],
   "source": [
    "data=[]\n",
    "for a in testes:\n",
    "    occ = OccurrenceType.objects.filter(name__icontains=a)\n",
    "    companies =[b.company.name for b in occ] if any(b.company.name for b in occ) else ''\n",
    "    if occ.exists():\n",
    "        print(companies if companies != '' else 'Sem Empresa atribuida',[b.name for b in occ])\n",
    "        data.append((companies if companies != '' else 'Sem Empresa atribuida',[b.name for b in occ]))"
   ]
  },
  {
   "cell_type": "code",
   "execution_count": null,
   "id": "79d46c49",
   "metadata": {},
   "outputs": [],
   "source": [
    "import pandas as pd\n",
    "df=pd.DataFrame(data=data,columns=['Unidade','Classes'])"
   ]
  },
  {
   "cell_type": "code",
   "execution_count": null,
   "id": "07487cf0",
   "metadata": {},
   "outputs": [],
   "source": [
    "df.to_excel('classes.xlsx')"
   ]
  },
  {
   "cell_type": "code",
   "execution_count": null,
   "id": "d8038865",
   "metadata": {},
   "outputs": [],
   "source": [
    "ApprovalFlow.objects.all().distinct('target_model').order_by('target_model').values('name')"
   ]
  },
  {
   "cell_type": "code",
   "execution_count": null,
   "id": "795959d9",
   "metadata": {},
   "outputs": [],
   "source": [
    "Job.objects.get(uuid='242a5a26-8cf5-492c-b997-3a14072c8253').reportings.values_list('occurrence_type__name')"
   ]
  },
  {
   "cell_type": "code",
   "execution_count": null,
   "id": "7fc689aa",
   "metadata": {},
   "outputs": [],
   "source": [
    "Job.objects.last().__dict__"
   ]
  },
  {
   "cell_type": "markdown",
   "id": "57e71b44",
   "metadata": {},
   "source": [
    "# RecordPanel"
   ]
  },
  {
   "cell_type": "code",
   "execution_count": 7,
   "id": "37fa00b2",
   "metadata": {},
   "outputs": [],
   "source": [
    "data2=list(RecordPanel.objects.all().exclude(\n",
    "    Q(company__name__icontains='demo')|\n",
    "    Q(company__name__icontains='teste')|\n",
    "    Q(company__name__icontains='old')|\n",
    "    Q(company__name__icontains='UHE')\n",
    ").values_list('company__name',flat=True).distinct('company__name').order_by('company__name'))"
   ]
  },
  {
   "cell_type": "code",
   "execution_count": 5,
   "id": "474de01c",
   "metadata": {},
   "outputs": [
    {
     "data": {
      "text/html": [
       "<div>\n",
       "<style scoped>\n",
       "    .dataframe tbody tr th:only-of-type {\n",
       "        vertical-align: middle;\n",
       "    }\n",
       "\n",
       "    .dataframe tbody tr th {\n",
       "        vertical-align: top;\n",
       "    }\n",
       "\n",
       "    .dataframe thead th {\n",
       "        text-align: right;\n",
       "    }\n",
       "</style>\n",
       "<table border=\"1\" class=\"dataframe\">\n",
       "  <thead>\n",
       "    <tr style=\"text-align: right;\">\n",
       "      <th></th>\n",
       "      <th>Unidades</th>\n",
       "    </tr>\n",
       "  </thead>\n",
       "  <tbody>\n",
       "    <tr>\n",
       "      <th>0</th>\n",
       "      <td>Arteris Fernão Dias - Conserva</td>\n",
       "    </tr>\n",
       "    <tr>\n",
       "      <th>1</th>\n",
       "      <td>Arteris Fluminense - Conserva</td>\n",
       "    </tr>\n",
       "    <tr>\n",
       "      <th>2</th>\n",
       "      <td>Arteris Intervias</td>\n",
       "    </tr>\n",
       "    <tr>\n",
       "      <th>3</th>\n",
       "      <td>Arteris Litoral Sul - Conserva</td>\n",
       "    </tr>\n",
       "    <tr>\n",
       "      <th>4</th>\n",
       "      <td>Arteris Régis Bittencourt</td>\n",
       "    </tr>\n",
       "    <tr>\n",
       "      <th>5</th>\n",
       "      <td>Arteris Via Paulista</td>\n",
       "    </tr>\n",
       "    <tr>\n",
       "      <th>6</th>\n",
       "      <td>CAJ</td>\n",
       "    </tr>\n",
       "    <tr>\n",
       "      <th>7</th>\n",
       "      <td>CART</td>\n",
       "    </tr>\n",
       "    <tr>\n",
       "      <th>8</th>\n",
       "      <td>CCR - Rio Sp</td>\n",
       "    </tr>\n",
       "    <tr>\n",
       "      <th>9</th>\n",
       "      <td>Construtora Castilho</td>\n",
       "    </tr>\n",
       "    <tr>\n",
       "      <th>10</th>\n",
       "      <td>Construtora Castilho (Ferrovias)</td>\n",
       "    </tr>\n",
       "    <tr>\n",
       "      <th>11</th>\n",
       "      <td>Construtora Castilho (Grupo Pátria)</td>\n",
       "    </tr>\n",
       "    <tr>\n",
       "      <th>12</th>\n",
       "      <td>Construtora Castilho (Prefeitura Curitiba)</td>\n",
       "    </tr>\n",
       "    <tr>\n",
       "      <th>13</th>\n",
       "      <td>Eixo SP</td>\n",
       "    </tr>\n",
       "    <tr>\n",
       "      <th>14</th>\n",
       "      <td>Eixo SP - Fx. Dom. | Qualidade | Topografia</td>\n",
       "    </tr>\n",
       "    <tr>\n",
       "      <th>15</th>\n",
       "      <td>ELO Ecovias dos Imigrantes</td>\n",
       "    </tr>\n",
       "    <tr>\n",
       "      <th>16</th>\n",
       "      <td>Entrevias</td>\n",
       "    </tr>\n",
       "    <tr>\n",
       "      <th>17</th>\n",
       "      <td>LCM - Criciúma</td>\n",
       "    </tr>\n",
       "    <tr>\n",
       "      <th>18</th>\n",
       "      <td>LCM - Gaspar</td>\n",
       "    </tr>\n",
       "    <tr>\n",
       "      <th>19</th>\n",
       "      <td>LCM - Ituporanga</td>\n",
       "    </tr>\n",
       "    <tr>\n",
       "      <th>20</th>\n",
       "      <td>Nova Rota do Oeste - Obras</td>\n",
       "    </tr>\n",
       "    <tr>\n",
       "      <th>21</th>\n",
       "      <td>Rota do Oeste - Obras</td>\n",
       "    </tr>\n",
       "    <tr>\n",
       "      <th>22</th>\n",
       "      <td>Sinalizavia (Municípios)</td>\n",
       "    </tr>\n",
       "    <tr>\n",
       "      <th>23</th>\n",
       "      <td>Via Araucária</td>\n",
       "    </tr>\n",
       "    <tr>\n",
       "      <th>24</th>\n",
       "      <td>Via Brasil</td>\n",
       "    </tr>\n",
       "  </tbody>\n",
       "</table>\n",
       "</div>"
      ],
      "text/plain": [
       "                                       Unidades\n",
       "0                Arteris Fernão Dias - Conserva\n",
       "1                 Arteris Fluminense - Conserva\n",
       "2                             Arteris Intervias\n",
       "3                Arteris Litoral Sul - Conserva\n",
       "4                     Arteris Régis Bittencourt\n",
       "5                          Arteris Via Paulista\n",
       "6                                           CAJ\n",
       "7                                          CART\n",
       "8                                  CCR - Rio Sp\n",
       "9                          Construtora Castilho\n",
       "10             Construtora Castilho (Ferrovias)\n",
       "11          Construtora Castilho (Grupo Pátria)\n",
       "12   Construtora Castilho (Prefeitura Curitiba)\n",
       "13                                      Eixo SP\n",
       "14  Eixo SP - Fx. Dom. | Qualidade | Topografia\n",
       "15                   ELO Ecovias dos Imigrantes\n",
       "16                                    Entrevias\n",
       "17                               LCM - Criciúma\n",
       "18                                 LCM - Gaspar\n",
       "19                             LCM - Ituporanga\n",
       "20                   Nova Rota do Oeste - Obras\n",
       "21                        Rota do Oeste - Obras\n",
       "22                     Sinalizavia (Municípios)\n",
       "23                                Via Araucária\n",
       "24                                   Via Brasil"
      ]
     },
     "execution_count": 5,
     "metadata": {},
     "output_type": "execute_result"
    }
   ],
   "source": [
    "import pandas as pd\n",
    "df = pd.DataFrame(data=data2,columns=['Unidades'])\n",
    "df"
   ]
  },
  {
   "cell_type": "code",
   "execution_count": null,
   "id": "669962a3",
   "metadata": {},
   "outputs": [],
   "source": [
    "df.to_excel('unidadesRecordPanel.xlsx')"
   ]
  },
  {
   "cell_type": "code",
   "execution_count": null,
   "id": "1dcbb597",
   "metadata": {
    "scrolled": true
   },
   "outputs": [],
   "source": [
    "from django.db.models import Q\n",
    "data=list(UserPermission.objects.filter(permissions__has_key='RecordPanel',companies__active=True).exclude(\n",
    "    Q(companies__name__icontains='demo')|\n",
    "    Q(companies__name__icontains='teste')|\n",
    "    Q(companies__name__icontains='old')|\n",
    "    Q(companies__name__icontains='UHE')\n",
    ").values_list('companies__name',flat=True).distinct('companies__name').order_by('companies__name'))"
   ]
  },
  {
   "cell_type": "code",
   "execution_count": null,
   "id": "6d729fa1",
   "metadata": {},
   "outputs": [],
   "source": [
    "import pandas as pd\n",
    "df = pd.DataFrame(data=data,columns=['Unidades'])"
   ]
  },
  {
   "cell_type": "code",
   "execution_count": null,
   "id": "ca741882",
   "metadata": {},
   "outputs": [],
   "source": [
    "df.to_excel('unidadesRecordPanel.xlsx')"
   ]
  },
  {
   "cell_type": "code",
   "execution_count": 14,
   "id": "f40744ce",
   "metadata": {},
   "outputs": [],
   "source": [
    "data3=RecordPanel.objects.all().exclude(\n",
    "    Q(company__name__icontains='demo')|\n",
    "    Q(company__name__icontains='teste')|\n",
    "    Q(company__name__icontains='old')|\n",
    "    Q(company__name__icontains='UHE')\n",
    ").values('company__name','name').order_by('company__name')"
   ]
  },
  {
   "cell_type": "code",
   "execution_count": 15,
   "id": "98c62a7b",
   "metadata": {},
   "outputs": [
    {
     "data": {
      "text/plain": [
       "<QuerySet [{'company__name': 'Arteris Fernão Dias - Conserva', 'name': 'Multifuncional II'}, {'company__name': 'Arteris Fluminense - Conserva', 'name': 'Josiane Garcia'}, {'company__name': 'Arteris Intervias', 'name': 'SINISTRO'}, {'company__name': 'Arteris Intervias', 'name': 'KCOR'}, {'company__name': 'Arteris Litoral Sul - Conserva', 'name': 'Teste Atualização de Painel'}, {'company__name': 'Arteris Litoral Sul - Conserva', 'name': 'teste SelectMultiple'}, {'company__name': 'Arteris Régis Bittencourt', 'name': 'Lote 2 - Pavimento'}, {'company__name': 'Arteris Via Paulista', 'name': 'Sinalização'}, {'company__name': 'CAJ', 'name': 'Avaliações'}, {'company__name': 'CART', 'name': 'Parciais Fev24'}, {'company__name': 'CART', 'name': 'FR5 DATEC - 2º Ciclo (Retomada)'}, {'company__name': 'CART', 'name': 'Patrulha - 2º Ciclo (Retomada)'}, {'company__name': 'CART', 'name': 'teste SUporte'}, {'company__name': 'CART', 'name': 'Lista - 2º Ciclo (Retomada)'}, {'company__name': 'CART', 'name': 'FRAM KAPA - 2º Ciclo (Retomada)'}, {'company__name': 'CART', 'name': 'Unitécnica OAES'}, {'company__name': 'CART', 'name': 'Obra km 444'}, {'company__name': 'CART', 'name': 'MFMR Lote A - 2º Ciclo (Retomada)'}, {'company__name': 'CART', 'name': 'Renove OAEs'}, {'company__name': 'CART', 'name': 'FR5 KAPA - 2º Ciclo (Retomada)'}, '...(remaining elements truncated)...']>"
      ]
     },
     "execution_count": 15,
     "metadata": {},
     "output_type": "execute_result"
    }
   ],
   "source": [
    "data3"
   ]
  },
  {
   "cell_type": "code",
   "execution_count": 18,
   "id": "0dbeb323",
   "metadata": {},
   "outputs": [],
   "source": [
    "df2= pd.DataFrame(data=data3,columns=['company__name',\"name\"])"
   ]
  },
  {
   "cell_type": "code",
   "execution_count": 23,
   "id": "ea6463f5",
   "metadata": {},
   "outputs": [],
   "source": [
    "df4=df2.groupby('company__name')[\"name\"].count()"
   ]
  },
  {
   "cell_type": "code",
   "execution_count": 24,
   "id": "3123568f",
   "metadata": {},
   "outputs": [
    {
     "data": {
      "text/plain": [
       "company__name\n",
       "Arteris Fernão Dias - Conserva                  1\n",
       "Arteris Fluminense - Conserva                   1\n",
       "Arteris Intervias                               2\n",
       "Arteris Litoral Sul - Conserva                  2\n",
       "Arteris Régis Bittencourt                       1\n",
       "Arteris Via Paulista                            1\n",
       "CAJ                                             1\n",
       "CART                                           20\n",
       "CCR - Rio Sp                                   10\n",
       "Construtora Castilho                           15\n",
       "Construtora Castilho (Ferrovias)               13\n",
       "Construtora Castilho (Grupo Pátria)             8\n",
       "Construtora Castilho (Prefeitura Curitiba)     13\n",
       "ELO Ecovias dos Imigrantes                      6\n",
       "Eixo SP                                        13\n",
       "Eixo SP - Fx. Dom. | Qualidade | Topografia     5\n",
       "Entrevias                                       7\n",
       "LCM - Criciúma                                  2\n",
       "LCM - Gaspar                                    2\n",
       "LCM - Ituporanga                                1\n",
       "Nova Rota do Oeste - Obras                      1\n",
       "Rota do Oeste - Obras                           1\n",
       "Sinalizavia (Municípios)                        1\n",
       "Via Araucária                                   3\n",
       "Via Brasil                                      1\n",
       "Name: name, dtype: int64"
      ]
     },
     "execution_count": 24,
     "metadata": {},
     "output_type": "execute_result"
    }
   ],
   "source": [
    "df4"
   ]
  },
  {
   "cell_type": "code",
   "execution_count": 27,
   "id": "823fb3d2",
   "metadata": {},
   "outputs": [],
   "source": [
    "writer = pd.ExcelWriter('unidadesRecordPanel.xlsx', engine='xlsxwriter')"
   ]
  },
  {
   "cell_type": "code",
   "execution_count": 28,
   "id": "26fd4bfe",
   "metadata": {},
   "outputs": [],
   "source": [
    "df2.to_excel(writer, sheet_name='Unidades-RecordPanelName')\n",
    "df4.to_excel(writer, sheet_name='Total Por Unidade')"
   ]
  },
  {
   "cell_type": "code",
   "execution_count": 30,
   "id": "4ecda3c6",
   "metadata": {},
   "outputs": [],
   "source": [
    "writer.close()"
   ]
  },
  {
   "cell_type": "code",
   "execution_count": 26,
   "id": "e0dc37c5",
   "metadata": {},
   "outputs": [
    {
     "name": "stdout",
     "output_type": "stream",
     "text": [
      "Collecting xlsxwriter\n",
      "  Downloading XlsxWriter-3.2.0-py3-none-any.whl.metadata (2.6 kB)\n",
      "Downloading XlsxWriter-3.2.0-py3-none-any.whl (159 kB)\n",
      "\u001b[2K   \u001b[90m━━━━━━━━━━━━━━━━━━━━━━━━━━━━━━━━━━━━━━━━\u001b[0m \u001b[32m159.9/159.9 kB\u001b[0m \u001b[31m3.1 MB/s\u001b[0m eta \u001b[36m0:00:00\u001b[0m \u001b[36m0:00:01\u001b[0m\n",
      "\u001b[?25hInstalling collected packages: xlsxwriter\n",
      "Successfully installed xlsxwriter-3.2.0\n"
     ]
    }
   ],
   "source": [
    "!poetry run pip install xlsxwriter"
   ]
  },
  {
   "cell_type": "code",
   "execution_count": null,
   "id": "626e29d6",
   "metadata": {},
   "outputs": [],
   "source": [
    "for a in Reporting.history.filter(number='CFer-Las-2024.00015'):\n",
    "    print([c['width'] for c in a.form_data['produtividade'] if c.get('width')])\n",
    "    print([d['height'] for d in a.form_data['produtividade'] if d.get('height')])\n",
    "    print([e['length'] for e in a.form_data['produtividade'] if e.get('height')])\n",
    "    print([b['volume'] for b in a.form_data['produtividade'] if b.get('volume')])"
   ]
  },
  {
   "cell_type": "code",
   "execution_count": null,
   "id": "d8e11230",
   "metadata": {},
   "outputs": [],
   "source": [
    "[b['volume'] for b in a.form_data['produtividade'] if b.get('volume')]"
   ]
  },
  {
   "cell_type": "code",
   "execution_count": null,
   "id": "c9a85f20",
   "metadata": {},
   "outputs": [],
   "source": [
    "for a in a.occurrence_type.history.all():\n",
    "    for b in a.form_fields['fields']:\n",
    "        if b['dataType'] == 'arrayOfObjects':\n",
    "            for inner in b['innerFields']:\n",
    "                if inner['apiName'] == 'volume':\n",
    "                    print(inner['autofill'])\n",
    "                    print(inner['disableIf'])"
   ]
  },
  {
   "cell_type": "code",
   "execution_count": null,
   "id": "af0a1362",
   "metadata": {},
   "outputs": [],
   "source": [
    "Reporting.objects.get(number='CFer-Las-2024.00015').excel_imports.all()"
   ]
  },
  {
   "cell_type": "code",
   "execution_count": null,
   "id": "af27799e",
   "metadata": {},
   "outputs": [],
   "source": [
    "for a in ApprovalTransition.objects.filter(origin__approval_flow__company__name='Arteris Litoral Sul - Conserva'):\n",
    "    print(a)"
   ]
  },
  {
   "cell_type": "code",
   "execution_count": null,
   "id": "05936832",
   "metadata": {},
   "outputs": [],
   "source": [
    "rep=Reporting.objects.get(uuid='76b15c4b-1f45-496b-8778-aab5d9a06ac7')\n",
    "rep.number,rep.__dict__"
   ]
  },
  {
   "cell_type": "code",
   "execution_count": null,
   "id": "13921b0b",
   "metadata": {},
   "outputs": [],
   "source": [
    "rep.status.__dict__"
   ]
  },
  {
   "cell_type": "code",
   "execution_count": null,
   "id": "dfe6e690",
   "metadata": {},
   "outputs": [],
   "source": [
    "rep.approval_step"
   ]
  },
  {
   "cell_type": "code",
   "execution_count": null,
   "id": "c6e7fef8",
   "metadata": {},
   "outputs": [],
   "source": [
    "rep.editable"
   ]
  },
  {
   "cell_type": "code",
   "execution_count": null,
   "id": "588cc815",
   "metadata": {},
   "outputs": [],
   "source": []
  },
  {
   "cell_type": "code",
   "execution_count": null,
   "id": "2143c6a9",
   "metadata": {},
   "outputs": [],
   "source": [
    "Reporting.objects.first().__dict__"
   ]
  },
  {
   "cell_type": "code",
   "execution_count": null,
   "id": "e1c597b5",
   "metadata": {},
   "outputs": [],
   "source": [
    "UserInCompany._meta.fields"
   ]
  },
  {
   "cell_type": "code",
   "execution_count": null,
   "id": "2125817d",
   "metadata": {},
   "outputs": [],
   "source": [
    "for a in UserInCompany.history.filter(company__name='Arteris Via Paulista'):\n",
    "    print(a.is_active,a.history_date,a.user.get_full_name())"
   ]
  },
  {
   "cell_type": "code",
   "execution_count": null,
   "id": "95b4997a",
   "metadata": {},
   "outputs": [],
   "source": [
    "!cat .env"
   ]
  },
  {
   "cell_type": "code",
   "execution_count": null,
   "id": "aedf548c",
   "metadata": {},
   "outputs": [],
   "source": [
    "!echo $DB_HOST"
   ]
  },
  {
   "cell_type": "code",
   "execution_count": null,
   "id": "3c50dc3a",
   "metadata": {},
   "outputs": [],
   "source": [
    "OccurrenceType.objects.raw('SELECT * FROM occurrence_tyep WHERE LEN_FUNC_NAME(name) > 7')"
   ]
  },
  {
   "cell_type": "code",
   "execution_count": null,
   "id": "8829d811",
   "metadata": {},
   "outputs": [],
   "source": [
    "OccurrenceType.objects.filter(name__iregex=r'^.{150,}$')"
   ]
  },
  {
   "cell_type": "code",
   "execution_count": null,
   "id": "649b569c",
   "metadata": {},
   "outputs": [],
   "source": [
    "from django.db.models.functions import Length\n",
    "qs = OccurrenceType.objects.annotate(text_len=Length('name')).filter(text_len__gte=200)\n",
    "qs"
   ]
  },
  {
   "cell_type": "code",
   "execution_count": null,
   "id": "3fe4a81f",
   "metadata": {},
   "outputs": [],
   "source": [
    "[{\"name\":\"OBRA \"+str(a),\"value\":str(i)} for i,a in enumerate(range(1,33,1),start=1)]"
   ]
  },
  {
   "cell_type": "code",
   "execution_count": null,
   "id": "832e702d",
   "metadata": {},
   "outputs": [],
   "source": [
    "lote=[{\"name\": \"OBRA 1\", \"value\": \"1\"},\n",
    " {\"name\": \"OBRA 2\", \"value\": \"2\"},\n",
    " {\"name\": \"OBRA 3\", \"value\": \"3\"},\n",
    " {\"name\": \"OBRA 4\", \"value\": \"4\"},\n",
    " {\"name\": \"OBRA 5\", \"value\": \"5\"},\n",
    " {\"name\": \"OBRA 6\", \"value\": \"6\"},\n",
    " {\"name\": \"OBRA 7\", \"value\": \"7\"},\n",
    " {\"name\": \"OBRA 8\", \"value\": \"8\"},\n",
    " {\"name\": \"OBRA 9\", \"value\": \"9\"},\n",
    " {\"name\": \"OBRA 10\", \"value\": \"10\"},\n",
    " {\"name\": \"OBRA 11\", \"value\": \"11\"},\n",
    " {\"name\": \"OBRA 12\", \"value\": \"12\"},\n",
    " {\"name\": \"OBRA 13\", \"value\": \"13\"},\n",
    " {\"name\": \"OBRA 14\", \"value\": \"14\"},\n",
    " {\"name\": \"OBRA 15\", \"value\": \"15\"},\n",
    " {\"name\": \"OBRA 16\", \"value\": \"16\"},\n",
    " {\"name\": \"OBRA 17\", \"value\": \"17\"},\n",
    " {\"name\": \"OBRA 18\", \"value\": \"18\"},\n",
    " {\"name\": \"OBRA 19\", \"value\": \"19\"},\n",
    " {\"name\": \"OBRA 20\", \"value\": \"20\"},\n",
    " {\"name\": \"OBRA 21\", \"value\": \"21\"},\n",
    " {\"name\": \"OBRA 22\", \"value\": \"22\"},\n",
    " {\"name\": \"OBRA 23\", \"value\": \"23\"},\n",
    " {\"name\": \"OBRA 24\", \"value\": \"24\"},\n",
    " {\"name\": \"OBRA 25\", \"value\": \"25\"},\n",
    " {\"name\": \"OBRA 26\", \"value\": \"26\"},\n",
    " {\"name\": \"OBRA 27\", \"value\": \"27\"},\n",
    " {\"name\": \"OBRA 28\", \"value\": \"28\"},\n",
    " {\"name\": \"OBRA 29\", \"value\": \"29\"},\n",
    " {\"name\": \"OBRA 30\", \"value\": \"30\"},\n",
    " {\"name\": \"OBRA 31\", \"value\": \"31\"},\n",
    " {\"name\": \"OBRA 32\", \"value\": \"32\"}]"
   ]
  },
  {
   "cell_type": "code",
   "execution_count": null,
   "id": "6b9a8e7d",
   "metadata": {},
   "outputs": [],
   "source": [
    "kms=[{\"lote\":'OBRA 26',\"km\":'362.270'},\n",
    "{\"lote\":'OBRA 29',\"km\":'365.061'},\n",
    "{\"lote\":'OBRA 27',\"km\":'368.700'},\n",
    "{\"lote\":'OBRA 11',\"km\":'369.700'},\n",
    "{\"lote\":'OBRA 15',\"km\":'394.000'},\n",
    "{\"lote\":'OBRA 24',\"km\":'400.000'},\n",
    "{\"lote\":'OBRA 25',\"km\":'407.000'},\n",
    "{\"lote\":'OBRA 4',\"km\":'410.560'},\n",
    "{\"lote\":'OBRA 5',\"km\":'410.580'},\n",
    "{\"lote\":'OBRA 28',\"km\":'411.130'},\n",
    "{\"lote\":'OBRA 16',\"km\":'411.200'},\n",
    "{\"lote\":'OBRA 6',\"km\":'413.000'},\n",
    "{\"lote\":'OBRA 17',\"km\":'413.600'},\n",
    "{\"lote\":'OBRA 12',\"km\":'414.000'},\n",
    "{\"lote\":'OBRA 18',\"km\":'414.040'},\n",
    "{\"lote\":'OBRA 10',\"km\":'416.750'},\n",
    "{\"lote\":'OBRA 19',\"km\":'422.430'},\n",
    "{\"lote\":'OBRA 3',\"km\":'423.000'},\n",
    "{\"lote\":'OBRA 22',\"km\":'425.700'},\n",
    "{\"lote\":'OBRA 20',\"km\":'427.600'},\n",
    "{\"lote\":'OBRA 21',\"km\":'432.300'},\n",
    "]"
   ]
  },
  {
   "cell_type": "code",
   "execution_count": null,
   "id": "5984bfa1",
   "metadata": {},
   "outputs": [],
   "source": [
    "data=[]\n",
    "for a in kms:\n",
    "    data.append(({\n",
    "      \"and\": [\n",
    "        {\n",
    "          \"!==\": [\n",
    "            {\n",
    "              \"var\": \"data.km\"\n",
    "            },\n",
    "            None\n",
    "          ]\n",
    "        },\n",
    "        {\n",
    "          \">=\": [\n",
    "            {\n",
    "              \"var\": \"data.km\"\n",
    "            },\n",
    "            a['km']\n",
    "          ]\n",
    "        },\n",
    "        {\n",
    "          \"<=\": [\n",
    "            {\n",
    "              \"var\": \"data.km\"\n",
    "            },\n",
    "            a['km']\n",
    "          ]\n",
    "        }\n",
    "      ]\n",
    "    },\n",
    "    next(b['value'] for b in lote if a['lote'] == b['name'])))"
   ]
  },
  {
   "cell_type": "code",
   "execution_count": null,
   "id": "25a22e75",
   "metadata": {},
   "outputs": [],
   "source": [
    "data"
   ]
  },
  {
   "cell_type": "code",
   "execution_count": null,
   "id": "7aea19c5",
   "metadata": {},
   "outputs": [],
   "source": [
    "road_companies = [\"Arteris Fernão Dias\", \n",
    "                  \"Arteris Fernão Dias - Conserva\", \n",
    "                  \"Arteris Fluminense\", \n",
    "                  \"Arteris Fluminense - Conserva\", \n",
    "                  \"Arteris Intervias\", \n",
    "                  \"Arteris Litoral Sul\", \n",
    "                  \"Arteris Litoral Sul - Faixa de Domínio\", \n",
    "                  \"Arteris Litoral Sul - Conserva\", \n",
    "                  \"Arteris Planalto Sul\", \n",
    "                  \"Arteris Planalto Sul - Conserva\", \n",
    "                  \"Arteris Planalto Sul - Faixa de Domínio\", \n",
    "                  \"Arteris Régis Bittencourt\", \n",
    "                  \"Arteris Régis Bittencourt - Conserva\", \n",
    "                  \"Arteris Régis Bittencourt - Faixa de Domínio\", \n",
    "                  \"Arteris Via Paulista\", \n",
    "                  \"Arteris Via Paulista - Faixa de Domínio\", \n",
    "                  \"Arteris Via Paulista - SISOAE\", \n",
    "                  \"Arteris Via Paulista - SISOBRAS/SISQUALI\", \n",
    "                  \"CAJ\", \n",
    "                  \"CART\", \n",
    "                  \"CCR - Rio Sp\", \n",
    "                  \"Construtora Castilho\", \n",
    "                  \"Dalba Foz do Iguaçu\", \n",
    "                  \"Eixo SP\", \"Eixo SP - Fx. Dom. | Qualidade | Topografia\", \n",
    "                  \"Eixo Sp - Pavimento\", \n",
    "                  \"Eixo SP - SISOAE\", \"ELO AutoBAn\", \n",
    "                  \"ELO EcoNoroeste\", \n",
    "                  \"ELO Rodoanel\", \n",
    "                  \"ELO SPVias\", \n",
    "                  \"ELO Via Lagos\", \n",
    "                  \"ELO Via Oeste\", \n",
    "                  \"Engie Umburanas\", \n",
    "                  \"Entrevias\", \n",
    "                  \"Minasul\", \n",
    "                  \"Modera - Consórcio ME2\", \n",
    "                  \"Nova Rota do Oeste - Obras\", \n",
    "                  \"Pavicolet (Amapá)\", \n",
    "                  \"Pavicolet (Amazonas)\", \n",
    "                  \"Radar SA\", \n",
    "                  \"Radar SA Concessões\", \n",
    "                  \"Rota do Oeste\", \n",
    "                  \"Sinalizavia (Municípios)\", \n",
    "                  \"Sinaliza Via (Rodovias)\", \n",
    "                  \"Via Brasil\"]"
   ]
  },
  {
   "cell_type": "code",
   "execution_count": null,
   "id": "e93caa1a",
   "metadata": {},
   "outputs": [],
   "source": [
    "# acrescentar se foi utilizado / consumido  / deixar criação ...\n",
    "\n",
    "def q(road_companies, today, last_month):\n",
    "    empresas = []\n",
    "    notas_mes_atual = []\n",
    "    notas_mes_anterior = []\n",
    "\n",
    "    for company in tqdm(road_companies):\n",
    "        total_pu = ProcedureResource.objects.filter(\n",
    "            firm__company__name=company,  \n",
    "            creation_date__month=today.month, # referente a recursos criados\n",
    "            creation_date__year=today.year\n",
    "        ).count()\n",
    "        total_adm = DailyReportContractUsage.objects.filter(\n",
    "            worker__firm__company__name=company,  \n",
    "            created_at__month=today.month, # referente a recursos criados\n",
    "            created_at__year=today.year\n",
    "        ).count()\n",
    "        total_performance = FieldSurvey.objects.filter(\n",
    "            contract__subcompany__company__name=company,  \n",
    "            created_at__month=today.month, # referente a recursos criados\n",
    "            created_at__year=today.year\n",
    "        ).count()\n",
    "        total_recursos = total_pu+total_adm+total_performance\n",
    "        \n",
    "        # verifica se foram criados recursos no mês atual\n",
    "        porcentagem_atual = 1 if total_recursos > 0 else 0 # a nota é usou = 1, não usou = 0\n",
    "        empresas.append(company)\n",
    "        notas_mes_atual.append(porcentagem_atual)\n",
    "\n",
    "    for company in tqdm(road_companies):\n",
    "        total_pu = ProcedureResource.objects.filter(\n",
    "            firm__company__name=company,  \n",
    "            creation_date__month=last_month.month, # referente a recursos criados\n",
    "            creation_date__year=last_month.year\n",
    "        ).count()\n",
    "        total_adm = DailyReportContractUsage.objects.filter(\n",
    "            worker__firm__company__name=company,  \n",
    "            created_at__month=last_month.month, # referente a recursos criados\n",
    "            created_at__year=last_month.year\n",
    "        ).count()\n",
    "        total_performance = FieldSurvey.objects.filter(\n",
    "            contract__subcompany__company__name=company,  \n",
    "            created_at__month=last_month.month, # referente a recursos criados\n",
    "            created_at__year=last_month.year\n",
    "        ).count()\n",
    "        \n",
    "        total_recursos = total_pu+total_adm+total_performance\n",
    "\n",
    "        porcentagem_anterior = 1 if total_recursos > 0 else 0 \n",
    "        notas_mes_anterior.append(porcentagem_anterior)\n",
    "\n",
    "    df_result = pd.DataFrame({\n",
    "        'Empresa': empresas,\n",
    "        f'{last_month.month}': notas_mes_anterior,\n",
    "        f'{today.month}': notas_mes_atual\n",
    "    })\n",
    "\n",
    "    print(df_result)\n",
    "\n",
    "#     df_result.to_excel('nota_recursos.xlsx', index=False)\n",
    "\n",
    "    return df_result\n",
    "\n",
    "# q_result = q(road_companies, today, last_month)"
   ]
  },
  {
   "cell_type": "code",
   "execution_count": null,
   "id": "c1386c3a",
   "metadata": {},
   "outputs": [],
   "source": [
    "q(road_companies, today, last)"
   ]
  },
  {
   "cell_type": "code",
   "execution_count": null,
   "id": "17493ada",
   "metadata": {},
   "outputs": [],
   "source": [
    "import datetime\n",
    "from tqdm.notebook import tqdm\n",
    "import pandas as pd\n",
    "today=datetime.datetime(2024, 3, 11)\n",
    "last = datetime.datetime(2024, 2, 11)"
   ]
  },
  {
   "cell_type": "code",
   "execution_count": null,
   "id": "9b6fd181",
   "metadata": {},
   "outputs": [],
   "source": [
    "ProcedureResource.objects.filter(\n",
    "            reporting__company__name='Sinalizavia (Municípios)',  \n",
    "            creation_date__month=today.month, # referente a recursos criados\n",
    "            creation_date__year=today.year\n",
    "        ).count()"
   ]
  },
  {
   "cell_type": "code",
   "execution_count": null,
   "id": "94fb5eb5",
   "metadata": {},
   "outputs": [],
   "source": [
    "q(['Arteris Litoral Sul - Conserva'], today, last)"
   ]
  },
  {
   "cell_type": "code",
   "execution_count": null,
   "id": "8083847e",
   "metadata": {},
   "outputs": [],
   "source": [
    "ContractItemUnitPrice._meta.fields"
   ]
  },
  {
   "cell_type": "code",
   "execution_count": null,
   "id": "25c4ab60",
   "metadata": {},
   "outputs": [],
   "source": [
    "ContractItemUnitPrice.objects.filter(contract=1)"
   ]
  },
  {
   "cell_type": "code",
   "execution_count": null,
   "id": "c16e717b",
   "metadata": {},
   "outputs": [],
   "source": [
    "Resource._meta.fields"
   ]
  },
  {
   "cell_type": "code",
   "execution_count": null,
   "id": "c5873f5c",
   "metadata": {},
   "outputs": [],
   "source": [
    "FieldSurvey.objects.first().contract.subcompany.company.name"
   ]
  },
  {
   "cell_type": "code",
   "execution_count": null,
   "id": "7107eff7",
   "metadata": {},
   "outputs": [],
   "source": [
    "Mesma equipe"
   ]
  },
  {
   "cell_type": "code",
   "execution_count": null,
   "id": "30441354",
   "metadata": {},
   "outputs": [],
   "source": [
    "ProcedureResource._meta.fields"
   ]
  },
  {
   "cell_type": "code",
   "execution_count": null,
   "id": "6e029693",
   "metadata": {},
   "outputs": [],
   "source": [
    "for a in UserInCompany.objects.filter(company__name__icontains='rota do oeste').prefetch_related('user','company').exclude(user__email__icontains='kartado'):\n",
    "    if a.company.company_group != a.user.company_group:\n",
    "        print(a.user.get_full_name())"
   ]
  },
  {
   "cell_type": "code",
   "execution_count": null,
   "id": "7f8288e7",
   "metadata": {},
   "outputs": [],
   "source": [
    "UserInCompany.objects.filter(asda=1)"
   ]
  },
  {
   "cell_type": "code",
   "execution_count": null,
   "id": "cd09cdf7",
   "metadata": {},
   "outputs": [],
   "source": [
    "User.objects.get(first_name='Livya').companies_membership.all()"
   ]
  },
  {
   "cell_type": "code",
   "execution_count": null,
   "id": "40df4a46",
   "metadata": {},
   "outputs": [],
   "source": [
    "User.objects.filter(first_dname='Livya')"
   ]
  },
  {
   "cell_type": "code",
   "execution_count": null,
   "id": "940ad0ba",
   "metadata": {},
   "outputs": [],
   "source": [
    "# Mês e ano da conculta\n",
    "query_month = 3\n",
    "query_year = 2024"
   ]
  },
  {
   "cell_type": "code",
   "execution_count": null,
   "id": "92bdc5e2",
   "metadata": {},
   "outputs": [],
   "source": [
    "reps=Reporting.objects.filter(company__name=\"Arteris Litoral Sul - Conserva\", \n",
    "        created_at__month=query_month, \n",
    "        created_at__year=query_year\n",
    "   ).prefetch_related(\n",
    "    'reporting_resources'\n",
    ").order_by(\n",
    "    'created_at__day'\n",
    ").values(\n",
    "    'created_at__day'\n",
    ").annotate(\n",
    "    num_resources=Count(\n",
    "        'reporting_resources'\n",
    "    )\n",
    ").filter(\n",
    "    num_resources__gt=0\n",
    ").values(\n",
    "    'created_at__day',\n",
    "    'num_resources'\n",
    ")"
   ]
  },
  {
   "cell_type": "code",
   "execution_count": null,
   "id": "8ac343b1",
   "metadata": {},
   "outputs": [],
   "source": [
    "reps.count()"
   ]
  },
  {
   "cell_type": "code",
   "execution_count": null,
   "id": "2aa763b0",
   "metadata": {},
   "outputs": [],
   "source": [
    "from django.db.models.functions import TruncDate\n",
    "datas_com_recursos = reps.annotate(date_only=TruncDate('created_at')).values('date_only').distinct()\n",
    "\n",
    "num_dias = len(datas_com_recursos)"
   ]
  },
  {
   "cell_type": "code",
   "execution_count": null,
   "id": "adaab7e3",
   "metadata": {},
   "outputs": [],
   "source": [
    "num_dias,datas_com_recursos"
   ]
  },
  {
   "cell_type": "code",
   "execution_count": null,
   "id": "af96d4fd",
   "metadata": {},
   "outputs": [],
   "source": [
    "for a in reps:\n",
    "    print(a)"
   ]
  },
  {
   "cell_type": "code",
   "execution_count": null,
   "id": "a038a4cc",
   "metadata": {},
   "outputs": [],
   "source": [
    "rep=Reporting.objects.get(number='INT-SIN-Aer-2023.03618')\n",
    "rep"
   ]
  },
  {
   "cell_type": "code",
   "execution_count": null,
   "id": "cbb5ddf9",
   "metadata": {},
   "outputs": [],
   "source": [
    "resources = Resource.objects.filter(\n",
    "                company__name='Arteris Intervias',\n",
    "                resource_service_orders__contract__unit_price_services__firms=rep.firm,\n",
    "            ).distinct()\n",
    "resources"
   ]
  },
  {
   "cell_type": "code",
   "execution_count": null,
   "id": "598b1948",
   "metadata": {},
   "outputs": [],
   "source": [
    "for a in resources:\n",
    "    print(a.name)"
   ]
  },
  {
   "cell_type": "code",
   "execution_count": null,
   "id": "512419aa",
   "metadata": {},
   "outputs": [],
   "source": [
    "found_resource.__dict__"
   ]
  },
  {
   "cell_type": "code",
   "execution_count": null,
   "id": "fae3be3a",
   "metadata": {},
   "outputs": [],
   "source": [
    "values[0]"
   ]
  },
  {
   "cell_type": "code",
   "execution_count": null,
   "id": "86d29d95",
   "metadata": {},
   "outputs": [],
   "source": [
    "r='5.6 - Fornecimento e Implantação em solo de placas indicativas, educativas, serviços, dispositivos de segurança etc. confeccionadas em chapa de aço galvanizado, com película tipo X, exceto os elementos em preto, que deverão ser não refletivos com película tipo IV. - Marcador de Obstáculo com pelicula tipo X (m²)'"
   ]
  },
  {
   "cell_type": "code",
   "execution_count": null,
   "id": "8bbba7d8",
   "metadata": {},
   "outputs": [],
   "source": [
    "r=r.replace(r.split(' ')[-1],'').strip()"
   ]
  },
  {
   "cell_type": "markdown",
   "id": "ed3994e3",
   "metadata": {},
   "source": [
    "# Importação Recursos Intervias"
   ]
  },
  {
   "cell_type": "code",
   "execution_count": 8,
   "id": "c6a5087b",
   "metadata": {},
   "outputs": [],
   "source": [
    "from openpyxl import load_workbook\n",
    "from helpers.dates import parse_dict_dates, to_utc_string\n",
    "from apps.service_orders.serializers import ProcedureResourceSerializer\n",
    "from helpers.strings import (\n",
    "    COMMON_IMAGE_TYPE,\n",
    "    clean_latin_string,\n",
    "    dict_to_casing,\n",
    "    get_obj_from_path,\n",
    "    keys_to_snake_case,\n",
    "    to_snake_case,\n",
    ")\n",
    "import datetime\n",
    "import uuid\n",
    "from tqdm.notebook import tqdm"
   ]
  },
  {
   "cell_type": "code",
   "execution_count": 9,
   "id": "91252d92",
   "metadata": {},
   "outputs": [],
   "source": [
    "filename='Intervias planilha de dados para lançar'"
   ]
  },
  {
   "cell_type": "code",
   "execution_count": 10,
   "id": "64cb48f4",
   "metadata": {},
   "outputs": [],
   "source": [
    "wb = load_workbook(filename + '.xlsx')\n",
    "sheetname = wb.sheetnames[0]\n",
    "# sheetname\n",
    "ws = wb[sheetname]"
   ]
  },
  {
   "cell_type": "code",
   "execution_count": 11,
   "id": "b3a6772d",
   "metadata": {},
   "outputs": [],
   "source": [
    "header = []\n",
    "values = []\n",
    "\n",
    "for index, row in enumerate(ws.rows):\n",
    "    if index == 0:\n",
    "        header = list([a.value for a in row])\n",
    "        continue\n",
    "    obj = {}\n",
    "    for col_index, cell in enumerate(row):\n",
    "        value = cell.value\n",
    "        obj[header[col_index]] = value\n",
    "    values.append(obj)"
   ]
  },
  {
   "cell_type": "code",
   "execution_count": 16,
   "id": "11dbd817",
   "metadata": {},
   "outputs": [
    {
     "data": {
      "text/plain": [
       "{'Serial': 'INT-SIN-Aer-2023.03618',\n",
       " 'Rodovia': 'SP-147',\n",
       " 'km inicial': 98.76,\n",
       " 'km final': 98.76,\n",
       " 'Lote': '',\n",
       " 'Latitude': -22.52087658457001,\n",
       " 'Longitude': -47.311823366668385,\n",
       " 'Natureza': 'Sinalização vertical',\n",
       " 'Classe': 'Reposição de demais placas',\n",
       " 'Empresa': 'IASIN - SINALIZAÇÕES',\n",
       " 'Equipe': 'SIN.VERTICAL-01_IASIN_26228',\n",
       " 'Programação': 'IASIN SV - OS.247/23 (KCOR 02699-23/Marcador de Alinhamento)',\n",
       " 'Valor Total': 248.16276390000002,\n",
       " 'Recurso_1': '5.6 - Fornecimento e Implantação em solo de placas indicativas, educativas, serviços, dispositivos de segurança etc. confeccionadas em chapa de aço galvanizado, com película tipo X, exceto os elementos em preto, que deverão ser não refletivos com película tipo IV. - Marcador de Obstáculo com pelicula tipo X (m²)',\n",
       " 'Quantidade_1': 0.3,\n",
       " 'Valor_1': 203.75469030000002,\n",
       " 'Valor Unitário_1': 679.182301,\n",
       " 'Recurso_2': '15.10 - Retirada de Placa - Placa de solo - Marcadores de Alinhamento padrão DER/SP (MA) (m²)',\n",
       " 'Quantidade_2': 0.3,\n",
       " 'Valor_2': 44.4080736,\n",
       " 'Valor Unitário_2': 148.026912}"
      ]
     },
     "execution_count": 16,
     "metadata": {},
     "output_type": "execute_result"
    }
   ],
   "source": [
    "values[0]"
   ]
  },
  {
   "cell_type": "code",
   "execution_count": 13,
   "id": "cacd520f",
   "metadata": {},
   "outputs": [
    {
     "data": {
      "text/plain": [
       "<Company: b8450161-14d1-4de8-b254-7d1ddc4a9c20: Arteris Intervias>"
      ]
     },
     "execution_count": 13,
     "metadata": {},
     "output_type": "execute_result"
    }
   ],
   "source": [
    "company = Company.objects.get(name='Arteris Intervias')\n",
    "user=User.objects.get(username='rlcs')\n",
    "company"
   ]
  },
  {
   "cell_type": "code",
   "execution_count": 14,
   "id": "32c0a750",
   "metadata": {
    "scrolled": true
   },
   "outputs": [
    {
     "data": {
      "application/vnd.jupyter.widget-view+json": {
       "model_id": "9ee81c0acc62489baf1c4a27815ea045",
       "version_major": 2,
       "version_minor": 0
      },
      "text/plain": [
       "  0%|          | 0/59 [00:00<?, ?it/s]"
      ]
     },
     "metadata": {},
     "output_type": "display_data"
    },
    {
     "name": "stdout",
     "output_type": "stream",
     "text": [
      "<QuerySet [<ProcedureResource: [Arteris Intervias] - 15.10 - Retirada de Placa - Placa de solo - Marcadores de Alinhamento padrão DER/SP (MA): 69.0 m² - 0.3 m²>, <ProcedureResource: [Arteris Intervias] - 5.6 - Fornecimento e Implantação em solo de placas indicativas, educativas, serviços, dispositivos de segurança etc. confeccionadas em chapa de aço galvanizado, com película tipo X, exceto os elementos em preto, que deverão ser não refletivos com película tipo IV. - Marcador de Obstáculo com pelicula tipo X: 1.0 m² - 0.3 m²>]>\n",
      "<QuerySet [<ProcedureResource: [Arteris Intervias] - 5.6 - Fornecimento e Implantação em solo de placas indicativas, educativas, serviços, dispositivos de segurança etc. confeccionadas em chapa de aço galvanizado, com película tipo X, exceto os elementos em preto, que deverão ser não refletivos com película tipo IV. - Marcador de Obstáculo com pelicula tipo X: 1.0 m² - 0.3 m²>, <ProcedureResource: [Arteris Intervias] - 15.10 - Retirada de Placa - Placa de solo - Marcadores de Alinhamento padrão DER/SP (MA): 69.0 m² - 0.3 m²>]>\n",
      "<QuerySet [<ProcedureResource: [Arteris Intervias] - 15.10 - Retirada de Placa - Placa de solo - Marcadores de Alinhamento padrão DER/SP (MA): 69.0 m² - 0.3 m²>, <ProcedureResource: [Arteris Intervias] - 5.6 - Fornecimento e Implantação em solo de placas indicativas, educativas, serviços, dispositivos de segurança etc. confeccionadas em chapa de aço galvanizado, com película tipo X, exceto os elementos em preto, que deverão ser não refletivos com película tipo IV. - Marcador de Obstáculo com pelicula tipo X: 1.0 m² - 0.3 m²>]>\n",
      "<QuerySet [<ProcedureResource: [Arteris Intervias] - 5.6 - Fornecimento e Implantação em solo de placas indicativas, educativas, serviços, dispositivos de segurança etc. confeccionadas em chapa de aço galvanizado, com película tipo X, exceto os elementos em preto, que deverão ser não refletivos com película tipo IV. - Marcador de Obstáculo com pelicula tipo X: 1.0 m² - 0.3 m²>, <ProcedureResource: [Arteris Intervias] - 15.10 - Retirada de Placa - Placa de solo - Marcadores de Alinhamento padrão DER/SP (MA): 69.0 m² - 0.3 m²>]>\n",
      "<QuerySet [<ProcedureResource: [Arteris Intervias] - 15.10 - Retirada de Placa - Placa de solo - Marcadores de Alinhamento padrão DER/SP (MA): 69.0 m² - 0.3 m²>, <ProcedureResource: [Arteris Intervias] - 5.6 - Fornecimento e Implantação em solo de placas indicativas, educativas, serviços, dispositivos de segurança etc. confeccionadas em chapa de aço galvanizado, com película tipo X, exceto os elementos em preto, que deverão ser não refletivos com película tipo IV. - Marcador de Obstáculo com pelicula tipo X: 1.0 m² - 0.3 m²>]>\n",
      "<QuerySet [<ProcedureResource: [Arteris Intervias] - 5.6 - Fornecimento e Implantação em solo de placas indicativas, educativas, serviços, dispositivos de segurança etc. confeccionadas em chapa de aço galvanizado, com película tipo X, exceto os elementos em preto, que deverão ser não refletivos com película tipo IV. - Marcador de Obstáculo com pelicula tipo X: 1.0 m² - 0.3 m²>, <ProcedureResource: [Arteris Intervias] - 15.10 - Retirada de Placa - Placa de solo - Marcadores de Alinhamento padrão DER/SP (MA): 69.0 m² - 0.3 m²>]>\n",
      "<QuerySet [<ProcedureResource: [Arteris Intervias] - 15.10 - Retirada de Placa - Placa de solo - Marcadores de Alinhamento padrão DER/SP (MA): 69.0 m² - 0.3 m²>, <ProcedureResource: [Arteris Intervias] - 5.6 - Fornecimento e Implantação em solo de placas indicativas, educativas, serviços, dispositivos de segurança etc. confeccionadas em chapa de aço galvanizado, com película tipo X, exceto os elementos em preto, que deverão ser não refletivos com película tipo IV. - Marcador de Obstáculo com pelicula tipo X: 1.0 m² - 0.3 m²>]>\n",
      "<QuerySet [<ProcedureResource: [Arteris Intervias] - 5.6 - Fornecimento e Implantação em solo de placas indicativas, educativas, serviços, dispositivos de segurança etc. confeccionadas em chapa de aço galvanizado, com película tipo X, exceto os elementos em preto, que deverão ser não refletivos com película tipo IV. - Marcador de Obstáculo com pelicula tipo X: 1.0 m² - 0.3 m²>, <ProcedureResource: [Arteris Intervias] - 15.10 - Retirada de Placa - Placa de solo - Marcadores de Alinhamento padrão DER/SP (MA): 69.0 m² - 0.3 m²>]>\n",
      "<QuerySet [<ProcedureResource: [Arteris Intervias] - 15.10 - Retirada de Placa - Placa de solo - Marcadores de Alinhamento padrão DER/SP (MA): 69.0 m² - 0.3 m²>, <ProcedureResource: [Arteris Intervias] - 5.6 - Fornecimento e Implantação em solo de placas indicativas, educativas, serviços, dispositivos de segurança etc. confeccionadas em chapa de aço galvanizado, com película tipo X, exceto os elementos em preto, que deverão ser não refletivos com película tipo IV. - Marcador de Obstáculo com pelicula tipo X: 1.0 m² - 0.3 m²>]>\n",
      "<QuerySet [<ProcedureResource: [Arteris Intervias] - 15.10 - Retirada de Placa - Placa de solo - Marcadores de Alinhamento padrão DER/SP (MA): 69.0 m² - 0.3 m²>, <ProcedureResource: [Arteris Intervias] - 5.6 - Fornecimento e Implantação em solo de placas indicativas, educativas, serviços, dispositivos de segurança etc. confeccionadas em chapa de aço galvanizado, com película tipo X, exceto os elementos em preto, que deverão ser não refletivos com película tipo IV. - Marcador de Obstáculo com pelicula tipo X: 1.0 m² - 0.3 m²>]>\n",
      "<QuerySet [<ProcedureResource: [Arteris Intervias] - 5.6 - Fornecimento e Implantação em solo de placas indicativas, educativas, serviços, dispositivos de segurança etc. confeccionadas em chapa de aço galvanizado, com película tipo X, exceto os elementos em preto, que deverão ser não refletivos com película tipo IV. - Marcador de Obstáculo com pelicula tipo X: 1.0 m² - 0.3 m²>, <ProcedureResource: [Arteris Intervias] - 15.10 - Retirada de Placa - Placa de solo - Marcadores de Alinhamento padrão DER/SP (MA): 69.0 m² - 0.3 m²>]>\n",
      "<QuerySet [<ProcedureResource: [Arteris Intervias] - 15.10 - Retirada de Placa - Placa de solo - Marcadores de Alinhamento padrão DER/SP (MA): 69.0 m² - 0.3 m²>, <ProcedureResource: [Arteris Intervias] - 5.6 - Fornecimento e Implantação em solo de placas indicativas, educativas, serviços, dispositivos de segurança etc. confeccionadas em chapa de aço galvanizado, com película tipo X, exceto os elementos em preto, que deverão ser não refletivos com película tipo IV. - Marcador de Obstáculo com pelicula tipo X: 1.0 m² - 0.3 m²>]>\n",
      "<QuerySet [<ProcedureResource: [Arteris Intervias] - 5.6 - Fornecimento e Implantação em solo de placas indicativas, educativas, serviços, dispositivos de segurança etc. confeccionadas em chapa de aço galvanizado, com película tipo X, exceto os elementos em preto, que deverão ser não refletivos com película tipo IV. - Marcador de Obstáculo com pelicula tipo X: 1.0 m² - 0.3 m²>, <ProcedureResource: [Arteris Intervias] - 15.10 - Retirada de Placa - Placa de solo - Marcadores de Alinhamento padrão DER/SP (MA): 69.0 m² - 0.3 m²>]>\n",
      "<QuerySet [<ProcedureResource: [Arteris Intervias] - 5.6 - Fornecimento e Implantação em solo de placas indicativas, educativas, serviços, dispositivos de segurança etc. confeccionadas em chapa de aço galvanizado, com película tipo X, exceto os elementos em preto, que deverão ser não refletivos com película tipo IV. - Marcador de Obstáculo com pelicula tipo X: 1.0 m² - 0.3 m²>, <ProcedureResource: [Arteris Intervias] - 15.10 - Retirada de Placa - Placa de solo - Marcadores de Alinhamento padrão DER/SP (MA): 69.0 m² - 0.3 m²>]>\n",
      "<QuerySet [<ProcedureResource: [Arteris Intervias] - 5.6 - Fornecimento e Implantação em solo de placas indicativas, educativas, serviços, dispositivos de segurança etc. confeccionadas em chapa de aço galvanizado, com película tipo X, exceto os elementos em preto, que deverão ser não refletivos com película tipo IV. - Marcador de Obstáculo com pelicula tipo X: 1.0 m² - 0.3 m²>, <ProcedureResource: [Arteris Intervias] - 15.10 - Retirada de Placa - Placa de solo - Marcadores de Alinhamento padrão DER/SP (MA): 69.0 m² - 0.3 m²>]>\n",
      "<QuerySet [<ProcedureResource: [Arteris Intervias] - 5.6 - Fornecimento e Implantação em solo de placas indicativas, educativas, serviços, dispositivos de segurança etc. confeccionadas em chapa de aço galvanizado, com película tipo X, exceto os elementos em preto, que deverão ser não refletivos com película tipo IV. - Marcador de Obstáculo com pelicula tipo X: 1.0 m² - 0.3 m²>, <ProcedureResource: [Arteris Intervias] - 15.10 - Retirada de Placa - Placa de solo - Marcadores de Alinhamento padrão DER/SP (MA): 69.0 m² - 0.3 m²>]>\n",
      "<QuerySet [<ProcedureResource: [Arteris Intervias] - 5.6 - Fornecimento e Implantação em solo de placas indicativas, educativas, serviços, dispositivos de segurança etc. confeccionadas em chapa de aço galvanizado, com película tipo X, exceto os elementos em preto, que deverão ser não refletivos com película tipo IV. - Marcador de Obstáculo com pelicula tipo X: 1.0 m² - 0.3 m²>, <ProcedureResource: [Arteris Intervias] - 15.10 - Retirada de Placa - Placa de solo - Marcadores de Alinhamento padrão DER/SP (MA): 69.0 m² - 0.3 m²>]>\n",
      "<QuerySet [<ProcedureResource: [Arteris Intervias] - 5.6 - Fornecimento e Implantação em solo de placas indicativas, educativas, serviços, dispositivos de segurança etc. confeccionadas em chapa de aço galvanizado, com película tipo X, exceto os elementos em preto, que deverão ser não refletivos com película tipo IV. - Marcador de Obstáculo com pelicula tipo X: 1.0 m² - 0.3 m²>, <ProcedureResource: [Arteris Intervias] - 15.10 - Retirada de Placa - Placa de solo - Marcadores de Alinhamento padrão DER/SP (MA): 69.0 m² - 0.3 m²>]>\n"
     ]
    },
    {
     "name": "stdout",
     "output_type": "stream",
     "text": [
      "<QuerySet [<ProcedureResource: [Arteris Intervias] - 5.6 - Fornecimento e Implantação em solo de placas indicativas, educativas, serviços, dispositivos de segurança etc. confeccionadas em chapa de aço galvanizado, com película tipo X, exceto os elementos em preto, que deverão ser não refletivos com película tipo IV. - Marcador de Obstáculo com pelicula tipo X: 1.0 m² - 0.3 m²>, <ProcedureResource: [Arteris Intervias] - 15.10 - Retirada de Placa - Placa de solo - Marcadores de Alinhamento padrão DER/SP (MA): 69.0 m² - 0.3 m²>]>\n",
      "<QuerySet [<ProcedureResource: [Arteris Intervias] - 5.6 - Fornecimento e Implantação em solo de placas indicativas, educativas, serviços, dispositivos de segurança etc. confeccionadas em chapa de aço galvanizado, com película tipo X, exceto os elementos em preto, que deverão ser não refletivos com película tipo IV. - Marcador de Obstáculo com pelicula tipo X: 1.0 m² - 0.3 m²>, <ProcedureResource: [Arteris Intervias] - 15.10 - Retirada de Placa - Placa de solo - Marcadores de Alinhamento padrão DER/SP (MA): 69.0 m² - 0.3 m²>]>\n",
      "<QuerySet [<ProcedureResource: [Arteris Intervias] - 15.10 - Retirada de Placa - Placa de solo - Marcadores de Alinhamento padrão DER/SP (MA): 69.0 m² - 0.3 m²>, <ProcedureResource: [Arteris Intervias] - 5.6 - Fornecimento e Implantação em solo de placas indicativas, educativas, serviços, dispositivos de segurança etc. confeccionadas em chapa de aço galvanizado, com película tipo X, exceto os elementos em preto, que deverão ser não refletivos com película tipo IV. - Marcador de Obstáculo com pelicula tipo X: 1.0 m² - 0.3 m²>]>\n",
      "<QuerySet [<ProcedureResource: [Arteris Intervias] - 5.6 - Fornecimento e Implantação em solo de placas indicativas, educativas, serviços, dispositivos de segurança etc. confeccionadas em chapa de aço galvanizado, com película tipo X, exceto os elementos em preto, que deverão ser não refletivos com película tipo IV. - Marcador de Obstáculo com pelicula tipo X: 1.0 m² - 0.3 m²>, <ProcedureResource: [Arteris Intervias] - 15.10 - Retirada de Placa - Placa de solo - Marcadores de Alinhamento padrão DER/SP (MA): 69.0 m² - 0.3 m²>]>\n",
      "<QuerySet [<ProcedureResource: [Arteris Intervias] - 15.10 - Retirada de Placa - Placa de solo - Marcadores de Alinhamento padrão DER/SP (MA): 69.0 m² - 0.3 m²>, <ProcedureResource: [Arteris Intervias] - 5.6 - Fornecimento e Implantação em solo de placas indicativas, educativas, serviços, dispositivos de segurança etc. confeccionadas em chapa de aço galvanizado, com película tipo X, exceto os elementos em preto, que deverão ser não refletivos com película tipo IV. - Marcador de Obstáculo com pelicula tipo X: 1.0 m² - 0.3 m²>]>\n",
      "<QuerySet [<ProcedureResource: [Arteris Intervias] - 5.6 - Fornecimento e Implantação em solo de placas indicativas, educativas, serviços, dispositivos de segurança etc. confeccionadas em chapa de aço galvanizado, com película tipo X, exceto os elementos em preto, que deverão ser não refletivos com película tipo IV. - Marcador de Obstáculo com pelicula tipo X: 1.0 m² - 0.3 m²>, <ProcedureResource: [Arteris Intervias] - 15.10 - Retirada de Placa - Placa de solo - Marcadores de Alinhamento padrão DER/SP (MA): 69.0 m² - 0.3 m²>]>\n",
      "<QuerySet [<ProcedureResource: [Arteris Intervias] - 15.10 - Retirada de Placa - Placa de solo - Marcadores de Alinhamento padrão DER/SP (MA): 69.0 m² - 0.3 m²>, <ProcedureResource: [Arteris Intervias] - 5.6 - Fornecimento e Implantação em solo de placas indicativas, educativas, serviços, dispositivos de segurança etc. confeccionadas em chapa de aço galvanizado, com película tipo X, exceto os elementos em preto, que deverão ser não refletivos com película tipo IV. - Marcador de Obstáculo com pelicula tipo X: 1.0 m² - 0.3 m²>]>\n",
      "<QuerySet [<ProcedureResource: [Arteris Intervias] - 15.10 - Retirada de Placa - Placa de solo - Marcadores de Alinhamento padrão DER/SP (MA): 69.0 m² - 0.3 m²>, <ProcedureResource: [Arteris Intervias] - 5.6 - Fornecimento e Implantação em solo de placas indicativas, educativas, serviços, dispositivos de segurança etc. confeccionadas em chapa de aço galvanizado, com película tipo X, exceto os elementos em preto, que deverão ser não refletivos com película tipo IV. - Marcador de Obstáculo com pelicula tipo X: 1.0 m² - 0.3 m²>]>\n",
      "<QuerySet [<ProcedureResource: [Arteris Intervias] - 5.6 - Fornecimento e Implantação em solo de placas indicativas, educativas, serviços, dispositivos de segurança etc. confeccionadas em chapa de aço galvanizado, com película tipo X, exceto os elementos em preto, que deverão ser não refletivos com película tipo IV. - Marcador de Obstáculo com pelicula tipo X: 1.0 m² - 0.3 m²>, <ProcedureResource: [Arteris Intervias] - 15.10 - Retirada de Placa - Placa de solo - Marcadores de Alinhamento padrão DER/SP (MA): 69.0 m² - 0.3 m²>]>\n",
      "<QuerySet [<ProcedureResource: [Arteris Intervias] - 15.10 - Retirada de Placa - Placa de solo - Marcadores de Alinhamento padrão DER/SP (MA): 69.0 m² - 0.3 m²>, <ProcedureResource: [Arteris Intervias] - 5.6 - Fornecimento e Implantação em solo de placas indicativas, educativas, serviços, dispositivos de segurança etc. confeccionadas em chapa de aço galvanizado, com película tipo X, exceto os elementos em preto, que deverão ser não refletivos com película tipo IV. - Marcador de Obstáculo com pelicula tipo X: 1.0 m² - 0.3 m²>]>\n",
      "<QuerySet [<ProcedureResource: [Arteris Intervias] - 15.10 - Retirada de Placa - Placa de solo - Marcadores de Alinhamento padrão DER/SP (MA): 69.0 m² - 0.3 m²>, <ProcedureResource: [Arteris Intervias] - 5.6 - Fornecimento e Implantação em solo de placas indicativas, educativas, serviços, dispositivos de segurança etc. confeccionadas em chapa de aço galvanizado, com película tipo X, exceto os elementos em preto, que deverão ser não refletivos com película tipo IV. - Marcador de Obstáculo com pelicula tipo X: 1.0 m² - 0.3 m²>]>\n",
      "<QuerySet [<ProcedureResource: [Arteris Intervias] - 5.6 - Fornecimento e Implantação em solo de placas indicativas, educativas, serviços, dispositivos de segurança etc. confeccionadas em chapa de aço galvanizado, com película tipo X, exceto os elementos em preto, que deverão ser não refletivos com película tipo IV. - Marcador de Obstáculo com pelicula tipo X: 1.0 m² - 0.3 m²>, <ProcedureResource: [Arteris Intervias] - 15.10 - Retirada de Placa - Placa de solo - Marcadores de Alinhamento padrão DER/SP (MA): 69.0 m² - 0.3 m²>]>\n",
      "<QuerySet [<ProcedureResource: [Arteris Intervias] - 15.10 - Retirada de Placa - Placa de solo - Marcadores de Alinhamento padrão DER/SP (MA): 69.0 m² - 0.3 m²>, <ProcedureResource: [Arteris Intervias] - 5.6 - Fornecimento e Implantação em solo de placas indicativas, educativas, serviços, dispositivos de segurança etc. confeccionadas em chapa de aço galvanizado, com película tipo X, exceto os elementos em preto, que deverão ser não refletivos com película tipo IV. - Marcador de Obstáculo com pelicula tipo X: 1.0 m² - 0.3 m²>]>\n",
      "<QuerySet [<ProcedureResource: [Arteris Intervias] - 5.6 - Fornecimento e Implantação em solo de placas indicativas, educativas, serviços, dispositivos de segurança etc. confeccionadas em chapa de aço galvanizado, com película tipo X, exceto os elementos em preto, que deverão ser não refletivos com película tipo IV. - Marcador de Obstáculo com pelicula tipo X: 1.0 m² - 0.3 m²>, <ProcedureResource: [Arteris Intervias] - 15.10 - Retirada de Placa - Placa de solo - Marcadores de Alinhamento padrão DER/SP (MA): 69.0 m² - 0.3 m²>]>\n",
      "<QuerySet [<ProcedureResource: [Arteris Intervias] - 5.6 - Fornecimento e Implantação em solo de placas indicativas, educativas, serviços, dispositivos de segurança etc. confeccionadas em chapa de aço galvanizado, com película tipo X, exceto os elementos em preto, que deverão ser não refletivos com película tipo IV. - Marcador de Obstáculo com pelicula tipo X: 1.0 m² - 0.3 m²>, <ProcedureResource: [Arteris Intervias] - 15.10 - Retirada de Placa - Placa de solo - Marcadores de Alinhamento padrão DER/SP (MA): 69.0 m² - 0.3 m²>]>\n",
      "<QuerySet [<ProcedureResource: [Arteris Intervias] - 5.6 - Fornecimento e Implantação em solo de placas indicativas, educativas, serviços, dispositivos de segurança etc. confeccionadas em chapa de aço galvanizado, com película tipo X, exceto os elementos em preto, que deverão ser não refletivos com película tipo IV. - Marcador de Obstáculo com pelicula tipo X: 1.0 m² - 0.3 m²>, <ProcedureResource: [Arteris Intervias] - 15.10 - Retirada de Placa - Placa de solo - Marcadores de Alinhamento padrão DER/SP (MA): 69.0 m² - 0.3 m²>]>\n"
     ]
    },
    {
     "name": "stdout",
     "output_type": "stream",
     "text": [
      "<QuerySet [<ProcedureResource: [Arteris Intervias] - 5.6 - Fornecimento e Implantação em solo de placas indicativas, educativas, serviços, dispositivos de segurança etc. confeccionadas em chapa de aço galvanizado, com película tipo X, exceto os elementos em preto, que deverão ser não refletivos com película tipo IV. - Marcador de Obstáculo com pelicula tipo X: 1.0 m² - 0.3 m²>, <ProcedureResource: [Arteris Intervias] - 15.10 - Retirada de Placa - Placa de solo - Marcadores de Alinhamento padrão DER/SP (MA): 69.0 m² - 0.3 m²>]>\n",
      "<QuerySet [<ProcedureResource: [Arteris Intervias] - 15.10 - Retirada de Placa - Placa de solo - Marcadores de Alinhamento padrão DER/SP (MA): 69.0 m² - 0.3 m²>, <ProcedureResource: [Arteris Intervias] - 5.6 - Fornecimento e Implantação em solo de placas indicativas, educativas, serviços, dispositivos de segurança etc. confeccionadas em chapa de aço galvanizado, com película tipo X, exceto os elementos em preto, que deverão ser não refletivos com película tipo IV. - Marcador de Obstáculo com pelicula tipo X: 1.0 m² - 0.3 m²>]>\n",
      "<QuerySet [<ProcedureResource: [Arteris Intervias] - 15.10 - Retirada de Placa - Placa de solo - Marcadores de Alinhamento padrão DER/SP (MA): 69.0 m² - 0.3 m²>, <ProcedureResource: [Arteris Intervias] - 5.6 - Fornecimento e Implantação em solo de placas indicativas, educativas, serviços, dispositivos de segurança etc. confeccionadas em chapa de aço galvanizado, com película tipo X, exceto os elementos em preto, que deverão ser não refletivos com película tipo IV. - Marcador de Obstáculo com pelicula tipo X: 1.0 m² - 0.3 m²>]>\n",
      "<QuerySet [<ProcedureResource: [Arteris Intervias] - 15.10 - Retirada de Placa - Placa de solo - Marcadores de Alinhamento padrão DER/SP (MA): 69.0 m² - 0.3 m²>, <ProcedureResource: [Arteris Intervias] - 5.6 - Fornecimento e Implantação em solo de placas indicativas, educativas, serviços, dispositivos de segurança etc. confeccionadas em chapa de aço galvanizado, com película tipo X, exceto os elementos em preto, que deverão ser não refletivos com película tipo IV. - Marcador de Obstáculo com pelicula tipo X: 1.0 m² - 0.3 m²>]>\n",
      "<QuerySet [<ProcedureResource: [Arteris Intervias] - 15.10 - Retirada de Placa - Placa de solo - Marcadores de Alinhamento padrão DER/SP (MA): 69.0 m² - 0.3 m²>, <ProcedureResource: [Arteris Intervias] - 5.6 - Fornecimento e Implantação em solo de placas indicativas, educativas, serviços, dispositivos de segurança etc. confeccionadas em chapa de aço galvanizado, com película tipo X, exceto os elementos em preto, que deverão ser não refletivos com película tipo IV. - Marcador de Obstáculo com pelicula tipo X: 1.0 m² - 0.3 m²>]>\n",
      "<QuerySet [<ProcedureResource: [Arteris Intervias] - 15.10 - Retirada de Placa - Placa de solo - Marcadores de Alinhamento padrão DER/SP (MA): 69.0 m² - 0.3 m²>, <ProcedureResource: [Arteris Intervias] - 5.6 - Fornecimento e Implantação em solo de placas indicativas, educativas, serviços, dispositivos de segurança etc. confeccionadas em chapa de aço galvanizado, com película tipo X, exceto os elementos em preto, que deverão ser não refletivos com película tipo IV. - Marcador de Obstáculo com pelicula tipo X: 1.0 m² - 0.3 m²>]>\n",
      "<QuerySet [<ProcedureResource: [Arteris Intervias] - 15.10 - Retirada de Placa - Placa de solo - Marcadores de Alinhamento padrão DER/SP (MA): 69.0 m² - 0.3 m²>, <ProcedureResource: [Arteris Intervias] - 5.6 - Fornecimento e Implantação em solo de placas indicativas, educativas, serviços, dispositivos de segurança etc. confeccionadas em chapa de aço galvanizado, com película tipo X, exceto os elementos em preto, que deverão ser não refletivos com película tipo IV. - Marcador de Obstáculo com pelicula tipo X: 1.0 m² - 0.3 m²>]>\n",
      "<QuerySet [<ProcedureResource: [Arteris Intervias] - 15.10 - Retirada de Placa - Placa de solo - Marcadores de Alinhamento padrão DER/SP (MA): 69.0 m² - 0.3 m²>, <ProcedureResource: [Arteris Intervias] - 5.6 - Fornecimento e Implantação em solo de placas indicativas, educativas, serviços, dispositivos de segurança etc. confeccionadas em chapa de aço galvanizado, com película tipo X, exceto os elementos em preto, que deverão ser não refletivos com película tipo IV. - Marcador de Obstáculo com pelicula tipo X: 1.0 m² - 0.3 m²>]>\n",
      "<QuerySet [<ProcedureResource: [Arteris Intervias] - 15.10 - Retirada de Placa - Placa de solo - Marcadores de Alinhamento padrão DER/SP (MA): 69.0 m² - 0.3 m²>, <ProcedureResource: [Arteris Intervias] - 5.6 - Fornecimento e Implantação em solo de placas indicativas, educativas, serviços, dispositivos de segurança etc. confeccionadas em chapa de aço galvanizado, com película tipo X, exceto os elementos em preto, que deverão ser não refletivos com película tipo IV. - Marcador de Obstáculo com pelicula tipo X: 1.0 m² - 0.3 m²>]>\n",
      "<QuerySet [<ProcedureResource: [Arteris Intervias] - 15.10 - Retirada de Placa - Placa de solo - Marcadores de Alinhamento padrão DER/SP (MA): 69.0 m² - 0.3 m²>, <ProcedureResource: [Arteris Intervias] - 5.6 - Fornecimento e Implantação em solo de placas indicativas, educativas, serviços, dispositivos de segurança etc. confeccionadas em chapa de aço galvanizado, com película tipo X, exceto os elementos em preto, que deverão ser não refletivos com película tipo IV. - Marcador de Obstáculo com pelicula tipo X: 1.0 m² - 0.3 m²>]>\n",
      "<QuerySet [<ProcedureResource: [Arteris Intervias] - 5.6 - Fornecimento e Implantação em solo de placas indicativas, educativas, serviços, dispositivos de segurança etc. confeccionadas em chapa de aço galvanizado, com película tipo X, exceto os elementos em preto, que deverão ser não refletivos com película tipo IV. - Marcador de Obstáculo com pelicula tipo X: 1.0 m² - 0.3 m²>, <ProcedureResource: [Arteris Intervias] - 15.10 - Retirada de Placa - Placa de solo - Marcadores de Alinhamento padrão DER/SP (MA): 69.0 m² - 0.3 m²>]>\n",
      "<QuerySet [<ProcedureResource: [Arteris Intervias] - 15.10 - Retirada de Placa - Placa de solo - Marcadores de Alinhamento padrão DER/SP (MA): 69.0 m² - 0.3 m²>, <ProcedureResource: [Arteris Intervias] - 5.6 - Fornecimento e Implantação em solo de placas indicativas, educativas, serviços, dispositivos de segurança etc. confeccionadas em chapa de aço galvanizado, com película tipo X, exceto os elementos em preto, que deverão ser não refletivos com película tipo IV. - Marcador de Obstáculo com pelicula tipo X: 1.0 m² - 0.3 m²>]>\n",
      "<QuerySet [<ProcedureResource: [Arteris Intervias] - 5.6 - Fornecimento e Implantação em solo de placas indicativas, educativas, serviços, dispositivos de segurança etc. confeccionadas em chapa de aço galvanizado, com película tipo X, exceto os elementos em preto, que deverão ser não refletivos com película tipo IV. - Marcador de Obstáculo com pelicula tipo X: 1.0 m² - 0.3 m²>, <ProcedureResource: [Arteris Intervias] - 15.10 - Retirada de Placa - Placa de solo - Marcadores de Alinhamento padrão DER/SP (MA): 69.0 m² - 0.3 m²>]>\n",
      "<QuerySet [<ProcedureResource: [Arteris Intervias] - 15.10 - Retirada de Placa - Placa de solo - Marcadores de Alinhamento padrão DER/SP (MA): 69.0 m² - 0.3 m²>, <ProcedureResource: [Arteris Intervias] - 5.6 - Fornecimento e Implantação em solo de placas indicativas, educativas, serviços, dispositivos de segurança etc. confeccionadas em chapa de aço galvanizado, com película tipo X, exceto os elementos em preto, que deverão ser não refletivos com película tipo IV. - Marcador de Obstáculo com pelicula tipo X: 1.0 m² - 0.3 m²>]>\n",
      "<QuerySet [<ProcedureResource: [Arteris Intervias] - 15.10 - Retirada de Placa - Placa de solo - Marcadores de Alinhamento padrão DER/SP (MA): 69.0 m² - 0.3 m²>, <ProcedureResource: [Arteris Intervias] - 5.6 - Fornecimento e Implantação em solo de placas indicativas, educativas, serviços, dispositivos de segurança etc. confeccionadas em chapa de aço galvanizado, com película tipo X, exceto os elementos em preto, que deverão ser não refletivos com película tipo IV. - Marcador de Obstáculo com pelicula tipo X: 1.0 m² - 0.3 m²>]>\n",
      "<QuerySet [<ProcedureResource: [Arteris Intervias] - 15.10 - Retirada de Placa - Placa de solo - Marcadores de Alinhamento padrão DER/SP (MA): 69.0 m² - 0.3 m²>, <ProcedureResource: [Arteris Intervias] - 5.6 - Fornecimento e Implantação em solo de placas indicativas, educativas, serviços, dispositivos de segurança etc. confeccionadas em chapa de aço galvanizado, com película tipo X, exceto os elementos em preto, que deverão ser não refletivos com película tipo IV. - Marcador de Obstáculo com pelicula tipo X: 1.0 m² - 0.3 m²>]>\n",
      "<QuerySet [<ProcedureResource: [Arteris Intervias] - 15.10 - Retirada de Placa - Placa de solo - Marcadores de Alinhamento padrão DER/SP (MA): 69.0 m² - 0.3 m²>, <ProcedureResource: [Arteris Intervias] - 5.6 - Fornecimento e Implantação em solo de placas indicativas, educativas, serviços, dispositivos de segurança etc. confeccionadas em chapa de aço galvanizado, com película tipo X, exceto os elementos em preto, que deverão ser não refletivos com película tipo IV. - Marcador de Obstáculo com pelicula tipo X: 1.0 m² - 0.3 m²>]>\n"
     ]
    },
    {
     "name": "stdout",
     "output_type": "stream",
     "text": [
      "<QuerySet [<ProcedureResource: [Arteris Intervias] - 5.6 - Fornecimento e Implantação em solo de placas indicativas, educativas, serviços, dispositivos de segurança etc. confeccionadas em chapa de aço galvanizado, com película tipo X, exceto os elementos em preto, que deverão ser não refletivos com película tipo IV. - Marcador de Obstáculo com pelicula tipo X: 1.0 m² - 0.3 m²>, <ProcedureResource: [Arteris Intervias] - 15.10 - Retirada de Placa - Placa de solo - Marcadores de Alinhamento padrão DER/SP (MA): 69.0 m² - 0.3 m²>]>\n",
      "<QuerySet [<ProcedureResource: [Arteris Intervias] - 15.8 - Retirada de Placa - Placa de solo com área acima de 2,40m²: 1909.0 m² - 4.0 m²>, <ProcedureResource: [Arteris Intervias] - 3.2 - Fornecimento e Implantação em solo de placas indicativas, educativas, serviços, etc. confeccionadas em chapa de aço galvanizado, com película tipo III ou tipo IA, exceto os elementos em preto, que deverão ser não refletivos com película tipo IV. - Placas com fundo Tipo III+Tipo III com área acima 2,40 m²: 1818.0 m² - 6.25 m²>]>\n",
      "<QuerySet [<ProcedureResource: [Arteris Intervias] - 3.2 - Fornecimento e Implantação em solo de placas indicativas, educativas, serviços, etc. confeccionadas em chapa de aço galvanizado, com película tipo III ou tipo IA, exceto os elementos em preto, que deverão ser não refletivos com película tipo IV. - Placas com fundo Tipo III+Tipo III com área acima 2,40 m²: 1818.0 m² - 8.0 m²>, <ProcedureResource: [Arteris Intervias] - 15.8 - Retirada de Placa - Placa de solo com área acima de 2,40m²: 1909.0 m² - 8.0 m²>]>\n",
      "<QuerySet [<ProcedureResource: [Arteris Intervias] - 3.2 - Fornecimento e Implantação em solo de placas indicativas, educativas, serviços, etc. confeccionadas em chapa de aço galvanizado, com película tipo III ou tipo IA, exceto os elementos em preto, que deverão ser não refletivos com película tipo IV. - Placas com fundo Tipo III+Tipo III com área acima 2,40 m²: 1818.0 m² - 6.25 m²>, <ProcedureResource: [Arteris Intervias] - 15.8 - Retirada de Placa - Placa de solo com área acima de 2,40m²: 1909.0 m² - 6.25 m²>]>\n",
      "<QuerySet [<ProcedureResource: [Arteris Intervias] - 13.9 - Reforma de Placa - Revisão em campo de placas em desaprumo: 1.0 m² - 7.6 m²>]>\n",
      "<QuerySet [<ProcedureResource: [Arteris Intervias] - 20.8 - Pintura de verso de Placa - Placa de solo com área acima de 2,40m²: 65.0 m² - 7.6 m²>]>\n",
      "<QuerySet [<ProcedureResource: [Arteris Intervias] - 15.8 - Retirada de Placa - Placa de solo com área acima de 2,40m²: 1909.0 m² - 8.0 m²>, <ProcedureResource: [Arteris Intervias] - 3.2 - Fornecimento e Implantação em solo de placas indicativas, educativas, serviços, etc. confeccionadas em chapa de aço galvanizado, com película tipo III ou tipo IA, exceto os elementos em preto, que deverão ser não refletivos com película tipo IV. - Placas com fundo Tipo III+Tipo III com área acima 2,40 m²: 1818.0 m² - 8.0 m²>]>\n",
      "<QuerySet [<ProcedureResource: [Arteris Intervias] - 3.2 - Fornecimento e Implantação em solo de placas indicativas, educativas, serviços, etc. confeccionadas em chapa de aço galvanizado, com película tipo III ou tipo IA, exceto os elementos em preto, que deverão ser não refletivos com película tipo IV. - Placas com fundo Tipo III+Tipo III com área acima 2,40 m²: 1818.0 m² - 8.0 m²>, <ProcedureResource: [Arteris Intervias] - 15.8 - Retirada de Placa - Placa de solo com área acima de 2,40m²: 1909.0 m² - 8.0 m²>]>\n"
     ]
    }
   ],
   "source": [
    "for a in tqdm(values):\n",
    "    rep = Reporting.objects.get(number=a['Serial'],company=company)\n",
    "    print(rep.reporting_resources.all())"
   ]
  },
  {
   "cell_type": "code",
   "execution_count": null,
   "id": "43d9f6e1",
   "metadata": {},
   "outputs": [],
   "source": [
    "rep.reporting_resources.all()[0].service_order_resource.contract.__dict__"
   ]
  },
  {
   "cell_type": "code",
   "execution_count": 18,
   "id": "eeef22f4",
   "metadata": {
    "scrolled": true
   },
   "outputs": [
    {
     "data": {
      "application/vnd.jupyter.widget-view+json": {
       "model_id": "1633d2d7f4c2490d805148ef9c67761d",
       "version_major": 2,
       "version_minor": 0
      },
      "text/plain": [
       "  0%|          | 0/59 [00:00<?, ?it/s]"
      ]
     },
     "metadata": {},
     "output_type": "display_data"
    },
    {
     "name": "stdout",
     "output_type": "stream",
     "text": [
      "3.2 - Fornecimento e Implantação em solo de placas indicativas, educativas, serviços, etc. confeccionadas em chapa de aço galvanizado, com película tipo III ou tipo IA, exceto os elementos em preto, que deverão ser não refletivos com película tipo IV. - Placas com fundo Tipo III+Tipo III com área acima 2,40 m² list index out of range\n"
     ]
    },
    {
     "ename": "NameError",
     "evalue": "name 'df' is not defined",
     "output_type": "error",
     "traceback": [
      "\u001b[0;31m---------------------------------------------------------------------------\u001b[0m",
      "\u001b[0;31mIndexError\u001b[0m                                Traceback (most recent call last)",
      "\u001b[0;32m/tmp/ipykernel_18531/831551527.py\u001b[0m in \u001b[0;36m<cell line: 2>\u001b[0;34m()\u001b[0m\n\u001b[1;32m     11\u001b[0m     \u001b[0;32mtry\u001b[0m\u001b[0;34m:\u001b[0m\u001b[0;34m\u001b[0m\u001b[0;34m\u001b[0m\u001b[0m\n\u001b[0;32m---> 12\u001b[0;31m         found_resource = resources.filter(\n\u001b[0m\u001b[1;32m     13\u001b[0m                         name__icontains=r.lower())[0]\n",
      "\u001b[0;32m~/.cache/pypoetry/virtualenvs/apps-ZFymp6kh-py3.8/lib/python3.8/site-packages/django/db/models/query.py\u001b[0m in \u001b[0;36m__getitem__\u001b[0;34m(self, k)\u001b[0m\n\u001b[1;32m    308\u001b[0m         \u001b[0mqs\u001b[0m\u001b[0;34m.\u001b[0m\u001b[0m_fetch_all\u001b[0m\u001b[0;34m(\u001b[0m\u001b[0;34m)\u001b[0m\u001b[0;34m\u001b[0m\u001b[0;34m\u001b[0m\u001b[0m\n\u001b[0;32m--> 309\u001b[0;31m         \u001b[0;32mreturn\u001b[0m \u001b[0mqs\u001b[0m\u001b[0;34m.\u001b[0m\u001b[0m_result_cache\u001b[0m\u001b[0;34m[\u001b[0m\u001b[0;36m0\u001b[0m\u001b[0;34m]\u001b[0m\u001b[0;34m\u001b[0m\u001b[0;34m\u001b[0m\u001b[0m\n\u001b[0m\u001b[1;32m    310\u001b[0m \u001b[0;34m\u001b[0m\u001b[0m\n",
      "\u001b[0;31mIndexError\u001b[0m: list index out of range",
      "\nDuring handling of the above exception, another exception occurred:\n",
      "\u001b[0;31mNameError\u001b[0m                                 Traceback (most recent call last)",
      "\u001b[0;32m/tmp/ipykernel_18531/831551527.py\u001b[0m in \u001b[0;36m<cell line: 2>\u001b[0;34m()\u001b[0m\n\u001b[1;32m     15\u001b[0m     \u001b[0;32mexcept\u001b[0m \u001b[0mException\u001b[0m \u001b[0;32mas\u001b[0m \u001b[0me\u001b[0m\u001b[0;34m:\u001b[0m\u001b[0;34m\u001b[0m\u001b[0;34m\u001b[0m\u001b[0m\n\u001b[1;32m     16\u001b[0m         \u001b[0mprint\u001b[0m\u001b[0;34m(\u001b[0m\u001b[0mr\u001b[0m\u001b[0;34m,\u001b[0m\u001b[0me\u001b[0m\u001b[0;34m)\u001b[0m\u001b[0;34m\u001b[0m\u001b[0;34m\u001b[0m\u001b[0m\n\u001b[0;32m---> 17\u001b[0;31m         \u001b[0mprint\u001b[0m\u001b[0;34m(\u001b[0m\u001b[0mdf\u001b[0m\u001b[0;34m.\u001b[0m\u001b[0mfr\u001b[0m\u001b[0;34m)\u001b[0m\u001b[0;34m\u001b[0m\u001b[0;34m\u001b[0m\u001b[0m\n\u001b[0m\u001b[1;32m     18\u001b[0m     \u001b[0;32melse\u001b[0m\u001b[0;34m:\u001b[0m\u001b[0;34m\u001b[0m\u001b[0;34m\u001b[0m\u001b[0m\n\u001b[1;32m     19\u001b[0m         \u001b[0munit_price\u001b[0m \u001b[0;34m=\u001b[0m \u001b[0mso_resource\u001b[0m\u001b[0;34m.\u001b[0m\u001b[0munit_price\u001b[0m\u001b[0;34m\u001b[0m\u001b[0;34m\u001b[0m\u001b[0m\n",
      "\u001b[0;31mNameError\u001b[0m: name 'df' is not defined"
     ]
    }
   ],
   "source": [
    "resources_list=[]\n",
    "for a in tqdm(values):\n",
    "    rep = Reporting.objects.get(number=a['Serial'],company=company)\n",
    "    resources = Resource.objects.filter(\n",
    "                company=company,\n",
    "                resource_service_orders__contract__unit_price_services__firms=rep.firm,\n",
    "            ).distinct()\n",
    "    \n",
    "    r=a['Recurso_1'].replace(a['Recurso_1'].split(' ')[-1],'').strip()\n",
    "    quantity = a['Quantidade_1']\n",
    "    try:    \n",
    "        found_resource = resources.filter(\n",
    "                        name__icontains=r.lower())[0]\n",
    "        so_resource = found_resource.resource_service_orders.all()[0]\n",
    "    except Exception as e:\n",
    "        print(r,e)\n",
    "        print(df.fr)\n",
    "    else:\n",
    "        unit_price = so_resource.unit_price\n",
    "        resources_list.append(\n",
    "            {\n",
    "                \"uuid\": str(uuid.uuid4()),\n",
    "                \"total_price\": quantity * unit_price,\n",
    "                \"unit_price\": unit_price,\n",
    "                \"amount\": quantity,\n",
    "                \"reporting_id\": rep.uuid,\n",
    "                \"resource_id\": str(found_resource.uuid),\n",
    "                \"service_order_resource_id\": str(so_resource.uuid),\n",
    "                \"created_by_id\": user.uuid,\n",
    "                \"creation_date\": datetime.datetime.now(),\n",
    "                \"firm_id\": str(rep.firm.uuid),\n",
    "            }\n",
    "        )\n"
   ]
  },
  {
   "cell_type": "code",
   "execution_count": null,
   "id": "df8e7f0d",
   "metadata": {},
   "outputs": [],
   "source": [
    "len(resources_list)"
   ]
  },
  {
   "cell_type": "code",
   "execution_count": null,
   "id": "986b8cfe",
   "metadata": {},
   "outputs": [],
   "source": [
    "objs=[]\n",
    "for item in resources_list:\n",
    "    parsed_item = parse_dict_dates(item, date_fields)\n",
    "\n",
    "    serialized_item = ProcedureResourceSerializer(data=parsed_item)\n",
    "    \n",
    "    objs.append(ProcedureResource(**parsed_item))"
   ]
  },
  {
   "cell_type": "code",
   "execution_count": null,
   "id": "646098ca",
   "metadata": {},
   "outputs": [],
   "source": [
    "len(objs),objs[0].__dict__"
   ]
  },
  {
   "cell_type": "code",
   "execution_count": null,
   "id": "975e5bad",
   "metadata": {},
   "outputs": [],
   "source": [
    "resources.filter(\n",
    "    name__icontains='15.10 - Retirada de Placa - Placa de solo - Marcadores de Alinhamento padrão DER/SP (MA)'.lower()\n",
    ")[0].resource_service_orders.all()[0]"
   ]
  },
  {
   "cell_type": "code",
   "execution_count": null,
   "id": "b1eb001c",
   "metadata": {},
   "outputs": [],
   "source": []
  },
  {
   "cell_type": "code",
   "execution_count": null,
   "id": "bcae3b9e",
   "metadata": {},
   "outputs": [],
   "source": [
    "datetime.datetime.now()"
   ]
  },
  {
   "cell_type": "code",
   "execution_count": null,
   "id": "386db6a8",
   "metadata": {},
   "outputs": [],
   "source": [
    "values[0]"
   ]
  },
  {
   "cell_type": "code",
   "execution_count": null,
   "id": "f3d74cff",
   "metadata": {},
   "outputs": [],
   "source": [
    "values[0]['Recurso_1']"
   ]
  },
  {
   "cell_type": "code",
   "execution_count": null,
   "id": "76bf9a70",
   "metadata": {},
   "outputs": [],
   "source": [
    "len_objs=0\n",
    "date_fields = [\n",
    "            \"found_at\",\n",
    "            \"created_at\",\n",
    "            \"executed_at\",\n",
    "            \"due_at\",\n",
    "            \"datetime\",\n",
    "            \"uploaded_at\",\n",
    "            \"creation_date\",\n",
    "        ]\n",
    "resources = values[0].get(\"Recurso_1\", [])\n",
    "len_objs += len(resources)\n",
    "for item in resources:\n",
    "    parsed_item = parse_dict_dates(item, date_fields)\n",
    "    print(item)\n",
    "    serialized_item = ProcedureResourceSerializer(data=parsed_item)\n",
    "    if serialized_item.is_valid():\n",
    "        objs.append(ProcedureResource(**parsed_item))"
   ]
  },
  {
   "cell_type": "code",
   "execution_count": null,
   "id": "849e55d2",
   "metadata": {},
   "outputs": [],
   "source": [
    "dict_to_casing(values[0],format_type=\"camelize\")"
   ]
  },
  {
   "cell_type": "code",
   "execution_count": null,
   "id": "440fc790",
   "metadata": {},
   "outputs": [],
   "source": [
    "import pandas as pd\n",
    "data=[]\n",
    "for a in Company.objects.all().prefetch_related('company_group').exclude(name__icontains='Demo').exclude(name__icontains='UHE').exclude(name__icontains='teste').exclude(name__icontains='modelo').order_by('name'):\n",
    "    try:\n",
    "        data.append({\"Unidade\":a.name,\"Company_Group\":a.company_group.name})\n",
    "    except:\n",
    "        print(a)"
   ]
  },
  {
   "cell_type": "code",
   "execution_count": null,
   "id": "6e67cbdc",
   "metadata": {},
   "outputs": [],
   "source": [
    "df = pd.DataFrame(data=data)\n",
    "df"
   ]
  },
  {
   "cell_type": "code",
   "execution_count": null,
   "id": "02e78388",
   "metadata": {},
   "outputs": [],
   "source": [
    "df.to_excel('lista_company.xlsx',index=False)"
   ]
  },
  {
   "cell_type": "code",
   "execution_count": null,
   "id": "03c4608c",
   "metadata": {},
   "outputs": [],
   "source": [
    "Company.objects.get(name='Demo Concessionárias').company_group.name"
   ]
  },
  {
   "cell_type": "code",
   "execution_count": null,
   "id": "faf33be8",
   "metadata": {
    "scrolled": true
   },
   "outputs": [],
   "source": [
    "Reporting.objects.get(number='ARB-2024.21721').reporting_resources.first().__dict__"
   ]
  },
  {
   "cell_type": "code",
   "execution_count": null,
   "id": "ef3220d0",
   "metadata": {},
   "outputs": [],
   "source": [
    "ContractItemUnitPrice._meta.fields"
   ]
  },
  {
   "cell_type": "code",
   "execution_count": null,
   "id": "67f44aa9",
   "metadata": {},
   "outputs": [],
   "source": [
    "ContractItemUnitPrice.objects.filter(resources_)"
   ]
  },
  {
   "cell_type": "code",
   "execution_count": null,
   "id": "bae48c35",
   "metadata": {
    "scrolled": true
   },
   "outputs": [],
   "source": [
    "ProcedureResource.objects.filter(asd='w')"
   ]
  },
  {
   "cell_type": "code",
   "execution_count": null,
   "id": "ba342984",
   "metadata": {},
   "outputs": [],
   "source": [
    "ProcedureResource.objects.filter(reporting__company__name__startswith=\"Arteris\",creation_date__gte=\"2024-04-01\").count()"
   ]
  },
  {
   "cell_type": "code",
   "execution_count": null,
   "id": "5ec94f98",
   "metadata": {},
   "outputs": [],
   "source": [
    "procedures=ProcedureResource.objects.filter(reporting__company__name__startswith=\"Arteris\",creation_date__gte=\"2024-04-01\")"
   ]
  },
  {
   "cell_type": "code",
   "execution_count": null,
   "id": "31cf31ee",
   "metadata": {},
   "outputs": [],
   "source": [
    "primeiro = procedures.first()"
   ]
  },
  {
   "cell_type": "code",
   "execution_count": null,
   "id": "d30e1a78",
   "metadata": {},
   "outputs": [],
   "source": [
    "from django.db.models import F"
   ]
  },
  {
   "cell_type": "code",
   "execution_count": null,
   "id": "ccbfab59",
   "metadata": {},
   "outputs": [],
   "source": [
    "primeiro.approval_status"
   ]
  },
  {
   "cell_type": "code",
   "execution_count": null,
   "id": "61bd59d7",
   "metadata": {},
   "outputs": [],
   "source": [
    "anotado=ProcedureResource.objects.filter(reporting__number='ARB-2024.14318').annotate(executed_at=F(\"reporting__executed_at\"))"
   ]
  },
  {
   "cell_type": "code",
   "execution_count": null,
   "id": "73d57d91",
   "metadata": {
    "scrolled": true
   },
   "outputs": [],
   "source": [
    "anotado[0].__dict__"
   ]
  },
  {
   "cell_type": "code",
   "execution_count": null,
   "id": "09f54337",
   "metadata": {},
   "outputs": [],
   "source": [
    "anotado[0].executed_at"
   ]
  },
  {
   "cell_type": "markdown",
   "id": "cf83ec9b",
   "metadata": {},
   "source": [
    "# Alteração em massa de recursos vinculados a Apontamentos."
   ]
  },
  {
   "cell_type": "code",
   "execution_count": null,
   "id": "45ec9234",
   "metadata": {},
   "outputs": [],
   "source": [
    "from django.db.models import F, Func, Value, CharField, DateTimeField, ExpressionWrapper"
   ]
  },
  {
   "cell_type": "code",
   "execution_count": null,
   "id": "ec2521f2",
   "metadata": {},
   "outputs": [],
   "source": [
    "from django.db.models import Subquery, OuterRef"
   ]
  },
  {
   "cell_type": "code",
   "execution_count": null,
   "id": "9cba337e",
   "metadata": {},
   "outputs": [],
   "source": [
    "ProcedureResource.objects.filter(\n",
    "    reporting__company__name='Arteris Régis Bittencourt - Conserva',\n",
    "    reporting__firm__subcompany__name='JC VERTICAL',\n",
    "                                 creation_date__gte='2024-02-27',\n",
    "                                creation_date__lte='2024-04-03',\n",
    "                                 reporting__isnull=False,\n",
    "                                 reporting__executed_at__isnull=False,\n",
    "                                ).count()"
   ]
  },
  {
   "cell_type": "code",
   "execution_count": null,
   "id": "82ddbdf7",
   "metadata": {
    "scrolled": true
   },
   "outputs": [],
   "source": [
    "# ProcedureResource.objects.filter(\n",
    "#     reporting__company__name='Arteris Régis Bittencourt - Conserva',\n",
    "#     reporting__firm__subcompany__name='JC VERTICAL',\n",
    "#                                  creation_date__gte='2024-02-27',\n",
    "#                                 creation_date__lte='2024-04-03',\n",
    "#                                  reporting__isnull=False,\n",
    "#                                  reporting__executed_at__isnull=False,\n",
    "#                                 ).update(    \n",
    "#                                     creation_date=Subquery(\n",
    "#                                         ProcedureResource.objects.filter(\n",
    "#                                             pk=OuterRef('pk')\n",
    "#                                         ).values('reporting__executed_at')[:1])\n",
    "# )"
   ]
  },
  {
   "cell_type": "code",
   "execution_count": null,
   "id": "5b685aee",
   "metadata": {
    "scrolled": true
   },
   "outputs": [],
   "source": [
    "ProcedureResource.objects.filter(\n",
    "    reporting__company__name='Arteris Régis Bittencourt - Conserva',\n",
    "    reporting__firm__subcompany__name='JC VERTICAL',\n",
    "                                 creation_date__gte='2024-02-27',\n",
    "                                creation_date__lte='2024-04-03',\n",
    "                                 reporting__isnull=False,\n",
    "                                 reporting__executed_at__isnull=False,\n",
    "                                ).annotate(    \n",
    "                                    teste_subquery=Subquery(\n",
    "                                        ProcedureResource.objects.filter(\n",
    "                                            pk=OuterRef('pk')\n",
    "                                        ).values('reporting__executed_at')[:1])\n",
    ").values('reporting__number','teste_subquery')"
   ]
  },
  {
   "cell_type": "markdown",
   "id": "c512a1c0",
   "metadata": {},
   "source": [
    "# Relatório de Recurso por Mês/Unidade"
   ]
  },
  {
   "cell_type": "code",
   "execution_count": null,
   "id": "c5aff523",
   "metadata": {},
   "outputs": [],
   "source": [
    "reps=Reporting.objects.filter(\n",
    "    reporting_resources__creation_date__year__gte=2024\n",
    ").prefetch_related(\n",
    "    'reporting_resources',\n",
    "    'company'\n",
    ").order_by(\n",
    "    'reporting_resources__creation_date__month'\n",
    ").values(\n",
    "    'company__name',\n",
    "    'reporting_resources__creation_date__month'\n",
    ").annotate(\n",
    "    num_resources=Count(\n",
    "        'reporting_resources'\n",
    "    )\n",
    ").filter(\n",
    "    num_resources__gt=0\n",
    ").values(\n",
    "    'company__name',\n",
    "    'reporting_resources__creation_date__month',\n",
    "    'num_resources'\n",
    ")"
   ]
  },
  {
   "cell_type": "code",
   "execution_count": null,
   "id": "54c83137",
   "metadata": {},
   "outputs": [],
   "source": [
    "reps"
   ]
  },
  {
   "cell_type": "code",
   "execution_count": null,
   "id": "4b516ade",
   "metadata": {},
   "outputs": [],
   "source": [
    "from tqdm.notebook import tqdm\n",
    "data={}\n",
    "for a in reps:\n",
    "    if a['company__name'] not in data.keys():\n",
    "        data[a['company__name']]={}\n",
    "    data[a['company__name']][a['reporting_resources__creation_date__month']] = a['num_resources']\n",
    "#     data.append({(a['company__name']):{}})"
   ]
  },
  {
   "cell_type": "code",
   "execution_count": null,
   "id": "688a29aa",
   "metadata": {},
   "outputs": [],
   "source": [
    "import pandas as pd\n",
    "df=pd.DataFrame(data=data)"
   ]
  },
  {
   "cell_type": "code",
   "execution_count": null,
   "id": "092a2613",
   "metadata": {},
   "outputs": [],
   "source": [
    "df.transpose().to_excel('dadosRecursosUnidades.xlsx')"
   ]
  },
  {
   "cell_type": "code",
   "execution_count": null,
   "id": "751efe85",
   "metadata": {},
   "outputs": [],
   "source": [
    "reps=Reporting.objects.filter(number__in=lista)\n",
    "reps[0].company.name,reps[0].firm.name"
   ]
  },
  {
   "cell_type": "code",
   "execution_count": null,
   "id": "ac256751",
   "metadata": {},
   "outputs": [],
   "source": [
    "ProcedureResource.objects.filter(\n",
    "    reporting__in=reps,\n",
    "    reporting__company__name='Arteris Régis Bittencourt - Conserva',\n",
    "                                 ).count()"
   ]
  },
  {
   "cell_type": "code",
   "execution_count": null,
   "id": "5800e79e",
   "metadata": {},
   "outputs": [],
   "source": [
    "prs=ProcedureResource.objects.filter(reporting__firm__subcompany__name='JC VERTICAL',\n",
    "                                 creation_date__gte='2024-02-27',\n",
    "                                creation_date__lte='2024-04-03')"
   ]
  },
  {
   "cell_type": "code",
   "execution_count": null,
   "id": "b7b2c839",
   "metadata": {},
   "outputs": [],
   "source": [
    "prs.values('reporting__number').distinct('reporting__number').order_by('reporting__number').count()"
   ]
  },
  {
   "cell_type": "code",
   "execution_count": 41,
   "id": "5a8dc3ce",
   "metadata": {},
   "outputs": [],
   "source": [
    "def fill_lot_field(Reporting, instance, **kwargs):\n",
    "    if instance.road and instance.road.lot_logic:\n",
    "        # Goal 1 - Check if this Reporting occurrence_type is one of inspect_types\n",
    "        inspect_types = get(\"metadata.csp.inspect_types\", instance.company, default=[])\n",
    "        if str(instance.occurrence_type.pk) in inspect_types:\n",
    "            lots = {}\n",
    "            all_systems = []\n",
    "            lots_dict = defaultdict(list)\n",
    "            metadata_topics = get(\"metadata.csp.topics\", instance.company, default={})\n",
    "\n",
    "            # Get inspected topics and its subclasses. Ex:\n",
    "            # topics = {'5.1': ['ICRP', 'ICRFD', 'ICRDCV'], '8.1': ['IICSV'], '8.2': ['IICSH']}\n",
    "            topics = get_topics(\n",
    "                instance.occurrence_type.form_fields,\n",
    "                instance.form_data,\n",
    "                names=False,\n",
    "            )\n",
    "\n",
    "            # Get the logic to find out the road system\n",
    "            system_logic = instance.road.lane_type_logic.get(\"system_logic\", {})\n",
    "\n",
    "            # Get inspected segments\n",
    "            max_km = int(max([instance.km, instance.end_km]) + 1)\n",
    "            min_km = int(min([instance.km, instance.end_km]))\n",
    "            kms_list = [item for item in range(min_km, max_km + 1, 1)]\n",
    "\n",
    "            # Find out the lot and system for each km in kms_list\n",
    "            for km in kms_list:\n",
    "                lot = apply_json_logic(instance.road.lot_logic, {\"data\": {\"km\": km}})\n",
    "                if lot:\n",
    "                    lots_dict[lot].append(km)\n",
    "                if system_logic:\n",
    "                    system = apply_json_logic(system_logic, {\"data\": {\"km\": km}})\n",
    "                    if system:\n",
    "                        all_systems.append(system)\n",
    "\n",
    "            # Find out the count of segments for each lot and each topic\n",
    "            for lot, kms in lots_dict.items():\n",
    "                topics_dict = {}\n",
    "                for topic, value in topics.items():\n",
    "                    if topic in metadata_topics:\n",
    "                        topic_type = metadata_topics[topic].get(\"type\", \"\")\n",
    "                        if topic_type == \"segment\":\n",
    "                            segments = len(kms)\n",
    "                        elif topic_type == \"lane_segment\":\n",
    "                            if (\n",
    "                                instance.road.lane_type_logic\n",
    "                                and \"type_logic\" in instance.road.lane_type_logic\n",
    "                            ):\n",
    "                                count = 0\n",
    "                                for km in kms:\n",
    "                                    lane_type = apply_json_logic(\n",
    "                                        instance.road.lane_type_logic[\"type_logic\"],\n",
    "                                        {\"km\": km},\n",
    "                                    )\n",
    "                                    count += int(lane_type) if lane_type else 0\n",
    "                                segments = count\n",
    "                            else:\n",
    "                                segments = len(kms)\n",
    "                        elif topic_type == \"inventory\":\n",
    "                            segments = None\n",
    "                        else:\n",
    "                            segments = 0\n",
    "\n",
    "                        for item in value:\n",
    "                            topics_dict[item] = segments\n",
    "                lots[lot] = {\n",
    "                    \"kms\": kms,\n",
    "                    \"road\": instance.road_name if instance.road_name else \"\",\n",
    "                    \"topics\": topics_dict,\n",
    "                }\n",
    "\n",
    "            instance.form_data[\"lots\"] = lots\n",
    "            instance.form_data[\"road_system\"] = (\n",
    "                list(set(all_systems))[0] if all_systems else \"\"\n",
    "            )\n",
    "\n",
    "        # Goal 2 - Find out the lot\n",
    "        source_json = json.loads(\n",
    "            JSONRenderer().render(\n",
    "                ReportingSerializer(instance).data,\n",
    "                renderer_context={\"view\": ReportingView},\n",
    "            )\n",
    "        )\n",
    "        source_json = {\n",
    "            \"relationships\": source_json[\"data\"][\"relationships\"],\n",
    "            **source_json[\"data\"][\"attributes\"],\n",
    "        }\n",
    "        data = {\"data\": source_json, \"isBack\": True}\n",
    "\n",
    "        try:\n",
    "            result = apply_json_logic(instance.road.lot_logic, data)\n",
    "        except Exception:\n",
    "            result = \"\"\n",
    "\n",
    "        instance.lot = result"
   ]
  },
  {
   "cell_type": "code",
   "execution_count": 15,
   "id": "d879f26d",
   "metadata": {},
   "outputs": [],
   "source": [
    "occs=[\"13e812d6-a2d4-4104-9329-151e9a8b1a27\",\n",
    "              \"24da2246-b766-46b4-b9ad-d7966c757124\",\n",
    "              \"3ceeb137-7d77-48be-92bf-999029c8f60e\",\n",
    "              \"4108dee6-b59a-433a-b5a2-6e1ffb3ce7cd\",\n",
    "              \"554c5f48-d265-4f08-a50f-cf3c61aea8c7\",\n",
    "              \"665ab383-464c-4587-8a67-0d7b9e2a720d\",\n",
    "              \"6f01aba2-21d5-47f3-b7ba-7a284382d028\",\n",
    "              \"9a5b91e8-eaa8-4f36-be6f-3c8ff61d11ee\",\n",
    "              \"9dfb0230-daac-4b2c-a7b9-4beffd81e543\",\n",
    "              \"ad185147-4133-42b3-ac8b-9bb29294520f\",\n",
    "              \"ce573f81-659a-4ba6-9e03-3c9ae445f33e\",\n",
    "              \"d5d0555c-5a9b-426f-91aa-4a825305cce5\",\n",
    "              \"ed7baaea-8258-48bd-be83-1c1971fb35e6\",\n",
    "              \"f477c747-7437-4297-a223-b2c47c1e8713\",\n",
    "              \"fb8c9d5c-044d-429e-b03e-1a637d1907a8\",\n",
    "      '18055706-b7cf-4f07-9d11-87e51b17b60d',\n",
    "    '25bd2aca-386b-4512-bfcb-d8958c92d099',\n",
    "    '494c6c14-29ed-4f64-9507-a40d1c26a284',\n",
    "    '70e5dbac-a358-46ec-ad00-e945c93782c7',\n",
    "    '7b18d712-7195-443f-a07b-fbcf0ccfc4b0',\n",
    "    'b0123f21-0fae-4f85-bfce-2d003c14713b',\n",
    "      '3bf37e81-daa1-4c93-a7a7-c91990b926fe',\n",
    "    '4fa23dac-81a7-4a8e-ad53-1e768cb03b65',\n",
    "    '5872cb9f-cfff-47fb-acff-e0f329bba453',\n",
    "    '721e48c3-bae4-4cdf-86d3-693b2845ab0d',\n",
    "    '72d9d54a-dfdc-4ac4-9eb8-dfe45b204622',\n",
    "    '8ac9f054-b617-468f-8445-21bfa84a85db',\n",
    "      '39133297-37ee-41c7-8103-6c0f5ea8b729',\n",
    "    '46d334b6-1be4-4ed6-b4ef-cfac74bc6b0f',\n",
    "    '61e4debe-dd99-479f-b72e-234247ebcda2',\n",
    "    '83aa063b-1ca4-4bfa-91ce-7687a8b9b27f',\n",
    "    '8578c40a-c0e8-46ca-9bfb-593e221b2506',\n",
    "    '8e8d70ad-1457-4140-9e81-8e7adab1f817',\n",
    "    'a89f4b78-d9ed-44cc-aeb5-5300fc42688c',\n",
    "    'b796d363-71c7-4b64-979c-dad61f01118e',\n",
    "    'b87ae6a2-6d1c-4098-822c-731fabb7b06f',\n",
    "    'bc7dcbfa-4ad7-40a9-9589-baee33fc302c',\n",
    "    'c1e9c02b-db2b-4d07-8de9-56da390d08eb',\n",
    "    'daa9fda4-e99d-4f93-9579-3a39f6b57f47',\n",
    "    'e115a005-006a-437e-a940-9ef1e1c9b8df',\n",
    "      '009c27ab-ffec-40ca-9450-cc617dab6fff',\n",
    "    '2be2e188-9ead-4bd5-b9c3-57cf9bf726b5',\n",
    "    '3dfdc698-d563-4b20-b703-99fd735a154c',\n",
    "    '5a7146dc-3f27-4a97-b43c-07661ccf59fe',\n",
    "    '6d5ce2b7-1cf1-4102-8a4d-b5f793746a51',\n",
    "    '7cc621c5-684f-4890-8a4a-5c4c0c6df100',\n",
    "    '7f94420b-56dc-4618-8eb5-179207d552c6',\n",
    "    'b04d1fe4-2340-4bb8-ba91-f7446bfdde74',\n",
    "    'b9017855-7b03-446a-897a-dda592ace5ac',\n",
    "    'c08845f4-2265-42d7-8dc7-63ad844daf7d',\n",
    "    'c1f0dd44-72a8-4666-ac29-792524c4a147',\n",
    "    'c25ae9d5-4ab7-44ec-8a25-045946454578',\n",
    "    'c3e5b340-4653-488c-9563-2dafc921d6ec',\n",
    "    'c9dbf2bd-e75b-4c6c-9c8e-9328bf4add74',\n",
    "    'cbcaaf93-7cf6-44bd-b307-e7899c7f03c0',\n",
    "    'cf5c5d94-6044-48f7-bc17-67003defb9d6',\n",
    "    'da7465dc-8946-46bb-a2fa-09ff0aba06c4',\n",
    "    'e57b3899-a7e1-408d-94a2-785120f58d28',\n",
    "    'ffafad09-d69c-47a7-80ae-bda650e90c86',\n",
    "      '0aa2cb1b-c6d8-4a2a-b193-d0f552929265',\n",
    "    '0dd90605-b443-4daa-9dfc-166d65767554',\n",
    "    '203db28c-505f-4c62-a5eb-a24a86ed8d93',\n",
    "    '2a8b3cf6-8656-4e87-b8a2-5737d8e89efb',\n",
    "    '7dcd1a88-31e6-4fa8-93b8-4770e27a900c',\n",
    "    'b7e0f1eb-784d-4763-af49-5d2e2b67e3d0',\n",
    "    'e26d8c9e-af92-47f1-83c2-8935a6dd53a6',\n",
    "    'f7206435-bf62-47c4-bf70-9ced5d62701b',\n",
    "      '12d32cb6-feb6-459f-ac57-826ee6f09064',\n",
    "    '24a7e544-1d38-4e53-a4a8-640dc11eceb5',\n",
    "    '2da6744d-927f-4242-9816-d0afe1533ff5',\n",
    "    '314ee199-733b-4cef-9f1c-13c2a4e7ccca',\n",
    "    '59e6be55-e2d8-42bd-8a91-7c4f0d579a39',\n",
    "    '5a383b29-88a5-4156-bd06-e80eabbc6f6f',\n",
    "    '63d1acc6-c573-439d-a965-ce694736f34b',\n",
    "    '68a0166e-ea96-413b-ad22-7d77b7306c46',\n",
    "    '732f11b0-8148-4ac5-a02a-65f1b07ab795',\n",
    "    '8138cb91-7036-419d-8bd0-6c0ff097bdb6',\n",
    "    '8841bbaf-5519-4b5a-84cb-18484c21eb4f',\n",
    "    '9c878e7a-38fd-419f-8402-ba0ce5630282',\n",
    "    '9e3a6062-9364-4dbd-ac46-9c01a5b42d50',\n",
    "    'a3942bf0-79b4-45ac-ba5a-8e28bb6a6173',\n",
    "    'aa4f73ef-5513-4411-afa4-0218476f8cab',\n",
    "    'bc00c2ec-bee8-49e8-b2e5-453e73185416',\n",
    "    'd1f1b709-519b-4cb8-a06d-3ffa6311770d',\n",
    "    'd3468d57-5cdb-44ae-a984-830cf799fc59',\n",
    "    'db6a3aa8-9457-451f-8a11-8ad730bcb25a',\n",
    "    'f38c887d-56a3-42af-a560-9f982f6def77'\n",
    "            ]"
   ]
  },
  {
   "cell_type": "code",
   "execution_count": 39,
   "id": "de28cbd0",
   "metadata": {},
   "outputs": [],
   "source": [
    "from django.db.models import Q\n",
    "reps=Reporting.objects.filter(\n",
    "#     Q(lot__isnull=True) | Q(lot='') | Q(road__isnull=True),\n",
    "    found_at__year=2024,found_at__month__gte=2,\n",
    "                              occurrence_type__uuid__in=['dee78e00-4481-48cd-b2ad-96861c5aadf2'],\n",
    "                        company__name='Eixo SP').order_by('found_at__month')"
   ]
  },
  {
   "cell_type": "code",
   "execution_count": 40,
   "id": "60119dc6",
   "metadata": {},
   "outputs": [
    {
     "data": {
      "text/plain": [
       "376"
      ]
     },
     "execution_count": 40,
     "metadata": {},
     "output_type": "execute_result"
    }
   ],
   "source": [
    "reps.count()"
   ]
  },
  {
   "cell_type": "code",
   "execution_count": 38,
   "id": "7136c869",
   "metadata": {},
   "outputs": [
    {
     "data": {
      "text/plain": [
       "[(None, 0.0, 'EIXO-FISC-2024.00230', 2),\n",
       " (None, 0.0, 'EIXO-FISC-2024.00505', 4)]"
      ]
     },
     "execution_count": 38,
     "metadata": {},
     "output_type": "execute_result"
    }
   ],
   "source": [
    "[(a.road,a.km,a.number,a.found_at.month) for a in reps]"
   ]
  },
  {
   "cell_type": "code",
   "execution_count": 32,
   "id": "d2b81cd5",
   "metadata": {},
   "outputs": [
    {
     "ename": "NameError",
     "evalue": "name 'get' is not defined",
     "output_type": "error",
     "traceback": [
      "\u001b[0;31m---------------------------------------------------------------------------\u001b[0m",
      "\u001b[0;31mNameError\u001b[0m                                 Traceback (most recent call last)",
      "\u001b[0;32m/tmp/ipykernel_8173/864860524.py\u001b[0m in \u001b[0;36m<cell line: 1>\u001b[0;34m()\u001b[0m\n\u001b[0;32m----> 1\u001b[0;31m \u001b[0mget\u001b[0m\u001b[0;34m(\u001b[0m\u001b[0;34m\"metadata.csp.inspect_types\"\u001b[0m\u001b[0;34m,\u001b[0m \u001b[0mreps\u001b[0m\u001b[0;34m[\u001b[0m\u001b[0;36m0\u001b[0m\u001b[0;34m]\u001b[0m\u001b[0;34m.\u001b[0m\u001b[0mcompany\u001b[0m\u001b[0;34m,\u001b[0m \u001b[0mdefault\u001b[0m\u001b[0;34m=\u001b[0m\u001b[0;34m{\u001b[0m\u001b[0;34m}\u001b[0m\u001b[0;34m)\u001b[0m\u001b[0;34m\u001b[0m\u001b[0;34m\u001b[0m\u001b[0m\n\u001b[0m",
      "\u001b[0;31mNameError\u001b[0m: name 'get' is not defined"
     ]
    }
   ],
   "source": [
    "get(\"metadata.csp.inspect_types\", reps[0].company, default={})"
   ]
  },
  {
   "cell_type": "code",
   "execution_count": 47,
   "id": "df03e230",
   "metadata": {},
   "outputs": [
    {
     "data": {
      "application/vnd.jupyter.widget-view+json": {
       "model_id": "7952f48187bc4cab8d322bb19e5bdef5",
       "version_major": 2,
       "version_minor": 0
      },
      "text/plain": [
       "  0%|          | 0/376 [00:00<?, ?it/s]"
      ]
     },
     "metadata": {},
     "output_type": "display_data"
    }
   ],
   "source": [
    "from tqdm.notebook import tqdm\n",
    "from helpers.signals import DisableSignals\n",
    "from apps.reportings.signals import fill_lot_field\n",
    "for a in tqdm(reps):\n",
    "    with DisableSignals():\n",
    "        fill_lot_field(Reporting,a)\n",
    "        a.save()"
   ]
  },
  {
   "cell_type": "code",
   "execution_count": 49,
   "id": "a31eb728",
   "metadata": {},
   "outputs": [
    {
     "data": {
      "text/plain": [
       "['dee78e00-4481-48cd-b2ad-96861c5aadf2']"
      ]
     },
     "execution_count": 49,
     "metadata": {},
     "output_type": "execute_result"
    }
   ],
   "source": [
    "reps[0].company.metadata['csp']['inspect_types']"
   ]
  },
  {
   "cell_type": "code",
   "execution_count": null,
   "id": "96347bce",
   "metadata": {},
   "outputs": [],
   "source": [
    "reps=Reporting.objects.filter(\n",
    "    found_at__year=2024,\n",
    "    found_at__month__gte=2,\n",
    "    occurrence_type__uuid__in=['dee78e00-4481-48cd-b2ad-96861c5aadf2'],\n",
    "    company__name='Eixo SP')"
   ]
  },
  {
   "cell_type": "code",
   "execution_count": 9,
   "id": "297e3f69",
   "metadata": {},
   "outputs": [],
   "source": [
    "from helpers.apps.csp import *\n",
    "company=Company.objects.get(uuid='097fe80a-4917-4fa1-8207-2de35c113599')"
   ]
  },
  {
   "cell_type": "code",
   "execution_count": 14,
   "id": "519bc079",
   "metadata": {},
   "outputs": [],
   "source": [
    "params={'company_id':company.uuid,\n",
    "        'csp_type':2,'csp_year':2024,'csp_number':5.1}"
   ]
  },
  {
   "cell_type": "code",
   "execution_count": 15,
   "id": "0ddaeb87",
   "metadata": {},
   "outputs": [],
   "source": [
    "csp_base=CspBase(params)"
   ]
  },
  {
   "cell_type": "code",
   "execution_count": 16,
   "id": "3d2fd3e1",
   "metadata": {},
   "outputs": [
    {
     "ename": "AttributeError",
     "evalue": "'CspBase' object has no attribute 'company'",
     "output_type": "error",
     "traceback": [
      "\u001b[0;31m---------------------------------------------------------------------------\u001b[0m",
      "\u001b[0;31mAttributeError\u001b[0m                            Traceback (most recent call last)",
      "\u001b[0;32m/tmp/ipykernel_15665/3121355849.py\u001b[0m in \u001b[0;36m<cell line: 1>\u001b[0;34m()\u001b[0m\n\u001b[0;32m----> 1\u001b[0;31m \u001b[0mcsp_base\u001b[0m\u001b[0;34m.\u001b[0m\u001b[0mget_filters_reportings\u001b[0m\u001b[0;34m(\u001b[0m\u001b[0;34m)\u001b[0m\u001b[0;34m\u001b[0m\u001b[0;34m\u001b[0m\u001b[0m\n\u001b[0m",
      "\u001b[0;32m~/kartado-backend/helpers/apps/csp.py\u001b[0m in \u001b[0;36mget_filters_reportings\u001b[0;34m(self)\u001b[0m\n\u001b[1;32m    365\u001b[0m         \u001b[0mexclude\u001b[0m \u001b[0;34m=\u001b[0m \u001b[0;34m{\u001b[0m\u001b[0;34m}\u001b[0m\u001b[0;34m\u001b[0m\u001b[0;34m\u001b[0m\u001b[0m\n\u001b[1;32m    366\u001b[0m \u001b[0;34m\u001b[0m\u001b[0m\n\u001b[0;32m--> 367\u001b[0;31m         \u001b[0mfilters\u001b[0m\u001b[0;34m[\u001b[0m\u001b[0;34m\"company\"\u001b[0m\u001b[0;34m]\u001b[0m \u001b[0;34m=\u001b[0m \u001b[0mself\u001b[0m\u001b[0;34m.\u001b[0m\u001b[0mcompany\u001b[0m\u001b[0;34m\u001b[0m\u001b[0;34m\u001b[0m\u001b[0m\n\u001b[0m\u001b[1;32m    368\u001b[0m         \u001b[0mfilters\u001b[0m\u001b[0;34m[\u001b[0m\u001b[0;34m\"found_at__year\"\u001b[0m\u001b[0;34m]\u001b[0m \u001b[0;34m=\u001b[0m \u001b[0mself\u001b[0m\u001b[0;34m.\u001b[0m\u001b[0myear\u001b[0m\u001b[0;34m\u001b[0m\u001b[0;34m\u001b[0m\u001b[0m\n\u001b[1;32m    369\u001b[0m         \u001b[0;32mif\u001b[0m \u001b[0mself\u001b[0m\u001b[0;34m.\u001b[0m\u001b[0mall_types\u001b[0m\u001b[0;34m:\u001b[0m\u001b[0;34m\u001b[0m\u001b[0;34m\u001b[0m\u001b[0m\n",
      "\u001b[0;31mAttributeError\u001b[0m: 'CspBase' object has no attribute 'company'"
     ]
    }
   ],
   "source": [
    "csp_base.get_filters_reportings()"
   ]
  },
  {
   "cell_type": "code",
   "execution_count": null,
   "id": "221d220b",
   "metadata": {},
   "outputs": [],
   "source": [
    "Reporting.objects.get(uuid='ae40adc7-723c-4082-98d1-be5416bd5a4f')"
   ]
  },
  {
   "cell_type": "code",
   "execution_count": null,
   "id": "1696e9f0",
   "metadata": {},
   "outputs": [],
   "source": [
    "from helpers.apps.json_logic import apply_json_logic\n"
   ]
  },
  {
   "cell_type": "code",
   "execution_count": null,
   "id": "71471d07",
   "metadata": {},
   "outputs": [],
   "source": [
    "reps=Reporting.history.filter(created_at__year=2024,\n",
    "                         number='EIXO-DRE-2024.11550',\n",
    "                        company__name='Eixo SP')"
   ]
  },
  {
   "cell_type": "code",
   "execution_count": null,
   "id": "82fe8e00",
   "metadata": {},
   "outputs": [],
   "source": [
    "reps[0].uuid"
   ]
  },
  {
   "cell_type": "code",
   "execution_count": null,
   "id": "ac312ac3",
   "metadata": {},
   "outputs": [],
   "source": [
    "print('oi')"
   ]
  },
  {
   "cell_type": "code",
   "execution_count": null,
   "id": "6928045a",
   "metadata": {},
   "outputs": [],
   "source": [
    "for a in UserPermission.objects.all():\n",
    "    if a.permissions.get('mobileSync') or a.permissions.get('mobile_sync'):\n",
    "        print(a.companies.all().values_list('name',flat=True))\n",
    "        print(a.permissions.get('mobile_sync'))"
   ]
  },
  {
   "cell_type": "code",
   "execution_count": null,
   "id": "76aa0698",
   "metadata": {},
   "outputs": [],
   "source": [
    "a.permissions.get('mobileSync')"
   ]
  },
  {
   "cell_type": "code",
   "execution_count": null,
   "id": "ab696fab",
   "metadata": {},
   "outputs": [],
   "source": [
    "User.objects.get(username='luan.poletti').user_syncs.all().distinct('kind').order_by('kind')"
   ]
  },
  {
   "cell_type": "code",
   "execution_count": null,
   "id": "0fcd319b",
   "metadata": {},
   "outputs": [],
   "source": [
    "from fnc.mappings import get\n",
    "def calculate_end_km(obj, project_km=False):\n",
    "    use_direction = False\n",
    "\n",
    "    if project_km:\n",
    "        km = obj.project_km\n",
    "    else:\n",
    "        km = obj.km\n",
    "\n",
    "    if km is None:\n",
    "        return km\n",
    "\n",
    "    if \"use_direction\" in obj.company.metadata:\n",
    "        use_direction = obj.company.metadata[\"use_direction\"]\n",
    "\n",
    "    try:\n",
    "        length = obj.form_data[\"length\"]\n",
    "        if type(length) is str:\n",
    "            length = float(length)\n",
    "        length = length / 1000\n",
    "    except Exception:\n",
    "        length = 0\n",
    "\n",
    "    if use_direction:\n",
    "        falling_direction = get(\"metadata.direction.falling\", obj.road, default=\"0\")\n",
    "        rising_direction = get(\"metadata.direction.rising\", obj.road, default=\"1\")\n",
    "        print(obj.direction,rising_direction)\n",
    "        if obj.direction == falling_direction:\n",
    "            end_km = km - length\n",
    "        elif obj.direction == rising_direction:\n",
    "            end_km = km + length\n",
    "            print(end_km,km,length,type(length))\n",
    "        else:\n",
    "            end_km = km\n",
    "    else:\n",
    "        end_km = km + length\n",
    "\n",
    "    if end_km and end_km < 0:\n",
    "        end_km = 0\n",
    "\n",
    "    return end_km"
   ]
  },
  {
   "cell_type": "code",
   "execution_count": null,
   "id": "77cd7bf0",
   "metadata": {},
   "outputs": [],
   "source": [
    "rep = Reporting.objects.get(number='VPT-LV-2024.00793')"
   ]
  },
  {
   "cell_type": "code",
   "execution_count": null,
   "id": "c0b9dbfa",
   "metadata": {},
   "outputs": [],
   "source": [
    "calculate_end_km(rep)"
   ]
  },
  {
   "cell_type": "code",
   "execution_count": 11,
   "id": "0bd2e576",
   "metadata": {},
   "outputs": [
    {
     "data": {
      "text/plain": [
       "<QuerySet [<Firm: [52bf5f0c-7d75-4081-8616-06e0b43dee29: Arteris Litoral Sul - Conserva] 185eb74b-33b9-40e0-b080-344063800792: Lote 1 - Iasin>, <Firm: [52bf5f0c-7d75-4081-8616-06e0b43dee29: Arteris Litoral Sul - Conserva] 13123308-abba-4f99-a7dd-9c930484cf36: Lote 2 - Iasin>]>"
      ]
     },
     "execution_count": 11,
     "metadata": {},
     "output_type": "execute_result"
    }
   ],
   "source": [
    "firms=Firm.objects.filter(name__in=['Lote 2 - Iasin','Lote 1 - Iasin'],company__name='Arteris Litoral Sul - Conserva')\n",
    "firms"
   ]
  },
  {
   "cell_type": "code",
   "execution_count": 13,
   "id": "0a1a5949",
   "metadata": {},
   "outputs": [],
   "source": [
    "# Recursos de um contrato\n",
    "resources = Resource.objects.filter(\n",
    "                company__name='Arteris Litoral Sul - Conserva',\n",
    "                resource_service_orders__contract__extra_info__r_c_number='RQ 27673',\n",
    "#                 resource_service_orders__contract__unit_price_services__firms__in=firms,\n",
    "            ).distinct()"
   ]
  },
  {
   "cell_type": "code",
   "execution_count": 14,
   "id": "da9959a8",
   "metadata": {},
   "outputs": [
    {
     "data": {
      "text/plain": [
       "(20, {'total': 4031})"
      ]
     },
     "execution_count": 14,
     "metadata": {},
     "output_type": "execute_result"
    }
   ],
   "source": [
    "resources.count(),resources.aggregate(total=Count('resource_procedures'))"
   ]
  },
  {
   "cell_type": "code",
   "execution_count": 15,
   "id": "875e0491",
   "metadata": {},
   "outputs": [
    {
     "data": {
      "text/plain": [
       "<ContractService: [Arteris Litoral Sul - Conserva] ecd2eeaf-2760-486b-87e7-90e663ae4398: Sinalização Vertical 03/2023>"
      ]
     },
     "execution_count": 15,
     "metadata": {},
     "output_type": "execute_result"
    }
   ],
   "source": [
    "ContractService.objects.get(uuid='ecd2eeaf-2760-486b-87e7-90e663ae4398')"
   ]
  },
  {
   "cell_type": "code",
   "execution_count": 16,
   "id": "545a7c36",
   "metadata": {},
   "outputs": [
    {
     "data": {
      "text/plain": [
       "<Contract: [] 55d28a4b-79c6-4f14-b9e4-c5c7fc5644ab: Sinalização Vertical - Fornecimento e Implantação - 2023/2026 (2023-03-10 - 2026-03-13)>"
      ]
     },
     "execution_count": 16,
     "metadata": {},
     "output_type": "execute_result"
    }
   ],
   "source": [
    "Contract.objects.get(uuid='55d28a4b-79c6-4f14-b9e4-c5c7fc5644ab')"
   ]
  },
  {
   "cell_type": "code",
   "execution_count": 12,
   "id": "aeb7abb4",
   "metadata": {},
   "outputs": [],
   "source": [
    "user=User.objects.get(username='pamela.constante')"
   ]
  },
  {
   "cell_type": "code",
   "execution_count": 26,
   "id": "3a26e773",
   "metadata": {},
   "outputs": [],
   "source": [
    "prs=ProcedureResource.objects.filter(resource__company__name='Arteris Litoral Sul - Conserva',\n",
    "                                    service_order_resource__contract__extra_info__r_c_number='RQ 27673',\n",
    "                                     approval_status='APPROVED_APPROVAL',\n",
    "                                     measurement_bulletin=None,\n",
    "#                                      resource__in=resources\n",
    "                                )"
   ]
  },
  {
   "cell_type": "code",
   "execution_count": 27,
   "id": "a85fbd7c",
   "metadata": {
    "scrolled": true
   },
   "outputs": [
    {
     "data": {
      "text/plain": [
       "(82,\n",
       " {'_state': <django.db.models.base.ModelState at 0x7b4c6b1325b0>,\n",
       "  'uuid': UUID('e7637a52-955d-4fc7-a19b-3a0eda233c4c'),\n",
       "  'procedure_id': None,\n",
       "  'service_order_id': None,\n",
       "  'resource_id': UUID('13e639fb-2ea6-4fe9-b855-2694ed8bb36e'),\n",
       "  'service_order_resource_id': UUID('d1e97b5f-8a40-4639-b6e1-7f2386bc4239'),\n",
       "  'created_by_id': UUID('0c94733a-bac5-491c-8e0d-6f0637893dc1'),\n",
       "  'amount': 25.05626923,\n",
       "  'unit_price': 260.0,\n",
       "  'total_price': 6514.6299998,\n",
       "  'creation_date': datetime.datetime(2024, 4, 1, 13, 54, 59, 234573, tzinfo=<UTC>),\n",
       "  'approval_status': 'APPROVED_APPROVAL',\n",
       "  'approval_date': datetime.datetime(2024, 4, 23, 18, 57, 26, 940338, tzinfo=<UTC>),\n",
       "  'approved_by_id': UUID('0c94733a-bac5-491c-8e0d-6f0637893dc1'),\n",
       "  'measurement_bulletin_id': None,\n",
       "  'firm_id': None,\n",
       "  'reporting_id': UUID('9696e3b8-fae1-4e0d-bf90-06e81b576929'),\n",
       "  '_fieldsignals_originals': {(135568632614720,\n",
       "    135568166976816): {'uuid': UUID('e7637a52-955d-4fc7-a19b-3a0eda233c4c'), 'resource': UUID('13e639fb-2ea6-4fe9-b855-2694ed8bb36e'), 'service_order_resource': UUID('d1e97b5f-8a40-4639-b6e1-7f2386bc4239'), 'created_by': UUID('0c94733a-bac5-491c-8e0d-6f0637893dc1'), 'amount': 25.05626923, 'unit_price': 260.0, 'total_price': 6514.6299998, 'creation_date': datetime.datetime(2024, 4, 1, 13, 54, 59, 234573, tzinfo=<UTC>), 'approval_status': 'APPROVED_APPROVAL', 'approval_date': datetime.datetime(2024, 4, 23, 18, 57, 26, 940338, tzinfo=<UTC>), 'approved_by': UUID('0c94733a-bac5-491c-8e0d-6f0637893dc1'), 'reporting': UUID('9696e3b8-fae1-4e0d-bf90-06e81b576929')},\n",
       "   (135568632614816,\n",
       "    135568667170704): {'uuid': UUID('e7637a52-955d-4fc7-a19b-3a0eda233c4c'), 'resource': UUID('13e639fb-2ea6-4fe9-b855-2694ed8bb36e'), 'service_order_resource': UUID('d1e97b5f-8a40-4639-b6e1-7f2386bc4239'), 'created_by': UUID('0c94733a-bac5-491c-8e0d-6f0637893dc1'), 'amount': 25.05626923, 'unit_price': 260.0, 'total_price': 6514.6299998, 'creation_date': datetime.datetime(2024, 4, 1, 13, 54, 59, 234573, tzinfo=<UTC>), 'approval_status': 'APPROVED_APPROVAL', 'approval_date': datetime.datetime(2024, 4, 23, 18, 57, 26, 940338, tzinfo=<UTC>), 'approved_by': UUID('0c94733a-bac5-491c-8e0d-6f0637893dc1'), 'reporting': UUID('9696e3b8-fae1-4e0d-bf90-06e81b576929')}}})"
      ]
     },
     "execution_count": 27,
     "metadata": {},
     "output_type": "execute_result"
    }
   ],
   "source": [
    "prs.count(),prs[0].__dict__"
   ]
  },
  {
   "cell_type": "code",
   "execution_count": 23,
   "id": "830fce83",
   "metadata": {},
   "outputs": [
    {
     "name": "stdout",
     "output_type": "stream",
     "text": [
      "APPROVED_APPROVAL Aprovado ALS-2024.01715\n",
      "APPROVED_APPROVAL Aprovado ALS-2024.01713\n",
      "APPROVED_APPROVAL Criado ALS-2023.11633\n",
      "APPROVED_APPROVAL Aprovado ALS-2024.01310\n",
      "APPROVED_APPROVAL Aprovado ALS-2024.01310\n",
      "APPROVED_APPROVAL Aprovado ALS-2024.01343\n",
      "APPROVED_APPROVAL Aprovado ALS-2024.01310\n",
      "APPROVED_APPROVAL Aprovado ALS-2024.01310\n",
      "APPROVED_APPROVAL Aprovado ALS-2024.02258\n",
      "APPROVED_APPROVAL Aprovado ALS-2024.02720\n",
      "APPROVED_APPROVAL Aprovado ALS-2024.03108\n",
      "APPROVED_APPROVAL Aprovado ALS-2024.03107\n",
      "APPROVED_APPROVAL Aprovado ALS-2024.03105\n",
      "APPROVED_APPROVAL Aprovado ALS-2024.03104\n",
      "APPROVED_APPROVAL Aprovado ALS-2024.03103\n",
      "APPROVED_APPROVAL Aprovado ALS-2024.03102\n",
      "APPROVED_APPROVAL Aprovado ALS-2024.03101\n",
      "APPROVED_APPROVAL Aprovado ALS-2024.02229\n",
      "APPROVED_APPROVAL Aprovado ALS-2024.02386\n",
      "APPROVED_APPROVAL Aprovado ALS-2024.02393\n",
      "APPROVED_APPROVAL Aprovado ALS-2024.02492\n",
      "APPROVED_APPROVAL Aprovado ALS-2024.02485\n",
      "APPROVED_APPROVAL Aprovado ALS-2024.02484\n",
      "APPROVED_APPROVAL Aprovado ALS-2024.02481\n",
      "APPROVED_APPROVAL Aprovado ALS-2024.02479\n",
      "APPROVED_APPROVAL Aprovado ALS-2024.02482\n",
      "APPROVED_APPROVAL Aprovado ALS-2024.02478\n",
      "APPROVED_APPROVAL Aprovado ALS-2024.02477\n",
      "APPROVED_APPROVAL Aprovado ALS-2024.01895\n",
      "APPROVED_APPROVAL Aprovado ALS-2024.01893\n",
      "APPROVED_APPROVAL Aprovado ALS-2024.01395\n",
      "APPROVED_APPROVAL Aprovado ALS-2024.02723\n",
      "APPROVED_APPROVAL Aprovado ALS-2024.02476\n",
      "APPROVED_APPROVAL Aprovado ALS-2024.01863\n",
      "APPROVED_APPROVAL Aprovado ALS-2024.02718\n",
      "APPROVED_APPROVAL Aprovado ALS-2024.02724\n",
      "APPROVED_APPROVAL Aprovado ALS-2024.03106\n",
      "APPROVED_APPROVAL Aprovado ALS-2024.02066\n",
      "APPROVED_APPROVAL Aprovado ALS-2024.02215\n",
      "APPROVED_APPROVAL Aprovado ALS-2024.02231\n",
      "APPROVED_APPROVAL Aprovado ALS-2024.02321\n",
      "APPROVED_APPROVAL Aprovado ALS-2024.02495\n",
      "APPROVED_APPROVAL Aprovado ALS-2024.02494\n",
      "APPROVED_APPROVAL Aprovado ALS-2024.02487\n",
      "APPROVED_APPROVAL Aprovado ALS-2024.01894\n",
      "APPROVED_APPROVAL Aprovado ALS-2024.01858\n",
      "APPROVED_APPROVAL Aprovado ALS-2024.01859\n",
      "APPROVED_APPROVAL Aprovado ALS-2024.01862\n",
      "APPROVED_APPROVAL Aprovado ALS-2024.01359\n",
      "APPROVED_APPROVAL Aprovado ALS-2024.00978\n",
      "APPROVED_APPROVAL Aprovado ALS-2024.03317\n",
      "APPROVED_APPROVAL Aprovado ALS-2024.03281\n",
      "APPROVED_APPROVAL Aprovado ALS-2024.03390\n",
      "APPROVED_APPROVAL Aprovado ALS-2024.02934\n",
      "APPROVED_APPROVAL Aprovado ALS-2024.02930\n",
      "APPROVED_APPROVAL Aprovado ALS-2024.02265\n",
      "APPROVED_APPROVAL Aprovado ALS-2024.02804\n",
      "APPROVED_APPROVAL Aprovado ALS-2024.01499\n",
      "APPROVED_APPROVAL Aprovado ALS-2024.02226\n",
      "APPROVED_APPROVAL Aprovado ALS-2024.02327\n",
      "APPROVED_APPROVAL Aprovado ALS-2024.02385\n",
      "APPROVED_APPROVAL Aprovado ALS-2024.02493\n",
      "APPROVED_APPROVAL Aprovado ALS-2024.02488\n",
      "APPROVED_APPROVAL Aprovado ALS-2024.02490\n",
      "APPROVED_APPROVAL Aprovado ALS-2024.02491\n",
      "APPROVED_APPROVAL Aprovado ALS-2024.02486\n",
      "APPROVED_APPROVAL Aprovado ALS-2024.02483\n",
      "APPROVED_APPROVAL Aprovado ALS-2024.01896\n",
      "APPROVED_APPROVAL Aprovado ALS-2024.01892\n",
      "APPROVED_APPROVAL Aprovado ALS-2024.01891\n",
      "APPROVED_APPROVAL Aprovado ALS-2024.01890\n",
      "APPROVED_APPROVAL Aprovado ALS-2024.01853\n",
      "APPROVED_APPROVAL Aprovado ALS-2024.01860\n",
      "APPROVED_APPROVAL Aprovado ALS-2024.01861\n",
      "APPROVED_APPROVAL Aprovado ALS-2024.01686\n",
      "APPROVED_APPROVAL Aprovado ALS-2024.01694\n",
      "APPROVED_APPROVAL Aprovado ALS-2024.01344\n"
     ]
    }
   ],
   "source": [
    "for a in prs:\n",
    "    print(a.approval_status,a.reporting.approval_step.name,a.reporting.number)"
   ]
  },
  {
   "cell_type": "code",
   "execution_count": null,
   "id": "52c399c2",
   "metadata": {
    "scrolled": true
   },
   "outputs": [],
   "source": [
    "ProcedureResource._meta.fields"
   ]
  },
  {
   "cell_type": "code",
   "execution_count": null,
   "id": "8fd15c7e",
   "metadata": {},
   "outputs": [],
   "source": [
    "ServiceOrderResource._meta.fields"
   ]
  },
  {
   "cell_type": "code",
   "execution_count": null,
   "id": "5494cbe6",
   "metadata": {},
   "outputs": [],
   "source": [
    "dado=set()\n",
    "for occ in OccurrenceType.objects.all():\n",
    "    if occ.form_fields.get('fields'):\n",
    "        for a in occ.form_fields['fields']:\n",
    "            if '_' not in a.keys():\n",
    "                if a.get('dataType') not in ['string','textArea','float','number','select','selectMultiple']:\n",
    "                    dado.add(a.get('dataType'))"
   ]
  },
  {
   "cell_type": "code",
   "execution_count": null,
   "id": "c5eb33f6",
   "metadata": {},
   "outputs": [],
   "source": [
    "dado"
   ]
  },
  {
   "cell_type": "code",
   "execution_count": 4,
   "id": "d7570261",
   "metadata": {},
   "outputs": [],
   "source": [
    "from helpers.apps.json_logic import apply_json_logic"
   ]
  },
  {
   "cell_type": "code",
   "execution_count": 21,
   "id": "7f0e333d",
   "metadata": {},
   "outputs": [
    {
     "data": {
      "text/plain": [
       "'1'"
      ]
     },
     "execution_count": 21,
     "metadata": {},
     "output_type": "execute_result"
    }
   ],
   "source": [
    "Road.objects.get(id=405).lot_logic['if'][1]"
   ]
  },
  {
   "cell_type": "code",
   "execution_count": 10,
   "id": "a1a309e4",
   "metadata": {},
   "outputs": [],
   "source": [
    "lot = apply_json_logic(Road.objects.get(id=405).lot_logic, {\"data\": {\"km\": 247}})"
   ]
  },
  {
   "cell_type": "code",
   "execution_count": 13,
   "id": "67d19c4d",
   "metadata": {},
   "outputs": [
    {
     "data": {
      "text/plain": [
       "False"
      ]
     },
     "execution_count": 13,
     "metadata": {},
     "output_type": "execute_result"
    }
   ],
   "source": []
  },
  {
   "cell_type": "code",
   "execution_count": 27,
   "id": "bab0e493",
   "metadata": {},
   "outputs": [],
   "source": [
    "roads=Road.objects.filter(company__name='Eixo SP').order_by('name')\n",
    "company = Company.objects.get(name='Eixo SP')"
   ]
  },
  {
   "cell_type": "code",
   "execution_count": 28,
   "id": "fc5344a8",
   "metadata": {},
   "outputs": [
    {
     "data": {
      "text/plain": [
       "[{'name': 'São Pedro', 'value': '1'},\n",
       " {'name': 'Itirapina', 'value': '2'},\n",
       " {'name': 'Marília', 'value': '3'},\n",
       " {'name': 'Martinópolis', 'value': '4'}]"
      ]
     },
     "execution_count": 28,
     "metadata": {},
     "output_type": "execute_result"
    }
   ],
   "source": [
    "lotes_company = company.custom_options['reporting']['fields']['lot']['selectOptions']['options']\n",
    "lotes_company"
   ]
  },
  {
   "cell_type": "code",
   "execution_count": 38,
   "id": "af24d0a6",
   "metadata": {},
   "outputs": [
    {
     "name": "stdout",
     "output_type": "stream",
     "text": [
      "SP-191 ['São Pedro']\n",
      "SP-191 ['São Pedro']\n",
      "SP-197 ['São Pedro']\n",
      "SP-225 ['Itirapina']\n",
      "SP-261 ['Itirapina']\n",
      "SP-284 ['Martinópolis']\n",
      "SP-284 ['Martinópolis']\n",
      "SP-293 ['Marília']\n",
      "SP-294 ['Martinópolis', 'Marília']\n",
      "SP-294 ['Martinópolis', 'Marília']\n",
      "SP-294 ['Martinópolis', 'Marília']\n",
      "SP-304 ['São Pedro']\n",
      "SP-304 ['São Pedro']\n",
      "SP-304 ['São Pedro']\n",
      "SP-308 ['São Pedro']\n",
      "SP-310 ['Itirapina']\n",
      "SP-331 ['Marília']\n",
      "SP-425 ['Martinópolis']\n",
      "SP-425 ['Martinópolis']\n",
      "SPA-005/197 ['São Pedro']\n",
      "SPA-006/293 ['Marília']\n",
      "SPA-017/293 ['Marília']\n",
      "SPA-130/225 ['Itirapina']\n",
      "SPA-159/225 ['Itirapina']\n",
      "SPA-160/225 ['Itirapina']\n",
      "SPA-193/310 ['Itirapina']\n",
      "SPA-195/225 ['Itirapina']\n",
      "SPA-195/304 ['São Pedro']\n",
      "SPA-195/331 ['Marília']\n",
      "SPA-196/331 ['Marília']\n",
      "SPA-198/304 ['São Pedro']\n",
      "SPA-200/310 ['Itirapina']\n",
      "SPA-200/310 ['Itirapina']\n",
      "SPA-201/304 ['São Pedro']\n",
      "SPA-223/304 ['São Pedro']\n",
      "SPA-227/304 ['São Pedro']\n",
      "SPA-228/225 ['Itirapina']\n",
      "SPA-360/294 ['Marília']\n",
      "SPA-402/294 ['Marília']\n",
      "SPA-420/294 ['Marília']\n",
      "SPA-431/425 ['Martinópolis']\n",
      "SPA-437/425 ['Martinópolis']\n",
      "SPA-475/284 ['Martinópolis']\n",
      "SPA-498/284 ['Martinópolis']\n",
      "SPA-498/294 ['Marília']\n",
      "SPA-504/284 ['Martinópolis']\n",
      "SPA-511/294 ['Marília']\n",
      "SPA-517/284 ['Martinópolis']\n",
      "SPA-570/294 ['Martinópolis']\n",
      "SPA-570/294 ['Martinópolis']\n",
      "SPA-571/294 ['Martinópolis']\n",
      "SPA-578/294 ['Martinópolis']\n",
      "SPA-585/294 ['Martinópolis']\n",
      "SPA-592/294 ['Martinópolis']\n",
      "SPA-605/294 ['Martinópolis']\n",
      "SPA-616/294 ['Martinópolis']\n",
      "SPA-617/294 ['Martinópolis']\n",
      "SPA-627/294 ['Martinópolis']\n",
      "SPA-658/294 ['Martinópolis']\n",
      "SPA-683/294 ['Martinópolis']\n",
      "SPI-083/191 ['São Pedro']\n",
      "SPI-194/308 ['São Pedro']\n"
     ]
    }
   ],
   "source": [
    "road_lotes={}\n",
    "for road in roads:\n",
    "    road_lotes[road.name]=set()\n",
    "    if road.lot_logic:\n",
    "        for i in range(1,10,2):\n",
    "            try:\n",
    "                valor=road.lot_logic['if'][int(i)]\n",
    "                name_lote=next(a['name'] for a in lotes_company if valor == a['value'])\n",
    "                \n",
    "                road_lotes[road.name].add(name_lote)\n",
    "            except:\n",
    "                break\n",
    "    lotes = list(road_lotes[road.name])\n",
    "    print(road.name,lotes)"
   ]
  },
  {
   "cell_type": "code",
   "execution_count": null,
   "id": "35e89957",
   "metadata": {},
   "outputs": [],
   "source": [
    "dados={}\n",
    "for road in roads:\n",
    "    start = road.marks['0']['km']\n",
    "    end = road.marks[list(road.marks.keys())[-1]]['km']\n",
    "    dados.\n",
    "#     with pd.ExcelWriter(filename+'.xlsx', mode='a',if_sheet_exists='replace') as writer:\n",
    "#         df2.to_excel(writer,sheet_name=sheetname,na_rep=\"-\")"
   ]
  },
  {
   "cell_type": "code",
   "execution_count": 36,
   "id": "4723d747",
   "metadata": {
    "scrolled": true
   },
   "outputs": [
    {
     "data": {
      "text/plain": [
       "{'SP-191': ['São Pedro', 'São Pedro'],\n",
       " 'SP-197': ['São Pedro'],\n",
       " 'SP-225': ['Itirapina'],\n",
       " 'SP-261': ['Itirapina'],\n",
       " 'SP-284': ['Martinópolis'],\n",
       " 'SP-293': ['Marília'],\n",
       " 'SP-294': ['Marília', 'Marília', 'Martinópolis'],\n",
       " 'SP-304': ['São Pedro'],\n",
       " 'SP-308': ['São Pedro'],\n",
       " 'SP-310': ['Itirapina'],\n",
       " 'SP-331': ['Marília'],\n",
       " 'SP-425': ['Martinópolis', 'Martinópolis'],\n",
       " 'SPA-005/197': ['São Pedro'],\n",
       " 'SPA-006/293': ['Marília'],\n",
       " 'SPA-017/293': ['Marília'],\n",
       " 'SPA-130/225': ['Itirapina'],\n",
       " 'SPA-159/225': ['Itirapina'],\n",
       " 'SPA-160/225': ['Itirapina'],\n",
       " 'SPA-193/310': ['Itirapina'],\n",
       " 'SPA-195/225': ['Itirapina'],\n",
       " 'SPA-195/304': ['São Pedro'],\n",
       " 'SPA-195/331': ['Marília'],\n",
       " 'SPA-196/331': ['Marília'],\n",
       " 'SPA-198/304': ['São Pedro'],\n",
       " 'SPA-200/310': ['Itirapina'],\n",
       " 'SPA-201/304': ['São Pedro'],\n",
       " 'SPA-223/304': ['São Pedro'],\n",
       " 'SPA-227/304': ['São Pedro'],\n",
       " 'SPA-228/225': ['Itirapina'],\n",
       " 'SPA-360/294': ['Marília'],\n",
       " 'SPA-402/294': ['Marília'],\n",
       " 'SPA-420/294': ['Marília'],\n",
       " 'SPA-431/425': ['Martinópolis'],\n",
       " 'SPA-437/425': ['Martinópolis'],\n",
       " 'SPA-475/284': ['Martinópolis'],\n",
       " 'SPA-498/284': ['Martinópolis', 'Martinópolis'],\n",
       " 'SPA-498/294': ['Marília'],\n",
       " 'SPA-504/284': ['Martinópolis'],\n",
       " 'SPA-511/294': ['Marília'],\n",
       " 'SPA-517/284': ['Martinópolis'],\n",
       " 'SPA-570/294': ['Martinópolis', 'Martinópolis'],\n",
       " 'SPA-571/294': ['Martinópolis'],\n",
       " 'SPA-578/294': ['Martinópolis'],\n",
       " 'SPA-585/294': ['Martinópolis'],\n",
       " 'SPA-592/294': ['Martinópolis'],\n",
       " 'SPA-605/294': ['Martinópolis'],\n",
       " 'SPA-616/294': ['Martinópolis'],\n",
       " 'SPA-617/294': ['Martinópolis'],\n",
       " 'SPA-627/294': ['Martinópolis'],\n",
       " 'SPA-658/294': ['Martinópolis'],\n",
       " 'SPA-683/294': ['Martinópolis'],\n",
       " 'SPI-083/191': ['São Pedro'],\n",
       " 'SPI-194/308': ['São Pedro']}"
      ]
     },
     "execution_count": 36,
     "metadata": {},
     "output_type": "execute_result"
    }
   ],
   "source": [
    "road_lotes"
   ]
  },
  {
   "cell_type": "code",
   "execution_count": 7,
   "id": "2b3ece31",
   "metadata": {},
   "outputs": [
    {
     "data": {
      "text/plain": [
       "<QuerySet [<MobileSync: Demo Concessionárias: FULL_SYNC_START - luan.poletti - 05/04/2024, 18:55:27>, <MobileSync: Demo Concessionárias: USER_FULL_SYNC_DATA - luan.poletti - 29/01/2024, 15:14:15>, <MobileSync: Demo Concessionárias: USER_SYNC_DATA - luan.poletti - 09/01/2023, 19:13:05>]>"
      ]
     },
     "execution_count": 7,
     "metadata": {},
     "output_type": "execute_result"
    }
   ],
   "source": [
    "User.objects.get(username='luan.poletti').user_syncs.all().order_by('kind').distinct('kind')"
   ]
  },
  {
   "cell_type": "code",
   "execution_count": 5,
   "id": "7d849ec7",
   "metadata": {},
   "outputs": [
    {
     "data": {
      "text/plain": [
       "(<django.db.models.fields.UUIDField: uuid>,\n",
       " <django.db.models.fields.related.ForeignKey: company>,\n",
       " <django.db.models.fields.related.ForeignKey: created_by>,\n",
       " <django.db.models.fields.DateTimeField: created_at>,\n",
       " <django.db.models.fields.TextField: kind>,\n",
       " <django.db.models.fields.BooleanField: done>,\n",
       " <django.db.models.fields.BooleanField: email_sent>)"
      ]
     },
     "execution_count": 5,
     "metadata": {},
     "output_type": "execute_result"
    }
   ],
   "source": [
    "MobileSync._meta.fields"
   ]
  },
  {
   "cell_type": "code",
   "execution_count": 5,
   "id": "086dfa08",
   "metadata": {},
   "outputs": [
    {
     "data": {
      "text/plain": [
       "{'_state': <django.db.models.base.ModelState at 0x79541a5cba30>,\n",
       " 'uuid': UUID('07c1567b-fac1-432d-b88e-3e475e6617ab'),\n",
       " 'company_id': UUID('097fe80a-4917-4fa1-8207-2de35c113599'),\n",
       " 'created_by_id': UUID('2dfe9e17-7b37-4f83-96e3-1ce4311052cb'),\n",
       " 'created_at': datetime.datetime(2024, 5, 8, 9, 39, 31, 390888, tzinfo=<UTC>),\n",
       " 'kind': 'USER_SYNC_DATA',\n",
       " 'done': True,\n",
       " 'email_sent': True}"
      ]
     },
     "execution_count": 5,
     "metadata": {},
     "output_type": "execute_result"
    }
   ],
   "source": [
    "MobileSync.objects.get(created_by__username='07c1567b-fac1-432d-b88e-3e475e6617ab')"
   ]
  },
  {
   "cell_type": "code",
   "execution_count": 13,
   "id": "f4e6a57a",
   "metadata": {},
   "outputs": [],
   "source": [
    "for a in OccurrenceType.objects.filter(company__name='Nova Rota do Oeste - Obras'):\n",
    "    for field in a.form_fields['fields']:\n",
    "        if 'Massa aplicada' in field['displayName']:\n",
    "            try:\n",
    "                t=field.pop('disableIf')\n",
    "            except:\n",
    "                pass\n",
    "            else:\n",
    "#                 a.save()"
   ]
  },
  {
   "cell_type": "code",
   "execution_count": 28,
   "id": "f5fafb0e",
   "metadata": {},
   "outputs": [
    {
     "name": "stdout",
     "output_type": "stream",
     "text": [
      "apiName  |  displayName  |  Classe\n",
      "length  |  Medida (mm)  |  Pluviômetro\n"
     ]
    }
   ],
   "source": [
    "print('apiName', ' | ','displayName',' | ',\"Classe\")\n",
    "for a in OccurrenceType.objects.filter(company__name='Arteris Via Paulista'):\n",
    "#     changed=False\n",
    "    for field in a.form_fields['fields']:\n",
    "        if 'medida' in field['displayName'].lower():\n",
    "            print(field['apiName'],' | ',field['displayName'],' | ',a.name)\n",
    "#         if 'amountLenght' == field['apiName']:\n",
    "#             field['displayName'] = 'Comprimento drenagem (m)'\n",
    "#             changed=True\n",
    "#         if 'downstreamLength' == field['apiName']:\n",
    "#             field['displayName'] = 'Comprimento drenagem profunda (m)'\n",
    "#             changed=True\n",
    "#         if 'COMPRIMENTO' == field['displayName']:\n",
    "#             field['displayName'] = 'Comprimento (m)'\n",
    "#             changed=True\n",
    "#     if changed:\n",
    "#         a.save()    \n",
    "#             print(field['apiName'],' | ',field['displayName'],a.name)"
   ]
  },
  {
   "cell_type": "code",
   "execution_count": 30,
   "id": "f57caeda",
   "metadata": {
    "scrolled": true
   },
   "outputs": [
    {
     "name": "stdout",
     "output_type": "stream",
     "text": [
      "Searching KM on direction...\n",
      "Found KM on Road 45: SP-255\n",
      "Searching KM on direction...\n",
      "Searching KM without direction...\n",
      "Found KM on Road 353: SP-255\n",
      "Searching KM on direction...\n",
      "Searching KM without direction...\n",
      "Found KM on Road 354: SP-255\n",
      "Searching KM on direction...\n",
      "Searching KM without direction...\n",
      "Found KM on Road 354: SP-255\n",
      "Searching KM on direction...\n",
      "Searching KM without direction...\n",
      "Found KM on Road 354: SP-255\n",
      "Searching KM on direction...\n",
      "Searching KM without direction...\n",
      "Found KM on Road 42: SP-249\n",
      "Searching KM on direction...\n",
      "Searching KM without direction...\n",
      "Found KM on Road 42: SP-249\n",
      "Searching KM on direction...\n",
      "Searching KM without direction...\n",
      "Found KM on Road 355: SP-255\n",
      "Searching KM on direction...\n",
      "Searching KM without direction...\n",
      "Found KM on Road 354: SP-255\n",
      "Searching KM on direction...\n",
      "Searching KM without direction...\n",
      "Found KM on Road 353: SP-255\n",
      "Searching KM on direction...\n",
      "Searching KM without direction...\n",
      "Found KM on Road 355: SP-255\n",
      "Searching KM on direction...\n",
      "Searching KM without direction...\n",
      "Found KM on Road 354: SP-255\n",
      "Searching KM on direction...\n",
      "Searching KM without direction...\n",
      "Found KM on Road 354: SP-255\n",
      "Searching KM on direction...\n",
      "Found KM on Road 353: SP-255\n",
      "Searching KM on direction...\n",
      "Searching KM without direction...\n",
      "Found KM on Road 355: SP-255\n",
      "Searching KM on direction...\n",
      "Found KM on Road 353: SP-255\n",
      "Searching KM on direction...\n",
      "Searching KM without direction...\n",
      "Found KM on Road 354: SP-255\n",
      "Searching KM on direction...\n",
      "Found KM on Road 353: SP-255\n",
      "Searching KM on direction...\n",
      "Searching KM without direction...\n",
      "Found KM on Road 354: SP-255\n",
      "Searching KM on direction...\n",
      "Found KM on Road 353: SP-255\n",
      "Searching KM on direction...\n",
      "Searching KM without direction...\n",
      "Found KM on Road 354: SP-255\n",
      "Searching KM on direction...\n",
      "Found KM on Road 353: SP-255\n",
      "Searching KM on direction...\n",
      "Searching KM without direction...\n",
      "Found KM on Road 354: SP-255\n",
      "Searching KM on direction...\n",
      "Searching KM without direction...\n",
      "Found KM on Road 354: SP-255\n",
      "Searching KM on direction...\n",
      "Searching KM without direction...\n",
      "Found KM on Road 354: SP-255\n",
      "Searching KM on direction...\n",
      "Searching KM without direction...\n",
      "Found KM on Road 354: SP-255\n",
      "Searching KM on direction...\n",
      "Searching KM without direction...\n",
      "Found KM on Road 354: SP-255\n",
      "Searching KM on direction...\n",
      "Searching KM without direction...\n",
      "Found KM on Road 42: SP-249\n",
      "Searching KM on direction...\n",
      "Searching KM without direction...\n",
      "Found KM on Road 42: SP-249\n",
      "Searching KM on direction...\n",
      "Searching KM without direction...\n",
      "Found KM on Road 355: SP-255\n",
      "Searching KM on direction...\n",
      "Found KM on Road 353: SP-255\n",
      "Searching KM on direction...\n",
      "Found KM on Road 353: SP-255\n",
      "Searching KM on direction...\n",
      "Found KM on Road 353: SP-255\n",
      "Searching KM on direction...\n",
      "Found KM on Road 353: SP-255\n",
      "Searching KM on direction...\n",
      "Searching KM without direction...\n",
      "Found KM on Road 355: SP-255\n",
      "Searching KM on direction...\n",
      "Searching KM without direction...\n",
      "Found KM on Road 354: SP-255\n",
      "Searching KM on direction...\n",
      "Found KM on Road 353: SP-255\n",
      "Searching KM on direction...\n",
      "Found KM on Road 353: SP-255\n",
      "Searching KM on direction...\n",
      "Found KM on Road 353: SP-255\n",
      "Searching KM on direction...\n",
      "Searching KM without direction...\n",
      "Found KM on Road 354: SP-255\n",
      "Searching KM on direction...\n",
      "Searching KM without direction...\n",
      "Found KM on Road 355: SP-255\n",
      "Searching KM on direction...\n",
      "Searching KM without direction...\n",
      "Found KM on Road 42: SP-249\n",
      "Searching KM on direction...\n",
      "Searching KM without direction...\n",
      "Found KM on Road 354: SP-255\n",
      "Searching KM on direction...\n",
      "Searching KM without direction...\n",
      "Found KM on Road 354: SP-255\n",
      "Searching KM on direction...\n",
      "Searching KM without direction...\n",
      "Found KM on Road 354: SP-255\n",
      "Searching KM on direction...\n",
      "Searching KM without direction...\n",
      "Found KM on Road 42: SP-249\n",
      "Searching KM on direction...\n",
      "Searching KM without direction...\n",
      "Found KM on Road 355: SP-255\n",
      "Searching KM on direction...\n",
      "Found KM on Road 45: SP-255\n",
      "Searching KM on direction...\n",
      "Searching KM without direction...\n",
      "Found KM on Road 354: SP-255\n",
      "Searching KM on direction...\n",
      "Searching KM without direction...\n",
      "Found KM on Road 354: SP-255\n",
      "Searching KM on direction...\n",
      "Searching KM without direction...\n",
      "Found KM on Road 354: SP-255\n",
      "Searching KM on direction...\n",
      "Searching KM without direction...\n",
      "Found KM on Road 354: SP-255\n",
      "Searching KM on direction...\n",
      "Searching KM without direction...\n",
      "Found KM on Road 42: SP-249\n",
      "Searching KM on direction...\n",
      "Searching KM without direction...\n",
      "Found KM on Road 42: SP-249\n",
      "Searching KM on direction...\n",
      "Searching KM without direction...\n",
      "Found KM on Road 355: SP-255\n",
      "Searching KM on direction...\n",
      "Searching KM without direction...\n",
      "Found KM on Road 45: SP-255\n",
      "Searching KM on direction...\n",
      "Searching KM without direction...\n",
      "Found KM on Road 354: SP-255\n",
      "Searching KM on direction...\n",
      "Searching KM without direction...\n",
      "Found KM on Road 354: SP-255\n",
      "Searching KM on direction...\n",
      "Searching KM without direction...\n",
      "Found KM on Road 354: SP-255\n",
      "Searching KM on direction...\n",
      "Searching KM without direction...\n",
      "Found KM on Road 42: SP-249\n",
      "Searching KM on direction...\n",
      "Searching KM without direction...\n",
      "Found KM on Road 42: SP-249\n",
      "Searching KM on direction...\n",
      "Searching KM without direction...\n",
      "Found KM on Road 355: SP-255\n",
      "Searching KM on direction...\n",
      "Searching KM without direction...\n",
      "Found KM on Road 354: SP-255\n",
      "Searching KM on direction...\n",
      "Searching KM without direction...\n",
      "Found KM on Road 354: SP-255\n",
      "Searching KM on direction...\n",
      "Searching KM without direction...\n",
      "Found KM on Road 42: SP-249\n",
      "Searching KM on direction...\n",
      "Searching KM without direction...\n",
      "Found KM on Road 42: SP-249\n",
      "Searching KM on direction...\n",
      "Searching KM without direction...\n",
      "Found KM on Road 355: SP-255\n",
      "Searching KM on direction...\n",
      "Searching KM without direction...\n",
      "Found KM on Road 354: SP-255\n",
      "Searching KM on direction...\n",
      "Searching KM without direction...\n",
      "Found KM on Road 354: SP-255\n",
      "Searching KM on direction...\n",
      "Searching KM without direction...\n",
      "Found KM on Road 354: SP-255\n",
      "Searching KM on direction...\n",
      "Searching KM without direction...\n",
      "Found KM on Road 354: SP-255\n",
      "Searching KM on direction...\n",
      "Searching KM without direction...\n",
      "Found KM on Road 42: SP-249\n",
      "Searching KM on direction...\n",
      "Searching KM without direction...\n",
      "Found KM on Road 42: SP-249\n",
      "Searching KM on direction...\n",
      "Searching KM without direction...\n",
      "Found KM on Road 355: SP-255\n",
      "Searching KM on direction...\n",
      "Found KM on Road 45: SP-255\n",
      "Searching KM on direction...\n",
      "Searching KM without direction...\n",
      "Found KM on Road 353: SP-255\n",
      "Searching KM on direction...\n",
      "Searching KM without direction...\n",
      "Found KM on Road 354: SP-255\n",
      "Searching KM on direction...\n",
      "Searching KM without direction...\n",
      "Found KM on Road 354: SP-255\n",
      "Searching KM on direction...\n",
      "Searching KM without direction...\n",
      "Found KM on Road 354: SP-255\n",
      "Searching KM on direction...\n",
      "Searching KM without direction...\n",
      "Found KM on Road 42: SP-249\n",
      "Searching KM on direction...\n",
      "Searching KM without direction...\n",
      "Found KM on Road 355: SP-255\n",
      "Searching KM on direction...\n",
      "Searching KM without direction...\n",
      "Found KM on Road 354: SP-255\n",
      "Searching KM on direction...\n",
      "Searching KM without direction...\n",
      "Found KM on Road 354: SP-255\n",
      "Searching KM on direction...\n",
      "Searching KM without direction...\n",
      "Found KM on Road 354: SP-255\n",
      "Searching KM on direction...\n",
      "Searching KM without direction...\n",
      "Found KM on Road 354: SP-255\n",
      "Searching KM on direction...\n",
      "Searching KM without direction...\n",
      "Found KM on Road 42: SP-249\n",
      "Searching KM on direction...\n",
      "Searching KM without direction...\n",
      "Found KM on Road 42: SP-249\n",
      "Searching KM on direction...\n",
      "Searching KM without direction...\n",
      "Found KM on Road 355: SP-255\n",
      "Searching KM on direction...\n",
      "Searching KM without direction...\n",
      "Found KM on Road 354: SP-255\n",
      "Searching KM on direction...\n",
      "Searching KM without direction...\n",
      "Found KM on Road 354: SP-255\n",
      "Searching KM on direction...\n",
      "Searching KM without direction...\n",
      "Found KM on Road 354: SP-255\n",
      "Searching KM on direction...\n",
      "Searching KM without direction...\n",
      "Found KM on Road 42: SP-249\n",
      "Searching KM on direction...\n",
      "Found KM on Road 45: SP-255\n",
      "Searching KM on direction...\n",
      "Searching KM without direction...\n",
      "Found KM on Road 354: SP-255\n",
      "Searching KM on direction...\n",
      "Searching KM without direction...\n",
      "Found KM on Road 354: SP-255\n",
      "Searching KM on direction...\n",
      "Searching KM without direction...\n",
      "Found KM on Road 354: SP-255\n"
     ]
    },
    {
     "name": "stdout",
     "output_type": "stream",
     "text": [
      "Searching KM on direction...\n",
      "Searching KM without direction...\n",
      "Found KM on Road 42: SP-249\n",
      "Searching KM on direction...\n",
      "Searching KM without direction...\n",
      "Found KM on Road 42: SP-249\n",
      "Searching KM on direction...\n",
      "Searching KM without direction...\n",
      "Found KM on Road 355: SP-255\n",
      "Searching KM on direction...\n",
      "Searching KM without direction...\n",
      "Found KM on Road 354: SP-255\n",
      "Searching KM on direction...\n",
      "Searching KM without direction...\n",
      "Found KM on Road 354: SP-255\n",
      "Searching KM on direction...\n",
      "Searching KM without direction...\n",
      "Found KM on Road 354: SP-255\n",
      "Searching KM on direction...\n",
      "Searching KM without direction...\n",
      "Found KM on Road 42: SP-249\n",
      "Searching KM on direction...\n",
      "Searching KM without direction...\n",
      "Found KM on Road 42: SP-249\n",
      "Searching KM on direction...\n",
      "Searching KM without direction...\n",
      "Found KM on Road 355: SP-255\n",
      "Searching KM on direction...\n",
      "Searching KM without direction...\n",
      "Found KM on Road 45: SP-255\n",
      "Searching KM on direction...\n",
      "Found KM on Road 45: SP-255\n",
      "Searching KM on direction...\n",
      "Searching KM without direction...\n",
      "Found KM on Road 45: SP-255\n",
      "Searching KM on direction...\n",
      "Searching KM without direction...\n",
      "Found KM on Road 45: SP-255\n",
      "Searching KM on direction...\n",
      "Searching KM without direction...\n",
      "Found KM on Road 45: SP-255\n",
      "Searching KM on direction...\n",
      "Found KM on Road 45: SP-255\n",
      "Searching KM on direction...\n",
      "Found KM on Road 45: SP-255\n",
      "Searching KM on direction...\n",
      "Searching KM without direction...\n",
      "Found KM on Road 45: SP-255\n",
      "Searching KM on direction...\n",
      "Searching KM without direction...\n",
      "Found KM on Road 353: SP-255\n",
      "Searching KM on direction...\n",
      "Found KM on Road 45: SP-255\n",
      "Searching KM on direction...\n",
      "Found KM on Road 45: SP-255\n",
      "Searching KM on direction...\n",
      "Searching KM without direction...\n",
      "Found KM on Road 353: SP-255\n",
      "Searching KM on direction...\n",
      "Searching KM without direction...\n",
      "Found KM on Road 353: SP-255\n",
      "Searching KM on direction...\n",
      "Found KM on Road 45: SP-255\n",
      "Searching KM on direction...\n",
      "Found KM on Road 45: SP-255\n",
      "Searching KM on direction...\n",
      "Found KM on Road 45: SP-255\n",
      "Searching KM on direction...\n",
      "Found KM on Road 45: SP-255\n",
      "Searching KM on direction...\n",
      "Found KM on Road 45: SP-255\n",
      "Searching KM on direction...\n",
      "Searching KM without direction...\n",
      "Searching KM on direction...\n",
      "Found KM on Road 45: SP-255\n",
      "Searching KM on direction...\n",
      "Found KM on Road 45: SP-255\n",
      "Searching KM on direction...\n",
      "Found KM on Road 45: SP-255\n",
      "Searching KM on direction...\n",
      "Searching KM without direction...\n",
      "Found KM on Road 45: SP-255\n",
      "Searching KM on direction...\n",
      "Searching KM without direction...\n",
      "Found KM on Road 353: SP-255\n",
      "Searching KM on direction...\n",
      "Searching KM without direction...\n",
      "Found KM on Road 353: SP-255\n",
      "Searching KM on direction...\n",
      "Searching KM without direction...\n",
      "Found KM on Road 353: SP-255\n",
      "Searching KM on direction...\n",
      "Searching KM without direction...\n",
      "Found KM on Road 353: SP-255\n",
      "Searching KM on direction...\n",
      "Found KM on Road 45: SP-255\n",
      "Searching KM on direction...\n",
      "Searching KM without direction...\n",
      "Found KM on Road 45: SP-255\n",
      "Searching KM on direction...\n",
      "Searching KM without direction...\n",
      "Found KM on Road 45: SP-255\n",
      "Searching KM on direction...\n",
      "Searching KM without direction...\n",
      "Found KM on Road 45: SP-255\n",
      "Searching KM on direction...\n",
      "Found KM on Road 45: SP-255\n",
      "Searching KM on direction...\n",
      "Found KM on Road 45: SP-255\n",
      "Searching KM on direction...\n",
      "Found KM on Road 45: SP-255\n",
      "Searching KM on direction...\n",
      "Searching KM without direction...\n",
      "Found KM on Road 353: SP-255\n",
      "Searching KM on direction...\n",
      "Searching KM without direction...\n",
      "Found KM on Road 353: SP-255\n",
      "Searching KM on direction...\n",
      "Found KM on Road 45: SP-255\n",
      "Searching KM on direction...\n",
      "Searching KM without direction...\n",
      "Found KM on Road 353: SP-255\n",
      "Searching KM on direction...\n",
      "Searching KM without direction...\n",
      "Found KM on Road 45: SP-255\n",
      "Searching KM on direction...\n",
      "Searching KM without direction...\n",
      "Found KM on Road 45: SP-255\n",
      "Searching KM on direction...\n",
      "Found KM on Road 45: SP-255\n",
      "Searching KM on direction...\n",
      "Searching KM without direction...\n",
      "Found KM on Road 45: SP-255\n",
      "Searching KM on direction...\n",
      "Searching KM without direction...\n",
      "Found KM on Road 45: SP-255\n",
      "Searching KM on direction...\n",
      "Searching KM without direction...\n",
      "Found KM on Road 45: SP-255\n",
      "Searching KM on direction...\n",
      "Searching KM without direction...\n",
      "Found KM on Road 45: SP-255\n",
      "Searching KM on direction...\n",
      "Searching KM without direction...\n",
      "Found KM on Road 45: SP-255\n",
      "Searching KM on direction...\n",
      "Searching KM without direction...\n",
      "Found KM on Road 45: SP-255\n",
      "Searching KM on direction...\n",
      "Searching KM without direction...\n",
      "Found KM on Road 45: SP-255\n",
      "Searching KM on direction...\n",
      "Searching KM without direction...\n",
      "Found KM on Road 45: SP-255\n",
      "Searching KM on direction...\n",
      "Searching KM without direction...\n",
      "Found KM on Road 353: SP-255\n",
      "Searching KM on direction...\n",
      "Searching KM without direction...\n",
      "Found KM on Road 45: SP-255\n",
      "Searching KM on direction...\n",
      "Searching KM without direction...\n",
      "Found KM on Road 45: SP-255\n",
      "Searching KM on direction...\n",
      "Searching KM without direction...\n",
      "Found KM on Road 45: SP-255\n",
      "Searching KM on direction...\n",
      "Searching KM without direction...\n",
      "Found KM on Road 45: SP-255\n",
      "Searching KM on direction...\n",
      "Searching KM without direction...\n",
      "Found KM on Road 45: SP-255\n",
      "Searching KM on direction...\n",
      "Searching KM without direction...\n",
      "Found KM on Road 45: SP-255\n",
      "Searching KM on direction...\n",
      "Found KM on Road 45: SP-255\n"
     ]
    }
   ],
   "source": [
    "for a in Reporting.objects.filter(occurrence_type__name='Pluviômetro',company__name='Arteris Via Paulista'):\n",
    "    if a.form_data.get('length'):\n",
    "        a.form_data['lengthPluv'] = a.form_data.get('length')\n",
    "        a.form_data.pop('length')\n",
    "        a.save()"
   ]
  },
  {
   "cell_type": "code",
   "execution_count": 3,
   "id": "82717e8b",
   "metadata": {},
   "outputs": [],
   "source": [
    "rp=RecordPanel.objects.get(uuid='dc2c3860-540c-4b77-a2a3-6d6c7175541e')"
   ]
  },
  {
   "cell_type": "code",
   "execution_count": 2,
   "id": "ece047bc",
   "metadata": {},
   "outputs": [
    {
     "ename": "AttributeError",
     "evalue": "'RecordPanel' object has no attribute 'history'",
     "output_type": "error",
     "traceback": [
      "\u001b[0;31m---------------------------------------------------------------------------\u001b[0m",
      "\u001b[0;31mAttributeError\u001b[0m                            Traceback (most recent call last)",
      "\u001b[0;32m/tmp/ipykernel_3685/1074004470.py\u001b[0m in \u001b[0;36m<cell line: 1>\u001b[0;34m()\u001b[0m\n\u001b[0;32m----> 1\u001b[0;31m \u001b[0mrp\u001b[0m\u001b[0;34m.\u001b[0m\u001b[0mhistory\u001b[0m\u001b[0;34m.\u001b[0m\u001b[0mall\u001b[0m\u001b[0;34m(\u001b[0m\u001b[0;34m)\u001b[0m\u001b[0;34m.\u001b[0m\u001b[0morder_by\u001b[0m\u001b[0;34m(\u001b[0m\u001b[0;34m'-history_date'\u001b[0m\u001b[0;34m)\u001b[0m\u001b[0;34m\u001b[0m\u001b[0;34m\u001b[0m\u001b[0m\n\u001b[0m",
      "\u001b[0;31mAttributeError\u001b[0m: 'RecordPanel' object has no attribute 'history'"
     ]
    }
   ],
   "source": [
    "rp.history.all().order_by('-history_date')"
   ]
  },
  {
   "cell_type": "code",
   "execution_count": 5,
   "id": "1290dc09",
   "metadata": {},
   "outputs": [
    {
     "data": {
      "text/plain": [
       "{'_state': <django.db.models.base.ModelState at 0x7587ed043bb0>,\n",
       " 'uuid': UUID('dc2c3860-540c-4b77-a2a3-6d6c7175541e'),\n",
       " 'name': 'Recentes',\n",
       " 'panel_type': 'LIST',\n",
       " 'conditions': {'data': {}, 'errors': []},\n",
       " 'company_id': UUID('f0b6948c-3d75-47dd-94a6-4b8ea4373ce4'),\n",
       " 'list_columns': ['executedAt', 'number', 'firm', 'occurrenceType', 'status'],\n",
       " 'list_order_by': [{'field': 'number', 'order': 'ASC'}],\n",
       " 'kanban_columns': [],\n",
       " 'kanban_group_by': [],\n",
       " 'icon': 'circle',\n",
       " 'icon_size': 15,\n",
       " 'color': '#005dffb3',\n",
       " 'created_at': datetime.datetime(2023, 4, 21, 12, 0, 19, 400829, tzinfo=<UTC>),\n",
       " 'created_by_id': UUID('508a66f3-3f58-4c4e-bc9a-fbba6078c02d'),\n",
       " 'content_type_id': 68}"
      ]
     },
     "execution_count": 5,
     "metadata": {},
     "output_type": "execute_result"
    }
   ],
   "source": [
    "rp.__dict__"
   ]
  },
  {
   "cell_type": "code",
   "execution_count": 14,
   "id": "bc1eaa3e",
   "metadata": {},
   "outputs": [
    {
     "data": {
      "text/plain": [
       "'Demo Concessionárias'"
      ]
     },
     "execution_count": 14,
     "metadata": {},
     "output_type": "execute_result"
    }
   ],
   "source": [
    "getattr(getattr(rp,'company',''),'name','')"
   ]
  },
  {
   "cell_type": "code",
   "execution_count": 12,
   "id": "cfc47c26",
   "metadata": {},
   "outputs": [],
   "source": [
    "from django.db.models import F, Value,Subquery, OuterRef\n",
    "from django.db.models.functions import Concat,Cast\n",
    "from django.contrib.postgres.fields import JSONField"
   ]
  },
  {
   "cell_type": "code",
   "execution_count": 16,
   "id": "d39bc4de",
   "metadata": {
    "scrolled": true
   },
   "outputs": [
    {
     "data": {
      "text/plain": [
       "{'lot': '1',\n",
       " 'notes': 'Teste de agora 123321 Lorem ipsum',\n",
       " 'amount': 0.025,\n",
       " 'kcor_code': 'BBB1111',\n",
       " 'sign_name': '0',\n",
       " 'sign_type': '1',\n",
       " 'artesp_code': 'FFF5555',\n",
       " 'intern_code': 'AAA0000',\n",
       " 'demand_origin': ['3'],\n",
       " 'contratual_code': 'CCC2222'}"
      ]
     },
     "execution_count": 16,
     "metadata": {},
     "output_type": "execute_result"
    }
   ],
   "source": [
    "Reporting.objects.filter(\n",
    "    uuid='de9b639f-1e37-4cc5-ad7e-3535913a7782'\n",
    "                        ).annotate(\n",
    "    coisa=Subquery(Reporting.objects.filter(pk=OuterRef('pk')).values('form_data')[:1])\n",
    ")[0].coisa\n",
    "\n",
    "\n",
    "# Subquery(\n",
    "#                                         ProcedureResource.objects.filter(\n",
    "#                                             pk=OuterRef('pk')\n",
    "#                                         ).values('reporting__executed_at')[:1])"
   ]
  },
  {
   "cell_type": "code",
   "execution_count": 9,
   "id": "619474b1",
   "metadata": {
    "scrolled": true
   },
   "outputs": [
    {
     "ename": "ProgrammingError",
     "evalue": "function hstore(text[], text[]) does not exist\nLINE 1: ... = ((\"reportings_reporting\".\"form_data\")::jsonb + hstore(ARR...\n                                                             ^\nHINT:  No function matches the given name and argument types. You might need to add explicit type casts.\n",
     "output_type": "error",
     "traceback": [
      "\u001b[0;31m---------------------------------------------------------------------------\u001b[0m",
      "\u001b[0;31mUndefinedFunction\u001b[0m                         Traceback (most recent call last)",
      "\u001b[0;32m~/.cache/pypoetry/virtualenvs/apps-ZFymp6kh-py3.8/lib/python3.8/site-packages/django/db/backends/utils.py\u001b[0m in \u001b[0;36m_execute\u001b[0;34m(self, sql, params, *ignored_wrapper_args)\u001b[0m\n\u001b[1;32m     83\u001b[0m             \u001b[0;32melse\u001b[0m\u001b[0;34m:\u001b[0m\u001b[0;34m\u001b[0m\u001b[0;34m\u001b[0m\u001b[0m\n\u001b[0;32m---> 84\u001b[0;31m                 \u001b[0;32mreturn\u001b[0m \u001b[0mself\u001b[0m\u001b[0;34m.\u001b[0m\u001b[0mcursor\u001b[0m\u001b[0;34m.\u001b[0m\u001b[0mexecute\u001b[0m\u001b[0;34m(\u001b[0m\u001b[0msql\u001b[0m\u001b[0;34m,\u001b[0m \u001b[0mparams\u001b[0m\u001b[0;34m)\u001b[0m\u001b[0;34m\u001b[0m\u001b[0;34m\u001b[0m\u001b[0m\n\u001b[0m\u001b[1;32m     85\u001b[0m \u001b[0;34m\u001b[0m\u001b[0m\n",
      "\u001b[0;31mUndefinedFunction\u001b[0m: function hstore(text[], text[]) does not exist\nLINE 1: ... = ((\"reportings_reporting\".\"form_data\")::jsonb + hstore(ARR...\n                                                             ^\nHINT:  No function matches the given name and argument types. You might need to add explicit type casts.\n",
      "\nThe above exception was the direct cause of the following exception:\n",
      "\u001b[0;31mProgrammingError\u001b[0m                          Traceback (most recent call last)",
      "\u001b[0;32m/tmp/ipykernel_13247/111566277.py\u001b[0m in \u001b[0;36m<cell line: 1>\u001b[0;34m()\u001b[0m\n\u001b[0;32m----> 1\u001b[0;31m Reporting.objects.filter(\n\u001b[0m\u001b[1;32m      2\u001b[0m     \u001b[0muuid\u001b[0m\u001b[0;34m=\u001b[0m\u001b[0;34m'de9b639f-1e37-4cc5-ad7e-3535913a7782'\u001b[0m\u001b[0;34m\u001b[0m\u001b[0;34m\u001b[0m\u001b[0m\n\u001b[1;32m      3\u001b[0m ).update(form_data=Cast(F('form_data'),output_field=JSONField()) + Value({'monitoring_year':'2021'}))\n\u001b[1;32m      4\u001b[0m \u001b[0;34m\u001b[0m\u001b[0m\n\u001b[1;32m      5\u001b[0m \u001b[0;31m# YourModel.objects.filter(\u001b[0m\u001b[0;34m\u001b[0m\u001b[0;34m\u001b[0m\u001b[0;34m\u001b[0m\u001b[0m\n",
      "\u001b[0;32m~/.cache/pypoetry/virtualenvs/apps-ZFymp6kh-py3.8/lib/python3.8/site-packages/django/db/models/query.py\u001b[0m in \u001b[0;36mupdate\u001b[0;34m(self, **kwargs)\u001b[0m\n\u001b[1;32m    739\u001b[0m         \u001b[0mquery\u001b[0m\u001b[0;34m.\u001b[0m\u001b[0m_annotations\u001b[0m \u001b[0;34m=\u001b[0m \u001b[0;32mNone\u001b[0m\u001b[0;34m\u001b[0m\u001b[0;34m\u001b[0m\u001b[0m\n\u001b[1;32m    740\u001b[0m         \u001b[0;32mwith\u001b[0m \u001b[0mtransaction\u001b[0m\u001b[0;34m.\u001b[0m\u001b[0mmark_for_rollback_on_error\u001b[0m\u001b[0;34m(\u001b[0m\u001b[0musing\u001b[0m\u001b[0;34m=\u001b[0m\u001b[0mself\u001b[0m\u001b[0;34m.\u001b[0m\u001b[0mdb\u001b[0m\u001b[0;34m)\u001b[0m\u001b[0;34m:\u001b[0m\u001b[0;34m\u001b[0m\u001b[0;34m\u001b[0m\u001b[0m\n\u001b[0;32m--> 741\u001b[0;31m             \u001b[0mrows\u001b[0m \u001b[0;34m=\u001b[0m \u001b[0mquery\u001b[0m\u001b[0;34m.\u001b[0m\u001b[0mget_compiler\u001b[0m\u001b[0;34m(\u001b[0m\u001b[0mself\u001b[0m\u001b[0;34m.\u001b[0m\u001b[0mdb\u001b[0m\u001b[0;34m)\u001b[0m\u001b[0;34m.\u001b[0m\u001b[0mexecute_sql\u001b[0m\u001b[0;34m(\u001b[0m\u001b[0mCURSOR\u001b[0m\u001b[0;34m)\u001b[0m\u001b[0;34m\u001b[0m\u001b[0;34m\u001b[0m\u001b[0m\n\u001b[0m\u001b[1;32m    742\u001b[0m         \u001b[0mself\u001b[0m\u001b[0;34m.\u001b[0m\u001b[0m_result_cache\u001b[0m \u001b[0;34m=\u001b[0m \u001b[0;32mNone\u001b[0m\u001b[0;34m\u001b[0m\u001b[0;34m\u001b[0m\u001b[0m\n\u001b[1;32m    743\u001b[0m         \u001b[0;32mreturn\u001b[0m \u001b[0mrows\u001b[0m\u001b[0;34m\u001b[0m\u001b[0;34m\u001b[0m\u001b[0m\n",
      "\u001b[0;32m~/.cache/pypoetry/virtualenvs/apps-ZFymp6kh-py3.8/lib/python3.8/site-packages/django/db/models/sql/compiler.py\u001b[0m in \u001b[0;36mexecute_sql\u001b[0;34m(self, result_type)\u001b[0m\n\u001b[1;32m   1469\u001b[0m         \u001b[0mrelated\u001b[0m \u001b[0mqueries\u001b[0m \u001b[0mare\u001b[0m \u001b[0;32mnot\u001b[0m \u001b[0mavailable\u001b[0m\u001b[0;34m.\u001b[0m\u001b[0;34m\u001b[0m\u001b[0;34m\u001b[0m\u001b[0m\n\u001b[1;32m   1470\u001b[0m         \"\"\"\n\u001b[0;32m-> 1471\u001b[0;31m         \u001b[0mcursor\u001b[0m \u001b[0;34m=\u001b[0m \u001b[0msuper\u001b[0m\u001b[0;34m(\u001b[0m\u001b[0;34m)\u001b[0m\u001b[0;34m.\u001b[0m\u001b[0mexecute_sql\u001b[0m\u001b[0;34m(\u001b[0m\u001b[0mresult_type\u001b[0m\u001b[0;34m)\u001b[0m\u001b[0;34m\u001b[0m\u001b[0;34m\u001b[0m\u001b[0m\n\u001b[0m\u001b[1;32m   1472\u001b[0m         \u001b[0;32mtry\u001b[0m\u001b[0;34m:\u001b[0m\u001b[0;34m\u001b[0m\u001b[0;34m\u001b[0m\u001b[0m\n\u001b[1;32m   1473\u001b[0m             \u001b[0mrows\u001b[0m \u001b[0;34m=\u001b[0m \u001b[0mcursor\u001b[0m\u001b[0;34m.\u001b[0m\u001b[0mrowcount\u001b[0m \u001b[0;32mif\u001b[0m \u001b[0mcursor\u001b[0m \u001b[0;32melse\u001b[0m \u001b[0;36m0\u001b[0m\u001b[0;34m\u001b[0m\u001b[0;34m\u001b[0m\u001b[0m\n",
      "\u001b[0;32m~/.cache/pypoetry/virtualenvs/apps-ZFymp6kh-py3.8/lib/python3.8/site-packages/django/db/models/sql/compiler.py\u001b[0m in \u001b[0;36mexecute_sql\u001b[0;34m(self, result_type, chunked_fetch, chunk_size)\u001b[0m\n\u001b[1;32m   1140\u001b[0m             \u001b[0mcursor\u001b[0m \u001b[0;34m=\u001b[0m \u001b[0mself\u001b[0m\u001b[0;34m.\u001b[0m\u001b[0mconnection\u001b[0m\u001b[0;34m.\u001b[0m\u001b[0mcursor\u001b[0m\u001b[0;34m(\u001b[0m\u001b[0;34m)\u001b[0m\u001b[0;34m\u001b[0m\u001b[0;34m\u001b[0m\u001b[0m\n\u001b[1;32m   1141\u001b[0m         \u001b[0;32mtry\u001b[0m\u001b[0;34m:\u001b[0m\u001b[0;34m\u001b[0m\u001b[0;34m\u001b[0m\u001b[0m\n\u001b[0;32m-> 1142\u001b[0;31m             \u001b[0mcursor\u001b[0m\u001b[0;34m.\u001b[0m\u001b[0mexecute\u001b[0m\u001b[0;34m(\u001b[0m\u001b[0msql\u001b[0m\u001b[0;34m,\u001b[0m \u001b[0mparams\u001b[0m\u001b[0;34m)\u001b[0m\u001b[0;34m\u001b[0m\u001b[0;34m\u001b[0m\u001b[0m\n\u001b[0m\u001b[1;32m   1143\u001b[0m         \u001b[0;32mexcept\u001b[0m \u001b[0mException\u001b[0m\u001b[0;34m:\u001b[0m\u001b[0;34m\u001b[0m\u001b[0;34m\u001b[0m\u001b[0m\n\u001b[1;32m   1144\u001b[0m             \u001b[0;31m# Might fail for server-side cursors (e.g. connection closed)\u001b[0m\u001b[0;34m\u001b[0m\u001b[0;34m\u001b[0m\u001b[0;34m\u001b[0m\u001b[0m\n",
      "\u001b[0;32m~/.cache/pypoetry/virtualenvs/apps-ZFymp6kh-py3.8/lib/python3.8/site-packages/sentry_sdk/integrations/django/__init__.py\u001b[0m in \u001b[0;36mexecute\u001b[0;34m(self, sql, params)\u001b[0m\n\u001b[1;32m    575\u001b[0m             \u001b[0mhub\u001b[0m\u001b[0;34m,\u001b[0m \u001b[0mself\u001b[0m\u001b[0;34m.\u001b[0m\u001b[0mcursor\u001b[0m\u001b[0;34m,\u001b[0m \u001b[0msql\u001b[0m\u001b[0;34m,\u001b[0m \u001b[0mparams\u001b[0m\u001b[0;34m,\u001b[0m \u001b[0mparamstyle\u001b[0m\u001b[0;34m=\u001b[0m\u001b[0;34m\"format\"\u001b[0m\u001b[0;34m,\u001b[0m \u001b[0mexecutemany\u001b[0m\u001b[0;34m=\u001b[0m\u001b[0;32mFalse\u001b[0m\u001b[0;34m\u001b[0m\u001b[0;34m\u001b[0m\u001b[0m\n\u001b[1;32m    576\u001b[0m         ):\n\u001b[0;32m--> 577\u001b[0;31m             \u001b[0;32mreturn\u001b[0m \u001b[0mreal_execute\u001b[0m\u001b[0;34m(\u001b[0m\u001b[0mself\u001b[0m\u001b[0;34m,\u001b[0m \u001b[0msql\u001b[0m\u001b[0;34m,\u001b[0m \u001b[0mparams\u001b[0m\u001b[0;34m)\u001b[0m\u001b[0;34m\u001b[0m\u001b[0;34m\u001b[0m\u001b[0m\n\u001b[0m\u001b[1;32m    578\u001b[0m \u001b[0;34m\u001b[0m\u001b[0m\n\u001b[1;32m    579\u001b[0m     \u001b[0;32mdef\u001b[0m \u001b[0mexecutemany\u001b[0m\u001b[0;34m(\u001b[0m\u001b[0mself\u001b[0m\u001b[0;34m,\u001b[0m \u001b[0msql\u001b[0m\u001b[0;34m,\u001b[0m \u001b[0mparam_list\u001b[0m\u001b[0;34m)\u001b[0m\u001b[0;34m:\u001b[0m\u001b[0;34m\u001b[0m\u001b[0;34m\u001b[0m\u001b[0m\n",
      "\u001b[0;32m~/.cache/pypoetry/virtualenvs/apps-ZFymp6kh-py3.8/lib/python3.8/site-packages/django/db/backends/utils.py\u001b[0m in \u001b[0;36mexecute\u001b[0;34m(self, sql, params)\u001b[0m\n\u001b[1;32m     65\u001b[0m \u001b[0;34m\u001b[0m\u001b[0m\n\u001b[1;32m     66\u001b[0m     \u001b[0;32mdef\u001b[0m \u001b[0mexecute\u001b[0m\u001b[0;34m(\u001b[0m\u001b[0mself\u001b[0m\u001b[0;34m,\u001b[0m \u001b[0msql\u001b[0m\u001b[0;34m,\u001b[0m \u001b[0mparams\u001b[0m\u001b[0;34m=\u001b[0m\u001b[0;32mNone\u001b[0m\u001b[0;34m)\u001b[0m\u001b[0;34m:\u001b[0m\u001b[0;34m\u001b[0m\u001b[0;34m\u001b[0m\u001b[0m\n\u001b[0;32m---> 67\u001b[0;31m         \u001b[0;32mreturn\u001b[0m \u001b[0mself\u001b[0m\u001b[0;34m.\u001b[0m\u001b[0m_execute_with_wrappers\u001b[0m\u001b[0;34m(\u001b[0m\u001b[0msql\u001b[0m\u001b[0;34m,\u001b[0m \u001b[0mparams\u001b[0m\u001b[0;34m,\u001b[0m \u001b[0mmany\u001b[0m\u001b[0;34m=\u001b[0m\u001b[0;32mFalse\u001b[0m\u001b[0;34m,\u001b[0m \u001b[0mexecutor\u001b[0m\u001b[0;34m=\u001b[0m\u001b[0mself\u001b[0m\u001b[0;34m.\u001b[0m\u001b[0m_execute\u001b[0m\u001b[0;34m)\u001b[0m\u001b[0;34m\u001b[0m\u001b[0;34m\u001b[0m\u001b[0m\n\u001b[0m\u001b[1;32m     68\u001b[0m \u001b[0;34m\u001b[0m\u001b[0m\n\u001b[1;32m     69\u001b[0m     \u001b[0;32mdef\u001b[0m \u001b[0mexecutemany\u001b[0m\u001b[0;34m(\u001b[0m\u001b[0mself\u001b[0m\u001b[0;34m,\u001b[0m \u001b[0msql\u001b[0m\u001b[0;34m,\u001b[0m \u001b[0mparam_list\u001b[0m\u001b[0;34m)\u001b[0m\u001b[0;34m:\u001b[0m\u001b[0;34m\u001b[0m\u001b[0;34m\u001b[0m\u001b[0m\n",
      "\u001b[0;32m~/.cache/pypoetry/virtualenvs/apps-ZFymp6kh-py3.8/lib/python3.8/site-packages/django/db/backends/utils.py\u001b[0m in \u001b[0;36m_execute_with_wrappers\u001b[0;34m(self, sql, params, many, executor)\u001b[0m\n\u001b[1;32m     74\u001b[0m         \u001b[0;32mfor\u001b[0m \u001b[0mwrapper\u001b[0m \u001b[0;32min\u001b[0m \u001b[0mreversed\u001b[0m\u001b[0;34m(\u001b[0m\u001b[0mself\u001b[0m\u001b[0;34m.\u001b[0m\u001b[0mdb\u001b[0m\u001b[0;34m.\u001b[0m\u001b[0mexecute_wrappers\u001b[0m\u001b[0;34m)\u001b[0m\u001b[0;34m:\u001b[0m\u001b[0;34m\u001b[0m\u001b[0;34m\u001b[0m\u001b[0m\n\u001b[1;32m     75\u001b[0m             \u001b[0mexecutor\u001b[0m \u001b[0;34m=\u001b[0m \u001b[0mfunctools\u001b[0m\u001b[0;34m.\u001b[0m\u001b[0mpartial\u001b[0m\u001b[0;34m(\u001b[0m\u001b[0mwrapper\u001b[0m\u001b[0;34m,\u001b[0m \u001b[0mexecutor\u001b[0m\u001b[0;34m)\u001b[0m\u001b[0;34m\u001b[0m\u001b[0;34m\u001b[0m\u001b[0m\n\u001b[0;32m---> 76\u001b[0;31m         \u001b[0;32mreturn\u001b[0m \u001b[0mexecutor\u001b[0m\u001b[0;34m(\u001b[0m\u001b[0msql\u001b[0m\u001b[0;34m,\u001b[0m \u001b[0mparams\u001b[0m\u001b[0;34m,\u001b[0m \u001b[0mmany\u001b[0m\u001b[0;34m,\u001b[0m \u001b[0mcontext\u001b[0m\u001b[0;34m)\u001b[0m\u001b[0;34m\u001b[0m\u001b[0;34m\u001b[0m\u001b[0m\n\u001b[0m\u001b[1;32m     77\u001b[0m \u001b[0;34m\u001b[0m\u001b[0m\n\u001b[1;32m     78\u001b[0m     \u001b[0;32mdef\u001b[0m \u001b[0m_execute\u001b[0m\u001b[0;34m(\u001b[0m\u001b[0mself\u001b[0m\u001b[0;34m,\u001b[0m \u001b[0msql\u001b[0m\u001b[0;34m,\u001b[0m \u001b[0mparams\u001b[0m\u001b[0;34m,\u001b[0m \u001b[0;34m*\u001b[0m\u001b[0mignored_wrapper_args\u001b[0m\u001b[0;34m)\u001b[0m\u001b[0;34m:\u001b[0m\u001b[0;34m\u001b[0m\u001b[0;34m\u001b[0m\u001b[0m\n",
      "\u001b[0;32m~/.cache/pypoetry/virtualenvs/apps-ZFymp6kh-py3.8/lib/python3.8/site-packages/django/db/backends/utils.py\u001b[0m in \u001b[0;36m_execute\u001b[0;34m(self, sql, params, *ignored_wrapper_args)\u001b[0m\n\u001b[1;32m     82\u001b[0m                 \u001b[0;32mreturn\u001b[0m \u001b[0mself\u001b[0m\u001b[0;34m.\u001b[0m\u001b[0mcursor\u001b[0m\u001b[0;34m.\u001b[0m\u001b[0mexecute\u001b[0m\u001b[0;34m(\u001b[0m\u001b[0msql\u001b[0m\u001b[0;34m)\u001b[0m\u001b[0;34m\u001b[0m\u001b[0;34m\u001b[0m\u001b[0m\n\u001b[1;32m     83\u001b[0m             \u001b[0;32melse\u001b[0m\u001b[0;34m:\u001b[0m\u001b[0;34m\u001b[0m\u001b[0;34m\u001b[0m\u001b[0m\n\u001b[0;32m---> 84\u001b[0;31m                 \u001b[0;32mreturn\u001b[0m \u001b[0mself\u001b[0m\u001b[0;34m.\u001b[0m\u001b[0mcursor\u001b[0m\u001b[0;34m.\u001b[0m\u001b[0mexecute\u001b[0m\u001b[0;34m(\u001b[0m\u001b[0msql\u001b[0m\u001b[0;34m,\u001b[0m \u001b[0mparams\u001b[0m\u001b[0;34m)\u001b[0m\u001b[0;34m\u001b[0m\u001b[0;34m\u001b[0m\u001b[0m\n\u001b[0m\u001b[1;32m     85\u001b[0m \u001b[0;34m\u001b[0m\u001b[0m\n\u001b[1;32m     86\u001b[0m     \u001b[0;32mdef\u001b[0m \u001b[0m_executemany\u001b[0m\u001b[0;34m(\u001b[0m\u001b[0mself\u001b[0m\u001b[0;34m,\u001b[0m \u001b[0msql\u001b[0m\u001b[0;34m,\u001b[0m \u001b[0mparam_list\u001b[0m\u001b[0;34m,\u001b[0m \u001b[0;34m*\u001b[0m\u001b[0mignored_wrapper_args\u001b[0m\u001b[0;34m)\u001b[0m\u001b[0;34m:\u001b[0m\u001b[0;34m\u001b[0m\u001b[0;34m\u001b[0m\u001b[0m\n",
      "\u001b[0;32m~/.cache/pypoetry/virtualenvs/apps-ZFymp6kh-py3.8/lib/python3.8/site-packages/django/db/utils.py\u001b[0m in \u001b[0;36m__exit__\u001b[0;34m(self, exc_type, exc_value, traceback)\u001b[0m\n\u001b[1;32m     87\u001b[0m                 \u001b[0;32mif\u001b[0m \u001b[0mdj_exc_type\u001b[0m \u001b[0;32mnot\u001b[0m \u001b[0;32min\u001b[0m \u001b[0;34m(\u001b[0m\u001b[0mDataError\u001b[0m\u001b[0;34m,\u001b[0m \u001b[0mIntegrityError\u001b[0m\u001b[0;34m)\u001b[0m\u001b[0;34m:\u001b[0m\u001b[0;34m\u001b[0m\u001b[0;34m\u001b[0m\u001b[0m\n\u001b[1;32m     88\u001b[0m                     \u001b[0mself\u001b[0m\u001b[0;34m.\u001b[0m\u001b[0mwrapper\u001b[0m\u001b[0;34m.\u001b[0m\u001b[0merrors_occurred\u001b[0m \u001b[0;34m=\u001b[0m \u001b[0;32mTrue\u001b[0m\u001b[0;34m\u001b[0m\u001b[0;34m\u001b[0m\u001b[0m\n\u001b[0;32m---> 89\u001b[0;31m                 \u001b[0;32mraise\u001b[0m \u001b[0mdj_exc_value\u001b[0m\u001b[0;34m.\u001b[0m\u001b[0mwith_traceback\u001b[0m\u001b[0;34m(\u001b[0m\u001b[0mtraceback\u001b[0m\u001b[0;34m)\u001b[0m \u001b[0;32mfrom\u001b[0m \u001b[0mexc_value\u001b[0m\u001b[0;34m\u001b[0m\u001b[0;34m\u001b[0m\u001b[0m\n\u001b[0m\u001b[1;32m     90\u001b[0m \u001b[0;34m\u001b[0m\u001b[0m\n\u001b[1;32m     91\u001b[0m     \u001b[0;32mdef\u001b[0m \u001b[0m__call__\u001b[0m\u001b[0;34m(\u001b[0m\u001b[0mself\u001b[0m\u001b[0;34m,\u001b[0m \u001b[0mfunc\u001b[0m\u001b[0;34m)\u001b[0m\u001b[0;34m:\u001b[0m\u001b[0;34m\u001b[0m\u001b[0;34m\u001b[0m\u001b[0m\n",
      "\u001b[0;32m~/.cache/pypoetry/virtualenvs/apps-ZFymp6kh-py3.8/lib/python3.8/site-packages/django/db/backends/utils.py\u001b[0m in \u001b[0;36m_execute\u001b[0;34m(self, sql, params, *ignored_wrapper_args)\u001b[0m\n\u001b[1;32m     82\u001b[0m                 \u001b[0;32mreturn\u001b[0m \u001b[0mself\u001b[0m\u001b[0;34m.\u001b[0m\u001b[0mcursor\u001b[0m\u001b[0;34m.\u001b[0m\u001b[0mexecute\u001b[0m\u001b[0;34m(\u001b[0m\u001b[0msql\u001b[0m\u001b[0;34m)\u001b[0m\u001b[0;34m\u001b[0m\u001b[0;34m\u001b[0m\u001b[0m\n\u001b[1;32m     83\u001b[0m             \u001b[0;32melse\u001b[0m\u001b[0;34m:\u001b[0m\u001b[0;34m\u001b[0m\u001b[0;34m\u001b[0m\u001b[0m\n\u001b[0;32m---> 84\u001b[0;31m                 \u001b[0;32mreturn\u001b[0m \u001b[0mself\u001b[0m\u001b[0;34m.\u001b[0m\u001b[0mcursor\u001b[0m\u001b[0;34m.\u001b[0m\u001b[0mexecute\u001b[0m\u001b[0;34m(\u001b[0m\u001b[0msql\u001b[0m\u001b[0;34m,\u001b[0m \u001b[0mparams\u001b[0m\u001b[0;34m)\u001b[0m\u001b[0;34m\u001b[0m\u001b[0;34m\u001b[0m\u001b[0m\n\u001b[0m\u001b[1;32m     85\u001b[0m \u001b[0;34m\u001b[0m\u001b[0m\n\u001b[1;32m     86\u001b[0m     \u001b[0;32mdef\u001b[0m \u001b[0m_executemany\u001b[0m\u001b[0;34m(\u001b[0m\u001b[0mself\u001b[0m\u001b[0;34m,\u001b[0m \u001b[0msql\u001b[0m\u001b[0;34m,\u001b[0m \u001b[0mparam_list\u001b[0m\u001b[0;34m,\u001b[0m \u001b[0;34m*\u001b[0m\u001b[0mignored_wrapper_args\u001b[0m\u001b[0;34m)\u001b[0m\u001b[0;34m:\u001b[0m\u001b[0;34m\u001b[0m\u001b[0;34m\u001b[0m\u001b[0m\n",
      "\u001b[0;31mProgrammingError\u001b[0m: function hstore(text[], text[]) does not exist\nLINE 1: ... = ((\"reportings_reporting\".\"form_data\")::jsonb + hstore(ARR...\n                                                             ^\nHINT:  No function matches the given name and argument types. You might need to add explicit type casts.\n"
     ]
    }
   ],
   "source": [
    "Reporting.objects.filter(\n",
    "    uuid='de9b639f-1e37-4cc5-ad7e-3535913a7782'\n",
    ").update(form_data=Cast(F('form_data'),output_field=JSONField()) + Value({'monitoring_year':'2021'}))\n",
    "\n",
    "# YourModel.objects.filter(\n",
    "#     id=1\n",
    "# ).update(data_field=Cast(F('data_field'), output_field=JSONField()) + Value({'new_key': 'new_value'}))"
   ]
  },
  {
   "cell_type": "code",
   "execution_count": 7,
   "id": "033a9a15",
   "metadata": {
    "scrolled": true
   },
   "outputs": [
    {
     "data": {
      "text/plain": [
       "{'_state': <django.db.models.base.ModelState at 0x750078eb6b50>,\n",
       " 'uuid': UUID('de9b639f-1e37-4cc5-ad7e-3535913a7782'),\n",
       " 'number': 'DEMO-SIN-Ver-2020.00330',\n",
       " 'company_id': UUID('f0b6948c-3d75-47dd-94a6-4b8ea4373ce4'),\n",
       " 'road_name': 'SPA-271/310',\n",
       " 'road_id': 921,\n",
       " 'km': 0.18,\n",
       " 'end_km': 0.18,\n",
       " 'km_reference': None,\n",
       " 'project_km': 0.0,\n",
       " 'project_end_km': 0.0,\n",
       " 'point': <Point object at 0x750078a5a390>,\n",
       " 'direction': '2',\n",
       " 'lane': '15',\n",
       " 'track': None,\n",
       " 'branch': None,\n",
       " 'address': {},\n",
       " 'geometry': None,\n",
       " 'properties': [],\n",
       " 'active_tile_layer_id': None,\n",
       " 'created_by_id': UUID('ea6f1c60-e30e-4528-a561-39bea02ef495'),\n",
       " 'firm_id': UUID('5554700b-e8d4-49cd-a847-4649ce9e4780'),\n",
       " 'occurrence_type_id': UUID('a52c460e-8579-45dc-ab07-bb728ae8ce74'),\n",
       " 'form_data': \"{'monitoring_year':'2021'}\",\n",
       " 'form_metadata': {},\n",
       " 'executed_at': None,\n",
       " 'created_at': datetime.datetime(2020, 10, 20, 1, 49, 1, 542719, tzinfo=<UTC>),\n",
       " 'updated_at': datetime.datetime(2024, 4, 5, 11, 22, 45, 907547, tzinfo=<UTC>),\n",
       " 'found_at': datetime.datetime(2020, 10, 17, 8, 0, tzinfo=<UTC>),\n",
       " 'due_at': datetime.datetime(2020, 10, 24, 5, 0, tzinfo=<UTC>),\n",
       " 'status_id': UUID('ccc82133-62d7-4f99-bf23-6a35bc6180ea'),\n",
       " 'job_id': UUID('05d2bbd6-9d43-481a-8140-f076afec55b6'),\n",
       " 'parent_id': None,\n",
       " 'active_inspection_id': None,\n",
       " 'due_at_manually_specified': False,\n",
       " 'end_km_manually_specified': False,\n",
       " 'project_end_km_manually_specified': False,\n",
       " 'editable': True,\n",
       " 'approval_step_id': UUID('fba3eb3f-9582-48d0-b57a-f11ac77b0bd8'),\n",
       " 'keywords': 'CCC2222 ARTESP DIN FFF5555 BBB1111 AAA0000 Placa de regulamentação - SVR ADVERTÊNCIA Lote 1 0.025 Teste de agora 123321 Lorem ipsum',\n",
       " 'lot': '3',\n",
       " 'technical_opinion': None,\n",
       " 'construction_id': None,\n",
       " 'pdf_import_id': None,\n",
       " 'shared_with_agency': False,\n",
       " 'created_recuperations_with_relation': None,\n",
       " '_fieldsignals_originals': {(128645303144352,\n",
       "   128645687206672): {'uuid': UUID('de9b639f-1e37-4cc5-ad7e-3535913a7782'), 'number': 'DEMO-SIN-Ver-2020.00330', 'company': UUID('f0b6948c-3d75-47dd-94a6-4b8ea4373ce4'), 'road_name': 'SPA-271/310', 'road': 921, 'km': 0.18, 'end_km': 0.18, 'project_km': 0.0, 'project_end_km': 0.0, 'point': <Point object at 0x750078a5a910>, 'direction': '2', 'lane': '15', 'address': {}, 'properties': [], 'created_by': UUID('ea6f1c60-e30e-4528-a561-39bea02ef495'), 'firm': UUID('5554700b-e8d4-49cd-a847-4649ce9e4780'), 'occurrence_type': UUID('a52c460e-8579-45dc-ab07-bb728ae8ce74'), 'form_data': \"{'monitoring_year':'2021'}\", 'form_metadata': {}, 'created_at': datetime.datetime(2020, 10, 20, 1, 49, 1, 542719, tzinfo=<UTC>), 'updated_at': datetime.datetime(2024, 4, 5, 11, 22, 45, 907547, tzinfo=<UTC>), 'found_at': datetime.datetime(2020, 10, 17, 8, 0, tzinfo=<UTC>), 'due_at': datetime.datetime(2020, 10, 24, 5, 0, tzinfo=<UTC>), 'status': UUID('ccc82133-62d7-4f99-bf23-6a35bc6180ea'), 'job': UUID('05d2bbd6-9d43-481a-8140-f076afec55b6'), 'due_at_manually_specified': False, 'end_km_manually_specified': False, 'project_end_km_manually_specified': False, 'editable': True, 'approval_step': UUID('fba3eb3f-9582-48d0-b57a-f11ac77b0bd8'), 'keywords': 'CCC2222 ARTESP DIN FFF5555 BBB1111 AAA0000 Placa de regulamentação - SVR ADVERTÊNCIA Lote 1 0.025 Teste de agora 123321 Lorem ipsum', 'lot': '3', 'shared_with_agency': False},\n",
       "  (128645303144256,\n",
       "   128644904126064): {'uuid': UUID('de9b639f-1e37-4cc5-ad7e-3535913a7782'), 'number': 'DEMO-SIN-Ver-2020.00330', 'company': UUID('f0b6948c-3d75-47dd-94a6-4b8ea4373ce4'), 'road_name': 'SPA-271/310', 'road': 921, 'km': 0.18, 'end_km': 0.18, 'project_km': 0.0, 'project_end_km': 0.0, 'point': <Point object at 0x750078a5aa10>, 'direction': '2', 'lane': '15', 'address': {}, 'properties': [], 'created_by': UUID('ea6f1c60-e30e-4528-a561-39bea02ef495'), 'firm': UUID('5554700b-e8d4-49cd-a847-4649ce9e4780'), 'occurrence_type': UUID('a52c460e-8579-45dc-ab07-bb728ae8ce74'), 'form_data': \"{'monitoring_year':'2021'}\", 'form_metadata': {}, 'created_at': datetime.datetime(2020, 10, 20, 1, 49, 1, 542719, tzinfo=<UTC>), 'updated_at': datetime.datetime(2024, 4, 5, 11, 22, 45, 907547, tzinfo=<UTC>), 'found_at': datetime.datetime(2020, 10, 17, 8, 0, tzinfo=<UTC>), 'due_at': datetime.datetime(2020, 10, 24, 5, 0, tzinfo=<UTC>), 'status': UUID('ccc82133-62d7-4f99-bf23-6a35bc6180ea'), 'job': UUID('05d2bbd6-9d43-481a-8140-f076afec55b6'), 'due_at_manually_specified': False, 'end_km_manually_specified': False, 'project_end_km_manually_specified': False, 'editable': True, 'approval_step': UUID('fba3eb3f-9582-48d0-b57a-f11ac77b0bd8'), 'keywords': 'CCC2222 ARTESP DIN FFF5555 BBB1111 AAA0000 Placa de regulamentação - SVR ADVERTÊNCIA Lote 1 0.025 Teste de agora 123321 Lorem ipsum', 'lot': '3', 'shared_with_agency': False}}}"
      ]
     },
     "execution_count": 7,
     "metadata": {},
     "output_type": "execute_result"
    }
   ],
   "source": [
    "Reporting.objects.get(uuid='de9b639f-1e37-4cc5-ad7e-3535913a7782').__dict__"
   ]
  },
  {
   "cell_type": "code",
   "execution_count": 1,
   "id": "c81bde39",
   "metadata": {
    "scrolled": true
   },
   "outputs": [
    {
     "ename": "FieldError",
     "evalue": "Cannot resolve keyword 'dasd' into field. Choices are: approval_step, approval_step_id, bulletin_equipments, bulletin_resources, bulletin_surveys, bulletin_vehicles, bulletin_workers, contract, contract_id, created_by, created_by_id, creation_date, description, editable, extra_info, firm, firm_id, firm_manager, firm_manager_id, measurement_bulletin_exports, measurement_date, number, period_ends_at, period_starts_at, total_price, uuid, work_day",
     "output_type": "error",
     "traceback": [
      "\u001b[0;31m---------------------------------------------------------------------------\u001b[0m",
      "\u001b[0;31mFieldError\u001b[0m                                Traceback (most recent call last)",
      "\u001b[0;32m/tmp/ipykernel_15521/2625994124.py\u001b[0m in \u001b[0;36m<cell line: 1>\u001b[0;34m()\u001b[0m\n\u001b[0;32m----> 1\u001b[0;31m \u001b[0mMeasurementBulletin\u001b[0m\u001b[0;34m.\u001b[0m\u001b[0mobjects\u001b[0m\u001b[0;34m.\u001b[0m\u001b[0mfilter\u001b[0m\u001b[0;34m(\u001b[0m\u001b[0mdasd\u001b[0m\u001b[0;34m=\u001b[0m\u001b[0;34m'd'\u001b[0m\u001b[0;34m)\u001b[0m\u001b[0;34m\u001b[0m\u001b[0;34m\u001b[0m\u001b[0m\n\u001b[0m",
      "\u001b[0;32m~/.cache/pypoetry/virtualenvs/apps-ZFymp6kh-py3.8/lib/python3.8/site-packages/django/db/models/manager.py\u001b[0m in \u001b[0;36mmanager_method\u001b[0;34m(self, *args, **kwargs)\u001b[0m\n\u001b[1;32m     80\u001b[0m         \u001b[0;32mdef\u001b[0m \u001b[0mcreate_method\u001b[0m\u001b[0;34m(\u001b[0m\u001b[0mname\u001b[0m\u001b[0;34m,\u001b[0m \u001b[0mmethod\u001b[0m\u001b[0;34m)\u001b[0m\u001b[0;34m:\u001b[0m\u001b[0;34m\u001b[0m\u001b[0;34m\u001b[0m\u001b[0m\n\u001b[1;32m     81\u001b[0m             \u001b[0;32mdef\u001b[0m \u001b[0mmanager_method\u001b[0m\u001b[0;34m(\u001b[0m\u001b[0mself\u001b[0m\u001b[0;34m,\u001b[0m \u001b[0;34m*\u001b[0m\u001b[0margs\u001b[0m\u001b[0;34m,\u001b[0m \u001b[0;34m**\u001b[0m\u001b[0mkwargs\u001b[0m\u001b[0;34m)\u001b[0m\u001b[0;34m:\u001b[0m\u001b[0;34m\u001b[0m\u001b[0;34m\u001b[0m\u001b[0m\n\u001b[0;32m---> 82\u001b[0;31m                 \u001b[0;32mreturn\u001b[0m \u001b[0mgetattr\u001b[0m\u001b[0;34m(\u001b[0m\u001b[0mself\u001b[0m\u001b[0;34m.\u001b[0m\u001b[0mget_queryset\u001b[0m\u001b[0;34m(\u001b[0m\u001b[0;34m)\u001b[0m\u001b[0;34m,\u001b[0m \u001b[0mname\u001b[0m\u001b[0;34m)\u001b[0m\u001b[0;34m(\u001b[0m\u001b[0;34m*\u001b[0m\u001b[0margs\u001b[0m\u001b[0;34m,\u001b[0m \u001b[0;34m**\u001b[0m\u001b[0mkwargs\u001b[0m\u001b[0;34m)\u001b[0m\u001b[0;34m\u001b[0m\u001b[0;34m\u001b[0m\u001b[0m\n\u001b[0m\u001b[1;32m     83\u001b[0m             \u001b[0mmanager_method\u001b[0m\u001b[0;34m.\u001b[0m\u001b[0m__name__\u001b[0m \u001b[0;34m=\u001b[0m \u001b[0mmethod\u001b[0m\u001b[0;34m.\u001b[0m\u001b[0m__name__\u001b[0m\u001b[0;34m\u001b[0m\u001b[0;34m\u001b[0m\u001b[0m\n\u001b[1;32m     84\u001b[0m             \u001b[0mmanager_method\u001b[0m\u001b[0;34m.\u001b[0m\u001b[0m__doc__\u001b[0m \u001b[0;34m=\u001b[0m \u001b[0mmethod\u001b[0m\u001b[0;34m.\u001b[0m\u001b[0m__doc__\u001b[0m\u001b[0;34m\u001b[0m\u001b[0;34m\u001b[0m\u001b[0m\n",
      "\u001b[0;32m~/.cache/pypoetry/virtualenvs/apps-ZFymp6kh-py3.8/lib/python3.8/site-packages/django/db/models/query.py\u001b[0m in \u001b[0;36mfilter\u001b[0;34m(self, *args, **kwargs)\u001b[0m\n\u001b[1;32m    890\u001b[0m         \u001b[0mset\u001b[0m\u001b[0;34m.\u001b[0m\u001b[0;34m\u001b[0m\u001b[0;34m\u001b[0m\u001b[0m\n\u001b[1;32m    891\u001b[0m         \"\"\"\n\u001b[0;32m--> 892\u001b[0;31m         \u001b[0;32mreturn\u001b[0m \u001b[0mself\u001b[0m\u001b[0;34m.\u001b[0m\u001b[0m_filter_or_exclude\u001b[0m\u001b[0;34m(\u001b[0m\u001b[0;32mFalse\u001b[0m\u001b[0;34m,\u001b[0m \u001b[0;34m*\u001b[0m\u001b[0margs\u001b[0m\u001b[0;34m,\u001b[0m \u001b[0;34m**\u001b[0m\u001b[0mkwargs\u001b[0m\u001b[0;34m)\u001b[0m\u001b[0;34m\u001b[0m\u001b[0;34m\u001b[0m\u001b[0m\n\u001b[0m\u001b[1;32m    893\u001b[0m \u001b[0;34m\u001b[0m\u001b[0m\n\u001b[1;32m    894\u001b[0m     \u001b[0;32mdef\u001b[0m \u001b[0mexclude\u001b[0m\u001b[0;34m(\u001b[0m\u001b[0mself\u001b[0m\u001b[0;34m,\u001b[0m \u001b[0;34m*\u001b[0m\u001b[0margs\u001b[0m\u001b[0;34m,\u001b[0m \u001b[0;34m**\u001b[0m\u001b[0mkwargs\u001b[0m\u001b[0;34m)\u001b[0m\u001b[0;34m:\u001b[0m\u001b[0;34m\u001b[0m\u001b[0;34m\u001b[0m\u001b[0m\n",
      "\u001b[0;32m~/.cache/pypoetry/virtualenvs/apps-ZFymp6kh-py3.8/lib/python3.8/site-packages/django/db/models/query.py\u001b[0m in \u001b[0;36m_filter_or_exclude\u001b[0;34m(self, negate, *args, **kwargs)\u001b[0m\n\u001b[1;32m    908\u001b[0m             \u001b[0mclone\u001b[0m\u001b[0;34m.\u001b[0m\u001b[0mquery\u001b[0m\u001b[0;34m.\u001b[0m\u001b[0madd_q\u001b[0m\u001b[0;34m(\u001b[0m\u001b[0;34m~\u001b[0m\u001b[0mQ\u001b[0m\u001b[0;34m(\u001b[0m\u001b[0;34m*\u001b[0m\u001b[0margs\u001b[0m\u001b[0;34m,\u001b[0m \u001b[0;34m**\u001b[0m\u001b[0mkwargs\u001b[0m\u001b[0;34m)\u001b[0m\u001b[0;34m)\u001b[0m\u001b[0;34m\u001b[0m\u001b[0;34m\u001b[0m\u001b[0m\n\u001b[1;32m    909\u001b[0m         \u001b[0;32melse\u001b[0m\u001b[0;34m:\u001b[0m\u001b[0;34m\u001b[0m\u001b[0;34m\u001b[0m\u001b[0m\n\u001b[0;32m--> 910\u001b[0;31m             \u001b[0mclone\u001b[0m\u001b[0;34m.\u001b[0m\u001b[0mquery\u001b[0m\u001b[0;34m.\u001b[0m\u001b[0madd_q\u001b[0m\u001b[0;34m(\u001b[0m\u001b[0mQ\u001b[0m\u001b[0;34m(\u001b[0m\u001b[0;34m*\u001b[0m\u001b[0margs\u001b[0m\u001b[0;34m,\u001b[0m \u001b[0;34m**\u001b[0m\u001b[0mkwargs\u001b[0m\u001b[0;34m)\u001b[0m\u001b[0;34m)\u001b[0m\u001b[0;34m\u001b[0m\u001b[0;34m\u001b[0m\u001b[0m\n\u001b[0m\u001b[1;32m    911\u001b[0m         \u001b[0;32mreturn\u001b[0m \u001b[0mclone\u001b[0m\u001b[0;34m\u001b[0m\u001b[0;34m\u001b[0m\u001b[0m\n\u001b[1;32m    912\u001b[0m \u001b[0;34m\u001b[0m\u001b[0m\n",
      "\u001b[0;32m~/.cache/pypoetry/virtualenvs/apps-ZFymp6kh-py3.8/lib/python3.8/site-packages/django/db/models/sql/query.py\u001b[0m in \u001b[0;36madd_q\u001b[0;34m(self, q_object)\u001b[0m\n\u001b[1;32m   1311\u001b[0m         \u001b[0;31m# So, demotion is OK.\u001b[0m\u001b[0;34m\u001b[0m\u001b[0;34m\u001b[0m\u001b[0;34m\u001b[0m\u001b[0m\n\u001b[1;32m   1312\u001b[0m         \u001b[0mexisting_inner\u001b[0m \u001b[0;34m=\u001b[0m \u001b[0;34m{\u001b[0m\u001b[0ma\u001b[0m \u001b[0;32mfor\u001b[0m \u001b[0ma\u001b[0m \u001b[0;32min\u001b[0m \u001b[0mself\u001b[0m\u001b[0;34m.\u001b[0m\u001b[0malias_map\u001b[0m \u001b[0;32mif\u001b[0m \u001b[0mself\u001b[0m\u001b[0;34m.\u001b[0m\u001b[0malias_map\u001b[0m\u001b[0;34m[\u001b[0m\u001b[0ma\u001b[0m\u001b[0;34m]\u001b[0m\u001b[0;34m.\u001b[0m\u001b[0mjoin_type\u001b[0m \u001b[0;34m==\u001b[0m \u001b[0mINNER\u001b[0m\u001b[0;34m}\u001b[0m\u001b[0;34m\u001b[0m\u001b[0;34m\u001b[0m\u001b[0m\n\u001b[0;32m-> 1313\u001b[0;31m         \u001b[0mclause\u001b[0m\u001b[0;34m,\u001b[0m \u001b[0m_\u001b[0m \u001b[0;34m=\u001b[0m \u001b[0mself\u001b[0m\u001b[0;34m.\u001b[0m\u001b[0m_add_q\u001b[0m\u001b[0;34m(\u001b[0m\u001b[0mq_object\u001b[0m\u001b[0;34m,\u001b[0m \u001b[0mself\u001b[0m\u001b[0;34m.\u001b[0m\u001b[0mused_aliases\u001b[0m\u001b[0;34m)\u001b[0m\u001b[0;34m\u001b[0m\u001b[0;34m\u001b[0m\u001b[0m\n\u001b[0m\u001b[1;32m   1314\u001b[0m         \u001b[0;32mif\u001b[0m \u001b[0mclause\u001b[0m\u001b[0;34m:\u001b[0m\u001b[0;34m\u001b[0m\u001b[0;34m\u001b[0m\u001b[0m\n\u001b[1;32m   1315\u001b[0m             \u001b[0mself\u001b[0m\u001b[0;34m.\u001b[0m\u001b[0mwhere\u001b[0m\u001b[0;34m.\u001b[0m\u001b[0madd\u001b[0m\u001b[0;34m(\u001b[0m\u001b[0mclause\u001b[0m\u001b[0;34m,\u001b[0m \u001b[0mAND\u001b[0m\u001b[0;34m)\u001b[0m\u001b[0;34m\u001b[0m\u001b[0;34m\u001b[0m\u001b[0m\n",
      "\u001b[0;32m~/.cache/pypoetry/virtualenvs/apps-ZFymp6kh-py3.8/lib/python3.8/site-packages/django/db/models/sql/query.py\u001b[0m in \u001b[0;36m_add_q\u001b[0;34m(self, q_object, used_aliases, branch_negated, current_negated, allow_joins, split_subq, simple_col)\u001b[0m\n\u001b[1;32m   1336\u001b[0m                 \u001b[0mjoinpromoter\u001b[0m\u001b[0;34m.\u001b[0m\u001b[0madd_votes\u001b[0m\u001b[0;34m(\u001b[0m\u001b[0mneeded_inner\u001b[0m\u001b[0;34m)\u001b[0m\u001b[0;34m\u001b[0m\u001b[0;34m\u001b[0m\u001b[0m\n\u001b[1;32m   1337\u001b[0m             \u001b[0;32melse\u001b[0m\u001b[0;34m:\u001b[0m\u001b[0;34m\u001b[0m\u001b[0;34m\u001b[0m\u001b[0m\n\u001b[0;32m-> 1338\u001b[0;31m                 child_clause, needed_inner = self.build_filter(\n\u001b[0m\u001b[1;32m   1339\u001b[0m                     \u001b[0mchild\u001b[0m\u001b[0;34m,\u001b[0m \u001b[0mcan_reuse\u001b[0m\u001b[0;34m=\u001b[0m\u001b[0mused_aliases\u001b[0m\u001b[0;34m,\u001b[0m \u001b[0mbranch_negated\u001b[0m\u001b[0;34m=\u001b[0m\u001b[0mbranch_negated\u001b[0m\u001b[0;34m,\u001b[0m\u001b[0;34m\u001b[0m\u001b[0;34m\u001b[0m\u001b[0m\n\u001b[1;32m   1340\u001b[0m                     \u001b[0mcurrent_negated\u001b[0m\u001b[0;34m=\u001b[0m\u001b[0mcurrent_negated\u001b[0m\u001b[0;34m,\u001b[0m \u001b[0mallow_joins\u001b[0m\u001b[0;34m=\u001b[0m\u001b[0mallow_joins\u001b[0m\u001b[0;34m,\u001b[0m\u001b[0;34m\u001b[0m\u001b[0;34m\u001b[0m\u001b[0m\n",
      "\u001b[0;32m~/.cache/pypoetry/virtualenvs/apps-ZFymp6kh-py3.8/lib/python3.8/site-packages/django/db/models/sql/query.py\u001b[0m in \u001b[0;36mbuild_filter\u001b[0;34m(self, filter_expr, branch_negated, current_negated, can_reuse, allow_joins, split_subq, reuse_with_filtered_relation, simple_col)\u001b[0m\n\u001b[1;32m   1211\u001b[0m         \u001b[0;32mif\u001b[0m \u001b[0;32mnot\u001b[0m \u001b[0marg\u001b[0m\u001b[0;34m:\u001b[0m\u001b[0;34m\u001b[0m\u001b[0;34m\u001b[0m\u001b[0m\n\u001b[1;32m   1212\u001b[0m             \u001b[0;32mraise\u001b[0m \u001b[0mFieldError\u001b[0m\u001b[0;34m(\u001b[0m\u001b[0;34m\"Cannot parse keyword query %r\"\u001b[0m \u001b[0;34m%\u001b[0m \u001b[0marg\u001b[0m\u001b[0;34m)\u001b[0m\u001b[0;34m\u001b[0m\u001b[0;34m\u001b[0m\u001b[0m\n\u001b[0;32m-> 1213\u001b[0;31m         \u001b[0mlookups\u001b[0m\u001b[0;34m,\u001b[0m \u001b[0mparts\u001b[0m\u001b[0;34m,\u001b[0m \u001b[0mreffed_expression\u001b[0m \u001b[0;34m=\u001b[0m \u001b[0mself\u001b[0m\u001b[0;34m.\u001b[0m\u001b[0msolve_lookup_type\u001b[0m\u001b[0;34m(\u001b[0m\u001b[0marg\u001b[0m\u001b[0;34m)\u001b[0m\u001b[0;34m\u001b[0m\u001b[0;34m\u001b[0m\u001b[0m\n\u001b[0m\u001b[1;32m   1214\u001b[0m \u001b[0;34m\u001b[0m\u001b[0m\n\u001b[1;32m   1215\u001b[0m         \u001b[0;32mif\u001b[0m \u001b[0;32mnot\u001b[0m \u001b[0mgetattr\u001b[0m\u001b[0;34m(\u001b[0m\u001b[0mreffed_expression\u001b[0m\u001b[0;34m,\u001b[0m \u001b[0;34m'filterable'\u001b[0m\u001b[0;34m,\u001b[0m \u001b[0;32mTrue\u001b[0m\u001b[0;34m)\u001b[0m\u001b[0;34m:\u001b[0m\u001b[0;34m\u001b[0m\u001b[0;34m\u001b[0m\u001b[0m\n",
      "\u001b[0;32m~/.cache/pypoetry/virtualenvs/apps-ZFymp6kh-py3.8/lib/python3.8/site-packages/django/db/models/sql/query.py\u001b[0m in \u001b[0;36msolve_lookup_type\u001b[0;34m(self, lookup)\u001b[0m\n\u001b[1;32m   1070\u001b[0m             \u001b[0;32mif\u001b[0m \u001b[0mexpression\u001b[0m\u001b[0;34m:\u001b[0m\u001b[0;34m\u001b[0m\u001b[0;34m\u001b[0m\u001b[0m\n\u001b[1;32m   1071\u001b[0m                 \u001b[0;32mreturn\u001b[0m \u001b[0mexpression_lookups\u001b[0m\u001b[0;34m,\u001b[0m \u001b[0;34m(\u001b[0m\u001b[0;34m)\u001b[0m\u001b[0;34m,\u001b[0m \u001b[0mexpression\u001b[0m\u001b[0;34m\u001b[0m\u001b[0;34m\u001b[0m\u001b[0m\n\u001b[0;32m-> 1072\u001b[0;31m         \u001b[0m_\u001b[0m\u001b[0;34m,\u001b[0m \u001b[0mfield\u001b[0m\u001b[0;34m,\u001b[0m \u001b[0m_\u001b[0m\u001b[0;34m,\u001b[0m \u001b[0mlookup_parts\u001b[0m \u001b[0;34m=\u001b[0m \u001b[0mself\u001b[0m\u001b[0;34m.\u001b[0m\u001b[0mnames_to_path\u001b[0m\u001b[0;34m(\u001b[0m\u001b[0mlookup_splitted\u001b[0m\u001b[0;34m,\u001b[0m \u001b[0mself\u001b[0m\u001b[0;34m.\u001b[0m\u001b[0mget_meta\u001b[0m\u001b[0;34m(\u001b[0m\u001b[0;34m)\u001b[0m\u001b[0;34m)\u001b[0m\u001b[0;34m\u001b[0m\u001b[0;34m\u001b[0m\u001b[0m\n\u001b[0m\u001b[1;32m   1073\u001b[0m         \u001b[0mfield_parts\u001b[0m \u001b[0;34m=\u001b[0m \u001b[0mlookup_splitted\u001b[0m\u001b[0;34m[\u001b[0m\u001b[0;36m0\u001b[0m\u001b[0;34m:\u001b[0m\u001b[0mlen\u001b[0m\u001b[0;34m(\u001b[0m\u001b[0mlookup_splitted\u001b[0m\u001b[0;34m)\u001b[0m \u001b[0;34m-\u001b[0m \u001b[0mlen\u001b[0m\u001b[0;34m(\u001b[0m\u001b[0mlookup_parts\u001b[0m\u001b[0;34m)\u001b[0m\u001b[0;34m]\u001b[0m\u001b[0;34m\u001b[0m\u001b[0;34m\u001b[0m\u001b[0m\n\u001b[1;32m   1074\u001b[0m         \u001b[0;32mif\u001b[0m \u001b[0mlen\u001b[0m\u001b[0;34m(\u001b[0m\u001b[0mlookup_parts\u001b[0m\u001b[0;34m)\u001b[0m \u001b[0;34m>\u001b[0m \u001b[0;36m1\u001b[0m \u001b[0;32mand\u001b[0m \u001b[0;32mnot\u001b[0m \u001b[0mfield_parts\u001b[0m\u001b[0;34m:\u001b[0m\u001b[0;34m\u001b[0m\u001b[0;34m\u001b[0m\u001b[0m\n",
      "\u001b[0;32m~/.cache/pypoetry/virtualenvs/apps-ZFymp6kh-py3.8/lib/python3.8/site-packages/django/db/models/sql/query.py\u001b[0m in \u001b[0;36mnames_to_path\u001b[0;34m(self, names, opts, allow_many, fail_on_missing)\u001b[0m\n\u001b[1;32m   1440\u001b[0m                         \u001b[0;34m*\u001b[0m\u001b[0mself\u001b[0m\u001b[0;34m.\u001b[0m\u001b[0m_filtered_relations\u001b[0m\u001b[0;34m,\u001b[0m\u001b[0;34m\u001b[0m\u001b[0;34m\u001b[0m\u001b[0m\n\u001b[1;32m   1441\u001b[0m                     ])\n\u001b[0;32m-> 1442\u001b[0;31m                     raise FieldError(\"Cannot resolve keyword '%s' into field. \"\n\u001b[0m\u001b[1;32m   1443\u001b[0m                                      \"Choices are: %s\" % (name, \", \".join(available)))\n\u001b[1;32m   1444\u001b[0m                 \u001b[0;32mbreak\u001b[0m\u001b[0;34m\u001b[0m\u001b[0;34m\u001b[0m\u001b[0m\n",
      "\u001b[0;31mFieldError\u001b[0m: Cannot resolve keyword 'dasd' into field. Choices are: approval_step, approval_step_id, bulletin_equipments, bulletin_resources, bulletin_surveys, bulletin_vehicles, bulletin_workers, contract, contract_id, created_by, created_by_id, creation_date, description, editable, extra_info, firm, firm_id, firm_manager, firm_manager_id, measurement_bulletin_exports, measurement_date, number, period_ends_at, period_starts_at, total_price, uuid, work_day"
     ]
    }
   ],
   "source": [
    "MeasurementBulletin.objects.filter(dasd='d')"
   ]
  },
  {
   "cell_type": "code",
   "execution_count": 15,
   "id": "49ac0d00",
   "metadata": {},
   "outputs": [
    {
     "name": "stdout",
     "output_type": "stream",
     "text": [
      "SELECT \"service_orders_measurementbulletin\".\"uuid\", \"service_orders_measurementbulletin\".\"number\", \"service_orders_measurementbulletin\".\"firm_id\", \"service_orders_measurementbulletin\".\"firm_manager_id\", \"service_orders_measurementbulletin\".\"creation_date\", \"service_orders_measurementbulletin\".\"measurement_date\", \"service_orders_measurementbulletin\".\"created_by_id\", \"service_orders_measurementbulletin\".\"total_price\", \"service_orders_measurementbulletin\".\"contract_id\", \"service_orders_measurementbulletin\".\"extra_info\", \"service_orders_measurementbulletin\".\"description\", \"service_orders_measurementbulletin\".\"approval_step_id\", \"service_orders_measurementbulletin\".\"editable\", \"service_orders_measurementbulletin\".\"period_starts_at\", \"service_orders_measurementbulletin\".\"period_ends_at\", \"service_orders_measurementbulletin\".\"work_day\" FROM \"service_orders_measurementbulletin\" INNER JOIN \"resources_contract\" ON (\"service_orders_measurementbulletin\".\"contract_id\" = \"resources_contract\".\"uuid\") INNER JOIN \"companies_subcompany\" ON (\"resources_contract\".\"subcompany_id\" = \"companies_subcompany\".\"uuid\") INNER JOIN \"companies_company\" ON (\"companies_subcompany\".\"company_id\" = \"companies_company\".\"uuid\") WHERE (\"companies_company\".\"name\" = Arteris Litoral Sul - Conserva AND \"service_orders_measurementbulletin\".\"number\" = ALS-BM-2024.4)\n"
     ]
    }
   ],
   "source": [
    "print(MeasurementBulletin.objects.filter(number='ALS-BM-2024.4',contract__subcompany__company__name='Arteris Litoral Sul - Conserva').query)"
   ]
  },
  {
   "cell_type": "code",
   "execution_count": 1,
   "id": "21ea582e",
   "metadata": {},
   "outputs": [],
   "source": [
    "mb=MeasurementBulletin.objects.get(number='ALS-BM-2024.4',contract__subcompany__company__name='Arteris Litoral Sul - Conserva')"
   ]
  },
  {
   "cell_type": "code",
   "execution_count": 8,
   "id": "6e4dec2d",
   "metadata": {},
   "outputs": [
    {
     "name": "stdout",
     "output_type": "stream",
     "text": [
      "ToDoAction matching query does not exist.\n",
      "unhashable type: 'list'\n",
      "ToDoAction matching query does not exist.\n",
      "unhashable type: 'list'\n"
     ]
    }
   ],
   "source": [
    "for a in mb.bulletin_resources.all().exclude(approval_status='APPROVED_APPROVAL'):\n",
    "    a.measurement_bulletin = None\n",
    "#     a.save()"
   ]
  },
  {
   "cell_type": "code",
   "execution_count": 2,
   "id": "05f31b81",
   "metadata": {},
   "outputs": [
    {
     "data": {
      "text/plain": [
       "0"
      ]
     },
     "execution_count": 2,
     "metadata": {},
     "output_type": "execute_result"
    }
   ],
   "source": [
    "mb.bulletin_resources.all().exclude(approval_status='APPROVED_APPROVAL').count()"
   ]
  },
  {
   "cell_type": "code",
   "execution_count": 16,
   "id": "6ec49539",
   "metadata": {},
   "outputs": [],
   "source": [
    "from pygments import highlight\n",
    "from pygments.formatters import TerminalFormatter\n",
    "from pygments.lexers import PostgresLexer\n",
    "from sqlparse import format\n",
    "from django.db.models import QuerySet\n",
    "\n",
    "\n",
    "def print_sql(queryset: QuerySet):\n",
    "    formatted = format(str(queryset.query), reindent=True)\n",
    "    print(highlight(formatted, PostgresLexer(), TerminalFormatter()))"
   ]
  },
  {
   "cell_type": "code",
   "execution_count": 2,
   "id": "8f8f197d",
   "metadata": {},
   "outputs": [],
   "source": [
    "mb=MeasurementBulletin.objects.filter(number='ALS-BM-2024.4',\n",
    "                                   contract__subcompany__company__name='Arteris Litoral Sul - Conserva')"
   ]
  },
  {
   "cell_type": "code",
   "execution_count": 3,
   "id": "25128e9c",
   "metadata": {},
   "outputs": [
    {
     "name": "stdout",
     "output_type": "stream",
     "text": [
      "\u001b[34mSELECT\u001b[39;49;00m\u001b[37m \u001b[39;49;00m\u001b[33m\"\u001b[39;49;00m\u001b[33mservice_orders_measurementbulletin\u001b[39;49;00m\u001b[33m\"\u001b[39;49;00m\u001b[34m.\u001b[39;49;00m\u001b[33m\"\u001b[39;49;00m\u001b[33muuid\u001b[39;49;00m\u001b[33m\"\u001b[39;49;00m,\u001b[37m\u001b[39;49;00m\n",
      "\u001b[37m       \u001b[39;49;00m\u001b[33m\"\u001b[39;49;00m\u001b[33mservice_orders_measurementbulletin\u001b[39;49;00m\u001b[33m\"\u001b[39;49;00m\u001b[34m.\u001b[39;49;00m\u001b[33m\"\u001b[39;49;00m\u001b[33mnumber\u001b[39;49;00m\u001b[33m\"\u001b[39;49;00m,\u001b[37m\u001b[39;49;00m\n",
      "\u001b[37m       \u001b[39;49;00m\u001b[33m\"\u001b[39;49;00m\u001b[33mservice_orders_measurementbulletin\u001b[39;49;00m\u001b[33m\"\u001b[39;49;00m\u001b[34m.\u001b[39;49;00m\u001b[33m\"\u001b[39;49;00m\u001b[33mfirm_id\u001b[39;49;00m\u001b[33m\"\u001b[39;49;00m,\u001b[37m\u001b[39;49;00m\n",
      "\u001b[37m       \u001b[39;49;00m\u001b[33m\"\u001b[39;49;00m\u001b[33mservice_orders_measurementbulletin\u001b[39;49;00m\u001b[33m\"\u001b[39;49;00m\u001b[34m.\u001b[39;49;00m\u001b[33m\"\u001b[39;49;00m\u001b[33mfirm_manager_id\u001b[39;49;00m\u001b[33m\"\u001b[39;49;00m,\u001b[37m\u001b[39;49;00m\n",
      "\u001b[37m       \u001b[39;49;00m\u001b[33m\"\u001b[39;49;00m\u001b[33mservice_orders_measurementbulletin\u001b[39;49;00m\u001b[33m\"\u001b[39;49;00m\u001b[34m.\u001b[39;49;00m\u001b[33m\"\u001b[39;49;00m\u001b[33mcreation_date\u001b[39;49;00m\u001b[33m\"\u001b[39;49;00m,\u001b[37m\u001b[39;49;00m\n",
      "\u001b[37m       \u001b[39;49;00m\u001b[33m\"\u001b[39;49;00m\u001b[33mservice_orders_measurementbulletin\u001b[39;49;00m\u001b[33m\"\u001b[39;49;00m\u001b[34m.\u001b[39;49;00m\u001b[33m\"\u001b[39;49;00m\u001b[33mmeasurement_date\u001b[39;49;00m\u001b[33m\"\u001b[39;49;00m,\u001b[37m\u001b[39;49;00m\n",
      "\u001b[37m       \u001b[39;49;00m\u001b[33m\"\u001b[39;49;00m\u001b[33mservice_orders_measurementbulletin\u001b[39;49;00m\u001b[33m\"\u001b[39;49;00m\u001b[34m.\u001b[39;49;00m\u001b[33m\"\u001b[39;49;00m\u001b[33mcreated_by_id\u001b[39;49;00m\u001b[33m\"\u001b[39;49;00m,\u001b[37m\u001b[39;49;00m\n",
      "\u001b[37m       \u001b[39;49;00m\u001b[33m\"\u001b[39;49;00m\u001b[33mservice_orders_measurementbulletin\u001b[39;49;00m\u001b[33m\"\u001b[39;49;00m\u001b[34m.\u001b[39;49;00m\u001b[33m\"\u001b[39;49;00m\u001b[33mtotal_price\u001b[39;49;00m\u001b[33m\"\u001b[39;49;00m,\u001b[37m\u001b[39;49;00m\n",
      "\u001b[37m       \u001b[39;49;00m\u001b[33m\"\u001b[39;49;00m\u001b[33mservice_orders_measurementbulletin\u001b[39;49;00m\u001b[33m\"\u001b[39;49;00m\u001b[34m.\u001b[39;49;00m\u001b[33m\"\u001b[39;49;00m\u001b[33mcontract_id\u001b[39;49;00m\u001b[33m\"\u001b[39;49;00m,\u001b[37m\u001b[39;49;00m\n",
      "\u001b[37m       \u001b[39;49;00m\u001b[33m\"\u001b[39;49;00m\u001b[33mservice_orders_measurementbulletin\u001b[39;49;00m\u001b[33m\"\u001b[39;49;00m\u001b[34m.\u001b[39;49;00m\u001b[33m\"\u001b[39;49;00m\u001b[33mextra_info\u001b[39;49;00m\u001b[33m\"\u001b[39;49;00m,\u001b[37m\u001b[39;49;00m\n",
      "\u001b[37m       \u001b[39;49;00m\u001b[33m\"\u001b[39;49;00m\u001b[33mservice_orders_measurementbulletin\u001b[39;49;00m\u001b[33m\"\u001b[39;49;00m\u001b[34m.\u001b[39;49;00m\u001b[33m\"\u001b[39;49;00m\u001b[33mdescription\u001b[39;49;00m\u001b[33m\"\u001b[39;49;00m,\u001b[37m\u001b[39;49;00m\n",
      "\u001b[37m       \u001b[39;49;00m\u001b[33m\"\u001b[39;49;00m\u001b[33mservice_orders_measurementbulletin\u001b[39;49;00m\u001b[33m\"\u001b[39;49;00m\u001b[34m.\u001b[39;49;00m\u001b[33m\"\u001b[39;49;00m\u001b[33mapproval_step_id\u001b[39;49;00m\u001b[33m\"\u001b[39;49;00m,\u001b[37m\u001b[39;49;00m\n",
      "\u001b[37m       \u001b[39;49;00m\u001b[33m\"\u001b[39;49;00m\u001b[33mservice_orders_measurementbulletin\u001b[39;49;00m\u001b[33m\"\u001b[39;49;00m\u001b[34m.\u001b[39;49;00m\u001b[33m\"\u001b[39;49;00m\u001b[33meditable\u001b[39;49;00m\u001b[33m\"\u001b[39;49;00m,\u001b[37m\u001b[39;49;00m\n",
      "\u001b[37m       \u001b[39;49;00m\u001b[33m\"\u001b[39;49;00m\u001b[33mservice_orders_measurementbulletin\u001b[39;49;00m\u001b[33m\"\u001b[39;49;00m\u001b[34m.\u001b[39;49;00m\u001b[33m\"\u001b[39;49;00m\u001b[33mperiod_starts_at\u001b[39;49;00m\u001b[33m\"\u001b[39;49;00m,\u001b[37m\u001b[39;49;00m\n",
      "\u001b[37m       \u001b[39;49;00m\u001b[33m\"\u001b[39;49;00m\u001b[33mservice_orders_measurementbulletin\u001b[39;49;00m\u001b[33m\"\u001b[39;49;00m\u001b[34m.\u001b[39;49;00m\u001b[33m\"\u001b[39;49;00m\u001b[33mperiod_ends_at\u001b[39;49;00m\u001b[33m\"\u001b[39;49;00m,\u001b[37m\u001b[39;49;00m\n",
      "\u001b[37m       \u001b[39;49;00m\u001b[33m\"\u001b[39;49;00m\u001b[33mservice_orders_measurementbulletin\u001b[39;49;00m\u001b[33m\"\u001b[39;49;00m\u001b[34m.\u001b[39;49;00m\u001b[33m\"\u001b[39;49;00m\u001b[33mwork_day\u001b[39;49;00m\u001b[33m\"\u001b[39;49;00m\u001b[37m\u001b[39;49;00m\n",
      "\u001b[34mFROM\u001b[39;49;00m\u001b[37m \u001b[39;49;00m\u001b[33m\"\u001b[39;49;00m\u001b[33mservice_orders_measurementbulletin\u001b[39;49;00m\u001b[33m\"\u001b[39;49;00m\u001b[37m\u001b[39;49;00m\n",
      "\u001b[34mINNER\u001b[39;49;00m\u001b[37m \u001b[39;49;00m\u001b[34mJOIN\u001b[39;49;00m\u001b[37m \u001b[39;49;00m\u001b[33m\"\u001b[39;49;00m\u001b[33mresources_contract\u001b[39;49;00m\u001b[33m\"\u001b[39;49;00m\u001b[37m \u001b[39;49;00m\u001b[34mON\u001b[39;49;00m\u001b[37m \u001b[39;49;00m(\u001b[33m\"\u001b[39;49;00m\u001b[33mservice_orders_measurementbulletin\u001b[39;49;00m\u001b[33m\"\u001b[39;49;00m\u001b[34m.\u001b[39;49;00m\u001b[33m\"\u001b[39;49;00m\u001b[33mcontract_id\u001b[39;49;00m\u001b[33m\"\u001b[39;49;00m\u001b[37m \u001b[39;49;00m=\u001b[37m \u001b[39;49;00m\u001b[33m\"\u001b[39;49;00m\u001b[33mresources_contract\u001b[39;49;00m\u001b[33m\"\u001b[39;49;00m\u001b[34m.\u001b[39;49;00m\u001b[33m\"\u001b[39;49;00m\u001b[33muuid\u001b[39;49;00m\u001b[33m\"\u001b[39;49;00m)\u001b[37m\u001b[39;49;00m\n",
      "\u001b[34mINNER\u001b[39;49;00m\u001b[37m \u001b[39;49;00m\u001b[34mJOIN\u001b[39;49;00m\u001b[37m \u001b[39;49;00m\u001b[33m\"\u001b[39;49;00m\u001b[33mcompanies_subcompany\u001b[39;49;00m\u001b[33m\"\u001b[39;49;00m\u001b[37m \u001b[39;49;00m\u001b[34mON\u001b[39;49;00m\u001b[37m \u001b[39;49;00m(\u001b[33m\"\u001b[39;49;00m\u001b[33mresources_contract\u001b[39;49;00m\u001b[33m\"\u001b[39;49;00m\u001b[34m.\u001b[39;49;00m\u001b[33m\"\u001b[39;49;00m\u001b[33msubcompany_id\u001b[39;49;00m\u001b[33m\"\u001b[39;49;00m\u001b[37m \u001b[39;49;00m=\u001b[37m \u001b[39;49;00m\u001b[33m\"\u001b[39;49;00m\u001b[33mcompanies_subcompany\u001b[39;49;00m\u001b[33m\"\u001b[39;49;00m\u001b[34m.\u001b[39;49;00m\u001b[33m\"\u001b[39;49;00m\u001b[33muuid\u001b[39;49;00m\u001b[33m\"\u001b[39;49;00m)\u001b[37m\u001b[39;49;00m\n",
      "\u001b[34mINNER\u001b[39;49;00m\u001b[37m \u001b[39;49;00m\u001b[34mJOIN\u001b[39;49;00m\u001b[37m \u001b[39;49;00m\u001b[33m\"\u001b[39;49;00m\u001b[33mcompanies_company\u001b[39;49;00m\u001b[33m\"\u001b[39;49;00m\u001b[37m \u001b[39;49;00m\u001b[34mON\u001b[39;49;00m\u001b[37m \u001b[39;49;00m(\u001b[33m\"\u001b[39;49;00m\u001b[33mcompanies_subcompany\u001b[39;49;00m\u001b[33m\"\u001b[39;49;00m\u001b[34m.\u001b[39;49;00m\u001b[33m\"\u001b[39;49;00m\u001b[33mcompany_id\u001b[39;49;00m\u001b[33m\"\u001b[39;49;00m\u001b[37m \u001b[39;49;00m=\u001b[37m \u001b[39;49;00m\u001b[33m\"\u001b[39;49;00m\u001b[33mcompanies_company\u001b[39;49;00m\u001b[33m\"\u001b[39;49;00m\u001b[34m.\u001b[39;49;00m\u001b[33m\"\u001b[39;49;00m\u001b[33muuid\u001b[39;49;00m\u001b[33m\"\u001b[39;49;00m)\u001b[37m\u001b[39;49;00m\n",
      "\u001b[34mWHERE\u001b[39;49;00m\u001b[37m \u001b[39;49;00m(\u001b[33m\"\u001b[39;49;00m\u001b[33mcompanies_company\u001b[39;49;00m\u001b[33m\"\u001b[39;49;00m\u001b[34m.\u001b[39;49;00m\u001b[33m\"\u001b[39;49;00m\u001b[33mname\u001b[39;49;00m\u001b[33m\"\u001b[39;49;00m\u001b[37m \u001b[39;49;00m=\u001b[37m \u001b[39;49;00mArteris\u001b[37m \u001b[39;49;00mLitoral\u001b[37m \u001b[39;49;00mSul\u001b[37m \u001b[39;49;00m-\u001b[37m \u001b[39;49;00mConserva\u001b[37m\u001b[39;49;00m\n",
      "\u001b[37m       \u001b[39;49;00m\u001b[34mAND\u001b[39;49;00m\u001b[37m \u001b[39;49;00m\u001b[33m\"\u001b[39;49;00m\u001b[33mservice_orders_measurementbulletin\u001b[39;49;00m\u001b[33m\"\u001b[39;49;00m\u001b[34m.\u001b[39;49;00m\u001b[33m\"\u001b[39;49;00m\u001b[33mnumber\u001b[39;49;00m\u001b[33m\"\u001b[39;49;00m\u001b[37m \u001b[39;49;00m=\u001b[37m \u001b[39;49;00mALS-BM-\u001b[34m2024.4\u001b[39;49;00m)\u001b[37m\u001b[39;49;00m\n",
      "\n"
     ]
    }
   ],
   "source": [
    "print_sql(mb)"
   ]
  },
  {
   "cell_type": "code",
   "execution_count": null,
   "id": "bd71e3b9",
   "metadata": {},
   "outputs": [],
   "source": [
    "from tqdm.notebook import tqdm\n",
    "from django.db.models import Q"
   ]
  },
  {
   "cell_type": "code",
   "execution_count": 19,
   "id": "f0d6bad6",
   "metadata": {},
   "outputs": [
    {
     "data": {
      "text/plain": [
       "246"
      ]
     },
     "execution_count": 19,
     "metadata": {},
     "output_type": "execute_result"
    }
   ],
   "source": [
    "Reporting.objects.filter(Q(created_at__year=2024, created_at__month=3) & \n",
    "                         Q(updated_at__year=2024, updated_at__month=3),\n",
    "                         company__name='LCM - Gaspar').count()"
   ]
  },
  {
   "cell_type": "code",
   "execution_count": 14,
   "id": "0bd941ee",
   "metadata": {},
   "outputs": [
    {
     "data": {
      "text/plain": [
       "246"
      ]
     },
     "execution_count": 14,
     "metadata": {},
     "output_type": "execute_result"
    }
   ],
   "source": [
    "Reporting.objects.filter(created_at__gte='2024-03-01',created_at__lte='2024-03-31',\n",
    "                         updated_at__gte='2024-03-01',updated_at__lte='2024-03-31',\n",
    "                         company__name='LCM - Gaspar').count()"
   ]
  },
  {
   "cell_type": "code",
   "execution_count": 17,
   "id": "9a2589ed",
   "metadata": {
    "scrolled": true
   },
   "outputs": [
    {
     "name": "stdout",
     "output_type": "stream",
     "text": [
      "\u001b[34mSELECT\u001b[39;49;00m\u001b[37m \u001b[39;49;00m\u001b[33m\"\u001b[39;49;00m\u001b[33mreportings_reporting\u001b[39;49;00m\u001b[33m\"\u001b[39;49;00m\u001b[34m.\u001b[39;49;00m\u001b[33m\"\u001b[39;49;00m\u001b[33muuid\u001b[39;49;00m\u001b[33m\"\u001b[39;49;00m,\u001b[37m\u001b[39;49;00m\n",
      "\u001b[37m       \u001b[39;49;00m\u001b[33m\"\u001b[39;49;00m\u001b[33mreportings_reporting\u001b[39;49;00m\u001b[33m\"\u001b[39;49;00m\u001b[34m.\u001b[39;49;00m\u001b[33m\"\u001b[39;49;00m\u001b[33mnumber\u001b[39;49;00m\u001b[33m\"\u001b[39;49;00m,\u001b[37m\u001b[39;49;00m\n",
      "\u001b[37m       \u001b[39;49;00m\u001b[33m\"\u001b[39;49;00m\u001b[33mreportings_reporting\u001b[39;49;00m\u001b[33m\"\u001b[39;49;00m\u001b[34m.\u001b[39;49;00m\u001b[33m\"\u001b[39;49;00m\u001b[33mcompany_id\u001b[39;49;00m\u001b[33m\"\u001b[39;49;00m,\u001b[37m\u001b[39;49;00m\n",
      "\u001b[37m       \u001b[39;49;00m\u001b[33m\"\u001b[39;49;00m\u001b[33mreportings_reporting\u001b[39;49;00m\u001b[33m\"\u001b[39;49;00m\u001b[34m.\u001b[39;49;00m\u001b[33m\"\u001b[39;49;00m\u001b[33mroad_name\u001b[39;49;00m\u001b[33m\"\u001b[39;49;00m,\u001b[37m\u001b[39;49;00m\n",
      "\u001b[37m       \u001b[39;49;00m\u001b[33m\"\u001b[39;49;00m\u001b[33mreportings_reporting\u001b[39;49;00m\u001b[33m\"\u001b[39;49;00m\u001b[34m.\u001b[39;49;00m\u001b[33m\"\u001b[39;49;00m\u001b[33mroad_id\u001b[39;49;00m\u001b[33m\"\u001b[39;49;00m,\u001b[37m\u001b[39;49;00m\n",
      "\u001b[37m       \u001b[39;49;00m\u001b[33m\"\u001b[39;49;00m\u001b[33mreportings_reporting\u001b[39;49;00m\u001b[33m\"\u001b[39;49;00m\u001b[34m.\u001b[39;49;00m\u001b[33m\"\u001b[39;49;00m\u001b[33mkm\u001b[39;49;00m\u001b[33m\"\u001b[39;49;00m,\u001b[37m\u001b[39;49;00m\n",
      "\u001b[37m       \u001b[39;49;00m\u001b[33m\"\u001b[39;49;00m\u001b[33mreportings_reporting\u001b[39;49;00m\u001b[33m\"\u001b[39;49;00m\u001b[34m.\u001b[39;49;00m\u001b[33m\"\u001b[39;49;00m\u001b[33mend_km\u001b[39;49;00m\u001b[33m\"\u001b[39;49;00m,\u001b[37m\u001b[39;49;00m\n",
      "\u001b[37m       \u001b[39;49;00m\u001b[33m\"\u001b[39;49;00m\u001b[33mreportings_reporting\u001b[39;49;00m\u001b[33m\"\u001b[39;49;00m\u001b[34m.\u001b[39;49;00m\u001b[33m\"\u001b[39;49;00m\u001b[33mkm_reference\u001b[39;49;00m\u001b[33m\"\u001b[39;49;00m,\u001b[37m\u001b[39;49;00m\n",
      "\u001b[37m       \u001b[39;49;00m\u001b[33m\"\u001b[39;49;00m\u001b[33mreportings_reporting\u001b[39;49;00m\u001b[33m\"\u001b[39;49;00m\u001b[34m.\u001b[39;49;00m\u001b[33m\"\u001b[39;49;00m\u001b[33mproject_km\u001b[39;49;00m\u001b[33m\"\u001b[39;49;00m,\u001b[37m\u001b[39;49;00m\n",
      "\u001b[37m       \u001b[39;49;00m\u001b[33m\"\u001b[39;49;00m\u001b[33mreportings_reporting\u001b[39;49;00m\u001b[33m\"\u001b[39;49;00m\u001b[34m.\u001b[39;49;00m\u001b[33m\"\u001b[39;49;00m\u001b[33mproject_end_km\u001b[39;49;00m\u001b[33m\"\u001b[39;49;00m,\u001b[37m\u001b[39;49;00m\n",
      "\u001b[37m       \u001b[39;49;00m\u001b[33m\"\u001b[39;49;00m\u001b[33mreportings_reporting\u001b[39;49;00m\u001b[33m\"\u001b[39;49;00m\u001b[34m.\u001b[39;49;00m\u001b[33m\"\u001b[39;49;00m\u001b[33mpoint\u001b[39;49;00m\u001b[33m\"\u001b[39;49;00m::\u001b[36mbytea\u001b[39;49;00m,\u001b[37m\u001b[39;49;00m\n",
      "\u001b[37m       \u001b[39;49;00m\u001b[33m\"\u001b[39;49;00m\u001b[33mreportings_reporting\u001b[39;49;00m\u001b[33m\"\u001b[39;49;00m\u001b[34m.\u001b[39;49;00m\u001b[33m\"\u001b[39;49;00m\u001b[33mdirection\u001b[39;49;00m\u001b[33m\"\u001b[39;49;00m,\u001b[37m\u001b[39;49;00m\n",
      "\u001b[37m       \u001b[39;49;00m\u001b[33m\"\u001b[39;49;00m\u001b[33mreportings_reporting\u001b[39;49;00m\u001b[33m\"\u001b[39;49;00m\u001b[34m.\u001b[39;49;00m\u001b[33m\"\u001b[39;49;00m\u001b[33mlane\u001b[39;49;00m\u001b[33m\"\u001b[39;49;00m,\u001b[37m\u001b[39;49;00m\n",
      "\u001b[37m       \u001b[39;49;00m\u001b[33m\"\u001b[39;49;00m\u001b[33mreportings_reporting\u001b[39;49;00m\u001b[33m\"\u001b[39;49;00m\u001b[34m.\u001b[39;49;00m\u001b[33m\"\u001b[39;49;00m\u001b[33mtrack\u001b[39;49;00m\u001b[33m\"\u001b[39;49;00m,\u001b[37m\u001b[39;49;00m\n",
      "\u001b[37m       \u001b[39;49;00m\u001b[33m\"\u001b[39;49;00m\u001b[33mreportings_reporting\u001b[39;49;00m\u001b[33m\"\u001b[39;49;00m\u001b[34m.\u001b[39;49;00m\u001b[33m\"\u001b[39;49;00m\u001b[33mbranch\u001b[39;49;00m\u001b[33m\"\u001b[39;49;00m,\u001b[37m\u001b[39;49;00m\n",
      "\u001b[37m       \u001b[39;49;00m\u001b[33m\"\u001b[39;49;00m\u001b[33mreportings_reporting\u001b[39;49;00m\u001b[33m\"\u001b[39;49;00m\u001b[34m.\u001b[39;49;00m\u001b[33m\"\u001b[39;49;00m\u001b[33maddress\u001b[39;49;00m\u001b[33m\"\u001b[39;49;00m,\u001b[37m\u001b[39;49;00m\n",
      "\u001b[37m       \u001b[39;49;00m\u001b[33m\"\u001b[39;49;00m\u001b[33mreportings_reporting\u001b[39;49;00m\u001b[33m\"\u001b[39;49;00m\u001b[34m.\u001b[39;49;00m\u001b[33m\"\u001b[39;49;00m\u001b[33mgeometry\u001b[39;49;00m\u001b[33m\"\u001b[39;49;00m::\u001b[36mbytea\u001b[39;49;00m,\u001b[37m\u001b[39;49;00m\n",
      "\u001b[37m       \u001b[39;49;00m\u001b[33m\"\u001b[39;49;00m\u001b[33mreportings_reporting\u001b[39;49;00m\u001b[33m\"\u001b[39;49;00m\u001b[34m.\u001b[39;49;00m\u001b[33m\"\u001b[39;49;00m\u001b[33mproperties\u001b[39;49;00m\u001b[33m\"\u001b[39;49;00m,\u001b[37m\u001b[39;49;00m\n",
      "\u001b[37m       \u001b[39;49;00m\u001b[33m\"\u001b[39;49;00m\u001b[33mreportings_reporting\u001b[39;49;00m\u001b[33m\"\u001b[39;49;00m\u001b[34m.\u001b[39;49;00m\u001b[33m\"\u001b[39;49;00m\u001b[33mactive_tile_layer_id\u001b[39;49;00m\u001b[33m\"\u001b[39;49;00m,\u001b[37m\u001b[39;49;00m\n",
      "\u001b[37m       \u001b[39;49;00m\u001b[33m\"\u001b[39;49;00m\u001b[33mreportings_reporting\u001b[39;49;00m\u001b[33m\"\u001b[39;49;00m\u001b[34m.\u001b[39;49;00m\u001b[33m\"\u001b[39;49;00m\u001b[33mcreated_by_id\u001b[39;49;00m\u001b[33m\"\u001b[39;49;00m,\u001b[37m\u001b[39;49;00m\n",
      "\u001b[37m       \u001b[39;49;00m\u001b[33m\"\u001b[39;49;00m\u001b[33mreportings_reporting\u001b[39;49;00m\u001b[33m\"\u001b[39;49;00m\u001b[34m.\u001b[39;49;00m\u001b[33m\"\u001b[39;49;00m\u001b[33mfirm_id\u001b[39;49;00m\u001b[33m\"\u001b[39;49;00m,\u001b[37m\u001b[39;49;00m\n",
      "\u001b[37m       \u001b[39;49;00m\u001b[33m\"\u001b[39;49;00m\u001b[33mreportings_reporting\u001b[39;49;00m\u001b[33m\"\u001b[39;49;00m\u001b[34m.\u001b[39;49;00m\u001b[33m\"\u001b[39;49;00m\u001b[33moccurrence_type_id\u001b[39;49;00m\u001b[33m\"\u001b[39;49;00m,\u001b[37m\u001b[39;49;00m\n",
      "\u001b[37m       \u001b[39;49;00m\u001b[33m\"\u001b[39;49;00m\u001b[33mreportings_reporting\u001b[39;49;00m\u001b[33m\"\u001b[39;49;00m\u001b[34m.\u001b[39;49;00m\u001b[33m\"\u001b[39;49;00m\u001b[33mform_data\u001b[39;49;00m\u001b[33m\"\u001b[39;49;00m,\u001b[37m\u001b[39;49;00m\n",
      "\u001b[37m       \u001b[39;49;00m\u001b[33m\"\u001b[39;49;00m\u001b[33mreportings_reporting\u001b[39;49;00m\u001b[33m\"\u001b[39;49;00m\u001b[34m.\u001b[39;49;00m\u001b[33m\"\u001b[39;49;00m\u001b[33mform_metadata\u001b[39;49;00m\u001b[33m\"\u001b[39;49;00m,\u001b[37m\u001b[39;49;00m\n",
      "\u001b[37m       \u001b[39;49;00m\u001b[33m\"\u001b[39;49;00m\u001b[33mreportings_reporting\u001b[39;49;00m\u001b[33m\"\u001b[39;49;00m\u001b[34m.\u001b[39;49;00m\u001b[33m\"\u001b[39;49;00m\u001b[33mexecuted_at\u001b[39;49;00m\u001b[33m\"\u001b[39;49;00m,\u001b[37m\u001b[39;49;00m\n",
      "\u001b[37m       \u001b[39;49;00m\u001b[33m\"\u001b[39;49;00m\u001b[33mreportings_reporting\u001b[39;49;00m\u001b[33m\"\u001b[39;49;00m\u001b[34m.\u001b[39;49;00m\u001b[33m\"\u001b[39;49;00m\u001b[33mcreated_at\u001b[39;49;00m\u001b[33m\"\u001b[39;49;00m,\u001b[37m\u001b[39;49;00m\n",
      "\u001b[37m       \u001b[39;49;00m\u001b[33m\"\u001b[39;49;00m\u001b[33mreportings_reporting\u001b[39;49;00m\u001b[33m\"\u001b[39;49;00m\u001b[34m.\u001b[39;49;00m\u001b[33m\"\u001b[39;49;00m\u001b[33mupdated_at\u001b[39;49;00m\u001b[33m\"\u001b[39;49;00m,\u001b[37m\u001b[39;49;00m\n",
      "\u001b[37m       \u001b[39;49;00m\u001b[33m\"\u001b[39;49;00m\u001b[33mreportings_reporting\u001b[39;49;00m\u001b[33m\"\u001b[39;49;00m\u001b[34m.\u001b[39;49;00m\u001b[33m\"\u001b[39;49;00m\u001b[33mfound_at\u001b[39;49;00m\u001b[33m\"\u001b[39;49;00m,\u001b[37m\u001b[39;49;00m\n",
      "\u001b[37m       \u001b[39;49;00m\u001b[33m\"\u001b[39;49;00m\u001b[33mreportings_reporting\u001b[39;49;00m\u001b[33m\"\u001b[39;49;00m\u001b[34m.\u001b[39;49;00m\u001b[33m\"\u001b[39;49;00m\u001b[33mdue_at\u001b[39;49;00m\u001b[33m\"\u001b[39;49;00m,\u001b[37m\u001b[39;49;00m\n",
      "\u001b[37m       \u001b[39;49;00m\u001b[33m\"\u001b[39;49;00m\u001b[33mreportings_reporting\u001b[39;49;00m\u001b[33m\"\u001b[39;49;00m\u001b[34m.\u001b[39;49;00m\u001b[33m\"\u001b[39;49;00m\u001b[33mstatus_id\u001b[39;49;00m\u001b[33m\"\u001b[39;49;00m,\u001b[37m\u001b[39;49;00m\n",
      "\u001b[37m       \u001b[39;49;00m\u001b[33m\"\u001b[39;49;00m\u001b[33mreportings_reporting\u001b[39;49;00m\u001b[33m\"\u001b[39;49;00m\u001b[34m.\u001b[39;49;00m\u001b[33m\"\u001b[39;49;00m\u001b[33mjob_id\u001b[39;49;00m\u001b[33m\"\u001b[39;49;00m,\u001b[37m\u001b[39;49;00m\n",
      "\u001b[37m       \u001b[39;49;00m\u001b[33m\"\u001b[39;49;00m\u001b[33mreportings_reporting\u001b[39;49;00m\u001b[33m\"\u001b[39;49;00m\u001b[34m.\u001b[39;49;00m\u001b[33m\"\u001b[39;49;00m\u001b[33mparent_id\u001b[39;49;00m\u001b[33m\"\u001b[39;49;00m,\u001b[37m\u001b[39;49;00m\n",
      "\u001b[37m       \u001b[39;49;00m\u001b[33m\"\u001b[39;49;00m\u001b[33mreportings_reporting\u001b[39;49;00m\u001b[33m\"\u001b[39;49;00m\u001b[34m.\u001b[39;49;00m\u001b[33m\"\u001b[39;49;00m\u001b[33mactive_inspection_id\u001b[39;49;00m\u001b[33m\"\u001b[39;49;00m,\u001b[37m\u001b[39;49;00m\n",
      "\u001b[37m       \u001b[39;49;00m\u001b[33m\"\u001b[39;49;00m\u001b[33mreportings_reporting\u001b[39;49;00m\u001b[33m\"\u001b[39;49;00m\u001b[34m.\u001b[39;49;00m\u001b[33m\"\u001b[39;49;00m\u001b[33mdue_at_manually_specified\u001b[39;49;00m\u001b[33m\"\u001b[39;49;00m,\u001b[37m\u001b[39;49;00m\n",
      "\u001b[37m       \u001b[39;49;00m\u001b[33m\"\u001b[39;49;00m\u001b[33mreportings_reporting\u001b[39;49;00m\u001b[33m\"\u001b[39;49;00m\u001b[34m.\u001b[39;49;00m\u001b[33m\"\u001b[39;49;00m\u001b[33mend_km_manually_specified\u001b[39;49;00m\u001b[33m\"\u001b[39;49;00m,\u001b[37m\u001b[39;49;00m\n",
      "\u001b[37m       \u001b[39;49;00m\u001b[33m\"\u001b[39;49;00m\u001b[33mreportings_reporting\u001b[39;49;00m\u001b[33m\"\u001b[39;49;00m\u001b[34m.\u001b[39;49;00m\u001b[33m\"\u001b[39;49;00m\u001b[33mproject_end_km_manually_specified\u001b[39;49;00m\u001b[33m\"\u001b[39;49;00m,\u001b[37m\u001b[39;49;00m\n",
      "\u001b[37m       \u001b[39;49;00m\u001b[33m\"\u001b[39;49;00m\u001b[33mreportings_reporting\u001b[39;49;00m\u001b[33m\"\u001b[39;49;00m\u001b[34m.\u001b[39;49;00m\u001b[33m\"\u001b[39;49;00m\u001b[33meditable\u001b[39;49;00m\u001b[33m\"\u001b[39;49;00m,\u001b[37m\u001b[39;49;00m\n",
      "\u001b[37m       \u001b[39;49;00m\u001b[33m\"\u001b[39;49;00m\u001b[33mreportings_reporting\u001b[39;49;00m\u001b[33m\"\u001b[39;49;00m\u001b[34m.\u001b[39;49;00m\u001b[33m\"\u001b[39;49;00m\u001b[33mapproval_step_id\u001b[39;49;00m\u001b[33m\"\u001b[39;49;00m,\u001b[37m\u001b[39;49;00m\n",
      "\u001b[37m       \u001b[39;49;00m\u001b[33m\"\u001b[39;49;00m\u001b[33mreportings_reporting\u001b[39;49;00m\u001b[33m\"\u001b[39;49;00m\u001b[34m.\u001b[39;49;00m\u001b[33m\"\u001b[39;49;00m\u001b[33mkeywords\u001b[39;49;00m\u001b[33m\"\u001b[39;49;00m,\u001b[37m\u001b[39;49;00m\n",
      "\u001b[37m       \u001b[39;49;00m\u001b[33m\"\u001b[39;49;00m\u001b[33mreportings_reporting\u001b[39;49;00m\u001b[33m\"\u001b[39;49;00m\u001b[34m.\u001b[39;49;00m\u001b[33m\"\u001b[39;49;00m\u001b[33mlot\u001b[39;49;00m\u001b[33m\"\u001b[39;49;00m,\u001b[37m\u001b[39;49;00m\n",
      "\u001b[37m       \u001b[39;49;00m\u001b[33m\"\u001b[39;49;00m\u001b[33mreportings_reporting\u001b[39;49;00m\u001b[33m\"\u001b[39;49;00m\u001b[34m.\u001b[39;49;00m\u001b[33m\"\u001b[39;49;00m\u001b[33mtechnical_opinion\u001b[39;49;00m\u001b[33m\"\u001b[39;49;00m,\u001b[37m\u001b[39;49;00m\n",
      "\u001b[37m       \u001b[39;49;00m\u001b[33m\"\u001b[39;49;00m\u001b[33mreportings_reporting\u001b[39;49;00m\u001b[33m\"\u001b[39;49;00m\u001b[34m.\u001b[39;49;00m\u001b[33m\"\u001b[39;49;00m\u001b[33mconstruction_id\u001b[39;49;00m\u001b[33m\"\u001b[39;49;00m,\u001b[37m\u001b[39;49;00m\n",
      "\u001b[37m       \u001b[39;49;00m\u001b[33m\"\u001b[39;49;00m\u001b[33mreportings_reporting\u001b[39;49;00m\u001b[33m\"\u001b[39;49;00m\u001b[34m.\u001b[39;49;00m\u001b[33m\"\u001b[39;49;00m\u001b[33mpdf_import_id\u001b[39;49;00m\u001b[33m\"\u001b[39;49;00m,\u001b[37m\u001b[39;49;00m\n",
      "\u001b[37m       \u001b[39;49;00m\u001b[33m\"\u001b[39;49;00m\u001b[33mreportings_reporting\u001b[39;49;00m\u001b[33m\"\u001b[39;49;00m\u001b[34m.\u001b[39;49;00m\u001b[33m\"\u001b[39;49;00m\u001b[33mshared_with_agency\u001b[39;49;00m\u001b[33m\"\u001b[39;49;00m,\u001b[37m\u001b[39;49;00m\n",
      "\u001b[37m       \u001b[39;49;00m\u001b[33m\"\u001b[39;49;00m\u001b[33mreportings_reporting\u001b[39;49;00m\u001b[33m\"\u001b[39;49;00m\u001b[34m.\u001b[39;49;00m\u001b[33m\"\u001b[39;49;00m\u001b[33mcreated_recuperations_with_relation\u001b[39;49;00m\u001b[33m\"\u001b[39;49;00m\u001b[37m\u001b[39;49;00m\n",
      "\u001b[34mFROM\u001b[39;49;00m\u001b[37m \u001b[39;49;00m\u001b[33m\"\u001b[39;49;00m\u001b[33mreportings_reporting\u001b[39;49;00m\u001b[33m\"\u001b[39;49;00m\u001b[37m\u001b[39;49;00m\n",
      "\u001b[34mINNER\u001b[39;49;00m\u001b[37m \u001b[39;49;00m\u001b[34mJOIN\u001b[39;49;00m\u001b[37m \u001b[39;49;00m\u001b[33m\"\u001b[39;49;00m\u001b[33mcompanies_company\u001b[39;49;00m\u001b[33m\"\u001b[39;49;00m\u001b[37m \u001b[39;49;00m\u001b[34mON\u001b[39;49;00m\u001b[37m \u001b[39;49;00m(\u001b[33m\"\u001b[39;49;00m\u001b[33mreportings_reporting\u001b[39;49;00m\u001b[33m\"\u001b[39;49;00m\u001b[34m.\u001b[39;49;00m\u001b[33m\"\u001b[39;49;00m\u001b[33mcompany_id\u001b[39;49;00m\u001b[33m\"\u001b[39;49;00m\u001b[37m \u001b[39;49;00m=\u001b[37m \u001b[39;49;00m\u001b[33m\"\u001b[39;49;00m\u001b[33mcompanies_company\u001b[39;49;00m\u001b[33m\"\u001b[39;49;00m\u001b[34m.\u001b[39;49;00m\u001b[33m\"\u001b[39;49;00m\u001b[33muuid\u001b[39;49;00m\u001b[33m\"\u001b[39;49;00m)\u001b[37m\u001b[39;49;00m\n",
      "\u001b[34mWHERE\u001b[39;49;00m\u001b[37m \u001b[39;49;00m(((\u001b[34mEXTRACT\u001b[39;49;00m(\u001b[33m'\u001b[39;49;00m\u001b[33mmonth\u001b[39;49;00m\u001b[33m'\u001b[39;49;00m\u001b[37m\u001b[39;49;00m\n",
      "\u001b[37m                 \u001b[39;49;00m\u001b[34mFROM\u001b[39;49;00m\u001b[37m \u001b[39;49;00m\u001b[33m\"\u001b[39;49;00m\u001b[33mreportings_reporting\u001b[39;49;00m\u001b[33m\"\u001b[39;49;00m\u001b[34m.\u001b[39;49;00m\u001b[33m\"\u001b[39;49;00m\u001b[33mcreated_at\u001b[39;49;00m\u001b[33m\"\u001b[39;49;00m\u001b[37m \u001b[39;49;00m\u001b[34mAT\u001b[39;49;00m\u001b[37m \u001b[39;49;00m\u001b[36mTIME\u001b[39;49;00m\u001b[37m \u001b[39;49;00m\u001b[34mZONE\u001b[39;49;00m\u001b[37m \u001b[39;49;00m\u001b[33m'\u001b[39;49;00m\u001b[33mAmerica/Sao_Paulo\u001b[39;49;00m\u001b[33m'\u001b[39;49;00m)\u001b[37m \u001b[39;49;00m=\u001b[37m \u001b[39;49;00m\u001b[34m3\u001b[39;49;00m\u001b[37m\u001b[39;49;00m\n",
      "\u001b[37m         \u001b[39;49;00m\u001b[34mAND\u001b[39;49;00m\u001b[37m \u001b[39;49;00m\u001b[33m\"\u001b[39;49;00m\u001b[33mreportings_reporting\u001b[39;49;00m\u001b[33m\"\u001b[39;49;00m\u001b[34m.\u001b[39;49;00m\u001b[33m\"\u001b[39;49;00m\u001b[33mcreated_at\u001b[39;49;00m\u001b[33m\"\u001b[39;49;00m\u001b[37m \u001b[39;49;00m\u001b[34mBETWEEN\u001b[39;49;00m\u001b[37m \u001b[39;49;00m\u001b[34m2024\u001b[39;49;00m-\u001b[34m01\u001b[39;49;00m-\u001b[34m01\u001b[39;49;00m\u001b[37m \u001b[39;49;00m\u001b[34m00\u001b[39;49;00m:\u001b[34m00\u001b[39;49;00m:\u001b[34m00\u001b[39;49;00m-\u001b[34m03\u001b[39;49;00m:\u001b[34m00\u001b[39;49;00m\u001b[37m \u001b[39;49;00m\u001b[34mAND\u001b[39;49;00m\u001b[37m \u001b[39;49;00m\u001b[34m2024\u001b[39;49;00m-\u001b[34m12\u001b[39;49;00m-\u001b[34m31\u001b[39;49;00m\u001b[37m \u001b[39;49;00m\u001b[34m23\u001b[39;49;00m:\u001b[34m59\u001b[39;49;00m:\u001b[34m59.999999\u001b[39;49;00m-\u001b[34m03\u001b[39;49;00m:\u001b[34m00\u001b[39;49;00m)\u001b[37m\u001b[39;49;00m\n",
      "\u001b[37m        \u001b[39;49;00m\u001b[34mOR\u001b[39;49;00m\u001b[37m \u001b[39;49;00m(\u001b[34mEXTRACT\u001b[39;49;00m(\u001b[33m'\u001b[39;49;00m\u001b[33mmonth\u001b[39;49;00m\u001b[33m'\u001b[39;49;00m\u001b[37m\u001b[39;49;00m\n",
      "\u001b[37m                    \u001b[39;49;00m\u001b[34mFROM\u001b[39;49;00m\u001b[37m \u001b[39;49;00m\u001b[33m\"\u001b[39;49;00m\u001b[33mreportings_reporting\u001b[39;49;00m\u001b[33m\"\u001b[39;49;00m\u001b[34m.\u001b[39;49;00m\u001b[33m\"\u001b[39;49;00m\u001b[33mupdated_at\u001b[39;49;00m\u001b[33m\"\u001b[39;49;00m\u001b[37m \u001b[39;49;00m\u001b[34mAT\u001b[39;49;00m\u001b[37m \u001b[39;49;00m\u001b[36mTIME\u001b[39;49;00m\u001b[37m \u001b[39;49;00m\u001b[34mZONE\u001b[39;49;00m\u001b[37m \u001b[39;49;00m\u001b[33m'\u001b[39;49;00m\u001b[33mAmerica/Sao_Paulo\u001b[39;49;00m\u001b[33m'\u001b[39;49;00m)\u001b[37m \u001b[39;49;00m=\u001b[37m \u001b[39;49;00m\u001b[34m3\u001b[39;49;00m\u001b[37m\u001b[39;49;00m\n",
      "\u001b[37m            \u001b[39;49;00m\u001b[34mAND\u001b[39;49;00m\u001b[37m \u001b[39;49;00m\u001b[33m\"\u001b[39;49;00m\u001b[33mreportings_reporting\u001b[39;49;00m\u001b[33m\"\u001b[39;49;00m\u001b[34m.\u001b[39;49;00m\u001b[33m\"\u001b[39;49;00m\u001b[33mupdated_at\u001b[39;49;00m\u001b[33m\"\u001b[39;49;00m\u001b[37m \u001b[39;49;00m\u001b[34mBETWEEN\u001b[39;49;00m\u001b[37m \u001b[39;49;00m\u001b[34m2024\u001b[39;49;00m-\u001b[34m01\u001b[39;49;00m-\u001b[34m01\u001b[39;49;00m\u001b[37m \u001b[39;49;00m\u001b[34m00\u001b[39;49;00m:\u001b[34m00\u001b[39;49;00m:\u001b[34m00\u001b[39;49;00m-\u001b[34m03\u001b[39;49;00m:\u001b[34m00\u001b[39;49;00m\u001b[37m \u001b[39;49;00m\u001b[34mAND\u001b[39;49;00m\u001b[37m \u001b[39;49;00m\u001b[34m2024\u001b[39;49;00m-\u001b[34m12\u001b[39;49;00m-\u001b[34m31\u001b[39;49;00m\u001b[37m \u001b[39;49;00m\u001b[34m23\u001b[39;49;00m:\u001b[34m59\u001b[39;49;00m:\u001b[34m59.999999\u001b[39;49;00m-\u001b[34m03\u001b[39;49;00m:\u001b[34m00\u001b[39;49;00m))\u001b[37m\u001b[39;49;00m\n",
      "\u001b[37m       \u001b[39;49;00m\u001b[34mAND\u001b[39;49;00m\u001b[37m \u001b[39;49;00m\u001b[33m\"\u001b[39;49;00m\u001b[33mcompanies_company\u001b[39;49;00m\u001b[33m\"\u001b[39;49;00m\u001b[34m.\u001b[39;49;00m\u001b[33m\"\u001b[39;49;00m\u001b[33mname\u001b[39;49;00m\u001b[33m\"\u001b[39;49;00m\u001b[37m \u001b[39;49;00m=\u001b[37m \u001b[39;49;00mLCM\u001b[37m \u001b[39;49;00m-\u001b[37m \u001b[39;49;00mGaspar)\u001b[37m\u001b[39;49;00m\n",
      "\n"
     ]
    }
   ],
   "source": [
    "print_sql(Reporting.objects.filter(Q(created_at__year=2024, created_at__month=3) & \n",
    "                         Q(updated_at__year=2024, updated_at__month=3),\n",
    "                         company__name='LCM - Gaspar'))"
   ]
  },
  {
   "cell_type": "code",
   "execution_count": 26,
   "id": "5f250f12",
   "metadata": {},
   "outputs": [],
   "source": [
    "def time_spent(queryset):\n",
    "    from django.db import connection\n",
    "    import time\n",
    "\n",
    "    # Start time\n",
    "    start_time = time.time()\n",
    "\n",
    "    # Your query goes here\n",
    "    # For example:\n",
    "    queryset\n",
    "\n",
    "    # End time\n",
    "    end_time = time.time()\n",
    "\n",
    "    # Calculate the total time spent\n",
    "    total_time = end_time - start_time\n",
    "\n",
    "    # Print the total time spent\n",
    "    print(\"Total time spent: {:.10f} seconds\".format(total_time))\n",
    "\n",
    "    # Print the queries and their times\n",
    "    for query in connection.queries:\n",
    "        print(\"Query: {}, Time: {} seconds\".format(query['sql'], query['time']))"
   ]
  },
  {
   "cell_type": "code",
   "execution_count": 28,
   "id": "8eeecee4",
   "metadata": {},
   "outputs": [
    {
     "name": "stdout",
     "output_type": "stream",
     "text": [
      "Total time spent: 0.0000009537 seconds\n",
      "Total time spent: 0.0000004768 seconds\n"
     ]
    }
   ],
   "source": [
    "time_spent(Reporting.objects.filter(Q(created_at__year=2024, created_at__month=3) & \n",
    "                         Q(updated_at__year=2024, updated_at__month=3),\n",
    "                         company__name='LCM - Gaspar'))\n",
    "time_spent(Reporting.objects.filter(created_at__gte='2024-03-01',created_at__lte='2024-03-31',\n",
    "                         updated_at__gte='2024-03-01',updated_at__lte='2024-03-31',\n",
    "                         company__name='LCM - Gaspar'))"
   ]
  },
  {
   "cell_type": "code",
   "execution_count": 1,
   "id": "fa412b32",
   "metadata": {},
   "outputs": [],
   "source": [
    "dados=[]\n",
    "for a in UserInCompany.objects.filter(company__name='Eixo SP'):\n",
    "    if a.user.last_login:\n",
    "        dados.append((a.user.get_full_name(),a.user.username,a.user.email,a.user.last_login.strftime('%d/%m/%Y')))\n",
    "    else:\n",
    "        dados.append((a.user.get_full_name(),a.user.username,a.user.email,\"Nunca\"))"
   ]
  },
  {
   "cell_type": "code",
   "execution_count": 2,
   "id": "543eb5f2",
   "metadata": {},
   "outputs": [],
   "source": [
    "import pandas as pd"
   ]
  },
  {
   "cell_type": "code",
   "execution_count": 4,
   "id": "5e78a202",
   "metadata": {},
   "outputs": [],
   "source": [
    "df = pd.DataFrame(data=dados,columns=['Usuário',\"Username\",\"Email\",'Ultimo Login'])"
   ]
  },
  {
   "cell_type": "code",
   "execution_count": 5,
   "id": "da7d4647",
   "metadata": {},
   "outputs": [
    {
     "data": {
      "text/html": [
       "<div>\n",
       "<style scoped>\n",
       "    .dataframe tbody tr th:only-of-type {\n",
       "        vertical-align: middle;\n",
       "    }\n",
       "\n",
       "    .dataframe tbody tr th {\n",
       "        vertical-align: top;\n",
       "    }\n",
       "\n",
       "    .dataframe thead th {\n",
       "        text-align: right;\n",
       "    }\n",
       "</style>\n",
       "<table border=\"1\" class=\"dataframe\">\n",
       "  <thead>\n",
       "    <tr style=\"text-align: right;\">\n",
       "      <th></th>\n",
       "      <th>Usuário</th>\n",
       "      <th>Username</th>\n",
       "      <th>Email</th>\n",
       "      <th>Ultimo Login</th>\n",
       "    </tr>\n",
       "  </thead>\n",
       "  <tbody>\n",
       "    <tr>\n",
       "      <th>0</th>\n",
       "      <td>Filipi Durval Marin de Souza</td>\n",
       "      <td>filipi.souza</td>\n",
       "      <td>filipi.souza@eixosp.com.br</td>\n",
       "      <td>29/04/2024</td>\n",
       "    </tr>\n",
       "    <tr>\n",
       "      <th>1</th>\n",
       "      <td>Fabio Henrique Oliveira</td>\n",
       "      <td>fabio.henrique</td>\n",
       "      <td>ingrid.santos@eixosp.com.br</td>\n",
       "      <td>07/05/2024</td>\n",
       "    </tr>\n",
       "    <tr>\n",
       "      <th>2</th>\n",
       "      <td>Reginaldo Alves</td>\n",
       "      <td>reginaldo.alves</td>\n",
       "      <td>reginaldo.alves@eixosp.com.br</td>\n",
       "      <td>03/05/2024</td>\n",
       "    </tr>\n",
       "    <tr>\n",
       "      <th>3</th>\n",
       "      <td>marcos moraes machado</td>\n",
       "      <td>marcos.moraes</td>\n",
       "      <td>conserva.regional03@ibhservicos.com.br</td>\n",
       "      <td>04/10/2022</td>\n",
       "    </tr>\n",
       "    <tr>\n",
       "      <th>4</th>\n",
       "      <td>Isabelly AJR</td>\n",
       "      <td>isabelly.ajr</td>\n",
       "      <td>isabelly.viafloresta@gmail.com</td>\n",
       "      <td>07/05/2024</td>\n",
       "    </tr>\n",
       "    <tr>\n",
       "      <th>...</th>\n",
       "      <td>...</td>\n",
       "      <td>...</td>\n",
       "      <td>...</td>\n",
       "      <td>...</td>\n",
       "    </tr>\n",
       "    <tr>\n",
       "      <th>1325</th>\n",
       "      <td>Danielly Luiza Ribeiro</td>\n",
       "      <td>danielly.ribeiro</td>\n",
       "      <td>danielly.ribeiro@eixosp.com.br</td>\n",
       "      <td>26/04/2024</td>\n",
       "    </tr>\n",
       "    <tr>\n",
       "      <th>1326</th>\n",
       "      <td>Antonio Fernando Giacomeli</td>\n",
       "      <td>antonio.giacomeli</td>\n",
       "      <td>atilio.coradine@eixosp.com.br</td>\n",
       "      <td>08/05/2024</td>\n",
       "    </tr>\n",
       "    <tr>\n",
       "      <th>1327</th>\n",
       "      <td>Thiago Santos da Colsta</td>\n",
       "      <td>thiago.costa</td>\n",
       "      <td>atilio.coradine@eixosp.com.br</td>\n",
       "      <td>19/04/2024</td>\n",
       "    </tr>\n",
       "    <tr>\n",
       "      <th>1328</th>\n",
       "      <td>Louise Gonçalves Bueno</td>\n",
       "      <td>louise.bueno</td>\n",
       "      <td>louise.bueno@eixosp.com.br</td>\n",
       "      <td>08/05/2024</td>\n",
       "    </tr>\n",
       "    <tr>\n",
       "      <th>1329</th>\n",
       "      <td>Germano Afonso de Paula</td>\n",
       "      <td>germano.paula</td>\n",
       "      <td>germano.paula@eixosp.com.br</td>\n",
       "      <td>08/05/2024</td>\n",
       "    </tr>\n",
       "  </tbody>\n",
       "</table>\n",
       "<p>1330 rows × 4 columns</p>\n",
       "</div>"
      ],
      "text/plain": [
       "                           Usuário           Username  \\\n",
       "0     Filipi Durval Marin de Souza       filipi.souza   \n",
       "1          Fabio Henrique Oliveira     fabio.henrique   \n",
       "2                  Reginaldo Alves    reginaldo.alves   \n",
       "3            marcos moraes machado      marcos.moraes   \n",
       "4                     Isabelly AJR       isabelly.ajr   \n",
       "...                            ...                ...   \n",
       "1325        Danielly Luiza Ribeiro   danielly.ribeiro   \n",
       "1326    Antonio Fernando Giacomeli  antonio.giacomeli   \n",
       "1327       Thiago Santos da Colsta       thiago.costa   \n",
       "1328        Louise Gonçalves Bueno       louise.bueno   \n",
       "1329       Germano Afonso de Paula      germano.paula   \n",
       "\n",
       "                                       Email Ultimo Login  \n",
       "0                 filipi.souza@eixosp.com.br   29/04/2024  \n",
       "1                ingrid.santos@eixosp.com.br   07/05/2024  \n",
       "2              reginaldo.alves@eixosp.com.br   03/05/2024  \n",
       "3     conserva.regional03@ibhservicos.com.br   04/10/2022  \n",
       "4             isabelly.viafloresta@gmail.com   07/05/2024  \n",
       "...                                      ...          ...  \n",
       "1325          danielly.ribeiro@eixosp.com.br   26/04/2024  \n",
       "1326           atilio.coradine@eixosp.com.br   08/05/2024  \n",
       "1327           atilio.coradine@eixosp.com.br   19/04/2024  \n",
       "1328              louise.bueno@eixosp.com.br   08/05/2024  \n",
       "1329             germano.paula@eixosp.com.br   08/05/2024  \n",
       "\n",
       "[1330 rows x 4 columns]"
      ]
     },
     "execution_count": 5,
     "metadata": {},
     "output_type": "execute_result"
    }
   ],
   "source": [
    "df"
   ]
  },
  {
   "cell_type": "code",
   "execution_count": 6,
   "id": "e1e6e28a",
   "metadata": {},
   "outputs": [],
   "source": [
    "df.to_excel('relUsersEixoSP.xlsx')"
   ]
  },
  {
   "cell_type": "code",
   "execution_count": 16,
   "id": "565d17bd",
   "metadata": {},
   "outputs": [],
   "source": [
    "dictionary={\"km\": \"km\",\n",
    "\"km final\": \"end_km\",\n",
    "\"km de projeto\": \"project_km\",\n",
    "\"km final de projeto\": \"project_end_km\",\n",
    "\"status\": \"status_id\",\n",
    "\"equipe\": \"firm_id\",\n",
    "\"empreiteira\": \"firm_id\",\n",
    "\"equipe/empreiteira\": \"firm_id\",\n",
    "\"encontrado em\": \"found_at\",\n",
    "\"executado em\": \"executed_at\",\n",
    "\"prazo\": \"due_at\",\n",
    "\"sentido\": \"direction\",\n",
    "\"direcao\": \"direction\",\n",
    "\"unidade\": \"company_id\",\n",
    "\"obra\": \"job_id\",\n",
    "\"classe\": \"occurrence_type_id\",\n",
    "\"faixa\": \"lane\",\n",
    "\"rodovia\": \"road_name\",\n",
    "\"pista\": \"track\",\n",
    "\"km de referencia\": \"km_reference\",\n",
    "\"ramo\": \"branch\",\n",
    "\"lote\": \"lot\",\n",
    "\"codigo do inventario para vinculo com apontamento\": \"inventory_value\",\n",
    "\"latitude\": \"latitude\",\n",
    "\"longitude\": \"longitude\"}"
   ]
  },
  {
   "cell_type": "code",
   "execution_count": null,
   "id": "a3371ce7",
   "metadata": {},
   "outputs": [
    {
     "name": "stdout",
     "output_type": "stream",
     "text": [
      "Classes que podem dar problema em alguma situação\n"
     ]
    }
   ],
   "source": [
    "from tqdm.notebook import tqdm\n",
    "print('Classes que podem dar problema em alguma situação')\n",
    "for a in tqdm(OccurrenceType.objects.all().prefetch_related('company').only('name','company','form_fields')):\n",
    "    for f in a.form_fields['fields']:\n",
    "        if f['apiName'].lower() in dictionary.values() or f['displayName'].lower() in dictionary.keys():\n",
    "            print(a.company.name,a.name,f['apiName'],f['displayName'])"
   ]
  },
  {
   "cell_type": "code",
   "execution_count": 2,
   "id": "7417ca0d",
   "metadata": {},
   "outputs": [],
   "source": [
    "reps=Reporting.objects.filter(company__name='Caminhos da Serra Gaúcha',road_name__icontains='ERS-122')"
   ]
  },
  {
   "cell_type": "code",
   "execution_count": null,
   "id": "17138a22",
   "metadata": {},
   "outputs": [],
   "source": [
    "from django.db.models import F"
   ]
  },
  {
   "cell_type": "code",
   "execution_count": 5,
   "id": "feb8df59",
   "metadata": {},
   "outputs": [
    {
     "data": {
      "text/plain": [
       "<QuerySet [<Reporting: [Caminhos da Serra Gaúcha] CSG-Inv-2024.03202 - 2024-03-20 03:00:00+00:00>]>"
      ]
     },
     "execution_count": 5,
     "metadata": {},
     "output_type": "execute_result"
    }
   ],
   "source": [
    "Reporting.objects.filter(company__name='Caminhos da Serra Gaúcha',road_name__icontains='ERS-122',number='CSG-Inv-2024.03202')"
   ]
  },
  {
   "cell_type": "code",
   "execution_count": 7,
   "id": "b49e0740",
   "metadata": {},
   "outputs": [
    {
     "name": "stdout",
     "output_type": "stream",
     "text": [
      "Searching KM on direction...\n",
      "Searching KM without direction...\n",
      "Found KM on Road 2110: ERS-122\n"
     ]
    }
   ],
   "source": [
    "for a in Reporting.objects.filter(company__name='Caminhos da Serra Gaúcha',road_name__icontains='ERS-122',number='CSG-Inv-2024.03202'):\n",
    "    a.km = a.km\n",
    "    a.save()"
   ]
  },
  {
   "cell_type": "code",
   "execution_count": 4,
   "id": "4f9531f8",
   "metadata": {},
   "outputs": [
    {
     "name": "stdout",
     "output_type": "stream",
     "text": [
      "CSG-Inv-2023.23220\n",
      "CSG-Inv-2023.23220\n",
      "CSG-Inv-2023.23220\n",
      "CSG-Inv-2023.23220\n",
      "CSG-Inv-2023.23220\n",
      "CSG-Inv-2023.23220\n",
      "CSG-Inv-2023.23220\n",
      "CSG-Inv-2023.23220\n",
      "CSG-Inv-2023.23220\n",
      "CSG-Inv-2023.23220\n",
      "CSG-Inv-2023.23220\n",
      "CSG-Inv-2023.23220\n",
      "CSG-Inv-2023.23220\n",
      "CSG-Inv-2023.23220\n",
      "CSG-Inv-2023.23220\n"
     ]
    }
   ],
   "source": [
    "for _ in range(15):\n",
    "    lista=reps.values_list()\n",
    "    print(reps.last().number)"
   ]
  },
  {
   "cell_type": "code",
   "execution_count": 20,
   "id": "56499eb1",
   "metadata": {},
   "outputs": [],
   "source": [
    "from openpyxl import load_workbook\n",
    "from tqdm.notebook import tqdm"
   ]
  },
  {
   "cell_type": "code",
   "execution_count": 16,
   "id": "f5c1c3e7",
   "metadata": {},
   "outputs": [],
   "source": [
    "filename='Apontamentos SP330'"
   ]
  },
  {
   "cell_type": "code",
   "execution_count": 17,
   "id": "d2555a2c",
   "metadata": {},
   "outputs": [],
   "source": [
    "wb = load_workbook(filename + '.xlsx')\n",
    "sheetname = wb.sheetnames[0]\n",
    "# sheetname\n",
    "ws = wb[sheetname]"
   ]
  },
  {
   "cell_type": "code",
   "execution_count": 18,
   "id": "d5890a1a",
   "metadata": {},
   "outputs": [],
   "source": [
    "header = []\n",
    "values = []\n",
    "\n",
    "for index, row in enumerate(ws.rows):\n",
    "    if index == 0:\n",
    "        header = list([a.value for a in row])\n",
    "        continue\n",
    "    obj = {}\n",
    "    for col_index, cell in enumerate(row):\n",
    "        value = cell.value\n",
    "        obj[header[col_index]] = value\n",
    "    values.append(obj)"
   ]
  },
  {
   "cell_type": "code",
   "execution_count": 19,
   "id": "d061717c",
   "metadata": {},
   "outputs": [
    {
     "data": {
      "text/plain": [
       "{'Número': 'VPT-PAV-2024.07256',\n",
       " 'Rodovia': 'SP-330',\n",
       " 'km inicial': 318.4,\n",
       " 'km final': 318.402,\n",
       " 'Lote': 'Lote 1',\n",
       " 'Latitude': -21.113954620819023,\n",
       " 'Longitude': -47.779232779745385,\n",
       " 'Natureza': 'Pavimento flexível',\n",
       " 'Classe': 'Fresagem Funcional',\n",
       " 'Comprimento': 2,\n",
       " 'Largura': 1.8,\n",
       " 'Espessura': 0.05,\n",
       " 'Faixa': 'Faixa 2',\n",
       " 'Sentido': 'Sul',\n",
       " 'Status': 'Em Análise',\n",
       " 'Criado por': 'Vinicius Oliveira',\n",
       " 'Atualizado por': 'Vinicius Oliveira',\n",
       " None: 'ViaPaulista S.A.',\n",
       " 'Equipe': 'Equipe de Pavimento',\n",
       " 'Programação': '',\n",
       " 'Início da Programação': '',\n",
       " 'Fim da Programação': '',\n",
       " 'Criado em': datetime.datetime(2024, 4, 12, 15, 37, 36, 659000),\n",
       " 'Encontrado em': datetime.datetime(2024, 4, 6, 0, 0),\n",
       " 'Atualizado em': datetime.datetime(2024, 4, 12, 15, 37, 36, 806000),\n",
       " 'Executado em': '',\n",
       " 'Observações': 'Afundamentos de pequena extensão',\n",
       " 'Prazo': datetime.datetime(2024, 5, 6, 0, 0),\n",
       " 'Código de Edital': None,\n",
       " 'CSP': None,\n",
       " 'Origem': 'Interna ',\n",
       " 'Cód. ARTESP': None,\n",
       " 'Data Recebimento ARTESP': None,\n",
       " 'Cód. KCOR': None,\n",
       " 'Cód. Interno': 'Levantamento',\n",
       " 'Tipo de Placa': None,\n",
       " 'Nome da Placa': None,\n",
       " 'Peso (kg)': None,\n",
       " 'Quantidade (uns)': None}"
      ]
     },
     "execution_count": 19,
     "metadata": {},
     "output_type": "execute_result"
    }
   ],
   "source": [
    "values[0]"
   ]
  },
  {
   "cell_type": "code",
   "execution_count": 21,
   "id": "31e5137c",
   "metadata": {},
   "outputs": [
    {
     "data": {
      "application/vnd.jupyter.widget-view+json": {
       "model_id": "d9cd1e9c1be34ac9802e6d920316d311",
       "version_major": 2,
       "version_minor": 0
      },
      "text/plain": [
       "  0%|          | 0/1532 [00:00<?, ?it/s]"
      ]
     },
     "metadata": {},
     "output_type": "display_data"
    }
   ],
   "source": [
    "rep_edit=[]\n",
    "for a in tqdm(values):\n",
    "    try:\n",
    "        rep=Reporting.objects.get(number=a['Número'],company__name='Arteris Via Paulista')\n",
    "        rep.form_data['notes'] = a['Observações']\n",
    "        rep_edit.append(rep)\n",
    "    except:\n",
    "        print(a['Número'])"
   ]
  },
  {
   "cell_type": "code",
   "execution_count": 29,
   "id": "95c5cfec",
   "metadata": {},
   "outputs": [
    {
     "data": {
      "text/plain": [
       "<Reporting: [Arteris Via Paulista] VPT-PAV-2024.07256 - 2024-04-06 03:00:00+00:00>"
      ]
     },
     "execution_count": 29,
     "metadata": {},
     "output_type": "execute_result"
    }
   ],
   "source": [
    "rep_edit[0]"
   ]
  },
  {
   "cell_type": "code",
   "execution_count": 26,
   "id": "ea033dd1",
   "metadata": {},
   "outputs": [],
   "source": [
    "from helpers.histories import bulk_update_with_history"
   ]
  },
  {
   "cell_type": "code",
   "execution_count": 27,
   "id": "b3aecdd7",
   "metadata": {},
   "outputs": [],
   "source": [
    "user=User.objects.get(username=\"rlcs\")"
   ]
  },
  {
   "cell_type": "code",
   "execution_count": 28,
   "id": "15d373a4",
   "metadata": {},
   "outputs": [],
   "source": [
    "apontamentos = bulk_update_with_history(rep_edit,Reporting, use_django_bulk=True,batch_size=1200,user=user)"
   ]
  },
  {
   "cell_type": "code",
   "execution_count": 50,
   "id": "d8488a59",
   "metadata": {},
   "outputs": [
    {
     "data": {
      "text/plain": [
       "217"
      ]
     },
     "execution_count": 50,
     "metadata": {},
     "output_type": "execute_result"
    }
   ],
   "source": [
    "occs=OccurrenceType.objects.filter(company__name='Arteris Via Paulista').exclude(occurrence_kind='2')\n",
    "occs.count()"
   ]
  },
  {
   "cell_type": "code",
   "execution_count": 51,
   "id": "51f304f5",
   "metadata": {},
   "outputs": [],
   "source": [
    "classes=[]\n",
    "for occ in occs:\n",
    "    size=len(occ.form_fields['fields'])+1\n",
    "    occ.form_fields['fields'].append({\"id\":size,\n",
    "                                     \"displayName\":\"Enviado ARTESP\",\n",
    "                                    \"apiName\":\"artespSent\",\n",
    "                                     \"dataType\":\"select\",\n",
    "                                     \"selectOptions\":{\"options\":[{\"name\":\"Sim\",\"value\":'1'},\n",
    "                                                                {\"name\":\"Não\",\"value\":'2'}]}})\n",
    "    iden = any(a for a in occ.form_fields['groups'] if a['displayName'] == 'Identificação')\n",
    "    if iden:\n",
    "        for i,b in enumerate(occ.form_fields['groups']):\n",
    "            if b['displayName'] == 'Identificação':\n",
    "                occ.form_fields['groups'][i]['members'].append(size)\n",
    "    else:\n",
    "        occ.form_fields['groups'][0]['members'].append(size)\n",
    "    classes.append(occ)"
   ]
  },
  {
   "cell_type": "code",
   "execution_count": 52,
   "id": "262603c5",
   "metadata": {
    "scrolled": true
   },
   "outputs": [
    {
     "data": {
      "text/plain": [
       "([{'id': 1,\n",
       "   'apiName': 'resultParameter',\n",
       "   'dataType': 'float',\n",
       "   'displayName': 'Parâmetro recuperado'},\n",
       "  {'id': 2,\n",
       "   'apiName': 'monParameter',\n",
       "   'dataType': 'float',\n",
       "   'displayName': 'Parâmetro monitorado'},\n",
       "  {'id': 3,\n",
       "   'apiName': 'demandOrigin',\n",
       "   'dataType': 'selectMultiple',\n",
       "   'displayName': 'Origem',\n",
       "   'selectOptions': {'options': [{'name': 'Interna', 'value': '1'},\n",
       "     {'name': 'KCOR', 'value': '2'},\n",
       "     {'name': 'ARTESP DIN', 'value': '3'},\n",
       "     {'name': 'ARTESP DOP', 'value': '4'},\n",
       "     {'name': 'Autovias', 'value': '6'},\n",
       "     {'name': 'ARTESP DIN - Outros', 'value': '7'},\n",
       "     {'name': 'Outros', 'value': '99'}]}},\n",
       "  {'id': 4,\n",
       "   'apiName': 'artespCode',\n",
       "   'dataType': 'string',\n",
       "   'displayIf': {'or': [{'in': ['3', {'var': 'data.formData.demandOrigin'}]},\n",
       "     {'in': ['4', {'var': 'data.formData.demandOrigin'}]},\n",
       "     {'in': ['7', {'var': 'data.formData.demandOrigin'}]}]},\n",
       "   'displayName': 'Código ARTESP'},\n",
       "  {'id': 5,\n",
       "   'apiName': 'receivedDate',\n",
       "   'dataType': 'timestamp',\n",
       "   'displayIf': {'or': [{'in': ['3', {'var': 'data.formData.demandOrigin'}]},\n",
       "     {'in': ['4', {'var': 'data.formData.demandOrigin'}]},\n",
       "     {'in': ['7', {'var': 'data.formData.demandOrigin'}]}]},\n",
       "   'displayName': 'Recebido da ARTESP em'},\n",
       "  {'id': 6,\n",
       "   'apiName': 'kcorCode',\n",
       "   'dataType': 'string',\n",
       "   'displayIf': {'in': ['2', {'var': 'data.formData.demandOrigin'}]},\n",
       "   'displayName': 'Cód KCOR'},\n",
       "  {'id': 7,\n",
       "   'apiName': 'internCode',\n",
       "   'dataType': 'string',\n",
       "   'displayIf': {'or': [{'in': ['3', {'var': 'data.formData.demandOrigin'}]},\n",
       "     {'in': ['1', {'var': 'data.formData.demandOrigin'}]},\n",
       "     {'in': ['4', {'var': 'data.formData.demandOrigin'}]},\n",
       "     {'in': ['2', {'var': 'data.formData.demandOrigin'}]}]},\n",
       "   'displayName': 'Cód interno'},\n",
       "  {'id': 8,\n",
       "   'apiName': 'lot',\n",
       "   'dataType': 'select',\n",
       "   'displayName': 'Lote',\n",
       "   'selectOptions': {'options': [{'name': 'Lote 1', 'value': '1'},\n",
       "     {'name': 'Lote 2', 'value': '2'},\n",
       "     {'name': 'Lote 3', 'value': '3'},\n",
       "     {'name': 'Lote 4', 'value': '4'}]}},\n",
       "  {'id': 9,\n",
       "   'apiName': 'length',\n",
       "   'dataType': 'float',\n",
       "   'displayName': 'Comprimento (m)'},\n",
       "  {'id': 10,\n",
       "   'apiName': 'width',\n",
       "   'dataType': 'float',\n",
       "   'displayName': 'Largura (m)'},\n",
       "  {'id': 11,\n",
       "   'apiName': 'height',\n",
       "   'dataType': 'float',\n",
       "   'displayName': 'Altura/Espessura (m)'},\n",
       "  {'id': 12,\n",
       "   'logic': {'if': [{'missing': ['formData.length', 'formData.width']},\n",
       "     0,\n",
       "     {'*': [{'var': 'formData.length'}, {'var': 'formData.width'}]}]},\n",
       "   'apiName': 'area',\n",
       "   'dataType': 'jsonLogic',\n",
       "   'displayName': 'Área (m²)'},\n",
       "  {'id': 13,\n",
       "   'logic': {'if': [{'missing': ['formData.length',\n",
       "       'formData.width',\n",
       "       'formData.height']},\n",
       "     0,\n",
       "     {'*': [{'var': 'formData.length'},\n",
       "       {'var': 'formData.width'},\n",
       "       {'var': 'formData.height'}]}]},\n",
       "   'apiName': 'volume',\n",
       "   'dataType': 'jsonLogic',\n",
       "   'displayName': 'Volume (m³)'},\n",
       "  {'id': 14,\n",
       "   'apiName': 'notes',\n",
       "   'dataType': 'textArea',\n",
       "   'displayName': 'Observações'},\n",
       "  {'id': 15,\n",
       "   'displayName': 'Enviado ARTESP',\n",
       "   'apiName': 'artespSent',\n",
       "   'dataType': 'select',\n",
       "   'selectOptions': {'options': [{'name': 'Sim', 'value': '1'},\n",
       "     {'name': 'Não', 'value': '2'}]}}],\n",
       " [{'order': 1, 'members': [3, 4, 5, 6, 7, 15], 'displayName': 'Identificação'},\n",
       "  {'order': 2, 'members': [9, 10, 11, 12, 13], 'displayName': 'Quantitativos'},\n",
       "  {'order': 3, 'members': [2, 1], 'displayName': 'Resultados'},\n",
       "  {'order': 4, 'members': [14], 'displayName': 'Informações adicionais'}])"
      ]
     },
     "execution_count": 52,
     "metadata": {},
     "output_type": "execute_result"
    }
   ],
   "source": [
    "classes[3].form_fields['fields'],classes[3].form_fields['groups']"
   ]
  },
  {
   "cell_type": "code",
   "execution_count": 53,
   "id": "72400e09",
   "metadata": {},
   "outputs": [],
   "source": [
    "from helpers.histories import bulk_update_with_history"
   ]
  },
  {
   "cell_type": "code",
   "execution_count": 54,
   "id": "48ef2274",
   "metadata": {},
   "outputs": [],
   "source": [
    "user=User.objects.get(username=\"rlcs\")"
   ]
  },
  {
   "cell_type": "code",
   "execution_count": 55,
   "id": "537f1d3f",
   "metadata": {},
   "outputs": [],
   "source": [
    "apontamentos = bulk_update_with_history(classes,OccurrenceType, use_django_bulk=True,batch_size=50,user=user)"
   ]
  },
  {
   "cell_type": "code",
   "execution_count": null,
   "id": "92bf09ba",
   "metadata": {},
   "outputs": [],
   "source": []
  },
  {
   "cell_type": "code",
   "execution_count": 32,
   "id": "0813f098",
   "metadata": {},
   "outputs": [
    {
     "data": {
      "text/plain": [
       "19400"
      ]
     },
     "execution_count": 32,
     "metadata": {},
     "output_type": "execute_result"
    }
   ],
   "source": [
    "Reporting.objects.filter(company__name='Eixo SP',form_data__has_key='severity').count()"
   ]
  },
  {
   "cell_type": "code",
   "execution_count": 33,
   "id": "2f1aca07",
   "metadata": {},
   "outputs": [
    {
     "data": {
      "text/plain": [
       "19400"
      ]
     },
     "execution_count": 33,
     "metadata": {},
     "output_type": "execute_result"
    }
   ],
   "source": [
    "Reporting.objects.filter(company__name='Eixo SP',form_data__severity__isnull=False).count()"
   ]
  },
  {
   "cell_type": "code",
   "execution_count": 37,
   "id": "b1411aab",
   "metadata": {},
   "outputs": [
    {
     "name": "stdout",
     "output_type": "stream",
     "text": [
      "Poda manual ou mecânizada de gramados\n",
      "Semeadura\n",
      "Roçada cerca a cerca\n",
      "Problema no teclado\n",
      "NC-Uso indevido da Faixa de Domínio\n",
      "Reparação ou substituição de placas de sinalização de obra (aéreas e solo)\n",
      "Manutenção e reparo de Elétrica e Iluminação\n",
      "PMV com placa queimada\n",
      "IMPLANTAÇÃO OU REMOÇÃO DE PLACAS - RADAR\n",
      "Área de apoio\n",
      "Manutenção e reparo de Conservação preventiva e corretiva\n",
      "Implantar, complementar ou substituir balizadores, delineadores e cilindros delimitadores\n",
      "Gerador com aquecimento\n",
      "Remoção de dispositivo de antiofuscamento que apresente risco à segurança do usuário\n",
      "Manutenção corretiva semáforo\n",
      "Desobstrução de drenagem superficial fora de plataforma\n",
      "Limpeza de dispositivos de drenagem de OAEs externos\n",
      "NC-Processo erosivo\n",
      "Manutenção e reparo de Paredes e Piso\n",
      "Defensa ausente\n",
      "Via sem comunicação\n",
      "Desobstrução de bueiros, galerias e drenos\n",
      "Limpeza de luminária\n",
      "Limpeza de dispositivos de drenagem de OAEs internos\n",
      "Manutenção e reparo de Cobertura e Forro\n",
      "Conservação de pontos de ônibus, monumentos e utilidades públicas\n",
      "Sinalização de dispositivos amortecedores de impacto avariados que apresente risco ao usuário\n",
      "Problema no pinpad\n",
      "Limpeza de dispositivo de uso temporário\n",
      "Limpeza, lavagem ou pintura de dispositivos amortecedores de impacto\n",
      "SAT com contagem zerada\n",
      "Problema sensor da via\n",
      "Limpeza de sinalização vertical\n",
      "Substituição de pano rol. medianamente comprometido\n",
      "NC-Regularização de área de apoio sem autorização\n",
      "Substituição de postes\n",
      "Desobstrução de drenagem de túneis\n",
      "Manutenção de árvores e arbustos\n",
      "Limpeza de sinalização de alerta\n",
      "Desobstrução de caixas de captação\n",
      "OB-Vazamento de produto químico\n",
      "CFTV com defeito\n",
      "Panela ou buraco na faixa rolamento em pav. flexível\n",
      "Substituição de aparelho de apoio\n",
      "HE-Aplicação de Herbicida por lindeiros na FD\n",
      "Simpeza de luminárias\n",
      "Problemas gerais\n",
      "RS-Presença de resíduos sólidos\n",
      "Ar condicionado não gela\n",
      "Problema no gerador\n",
      "Adequação de sinalização em pavimento que foi recuperado\n",
      "Desobstrução de caixas de retenção de vazamentos\n",
      "HE-Aplicação de Herbicida sem autorização\n",
      "Ilumunição de cabine queimada\n",
      "Recomposição/complementação de sistema elétrico\n",
      "Troca de fusível\n",
      "Limpeza, lavagem ou pintura de guarda-corpo\n",
      "Implantação, remoção ou adequação de sonorizador LERV\n",
      "Limpeza, lavagem ou pintura de barreira de concreto\n",
      "Conformação lateral\n",
      "Limpeza de balizadores, delineadores e cilindros demilitadores\n",
      "Tomada com defeito\n",
      "NC-Encerramento de área de apoio\n",
      "Ausência de informações de registro\n",
      "Remoção de pórticos ou semipórticos avariados\n",
      "SS-Trabalho inseguro\n",
      "SAT com defeito\n",
      "Reparo definitivo com recorte em pav. flexível\n",
      "Remoção, reparo ou recomposição de barreira rígida que não apresente risco à segurança do usuário\n",
      "Reparo FO\n",
      "Cabos com defeito\n",
      "Manejo de vegetação em passagens de fauna\n",
      "NC-Solo contaminado\n",
      "Remoção de guarda-corpo que apresente risco à segurança do usuário\n",
      "OB-Carreamento de sedimentos\n",
      "Problema adverso\n",
      "Pintura ou repintura de sinalização horizontal para adequação da retrorrefletância\n",
      "Remoção de lixo doméstico\n",
      "Problema na impressora\n",
      "Ausência de sinalização horizontal\n",
      "Reparo de bueiros, galerias e drenos\n",
      "Tomada externa com defeito\n",
      "Limpeza ou pintura de superfície exposta ao tráfego\n",
      "FR - Depósito irregular de materiais\n",
      "Substituição de reatores e ignitores\n",
      "Substituição de lâmpadas ou luminárias\n",
      "Limpeza, lavagem ou pintura de defensa metálica\n",
      "Tomada interna com defeito\n",
      "Fresa superficial\n",
      "Repor dispositivos de canalização\n",
      "Pintura ou galvanização de guarda-corpo\n",
      "Limpeza ou pintura de dispositivos de canalização\n",
      "Limpeza de canais e corta-rios\n",
      "Manutenção e reparo de Ventilação e Ar condicionado\n",
      "FR-Depósito de material fresado sem autorização\n",
      "Remoção de animais mortos\n",
      "Sinalização de defensa metálica avariada que apresente risco aos usuários\n",
      "Passivo Ambiental\n",
      "Juntas e trincas em pav. rígido\n",
      "Gerador não liga\n",
      "Correção de degrau entre pista e acostamento\n",
      "CO-Focos de formigas\n",
      "Sinalização de barreira de concreto avariada que apresente risco aos usuários\n",
      "Repor ou reparar sinalização de alerta\n",
      "Troca de lâmpada\n",
      "Substituição de disjuntores ou fusíveis\n",
      "SS-Ausência de sinalização na operação\n",
      "Radar com defeito\n",
      "Bordos e lajes quebrados reparo definitivo com recorte\n",
      "HE-Aplicação de Herbicida fora dos padrões ARTESP\n",
      "Troca de disjuntor\n",
      "IMPLANTAÇÃO DE DEFENSA - RADAR\n",
      "Gerador travado\n",
      "Conformação lateral de drenagem superficial de plataforma\n",
      "OB-Ausência de cobertura vegetal\n",
      "Problema no computador\n",
      "Reparo e substituição de guarda-corpo\n",
      "Iluminação de praça queimada\n",
      "Desobstrução de passagens de fauna\n",
      "Limpeza, lavagem ou pintura de dispositivos de antiofuscamento\n",
      "FR-Presença de resíduos de fresa\n",
      "NC-Obstrução de drenagem\n",
      "Sinalização de guarda-corpo avariado que apresente risco ao usuário\n",
      "Iluminação interna queimada\n",
      "OB-Processo erosivo\n",
      "Ar condicionado não liga\n",
      "Panela ou buraco na faixa rolamento em pav. rígido\n",
      "Remoção de barreira rígida que apresente risco à segurança do usuário\n",
      "Transporte de materiais vazados de caixas de retenção\n",
      "Manutenção de junta de dilatação\n",
      "Recuperação do revestimento vegetal\n",
      "Disjuntor desarmado\n",
      "OB-Ausência de sinalização de obra\n",
      "Substituição de pórticos ou semipórticos\n",
      "SS-Ausência de banheiro químico\n",
      "Reparo ou substituição das demais placas de sinalização vertical (ausência, retro inadequada, avaria, depredação ou vandalismo)\n",
      "Reparo ou substituição de sinalização vertical de regulamentação e advertência (ausência, retro inadequada, avaria, depredação ou vandalismo)\n",
      "Reparo definitivo com recorte em pav. rígido\n",
      "Manutenção e reparo de Caxilhos e Esquadrias\n",
      "Substituição de pano rol. comprometido\n",
      "Despraguejamento\n",
      "Reposição ou substituição de dispositivo de antiofuscamento\n",
      "Depressão ou recalque de pequena extensão\n",
      "PMV móvel com defeito\n",
      "Troca de reator\n",
      "Limpeza e varredura de áreas pavimentadas\n",
      "Implantação, remoção ou adequação de sonorizador\n",
      "Depressão em encontro de obra de arte em pav. rígido\n",
      "Limpeza de canteiro central\n",
      "SS-Ausência de instalações adequadas para refeição\n",
      "Corte e poda de árvores e arbustos mortos ou praguejados\n",
      "Problema no monitor\n",
      "Capina\n",
      "Reparo elétrico\n",
      "Implantar, complementar ou substituir tachas e tachões\n",
      "Remoção de resíduos sólidos, entulho e restos vegetais\n",
      "NC-Outros\n",
      "Corte e poda de árvores representam perigo ou comprometam drenagem\n",
      "Reparo de caixas de captação\n",
      "Reparo ou reposição de vedos (cercas, muros, alambrados ou telamento) danificados ou avariados\n",
      "Sinalização de dispositivos de antiofuscamento avariado que apresente risco aos usuários\n",
      "SS-Ausência de EPI / EPC\n",
      "Remoção ou reparo de defensa metálica/de cabo/amortecedor que apresente risco à segurança do usuário\n",
      "Reparo de drenagem superficial de plataforma\n",
      "CO-Focos de cupins\n",
      "Totem não funciona\n",
      "Equipamento da via danificado\n",
      "Conservação de aceiros\n",
      "Selagem de trincas em pav. flexível\n",
      "Recomposição de barreira rígida que foi removida em local que apresente risco ao usuário\n",
      "Auditoria\n",
      "NC-Ausência de cobertura vegetal\n",
      "Depressão em encontro de obra de arte em pav. flexível\n",
      "Manutenção e reparo de Pintura e Revestimento\n",
      "WIFI com defeito\n",
      "Remoção de pichações e vandalismo\n",
      "Substituição da haste de cancela\n",
      "Limpeza de tachas ou tachões refletivos\n",
      "Desobstrução de drenagem superficial de plataforma\n",
      "Gerador com defeito\n",
      "Problema na cancela\n",
      "Arvores Zona Livre e Risco\n",
      "Substituir ou complementar dispositivo de uso temporário\n",
      "Limpeza de sinalização semafórica\n",
      "OB-Armazenamento inadequado de produtos químicos\n",
      "OB-Presença de resíduos sólidos\n",
      "Remoção ou reparo de defensa metálica/de cabo/amortecedor que não apresente risco à segurança do usuário\n",
      "Reparo de drenagem superficial fora de plataforma\n",
      "Limpeza de sinalização horizontal\n",
      "Manutenção e reparo de Hidráulica, Esgoto e Drenagem\n",
      "Vistoria de Obras\n",
      "Reparo de elementos de drenagem de túneis\n",
      "Câmera de via sem imagem\n",
      "Iluminação externa queimada\n",
      "Recomposição de erosão por corte ou aterro\n",
      "195\n"
     ]
    }
   ],
   "source": [
    "classes=[]\n",
    "for a in OccurrenceType.objects.filter(company__name='Eixo SP'):\n",
    "    try:\n",
    "        if 'severity' in [b.get('apiName') for b in a.form_fields['fields']]:\n",
    "            print(a.name)\n",
    "            counter+=1\n",
    "    except:\n",
    "        if 'severity' in [b.get('api_name') for b in a.form_fields['fields']]:\n",
    "            print(a.name)\n",
    "            counter+=1\n",
    "        \n",
    "print(counter)"
   ]
  },
  {
   "cell_type": "code",
   "execution_count": 8,
   "id": "ee36ba7f",
   "metadata": {},
   "outputs": [
    {
     "data": {
      "text/plain": [
       "<QuerySet []>"
      ]
     },
     "execution_count": 8,
     "metadata": {},
     "output_type": "execute_result"
    }
   ],
   "source": [
    "MobileSync.objects.filter(created_by__username='flavio.waitmam',done=False).order_by('-created_at')"
   ]
  },
  {
   "cell_type": "code",
   "execution_count": 2,
   "id": "ddf7880a",
   "metadata": {},
   "outputs": [
    {
     "ename": "AttributeError",
     "evalue": "'UserInFirm' object has no attribute 'responsible_users'",
     "output_type": "error",
     "traceback": [
      "\u001b[0;31m---------------------------------------------------------------------------\u001b[0m",
      "\u001b[0;31mAttributeError\u001b[0m                            Traceback (most recent call last)",
      "\u001b[0;32m/tmp/ipykernel_5828/2954473003.py\u001b[0m in \u001b[0;36m<cell line: 1>\u001b[0;34m()\u001b[0m\n\u001b[0;32m----> 1\u001b[0;31m \u001b[0mUserInFirm\u001b[0m\u001b[0;34m.\u001b[0m\u001b[0mobjects\u001b[0m\u001b[0;34m.\u001b[0m\u001b[0mfilter\u001b[0m\u001b[0;34m(\u001b[0m\u001b[0muser__username\u001b[0m\u001b[0;34m=\u001b[0m\u001b[0;34m'jurandir.silva'\u001b[0m\u001b[0;34m)\u001b[0m\u001b[0;34m[\u001b[0m\u001b[0;36m0\u001b[0m\u001b[0;34m]\u001b[0m\u001b[0;34m.\u001b[0m\u001b[0mresponsible_users\u001b[0m\u001b[0;34m.\u001b[0m\u001b[0mall\u001b[0m\u001b[0;34m(\u001b[0m\u001b[0;34m)\u001b[0m\u001b[0;34m\u001b[0m\u001b[0;34m\u001b[0m\u001b[0m\n\u001b[0m",
      "\u001b[0;31mAttributeError\u001b[0m: 'UserInFirm' object has no attribute 'responsible_users'"
     ]
    }
   ],
   "source": [
    "UserInFirm.objects.filter(user__username='jurandir.silva')[0].responsible_users.all()"
   ]
  },
  {
   "cell_type": "code",
   "execution_count": null,
   "id": "b5c93d52",
   "metadata": {},
   "outputs": [],
   "source": [
    "for a in UserInFirm.objects.filter(user__username='jurandir.silva'):\n",
    "    "
   ]
  },
  {
   "cell_type": "code",
   "execution_count": null,
   "id": "a6ee55d4",
   "metadata": {},
   "outputs": [],
   "source": []
  },
  {
   "cell_type": "code",
   "execution_count": 15,
   "id": "3c74b9dd",
   "metadata": {},
   "outputs": [
    {
     "name": "stdout",
     "output_type": "stream",
     "text": [
      "Karla Zorzam Brito Suporte\n",
      "Victor Martins Suporte\n",
      "Pedro Fornari Suporte\n",
      "Paulo Marchel Usuário de campo\n",
      "Gabriel Rodrigues Suporte\n",
      "Evandro Ferreira Inativo\n",
      "Gizele Ginklings Suporte\n",
      "Kartado CS Suporte\n",
      "Heverton Canova Coordenador\n",
      "João Fachini Suporte\n",
      "Marcos Fachini Inativo\n",
      "Celestino Cuchi Inativo\n",
      "Cleberson Rocha Usuário de campo\n",
      "Delbo Rodrigues Usuário de campo\n",
      "Celso dos Santos Usuário de campo\n",
      "Eduardo Rezende Inativo\n",
      "Evandro Pereira Usuário de campo\n",
      "Flávio Soares Usuário de campo\n",
      "Jhonatan dos Santos Usuário de campo\n",
      "Luiz Antônio Usuário de campo\n",
      "Rafael Carvalho Usuário de campo\n",
      "Ricardo Guilherme Usuário de campo\n",
      "Sergio Deves Coordenador\n",
      "José da Costa Usuário de campo\n",
      "Leonardo Minski Inativo\n",
      "Alessandro Maia Inativo\n",
      "João Nitzke Suporte\n",
      "Talita Arantes Inativo\n",
      "Daniella Da Silva Gomes Suporte\n",
      "Pedro Cardoso Suporte\n",
      "Thayse Tessaro Inativo\n",
      "Luiza Franco Suporte\n"
     ]
    }
   ],
   "source": [
    "for a in UserInCompany.objects.filter(company__name__icontains='sinaliza via'):\n",
    "    history_perm = a.history.all().order_by('-history_date')[1]\n",
    "    print(a.user.get_full_name(),history_perm.permissions.name)\n",
    "    a.permissions = history_perm.permissions\n",
    "    a.save()"
   ]
  },
  {
   "cell_type": "markdown",
   "id": "91d59500",
   "metadata": {},
   "source": [
    "# Comparar JsonFields"
   ]
  },
  {
   "cell_type": "code",
   "execution_count": 22,
   "id": "28733e77",
   "metadata": {},
   "outputs": [],
   "source": [
    "# bom para comparar cada iteração com o histórico anterior e \n",
    "# verificar se ficar vazio a lista e printar a data de quando tiver dado\n",
    "def comparar_lista_de_json(lista1, lista2):\n",
    "    diff_list = []\n",
    "\n",
    "    for i in range(min(len(lista1), len(lista2))):\n",
    "        json1 = lista1[i]\n",
    "        json2 = lista2[i]\n",
    "\n",
    "        for key in json1:\n",
    "            if key in json2:\n",
    "                if json1[key] != json2[key]:\n",
    "                    diff_list.append((i, key, json1[key], json2[key]))\n",
    "            else:\n",
    "                diff_list.append((i, key, json1[key], None))\n",
    "\n",
    "        for key in json2:\n",
    "            if key not in json1:\n",
    "                diff_list.append((i, key, None, json2[key]))\n",
    "\n",
    "    return diff_list"
   ]
  },
  {
   "cell_type": "code",
   "execution_count": 2,
   "id": "cf8ef5cd",
   "metadata": {},
   "outputs": [],
   "source": [
    "now=OccurrenceType.objects.get(name='Luan Classe Teste 1')\n",
    "nowf=now.form_fields['fields']\n",
    "last=now.history.all().order_by('-history_date')[1].form_fields['fields']"
   ]
  },
  {
   "cell_type": "code",
   "execution_count": 3,
   "id": "78c747e5",
   "metadata": {},
   "outputs": [
    {
     "data": {
      "text/plain": [
       "[(0, 'displayName', 'Código de Edital1', 'Código de Edital')]"
      ]
     },
     "execution_count": 3,
     "metadata": {},
     "output_type": "execute_result"
    }
   ],
   "source": [
    "comparar_lista_de_json(nowf, last)"
   ]
  },
  {
   "cell_type": "code",
   "execution_count": 4,
   "id": "7e8519ca",
   "metadata": {},
   "outputs": [
    {
     "data": {
      "text/plain": [
       "{0: {'displayName': ['Código de Edital1', 'Código de Edital']}}"
      ]
     },
     "execution_count": 4,
     "metadata": {},
     "output_type": "execute_result"
    }
   ],
   "source": [
    "from jsondiff import diff\n",
    "diff(nowf, last, syntax='symmetric')"
   ]
  },
  {
   "cell_type": "code",
   "execution_count": 25,
   "id": "032edc30",
   "metadata": {},
   "outputs": [
    {
     "ename": "IndexError",
     "evalue": "list index out of range",
     "output_type": "error",
     "traceback": [
      "\u001b[0;31m---------------------------------------------------------------------------\u001b[0m",
      "\u001b[0;31mIndexError\u001b[0m                                Traceback (most recent call last)",
      "\u001b[0;32m/tmp/ipykernel_18531/2633069982.py\u001b[0m in \u001b[0;36m<cell line: 3>\u001b[0;34m()\u001b[0m\n\u001b[1;32m      3\u001b[0m \u001b[0;32mfor\u001b[0m \u001b[0mi\u001b[0m\u001b[0;34m,\u001b[0m\u001b[0ma\u001b[0m \u001b[0;32min\u001b[0m \u001b[0menumerate\u001b[0m\u001b[0;34m(\u001b[0m\u001b[0mhistories\u001b[0m\u001b[0;34m)\u001b[0m\u001b[0;34m:\u001b[0m\u001b[0;34m\u001b[0m\u001b[0;34m\u001b[0m\u001b[0m\n\u001b[1;32m      4\u001b[0m \u001b[0;34m\u001b[0m\u001b[0m\n\u001b[0;32m----> 5\u001b[0;31m     \u001b[0mlast\u001b[0m\u001b[0;34m=\u001b[0m\u001b[0mhistories\u001b[0m\u001b[0;34m[\u001b[0m\u001b[0mi\u001b[0m\u001b[0;34m+\u001b[0m\u001b[0;36m1\u001b[0m\u001b[0;34m]\u001b[0m\u001b[0;34m\u001b[0m\u001b[0;34m\u001b[0m\u001b[0m\n\u001b[0m\u001b[1;32m      6\u001b[0m     \u001b[0mlast_changer\u001b[0m\u001b[0;34m=\u001b[0m\u001b[0mhistories\u001b[0m\u001b[0;34m[\u001b[0m\u001b[0mi\u001b[0m\u001b[0;34m+\u001b[0m\u001b[0;36m1\u001b[0m\u001b[0;34m]\u001b[0m\u001b[0;34m.\u001b[0m\u001b[0mhistory_user\u001b[0m\u001b[0;34m\u001b[0m\u001b[0;34m\u001b[0m\u001b[0m\n\u001b[1;32m      7\u001b[0m     \u001b[0mlast_fields\u001b[0m \u001b[0;34m=\u001b[0m \u001b[0mhistories\u001b[0m\u001b[0;34m[\u001b[0m\u001b[0mi\u001b[0m\u001b[0;34m+\u001b[0m\u001b[0;36m1\u001b[0m\u001b[0;34m]\u001b[0m\u001b[0;34m.\u001b[0m\u001b[0mform_fields\u001b[0m\u001b[0;34m[\u001b[0m\u001b[0;34m'fields'\u001b[0m\u001b[0;34m]\u001b[0m\u001b[0;34m\u001b[0m\u001b[0;34m\u001b[0m\u001b[0m\n",
      "\u001b[0;32m~/.cache/pypoetry/virtualenvs/apps-ZFymp6kh-py3.8/lib/python3.8/site-packages/django/db/models/query.py\u001b[0m in \u001b[0;36m__getitem__\u001b[0;34m(self, k)\u001b[0m\n\u001b[1;32m    289\u001b[0m \u001b[0;34m\u001b[0m\u001b[0m\n\u001b[1;32m    290\u001b[0m         \u001b[0;32mif\u001b[0m \u001b[0mself\u001b[0m\u001b[0;34m.\u001b[0m\u001b[0m_result_cache\u001b[0m \u001b[0;32mis\u001b[0m \u001b[0;32mnot\u001b[0m \u001b[0;32mNone\u001b[0m\u001b[0;34m:\u001b[0m\u001b[0;34m\u001b[0m\u001b[0;34m\u001b[0m\u001b[0m\n\u001b[0;32m--> 291\u001b[0;31m             \u001b[0;32mreturn\u001b[0m \u001b[0mself\u001b[0m\u001b[0;34m.\u001b[0m\u001b[0m_result_cache\u001b[0m\u001b[0;34m[\u001b[0m\u001b[0mk\u001b[0m\u001b[0;34m]\u001b[0m\u001b[0;34m\u001b[0m\u001b[0;34m\u001b[0m\u001b[0m\n\u001b[0m\u001b[1;32m    292\u001b[0m \u001b[0;34m\u001b[0m\u001b[0m\n\u001b[1;32m    293\u001b[0m         \u001b[0;32mif\u001b[0m \u001b[0misinstance\u001b[0m\u001b[0;34m(\u001b[0m\u001b[0mk\u001b[0m\u001b[0;34m,\u001b[0m \u001b[0mslice\u001b[0m\u001b[0;34m)\u001b[0m\u001b[0;34m:\u001b[0m\u001b[0;34m\u001b[0m\u001b[0;34m\u001b[0m\u001b[0m\n",
      "\u001b[0;31mIndexError\u001b[0m: list index out of range"
     ]
    }
   ],
   "source": [
    "changes=[]\n",
    "histories=OccurrenceType.history.filter(name='Luan Classe Teste 1').order_by('-history_date')\n",
    "for i,a in enumerate(histories):\n",
    "    \n",
    "    last=histories[i+1]\n",
    "    last_changer=histories[i+1].history_user\n",
    "    last_fields = histories[i+1].form_fields['fields']\n",
    "        \n",
    "    now=histories[i]\n",
    "    now_changer=histories[i].history_user\n",
    "    now_fields = histories[i].form_fields['fields']\n",
    "    compared_date_changes=(now.history_date.strftime('%d/%m/%Y %H:%M'),now_changer,last.history_date.strftime('%d/%m/%Y %H:%M'),last_changer)\n",
    "    comparacao = comparar_lista_de_json(now_fields,last_fields)\n",
    "    if comparacao != []:\n",
    "        changes+=(comparacao,a.history_date.strftime('%d/%m/%Y'),a.history_user,i,compared_date_changes)"
   ]
  },
  {
   "cell_type": "code",
   "execution_count": 6,
   "id": "de531ff4",
   "metadata": {},
   "outputs": [
    {
     "data": {
      "text/plain": [
       "'SP 373'"
      ]
     },
     "execution_count": 6,
     "metadata": {},
     "output_type": "execute_result"
    }
   ],
   "source": [
    "Reporting.objects.get(number='D8-24000052').history.all().order_by('-history_date')[0].road.name"
   ]
  },
  {
   "cell_type": "code",
   "execution_count": 7,
   "id": "130861a1",
   "metadata": {},
   "outputs": [
    {
     "data": {
      "text/plain": [
       "'SP 345'"
      ]
     },
     "execution_count": 7,
     "metadata": {},
     "output_type": "execute_result"
    }
   ],
   "source": [
    "Reporting.objects.get(number='D8-24000052').history.all().order_by('-history_date')[0].road_name"
   ]
  },
  {
   "cell_type": "code",
   "execution_count": 1,
   "id": "c66b5bf5",
   "metadata": {},
   "outputs": [
    {
     "name": "stdout",
     "output_type": "stream",
     "text": [
      "Saída de agregado\n",
      "Chegada de agregado\n",
      "Saída de emulsão\n",
      "Chegada de emulsão\n"
     ]
    }
   ],
   "source": [
    "for a in OccurrenceType.objects.filter(company__name='Garcia Monteiro'):\n",
    "    for b in a.form_fields['fields']:\n",
    "        if b['dataType'] == 'boolean':\n",
    "            print(a.name)"
   ]
  },
  {
   "cell_type": "code",
   "execution_count": 3,
   "id": "f7889f2f",
   "metadata": {},
   "outputs": [
    {
     "data": {
      "text/plain": [
       "<Reporting: [Garcia Monteiro] GM-Cont-2023.00404 - 2022-08-01 03:00:00+00:00>"
      ]
     },
     "execution_count": 3,
     "metadata": {},
     "output_type": "execute_result"
    }
   ],
   "source": [
    "Reporting.objects.filter(form_data__faturamento_direto=True,company__name='Garcia Monteiro').first()"
   ]
  },
  {
   "cell_type": "code",
   "execution_count": 35,
   "id": "a401fb59",
   "metadata": {},
   "outputs": [
    {
     "data": {
      "text/plain": [
       "{'_state': <django.db.models.base.ModelState at 0x78e90b895880>,\n",
       " 'uuid': UUID('00125bed-c7a4-4a73-a44e-e727591dc307'),\n",
       " 'number': 'MV-ic-2024.00438',\n",
       " 'company_id': UUID('bdaff9a4-ab20-4022-b05e-0c0ea8f48e86'),\n",
       " 'road_name': 'X',\n",
       " 'road_id': None,\n",
       " 'km': 0.0,\n",
       " 'end_km': 0.0,\n",
       " 'km_reference': None,\n",
       " 'project_km': 0.0,\n",
       " 'project_end_km': 0.0,\n",
       " 'point': <Point object at 0x78e90b45a310>,\n",
       " 'direction': '0',\n",
       " 'lane': 'X',\n",
       " 'track': None,\n",
       " 'branch': None,\n",
       " 'address': {},\n",
       " 'geometry': None,\n",
       " 'properties': [],\n",
       " 'active_tile_layer_id': None,\n",
       " 'created_by_id': UUID('4107f598-5f7f-4c4e-b09b-05d7b0659f5b'),\n",
       " 'firm_id': UUID('773106a7-53da-4dff-a1e1-094b2afa0951'),\n",
       " 'occurrence_type_id': UUID('a89257a0-b07e-47bf-b772-8e5182311521'),\n",
       " 'form_data': {'item': 'Recebimento do Relatório Trimestral de Manutenção, Segurança e Bem-Estar',\n",
       "  'item2': 'Recebimento do Relatório Trimestral de Manutenção, Zeladoria e Limpeza',\n",
       "  'item3': 'Calendário da realização dos serviços de desinsetização, desratização, desinfecção e limpeza de caixas d’água',\n",
       "  'item4': 'Certificado de desinsetização, desratização, desinfecção e limpeza de caixas d’água, assinado pelo responsável técnico com número de registro na categoria, do qual conste o nome e a composição qualitativa de produto ou associação utilizada, as proporções e a quantidade total empregada por área, bem como as instruções para a prevenção ou para o caso de ocorrência de acidente, e demais informações exigidas pela legislação vigente',\n",
       "  'item5': 'Termo de garantia de desinsetização, desratização, desinfecção e limpeza de caixas d’água de acordo com a Lei Estadual nº 10.083/1998, contendo prazo de garantia de 6 (seis) meses, tipo de tratamento e equipamento utilizado, produtos e respectivas composições químicas',\n",
       "  'local': '48',\n",
       "  'objetivo': 'Verificar a apresentação de laudo técnico, nos termos do Apêndice do CADERNO DE ENCARGOS intitulado “Diretrizes Ambientais”, referente à atestação de que cada um dos CEMITÉRIOS e CREMATÓRIOS se encontra livre de infestações de pragas urbanas',\n",
       "  'conforme3': True,\n",
       "  'conforme4': True,\n",
       "  'conforme5': True},\n",
       " 'form_metadata': {'item': {'manually_specified': False},\n",
       "  'item2': {'manually_specified': False},\n",
       "  'item3': {'manually_specified': False},\n",
       "  'item4': {'manually_specified': False},\n",
       "  'item5': {'manually_specified': False},\n",
       "  'objetivo': {'manually_specified': False}},\n",
       " 'executed_at': datetime.datetime(2024, 3, 11, 15, 10, 23, tzinfo=<UTC>),\n",
       " 'created_at': datetime.datetime(2024, 4, 29, 13, 4, 36, 298130, tzinfo=<UTC>),\n",
       " 'updated_at': datetime.datetime(2024, 4, 29, 13, 4, 36, 533593, tzinfo=<UTC>),\n",
       " 'found_at': datetime.datetime(2024, 4, 29, 13, 3, 14, tzinfo=<UTC>),\n",
       " 'due_at': None,\n",
       " 'status_id': UUID('beb79faa-7890-47eb-84db-116f16cb7b51'),\n",
       " 'job_id': UUID('a31d6397-c5c2-4f6f-907a-9d9526de5e85'),\n",
       " 'parent_id': None,\n",
       " 'active_inspection_id': None,\n",
       " 'due_at_manually_specified': False,\n",
       " 'end_km_manually_specified': False,\n",
       " 'project_end_km_manually_specified': False,\n",
       " 'editable': True,\n",
       " 'approval_step_id': None,\n",
       " 'keywords': 'Crematório Vila Alpina Verificar a apresentação de laudo técnico, nos termos do Apêndice do CADERNO DE ENCARGOS intitulado “Diretrizes Ambientais”, referente à atestação de que cada um dos CEMITÉRIOS e CREMATÓRIOS se encontra livre de infestações de pragas urbanas Recebimento do Relatório Trimestral de Manutenção, Segurança e Bem-Estar Recebimento do Relatório Trimestral de Manutenção, Zeladoria e Limpeza Calendário da realização dos serviços de desinsetização, desratização, desinfecção e limpeza de caixas d’água Certificado de desinsetização, desratização, desinfecção e limpeza de caixas d’água, assinado pelo responsável técnico com número de registro na categoria, do qual conste o nome e a composição qualitativa de produto ou associação utilizada, as proporções e a quantidade total empregada por área, bem como as instruções para a prevenção ou para o caso de ocorrência de acidente, e demais informações exigidas pela legislação vigente Termo de garantia de desinsetização, desratização, desinfecção e limpeza de caixas d’água de acordo com a Lei Estadual nº 10.083/1998, contendo prazo de garantia de 6 (seis) meses, tipo de tratamento e equipamento utilizado, produtos e respectivas composições químicas',\n",
       " 'lot': None,\n",
       " 'technical_opinion': None,\n",
       " 'construction_id': None,\n",
       " 'pdf_import_id': None,\n",
       " 'shared_with_agency': False,\n",
       " 'created_recuperations_with_relation': None,\n",
       " '_fieldsignals_originals': {(132942994035376,\n",
       "   132942717312016): {'uuid': UUID('00125bed-c7a4-4a73-a44e-e727591dc307'), 'number': 'MV-ic-2024.00438', 'company': UUID('bdaff9a4-ab20-4022-b05e-0c0ea8f48e86'), 'road_name': 'X', 'km': 0.0, 'end_km': 0.0, 'project_km': 0.0, 'project_end_km': 0.0, 'point': <Point object at 0x78e90b45a410>, 'direction': '0', 'lane': 'X', 'address': {}, 'properties': [], 'created_by': UUID('4107f598-5f7f-4c4e-b09b-05d7b0659f5b'), 'firm': UUID('773106a7-53da-4dff-a1e1-094b2afa0951'), 'occurrence_type': UUID('a89257a0-b07e-47bf-b772-8e5182311521'), 'form_data': {'item': 'Recebimento do Relatório Trimestral de Manutenção, Segurança e Bem-Estar',\n",
       "    'item2': 'Recebimento do Relatório Trimestral de Manutenção, Zeladoria e Limpeza',\n",
       "    'item3': 'Calendário da realização dos serviços de desinsetização, desratização, desinfecção e limpeza de caixas d’água',\n",
       "    'item4': 'Certificado de desinsetização, desratização, desinfecção e limpeza de caixas d’água, assinado pelo responsável técnico com número de registro na categoria, do qual conste o nome e a composição qualitativa de produto ou associação utilizada, as proporções e a quantidade total empregada por área, bem como as instruções para a prevenção ou para o caso de ocorrência de acidente, e demais informações exigidas pela legislação vigente',\n",
       "    'item5': 'Termo de garantia de desinsetização, desratização, desinfecção e limpeza de caixas d’água de acordo com a Lei Estadual nº 10.083/1998, contendo prazo de garantia de 6 (seis) meses, tipo de tratamento e equipamento utilizado, produtos e respectivas composições químicas',\n",
       "    'local': '48',\n",
       "    'objetivo': 'Verificar a apresentação de laudo técnico, nos termos do Apêndice do CADERNO DE ENCARGOS intitulado “Diretrizes Ambientais”, referente à atestação de que cada um dos CEMITÉRIOS e CREMATÓRIOS se encontra livre de infestações de pragas urbanas',\n",
       "    'conforme3': True,\n",
       "    'conforme4': True,\n",
       "    'conforme5': True}, 'form_metadata': {'item': {'manually_specified': False},\n",
       "    'item2': {'manually_specified': False},\n",
       "    'item3': {'manually_specified': False},\n",
       "    'item4': {'manually_specified': False},\n",
       "    'item5': {'manually_specified': False},\n",
       "    'objetivo': {'manually_specified': False}}, 'executed_at': datetime.datetime(2024, 3, 11, 15, 10, 23, tzinfo=<UTC>), 'created_at': datetime.datetime(2024, 4, 29, 13, 4, 36, 298130, tzinfo=<UTC>), 'updated_at': datetime.datetime(2024, 4, 29, 13, 4, 36, 533593, tzinfo=<UTC>), 'found_at': datetime.datetime(2024, 4, 29, 13, 3, 14, tzinfo=<UTC>), 'status': UUID('beb79faa-7890-47eb-84db-116f16cb7b51'), 'job': UUID('a31d6397-c5c2-4f6f-907a-9d9526de5e85'), 'due_at_manually_specified': False, 'end_km_manually_specified': False, 'project_end_km_manually_specified': False, 'editable': True, 'keywords': 'Crematório Vila Alpina Verificar a apresentação de laudo técnico, nos termos do Apêndice do CADERNO DE ENCARGOS intitulado “Diretrizes Ambientais”, referente à atestação de que cada um dos CEMITÉRIOS e CREMATÓRIOS se encontra livre de infestações de pragas urbanas Recebimento do Relatório Trimestral de Manutenção, Segurança e Bem-Estar Recebimento do Relatório Trimestral de Manutenção, Zeladoria e Limpeza Calendário da realização dos serviços de desinsetização, desratização, desinfecção e limpeza de caixas d’água Certificado de desinsetização, desratização, desinfecção e limpeza de caixas d’água, assinado pelo responsável técnico com número de registro na categoria, do qual conste o nome e a composição qualitativa de produto ou associação utilizada, as proporções e a quantidade total empregada por área, bem como as instruções para a prevenção ou para o caso de ocorrência de acidente, e demais informações exigidas pela legislação vigente Termo de garantia de desinsetização, desratização, desinfecção e limpeza de caixas d’água de acordo com a Lei Estadual nº 10.083/1998, contendo prazo de garantia de 6 (seis) meses, tipo de tratamento e equipamento utilizado, produtos e respectivas composições químicas', 'shared_with_agency': False},\n",
       "  (132942994035280,\n",
       "   132942709585376): {'uuid': UUID('00125bed-c7a4-4a73-a44e-e727591dc307'), 'number': 'MV-ic-2024.00438', 'company': UUID('bdaff9a4-ab20-4022-b05e-0c0ea8f48e86'), 'road_name': 'X', 'km': 0.0, 'end_km': 0.0, 'project_km': 0.0, 'project_end_km': 0.0, 'point': <Point object at 0x78e90b45a510>, 'direction': '0', 'lane': 'X', 'address': {}, 'properties': [], 'created_by': UUID('4107f598-5f7f-4c4e-b09b-05d7b0659f5b'), 'firm': UUID('773106a7-53da-4dff-a1e1-094b2afa0951'), 'occurrence_type': UUID('a89257a0-b07e-47bf-b772-8e5182311521'), 'form_data': {'item': 'Recebimento do Relatório Trimestral de Manutenção, Segurança e Bem-Estar',\n",
       "    'item2': 'Recebimento do Relatório Trimestral de Manutenção, Zeladoria e Limpeza',\n",
       "    'item3': 'Calendário da realização dos serviços de desinsetização, desratização, desinfecção e limpeza de caixas d’água',\n",
       "    'item4': 'Certificado de desinsetização, desratização, desinfecção e limpeza de caixas d’água, assinado pelo responsável técnico com número de registro na categoria, do qual conste o nome e a composição qualitativa de produto ou associação utilizada, as proporções e a quantidade total empregada por área, bem como as instruções para a prevenção ou para o caso de ocorrência de acidente, e demais informações exigidas pela legislação vigente',\n",
       "    'item5': 'Termo de garantia de desinsetização, desratização, desinfecção e limpeza de caixas d’água de acordo com a Lei Estadual nº 10.083/1998, contendo prazo de garantia de 6 (seis) meses, tipo de tratamento e equipamento utilizado, produtos e respectivas composições químicas',\n",
       "    'local': '48',\n",
       "    'objetivo': 'Verificar a apresentação de laudo técnico, nos termos do Apêndice do CADERNO DE ENCARGOS intitulado “Diretrizes Ambientais”, referente à atestação de que cada um dos CEMITÉRIOS e CREMATÓRIOS se encontra livre de infestações de pragas urbanas',\n",
       "    'conforme3': True,\n",
       "    'conforme4': True,\n",
       "    'conforme5': True}, 'form_metadata': {'item': {'manually_specified': False},\n",
       "    'item2': {'manually_specified': False},\n",
       "    'item3': {'manually_specified': False},\n",
       "    'item4': {'manually_specified': False},\n",
       "    'item5': {'manually_specified': False},\n",
       "    'objetivo': {'manually_specified': False}}, 'executed_at': datetime.datetime(2024, 3, 11, 15, 10, 23, tzinfo=<UTC>), 'created_at': datetime.datetime(2024, 4, 29, 13, 4, 36, 298130, tzinfo=<UTC>), 'updated_at': datetime.datetime(2024, 4, 29, 13, 4, 36, 533593, tzinfo=<UTC>), 'found_at': datetime.datetime(2024, 4, 29, 13, 3, 14, tzinfo=<UTC>), 'status': UUID('beb79faa-7890-47eb-84db-116f16cb7b51'), 'job': UUID('a31d6397-c5c2-4f6f-907a-9d9526de5e85'), 'due_at_manually_specified': False, 'end_km_manually_specified': False, 'project_end_km_manually_specified': False, 'editable': True, 'keywords': 'Crematório Vila Alpina Verificar a apresentação de laudo técnico, nos termos do Apêndice do CADERNO DE ENCARGOS intitulado “Diretrizes Ambientais”, referente à atestação de que cada um dos CEMITÉRIOS e CREMATÓRIOS se encontra livre de infestações de pragas urbanas Recebimento do Relatório Trimestral de Manutenção, Segurança e Bem-Estar Recebimento do Relatório Trimestral de Manutenção, Zeladoria e Limpeza Calendário da realização dos serviços de desinsetização, desratização, desinfecção e limpeza de caixas d’água Certificado de desinsetização, desratização, desinfecção e limpeza de caixas d’água, assinado pelo responsável técnico com número de registro na categoria, do qual conste o nome e a composição qualitativa de produto ou associação utilizada, as proporções e a quantidade total empregada por área, bem como as instruções para a prevenção ou para o caso de ocorrência de acidente, e demais informações exigidas pela legislação vigente Termo de garantia de desinsetização, desratização, desinfecção e limpeza de caixas d’água de acordo com a Lei Estadual nº 10.083/1998, contendo prazo de garantia de 6 (seis) meses, tipo de tratamento e equipamento utilizado, produtos e respectivas composições químicas', 'shared_with_agency': False}}}"
      ]
     },
     "execution_count": 35,
     "metadata": {},
     "output_type": "execute_result"
    }
   ],
   "source": [
    "Reporting.objects.filter(company__name='Modera - Velar').first().__dict__"
   ]
  },
  {
   "cell_type": "code",
   "execution_count": 63,
   "id": "6893eea8",
   "metadata": {},
   "outputs": [
    {
     "data": {
      "text/plain": [
       "572"
      ]
     },
     "execution_count": 63,
     "metadata": {},
     "output_type": "execute_result"
    }
   ],
   "source": [
    "reps=Reporting.objects.filter(occurrence_type__name='17 - Saúde pública')\n",
    "reps.count()"
   ]
  },
  {
   "cell_type": "code",
   "execution_count": 46,
   "id": "526d1762",
   "metadata": {},
   "outputs": [],
   "source": [
    "from json_logic import jsonLogic\n",
    "from helpers.signals import DisableSignals\n",
    "from tqdm.notebook import tqdm\n",
    "# jsonLogic(logica,{'formData.service._index.length':10,'formData.service._index.width':2,'formData.service._index.servicetype':\"15\"})"
   ]
  },
  {
   "cell_type": "code",
   "execution_count": 64,
   "id": "98c2bfbf",
   "metadata": {},
   "outputs": [
    {
     "data": {
      "application/vnd.jupyter.widget-view+json": {
       "model_id": "8526b5e2ee93400abba13f9372747618",
       "version_major": 2,
       "version_minor": 0
      },
      "text/plain": [
       "  0%|          | 0/572 [00:00<?, ?it/s]"
      ]
     },
     "metadata": {},
     "output_type": "display_data"
    }
   ],
   "source": [
    "for a in tqdm(reps):\n",
    "    if not a.form_data.get('presenca'):\n",
    "        a.form_data['presenca'] = False\n",
    "        a.form_data['resultado17'] = '0'\n",
    "    elif a.form_data.get('presenca') == True:\n",
    "        a.form_data['presenca'] = True\n",
    "        a.form_data['resultado17'] = '1'\n",
    "    with DisableSignals():\n",
    "        a.save()"
   ]
  },
  {
   "cell_type": "code",
   "execution_count": 51,
   "id": "31ebc613",
   "metadata": {},
   "outputs": [
    {
     "data": {
      "application/vnd.jupyter.widget-view+json": {
       "model_id": "a61320f378634d24ba7b5c1a82286aed",
       "version_major": 2,
       "version_minor": 0
      },
      "text/plain": [
       "  0%|          | 0/349 [00:00<?, ?it/s]"
      ]
     },
     "metadata": {},
     "output_type": "display_data"
    }
   ],
   "source": [
    "for a in tqdm(reps):\n",
    "    historico=a.history.all().order_by('-history_date')[0]\n",
    "    presenca=historico.form_data['presenca']\n",
    "    logica=jsonLogic({\n",
    "        \"if\": [\n",
    "          {\n",
    "            \"==\": [\n",
    "              presenca,\n",
    "              True\n",
    "            ]\n",
    "          },\n",
    "          \"1\",\n",
    "          \"0\"\n",
    "        ]\n",
    "      },presenca)\n",
    "#     print(logica)\n",
    "    with DisableSignals():\n",
    "        a.form_data['presenca'] = presenca\n",
    "        a.form_data['resultado17'] = str(logica)\n",
    "        a.save()\n",
    "#     print(a.form_data['presenca'])"
   ]
  },
  {
   "cell_type": "code",
   "execution_count": 57,
   "id": "a0a090dc",
   "metadata": {},
   "outputs": [
    {
     "data": {
      "text/plain": [
       "328"
      ]
     },
     "execution_count": 57,
     "metadata": {},
     "output_type": "execute_result"
    }
   ],
   "source": [
    "reps.filter(form_data__presenca=False).count()"
   ]
  },
  {
   "cell_type": "code",
   "execution_count": 59,
   "id": "4979200c",
   "metadata": {},
   "outputs": [
    {
     "data": {
      "application/vnd.jupyter.widget-view+json": {
       "model_id": "c2aed5d893e448eb9257edb5adb3d21d",
       "version_major": 2,
       "version_minor": 0
      },
      "text/plain": [
       "  0%|          | 0/328 [00:00<?, ?it/s]"
      ]
     },
     "metadata": {},
     "output_type": "display_data"
    }
   ],
   "source": [
    "for a in tqdm(reps.filter(form_data__presenca=False)):\n",
    "    a.form_data['presenca']=False\n",
    "    a.form_data.pop('resultado17')\n",
    "    a.form_data['resultado17'] = '0'\n",
    "    with DisableSignals():\n",
    "        a.save()"
   ]
  },
  {
   "cell_type": "code",
   "execution_count": 62,
   "id": "f80a3b91",
   "metadata": {},
   "outputs": [
    {
     "data": {
      "application/vnd.jupyter.widget-view+json": {
       "model_id": "e5dd40c7c95849d68728f737806938dd",
       "version_major": 2,
       "version_minor": 0
      },
      "text/plain": [
       "  0%|          | 0/328 [00:00<?, ?it/s]"
      ]
     },
     "metadata": {},
     "output_type": "display_data"
    },
    {
     "name": "stdout",
     "output_type": "stream",
     "text": [
      "MV-ido-2024.00086\n",
      "MCon-ido-2024.00514\n",
      "MCon-ido-2024.00532\n",
      "MCon-ido-2024.00518\n",
      "MCon-ido-2024.00563\n",
      "MCon-ido-2024.00548\n",
      "MCon-ido-2024.00529\n",
      "MCon-ido-2024.00535\n",
      "MCon-ido-2024.00540\n",
      "MCon-ido-2024.00558\n",
      "MCon-ido-2024.00555\n",
      "MCon-ido-2024.00564\n",
      "MCon-ido-2024.00569\n",
      "MCon-ido-2024.00579\n",
      "MCon-ido-2024.00520\n",
      "MCon-ido-2024.00573\n",
      "MCon-ido-2024.00516\n",
      "MCon-ido-2024.00551\n",
      "MCon-ido-2024.00575\n",
      "MCon-ido-2024.00526\n",
      "MCon-ido-2024.00511\n",
      "MCon-ido-2024.00530\n",
      "MCon-ido-2024.00557\n",
      "MCon-ido-2024.00521\n",
      "MCon-ido-2024.00544\n",
      "MCon-ido-2024.00549\n",
      "MCon-ido-2024.00556\n",
      "MCon-ido-2024.00580\n",
      "MCon-ido-2024.00572\n",
      "MCon-ido-2024.00525\n",
      "MV-ido-2024.00764\n",
      "MV-ido-2024.00714\n",
      "MV-ido-2024.00739\n",
      "MV-ido-2024.00745\n",
      "MV-ido-2024.00719\n",
      "MV-ido-2024.00707\n",
      "MV-ido-2024.00731\n",
      "MCon-ido-2024.00509\n",
      "MCon-ido-2024.00574\n",
      "MCon-ido-2024.00519\n",
      "MCon-ido-2024.00550\n",
      "MCon-ido-2024.00562\n",
      "MCon-ido-2024.00561\n",
      "MCon-ido-2024.00542\n",
      "MCon-ido-2024.00567\n",
      "MV-ido-2024.00182\n",
      "MV-ido-2024.00132\n",
      "MCor-ido-2024.00441\n",
      "MCor-ido-2024.00433\n",
      "MCor-ido-2024.00442\n",
      "MCor-ido-2024.00424\n",
      "MCor-ido-2024.00387\n",
      "MV-ido-2024.00721\n",
      "MV-ido-2024.00738\n",
      "MM-ido-2024.00525\n",
      "MM-ido-2024.00531\n",
      "MM-ido-2024.00561\n",
      "MM-ido-2024.00568\n",
      "MM-ido-2024.00592\n",
      "MM-ido-2024.00603\n",
      "MM-ido-2024.00546\n",
      "MM-ido-2024.00517\n",
      "MM-ido-2024.00559\n",
      "MM-ido-2024.00516\n",
      "MM-ido-2024.00583\n",
      "MM-ido-2024.00571\n",
      "MM-ido-2024.00532\n",
      "MM-ido-2024.00545\n",
      "MM-ido-2024.00585\n",
      "MV-ido-2024.00699\n",
      "MV-ido-2024.00693\n",
      "MV-ido-2024.00727\n",
      "MV-ido-2024.00705\n",
      "MV-ido-2024.00691\n",
      "MCon-ido-2024.00513\n",
      "MCon-ido-2024.00523\n",
      "MV-ido-2024.00686\n",
      "MCon-ido-2024.00582\n",
      "MCon-ido-2024.00510\n",
      "MCon-ido-2024.00536\n",
      "MM-ido-2024.00575\n",
      "MM-ido-2024.00519\n",
      "MM-ido-2024.00564\n",
      "MV-ido-2024.00703\n",
      "MV-ido-2024.00722\n",
      "MV-ido-2024.00751\n",
      "MCon-ido-2024.00527\n",
      "MCon-ido-2024.00545\n",
      "MCon-ido-2024.00554\n",
      "MV-ido-2024.00766\n",
      "MV-ido-2024.00689\n",
      "MV-ido-2024.00723\n",
      "MCon-ido-2024.00512\n",
      "MCon-ido-2024.00522\n",
      "MV-ido-2024.00757\n",
      "MCon-ido-2024.00586\n",
      "MV-ido-2024.00179\n",
      "MV-ido-2024.00717\n",
      "MM-ido-2024.00530\n",
      "MV-ido-2024.00768\n",
      "MV-ido-2024.00736\n",
      "MCon-ido-2024.00543\n",
      "MCon-ido-2024.00552\n",
      "MCon-ido-2024.00565\n",
      "MCon-ido-2024.00571\n",
      "MV-ido-2024.00734\n",
      "MV-ido-2024.00748\n",
      "MV-ido-2024.00710\n",
      "MV-ido-2024.00685\n",
      "MCor-ido-2024.00089\n",
      "MCon-ido-2024.00584\n",
      "MCon-ido-2024.00515\n",
      "MCon-ido-2024.00533\n",
      "MCon-ido-2024.00538\n",
      "MV-ido-2024.00180\n",
      "MV-ido-2024.00183\n",
      "MV-ido-2024.00046\n",
      "MCor-ido-2024.00396\n",
      "MCor-ido-2024.00392\n",
      "MCor-ido-2024.00416\n",
      "MM-ido-2024.00606\n",
      "MM-ido-2024.00537\n",
      "MM-ido-2024.00574\n",
      "MM-ido-2024.00581\n",
      "MM-ido-2024.00548\n",
      "MM-ido-2024.00544\n",
      "MCor-ido-2024.00391\n",
      "MCon-ido-2024.00566\n",
      "MCon-ido-2024.00568\n",
      "MCon-ido-2024.00541\n",
      "MV-ido-2024.00760\n",
      "MV-ido-2024.00758\n",
      "MV-ido-2024.00709\n",
      "MV-ido-2024.00737\n",
      "MCor-ido-2024.00432\n",
      "MCor-ido-2024.00422\n",
      "MCor-ido-2024.00397\n",
      "MCor-ido-2024.00401\n",
      "MCor-ido-2024.00423\n",
      "MM-ido-2024.00529\n",
      "MM-ido-2024.00556\n",
      "MM-ido-2024.00533\n",
      "MCon-ido-2024.00517\n",
      "MCon-ido-2024.00547\n",
      "MCon-ido-2024.00570\n",
      "MV-ido-2024.00690\n",
      "MCon-ido-2024.00577\n",
      "MCon-ido-2024.00559\n",
      "MCon-ido-2024.00583\n",
      "MM-ido-2024.00547\n",
      "MM-ido-2024.00524\n",
      "MV-ido-2024.00708\n",
      "MV-ido-2024.00724\n",
      "MCon-ido-2024.00560\n",
      "MV-ido-2024.00729\n",
      "MV-ido-2024.00702\n",
      "MCon-ido-2024.00546\n",
      "MV-ido-2024.00181\n",
      "MCor-ido-2024.00430\n",
      "MCor-ido-2024.00385\n",
      "MCor-ido-2024.00440\n",
      "MM-ido-2024.00521\n",
      "MM-ido-2024.00591\n",
      "MM-ido-2024.00551\n",
      "MM-ido-2024.00566\n",
      "MV-ido-2024.00711\n",
      "MV-ido-2024.00756\n",
      "MV-ido-2024.00692\n",
      "MV-ido-2024.00697\n",
      "MV-ido-2024.00752\n",
      "MV-ido-2024.00761\n",
      "MV-ido-2024.00728\n",
      "MCon-ido-2024.00578\n",
      "MV-ido-2024.00755\n",
      "MCor-ido-2024.00393\n",
      "MCor-ido-2024.00431\n",
      "MM-ido-2024.00542\n",
      "MCor-ido-2024.00415\n",
      "MCor-ido-2024.00386\n",
      "MM-ido-2024.00522\n",
      "MM-ido-2024.00535\n",
      "MM-ido-2024.00540\n",
      "MM-ido-2024.00543\n",
      "MV-ido-2024.00740\n",
      "MV-ido-2024.00696\n",
      "MV-ido-2024.00732\n",
      "MV-ido-2024.00741\n",
      "MV-ido-2024.00746\n",
      "MV-ido-2024.00754\n",
      "MV-ido-2024.00713\n",
      "MV-ido-2024.00730\n",
      "MV-ido-2024.00698\n",
      "MV-ido-2024.00759\n",
      "MV-ido-2024.00726\n",
      "MV-ido-2024.00762\n",
      "MV-ido-2024.00735\n",
      "MV-ido-2024.00750\n",
      "MCon-ido-2024.00045\n",
      "MCon-ido-2024.00528\n",
      "MCon-ido-2024.00531\n",
      "MCon-ido-2024.00585\n",
      "MCon-ido-2024.00553\n",
      "MCon-ido-2024.00581\n",
      "MCon-ido-2024.00539\n",
      "MCon-ido-2024.00576\n",
      "MCon-ido-2024.00537\n",
      "MM-ido-2024.00002\n",
      "MV-ido-2024.00716\n",
      "MCor-ido-2024.00389\n",
      "MCor-ido-2024.00425\n",
      "MCor-ido-2024.00427\n",
      "MCor-ido-2024.00437\n",
      "MCor-ido-2024.00411\n",
      "MCor-ido-2024.00421\n",
      "MCor-ido-2024.00426\n",
      "MCor-ido-2024.00383\n",
      "MCor-ido-2024.00402\n",
      "MCor-ido-2024.00384\n",
      "MCor-ido-2024.00409\n",
      "MCor-ido-2024.00405\n",
      "MCor-ido-2024.00395\n",
      "MCor-ido-2024.00434\n",
      "MCor-ido-2024.00399\n",
      "MCor-ido-2024.00388\n",
      "MCor-ido-2024.00429\n",
      "MCor-ido-2024.00436\n",
      "MCor-ido-2024.00410\n",
      "MCor-ido-2024.00412\n",
      "MCor-ido-2024.00435\n",
      "MCor-ido-2024.00404\n",
      "MCor-ido-2024.00438\n",
      "MCor-ido-2024.00394\n",
      "MCor-ido-2024.00419\n",
      "MCor-ido-2024.00406\n",
      "MCor-ido-2024.00398\n",
      "MCor-ido-2024.00407\n",
      "MCor-ido-2024.00403\n",
      "MCor-ido-2024.00428\n",
      "MCor-ido-2024.00439\n",
      "MCor-ido-2024.00417\n",
      "MCor-ido-2024.00390\n",
      "MCor-ido-2024.00418\n",
      "MCor-ido-2024.00413\n",
      "MCor-ido-2024.00400\n",
      "MCor-ido-2024.00414\n",
      "MCor-ido-2024.00408\n",
      "MCor-ido-2024.00420\n",
      "MV-ido-2024.00753\n",
      "MV-ido-2024.00684\n",
      "MV-ido-2024.00706\n",
      "MM-ido-2024.00558\n",
      "MM-ido-2024.00541\n",
      "MM-ido-2024.00528\n",
      "MM-ido-2024.00534\n",
      "MM-ido-2024.00552\n",
      "MM-ido-2024.00565\n",
      "MM-ido-2024.00567\n",
      "MM-ido-2024.00604\n",
      "MM-ido-2024.00572\n",
      "MM-ido-2024.00577\n",
      "MM-ido-2024.00579\n",
      "MM-ido-2024.00593\n",
      "MM-ido-2024.00590\n",
      "MM-ido-2024.00594\n",
      "MM-ido-2024.00595\n",
      "MM-ido-2024.00596\n",
      "MM-ido-2024.00562\n",
      "MM-ido-2024.00598\n",
      "MM-ido-2024.00557\n",
      "MM-ido-2024.00539\n",
      "MM-ido-2024.00597\n",
      "MM-ido-2024.00518\n",
      "MM-ido-2024.00554\n",
      "MM-ido-2024.00580\n",
      "MM-ido-2024.00555\n",
      "MM-ido-2024.00515\n",
      "MM-ido-2024.00514\n",
      "MM-ido-2024.00573\n",
      "MM-ido-2024.00549\n",
      "MM-ido-2024.00584\n",
      "MM-ido-2024.00589\n",
      "MM-ido-2024.00601\n",
      "MM-ido-2024.00563\n",
      "MM-ido-2024.00607\n",
      "MM-ido-2024.00570\n",
      "MM-ido-2024.00520\n",
      "MM-ido-2024.00526\n",
      "MM-ido-2024.00550\n",
      "MM-ido-2024.00602\n",
      "MM-ido-2024.00536\n",
      "MM-ido-2024.00599\n",
      "MM-ido-2024.00582\n",
      "MM-ido-2024.00605\n",
      "MM-ido-2024.00588\n",
      "MM-ido-2024.00553\n",
      "MM-ido-2024.00586\n",
      "MM-ido-2024.00576\n",
      "MM-ido-2024.00578\n",
      "MM-ido-2024.00608\n",
      "MM-ido-2024.00569\n",
      "MM-ido-2024.00560\n",
      "MM-ido-2024.00538\n",
      "MM-ido-2024.00523\n",
      "MM-ido-2024.00527\n",
      "MM-ido-2024.00587\n",
      "MV-ido-2024.00688\n",
      "MV-ido-2024.00687\n",
      "MV-ido-2024.00704\n",
      "MV-ido-2024.00701\n",
      "MV-ido-2024.00695\n",
      "MV-ido-2024.00763\n",
      "MV-ido-2024.00742\n",
      "MV-ido-2024.00744\n",
      "MV-ido-2024.00747\n",
      "MV-ido-2024.00770\n",
      "MV-ido-2024.00725\n",
      "MV-ido-2024.00743\n",
      "MV-ido-2024.00749\n",
      "MV-ido-2024.00733\n",
      "MV-ido-2024.00720\n",
      "MV-ido-2024.00694\n",
      "MV-ido-2024.00765\n",
      "MV-ido-2024.00769\n",
      "MV-ido-2024.00712\n",
      "MV-ido-2024.00715\n",
      "MV-ido-2024.00718\n",
      "MV-ido-2024.00700\n",
      "MV-ido-2024.00767\n"
     ]
    }
   ],
   "source": [
    "for a in tqdm(reps):\n",
    "    print(a.number)"
   ]
  },
  {
   "cell_type": "code",
   "execution_count": null,
   "id": "adfd466d",
   "metadata": {},
   "outputs": [],
   "source": []
  }
 ],
 "metadata": {
  "kernelspec": {
   "display_name": "Django Shell-Plus",
   "language": "python",
   "name": "django_extensions"
  },
  "language_info": {
   "codemirror_mode": {
    "name": "ipython",
    "version": 3
   },
   "file_extension": ".py",
   "mimetype": "text/x-python",
   "name": "python",
   "nbconvert_exporter": "python",
   "pygments_lexer": "ipython3",
   "version": "3.8.16"
  }
 },
 "nbformat": 4,
 "nbformat_minor": 5
}
