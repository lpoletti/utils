{
 "cells": [
  {
   "cell_type": "code",
   "execution_count": null,
   "metadata": {},
   "outputs": [],
   "source": [
    "%load_ext autoreload\n",
    "%autoreload 2"
   ]
  },
  {
   "cell_type": "code",
   "execution_count": null,
   "metadata": {},
   "outputs": [],
   "source": [
    "import copy\n",
    "from helpers.strings import keys_to_snake_case, to_snake_case, keys_to_camel_case"
   ]
  },
  {
   "cell_type": "code",
   "execution_count": null,
   "metadata": {},
   "outputs": [],
   "source": [
    "check_fields = [\"select_multiple\", \"select\", \"occurrence_record_dialog\", \"operational_control_record_dialog\"]"
   ]
  },
  {
   "cell_type": "code",
   "execution_count": null,
   "metadata": {},
   "outputs": [],
   "source": [
    "company = Company.objects.get(name=\"PRE-UHE-ITA\")"
   ]
  },
  {
   "cell_type": "code",
   "execution_count": null,
   "metadata": {},
   "outputs": [],
   "source": [
    "types = OccurrenceType.objects.filter(company=company)"
   ]
  },
  {
   "cell_type": "code",
   "execution_count": null,
   "metadata": {},
   "outputs": [],
   "source": [
    "# Change reference, referenceFormDataChoices, operationalControlRecordDialog, occurrenceRecordDialog\n",
    "for occ_type in types:\n",
    "    new_fields = []\n",
    "    if \"fields\" in occ_type.form_fields and occ_type.form_fields[\"fields\"]:\n",
    "        fields = occ_type.form_fields[\"fields\"]\n",
    "        for field in fields:\n",
    "            snake_field = keys_to_snake_case(copy.deepcopy(field))\n",
    "            if \"data_type\" in snake_field:\n",
    "                data_type = to_snake_case(snake_field[\"data_type\"]).lower()\n",
    "                if (\n",
    "                    data_type in check_fields\n",
    "                    and \"select_options\" in snake_field\n",
    "                    and snake_field[\"select_options\"]\n",
    "                ):\n",
    "                    snake_select_options = keys_to_snake_case(copy.deepcopy(snake_field[\"select_options\"]))\n",
    "                    if (\n",
    "                        \"reference\" in snake_select_options\n",
    "                        and snake_select_options[\"reference\"]\n",
    "                        and \"resource\" in snake_select_options[\"reference\"]\n",
    "                        and to_snake_case(snake_select_options[\"reference\"][\"resource\"]).lower() == \"operational_control_record\"\n",
    "                    ):\n",
    "                        new_reference = copy.deepcopy(snake_select_options[\"reference\"])\n",
    "                        new_reference[\"resource\"] = \"OccurrenceRecord\"\n",
    "                        new_field = {**snake_field, \"select_options\": {\"reference\": keys_to_camel_case(new_reference)}}\n",
    "                        new_fields.append(keys_to_camel_case(new_field))\n",
    "                        print('MODIFICOU OccurrenceType: {}'.format(occ_type.pk))\n",
    "                        continue\n",
    "                    elif (\n",
    "                        \"reference_form_data_choices\" in snake_select_options\n",
    "                        and snake_select_options[\"reference_form_data_choices\"]\n",
    "                        and \"resource\" in snake_select_options[\"reference_form_data_choices\"]\n",
    "                        and to_snake_case(snake_select_options[\"reference_form_data_choices\"][\"resource\"]).lower() == \"operational_control_record\"\n",
    "                    ):\n",
    "                        new_reference = copy.deepcopy(snake_select_options[\"reference_form_data_choices\"])\n",
    "                        new_reference[\"resource\"] = \"OccurrenceRecord\"\n",
    "                        new_field = {**snake_field, \"select_options\": {\"reference_form_data_choices\": keys_to_camel_case(new_reference)}}\n",
    "                        new_fields.append(keys_to_camel_case(new_field))\n",
    "                        print('MODIFICOU OccurrenceType: {}'.format(occ_type.pk))\n",
    "                        continue\n",
    "            new_fields.append(keys_to_camel_case(field))\n",
    "        if len(new_fields) == len(occ_type.form_fields[\"fields\"]):\n",
    "            occ_type.form_fields[\"fields\"] = new_fields\n",
    "            occ_type.save()\n",
    "            print('OKAY no OccurrenceType: {}'.format(occ_type.pk))\n",
    "        else:\n",
    "            print('erro no OccurrenceType: {}'.format(occ_type.pk))"
   ]
  },
  {
   "cell_type": "code",
   "execution_count": null,
   "metadata": {},
   "outputs": [],
   "source": [
    "# Change operationalControlRecordDialog\n",
    "for occ_type in types:\n",
    "    new_fields = []\n",
    "    if \"fields\" in occ_type.form_fields and occ_type.form_fields[\"fields\"]:\n",
    "        fields = occ_type.form_fields[\"fields\"]\n",
    "        for field in fields:\n",
    "            snake_field = keys_to_snake_case(copy.deepcopy(field))\n",
    "            if \"data_type\" in snake_field:\n",
    "                data_type = to_snake_case(snake_field[\"data_type\"]).lower()\n",
    "                if data_type == \"operational_control_record_dialog\":\n",
    "                    new_field = {**snake_field, \"data_type\": \"occurrenceRecordDialog\"}\n",
    "                    new_fields.append(keys_to_camel_case(new_field))\n",
    "                    print('MODIFICOU OccurrenceType: {}'.format(occ_type.pk))\n",
    "                    continue\n",
    "            new_fields.append(keys_to_camel_case(field))\n",
    "        if len(new_fields) == len(occ_type.form_fields[\"fields\"]):\n",
    "            occ_type.form_fields[\"fields\"] = new_fields\n",
    "            occ_type.save()\n",
    "            print('OKAY no OccurrenceType: {}'.format(occ_type.pk))\n",
    "        else:\n",
    "            print('erro no OccurrenceType: {}'.format(occ_type.pk))"
   ]
  },
  {
   "cell_type": "code",
   "execution_count": null,
   "metadata": {
    "scrolled": false
   },
   "outputs": [],
   "source": [
    "# Change ArrayOfObjects\n",
    "for occ_type in types:\n",
    "    new_fields = []\n",
    "    if \"fields\" in occ_type.form_fields and occ_type.form_fields[\"fields\"]:\n",
    "        fields = occ_type.form_fields[\"fields\"]\n",
    "        for field in fields:\n",
    "            snake_field = keys_to_snake_case(copy.deepcopy(field))\n",
    "            if \"data_type\" in snake_field:\n",
    "                data_type = to_snake_case(snake_field[\"data_type\"]).lower()\n",
    "                if data_type == \"array_of_objects\" and \"inner_fields\" in snake_field and snake_field[\"inner_fields\"]:\n",
    "                    new_inner_fields = []\n",
    "                    inner_fields = snake_field[\"inner_fields\"]\n",
    "                    for inner_field in inner_fields:\n",
    "                        snake_inner_field = keys_to_snake_case(copy.deepcopy(inner_field))\n",
    "                        if \"data_type\" in snake_inner_field:\n",
    "                            inner_data_type = to_snake_case(snake_inner_field[\"data_type\"]).lower()\n",
    "                            if (\n",
    "                                inner_data_type in check_fields\n",
    "                                and \"select_options\" in snake_inner_field\n",
    "                                and snake_inner_field[\"select_options\"]\n",
    "                            ):\n",
    "                                snake_select_options = keys_to_snake_case(copy.deepcopy(snake_inner_field[\"select_options\"]))\n",
    "                                if (\n",
    "                                    \"reference\" in snake_select_options\n",
    "                                    and snake_select_options[\"reference\"]\n",
    "                                    and \"resource\" in snake_select_options[\"reference\"]\n",
    "                                    and to_snake_case(snake_select_options[\"reference\"][\"resource\"]).lower() == \"operational_control_record\"\n",
    "                                ):\n",
    "                                    new_inner_reference = copy.deepcopy(snake_select_options[\"reference\"])\n",
    "                                    new_inner_reference[\"resource\"] = \"OccurrenceRecord\"\n",
    "                                    new_inner_field = {**snake_inner_field, \"select_options\": {\"reference\": keys_to_camel_case(new_inner_reference)}}\n",
    "                                    new_inner_fields.append(keys_to_camel_case(new_inner_field))\n",
    "                                    print('MODIFICOU OccurrenceType: {}'.format(occ_type.pk))\n",
    "                                    continue\n",
    "                                elif (\n",
    "                                    \"reference_form_data_choices\" in snake_select_options\n",
    "                                    and snake_select_options[\"reference_form_data_choices\"]\n",
    "                                    and \"resource\" in snake_select_options[\"reference_form_data_choices\"]\n",
    "                                    and to_snake_case(snake_select_options[\"reference_form_data_choices\"][\"resource\"]).lower() == \"operational_control_record\"\n",
    "                                ):\n",
    "                                    new_inner_reference = copy.deepcopy(snake_select_options[\"reference_form_data_choices\"])\n",
    "                                    new_inner_reference[\"resource\"] = \"OccurrenceRecord\"\n",
    "                                    new_inner_field = {**snake_inner_field, \"select_options\": {\"reference_form_data_choices\": keys_to_camel_case(new_inner_reference)}}\n",
    "                                    new_inner_fields.append(keys_to_camel_case(new_inner_field))\n",
    "                                    print('MODIFICOU OccurrenceType: {}'.format(occ_type.pk))\n",
    "                                    continue\n",
    "                        new_inner_fields.append(keys_to_camel_case(snake_inner_field))\n",
    "                    if len(new_inner_fields) == len(inner_fields):\n",
    "                        snake_field[\"inner_fields\"] = new_inner_fields\n",
    "                        new_fields.append(keys_to_camel_case(snake_field))\n",
    "                        print('OKAY no OccurrenceType: {}'.format(occ_type.pk))\n",
    "                        continue\n",
    "                    else:\n",
    "                        print('erro no OccurrenceType: {}'.format(occ_type.pk))\n",
    "                        continue\n",
    "            new_fields.append(keys_to_camel_case(snake_field))\n",
    "        if len(new_fields) == len(occ_type.form_fields[\"fields\"]):\n",
    "            occ_type.form_fields[\"fields\"] = new_fields\n",
    "            occ_type.save()\n",
    "            print('OKAY no OccurrenceType: {}'.format(occ_type.pk))\n",
    "        else:\n",
    "            print('erro no OccurrenceType: {}'.format(occ_type.pk))"
   ]
  },
  {
   "cell_type": "code",
   "execution_count": null,
   "metadata": {},
   "outputs": [],
   "source": []
  }
 ],
 "metadata": {
  "kernelspec": {
   "display_name": "Django Shell-Plus",
   "language": "python",
   "name": "django_extensions"
  },
  "language_info": {
   "codemirror_mode": {
    "name": "ipython",
    "version": 3
   },
   "file_extension": ".py",
   "mimetype": "text/x-python",
   "name": "python",
   "nbconvert_exporter": "python",
   "pygments_lexer": "ipython3",
   "version": "3.6.15"
  }
 },
 "nbformat": 4,
 "nbformat_minor": 4
}
