{
 "cells": [
  {
   "cell_type": "code",
   "execution_count": 1,
   "id": "70857f85",
   "metadata": {},
   "outputs": [],
   "source": [
    "from django.utils.crypto import get_random_string\n",
    "def generate_secret_key(length=50):\n",
    "    \"\"\"\n",
    "    Return a 50 character random string\n",
    "    usable as a `SECRET_KEY` setting value.\n",
    "    \"\"\"\n",
    "    chars = 'abcdefghijklmnopqrstuvwxyz0123456789!@#$%^&*(-_=+)'\n",
    "    if not isinstance(length, int):\n",
    "        raise TypeError(\n",
    "            f'invalid literal for int() with base 10: {length}')\n",
    "    return get_random_string(length, chars)"
   ]
  },
  {
   "cell_type": "code",
   "execution_count": 2,
   "id": "ed7b9793",
   "metadata": {},
   "outputs": [],
   "source": [
    "usuario = User.objects.get(username=\"rlcs\")"
   ]
  },
  {
   "cell_type": "code",
   "execution_count": 3,
   "id": "ab143353",
   "metadata": {},
   "outputs": [],
   "source": [
    "usuario.jwt_secret = generate_secret_key()"
   ]
  },
  {
   "cell_type": "code",
   "execution_count": 4,
   "id": "2cee7399",
   "metadata": {},
   "outputs": [],
   "source": [
    "usuario.save()"
   ]
  },
  {
   "cell_type": "code",
   "execution_count": null,
   "id": "bd0e2e6d",
   "metadata": {},
   "outputs": [],
   "source": []
  }
 ],
 "metadata": {
  "kernelspec": {
   "display_name": "Django Shell-Plus",
   "language": "python",
   "name": "django_extensions"
  },
  "language_info": {
   "codemirror_mode": {
    "name": "ipython",
    "version": 3
   },
   "file_extension": ".py",
   "mimetype": "text/x-python",
   "name": "python",
   "nbconvert_exporter": "python",
   "pygments_lexer": "ipython3",
   "version": "3.8.16"
  }
 },
 "nbformat": 4,
 "nbformat_minor": 5
}
