{
 "cells": [
  {
   "cell_type": "markdown",
   "metadata": {},
   "source": [
    "# Enviar formulários atualizados para o banco de dados"
   ]
  },
  {
   "cell_type": "markdown",
   "metadata": {},
   "source": [
    " "
   ]
  },
  {
   "cell_type": "markdown",
   "metadata": {},
   "source": [
    "Deve-se executar as duas primeiras células para carregar funções utilizadas para rodar o script e verificar se está em Produção"
   ]
  },
  {
   "cell_type": "code",
   "execution_count": 1,
   "metadata": {},
   "outputs": [],
   "source": [
    "import json\n",
    "import os\n",
    "from openpyxl import load_workbook\n",
    "from datetime import timedelta\n",
    "import random\n",
    "from copy import deepcopy\n",
    "from tqdm.notebook import tqdm"
   ]
  },
  {
   "cell_type": "code",
   "execution_count": 2,
   "metadata": {
    "scrolled": true
   },
   "outputs": [
    {
     "name": "stdout",
     "output_type": "stream",
     "text": [
      "STAGE=PRODUCTION\r\n"
     ]
    }
   ],
   "source": [
    "!cat .env"
   ]
  },
  {
   "cell_type": "markdown",
   "metadata": {},
   "source": [
    "Criando diretório com nome do arquivo"
   ]
  },
  {
   "cell_type": "code",
   "execution_count": 3,
   "metadata": {
    "scrolled": true
   },
   "outputs": [],
   "source": [
    "!mkdir \"Elo Eco Noroeste - Parametrização Unidade\""
   ]
  },
  {
   "cell_type": "markdown",
   "metadata": {},
   "source": [
    "Movendo arquivo .zip para o diretório"
   ]
  },
  {
   "cell_type": "code",
   "execution_count": 4,
   "metadata": {},
   "outputs": [],
   "source": [
    "!mv \"Elo Eco Noroeste - Parametrização Unidade.zip\" \"Elo Eco Noroeste - Parametrização Unidade\"/"
   ]
  },
  {
   "cell_type": "markdown",
   "metadata": {},
   "source": [
    "Descompactando arquivo .zip"
   ]
  },
  {
   "cell_type": "code",
   "execution_count": 5,
   "metadata": {
    "scrolled": true
   },
   "outputs": [
    {
     "name": "stdout",
     "output_type": "stream",
     "text": [
      "Archive:  Elo Eco Noroeste - Parametrização Unidade.zip\r\n",
      "  inflating: 1.txt                   \r\n",
      "  inflating: 10.txt                  \r\n",
      "  inflating: 11.txt                  \r\n",
      "  inflating: 12.txt                  \r\n",
      "  inflating: 13.txt                  \r\n",
      "  inflating: 14.txt                  \r\n",
      "  inflating: 15.txt                  \r\n",
      "  inflating: 16.txt                  \r\n",
      "  inflating: 17.txt                  \r\n",
      "  inflating: 18.txt                  \r\n",
      "  inflating: 19.txt                  \r\n",
      "  inflating: 2.txt                   \r\n",
      "  inflating: 20.txt                  \r\n",
      "  inflating: 21.txt                  \r\n",
      "  inflating: 22.txt                  \r\n",
      "  inflating: 23.txt                  \r\n",
      "  inflating: 24.txt                  \r\n",
      "  inflating: 25.txt                  \r\n",
      "  inflating: 26.txt                  \r\n",
      "  inflating: 27.txt                  \r\n",
      "  inflating: 28.txt                  \r\n",
      "  inflating: 29.txt                  \r\n",
      "  inflating: 3.txt                   \r\n",
      "  inflating: 30.txt                  \r\n",
      "  inflating: 31.txt                  \r\n",
      "  inflating: 32.txt                  \r\n",
      "  inflating: 33.txt                  \r\n",
      "  inflating: 34.txt                  \r\n",
      "  inflating: 35.txt                  \r\n",
      "  inflating: 36.txt                  \r\n",
      "  inflating: 37.txt                  \r\n",
      "  inflating: 38.txt                  \r\n",
      "  inflating: 39.txt                  \r\n",
      "  inflating: 4.txt                   \r\n",
      "  inflating: 40.txt                  \r\n",
      "  inflating: 41.txt                  \r\n",
      "  inflating: 42.txt                  \r\n",
      "  inflating: 43.txt                  \r\n",
      "  inflating: 44.txt                  \r\n",
      "  inflating: 45.txt                  \r\n",
      "  inflating: 46.txt                  \r\n",
      "  inflating: 47.txt                  \r\n",
      "  inflating: 48.txt                  \r\n",
      "  inflating: 49.txt                  \r\n",
      "  inflating: 5.txt                   \r\n",
      "  inflating: 50.txt                  \r\n",
      "  inflating: 51.txt                  \r\n",
      "  inflating: 6.txt                   \r\n",
      "  inflating: 7.txt                   \r\n",
      "  inflating: 8.txt                   \r\n",
      "  inflating: 9.txt                   \r\n",
      "  inflating: Elo Eco Noroeste - Parametrização Unidade.xlsx  \r\n"
     ]
    }
   ],
   "source": [
    "!cd \"Elo Eco Noroeste - Parametrização Unidade\"/ && unzip \"Elo Eco Noroeste - Parametrização Unidade.zip\""
   ]
  },
  {
   "cell_type": "markdown",
   "metadata": {},
   "source": [
    "Necessário executar somente se estiver no MAC"
   ]
  },
  {
   "cell_type": "code",
   "execution_count": 6,
   "metadata": {},
   "outputs": [],
   "source": [
    "!cd \"Elo Eco Noroeste - Parametrização Unidade\"/ && rm -rf __MACOSX"
   ]
  },
  {
   "cell_type": "markdown",
   "metadata": {},
   "source": [
    "Deletando arquivo .zip"
   ]
  },
  {
   "cell_type": "code",
   "execution_count": 7,
   "metadata": {},
   "outputs": [],
   "source": [
    "!cd \"Elo Eco Noroeste - Parametrização Unidade\"/ && rm \"Elo Eco Noroeste - Parametrização Unidade.zip\""
   ]
  },
  {
   "cell_type": "markdown",
   "metadata": {},
   "source": [
    "**Escolhendo a unidade que desejar**"
   ]
  },
  {
   "cell_type": "code",
   "execution_count": 9,
   "metadata": {},
   "outputs": [
    {
     "data": {
      "text/plain": [
       "<Company: 0dcad023-ac00-4141-8262-8f1688f4b7bd: ELO EcoNoroeste>"
      ]
     },
     "execution_count": 9,
     "metadata": {},
     "output_type": "execute_result"
    }
   ],
   "source": [
    "company = Company.objects.get(name=\"ELO EcoNoroeste\")\n",
    "company"
   ]
  },
  {
   "cell_type": "markdown",
   "metadata": {},
   "source": [
    "Carregando os dados dos arquivos .txt gerados"
   ]
  },
  {
   "cell_type": "code",
   "execution_count": 10,
   "metadata": {
    "scrolled": true
   },
   "outputs": [
    {
     "name": "stdout",
     "output_type": "stream",
     "text": [
      "------\n",
      "Elo Eco Noroeste - Parametrização Unidade/34.txt\n",
      "Lavagem de praça de pedágios\n",
      "------\n",
      "Elo Eco Noroeste - Parametrização Unidade/12.txt\n",
      "Juntas e trincas\n",
      "------\n",
      "Elo Eco Noroeste - Parametrização Unidade/7.txt\n",
      "Selagem de trincas\n",
      "------\n",
      "Elo Eco Noroeste - Parametrização Unidade/24.txt\n",
      "Lixo, resíduos, entulho ou restos vegetais\n",
      "------\n",
      "Elo Eco Noroeste - Parametrização Unidade/51.txt\n",
      "Limpeza e manutenção de barreira de concreto\n",
      "------\n",
      "Elo Eco Noroeste - Parametrização Unidade/1.txt\n",
      "Panela, buraco ou desplacamento\n",
      "------\n",
      "Elo Eco Noroeste - Parametrização Unidade/26.txt\n",
      "Limpeza e varredura de áreas pavimentadas\n",
      "------\n",
      "Elo Eco Noroeste - Parametrização Unidade/5.txt\n",
      "Pano de rolamento comprometido\n",
      "------\n",
      "Elo Eco Noroeste - Parametrização Unidade/14.txt\n",
      "Roçada Manual\n",
      "------\n",
      "Elo Eco Noroeste - Parametrização Unidade/42.txt\n",
      "Limpeza das drenagens dos túneis\n",
      "------\n",
      "Elo Eco Noroeste - Parametrização Unidade/50.txt\n",
      "Limpeza e manutenção de defensa metálica\n",
      "------\n",
      "Elo Eco Noroeste - Parametrização Unidade/46.txt\n",
      "Lavagem de balizadores\n",
      "------\n",
      "Elo Eco Noroeste - Parametrização Unidade/32.txt\n",
      "Varrição de Áreas Pavimentadas, Capina e Limpeza\n",
      "------\n",
      "Elo Eco Noroeste - Parametrização Unidade/8.txt\n",
      "Degrau entre pista e acostamento\n",
      "------\n",
      "Elo Eco Noroeste - Parametrização Unidade/43.txt\n",
      "Limpeza de drenagem profunda\n",
      "------\n",
      "Elo Eco Noroeste - Parametrização Unidade/3.txt\n",
      "Depressão no encontro com OAE - Pavimento Flexível\n",
      "------\n",
      "Elo Eco Noroeste - Parametrização Unidade/20.txt\n",
      "Manutenção de Árvores e Arbustos\n",
      "------\n",
      "Elo Eco Noroeste - Parametrização Unidade/31.txt\n",
      "Limpeza de Dispositivos de Drenagem Internos e Externos\n",
      "------\n",
      "Elo Eco Noroeste - Parametrização Unidade/47.txt\n",
      "Lavagem de delineadores\n",
      "------\n",
      "Elo Eco Noroeste - Parametrização Unidade/11.txt\n",
      "Depressão no encontro com OAE - Pavimento Rígido\n",
      "------\n",
      "Elo Eco Noroeste - Parametrização Unidade/44.txt\n",
      " Limpeza de sinalização Vertical de Solo \n",
      "------\n",
      "Elo Eco Noroeste - Parametrização Unidade/36.txt\n",
      "Limpeza de Drenagem Superficial de Plataforma\n",
      "------\n",
      "Elo Eco Noroeste - Parametrização Unidade/49.txt\n",
      "Instalação de defensa metálica\n",
      "------\n",
      "Elo Eco Noroeste - Parametrização Unidade/15.txt\n",
      "Roçada Mecanizada\n",
      "------\n",
      "Elo Eco Noroeste - Parametrização Unidade/9.txt\n",
      "Panela ou buraco\n",
      "------\n",
      "Elo Eco Noroeste - Parametrização Unidade/28.txt\n",
      "Animais mortos\n",
      "------\n",
      "Elo Eco Noroeste - Parametrização Unidade/35.txt\n",
      "Lavagem de Call box\n",
      "------\n",
      "Elo Eco Noroeste - Parametrização Unidade/37.txt\n",
      "Limpeza de Drenagem Superficial de Plataforma e Capina\n",
      "------\n",
      "Elo Eco Noroeste - Parametrização Unidade/25.txt\n",
      "Cata papel - Rodovia\n",
      "------\n",
      "Elo Eco Noroeste - Parametrização Unidade/45.txt\n",
      " Limpeza de sinalização Vertical  Aérea\n",
      "------\n",
      "Elo Eco Noroeste - Parametrização Unidade/2.txt\n",
      "Reparo definitivo com recorte - Pavimento Flexível\n",
      "------\n",
      "Elo Eco Noroeste - Parametrização Unidade/21.txt\n",
      "Corte e Poda de Árvores e Arbustos\n",
      "------\n",
      "Elo Eco Noroeste - Parametrização Unidade/6.txt\n",
      "Pano de rolamento medianamente comprometido\n",
      "------\n",
      "Elo Eco Noroeste - Parametrização Unidade/29.txt\n",
      "Canais e corta rios\n",
      "------\n",
      "Elo Eco Noroeste - Parametrização Unidade/30.txt\n",
      "Limpeza de passarelas\n",
      "------\n",
      "Elo Eco Noroeste - Parametrização Unidade/39.txt\n",
      "Limpeza de Caixas de Captação\n",
      "------\n",
      "Elo Eco Noroeste - Parametrização Unidade/38.txt\n",
      "Limpeza de Drenagem Superficial Fora de Plataforma\n",
      "------\n",
      "Elo Eco Noroeste - Parametrização Unidade/22.txt\n",
      "Falha de revestimento vegetal\n",
      "------\n",
      "Elo Eco Noroeste - Parametrização Unidade/10.txt\n",
      "Reparo definitivo com recorte - Pavimento Rígido\n",
      "------\n",
      "Elo Eco Noroeste - Parametrização Unidade/13.txt\n",
      "Bordos e/ou lajes quebrados\n",
      "------\n",
      "Elo Eco Noroeste - Parametrização Unidade/23.txt\n",
      "Remoção de resíduos\n",
      "------\n",
      "Elo Eco Noroeste - Parametrização Unidade/48.txt\n",
      "Remoção de defensa metálica\n",
      "------\n",
      "Elo Eco Noroeste - Parametrização Unidade/41.txt\n",
      "Limpeza de buzinotes e extravasores\n",
      "------\n",
      "Elo Eco Noroeste - Parametrização Unidade/16.txt\n",
      "Roçada de cerca a cerca\n",
      "------\n",
      "Elo Eco Noroeste - Parametrização Unidade/40.txt\n",
      "Limpeza de bueiros, galerias e drenos\n",
      "------\n",
      "Elo Eco Noroeste - Parametrização Unidade/33.txt\n",
      "Limpeza de Dispositivos de Drenagem Internos e Externos\n",
      "------\n",
      "Elo Eco Noroeste - Parametrização Unidade/4.txt\n",
      "Depressão ou recalque de pequena extensão\n",
      "------\n",
      "Elo Eco Noroeste - Parametrização Unidade/27.txt\n",
      "Limpeza de canteiro central pavimentado\n",
      "------\n",
      "Elo Eco Noroeste - Parametrização Unidade/18.txt\n",
      "Aceiros\n",
      "------\n",
      "Elo Eco Noroeste - Parametrização Unidade/19.txt\n",
      "Despraguejamento\n",
      "------\n",
      "Elo Eco Noroeste - Parametrização Unidade/17.txt\n",
      "Capina\n"
     ]
    }
   ],
   "source": [
    "new_forms = []\n",
    "\n",
    "for index, file in enumerate(os.listdir('Elo Eco Noroeste - Parametrização Unidade/')):\n",
    "    if not '.txt' in file:\n",
    "        continue\n",
    "    file_name = 'Elo Eco Noroeste - Parametrização Unidade/{}'.format(file)\n",
    "    print('------')\n",
    "    print(file_name)\n",
    "    with open(file_name, 'r+') as fo:\n",
    "        form = json.load(fo)\n",
    "        print(form['displayName'])\n",
    "        new_forms.append(form)"
   ]
  },
  {
   "cell_type": "markdown",
   "metadata": {},
   "source": [
    "Testando form para conferir se dados foram carregados corretamente"
   ]
  },
  {
   "cell_type": "code",
   "execution_count": 11,
   "metadata": {
    "collapsed": true
   },
   "outputs": [
    {
     "data": {
      "text/plain": [
       "(51,\n",
       " {'id': 7,\n",
       "  'name': 'Selagem de trincas',\n",
       "  'displayName': 'Selagem de trincas',\n",
       "  'fields': [{'displayName': 'Origem',\n",
       "    'apiName': 'origem',\n",
       "    'dataType': 'select',\n",
       "    'id': 1,\n",
       "    'selectOptions': {'options': [{'name': 'Solicitação', 'value': '1'},\n",
       "      {'name': 'KCOR/KRIA', 'value': '2'},\n",
       "      {'name': 'Não Conformidade', 'value': '3'},\n",
       "      {'name': 'Diário', 'value': '4'},\n",
       "      {'name': 'Obras', 'value': '5'},\n",
       "      {'name': 'Programação Mensal', 'value': '6'},\n",
       "      {'name': 'Ouvidoria', 'value': '7'},\n",
       "      {'name': 'Preventivo', 'value': '8'},\n",
       "      {'name': 'Outro', 'value': '9'}]}},\n",
       "   {'displayName': 'Ordem de Serviço',\n",
       "    'apiName': 'ordemServico',\n",
       "    'dataType': 'number',\n",
       "    'id': 2},\n",
       "   {'displayName': 'Metros',\n",
       "    'apiName': 'metros',\n",
       "    'dataType': 'float',\n",
       "    'unit': 'm',\n",
       "    'id': 3},\n",
       "   {'displayName': 'Observação',\n",
       "    'apiName': 'notes',\n",
       "    'dataType': 'textArea',\n",
       "    'id': 4}],\n",
       "  'groups': [{'order': 1, 'members': [1, 2], 'displayName': 'Definições'},\n",
       "   {'order': 2, 'members': [3], 'displayName': 'Dimensões'},\n",
       "   {'order': 3, 'members': [4], 'displayName': 'Informações Adicionais'}],\n",
       "  'measurementColumns': [{'key': 'origem',\n",
       "    'header': 'Origem',\n",
       "    'logic': {'if': [{'==': [{'var': 'formData.origem'}, '1']},\n",
       "      'Solicitação',\n",
       "      {'==': [{'var': 'formData.origem'}, '2']},\n",
       "      'KCOR/KRIA',\n",
       "      {'==': [{'var': 'formData.origem'}, '3']},\n",
       "      'Não Conformidade',\n",
       "      {'==': [{'var': 'formData.origem'}, '4']},\n",
       "      'Diário',\n",
       "      {'==': [{'var': 'formData.origem'}, '5']},\n",
       "      'Obras',\n",
       "      {'==': [{'var': 'formData.origem'}, '6']},\n",
       "      'Programação Mensal',\n",
       "      {'==': [{'var': 'formData.origem'}, '7']},\n",
       "      'Ouvidoria',\n",
       "      {'==': [{'var': 'formData.origem'}, '8']},\n",
       "      'Preventivo',\n",
       "      {'==': [{'var': 'formData.origem'}, '9']},\n",
       "      'Outro',\n",
       "      '']}},\n",
       "   {'key': 'ordemServico',\n",
       "    'header': 'Ordem de Serviço',\n",
       "    'logic': {'var': 'formData.ordemServico'}},\n",
       "   {'key': 'metros', 'header': 'Metros', 'logic': {'var': 'formData.metros'}},\n",
       "   {'key': 'notes',\n",
       "    'header': 'Observação',\n",
       "    'logic': {'var': 'formData.notes'}}]})"
      ]
     },
     "execution_count": 11,
     "metadata": {},
     "output_type": "execute_result"
    }
   ],
   "source": [
    "len(new_forms),new_forms[2]"
   ]
  },
  {
   "cell_type": "markdown",
   "metadata": {},
   "source": [
    "Escolhendo nome do arquivo Excel para carregar as Classes"
   ]
  },
  {
   "cell_type": "code",
   "execution_count": 12,
   "metadata": {},
   "outputs": [],
   "source": [
    "filename = \"Elo Eco Noroeste - Parametrização Unidade/Elo Eco Noroeste - Parametrização Unidade\""
   ]
  },
  {
   "cell_type": "markdown",
   "metadata": {},
   "source": [
    "Escolhendo a aba da planilha do Excel\n",
    "\n",
    "Obs: atenção para escolher a aba correta da planilha"
   ]
  },
  {
   "cell_type": "code",
   "execution_count": 13,
   "metadata": {},
   "outputs": [],
   "source": [
    "wb = load_workbook(filename + \".xlsx\")\n",
    "ws = wb['Classes e Nat']\n",
    "# ws = wb['Classes']"
   ]
  },
  {
   "cell_type": "markdown",
   "metadata": {},
   "source": [
    "Testando planilha carregada do Excel"
   ]
  },
  {
   "cell_type": "code",
   "execution_count": 14,
   "metadata": {},
   "outputs": [
    {
     "name": "stdout",
     "output_type": "stream",
     "text": [
      "Formulário\n"
     ]
    }
   ],
   "source": [
    "# print(ws['A1'].value)\n",
    "print(ws['F1'].value)"
   ]
  },
  {
   "cell_type": "markdown",
   "metadata": {},
   "source": [
    "Carregando as classes no script"
   ]
  },
  {
   "cell_type": "code",
   "execution_count": 15,
   "metadata": {},
   "outputs": [],
   "source": [
    "header = []\n",
    "values = []\n",
    "\n",
    "for index, row in enumerate(ws.rows):\n",
    "    if index == 0:\n",
    "        header = list([a.value for a in row])\n",
    "        continue\n",
    "    obj = {}\n",
    "    for col_index, cell in enumerate(row):\n",
    "        value = cell.value\n",
    "        obj[header[col_index]] = value\n",
    "    values.append(obj)"
   ]
  },
  {
   "cell_type": "markdown",
   "metadata": {},
   "source": [
    "Testando as configurações das Classes para conferir se dados foram carregados corretamente"
   ]
  },
  {
   "cell_type": "code",
   "execution_count": 16,
   "metadata": {},
   "outputs": [
    {
     "data": {
      "text/plain": [
       "{None: None,\n",
       " 'Formulário': 2,\n",
       " 'Natureza': 'Pavimento Flexível',\n",
       " 'Classe': 'Reparo definitivo com recorte - Pavimento Flexível',\n",
       " 'Observação': None,\n",
       " 'Inventário/Monitoração': None,\n",
       " 'ID Classe': 2,\n",
       " 'Existe Natureza?': 3}"
      ]
     },
     "execution_count": 16,
     "metadata": {},
     "output_type": "execute_result"
    }
   ],
   "source": [
    "values[1]"
   ]
  },
  {
   "cell_type": "markdown",
   "metadata": {},
   "source": [
    "Inserindo as informações de Natureza e Prazo no form"
   ]
  },
  {
   "cell_type": "code",
   "execution_count": 17,
   "metadata": {},
   "outputs": [],
   "source": [
    "for a in values:\n",
    "    if a['Classe'] not in [x['displayName'] for x in new_forms]:\n",
    "        print(a['Classe'])"
   ]
  },
  {
   "cell_type": "code",
   "execution_count": 18,
   "metadata": {},
   "outputs": [],
   "source": [
    "for form in new_forms:\n",
    "    if form['displayName'] not in [a['Classe'] for a in values]:\n",
    "        print(form['displayName'])\n",
    "    else:\n",
    "        row = next(a for a in values if a['Classe'] == form['displayName'])\n",
    "        form['kind'] = row['Existe Natureza?']\n",
    "#         form['kind'] = row['id_Natureza']\n",
    "\n",
    "        if row.get('Prazo'):\n",
    "            if 'horas' in row['Prazo']:\n",
    "                form['deadline'] = timedelta(hours=int(row['Prazo'].split(' ')[0]))\n",
    "            elif 'dias' or 'dia' in row['Prazo']:\n",
    "                form['deadline'] = timedelta(days=int(row['Prazo'].split(' ')[0]))\n",
    "            else:\n",
    "                print('DEU RUIM')\n",
    "        if row.get('Cor'):\n",
    "            form['color'] = row['Cor']"
   ]
  },
  {
   "cell_type": "markdown",
   "metadata": {},
   "source": [
    "Testando o form modificado"
   ]
  },
  {
   "cell_type": "code",
   "execution_count": 19,
   "metadata": {},
   "outputs": [],
   "source": [
    "for a in new_forms:\n",
    "    a['name'] = a['name'].strip()\n",
    "    a['displayName'] = a['displayName'].strip()"
   ]
  },
  {
   "cell_type": "code",
   "execution_count": 20,
   "metadata": {
    "scrolled": true
   },
   "outputs": [
    {
     "data": {
      "text/plain": [
       "{'id': 14,\n",
       " 'name': 'Roçada Manual',\n",
       " 'displayName': 'Roçada Manual',\n",
       " 'fields': [{'displayName': 'Origem',\n",
       "   'apiName': 'origem',\n",
       "   'dataType': 'select',\n",
       "   'id': 1,\n",
       "   'selectOptions': {'options': [{'name': 'Solicitação', 'value': '1'},\n",
       "     {'name': 'KCOR/KRIA', 'value': '2'},\n",
       "     {'name': 'Não Conformidade', 'value': '3'},\n",
       "     {'name': 'Diário', 'value': '4'},\n",
       "     {'name': 'Obras', 'value': '5'},\n",
       "     {'name': 'Programação Mensal', 'value': '6'},\n",
       "     {'name': 'Ouvidoria', 'value': '7'},\n",
       "     {'name': 'Preventivo', 'value': '8'},\n",
       "     {'name': 'Outro', 'value': '9'}]}},\n",
       "  {'displayName': 'Ordem de Serviço',\n",
       "   'apiName': 'ordemServico',\n",
       "   'dataType': 'number',\n",
       "   'id': 2},\n",
       "  {'displayName': 'Largura',\n",
       "   'apiName': 'width',\n",
       "   'dataType': 'float',\n",
       "   'unit': 'm',\n",
       "   'id': 3},\n",
       "  {'displayName': 'Comprimento',\n",
       "   'apiName': 'length',\n",
       "   'dataType': 'float',\n",
       "   'unit': 'm',\n",
       "   'id': 4},\n",
       "  {'displayName': 'Área',\n",
       "   'apiName': 'area',\n",
       "   'dataType': 'float',\n",
       "   'autofill': {'if': [{'missing': ['formData.length', 'formData.width']},\n",
       "     0,\n",
       "     {'*': [{'var': 'formData.length'}, {'var': 'formData.width'}]}]},\n",
       "   'disableIf': True,\n",
       "   'unit': 'm²',\n",
       "   'id': 5},\n",
       "  {'displayName': 'Observação',\n",
       "   'apiName': 'notes',\n",
       "   'dataType': 'textArea',\n",
       "   'id': 6}],\n",
       " 'groups': [{'order': 1, 'members': [1, 2], 'displayName': 'Definições'},\n",
       "  {'order': 2, 'members': [3, 4, 5], 'displayName': 'Dimensões'},\n",
       "  {'order': 3, 'members': [6], 'displayName': 'Informações Adicionais'}],\n",
       " 'measurementColumns': [{'key': 'origem',\n",
       "   'header': 'Origem',\n",
       "   'logic': {'if': [{'==': [{'var': 'formData.origem'}, '1']},\n",
       "     'Solicitação',\n",
       "     {'==': [{'var': 'formData.origem'}, '2']},\n",
       "     'KCOR/KRIA',\n",
       "     {'==': [{'var': 'formData.origem'}, '3']},\n",
       "     'Não Conformidade',\n",
       "     {'==': [{'var': 'formData.origem'}, '4']},\n",
       "     'Diário',\n",
       "     {'==': [{'var': 'formData.origem'}, '5']},\n",
       "     'Obras',\n",
       "     {'==': [{'var': 'formData.origem'}, '6']},\n",
       "     'Programação Mensal',\n",
       "     {'==': [{'var': 'formData.origem'}, '7']},\n",
       "     'Ouvidoria',\n",
       "     {'==': [{'var': 'formData.origem'}, '8']},\n",
       "     'Preventivo',\n",
       "     {'==': [{'var': 'formData.origem'}, '9']},\n",
       "     'Outro',\n",
       "     '']}},\n",
       "  {'key': 'ordemServico',\n",
       "   'header': 'Ordem de Serviço',\n",
       "   'logic': {'var': 'formData.ordemServico'}},\n",
       "  {'key': 'width', 'header': 'Largura', 'logic': {'var': 'formData.width'}},\n",
       "  {'key': 'length',\n",
       "   'header': 'Comprimento',\n",
       "   'logic': {'var': 'formData.length'}},\n",
       "  {'key': 'area', 'header': 'Área', 'logic': {'var': 'formData.area'}},\n",
       "  {'key': 'notes',\n",
       "   'header': 'Observação',\n",
       "   'logic': {'var': 'formData.notes'}}],\n",
       " 'kind': 5}"
      ]
     },
     "execution_count": 20,
     "metadata": {},
     "output_type": "execute_result"
    }
   ],
   "source": [
    "new_forms[8]"
   ]
  },
  {
   "cell_type": "markdown",
   "metadata": {},
   "source": [
    "Salvando as modificações dos forms nos OccurrenceTypes já criados no sistema"
   ]
  },
  {
   "cell_type": "markdown",
   "metadata": {},
   "source": [
    "## Atenção! Este passo modifica informações do banco de dados"
   ]
  },
  {
   "cell_type": "code",
   "execution_count": 21,
   "metadata": {},
   "outputs": [
    {
     "data": {
      "application/vnd.jupyter.widget-view+json": {
       "model_id": "f585a31aabd9407fb624a594fb791d6a",
       "version_major": 2,
       "version_minor": 0
      },
      "text/plain": [
       "  0%|          | 0/51 [00:00<?, ?it/s]"
      ]
     },
     "metadata": {},
     "output_type": "display_data"
    },
    {
     "name": "stdout",
     "output_type": "stream",
     "text": [
      "Lavagem de praça de pedágios - []\n",
      "Juntas e trincas - []\n",
      "Selagem de trincas - []\n",
      "Lixo, resíduos, entulho ou restos vegetais - []\n",
      "Limpeza e manutenção de barreira de concreto - []\n",
      "Panela, buraco ou desplacamento - []\n",
      "Limpeza e varredura de áreas pavimentadas - []\n",
      "Pano de rolamento comprometido - []\n",
      "Roçada Manual - []\n",
      "Limpeza das drenagens dos túneis - []\n",
      "Limpeza e manutenção de defensa metálica - []\n",
      "Lavagem de balizadores - []\n",
      "Varrição de Áreas Pavimentadas, Capina e Limpeza - []\n",
      "Degrau entre pista e acostamento - []\n",
      "Limpeza de drenagem profunda - []\n",
      "Depressão no encontro com OAE - Pavimento Flexível - []\n",
      "Manutenção de Árvores e Arbustos - []\n",
      "Limpeza de Dispositivos de Drenagem Internos e Externos - []\n",
      "Lavagem de delineadores - []\n",
      "Depressão no encontro com OAE - Pavimento Rígido - []\n",
      "Limpeza de sinalização Vertical de Solo - []\n",
      "Limpeza de Drenagem Superficial de Plataforma - []\n",
      "Instalação de defensa metálica - []\n",
      "Roçada Mecanizada - []\n",
      "Panela ou buraco - []\n",
      "Animais mortos - []\n",
      "Lavagem de Call box - []\n",
      "Limpeza de Drenagem Superficial de Plataforma e Capina - []\n",
      "Cata papel - Rodovia - []\n",
      "Limpeza de sinalização Vertical  Aérea - []\n",
      "Reparo definitivo com recorte - Pavimento Flexível - []\n",
      "Corte e Poda de Árvores e Arbustos - []\n",
      "Pano de rolamento medianamente comprometido - []\n",
      "Canais e corta rios - []\n",
      "Limpeza de passarelas - []\n",
      "Limpeza de Caixas de Captação - []\n",
      "Limpeza de Drenagem Superficial Fora de Plataforma - []\n",
      "Falha de revestimento vegetal - []\n",
      "Reparo definitivo com recorte - Pavimento Rígido - []\n",
      "Bordos e/ou lajes quebrados - []\n",
      "Remoção de resíduos - []\n",
      "Remoção de defensa metálica - []\n",
      "Limpeza de buzinotes e extravasores - []\n",
      "Roçada de cerca a cerca - []\n",
      "Limpeza de bueiros, galerias e drenos - []\n",
      "Atualizei o formulário:  Limpeza de Dispositivos de Drenagem Internos e Externos\n",
      "Depressão ou recalque de pequena extensão - []\n",
      "Limpeza de canteiro central pavimentado - []\n",
      "Aceiros - []\n",
      "Despraguejamento - []\n",
      "Capina - []\n",
      "50\n"
     ]
    }
   ],
   "source": [
    "counter=0\n",
    "occurrence_types = []\n",
    "\n",
    "for form in tqdm(new_forms):\n",
    "    form_copy = deepcopy(form)\n",
    "    if 'deadline' in form_copy.keys():\n",
    "        del form_copy['deadline']\n",
    "    if 'kind' in form_copy.keys():\n",
    "        del form_copy['kind']\n",
    "    if 'color' in form_copy.keys():\n",
    "        del form_copy['color']\n",
    "    \n",
    "#     if form['displayName'] in [x.name for x in OccurrenceType.objects.filter(company=company)] and if str(form['kind']) in [x.occurrence_kind for x in OccurrenceType.objects.filter(name=form['displayName'])]:\n",
    "    if form['displayName'] in [x.name for x in OccurrenceType.objects.filter(company=company)]:\n",
    "\n",
    "        occurrence_type=OccurrenceType.objects.filter(company=company, name=form['displayName']).first()\n",
    "        occurrence_type.occurrence_kind=form['kind']\n",
    "        occurrence_type.form_fields=form_copy\n",
    "        occurrence_type.deadline=form['deadline'] if 'deadline' in form else None\n",
    "        occurrence_type.save()\n",
    "        print(\"Atualizei o formulário: \", occurrence_type.name)\n",
    "#         counter+=1\n",
    "    else:\n",
    "        occurrence_type=OccurrenceType(name=form['displayName'], occurrence_kind=form['kind'], \n",
    "            form_fields=form_copy, deadline=form['deadline'] if 'deadline' in form else None)\n",
    "        print(occurrence_type)\n",
    "        occurrence_type.save()\n",
    "        spec=OccurrenceTypeSpecs(occurrence_type=occurrence_type, company=company,\n",
    "            color=form['color'] if 'color' in form else \"#\"+''.join(random.choices('0123456789ABCDEF', k=6)))\n",
    "        spec.save()\n",
    "        counter+=1\n",
    "\n",
    "print(counter)"
   ]
  },
  {
   "cell_type": "markdown",
   "metadata": {},
   "source": [
    " "
   ]
  },
  {
   "cell_type": "markdown",
   "metadata": {},
   "source": [
    " "
   ]
  },
  {
   "cell_type": "markdown",
   "metadata": {},
   "source": [
    "## Linhas para testes (não considerar para execução do script)"
   ]
  },
  {
   "cell_type": "markdown",
   "metadata": {},
   "source": [
    " "
   ]
  },
  {
   "cell_type": "code",
   "execution_count": 32,
   "metadata": {},
   "outputs": [
    {
     "data": {
      "application/vnd.jupyter.widget-view+json": {
       "model_id": "76a652a829324f10a470531151d8c38b",
       "version_major": 2,
       "version_minor": 0
      },
      "text/plain": [
       "  0%|          | 0/102 [00:00<?, ?it/s]"
      ]
     },
     "metadata": {},
     "output_type": "display_data"
    },
    {
     "data": {
      "text/plain": [
       "0"
      ]
     },
     "execution_count": 32,
     "metadata": {},
     "output_type": "execute_result"
    }
   ],
   "source": []
  },
  {
   "cell_type": "code",
   "execution_count": null,
   "metadata": {},
   "outputs": [],
   "source": []
  },
  {
   "cell_type": "markdown",
   "metadata": {},
   "source": [
    "# Criar apartir de uma classe existente"
   ]
  },
  {
   "cell_type": "code",
   "execution_count": null,
   "metadata": {},
   "outputs": [],
   "source": [
    "company=Company.objects.get(name='Eixo SP')\n",
    "occ=OccurrenceType.objects.get(company__name='Eixo SP',name='Manutenção de junta de dilatação')\n",
    "occ,company"
   ]
  },
  {
   "cell_type": "code",
   "execution_count": null,
   "metadata": {},
   "outputs": [],
   "source": [
    "#Nomes das classes novas\n",
    "lista=['Totem não funciona',\n",
    "'Iluminação interna queimada',\n",
    "'Iluminação externa queimada',\n",
    "'Tomada externa com defeito',\n",
    "'Tomada interna com defeito',]\n",
    "len(lista)"
   ]
  },
  {
   "cell_type": "code",
   "execution_count": null,
   "metadata": {},
   "outputs": [],
   "source": [
    "from tqdm.notebook import tqdm\n",
    "for a in tqdm(lista):\n",
    "    new_occ=occ\n",
    "    new_occ.uuid=None\n",
    "    new_occ.name=a.strip()\n",
    "    new_occ.occurrence_kind='23'\n",
    "    new_occ.form_fields['name'] = a.strip()\n",
    "    new_occ.form_fields['displayName'] = a.strip()\n",
    "    new_occ.save()\n",
    "    \n",
    "    spec=OccurrenceTypeSpecs(occurrence_type=new_occ, company=company)\n",
    "    spec.save()"
   ]
  },
  {
   "cell_type": "code",
   "execution_count": null,
   "metadata": {},
   "outputs": [],
   "source": []
  },
  {
   "cell_type": "code",
   "execution_count": null,
   "metadata": {},
   "outputs": [],
   "source": []
  },
  {
   "cell_type": "code",
   "execution_count": null,
   "metadata": {},
   "outputs": [],
   "source": []
  },
  {
   "cell_type": "code",
   "execution_count": 43,
   "metadata": {},
   "outputs": [
    {
     "data": {
      "application/vnd.jupyter.widget-view+json": {
       "model_id": "64fc80e963b242329b70463712069dd1",
       "version_major": 2,
       "version_minor": 0
      },
      "text/plain": [
       "  0%|          | 0/50 [00:00<?, ?it/s]"
      ]
     },
     "metadata": {},
     "output_type": "display_data"
    },
    {
     "name": "stdout",
     "output_type": "stream",
     "text": [
      "Camada Rolamento - Cbuq - Grad. C. - Com DOP\n",
      "Camada Rolamento - Cbuq - Grad. 3 - Com DOP\n",
      "Reciclagem Capa/Base Com Adição de 4% de Cimento\n",
      "Sinalização Hor. Tinta P/ Pouco Trafego (Sin. Provisoria)\n"
     ]
    }
   ],
   "source": [
    "\n",
    "for form in tqdm(new_forms[9:]):\n",
    "    try:\n",
    "        occ = OccurrenceType.history.model.objects.filter(name=form['displayName'],history_type='~').order_by('-history_date')[1]\n",
    "        occ.instance.save()\n",
    "    except:\n",
    "        print(form['displayName'])"
   ]
  },
  {
   "cell_type": "code",
   "execution_count": 39,
   "metadata": {},
   "outputs": [
    {
     "data": {
      "text/plain": [
       "{'_state': <django.db.models.base.ModelState at 0x7efee731c7d0>,\n",
       " 'uuid': UUID('a1224eb9-1e75-4c18-a02f-2a529ef043a4'),\n",
       " 'name': 'IGG',\n",
       " 'occurrence_kind': '7',\n",
       " 'form_fields': {'id': 52,\n",
       "  'name': 'IGG',\n",
       "  'fields': [{'id': 1,\n",
       "    'apiName': 'igg',\n",
       "    'dataType': 'float',\n",
       "    'displayName': 'IGG'}],\n",
       "  'groups': [{'order': 1, 'members': [1], 'displayName': 'Parâmetro'}],\n",
       "  'displayName': 'IGG',\n",
       "  'measurementColumns': [{'key': 'igg',\n",
       "    'logic': {'var': 'formData.igg'},\n",
       "    'header': 'IGG'}]},\n",
       " 'goal_formula': [],\n",
       " 'created_at': datetime.datetime(2023, 4, 6, 13, 50, 58, 39598, tzinfo=<UTC>),\n",
       " 'updated_at': datetime.datetime(2023, 9, 18, 19, 4, 32, 519631, tzinfo=<UTC>),\n",
       " 'deadline': None,\n",
       " 'active': True,\n",
       " 'show_in_web_map': True,\n",
       " 'show_in_app_map': False,\n",
       " 'icon': '',\n",
       " 'icon_size': 15,\n",
       " 'color': '#005dffb3',\n",
       " 'is_oae': False,\n",
       " 'repetition': {},\n",
       " 'monitoring_plan_id': None,\n",
       " 'created_by_id': UUID('508a66f3-3f58-4c4e-bc9a-fbba6078c02d'),\n",
       " 'previous_version_id': None,\n",
       " 'history_id': UUID('7e67bf39-cd0f-4fe2-b32c-4d066dfb868a'),\n",
       " 'history_date': datetime.datetime(2023, 9, 18, 19, 4, 32, 529983, tzinfo=<UTC>),\n",
       " 'history_change_reason': None,\n",
       " 'history_type': '~',\n",
       " 'history_user_id': None}"
      ]
     },
     "execution_count": 39,
     "metadata": {},
     "output_type": "execute_result"
    }
   ],
   "source": [
    "occ.__dict__"
   ]
  },
  {
   "cell_type": "code",
   "execution_count": null,
   "metadata": {},
   "outputs": [],
   "source": []
  },
  {
   "cell_type": "code",
   "execution_count": null,
   "metadata": {},
   "outputs": [],
   "source": []
  },
  {
   "cell_type": "code",
   "execution_count": 49,
   "metadata": {},
   "outputs": [
    {
     "data": {
      "text/plain": [
       "297"
      ]
     },
     "execution_count": 49,
     "metadata": {},
     "output_type": "execute_result"
    }
   ],
   "source": [
    "old_forms = OccurrenceType.objects.filter(company=company).exclude(occurrence_kind='2')\n",
    "old_forms.count()"
   ]
  },
  {
   "cell_type": "code",
   "execution_count": 30,
   "metadata": {},
   "outputs": [
    {
     "name": "stdout",
     "output_type": "stream",
     "text": [
      "LIMPEZA DE PLACA DE SINALIZAÇÃO\n",
      "\n",
      "\n",
      "1\n"
     ]
    }
   ],
   "source": [
    "obj=[x.name for x in old_forms]\n",
    "counter=0\n",
    "\n",
    "for a in [x['displayName'] for x in new_forms]:\n",
    "    if a not in obj:\n",
    "        print(a)\n",
    "        counter+=1\n",
    "        \n",
    "print(\"\\n\")\n",
    "print(counter)"
   ]
  },
  {
   "cell_type": "code",
   "execution_count": 27,
   "metadata": {},
   "outputs": [],
   "source": [
    "obj=[x.name for x in old_forms]\n",
    "\n",
    "for a in obj:\n",
    "    if \"  \" in a:\n",
    "        print(a)"
   ]
  },
  {
   "cell_type": "code",
   "execution_count": 28,
   "metadata": {},
   "outputs": [],
   "source": [
    "obj=[x['Classe'] for x in values]\n",
    "\n",
    "for a in obj:\n",
    "    if \"  \" in a:\n",
    "        print(a)"
   ]
  },
  {
   "cell_type": "code",
   "execution_count": 24,
   "metadata": {},
   "outputs": [],
   "source": [
    "for a in old_forms:\n",
    "    if \"  \" in a.name:\n",
    "        a.name=a.name.replace(\"  \", \" \")\n",
    "#         a.save()"
   ]
  },
  {
   "cell_type": "code",
   "execution_count": 17,
   "metadata": {},
   "outputs": [
    {
     "name": "stdout",
     "output_type": "stream",
     "text": [
      "Relocação (solo/aérea) de Sinalização vertical\n",
      "Limpeza de placa de sinalização\n",
      "Remoção de placa de sinalização \n",
      "Limpeza (solo/aérea) de Sinalização vertical\n",
      "Remoção (solo/aérea) de Sinalização vertical\n",
      "Implantação (solo/aérea) de Sinalização vertical\n",
      "Reparo (solo/aérea) de Sinalização vertical\n",
      "Roçada  (Completa)\n",
      "\n",
      "\n",
      "8\n"
     ]
    }
   ],
   "source": [
    "obj=[x['Classe'] for x in values]\n",
    "counter=0\n",
    "\n",
    "for a in [x.name for x in old_forms]:\n",
    "    if a not in obj:\n",
    "        print(a)\n",
    "        counter+=1\n",
    "        \n",
    "print(\"\\n\")\n",
    "print(counter)"
   ]
  },
  {
   "cell_type": "code",
   "execution_count": 20,
   "metadata": {
    "collapsed": true
   },
   "outputs": [
    {
     "name": "stdout",
     "output_type": "stream",
     "text": [
      "{'Cor': None, 'Classe': 'Junta de dilatação termoelástica asfáltica para OAEs', 'id': 34, 'Prazo': None, 'Natureza': 'Juntas de Dilatação', 'id_Natureza': 13}\n",
      "{'Cor': None, 'Classe': 'Superestrutura - Diamante', 'id': 12, 'Prazo': None, 'Natureza': 'Diamante', 'id_Natureza': 4}\n",
      "{'Cor': None, 'Classe': 'Sinalização e Elementos de Proteção e Segurança - Pista Existente', 'id': 90, 'Prazo': None, 'Natureza': 'Sinalização e Elementos de Proteção e Segurança', 'id_Natureza': 31}\n",
      "{'Cor': None, 'Classe': 'Infraestrutura - Diamante', 'id': 7, 'Prazo': None, 'Natureza': 'Diamante', 'id_Natureza': 4}\n",
      "{'Cor': None, 'Classe': 'Armação de Pilar e/ou Viga', 'id': 24, 'Prazo': None, 'Natureza': 'Estruturas', 'id_Natureza': 9}\n",
      "{'Cor': None, 'Classe': 'Armação em aço CA-50 - Aplicação', 'id': 67, 'Prazo': None, 'Natureza': 'Reforço da Fundação - Estacas', 'id_Natureza': 25}\n",
      "{'Cor': None, 'Classe': 'CBUQ', 'id': 51, 'Prazo': None, 'Natureza': 'Pavimentação - Duplicação', 'id_Natureza': 19}\n",
      "{'Cor': None, 'Classe': 'Reciclagem com incorporação do revestimento asfáltico à base', 'id': 57, 'Prazo': None, 'Natureza': 'Reciclagem da Estrutural', 'id_Natureza': 21}\n",
      "{'Cor': None, 'Classe': 'Movimento de terra - Retorno', 'id': 81, 'Prazo': None, 'Natureza': 'Retorno', 'id_Natureza': 28}\n",
      "{'Cor': None, 'Classe': 'Extração de Testemunhos', 'id': 107, 'Prazo': None, 'Natureza': 'Controle Tecnológico - Pavimento Asfáltico', 'id_Natureza': 35}\n",
      "{'Cor': None, 'Classe': 'Formas de compensado resinado 14 mm - Reforço da fundação', 'id': 65, 'Prazo': None, 'Natureza': 'Reforço da Fundação - Blocos, Pilares e Travessas', 'id_Natureza': 24}\n",
      "{'Cor': None, 'Classe': 'Cobertura Metálica', 'id': 1, 'Prazo': None, 'Natureza': 'Acabamentos', 'id_Natureza': 1}\n",
      "{'Cor': None, 'Classe': 'Regularização do subleito', 'id': 74, 'Prazo': None, 'Natureza': 'Reparo Profundo', 'id_Natureza': 26}\n",
      "{'Cor': None, 'Classe': 'Fôrma', 'id': 26, 'Prazo': None, 'Natureza': 'Estruturas', 'id_Natureza': 9}\n",
      "{'Cor': None, 'Classe': 'Pavimentação', 'id': 5, 'Prazo': None, 'Natureza': 'Acessibilidade', 'id_Natureza': 3}\n",
      "{'Cor': None, 'Classe': 'Base ou sub-base de brita graduada com brita comercial', 'id': 70, 'Prazo': None, 'Natureza': 'Reparo Profundo', 'id_Natureza': 26}\n",
      "{'Cor': None, 'Classe': 'Tirante permanente protendido de aço D = 32 mm', 'id': 66, 'Prazo': None, 'Natureza': 'Reforço da Fundação - Blocos, Pilares e Travessas', 'id_Natureza': 24}\n",
      "{'Cor': None, 'Classe': 'Mesoestrutura - Dispositivo', 'id': 14, 'Prazo': None, 'Natureza': 'Dispositivo', 'id_Natureza': 5}\n",
      "{'Cor': None, 'Classe': 'Corte de concreto armado com fio diamantado', 'id': 95, 'Prazo': None, 'Natureza': 'Superestrutura - Tabuleiros do Vão', 'id_Natureza': 32}\n",
      "{'Cor': None, 'Classe': 'CORPO DE BDTC D = 1,00 M PA2', 'id': 42, 'Prazo': None, 'Natureza': 'Obra de arte corrente', 'id_Natureza': 16}\n",
      "{'Cor': None, 'Classe': 'Alvenaria', 'id': 50, 'Prazo': None, 'Natureza': 'Paredes e Painéis', 'id_Natureza': 18}\n",
      "{'Cor': None, 'Classe': 'CORPO DE BSTC D = 1,00 M PA1', 'id': 46, 'Prazo': None, 'Natureza': 'Obra de arte corrente', 'id_Natureza': 16}\n",
      "{'Cor': None, 'Classe': 'Ancoragem de tirante de barra de aço de D = 32 mm com grauteamento da cabeça', 'id': 32, 'Prazo': None, 'Natureza': 'Infraestrutura e Mesoestrutura - Blocos, Pilares e Travessas', 'id_Natureza': 12}\n",
      "{'Cor': None, 'Classe': 'Agregados Miúdos', 'id': 104, 'Prazo': None, 'Natureza': 'Controle Tecnológico - Concretagem', 'id_Natureza': 34}\n",
      "{'Cor': None, 'Classe': 'Mesoestrutura - Diamante', 'id': 8, 'Prazo': None, 'Natureza': 'Diamante', 'id_Natureza': 4}\n",
      "CORPO DE BSCC  DE 2,0 X 2,0 M\n",
      "{'Cor': None, 'Classe': 'Hidráulica', 'id': 3, 'Prazo': None, 'Natureza': 'Acabamentos', 'id_Natureza': 1}\n",
      "{'Cor': None, 'Classe': 'Drenagem Superficial - Duplicação', 'id': 20, 'Prazo': None, 'Natureza': 'Drenagem Superficial', 'id_Natureza': 7}\n",
      "{'Cor': None, 'Classe': 'Imprimação com emulsão asfáltica', 'id': 56, 'Prazo': None, 'Natureza': 'Reciclagem da Estrutural', 'id_Natureza': 21}\n",
      "{'Cor': None, 'Classe': 'Tratamento Superficial Duplo - Reciclagem da Estrutural', 'id': 59, 'Prazo': None, 'Natureza': 'Reciclagem da Estrutural', 'id_Natureza': 21}\n",
      "{'Cor': None, 'Classe': 'Remanejamento das interferências', 'id': 86, 'Prazo': None, 'Natureza': 'Serviços Preliminares', 'id_Natureza': 30}\n",
      "{'Cor': None, 'Classe': 'Argamassa autoadensável para reparos e grouteamento', 'id': 31, 'Prazo': None, 'Natureza': 'Infraestrutura e Mesoestrutura - Aparelhos de Apoio', 'id_Natureza': 11}\n",
      "{'Cor': None, 'Classe': 'Fresagem contínua', 'id': 78, 'Prazo': None, 'Natureza': 'Reparo Superficial', 'id_Natureza': 27}\n",
      "{'Cor': None, 'Classe': 'Tratamento Superficial', 'id': 106, 'Prazo': None, 'Natureza': 'Controle Tecnológico - Pavimento Asfáltico', 'id_Natureza': 35}\n",
      "{'Cor': None, 'Classe': 'Concreto para bombeamento fck = 30 Mpa - Tabuleiros do vão', 'id': 93, 'Prazo': None, 'Natureza': 'Superestrutura - Tabuleiros do Vão', 'id_Natureza': 32}\n",
      "{'Cor': None, 'Classe': 'CORPO DE BSTC D = 1,20 M PA1', 'id': 47, 'Prazo': None, 'Natureza': 'Obra de arte corrente', 'id_Natureza': 16}\n",
      "{'Cor': None, 'Classe': 'Sinalização e Elementos de Proteção e Segurança - Duplicação', 'id': 89, 'Prazo': None, 'Natureza': 'Sinalização e Elementos de Proteção e Segurança', 'id_Natureza': 31}\n",
      "{'Cor': None, 'Classe': 'Agregados Graúdos', 'id': 103, 'Prazo': None, 'Natureza': 'Controle Tecnológico - Concretagem', 'id_Natureza': 34}\n",
      "{'Cor': None, 'Classe': 'Armação em aço CA-50', 'id': 92, 'Prazo': None, 'Natureza': 'Superestrutura - Tabuleiros do Vão', 'id_Natureza': 32}\n",
      "{'Cor': None, 'Classe': 'Contrapiso', 'id': 53, 'Prazo': None, 'Natureza': 'Pisos', 'id_Natureza': 20}\n",
      "{'Cor': None, 'Classe': 'Formas de compensado resinado 14 mm - Tabuleiros do vão', 'id': 96, 'Prazo': None, 'Natureza': 'Superestrutura - Tabuleiros do Vão', 'id_Natureza': 32}\n",
      "{'Cor': None, 'Classe': 'Armação em Aço', 'id': 63, 'Prazo': None, 'Natureza': 'Reforço da Fundação - Blocos, Pilares e Travessas', 'id_Natureza': 24}\n",
      "{'Cor': None, 'Classe': 'Pavimento - Diamante', 'id': 11, 'Prazo': None, 'Natureza': 'Diamante', 'id_Natureza': 4}\n",
      "{'Cor': None, 'Classe': 'CORPO DE BSTC D = 0,60 M PA1', 'id': 44, 'Prazo': None, 'Natureza': 'Obra de arte corrente', 'id_Natureza': 16}\n",
      "{'Cor': None, 'Classe': 'Imprimação com asfalto diluído', 'id': 72, 'Prazo': None, 'Natureza': 'Reparo Profundo', 'id_Natureza': 26}\n",
      "{'Cor': None, 'Classe': 'Execução de Concreto Asfáltico - Reparo superficial', 'id': 77, 'Prazo': None, 'Natureza': 'Reparo Superficial', 'id_Natureza': 27}\n",
      "{'Cor': None, 'Classe': 'Terraplenagem', 'id': 36, 'Prazo': None, 'Natureza': 'Movimentação de terra e Aterros', 'id_Natureza': 14}\n",
      "{'Cor': None, 'Classe': 'Paisagismo', 'id': 49, 'Prazo': None, 'Natureza': 'Paisagismo', 'id_Natureza': 17}\n",
      "{'Cor': None, 'Classe': 'Superestrutura - Dispositivo', 'id': 15, 'Prazo': None, 'Natureza': 'Dispositivo', 'id_Natureza': 5}\n",
      "{'Cor': None, 'Classe': 'Emulsões Asfálticas', 'id': 105, 'Prazo': None, 'Natureza': 'Controle Tecnológico - Pavimento Asfáltico', 'id_Natureza': 35}\n",
      "{'Cor': None, 'Classe': 'Movimento de terra - Diamante', 'id': 9, 'Prazo': None, 'Natureza': 'Diamante', 'id_Natureza': 4}\n",
      "{'Cor': None, 'Classe': 'Concretagem', 'id': 28, 'Prazo': None, 'Natureza': 'Fundações', 'id_Natureza': 10}\n",
      "{'Cor': None, 'Classe': 'Mistura Fresca e Endurecida', 'id': 109, 'Prazo': None, 'Natureza': 'Controle Tecnológico - Pavimento Asfáltico', 'id_Natureza': 35}\n",
      "{'Cor': None, 'Classe': 'Escavação e enrocamento em região de solo mole', 'id': 35, 'Prazo': None, 'Natureza': 'Movimentação de terra e Aterros', 'id_Natureza': 14}\n",
      "{'Cor': None, 'Classe': 'Infraestrutura - OAE Ponte', 'id': 37, 'Prazo': None, 'Natureza': 'OAE Ponte', 'id_Natureza': 15}\n",
      "{'Cor': None, 'Classe': 'Estaca raiz perfurada na solo com D = 41 cm', 'id': 68, 'Prazo': None, 'Natureza': 'Reforço da Fundação - Estacas', 'id_Natureza': 25}\n",
      "{'Cor': None, 'Classe': 'Concretagem de Pilares', 'id': 25, 'Prazo': None, 'Natureza': 'Estruturas', 'id_Natureza': 9}\n",
      "{'Cor': None, 'Classe': 'Microconcreto autoadensável para reparos e grauteamento - Tabuleiros dos encontros', 'id': 101, 'Prazo': None, 'Natureza': 'Superestrutura - Tabuleiros dos Encontros', 'id_Natureza': 33}\n",
      "{'Cor': None, 'Classe': 'Recuperação estrutural – Pista existente', 'id': 60, 'Prazo': None, 'Natureza': 'Recuperação estrutural – Pista existente', 'id_Natureza': 22}\n",
      "{'Cor': None, 'Classe': 'CORPO DE BSTC D = 0,80 M PA1', 'id': 45, 'Prazo': None, 'Natureza': 'Obra de arte corrente', 'id_Natureza': 16}\n",
      "{'Cor': None, 'Classe': 'Elétrica', 'id': 2, 'Prazo': None, 'Natureza': 'Acabamentos', 'id_Natureza': 1}\n",
      "{'Cor': None, 'Classe': 'Estaca raiz perfurada no rocha com D = 30,5 cm', 'id': 69, 'Prazo': None, 'Natureza': 'Reforço da Fundação - Estacas', 'id_Natureza': 25}\n",
      "{'Cor': None, 'Classe': 'Pavimento - Retorno', 'id': 83, 'Prazo': None, 'Natureza': 'Retorno', 'id_Natureza': 28}\n",
      "{'Cor': None, 'Classe': 'Reciclagem Estrutural - Pintura de Ligação', 'id': 58, 'Prazo': None, 'Natureza': 'Reciclagem da Estrutural', 'id_Natureza': 21}\n",
      "{'Cor': None, 'Classe': 'Execução de Concreto Asfáltico - Reciclagem da estrutural', 'id': 55, 'Prazo': None, 'Natureza': 'Reciclagem da Estrutural', 'id_Natureza': 21}\n",
      "{'Cor': None, 'Classe': 'Recuperação funcional – Pista existente', 'id': 61, 'Prazo': None, 'Natureza': 'Recuperação funcional – Pista existente', 'id_Natureza': 23}\n",
      "{'Cor': None, 'Classe': 'Drenagem Superficial - Pista Existente', 'id': 21, 'Prazo': None, 'Natureza': 'Drenagem Superficial', 'id_Natureza': 7}\n",
      "{'Cor': None, 'Classe': 'Cordoalha CP 190 RB D = 15,2 mm', 'id': 94, 'Prazo': None, 'Natureza': 'Superestrutura - Tabuleiros do Vão', 'id_Natureza': 32}\n",
      "{'Cor': None, 'Classe': 'Sinalização e EPS', 'id': 6, 'Prazo': None, 'Natureza': 'Acessibilidade', 'id_Natureza': 3}\n",
      "{'Cor': None, 'Classe': 'Ancoragem de tirante de barra de aço de D = 32 mm', 'id': 62, 'Prazo': None, 'Natureza': 'Reforço da Fundação - Blocos, Pilares e Travessas', 'id_Natureza': 24}\n",
      "{'Cor': None, 'Classe': 'Remoção mecanizada de revestimento asfáltico', 'id': 76, 'Prazo': None, 'Natureza': 'Reparo Profundo', 'id_Natureza': 26}\n",
      "{'Cor': None, 'Classe': 'Escavação', 'id': 29, 'Prazo': None, 'Natureza': 'Fundações', 'id_Natureza': 10}\n",
      "{'Cor': None, 'Classe': 'Pintura de Ligação - Reparo superficial', 'id': 80, 'Prazo': None, 'Natureza': 'Reparo Superficial', 'id_Natureza': 27}\n",
      "{'Cor': None, 'Classe': 'Pintura de Ligação - Reparo profundo', 'id': 73, 'Prazo': None, 'Natureza': 'Reparo Profundo', 'id_Natureza': 26}\n",
      "{'Cor': None, 'Classe': 'Corpo de Aterro', 'id': 110, 'Prazo': None, 'Natureza': 'Controle Tecnológico - Terraplanagem', 'id_Natureza': 36}\n",
      "{'Cor': None, 'Classe': 'Aparelho de apoio de neoprene fretado para estruturas moldadas no local - fornecimento e instalação', 'id': 30, 'Prazo': None, 'Natureza': 'Infraestrutura e Mesoestrutura - Aparelhos de Apoio', 'id_Natureza': 11}\n",
      "{'Cor': None, 'Classe': 'Superestrutura - OAE Ponte', 'id': 39, 'Prazo': None, 'Natureza': 'OAE Ponte', 'id_Natureza': 15}\n",
      "{'Cor': None, 'Classe': 'Mesoestrutura - OAE Ponte', 'id': 38, 'Prazo': None, 'Natureza': 'OAE Ponte', 'id_Natureza': 15}\n",
      "{'Cor': None, 'Classe': 'Base de solo-cimento', 'id': 22, 'Prazo': None, 'Natureza': 'Estrutura do Pavimento', 'id_Natureza': 8}\n",
      "{'Cor': None, 'Classe': 'Chapisco', 'id': 84, 'Prazo': None, 'Natureza': 'Revestimentos', 'id_Natureza': 29}\n",
      "{'Cor': None, 'Classe': 'Obras complementares - Diamante', 'id': 10, 'Prazo': None, 'Natureza': 'Diamante', 'id_Natureza': 4}\n",
      "{'Cor': None, 'Classe': 'Cimento', 'id': 108, 'Prazo': None, 'Natureza': 'Controle Tecnológico - Pavimento Asfáltico', 'id_Natureza': 35}\n",
      "{'Cor': None, 'Classe': 'Infraestrutura - Dispositivo', 'id': 13, 'Prazo': None, 'Natureza': 'Dispositivo', 'id_Natureza': 5}\n",
      "{'Cor': None, 'Classe': 'Remoção mecanizada de camada granular do pavimento', 'id': 75, 'Prazo': None, 'Natureza': 'Reparo Profundo', 'id_Natureza': 26}\n",
      "{'Cor': None, 'Classe': 'Sub-base de solo-cimento', 'id': 23, 'Prazo': None, 'Natureza': 'Estrutura do Pavimento', 'id_Natureza': 8}\n",
      "{'Cor': None, 'Classe': 'Concreto para bombeamento fck = 30 MPa - Reforço da fundação', 'id': 64, 'Prazo': None, 'Natureza': 'Reforço da Fundação - Blocos, Pilares e Travessas', 'id_Natureza': 24}\n",
      "{'Cor': None, 'Classe': 'CORPO DE BTTC D = 1,00 M PA2', 'id': 48, 'Prazo': None, 'Natureza': 'Obra de arte corrente', 'id_Natureza': 16}\n",
      "{'Cor': None, 'Classe': 'Formas de compensado resinado 14 mm - Tabuleiros dos encontros', 'id': 100, 'Prazo': None, 'Natureza': 'Superestrutura - Tabuleiros dos Encontros', 'id_Natureza': 33}\n",
      "{'Cor': None, 'Classe': 'CORPO DE BDTC D = 1,00 M PA1', 'id': 41, 'Prazo': None, 'Natureza': 'Obra de arte corrente', 'id_Natureza': 16}\n",
      "{'Cor': None, 'Classe': 'Microconcreto autoadensável para reparos e grauteamento - Tabuleiros do Vão', 'id': 97, 'Prazo': None, 'Natureza': 'Superestrutura - Tabuleiros do Vão', 'id_Natureza': 32}\n",
      "{'Cor': None, 'Classe': 'Argamassa para reparos e grouteamento', 'id': 98, 'Prazo': None, 'Natureza': 'Superestrutura - Tabuleiros dos Encontros', 'id_Natureza': 33}\n",
      "{'Cor': None, 'Classe': 'Serviços Preliminares', 'id': 87, 'Prazo': None, 'Natureza': 'Serviços Preliminares', 'id_Natureza': 30}\n",
      "{'Cor': None, 'Classe': 'Fresagem descontínua', 'id': 79, 'Prazo': None, 'Natureza': 'Reparo Superficial', 'id_Natureza': 27}\n",
      "{'Cor': None, 'Classe': 'Dreno de PVC D = 100 mm', 'id': 16, 'Prazo': None, 'Natureza': 'Drenagem', 'id_Natureza': 6}\n",
      "{'Cor': None, 'Classe': 'CORPO DE BDTC D = 0,80 M PA1', 'id': 40, 'Prazo': None, 'Natureza': 'Obra de arte corrente', 'id_Natureza': 16}\n",
      "{'Cor': None, 'Classe': 'Tirante permanente protendido de aço D = 32 mm - DYWIDAG 95/105', 'id': 33, 'Prazo': None, 'Natureza': 'Infraestrutura e Mesoestrutura - Blocos, Pilares e Travessas', 'id_Natureza': 12}\n",
      "{'Cor': None, 'Classe': 'Drenagem', 'id': 4, 'Prazo': None, 'Natureza': 'Acessibilidade', 'id_Natureza': 3}\n",
      "{'Cor': None, 'Classe': 'Armação de Bloco', 'id': 27, 'Prazo': None, 'Natureza': 'Fundações', 'id_Natureza': 10}\n",
      "{'Cor': None, 'Classe': 'Obras complementares - Retorno', 'id': 82, 'Prazo': None, 'Natureza': 'Retorno', 'id_Natureza': 28}\n",
      "{'Cor': None, 'Classe': 'Terraplenagem - Serviços preliminares', 'id': 88, 'Prazo': None, 'Natureza': 'Serviços Preliminares', 'id_Natureza': 30}\n",
      "{'Cor': None, 'Classe': 'Capa Selante', 'id': 54, 'Prazo': None, 'Natureza': 'Reciclagem da Estrutural', 'id_Natureza': 21}\n",
      "{'Cor': None, 'Classe': 'Tratamento de armadura de ferro em estrutura de concreto armado com Sika top 108 ou similar', 'id': 102, 'Prazo': None, 'Natureza': 'Superestrutura - Tabuleiros dos Encontros', 'id_Natureza': 33}\n",
      "{'Cor': None, 'Classe': 'Ancoragem ativa para 6 cordoalhas', 'id': 91, 'Prazo': None, 'Natureza': 'Superestrutura - Tabuleiros do Vão', 'id_Natureza': 32}\n",
      "{'Cor': None, 'Classe': 'Dreno longitudinal profundo para corte em solo', 'id': 18, 'Prazo': None, 'Natureza': 'Drenagem', 'id_Natureza': 6}\n",
      "{'Cor': None, 'Classe': 'Encaixes - Boca de saída para dreno sub-horizontal em material', 'id': 19, 'Prazo': None, 'Natureza': 'Drenagem', 'id_Natureza': 6}\n",
      "{'Cor': None, 'Classe': 'Emboço', 'id': 85, 'Prazo': None, 'Natureza': 'Revestimentos', 'id_Natureza': 29}\n",
      "{'Cor': None, 'Classe': 'Concreto para bombeamento fck = 30 Mpa - Tabuleiros dos encontros', 'id': 99, 'Prazo': None, 'Natureza': 'Superestrutura - Tabuleiros dos Encontros', 'id_Natureza': 33}\n",
      "{'Cor': None, 'Classe': 'Execução de Concreto Asfáltico - Reparo profundo', 'id': 71, 'Prazo': None, 'Natureza': 'Reparo Profundo', 'id_Natureza': 26}\n",
      "{'Cor': None, 'Classe': 'Tratamento superficial duplo', 'id': 52, 'Prazo': None, 'Natureza': 'Pavimentação - Duplicação', 'id_Natureza': 19}\n",
      "{'Cor': None, 'Classe': 'Dreno longitudinal de pavimento H = 1,00 m - com geocomposto drenante', 'id': 17, 'Prazo': None, 'Natureza': 'Drenagem', 'id_Natureza': 6}\n"
     ]
    }
   ],
   "source": [
    "for form in new_forms:\n",
    "    if form['displayName'] not in [a['Classe'] for a in values]:\n",
    "        print(form['displayName'])\n",
    "    else:\n",
    "        row = next(a for a in values if a['Classe'] == form['displayName'])"
   ]
  },
  {
   "cell_type": "code",
   "execution_count": 21,
   "metadata": {},
   "outputs": [
    {
     "name": "stdout",
     "output_type": "stream",
     "text": [
      "{'Cor': None, 'Classe': 'Dreno longitudinal de pavimento H = 1,00 m - com geocomposto drenante', 'id': 17, 'Prazo': None, 'Natureza': 'Drenagem', 'id_Natureza': 6}\n"
     ]
    }
   ],
   "source": [
    "row = next(a for a in values if a['Classe'] == form['displayName'])\n",
    "print(row)"
   ]
  },
  {
   "cell_type": "code",
   "execution_count": 22,
   "metadata": {},
   "outputs": [
    {
     "name": "stdout",
     "output_type": "stream",
     "text": [
      "{'Cor': None, 'Classe': 'Dreno longitudinal de pavimento H = 1,00 m - com geocomposto drenante', 'id': 17, 'Prazo': None, 'Natureza': 'Drenagem', 'id_Natureza': 6}\n"
     ]
    }
   ],
   "source": [
    "print(next(a for a in values if a['Classe'] == form['displayName']))"
   ]
  },
  {
   "cell_type": "code",
   "execution_count": null,
   "metadata": {},
   "outputs": [],
   "source": []
  }
 ],
 "metadata": {
  "kernelspec": {
   "display_name": "Django Shell-Plus",
   "language": "python",
   "name": "django_extensions"
  },
  "language_info": {
   "codemirror_mode": {
    "name": "ipython",
    "version": 3
   },
   "file_extension": ".py",
   "mimetype": "text/x-python",
   "name": "python",
   "nbconvert_exporter": "python",
   "pygments_lexer": "ipython3",
   "version": "3.7.9"
  }
 },
 "nbformat": 4,
 "nbformat_minor": 2
}
