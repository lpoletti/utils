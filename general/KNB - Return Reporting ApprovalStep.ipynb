{
 "cells": [
  {
   "cell_type": "code",
   "execution_count": 1,
   "metadata": {},
   "outputs": [
    {
     "name": "stdout",
     "output_type": "stream",
     "text": [
      "STAGE=PRODUCTION\r\n"
     ]
    }
   ],
   "source": [
    "!cat .env"
   ]
  },
  {
   "cell_type": "code",
   "execution_count": 1,
   "metadata": {},
   "outputs": [
    {
     "data": {
      "text/plain": [
       "<Reporting: [Construtora Castilho] Castilho-SINES-2023.00171 - 2023-11-16 19:27:33.311000+00:00>"
      ]
     },
     "execution_count": 1,
     "metadata": {},
     "output_type": "execute_result"
    }
   ],
   "source": [
    "job=Job.objects.get(uuid='dd0217a5-d2b8-4931-99b8-327af4284fdb')\n",
    "reps=list(Reporting.objects.filter(job=job).values_list('number',flat=True))\n",
    "reps\n",
    "Reporting.objects.get(uuid='ded9f3c2-59b8-4e4b-90c8-eed224cfce09')"
   ]
  },
  {
   "cell_type": "code",
   "execution_count": 1,
   "metadata": {},
   "outputs": [],
   "source": [
    "from tqdm.notebook import tqdm\n",
    "from helpers.histories import bulk_update_with_history"
   ]
  },
  {
   "cell_type": "code",
   "execution_count": 2,
   "metadata": {},
   "outputs": [],
   "source": [
    "company=Company.objects.get(name__exact='Arteris Via Paulista')\n",
    "numbers=['VPT-FDO-CL-2023.00472']"
   ]
  },
  {
   "cell_type": "code",
   "execution_count": 4,
   "metadata": {
    "scrolled": true
   },
   "outputs": [
    {
     "data": {
      "application/vnd.jupyter.widget-view+json": {
       "model_id": "9757e9ebcbce4dcea92a3172eaa61602",
       "version_major": 2,
       "version_minor": 0
      },
      "text/plain": [
       "  0%|          | 0/1 [00:00<?, ?it/s]"
      ]
     },
     "metadata": {},
     "output_type": "display_data"
    },
    {
     "name": "stdout",
     "output_type": "stream",
     "text": [
      "Searching KM on direction...\n",
      "Found KM on Road 63: SP-334\n",
      "[Arteris Via Paulista] VPT-FDO-CL-2023.00472 - 2023-12-15 14:19:13.175000+00:00 [Arteris Via Paulista]: Em Elaboração\n"
     ]
    }
   ],
   "source": [
    "reps = Reporting.objects.filter(company=company, number__in=numbers)\n",
    "new_step = ApprovalStep.objects.get(\n",
    "    approval_flow__company=company, \n",
    "    name=\"Em Elaboração\",\n",
    "    approval_flow__target_model=\"reportings.Reporting\"\n",
    ")\n",
    "user=User.objects.get(username=\"rlcs\")\n",
    "if reps.count() ==0:\n",
    "    print(\"Apontamento não encontrado\")\n",
    "for rep in tqdm(reps):\n",
    "    rep.approval_step = new_step\n",
    "    rep.editable = True\n",
    "    rep._history_user = user\n",
    "    rep.save()\n",
    "    print(rep, new_step)"
   ]
  },
  {
   "cell_type": "code",
   "execution_count": 16,
   "metadata": {},
   "outputs": [
    {
     "data": {
      "text/plain": [
       "0"
      ]
     },
     "execution_count": 16,
     "metadata": {},
     "output_type": "execute_result"
    }
   ],
   "source": [
    "user=User.objects.get(username=\"rlcs\")\n",
    "reps = Reporting.objects.filter(company__name=\"Arteris Fluminense - Conserva\", approval_step__name=\"Aguardando Aprovação\", editable=False)\n",
    "reps.count()"
   ]
  },
  {
   "cell_type": "code",
   "execution_count": 15,
   "metadata": {},
   "outputs": [
    {
     "name": "stdout",
     "output_type": "stream",
     "text": [
      "Searching KM on direction...\n",
      "Searching KM without direction...\n",
      "Found KM on Road 932: BR-101\n",
      "Searching KM on direction...\n",
      "Found KM on Road 932: BR-101\n",
      "Searching KM on direction...\n",
      "Searching KM without direction...\n",
      "Found KM on Road 932: BR-101\n",
      "Searching KM on direction...\n",
      "Searching KM without direction...\n",
      "Found KM on Road 932: BR-101\n",
      "Searching KM on direction...\n",
      "Searching KM without direction...\n",
      "Found KM on Road 932: BR-101\n",
      "Searching KM on direction...\n",
      "Searching KM without direction...\n",
      "Found KM on Road 932: BR-101\n",
      "Searching KM on direction...\n",
      "Found KM on Road 932: BR-101\n",
      "Searching KM on direction...\n",
      "Searching KM without direction...\n",
      "Found KM on Road 932: BR-101\n",
      "Searching KM on direction...\n",
      "Searching KM without direction...\n",
      "Found KM on Road 932: BR-101\n",
      "Searching KM on direction...\n",
      "Searching KM without direction...\n",
      "Found KM on Road 932: BR-101\n",
      "Searching KM on direction...\n",
      "Searching KM without direction...\n",
      "Found KM on Road 932: BR-101\n",
      "Searching KM on direction...\n",
      "Searching KM without direction...\n",
      "Found KM on Road 932: BR-101\n",
      "Searching KM on direction...\n",
      "Searching KM without direction...\n",
      "Found KM on Road 932: BR-101\n",
      "Searching KM on direction...\n",
      "Searching KM without direction...\n",
      "Found KM on Road 932: BR-101\n",
      "Searching KM on direction...\n",
      "Searching KM without direction...\n",
      "Found KM on Road 932: BR-101\n",
      "Searching KM on direction...\n",
      "Searching KM without direction...\n",
      "Found KM on Road 932: BR-101\n",
      "Searching KM on direction...\n",
      "Searching KM without direction...\n",
      "Found KM on Road 932: BR-101\n",
      "Searching KM on direction...\n",
      "Found KM on Road 932: BR-101\n",
      "Searching KM on direction...\n",
      "Found KM on Road 932: BR-101\n",
      "Searching KM on direction...\n",
      "Searching KM without direction...\n",
      "Found KM on Road 932: BR-101\n",
      "Searching KM on direction...\n",
      "Searching KM without direction...\n",
      "Found KM on Road 932: BR-101\n",
      "Searching KM on direction...\n",
      "Found KM on Road 932: BR-101\n",
      "Searching KM on direction...\n",
      "Found KM on Road 932: BR-101\n",
      "Searching KM on direction...\n",
      "Found KM on Road 932: BR-101\n",
      "Searching KM on direction...\n",
      "Found KM on Road 932: BR-101\n",
      "Searching KM on direction...\n",
      "Found KM on Road 932: BR-101\n",
      "Searching KM on direction...\n",
      "Found KM on Road 932: BR-101\n",
      "Searching KM on direction...\n",
      "Searching KM without direction...\n",
      "Found KM on Road 932: BR-101\n",
      "Searching KM on direction...\n",
      "Found KM on Road 932: BR-101\n",
      "Searching KM on direction...\n",
      "Searching KM without direction...\n",
      "Found KM on Road 932: BR-101\n",
      "Searching KM on direction...\n",
      "Searching KM without direction...\n",
      "Found KM on Road 932: BR-101\n",
      "Searching KM on direction...\n",
      "Searching KM without direction...\n",
      "Found KM on Road 932: BR-101\n",
      "Searching KM on direction...\n",
      "Searching KM without direction...\n",
      "Found KM on Road 932: BR-101\n",
      "Searching KM on direction...\n",
      "Searching KM without direction...\n",
      "Found KM on Road 932: BR-101\n",
      "Searching KM on direction...\n",
      "Searching KM without direction...\n",
      "Found KM on Road 932: BR-101\n",
      "Searching KM on direction...\n",
      "Found KM on Road 932: BR-101\n",
      "Searching KM on direction...\n",
      "Searching KM without direction...\n",
      "Found KM on Road 932: BR-101\n",
      "Searching KM on direction...\n",
      "Searching KM without direction...\n",
      "Found KM on Road 932: BR-101\n",
      "Searching KM on direction...\n",
      "Found KM on Road 932: BR-101\n",
      "Searching KM on direction...\n",
      "Found KM on Road 932: BR-101\n",
      "Searching KM on direction...\n",
      "Searching KM without direction...\n",
      "Found KM on Road 932: BR-101\n",
      "Searching KM on direction...\n",
      "Searching KM without direction...\n",
      "Found KM on Road 932: BR-101\n",
      "Searching KM on direction...\n",
      "Searching KM without direction...\n",
      "Found KM on Road 932: BR-101\n",
      "Searching KM on direction...\n",
      "Searching KM without direction...\n",
      "Found KM on Road 932: BR-101\n",
      "Searching KM on direction...\n",
      "Searching KM without direction...\n",
      "Found KM on Road 932: BR-101\n",
      "Searching KM on direction...\n",
      "Found KM on Road 932: BR-101\n",
      "Searching KM on direction...\n",
      "Found KM on Road 932: BR-101\n",
      "Searching KM on direction...\n",
      "Searching KM without direction...\n",
      "Found KM on Road 932: BR-101\n",
      "Searching KM on direction...\n",
      "Found KM on Road 932: BR-101\n",
      "Searching KM on direction...\n",
      "Found KM on Road 932: BR-101\n",
      "Searching KM on direction...\n",
      "Found KM on Road 932: BR-101\n",
      "Searching KM on direction...\n",
      "Found KM on Road 932: BR-101\n",
      "Searching KM on direction...\n",
      "Searching KM without direction...\n",
      "Found KM on Road 932: BR-101\n",
      "Searching KM on direction...\n",
      "Searching KM without direction...\n",
      "Found KM on Road 932: BR-101\n",
      "Searching KM on direction...\n",
      "Found KM on Road 932: BR-101\n",
      "Searching KM on direction...\n",
      "Found KM on Road 932: BR-101\n"
     ]
    }
   ],
   "source": [
    "for rep in reps:\n",
    "    rep.editable = True\n",
    "    rep._history_user = user\n",
    "    rep.save()"
   ]
  },
  {
   "cell_type": "code",
   "execution_count": 5,
   "metadata": {},
   "outputs": [
    {
     "data": {
      "text/plain": [
       "{'_state': <django.db.models.base.ModelState at 0x7f2c18d6e710>,\n",
       " 'uuid': UUID('de28cfb9-bd69-4b85-a7fc-1373e77ee64c'),\n",
       " 'name': 'Aguardando Aprovação',\n",
       " 'approval_flow_id': UUID('5aba270a-9c86-4f78-8c5b-9d726f5f9653'),\n",
       " 'field_options': {},\n",
       " 'responsible_created_by': False,\n",
       " 'responsible_supervisor': False,\n",
       " 'responsible_firm_entity': False,\n",
       " 'responsible_firm_manager': False,\n",
       " 'auto_execute_transition': False,\n",
       " 'responsible_json_logic': {},\n",
       " 'color': '#FF0000'}"
      ]
     },
     "execution_count": 5,
     "metadata": {},
     "output_type": "execute_result"
    }
   ],
   "source": [
    "aps = ApprovalStep.objects.filter(approval_flow__company=Company.objects.get(name=\"Arteris Fluminense - Conserva\"),approval_flow__target_model=\"reportings.Reporting\")\n",
    "aps[4].__dict__"
   ]
  },
  {
   "cell_type": "code",
   "execution_count": 22,
   "metadata": {},
   "outputs": [
    {
     "data": {
      "text/plain": [
       "{'_state': <django.db.models.base.ModelState at 0x7f2c18d69950>,\n",
       " 'uuid': UUID('fb8f0a14-ab6f-46a0-9772-a938c4850e86'),\n",
       " 'name': 'Solicitar Análise',\n",
       " 'origin_id': UUID('90c0d49d-f4a5-4c1e-b4b8-299f63b3694d'),\n",
       " 'destination_id': UUID('de28cfb9-bd69-4b85-a7fc-1373e77ee64c'),\n",
       " 'condition': {'===': [{'var': 'request.action'}, 'Solicitar Análise']},\n",
       " 'callback': {'change_fields': [{'name': 'editable', 'value': True}]},\n",
       " 'button': {'icon': 'assignment', 'color': 'primary', 'variant': 'raised'},\n",
       " 'order': ''}"
      ]
     },
     "execution_count": 22,
     "metadata": {},
     "output_type": "execute_result"
    }
   ],
   "source": [
    "ap=ApprovalTransition.objects.filter(\n",
    "    destination__name=\"Aguardando Aprovação\",\n",
    "    destination__approval_flow__company=Company.objects.get(name=\"Arteris Fluminense - Conserva\"),\n",
    "    destination__approval_flow__target_model=\"reportings.Reporting\"\n",
    ")\n",
    "ap[0].__dict__"
   ]
  },
  {
   "cell_type": "code",
   "execution_count": 11,
   "metadata": {},
   "outputs": [
    {
     "data": {
      "text/plain": [
       "{'_state': <django.db.models.base.ModelState at 0x7f2c1a599b90>,\n",
       " 'uuid': UUID('e620503b-fe40-47b9-835a-30ff94cefb6a'),\n",
       " 'name': 'Solicitar Análise',\n",
       " 'origin_id': UUID('81cf9ae7-6902-4b89-8235-f19820e0290f'),\n",
       " 'destination_id': UUID('de28cfb9-bd69-4b85-a7fc-1373e77ee64c'),\n",
       " 'condition': {'===': [{'var': 'request.action'}, 'Solicitar Análise']},\n",
       " 'callback': {'change_fields': [{'name': 'editable', 'value': False}]},\n",
       " 'button': {'icon': 'assignment', 'color': 'primary', 'variant': 'raised'},\n",
       " 'order': ''}"
      ]
     },
     "execution_count": 11,
     "metadata": {},
     "output_type": "execute_result"
    }
   ],
   "source": [
    "ap[1].__dict__"
   ]
  },
  {
   "cell_type": "code",
   "execution_count": 12,
   "metadata": {},
   "outputs": [],
   "source": [
    "for a in ap:\n",
    "    a.callback = {'change_fields': [{'name': 'editable', 'value': True}]}\n",
    "    a.save()"
   ]
  },
  {
   "cell_type": "markdown",
   "metadata": {},
   "source": [
    "# TROCAR STATUS RDO"
   ]
  },
  {
   "cell_type": "code",
   "execution_count": 2,
   "metadata": {},
   "outputs": [
    {
     "data": {
      "text/plain": [
       "2950"
      ]
     },
     "execution_count": 2,
     "metadata": {},
     "output_type": "execute_result"
    }
   ],
   "source": [
    "rdos = MultipleDailyReport.objects.filter(company=company)\n",
    "rdos.count()"
   ]
  },
  {
   "cell_type": "code",
   "execution_count": 4,
   "metadata": {},
   "outputs": [
    {
     "data": {
      "text/plain": [
       "<ApprovalStep: [Arteris Litoral Sul - Conserva]: RDO Aprovado>"
      ]
     },
     "execution_count": 4,
     "metadata": {},
     "output_type": "execute_result"
    }
   ],
   "source": [
    "rdos[0].approval_step"
   ]
  },
  {
   "cell_type": "code",
   "execution_count": 1,
   "metadata": {},
   "outputs": [],
   "source": [
    "rdos=['INT-RDO-2024.00139']"
   ]
  },
  {
   "cell_type": "code",
   "execution_count": 2,
   "metadata": {},
   "outputs": [],
   "source": [
    "company=Company.objects.get(name='Arteris Intervias')"
   ]
  },
  {
   "cell_type": "code",
   "execution_count": 3,
   "metadata": {},
   "outputs": [
    {
     "data": {
      "text/plain": [
       "(<ApprovalStep: [Arteris Intervias]: RDO Criado>, <User: rlcs - Kartado CS>)"
      ]
     },
     "execution_count": 3,
     "metadata": {},
     "output_type": "execute_result"
    }
   ],
   "source": [
    "new_step = ApprovalStep.objects.get(\n",
    "    approval_flow__company=company, \n",
    "    name=\"RDO Criado\",\n",
    "    approval_flow__target_model=\"daily_reports.MultipleDailyReport\"\n",
    ")\n",
    "user=User.objects.get(username=\"rlcs\")\n",
    "new_step,user"
   ]
  },
  {
   "cell_type": "code",
   "execution_count": 4,
   "metadata": {},
   "outputs": [
    {
     "data": {
      "application/vnd.jupyter.widget-view+json": {
       "model_id": "de556e4463c149f4860f7e678be5f91a",
       "version_major": 2,
       "version_minor": 0
      },
      "text/plain": [
       "  0%|          | 0/1 [00:00<?, ?it/s]"
      ]
     },
     "metadata": {},
     "output_type": "display_data"
    }
   ],
   "source": [
    "from tqdm.notebook import tqdm\n",
    "rdo_edit=[]\n",
    "for number in tqdm(rdos):\n",
    "    rdo=MultipleDailyReport.objects.get(company=company,number=number)\n",
    "    rdo.approval_step = new_step\n",
    "    rdo.editable = True\n",
    "#     rdo_edit.append(rdo)\n",
    "    rdo.save()"
   ]
  },
  {
   "cell_type": "code",
   "execution_count": 6,
   "metadata": {},
   "outputs": [],
   "source": [
    "rdo_alterado = bulk_update_with_history(rdo_edit,MultipleDailyReport, use_django_bulk=True,batch_size=400,user=user)"
   ]
  },
  {
   "cell_type": "code",
   "execution_count": 34,
   "metadata": {},
   "outputs": [
    {
     "data": {
      "text/plain": [
       "{'_state': <django.db.models.base.ModelState at 0x7f66ac7149d0>,\n",
       " 'uuid': UUID('59350e8b-5b5d-46bf-a6b9-fa249bfc6b2b'),\n",
       " 'company_id': UUID('52bf5f0c-7d75-4081-8616-06e0b43dee29'),\n",
       " 'date': datetime.date(2022, 11, 21),\n",
       " 'day_without_work': False,\n",
       " 'notes': None,\n",
       " 'number': 'ALS-RDO-2022.01086',\n",
       " 'use_reporting_resources': False,\n",
       " 'editable': True,\n",
       " 'approval_step_id': UUID('0585c43b-5fd3-4269-beb5-038f488bf27c'),\n",
       " 'morning_weather': 'SUNNY',\n",
       " 'afternoon_weather': 'SUNNY',\n",
       " 'night_weather': 'NA',\n",
       " 'morning_conditions': 'FEASIBLE',\n",
       " 'afternoon_conditions': 'FEASIBLE',\n",
       " 'night_conditions': 'NA',\n",
       " 'morning_start': datetime.time(7, 0),\n",
       " 'morning_end': datetime.time(12, 0),\n",
       " 'afternoon_start': datetime.time(13, 0),\n",
       " 'afternoon_end': datetime.time(17, 0),\n",
       " 'night_start': None,\n",
       " 'night_end': None,\n",
       " 'created_by_id': UUID('95a524be-2bff-42b2-9f31-2cc3ac1fec8d'),\n",
       " 'responsible_id': UUID('95a524be-2bff-42b2-9f31-2cc3ac1fec8d'),\n",
       " 'created_at': datetime.datetime(2022, 12, 9, 13, 29, 55, 194928, tzinfo=<UTC>),\n",
       " 'inspector_id': UUID('95a524be-2bff-42b2-9f31-2cc3ac1fec8d'),\n",
       " 'header_info': {},\n",
       " 'contract_id': None,\n",
       " 'firm_id': UUID('612f6438-72d9-4178-9224-6f6e24d5a04b')}"
      ]
     },
     "execution_count": 34,
     "metadata": {},
     "output_type": "execute_result"
    }
   ],
   "source": [
    "rdos[0].__dict__"
   ]
  },
  {
   "cell_type": "code",
   "execution_count": 7,
   "metadata": {},
   "outputs": [
    {
     "data": {
      "text/plain": [
       "<QuerySet [<ApprovalTransition: [Solicitar aprovação]: RDO Criado - RDO Aguardando Aprovação>, <ApprovalTransition: [Aprovar]: RDO Aguardando Aprovação - RDO Aprovado>]>"
      ]
     },
     "execution_count": 7,
     "metadata": {},
     "output_type": "execute_result"
    }
   ],
   "source": [
    "at=ApprovalTransition.objects.filter(\n",
    "    destination__approval_flow__company=Company.objects.get(name=\"Arteris Litoral Sul - Conserva\"),\n",
    "    destination__approval_flow__target_model=\"daily_reports.MultipleDailyReport\"\n",
    ")\n",
    "at"
   ]
  },
  {
   "cell_type": "code",
   "execution_count": 28,
   "metadata": {},
   "outputs": [
    {
     "name": "stdout",
     "output_type": "stream",
     "text": [
      "RDO Criado:\n",
      "\trlcs - Kartado CS\n",
      "\tmarina.carpes - Marina Carpes\n",
      "\tcesar.souza - Cesar Souza\n",
      "\tjoao.mingues - Joao Mingues\n",
      "RDO Aguardando Aprovação:\n",
      "\trlcs - Kartado CS\n",
      "\tmarina.carpes - Marina Carpes\n",
      "\tcesar.souza - Cesar Souza\n",
      "\tjoao.mingues - Joao Mingues\n",
      "\tcassio.conci - Cassio Conci\n",
      "\tallana.wendler - Allana Wendler\n",
      "\tpamela.constante - Pamela Constante\n",
      "\tbruna.freitas - Bruna Freitas\n",
      "\tcamila.junkes - Camila Junkes\n"
     ]
    }
   ],
   "source": [
    "\n",
    "for a in at:\n",
    "    print(a.origin.name+':')\n",
    "    for b in a.origin.responsible_users.all():\n",
    "        print(f'\\t{b}')"
   ]
  },
  {
   "cell_type": "code",
   "execution_count": 10,
   "metadata": {},
   "outputs": [
    {
     "data": {
      "text/plain": [
       "{'_state': <django.db.models.base.ModelState at 0x7f6704510210>,\n",
       " 'uuid': UUID('0585c43b-5fd3-4269-beb5-038f488bf27c'),\n",
       " 'name': 'RDO Criado',\n",
       " 'approval_flow_id': UUID('7eb4e07d-2a38-4c50-b5d3-d084ca686580'),\n",
       " 'field_options': {},\n",
       " 'responsible_created_by': True,\n",
       " 'responsible_supervisor': False,\n",
       " 'responsible_firm_entity': False,\n",
       " 'responsible_firm_manager': False,\n",
       " 'auto_execute_transition': False,\n",
       " 'responsible_json_logic': {},\n",
       " 'color': '#FF0000'}"
      ]
     },
     "execution_count": 10,
     "metadata": {},
     "output_type": "execute_result"
    }
   ],
   "source": [
    "at[0].origin.__dict__"
   ]
  },
  {
   "cell_type": "code",
   "execution_count": 33,
   "metadata": {},
   "outputs": [
    {
     "data": {
      "text/plain": [
       "<QuerySet [<User: camila.junkes - Camila Junkes>, <User: cassio.conci - Cassio Conci>, <User: pamela.constante - Pamela Constante>, <User: allana.wendler - Allana Wendler>, <User: bruna.freitas - Bruna Freitas>]>"
      ]
     },
     "execution_count": 33,
     "metadata": {},
     "output_type": "execute_result"
    }
   ],
   "source": [
    "users=User.objects.filter(username__in=['allana.wendler','pamela.constante','camila.junkes','cassio.conci','bruna.freitas'])\n",
    "users"
   ]
  },
  {
   "cell_type": "code",
   "execution_count": 31,
   "metadata": {},
   "outputs": [
    {
     "data": {
      "text/plain": [
       "<ApprovalStep: [Arteris Litoral Sul - Conserva]: RDO Criado>"
      ]
     },
     "execution_count": 31,
     "metadata": {},
     "output_type": "execute_result"
    }
   ],
   "source": [
    "ap = ApprovalStep.objects.get(uuid='0585c43b-5fd3-4269-beb5-038f488bf27c')\n",
    "ap"
   ]
  },
  {
   "cell_type": "code",
   "execution_count": 35,
   "metadata": {},
   "outputs": [],
   "source": [
    "for a in users:\n",
    "    ap.responsible_users.add(a)"
   ]
  },
  {
   "cell_type": "code",
   "execution_count": 40,
   "metadata": {},
   "outputs": [
    {
     "data": {
      "text/plain": [
       "{'_state': <django.db.models.base.ModelState at 0x7fa96e345ed0>,\n",
       " 'uuid': UUID('0585c43b-5fd3-4269-beb5-038f488bf27c'),\n",
       " 'name': 'RDO Criado',\n",
       " 'approval_flow_id': UUID('7eb4e07d-2a38-4c50-b5d3-d084ca686580'),\n",
       " 'field_options': {},\n",
       " 'responsible_created_by': True,\n",
       " 'responsible_supervisor': False,\n",
       " 'responsible_firm_entity': False,\n",
       " 'responsible_firm_manager': False,\n",
       " 'auto_execute_transition': False,\n",
       " 'responsible_json_logic': {},\n",
       " 'color': '#FF0000'}"
      ]
     },
     "execution_count": 40,
     "metadata": {},
     "output_type": "execute_result"
    }
   ],
   "source": [
    "ap.__dict__"
   ]
  },
  {
   "cell_type": "code",
   "execution_count": null,
   "metadata": {},
   "outputs": [],
   "source": []
  }
 ],
 "metadata": {
  "kernelspec": {
   "display_name": "Django Shell-Plus",
   "language": "python",
   "name": "django_extensions"
  },
  "language_info": {
   "codemirror_mode": {
    "name": "ipython",
    "version": 3
   },
   "file_extension": ".py",
   "mimetype": "text/x-python",
   "name": "python",
   "nbconvert_exporter": "python",
   "pygments_lexer": "ipython3",
   "version": "3.8.16"
  }
 },
 "nbformat": 4,
 "nbformat_minor": 2
}
