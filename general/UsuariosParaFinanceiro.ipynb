{
 "cells": [
  {
   "cell_type": "code",
   "execution_count": 2,
   "metadata": {},
   "outputs": [],
   "source": [
    "from collections import defaultdict\n",
    "from django.db.models.signals import *\n",
    "import pandas as pd\n",
    "from itertools import chain"
   ]
  },
  {
   "cell_type": "code",
   "execution_count": 3,
   "metadata": {},
   "outputs": [],
   "source": [
    "def permissoes_history_user(result_list):\n",
    "    permissoesUsuarios = {}\n",
    "    for a in result_list:\n",
    "        try:\n",
    "        #print(a.user.get_full_name())\n",
    "            if not permissoesUsuarios.get(a.user.get_full_name()):\n",
    "                permissoesUsuarios[a.user.get_full_name()] = {}\n",
    "\n",
    "            permissoesUsuarios[a.user.get_full_name()][a.history_date.month] = a.permissions.name\n",
    "        except:\n",
    "            pass\n",
    "    \n",
    "    usuariosAtivos = []\n",
    "    usuariosInativos = []\n",
    "    for nome, mes in permissoesUsuarios.items():\n",
    "        item = max(list(mes.keys()))\n",
    "        cargo_atual = mes[item]\n",
    "        if cargo_atual != 'Inativo':\n",
    "            usuariosAtivos.append(nome)\n",
    "        else:\n",
    "            usuariosInativos.append(nome)\n",
    "    \n",
    "    return usuariosAtivos,usuariosInativos"
   ]
  },
  {
   "cell_type": "code",
   "execution_count": 4,
   "metadata": {},
   "outputs": [],
   "source": [
    "companies = ['Modera', \n",
    "             'Sinalizavia (Municípios)', \n",
    "             'Afirma Engenharia Viária',\n",
    "             'Pavicolet (Amapá)',\n",
    "             'Pavicolet (Amazonas)', \n",
    "             'Sanson',\n",
    "             'Entrevias',\n",
    "             'Televale',\n",
    "             'Garcia Monteiro']"
   ]
  },
  {
   "cell_type": "code",
   "execution_count": 2,
   "metadata": {},
   "outputs": [],
   "source": [
    "# Modera, Sinalizavia (Municípios), Afirma Engenharia Viária,Pavicolet (Amapá),Pavicolet (Amazonas), Sanson,Entrevias,Televale,Garcia Monteiro"
   ]
  },
  {
   "cell_type": "code",
   "execution_count": 96,
   "metadata": {},
   "outputs": [],
   "source": [
    "company = 'Garcia Monteiro'"
   ]
  },
  {
   "cell_type": "code",
   "execution_count": 97,
   "metadata": {
    "scrolled": true
   },
   "outputs": [
    {
     "data": {
      "text/plain": [
       "30"
      ]
     },
     "execution_count": 97,
     "metadata": {},
     "output_type": "execute_result"
    }
   ],
   "source": [
    "historicoUsuarios=UserInCompany.history.model.objects.filter(company__name=company).exclude(user__email__icontains='kartado').exclude(user__email__icontains='roadlabs').exclude(user__uuid = '6ca2ac08-7ee0-4587-a0cf-8850f72e1b95').exclude(user__email__icontains='hermes').order_by( 'history_date')\n",
    "historicoUsuarios.count()"
   ]
  },
  {
   "cell_type": "markdown",
   "metadata": {},
   "source": [
    "# Executar no caso da Entrevias"
   ]
  },
  {
   "cell_type": "code",
   "execution_count": 2,
   "metadata": {},
   "outputs": [
    {
     "data": {
      "text/plain": [
       "11"
      ]
     },
     "execution_count": 2,
     "metadata": {},
     "output_type": "execute_result"
    }
   ],
   "source": [
    "# historicoUsuarios=UserInCompany.history.model.objects.filter( Q(user__email__icontains='afirma')|Q(user__email__icontains='ajr'), history_date__year= 2023,company__name=company).exclude(user__email__icontains='kartado').exclude(user__email__icontains='roadlabs').exclude(user__email__icontains='hermes').order_by( 'history_date')\n",
    "# historicoUsuarios.count()"
   ]
  },
  {
   "cell_type": "code",
   "execution_count": 73,
   "metadata": {},
   "outputs": [
    {
     "data": {
      "text/plain": [
       "25"
      ]
     },
     "execution_count": 73,
     "metadata": {},
     "output_type": "execute_result"
    }
   ],
   "source": [
    "# historicoUsuarios3=UserInCompany.history.model.objects.filter(company__name__icontains=company, history_date__year= 2022).exclude(user__email__icontains='kartado').exclude(user__email__icontains='roadlabs').exclude(user__uuid = '6ca2ac08-7ee0-4587-a0cf-8850f72e1b95').exclude(user__email__icontains='hermes').order_by( 'history_date')\n",
    "historicoUsuarios=UserInCompany.history.model.objects.filter(Q(user__email__icontains='afirma')|Q(user__email__icontains='ajr'),company__name__icontains=company).exclude(user__email__icontains='kartado').exclude(user__email__icontains='roadlabs').exclude(user__uuid = '6ca2ac08-7ee0-4587-a0cf-8850f72e1b95').exclude(user__email__icontains='hermes').order_by( 'history_date')\n",
    "historicoUsuarios.count()"
   ]
  },
  {
   "cell_type": "code",
   "execution_count": 98,
   "metadata": {},
   "outputs": [],
   "source": [
    "result_list = historicoUsuarios"
   ]
  },
  {
   "cell_type": "code",
   "execution_count": 99,
   "metadata": {},
   "outputs": [
    {
     "data": {
      "text/plain": [
       "30"
      ]
     },
     "execution_count": 99,
     "metadata": {},
     "output_type": "execute_result"
    }
   ],
   "source": [
    "len(result_list)"
   ]
  },
  {
   "cell_type": "code",
   "execution_count": 5,
   "metadata": {},
   "outputs": [],
   "source": [
    "pd.DataFrame().to_excel('Usuários Ativos Financeiro.xlsx')"
   ]
  },
  {
   "cell_type": "code",
   "execution_count": 11,
   "metadata": {},
   "outputs": [],
   "source": [
    "for company in companies:\n",
    "    if company is not 'Entrevias':\n",
    "        historicoUsuarios=UserInCompany.history.model.objects.filter(\n",
    "            company__name=company\n",
    "        ).exclude(\n",
    "            user__email__icontains='kartado'\n",
    "        ).exclude(\n",
    "            user__email__icontains='roadlabs'\n",
    "        ).exclude(\n",
    "            user__uuid = '6ca2ac08-7ee0-4587-a0cf-8850f72e1b95'\n",
    "        ).exclude(\n",
    "            user__email__icontains='hermes'\n",
    "        ).order_by( 'history_date')\n",
    "    else:\n",
    "        historicoUsuarios=UserInCompany.history.model.objects.filter(\n",
    "            Q(user__email__icontains='afirma')|Q(user__email__icontains='ajr'),\n",
    "            company__name__icontains=company\n",
    "        ).exclude(\n",
    "            user__email__icontains='kartado'\n",
    "        ).exclude(\n",
    "            user__email__icontains='roadlabs'\n",
    "        ).exclude(\n",
    "            user__uuid = '6ca2ac08-7ee0-4587-a0cf-8850f72e1b95'\n",
    "        ).exclude(\n",
    "            user__email__icontains='hermes'\n",
    "        ).order_by( 'history_date')\n",
    "    \n",
    "    users_permissions = permissoes_history_user(historicoUsuarios)[0] if len(permissoes_history_user(historicoUsuarios)[0]) > 0 else 0\n",
    "    \n",
    "    if users_permissions != 0:\n",
    "        df2 = pd.DataFrame(data=users_permissions,columns=['Usuários ativos'])\n",
    "        with pd.ExcelWriter('Usuários Ativos Financeiro.xlsx', mode='a',if_sheet_exists='replace') as writer:\n",
    "            df2.to_excel(writer,sheet_name=company,na_rep=\"-\")"
   ]
  },
  {
   "cell_type": "code",
   "execution_count": 9,
   "metadata": {},
   "outputs": [],
   "source": [
    "df3 = pd.DataFrame(data=users_permissions)"
   ]
  },
  {
   "cell_type": "code",
   "execution_count": 10,
   "metadata": {},
   "outputs": [
    {
     "data": {
      "text/html": [
       "<div>\n",
       "<style scoped>\n",
       "    .dataframe tbody tr th:only-of-type {\n",
       "        vertical-align: middle;\n",
       "    }\n",
       "\n",
       "    .dataframe tbody tr th {\n",
       "        vertical-align: top;\n",
       "    }\n",
       "\n",
       "    .dataframe thead th {\n",
       "        text-align: right;\n",
       "    }\n",
       "</style>\n",
       "<table border=\"1\" class=\"dataframe\">\n",
       "  <thead>\n",
       "    <tr style=\"text-align: right;\">\n",
       "      <th></th>\n",
       "      <th>0</th>\n",
       "    </tr>\n",
       "  </thead>\n",
       "  <tbody>\n",
       "    <tr>\n",
       "      <th>0</th>\n",
       "      <td>Lucas Ferreira</td>\n",
       "    </tr>\n",
       "    <tr>\n",
       "      <th>1</th>\n",
       "      <td>Antonio Estevam</td>\n",
       "    </tr>\n",
       "    <tr>\n",
       "      <th>2</th>\n",
       "      <td>Bruno Allencastro</td>\n",
       "    </tr>\n",
       "    <tr>\n",
       "      <th>3</th>\n",
       "      <td>Jhonata Rodrigues</td>\n",
       "    </tr>\n",
       "    <tr>\n",
       "      <th>4</th>\n",
       "      <td>José Carlos Oliveira</td>\n",
       "    </tr>\n",
       "    <tr>\n",
       "      <th>5</th>\n",
       "      <td>Alessandro Palhares</td>\n",
       "    </tr>\n",
       "    <tr>\n",
       "      <th>6</th>\n",
       "      <td>Carlos Erbella</td>\n",
       "    </tr>\n",
       "  </tbody>\n",
       "</table>\n",
       "</div>"
      ],
      "text/plain": [
       "                      0\n",
       "0        Lucas Ferreira\n",
       "1       Antonio Estevam\n",
       "2     Bruno Allencastro\n",
       "3     Jhonata Rodrigues\n",
       "4  José Carlos Oliveira\n",
       "5   Alessandro Palhares\n",
       "6        Carlos Erbella"
      ]
     },
     "execution_count": 10,
     "metadata": {},
     "output_type": "execute_result"
    }
   ],
   "source": [
    "df3"
   ]
  },
  {
   "cell_type": "code",
   "execution_count": 114,
   "metadata": {},
   "outputs": [
    {
     "name": "stdout",
     "output_type": "stream",
     "text": [
      "Lia Pimentel\n",
      "Gustavo Pizzo\n",
      "André Reis\n",
      "Thiago Oliveira\n",
      "Bruno Fonseca\n",
      "Vinicius Bessa\n",
      "José Rafael Tavares\n",
      "Eudes Teles de Souza\n",
      "Samuel Viana dos Santos\n",
      "Denis Alves Silva\n",
      "Marcos Cipriano\n",
      "Anderson Adauto\n",
      "Jessé Campos da Silva\n"
     ]
    }
   ],
   "source": [
    "for a in permissoes_history_user(result_list)[0]:\n",
    "    print(a)"
   ]
  },
  {
   "cell_type": "code",
   "execution_count": 100,
   "metadata": {},
   "outputs": [],
   "source": [
    "permissoesUsuarios = {}\n",
    "for a in result_list:\n",
    "    try:\n",
    "    #print(a.user.get_full_name())\n",
    "        if not permissoesUsuarios.get(a.user.get_full_name()):\n",
    "            permissoesUsuarios[a.user.get_full_name()] = {}\n",
    "    \n",
    "        permissoesUsuarios[a.user.get_full_name()][a.history_date.month] = a.permissions.name\n",
    "    except:\n",
    "        pass"
   ]
  },
  {
   "cell_type": "code",
   "execution_count": 101,
   "metadata": {},
   "outputs": [
    {
     "data": {
      "text/plain": [
       "{'Lia Pimentel': {11: 'Usuário de controle', 4: 'Inativo'},\n",
       " 'Gustavo Pizzo': {11: 'Usuário de controle'},\n",
       " 'André Reis': {11: 'Usuário de controle'},\n",
       " 'Thiago Oliveira': {11: 'Usuário de controle', 6: 'Usuário de campo'},\n",
       " 'Bruno Fonseca': {11: 'Usuário de controle'},\n",
       " 'Vinicius Bessa': {11: 'Usuário de controle', 4: 'Inativo'},\n",
       " 'José Rafael Tavares': {1: 'Usuário de campo',\n",
       "  2: 'Usuário de campo',\n",
       "  4: 'Inativo',\n",
       "  7: 'Usuário de campo'},\n",
       " 'Eudes Teles de Souza': {4: 'Usuário de campo'},\n",
       " 'Samuel Viana dos Santos': {4: 'Usuário de controle', 6: 'Usuário de campo'},\n",
       " 'Denis Alves Silva': {4: 'Usuário de controle', 6: 'Usuário de campo'},\n",
       " 'Everton Willian De Carvalho': {4: 'Usuário de controle', 6: 'Inativo'},\n",
       " 'Welson Silva': {5: 'Usuário de campo', 6: 'Inativo'},\n",
       " 'Marcos Cipriano': {5: 'Usuário de controle', 6: 'Usuário de campo'},\n",
       " 'Anderson Adauto': {6: 'Usuário de campo'},\n",
       " 'Jessé Campos da Silva': {6: 'Usuário de campo'}}"
      ]
     },
     "execution_count": 101,
     "metadata": {},
     "output_type": "execute_result"
    }
   ],
   "source": [
    "permissoesUsuarios"
   ]
  },
  {
   "cell_type": "code",
   "execution_count": 102,
   "metadata": {},
   "outputs": [
    {
     "data": {
      "text/plain": [
       "{1: {'José Rafael Tavares'},\n",
       " 2: {'José Rafael Tavares'},\n",
       " 3: {'José Rafael Tavares'},\n",
       " 4: {'José Rafael Tavares'},\n",
       " 5: {'José Rafael Tavares'},\n",
       " 6: {'José Rafael Tavares'},\n",
       " 7: {'José Rafael Tavares'},\n",
       " 8: {'José Rafael Tavares'},\n",
       " 9: {'José Rafael Tavares'},\n",
       " 10: {'José Rafael Tavares'},\n",
       " 11: {'André Reis',\n",
       "  'Bruno Fonseca',\n",
       "  'Gustavo Pizzo',\n",
       "  'José Rafael Tavares',\n",
       "  'Lia Pimentel',\n",
       "  'Thiago Oliveira',\n",
       "  'Vinicius Bessa'}}"
      ]
     },
     "execution_count": 102,
     "metadata": {},
     "output_type": "execute_result"
    }
   ],
   "source": [
    "users={}\n",
    "for mes in range(1,12):\n",
    "    try:\n",
    "        for a in result_list:\n",
    "            if a.history_date.month <= mes:\n",
    "                if not users.get(mes):\n",
    "                    users[mes] = set()\n",
    "                users[mes].add(a.user.get_full_name())\n",
    "    except:\n",
    "        pass\n",
    "users"
   ]
  },
  {
   "cell_type": "code",
   "execution_count": 103,
   "metadata": {
    "scrolled": true
   },
   "outputs": [],
   "source": [
    "usuariosAtivos = []\n",
    "usuariosInativos = []\n",
    "for nome, mes in permissoesUsuarios.items():\n",
    "    item = max(list(mes.keys()))\n",
    "    cargo_atual = mes[item]\n",
    "    if cargo_atual != 'Inativo':\n",
    "        usuariosAtivos.append(nome)\n",
    "    else:\n",
    "        usuariosInativos.append(nome)\n"
   ]
  },
  {
   "cell_type": "code",
   "execution_count": 104,
   "metadata": {},
   "outputs": [
    {
     "data": {
      "text/plain": [
       "(['Lia Pimentel',\n",
       "  'Gustavo Pizzo',\n",
       "  'André Reis',\n",
       "  'Thiago Oliveira',\n",
       "  'Bruno Fonseca',\n",
       "  'Vinicius Bessa',\n",
       "  'José Rafael Tavares',\n",
       "  'Eudes Teles de Souza',\n",
       "  'Samuel Viana dos Santos',\n",
       "  'Denis Alves Silva',\n",
       "  'Marcos Cipriano',\n",
       "  'Anderson Adauto',\n",
       "  'Jessé Campos da Silva'],\n",
       " ['Everton Willian De Carvalho', 'Welson Silva'])"
      ]
     },
     "execution_count": 104,
     "metadata": {},
     "output_type": "execute_result"
    }
   ],
   "source": [
    "usuariosAtivos,usuariosInativos"
   ]
  },
  {
   "cell_type": "code",
   "execution_count": 105,
   "metadata": {},
   "outputs": [
    {
     "name": "stdout",
     "output_type": "stream",
     "text": [
      "Lia Pimentel\n",
      "Gustavo Pizzo\n",
      "André Reis\n",
      "Thiago Oliveira\n",
      "Bruno Fonseca\n",
      "Vinicius Bessa\n",
      "José Rafael Tavares\n",
      "Eudes Teles de Souza\n",
      "Samuel Viana dos Santos\n",
      "Denis Alves Silva\n",
      "Marcos Cipriano\n",
      "Anderson Adauto\n",
      "Jessé Campos da Silva\n"
     ]
    }
   ],
   "source": [
    "for i in usuariosAtivos:\n",
    "    print(i)"
   ]
  },
  {
   "cell_type": "code",
   "execution_count": 106,
   "metadata": {},
   "outputs": [],
   "source": [
    "df = pd.DataFrame(usuariosAtivos)"
   ]
  },
  {
   "cell_type": "code",
   "execution_count": 107,
   "metadata": {},
   "outputs": [
    {
     "data": {
      "text/html": [
       "<div>\n",
       "<style scoped>\n",
       "    .dataframe tbody tr th:only-of-type {\n",
       "        vertical-align: middle;\n",
       "    }\n",
       "\n",
       "    .dataframe tbody tr th {\n",
       "        vertical-align: top;\n",
       "    }\n",
       "\n",
       "    .dataframe thead th {\n",
       "        text-align: right;\n",
       "    }\n",
       "</style>\n",
       "<table border=\"1\" class=\"dataframe\">\n",
       "  <thead>\n",
       "    <tr style=\"text-align: right;\">\n",
       "      <th></th>\n",
       "      <th>0</th>\n",
       "    </tr>\n",
       "  </thead>\n",
       "  <tbody>\n",
       "    <tr>\n",
       "      <th>0</th>\n",
       "      <td>Lia Pimentel</td>\n",
       "    </tr>\n",
       "    <tr>\n",
       "      <th>1</th>\n",
       "      <td>Gustavo Pizzo</td>\n",
       "    </tr>\n",
       "    <tr>\n",
       "      <th>2</th>\n",
       "      <td>André Reis</td>\n",
       "    </tr>\n",
       "    <tr>\n",
       "      <th>3</th>\n",
       "      <td>Thiago Oliveira</td>\n",
       "    </tr>\n",
       "    <tr>\n",
       "      <th>4</th>\n",
       "      <td>Bruno Fonseca</td>\n",
       "    </tr>\n",
       "    <tr>\n",
       "      <th>5</th>\n",
       "      <td>Vinicius Bessa</td>\n",
       "    </tr>\n",
       "    <tr>\n",
       "      <th>6</th>\n",
       "      <td>José Rafael Tavares</td>\n",
       "    </tr>\n",
       "    <tr>\n",
       "      <th>7</th>\n",
       "      <td>Eudes Teles de Souza</td>\n",
       "    </tr>\n",
       "    <tr>\n",
       "      <th>8</th>\n",
       "      <td>Samuel Viana dos Santos</td>\n",
       "    </tr>\n",
       "    <tr>\n",
       "      <th>9</th>\n",
       "      <td>Denis Alves Silva</td>\n",
       "    </tr>\n",
       "    <tr>\n",
       "      <th>10</th>\n",
       "      <td>Marcos Cipriano</td>\n",
       "    </tr>\n",
       "    <tr>\n",
       "      <th>11</th>\n",
       "      <td>Anderson Adauto</td>\n",
       "    </tr>\n",
       "    <tr>\n",
       "      <th>12</th>\n",
       "      <td>Jessé Campos da Silva</td>\n",
       "    </tr>\n",
       "  </tbody>\n",
       "</table>\n",
       "</div>"
      ],
      "text/plain": [
       "                          0\n",
       "0              Lia Pimentel\n",
       "1             Gustavo Pizzo\n",
       "2                André Reis\n",
       "3           Thiago Oliveira\n",
       "4             Bruno Fonseca\n",
       "5            Vinicius Bessa\n",
       "6       José Rafael Tavares\n",
       "7      Eudes Teles de Souza\n",
       "8   Samuel Viana dos Santos\n",
       "9         Denis Alves Silva\n",
       "10          Marcos Cipriano\n",
       "11          Anderson Adauto\n",
       "12    Jessé Campos da Silva"
      ]
     },
     "execution_count": 107,
     "metadata": {},
     "output_type": "execute_result"
    }
   ],
   "source": [
    "df"
   ]
  },
  {
   "cell_type": "code",
   "execution_count": null,
   "metadata": {},
   "outputs": [],
   "source": []
  },
  {
   "cell_type": "code",
   "execution_count": null,
   "metadata": {},
   "outputs": [],
   "source": []
  }
 ],
 "metadata": {
  "kernelspec": {
   "display_name": "Django Shell-Plus",
   "language": "python",
   "name": "django_extensions"
  },
  "language_info": {
   "codemirror_mode": {
    "name": "ipython",
    "version": 3
   },
   "file_extension": ".py",
   "mimetype": "text/x-python",
   "name": "python",
   "nbconvert_exporter": "python",
   "pygments_lexer": "ipython3",
   "version": "3.7.9"
  }
 },
 "nbformat": 4,
 "nbformat_minor": 2
}
