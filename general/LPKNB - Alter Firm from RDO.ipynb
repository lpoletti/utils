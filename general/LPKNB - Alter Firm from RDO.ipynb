{
 "cells": [
  {
   "cell_type": "markdown",
   "id": "20d29fb5",
   "metadata": {},
   "source": [
    "# Verificar se há rdo pra aquela equipe no dia, se não alterar para equipe informada"
   ]
  },
  {
   "cell_type": "code",
   "execution_count": 11,
   "id": "168bb168",
   "metadata": {},
   "outputs": [],
   "source": [
    "company=Company.objects.get(name='Arteris Fernão Dias - Conserva')"
   ]
  },
  {
   "cell_type": "code",
   "execution_count": 5,
   "id": "7ced1ceb",
   "metadata": {},
   "outputs": [],
   "source": [
    "# RDOs para alteração\n",
    "mdrs = MultipleDailyReport.objects.filter(number__in=['AFD-RDO-2023.01954',\n",
    "'AFD-RDO-2023.01663',\n",
    "'AFD-RDO-2023.01928',\n",
    "'AFD-RDO-2023.01649'\n",
    "])"
   ]
  },
  {
   "cell_type": "code",
   "execution_count": 9,
   "id": "021b3483",
   "metadata": {},
   "outputs": [],
   "source": [
    "firm= ['Roçada 03 - Lote 02']"
   ]
  },
  {
   "cell_type": "code",
   "execution_count": 4,
   "id": "07978dff",
   "metadata": {},
   "outputs": [
    {
     "data": {
      "text/plain": [
       "<QuerySet []>"
      ]
     },
     "execution_count": 4,
     "metadata": {},
     "output_type": "execute_result"
    }
   ],
   "source": [
    "Firm.objects.first().firm_multiple_daily_report.all()"
   ]
  },
  {
   "cell_type": "code",
   "execution_count": 15,
   "id": "b3d3f4a4",
   "metadata": {},
   "outputs": [
    {
     "name": "stdout",
     "output_type": "stream",
     "text": [
      "Já existe RDO(AFD-RDO-2023.01649) para equipe Roçada 03 - Lote 02\n",
      "Já existe RDO(AFD-RDO-2023.01649) para equipe Roçada 03 - Lote 02\n",
      "Já existe RDO(AFD-RDO-2023.01649) para equipe Roçada 03 - Lote 02\n",
      "Já existe RDO(AFD-RDO-2023.01649) para equipe Roçada 03 - Lote 02\n"
     ]
    }
   ],
   "source": [
    "for rdo in mdrs:\n",
    "    equipe = Firm.objects.get(name=firm[0])\n",
    "    rdo_equipe = equipe.firm_multiple_daily_report.filter(date=rdo.date)\n",
    "    try:\n",
    "        if rdo_equipe.exists():\n",
    "            print(f'Já existe RDO({rdo_equipe.first().number}) para equipe {equipe.name}')\n",
    "        else:\n",
    "            rdo.firm = equipe\n",
    "#             rdo.save()\n",
    "    except Exception as e:\n",
    "        print('Deu erro: ', rdo.number, e)"
   ]
  },
  {
   "cell_type": "code",
   "execution_count": null,
   "id": "1a9515ae",
   "metadata": {},
   "outputs": [],
   "source": []
  }
 ],
 "metadata": {
  "kernelspec": {
   "display_name": "Django Shell-Plus",
   "language": "python",
   "name": "django_extensions"
  },
  "language_info": {
   "codemirror_mode": {
    "name": "ipython",
    "version": 3
   },
   "file_extension": ".py",
   "mimetype": "text/x-python",
   "name": "python",
   "nbconvert_exporter": "python",
   "pygments_lexer": "ipython3",
   "version": "3.8.16"
  }
 },
 "nbformat": 4,
 "nbformat_minor": 5
}
