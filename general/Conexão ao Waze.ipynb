{
 "cells": [
  {
   "cell_type": "markdown",
   "id": "d7a9abc0",
   "metadata": {},
   "source": [
    "# 1º attempt"
   ]
  },
  {
   "cell_type": "code",
   "execution_count": null,
   "id": "5f3109e3",
   "metadata": {},
   "outputs": [],
   "source": [
    "import requests\n",
    "\n",
    "# Replace this with your API key\n",
    "api_key = \"YOUR_API_KEY\"\n",
    "\n",
    "# Replace this with the latitude and longitude of the location you want to get traffic data for\n",
    "latitude = 37.7749\n",
    "longitude = -122.4194\n",
    "\n",
    "# Make a request to the Waze API\n",
    "response = requests.get(\"https://api.waze.com/row-live-traffic/v1/traffic/live?apiKey={}&latLong={},{},1\".format(api_key, latitude, longitude))\n",
    "\n",
    "# Parse the JSON response\n",
    "data = response.json()"
   ]
  },
  {
   "cell_type": "markdown",
   "id": "cd4be9ca",
   "metadata": {},
   "source": [
    "# 2º attempt"
   ]
  },
  {
   "cell_type": "code",
   "execution_count": null,
   "id": "1e3e252a",
   "metadata": {},
   "outputs": [],
   "source": [
    "import requests\n",
    "\n",
    "# Replace 'YOUR_API_KEY' with your actual Waze API key\n",
    "API_KEY = 'YOUR_API_KEY'\n",
    "\n",
    "# Specify the road ID or location coordinates for the road you are interested in\n",
    "road_id = 'YOUR_ROAD_ID'\n",
    "\n",
    "# Construct the URL for the Waze API endpoint to retrieve alerts data for the specified road\n",
    "url = f'https://www.waze.com/row-RoutingManager/routingRequest?from=x%3A{road_id}%20y%3A0&to=x%3A{road_id}%20y%3A0&at=0&returnJSON=true&returnGeometries=true&returnInstructions=true&timeout=60000&nPaths=1&options=AVOID_TRAILS%3At'\n",
    "\n",
    "# Make a GET request to the Waze API endpoint with the API key in the headers\n",
    "response = requests.get(url, headers={'Authorization': f'Bearer {API_KEY}'})\n",
    "\n",
    "# Check if the request was successful\n",
    "if response.status_code == 200:\n",
    "    data = response.json()\n",
    "    alerts = data.get('alerts', [])\n",
    "    \n",
    "    # Process the alerts data for the specified road\n",
    "    for alert in alerts:\n",
    "        print(alert)\n",
    "else:\n",
    "    print('Failed to retrieve alerts data. Status code:', response.status_code)"
   ]
  },
  {
   "cell_type": "code",
   "execution_count": 1,
   "id": "9893a292",
   "metadata": {},
   "outputs": [],
   "source": [
    "from pygments import highlight\n",
    "from pygments.formatters import TerminalFormatter\n",
    "from pygments.lexers import PostgresLexer\n",
    "from sqlparse import format\n",
    "from django.db.models import QuerySet\n",
    "\n",
    "\n",
    "def print_sql(queryset: QuerySet):\n",
    "    formatted = format(str(queryset.query), reindent=True)\n",
    "    print(highlight(formatted, PostgresLexer(), TerminalFormatter()))"
   ]
  },
  {
   "cell_type": "code",
   "execution_count": 2,
   "id": "6f8f22a8",
   "metadata": {},
   "outputs": [
    {
     "name": "stdout",
     "output_type": "stream",
     "text": [
      "\u001b[34mSELECT\u001b[39;49;00m\u001b[37m \u001b[39;49;00m\u001b[33m\"\u001b[39;49;00m\u001b[33mreportings_reporting\u001b[39;49;00m\u001b[33m\"\u001b[39;49;00m\u001b[34m.\u001b[39;49;00m\u001b[33m\"\u001b[39;49;00m\u001b[33muuid\u001b[39;49;00m\u001b[33m\"\u001b[39;49;00m,\u001b[37m\u001b[39;49;00m\n",
      "\u001b[37m       \u001b[39;49;00m\u001b[33m\"\u001b[39;49;00m\u001b[33mreportings_reporting\u001b[39;49;00m\u001b[33m\"\u001b[39;49;00m\u001b[34m.\u001b[39;49;00m\u001b[33m\"\u001b[39;49;00m\u001b[33mnumber\u001b[39;49;00m\u001b[33m\"\u001b[39;49;00m,\u001b[37m\u001b[39;49;00m\n",
      "\u001b[37m       \u001b[39;49;00m\u001b[33m\"\u001b[39;49;00m\u001b[33mreportings_reporting\u001b[39;49;00m\u001b[33m\"\u001b[39;49;00m\u001b[34m.\u001b[39;49;00m\u001b[33m\"\u001b[39;49;00m\u001b[33mcompany_id\u001b[39;49;00m\u001b[33m\"\u001b[39;49;00m,\u001b[37m\u001b[39;49;00m\n",
      "\u001b[37m       \u001b[39;49;00m\u001b[33m\"\u001b[39;49;00m\u001b[33mreportings_reporting\u001b[39;49;00m\u001b[33m\"\u001b[39;49;00m\u001b[34m.\u001b[39;49;00m\u001b[33m\"\u001b[39;49;00m\u001b[33mroad_name\u001b[39;49;00m\u001b[33m\"\u001b[39;49;00m,\u001b[37m\u001b[39;49;00m\n",
      "\u001b[37m       \u001b[39;49;00m\u001b[33m\"\u001b[39;49;00m\u001b[33mreportings_reporting\u001b[39;49;00m\u001b[33m\"\u001b[39;49;00m\u001b[34m.\u001b[39;49;00m\u001b[33m\"\u001b[39;49;00m\u001b[33mroad_id\u001b[39;49;00m\u001b[33m\"\u001b[39;49;00m,\u001b[37m\u001b[39;49;00m\n",
      "\u001b[37m       \u001b[39;49;00m\u001b[33m\"\u001b[39;49;00m\u001b[33mreportings_reporting\u001b[39;49;00m\u001b[33m\"\u001b[39;49;00m\u001b[34m.\u001b[39;49;00m\u001b[33m\"\u001b[39;49;00m\u001b[33mkm\u001b[39;49;00m\u001b[33m\"\u001b[39;49;00m,\u001b[37m\u001b[39;49;00m\n",
      "\u001b[37m       \u001b[39;49;00m\u001b[33m\"\u001b[39;49;00m\u001b[33mreportings_reporting\u001b[39;49;00m\u001b[33m\"\u001b[39;49;00m\u001b[34m.\u001b[39;49;00m\u001b[33m\"\u001b[39;49;00m\u001b[33mend_km\u001b[39;49;00m\u001b[33m\"\u001b[39;49;00m,\u001b[37m\u001b[39;49;00m\n",
      "\u001b[37m       \u001b[39;49;00m\u001b[33m\"\u001b[39;49;00m\u001b[33mreportings_reporting\u001b[39;49;00m\u001b[33m\"\u001b[39;49;00m\u001b[34m.\u001b[39;49;00m\u001b[33m\"\u001b[39;49;00m\u001b[33mkm_reference\u001b[39;49;00m\u001b[33m\"\u001b[39;49;00m,\u001b[37m\u001b[39;49;00m\n",
      "\u001b[37m       \u001b[39;49;00m\u001b[33m\"\u001b[39;49;00m\u001b[33mreportings_reporting\u001b[39;49;00m\u001b[33m\"\u001b[39;49;00m\u001b[34m.\u001b[39;49;00m\u001b[33m\"\u001b[39;49;00m\u001b[33mproject_km\u001b[39;49;00m\u001b[33m\"\u001b[39;49;00m,\u001b[37m\u001b[39;49;00m\n",
      "\u001b[37m       \u001b[39;49;00m\u001b[33m\"\u001b[39;49;00m\u001b[33mreportings_reporting\u001b[39;49;00m\u001b[33m\"\u001b[39;49;00m\u001b[34m.\u001b[39;49;00m\u001b[33m\"\u001b[39;49;00m\u001b[33mproject_end_km\u001b[39;49;00m\u001b[33m\"\u001b[39;49;00m,\u001b[37m\u001b[39;49;00m\n",
      "\u001b[37m       \u001b[39;49;00m\u001b[33m\"\u001b[39;49;00m\u001b[33mreportings_reporting\u001b[39;49;00m\u001b[33m\"\u001b[39;49;00m\u001b[34m.\u001b[39;49;00m\u001b[33m\"\u001b[39;49;00m\u001b[33mpoint\u001b[39;49;00m\u001b[33m\"\u001b[39;49;00m::\u001b[36mbytea\u001b[39;49;00m,\u001b[37m\u001b[39;49;00m\n",
      "\u001b[37m       \u001b[39;49;00m\u001b[33m\"\u001b[39;49;00m\u001b[33mreportings_reporting\u001b[39;49;00m\u001b[33m\"\u001b[39;49;00m\u001b[34m.\u001b[39;49;00m\u001b[33m\"\u001b[39;49;00m\u001b[33mdirection\u001b[39;49;00m\u001b[33m\"\u001b[39;49;00m,\u001b[37m\u001b[39;49;00m\n",
      "\u001b[37m       \u001b[39;49;00m\u001b[33m\"\u001b[39;49;00m\u001b[33mreportings_reporting\u001b[39;49;00m\u001b[33m\"\u001b[39;49;00m\u001b[34m.\u001b[39;49;00m\u001b[33m\"\u001b[39;49;00m\u001b[33mlane\u001b[39;49;00m\u001b[33m\"\u001b[39;49;00m,\u001b[37m\u001b[39;49;00m\n",
      "\u001b[37m       \u001b[39;49;00m\u001b[33m\"\u001b[39;49;00m\u001b[33mreportings_reporting\u001b[39;49;00m\u001b[33m\"\u001b[39;49;00m\u001b[34m.\u001b[39;49;00m\u001b[33m\"\u001b[39;49;00m\u001b[33mtrack\u001b[39;49;00m\u001b[33m\"\u001b[39;49;00m,\u001b[37m\u001b[39;49;00m\n",
      "\u001b[37m       \u001b[39;49;00m\u001b[33m\"\u001b[39;49;00m\u001b[33mreportings_reporting\u001b[39;49;00m\u001b[33m\"\u001b[39;49;00m\u001b[34m.\u001b[39;49;00m\u001b[33m\"\u001b[39;49;00m\u001b[33mbranch\u001b[39;49;00m\u001b[33m\"\u001b[39;49;00m,\u001b[37m\u001b[39;49;00m\n",
      "\u001b[37m       \u001b[39;49;00m\u001b[33m\"\u001b[39;49;00m\u001b[33mreportings_reporting\u001b[39;49;00m\u001b[33m\"\u001b[39;49;00m\u001b[34m.\u001b[39;49;00m\u001b[33m\"\u001b[39;49;00m\u001b[33maddress\u001b[39;49;00m\u001b[33m\"\u001b[39;49;00m,\u001b[37m\u001b[39;49;00m\n",
      "\u001b[37m       \u001b[39;49;00m\u001b[33m\"\u001b[39;49;00m\u001b[33mreportings_reporting\u001b[39;49;00m\u001b[33m\"\u001b[39;49;00m\u001b[34m.\u001b[39;49;00m\u001b[33m\"\u001b[39;49;00m\u001b[33mgeometry\u001b[39;49;00m\u001b[33m\"\u001b[39;49;00m::\u001b[36mbytea\u001b[39;49;00m,\u001b[37m\u001b[39;49;00m\n",
      "\u001b[37m       \u001b[39;49;00m\u001b[33m\"\u001b[39;49;00m\u001b[33mreportings_reporting\u001b[39;49;00m\u001b[33m\"\u001b[39;49;00m\u001b[34m.\u001b[39;49;00m\u001b[33m\"\u001b[39;49;00m\u001b[33mproperties\u001b[39;49;00m\u001b[33m\"\u001b[39;49;00m,\u001b[37m\u001b[39;49;00m\n",
      "\u001b[37m       \u001b[39;49;00m\u001b[33m\"\u001b[39;49;00m\u001b[33mreportings_reporting\u001b[39;49;00m\u001b[33m\"\u001b[39;49;00m\u001b[34m.\u001b[39;49;00m\u001b[33m\"\u001b[39;49;00m\u001b[33mactive_tile_layer_id\u001b[39;49;00m\u001b[33m\"\u001b[39;49;00m,\u001b[37m\u001b[39;49;00m\n",
      "\u001b[37m       \u001b[39;49;00m\u001b[33m\"\u001b[39;49;00m\u001b[33mreportings_reporting\u001b[39;49;00m\u001b[33m\"\u001b[39;49;00m\u001b[34m.\u001b[39;49;00m\u001b[33m\"\u001b[39;49;00m\u001b[33mcreated_by_id\u001b[39;49;00m\u001b[33m\"\u001b[39;49;00m,\u001b[37m\u001b[39;49;00m\n",
      "\u001b[37m       \u001b[39;49;00m\u001b[33m\"\u001b[39;49;00m\u001b[33mreportings_reporting\u001b[39;49;00m\u001b[33m\"\u001b[39;49;00m\u001b[34m.\u001b[39;49;00m\u001b[33m\"\u001b[39;49;00m\u001b[33mfirm_id\u001b[39;49;00m\u001b[33m\"\u001b[39;49;00m,\u001b[37m\u001b[39;49;00m\n",
      "\u001b[37m       \u001b[39;49;00m\u001b[33m\"\u001b[39;49;00m\u001b[33mreportings_reporting\u001b[39;49;00m\u001b[33m\"\u001b[39;49;00m\u001b[34m.\u001b[39;49;00m\u001b[33m\"\u001b[39;49;00m\u001b[33moccurrence_type_id\u001b[39;49;00m\u001b[33m\"\u001b[39;49;00m,\u001b[37m\u001b[39;49;00m\n",
      "\u001b[37m       \u001b[39;49;00m\u001b[33m\"\u001b[39;49;00m\u001b[33mreportings_reporting\u001b[39;49;00m\u001b[33m\"\u001b[39;49;00m\u001b[34m.\u001b[39;49;00m\u001b[33m\"\u001b[39;49;00m\u001b[33mform_data\u001b[39;49;00m\u001b[33m\"\u001b[39;49;00m,\u001b[37m\u001b[39;49;00m\n",
      "\u001b[37m       \u001b[39;49;00m\u001b[33m\"\u001b[39;49;00m\u001b[33mreportings_reporting\u001b[39;49;00m\u001b[33m\"\u001b[39;49;00m\u001b[34m.\u001b[39;49;00m\u001b[33m\"\u001b[39;49;00m\u001b[33mform_metadata\u001b[39;49;00m\u001b[33m\"\u001b[39;49;00m,\u001b[37m\u001b[39;49;00m\n",
      "\u001b[37m       \u001b[39;49;00m\u001b[33m\"\u001b[39;49;00m\u001b[33mreportings_reporting\u001b[39;49;00m\u001b[33m\"\u001b[39;49;00m\u001b[34m.\u001b[39;49;00m\u001b[33m\"\u001b[39;49;00m\u001b[33mexecuted_at\u001b[39;49;00m\u001b[33m\"\u001b[39;49;00m,\u001b[37m\u001b[39;49;00m\n",
      "\u001b[37m       \u001b[39;49;00m\u001b[33m\"\u001b[39;49;00m\u001b[33mreportings_reporting\u001b[39;49;00m\u001b[33m\"\u001b[39;49;00m\u001b[34m.\u001b[39;49;00m\u001b[33m\"\u001b[39;49;00m\u001b[33mcreated_at\u001b[39;49;00m\u001b[33m\"\u001b[39;49;00m,\u001b[37m\u001b[39;49;00m\n",
      "\u001b[37m       \u001b[39;49;00m\u001b[33m\"\u001b[39;49;00m\u001b[33mreportings_reporting\u001b[39;49;00m\u001b[33m\"\u001b[39;49;00m\u001b[34m.\u001b[39;49;00m\u001b[33m\"\u001b[39;49;00m\u001b[33mupdated_at\u001b[39;49;00m\u001b[33m\"\u001b[39;49;00m,\u001b[37m\u001b[39;49;00m\n",
      "\u001b[37m       \u001b[39;49;00m\u001b[33m\"\u001b[39;49;00m\u001b[33mreportings_reporting\u001b[39;49;00m\u001b[33m\"\u001b[39;49;00m\u001b[34m.\u001b[39;49;00m\u001b[33m\"\u001b[39;49;00m\u001b[33mfound_at\u001b[39;49;00m\u001b[33m\"\u001b[39;49;00m,\u001b[37m\u001b[39;49;00m\n",
      "\u001b[37m       \u001b[39;49;00m\u001b[33m\"\u001b[39;49;00m\u001b[33mreportings_reporting\u001b[39;49;00m\u001b[33m\"\u001b[39;49;00m\u001b[34m.\u001b[39;49;00m\u001b[33m\"\u001b[39;49;00m\u001b[33mdue_at\u001b[39;49;00m\u001b[33m\"\u001b[39;49;00m,\u001b[37m\u001b[39;49;00m\n",
      "\u001b[37m       \u001b[39;49;00m\u001b[33m\"\u001b[39;49;00m\u001b[33mreportings_reporting\u001b[39;49;00m\u001b[33m\"\u001b[39;49;00m\u001b[34m.\u001b[39;49;00m\u001b[33m\"\u001b[39;49;00m\u001b[33mstatus_id\u001b[39;49;00m\u001b[33m\"\u001b[39;49;00m,\u001b[37m\u001b[39;49;00m\n",
      "\u001b[37m       \u001b[39;49;00m\u001b[33m\"\u001b[39;49;00m\u001b[33mreportings_reporting\u001b[39;49;00m\u001b[33m\"\u001b[39;49;00m\u001b[34m.\u001b[39;49;00m\u001b[33m\"\u001b[39;49;00m\u001b[33mjob_id\u001b[39;49;00m\u001b[33m\"\u001b[39;49;00m,\u001b[37m\u001b[39;49;00m\n",
      "\u001b[37m       \u001b[39;49;00m\u001b[33m\"\u001b[39;49;00m\u001b[33mreportings_reporting\u001b[39;49;00m\u001b[33m\"\u001b[39;49;00m\u001b[34m.\u001b[39;49;00m\u001b[33m\"\u001b[39;49;00m\u001b[33mparent_id\u001b[39;49;00m\u001b[33m\"\u001b[39;49;00m,\u001b[37m\u001b[39;49;00m\n",
      "\u001b[37m       \u001b[39;49;00m\u001b[33m\"\u001b[39;49;00m\u001b[33mreportings_reporting\u001b[39;49;00m\u001b[33m\"\u001b[39;49;00m\u001b[34m.\u001b[39;49;00m\u001b[33m\"\u001b[39;49;00m\u001b[33mactive_inspection_id\u001b[39;49;00m\u001b[33m\"\u001b[39;49;00m,\u001b[37m\u001b[39;49;00m\n",
      "\u001b[37m       \u001b[39;49;00m\u001b[33m\"\u001b[39;49;00m\u001b[33mreportings_reporting\u001b[39;49;00m\u001b[33m\"\u001b[39;49;00m\u001b[34m.\u001b[39;49;00m\u001b[33m\"\u001b[39;49;00m\u001b[33mdue_at_manually_specified\u001b[39;49;00m\u001b[33m\"\u001b[39;49;00m,\u001b[37m\u001b[39;49;00m\n",
      "\u001b[37m       \u001b[39;49;00m\u001b[33m\"\u001b[39;49;00m\u001b[33mreportings_reporting\u001b[39;49;00m\u001b[33m\"\u001b[39;49;00m\u001b[34m.\u001b[39;49;00m\u001b[33m\"\u001b[39;49;00m\u001b[33mend_km_manually_specified\u001b[39;49;00m\u001b[33m\"\u001b[39;49;00m,\u001b[37m\u001b[39;49;00m\n",
      "\u001b[37m       \u001b[39;49;00m\u001b[33m\"\u001b[39;49;00m\u001b[33mreportings_reporting\u001b[39;49;00m\u001b[33m\"\u001b[39;49;00m\u001b[34m.\u001b[39;49;00m\u001b[33m\"\u001b[39;49;00m\u001b[33mproject_end_km_manually_specified\u001b[39;49;00m\u001b[33m\"\u001b[39;49;00m,\u001b[37m\u001b[39;49;00m\n",
      "\u001b[37m       \u001b[39;49;00m\u001b[33m\"\u001b[39;49;00m\u001b[33mreportings_reporting\u001b[39;49;00m\u001b[33m\"\u001b[39;49;00m\u001b[34m.\u001b[39;49;00m\u001b[33m\"\u001b[39;49;00m\u001b[33meditable\u001b[39;49;00m\u001b[33m\"\u001b[39;49;00m,\u001b[37m\u001b[39;49;00m\n",
      "\u001b[37m       \u001b[39;49;00m\u001b[33m\"\u001b[39;49;00m\u001b[33mreportings_reporting\u001b[39;49;00m\u001b[33m\"\u001b[39;49;00m\u001b[34m.\u001b[39;49;00m\u001b[33m\"\u001b[39;49;00m\u001b[33mapproval_step_id\u001b[39;49;00m\u001b[33m\"\u001b[39;49;00m,\u001b[37m\u001b[39;49;00m\n",
      "\u001b[37m       \u001b[39;49;00m\u001b[33m\"\u001b[39;49;00m\u001b[33mreportings_reporting\u001b[39;49;00m\u001b[33m\"\u001b[39;49;00m\u001b[34m.\u001b[39;49;00m\u001b[33m\"\u001b[39;49;00m\u001b[33mkeywords\u001b[39;49;00m\u001b[33m\"\u001b[39;49;00m,\u001b[37m\u001b[39;49;00m\n",
      "\u001b[37m       \u001b[39;49;00m\u001b[33m\"\u001b[39;49;00m\u001b[33mreportings_reporting\u001b[39;49;00m\u001b[33m\"\u001b[39;49;00m\u001b[34m.\u001b[39;49;00m\u001b[33m\"\u001b[39;49;00m\u001b[33mlot\u001b[39;49;00m\u001b[33m\"\u001b[39;49;00m,\u001b[37m\u001b[39;49;00m\n",
      "\u001b[37m       \u001b[39;49;00m\u001b[33m\"\u001b[39;49;00m\u001b[33mreportings_reporting\u001b[39;49;00m\u001b[33m\"\u001b[39;49;00m\u001b[34m.\u001b[39;49;00m\u001b[33m\"\u001b[39;49;00m\u001b[33mtechnical_opinion\u001b[39;49;00m\u001b[33m\"\u001b[39;49;00m,\u001b[37m\u001b[39;49;00m\n",
      "\u001b[37m       \u001b[39;49;00m\u001b[33m\"\u001b[39;49;00m\u001b[33mreportings_reporting\u001b[39;49;00m\u001b[33m\"\u001b[39;49;00m\u001b[34m.\u001b[39;49;00m\u001b[33m\"\u001b[39;49;00m\u001b[33mconstruction_id\u001b[39;49;00m\u001b[33m\"\u001b[39;49;00m,\u001b[37m\u001b[39;49;00m\n",
      "\u001b[37m       \u001b[39;49;00m\u001b[33m\"\u001b[39;49;00m\u001b[33mreportings_reporting\u001b[39;49;00m\u001b[33m\"\u001b[39;49;00m\u001b[34m.\u001b[39;49;00m\u001b[33m\"\u001b[39;49;00m\u001b[33mpdf_import_id\u001b[39;49;00m\u001b[33m\"\u001b[39;49;00m,\u001b[37m\u001b[39;49;00m\n",
      "\u001b[37m       \u001b[39;49;00m\u001b[33m\"\u001b[39;49;00m\u001b[33mreportings_reporting\u001b[39;49;00m\u001b[33m\"\u001b[39;49;00m\u001b[34m.\u001b[39;49;00m\u001b[33m\"\u001b[39;49;00m\u001b[33mshared_with_agency\u001b[39;49;00m\u001b[33m\"\u001b[39;49;00m,\u001b[37m\u001b[39;49;00m\n",
      "\u001b[37m       \u001b[39;49;00m\u001b[33m\"\u001b[39;49;00m\u001b[33mreportings_reporting\u001b[39;49;00m\u001b[33m\"\u001b[39;49;00m\u001b[34m.\u001b[39;49;00m\u001b[33m\"\u001b[39;49;00m\u001b[33mcreated_recuperations_with_relation\u001b[39;49;00m\u001b[33m\"\u001b[39;49;00m\u001b[37m\u001b[39;49;00m\n",
      "\u001b[34mFROM\u001b[39;49;00m\u001b[37m \u001b[39;49;00m\u001b[33m\"\u001b[39;49;00m\u001b[33mreportings_reporting\u001b[39;49;00m\u001b[33m\"\u001b[39;49;00m\u001b[37m\u001b[39;49;00m\n",
      "\u001b[34mINNER\u001b[39;49;00m\u001b[37m \u001b[39;49;00m\u001b[34mJOIN\u001b[39;49;00m\u001b[37m \u001b[39;49;00m\u001b[33m\"\u001b[39;49;00m\u001b[33mcompanies_company\u001b[39;49;00m\u001b[33m\"\u001b[39;49;00m\u001b[37m \u001b[39;49;00m\u001b[34mON\u001b[39;49;00m\u001b[37m \u001b[39;49;00m(\u001b[33m\"\u001b[39;49;00m\u001b[33mreportings_reporting\u001b[39;49;00m\u001b[33m\"\u001b[39;49;00m\u001b[34m.\u001b[39;49;00m\u001b[33m\"\u001b[39;49;00m\u001b[33mcompany_id\u001b[39;49;00m\u001b[33m\"\u001b[39;49;00m\u001b[37m \u001b[39;49;00m=\u001b[37m \u001b[39;49;00m\u001b[33m\"\u001b[39;49;00m\u001b[33mcompanies_company\u001b[39;49;00m\u001b[33m\"\u001b[39;49;00m\u001b[34m.\u001b[39;49;00m\u001b[33m\"\u001b[39;49;00m\u001b[33muuid\u001b[39;49;00m\u001b[33m\"\u001b[39;49;00m)\u001b[37m\u001b[39;49;00m\n",
      "\u001b[34mWHERE\u001b[39;49;00m\u001b[37m \u001b[39;49;00m(\u001b[33m\"\u001b[39;49;00m\u001b[33mcompanies_company\u001b[39;49;00m\u001b[33m\"\u001b[39;49;00m\u001b[34m.\u001b[39;49;00m\u001b[33m\"\u001b[39;49;00m\u001b[33mname\u001b[39;49;00m\u001b[33m\"\u001b[39;49;00m\u001b[37m \u001b[39;49;00m=\u001b[37m \u001b[39;49;00mLCM\u001b[37m \u001b[39;49;00m-\u001b[37m \u001b[39;49;00mGaspar\u001b[37m\u001b[39;49;00m\n",
      "\u001b[37m       \u001b[39;49;00m\u001b[34mAND\u001b[39;49;00m\u001b[37m \u001b[39;49;00m\u001b[33m\"\u001b[39;49;00m\u001b[33mreportings_reporting\u001b[39;49;00m\u001b[33m\"\u001b[39;49;00m\u001b[34m.\u001b[39;49;00m\u001b[33m\"\u001b[39;49;00m\u001b[33mcreated_at\u001b[39;49;00m\u001b[33m\"\u001b[39;49;00m\u001b[37m \u001b[39;49;00m>=\u001b[37m \u001b[39;49;00m\u001b[34m2024\u001b[39;49;00m-\u001b[34m03\u001b[39;49;00m-\u001b[34m01\u001b[39;49;00m\u001b[37m \u001b[39;49;00m\u001b[34m00\u001b[39;49;00m:\u001b[34m00\u001b[39;49;00m:\u001b[34m00\u001b[39;49;00m-\u001b[34m03\u001b[39;49;00m:\u001b[34m00\u001b[39;49;00m\u001b[37m\u001b[39;49;00m\n",
      "\u001b[37m       \u001b[39;49;00m\u001b[34mAND\u001b[39;49;00m\u001b[37m \u001b[39;49;00m\u001b[33m\"\u001b[39;49;00m\u001b[33mreportings_reporting\u001b[39;49;00m\u001b[33m\"\u001b[39;49;00m\u001b[34m.\u001b[39;49;00m\u001b[33m\"\u001b[39;49;00m\u001b[33mcreated_at\u001b[39;49;00m\u001b[33m\"\u001b[39;49;00m\u001b[37m \u001b[39;49;00m<=\u001b[37m \u001b[39;49;00m\u001b[34m2024\u001b[39;49;00m-\u001b[34m03\u001b[39;49;00m-\u001b[34m31\u001b[39;49;00m\u001b[37m \u001b[39;49;00m\u001b[34m00\u001b[39;49;00m:\u001b[34m00\u001b[39;49;00m:\u001b[34m00\u001b[39;49;00m-\u001b[34m03\u001b[39;49;00m:\u001b[34m00\u001b[39;49;00m\u001b[37m\u001b[39;49;00m\n",
      "\u001b[37m       \u001b[39;49;00m\u001b[34mAND\u001b[39;49;00m\u001b[37m \u001b[39;49;00m\u001b[33m\"\u001b[39;49;00m\u001b[33mreportings_reporting\u001b[39;49;00m\u001b[33m\"\u001b[39;49;00m\u001b[34m.\u001b[39;49;00m\u001b[33m\"\u001b[39;49;00m\u001b[33mupdated_at\u001b[39;49;00m\u001b[33m\"\u001b[39;49;00m\u001b[37m \u001b[39;49;00m>=\u001b[37m \u001b[39;49;00m\u001b[34m2024\u001b[39;49;00m-\u001b[34m03\u001b[39;49;00m-\u001b[34m01\u001b[39;49;00m\u001b[37m \u001b[39;49;00m\u001b[34m00\u001b[39;49;00m:\u001b[34m00\u001b[39;49;00m:\u001b[34m00\u001b[39;49;00m-\u001b[34m03\u001b[39;49;00m:\u001b[34m00\u001b[39;49;00m\u001b[37m\u001b[39;49;00m\n",
      "\u001b[37m       \u001b[39;49;00m\u001b[34mAND\u001b[39;49;00m\u001b[37m \u001b[39;49;00m\u001b[33m\"\u001b[39;49;00m\u001b[33mreportings_reporting\u001b[39;49;00m\u001b[33m\"\u001b[39;49;00m\u001b[34m.\u001b[39;49;00m\u001b[33m\"\u001b[39;49;00m\u001b[33mupdated_at\u001b[39;49;00m\u001b[33m\"\u001b[39;49;00m\u001b[37m \u001b[39;49;00m<=\u001b[37m \u001b[39;49;00m\u001b[34m2024\u001b[39;49;00m-\u001b[34m03\u001b[39;49;00m-\u001b[34m31\u001b[39;49;00m\u001b[37m \u001b[39;49;00m\u001b[34m00\u001b[39;49;00m:\u001b[34m00\u001b[39;49;00m:\u001b[34m00\u001b[39;49;00m-\u001b[34m03\u001b[39;49;00m:\u001b[34m00\u001b[39;49;00m)\u001b[37m\u001b[39;49;00m\n",
      "\n"
     ]
    },
    {
     "name": "stderr",
     "output_type": "stream",
     "text": [
      "/home/luan/.cache/pypoetry/virtualenvs/apps-ZFymp6kh-py3.8/lib/python3.8/site-packages/django/db/models/fields/__init__.py:1424: RuntimeWarning: DateTimeField Reporting.created_at received a naive datetime (2024-03-01 00:00:00) while time zone support is active.\n",
      "  warnings.warn(\"DateTimeField %s received a naive datetime (%s)\"\n",
      "/home/luan/.cache/pypoetry/virtualenvs/apps-ZFymp6kh-py3.8/lib/python3.8/site-packages/django/db/models/fields/__init__.py:1424: RuntimeWarning: DateTimeField Reporting.created_at received a naive datetime (2024-03-31 00:00:00) while time zone support is active.\n",
      "  warnings.warn(\"DateTimeField %s received a naive datetime (%s)\"\n",
      "/home/luan/.cache/pypoetry/virtualenvs/apps-ZFymp6kh-py3.8/lib/python3.8/site-packages/django/db/models/fields/__init__.py:1424: RuntimeWarning: DateTimeField Reporting.updated_at received a naive datetime (2024-03-01 00:00:00) while time zone support is active.\n",
      "  warnings.warn(\"DateTimeField %s received a naive datetime (%s)\"\n",
      "/home/luan/.cache/pypoetry/virtualenvs/apps-ZFymp6kh-py3.8/lib/python3.8/site-packages/django/db/models/fields/__init__.py:1424: RuntimeWarning: DateTimeField Reporting.updated_at received a naive datetime (2024-03-31 00:00:00) while time zone support is active.\n",
      "  warnings.warn(\"DateTimeField %s received a naive datetime (%s)\"\n"
     ]
    }
   ],
   "source": [
    "print_sql(Reporting.objects.filter(created_at__gte='2024-03-01',created_at__lte='2024-03-31',\n",
    "                         updated_at__gte='2024-03-01',updated_at__lte='2024-03-31',\n",
    "                         company__name='LCM - Gaspar'))"
   ]
  },
  {
   "cell_type": "code",
   "execution_count": null,
   "id": "d7d8dba3",
   "metadata": {},
   "outputs": [],
   "source": []
  }
 ],
 "metadata": {
  "kernelspec": {
   "display_name": "Django Shell-Plus",
   "language": "python",
   "name": "django_extensions"
  },
  "language_info": {
   "codemirror_mode": {
    "name": "ipython",
    "version": 3
   },
   "file_extension": ".py",
   "mimetype": "text/x-python",
   "name": "python",
   "nbconvert_exporter": "python",
   "pygments_lexer": "ipython3",
   "version": "3.8.16"
  }
 },
 "nbformat": 4,
 "nbformat_minor": 5
}
