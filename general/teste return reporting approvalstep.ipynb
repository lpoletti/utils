{
 "cells": [
  {
   "cell_type": "code",
   "execution_count": 1,
   "metadata": {},
   "outputs": [
    {
     "name": "stdout",
     "output_type": "stream",
     "text": [
      "STAGE=PRODUCTION\r\n"
     ]
    }
   ],
   "source": [
    "!cat .env"
   ]
  },
  {
   "cell_type": "code",
   "execution_count": 7,
   "metadata": {},
   "outputs": [
    {
     "data": {
      "text/plain": [
       "<Company: 22b051ef-d318-4cba-a8ca-77f252fee3af: Arteris Fluminense>"
      ]
     },
     "execution_count": 7,
     "metadata": {},
     "output_type": "execute_result"
    }
   ],
   "source": [
    "company=Company.objects.get(name__icontains='Arteris Fluminense',uuid='22b051ef-d318-4cba-a8ca-77f252fee3af')\n",
    "company"
   ]
  },
  {
   "cell_type": "code",
   "execution_count": 2,
   "metadata": {
    "scrolled": true
   },
   "outputs": [
    {
     "name": "stdout",
     "output_type": "stream",
     "text": [
      "Searching KM on direction...\n",
      "Found KM on Road 5: BR376-PR\n",
      "[Arteris Litoral Sul - Conserva] ALS-2022.03770 - 2022-11-23 18:18:29.123000+00:00 [Arteris Litoral Sul - Conserva]: Criado\n",
      "Searching KM on direction...\n",
      "Found KM on Road 7: BR116-PR\n",
      "[Arteris Litoral Sul - Conserva] ALS-2022.05434 - 2022-12-20 12:33:19.721000+00:00 [Arteris Litoral Sul - Conserva]: Criado\n",
      "Searching KM on direction...\n",
      "Found KM on Road 7: BR116-PR\n",
      "[Arteris Litoral Sul - Conserva] ALS-2023.00426 - 2022-12-30 18:18:00+00:00 [Arteris Litoral Sul - Conserva]: Criado\n"
     ]
    }
   ],
   "source": [
    "# numbers=[\"ALS-2023.00426\", \"ALS-2022.05434\", \"ALS-2022.03770\"]\n",
    "\n",
    "reps = Reporting.objects.filter(company=company, number__in=numbers)\n",
    "new_step = ApprovalStep.objects.get(\n",
    "    approval_flow__company=company, \n",
    "    name=\"Criado\",\n",
    "    approval_flow__target_model=\"reportings.Reporting\"\n",
    ")\n",
    "user=User.objects.get(username=\"rlcs\")\n",
    "\n",
    "for rep in reps:\n",
    "    rep.approval_step = new_step\n",
    "    rep.editable = True\n",
    "    rep._history_user = user\n",
    "    rep.save()\n",
    "    print(rep, new_step)"
   ]
  },
  {
   "cell_type": "code",
   "execution_count": 2,
   "metadata": {},
   "outputs": [],
   "source": [
    "# numbers=['ALS-2023.01065']\n",
    "reps = Reporting.objects.filter(company=company, approval_step__uuid='469d2831-e56b-4b5c-8c6d-de0ba6a4bfe9')\n",
    "new_step = ApprovalStep.objects.get(\n",
    "    approval_flow__company=company, \n",
    "    name=\"Aguardando Aprovação\",\n",
    "    approval_flow__target_model=\"reportings.Reporting\"\n",
    ")\n",
    "user=User.objects.get(username=\"rlcs\")\n"
   ]
  },
  {
   "cell_type": "code",
   "execution_count": 3,
   "metadata": {},
   "outputs": [
    {
     "name": "stdout",
     "output_type": "stream",
     "text": [
      "True\n",
      "True\n",
      "True\n",
      "True\n",
      "True\n",
      "True\n",
      "True\n",
      "True\n",
      "True\n",
      "True\n",
      "True\n",
      "True\n",
      "True\n",
      "True\n",
      "True\n",
      "True\n",
      "True\n",
      "True\n",
      "True\n",
      "True\n",
      "True\n",
      "True\n",
      "True\n",
      "True\n",
      "True\n",
      "True\n",
      "True\n",
      "True\n",
      "True\n",
      "True\n",
      "True\n",
      "True\n",
      "True\n",
      "True\n",
      "True\n",
      "True\n",
      "True\n",
      "True\n",
      "True\n",
      "True\n",
      "True\n",
      "True\n",
      "True\n",
      "True\n",
      "True\n",
      "True\n",
      "True\n",
      "True\n",
      "True\n",
      "True\n",
      "True\n",
      "True\n",
      "True\n",
      "True\n",
      "True\n",
      "True\n",
      "True\n",
      "True\n",
      "True\n",
      "True\n",
      "True\n",
      "True\n",
      "True\n",
      "True\n",
      "True\n",
      "True\n",
      "True\n",
      "True\n",
      "True\n",
      "True\n",
      "True\n",
      "True\n",
      "True\n",
      "True\n",
      "True\n",
      "True\n",
      "True\n",
      "True\n",
      "True\n",
      "True\n",
      "True\n",
      "True\n",
      "True\n",
      "True\n",
      "True\n",
      "True\n",
      "True\n",
      "True\n",
      "True\n",
      "True\n",
      "True\n",
      "True\n",
      "True\n",
      "True\n",
      "True\n",
      "True\n",
      "True\n",
      "True\n",
      "True\n",
      "True\n",
      "True\n",
      "True\n",
      "True\n",
      "True\n",
      "True\n",
      "True\n",
      "True\n",
      "True\n",
      "True\n",
      "True\n",
      "True\n",
      "True\n",
      "True\n",
      "True\n",
      "True\n",
      "True\n",
      "True\n",
      "True\n",
      "True\n",
      "True\n",
      "True\n",
      "True\n",
      "True\n",
      "True\n",
      "True\n",
      "True\n",
      "True\n",
      "True\n",
      "True\n",
      "True\n",
      "True\n",
      "True\n",
      "True\n",
      "True\n",
      "True\n",
      "True\n",
      "True\n",
      "True\n",
      "True\n",
      "True\n",
      "True\n",
      "True\n",
      "True\n",
      "True\n",
      "True\n",
      "True\n",
      "True\n",
      "True\n",
      "True\n",
      "True\n",
      "True\n",
      "True\n",
      "True\n",
      "True\n",
      "True\n",
      "True\n",
      "True\n",
      "True\n",
      "True\n",
      "True\n",
      "True\n",
      "True\n",
      "True\n",
      "True\n",
      "True\n",
      "True\n",
      "True\n",
      "True\n",
      "True\n",
      "True\n",
      "True\n",
      "True\n",
      "True\n",
      "True\n",
      "True\n",
      "True\n",
      "True\n",
      "True\n",
      "True\n",
      "True\n",
      "True\n",
      "True\n",
      "True\n",
      "True\n",
      "True\n",
      "True\n",
      "True\n",
      "True\n",
      "True\n",
      "True\n",
      "True\n",
      "True\n",
      "True\n",
      "True\n",
      "True\n",
      "True\n",
      "True\n",
      "True\n",
      "True\n",
      "True\n",
      "True\n",
      "True\n",
      "True\n",
      "True\n",
      "True\n",
      "True\n",
      "True\n",
      "True\n",
      "True\n",
      "True\n",
      "True\n",
      "True\n",
      "True\n",
      "True\n",
      "True\n",
      "True\n",
      "True\n",
      "True\n",
      "True\n",
      "True\n",
      "True\n",
      "True\n",
      "True\n",
      "True\n",
      "True\n",
      "True\n",
      "True\n",
      "True\n",
      "True\n",
      "True\n",
      "True\n",
      "True\n",
      "True\n",
      "True\n",
      "True\n",
      "True\n",
      "True\n",
      "True\n",
      "True\n",
      "True\n"
     ]
    }
   ],
   "source": [
    "for rep in reps:\n",
    "    print(rep.editable)"
   ]
  },
  {
   "cell_type": "code",
   "execution_count": 9,
   "metadata": {},
   "outputs": [
    {
     "data": {
      "text/plain": [
       "<ApprovalStep: [Arteris Litoral Sul - Conserva]: Aguardando Aprovação>"
      ]
     },
     "execution_count": 9,
     "metadata": {},
     "output_type": "execute_result"
    }
   ],
   "source": [
    "reps[4].approval_step"
   ]
  },
  {
   "cell_type": "code",
   "execution_count": 27,
   "metadata": {},
   "outputs": [
    {
     "data": {
      "text/plain": [
       "{'_state': <django.db.models.base.ModelState at 0x7ff7b03d5550>,\n",
       " 'uuid': UUID('75fc62bf-dadc-4414-83b0-0bc945f5d72e'),\n",
       " 'name': 'Fluxo Apontamentos',\n",
       " 'target_model': 'reportings.Reporting',\n",
       " 'company_id': UUID('52bf5f0c-7d75-4081-8616-06e0b43dee29')}"
      ]
     },
     "execution_count": 27,
     "metadata": {},
     "output_type": "execute_result"
    }
   ],
   "source": [
    "af = ApprovalFlow.objects.get(company=company,target_model='reportings.Reporting')\n",
    "af.__dict__"
   ]
  },
  {
   "cell_type": "code",
   "execution_count": 28,
   "metadata": {},
   "outputs": [
    {
     "data": {
      "text/plain": [
       "{'_state': <django.db.models.base.ModelState at 0x7ff7b03d1990>,\n",
       " 'uuid': UUID('469d2831-e56b-4b5c-8c6d-de0ba6a4bfe9'),\n",
       " 'name': 'Aguardando Aprovação',\n",
       " 'approval_flow_id': UUID('75fc62bf-dadc-4414-83b0-0bc945f5d72e'),\n",
       " 'field_options': {},\n",
       " 'responsible_created_by': False,\n",
       " 'responsible_supervisor': False,\n",
       " 'responsible_firm_entity': False,\n",
       " 'responsible_firm_manager': False,\n",
       " 'auto_execute_transition': False,\n",
       " 'responsible_json_logic': {},\n",
       " 'color': '#FF0000'}"
      ]
     },
     "execution_count": 28,
     "metadata": {},
     "output_type": "execute_result"
    }
   ],
   "source": [
    "ast = ApprovalStep.objects.filter(approval_flow=af,name='Aguardando Aprovação')\n",
    "ast[0].__dict__"
   ]
  },
  {
   "cell_type": "code",
   "execution_count": 44,
   "metadata": {},
   "outputs": [
    {
     "data": {
      "text/plain": [
       "2"
      ]
     },
     "execution_count": 44,
     "metadata": {},
     "output_type": "execute_result"
    }
   ],
   "source": [
    "at = ApprovalTransition.objects.filter(destination=ast[0].uuid)\n",
    "at.count()"
   ]
  },
  {
   "cell_type": "code",
   "execution_count": 47,
   "metadata": {},
   "outputs": [
    {
     "data": {
      "text/plain": [
       "{'_state': <django.db.models.base.ModelState at 0x7ff7af783ad0>,\n",
       " 'uuid': UUID('18d52e56-97f9-4828-a965-927d2c06c05d'),\n",
       " 'name': 'Solicitar Análise',\n",
       " 'origin_id': UUID('007481c6-8cd3-4dec-b5b7-31bb754bc0d4'),\n",
       " 'destination_id': UUID('469d2831-e56b-4b5c-8c6d-de0ba6a4bfe9'),\n",
       " 'condition': {'===': [{'var': 'request.action'}, 'Solicitar Análise']},\n",
       " 'callback': {'change_fields': [{'name': 'editable', 'value': False}]},\n",
       " 'button': {'icon': 'assignment', 'color': 'primary', 'variant': 'raised'},\n",
       " 'order': ''}"
      ]
     },
     "execution_count": 47,
     "metadata": {},
     "output_type": "execute_result"
    }
   ],
   "source": [
    "at[0].__dict__"
   ]
  },
  {
   "cell_type": "code",
   "execution_count": 10,
   "metadata": {},
   "outputs": [],
   "source": [
    "company= Company.objects.get(name='Entrevias')"
   ]
  },
  {
   "cell_type": "code",
   "execution_count": 18,
   "metadata": {},
   "outputs": [],
   "source": [
    "user = User.objects.get(username__icontains=\"bassi\")"
   ]
  },
  {
   "cell_type": "code",
   "execution_count": 21,
   "metadata": {},
   "outputs": [],
   "source": [
    "perm = UserPermission.objects.filter(companies=company)"
   ]
  },
  {
   "cell_type": "code",
   "execution_count": 22,
   "metadata": {},
   "outputs": [
    {
     "data": {
      "text/plain": [
       "<QuerySet [<UserPermission: ['Entrevias'] - Terceiro>, <UserPermission: ['Entrevias'] - Sala técnica>, <UserPermission: ['Entrevias'] - ARTESP>, <UserPermission: ['Entrevias', 'Eixo SP - PoC', 'Eixo SP'] - Suporte>, <UserPermission: ['Entrevias'] - Fiscais>, <UserPermission: ['Entrevias'] - Sala técnica AMP>, <UserPermission: ['Entrevias'] - Inativo>, <UserPermission: ['Entrevias'] - Fiscal Pav.>, <UserPermission: ['Neovia Juquitiba', 'Brusque', 'Neovia Rancho Queimado 080/2021', 'Neovia Vacaria', 'Arteris Litoral Sul', 'SETA', 'Neovia Planalto Sul', 'Arteris Régis Bittencourt - Conserva', 'Neovia Lev. BR277', 'Fratello MT-220 Porto dos Gaúchos', 'Dalba L14', 'Arteris Via Paulista - SISOBRAS', 'Neovia - TESTE', 'SETA', 'VF Gomes - BR158', 'Neovia Teste', 'Neovia Florianópolis', 'PoC SISOAE', 'Neovia Tijucas', 'Campina Grande', 'Teste Migração', 'Neovia Araquari 886/2020', 'Porto Itapoá', 'Neovia Lages 421/2014', 'Neovia Régis Bittencourt', 'Afirma Engenharia Viária', 'Teste Concessionárias', 'Arteris Planalto Sul - Con', 'TESTE - CONCESSIONÁRIA', 'ECOPISTAS', 'VF Gomes - 455', 'Teste Integração - OptGIS', 'VF Gomes - 350', 'UFV Castilho', 'MTSUL - Cláudia', 'Demonstração - SISOBRAS', 'Neovia BR-285', 'Fratello MT-130 Paranatinga', 'POC-Projeto APR', 'GPS - Via Paulista', 'CV Seg - Via Sul', \"Neovia Pérola d'Oeste\", 'Demo Concessionárias - 10/2020', 'VF Gomes - 358', 'Arteris Litoral Sul - Conserva', 'Eixo SP - PoC', 'Neovia Lagoa Vermelha', 'Teste Integração - Fadami', 'Arteris Fluminense', 'Fratello BR-174/MT Pontes e Lacerda', 'Neovia São Bento 533/2014', 'Dalba L18', 'Neovia Oeste', 'Arteris Régis Bittencourt Lab', 'Sanson', 'ELO SP Vias', 'Arteris Fluminense - Teste Segurança', 'Neovia CART', 'Teste Integração - KCOR', 'Garcia Monteiro', 'Eixo SP', 'EIXO[SP] - Fx. Dom. | Qualidade | Topografia', 'Arteris Planalto Sul Lab', 'Neovia CCR Rodonorte', 'VF Gomes - BR163', 'Entrevias', 'Neovia Campo Mourão 213/2019', 'Arteris Planalto Sul - Conserva Teste', 'ELO Teste', 'Triunfo Concebra - TESTE', 'CAJ', 'Arteris Litoral Sul Lab', 'Arteris Via Paulista - SISOAE', 'Neovia Alcinópolis', 'Neovia Bocaína do Sul 329/2018', 'Neovia Cto Biguaçu', 'Demo Teste', 'Dalba Guarapuava', 'VF Gomes - BR010', 'Kartado | SIGACO', 'Dalba Guarapuava -Lote A', 'Arteris Fernão Dias', 'Projeto Formulários Arteris', 'Neovia Chapecó', 'Eixo SP - SISOAE', 'Neovia Coronel Vivida', 'Rota do Oeste', 'Castilho Umuarama', 'ConcretMolding', 'MTSUL - Matupá', 'SinalTraffic - Parnaíba', 'SinalTraffic - Teresina', 'Arteris Planalto Sul', 'CART', 'VF Gomes - Nova Lacerda', 'APG Engenharia', 'Arteris Régis Bittencourt', 'Neovia Lages 652/2019', 'Future', 'Via Brasil SISQUALI', 'Engie Umburanas', 'Cora Duarte - Ecosul', 'VF Gomes - Vila Bela', 'Neovia General Carneiro', 'Neovia Diamantino', 'Módulo Basico', 'Copavi', 'VF Gomes - Porto Espiridião', 'Arteris Intervias', 'Teste Empreitera', 'Neovia Contorno Sul', 'Ambiente Teste', 'VF Gomes - Confresa', 'Neovia Ponte Serrada', 'Demo Concessionárias', 'Arteris Fernão Dias - Conserva', 'Demo - Concessionárias', 'Arteris Planalto Sul - Conserva', 'Dalba Foz do Iguaçu', 'Arteris Via Paulista', 'Via Brasil', 'Arteris Fluminense - Conserva', 'Cuiabá Saneamento', 'UHE-ITA', 'Pavicolet', 'TESTE EMPREITEIRA 2', 'DEMO', 'TESTE EMPREITEIRA 3', 'Demonstração - Eixo SP'] - Inativo>, <UserPermission: ['Entrevias'] - Sala técnica AJR>, <UserPermission: ['Eixo SP', 'Entrevias'] - INTEGRACAO>, <UserPermission: ['Entrevias'] - Visualizador>]>"
      ]
     },
     "execution_count": 22,
     "metadata": {},
     "output_type": "execute_result"
    }
   ],
   "source": [
    "perm"
   ]
  },
  {
   "cell_type": "code",
   "execution_count": null,
   "metadata": {},
   "outputs": [],
   "source": []
  }
 ],
 "metadata": {
  "kernelspec": {
   "display_name": "Django Shell-Plus",
   "language": "python",
   "name": "django_extensions"
  },
  "language_info": {
   "codemirror_mode": {
    "name": "ipython",
    "version": 3
   },
   "file_extension": ".py",
   "mimetype": "text/x-python",
   "name": "python",
   "nbconvert_exporter": "python",
   "pygments_lexer": "ipython3",
   "version": "3.7.9"
  }
 },
 "nbformat": 4,
 "nbformat_minor": 2
}
