{
 "cells": [
  {
   "cell_type": "markdown",
   "metadata": {},
   "source": [
    "---\n",
    "# Road mark customization\n",
    "---"
   ]
  },
  {
   "cell_type": "code",
   "execution_count": 5,
   "metadata": {},
   "outputs": [],
   "source": [
    "# ---\n",
    "# LIBRARIES   \n",
    "import json\n",
    "import pandas as pd\n",
    "\n",
    "# Import name of archive without '.txt'\n",
    "name_of_archive = \"km\""
   ]
  },
  {
   "cell_type": "code",
   "execution_count": 2,
   "metadata": {},
   "outputs": [],
   "source": [
    "# ---\n",
    "# Load road.maks file and converts into a excel\n",
    "\n",
    "# ---\n",
    "# Modify archive name\n",
    "\n",
    "file = open(name_of_archive+'.txt','r+')\n",
    "\n",
    "# --\n",
    "\n",
    "str1 = file.read()\n",
    "#str1 = str1.replace({'\\n':'','\\t':''})\n",
    "\n",
    "jason = json.loads(str1) \n",
    "excel = []\n",
    "\n",
    "for item in jason:\n",
    "    excel.append([jason[item]['km'],jason[item]['point']['coordinates'][0],jason[item]['point']['coordinates'][1]])\n",
    "\n",
    "df = pd.DataFrame(excel, columns =['km','longitude (leste)','latitude (norte)'])\n",
    "df.to_excel(name_of_archive+\".xlsx\")"
   ]
  },
  {
   "cell_type": "markdown",
   "metadata": {},
   "source": [
    "---\n",
    "INSERT THE NEW POINTS INTO \"output.xlsx\" BEFORE REALOAD\n",
    "\n",
    "OBS: Before the input, check if kilometer is in order, ascending or descending"
   ]
  },
  {
   "cell_type": "code",
   "execution_count": 9,
   "metadata": {},
   "outputs": [],
   "source": [
    "# ---\n",
    "# Load EXCEL file and converts into a new json\n",
    "\n",
    "df = pd.read_excel(name_of_archive+'.xlsx', index_col=0)\n",
    "\n",
    "ind = 0\n",
    "jason = {}\n",
    "\n",
    "for row in df.iterrows():\n",
    "    \n",
    "    coordinates=[]\n",
    "    coordinates.append(row[0])\n",
    "    coordinates.append(row[1][0])\n",
    "#     print(row)\n",
    "#     print(row[1][0])\n",
    "#     print(row[0])\n",
    "    point = {\n",
    "        'type':'Point',\n",
    "        'coordinates': coordinates\n",
    "    }\n",
    "    \n",
    "    mark = {\n",
    "        'km': float(row[1][2].split(\" \")[1].replace(',','.')),\n",
    "        'point': point\n",
    "    }\n",
    "    \n",
    "    jason.update({\n",
    "        str(ind) : mark\n",
    "    })\n",
    "    \n",
    "    ind+=1\n",
    "    \n",
    "    #  ---\n",
    "    \n",
    "# with open(name_of_archive+'_alt'+'.txt', 'w') as outfile:  \n",
    "#     json.dump(jason, outfile, indent=4)"
   ]
  },
  {
   "cell_type": "code",
   "execution_count": 13,
   "metadata": {},
   "outputs": [
    {
     "data": {
      "text/plain": [
       "'{\"0\": {\"km\": 597.7, \"point\": {\"type\": \"Point\", \"coordinates\": [-56.229237, -14.526261]}}, \"1\": {\"km\": 680.1, \"point\": {\"type\": \"Point\", \"coordinates\": [-56.790036, -14.150513]}}, \"2\": {\"km\": 696.3, \"point\": {\"type\": \"Point\", \"coordinates\": [-56.939014, -14.153507]}}, \"3\": {\"km\": 742.3, \"point\": {\"type\": \"Point\", \"coordinates\": [-57.367743, -14.176846]}}, \"4\": {\"km\": 765.7, \"point\": {\"type\": \"Point\", \"coordinates\": [-57.580092, -14.194477]}}, \"5\": {\"km\": 788.3, \"point\": {\"type\": \"Point\", \"coordinates\": [-57.755546, -14.294493]}}, \"6\": {\"km\": 790.1, \"point\": {\"type\": \"Point\", \"coordinates\": [-57.772045, -14.296741]}}, \"7\": {\"km\": 811.2, \"point\": {\"type\": \"Point\", \"coordinates\": [-57.9594354693282, -14.3259486909517]}}, \"8\": {\"km\": 811.3, \"point\": {\"type\": \"Point\", \"coordinates\": [-57.9603438592109, -14.3261335411624]}}}'"
      ]
     },
     "execution_count": 13,
     "metadata": {},
     "output_type": "execute_result"
    }
   ],
   "source": [
    "j=json.dumps(jason)\n",
    "j"
   ]
  },
  {
   "cell_type": "code",
   "execution_count": 11,
   "metadata": {},
   "outputs": [
    {
     "data": {
      "text/plain": [
       "<Road: 1525: BR-364>"
      ]
     },
     "execution_count": 11,
     "metadata": {},
     "output_type": "execute_result"
    }
   ],
   "source": [
    "road=Road.objects.get(id=1525)\n",
    "road"
   ]
  },
  {
   "cell_type": "code",
   "execution_count": 36,
   "metadata": {},
   "outputs": [
    {
     "data": {
      "text/plain": [
       "{'0': {'km': 588.2,\n",
       "  'key': 0,\n",
       "  'index': 0,\n",
       "  'point': {'type': 'Point', 'coordinates': [-56.2296278, -14.5279727]}},\n",
       " '1': {'km': 588.4,\n",
       "  'key': 1,\n",
       "  'index': 7,\n",
       "  'point': {'type': 'Point',\n",
       "   'coordinates': [-56.229236832471415, -14.526261575423185]}},\n",
       " '2': {'km': 670.8,\n",
       "  'key': 2,\n",
       "  'index': 392,\n",
       "  'point': {'type': 'Point',\n",
       "   'coordinates': [-56.7900369521671, -14.150513358562135]}},\n",
       " '3': {'km': 687,\n",
       "  'key': 3,\n",
       "  'index': 425,\n",
       "  'point': {'type': 'Point',\n",
       "   'coordinates': [-56.93901401002028, -14.153507656194828]}},\n",
       " '4': {'km': 733,\n",
       "  'key': 4,\n",
       "  'index': 491,\n",
       "  'point': {'type': 'Point',\n",
       "   'coordinates': [-57.36774355410406, -14.176846524973328]}},\n",
       " '5': {'km': 756.4,\n",
       "  'key': 5,\n",
       "  'index': 537,\n",
       "  'point': {'type': 'Point',\n",
       "   'coordinates': [-57.58009202665725, -14.194477798101802]}},\n",
       " '6': {'km': 779,\n",
       "  'key': 6,\n",
       "  'index': 567,\n",
       "  'point': {'type': 'Point', 'coordinates': [-57.7555462, -14.2944939]}},\n",
       " '7': {'km': 780.8,\n",
       "  'key': 7,\n",
       "  'index': 569,\n",
       "  'point': {'type': 'Point',\n",
       "   'coordinates': [-57.772045, -14.296741666666666]}},\n",
       " '8': {'km': 802.4,\n",
       "  'key': 8,\n",
       "  'index': 611,\n",
       "  'point': {'type': 'Point', 'coordinates': [-57.9593513, -14.3259314]}}}"
      ]
     },
     "execution_count": 36,
     "metadata": {},
     "output_type": "execute_result"
    }
   ],
   "source": [
    "road.marks = jason"
   ]
  },
  {
   "cell_type": "code",
   "execution_count": null,
   "metadata": {},
   "outputs": [],
   "source": []
  }
 ],
 "metadata": {
  "kernelspec": {
   "display_name": "Django Shell-Plus",
   "language": "python",
   "name": "django_extensions"
  },
  "language_info": {
   "codemirror_mode": {
    "name": "ipython",
    "version": 3
   },
   "file_extension": ".py",
   "mimetype": "text/x-python",
   "name": "python",
   "nbconvert_exporter": "python",
   "pygments_lexer": "ipython3",
   "version": "3.7.9"
  }
 },
 "nbformat": 4,
 "nbformat_minor": 2
}
