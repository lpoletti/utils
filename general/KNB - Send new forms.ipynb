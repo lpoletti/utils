{
 "cells": [
  {
   "cell_type": "markdown",
   "metadata": {},
   "source": [
    "# Criar forms no banco de dados "
   ]
  },
  {
   "cell_type": "markdown",
   "metadata": {},
   "source": [
    " "
   ]
  },
  {
   "cell_type": "markdown",
   "metadata": {},
   "source": [
    "Deve-se executar as duas primeiras células para carregar funções utilizadas para rodar o script e verificar se está em Produção"
   ]
  },
  {
   "cell_type": "code",
   "execution_count": 9,
   "metadata": {},
   "outputs": [],
   "source": [
    "import json\n",
    "import os\n",
    "from openpyxl import load_workbook\n",
    "from datetime import timedelta\n",
    "import random\n",
    "from copy import deepcopy\n",
    "from tqdm.notebook import tqdm"
   ]
  },
  {
   "cell_type": "code",
   "execution_count": 10,
   "metadata": {},
   "outputs": [
    {
     "name": "stdout",
     "output_type": "stream",
     "text": [
      "STAGE=PRODUCTION\r\n"
     ]
    }
   ],
   "source": [
    "!cat .env"
   ]
  },
  {
   "cell_type": "markdown",
   "metadata": {},
   "source": [
    "Criando diretório com nome do arquivo"
   ]
  },
  {
   "cell_type": "code",
   "execution_count": 11,
   "metadata": {},
   "outputs": [],
   "source": [
    "!mkdir \"Modera v2\""
   ]
  },
  {
   "cell_type": "markdown",
   "metadata": {},
   "source": [
    "Movendo arquivo .zip para o diretório"
   ]
  },
  {
   "cell_type": "code",
   "execution_count": 12,
   "metadata": {},
   "outputs": [],
   "source": [
    "!mv \"Modera v2.zip\" \"Modera v2\"/"
   ]
  },
  {
   "cell_type": "markdown",
   "metadata": {},
   "source": [
    "Descompactando arquivo .zip"
   ]
  },
  {
   "cell_type": "code",
   "execution_count": 13,
   "metadata": {},
   "outputs": [
    {
     "name": "stdout",
     "output_type": "stream",
     "text": [
      "Archive:  Modera v2.zip\r\n",
      "  inflating: 82.txt                  \r\n",
      "  inflating: 83.txt                  \r\n",
      "  inflating: 84.txt                  \r\n",
      "  inflating: 85.txt                  \r\n",
      "  inflating: 86.txt                  \r\n",
      "  inflating: 87.txt                  \r\n",
      "  inflating: 88.txt                  \r\n",
      "  inflating: Modera v2.xlsx          \r\n",
      "  inflating: 1.txt                   \r\n",
      "  inflating: 2.txt                   \r\n",
      "  inflating: 3.txt                   \r\n",
      "  inflating: 4.txt                   \r\n",
      "  inflating: 5.txt                   \r\n",
      "  inflating: 6.txt                   \r\n",
      "  inflating: 7.txt                   \r\n",
      "  inflating: 8.txt                   \r\n",
      "  inflating: 9.txt                   \r\n",
      "  inflating: 10.txt                  \r\n",
      "  inflating: 11.txt                  \r\n",
      "  inflating: 12.txt                  \r\n",
      "  inflating: 13.txt                  \r\n",
      "  inflating: 14.txt                  \r\n",
      "  inflating: 15.txt                  \r\n",
      "  inflating: 16.txt                  \r\n",
      "  inflating: 17.txt                  \r\n",
      "  inflating: 18.txt                  \r\n",
      "  inflating: 19.txt                  \r\n",
      "  inflating: 20.txt                  \r\n",
      "  inflating: 21.txt                  \r\n",
      "  inflating: 22.txt                  \r\n",
      "  inflating: 23.txt                  \r\n",
      "  inflating: 24.txt                  \r\n",
      "  inflating: 25.txt                  \r\n",
      "  inflating: 26.txt                  \r\n",
      "  inflating: 27.txt                  \r\n",
      "  inflating: 28.txt                  \r\n",
      "  inflating: 29.txt                  \r\n",
      "  inflating: 30.txt                  \r\n",
      "  inflating: 31.txt                  \r\n",
      "  inflating: 32.txt                  \r\n",
      "  inflating: 33.txt                  \r\n",
      "  inflating: 34.txt                  \r\n",
      "  inflating: 35.txt                  \r\n",
      "  inflating: 36.txt                  \r\n",
      "  inflating: 37.txt                  \r\n",
      "  inflating: 38.txt                  \r\n",
      "  inflating: 39.txt                  \r\n",
      "  inflating: 40.txt                  \r\n",
      "  inflating: 41.txt                  \r\n",
      "  inflating: 42.txt                  \r\n",
      "  inflating: 43.txt                  \r\n",
      "  inflating: 44.txt                  \r\n",
      "  inflating: 45.txt                  \r\n",
      "  inflating: 46.txt                  \r\n",
      "  inflating: 47.txt                  \r\n",
      "  inflating: 48.txt                  \r\n",
      "  inflating: 49.txt                  \r\n",
      "  inflating: 50.txt                  \r\n",
      "  inflating: 51.txt                  \r\n",
      "  inflating: 52.txt                  \r\n",
      "  inflating: 53.txt                  \r\n",
      "  inflating: 54.txt                  \r\n",
      "  inflating: 55.txt                  \r\n",
      "  inflating: 56.txt                  \r\n",
      "  inflating: 57.txt                  \r\n",
      "  inflating: 58.txt                  \r\n",
      "  inflating: 59.txt                  \r\n",
      "  inflating: 60.txt                  \r\n",
      "  inflating: 61.txt                  \r\n",
      "  inflating: 62.txt                  \r\n",
      "  inflating: 63.txt                  \r\n",
      "  inflating: 64.txt                  \r\n",
      "  inflating: 65.txt                  \r\n",
      "  inflating: 66.txt                  \r\n",
      "  inflating: 67.txt                  \r\n",
      "  inflating: 68.txt                  \r\n",
      "  inflating: 69.txt                  \r\n",
      "  inflating: 70.txt                  \r\n",
      "  inflating: 71.txt                  \r\n",
      "  inflating: 72.txt                  \r\n",
      "  inflating: 73.txt                  \r\n",
      "  inflating: 74.txt                  \r\n",
      "  inflating: 75.txt                  \r\n",
      "  inflating: 76.txt                  \r\n",
      "  inflating: 77.txt                  \r\n",
      "  inflating: 78.txt                  \r\n",
      "  inflating: 79.txt                  \r\n",
      "  inflating: 80.txt                  \r\n",
      "  inflating: 81.txt                  \r\n"
     ]
    }
   ],
   "source": [
    "!cd \"Modera v2\"/ && unzip \"Modera v2.zip\""
   ]
  },
  {
   "cell_type": "markdown",
   "metadata": {},
   "source": [
    "Necessário executar somente se estiver no MAC"
   ]
  },
  {
   "cell_type": "code",
   "execution_count": 14,
   "metadata": {},
   "outputs": [],
   "source": [
    "!cd \"Modera v2\"/ && rm -rf __MACOSX"
   ]
  },
  {
   "cell_type": "markdown",
   "metadata": {},
   "source": [
    "Deletando arquivo .zip"
   ]
  },
  {
   "cell_type": "code",
   "execution_count": 15,
   "metadata": {},
   "outputs": [],
   "source": [
    "!cd \"Modera v2\"/ && rm \"Modera v2.zip\""
   ]
  },
  {
   "cell_type": "markdown",
   "metadata": {},
   "source": [
    "Escolhendo a unidade que desejar"
   ]
  },
  {
   "cell_type": "code",
   "execution_count": 25,
   "metadata": {},
   "outputs": [
    {
     "data": {
      "text/plain": [
       "<Company: 31ba4470-cdfd-48ff-a513-8d9859f4a4a9: Modera>"
      ]
     },
     "execution_count": 25,
     "metadata": {},
     "output_type": "execute_result"
    }
   ],
   "source": [
    "company = Company.objects.get(name=\"Modera\")\n",
    "company"
   ]
  },
  {
   "cell_type": "markdown",
   "metadata": {},
   "source": [
    "Carregando e contando os OccurrenceTypes já existentes no sistema (para utilização na parte opcional)"
   ]
  },
  {
   "cell_type": "code",
   "execution_count": 26,
   "metadata": {},
   "outputs": [],
   "source": [
    "old_forms = OccurrenceType.objects.filter(company=company)\n",
    "for a in old_forms:\n",
    "    print(a.name)"
   ]
  },
  {
   "cell_type": "markdown",
   "metadata": {},
   "source": [
    "Carregando os dados dos arquivos .txt gerados"
   ]
  },
  {
   "cell_type": "code",
   "execution_count": 27,
   "metadata": {},
   "outputs": [
    {
     "name": "stdout",
     "output_type": "stream",
     "text": [
      "------\n",
      "Modera v2/34.txt\n",
      "Drenagem de túneis\n",
      "------\n",
      "Modera v2/12.txt\n",
      "Reposição de material em vias secundárias não pavimentadas\n",
      "------\n",
      "Modera v2/7.txt\n",
      "Reparo/correção de panelas ou buracos - Pav. rígido\n",
      "------\n",
      "Modera v2/24.txt\n",
      "Remoção de animais mortos e sepultamento\n",
      "------\n",
      "Modera v2/67.txt\n",
      "Instalação de sinalização de balizadores\n",
      "------\n",
      "Modera v2/51.txt\n",
      "Controle de processos erosivos e de assoreamento\n",
      "------\n",
      "Modera v2/57.txt\n",
      "Posicionamento de sinalização vertical\n",
      "------\n",
      "Modera v2/81.txt\n",
      "Limpeza ou pintura das superfícies expostas ao tráfego\n",
      "------\n",
      "Modera v2/65.txt\n",
      "Posicionamento de sinalização de defensa metálica\n",
      "------\n",
      "Modera v2/1.txt\n",
      "Reparo/correção de panela ou buraco - Pav. flexível/Semi rígido\n",
      "------\n",
      "Modera v2/74.txt\n",
      "Retrorefletividade de tachas refletivas\n",
      "------\n",
      "Modera v2/26.txt\n",
      "Recomposição de erosão em aterro e/ou corte.\n",
      "------\n",
      "Modera v2/5.txt\n",
      "Selagem de trincas\n",
      "------\n",
      "Modera v2/70.txt\n",
      "Retrorefletividade de sinalização de balizadores\n",
      "------\n",
      "Modera v2/66.txt\n",
      "Retrorefletividade de sinalização de defensa metálica\n",
      "------\n",
      "Modera v2/14.txt\n",
      "Poda mecanizada\n",
      "------\n",
      "Modera v2/42.txt\n",
      "Limpeza, lavagem ou pintura de dispositivos antiofuscamento\n",
      "------\n",
      "Modera v2/50.txt\n",
      "Controle de contaminação do solo e da água \n",
      "------\n",
      "Modera v2/46.txt\n",
      "Limpeza, lavagem ou pintura de guarda-corpos e balaústres\n",
      "------\n",
      "Modera v2/32.txt\n",
      "Reparo de elementos de drenagem superficial - taludes.\n",
      "------\n",
      "Modera v2/8.txt\n",
      "Reparo/correção de depressão em encontro de obra de arte  - Pav. rígido\n",
      "------\n",
      "Modera v2/43.txt\n",
      "Reparo e/ou reposição de vedos, cercas, alambrados e telas\n",
      "------\n",
      "Modera v2/3.txt\n",
      "Reparo de depressão ou recalque de pequena extensão\n",
      "------\n",
      "Modera v2/20.txt\n",
      "Remoção de lixo doméstico das instalações operacionais e de suporte\n",
      "------\n",
      "Modera v2/56.txt\n",
      "Limpeza/Conservação de sinalização vertical\n",
      "------\n",
      "Modera v2/59.txt\n",
      "Instalação de sinalização horizontal\n",
      "------\n",
      "Modera v2/86.txt\n",
      "Presença de banheiro químico nas frentes de serviço\n",
      "------\n",
      "Modera v2/31.txt\n",
      "Limpeza geral de drenagem superficial - taludes.\n",
      "------\n",
      "Modera v2/78.txt\n",
      "Conservação de luzes de advertência\n",
      "------\n",
      "Modera v2/47.txt\n",
      "Remoção e/ou reposição de dispositivos amortecedores de impacto\n",
      "------\n",
      "Modera v2/53.txt\n",
      "Ocorrências com fauna doméstica e/ou silvestre\n",
      "------\n",
      "Modera v2/63.txt\n",
      "Instalação de sinalização de defensa metálica\n",
      "------\n",
      "Modera v2/11.txt\n",
      "Reconformação de subtrechos de vias secundárias não pavimentadas\n",
      "------\n",
      "Modera v2/44.txt\n",
      "Remoção e/ou reposição de guarda-corpos e balaústres\n",
      "------\n",
      "Modera v2/72.txt\n",
      "Conservação de tachas refletivas\n",
      "------\n",
      "Modera v2/77.txt\n",
      "Instalação de luzes de advertência\n",
      "------\n",
      "Modera v2/36.txt\n",
      "Reparo de defensas metálicas\n",
      "------\n",
      "Modera v2/49.txt\n",
      "Organização e Limpeza nas frentes de serviço e na faixa de domínio\n",
      "------\n",
      "Modera v2/15.txt\n",
      "Capina\n",
      "------\n",
      "Modera v2/9.txt\n",
      " Limpeza e resselagem de juntas e trincas\n",
      "------\n",
      "Modera v2/28.txt\n",
      "Remoção de degrau e regularização do terreno.\n",
      "------\n",
      "Modera v2/35.txt\n",
      "Remoção e/ou reposição de defensas metálicas\n",
      "------\n",
      "Modera v2/37.txt\n",
      "Limpeza, lavagem ou pintura de defensas metálicas\n",
      "------\n",
      "Modera v2/68.txt\n",
      "Conservação de sinalização de balizadores\n",
      "------\n",
      "Modera v2/25.txt\n",
      "Limpeza geral de canais e corta-rios\n",
      "------\n",
      "Modera v2/60.txt\n",
      "Conservação de sinalização horizontal\n",
      "------\n",
      "Modera v2/45.txt\n",
      "Reparo de guarda-corpos e balaústres\n",
      "------\n",
      "Modera v2/2.txt\n",
      "Reparo/correção de depressão em encontro de obra de arte  - Pav. flexível/Semi rígido\n",
      "------\n",
      "Modera v2/69.txt\n",
      "Posicionamento de sinalização de balizadores\n",
      "------\n",
      "Modera v2/83.txt\n",
      "Substituição de aparelho de apoio deteriorado ou com deformação excessiva\n",
      "------\n",
      "Modera v2/58.txt\n",
      "Retrorefletividade de sinalização vertical\n",
      "------\n",
      "Modera v2/55.txt\n",
      "Instalação de sinalização vertical\n",
      "------\n",
      "Modera v2/61.txt\n",
      "Posicionamento de sinalização horizontal\n",
      "------\n",
      "Modera v2/21.txt\n",
      "Remoção de lixo e entulho da faixa de domínio\n",
      "------\n",
      "Modera v2/6.txt\n",
      "Correção de degrau entre a pista e acostamento não pavimentado\n",
      "------\n",
      "Modera v2/62.txt\n",
      "Retrorefletividade de sinalização horizontal\n",
      "------\n",
      "Modera v2/76.txt\n",
      "Conservação de semáforos\n",
      "------\n",
      "Modera v2/29.txt\n",
      "Limpeza geral de drenagem superficial - acostamentos e canteiro central.\n",
      "------\n",
      "Modera v2/80.txt\n",
      "Conservação de painéis de mensagem\n",
      "------\n",
      "Modera v2/73.txt\n",
      "Posicionamento de tachas refletivas\n",
      "------\n",
      "Modera v2/30.txt\n",
      "Reparo de elementos de drenagem superficial - acostamentos e canteiro central.\n",
      "------\n",
      "Modera v2/39.txt\n",
      "Limpeza, lavagem ou pintura de barreiras de concreto\n",
      "------\n",
      "Modera v2/38.txt\n",
      "Reparo de barreiras de concreto\n",
      "------\n",
      "Modera v2/22.txt\n",
      "Limpeza e varredura de áreas pavimentadas sujeitas a deposição de detritos\n",
      "------\n",
      "Modera v2/84.txt\n",
      "Conservação preventiva/corretiva nos prédios e pátios operacionais e de suporte\n",
      "------\n",
      "Modera v2/10.txt\n",
      " Reparo/correção de bordos e lajes quebrados\n",
      "------\n",
      "Modera v2/13.txt\n",
      "Poda manual\n",
      "------\n",
      "Modera v2/75.txt\n",
      "Instalação de semáforos\n",
      "------\n",
      "Modera v2/23.txt\n",
      "Limpeza de canteiro central pavimentado\n",
      "------\n",
      "Modera v2/64.txt\n",
      "Conservação de sinalização de defensa metálica\n",
      "------\n",
      "Modera v2/48.txt\n",
      "Limpeza, lavagem ou pintura de dispositivos amortecedores de impacto\n",
      "------\n",
      "Modera v2/41.txt\n",
      "Reparo de dispositivos antiofuscamento\n",
      "------\n",
      "Modera v2/87.txt\n",
      "Armazenamento de produtos e acomodação de equipamentos (geradores, máquinas)\n",
      "------\n",
      "Modera v2/79.txt\n",
      "Instalação de painéis de mensagem\n",
      "------\n",
      "Modera v2/16.txt\n",
      "Conservação de Aceiros.\n",
      "------\n",
      "Modera v2/40.txt\n",
      "Remoção e/ou reposição de dispositivos antiofuscamento\n",
      "------\n",
      "Modera v2/33.txt\n",
      "Dasassoreamento de Bueiros, galerias, drenos e caixas de captação\n",
      "------\n",
      "Modera v2/4.txt\n",
      "Substituição/reparo de pano de rolamento\n",
      "------\n",
      "Modera v2/27.txt\n",
      "Limpeza e Conservação\n",
      "------\n",
      "Modera v2/82.txt\n",
      "Substituição/manutenção de junta de dilatação danificada\n",
      "------\n",
      "Modera v2/88.txt\n",
      "Impacto ao Meio Ambiente no serviço de concretagem\n",
      "------\n",
      "Modera v2/54.txt\n",
      "Análise de documentos, licenças e outorgas.\n",
      "------\n",
      "Modera v2/18.txt\n",
      "Corte e poda de árvores e arbustos\n",
      "------\n",
      "Modera v2/19.txt\n",
      "Recuperação do revestimento vegetal\n",
      "------\n",
      "Modera v2/85.txt\n",
      "Ocupações e construções irregulares;\n",
      "------\n",
      "Modera v2/71.txt\n",
      "Instalação de tachas refletivas\n",
      "------\n",
      "Modera v2/52.txt\n",
      "Irregularidades na faixa de domínio\n",
      "------\n",
      "Modera v2/17.txt\n",
      "Despraguejamento\n"
     ]
    }
   ],
   "source": [
    "new_forms = []\n",
    "\n",
    "for index, file in enumerate(os.listdir('Modera v2')):\n",
    "    if not '.txt' in file:\n",
    "        continue\n",
    "    file_name = 'Modera v2/{}'.format(file)\n",
    "    print('------')\n",
    "    print(file_name)\n",
    "    with open(file_name, 'r+') as fo:\n",
    "        form = json.load(fo)\n",
    "        print(form['displayName'])\n",
    "        new_forms.append(form)"
   ]
  },
  {
   "cell_type": "markdown",
   "metadata": {},
   "source": [
    "Testando form para conferir se dados foram carregados corretamente"
   ]
  },
  {
   "cell_type": "code",
   "execution_count": 28,
   "metadata": {},
   "outputs": [
    {
     "data": {
      "text/plain": [
       "{'id': 34,\n",
       " 'name': 'Drenagem de túneis',\n",
       " 'displayName': 'Drenagem de túneis',\n",
       " 'fields': [{'displayName': 'Comprimento',\n",
       "   'apiName': 'comprimento',\n",
       "   'dataType': 'float',\n",
       "   'unit': 'm',\n",
       "   'id': 1},\n",
       "  {'displayName': 'Largura',\n",
       "   'apiName': 'largura',\n",
       "   'dataType': 'float',\n",
       "   'unit': 'm',\n",
       "   'id': 2},\n",
       "  {'displayName': 'Espessura',\n",
       "   'apiName': 'espessura',\n",
       "   'dataType': 'float',\n",
       "   'unit': 'cm',\n",
       "   'id': 3},\n",
       "  {'displayName': 'Área',\n",
       "   'apiName': 'area',\n",
       "   'dataType': 'float',\n",
       "   'autofill': {'if': [{'missing': ['formData.largura',\n",
       "       'formData.comprimento']},\n",
       "     0,\n",
       "     {'*': [{'var': 'formData.largura'}, {'var': 'formData.comprimento'}]}]},\n",
       "   'disableIf': True,\n",
       "   'unit': 'm²',\n",
       "   'id': 4},\n",
       "  {'displayName': 'Volume',\n",
       "   'apiName': 'volume',\n",
       "   'dataType': 'float',\n",
       "   'autofill': {'if': [{'missing': ['formData.largura',\n",
       "       'formData.comprimento',\n",
       "       'formData.espessura']},\n",
       "     0,\n",
       "     {'*': [0.01,\n",
       "       {'var': 'formData.largura'},\n",
       "       {'var': 'formData.comprimento'},\n",
       "       {'var': 'formData.espessura'}]}]},\n",
       "   'disableIf': True,\n",
       "   'unit': 'm³',\n",
       "   'id': 5},\n",
       "  {'displayName': 'Unidade (und)',\n",
       "   'apiName': 'descunidade',\n",
       "   'dataType': 'float',\n",
       "   'id': 6},\n",
       "  {'displayName': 'Observações',\n",
       "   'apiName': 'observacoes',\n",
       "   'dataType': 'textArea',\n",
       "   'id': 7}],\n",
       " 'groups': [{'order': 1,\n",
       "   'members': [1, 2, 3, 4, 5, 6, 7],\n",
       "   'displayName': 'Características'}],\n",
       " 'measurementColumns': [{'key': 'comprimento',\n",
       "   'header': 'Comprimento',\n",
       "   'logic': {'var': 'formData.comprimento'}},\n",
       "  {'key': 'largura',\n",
       "   'header': 'Largura',\n",
       "   'logic': {'var': 'formData.largura'}},\n",
       "  {'key': 'espessura',\n",
       "   'header': 'Espessura',\n",
       "   'logic': {'var': 'formData.espessura'}},\n",
       "  {'key': 'area', 'header': 'Área', 'logic': {'var': 'formData.area'}},\n",
       "  {'key': 'volume', 'header': 'Volume', 'logic': {'var': 'formData.volume'}},\n",
       "  {'key': 'descunidade',\n",
       "   'header': 'Unidade (und)',\n",
       "   'logic': {'var': 'formData.descunidade'}},\n",
       "  {'key': 'observacoes',\n",
       "   'header': 'Observações',\n",
       "   'logic': {'var': 'formData.observacoes'}}]}"
      ]
     },
     "execution_count": 28,
     "metadata": {},
     "output_type": "execute_result"
    }
   ],
   "source": [
    "new_forms[0]"
   ]
  },
  {
   "cell_type": "markdown",
   "metadata": {},
   "source": [
    "Escolhendo nome do arquivo Excel para carregar as Classes"
   ]
  },
  {
   "cell_type": "code",
   "execution_count": 29,
   "metadata": {},
   "outputs": [],
   "source": [
    "filename = \"Modera v2/Modera v2\""
   ]
  },
  {
   "cell_type": "markdown",
   "metadata": {},
   "source": [
    "Escolhendo a aba da planilha do Excel\n",
    "Obs: atenção para escolher a aba correta da planilha"
   ]
  },
  {
   "cell_type": "code",
   "execution_count": 30,
   "metadata": {},
   "outputs": [],
   "source": [
    "wb = load_workbook(filename + \".xlsx\")\n",
    "# sheetname = wb.sheetnames[8]\n",
    "ws = wb['Classes']"
   ]
  },
  {
   "cell_type": "markdown",
   "metadata": {},
   "source": [
    "Testando planilha carregada do Excel"
   ]
  },
  {
   "cell_type": "code",
   "execution_count": 31,
   "metadata": {},
   "outputs": [
    {
     "name": "stdout",
     "output_type": "stream",
     "text": [
      "Cor\n"
     ]
    }
   ],
   "source": [
    "print(ws['A1'].value)"
   ]
  },
  {
   "cell_type": "markdown",
   "metadata": {},
   "source": [
    "Carregando as classes no script"
   ]
  },
  {
   "cell_type": "code",
   "execution_count": 32,
   "metadata": {},
   "outputs": [],
   "source": [
    "header = []\n",
    "values = []\n",
    "\n",
    "for index, row in enumerate(ws.rows):\n",
    "    if index == 0:\n",
    "        header = list([a.value for a in row])\n",
    "        continue\n",
    "    obj = {}\n",
    "    for col_index, cell in enumerate(row):\n",
    "        value = cell.value\n",
    "        obj[header[col_index]] = value\n",
    "    values.append(obj)"
   ]
  },
  {
   "cell_type": "markdown",
   "metadata": {},
   "source": [
    "Testando as configurações das Classes para conferir se dados foram carregados corretamente"
   ]
  },
  {
   "cell_type": "code",
   "execution_count": 33,
   "metadata": {},
   "outputs": [
    {
     "data": {
      "text/plain": [
       "{'Cor': None,\n",
       " 'Classe': 'Reparo/correção de panela ou buraco - Pav. flexível/Semi rígido',\n",
       " 'id': 1,\n",
       " 'Prazo': None,\n",
       " 'Natureza': 'Pavimento Flexível e Semi rígido',\n",
       " 'id_Natureza': 3}"
      ]
     },
     "execution_count": 33,
     "metadata": {},
     "output_type": "execute_result"
    }
   ],
   "source": [
    "values[0]"
   ]
  },
  {
   "cell_type": "markdown",
   "metadata": {},
   "source": [
    "Inserindo as informações de Natureza e Prazo no form"
   ]
  },
  {
   "cell_type": "code",
   "execution_count": 34,
   "metadata": {},
   "outputs": [],
   "source": [
    "for a in values:\n",
    "    if a['Classe'] not in [x['displayName'] for x in new_forms]:\n",
    "        print(a['Classe'])"
   ]
  },
  {
   "cell_type": "code",
   "execution_count": 35,
   "metadata": {},
   "outputs": [],
   "source": [
    "for a in new_forms:\n",
    "    if a['displayName'] not in [x['Classe'] for x in values]:\n",
    "        print(a['displayName'])"
   ]
  },
  {
   "cell_type": "code",
   "execution_count": 36,
   "metadata": {},
   "outputs": [],
   "source": [
    "for form in new_forms:\n",
    "    if form['displayName'] not in [a['Classe'] for a in values]:\n",
    "        print(form['displayName'])\n",
    "    else:\n",
    "#         row = next(a for a in values if a['id'] == form['id'])\n",
    "        row = next(a for a in values if a['Classe'] == form['displayName'])\n",
    "#         print(form['displayName'], row['id_Natureza'])\n",
    "        form['kind'] = row['id_Natureza']\n",
    "#         print(form['kind'])\n",
    "\n",
    "        if row['Prazo']:\n",
    "            if 'horas' in row['Prazo']:\n",
    "                form['deadline'] = timedelta(hours=int(row['Prazo'].split(' ')[0]))\n",
    "            elif 'dias' or 'dia' in row['Prazo']:\n",
    "                form['deadline'] = timedelta(days=int(row['Prazo'].split(' ')[0]))\n",
    "            else:\n",
    "                print('DEU RUIM')"
   ]
  },
  {
   "cell_type": "markdown",
   "metadata": {},
   "source": [
    "Testando o form modificado"
   ]
  },
  {
   "cell_type": "code",
   "execution_count": 37,
   "metadata": {},
   "outputs": [
    {
     "data": {
      "text/plain": [
       "{'id': 34,\n",
       " 'name': 'Drenagem de túneis',\n",
       " 'displayName': 'Drenagem de túneis',\n",
       " 'fields': [{'displayName': 'Comprimento',\n",
       "   'apiName': 'comprimento',\n",
       "   'dataType': 'float',\n",
       "   'unit': 'm',\n",
       "   'id': 1},\n",
       "  {'displayName': 'Largura',\n",
       "   'apiName': 'largura',\n",
       "   'dataType': 'float',\n",
       "   'unit': 'm',\n",
       "   'id': 2},\n",
       "  {'displayName': 'Espessura',\n",
       "   'apiName': 'espessura',\n",
       "   'dataType': 'float',\n",
       "   'unit': 'cm',\n",
       "   'id': 3},\n",
       "  {'displayName': 'Área',\n",
       "   'apiName': 'area',\n",
       "   'dataType': 'float',\n",
       "   'autofill': {'if': [{'missing': ['formData.largura',\n",
       "       'formData.comprimento']},\n",
       "     0,\n",
       "     {'*': [{'var': 'formData.largura'}, {'var': 'formData.comprimento'}]}]},\n",
       "   'disableIf': True,\n",
       "   'unit': 'm²',\n",
       "   'id': 4},\n",
       "  {'displayName': 'Volume',\n",
       "   'apiName': 'volume',\n",
       "   'dataType': 'float',\n",
       "   'autofill': {'if': [{'missing': ['formData.largura',\n",
       "       'formData.comprimento',\n",
       "       'formData.espessura']},\n",
       "     0,\n",
       "     {'*': [0.01,\n",
       "       {'var': 'formData.largura'},\n",
       "       {'var': 'formData.comprimento'},\n",
       "       {'var': 'formData.espessura'}]}]},\n",
       "   'disableIf': True,\n",
       "   'unit': 'm³',\n",
       "   'id': 5},\n",
       "  {'displayName': 'Unidade (und)',\n",
       "   'apiName': 'descunidade',\n",
       "   'dataType': 'float',\n",
       "   'id': 6},\n",
       "  {'displayName': 'Observações',\n",
       "   'apiName': 'observacoes',\n",
       "   'dataType': 'textArea',\n",
       "   'id': 7}],\n",
       " 'groups': [{'order': 1,\n",
       "   'members': [1, 2, 3, 4, 5, 6, 7],\n",
       "   'displayName': 'Características'}],\n",
       " 'measurementColumns': [{'key': 'comprimento',\n",
       "   'header': 'Comprimento',\n",
       "   'logic': {'var': 'formData.comprimento'}},\n",
       "  {'key': 'largura',\n",
       "   'header': 'Largura',\n",
       "   'logic': {'var': 'formData.largura'}},\n",
       "  {'key': 'espessura',\n",
       "   'header': 'Espessura',\n",
       "   'logic': {'var': 'formData.espessura'}},\n",
       "  {'key': 'area', 'header': 'Área', 'logic': {'var': 'formData.area'}},\n",
       "  {'key': 'volume', 'header': 'Volume', 'logic': {'var': 'formData.volume'}},\n",
       "  {'key': 'descunidade',\n",
       "   'header': 'Unidade (und)',\n",
       "   'logic': {'var': 'formData.descunidade'}},\n",
       "  {'key': 'observacoes',\n",
       "   'header': 'Observações',\n",
       "   'logic': {'var': 'formData.observacoes'}}],\n",
       " 'kind': 13}"
      ]
     },
     "execution_count": 37,
     "metadata": {},
     "output_type": "execute_result"
    }
   ],
   "source": [
    "new_forms[0]"
   ]
  },
  {
   "cell_type": "markdown",
   "metadata": {},
   "source": [
    "Criando novos OccurrenceTypes com as informações dos forms modificados"
   ]
  },
  {
   "cell_type": "code",
   "execution_count": 38,
   "metadata": {},
   "outputs": [
    {
     "name": "stdout",
     "output_type": "stream",
     "text": [
      "\n",
      "\n",
      "88\n"
     ]
    }
   ],
   "source": [
    "occurrence_types = []\n",
    "counter=0\n",
    "\n",
    "for form in new_forms:\n",
    "    form_copy = deepcopy(form)\n",
    "    if 'deadline' in form_copy.keys():\n",
    "        del form_copy['deadline']\n",
    "    if 'kind' in form_copy.keys():\n",
    "        del form_copy['kind']\n",
    "    \n",
    "    occurrence_type = OccurrenceType(\n",
    "        name=form['displayName'].strip(),\n",
    "        occurrence_kind=form['kind'],\n",
    "        form_fields=form_copy,\n",
    "        created_by=User.objects.get(username='rlcs'),\n",
    "        deadline= form['deadline'] if 'deadline' in form else None\n",
    "    )\n",
    "#     print(occurrence_type)\n",
    "    occurrence_types.append(occurrence_type)\n",
    "    counter+=1\n",
    "\n",
    "print(\"\\n\")\n",
    "print(counter)"
   ]
  },
  {
   "cell_type": "markdown",
   "metadata": {},
   "source": [
    "Testando OccurrenceType criado"
   ]
  },
  {
   "cell_type": "code",
   "execution_count": 39,
   "metadata": {
    "scrolled": true
   },
   "outputs": [
    {
     "data": {
      "text/plain": [
       "{'id': 34,\n",
       " 'name': 'Drenagem de túneis',\n",
       " 'displayName': 'Drenagem de túneis',\n",
       " 'fields': [{'displayName': 'Comprimento',\n",
       "   'apiName': 'comprimento',\n",
       "   'dataType': 'float',\n",
       "   'unit': 'm',\n",
       "   'id': 1},\n",
       "  {'displayName': 'Largura',\n",
       "   'apiName': 'largura',\n",
       "   'dataType': 'float',\n",
       "   'unit': 'm',\n",
       "   'id': 2},\n",
       "  {'displayName': 'Espessura',\n",
       "   'apiName': 'espessura',\n",
       "   'dataType': 'float',\n",
       "   'unit': 'cm',\n",
       "   'id': 3},\n",
       "  {'displayName': 'Área',\n",
       "   'apiName': 'area',\n",
       "   'dataType': 'float',\n",
       "   'autofill': {'if': [{'missing': ['formData.largura',\n",
       "       'formData.comprimento']},\n",
       "     0,\n",
       "     {'*': [{'var': 'formData.largura'}, {'var': 'formData.comprimento'}]}]},\n",
       "   'disableIf': True,\n",
       "   'unit': 'm²',\n",
       "   'id': 4},\n",
       "  {'displayName': 'Volume',\n",
       "   'apiName': 'volume',\n",
       "   'dataType': 'float',\n",
       "   'autofill': {'if': [{'missing': ['formData.largura',\n",
       "       'formData.comprimento',\n",
       "       'formData.espessura']},\n",
       "     0,\n",
       "     {'*': [0.01,\n",
       "       {'var': 'formData.largura'},\n",
       "       {'var': 'formData.comprimento'},\n",
       "       {'var': 'formData.espessura'}]}]},\n",
       "   'disableIf': True,\n",
       "   'unit': 'm³',\n",
       "   'id': 5},\n",
       "  {'displayName': 'Unidade (und)',\n",
       "   'apiName': 'descunidade',\n",
       "   'dataType': 'float',\n",
       "   'id': 6},\n",
       "  {'displayName': 'Observações',\n",
       "   'apiName': 'observacoes',\n",
       "   'dataType': 'textArea',\n",
       "   'id': 7}],\n",
       " 'groups': [{'order': 1,\n",
       "   'members': [1, 2, 3, 4, 5, 6, 7],\n",
       "   'displayName': 'Características'}],\n",
       " 'measurementColumns': [{'key': 'comprimento',\n",
       "   'header': 'Comprimento',\n",
       "   'logic': {'var': 'formData.comprimento'}},\n",
       "  {'key': 'largura',\n",
       "   'header': 'Largura',\n",
       "   'logic': {'var': 'formData.largura'}},\n",
       "  {'key': 'espessura',\n",
       "   'header': 'Espessura',\n",
       "   'logic': {'var': 'formData.espessura'}},\n",
       "  {'key': 'area', 'header': 'Área', 'logic': {'var': 'formData.area'}},\n",
       "  {'key': 'volume', 'header': 'Volume', 'logic': {'var': 'formData.volume'}},\n",
       "  {'key': 'descunidade',\n",
       "   'header': 'Unidade (und)',\n",
       "   'logic': {'var': 'formData.descunidade'}},\n",
       "  {'key': 'observacoes',\n",
       "   'header': 'Observações',\n",
       "   'logic': {'var': 'formData.observacoes'}}]}"
      ]
     },
     "execution_count": 39,
     "metadata": {},
     "output_type": "execute_result"
    }
   ],
   "source": [
    "occurrence_types[0].form_fields"
   ]
  },
  {
   "cell_type": "markdown",
   "metadata": {},
   "source": [
    " "
   ]
  },
  {
   "cell_type": "markdown",
   "metadata": {},
   "source": [
    "## Atenção! Este passo modifica informações do banco de dados"
   ]
  },
  {
   "cell_type": "markdown",
   "metadata": {},
   "source": [
    "Salva os OccurrenceTypes criados no sistema, assim como cria e salva os OccurrenceTypeSpecs"
   ]
  },
  {
   "cell_type": "code",
   "execution_count": 40,
   "metadata": {},
   "outputs": [
    {
     "data": {
      "application/vnd.jupyter.widget-view+json": {
       "model_id": "302757836d5040c9b4debbaa0f3327df",
       "version_major": 2,
       "version_minor": 0
      },
      "text/plain": [
       "  0%|          | 0/88 [00:00<?, ?it/s]"
      ]
     },
     "metadata": {},
     "output_type": "display_data"
    }
   ],
   "source": [
    "for occurrence_type in tqdm(occurrence_types):\n",
    "#     if occurrence_type.name.strip() not in [a.name.strip() for a in old_forms]:\n",
    "    occurrence_type.save()\n",
    "    spec = OccurrenceTypeSpecs(\n",
    "        occurrence_type = occurrence_type,\n",
    "        company = company,\n",
    "        color = \"#\"+''.join([random.choice('0123456789ABCDEF') for j in range(6)])\n",
    "    )\n",
    "    spec.save()"
   ]
  },
  {
   "cell_type": "markdown",
   "metadata": {},
   "source": [
    "# Começo da parte opcional"
   ]
  },
  {
   "cell_type": "markdown",
   "metadata": {},
   "source": [
    "Escolhendo a aba de \"De/Para\" e carregando os dados no sistema\n",
    "Obs: atenção para escolher a aba correta da planilha"
   ]
  },
  {
   "cell_type": "code",
   "execution_count": 39,
   "metadata": {},
   "outputs": [
    {
     "name": "stderr",
     "output_type": "stream",
     "text": [
      "/home/ubuntu/hidros-backend/venv/lib/python3.6/site-packages/openpyxl/worksheet/_reader.py:300: UserWarning: Data Validation extension is not supported and will be removed\n",
      "  warn(msg)\n"
     ]
    }
   ],
   "source": [
    "# Opcional\n",
    "\n",
    "wb = load_workbook(filename + \".xlsx\")\n",
    "sheetname = wb.sheetnames[2]\n",
    "ws = wb[sheetname]\n",
    "\n",
    "header = []\n",
    "values = []\n",
    "\n",
    "for index, row in enumerate(ws.rows):\n",
    "    if index == 0:\n",
    "        header = list([a.value for a in row])\n",
    "        continue\n",
    "    obj = {}\n",
    "    for col_index, cell in enumerate(row):\n",
    "        value = cell.value\n",
    "        obj[header[col_index]] = value\n",
    "    values.append(obj)"
   ]
  },
  {
   "cell_type": "markdown",
   "metadata": {},
   "source": [
    "Testando para ver se os dados foram carregados com sucesso"
   ]
  },
  {
   "cell_type": "code",
   "execution_count": 26,
   "metadata": {},
   "outputs": [
    {
     "data": {
      "text/plain": [
       "{'Natureza': 'Apontamento',\n",
       " 'Classe Antiga': 'CAIAÇÃO COM FIXADOR DE CAL',\n",
       " 'Classe Nova': 'CAIAÇÃO COM FIXADOR DE CAL',\n",
       " None: None,\n",
       " 'Legenda': 'Não há correspondencia',\n",
       " 'Normal': 'Sem correspondencia \"para\"'}"
      ]
     },
     "execution_count": 26,
     "metadata": {},
     "output_type": "execute_result"
    }
   ],
   "source": [
    "values[0]\n",
    "# occurrence_types[0].__dict__\n",
    "# old_forms[0].name\n",
    "# type(old_forms)\n",
    "# old_forms[0].__dict__"
   ]
  },
  {
   "cell_type": "code",
   "execution_count": 40,
   "metadata": {},
   "outputs": [
    {
     "name": "stdout",
     "output_type": "stream",
     "text": [
      "CAIAÇÃO COM FIXADOR DE CAL \t CAIAÇÃO COM FIXADOR DE CAL\n",
      "FORMAS DE TÁBUAS DE PINHO PARA DISPOSITIVOS DE DRENAGEM \n",
      "UTILIZAÇÃO DE 3 VEZES - CONFECÇÃO, INSTALAÇÃO E RETIRADA \t Colocação de gabaritos\n",
      "CONCRETO CICLÓPICO FCK = 20 MPA - CONFECÇÃO EM BETONEIRA E LANÇAMENTO MANUAL -\n",
      "AREIA, BRITA E PEDRA DE MÃO COMERCIAIS \t CONCRETO CICLÓPICO FCK = 20 MPA\n",
      "CONCRETO FCK = 20 MPA - CONFECÇÃO EM BETONEIRA E LANÇAMENTO MANUAL - AREIA E BRITA COMERCIAIS \n",
      "AREIA, BRITA E PEDRA DE MÃO COMERCIAIS \t Concreto Comum\n",
      "CORREÇÃO DE DEFEITOS COM MISTURA BETUMINOSA, INCLUSIVE PINTURA DE LIGAÇÃO \t Correção de Defeitos\n",
      "DEMOLIÇÃO MANUAL DE MEIO FIO DE CONCRETO \t DEMOLIÇÃO MANUAL DE MEIO FIO DE CONCRETO\n",
      "DESTOCAMENTO DE ÁRVORES COM DIÂMETRO DE 0,15 A 0,30 M \t DESTOC. ÁRVORES D= 0,15 À 0,3 M\n",
      "DISSIPADOR DE ENERGIA - DEB 03 - AREIA E PEDRA DE MÃO COMERCIAIS \t DISSIPADOR DE ENERGIA - DEB 03 - AREIA E PEDRA DE MÃO COMERCIAIS\n",
      "ESCAVAÇÃO MANUAL EM MATERIAL DE 1ª CATEGORIA \t Escavação manual\n",
      "ESCAVAÇÃO MECÂNICA DE VALA EM MATERIAL DE 1ª CATEGORIA \t Escavação Mecanizada\n",
      "ESCAVAÇÃO MANUAL EM MATERIAL DE 1ª CATEGORIA \t Escoamento de água de vala\n",
      "CORPO DE BSTC D = 0,40 M PA1 - AREIA, BRITA E PEDRA DE MÃO COMERCIAIS \t Execução de bueiro\n",
      "CERCA COM 4 FIOS DE ARAME FARPADO E MOURÃO DE CONCRETO DE SEÇÃO QUADRADA DE 11 CM A CADA 2,5 M E ESTICADOR DE 15 CM A CADA 50 M - AREIA E BRITA \t Execução de cerca\n",
      "CONCRETO FCK = 20 MPA - CONFECÇÃO EM BETONEIRA E LANÇAMENTO MANUAL - AREIA E BRITA COMERCIAIS \n",
      "AREIA, BRITA E PEDRA DE MÃO COMERCIAIS \t Execução de descida d'água\n",
      "BOCA BSTC D = 0,40 M - ESCONSIDADE 0° - AREIA E BRITA COMERCIAIS - ALAS RETAS \t Execução de entrada de bueiro\n",
      "ENTRADA PARA DESCIDA D'ÁGUA - EDA 02 - AREIA E BRITA COMERCIAIS \t Execução de entrada de descida d'água\n",
      "CONCRETO FCK = 20 MPA - CONFECÇÃO EM BETONEIRA E LANÇAMENTO MANUAL - AREIA E BRITA COMERCIAIS \n",
      "AREIA, BRITA E PEDRA DE MÃO COMERCIAIS \t Execução de meio-fio\n",
      "CONCRETO FCK = 20 MPA - CONFECÇÃO EM BETONEIRA E LANÇAMENTO MANUAL - AREIA E BRITA COMERCIAIS \n",
      "AREIA, BRITA E PEDRA DE MÃO COMERCIAIS \t Execução de new jersey\n",
      "CONCRETO FCK = 20 MPA - CONFECÇÃO EM BETONEIRA E LANÇAMENTO MANUAL - AREIA E BRITA COMERCIAIS \n",
      "AREIA, BRITA E PEDRA DE MÃO COMERCIAIS \t Execução de vala de corte\n",
      "FORMAS DE COMPENSADO RESINADO 12 MM - USO GERAL - UTILIZAÇÃO DE 2 VEZES - CONFECÇÃO, INSTALAÇÃO E RETIRADA \t Forma\n",
      "FORNECIMENTO E IMPLANTAÇÃO DE PLACA DE ADVERTÊNCIA EM AÇO, LADO DE 1,00 M - PELÍCULA RETRORREFLETIVA TIPO I E SI \t FORNECIMENTO E IMPLANTAÇÃO DE PLACA DE ADVERTÊNCIA EM AÇO,\n",
      "GABIÃO CAIXA 2 X 1 X 1,00 M - ZN/AL + PVC - D = 2,4 MM - PEDRA DE MÃO COMERCIAL - FORNECIMENTO E ASSENTAMENTO \t GABIÃO\n",
      "ENLEIVAMENTO \t Grama\n",
      "BALIZADOR DE CONCRETO - AREIA E BRITA COMERCIAIS - FORNECIMENTO E IMPLANTAÇÃO \t Implantação de balizadores\n",
      "BALIZADOR DE CONCRETO - AREIA E BRITA COMERCIAIS - FORNECIMENTO E IMPLANTAÇÃO \t Instalação de adesivos em balizadores\n",
      "FORNECIMENTO E IMPLANTAÇÃO DE PLACA DELINEADOR EM AÇO - 0,50 X 0,60 M - PELÍCULA RETRORREFLETIVA TIPO I + IV \t Instalação de delineadores\n",
      "FORNECIMENTO E IMPLANTAÇÃO DE PLACA EM AÇO - 2,00 X 1,00 M - PELÍCULA RETRORREFLETIVA TIPO I + III \t Instalação de placa\n",
      "LIMPEZA DE BUEIRO \t Limpeza de bueiro\n",
      "ESCAVAÇÃO MANUAL EM MATERIAL DE 1ª CATEGORIA \t Limpeza de defensa\n",
      "LIMPEZA DE DESCIDA D'ÁGUA \t LIMPEZA DE DESCIDA D'ÁGUA\n",
      "ESCAVAÇÃO MANUAL EM MATERIAL DE 1ª CATEGORIA \t Limpeza de entrada d'água\n",
      "ESCAVAÇÃO MANUAL EM MATERIAL DE 1ª CATEGORIA \t Limpeza de new jersey\n",
      "LIMPEZA DE PLACA DE SINALIZAÇÃO \t LIMPEZA DE PLACA DE SINALIZAÇÃO\n",
      "LIMPEZA DE SARJETA E MEIO-FIO \t Limpeza de sarjeta e meio-fio\n",
      "LIMPEZA DE VALA DE DRENAGEM \t LIMPEZA DE VALA DE DRENAGEM\n",
      "LIMPEZA DE VALETA DE CORTE \t LIMPEZA DE VALETA DE CORTE\n",
      "LIMPEZA DE SARJETA E MEIO-FIO \t Limpeza e caiação\n",
      "REMOÇÃO DE PLACA DE SINALIZAÇÃO \t Recolimento de pé de placa\n",
      "FORNECIMENTO E IMPLANTAÇÃO DE PLACA DE REGULAMENTAÇÃO EM AÇO D = 1,00 M - PELÍCULA RETRORREFLETIVA TIPO I E SI \t Recomposição de placas de regulamentação\n",
      "CERCA COM 4 FIOS DE ARAME FARPADO E MOURÃO DE CONCRETO DE SEÇÃO QUADRADA DE 11 CM A CADA 2,5 M E ESTICADOR DE 15 CM A CADA 50 M - AREIA E BRITA \t Recomposição total de cerca\n",
      "RECOMPOSIÇÃO PARCIAL DE CERCA COM MOURÃO DE CONCRETO (SÓ MOURÃO) SEÇÃO QUADRADA - AREIA E BRITA COMERCIAIS \t Recuperação de cerca\n",
      "CONCRETO FCK = 20 MPA - CONFECÇÃO EM BETONEIRA E LANÇAMENTO MANUAL - AREIA E BRITA COMERCIAIS \n",
      "AREIA, BRITA E PEDRA DE MÃO COMERCIAIS \t Recuperação de descida d'água\n",
      "CONCRETO FCK = 20 MPA - CONFECÇÃO EM BETONEIRA E LANÇAMENTO MANUAL - AREIA E BRITA COMERCIAIS \n",
      "AREIA, BRITA E PEDRA DE MÃO COMERCIAIS \t Recuperação de entrada d'água\n",
      "CONCRETO FCK = 20 MPA - CONFECÇÃO EM BETONEIRA E LANÇAMENTO MANUAL - AREIA E BRITA COMERCIAIS \n",
      "AREIA, BRITA E PEDRA DE MÃO COMERCIAIS \t Recuperação de meio-fio\n",
      "CONCRETO FCK = 20 MPA - CONFECÇÃO EM BETONEIRA E LANÇAMENTO MANUAL - AREIA E BRITA COMERCIAIS \n",
      "AREIA, BRITA E PEDRA DE MÃO COMERCIAIS \t Reforma de new jersey\n",
      "SARJETA TRIANGULAR DE CONCRETO - STC 02 - AREIA E BRITA COMERCIAIS \t Reforma de sarjeta\n",
      "REMOÇÃO DE ANIMAIS DE PEQUENO PORTE MORTOS EM RODOVIA - CARGA MANUAL \t REMOÇÃO ANIMAIS PEQUENO PORTE\n",
      "REMOÇÃO DE GRÃOS, AGREGADOS E SOLOS DERRAMADOS NA PISTA EM RODOVIAS \t REMOÇÃO DE GRÃOS, AGREGADOS E SOLOS DERRAMADOS NA PISTA EM RODOVIAS\n",
      "REMOÇÃO DE PLACA DE SINALIZAÇÃO \t REMOÇÃO DE PLACA DE SINALIZAÇÃO\n",
      "REMOÇÃO DE SUCATAS DERRAMADAS EM RODOVIA \t REMOÇÃO DE SUCATAS DERRAMADAS EM RODOVIA\n",
      "REMOÇÃO DE EMBORRACHADOS DE PNEUS EM RODOVIA \t REMOÇÃO EMBORRACHADOS DE PNEUS\n",
      "ROÇADA COM ROÇADEIRA COSTAL \t ROÇADA COM ROÇADEIRA COSTAL\n",
      "ROÇADA MANUAL \t ROÇADA MANUAL\n",
      "SARJETA TRIANGULAR DE CONCRETO - STC 02 - AREIA E BRITA COMERCIAIS \t Sarjeta Quebrada\n",
      "SARJETA TRIANGULAR DE CONCRETO - STC 02 - AREIA E BRITA COMERCIAIS \t SARJETA TRIANGULAR DE CONCRETO - STC 02\n",
      "TAPA BURACO COM SERRA CORTA PISO \t Tapa buraco\n"
     ]
    }
   ],
   "source": [
    "# Opcional\n",
    "\n",
    "for value in values:\n",
    "    if value['Classe Antiga']:\n",
    "        old_form = old_forms.filter(name=value['Classe Antiga']).first()\n",
    "#         print(value['Classe Antiga'])\n",
    "        new_form = [occ for occ in occurrence_types if occ.name == value['Classe Nova']][0]\n",
    "        new_form.previous_version = old_form\n",
    "        print(new_form.name, '\\t', new_form.previous_version.name)"
   ]
  },
  {
   "cell_type": "markdown",
   "metadata": {},
   "source": [
    "Testando forms atualizados com o \"De/Para\""
   ]
  },
  {
   "cell_type": "code",
   "execution_count": 86,
   "metadata": {},
   "outputs": [
    {
     "data": {
      "text/plain": [
       "<OccurrenceType: Inspeções de Pontes, Viadutos, Túneis e Passarelas - ['Arteris Intervias']>"
      ]
     },
     "execution_count": 86,
     "metadata": {},
     "output_type": "execute_result"
    }
   ],
   "source": [
    "# new_form"
   ]
  },
  {
   "cell_type": "markdown",
   "metadata": {},
   "source": [
    "Todos os forms antigos serão desativados?"
   ]
  },
  {
   "cell_type": "code",
   "execution_count": 41,
   "metadata": {},
   "outputs": [],
   "source": [
    "for a in old_forms:\n",
    "    a.active=False\n",
    "#     a.save()"
   ]
  },
  {
   "cell_type": "markdown",
   "metadata": {},
   "source": [
    "# Fim da parte opcional"
   ]
  },
  {
   "cell_type": "markdown",
   "metadata": {},
   "source": [
    " "
   ]
  },
  {
   "cell_type": "markdown",
   "metadata": {},
   "source": [
    " "
   ]
  },
  {
   "cell_type": "code",
   "execution_count": null,
   "metadata": {},
   "outputs": [],
   "source": []
  }
 ],
 "metadata": {
  "kernelspec": {
   "display_name": "Django Shell-Plus",
   "language": "python",
   "name": "django_extensions"
  },
  "language_info": {
   "codemirror_mode": {
    "name": "ipython",
    "version": 3
   },
   "file_extension": ".py",
   "mimetype": "text/x-python",
   "name": "python",
   "nbconvert_exporter": "python",
   "pygments_lexer": "ipython3",
   "version": "3.7.9"
  },
  "vscode": {
   "interpreter": {
    "hash": "369f2c481f4da34e4445cda3fffd2e751bd1c4d706f27375911949ba6bb62e1c"
   }
  }
 },
 "nbformat": 4,
 "nbformat_minor": 2
}
