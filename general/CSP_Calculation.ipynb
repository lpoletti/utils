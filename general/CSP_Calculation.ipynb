{
 "cells": [
  {
   "cell_type": "code",
   "execution_count": 1,
   "metadata": {},
   "outputs": [],
   "source": [
    "%load_ext autoreload"
   ]
  },
  {
   "cell_type": "code",
   "execution_count": 2,
   "metadata": {},
   "outputs": [],
   "source": [
    "%autoreload 2"
   ]
  },
  {
   "cell_type": "code",
   "execution_count": 3,
   "metadata": {},
   "outputs": [],
   "source": [
    "from json_logic import jsonLogic\n",
    "from helpers.strings import get_obj_from_path, clean_latin_string\n",
    "from collections import Counter\n",
    "from helpers.dates import get_dates_by_frequency\n",
    "from datetime import timedelta\n",
    "from helpers.apps.csp import CspEndpoint"
   ]
  },
  {
   "cell_type": "markdown",
   "metadata": {},
   "source": [
    "## Get Company"
   ]
  },
  {
   "cell_type": "code",
   "execution_count": 4,
   "metadata": {},
   "outputs": [],
   "source": [
    "company_name = \"Eixo SP\""
   ]
  },
  {
   "cell_type": "code",
   "execution_count": 5,
   "metadata": {},
   "outputs": [],
   "source": [
    "companies = Company.objects.filter(name=company_name)"
   ]
  },
  {
   "cell_type": "code",
   "execution_count": 6,
   "metadata": {},
   "outputs": [],
   "source": [
    "company = companies.first()"
   ]
  },
  {
   "cell_type": "code",
   "execution_count": 7,
   "metadata": {},
   "outputs": [],
   "source": [
    "# Get kinds\n",
    "possible_path_kinds = \"occurrencetype__fields__occurrencekind__selectoptions__options\"\n",
    "kinds = get_obj_from_path(company.custom_options, possible_path_kinds)\n",
    "kind_translation = {\n",
    "    clean_latin_string(item[\"name\"]).lower(): item[\"value\"] for item in kinds\n",
    "}\n",
    "\n",
    "# Get lots\n",
    "possible_path_lots = \"reporting__fields__lot__selectoptions__options\"\n",
    "lots = get_obj_from_path(company.custom_options, possible_path_lots)\n",
    "lots_translation = {\n",
    "    item[\"value\"]: item[\"name\"] for item in lots\n",
    "}"
   ]
  },
  {
   "cell_type": "markdown",
   "metadata": {},
   "source": [
    "# Indicador 5.1\n",
    "\n",
    "## Indicador de Conformidade dos Programas de Conservação de Rotina (ICPCR)\n",
    "\n",
    "Formado por 7 Índices de Conservação de Rotina que compreende os seguintes programas: Pavimento, Faixa de Domínio, Drenagem, Dispositivos de Contenção Viária, Estruturas, Prédios e Pátios e Iluminação.\n",
    "\n",
    "Fórmula:\n",
    "\n",
    "𝑁𝑜𝑡𝑎 𝐹𝑖𝑛𝑎𝑙 𝐼𝐶𝑃𝐶𝑅 = (𝑃𝑒𝑠𝑜 𝐼𝐶𝑅𝑃 × 𝑁𝑜𝑡𝑎 𝑑𝑒 𝑃𝑒𝑟𝑓𝑜𝑟𝑚𝑎𝑛𝑐𝑒 𝐼𝐶𝑅𝑃) + (𝑃𝑒𝑠𝑜 𝐼𝐶𝑅𝐹𝐷 × 𝑁𝑜𝑡𝑎 𝑑𝑒 𝑃𝑒𝑟𝑓𝑜𝑟𝑚𝑎𝑛𝑐𝑒 𝐼𝐶𝑅𝐹𝐷) + (𝑃𝑒𝑠𝑜 𝐼𝐶𝑅𝐷 × 𝑁𝑜𝑡𝑎 𝑑𝑒 𝑃𝑒𝑟𝑓𝑜𝑟𝑚𝑎𝑛𝑐𝑒 𝐼𝐶𝑅𝐷) + (𝑃𝑒𝑠𝑜 𝐼𝐶𝑅𝐷𝐶𝑉 × 𝑁𝑜𝑡𝑎 𝑑𝑒 𝑃𝑒𝑟𝑓𝑜𝑟𝑚𝑎𝑛𝑐𝑒 𝐼𝐶𝑅𝐷𝐶𝑉) + (𝑃𝑒𝑠𝑜 𝐼𝐶𝑅𝐸 × 𝑁𝑜𝑡𝑎 𝑑𝑒 𝑃𝑒𝑟𝑓𝑜𝑟𝑚𝑎𝑛𝑐𝑒 𝐼𝐶𝑅𝐸) + (𝑃𝑒𝑠𝑜 𝐼𝐶𝑅𝑃𝑃 × 𝑁𝑜𝑡𝑎 𝑑𝑒 𝑃𝑒𝑟𝑓𝑜𝑟𝑚𝑎𝑛𝑐𝑒 𝐼𝐶𝑅𝑃𝑃) + (𝑃𝑒𝑠𝑜 𝐼𝐶𝑅𝐼 × 𝑁𝑜𝑡𝑎 𝑑𝑒 𝑃𝑒𝑟𝑓𝑜𝑟𝑚𝑎𝑛𝑐𝑒 𝐼𝐶𝑅𝐼)\n",
    "\n",
    "Para fins de cálculo do ICPCR, os índices possuem os seguintes pesos:\n",
    " - Peso ICRP = 0,45\n",
    " - Peso ICRFD = 0,20\n",
    " - Peso ICRD = 0,10\n",
    " - Peso ICRDCV = 0,05\n",
    " - Peso ICRE = 0,05\n",
    " - Peso ICRPP = 0,05\n",
    " - Peso ICRI = 0,10"
   ]
  },
  {
   "cell_type": "code",
   "execution_count": 8,
   "metadata": {},
   "outputs": [],
   "source": [
    "indicator_number_51 = \"5.1\"\n",
    "indicator_number_51_name = \"Conservação de Rotina\"\n",
    "\n",
    "icrp_weight = 0.45\n",
    "icrp_name = \"Pavimento\"\n",
    "\n",
    "icrfd_weight = 0.20\n",
    "icrfd_name = \"Faixa de Domínio\"\n",
    "\n",
    "icrd_weight = 0.10\n",
    "icrd_name = \"Drenagem\"\n",
    "\n",
    "icrdcv_weight = 0.05\n",
    "icrdcv_name = \"Dispositivos de Contenção Viária\"\n",
    "\n",
    "icre_weight = 0.05\n",
    "icre_name = \"Estruturas\"\n",
    "\n",
    "icrpp_weight = 0.05\n",
    "icrpp_name = \"Prédios e Pátios\"\n",
    "\n",
    "icri_weight = 0.10\n",
    "icri_name = \"Iluminação\""
   ]
  },
  {
   "cell_type": "markdown",
   "metadata": {},
   "source": [
    "## ICRP - Índice de Conservação de Rotina de Pavimento"
   ]
  },
  {
   "cell_type": "code",
   "execution_count": 9,
   "metadata": {},
   "outputs": [],
   "source": [
    "# Calcula a performance dado o ICRP\n",
    "icrp_performance = {\"if\" : [\n",
    "    { \">=\": [{\"var\":\"perf\"}, 99]}, 1,\n",
    "    { \">=\": [{\"var\":\"perf\"}, 98]}, 0.8,\n",
    "    { \">=\": [{\"var\":\"perf\"}, 97]}, 0.6,\n",
    "    { \">=\": [{\"var\":\"perf\"}, 96]}, 0.4,\n",
    "    0\n",
    "]}"
   ]
  },
  {
   "cell_type": "code",
   "execution_count": 10,
   "metadata": {},
   "outputs": [],
   "source": [
    "# Calcula a conformidade do segmento dado o numero de conformidades\n",
    "# Se for conforme, retorna 0\n",
    "# Se for não conforme, retorna 1\n",
    "# Se for não conforme e agravante, retorna 2\n",
    "icrp_scoring = {\"if\" : [\n",
    "    { \">=\": [{\"var\":\"conf\"}, 6]}, 2,\n",
    "    { \">=\": [{\"var\":\"conf\"}, 3]}, 1,\n",
    "    0\n",
    "]}"
   ]
  },
  {
   "cell_type": "code",
   "execution_count": 11,
   "metadata": {},
   "outputs": [],
   "source": [
    "icrp_occ_kind = [\"pavimento flexivel\", \"pavimento rigido\"]\n",
    "icrp_occ_kind_translated = [kind_translation[item] for item in icrp_occ_kind if item in kind_translation]"
   ]
  },
  {
   "cell_type": "code",
   "execution_count": 12,
   "metadata": {},
   "outputs": [],
   "source": [
    "icrp_types = [str(item) for item in OccurrenceType.objects.filter(company=company, occurrence_kind__in=icrp_occ_kind_translated).values_list(\"pk\", flat=True).distinct()]"
   ]
  },
  {
   "cell_type": "code",
   "execution_count": 13,
   "metadata": {},
   "outputs": [],
   "source": [
    "icrp_dict = {\n",
    "    \"name\": icrp_name,\n",
    "    \"weight\": icrp_weight,\n",
    "    \"performance\": icrp_performance,\n",
    "    \"scoring\": icrp_scoring,\n",
    "    \"types\": icrp_types\n",
    "}"
   ]
  },
  {
   "cell_type": "markdown",
   "metadata": {},
   "source": [
    "## ICRFD - Índice de Conservação de Rotina de Faixa de Domínio"
   ]
  },
  {
   "cell_type": "code",
   "execution_count": 14,
   "metadata": {},
   "outputs": [],
   "source": [
    "# Calcula a performance dado o ICRFD\n",
    "icrfd_performance = {\"if\" : [\n",
    "    { \">=\": [{\"var\":\"perf\"}, 99]}, 1,\n",
    "    { \">=\": [{\"var\":\"perf\"}, 98]}, 0.8,\n",
    "    { \">=\": [{\"var\":\"perf\"}, 97]}, 0.6,\n",
    "    { \">=\": [{\"var\":\"perf\"}, 96]}, 0.4,\n",
    "    0\n",
    "]}"
   ]
  },
  {
   "cell_type": "code",
   "execution_count": 15,
   "metadata": {},
   "outputs": [],
   "source": [
    "# Calcula a conformidade do segmento dado o numero de conformidades\n",
    "# Se for conforme, retorna 0\n",
    "# Se for não conforme, retorna 1\n",
    "# Se for não conforme e agravante, retorna 2\n",
    "icrfd_scoring = {\"if\" : [\n",
    "    { \">=\": [{\"var\":\"conf\"}, 8]}, 2,\n",
    "    { \">=\": [{\"var\":\"conf\"}, 4]}, 1,\n",
    "    0\n",
    "]}"
   ]
  },
  {
   "cell_type": "code",
   "execution_count": 16,
   "metadata": {},
   "outputs": [],
   "source": [
    "icrfd_occ_kind = [\"faixa de dominio\"]\n",
    "icrfd_occ_kind_translated = [kind_translation[item] for item in icrfd_occ_kind if item in kind_translation]"
   ]
  },
  {
   "cell_type": "code",
   "execution_count": 17,
   "metadata": {},
   "outputs": [],
   "source": [
    "icrfd_types = [str(item) for item in OccurrenceType.objects.filter(company=company, occurrence_kind__in=icrfd_occ_kind_translated).values_list(\"pk\", flat=True).distinct()]"
   ]
  },
  {
   "cell_type": "code",
   "execution_count": 18,
   "metadata": {},
   "outputs": [],
   "source": [
    "icrfd_dict = {\n",
    "    \"name\": icrfd_name,\n",
    "    \"weight\": icrfd_weight,\n",
    "    \"performance\": icrfd_performance,\n",
    "    \"scoring\": icrfd_scoring,\n",
    "    \"types\": icrfd_types\n",
    "}"
   ]
  },
  {
   "cell_type": "markdown",
   "metadata": {},
   "source": [
    "## ICRD - Índice de Conservação de Rotina de Drenagem"
   ]
  },
  {
   "cell_type": "code",
   "execution_count": 19,
   "metadata": {},
   "outputs": [],
   "source": [
    "# Calcula a performance dado o ICRD\n",
    "icrd_performance = {\"if\" : [\n",
    "    { \">=\": [{\"var\":\"perf\"}, 99]}, 1,\n",
    "    { \">=\": [{\"var\":\"perf\"}, 98]}, 0.8,\n",
    "    { \">=\": [{\"var\":\"perf\"}, 97]}, 0.6,\n",
    "    { \">=\": [{\"var\":\"perf\"}, 96]}, 0.4,\n",
    "    0\n",
    "]}"
   ]
  },
  {
   "cell_type": "code",
   "execution_count": 20,
   "metadata": {},
   "outputs": [],
   "source": [
    "# Calcula a conformidade do segmento dado o numero de conformidades\n",
    "# Se for conforme, retorna 0\n",
    "# Se for não conforme, retorna 1\n",
    "# Se for não conforme e agravante, retorna 2\n",
    "icrd_scoring = {\"if\" : [\n",
    "    { \">=\": [{\"var\":\"conf\"}, 5]}, 2,\n",
    "    { \">=\": [{\"var\":\"conf\"}, 3]}, 1,\n",
    "    0\n",
    "]}"
   ]
  },
  {
   "cell_type": "code",
   "execution_count": 21,
   "metadata": {},
   "outputs": [],
   "source": [
    "icrd_occ_kind = [\"drenagem\"]\n",
    "icrd_occ_kind_translated = [kind_translation[item] for item in icrd_occ_kind if item in kind_translation]"
   ]
  },
  {
   "cell_type": "code",
   "execution_count": 22,
   "metadata": {},
   "outputs": [],
   "source": [
    "icrd_types = [str(item) for item in OccurrenceType.objects.filter(company=company, occurrence_kind__in=icrd_occ_kind_translated).values_list(\"pk\", flat=True).distinct()]"
   ]
  },
  {
   "cell_type": "code",
   "execution_count": 23,
   "metadata": {},
   "outputs": [],
   "source": [
    "icrd_dict = {\n",
    "    \"name\": icrd_name,\n",
    "    \"weight\": icrd_weight,\n",
    "    \"performance\": icrd_performance,\n",
    "    \"scoring\": icrd_scoring,\n",
    "    \"types\": icrd_types\n",
    "}"
   ]
  },
  {
   "cell_type": "markdown",
   "metadata": {},
   "source": [
    "## ICRDCV - Índice de Conservação de Rotina de Dispositivos de Contenção Viária"
   ]
  },
  {
   "cell_type": "code",
   "execution_count": 24,
   "metadata": {},
   "outputs": [],
   "source": [
    "# Calcula a performance dado o ICRDCV\n",
    "icrdcv_performance = {\"if\" : [\n",
    "    { \">=\": [{\"var\":\"perf\"}, 99]}, 1,\n",
    "    { \">=\": [{\"var\":\"perf\"}, 98]}, 0.8,\n",
    "    { \">=\": [{\"var\":\"perf\"}, 97]}, 0.6,\n",
    "    { \">=\": [{\"var\":\"perf\"}, 96]}, 0.4,\n",
    "    0\n",
    "]}"
   ]
  },
  {
   "cell_type": "code",
   "execution_count": 25,
   "metadata": {},
   "outputs": [],
   "source": [
    "# Calcula a conformidade do segmento dado o numero de conformidades\n",
    "# Se for conforme, retorna 0\n",
    "# Se for não conforme, retorna 1\n",
    "# Se for não conforme e agravante, retorna 2\n",
    "icrdcv_scoring = {\"if\" : [\n",
    "    { \">=\": [{\"var\":\"conf\"}, 2]}, 2,\n",
    "    { \">\": [{\"var\":\"conf\"}, 0]}, 1,\n",
    "    0\n",
    "]}"
   ]
  },
  {
   "cell_type": "code",
   "execution_count": 26,
   "metadata": {},
   "outputs": [],
   "source": [
    "icrdcv_occ_kind = [\"dispositivos de contencao\"]\n",
    "icrdcv_occ_kind_translated = [kind_translation[item] for item in icrdcv_occ_kind if item in kind_translation]"
   ]
  },
  {
   "cell_type": "code",
   "execution_count": 27,
   "metadata": {},
   "outputs": [],
   "source": [
    "icrdcv_types = [str(item) for item in OccurrenceType.objects.filter(company=company, occurrence_kind__in=icrdcv_occ_kind_translated).values_list(\"pk\", flat=True).distinct()]"
   ]
  },
  {
   "cell_type": "code",
   "execution_count": 28,
   "metadata": {},
   "outputs": [],
   "source": [
    "icrdcv_dict = {\n",
    "    \"name\": icrdcv_name,\n",
    "    \"weight\": icrdcv_weight,\n",
    "    \"performance\": icrdcv_performance,\n",
    "    \"scoring\": icrdcv_scoring,\n",
    "    \"types\": icrdcv_types\n",
    "}"
   ]
  },
  {
   "cell_type": "markdown",
   "metadata": {},
   "source": [
    "## ICRE - Índice de Conservação de Rotina de Estruturas"
   ]
  },
  {
   "cell_type": "code",
   "execution_count": 29,
   "metadata": {},
   "outputs": [],
   "source": [
    "# Calcula a performance dado o ICRE\n",
    "icre_performance = {\"if\" : [\n",
    "    { \">=\": [{\"var\":\"perf\"}, 99]}, 1,\n",
    "    { \">=\": [{\"var\":\"perf\"}, 98]}, 0.8,\n",
    "    { \">=\": [{\"var\":\"perf\"}, 97]}, 0.6,\n",
    "    { \">=\": [{\"var\":\"perf\"}, 96]}, 0.4,\n",
    "    0\n",
    "]}"
   ]
  },
  {
   "cell_type": "code",
   "execution_count": 30,
   "metadata": {},
   "outputs": [],
   "source": [
    "# Calcula a conformidade do segmento dado o numero de conformidades\n",
    "# Se for conforme, retorna 0\n",
    "# Se for não conforme, retorna 1\n",
    "# Se for não conforme e agravante, retorna 2\n",
    "icre_scoring = {\"if\" : [\n",
    "    { \">=\": [{\"var\":\"conf\"}, 3]}, 2,\n",
    "    { \">=\": [{\"var\":\"conf\"}, 2]}, 1,\n",
    "    0\n",
    "]}"
   ]
  },
  {
   "cell_type": "code",
   "execution_count": 31,
   "metadata": {},
   "outputs": [],
   "source": [
    "icre_occ_kind = [\"estruturas\"]\n",
    "icre_occ_kind_translated = [kind_translation[item] for item in icre_occ_kind if item in kind_translation]"
   ]
  },
  {
   "cell_type": "code",
   "execution_count": 32,
   "metadata": {},
   "outputs": [],
   "source": [
    "icre_types = [str(item) for item in OccurrenceType.objects.filter(company=company, occurrence_kind__in=icre_occ_kind_translated).values_list(\"pk\", flat=True).distinct()]"
   ]
  },
  {
   "cell_type": "code",
   "execution_count": 33,
   "metadata": {},
   "outputs": [],
   "source": [
    "icre_dict = {\n",
    "    \"name\": icre_name,\n",
    "    \"weight\": icre_weight,\n",
    "    \"performance\": icre_performance,\n",
    "    \"scoring\": icre_scoring,\n",
    "    \"types\": icre_types\n",
    "}"
   ]
  },
  {
   "cell_type": "markdown",
   "metadata": {},
   "source": [
    "## ICRPP - Índice de Conservação de Rotina de Prédios e Pátios"
   ]
  },
  {
   "cell_type": "code",
   "execution_count": 34,
   "metadata": {},
   "outputs": [],
   "source": [
    "# Calcula a performance dado o ICRPP\n",
    "icrpp_performance = {\"if\" : [\n",
    "    { \">=\": [{\"var\":\"perf\"}, 99]}, 1,\n",
    "    { \">=\": [{\"var\":\"perf\"}, 98]}, 0.8,\n",
    "    { \">=\": [{\"var\":\"perf\"}, 97]}, 0.6,\n",
    "    { \">=\": [{\"var\":\"perf\"}, 96]}, 0.4,\n",
    "    0\n",
    "]}"
   ]
  },
  {
   "cell_type": "code",
   "execution_count": 35,
   "metadata": {},
   "outputs": [],
   "source": [
    "# Calcula a conformidade do segmento dado o numero de conformidades\n",
    "# Se for conforme, retorna 0\n",
    "# Se for não conforme, retorna 1\n",
    "# Se for não conforme e agravante, retorna 2\n",
    "icrpp_scoring = {\"if\" : [\n",
    "    { \">=\": [{\"var\":\"conf\"}, 10]}, 2,\n",
    "    { \">=\": [{\"var\":\"conf\"}, 5]}, 1,\n",
    "    0\n",
    "]}"
   ]
  },
  {
   "cell_type": "code",
   "execution_count": 36,
   "metadata": {},
   "outputs": [],
   "source": [
    "icrpp_occ_kind = [\"predios e patios\"]\n",
    "icrpp_occ_kind_translated = [kind_translation[item] for item in icrpp_occ_kind if item in kind_translation]"
   ]
  },
  {
   "cell_type": "code",
   "execution_count": 37,
   "metadata": {},
   "outputs": [],
   "source": [
    "icrpp_types = [str(item) for item in OccurrenceType.objects.filter(company=company, occurrence_kind__in=icrpp_occ_kind_translated).values_list(\"pk\", flat=True).distinct()]"
   ]
  },
  {
   "cell_type": "code",
   "execution_count": 38,
   "metadata": {},
   "outputs": [],
   "source": [
    "icrpp_dict = {\n",
    "    \"name\": icrpp_name,\n",
    "    \"weight\": icrpp_weight,\n",
    "    \"performance\": icrpp_performance,\n",
    "    \"scoring\": icrpp_scoring,\n",
    "    \"types\": icrpp_types\n",
    "}"
   ]
  },
  {
   "cell_type": "markdown",
   "metadata": {},
   "source": [
    "## ICRI - Índice de Conservação de Rotina de Iluminação"
   ]
  },
  {
   "cell_type": "code",
   "execution_count": 39,
   "metadata": {},
   "outputs": [],
   "source": [
    "# Calcula a performance dado o ICRI\n",
    "icri_performance = {\"if\" : [\n",
    "    { \">=\": [{\"var\":\"perf\"}, 99]}, 1,\n",
    "    { \">=\": [{\"var\":\"perf\"}, 98]}, 0.8,\n",
    "    { \">=\": [{\"var\":\"perf\"}, 97]}, 0.6,\n",
    "    { \">=\": [{\"var\":\"perf\"}, 96]}, 0.4,\n",
    "    0\n",
    "]}"
   ]
  },
  {
   "cell_type": "code",
   "execution_count": 40,
   "metadata": {},
   "outputs": [],
   "source": [
    "# Calcula a conformidade do segmento dado o numero de conformidades\n",
    "# Se for conforme, retorna 0\n",
    "# Se for não conforme, retorna 1\n",
    "# Se for não conforme e agravante, retorna 2\n",
    "icri_scoring = {\"if\" : [\n",
    "    { \">=\": [{\"var\":\"conf\"}, 2]}, 2,\n",
    "    { \">\": [{\"var\":\"conf\"}, 0]}, 1,\n",
    "    0\n",
    "]}"
   ]
  },
  {
   "cell_type": "code",
   "execution_count": 41,
   "metadata": {},
   "outputs": [],
   "source": [
    "icri_occ_kind = [\"iluminacao\"]\n",
    "icri_occ_kind_translated = [kind_translation[item] for item in icri_occ_kind if item in kind_translation]"
   ]
  },
  {
   "cell_type": "code",
   "execution_count": 42,
   "metadata": {},
   "outputs": [],
   "source": [
    "icri_types = [str(item) for item in OccurrenceType.objects.filter(company=company, occurrence_kind__in=icri_occ_kind_translated).values_list(\"pk\", flat=True).distinct()]"
   ]
  },
  {
   "cell_type": "code",
   "execution_count": 43,
   "metadata": {},
   "outputs": [],
   "source": [
    "icri_dict = {\n",
    "    \"name\": icri_name,\n",
    "    \"weight\": icri_weight,\n",
    "    \"performance\": icri_performance,\n",
    "    \"scoring\": icri_scoring,\n",
    "    \"types\": icri_types\n",
    "}"
   ]
  },
  {
   "cell_type": "markdown",
   "metadata": {},
   "source": [
    "# Indicador 8.1\n",
    "\n",
    "## Indicador de Integridade e Conservação da Sinalização Vertical (IICSV)"
   ]
  },
  {
   "cell_type": "code",
   "execution_count": 44,
   "metadata": {},
   "outputs": [],
   "source": [
    "indicator_number_81 = \"8.1\"\n",
    "indicator_number_81_name = \"Sinalização Vertical\"\n",
    "iicsv_name = \"Sinalização Vertical\""
   ]
  },
  {
   "cell_type": "code",
   "execution_count": 45,
   "metadata": {},
   "outputs": [],
   "source": [
    "# Salvar occurrence_type para o inventorio de Placas\n",
    "inventory_occ_kind = [\"inventario\"]\n",
    "inventory_occ_kind_translated = [kind_translation[item] for item in inventory_occ_kind if item in kind_translation]\n",
    "inventory_types_qs = OccurrenceType.objects.filter(\n",
    "    company=company,\n",
    "    occurrence_kind__in=inventory_occ_kind_translated,\n",
    "    name__icontains=\"placa\"\n",
    ")\n",
    "inventory_types = [str(item) for item in inventory_types_qs.values_list(\"pk\", flat=True).distinct()]"
   ]
  },
  {
   "cell_type": "code",
   "execution_count": 46,
   "metadata": {},
   "outputs": [],
   "source": [
    "# Calcula a performance dado o IICSV\n",
    "iicsv_performance = {\"if\" : [\n",
    "    { \">=\": [{\"var\":\"perf\"}, 99]}, 1,\n",
    "    { \">=\": [{\"var\":\"perf\"}, 97]}, 0.8,\n",
    "    { \">=\": [{\"var\":\"perf\"}, 95]}, 0.6,\n",
    "    { \">=\": [{\"var\":\"perf\"}, 93]}, 0.4,\n",
    "    0\n",
    "]}"
   ]
  },
  {
   "cell_type": "code",
   "execution_count": 47,
   "metadata": {},
   "outputs": [],
   "source": [
    "# Calcula a conformidade do segmento dado o numero de conformidades\n",
    "# Se for conforme, retorna 0\n",
    "# Se for não conforme, retorna 1\n",
    "iicsv_scoring = {\"if\" : [\n",
    "    { \">=\": [{\"var\":\"conf\"}, 1]}, {\"var\":\"conf\"},\n",
    "    0\n",
    "]}"
   ]
  },
  {
   "cell_type": "code",
   "execution_count": 48,
   "metadata": {},
   "outputs": [],
   "source": [
    "iicsv_occ_kind = [\"sinalizacao vertical\"]\n",
    "iicsv_occ_kind_translated = [kind_translation[item] for item in iicsv_occ_kind if item in kind_translation]"
   ]
  },
  {
   "cell_type": "code",
   "execution_count": 49,
   "metadata": {},
   "outputs": [],
   "source": [
    "iicsv_occ_kind_additional = [\"dispositivos auxiliares\"]\n",
    "iicsv_occ_kind_translated_additional = [kind_translation[item] for item in iicsv_occ_kind_additional if item in kind_translation]"
   ]
  },
  {
   "cell_type": "code",
   "execution_count": 50,
   "metadata": {},
   "outputs": [],
   "source": [
    "iicsv_types_qs_first = OccurrenceType.objects.filter(\n",
    "    company=company,\n",
    "    occurrence_kind__in=iicsv_occ_kind_translated\n",
    ")\n",
    "\n",
    "iicsv_types_qs_additional = OccurrenceType.objects.filter(\n",
    "    company=company,\n",
    "    occurrence_kind__in=iicsv_occ_kind_translated_additional\n",
    ").filter(\n",
    "    name__icontains=\"alerta\"\n",
    ")\n",
    "\n",
    "iicsv_types_qs = OccurrenceType.objects.filter(Q(pk__in=iicsv_types_qs_first) | Q(pk__in=iicsv_types_qs_additional)).distinct()"
   ]
  },
  {
   "cell_type": "code",
   "execution_count": 51,
   "metadata": {},
   "outputs": [],
   "source": [
    "iicsv_types = [str(item) for item in iicsv_types_qs.values_list(\"pk\", flat=True).distinct()]"
   ]
  },
  {
   "cell_type": "code",
   "execution_count": 52,
   "metadata": {},
   "outputs": [],
   "source": [
    "iicsv_dict = {\n",
    "    \"name\": iicsv_name,\n",
    "    \"weight\": 1,\n",
    "    \"performance\": iicsv_performance,\n",
    "    \"scoring\": iicsv_scoring,\n",
    "    \"types\": iicsv_types\n",
    "}"
   ]
  },
  {
   "cell_type": "markdown",
   "metadata": {},
   "source": [
    "# Indicador 8.2\n",
    "\n",
    "## Indicador de Integridade e Conservação da Sinalização Horizontal (IICSH)"
   ]
  },
  {
   "cell_type": "code",
   "execution_count": 53,
   "metadata": {},
   "outputs": [],
   "source": [
    "indicator_number_82 = \"8.2\"\n",
    "indicator_number_82_name = \"Sinalização Horizontal\"\n",
    "iicsh_name = \"Sinalização Horizontal\""
   ]
  },
  {
   "cell_type": "code",
   "execution_count": 54,
   "metadata": {},
   "outputs": [],
   "source": [
    "# Calcula a performance dado o IICSH\n",
    "iicsh_performance = {\"if\" : [\n",
    "    { \">=\": [{\"var\":\"perf\"}, 97]}, 1,\n",
    "    { \">=\": [{\"var\":\"perf\"}, 95]}, 0.8,\n",
    "    { \">=\": [{\"var\":\"perf\"}, 93]}, 0.6,\n",
    "    { \">=\": [{\"var\":\"perf\"}, 90]}, 0.4,\n",
    "    0\n",
    "]}"
   ]
  },
  {
   "cell_type": "code",
   "execution_count": 55,
   "metadata": {},
   "outputs": [],
   "source": [
    "# Calcula a conformidade do segmento dado o numero de conformidades\n",
    "# Se for conforme, retorna 0\n",
    "# Se for não conforme, retorna 1\n",
    "iicsh_scoring = {\"if\" : [\n",
    "    { \">=\": [{\"var\":\"conf\"}, 1]}, 1,\n",
    "    0\n",
    "]}"
   ]
  },
  {
   "cell_type": "code",
   "execution_count": 56,
   "metadata": {},
   "outputs": [],
   "source": [
    "iicsh_occ_kind = [\"sinalizacao horizontal\"]\n",
    "iicsh_occ_kind_translated = [kind_translation[item] for item in iicsh_occ_kind if item in kind_translation]"
   ]
  },
  {
   "cell_type": "code",
   "execution_count": 57,
   "metadata": {},
   "outputs": [],
   "source": [
    "iicsh_occ_kind_additional = [\"dispositivos auxiliares\"]\n",
    "iicsh_occ_kind_translated_additional = [kind_translation[item] for item in iicsh_occ_kind_additional if item in kind_translation]"
   ]
  },
  {
   "cell_type": "code",
   "execution_count": 58,
   "metadata": {},
   "outputs": [],
   "source": [
    "iicsh_types_qs_first = OccurrenceType.objects.filter(\n",
    "    company=company,\n",
    "    occurrence_kind__in=iicsh_occ_kind_translated\n",
    ")\n",
    "\n",
    "iicsh_types_qs_additional = OccurrenceType.objects.filter(\n",
    "    company=company,\n",
    "    occurrence_kind__in=iicsh_occ_kind_translated_additional\n",
    ").filter(\n",
    "    name__icontains=\"tachas\"\n",
    ")\n",
    "\n",
    "iicsh_types_qs = OccurrenceType.objects.filter(Q(pk__in=iicsh_types_qs_first) | Q(pk__in=iicsh_types_qs_additional)).distinct()"
   ]
  },
  {
   "cell_type": "code",
   "execution_count": 59,
   "metadata": {},
   "outputs": [],
   "source": [
    "iicsh_types = [str(item) for item in iicsh_types_qs.values_list(\"pk\", flat=True).distinct()]"
   ]
  },
  {
   "cell_type": "code",
   "execution_count": 60,
   "metadata": {},
   "outputs": [],
   "source": [
    "iicsh_dict = {\n",
    "    \"name\": iicsh_name,\n",
    "    \"weight\": 1,\n",
    "    \"performance\": iicsh_performance,\n",
    "    \"scoring\": iicsh_scoring,\n",
    "    \"types\": iicsh_types\n",
    "}"
   ]
  },
  {
   "cell_type": "markdown",
   "metadata": {},
   "source": [
    "# Indicador 3.1\n",
    "\n",
    "## Indicador Socioambiental: Recuperação de Não Conformidades Ambientais (ISA)"
   ]
  },
  {
   "cell_type": "code",
   "execution_count": 61,
   "metadata": {},
   "outputs": [],
   "source": [
    "indicator_number_31 = \"3.1\"\n",
    "indicator_number_31_name = \"Indicador Socioambiental\"\n",
    "isa_name = \"Recuperação de Não Conformidades Ambientais\""
   ]
  },
  {
   "cell_type": "code",
   "execution_count": 62,
   "metadata": {},
   "outputs": [],
   "source": [
    "# Calcula a performance dado o ISA\n",
    "isa_performance = {\"if\" : [\n",
    "    { \">=\": [{\"var\":\"perf\"}, 70]}, 1,\n",
    "    { \">=\": [{\"var\":\"perf\"}, 60]}, 0.75,\n",
    "    { \">=\": [{\"var\":\"perf\"}, 50]}, 0.5,\n",
    "    0\n",
    "]}"
   ]
  },
  {
   "cell_type": "code",
   "execution_count": 63,
   "metadata": {},
   "outputs": [],
   "source": [
    "# Calcula a conformidade do segmento dado o numero de conformidades\n",
    "# Se for conforme, retorna 0\n",
    "# Se for não conforme, retorna 1\n",
    "isa_scoring = {\"if\" : [\n",
    "    { \">=\": [{\"var\":\"conf\"}, 1]}, 1,\n",
    "    0\n",
    "]}"
   ]
  },
  {
   "cell_type": "code",
   "execution_count": 64,
   "metadata": {},
   "outputs": [],
   "source": [
    "isa_occ_kind = [\"meio ambiente\"]\n",
    "isa_occ_kind_translated = [kind_translation[item] for item in isa_occ_kind if item in kind_translation]"
   ]
  },
  {
   "cell_type": "code",
   "execution_count": 65,
   "metadata": {},
   "outputs": [],
   "source": [
    "isa_types = [str(item) for item in OccurrenceType.objects.filter(company=company, occurrence_kind__in=isa_occ_kind_translated).values_list(\"pk\", flat=True).distinct()]"
   ]
  },
  {
   "cell_type": "code",
   "execution_count": 66,
   "metadata": {},
   "outputs": [],
   "source": [
    "isa_dict = {\n",
    "    \"name\": isa_name,\n",
    "    \"weight\": 1,\n",
    "    \"performance\": isa_performance,\n",
    "    \"scoring\": isa_scoring,\n",
    "    \"types\": isa_types\n",
    "}"
   ]
  },
  {
   "cell_type": "markdown",
   "metadata": {},
   "source": [
    "## Salvar dados no metadata da Company"
   ]
  },
  {
   "cell_type": "code",
   "execution_count": 67,
   "metadata": {},
   "outputs": [],
   "source": [
    "inspect_occ_kind = [\"fiscalizacao\"]\n",
    "inspect_occ_kind_translated = [kind_translation[item] for item in inspect_occ_kind if item in kind_translation]"
   ]
  },
  {
   "cell_type": "code",
   "execution_count": 68,
   "metadata": {},
   "outputs": [],
   "source": [
    "inspect_types = [str(item) for item in OccurrenceType.objects.filter(company=company, occurrence_kind__in=inspect_occ_kind_translated).values_list(\"pk\", flat=True).distinct()]"
   ]
  },
  {
   "cell_type": "code",
   "execution_count": 69,
   "metadata": {},
   "outputs": [],
   "source": [
    "company.metadata[\"csp\"] = {\n",
    "    \"topics\": {\n",
    "        indicator_number_51 : {\n",
    "            \"name\": indicator_number_51_name,\n",
    "            \"type\": \"segment\",\n",
    "            \"rules\": {\n",
    "                \"ICRP\": icrp_dict,\n",
    "                \"ICRFD\": icrfd_dict,\n",
    "                \"ICRD\": icrd_dict,\n",
    "                \"ICRDCV\": icrdcv_dict,\n",
    "                \"ICRE\": icre_dict,\n",
    "                \"ICRPP\": icrpp_dict,\n",
    "                \"ICRI\": icri_dict,\n",
    "            }\n",
    "        },\n",
    "        indicator_number_81 : {\n",
    "            \"name\": indicator_number_81_name,\n",
    "            \"type\": \"inventory\",\n",
    "            \"type_ids\": inventory_types,\n",
    "            \"rules\": {\n",
    "                \"IICSV\": iicsv_dict\n",
    "            }\n",
    "        },\n",
    "        indicator_number_82 : {\n",
    "            \"name\": indicator_number_82_name,\n",
    "            \"type\": \"lane_segment\",\n",
    "            \"rules\": {\n",
    "                \"IICSH\": iicsh_dict\n",
    "            }\n",
    "        },\n",
    "        indicator_number_31 : {\n",
    "            \"name\": indicator_number_31_name,\n",
    "            \"rules\": {\n",
    "                \"ISA\": isa_dict\n",
    "            }\n",
    "        }\n",
    "    },\n",
    "    \"lane_types\": {\n",
    "        \"Simples\": \"1\",\n",
    "        \"Dupla\": \"2\"\n",
    "    },\n",
    "    \"lane_systems\": {\n",
    "        \"Existente\": \"1\",\n",
    "        \"Remanescente\": \"2\"\n",
    "    },\n",
    "    \"inspect_types\": inspect_types\n",
    "}"
   ]
  },
  {
   "cell_type": "code",
   "execution_count": 70,
   "metadata": {},
   "outputs": [],
   "source": [
    "company.save()"
   ]
  }
 ],
 "metadata": {
  "kernelspec": {
   "display_name": "Django Shell-Plus",
   "language": "python",
   "name": "django_extensions"
  },
  "language_info": {
   "codemirror_mode": {
    "name": "ipython",
    "version": 3
   },
   "file_extension": ".py",
   "mimetype": "text/x-python",
   "name": "python",
   "nbconvert_exporter": "python",
   "pygments_lexer": "ipython3",
   "version": "3.6.9"
  }
 },
 "nbformat": 4,
 "nbformat_minor": 2
}
