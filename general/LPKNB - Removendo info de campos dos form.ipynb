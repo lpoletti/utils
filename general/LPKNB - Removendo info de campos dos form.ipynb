{
 "cells": [
  {
   "cell_type": "markdown",
   "id": "a9d86285",
   "metadata": {},
   "source": [
    "### Remover informação de 'un' dos campos com autofill"
   ]
  },
  {
   "cell_type": "code",
   "execution_count": 2,
   "id": "da959d97",
   "metadata": {},
   "outputs": [
    {
     "data": {
      "text/plain": [
       "<Company: 097fe80a-4917-4fa1-8207-2de35c113599: Eixo SP>"
      ]
     },
     "execution_count": 2,
     "metadata": {},
     "output_type": "execute_result"
    }
   ],
   "source": [
    "company = Company.objects.get(uuid=\"097fe80a-4917-4fa1-8207-2de35c113599\")\n",
    "company"
   ]
  },
  {
   "cell_type": "code",
   "execution_count": 2,
   "id": "818c346c",
   "metadata": {},
   "outputs": [
    {
     "data": {
      "text/plain": [
       "0"
      ]
     },
     "execution_count": 2,
     "metadata": {},
     "output_type": "execute_result"
    }
   ],
   "source": [
    "r=Reporting.objects.filter(company=company,form_data__amount_removed_terminals='un')\n",
    "r.count()"
   ]
  },
  {
   "cell_type": "code",
   "execution_count": 11,
   "id": "54050bef",
   "metadata": {},
   "outputs": [
    {
     "name": "stdout",
     "output_type": "stream",
     "text": [
      "Searching KM on direction...\n",
      "Searching KM without direction...\n",
      "Found KM on Road 500: SPA-431/425\n",
      "Searching KM on direction...\n",
      "Searching KM without direction...\n",
      "Found KM on Road 500: SPA-431/425\n",
      "Searching KM on direction...\n",
      "Found KM on Road 500: SPA-431/425\n",
      "Searching KM on direction...\n",
      "Searching KM without direction...\n",
      "Found KM on Road 536: SP-425\n",
      "Searching KM on direction...\n",
      "Searching KM without direction...\n",
      "Found KM on Road 536: SP-425\n",
      "Searching KM on direction...\n",
      "Found KM on Road 561: SP-225\n",
      "Searching KM on direction...\n",
      "Searching KM without direction...\n",
      "Found KM on Road 500: SPA-431/425\n",
      "Searching KM on direction...\n",
      "Searching KM without direction...\n",
      "Found KM on Road 564: SP-294\n",
      "Searching KM on direction...\n",
      "Searching KM without direction...\n",
      "Found KM on Road 562: SP-310\n"
     ]
    }
   ],
   "source": [
    "for i in r:\n",
    "    del i.form_data['amount_removed_terminals']\n",
    "    i.save()"
   ]
  },
  {
   "cell_type": "code",
   "execution_count": null,
   "id": "96f0e7df",
   "metadata": {},
   "outputs": [],
   "source": []
  }
 ],
 "metadata": {
  "kernelspec": {
   "display_name": "Django Shell-Plus",
   "language": "python",
   "name": "django_extensions"
  },
  "language_info": {
   "codemirror_mode": {
    "name": "ipython",
    "version": 3
   },
   "file_extension": ".py",
   "mimetype": "text/x-python",
   "name": "python",
   "nbconvert_exporter": "python",
   "pygments_lexer": "ipython3",
   "version": "3.7.9"
  }
 },
 "nbformat": 4,
 "nbformat_minor": 5
}
