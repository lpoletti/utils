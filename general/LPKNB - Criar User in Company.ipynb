{
 "cells": [
  {
   "cell_type": "code",
   "execution_count": 1,
   "id": "2144e555",
   "metadata": {},
   "outputs": [],
   "source": [
    "from tqdm.notebook import tqdm"
   ]
  },
  {
   "cell_type": "code",
   "execution_count": 2,
   "id": "f20023f9",
   "metadata": {},
   "outputs": [
    {
     "data": {
      "text/plain": [
       "<QuerySet [<User: gizele.ginklings - Gizele Ginklings>]>"
      ]
     },
     "execution_count": 2,
     "metadata": {},
     "output_type": "execute_result"
    }
   ],
   "source": [
    "# company=Company.objects.filter(name__in=['ELO Via Oeste','ELO Rodoanel','ELO EcoNoroeste','ELO AutoBAn','ELO SPVias'])\n",
    "p=UserPermission.objects.get(uuid='d78a1d58-2d8b-4dd6-97f4-cb8af45b3e90')\n",
    "users = User.objects.filter(username__in=[\"gizele.ginklings\"])\n",
    "users"
   ]
  },
  {
   "cell_type": "code",
   "execution_count": 3,
   "id": "e76efb4d",
   "metadata": {},
   "outputs": [
    {
     "name": "stdout",
     "output_type": "stream",
     "text": [
      "142 <QuerySet [<UserInCompany: [01a4deeb-9e6a-4f68-8114-7b0a2054e0c7: Construtora Castilho (Grupo Pátria)] rlcs>, <UserInCompany: [0581e8a1-c60f-46c6-b607-fc928e476fbf: Neovia Coronel Vivida] rlcs>, <UserInCompany: [097fe80a-4917-4fa1-8207-2de35c113599: Eixo SP] rlcs>, <UserInCompany: [0b80821a-94e6-40cf-a507-2e4918f836ce: Arteris Planalto Sul Lab] rlcs>, <UserInCompany: [0c0ca18d-1785-4191-a790-eb1429aa9842: VF Gomes - Confresa] rlcs>, <UserInCompany: [0c140b88-fd6d-47ac-9bc4-1ecc1b6395ff: Modera - Consórcio Gerencia OAE SP] rlcs>, <UserInCompany: [0dcad023-ac00-4141-8262-8f1688f4b7bd: ELO EcoNoroeste] rlcs>, <UserInCompany: [12b98a50-b8f0-484a-bf91-f9cc0cb41adc: Neovia Ponte Serrada] rlcs>, <UserInCompany: [16ec7aca-c7f8-4064-b92b-7bcc273617ad: VF Gomes - BR163] rlcs>, <UserInCompany: [1910171c-de0c-4ebb-93a4-0bd46ab2320a: Neovia Lages 421/2014] rlcs>, <UserInCompany: [1943b1eb-dbd9-48be-887d-a5498af515dc: Neovia CART] rlcs>, <UserInCompany: [19f7a119-7100-479f-a8a4-74eb46c69c00: ELO Teste] rlcs>, <UserInCompany: [1a2ff461-e412-4de3-9239-fdcf116634b6: Sinario] rlcs>, <UserInCompany: [1becd2e8-28f4-4d80-8c94-8112553324b0: Neovia Juquitiba] rlcs>, <UserInCompany: [1f17a9b0-401c-4551-8c46-920162410ed5: VF Gomes - BR158] rlcs>, <UserInCompany: [22b051ef-d318-4cba-a8ca-77f252fee3af: Arteris Fluminense] rlcs>, <UserInCompany: [23a6442c-5835-48a0-8916-bcf3e3a0e58b: VF Gomes - Vila Bela] rlcs>, <UserInCompany: [248bd308-934d-44d2-8921-ac52456cae31: Neovia Campo Mourão 213/2019] rlcs>, <UserInCompany: [27072fb1-b342-4b9e-bd66-fe1f49d3fad5: Demonstração Ferrovias] rlcs>, <UserInCompany: [27ff004a-33d2-4e44-a54b-d0c62bb4b49a: Visual Sinalização] rlcs>, '...(remaining elements truncated)...']>\n"
     ]
    }
   ],
   "source": [
    "empresas_demo = [\"Kartado | SIGACO\",\"Demo Concessionárias\",\"Teste Empreitera\"]\n",
    "outra=['Demonstração - Energia','Demonstração Usina solar']\n",
    "\n",
    "usersC = UserInCompany.objects.filter(user__username=\"rlcs\")\n",
    "print(usersC.count(),usersC.all())"
   ]
  },
  {
   "cell_type": "code",
   "execution_count": 4,
   "id": "7e4b0e04",
   "metadata": {},
   "outputs": [
    {
     "data": {
      "application/vnd.jupyter.widget-view+json": {
       "model_id": "69afad0ff35e41e3ad8dba7f666c4b86",
       "version_major": 2,
       "version_minor": 0
      },
      "text/plain": [
       "  0%|          | 0/142 [00:00<?, ?it/s]"
      ]
     },
     "metadata": {},
     "output_type": "display_data"
    },
    {
     "name": "stdout",
     "output_type": "stream",
     "text": [
      "01a4deeb-9e6a-4f68-8114-7b0a2054e0c7: Construtora Castilho (Grupo Pátria) já existe\n",
      "0581e8a1-c60f-46c6-b607-fc928e476fbf: Neovia Coronel Vivida já existe\n",
      "097fe80a-4917-4fa1-8207-2de35c113599: Eixo SP já existe\n",
      "0b80821a-94e6-40cf-a507-2e4918f836ce: Arteris Planalto Sul Lab já existe\n",
      "0c0ca18d-1785-4191-a790-eb1429aa9842: VF Gomes - Confresa já existe\n",
      "0c140b88-fd6d-47ac-9bc4-1ecc1b6395ff: Modera - Consórcio Gerencia OAE SP já existe\n",
      "0dcad023-ac00-4141-8262-8f1688f4b7bd: ELO EcoNoroeste já existe\n",
      "12b98a50-b8f0-484a-bf91-f9cc0cb41adc: Neovia Ponte Serrada já existe\n",
      "16ec7aca-c7f8-4064-b92b-7bcc273617ad: VF Gomes - BR163 já existe\n",
      "1910171c-de0c-4ebb-93a4-0bd46ab2320a: Neovia Lages 421/2014 já existe\n",
      "1943b1eb-dbd9-48be-887d-a5498af515dc: Neovia CART já existe\n",
      "19f7a119-7100-479f-a8a4-74eb46c69c00: ELO Teste já existe\n",
      "1a2ff461-e412-4de3-9239-fdcf116634b6: Sinario já existe\n",
      "1becd2e8-28f4-4d80-8c94-8112553324b0: Neovia Juquitiba já existe\n",
      "1f17a9b0-401c-4551-8c46-920162410ed5: VF Gomes - BR158 já existe\n",
      "22b051ef-d318-4cba-a8ca-77f252fee3af: Arteris Fluminense já existe\n",
      "23a6442c-5835-48a0-8916-bcf3e3a0e58b: VF Gomes - Vila Bela já existe\n",
      "248bd308-934d-44d2-8921-ac52456cae31: Neovia Campo Mourão 213/2019 já existe\n",
      "27072fb1-b342-4b9e-bd66-fe1f49d3fad5: Demonstração Ferrovias já existe\n",
      "27ff004a-33d2-4e44-a54b-d0c62bb4b49a: Visual Sinalização já existe\n",
      "2955998b-b4a8-46a8-96bb-eed11e18d4d8: Llucena SINFRA já existe\n",
      "29ad3984-36b8-4163-b8bd-958336a41040: ELO Ecovias dos Imigrantes já existe\n",
      "3167dbad-d788-4697-b866-1a4842df34a4: Cuiabá Saneamento já existe\n",
      "31938021-6b32-461b-821c-4759a5016441: Arteris Fernão Dias - Conserva já existe\n",
      "31ba4470-cdfd-48ff-a513-8d9859f4a4a9: Modera - Consórcio ME2 já existe\n",
      "368b6a99-502e-4f1c-8f10-4de6f445a160: Eixo SP - SISOAE já existe\n",
      "3a356ef4-d030-44cc-9268-bb75b0fb5572: MTSUL - Cláudia já existe\n",
      "3ab47d88-fd1a-4fc0-9134-2aad2b15122c: ECOPISTAS já existe\n",
      "3af64f25-59e8-446b-bb1e-963549090b0d: CCR - Rio Sp já existe\n",
      "3be541f1-3489-4ec5-b44a-cd1faab091e2: Construtora Castilho (Ferrovias) já existe\n",
      "3c93b41a-3fd7-40b8-a225-83481fa3f629: Kartado Modelo (SISOAE) já existe\n",
      "3f610cb1-5476-4d2a-9b08-47a50bc4f5ca: Garcia Monteiro já existe\n",
      "40749785-946f-4545-87e9-18fc844f6677: Neovia Vacaria já existe\n",
      "433c0cd2-80e2-46c9-b8c5-030fc61070e5: Arteris Via Paulista já existe\n",
      "43ba6c7c-d2a4-4fa5-a424-137623dcc747: ELO SPVias já existe\n",
      "483bf9b6-91a8-443f-9b34-403ab8ace069: Neovia Tijucas já existe\n",
      "495e47e1-3b69-4dde-a59b-1d06061443e6: Neovia Oeste já existe\n",
      "4c915d5a-295f-485a-ad36-1ac5ac14819a: Demo Teste já existe\n",
      "4e3abcde-b827-469c-ab60-4e6a3030ee60: Arteris Via Paulista - SISOAE já existe\n",
      "4edb7778-e350-4e77-8e1e-de5f87b1da7f: Caminhos da Serra Gaúcha já existe\n",
      "52adb06a-066a-4a8e-9696-600de5573d91: Pavicolet (Amazonas) já existe\n",
      "52bc8999-8495-4210-9718-7fe3537e51dc: Demonstração - SISOBRAS já existe\n",
      "52bf5f0c-7d75-4081-8616-06e0b43dee29: Arteris Litoral Sul - Conserva já existe\n",
      "555be79f-ad19-4776-94b6-ecdb474c3380: Demonstração Saneamento já existe\n",
      "57daa1f5-ac75-4a6f-be14-18694a25fdc4: Arteris Régis Bittencourt - Conserva já existe\n",
      "5a4243a4-0ddf-4aa1-8faf-34cc52ee91ee: JR Santa Fé já existe\n",
      "5a7918ca-d799-4f6b-8b48-28bfab77a52a: Demo Energia já existe\n",
      "5ba625c8-35ee-4f92-bbdb-8c74d1ce7d00: Arteris Litoral Sul - Faixa de Domínio já existe\n",
      "5fe09687-e797-4d8e-a169-a3d27fa16611: Arteris Planalto Sul - Conserva já existe\n",
      "60c9f9f4-a529-42ab-a116-636a6956369d: VF Gomes - Nova Lacerda já existe\n",
      "67704003-f388-4d35-b9a6-7e6f2b0ffc6d: Entrevias SISOAE já existe\n",
      "69e110b0-e7ee-4379-b6b2-c4c9d88e91b4: Eco Noroeste SIGECON/SIR/SISATIVOS já existe\n",
      "6ac992a9-8138-4ee9-8507-a6ca310d6737: Neovia - TESTE já existe\n",
      "6e3cba15-16be-40ec-a44a-cdb138ab6a44: FSA Engenharia já existe\n",
      "6eb8832e-205f-4c9c-9fac-0b28bb04e30f: Neovia São Bento 533/2014 já existe\n",
      "6fa7b6b3-db43-4cf5-9bf0-cffc54278afa: Demonstração Concessionárias já existe\n",
      "710f0d14-d1c2-4c0b-a47a-3f80d693c7df: Kartado Demonstração já existe\n",
      "75f005f5-37b0-489e-a077-85f3c31ca13b: VF Gomes - 358 já existe\n",
      "7ad1e26e-e770-49a2-98f7-0f7169e38abf: Teste Concessionárias já existe\n",
      "7c7b39ac-7711-420a-9402-0859df283634: Rota do Oeste já existe\n",
      "7e5afe32-fc54-411e-9145-8f7ea7361ee6: ELO Rodoanel já existe\n",
      "8174e68f-3a8f-4013-98dd-062954e4c0da: Eixo Sp - Pavimento já existe\n",
      "837181f0-5c09-42a6-910d-e799607b8701: Construtora Castilho (Prefeitura Curitiba) já existe\n",
      "83ce2755-5d1a-49b6-9fc2-7dbc2cd4ecce: Neovia Rancho Queimado 080/2021 já existe\n",
      "85f84ea9-6f2f-4fc7-992b-f412a5468943: Neovia Lev. BR277 já existe\n",
      "86c06181-8b3e-4fce-bead-d03d4289c1fc: Kapa Pavimentação já existe\n",
      "889a1d83-317e-4ff7-810b-fbd345bf7887: Neovia Lages 652/2019 já existe\n",
      "895f7509-2f04-4ae5-947b-dd8cb260b466: Neovia Pérola d'Oeste já existe\n",
      "8c4da155-84b7-43bc-9982-5878eef5b415: Neovia Planalto Sul já existe\n",
      "8e70b23f-907a-4e9a-ae4e-fb316dda2831: Construtora Castilho já existe\n",
      "9060b81c-9113-439c-b278-1c9df9fd9c0e: Arteris Litoral Sul Lab já existe\n",
      "914a045a-f592-4860-9c17-45c73c54e14e: Neovia Araranguá já existe\n",
      "91d69c92-2284-4570-9011-760a5a74a708: Entrevias já existe\n",
      "96e24ad5-3b23-461f-9300-85c542576894: CART já existe\n",
      "975bb601-a4ee-4939-afc8-0b3273a958c4: VF Gomes - BR010 já existe\n",
      "9763a1c5-3be6-4ddb-90bc-e6b96cc60b8d: Arteris Litoral Sul já existe\n",
      "991a1de6-c6ba-417a-a4d9-4c15c3d3d902: DER/SP - D1 já existe\n",
      "9ec4675d-2662-488a-b875-d6a0156e23a1: LCM - Criciúma já existe\n",
      "9f11c666-9324-4d2c-8378-4648157b838b: Arteris Régis Bittencourt já existe\n",
      "9fc8e4c3-ace6-4d30-b4ac-04d858aaa0df: ELO Via Lagos já existe\n",
      "9ff78f9f-ea54-48fa-bbd2-05243c4f58c4: Televale já existe\n",
      "a0fdb4a5-498d-4c1e-9858-ad118e9ece76: Arteris Fernão Dias já existe\n",
      "a25df532-7d42-494a-86bc-438d7e6f889c: Arteris Régis Bittencourt - Faixa de Domínio já existe\n",
      "a3fca710-54b8-4ee1-8375-1a908342438d: LCM - Gaspar já existe\n",
      "a4035b6a-eb90-45fa-9f94-a1120ad00f3b: Neovia BR-285 já existe\n",
      "a429e01f-d1f3-4ec7-b1df-8de351c3765b: Eco Noroeste SISOAE já existe\n",
      "a76bc044-1936-4342-b488-373ec987f3c6: Neovia Chapecó já existe\n",
      "a7ccb2d4-798d-478b-b284-999dbcb98d55: VF Gomes - 350 já existe\n",
      "a8fd21ba-2c6c-4df1-9930-69737a2ff181: Neovia Lagoa Vermelha já existe\n",
      "acd47ed7-4f96-4a27-b6a3-268b4e30779b: Arteris Planalto Sul já existe\n",
      "ad0d83e2-9422-46e5-97a4-d60bc10d41b8: Eco Noroeste SISOBRAS já existe\n",
      "ae9e491c-fa55-4570-80f0-c032a15652a7: Neovia Cto Biguaçu já existe\n",
      "aedb8304-0410-4916-85a9-bce1cdb87e24: Neovia Bocaína do Sul 329/2018 já existe\n",
      "af087987-e1cd-47e0-8885-d306d5da6821: Via Araucária já existe\n",
      "b0c55603-e20e-4e98-aa83-2f7b220a0b57: Afirma Engenharia Viária já existe\n",
      "b29baa4a-36f4-47cb-95ec-0afb23cc9b2e: Neovia General Carneiro já existe\n",
      "b3ba58fe-c03e-428f-bd35-f88d83f214ed: ELO Via Oeste já existe\n",
      "b64a2e4e-8d2b-4db5-bdb2-53369e6bf749: ABAPA Demonstração já existe\n",
      "b75339ff-e91f-4e75-a082-5d7e23a4d049: Testes Auscultação já existe\n",
      "b8450161-14d1-4de8-b254-7d1ddc4a9c20: Arteris Intervias já existe\n",
      "b8c91aac-3cbb-48d7-a5f2-064c0f0702a2: Nova Rota do Oeste - Obras já existe\n",
      "bdaff9a4-ab20-4022-b05e-0c0ea8f48e86: Modera - Velar já existe\n",
      "be11c6d3-a7d3-456a-b0b3-3fa1c5583ca4: Sinaliza Via (Rodovias) já existe\n",
      "be375f3a-0947-4381-be62-81ad4bd0570e: VF Gomes - 455 já existe\n",
      "bec1fdb9-85a7-40ad-b1ac-6f1c215859a8: Eixo SP - Fx. Dom. | Qualidade | Topografia já existe\n",
      "bed840c2-d630-46c2-ac37-a86eca9c7901: Dalba Foz do Iguaçu já existe\n",
      "c24f491c-9380-4bbe-b776-51ef7159b9bb: ELO Rodovias dos Tamoios já existe\n",
      "c2bc7bad-0602-46d7-91ab-c26c5a8c406f: Rota do Oeste - Obras já existe\n",
      "c3c9bfe9-3607-4894-a8d5-61f6f5acd4fa: VF Gomes - Porto Espiridião já existe\n",
      "c5598c72-909a-4ffb-9a27-8839872ccaa4: Neovia Régis Bittencourt já existe\n",
      "c6ac2ffe-ab66-4d29-9129-a76f370251eb: Neovia Alcinópolis já existe\n",
      "caba5ee3-9e28-4e50-98b2-87c1dae57d82: Kapa Município já existe\n",
      "d0fac1b3-8fa7-4251-be6d-9ee603a4a421: Arteris Fluminense - Conserva já existe\n",
      "d2a2a37d-b7d1-438c-81cd-38e8cf87c865: ELO Rodovias Tietê já existe\n",
      "d320c615-6a95-4303-8ce5-983eafc838b2: Demonstração Usina solar já existe\n",
      "d4e644a3-574e-421f-92c8-dfccfdaa7a60: Arteris Planalto Sul - Faixa de Domínio já existe\n",
      "d8ad38eb-91bf-4482-b5c8-7f3c6341c65e: Arteris Via Paulista - SISOBRAS/SISQUALI já existe\n",
      "d9bc4a71-94a5-4294-9385-e66f05e1aba0: Minasul já existe\n",
      "de8462a2-7bcd-4a71-a33d-0138164868d2: Neovia CCR Rodonorte já existe\n",
      "e25c6e53-5b44-416e-9b67-4db7d47a94a4: Llucena Vias Urbanas já existe\n",
      "e31b08e6-ba7e-48cf-ad95-3605f27a879b: ELO AutoBAn já existe\n",
      "e3a59ccd-1df6-4870-bb7c-64cee4a49ae2: Radar SA já existe\n",
      "e572ed6f-ed84-418d-8366-1b0456bb970f: Neovia Contorno Sul já existe\n",
      "e7ac3c59-f821-4715-a505-5e6c5de4942e: LCM - Ituporanga já existe\n",
      "ec364a8e-b335-4729-8ac8-50ccabd73459: Arteris Via Paulista - Faixa de Domínio já existe\n",
      "edcb2ab4-ce09-451e-a9d5-9871e43532f7: Demonstração - Energia já existe\n",
      "ee45a8e1-5f6c-4bf6-a2b4-51f686187fa7: Neovia Araquari 886/2020 já existe\n",
      "ee7795f4-c04a-4f5c-8918-47c3d8645de7: Pavicolet (Amapá) já existe\n",
      "eee8616b-7b11-40a9-a7f2-3d1c2207b7a8: Sinalizavia (Municípios) já existe\n",
      "efbf4869-4486-449d-8052-21fef17c2f62: CAJ já existe\n",
      "efe5ba66-bc1e-4fdc-8d29-b30d904c3eca: Teste Empreitera já existe\n",
      "f08f7f12-ddb0-4ad4-b274-961ba16da48a: Arteris Régis Bittencourt Lab já existe\n"
     ]
    },
    {
     "name": "stdout",
     "output_type": "stream",
     "text": [
      "f0b6948c-3d75-47dd-94a6-4b8ea4373ce4: Demo Concessionárias já existe\n",
      "f1226d97-a09a-467d-8a43-2bc43e97d124: Kartado Demonstração 2 já existe\n",
      "f14e9514-ae4b-4a3c-8395-43c06b6b103c: Kartado | SIGACO já existe\n",
      "f27c48c5-37b9-45c6-a326-7c4015f4e755: Neovia Florianópolis já existe\n",
      "f3b2b4c4-b5be-42ab-9a34-27bfa44e2044: ELO Ecopistas já existe\n",
      "f700f9bf-2321-4173-97f4-1fc0e06d9537: Neovia Diamantino já existe\n",
      "fa2f727d-4bba-477a-97ec-a9f6585537fa: Terrayama - DER Araçuaí já existe\n",
      "fb10d5e8-fad2-4eed-85c4-5d64a5dac008: ELO Rota das Bandeiras já existe\n",
      "fea2b0fe-868f-4bb8-826a-337f03c69305: Via Brasil já existe\n",
      "ffbd0bac-3af9-471c-ade2-23e7bca306ef: Brusque já existe\n"
     ]
    }
   ],
   "source": [
    "for a in tqdm(usersC):\n",
    "    for b in users:\n",
    "        try:\n",
    "            a.uuid=None\n",
    "            a.user = b\n",
    "    #         a.permissions = p\n",
    "            a.save()\n",
    "        except Exception as e:\n",
    "            print(a.company,\"já existe\")"
   ]
  },
  {
   "cell_type": "code",
   "execution_count": 40,
   "id": "61bc06be",
   "metadata": {},
   "outputs": [],
   "source": [
    "usersC = UserInCompany.objects.filter(company__name__in=['ELO Via Oeste','ELO Rodoanel','ELO EcoNoroeste','ELO AutoBAn','ELO SPVias'])\n"
   ]
  },
  {
   "cell_type": "code",
   "execution_count": 37,
   "id": "bc51a197",
   "metadata": {},
   "outputs": [
    {
     "data": {
      "text/plain": [
       "<Company: d320c615-6a95-4303-8ce5-983eafc838b2: Demonstração Usina solar>"
      ]
     },
     "execution_count": 37,
     "metadata": {},
     "output_type": "execute_result"
    }
   ],
   "source": [
    "Company.objects.get(uuid='d320c615-6a95-4303-8ce5-983eafc838b2')"
   ]
  },
  {
   "cell_type": "code",
   "execution_count": 1,
   "id": "f36a7939",
   "metadata": {},
   "outputs": [],
   "source": [
    "p=list(UserInCompany.objects.filter(user__username='zascs').values_list('company__name',flat=True))"
   ]
  },
  {
   "cell_type": "code",
   "execution_count": 2,
   "id": "1fcad51b",
   "metadata": {},
   "outputs": [
    {
     "data": {
      "text/plain": [
       "['UHE-PONTE DE PEDRA',\n",
       " 'UHE-PASSO FUNDO',\n",
       " 'PCH-RONDONÓPOLIS',\n",
       " 'UHE-SÃO SALVADOR',\n",
       " 'UHE-ESTREITO',\n",
       " 'UHE-SALTO SANTIAGO',\n",
       " 'UTPS',\n",
       " 'UHE-MACHADINHO',\n",
       " 'UHE-SALTO OSORIO',\n",
       " 'PCH-JOSÉ GELÁZIO DA ROCHA',\n",
       " 'UHE-MIRANDA',\n",
       " 'UHE-ESTREITO 2',\n",
       " 'UHE-CANA BRAVA',\n",
       " 'UHE-ITA',\n",
       " 'UHE-JAGUARA']"
      ]
     },
     "execution_count": 2,
     "metadata": {},
     "output_type": "execute_result"
    }
   ],
   "source": [
    "p"
   ]
  },
  {
   "cell_type": "code",
   "execution_count": 11,
   "id": "12e7de9a",
   "metadata": {},
   "outputs": [
    {
     "data": {
      "text/plain": [
       "(1, {'companies.UserInCompany': 1})"
      ]
     },
     "execution_count": 11,
     "metadata": {},
     "output_type": "execute_result"
    }
   ],
   "source": [
    "ui=UserInCompany.objects.filter(user__username__in=lista_user,company=company)\n",
    "ui[0].delete()"
   ]
  },
  {
   "cell_type": "markdown",
   "id": "3c497dcd",
   "metadata": {},
   "source": [
    "# Criar User In Company"
   ]
  },
  {
   "cell_type": "code",
   "execution_count": 5,
   "id": "991fe2e4",
   "metadata": {},
   "outputs": [],
   "source": [
    "from tqdm.notebook import tqdm\n",
    "lista_user=['rlcs','victor.martins','leonardo.minski','karla.zorzam','pedro.cardoso','pedroh.fornari','thayse.tessaro','gabriel.rodrigues@kartado.com.br']\n",
    "user=['lteste']"
   ]
  },
  {
   "cell_type": "code",
   "execution_count": 5,
   "id": "3f996ebc",
   "metadata": {},
   "outputs": [
    {
     "data": {
      "text/plain": [
       "<QuerySet [<Company: 433c0cd2-80e2-46c9-b8c5-030fc61070e5: Arteris Via Paulista>]>"
      ]
     },
     "execution_count": 5,
     "metadata": {},
     "output_type": "execute_result"
    }
   ],
   "source": [
    "company=Company.objects.filter(name='Arteris Via Paulista')\n",
    "company"
   ]
  },
  {
   "cell_type": "code",
   "execution_count": 7,
   "id": "bc2f9ade",
   "metadata": {},
   "outputs": [
    {
     "data": {
      "application/vnd.jupyter.widget-view+json": {
       "model_id": "cde8dbd07c09429eba4ad29e4e161252",
       "version_major": 2,
       "version_minor": 0
      },
      "text/plain": [
       "  0%|          | 0/8 [00:00<?, ?it/s]"
      ]
     },
     "metadata": {},
     "output_type": "display_data"
    },
    {
     "name": "stdout",
     "output_type": "stream",
     "text": [
      "Já Existe rlcs\n",
      "Já Existe victor.martins\n",
      "Já Existe leonardo.minski\n",
      "Já Existe karla.zorzam\n",
      "Já Existe pedro.cardoso\n",
      "Já Existe pedroh.fornari\n",
      "Já Existe thayse.tessaro\n",
      "Criado com sucesso [5ba625c8-35ee-4f92-bbdb-8c74d1ce7d00: Arteris Regional Sul - Faixa de Domínio] gabriel.rodrigues\n"
     ]
    }
   ],
   "source": [
    "for a in tqdm(lista_user):\n",
    "    for b in company:\n",
    "        try:\n",
    "            uc=UserInCompany(user=User.objects.get(username=a),\n",
    "                          company=b,\n",
    "                          permissions=UserPermission.objects.filter(companies=b, name__icontains='Suporte').first())\n",
    "            uc.save()\n",
    "            print('Criado com sucesso',uc)\n",
    "        except:\n",
    "            print('Já Existe',a)"
   ]
  },
  {
   "cell_type": "code",
   "execution_count": 16,
   "id": "53cadf58",
   "metadata": {},
   "outputs": [
    {
     "ename": "ValueError",
     "evalue": "The QuerySet value for an exact lookup must be limited to one result using slicing.",
     "output_type": "error",
     "traceback": [
      "\u001b[0;31m---------------------------------------------------------------------------\u001b[0m",
      "\u001b[0;31mValueError\u001b[0m                                Traceback (most recent call last)",
      "\u001b[0;32m/tmp/ipykernel_12814/2381379360.py\u001b[0m in \u001b[0;36m<module>\u001b[0;34m\u001b[0m\n\u001b[0;32m----> 1\u001b[0;31m \u001b[0mUserInCompany\u001b[0m\u001b[0;34m.\u001b[0m\u001b[0mobjects\u001b[0m\u001b[0;34m.\u001b[0m\u001b[0mget\u001b[0m\u001b[0;34m(\u001b[0m\u001b[0muser__username\u001b[0m\u001b[0;34m=\u001b[0m\u001b[0;34m\"giulia.maffezzolli\"\u001b[0m\u001b[0;34m,\u001b[0m\u001b[0mcompany\u001b[0m\u001b[0;34m=\u001b[0m\u001b[0mcompany\u001b[0m\u001b[0;34m)\u001b[0m\u001b[0;34m\u001b[0m\u001b[0;34m\u001b[0m\u001b[0m\n\u001b[0m",
      "\u001b[0;32m~/.cache/pypoetry/virtualenvs/apps-ZFymp6kh-py3.7/lib/python3.7/site-packages/django/db/models/manager.py\u001b[0m in \u001b[0;36mmanager_method\u001b[0;34m(self, *args, **kwargs)\u001b[0m\n\u001b[1;32m     80\u001b[0m         \u001b[0;32mdef\u001b[0m \u001b[0mcreate_method\u001b[0m\u001b[0;34m(\u001b[0m\u001b[0mname\u001b[0m\u001b[0;34m,\u001b[0m \u001b[0mmethod\u001b[0m\u001b[0;34m)\u001b[0m\u001b[0;34m:\u001b[0m\u001b[0;34m\u001b[0m\u001b[0;34m\u001b[0m\u001b[0m\n\u001b[1;32m     81\u001b[0m             \u001b[0;32mdef\u001b[0m \u001b[0mmanager_method\u001b[0m\u001b[0;34m(\u001b[0m\u001b[0mself\u001b[0m\u001b[0;34m,\u001b[0m \u001b[0;34m*\u001b[0m\u001b[0margs\u001b[0m\u001b[0;34m,\u001b[0m \u001b[0;34m**\u001b[0m\u001b[0mkwargs\u001b[0m\u001b[0;34m)\u001b[0m\u001b[0;34m:\u001b[0m\u001b[0;34m\u001b[0m\u001b[0;34m\u001b[0m\u001b[0m\n\u001b[0;32m---> 82\u001b[0;31m                 \u001b[0;32mreturn\u001b[0m \u001b[0mgetattr\u001b[0m\u001b[0;34m(\u001b[0m\u001b[0mself\u001b[0m\u001b[0;34m.\u001b[0m\u001b[0mget_queryset\u001b[0m\u001b[0;34m(\u001b[0m\u001b[0;34m)\u001b[0m\u001b[0;34m,\u001b[0m \u001b[0mname\u001b[0m\u001b[0;34m)\u001b[0m\u001b[0;34m(\u001b[0m\u001b[0;34m*\u001b[0m\u001b[0margs\u001b[0m\u001b[0;34m,\u001b[0m \u001b[0;34m**\u001b[0m\u001b[0mkwargs\u001b[0m\u001b[0;34m)\u001b[0m\u001b[0;34m\u001b[0m\u001b[0;34m\u001b[0m\u001b[0m\n\u001b[0m\u001b[1;32m     83\u001b[0m             \u001b[0mmanager_method\u001b[0m\u001b[0;34m.\u001b[0m\u001b[0m__name__\u001b[0m \u001b[0;34m=\u001b[0m \u001b[0mmethod\u001b[0m\u001b[0;34m.\u001b[0m\u001b[0m__name__\u001b[0m\u001b[0;34m\u001b[0m\u001b[0;34m\u001b[0m\u001b[0m\n\u001b[1;32m     84\u001b[0m             \u001b[0mmanager_method\u001b[0m\u001b[0;34m.\u001b[0m\u001b[0m__doc__\u001b[0m \u001b[0;34m=\u001b[0m \u001b[0mmethod\u001b[0m\u001b[0;34m.\u001b[0m\u001b[0m__doc__\u001b[0m\u001b[0;34m\u001b[0m\u001b[0;34m\u001b[0m\u001b[0m\n",
      "\u001b[0;32m~/.cache/pypoetry/virtualenvs/apps-ZFymp6kh-py3.7/lib/python3.7/site-packages/django/db/models/query.py\u001b[0m in \u001b[0;36mget\u001b[0;34m(self, *args, **kwargs)\u001b[0m\n\u001b[1;32m    400\u001b[0m         \u001b[0;32mif\u001b[0m \u001b[0mself\u001b[0m\u001b[0;34m.\u001b[0m\u001b[0mquery\u001b[0m\u001b[0;34m.\u001b[0m\u001b[0mcan_filter\u001b[0m\u001b[0;34m(\u001b[0m\u001b[0;34m)\u001b[0m \u001b[0;32mand\u001b[0m \u001b[0;32mnot\u001b[0m \u001b[0mself\u001b[0m\u001b[0;34m.\u001b[0m\u001b[0mquery\u001b[0m\u001b[0;34m.\u001b[0m\u001b[0mdistinct_fields\u001b[0m\u001b[0;34m:\u001b[0m\u001b[0;34m\u001b[0m\u001b[0;34m\u001b[0m\u001b[0m\n\u001b[1;32m    401\u001b[0m             \u001b[0mclone\u001b[0m \u001b[0;34m=\u001b[0m \u001b[0mclone\u001b[0m\u001b[0;34m.\u001b[0m\u001b[0morder_by\u001b[0m\u001b[0;34m(\u001b[0m\u001b[0;34m)\u001b[0m\u001b[0;34m\u001b[0m\u001b[0;34m\u001b[0m\u001b[0m\n\u001b[0;32m--> 402\u001b[0;31m         \u001b[0mnum\u001b[0m \u001b[0;34m=\u001b[0m \u001b[0mlen\u001b[0m\u001b[0;34m(\u001b[0m\u001b[0mclone\u001b[0m\u001b[0;34m)\u001b[0m\u001b[0;34m\u001b[0m\u001b[0;34m\u001b[0m\u001b[0m\n\u001b[0m\u001b[1;32m    403\u001b[0m         \u001b[0;32mif\u001b[0m \u001b[0mnum\u001b[0m \u001b[0;34m==\u001b[0m \u001b[0;36m1\u001b[0m\u001b[0;34m:\u001b[0m\u001b[0;34m\u001b[0m\u001b[0;34m\u001b[0m\u001b[0m\n\u001b[1;32m    404\u001b[0m             \u001b[0;32mreturn\u001b[0m \u001b[0mclone\u001b[0m\u001b[0;34m.\u001b[0m\u001b[0m_result_cache\u001b[0m\u001b[0;34m[\u001b[0m\u001b[0;36m0\u001b[0m\u001b[0;34m]\u001b[0m\u001b[0;34m\u001b[0m\u001b[0;34m\u001b[0m\u001b[0m\n",
      "\u001b[0;32m~/.cache/pypoetry/virtualenvs/apps-ZFymp6kh-py3.7/lib/python3.7/site-packages/django/db/models/query.py\u001b[0m in \u001b[0;36m__len__\u001b[0;34m(self)\u001b[0m\n\u001b[1;32m    254\u001b[0m \u001b[0;34m\u001b[0m\u001b[0m\n\u001b[1;32m    255\u001b[0m     \u001b[0;32mdef\u001b[0m \u001b[0m__len__\u001b[0m\u001b[0;34m(\u001b[0m\u001b[0mself\u001b[0m\u001b[0;34m)\u001b[0m\u001b[0;34m:\u001b[0m\u001b[0;34m\u001b[0m\u001b[0;34m\u001b[0m\u001b[0m\n\u001b[0;32m--> 256\u001b[0;31m         \u001b[0mself\u001b[0m\u001b[0;34m.\u001b[0m\u001b[0m_fetch_all\u001b[0m\u001b[0;34m(\u001b[0m\u001b[0;34m)\u001b[0m\u001b[0;34m\u001b[0m\u001b[0;34m\u001b[0m\u001b[0m\n\u001b[0m\u001b[1;32m    257\u001b[0m         \u001b[0;32mreturn\u001b[0m \u001b[0mlen\u001b[0m\u001b[0;34m(\u001b[0m\u001b[0mself\u001b[0m\u001b[0;34m.\u001b[0m\u001b[0m_result_cache\u001b[0m\u001b[0;34m)\u001b[0m\u001b[0;34m\u001b[0m\u001b[0;34m\u001b[0m\u001b[0m\n\u001b[1;32m    258\u001b[0m \u001b[0;34m\u001b[0m\u001b[0m\n",
      "\u001b[0;32m~/.cache/pypoetry/virtualenvs/apps-ZFymp6kh-py3.7/lib/python3.7/site-packages/django/db/models/query.py\u001b[0m in \u001b[0;36m_fetch_all\u001b[0;34m(self)\u001b[0m\n\u001b[1;32m   1240\u001b[0m     \u001b[0;32mdef\u001b[0m \u001b[0m_fetch_all\u001b[0m\u001b[0;34m(\u001b[0m\u001b[0mself\u001b[0m\u001b[0;34m)\u001b[0m\u001b[0;34m:\u001b[0m\u001b[0;34m\u001b[0m\u001b[0;34m\u001b[0m\u001b[0m\n\u001b[1;32m   1241\u001b[0m         \u001b[0;32mif\u001b[0m \u001b[0mself\u001b[0m\u001b[0;34m.\u001b[0m\u001b[0m_result_cache\u001b[0m \u001b[0;32mis\u001b[0m \u001b[0;32mNone\u001b[0m\u001b[0;34m:\u001b[0m\u001b[0;34m\u001b[0m\u001b[0;34m\u001b[0m\u001b[0m\n\u001b[0;32m-> 1242\u001b[0;31m             \u001b[0mself\u001b[0m\u001b[0;34m.\u001b[0m\u001b[0m_result_cache\u001b[0m \u001b[0;34m=\u001b[0m \u001b[0mlist\u001b[0m\u001b[0;34m(\u001b[0m\u001b[0mself\u001b[0m\u001b[0;34m.\u001b[0m\u001b[0m_iterable_class\u001b[0m\u001b[0;34m(\u001b[0m\u001b[0mself\u001b[0m\u001b[0;34m)\u001b[0m\u001b[0;34m)\u001b[0m\u001b[0;34m\u001b[0m\u001b[0;34m\u001b[0m\u001b[0m\n\u001b[0m\u001b[1;32m   1243\u001b[0m         \u001b[0;32mif\u001b[0m \u001b[0mself\u001b[0m\u001b[0;34m.\u001b[0m\u001b[0m_prefetch_related_lookups\u001b[0m \u001b[0;32mand\u001b[0m \u001b[0;32mnot\u001b[0m \u001b[0mself\u001b[0m\u001b[0;34m.\u001b[0m\u001b[0m_prefetch_done\u001b[0m\u001b[0;34m:\u001b[0m\u001b[0;34m\u001b[0m\u001b[0;34m\u001b[0m\u001b[0m\n\u001b[1;32m   1244\u001b[0m             \u001b[0mself\u001b[0m\u001b[0;34m.\u001b[0m\u001b[0m_prefetch_related_objects\u001b[0m\u001b[0;34m(\u001b[0m\u001b[0;34m)\u001b[0m\u001b[0;34m\u001b[0m\u001b[0;34m\u001b[0m\u001b[0m\n",
      "\u001b[0;32m~/.cache/pypoetry/virtualenvs/apps-ZFymp6kh-py3.7/lib/python3.7/site-packages/django/db/models/query.py\u001b[0m in \u001b[0;36m__iter__\u001b[0;34m(self)\u001b[0m\n\u001b[1;32m     53\u001b[0m         \u001b[0;31m# Execute the query. This will also fill compiler.select, klass_info,\u001b[0m\u001b[0;34m\u001b[0m\u001b[0;34m\u001b[0m\u001b[0;34m\u001b[0m\u001b[0m\n\u001b[1;32m     54\u001b[0m         \u001b[0;31m# and annotations.\u001b[0m\u001b[0;34m\u001b[0m\u001b[0;34m\u001b[0m\u001b[0;34m\u001b[0m\u001b[0m\n\u001b[0;32m---> 55\u001b[0;31m         \u001b[0mresults\u001b[0m \u001b[0;34m=\u001b[0m \u001b[0mcompiler\u001b[0m\u001b[0;34m.\u001b[0m\u001b[0mexecute_sql\u001b[0m\u001b[0;34m(\u001b[0m\u001b[0mchunked_fetch\u001b[0m\u001b[0;34m=\u001b[0m\u001b[0mself\u001b[0m\u001b[0;34m.\u001b[0m\u001b[0mchunked_fetch\u001b[0m\u001b[0;34m,\u001b[0m \u001b[0mchunk_size\u001b[0m\u001b[0;34m=\u001b[0m\u001b[0mself\u001b[0m\u001b[0;34m.\u001b[0m\u001b[0mchunk_size\u001b[0m\u001b[0;34m)\u001b[0m\u001b[0;34m\u001b[0m\u001b[0;34m\u001b[0m\u001b[0m\n\u001b[0m\u001b[1;32m     56\u001b[0m         select, klass_info, annotation_col_map = (compiler.select, compiler.klass_info,\n\u001b[1;32m     57\u001b[0m                                                   compiler.annotation_col_map)\n",
      "\u001b[0;32m~/.cache/pypoetry/virtualenvs/apps-ZFymp6kh-py3.7/lib/python3.7/site-packages/django/db/models/sql/compiler.py\u001b[0m in \u001b[0;36mexecute_sql\u001b[0;34m(self, result_type, chunked_fetch, chunk_size)\u001b[0m\n\u001b[1;32m   1127\u001b[0m         \u001b[0mresult_type\u001b[0m \u001b[0;34m=\u001b[0m \u001b[0mresult_type\u001b[0m \u001b[0;32mor\u001b[0m \u001b[0mNO_RESULTS\u001b[0m\u001b[0;34m\u001b[0m\u001b[0;34m\u001b[0m\u001b[0m\n\u001b[1;32m   1128\u001b[0m         \u001b[0;32mtry\u001b[0m\u001b[0;34m:\u001b[0m\u001b[0;34m\u001b[0m\u001b[0;34m\u001b[0m\u001b[0m\n\u001b[0;32m-> 1129\u001b[0;31m             \u001b[0msql\u001b[0m\u001b[0;34m,\u001b[0m \u001b[0mparams\u001b[0m \u001b[0;34m=\u001b[0m \u001b[0mself\u001b[0m\u001b[0;34m.\u001b[0m\u001b[0mas_sql\u001b[0m\u001b[0;34m(\u001b[0m\u001b[0;34m)\u001b[0m\u001b[0;34m\u001b[0m\u001b[0;34m\u001b[0m\u001b[0m\n\u001b[0m\u001b[1;32m   1130\u001b[0m             \u001b[0;32mif\u001b[0m \u001b[0;32mnot\u001b[0m \u001b[0msql\u001b[0m\u001b[0;34m:\u001b[0m\u001b[0;34m\u001b[0m\u001b[0;34m\u001b[0m\u001b[0m\n\u001b[1;32m   1131\u001b[0m                 \u001b[0;32mraise\u001b[0m \u001b[0mEmptyResultSet\u001b[0m\u001b[0;34m\u001b[0m\u001b[0;34m\u001b[0m\u001b[0m\n",
      "\u001b[0;32m~/.cache/pypoetry/virtualenvs/apps-ZFymp6kh-py3.7/lib/python3.7/site-packages/django/db/models/sql/compiler.py\u001b[0m in \u001b[0;36mas_sql\u001b[0;34m(self, with_limits, with_col_aliases)\u001b[0m\n\u001b[1;32m    487\u001b[0m                 \u001b[0;31m# (see docstring of get_from_clause() for details).\u001b[0m\u001b[0;34m\u001b[0m\u001b[0;34m\u001b[0m\u001b[0;34m\u001b[0m\u001b[0m\n\u001b[1;32m    488\u001b[0m                 \u001b[0mfrom_\u001b[0m\u001b[0;34m,\u001b[0m \u001b[0mf_params\u001b[0m \u001b[0;34m=\u001b[0m \u001b[0mself\u001b[0m\u001b[0;34m.\u001b[0m\u001b[0mget_from_clause\u001b[0m\u001b[0;34m(\u001b[0m\u001b[0;34m)\u001b[0m\u001b[0;34m\u001b[0m\u001b[0;34m\u001b[0m\u001b[0m\n\u001b[0;32m--> 489\u001b[0;31m                 \u001b[0mwhere\u001b[0m\u001b[0;34m,\u001b[0m \u001b[0mw_params\u001b[0m \u001b[0;34m=\u001b[0m \u001b[0mself\u001b[0m\u001b[0;34m.\u001b[0m\u001b[0mcompile\u001b[0m\u001b[0;34m(\u001b[0m\u001b[0mself\u001b[0m\u001b[0;34m.\u001b[0m\u001b[0mwhere\u001b[0m\u001b[0;34m)\u001b[0m \u001b[0;32mif\u001b[0m \u001b[0mself\u001b[0m\u001b[0;34m.\u001b[0m\u001b[0mwhere\u001b[0m \u001b[0;32mis\u001b[0m \u001b[0;32mnot\u001b[0m \u001b[0;32mNone\u001b[0m \u001b[0;32melse\u001b[0m \u001b[0;34m(\u001b[0m\u001b[0;34m\"\"\u001b[0m\u001b[0;34m,\u001b[0m \u001b[0;34m[\u001b[0m\u001b[0;34m]\u001b[0m\u001b[0;34m)\u001b[0m\u001b[0;34m\u001b[0m\u001b[0;34m\u001b[0m\u001b[0m\n\u001b[0m\u001b[1;32m    490\u001b[0m                 \u001b[0mhaving\u001b[0m\u001b[0;34m,\u001b[0m \u001b[0mh_params\u001b[0m \u001b[0;34m=\u001b[0m \u001b[0mself\u001b[0m\u001b[0;34m.\u001b[0m\u001b[0mcompile\u001b[0m\u001b[0;34m(\u001b[0m\u001b[0mself\u001b[0m\u001b[0;34m.\u001b[0m\u001b[0mhaving\u001b[0m\u001b[0;34m)\u001b[0m \u001b[0;32mif\u001b[0m \u001b[0mself\u001b[0m\u001b[0;34m.\u001b[0m\u001b[0mhaving\u001b[0m \u001b[0;32mis\u001b[0m \u001b[0;32mnot\u001b[0m \u001b[0;32mNone\u001b[0m \u001b[0;32melse\u001b[0m \u001b[0;34m(\u001b[0m\u001b[0;34m\"\"\u001b[0m\u001b[0;34m,\u001b[0m \u001b[0;34m[\u001b[0m\u001b[0;34m]\u001b[0m\u001b[0;34m)\u001b[0m\u001b[0;34m\u001b[0m\u001b[0;34m\u001b[0m\u001b[0m\n\u001b[1;32m    491\u001b[0m                 \u001b[0mresult\u001b[0m \u001b[0;34m=\u001b[0m \u001b[0;34m[\u001b[0m\u001b[0;34m'SELECT'\u001b[0m\u001b[0;34m]\u001b[0m\u001b[0;34m\u001b[0m\u001b[0;34m\u001b[0m\u001b[0m\n",
      "\u001b[0;32m~/.cache/pypoetry/virtualenvs/apps-ZFymp6kh-py3.7/lib/python3.7/site-packages/django/db/models/sql/compiler.py\u001b[0m in \u001b[0;36mcompile\u001b[0;34m(self, node, select_format)\u001b[0m\n\u001b[1;32m    403\u001b[0m             \u001b[0msql\u001b[0m\u001b[0;34m,\u001b[0m \u001b[0mparams\u001b[0m \u001b[0;34m=\u001b[0m \u001b[0mvendor_impl\u001b[0m\u001b[0;34m(\u001b[0m\u001b[0mself\u001b[0m\u001b[0;34m,\u001b[0m \u001b[0mself\u001b[0m\u001b[0;34m.\u001b[0m\u001b[0mconnection\u001b[0m\u001b[0;34m)\u001b[0m\u001b[0;34m\u001b[0m\u001b[0;34m\u001b[0m\u001b[0m\n\u001b[1;32m    404\u001b[0m         \u001b[0;32melse\u001b[0m\u001b[0;34m:\u001b[0m\u001b[0;34m\u001b[0m\u001b[0;34m\u001b[0m\u001b[0m\n\u001b[0;32m--> 405\u001b[0;31m             \u001b[0msql\u001b[0m\u001b[0;34m,\u001b[0m \u001b[0mparams\u001b[0m \u001b[0;34m=\u001b[0m \u001b[0mnode\u001b[0m\u001b[0;34m.\u001b[0m\u001b[0mas_sql\u001b[0m\u001b[0;34m(\u001b[0m\u001b[0mself\u001b[0m\u001b[0;34m,\u001b[0m \u001b[0mself\u001b[0m\u001b[0;34m.\u001b[0m\u001b[0mconnection\u001b[0m\u001b[0;34m)\u001b[0m\u001b[0;34m\u001b[0m\u001b[0;34m\u001b[0m\u001b[0m\n\u001b[0m\u001b[1;32m    406\u001b[0m         \u001b[0;32mif\u001b[0m \u001b[0mselect_format\u001b[0m \u001b[0;32mis\u001b[0m \u001b[0mFORCE\u001b[0m \u001b[0;32mor\u001b[0m \u001b[0;34m(\u001b[0m\u001b[0mselect_format\u001b[0m \u001b[0;32mand\u001b[0m \u001b[0;32mnot\u001b[0m \u001b[0mself\u001b[0m\u001b[0;34m.\u001b[0m\u001b[0mquery\u001b[0m\u001b[0;34m.\u001b[0m\u001b[0msubquery\u001b[0m\u001b[0;34m)\u001b[0m\u001b[0;34m:\u001b[0m\u001b[0;34m\u001b[0m\u001b[0;34m\u001b[0m\u001b[0m\n\u001b[1;32m    407\u001b[0m             \u001b[0;32mreturn\u001b[0m \u001b[0mnode\u001b[0m\u001b[0;34m.\u001b[0m\u001b[0moutput_field\u001b[0m\u001b[0;34m.\u001b[0m\u001b[0mselect_format\u001b[0m\u001b[0;34m(\u001b[0m\u001b[0mself\u001b[0m\u001b[0;34m,\u001b[0m \u001b[0msql\u001b[0m\u001b[0;34m,\u001b[0m \u001b[0mparams\u001b[0m\u001b[0;34m)\u001b[0m\u001b[0;34m\u001b[0m\u001b[0;34m\u001b[0m\u001b[0m\n",
      "\u001b[0;32m~/.cache/pypoetry/virtualenvs/apps-ZFymp6kh-py3.7/lib/python3.7/site-packages/django/db/models/sql/where.py\u001b[0m in \u001b[0;36mas_sql\u001b[0;34m(self, compiler, connection)\u001b[0m\n\u001b[1;32m     79\u001b[0m         \u001b[0;32mfor\u001b[0m \u001b[0mchild\u001b[0m \u001b[0;32min\u001b[0m \u001b[0mself\u001b[0m\u001b[0;34m.\u001b[0m\u001b[0mchildren\u001b[0m\u001b[0;34m:\u001b[0m\u001b[0;34m\u001b[0m\u001b[0;34m\u001b[0m\u001b[0m\n\u001b[1;32m     80\u001b[0m             \u001b[0;32mtry\u001b[0m\u001b[0;34m:\u001b[0m\u001b[0;34m\u001b[0m\u001b[0;34m\u001b[0m\u001b[0m\n\u001b[0;32m---> 81\u001b[0;31m                 \u001b[0msql\u001b[0m\u001b[0;34m,\u001b[0m \u001b[0mparams\u001b[0m \u001b[0;34m=\u001b[0m \u001b[0mcompiler\u001b[0m\u001b[0;34m.\u001b[0m\u001b[0mcompile\u001b[0m\u001b[0;34m(\u001b[0m\u001b[0mchild\u001b[0m\u001b[0;34m)\u001b[0m\u001b[0;34m\u001b[0m\u001b[0;34m\u001b[0m\u001b[0m\n\u001b[0m\u001b[1;32m     82\u001b[0m             \u001b[0;32mexcept\u001b[0m \u001b[0mEmptyResultSet\u001b[0m\u001b[0;34m:\u001b[0m\u001b[0;34m\u001b[0m\u001b[0;34m\u001b[0m\u001b[0m\n\u001b[1;32m     83\u001b[0m                 \u001b[0mempty_needed\u001b[0m \u001b[0;34m-=\u001b[0m \u001b[0;36m1\u001b[0m\u001b[0;34m\u001b[0m\u001b[0;34m\u001b[0m\u001b[0m\n",
      "\u001b[0;32m~/.cache/pypoetry/virtualenvs/apps-ZFymp6kh-py3.7/lib/python3.7/site-packages/django/db/models/sql/compiler.py\u001b[0m in \u001b[0;36mcompile\u001b[0;34m(self, node, select_format)\u001b[0m\n\u001b[1;32m    403\u001b[0m             \u001b[0msql\u001b[0m\u001b[0;34m,\u001b[0m \u001b[0mparams\u001b[0m \u001b[0;34m=\u001b[0m \u001b[0mvendor_impl\u001b[0m\u001b[0;34m(\u001b[0m\u001b[0mself\u001b[0m\u001b[0;34m,\u001b[0m \u001b[0mself\u001b[0m\u001b[0;34m.\u001b[0m\u001b[0mconnection\u001b[0m\u001b[0;34m)\u001b[0m\u001b[0;34m\u001b[0m\u001b[0;34m\u001b[0m\u001b[0m\n\u001b[1;32m    404\u001b[0m         \u001b[0;32melse\u001b[0m\u001b[0;34m:\u001b[0m\u001b[0;34m\u001b[0m\u001b[0;34m\u001b[0m\u001b[0m\n\u001b[0;32m--> 405\u001b[0;31m             \u001b[0msql\u001b[0m\u001b[0;34m,\u001b[0m \u001b[0mparams\u001b[0m \u001b[0;34m=\u001b[0m \u001b[0mnode\u001b[0m\u001b[0;34m.\u001b[0m\u001b[0mas_sql\u001b[0m\u001b[0;34m(\u001b[0m\u001b[0mself\u001b[0m\u001b[0;34m,\u001b[0m \u001b[0mself\u001b[0m\u001b[0;34m.\u001b[0m\u001b[0mconnection\u001b[0m\u001b[0;34m)\u001b[0m\u001b[0;34m\u001b[0m\u001b[0;34m\u001b[0m\u001b[0m\n\u001b[0m\u001b[1;32m    406\u001b[0m         \u001b[0;32mif\u001b[0m \u001b[0mselect_format\u001b[0m \u001b[0;32mis\u001b[0m \u001b[0mFORCE\u001b[0m \u001b[0;32mor\u001b[0m \u001b[0;34m(\u001b[0m\u001b[0mselect_format\u001b[0m \u001b[0;32mand\u001b[0m \u001b[0;32mnot\u001b[0m \u001b[0mself\u001b[0m\u001b[0;34m.\u001b[0m\u001b[0mquery\u001b[0m\u001b[0;34m.\u001b[0m\u001b[0msubquery\u001b[0m\u001b[0;34m)\u001b[0m\u001b[0;34m:\u001b[0m\u001b[0;34m\u001b[0m\u001b[0;34m\u001b[0m\u001b[0m\n\u001b[1;32m    407\u001b[0m             \u001b[0;32mreturn\u001b[0m \u001b[0mnode\u001b[0m\u001b[0;34m.\u001b[0m\u001b[0moutput_field\u001b[0m\u001b[0;34m.\u001b[0m\u001b[0mselect_format\u001b[0m\u001b[0;34m(\u001b[0m\u001b[0mself\u001b[0m\u001b[0;34m,\u001b[0m \u001b[0msql\u001b[0m\u001b[0;34m,\u001b[0m \u001b[0mparams\u001b[0m\u001b[0;34m)\u001b[0m\u001b[0;34m\u001b[0m\u001b[0;34m\u001b[0m\u001b[0m\n",
      "\u001b[0;32m~/.cache/pypoetry/virtualenvs/apps-ZFymp6kh-py3.7/lib/python3.7/site-packages/django/db/models/fields/related_lookups.py\u001b[0m in \u001b[0;36mas_sql\u001b[0;34m(self, compiler, connection)\u001b[0m\n\u001b[1;32m    128\u001b[0m                     lookup_class(target.get_col(self.lhs.alias, source), val), AND)\n\u001b[1;32m    129\u001b[0m             \u001b[0;32mreturn\u001b[0m \u001b[0mroot_constraint\u001b[0m\u001b[0;34m.\u001b[0m\u001b[0mas_sql\u001b[0m\u001b[0;34m(\u001b[0m\u001b[0mcompiler\u001b[0m\u001b[0;34m,\u001b[0m \u001b[0mconnection\u001b[0m\u001b[0;34m)\u001b[0m\u001b[0;34m\u001b[0m\u001b[0;34m\u001b[0m\u001b[0m\n\u001b[0;32m--> 130\u001b[0;31m         \u001b[0;32mreturn\u001b[0m \u001b[0msuper\u001b[0m\u001b[0;34m(\u001b[0m\u001b[0;34m)\u001b[0m\u001b[0;34m.\u001b[0m\u001b[0mas_sql\u001b[0m\u001b[0;34m(\u001b[0m\u001b[0mcompiler\u001b[0m\u001b[0;34m,\u001b[0m \u001b[0mconnection\u001b[0m\u001b[0;34m)\u001b[0m\u001b[0;34m\u001b[0m\u001b[0;34m\u001b[0m\u001b[0m\n\u001b[0m\u001b[1;32m    131\u001b[0m \u001b[0;34m\u001b[0m\u001b[0m\n\u001b[1;32m    132\u001b[0m \u001b[0;34m\u001b[0m\u001b[0m\n",
      "\u001b[0;32m~/.cache/pypoetry/virtualenvs/apps-ZFymp6kh-py3.7/lib/python3.7/site-packages/django/db/models/lookups.py\u001b[0m in \u001b[0;36mas_sql\u001b[0;34m(self, compiler, connection)\u001b[0m\n\u001b[1;32m    161\u001b[0m     \u001b[0;32mdef\u001b[0m \u001b[0mas_sql\u001b[0m\u001b[0;34m(\u001b[0m\u001b[0mself\u001b[0m\u001b[0;34m,\u001b[0m \u001b[0mcompiler\u001b[0m\u001b[0;34m,\u001b[0m \u001b[0mconnection\u001b[0m\u001b[0;34m)\u001b[0m\u001b[0;34m:\u001b[0m\u001b[0;34m\u001b[0m\u001b[0;34m\u001b[0m\u001b[0m\n\u001b[1;32m    162\u001b[0m         \u001b[0mlhs_sql\u001b[0m\u001b[0;34m,\u001b[0m \u001b[0mparams\u001b[0m \u001b[0;34m=\u001b[0m \u001b[0mself\u001b[0m\u001b[0;34m.\u001b[0m\u001b[0mprocess_lhs\u001b[0m\u001b[0;34m(\u001b[0m\u001b[0mcompiler\u001b[0m\u001b[0;34m,\u001b[0m \u001b[0mconnection\u001b[0m\u001b[0;34m)\u001b[0m\u001b[0;34m\u001b[0m\u001b[0;34m\u001b[0m\u001b[0m\n\u001b[0;32m--> 163\u001b[0;31m         \u001b[0mrhs_sql\u001b[0m\u001b[0;34m,\u001b[0m \u001b[0mrhs_params\u001b[0m \u001b[0;34m=\u001b[0m \u001b[0mself\u001b[0m\u001b[0;34m.\u001b[0m\u001b[0mprocess_rhs\u001b[0m\u001b[0;34m(\u001b[0m\u001b[0mcompiler\u001b[0m\u001b[0;34m,\u001b[0m \u001b[0mconnection\u001b[0m\u001b[0;34m)\u001b[0m\u001b[0;34m\u001b[0m\u001b[0;34m\u001b[0m\u001b[0m\n\u001b[0m\u001b[1;32m    164\u001b[0m         \u001b[0mparams\u001b[0m\u001b[0;34m.\u001b[0m\u001b[0mextend\u001b[0m\u001b[0;34m(\u001b[0m\u001b[0mrhs_params\u001b[0m\u001b[0;34m)\u001b[0m\u001b[0;34m\u001b[0m\u001b[0;34m\u001b[0m\u001b[0m\n\u001b[1;32m    165\u001b[0m         \u001b[0mrhs_sql\u001b[0m \u001b[0;34m=\u001b[0m \u001b[0mself\u001b[0m\u001b[0;34m.\u001b[0m\u001b[0mget_rhs_op\u001b[0m\u001b[0;34m(\u001b[0m\u001b[0mconnection\u001b[0m\u001b[0;34m,\u001b[0m \u001b[0mrhs_sql\u001b[0m\u001b[0;34m)\u001b[0m\u001b[0;34m\u001b[0m\u001b[0;34m\u001b[0m\u001b[0m\n",
      "\u001b[0;32m~/.cache/pypoetry/virtualenvs/apps-ZFymp6kh-py3.7/lib/python3.7/site-packages/django/db/models/lookups.py\u001b[0m in \u001b[0;36mprocess_rhs\u001b[0;34m(self, compiler, connection)\u001b[0m\n\u001b[1;32m    255\u001b[0m             \u001b[0;32melse\u001b[0m\u001b[0;34m:\u001b[0m\u001b[0;34m\u001b[0m\u001b[0;34m\u001b[0m\u001b[0m\n\u001b[1;32m    256\u001b[0m                 raise ValueError(\n\u001b[0;32m--> 257\u001b[0;31m                     \u001b[0;34m'The QuerySet value for an exact lookup must be limited to '\u001b[0m\u001b[0;34m\u001b[0m\u001b[0;34m\u001b[0m\u001b[0m\n\u001b[0m\u001b[1;32m    258\u001b[0m                     \u001b[0;34m'one result using slicing.'\u001b[0m\u001b[0;34m\u001b[0m\u001b[0;34m\u001b[0m\u001b[0m\n\u001b[1;32m    259\u001b[0m                 )\n",
      "\u001b[0;31mValueError\u001b[0m: The QuerySet value for an exact lookup must be limited to one result using slicing."
     ]
    }
   ],
   "source": [
    "UserInCompany.objects.get(user__username=\"giulia.maffezzolli\",company=company)"
   ]
  },
  {
   "cell_type": "markdown",
   "id": "7bc613b4",
   "metadata": {},
   "source": [
    "# Adição em multiplas empresas de uma lista"
   ]
  },
  {
   "cell_type": "code",
   "execution_count": 6,
   "id": "3477986c",
   "metadata": {},
   "outputs": [
    {
     "data": {
      "text/plain": [
       "57"
      ]
     },
     "execution_count": 6,
     "metadata": {},
     "output_type": "execute_result"
    }
   ],
   "source": [
    "lista = [x for x in Company.objects.filter(active=True).values_list('name',flat=True).order_by('name')]\n",
    "len(lista)"
   ]
  },
  {
   "cell_type": "code",
   "execution_count": 10,
   "id": "c2536519",
   "metadata": {},
   "outputs": [
    {
     "data": {
      "text/plain": [
       "'joao.nitzke'"
      ]
     },
     "execution_count": 10,
     "metadata": {},
     "output_type": "execute_result"
    }
   ],
   "source": [
    "user = User.objects.get(username=\"joao.nitzke\")\n",
    "user.username"
   ]
  },
  {
   "cell_type": "code",
   "execution_count": 3,
   "id": "c007d05c",
   "metadata": {
    "collapsed": true
   },
   "outputs": [
    {
     "data": {
      "text/plain": [
       "<QuerySet [<UserInCompany: [d320c615-6a95-4303-8ce5-983eafc838b2: Demonstração Usina solar] rlcs>, <UserInCompany: [d320c615-6a95-4303-8ce5-983eafc838b2: Demonstração Usina solar] alefy.santos@bm.eng.br>, <UserInCompany: [d320c615-6a95-4303-8ce5-983eafc838b2: Demonstração Usina solar] aline.silva>, <UserInCompany: [d320c615-6a95-4303-8ce5-983eafc838b2: Demonstração Usina solar] evandro.ferreira>, <UserInCompany: [d320c615-6a95-4303-8ce5-983eafc838b2: Demonstração Usina solar] pedro.gasparotti>, <UserInCompany: [d320c615-6a95-4303-8ce5-983eafc838b2: Demonstração Usina solar] leonardo.ramos>, <UserInCompany: [d320c615-6a95-4303-8ce5-983eafc838b2: Demonstração Usina solar] gabriel.rodrigues@kartado.com.br>, <UserInCompany: [d320c615-6a95-4303-8ce5-983eafc838b2: Demonstração Usina solar] victor.martins>, <UserInCompany: [d320c615-6a95-4303-8ce5-983eafc838b2: Demonstração Usina solar] leonardo.minski>, <UserInCompany: [d320c615-6a95-4303-8ce5-983eafc838b2: Demonstração Usina solar] joao.fornari>, <UserInCompany: [d320c615-6a95-4303-8ce5-983eafc838b2: Demonstração Usina solar] lukas.oliveira>]>"
      ]
     },
     "execution_count": 3,
     "metadata": {},
     "output_type": "execute_result"
    }
   ],
   "source": [
    "UserInCompany.objects.filter(company__name=\"Demonstração Usina solar\")"
   ]
  },
  {
   "cell_type": "code",
   "execution_count": 12,
   "id": "c553d55c",
   "metadata": {},
   "outputs": [
    {
     "name": "stdout",
     "output_type": "stream",
     "text": [
      "0570317e-e56d-4a53-991d-351a6ff86863: ELO SP Vias Antiga (Não utilizada) já existe\n",
      "0581e8a1-c60f-46c6-b607-fc928e476fbf: Neovia Coronel Vivida já existe\n",
      "08c9d965-ac65-4284-801f-16d972adedf5: Dalba L18 já existe\n",
      "097fe80a-4917-4fa1-8207-2de35c113599: Eixo SP já existe\n",
      "0b80821a-94e6-40cf-a507-2e4918f836ce: Arteris Planalto Sul Lab já existe\n",
      "0c0ca18d-1785-4191-a790-eb1429aa9842: VF Gomes - Confresa já existe\n",
      "0e335175-a81b-43a2-868a-92ee6371c2ba: SinalTraffic - Parnaíba já existe\n",
      "0ead5051-9350-412d-8578-14aeeb119740: ConcretMolding já existe\n",
      "12b98a50-b8f0-484a-bf91-f9cc0cb41adc: Neovia Ponte Serrada já existe\n",
      "16ec7aca-c7f8-4064-b92b-7bcc273617ad: VF Gomes - BR163 já existe\n",
      "1910171c-de0c-4ebb-93a4-0bd46ab2320a: Neovia Lages 421/2014 já existe\n",
      "1943b1eb-dbd9-48be-887d-a5498af515dc: Neovia CART já existe\n",
      "19f7a119-7100-479f-a8a4-74eb46c69c00: ELO Teste já existe\n",
      "1a2ff461-e412-4de3-9239-fdcf116634b6: Sinario já existe\n",
      "1becd2e8-28f4-4d80-8c94-8112553324b0: Neovia Juquitiba já existe\n",
      "1cbc88a2-0490-4301-a767-05986b16d271: APG Engenharia já existe\n",
      "1e1f2935-12dc-49c0-8b77-a2c7158979d8: Eixo SP - PoC já existe\n",
      "1f17a9b0-401c-4551-8c46-920162410ed5: VF Gomes - BR158 já existe\n",
      "22b051ef-d318-4cba-a8ca-77f252fee3af: Arteris Fluminense já existe\n",
      "23a6442c-5835-48a0-8916-bcf3e3a0e58b: VF Gomes - Vila Bela já existe\n",
      "248bd308-934d-44d2-8921-ac52456cae31: Neovia Campo Mourão 213/2019 já existe\n",
      "27072fb1-b342-4b9e-bd66-fe1f49d3fad5: Kartado Demonstração 9 já existe\n",
      "27ff004a-33d2-4e44-a54b-d0c62bb4b49a: Visual Sinalização já existe\n",
      "2955998b-b4a8-46a8-96bb-eed11e18d4d8: Llucena SINFRA já existe\n",
      "29ad3984-36b8-4163-b8bd-958336a41040: ELO Ecovias dos Imigrantes já existe\n",
      "3167dbad-d788-4697-b866-1a4842df34a4: Cuiabá Saneamento já existe\n",
      "31938021-6b32-461b-821c-4759a5016441: Arteris Fernão Dias - Conserva já existe\n",
      "31ba4470-cdfd-48ff-a513-8d9859f4a4a9: Modera - Consórcio ME2 já existe\n",
      "329e80a5-c02c-41d5-be0f-2321c50ca580: Via Brasil SISQUALI já existe\n",
      "33c4bd91-cc13-449b-ad22-2eb270dc86dc: Dalba Guarapuava -Lote A já existe\n",
      "3a356ef4-d030-44cc-9268-bb75b0fb5572: MTSUL - Cláudia já existe\n",
      "3ab47d88-fd1a-4fc0-9134-2aad2b15122c: ECOPISTAS já existe\n",
      "3af64f25-59e8-446b-bb1e-963549090b0d: CCR - Rio Sp já existe\n",
      "3be541f1-3489-4ec5-b44a-cd1faab091e2: Construtora Castilho (Ferrovias) já existe\n",
      "3d5f2e4d-f106-4415-973a-1b0e2ba2ca3b: Castilho Umuarama já existe\n",
      "3f610cb1-5476-4d2a-9b08-47a50bc4f5ca: Garcia Monteiro já existe\n",
      "40749785-946f-4545-87e9-18fc844f6677: Neovia Vacaria já existe\n",
      "433c0cd2-80e2-46c9-b8c5-030fc61070e5: Arteris Via Paulista já existe\n",
      "43ba6c7c-d2a4-4fa5-a424-137623dcc747: ELO SPVias já existe\n",
      "483bf9b6-91a8-443f-9b34-403ab8ace069: Neovia Tijucas já existe\n",
      "495e47e1-3b69-4dde-a59b-1d06061443e6: Neovia Oeste já existe\n",
      "4c915d5a-295f-485a-ad36-1ac5ac14819a: Demo Teste já existe\n",
      "4edb7778-e350-4e77-8e1e-de5f87b1da7f: Caminhos da Serra Gaúcha já existe\n",
      "52adb06a-066a-4a8e-9696-600de5573d91: Pavicolet (Amazonas) já existe\n",
      "52bc8999-8495-4210-9718-7fe3537e51dc: Demonstração - SISOBRAS já existe\n",
      "52bf5f0c-7d75-4081-8616-06e0b43dee29: Arteris Litoral Sul - Conserva já existe\n",
      "555be79f-ad19-4776-94b6-ecdb474c3380: Kartado Demonstração 8 já existe\n",
      "57daa1f5-ac75-4a6f-be14-18694a25fdc4: Arteris Régis Bittencourt - Conserva já existe\n",
      "586ebf86-592d-47ca-8c0d-1ba7b0dd05bb: CV Seg - Via Sul já existe\n",
      "5a4243a4-0ddf-4aa1-8faf-34cc52ee91ee: Kartado Demonstração 4 já existe\n",
      "5a7918ca-d799-4f6b-8b48-28bfab77a52a: Demo Energia já existe\n",
      "5ba625c8-35ee-4f92-bbdb-8c74d1ce7d00: Arteris Litoral Sul - Faixa de Domínio já existe\n",
      "5fe09687-e797-4d8e-a169-a3d27fa16611: Arteris Planalto Sul - Conserva já existe\n",
      "60c9f9f4-a529-42ab-a116-636a6956369d: VF Gomes - Nova Lacerda já existe\n",
      "65e836aa-7bfa-4742-9739-f6ab56fe94bb: Dalba L14 já existe\n",
      "67704003-f388-4d35-b9a6-7e6f2b0ffc6d: Entrevias SISOAE já existe\n",
      "6ac992a9-8138-4ee9-8507-a6ca310d6737: Neovia - TESTE já existe\n",
      "6b1104b5-10d8-4b9d-85a4-ea24283f6cd1: SinalTraffic - Teresina já existe\n",
      "6e3cba15-16be-40ec-a44a-cdb138ab6a44: Kartado Demonstração 3 já existe\n",
      "6eb8832e-205f-4c9c-9fac-0b28bb04e30f: Neovia São Bento 533/2014 já existe\n",
      "710f0d14-d1c2-4c0b-a47a-3f80d693c7df: Kartado Demonstração já existe\n",
      "755f394f-475f-420f-bb4a-e33c5ae754ef: Arteris Planalto Sul - Conserva Teste já existe\n",
      "75f005f5-37b0-489e-a077-85f3c31ca13b: VF Gomes - 358 já existe\n",
      "7841ee9f-a338-4a04-b8f9-b033c2144734: Ambiente Teste já existe\n",
      "7ad1e26e-e770-49a2-98f7-0f7169e38abf: Teste Concessionárias já existe\n",
      "7c7b39ac-7711-420a-9402-0859df283634: Rota do Oeste já existe\n",
      "7e5afe32-fc54-411e-9145-8f7ea7361ee6: ELO Rodoanel já existe\n",
      "7eb6a2d5-1dab-44c7-9426-7e841cc9e874: Fratello BR-174/MT Pontes e Lacerda já existe\n",
      "8174e68f-3a8f-4013-98dd-062954e4c0da: Eixo Sp - Pavimento já existe\n",
      "837181f0-5c09-42a6-910d-e799607b8701: Construtora Castilho (Prefeitura Curitiba) já existe\n",
      "83ce2755-5d1a-49b6-9fc2-7dbc2cd4ecce: Neovia Rancho Queimado 080/2021 já existe\n",
      "8571f4e2-c42b-434e-993c-75a34d9ef3ff: Fratello MT-220 Porto dos Gaúchos já existe\n",
      "85f84ea9-6f2f-4fc7-992b-f412a5468943: Neovia Lev. BR277 já existe\n",
      "889a1d83-317e-4ff7-810b-fbd345bf7887: Neovia Lages 652/2019 já existe\n",
      "895f7509-2f04-4ae5-947b-dd8cb260b466: Neovia Pérola d'Oeste já existe\n",
      "8b52a97e-6aad-49fb-b5a5-5cd4eb2193b1: Future já existe\n",
      "8c4da155-84b7-43bc-9982-5878eef5b415: Neovia Planalto Sul já existe\n",
      "8e70b23f-907a-4e9a-ae4e-fb316dda2831: Construtora Castilho já existe\n",
      "9060b81c-9113-439c-b278-1c9df9fd9c0e: Arteris Litoral Sul Lab já existe\n",
      "908804d5-6c99-49d2-9dc4-e81d9dd9cb32: DEMO já existe\n",
      "914a045a-f592-4860-9c17-45c73c54e14e: Neovia Araranguá já existe\n",
      "91b0cbf6-2d96-4f19-8167-55000ad22cec: PATO-AL LMR já existe\n",
      "91d69c92-2284-4570-9011-760a5a74a708: Entrevias já existe\n",
      "92e33531-368a-492a-83dd-9e54988d45c2: MTSUL - Matupá já existe\n",
      "96e24ad5-3b23-461f-9300-85c542576894: CART já existe\n",
      "975bb601-a4ee-4939-afc8-0b3273a958c4: VF Gomes - BR010 já existe\n",
      "9763a1c5-3be6-4ddb-90bc-e6b96cc60b8d: Arteris Litoral Sul já existe\n",
      "991a1de6-c6ba-417a-a4d9-4c15c3d3d902: Kartado Demonstração 6 já existe\n",
      "9f11c666-9324-4d2c-8378-4648157b838b: Arteris Régis Bittencourt já existe\n",
      "9fc8e4c3-ace6-4d30-b4ac-04d858aaa0df: ELO Via Lagos já existe\n",
      "9ff78f9f-ea54-48fa-bbd2-05243c4f58c4: Televale já existe\n",
      "a0fdb4a5-498d-4c1e-9858-ad118e9ece76: Arteris Fernão Dias já existe\n",
      "a25df532-7d42-494a-86bc-438d7e6f889c: Arteris Régis Bittencourt - Faixa de Domínio já existe\n",
      "a3fca710-54b8-4ee1-8375-1a908342438d: LCM Construção e Comércio já existe\n",
      "a4035b6a-eb90-45fa-9f94-a1120ad00f3b: Neovia BR-285 já existe\n",
      "a76bc044-1936-4342-b488-373ec987f3c6: Neovia Chapecó já existe\n",
      "a7ccb2d4-798d-478b-b284-999dbcb98d55: VF Gomes - 350 já existe\n",
      "a8fd21ba-2c6c-4df1-9930-69737a2ff181: Neovia Lagoa Vermelha já existe\n",
      "acd47ed7-4f96-4a27-b6a3-268b4e30779b: Arteris Planalto Sul já existe\n",
      "ae9e491c-fa55-4570-80f0-c032a15652a7: Neovia Cto Biguaçu já existe\n",
      "aedb8304-0410-4916-85a9-bce1cdb87e24: Neovia Bocaína do Sul 329/2018 já existe\n",
      "b0c55603-e20e-4e98-aa83-2f7b220a0b57: Afirma Engenharia Viária já existe\n",
      "b29baa4a-36f4-47cb-95ec-0afb23cc9b2e: Neovia General Carneiro já existe\n",
      "b3ba58fe-c03e-428f-bd35-f88d83f214ed: ELO Via Oeste já existe\n",
      "b64a2e4e-8d2b-4db5-bdb2-53369e6bf749: Kartado Demonstração 10 já existe\n",
      "b6d9e6b7-c290-4dfc-8902-12d007237f07: Eixo SP - Demonstração já existe\n",
      "b75339ff-e91f-4e75-a082-5d7e23a4d049: Testes Auscultação já existe\n",
      "b8450161-14d1-4de8-b254-7d1ddc4a9c20: Arteris Intervias já existe\n",
      "be11c6d3-a7d3-456a-b0b3-3fa1c5583ca4: Sinaliza Via (Rodovias) já existe\n",
      "be375f3a-0947-4381-be62-81ad4bd0570e: VF Gomes - 455 já existe\n",
      "bec1fdb9-85a7-40ad-b1ac-6f1c215859a8: Eixo SP - Fx. Dom. | Qualidade | Topografia já existe\n",
      "bed840c2-d630-46c2-ac37-a86eca9c7901: Dalba Foz do Iguaçu já existe\n",
      "c02e47f2-5038-41b8-bad5-0b543664caf9: Sanson já existe\n",
      "c24f491c-9380-4bbe-b776-51ef7159b9bb: ELO Rodovias dos Tamoios já existe\n",
      "c2bc7bad-0602-46d7-91ab-c26c5a8c406f: Rota do Oeste - Obras já existe\n",
      "c3c9bfe9-3607-4894-a8d5-61f6f5acd4fa: VF Gomes - Porto Espiridião já existe\n",
      "c5598c72-909a-4ffb-9a27-8839872ccaa4: Neovia Régis Bittencourt já existe\n",
      "c6ac2ffe-ab66-4d29-9129-a76f370251eb: Neovia Alcinópolis já existe\n",
      "c6c02f1c-9915-4d10-8f42-ab08b1d52369: GPS - Via Paulista já existe\n",
      "c7dc3799-9f9f-4692-b990-b8b04e47ad8a: Projeto Formulários Arteris já existe\n",
      "c9283ab1-27b9-4637-aa35-3597395f7345: Fratello MT-130 Paranatinga já existe\n",
      "caba5ee3-9e28-4e50-98b2-87c1dae57d82: Kapa Município já existe\n"
     ]
    },
    {
     "name": "stdout",
     "output_type": "stream",
     "text": [
      "d0fac1b3-8fa7-4251-be6d-9ee603a4a421: Arteris Fluminense - Conserva já existe\n",
      "d2a2a37d-b7d1-438c-81cd-38e8cf87c865: ELO Rodovias Tietê já existe\n",
      "d320c615-6a95-4303-8ce5-983eafc838b2: Demonstração Usina solar já existe\n",
      "d4e644a3-574e-421f-92c8-dfccfdaa7a60: Arteris Planalto Sul - Faixa de Domínio já existe\n",
      "d8ad38eb-91bf-4482-b5c8-7f3c6341c65e: Arteris Via Paulista - SISOBRAS/SISQUALI já existe\n",
      "d9bc4a71-94a5-4294-9385-e66f05e1aba0: Minasul já existe\n",
      "daac1370-ee61-45ce-ad13-63aa131bf4e6: ATIVO-TREINAMENTO ENERGIA já existe\n",
      "daea8a45-f321-421d-a483-959b8ae9a208: Dalba Guarapuava já existe\n",
      "ddf214d7-f46c-4a6e-8e88-e6c7b47fa97c: Copavi já existe\n",
      "de8462a2-7bcd-4a71-a33d-0138164868d2: Neovia CCR Rodonorte já existe\n",
      "e25c6e53-5b44-416e-9b67-4db7d47a94a4: Llucena Vias Urbanas já existe\n",
      "e31b08e6-ba7e-48cf-ad95-3605f27a879b: ELO AutoBAn já existe\n",
      "e3a59ccd-1df6-4870-bb7c-64cee4a49ae2: Radar SA já existe\n",
      "e572ed6f-ed84-418d-8366-1b0456bb970f: Neovia Contorno Sul já existe\n",
      "e58b3283-3d6b-4fdf-a80f-23a0077d9479: Cora Duarte - Ecosul já existe\n",
      "ec364a8e-b335-4729-8ac8-50ccabd73459: Arteris Via Paulista - Faixa de Domínio já existe\n",
      "edcb2ab4-ce09-451e-a9d5-9871e43532f7: Demonstração - Energia já existe\n",
      "ee45a8e1-5f6c-4bf6-a2b4-51f686187fa7: Neovia Araquari 886/2020 já existe\n",
      "ee7795f4-c04a-4f5c-8918-47c3d8645de7: Pavicolet (Amapá) já existe\n",
      "eee8616b-7b11-40a9-a7f2-3d1c2207b7a8: Sinalizavia (Municípios) já existe\n",
      "efbf4869-4486-449d-8052-21fef17c2f62: CAJ já existe\n",
      "efe5ba66-bc1e-4fdc-8d29-b30d904c3eca: Teste Empreitera já existe\n",
      "f08f7f12-ddb0-4ad4-b274-961ba16da48a: Arteris Régis Bittencourt Lab já existe\n",
      "f0b6948c-3d75-47dd-94a6-4b8ea4373ce4: Demo Concessionárias já existe\n",
      "f1226d97-a09a-467d-8a43-2bc43e97d124: Kartado Demonstração 2 já existe\n",
      "f14e9514-ae4b-4a3c-8395-43c06b6b103c: Kartado | SIGACO já existe\n",
      "f27c48c5-37b9-45c6-a326-7c4015f4e755: Neovia Florianópolis já existe\n",
      "f3b2b4c4-b5be-42ab-9a34-27bfa44e2044: ELO Ecopistas já existe\n",
      "f700f9bf-2321-4173-97f4-1fc0e06d9537: Neovia Diamantino já existe\n",
      "f9b5b1bc-6c12-4d47-a7c5-98acb466ca24: Demo - Concessionárias já existe\n",
      "fb10d5e8-fad2-4eed-85c4-5d64a5dac008: ELO Rota das Bandeiras já existe\n",
      "fea2b0fe-868f-4bb8-826a-337f03c69305: Via Brasil já existe\n",
      "ffbd0bac-3af9-471c-ade2-23e7bca306ef: Brusque já existe\n"
     ]
    }
   ],
   "source": [
    "from tqdm.notebook import tqdm\n",
    "\n",
    "usersC=UserInCompany.objects.filter(user__username=\"rlcs\")\n",
    "for b in usersC:\n",
    "    try:\n",
    "        b.uuid=None\n",
    "        b.user = user\n",
    "#                 a.permissions = p[0]\n",
    "        b.save()\n",
    "    except Exception as e:\n",
    "        print(b.company,\"já existe\")"
   ]
  },
  {
   "cell_type": "code",
   "execution_count": 7,
   "id": "b2f00a6d",
   "metadata": {},
   "outputs": [],
   "source": [
    "for a in UserInCompany.objects.filter(user__username='rlcs',company__name=\"Demonstração Usina solar\"):\n",
    "    a.permissions=p[0]\n",
    "    a.save()"
   ]
  },
  {
   "cell_type": "code",
   "execution_count": 9,
   "id": "caec2d2f",
   "metadata": {},
   "outputs": [],
   "source": [
    "for a in UserInCompany.objects.filter(user__username=\"alefy.santos@bm.eng.br\"):\n",
    "    a.delete()"
   ]
  },
  {
   "cell_type": "code",
   "execution_count": 7,
   "id": "d058e063",
   "metadata": {},
   "outputs": [],
   "source": [
    "p = UserPermission.objects.get(name=\"Suporte\",companies__name=\"Afirma Engenharia Viária\")"
   ]
  },
  {
   "cell_type": "code",
   "execution_count": 9,
   "id": "80b7352d",
   "metadata": {},
   "outputs": [
    {
     "data": {
      "text/plain": [
       "1"
      ]
     },
     "execution_count": 9,
     "metadata": {},
     "output_type": "execute_result"
    }
   ],
   "source": [
    "UserInCompany.objects.filter(user__username=\"rlcs\",company__name='Afirma Engenharia Viária').update(permissions=p)"
   ]
  },
  {
   "cell_type": "markdown",
   "id": "4fe8095e",
   "metadata": {},
   "source": [
    "# Inativar usuário"
   ]
  },
  {
   "cell_type": "code",
   "execution_count": 7,
   "id": "27583f9a",
   "metadata": {},
   "outputs": [],
   "source": [
    "from tqdm.notebook import tqdm"
   ]
  },
  {
   "cell_type": "code",
   "execution_count": 7,
   "id": "026666ef",
   "metadata": {},
   "outputs": [
    {
     "data": {
      "text/plain": [
       "(1,\n",
       " 'Arteris Via Paulista',\n",
       " <UserPermission: ['Arteris Via Paulista', 'Arteris Planalto Sul', 'Arteris Litoral Sul'] - Inativo>)"
      ]
     },
     "execution_count": 7,
     "metadata": {},
     "output_type": "execute_result"
    }
   ],
   "source": [
    "usersC=UserInCompany.objects.filter(company__name=\"Arteris Via Paulista\",user__username=\"luan.poletti\")\n",
    "usersC.count(),usersC[0].company.name,UserPermission.objects.filter(companies=usersC[0].company,name='Inativo').first()"
   ]
  },
  {
   "cell_type": "code",
   "execution_count": 8,
   "id": "a6cbfbc5",
   "metadata": {},
   "outputs": [
    {
     "data": {
      "application/vnd.jupyter.widget-view+json": {
       "model_id": "615d231277a34e17841872759a99c77f",
       "version_major": 2,
       "version_minor": 0
      },
      "text/plain": [
       "  0%|          | 0/1 [00:00<?, ?it/s]"
      ]
     },
     "metadata": {},
     "output_type": "display_data"
    }
   ],
   "source": [
    "for b in tqdm(usersC):\n",
    "#     print(b.company)\n",
    "    try:\n",
    "        b.permissions = UserPermission.objects.filter(companies=b.company,name='Sala técnica AMP').first()\n",
    "        b.save()\n",
    "    except Exception as e:\n",
    "        print(b.company,\"já existe\",e)"
   ]
  },
  {
   "cell_type": "code",
   "execution_count": 2,
   "id": "b62c899f",
   "metadata": {},
   "outputs": [],
   "source": [
    "for b in usersC:\n",
    "    print(b.permissions.name)"
   ]
  },
  {
   "cell_type": "code",
   "execution_count": null,
   "id": "8ccd4c8d",
   "metadata": {},
   "outputs": [],
   "source": []
  }
 ],
 "metadata": {
  "kernelspec": {
   "display_name": "Django Shell-Plus",
   "language": "python",
   "name": "django_extensions"
  },
  "language_info": {
   "codemirror_mode": {
    "name": "ipython",
    "version": 3
   },
   "file_extension": ".py",
   "mimetype": "text/x-python",
   "name": "python",
   "nbconvert_exporter": "python",
   "pygments_lexer": "ipython3",
   "version": "3.8.16"
  }
 },
 "nbformat": 4,
 "nbformat_minor": 5
}
