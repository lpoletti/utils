{
 "cells": [
  {
   "cell_type": "code",
   "execution_count": 6,
   "id": "0718ee44",
   "metadata": {},
   "outputs": [
    {
     "name": "stdout",
     "output_type": "stream",
     "text": [
      "STAGE=PRODUCTION\r\n"
     ]
    }
   ],
   "source": [
    "!cat .env"
   ]
  },
  {
   "cell_type": "code",
   "execution_count": 1,
   "id": "a9000d71",
   "metadata": {},
   "outputs": [],
   "source": [
    "import json\n",
    "from django.contrib.admin.utils import flatten\n",
    "from helpers.strings import keys_to_snake_case, keys_to_camel_case\n",
    "from rest_framework_json_api.utils import format_field_names\n",
    "from tqdm.notebook import tqdm\n",
    "from collections import defaultdict"
   ]
  },
  {
   "cell_type": "code",
   "execution_count": 2,
   "id": "efbefd5d",
   "metadata": {},
   "outputs": [],
   "source": [
    "def generate_select_multiple_export(field):\n",
    "\n",
    "    result={\"cat\":[]}    \n",
    "    values=field[\"selectOptions\"][\"options\"]\n",
    "\n",
    "    for value in values:\n",
    "        if field[\"apiName\"] == \"demandOrigin\":\n",
    "            result[\"cat\"].append({\"if\":[{\"in\": \n",
    "                                     [value[\"value\"], {\"var\": \"formData.\"+field[\"apiName\"]}]\n",
    "                                    }, value[\"name\"] + \" \", \"\"]})\n",
    "        else:\n",
    "            result[\"cat\"].append({\"if\":[{\"in\": \n",
    "                                     [value[\"value\"], {\"var\": \"formData.\"+field[\"apiName\"]}]\n",
    "                                    }, value[\"name\"] + \", \", \"\"]})\n",
    "\n",
    "\n",
    "    return result"
   ]
  },
  {
   "cell_type": "code",
   "execution_count": 3,
   "id": "4696c00e",
   "metadata": {},
   "outputs": [],
   "source": [
    "def generate_select_export(field):\n",
    "    result={\"if\":[]}    \n",
    "    values=field[\"selectOptions\"][\"options\"]\n",
    "    \n",
    "    for value in values:\n",
    "        result[\"if\"].append({\"==\":[{\"var\": \"formData.\"+field[\"apiName\"]}, value[\"value\"]]})\n",
    "        result[\"if\"].append(value[\"name\"])\n",
    "        \n",
    "    return result"
   ]
  },
  {
   "cell_type": "code",
   "execution_count": 4,
   "id": "4a4f43c0",
   "metadata": {},
   "outputs": [],
   "source": [
    "def generate_export(field):\n",
    "    result={\"header\": field[\"displayName\"], \"key\": field[\"apiName\"]}\n",
    "    \n",
    "    if field[\"dataType\"]==\"timestamp\":\n",
    "        result[\"isDate\"]=True\n",
    "#     elif (field[\"dataType\"]==\"select\") and (\"options\" in field[\"selectOptions\"]):\n",
    "#         result[\"isSelect\"]=True\n",
    "#     elif (field[\"dataType\"]==\"selectMultiple\") and (\"options\" in field[\"selectOptions\"]):\n",
    "    elif field[\"dataType\"]==\"select\" or field[\"dataType\"]==\"selectMultiple\":\n",
    "        result[\"isSelect\"]=True\n",
    "    elif field[\"dataType\"]==\"jsonLogic\":\n",
    "        result[\"logic\"]=field[\"logic\"]\n",
    "    elif field[\"dataType\"]==\"float\":\n",
    "        result[\"style\"]= {\n",
    "                \"num_fmt\": \"0.000\"\n",
    "                }\n",
    "#     elif field[\"dataType\"]==\"boolean\":\n",
    "#         result[\"logic\"] = {\n",
    "#                             \"if\": [{\n",
    "#                                 \"===\": [{\n",
    "#                                     \"var\": \"formData.\" + field[\"apiName\"]\n",
    "#                                 }, True]\n",
    "#                             }, \"Sim\", \"Não\"]\n",
    "#                         }\n",
    "    \n",
    "    return result"
   ]
  },
  {
   "cell_type": "code",
   "execution_count": 5,
   "id": "0583860d",
   "metadata": {},
   "outputs": [],
   "source": [
    "def generate_array_export(field, number=8):\n",
    "    result_list=defaultdict(list)\n",
    "    values=field[\"innerFields\"]\n",
    "    \n",
    "    for value in values:\n",
    "        \n",
    "        if (value[\"dataType\"] == \"select\") and (\"options\" in value[\"selectOptions\"]):            \n",
    "            for index in range(1, number+1):            \n",
    "                result={}\n",
    "                result[\"header\"]=field[\"displayName\"] + \" - \" + value[\"displayName\"] + \" \"  + str(index)\n",
    "                result[\"key\"]=value[\"apiName\"]+str(index)\n",
    "                result[\"logic\"]={}\n",
    "                result[\"logic\"][\"if\"]=[]\n",
    "                values_select=value[\"selectOptions\"][\"options\"]\n",
    "\n",
    "                for value_select in values_select:\n",
    "                    result[\"logic\"][\"if\"].append({\"==\":[{\"var\": \"formData.\" + field[\"apiName\"]+ \".\"+str(index-1) + \".\" +value[\"apiName\"]}, value_select[\"value\"]]})\n",
    "                    result[\"logic\"][\"if\"].append(value_select[\"name\"])\n",
    "\n",
    "                result_list[index].append(result)\n",
    "        \n",
    "        elif (value[\"dataType\"] == \"boolean\") and (\"display\" in value[\"apiName\"]):\n",
    "            pass\n",
    "        \n",
    "        elif value[\"dataType\"] == \"innerImagesArray\":\n",
    "            pass\n",
    "                \n",
    "        elif (value[\"dataType\"] == \"selectMultiple\") and (\"options\" in value[\"selectOptions\"]):\n",
    "            for index in range(1, number+1):            \n",
    "                result={}\n",
    "                result[\"header\"]=field[\"displayName\"] + \" - \" + value[\"displayName\"] + \" \"  + str(index)\n",
    "                result[\"key\"]=value[\"apiName\"]+str(index)\n",
    "                result[\"logic\"]={}\n",
    "                result[\"logic\"][\"cat\"]=[]\n",
    "                values_select=value[\"selectOptions\"][\"options\"]\n",
    "\n",
    "                for value_select in values_select:\n",
    "                    result[\"logic\"][\"cat\"].append({\"if\":[{\"in\": \n",
    "                                     [value_select[\"value\"], {\"var\": \"formData.\" + field[\"apiName\"]+ \".\"+str(index-1) + \".\" +value[\"apiName\"]}]\n",
    "                                    }, value_select[\"name\"], \", \"]})\n",
    "\n",
    "                result_list[index].append(result)\n",
    "            \n",
    "        else:\n",
    "            for index in range(1, number+1):\n",
    "                result={}\n",
    "                result[\"header\"]=field[\"displayName\"] + \" - \" + value[\"displayName\"] + \" \" + str(index)\n",
    "                result[\"key\"]=value[\"apiName\"]+str(index)\n",
    "                \n",
    "#                 if value[\"dataType\"] == \"boolean\":\n",
    "#                     result[\"logic\"] = {\n",
    "#                                         \"if\": [{\n",
    "#                                             \"===\": [{\n",
    "#                                                 \"var\": \"formData.\" + field[\"apiName\"] + \".\" + str(index-1) + \".\" + value[\"apiName\"]\n",
    "#                                             }, True]\n",
    "#                                         }, \"Sim\", \"Não\"]\n",
    "#                                     }\n",
    "#                 else:\n",
    "#                     result[\"logic\"]= {\"var\": \"formData.\" + field[\"apiName\"] + \".\" + str(index-1) + \".\" + value[\"apiName\"]}\n",
    "                \n",
    "                \n",
    "                result[\"logic\"]= {\"var\": \"formData.\" + field[\"apiName\"] + \".\" + str(index-1) + \".\" + value[\"apiName\"]}\n",
    "                if value[\"dataType\"] == \"timestamp\":\n",
    "                    result[\"isDate\"] = True\n",
    "                result_list[index].append(result)\n",
    "\n",
    "#     print(result_list[1])\n",
    "    new_result_list = [v for k, v in sorted(result_list.items(), key=lambda item: item[0])]\n",
    "    return new_result_list"
   ]
  },
  {
   "cell_type": "code",
   "execution_count": 6,
   "id": "0bd65555",
   "metadata": {},
   "outputs": [],
   "source": [
    "def generate_array_export_v2(field, number=5):\n",
    "    result_list={\"key\": field[\"apiName\"], \"header\": field[\"displayName\"], \"isArray\": True, \"maxRepetitions\": number, \"fields\":[]}\n",
    "    values=field[\"innerFields\"]\n",
    "    \n",
    "    for value in values:        \n",
    "        if (value[\"dataType\"] == \"boolean\") and (\"display\" in value[\"apiName\"]):\n",
    "            continue\n",
    "                \n",
    "        result_dict={\"field\": value[\"apiName\"], \"header\": value[\"displayName\"]}\n",
    "        if value[\"dataType\"] == \"select\" or value[\"dataType\"] == \"select\":\n",
    "            result_dict[\"isSelect\"] = True\n",
    "        if value[\"dataType\"] == \"timestamp\":\n",
    "            result_dict[\"isDate\"] = True\n",
    "        if value[\"dataType\"] == \"innerImagesArray\":\n",
    "            result_dict[\"isImage\"] = True\n",
    "            result_dict[\"repeatInTheEnd\"] = True\n",
    "        result_list[\"fields\"].append(result_dict)\n",
    "#         print(result_list)\n",
    "    \n",
    "    return result_list"
   ]
  },
  {
   "cell_type": "code",
   "execution_count": 7,
   "id": "e7ddf4bb",
   "metadata": {},
   "outputs": [],
   "source": [
    "def update_export_data(data, occ=None, filename=None):\n",
    "    if occ is not None:\n",
    "        if 'measurement_columns' in occ.form_fields.keys():\n",
    "            del occ.form_fields['measurement_columns']\n",
    "        occ.form_fields['measurementColumns'] = data\n",
    "        occ.save()\n",
    "    if filename is not None:\n",
    "        with open(filename + '.txt', 'w') as outfile:\n",
    "            json.dump(data, outfile, indent=4)"
   ]
  },
  {
   "cell_type": "code",
   "execution_count": 8,
   "id": "8129f0cc",
   "metadata": {},
   "outputs": [],
   "source": [
    "def format_keys(obj, format_type=\"camelize\"):\n",
    "    if isinstance(obj, dict):\n",
    "        for key, value in obj.items():\n",
    "            if isinstance(value, dict):\n",
    "                obj[key] = format_field_names(\n",
    "                            format_keys(value), format_type\n",
    "                            )\n",
    "            elif isinstance(value, list):\n",
    "                list_temp = value.copy()\n",
    "                for i, item in enumerate(value):\n",
    "                    if isinstance(item, dict):\n",
    "                        list_temp[i] = format_field_names(\n",
    "                        format_keys(item), format_type\n",
    "                        )\n",
    "                    else:\n",
    "                        list_temp[i] = item\n",
    "                obj[key] = list_temp\n",
    "    return obj"
   ]
  },
  {
   "cell_type": "code",
   "execution_count": 9,
   "id": "3b44efc6",
   "metadata": {},
   "outputs": [
    {
     "data": {
      "text/plain": [
       "<Company: b8450161-14d1-4de8-b254-7d1ddc4a9c20: Arteris Intervias>"
      ]
     },
     "execution_count": 9,
     "metadata": {},
     "output_type": "execute_result"
    }
   ],
   "source": [
    "company=Company.objects.get(name='Arteris Intervias')\n",
    "company"
   ]
  },
  {
   "cell_type": "code",
   "execution_count": 10,
   "id": "aee63fe5",
   "metadata": {},
   "outputs": [
    {
     "data": {
      "text/plain": [
       "314"
      ]
     },
     "execution_count": 10,
     "metadata": {},
     "output_type": "execute_result"
    }
   ],
   "source": [
    "# occ=OccurrenceType.objects.get(uuid='f6033d7d-9649-420d-9125-2000aefcd25a')\n",
    "occ=OccurrenceType.objects.filter(company=company).order_by('name')\n",
    "occ.count()"
   ]
  },
  {
   "cell_type": "code",
   "execution_count": 11,
   "id": "b2721634",
   "metadata": {},
   "outputs": [
    {
     "data": {
      "application/vnd.jupyter.widget-view+json": {
       "model_id": "806bab46153d41a2843084c301b04564",
       "version_major": 2,
       "version_minor": 0
      },
      "text/plain": [
       "  0%|          | 0/314 [00:00<?, ?it/s]"
      ]
     },
     "metadata": {},
     "output_type": "display_data"
    }
   ],
   "source": [
    "for match in tqdm(occ):\n",
    "    for index, field in enumerate(match.form_fields['fields']):\n",
    "        match.form_fields['fields'][index]=format_keys(keys_to_camel_case(field))\n",
    "    match.save()"
   ]
  },
  {
   "cell_type": "code",
   "execution_count": 12,
   "id": "d92558e4",
   "metadata": {},
   "outputs": [
    {
     "data": {
      "application/vnd.jupyter.widget-view+json": {
       "model_id": "2096139690e44485a1a49939746c857c",
       "version_major": 2,
       "version_minor": 0
      },
      "text/plain": [
       "  0%|          | 0/314 [00:00<?, ?it/s]"
      ]
     },
     "metadata": {},
     "output_type": "display_data"
    }
   ],
   "source": [
    "for match in tqdm(occ):\n",
    "        \n",
    "    try:\n",
    "        columns=[]\n",
    "\n",
    "        for field in match.form_fields['fields']:\n",
    "            if field['dataType'] != 'arrayOfObjects':\n",
    "                columns.append(generate_export(field))\n",
    "            else:\n",
    "                columns.append(generate_array_export_v2(field, 5))\n",
    "\n",
    "\n",
    "        columns=flatten(flatten(columns))\n",
    "        update_export_data(columns, occ=match)\n",
    "    \n",
    "    except Exception as e:\n",
    "        print(match.uuid)\n",
    "        print(f'{match.uuidd} - {e}')"
   ]
  },
  {
   "cell_type": "code",
   "execution_count": null,
   "id": "423f8667",
   "metadata": {},
   "outputs": [],
   "source": []
  }
 ],
 "metadata": {
  "kernelspec": {
   "display_name": "Django Shell-Plus",
   "language": "python",
   "name": "django_extensions"
  },
  "language_info": {
   "codemirror_mode": {
    "name": "ipython",
    "version": 3
   },
   "file_extension": ".py",
   "mimetype": "text/x-python",
   "name": "python",
   "nbconvert_exporter": "python",
   "pygments_lexer": "ipython3",
   "version": "3.8.16"
  }
 },
 "nbformat": 4,
 "nbformat_minor": 5
}
