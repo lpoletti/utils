{
 "cells": [
  {
   "cell_type": "markdown",
   "id": "5a4934cf",
   "metadata": {},
   "source": [
    "# Planilha com Permissões"
   ]
  },
  {
   "cell_type": "code",
   "execution_count": 9,
   "id": "a16ba083",
   "metadata": {},
   "outputs": [],
   "source": [
    "import pandas as pd\n",
    "import openpyxl as op\n",
    "from tqdm.notebook import tqdm\n",
    "from copy import deepcopy\n",
    "from openpyxl.styles import Font, Fill,PatternFill,Alignment"
   ]
  },
  {
   "cell_type": "markdown",
   "id": "e6e36338",
   "metadata": {},
   "source": [
    "### Seleciona-se a Unidade e Cria-se o arquivo"
   ]
  },
  {
   "cell_type": "code",
   "execution_count": 10,
   "id": "b0bb297c",
   "metadata": {},
   "outputs": [
    {
     "data": {
      "text/plain": [
       "(<Company: efbf4869-4486-449d-8052-21fef17c2f62: CAJ>, 'CAJ_Permissoes')"
      ]
     },
     "execution_count": 10,
     "metadata": {},
     "output_type": "execute_result"
    }
   ],
   "source": [
    "company = Company.objects.get(name__exact=\"CAJ\")\n",
    "filename = company.name.replace(' ','_')+'_Permissoes'\n",
    "pd.DataFrame().to_excel(filename+'.xlsx')\n",
    "wb=op.load_workbook(filename+'.xlsx')\n",
    "wb['Sheet1'].title = \"Disclaimer\"\n",
    "company,filename"
   ]
  },
  {
   "cell_type": "markdown",
   "id": "8963eba6",
   "metadata": {},
   "source": [
    "### Pega-se as permissões dessa unidade"
   ]
  },
  {
   "cell_type": "code",
   "execution_count": 11,
   "id": "4fec4002",
   "metadata": {},
   "outputs": [
    {
     "name": "stdout",
     "output_type": "stream",
     "text": [
      "9\n"
     ]
    }
   ],
   "source": [
    "perm = UserPermission.objects.filter(companies=company)\n",
    "print(perm.count())"
   ]
  },
  {
   "cell_type": "markdown",
   "id": "f383e733",
   "metadata": {},
   "source": [
    "# Lista para Tradução/Funções para Tradução"
   ]
  },
  {
   "cell_type": "code",
   "execution_count": 12,
   "id": "ea3b8c41",
   "metadata": {
    "scrolled": true
   },
   "outputs": [
    {
     "name": "stdout",
     "output_type": "stream",
     "text": [
      "Feitoooooooooooo!!!\n"
     ]
    }
   ],
   "source": [
    "%run 'LPKNB - Traducao.ipynb'"
   ]
  },
  {
   "cell_type": "markdown",
   "id": "50c78261",
   "metadata": {},
   "source": [
    "# Disclaimer"
   ]
  },
  {
   "cell_type": "code",
   "execution_count": 13,
   "id": "4b5746f2",
   "metadata": {},
   "outputs": [
    {
     "data": {
      "application/vnd.jupyter.widget-view+json": {
       "model_id": "061613239cab49eebb5821dbe57fd027",
       "version_major": 2,
       "version_minor": 0
      },
      "text/plain": [
       "  0%|          | 0/9 [00:00<?, ?it/s]"
      ]
     },
     "metadata": {},
     "output_type": "display_data"
    }
   ],
   "source": [
    "sisPerm={}\n",
    "for dataU in tqdm(perm): \n",
    "    sisPerm[dataU.name]=\"\"\n",
    "for i,d in enumerate(sisPerm.keys(),1):\n",
    "    if i==1:\n",
    "        wb.active.cell(row=i,column = 10).value = \"Permissões do sistema\"\n",
    "        continue\n",
    "    wb.active.cell(row=i,column = 10).value = d\n",
    "wb.active.cell(row=2,column = 2).value = 'Cada nível de permissão está em uma aba diferente com as informações do que pode o que não pode ser feito no sistema.'\n",
    "wb.active.merge_cells('B2:H4')\n",
    "wb.active.cell(row=2,column = 2).fill = PatternFill(\"solid\", start_color=\"C5D9F1\")\n",
    "wb.active.cell(row=2,column = 2).alignment = Alignment(horizontal=\"center\", vertical=\"center\")\n",
    "wb.active.cell(row=6,column = 2).value = 'Na coluna A estão os itens do sistema Kartado'\n",
    "wb.active.merge_cells('B6:H8')\n",
    "wb.active.cell(row=6,column = 2).fill = PatternFill(\"solid\", start_color=\"DCE6F0\")\n",
    "wb.active.cell(row=6,column = 2).alignment = Alignment(horizontal=\"center\", vertical=\"center\")\n",
    "wb.active.cell(row=10,column = 2).value = 'Na linha 1 são as ações que podem ser executadas sobre os itens'\n",
    "wb.active.merge_cells('B10:H12')\n",
    "wb.active.cell(row=10,column = 2).fill = PatternFill(\"solid\", start_color=\"DBEEF4\")\n",
    "wb.active.cell(row=10,column = 2).alignment = Alignment(horizontal=\"center\", vertical=\"center\")\n",
    "\n",
    "wb.save(filename+'.xlsx')"
   ]
  },
  {
   "cell_type": "markdown",
   "id": "4e4b7631",
   "metadata": {},
   "source": [
    "# Criação dos dados traduzidos em dicionário e Criação da Planilha de Excel"
   ]
  },
  {
   "cell_type": "code",
   "execution_count": 18,
   "id": "4f86cc55",
   "metadata": {
    "scrolled": false
   },
   "outputs": [
    {
     "data": {
      "application/vnd.jupyter.widget-view+json": {
       "model_id": "b59c08d4f0ce4830af3930821aa3bc6a",
       "version_major": 2,
       "version_minor": 0
      },
      "text/plain": [
       "  0%|          | 0/9 [00:00<?, ?it/s]"
      ]
     },
     "metadata": {},
     "output_type": "display_data"
    }
   ],
   "source": [
    "index={}\n",
    "teste=[]\n",
    "sheetname =\"\"\n",
    "for dataU in tqdm(perm): \n",
    "    sheetname = dataU.name.translate(str.maketrans('', '', './,!?'))[:15]\n",
    "    index[sheetname]={}\n",
    "    for key,value in dataU.permissions.items():\n",
    "        key = traduzirTexto(key)\n",
    "        value = traduzirDict(value)\n",
    "        index[sheetname][key]=value\n",
    "    teste.append(index)    \n",
    "    df2 = pd.DataFrame(data=index[sheetname].values(),index=index[sheetname].keys())\n",
    "#     with pd.ExcelWriter(filename+'.xlsx', mode='a',if_sheet_exists='replace') as writer:\n",
    "#         df2.to_excel(writer,sheet_name=sheetname,na_rep=\"-\")"
   ]
  },
  {
   "cell_type": "code",
   "execution_count": 20,
   "id": "7ea965ad",
   "metadata": {
    "scrolled": true
   },
   "outputs": [
    {
     "data": {
      "text/html": [
       "<div>\n",
       "<style scoped>\n",
       "    .dataframe tbody tr th:only-of-type {\n",
       "        vertical-align: middle;\n",
       "    }\n",
       "\n",
       "    .dataframe tbody tr th {\n",
       "        vertical-align: top;\n",
       "    }\n",
       "\n",
       "    .dataframe thead th {\n",
       "        text-align: right;\n",
       "    }\n",
       "</style>\n",
       "<table border=\"1\" class=\"dataframe\">\n",
       "  <thead>\n",
       "    <tr style=\"text-align: right;\">\n",
       "      <th></th>\n",
       "      <th>Pode Usar Nova Biblioteca GPS</th>\n",
       "      <th>Pode Editar</th>\n",
       "      <th>Pode Ver</th>\n",
       "      <th>Conjunto</th>\n",
       "      <th>Pode Criar</th>\n",
       "      <th>Pode Deletar</th>\n",
       "      <th>Pode Mudar As Opções Customizadas</th>\n",
       "      <th>Pode Aprovar</th>\n",
       "      <th>Pode Segurar o Botão</th>\n",
       "      <th>Pode Usar o Botão</th>\n",
       "      <th>Pode Usar Botão Bluetooth</th>\n",
       "      <th>Pode Ver o Mapa</th>\n",
       "      <th>Pode Ver Mapa de Calor</th>\n",
       "      <th>Pode Ver Gráficos Técnicos</th>\n",
       "      <th>Pode Ver Indicadores Financeiros</th>\n",
       "      <th>Pode Ver Dinheiro</th>\n",
       "      <th>Pode Ver Resumo</th>\n",
       "    </tr>\n",
       "  </thead>\n",
       "  <tbody>\n",
       "    <tr>\n",
       "      <th>Contratos - Itens por Performance</th>\n",
       "      <td>NaN</td>\n",
       "      <td>Verdadeiro</td>\n",
       "      <td>Verdadeiro</td>\n",
       "      <td>Todos</td>\n",
       "      <td>Verdadeiro</td>\n",
       "      <td>Verdadeiro</td>\n",
       "      <td>NaN</td>\n",
       "      <td>NaN</td>\n",
       "      <td>NaN</td>\n",
       "      <td>NaN</td>\n",
       "      <td>NaN</td>\n",
       "      <td>NaN</td>\n",
       "      <td>NaN</td>\n",
       "      <td>NaN</td>\n",
       "      <td>NaN</td>\n",
       "      <td>Verdadeiro</td>\n",
       "      <td>NaN</td>\n",
       "    </tr>\n",
       "    <tr>\n",
       "      <th>Time Externo RDO</th>\n",
       "      <td>NaN</td>\n",
       "      <td>Verdadeiro</td>\n",
       "      <td>Verdadeiro</td>\n",
       "      <td>Todos</td>\n",
       "      <td>Verdadeiro</td>\n",
       "      <td>Verdadeiro</td>\n",
       "      <td>NaN</td>\n",
       "      <td>Falso</td>\n",
       "      <td>NaN</td>\n",
       "      <td>NaN</td>\n",
       "      <td>NaN</td>\n",
       "      <td>NaN</td>\n",
       "      <td>NaN</td>\n",
       "      <td>NaN</td>\n",
       "      <td>NaN</td>\n",
       "      <td>NaN</td>\n",
       "      <td>NaN</td>\n",
       "    </tr>\n",
       "    <tr>\n",
       "      <th>Status</th>\n",
       "      <td>NaN</td>\n",
       "      <td>Verdadeiro</td>\n",
       "      <td>Verdadeiro</td>\n",
       "      <td>Todos</td>\n",
       "      <td>Verdadeiro</td>\n",
       "      <td>Verdadeiro</td>\n",
       "      <td>NaN</td>\n",
       "      <td>NaN</td>\n",
       "      <td>NaN</td>\n",
       "      <td>NaN</td>\n",
       "      <td>NaN</td>\n",
       "      <td>NaN</td>\n",
       "      <td>NaN</td>\n",
       "      <td>NaN</td>\n",
       "      <td>NaN</td>\n",
       "      <td>NaN</td>\n",
       "      <td>NaN</td>\n",
       "    </tr>\n",
       "    <tr>\n",
       "      <th>Exportação de Boletim de Medição</th>\n",
       "      <td>NaN</td>\n",
       "      <td>Verdadeiro</td>\n",
       "      <td>Verdadeiro</td>\n",
       "      <td>Todos</td>\n",
       "      <td>Verdadeiro</td>\n",
       "      <td>Verdadeiro</td>\n",
       "      <td>NaN</td>\n",
       "      <td>NaN</td>\n",
       "      <td>NaN</td>\n",
       "      <td>NaN</td>\n",
       "      <td>NaN</td>\n",
       "      <td>NaN</td>\n",
       "      <td>NaN</td>\n",
       "      <td>NaN</td>\n",
       "      <td>NaN</td>\n",
       "      <td>Verdadeiro</td>\n",
       "      <td>Verdadeiro</td>\n",
       "    </tr>\n",
       "    <tr>\n",
       "      <th>Contratos - Itens por Administração</th>\n",
       "      <td>NaN</td>\n",
       "      <td>Verdadeiro</td>\n",
       "      <td>Verdadeiro</td>\n",
       "      <td>Todos</td>\n",
       "      <td>Verdadeiro</td>\n",
       "      <td>Verdadeiro</td>\n",
       "      <td>NaN</td>\n",
       "      <td>NaN</td>\n",
       "      <td>NaN</td>\n",
       "      <td>NaN</td>\n",
       "      <td>NaN</td>\n",
       "      <td>NaN</td>\n",
       "      <td>NaN</td>\n",
       "      <td>NaN</td>\n",
       "      <td>NaN</td>\n",
       "      <td>Verdadeiro</td>\n",
       "      <td>NaN</td>\n",
       "    </tr>\n",
       "  </tbody>\n",
       "</table>\n",
       "</div>"
      ],
      "text/plain": [
       "                                    Pode Usar Nova Biblioteca GPS Pode Editar  \\\n",
       "Contratos - Itens por Performance                             NaN  Verdadeiro   \n",
       "Time Externo RDO                                              NaN  Verdadeiro   \n",
       "Status                                                        NaN  Verdadeiro   \n",
       "Exportação de Boletim de Medição                              NaN  Verdadeiro   \n",
       "Contratos - Itens por Administração                           NaN  Verdadeiro   \n",
       "\n",
       "                                       Pode Ver Conjunto  Pode Criar  \\\n",
       "Contratos - Itens por Performance    Verdadeiro    Todos  Verdadeiro   \n",
       "Time Externo RDO                     Verdadeiro    Todos  Verdadeiro   \n",
       "Status                               Verdadeiro    Todos  Verdadeiro   \n",
       "Exportação de Boletim de Medição     Verdadeiro    Todos  Verdadeiro   \n",
       "Contratos - Itens por Administração  Verdadeiro    Todos  Verdadeiro   \n",
       "\n",
       "                                    Pode Deletar  \\\n",
       "Contratos - Itens por Performance     Verdadeiro   \n",
       "Time Externo RDO                      Verdadeiro   \n",
       "Status                                Verdadeiro   \n",
       "Exportação de Boletim de Medição      Verdadeiro   \n",
       "Contratos - Itens por Administração   Verdadeiro   \n",
       "\n",
       "                                    Pode Mudar As Opções Customizadas  \\\n",
       "Contratos - Itens por Performance                                 NaN   \n",
       "Time Externo RDO                                                  NaN   \n",
       "Status                                                            NaN   \n",
       "Exportação de Boletim de Medição                                  NaN   \n",
       "Contratos - Itens por Administração                               NaN   \n",
       "\n",
       "                                    Pode Aprovar Pode Segurar o Botão  \\\n",
       "Contratos - Itens por Performance            NaN                  NaN   \n",
       "Time Externo RDO                           Falso                  NaN   \n",
       "Status                                       NaN                  NaN   \n",
       "Exportação de Boletim de Medição             NaN                  NaN   \n",
       "Contratos - Itens por Administração          NaN                  NaN   \n",
       "\n",
       "                                    Pode Usar o Botão  \\\n",
       "Contratos - Itens por Performance                 NaN   \n",
       "Time Externo RDO                                  NaN   \n",
       "Status                                            NaN   \n",
       "Exportação de Boletim de Medição                  NaN   \n",
       "Contratos - Itens por Administração               NaN   \n",
       "\n",
       "                                    Pode Usar Botão Bluetooth Pode Ver o Mapa  \\\n",
       "Contratos - Itens por Performance                         NaN             NaN   \n",
       "Time Externo RDO                                          NaN             NaN   \n",
       "Status                                                    NaN             NaN   \n",
       "Exportação de Boletim de Medição                          NaN             NaN   \n",
       "Contratos - Itens por Administração                       NaN             NaN   \n",
       "\n",
       "                                    Pode Ver Mapa de Calor  \\\n",
       "Contratos - Itens por Performance                      NaN   \n",
       "Time Externo RDO                                       NaN   \n",
       "Status                                                 NaN   \n",
       "Exportação de Boletim de Medição                       NaN   \n",
       "Contratos - Itens por Administração                    NaN   \n",
       "\n",
       "                                    Pode Ver Gráficos Técnicos  \\\n",
       "Contratos - Itens por Performance                          NaN   \n",
       "Time Externo RDO                                           NaN   \n",
       "Status                                                     NaN   \n",
       "Exportação de Boletim de Medição                           NaN   \n",
       "Contratos - Itens por Administração                        NaN   \n",
       "\n",
       "                                    Pode Ver Indicadores Financeiros  \\\n",
       "Contratos - Itens por Performance                                NaN   \n",
       "Time Externo RDO                                                 NaN   \n",
       "Status                                                           NaN   \n",
       "Exportação de Boletim de Medição                                 NaN   \n",
       "Contratos - Itens por Administração                              NaN   \n",
       "\n",
       "                                    Pode Ver Dinheiro Pode Ver Resumo  \n",
       "Contratos - Itens por Performance          Verdadeiro             NaN  \n",
       "Time Externo RDO                                  NaN             NaN  \n",
       "Status                                            NaN             NaN  \n",
       "Exportação de Boletim de Medição           Verdadeiro      Verdadeiro  \n",
       "Contratos - Itens por Administração        Verdadeiro             NaN  "
      ]
     },
     "execution_count": 20,
     "metadata": {},
     "output_type": "execute_result"
    }
   ],
   "source": [
    "df2.tail()"
   ]
  },
  {
   "cell_type": "markdown",
   "id": "4c708880",
   "metadata": {},
   "source": [
    "# teste antigos"
   ]
  },
  {
   "cell_type": "code",
   "execution_count": 10,
   "id": "d268c78d",
   "metadata": {},
   "outputs": [
    {
     "data": {
      "application/vnd.jupyter.widget-view+json": {
       "model_id": "91c77e0c4fde4f8ebff3d5a4904cd513",
       "version_major": 2,
       "version_minor": 0
      },
      "text/plain": [
       "  0%|          | 0/9 [00:00<?, ?it/s]"
      ]
     },
     "metadata": {},
     "output_type": "display_data"
    },
    {
     "name": "stdout",
     "output_type": "stream",
     "text": [
      "Suporte\n"
     ]
    },
    {
     "data": {
      "application/vnd.jupyter.widget-view+json": {
       "model_id": "b564dfd7e1344243952ed911ad1f8779",
       "version_major": 2,
       "version_minor": 0
      },
      "text/plain": [
       "  0%|          | 0/67 [00:00<?, ?it/s]"
      ]
     },
     "metadata": {},
     "output_type": "display_data"
    },
    {
     "name": "stdout",
     "output_type": "stream",
     "text": [
      "Usuário de cont\n"
     ]
    },
    {
     "data": {
      "application/vnd.jupyter.widget-view+json": {
       "model_id": "681699b8f9f5474c96be53756a46935f",
       "version_major": 2,
       "version_minor": 0
      },
      "text/plain": [
       "  0%|          | 0/67 [00:00<?, ?it/s]"
      ]
     },
     "metadata": {},
     "output_type": "display_data"
    },
    {
     "name": "stdout",
     "output_type": "stream",
     "text": [
      "Gerente de Expa\n"
     ]
    },
    {
     "data": {
      "application/vnd.jupyter.widget-view+json": {
       "model_id": "824a5fca66f54fd48957f4a07308b2e3",
       "version_major": 2,
       "version_minor": 0
      },
      "text/plain": [
       "  0%|          | 0/67 [00:00<?, ?it/s]"
      ]
     },
     "metadata": {},
     "output_type": "display_data"
    },
    {
     "name": "stdout",
     "output_type": "stream",
     "text": [
      "Inativo\n"
     ]
    },
    {
     "data": {
      "application/vnd.jupyter.widget-view+json": {
       "model_id": "5df8738975d94d92be4d8133b3b01fd8",
       "version_major": 2,
       "version_minor": 0
      },
      "text/plain": [
       "  0%|          | 0/67 [00:00<?, ?it/s]"
      ]
     },
     "metadata": {},
     "output_type": "display_data"
    },
    {
     "name": "stdout",
     "output_type": "stream",
     "text": [
      "Coordenador de \n"
     ]
    },
    {
     "data": {
      "application/vnd.jupyter.widget-view+json": {
       "model_id": "3b9345125c5441ec83a091e3a07735a2",
       "version_major": 2,
       "version_minor": 0
      },
      "text/plain": [
       "  0%|          | 0/67 [00:00<?, ?it/s]"
      ]
     },
     "metadata": {},
     "output_type": "display_data"
    },
    {
     "name": "stdout",
     "output_type": "stream",
     "text": [
      "Fiscal Técnico \n"
     ]
    },
    {
     "data": {
      "application/vnd.jupyter.widget-view+json": {
       "model_id": "c89a8a25cc884698aa708b0277a46b59",
       "version_major": 2,
       "version_minor": 0
      },
      "text/plain": [
       "  0%|          | 0/67 [00:00<?, ?it/s]"
      ]
     },
     "metadata": {},
     "output_type": "display_data"
    },
    {
     "name": "stdout",
     "output_type": "stream",
     "text": [
      "Facilitador\n"
     ]
    },
    {
     "data": {
      "application/vnd.jupyter.widget-view+json": {
       "model_id": "dcb4ea7fc4a94b5c8b45186e1f7f1b54",
       "version_major": 2,
       "version_minor": 0
      },
      "text/plain": [
       "  0%|          | 0/67 [00:00<?, ?it/s]"
      ]
     },
     "metadata": {},
     "output_type": "display_data"
    },
    {
     "name": "stdout",
     "output_type": "stream",
     "text": [
      "Controle Tecnol\n"
     ]
    },
    {
     "data": {
      "application/vnd.jupyter.widget-view+json": {
       "model_id": "3bc1ae8ff9e749e3b9a68dd2dc55e563",
       "version_major": 2,
       "version_minor": 0
      },
      "text/plain": [
       "  0%|          | 0/67 [00:00<?, ?it/s]"
      ]
     },
     "metadata": {},
     "output_type": "display_data"
    },
    {
     "name": "stdout",
     "output_type": "stream",
     "text": [
      "Empreiteiras (T\n"
     ]
    },
    {
     "data": {
      "application/vnd.jupyter.widget-view+json": {
       "model_id": "d9c5adcc580b4d16bf711160e069d18f",
       "version_major": 2,
       "version_minor": 0
      },
      "text/plain": [
       "  0%|          | 0/67 [00:00<?, ?it/s]"
      ]
     },
     "metadata": {},
     "output_type": "display_data"
    }
   ],
   "source": [
    "data=[]\n",
    "header=[]\n",
    "index=[]\n",
    "for a in tqdm(perm):\n",
    "    print(a.name.translate(str.maketrans('', '', './,!?'))[:15])      \n",
    "    for b in tqdm(perm[idx].permissions.items()):\n",
    "        data.append(b[1])\n",
    "        header.append(list(b[1].keys()))\n",
    "    obj={}\n",
    "    for x in header:\n",
    "        for y in x:\n",
    "            obj[y] = ''\n",
    "    header.clear()\n",
    "    header = list(obj)\n",
    "    \n",
    "    index=[z for z in perm[idx].permissions]\n",
    "#     for k,c in enumerate(index):\n",
    "#         v=traduzirTexto(c)\n",
    "#         index[k] = v\n",
    "    df = pd.DataFrame(data=data,index=index,columns=header)\n",
    "    with pd.ExcelWriter(filename+'.xlsx', mode='a',if_sheet_exists='replace') as writer:\n",
    "        df.to_excel(writer,sheet_name=a.name.translate(str.maketrans('', '', './,!?'))[:15])\n",
    "   \n",
    "    data.clear()\n",
    "    index.clear()\n",
    "    header.clear()"
   ]
  },
  {
   "cell_type": "code",
   "execution_count": null,
   "id": "e5a15831",
   "metadata": {},
   "outputs": [],
   "source": [
    "data=[]\n",
    "header=[]\n",
    "index=[]\n",
    "for a in tqdm(perm):\n",
    "    print(a.name.translate(str.maketrans('', '', './,!?'))[:15])      \n",
    "    for b in tqdm(perm[idx].permissions.items()):\n",
    "        data.append(b[1])\n",
    "        header.append(list(b[1].keys()))\n",
    "    obj={}\n",
    "    for x in header:\n",
    "        for y in x:\n",
    "            obj[y] = ''\n",
    "    header.clear()\n",
    "    header = list(obj)\n",
    "    \n",
    "    index=[z for z in perm[idx].permissions]\n",
    "    for k,c in enumerate(index):\n",
    "        v=traduzirTexto(c)\n",
    "        index[k] = v\n",
    "    df = pd.DataFrame(data=traducaoDefinitiva(data),index=index,columns=header)\n",
    "    with pd.ExcelWriter(filename+'.xlsx', mode='a',if_sheet_exists='replace') as writer:\n",
    "        df.to_excel(writer,sheet_name=a.name.translate(str.maketrans('', '', './,!?'))[:15])\n",
    "   \n",
    "    data.clear()\n",
    "    index.clear()\n",
    "    header.clear()"
   ]
  },
  {
   "cell_type": "code",
   "execution_count": 9,
   "id": "9bfb67dd",
   "metadata": {
    "collapsed": true
   },
   "outputs": [
    {
     "data": {
      "text/plain": [
       "'{\"columns\":[\"can_edit\",\"can_view\",\"queryset\",\"can_create\",\"can_delete\",\"can_view_money\",\"can_view_financial_indicators\",\"allowed_status_transitions\",\"null\",\"can_view_canvas\",\"can_approve\"],\"index\":[\"City\",\"Firm\",\"User\",\"River\",\"Company\",\"Contract\",\"Location\",\"Resource\",\"WorkPlan\",\"Dashboard\",\"Procedure\",\"ShapeFile\",\"TileLayer\",\"CanvasCard\",\"CanvasList\",\"Permission\",\"QueuedPush\",\"UserInFirm\",\"UserManual\",\"FieldSurvey\",\"ApprovalFlow\",\"ApprovalStep\",\"CompanyGroup\",\"MaterialItem\",\"ServiceOrder\",\"AccessRequest\",\"HumanResource\",\"MaterialUsage\",\"ProcedureFile\",\"UserInCompany\",\"MonitoringPlan\",\"OccurrenceType\",\"ParameterGroup\",\"UserPermission\",\"ContractService\",\"FieldSurveyRoad\",\"MonitoringCycle\",\"MonitoringPoint\",\"MonitoringRecord\",\"OccurrenceRecord\",\"AdditionalControl\",\"CustomizationMenu\",\"HumanResourceItem\",\"ProcedureResource\",\"AdditionalDocument\",\"ApprovalTransition\",\"HumanResourceUsage\",\"MonitoringCampaign\",\"MonitoringSchedule\",\"OperationalControl\",\"ServiceOrderAction\",\"MeasurementBulletin\",\"MonitoringFrequency\",\"OccurrenceTypeSpecs\",\"ServiceOrderWatcher\",\"FieldSurveySignature\",\"OccurrenceRecordFile\",\"ServiceOrderResource\",\"ContractItemUnitPrice\",\"ContractItemPerformance\",\"OccurrenceRecordWatcher\",\"OperationalControlRecord\",\"ServiceOrderActionStatus\",\"AdministrativeInformation\",\"MeasurementBulletinExport\",\"ContractItemAdministration\",\"ServiceOrderActionStatusSpecs\"],\"data\":[[false,false,\"self\",false,false,null,null,null,null,null,null],[false,false,\"self\",false,false,null,null,null,null,null,null],[false,true,\"self\",false,false,null,null,null,null,null,null],[false,false,\"self\",false,false,null,null,null,null,null,null],[false,true,\"self\",false,false,null,null,null,null,null,null],[false,false,\"self\",false,false,false,true,null,null,null,null],[false,false,\"self\",false,false,null,null,null,null,null,null],[false,false,\"self\",false,false,null,null,null,null,null,null],[false,false,\"self\",false,false,null,null,null,null,null,null],[false,true,\"self\",false,false,null,null,null,null,null,null],[false,false,\"self\",false,false,null,null,{\"08199255-6eaf-4415-838b-56357287152e\":[\"20134139-c77b-4404-8b9c-6697af03d07c\"],\"20134139-c77b-4404-8b9c-6697af03d07c\":[],\"214a42cb-760b-4478-8a08-7056a7f5f76b\":[\"ecab3378-1a0b-4b91-8cef-d4dcfc6d1a59\",\"b2c845e7-4900-4981-885a-977e7cf3ade3\",\"77261a11-7b39-4cb4-8f4c-d0f545bcf1e6\",\"33ccc2d4-a195-49db-a6e5-ad5edfce0e09\",\"fbb50a7a-b212-48be-ab59-b8efafd2f618\",\"214a42cb-760b-4478-8a08-7056a7f5f76b\"],\"33ccc2d4-a195-49db-a6e5-ad5edfce0e09\":[\"ecab3378-1a0b-4b91-8cef-d4dcfc6d1a59\",\"b2c845e7-4900-4981-885a-977e7cf3ade3\",\"77261a11-7b39-4cb4-8f4c-d0f545bcf1e6\",\"33ccc2d4-a195-49db-a6e5-ad5edfce0e09\",\"fbb50a7a-b212-48be-ab59-b8efafd2f618\",\"214a42cb-760b-4478-8a08-7056a7f5f76b\"],\"4f89dd8b-dbe9-4cae-be66-ea7ffa2af61b\":[\"4f89dd8b-dbe9-4cae-be66-ea7ffa2af61b\"],\"6f6cdc39-cbcf-4649-84ca-9807f2a61645\":[\"20134139-c77b-4404-8b9c-6697af03d07c\",\"6f6cdc39-cbcf-4649-84ca-9807f2a61645\"],\"77261a11-7b39-4cb4-8f4c-d0f545bcf1e6\":[\"ecab3378-1a0b-4b91-8cef-d4dcfc6d1a59\",\"b2c845e7-4900-4981-885a-977e7cf3ade3\",\"77261a11-7b39-4cb4-8f4c-d0f545bcf1e6\",\"33ccc2d4-a195-49db-a6e5-ad5edfce0e09\",\"fbb50a7a-b212-48be-ab59-b8efafd2f618\",\"214a42cb-760b-4478-8a08-7056a7f5f76b\"],\"b2c845e7-4900-4981-885a-977e7cf3ade3\":[\"ecab3378-1a0b-4b91-8cef-d4dcfc6d1a59\",\"b2c845e7-4900-4981-885a-977e7cf3ade3\",\"77261a11-7b39-4cb4-8f4c-d0f545bcf1e6\",\"33ccc2d4-a195-49db-a6e5-ad5edfce0e09\",\"fbb50a7a-b212-48be-ab59-b8efafd2f618\",\"214a42cb-760b-4478-8a08-7056a7f5f76b\"],\"ecab3378-1a0b-4b91-8cef-d4dcfc6d1a59\":[\"ecab3378-1a0b-4b91-8cef-d4dcfc6d1a59\",\"b2c845e7-4900-4981-885a-977e7cf3ade3\",\"77261a11-7b39-4cb4-8f4c-d0f545bcf1e6\",\"33ccc2d4-a195-49db-a6e5-ad5edfce0e09\",\"fbb50a7a-b212-48be-ab59-b8efafd2f618\",\"214a42cb-760b-4478-8a08-7056a7f5f76b\"],\"fbb50a7a-b212-48be-ab59-b8efafd2f618\":[\"ecab3378-1a0b-4b91-8cef-d4dcfc6d1a59\",\"b2c845e7-4900-4981-885a-977e7cf3ade3\",\"77261a11-7b39-4cb4-8f4c-d0f545bcf1e6\",\"33ccc2d4-a195-49db-a6e5-ad5edfce0e09\",\"fbb50a7a-b212-48be-ab59-b8efafd2f618\",\"214a42cb-760b-4478-8a08-7056a7f5f76b\"],\"ff9face2-8bd7-4ab3-8f1d-8df52d733574\":[\"ff9face2-8bd7-4ab3-8f1d-8df52d733574\"]},null,null,null],[false,false,\"self\",false,false,null,null,null,null,null,null],[false,false,\"self\",false,false,null,null,null,null,null,null],[false,false,\"self\",false,false,null,null,null,null,null,null],[false,false,\"self\",false,false,null,null,null,null,null,null],[false,true,\"self\",false,false,null,null,null,null,null,null],[null,true,null,null,null,null,null,null,null,null,null],[false,true,\"self\",false,false,null,null,null,null,null,null],[null,false,null,null,null,null,null,null,null,null,null],[false,false,\"all\",false,false,false,null,null,null,null,null],[false,false,\"self\",false,false,null,null,null,null,null,null],[false,false,\"self\",false,false,null,null,null,null,null,null],[false,true,\"self\",false,false,null,null,null,null,null,null],[false,false,\"self\",false,false,false,null,null,null,null,null],[false,false,\"self\",false,false,false,null,null,null,false,null],[false,false,\"self\",false,false,null,null,null,null,null,false],[false,false,\"self\",false,false,null,null,null,null,null,null],[false,false,\"self\",false,false,false,null,null,null,null,false],[false,false,\"self\",false,false,null,null,null,null,null,null],[false,true,\"self\",false,false,null,null,null,null,null,null],[false,false,\"self\",false,false,null,null,null,null,null,null],[false,false,\"self\",false,false,null,null,null,null,null,null],[false,false,\"self\",false,false,null,null,null,null,null,null],[false,true,\"self\",false,false,null,null,null,null,null,null],[false,false,\"all\",false,false,false,null,null,null,null,null],[false,false,\"all\",false,false,false,null,null,null,null,null],[false,false,\"self\",false,false,null,null,null,null,null,null],[false,false,\"self\",false,false,null,null,null,null,null,null],[false,false,\"self\",false,false,null,null,null,null,null,null],[false,false,\"self\",false,false,null,null,null,null,null,true],[false,false,\"all\",false,false,false,null,null,null,null,null],[false,false,\"self\",false,false,null,null,null,null,null,null],[false,false,\"self\",false,false,false,null,null,null,null,null],[false,false,\"self\",false,false,false,null,null,null,null,false],[false,false,\"self\",false,false,null,null,null,null,null,true],[false,false,\"self\",false,false,null,null,null,null,null,null],[false,false,\"self\",false,false,false,null,null,null,null,false],[false,false,\"self\",false,false,null,null,null,null,null,null],[false,false,\"self\",false,false,null,null,null,null,null,null],[false,false,\"self\",false,false,null,null,null,null,null,null],[false,false,\"self\",false,false,null,null,null,null,null,null],[false,false,\"self\",false,false,false,null,null,null,null,true],[false,false,\"self\",false,false,null,null,null,null,null,null],[false,false,\"self\",false,false,null,null,null,null,null,null],[false,false,\"self\",false,false,null,null,null,null,null,null],[false,false,\"all\",false,false,false,null,null,null,null,null],[false,false,\"self\",false,false,null,null,null,null,null,null],[false,false,\"all\",false,false,false,null,null,null,null,null],[false,false,\"all\",false,false,false,null,null,null,null,null],[false,false,\"all\",false,false,false,null,null,null,null,null],[false,false,\"self\",false,false,null,null,null,null,null,null],[false,false,\"self\",false,false,null,null,null,null,null,null],[false,false,\"self\",false,false,null,null,null,null,null,null],[false,false,\"self\",false,false,false,null,null,null,null,null],[false,false,\"self\",false,false,false,null,null,null,null,true],[false,false,\"all\",false,false,false,null,null,null,null,null],[false,false,\"self\",false,false,null,null,null,null,null,null]]}'"
      ]
     },
     "execution_count": 9,
     "metadata": {},
     "output_type": "execute_result"
    }
   ],
   "source": [
    "df.to_json(orient='split')"
   ]
  }
 ],
 "metadata": {
  "kernelspec": {
   "display_name": "Django Shell-Plus",
   "language": "python",
   "name": "django_extensions"
  },
  "language_info": {
   "codemirror_mode": {
    "name": "ipython",
    "version": 3
   },
   "file_extension": ".py",
   "mimetype": "text/x-python",
   "name": "python",
   "nbconvert_exporter": "python",
   "pygments_lexer": "ipython3",
   "version": "3.7.9"
  }
 },
 "nbformat": 4,
 "nbformat_minor": 5
}
