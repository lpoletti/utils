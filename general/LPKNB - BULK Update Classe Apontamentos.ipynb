{
 "cells": [
  {
   "cell_type": "markdown",
   "metadata": {},
   "source": [
    "# Update de apontamentos otimizado"
   ]
  },
  {
   "cell_type": "markdown",
   "metadata": {},
   "source": [
    "Deve-se executar as duas primeiras células para carregar funções utilizadas para rodar o script e verificar se está em Produção"
   ]
  },
  {
   "cell_type": "code",
   "execution_count": 6,
   "metadata": {},
   "outputs": [],
   "source": [
    "import json\n",
    "import os\n",
    "from openpyxl import load_workbook\n",
    "from datetime import timedelta\n",
    "import random\n",
    "from copy import deepcopy\n",
    "from tqdm.notebook import tqdm\n",
    "from helpers.histories import bulk_update_with_history"
   ]
  },
  {
   "cell_type": "code",
   "execution_count": 2,
   "metadata": {},
   "outputs": [
    {
     "name": "stdout",
     "output_type": "stream",
     "text": [
      "STAGE=PRODUCTION\r\n"
     ]
    }
   ],
   "source": [
    "!cat .env"
   ]
  },
  {
   "cell_type": "markdown",
   "metadata": {},
   "source": [
    "**Escolhendo a unidade que desejar**"
   ]
  },
  {
   "cell_type": "code",
   "execution_count": 1,
   "metadata": {},
   "outputs": [
    {
     "data": {
      "text/plain": [
       "<Company: 097fe80a-4917-4fa1-8207-2de35c113599: Eixo SP>"
      ]
     },
     "execution_count": 1,
     "metadata": {},
     "output_type": "execute_result"
    }
   ],
   "source": [
    "company = Company.objects.get(name=\"Eixo SP\")\n",
    "company"
   ]
  },
  {
   "cell_type": "markdown",
   "metadata": {},
   "source": [
    "Escolhendo nome do arquivo Excel para carregar as Classes"
   ]
  },
  {
   "cell_type": "code",
   "execution_count": 52,
   "metadata": {},
   "outputs": [],
   "source": [
    "filename = \"Lista de Formularios\""
   ]
  },
  {
   "cell_type": "markdown",
   "metadata": {},
   "source": [
    "Escolhendo a aba da planilha do Excel\n",
    "\n",
    "Obs: atenção para escolher a aba correta da planilha"
   ]
  },
  {
   "cell_type": "code",
   "execution_count": 53,
   "metadata": {},
   "outputs": [],
   "source": [
    "wb = load_workbook(filename + \".xlsx\")\n",
    "ws = wb['deletados']"
   ]
  },
  {
   "cell_type": "markdown",
   "metadata": {},
   "source": [
    "Testando planilha carregada do Excel"
   ]
  },
  {
   "cell_type": "code",
   "execution_count": 54,
   "metadata": {},
   "outputs": [
    {
     "name": "stdout",
     "output_type": "stream",
     "text": [
      "Microfresagem\n"
     ]
    }
   ],
   "source": [
    "print(ws['A1'].value)"
   ]
  },
  {
   "cell_type": "markdown",
   "metadata": {},
   "source": [
    "Carregando as classes no script"
   ]
  },
  {
   "cell_type": "code",
   "execution_count": 46,
   "metadata": {},
   "outputs": [],
   "source": [
    "header = []\n",
    "values = []\n",
    "\n",
    "for index, row in enumerate(ws.rows):\n",
    "    if index == 0:\n",
    "        header = list([a.value for a in row])\n",
    "        continue\n",
    "    obj = {}\n",
    "    for col_index, cell in enumerate(row):\n",
    "        value = cell.value\n",
    "        obj[header[col_index]] = value\n",
    "    values.append(obj)"
   ]
  },
  {
   "cell_type": "markdown",
   "metadata": {},
   "source": [
    "Testando as configurações das Classes para conferir se dados foram carregados corretamente"
   ]
  },
  {
   "cell_type": "code",
   "execution_count": 47,
   "metadata": {},
   "outputs": [
    {
     "data": {
      "text/plain": [
       "{'Apontamento': 'RO-OaeI-2022.00015 ', 'Nova Classe': 'Manutenção em OAE'}"
      ]
     },
     "execution_count": 47,
     "metadata": {},
     "output_type": "execute_result"
    }
   ],
   "source": [
    "values[0]"
   ]
  },
  {
   "cell_type": "code",
   "execution_count": 48,
   "metadata": {},
   "outputs": [
    {
     "data": {
      "application/vnd.jupyter.widget-view+json": {
       "model_id": "8b3a1038df724d40a9f511830d3a802e",
       "version_major": 2,
       "version_minor": 0
      },
      "text/plain": [
       "  0%|          | 0/452 [00:00<?, ?it/s]"
      ]
     },
     "metadata": {},
     "output_type": "display_data"
    }
   ],
   "source": [
    "apt_edit = []\n",
    "c = 0\n",
    "user=User.objects.get(username=\"rlcs\")\n",
    "for a in tqdm(values):\n",
    "    try:\n",
    "        apt = Reporting.objects.get(company=company,number=a['Apontamento'].strip())\n",
    "        occ = OccurrenceType.objects.get(company=company,name=a['Nova Classe'].strip())\n",
    "        apt.occurrence_type = occ\n",
    "        apt_edit.append(apt)\n",
    "    except Exception as e:\n",
    "        print(e,':',a['Apontamento'], ': ',a['Nova Classe'],c)\n",
    "        c+=1"
   ]
  },
  {
   "cell_type": "code",
   "execution_count": 49,
   "metadata": {},
   "outputs": [],
   "source": [
    "apontamentos = bulk_update_with_history(apt_edit,Reporting, use_django_bulk=True,batch_size=100,user=user)"
   ]
  },
  {
   "cell_type": "code",
   "execution_count": 22,
   "metadata": {},
   "outputs": [],
   "source": [
    "occ = OccurrenceType.objects.get(uuid='dfe67bc1-740e-41ab-b382-d1f508a36451')"
   ]
  },
  {
   "cell_type": "code",
   "execution_count": 27,
   "metadata": {},
   "outputs": [
    {
     "data": {
      "text/plain": [
       "<QuerySet [<Company: b8450161-14d1-4de8-b254-7d1ddc4a9c20: Arteris Intervias>]>"
      ]
     },
     "execution_count": 27,
     "metadata": {},
     "output_type": "execute_result"
    }
   ],
   "source": [
    "occ.company.all()"
   ]
  },
  {
   "cell_type": "code",
   "execution_count": 32,
   "metadata": {},
   "outputs": [
    {
     "data": {
      "text/plain": [
       "<Reporting: [Arteris Intervias] INT-FDO-2023.01099 - 2023-01-23 03:00:00+00:00>"
      ]
     },
     "execution_count": 32,
     "metadata": {},
     "output_type": "execute_result"
    }
   ],
   "source": [
    "occ.reporting_occurrence.all()[0]"
   ]
  },
  {
   "cell_type": "code",
   "execution_count": 30,
   "metadata": {},
   "outputs": [
    {
     "data": {
      "text/plain": [
       "231"
      ]
     },
     "execution_count": 30,
     "metadata": {},
     "output_type": "execute_result"
    }
   ],
   "source": [
    "OccurrenceType.objects.filter(company__name=\"Arteris Intervias\",next_version__isnull=True).count()"
   ]
  },
  {
   "cell_type": "code",
   "execution_count": 2,
   "metadata": {},
   "outputs": [],
   "source": [
    "lista =[\"EIXO-FDO-2023.12924\",\n",
    "\"EIXO-FDO-2023.12923\",\n",
    "\"EIXO-FDO-2023.12922\",\n",
    "\"EIXO-FDO-2023.12921\",\n",
    "\"EIXO-FDO-2023.12920\",\n",
    "\"EIXO-FDO-2023.12919\",\n",
    "\"EIXO-FDO-2023.12918\",\n",
    "\"EIXO-FDO-2023.12917\",\n",
    "\"EIXO-FDO-2023.12916\",\n",
    "\"EIXO-FDO-2023.12915\",\n",
    "\"EIXO-FDO-2023.12914\",\n",
    "\"EIXO-FDO-2023.12913\",\n",
    "\"EIXO-FDO-2023.12912\",\n",
    "\"EIXO-FDO-2023.12911\",\n",
    "\"EIXO-FDO-2023.12910\",\n",
    "\"EIXO-FDO-2023.12909\",\n",
    "\"EIXO-FDO-2023.12908\",\n",
    "\"EIXO-FDO-2023.12907\",\n",
    "\"EIXO-FDO-2023.12906\",\n",
    "\"EIXO-FDO-2023.12905\",\n",
    "\"EIXO-FDO-2023.12904\",\n",
    "\"EIXO-FDO-2023.12903\",\n",
    "\"EIXO-FDO-2023.12902\",\n",
    "\"EIXO-FDO-2023.12901\",\n",
    "\"EIXO-FDO-2023.12900\",\n",
    "\"EIXO-FDO-2023.12899\",\n",
    "\"EIXO-FDO-2023.12898\",\n",
    "\"EIXO-FDO-2023.12897\",\n",
    "\"EIXO-FDO-2023.12896\",\n",
    "\"EIXO-FDO-2023.12895\",\n",
    "\"EIXO-FDO-2023.12894\",\n",
    "\"EIXO-FDO-2023.12893\",\n",
    "\"EIXO-FDO-2023.12892\",\n",
    "\"EIXO-FDO-2023.12891\",\n",
    "\"EIXO-FDO-2023.12890\",\n",
    "\"EIXO-FDO-2023.12889\",\n",
    "\"EIXO-FDO-2023.12888\",\n",
    "\"EIXO-FDO-2023.12887\",\n",
    "\"EIXO-FDO-2023.12886\",\n",
    "\"EIXO-FDO-2023.12885\"]"
   ]
  },
  {
   "cell_type": "code",
   "execution_count": 12,
   "metadata": {
    "scrolled": true
   },
   "outputs": [
    {
     "data": {
      "application/vnd.jupyter.widget-view+json": {
       "model_id": "8a4d9dc58dae42e6bfc9ea353e7e6c85",
       "version_major": 2,
       "version_minor": 0
      },
      "text/plain": [
       "  0%|          | 0/40 [00:00<?, ?it/s]"
      ]
     },
     "metadata": {},
     "output_type": "display_data"
    }
   ],
   "source": [
    "apt_edit = []\n",
    "c = 0\n",
    "user=User.objects.get(username=\"rlcs\")\n",
    "for a in tqdm(lista):\n",
    "    try:\n",
    "        apt = Reporting.objects.get(company=company,number=a)\n",
    "        occ = OccurrenceType.objects.get(company=company,name='Recuperação do revestimento vegetal')\n",
    "        apt.occurrence_type = occ\n",
    "        apt.history.user=user\n",
    "        apt_edit.append(apt)\n",
    "    except Exception as e:\n",
    "        print(e,':',a, ': ','Recuperação do revestimento vegetal',c)\n",
    "        c+=1"
   ]
  },
  {
   "cell_type": "code",
   "execution_count": 14,
   "metadata": {},
   "outputs": [
    {
     "data": {
      "text/plain": [
       "40"
      ]
     },
     "execution_count": 14,
     "metadata": {},
     "output_type": "execute_result"
    }
   ],
   "source": [
    "len(apt_edit)"
   ]
  },
  {
   "cell_type": "code",
   "execution_count": 15,
   "metadata": {},
   "outputs": [],
   "source": [
    "apontamentos = bulk_update_with_history(apt_edit,Reporting, use_django_bulk=True,batch_size=15,user=user)"
   ]
  },
  {
   "cell_type": "code",
   "execution_count": 47,
   "metadata": {},
   "outputs": [
    {
     "data": {
      "text/plain": [
       "<Firm: [097fe80a-4917-4fa1-8207-2de35c113599: Eixo SP] 776f5f9a-d6b7-44a3-a69d-5f97c5de0f69: SPD-REMOÇÃO LIXO 01>"
      ]
     },
     "execution_count": 47,
     "metadata": {},
     "output_type": "execute_result"
    }
   ],
   "source": [
    "firm = Firm.objects.get(company=company,name='SPD-REMOÇÃO LIXO 01')\n",
    "firm"
   ]
  },
  {
   "cell_type": "code",
   "execution_count": null,
   "metadata": {},
   "outputs": [],
   "source": []
  }
 ],
 "metadata": {
  "kernelspec": {
   "display_name": "Django Shell-Plus",
   "language": "python",
   "name": "django_extensions"
  },
  "language_info": {
   "codemirror_mode": {
    "name": "ipython",
    "version": 3
   },
   "file_extension": ".py",
   "mimetype": "text/x-python",
   "name": "python",
   "nbconvert_exporter": "python",
   "pygments_lexer": "ipython3",
   "version": "3.7.9"
  }
 },
 "nbformat": 4,
 "nbformat_minor": 2
}
