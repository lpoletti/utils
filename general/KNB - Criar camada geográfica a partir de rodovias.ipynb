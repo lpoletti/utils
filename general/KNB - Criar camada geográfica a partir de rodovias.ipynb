{
 "cells": [
  {
   "cell_type": "markdown",
   "metadata": {},
   "source": [
    "## Importar campo de geometria"
   ]
  },
  {
   "cell_type": "code",
   "execution_count": 1,
   "metadata": {},
   "outputs": [],
   "source": [
    "from django.contrib.gis.geos import GeometryCollection, LineString"
   ]
  },
  {
   "cell_type": "markdown",
   "metadata": {},
   "source": [
    "## Selecionar a unidade a ser considerada"
   ]
  },
  {
   "cell_type": "code",
   "execution_count": 8,
   "metadata": {},
   "outputs": [],
   "source": [
    "company = Company.objects.get(name__icontains=\"Elo Ecopistas\")"
   ]
  },
  {
   "cell_type": "code",
   "execution_count": 9,
   "metadata": {},
   "outputs": [
    {
     "data": {
      "text/plain": [
       "<Company: f3b2b4c4-b5be-42ab-9a34-27bfa44e2044: ELO Ecopistas>"
      ]
     },
     "execution_count": 9,
     "metadata": {},
     "output_type": "execute_result"
    }
   ],
   "source": [
    "company"
   ]
  },
  {
   "cell_type": "markdown",
   "metadata": {},
   "source": [
    "## Obter as rodovias"
   ]
  },
  {
   "cell_type": "code",
   "execution_count": 10,
   "metadata": {},
   "outputs": [],
   "source": [
    "roads = Road.objects.filter(company=company)"
   ]
  },
  {
   "cell_type": "code",
   "execution_count": 11,
   "metadata": {},
   "outputs": [
    {
     "data": {
      "text/plain": [
       "10"
      ]
     },
     "execution_count": 11,
     "metadata": {},
     "output_type": "execute_result"
    }
   ],
   "source": [
    "roads.count()"
   ]
  },
  {
   "cell_type": "markdown",
   "metadata": {},
   "source": [
    "## Opcional - apagar camadas existentes"
   ]
  },
  {
   "cell_type": "code",
   "execution_count": 12,
   "metadata": {},
   "outputs": [
    {
     "data": {
      "text/plain": [
       "(0, {})"
      ]
     },
     "execution_count": 12,
     "metadata": {},
     "output_type": "execute_result"
    }
   ],
   "source": [
    "# ShapeFile.objects.filter(companies=company).delete()"
   ]
  },
  {
   "cell_type": "markdown",
   "metadata": {},
   "source": [
    "## Criação de uma camada geográfica para as rodovias"
   ]
  },
  {
   "cell_type": "code",
   "execution_count": 13,
   "metadata": {},
   "outputs": [
    {
     "name": "stderr",
     "output_type": "stream",
     "text": [
      "/home/ubuntu/hidros-backend/venv/lib/python3.6/site-packages/django/db/models/fields/__init__.py:1421: RuntimeWarning: DateTimeField ShapeFile.synced_at received a naive datetime (2021-04-05 15:09:13.502725) while time zone support is active.\n",
      "  RuntimeWarning)\n"
     ]
    }
   ],
   "source": [
    "geometry = GeometryCollection()\n",
    "properties = []\n",
    "\n",
    "for road in roads:\n",
    "    path = LineString([a[:-1] for a in road.path])\n",
    "    geometry.append(path)\n",
    "    properties.append({\n",
    "        \"Nome\": road.name,\n",
    "        \"Extensão\": road.length,\n",
    "    })\n",
    "    \n",
    "shape = ShapeFile(\n",
    "    created_by = User.objects.get(username='rlcs'),\n",
    "    name=\"Rodovias\",\n",
    "    description=\"Rodovias\",\n",
    "    private=False,\n",
    "    enable_default=True,\n",
    "    geometry=geometry,\n",
    "    properties=properties,\n",
    "    metadata={\n",
    "        \"stroke_color\": \"#346eeb\",\n",
    "        \"fill_color\": \"#346eeb\"\n",
    "    }\n",
    ")\n",
    "shape.save()\n",
    "shape.companies.set([company])"
   ]
  },
  {
   "cell_type": "code",
   "execution_count": null,
   "metadata": {},
   "outputs": [],
   "source": [
    "for a in records:\n",
    "    \n",
    "    properties=[]\n",
    "    \n",
    "    point= dsad\n",
    "    geometry=GeometryCollection()\n",
    "    geometry.append(point)\n",
    "    properties.append({})\n",
    "    OperationalControlRecord(uuid=asldas,\n",
    "                            geometry = geometry,\n",
    "                             properties=properties\n",
    "                            )"
   ]
  }
 ],
 "metadata": {
  "kernelspec": {
   "display_name": "Django Shell-Plus",
   "language": "python",
   "name": "django_extensions"
  },
  "language_info": {
   "codemirror_mode": {
    "name": "ipython",
    "version": 3
   },
   "file_extension": ".py",
   "mimetype": "text/x-python",
   "name": "python",
   "nbconvert_exporter": "python",
   "pygments_lexer": "ipython3",
   "version": "3.6.5"
  }
 },
 "nbformat": 4,
 "nbformat_minor": 2
}
