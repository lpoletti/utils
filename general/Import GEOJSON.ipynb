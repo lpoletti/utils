{
 "cells": [
  {
   "cell_type": "markdown",
   "metadata": {},
   "source": [
    "## Verificar ambiente"
   ]
  },
  {
   "cell_type": "code",
   "execution_count": 1,
   "metadata": {},
   "outputs": [
    {
     "name": "stdout",
     "output_type": "stream",
     "text": [
      "STAGE=PRODUCTION\r\n"
     ]
    }
   ],
   "source": [
    "!cat .env"
   ]
  },
  {
   "cell_type": "markdown",
   "metadata": {},
   "source": [
    "## Importar o necessário"
   ]
  },
  {
   "cell_type": "code",
   "execution_count": 2,
   "metadata": {},
   "outputs": [],
   "source": [
    "import json\n",
    "from helpers.fields import FeatureCollectionField\n",
    "import random"
   ]
  },
  {
   "cell_type": "markdown",
   "metadata": {},
   "source": [
    "## Escolher unidade e usuário do sistema"
   ]
  },
  {
   "cell_type": "code",
   "execution_count": 3,
   "metadata": {},
   "outputs": [
    {
     "data": {
      "text/plain": [
       "<Company: efbf4869-4486-449d-8052-21fef17c2f62: CAJ>"
      ]
     },
     "execution_count": 3,
     "metadata": {},
     "output_type": "execute_result"
    }
   ],
   "source": [
    "uhit = Company.objects.get(name='CAJ')\n",
    "engie=User.objects.get(username='rlcs')\n",
    "uhit"
   ]
  },
  {
   "cell_type": "markdown",
   "metadata": {},
   "source": [
    "## Mudar nome do arquivo e nome do shape (como irá aparecer no sistema)"
   ]
  },
  {
   "cell_type": "code",
   "execution_count": 4,
   "metadata": {},
   "outputs": [],
   "source": [
    "filename = 'adutora'\n",
    "material = []\n",
    "nome = 'Adutoras Piraí Sul'"
   ]
  },
  {
   "cell_type": "markdown",
   "metadata": {},
   "source": [
    "## Escolher cor ( necessário setar manualmente dependendo da importação)"
   ]
  },
  {
   "cell_type": "code",
   "execution_count": 5,
   "metadata": {},
   "outputs": [],
   "source": [
    "color=\"#\"+\"\".join(random.choices('0123456789ABCDEF', k=6))\n",
    "# color=\"#EA862A\""
   ]
  },
  {
   "cell_type": "markdown",
   "metadata": {},
   "source": [
    "## Importar o arquivo"
   ]
  },
  {
   "cell_type": "code",
   "execution_count": 6,
   "metadata": {},
   "outputs": [
    {
     "name": "stderr",
     "output_type": "stream",
     "text": [
      "/home/luan/.cache/pypoetry/virtualenvs/apps-ZFymp6kh-py3.7/lib/python3.7/site-packages/django/db/models/fields/__init__.py:1427: RuntimeWarning: DateTimeField ShapeFile.synced_at received a naive datetime (2023-06-02 11:11:41.285158) while time zone support is active.\n",
      "  RuntimeWarning)\n"
     ]
    }
   ],
   "source": [
    "field = FeatureCollectionField(\n",
    "    required=False,\n",
    "    allow_null=True,\n",
    "    geometry_field=\"geometry\",\n",
    "    properties_field=\"properties\",\n",
    ")\n",
    "\n",
    "with open(filename + '.geojson', 'r+') as f:\n",
    "    material = json.load(f)\n",
    "\n",
    "internal_values = field.to_internal_value(material)\n",
    "\n",
    "shapefile = ShapeFile(\n",
    "  created_by = engie,\n",
    "  name = nome,\n",
    "  description = nome,\n",
    "  enable_default=False,\n",
    "#   parent = ShapeFile.objects.get(companies=uhit, name='PACUERA'), # escolher parent, opcional\n",
    "  geometry = internal_values['geometry'],\n",
    "  properties = internal_values['properties'],\n",
    "  metadata = {\n",
    "    \"fill_color\": color, # escolher cores\n",
    "    \"stroke_color\": color # escolher cores\n",
    "}\n",
    ")\n",
    "\n",
    "shapefile.save()\n",
    "\n",
    "shapefile.companies.add(uhit)"
   ]
  },
  {
   "cell_type": "markdown",
   "metadata": {},
   "source": [
    "## Linhas de teste abaixo (não considerar para execução)"
   ]
  },
  {
   "cell_type": "markdown",
   "metadata": {},
   "source": [
    " "
   ]
  },
  {
   "cell_type": "markdown",
   "metadata": {},
   "source": [
    " "
   ]
  },
  {
   "cell_type": "code",
   "execution_count": 49,
   "metadata": {},
   "outputs": [
    {
     "data": {
      "text/plain": [
       "<QuerySet [<ShapeFile: ['CAJ'] Bacia 9 - Etapa 3>]>"
      ]
     },
     "execution_count": 49,
     "metadata": {},
     "output_type": "execute_result"
    }
   ],
   "source": [
    "shape=ShapeFile.objects.filter(uuid='1e69e8e6-e0c5-4c4b-93b3-4f680d1853d6')\n",
    "shape"
   ]
  },
  {
   "cell_type": "code",
   "execution_count": 50,
   "metadata": {},
   "outputs": [],
   "source": [
    "for a in shape:\n",
    "    a.geometry = internal_values['geometry']\n",
    "    a.properties = internal_values['properties']\n",
    "#     a.parent=ShapeFile.objects.get(companies=uhit, name='Patrimônio')\n",
    "    a.save()\n",
    "#     a.delete()"
   ]
  },
  {
   "cell_type": "code",
   "execution_count": 44,
   "metadata": {},
   "outputs": [
    {
     "data": {
      "text/plain": [
       "0"
      ]
     },
     "execution_count": 44,
     "metadata": {},
     "output_type": "execute_result"
    }
   ],
   "source": [
    "occ=OccurrenceRecord.objects.filter(active_shape_files__uuid='e3d219a1-2a1b-4a3d-974d-e6dd261deaa5')\n",
    "occ.count()"
   ]
  },
  {
   "cell_type": "code",
   "execution_count": 38,
   "metadata": {},
   "outputs": [
    {
     "name": "stdout",
     "output_type": "stream",
     "text": [
      "UHIT-RG-2020.0081\n",
      "UHIT-RG-2020.0086\n",
      "UHIT-RG-2020.0099\n",
      "UHIT-RG-2020.0121\n",
      "UHIT-RG-2020.0122\n",
      "UHIT-RG-2020.0128\n",
      "UHIT-RG-2020.0184\n",
      "UHIT-RG-2020.0225\n",
      "UHIT-RG-2021.0081\n"
     ]
    }
   ],
   "source": [
    "for a in occ:\n",
    "    print(a.number)\n",
    "#     a.active_shape_files.add(ShapeFile.objects.get(uuid='a5824ee7-c423-4cf6-ae53-c81c8cba9622'))\n",
    "#     a.save()"
   ]
  },
  {
   "cell_type": "code",
   "execution_count": 62,
   "metadata": {},
   "outputs": [],
   "source": [
    "occ=OccurrenceRecord.history.model.objects.get(number='UHIT-RG-2021.0081')"
   ]
  },
  {
   "cell_type": "code",
   "execution_count": null,
   "metadata": {},
   "outputs": [],
   "source": []
  }
 ],
 "metadata": {
  "kernelspec": {
   "display_name": "Django Shell-Plus",
   "language": "python",
   "name": "django_extensions"
  },
  "language_info": {
   "codemirror_mode": {
    "name": "ipython",
    "version": 3
   },
   "file_extension": ".py",
   "mimetype": "text/x-python",
   "name": "python",
   "nbconvert_exporter": "python",
   "pygments_lexer": "ipython3",
   "version": "3.7.9"
  }
 },
 "nbformat": 4,
 "nbformat_minor": 2
}
