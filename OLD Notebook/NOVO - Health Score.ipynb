{
 "cells": [
  {
   "cell_type": "code",
   "execution_count": 1,
   "id": "25f6b64a",
   "metadata": {},
   "outputs": [],
   "source": [
    "from tqdm.notebook import tqdm\n",
    "from datetime import datetime,timedelta\n",
    "import calendar\n",
    "from django.db.models import F,Q"
   ]
  },
  {
   "cell_type": "code",
   "execution_count": 120,
   "id": "5aeeab7c",
   "metadata": {
    "scrolled": true
   },
   "outputs": [
    {
     "data": {
      "text/plain": [
       "['Arteris Fernão Dias',\n",
       " 'Arteris Fernão Dias - Conserva',\n",
       " 'Arteris Fluminense',\n",
       " 'Arteris Fluminense - Conserva',\n",
       " 'Arteris Intervias',\n",
       " 'Arteris Litoral Sul',\n",
       " 'Arteris Litoral Sul - Conserva',\n",
       " 'Arteris Litoral Sul - Faixa de Domínio',\n",
       " 'Arteris Planalto Sul',\n",
       " 'Arteris Planalto Sul - Conserva',\n",
       " 'Arteris Planalto Sul - Faixa de Domínio',\n",
       " 'Arteris Régis Bittencourt',\n",
       " 'Arteris Régis Bittencourt - Conserva',\n",
       " 'Arteris Régis Bittencourt - Faixa de Domínio',\n",
       " 'Arteris Via Paulista',\n",
       " 'Arteris Via Paulista - Faixa de Domínio',\n",
       " 'Arteris Via Paulista - SISOBRAS/SISQUALI',\n",
       " 'CAJ',\n",
       " 'Caminhos da Serra Gaúcha',\n",
       " 'CART',\n",
       " 'Construtora Castilho',\n",
       " 'Construtora Castilho (Ferrovias)',\n",
       " 'Construtora Castilho (Grupo Pátria)',\n",
       " 'Construtora Castilho (Prefeitura Curitiba)',\n",
       " 'Dalba Foz do Iguaçu',\n",
       " 'Eco Noroeste',\n",
       " 'Eco Noroeste SISOAE',\n",
       " 'Eixo SP',\n",
       " 'Eixo SP - Fx. Dom. | Qualidade | Topografia',\n",
       " 'Eixo SP - SISOAE',\n",
       " 'ELO AutoBAn',\n",
       " 'ELO EcoNoroeste',\n",
       " 'ELO Ecopistas',\n",
       " 'ELO Ecovias dos Imigrantes',\n",
       " 'ELO Rodovias dos Tamoios',\n",
       " 'ELO Rodovias Tietê',\n",
       " 'ELO Rota das Bandeiras',\n",
       " 'ELO SPVias',\n",
       " 'ELO Via Lagos',\n",
       " 'Engie Umburanas',\n",
       " 'Entrevias',\n",
       " 'Entrevias SISOAE',\n",
       " 'Kartado Modelo (Avançado)',\n",
       " 'Kartado Modelo (Básico)',\n",
       " 'LCM - Criciúma',\n",
       " 'LCM - Gaspar',\n",
       " 'LCM - Ituporanga',\n",
       " 'Minasul',\n",
       " 'Modera - Consolare',\n",
       " 'Modera - Consórcio Gerencia OAE SP',\n",
       " 'Modera - Consórcio ME2',\n",
       " 'Modera - Cortel',\n",
       " 'Modera - Maya',\n",
       " 'Modera - Velar',\n",
       " 'Neovia Alcinópolis',\n",
       " 'Neovia Araquari 886/2020',\n",
       " 'Neovia Araranguá',\n",
       " 'Neovia Bocaína do Sul 329/2018',\n",
       " 'Neovia Contorno Sul',\n",
       " 'Neovia Cto Biguaçu',\n",
       " 'Neovia Diamantino',\n",
       " 'Neovia Lages 652/2019',\n",
       " 'Neovia Lagoa Vermelha',\n",
       " 'Neovia Planalto Sul',\n",
       " 'Neovia Ponte Serrada',\n",
       " 'Neovia Rancho Queimado 080/2021',\n",
       " 'Neovia Régis Bittencourt',\n",
       " 'Neovia Tijucas',\n",
       " 'Nova Rota do Oeste - Obras',\n",
       " 'Pavicolet (Amapá)',\n",
       " 'Pavicolet (Amazonas)',\n",
       " 'Rota do Oeste',\n",
       " 'Rota do Oeste - Obras',\n",
       " 'Sinalizavia (Municípios)',\n",
       " 'VF Gomes - BR010',\n",
       " 'VF Gomes - BR158',\n",
       " 'VF Gomes - Confresa',\n",
       " 'Via Brasil']"
      ]
     },
     "execution_count": 120,
     "metadata": {},
     "output_type": "execute_result"
    }
   ],
   "source": [
    "road_companies = [x for x in Company.objects.filter(active=True).values_list('name',flat=True).order_by('name')]\n",
    "road_companies"
   ]
  },
  {
   "cell_type": "code",
   "execution_count": 121,
   "id": "03d6f54a",
   "metadata": {},
   "outputs": [
    {
     "data": {
      "text/plain": [
       "[2, 3]"
      ]
     },
     "execution_count": 121,
     "metadata": {},
     "output_type": "execute_result"
    }
   ],
   "source": [
    "today = dt.date.today()\n",
    "year = today.year\n",
    "meses = [today.month - i for i in range(2)]\n",
    "meses = [m if m > 0 else m + 12 for m in meses]  # Garante que os meses são válidos (1-12)\n",
    "meses.sort()\n",
    "\n",
    "months_number = meses\n",
    "months_number"
   ]
  },
  {
   "cell_type": "code",
   "execution_count": 122,
   "id": "82acaa45",
   "metadata": {},
   "outputs": [
    {
     "data": {
      "text/plain": [
       "[29, 31]"
      ]
     },
     "execution_count": 122,
     "metadata": {},
     "output_type": "execute_result"
    }
   ],
   "source": [
    "last_days = [dt.date(year, a, calendar.monthrange(year, a)[1]).day for a in meses]\n",
    "last_days"
   ]
  },
  {
   "cell_type": "markdown",
   "id": "d68dac34",
   "metadata": {},
   "source": [
    "# dias de uso"
   ]
  },
  {
   "cell_type": "code",
   "execution_count": 123,
   "id": "10abde28",
   "metadata": {},
   "outputs": [],
   "source": [
    "def dias_de_uso(months_name, company):\n",
    "    qtd_dias = []\n",
    "    dias = last_days\n",
    "    \n",
    "    for index, mes in enumerate(months_name):\n",
    "        a = []\n",
    "        for n in range(1, dias[index]):\n",
    "            reporting_count = Reporting.objects.filter(\n",
    "                company__name=company, \n",
    "                updated_at__year=year, \n",
    "                updated_at__month=mes,\n",
    "                updated_at__day=n\n",
    "            ).exclude(\n",
    "                created_by__username='rlcs'\n",
    "            ).exclude(\n",
    "                created_by__username='neoviacs'\n",
    "            ).exclude(\n",
    "                created_by__username='arteriscs'\n",
    "            ).only('uuid').count()\n",
    "            \n",
    "            a.append(reporting_count)\n",
    "            \n",
    "        qtd_dias.append(a)\n",
    "\n",
    "    quantidade = []\n",
    "    porcen_dias = []\n",
    "    \n",
    "    for qtd in qtd_dias:\n",
    "        quantidade.append(len([x for x in qtd if x != 0]))\n",
    "        \n",
    "    for index, qtd in enumerate(quantidade):\n",
    "        b = qtd / dias[index]\n",
    "        porcen_dias.append(b)\n",
    "        \n",
    "    return porcen_dias\n"
   ]
  },
  {
   "cell_type": "code",
   "execution_count": 111,
   "id": "60cba3e1",
   "metadata": {
    "scrolled": true
   },
   "outputs": [
    {
     "name": "stdout",
     "output_type": "stream",
     "text": [
      "Dias de uso para a empresa Arteris Fernão Dias: [0.8275862068965517, 0.0967741935483871]\n",
      "Dias de uso para a empresa Arteris Fernão Dias - Conserva: [0.6896551724137931, 0.1935483870967742]\n",
      "Dias de uso para a empresa Arteris Fluminense: [0.0, 0.0]\n",
      "Dias de uso para a empresa Arteris Fluminense - Conserva: [0.20689655172413793, 0.03225806451612903]\n",
      "Dias de uso para a empresa Arteris Intervias: [0.8620689655172413, 0.16129032258064516]\n",
      "Dias de uso para a empresa Arteris Litoral Sul: [0.41379310344827586, 0.12903225806451613]\n",
      "Dias de uso para a empresa Arteris Litoral Sul - Conserva: [0.7931034482758621, 0.1935483870967742]\n",
      "Dias de uso para a empresa Arteris Litoral Sul - Faixa de Domínio: [0.034482758620689655, 0.0]\n",
      "Dias de uso para a empresa Arteris Planalto Sul: [0.13793103448275862, 0.03225806451612903]\n",
      "Dias de uso para a empresa Arteris Planalto Sul - Conserva: [0.6551724137931034, 0.12903225806451613]\n",
      "Dias de uso para a empresa Arteris Planalto Sul - Faixa de Domínio: [0.0, 0.0]\n",
      "Dias de uso para a empresa Arteris Régis Bittencourt: [0.7586206896551724, 0.0967741935483871]\n",
      "Dias de uso para a empresa Arteris Régis Bittencourt - Conserva: [0.6896551724137931, 0.12903225806451613]\n",
      "Dias de uso para a empresa Arteris Régis Bittencourt - Faixa de Domínio: [0.06896551724137931, 0.0]\n",
      "Dias de uso para a empresa Arteris Via Paulista: [0.9655172413793104, 0.1935483870967742]\n",
      "Dias de uso para a empresa Arteris Via Paulista - Faixa de Domínio: [0.034482758620689655, 0.03225806451612903]\n",
      "Dias de uso para a empresa Arteris Via Paulista - SISOBRAS/SISQUALI: [0.0, 0.0]\n",
      "Dias de uso para a empresa CAJ: [0.6551724137931034, 0.12903225806451613]\n",
      "Dias de uso para a empresa Caminhos da Serra Gaúcha: [0.0, 0.0]\n",
      "Dias de uso para a empresa CART: [0.9655172413793104, 0.1935483870967742]\n",
      "Dias de uso para a empresa Construtora Castilho: [0.8275862068965517, 0.1935483870967742]\n",
      "Dias de uso para a empresa Construtora Castilho (Ferrovias): [0.5517241379310345, 0.1935483870967742]\n",
      "Dias de uso para a empresa Construtora Castilho (Grupo Pátria): [0.0, 0.12903225806451613]\n",
      "Dias de uso para a empresa Construtora Castilho (Prefeitura Curitiba): [0.7931034482758621, 0.16129032258064516]\n",
      "Dias de uso para a empresa Dalba Foz do Iguaçu: [0.7931034482758621, 0.1935483870967742]\n",
      "Dias de uso para a empresa Eco Noroeste: [0.06896551724137931, 0.0]\n",
      "Dias de uso para a empresa Eco Noroeste SISOAE: [0.034482758620689655, 0.0]\n",
      "Dias de uso para a empresa Eixo SP: [0.9655172413793104, 0.1935483870967742]\n",
      "Dias de uso para a empresa Eixo SP - Fx. Dom. | Qualidade | Topografia: [0.10344827586206896, 0.06451612903225806]\n",
      "Dias de uso para a empresa Eixo SP - SISOAE: [0.0, 0.03225806451612903]\n",
      "Dias de uso para a empresa ELO AutoBAn: [0.3448275862068966, 0.12903225806451613]\n",
      "Dias de uso para a empresa ELO EcoNoroeste: [0.0, 0.0]\n",
      "Dias de uso para a empresa ELO Ecopistas: [0.5862068965517241, 0.12903225806451613]\n",
      "Dias de uso para a empresa ELO Ecovias dos Imigrantes: [0.27586206896551724, 0.06451612903225806]\n",
      "Dias de uso para a empresa ELO Rodovias dos Tamoios: [0.5862068965517241, 0.12903225806451613]\n",
      "Dias de uso para a empresa ELO Rodovias Tietê: [0.5172413793103449, 0.12903225806451613]\n",
      "Dias de uso para a empresa ELO Rota das Bandeiras: [0.0, 0.0]\n",
      "Dias de uso para a empresa ELO SPVias: [0.0, 0.0]\n",
      "Dias de uso para a empresa ELO Via Lagos: [0.0, 0.0]\n",
      "Dias de uso para a empresa Engie Umburanas: [0.0, 0.0]\n",
      "Dias de uso para a empresa Entrevias: [0.9655172413793104, 0.1935483870967742]\n",
      "Dias de uso para a empresa Entrevias SISOAE: [0.27586206896551724, 0.0967741935483871]\n",
      "Dias de uso para a empresa Kartado Modelo (Avançado): [0.0, 0.0]\n",
      "Dias de uso para a empresa Kartado Modelo (Básico): [0.0, 0.0]\n",
      "Dias de uso para a empresa LCM - Criciúma: [0.5517241379310345, 0.06451612903225806]\n",
      "Dias de uso para a empresa LCM - Gaspar: [0.7931034482758621, 0.16129032258064516]\n",
      "Dias de uso para a empresa LCM - Ituporanga: [0.27586206896551724, 0.12903225806451613]\n",
      "Dias de uso para a empresa Minasul: [0.5862068965517241, 0.16129032258064516]\n",
      "Dias de uso para a empresa Modera - Consolare: [0.0, 0.0]\n",
      "Dias de uso para a empresa Modera - Consórcio Gerencia OAE SP: [0.034482758620689655, 0.0967741935483871]\n",
      "Dias de uso para a empresa Modera - Consórcio ME2: [0.5517241379310345, 0.12903225806451613]\n",
      "Dias de uso para a empresa Modera - Cortel: [0.0, 0.0]\n",
      "Dias de uso para a empresa Modera - Maya: [0.0, 0.0]\n",
      "Dias de uso para a empresa Modera - Velar: [0.10344827586206896, 0.03225806451612903]\n",
      "Dias de uso para a empresa Neovia Alcinópolis: [0.7931034482758621, 0.12903225806451613]\n",
      "Dias de uso para a empresa Neovia Araquari 886/2020: [0.6551724137931034, 0.0967741935483871]\n",
      "Dias de uso para a empresa Neovia Araranguá: [0.5172413793103449, 0.06451612903225806]\n",
      "Dias de uso para a empresa Neovia Bocaína do Sul 329/2018: [0.8620689655172413, 0.1935483870967742]\n",
      "Dias de uso para a empresa Neovia Contorno Sul: [0.5862068965517241, 0.0]\n",
      "Dias de uso para a empresa Neovia Cto Biguaçu: [0.9310344827586207, 0.16129032258064516]\n",
      "Dias de uso para a empresa Neovia Diamantino: [0.7931034482758621, 0.12903225806451613]\n",
      "Dias de uso para a empresa Neovia Lages 652/2019: [0.6896551724137931, 0.16129032258064516]\n",
      "Dias de uso para a empresa Neovia Lagoa Vermelha: [0.5172413793103449, 0.06451612903225806]\n",
      "Dias de uso para a empresa Neovia Planalto Sul: [0.4482758620689655, 0.12903225806451613]\n",
      "Dias de uso para a empresa Neovia Ponte Serrada: [0.5862068965517241, 0.12903225806451613]\n",
      "Dias de uso para a empresa Neovia Rancho Queimado 080/2021: [0.7241379310344828, 0.12903225806451613]\n",
      "Dias de uso para a empresa Neovia Régis Bittencourt: [0.896551724137931, 0.16129032258064516]\n",
      "Dias de uso para a empresa Neovia Tijucas: [0.6896551724137931, 0.06451612903225806]\n",
      "Dias de uso para a empresa Nova Rota do Oeste - Obras: [0.06896551724137931, 0.03225806451612903]\n",
      "Dias de uso para a empresa Pavicolet (Amapá): [0.6206896551724138, 0.12903225806451613]\n",
      "Dias de uso para a empresa Pavicolet (Amazonas): [0.8620689655172413, 0.1935483870967742]\n",
      "Dias de uso para a empresa Rota do Oeste: [0.9655172413793104, 0.1935483870967742]\n",
      "Dias de uso para a empresa Rota do Oeste - Obras: [0.8275862068965517, 0.16129032258064516]\n",
      "Dias de uso para a empresa Sinalizavia (Municípios): [0.20689655172413793, 0.03225806451612903]\n",
      "Dias de uso para a empresa VF Gomes - BR010: [0.5862068965517241, 0.12903225806451613]\n",
      "Dias de uso para a empresa VF Gomes - BR158: [0.0, 0.0]\n",
      "Dias de uso para a empresa VF Gomes - Confresa: [0.0, 0.0]\n",
      "Dias de uso para a empresa Via Brasil: [0.9655172413793104, 0.1935483870967742]\n"
     ]
    }
   ],
   "source": [
    "resultados_por_empresa = {}\n",
    "\n",
    "for company in road_companies:\n",
    "    resultados_por_empresa[company] = dias_de_uso(months_number, company)\n",
    "\n",
    "# Imprimir os resultados por empresa\n",
    "for company, resultados in resultados_por_empresa.items():\n",
    "    print(f\"Dias de uso para a empresa {company}: {resultados}\")"
   ]
  },
  {
   "cell_type": "markdown",
   "id": "3e558e10",
   "metadata": {},
   "source": [
    "# w = variação número de apontamentos comparado ao mês anterior  "
   ]
  },
  {
   "cell_type": "code",
   "execution_count": 2,
   "id": "c7c09b44",
   "metadata": {},
   "outputs": [],
   "source": [
    "road_companies=['Eixo Sp - Pavimento']"
   ]
  },
  {
   "cell_type": "code",
   "execution_count": 11,
   "id": "bd93762b",
   "metadata": {},
   "outputs": [
    {
     "data": {
      "text/plain": [
       "(datetime.datetime(2024, 2, 15, 17, 35, 10, 413530),\n",
       " datetime.datetime(2024, 1, 16, 17, 35, 10, 413530),\n",
       " [1, 2])"
      ]
     },
     "execution_count": 11,
     "metadata": {},
     "output_type": "execute_result"
    }
   ],
   "source": [
    "today = datetime.now()-timedelta(days=20)\n",
    "last_month = today - timedelta(days=30)\n",
    "months = [last_month.month,today.month]\n",
    "today,last_month,months"
   ]
  },
  {
   "cell_type": "code",
   "execution_count": 14,
   "id": "f0451e0c",
   "metadata": {},
   "outputs": [
    {
     "data": {
      "text/plain": [
       "(0.6455696202531647, 650, 395, -0.39230769230769236)"
      ]
     },
     "execution_count": 14,
     "metadata": {},
     "output_type": "execute_result"
    }
   ],
   "source": [
    "atual=Reporting.objects.filter(\n",
    "                company__name = 'Eixo Sp - Pavimento', \n",
    "                updated_at__year=today.year, \n",
    "                updated_at__month=today.month\n",
    "            ).exclude(\n",
    "                created_by__username='rlcs'\n",
    "            ).exclude(\n",
    "                created_by__username='neoviacs'\n",
    "            ).exclude(\n",
    "                created_by__username='arteriscs'\n",
    "            ).only('uuid').count()\n",
    "anterior=Reporting.objects.filter(\n",
    "                company__name = 'Eixo Sp - Pavimento', \n",
    "                updated_at__year=last_month.year, \n",
    "                updated_at__month=last_month.month\n",
    "            ).exclude(\n",
    "                created_by__username='rlcs'\n",
    "            ).exclude(\n",
    "                created_by__username='neoviacs'\n",
    "            ).exclude(\n",
    "                created_by__username='arteriscs'\n",
    "            ).only('uuid').count()\n",
    "atual/anterior-1,atual,anterior,anterior/atual-1"
   ]
  },
  {
   "cell_type": "markdown",
   "id": "ed4d4bef",
   "metadata": {},
   "source": [
    "# programações"
   ]
  },
  {
   "cell_type": "code",
   "execution_count": null,
   "id": "703f46f8",
   "metadata": {},
   "outputs": [],
   "source": [
    "from django.db.models import Q\n",
    "from datetime import datetime\n",
    " \n",
    "mes_especifico = 2\n",
    "ano_especifico = 2024\n",
    " \n",
    "jobs_no_mes = Job.history.filter(\n",
    "    Q(history_date__month=mes_especifico),\n",
    "    Q(history_date__year=ano_especifico),\n",
    "    company__name='Demo Concessionárias',\n",
    "    history_type='+'\n",
    ")\n",
    " \n",
    "numero_de_jobs_no_mes = jobs_no_mes.count()\n",
    " \n",
    "print(f'Número de jobs criados em fev de 2024: {numero_de_jobs_no_mes}')"
   ]
  },
  {
   "cell_type": "markdown",
   "id": "6566781d",
   "metadata": {},
   "source": [
    "# recursos"
   ]
  },
  {
   "cell_type": "code",
   "execution_count": 2,
   "id": "8db54cf1",
   "metadata": {
    "collapsed": true
   },
   "outputs": [
    {
     "data": {
      "text/plain": [
       "<QuerySet [{'firm__company__name': 'Arteris Intervias', 'creation_date__day': 1, 'qtd_dia': 17}, {'firm__company__name': 'Arteris Intervias', 'creation_date__day': 7, 'qtd_dia': 31}, {'firm__company__name': 'Arteris Intervias', 'creation_date__day': 8, 'qtd_dia': 7}, {'firm__company__name': 'Arteris Intervias', 'creation_date__day': 14, 'qtd_dia': 3}, {'firm__company__name': 'Arteris Intervias', 'creation_date__day': 15, 'qtd_dia': 26}, {'firm__company__name': 'Arteris Intervias', 'creation_date__day': 16, 'qtd_dia': 1}, {'firm__company__name': 'Arteris Intervias', 'creation_date__day': 19, 'qtd_dia': 4}, {'firm__company__name': 'Arteris Intervias', 'creation_date__day': 21, 'qtd_dia': 14}, {'firm__company__name': 'Arteris Intervias', 'creation_date__day': 22, 'qtd_dia': 4}, {'firm__company__name': 'Arteris Intervias', 'creation_date__day': 23, 'qtd_dia': 45}, {'firm__company__name': 'Arteris Intervias', 'creation_date__day': 26, 'qtd_dia': 3}, {'firm__company__name': 'Arteris Litoral Sul - Conserva', 'creation_date__day': 29, 'qtd_dia': 18}, {'firm__company__name': 'Pavicolet (Amapá)', 'creation_date__day': 26, 'qtd_dia': 21}, {'firm__company__name': 'Pavicolet (Amazonas)', 'creation_date__day': 5, 'qtd_dia': 174}, {'firm__company__name': 'Pavicolet (Amazonas)', 'creation_date__day': 6, 'qtd_dia': 90}, {'firm__company__name': None, 'creation_date__day': 1, 'qtd_dia': 72}, {'firm__company__name': None, 'creation_date__day': 2, 'qtd_dia': 54}, {'firm__company__name': None, 'creation_date__day': 5, 'qtd_dia': 90}, {'firm__company__name': None, 'creation_date__day': 6, 'qtd_dia': 67}, {'firm__company__name': None, 'creation_date__day': 7, 'qtd_dia': 88}, '...(remaining elements truncated)...']>"
      ]
     },
     "execution_count": 2,
     "metadata": {},
     "output_type": "execute_result"
    }
   ],
   "source": [
    "ProcedureResource.objects.filter(\n",
    "    creation_date__month=2,\n",
    "    creation_date__year=2024\n",
    ").values(\n",
    "    'firm__company__name',\n",
    "    'creation_date__day'\n",
    ").annotate(\n",
    "qtd_dia=Count('uuid'))"
   ]
  },
  {
   "cell_type": "markdown",
   "id": "8bb3b26e",
   "metadata": {},
   "source": [
    "# RDOs"
   ]
  },
  {
   "cell_type": "code",
   "execution_count": 3,
   "id": "0949e54c",
   "metadata": {},
   "outputs": [
    {
     "name": "stdout",
     "output_type": "stream",
     "text": [
      "Porcentagem de equipes com RDOs criados em fev de 2024: 11.11%\n"
     ]
    }
   ],
   "source": [
    "from django.db.models import Q\n",
    "from datetime import datetime\n",
    " \n",
    "mes_especifico = 2  \n",
    "ano_especifico = 2024\n",
    " \n",
    "firms = Firm.objects.filter(company__name='Demo Concessionárias')\n",
    " \n",
    "contador = 0\n",
    " \n",
    "for firm in firms:\n",
    "    if firm.firm_multiple_daily_report.filter(\n",
    "        Q(date__month=mes_especifico),\n",
    "        Q(date__year=ano_especifico)\n",
    "    ).exists():\n",
    "        contador += 1\n",
    " \n",
    "porcentagem = (contador / firms.count()) * 100\n",
    " \n",
    "print(f'Porcentagem de equipes com RDOs criados em fev de 2024: {porcentagem:.2f}%')"
   ]
  }
 ],
 "metadata": {
  "kernelspec": {
   "display_name": "Django Shell-Plus",
   "language": "python",
   "name": "django_extensions"
  },
  "language_info": {
   "codemirror_mode": {
    "name": "ipython",
    "version": 3
   },
   "file_extension": ".py",
   "mimetype": "text/x-python",
   "name": "python",
   "nbconvert_exporter": "python",
   "pygments_lexer": "ipython3",
   "version": "3.8.16"
  }
 },
 "nbformat": 4,
 "nbformat_minor": 5
}
