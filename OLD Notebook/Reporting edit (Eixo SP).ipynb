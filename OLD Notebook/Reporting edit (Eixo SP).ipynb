{
 "cells": [
  {
   "cell_type": "code",
   "execution_count": 1,
   "metadata": {},
   "outputs": [
    {
     "name": "stdout",
     "output_type": "stream",
     "text": [
      "STAGE=PRODUCTION\r\n"
     ]
    }
   ],
   "source": [
    "!cat .env"
   ]
  },
  {
   "cell_type": "code",
   "execution_count": 6,
   "metadata": {},
   "outputs": [],
   "source": [
    "import json\n",
    "import os\n",
    "import pandas as pd\n",
    "import pytz\n",
    "import random\n",
    "import string\n",
    "import math\n",
    "import datetime\n",
    "import locale\n",
    "import json\n",
    "\n",
    "from tqdm.notebook import tqdm\n",
    "from PIL import Image\n",
    "from io import BytesIO\n",
    "from openpyxl import load_workbook\n",
    "from datetime import timedelta, datetime\n",
    "from openpyxl_image_loader import SheetImageLoader\n",
    "from copy import deepcopy\n",
    "from json_logic import jsonLogic\n",
    "\n",
    "from django.contrib.gis.geos import Point\n",
    "from django.contrib.admin.utils import flatten\n",
    "\n",
    "from simple_history.utils import bulk_create_with_history\n",
    "from helpers.histories import bulk_update_with_history\n",
    "\n",
    "from helpers.km_converter import get_road_coordinates\n",
    "from helpers.apps.inventory import get_api_name\n",
    "from helpers.strings import to_snake_case\n",
    "from helpers.serializers import get_obj_serialized\n",
    "from helpers.strings import get_obj_from_path\n",
    "from helpers.apps.reportings import form_fields_dict"
   ]
  },
  {
   "cell_type": "code",
   "execution_count": 2,
   "metadata": {},
   "outputs": [],
   "source": [
    "mytz=pytz.timezone(\"America/Sao_Paulo\")"
   ]
  },
  {
   "cell_type": "code",
   "execution_count": 3,
   "metadata": {},
   "outputs": [],
   "source": [
    "def get_value_direction_lane(company, name, value):\n",
    "    select_options = company.custom_options['reporting']['fields'][name]['select_options']['options']\n",
    "    translation={item['value']: item['name'] for item in select_options}\n",
    "    \n",
    "    return translation[value]"
   ]
  },
  {
   "cell_type": "code",
   "execution_count": 3,
   "metadata": {},
   "outputs": [],
   "source": [
    "filename = 'Inventario (simplificado)_TOR'"
   ]
  },
  {
   "cell_type": "code",
   "execution_count": 4,
   "metadata": {},
   "outputs": [],
   "source": [
    "wb = load_workbook(filename + '.xlsx')\n",
    "sheetname = wb.sheetnames[0]\n",
    "ws = wb[sheetname]"
   ]
  },
  {
   "cell_type": "code",
   "execution_count": 5,
   "metadata": {},
   "outputs": [],
   "source": [
    "header = []\n",
    "values = []\n",
    "\n",
    "for index, row in enumerate(ws.rows):\n",
    "    if index == 0:\n",
    "        header = list([a.value for a in row])\n",
    "        continue\n",
    "    obj = {}\n",
    "    for col_index, cell in enumerate(row):\n",
    "        value = cell.value\n",
    "        obj[header[col_index]] = value\n",
    "        \n",
    "    values.append(obj)"
   ]
  },
  {
   "cell_type": "code",
   "execution_count": 6,
   "metadata": {
    "collapsed": true
   },
   "outputs": [
    {
     "data": {
      "text/plain": [
       "{'': None,\n",
       " 'Número': 'EIXO-IT-2021.00125',\n",
       " 'Rodovia': 'SP-225',\n",
       " 'km inicial': 166.5,\n",
       " 'km final': 166.5,\n",
       " 'Lote': 'Itirapina',\n",
       " 'Latitude': -22.26566295677719,\n",
       " 'Longitude': -48.443926761446384,\n",
       " 'de Natureza': 'Inventário',\n",
       " 'de Classe': 'Sinalização vertical',\n",
       " 'para Natureza': 'Sinalização Vertical',\n",
       " 'para Classe': 'Reparo ou substituição das demais placas de sinalização vertical (ausência, retro inadequada, avaria, depredação ou vandalismo)',\n",
       " 'Comprimento': 0,\n",
       " 'Largura': 0,\n",
       " 'Espessura': 0,\n",
       " 'Faixa': 'Acostamento',\n",
       " 'Sentido': 'Leste',\n",
       " 'Status': 'Executado',\n",
       " 'Criado por': ' ',\n",
       " 'Equipe': 'Corpo Técnico',\n",
       " 'Criado em': datetime.datetime(2021, 4, 8, 13, 29, 51, 751000),\n",
       " 'Atualizado em': datetime.datetime(2021, 4, 8, 13, 29, 51, 839000),\n",
       " 'Executado em': ''}"
      ]
     },
     "execution_count": 6,
     "metadata": {},
     "output_type": "execute_result"
    }
   ],
   "source": [
    "values[0]"
   ]
  },
  {
   "cell_type": "code",
   "execution_count": 4,
   "metadata": {},
   "outputs": [],
   "source": [
    "company=Company.objects.get(name='Eixo SP')\n",
    "user=User.objects.get(username='rlcs')"
   ]
  },
  {
   "cell_type": "code",
   "execution_count": 5,
   "metadata": {},
   "outputs": [
    {
     "ename": "NameError",
     "evalue": "name 'values' is not defined",
     "output_type": "error",
     "traceback": [
      "\u001b[0;31m---------------------------------------------------------------------------\u001b[0m",
      "\u001b[0;31mNameError\u001b[0m                                 Traceback (most recent call last)",
      "\u001b[0;32m<ipython-input-5-0993980ac7b7>\u001b[0m in \u001b[0;36m<module>\u001b[0;34m()\u001b[0m\n\u001b[0;32m----> 1\u001b[0;31m \u001b[0;32mfor\u001b[0m \u001b[0ma\u001b[0m \u001b[0;32min\u001b[0m \u001b[0mtqdm\u001b[0m\u001b[0;34m(\u001b[0m\u001b[0mvalues\u001b[0m\u001b[0;34m)\u001b[0m\u001b[0;34m:\u001b[0m\u001b[0;34m\u001b[0m\u001b[0m\n\u001b[0m\u001b[1;32m      2\u001b[0m     \u001b[0mreporting\u001b[0m\u001b[0;34m=\u001b[0m\u001b[0mReporting\u001b[0m\u001b[0;34m.\u001b[0m\u001b[0mobjects\u001b[0m\u001b[0;34m.\u001b[0m\u001b[0mget\u001b[0m\u001b[0;34m(\u001b[0m\u001b[0mcompany\u001b[0m\u001b[0;34m=\u001b[0m\u001b[0mcompany\u001b[0m\u001b[0;34m,\u001b[0m \u001b[0mnumber\u001b[0m\u001b[0;34m=\u001b[0m\u001b[0ma\u001b[0m\u001b[0;34m[\u001b[0m\u001b[0;34m'Número'\u001b[0m\u001b[0;34m]\u001b[0m\u001b[0;34m)\u001b[0m\u001b[0;34m\u001b[0m\u001b[0m\n\u001b[1;32m      3\u001b[0m     \u001b[0mreporting\u001b[0m\u001b[0;34m.\u001b[0m\u001b[0moccurrence_type\u001b[0m\u001b[0;34m=\u001b[0m\u001b[0mOccurrenceType\u001b[0m\u001b[0;34m.\u001b[0m\u001b[0mobjects\u001b[0m\u001b[0;34m.\u001b[0m\u001b[0mget\u001b[0m\u001b[0;34m(\u001b[0m\u001b[0mcompany\u001b[0m\u001b[0;34m=\u001b[0m\u001b[0mcompany\u001b[0m\u001b[0;34m,\u001b[0m \u001b[0mname\u001b[0m\u001b[0;34m=\u001b[0m\u001b[0ma\u001b[0m\u001b[0;34m[\u001b[0m\u001b[0;34m'para Classe'\u001b[0m\u001b[0;34m]\u001b[0m\u001b[0;34m)\u001b[0m\u001b[0;34m\u001b[0m\u001b[0m\n\u001b[1;32m      4\u001b[0m     \u001b[0mreporting\u001b[0m\u001b[0;34m.\u001b[0m\u001b[0m_history_user\u001b[0m\u001b[0;34m=\u001b[0m\u001b[0muser\u001b[0m\u001b[0;34m\u001b[0m\u001b[0m\n\u001b[1;32m      5\u001b[0m     \u001b[0mreporting\u001b[0m\u001b[0;34m.\u001b[0m\u001b[0msave\u001b[0m\u001b[0;34m(\u001b[0m\u001b[0;34m)\u001b[0m\u001b[0;34m\u001b[0m\u001b[0m\n",
      "\u001b[0;31mNameError\u001b[0m: name 'values' is not defined"
     ]
    }
   ],
   "source": [
    "for a in tqdm(values):\n",
    "    reporting=Reporting.objects.get(company=company, number=a['Número'])\n",
    "    reporting.occurrence_type=OccurrenceType.objects.get(company=company, name=a['para Classe'])\n",
    "    reporting._history_user=user\n",
    "#     reporting.save()"
   ]
  },
  {
   "cell_type": "code",
   "execution_count": null,
   "metadata": {},
   "outputs": [],
   "source": [
    "reps=[]\n",
    "\n",
    "for a in tqdm(values):\n",
    "    reporting=Reporting.objects.get(company=company, number=a['Número'])\n",
    "    reporting.form_data['demand_origin'] = [str(a['para Origem'])]\n",
    "#     reporting.form_data['artesp_code'] = a['para Código ARTESP']\n",
    "#     reporting.form_data['received_date'] = a['para Recebido da ARTESP'].strftime('%Y-%m-%dT%H:%M:00.000000-03:00')\n",
    "#     reporting.form_data['nc_artesp'] = a['para NC ARTESP']\n",
    "    reporting._history_user=user\n",
    "    \n",
    "#     reporting.save()"
   ]
  },
  {
   "cell_type": "code",
   "execution_count": 4,
   "metadata": {},
   "outputs": [],
   "source": [
    "company=Company.objects.get(name='Eixo SP')\n",
    "status=ServiceOrderActionStatus.objects.get(companies=company, name='Executado')\n",
    "reportings=Reporting.objects.filter(company=company, status=status).only('number', 'occurrence_type', 'form_data', 'due_at', 'executed_at')\n",
    "user=User.objects.get(username='rlcs')\n",
    "\n",
    "reportings.count()"
   ]
  },
  {
   "cell_type": "code",
   "execution_count": 7,
   "metadata": {},
   "outputs": [
    {
     "data": {
      "application/vnd.jupyter.widget-view+json": {
       "model_id": "3a927c96426942dfb92f5f6eb69bd0f1",
       "version_major": 2,
       "version_minor": 0
      },
      "text/plain": [
       "  0%|          | 0/68677 [00:00<?, ?it/s]"
      ]
     },
     "metadata": {},
     "output_type": "display_data"
    }
   ],
   "source": [
    "reps=[]\n",
    "\n",
    "for a in tqdm(reportings):\n",
    "    if 'demand_origin' in a.form_data:\n",
    "        if '3' in a.form_data['demand_origin'] or '4' in a.form_data['demand_origin']:\n",
    "            if a.due_at is not None:\n",
    "                try:\n",
    "                    if a.executed_at > a.due_at:\n",
    "                        a.executed_at = a.due_at\n",
    "#                         print(a.number)\n",
    "#                         reps.append(a)\n",
    "                except Exception:\n",
    "                    a.executed_at = a.due_at\n",
    "#                     reps.append(a)\n",
    "#                     print(a.number)"
   ]
  },
  {
   "cell_type": "code",
   "execution_count": null,
   "metadata": {},
   "outputs": [],
   "source": [
    "reporting_edit=bulk_update_with_history(reps, Reporting, user=user, use_django_bulk=True, batch_size=100)"
   ]
  },
  {
   "cell_type": "code",
   "execution_count": null,
   "metadata": {},
   "outputs": [],
   "source": [
    "for a in Reporting.objects.filter(road_name='SPA-498/294'):\n",
    "    ponto, rodovia = get_road_coordinates(a.road_name, a.km, a.direction, company)\n",
    "    a.point=ponto\n",
    "    a._history_user=user\n",
    "#     a.save()"
   ]
  },
  {
   "cell_type": "code",
   "execution_count": 13,
   "metadata": {},
   "outputs": [
    {
     "name": "stderr",
     "output_type": "stream",
     "text": [
      "/home/ubuntu/hidros-backend/venv/lib/python3.6/site-packages/django/db/models/fields/__init__.py:1427: RuntimeWarning: DateTimeField HistoricalReporting.created_at received a naive datetime (2021-05-31 00:00:00) while time zone support is active.\n",
      "  RuntimeWarning)\n"
     ]
    },
    {
     "data": {
      "text/plain": [
       "29"
      ]
     },
     "execution_count": 13,
     "metadata": {},
     "output_type": "execute_result"
    }
   ],
   "source": [
    "reportings=Reporting.history.model.objects.filter(company=company, created_at__gt='2021-05-31', created_by__username__icontains='reginaldo', history_type='-')\n",
    "reportings.count()"
   ]
  },
  {
   "cell_type": "code",
   "execution_count": null,
   "metadata": {},
   "outputs": [],
   "source": [
    "for a in reportings:\n",
    "    print(f'{a.number} \\t {a.created_at.strftime(\"%d/%m/%Y\")} \\t {a.history_date.strftime(\"%d/%m/%Y\")} \\t {User.objects.get(uuid=a.history_user_id).get_full_name()} \\t {a.road_name} \\t {a.km} \\t {OccurrenceType.objects.get(uuid=a.occurrence_type_id).name}')"
   ]
  },
  {
   "cell_type": "code",
   "execution_count": 11,
   "metadata": {},
   "outputs": [],
   "source": [
    "reporting_list=['EIXO-DRE-2021.10801', 'EIXO-DRE-2021.10768', 'EIXO-DRE-2021.10764', 'EIXO-DRE-2021.10762', 'EIXO-DRE-2021.10482',\n",
    "                'EIXO-DRE-2021.10481', 'EIXO-DRE-2021.09723', 'EIXO-DRE-2021.09722', 'EIXO-DRE-2021.09673', 'EIXO-DRE-2021.04194']\n",
    "\n",
    "reporting_deleted = Reporting.history.model.objects.filter(company=company, history_type='-', number__in=reporting_list)"
   ]
  },
  {
   "cell_type": "code",
   "execution_count": null,
   "metadata": {},
   "outputs": [],
   "source": [
    "for a in reporting_list:\n",
    "    reporting=Reporting.objects.get(company=company, number=a)\n",
    "#     print(a)\n",
    "#     reporting.instance.save()\n",
    "    for b in ReportingFile.history.model.objects.filter(reporting=reporting.uuid): \n",
    "        try:\n",
    "            print(b)\n",
    "#             b.instance.save()\n",
    "        except:\n",
    "            print('AQUI')\n",
    "            pass"
   ]
  },
  {
   "cell_type": "code",
   "execution_count": 6,
   "metadata": {},
   "outputs": [
    {
     "data": {
      "text/plain": [
       "10795"
      ]
     },
     "execution_count": 6,
     "metadata": {},
     "output_type": "execute_result"
    }
   ],
   "source": [
    "inventory=Reporting.objects.filter(company=company, occurrence_type__occurrence_kind='2')\n",
    "inventory.count()"
   ]
  },
  {
   "cell_type": "code",
   "execution_count": 5,
   "metadata": {},
   "outputs": [
    {
     "data": {
      "application/vnd.jupyter.widget-view+json": {
       "model_id": "b7398e0003c5457fbcc250890bc465e2",
       "version_major": 2,
       "version_minor": 0
      },
      "text/plain": [
       "  0%|          | 0/10788 [00:00<?, ?it/s]"
      ]
     },
     "metadata": {},
     "output_type": "display_data"
    }
   ],
   "source": [
    "reps=[]\n",
    "status=ServiceOrderActionStatus.objects.get(companies=company, name='Executado')\n",
    "\n",
    "for a in tqdm(inventory):\n",
    "    a.status=status\n",
    "    reps.append(a)"
   ]
  },
  {
   "cell_type": "code",
   "execution_count": 6,
   "metadata": {},
   "outputs": [],
   "source": [
    "update_inventory=bulk_update_with_history(reps, Reporting, user=user, use_django_bulk=True, batch_size=1000)"
   ]
  },
  {
   "cell_type": "code",
   "execution_count": 7,
   "metadata": {},
   "outputs": [
    {
     "data": {
      "text/plain": [
       "327"
      ]
     },
     "execution_count": 7,
     "metadata": {},
     "output_type": "execute_result"
    }
   ],
   "source": [
    "reportings=Reporting.objects.filter(company=company, lot__isnull=True)\n",
    "reportings.count()"
   ]
  },
  {
   "cell_type": "code",
   "execution_count": null,
   "metadata": {},
   "outputs": [],
   "source": [
    "for a in tqdm(reportings):\n",
    "    a.save()"
   ]
  },
  {
   "cell_type": "code",
   "execution_count": 23,
   "metadata": {},
   "outputs": [
    {
     "data": {
      "text/plain": [
       "<Reporting: [Eixo SP] EIXO-default-2021.35797 - 2021-09-08 11:59:45.419000+00:00>"
      ]
     },
     "execution_count": 23,
     "metadata": {},
     "output_type": "execute_result"
    }
   ],
   "source": [
    "reporting=Reporting.objects.get(company=company, number='EIXO-default-2021.35797')\n",
    "reporting"
   ]
  },
  {
   "cell_type": "code",
   "execution_count": 24,
   "metadata": {},
   "outputs": [],
   "source": [
    "lista=[\"EIXO-default-2021.35797_WhatsApp Image 2021-09-22 at 13.38.07.jpeg\",\n",
    "\"EIXO-default-2021.35797_WhatsApp Image 2021-09-22 at 13.38.06.jpeg\",\n",
    "\"EIXO-default-2021.35797_WhatsApp Image 2021-09-22 at 13.38.06 (3).jpeg\",\n",
    "\"EIXO-default-2021.35797_WhatsApp Image 2021-09-22 at 13.38.06 (2).jpeg\",\n",
    "\"EIXO-default-2021.35797_WhatsApp Image 2021-09-22 at 13.38.06 (1).jpeg\",\n",
    "\"EIXO-default-2021.35797_WhatsApp Image 2021-09-22 at 13.38.05.jpeg\",\n",
    "\"EIXO-default-2021.35797_WhatsApp Image 2021-09-22 at 13.38.05 (3).jpeg\",\n",
    "\"EIXO-default-2021.35797_WhatsApp Image 2021-09-22 at 13.38.05 (2).jpeg\",\n",
    "\"EIXO-default-2021.35797_WhatsApp Image 2021-09-22 at 13.38.05 (1).jpeg\",\n",
    "\"EIXO-default-2021.35797_WhatsApp Image 2021-09-22 at 13.38.04.jpeg\",\n",
    "\"EIXO-default-2021.35797_WhatsApp Image 2021-09-22 at 13.38.04 (2).jpeg\",\n",
    "\"EIXO-default-2021.35797_WhatsApp Image 2021-09-22 at 13.38.04 (1).jpeg\",\n",
    "\"EIXO-default-2021.35797_WhatsApp Image 2021-09-22 at 13.38.03.jpeg\",\n",
    "\"EIXO-default-2021.35797_WhatsApp Image 2021-09-22 at 13.38.03 (1).jpeg\",\n",
    "\"EIXO-default-2021.35797_WhatsApp Image 2021-09-22 at 13.38.02.jpeg\",\n",
    "\"EIXO-default-2021.35797_WhatsApp Image 2021-09-22 at 13.38.02 (1).jpeg\",\n",
    "\"EIXO-default-2021.35797_WhatsApp Image 2021-09-22 at 13.38.01.jpeg\",\n",
    "\"EIXO-default-2021.35797_WhatsApp Image 2021-09-22 at 13.38.01 (2).jpeg\",\n",
    "\"EIXO-default-2021.35797_WhatsApp Image 2021-09-22 at 13.38.01 (1).jpeg\",\n",
    "\"EIXO-default-2021.35797_WhatsApp Image 2021-09-22 at 13.38.00.jpeg\",\n",
    "\"EIXO-default-2021.35797_WhatsApp Image 2021-09-22 at 13.38.00 (1).jpeg\",\n",
    "\"EIXO-default-2021.35797_WhatsApp Image 2021-09-22 at 13.37.59.jpeg\",\n",
    "\"EIXO-default-2021.35797_WhatsApp Image 2021-09-22 at 13.37.59 (1).jpeg\",\n",
    "\"EIXO-default-2021.35797_WhatsApp Image 2021-09-22 at 13.37.58.jpeg\",\n",
    "\"EIXO-default-2021.35797_WhatsApp Image 2021-09-22 at 13.37.57.jpeg\",\n",
    "\"EIXO-default-2021.35797_WhatsApp Image 2021-09-22 at 13.37.57 (2).jpeg\",\n",
    "\"EIXO-default-2021.35797_WhatsApp Image 2021-09-22 at 13.37.57 (1).jpeg\",\n",
    "\"EIXO-default-2021.35797_WhatsApp Image 2021-09-22 at 13.37.56.jpeg\",\n",
    "\"EIXO-default-2021.35797_WhatsApp Image 2021-09-22 at 13.37.56 (2).jpeg\",\n",
    "\"EIXO-default-2021.35797_WhatsApp Image 2021-09-22 at 13.37.56 (1).jpeg\",\n",
    "\"EIXO-default-2021.35797_WhatsApp Image 2021-09-22 at 13.37.55.jpeg\",\n",
    "\"EIXO-default-2021.35797_WhatsApp Image 2021-09-22 at 13.37.55 (1).jpeg\",\n",
    "\"EIXO-default-2021.35797_WhatsApp Image 2021-09-22 at 13.37.54.jpeg\",\n",
    "\"EIXO-default-2021.35797_WhatsApp Image 2021-09-22 at 13.37.54 (2).jpeg\",\n",
    "\"EIXO-default-2021.35797_WhatsApp Image 2021-09-22 at 13.37.54 (1).jpeg\",\n",
    "\"EIXO-default-2021.35797_WhatsApp Image 2021-09-22 at 13.37.53.jpeg\",\n",
    "\"EIXO-default-2021.35797_WhatsApp Image 2021-09-22 at 13.37.53 (2).jpeg\",\n",
    "\"EIXO-default-2021.35797_WhatsApp Image 2021-09-22 at 13.37.53 (1).jpeg\",\n",
    "\"EIXO-default-2021.35797_WhatsApp Image 2021-09-22 at 13.37.52.jpeg\",\n",
    "\"EIXO-default-2021.35797_WhatsApp Image 2021-09-22 at 13.37.51.jpeg\",\n",
    "\"EIXO-default-2021.35797_WhatsApp Image 2021-09-22 at 13.37.51 (1).jpeg\",\n",
    "\"EIXO-default-2021.35797_WhatsApp Image 2021-09-22 at 13.37.50.jpeg\",\n",
    "\"EIXO-default-2021.35797_WhatsApp Image 2021-09-22 at 13.37.50 (1).jpeg\",\n",
    "\"EIXO-default-2021.35797_WhatsApp Image 2021-09-22 at 13.37.49.jpeg\",\n",
    "\"EIXO-default-2021.35797_WhatsApp Image 2021-09-22 at 13.37.49 (1).jpeg\",\n",
    "\"EIXO-default-2021.35797_WhatsApp Image 2021-09-22 at 13.37.48.jpeg\",\n",
    "\"EIXO-default-2021.35797_WhatsApp Image 2021-09-22 at 13.37.47.jpeg\",\n",
    "\"EIXO-default-2021.35797_WhatsApp Image 2021-09-22 at 13.37.47 (2).jpeg\",\n",
    "\"EIXO-default-2021.35797_WhatsApp Image 2021-09-22 at 13.37.47 (1).jpeg\",\n",
    "\"EIXO-default-2021.35797_WhatsApp Image 2021-09-22 at 13.37.46.jpeg\",\n",
    "\"EIXO-default-2021.35797_WhatsApp Image 2021-09-22 at 13.37.46 (1).jpeg\",\n",
    "\"EIXO-default-2021.35797_WhatsApp Image 2021-09-22 at 13.37.45.jpeg\",\n",
    "\"EIXO-default-2021.35797_WhatsApp Image 2021-09-22 at 13.37.45 (2).jpeg\",\n",
    "\"EIXO-default-2021.35797_WhatsApp Image 2021-09-22 at 13.37.45 (1).jpeg\",\n",
    "\"EIXO-default-2021.35797_WhatsApp Image 2021-09-22 at 13.37.44.jpeg\",\n",
    "\"EIXO-default-2021.35797_WhatsApp Image 2021-09-22 at 13.37.44 (2).jpeg\",\n",
    "\"EIXO-default-2021.35797_WhatsApp Image 2021-09-22 at 13.37.44 (1).jpeg\",\n",
    "\"EIXO-default-2021.35797_WhatsApp Image 2021-09-22 at 13.37.43.jpeg\",\n",
    "\"EIXO-default-2021.35797_WhatsApp Image 2021-09-22 at 13.37.43 (1).jpeg\",\n",
    "\"EIXO-default-2021.35797_WhatsApp Image 2021-09-22 at 13.37.42.jpeg\",\n",
    "\"EIXO-default-2021.35797_WhatsApp Image 2021-09-22 at 13.37.42 (1).jpeg\",\n",
    "\"EIXO-default-2021.35797_WhatsApp Image 2021-09-22 at 13.37.41.jpeg\",\n",
    "\"EIXO-default-2021.35797_WhatsApp Image 2021-09-22 at 13.37.41 (1).jpeg\",\n",
    "\"EIXO-default-2021.35797_WhatsApp Image 2021-09-22 at 13.37.40.jpeg\",\n",
    "\"EIXO-default-2021.35797_WhatsApp Image 2021-09-22 at 13.37.40 (3).jpeg\",\n",
    "\"EIXO-default-2021.35797_WhatsApp Image 2021-09-22 at 13.37.40 (2).jpeg\",\n",
    "\"EIXO-default-2021.35797_WhatsApp Image 2021-09-22 at 13.37.40 (1).jpeg\",\n",
    "\"EIXO-default-2021.35797_WhatsApp Image 2021-09-22 at 13.37.39.jpeg\",\n",
    "\"EIXO-default-2021.35797_WhatsApp Image 2021-09-22 at 13.37.39 (1).jpeg\",\n",
    "\"EIXO-default-2021.35797_WhatsApp Image 2021-09-22 at 13.37.38.jpeg\",\n",
    "\"EIXO-default-2021.35797_WhatsApp Image 2021-09-22 at 13.37.37.jpeg\",\n",
    "\"EIXO-default-2021.35797_WhatsApp Image 2021-09-22 at 13.37.36.jpeg\",\n",
    "\"EIXO-default-2021.35797_WhatsApp Image 2021-09-22 at 13.37.36 (3).jpeg\",\n",
    "\"EIXO-default-2021.35797_WhatsApp Image 2021-09-22 at 13.37.36 (2).jpeg\",\n",
    "\"EIXO-default-2021.35797_WhatsApp Image 2021-09-22 at 13.37.36 (1).jpeg\",\n",
    "\"EIXO-default-2021.35797_WhatsApp Image 2021-09-22 at 13.37.35.jpeg\",\n",
    "\"EIXO-default-2021.35797_WhatsApp Image 2021-09-22 at 13.37.35 (3).jpeg\",\n",
    "\"EIXO-default-2021.35797_WhatsApp Image 2021-09-22 at 13.37.35 (2).jpeg\",\n",
    "\"EIXO-default-2021.35797_WhatsApp Image 2021-09-22 at 13.37.35 (1).jpeg\",\n",
    "\"EIXO-default-2021.35797_WhatsApp Image 2021-09-22 at 13.37.34.jpeg\",\n",
    "\"EIXO-default-2021.35797_WhatsApp Image 2021-09-22 at 13.37.33.jpeg\",\n",
    "\"EIXO-default-2021.35797_WhatsApp Image 2021-09-22 at 13.37.33 (1).jpeg\",\n",
    "\"EIXO-default-2021.35797_WhatsApp Image 2021-09-22 at 13.37.32.jpeg\",\n",
    "\"EIXO-default-2021.35797_WhatsApp Image 2021-09-22 at 13.37.31.jpeg\",\n",
    "\"EIXO-default-2021.35797_WhatsApp Image 2021-09-22 at 13.37.31 (3).jpeg\",\n",
    "\"EIXO-default-2021.35797_WhatsApp Image 2021-09-22 at 13.37.31 (2).jpeg\",\n",
    "\"EIXO-default-2021.35797_WhatsApp Image 2021-09-22 at 13.37.31 (1).jpeg\",\n",
    "\"EIXO-default-2021.35797_WhatsApp Image 2021-09-22 at 13.37.30.jpeg\",\n",
    "\"EIXO-default-2021.35797_WhatsApp Image 2021-09-22 at 13.37.30 (2).jpeg\",\n",
    "\"EIXO-default-2021.35797_WhatsApp Image 2021-09-22 at 13.37.30 (1).jpeg\",\n",
    "\"EIXO-default-2021.35797_WhatsApp Image 2021-09-22 at 13.37.29.jpeg\",\n",
    "\"EIXO-default-2021.35797_WhatsApp Image 2021-09-22 at 13.37.29 (1).jpeg\",\n",
    "\"EIXO-default-2021.35797_WhatsApp Image 2021-09-22 at 13.37.28.jpeg\",\n",
    "\"EIXO-default-2021.35797_WhatsApp Image 2021-09-22 at 13.37.28 (2).jpeg\",\n",
    "\"EIXO-default-2021.35797_WhatsApp Image 2021-09-22 at 13.37.28 (1).jpeg\",\n",
    "\"EIXO-default-2021.35797_WhatsApp Image 2021-09-22 at 13.37.27.jpeg\",\n",
    "\"EIXO-default-2021.35797_WhatsApp Image 2021-09-22 at 13.37.25.jpeg\",\n",
    "\"EIXO-default-2021.35797_WhatsApp Image 2021-09-22 at 13.37.25 (2).jpeg\",\n",
    "\"EIXO-default-2021.35797_WhatsApp Image 2021-09-22 at 13.37.25 (1).jpeg\",\n",
    "\"EIXO-default-2021.35797_WhatsApp Image 2021-09-22 at 13.37.24.jpeg\",\n",
    "\"EIXO-default-2021.35797_WhatsApp Image 2021-09-22 at 13.37.24 (2).jpeg\",\n",
    "\"EIXO-default-2021.35797_WhatsApp Image 2021-09-22 at 13.37.24 (1).jpeg\",\n",
    "\"EIXO-default-2021.35797_WhatsApp Image 2021-09-22 at 13.37.23.jpeg\",\n",
    "\"EIXO-default-2021.35797_WhatsApp Image 2021-09-22 at 13.37.22.jpeg\",\n",
    "\"EIXO-default-2021.35797_WhatsApp Image 2021-09-22 at 13.37.22 (1).jpeg\",\n",
    "\"EIXO-default-2021.35797_WhatsApp Image 2021-09-22 at 13.37.21.jpeg\",\n",
    "\"EIXO-default-2021.35797_WhatsApp Image 2021-09-22 at 13.37.21 (1).jpeg\",\n",
    "\"EIXO-default-2021.35797_WhatsApp Image 2021-09-22 at 13.37.20.jpeg\",\n",
    "\"EIXO-default-2021.35797_WhatsApp Image 2021-09-22 at 13.37.20 (2).jpeg\",\n",
    "\"EIXO-default-2021.35797_WhatsApp Image 2021-09-22 at 13.37.20 (1).jpeg\",\n",
    "\"EIXO-default-2021.35797_WhatsApp Image 2021-09-22 at 13.37.19.jpeg\",\n",
    "\"EIXO-default-2021.35797_WhatsApp Image 2021-09-22 at 13.37.19 (3).jpeg\",\n",
    "\"EIXO-default-2021.35797_WhatsApp Image 2021-09-22 at 13.37.19 (2).jpeg\",\n",
    "\"EIXO-default-2021.35797_WhatsApp Image 2021-09-22 at 13.37.19 (1).jpeg\",\n",
    "\"EIXO-default-2021.35797_WhatsApp Image 2021-09-22 at 13.37.18.jpeg\",\n",
    "\"EIXO-default-2021.35797_WhatsApp Image 2021-09-22 at 13.37.18 (1).jpeg\",\n",
    "\"EIXO-default-2021.35797_WhatsApp Image 2021-09-22 at 13.37.17.jpeg\",\n",
    "\"EIXO-default-2021.35797_WhatsApp Image 2021-09-22 at 13.37.17 (2).jpeg\",\n",
    "\"EIXO-default-2021.35797_WhatsApp Image 2021-09-22 at 13.37.17 (1).jpeg\",\n",
    "\"EIXO-default-2021.35797_WhatsApp Image 2021-09-22 at 13.37.15.jpeg\",\n",
    "\"EIXO-default-2021.35797_WhatsApp Image 2021-09-22 at 13.37.14.jpeg\",\n",
    "\"EIXO-default-2021.35797_WhatsApp Image 2021-09-22 at 13.37.13.jpeg\",\n",
    "\"EIXO-default-2021.35797_WhatsApp Image 2021-09-22 at 13.37.13 (3).jpeg\",\n",
    "\"EIXO-default-2021.35797_WhatsApp Image 2021-09-22 at 13.37.13 (2).jpeg\",\n",
    "\"EIXO-default-2021.35797_WhatsApp Image 2021-09-22 at 13.37.13 (1).jpeg\",\n",
    "\"EIXO-default-2021.35797_WhatsApp Image 2021-09-22 at 13.37.12.jpeg\",\n",
    "\"EIXO-default-2021.35797_WhatsApp Image 2021-09-22 at 13.37.11.jpeg\",\n",
    "\"EIXO-default-2021.35797_WhatsApp Image 2021-09-22 at 13.37.11 (1).jpeg\",\n",
    "\"EIXO-default-2021.35797_WhatsApp Image 2021-09-22 at 13.37.10.jpeg\",\n",
    "\"EIXO-default-2021.35797_WhatsApp Image 2021-09-22 at 13.37.10 (1).jpeg\",\n",
    "\"EIXO-default-2021.35797_WhatsApp Image 2021-09-22 at 13.37.09.jpeg\",\n",
    "\"EIXO-default-2021.35797_WhatsApp Image 2021-09-22 at 13.37.09 (1).jpeg\",\n",
    "\"EIXO-default-2021.35797_WhatsApp Image 2021-09-22 at 13.37.08.jpeg\",\n",
    "\"EIXO-default-2021.35797_WhatsApp Image 2021-09-22 at 13.37.07.jpeg\",\n",
    "\"EIXO-default-2021.35797_WhatsApp Image 2021-09-22 at 13.37.07 (2).jpeg\",\n",
    "\"EIXO-default-2021.35797_WhatsApp Image 2021-09-22 at 13.37.07 (1).jpeg\",\n",
    "\"EIXO-default-2021.35797_WhatsApp Image 2021-09-22 at 13.37.06.jpeg\",\n",
    "\"EIXO-default-2021.35797_WhatsApp Image 2021-09-22 at 13.37.06 (2).jpeg\",\n",
    "\"EIXO-default-2021.35797_WhatsApp Image 2021-09-22 at 13.37.06 (1).jpeg\",\n",
    "\"EIXO-default-2021.35797_WhatsApp Image 2021-09-22 at 13.37.05.jpeg\",\n",
    "\"EIXO-default-2021.35797_WhatsApp Image 2021-09-22 at 13.37.05 (1).jpeg\",\n",
    "\"EIXO-default-2021.35797_WhatsApp Image 2021-09-22 at 13.37.04.jpeg\",\n",
    "\"EIXO-default-2021.35797_WhatsApp Image 2021-09-22 at 13.37.04 (1).jpeg\",\n",
    "\"EIXO-default-2021.35797_WhatsApp Image 2021-09-22 at 13.37.03.jpeg\",\n",
    "\"EIXO-default-2021.35797_WhatsApp Image 2021-09-22 at 13.37.02.jpeg\",\n",
    "\"EIXO-default-2021.35797_WhatsApp Image 2021-09-22 at 13.37.02 (2).jpeg\",\n",
    "\"EIXO-default-2021.35797_WhatsApp Image 2021-09-22 at 13.37.02 (1).jpeg\",\n",
    "\"EIXO-default-2021.35797_WhatsApp Image 2021-09-22 at 13.37.01.jpeg\",\n",
    "\"EIXO-default-2021.35797_WhatsApp Image 2021-09-22 at 13.37.01 (1).jpeg\",\n",
    "\"EIXO-default-2021.35797_WhatsApp Image 2021-09-22 at 13.37.00.jpeg\",\n",
    "\"EIXO-default-2021.35797_WhatsApp Image 2021-09-22 at 13.37.00 (1).jpeg\",\n",
    "\"EIXO-default-2021.35797_WhatsApp Image 2021-09-22 at 13.36.59.jpeg\",\n",
    "\"EIXO-default-2021.35797_WhatsApp Image 2021-09-22 at 13.36.58.jpeg\",\n",
    "\"EIXO-default-2021.35797_WhatsApp Image 2021-09-22 at 13.36.58 (3).jpeg\",\n",
    "\"EIXO-default-2021.35797_WhatsApp Image 2021-09-22 at 13.36.58 (2).jpeg\",\n",
    "\"EIXO-default-2021.35797_WhatsApp Image 2021-09-22 at 13.36.58 (1).jpeg\",\n",
    "\"EIXO-default-2021.35797_WhatsApp Image 2021-09-22 at 13.36.57.jpeg\",\n",
    "\"EIXO-default-2021.35797_WhatsApp Image 2021-09-22 at 13.36.57 (2).jpeg\",\n",
    "\"EIXO-default-2021.35797_WhatsApp Image 2021-09-22 at 13.36.57 (1).jpeg\",\n",
    "\"EIXO-default-2021.35797_WhatsApp Image 2021-09-22 at 13.36.56.jpeg\",\n",
    "\"EIXO-default-2021.35797_WhatsApp Image 2021-09-22 at 13.36.55.jpeg\",\n",
    "\"EIXO-default-2021.35797_WhatsApp Image 2021-09-22 at 13.36.55 (1).jpeg\",\n",
    "\"EIXO-default-2021.35797_WhatsApp Image 2021-09-22 at 13.36.54.jpeg\",\n",
    "\"EIXO-default-2021.35797_WhatsApp Image 2021-09-22 at 13.36.54 (3).jpeg\",\n",
    "\"EIXO-default-2021.35797_WhatsApp Image 2021-09-22 at 13.36.54 (2).jpeg\",\n",
    "\"EIXO-default-2021.35797_WhatsApp Image 2021-09-22 at 13.36.54 (1).jpeg\",\n",
    "\"EIXO-default-2021.35797_WhatsApp Image 2021-09-22 at 13.36.53.jpeg\",\n",
    "\"EIXO-default-2021.35797_WhatsApp Image 2021-09-22 at 13.36.52.jpeg\",\n",
    "\"EIXO-default-2021.35797_WhatsApp Image 2021-09-22 at 13.36.51.jpeg\",\n",
    "\"EIXO-default-2021.35797_WhatsApp Image 2021-09-22 at 13.36.51 (1).jpeg\",\n",
    "\"EIXO-default-2021.35797_WhatsApp Image 2021-09-22 at 13.36.50.jpeg\",\n",
    "\"EIXO-default-2021.35797_WhatsApp Image 2021-09-22 at 13.36.49.jpeg\",\n",
    "\"EIXO-default-2021.35797_WhatsApp Image 2021-09-22 at 13.36.49 (2).jpeg\",\n",
    "\"EIXO-default-2021.35797_WhatsApp Image 2021-09-22 at 13.36.49 (1).jpeg\",\n",
    "\"EIXO-default-2021.35797_WhatsApp Image 2021-09-22 at 13.36.48.jpeg\",\n",
    "\"EIXO-default-2021.35797_WhatsApp Image 2021-09-22 at 13.36.48 (1).jpeg\",\n",
    "\"EIXO-default-2021.35797_WhatsApp Image 2021-09-22 at 13.36.47.jpeg\",\n",
    "\"EIXO-default-2021.35797_WhatsApp Image 2021-09-22 at 13.36.47 (1).jpeg\",\n",
    "\"EIXO-default-2021.35797_WhatsApp Image 2021-09-22 at 13.36.46.jpeg\",\n",
    "\"EIXO-default-2021.35797_WhatsApp Image 2021-09-22 at 13.36.46 (1).jpeg\",\n",
    "\"EIXO-default-2021.35797_WhatsApp Image 2021-09-22 at 13.36.45.jpeg\",\n",
    "\"EIXO-default-2021.35797_WhatsApp Image 2021-09-22 at 13.36.45 (2).jpeg\",\n",
    "\"EIXO-default-2021.35797_WhatsApp Image 2021-09-22 at 13.36.45 (1).jpeg\",\n",
    "\"EIXO-default-2021.35797_WhatsApp Image 2021-09-22 at 13.36.44.jpeg\",\n",
    "\"EIXO-default-2021.35797_WhatsApp Image 2021-09-22 at 13.36.42.jpeg\",\n",
    "\"EIXO-default-2021.35797_WhatsApp Image 2021-09-22 at 13.36.42 (3).jpeg\",\n",
    "\"EIXO-default-2021.35797_WhatsApp Image 2021-09-22 at 13.36.42 (2).jpeg\",\n",
    "\"EIXO-default-2021.35797_WhatsApp Image 2021-09-22 at 13.36.42 (1).jpeg\",\n",
    "\"EIXO-default-2021.35797_WhatsApp Image 2021-09-22 at 13.36.41.jpeg\",\n",
    "\"EIXO-default-2021.35797_WhatsApp Image 2021-09-22 at 13.36.40.jpeg\",\n",
    "\"EIXO-default-2021.35797_WhatsApp Image 2021-09-22 at 13.36.40 (2).jpeg\",\n",
    "\"EIXO-default-2021.35797_WhatsApp Image 2021-09-22 at 13.36.40 (1).jpeg\",\n",
    "\"EIXO-default-2021.35797_WhatsApp Image 2021-09-22 at 13.36.39.jpeg\",\n",
    "\"EIXO-default-2021.35797_WhatsApp Image 2021-09-22 at 13.36.39 (1).jpeg\",\n",
    "\"EIXO-default-2021.35797_WhatsApp Image 2021-09-22 at 13.36.38.jpeg\",\n",
    "\"EIXO-default-2021.35797_WhatsApp Image 2021-09-22 at 13.36.37.jpeg\",\n",
    "\"EIXO-default-2021.35797_WhatsApp Image 2021-09-22 at 13.36.37 (2).jpeg\",\n",
    "\"EIXO-default-2021.35797_WhatsApp Image 2021-09-22 at 13.36.37 (1).jpeg\",\n",
    "\"EIXO-default-2021.35797_WhatsApp Image 2021-09-22 at 13.36.36.jpeg\",\n",
    "\"EIXO-default-2021.35797_WhatsApp Image 2021-09-22 at 13.36.36 (1).jpeg\",\n",
    "\"EIXO-default-2021.35797_WhatsApp Image 2021-09-22 at 13.36.35.jpeg\",\n",
    "\"EIXO-default-2021.35797_WhatsApp Image 2021-09-22 at 13.36.35 (2).jpeg\",\n",
    "\"EIXO-default-2021.35797_WhatsApp Image 2021-09-22 at 13.36.35 (1).jpeg\",\n",
    "\"EIXO-default-2021.35797_WhatsApp Image 2021-09-22 at 13.36.34.jpeg\",\n",
    "\"EIXO-default-2021.35797_WhatsApp Image 2021-09-22 at 13.36.33.jpeg\",\n",
    "\"EIXO-default-2021.35797_WhatsApp Image 2021-09-22 at 13.36.33 (2).jpeg\",\n",
    "\"EIXO-default-2021.35797_WhatsApp Image 2021-09-22 at 13.36.33 (1).jpeg\",\n",
    "\"EIXO-default-2021.35797_WhatsApp Image 2021-09-22 at 13.36.32.jpeg\",\n",
    "\"EIXO-default-2021.35797_WhatsApp Image 2021-09-22 at 13.36.32 (2).jpeg\",\n",
    "\"EIXO-default-2021.35797_WhatsApp Image 2021-09-22 at 13.36.32 (1).jpeg\",\n",
    "\"EIXO-default-2021.35797_WhatsApp Image 2021-09-22 at 13.36.31.jpeg\",\n",
    "\"EIXO-default-2021.35797_WhatsApp Image 2021-09-22 at 13.36.31 (2).jpeg\",\n",
    "\"EIXO-default-2021.35797_WhatsApp Image 2021-09-22 at 13.36.31 (1).jpeg\",\n",
    "\"EIXO-default-2021.35797_WhatsApp Image 2021-09-22 at 13.36.30.jpeg\",\n",
    "\"EIXO-default-2021.35797_WhatsApp Image 2021-09-22 at 13.36.30 (3).jpeg\",\n",
    "\"EIXO-default-2021.35797_WhatsApp Image 2021-09-22 at 13.36.30 (2).jpeg\",\n",
    "\"EIXO-default-2021.35797_WhatsApp Image 2021-09-22 at 13.36.30 (1).jpeg\",\n",
    "\"EIXO-default-2021.35797_WhatsApp Image 2021-09-22 at 13.36.28.jpeg\",\n",
    "\"EIXO-default-2021.35797_WhatsApp Image 2021-09-22 at 13.36.27.jpeg\",\n",
    "\"EIXO-default-2021.35797_WhatsApp Image 2021-09-22 at 13.36.27 (1).jpeg\",\n",
    "\"EIXO-default-2021.35797_WhatsApp Image 2021-09-22 at 13.36.26.jpeg\",\n",
    "\"EIXO-default-2021.35797_WhatsApp Image 2021-09-22 at 13.36.25.jpeg\",\n",
    "\"EIXO-default-2021.35797_WhatsApp Image 2021-09-22 at 13.36.25 (2).jpeg\",\n",
    "\"EIXO-default-2021.35797_WhatsApp Image 2021-09-22 at 13.36.25 (1).jpeg\",\n",
    "\"EIXO-default-2021.35797_WhatsApp Image 2021-09-22 at 13.36.24.jpeg\",\n",
    "\"EIXO-default-2021.35797_WhatsApp Image 2021-09-22 at 13.36.24 (1).jpeg\",\n",
    "\"EIXO-default-2021.35797_WhatsApp Image 2021-09-22 at 13.36.23.jpeg\",\n",
    "\"EIXO-default-2021.35797_WhatsApp Image 2021-09-22 at 13.36.22.jpeg\",\n",
    "\"EIXO-default-2021.35797_WhatsApp Image 2021-09-22 at 13.36.22 (2).jpeg\",\n",
    "\"EIXO-default-2021.35797_WhatsApp Image 2021-09-22 at 13.36.22 (1).jpeg\",\n",
    "\"EIXO-default-2021.35797_WhatsApp Image 2021-09-22 at 13.36.21.jpeg\",\n",
    "\"EIXO-default-2021.35797_WhatsApp Image 2021-09-22 at 13.36.20.jpeg\",\n",
    "\"EIXO-default-2021.35797_WhatsApp Image 2021-09-22 at 13.36.20 (2).jpeg\",\n",
    "\"EIXO-default-2021.35797_WhatsApp Image 2021-09-22 at 13.36.20 (1).jpeg\",\n",
    "\"EIXO-default-2021.35797_WhatsApp Image 2021-09-22 at 13.36.19.jpeg\",\n",
    "\"EIXO-default-2021.35797_WhatsApp Image 2021-09-22 at 13.36.19 (2).jpeg\",\n",
    "\"EIXO-default-2021.35797_WhatsApp Image 2021-09-22 at 13.36.19 (1).jpeg\",\n",
    "\"EIXO-default-2021.35797_WhatsApp Image 2021-09-22 at 13.36.18.jpeg\",\n",
    "\"EIXO-default-2021.35797_WhatsApp Image 2021-09-22 at 13.36.18 (1).jpeg\",\n",
    "\"EIXO-default-2021.35797_WhatsApp Image 2021-09-22 at 13.36.17.jpeg\",\n",
    "\"EIXO-default-2021.35797_WhatsApp Image 2021-09-22 at 13.36.17 (3).jpeg\",\n",
    "\"EIXO-default-2021.35797_WhatsApp Image 2021-09-22 at 13.36.17 (2).jpeg\",\n",
    "\"EIXO-default-2021.35797_WhatsApp Image 2021-09-22 at 13.36.17 (1).jpeg\",\n",
    "\"EIXO-default-2021.35797_WhatsApp Image 2021-09-22 at 13.36.16.jpeg\",\n",
    "\"EIXO-default-2021.35797_WhatsApp Image 2021-09-22 at 13.36.16 (1).jpeg\",\n",
    "\"EIXO-default-2021.35797_WhatsApp Image 2021-09-22 at 13.36.15.jpeg\",\n",
    "\"EIXO-default-2021.35797_WhatsApp Image 2021-09-22 at 13.36.15 (1).jpeg\",\n",
    "\"EIXO-default-2021.35797_WhatsApp Image 2021-09-22 at 13.36.14.jpeg\",\n",
    "\"EIXO-default-2021.35797_WhatsApp Image 2021-09-22 at 13.36.14 (2).jpeg\",\n",
    "\"EIXO-default-2021.35797_WhatsApp Image 2021-09-22 at 13.36.14 (1).jpeg\",\n",
    "\"EIXO-default-2021.35797_WhatsApp Image 2021-09-22 at 13.36.13.jpeg\",\n",
    "\"EIXO-default-2021.35797_WhatsApp Image 2021-09-22 at 13.36.13 (2).jpeg\",\n",
    "\"EIXO-default-2021.35797_WhatsApp Image 2021-09-22 at 13.36.13 (1).jpeg\",\n",
    "\"EIXO-default-2021.35797_WhatsApp Image 2021-09-22 at 13.36.12.jpeg\",\n",
    "\"EIXO-default-2021.35797_WhatsApp Image 2021-09-22 at 13.36.11.jpeg\",\n",
    "\"EIXO-default-2021.35797_WhatsApp Image 2021-09-22 at 13.36.11 (3).jpeg\",\n",
    "\"EIXO-default-2021.35797_WhatsApp Image 2021-09-22 at 13.36.11 (2).jpeg\",\n",
    "\"EIXO-default-2021.35797_WhatsApp Image 2021-09-22 at 13.36.11 (1).jpeg\",\n",
    "\"EIXO-default-2021.35797_WhatsApp Image 2021-09-22 at 13.36.10.jpeg\",\n",
    "\"EIXO-default-2021.35797_WhatsApp Image 2021-09-22 at 13.36.10 (1).jpeg\",\n",
    "\"EIXO-default-2021.35797_WhatsApp Image 2021-09-22 at 13.36.09.jpeg\",\n",
    "\"EIXO-default-2021.35797_WhatsApp Image 2021-09-22 at 13.36.09 (1).jpeg\",\n",
    "\"EIXO-default-2021.35797_WhatsApp Image 2021-09-22 at 13.36.08.jpeg\",\n",
    "\"EIXO-default-2021.35797_WhatsApp Image 2021-09-22 at 13.36.07.jpeg\",\n",
    "\"EIXO-default-2021.35797_WhatsApp Image 2021-09-22 at 13.36.07 (1).jpeg\",\n",
    "\"EIXO-default-2021.35797_WhatsApp Image 2021-09-22 at 13.36.06.jpeg\",\n",
    "\"EIXO-default-2021.35797_WhatsApp Image 2021-09-22 at 13.36.06 (1).jpeg\",\n",
    "\"EIXO-default-2021.35797_WhatsApp Image 2021-09-22 at 13.36.05.jpeg\",\n",
    "\"EIXO-default-2021.35797_WhatsApp Image 2021-09-22 at 13.36.05 (2).jpeg\",\n",
    "\"EIXO-default-2021.35797_WhatsApp Image 2021-09-22 at 13.36.05 (1).jpeg\",\n",
    "\"EIXO-default-2021.35797_WhatsApp Image 2021-09-22 at 13.36.04.jpeg\",\n",
    "\"EIXO-default-2021.35797_WhatsApp Image 2021-09-22 at 13.36.04 (2).jpeg\",\n",
    "\"EIXO-default-2021.35797_WhatsApp Image 2021-09-22 at 13.36.04 (1).jpeg\",\n",
    "\"EIXO-default-2021.35797_WhatsApp Image 2021-09-22 at 13.36.03.jpeg\",\n",
    "\"EIXO-default-2021.35797_WhatsApp Image 2021-09-22 at 13.36.02.jpeg\",\n",
    "\"EIXO-default-2021.35797_WhatsApp Image 2021-09-22 at 13.36.02 (1).jpeg\",\n",
    "\"EIXO-default-2021.35797_WhatsApp Image 2021-09-22 at 13.36.01.jpeg\",\n",
    "\"EIXO-default-2021.35797_WhatsApp Image 2021-09-22 at 13.36.01 (2).jpeg\",\n",
    "\"EIXO-default-2021.35797_WhatsApp Image 2021-09-22 at 13.36.01 (1).jpeg\",\n",
    "\"EIXO-default-2021.35797_WhatsApp Image 2021-09-22 at 13.36.00.jpeg\",\n",
    "\"EIXO-default-2021.35797_WhatsApp Image 2021-09-22 at 13.36.00 (1).jpeg\",\n",
    "\"EIXO-default-2021.35797_WhatsApp Image 2021-09-22 at 13.35.59.jpeg\",\n",
    "\"EIXO-default-2021.35797_WhatsApp Image 2021-09-22 at 13.35.59 (2).jpeg\",\n",
    "\"EIXO-default-2021.35797_WhatsApp Image 2021-09-22 at 13.35.59 (1).jpeg\",\n",
    "\"EIXO-default-2021.35797_WhatsApp Image 2021-09-22 at 13.35.58.jpeg\",\n",
    "\"EIXO-default-2021.35797_WhatsApp Image 2021-09-22 at 13.35.57.jpeg\",\n",
    "\"EIXO-default-2021.35797_WhatsApp Image 2021-09-22 at 13.35.56.jpeg\",\n",
    "\"EIXO-default-2021.35797_WhatsApp Image 2021-09-22 at 13.35.56 (3).jpeg\",\n",
    "\"EIXO-default-2021.35797_WhatsApp Image 2021-09-22 at 13.35.56 (2).jpeg\",\n",
    "\"EIXO-default-2021.35797_WhatsApp Image 2021-09-22 at 13.35.56 (1).jpeg\",\n",
    "\"EIXO-default-2021.35797_WhatsApp Image 2021-09-22 at 13.35.55.jpeg\",\n",
    "\"EIXO-default-2021.35797_WhatsApp Image 2021-09-22 at 13.35.55 (1).jpeg\",\n",
    "\"EIXO-default-2021.35797_WhatsApp Image 2021-09-22 at 13.35.54.jpeg\",\n",
    "\"EIXO-default-2021.35797_WhatsApp Image 2021-09-22 at 13.35.54 (1).jpeg\",\n",
    "\"EIXO-default-2021.35797_WhatsApp Image 2021-09-22 at 13.35.53.jpeg\",\n",
    "\"EIXO-default-2021.35797_WhatsApp Image 2021-09-22 at 13.35.53 (1).jpeg\",\n",
    "\"EIXO-default-2021.35797_WhatsApp Image 2021-09-22 at 13.35.52.jpeg\",\n",
    "\"EIXO-default-2021.35797_WhatsApp Image 2021-09-22 at 13.35.51.jpeg\",\n",
    "\"EIXO-default-2021.35797_WhatsApp Image 2021-09-22 at 13.35.51 (1).jpeg\",\n",
    "\"EIXO-default-2021.35797_WhatsApp Image 2021-09-22 at 13.35.50.jpeg\",\n",
    "\"EIXO-default-2021.35797_WhatsApp Image 2021-09-22 at 13.35.49.jpeg\",\n",
    "\"EIXO-default-2021.35797_WhatsApp Image 2021-09-22 at 13.35.49 (2).jpeg\",\n",
    "\"EIXO-default-2021.35797_WhatsApp Image 2021-09-22 at 13.35.49 (1).jpeg\",\n",
    "\"EIXO-default-2021.35797_WhatsApp Image 2021-09-22 at 13.35.48.jpeg\",\n",
    "\"EIXO-default-2021.35797_WhatsApp Image 2021-09-22 at 13.35.48 (3).jpeg\",\n",
    "\"EIXO-default-2021.35797_WhatsApp Image 2021-09-22 at 13.35.48 (2).jpeg\",\n",
    "\"EIXO-default-2021.35797_WhatsApp Image 2021-09-22 at 13.35.48 (1).jpeg\",\n",
    "\"EIXO-default-2021.35797_WhatsApp Image 2021-09-22 at 13.35.47.jpeg\",\n",
    "\"EIXO-default-2021.35797_WhatsApp Image 2021-09-22 at 13.35.46.jpeg\",\n",
    "\"EIXO-default-2021.35797_WhatsApp Image 2021-09-22 at 13.35.45.jpeg\",\n",
    "\"EIXO-default-2021.35797_WhatsApp Image 2021-09-22 at 13.35.44.jpeg\",\n",
    "\"EIXO-default-2021.35797_WhatsApp Image 2021-09-22 at 13.35.44 (1).jpeg\",\n",
    "\"EIXO-default-2021.35797_WhatsApp Image 2021-09-22 at 13.35.43.jpeg\",\n",
    "\"EIXO-default-2021.35797_WhatsApp Image 2021-09-22 at 13.35.43 (1).jpeg\",\n",
    "\"EIXO-default-2021.35797_WhatsApp Image 2021-09-22 at 13.35.42.jpeg\",\n",
    "\"EIXO-default-2021.35797_WhatsApp Image 2021-09-22 at 13.35.42 (1).jpeg\",\n",
    "\"EIXO-default-2021.35797_WhatsApp Image 2021-09-22 at 13.35.41.jpeg\",\n",
    "\"EIXO-default-2021.35797_WhatsApp Image 2021-09-22 at 13.35.41 (1).jpeg\",\n",
    "\"EIXO-default-2021.35797_WhatsApp Image 2021-09-22 at 13.35.40.jpeg\",\n",
    "\"EIXO-default-2021.35797_WhatsApp Image 2021-09-22 at 13.35.40 (1).jpeg\",\n",
    "\"EIXO-default-2021.35797_WhatsApp Image 2021-09-22 at 13.35.39.jpeg\",\n",
    "\"EIXO-default-2021.35797_WhatsApp Image 2021-09-22 at 13.35.39 (2).jpeg\",\n",
    "\"EIXO-default-2021.35797_WhatsApp Image 2021-09-22 at 13.35.39 (1).jpeg\",\n",
    "\"EIXO-default-2021.35797_WhatsApp Image 2021-09-22 at 13.35.38.jpeg\",\n",
    "\"EIXO-default-2021.35797_WhatsApp Image 2021-09-22 at 13.35.38 (2).jpeg\",\n",
    "\"EIXO-default-2021.35797_WhatsApp Image 2021-09-22 at 13.35.38 (1).jpeg\",\n",
    "\"EIXO-default-2021.35797_WhatsApp Image 2021-09-22 at 13.35.37.jpeg\",\n",
    "\"EIXO-default-2021.35797_WhatsApp Image 2021-09-22 at 13.35.37 (1).jpeg\",\n",
    "\"EIXO-default-2021.35797_WhatsApp Image 2021-09-22 at 13.35.34.jpeg\"]"
   ]
  },
  {
   "cell_type": "code",
   "execution_count": 25,
   "metadata": {},
   "outputs": [],
   "source": [
    "images_bulk=[]\n",
    "\n",
    "for a in lista:\n",
    "    images_bulk.append(ReportingFile(\n",
    "            created_by=user,\n",
    "            reporting=reporting,\n",
    "            description=\"\",\n",
    "            upload=a,\n",
    "            datetime=datetime.datetime(2021, 9, 8).replace(tzinfo=pytz.timezone('America/Sao_Paulo'))\n",
    "        ))"
   ]
  },
  {
   "cell_type": "code",
   "execution_count": null,
   "metadata": {},
   "outputs": [],
   "source": [
    "images_bulk"
   ]
  },
  {
   "cell_type": "code",
   "execution_count": 26,
   "metadata": {},
   "outputs": [],
   "source": [
    "images_reporting=bulk_create_with_history(images_bulk, ReportingFile, batch_size=100)"
   ]
  },
  {
   "cell_type": "markdown",
   "metadata": {},
   "source": [
    " "
   ]
  },
  {
   "cell_type": "code",
   "execution_count": 4,
   "metadata": {},
   "outputs": [],
   "source": [
    "kinds=[2, 5]\n",
    "types=['Acesso', 'Principal', 'Interligação']"
   ]
  },
  {
   "cell_type": "code",
   "execution_count": 14,
   "metadata": {},
   "outputs": [
    {
     "data": {
      "application/vnd.jupyter.widget-view+json": {
       "model_id": "29ee58d31f7f4c7d949e0f873cd055eb",
       "version_major": 2,
       "version_minor": 0
      },
      "text/plain": [
       "  0%|          | 0/19 [00:00<?, ?it/s]"
      ]
     },
     "metadata": {},
     "output_type": "display_data"
    }
   ],
   "source": [
    "reps=[]\n",
    "\n",
    "for reporting in tqdm(reportings):\n",
    "    \n",
    "#     if reporting.form_metadata == {}:\n",
    "    \n",
    "    fields=[a for a, b in reporting.form_metadata.items() if b[\"manually_specified\"] == True]\n",
    "    autofill_fields = [get_api_name(a) for a in reporting.occurrence_type.form_fields['fields'] if 'autofill' in a]\n",
    "    reporting.form_metadata = {\n",
    "            to_snake_case(field_name): { \"manually_specified\": True if to_snake_case(field_name) in fields else False} for field_name in autofill_fields\n",
    "    }\n",
    "    \n",
    "    \n",
    "    \n",
    "    obj_serialized = get_obj_serialized(reporting, is_reporting=True)\n",
    "    form_fields = form_fields_dict(reporting.occurrence_type)\n",
    "    \n",
    "    for key, value in reporting.form_metadata.items():\n",
    "        manually_specified = get_obj_from_path(value, \"manually_specified\")\n",
    "        \n",
    "        if (isinstance(manually_specified, bool) and not manually_specified):\n",
    "            form_field = get_obj_from_path(form_fields, key)\n",
    "            \n",
    "            if isinstance(form_field, dict):\n",
    "                autofill = form_field.get(\"autofill\", {})\n",
    "                try:\n",
    "                    reporting.form_data[key] = jsonLogic(autofill, obj_serialized)\n",
    "                except Exception as e:\n",
    "                    print(reporting.number, e, autofill)\n",
    "                    pass\n",
    "    \n",
    "    \n",
    "    reps.append(reporting)"
   ]
  },
  {
   "cell_type": "code",
   "execution_count": 15,
   "metadata": {},
   "outputs": [],
   "source": [
    "reporting_edit=bulk_update_with_history(reps, Reporting, user=user, use_django_bulk=True, batch_size=1000)"
   ]
  },
  {
   "cell_type": "code",
   "execution_count": 9,
   "metadata": {},
   "outputs": [
    {
     "data": {
      "text/plain": [
       "49"
      ]
     },
     "execution_count": 9,
     "metadata": {},
     "output_type": "execute_result"
    }
   ],
   "source": [
    "reportings=Reporting.history.model.objects.filter(road_name='SP-294', km__gte=423, km__lte=424, history_type='-')\n",
    "reportings.count()"
   ]
  },
  {
   "cell_type": "code",
   "execution_count": 6,
   "metadata": {},
   "outputs": [
    {
     "name": "stdout",
     "output_type": "stream",
     "text": [
      "Apontamento número EIXO-default-2021.13426, Classe Reparo ou substituição das demais placas de sinalização vertical (ausência, retro inadequada, avaria, depredação ou vandalismo), no Km 423.3\n",
      "Apontamento número EIXO-CON-2020.01755, Classe Limpeza, lavagem ou pintura de barreira de concreto, no Km 424.0\n",
      "Apontamento número EIXO-default-2020.03432, Classe Reparo ou substituição de sinalização vertical de regulamentação e advertência (ausência, retro inadequada, avaria, depredação ou vandalismo), no Km 424.0\n",
      "Apontamento número EIXO-default-2020.03339, Classe Reparo ou substituição de sinalização vertical de regulamentação e advertência (ausência, retro inadequada, avaria, depredação ou vandalismo), no Km 424.0\n",
      "Apontamento número EIXO-default-2020.03340, Classe Reparo ou substituição de sinalização vertical de regulamentação e advertência (ausência, retro inadequada, avaria, depredação ou vandalismo), no Km 424.0\n",
      "Apontamento número EIXO-default-2020.03433, Classe Reparo ou substituição de sinalização vertical de regulamentação e advertência (ausência, retro inadequada, avaria, depredação ou vandalismo), no Km 424.0\n",
      "Apontamento número EIXO-default-2020.03341, Classe Reparo ou substituição de sinalização vertical de regulamentação e advertência (ausência, retro inadequada, avaria, depredação ou vandalismo), no Km 424.0\n",
      "Apontamento número EIXO-LV-2021.03181, Classe Panela, no Km 423.153\n",
      "Apontamento número EIXO-LV-2021.03174, Classe Panela, no Km 423.665\n",
      "Apontamento número EIXO-LV-2021.03663, Classe Panela, no Km 423.25\n",
      "Apontamento número EIXO-LV-2021.03178, Classe Panela, no Km 423.47\n",
      "Apontamento número EIXO-LV-2021.03672, Classe Panela, no Km 423.845\n",
      "Apontamento número EIXO-LV-2021.03661, Classe Depressão, no Km 423.007\n",
      "Apontamento número EIXO-LV-2021.03668, Classe Reparo definitivo (levantamento), no Km 423.452\n",
      "Apontamento número EIXO-LV-2021.03667, Classe Panela, no Km 423.408\n",
      "Apontamento número EIXO-LV-2021.03180, Classe Depressão, no Km 423.349\n",
      "Apontamento número EIXO-LV-2021.03664, Classe Panela, no Km 423.284\n",
      "Apontamento número EIXO-LV-2021.03671, Classe Panela, no Km 423.639\n",
      "Apontamento número EIXO-LV-2021.03177, Classe Panela, no Km 423.477\n",
      "Apontamento número EIXO-LV-2021.03175, Classe Panela, no Km 423.636\n",
      "Apontamento número EIXO-LV-2021.03172, Classe Panela, no Km 423.783\n",
      "Apontamento número EIXO-LV-2021.03176, Classe Panela, no Km 423.608\n",
      "Apontamento número EIXO-LV-2021.03665, Classe Panela, no Km 423.3\n",
      "Apontamento número EIXO-LV-2021.03179, Classe Panela, no Km 423.459\n",
      "Apontamento número EIXO-LV-2021.03670, Classe Reparo definitivo (levantamento), no Km 423.612\n",
      "Apontamento número EIXO-LV-2021.03673, Classe Panela, no Km 423.95\n",
      "Apontamento número EIXO-LV-2021.03666, Classe Panela, no Km 423.337\n",
      "Apontamento número EIXO-LV-2021.03173, Classe Panela, no Km 423.697\n",
      "Apontamento número EIXO-LV-2021.03171, Classe Panela, no Km 423.818\n",
      "Apontamento número EIXO-LV-2021.03662, Classe Panela, no Km 423.178\n",
      "Apontamento número EIXO-LV-2021.03669, Classe Panela, no Km 423.523\n",
      "Apontamento número EIXO-LV-2020.11508, Classe Remoção de obstáculo em zona livre, no Km 423.382092847991\n",
      "Apontamento número EIXO-default-2021.04822, Classe Pintura ou repintura de sinalização horizontal para adequação da retrorrefletância, no Km 423.1\n",
      "Apontamento número EIXO-default-2021.00985, Classe Repor ou reparar sinalização de alerta, no Km 423.7\n",
      "Apontamento número EIXO-PAV-2020.08870, Classe Selagem de trincas em pav. flexível, no Km 423.0\n",
      "Apontamento número EIXO-PAV-2020.08872, Classe Selagem de trincas em pav. flexível, no Km 424.0\n",
      "Apontamento número EIXO-PAV-2020.08871, Classe Selagem de trincas em pav. flexível, no Km 423.5\n",
      "Apontamento número EIXO-PAV-2020.09080, Classe Selagem de trincas em pav. flexível, no Km 424.0\n",
      "Apontamento número EIXO-PAV-2020.09079, Classe Selagem de trincas em pav. flexível, no Km 423.5\n",
      "Apontamento número EIXO-PAV-2020.09078, Classe Selagem de trincas em pav. flexível, no Km 423.0\n",
      "Apontamento número EIXO-DRE-2020.01039, Classe Desobstrução de drenagem superficial fora de plataforma, no Km 423.946074160397\n",
      "Apontamento número EIXO-DRE-2020.01013, Classe Desobstrução de drenagem superficial fora de plataforma, no Km 423.696061147054\n",
      "Apontamento número EIXO-DRE-2020.02379, Classe Desobstrução de drenagem superficial de plataforma, no Km 424.0\n",
      "Apontamento número EIXO-DRE-2020.01015, Classe Desobstrução de drenagem superficial fora de plataforma, no Km 423.958360046699\n",
      "Apontamento número EIXO-DRE-2020.01041, Classe Desobstrução de drenagem superficial de plataforma, no Km 423.927342765398\n",
      "Apontamento número EIXO-DRE-2020.00977, Classe Desobstrução de drenagem superficial fora de plataforma, no Km 423.38283620992\n",
      "Apontamento número EIXO-DRE-2020.06144, Classe Desobstrução de drenagem superficial de plataforma, no Km 423.0\n",
      "Apontamento número EIXO-DRE-2020.01011, Classe Desobstrução de drenagem superficial de plataforma, no Km 423.38\n",
      "Apontamento número EIXO-CON-2020.00415, Classe Reparo ou reposição de vedos, cercas, alambrados e telas, no Km 423.0\n"
     ]
    }
   ],
   "source": [
    "for a in reportings:\n",
    "    print(f'Apontamento número {a.number}, Classe {a.occurrence_type.name}, no Km {a.km}')"
   ]
  },
  {
   "cell_type": "markdown",
   "metadata": {},
   "source": [
    " "
   ]
  },
  {
   "cell_type": "code",
   "execution_count": 1,
   "metadata": {},
   "outputs": [
    {
     "data": {
      "text/plain": [
       "<Job: [Eixo SP][matheus.negretti] - 2021-11-03 18:15:00+00:00 - 2021-11-13 10:35:00+00:00>"
      ]
     },
     "execution_count": 1,
     "metadata": {},
     "output_type": "execute_result"
    }
   ],
   "source": [
    "job=Job.objects.get(uuid='5d0fbbcb-5c7d-4864-9eb9-6d3d2577cb82')\n",
    "job"
   ]
  },
  {
   "cell_type": "code",
   "execution_count": 3,
   "metadata": {},
   "outputs": [
    {
     "data": {
      "text/plain": [
       "193"
      ]
     },
     "execution_count": 3,
     "metadata": {},
     "output_type": "execute_result"
    }
   ],
   "source": [
    "reportings=Reporting.history.model.objects.filter(job=job).distinct()\n",
    "reportings.count()"
   ]
  },
  {
   "cell_type": "code",
   "execution_count": 6,
   "metadata": {},
   "outputs": [
    {
     "data": {
      "text/plain": [
       "62"
      ]
     },
     "execution_count": 6,
     "metadata": {},
     "output_type": "execute_result"
    }
   ],
   "source": [
    "reportings_now=Reporting.objects.filter(job=job)\n",
    "reportings_now=[a.number for a in reportings_now]\n",
    "len(reportings_now)"
   ]
  },
  {
   "cell_type": "code",
   "execution_count": 5,
   "metadata": {},
   "outputs": [
    {
     "data": {
      "text/plain": [
       "100"
      ]
     },
     "execution_count": 5,
     "metadata": {},
     "output_type": "execute_result"
    }
   ],
   "source": [
    "reportings_list=list(dict.fromkeys([a.number for a in reportings]))\n",
    "len(reportings_list)"
   ]
  },
  {
   "cell_type": "code",
   "execution_count": 7,
   "metadata": {},
   "outputs": [
    {
     "data": {
      "text/plain": [
       "38"
      ]
     },
     "execution_count": 7,
     "metadata": {},
     "output_type": "execute_result"
    }
   ],
   "source": [
    "removed_reportings=[a for a in reportings_list if a not in reportings_now]\n",
    "len(removed_reportings)"
   ]
  },
  {
   "cell_type": "code",
   "execution_count": 8,
   "metadata": {},
   "outputs": [
    {
     "name": "stdout",
     "output_type": "stream",
     "text": [
      "EIXO-DRE-2021.21074\n",
      "EIXO-DRE-2021.21055\n",
      "EIXO-DRE-2021.21053\n",
      "EIXO-DRE-2021.09579\n",
      "EIXO-DRE-2021.09538\n",
      "EIXO-DRE-2021.09510\n",
      "EIXO-DRE-2021.09555\n",
      "EIXO-DRE-2021.09525\n",
      "EIXO-DRE-2021.09557\n",
      "EIXO-DRE-2021.09564\n",
      "EIXO-DRE-2021.09526\n",
      "EIXO-DRE-2021.09529\n",
      "EIXO-DRE-2021.04158\n",
      "EIXO-DRE-2021.09509\n",
      "EIXO-DRE-2021.09573\n",
      "EIXO-DRE-2021.09553\n",
      "EIXO-DRE-2021.04163\n",
      "EIXO-DRE-2021.04159\n",
      "EIXO-DRE-2021.09565\n",
      "EIXO-DRE-2021.09484\n",
      "EIXO-DRE-2021.09774\n",
      "EIXO-DRE-2021.09517\n",
      "EIXO-DRE-2021.09482\n",
      "EIXO-DRE-2021.09462\n",
      "EIXO-DRE-2021.09461\n",
      "EIXO-DRE-2021.04170\n",
      "EIXO-DRE-2021.09487\n",
      "EIXO-DRE-2021.09468\n",
      "EIXO-DRE-2021.04171\n",
      "EIXO-DRE-2021.09483\n",
      "EIXO-DRE-2021.04173\n",
      "EIXO-DRE-2021.09472\n",
      "EIXO-DRE-2021.09485\n",
      "EIXO-DRE-2021.09470\n",
      "EIXO-DRE-2021.04154\n",
      "EIXO-DRE-2021.20739\n",
      "EIXO-DRE-2021.04153\n",
      "EIXO-DRE-2021.04152\n"
     ]
    }
   ],
   "source": [
    "for a in removed_reportings:\n",
    "    print(a)"
   ]
  },
  {
   "cell_type": "markdown",
   "metadata": {},
   "source": [
    " "
   ]
  },
  {
   "cell_type": "code",
   "execution_count": 4,
   "metadata": {},
   "outputs": [
    {
     "data": {
      "text/plain": [
       "729"
      ]
     },
     "execution_count": 4,
     "metadata": {},
     "output_type": "execute_result"
    }
   ],
   "source": [
    "job=Job.objects.filter(company=company, archived=False)\n",
    "job.count()"
   ]
  },
  {
   "cell_type": "code",
   "execution_count": 5,
   "metadata": {},
   "outputs": [
    {
     "data": {
      "application/vnd.jupyter.widget-view+json": {
       "model_id": "8afbcf68e1dc4cf199db1d9bca7243ad",
       "version_major": 2,
       "version_minor": 0
      },
      "text/plain": [
       "  0%|          | 0/729 [00:00<?, ?it/s]"
      ]
     },
     "metadata": {},
     "output_type": "display_data"
    }
   ],
   "source": [
    "for a in tqdm(job):\n",
    "    a.save()"
   ]
  },
  {
   "cell_type": "code",
   "execution_count": 3,
   "metadata": {},
   "outputs": [],
   "source": [
    "reporting_list=['EIXO-default-2022.03188','EIXO-default-2022.03190', 'EIXO-default-2022.03191', 'EIXO-default-2022.03189', 'EIXO-default-2022.03194', 'EIXO-default-2022.03196', 'EIXO-default-2022.03230', 'EIXO-default-2022.03199']"
   ]
  },
  {
   "cell_type": "code",
   "execution_count": 7,
   "metadata": {},
   "outputs": [
    {
     "name": "stdout",
     "output_type": "stream",
     "text": [
      "[Eixo SP] - Constatação - 2022-01-27 11:12:14.562903+00:00 as of 2022-02-02 14:01:08.659276+00:00\n",
      "[Eixo SP] - Constatação - 2022-01-27 11:12:14.562903+00:00 as of 2022-01-27 11:12:14.569574+00:00\n",
      "[Eixo SP] - Constatação - 2022-01-27 11:12:15.894099+00:00 as of 2022-02-02 14:01:08.489975+00:00\n",
      "[Eixo SP] - Constatação - 2022-01-27 11:12:15.894099+00:00 as of 2022-01-27 11:12:15.897681+00:00\n",
      "[Eixo SP] - Constatação - 2022-01-27 11:12:16.589128+00:00 as of 2022-02-02 14:01:08.038668+00:00\n",
      "[Eixo SP] - Constatação - 2022-01-27 11:12:16.589128+00:00 as of 2022-01-27 11:12:16.594740+00:00\n",
      "[Eixo SP] - Constatação - 2022-01-27 11:12:15.115895+00:00 as of 2022-02-02 14:01:08.152767+00:00\n",
      "[Eixo SP] - Constatação - 2022-01-27 11:12:15.115895+00:00 as of 2022-01-27 11:12:15.121132+00:00\n",
      "[Eixo SP] - Constatação - 2022-01-27 11:12:19.132877+00:00 as of 2022-02-02 14:01:07.822725+00:00\n",
      "[Eixo SP] - Constatação - 2022-01-27 11:12:19.132877+00:00 as of 2022-01-27 11:12:19.137048+00:00\n",
      "[Eixo SP] - Constatação - 2022-01-27 11:12:20.936128+00:00 as of 2022-02-02 14:01:08.399775+00:00\n",
      "[Eixo SP] - Constatação - 2022-01-27 11:12:20.936128+00:00 as of 2022-01-27 11:12:20.946028+00:00\n",
      "[Eixo SP] - Constatação - 2022-01-27 11:16:57.086114+00:00 as of 2022-02-02 14:01:07.807953+00:00\n",
      "[Eixo SP] - Constatação - 2022-01-27 11:16:57.086114+00:00 as of 2022-01-27 11:16:57.090238+00:00\n",
      "[Eixo SP] - Constatação - 2022-01-27 11:12:23.322607+00:00 as of 2022-02-02 14:01:08.412485+00:00\n",
      "[Eixo SP] - Constatação - 2022-01-27 11:12:23.322607+00:00 as of 2022-01-27 11:12:23.326429+00:00\n"
     ]
    }
   ],
   "source": [
    "for a in reporting_list:\n",
    "    reporting=Reporting.objects.get(company=company, number=a)\n",
    "#     print(reporting)\n",
    "#     reporting.instance.save()\n",
    "    for b in ReportingFile.history.model.objects.filter(reporting=reporting.uuid): \n",
    "        try:\n",
    "            print(b)\n",
    "            b.instance.save()\n",
    "        except:\n",
    "            print('AQUI')\n",
    "            pass"
   ]
  },
  {
   "cell_type": "code",
   "execution_count": 12,
   "metadata": {},
   "outputs": [
    {
     "data": {
      "text/plain": [
       "3115"
      ]
     },
     "execution_count": 12,
     "metadata": {},
     "output_type": "execute_result"
    }
   ],
   "source": [
    "reportings=Reporting.objects.filter(company=company, road_name='SPI-083/191').only('road')\n",
    "reportings.count()"
   ]
  },
  {
   "cell_type": "code",
   "execution_count": 13,
   "metadata": {},
   "outputs": [
    {
     "data": {
      "text/plain": [
       "<Road: 507: SPI-083/191>"
      ]
     },
     "execution_count": 13,
     "metadata": {},
     "output_type": "execute_result"
    }
   ],
   "source": [
    "road_new=Road.objects.get(id=507)\n",
    "road_new"
   ]
  },
  {
   "cell_type": "code",
   "execution_count": 14,
   "metadata": {},
   "outputs": [
    {
     "data": {
      "application/vnd.jupyter.widget-view+json": {
       "model_id": "fdf1091d0e494576a189c1b13e1c0bc8",
       "version_major": 2,
       "version_minor": 0
      },
      "text/plain": [
       "  0%|          | 0/3115 [00:00<?, ?it/s]"
      ]
     },
     "metadata": {},
     "output_type": "display_data"
    }
   ],
   "source": [
    "reps=[]\n",
    "\n",
    "for a in tqdm(reportings):\n",
    "    a.road=road_new\n",
    "    reps.append(a)"
   ]
  },
  {
   "cell_type": "code",
   "execution_count": 15,
   "metadata": {},
   "outputs": [],
   "source": [
    "roads=bulk_update_with_history(reps, Reporting, user=user, use_django_bulk=True, batch_size=250)"
   ]
  },
  {
   "cell_type": "markdown",
   "metadata": {},
   "source": [
    " "
   ]
  },
  {
   "cell_type": "code",
   "execution_count": 90,
   "metadata": {},
   "outputs": [
    {
     "data": {
      "text/plain": [
       "1"
      ]
     },
     "execution_count": 90,
     "metadata": {},
     "output_type": "execute_result"
    }
   ],
   "source": [
    "report=MultipleDailyReport.objects.filter(company=company, uuid='7912929b-93f9-49d1-bf89-7196385b6551')\n",
    "report.count()"
   ]
  },
  {
   "cell_type": "code",
   "execution_count": 92,
   "metadata": {},
   "outputs": [
    {
     "data": {
      "text/plain": [
       "<SubCompany: [097fe80a-4917-4fa1-8207-2de35c113599: Eixo SP] 22d9bb8d-9321-446c-a6f0-9349d16db8d9: Regional 01 - São Pedro>"
      ]
     },
     "execution_count": 92,
     "metadata": {},
     "output_type": "execute_result"
    }
   ],
   "source": [
    "firm=Firm.objects.get(company=company, name='SPD-LIMPEZA EPS')\n",
    "subcompany=firm.subcompany\n",
    "subcompany"
   ]
  },
  {
   "cell_type": "code",
   "execution_count": 93,
   "metadata": {},
   "outputs": [],
   "source": [
    "for a in report:\n",
    "    a.firm=firm\n",
    "    a.save()"
   ]
  },
  {
   "cell_type": "code",
   "execution_count": 26,
   "metadata": {},
   "outputs": [],
   "source": [
    "lista=['f762184c-1887-4119-add6-e5671cb07b47', '2fd1bb05-e096-43f8-9a94-06bbf127b65f', '578a2272-2cf3-42e4-988f-573a09290a30', '0c3312d2-2801-4d0e-ae35-d3b31b24742b', 'f71c97a4-1114-4c61-9f44-801d413bb905', '7e0b6121-ccd0-4b3a-9f1b-b34892c32d4e', '352e143c-c152-4000-bd4b-3b5bc26b9fd4', 'b96bf7de-909d-407d-b75a-d56ba27548d3', '7e74fe0b-926e-423b-acb0-64a1ea3b94e8', 'a4546f77-85ac-414a-95d0-ff3e1ec8b974', 'a3701b49-1d36-4830-bad3-9db693979d66', '38d7b9c8-b992-4053-9d4d-35671483a153', 'bc6bae58-c5da-4370-a04c-f4ea987c5ab6', '51215c19-e418-4dbf-9b46-b44fd912bbff', 'c43ca96a-c7c7-4c4f-8267-5b69435659be', 'f904fff4-9298-471a-b534-91279016632a', 'ba8e1129-6339-4f38-b89d-45b2e50df9ad', '7376ec3e-ccc7-45b6-ae9d-eec4d79dc039', '9bc62993-168a-44e5-9c3b-2a28b4511fcd']"
   ]
  },
  {
   "cell_type": "code",
   "execution_count": 27,
   "metadata": {},
   "outputs": [
    {
     "data": {
      "text/plain": [
       "19"
      ]
     },
     "execution_count": 27,
     "metadata": {},
     "output_type": "execute_result"
    }
   ],
   "source": [
    "reps=Reporting.objects.filter(uuid__in=lista).order_by('km')\n",
    "reps.count()"
   ]
  },
  {
   "cell_type": "code",
   "execution_count": 30,
   "metadata": {},
   "outputs": [
    {
     "name": "stdout",
     "output_type": "stream",
     "text": [
      "EIXO-default-2022.03193 \t 357.26 \t 32\n",
      "EIXO-default-2022.03198 \t 379.9 \t 37\n",
      "EIXO-default-2022.03200 \t 386.95 \t 39\n",
      "EIXO-default-2022.03203 \t 449.03 \t 42\n",
      "EIXO-default-2022.03234 \t 459.7 \t 40\n",
      "EIXO-default-2022.03235 \t 459.7 \t 41\n",
      "EIXO-default-2022.01559 \t 461.74\n",
      "EIXO-default-2022.01562 \t 463.35\n",
      "EIXO-default-2022.01561 \t 463.42\n",
      "EIXO-default-2022.01560 \t 463.901\n",
      "EIXO-default-2022.01565 \t 464.76\n",
      "EIXO-default-2022.01564 \t 465.99\n",
      "EIXO-default-2022.01563 \t 467.9\n",
      "EIXO-default-2022.03247 \t 469.2 \t 56\n",
      "EIXO-default-2022.03236 \t 480.2 \t 42\n",
      "EIXO-default-2022.03237 \t 502.85 \t 43\n",
      "EIXO-default-2022.03238 \t 504.8 \t 44\n",
      "EIXO-default-2022.03246 \t 527.15 \t 55\n",
      "EIXO-default-2022.03239 \t 529.05 \t 45\n"
     ]
    }
   ],
   "source": [
    "for a in reps:\n",
    "    try:\n",
    "        print(a.number,\"\\t\", a.km, \"\\t\", a.form_data['artesp_code'])\n",
    "    except Exception as e:\n",
    "        print(a.number,\"\\t\", a.km)"
   ]
  },
  {
   "cell_type": "code",
   "execution_count": 6,
   "metadata": {},
   "outputs": [],
   "source": [
    "lista=[\n",
    "'EIXO-default-2022.03621',\n",
    "'EIXO-default-2022.03491',\n",
    "'EIXO-default-2022.03419',\n",
    "'EIXO-default-2022.03418',\n",
    "'EIXO-default-2022.03272',\n",
    "'EIXO-default-2022.03271',\n",
    "'EIXO-default-2022.03270',\n",
    "'EIXO-default-2022.03269',\n",
    "'EIXO-default-2022.03268',\n",
    "'EIXO-default-2022.03261',\n",
    "'EIXO-default-2022.03260',\n",
    "'EIXO-default-2022.03165',\n",
    "'EIXO-default-2022.03076',\n",
    "'EIXO-default-2022.03075',\n",
    "'EIXO-default-2022.03074',\n",
    "'EIXO-default-2022.03073',\n",
    "'EIXO-default-2022.03072',\n",
    "'EIXO-default-2022.03071',\n",
    "'EIXO-default-2022.02901',\n",
    "'EIXO-default-2022.02900',\n",
    "'EIXO-default-2022.02811',\n",
    "'EIXO-default-2022.02693',\n",
    "'EIXO-default-2022.02144',\n",
    "'EIXO-default-2022.02143',\n",
    "'EIXO-default-2022.01956',\n",
    "'EIXO-default-2022.01699',\n",
    "'EIXO-default-2022.01578',\n",
    "'EIXO-default-2022.01569',\n",
    "'EIXO-default-2022.01568',\n",
    "'EIXO-default-2022.01567',\n",
    "'EIXO-default-2022.01536',\n",
    "'EIXO-default-2022.01504',\n",
    "'EIXO-default-2022.01503',\n",
    "'EIXO-default-2022.01478',\n",
    "'EIXO-default-2022.01477',\n",
    "'EIXO-default-2022.01322',\n",
    "'EIXO-default-2022.01321',\n",
    "'EIXO-default-2022.01320',\n",
    "'EIXO-default-2022.00712',\n",
    "'EIXO-default-2022.00190',\n",
    "'EIXO-default-2022.00189'\n",
    "]"
   ]
  },
  {
   "cell_type": "code",
   "execution_count": 7,
   "metadata": {},
   "outputs": [
    {
     "data": {
      "text/plain": [
       "40"
      ]
     },
     "execution_count": 7,
     "metadata": {},
     "output_type": "execute_result"
    }
   ],
   "source": [
    "reportings=Reporting.objects.filter(company=company, number__in=lista)\n",
    "reportings.count()"
   ]
  },
  {
   "cell_type": "code",
   "execution_count": 10,
   "metadata": {},
   "outputs": [],
   "source": [
    "for a in tqdm(reportings):\n",
    "    if 'inspection_topics' in a.form_data and a.form_data['inspection_topics'] == [\"8\"]:\n",
    "        del a.form_data['inspection_topics']\n",
    "#         a.save()"
   ]
  },
  {
   "cell_type": "code",
   "execution_count": 15,
   "metadata": {},
   "outputs": [
    {
     "name": "stdout",
     "output_type": "stream",
     "text": [
      "{'lots': {'1': {'kms': [0, 1, 2, 3, 4, 5, 6, 7, 8, 9, 10, 11, 12, 13, 14, 15, 16, 17, 18, 19, 20], 'road': 'SP-197', 'topics': {}}}, 'notes': 'DIN', 'road_code': 'Principal', 'executed_by': '2', 'road_system': '1', 'inspected_segments': None}\n"
     ]
    }
   ],
   "source": [
    "reporting=Reporting.objects.get(uuid='7fac72c5-f2b1-4560-853e-2c72287d7052')\n",
    "print(reporting.form_data['lots'])"
   ]
  },
  {
   "cell_type": "code",
   "execution_count": 13,
   "metadata": {},
   "outputs": [
    {
     "data": {
      "text/plain": [
       "978"
      ]
     },
     "execution_count": 13,
     "metadata": {},
     "output_type": "execute_result"
    }
   ],
   "source": [
    "reportings=Reporting.objects.filter(company=company, occurrence_type__uuid='dee78e00-4481-48cd-b2ad-96861c5aadf2')\n",
    "reportings.count()"
   ]
  },
  {
   "cell_type": "code",
   "execution_count": 32,
   "metadata": {},
   "outputs": [
    {
     "name": "stdout",
     "output_type": "stream",
     "text": [
      "EIXO-default-2021.11736\n",
      "EIXO-default-2022.03073\n",
      "EIXO-default-2021.02678\n",
      "EIXO-default-2022.03261\n",
      "EIXO-default-2022.01503\n",
      "EIXO-default-2021.11550\n",
      "EIXO-default-2021.11549\n",
      "EIXO-default-2021.29829\n",
      "EIXO-default-2022.02693\n",
      "EIXO-default-2022.02811\n",
      "EIXO-default-2022.00190\n",
      "EIXO-default-2022.03165\n",
      "EIXO-default-2022.03260\n",
      "EIXO-default-2022.03269\n",
      "EIXO-default-2022.03419\n",
      "EIXO-default-2022.03491\n",
      "EIXO-default-2022.03418\n",
      "EIXO-default-2022.03074\n",
      "EIXO-default-2022.03075\n",
      "EIXO-default-2022.01320\n",
      "EIXO-default-2022.01322\n",
      "EIXO-default-2022.00712\n",
      "EIXO-default-2022.01321\n",
      "EIXO-default-2022.01477\n",
      "EIXO-default-2022.01956\n",
      "EIXO-default-2022.01699\n",
      "EIXO-default-2022.01568\n",
      "EIXO-default-2022.00189\n",
      "EIXO-default-2022.03071\n",
      "EIXO-default-2022.01478\n",
      "EIXO-default-2022.03268\n",
      "EIXO-default-2022.03272\n",
      "EIXO-default-2022.03270\n",
      "EIXO-default-2022.03271\n",
      "EIXO-default-2022.03076\n",
      "EIXO-default-2022.03621\n",
      "EIXO-default-2022.02144\n",
      "EIXO-default-2022.02143\n",
      "EIXO-default-2022.02900\n",
      "EIXO-default-2022.03072\n",
      "EIXO-default-2022.01569\n",
      "EIXO-default-2022.02901\n",
      "EIXO-default-2022.01578\n",
      "EIXO-default-2022.01504\n"
     ]
    }
   ],
   "source": [
    "for a in reportings:\n",
    "    if 'inspection_topics' not in a.form_data:\n",
    "        print(a.number)"
   ]
  },
  {
   "cell_type": "code",
   "execution_count": 30,
   "metadata": {},
   "outputs": [
    {
     "name": "stdout",
     "output_type": "stream",
     "text": [
      "EIXO-default-2022.03073\n",
      "EIXO-default-2021.02678\n",
      "EIXO-default-2022.03261\n",
      "EIXO-default-2022.01503\n",
      "EIXO-default-2021.11549\n",
      "EIXO-default-2022.02693\n",
      "EIXO-default-2022.02811\n",
      "EIXO-default-2022.00190\n",
      "EIXO-default-2022.03165\n",
      "EIXO-default-2022.03260\n",
      "EIXO-default-2022.03269\n",
      "EIXO-default-2022.03419\n",
      "EIXO-default-2022.03491\n",
      "EIXO-default-2022.03418\n",
      "EIXO-default-2022.03074\n",
      "EIXO-default-2022.03075\n",
      "EIXO-default-2022.01320\n",
      "EIXO-default-2022.01322\n",
      "EIXO-default-2022.00712\n",
      "EIXO-default-2022.01321\n",
      "EIXO-default-2022.01477\n",
      "EIXO-default-2022.01956\n",
      "EIXO-default-2022.01699\n",
      "EIXO-default-2022.01568\n",
      "EIXO-default-2022.00189\n",
      "EIXO-default-2022.03071\n",
      "EIXO-default-2022.01478\n",
      "EIXO-default-2022.03268\n",
      "EIXO-default-2022.03272\n",
      "EIXO-default-2022.03272\n",
      "EIXO-default-2022.03270\n",
      "EIXO-default-2022.03270\n",
      "EIXO-default-2022.03271\n",
      "EIXO-default-2022.03271\n",
      "EIXO-default-2022.03076\n",
      "EIXO-default-2022.03621\n",
      "EIXO-default-2022.02144\n",
      "EIXO-default-2022.02143\n",
      "EIXO-default-2022.02900\n",
      "EIXO-default-2022.03072\n",
      "EIXO-default-2022.01569\n",
      "EIXO-default-2022.02901\n",
      "EIXO-default-2022.01578\n",
      "EIXO-default-2022.01504\n",
      "EIXO-default-2022.01504\n"
     ]
    }
   ],
   "source": [
    "for a in reportings:\n",
    "    if 'lots' in a.form_data:\n",
    "        for lot in a.form_data['lots'].keys():\n",
    "            if a.form_data['lots'][lot]['topics'] == {}:\n",
    "                print(a.number)\n",
    "#             print(a.form_data['lots'][lot]['topics'])\n",
    "#         try:\n",
    "# #             if 'topics' not in a.form_data['lots'][next(iter(a.form_data['lots'].keys()))]:\n",
    "#             print(a.form_data['lots'][next(iter(a.form_data['lots'].keys()))]['topics'])\n",
    "# #                 pass\n",
    "#         except Exception as e:\n",
    "# #             print(a.number)\n",
    "#             pass"
   ]
  },
  {
   "cell_type": "markdown",
   "metadata": {},
   "source": [
    " "
   ]
  },
  {
   "cell_type": "code",
   "execution_count": 2,
   "metadata": {},
   "outputs": [],
   "source": [
    "rdo_dict = {'EIXO-RDO-2022.00363': 'Roçada MAN 2 - Reg.03',\n",
    "'EIXO-RDO-2022.00195': 'Roçada MAN 4 - Reg.03',\n",
    "'EIXO-RDO-2022.00366': 'Roçada MAN 2 - Reg.03',\n",
    "'EIXO-RDO-2022.00276': 'Roçada MAN 2 - Reg.03',\n",
    "'EIXO-RDO-2022.00314': 'Roçada MAN 2 - Reg.03',\n",
    "'EIXO-RDO-2022.00359': 'Roçada MAN 2 - Reg.03',\n",
    "'EIXO-RDO-2022.00324': 'Roçada MAN 2 - Reg.03',\n",
    "'EIXO-RDO-2022.00274': 'Roçada MAN 2 - Reg.03',\n",
    "'EIXO-RDO-2022.00364': 'Roçada MAN 2 - Reg.03',\n",
    "'EIXO-RDO-2022.00368': 'Roçada MAN 2 - Reg.03',\n",
    "'EIXO-RDO-2022.00241': 'Roçada MAN 4 - Reg.03',\n",
    "'EIXO-RDO-2022.00233': 'Roçada MAN 7 - Reg.03',\n",
    "'EIXO-RDO-2022.00151': 'Roçada MAN 4 - Reg.03',\n",
    "'EIXO-RDO-2022.00158': 'Roçada MAN 2 - Reg.03',\n",
    "'EIXO-RDO-2022.00231': 'Roçada MAN 7 - Reg.03',\n",
    "'EIXO-RDO-2022.00232': 'Roçada MAN 7 - Reg.03',\n",
    "'EIXO-RDO-2022.00355': 'Roçada MAN 4 - Reg.03',\n",
    "'EIXO-RDO-2022.00275': 'Roçada MAN 2 - Reg.03',\n",
    "'EIXO-RDO-2022.00291': 'Roçada MAN 4 - Reg.03',\n",
    "'EIXO-RDO-2022.00258': 'Roçada MAN 7 - Reg.03',\n",
    "'EIXO-RDO-2022.00360': 'Roçada MAN 2 - Reg.03',\n",
    "'EIXO-RDO-2022.00290': 'Roçada MAN 4 - Reg.03'}"
   ]
  },
  {
   "cell_type": "code",
   "execution_count": 7,
   "metadata": {},
   "outputs": [
    {
     "name": "stdout",
     "output_type": "stream",
     "text": [
      "EIXO-RDO-2022.00363\n",
      "EIXO-RDO-2022.00366\n",
      "EIXO-RDO-2022.00359\n",
      "EIXO-RDO-2022.00324\n",
      "EIXO-RDO-2022.00364\n",
      "EIXO-RDO-2022.00275\n",
      "EIXO-RDO-2022.00291\n",
      "EIXO-RDO-2022.00258\n"
     ]
    }
   ],
   "source": [
    "for rdo, rdo_firm in rdo_dict.items():\n",
    "    rdo=MultipleDailyReport.objects.get(company=company, number=rdo)\n",
    "    try:\n",
    "        rdo.firm=Firm.objects.get(company=company, name=rdo_firm)\n",
    "        rdo.save()\n",
    "    except Exception as e:\n",
    "        print(rdo.number)"
   ]
  },
  {
   "cell_type": "code",
   "execution_count": 15,
   "metadata": {},
   "outputs": [],
   "source": [
    "rdo_delete=['EIXO-RDO-2022.01067', 'EIXO-RDO-2022.01070']"
   ]
  },
  {
   "cell_type": "code",
   "execution_count": 16,
   "metadata": {},
   "outputs": [],
   "source": [
    "for a in rdo_delete:\n",
    "    rdo=MultipleDailyReport.objects.get(company=company, number=a)\n",
    "    rdo.delete()"
   ]
  },
  {
   "cell_type": "code",
   "execution_count": 8,
   "metadata": {},
   "outputs": [],
   "source": [
    "rdo_dict={'EIXO-RDO-2022.01074': 'EQUIPE VOLANTE 2 - ITIRAPINA',\n",
    "            'EIXO-RDO-2022.01073': 'EQUIPE VOLANTE 2 - ITIRAPINA',\n",
    "            'EIXO-RDO-2022.01018': 'EQUIPE VOLANTE 2 - ITIRAPINA',\n",
    "            'EIXO-RDO-2022.01067': 'EQUIPE VOLANTE 2 - ITIRAPINA',\n",
    "            'EIXO-RDO-2022.01070': 'EQUIPE VOLANTE 2 - ITIRAPINA',\n",
    "            'EIXO-RDO-2022.01121': 'LIMP DRENAGEM 1 - ITIRAPINA',\n",
    "            'EIXO-RDO-2022.00874': 'DESPRAGUEJAMENTO ITIRAPINA',\n",
    "            'EIXO-RDO-2022.01186': 'PODA DE ÁRVORES ITIRAPINA',\n",
    "            'EIXO-RDO-2022.01065': 'PODA DE ÁRVORES ITIRAPINA',\n",
    "            'EIXO-RDO-2022.01187': 'PODA DE ÁRVORES ITIRAPINA',\n",
    "            'EIXO-RDO-2022.01238': 'PODA DE ÁRVORES ITIRAPINA',\n",
    "            'EIXO-RDO-2022.01057': 'PODA DE ÁRVORES ITIRAPINA',\n",
    "            'EIXO-RDO-2022.01280': 'PODA DE ÁRVORES ITIRAPINA',\n",
    "            'EIXO-RDO-2022.00054': 'DEFENSA METÁLICA ITIRAPINA',\n",
    "            'EIXO-RDO-2022.00045': 'DEFENSA METÁLICA ITIRAPINA',\n",
    "            'EIXO-RDO-2022.00105': 'DEFENSA METÁLICA ITIRAPINA',\n",
    "            'EIXO-RDO-2022.00077': 'DEFENSA METÁLICA ITIRAPINA'}"
   ]
  },
  {
   "cell_type": "code",
   "execution_count": 12,
   "metadata": {},
   "outputs": [
    {
     "name": "stdout",
     "output_type": "stream",
     "text": [
      "EIXO-RDO-2022.01067 duplicate key value violates unique constraint \"daily_reports_multipleda_created_by_id_firm_id_da_394697a2_uniq\"\n",
      "DETAIL:  Key (created_by_id, firm_id, date)=(af024ef5-d2d5-44e5-9c08-f50f6990cc30, c8ef45cf-0750-49de-9d43-e0a9bb4da5c7, 2022-04-18) already exists.\n",
      "\n",
      "EIXO-RDO-2022.01070 duplicate key value violates unique constraint \"daily_reports_multipleda_created_by_id_firm_id_da_394697a2_uniq\"\n",
      "DETAIL:  Key (created_by_id, firm_id, date)=(af024ef5-d2d5-44e5-9c08-f50f6990cc30, c8ef45cf-0750-49de-9d43-e0a9bb4da5c7, 2022-04-19) already exists.\n",
      "\n"
     ]
    }
   ],
   "source": [
    "for rdo, rdo_firm in rdo_dict.items():\n",
    "    rdo=MultipleDailyReport.objects.get(company=company, number=rdo)\n",
    "    try:\n",
    "        rdo.firm=Firm.objects.get(company=company, name=rdo_firm)\n",
    "        rdo.save()\n",
    "    except Exception as e:\n",
    "        print(rdo.number, e)"
   ]
  },
  {
   "cell_type": "code",
   "execution_count": 4,
   "metadata": {},
   "outputs": [
    {
     "data": {
      "text/plain": [
       "<MultipleDailyReport: [Eixo SP] bac1cace-9664-433b-9c1d-1a13b8156e56 - 2022-08-03>"
      ]
     },
     "execution_count": 4,
     "metadata": {},
     "output_type": "execute_result"
    }
   ],
   "source": [
    "rdo=MultipleDailyReport.objects.get(number='EIXO-RDO-2022.08425')\n",
    "rdo"
   ]
  },
  {
   "cell_type": "code",
   "execution_count": 2,
   "metadata": {},
   "outputs": [
    {
     "data": {
      "text/plain": [
       "<Firm: [097fe80a-4917-4fa1-8207-2de35c113599: Eixo SP] 41fa3c0b-e28b-42d8-8d22-e4b916cd34ad: MULTIFUNCIONAL ITIRAPINA>"
      ]
     },
     "execution_count": 2,
     "metadata": {},
     "output_type": "execute_result"
    }
   ],
   "source": [
    "firm=Firm.objects.get(name='MULTIFUNCIONAL ITIRAPINA')\n",
    "firm"
   ]
  },
  {
   "cell_type": "code",
   "execution_count": 3,
   "metadata": {},
   "outputs": [],
   "source": [
    "rdo.firm=firm\n",
    "# rdo.save()"
   ]
  },
  {
   "cell_type": "markdown",
   "metadata": {},
   "source": [
    " "
   ]
  },
  {
   "cell_type": "code",
   "execution_count": 39,
   "metadata": {},
   "outputs": [
    {
     "data": {
      "text/plain": [
       "475"
      ]
     },
     "execution_count": 39,
     "metadata": {},
     "output_type": "execute_result"
    }
   ],
   "source": [
    "reps=Reporting.objects.filter(company=company, lot__isnull=True).order_by('road_name', 'created_at').exclude(occurrence_type__occurrence_kind='2')\n",
    "reps.count()"
   ]
  },
  {
   "cell_type": "code",
   "execution_count": 44,
   "metadata": {},
   "outputs": [
    {
     "name": "stdout",
     "output_type": "stream",
     "text": [
      "Número\tRodovia\tKm\tCriado em\tCriado por\n",
      "EIXO-default-2022.20328\tSP000\t0.0\t04/06/2022\tIntegração TOR\n",
      "EIXO-PAV-2020.00879\tSP-191\t116.5\t15/07/2020\tLuiz Oliveira\n",
      "EIXO-PAV-2020.00884\tSP-191\t116.1\t15/07/2020\tLuiz Oliveira\n",
      "EIXO-PAV-2020.00885\tSP-191\t116.3\t15/07/2020\tLuiz Oliveira\n",
      "EIXO-PAV-2020.00886\tSP-191\t116.5\t15/07/2020\tLuiz Oliveira\n",
      "EIXO-PAV-2020.00887\tSP-191\t116.6\t15/07/2020\tLuiz Oliveira\n",
      "EIXO-PAV-2020.01123\tSP-191\t74.53\t22/07/2020\tLuiz Oliveira\n",
      "EIXO-PAV-2020.01124\tSP-191\t74.6\t22/07/2020\tLuiz Oliveira\n",
      "EIXO-DRE-2021.12941\tSP-191\t74.65\t01/07/2021\tRosiane Costa\n",
      "EIXO-FDO-2020.02414\tSP-197\t20.0\t19/08/2020\tAnderson Sousa\n",
      "EIXO-default-2021.04872\tSP-197\t249.37\t23/02/2021\tLuis Carlos Soares\n",
      "EIXO-default-2022.31444\tSP-197\t1000.0\t04/08/2022\tDavid Sardinha\n",
      "EIXO-default-2022.31456\tSP-197\t4000.0\t04/08/2022\tDavid Sardinha\n",
      "EIXO-default-2022.39314\tSP-197\t20.0\t22/09/2022\tGuilherme de Castro Silva\n",
      "EIXO-default-2022.39315\tSP-197\t20.0\t22/09/2022\tGuilherme de Castro Silva\n",
      "EIXO-default-2022.39316\tSP-197\t20.0\t22/09/2022\tGuilherme de Castro Silva\n",
      "EIXO-default-2022.39317\tSP-197\t20.0\t22/09/2022\tGuilherme de Castro Silva\n",
      "EIXO-default-2022.39318\tSP-197\t20.0\t22/09/2022\tGuilherme de Castro Silva\n",
      "EIXO-default-2022.39319\tSP-197\t20.0\t22/09/2022\tGuilherme de Castro Silva\n",
      "EIXO-default-2022.39320\tSP-197\t20.0\t22/09/2022\tGuilherme de Castro Silva\n",
      "EIXO-default-2022.39321\tSP-197\t20.0\t22/09/2022\tGuilherme de Castro Silva\n",
      "EIXO-default-2022.39322\tSP-197\t20.0\t22/09/2022\tGuilherme de Castro Silva\n",
      "EIXO-SIN-2020.02067\tSP-225\t91.0\t11/08/2020\tElias Lino Da Silva\n",
      "EIXO-LV-2020.11899\tSP-225\t91.0\t14/08/2020\tPedro Garcia\n",
      "EIXO-LV-2020.13390\tSP-225\t920.0\t22/10/2020\tPedro Garcia\n",
      "EIXO-LV-2020.14258\tSP-225\t237.1\t15/12/2020\tDaniela Garcia\n",
      "EIXO-LV-2020.14259\tSP-225\t237.1\t15/12/2020\tDaniela Garcia\n",
      "EIXO-LV-2020.14260\tSP-225\t237.65\t15/12/2020\tDaniela Garcia\n",
      "EIXO-FDO-2022.11460\tSP-225\t235.05\t12/04/2022\tDaniela Garcia\n",
      "EIXO-FDO-2022.11467\tSP-225\t235.05\t12/04/2022\tDaniela Garcia\n",
      "EIXO-FDO-2022.11474\tSP-225\t235.05\t12/04/2022\tDaniela Garcia\n",
      "EIXO-FDO-2022.11481\tSP-225\t235.05\t12/04/2022\tDaniela Garcia\n",
      "EIXO-default-2022.14563\tSP-225\t235.3\t04/05/2022\tDaniela Garcia\n",
      "EIXO-default-2022.14564\tSP-225\t235.3\t04/05/2022\tDaniela Garcia\n",
      "EIXO-default-2022.14565\tSP-225\t235.3\t04/05/2022\tDaniela Garcia\n",
      "EIXO-default-2022.14566\tSP-225\t235.3\t04/05/2022\tDaniela Garcia\n",
      "EIXO-default-2022.14567\tSP-225\t235.3\t04/05/2022\tDaniela Garcia\n",
      "EIXO-default-2022.14568\tSP-225\t235.3\t04/05/2022\tDaniela Garcia\n",
      "EIXO-default-2022.14569\tSP-225\t235.3\t04/05/2022\tDaniela Garcia\n",
      "EIXO-default-2022.14570\tSP-225\t235.3\t04/05/2022\tDaniela Garcia\n",
      "EIXO-default-2022.14571\tSP-225\t235.3\t04/05/2022\tDaniela Garcia\n",
      "EIXO-default-2022.14572\tSP-225\t235.3\t04/05/2022\tDaniela Garcia\n",
      "EIXO-default-2022.14573\tSP-225\t235.3\t04/05/2022\tDaniela Garcia\n",
      "EIXO-default-2022.14574\tSP-225\t235.3\t04/05/2022\tDaniela Garcia\n",
      "EIXO-default-2022.14575\tSP-225\t235.3\t04/05/2022\tDaniela Garcia\n",
      "EIXO-default-2022.14576\tSP-225\t235.3\t04/05/2022\tDaniela Garcia\n",
      "EIXO-default-2022.14577\tSP-225\t235.3\t04/05/2022\tDaniela Garcia\n",
      "EIXO-default-2022.14578\tSP-225\t235.3\t04/05/2022\tDaniela Garcia\n",
      "EIXO-DRE-2022.11151\tSP-225\t235.05\t14/06/2022\tBianca Fernanda de Andreia Grossi\n",
      "EIXO-DRE-2022.11152\tSP-225\t235.05\t14/06/2022\tBianca Fernanda de Andreia Grossi\n",
      "EIXO-DRE-2022.11430\tSP-225\t235.05\t20/06/2022\tBianca Fernanda de Andreia Grossi\n",
      "EIXO-DRE-2022.11431\tSP-225\t235.05\t20/06/2022\tBianca Fernanda de Andreia Grossi\n",
      "EIXO-DRE-2022.11432\tSP-225\t235.05\t20/06/2022\tBianca Fernanda de Andreia Grossi\n",
      "EIXO-DRE-2022.11606\tSP-225\t235.05\t27/06/2022\tBianca Fernanda de Andreia Grossi\n",
      "EIXO-CON-2022.04365\tSP-225\t0.0\t03/07/2022\tDaniela Garcia\n",
      "EIXO-CON-2022.04411\tSP-225\t226000.0\t03/07/2022\tDaniela Garcia\n",
      "EIXO-CON-2022.04412\tSP-225\t226000.0\t03/07/2022\tDaniela Garcia\n",
      "EIXO-FDO-2022.20265\tSP-225\t91.0\t17/07/2022\tIntegração TOR\n",
      "EIXO-FDO-2022.21045\tSP-225\t235.05\t25/07/2022\tBianca Fernanda de Andreia Grossi\n",
      "EIXO-FDO-2022.21048\tSP-225\t4.0\t25/07/2022\tBianca Fernanda de Andreia Grossi\n",
      "EIXO-FDO-2022.21049\tSP-225\t235.05\t25/07/2022\tBianca Fernanda de Andreia Grossi\n",
      "EIXO-default-2022.35253\tSP-225\t235.3\t29/08/2022\tNathalia Ferraz Carneiro\n",
      "EIXO-default-2022.35254\tSP-225\t235.3\t29/08/2022\tNathalia Ferraz Carneiro\n",
      "EIXO-default-2022.35255\tSP-225\t235.3\t29/08/2022\tNathalia Ferraz Carneiro\n",
      "EIXO-default-2022.35256\tSP-225\t235.3\t29/08/2022\tNathalia Ferraz Carneiro\n",
      "EIXO-default-2022.35257\tSP-225\t235.3\t29/08/2022\tNathalia Ferraz Carneiro\n",
      "EIXO-default-2022.35258\tSP-225\t235.3\t29/08/2022\tNathalia Ferraz Carneiro\n",
      "EIXO-default-2022.35259\tSP-225\t235.3\t29/08/2022\tNathalia Ferraz Carneiro\n",
      "EIXO-default-2022.35260\tSP-225\t235.3\t29/08/2022\tNathalia Ferraz Carneiro\n",
      "EIXO-default-2022.35261\tSP-225\t235.3\t29/08/2022\tNathalia Ferraz Carneiro\n",
      "EIXO-default-2022.35262\tSP-225\t235.3\t29/08/2022\tNathalia Ferraz Carneiro\n",
      "EIXO-default-2022.35263\tSP-225\t235.3\t29/08/2022\tNathalia Ferraz Carneiro\n",
      "EIXO-default-2022.35264\tSP-225\t235.3\t29/08/2022\tNathalia Ferraz Carneiro\n",
      "EIXO-default-2022.35265\tSP-225\t235.3\t29/08/2022\tNathalia Ferraz Carneiro\n",
      "EIXO-default-2022.35266\tSP-225\t235.3\t29/08/2022\tNathalia Ferraz Carneiro\n",
      "EIXO-DRE-2021.17387\tSP-261\t183.67\t13/07/2021\tKaique Fahl\n",
      "EIXO-DRE-2021.23300\tSP-261\t183.66\t27/10/2021\tKaique Fahl\n",
      "EIXO-FDO-2022.21068\tSP-261\t184.0\t25/07/2022\tBianca Fernanda de Andreia Grossi\n",
      "EIXO-CON-2022.04956\tSP-261\t183.76\t08/08/2022\tIntegração TOR\n",
      "EIXO-default-2022.40085\tSP-261\t17.0\t27/09/2022\tNathalia Ferraz Carneiro\n",
      "EIXO-SIN-2020.04139\tSP-284\t447.018291045752\t17/09/2020\tIreneu Vieira dos Santos\n",
      "EIXO-SIN-2020.04140\tSP-284\t447.217682447198\t17/09/2020\tIreneu Vieira dos Santos\n",
      "EIXO-FDO-2020.04056\tSP-284\t430.5\t23/09/2020\tErigelson Santos da Costa\n",
      "EIXO-default-2020.00049\tSP-284\t447.0\t11/11/2020\tEduardo Bortolotto\n",
      "EIXO-default-2021.46904\tSP-284\t445.85\t30/11/2021\tJean Rocha\n",
      "EIXO-default-2021.46905\tSP-284\t445.85\t30/11/2021\tJean Rocha\n",
      "EIXO-default-2021.46906\tSP-284\t445.85\t30/11/2021\tJean Rocha\n",
      "EIXO-default-2021.47055\tSP-284\t674.3\t30/11/2021\tJean Rocha\n",
      "EIXO-PAV-2022.08543\tSP-284\t447.017\t28/09/2022\tAntonio Barbosa\n",
      "EIXO-PAV-2020.05355\tSP-293\t0.0\t22/08/2020\tDiogenes Santos\n",
      "EIXO-PRE-2020.00464\tSP-293\t144.0\t08/09/2020\tDiogenes Santos\n",
      "EIXO-PRE-2020.00466\tSP-293\t144.0\t08/09/2020\tDiogenes Santos\n",
      "EIXO-PRE-2020.00467\tSP-293\t144.0\t08/09/2020\tDiogenes Santos\n",
      "EIXO-DRE-2020.08509\tSP-293\t0.0\t10/12/2020\tTaynara Ribeiro\n",
      "EIXO-default-2021.00920\tSP-293\t24.7\t14/01/2021\tWillian Vinicius\n",
      "EIXO-FDO-2021.02683\tSP-293\t0.0\t17/03/2021\tTaynara Ribeiro\n",
      "EIXO-DRE-2021.03307\tSP-293\t0.0\t04/05/2021\tTaynara Ribeiro\n",
      "EIXO-DRE-2021.03312\tSP-293\t0.0\t04/05/2021\tTaynara Ribeiro\n",
      "EIXO-SIN-2020.00378\tSP-294\t299.0\t25/06/2020\tmichelly perenette\n",
      "EIXO-LV-2020.06512\tSP-294\t685.453317662248\t08/07/2020\tAntonio Barbosa\n",
      "EIXO-FDO-2020.01606\tSP-294\t1.0\t30/07/2020\tAdolfo Arten\n",
      "EIXO-SIN-2020.02939\tSP-294\t685.798678624928\t25/08/2020\tIreneu Vieira dos Santos\n",
      "EIXO-SIN-2020.02940\tSP-294\t685.789654175155\t25/08/2020\tIreneu Vieira dos Santos\n",
      "EIXO-SIN-2020.03025\tSP-294\t686.440428883705\t27/08/2020\tIreneu Vieira dos Santos\n",
      "EIXO-SIN-2020.03026\tSP-294\t686.450520210789\t27/08/2020\tIreneu Vieira dos Santos\n",
      "EIXO-SIN-2020.03027\tSP-294\t686.46089488594\t27/08/2020\tIreneu Vieira dos Santos\n",
      "EIXO-SIN-2020.03028\tSP-294\t686.428996030888\t27/08/2020\tIreneu Vieira dos Santos\n",
      "EIXO-SIN-2020.03029\tSP-294\t685.475216479475\t27/08/2020\tIreneu Vieira dos Santos\n",
      "EIXO-SIN-2020.03230\tSP-294\t685.8\t02/09/2020\tPaulo Vinicius Martins Santos\n",
      "EIXO-SIN-2020.03735\tSP-294\t685.700542929007\t14/09/2020\tPaulo Vinicius Martins Santos\n",
      "EIXO-DRE-2020.04231\tSP-294\t685.503242350962\t23/09/2020\tJosé Edmilson dos Santos\n",
      "EIXO-DRE-2020.04272\tSP-294\t685.624024559831\t24/09/2020\tJosé Edmilson dos Santos\n",
      "EIXO-FDO-2020.04939\tSP-294\t4.0\t16/10/2020\tRui Calcete\n",
      "EIXO-DRE-2020.07907\tSP-294\t347.0\t02/12/2020\tMatheus Assis Negretti\n",
      "EIXO-default-2021.49330\tSP-294\t165.0\t20/12/2021\tTaynara Ribeiro\n",
      "EIXO-default-2022.18530\tSP-294\t167.4\t25/05/2022\tEdmilson Rocha\n",
      "EIXO-PAV-2020.07034\tSP-304\t139.074\t30/09/2020\tLuiz Oliveira\n",
      "EIXO-PAV-2020.07035\tSP-304\t139.163\t30/09/2020\tLuiz Oliveira\n",
      "EIXO-DRE-2021.11656\tSP-304\t148.89\t01/07/2021\tRosiane Costa\n",
      "EIXO-DRE-2021.12214\tSP-304\t148.89\t01/07/2021\tRosiane Costa\n",
      "EIXO-DRE-2021.13587\tSP-304\t165.95\t01/07/2021\tRosiane Costa\n",
      "EIXO-FDO-2020.01722\tSP-308\t173.0\t04/08/2020\tAnderson Sousa\n",
      "EIXO-FDO-2020.05608\tSP-308\t118.24\t05/11/2020\tRoberto Carlos de Paula\n",
      "EIXO-PRE-2020.00979\tSP-308\t197.098\t17/11/2020\tAtala Santos\n",
      "EIXO-DRE-2020.07029\tSP-308\t173.6\t24/11/2020\tDEICULO MENDES DE OLIVEIRA\n",
      "EIXO-default-2021.00809\tSP-308\t173.6\t12/01/2021\tReginaldo Alves\n",
      "EIXO-default-2021.07007\tSP-308\t99.371\t22/03/2021\tDaniela Garcia\n",
      "EIXO-DRE-2021.10897\tSP-308\t194.6\t01/07/2021\tRosiane Costa\n",
      "EIXO-DRE-2021.10898\tSP-308\t194.65\t01/07/2021\tRosiane Costa\n",
      "EIXO-DRE-2021.11442\tSP-308\t194.6\t01/07/2021\tRosiane Costa\n",
      "EIXO-DRE-2021.11443\tSP-308\t194.65\t01/07/2021\tRosiane Costa\n",
      "EIXO-DRE-2021.11504\tSP-308\t173.25\t01/07/2021\tRosiane Costa\n",
      "EIXO-DRE-2021.12000\tSP-308\t194.6\t01/07/2021\tRosiane Costa\n",
      "EIXO-DRE-2021.12001\tSP-308\t194.65\t01/07/2021\tRosiane Costa\n",
      "EIXO-DRE-2021.12062\tSP-308\t173.25\t01/07/2021\tRosiane Costa\n",
      "EIXO-DRE-2021.13675\tSP-308\t173.44\t01/07/2021\tRosiane Costa\n",
      "EIXO-DRE-2021.18044\tSP-308\t173.25\t20/07/2021\tRosiane Costa\n",
      "EIXO-DRE-2021.18046\tSP-308\t194.6\t20/07/2021\tRosiane Costa\n",
      "EIXO-DRE-2021.18047\tSP-308\t194.65\t20/07/2021\tRosiane Costa\n",
      "EIXO-DRE-2021.18053\tSP-308\t173.25\t20/07/2021\tRosiane Costa\n",
      "EIXO-DRE-2021.18055\tSP-308\t194.6\t20/07/2021\tRosiane Costa\n",
      "EIXO-CON-2022.03263\tSP-308\t0.0\t24/06/2022\tAna Paula Silva dos Reis\n",
      "EIXO-CON-2020.00269\tSP-310\t232.0\t05/07/2020\tRodrigo Evangelista\n",
      "EIXO-PAV-2020.00756\tSP-310\t227.9\t09/07/2020\tRodrigo Evangelista\n",
      "EIXO-LV-2020.14319\tSP-310\t227.85\t15/12/2020\tDaniela Garcia\n",
      "EIXO-FDO-2021.01773\tSP-310\t153.0\t16/02/2021\tGilvan Inativo\n",
      "EIXO-PRE-2021.00536\tSP-310\t0.0\t24/06/2021\tCCA Arrecadação\n",
      "EIXO-default-2022.01536\tSP-310\t91.43\t13/01/2022\tNathalia Ferraz Carneiro\n",
      "EIXO-default-2022.01567\tSP-310\t91.43\t14/01/2022\tNathalia Ferraz Carneiro\n",
      "EIXO-default-2020.00279\tSP-331\t207.0\t20/11/2020\tHeitor Bessegato\n",
      "EIXO-default-2022.34439\tSP-331\t206.6\t22/08/2022\tTaynara Ribeiro\n",
      "EIXO-PRE-2021.00375\tSP-425\t0.0\t10/05/2021\tCCA Arrecadação\n",
      "EIXO-LV-2021.06139\tSP-425\t365.7\t30/11/2021\tJean Rocha\n",
      "EIXO-default-2021.46967\tSP-425\t0.1\t30/11/2021\tJean Rocha\n",
      "EIXO-default-2021.47032\tSP-425\t450.1\t30/11/2021\tJean Rocha\n",
      "EIXO-LV-2021.06153\tSP-425\t374.0\t30/11/2021\tJean Rocha\n",
      "EIXO-LV-2021.06166\tSP-425\t304.1\t30/11/2021\tJean Rocha\n",
      "EIXO-default-2021.49913\tSP-425\t374.3\t29/12/2021\tJean Rocha\n",
      "EIXO-default-2021.49914\tSP-425\t374.3\t29/12/2021\tJean Rocha\n",
      "EIXO-LV-2022.02438\tSP-425\t450.3\t11/01/2022\tJean Rocha\n",
      "EIXO-LV-2022.02730\tSP-425\t450.3\t11/01/2022\tJean Rocha\n",
      "EIXO-LV-2022.04227\tSP-425\t450.3\t11/02/2022\tJean Rocha\n",
      "EIXO-LV-2022.04246\tSP-425\t450.3\t11/02/2022\tJean Rocha\n",
      "EIXO-default-2022.06688\tSP-425\t467.82\t03/03/2022\tJean Rocha\n",
      "EIXO-default-2022.06689\tSP-425\t467.8\t03/03/2022\tJean Rocha\n",
      "EIXO-default-2022.06690\tSP-425\t467.8\t03/03/2022\tJean Rocha\n",
      "EIXO-default-2022.06691\tSP-425\t467.1\t03/03/2022\tJean Rocha\n",
      "EIXO-default-2022.29613\tSP-425\t366.0\t02/08/2022\tJean Rocha\n",
      "EIXO-LV-2020.12811\tSPA-005/197\t4.95\t21/09/2020\tEzequiel Geremias\n",
      "EIXO-FDO-2021.04766\tSPA-005/197\t10.0\t17/05/2021\tFabricio Critiano Spirito\n",
      "EIXO-FDO-2021.15236\tSPA-005/197\t4.8\t04/10/2021\tJonathan Henrique da Silva\n",
      "EIXO-FDO-2021.15352\tSPA-005/197\t4.975\t06/10/2021\tPaulo Pereira de Souza\n",
      "EIXO-FDO-2021.17503\tSPA-005/197\t4.92568908017244\t10/11/2021\tCarlos Alberto Gasparotto\n",
      "EIXO-FDO-2021.17588\tSPA-005/197\t5.0\t10/11/2021\tAdonias de Almeida\n",
      "EIXO-LV-2021.06033\tSPA-005/197\t7.12\t29/11/2021\tRobson Paula\n",
      "EIXO-LV-2021.06034\tSPA-005/197\t9.17\t29/11/2021\tRobson Paula\n",
      "EIXO-LV-2021.06035\tSPA-005/197\t9.17\t29/11/2021\tRobson Paula\n",
      "EIXO-LV-2021.06036\tSPA-005/197\t11.09\t29/11/2021\tRobson Paula\n",
      "EIXO-LV-2021.06037\tSPA-005/197\t11.09\t29/11/2021\tRobson Paula\n",
      "EIXO-LV-2021.06038\tSPA-005/197\t11.665\t29/11/2021\tRobson Paula\n",
      "EIXO-LV-2021.06039\tSPA-005/197\t15.5\t29/11/2021\tRobson Paula\n",
      "EIXO-LV-2021.06040\tSPA-005/197\t15.63\t29/11/2021\tRobson Paula\n",
      "EIXO-default-2021.48686\tSPA-005/197\t4.77992155708067\t13/12/2021\tDavid Sardinha\n",
      "EIXO-default-2021.48687\tSPA-005/197\t4.79084539557233\t13/12/2021\tDavid Sardinha\n",
      "EIXO-default-2021.48688\tSPA-005/197\t4.82384888826037\t13/12/2021\tDavid Sardinha\n",
      "EIXO-default-2021.48689\tSPA-005/197\t4.82378018886902\t13/12/2021\tDavid Sardinha\n",
      "EIXO-default-2021.48690\tSPA-005/197\t4.82615907573063\t13/12/2021\tDavid Sardinha\n",
      "EIXO-default-2021.48691\tSPA-005/197\t4.77394653019014\t13/12/2021\tDavid Sardinha\n",
      "EIXO-default-2021.48692\tSPA-005/197\t4.75207587789469\t13/12/2021\tDavid Sardinha\n",
      "EIXO-FDO-2021.23253\tSPA-005/197\t4.89992656658662\t30/12/2021\tCassio Fernando dos Santos\n",
      "EIXO-FDO-2021.23254\tSPA-005/197\t4.88002814200356\t30/12/2021\tCassio Fernando dos Santos\n",
      "EIXO-default-2022.02656\tSPA-005/197\t4.832220062287377\t21/01/2022\tMarcio Leandro Orpinelli\n",
      "EIXO-default-2022.02798\tSPA-005/197\t4.813289973029825\t22/01/2022\tMarcio Leandro Orpinelli\n",
      "EIXO-DRE-2022.01371\tSPA-005/197\t4.830570470943265\t19/02/2022\tMarcelo Firmino de Souza\n",
      "EIXO-DRE-2022.01372\tSPA-005/197\t4.816502603900962\t19/02/2022\tMarcelo Firmino de Souza\n",
      "EIXO-FDO-2022.06101\tSPA-005/197\t4.7783693214225265\t23/02/2022\tMarcio Leandro Orpinelli\n",
      "EIXO-FDO-2022.06102\tSPA-005/197\t4.81276401088497\t23/02/2022\tMarcio Leandro Orpinelli\n",
      "EIXO-DRE-2022.01650\tSPA-005/197\t4.834772778455468\t14/03/2022\tMarcelo Firmino de Souza\n",
      "EIXO-DRE-2022.01651\tSPA-005/197\t4.829640448105224\t14/03/2022\tMarcelo Firmino de Souza\n",
      "EIXO-DRE-2022.01652\tSPA-005/197\t4.8164340778148595\t14/03/2022\tMarcelo Firmino de Souza\n",
      "EIXO-FDO-2022.09155\tSPA-005/197\t4.931996491184906\t22/03/2022\tCassio Fernando dos Santos\n",
      "EIXO-DRE-2022.02179\tSPA-005/197\t4.828239447443567\t18/04/2022\tMarcelo Firmino de Souza\n",
      "EIXO-DRE-2022.02180\tSPA-005/197\t4.810583842136268\t18/04/2022\tMarcelo Firmino de Souza\n",
      "EIXO-FDO-2022.15403\tSPA-005/197\t4.798609225612531\t23/05/2022\tPriscilo Pereira da Silva\n",
      "EIXO-default-2022.22320\tSPA-005/197\t4.7966582204783865\t21/06/2022\tReginaldo Alves\n",
      "EIXO-default-2022.22321\tSPA-005/197\t4.7993971565077995\t21/06/2022\tReginaldo Alves\n",
      "EIXO-default-2022.29493\tSPA-005/197\t4000.0\t02/08/2022\tDavid Sardinha\n",
      "EIXO-default-2022.29502\tSPA-005/197\t4.795836836553566\t02/08/2022\tDavid Sardinha\n",
      "EIXO-default-2022.29503\tSPA-005/197\t4.806114153230876\t02/08/2022\tDavid Sardinha\n",
      "EIXO-default-2022.29504\tSPA-005/197\t4.800740060684998\t02/08/2022\tDavid Sardinha\n",
      "EIXO-default-2022.29505\tSPA-005/197\t4.795427922651494\t02/08/2022\tDavid Sardinha\n",
      "EIXO-DRE-2022.12679\tSPA-005/197\t4.84\t08/08/2022\tDavid Wesley Aparecido Lopes\n",
      "EIXO-DRE-2022.12680\tSPA-005/197\t4.821572761208204\t08/08/2022\tDavid Wesley Aparecido Lopes\n",
      "EIXO-DRE-2022.12681\tSPA-005/197\t4.819374695731657\t08/08/2022\tDavid Wesley Aparecido Lopes\n",
      "EIXO-FDO-2022.22581\tSPA-005/197\t4.81175714769677\t11/08/2022\tCassio Fernando dos Santos\n",
      "EIXO-DRE-2021.09508\tSPA-017/293\t0.81\t01/07/2021\tAdriana Bispo\n",
      "EIXO-DRE-2021.09509\tSPA-017/293\t0.81\t01/07/2021\tAdriana Bispo\n",
      "EIXO-PAV-2020.01702\tSPA-083/191\t5.991\t10/08/2020\tLuiz Oliveira\n",
      "EIXO-default-2021.35729\tSPA-130/225\t1.8\t07/09/2021\tIntegração TOR\n",
      "EIXO-PAVR-2021.00128\tSPA-130/225\t1.8\t07/10/2021\tIntegração TOR\n",
      "EIXO-PAV-2021.06255\tSPA-130/225\t1.8\t09/10/2021\tIntegração TOR\n",
      "EIXO-PAV-2020.00772\tSPA-160/225\t10.3\t09/07/2020\tRodrigo Evangelista\n",
      "EIXO-DRE-2020.03723\tSPA-160/225\t3.316\t11/09/2020\tWilson Gomes Cardoso\n",
      "EIXO-LV-2020.13554\tSPA-193/310\t9.40000000179578\t06/11/2020\tPedro Garcia\n",
      "EIXO-DRE-2020.06700\tSPA-193/310\t9.40000000179578\t17/11/2020\tLeomar Pereira Maciel\n",
      "EIXO-LV-2021.02932\tSPA-193/310\t9.40000000179578\t27/04/2021\tAndre Henrique Lino de Oliveira\n",
      "EIXO-FDO-2021.04133\tSPA-193/310\t9.40000000179578\t27/04/2021\tAndre Henrique Lino de Oliveira\n",
      "EIXO-FDO-2021.04134\tSPA-193/310\t9.40000000179578\t27/04/2021\tAndre Henrique Lino de Oliveira\n",
      "EIXO-default-2021.35339\tSPA-193/310\t9.40000000179578\t02/09/2021\tSidclei Romeu\n",
      "EIXO-default-2022.04632\tSPA-193/310\t9.5\t09/02/2022\tKenedy Cardoso\n",
      "EIXO-default-2022.12807\tSPA-193/310\t9.400000001794478\t26/04/2022\tKaique Fahl\n",
      "EIXO-default-2022.12808\tSPA-193/310\t9.400000001794478\t26/04/2022\tKaique Fahl\n",
      "EIXO-FDO-2022.12827\tSPA-193/310\t9.400000001794478\t26/04/2022\tKaique Fahl\n",
      "EIXO-FDO-2020.05779\tSPA-195/225\t777.7\t10/11/2020\tVinicius Rosa\n",
      "EIXO-PAV-2020.08519\tSPA-195/225\t9.046\t27/11/2020\tThiago P. Z. Amaral\n",
      "EIXO-LV-2020.13406\tSPA-195/304\t8.3\t24/10/2020\tGilvan Inativo\n",
      "EIXO-default-2022.23154\tSPA-195/304\t3.01\t27/06/2022\tDavid Sardinha\n",
      "EIXO-default-2022.26829\tSPA-195/304\t3000.0\t18/07/2022\tDavid Sardinha\n",
      "EIXO-default-2022.26830\tSPA-195/304\t3002.0\t18/07/2022\tDavid Sardinha\n",
      "EIXO-default-2022.26843\tSPA-195/304\t2000.0\t18/07/2022\tDavid Sardinha\n",
      "EIXO-default-2022.26867\tSPA-195/304\t3000.0\t18/07/2022\tDavid Sardinha\n",
      "EIXO-default-2022.26868\tSPA-195/304\t3000.0\t18/07/2022\tDavid Sardinha\n",
      "EIXO-default-2022.04583\tSPA-195/331\t4.05\t09/02/2022\tAlessandra Mendes\n",
      "EIXO-default-2022.04584\tSPA-195/331\t4.05\t09/02/2022\tAlessandra Mendes\n",
      "EIXO-default-2022.04585\tSPA-195/331\t4.05\t09/02/2022\tAlessandra Mendes\n",
      "EIXO-FDO-2022.10108\tSPA-195/331\t5.532\t31/03/2022\tVanderlei Silva\n",
      "EIXO-default-2021.16998\tSPA-196/331\t5.6\t31/05/2021\tTaynara Ribeiro\n",
      "EIXO-default-2021.16999\tSPA-196/331\t5.6\t31/05/2021\tTaynara Ribeiro\n",
      "EIXO-default-2021.46777\tSPA-196/331\t7.05\t25/11/2021\tLuis Cezar Paula\n",
      "EIXO-PAV-2022.06476\tSPA-196/331\t165.0\t29/06/2022\tMarco Martins\n",
      "EIXO-default-2021.09588\tSPA-198/304\t118.571\t31/03/2021\tLuis Carlos Soares\n",
      "EIXO-FDO-2021.16301\tSPA-198/304\t0.68\t22/10/2021\tJonathan Henrique da Silva\n",
      "EIXO-DRE-2021.25594\tSPA-198/304\t2.22\t23/11/2021\tRogerio Fernando Rosa Queiroz\n",
      "EIXO-DRE-2021.26216\tSPA-198/304\t189.0\t15/12/2021\tRogerio Fernando Rosa Queiroz\n",
      "EIXO-CON-2022.00834\tSPA-198/304\t0.87\t28/03/2022\tMagno Cristiano Pinto Frimino\n",
      "EIXO-CON-2022.00835\tSPA-198/304\t0.84\t28/03/2022\tMagno Cristiano Pinto Frimino\n",
      "EIXO-FDO-2022.17678\tSPA-198/304\t0.6500000029156486\t16/06/2022\tPatrik Silva Pinheiro\n",
      "EIXO-FDO-2022.17679\tSPA-198/304\t0.6500000029156486\t16/06/2022\tWilson Soares da Silva\n",
      "EIXO-default-2022.34173\tSPA-198/304\t0.6500000029156486\t20/08/2022\tCicero Frutuoso da Silva\n",
      "EIXO-FDO-2021.09610\tSPA-200/310\t62.5\t29/07/2021\tGilvan Inativo\n",
      "EIXO-FDO-2022.13652\tSPA-200/310\t10.5\t04/05/2022\tLeomar Pereira Maciel\n",
      "EIXO-default-2022.23072\tSPA-200/310\t143.0\t24/06/2022\tLeandro Felice Franca Dos Santos\n",
      "EIXO-FDO-2022.26657\tSPA-200/310\t171.0\t26/09/2022\tKaio Teixeira Simoes De Oliveira\n",
      "EIXO-FDO-2022.26660\tSPA-200/310\t223.0\t26/09/2022\tKaio Teixeira Simoes De Oliveira\n",
      "EIXO-FDO-2021.05142\tSPA-201/304\t108.0\t29/05/2021\tEzequiel Geremias\n",
      "EIXO-FDO-2021.13341\tSPA-201/304\t2.0\t11/09/2021\tRogerio Fernando Rosa Queiroz\n",
      "EIXO-default-2021.38737\tSPA-201/304\t2.0\t23/09/2021\tDavid Sardinha\n",
      "EIXO-default-2021.38740\tSPA-201/304\t1.9800000088825127\t23/09/2021\tDavid Sardinha\n",
      "EIXO-default-2021.38752\tSPA-201/304\t2.0\t23/09/2021\tDavid Sardinha\n",
      "EIXO-FDO-2021.21390\tSPA-201/304\t2.006\t13/12/2021\tPatrik Silva Pinheiro\n",
      "EIXO-FDO-2022.10352\tSPA-201/304\t177.75\t04/04/2022\tRogerio Fernando Rosa Queiroz\n",
      "EIXO-FDO-2022.17574\tSPA-201/304\t1.9800000088830845\t15/06/2022\tCicero Frutuoso da Silva\n",
      "EIXO-FDO-2022.21405\tSPA-201/304\t17.5\t28/07/2022\tCicero Frutuoso da Silva\n",
      "EIXO-CON-2022.06003\tSPA-201/304\t185.139\t22/09/2022\tDavid Sardinha\n",
      "EIXO-DRE-2020.06811\tSPA-223/304\t237.65\t19/11/2020\tJoão Carlos Dias\n",
      "EIXO-DRE-2020.08873\tSPA-223/304\t235.723\t15/12/2020\tOrlei dos Santos\n",
      "EIXO-FDO-2021.03827\tSPA-223/304\t218.0\t16/04/2021\tFabricio Critiano Spirito\n",
      "EIXO-default-2021.14363\tSPA-223/304\t2.95\t19/05/2021\tRosiane Costa\n",
      "EIXO-default-2021.14364\tSPA-223/304\t2.95\t19/05/2021\tRosiane Costa\n",
      "EIXO-default-2022.27946\tSPA-223/304\t223149.0\t22/07/2022\tMarcio Leandro Orpinelli\n",
      "EIXO-default-2022.27947\tSPA-223/304\t223140.0\t22/07/2022\tMarcio Leandro Orpinelli\n",
      "EIXO-DRE-2020.06801\tSPA-227/304\t227.038\t19/11/2020\tJoão Deivid Oliveira\n",
      "EIXO-DRE-2021.11556\tSPA-227/304\t1.07\t01/07/2021\tRosiane Costa\n",
      "EIXO-DRE-2021.11557\tSPA-227/304\t1.07\t01/07/2021\tRosiane Costa\n",
      "EIXO-DRE-2021.11559\tSPA-227/304\t1.01\t01/07/2021\tRosiane Costa\n",
      "EIXO-DRE-2021.12114\tSPA-227/304\t1.07\t01/07/2021\tRosiane Costa\n",
      "EIXO-DRE-2021.12115\tSPA-227/304\t1.07\t01/07/2021\tRosiane Costa\n",
      "EIXO-DRE-2021.12117\tSPA-227/304\t1.01\t01/07/2021\tRosiane Costa\n",
      "EIXO-default-2021.28453\tSPA-227/304\t1.123\t27/07/2021\tCelso Adriano Madasqui\n",
      "EIXO-default-2021.28461\tSPA-227/304\t1.005\t27/07/2021\tCelso Adriano Madasqui\n",
      "EIXO-default-2021.28462\tSPA-227/304\t1.055\t27/07/2021\tCelso Adriano Madasqui\n",
      "EIXO-default-2021.28463\tSPA-227/304\t1.105\t27/07/2021\tCelso Adriano Madasqui\n",
      "EIXO-default-2021.28464\tSPA-227/304\t1.315\t27/07/2021\tCelso Adriano Madasqui\n",
      "EIXO-FDO-2021.13841\tSPA-227/304\t1.1\t16/09/2021\tEzequiel Geremias\n",
      "EIXO-DRE-2021.23733\tSPA-227/304\t1.2055\t29/10/2021\tMarcelo Firmino de Souza\n",
      "EIXO-DRE-2020.00990\tSPA-228/225\t1440.0\t29/07/2020\tLuis Cezar Paula\n",
      "EIXO-LV-2020.13407\tSPA-228/225\t50.0\t24/10/2020\tGilvan Inativo\n",
      "EIXO-default-2021.00804\tSPA-228/225\t173.0\t12/01/2021\tKenedy Cardoso\n",
      "EIXO-DRE-2021.03303\tSPA-360/294\t0.0\t04/05/2021\tTaynara Ribeiro\n",
      "EIXO-DRE-2021.03304\tSPA-360/294\t0.0\t04/05/2021\tTaynara Ribeiro\n",
      "EIXO-SIN-2020.06250\tSPA-402/294\t3.5\t19/10/2020\tMichael Gabriel\n",
      "EIXO-LV-2022.09522\tSPA-402/294\t3.3\t23/06/2022\tMarcelo Rodrigues\n",
      "EIXO-FDO-2020.03856\tSPA-420/294\t407.0\t17/09/2020\tAdolfo Arten\n",
      "EIXO-SIN-2020.06299\tSPA-420/294\t5.0\t20/10/2020\tMichael Gabriel\n",
      "EIXO-DRE-2020.06739\tSPA-420/294\t355.0\t18/11/2020\tAdolfo Arten\n",
      "EIXO-PAV-2020.08386\tSPA-431/425\t111.126\t21/11/2020\tRonaldo Paulineli\n",
      "EIXO-DRE-2021.03941\tSPA-431/425\t600.0\t27/05/2021\tAtílio Coradine\n",
      "EIXO-FDO-2021.06846\tSPA-431/425\t15.0\t01/07/2021\tTiago Santos da Costa\n",
      "EIXO-default-2021.34079\tSPA-431/425\t15.0\t27/08/2021\tJean Rocha\n",
      "EIXO-FDO-2021.13996\tSPA-431/425\t14.985000067235754\t20/09/2021\tAntonio Barbosa\n",
      "EIXO-default-2021.41013\tSPA-431/425\t14.9850000672358\t05/10/2021\tAntonio Barbosa\n",
      "EIXO-default-2021.41234\tSPA-431/425\t14.9850000672358\t05/10/2021\tIreneu Vieira dos Santos\n",
      "EIXO-default-2021.47001\tSPA-431/425\t15.3\t30/11/2021\tJean Rocha\n",
      "EIXO-default-2021.47002\tSPA-431/425\t15.0\t30/11/2021\tJean Rocha\n",
      "EIXO-default-2021.47711\tSPA-431/425\t14.9850000672358\t02/12/2021\tIreneu Vieira dos Santos\n",
      "EIXO-default-2021.47713\tSPA-431/425\t14.9850000672358\t02/12/2021\tIreneu Vieira dos Santos\n",
      "EIXO-default-2021.47714\tSPA-431/425\t14.9850000672358\t02/12/2021\tIreneu Vieira dos Santos\n",
      "EIXO-default-2021.47715\tSPA-431/425\t14.9850000672358\t02/12/2021\tIreneu Vieira dos Santos\n",
      "EIXO-default-2021.47716\tSPA-431/425\t14.9850000672358\t02/12/2021\tIreneu Vieira dos Santos\n",
      "EIXO-default-2021.48558\tSPA-431/425\t14.9850000672358\t10/12/2021\tIreneu Vieira dos Santos\n",
      "EIXO-default-2021.48559\tSPA-431/425\t14.9850000672358\t10/12/2021\tIreneu Vieira dos Santos\n",
      "EIXO-PAV-2021.10221\tSPA-431/425\t14.985000067233658\t29/12/2021\tAntonio Barbosa\n",
      "EIXO-PAV-2021.10222\tSPA-431/425\t14.985000067233658\t29/12/2021\tAntonio Barbosa\n",
      "EIXO-default-2022.06598\tSPA-431/425\t15.0\t02/03/2022\tJean Rocha\n",
      "EIXO-default-2022.15839\tSPA-431/425\t14.985000067235754\t09/05/2022\tReginaldo Alves\n",
      "EIXO-default-2022.18338\tSPA-431/425\t14.985000067233658\t23/05/2022\tRogério Furtado dos Santos\n",
      "EIXO-default-2022.20655\tSPA-431/425\t14.985000067233658\t06/06/2022\tLuiz Gustavo Serra de Sá\n",
      "EIXO-default-2022.20656\tSPA-431/425\t14.985000067233658\t06/06/2022\tLuiz Gustavo Serra de Sá\n",
      "EIXO-default-2022.20657\tSPA-431/425\t14.985000067233658\t06/06/2022\tLuiz Gustavo Serra de Sá\n",
      "EIXO-default-2022.20658\tSPA-431/425\t14.985000067233658\t06/06/2022\tLuiz Gustavo Serra de Sá\n",
      "EIXO-default-2022.20659\tSPA-431/425\t14.985000067233658\t06/06/2022\tLuiz Gustavo Serra de Sá\n",
      "EIXO-default-2022.20660\tSPA-431/425\t14.985000067233658\t06/06/2022\tLuiz Gustavo Serra de Sá\n",
      "EIXO-default-2022.20661\tSPA-431/425\t14.985000067233658\t06/06/2022\tLuiz Gustavo Serra de Sá\n",
      "EIXO-default-2022.20662\tSPA-431/425\t14.985000067233658\t06/06/2022\tLuiz Gustavo Serra de Sá\n",
      "EIXO-default-2022.20663\tSPA-431/425\t14.985000067233658\t06/06/2022\tLuiz Gustavo Serra de Sá\n",
      "EIXO-default-2022.20664\tSPA-431/425\t14.985000067233658\t06/06/2022\tLuiz Gustavo Serra de Sá\n",
      "EIXO-default-2022.20665\tSPA-431/425\t14.985000067233658\t06/06/2022\tLuiz Gustavo Serra de Sá\n",
      "EIXO-default-2022.20666\tSPA-431/425\t14.985000067233658\t06/06/2022\tLuiz Gustavo Serra de Sá\n",
      "EIXO-default-2022.20667\tSPA-431/425\t14.985000067233658\t06/06/2022\tLuiz Gustavo Serra de Sá\n",
      "EIXO-default-2022.20668\tSPA-431/425\t14.985000067233658\t06/06/2022\tLuiz Gustavo Serra de Sá\n",
      "EIXO-SIN-2020.07423\tSPA-437/425\t4.081\t07/11/2020\tAnísio Pereira da Silva\n",
      "EIXO-FDO-2022.11333\tSPA-437/425\t3.0\t11/04/2022\tJean Rocha\n",
      "EIXO-PAV-2022.04723\tSPA-437/425\t435.012\t12/04/2022\tDaniel Perez de Godoy\n",
      "EIXO-default-2021.03810\tSPA-475/284\t0.387000001734568\t10/02/2021\tReginaldo Alves\n",
      "EIXO-default-2021.03812\tSPA-475/284\t0.387000001734568\t10/02/2021\tReginaldo Alves\n",
      "EIXO-DRE-2021.03052\tSPA-475/284\t0.387000001734568\t22/04/2021\tFelipe Bulhoes\n",
      "EIXO-PAV-2021.02749\tSPA-475/284\t0.387000001734568\t26/05/2021\tDaniel Perez de Godoy\n",
      "EIXO-PAV-2021.02776\tSPA-475/284\t0.387000001734568\t28/05/2021\tDaniel Perez de Godoy\n",
      "EIXO-FDO-2021.08571\tSPA-475/284\t0.387000001734568\t20/07/2021\tAntonio Barbosa\n",
      "EIXO-default-2021.27218\tSPA-475/284\t0.387000001734568\t21/07/2021\tAnderson dos Santos Lopes\n",
      "EIXO-default-2021.27219\tSPA-475/284\t0.387000001734568\t21/07/2021\tAnderson dos Santos Lopes\n",
      "EIXO-default-2022.18207\tSPA-475/284\t0.3870000017368251\t20/05/2022\tLuiz Gustavo Serra de Sá\n",
      "EIXO-default-2022.18208\tSPA-475/284\t0.3870000017368251\t20/05/2022\tLuiz Gustavo Serra de Sá\n",
      "EIXO-default-2022.18209\tSPA-475/284\t0.3870000017368251\t20/05/2022\tLuiz Gustavo Serra de Sá\n",
      "EIXO-default-2021.15569\tSPA-504/284\t504.04\t21/05/2021\tJhone Jeferson Leite da Silva\n",
      "EIXO-FDO-2021.15308\tSPA-517/284\t517.0\t05/10/2021\tCristiano Fernandes de Castro\n",
      "EIXO-default-2021.46943\tSPA-517/284\t0.2\t30/11/2021\tJean Rocha\n",
      "EIXO-default-2021.46944\tSPA-517/284\t0.45\t30/11/2021\tJean Rocha\n",
      "EIXO-default-2021.49886\tSPA-517/284\t2.1\t29/12/2021\tJean Rocha\n",
      "EIXO-FDO-2022.15459\tSPA-517/284\t530.0\t23/05/2022\tMATHEUS ROSENDO GOMES DA ROCHA\n",
      "EIXO-FDO-2022.15785\tSPA-517/284\t522.0\t26/05/2022\tMATHEUS ROSENDO GOMES DA ROCHA\n",
      "EIXO-default-2021.44320\tSPA-570/294\t17.0\t27/10/2021\tAntonio Marcos Felipe\n",
      "EIXO-DRE-2022.00584\tSPA-570/294\t13.2\t11/01/2022\tJean Rocha\n",
      "EIXO-DRE-2022.00585\tSPA-570/294\t13.5\t11/01/2022\tJean Rocha\n",
      "EIXO-DRE-2022.00596\tSPA-570/294\t13.2\t11/01/2022\tJean Rocha\n",
      "EIXO-DRE-2022.00597\tSPA-570/294\t13.5\t11/01/2022\tJean Rocha\n",
      "EIXO-PAV-2022.01247\tSPA-570/294\t14.5\t23/01/2022\tIntegração TOR\n",
      "EIXO-PAV-2022.01248\tSPA-570/294\t13.5\t23/01/2022\tIntegração TOR\n",
      "EIXO-FDO-2022.02494\tSPA-570/294\t13.8\t23/01/2022\tIntegração TOR\n",
      "EIXO-default-2022.15598\tSPA-570/294\t90.9534\t06/05/2022\tAtílio Coradine\n",
      "EIXO-DRE-2022.11216\tSPA-570/294\t4.955\t15/06/2022\tLucas Leite\n",
      "EIXO-DRE-2022.11217\tSPA-570/294\t4.95\t15/06/2022\tLucas Leite\n",
      "EIXO-DRE-2022.11218\tSPA-570/294\t4.95\t15/06/2022\tLucas Leite\n",
      "EIXO-DRE-2022.11219\tSPA-570/294\t4.96\t15/06/2022\tLucas Leite\n",
      "EIXO-DRE-2022.11220\tSPA-570/294\t4.96\t15/06/2022\tLucas Leite\n",
      "EIXO-DRE-2022.11221\tSPA-570/294\t4.965\t15/06/2022\tLucas Leite\n",
      "EIXO-DRE-2022.11222\tSPA-570/294\t4.97\t15/06/2022\tLucas Leite\n",
      "EIXO-FDO-2022.21797\tSPA-570/294\t1.1\t02/08/2022\tErigelson Santos da Costa\n",
      "EIXO-LV-2022.13578\tSPA-570/294\t4.916\t08/09/2022\tMarco Aurélio de Souza Perez\n",
      "EIXO-LV-2022.13671\tSPA-570/294\t4.916\t08/09/2022\tMarco Aurélio de Souza Perez\n",
      "EIXO-CON-2022.05835\tSPA-570/294\t16.845000003791334\t09/09/2022\tAtílio Coradine\n",
      "EIXO-PAV-2021.00662\tSPA-571/294\t16.0\t31/01/2021\tIntegração TOR\n",
      "EIXO-default-2021.16032\tSPA-571/294\t16.6\t22/05/2021\tAtílio Coradine\n",
      "EIXO-PAV-2021.04019\tSPA-571/294\t15.7701512874404\t14/07/2021\tOdeildo Kum\n",
      "EIXO-PAV-2021.04020\tSPA-571/294\t15.8000000035897\t14/07/2021\tOdeildo Kum\n",
      "EIXO-PAV-2021.04021\tSPA-571/294\t15.8000000035897\t14/07/2021\tOdeildo Kum\n",
      "EIXO-default-2022.29200\tSPA-571/294\t15.700000003139614\t30/07/2022\tLuiz Gustavo Serra de Sá\n",
      "EIXO-default-2022.29201\tSPA-571/294\t15.700000003139614\t30/07/2022\tLuiz Gustavo Serra de Sá\n",
      "EIXO-SIN-2020.06411\tSPA-578/294\t3.132\t21/10/2020\tAnísio Pereira da Silva\n",
      "EIXO-default-2021.15827\tSPA-578/294\t1.6\t21/05/2021\tAtílio Coradine\n",
      "EIXO-DRE-2021.09307\tSPA-578/294\t1.445\t30/06/2021\tFelipe Bulhoes\n",
      "EIXO-default-2021.45958\tSPA-578/294\t1.31000000587836\t16/11/2021\tAdalberto Rodrigues Carvalho\n",
      "EIXO-default-2021.46123\tSPA-578/294\t578.3\t17/11/2021\tJeferson Balancieri\n",
      "EIXO-DRE-2022.11278\tSPA-578/294\t1.33\t15/06/2022\tLucas Leite\n",
      "EIXO-DRE-2022.11279\tSPA-578/294\t1.92\t15/06/2022\tLucas Leite\n",
      "EIXO-default-2022.25102\tSPA-578/294\t1.3100000058797256\t08/07/2022\tIreneu Vieira dos Santos\n",
      "EIXO-default-2022.29266\tSPA-578/294\t1.3100000058776702\t30/07/2022\tLuiz Gustavo Serra de Sá\n",
      "EIXO-default-2022.29295\tSPA-578/294\t1.3100000058776702\t30/07/2022\tLuiz Gustavo Serra de Sá\n",
      "EIXO-default-2022.29296\tSPA-578/294\t1.3100000058776702\t30/07/2022\tLuiz Gustavo Serra de Sá\n",
      "EIXO-default-2020.01283\tSPA-605/294\t605.209\t26/11/2020\tAnísio Pereira da Silva\n",
      "EIXO-default-2020.03524\tSPA-605/294\t602.072\t17/12/2020\tAnísio Pereira da Silva\n",
      "EIXO-default-2021.08011\tSPA-605/294\t605.652\t24/03/2021\tAnísio Pereira da Silva\n",
      "EIXO-FDO-2021.05184\tSPA-616/294\t617.5\t01/06/2021\tAlex Souza Pereira\n",
      "EIXO-default-2022.36725\tSPA-617/294\t0.65\t05/09/2022\tLuiz Gustavo Serra de Sá\n",
      "EIXO-default-2022.36726\tSPA-617/294\t0.6\t05/09/2022\tLuiz Gustavo Serra de Sá\n",
      "EIXO-default-2022.36727\tSPA-617/294\t0.5\t05/09/2022\tLuiz Gustavo Serra de Sá\n",
      "EIXO-default-2022.36728\tSPA-617/294\t0.2\t05/09/2022\tLuiz Gustavo Serra de Sá\n",
      "EIXO-default-2022.36732\tSPA-617/294\t0.2\t05/09/2022\tLuiz Gustavo Serra de Sá\n",
      "EIXO-default-2022.36733\tSPA-617/294\t0.25\t05/09/2022\tLuiz Gustavo Serra de Sá\n",
      "EIXO-default-2022.36734\tSPA-617/294\t0.35\t05/09/2022\tLuiz Gustavo Serra de Sá\n",
      "EIXO-default-2022.36735\tSPA-617/294\t0.7\t05/09/2022\tLuiz Gustavo Serra de Sá\n",
      "EIXO-default-2022.36736\tSPA-617/294\t0.85\t05/09/2022\tLuiz Gustavo Serra de Sá\n",
      "EIXO-default-2021.37225\tSPA-627/294\t3.6\t17/09/2021\tJeferson Balancieri\n",
      "EIXO-FDO-2021.08629\tSPA-658/294\t653.0\t20/07/2021\tHélio Rocha de Souza\n",
      "EIXO-FDO-2021.11152\tSPA-658/294\t30.0\t18/08/2021\tAdrielly Duarte\n",
      "EIXO-FDO-2022.16386\tSPA-658/294\t5.0\t01/06/2022\tAtílio Coradine\n",
      "EIXO-default-2021.42267\tSPA-683/294\t4.7\t13/10/2021\tJean Rocha\n",
      "EIXO-default-2021.45972\tSPA-683/294\t2.20500000540544\t16/11/2021\tAdalberto Rodrigues Carvalho\n",
      "EIXO-PAV-2021.10143\tSPA-683/294\t2.201367925831983\t22/12/2021\tAntonio Barbosa\n",
      "EIXO-PAV-2021.10144\tSPA-683/294\t1.97911012343119\t22/12/2021\tAntonio Barbosa\n",
      "EIXO-PAV-2021.10145\tSPA-683/294\t1.9244700796374432\t22/12/2021\tAntonio Barbosa\n",
      "EIXO-default-2021.49704\tSPA-683/294\t1.8409191606409299\t27/12/2021\tZenilson Pereira da Silva\n",
      "EIXO-default-2022.05279\tSPA-683/294\t2.115073547607727\t17/02/2022\tMarco Antônio Ferreira\n",
      "EIXO-FDO-2022.10488\tSPA-683/294\t1.838287182564708\t05/04/2022\tReginaldo Alves\n",
      "EIXO-FDO-2022.14956\tSPA-683/294\t1.8358874100585445\t18/05/2022\tLuiz Fernando Venezian\n",
      "EIXO-default-2022.28952\tSPA-683/294\t1.8233252846760752\t28/07/2022\tLuiz Gustavo Serra de Sá\n",
      "EIXO-default-2022.28953\tSPA-683/294\t1.8233252846760752\t28/07/2022\tLuiz Gustavo Serra de Sá\n",
      "EIXO-default-2022.28954\tSPA-683/294\t2.011445861050138\t28/07/2022\tLuiz Gustavo Serra de Sá\n",
      "EIXO-default-2022.28955\tSPA-683/294\t2.135711692888983\t28/07/2022\tLuiz Gustavo Serra de Sá\n",
      "EIXO-default-2022.28956\tSPA-683/294\t2.205000005405444\t28/07/2022\tLuiz Gustavo Serra de Sá\n",
      "EIXO-default-2022.28957\tSPA-683/294\t2.205000005405444\t28/07/2022\tLuiz Gustavo Serra de Sá\n",
      "EIXO-default-2022.28958\tSPA-683/294\t2.205000005405444\t28/07/2022\tLuiz Gustavo Serra de Sá\n",
      "EIXO-default-2022.28959\tSPA-683/294\t2.205000005405444\t28/07/2022\tLuiz Gustavo Serra de Sá\n",
      "EIXO-default-2022.28960\tSPA-683/294\t2.205000005405444\t28/07/2022\tLuiz Gustavo Serra de Sá\n",
      "EIXO-default-2022.28961\tSPA-683/294\t2.205000005405444\t28/07/2022\tLuiz Gustavo Serra de Sá\n",
      "EIXO-default-2022.28962\tSPA-683/294\t2.201367925831983\t28/07/2022\tLuiz Gustavo Serra de Sá\n",
      "EIXO-default-2022.28963\tSPA-683/294\t2.201367925831983\t28/07/2022\tLuiz Gustavo Serra de Sá\n",
      "EIXO-default-2022.28964\tSPA-683/294\t2.201367925831983\t28/07/2022\tLuiz Gustavo Serra de Sá\n",
      "EIXO-default-2022.28965\tSPA-683/294\t2.153872471542173\t28/07/2022\tLuiz Gustavo Serra de Sá\n",
      "EIXO-default-2022.28966\tSPA-683/294\t2.136334075123106\t28/07/2022\tLuiz Gustavo Serra de Sá\n",
      "EIXO-default-2022.28967\tSPA-683/294\t1.9108964062033285\t28/07/2022\tLuiz Gustavo Serra de Sá\n",
      "EIXO-default-2022.28968\tSPA-683/294\t1.8368830616080472\t28/07/2022\tLuiz Gustavo Serra de Sá\n",
      "EIXO-default-2022.28969\tSPA-683/294\t1.8368830616080472\t28/07/2022\tLuiz Gustavo Serra de Sá\n",
      "EIXO-FDO-2020.05986\tSPI-083/191\t87.9\t13/11/2020\tDavid Sardinha\n",
      "EIXO-FDO-2020.06053\tSPI-083/191\t87.9\t16/11/2020\tDavid Sardinha\n",
      "EIXO-FDO-2020.06214\tSPI-083/191\t87.9\t20/11/2020\tDavid Sardinha\n",
      "EIXO-default-2021.19567\tSPI-083/191\t82.46\t16/06/2021\tAtala Santos\n",
      "EIXO-default-2021.19767\tSPI-083/191\t82.455\t17/06/2021\tAtala Santos\n",
      "EIXO-default-2022.12971\tSPI-083/191\t10.36000000610145\t27/04/2022\tJomar Benedito Adorno\n",
      "EIXO-default-2022.16388\tSPI-083/191\t10.36000000610145\t11/05/2022\tDavid Sardinha\n",
      "EIXO-default-2022.16389\tSPI-083/191\t10.362\t11/05/2022\tDavid Sardinha\n",
      "EIXO-default-2022.16614\tSPI-083/191\t10.36000000610145\t12/05/2022\tDavid Sardinha\n",
      "EIXO-default-2022.27189\tSPI-083/191\t4950.0\t20/07/2022\tMarcio Leandro Orpinelli\n",
      "EIXO-default-2022.27190\tSPI-083/191\t4950.0\t20/07/2022\tMarcio Leandro Orpinelli\n",
      "EIXO-FDO-2020.05071\tSPI-194/308\t250.0\t20/10/2020\tRoberto Carlos de Paula\n",
      "EIXO-FDO-2021.00120\tSPI-194/308\t3.0\t05/01/2021\tOrlei dos Santos\n",
      "EIXO-default-2021.03470\tSPI-194/308\t3.044\t08/02/2021\tDaniela Garcia\n",
      "EIXO-default-2021.03471\tSPI-194/308\t3.044\t08/02/2021\tDaniela Garcia\n",
      "EIXO-default-2021.08099\tSPI-194/308\t3.0\t24/03/2021\tDaniela Garcia\n",
      "EIXO-DRE-2021.12943\tSPI-194/308\t3.1\t01/07/2021\tRosiane Costa\n",
      "EIXO-DRE-2021.12944\tSPI-194/308\t3.05\t01/07/2021\tRosiane Costa\n",
      "EIXO-DRE-2021.12945\tSPI-194/308\t2.99\t01/07/2021\tRosiane Costa\n",
      "EIXO-DRE-2021.12946\tSPI-194/308\t2.988\t01/07/2021\tRosiane Costa\n",
      "EIXO-DRE-2021.12959\tSPI-194/308\t3.05\t01/07/2021\tRosiane Costa\n",
      "EIXO-DRE-2021.13909\tSPI-194/308\t2.996\t01/07/2021\tRosiane Costa\n",
      "EIXO-DRE-2021.18103\tSPI-194/308\t3.09\t20/07/2021\tRosiane Costa\n",
      "EIXO-DRE-2021.18104\tSPI-194/308\t3.08\t20/07/2021\tRosiane Costa\n",
      "EIXO-FDO-2021.13340\tSPI-194/308\t3.0\t11/09/2021\tRogerio Fernando Rosa Queiroz\n",
      "EIXO-DRE-2022.00063\tSPI-194/308\t3.1000000139076813\t04/01/2022\tOdeildo Kum\n",
      "EIXO-default-2022.01099\tSPI-194/308\t3.1000000139076813\t09/01/2022\tDavid Sardinha\n",
      "EIXO-DRE-2022.00778\tSPI-194/308\t3.1000000139087\t18/01/2022\tMarcelo Firmino de Souza\n",
      "EIXO-FDO-2022.07907\tSPI-194/308\t3.1000000139076813\t15/03/2022\tSandro da Silva Franco\n",
      "EIXO-FDO-2022.08019\tSPI-194/308\t194.0\t15/03/2022\tMarcio de Jesus\n",
      "EIXO-default-2022.15619\tSPI-194/308\t3.1000000139076813\t06/05/2022\tDavid Sardinha\n",
      "EIXO-PAVR-2022.00162\tSPI-194/308\t293.98\t26/08/2022\tMagno Cristiano Pinto Frimino\n"
     ]
    }
   ],
   "source": [
    "print(f'Número\\tRodovia\\tKm\\tCriado em\\tCriado por')\n",
    "for a in reps:\n",
    "    print(f'{a.number}\\t{a.road_name}\\t{a.km}\\t{a.created_at.strftime(\"%d/%m/%Y\")}\\t{a.created_by.get_full_name()}')"
   ]
  },
  {
   "cell_type": "code",
   "execution_count": 20,
   "metadata": {},
   "outputs": [
    {
     "data": {
      "application/vnd.jupyter.widget-view+json": {
       "model_id": "90c3adca05654edc87394c5644d29812",
       "version_major": 2,
       "version_minor": 0
      },
      "text/plain": [
       "  0%|          | 0/4161 [00:00<?, ?it/s]"
      ]
     },
     "metadata": {},
     "output_type": "display_data"
    }
   ],
   "source": [
    "reps_edit=[]\n",
    "counter=0\n",
    "\n",
    "for a in tqdm(reps):\n",
    "    \n",
    "    data = {\"data\": {\"km\": a.km}}\n",
    "    \n",
    "    try:\n",
    "        lot=jsonLogic(a.road.lot_logic, data)\n",
    "        if lot is None:\n",
    "            counter+=1\n",
    "        else:\n",
    "            a.lot=lot\n",
    "            reps_edit.append(a)\n",
    "    except Exception:\n",
    "        counter+=1"
   ]
  },
  {
   "cell_type": "code",
   "execution_count": 22,
   "metadata": {},
   "outputs": [],
   "source": [
    "# reporting_edit=bulk_update_with_history(reps_edit, Reporting, user=user, use_django_bulk=True, batch_size=100)"
   ]
  },
  {
   "cell_type": "code",
   "execution_count": 53,
   "metadata": {},
   "outputs": [],
   "source": [
    "user=UserInCompany.history.model.objects.filter(user__username='edmar.werner').order_by('history_date')"
   ]
  },
  {
   "cell_type": "code",
   "execution_count": 54,
   "metadata": {},
   "outputs": [
    {
     "name": "stdout",
     "output_type": "stream",
     "text": [
      "['Neovia Ponte Serrada', 'Neovia Oeste'] - Encarregado 2022-09-19 12:09:33.668706+00:00 carlos.dahora - Carlos da Hora +\n",
      "['Neovia Juquitiba', 'Neovia Rancho Queimado 080/2021', 'Brusque', 'Neovia Vacaria', 'Arteris Litoral Sul', 'SETA', 'Neovia Planalto Sul', 'Neovia Lev. BR277', 'Fratello MT-220 Porto dos Gaúchos', 'Dalba L14', 'Arteris Via Paulista - SISOBRAS', 'Neovia - TESTE', 'SETA', 'Arteris Régis Bittencourt - Conserva', 'VF Gomes - BR158', 'Neovia Teste', 'Neovia Florianópolis', 'PoC SISOAE', 'Neovia Tijucas', 'Campina Grande', 'Teste Migração', 'Neovia Araquari 886/2020', 'Porto Itapoá', 'Neovia Lages 421/2014', 'Teste Concessionárias', 'Neovia Regis', 'Arteris Planalto Sul - Con', 'TESTE - CONCESSIONÁRIA', 'ECOPISTAS', 'VF Gomes - 455', 'Teste Integração - OptGIS', 'VF Gomes - 350', 'MTSUL - Cláudia', 'Demonstração - SISOBRAS', 'Neovia BR-285', 'Fratello MT-130 Paranatinga', 'POC-Projeto APR', 'Afirma Engenharia Viária', 'CV Seg - Via Sul', \"Neovia Pérola d'Oeste\", 'Demo Concessionárias - 10/2020', 'VF Gomes - 358', 'Eixo SP - PoC', 'Neovia Lagoa Vermelha', 'Teste Integração - Fadami', 'Arteris Fluminense', 'Fratello BR-174/MT Pontes e Lacerda', 'Neovia São Bento 533/2014', 'Dalba L18', 'Neovia Oeste', 'Arteris Régis Bittencourt Lab', 'Sanson', 'ELO SP Vias', 'Arteris Fluminense - Teste Segurança', 'Neovia CART', 'Teste Integração - KCOR', 'Eixo SP', 'Demo Teste', 'Arteris Planalto Sul Lab', 'CART', 'Neovia CCR Rodonorte', 'VF Gomes - BR163', 'Pavicolet', 'Neovia Campo Mourão 213/2019', 'Arteris Planalto Sul - Conserva Teste', 'ELO Teste', 'Triunfo Concebra - TESTE', 'CAJ', 'Arteris Litoral Sul Lab', 'Arteris Via Paulista - SISOAE', 'Neovia Alcinópolis', 'Neovia Bocaína do Sul 329/2018', 'Neovia Cto Biguaçu', 'Dalba Guarapuava', 'VF Gomes - BR010', 'Dalba Guarapuava -Lote A', 'Arteris Fernão Dias', 'Projeto Formulários Arteris', 'Neovia Chapecó', 'Eixo SP - SISOAE', 'Arteris Litoral Sul - Conserva', 'Neovia Coronel Vivida', 'Castilho Umuarama', 'MTSUL - Matupá', 'SinalTraffic - Parnaíba', 'SinalTraffic - Teresina', 'Arteris Planalto Sul', 'Neovia Lages 652/2019', 'VF Gomes - Nova Lacerda', 'APG Engenharia', 'Arteris Régis Bittencourt', 'Future', 'Via Brasil SISQUALI', 'Via Brasil', 'Cora Duarte - Ecosul', 'VF Gomes - Vila Bela', 'Neovia General Carneiro', 'Módulo Basico', 'Neovia Diamantino', 'Entrevias', 'Demo Concessionárias', 'VF Gomes - Porto Espiridião', 'Rota do Oeste', 'Arteris Intervias', 'Neovia Contorno Sul', 'Ambiente Teste', 'Teste Empreitera', 'Kartado | SIGACO', 'VF Gomes - Confresa', 'Neovia Ponte Serrada', 'Arteris Fernão Dias - Conserva', 'Arteris Via Paulista', 'Demo - Concessionárias', 'Arteris Planalto Sul - Conserva', 'Arteris Fluminense - Conserva', 'UHE-ITA', 'TESTE EMPREITEIRA 2', 'DEMO', 'TESTE EMPREITEIRA 3', 'Demonstração - Eixo SP'] - Inativo 2022-09-27 19:12:16.305673+00:00 None ~\n",
      "['Neovia Ponte Serrada', 'Neovia Oeste'] - Encarregado 2022-09-27 21:27:20.455931+00:00 None ~\n"
     ]
    }
   ],
   "source": [
    "for a in user:\n",
    "    print(a.permissions, a.history_date, a.history_user, a.history_type)"
   ]
  },
  {
   "cell_type": "markdown",
   "metadata": {},
   "source": [
    "  "
   ]
  },
  {
   "cell_type": "code",
   "execution_count": 2,
   "metadata": {},
   "outputs": [],
   "source": [
    "lista=[\"EIXO-default-2022.42574\",\n",
    "\"EIXO-default-2022.42573\",\n",
    "\"EIXO-default-2022.42572\",\n",
    "\"EIXO-default-2022.42555\",\n",
    "\"EIXO-default-2022.42554\",\n",
    "\"EIXO-default-2022.42553\",\n",
    "\"EIXO-default-2022.42552\"]"
   ]
  },
  {
   "cell_type": "code",
   "execution_count": 3,
   "metadata": {},
   "outputs": [],
   "source": [
    "company=Company.objects.get(name='Eixo SP')\n",
    "user=User.objects.get(username='rlcs')"
   ]
  },
  {
   "cell_type": "code",
   "execution_count": 4,
   "metadata": {},
   "outputs": [
    {
     "data": {
      "text/plain": [
       "7"
      ]
     },
     "execution_count": 4,
     "metadata": {},
     "output_type": "execute_result"
    }
   ],
   "source": [
    "reps=Reporting.objects.filter(company=company, number__in=lista)\n",
    "reps.count()"
   ]
  },
  {
   "cell_type": "code",
   "execution_count": 7,
   "metadata": {},
   "outputs": [
    {
     "data": {
      "application/vnd.jupyter.widget-view+json": {
       "model_id": "a651e7ba42fa476d930f4d989c94b841",
       "version_major": 2,
       "version_minor": 0
      },
      "text/plain": [
       "  0%|          | 0/7 [00:00<?, ?it/s]"
      ]
     },
     "metadata": {},
     "output_type": "display_data"
    }
   ],
   "source": [
    "reps_edit=[]\n",
    "counter=0\n",
    "\n",
    "for a in tqdm(reps):\n",
    "    del a.form_data['artesp_code']\n",
    "    if 'nc_artesp' in a.form_data:\n",
    "        del a.form_data['nc_artesp']\n",
    "        counter+=1\n",
    "    reps_edit.append(a)"
   ]
  },
  {
   "cell_type": "code",
   "execution_count": 8,
   "metadata": {},
   "outputs": [],
   "source": [
    "reporting_edit=bulk_update_with_history(reps_edit, Reporting, user=user, use_django_bulk=True, batch_size=100)"
   ]
  },
  {
   "cell_type": "code",
   "execution_count": null,
   "metadata": {},
   "outputs": [],
   "source": []
  }
 ],
 "metadata": {
  "kernelspec": {
   "display_name": "Django Shell-Plus",
   "language": "python",
   "name": "django_extensions"
  },
  "language_info": {
   "codemirror_mode": {
    "name": "ipython",
    "version": 3
   },
   "file_extension": ".py",
   "mimetype": "text/x-python",
   "name": "python",
   "nbconvert_exporter": "python",
   "pygments_lexer": "ipython3",
   "version": "3.7.9"
  }
 },
 "nbformat": 4,
 "nbformat_minor": 2
}
