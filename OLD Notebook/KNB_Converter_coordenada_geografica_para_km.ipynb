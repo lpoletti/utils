{
 "cells": [
  {
   "cell_type": "code",
   "execution_count": 1,
   "id": "8da7c4b4",
   "metadata": {},
   "outputs": [],
   "source": [
    "# requires installing shapely==1.7.1, turfpy, geopandas, pygeos"
   ]
  },
  {
   "cell_type": "code",
   "execution_count": 30,
   "id": "aa35a54a",
   "metadata": {},
   "outputs": [],
   "source": [
    "from django.contrib.gis.geos import Point, LineString as DjangoLineString\n",
    "from django.contrib.gis.db.models.functions import Distance\n",
    "from turfpy.misc import nearest_point_on_line\n",
    "from turfpy.measurement import length\n",
    "from geojson import LineString, loads\n",
    "from helpers.histories import bulk_update_with_history\n",
    "from tqdm.notebook import tqdm"
   ]
  },
  {
   "cell_type": "code",
   "execution_count": 3,
   "id": "8fdc5f55",
   "metadata": {},
   "outputs": [],
   "source": [
    "def findIndex(flist, func):\n",
    "    for i,v in enumerate(flist):\n",
    "        if func(v): \n",
    "            return i\n",
    "    return -1"
   ]
  },
  {
   "cell_type": "code",
   "execution_count": 4,
   "id": "3e0b586c",
   "metadata": {},
   "outputs": [],
   "source": [
    "def point_to_km(lng, lat, company):\n",
    "    point = Point(lng, lat, srid=4326)\n",
    "    roads = Road.objects.filter(company=company).annotate(distance=Distance(point, 'path')).order_by('distance')\n",
    "    road = roads[0]\n",
    "    path = loads(road.path.geojson)\n",
    "    point_geojson = loads(point.geojson)\n",
    "    road_marks = list(road.marks.values())\n",
    "    snap_point = nearest_point_on_line(path, point_geojson)\n",
    "    \n",
    "\n",
    "    road_markers = sorted([a for a in road_marks if 'index' in a or ('index' in a and a['index'] == 0)], key=lambda x: int(x['key']))\n",
    "#     road_markers = sorted([a for a in road_marks if a['index'] or a['index'] == 0], key=lambda x: int(x['key']))\n",
    "    rm_index = findIndex(road_markers, lambda x: x['index'] > snap_point['properties']['index'])\n",
    "    \n",
    "    if (rm_index == -1):\n",
    "        rm_index = len(road_markers) - 1;\n",
    "    \n",
    "    km_marker_start = road_markers[rm_index - 1]\n",
    "    km_marker_end = road_markers[rm_index]\n",
    "    \n",
    "    if km_marker_start['index'] == road_markers[-1]['index']: \n",
    "        snap = road_markers[-1]\n",
    "        km = snap['km']\n",
    "    elif km_marker_end['index'] == road_markers[0]['index']:\n",
    "        snap = road_markers[0]\n",
    "        km = snap['km']\n",
    "    else:\n",
    "        test = path['coordinates'][km_marker_start['index']:km_marker_end['index'] + 1]\n",
    "        marker_path = LineString(test)\n",
    "        snap = nearest_point_on_line(marker_path, point_geojson)        \n",
    "        ls_length = length(marker_path, units=\"km\")\n",
    "        km = ((snap['properties']['location'] / ls_length)        \n",
    "            * (km_marker_end['km'] - km_marker_start['km'])\n",
    "            + km_marker_start['km'])\n",
    "    \n",
    "    return road, road.name, point, round(km, 3)"
   ]
  },
  {
   "cell_type": "code",
   "execution_count": 1,
   "id": "e31d50e6",
   "metadata": {},
   "outputs": [
    {
     "data": {
      "text/plain": [
       "<Company: 4edb7778-e350-4e77-8e1e-de5f87b1da7f: Caminhos da Serra Gaúcha>"
      ]
     },
     "execution_count": 1,
     "metadata": {},
     "output_type": "execute_result"
    }
   ],
   "source": [
    "company=Company.objects.get(name='Caminhos da Serra Gaúcha')\n",
    "company"
   ]
  },
  {
   "cell_type": "code",
   "execution_count": 2,
   "id": "6916ab8b",
   "metadata": {},
   "outputs": [],
   "source": [
    "user=User.objects.get(username=\"rlcs\")"
   ]
  },
  {
   "cell_type": "code",
   "execution_count": 28,
   "id": "8acb491f",
   "metadata": {},
   "outputs": [
    {
     "data": {
      "text/plain": [
       "1259"
      ]
     },
     "execution_count": 28,
     "metadata": {},
     "output_type": "execute_result"
    }
   ],
   "source": [
    "reps = Reporting.objects.filter(company=company,end_km__isnull=False)\n",
    "reps.count()"
   ]
  },
  {
   "cell_type": "code",
   "execution_count": 23,
   "id": "bceac256",
   "metadata": {},
   "outputs": [
    {
     "data": {
      "text/plain": [
       "615.292"
      ]
     },
     "execution_count": 23,
     "metadata": {},
     "output_type": "execute_result"
    }
   ],
   "source": [
    "point_to_km(reps[0].point.x, reps[0].point.y,company)[3]"
   ]
  },
  {
   "cell_type": "code",
   "execution_count": 24,
   "id": "4c8c7c5c",
   "metadata": {},
   "outputs": [
    {
     "data": {
      "text/plain": [
       "615.332"
      ]
     },
     "execution_count": 24,
     "metadata": {},
     "output_type": "execute_result"
    }
   ],
   "source": [
    "reps[0].end_km - reps[0].km + point_to_km(reps[0].point.x, reps[0].point.y,company)[3]"
   ]
  },
  {
   "cell_type": "code",
   "execution_count": 32,
   "id": "2acded1b",
   "metadata": {},
   "outputs": [
    {
     "data": {
      "application/vnd.jupyter.widget-view+json": {
       "model_id": "f63635c946f7420bb79609036f6f8c8f",
       "version_major": 2,
       "version_minor": 0
      },
      "text/plain": [
       "  0%|          | 0/1259 [00:00<?, ?it/s]"
      ]
     },
     "metadata": {},
     "output_type": "display_data"
    }
   ],
   "source": [
    "rep_edit=[]\n",
    "for rep in tqdm(reps):\n",
    "    try:\n",
    "        start = point_to_km(rep.point.x,rep.point.y,company)[3]\n",
    "        end = rep.end_km - rep.km + start\n",
    "        rep.km = start\n",
    "        rep.end_km = end\n",
    "        rep_edit.append(rep)\n",
    "    except Exception as e:\n",
    "        print(e)"
   ]
  },
  {
   "cell_type": "code",
   "execution_count": 34,
   "id": "98c5538b",
   "metadata": {},
   "outputs": [],
   "source": [
    "apont = bulk_update_with_history(rep_edit,Reporting, use_django_bulk=True,batch_size=200,user=user)"
   ]
  },
  {
   "cell_type": "code",
   "execution_count": null,
   "id": "39243f0e",
   "metadata": {},
   "outputs": [],
   "source": []
  }
 ],
 "metadata": {
  "kernelspec": {
   "display_name": "Django Shell-Plus",
   "language": "python",
   "name": "django_extensions"
  },
  "language_info": {
   "codemirror_mode": {
    "name": "ipython",
    "version": 3
   },
   "file_extension": ".py",
   "mimetype": "text/x-python",
   "name": "python",
   "nbconvert_exporter": "python",
   "pygments_lexer": "ipython3",
   "version": "3.7.9"
  }
 },
 "nbformat": 4,
 "nbformat_minor": 5
}
