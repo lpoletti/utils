{
 "cells": [
  {
   "cell_type": "code",
   "execution_count": 1,
   "id": "869e42f8",
   "metadata": {},
   "outputs": [],
   "source": [
    "import pandas as pd\n",
    "import json\n",
    "from tqdm.notebook import tqdm\n",
    "from copy import deepcopy"
   ]
  },
  {
   "cell_type": "code",
   "execution_count": 2,
   "id": "849772fc",
   "metadata": {},
   "outputs": [
    {
     "data": {
      "text/plain": [
       "238"
      ]
     },
     "execution_count": 2,
     "metadata": {},
     "output_type": "execute_result"
    }
   ],
   "source": [
    "occ= OccurrenceType.objects.filter(company__name='CCR - Rio Sp')\n",
    "occ.count()"
   ]
  },
  {
   "cell_type": "code",
   "execution_count": 13,
   "id": "3639d3b3",
   "metadata": {},
   "outputs": [],
   "source": [
    "pd.DataFrame().to_excel('CCR.xlsx')"
   ]
  },
  {
   "cell_type": "code",
   "execution_count": 3,
   "id": "a8a6763f",
   "metadata": {},
   "outputs": [],
   "source": [
    "# json_data = occ.form_fields\n",
    "\n",
    "# Function to serialize the specified columns to JSON-formatted strings with double quotation marks\n",
    "def serialize_columns(df, columns):\n",
    "    for column in columns:\n",
    "        df[column] = df[column].apply(lambda x: json.dumps(x))"
   ]
  },
  {
   "cell_type": "code",
   "execution_count": 4,
   "id": "a584591b",
   "metadata": {},
   "outputs": [],
   "source": [
    "# fields = json_data['fields']\n",
    "def get_df(fields,groups,classe):\n",
    "    columns = ['occ_kind','occ_type','id', 'dataType', 'apiName', 'displayName', 'selectOptions', 'autofill', 'displayIf', 'requiredIf', 'innerfields']\n",
    "    df = pd.DataFrame(columns=columns)\n",
    "    groups = groups.get('groups', [])  # Get the groups if available\n",
    "    \n",
    "    \n",
    "    for field in fields:\n",
    "        field_data = {column: field.get(column, None) for column in columns}\n",
    "\n",
    "        # Find the group for the field if groups exist\n",
    "        if groups:\n",
    "            for group in groups:\n",
    "                if field_data['id'] in group['members']:\n",
    "                    field_data['group'] = group['displayName']\n",
    "                    break\n",
    "            else:\n",
    "                field_data['group'] = None\n",
    "        else:\n",
    "            field_data['group'] = None\n",
    "\n",
    "        df=df.append(field_data, ignore_index=True)\n",
    "    df['occ_kind'] = classe.occurrence_kind\n",
    "    df['occ_type'] = classe.name\n",
    "    return df"
   ]
  },
  {
   "cell_type": "code",
   "execution_count": 5,
   "id": "6e97e5f6",
   "metadata": {},
   "outputs": [],
   "source": [
    "def options_df_geral(fields,df,classe):\n",
    "    # Serialize specified columns to JSON-formatted strings with double quotation marks\n",
    "    serialize_columns(df, ['selectOptions', 'autofill', 'displayIf', 'requiredIf'])\n",
    "\n",
    "#     output_file = \"output.xlsx\"  # Specify the output file path and name\n",
    "\n",
    "#     df.to_excel(output_file, index=False)  # Export DataFrame to Excel\n",
    "    options_columns = ['occ_kind','occ_type','displayName', 'apiName', 'options']\n",
    "    options_df = pd.DataFrame(columns=options_columns)\n",
    "#     teste = deepcopy(options_df)\n",
    "\n",
    "    for field in fields:\n",
    "        if field.get('dataType') == 'select' and 'selectOptions' in field:\n",
    "            display_name = field.get('displayName')\n",
    "            api_name = field.get('apiName')\n",
    "            select_options = field.get('selectOptions').get('options', [])\n",
    "\n",
    "            options = [option.get('name') for option in select_options]\n",
    "\n",
    "            options_df=options_df.append({'displayName': display_name, 'apiName': api_name, 'options': options}, ignore_index=True)\n",
    "    options_df['occ_kind'] = classe.occurrence_kind\n",
    "    options_df['occ_type'] = classe.name\n",
    "    return options_df\n",
    "#     options_df.to_excel(\"options.xlsx\", index=False)"
   ]
  },
  {
   "cell_type": "code",
   "execution_count": 6,
   "id": "b0d5d2c4",
   "metadata": {},
   "outputs": [],
   "source": [
    "def serialized_options_df(options_df,classe):\n",
    "\n",
    "    # Convert the 'options' column to a list of dictionaries\n",
    "    options_list = options_df['options'].tolist()\n",
    "\n",
    "    # Create a new DataFrame with separate columns for each option\n",
    "    expanded_df = pd.DataFrame(options_list)\n",
    "\n",
    "    # Concatenate the original columns with the expanded columns\n",
    "    options_expanded_df = pd.concat([options_df[['occ_kind','occ_type','displayName', 'apiName']], expanded_df], axis=1)\n",
    "    \n",
    "    # Adding eighty new columns with names 'option 1' to 'option eighty'\n",
    "    for i in range(1, 81):\n",
    "        \n",
    "        column_name = f'option {i}'\n",
    "        expanded_df[column_name] = None\n",
    "    \n",
    "    # Export the updated options DataFrame to Excel\n",
    "    # options_expanded_df.to_excel(\"options_expanded.xlsx\", index=False)\n",
    "    # options_expanded_df['occ_kind'] = classe.occurrence_kind\n",
    "    # options_expanded_df['occ_type'] = classe.name\n",
    "\n",
    "    return options_expanded_df\n"
   ]
  },
  {
   "cell_type": "code",
   "execution_count": 7,
   "id": "e9000c4b",
   "metadata": {},
   "outputs": [],
   "source": [
    "def get_arrayData(fields,classe):\n",
    "    array_columns = ['occ_kind','occ_type','displayName', 'apiName', 'options', 'order', 'dataType', 'autofill', 'displayIf', 'requiredIf', 'innerfields']\n",
    "    array_df = pd.DataFrame(columns=array_columns)\n",
    "    \n",
    "    for field in fields:\n",
    "\n",
    "        if field['dataType'] == 'arrayOfObjects':\n",
    "            inner_fields = field['innerFields']\n",
    "            for inner_field in inner_fields:\n",
    "                options = []\n",
    "                if inner_field['dataType'] == 'select':\n",
    "                    try:\n",
    "                        options = [option['name'] for option in inner_field['selectOptions']['options']]\n",
    "                    except:\n",
    "                        pass\n",
    "                inner_field_data = {\n",
    "                    'displayName': inner_field['displayName'],\n",
    "                    'apiName': inner_field['apiName'],\n",
    "                    'options': options,\n",
    "                    'order': inner_field['order'],\n",
    "                    'dataType': inner_field['dataType'],\n",
    "                    'autofill': inner_field.get('autofill', None),\n",
    "                    'displayIf': inner_field.get('displayIf', None),\n",
    "                    'requiredIf': inner_field.get('requiredIf', None),\n",
    "                    'innerfields': inner_field.get('innerfields', None)\n",
    "                }\n",
    "                array_df=array_df.append(inner_field_data, ignore_index=True)\n",
    "            array_df['occ_kind'] = classe.occurrence_kind\n",
    "            array_df['occ_type'] = classe.name\n",
    "            return array_df\n",
    "            "
   ]
  },
  {
   "cell_type": "code",
   "execution_count": 8,
   "id": "69c0e866",
   "metadata": {},
   "outputs": [],
   "source": [
    "def options_array(fields):  \n",
    "    # Serialize specified columns to JSON-formatted strings with double quotation marks\n",
    "    serialize_columns(array_df, ['options', 'autofill', 'displayIf', 'requiredIf'])\n",
    "\n",
    "    array_df.to_excel(\"array.xlsx\", index=False)\n",
    "\n",
    "    array_options_columns = ['occ_kind','occ_type','displayName', 'apiName', 'options']\n",
    "    array_options_expanded = pd.DataFrame(columns=array_options_columns)\n",
    "\n",
    "    for field in fields:\n",
    "\n",
    "        if field.get('dataType') == 'arrayOfObjects':\n",
    "            inner_fields = field.get('innerFields', [])\n",
    "            for inner_field in inner_fields:\n",
    "                if inner_field.get('dataType') == 'select':\n",
    "                    display_name = inner_field.get('displayName')\n",
    "                    api_name = inner_field.get('apiName')\n",
    "                    select_options = inner_field.get('selectOptions', {}).get('options', [])\n",
    "\n",
    "                    options = [option.get('name') for option in select_options]\n",
    "\n",
    "                    array_options_expanded=array_options_expanded.append({'displayName': display_name, 'apiName': api_name, 'options': options}, ignore_index=True)\n",
    "    array_options_expanded['occ_kind'] = classe.occurrence_kind\n",
    "    array_options_expanded['occ_type'] = classe.name\n",
    "    return array_options_expanded"
   ]
  },
  {
   "cell_type": "code",
   "execution_count": 9,
   "id": "87c8a848",
   "metadata": {},
   "outputs": [],
   "source": [
    "# def serialized_array(array_options_expanded):    \n",
    "#     # Serialize specified columns to JSON-formatted strings with double quotation marks\n",
    "#     serialize_columns(array_options_expanded, ['displayName', 'apiName', 'options'])\n",
    "\n",
    "#     # Convert the 'options' column to a list of dictionaries\n",
    "#     options_list = array_options_expanded['options'].tolist()\n",
    "\n",
    "#     # Get the maximum number of options in any row\n",
    "#     max_options = max(len(options) for options in options_list)\n",
    "\n",
    "#     # Create a new DataFrame with separate columns for each option\n",
    "#     expanded_df = pd.DataFrame(columns=[f\"option_{i+1}\" for i in range(max_options)])\n",
    "\n",
    "#     # Fill the expanded DataFrame with the options\n",
    "#     for options in options_list:\n",
    "#         row = {}\n",
    "#         for i, option in enumerate(options):\n",
    "#             row[f\"option_{i+1}\"] = option\n",
    "#         expanded_df = expanded_df.append(row, ignore_index=True)"
   ]
  },
  {
   "cell_type": "code",
   "execution_count": 10,
   "id": "51924b34",
   "metadata": {},
   "outputs": [],
   "source": [
    "def generate_final_df(df_geral, df_final):\n",
    "\n",
    "    # Concatenar dataFrame da rodada com dataFrame Final\n",
    "    df_final = df_final.append(df_geral)\n",
    "\n",
    "    # Concatenar dataFrame da rodada com dataFrame Final\n",
    "    #options_df_final = options_df_final.append(odf)\n",
    "\n",
    "    # Concatenar dataFrame da rodada com dataFrame Final\n",
    "    #options_expanded_df_final = options_expanded_df_final.append(options_expanded_df)\n",
    "    \n",
    "    return df_final"
   ]
  },
  {
   "cell_type": "code",
   "execution_count": 11,
   "id": "225fd694",
   "metadata": {},
   "outputs": [],
   "source": [
    "def generate_excel_final(df_final):    \n",
    "    # Concatenate the original columns with the expanded columns\n",
    "#     array_options_expanded = pd.concat([array_options_expanded[['displayName', 'apiName']], expanded_df], axis=1)\n",
    "\n",
    "    # Export the updated options DataFrame to Excel\n",
    "#     array_options_expanded.to_excel(\"array_options_expanded.xlsx\", index=False)\n",
    "\n",
    "    # Save each DataFrame to separate sheets in a single Excel file\n",
    "    \n",
    "    with pd.ExcelWriter('CCR.xlsx',mode='a',if_sheet_exists='replace') as writer:\n",
    "        df_final.to_excel(writer, sheet_name='df', index=False)\n",
    "        #options_expanded_df_final.to_excel(writer, sheet_name='options_expanded_df', index=False)\n",
    "        #options_df_final.to_excel(writer, sheet_name='options_df', index=False)\n",
    "        #array_df_final.to_excel(writer, sheet_name='array_df', index=False)\n",
    "#         array_options_expanded.to_excel(writer, sheet_name='array_options_expanded', index=False)"
   ]
  },
  {
   "cell_type": "code",
   "execution_count": 13,
   "id": "160648f5",
   "metadata": {},
   "outputs": [],
   "source": [
    "# Criar DataFrame Final\n",
    "columns = ['occ_kind','occ_type','id', 'dataType', 'apiName', 'displayName', 'selectOptions', 'autofill', 'displayIf', 'requiredIf', 'innerfields']\n",
    "df_final = pd.DataFrame(columns=columns)\n",
    "\n",
    "# Criar DataFrame Final para Options\n",
    "options_columns = ['occ_kind','occ_type','displayName', 'apiName', 'options']\n",
    "options_df_final = pd.DataFrame(columns=options_columns)\n",
    "\n",
    "# Criar DataFrame Final para Options Expandida com as mesmas colunas da DataFrame de Options Expandida\n",
    "# options_expanded_df_final = pd.DataFrame(columns=options_expanded_df.columns)\n",
    "\n",
    "# Criar DataFrame Final para Array\n",
    "array_columns = ['occ_kind','occ_type','displayName', 'apiName', 'options', 'order', 'dataType', 'autofill', 'displayIf', 'requiredIf', 'innerfields']\n",
    "array_df_final = pd.DataFrame(columns=array_columns)"
   ]
  },
  {
   "cell_type": "code",
   "execution_count": 14,
   "id": "180672ea",
   "metadata": {},
   "outputs": [
    {
     "data": {
      "application/vnd.jupyter.widget-view+json": {
       "model_id": "0c47e2810ed04683845e50f656542b82",
       "version_major": 2,
       "version_minor": 0
      },
      "text/plain": [
       "  0%|          | 0/238 [00:00<?, ?it/s]"
      ]
     },
     "metadata": {},
     "output_type": "display_data"
    }
   ],
   "source": [
    "for a in tqdm(occ):\n",
    "    try:\n",
    "        fields = a.form_fields['fields']\n",
    "        df_geral = get_df(fields,a.form_fields,a)\n",
    "#         odf=options_df_geral(fields,df_geral,a)\n",
    "#         options_expanded_df=serialized_options_df(odf,a)\n",
    "#         df_arrayData=get_arrayData(fields,a)\n",
    "        df_final = generate_final_df(df_geral, df_final)\n",
    "        \n",
    "#         print(df_arrayData)\n",
    "#         arr=options_array(fields,a)\n",
    "#         serialized_array(arr)\n",
    "\n",
    "    except Exception as e:\n",
    "        print(a,e,a.fo)\n",
    "        pass\n",
    "\n",
    "\n",
    "generate_excel_final(df_final)"
   ]
  },
  {
   "cell_type": "code",
   "execution_count": 22,
   "id": "fcbb030e",
   "metadata": {},
   "outputs": [
    {
     "data": {
      "text/plain": [
       "Index(['occ_kind', 'occ_type', 'displayName', 'apiName', 0, 1, 2, 3, 4, 5, 6,\n",
       "       7, 8],\n",
       "      dtype='object')"
      ]
     },
     "execution_count": 22,
     "metadata": {},
     "output_type": "execute_result"
    }
   ],
   "source": [
    "options_expanded_df.columns"
   ]
  },
  {
   "cell_type": "code",
   "execution_count": 35,
   "id": "2ab10956",
   "metadata": {},
   "outputs": [],
   "source": [
    "for field in fields:\n",
    "\n",
    "        if field['dataType'] == 'arrayOfObjects':\n",
    "            inner_fields = field['innerFields']\n",
    "            for inner_field in inner_fields:\n",
    "                options = []\n",
    "                if inner_field['dataType'] == 'select':\n",
    "                    try:\n",
    "                        options = [option['name'] for option in inner_field['selectOptions']['options']]\n",
    "                    except:\n",
    "                        pass"
   ]
  },
  {
   "cell_type": "code",
   "execution_count": 30,
   "id": "83b99530",
   "metadata": {},
   "outputs": [
    {
     "data": {
      "application/vnd.jupyter.widget-view+json": {
       "model_id": "a946e689526e4f4b99b7ce9abcb585bd",
       "version_major": 2,
       "version_minor": 0
      },
      "text/plain": [
       "  0%|          | 0/3 [00:00<?, ?it/s]"
      ]
     },
     "metadata": {},
     "output_type": "display_data"
    },
    {
     "name": "stdout",
     "output_type": "stream",
     "text": [
      "42 Monitoração de Equipamentos de ITS\n",
      "42 Monitoração de Iluminação\n",
      "42 Monitoração de Instalações Elétricas de Edificações\n"
     ]
    }
   ],
   "source": [
    "for a in tqdm(occ):\n",
    "    print(a.occurrence_kind,a.name)"
   ]
  },
  {
   "cell_type": "code",
   "execution_count": 45,
   "id": "8190cd2c",
   "metadata": {},
   "outputs": [],
   "source": [
    "df = pd.DataFrame({'A': [1, 2, 3], 'B': [4, 5, 6], 'C': [7, 8, 9]})\n",
    "df2 = pd.DataFrame({'A': [1, 2, 3], 'B': [4, 5, 6], 'C': [7, 8, 9]})"
   ]
  },
  {
   "cell_type": "code",
   "execution_count": 115,
   "id": "2aa81f11",
   "metadata": {},
   "outputs": [
    {
     "data": {
      "text/plain": [
       "Index(['A', 'B', 'C'], dtype='object')"
      ]
     },
     "execution_count": 115,
     "metadata": {},
     "output_type": "execute_result"
    }
   ],
   "source": [
    "df.columns"
   ]
  },
  {
   "cell_type": "code",
   "execution_count": null,
   "id": "301f2e32",
   "metadata": {},
   "outputs": [],
   "source": [
    "import pandas as pd\n",
    "\n",
    "# Criando o objeto ExcelWriter\n",
    "writer = pd.ExcelWriter('output.xlsx', engine='xlsxwriter')\n",
    "\n",
    "# Escrevendo os DataFrames na mesma planilha\n",
    "df1.to_excel(writer, sheet_name='Sheet1', startrow=0, startcol=0)\n",
    "df2.to_excel(writer, sheet_name='Sheet1', startrow=0, startcol=df1.shape[1]+2)\n",
    "\n",
    "# Salvando o arquivo\n",
    "writer.save()"
   ]
  }
 ],
 "metadata": {
  "kernelspec": {
   "display_name": "Django Shell-Plus",
   "language": "python",
   "name": "django_extensions"
  },
  "language_info": {
   "codemirror_mode": {
    "name": "ipython",
    "version": 3
   },
   "file_extension": ".py",
   "mimetype": "text/x-python",
   "name": "python",
   "nbconvert_exporter": "python",
   "pygments_lexer": "ipython3",
   "version": "3.7.9"
  }
 },
 "nbformat": 4,
 "nbformat_minor": 5
}
