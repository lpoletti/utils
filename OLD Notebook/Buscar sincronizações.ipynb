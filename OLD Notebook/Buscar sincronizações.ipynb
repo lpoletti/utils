{
 "cells": [
  {
   "cell_type": "code",
   "execution_count": 10,
   "metadata": {},
   "outputs": [],
   "source": [
    "!export AWS_DEFAULT_REGION=us-east-1"
   ]
  },
  {
   "cell_type": "code",
   "execution_count": 11,
   "metadata": {},
   "outputs": [],
   "source": [
    "import boto3\n",
    "import json\n",
    "import base64\n",
    "from botocore.config import Config\n",
    "import awswrangler as wr\n",
    "from tqdm.notebook import tqdm\n",
    "from datetime import timedelta, datetime\n",
    "from collections import defaultdict"
   ]
  },
  {
   "cell_type": "code",
   "execution_count": 12,
   "metadata": {},
   "outputs": [],
   "source": [
    "boto3.setup_default_session(region_name=\"us-east-1\")"
   ]
  },
  {
   "cell_type": "code",
   "execution_count": 19,
   "metadata": {},
   "outputs": [],
   "source": [
    "action_logs = []\n",
    "for a in ActionLog.objects.filter(\n",
    "    action=\"Login\",\n",
    "    user_agent__icontains=\"okhttp\",\n",
    "    created_at__gte=\"2023-12-01\",\n",
    "    user__username='edgar.silva'\n",
    "# ).exclude(\n",
    "#     user__username=\"marcos.hollerweger.ccr\"\n",
    ").exclude(\n",
    "    user__username=\"luan.poletti.ccr\"\n",
    ").exclude(\n",
    "    user__username=\"marina.carpes.ccr\"\n",
    ").order_by(\"created_at\"):\n",
    "    action_logs.append({\n",
    "        \"username\": a.user.username,\n",
    "        \"created_at\": a.created_at.timestamp(),\n",
    "    })"
   ]
  },
  {
   "cell_type": "code",
   "execution_count": 18,
   "metadata": {},
   "outputs": [
    {
     "data": {
      "text/plain": [
       "[{'username': 'edgar.silva', 'created_at': '01/12/2023'},\n",
       " {'username': 'edgar.silva', 'created_at': '01/12/2023'},\n",
       " {'username': 'edgar.silva', 'created_at': '01/12/2023'},\n",
       " {'username': 'edgar.silva', 'created_at': '01/12/2023'},\n",
       " {'username': 'edgar.silva', 'created_at': '04/12/2023'},\n",
       " {'username': 'edgar.silva', 'created_at': '07/12/2023'},\n",
       " {'username': 'edgar.silva', 'created_at': '07/12/2023'}]"
      ]
     },
     "execution_count": 18,
     "metadata": {},
     "output_type": "execute_result"
    }
   ],
   "source": [
    "action_logs"
   ]
  },
  {
   "cell_type": "code",
   "execution_count": null,
   "metadata": {},
   "outputs": [],
   "source": []
  },
  {
   "cell_type": "code",
   "execution_count": 23,
   "metadata": {
    "scrolled": false
   },
   "outputs": [
    {
     "data": {
      "application/vnd.jupyter.widget-view+json": {
       "model_id": "7dad62774afe49c5934d58d4498d9bf6",
       "version_major": 2,
       "version_minor": 0
      },
      "text/plain": [
       "  0%|          | 0/7 [00:00<?, ?it/s]"
      ]
     },
     "metadata": {},
     "output_type": "display_data"
    },
    {
     "ename": "AccessDeniedException",
     "evalue": "An error occurred (AccessDeniedException) when calling the StartQuery operation: User with accountId: 608592777334 is not authorized to perform StartQuery on resources /aws/lambda/roadlabsspotway-production.",
     "output_type": "error",
     "traceback": [
      "\u001b[0;31m---------------------------------------------------------------------------\u001b[0m",
      "\u001b[0;31mAccessDeniedException\u001b[0m                     Traceback (most recent call last)",
      "\u001b[0;32m/tmp/ipykernel_13932/1094599376.py\u001b[0m in \u001b[0;36m<module>\u001b[0;34m\u001b[0m\n\u001b[1;32m     20\u001b[0m             \u001b[0;34m|\u001b[0m \u001b[0mfilter\u001b[0m \u001b[0mheaders\u001b[0m\u001b[0;34m.\u001b[0m\u001b[0mAuthorization\u001b[0m \u001b[0mlike\u001b[0m \u001b[0;34m\"{}\"\u001b[0m\u001b[0;34m\u001b[0m\u001b[0;34m\u001b[0m\u001b[0m\n\u001b[1;32m     21\u001b[0m         \"\"\".format(username_filter),\n\u001b[0;32m---> 22\u001b[0;31m         \u001b[0mlimit\u001b[0m\u001b[0;34m=\u001b[0m\u001b[0;36m2000\u001b[0m\u001b[0;34m\u001b[0m\u001b[0;34m\u001b[0m\u001b[0m\n\u001b[0m\u001b[1;32m     23\u001b[0m     )\n\u001b[1;32m     24\u001b[0m \u001b[0;34m\u001b[0m\u001b[0m\n",
      "\u001b[0;32m~/.cache/pypoetry/virtualenvs/apps-ZFymp6kh-py3.7/lib/python3.7/site-packages/awswrangler/cloudwatch.py\u001b[0m in \u001b[0;36mread_logs\u001b[0;34m(query, log_group_names, start_time, end_time, limit, boto3_session)\u001b[0m\n\u001b[1;32m    237\u001b[0m         \u001b[0mend_time\u001b[0m\u001b[0;34m=\u001b[0m\u001b[0mend_time\u001b[0m\u001b[0;34m,\u001b[0m\u001b[0;34m\u001b[0m\u001b[0;34m\u001b[0m\u001b[0m\n\u001b[1;32m    238\u001b[0m         \u001b[0mlimit\u001b[0m\u001b[0;34m=\u001b[0m\u001b[0mlimit\u001b[0m\u001b[0;34m,\u001b[0m\u001b[0;34m\u001b[0m\u001b[0;34m\u001b[0m\u001b[0m\n\u001b[0;32m--> 239\u001b[0;31m         \u001b[0mboto3_session\u001b[0m\u001b[0;34m=\u001b[0m\u001b[0mboto3_session\u001b[0m\u001b[0;34m,\u001b[0m\u001b[0;34m\u001b[0m\u001b[0;34m\u001b[0m\u001b[0m\n\u001b[0m\u001b[1;32m    240\u001b[0m     )\n\u001b[1;32m    241\u001b[0m     \u001b[0mpre_df\u001b[0m\u001b[0;34m:\u001b[0m \u001b[0mList\u001b[0m\u001b[0;34m[\u001b[0m\u001b[0mDict\u001b[0m\u001b[0;34m[\u001b[0m\u001b[0mstr\u001b[0m\u001b[0;34m,\u001b[0m \u001b[0mstr\u001b[0m\u001b[0;34m]\u001b[0m\u001b[0;34m]\u001b[0m \u001b[0;34m=\u001b[0m \u001b[0;34m[\u001b[0m\u001b[0;34m]\u001b[0m\u001b[0;34m\u001b[0m\u001b[0;34m\u001b[0m\u001b[0m\n",
      "\u001b[0;32m~/.cache/pypoetry/virtualenvs/apps-ZFymp6kh-py3.7/lib/python3.7/site-packages/awswrangler/cloudwatch.py\u001b[0m in \u001b[0;36mrun_query\u001b[0;34m(query, log_group_names, start_time, end_time, limit, boto3_session)\u001b[0m\n\u001b[1;32m    184\u001b[0m         \u001b[0mend_time\u001b[0m\u001b[0;34m=\u001b[0m\u001b[0mend_time\u001b[0m\u001b[0;34m,\u001b[0m\u001b[0;34m\u001b[0m\u001b[0;34m\u001b[0m\u001b[0m\n\u001b[1;32m    185\u001b[0m         \u001b[0mlimit\u001b[0m\u001b[0;34m=\u001b[0m\u001b[0mlimit\u001b[0m\u001b[0;34m,\u001b[0m\u001b[0;34m\u001b[0m\u001b[0;34m\u001b[0m\u001b[0m\n\u001b[0;32m--> 186\u001b[0;31m         \u001b[0mboto3_session\u001b[0m\u001b[0;34m=\u001b[0m\u001b[0mboto3_session\u001b[0m\u001b[0;34m,\u001b[0m\u001b[0;34m\u001b[0m\u001b[0;34m\u001b[0m\u001b[0m\n\u001b[0m\u001b[1;32m    187\u001b[0m     )\n\u001b[1;32m    188\u001b[0m     \u001b[0mresponse\u001b[0m\u001b[0;34m:\u001b[0m \u001b[0mDict\u001b[0m\u001b[0;34m[\u001b[0m\u001b[0mstr\u001b[0m\u001b[0;34m,\u001b[0m \u001b[0mAny\u001b[0m\u001b[0;34m]\u001b[0m \u001b[0;34m=\u001b[0m \u001b[0mwait_query\u001b[0m\u001b[0;34m(\u001b[0m\u001b[0mquery_id\u001b[0m\u001b[0;34m=\u001b[0m\u001b[0mquery_id\u001b[0m\u001b[0;34m,\u001b[0m \u001b[0mboto3_session\u001b[0m\u001b[0;34m=\u001b[0m\u001b[0mboto3_session\u001b[0m\u001b[0;34m)\u001b[0m\u001b[0;34m\u001b[0m\u001b[0;34m\u001b[0m\u001b[0m\n",
      "\u001b[0;32m~/.cache/pypoetry/virtualenvs/apps-ZFymp6kh-py3.7/lib/python3.7/site-packages/awswrangler/cloudwatch.py\u001b[0m in \u001b[0;36mstart_query\u001b[0;34m(query, log_group_names, start_time, end_time, limit, boto3_session)\u001b[0m\n\u001b[1;32m     83\u001b[0m         \u001b[0margs\u001b[0m\u001b[0;34m[\u001b[0m\u001b[0;34m\"limit\"\u001b[0m\u001b[0;34m]\u001b[0m \u001b[0;34m=\u001b[0m \u001b[0mlimit\u001b[0m\u001b[0;34m\u001b[0m\u001b[0;34m\u001b[0m\u001b[0m\n\u001b[1;32m     84\u001b[0m     \u001b[0mclient_logs\u001b[0m\u001b[0;34m:\u001b[0m \u001b[0mboto3\u001b[0m\u001b[0;34m.\u001b[0m\u001b[0mclient\u001b[0m \u001b[0;34m=\u001b[0m \u001b[0m_utils\u001b[0m\u001b[0;34m.\u001b[0m\u001b[0mclient\u001b[0m\u001b[0;34m(\u001b[0m\u001b[0mservice_name\u001b[0m\u001b[0;34m=\u001b[0m\u001b[0;34m\"logs\"\u001b[0m\u001b[0;34m,\u001b[0m \u001b[0msession\u001b[0m\u001b[0;34m=\u001b[0m\u001b[0mboto3_session\u001b[0m\u001b[0;34m)\u001b[0m\u001b[0;34m\u001b[0m\u001b[0;34m\u001b[0m\u001b[0m\n\u001b[0;32m---> 85\u001b[0;31m     \u001b[0mresponse\u001b[0m\u001b[0;34m:\u001b[0m \u001b[0mDict\u001b[0m\u001b[0;34m[\u001b[0m\u001b[0mstr\u001b[0m\u001b[0;34m,\u001b[0m \u001b[0mAny\u001b[0m\u001b[0;34m]\u001b[0m \u001b[0;34m=\u001b[0m \u001b[0mclient_logs\u001b[0m\u001b[0;34m.\u001b[0m\u001b[0mstart_query\u001b[0m\u001b[0;34m(\u001b[0m\u001b[0;34m**\u001b[0m\u001b[0margs\u001b[0m\u001b[0;34m)\u001b[0m\u001b[0;34m\u001b[0m\u001b[0;34m\u001b[0m\u001b[0m\n\u001b[0m\u001b[1;32m     86\u001b[0m     \u001b[0;32mreturn\u001b[0m \u001b[0mcast\u001b[0m\u001b[0;34m(\u001b[0m\u001b[0mstr\u001b[0m\u001b[0;34m,\u001b[0m \u001b[0mresponse\u001b[0m\u001b[0;34m[\u001b[0m\u001b[0;34m\"queryId\"\u001b[0m\u001b[0;34m]\u001b[0m\u001b[0;34m)\u001b[0m\u001b[0;34m\u001b[0m\u001b[0;34m\u001b[0m\u001b[0m\n\u001b[1;32m     87\u001b[0m \u001b[0;34m\u001b[0m\u001b[0m\n",
      "\u001b[0;32m~/.cache/pypoetry/virtualenvs/apps-ZFymp6kh-py3.7/lib/python3.7/site-packages/botocore/client.py\u001b[0m in \u001b[0;36m_api_call\u001b[0;34m(self, *args, **kwargs)\u001b[0m\n\u001b[1;32m    551\u001b[0m                 )\n\u001b[1;32m    552\u001b[0m             \u001b[0;31m# The \"self\" in this scope is referring to the BaseClient.\u001b[0m\u001b[0;34m\u001b[0m\u001b[0;34m\u001b[0m\u001b[0;34m\u001b[0m\u001b[0m\n\u001b[0;32m--> 553\u001b[0;31m             \u001b[0;32mreturn\u001b[0m \u001b[0mself\u001b[0m\u001b[0;34m.\u001b[0m\u001b[0m_make_api_call\u001b[0m\u001b[0;34m(\u001b[0m\u001b[0moperation_name\u001b[0m\u001b[0;34m,\u001b[0m \u001b[0mkwargs\u001b[0m\u001b[0;34m)\u001b[0m\u001b[0;34m\u001b[0m\u001b[0;34m\u001b[0m\u001b[0m\n\u001b[0m\u001b[1;32m    554\u001b[0m \u001b[0;34m\u001b[0m\u001b[0m\n\u001b[1;32m    555\u001b[0m         \u001b[0m_api_call\u001b[0m\u001b[0;34m.\u001b[0m\u001b[0m__name__\u001b[0m \u001b[0;34m=\u001b[0m \u001b[0mstr\u001b[0m\u001b[0;34m(\u001b[0m\u001b[0mpy_operation_name\u001b[0m\u001b[0;34m)\u001b[0m\u001b[0;34m\u001b[0m\u001b[0;34m\u001b[0m\u001b[0m\n",
      "\u001b[0;32m~/.cache/pypoetry/virtualenvs/apps-ZFymp6kh-py3.7/lib/python3.7/site-packages/botocore/client.py\u001b[0m in \u001b[0;36m_make_api_call\u001b[0;34m(self, operation_name, api_params)\u001b[0m\n\u001b[1;32m   1007\u001b[0m             )\n\u001b[1;32m   1008\u001b[0m             \u001b[0merror_class\u001b[0m \u001b[0;34m=\u001b[0m \u001b[0mself\u001b[0m\u001b[0;34m.\u001b[0m\u001b[0mexceptions\u001b[0m\u001b[0;34m.\u001b[0m\u001b[0mfrom_code\u001b[0m\u001b[0;34m(\u001b[0m\u001b[0merror_code\u001b[0m\u001b[0;34m)\u001b[0m\u001b[0;34m\u001b[0m\u001b[0;34m\u001b[0m\u001b[0m\n\u001b[0;32m-> 1009\u001b[0;31m             \u001b[0;32mraise\u001b[0m \u001b[0merror_class\u001b[0m\u001b[0;34m(\u001b[0m\u001b[0mparsed_response\u001b[0m\u001b[0;34m,\u001b[0m \u001b[0moperation_name\u001b[0m\u001b[0;34m)\u001b[0m\u001b[0;34m\u001b[0m\u001b[0;34m\u001b[0m\u001b[0m\n\u001b[0m\u001b[1;32m   1010\u001b[0m         \u001b[0;32melse\u001b[0m\u001b[0;34m:\u001b[0m\u001b[0;34m\u001b[0m\u001b[0;34m\u001b[0m\u001b[0m\n\u001b[1;32m   1011\u001b[0m             \u001b[0;32mreturn\u001b[0m \u001b[0mparsed_response\u001b[0m\u001b[0;34m\u001b[0m\u001b[0;34m\u001b[0m\u001b[0m\n",
      "\u001b[0;31mAccessDeniedException\u001b[0m: An error occurred (AccessDeniedException) when calling the StartQuery operation: User with accountId: 608592777334 is not authorized to perform StartQuery on resources /aws/lambda/roadlabsspotway-production."
     ]
    }
   ],
   "source": [
    "token_groups = defaultdict(list)\n",
    "\n",
    "for a in tqdm(action_logs):\n",
    "    username = a['username']\n",
    "    username_filter = base64.b64encode(\n",
    "        ('\",\"username\":\"' + username).encode('utf-8')\n",
    "    )[:-4].decode(\"utf-8\")\n",
    "    \n",
    "    # O timedelta hours=3 aqui é pra compensar diferença de fuso\n",
    "    start_time = datetime.utcfromtimestamp(a['created_at']) - timedelta(seconds=30) - timedelta(hours=3)\n",
    "    end_time = datetime.utcfromtimestamp(a['created_at']) + timedelta(minutes=30) - timedelta(hours=3)\n",
    "    \n",
    "    df = wr.cloudwatch.read_logs(\n",
    "        log_group_names=[\"/aws/lambda/roadlabsspotway-production\"],\n",
    "        start_time=start_time,\n",
    "        end_time=end_time,\n",
    "        query=\"\"\"\n",
    "            fields @timestamp, httpMethod, path, `headers.User-Agent`, `headers.Authorization`, `queryStringParameters.company`\n",
    "            | sort @timestamp asc\n",
    "            | filter headers.Authorization like \"{}\"\n",
    "        \"\"\".format(username_filter),\n",
    "        limit=2000\n",
    "    )\n",
    "    \n",
    "    first_token = None\n",
    "    last_method = None\n",
    "    for row in df.to_dict('records'):\n",
    "        if \"okhttp\" not in row['headers.User-Agent']:\n",
    "            continue\n",
    "        if \"/Reporting/\" in row['path'] and len(row['path']) > 20 and row['httpMethod'] == \"GET\":\n",
    "            continue\n",
    "        if row['path'] in [\"/ApprovalTransition/\", \"/WmDBSync/\"] and row['httpMethod'] == \"GET\":\n",
    "            continue\n",
    "\n",
    "        if row['ptr'] not in [b['ptr'] for b in token_groups[row['headers.Authorization']]]:\n",
    "            token_groups[row['headers.Authorization']].append(row)"
   ]
  },
  {
   "cell_type": "code",
   "execution_count": 10,
   "metadata": {},
   "outputs": [
    {
     "name": "stdout",
     "output_type": "stream",
     "text": [
      "marcos.hollerweger.ccr\t13/12/2023 21:03\t00:01:40\tFULL\t3300\t0\t0\t0\n",
      "marcos.hollerweger.ccr\t13/12/2023 21:06\t00:01:35\tFULL\t3300\t0\t0\t0\n",
      "marcos.hollerweger.ccr\t13/12/2023 21:08\t00:01:40\tFULL\t3300\t0\t0\t0\n",
      "marcos.hollerweger.ccr\t13/12/2023 21:28\t00:01:40\tFULL\t3300\t0\t0\t0\n",
      "marcos.hollerweger.ccr\t13/12/2023 21:30\t00:00:22\tFULL\t0\t0\t0\t0\n",
      "fabio.boton\t14/12/2023 03:11\t00:00:21\tFULL\t300\t0\t0\t0\n",
      "fabio.boton\t14/12/2023 03:12\t00:00:19\tFULL\t300\t0\t0\t0\n",
      "fabio.boton\t14/12/2023 03:14\t00:00:23\tFULL\t600\t0\t0\t0\n",
      "thiago.susuki@grupoccr.com.br\t14/12/2023 11:37\t00:00:31\tFULL\t0\t0\t0\t0\n",
      "thiago.susuki@grupoccr.com.br\t14/12/2023 11:45\t00:00:01\tPARTIAL\t300\t0\t0\t0\n",
      "thiago.susuki@grupoccr.com.br\t14/12/2023 19:58\t00:00:21\tFULL\t0\t0\t0\t0\n"
     ]
    }
   ],
   "source": [
    "ordered_stuff = []\n",
    "\n",
    "for token, group in token_groups.items():\n",
    "    group = sorted(group, key=lambda x: x['timestamp'])\n",
    "    ordered_stuff.append((token, group))\n",
    "    \n",
    "ordered_stuff = sorted(ordered_stuff, key=lambda x: x[1][0]['timestamp'])\n",
    "\n",
    "# groups = sorted(token_groups.values(), key=lambda x: len(x))\n",
    "for token, group in ordered_stuff:\n",
    "    token_obj = json.loads(base64.b64decode(token.split(\" \")[-1].split(\".\")[1].encode(\"utf-8\") + b\"==\"))\n",
    "    username = token_obj['username']\n",
    "    \n",
    "    company_list = [a['queryStringParameters.company'] for a in group if type(a['queryStringParameters.company']) is str]\n",
    "\n",
    "#     if \"3af64f25-59e8-446b-bb1e-963549090b0d\" not in company_list:\n",
    "#         continue\n",
    "    \n",
    "#     if len(group) < 15:\n",
    "#         continue\n",
    "    \n",
    "#     print(\"sincronização por {} iniciada em {}\".format(token_obj['username'], group[0]['timestamp'].strftime(\"%d/%m/%Y %H:%M\")))\n",
    "#     group = sorted(group, key=lambda x: x['timestamp'])\n",
    "\n",
    "    time_spent = group[-1]['timestamp'] - group[0]['timestamp']\n",
    "    \n",
    "    reporting_created = len([b for b in group if b['path'] == \"/Reporting/\" and b['httpMethod'] == \"POST\"])\n",
    "    reporting_edited = len([b for b in group if \"/Reporting/\" in b['path'] and b['httpMethod'] == \"PATCH\"])\n",
    "\n",
    "    files_created = len([b for b in group if b['path'] == \"/ReportingFile/\" and b['httpMethod'] == \"POST\"])\n",
    "    files_edited = len([b for b in group if \"/ReportingFile/\" in b['path'] and b['httpMethod'] == \"PATCH\"])\n",
    "\n",
    "    reporting_reqs = len([b for b in group if b['path'] == \"/Reporting/\" and b['httpMethod'] == \"GET\"])\n",
    "    is_full = any([b for b in group if \"Road/\" in b['path']])\n",
    "    \n",
    "#     print(\"tempo: \" + str(time_spent).replace(\"0 days \", \"\"))\n",
    "#     print(\"apontamentos baixados - de {} a {}\".format((reporting_reqs-1) * 300, reporting_reqs * 300))\n",
    "#     print(reporting_created, files_created, reporting_edited)\n",
    "#     print(\"Apontamentos criados: \", reporting_created)\n",
    "#     print(\"Imagens criadas: \", files_created)\n",
    "#     print(\"Apontamentos editados: \", reporting_edited)\n",
    "#     print(\"Imagens editadas: \", files_edited)\n",
    "\n",
    "#     for log in group:\n",
    "#         print(log['timestamp'], log['httpMethod'], log['path'])\n",
    "#     print()\n",
    "#     print()\n",
    "\n",
    "    print(\"\\t\".join([\n",
    "        username,\n",
    "        group[0]['timestamp'].strftime(\"%d/%m/%Y %H:%M\"),\n",
    "        str(time_spent).replace(\"0 days \", \"\").split(\".\")[0],\n",
    "        \"FULL\" if is_full else \"PARTIAL\",\n",
    "        str((reporting_reqs-1) * 300) if reporting_reqs else \"300\",\n",
    "        str(reporting_created),\n",
    "        str(reporting_edited),\n",
    "        str(files_created)\n",
    "    ]))\n",
    "#     print(group[0]['path'])\n",
    "#     if len(group) > 100:\n",
    "#         for log in group:\n",
    "#             print(log['timestamp'], log['httpMethod'], log['path'])\n",
    "#         print()\n",
    "#         print()\n",
    "\n",
    "#     if username == \"leandromonteirocosta\":\n",
    "#         print(files_created)\n",
    "#         for log in group:\n",
    "#             print(log['timestamp'], log['httpMethod'], log['path'])\n",
    "#         print()\n",
    "#         print()"
   ]
  }
 ],
 "metadata": {
  "kernelspec": {
   "display_name": "Django Shell-Plus",
   "language": "python",
   "name": "django_extensions"
  },
  "language_info": {
   "codemirror_mode": {
    "name": "ipython",
    "version": 3
   },
   "file_extension": ".py",
   "mimetype": "text/x-python",
   "name": "python",
   "nbconvert_exporter": "python",
   "pygments_lexer": "ipython3",
   "version": "3.7.9"
  }
 },
 "nbformat": 4,
 "nbformat_minor": 2
}
