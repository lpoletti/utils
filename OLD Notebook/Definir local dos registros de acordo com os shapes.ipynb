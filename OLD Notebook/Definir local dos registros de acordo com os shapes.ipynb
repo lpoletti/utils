{
 "cells": [
  {
   "cell_type": "code",
   "execution_count": 1,
   "id": "daeb41aa",
   "metadata": {},
   "outputs": [],
   "source": [
    "import json\n",
    "import geojson\n",
    "from django.contrib.gis.geos import MultiPolygon, GEOSGeometry\n",
    "from tqdm.notebook import tqdm"
   ]
  },
  {
   "cell_type": "markdown",
   "id": "1b5a483c",
   "metadata": {},
   "source": [
    "Definir unidade a ser utilizada"
   ]
  },
  {
   "cell_type": "code",
   "execution_count": 2,
   "id": "074bcd68",
   "metadata": {
    "collapsed": true
   },
   "outputs": [
    {
     "ename": "DoesNotExist",
     "evalue": "Company matching query does not exist.",
     "output_type": "error",
     "traceback": [
      "\u001b[0;31m---------------------------------------------------------------------------\u001b[0m",
      "\u001b[0;31mDoesNotExist\u001b[0m                              Traceback (most recent call last)",
      "\u001b[0;32m/tmp/ipykernel_228433/1358469865.py\u001b[0m in \u001b[0;36m<module>\u001b[0;34m\u001b[0m\n\u001b[0;32m----> 1\u001b[0;31m \u001b[0mcompany\u001b[0m \u001b[0;34m=\u001b[0m \u001b[0mCompany\u001b[0m\u001b[0;34m.\u001b[0m\u001b[0mobjects\u001b[0m\u001b[0;34m.\u001b[0m\u001b[0mget\u001b[0m\u001b[0;34m(\u001b[0m\u001b[0mname\u001b[0m\u001b[0;34m=\u001b[0m\u001b[0;34m\"GSO - UTPS\"\u001b[0m\u001b[0;34m)\u001b[0m\u001b[0;34m\u001b[0m\u001b[0;34m\u001b[0m\u001b[0m\n\u001b[0m",
      "\u001b[0;32m~/.cache/pypoetry/virtualenvs/apps-ZFymp6kh-py3.7/lib/python3.7/site-packages/django/db/models/manager.py\u001b[0m in \u001b[0;36mmanager_method\u001b[0;34m(self, *args, **kwargs)\u001b[0m\n\u001b[1;32m     80\u001b[0m         \u001b[0;32mdef\u001b[0m \u001b[0mcreate_method\u001b[0m\u001b[0;34m(\u001b[0m\u001b[0mname\u001b[0m\u001b[0;34m,\u001b[0m \u001b[0mmethod\u001b[0m\u001b[0;34m)\u001b[0m\u001b[0;34m:\u001b[0m\u001b[0;34m\u001b[0m\u001b[0;34m\u001b[0m\u001b[0m\n\u001b[1;32m     81\u001b[0m             \u001b[0;32mdef\u001b[0m \u001b[0mmanager_method\u001b[0m\u001b[0;34m(\u001b[0m\u001b[0mself\u001b[0m\u001b[0;34m,\u001b[0m \u001b[0;34m*\u001b[0m\u001b[0margs\u001b[0m\u001b[0;34m,\u001b[0m \u001b[0;34m**\u001b[0m\u001b[0mkwargs\u001b[0m\u001b[0;34m)\u001b[0m\u001b[0;34m:\u001b[0m\u001b[0;34m\u001b[0m\u001b[0;34m\u001b[0m\u001b[0m\n\u001b[0;32m---> 82\u001b[0;31m                 \u001b[0;32mreturn\u001b[0m \u001b[0mgetattr\u001b[0m\u001b[0;34m(\u001b[0m\u001b[0mself\u001b[0m\u001b[0;34m.\u001b[0m\u001b[0mget_queryset\u001b[0m\u001b[0;34m(\u001b[0m\u001b[0;34m)\u001b[0m\u001b[0;34m,\u001b[0m \u001b[0mname\u001b[0m\u001b[0;34m)\u001b[0m\u001b[0;34m(\u001b[0m\u001b[0;34m*\u001b[0m\u001b[0margs\u001b[0m\u001b[0;34m,\u001b[0m \u001b[0;34m**\u001b[0m\u001b[0mkwargs\u001b[0m\u001b[0;34m)\u001b[0m\u001b[0;34m\u001b[0m\u001b[0;34m\u001b[0m\u001b[0m\n\u001b[0m\u001b[1;32m     83\u001b[0m             \u001b[0mmanager_method\u001b[0m\u001b[0;34m.\u001b[0m\u001b[0m__name__\u001b[0m \u001b[0;34m=\u001b[0m \u001b[0mmethod\u001b[0m\u001b[0;34m.\u001b[0m\u001b[0m__name__\u001b[0m\u001b[0;34m\u001b[0m\u001b[0;34m\u001b[0m\u001b[0m\n\u001b[1;32m     84\u001b[0m             \u001b[0mmanager_method\u001b[0m\u001b[0;34m.\u001b[0m\u001b[0m__doc__\u001b[0m \u001b[0;34m=\u001b[0m \u001b[0mmethod\u001b[0m\u001b[0;34m.\u001b[0m\u001b[0m__doc__\u001b[0m\u001b[0;34m\u001b[0m\u001b[0;34m\u001b[0m\u001b[0m\n",
      "\u001b[0;32m~/.cache/pypoetry/virtualenvs/apps-ZFymp6kh-py3.7/lib/python3.7/site-packages/django/db/models/query.py\u001b[0m in \u001b[0;36mget\u001b[0;34m(self, *args, **kwargs)\u001b[0m\n\u001b[1;32m    406\u001b[0m             raise self.model.DoesNotExist(\n\u001b[1;32m    407\u001b[0m                 \u001b[0;34m\"%s matching query does not exist.\"\u001b[0m \u001b[0;34m%\u001b[0m\u001b[0;34m\u001b[0m\u001b[0;34m\u001b[0m\u001b[0m\n\u001b[0;32m--> 408\u001b[0;31m                 \u001b[0mself\u001b[0m\u001b[0;34m.\u001b[0m\u001b[0mmodel\u001b[0m\u001b[0;34m.\u001b[0m\u001b[0m_meta\u001b[0m\u001b[0;34m.\u001b[0m\u001b[0mobject_name\u001b[0m\u001b[0;34m\u001b[0m\u001b[0;34m\u001b[0m\u001b[0m\n\u001b[0m\u001b[1;32m    409\u001b[0m             )\n\u001b[1;32m    410\u001b[0m         raise self.model.MultipleObjectsReturned(\n",
      "\u001b[0;31mDoesNotExist\u001b[0m: Company matching query does not exist."
     ]
    }
   ],
   "source": [
    "company = Company.objects.get(name=\"GSO - UTPS\")"
   ]
  },
  {
   "cell_type": "markdown",
   "id": "916111de",
   "metadata": {},
   "source": [
    "Obter os registros da unidade"
   ]
  },
  {
   "cell_type": "code",
   "execution_count": 3,
   "id": "dbbb09f9",
   "metadata": {},
   "outputs": [],
   "source": [
    "records = OccurrenceRecord.objects.filter(company=company)"
   ]
  },
  {
   "cell_type": "markdown",
   "id": "d0d57a7d",
   "metadata": {},
   "source": [
    "Obter os shapes de ZAS e ZSS"
   ]
  },
  {
   "cell_type": "code",
   "execution_count": 22,
   "id": "f9fc93cd",
   "metadata": {},
   "outputs": [],
   "source": [
    "zas_shape = ShapeFile.objects.get(companies=company, name__icontains=\"ZAS\")"
   ]
  },
  {
   "cell_type": "code",
   "execution_count": 23,
   "id": "f88c252b",
   "metadata": {},
   "outputs": [],
   "source": [
    "zss_shape = ShapeFile.objects.get(companies=company, name__icontains=\"ZSS\")"
   ]
  },
  {
   "cell_type": "markdown",
   "id": "7430c35f",
   "metadata": {},
   "source": [
    "Verificar o número de registros que tem intersecção com cada shape (só pra ver mesmo)"
   ]
  },
  {
   "cell_type": "code",
   "execution_count": 24,
   "id": "43aa2026",
   "metadata": {},
   "outputs": [
    {
     "data": {
      "text/plain": [
       "4"
      ]
     },
     "execution_count": 24,
     "metadata": {},
     "output_type": "execute_result"
    }
   ],
   "source": [
    "records.filter(geometry__intersects=zas_shape.geometry).count()"
   ]
  },
  {
   "cell_type": "code",
   "execution_count": 25,
   "id": "f02dc715",
   "metadata": {},
   "outputs": [
    {
     "data": {
      "text/plain": [
       "7"
      ]
     },
     "execution_count": 25,
     "metadata": {},
     "output_type": "execute_result"
    }
   ],
   "source": [
    "records.filter(geometry__intersects=zss_shape.geometry).count()"
   ]
  },
  {
   "cell_type": "code",
   "execution_count": 26,
   "id": "ca546a4b",
   "metadata": {},
   "outputs": [
    {
     "data": {
      "text/plain": [
       "36"
      ]
     },
     "execution_count": 26,
     "metadata": {},
     "output_type": "execute_result"
    }
   ],
   "source": [
    "records.count()"
   ]
  },
  {
   "cell_type": "markdown",
   "id": "bc0638cb",
   "metadata": {},
   "source": [
    "Atualizar campo de Local de acordo com as intersecções"
   ]
  },
  {
   "cell_type": "code",
   "execution_count": 28,
   "id": "9aa1c3be",
   "metadata": {},
   "outputs": [
    {
     "data": {
      "text/plain": [
       "4"
      ]
     },
     "execution_count": 28,
     "metadata": {},
     "output_type": "execute_result"
    }
   ],
   "source": [
    "records.filter(\n",
    "    geometry__intersects=zas_shape.geometry\n",
    ").update(place_on_dam=\"ZAS\")"
   ]
  },
  {
   "cell_type": "code",
   "execution_count": 29,
   "id": "5a198a58",
   "metadata": {},
   "outputs": [
    {
     "data": {
      "text/plain": [
       "7"
      ]
     },
     "execution_count": 29,
     "metadata": {},
     "output_type": "execute_result"
    }
   ],
   "source": [
    "records.filter(\n",
    "    geometry__intersects=zss_shape.geometry\n",
    ").update(place_on_dam=\"ZSS\")"
   ]
  },
  {
   "cell_type": "markdown",
   "id": "977e1507",
   "metadata": {},
   "source": [
    "Os registros que não estão nem na ZAS e nem na ZSS devem ter o Local preenchido com \"NA\" e serem inativados"
   ]
  },
  {
   "cell_type": "code",
   "execution_count": 11,
   "id": "2edea292",
   "metadata": {},
   "outputs": [],
   "source": [
    "status_inativo = ServiceOrderActionStatus.objects.get(companies=company, name=\"Inativado\")"
   ]
  },
  {
   "cell_type": "code",
   "execution_count": 12,
   "id": "7a4fa016",
   "metadata": {},
   "outputs": [],
   "source": [
    "step_inativo = ApprovalStep.objects.get(approval_flow__company=company, name=\"Inativado\")"
   ]
  },
  {
   "cell_type": "code",
   "execution_count": 32,
   "id": "b1984774",
   "metadata": {},
   "outputs": [
    {
     "data": {
      "text/plain": [
       "25"
      ]
     },
     "execution_count": 32,
     "metadata": {},
     "output_type": "execute_result"
    }
   ],
   "source": [
    "records.exclude(\n",
    "    Q(geometry__intersects=zas_shape.geometry) |\n",
    "    Q(geometry__intersects=zss_shape.geometry)\n",
    ").update(\n",
    "    status=status_inativo,\n",
    "    approval_step=step_inativo,\n",
    "    place_on_dam=\"NA\",\n",
    ")"
   ]
  }
 ],
 "metadata": {
  "kernelspec": {
   "display_name": "Django Shell-Plus",
   "language": "python",
   "name": "django_extensions"
  },
  "language_info": {
   "codemirror_mode": {
    "name": "ipython",
    "version": 3
   },
   "file_extension": ".py",
   "mimetype": "text/x-python",
   "name": "python",
   "nbconvert_exporter": "python",
   "pygments_lexer": "ipython3",
   "version": "3.7.9"
  }
 },
 "nbformat": 4,
 "nbformat_minor": 5
}
