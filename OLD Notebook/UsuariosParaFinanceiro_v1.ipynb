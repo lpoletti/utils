{
 "cells": [
  {
   "cell_type": "code",
   "execution_count": 19,
   "metadata": {},
   "outputs": [],
   "source": [
    "from collections import defaultdict\n",
    "from django.db.models.signals import *\n",
    "import pandas as pd\n",
    "from itertools import chain\n",
    "from tqdm.notebook import tqdm"
   ]
  },
  {
   "cell_type": "code",
   "execution_count": 234,
   "metadata": {},
   "outputs": [],
   "source": [
    "def permissoes_history_user(result_list):\n",
    "    permissoesUsuarios = {}\n",
    "    for a in result_list.order_by('history_date'):\n",
    "        try:\n",
    "        #print(a.user.get_full_name())\n",
    "            if not permissoesUsuarios.get(a.user.get_full_name()):\n",
    "                permissoesUsuarios[a.user.get_full_name()] = {}\n",
    "            if not permissoesUsuarios.get(a.user.get_full_name()).get(a.history_date.year): \n",
    "                permissoesUsuarios[a.user.get_full_name()][a.history_date.year] = {}\n",
    "            if a.history_date.month in permissoesUsuarios.get(a.user.get_full_name()).get(a.history_date.year).keys():\n",
    "                if a.permissions.name == \"Inativo\":\n",
    "                    permissoesUsuarios[a.user.get_full_name()][a.history_date.year][a.permissions.name+' mesmo mês'] = a.history_date.month\n",
    "                    permissoesUsuarios[a.user.get_full_name()][a.history_date.year]['ultimaAtiva'] = a.permissions.name\n",
    "                else:\n",
    "                    permissoesUsuarios[a.user.get_full_name()][a.history_date.year]['ultimaAtiva'] = a.permissions.name\n",
    "            else:\n",
    "                permissoesUsuarios[a.user.get_full_name()][a.history_date.year]['ultimaAtiva'] = a.permissions.name\n",
    "                permissoesUsuarios[a.user.get_full_name()][a.history_date.year][a.history_date.month] = a.permissions.name\n",
    "#             print(permissoesUsuarios)\n",
    "        except:\n",
    "            pass\n",
    "\n",
    "    usuariosAtivos = []\n",
    "    usuariosInativos = []\n",
    "    for nome, ano in permissoesUsuarios.items():\n",
    "        \n",
    "        item_ano = max(list(ano.keys()))\n",
    "        item_min_ano = min(list(ano.keys()))\n",
    "        cargo_atual = ano[item_ano]\n",
    "        item_mes = max([x for x in cargo_atual.keys() if isinstance(x,int)])\n",
    "        print(ano,ano[item_ano],cargo_atual[item_mes],cargo_atual[item_mes] != 'Inativo',cargo_atual.get('Inativo mesmo mês') != item_mes,item_min_ano < item_ano)\n",
    "        if (cargo_atual[item_mes] != 'Inativo' and cargo_atual.get('ultimaAtiva') != 'Inativo') or cargo_atual.get('Inativo mesmo mês') != item_mes or item_min_ano < item_ano:\n",
    "            usuariosAtivos.append(nome)\n",
    "        else:\n",
    "            usuariosInativos.append(nome)\n",
    "\n",
    "    return usuariosAtivos,usuariosInativos"
   ]
  },
  {
   "cell_type": "code",
   "execution_count": 235,
   "metadata": {},
   "outputs": [],
   "source": [
    "companies = ['Modera - Consórcio ME2', \n",
    "             'Sinalizavia (Municípios)', \n",
    "             'Afirma Engenharia Viária',\n",
    "             'Pavicolet', \n",
    "             'Sanson',\n",
    "             'Entrevias',\n",
    "             'Televale',\n",
    "             'Garcia Monteiro',\n",
    "             'LCM Construção e Comércio',\n",
    "             'Construtora Castilho']"
   ]
  },
  {
   "cell_type": "code",
   "execution_count": 51,
   "metadata": {},
   "outputs": [],
   "source": [
    "# Modera, \n",
    "#Sinalizavia (Municípios), Afirma Engenharia Viária,Pavicolet (Amapá),Pavicolet (Amazonas), Sanson,Entrevias,Televale,Garcia Monteiro"
   ]
  },
  {
   "cell_type": "code",
   "execution_count": 236,
   "metadata": {},
   "outputs": [],
   "source": [
    "pd.DataFrame().to_excel('Usuários Ativos Financeiro.xlsx')"
   ]
  },
  {
   "cell_type": "code",
   "execution_count": 238,
   "metadata": {},
   "outputs": [
    {
     "data": {
      "application/vnd.jupyter.widget-view+json": {
       "model_id": "ee50804a25c6401b8d0922c70b32624d",
       "version_major": 2,
       "version_minor": 0
      },
      "text/plain": [
       "  0%|          | 0/10 [00:00<?, ?it/s]"
      ]
     },
     "metadata": {},
     "output_type": "display_data"
    },
    {
     "name": "stdout",
     "output_type": "stream",
     "text": [
      "{2023: {'ultimaAtiva': 'Coordenador', 5: 'Fiscal', 6: 'Engenheiro', 11: 'Coordenador'}} {'ultimaAtiva': 'Coordenador', 5: 'Fiscal', 6: 'Engenheiro', 11: 'Coordenador'} Coordenador True True False\n",
      "{2023: {'ultimaAtiva': 'Coordenador', 5: 'Fiscal', 6: 'Engenheiro', 11: 'Coordenador'}} {'ultimaAtiva': 'Coordenador', 5: 'Fiscal', 6: 'Engenheiro', 11: 'Coordenador'} Coordenador True True False\n",
      "{2023: {'ultimaAtiva': 'Inativo', 5: 'Fiscal', 6: 'Engenheiro', 10: 'Inativo'}} {'ultimaAtiva': 'Inativo', 5: 'Fiscal', 6: 'Engenheiro', 10: 'Inativo'} Inativo False True False\n",
      "{2023: {'ultimaAtiva': 'Engenheiro', 8: 'Engenheiro'}} {'ultimaAtiva': 'Engenheiro', 8: 'Engenheiro'} Engenheiro True True False\n",
      "{2023: {'ultimaAtiva': 'Engenheiro', 8: 'Engenheiro', 11: 'Engenheiro'}} {'ultimaAtiva': 'Engenheiro', 8: 'Engenheiro', 11: 'Engenheiro'} Engenheiro True True False\n",
      "{2023: {'ultimaAtiva': 'Fiscal', 9: 'Fiscal', 10: 'Fiscal'}} {'ultimaAtiva': 'Fiscal', 9: 'Fiscal', 10: 'Fiscal'} Fiscal True True False\n",
      "{2023: {'ultimaAtiva': 'Fiscal', 9: 'Fiscal', 10: 'Fiscal'}} {'ultimaAtiva': 'Fiscal', 9: 'Fiscal', 10: 'Fiscal'} Fiscal True True False\n",
      "{2023: {'ultimaAtiva': 'Engenheiro', 10: 'Engenheiro'}} {'ultimaAtiva': 'Engenheiro', 10: 'Engenheiro'} Engenheiro True True False\n",
      "{2023: {'ultimaAtiva': 'Engenheiro', 11: 'Engenheiro'}, 2024: {'ultimaAtiva': 'Inativo', 1: 'Inativo'}} {'ultimaAtiva': 'Inativo', 1: 'Inativo'} Inativo False True True\n",
      "{2023: {'ultimaAtiva': 'Engenheiro', 11: 'Engenheiro'}} {'ultimaAtiva': 'Engenheiro', 11: 'Engenheiro'} Engenheiro True True False\n",
      "{2023: {'ultimaAtiva': 'Engenheiro', 11: 'Engenheiro'}} {'ultimaAtiva': 'Engenheiro', 11: 'Engenheiro'} Engenheiro True True False\n",
      "{2023: {'ultimaAtiva': 'Fiscal', 11: 'Fiscal'}} {'ultimaAtiva': 'Fiscal', 11: 'Fiscal'} Fiscal True True False\n",
      "{2023: {'ultimaAtiva': 'Fiscal', 11: 'Fiscal'}} {'ultimaAtiva': 'Fiscal', 11: 'Fiscal'} Fiscal True True False\n",
      "{2023: {'ultimaAtiva': 'Engenheiro', 11: 'Engenheiro'}} {'ultimaAtiva': 'Engenheiro', 11: 'Engenheiro'} Engenheiro True True False\n",
      "{2023: {'ultimaAtiva': 'Fiscal', 11: 'Fiscal'}} {'ultimaAtiva': 'Fiscal', 11: 'Fiscal'} Fiscal True True False\n",
      "{2023: {'ultimaAtiva': 'Engenheiro', 11: 'Fiscal', 12: 'Engenheiro'}} {'ultimaAtiva': 'Engenheiro', 11: 'Fiscal', 12: 'Engenheiro'} Engenheiro True True False\n",
      "{2023: {'ultimaAtiva': 'Engenheiro', 11: 'Engenheiro'}} {'ultimaAtiva': 'Engenheiro', 11: 'Engenheiro'} Engenheiro True True False\n",
      "{2023: {'ultimaAtiva': 'Engenheiro', 11: 'Engenheiro'}} {'ultimaAtiva': 'Engenheiro', 11: 'Engenheiro'} Engenheiro True True False\n",
      "{2023: {'ultimaAtiva': 'Engenheiro', 11: 'Engenheiro'}} {'ultimaAtiva': 'Engenheiro', 11: 'Engenheiro'} Engenheiro True True False\n",
      "{2023: {'ultimaAtiva': 'Fiscal', 12: 'Fiscal'}} {'ultimaAtiva': 'Fiscal', 12: 'Fiscal'} Fiscal True True False\n",
      "{2023: {'ultimaAtiva': 'Fiscal', 12: 'Fiscal'}} {'ultimaAtiva': 'Fiscal', 12: 'Fiscal'} Fiscal True True False\n",
      "{2023: {'ultimaAtiva': 'Fiscal', 12: 'Fiscal'}} {'ultimaAtiva': 'Fiscal', 12: 'Fiscal'} Fiscal True True False\n",
      "{2023: {'ultimaAtiva': 'Fiscal', 12: 'Fiscal'}} {'ultimaAtiva': 'Fiscal', 12: 'Fiscal'} Fiscal True True False\n",
      "{2023: {'ultimaAtiva': 'Fiscal', 12: 'Fiscal'}} {'ultimaAtiva': 'Fiscal', 12: 'Fiscal'} Fiscal True True False\n",
      "{2023: {'ultimaAtiva': 'Coordenador', 5: 'Fiscal', 6: 'Engenheiro', 11: 'Coordenador'}} {'ultimaAtiva': 'Coordenador', 5: 'Fiscal', 6: 'Engenheiro', 11: 'Coordenador'} Coordenador True True False\n",
      "{2023: {'ultimaAtiva': 'Coordenador', 5: 'Fiscal', 6: 'Engenheiro', 11: 'Coordenador'}} {'ultimaAtiva': 'Coordenador', 5: 'Fiscal', 6: 'Engenheiro', 11: 'Coordenador'} Coordenador True True False\n",
      "{2023: {'ultimaAtiva': 'Inativo', 5: 'Fiscal', 6: 'Engenheiro', 10: 'Inativo'}} {'ultimaAtiva': 'Inativo', 5: 'Fiscal', 6: 'Engenheiro', 10: 'Inativo'} Inativo False True False\n",
      "{2023: {'ultimaAtiva': 'Engenheiro', 8: 'Engenheiro'}} {'ultimaAtiva': 'Engenheiro', 8: 'Engenheiro'} Engenheiro True True False\n",
      "{2023: {'ultimaAtiva': 'Engenheiro', 8: 'Engenheiro', 11: 'Engenheiro'}} {'ultimaAtiva': 'Engenheiro', 8: 'Engenheiro', 11: 'Engenheiro'} Engenheiro True True False\n",
      "{2023: {'ultimaAtiva': 'Fiscal', 9: 'Fiscal', 10: 'Fiscal'}} {'ultimaAtiva': 'Fiscal', 9: 'Fiscal', 10: 'Fiscal'} Fiscal True True False\n",
      "{2023: {'ultimaAtiva': 'Fiscal', 9: 'Fiscal', 10: 'Fiscal'}} {'ultimaAtiva': 'Fiscal', 9: 'Fiscal', 10: 'Fiscal'} Fiscal True True False\n",
      "{2023: {'ultimaAtiva': 'Engenheiro', 10: 'Engenheiro'}} {'ultimaAtiva': 'Engenheiro', 10: 'Engenheiro'} Engenheiro True True False\n",
      "{2023: {'ultimaAtiva': 'Engenheiro', 11: 'Engenheiro'}, 2024: {'ultimaAtiva': 'Inativo', 1: 'Inativo'}} {'ultimaAtiva': 'Inativo', 1: 'Inativo'} Inativo False True True\n",
      "{2023: {'ultimaAtiva': 'Engenheiro', 11: 'Engenheiro'}} {'ultimaAtiva': 'Engenheiro', 11: 'Engenheiro'} Engenheiro True True False\n",
      "{2023: {'ultimaAtiva': 'Engenheiro', 11: 'Engenheiro'}} {'ultimaAtiva': 'Engenheiro', 11: 'Engenheiro'} Engenheiro True True False\n",
      "{2023: {'ultimaAtiva': 'Fiscal', 11: 'Fiscal'}} {'ultimaAtiva': 'Fiscal', 11: 'Fiscal'} Fiscal True True False\n",
      "{2023: {'ultimaAtiva': 'Fiscal', 11: 'Fiscal'}} {'ultimaAtiva': 'Fiscal', 11: 'Fiscal'} Fiscal True True False\n",
      "{2023: {'ultimaAtiva': 'Engenheiro', 11: 'Engenheiro'}} {'ultimaAtiva': 'Engenheiro', 11: 'Engenheiro'} Engenheiro True True False\n",
      "{2023: {'ultimaAtiva': 'Fiscal', 11: 'Fiscal'}} {'ultimaAtiva': 'Fiscal', 11: 'Fiscal'} Fiscal True True False\n",
      "{2023: {'ultimaAtiva': 'Engenheiro', 11: 'Fiscal', 12: 'Engenheiro'}} {'ultimaAtiva': 'Engenheiro', 11: 'Fiscal', 12: 'Engenheiro'} Engenheiro True True False\n",
      "{2023: {'ultimaAtiva': 'Engenheiro', 11: 'Engenheiro'}} {'ultimaAtiva': 'Engenheiro', 11: 'Engenheiro'} Engenheiro True True False\n",
      "{2023: {'ultimaAtiva': 'Engenheiro', 11: 'Engenheiro'}} {'ultimaAtiva': 'Engenheiro', 11: 'Engenheiro'} Engenheiro True True False\n",
      "{2023: {'ultimaAtiva': 'Engenheiro', 11: 'Engenheiro'}} {'ultimaAtiva': 'Engenheiro', 11: 'Engenheiro'} Engenheiro True True False\n",
      "{2023: {'ultimaAtiva': 'Fiscal', 12: 'Fiscal'}} {'ultimaAtiva': 'Fiscal', 12: 'Fiscal'} Fiscal True True False\n",
      "{2023: {'ultimaAtiva': 'Fiscal', 12: 'Fiscal'}} {'ultimaAtiva': 'Fiscal', 12: 'Fiscal'} Fiscal True True False\n",
      "{2023: {'ultimaAtiva': 'Fiscal', 12: 'Fiscal'}} {'ultimaAtiva': 'Fiscal', 12: 'Fiscal'} Fiscal True True False\n",
      "{2023: {'ultimaAtiva': 'Fiscal', 12: 'Fiscal'}} {'ultimaAtiva': 'Fiscal', 12: 'Fiscal'} Fiscal True True False\n",
      "{2023: {'ultimaAtiva': 'Fiscal', 12: 'Fiscal'}} {'ultimaAtiva': 'Fiscal', 12: 'Fiscal'} Fiscal True True False\n",
      "{2023: {'ultimaAtiva': 'Administrador', 6: 'Administrador', 10: 'Suporte'}} {'ultimaAtiva': 'Administrador', 6: 'Administrador', 10: 'Suporte'} Suporte True True False\n",
      "{2023: {'ultimaAtiva': 'Usuário de campo', 6: 'Administrador', 7: 'Inativo', 9: 'Engenheiro', 'Inativo mesmo mês': 9, 10: 'Usuário de campo'}} {'ultimaAtiva': 'Usuário de campo', 6: 'Administrador', 7: 'Inativo', 9: 'Engenheiro', 'Inativo mesmo mês': 9, 10: 'Usuário de campo'} Usuário de campo True True False\n",
      "{2023: {'ultimaAtiva': 'Suporte', 6: 'Administrador', 9: 'Suporte', 10: 'Administrador', 12: 'Suporte'}} {'ultimaAtiva': 'Suporte', 6: 'Administrador', 9: 'Suporte', 10: 'Administrador', 12: 'Suporte'} Suporte True True False\n",
      "{2023: {'ultimaAtiva': 'Administrador', 7: 'Administrador', 10: 'Coordenador', 12: 'Administrador'}} {'ultimaAtiva': 'Administrador', 7: 'Administrador', 10: 'Coordenador', 12: 'Administrador'} Administrador True True False\n",
      "{2023: {'ultimaAtiva': 'Coordenador', 7: 'Administrador', 10: 'Administrador'}} {'ultimaAtiva': 'Coordenador', 7: 'Administrador', 10: 'Administrador'} Administrador True True False\n",
      "{2023: {'ultimaAtiva': 'Engenheiro', 7: 'Engenheiro'}} {'ultimaAtiva': 'Engenheiro', 7: 'Engenheiro'} Engenheiro True True False\n",
      "{2023: {'ultimaAtiva': 'Coordenador de Equipe', 7: 'Coordenador de Equipe', 10: 'Usuário de campo', 11: 'Coordenador de Equipe'}} {'ultimaAtiva': 'Coordenador de Equipe', 7: 'Coordenador de Equipe', 10: 'Usuário de campo', 11: 'Coordenador de Equipe'} Coordenador de Equipe True True False\n",
      "{2023: {'ultimaAtiva': 'Usuário de campo', 7: 'Coordenador de Equipe', 10: 'Usuário de campo', 11: 'Coordenador de Equipe', 12: 'Usuário de campo'}} {'ultimaAtiva': 'Usuário de campo', 7: 'Coordenador de Equipe', 10: 'Usuário de campo', 11: 'Coordenador de Equipe', 12: 'Usuário de campo'} Usuário de campo True True False\n",
      "{2023: {'ultimaAtiva': 'Coordenador de Equipe', 7: 'Coordenador de Equipe', 10: 'Usuário de campo', 11: 'Coordenador de Equipe'}} {'ultimaAtiva': 'Coordenador de Equipe', 7: 'Coordenador de Equipe', 10: 'Usuário de campo', 11: 'Coordenador de Equipe'} Coordenador de Equipe True True False\n",
      "{2023: {'ultimaAtiva': 'Inativo', 7: 'Coordenador de Equipe', 'Inativo mesmo mês': 7}} {'ultimaAtiva': 'Inativo', 7: 'Coordenador de Equipe', 'Inativo mesmo mês': 7} Coordenador de Equipe True False False\n",
      "{2023: {'ultimaAtiva': 'Coordenador de Equipe', 7: 'Coordenador de Equipe', 10: 'Usuário de campo'}} {'ultimaAtiva': 'Coordenador de Equipe', 7: 'Coordenador de Equipe', 10: 'Usuário de campo'} Usuário de campo True True False\n",
      "{2023: {'ultimaAtiva': 'Coordenador de Equipe', 7: 'Coordenador de Equipe', 10: 'Usuário de campo', 11: 'Coordenador de Equipe'}} {'ultimaAtiva': 'Coordenador de Equipe', 7: 'Coordenador de Equipe', 10: 'Usuário de campo', 11: 'Coordenador de Equipe'} Coordenador de Equipe True True False\n",
      "{2023: {'ultimaAtiva': 'Usuário de campo', 7: 'Coordenador de Equipe', 10: 'Usuário de campo'}} {'ultimaAtiva': 'Usuário de campo', 7: 'Coordenador de Equipe', 10: 'Usuário de campo'} Usuário de campo True True False\n",
      "{2023: {'ultimaAtiva': 'Coordenador de Equipe', 8: 'Coordenador de Equipe', 10: 'Usuário de campo', 12: 'Coordenador de Equipe'}} {'ultimaAtiva': 'Coordenador de Equipe', 8: 'Coordenador de Equipe', 10: 'Usuário de campo', 12: 'Coordenador de Equipe'} Coordenador de Equipe True True False\n",
      "{2023: {'ultimaAtiva': 'Coordenador de Equipe', 9: 'Coordenador de Equipe', 10: 'Usuário de campo', 12: 'Coordenador de Equipe'}} {'ultimaAtiva': 'Coordenador de Equipe', 9: 'Coordenador de Equipe', 10: 'Usuário de campo', 12: 'Coordenador de Equipe'} Coordenador de Equipe True True False\n",
      "{2023: {'ultimaAtiva': 'Coordenador de Equipe', 9: 'Coordenador de Equipe', 10: 'Usuário de campo'}} {'ultimaAtiva': 'Coordenador de Equipe', 9: 'Coordenador de Equipe', 10: 'Usuário de campo'} Usuário de campo True True False\n",
      "{2023: {'ultimaAtiva': 'Coordenador de Equipe', 9: 'Coordenador de Equipe', 10: 'Usuário de campo', 12: 'Coordenador de Equipe'}} {'ultimaAtiva': 'Coordenador de Equipe', 9: 'Coordenador de Equipe', 10: 'Usuário de campo', 12: 'Coordenador de Equipe'} Coordenador de Equipe True True False\n",
      "{2023: {'ultimaAtiva': 'Coordenador de Equipe', 9: 'Coordenador de Equipe'}} {'ultimaAtiva': 'Coordenador de Equipe', 9: 'Coordenador de Equipe'} Coordenador de Equipe True True False\n",
      "{2023: {'ultimaAtiva': 'Coordenador de Equipe', 9: 'Coordenador de Equipe', 10: 'Usuário de campo'}} {'ultimaAtiva': 'Coordenador de Equipe', 9: 'Coordenador de Equipe', 10: 'Usuário de campo'} Usuário de campo True True False\n"
     ]
    },
    {
     "name": "stdout",
     "output_type": "stream",
     "text": [
      "{2023: {'ultimaAtiva': 'Administrador', 6: 'Administrador', 10: 'Suporte'}} {'ultimaAtiva': 'Administrador', 6: 'Administrador', 10: 'Suporte'} Suporte True True False\n",
      "{2023: {'ultimaAtiva': 'Usuário de campo', 6: 'Administrador', 7: 'Inativo', 9: 'Engenheiro', 'Inativo mesmo mês': 9, 10: 'Usuário de campo'}} {'ultimaAtiva': 'Usuário de campo', 6: 'Administrador', 7: 'Inativo', 9: 'Engenheiro', 'Inativo mesmo mês': 9, 10: 'Usuário de campo'} Usuário de campo True True False\n",
      "{2023: {'ultimaAtiva': 'Suporte', 6: 'Administrador', 9: 'Suporte', 10: 'Administrador', 12: 'Suporte'}} {'ultimaAtiva': 'Suporte', 6: 'Administrador', 9: 'Suporte', 10: 'Administrador', 12: 'Suporte'} Suporte True True False\n",
      "{2023: {'ultimaAtiva': 'Administrador', 7: 'Administrador', 10: 'Coordenador', 12: 'Administrador'}} {'ultimaAtiva': 'Administrador', 7: 'Administrador', 10: 'Coordenador', 12: 'Administrador'} Administrador True True False\n",
      "{2023: {'ultimaAtiva': 'Coordenador', 7: 'Administrador', 10: 'Administrador'}} {'ultimaAtiva': 'Coordenador', 7: 'Administrador', 10: 'Administrador'} Administrador True True False\n",
      "{2023: {'ultimaAtiva': 'Engenheiro', 7: 'Engenheiro'}} {'ultimaAtiva': 'Engenheiro', 7: 'Engenheiro'} Engenheiro True True False\n",
      "{2023: {'ultimaAtiva': 'Coordenador de Equipe', 7: 'Coordenador de Equipe', 10: 'Usuário de campo', 11: 'Coordenador de Equipe'}} {'ultimaAtiva': 'Coordenador de Equipe', 7: 'Coordenador de Equipe', 10: 'Usuário de campo', 11: 'Coordenador de Equipe'} Coordenador de Equipe True True False\n",
      "{2023: {'ultimaAtiva': 'Usuário de campo', 7: 'Coordenador de Equipe', 10: 'Usuário de campo', 11: 'Coordenador de Equipe', 12: 'Usuário de campo'}} {'ultimaAtiva': 'Usuário de campo', 7: 'Coordenador de Equipe', 10: 'Usuário de campo', 11: 'Coordenador de Equipe', 12: 'Usuário de campo'} Usuário de campo True True False\n",
      "{2023: {'ultimaAtiva': 'Coordenador de Equipe', 7: 'Coordenador de Equipe', 10: 'Usuário de campo', 11: 'Coordenador de Equipe'}} {'ultimaAtiva': 'Coordenador de Equipe', 7: 'Coordenador de Equipe', 10: 'Usuário de campo', 11: 'Coordenador de Equipe'} Coordenador de Equipe True True False\n",
      "{2023: {'ultimaAtiva': 'Inativo', 7: 'Coordenador de Equipe', 'Inativo mesmo mês': 7}} {'ultimaAtiva': 'Inativo', 7: 'Coordenador de Equipe', 'Inativo mesmo mês': 7} Coordenador de Equipe True False False\n",
      "{2023: {'ultimaAtiva': 'Coordenador de Equipe', 7: 'Coordenador de Equipe', 10: 'Usuário de campo'}} {'ultimaAtiva': 'Coordenador de Equipe', 7: 'Coordenador de Equipe', 10: 'Usuário de campo'} Usuário de campo True True False\n",
      "{2023: {'ultimaAtiva': 'Coordenador de Equipe', 7: 'Coordenador de Equipe', 10: 'Usuário de campo', 11: 'Coordenador de Equipe'}} {'ultimaAtiva': 'Coordenador de Equipe', 7: 'Coordenador de Equipe', 10: 'Usuário de campo', 11: 'Coordenador de Equipe'} Coordenador de Equipe True True False\n",
      "{2023: {'ultimaAtiva': 'Usuário de campo', 7: 'Coordenador de Equipe', 10: 'Usuário de campo'}} {'ultimaAtiva': 'Usuário de campo', 7: 'Coordenador de Equipe', 10: 'Usuário de campo'} Usuário de campo True True False\n",
      "{2023: {'ultimaAtiva': 'Coordenador de Equipe', 8: 'Coordenador de Equipe', 10: 'Usuário de campo', 12: 'Coordenador de Equipe'}} {'ultimaAtiva': 'Coordenador de Equipe', 8: 'Coordenador de Equipe', 10: 'Usuário de campo', 12: 'Coordenador de Equipe'} Coordenador de Equipe True True False\n",
      "{2023: {'ultimaAtiva': 'Coordenador de Equipe', 9: 'Coordenador de Equipe', 10: 'Usuário de campo', 12: 'Coordenador de Equipe'}} {'ultimaAtiva': 'Coordenador de Equipe', 9: 'Coordenador de Equipe', 10: 'Usuário de campo', 12: 'Coordenador de Equipe'} Coordenador de Equipe True True False\n",
      "{2023: {'ultimaAtiva': 'Coordenador de Equipe', 9: 'Coordenador de Equipe', 10: 'Usuário de campo'}} {'ultimaAtiva': 'Coordenador de Equipe', 9: 'Coordenador de Equipe', 10: 'Usuário de campo'} Usuário de campo True True False\n",
      "{2023: {'ultimaAtiva': 'Coordenador de Equipe', 9: 'Coordenador de Equipe', 10: 'Usuário de campo', 12: 'Coordenador de Equipe'}} {'ultimaAtiva': 'Coordenador de Equipe', 9: 'Coordenador de Equipe', 10: 'Usuário de campo', 12: 'Coordenador de Equipe'} Coordenador de Equipe True True False\n",
      "{2023: {'ultimaAtiva': 'Coordenador de Equipe', 9: 'Coordenador de Equipe'}} {'ultimaAtiva': 'Coordenador de Equipe', 9: 'Coordenador de Equipe'} Coordenador de Equipe True True False\n",
      "{2023: {'ultimaAtiva': 'Coordenador de Equipe', 9: 'Coordenador de Equipe', 10: 'Usuário de campo'}} {'ultimaAtiva': 'Coordenador de Equipe', 9: 'Coordenador de Equipe', 10: 'Usuário de campo'} Usuário de campo True True False\n",
      "{2022: {'ultimaAtiva': 'Administrador', 1: 'Administrador'}, 2023: {'ultimaAtiva': 'Inativo', 5: 'Inativo', 9: 'Inativo', 10: 'Inativo'}} {'ultimaAtiva': 'Inativo', 5: 'Inativo', 9: 'Inativo', 10: 'Inativo'} Inativo False True True\n",
      "{2022: {'ultimaAtiva': 'Encarregado', 2: 'Encarregado'}, 2023: {'ultimaAtiva': 'Inativo', 9: 'Inativo', 10: 'Inativo'}} {'ultimaAtiva': 'Inativo', 9: 'Inativo', 10: 'Inativo'} Inativo False True True\n",
      "{2022: {'ultimaAtiva': 'Encarregado', 3: 'Encarregado'}, 2023: {'ultimaAtiva': 'Inativo', 5: 'Inativo', 9: 'Inativo', 10: 'Inativo'}} {'ultimaAtiva': 'Inativo', 5: 'Inativo', 9: 'Inativo', 10: 'Inativo'} Inativo False True True\n",
      "{2022: {'ultimaAtiva': 'Inativo', 3: 'Encarregado', 8: 'Inativo'}, 2023: {'ultimaAtiva': 'Inativo', 9: 'Inativo', 10: 'Inativo'}} {'ultimaAtiva': 'Inativo', 9: 'Inativo', 10: 'Inativo'} Inativo False True True\n",
      "{2022: {'ultimaAtiva': 'Encarregado', 4: 'Encarregado'}, 2023: {'ultimaAtiva': 'Inativo', 9: 'Inativo', 10: 'Inativo'}} {'ultimaAtiva': 'Inativo', 9: 'Inativo', 10: 'Inativo'} Inativo False True True\n",
      "{2022: {'ultimaAtiva': 'Inativo', 5: 'Administrador', 8: 'Inativo'}, 2023: {'ultimaAtiva': 'Inativo', 9: 'Inativo', 10: 'Inativo'}} {'ultimaAtiva': 'Inativo', 9: 'Inativo', 10: 'Inativo'} Inativo False True True\n",
      "{2022: {'ultimaAtiva': 'Inativo', 5: 'Encarregado', 8: 'Inativo'}, 2023: {'ultimaAtiva': 'Inativo', 9: 'Inativo', 10: 'Inativo'}} {'ultimaAtiva': 'Inativo', 9: 'Inativo', 10: 'Inativo'} Inativo False True True\n",
      "{2022: {'ultimaAtiva': 'Inativo', 5: 'Encarregado', 8: 'Inativo'}, 2023: {'ultimaAtiva': 'Inativo', 9: 'Inativo', 10: 'Inativo'}} {'ultimaAtiva': 'Inativo', 9: 'Inativo', 10: 'Inativo'} Inativo False True True\n",
      "{2022: {'ultimaAtiva': 'Inativo', 5: 'Encarregado', 8: 'Inativo'}, 2023: {'ultimaAtiva': 'Inativo', 9: 'Inativo', 10: 'Inativo'}} {'ultimaAtiva': 'Inativo', 9: 'Inativo', 10: 'Inativo'} Inativo False True True\n",
      "{2022: {'ultimaAtiva': 'Inativo', 5: 'Encarregado', 8: 'Inativo'}, 2023: {'ultimaAtiva': 'Inativo', 9: 'Inativo', 10: 'Inativo'}} {'ultimaAtiva': 'Inativo', 9: 'Inativo', 10: 'Inativo'} Inativo False True True\n",
      "{2022: {'ultimaAtiva': 'Inativo', 5: 'Encarregado', 8: 'Inativo'}, 2023: {'ultimaAtiva': 'Inativo', 9: 'Inativo', 10: 'Inativo'}} {'ultimaAtiva': 'Inativo', 9: 'Inativo', 10: 'Inativo'} Inativo False True True\n",
      "{2022: {'ultimaAtiva': 'Administrador', 5: 'Encarregado', 8: 'Inativo', 11: 'Administrador'}, 2023: {'ultimaAtiva': 'Inativo', 5: 'Inativo', 9: 'Inativo', 10: 'Inativo'}} {'ultimaAtiva': 'Inativo', 5: 'Inativo', 9: 'Inativo', 10: 'Inativo'} Inativo False True True\n",
      "{2022: {'ultimaAtiva': 'Administrador', 5: 'Encarregado', 6: 'Administrador', 8: 'Inativo', 11: 'Administrador'}, 2023: {'ultimaAtiva': 'Inativo', 9: 'Inativo', 10: 'Inativo'}} {'ultimaAtiva': 'Inativo', 9: 'Inativo', 10: 'Inativo'} Inativo False True True\n",
      "{2022: {'ultimaAtiva': 'Inativo', 6: 'Encarregado', 8: 'Inativo'}, 2023: {'ultimaAtiva': 'Administrador', 9: 'Inativo', 10: 'Inativo', 12: 'Administrador'}} {'ultimaAtiva': 'Administrador', 9: 'Inativo', 10: 'Inativo', 12: 'Administrador'} Administrador True True True\n",
      "{2022: {'ultimaAtiva': 'Encarregado', 7: 'Encarregado'}, 2023: {'ultimaAtiva': 'Inativo', 5: 'Inativo', 9: 'Inativo', 10: 'Inativo'}} {'ultimaAtiva': 'Inativo', 5: 'Inativo', 9: 'Inativo', 10: 'Inativo'} Inativo False True True\n",
      "{2022: {'ultimaAtiva': 'Encarregado', 8: 'Encarregado'}, 2023: {'ultimaAtiva': 'Inativo', 9: 'Inativo', 10: 'Inativo'}} {'ultimaAtiva': 'Inativo', 9: 'Inativo', 10: 'Inativo'} Inativo False True True\n",
      "{2022: {'ultimaAtiva': 'Administrador', 11: 'Administrador'}, 2023: {'ultimaAtiva': 'Administrador', 9: 'Inativo', 10: 'Inativo', 12: 'Administrador'}} {'ultimaAtiva': 'Administrador', 9: 'Inativo', 10: 'Inativo', 12: 'Administrador'} Administrador True True True\n",
      "{2023: {'ultimaAtiva': 'Inativo', 5: 'Administrador', 9: 'Inativo', 10: 'Inativo'}} {'ultimaAtiva': 'Inativo', 5: 'Administrador', 9: 'Inativo', 10: 'Inativo'} Inativo False True False\n",
      "{2023: {'ultimaAtiva': 'Inativo', 5: 'Administrador', 9: 'Inativo', 10: 'Inativo'}} {'ultimaAtiva': 'Inativo', 5: 'Administrador', 9: 'Inativo', 10: 'Inativo'} Inativo False True False\n",
      "{2023: {'ultimaAtiva': 'Inativo', 5: 'Encarregado', 9: 'Inativo', 10: 'Inativo'}} {'ultimaAtiva': 'Inativo', 5: 'Encarregado', 9: 'Inativo', 10: 'Inativo'} Inativo False True False\n",
      "{2023: {'ultimaAtiva': 'Administrador', 12: 'Administrador'}} {'ultimaAtiva': 'Administrador', 12: 'Administrador'} Administrador True True False\n"
     ]
    },
    {
     "name": "stdout",
     "output_type": "stream",
     "text": [
      "{2022: {'ultimaAtiva': 'Administrador', 1: 'Administrador'}, 2023: {'ultimaAtiva': 'Inativo', 5: 'Inativo', 9: 'Inativo', 10: 'Inativo'}} {'ultimaAtiva': 'Inativo', 5: 'Inativo', 9: 'Inativo', 10: 'Inativo'} Inativo False True True\n",
      "{2022: {'ultimaAtiva': 'Encarregado', 2: 'Encarregado'}, 2023: {'ultimaAtiva': 'Inativo', 9: 'Inativo', 10: 'Inativo'}} {'ultimaAtiva': 'Inativo', 9: 'Inativo', 10: 'Inativo'} Inativo False True True\n",
      "{2022: {'ultimaAtiva': 'Encarregado', 3: 'Encarregado'}, 2023: {'ultimaAtiva': 'Inativo', 5: 'Inativo', 9: 'Inativo', 10: 'Inativo'}} {'ultimaAtiva': 'Inativo', 5: 'Inativo', 9: 'Inativo', 10: 'Inativo'} Inativo False True True\n",
      "{2022: {'ultimaAtiva': 'Inativo', 3: 'Encarregado', 8: 'Inativo'}, 2023: {'ultimaAtiva': 'Inativo', 9: 'Inativo', 10: 'Inativo'}} {'ultimaAtiva': 'Inativo', 9: 'Inativo', 10: 'Inativo'} Inativo False True True\n",
      "{2022: {'ultimaAtiva': 'Encarregado', 4: 'Encarregado'}, 2023: {'ultimaAtiva': 'Inativo', 9: 'Inativo', 10: 'Inativo'}} {'ultimaAtiva': 'Inativo', 9: 'Inativo', 10: 'Inativo'} Inativo False True True\n",
      "{2022: {'ultimaAtiva': 'Inativo', 5: 'Administrador', 8: 'Inativo'}, 2023: {'ultimaAtiva': 'Inativo', 9: 'Inativo', 10: 'Inativo'}} {'ultimaAtiva': 'Inativo', 9: 'Inativo', 10: 'Inativo'} Inativo False True True\n",
      "{2022: {'ultimaAtiva': 'Inativo', 5: 'Encarregado', 8: 'Inativo'}, 2023: {'ultimaAtiva': 'Inativo', 9: 'Inativo', 10: 'Inativo'}} {'ultimaAtiva': 'Inativo', 9: 'Inativo', 10: 'Inativo'} Inativo False True True\n",
      "{2022: {'ultimaAtiva': 'Inativo', 5: 'Encarregado', 8: 'Inativo'}, 2023: {'ultimaAtiva': 'Inativo', 9: 'Inativo', 10: 'Inativo'}} {'ultimaAtiva': 'Inativo', 9: 'Inativo', 10: 'Inativo'} Inativo False True True\n",
      "{2022: {'ultimaAtiva': 'Inativo', 5: 'Encarregado', 8: 'Inativo'}, 2023: {'ultimaAtiva': 'Inativo', 9: 'Inativo', 10: 'Inativo'}} {'ultimaAtiva': 'Inativo', 9: 'Inativo', 10: 'Inativo'} Inativo False True True\n",
      "{2022: {'ultimaAtiva': 'Inativo', 5: 'Encarregado', 8: 'Inativo'}, 2023: {'ultimaAtiva': 'Inativo', 9: 'Inativo', 10: 'Inativo'}} {'ultimaAtiva': 'Inativo', 9: 'Inativo', 10: 'Inativo'} Inativo False True True\n",
      "{2022: {'ultimaAtiva': 'Inativo', 5: 'Encarregado', 8: 'Inativo'}, 2023: {'ultimaAtiva': 'Inativo', 9: 'Inativo', 10: 'Inativo'}} {'ultimaAtiva': 'Inativo', 9: 'Inativo', 10: 'Inativo'} Inativo False True True\n",
      "{2022: {'ultimaAtiva': 'Administrador', 5: 'Encarregado', 8: 'Inativo', 11: 'Administrador'}, 2023: {'ultimaAtiva': 'Inativo', 5: 'Inativo', 9: 'Inativo', 10: 'Inativo'}} {'ultimaAtiva': 'Inativo', 5: 'Inativo', 9: 'Inativo', 10: 'Inativo'} Inativo False True True\n",
      "{2022: {'ultimaAtiva': 'Administrador', 5: 'Encarregado', 6: 'Administrador', 8: 'Inativo', 11: 'Administrador'}, 2023: {'ultimaAtiva': 'Inativo', 9: 'Inativo', 10: 'Inativo'}} {'ultimaAtiva': 'Inativo', 9: 'Inativo', 10: 'Inativo'} Inativo False True True\n",
      "{2022: {'ultimaAtiva': 'Inativo', 6: 'Encarregado', 8: 'Inativo'}, 2023: {'ultimaAtiva': 'Administrador', 9: 'Inativo', 10: 'Inativo', 12: 'Administrador'}} {'ultimaAtiva': 'Administrador', 9: 'Inativo', 10: 'Inativo', 12: 'Administrador'} Administrador True True True\n",
      "{2022: {'ultimaAtiva': 'Encarregado', 7: 'Encarregado'}, 2023: {'ultimaAtiva': 'Inativo', 5: 'Inativo', 9: 'Inativo', 10: 'Inativo'}} {'ultimaAtiva': 'Inativo', 5: 'Inativo', 9: 'Inativo', 10: 'Inativo'} Inativo False True True\n",
      "{2022: {'ultimaAtiva': 'Encarregado', 8: 'Encarregado'}, 2023: {'ultimaAtiva': 'Inativo', 9: 'Inativo', 10: 'Inativo'}} {'ultimaAtiva': 'Inativo', 9: 'Inativo', 10: 'Inativo'} Inativo False True True\n",
      "{2022: {'ultimaAtiva': 'Administrador', 11: 'Administrador'}, 2023: {'ultimaAtiva': 'Administrador', 9: 'Inativo', 10: 'Inativo', 12: 'Administrador'}} {'ultimaAtiva': 'Administrador', 9: 'Inativo', 10: 'Inativo', 12: 'Administrador'} Administrador True True True\n",
      "{2023: {'ultimaAtiva': 'Inativo', 5: 'Administrador', 9: 'Inativo', 10: 'Inativo'}} {'ultimaAtiva': 'Inativo', 5: 'Administrador', 9: 'Inativo', 10: 'Inativo'} Inativo False True False\n",
      "{2023: {'ultimaAtiva': 'Inativo', 5: 'Administrador', 9: 'Inativo', 10: 'Inativo'}} {'ultimaAtiva': 'Inativo', 5: 'Administrador', 9: 'Inativo', 10: 'Inativo'} Inativo False True False\n",
      "{2023: {'ultimaAtiva': 'Inativo', 5: 'Encarregado', 9: 'Inativo', 10: 'Inativo'}} {'ultimaAtiva': 'Inativo', 5: 'Encarregado', 9: 'Inativo', 10: 'Inativo'} Inativo False True False\n",
      "{2023: {'ultimaAtiva': 'Administrador', 12: 'Administrador'}} {'ultimaAtiva': 'Administrador', 12: 'Administrador'} Administrador True True False\n",
      "{2022: {'ultimaAtiva': 'Coordenador', 4: 'Coordenador'}, 2023: {'ultimaAtiva': 'Coordenador', 7: 'Coordenador'}} {'ultimaAtiva': 'Coordenador', 7: 'Coordenador'} Coordenador True True True\n",
      "{2022: {'ultimaAtiva': 'Coordenador', 4: 'Coordenador'}, 2023: {'ultimaAtiva': 'Coordenador', 7: 'Coordenador'}} {'ultimaAtiva': 'Coordenador', 7: 'Coordenador'} Coordenador True True True\n",
      "{2022: {'ultimaAtiva': 'Coordenador', 4: 'Coordenador'}, 2023: {'ultimaAtiva': 'Coordenador', 7: 'Coordenador'}} {'ultimaAtiva': 'Coordenador', 7: 'Coordenador'} Coordenador True True True\n",
      "{2022: {'ultimaAtiva': 'Inativo', 4: 'Coordenador', 6: 'Inativo'}} {'ultimaAtiva': 'Inativo', 4: 'Coordenador', 6: 'Inativo'} Inativo False True False\n",
      "{2022: {'ultimaAtiva': 'Apontador', 4: 'Apontador'}, 2023: {'ultimaAtiva': 'Inativo', 3: 'Inativo'}} {'ultimaAtiva': 'Inativo', 3: 'Inativo'} Inativo False True True\n",
      "{2022: {'ultimaAtiva': 'Apontador', 5: 'Apontador', 10: 'Inativo', 11: 'Apontador'}, 2023: {'ultimaAtiva': 'Inativo', 3: 'Inativo'}} {'ultimaAtiva': 'Inativo', 3: 'Inativo'} Inativo False True True\n",
      "{2022: {'ultimaAtiva': 'Inativo', 6: 'Apontador', 'Inativo mesmo mês': 6}, 2023: {'ultimaAtiva': 'Inativo', 3: 'Inativo'}} {'ultimaAtiva': 'Inativo', 3: 'Inativo'} Inativo False True True\n",
      "{2022: {'ultimaAtiva': 'Encarregado com Configurações', 6: 'Apontador', 9: 'Encarregado com Configurações'}, 2023: {'ultimaAtiva': 'Inativo', 8: 'Inativo', 12: 'Inativo'}} {'ultimaAtiva': 'Inativo', 8: 'Inativo', 12: 'Inativo'} Inativo False True True\n",
      "{2022: {'ultimaAtiva': 'Coordenador', 6: 'Coordenador'}, 2023: {'ultimaAtiva': 'Coordenador', 1: 'Coordenador'}} {'ultimaAtiva': 'Coordenador', 1: 'Coordenador'} Coordenador True True True\n",
      "{2022: {'ultimaAtiva': 'Apontador', 10: 'Apontador'}} {'ultimaAtiva': 'Apontador', 10: 'Apontador'} Apontador True True False\n",
      "{2022: {'ultimaAtiva': 'Apontador', 11: 'Apontador'}, 2023: {'ultimaAtiva': 'Inativo', 3: 'Inativo'}} {'ultimaAtiva': 'Inativo', 3: 'Inativo'} Inativo False True True\n",
      "{2022: {'ultimaAtiva': 'Apontador', 12: 'Apontador'}, 2023: {'ultimaAtiva': 'Inativo', 3: 'Inativo'}} {'ultimaAtiva': 'Inativo', 3: 'Inativo'} Inativo False True True\n",
      "{2023: {'ultimaAtiva': 'Inativo', 1: 'Apontador', 7: 'Inativo'}} {'ultimaAtiva': 'Inativo', 1: 'Apontador', 7: 'Inativo'} Inativo False True False\n",
      "{2023: {'ultimaAtiva': 'Apontador', 2: 'Apontador'}, 2024: {'ultimaAtiva': 'Inativo', 1: 'Inativo'}} {'ultimaAtiva': 'Inativo', 1: 'Inativo'} Inativo False True True\n",
      "{2023: {'ultimaAtiva': 'Inativo', 3: 'Apontador', 8: 'Inativo'}, 2024: {'ultimaAtiva': 'Apontador', 1: 'Apontador'}} {'ultimaAtiva': 'Apontador', 1: 'Apontador'} Apontador True True True\n",
      "{2023: {'ultimaAtiva': 'Inativo', 3: 'Visualizador', 12: 'Inativo'}} {'ultimaAtiva': 'Inativo', 3: 'Visualizador', 12: 'Inativo'} Inativo False True False\n",
      "{2023: {'ultimaAtiva': 'Visualizador', 3: 'Visualizador'}} {'ultimaAtiva': 'Visualizador', 3: 'Visualizador'} Visualizador True True False\n",
      "{2023: {'ultimaAtiva': 'Visualizador', 3: 'Visualizador'}} {'ultimaAtiva': 'Visualizador', 3: 'Visualizador'} Visualizador True True False\n",
      "{2023: {'ultimaAtiva': 'Inativo', 3: 'Apontador', 'Inativo mesmo mês': 10, 8: 'Apontador', 10: 'Apontador'}} {'ultimaAtiva': 'Inativo', 3: 'Apontador', 'Inativo mesmo mês': 10, 8: 'Apontador', 10: 'Apontador'} Apontador True False False\n",
      "{2023: {'ultimaAtiva': 'Apontador', 4: 'Apontador'}} {'ultimaAtiva': 'Apontador', 4: 'Apontador'} Apontador True True False\n",
      "{2023: {'ultimaAtiva': 'Inativo', 5: 'Apontador', 10: 'Inativo'}} {'ultimaAtiva': 'Inativo', 5: 'Apontador', 10: 'Inativo'} Inativo False True False\n",
      "{2023: {'ultimaAtiva': 'Apontador', 5: 'Apontador'}, 2024: {'ultimaAtiva': 'Inativo', 1: 'Inativo'}} {'ultimaAtiva': 'Inativo', 1: 'Inativo'} Inativo False True True\n",
      "{2023: {'ultimaAtiva': 'Inativo', 5: 'Apontador', 8: 'Inativo'}} {'ultimaAtiva': 'Inativo', 5: 'Apontador', 8: 'Inativo'} Inativo False True False\n",
      "{2023: {'ultimaAtiva': 'Coordenador', 7: 'Coordenador', 8: 'Coordenador'}} {'ultimaAtiva': 'Coordenador', 7: 'Coordenador', 8: 'Coordenador'} Coordenador True True False\n",
      "{2023: {'ultimaAtiva': 'Coordenador', 7: 'Coordenador'}} {'ultimaAtiva': 'Coordenador', 7: 'Coordenador'} Coordenador True True False\n",
      "{2023: {'ultimaAtiva': 'Coordenador', 7: 'Coordenador'}} {'ultimaAtiva': 'Coordenador', 7: 'Coordenador'} Coordenador True True False\n",
      "{2023: {'ultimaAtiva': 'Apontador', 7: 'Apontador'}} {'ultimaAtiva': 'Apontador', 7: 'Apontador'} Apontador True True False\n",
      "{2023: {'ultimaAtiva': 'Coordenador', 7: 'Coordenador'}} {'ultimaAtiva': 'Coordenador', 7: 'Coordenador'} Coordenador True True False\n",
      "{2023: {'ultimaAtiva': 'Coordenador', 7: 'Coordenador'}} {'ultimaAtiva': 'Coordenador', 7: 'Coordenador'} Coordenador True True False\n",
      "{2023: {'ultimaAtiva': 'Coordenador', 7: 'Coordenador'}} {'ultimaAtiva': 'Coordenador', 7: 'Coordenador'} Coordenador True True False\n",
      "{2023: {'ultimaAtiva': 'Coordenador', 7: 'Coordenador'}} {'ultimaAtiva': 'Coordenador', 7: 'Coordenador'} Coordenador True True False\n",
      "{2023: {'ultimaAtiva': 'Inativo', 7: 'Apontador', 12: 'Inativo'}} {'ultimaAtiva': 'Inativo', 7: 'Apontador', 12: 'Inativo'} Inativo False True False\n",
      "{2023: {'ultimaAtiva': 'Sala técnica', 8: 'Sala técnica'}} {'ultimaAtiva': 'Sala técnica', 8: 'Sala técnica'} Sala técnica True True False\n",
      "{2023: {'ultimaAtiva': 'Inativo', 8: 'Apontador', 12: 'Inativo'}} {'ultimaAtiva': 'Inativo', 8: 'Apontador', 12: 'Inativo'} Inativo False True False\n",
      "{2023: {'ultimaAtiva': 'Inativo', 8: 'Usuário de campo', 11: 'Inativo'}} {'ultimaAtiva': 'Inativo', 8: 'Usuário de campo', 11: 'Inativo'} Inativo False True False\n",
      "{2023: {'ultimaAtiva': 'Inativo', 8: 'Usuário de campo', 12: 'Inativo'}} {'ultimaAtiva': 'Inativo', 8: 'Usuário de campo', 12: 'Inativo'} Inativo False True False\n",
      "{2023: {'ultimaAtiva': 'Inativo', 8: 'Apontador', 10: 'Inativo'}} {'ultimaAtiva': 'Inativo', 8: 'Apontador', 10: 'Inativo'} Inativo False True False\n",
      "{2023: {'ultimaAtiva': 'Usuário de campo', 8: 'Usuário de campo'}} {'ultimaAtiva': 'Usuário de campo', 8: 'Usuário de campo'} Usuário de campo True True False\n",
      "{2023: {'ultimaAtiva': 'Usuário de campo', 8: 'Usuário de campo'}} {'ultimaAtiva': 'Usuário de campo', 8: 'Usuário de campo'} Usuário de campo True True False\n",
      "{2023: {'ultimaAtiva': 'Inativo', 8: 'Usuário de campo', 12: 'Usuário de campo', 'Inativo mesmo mês': 12}} {'ultimaAtiva': 'Inativo', 8: 'Usuário de campo', 12: 'Usuário de campo', 'Inativo mesmo mês': 12} Usuário de campo True False False\n",
      "{2023: {'ultimaAtiva': 'Usuário de campo', 8: 'Usuário de campo'}} {'ultimaAtiva': 'Usuário de campo', 8: 'Usuário de campo'} Usuário de campo True True False\n",
      "{2023: {'ultimaAtiva': 'Usuário de campo', 8: 'Usuário de campo'}} {'ultimaAtiva': 'Usuário de campo', 8: 'Usuário de campo'} Usuário de campo True True False\n",
      "{2023: {'ultimaAtiva': 'Inativo', 8: 'Apontador', 10: 'Inativo', 11: 'Apontador', 'Inativo mesmo mês': 11}} {'ultimaAtiva': 'Inativo', 8: 'Apontador', 10: 'Inativo', 11: 'Apontador', 'Inativo mesmo mês': 11} Apontador True False False\n",
      "{2023: {'ultimaAtiva': 'Inativo', 8: 'Usuário de campo', 12: 'Inativo'}} {'ultimaAtiva': 'Inativo', 8: 'Usuário de campo', 12: 'Inativo'} Inativo False True False\n",
      "{2023: {'ultimaAtiva': 'Inativo', 9: 'Usuário de campo', 12: 'Inativo'}} {'ultimaAtiva': 'Inativo', 9: 'Usuário de campo', 12: 'Inativo'} Inativo False True False\n",
      "{2023: {'ultimaAtiva': 'Inativo', 9: 'Usuário de campo', 12: 'Inativo'}} {'ultimaAtiva': 'Inativo', 9: 'Usuário de campo', 12: 'Inativo'} Inativo False True False\n",
      "{2023: {'ultimaAtiva': 'Usuário de campo', 9: 'Usuário de campo'}} {'ultimaAtiva': 'Usuário de campo', 9: 'Usuário de campo'} Usuário de campo True True False\n",
      "{2023: {'ultimaAtiva': 'Usuário de campo', 9: 'Usuário de campo'}} {'ultimaAtiva': 'Usuário de campo', 9: 'Usuário de campo'} Usuário de campo True True False\n",
      "{2023: {'ultimaAtiva': 'Inativo', 9: 'Apontador', 10: 'Inativo'}} {'ultimaAtiva': 'Inativo', 9: 'Apontador', 10: 'Inativo'} Inativo False True False\n",
      "{2023: {'ultimaAtiva': 'Usuário de campo', 9: 'Usuário de campo'}} {'ultimaAtiva': 'Usuário de campo', 9: 'Usuário de campo'} Usuário de campo True True False\n",
      "{2023: {'ultimaAtiva': 'Usuário de campo', 9: 'Usuário de campo'}} {'ultimaAtiva': 'Usuário de campo', 9: 'Usuário de campo'} Usuário de campo True True False\n",
      "{2023: {'ultimaAtiva': 'Coordenador', 9: 'Coordenador', 11: 'Coordenador'}} {'ultimaAtiva': 'Coordenador', 9: 'Coordenador', 11: 'Coordenador'} Coordenador True True False\n",
      "{2023: {'ultimaAtiva': 'Usuário de campo', 10: 'Usuário de campo'}} {'ultimaAtiva': 'Usuário de campo', 10: 'Usuário de campo'} Usuário de campo True True False\n",
      "{2023: {'ultimaAtiva': 'Inativo', 10: 'Apontador', 12: 'Inativo'}, 2024: {'ultimaAtiva': 'Apontador', 2: 'Apontador'}} {'ultimaAtiva': 'Apontador', 2: 'Apontador'} Apontador True True True\n",
      "{2023: {'ultimaAtiva': 'Inativo', 10: 'Usuário de campo', 12: 'Inativo'}} {'ultimaAtiva': 'Inativo', 10: 'Usuário de campo', 12: 'Inativo'} Inativo False True False\n",
      "{2023: {'ultimaAtiva': 'Usuário de campo', 11: 'Usuário de campo'}} {'ultimaAtiva': 'Usuário de campo', 11: 'Usuário de campo'} Usuário de campo True True False\n",
      "{2023: {'ultimaAtiva': 'Usuário de campo', 11: 'Usuário de campo'}} {'ultimaAtiva': 'Usuário de campo', 11: 'Usuário de campo'} Usuário de campo True True False\n",
      "{2023: {'ultimaAtiva': 'Usuário de campo', 11: 'Usuário de campo'}} {'ultimaAtiva': 'Usuário de campo', 11: 'Usuário de campo'} Usuário de campo True True False\n",
      "{2023: {'ultimaAtiva': 'Usuário de campo', 11: 'Usuário de campo'}} {'ultimaAtiva': 'Usuário de campo', 11: 'Usuário de campo'} Usuário de campo True True False\n",
      "{2023: {'ultimaAtiva': 'Inativo', 11: 'Usuário de campo', 12: 'Inativo'}} {'ultimaAtiva': 'Inativo', 11: 'Usuário de campo', 12: 'Inativo'} Inativo False True False\n",
      "{2023: {'ultimaAtiva': 'Usuário de campo', 11: 'Usuário de campo'}} {'ultimaAtiva': 'Usuário de campo', 11: 'Usuário de campo'} Usuário de campo True True False\n",
      "{2023: {'ultimaAtiva': 'Usuário de campo', 12: 'Usuário de campo'}} {'ultimaAtiva': 'Usuário de campo', 12: 'Usuário de campo'} Usuário de campo True True False\n",
      "{2024: {'ultimaAtiva': 'Apontador', 1: 'Apontador'}} {'ultimaAtiva': 'Apontador', 1: 'Apontador'} Apontador True True False\n"
     ]
    },
    {
     "name": "stdout",
     "output_type": "stream",
     "text": [
      "{2022: {'ultimaAtiva': 'Coordenador', 4: 'Coordenador'}, 2023: {'ultimaAtiva': 'Coordenador', 7: 'Coordenador'}} {'ultimaAtiva': 'Coordenador', 7: 'Coordenador'} Coordenador True True True\n",
      "{2022: {'ultimaAtiva': 'Coordenador', 4: 'Coordenador'}, 2023: {'ultimaAtiva': 'Coordenador', 7: 'Coordenador'}} {'ultimaAtiva': 'Coordenador', 7: 'Coordenador'} Coordenador True True True\n",
      "{2022: {'ultimaAtiva': 'Coordenador', 4: 'Coordenador'}, 2023: {'ultimaAtiva': 'Coordenador', 7: 'Coordenador'}} {'ultimaAtiva': 'Coordenador', 7: 'Coordenador'} Coordenador True True True\n",
      "{2022: {'ultimaAtiva': 'Inativo', 4: 'Coordenador', 6: 'Inativo'}} {'ultimaAtiva': 'Inativo', 4: 'Coordenador', 6: 'Inativo'} Inativo False True False\n",
      "{2022: {'ultimaAtiva': 'Apontador', 4: 'Apontador'}, 2023: {'ultimaAtiva': 'Inativo', 3: 'Inativo'}} {'ultimaAtiva': 'Inativo', 3: 'Inativo'} Inativo False True True\n",
      "{2022: {'ultimaAtiva': 'Apontador', 5: 'Apontador', 10: 'Inativo', 11: 'Apontador'}, 2023: {'ultimaAtiva': 'Inativo', 3: 'Inativo'}} {'ultimaAtiva': 'Inativo', 3: 'Inativo'} Inativo False True True\n",
      "{2022: {'ultimaAtiva': 'Inativo', 6: 'Apontador', 'Inativo mesmo mês': 6}, 2023: {'ultimaAtiva': 'Inativo', 3: 'Inativo'}} {'ultimaAtiva': 'Inativo', 3: 'Inativo'} Inativo False True True\n",
      "{2022: {'ultimaAtiva': 'Encarregado com Configurações', 6: 'Apontador', 9: 'Encarregado com Configurações'}, 2023: {'ultimaAtiva': 'Inativo', 8: 'Inativo', 12: 'Inativo'}} {'ultimaAtiva': 'Inativo', 8: 'Inativo', 12: 'Inativo'} Inativo False True True\n",
      "{2022: {'ultimaAtiva': 'Coordenador', 6: 'Coordenador'}, 2023: {'ultimaAtiva': 'Coordenador', 1: 'Coordenador'}} {'ultimaAtiva': 'Coordenador', 1: 'Coordenador'} Coordenador True True True\n",
      "{2022: {'ultimaAtiva': 'Apontador', 10: 'Apontador'}} {'ultimaAtiva': 'Apontador', 10: 'Apontador'} Apontador True True False\n",
      "{2022: {'ultimaAtiva': 'Apontador', 11: 'Apontador'}, 2023: {'ultimaAtiva': 'Inativo', 3: 'Inativo'}} {'ultimaAtiva': 'Inativo', 3: 'Inativo'} Inativo False True True\n",
      "{2022: {'ultimaAtiva': 'Apontador', 12: 'Apontador'}, 2023: {'ultimaAtiva': 'Inativo', 3: 'Inativo'}} {'ultimaAtiva': 'Inativo', 3: 'Inativo'} Inativo False True True\n",
      "{2023: {'ultimaAtiva': 'Inativo', 1: 'Apontador', 7: 'Inativo'}} {'ultimaAtiva': 'Inativo', 1: 'Apontador', 7: 'Inativo'} Inativo False True False\n",
      "{2023: {'ultimaAtiva': 'Apontador', 2: 'Apontador'}, 2024: {'ultimaAtiva': 'Inativo', 1: 'Inativo'}} {'ultimaAtiva': 'Inativo', 1: 'Inativo'} Inativo False True True\n",
      "{2023: {'ultimaAtiva': 'Inativo', 3: 'Apontador', 8: 'Inativo'}, 2024: {'ultimaAtiva': 'Apontador', 1: 'Apontador'}} {'ultimaAtiva': 'Apontador', 1: 'Apontador'} Apontador True True True\n",
      "{2023: {'ultimaAtiva': 'Inativo', 3: 'Visualizador', 12: 'Inativo'}} {'ultimaAtiva': 'Inativo', 3: 'Visualizador', 12: 'Inativo'} Inativo False True False\n",
      "{2023: {'ultimaAtiva': 'Visualizador', 3: 'Visualizador'}} {'ultimaAtiva': 'Visualizador', 3: 'Visualizador'} Visualizador True True False\n",
      "{2023: {'ultimaAtiva': 'Visualizador', 3: 'Visualizador'}} {'ultimaAtiva': 'Visualizador', 3: 'Visualizador'} Visualizador True True False\n",
      "{2023: {'ultimaAtiva': 'Inativo', 3: 'Apontador', 'Inativo mesmo mês': 10, 8: 'Apontador', 10: 'Apontador'}} {'ultimaAtiva': 'Inativo', 3: 'Apontador', 'Inativo mesmo mês': 10, 8: 'Apontador', 10: 'Apontador'} Apontador True False False\n",
      "{2023: {'ultimaAtiva': 'Apontador', 4: 'Apontador'}} {'ultimaAtiva': 'Apontador', 4: 'Apontador'} Apontador True True False\n",
      "{2023: {'ultimaAtiva': 'Inativo', 5: 'Apontador', 10: 'Inativo'}} {'ultimaAtiva': 'Inativo', 5: 'Apontador', 10: 'Inativo'} Inativo False True False\n",
      "{2023: {'ultimaAtiva': 'Apontador', 5: 'Apontador'}, 2024: {'ultimaAtiva': 'Inativo', 1: 'Inativo'}} {'ultimaAtiva': 'Inativo', 1: 'Inativo'} Inativo False True True\n",
      "{2023: {'ultimaAtiva': 'Inativo', 5: 'Apontador', 8: 'Inativo'}} {'ultimaAtiva': 'Inativo', 5: 'Apontador', 8: 'Inativo'} Inativo False True False\n",
      "{2023: {'ultimaAtiva': 'Coordenador', 7: 'Coordenador', 8: 'Coordenador'}} {'ultimaAtiva': 'Coordenador', 7: 'Coordenador', 8: 'Coordenador'} Coordenador True True False\n",
      "{2023: {'ultimaAtiva': 'Coordenador', 7: 'Coordenador'}} {'ultimaAtiva': 'Coordenador', 7: 'Coordenador'} Coordenador True True False\n",
      "{2023: {'ultimaAtiva': 'Coordenador', 7: 'Coordenador'}} {'ultimaAtiva': 'Coordenador', 7: 'Coordenador'} Coordenador True True False\n",
      "{2023: {'ultimaAtiva': 'Apontador', 7: 'Apontador'}} {'ultimaAtiva': 'Apontador', 7: 'Apontador'} Apontador True True False\n",
      "{2023: {'ultimaAtiva': 'Coordenador', 7: 'Coordenador'}} {'ultimaAtiva': 'Coordenador', 7: 'Coordenador'} Coordenador True True False\n",
      "{2023: {'ultimaAtiva': 'Coordenador', 7: 'Coordenador'}} {'ultimaAtiva': 'Coordenador', 7: 'Coordenador'} Coordenador True True False\n",
      "{2023: {'ultimaAtiva': 'Coordenador', 7: 'Coordenador'}} {'ultimaAtiva': 'Coordenador', 7: 'Coordenador'} Coordenador True True False\n",
      "{2023: {'ultimaAtiva': 'Coordenador', 7: 'Coordenador'}} {'ultimaAtiva': 'Coordenador', 7: 'Coordenador'} Coordenador True True False\n",
      "{2023: {'ultimaAtiva': 'Inativo', 7: 'Apontador', 12: 'Inativo'}} {'ultimaAtiva': 'Inativo', 7: 'Apontador', 12: 'Inativo'} Inativo False True False\n",
      "{2023: {'ultimaAtiva': 'Sala técnica', 8: 'Sala técnica'}} {'ultimaAtiva': 'Sala técnica', 8: 'Sala técnica'} Sala técnica True True False\n",
      "{2023: {'ultimaAtiva': 'Inativo', 8: 'Apontador', 12: 'Inativo'}} {'ultimaAtiva': 'Inativo', 8: 'Apontador', 12: 'Inativo'} Inativo False True False\n",
      "{2023: {'ultimaAtiva': 'Inativo', 8: 'Usuário de campo', 11: 'Inativo'}} {'ultimaAtiva': 'Inativo', 8: 'Usuário de campo', 11: 'Inativo'} Inativo False True False\n",
      "{2023: {'ultimaAtiva': 'Inativo', 8: 'Usuário de campo', 12: 'Inativo'}} {'ultimaAtiva': 'Inativo', 8: 'Usuário de campo', 12: 'Inativo'} Inativo False True False\n",
      "{2023: {'ultimaAtiva': 'Inativo', 8: 'Apontador', 10: 'Inativo'}} {'ultimaAtiva': 'Inativo', 8: 'Apontador', 10: 'Inativo'} Inativo False True False\n",
      "{2023: {'ultimaAtiva': 'Usuário de campo', 8: 'Usuário de campo'}} {'ultimaAtiva': 'Usuário de campo', 8: 'Usuário de campo'} Usuário de campo True True False\n",
      "{2023: {'ultimaAtiva': 'Usuário de campo', 8: 'Usuário de campo'}} {'ultimaAtiva': 'Usuário de campo', 8: 'Usuário de campo'} Usuário de campo True True False\n",
      "{2023: {'ultimaAtiva': 'Inativo', 8: 'Usuário de campo', 12: 'Usuário de campo', 'Inativo mesmo mês': 12}} {'ultimaAtiva': 'Inativo', 8: 'Usuário de campo', 12: 'Usuário de campo', 'Inativo mesmo mês': 12} Usuário de campo True False False\n",
      "{2023: {'ultimaAtiva': 'Usuário de campo', 8: 'Usuário de campo'}} {'ultimaAtiva': 'Usuário de campo', 8: 'Usuário de campo'} Usuário de campo True True False\n",
      "{2023: {'ultimaAtiva': 'Usuário de campo', 8: 'Usuário de campo'}} {'ultimaAtiva': 'Usuário de campo', 8: 'Usuário de campo'} Usuário de campo True True False\n",
      "{2023: {'ultimaAtiva': 'Inativo', 8: 'Apontador', 10: 'Inativo', 11: 'Apontador', 'Inativo mesmo mês': 11}} {'ultimaAtiva': 'Inativo', 8: 'Apontador', 10: 'Inativo', 11: 'Apontador', 'Inativo mesmo mês': 11} Apontador True False False\n",
      "{2023: {'ultimaAtiva': 'Inativo', 8: 'Usuário de campo', 12: 'Inativo'}} {'ultimaAtiva': 'Inativo', 8: 'Usuário de campo', 12: 'Inativo'} Inativo False True False\n",
      "{2023: {'ultimaAtiva': 'Inativo', 9: 'Usuário de campo', 12: 'Inativo'}} {'ultimaAtiva': 'Inativo', 9: 'Usuário de campo', 12: 'Inativo'} Inativo False True False\n",
      "{2023: {'ultimaAtiva': 'Inativo', 9: 'Usuário de campo', 12: 'Inativo'}} {'ultimaAtiva': 'Inativo', 9: 'Usuário de campo', 12: 'Inativo'} Inativo False True False\n",
      "{2023: {'ultimaAtiva': 'Usuário de campo', 9: 'Usuário de campo'}} {'ultimaAtiva': 'Usuário de campo', 9: 'Usuário de campo'} Usuário de campo True True False\n",
      "{2023: {'ultimaAtiva': 'Usuário de campo', 9: 'Usuário de campo'}} {'ultimaAtiva': 'Usuário de campo', 9: 'Usuário de campo'} Usuário de campo True True False\n",
      "{2023: {'ultimaAtiva': 'Inativo', 9: 'Apontador', 10: 'Inativo'}} {'ultimaAtiva': 'Inativo', 9: 'Apontador', 10: 'Inativo'} Inativo False True False\n",
      "{2023: {'ultimaAtiva': 'Usuário de campo', 9: 'Usuário de campo'}} {'ultimaAtiva': 'Usuário de campo', 9: 'Usuário de campo'} Usuário de campo True True False\n",
      "{2023: {'ultimaAtiva': 'Usuário de campo', 9: 'Usuário de campo'}} {'ultimaAtiva': 'Usuário de campo', 9: 'Usuário de campo'} Usuário de campo True True False\n",
      "{2023: {'ultimaAtiva': 'Coordenador', 9: 'Coordenador', 11: 'Coordenador'}} {'ultimaAtiva': 'Coordenador', 9: 'Coordenador', 11: 'Coordenador'} Coordenador True True False\n",
      "{2023: {'ultimaAtiva': 'Usuário de campo', 10: 'Usuário de campo'}} {'ultimaAtiva': 'Usuário de campo', 10: 'Usuário de campo'} Usuário de campo True True False\n",
      "{2023: {'ultimaAtiva': 'Inativo', 10: 'Apontador', 12: 'Inativo'}, 2024: {'ultimaAtiva': 'Apontador', 2: 'Apontador'}} {'ultimaAtiva': 'Apontador', 2: 'Apontador'} Apontador True True True\n",
      "{2023: {'ultimaAtiva': 'Inativo', 10: 'Usuário de campo', 12: 'Inativo'}} {'ultimaAtiva': 'Inativo', 10: 'Usuário de campo', 12: 'Inativo'} Inativo False True False\n",
      "{2023: {'ultimaAtiva': 'Usuário de campo', 11: 'Usuário de campo'}} {'ultimaAtiva': 'Usuário de campo', 11: 'Usuário de campo'} Usuário de campo True True False\n",
      "{2023: {'ultimaAtiva': 'Usuário de campo', 11: 'Usuário de campo'}} {'ultimaAtiva': 'Usuário de campo', 11: 'Usuário de campo'} Usuário de campo True True False\n",
      "{2023: {'ultimaAtiva': 'Usuário de campo', 11: 'Usuário de campo'}} {'ultimaAtiva': 'Usuário de campo', 11: 'Usuário de campo'} Usuário de campo True True False\n",
      "{2023: {'ultimaAtiva': 'Usuário de campo', 11: 'Usuário de campo'}} {'ultimaAtiva': 'Usuário de campo', 11: 'Usuário de campo'} Usuário de campo True True False\n",
      "{2023: {'ultimaAtiva': 'Inativo', 11: 'Usuário de campo', 12: 'Inativo'}} {'ultimaAtiva': 'Inativo', 11: 'Usuário de campo', 12: 'Inativo'} Inativo False True False\n",
      "{2023: {'ultimaAtiva': 'Usuário de campo', 11: 'Usuário de campo'}} {'ultimaAtiva': 'Usuário de campo', 11: 'Usuário de campo'} Usuário de campo True True False\n",
      "{2023: {'ultimaAtiva': 'Usuário de campo', 12: 'Usuário de campo'}} {'ultimaAtiva': 'Usuário de campo', 12: 'Usuário de campo'} Usuário de campo True True False\n",
      "{2024: {'ultimaAtiva': 'Apontador', 1: 'Apontador'}} {'ultimaAtiva': 'Apontador', 1: 'Apontador'} Apontador True True False\n",
      "{2022: {'ultimaAtiva': 'Coordenador', 4: 'Coordenador'}, 2024: {'ultimaAtiva': 'Inativo', 1: 'Coordenador', 'Inativo mesmo mês': 1}} {'ultimaAtiva': 'Inativo', 1: 'Coordenador', 'Inativo mesmo mês': 1} Coordenador True False True\n",
      "{2022: {'ultimaAtiva': 'Coordenador', 4: 'Coordenador'}, 2024: {'ultimaAtiva': 'Inativo', 1: 'Coordenador', 'Inativo mesmo mês': 1}} {'ultimaAtiva': 'Inativo', 1: 'Coordenador', 'Inativo mesmo mês': 1} Coordenador True False True\n",
      "{2022: {'ultimaAtiva': 'Coordenador', 4: 'Coordenador'}, 2024: {'ultimaAtiva': 'Inativo', 1: 'Coordenador', 'Inativo mesmo mês': 1}} {'ultimaAtiva': 'Inativo', 1: 'Coordenador', 'Inativo mesmo mês': 1} Coordenador True False True\n",
      "{2022: {'ultimaAtiva': 'Inativo', 5: 'Encarregado', 6: 'Inativo'}} {'ultimaAtiva': 'Inativo', 5: 'Encarregado', 6: 'Inativo'} Inativo False True False\n",
      "{2022: {'ultimaAtiva': 'Encarregado', 5: 'Encarregado', 6: 'Encarregado'}, 2024: {'ultimaAtiva': 'Inativo', 1: 'Encarregado', 'Inativo mesmo mês': 1}} {'ultimaAtiva': 'Inativo', 1: 'Encarregado', 'Inativo mesmo mês': 1} Encarregado True False True\n",
      "{2022: {'ultimaAtiva': 'Encarregado', 6: 'Encarregado'}, 2024: {'ultimaAtiva': 'Inativo', 1: 'Encarregado', 'Inativo mesmo mês': 1}} {'ultimaAtiva': 'Inativo', 1: 'Encarregado', 'Inativo mesmo mês': 1} Encarregado True False True\n"
     ]
    },
    {
     "name": "stdout",
     "output_type": "stream",
     "text": [
      "{2022: {'ultimaAtiva': 'Coordenador', 4: 'Coordenador'}, 2024: {'ultimaAtiva': 'Inativo', 1: 'Coordenador', 'Inativo mesmo mês': 1}} {'ultimaAtiva': 'Inativo', 1: 'Coordenador', 'Inativo mesmo mês': 1} Coordenador True False True\n",
      "{2022: {'ultimaAtiva': 'Coordenador', 4: 'Coordenador'}, 2024: {'ultimaAtiva': 'Inativo', 1: 'Coordenador', 'Inativo mesmo mês': 1}} {'ultimaAtiva': 'Inativo', 1: 'Coordenador', 'Inativo mesmo mês': 1} Coordenador True False True\n",
      "{2022: {'ultimaAtiva': 'Coordenador', 4: 'Coordenador'}, 2024: {'ultimaAtiva': 'Inativo', 1: 'Coordenador', 'Inativo mesmo mês': 1}} {'ultimaAtiva': 'Inativo', 1: 'Coordenador', 'Inativo mesmo mês': 1} Coordenador True False True\n",
      "{2022: {'ultimaAtiva': 'Inativo', 5: 'Encarregado', 6: 'Inativo'}} {'ultimaAtiva': 'Inativo', 5: 'Encarregado', 6: 'Inativo'} Inativo False True False\n",
      "{2022: {'ultimaAtiva': 'Encarregado', 5: 'Encarregado', 6: 'Encarregado'}, 2024: {'ultimaAtiva': 'Inativo', 1: 'Encarregado', 'Inativo mesmo mês': 1}} {'ultimaAtiva': 'Inativo', 1: 'Encarregado', 'Inativo mesmo mês': 1} Encarregado True False True\n",
      "{2022: {'ultimaAtiva': 'Encarregado', 6: 'Encarregado'}, 2024: {'ultimaAtiva': 'Inativo', 1: 'Encarregado', 'Inativo mesmo mês': 1}} {'ultimaAtiva': 'Inativo', 1: 'Encarregado', 'Inativo mesmo mês': 1} Encarregado True False True\n",
      "{2022: {'ultimaAtiva': 'Inativo', 6: 'Sala técnica AJR', 10: 'Inativo'}} {'ultimaAtiva': 'Inativo', 6: 'Sala técnica AJR', 10: 'Inativo'} Inativo False True False\n",
      "{2022: {'ultimaAtiva': 'Sala técnica AJR', 6: 'Sala técnica AJR'}, 2023: {'ultimaAtiva': 'Inativo', 7: 'Inativo'}} {'ultimaAtiva': 'Inativo', 7: 'Inativo'} Inativo False True True\n",
      "{2022: {'ultimaAtiva': 'Sala técnica AJR', 6: 'Sala técnica AJR'}} {'ultimaAtiva': 'Sala técnica AJR', 6: 'Sala técnica AJR'} Sala técnica AJR True True False\n",
      "{2022: {'ultimaAtiva': 'Inativo', 6: 'Sala técnica AJR', 10: 'Inativo'}} {'ultimaAtiva': 'Inativo', 6: 'Sala técnica AJR', 10: 'Inativo'} Inativo False True False\n",
      "{2022: {'ultimaAtiva': 'Sala técnica AJR', 6: 'Sala técnica AJR'}, 2023: {'ultimaAtiva': 'Inativo', 5: 'Inativo'}} {'ultimaAtiva': 'Inativo', 5: 'Inativo'} Inativo False True True\n",
      "{2022: {'ultimaAtiva': 'Inativo', 7: 'Sala técnica AJR', 10: 'Inativo'}} {'ultimaAtiva': 'Inativo', 7: 'Sala técnica AJR', 10: 'Inativo'} Inativo False True False\n",
      "{2022: {'ultimaAtiva': 'Sala técnica AJR', 8: 'Sala técnica AJR'}, 2023: {'ultimaAtiva': 'Inativo', 1: 'Sala técnica AJR', 'Inativo mesmo mês': 1}} {'ultimaAtiva': 'Inativo', 1: 'Sala técnica AJR', 'Inativo mesmo mês': 1} Sala técnica AJR True False True\n",
      "{2022: {'ultimaAtiva': 'Sala técnica AJR', 10: 'Sala técnica AJR'}, 2023: {'ultimaAtiva': 'Inativo', 5: 'Inativo'}} {'ultimaAtiva': 'Inativo', 5: 'Inativo'} Inativo False True True\n",
      "{2022: {'ultimaAtiva': 'Sala técnica AJR', 10: 'Sala técnica AJR'}} {'ultimaAtiva': 'Sala técnica AJR', 10: 'Sala técnica AJR'} Sala técnica AJR True True False\n",
      "{2022: {'ultimaAtiva': 'Sala técnica AJR', 10: 'Sala técnica AJR'}} {'ultimaAtiva': 'Sala técnica AJR', 10: 'Sala técnica AJR'} Sala técnica AJR True True False\n",
      "{2022: {'ultimaAtiva': 'Sala técnica AJR', 10: 'Sala técnica AJR'}} {'ultimaAtiva': 'Sala técnica AJR', 10: 'Sala técnica AJR'} Sala técnica AJR True True False\n",
      "{2023: {'ultimaAtiva': 'Inativo', 1: 'Sala técnica AJR', 4: 'Inativo'}} {'ultimaAtiva': 'Inativo', 1: 'Sala técnica AJR', 4: 'Inativo'} Inativo False True False\n",
      "{2023: {'ultimaAtiva': 'Inativo', 4: 'Sala técnica AJR', 7: 'Inativo'}} {'ultimaAtiva': 'Inativo', 4: 'Sala técnica AJR', 7: 'Inativo'} Inativo False True False\n",
      "{2022: {'ultimaAtiva': 'Inativo', 6: 'Sala técnica AJR', 10: 'Inativo'}} {'ultimaAtiva': 'Inativo', 6: 'Sala técnica AJR', 10: 'Inativo'} Inativo False True False\n",
      "{2022: {'ultimaAtiva': 'Sala técnica AJR', 6: 'Sala técnica AJR'}, 2023: {'ultimaAtiva': 'Inativo', 7: 'Inativo'}} {'ultimaAtiva': 'Inativo', 7: 'Inativo'} Inativo False True True\n",
      "{2022: {'ultimaAtiva': 'Sala técnica AJR', 6: 'Sala técnica AJR'}} {'ultimaAtiva': 'Sala técnica AJR', 6: 'Sala técnica AJR'} Sala técnica AJR True True False\n",
      "{2022: {'ultimaAtiva': 'Inativo', 6: 'Sala técnica AJR', 10: 'Inativo'}} {'ultimaAtiva': 'Inativo', 6: 'Sala técnica AJR', 10: 'Inativo'} Inativo False True False\n",
      "{2022: {'ultimaAtiva': 'Sala técnica AJR', 6: 'Sala técnica AJR'}, 2023: {'ultimaAtiva': 'Inativo', 5: 'Inativo'}} {'ultimaAtiva': 'Inativo', 5: 'Inativo'} Inativo False True True\n",
      "{2022: {'ultimaAtiva': 'Inativo', 7: 'Sala técnica AJR', 10: 'Inativo'}} {'ultimaAtiva': 'Inativo', 7: 'Sala técnica AJR', 10: 'Inativo'} Inativo False True False\n",
      "{2022: {'ultimaAtiva': 'Sala técnica AJR', 8: 'Sala técnica AJR'}, 2023: {'ultimaAtiva': 'Inativo', 1: 'Sala técnica AJR', 'Inativo mesmo mês': 1}} {'ultimaAtiva': 'Inativo', 1: 'Sala técnica AJR', 'Inativo mesmo mês': 1} Sala técnica AJR True False True\n",
      "{2022: {'ultimaAtiva': 'Sala técnica AJR', 10: 'Sala técnica AJR'}, 2023: {'ultimaAtiva': 'Inativo', 5: 'Inativo'}} {'ultimaAtiva': 'Inativo', 5: 'Inativo'} Inativo False True True\n",
      "{2022: {'ultimaAtiva': 'Sala técnica AJR', 10: 'Sala técnica AJR'}} {'ultimaAtiva': 'Sala técnica AJR', 10: 'Sala técnica AJR'} Sala técnica AJR True True False\n",
      "{2022: {'ultimaAtiva': 'Sala técnica AJR', 10: 'Sala técnica AJR'}} {'ultimaAtiva': 'Sala técnica AJR', 10: 'Sala técnica AJR'} Sala técnica AJR True True False\n",
      "{2022: {'ultimaAtiva': 'Sala técnica AJR', 10: 'Sala técnica AJR'}} {'ultimaAtiva': 'Sala técnica AJR', 10: 'Sala técnica AJR'} Sala técnica AJR True True False\n",
      "{2023: {'ultimaAtiva': 'Inativo', 1: 'Sala técnica AJR', 4: 'Inativo'}} {'ultimaAtiva': 'Inativo', 1: 'Sala técnica AJR', 4: 'Inativo'} Inativo False True False\n",
      "{2023: {'ultimaAtiva': 'Inativo', 4: 'Sala técnica AJR', 7: 'Inativo'}} {'ultimaAtiva': 'Inativo', 4: 'Sala técnica AJR', 7: 'Inativo'} Inativo False True False\n",
      "{2023: {'ultimaAtiva': 'Inativo', 3: 'Coordenador', 9: 'Inativo', 10: 'Inativo'}} {'ultimaAtiva': 'Inativo', 3: 'Coordenador', 9: 'Inativo', 10: 'Inativo'} Inativo False True False\n",
      "{2023: {'ultimaAtiva': 'Inativo', 3: 'Coordenador', 9: 'Inativo', 10: 'Inativo'}} {'ultimaAtiva': 'Inativo', 3: 'Coordenador', 9: 'Inativo', 10: 'Inativo'} Inativo False True False\n",
      "{2022: {'ultimaAtiva': 'Usuário de controle', 11: 'Usuário de controle'}, 2023: {'ultimaAtiva': 'Inativo', 4: 'Inativo'}} {'ultimaAtiva': 'Inativo', 4: 'Inativo'} Inativo False True True\n",
      "{2022: {'ultimaAtiva': 'Usuário de controle', 11: 'Usuário de controle'}} {'ultimaAtiva': 'Usuário de controle', 11: 'Usuário de controle'} Usuário de controle True True False\n",
      "{2022: {'ultimaAtiva': 'Usuário de controle', 11: 'Usuário de controle'}} {'ultimaAtiva': 'Usuário de controle', 11: 'Usuário de controle'} Usuário de controle True True False\n",
      "{2022: {'ultimaAtiva': 'Usuário de controle', 11: 'Usuário de controle'}, 2023: {'ultimaAtiva': 'Inativo', 6: 'Usuário de campo', 11: 'Inativo'}} {'ultimaAtiva': 'Inativo', 6: 'Usuário de campo', 11: 'Inativo'} Inativo False True True\n",
      "{2022: {'ultimaAtiva': 'Usuário de controle', 11: 'Usuário de controle'}} {'ultimaAtiva': 'Usuário de controle', 11: 'Usuário de controle'} Usuário de controle True True False\n",
      "{2022: {'ultimaAtiva': 'Usuário de controle', 11: 'Usuário de controle'}, 2023: {'ultimaAtiva': 'Inativo', 4: 'Inativo'}} {'ultimaAtiva': 'Inativo', 4: 'Inativo'} Inativo False True True\n",
      "{2023: {'ultimaAtiva': 'Inativo', 1: 'Usuário de campo', 2: 'Usuário de campo', 4: 'Inativo', 7: 'Usuário de campo', 11: 'Inativo'}} {'ultimaAtiva': 'Inativo', 1: 'Usuário de campo', 2: 'Usuário de campo', 4: 'Inativo', 7: 'Usuário de campo', 11: 'Inativo'} Inativo False True False\n",
      "{2023: {'ultimaAtiva': 'Inativo', 4: 'Usuário de campo', 11: 'Inativo'}} {'ultimaAtiva': 'Inativo', 4: 'Usuário de campo', 11: 'Inativo'} Inativo False True False\n",
      "{2023: {'ultimaAtiva': 'Inativo', 4: 'Usuário de controle', 6: 'Usuário de campo', 11: 'Inativo'}} {'ultimaAtiva': 'Inativo', 4: 'Usuário de controle', 6: 'Usuário de campo', 11: 'Inativo'} Inativo False True False\n",
      "{2023: {'ultimaAtiva': 'Inativo', 4: 'Usuário de controle', 6: 'Usuário de campo', 11: 'Inativo'}} {'ultimaAtiva': 'Inativo', 4: 'Usuário de controle', 6: 'Usuário de campo', 11: 'Inativo'} Inativo False True False\n",
      "{2023: {'ultimaAtiva': 'Inativo', 4: 'Usuário de controle', 6: 'Usuário de campo', 'Inativo mesmo mês': 6}} {'ultimaAtiva': 'Inativo', 4: 'Usuário de controle', 6: 'Usuário de campo', 'Inativo mesmo mês': 6} Usuário de campo True False False\n",
      "{2023: {'ultimaAtiva': 'Inativo', 5: 'Usuário de campo', 6: 'Inativo'}} {'ultimaAtiva': 'Inativo', 5: 'Usuário de campo', 6: 'Inativo'} Inativo False True False\n",
      "{2023: {'ultimaAtiva': 'Inativo', 5: 'Usuário de controle', 6: 'Usuário de campo', 11: 'Inativo'}} {'ultimaAtiva': 'Inativo', 5: 'Usuário de controle', 6: 'Usuário de campo', 11: 'Inativo'} Inativo False True False\n",
      "{2023: {'ultimaAtiva': 'Inativo', 6: 'Usuário de campo', 11: 'Inativo'}} {'ultimaAtiva': 'Inativo', 6: 'Usuário de campo', 11: 'Inativo'} Inativo False True False\n",
      "{2023: {'ultimaAtiva': 'Inativo', 6: 'Usuário de controle', 11: 'Inativo'}} {'ultimaAtiva': 'Inativo', 6: 'Usuário de controle', 11: 'Inativo'} Inativo False True False\n",
      "{2022: {'ultimaAtiva': 'Usuário de controle', 11: 'Usuário de controle'}, 2023: {'ultimaAtiva': 'Inativo', 4: 'Inativo'}} {'ultimaAtiva': 'Inativo', 4: 'Inativo'} Inativo False True True\n",
      "{2022: {'ultimaAtiva': 'Usuário de controle', 11: 'Usuário de controle'}} {'ultimaAtiva': 'Usuário de controle', 11: 'Usuário de controle'} Usuário de controle True True False\n",
      "{2022: {'ultimaAtiva': 'Usuário de controle', 11: 'Usuário de controle'}} {'ultimaAtiva': 'Usuário de controle', 11: 'Usuário de controle'} Usuário de controle True True False\n",
      "{2022: {'ultimaAtiva': 'Usuário de controle', 11: 'Usuário de controle'}, 2023: {'ultimaAtiva': 'Inativo', 6: 'Usuário de campo', 11: 'Inativo'}} {'ultimaAtiva': 'Inativo', 6: 'Usuário de campo', 11: 'Inativo'} Inativo False True True\n",
      "{2022: {'ultimaAtiva': 'Usuário de controle', 11: 'Usuário de controle'}} {'ultimaAtiva': 'Usuário de controle', 11: 'Usuário de controle'} Usuário de controle True True False\n",
      "{2022: {'ultimaAtiva': 'Usuário de controle', 11: 'Usuário de controle'}, 2023: {'ultimaAtiva': 'Inativo', 4: 'Inativo'}} {'ultimaAtiva': 'Inativo', 4: 'Inativo'} Inativo False True True\n",
      "{2023: {'ultimaAtiva': 'Inativo', 1: 'Usuário de campo', 2: 'Usuário de campo', 4: 'Inativo', 7: 'Usuário de campo', 11: 'Inativo'}} {'ultimaAtiva': 'Inativo', 1: 'Usuário de campo', 2: 'Usuário de campo', 4: 'Inativo', 7: 'Usuário de campo', 11: 'Inativo'} Inativo False True False\n",
      "{2023: {'ultimaAtiva': 'Inativo', 4: 'Usuário de campo', 11: 'Inativo'}} {'ultimaAtiva': 'Inativo', 4: 'Usuário de campo', 11: 'Inativo'} Inativo False True False\n",
      "{2023: {'ultimaAtiva': 'Inativo', 4: 'Usuário de controle', 6: 'Usuário de campo', 11: 'Inativo'}} {'ultimaAtiva': 'Inativo', 4: 'Usuário de controle', 6: 'Usuário de campo', 11: 'Inativo'} Inativo False True False\n",
      "{2023: {'ultimaAtiva': 'Inativo', 4: 'Usuário de controle', 6: 'Usuário de campo', 11: 'Inativo'}} {'ultimaAtiva': 'Inativo', 4: 'Usuário de controle', 6: 'Usuário de campo', 11: 'Inativo'} Inativo False True False\n",
      "{2023: {'ultimaAtiva': 'Inativo', 4: 'Usuário de controle', 6: 'Usuário de campo', 'Inativo mesmo mês': 6}} {'ultimaAtiva': 'Inativo', 4: 'Usuário de controle', 6: 'Usuário de campo', 'Inativo mesmo mês': 6} Usuário de campo True False False\n",
      "{2023: {'ultimaAtiva': 'Inativo', 5: 'Usuário de campo', 6: 'Inativo'}} {'ultimaAtiva': 'Inativo', 5: 'Usuário de campo', 6: 'Inativo'} Inativo False True False\n",
      "{2023: {'ultimaAtiva': 'Inativo', 5: 'Usuário de controle', 6: 'Usuário de campo', 11: 'Inativo'}} {'ultimaAtiva': 'Inativo', 5: 'Usuário de controle', 6: 'Usuário de campo', 11: 'Inativo'} Inativo False True False\n",
      "{2023: {'ultimaAtiva': 'Inativo', 6: 'Usuário de campo', 11: 'Inativo'}} {'ultimaAtiva': 'Inativo', 6: 'Usuário de campo', 11: 'Inativo'} Inativo False True False\n",
      "{2023: {'ultimaAtiva': 'Inativo', 6: 'Usuário de controle', 11: 'Inativo'}} {'ultimaAtiva': 'Inativo', 6: 'Usuário de controle', 11: 'Inativo'} Inativo False True False\n"
     ]
    },
    {
     "name": "stdout",
     "output_type": "stream",
     "text": [
      "{2023: {'ultimaAtiva': 'Sala técnica', 7: 'Sala técnica'}, 2024: {'ultimaAtiva': 'Inativo', 1: 'Inativo'}} {'ultimaAtiva': 'Inativo', 1: 'Inativo'} Inativo False True True\n",
      "{2023: {'ultimaAtiva': 'Inativo', 8: 'Sala técnica', 10: 'Inativo'}} {'ultimaAtiva': 'Inativo', 8: 'Sala técnica', 10: 'Inativo'} Inativo False True False\n",
      "{2023: {'ultimaAtiva': 'Sala técnica', 8: 'Sala técnica', 'Inativo mesmo mês': 8, 9: 'Sala técnica'}} {'ultimaAtiva': 'Sala técnica', 8: 'Sala técnica', 'Inativo mesmo mês': 8, 9: 'Sala técnica'} Sala técnica True True False\n",
      "{2023: {'ultimaAtiva': 'Usuário de campo', 8: 'Usuário de campo'}} {'ultimaAtiva': 'Usuário de campo', 8: 'Usuário de campo'} Usuário de campo True True False\n",
      "{2023: {'ultimaAtiva': 'Inativo', 8: 'Usuário de campo', 'Inativo mesmo mês': 8}} {'ultimaAtiva': 'Inativo', 8: 'Usuário de campo', 'Inativo mesmo mês': 8} Usuário de campo True False False\n",
      "{2023: {'ultimaAtiva': 'Usuário de campo', 8: 'Usuário de campo'}} {'ultimaAtiva': 'Usuário de campo', 8: 'Usuário de campo'} Usuário de campo True True False\n",
      "{2023: {'ultimaAtiva': 'Usuário de campo', 8: 'Usuário de campo'}} {'ultimaAtiva': 'Usuário de campo', 8: 'Usuário de campo'} Usuário de campo True True False\n",
      "{2023: {'ultimaAtiva': 'Usuário de campo', 8: 'Usuário de campo'}} {'ultimaAtiva': 'Usuário de campo', 8: 'Usuário de campo'} Usuário de campo True True False\n",
      "{2023: {'ultimaAtiva': 'Inativo', 8: 'Usuário de campo', 'Inativo mesmo mês': 8}} {'ultimaAtiva': 'Inativo', 8: 'Usuário de campo', 'Inativo mesmo mês': 8} Usuário de campo True False False\n",
      "{2023: {'ultimaAtiva': 'Usuário de campo', 8: 'Usuário de campo'}} {'ultimaAtiva': 'Usuário de campo', 8: 'Usuário de campo'} Usuário de campo True True False\n",
      "{2023: {'ultimaAtiva': 'Inativo', 8: 'Usuário de campo', 'Inativo mesmo mês': 8}} {'ultimaAtiva': 'Inativo', 8: 'Usuário de campo', 'Inativo mesmo mês': 8} Usuário de campo True False False\n",
      "{2023: {'ultimaAtiva': 'Usuário de campo', 8: 'Usuário de campo'}} {'ultimaAtiva': 'Usuário de campo', 8: 'Usuário de campo'} Usuário de campo True True False\n",
      "{2023: {'ultimaAtiva': 'Usuário de campo', 8: 'Usuário de campo'}} {'ultimaAtiva': 'Usuário de campo', 8: 'Usuário de campo'} Usuário de campo True True False\n",
      "{2023: {'ultimaAtiva': 'Usuário de campo', 8: 'Usuário de campo'}} {'ultimaAtiva': 'Usuário de campo', 8: 'Usuário de campo'} Usuário de campo True True False\n",
      "{2023: {'ultimaAtiva': 'Usuário de campo', 8: 'Usuário de campo'}} {'ultimaAtiva': 'Usuário de campo', 8: 'Usuário de campo'} Usuário de campo True True False\n",
      "{2023: {'ultimaAtiva': 'Inativo', 8: 'Usuário de campo', 'Inativo mesmo mês': 8}} {'ultimaAtiva': 'Inativo', 8: 'Usuário de campo', 'Inativo mesmo mês': 8} Usuário de campo True False False\n",
      "{2023: {'ultimaAtiva': 'Usuário de campo', 8: 'Usuário de campo'}} {'ultimaAtiva': 'Usuário de campo', 8: 'Usuário de campo'} Usuário de campo True True False\n",
      "{2023: {'ultimaAtiva': 'Usuário de campo', 8: 'Usuário de campo'}} {'ultimaAtiva': 'Usuário de campo', 8: 'Usuário de campo'} Usuário de campo True True False\n",
      "{2023: {'ultimaAtiva': 'Inativo', 8: 'Usuário de campo', 12: 'Inativo'}} {'ultimaAtiva': 'Inativo', 8: 'Usuário de campo', 12: 'Inativo'} Inativo False True False\n",
      "{2023: {'ultimaAtiva': 'Inativo', 8: 'Usuário de campo', 12: 'Sala técnica', 'Inativo mesmo mês': 12}, 2024: {'ultimaAtiva': 'Sala técnica', 1: 'Sala técnica'}} {'ultimaAtiva': 'Sala técnica', 1: 'Sala técnica'} Sala técnica True True True\n",
      "{2023: {'ultimaAtiva': 'Usuário de campo', 8: 'Usuário de campo'}} {'ultimaAtiva': 'Usuário de campo', 8: 'Usuário de campo'} Usuário de campo True True False\n",
      "{2023: {'ultimaAtiva': 'Sala técnica', 9: 'Usuário de campo', 11: 'Inativo', 12: 'Sala técnica'}, 2024: {'ultimaAtiva': 'Inativo', 1: 'Inativo'}} {'ultimaAtiva': 'Inativo', 1: 'Inativo'} Inativo False True True\n",
      "{2023: {'ultimaAtiva': 'Inativo', 11: 'Sala técnica', 12: 'Inativo'}} {'ultimaAtiva': 'Inativo', 11: 'Sala técnica', 12: 'Inativo'} Inativo False True False\n",
      "{2023: {'ultimaAtiva': 'Usuário de campo', 12: 'Usuário de campo'}} {'ultimaAtiva': 'Usuário de campo', 12: 'Usuário de campo'} Usuário de campo True True False\n",
      "{2023: {'ultimaAtiva': 'Sala técnica', 12: 'Sala técnica'}} {'ultimaAtiva': 'Sala técnica', 12: 'Sala técnica'} Sala técnica True True False\n",
      "{2023: {'ultimaAtiva': 'Sala técnica', 7: 'Sala técnica'}, 2024: {'ultimaAtiva': 'Inativo', 1: 'Inativo'}} {'ultimaAtiva': 'Inativo', 1: 'Inativo'} Inativo False True True\n",
      "{2023: {'ultimaAtiva': 'Inativo', 8: 'Sala técnica', 10: 'Inativo'}} {'ultimaAtiva': 'Inativo', 8: 'Sala técnica', 10: 'Inativo'} Inativo False True False\n",
      "{2023: {'ultimaAtiva': 'Sala técnica', 8: 'Sala técnica', 'Inativo mesmo mês': 8, 9: 'Sala técnica'}} {'ultimaAtiva': 'Sala técnica', 8: 'Sala técnica', 'Inativo mesmo mês': 8, 9: 'Sala técnica'} Sala técnica True True False\n",
      "{2023: {'ultimaAtiva': 'Usuário de campo', 8: 'Usuário de campo'}} {'ultimaAtiva': 'Usuário de campo', 8: 'Usuário de campo'} Usuário de campo True True False\n",
      "{2023: {'ultimaAtiva': 'Inativo', 8: 'Usuário de campo', 'Inativo mesmo mês': 8}} {'ultimaAtiva': 'Inativo', 8: 'Usuário de campo', 'Inativo mesmo mês': 8} Usuário de campo True False False\n",
      "{2023: {'ultimaAtiva': 'Usuário de campo', 8: 'Usuário de campo'}} {'ultimaAtiva': 'Usuário de campo', 8: 'Usuário de campo'} Usuário de campo True True False\n",
      "{2023: {'ultimaAtiva': 'Usuário de campo', 8: 'Usuário de campo'}} {'ultimaAtiva': 'Usuário de campo', 8: 'Usuário de campo'} Usuário de campo True True False\n",
      "{2023: {'ultimaAtiva': 'Usuário de campo', 8: 'Usuário de campo'}} {'ultimaAtiva': 'Usuário de campo', 8: 'Usuário de campo'} Usuário de campo True True False\n",
      "{2023: {'ultimaAtiva': 'Inativo', 8: 'Usuário de campo', 'Inativo mesmo mês': 8}} {'ultimaAtiva': 'Inativo', 8: 'Usuário de campo', 'Inativo mesmo mês': 8} Usuário de campo True False False\n",
      "{2023: {'ultimaAtiva': 'Usuário de campo', 8: 'Usuário de campo'}} {'ultimaAtiva': 'Usuário de campo', 8: 'Usuário de campo'} Usuário de campo True True False\n",
      "{2023: {'ultimaAtiva': 'Inativo', 8: 'Usuário de campo', 'Inativo mesmo mês': 8}} {'ultimaAtiva': 'Inativo', 8: 'Usuário de campo', 'Inativo mesmo mês': 8} Usuário de campo True False False\n",
      "{2023: {'ultimaAtiva': 'Usuário de campo', 8: 'Usuário de campo'}} {'ultimaAtiva': 'Usuário de campo', 8: 'Usuário de campo'} Usuário de campo True True False\n",
      "{2023: {'ultimaAtiva': 'Usuário de campo', 8: 'Usuário de campo'}} {'ultimaAtiva': 'Usuário de campo', 8: 'Usuário de campo'} Usuário de campo True True False\n",
      "{2023: {'ultimaAtiva': 'Usuário de campo', 8: 'Usuário de campo'}} {'ultimaAtiva': 'Usuário de campo', 8: 'Usuário de campo'} Usuário de campo True True False\n",
      "{2023: {'ultimaAtiva': 'Usuário de campo', 8: 'Usuário de campo'}} {'ultimaAtiva': 'Usuário de campo', 8: 'Usuário de campo'} Usuário de campo True True False\n",
      "{2023: {'ultimaAtiva': 'Inativo', 8: 'Usuário de campo', 'Inativo mesmo mês': 8}} {'ultimaAtiva': 'Inativo', 8: 'Usuário de campo', 'Inativo mesmo mês': 8} Usuário de campo True False False\n",
      "{2023: {'ultimaAtiva': 'Usuário de campo', 8: 'Usuário de campo'}} {'ultimaAtiva': 'Usuário de campo', 8: 'Usuário de campo'} Usuário de campo True True False\n",
      "{2023: {'ultimaAtiva': 'Usuário de campo', 8: 'Usuário de campo'}} {'ultimaAtiva': 'Usuário de campo', 8: 'Usuário de campo'} Usuário de campo True True False\n",
      "{2023: {'ultimaAtiva': 'Inativo', 8: 'Usuário de campo', 12: 'Inativo'}} {'ultimaAtiva': 'Inativo', 8: 'Usuário de campo', 12: 'Inativo'} Inativo False True False\n",
      "{2023: {'ultimaAtiva': 'Inativo', 8: 'Usuário de campo', 12: 'Sala técnica', 'Inativo mesmo mês': 12}, 2024: {'ultimaAtiva': 'Sala técnica', 1: 'Sala técnica'}} {'ultimaAtiva': 'Sala técnica', 1: 'Sala técnica'} Sala técnica True True True\n",
      "{2023: {'ultimaAtiva': 'Usuário de campo', 8: 'Usuário de campo'}} {'ultimaAtiva': 'Usuário de campo', 8: 'Usuário de campo'} Usuário de campo True True False\n",
      "{2023: {'ultimaAtiva': 'Sala técnica', 9: 'Usuário de campo', 11: 'Inativo', 12: 'Sala técnica'}, 2024: {'ultimaAtiva': 'Inativo', 1: 'Inativo'}} {'ultimaAtiva': 'Inativo', 1: 'Inativo'} Inativo False True True\n",
      "{2023: {'ultimaAtiva': 'Inativo', 11: 'Sala técnica', 12: 'Inativo'}} {'ultimaAtiva': 'Inativo', 11: 'Sala técnica', 12: 'Inativo'} Inativo False True False\n",
      "{2023: {'ultimaAtiva': 'Usuário de campo', 12: 'Usuário de campo'}} {'ultimaAtiva': 'Usuário de campo', 12: 'Usuário de campo'} Usuário de campo True True False\n",
      "{2023: {'ultimaAtiva': 'Sala técnica', 12: 'Sala técnica'}} {'ultimaAtiva': 'Sala técnica', 12: 'Sala técnica'} Sala técnica True True False\n"
     ]
    },
    {
     "name": "stdout",
     "output_type": "stream",
     "text": [
      "{2023: {'ultimaAtiva': 'Coordenador', 8: 'Coordenador'}} {'ultimaAtiva': 'Coordenador', 8: 'Coordenador'} Coordenador True True False\n",
      "{2023: {'ultimaAtiva': 'Coordenador', 8: 'Coordenador'}} {'ultimaAtiva': 'Coordenador', 8: 'Coordenador'} Coordenador True True False\n",
      "{2023: {'ultimaAtiva': 'Coordenador', 8: 'Coordenador'}, 2024: {'ultimaAtiva': 'Inativo', 1: 'Inativo'}} {'ultimaAtiva': 'Inativo', 1: 'Inativo'} Inativo False True True\n",
      "{2023: {'ultimaAtiva': 'Coordenador', 8: 'Coordenador'}} {'ultimaAtiva': 'Coordenador', 8: 'Coordenador'} Coordenador True True False\n",
      "{2023: {'ultimaAtiva': 'Coordenador', 8: 'Coordenador'}} {'ultimaAtiva': 'Coordenador', 8: 'Coordenador'} Coordenador True True False\n",
      "{2023: {'ultimaAtiva': 'Usuário de campo', 8: 'Usuário de campo', 10: 'Usuário de campo'}} {'ultimaAtiva': 'Usuário de campo', 8: 'Usuário de campo', 10: 'Usuário de campo'} Usuário de campo True True False\n",
      "{2023: {'ultimaAtiva': 'Usuário de campo', 8: 'Usuário de campo'}, 2024: {'ultimaAtiva': 'Inativo', 1: 'Inativo'}} {'ultimaAtiva': 'Inativo', 1: 'Inativo'} Inativo False True True\n",
      "{2023: {'ultimaAtiva': 'Usuário de campo', 8: 'Usuário de campo', 10: 'Usuário de campo'}, 2024: {'ultimaAtiva': 'Inativo', 1: 'Inativo'}} {'ultimaAtiva': 'Inativo', 1: 'Inativo'} Inativo False True True\n",
      "{2023: {'ultimaAtiva': 'Usuário de campo', 8: 'Usuário de campo'}} {'ultimaAtiva': 'Usuário de campo', 8: 'Usuário de campo'} Usuário de campo True True False\n",
      "{2023: {'ultimaAtiva': 'Coordenador', 8: 'Coordenador'}, 2024: {'ultimaAtiva': 'Inativo', 1: 'Inativo'}} {'ultimaAtiva': 'Inativo', 1: 'Inativo'} Inativo False True True\n",
      "{2023: {'ultimaAtiva': 'Usuário de campo', 9: 'Usuário de campo'}} {'ultimaAtiva': 'Usuário de campo', 9: 'Usuário de campo'} Usuário de campo True True False\n",
      "{2023: {'ultimaAtiva': 'Usuário de campo', 9: 'Usuário de campo', 10: 'Usuário de campo'}} {'ultimaAtiva': 'Usuário de campo', 9: 'Usuário de campo', 10: 'Usuário de campo'} Usuário de campo True True False\n",
      "{2023: {'ultimaAtiva': 'Usuário de campo', 9: 'Usuário de campo'}} {'ultimaAtiva': 'Usuário de campo', 9: 'Usuário de campo'} Usuário de campo True True False\n",
      "{2023: {'ultimaAtiva': 'Usuário de campo', 10: 'Usuário de campo'}} {'ultimaAtiva': 'Usuário de campo', 10: 'Usuário de campo'} Usuário de campo True True False\n",
      "{2023: {'ultimaAtiva': 'Usuário de campo', 10: 'Usuário de campo'}, 2024: {'ultimaAtiva': 'Coordenador', 1: 'Coordenador'}} {'ultimaAtiva': 'Coordenador', 1: 'Coordenador'} Coordenador True True True\n",
      "{2023: {'ultimaAtiva': 'Usuário de campo', 10: 'Usuário de campo'}} {'ultimaAtiva': 'Usuário de campo', 10: 'Usuário de campo'} Usuário de campo True True False\n",
      "{2023: {'ultimaAtiva': 'Usuário de campo', 10: 'Usuário de campo'}} {'ultimaAtiva': 'Usuário de campo', 10: 'Usuário de campo'} Usuário de campo True True False\n",
      "{2023: {'ultimaAtiva': 'Usuário de campo', 10: 'Usuário de campo'}} {'ultimaAtiva': 'Usuário de campo', 10: 'Usuário de campo'} Usuário de campo True True False\n",
      "{2023: {'ultimaAtiva': 'Inativo', 10: 'Coordenador', 11: 'Inativo'}} {'ultimaAtiva': 'Inativo', 10: 'Coordenador', 11: 'Inativo'} Inativo False True False\n",
      "{2023: {'ultimaAtiva': 'Coordenador', 11: 'Coordenador'}, 2024: {'ultimaAtiva': 'Inativo', 1: 'Inativo'}} {'ultimaAtiva': 'Inativo', 1: 'Inativo'} Inativo False True True\n",
      "{2023: {'ultimaAtiva': 'Coordenador', 11: 'Coordenador'}, 2024: {'ultimaAtiva': 'Inativo', 1: 'Inativo'}} {'ultimaAtiva': 'Inativo', 1: 'Inativo'} Inativo False True True\n",
      "{2023: {'ultimaAtiva': 'Usuário de campo', 11: 'Usuário de campo'}} {'ultimaAtiva': 'Usuário de campo', 11: 'Usuário de campo'} Usuário de campo True True False\n",
      "{2023: {'ultimaAtiva': 'Inativo', 11: 'Usuário de campo', 'Inativo mesmo mês': 11}} {'ultimaAtiva': 'Inativo', 11: 'Usuário de campo', 'Inativo mesmo mês': 11} Usuário de campo True False False\n",
      "{2023: {'ultimaAtiva': 'Usuário de campo', 11: 'Usuário de campo'}} {'ultimaAtiva': 'Usuário de campo', 11: 'Usuário de campo'} Usuário de campo True True False\n",
      "{2023: {'ultimaAtiva': 'Coordenador', 11: 'Coordenador'}} {'ultimaAtiva': 'Coordenador', 11: 'Coordenador'} Coordenador True True False\n",
      "{2023: {'ultimaAtiva': 'Usuário de campo', 11: 'Usuário de campo'}} {'ultimaAtiva': 'Usuário de campo', 11: 'Usuário de campo'} Usuário de campo True True False\n",
      "{2023: {'ultimaAtiva': 'Coordenador', 12: 'Coordenador'}} {'ultimaAtiva': 'Coordenador', 12: 'Coordenador'} Coordenador True True False\n",
      "{2023: {'ultimaAtiva': 'Coordenador', 12: 'Coordenador'}} {'ultimaAtiva': 'Coordenador', 12: 'Coordenador'} Coordenador True True False\n",
      "{2024: {'ultimaAtiva': 'Usuário de campo', 1: 'Usuário de campo'}} {'ultimaAtiva': 'Usuário de campo', 1: 'Usuário de campo'} Usuário de campo True True False\n",
      "{2024: {'ultimaAtiva': 'Usuário de campo', 1: 'Usuário de campo'}} {'ultimaAtiva': 'Usuário de campo', 1: 'Usuário de campo'} Usuário de campo True True False\n",
      "{2024: {'ultimaAtiva': 'Usuário de campo', 1: 'Usuário de campo'}} {'ultimaAtiva': 'Usuário de campo', 1: 'Usuário de campo'} Usuário de campo True True False\n",
      "{2024: {'ultimaAtiva': 'Usuário de campo', 1: 'Usuário de campo'}} {'ultimaAtiva': 'Usuário de campo', 1: 'Usuário de campo'} Usuário de campo True True False\n",
      "{2024: {'ultimaAtiva': 'Usuário de campo', 1: 'Usuário de campo'}} {'ultimaAtiva': 'Usuário de campo', 1: 'Usuário de campo'} Usuário de campo True True False\n",
      "{2024: {'ultimaAtiva': 'Usuário de campo', 1: 'Usuário de campo'}} {'ultimaAtiva': 'Usuário de campo', 1: 'Usuário de campo'} Usuário de campo True True False\n",
      "{2023: {'ultimaAtiva': 'Coordenador', 8: 'Coordenador'}} {'ultimaAtiva': 'Coordenador', 8: 'Coordenador'} Coordenador True True False\n",
      "{2023: {'ultimaAtiva': 'Coordenador', 8: 'Coordenador'}} {'ultimaAtiva': 'Coordenador', 8: 'Coordenador'} Coordenador True True False\n",
      "{2023: {'ultimaAtiva': 'Coordenador', 8: 'Coordenador'}, 2024: {'ultimaAtiva': 'Inativo', 1: 'Inativo'}} {'ultimaAtiva': 'Inativo', 1: 'Inativo'} Inativo False True True\n",
      "{2023: {'ultimaAtiva': 'Coordenador', 8: 'Coordenador'}} {'ultimaAtiva': 'Coordenador', 8: 'Coordenador'} Coordenador True True False\n",
      "{2023: {'ultimaAtiva': 'Coordenador', 8: 'Coordenador'}} {'ultimaAtiva': 'Coordenador', 8: 'Coordenador'} Coordenador True True False\n",
      "{2023: {'ultimaAtiva': 'Usuário de campo', 8: 'Usuário de campo', 10: 'Usuário de campo'}} {'ultimaAtiva': 'Usuário de campo', 8: 'Usuário de campo', 10: 'Usuário de campo'} Usuário de campo True True False\n",
      "{2023: {'ultimaAtiva': 'Usuário de campo', 8: 'Usuário de campo'}, 2024: {'ultimaAtiva': 'Inativo', 1: 'Inativo'}} {'ultimaAtiva': 'Inativo', 1: 'Inativo'} Inativo False True True\n",
      "{2023: {'ultimaAtiva': 'Usuário de campo', 8: 'Usuário de campo', 10: 'Usuário de campo'}, 2024: {'ultimaAtiva': 'Inativo', 1: 'Inativo'}} {'ultimaAtiva': 'Inativo', 1: 'Inativo'} Inativo False True True\n",
      "{2023: {'ultimaAtiva': 'Usuário de campo', 8: 'Usuário de campo'}} {'ultimaAtiva': 'Usuário de campo', 8: 'Usuário de campo'} Usuário de campo True True False\n",
      "{2023: {'ultimaAtiva': 'Coordenador', 8: 'Coordenador'}, 2024: {'ultimaAtiva': 'Inativo', 1: 'Inativo'}} {'ultimaAtiva': 'Inativo', 1: 'Inativo'} Inativo False True True\n",
      "{2023: {'ultimaAtiva': 'Usuário de campo', 9: 'Usuário de campo'}} {'ultimaAtiva': 'Usuário de campo', 9: 'Usuário de campo'} Usuário de campo True True False\n",
      "{2023: {'ultimaAtiva': 'Usuário de campo', 9: 'Usuário de campo', 10: 'Usuário de campo'}} {'ultimaAtiva': 'Usuário de campo', 9: 'Usuário de campo', 10: 'Usuário de campo'} Usuário de campo True True False\n",
      "{2023: {'ultimaAtiva': 'Usuário de campo', 9: 'Usuário de campo'}} {'ultimaAtiva': 'Usuário de campo', 9: 'Usuário de campo'} Usuário de campo True True False\n",
      "{2023: {'ultimaAtiva': 'Usuário de campo', 10: 'Usuário de campo'}} {'ultimaAtiva': 'Usuário de campo', 10: 'Usuário de campo'} Usuário de campo True True False\n",
      "{2023: {'ultimaAtiva': 'Usuário de campo', 10: 'Usuário de campo'}, 2024: {'ultimaAtiva': 'Coordenador', 1: 'Coordenador'}} {'ultimaAtiva': 'Coordenador', 1: 'Coordenador'} Coordenador True True True\n",
      "{2023: {'ultimaAtiva': 'Usuário de campo', 10: 'Usuário de campo'}} {'ultimaAtiva': 'Usuário de campo', 10: 'Usuário de campo'} Usuário de campo True True False\n",
      "{2023: {'ultimaAtiva': 'Usuário de campo', 10: 'Usuário de campo'}} {'ultimaAtiva': 'Usuário de campo', 10: 'Usuário de campo'} Usuário de campo True True False\n",
      "{2023: {'ultimaAtiva': 'Usuário de campo', 10: 'Usuário de campo'}} {'ultimaAtiva': 'Usuário de campo', 10: 'Usuário de campo'} Usuário de campo True True False\n",
      "{2023: {'ultimaAtiva': 'Inativo', 10: 'Coordenador', 11: 'Inativo'}} {'ultimaAtiva': 'Inativo', 10: 'Coordenador', 11: 'Inativo'} Inativo False True False\n",
      "{2023: {'ultimaAtiva': 'Coordenador', 11: 'Coordenador'}, 2024: {'ultimaAtiva': 'Inativo', 1: 'Inativo'}} {'ultimaAtiva': 'Inativo', 1: 'Inativo'} Inativo False True True\n",
      "{2023: {'ultimaAtiva': 'Coordenador', 11: 'Coordenador'}, 2024: {'ultimaAtiva': 'Inativo', 1: 'Inativo'}} {'ultimaAtiva': 'Inativo', 1: 'Inativo'} Inativo False True True\n",
      "{2023: {'ultimaAtiva': 'Usuário de campo', 11: 'Usuário de campo'}} {'ultimaAtiva': 'Usuário de campo', 11: 'Usuário de campo'} Usuário de campo True True False\n",
      "{2023: {'ultimaAtiva': 'Inativo', 11: 'Usuário de campo', 'Inativo mesmo mês': 11}} {'ultimaAtiva': 'Inativo', 11: 'Usuário de campo', 'Inativo mesmo mês': 11} Usuário de campo True False False\n",
      "{2023: {'ultimaAtiva': 'Usuário de campo', 11: 'Usuário de campo'}} {'ultimaAtiva': 'Usuário de campo', 11: 'Usuário de campo'} Usuário de campo True True False\n",
      "{2023: {'ultimaAtiva': 'Coordenador', 11: 'Coordenador'}} {'ultimaAtiva': 'Coordenador', 11: 'Coordenador'} Coordenador True True False\n",
      "{2023: {'ultimaAtiva': 'Usuário de campo', 11: 'Usuário de campo'}} {'ultimaAtiva': 'Usuário de campo', 11: 'Usuário de campo'} Usuário de campo True True False\n",
      "{2023: {'ultimaAtiva': 'Coordenador', 12: 'Coordenador'}} {'ultimaAtiva': 'Coordenador', 12: 'Coordenador'} Coordenador True True False\n",
      "{2023: {'ultimaAtiva': 'Coordenador', 12: 'Coordenador'}} {'ultimaAtiva': 'Coordenador', 12: 'Coordenador'} Coordenador True True False\n",
      "{2024: {'ultimaAtiva': 'Usuário de campo', 1: 'Usuário de campo'}} {'ultimaAtiva': 'Usuário de campo', 1: 'Usuário de campo'} Usuário de campo True True False\n",
      "{2024: {'ultimaAtiva': 'Usuário de campo', 1: 'Usuário de campo'}} {'ultimaAtiva': 'Usuário de campo', 1: 'Usuário de campo'} Usuário de campo True True False\n",
      "{2024: {'ultimaAtiva': 'Usuário de campo', 1: 'Usuário de campo'}} {'ultimaAtiva': 'Usuário de campo', 1: 'Usuário de campo'} Usuário de campo True True False\n",
      "{2024: {'ultimaAtiva': 'Usuário de campo', 1: 'Usuário de campo'}} {'ultimaAtiva': 'Usuário de campo', 1: 'Usuário de campo'} Usuário de campo True True False\n",
      "{2024: {'ultimaAtiva': 'Usuário de campo', 1: 'Usuário de campo'}} {'ultimaAtiva': 'Usuário de campo', 1: 'Usuário de campo'} Usuário de campo True True False\n",
      "{2024: {'ultimaAtiva': 'Usuário de campo', 1: 'Usuário de campo'}} {'ultimaAtiva': 'Usuário de campo', 1: 'Usuário de campo'} Usuário de campo True True False\n"
     ]
    }
   ],
   "source": [
    "dfs=[]\n",
    "for company in tqdm(companies):\n",
    "\n",
    "    if 'Pavicolet' in company:\n",
    "        historicoUsuarios=UserInCompany.history.model.objects.filter(\n",
    "            company__name__icontains=company\n",
    "#             ,history_date__year=year\n",
    "        ).exclude(\n",
    "            user__email__icontains='kartado'\n",
    "        ).exclude(\n",
    "            user__email__icontains='roadlabs'\n",
    "        ).exclude(\n",
    "            user__uuid = '6ca2ac08-7ee0-4587-a0cf-8850f72e1b95'\n",
    "        ).exclude(\n",
    "            user__email__icontains='hermes'\n",
    "        )\n",
    "    elif company is not 'Entrevias':\n",
    "        historicoUsuarios=UserInCompany.history.model.objects.filter(\n",
    "            company__name=company\n",
    "#             ,history_date__year=year\n",
    "        ).exclude(\n",
    "            user__email__icontains='kartado'\n",
    "        ).exclude(\n",
    "            user__email__icontains='roadlabs'\n",
    "        ).exclude(\n",
    "            user__uuid = '6ca2ac08-7ee0-4587-a0cf-8850f72e1b95'\n",
    "        ).exclude(\n",
    "            user__email__icontains='hermes'\n",
    "        ).order_by('history_date')\n",
    "    else:\n",
    "        historicoUsuarios=UserInCompany.history.model.objects.filter(\n",
    "            Q(user__email__icontains='afirma')|Q(user__email__icontains='ajr'),\n",
    "            company__name__icontains=company\n",
    "#             ,history_date__year=year\n",
    "        ).exclude(\n",
    "            user__email__icontains='kartado'\n",
    "        ).exclude(\n",
    "            user__email__icontains='roadlabs'\n",
    "        ).exclude(\n",
    "            user__uuid = '6ca2ac08-7ee0-4587-a0cf-8850f72e1b95'\n",
    "        ).exclude(\n",
    "            user__email__icontains='hermes'\n",
    "        ).order_by( 'history_date')\n",
    "    \n",
    "    users_permissions = permissoes_history_user(historicoUsuarios)[0] if len(permissoes_history_user(historicoUsuarios)[0]) > 0 else 0\n",
    "    \n",
    "    if users_permissions != 0:\n",
    "        df2 = pd.DataFrame(data=users_permissions,columns=['Usuários ativos'])\n",
    "        dfs.append(df2)\n",
    "        with pd.ExcelWriter('Usuários Ativos Financeiro.xlsx', mode='a',if_sheet_exists='replace') as writer:\n",
    "            df2.to_excel(writer,sheet_name=company,na_rep=\"-\")"
   ]
  },
  {
   "cell_type": "code",
   "execution_count": 34,
   "metadata": {},
   "outputs": [
    {
     "data": {
      "text/html": [
       "<div>\n",
       "<style scoped>\n",
       "    .dataframe tbody tr th:only-of-type {\n",
       "        vertical-align: middle;\n",
       "    }\n",
       "\n",
       "    .dataframe tbody tr th {\n",
       "        vertical-align: top;\n",
       "    }\n",
       "\n",
       "    .dataframe thead th {\n",
       "        text-align: right;\n",
       "    }\n",
       "</style>\n",
       "<table border=\"1\" class=\"dataframe\">\n",
       "  <thead>\n",
       "    <tr style=\"text-align: right;\">\n",
       "      <th></th>\n",
       "      <th>Usuários ativos</th>\n",
       "    </tr>\n",
       "  </thead>\n",
       "  <tbody>\n",
       "    <tr>\n",
       "      <th>0</th>\n",
       "      <td>Regiani Machado</td>\n",
       "    </tr>\n",
       "  </tbody>\n",
       "</table>\n",
       "</div>"
      ],
      "text/plain": [
       "   Usuários ativos\n",
       "0  Regiani Machado"
      ]
     },
     "execution_count": 34,
     "metadata": {},
     "output_type": "execute_result"
    }
   ],
   "source": [
    "dfs[5]"
   ]
  },
  {
   "cell_type": "code",
   "execution_count": 45,
   "metadata": {},
   "outputs": [
    {
     "data": {
      "text/plain": [
       "33"
      ]
     },
     "execution_count": 45,
     "metadata": {},
     "output_type": "execute_result"
    }
   ],
   "source": [
    "historicoUsuarios=UserInCompany.history.model.objects.filter(\n",
    "            company__name='Pavicolet (Amazonas)'\n",
    "        ).exclude(\n",
    "            user__email__icontains='kartado'\n",
    "        ).exclude(\n",
    "            user__email__icontains='roadlabs'\n",
    "        ).exclude(\n",
    "            user__uuid = '6ca2ac08-7ee0-4587-a0cf-8850f72e1b95'\n",
    "        ).exclude(\n",
    "            user__email__icontains='hermes'\n",
    "        ).distinct('user').order_by('user')\n",
    "historicoUsuarios.count()"
   ]
  },
  {
   "cell_type": "code",
   "execution_count": 46,
   "metadata": {
    "scrolled": true
   },
   "outputs": [
    {
     "data": {
      "text/plain": [
       "35"
      ]
     },
     "execution_count": 46,
     "metadata": {},
     "output_type": "execute_result"
    }
   ],
   "source": [
    "historicoUsuarios=UserInCompany.history.model.objects.filter(\n",
    "            company__name='Pavicolet (Amapá)'\n",
    "        ).exclude(\n",
    "            user__email__icontains='kartado'\n",
    "        ).exclude(\n",
    "            user__email__icontains='roadlabs'\n",
    "        ).exclude(\n",
    "            user__uuid = '6ca2ac08-7ee0-4587-a0cf-8850f72e1b95'\n",
    "        ).exclude(\n",
    "            user__email__icontains='hermes'\n",
    "        ).distinct('user').order_by('user')\n",
    "historicoUsuarios.count()"
   ]
  },
  {
   "cell_type": "code",
   "execution_count": 79,
   "metadata": {},
   "outputs": [
    {
     "data": {
      "text/plain": [
       "379"
      ]
     },
     "execution_count": 79,
     "metadata": {},
     "output_type": "execute_result"
    }
   ],
   "source": [
    "historicoUsuarios=UserInCompany.history.model.objects.filter(\n",
    "            company__name__in=companies\n",
    "        ).only('company__company_group__name','history_date','user').exclude(\n",
    "            user__email__icontains='kartado'\n",
    "        ).exclude(\n",
    "            user__email__icontains='roadlabs'\n",
    "        ).exclude(\n",
    "            user__uuid = '6ca2ac08-7ee0-4587-a0cf-8850f72e1b95'\n",
    "        ).exclude(\n",
    "            user__email__icontains='hermes'\n",
    "        ).distinct('user').order_by('user')\n",
    "historicoUsuarios.count()"
   ]
  },
  {
   "cell_type": "code",
   "execution_count": 80,
   "metadata": {
    "collapsed": true
   },
   "outputs": [
    {
     "data": {
      "text/plain": [
       "<QuerySet [<HistoricalUserInCompany: [b0c55603-e20e-4e98-aa83-2f7b220a0b57: Afirma Engenharia Viária] equipeafirma04 as of 2023-10-11 20:58:37.399872+00:00>, <HistoricalUserInCompany: [91d69c92-2284-4570-9011-760a5a74a708: Entrevias] marciel.souza as of 2021-01-08 14:57:21.797460+00:00>, <HistoricalUserInCompany: [8e70b23f-907a-4e9a-ae4e-fb316dda2831: Construtora Castilho] amanda.motta@castilho.com.br as of 2023-08-15 12:49:23.816402+00:00>, <HistoricalUserInCompany: [91d69c92-2284-4570-9011-760a5a74a708: Entrevias] sumaya.andrade as of 2023-05-24 12:13:22.016933+00:00>, <HistoricalUserInCompany: [91d69c92-2284-4570-9011-760a5a74a708: Entrevias] Josieldo.Deomondes as of 2023-03-16 15:56:43.165083+00:00>, <HistoricalUserInCompany: [a3fca710-54b8-4ee1-8375-1a908342438d: LCM Construção e Comércio] wellington.norato as of 2023-08-10 17:46:07.678311+00:00>, <HistoricalUserInCompany: [91d69c92-2284-4570-9011-760a5a74a708: Entrevias] leandro.donizete as of 2021-04-22 18:12:39.692392+00:00>, <HistoricalUserInCompany: [b0c55603-e20e-4e98-aa83-2f7b220a0b57: Afirma Engenharia Viária] karine.rodrigues as of 2023-10-11 20:58:37.532157+00:00>, <HistoricalUserInCompany: [91d69c92-2284-4570-9011-760a5a74a708: Entrevias] vinicius.mazeti as of 2022-04-27 11:29:20.118691+00:00>, <HistoricalUserInCompany: [a3fca710-54b8-4ee1-8375-1a908342438d: LCM Construção e Comércio] guilherme.pereira as of 2023-12-13 18:24:19.677687+00:00>, <HistoricalUserInCompany: [eee8616b-7b11-40a9-a7f2-3d1c2207b7a8: Sinalizavia (Municípios)] ricardo.guilherme as of 2023-10-27 10:45:15.431805+00:00>, <HistoricalUserInCompany: [8e70b23f-907a-4e9a-ae4e-fb316dda2831: Construtora Castilho] renan.pereira as of 2024-01-23 14:13:53.605692+00:00>, <HistoricalUserInCompany: [eee8616b-7b11-40a9-a7f2-3d1c2207b7a8: Sinalizavia (Municípios)] rafael.carvalho as of 2023-10-27 10:44:26.851745+00:00>, <HistoricalUserInCompany: [8e70b23f-907a-4e9a-ae4e-fb316dda2831: Construtora Castilho] vinicius.melo as of 2023-11-11 12:45:27.345034+00:00>, <HistoricalUserInCompany: [31ba4470-cdfd-48ff-a513-8d9859f4a4a9: Modera - Consórcio ME2] eduardo.dias as of 2024-01-31 17:51:00.412473+00:00>, <HistoricalUserInCompany: [91d69c92-2284-4570-9011-760a5a74a708: Entrevias] diocelio.silva as of 2021-04-22 18:17:46.094109+00:00>, <HistoricalUserInCompany: [91d69c92-2284-4570-9011-760a5a74a708: Entrevias] guilherme.vgco as of 2023-07-24 10:58:38.141407+00:00>, <HistoricalUserInCompany: [91d69c92-2284-4570-9011-760a5a74a708: Entrevias] mario.vgco as of 2023-07-28 12:27:47.765482+00:00>, <HistoricalUserInCompany: [91d69c92-2284-4570-9011-760a5a74a708: Entrevias] antonio.santos as of 2023-03-10 19:25:27.670840+00:00>, <HistoricalUserInCompany: [91d69c92-2284-4570-9011-760a5a74a708: Entrevias] Maria.Toledo as of 2024-01-05 13:02:53.386979+00:00>, '...(remaining elements truncated)...']>"
      ]
     },
     "execution_count": 80,
     "metadata": {},
     "output_type": "execute_result"
    }
   ],
   "source": [
    "historicoUsuarios"
   ]
  },
  {
   "cell_type": "code",
   "execution_count": 81,
   "metadata": {},
   "outputs": [
    {
     "ename": "ValueError",
     "evalue": "max() arg is an empty sequence",
     "output_type": "error",
     "traceback": [
      "\u001b[0;31m---------------------------------------------------------------------------\u001b[0m",
      "\u001b[0;31mValueError\u001b[0m                                Traceback (most recent call last)",
      "\u001b[0;32m/tmp/ipykernel_6011/161305405.py\u001b[0m in \u001b[0;36m<module>\u001b[0;34m\u001b[0m\n\u001b[0;32m----> 1\u001b[0;31m \u001b[0mpermissoes_history_user\u001b[0m\u001b[0;34m(\u001b[0m\u001b[0mhistoricoUsuarios\u001b[0m\u001b[0;34m)\u001b[0m\u001b[0;34m\u001b[0m\u001b[0;34m\u001b[0m\u001b[0m\n\u001b[0m",
      "\u001b[0;32m/tmp/ipykernel_6011/2308846597.py\u001b[0m in \u001b[0;36mpermissoes_history_user\u001b[0;34m(result_list)\u001b[0m\n\u001b[1;32m     23\u001b[0m         \u001b[0mitem_min_ano\u001b[0m \u001b[0;34m=\u001b[0m \u001b[0mmin\u001b[0m\u001b[0;34m(\u001b[0m\u001b[0mlist\u001b[0m\u001b[0;34m(\u001b[0m\u001b[0mano\u001b[0m\u001b[0;34m.\u001b[0m\u001b[0mkeys\u001b[0m\u001b[0;34m(\u001b[0m\u001b[0;34m)\u001b[0m\u001b[0;34m)\u001b[0m\u001b[0;34m)\u001b[0m\u001b[0;34m\u001b[0m\u001b[0;34m\u001b[0m\u001b[0m\n\u001b[1;32m     24\u001b[0m         \u001b[0mcargo_atual\u001b[0m \u001b[0;34m=\u001b[0m \u001b[0mano\u001b[0m\u001b[0;34m[\u001b[0m\u001b[0mitem_ano\u001b[0m\u001b[0;34m]\u001b[0m\u001b[0;34m\u001b[0m\u001b[0;34m\u001b[0m\u001b[0m\n\u001b[0;32m---> 25\u001b[0;31m         \u001b[0mitem_mes\u001b[0m \u001b[0;34m=\u001b[0m \u001b[0mmax\u001b[0m\u001b[0;34m(\u001b[0m\u001b[0;34m[\u001b[0m\u001b[0mx\u001b[0m \u001b[0;32mfor\u001b[0m \u001b[0mx\u001b[0m \u001b[0;32min\u001b[0m \u001b[0mcargo_atual\u001b[0m\u001b[0;34m.\u001b[0m\u001b[0mkeys\u001b[0m\u001b[0;34m(\u001b[0m\u001b[0;34m)\u001b[0m \u001b[0;32mif\u001b[0m \u001b[0misinstance\u001b[0m\u001b[0;34m(\u001b[0m\u001b[0mx\u001b[0m\u001b[0;34m,\u001b[0m\u001b[0mint\u001b[0m\u001b[0;34m)\u001b[0m\u001b[0;34m]\u001b[0m\u001b[0;34m)\u001b[0m\u001b[0;34m\u001b[0m\u001b[0;34m\u001b[0m\u001b[0m\n\u001b[0m\u001b[1;32m     26\u001b[0m \u001b[0;34m\u001b[0m\u001b[0m\n\u001b[1;32m     27\u001b[0m         \u001b[0;32mif\u001b[0m \u001b[0mcargo_atual\u001b[0m\u001b[0;34m[\u001b[0m\u001b[0mitem_mes\u001b[0m\u001b[0;34m]\u001b[0m \u001b[0;34m!=\u001b[0m \u001b[0;34m'Inativo'\u001b[0m \u001b[0;32mor\u001b[0m \u001b[0mcargo_atual\u001b[0m\u001b[0;34m.\u001b[0m\u001b[0mget\u001b[0m\u001b[0;34m(\u001b[0m\u001b[0;34m'Inativo mesmo mês'\u001b[0m\u001b[0;34m)\u001b[0m \u001b[0;34m!=\u001b[0m \u001b[0mitem_mes\u001b[0m \u001b[0;32mor\u001b[0m \u001b[0mitem_min_ano\u001b[0m \u001b[0;34m<\u001b[0m \u001b[0mitem_ano\u001b[0m\u001b[0;34m:\u001b[0m\u001b[0;34m\u001b[0m\u001b[0;34m\u001b[0m\u001b[0m\n",
      "\u001b[0;31mValueError\u001b[0m: max() arg is an empty sequence"
     ]
    }
   ],
   "source": [
    "permissoes_history_user(historicoUsuarios)"
   ]
  },
  {
   "cell_type": "code",
   "execution_count": 68,
   "metadata": {},
   "outputs": [
    {
     "data": {
      "text/plain": [
       "63"
      ]
     },
     "execution_count": 68,
     "metadata": {},
     "output_type": "execute_result"
    }
   ],
   "source": [
    "dados=[]\n",
    "for i,a in enumerate(historicoUsuarios):\n",
    "    try:\n",
    "        if a.user.username not in dados:\n",
    "            dados.append(a.user.username)\n",
    "    except:\n",
    "        pass\n",
    "len(dados)"
   ]
  },
  {
   "cell_type": "code",
   "execution_count": 62,
   "metadata": {},
   "outputs": [
    {
     "name": "stdout",
     "output_type": "stream",
     "text": [
      "cristiano.oliveira\n",
      "kledson.brito\n",
      "Joaooliveira\n",
      "aderbal.formiga\n",
      "wal-liano.deka\n",
      "wesllem.serudo\n",
      "misael.serrao\n",
      "lucas.wilian\n",
      "hugo.isslle\n",
      "luiz.arcanjo\n",
      "edielson.campos\n",
      "zaqueu.oliveira\n",
      "Antônio\n",
      "carlos.porto\n",
      "geovane.almeida\n",
      "alvaro.aurelio\n",
      "vilmar.junior\n",
      "vinicius.bortolini\n",
      "cristiano.pantoja\n",
      "reginaldo\n",
      "gustavo.Monteiro\n",
      "edgar.silva\n",
      "alexandre.assef\n",
      "antonio.felix\n",
      "j.lima\n",
      "souza.messias\n",
      "aderbal.relvas\n",
      "elizanio.vieira\n",
      "wembleysantos\n",
      "welington.diego\n",
      "Eliton.Costa\n",
      "fredson.venque\n",
      "davi.silva\n",
      "henrique.moussa\n",
      "isenildo.torres\n",
      "leonardo.martins\n",
      "eldon.araujo\n",
      "ruan.carlos\n",
      "flavio.tavares\n",
      "Wellington\n",
      "ronald.souza\n",
      "richard.maradona\n",
      "tassio.janio\n",
      "edmilson.peixoto\n",
      "welington.bortolini\n",
      "edvaldo.campos\n",
      "Marcelo\n",
      "matheus.eduardo\n",
      "mateus.tavares\n",
      "marcus.abreu\n",
      "nelson.roriz\n",
      "cleimilton.melo\n",
      "saulo.sena\n",
      "mailso.dias\n",
      "erick.leite\n",
      "neandro.braga\n"
     ]
    },
    {
     "ename": "DoesNotExist",
     "evalue": "User matching query does not exist.",
     "output_type": "error",
     "traceback": [
      "\u001b[0;31m---------------------------------------------------------------------------\u001b[0m",
      "\u001b[0;31mKeyError\u001b[0m                                  Traceback (most recent call last)",
      "\u001b[0;32m~/.cache/pypoetry/virtualenvs/apps-ZFymp6kh-py3.7/lib/python3.7/site-packages/django/db/models/fields/related_descriptors.py\u001b[0m in \u001b[0;36m__get__\u001b[0;34m(self, instance, cls)\u001b[0m\n\u001b[1;32m    163\u001b[0m         \u001b[0;32mtry\u001b[0m\u001b[0;34m:\u001b[0m\u001b[0;34m\u001b[0m\u001b[0;34m\u001b[0m\u001b[0m\n\u001b[0;32m--> 164\u001b[0;31m             \u001b[0mrel_obj\u001b[0m \u001b[0;34m=\u001b[0m \u001b[0mself\u001b[0m\u001b[0;34m.\u001b[0m\u001b[0mfield\u001b[0m\u001b[0;34m.\u001b[0m\u001b[0mget_cached_value\u001b[0m\u001b[0;34m(\u001b[0m\u001b[0minstance\u001b[0m\u001b[0;34m)\u001b[0m\u001b[0;34m\u001b[0m\u001b[0;34m\u001b[0m\u001b[0m\n\u001b[0m\u001b[1;32m    165\u001b[0m         \u001b[0;32mexcept\u001b[0m \u001b[0mKeyError\u001b[0m\u001b[0;34m:\u001b[0m\u001b[0;34m\u001b[0m\u001b[0;34m\u001b[0m\u001b[0m\n",
      "\u001b[0;32m~/.cache/pypoetry/virtualenvs/apps-ZFymp6kh-py3.7/lib/python3.7/site-packages/django/db/models/fields/mixins.py\u001b[0m in \u001b[0;36mget_cached_value\u001b[0;34m(self, instance, default)\u001b[0m\n\u001b[1;32m     12\u001b[0m         \u001b[0;32mtry\u001b[0m\u001b[0;34m:\u001b[0m\u001b[0;34m\u001b[0m\u001b[0;34m\u001b[0m\u001b[0m\n\u001b[0;32m---> 13\u001b[0;31m             \u001b[0;32mreturn\u001b[0m \u001b[0minstance\u001b[0m\u001b[0;34m.\u001b[0m\u001b[0m_state\u001b[0m\u001b[0;34m.\u001b[0m\u001b[0mfields_cache\u001b[0m\u001b[0;34m[\u001b[0m\u001b[0mcache_name\u001b[0m\u001b[0;34m]\u001b[0m\u001b[0;34m\u001b[0m\u001b[0;34m\u001b[0m\u001b[0m\n\u001b[0m\u001b[1;32m     14\u001b[0m         \u001b[0;32mexcept\u001b[0m \u001b[0mKeyError\u001b[0m\u001b[0;34m:\u001b[0m\u001b[0;34m\u001b[0m\u001b[0;34m\u001b[0m\u001b[0m\n",
      "\u001b[0;31mKeyError\u001b[0m: 'user'",
      "\nDuring handling of the above exception, another exception occurred:\n",
      "\u001b[0;31mDoesNotExist\u001b[0m                              Traceback (most recent call last)",
      "\u001b[0;32m/tmp/ipykernel_6011/2152951904.py\u001b[0m in \u001b[0;36m<module>\u001b[0;34m\u001b[0m\n\u001b[1;32m      1\u001b[0m \u001b[0;32mfor\u001b[0m \u001b[0mi\u001b[0m\u001b[0;34m,\u001b[0m\u001b[0ma\u001b[0m \u001b[0;32min\u001b[0m \u001b[0menumerate\u001b[0m\u001b[0;34m(\u001b[0m\u001b[0mhistoricoUsuarios\u001b[0m\u001b[0;34m)\u001b[0m\u001b[0;34m:\u001b[0m\u001b[0;34m\u001b[0m\u001b[0;34m\u001b[0m\u001b[0m\n\u001b[0;32m----> 2\u001b[0;31m     \u001b[0mprint\u001b[0m\u001b[0;34m(\u001b[0m\u001b[0ma\u001b[0m\u001b[0;34m.\u001b[0m\u001b[0muser\u001b[0m\u001b[0;34m.\u001b[0m\u001b[0musername\u001b[0m\u001b[0;34m)\u001b[0m\u001b[0;34m\u001b[0m\u001b[0;34m\u001b[0m\u001b[0m\n\u001b[0m",
      "\u001b[0;32m~/.cache/pypoetry/virtualenvs/apps-ZFymp6kh-py3.7/lib/python3.7/site-packages/django/db/models/fields/related_descriptors.py\u001b[0m in \u001b[0;36m__get__\u001b[0;34m(self, instance, cls)\u001b[0m\n\u001b[1;32m    176\u001b[0m                 \u001b[0mrel_obj\u001b[0m \u001b[0;34m=\u001b[0m \u001b[0;32mNone\u001b[0m\u001b[0;34m\u001b[0m\u001b[0;34m\u001b[0m\u001b[0m\n\u001b[1;32m    177\u001b[0m             \u001b[0;32mif\u001b[0m \u001b[0mrel_obj\u001b[0m \u001b[0;32mis\u001b[0m \u001b[0;32mNone\u001b[0m \u001b[0;32mand\u001b[0m \u001b[0mhas_value\u001b[0m\u001b[0;34m:\u001b[0m\u001b[0;34m\u001b[0m\u001b[0;34m\u001b[0m\u001b[0m\n\u001b[0;32m--> 178\u001b[0;31m                 \u001b[0mrel_obj\u001b[0m \u001b[0;34m=\u001b[0m \u001b[0mself\u001b[0m\u001b[0;34m.\u001b[0m\u001b[0mget_object\u001b[0m\u001b[0;34m(\u001b[0m\u001b[0minstance\u001b[0m\u001b[0;34m)\u001b[0m\u001b[0;34m\u001b[0m\u001b[0;34m\u001b[0m\u001b[0m\n\u001b[0m\u001b[1;32m    179\u001b[0m                 \u001b[0mremote_field\u001b[0m \u001b[0;34m=\u001b[0m \u001b[0mself\u001b[0m\u001b[0;34m.\u001b[0m\u001b[0mfield\u001b[0m\u001b[0;34m.\u001b[0m\u001b[0mremote_field\u001b[0m\u001b[0;34m\u001b[0m\u001b[0;34m\u001b[0m\u001b[0m\n\u001b[1;32m    180\u001b[0m                 \u001b[0;31m# If this is a one-to-one relation, set the reverse accessor\u001b[0m\u001b[0;34m\u001b[0m\u001b[0;34m\u001b[0m\u001b[0;34m\u001b[0m\u001b[0m\n",
      "\u001b[0;32m~/.cache/pypoetry/virtualenvs/apps-ZFymp6kh-py3.7/lib/python3.7/site-packages/django/db/models/fields/related_descriptors.py\u001b[0m in \u001b[0;36mget_object\u001b[0;34m(self, instance)\u001b[0m\n\u001b[1;32m    143\u001b[0m         \u001b[0mqs\u001b[0m \u001b[0;34m=\u001b[0m \u001b[0mself\u001b[0m\u001b[0;34m.\u001b[0m\u001b[0mget_queryset\u001b[0m\u001b[0;34m(\u001b[0m\u001b[0minstance\u001b[0m\u001b[0;34m=\u001b[0m\u001b[0minstance\u001b[0m\u001b[0;34m)\u001b[0m\u001b[0;34m\u001b[0m\u001b[0;34m\u001b[0m\u001b[0m\n\u001b[1;32m    144\u001b[0m         \u001b[0;31m# Assuming the database enforces foreign keys, this won't fail.\u001b[0m\u001b[0;34m\u001b[0m\u001b[0;34m\u001b[0m\u001b[0;34m\u001b[0m\u001b[0m\n\u001b[0;32m--> 145\u001b[0;31m         \u001b[0;32mreturn\u001b[0m \u001b[0mqs\u001b[0m\u001b[0;34m.\u001b[0m\u001b[0mget\u001b[0m\u001b[0;34m(\u001b[0m\u001b[0mself\u001b[0m\u001b[0;34m.\u001b[0m\u001b[0mfield\u001b[0m\u001b[0;34m.\u001b[0m\u001b[0mget_reverse_related_filter\u001b[0m\u001b[0;34m(\u001b[0m\u001b[0minstance\u001b[0m\u001b[0;34m)\u001b[0m\u001b[0;34m)\u001b[0m\u001b[0;34m\u001b[0m\u001b[0;34m\u001b[0m\u001b[0m\n\u001b[0m\u001b[1;32m    146\u001b[0m \u001b[0;34m\u001b[0m\u001b[0m\n\u001b[1;32m    147\u001b[0m     \u001b[0;32mdef\u001b[0m \u001b[0m__get__\u001b[0m\u001b[0;34m(\u001b[0m\u001b[0mself\u001b[0m\u001b[0;34m,\u001b[0m \u001b[0minstance\u001b[0m\u001b[0;34m,\u001b[0m \u001b[0mcls\u001b[0m\u001b[0;34m=\u001b[0m\u001b[0;32mNone\u001b[0m\u001b[0;34m)\u001b[0m\u001b[0;34m:\u001b[0m\u001b[0;34m\u001b[0m\u001b[0;34m\u001b[0m\u001b[0m\n",
      "\u001b[0;32m~/.cache/pypoetry/virtualenvs/apps-ZFymp6kh-py3.7/lib/python3.7/site-packages/django/db/models/query.py\u001b[0m in \u001b[0;36mget\u001b[0;34m(self, *args, **kwargs)\u001b[0m\n\u001b[1;32m    406\u001b[0m             raise self.model.DoesNotExist(\n\u001b[1;32m    407\u001b[0m                 \u001b[0;34m\"%s matching query does not exist.\"\u001b[0m \u001b[0;34m%\u001b[0m\u001b[0;34m\u001b[0m\u001b[0;34m\u001b[0m\u001b[0m\n\u001b[0;32m--> 408\u001b[0;31m                 \u001b[0mself\u001b[0m\u001b[0;34m.\u001b[0m\u001b[0mmodel\u001b[0m\u001b[0;34m.\u001b[0m\u001b[0m_meta\u001b[0m\u001b[0;34m.\u001b[0m\u001b[0mobject_name\u001b[0m\u001b[0;34m\u001b[0m\u001b[0;34m\u001b[0m\u001b[0m\n\u001b[0m\u001b[1;32m    409\u001b[0m             )\n\u001b[1;32m    410\u001b[0m         raise self.model.MultipleObjectsReturned(\n",
      "\u001b[0;31mDoesNotExist\u001b[0m: User matching query does not exist."
     ]
    }
   ],
   "source": [
    "for i,a in enumerate(historicoUsuarios):\n",
    "    print(a.user.username)"
   ]
  },
  {
   "cell_type": "markdown",
   "metadata": {},
   "source": [
    "# Executar no caso da Entrevias"
   ]
  },
  {
   "cell_type": "code",
   "execution_count": 30,
   "metadata": {},
   "outputs": [],
   "source": [
    "# historicoUsuarios=UserInCompany.history.model.objects.filter( Q(user__email__icontains='afirma')|Q(user__email__icontains='ajr'), history_date__year= 2023,company__name=company).exclude(user__email__icontains='kartado').exclude(user__email__icontains='roadlabs').exclude(user__email__icontains='hermes').order_by( 'history_date')\n",
    "# historicoUsuarios.count()"
   ]
  },
  {
   "cell_type": "code",
   "execution_count": 31,
   "metadata": {},
   "outputs": [
    {
     "data": {
      "text/plain": [
       "0"
      ]
     },
     "execution_count": 31,
     "metadata": {},
     "output_type": "execute_result"
    }
   ],
   "source": [
    "# historicoUsuarios3=UserInCompany.history.model.objects.filter(company__name__icontains=company, history_date__year= 2022).exclude(user__email__icontains='kartado').exclude(user__email__icontains='roadlabs').exclude(user__uuid = '6ca2ac08-7ee0-4587-a0cf-8850f72e1b95').exclude(user__email__icontains='hermes').order_by( 'history_date')\n",
    "historicoUsuarios=UserInCompany.history.model.objects.filter(Q(user__email__icontains='afirma')|Q(user__email__icontains='ajr'),company__name__icontains=company,history_date__year=year).exclude(user__email__icontains='kartado').exclude(user__email__icontains='roadlabs').exclude(user__uuid = '6ca2ac08-7ee0-4587-a0cf-8850f72e1b95').exclude(user__email__icontains='hermes').order_by( 'history_date')\n",
    "historicoUsuarios.count()"
   ]
  },
  {
   "cell_type": "code",
   "execution_count": 61,
   "metadata": {},
   "outputs": [],
   "source": [
    "result_list = historicoUsuarios"
   ]
  },
  {
   "cell_type": "code",
   "execution_count": 62,
   "metadata": {},
   "outputs": [
    {
     "data": {
      "text/plain": [
       "52"
      ]
     },
     "execution_count": 62,
     "metadata": {},
     "output_type": "execute_result"
    }
   ],
   "source": [
    "len(result_list)"
   ]
  },
  {
   "cell_type": "code",
   "execution_count": 7,
   "metadata": {},
   "outputs": [],
   "source": [
    "df3 = pd.DataFrame(data=users_permissions)"
   ]
  },
  {
   "cell_type": "code",
   "execution_count": 8,
   "metadata": {},
   "outputs": [
    {
     "data": {
      "text/html": [
       "<div>\n",
       "<style scoped>\n",
       "    .dataframe tbody tr th:only-of-type {\n",
       "        vertical-align: middle;\n",
       "    }\n",
       "\n",
       "    .dataframe tbody tr th {\n",
       "        vertical-align: top;\n",
       "    }\n",
       "\n",
       "    .dataframe thead th {\n",
       "        text-align: right;\n",
       "    }\n",
       "</style>\n",
       "<table border=\"1\" class=\"dataframe\">\n",
       "  <thead>\n",
       "    <tr style=\"text-align: right;\">\n",
       "      <th></th>\n",
       "      <th>0</th>\n",
       "    </tr>\n",
       "  </thead>\n",
       "  <tbody>\n",
       "    <tr>\n",
       "      <th>0</th>\n",
       "      <td>Lia Pimentel</td>\n",
       "    </tr>\n",
       "    <tr>\n",
       "      <th>1</th>\n",
       "      <td>Gustavo Pizzo</td>\n",
       "    </tr>\n",
       "    <tr>\n",
       "      <th>2</th>\n",
       "      <td>André Reis</td>\n",
       "    </tr>\n",
       "    <tr>\n",
       "      <th>3</th>\n",
       "      <td>Bruno Fonseca</td>\n",
       "    </tr>\n",
       "    <tr>\n",
       "      <th>4</th>\n",
       "      <td>Vinicius Bessa</td>\n",
       "    </tr>\n",
       "  </tbody>\n",
       "</table>\n",
       "</div>"
      ],
      "text/plain": [
       "                0\n",
       "0    Lia Pimentel\n",
       "1   Gustavo Pizzo\n",
       "2      André Reis\n",
       "3   Bruno Fonseca\n",
       "4  Vinicius Bessa"
      ]
     },
     "execution_count": 8,
     "metadata": {},
     "output_type": "execute_result"
    }
   ],
   "source": [
    "df3"
   ]
  },
  {
   "cell_type": "code",
   "execution_count": 56,
   "metadata": {
    "scrolled": true
   },
   "outputs": [
    {
     "name": "stdout",
     "output_type": "stream",
     "text": [
      "Welington Bortolini Coordenador\n",
      "Nelson Roriz Coordenador\n",
      "Carlos Porto Coordenador\n",
      "Vinícius Bortolini Inativo\n",
      "Cristiano Oliveira Apontador\n",
      "Abrão Baloeiro Dutra Apontador\n",
      "Cristiano Pantoja Oliveira Inativo\n",
      "Zaqueu de Lima Oliveira Inativo\n",
      "Marcus Vinicius C Abreu Coordenador\n",
      "Mailso Dias Apontador\n",
      "Misael Serrão Apontador\n",
      "geovane dos santos almeida Apontador\n",
      "MESSIAS MORAES DE SOUZA Inativo\n",
      "Jonas de Lima Freire Apontador\n",
      "WELINGTON DIEGO COSTA Inativo\n",
      "BENNERSON RIBEIRO Visualizador\n",
      "HENRIQUE MOUSSA Visualizador\n",
      "ELIZANIO VIEIRA Visualizador\n",
      "Lucas Wilian de Almeida Santos Inativo\n",
      "Diego de Jesus Amoras Apontador\n",
      "Ronald Souza do Carmo Inativo\n",
      "Eldon Araújo Marques Apontador\n",
      "ADERBAL FORMIGA RELVAS Inativo\n",
      "Edgar Silva Coordenador\n",
      "Davi Silva Paixão Apontador\n",
      "Saulo Daniel Apontador\n",
      "Wellington Fagundes Sala técnica\n",
      "Antônio Barbosa Inativo\n",
      "Marcelo Martins Inativo\n",
      "Wembley Santos Inativo\n",
      "Jonnattan Gustavo Monteiro de Matos Inativo\n",
      "JOÃO ECCEL Coordenador\n",
      "Ruan Carlos Souza da Silva Inativo\n",
      "Welington Bortolini\n",
      "Nelson Roriz\n",
      "Carlos Porto\n",
      "Cristiano Oliveira\n",
      "Abrão Baloeiro Dutra\n",
      "Marcus Vinicius C Abreu\n",
      "Mailso Dias\n",
      "Misael Serrão\n",
      "geovane dos santos almeida\n",
      "Jonas de Lima Freire\n",
      "BENNERSON RIBEIRO\n",
      "HENRIQUE MOUSSA\n",
      "ELIZANIO VIEIRA\n",
      "Diego de Jesus Amoras\n",
      "Eldon Araújo Marques\n",
      "Edgar Silva\n",
      "Davi Silva Paixão\n",
      "Saulo Daniel\n",
      "Wellington Fagundes\n",
      "JOÃO ECCEL\n"
     ]
    }
   ],
   "source": [
    "for a in permissoes_history_user(result_list)[0]:\n",
    "    print(a)"
   ]
  },
  {
   "cell_type": "code",
   "execution_count": 49,
   "metadata": {},
   "outputs": [],
   "source": [
    "permissoesUsuarios = {}\n",
    "for a in result_list:\n",
    "    try:\n",
    "    #print(a.user.get_full_name())\n",
    "        if not permissoesUsuarios.get(a.user.get_full_name()):\n",
    "            permissoesUsuarios[a.user.get_full_name()] = {}\n",
    "    \n",
    "        permissoesUsuarios[a.user.get_full_name()][a.history_date.month] = a.permissions.name\n",
    "    except:\n",
    "        pass"
   ]
  },
  {
   "cell_type": "code",
   "execution_count": 50,
   "metadata": {
    "scrolled": true
   },
   "outputs": [
    {
     "data": {
      "text/plain": [
       "{'Welington Bortolini': {4: 'Coordenador'},\n",
       " 'Nelson Roriz': {4: 'Coordenador'},\n",
       " 'Carlos Porto': {4: 'Coordenador'},\n",
       " 'Vinícius Bortolini': {4: 'Coordenador', 6: 'Inativo'},\n",
       " 'Cristiano Oliveira': {4: 'Apontador', 3: 'Inativo'},\n",
       " 'Abrão Baloeiro Dutra': {5: 'Apontador',\n",
       "  10: 'Inativo',\n",
       "  11: 'Apontador',\n",
       "  3: 'Inativo'},\n",
       " 'Cristiano Pantoja Oliveira': {6: 'Inativo', 3: 'Inativo'},\n",
       " 'Zaqueu de Lima Oliveira': {6: 'Apontador',\n",
       "  9: 'Encarregado com Configurações',\n",
       "  8: 'Inativo'},\n",
       " 'Marcus Vinicius C Abreu': {6: 'Coordenador', 1: 'Coordenador'},\n",
       " 'Mailso Dias': {10: 'Apontador'},\n",
       " 'Misael Serrão': {11: 'Apontador', 3: 'Inativo'},\n",
       " 'geovane dos santos almeida': {12: 'Apontador', 3: 'Inativo'},\n",
       " 'MESSIAS MORAES DE SOUZA': {1: 'Apontador', 7: 'Inativo'},\n",
       " 'Jonas de Lima Freire': {2: 'Apontador'},\n",
       " 'WELINGTON DIEGO COSTA': {3: 'Apontador', 8: 'Inativo'},\n",
       " 'BENNERSON RIBEIRO': {3: 'Visualizador'},\n",
       " 'HENRIQUE MOUSSA': {3: 'Visualizador'},\n",
       " 'ELIZANIO VIEIRA': {3: 'Visualizador'},\n",
       " 'Lucas Wilian de Almeida Santos': {3: 'Inativo',\n",
       "  8: 'Apontador',\n",
       "  10: 'Inativo'},\n",
       " 'Diego de Jesus Amoras': {4: 'Apontador'},\n",
       " 'Ronald Souza do Carmo': {5: 'Apontador', 10: 'Inativo'},\n",
       " 'Eldon Araújo Marques': {5: 'Apontador'},\n",
       " 'ADERBAL FORMIGA RELVAS': {5: 'Apontador', 8: 'Inativo'},\n",
       " 'Edgar Silva': {7: 'Coordenador', 8: 'Coordenador'},\n",
       " 'Davi Silva Paixão': {7: 'Apontador'},\n",
       " 'Saulo Daniel': {7: 'Apontador'},\n",
       " 'Wellington Fagundes': {8: 'Sala técnica'},\n",
       " 'Antônio Barbosa': {8: 'Apontador', 12: 'Inativo'},\n",
       " 'Marcelo Martins': {8: 'Apontador', 10: 'Inativo'},\n",
       " 'Wembley Santos': {8: 'Apontador', 10: 'Inativo', 11: 'Inativo'},\n",
       " 'Jonnattan Gustavo Monteiro de Matos': {9: 'Apontador', 10: 'Inativo'},\n",
       " 'JOÃO ECCEL': {9: 'Coordenador'},\n",
       " 'Ruan Carlos Souza da Silva': {10: 'Apontador', 12: 'Inativo'}}"
      ]
     },
     "execution_count": 50,
     "metadata": {},
     "output_type": "execute_result"
    }
   ],
   "source": [
    "permissoesUsuarios"
   ]
  },
  {
   "cell_type": "code",
   "execution_count": 51,
   "metadata": {
    "scrolled": true
   },
   "outputs": [
    {
     "data": {
      "text/plain": [
       "{1: {'MESSIAS MORAES DE SOUZA', 'Marcus Vinicius C Abreu'},\n",
       " 2: {'Jonas de Lima Freire',\n",
       "  'MESSIAS MORAES DE SOUZA',\n",
       "  'Marcus Vinicius C Abreu'},\n",
       " 3: {'Jonas de Lima Freire',\n",
       "  'MESSIAS MORAES DE SOUZA',\n",
       "  'Marcus Vinicius C Abreu'},\n",
       " 4: {'Carlos Porto',\n",
       "  'Cristiano Oliveira',\n",
       "  'Jonas de Lima Freire',\n",
       "  'MESSIAS MORAES DE SOUZA',\n",
       "  'Marcus Vinicius C Abreu',\n",
       "  'Nelson Roriz',\n",
       "  'Vinícius Bortolini',\n",
       "  'Welington Bortolini'},\n",
       " 5: {'Abrão Baloeiro Dutra',\n",
       "  'Carlos Porto',\n",
       "  'Cristiano Oliveira',\n",
       "  'Jonas de Lima Freire',\n",
       "  'MESSIAS MORAES DE SOUZA',\n",
       "  'Marcus Vinicius C Abreu',\n",
       "  'Nelson Roriz',\n",
       "  'Vinícius Bortolini',\n",
       "  'Welington Bortolini'},\n",
       " 6: {'Abrão Baloeiro Dutra',\n",
       "  'Carlos Porto',\n",
       "  'Cristiano Oliveira',\n",
       "  'Cristiano Pantoja Oliveira',\n",
       "  'Jonas de Lima Freire',\n",
       "  'MESSIAS MORAES DE SOUZA',\n",
       "  'Marcus Vinicius C Abreu',\n",
       "  'Nelson Roriz',\n",
       "  'Vinícius Bortolini',\n",
       "  'Welington Bortolini',\n",
       "  'Zaqueu de Lima Oliveira'},\n",
       " 7: {'Abrão Baloeiro Dutra',\n",
       "  'Carlos Porto',\n",
       "  'Cristiano Oliveira',\n",
       "  'Cristiano Pantoja Oliveira',\n",
       "  'Jonas de Lima Freire',\n",
       "  'MESSIAS MORAES DE SOUZA',\n",
       "  'Marcus Vinicius C Abreu',\n",
       "  'Nelson Roriz',\n",
       "  'Vinícius Bortolini',\n",
       "  'Welington Bortolini',\n",
       "  'Zaqueu de Lima Oliveira'},\n",
       " 8: {'Abrão Baloeiro Dutra',\n",
       "  'Carlos Porto',\n",
       "  'Cristiano Oliveira',\n",
       "  'Cristiano Pantoja Oliveira',\n",
       "  'Jonas de Lima Freire',\n",
       "  'MESSIAS MORAES DE SOUZA',\n",
       "  'Marcus Vinicius C Abreu',\n",
       "  'Nelson Roriz',\n",
       "  'Vinícius Bortolini',\n",
       "  'Welington Bortolini',\n",
       "  'Zaqueu de Lima Oliveira'},\n",
       " 9: {'Abrão Baloeiro Dutra',\n",
       "  'Carlos Porto',\n",
       "  'Cristiano Oliveira',\n",
       "  'Cristiano Pantoja Oliveira',\n",
       "  'Jonas de Lima Freire',\n",
       "  'MESSIAS MORAES DE SOUZA',\n",
       "  'Marcus Vinicius C Abreu',\n",
       "  'Nelson Roriz',\n",
       "  'Vinícius Bortolini',\n",
       "  'Welington Bortolini',\n",
       "  'Zaqueu de Lima Oliveira'},\n",
       " 10: {'Abrão Baloeiro Dutra',\n",
       "  'Carlos Porto',\n",
       "  'Cristiano Oliveira',\n",
       "  'Cristiano Pantoja Oliveira',\n",
       "  'Jonas de Lima Freire',\n",
       "  'MESSIAS MORAES DE SOUZA',\n",
       "  'Mailso Dias',\n",
       "  'Marcus Vinicius C Abreu',\n",
       "  'Nelson Roriz',\n",
       "  'Vinícius Bortolini',\n",
       "  'Welington Bortolini',\n",
       "  'Zaqueu de Lima Oliveira'},\n",
       " 11: {'Abrão Baloeiro Dutra',\n",
       "  'Carlos Porto',\n",
       "  'Cristiano Oliveira',\n",
       "  'Cristiano Pantoja Oliveira',\n",
       "  'Jonas de Lima Freire',\n",
       "  'MESSIAS MORAES DE SOUZA',\n",
       "  'Mailso Dias',\n",
       "  'Marcus Vinicius C Abreu',\n",
       "  'Misael Serrão',\n",
       "  'Nelson Roriz',\n",
       "  'Vinícius Bortolini',\n",
       "  'Welington Bortolini',\n",
       "  'Zaqueu de Lima Oliveira'}}"
      ]
     },
     "execution_count": 51,
     "metadata": {},
     "output_type": "execute_result"
    }
   ],
   "source": [
    "users={}\n",
    "for mes in range(1,12):\n",
    "    try:\n",
    "        for a in result_list:\n",
    "            if a.history_date.month <= mes:\n",
    "                if not users.get(mes):\n",
    "                    users[mes] = set()\n",
    "                users[mes].add(a.user.get_full_name())\n",
    "    except:\n",
    "        pass\n",
    "users"
   ]
  },
  {
   "cell_type": "code",
   "execution_count": 52,
   "metadata": {
    "scrolled": true
   },
   "outputs": [
    {
     "data": {
      "text/plain": [
       "{'Welington Bortolini': {4: 'Coordenador'},\n",
       " 'Nelson Roriz': {4: 'Coordenador'},\n",
       " 'Carlos Porto': {4: 'Coordenador'},\n",
       " 'Vinícius Bortolini': {4: 'Coordenador', 6: 'Inativo'},\n",
       " 'Cristiano Oliveira': {4: 'Apontador', 3: 'Inativo'},\n",
       " 'Abrão Baloeiro Dutra': {5: 'Apontador',\n",
       "  10: 'Inativo',\n",
       "  11: 'Apontador',\n",
       "  3: 'Inativo'},\n",
       " 'Cristiano Pantoja Oliveira': {6: 'Inativo', 3: 'Inativo'},\n",
       " 'Zaqueu de Lima Oliveira': {6: 'Apontador',\n",
       "  9: 'Encarregado com Configurações',\n",
       "  8: 'Inativo'},\n",
       " 'Marcus Vinicius C Abreu': {6: 'Coordenador', 1: 'Coordenador'},\n",
       " 'Mailso Dias': {10: 'Apontador'},\n",
       " 'Misael Serrão': {11: 'Apontador', 3: 'Inativo'},\n",
       " 'geovane dos santos almeida': {12: 'Apontador', 3: 'Inativo'},\n",
       " 'MESSIAS MORAES DE SOUZA': {1: 'Apontador', 7: 'Inativo'},\n",
       " 'Jonas de Lima Freire': {2: 'Apontador'},\n",
       " 'WELINGTON DIEGO COSTA': {3: 'Apontador', 8: 'Inativo'},\n",
       " 'BENNERSON RIBEIRO': {3: 'Visualizador'},\n",
       " 'HENRIQUE MOUSSA': {3: 'Visualizador'},\n",
       " 'ELIZANIO VIEIRA': {3: 'Visualizador'},\n",
       " 'Lucas Wilian de Almeida Santos': {3: 'Inativo',\n",
       "  8: 'Apontador',\n",
       "  10: 'Inativo'},\n",
       " 'Diego de Jesus Amoras': {4: 'Apontador'},\n",
       " 'Ronald Souza do Carmo': {5: 'Apontador', 10: 'Inativo'},\n",
       " 'Eldon Araújo Marques': {5: 'Apontador'},\n",
       " 'ADERBAL FORMIGA RELVAS': {5: 'Apontador', 8: 'Inativo'},\n",
       " 'Edgar Silva': {7: 'Coordenador', 8: 'Coordenador'},\n",
       " 'Davi Silva Paixão': {7: 'Apontador'},\n",
       " 'Saulo Daniel': {7: 'Apontador'},\n",
       " 'Wellington Fagundes': {8: 'Sala técnica'},\n",
       " 'Antônio Barbosa': {8: 'Apontador', 12: 'Inativo'},\n",
       " 'Marcelo Martins': {8: 'Apontador', 10: 'Inativo'},\n",
       " 'Wembley Santos': {8: 'Apontador', 10: 'Inativo', 11: 'Inativo'},\n",
       " 'Jonnattan Gustavo Monteiro de Matos': {9: 'Apontador', 10: 'Inativo'},\n",
       " 'JOÃO ECCEL': {9: 'Coordenador'},\n",
       " 'Ruan Carlos Souza da Silva': {10: 'Apontador', 12: 'Inativo'}}"
      ]
     },
     "execution_count": 52,
     "metadata": {},
     "output_type": "execute_result"
    }
   ],
   "source": [
    "permissoesUsuarios"
   ]
  },
  {
   "cell_type": "code",
   "execution_count": 47,
   "metadata": {
    "scrolled": true
   },
   "outputs": [
    {
     "name": "stdout",
     "output_type": "stream",
     "text": [
      "{4: 'Coordenador'} Welington Bortolini 4\n",
      "{4: 'Coordenador'} Nelson Roriz 4\n",
      "{4: 'Coordenador'} Carlos Porto 4\n",
      "{4: 'Coordenador', 6: 'Inativo'} Vinícius Bortolini 6\n",
      "{4: 'Apontador', 3: 'Inativo'} Cristiano Oliveira 4\n",
      "{5: 'Apontador', 10: 'Inativo', 11: 'Apontador', 3: 'Inativo'} Abrão Baloeiro Dutra 11\n",
      "{6: 'Inativo', 3: 'Inativo'} Cristiano Pantoja Oliveira 6\n",
      "{6: 'Apontador', 9: 'Encarregado com Configurações', 8: 'Inativo'} Zaqueu de Lima Oliveira 9\n",
      "{6: 'Coordenador', 1: 'Coordenador'} Marcus Vinicius C Abreu 6\n",
      "{10: 'Apontador'} Mailso Dias 10\n",
      "{11: 'Apontador', 3: 'Inativo'} Misael Serrão 11\n",
      "{12: 'Apontador', 3: 'Inativo'} geovane dos santos almeida 12\n",
      "{1: 'Apontador', 7: 'Inativo'} MESSIAS MORAES DE SOUZA 7\n",
      "{2: 'Apontador'} Jonas de Lima Freire 2\n",
      "{3: 'Apontador', 8: 'Inativo'} WELINGTON DIEGO COSTA 8\n",
      "{3: 'Visualizador'} BENNERSON RIBEIRO 3\n",
      "{3: 'Visualizador'} HENRIQUE MOUSSA 3\n",
      "{3: 'Visualizador'} ELIZANIO VIEIRA 3\n",
      "{3: 'Inativo', 8: 'Apontador', 10: 'Inativo'} Lucas Wilian de Almeida Santos 10\n",
      "{4: 'Apontador'} Diego de Jesus Amoras 4\n",
      "{5: 'Apontador', 10: 'Inativo'} Ronald Souza do Carmo 10\n",
      "{5: 'Apontador'} Eldon Araújo Marques 5\n",
      "{5: 'Apontador', 8: 'Inativo'} ADERBAL FORMIGA RELVAS 8\n",
      "{7: 'Coordenador', 8: 'Coordenador'} Edgar Silva 8\n",
      "{7: 'Apontador'} Davi Silva Paixão 7\n",
      "{7: 'Apontador'} Saulo Daniel 7\n",
      "{8: 'Sala técnica'} Wellington Fagundes 8\n",
      "{8: 'Apontador', 12: 'Inativo'} Antônio Barbosa 12\n",
      "{8: 'Apontador', 10: 'Inativo'} Marcelo Martins 10\n",
      "{8: 'Apontador', 10: 'Inativo', 11: 'Inativo'} Wembley Santos 11\n",
      "{9: 'Apontador', 10: 'Inativo'} Jonnattan Gustavo Monteiro de Matos 10\n",
      "{9: 'Coordenador'} JOÃO ECCEL 9\n",
      "{10: 'Apontador', 12: 'Inativo'} Ruan Carlos Souza da Silva 12\n"
     ]
    }
   ],
   "source": [
    "usuariosAtivos = []\n",
    "usuariosInativos = []\n",
    "for nome, mes in permissoesUsuarios.items():\n",
    "    item = max(list(mes.keys()))\n",
    "    cargo_atual = mes[item]\n",
    "    print(mes,nome,item)\n",
    "    if cargo_atual != 'Inativo':\n",
    "        usuariosAtivos.append(nome)\n",
    "    else:\n",
    "        usuariosInativos.append(nome)\n"
   ]
  },
  {
   "cell_type": "code",
   "execution_count": 45,
   "metadata": {},
   "outputs": [],
   "source": [
    "ui=UserInCompany.objects.get(user__username='zaqueu.oliveira')"
   ]
  },
  {
   "cell_type": "code",
   "execution_count": 57,
   "metadata": {},
   "outputs": [
    {
     "name": "stdout",
     "output_type": "stream",
     "text": [
      "zaqueu.oliveira Inativo 2023-12-04 17:08:23.641413+00:00 rlcs - Kartado CS\n",
      "zaqueu.oliveira Inativo 2023-08-14 15:40:12.978828+00:00 edgar.silva - Edgar Silva\n",
      "zaqueu.oliveira Encarregado com Configurações 2022-09-29 14:00:20.072445+00:00 rlcs - Kartado CS\n",
      "zaqueu.oliveira Apontador 2022-06-03 14:23:04.140809+00:00 marina.carpes - Marina Carpes\n"
     ]
    }
   ],
   "source": [
    "for a in ui.history.all().order_by('-history_date'):\n",
    "    print(a.user.username,a.permissions.name,a.history_date,a.history_user)"
   ]
  },
  {
   "cell_type": "code",
   "execution_count": 19,
   "metadata": {},
   "outputs": [
    {
     "data": {
      "text/plain": [
       "(['Welington Bortolini',\n",
       "  'Nelson Roriz',\n",
       "  'Carlos Porto',\n",
       "  'Cristiano Oliveira',\n",
       "  'Abrão Baloeiro Dutra',\n",
       "  'Zaqueu de Lima Oliveira',\n",
       "  'Marcus Vinicius C Abreu',\n",
       "  'Mailso Dias',\n",
       "  'Misael Serrão',\n",
       "  'geovane dos santos almeida',\n",
       "  'Jonas de Lima Freire',\n",
       "  'BENNERSON RIBEIRO',\n",
       "  'HENRIQUE MOUSSA',\n",
       "  'ELIZANIO VIEIRA',\n",
       "  'Diego de Jesus Amoras',\n",
       "  'Eldon Araújo Marques',\n",
       "  'Edgar Silva',\n",
       "  'Davi Silva Paixão',\n",
       "  'Saulo Daniel',\n",
       "  'Wellington Fagundes',\n",
       "  'JOÃO ECCEL'],\n",
       " ['Vinícius Bortolini',\n",
       "  'Cristiano Pantoja Oliveira',\n",
       "  'MESSIAS MORAES DE SOUZA',\n",
       "  'WELINGTON DIEGO COSTA',\n",
       "  'Lucas Wilian de Almeida Santos',\n",
       "  'Ronald Souza do Carmo',\n",
       "  'ADERBAL FORMIGA RELVAS',\n",
       "  'Antônio Barbosa',\n",
       "  'Marcelo Martins',\n",
       "  'Wembley Santos',\n",
       "  'Jonnattan Gustavo Monteiro de Matos',\n",
       "  'Ruan Carlos Souza da Silva'])"
      ]
     },
     "execution_count": 19,
     "metadata": {},
     "output_type": "execute_result"
    }
   ],
   "source": [
    "usuariosAtivos,usuariosInativos"
   ]
  },
  {
   "cell_type": "code",
   "execution_count": 20,
   "metadata": {},
   "outputs": [
    {
     "name": "stdout",
     "output_type": "stream",
     "text": [
      "Welington Bortolini\n",
      "Nelson Roriz\n",
      "Carlos Porto\n",
      "Cristiano Oliveira\n",
      "Abrão Baloeiro Dutra\n",
      "Zaqueu de Lima Oliveira\n",
      "Marcus Vinicius C Abreu\n",
      "Mailso Dias\n",
      "Misael Serrão\n",
      "geovane dos santos almeida\n",
      "Jonas de Lima Freire\n",
      "BENNERSON RIBEIRO\n",
      "HENRIQUE MOUSSA\n",
      "ELIZANIO VIEIRA\n",
      "Diego de Jesus Amoras\n",
      "Eldon Araújo Marques\n",
      "Edgar Silva\n",
      "Davi Silva Paixão\n",
      "Saulo Daniel\n",
      "Wellington Fagundes\n",
      "JOÃO ECCEL\n"
     ]
    }
   ],
   "source": [
    "for i in usuariosAtivos:\n",
    "    print(i)"
   ]
  },
  {
   "cell_type": "code",
   "execution_count": 21,
   "metadata": {},
   "outputs": [],
   "source": [
    "df = pd.DataFrame(usuariosAtivos)"
   ]
  },
  {
   "cell_type": "code",
   "execution_count": 22,
   "metadata": {},
   "outputs": [
    {
     "data": {
      "text/html": [
       "<div>\n",
       "<style scoped>\n",
       "    .dataframe tbody tr th:only-of-type {\n",
       "        vertical-align: middle;\n",
       "    }\n",
       "\n",
       "    .dataframe tbody tr th {\n",
       "        vertical-align: top;\n",
       "    }\n",
       "\n",
       "    .dataframe thead th {\n",
       "        text-align: right;\n",
       "    }\n",
       "</style>\n",
       "<table border=\"1\" class=\"dataframe\">\n",
       "  <thead>\n",
       "    <tr style=\"text-align: right;\">\n",
       "      <th></th>\n",
       "      <th>0</th>\n",
       "    </tr>\n",
       "  </thead>\n",
       "  <tbody>\n",
       "    <tr>\n",
       "      <th>0</th>\n",
       "      <td>Welington Bortolini</td>\n",
       "    </tr>\n",
       "    <tr>\n",
       "      <th>1</th>\n",
       "      <td>Nelson Roriz</td>\n",
       "    </tr>\n",
       "    <tr>\n",
       "      <th>2</th>\n",
       "      <td>Carlos Porto</td>\n",
       "    </tr>\n",
       "    <tr>\n",
       "      <th>3</th>\n",
       "      <td>Cristiano Oliveira</td>\n",
       "    </tr>\n",
       "    <tr>\n",
       "      <th>4</th>\n",
       "      <td>Abrão Baloeiro Dutra</td>\n",
       "    </tr>\n",
       "    <tr>\n",
       "      <th>5</th>\n",
       "      <td>Zaqueu de Lima Oliveira</td>\n",
       "    </tr>\n",
       "    <tr>\n",
       "      <th>6</th>\n",
       "      <td>Marcus Vinicius C Abreu</td>\n",
       "    </tr>\n",
       "    <tr>\n",
       "      <th>7</th>\n",
       "      <td>Mailso Dias</td>\n",
       "    </tr>\n",
       "    <tr>\n",
       "      <th>8</th>\n",
       "      <td>Misael Serrão</td>\n",
       "    </tr>\n",
       "    <tr>\n",
       "      <th>9</th>\n",
       "      <td>geovane dos santos almeida</td>\n",
       "    </tr>\n",
       "    <tr>\n",
       "      <th>10</th>\n",
       "      <td>Jonas de Lima Freire</td>\n",
       "    </tr>\n",
       "    <tr>\n",
       "      <th>11</th>\n",
       "      <td>BENNERSON RIBEIRO</td>\n",
       "    </tr>\n",
       "    <tr>\n",
       "      <th>12</th>\n",
       "      <td>HENRIQUE MOUSSA</td>\n",
       "    </tr>\n",
       "    <tr>\n",
       "      <th>13</th>\n",
       "      <td>ELIZANIO VIEIRA</td>\n",
       "    </tr>\n",
       "    <tr>\n",
       "      <th>14</th>\n",
       "      <td>Diego de Jesus Amoras</td>\n",
       "    </tr>\n",
       "    <tr>\n",
       "      <th>15</th>\n",
       "      <td>Eldon Araújo Marques</td>\n",
       "    </tr>\n",
       "    <tr>\n",
       "      <th>16</th>\n",
       "      <td>Edgar Silva</td>\n",
       "    </tr>\n",
       "    <tr>\n",
       "      <th>17</th>\n",
       "      <td>Davi Silva Paixão</td>\n",
       "    </tr>\n",
       "    <tr>\n",
       "      <th>18</th>\n",
       "      <td>Saulo Daniel</td>\n",
       "    </tr>\n",
       "    <tr>\n",
       "      <th>19</th>\n",
       "      <td>Wellington Fagundes</td>\n",
       "    </tr>\n",
       "    <tr>\n",
       "      <th>20</th>\n",
       "      <td>JOÃO ECCEL</td>\n",
       "    </tr>\n",
       "  </tbody>\n",
       "</table>\n",
       "</div>"
      ],
      "text/plain": [
       "                             0\n",
       "0          Welington Bortolini\n",
       "1                 Nelson Roriz\n",
       "2                 Carlos Porto\n",
       "3           Cristiano Oliveira\n",
       "4         Abrão Baloeiro Dutra\n",
       "5      Zaqueu de Lima Oliveira\n",
       "6      Marcus Vinicius C Abreu\n",
       "7                  Mailso Dias\n",
       "8                Misael Serrão\n",
       "9   geovane dos santos almeida\n",
       "10        Jonas de Lima Freire\n",
       "11           BENNERSON RIBEIRO\n",
       "12             HENRIQUE MOUSSA\n",
       "13             ELIZANIO VIEIRA\n",
       "14       Diego de Jesus Amoras\n",
       "15        Eldon Araújo Marques\n",
       "16                 Edgar Silva\n",
       "17           Davi Silva Paixão\n",
       "18                Saulo Daniel\n",
       "19         Wellington Fagundes\n",
       "20                  JOÃO ECCEL"
      ]
     },
     "execution_count": 22,
     "metadata": {},
     "output_type": "execute_result"
    }
   ],
   "source": [
    "df"
   ]
  },
  {
   "cell_type": "code",
   "execution_count": null,
   "metadata": {},
   "outputs": [],
   "source": []
  },
  {
   "cell_type": "code",
   "execution_count": null,
   "metadata": {},
   "outputs": [],
   "source": []
  },
  {
   "cell_type": "code",
   "execution_count": null,
   "metadata": {},
   "outputs": [],
   "source": []
  },
  {
   "cell_type": "markdown",
   "metadata": {},
   "source": [
    "# Usuários para Financeiro Meses anteriores"
   ]
  },
  {
   "cell_type": "code",
   "execution_count": 59,
   "metadata": {},
   "outputs": [],
   "source": [
    "ultimo_mes=9"
   ]
  },
  {
   "cell_type": "code",
   "execution_count": 60,
   "metadata": {},
   "outputs": [],
   "source": [
    "filename='Usuários Ativos Financeiro Meses Anteriores'\n",
    "pd.DataFrame().to_excel(filename+'.xlsx')"
   ]
  },
  {
   "cell_type": "code",
   "execution_count": 61,
   "metadata": {},
   "outputs": [],
   "source": [
    "for company in companies:\n",
    "    if company is not 'Entrevias':\n",
    "        historicoUsuarios=UserInCompany.history.model.objects.filter(\n",
    "            company__name=company\n",
    "            ,history_date__month__in=[i for i in reversed(range(1,ultimo_mes+1))],\n",
    "            history_date__year=year\n",
    "        ).exclude(\n",
    "            user__email__icontains='kartado'\n",
    "        ).exclude(\n",
    "            user__email__icontains='roadlabs'\n",
    "        ).exclude(\n",
    "            user__uuid = '6ca2ac08-7ee0-4587-a0cf-8850f72e1b95'\n",
    "        ).exclude(\n",
    "            user__email__icontains='hermes'\n",
    "        ).order_by( 'history_date')\n",
    "    else:\n",
    "        historicoUsuarios=UserInCompany.history.model.objects.filter(\n",
    "            Q(user__email__icontains='afirma')|Q(user__email__icontains='ajr'),\n",
    "            company__name__icontains=company\n",
    "            ,history_date__month__in=[i for i in reversed(range(1,ultimo_mes+1))],\n",
    "            history_date__year=year\n",
    "        ).exclude(\n",
    "            user__email__icontains='kartado'\n",
    "        ).exclude(\n",
    "            user__email__icontains='roadlabs'\n",
    "        ).exclude(\n",
    "            user__uuid = '6ca2ac08-7ee0-4587-a0cf-8850f72e1b95'\n",
    "        ).exclude(\n",
    "            user__email__icontains='hermes'\n",
    "        ).order_by( 'history_date')\n",
    "    \n",
    "    users_permissions = permissoes_history_user(historicoUsuarios)[0] if len(permissoes_history_user(historicoUsuarios)[0]) > 0 else 0\n",
    "    \n",
    "    if users_permissions != 0:\n",
    "        df2 = pd.DataFrame(data=users_permissions,columns=['Usuários ativos'])\n",
    "        with pd.ExcelWriter(filename+'.xlsx', mode='a',if_sheet_exists='replace') as writer:\n",
    "            df2.to_excel(writer,sheet_name=company,na_rep=\"-\")"
   ]
  },
  {
   "cell_type": "code",
   "execution_count": 40,
   "metadata": {},
   "outputs": [
    {
     "data": {
      "text/html": [
       "<div>\n",
       "<style scoped>\n",
       "    .dataframe tbody tr th:only-of-type {\n",
       "        vertical-align: middle;\n",
       "    }\n",
       "\n",
       "    .dataframe tbody tr th {\n",
       "        vertical-align: top;\n",
       "    }\n",
       "\n",
       "    .dataframe thead th {\n",
       "        text-align: right;\n",
       "    }\n",
       "</style>\n",
       "<table border=\"1\" class=\"dataframe\">\n",
       "  <thead>\n",
       "    <tr style=\"text-align: right;\">\n",
       "      <th></th>\n",
       "      <th>Usuários ativos</th>\n",
       "    </tr>\n",
       "  </thead>\n",
       "  <tbody>\n",
       "    <tr>\n",
       "      <th>0</th>\n",
       "      <td>José Rafael Tavares</td>\n",
       "    </tr>\n",
       "    <tr>\n",
       "      <th>1</th>\n",
       "      <td>Eudes Teles de Souza</td>\n",
       "    </tr>\n",
       "    <tr>\n",
       "      <th>2</th>\n",
       "      <td>Samuel Viana dos Santos</td>\n",
       "    </tr>\n",
       "    <tr>\n",
       "      <th>3</th>\n",
       "      <td>Denis Alves Silva</td>\n",
       "    </tr>\n",
       "    <tr>\n",
       "      <th>4</th>\n",
       "      <td>Marcos Cipriano</td>\n",
       "    </tr>\n",
       "    <tr>\n",
       "      <th>5</th>\n",
       "      <td>Anderson Adauto</td>\n",
       "    </tr>\n",
       "    <tr>\n",
       "      <th>6</th>\n",
       "      <td>Jessé Campos da Silva</td>\n",
       "    </tr>\n",
       "    <tr>\n",
       "      <th>7</th>\n",
       "      <td>Thiago Oliveira</td>\n",
       "    </tr>\n",
       "  </tbody>\n",
       "</table>\n",
       "</div>"
      ],
      "text/plain": [
       "           Usuários ativos\n",
       "0      José Rafael Tavares\n",
       "1     Eudes Teles de Souza\n",
       "2  Samuel Viana dos Santos\n",
       "3        Denis Alves Silva\n",
       "4          Marcos Cipriano\n",
       "5          Anderson Adauto\n",
       "6    Jessé Campos da Silva\n",
       "7          Thiago Oliveira"
      ]
     },
     "execution_count": 40,
     "metadata": {},
     "output_type": "execute_result"
    }
   ],
   "source": [
    "df2"
   ]
  },
  {
   "cell_type": "code",
   "execution_count": 43,
   "metadata": {},
   "outputs": [],
   "source": [
    "company=Company.objects.get(name='Eixo Sp - Pavimento')"
   ]
  },
  {
   "cell_type": "code",
   "execution_count": 44,
   "metadata": {},
   "outputs": [
    {
     "data": {
      "text/plain": [
       "<Company: 8174e68f-3a8f-4013-98dd-062954e4c0da: Eixo Sp - Pavimento>"
      ]
     },
     "execution_count": 44,
     "metadata": {},
     "output_type": "execute_result"
    }
   ],
   "source": [
    "company"
   ]
  },
  {
   "cell_type": "code",
   "execution_count": 48,
   "metadata": {},
   "outputs": [],
   "source": [
    "import pandas as pd"
   ]
  },
  {
   "cell_type": "code",
   "execution_count": 49,
   "metadata": {},
   "outputs": [
    {
     "ename": "ValueError",
     "evalue": "If using all scalar values, you must pass an index",
     "output_type": "error",
     "traceback": [
      "\u001b[0;31m---------------------------------------------------------------------------\u001b[0m",
      "\u001b[0;31mValueError\u001b[0m                                Traceback (most recent call last)",
      "\u001b[0;32m/tmp/ipykernel_231285/2610055562.py\u001b[0m in \u001b[0;36m<module>\u001b[0;34m\u001b[0m\n\u001b[0;32m----> 1\u001b[0;31m \u001b[0mdf\u001b[0m \u001b[0;34m=\u001b[0m \u001b[0mpd\u001b[0m\u001b[0;34m.\u001b[0m\u001b[0mDataFrame\u001b[0m\u001b[0;34m(\u001b[0m\u001b[0mdata\u001b[0m\u001b[0;34m=\u001b[0m\u001b[0;34m{\u001b[0m\u001b[0;34m'name'\u001b[0m\u001b[0;34m:\u001b[0m\u001b[0;34m'Luan'\u001b[0m\u001b[0;34m}\u001b[0m\u001b[0;34m)\u001b[0m\u001b[0;34m\u001b[0m\u001b[0;34m\u001b[0m\u001b[0m\n\u001b[0m",
      "\u001b[0;32m~/.cache/pypoetry/virtualenvs/apps-ZFymp6kh-py3.7/lib/python3.7/site-packages/pandas/core/frame.py\u001b[0m in \u001b[0;36m__init__\u001b[0;34m(self, data, index, columns, dtype, copy)\u001b[0m\n\u001b[1;32m    612\u001b[0m         \u001b[0;32melif\u001b[0m \u001b[0misinstance\u001b[0m\u001b[0;34m(\u001b[0m\u001b[0mdata\u001b[0m\u001b[0;34m,\u001b[0m \u001b[0mdict\u001b[0m\u001b[0;34m)\u001b[0m\u001b[0;34m:\u001b[0m\u001b[0;34m\u001b[0m\u001b[0;34m\u001b[0m\u001b[0m\n\u001b[1;32m    613\u001b[0m             \u001b[0;31m# GH#38939 de facto copy defaults to False only in non-dict cases\u001b[0m\u001b[0;34m\u001b[0m\u001b[0;34m\u001b[0m\u001b[0;34m\u001b[0m\u001b[0m\n\u001b[0;32m--> 614\u001b[0;31m             \u001b[0mmgr\u001b[0m \u001b[0;34m=\u001b[0m \u001b[0mdict_to_mgr\u001b[0m\u001b[0;34m(\u001b[0m\u001b[0mdata\u001b[0m\u001b[0;34m,\u001b[0m \u001b[0mindex\u001b[0m\u001b[0;34m,\u001b[0m \u001b[0mcolumns\u001b[0m\u001b[0;34m,\u001b[0m \u001b[0mdtype\u001b[0m\u001b[0;34m=\u001b[0m\u001b[0mdtype\u001b[0m\u001b[0;34m,\u001b[0m \u001b[0mcopy\u001b[0m\u001b[0;34m=\u001b[0m\u001b[0mcopy\u001b[0m\u001b[0;34m,\u001b[0m \u001b[0mtyp\u001b[0m\u001b[0;34m=\u001b[0m\u001b[0mmanager\u001b[0m\u001b[0;34m)\u001b[0m\u001b[0;34m\u001b[0m\u001b[0;34m\u001b[0m\u001b[0m\n\u001b[0m\u001b[1;32m    615\u001b[0m         \u001b[0;32melif\u001b[0m \u001b[0misinstance\u001b[0m\u001b[0;34m(\u001b[0m\u001b[0mdata\u001b[0m\u001b[0;34m,\u001b[0m \u001b[0mma\u001b[0m\u001b[0;34m.\u001b[0m\u001b[0mMaskedArray\u001b[0m\u001b[0;34m)\u001b[0m\u001b[0;34m:\u001b[0m\u001b[0;34m\u001b[0m\u001b[0;34m\u001b[0m\u001b[0m\n\u001b[1;32m    616\u001b[0m             \u001b[0;32mimport\u001b[0m \u001b[0mnumpy\u001b[0m\u001b[0;34m.\u001b[0m\u001b[0mma\u001b[0m\u001b[0;34m.\u001b[0m\u001b[0mmrecords\u001b[0m \u001b[0;32mas\u001b[0m \u001b[0mmrecords\u001b[0m\u001b[0;34m\u001b[0m\u001b[0;34m\u001b[0m\u001b[0m\n",
      "\u001b[0;32m~/.cache/pypoetry/virtualenvs/apps-ZFymp6kh-py3.7/lib/python3.7/site-packages/pandas/core/internals/construction.py\u001b[0m in \u001b[0;36mdict_to_mgr\u001b[0;34m(data, index, columns, dtype, typ, copy)\u001b[0m\n\u001b[1;32m    463\u001b[0m \u001b[0;34m\u001b[0m\u001b[0m\n\u001b[1;32m    464\u001b[0m     return arrays_to_mgr(\n\u001b[0;32m--> 465\u001b[0;31m         \u001b[0marrays\u001b[0m\u001b[0;34m,\u001b[0m \u001b[0mdata_names\u001b[0m\u001b[0;34m,\u001b[0m \u001b[0mindex\u001b[0m\u001b[0;34m,\u001b[0m \u001b[0mcolumns\u001b[0m\u001b[0;34m,\u001b[0m \u001b[0mdtype\u001b[0m\u001b[0;34m=\u001b[0m\u001b[0mdtype\u001b[0m\u001b[0;34m,\u001b[0m \u001b[0mtyp\u001b[0m\u001b[0;34m=\u001b[0m\u001b[0mtyp\u001b[0m\u001b[0;34m,\u001b[0m \u001b[0mconsolidate\u001b[0m\u001b[0;34m=\u001b[0m\u001b[0mcopy\u001b[0m\u001b[0;34m\u001b[0m\u001b[0;34m\u001b[0m\u001b[0m\n\u001b[0m\u001b[1;32m    466\u001b[0m     )\n\u001b[1;32m    467\u001b[0m \u001b[0;34m\u001b[0m\u001b[0m\n",
      "\u001b[0;32m~/.cache/pypoetry/virtualenvs/apps-ZFymp6kh-py3.7/lib/python3.7/site-packages/pandas/core/internals/construction.py\u001b[0m in \u001b[0;36marrays_to_mgr\u001b[0;34m(arrays, arr_names, index, columns, dtype, verify_integrity, typ, consolidate)\u001b[0m\n\u001b[1;32m    117\u001b[0m         \u001b[0;31m# figure out the index, if necessary\u001b[0m\u001b[0;34m\u001b[0m\u001b[0;34m\u001b[0m\u001b[0;34m\u001b[0m\u001b[0m\n\u001b[1;32m    118\u001b[0m         \u001b[0;32mif\u001b[0m \u001b[0mindex\u001b[0m \u001b[0;32mis\u001b[0m \u001b[0;32mNone\u001b[0m\u001b[0;34m:\u001b[0m\u001b[0;34m\u001b[0m\u001b[0;34m\u001b[0m\u001b[0m\n\u001b[0;32m--> 119\u001b[0;31m             \u001b[0mindex\u001b[0m \u001b[0;34m=\u001b[0m \u001b[0m_extract_index\u001b[0m\u001b[0;34m(\u001b[0m\u001b[0marrays\u001b[0m\u001b[0;34m)\u001b[0m\u001b[0;34m\u001b[0m\u001b[0;34m\u001b[0m\u001b[0m\n\u001b[0m\u001b[1;32m    120\u001b[0m         \u001b[0;32melse\u001b[0m\u001b[0;34m:\u001b[0m\u001b[0;34m\u001b[0m\u001b[0;34m\u001b[0m\u001b[0m\n\u001b[1;32m    121\u001b[0m             \u001b[0mindex\u001b[0m \u001b[0;34m=\u001b[0m \u001b[0mensure_index\u001b[0m\u001b[0;34m(\u001b[0m\u001b[0mindex\u001b[0m\u001b[0;34m)\u001b[0m\u001b[0;34m\u001b[0m\u001b[0;34m\u001b[0m\u001b[0m\n",
      "\u001b[0;32m~/.cache/pypoetry/virtualenvs/apps-ZFymp6kh-py3.7/lib/python3.7/site-packages/pandas/core/internals/construction.py\u001b[0m in \u001b[0;36m_extract_index\u001b[0;34m(data)\u001b[0m\n\u001b[1;32m    623\u001b[0m \u001b[0;34m\u001b[0m\u001b[0m\n\u001b[1;32m    624\u001b[0m         \u001b[0;32mif\u001b[0m \u001b[0;32mnot\u001b[0m \u001b[0mindexes\u001b[0m \u001b[0;32mand\u001b[0m \u001b[0;32mnot\u001b[0m \u001b[0mraw_lengths\u001b[0m\u001b[0;34m:\u001b[0m\u001b[0;34m\u001b[0m\u001b[0;34m\u001b[0m\u001b[0m\n\u001b[0;32m--> 625\u001b[0;31m             \u001b[0;32mraise\u001b[0m \u001b[0mValueError\u001b[0m\u001b[0;34m(\u001b[0m\u001b[0;34m\"If using all scalar values, you must pass an index\"\u001b[0m\u001b[0;34m)\u001b[0m\u001b[0;34m\u001b[0m\u001b[0;34m\u001b[0m\u001b[0m\n\u001b[0m\u001b[1;32m    626\u001b[0m \u001b[0;34m\u001b[0m\u001b[0m\n\u001b[1;32m    627\u001b[0m         \u001b[0;32mif\u001b[0m \u001b[0mhave_series\u001b[0m\u001b[0;34m:\u001b[0m\u001b[0;34m\u001b[0m\u001b[0;34m\u001b[0m\u001b[0m\n",
      "\u001b[0;31mValueError\u001b[0m: If using all scalar values, you must pass an index"
     ]
    }
   ],
   "source": [
    "df = pd.DataFrame(data={'name':'Luan'})"
   ]
  },
  {
   "cell_type": "code",
   "execution_count": 50,
   "metadata": {},
   "outputs": [
    {
     "ename": "NameError",
     "evalue": "name 'df' is not defined",
     "output_type": "error",
     "traceback": [
      "\u001b[0;31m---------------------------------------------------------------------------\u001b[0m",
      "\u001b[0;31mNameError\u001b[0m                                 Traceback (most recent call last)",
      "\u001b[0;32m/tmp/ipykernel_231285/1396537375.py\u001b[0m in \u001b[0;36m<module>\u001b[0;34m\u001b[0m\n\u001b[0;32m----> 1\u001b[0;31m \u001b[0mdf\u001b[0m\u001b[0;34m\u001b[0m\u001b[0;34m\u001b[0m\u001b[0m\n\u001b[0m",
      "\u001b[0;31mNameError\u001b[0m: name 'df' is not defined"
     ]
    }
   ],
   "source": [
    "df"
   ]
  },
  {
   "cell_type": "markdown",
   "metadata": {},
   "source": [
    "# Teste"
   ]
  },
  {
   "cell_type": "code",
   "execution_count": 4,
   "metadata": {},
   "outputs": [],
   "source": [
    "def permissoes_history_user(result_list):\n",
    "    permissoesUsuarios = {}\n",
    "    for a in result_list.order_by('user','history_date'):\n",
    "        try:\n",
    "#             print(a.permissions.name)\n",
    "            if not permissoesUsuarios.get(a.user.get_full_name()):\n",
    "                permissoesUsuarios[a.user.get_full_name()] = {}\n",
    "            if not permissoesUsuarios.get(a.user.get_full_name()).get(a.history_date.year): \n",
    "                permissoesUsuarios[a.user.get_full_name()][a.history_date.year] = {}\n",
    "            if not permissoesUsuarios.get(a.user.get_full_name()).get(a.history_date.year).get(a.history_date.month):\n",
    "                permissoesUsuarios[a.user.get_full_name()][a.history_date.year][a.history_date.month] = {}\n",
    "            if permissoesUsuarios.get(\n",
    "                a.user.get_full_name()\n",
    "            ).get(\n",
    "                a.history_date.year\n",
    "            ).get(\n",
    "                a.history_date.month\n",
    "            ).get(a.history_date.day):\n",
    "                perm_do_dia = permissoesUsuarios.get(\n",
    "                    a.user.get_full_name()\n",
    "                ).get(\n",
    "                    a.history_date.year\n",
    "                ).get(\n",
    "                    a.history_date.month\n",
    "                ).get(\n",
    "                    a.history_date.day\n",
    "                )\n",
    "                if not isinstance(permissoesUsuarios.get(a.user.get_full_name()).get(a.history_date.year).get(a.history_date.month).get(a.history_date.day),list):\n",
    "                    permissoesUsuarios[a.user.get_full_name()][a.history_date.year][a.history_date.month][a.history_date.day]=[perm_do_dia,a.permissions.name]\n",
    "                else:\n",
    "                    permissoesUsuarios[a.user.get_full_name()][a.history_date.year][a.history_date.month][a.history_date.day].append(a.permissions.name)\n",
    "            else:\n",
    "                permissoesUsuarios[a.user.get_full_name()][a.history_date.year][a.history_date.month][a.history_date.day] = a.permissions.name\n",
    "#             print(permissoesUsuarios)\n",
    "        except:\n",
    "            pass\n",
    "\n",
    "    usuariosAtivos = []\n",
    "    usuariosInativos = []\n",
    "#     print(permissoesUsuarios)\n",
    "    for nome, ano in permissoesUsuarios.items():\n",
    "        print(nome, ano)\n",
    "        ultimo_ano = sorted(list(ano.keys()))[-1]\n",
    "        ano_anterior = sorted(list(ano.keys()))[-2] if len(sorted(list(ano.keys()))) > 1 else ultimo_ano\n",
    "        ultimo_mes = max(list(ano[ultimo_ano].keys()))\n",
    "        ultimo_dia = max(list(ano[ultimo_ano][ultimo_mes].keys()))\n",
    "        penultimo_mes = ultimo_mes\n",
    "        penultimo_mes_ult_dia = ultimo_dia\n",
    "        if ano_anterior != ultimo_ano:\n",
    "            penultimo_mes = max(list(ano[ano_anterior].keys()))\n",
    "            penultimo_mes_ult_dia = max(list(ano[ano_anterior][penultimo_mes].keys()))\n",
    "        ultimo_mes = max(list(ano[ultimo_ano].keys()))\n",
    "        ultimo_dia = max(list(ano[ultimo_ano][ultimo_mes].keys()))\n",
    "        cargo = ano[ultimo_ano][ultimo_mes][ultimo_dia]\n",
    "        if not isinstance(cargo,list):\n",
    "            cargo_atual = cargo\n",
    "            cargo_anterior = ano.get(ano_anterior).get(penultimo_mes).get(penultimo_mes_ult_dia)\n",
    "#             cargo_cobrar = cargo_anterior if cargo_anterior is not None and cargo_anterior != 'Inativo' and ano_anterior\n",
    "        else:\n",
    "            cargo_atual = cargo[-1]\n",
    "            cargo_anterior = cargo[-2]\n",
    "#         item_mes = max([x for x in cargo_atual.keys() if isinstance(x,int)])\n",
    "        print(cargo_atual,cargo_anterior,ano_anterior,penultimo_mes,penultimo_mes_ult_dia)\n",
    "#         if ultimo_ano != ano_anterior\n",
    "#         if (cargo_atual[item_mes] != 'Inativo' and cargo_atual.get('ultimaAtiva') != 'Inativo') or cargo_atual.get('Inativo mesmo mês') != item_mes or item_min_ano < item_ano:\n",
    "#             usuariosAtivos.append(nome)\n",
    "#         else:\n",
    "#             usuariosInativos.append(nome)\n",
    "\n",
    "    return usuariosAtivos,usuariosInativos"
   ]
  },
  {
   "cell_type": "code",
   "execution_count": 11,
   "metadata": {},
   "outputs": [
    {
     "data": {
      "text/plain": [
       "3"
      ]
     },
     "execution_count": 11,
     "metadata": {},
     "output_type": "execute_result"
    }
   ],
   "source": [
    "historicoUsuarios=UserInCompany.history.model.objects.filter(\n",
    "            company__name__icontains='Construtora Castilho'\n",
    "            ,user__username='lteste'\n",
    "        ).order_by('-history_date')\n",
    "historicoUsuarios.count()"
   ]
  },
  {
   "cell_type": "code",
   "execution_count": 12,
   "metadata": {},
   "outputs": [
    {
     "name": "stdout",
     "output_type": "stream",
     "text": [
      "Coordenador 2024-01-31 19:38:03.314893+00:00\n",
      "Inativo(muitos) 2024-01-31 17:09:52.945318+00:00\n",
      "Suporte 2024-01-31 17:09:30.063547+00:00\n"
     ]
    }
   ],
   "source": [
    "for a in historicoUsuarios:\n",
    "    print(a.permissions.name,a.history_date)"
   ]
  },
  {
   "cell_type": "code",
   "execution_count": 7,
   "metadata": {},
   "outputs": [
    {
     "name": "stdout",
     "output_type": "stream",
     "text": [
      "Luan Poletti {2023: {8: {29: 'Coordenador'}, 10: {27: 'Usuário de campo'}}, 2024: {1: {31: ['Suporte', 'Inativo(muitos)']}, 2: {1: 'Inativo(muitos)'}}}\n",
      "Inativo(muitos) Usuário de campo 2023 10 27\n"
     ]
    },
    {
     "data": {
      "text/plain": [
       "([], [])"
      ]
     },
     "execution_count": 7,
     "metadata": {},
     "output_type": "execute_result"
    }
   ],
   "source": [
    "permissoes_history_user(historicoUsuarios)"
   ]
  },
  {
   "cell_type": "code",
   "execution_count": 179,
   "metadata": {},
   "outputs": [],
   "source": [
    "dicio={'Luan Poletti': {2023: {8: 'Coordenador', 10: 'Usuário de campo'}, 2024: {1: 'Suporte'}}}"
   ]
  },
  {
   "cell_type": "code",
   "execution_count": 156,
   "metadata": {},
   "outputs": [
    {
     "data": {
      "text/plain": [
       "8"
      ]
     },
     "execution_count": 156,
     "metadata": {},
     "output_type": "execute_result"
    }
   ],
   "source": [
    "sorted(list(dicio['Luan Poletti'][2023].keys()))[-2]"
   ]
  },
  {
   "cell_type": "code",
   "execution_count": 193,
   "metadata": {},
   "outputs": [
    {
     "data": {
      "text/plain": [
       "int"
      ]
     },
     "execution_count": 193,
     "metadata": {},
     "output_type": "execute_result"
    }
   ],
   "source": [
    "type(a.history_date.month)"
   ]
  },
  {
   "cell_type": "code",
   "execution_count": 182,
   "metadata": {},
   "outputs": [],
   "source": [
    "dicio.get(2021)"
   ]
  },
  {
   "cell_type": "code",
   "execution_count": null,
   "metadata": {},
   "outputs": [],
   "source": []
  },
  {
   "cell_type": "code",
   "execution_count": 8,
   "metadata": {},
   "outputs": [
    {
     "name": "stderr",
     "output_type": "stream",
     "text": [
      "/home/luan/.cache/pypoetry/virtualenvs/apps-ZFymp6kh-py3.7/lib/python3.7/site-packages/django/db/models/fields/__init__.py:1427: RuntimeWarning: DateTimeField HistoricalUserInCompany.history_date received a naive datetime (2024-02-01 00:00:00) while time zone support is active.\n",
      "  RuntimeWarning)\n"
     ]
    },
    {
     "data": {
      "text/plain": [
       "84"
      ]
     },
     "execution_count": 8,
     "metadata": {},
     "output_type": "execute_result"
    }
   ],
   "source": [
    "historicoUsuarios=UserInCompany.history.model.objects.filter(\n",
    "            company__name='Construtora Castilho'\n",
    "            ,history_date__lt='2024-2-1'\n",
    "        ).values('history_date__month',\n",
    "                 'permissions__name',\n",
    "                 'history_date',\n",
    "                 'user__first_name',\n",
    "                'user__last_name','user__username').order_by('-history_date')\n",
    "historicoUsuarios.count()"
   ]
  },
  {
   "cell_type": "code",
   "execution_count": 248,
   "metadata": {},
   "outputs": [],
   "source": [
    "usuariosAtivos=[]\n",
    "usuariosInativos=[]\n",
    "for a in historicoUsuarios:\n",
    "#     if 'Zaqueu' in a.get('user__first_name'):\n",
    "#         print(a['user__username'])\n",
    "    fname=a['user__first_name'] if a['user__first_name'] is not None else '' \n",
    "    lname=a['user__last_name'] if a['user__last_name'] is not None else ''\n",
    "    fullname = fname+' '+lname\n",
    "    if fullname not in usuariosAtivos or fullname in usuariosInativos:\n",
    "        if a['permissions__name'] != \"Inativo\" and a['history_date'].day > 1 and fullname not in usuariosAtivos:\n",
    "            usuariosAtivos.append(fullname)\n",
    "        elif fullname not in usuariosAtivos and a['permissions__name'] == \"Inativo\":\n",
    "            usuariosInativos.append(fullname)\n",
    "    "
   ]
  },
  {
   "cell_type": "code",
   "execution_count": 249,
   "metadata": {
    "scrolled": true
   },
   "outputs": [
    {
     "data": {
      "text/plain": [
       "(50,\n",
       " 0,\n",
       " ['teste 2 testande',\n",
       "  'Teste joaonitzke',\n",
       "  'Luan Poletti',\n",
       "  'Renan Pereira',\n",
       "  'Romulo Lopes',\n",
       "  'Gustavo Amorim',\n",
       "  'Camila Prado',\n",
       "  'Klecio Barbosa',\n",
       "  'Brunno Dias',\n",
       "  'Adriano Macedo',\n",
       "  'Edevaldo Diniz',\n",
       "  'Leonardo Alcantara',\n",
       "  'Giovanni valentim',\n",
       "  'Rafael Mendes',\n",
       "  'Carlos Gomes',\n",
       "  'Axcel Cezar',\n",
       "  'Leonardo Minski',\n",
       "  'Evandro Ferreira',\n",
       "  'João Nitzke',\n",
       "  'Luiza Franco',\n",
       "  'Rafael Guimarães',\n",
       "  'Rodrigo Cunha',\n",
       "  'Douglas Campos',\n",
       "  'Antonio Carlos Lindoso',\n",
       "  'Walison Salvador',\n",
       "  'Mauro Campos',\n",
       "  'Alex Fonseca',\n",
       "  'Vinicius Melo',\n",
       "  'Talita Arantes',\n",
       "  'Monique Marcelino',\n",
       "  'Carlos Daniel',\n",
       "  'Mauricio Leite',\n",
       "  'Karla Zorzam Brito',\n",
       "  'Kartado CS',\n",
       "  'Eder de Souza',\n",
       "  'Carlos de Paula',\n",
       "  'Celso Vechio',\n",
       "  'Joelton Alves',\n",
       "  'Mateus Volpe',\n",
       "  'Daniel Pereira',\n",
       "  'Gabriel Rodrigues',\n",
       "  'Glaucio Moraes',\n",
       "  'Daniella Da Silva Gomes',\n",
       "  'Leonardo Carvalho',\n",
       "  'Amanda Motta2',\n",
       "  'Alvaro Neto',\n",
       "  'Amanda Motta',\n",
       "  'Pedro Fornari',\n",
       "  'Pedro Cardoso',\n",
       "  'Victor Martins'],\n",
       " [])"
      ]
     },
     "execution_count": 249,
     "metadata": {},
     "output_type": "execute_result"
    }
   ],
   "source": [
    "len(usuariosAtivos),len(usuariosInativos),usuariosAtivos,usuariosInativos"
   ]
  },
  {
   "cell_type": "code",
   "execution_count": null,
   "metadata": {},
   "outputs": [],
   "source": []
  },
  {
   "cell_type": "code",
   "execution_count": 278,
   "metadata": {},
   "outputs": [
    {
     "data": {
      "text/plain": [
       "<QuerySet [<Company: 8e70b23f-907a-4e9a-ae4e-fb316dda2831: Construtora Castilho>, <Company: 3be541f1-3489-4ec5-b44a-cd1faab091e2: Construtora Castilho (Ferrovias)>, <Company: 837181f0-5c09-42a6-910d-e799607b8701: Construtora Castilho (Prefeitura Curitiba)>, <Company: 3d5f2e4d-f106-4415-973a-1b0e2ba2ca3b: Castilho Umuarama>]>"
      ]
     },
     "execution_count": 278,
     "metadata": {},
     "output_type": "execute_result"
    }
   ],
   "source": [
    "Company.objects.filter(name__icontains='Castilho')"
   ]
  },
  {
   "cell_type": "code",
   "execution_count": 83,
   "metadata": {},
   "outputs": [
    {
     "name": "stdout",
     "output_type": "stream",
     "text": [
      "Construtora Castilho [rlcs] Castilho\n"
     ]
    }
   ],
   "source": [
    "for a in Company.objects.filter(name='Construtora Castilho'):\n",
    "    print(a.name,a.company_group)"
   ]
  },
  {
   "cell_type": "code",
   "execution_count": 250,
   "metadata": {},
   "outputs": [],
   "source": [
    "def permissoes_history_user_all(result_list):\n",
    "    permissoesUsuarios = {}\n",
    "    for a in result_list.order_by('history_date'):\n",
    "        try:\n",
    "        #print(a.user.get_full_name())\n",
    "            if not permissoesUsuarios.get(a.user.get_full_name()):\n",
    "                permissoesUsuarios[a.user.get_full_name()] = {}\n",
    "            if not permissoesUsuarios.get(a.user.get_full_name()).get(a.history_date.year): \n",
    "                permissoesUsuarios[a.user.get_full_name()][a.history_date.year] = {}\n",
    "            if a.history_date.month in permissoesUsuarios.get(a.user.get_full_name()).get(a.history_date.year).keys():\n",
    "                if a.permissions.name == \"Inativo\":\n",
    "                    permissoesUsuarios[a.user.get_full_name()][a.history_date.year][a.permissions.name+' mesmo mês'] = a.history_date.month\n",
    "                    permissoesUsuarios[a.user.get_full_name()][a.history_date.year]['ultimaAtiva'] = a.permissions.name\n",
    "                else:\n",
    "                    permissoesUsuarios[a.user.get_full_name()][a.history_date.year]['ultimaAtiva'] = a.permissions.name\n",
    "            else:\n",
    "                permissoesUsuarios[a.user.get_full_name()][a.history_date.year]['ultimaAtiva'] = a.permissions.name\n",
    "                permissoesUsuarios[a.user.get_full_name()][a.history_date.year][a.history_date.month] = a.permissions.name\n",
    "#             print(permissoesUsuarios)\n",
    "        except:\n",
    "            pass\n",
    "    reformed_dict = {}\n",
    "    for outerKey, innerDict in permissoesUsuarios.items():\n",
    "        for innerKey, values in innerDict.items():\n",
    "            reformed_dict[(outerKey,\n",
    "                           innerKey)] = values\n",
    "#     print(reformed_dict)\n",
    "    df = pd.DataFrame(data=reformed_dict)\n",
    "    return df"
   ]
  },
  {
   "cell_type": "code",
   "execution_count": 251,
   "metadata": {},
   "outputs": [
    {
     "data": {
      "text/plain": [
       "153"
      ]
     },
     "execution_count": 251,
     "metadata": {},
     "output_type": "execute_result"
    }
   ],
   "source": [
    " historicoUsuarios=UserInCompany.history.model.objects.filter(\n",
    "            company__name__icontains='Pavicolet'\n",
    " ).exclude(\n",
    "            user__email__icontains='kartado'\n",
    "        ).exclude(\n",
    "            user__email__icontains='roadlabs'\n",
    "        ).exclude(\n",
    "            user__uuid = '6ca2ac08-7ee0-4587-a0cf-8850f72e1b95'\n",
    "        ).exclude(\n",
    "            user__email__icontains='hermes'\n",
    "        )\n",
    "historicoUsuarios.count()"
   ]
  },
  {
   "cell_type": "code",
   "execution_count": 241,
   "metadata": {
    "collapsed": true
   },
   "outputs": [
    {
     "name": "stdout",
     "output_type": "stream",
     "text": [
      "João Fachini joao.fachini | Suporte | 2023-12-11 18:47:14.494663+00:00\n",
      "João Fachini joao.fachini | Administrador | 2023-12-11 18:43:55.059721+00:00\n",
      "João Fachini joao.fachini | Administrador | 2023-12-11 18:37:20.975177+00:00\n",
      "João Fachini joao.fachini | Suporte | 2023-12-11 18:26:37.882987+00:00\n",
      "João Fachini joao.fachini | Administrador | 2023-12-08 14:19:46.382117+00:00\n",
      "Delbo Rodrigues delbo.rodrigues | Usuário de campo | 2023-12-08 14:14:03.211749+00:00\n",
      "João Fachini joao.fachini | Suporte | 2023-12-07 20:08:14.451193+00:00\n",
      "Marcos Fachini marcos.fachini | Administrador | 2023-12-07 11:19:18.621316+00:00\n",
      "Luiz Antônio luiz.antonio | Coordenador de Equipe | 2023-12-07 11:18:56.017264+00:00\n",
      "Flávio Soares flavio.soares | Coordenador de Equipe | 2023-12-07 11:18:15.070080+00:00\n",
      "Celso dos Santos celso.santos | Coordenador de Equipe | 2023-12-06 17:30:51.652157+00:00\n",
      "Delbo Rodrigues delbo.rodrigues | Coordenador de Equipe | 2023-11-27 14:23:23.605448+00:00\n",
      "Cleberson Rocha cleberson.rocha | Coordenador de Equipe | 2023-11-27 14:18:54.024632+00:00\n",
      "José da Costa jose.costa | Coordenador de Equipe | 2023-11-22 11:14:32.376047+00:00\n",
      "Evandro Pereira evandro.pereira | Coordenador de Equipe | 2023-11-01 18:49:43.348665+00:00\n",
      "Jhonatan dos Santos jhonatan.santos | Coordenador de Equipe | 2023-10-27 11:01:32.278657+00:00\n",
      "Eduardo Rezende eduardo.rezende | Coordenador de Equipe | 2023-10-27 10:59:18.317991+00:00\n",
      "Celestino Cuchi celestino.cuchi | Coordenador de Equipe | 2023-10-27 10:58:33.252906+00:00\n",
      "Sergio Deves sergio.deves | Coordenador | 2023-10-27 10:45:52.438492+00:00\n",
      "Ricardo Guilherme ricardo.guilherme | Usuário de campo | 2023-10-27 10:45:15.431805+00:00\n",
      "Rafael Carvalho rafael.carvalho | Usuário de campo | 2023-10-27 10:44:26.851745+00:00\n",
      "Marcos Fachini marcos.fachini | Coordenador | 2023-10-27 10:43:54.321036+00:00\n",
      "Luiz Antônio luiz.antonio | Usuário de campo | 2023-10-27 10:43:18.490550+00:00\n",
      "José da Costa jose.costa | Usuário de campo | 2023-10-27 10:42:49.771148+00:00\n",
      "Jhonatan dos Santos jhonatan.santos | Usuário de campo | 2023-10-27 10:42:19.388595+00:00\n",
      "Flávio Soares flavio.soares | Usuário de campo | 2023-10-27 10:41:44.075986+00:00\n",
      "Evandro Pereira evandro.pereira | Usuário de campo | 2023-10-27 10:41:13.105864+00:00\n",
      "Eduardo Rezende eduardo.rezende | Usuário de campo | 2023-10-27 10:40:30.256678+00:00\n",
      "Delbo Rodrigues delbo.rodrigues | Usuário de campo | 2023-10-27 10:40:06.409639+00:00\n",
      "Cleberson Rocha cleberson.rocha | Usuário de campo | 2023-10-27 10:39:24.985211+00:00\n",
      "Celso dos Santos celso.santos | Usuário de campo | 2023-10-27 10:38:43.457237+00:00\n",
      "Celestino Cuchi celestino.cuchi | Usuário de campo | 2023-10-27 10:38:22.026640+00:00\n",
      "Sergio Deves sergio.deves | Administrador | 2023-10-26 19:53:31.000727+00:00\n",
      "Heverton Canova heverton.juliano | Administrador | 2023-10-20 12:45:04.144175+00:00\n",
      "João Fachini joao.fachini | Administrador | 2023-10-18 22:40:00.839022+00:00\n",
      "João Fachini joao.fachini | Suporte | 2023-10-18 22:37:58.410245+00:00\n",
      "Heverton Canova heverton.juliano | Administrador | 2023-10-10 19:45:42.044914+00:00\n",
      "João Fachini joao.fachini | Administrador | 2023-10-10 18:21:00.505549+00:00\n",
      "Heverton Canova heverton.juliano | Coordenador | 2023-10-10 18:04:02.679044+00:00\n",
      "Heverton Canova heverton.juliano | Suporte | 2023-10-04 18:42:06.036080+00:00\n",
      "Rafael Carvalho rafael.carvalho | Inativo | 2023-09-25 11:18:24.661301+00:00\n",
      "Celestino Cuchi celestino.cuchi | Coordenador de Equipe | 2023-09-22 19:57:37.537470+00:00\n",
      "Paulo Marchel paulo.marchel | Coordenador de Equipe | 2023-09-22 19:56:00.791018+00:00\n",
      "Flávio Soares flavio.soares | Coordenador de Equipe | 2023-09-22 19:54:22.909282+00:00\n",
      "Eduardo Rezende eduardo.rezende | Coordenador de Equipe | 2023-09-20 11:39:11.606680+00:00\n",
      "Rafael Carvalho rafael.carvalho | Engenheiro | 2023-09-11 14:01:49.323405+00:00\n",
      "João Fachini joao.fachini | Suporte | 2023-09-06 12:17:38.466939+00:00\n",
      "Celso dos Santos celso.santos | Coordenador de Equipe | 2023-09-04 14:37:33.753529+00:00\n",
      "Luiz Antônio luiz.antonio | Coordenador de Equipe | 2023-08-31 14:37:11.831170+00:00\n",
      "Ricardo Guilherme ricardo.guilherme | Coordenador de Equipe | 2023-07-06 20:28:48.553052+00:00\n",
      "José da Costa jose.costa | Coordenador de Equipe | 2023-07-06 19:38:45.452891+00:00\n",
      "Jhonatan dos Santos jhonatan.santos | Coordenador de Equipe | 2023-07-06 19:01:57.185254+00:00\n",
      "Inativo Inativo jhonatan.cardoso | Inativo | 2023-07-06 18:26:26.125093+00:00\n",
      "Inativo Inativo jhonatan.cardoso | Coordenador de Equipe | 2023-07-06 17:57:37.493592+00:00\n",
      "Evandro Pereira evandro.pereira | Coordenador de Equipe | 2023-07-06 13:58:44.492848+00:00\n",
      "Delbo Rodrigues delbo.rodrigues | Coordenador de Equipe | 2023-07-06 13:51:32.158441+00:00\n",
      "Cleberson Rocha cleberson.rocha | Coordenador de Equipe | 2023-07-06 12:26:15.997927+00:00\n",
      "Rafael Carvalho rafael.carvalho | Inativo | 2023-07-05 18:39:56.521970+00:00\n",
      "Alessandro Maia alessandro.maia | Engenheiro | 2023-07-04 19:44:29.297834+00:00\n",
      "Sergio Deves sergio.deves | Administrador | 2023-07-04 19:37:52.424160+00:00\n",
      "Marcos Fachini marcos.fachini | Administrador | 2023-07-04 17:13:13.217875+00:00\n",
      "Rafael Carvalho rafael.carvalho | Administrador | 2023-06-16 13:09:57.848968+00:00\n",
      "João Fachini joao.fachini | Administrador | 2023-06-16 13:09:27.838774+00:00\n",
      "Heverton Canova heverton.juliano | Administrador | 2023-06-16 13:09:07.328947+00:00\n"
     ]
    },
    {
     "ename": "DoesNotExist",
     "evalue": "UserPermission matching query does not exist.",
     "output_type": "error",
     "traceback": [
      "\u001b[0;31m---------------------------------------------------------------------------\u001b[0m",
      "\u001b[0;31mKeyError\u001b[0m                                  Traceback (most recent call last)",
      "\u001b[0;32m~/.cache/pypoetry/virtualenvs/apps-ZFymp6kh-py3.7/lib/python3.7/site-packages/django/db/models/fields/related_descriptors.py\u001b[0m in \u001b[0;36m__get__\u001b[0;34m(self, instance, cls)\u001b[0m\n\u001b[1;32m    163\u001b[0m         \u001b[0;32mtry\u001b[0m\u001b[0;34m:\u001b[0m\u001b[0;34m\u001b[0m\u001b[0;34m\u001b[0m\u001b[0m\n\u001b[0;32m--> 164\u001b[0;31m             \u001b[0mrel_obj\u001b[0m \u001b[0;34m=\u001b[0m \u001b[0mself\u001b[0m\u001b[0;34m.\u001b[0m\u001b[0mfield\u001b[0m\u001b[0;34m.\u001b[0m\u001b[0mget_cached_value\u001b[0m\u001b[0;34m(\u001b[0m\u001b[0minstance\u001b[0m\u001b[0;34m)\u001b[0m\u001b[0;34m\u001b[0m\u001b[0;34m\u001b[0m\u001b[0m\n\u001b[0m\u001b[1;32m    165\u001b[0m         \u001b[0;32mexcept\u001b[0m \u001b[0mKeyError\u001b[0m\u001b[0;34m:\u001b[0m\u001b[0;34m\u001b[0m\u001b[0;34m\u001b[0m\u001b[0m\n",
      "\u001b[0;32m~/.cache/pypoetry/virtualenvs/apps-ZFymp6kh-py3.7/lib/python3.7/site-packages/django/db/models/fields/mixins.py\u001b[0m in \u001b[0;36mget_cached_value\u001b[0;34m(self, instance, default)\u001b[0m\n\u001b[1;32m     12\u001b[0m         \u001b[0;32mtry\u001b[0m\u001b[0;34m:\u001b[0m\u001b[0;34m\u001b[0m\u001b[0;34m\u001b[0m\u001b[0m\n\u001b[0;32m---> 13\u001b[0;31m             \u001b[0;32mreturn\u001b[0m \u001b[0minstance\u001b[0m\u001b[0;34m.\u001b[0m\u001b[0m_state\u001b[0m\u001b[0;34m.\u001b[0m\u001b[0mfields_cache\u001b[0m\u001b[0;34m[\u001b[0m\u001b[0mcache_name\u001b[0m\u001b[0;34m]\u001b[0m\u001b[0;34m\u001b[0m\u001b[0;34m\u001b[0m\u001b[0m\n\u001b[0m\u001b[1;32m     14\u001b[0m         \u001b[0;32mexcept\u001b[0m \u001b[0mKeyError\u001b[0m\u001b[0;34m:\u001b[0m\u001b[0;34m\u001b[0m\u001b[0;34m\u001b[0m\u001b[0m\n",
      "\u001b[0;31mKeyError\u001b[0m: 'permissions'",
      "\nDuring handling of the above exception, another exception occurred:\n",
      "\u001b[0;31mDoesNotExist\u001b[0m                              Traceback (most recent call last)",
      "\u001b[0;32m/tmp/ipykernel_6011/1272241794.py\u001b[0m in \u001b[0;36m<module>\u001b[0;34m\u001b[0m\n\u001b[1;32m      1\u001b[0m \u001b[0;32mfor\u001b[0m \u001b[0ma\u001b[0m \u001b[0;32min\u001b[0m \u001b[0mhistoricoUsuarios\u001b[0m\u001b[0;34m:\u001b[0m\u001b[0;34m\u001b[0m\u001b[0;34m\u001b[0m\u001b[0m\n\u001b[0;32m----> 2\u001b[0;31m     \u001b[0mprint\u001b[0m\u001b[0;34m(\u001b[0m\u001b[0ma\u001b[0m\u001b[0;34m.\u001b[0m\u001b[0muser\u001b[0m\u001b[0;34m.\u001b[0m\u001b[0mget_full_name\u001b[0m\u001b[0;34m(\u001b[0m\u001b[0;34m)\u001b[0m\u001b[0;34m,\u001b[0m\u001b[0ma\u001b[0m\u001b[0;34m.\u001b[0m\u001b[0muser\u001b[0m\u001b[0;34m.\u001b[0m\u001b[0musername\u001b[0m\u001b[0;34m,\u001b[0m\u001b[0;34m'|'\u001b[0m\u001b[0;34m,\u001b[0m\u001b[0ma\u001b[0m\u001b[0;34m.\u001b[0m\u001b[0mpermissions\u001b[0m\u001b[0;34m.\u001b[0m\u001b[0mname\u001b[0m\u001b[0;34m,\u001b[0m\u001b[0;34m'|'\u001b[0m\u001b[0;34m,\u001b[0m\u001b[0ma\u001b[0m\u001b[0;34m.\u001b[0m\u001b[0mhistory_date\u001b[0m\u001b[0;34m)\u001b[0m\u001b[0;34m\u001b[0m\u001b[0;34m\u001b[0m\u001b[0m\n\u001b[0m",
      "\u001b[0;32m~/.cache/pypoetry/virtualenvs/apps-ZFymp6kh-py3.7/lib/python3.7/site-packages/django/db/models/fields/related_descriptors.py\u001b[0m in \u001b[0;36m__get__\u001b[0;34m(self, instance, cls)\u001b[0m\n\u001b[1;32m    176\u001b[0m                 \u001b[0mrel_obj\u001b[0m \u001b[0;34m=\u001b[0m \u001b[0;32mNone\u001b[0m\u001b[0;34m\u001b[0m\u001b[0;34m\u001b[0m\u001b[0m\n\u001b[1;32m    177\u001b[0m             \u001b[0;32mif\u001b[0m \u001b[0mrel_obj\u001b[0m \u001b[0;32mis\u001b[0m \u001b[0;32mNone\u001b[0m \u001b[0;32mand\u001b[0m \u001b[0mhas_value\u001b[0m\u001b[0;34m:\u001b[0m\u001b[0;34m\u001b[0m\u001b[0;34m\u001b[0m\u001b[0m\n\u001b[0;32m--> 178\u001b[0;31m                 \u001b[0mrel_obj\u001b[0m \u001b[0;34m=\u001b[0m \u001b[0mself\u001b[0m\u001b[0;34m.\u001b[0m\u001b[0mget_object\u001b[0m\u001b[0;34m(\u001b[0m\u001b[0minstance\u001b[0m\u001b[0;34m)\u001b[0m\u001b[0;34m\u001b[0m\u001b[0;34m\u001b[0m\u001b[0m\n\u001b[0m\u001b[1;32m    179\u001b[0m                 \u001b[0mremote_field\u001b[0m \u001b[0;34m=\u001b[0m \u001b[0mself\u001b[0m\u001b[0;34m.\u001b[0m\u001b[0mfield\u001b[0m\u001b[0;34m.\u001b[0m\u001b[0mremote_field\u001b[0m\u001b[0;34m\u001b[0m\u001b[0;34m\u001b[0m\u001b[0m\n\u001b[1;32m    180\u001b[0m                 \u001b[0;31m# If this is a one-to-one relation, set the reverse accessor\u001b[0m\u001b[0;34m\u001b[0m\u001b[0;34m\u001b[0m\u001b[0;34m\u001b[0m\u001b[0m\n",
      "\u001b[0;32m~/.cache/pypoetry/virtualenvs/apps-ZFymp6kh-py3.7/lib/python3.7/site-packages/django/db/models/fields/related_descriptors.py\u001b[0m in \u001b[0;36mget_object\u001b[0;34m(self, instance)\u001b[0m\n\u001b[1;32m    143\u001b[0m         \u001b[0mqs\u001b[0m \u001b[0;34m=\u001b[0m \u001b[0mself\u001b[0m\u001b[0;34m.\u001b[0m\u001b[0mget_queryset\u001b[0m\u001b[0;34m(\u001b[0m\u001b[0minstance\u001b[0m\u001b[0;34m=\u001b[0m\u001b[0minstance\u001b[0m\u001b[0;34m)\u001b[0m\u001b[0;34m\u001b[0m\u001b[0;34m\u001b[0m\u001b[0m\n\u001b[1;32m    144\u001b[0m         \u001b[0;31m# Assuming the database enforces foreign keys, this won't fail.\u001b[0m\u001b[0;34m\u001b[0m\u001b[0;34m\u001b[0m\u001b[0;34m\u001b[0m\u001b[0m\n\u001b[0;32m--> 145\u001b[0;31m         \u001b[0;32mreturn\u001b[0m \u001b[0mqs\u001b[0m\u001b[0;34m.\u001b[0m\u001b[0mget\u001b[0m\u001b[0;34m(\u001b[0m\u001b[0mself\u001b[0m\u001b[0;34m.\u001b[0m\u001b[0mfield\u001b[0m\u001b[0;34m.\u001b[0m\u001b[0mget_reverse_related_filter\u001b[0m\u001b[0;34m(\u001b[0m\u001b[0minstance\u001b[0m\u001b[0;34m)\u001b[0m\u001b[0;34m)\u001b[0m\u001b[0;34m\u001b[0m\u001b[0;34m\u001b[0m\u001b[0m\n\u001b[0m\u001b[1;32m    146\u001b[0m \u001b[0;34m\u001b[0m\u001b[0m\n\u001b[1;32m    147\u001b[0m     \u001b[0;32mdef\u001b[0m \u001b[0m__get__\u001b[0m\u001b[0;34m(\u001b[0m\u001b[0mself\u001b[0m\u001b[0;34m,\u001b[0m \u001b[0minstance\u001b[0m\u001b[0;34m,\u001b[0m \u001b[0mcls\u001b[0m\u001b[0;34m=\u001b[0m\u001b[0;32mNone\u001b[0m\u001b[0;34m)\u001b[0m\u001b[0;34m:\u001b[0m\u001b[0;34m\u001b[0m\u001b[0;34m\u001b[0m\u001b[0m\n",
      "\u001b[0;32m~/.cache/pypoetry/virtualenvs/apps-ZFymp6kh-py3.7/lib/python3.7/site-packages/django/db/models/query.py\u001b[0m in \u001b[0;36mget\u001b[0;34m(self, *args, **kwargs)\u001b[0m\n\u001b[1;32m    406\u001b[0m             raise self.model.DoesNotExist(\n\u001b[1;32m    407\u001b[0m                 \u001b[0;34m\"%s matching query does not exist.\"\u001b[0m \u001b[0;34m%\u001b[0m\u001b[0;34m\u001b[0m\u001b[0;34m\u001b[0m\u001b[0m\n\u001b[0;32m--> 408\u001b[0;31m                 \u001b[0mself\u001b[0m\u001b[0;34m.\u001b[0m\u001b[0mmodel\u001b[0m\u001b[0;34m.\u001b[0m\u001b[0m_meta\u001b[0m\u001b[0;34m.\u001b[0m\u001b[0mobject_name\u001b[0m\u001b[0;34m\u001b[0m\u001b[0;34m\u001b[0m\u001b[0m\n\u001b[0m\u001b[1;32m    409\u001b[0m             )\n\u001b[1;32m    410\u001b[0m         raise self.model.MultipleObjectsReturned(\n",
      "\u001b[0;31mDoesNotExist\u001b[0m: UserPermission matching query does not exist."
     ]
    }
   ],
   "source": [
    "for a in historicoUsuarios:\n",
    "    print(a.user.get_full_name(),a.user.username,'|',a.permissions.name,'|',a.history_date)"
   ]
  },
  {
   "cell_type": "code",
   "execution_count": 255,
   "metadata": {
    "scrolled": true
   },
   "outputs": [
    {
     "data": {
      "text/html": [
       "<div>\n",
       "<style scoped>\n",
       "    .dataframe tbody tr th:only-of-type {\n",
       "        vertical-align: middle;\n",
       "    }\n",
       "\n",
       "    .dataframe tbody tr th {\n",
       "        vertical-align: top;\n",
       "    }\n",
       "\n",
       "    .dataframe thead tr th {\n",
       "        text-align: left;\n",
       "    }\n",
       "</style>\n",
       "<table border=\"1\" class=\"dataframe\">\n",
       "  <thead>\n",
       "    <tr>\n",
       "      <th></th>\n",
       "      <th colspan=\"2\" halign=\"left\">Welington Bortolini</th>\n",
       "      <th colspan=\"2\" halign=\"left\">Nelson Roriz</th>\n",
       "      <th colspan=\"2\" halign=\"left\">Carlos Porto</th>\n",
       "      <th colspan=\"2\" halign=\"left\">Vinícius Bortolini</th>\n",
       "      <th colspan=\"2\" halign=\"left\">Cristiano Oliveira</th>\n",
       "      <th>...</th>\n",
       "      <th>Jackson Soares</th>\n",
       "      <th>Cleiton Marques</th>\n",
       "      <th>richard maradona</th>\n",
       "      <th>Edmilson Peixoto</th>\n",
       "      <th>Edvaldo Campos</th>\n",
       "      <th colspan=\"2\" halign=\"left\">Joao Oliveira</th>\n",
       "      <th>reginaldo reg</th>\n",
       "      <th>Antonio Costa</th>\n",
       "      <th>Eliton costa</th>\n",
       "    </tr>\n",
       "    <tr>\n",
       "      <th></th>\n",
       "      <th>2022</th>\n",
       "      <th>2023</th>\n",
       "      <th>2022</th>\n",
       "      <th>2023</th>\n",
       "      <th>2022</th>\n",
       "      <th>2023</th>\n",
       "      <th>2022</th>\n",
       "      <th>2024</th>\n",
       "      <th>2022</th>\n",
       "      <th>2023</th>\n",
       "      <th>...</th>\n",
       "      <th>2024</th>\n",
       "      <th>2023</th>\n",
       "      <th>2023</th>\n",
       "      <th>2023</th>\n",
       "      <th>2023</th>\n",
       "      <th>2023</th>\n",
       "      <th>2024</th>\n",
       "      <th>2023</th>\n",
       "      <th>2023</th>\n",
       "      <th>2024</th>\n",
       "    </tr>\n",
       "  </thead>\n",
       "  <tbody>\n",
       "    <tr>\n",
       "      <th>ultimaAtiva</th>\n",
       "      <td>Coordenador</td>\n",
       "      <td>Coordenador</td>\n",
       "      <td>Coordenador</td>\n",
       "      <td>Coordenador</td>\n",
       "      <td>Coordenador</td>\n",
       "      <td>Coordenador</td>\n",
       "      <td>Inativo(muitos)</td>\n",
       "      <td>Inativo(muitos)</td>\n",
       "      <td>Apontador</td>\n",
       "      <td>Inativo(muitos)</td>\n",
       "      <td>...</td>\n",
       "      <td>Inativo(muitos)</td>\n",
       "      <td>Usuário de campo</td>\n",
       "      <td>Usuário de campo</td>\n",
       "      <td>Usuário de campo</td>\n",
       "      <td>Usuário de campo</td>\n",
       "      <td>Inativo(muitos)</td>\n",
       "      <td>Inativo(muitos)</td>\n",
       "      <td>Usuário de campo</td>\n",
       "      <td>Usuário de campo</td>\n",
       "      <td>Apontador</td>\n",
       "    </tr>\n",
       "    <tr>\n",
       "      <th>4</th>\n",
       "      <td>Coordenador</td>\n",
       "      <td>NaN</td>\n",
       "      <td>Coordenador</td>\n",
       "      <td>NaN</td>\n",
       "      <td>Coordenador</td>\n",
       "      <td>NaN</td>\n",
       "      <td>Coordenador</td>\n",
       "      <td>NaN</td>\n",
       "      <td>Apontador</td>\n",
       "      <td>NaN</td>\n",
       "      <td>...</td>\n",
       "      <td>NaN</td>\n",
       "      <td>NaN</td>\n",
       "      <td>NaN</td>\n",
       "      <td>NaN</td>\n",
       "      <td>NaN</td>\n",
       "      <td>NaN</td>\n",
       "      <td>NaN</td>\n",
       "      <td>NaN</td>\n",
       "      <td>NaN</td>\n",
       "      <td>NaN</td>\n",
       "    </tr>\n",
       "    <tr>\n",
       "      <th>7</th>\n",
       "      <td>NaN</td>\n",
       "      <td>Coordenador</td>\n",
       "      <td>NaN</td>\n",
       "      <td>Coordenador</td>\n",
       "      <td>NaN</td>\n",
       "      <td>Coordenador</td>\n",
       "      <td>NaN</td>\n",
       "      <td>NaN</td>\n",
       "      <td>NaN</td>\n",
       "      <td>NaN</td>\n",
       "      <td>...</td>\n",
       "      <td>NaN</td>\n",
       "      <td>NaN</td>\n",
       "      <td>NaN</td>\n",
       "      <td>NaN</td>\n",
       "      <td>NaN</td>\n",
       "      <td>NaN</td>\n",
       "      <td>NaN</td>\n",
       "      <td>NaN</td>\n",
       "      <td>NaN</td>\n",
       "      <td>NaN</td>\n",
       "    </tr>\n",
       "    <tr>\n",
       "      <th>6</th>\n",
       "      <td>NaN</td>\n",
       "      <td>NaN</td>\n",
       "      <td>NaN</td>\n",
       "      <td>NaN</td>\n",
       "      <td>NaN</td>\n",
       "      <td>NaN</td>\n",
       "      <td>Inativo(muitos)</td>\n",
       "      <td>NaN</td>\n",
       "      <td>NaN</td>\n",
       "      <td>NaN</td>\n",
       "      <td>...</td>\n",
       "      <td>NaN</td>\n",
       "      <td>NaN</td>\n",
       "      <td>NaN</td>\n",
       "      <td>NaN</td>\n",
       "      <td>NaN</td>\n",
       "      <td>NaN</td>\n",
       "      <td>NaN</td>\n",
       "      <td>NaN</td>\n",
       "      <td>NaN</td>\n",
       "      <td>NaN</td>\n",
       "    </tr>\n",
       "    <tr>\n",
       "      <th>2</th>\n",
       "      <td>NaN</td>\n",
       "      <td>NaN</td>\n",
       "      <td>NaN</td>\n",
       "      <td>NaN</td>\n",
       "      <td>NaN</td>\n",
       "      <td>NaN</td>\n",
       "      <td>NaN</td>\n",
       "      <td>Inativo(muitos)</td>\n",
       "      <td>NaN</td>\n",
       "      <td>NaN</td>\n",
       "      <td>...</td>\n",
       "      <td>Inativo(muitos)</td>\n",
       "      <td>NaN</td>\n",
       "      <td>NaN</td>\n",
       "      <td>NaN</td>\n",
       "      <td>NaN</td>\n",
       "      <td>NaN</td>\n",
       "      <td>Inativo(muitos)</td>\n",
       "      <td>NaN</td>\n",
       "      <td>NaN</td>\n",
       "      <td>NaN</td>\n",
       "    </tr>\n",
       "    <tr>\n",
       "      <th>3</th>\n",
       "      <td>NaN</td>\n",
       "      <td>NaN</td>\n",
       "      <td>NaN</td>\n",
       "      <td>NaN</td>\n",
       "      <td>NaN</td>\n",
       "      <td>NaN</td>\n",
       "      <td>NaN</td>\n",
       "      <td>NaN</td>\n",
       "      <td>NaN</td>\n",
       "      <td>Inativo(muitos)</td>\n",
       "      <td>...</td>\n",
       "      <td>NaN</td>\n",
       "      <td>NaN</td>\n",
       "      <td>NaN</td>\n",
       "      <td>NaN</td>\n",
       "      <td>NaN</td>\n",
       "      <td>NaN</td>\n",
       "      <td>NaN</td>\n",
       "      <td>NaN</td>\n",
       "      <td>NaN</td>\n",
       "      <td>NaN</td>\n",
       "    </tr>\n",
       "    <tr>\n",
       "      <th>5</th>\n",
       "      <td>NaN</td>\n",
       "      <td>NaN</td>\n",
       "      <td>NaN</td>\n",
       "      <td>NaN</td>\n",
       "      <td>NaN</td>\n",
       "      <td>NaN</td>\n",
       "      <td>NaN</td>\n",
       "      <td>NaN</td>\n",
       "      <td>NaN</td>\n",
       "      <td>NaN</td>\n",
       "      <td>...</td>\n",
       "      <td>NaN</td>\n",
       "      <td>NaN</td>\n",
       "      <td>NaN</td>\n",
       "      <td>NaN</td>\n",
       "      <td>NaN</td>\n",
       "      <td>NaN</td>\n",
       "      <td>NaN</td>\n",
       "      <td>NaN</td>\n",
       "      <td>NaN</td>\n",
       "      <td>NaN</td>\n",
       "    </tr>\n",
       "    <tr>\n",
       "      <th>10</th>\n",
       "      <td>NaN</td>\n",
       "      <td>NaN</td>\n",
       "      <td>NaN</td>\n",
       "      <td>NaN</td>\n",
       "      <td>NaN</td>\n",
       "      <td>NaN</td>\n",
       "      <td>NaN</td>\n",
       "      <td>NaN</td>\n",
       "      <td>NaN</td>\n",
       "      <td>NaN</td>\n",
       "      <td>...</td>\n",
       "      <td>NaN</td>\n",
       "      <td>NaN</td>\n",
       "      <td>NaN</td>\n",
       "      <td>NaN</td>\n",
       "      <td>NaN</td>\n",
       "      <td>NaN</td>\n",
       "      <td>NaN</td>\n",
       "      <td>NaN</td>\n",
       "      <td>NaN</td>\n",
       "      <td>NaN</td>\n",
       "    </tr>\n",
       "    <tr>\n",
       "      <th>11</th>\n",
       "      <td>NaN</td>\n",
       "      <td>NaN</td>\n",
       "      <td>NaN</td>\n",
       "      <td>NaN</td>\n",
       "      <td>NaN</td>\n",
       "      <td>NaN</td>\n",
       "      <td>NaN</td>\n",
       "      <td>NaN</td>\n",
       "      <td>NaN</td>\n",
       "      <td>NaN</td>\n",
       "      <td>...</td>\n",
       "      <td>NaN</td>\n",
       "      <td>Usuário de campo</td>\n",
       "      <td>Usuário de campo</td>\n",
       "      <td>Usuário de campo</td>\n",
       "      <td>Usuário de campo</td>\n",
       "      <td>Usuário de campo</td>\n",
       "      <td>NaN</td>\n",
       "      <td>Usuário de campo</td>\n",
       "      <td>NaN</td>\n",
       "      <td>NaN</td>\n",
       "    </tr>\n",
       "    <tr>\n",
       "      <th>9</th>\n",
       "      <td>NaN</td>\n",
       "      <td>NaN</td>\n",
       "      <td>NaN</td>\n",
       "      <td>NaN</td>\n",
       "      <td>NaN</td>\n",
       "      <td>NaN</td>\n",
       "      <td>NaN</td>\n",
       "      <td>NaN</td>\n",
       "      <td>NaN</td>\n",
       "      <td>NaN</td>\n",
       "      <td>...</td>\n",
       "      <td>NaN</td>\n",
       "      <td>NaN</td>\n",
       "      <td>NaN</td>\n",
       "      <td>NaN</td>\n",
       "      <td>NaN</td>\n",
       "      <td>NaN</td>\n",
       "      <td>NaN</td>\n",
       "      <td>NaN</td>\n",
       "      <td>NaN</td>\n",
       "      <td>NaN</td>\n",
       "    </tr>\n",
       "    <tr>\n",
       "      <th>8</th>\n",
       "      <td>NaN</td>\n",
       "      <td>NaN</td>\n",
       "      <td>NaN</td>\n",
       "      <td>NaN</td>\n",
       "      <td>NaN</td>\n",
       "      <td>NaN</td>\n",
       "      <td>NaN</td>\n",
       "      <td>NaN</td>\n",
       "      <td>NaN</td>\n",
       "      <td>NaN</td>\n",
       "      <td>...</td>\n",
       "      <td>NaN</td>\n",
       "      <td>NaN</td>\n",
       "      <td>NaN</td>\n",
       "      <td>NaN</td>\n",
       "      <td>NaN</td>\n",
       "      <td>NaN</td>\n",
       "      <td>NaN</td>\n",
       "      <td>NaN</td>\n",
       "      <td>NaN</td>\n",
       "      <td>NaN</td>\n",
       "    </tr>\n",
       "    <tr>\n",
       "      <th>12</th>\n",
       "      <td>NaN</td>\n",
       "      <td>NaN</td>\n",
       "      <td>NaN</td>\n",
       "      <td>NaN</td>\n",
       "      <td>NaN</td>\n",
       "      <td>NaN</td>\n",
       "      <td>NaN</td>\n",
       "      <td>NaN</td>\n",
       "      <td>NaN</td>\n",
       "      <td>NaN</td>\n",
       "      <td>...</td>\n",
       "      <td>NaN</td>\n",
       "      <td>NaN</td>\n",
       "      <td>NaN</td>\n",
       "      <td>NaN</td>\n",
       "      <td>NaN</td>\n",
       "      <td>Inativo(muitos)</td>\n",
       "      <td>NaN</td>\n",
       "      <td>NaN</td>\n",
       "      <td>Usuário de campo</td>\n",
       "      <td>NaN</td>\n",
       "    </tr>\n",
       "    <tr>\n",
       "      <th>1</th>\n",
       "      <td>NaN</td>\n",
       "      <td>NaN</td>\n",
       "      <td>NaN</td>\n",
       "      <td>NaN</td>\n",
       "      <td>NaN</td>\n",
       "      <td>NaN</td>\n",
       "      <td>NaN</td>\n",
       "      <td>NaN</td>\n",
       "      <td>NaN</td>\n",
       "      <td>NaN</td>\n",
       "      <td>...</td>\n",
       "      <td>NaN</td>\n",
       "      <td>NaN</td>\n",
       "      <td>NaN</td>\n",
       "      <td>NaN</td>\n",
       "      <td>NaN</td>\n",
       "      <td>NaN</td>\n",
       "      <td>NaN</td>\n",
       "      <td>NaN</td>\n",
       "      <td>NaN</td>\n",
       "      <td>Apontador</td>\n",
       "    </tr>\n",
       "  </tbody>\n",
       "</table>\n",
       "<p>13 rows × 102 columns</p>\n",
       "</div>"
      ],
      "text/plain": [
       "            Welington Bortolini              Nelson Roriz               \\\n",
       "                           2022         2023         2022         2023   \n",
       "ultimaAtiva         Coordenador  Coordenador  Coordenador  Coordenador   \n",
       "4                   Coordenador          NaN  Coordenador          NaN   \n",
       "7                           NaN  Coordenador          NaN  Coordenador   \n",
       "6                           NaN          NaN          NaN          NaN   \n",
       "2                           NaN          NaN          NaN          NaN   \n",
       "3                           NaN          NaN          NaN          NaN   \n",
       "5                           NaN          NaN          NaN          NaN   \n",
       "10                          NaN          NaN          NaN          NaN   \n",
       "11                          NaN          NaN          NaN          NaN   \n",
       "9                           NaN          NaN          NaN          NaN   \n",
       "8                           NaN          NaN          NaN          NaN   \n",
       "12                          NaN          NaN          NaN          NaN   \n",
       "1                           NaN          NaN          NaN          NaN   \n",
       "\n",
       "            Carlos Porto              Vinícius Bortolini                   \\\n",
       "                    2022         2023               2022             2024   \n",
       "ultimaAtiva  Coordenador  Coordenador    Inativo(muitos)  Inativo(muitos)   \n",
       "4            Coordenador          NaN        Coordenador              NaN   \n",
       "7                    NaN  Coordenador                NaN              NaN   \n",
       "6                    NaN          NaN    Inativo(muitos)              NaN   \n",
       "2                    NaN          NaN                NaN  Inativo(muitos)   \n",
       "3                    NaN          NaN                NaN              NaN   \n",
       "5                    NaN          NaN                NaN              NaN   \n",
       "10                   NaN          NaN                NaN              NaN   \n",
       "11                   NaN          NaN                NaN              NaN   \n",
       "9                    NaN          NaN                NaN              NaN   \n",
       "8                    NaN          NaN                NaN              NaN   \n",
       "12                   NaN          NaN                NaN              NaN   \n",
       "1                    NaN          NaN                NaN              NaN   \n",
       "\n",
       "            Cristiano Oliveira                   ...   Jackson Soares  \\\n",
       "                          2022             2023  ...             2024   \n",
       "ultimaAtiva          Apontador  Inativo(muitos)  ...  Inativo(muitos)   \n",
       "4                    Apontador              NaN  ...              NaN   \n",
       "7                          NaN              NaN  ...              NaN   \n",
       "6                          NaN              NaN  ...              NaN   \n",
       "2                          NaN              NaN  ...  Inativo(muitos)   \n",
       "3                          NaN  Inativo(muitos)  ...              NaN   \n",
       "5                          NaN              NaN  ...              NaN   \n",
       "10                         NaN              NaN  ...              NaN   \n",
       "11                         NaN              NaN  ...              NaN   \n",
       "9                          NaN              NaN  ...              NaN   \n",
       "8                          NaN              NaN  ...              NaN   \n",
       "12                         NaN              NaN  ...              NaN   \n",
       "1                          NaN              NaN  ...              NaN   \n",
       "\n",
       "              Cleiton Marques  richard maradona  Edmilson Peixoto  \\\n",
       "                         2023              2023              2023   \n",
       "ultimaAtiva  Usuário de campo  Usuário de campo  Usuário de campo   \n",
       "4                         NaN               NaN               NaN   \n",
       "7                         NaN               NaN               NaN   \n",
       "6                         NaN               NaN               NaN   \n",
       "2                         NaN               NaN               NaN   \n",
       "3                         NaN               NaN               NaN   \n",
       "5                         NaN               NaN               NaN   \n",
       "10                        NaN               NaN               NaN   \n",
       "11           Usuário de campo  Usuário de campo  Usuário de campo   \n",
       "9                         NaN               NaN               NaN   \n",
       "8                         NaN               NaN               NaN   \n",
       "12                        NaN               NaN               NaN   \n",
       "1                         NaN               NaN               NaN   \n",
       "\n",
       "               Edvaldo Campos     Joao Oliveira                   \\\n",
       "                         2023              2023             2024   \n",
       "ultimaAtiva  Usuário de campo   Inativo(muitos)  Inativo(muitos)   \n",
       "4                         NaN               NaN              NaN   \n",
       "7                         NaN               NaN              NaN   \n",
       "6                         NaN               NaN              NaN   \n",
       "2                         NaN               NaN  Inativo(muitos)   \n",
       "3                         NaN               NaN              NaN   \n",
       "5                         NaN               NaN              NaN   \n",
       "10                        NaN               NaN              NaN   \n",
       "11           Usuário de campo  Usuário de campo              NaN   \n",
       "9                         NaN               NaN              NaN   \n",
       "8                         NaN               NaN              NaN   \n",
       "12                        NaN   Inativo(muitos)              NaN   \n",
       "1                         NaN               NaN              NaN   \n",
       "\n",
       "                reginaldo reg     Antonio Costa Eliton costa  \n",
       "                         2023              2023         2024  \n",
       "ultimaAtiva  Usuário de campo  Usuário de campo    Apontador  \n",
       "4                         NaN               NaN          NaN  \n",
       "7                         NaN               NaN          NaN  \n",
       "6                         NaN               NaN          NaN  \n",
       "2                         NaN               NaN          NaN  \n",
       "3                         NaN               NaN          NaN  \n",
       "5                         NaN               NaN          NaN  \n",
       "10                        NaN               NaN          NaN  \n",
       "11           Usuário de campo               NaN          NaN  \n",
       "9                         NaN               NaN          NaN  \n",
       "8                         NaN               NaN          NaN  \n",
       "12                        NaN  Usuário de campo          NaN  \n",
       "1                         NaN               NaN    Apontador  \n",
       "\n",
       "[13 rows x 102 columns]"
      ]
     },
     "execution_count": 255,
     "metadata": {},
     "output_type": "execute_result"
    }
   ],
   "source": [
    "import pandas as pd\n",
    "df=permissoes_history_user_all(historicoUsuarios)\n",
    "df.to_excel('pavicolet.xlsx')\n",
    "df"
   ]
  },
  {
   "cell_type": "code",
   "execution_count": 254,
   "metadata": {},
   "outputs": [
    {
     "data": {
      "text/plain": [
       "Welington Bortolini  2022         Coordenador\n",
       "                     2023         Coordenador\n",
       "Nelson Roriz         2022         Coordenador\n",
       "                     2023         Coordenador\n",
       "Carlos Porto         2022         Coordenador\n",
       "                                   ...       \n",
       "Joao Oliveira        2023     Inativo(muitos)\n",
       "                     2024     Inativo(muitos)\n",
       "reginaldo reg        2023    Usuário de campo\n",
       "Antonio Costa        2023    Usuário de campo\n",
       "Eliton costa         2024           Apontador\n",
       "Name: ultimaAtiva, Length: 102, dtype: object"
      ]
     },
     "execution_count": 254,
     "metadata": {},
     "output_type": "execute_result"
    }
   ],
   "source": [
    "df.loc['ultimaAtiva']"
   ]
  },
  {
   "cell_type": "code",
   "execution_count": 13,
   "metadata": {},
   "outputs": [
    {
     "data": {
      "text/plain": [
       "(<django.db.models.fields.UUIDField: uuid>,\n",
       " <django.db.models.fields.related.ForeignKey: created_by>,\n",
       " <django.db.models.fields.related.ForeignKey: firm>,\n",
       " <django.db.models.fields.CharField: origin>,\n",
       " <django.db.models.fields.TimeField: starts_at>,\n",
       " <django.db.models.fields.TimeField: ends_at>,\n",
       " <django.db.models.fields.TimeField: impact_duration>,\n",
       " <django.db.models.fields.TextField: description>,\n",
       " <django.db.models.fields.TextField: extra_info>)"
      ]
     },
     "execution_count": 13,
     "metadata": {},
     "output_type": "execute_result"
    }
   ],
   "source": [
    "DailyReportOccurrence._meta.fields"
   ]
  },
  {
   "cell_type": "code",
   "execution_count": null,
   "metadata": {},
   "outputs": [],
   "source": []
  }
 ],
 "metadata": {
  "kernelspec": {
   "display_name": "Django Shell-Plus",
   "language": "python",
   "name": "django_extensions"
  },
  "language_info": {
   "codemirror_mode": {
    "name": "ipython",
    "version": 3
   },
   "file_extension": ".py",
   "mimetype": "text/x-python",
   "name": "python",
   "nbconvert_exporter": "python",
   "pygments_lexer": "ipython3",
   "version": "3.7.9"
  }
 },
 "nbformat": 4,
 "nbformat_minor": 2
}
