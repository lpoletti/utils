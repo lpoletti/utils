{
 "cells": [
  {
   "cell_type": "markdown",
   "metadata": {},
   "source": [
    "## Importar campo de geometria"
   ]
  },
  {
   "cell_type": "code",
   "execution_count": 1,
   "metadata": {},
   "outputs": [],
   "source": [
    "from django.contrib.gis.geos import GeometryCollection, LineString"
   ]
  },
  {
   "cell_type": "markdown",
   "metadata": {},
   "source": [
    "## Selecionar a unidade a ser considerada"
   ]
  },
  {
   "cell_type": "code",
   "execution_count": 3,
   "metadata": {},
   "outputs": [],
   "source": [
    "company = Company.objects.get(name=\"Demo Concessionárias\")"
   ]
  },
  {
   "cell_type": "code",
   "execution_count": 4,
   "metadata": {},
   "outputs": [
    {
     "data": {
      "text/plain": [
       "<Company: f0b6948c-3d75-47dd-94a6-4b8ea4373ce4: Demo Concessionárias>"
      ]
     },
     "execution_count": 4,
     "metadata": {},
     "output_type": "execute_result"
    }
   ],
   "source": [
    "company"
   ]
  },
  {
   "cell_type": "markdown",
   "metadata": {},
   "source": [
    "## Obter as rodovias"
   ]
  },
  {
   "cell_type": "code",
   "execution_count": 5,
   "metadata": {},
   "outputs": [],
   "source": [
    "roads = Road.objects.filter(\n",
    "    company=company\n",
    "    ,name='BR-210'\n",
    ")"
   ]
  },
  {
   "cell_type": "code",
   "execution_count": 6,
   "metadata": {},
   "outputs": [
    {
     "data": {
      "text/plain": [
       "1"
      ]
     },
     "execution_count": 6,
     "metadata": {},
     "output_type": "execute_result"
    }
   ],
   "source": [
    "roads.count()"
   ]
  },
  {
   "cell_type": "markdown",
   "metadata": {},
   "source": [
    "## Opcional - apagar camadas existentes"
   ]
  },
  {
   "cell_type": "code",
   "execution_count": 12,
   "metadata": {},
   "outputs": [
    {
     "data": {
      "text/plain": [
       "(0, {})"
      ]
     },
     "execution_count": 12,
     "metadata": {},
     "output_type": "execute_result"
    }
   ],
   "source": [
    "# ShapeFile.objects.filter(companies=company).delete()"
   ]
  },
  {
   "cell_type": "markdown",
   "metadata": {},
   "source": [
    "## Criação de uma camada geográfica para as rodovias"
   ]
  },
  {
   "cell_type": "code",
   "execution_count": 7,
   "metadata": {},
   "outputs": [
    {
     "name": "stderr",
     "output_type": "stream",
     "text": [
      "/home/luan/.cache/pypoetry/virtualenvs/apps-ZFymp6kh-py3.7/lib/python3.7/site-packages/django/db/models/fields/__init__.py:1427: RuntimeWarning: DateTimeField ShapeFile.synced_at received a naive datetime (2023-12-21 08:07:29.298750) while time zone support is active.\n",
      "  RuntimeWarning)\n"
     ]
    }
   ],
   "source": [
    "geometry = GeometryCollection()\n",
    "properties = []\n",
    "\n",
    "for road in roads:\n",
    "    path = LineString([a[:-1] for a in road.path])\n",
    "    geometry.append(path)\n",
    "    properties.append({\n",
    "        \"Nome\": road.name,\n",
    "        \"Extensão\": road.length,\n",
    "    })\n",
    "    \n",
    "shape = ShapeFile(\n",
    "    created_by = User.objects.get(username='rlcs'),\n",
    "    name=\"BR-210\",\n",
    "    description=\"BR-210 Pavicolet Teste Inteligencia\",\n",
    "    private=False,\n",
    "    enable_default=True,\n",
    "    geometry=geometry,\n",
    "    properties=properties,\n",
    "    metadata={\n",
    "        \"stroke_color\": \"#346eeb\",\n",
    "        \"fill_color\": \"#346eeb\"\n",
    "    }\n",
    ")\n",
    "shape.save()\n",
    "shape.companies.set([company])"
   ]
  }
 ],
 "metadata": {
  "kernelspec": {
   "display_name": "Django Shell-Plus",
   "language": "python",
   "name": "django_extensions"
  },
  "language_info": {
   "codemirror_mode": {
    "name": "ipython",
    "version": 3
   },
   "file_extension": ".py",
   "mimetype": "text/x-python",
   "name": "python",
   "nbconvert_exporter": "python",
   "pygments_lexer": "ipython3",
   "version": "3.7.9"
  }
 },
 "nbformat": 4,
 "nbformat_minor": 2
}
