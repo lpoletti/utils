{
 "cells": [
  {
   "cell_type": "code",
   "execution_count": 1,
   "id": "97802fd0",
   "metadata": {},
   "outputs": [
    {
     "name": "stdout",
     "output_type": "stream",
     "text": [
      "STAGE=PRODUCTION\r\n"
     ]
    }
   ],
   "source": [
    "!cat .env"
   ]
  },
  {
   "cell_type": "code",
   "execution_count": 2,
   "id": "9ba93fea",
   "metadata": {},
   "outputs": [],
   "source": [
    "import json\n",
    "from django.contrib.admin.utils import flatten\n",
    "from helpers.strings import keys_to_snake_case, keys_to_camel_case\n",
    "from rest_framework_json_api.utils import format_field_names\n",
    "from tqdm.notebook import tqdm"
   ]
  },
  {
   "cell_type": "code",
   "execution_count": 3,
   "id": "21d99a85",
   "metadata": {},
   "outputs": [],
   "source": [
    "def generate_select_multiple_export(field):\n",
    "\n",
    "    result={\"cat\":[]}    \n",
    "    values=field[\"selectOptions\"][\"options\"]\n",
    "\n",
    "    for value in values:\n",
    "        if field[\"apiName\"] == \"demandOrigin\":\n",
    "            result[\"cat\"].append({\"if\":[{\"in\": \n",
    "                                     [value[\"value\"], {\"var\": \"formData.\"+field[\"apiName\"]}]\n",
    "                                    }, value[\"name\"] + \" \", \"\"]})\n",
    "        else:\n",
    "            result[\"cat\"].append({\"if\":[{\"in\": \n",
    "                                     [value[\"value\"], {\"var\": \"formData.\"+field[\"apiName\"]}]\n",
    "                                    }, value[\"name\"] + \", \", \"\"]})\n",
    "\n",
    "\n",
    "    return result"
   ]
  },
  {
   "cell_type": "code",
   "execution_count": 4,
   "id": "6c1bd129",
   "metadata": {},
   "outputs": [],
   "source": [
    "def generate_select_export(field):\n",
    "    result={\"if\":[]}    \n",
    "    values=field[\"selectOptions\"][\"options\"]\n",
    "    \n",
    "    for value in values:\n",
    "        result[\"if\"].append({\"==\":[{\"var\": \"formData.\"+field[\"apiName\"]}, value[\"value\"]]})\n",
    "        result[\"if\"].append(value[\"name\"])\n",
    "        \n",
    "    return result"
   ]
  },
  {
   "cell_type": "code",
   "execution_count": 16,
   "id": "2a694dac",
   "metadata": {},
   "outputs": [],
   "source": [
    "def generate_export(field):\n",
    "    result={\"header\": field[\"displayName\"], \"key\": field[\"apiName\"]}\n",
    "    \n",
    "    if field[\"dataType\"]==\"timestamp\":\n",
    "        result[\"isDate\"]=True\n",
    "    elif (field[\"dataType\"]==\"select\") and (\"options\" in field[\"selectOptions\"]):\n",
    "        result[\"logic\"]=generate_select_export(field)\n",
    "    elif (field[\"dataType\"]==\"selectMultiple\") and (\"options\" in field[\"selectOptions\"]):\n",
    "        result[\"logic\"]=generate_select_multiple_export(field)\n",
    "    elif field[\"dataType\"]==\"jsonLogic\":\n",
    "        result[\"logic\"]=field[\"logic\"]\n",
    "    elif field[\"dataType\"]==\"boolean\": # adaptação Eixo SP\n",
    "        result[\"logic\"]={\n",
    "                            \"if\": [{\n",
    "                                \"===\": [{\n",
    "                                    \"var\": \"formData.\" + field[\"apiName\"]\n",
    "                                }, True]\n",
    "                            }, \"Sim\", \"Não\"]\n",
    "                        }\n",
    "    elif field[\"dataType\"]==\"float\":\n",
    "        result[\"style\"]= {\n",
    "                \"num_fmt\": \"0.000\"\n",
    "                }\n",
    "    \n",
    "    \n",
    "    return result"
   ]
  },
  {
   "cell_type": "code",
   "execution_count": 18,
   "id": "655f9d31",
   "metadata": {},
   "outputs": [],
   "source": [
    "def generate_array_export(field, number=8):\n",
    "    result_list=[]\n",
    "    values=field[\"innerFields\"]\n",
    "    \n",
    "    for value in values:\n",
    "        \n",
    "        if (value[\"dataType\"] == \"select\") and (\"options\" in value[\"selectOptions\"]):            \n",
    "            for index in range(1, number+1):            \n",
    "                result={}\n",
    "                result[\"header\"]=field[\"displayName\"] + \" - \" + value[\"displayName\"] + \" \"  + str(index)\n",
    "                result[\"key\"]=value[\"apiName\"]+str(index)\n",
    "                result[\"logic\"]={}\n",
    "                result[\"logic\"][\"if\"]=[]\n",
    "                values_select=value[\"selectOptions\"][\"options\"]\n",
    "\n",
    "                for value_select in values_select:\n",
    "                    result[\"logic\"][\"if\"].append({\"==\":[{\"var\": \"formData.\" + field[\"apiName\"]+ \".\"+str(index-1) + \".\" +value[\"apiName\"]}, value_select[\"value\"]]})\n",
    "                    result[\"logic\"][\"if\"].append(value_select[\"name\"])\n",
    "\n",
    "                result_list.append(result)\n",
    "        \n",
    "        elif (\"display\" in value[\"apiName\"]):\n",
    "            pass\n",
    "        elif value[\"dataType\"] == \"innerImagesArray\":\n",
    "            pass\n",
    "        \n",
    "        elif (value[\"dataType\"] == \"selectMultiple\") and (\"options\" in value[\"selectOptions\"]):\n",
    "            for index in range(1, number+1):            \n",
    "                result={}\n",
    "                result[\"header\"]=field[\"displayName\"] + \" - \" + value[\"displayName\"] + \" \"  + str(index)\n",
    "                result[\"key\"]=value[\"apiName\"]+str(index)\n",
    "                result[\"logic\"]={}\n",
    "                result[\"logic\"][\"cat\"]=[]\n",
    "                values_select=value[\"selectOptions\"][\"options\"]\n",
    "\n",
    "                for value_select in values_select:\n",
    "                    result[\"logic\"][\"cat\"].append({\"if\":[{\"in\": \n",
    "                                     [value_select[\"value\"], {\"var\": \"formData.\" + field[\"apiName\"]+ \".\"+str(index-1) + \".\" +value[\"apiName\"]}]\n",
    "                                    }, value_select[\"name\"], \", \"]})\n",
    "\n",
    "                result_list.append(result)\n",
    "            \n",
    "        else:\n",
    "            for index in range(1, number+1): \n",
    "                \n",
    "                result={} \n",
    "                result[\"header\"]=field[\"displayName\"] + \" - \" + value[\"displayName\"] + \" \" + str(index) \n",
    "                result[\"key\"]=value[\"apiName\"]+str(index) \n",
    "                \n",
    "                if value[\"dataType\"] == \"boolean\": \n",
    "                    result[\"logic\"] = { \"if\": [{ \"===\": [{ \"var\": \"formData.\" + field[\"apiName\"] + \".\" + str(index-1) + \".\" + value[\"apiName\"] }, True] }, \"Sim\", \"Não\"] } \n",
    "                else: \n",
    "                    result[\"logic\"]= {\"var\": \"formData.\" + field[\"apiName\"] + \".\" + str(index-1) + \".\" + value[\"apiName\"]} \n",
    "#                 result[\"logic\"]= {\"var\": \"formData.\" + field[\"apiName\"] + \".\" + str(index-1) + \".\" + value[\"apiName\"]} \n",
    "                    if value[\"dataType\"] == \"timestamp\": result[\"isDate\"] = True \n",
    "                result_list.append(result)\n",
    "    \n",
    "    \n",
    "    return result_list"
   ]
  },
  {
   "cell_type": "code",
   "execution_count": 19,
   "id": "7e529a80",
   "metadata": {},
   "outputs": [],
   "source": [
    "def update_export_data(data, occ=None, filename=None):\n",
    "    if occ is not None:\n",
    "        if 'measurement_columns' in occ.form_fields.keys():\n",
    "            del occ.form_fields['measurement_columns']\n",
    "        occ.form_fields['measurementColumns']=data\n",
    "        occ.save()\n",
    "    if filename is not None:\n",
    "        with open(filename + '.txt', 'w') as outfile:\n",
    "            json.dump(data, outfile, indent=4)"
   ]
  },
  {
   "cell_type": "code",
   "execution_count": 20,
   "id": "5cb31fae",
   "metadata": {},
   "outputs": [],
   "source": [
    "def format_keys(obj, format_type=\"camelize\"):\n",
    "    if isinstance(obj, dict):\n",
    "        for key, value in obj.items():\n",
    "            if isinstance(value, dict):\n",
    "                obj[key] = format_field_names(\n",
    "                            format_keys(value), format_type\n",
    "                            )\n",
    "            elif isinstance(value, list):\n",
    "                list_temp = value.copy()\n",
    "                for i, item in enumerate(value):\n",
    "                    if isinstance(item, dict):\n",
    "                        list_temp[i] = format_field_names(\n",
    "                        format_keys(item), format_type\n",
    "                        )\n",
    "                    else:\n",
    "                        list_temp[i] = item\n",
    "                obj[key] = list_temp\n",
    "    return obj"
   ]
  },
  {
   "cell_type": "code",
   "execution_count": 26,
   "id": "4600fbea",
   "metadata": {},
   "outputs": [
    {
     "data": {
      "text/plain": [
       "<Company: f0b6948c-3d75-47dd-94a6-4b8ea4373ce4: Demo Concessionárias>"
      ]
     },
     "execution_count": 26,
     "metadata": {},
     "output_type": "execute_result"
    }
   ],
   "source": [
    "# company=Company.objects.get(name='Eixo Sp - Pavimento')\n",
    "company=Company.objects.get(name='Demo Concessionárias')\n",
    "company"
   ]
  },
  {
   "cell_type": "code",
   "execution_count": 27,
   "id": "8bef3a93",
   "metadata": {},
   "outputs": [
    {
     "data": {
      "text/plain": [
       "2"
      ]
     },
     "execution_count": 27,
     "metadata": {},
     "output_type": "execute_result"
    }
   ],
   "source": [
    "# occ=OccurrenceType.objects.get(uuid='f6033d7d-9649-420d-9125-2000aefcd25a')\n",
    "occ=OccurrenceType.objects.filter(company=company, active=True, next_version__isnull=True,occurrence_kind__in=['1999']).order_by('name')\n",
    "occ.count()"
   ]
  },
  {
   "cell_type": "code",
   "execution_count": 28,
   "id": "895bb333",
   "metadata": {},
   "outputs": [
    {
     "data": {
      "application/vnd.jupyter.widget-view+json": {
       "model_id": "adb3faaa08d144dca44a380216a4fe7f",
       "version_major": 2,
       "version_minor": 0
      },
      "text/plain": [
       "  0%|          | 0/2 [00:00<?, ?it/s]"
      ]
     },
     "metadata": {},
     "output_type": "display_data"
    }
   ],
   "source": [
    "for match in tqdm(occ):\n",
    "    for index, field in enumerate(match.form_fields['fields']):\n",
    "        match.form_fields['fields'][index]=format_keys(keys_to_camel_case(field))\n",
    "    match.save()"
   ]
  },
  {
   "cell_type": "code",
   "execution_count": 14,
   "id": "8bc17898",
   "metadata": {},
   "outputs": [],
   "source": [
    "# columns=[]\n",
    "\n",
    "# for field in occ.form_fields['fields']:\n",
    "    \n",
    "#     if field['dataType'] != 'arrayOfObjects':\n",
    "#         columns.append(generate_export(field))\n",
    "#     else:\n",
    "#         columns.append(generate_array_export(field))\n",
    "    \n",
    "\n",
    "# columns=flatten(columns)\n",
    "\n",
    "# update_export_data(columns, occ=occ)"
   ]
  },
  {
   "cell_type": "code",
   "execution_count": 29,
   "id": "61b05004",
   "metadata": {},
   "outputs": [
    {
     "data": {
      "application/vnd.jupyter.widget-view+json": {
       "model_id": "8c7403d5fa7949c5ac86c751c0ac542e",
       "version_major": 2,
       "version_minor": 0
      },
      "text/plain": [
       "  0%|          | 0/2 [00:00<?, ?it/s]"
      ]
     },
     "metadata": {},
     "output_type": "display_data"
    }
   ],
   "source": [
    "for match in tqdm(occ):\n",
    "        \n",
    "    try:\n",
    "        columns=[]\n",
    "\n",
    "        for field in match.form_fields['fields']:\n",
    "            if field['dataType'] != 'arrayOfObjects':\n",
    "                columns.append(generate_export(field))\n",
    "            else:\n",
    "                columns.append(generate_array_export(field, 6))\n",
    "\n",
    "\n",
    "        columns=flatten(columns)\n",
    "        update_export_data(columns, occ=match)\n",
    "    \n",
    "    except Exception as e:\n",
    "        print(f'{match.uuid} - {e}')"
   ]
  },
  {
   "cell_type": "code",
   "execution_count": 30,
   "id": "57db8f38",
   "metadata": {},
   "outputs": [
    {
     "data": {
      "text/plain": [
       "[{'header': 'Código de Edital', 'key': 'contratualCode', 'logic': 'b.1.3.'},\n",
       " {'header': 'CSP', 'key': 'csp', 'logic': '7'},\n",
       " {'header': 'Origem',\n",
       "  'key': 'demandOrigin',\n",
       "  'logic': {'cat': [{'if': [{'in': ['1', {'var': 'formData.demandOrigin'}]},\n",
       "      'Interna ',\n",
       "      '']},\n",
       "    {'if': [{'in': ['2', {'var': 'formData.demandOrigin'}]}, 'KCOR ', '']},\n",
       "    {'if': [{'in': ['3', {'var': 'formData.demandOrigin'}]},\n",
       "      'ARTESP DIN ',\n",
       "      '']},\n",
       "    {'if': [{'in': ['4', {'var': 'formData.demandOrigin'}]},\n",
       "      'ARTESP DOP ',\n",
       "      '']}]}},\n",
       " {'header': 'Código ARTESP', 'key': 'artespCode'},\n",
       " {'header': 'Recebido da ARTESP em', 'key': 'receivedDate', 'isDate': True},\n",
       " {'header': 'Cód KCOR', 'key': 'kcorCode'},\n",
       " {'header': 'Cód interno', 'key': 'internCode'},\n",
       " {'header': 'Lote',\n",
       "  'key': 'lot',\n",
       "  'logic': {'if': [{'==': [{'var': 'formData.lot'}, '1']},\n",
       "    'Lote 1',\n",
       "    {'==': [{'var': 'formData.lot'}, '2']},\n",
       "    'Lote 2',\n",
       "    {'==': [{'var': 'formData.lot'}, '3']},\n",
       "    'Lote 3',\n",
       "    {'==': [{'var': 'formData.lot'}, '4']},\n",
       "    'Lote 4']}},\n",
       " {'header': 'Comprimento (m)', 'key': 'length', 'style': {'num_fmt': '0.000'}},\n",
       " {'header': 'Largura (m)', 'key': 'width', 'style': {'num_fmt': '0.000'}},\n",
       " {'header': 'Área (m²)',\n",
       "  'key': 'area',\n",
       "  'logic': OrderedDict([('if',\n",
       "                [OrderedDict([('missing',\n",
       "                               ['formData.length', 'formData.width'])]),\n",
       "                 0,\n",
       "                 OrderedDict([('*',\n",
       "                               [OrderedDict([('var', 'formData.length')]),\n",
       "                                OrderedDict([('var',\n",
       "                                              'formData.width')])])])])])},\n",
       " {'header': 'Observações', 'key': 'notes'},\n",
       " {'header': 'Interdidato?',\n",
       "  'key': 'stopAndGo',\n",
       "  'logic': {'if': [{'===': [{'var': 'formData.stopAndGo'}, True]},\n",
       "    'Sim',\n",
       "    'Não']}},\n",
       " {'header': 'Turno',\n",
       "  'key': 'shift',\n",
       "  'logic': {'if': [{'==': [{'var': 'formData.shift'}, '1']},\n",
       "    'Manhã',\n",
       "    {'==': [{'var': 'formData.shift'}, '2']},\n",
       "    'Noite']}},\n",
       " {'header': 'Tipo de Interdição',\n",
       "  'key': 'interditionType',\n",
       "  'logic': {'if': [{'==': [{'var': 'formData.interditionType'}, '1']},\n",
       "    'Pare e Pare',\n",
       "    {'==': [{'var': 'formData.interditionType'}, '2']},\n",
       "    'Pare e Siga']}}]"
      ]
     },
     "execution_count": 30,
     "metadata": {},
     "output_type": "execute_result"
    }
   ],
   "source": [
    "occ[0].form_fields['measurementColumns']"
   ]
  },
  {
   "cell_type": "code",
   "execution_count": null,
   "id": "21e90ac0",
   "metadata": {},
   "outputs": [],
   "source": []
  }
 ],
 "metadata": {
  "kernelspec": {
   "display_name": "Django Shell-Plus",
   "language": "python",
   "name": "django_extensions"
  },
  "language_info": {
   "codemirror_mode": {
    "name": "ipython",
    "version": 3
   },
   "file_extension": ".py",
   "mimetype": "text/x-python",
   "name": "python",
   "nbconvert_exporter": "python",
   "pygments_lexer": "ipython3",
   "version": "3.7.9"
  }
 },
 "nbformat": 4,
 "nbformat_minor": 5
}
