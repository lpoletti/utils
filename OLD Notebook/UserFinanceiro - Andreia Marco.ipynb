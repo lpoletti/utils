{
 "cells": [
  {
   "cell_type": "code",
   "execution_count": 1,
   "metadata": {},
   "outputs": [],
   "source": [
    "from collections import defaultdict\n",
    "from django.db.models.signals import *\n",
    "import pandas as pd\n",
    "from itertools import chain\n",
    "from tqdm.notebook import tqdm\n",
    "import datetime\n",
    "import calendar"
   ]
  },
  {
   "cell_type": "code",
   "execution_count": 2,
   "metadata": {},
   "outputs": [],
   "source": [
    "def normalize_month(month, year):\n",
    "    return month + 12*(year - 2020)"
   ]
  },
  {
   "cell_type": "code",
   "execution_count": 3,
   "metadata": {},
   "outputs": [
    {
     "data": {
      "text/plain": [
       "48"
      ]
     },
     "execution_count": 3,
     "metadata": {},
     "output_type": "execute_result"
    }
   ],
   "source": [
    "normalize_month(12, 2023)"
   ]
  },
  {
   "cell_type": "code",
   "execution_count": 4,
   "metadata": {},
   "outputs": [],
   "source": [
    "# def normalize_day(day, month):\n",
    "#     return day + 31*(month - 1)"
   ]
  },
  {
   "cell_type": "code",
   "execution_count": 5,
   "metadata": {},
   "outputs": [],
   "source": [
    "# normalize_day(31,12)"
   ]
  },
  {
   "cell_type": "code",
   "execution_count": 6,
   "metadata": {},
   "outputs": [],
   "source": [
    "def queryset_to_dict(result_list):\n",
    "    permissoesUsuarios = {}\n",
    "    for a in result_list:\n",
    "        try:\n",
    "            if not permissoesUsuarios.get(a.user.get_full_name()):\n",
    "                permissoesUsuarios[a.user.get_full_name()] = {}\n",
    "            if isinstance(permissoesUsuarios.get(a.user.get_full_name()).get(normalize_month(a.history_date.month, a.history_date.year)),list):\n",
    "                permissoesUsuarios[a.user.get_full_name()][normalize_month(a.history_date.month, a.history_date.year)].append(a.permissions.name)\n",
    "            elif permissoesUsuarios.get(a.user.get_full_name()).get(normalize_month(a.history_date.month, a.history_date.year)):\n",
    "                multi_perm_per_month= permissoesUsuarios.get(a.user.get_full_name()).get(normalize_month(a.history_date.month, a.history_date.year))\n",
    "                permissoesUsuarios[a.user.get_full_name()][normalize_month(a.history_date.month, a.history_date.year)] = [multi_perm_per_month,a.permissions.name]\n",
    "            else:\n",
    "                permissoesUsuarios[a.user.get_full_name()][normalize_month(a.history_date.month, a.history_date.year)] = a.permissions.name\n",
    "        except:\n",
    "            pass\n",
    "    return permissoesUsuarios"
   ]
  },
  {
   "cell_type": "code",
   "execution_count": 7,
   "metadata": {},
   "outputs": [],
   "source": [
    "def cond_ativo_inativo(permissoesUsuarios,mes_referencia):\n",
    "    usuariosAtivos = []\n",
    "    usuariosInativos = []\n",
    "    \n",
    "    for nome, mes in permissoesUsuarios.items():\n",
    "        if mes == {}:\n",
    "            continue\n",
    "        meses = sorted(list(mes.keys()))\n",
    "        item = max(list(mes.keys()))\n",
    "        cargo_atual = mes[item]\n",
    "        \n",
    "        if len(meses) > 1:\n",
    "            if mes[meses[-2]] != 'Inativo':\n",
    "                cargo_antes_de_inativo = True\n",
    "            else:\n",
    "                cargo_antes_de_inativo = False\n",
    "        else:\n",
    "            cargo_antes_de_inativo = False\n",
    "        \n",
    "    # Se em algum momento do mesmo mês o usuário foi diferente de Inativo ele entra como ativo\n",
    "        if isinstance(cargo_atual,list):\n",
    "            if any(cargo for cargo in cargo_atual if cargo !='Inativo') and not any(u for u in usuariosAtivos if nome == u):\n",
    "                usuariosAtivos.append(nome)     \n",
    "    # se o cargo atual for diferente de inativo e não for uma lista(o que configura multiplas permissões no mesmo mês) ele é ativo\n",
    "        elif cargo_atual != 'Inativo' and not isinstance(cargo_atual,list):\n",
    "            usuariosAtivos.append(nome)\n",
    "    # Se no mes anterior ao ultimo ele foi diferente de inativo e no ultimo mes foi Inativo e\n",
    "    # o mes do cargo_atual for igual ao ultimo mes de referencia(ultimo mês pra coleta) e o nome não estiver nos usuariosAtivos\n",
    "    # ele é ativo, pois se nesse mês ele foi colocado como Inativo \n",
    "    # quer dizer que em algum momento do mês de referencia ele foi ativo\n",
    "        elif cargo_antes_de_inativo and cargo_atual == 'Inativo' and item == mes_referencia and not any(u for u in usuariosAtivos if nome == u):\n",
    "            usuariosAtivos.append(nome)       \n",
    "    # se o cargo atual contem a palavra Inativo e não está nos usuariosAtivos então ele é Inativo\n",
    "        elif 'Inativo' in cargo_atual and nome not in usuariosAtivos:\n",
    "            usuariosInativos.append(nome)\n",
    "        else:\n",
    "            print('Corra pras montanhas')\n",
    "    \n",
    "    return usuariosAtivos,usuariosInativos"
   ]
  },
  {
   "cell_type": "code",
   "execution_count": 8,
   "metadata": {},
   "outputs": [],
   "source": [
    "def permissoes_history_user(result_list,mes_ano):\n",
    "    temp_ativo,temp_inativo,usuariosAtivos,usuariosInativos=[],[],[],[]\n",
    "    \n",
    "    permissoesUsuarios = {}\n",
    "    \n",
    "    mes_referencia = normalize_month(mes_ano.month, mes_ano.year)\n",
    "    companies = list(result_list.values_list('company__name',flat=True).order_by('company__name').distinct('company__name'))\n",
    "    \n",
    "    # condições para tratar dos casos de agrupamento de unidades\n",
    "    if len(companies) == 1:\n",
    "        permissoesUsuarios = queryset_to_dict(result_list)\n",
    "        \n",
    "        usuariosAtivos,usuariosInativos=cond_ativo_inativo(permissoesUsuarios,mes_referencia)\n",
    "    \n",
    "    # se há mais de uma unidade quer dizer q foi feito um agrupamentos por unidade e temos que\n",
    "    # iterar sobre cada unidade separadamente, pra no fim retornar a lista de usuários por causa de um erro de o usuário\n",
    "    # estar como inativo numa e ativo na outra\n",
    "    elif len(companies) > 1:\n",
    "        \n",
    "        for company in companies:\n",
    "            result_list_filtered = result_list.filter(company__name=company)\n",
    "            permissoesUsuarios = queryset_to_dict(result_list_filtered)\n",
    "\n",
    "            temp_ativo=cond_ativo_inativo(permissoesUsuarios,mes_referencia)[0] + temp_ativo\n",
    "            temp_inativo=cond_ativo_inativo(permissoesUsuarios,mes_referencia)[1] + temp_inativo\n",
    "            \n",
    "        try:\n",
    "            usuariosInativos = list(set([x for x in temp_inativo if x not in temp_ativo]))\n",
    "            usuariosAtivos = list(set(temp_ativo))\n",
    "        except:\n",
    "            print(usuariosAtivos,usuariosInativos)\n",
    "    return usuariosAtivos,usuariosInativos"
   ]
  },
  {
   "cell_type": "code",
   "execution_count": 9,
   "metadata": {},
   "outputs": [
    {
     "data": {
      "text/plain": [
       "(10,\n",
       " ['Modera - Consórcio ME2',\n",
       "  'Afirma Engenharia Viária',\n",
       "  'Pavicolet (Amapá)',\n",
       "  'Pavicolet (Amazonas)',\n",
       "  'Entrevias',\n",
       "  'LCM - Gaspar',\n",
       "  'Minasul',\n",
       "  'Sinalizavia (Municípios)',\n",
       "  'Sinaliza Via (Rodovias)',\n",
       "  'Construtora Castilho'])"
      ]
     },
     "execution_count": 9,
     "metadata": {},
     "output_type": "execute_result"
    }
   ],
   "source": [
    "companies=['Modera - Consórcio ME2',\n",
    "  'Afirma Engenharia Viária',\n",
    "  'Pavicolet (Amapá)',\n",
    "  'Pavicolet (Amazonas)',\n",
    "  'Entrevias',\n",
    "  'LCM - Gaspar',\n",
    "  'Minasul',\n",
    "  'Sinalizavia (Municípios)',\n",
    "  'Sinaliza Via (Rodovias)',\n",
    "  'Construtora Castilho']\n",
    "len(companies),companies"
   ]
  },
  {
   "cell_type": "code",
   "execution_count": 19,
   "metadata": {},
   "outputs": [],
   "source": [
    "companies=list(Company.objects.filter(name__icontains='Construtora Castilho').values_list('cnpj',flat=True).distinct())"
   ]
  },
  {
   "cell_type": "code",
   "execution_count": 20,
   "metadata": {},
   "outputs": [
    {
     "data": {
      "text/plain": [
       "['92.779.503/0001-25']"
      ]
     },
     "execution_count": 20,
     "metadata": {},
     "output_type": "execute_result"
    }
   ],
   "source": [
    "companies"
   ]
  },
  {
   "cell_type": "code",
   "execution_count": 10,
   "metadata": {},
   "outputs": [
    {
     "name": "stdout",
     "output_type": "stream",
     "text": [
      "Modera - Consórcio ME2 28.256.567/0001-42\n",
      "Afirma Engenharia Viária 05.205.684/0001-81\n",
      "Pavicolet (Amapá) 46.791.721/0001-68\n",
      "Pavicolet (Amazonas) 46.791.721/0001-68\n",
      "Entrevias 26.664.057/0001-89\n",
      "LCM - Gaspar 19.758.842/0001-35\n",
      "Minasul 37.456.439/0001-33\n",
      "Sinalizavia (Municípios) 22.221.801/0001-10\n",
      "Sinaliza Via (Rodovias) 22.221.801/0001-10\n",
      "Construtora Castilho 92.779.503/0001-25\n"
     ]
    }
   ],
   "source": [
    "for a in companies:\n",
    "    company=Company.objects.get(name=a)\n",
    "    print(company.name,company.cnpj)"
   ]
  },
  {
   "cell_type": "code",
   "execution_count": 11,
   "metadata": {},
   "outputs": [],
   "source": [
    "# companies=[a for a in Company.objects.filter(name__startswith='LCM').values_list('name',flat=True)]\n",
    "# companies"
   ]
  },
  {
   "cell_type": "code",
   "execution_count": 13,
   "metadata": {},
   "outputs": [
    {
     "data": {
      "text/plain": [
       "(31, 3, 2024)"
      ]
     },
     "execution_count": 13,
     "metadata": {},
     "output_type": "execute_result"
    }
   ],
   "source": [
    "# Mês e ano para coleta dos usuários\n",
    "mes=3\n",
    "ano=2024\n",
    "dia = calendar.monthrange(ano, mes)[1]\n",
    "dia,mes,ano"
   ]
  },
  {
   "cell_type": "code",
   "execution_count": 14,
   "metadata": {},
   "outputs": [
    {
     "data": {
      "text/plain": [
       "datetime.datetime(2024, 3, 31, 3, 0)"
      ]
     },
     "execution_count": 14,
     "metadata": {},
     "output_type": "execute_result"
    }
   ],
   "source": [
    "# DATA sempre referente ao mês que se quer coletar nesse formato history_date__lte='2024-01-31 03:00:00'\n",
    "# é utilizado 3 horas da manha pois é a pra fechar com o horario de meio noite do servidor\n",
    "data = datetime.datetime(ano,mes,dia,3,0,0)\n",
    "data"
   ]
  },
  {
   "cell_type": "code",
   "execution_count": 15,
   "metadata": {},
   "outputs": [],
   "source": [
    "pd.DataFrame().to_excel('Usuários Ativos Financeiro.xlsx')"
   ]
  },
  {
   "cell_type": "code",
   "execution_count": 16,
   "metadata": {},
   "outputs": [
    {
     "data": {
      "application/vnd.jupyter.widget-view+json": {
       "model_id": "e2758a4c98944feebf4652e89bd0bc75",
       "version_major": 2,
       "version_minor": 0
      },
      "text/plain": [
       "  0%|          | 0/5 [00:00<?, ?it/s]"
      ]
     },
     "metadata": {},
     "output_type": "display_data"
    },
    {
     "name": "stderr",
     "output_type": "stream",
     "text": [
      "/home/luan/.cache/pypoetry/virtualenvs/apps-ZFymp6kh-py3.8/lib/python3.8/site-packages/django/db/models/fields/__init__.py:1424: RuntimeWarning: DateTimeField HistoricalUserInCompany.history_date received a naive datetime (2024-03-31 03:00:00) while time zone support is active.\n",
      "  warnings.warn(\"DateTimeField %s received a naive datetime (%s)\"\n",
      "/home/luan/.cache/pypoetry/virtualenvs/apps-ZFymp6kh-py3.8/lib/python3.8/site-packages/openpyxl/workbook/child.py:99: UserWarning: Title is more than 31 characters. Some applications may not be able to read the file\n",
      "  warnings.warn(\"Title is more than 31 characters. Some applications may not be able to read the file\")\n"
     ]
    }
   ],
   "source": [
    "for company in tqdm(companies):\n",
    "    planilha_name=company\n",
    "    if company in ['Modera - Consórcio ME2']:\n",
    "        historicoUsuarios=UserInCompany.history.model.objects.filter(\n",
    "            company__name__in=['Modera - Consórcio ME2'],\n",
    "            history_date__lte=data\n",
    "        ).exclude(\n",
    "            user__email__icontains='kartado'\n",
    "        ).exclude(\n",
    "            user__email__icontains='roadlabs'\n",
    "        ).exclude(\n",
    "            user__uuid = '6ca2ac08-7ee0-4587-a0cf-8850f72e1b95'\n",
    "        ).exclude(\n",
    "            user__email__icontains='hermes'\n",
    "        ).order_by( 'history_date')\n",
    "    elif company in ['Afirma Engenharia Viária']:\n",
    "        historicoUsuarios=UserInCompany.history.model.objects.filter(\n",
    "            company__name__in=['Afirma Engenharia Viária'],\n",
    "            history_date__lte=data\n",
    "        ).exclude(\n",
    "            user__email__icontains='kartado'\n",
    "        ).exclude(\n",
    "            user__email__icontains='roadlabs'\n",
    "        ).exclude(\n",
    "            user__uuid = '6ca2ac08-7ee0-4587-a0cf-8850f72e1b95'\n",
    "        ).exclude(\n",
    "            user__email__icontains='hermes'\n",
    "        ).order_by( 'history_date')\n",
    "    elif company in ['Pavicolet (Amapá)','Pavicolet (Amazonas)']:\n",
    "        historicoUsuarios=UserInCompany.history.model.objects.filter(\n",
    "            company__name__in=['Pavicolet (Amapá)','Pavicolet (Amazonas)'],\n",
    "            history_date__lte=data\n",
    "        ).exclude(\n",
    "            user__email__icontains='kartado'\n",
    "        ).exclude(\n",
    "            user__email__icontains='roadlabs'\n",
    "        ).exclude(\n",
    "            user__uuid = '6ca2ac08-7ee0-4587-a0cf-8850f72e1b95'\n",
    "        ).exclude(\n",
    "            user__email__icontains='hermes'\n",
    "        ).order_by( 'history_date')\n",
    "        planilha_name='Pavicolet'\n",
    "    elif company in ['LCM - Gaspar']:\n",
    "        historicoUsuarios=UserInCompany.history.model.objects.filter(\n",
    "            company__name__in=['LCM - Gaspar'],\n",
    "            history_date__lte=data\n",
    "        ).exclude(\n",
    "            user__email__icontains='kartado'\n",
    "        ).exclude(\n",
    "            user__email__icontains='roadlabs'\n",
    "        ).exclude(\n",
    "            user__uuid = '6ca2ac08-7ee0-4587-a0cf-8850f72e1b95'\n",
    "        ).exclude(\n",
    "            user__email__icontains='hermes'\n",
    "        ).order_by( 'history_date')\n",
    "    elif company in ['Minasul']:\n",
    "        historicoUsuarios=UserInCompany.history.model.objects.filter(\n",
    "            company__name__in=['Minasul'],\n",
    "            history_date__lte=data\n",
    "        ).exclude(\n",
    "            user__email__icontains='kartado'\n",
    "        ).exclude(\n",
    "            user__email__icontains='roadlabs'\n",
    "        ).exclude(\n",
    "            user__uuid = '6ca2ac08-7ee0-4587-a0cf-8850f72e1b95'\n",
    "        ).exclude(\n",
    "            user__email__icontains='hermes'\n",
    "        ).order_by( 'history_date')\n",
    "    elif company in ['Sinalizavia (Municípios)','Sinaliza Via (Rodovias)']:\n",
    "        historicoUsuarios=UserInCompany.history.model.objects.filter(\n",
    "            company__name__in=['Sinalizavia (Municípios)','Sinaliza Via (Rodovias)'],\n",
    "            history_date__lte=data\n",
    "        ).exclude(\n",
    "            user__email__icontains='kartado'\n",
    "        ).exclude(\n",
    "            user__email__icontains='roadlabs'\n",
    "        ).exclude(\n",
    "            user__uuid = '6ca2ac08-7ee0-4587-a0cf-8850f72e1b95'\n",
    "        ).exclude(\n",
    "            user__email__icontains='hermes'\n",
    "        ).order_by( 'history_date')\n",
    "        planilha_name='Sinalizavia'\n",
    "    elif company in ['Construtora Castilho']:\n",
    "        historicoUsuarios=UserInCompany.history.model.objects.filter(\n",
    "            company__name__in=['Construtora Castilho'],\n",
    "            history_date__lte=data\n",
    "        ).exclude(\n",
    "            user__email__icontains='kartado'\n",
    "        ).exclude(\n",
    "            user__email__icontains='roadlabs'\n",
    "        ).exclude(\n",
    "            user__uuid = '6ca2ac08-7ee0-4587-a0cf-8850f72e1b95'\n",
    "        ).exclude(\n",
    "            user__email__icontains='hermes'\n",
    "        ).order_by( 'history_date')\n",
    "    elif company in ['Entrevias']:\n",
    "        historicoUsuarios=UserInCompany.history.model.objects.filter(\n",
    "            Q(user__email__icontains='afirma')|Q(user__email__icontains='ajr')|Q(user__username__icontains='ajr'),\n",
    "            company__name__icontains=company,\n",
    "            history_date__lte=data\n",
    "        ).exclude(\n",
    "            user__email__icontains='kartado'\n",
    "        ).exclude(\n",
    "            user__email__icontains='roadlabs'\n",
    "        ).exclude(\n",
    "            user__uuid = '6ca2ac08-7ee0-4587-a0cf-8850f72e1b95'\n",
    "        ).exclude(\n",
    "            user__email__icontains='hermes'\n",
    "        ).order_by( 'history_date')\n",
    "    else:\n",
    "        historicoUsuarios=UserInCompany.history.model.objects.filter(\n",
    "            company__name=company,\n",
    "            history_date__lte=data\n",
    "        ).exclude(\n",
    "            user__email__icontains='kartado'\n",
    "        ).exclude(\n",
    "            user__email__icontains='roadlabs'\n",
    "        ).exclude(\n",
    "            user__uuid = '6ca2ac08-7ee0-4587-a0cf-8850f72e1b95'\n",
    "        ).exclude(\n",
    "            user__email__icontains='hermes'\n",
    "        ).order_by( 'history_date')\n",
    "    \n",
    "    users_permissions = permissoes_history_user(historicoUsuarios,data)[0] if len(permissoes_history_user(historicoUsuarios,data)[0]) > 0 else 0\n",
    "#     cnpj=Company.objects.get(name=company).cnpj.replace('.', '').replace('/', '').replace('-', '')\n",
    "    if users_permissions != 0:\n",
    "        df2 = pd.DataFrame(data=users_permissions,columns=['Usuários ativos'])\n",
    "        with pd.ExcelWriter('Usuários Ativos Financeiro.xlsx', mode='a',if_sheet_exists='replace') as writer:\n",
    "            df2.to_excel(writer,sheet_name=planilha_name,na_rep=\"-\")"
   ]
  },
  {
   "cell_type": "code",
   "execution_count": 85,
   "metadata": {},
   "outputs": [],
   "source": [
    "historicoUsuarios=UserInCompany.history.model.objects.filter(\n",
    "        company__name__in=['Pavicolet (Amapá)','Pavicolet (Amazonas)'],\n",
    "        history_date__lte=data\n",
    "    ).exclude(\n",
    "        user__email__icontains='kartado'\n",
    "    ).exclude(\n",
    "        user__email__icontains='roadlabs'\n",
    "    ).exclude(\n",
    "        user__uuid = '6ca2ac08-7ee0-4587-a0cf-8850f72e1b95'\n",
    "    ).exclude(\n",
    "        user__email__icontains='hermes'\n",
    "    ).order_by( 'history_date')"
   ]
  },
  {
   "cell_type": "code",
   "execution_count": 86,
   "metadata": {},
   "outputs": [],
   "source": [
    "users_permissions1 = permissoes_history_user(historicoUsuarios,data)[0] if len(permissoes_history_user(historicoUsuarios,data)[0]) > 0 else 0"
   ]
  },
  {
   "cell_type": "code",
   "execution_count": 87,
   "metadata": {
    "scrolled": true
   },
   "outputs": [
    {
     "data": {
      "text/plain": [
       "((['Edielsom Campos',\n",
       "   'HENRIQUE MOUSSA',\n",
       "   'Jobson Lima',\n",
       "   'Welington Bortolini',\n",
       "   'JOÃO ECCEL',\n",
       "   'Nelson Roriz',\n",
       "   'Cleiton Marques',\n",
       "   'WELINGTON DIEGO COSTA',\n",
       "   'RODRIGO SOUZA',\n",
       "   'Leonardo Meireles Martins',\n",
       "   'ELIZANIO VIEIRA',\n",
       "   'Eliton costa',\n",
       "   'Edmilson Peixoto',\n",
       "   'Alexandre Assef',\n",
       "   'Vilmar Júnior',\n",
       "   'Diego de Jesus Amoras',\n",
       "   'Flávio Tavares',\n",
       "   'Pedro Barbosa',\n",
       "   'Ruan Carlos Souza da Silva',\n",
       "   'Álvaro Aurélio',\n",
       "   'Isenildo Torres',\n",
       "   'Hugo Isslle',\n",
       "   'Mailso Dias',\n",
       "   'Jonas Silva',\n",
       "   'Mateus Tavares',\n",
       "   'Wellington Fagundes',\n",
       "   'Carlos Porto',\n",
       "   'Edgar Silva',\n",
       "   'Neandro Braga',\n",
       "   'Jonnattan Gustavo Monteiro de Matos',\n",
       "   'Wal-liano Deka',\n",
       "   'Adilson Rodrigues',\n",
       "   'Wembley Santos',\n",
       "   'Cleimilton Melo',\n",
       "   'Marcus Vinicius C Abreu',\n",
       "   'Tassio Janio'],\n",
       "  ['Joao Oliveira',\n",
       "   'Saulo Daniel',\n",
       "   'fredson venque',\n",
       "   'Marcelo Martins',\n",
       "   'Cristiano Oliveira',\n",
       "   'Aderbal Relvas',\n",
       "   'Abrão Baloeiro Dutra',\n",
       "   'Antônio Barbosa',\n",
       "   'Antonio Costa',\n",
       "   'Ronald Souza do Carmo',\n",
       "   'Davi Silva Paixão',\n",
       "   'Matheus Eduardo',\n",
       "   'MESSIAS MORAES DE SOUZA',\n",
       "   'Zaqueu de Lima Oliveira',\n",
       "   'Misael Serrão',\n",
       "   'Vinícius Bortolini',\n",
       "   'Jackson Soares',\n",
       "   'ADERBAL FORMIGA RELVAS',\n",
       "   'Luiz Arcanjo',\n",
       "   'Lucas Wilian de Almeida Santos',\n",
       "   'BENNERSON RIBEIRO',\n",
       "   'Erick Leite',\n",
       "   'Eldon Araújo Marques',\n",
       "   'Cristiano Pantoja Oliveira',\n",
       "   'Antônio Félix',\n",
       "   'geovane dos santos almeida',\n",
       "   'Jonas de Lima Freire',\n",
       "   'Edvaldo Campos',\n",
       "   'Wesllem Serudo']),\n",
       " 36)"
      ]
     },
     "execution_count": 87,
     "metadata": {},
     "output_type": "execute_result"
    }
   ],
   "source": [
    "permissoes_history_user(historicoUsuarios,data),len(users_permissions1)"
   ]
  },
  {
   "cell_type": "code",
   "execution_count": 40,
   "metadata": {},
   "outputs": [],
   "source": [
    "users_permissions2 = permissoes_history_user(historicoUsuarios,data)[0] if len(permissoes_history_user(historicoUsuarios,data)[0]) > 0 else 0"
   ]
  },
  {
   "cell_type": "code",
   "execution_count": 43,
   "metadata": {},
   "outputs": [
    {
     "data": {
      "text/plain": [
       "(15,\n",
       " ['Heverton Canova',\n",
       "  'João Fachini',\n",
       "  'Sergio Deves',\n",
       "  'Celestino Cuchi',\n",
       "  'Celso dos Santos',\n",
       "  'Cleberson Rocha',\n",
       "  'Delbo Rodrigues',\n",
       "  'Evandro Pereira',\n",
       "  'Flávio Soares',\n",
       "  'Jhonatan dos Santos',\n",
       "  'José da Costa',\n",
       "  'Luiz Antônio',\n",
       "  'Rafael Carvalho',\n",
       "  'Ricardo Guilherme',\n",
       "  'Paulo Marchel'])"
      ]
     },
     "execution_count": 43,
     "metadata": {},
     "output_type": "execute_result"
    }
   ],
   "source": [
    "len(users_permissions2),users_permissions2"
   ]
  },
  {
   "cell_type": "code",
   "execution_count": 53,
   "metadata": {},
   "outputs": [
    {
     "data": {
      "text/plain": [
       "15"
      ]
     },
     "execution_count": 53,
     "metadata": {},
     "output_type": "execute_result"
    }
   ],
   "source": [
    "len(set(users_permissions1+users_permissions2))"
   ]
  },
  {
   "cell_type": "code",
   "execution_count": 47,
   "metadata": {},
   "outputs": [
    {
     "data": {
      "text/plain": [
       "(15,\n",
       " ['Heverton Canova',\n",
       "  'João Fachini',\n",
       "  'Cleberson Rocha',\n",
       "  'Delbo Rodrigues',\n",
       "  'Evandro Pereira',\n",
       "  'Jhonatan dos Santos',\n",
       "  'José da Costa',\n",
       "  'Ricardo Guilherme',\n",
       "  'Luiz Antônio',\n",
       "  'Celso dos Santos',\n",
       "  'Flávio Soares',\n",
       "  'Paulo Marchel',\n",
       "  'Celestino Cuchi',\n",
       "  'Sergio Deves',\n",
       "  'Rafael Carvalho'])"
      ]
     },
     "execution_count": 47,
     "metadata": {},
     "output_type": "execute_result"
    }
   ],
   "source": [
    "len(new_lista),new_lista"
   ]
  },
  {
   "cell_type": "code",
   "execution_count": 45,
   "metadata": {},
   "outputs": [],
   "source": [
    "historicoUsuarios=UserInCompany.history.model.objects.filter(\n",
    "            Q(user__email__icontains='afirma')|Q(user__email__icontains='ajr')|Q(user__username__icontains='ajr'),\n",
    "            company__name__icontains=\"Entrevias\",\n",
    "            history_date__lte=data\n",
    "        ).exclude(\n",
    "            user__email__icontains='kartado'\n",
    "        ).exclude(\n",
    "            user__email__icontains='roadlabs'\n",
    "        ).exclude(\n",
    "            user__uuid = '6ca2ac08-7ee0-4587-a0cf-8850f72e1b95'\n",
    "        ).exclude(\n",
    "            user__email__icontains='hermes'\n",
    "        ).order_by( 'history_date')"
   ]
  },
  {
   "cell_type": "code",
   "execution_count": 46,
   "metadata": {},
   "outputs": [
    {
     "data": {
      "text/plain": [
       "['Isabelly AJR',\n",
       " 'Rogério Buchala',\n",
       " 'Cassio Borges',\n",
       " 'Luciano Teixeira',\n",
       " 'Osmar Duprat',\n",
       " 'Marcio Celestino']"
      ]
     },
     "execution_count": 46,
     "metadata": {},
     "output_type": "execute_result"
    }
   ],
   "source": [
    "users_permissions = permissoes_history_user(historicoUsuarios,data)[0]\n",
    "users_permissions"
   ]
  },
  {
   "cell_type": "code",
   "execution_count": 88,
   "metadata": {},
   "outputs": [],
   "source": [
    "def queryset_to_dict(result_list):\n",
    "    permissoesUsuarios = {}\n",
    "    for a in result_list:\n",
    "        try:\n",
    "            if not permissoesUsuarios.get(a.user.get_full_name()):\n",
    "                permissoesUsuarios[a.user.get_full_name()] = {}\n",
    "            if isinstance(permissoesUsuarios.get(a.user.get_full_name()).get(normalize_month(a.history_date.month, a.history_date.year)),list):\n",
    "                permissoesUsuarios[a.user.get_full_name()][normalize_month(a.history_date.month, a.history_date.year)].append(a.permissions.name)\n",
    "            elif permissoesUsuarios.get(a.user.get_full_name()).get(normalize_month(a.history_date.month, a.history_date.year)):\n",
    "                multi_perm_per_month= permissoesUsuarios.get(a.user.get_full_name()).get(normalize_month(a.history_date.month, a.history_date.year))\n",
    "                permissoesUsuarios[a.user.get_full_name()][normalize_month(a.history_date.month, a.history_date.year)] = [multi_perm_per_month,a.permissions.name]\n",
    "            else:\n",
    "                permissoesUsuarios[a.user.get_full_name()][normalize_month(a.history_date.month, a.history_date.year)] = a.permissions.name\n",
    "        except:\n",
    "            pass\n",
    "    return permissoesUsuarios"
   ]
  },
  {
   "cell_type": "code",
   "execution_count": 104,
   "metadata": {},
   "outputs": [],
   "source": [
    "def cond_ativo_inativo(permissoesUsuarios,mes_referencia):\n",
    "    usuariosAtivos = []\n",
    "    usuariosInativos = []\n",
    "    \n",
    "    for nome, mes in permissoesUsuarios.items():\n",
    "        if mes == {}:\n",
    "            continue\n",
    "        meses = sorted(list(mes.keys()))\n",
    "        item = max(list(mes.keys()))\n",
    "        cargo_atual = mes[item]\n",
    "        \n",
    "        if len(meses) > 1:\n",
    "            if mes[meses[-2]] != 'Inativo':\n",
    "                cargo_antes_de_inativo = True\n",
    "            else:\n",
    "                cargo_antes_de_inativo = False\n",
    "        else:\n",
    "            cargo_antes_de_inativo = False\n",
    "        \n",
    "    # Se em algum momento do mesmo mês o usuário foi diferente de Inativo ele entra como ativo\n",
    "        if isinstance(cargo_atual,list):\n",
    "            if any(cargo for cargo in cargo_atual if cargo !='Inativo') and not any(u for u in usuariosAtivos if nome == u):\n",
    "                usuariosAtivos.append(nome)     \n",
    "    # se o cargo atual for diferente de inativo e não for uma lista(o que configura multiplas permissões no mesmo mês) ele é ativo\n",
    "        elif cargo_atual != 'Inativo' and not isinstance(cargo_atual,list):\n",
    "            usuariosAtivos.append(nome)\n",
    "    # Se no mes anterior ao ultimo ele foi diferente de inativo e no ultimo mes foi Inativo e\n",
    "    # o mes do cargo_atual for igual ao ultimo mes de referencia(ultimo mês pra coleta) e o nome não estiver nos usuariosAtivos\n",
    "    # ele é ativo, pois se nesse mês ele foi colocado como Inativo \n",
    "    # quer dizer que em algum momento do mês de referencia ele foi ativo\n",
    "        elif cargo_antes_de_inativo and cargo_atual == 'Inativo' and item == mes_referencia and not any(u for u in usuariosAtivos if nome == u):\n",
    "            usuariosAtivos.append(nome)       \n",
    "    # se o cargo atual contem a palavra Inativo e não está nos usuariosAtivos então ele é Inativo\n",
    "        elif 'Inativo' in cargo_atual and nome not in usuariosAtivos:\n",
    "            usuariosInativos.append(nome)\n",
    "        else:\n",
    "            print('Corra pras montanhas')\n",
    "    \n",
    "    return usuariosAtivos,usuariosInativos"
   ]
  },
  {
   "cell_type": "code",
   "execution_count": 112,
   "metadata": {},
   "outputs": [],
   "source": [
    "def permissoes_history_user(result_list,mes_ano):\n",
    "    temp_ativo,temp_inativo,usuariosAtivos,usuariosInativos=[],[],[],[]\n",
    "    \n",
    "    permissoesUsuarios = {}\n",
    "    \n",
    "    mes_referencia = normalize_month(mes_ano.month, mes_ano.year)\n",
    "    companies = list(result_list.values_list('company__name',flat=True).order_by('company__name').distinct('company__name'))\n",
    "    \n",
    "    # condições para tratar dos casos de agrupamento de unidades\n",
    "    if len(companies) == 1:\n",
    "        permissoesUsuarios = queryset_to_dict(result_list)\n",
    "        \n",
    "        usuariosAtivos,usuariosInativos=cond_ativo_inativo(permissoesUsuarios,mes_referencia)\n",
    "    \n",
    "    # se há mais de uma unidade quer dizer q foi feito um agrupamentos por unidade e temos que\n",
    "    # iterar sobre cada unidade separadamente, pra no fim retornar a lista de usuários por causa de um erro de o usuário\n",
    "    # estar como inativo numa e ativo na outra\n",
    "    elif len(companies) > 1:\n",
    "        \n",
    "        for company in companies:\n",
    "            result_list_filtered = result_list.filter(company__name=company)\n",
    "            permissoesUsuarios = queryset_to_dict(result_list_filtered)\n",
    "\n",
    "            temp_ativo=cond_ativo_inativo(permissoesUsuarios,mes_referencia)[0] + temp_ativo\n",
    "            temp_inativo=cond_ativo_inativo(permissoesUsuarios,mes_referencia)[1] + temp_inativo\n",
    "            \n",
    "        try:\n",
    "            usuariosInativos = list(set([x for x in temp_inativo if x not in temp_ativo]))\n",
    "            usuariosAtivos = list(set(temp_ativo))\n",
    "        except:\n",
    "            print(usuariosAtivos,usuariosInativos)\n",
    "    return usuariosAtivos,usuariosInativos"
   ]
  },
  {
   "cell_type": "code",
   "execution_count": 116,
   "metadata": {},
   "outputs": [],
   "source": [
    "historicoUsuarios=UserInCompany.history.model.objects.filter(\n",
    "        company__name__in=['Sinalizavia (Municípios)','Sinaliza Via (Rodovias)'],\n",
    "        history_date__lte=data\n",
    "    ).exclude(\n",
    "        user__email__icontains='kartado'\n",
    "    ).exclude(\n",
    "        user__email__icontains='roadlabs'\n",
    "    ).exclude(\n",
    "        user__uuid = '6ca2ac08-7ee0-4587-a0cf-8850f72e1b95'\n",
    "    ).exclude(\n",
    "        user__email__icontains='hermes'\n",
    "    ).order_by( 'history_date','company')"
   ]
  },
  {
   "cell_type": "code",
   "execution_count": 117,
   "metadata": {},
   "outputs": [],
   "source": [
    "users_permissions1 = permissoes_history_user(historicoUsuarios,data)[0] if len(permissoes_history_user(historicoUsuarios,data)[0]) > 0 else 0"
   ]
  },
  {
   "cell_type": "code",
   "execution_count": 118,
   "metadata": {
    "scrolled": true
   },
   "outputs": [
    {
     "data": {
      "text/plain": [
       "((['João Fachini',\n",
       "   'Delbo Rodrigues',\n",
       "   'Heverton Canova',\n",
       "   'Celso dos Santos',\n",
       "   'Celestino Cuchi',\n",
       "   'Paulo Marchel',\n",
       "   'Cleberson Rocha',\n",
       "   'Flávio Soares',\n",
       "   'Ricardo Guilherme',\n",
       "   'José da Costa',\n",
       "   'Jhonatan dos Santos',\n",
       "   'Sergio Deves',\n",
       "   'Luiz Antônio',\n",
       "   'Rafael Carvalho',\n",
       "   'Evandro Pereira'],\n",
       "  ['Eduardo Rezende', 'Marcos Fachini', 'Alessandro Maia']),\n",
       " 15)"
      ]
     },
     "execution_count": 118,
     "metadata": {},
     "output_type": "execute_result"
    }
   ],
   "source": [
    "permissoes_history_user(historicoUsuarios,data),len(users_permissions1)"
   ]
  },
  {
   "cell_type": "code",
   "execution_count": 58,
   "metadata": {},
   "outputs": [],
   "source": [
    "def denormalize_month(normalized_value):\n",
    "    year = 2020 + normalized_value // 12\n",
    "    month = normalized_value % 12\n",
    "    return month, year\n",
    "\n",
    "# Exemplo de uso\n",
    "normalized_value = normalize_month(2, 2024)\n",
    "month, year = denormalize_month(normalized_value)"
   ]
  },
  {
   "cell_type": "code",
   "execution_count": 114,
   "metadata": {},
   "outputs": [
    {
     "data": {
      "text/plain": [
       "50"
      ]
     },
     "execution_count": 114,
     "metadata": {},
     "output_type": "execute_result"
    }
   ],
   "source": [
    "desnormalize_month(2,2024)"
   ]
  },
  {
   "cell_type": "code",
   "execution_count": null,
   "metadata": {},
   "outputs": [],
   "source": []
  }
 ],
 "metadata": {
  "kernelspec": {
   "display_name": "Django Shell-Plus",
   "language": "python",
   "name": "django_extensions"
  },
  "language_info": {
   "codemirror_mode": {
    "name": "ipython",
    "version": 3
   },
   "file_extension": ".py",
   "mimetype": "text/x-python",
   "name": "python",
   "nbconvert_exporter": "python",
   "pygments_lexer": "ipython3",
   "version": "3.8.16"
  }
 },
 "nbformat": 4,
 "nbformat_minor": 2
}
