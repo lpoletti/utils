{
 "cells": [
  {
   "cell_type": "code",
   "execution_count": 1,
   "id": "50fe763d",
   "metadata": {},
   "outputs": [
    {
     "name": "stdout",
     "output_type": "stream",
     "text": [
      "STAGE=PRODUCTION\r\n"
     ]
    }
   ],
   "source": [
    "!cat .env"
   ]
  },
  {
   "cell_type": "code",
   "execution_count": 1,
   "id": "85bf950e",
   "metadata": {},
   "outputs": [],
   "source": [
    "from copy import deepcopy\n",
    "from tqdm.notebook import tqdm\n",
    "from openpyxl import workbook"
   ]
  },
  {
   "cell_type": "code",
   "execution_count": 2,
   "id": "82f6b8a7",
   "metadata": {},
   "outputs": [
    {
     "data": {
      "text/plain": [
       "<Company: 96e24ad5-3b23-461f-9300-85c542576894: CART>"
      ]
     },
     "execution_count": 2,
     "metadata": {},
     "output_type": "execute_result"
    }
   ],
   "source": [
    "company = Company.objects.get(name=\"CART\")\n",
    "company"
   ]
  },
  {
   "cell_type": "code",
   "execution_count": 3,
   "id": "e95d89a2",
   "metadata": {},
   "outputs": [],
   "source": [
    "occurrence = OccurrenceType.objects.filter(company=company)"
   ]
  },
  {
   "cell_type": "code",
   "execution_count": 20,
   "id": "ac1f8cbd",
   "metadata": {},
   "outputs": [
    {
     "data": {
      "text/plain": [
       "{'id': 2,\n",
       " 'apiName': 'demandOrigin',\n",
       " 'dataType': 'selectMultiple',\n",
       " 'displayName': 'Origem',\n",
       " 'selectOptions': {'options': [{'name': 'Interna', 'value': '1'},\n",
       "   {'name': 'KCOR', 'value': '2'},\n",
       "   {'name': 'ARTESP DIN', 'value': '3'},\n",
       "   {'name': 'ARTESP DOP', 'value': '4'},\n",
       "   {'name': 'CCO', 'value': '5'},\n",
       "   {'name': 'EAF-Meio Ambiente', 'value': '6'},\n",
       "   {'name': 'EAF-Conservação', 'value': '7'},\n",
       "   {'name': 'EAF-Operação', 'value': '8'},\n",
       "   {'name': 'EAF-Vistoria', 'value': '9'},\n",
       "   {'name': 'Sistema', 'value': '10'},\n",
       "   {'name': 'Fiscais de campo', 'value': '11'},\n",
       "   {'name': 'Usuário', 'value': '12'},\n",
       "   {'name': 'Ministério Público', 'value': '13'},\n",
       "   {'name': 'Órgão regulador', 'value': '14'},\n",
       "   {'name': 'Monitoração', 'value': '15'},\n",
       "   {'name': 'Prefeitura', 'value': '16'},\n",
       "   {'name': 'Faixa de Dominio', 'value': '17'},\n",
       "   {'name': 'Inspeção elétrica', 'value': '18'},\n",
       "   {'name': 'Jurídico', 'value': '19'},\n",
       "   {'name': 'Município', 'value': '20'},\n",
       "   {'name': 'Inspeção Meio Ambiente', 'value': '21'},\n",
       "   {'name': 'CETESB', 'value': '22'},\n",
       "   {'name': 'Programação Anual ARTESP', 'value': '23'}]}}"
      ]
     },
     "execution_count": 20,
     "metadata": {},
     "output_type": "execute_result"
    }
   ],
   "source": [
    "occurrence[0].form_fields['fields'][1]"
   ]
  },
  {
   "cell_type": "code",
   "execution_count": 23,
   "id": "b4887298",
   "metadata": {},
   "outputs": [
    {
     "data": {
      "application/vnd.jupyter.widget-view+json": {
       "model_id": "196bd326117d4caeafb5413ed1977fe9",
       "version_major": 2,
       "version_minor": 0
      },
      "text/plain": [
       "  0%|          | 0/247 [00:00<?, ?it/s]"
      ]
     },
     "metadata": {},
     "output_type": "display_data"
    }
   ],
   "source": [
    "for a in tqdm(occurrence):\n",
    "    for b in a.form_fields['fields']:\n",
    "        if b['apiName'] == 'demandOrigin':\n",
    "            b['selectOptions']['options'].append({\n",
    "                                                'name':'Ouvidoria',\n",
    "                                                'value':'24'\n",
    "                                                })\n",
    "            a.save()"
   ]
  },
  {
   "cell_type": "code",
   "execution_count": 24,
   "id": "5c50b303",
   "metadata": {},
   "outputs": [],
   "source": [
    "created=User.objects.get(uuid='508a66f3-3f58-4c4e-bc9a-fbba6078c02d')"
   ]
  },
  {
   "cell_type": "code",
   "execution_count": 48,
   "id": "0f8ed8a3",
   "metadata": {
    "scrolled": true
   },
   "outputs": [
    {
     "data": {
      "text/plain": [
       "<OccurrenceType: Luan Classe Teste 1 - []>"
      ]
     },
     "execution_count": 48,
     "metadata": {},
     "output_type": "execute_result"
    }
   ],
   "source": [
    "OccurrenceType.objects.create(name=\"Luan Classe Teste 1\", form_fields = ff_capina,occurrence_kind='701',created_by=created)"
   ]
  },
  {
   "cell_type": "code",
   "execution_count": 38,
   "id": "a011d6f1",
   "metadata": {},
   "outputs": [
    {
     "data": {
      "text/plain": [
       "(2,\n",
       " {'occurrence_records.OccurrenceTypeSpecs': 1,\n",
       "  'occurrence_records.OccurrenceType': 1})"
      ]
     },
     "execution_count": 38,
     "metadata": {},
     "output_type": "execute_result"
    }
   ],
   "source": [
    "occurLuan = OccurrenceType.objects.filter(name='Luan Classe Teste 2')\n",
    "occurLuan[0].delete()"
   ]
  },
  {
   "cell_type": "code",
   "execution_count": 26,
   "id": "adfcf2ab",
   "metadata": {},
   "outputs": [],
   "source": [
    "ffLuanTeste = deepcopy(occurLuan.form_fields)"
   ]
  },
  {
   "cell_type": "code",
   "execution_count": 16,
   "id": "98bce767",
   "metadata": {},
   "outputs": [],
   "source": [
    "specs = OccurrenceTypeSpecs(occurrence_type=occurLuan,company=company)"
   ]
  },
  {
   "cell_type": "code",
   "execution_count": 17,
   "id": "774352a0",
   "metadata": {
    "collapsed": true
   },
   "outputs": [
    {
     "data": {
      "text/plain": [
       "{'_state': <django.db.models.base.ModelState at 0x7f5a1d981bd0>,\n",
       " 'uuid': UUID('1c044d10-7ac7-47f8-9045-e10ed6082f09'),\n",
       " 'name': 'Luan Classe Teste 1',\n",
       " 'occurrence_kind': '701',\n",
       " 'form_fields': {'id': 1,\n",
       "  'name': 'job10',\n",
       "  'fields': [{'id': 1,\n",
       "    'logic': 'b.1.3.',\n",
       "    'apiName': 'contratualCode',\n",
       "    'dataType': 'jsonLogic',\n",
       "    'displayName': 'Código de Edital'},\n",
       "   {'id': 2,\n",
       "    'logic': '7',\n",
       "    'apiName': 'csp',\n",
       "    'dataType': 'jsonLogic',\n",
       "    'displayName': 'CSP'},\n",
       "   {'id': 3,\n",
       "    'apiName': 'demandOrigin',\n",
       "    'dataType': 'selectMultiple',\n",
       "    'displayName': 'Origem',\n",
       "    'selectOptions': {'options': [{'name': 'Interna', 'value': '1'},\n",
       "      {'name': 'KCOR', 'value': '2'},\n",
       "      {'name': 'ARTESP DIN', 'value': '3'},\n",
       "      {'name': 'ARTESP DOP', 'value': '4'}]}},\n",
       "   {'id': 4,\n",
       "    'apiName': 'artespCode',\n",
       "    'dataType': 'string',\n",
       "    'display_if': {'or': [{'in': ['3', {'var': 'data.formData.demandOrigin'}]},\n",
       "      {'in': ['4', {'var': 'data.formData.demandOrigin'}]}]},\n",
       "    'displayName': 'Código ARTESP'},\n",
       "   {'id': 5,\n",
       "    'apiName': 'receivedDate',\n",
       "    'dataType': 'timestamp',\n",
       "    'display_if': {'or': [{'in': ['3', {'var': 'data.formData.demandOrigin'}]},\n",
       "      {'in': ['4', {'var': 'data.formData.demandOrigin'}]}]},\n",
       "    'displayName': 'Recebido da ARTESP em'},\n",
       "   {'id': 6,\n",
       "    'apiName': 'kcorCode',\n",
       "    'dataType': 'string',\n",
       "    'display_if': {'in': ['2', {'var': 'data.formData.demandOrigin'}]},\n",
       "    'displayName': 'Cód KCOR'},\n",
       "   {'id': 7,\n",
       "    'apiName': 'internCode',\n",
       "    'dataType': 'string',\n",
       "    'display_if': {'in': ['1', {'var': 'data.formData.demandOrigin'}]},\n",
       "    'displayName': 'Cód interno'},\n",
       "   {'id': 8,\n",
       "    'apiName': 'lot',\n",
       "    'dataType': 'select',\n",
       "    'displayName': 'Lote',\n",
       "    'selectOptions': {'options': [{'name': 'Lote 1', 'value': '1'},\n",
       "      {'name': 'Lote 2', 'value': '2'},\n",
       "      {'name': 'Lote 3', 'value': '3'},\n",
       "      {'name': 'Lote 4', 'value': '4'}]}},\n",
       "   {'id': 9,\n",
       "    'apiName': 'length',\n",
       "    'dataType': 'float',\n",
       "    'displayName': 'Comprimento (m)'},\n",
       "   {'id': 10,\n",
       "    'apiName': 'width',\n",
       "    'dataType': 'float',\n",
       "    'displayName': 'Largura (m)'},\n",
       "   {'id': 11,\n",
       "    'logic': {'if': [{'missing': ['formData.length', 'formData.width']},\n",
       "      0,\n",
       "      {'*': [{'var': 'formData.length'}, {'var': 'formData.width'}]}]},\n",
       "    'apiName': 'area',\n",
       "    'dataType': 'jsonLogic',\n",
       "    'displayName': 'Área (m²)'},\n",
       "   {'id': 12,\n",
       "    'apiName': 'notes',\n",
       "    'dataType': 'textArea',\n",
       "    'displayName': 'Observações'}],\n",
       "  'groups': [{'order': 1,\n",
       "    'members': [1, 2, 3, 4, 5, 6, 7, 8],\n",
       "    'displayName': 'Identificação'},\n",
       "   {'order': 2, 'members': [9, 10, 11], 'displayName': 'Quantitativos'},\n",
       "   {'order': 3, 'members': [12], 'displayName': 'Informações adicionais'}],\n",
       "  'displayName': 'Capina',\n",
       "  'measurementColumns': [{'key': 'contratualCode',\n",
       "    'logic': 'b.1.3.',\n",
       "    'width': 12,\n",
       "    'header': 'Código de Edital'},\n",
       "   {'key': 'csp', 'logic': '7', 'width': 8, 'header': 'CSP'},\n",
       "   {'key': 'demandOrigin',\n",
       "    'logic': {'cat': [{'if': [{'in': ['1', {'var': 'formData.demandOrigin'}]},\n",
       "        'Demanda Interna ',\n",
       "        '']},\n",
       "      {'if': [{'in': ['2', {'var': 'formData.demandOrigin'}]},\n",
       "        'Demanda Kcor ',\n",
       "        '']},\n",
       "      {'if': [{'in': ['3', {'var': 'formData.demandOrigin'}]},\n",
       "        'Demanda ARTESP DIN ',\n",
       "        '']},\n",
       "      {'if': [{'in': ['4', {'var': 'formData.demandOrigin'}]},\n",
       "        'Demanda ARTESP DOP ',\n",
       "        '']}]},\n",
       "    'width': 8,\n",
       "    'header': 'Origem'},\n",
       "   {'key': 'artespCode',\n",
       "    'logic': {'var': 'formData.artespCode'},\n",
       "    'width': 8,\n",
       "    'header': 'Código ARTESP'},\n",
       "   {'key': 'receivedDate',\n",
       "    'logic': {'var': 'formData.receivedDate'},\n",
       "    'width': 12,\n",
       "    'header': 'Data de Recebimento da ARTESP'},\n",
       "   {'key': 'kcorCode',\n",
       "    'logic': {'var': 'formData.kcorCode'},\n",
       "    'width': 12,\n",
       "    'header': 'Código kcor'},\n",
       "   {'key': 'internCode',\n",
       "    'logic': {'var': 'formData.internCode'},\n",
       "    'width': 12,\n",
       "    'header': 'Código interno'},\n",
       "   {'key': 'lot',\n",
       "    'logic': {'if': [{'==': [{'var': 'formData.lot'}, 1]},\n",
       "      'Lote 1',\n",
       "      {'==': [{'var': 'formData.lot'}, 2]},\n",
       "      'Lote 2',\n",
       "      {'==': [{'var': 'formData.lot'}, 3]},\n",
       "      'Lote 3',\n",
       "      {'==': [{'var': 'formData.lot'}, 4]},\n",
       "      'Lote 4']},\n",
       "    'width': 18,\n",
       "    'header': 'Lote'},\n",
       "   {'key': 'length',\n",
       "    'style': {'numFmt': '0.00'},\n",
       "    'width': 12,\n",
       "    'header': 'Comprimento (m)'},\n",
       "   {'key': 'width',\n",
       "    'style': {'numFmt': '0.00'},\n",
       "    'width': 12,\n",
       "    'header': 'Largura (m)'},\n",
       "   {'key': 'area',\n",
       "    'logic': {'if': [{'missing': ['formData.length', 'formData.width']},\n",
       "      0,\n",
       "      {'*': [{'var': 'formData.length'}, {'var': 'formData.width'}]}]},\n",
       "    'style': {'numFmt': '0.000'},\n",
       "    'width': 12,\n",
       "    'header': 'Área (m²)',\n",
       "    'addTotal': True},\n",
       "   {'key': 'notes',\n",
       "    'logic': {'var': 'formData.notes'},\n",
       "    'width': 20,\n",
       "    'header': 'Observações'}]},\n",
       " 'goal_formula': [],\n",
       " 'monitoring_plan_id': None,\n",
       " 'created_at': datetime.datetime(2023, 1, 27, 20, 34, 3, 523514, tzinfo=<UTC>),\n",
       " 'updated_at': datetime.datetime(2023, 1, 27, 20, 34, 3, 523551, tzinfo=<UTC>),\n",
       " 'created_by_id': UUID('508a66f3-3f58-4c4e-bc9a-fbba6078c02d'),\n",
       " 'deadline': None,\n",
       " 'active': True,\n",
       " 'previous_version_id': None,\n",
       " 'is_oae': False,\n",
       " 'repetition': {}}"
      ]
     },
     "execution_count": 17,
     "metadata": {},
     "output_type": "execute_result"
    }
   ],
   "source": [
    "occurLuan.__dict__"
   ]
  },
  {
   "cell_type": "code",
   "execution_count": 18,
   "id": "4eb42cf2",
   "metadata": {},
   "outputs": [],
   "source": [
    "specs.save()"
   ]
  },
  {
   "cell_type": "code",
   "execution_count": 20,
   "id": "8698c2eb",
   "metadata": {},
   "outputs": [
    {
     "data": {
      "text/plain": [
       "<Company: f0b6948c-3d75-47dd-94a6-4b8ea4373ce4: Demo Concessionárias>"
      ]
     },
     "execution_count": 20,
     "metadata": {},
     "output_type": "execute_result"
    }
   ],
   "source": [
    "company"
   ]
  },
  {
   "cell_type": "code",
   "execution_count": 39,
   "id": "d412122a",
   "metadata": {},
   "outputs": [],
   "source": [
    "classesNovas = ['Luan Classe Teste 3','Luan Classe Teste 4']"
   ]
  },
  {
   "cell_type": "code",
   "execution_count": 40,
   "id": "c88fb13d",
   "metadata": {},
   "outputs": [],
   "source": [
    "for classeNova in classesNovas:\n",
    "    ocNew=OccurrenceType(name=classeNova,form_fields=ffLuanTeste,occurrence_kind='701',created_by=created)\n",
    "    ocNew.save()\n",
    "    oSNew=OccurrenceTypeSpecs(occurrence_type=ocNew,company=company)\n",
    "    oSNew.save()"
   ]
  },
  {
   "cell_type": "code",
   "execution_count": 60,
   "id": "13ce1a79",
   "metadata": {},
   "outputs": [
    {
     "data": {
      "text/plain": [
       "4"
      ]
     },
     "execution_count": 60,
     "metadata": {},
     "output_type": "execute_result"
    }
   ],
   "source": [
    "classesNovas = OccurrenceType.objects.filter(name__startswith='Luan Classe')\n",
    "classesNovas.count()"
   ]
  },
  {
   "cell_type": "code",
   "execution_count": 61,
   "id": "a3f26fda",
   "metadata": {},
   "outputs": [
    {
     "data": {
      "application/vnd.jupyter.widget-view+json": {
       "model_id": "aa2bd20ec2554015a7810d309dbecab8",
       "version_major": 2,
       "version_minor": 0
      },
      "text/plain": [
       "  0%|          | 0/4 [00:00<?, ?it/s]"
      ]
     },
     "metadata": {},
     "output_type": "display_data"
    }
   ],
   "source": [
    "for ac in tqdm(classesNovas):\n",
    "    size = len(ac.form_fields['fields'])\n",
    "    sizeOrder = len(ac.form_fields['groups'])\n",
    "    ac.form_fields['fields'].append({\n",
    "                                    \"id\": size + 1,\n",
    "                                    \"apiName\": \"stopAndGo\",\n",
    "                                    \"dataType\": \"boolean\",\n",
    "                                    \"displayName\": \"Interdidato?\"\n",
    "                                })\n",
    "    ac.form_fields['fields'].append({\n",
    "                                    \"id\": size + 2,\n",
    "                                    \"apiName\": \"shift\",\n",
    "                                    \"dataType\": \"select\",\n",
    "                                    \"displayName\": \"Turno\",\n",
    "                                    \"selectOptions\": {\n",
    "                                        \"options\": [{\n",
    "                                            \"name\": \"Manhã\",\n",
    "                                            \"value\": \"1\"\n",
    "                                        }, {\n",
    "                                            \"name\": \"Noite\",\n",
    "                                            \"value\": \"2\"\n",
    "                                        }],\n",
    "                                    \"displayIf\": {'===': [{'var':'data.formData.stopAndGo'}, True]}\n",
    "                                    }\n",
    "                                })\n",
    "    ac.form_fields['fields'].append({\n",
    "                                    \"id\": size + 3,\n",
    "                                    \"apiName\": \"interditionType\",\n",
    "                                    \"dataType\": \"select\",\n",
    "                                    \"displayName\": \"Tipo de Interdição\",\n",
    "                                    \"selectOptions\": {\n",
    "                                        \"options\": [{\n",
    "                                            \"name\": \"Pare e Pare\",\n",
    "                                            \"value\": \"1\"\n",
    "                                        }, {\n",
    "                                            \"name\": \"Pare e Siga\",\n",
    "                                            \"value\": \"2\"\n",
    "                                        }],\n",
    "                                    \"displayIf\": {'===': [{'var':'data.formData.stopAndGo'}, True]}\n",
    "                                    }\n",
    "                                })\n",
    "    ac.form_fields['groups'].append({\n",
    "                                    \"order\": sizeOrder +1,\n",
    "                                    \"members\": [size+1,size+2,size+3],\n",
    "                                    \"displayName\": \"Informações teste Luan\"\n",
    "                                })\n",
    "    ac.save()"
   ]
  },
  {
   "cell_type": "code",
   "execution_count": 59,
   "id": "9468b8d9",
   "metadata": {
    "collapsed": true
   },
   "outputs": [
    {
     "data": {
      "text/plain": [
       "{'id': 1,\n",
       " 'name': 'job10',\n",
       " 'fields': [{'id': 1,\n",
       "   'logic': 'b.1.3.',\n",
       "   'apiName': 'contratualCode',\n",
       "   'dataType': 'jsonLogic',\n",
       "   'displayName': 'Código de Edital'},\n",
       "  {'id': 2,\n",
       "   'logic': '7',\n",
       "   'apiName': 'csp',\n",
       "   'dataType': 'jsonLogic',\n",
       "   'displayName': 'CSP'},\n",
       "  {'id': 3,\n",
       "   'apiName': 'demandOrigin',\n",
       "   'dataType': 'selectMultiple',\n",
       "   'displayName': 'Origem',\n",
       "   'selectOptions': {'options': [{'name': 'Interna', 'value': '1'},\n",
       "     {'name': 'KCOR', 'value': '2'},\n",
       "     {'name': 'ARTESP DIN', 'value': '3'},\n",
       "     {'name': 'ARTESP DOP', 'value': '4'}]}},\n",
       "  {'id': 4,\n",
       "   'apiName': 'artespCode',\n",
       "   'dataType': 'string',\n",
       "   'display_if': {'or': [{'in': ['3', {'var': 'data.formData.demandOrigin'}]},\n",
       "     {'in': ['4', {'var': 'data.formData.demandOrigin'}]}]},\n",
       "   'displayName': 'Código ARTESP'},\n",
       "  {'id': 5,\n",
       "   'apiName': 'receivedDate',\n",
       "   'dataType': 'timestamp',\n",
       "   'display_if': {'or': [{'in': ['3', {'var': 'data.formData.demandOrigin'}]},\n",
       "     {'in': ['4', {'var': 'data.formData.demandOrigin'}]}]},\n",
       "   'displayName': 'Recebido da ARTESP em'},\n",
       "  {'id': 6,\n",
       "   'apiName': 'kcorCode',\n",
       "   'dataType': 'string',\n",
       "   'display_if': {'in': ['2', {'var': 'data.formData.demandOrigin'}]},\n",
       "   'displayName': 'Cód KCOR'},\n",
       "  {'id': 7,\n",
       "   'apiName': 'internCode',\n",
       "   'dataType': 'string',\n",
       "   'display_if': {'in': ['1', {'var': 'data.formData.demandOrigin'}]},\n",
       "   'displayName': 'Cód interno'},\n",
       "  {'id': 8,\n",
       "   'apiName': 'lot',\n",
       "   'dataType': 'select',\n",
       "   'displayName': 'Lote',\n",
       "   'selectOptions': {'options': [{'name': 'Lote 1', 'value': '1'},\n",
       "     {'name': 'Lote 2', 'value': '2'},\n",
       "     {'name': 'Lote 3', 'value': '3'},\n",
       "     {'name': 'Lote 4', 'value': '4'}]}},\n",
       "  {'id': 9,\n",
       "   'apiName': 'length',\n",
       "   'dataType': 'float',\n",
       "   'displayName': 'Comprimento (m)'},\n",
       "  {'id': 10,\n",
       "   'apiName': 'width',\n",
       "   'dataType': 'float',\n",
       "   'displayName': 'Largura (m)'},\n",
       "  {'id': 11,\n",
       "   'logic': {'if': [{'missing': ['formData.length', 'formData.width']},\n",
       "     0,\n",
       "     {'*': [{'var': 'formData.length'}, {'var': 'formData.width'}]}]},\n",
       "   'apiName': 'area',\n",
       "   'dataType': 'jsonLogic',\n",
       "   'displayName': 'Área (m²)'},\n",
       "  {'id': 12,\n",
       "   'apiName': 'notes',\n",
       "   'dataType': 'textArea',\n",
       "   'displayName': 'Observações'},\n",
       "  {'id': 13,\n",
       "   'apiName': 'stopAndGo',\n",
       "   'dataType': 'boolean',\n",
       "   'displayName': 'Interdidato?'},\n",
       "  {'id': 14,\n",
       "   'apiName': 'shift',\n",
       "   'dataType': 'select',\n",
       "   'displayName': 'Turno',\n",
       "   'selectOptions': {'options': [{'name': 'Manhã', 'value': '1'},\n",
       "     {'name': 'Noite', 'value': '2'}],\n",
       "    'displayIf': {'===': [{'var': 'data.formData.stopAndGo'}, True]}}},\n",
       "  {'id': 15,\n",
       "   'apiName': 'interditionType',\n",
       "   'dataType': 'select',\n",
       "   'displayName': 'Tipo de Interdição',\n",
       "   'selectOptions': {'options': [{'name': 'Pare e Pare', 'value': '1'},\n",
       "     {'name': 'Pare e Siga', 'value': '2'}],\n",
       "    'displayIf': {'===': [{'var': 'data.formData.stopAndGo'}, True]}}}],\n",
       " 'groups': [{'order': 1,\n",
       "   'members': [1, 2, 3, 4, 5, 6, 7, 8],\n",
       "   'displayName': 'Identificação'},\n",
       "  {'order': 2, 'members': [9, 10, 11], 'displayName': 'Quantitativos'},\n",
       "  {'order': 3, 'members': [12], 'displayName': 'Informações adicionais'},\n",
       "  {'order': 4,\n",
       "   'members': [13, 14, 15],\n",
       "   'displayName': 'Informações teste Luan'}],\n",
       " 'displayName': 'Capina',\n",
       " 'measurementColumns': [{'key': 'contratualCode',\n",
       "   'logic': 'b.1.3.',\n",
       "   'width': 12,\n",
       "   'header': 'Código de Edital'},\n",
       "  {'key': 'csp', 'logic': '7', 'width': 8, 'header': 'CSP'},\n",
       "  {'key': 'demandOrigin',\n",
       "   'logic': {'cat': [{'if': [{'in': ['1', {'var': 'formData.demandOrigin'}]},\n",
       "       'Demanda Interna ',\n",
       "       '']},\n",
       "     {'if': [{'in': ['2', {'var': 'formData.demandOrigin'}]},\n",
       "       'Demanda Kcor ',\n",
       "       '']},\n",
       "     {'if': [{'in': ['3', {'var': 'formData.demandOrigin'}]},\n",
       "       'Demanda ARTESP DIN ',\n",
       "       '']},\n",
       "     {'if': [{'in': ['4', {'var': 'formData.demandOrigin'}]},\n",
       "       'Demanda ARTESP DOP ',\n",
       "       '']}]},\n",
       "   'width': 8,\n",
       "   'header': 'Origem'},\n",
       "  {'key': 'artespCode',\n",
       "   'logic': {'var': 'formData.artespCode'},\n",
       "   'width': 8,\n",
       "   'header': 'Código ARTESP'},\n",
       "  {'key': 'receivedDate',\n",
       "   'logic': {'var': 'formData.receivedDate'},\n",
       "   'width': 12,\n",
       "   'header': 'Data de Recebimento da ARTESP'},\n",
       "  {'key': 'kcorCode',\n",
       "   'logic': {'var': 'formData.kcorCode'},\n",
       "   'width': 12,\n",
       "   'header': 'Código kcor'},\n",
       "  {'key': 'internCode',\n",
       "   'logic': {'var': 'formData.internCode'},\n",
       "   'width': 12,\n",
       "   'header': 'Código interno'},\n",
       "  {'key': 'lot',\n",
       "   'logic': {'if': [{'==': [{'var': 'formData.lot'}, 1]},\n",
       "     'Lote 1',\n",
       "     {'==': [{'var': 'formData.lot'}, 2]},\n",
       "     'Lote 2',\n",
       "     {'==': [{'var': 'formData.lot'}, 3]},\n",
       "     'Lote 3',\n",
       "     {'==': [{'var': 'formData.lot'}, 4]},\n",
       "     'Lote 4']},\n",
       "   'width': 18,\n",
       "   'header': 'Lote'},\n",
       "  {'key': 'length',\n",
       "   'style': {'numFmt': '0.00'},\n",
       "   'width': 12,\n",
       "   'header': 'Comprimento (m)'},\n",
       "  {'key': 'width',\n",
       "   'style': {'numFmt': '0.00'},\n",
       "   'width': 12,\n",
       "   'header': 'Largura (m)'},\n",
       "  {'key': 'area',\n",
       "   'logic': {'if': [{'missing': ['formData.length', 'formData.width']},\n",
       "     0,\n",
       "     {'*': [{'var': 'formData.length'}, {'var': 'formData.width'}]}]},\n",
       "   'style': {'numFmt': '0.000'},\n",
       "   'width': 12,\n",
       "   'header': 'Área (m²)',\n",
       "   'addTotal': True},\n",
       "  {'key': 'notes',\n",
       "   'logic': {'var': 'formData.notes'},\n",
       "   'width': 20,\n",
       "   'header': 'Observações'}]}"
      ]
     },
     "execution_count": 59,
     "metadata": {},
     "output_type": "execute_result"
    }
   ],
   "source": [
    "ac.form_fields"
   ]
  }
 ],
 "metadata": {
  "kernelspec": {
   "display_name": "Django Shell-Plus",
   "language": "python",
   "name": "django_extensions"
  },
  "language_info": {
   "codemirror_mode": {
    "name": "ipython",
    "version": 3
   },
   "file_extension": ".py",
   "mimetype": "text/x-python",
   "name": "python",
   "nbconvert_exporter": "python",
   "pygments_lexer": "ipython3",
   "version": "3.7.9"
  }
 },
 "nbformat": 4,
 "nbformat_minor": 5
}
