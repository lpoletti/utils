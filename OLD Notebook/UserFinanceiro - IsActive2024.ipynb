{
 "cells": [
  {
   "cell_type": "code",
   "execution_count": 20,
   "metadata": {},
   "outputs": [],
   "source": [
    "from collections import defaultdict\n",
    "from django.db.models.signals import *\n",
    "import pandas as pd\n",
    "from itertools import chain\n",
    "from tqdm.notebook import tqdm\n",
    "import datetime\n",
    "import calendar\n",
    "import numpy as np\n",
    "from django.db.models import Q\n",
    "import pytz"
   ]
  },
  {
   "cell_type": "code",
   "execution_count": 21,
   "metadata": {},
   "outputs": [],
   "source": [
    "def normalize_month(month, year):\n",
    "    return month + 12*(year - 2020)"
   ]
  },
  {
   "cell_type": "code",
   "execution_count": 22,
   "metadata": {},
   "outputs": [
    {
     "data": {
      "text/plain": [
       "51"
      ]
     },
     "execution_count": 22,
     "metadata": {},
     "output_type": "execute_result"
    }
   ],
   "source": [
    "normalize_month(3, 2024)"
   ]
  },
  {
   "cell_type": "raw",
   "metadata": {},
   "source": [
    "\"\"\"\n",
    "Solicitações possiveis:\n",
    "\n",
    "- Criação/Exclusão pelo banco\n",
    "- Múltiplas solicitações no mesmo mês\n",
    "- Se em algum momento do mês ele foi ativo\n",
    "- Se na solicitação anterior ele foi diferente de inativo e no ultimo mês foi colocado como inativo\n",
    "\n",
    "\"\"\""
   ]
  },
  {
   "cell_type": "code",
   "execution_count": 23,
   "metadata": {},
   "outputs": [],
   "source": [
    "def is_valid(cnpj):\n",
    "    try:\n",
    "        cnpj = int(cnpj.replace('.', '').replace('/', '').replace('-', ''))\n",
    "        return True\n",
    "    except:\n",
    "        return False"
   ]
  },
  {
   "cell_type": "code",
   "execution_count": 24,
   "metadata": {},
   "outputs": [],
   "source": [
    "def users_ativos_inativos(query,data_inicio,data_fim):\n",
    "    counterAtivo,counterInativo=0,0\n",
    "    userAtivo=[]\n",
    "    userInativo=[]\n",
    "    uic=query.order_by('user','-history_date').distinct('user')\n",
    "    for i,a in enumerate(uic):\n",
    "        try: # Try necessário pois teve usuário que foi deletado e da problema na geração do script\n",
    "            inactivated_this_month=query.filter(is_active=False,\n",
    "                                                user=a.user,\n",
    "                                                history_date__gte=data_inicio,\n",
    "                                                history_date__lte=data_fim).exists()\n",
    "            history_date = a.history_date\n",
    "            if history_date>data_inicio:\n",
    "                resto=(history_date - data_inicio).days\n",
    "            else:\n",
    "                resto=(data_inicio - history_date).days\n",
    "\n",
    "            if a.is_active==False:\n",
    "                \n",
    "                if inactivated_this_month:\n",
    "                    if a.user.username not in [c[3] for c in userAtivo]:\n",
    "                        resto=(a.history_date - data_inicio).days\n",
    "                        userAtivo.append((a.user.get_full_name(),a.permissions.name,resto,a.user.username))\n",
    "#                     else:\n",
    "#                         print('repetido',a.user.username,a.user.get_full_name())\n",
    "                        counterAtivo+=1\n",
    "                else:\n",
    "                    if a.user.username not in [c[3] for c in userInativo]:\n",
    "                        userInativo.append((a.user.get_full_name(),a.permissions.name,\"\",a.user.username))\n",
    "                        counterInativo+=1\n",
    "    #                 print('pulou',a.user.get_full_name())\n",
    "            else:\n",
    "                if a.user.username not in [c[3] for c in userAtivo]:\n",
    "                    userAtivo.append((a.user.get_full_name(),a.permissions.name,resto,a.user.username))\n",
    "#                 else:\n",
    "#                     print('repetido',a.user.username,a.user.get_full_name())\n",
    "                counterAtivo+=1\n",
    "        except Exception as e:\n",
    "            pass\n",
    "    return userAtivo,userInativo"
   ]
  },
  {
   "cell_type": "code",
   "execution_count": 25,
   "metadata": {},
   "outputs": [],
   "source": [
    "def permissoes_history_user(result_list,data_inicio,data_fim):\n",
    "    temp_ativo,temp_inativo,usuariosAtivos,usuariosInativos=[],[],[],[]\n",
    "        \n",
    "    companies = list(result_list.values_list('company__name',flat=True).order_by('company__name').distinct('company__name'))\n",
    "    \n",
    "    # condições para tratar dos casos de agrupamento de unidades\n",
    "    if len(companies) == 1:\n",
    "        usuariosAtivos,usuariosInativos=users_ativos_inativos(result_list,data_inicio,data_fim)\n",
    "    \n",
    "    # se há mais de uma unidade quer dizer q foi feito um agrupamentos por unidade e temos que\n",
    "    # iterar sobre cada unidade separadamente, pra no fim retornar a lista de usuários por causa de um erro de o usuário\n",
    "    # estar como inativo numa e ativo na outra\n",
    "    elif len(companies) > 1:\n",
    "        \n",
    "        for company in companies:\n",
    "            result_list_filtered = result_list.filter(company__name=company)\n",
    "            \n",
    "            usuariosAtivos,usuariosInativos=users_ativos_inativos(result_list_filtered,data_inicio,data_fim)\n",
    "            \n",
    "            temp_ativo=users_ativos_inativos(result_list_filtered,data_inicio,data_fim)[0] + temp_ativo\n",
    "            temp_inativo=users_ativos_inativos(result_list_filtered,data_inicio,data_fim)[1] + temp_inativo\n",
    "            \n",
    "        try:\n",
    "            usuariosInativos = list(set([x for x in temp_inativo if x not in temp_ativo]))\n",
    "            usuariosAtivos = list(set(temp_ativo))\n",
    "        except:\n",
    "            print(usuariosAtivos,usuariosInativos)\n",
    "    return usuariosAtivos,usuariosInativos"
   ]
  },
  {
   "cell_type": "code",
   "execution_count": 26,
   "metadata": {},
   "outputs": [
    {
     "data": {
      "text/plain": [
       "(31, 5, 2024)"
      ]
     },
     "execution_count": 26,
     "metadata": {},
     "output_type": "execute_result"
    }
   ],
   "source": [
    "# Mês e ano para coleta dos usuários\n",
    "mes=5\n",
    "ano=2024\n",
    "dia = calendar.monthrange(ano, mes)[1]\n",
    "dia,mes,ano"
   ]
  },
  {
   "cell_type": "code",
   "execution_count": 27,
   "metadata": {},
   "outputs": [
    {
     "data": {
      "text/plain": [
       "(datetime.datetime(2024, 5, 31, 3, 0, tzinfo=<UTC>),\n",
       " datetime.datetime(2024, 5, 1, 0, 0, tzinfo=<UTC>))"
      ]
     },
     "execution_count": 27,
     "metadata": {},
     "output_type": "execute_result"
    }
   ],
   "source": [
    "# DATA sempre referente ao mês que se quer coletar nesse formato history_date__lte='2024-01-31 03:00:00'\n",
    "# é utilizado 3 horas da manha pois é a pra fechar com o horario de meio noite do servidor\n",
    "utc=pytz.UTC\n",
    "today_date = timezone.now()\n",
    "data_fim = datetime.datetime(ano,mes,dia,3,0,0).replace(tzinfo=utc)\n",
    "data_inicio = datetime.datetime(ano,mes,1).replace(tzinfo=utc)\n",
    "data_fim,data_inicio"
   ]
  },
  {
   "cell_type": "code",
   "execution_count": 28,
   "metadata": {},
   "outputs": [],
   "source": [
    "cnpjs=[a for a in Company.objects.filter(\n",
    "    active=True).exclude(\n",
    "    cnpj='00000000000000').exclude(name='Entrevias').distinct(\n",
    "    'cnpj').order_by().values_list(\n",
    "    'cnpj',flat=True)]\n",
    "companies=cnpjs+[a for a in Company.objects.filter(\n",
    "    active=True,cnpj='00000000000000').exclude(\n",
    "    name__icontains='kartado').exclude(\n",
    "    name='Entrevias').order_by(\n",
    "    'name').values_list(\n",
    "    'name',flat=True)]+['Entrevias']"
   ]
  },
  {
   "cell_type": "code",
   "execution_count": 29,
   "metadata": {},
   "outputs": [],
   "source": [
    "# companies=['Arteris Via Paulista']"
   ]
  },
  {
   "cell_type": "code",
   "execution_count": 30,
   "metadata": {},
   "outputs": [],
   "source": [
    "filename='Usuários Ativos Staging'\n",
    "pd.DataFrame().to_excel(filename+'.xlsx')"
   ]
  },
  {
   "cell_type": "code",
   "execution_count": 31,
   "metadata": {},
   "outputs": [
    {
     "data": {
      "application/vnd.jupyter.widget-view+json": {
       "model_id": "7265a69da7a44243b36c0b8ef6dbf896",
       "version_major": 2,
       "version_minor": 0
      },
      "text/plain": [
       "  0%|          | 0/36 [00:00<?, ?it/s]"
      ]
     },
     "metadata": {},
     "output_type": "display_data"
    },
    {
     "name": "stdout",
     "output_type": "stream",
     "text": [
      "1\n",
      "00.000.000/0000-00 <QuerySet ['Teste - Inteligência']>\n",
      "151\n",
      "02.474.103/0008-95 <QuerySet ['OLD UHE-PASSO FUNDO']>\n",
      "124\n",
      "02.474.103/0009-76 <QuerySet ['OLD UHE-SALTO OSORIO']>\n",
      "409\n",
      "02474103/0012-71 <QuerySet ['GEH', 'OLD UHE-ITA', 'PCH-JOSÉ GELÁZIO DA ROCHA', 'PCH-RONDONÓPOLIS', 'POC-Projeto APR', 'Porto Itapoá', 'Projeto Formulários Arteris', 'SETA', 'UHE-CANA BRAVA', 'UHE-ESTREITO', 'UHE-ITA', 'UHE-JAGUARA', 'UHE-MACHADINHO', 'UHE-MIRANDA', 'UHE-PASSO FUNDO', 'UHE-PONTE DE PEDRA', 'UHE-SALTO OSORIO', 'UHE-SALTO SANTIAGO', 'UHE-SÃO SALVADOR']>\n",
      "70\n",
      "02.474.103/0014-33 <QuerySet ['OLD UHE-CANA BRAVA']>\n",
      "63\n",
      "02.474.103/0018-67 <QuerySet ['OLD UHE-SÃO SALVADOR']>\n",
      "140\n",
      "02.474.103/0019-48 <QuerySet ['OLD PCH-JOSÉ GELÁZIO DA ROCHA', 'OLD PCH-RONDONÓPOLIS', 'OLD UHE-PONTE DE PEDRA']>\n",
      "118\n",
      "02.955.426/0001-24 <QuerySet ['Campina Grande', 'ELO Teste', 'Neovia Campo Mourão 213/2019', 'Neovia Planalto Sul', 'Neovia Regis', 'Neovia Tijucas']>\n",
      "330\n",
      "02.955.426/0002-05 <QuerySet ['Neovia Araquari 886/2020', 'Neovia Bocaína do Sul 329/2018', 'Neovia General Carneiro', 'Neovia Lages 421/2014', 'Neovia Lages 652/2019', 'Neovia Lagoa Vermelha', 'Neovia Rancho Queimado 080/2021', 'Neovia São Bento 533/2014', 'Neovia Teste', 'Neovia - TESTE', 'Neovia Vacaria']>\n",
      "169\n",
      "03.064.917/0001-48 <QuerySet ['OLD UHE-MACHADINHO']>\n",
      "70\n",
      "05.337.024/0001-54 <QuerySet ['Demo Concessionárias - 10/2020']>\n",
      "102\n",
      "08.976.022/0001-01 <QuerySet ['OLD UHE-ESTREITO']>\n",
      "1090\n",
      "09.325.109/0001-73 <QuerySet ['Arteris Intervias', 'Arteris Litoral Sul Lab', 'Arteris Planalto Sul', 'Arteris Planalto Sul - Con', 'Arteris Planalto Sul - Conserva Teste', 'Arteris Planalto Sul Lab', 'Arteris Régis Bittencourt Lab', 'Arteris Via Paulista', 'Arteris Via Paulista - SISOBRAS', 'Demo Concessionárias', 'Teste Integração - OptGIS']>\n",
      "50\n",
      "09.336.431/0001-06 <QuerySet ['Arteris Régis Bittencourt']>\n",
      "98\n",
      "28.925.264/0001-75 <QuerySet ['OLD UHE-JAGUARA']>\n",
      "108\n",
      "28.942.127/0001-49 <QuerySet ['OLD UHE-MIRANDA']>\n",
      "2\n",
      "47.548.678/0001-77 <QuerySet ['TESTE EMPREITEIRA 2']>\n",
      "0\n",
      "2\n",
      "80.432.561/0001-07 <QuerySet ['TESTE EMPREITEIRA 3']>\n",
      "31\n",
      "89.308.281/0001-58 <QuerySet ['DEMO']>\n",
      "6\n",
      "ATIVO-TREINAMENTO ENERGIA <QuerySet ['ATIVO-TREINAMENTO ENERGIA']>\n",
      "0\n",
      "0\n",
      "30\n",
      "Com RDO Com Contratos <QuerySet ['Com RDO Com Contratos']>\n",
      "2\n",
      "CV Seg - Via Sul <QuerySet ['CV Seg - Via Sul']>\n",
      "0\n",
      "0\n",
      "0\n",
      "3\n",
      "TESTE - CONCESSIONÁRIA <QuerySet ['TESTE - CONCESSIONÁRIA']>\n",
      "3\n",
      "Teste Concessionárias <QuerySet ['Teste Concessionárias']>\n",
      "5\n",
      "Teste Empreitera <QuerySet ['Teste Empreitera']>\n",
      "0\n",
      "0\n",
      "3\n",
      "Triunfo Concebra - TESTE <QuerySet ['Triunfo Concebra - TESTE']>\n",
      "4\n",
      "Vig. Epidemiológica Brusque <QuerySet ['Vig. Epidemiológica Brusque']>\n",
      "0\n"
     ]
    }
   ],
   "source": [
    "for company in tqdm(companies):\n",
    "    planilha_name=company.replace('.', '').replace('/', '').replace('-', '')\n",
    "    if is_valid(company):\n",
    "        # Agrupa por CNPJ\n",
    "        queryHistory = UserInCompany.history.filter(\n",
    "                company__cnpj=company,\n",
    "                history_date__lte=data_fim\n",
    "            ).exclude(\n",
    "                user__email__icontains='kartado'\n",
    "            ).exclude(\n",
    "                user__email__icontains='roadlabs'\n",
    "            ).exclude(\n",
    "                user__email__icontains='hermes'\n",
    "            ).order_by('user','-history_date')\n",
    "    elif 'Entrevias' in company:\n",
    "         queryHistory = UserInCompany.history.filter(\n",
    "                 Q(user__email__icontains='afirma')|Q(user__email__icontains='ajr')|Q(user__username__icontains='ajr'),\n",
    "                company__name=company,\n",
    "                history_date__lte=data_fim\n",
    "            ).exclude(\n",
    "                user__email__icontains='kartado'\n",
    "            ).exclude(\n",
    "                user__email__icontains='roadlabs'\n",
    "            ).exclude(\n",
    "                user__email__icontains='hermes'\n",
    "            ).order_by('user','-history_date')\n",
    "    else:\n",
    "         queryHistory = UserInCompany.history.filter(\n",
    "                company__name=company,\n",
    "                history_date__lte=data_fim\n",
    "            ).exclude(\n",
    "                user__email__icontains='kartado'\n",
    "            ).exclude(\n",
    "                user__email__icontains='roadlabs'\n",
    "            ).exclude(\n",
    "                user__email__icontains='hermes'\n",
    "            ).order_by('user','-history_date')\n",
    "#     print(len(queryHistory))\n",
    "    users_permissions = permissoes_history_user(queryHistory,data_inicio,data_fim)[0] if len(permissoes_history_user(queryHistory,data_inicio,data_fim)[0]) > 0 else 0\n",
    "    \n",
    "    if users_permissions != 0:\n",
    "        df2 = pd.DataFrame(data=users_permissions,columns=['Usuários ativos','Permissão','Dias desde a ultima solicitação',\"Username\"])\n",
    "        companies_list=queryHistory.distinct('company__name').order_by( 'company__name').values_list('company__name',flat=True)\n",
    "        print(company,companies_list)\n",
    "        df2['Companies'] = np.nan\n",
    "        df2.loc[:len(companies_list)-1, 'Companies'] = companies_list\n",
    "        with pd.ExcelWriter(filename+'.xlsx', mode='a',if_sheet_exists='replace') as writer:\n",
    "            df2.to_excel(writer,sheet_name=planilha_name,na_rep=\"-\",index=False)"
   ]
  },
  {
   "cell_type": "code",
   "execution_count": 32,
   "metadata": {},
   "outputs": [
    {
     "data": {
      "text/html": [
       "<div>\n",
       "<style scoped>\n",
       "    .dataframe tbody tr th:only-of-type {\n",
       "        vertical-align: middle;\n",
       "    }\n",
       "\n",
       "    .dataframe tbody tr th {\n",
       "        vertical-align: top;\n",
       "    }\n",
       "\n",
       "    .dataframe thead th {\n",
       "        text-align: right;\n",
       "    }\n",
       "</style>\n",
       "<table border=\"1\" class=\"dataframe\">\n",
       "  <thead>\n",
       "    <tr style=\"text-align: right;\">\n",
       "      <th></th>\n",
       "      <th>Usuários ativos</th>\n",
       "      <th>Permissão</th>\n",
       "      <th>Dias desde a ultima solicitação</th>\n",
       "      <th>Username</th>\n",
       "      <th>Companies</th>\n",
       "    </tr>\n",
       "  </thead>\n",
       "  <tbody>\n",
       "    <tr>\n",
       "      <th>0</th>\n",
       "      <td>Humberto Fornari</td>\n",
       "      <td>ADMINISTRATOR</td>\n",
       "      <td>1472</td>\n",
       "      <td>humberto.fornari</td>\n",
       "      <td>Vig. Epidemiológica Brusque</td>\n",
       "    </tr>\n",
       "    <tr>\n",
       "      <th>1</th>\n",
       "      <td>Bernardo Przysiezny</td>\n",
       "      <td>ADMINISTRATOR</td>\n",
       "      <td>1461</td>\n",
       "      <td>bernardo.przysiezny</td>\n",
       "      <td>NaN</td>\n",
       "    </tr>\n",
       "    <tr>\n",
       "      <th>2</th>\n",
       "      <td>Caroline Maçaneiro</td>\n",
       "      <td>ADMINISTRATOR</td>\n",
       "      <td>1471</td>\n",
       "      <td>carol.epidemiologia</td>\n",
       "      <td>NaN</td>\n",
       "    </tr>\n",
       "    <tr>\n",
       "      <th>3</th>\n",
       "      <td>Alícia Fagundes</td>\n",
       "      <td>ADMINISTRATOR</td>\n",
       "      <td>1455</td>\n",
       "      <td>alicia.fagundes</td>\n",
       "      <td>NaN</td>\n",
       "    </tr>\n",
       "  </tbody>\n",
       "</table>\n",
       "</div>"
      ],
      "text/plain": [
       "       Usuários ativos      Permissão  Dias desde a ultima solicitação  \\\n",
       "0     Humberto Fornari  ADMINISTRATOR                             1472   \n",
       "1  Bernardo Przysiezny  ADMINISTRATOR                             1461   \n",
       "2   Caroline Maçaneiro  ADMINISTRATOR                             1471   \n",
       "3      Alícia Fagundes  ADMINISTRATOR                             1455   \n",
       "\n",
       "              Username                    Companies  \n",
       "0     humberto.fornari  Vig. Epidemiológica Brusque  \n",
       "1  bernardo.przysiezny                          NaN  \n",
       "2  carol.epidemiologia                          NaN  \n",
       "3      alicia.fagundes                          NaN  "
      ]
     },
     "execution_count": 32,
     "metadata": {},
     "output_type": "execute_result"
    }
   ],
   "source": [
    "df2"
   ]
  },
  {
   "cell_type": "code",
   "execution_count": 33,
   "metadata": {},
   "outputs": [],
   "source": [
    "data=[]\n",
    "for a in UserInCompany.objects.filter(company__name=company):\n",
    "    if a.user.username not in data:\n",
    "        data.append(a.user.username)\n",
    "    else:\n",
    "        print(a.user.username)"
   ]
  },
  {
   "cell_type": "code",
   "execution_count": null,
   "metadata": {},
   "outputs": [],
   "source": []
  },
  {
   "cell_type": "code",
   "execution_count": null,
   "metadata": {},
   "outputs": [],
   "source": []
  },
  {
   "cell_type": "code",
   "execution_count": null,
   "metadata": {},
   "outputs": [],
   "source": []
  },
  {
   "cell_type": "code",
   "execution_count": null,
   "metadata": {},
   "outputs": [],
   "source": []
  },
  {
   "cell_type": "code",
   "execution_count": null,
   "metadata": {},
   "outputs": [],
   "source": []
  },
  {
   "cell_type": "code",
   "execution_count": null,
   "metadata": {},
   "outputs": [],
   "source": []
  },
  {
   "cell_type": "code",
   "execution_count": null,
   "metadata": {},
   "outputs": [],
   "source": []
  },
  {
   "cell_type": "code",
   "execution_count": 161,
   "metadata": {},
   "outputs": [
    {
     "data": {
      "text/plain": [
       "'SELECT \"companies_userincompany\".\"uuid\", \"companies_userincompany\".\"user_id\", \"companies_userincompany\".\"company_id\", \"companies_userincompany\".\"expiration_date\", \"companies_userincompany\".\"level\", \"companies_userincompany\".\"permissions_id\", \"companies_userincompany\".\"added_permissions\", \"companies_userincompany\".\"is_active\" FROM \"companies_userincompany\" INNER JOIN \"companies_company\" ON (\"companies_userincompany\".\"company_id\" = \"companies_company\".\"uuid\") WHERE \"companies_company\".\"name\" = Arteris Via Paulista ORDER BY \"companies_userincompany\".\"company_id\" ASC'"
      ]
     },
     "execution_count": 161,
     "metadata": {},
     "output_type": "execute_result"
    }
   ],
   "source": [
    "str(uic.query) #para ver a query utilizada"
   ]
  },
  {
   "cell_type": "code",
   "execution_count": null,
   "metadata": {},
   "outputs": [],
   "source": []
  },
  {
   "cell_type": "code",
   "execution_count": 24,
   "metadata": {},
   "outputs": [
    {
     "name": "stdout",
     "output_type": "stream",
     "text": [
      "{'_state': <django.db.models.base.ModelState object at 0x7d4886bc2250>, 'uuid': UUID('2be70483-7f76-483f-9798-777a254b1f66'), 'expiration_date': None, 'level': 2, 'added_permissions': None, 'user_id': UUID('b54024d2-7ac7-4387-847d-e56404803266'), 'company_id': UUID('837181f0-5c09-42a6-910d-e799607b8701'), 'permissions_id': UUID('79044f8c-a5aa-4ae6-9ab9-61fc92f2f01b'), 'history_id': UUID('00d232d0-0515-49f1-b24f-c8ee76f7d787'), 'history_date': datetime.datetime(2023, 11, 21, 16, 14, 41, 192993, tzinfo=<UTC>), 'history_change_reason': None, 'history_type': '-', 'history_user_id': UUID('6fcf5505-d2de-4ef1-97fe-81803e3b04a6')}\n",
      "{'_state': <django.db.models.base.ModelState object at 0x7d4864f312e0>, 'uuid': UUID('2be70483-7f76-483f-9798-777a254b1f66'), 'expiration_date': None, 'level': 2, 'added_permissions': None, 'user_id': UUID('b54024d2-7ac7-4387-847d-e56404803266'), 'company_id': UUID('837181f0-5c09-42a6-910d-e799607b8701'), 'permissions_id': UUID('79044f8c-a5aa-4ae6-9ab9-61fc92f2f01b'), 'history_id': UUID('71966367-0429-449f-9424-3f681776896c'), 'history_date': datetime.datetime(2023, 11, 21, 16, 11, 30, 857107, tzinfo=<UTC>), 'history_change_reason': None, 'history_type': '+', 'history_user_id': None}\n"
     ]
    }
   ],
   "source": [
    "# for a in UserInCompany.history.filter(company__name='Construtora Castilho (Prefeitura Curitiba)',\n",
    "#                              user__username='macksson.araujo'):\n",
    "#     print(a.__dict__)"
   ]
  }
 ],
 "metadata": {
  "kernelspec": {
   "display_name": "Django Shell-Plus",
   "language": "python",
   "name": "django_extensions"
  },
  "language_info": {
   "codemirror_mode": {
    "name": "ipython",
    "version": 3
   },
   "file_extension": ".py",
   "mimetype": "text/x-python",
   "name": "python",
   "nbconvert_exporter": "python",
   "pygments_lexer": "ipython3",
   "version": "3.8.16"
  }
 },
 "nbformat": 4,
 "nbformat_minor": 2
}
