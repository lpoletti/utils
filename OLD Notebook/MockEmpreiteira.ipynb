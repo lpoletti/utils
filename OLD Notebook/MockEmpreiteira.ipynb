{
 "cells": [
  {
   "cell_type": "code",
   "execution_count": null,
   "metadata": {},
   "outputs": [],
   "source": [
    "%load_ext autoreload"
   ]
  },
  {
   "cell_type": "code",
   "execution_count": null,
   "metadata": {},
   "outputs": [],
   "source": [
    "%autoreload 2"
   ]
  },
  {
   "cell_type": "code",
   "execution_count": null,
   "metadata": {},
   "outputs": [],
   "source": [
    "!pip install tqdm --upgrade"
   ]
  },
  {
   "cell_type": "code",
   "execution_count": null,
   "metadata": {},
   "outputs": [],
   "source": [
    "!pip install lorem"
   ]
  },
  {
   "cell_type": "code",
   "execution_count": null,
   "metadata": {},
   "outputs": [],
   "source": [
    "!pip install google_images_download"
   ]
  },
  {
   "cell_type": "code",
   "execution_count": null,
   "metadata": {},
   "outputs": [],
   "source": [
    "from openpyxl import load_workbook\n",
    "from tqdm.notebook import tqdm\n",
    "from copy import deepcopy\n",
    "from arrow import Arrow\n",
    "from datetime import datetime, timedelta\n",
    "from random import choice\n",
    "from django_bulk_update.helper import bulk_update\n",
    "from IPython.display import display, Markdown\n",
    "import lorem\n",
    "import json\n",
    "import os\n",
    "import random\n",
    "import copy\n",
    "import math"
   ]
  },
  {
   "cell_type": "code",
   "execution_count": null,
   "metadata": {},
   "outputs": [],
   "source": [
    "from fixtures.mock_empreiteira.permission_names import pretty_print_permission\n",
    "from helpers.validators.brazilian_documents import generate_cnpj\n",
    "from helpers.strings import get_autonumber_array, clean_latin_string\n",
    "from helpers.apps.services import (\n",
    "    create_or_update_services_and_usages,\n",
    "    create_services_from_measurement,\n",
    ")"
   ]
  },
  {
   "cell_type": "markdown",
   "metadata": {},
   "source": [
    "# EMPREITEIRA"
   ]
  },
  {
   "cell_type": "code",
   "execution_count": null,
   "metadata": {},
   "outputs": [],
   "source": [
    "company_name = \"Demonstração Empreiteiras\"\n",
    "prefixo_folder = \"fixtures/mock_empreiteira/\"\n",
    "prefixo_users = \"demo.\"\n",
    "admin_user_count = 4\n",
    "campo_user_count = 25"
   ]
  },
  {
   "cell_type": "code",
   "execution_count": null,
   "metadata": {},
   "outputs": [],
   "source": [
    "companies = Company.objects.filter(name=company_name)"
   ]
  },
  {
   "cell_type": "code",
   "execution_count": null,
   "metadata": {},
   "outputs": [],
   "source": [
    "company = companies.first()"
   ]
  },
  {
   "cell_type": "markdown",
   "metadata": {},
   "source": [
    "## WARNING! The following two cells will delete an existing company with the same name"
   ]
  },
  {
   "cell_type": "code",
   "execution_count": null,
   "metadata": {},
   "outputs": [],
   "source": [
    "User.objects.filter(companies__in=companies).delete()"
   ]
  },
  {
   "cell_type": "code",
   "execution_count": null,
   "metadata": {},
   "outputs": [],
   "source": [
    "companies.delete()"
   ]
  },
  {
   "cell_type": "markdown",
   "metadata": {},
   "source": [
    "## UserPermission\n",
    "\n",
    "Create two permission levels"
   ]
  },
  {
   "cell_type": "code",
   "execution_count": null,
   "metadata": {},
   "outputs": [],
   "source": [
    "with open(prefixo_folder + 'admin_permissions.json', 'r+') as fo:\n",
    "    admin_json = json.load(fo)"
   ]
  },
  {
   "cell_type": "code",
   "execution_count": null,
   "metadata": {},
   "outputs": [],
   "source": [
    "pretty_print_permission(admin_json)"
   ]
  },
  {
   "cell_type": "code",
   "execution_count": null,
   "metadata": {},
   "outputs": [],
   "source": [
    "with open(prefixo_folder + 'campo_permissions.json', 'r+') as fo:\n",
    "    campo_json = json.load(fo)"
   ]
  },
  {
   "cell_type": "code",
   "execution_count": null,
   "metadata": {
    "scrolled": true
   },
   "outputs": [],
   "source": [
    "pretty_print_permission(campo_json)"
   ]
  },
  {
   "cell_type": "code",
   "execution_count": null,
   "metadata": {},
   "outputs": [],
   "source": [
    "admin_perm = UserPermission.objects.create(\n",
    "    name=\"Administrador\",\n",
    "    permissions=admin_json\n",
    ")\n",
    "campo_perm = UserPermission.objects.create(\n",
    "    name=\"Campo\",\n",
    "    permissions=campo_json\n",
    ")"
   ]
  },
  {
   "cell_type": "markdown",
   "metadata": {},
   "source": [
    "## User\n",
    "\n",
    "Create three users, data can be random. If possible, have a list of first_names and last_names and generate a random combination."
   ]
  },
  {
   "cell_type": "code",
   "execution_count": null,
   "metadata": {},
   "outputs": [],
   "source": [
    "with open(prefixo_folder + 'first_names.json', 'r+') as fo:\n",
    "    first_names = json.load(fo)\n",
    "    \n",
    "with open(prefixo_folder + 'last_names.json', 'r+') as fo:\n",
    "    last_names = json.load(fo)\n",
    "    \n",
    "def get_user_params():\n",
    "    first = choice(first_names)\n",
    "    last = choice(last_names)\n",
    "    username = prefixo_users + first.lower() + \".\" + last.lower()\n",
    "    return first, last, username"
   ]
  },
  {
   "cell_type": "code",
   "execution_count": null,
   "metadata": {},
   "outputs": [],
   "source": [
    "admin_users = []\n",
    "for _ in range(admin_user_count):\n",
    "    first, last, username = get_user_params()\n",
    "    while User.objects.filter(username=username):\n",
    "        first, last, username = get_user_params()\n",
    "    admin = User.objects.create(\n",
    "        first_name=first,\n",
    "        last_name=last,\n",
    "        username=username,\n",
    "    )\n",
    "    admin.set_password('demo.admin')\n",
    "    admin.save()\n",
    "    admin_users.append(admin)\n",
    "    \n",
    "campo_users = []\n",
    "for _ in range(campo_user_count):\n",
    "    first, last, username = get_user_params()\n",
    "    while User.objects.filter(username=username):\n",
    "        first, last, username = get_user_params()\n",
    "    campo = User.objects.create(\n",
    "        first_name=first,\n",
    "        last_name=last,\n",
    "        username=username\n",
    "    )\n",
    "    campo.set_password('demo.campo')\n",
    "    campo.save()\n",
    "    campo_users.append(campo)"
   ]
  },
  {
   "cell_type": "code",
   "execution_count": null,
   "metadata": {},
   "outputs": [],
   "source": [
    "# Print username and password\n",
    "\n",
    "display(Markdown(\"Admin users - password is demo.admin\"))\n",
    "for user in admin_users:\n",
    "    print(user.username)\n",
    "    \n",
    "display(Markdown(\"Campo users - password is demo.campo\"))\n",
    "for user in campo_users:\n",
    "    print(user.username)"
   ]
  },
  {
   "cell_type": "markdown",
   "metadata": {},
   "source": [
    "## Company\n",
    "\n",
    "Create a Company. The name will be provided when the script runs."
   ]
  },
  {
   "cell_type": "code",
   "execution_count": null,
   "metadata": {},
   "outputs": [],
   "source": [
    "with open(prefixo_folder + 'metadata.json', 'r+') as fo:\n",
    "    metadata = json.load(fo)"
   ]
  },
  {
   "cell_type": "code",
   "execution_count": null,
   "metadata": {},
   "outputs": [],
   "source": [
    "with open(prefixo_folder + 'custom_options.json', 'r+') as fo:\n",
    "    custom_options = json.load(fo)"
   ]
  },
  {
   "cell_type": "code",
   "execution_count": null,
   "metadata": {},
   "outputs": [],
   "source": [
    "company = Company.objects.create(\n",
    "    name=company_name,\n",
    "    metadata=metadata,\n",
    "    custom_options=custom_options,\n",
    "    active=True,\n",
    "    cnpj=generate_cnpj(),\n",
    "    owner=admin_users[0]\n",
    ")"
   ]
  },
  {
   "cell_type": "code",
   "execution_count": null,
   "metadata": {},
   "outputs": [],
   "source": [
    "# Add company in User Permissions\n",
    "\n",
    "admin_perm.companies.add(company)\n",
    "admin_perm.save()\n",
    "campo_perm.companies.add(company)\n",
    "campo_perm.save()"
   ]
  },
  {
   "cell_type": "markdown",
   "metadata": {},
   "source": [
    "## UserInCompany\n",
    "\n",
    "Create three objects, tying the three users to the company, one with each UserPermission"
   ]
  },
  {
   "cell_type": "code",
   "execution_count": null,
   "metadata": {},
   "outputs": [],
   "source": [
    "for user in admin_users:\n",
    "    user_in_company_admin = UserInCompany.objects.create(\n",
    "        user=user,\n",
    "        company=company,\n",
    "        permissions=admin_perm\n",
    "    )\n",
    "    \n",
    "for user in campo_users:\n",
    "    user_in_company_campo = UserInCompany.objects.create(\n",
    "        user=user,\n",
    "        company=company,\n",
    "        permissions=campo_perm\n",
    "    )"
   ]
  },
  {
   "cell_type": "markdown",
   "metadata": {},
   "source": [
    "## CompanyGroup\n",
    "\n",
    "Create a CompanyGroup with the same name as the company.\n",
    "\n",
    "Set the CompanyGroup of the Company and all the users to be the newly created one."
   ]
  },
  {
   "cell_type": "code",
   "execution_count": null,
   "metadata": {},
   "outputs": [],
   "source": [
    "company_group = CompanyGroup.objects.create(\n",
    "    name=company_name,\n",
    "    key_user=admin_users[0]\n",
    ")"
   ]
  },
  {
   "cell_type": "code",
   "execution_count": null,
   "metadata": {},
   "outputs": [],
   "source": [
    "company.company_group = company_group\n",
    "company.save()\n",
    "\n",
    "for user in admin_users + campo_users:\n",
    "    user.company_group = company_group\n",
    "    user.save()"
   ]
  },
  {
   "cell_type": "markdown",
   "metadata": {},
   "source": [
    "## Firm\n",
    "\n",
    "Create one object for admins and several for the other users"
   ]
  },
  {
   "cell_type": "code",
   "execution_count": null,
   "metadata": {},
   "outputs": [],
   "source": [
    "with open(prefixo_folder + 'firm_names.json', 'r+') as fo:\n",
    "    firm_names = json.load(fo)"
   ]
  },
  {
   "cell_type": "code",
   "execution_count": null,
   "metadata": {},
   "outputs": [],
   "source": [
    "Firm.objects.filter(company=company).delete()"
   ]
  },
  {
   "cell_type": "code",
   "execution_count": null,
   "metadata": {},
   "outputs": [],
   "source": [
    "firm_admins = Firm.objects.create(\n",
    "    name=\"Administração\",\n",
    "    manager=admin,\n",
    "    company=company,\n",
    "    cnpj=generate_cnpj(),\n",
    "    is_company_team=True,\n",
    "    members_amount=5\n",
    ")\n",
    "firms_campo = []\n",
    "for i in range(8):\n",
    "    name = choice(firm_names)\n",
    "    while Firm.objects.filter(company=company, name=name):\n",
    "        name = choice(firm_names)\n",
    "        \n",
    "    firm_apontadores = Firm.objects.create(\n",
    "        name=name,\n",
    "        manager=campo_users[i],\n",
    "        company=company,\n",
    "        cnpj=generate_cnpj(),\n",
    "        is_company_team= True,\n",
    "        members_amount = choice([3, 4, 5, 6, 7])\n",
    "    )\n",
    "    firms_campo.append(firm_apontadores)"
   ]
  },
  {
   "cell_type": "markdown",
   "metadata": {},
   "source": [
    "## UserInFirm\n",
    "\n",
    "Add the users to the corresponding firms"
   ]
  },
  {
   "cell_type": "code",
   "execution_count": null,
   "metadata": {},
   "outputs": [],
   "source": [
    "for user in admin_users:\n",
    "    user_in_firm_admin = UserInFirm.objects.create(\n",
    "        user=user,\n",
    "        firm=firm_admins\n",
    "    )\n",
    "    \n",
    "for user in campo_users:\n",
    "    if user.user_firms_manager.first():\n",
    "        firm = user.user_firms_manager.first()\n",
    "    else:\n",
    "        firm = choice(firms_campo)\n",
    "    user_in_firm_campo = UserInFirm.objects.create(\n",
    "        user=user,\n",
    "        firm=firm\n",
    "    )"
   ]
  },
  {
   "cell_type": "markdown",
   "metadata": {},
   "source": [
    "# Equipment\n",
    "\n",
    "\n",
    "Create a few Equipment objects."
   ]
  },
  {
   "cell_type": "code",
   "execution_count": null,
   "metadata": {},
   "outputs": [],
   "source": [
    "Equipment.objects.filter(company=company).delete()"
   ]
  },
  {
   "cell_type": "code",
   "execution_count": null,
   "metadata": {},
   "outputs": [],
   "source": [
    "for i in range(10):\n",
    "    letter = chr(ord('A')+i)\n",
    "    plate = letter * 3 + str(i) * 4\n",
    "    equipment = Equipment(\n",
    "        plate = plate,\n",
    "        description = choice([\"Carro\", \"Camioneta\", \"Caminhão\"]),\n",
    "        manager = choice(firms_campo).manager,\n",
    "        company = company,\n",
    "        is_rented = False,\n",
    "        active = choice([True, True, False])\n",
    "    )\n",
    "    equipment.save()"
   ]
  },
  {
   "cell_type": "markdown",
   "metadata": {},
   "source": [
    "## History\n",
    "\n",
    "Some RDO dashboard plots work based on the history of the objects. Therefore, create random changes in the history of Firm and Equipment for the past year"
   ]
  },
  {
   "cell_type": "code",
   "execution_count": null,
   "metadata": {},
   "outputs": [],
   "source": [
    "for user in User.objects.filter(companies=company):\n",
    "    hist = user.history.earliest()\n",
    "    hist.history_date = hist.history_date - timedelta(days=365)\n",
    "    hist.save()\n",
    "    user.history.exclude(history_id=hist.history_id).delete()"
   ]
  },
  {
   "cell_type": "code",
   "execution_count": null,
   "metadata": {},
   "outputs": [],
   "source": [
    "for firm in Firm.objects.filter(company=company):\n",
    "    hist = firm.history.earliest()\n",
    "    hist.history_date = hist.history_date - timedelta(days=365)\n",
    "    hist.save()\n",
    "    firm.history.exclude(history_id=hist.history_id).delete()"
   ]
  },
  {
   "cell_type": "code",
   "execution_count": null,
   "metadata": {},
   "outputs": [],
   "source": [
    "for uif in UserInFirm.objects.filter(user__companies=company):\n",
    "    hist = uif.history.earliest()\n",
    "    hist.history_date = hist.history_date - timedelta(days=365)\n",
    "    hist.save()\n",
    "    uif.history.exclude(history_id=hist.history_id).delete()"
   ]
  },
  {
   "cell_type": "code",
   "execution_count": null,
   "metadata": {},
   "outputs": [],
   "source": [
    "for firm in Firm.objects.filter(company=company):\n",
    "    first_hist = firm.history.earliest()\n",
    "    hist_dates = Arrow.range(\"day\", first_hist.history_date, timezone.now())\n",
    "    \n",
    "    history_type = \"~\"\n",
    "    history_user = admin_users[0]\n",
    "\n",
    "    historical_instances = []\n",
    "    instance = firm\n",
    "    hist_model = first_hist.instance.history.model\n",
    "    for hist_date in hist_dates:\n",
    "        row = hist_model(\n",
    "            history_date=hist_date.datetime,\n",
    "            history_user=history_user,\n",
    "            history_change_reason=\"\",\n",
    "            history_type=history_type,\n",
    "            **{\n",
    "                field.attname: getattr(instance, field.attname)\n",
    "                for field in instance._meta.fields\n",
    "                if (field.name not in hist_model._history_excluded_fields) and (field.name not in ['active', 'members_amount'])\n",
    "            },\n",
    "            active= choice([True, True, False]),\n",
    "            members_amount = choice([3, 4, 5, 6, 7])\n",
    "            \n",
    "        )\n",
    "        if hasattr(instance, \"history_relation\"):\n",
    "            row.history_relation_id = instance.pk\n",
    "        historical_instances.append(row)\n",
    "\n",
    "    hist_model.objects.bulk_create(\n",
    "        historical_instances, batch_size=100\n",
    "    )"
   ]
  },
  {
   "cell_type": "code",
   "execution_count": null,
   "metadata": {},
   "outputs": [],
   "source": [
    "for equipment in Equipment.objects.filter(company=company):\n",
    "    hist = equipment.history.earliest()\n",
    "    hist.history_date = hist.history_date - timedelta(days=365)\n",
    "    hist.save()\n",
    "    equipment.history.exclude(history_id=hist.history_id).delete()"
   ]
  },
  {
   "cell_type": "code",
   "execution_count": null,
   "metadata": {},
   "outputs": [],
   "source": [
    "for equipment in Equipment.objects.filter(company=company):\n",
    "    first_hist = equipment.history.earliest()\n",
    "    hist_dates = Arrow.range(\"day\", first_hist.history_date, timezone.now())\n",
    "    \n",
    "    history_type = \"~\"\n",
    "    history_user = admin_users[0]\n",
    "\n",
    "    historical_instances = []\n",
    "    instance = equipment\n",
    "    hist_model = first_hist.instance.history.model\n",
    "    for hist_date in hist_dates:\n",
    "        row = hist_model(\n",
    "            history_date=hist_date.datetime,\n",
    "            history_user=history_user,\n",
    "            history_change_reason=\"\",\n",
    "            history_type=history_type,\n",
    "            **{\n",
    "                field.attname: getattr(instance, field.attname)\n",
    "                for field in instance._meta.fields\n",
    "                if (field.name not in hist_model._history_excluded_fields) and (field.name not in ['active', 'members_amount'])\n",
    "            },\n",
    "            active=choice([True, True, False]),\n",
    "            \n",
    "        )\n",
    "        if hasattr(instance, \"history_relation\"):\n",
    "            row.history_relation_id = instance.pk\n",
    "        historical_instances.append(row)\n",
    "\n",
    "    hist_model.objects.bulk_create(\n",
    "        historical_instances, batch_size=100\n",
    "    )"
   ]
  },
  {
   "cell_type": "markdown",
   "metadata": {},
   "source": [
    "## TileLayers\n",
    "\n",
    "Create using this objects below and tie all of them to the newly created company."
   ]
  },
  {
   "cell_type": "code",
   "execution_count": null,
   "metadata": {},
   "outputs": [],
   "source": [
    "tile_objects = [{\"type\": \"mapbox\", \"description\": \"Satélite\", \"name\": \"Satélite\", \"provider_info\": {\"url\": \"https://api.mapbox.com/styles/v1/natank/cjmmhqxpt0jsn2smsihy5nx5w/tiles/{z}/{x}/{y}.mapbox\", \"type\": \"mapbox\", \"order\": 3, \"accessToken\": \"pk.eyJ1IjoibmF0YW5rIiwiYSI6ImNqbW1oNngyYjBoZWEzcm83dDRnZTRmMnoifQ.IJHj30XcphWWzx7Luvc-2A\", \"attribution\": \"Licensed by &copy; <a href=\\\"https://www.mapbox.com/\\\">Mapbox</a>\", \"styleString\": \"mapbox://styles/natank/ck0z9h5s014wj1cqum4jjssbk\"}},\n",
    "{\"type\": \"mapbox\", \"description\": \"Mapa Claro\", \"name\": \"Mapa Claro\", \"provider_info\": {\"url\": \"https://api.mapbox.com/styles/v1/natank/cjmmhqxpt0jsn2smsihy5nx5w/tiles/{z}/{x}/{y}.mapbox\", \"type\": \"mapbox\", \"order\": 4, \"accessToken\": \"pk.eyJ1IjoibmF0YW5rIiwiYSI6ImNqbW1oNngyYjBoZWEzcm83dDRnZTRmMnoifQ.IJHj30XcphWWzx7Luvc-2A\", \"attribution\": \"Licensed by &copy; <a href=\\\"https://www.mapbox.com/\\\">Mapbox</a>\", \"styleString\": \"mapbox://styles/natank/ck0z9bp0r0z4l1cqhp4wt15ew\"}},\n",
    "{\"type\": \"mapbox\", \"description\": \"Mapa Escuro\", \"name\": \"Mapa Escuro\", \"provider_info\": {\"url\": \"https://api.mapbox.com/styles/v1/natank/cjmmhqxpt0jsn2smsihy5nx5w/tiles/{z}/{x}/{y}.mapbox\", \"type\": \"mapbox\", \"order\": 5, \"accessToken\": \"pk.eyJ1IjoibmF0YW5rIiwiYSI6ImNqbW1oNngyYjBoZWEzcm83dDRnZTRmMnoifQ.IJHj30XcphWWzx7Luvc-2A\", \"attribution\": \"Licensed by &copy; <a href=\\\"https://www.mapbox.com/\\\">Mapbox</{a>\", \"styleString\": \"mapbox://styles/natank/ck0z9os2914au1cqqaj464p5m\"}},\n",
    "{\"type\": \"openStreetMap\", \"description\": \"OpenStreetMap\", \"name\": \"OpenStreetMap\", \"provider_info\": {\"url\": \"https://{s}.tile.openstreetmap.org/{z}/{x}/{y}.png\", \"type\": \"openStreetMap\", \"order\": 6, \"attribution\": \"&amp;copy <a href=\\\"http://osm.org/copyright\\\">OpenStreetMap</a> contributors\"}},\n",
    "{\"type\": \"mapbox\", \"description\": \"Relevo\", \"name\": \"Relevo\", \"provider_info\": {\"url\": \"https://api.mapbox.com/styles/v1/natank/cjmmhqxpt0jsn2smsihy5nx5w/tiles/{z}/{x}/{y}.mapbox\", \"type\": \"mapbox\", \"order\": 2, \"accessToken\": \"pk.eyJ1IjoibmF0YW5rIiwiYSI6ImNqbW1oNngyYjBoZWEzcm83dDRnZTRmMnoifQ.IJHj30XcphWWzx7Luvc-2A\", \"attribution\": \"Licensed by &copy; <a href=\\\"https://www.mapbox.com/\\\">Mapbox</a>\", \"styleString\": \"mapbox://styles/natank/ck0z7y0bi0g6x1cq1oxwo8bhd\"}},\n",
    "{\"type\": \"mapbox\", \"description\": \"Padrão\", \"name\": \"Padrão\", \"provider_info\": {\"url\": \"https://api.mapbox.com/styles/v1/natank/cjmmhqxpt0jsn2smsihy5nx5w/tiles/{z}/{x}/{y}.mapbox\", \"type\": \"mapbox\", \"order\": 1, \"accessToken\": \"pk.eyJ1IjoibmF0YW5rIiwiYSI6ImNqbW1oNngyYjBoZWEzcm83dDRnZTRmMnoifQ.IJHj30XcphWWzx7Luvc-2A\", \"attribution\": \"Licensed by &copy; <a href=\\\"https://www.mapbox.com/\\\">Mapbox</a>\", \"styleString\": \"mapbox://styles/natank/cjn50jrc82oyq2rlew8h2c7yp\"}}]"
   ]
  },
  {
   "cell_type": "code",
   "execution_count": null,
   "metadata": {},
   "outputs": [],
   "source": [
    "for item in tile_objects:\n",
    "    tile_layer = TileLayer.objects.create(**item)\n",
    "    tile_layer.companies.add(company)\n",
    "    tile_layer.save()"
   ]
  },
  {
   "cell_type": "markdown",
   "metadata": {},
   "source": [
    "## ShapeFile\n",
    "\n",
    "not necessary for now"
   ]
  },
  {
   "cell_type": "markdown",
   "metadata": {},
   "source": [
    "## OccurrenceType and OccurrenceTypeSpecs\n",
    "\n",
    "Create objects tying the OccurrenceType objects to the new Company. Randomize the color."
   ]
  },
  {
   "cell_type": "code",
   "execution_count": null,
   "metadata": {},
   "outputs": [],
   "source": [
    "new_forms = []\n",
    "\n",
    "forms_folder = prefixo_folder + \"formularios\"\n",
    "for index, file in enumerate(os.listdir(forms_folder)):\n",
    "    if '.xlsx' in file and not \"~\" in file:\n",
    "        excel_file = file\n",
    "    if not '.txt' in file:\n",
    "        continue\n",
    "    file_name = '{}/{}'.format(forms_folder, file)\n",
    "    print('------')\n",
    "    print(file_name)\n",
    "    with open(file_name, 'r+') as fo:\n",
    "        form = json.load(fo)\n",
    "        print(form['displayName'])\n",
    "        new_forms.append(form)"
   ]
  },
  {
   "cell_type": "code",
   "execution_count": null,
   "metadata": {},
   "outputs": [],
   "source": [
    "wb = load_workbook('{}/{}'.format(forms_folder, excel_file))\n",
    "sheetname = wb.sheetnames[2]\n",
    "ws = wb[sheetname]"
   ]
  },
  {
   "cell_type": "code",
   "execution_count": null,
   "metadata": {},
   "outputs": [],
   "source": [
    "header = []\n",
    "values = []\n",
    "\n",
    "for index, row in enumerate(ws.rows):\n",
    "    if index == 0:\n",
    "        header = list([a.value for a in row])\n",
    "        continue\n",
    "    obj = {}\n",
    "    for col_index, cell in enumerate(row):\n",
    "        value = cell.value\n",
    "        obj[header[col_index]] = value\n",
    "    values.append(obj)"
   ]
  },
  {
   "cell_type": "code",
   "execution_count": null,
   "metadata": {},
   "outputs": [],
   "source": [
    "for form in new_forms:\n",
    "    if form['displayName'] not in [a['Classe'] for a in values]:\n",
    "        print(form['displayName'])\n",
    "    else:\n",
    "        row = next(a for a in values if a['Classe'] == form['displayName'])\n",
    "        form['kind'] = row['id_Natureza']\n",
    "        if row['Prazo']:\n",
    "            if 'h' in row['Prazo']:\n",
    "                form['deadline'] = timedelta(hours=int(row['Prazo'].split(' ')[0]))\n",
    "            elif 'dias' in row['Prazo']:\n",
    "                form['deadline'] = timedelta(days=int(row['Prazo'].split(' ')[0]))\n",
    "            else:\n",
    "                print('DEU RUIM')"
   ]
  },
  {
   "cell_type": "code",
   "execution_count": null,
   "metadata": {},
   "outputs": [],
   "source": [
    "diario_fields = {\"id\": 1, \"name\": \"dailyReport\", \"fields\": [{\"id\": 1, \"api_name\": \"weather\", \"data_type\": \"select\", \"display_name\": \"Clima\", \"select_options\": {\"options\": [{\"name\": \"Bom\", \"value\": \"1\"}, {\"name\": \"Inst\\u00e1vel\", \"value\": \"2\"}, {\"name\": \"Chuvoso\", \"value\": \"3\"}, {\"name\": \"Impratic\\u00e1vel\", \"value\": \"4\"}]}}, {\"id\": 2, \"api_name\": \"notes\", \"data_type\": \"textArea\", \"display_name\": \"Observa\\u00e7\\u00e3o\"}, {\"id\": 3, \"api_name\": \"rain\", \"data_type\": \"float\", \"display_name\": \"Pluviometria\"}, {\"id\": 4, \"api_name\": \"colaborators\", \"data_type\": \"textArea\", \"display_name\": \"Colaboradores presentes\"}, {\"id\": 5, \"api_name\": \"signDuration\", \"data_type\": \"float\", \"display_name\": \"Tempo de Coloca\\u00e7\\u00e3o da Sinaliza\\u00e7\\u00e3o (min)\"}, {\"id\": 6, \"api_name\": \"signDuration2\", \"data_type\": \"float\", \"display_name\": \"Tempo de Retirada da Sinaliza\\u00e7\\u00e3o (min)\"}], \"groups\": [{\"order\": 1, \"members\": [1, 3], \"display_name\": \"Clima\"}, {\"order\": 2, \"members\": [2, 4, 5, 6], \"display_name\": \"Informa\\u00e7\\u00f5es Adicionais\"}], \"display_name\": \"Di\\u00e1rio\", \"measurementColumns\": [{\"key\": \"weather\", \"logic\": {\"if\": [{\"==\": [{\"var\": \"formData.weather\"}, \"1\"]}, \"Bom\", {\"==\": [{\"var\": \"formData.weather\"}, \"2\"]}, \"Inst\\u00e1vel\", {\"==\": [{\"var\": \"formData.type\"}, \"3\"]}, \"Chuvoso\", {\"==\": [{\"var\": \"formData.type\"}, \"4\"]}, \"Impratic\\u00e1vel\", 0]}, \"width\": 18, \"header\": \"Clima\"}, {\"key\": \"notes\", \"logic\": {\"var\": \"formData.notes\"}, \"width\": 20, \"header\": \"Observa\\u00e7\\u00f5es\"}, {\"key\": \"rain\", \"logic\": {\"var\": \"formData.rain\"}, \"width\": 16, \"header\": \"Pluviometria\"}, {\"key\": \"colaborators\", \"logic\": {\"var\": \"formData.colaborators\"}, \"width\": 16, \"header\": \"Colaboradores na frente\"}, {\"key\": \"signDuration\", \"logic\": {\"var\": \"formData.signDuration\"}, \"width\": 16, \"header\": \"Tempo de Coloca\\u00e7\\u00e3o da Sinaliza\\u00e7\\u00e3o (min)\"}, {\"key\": \"signDuration2\", \"logic\": {\"var\": \"formData.signDuration2\"}, \"width\": 16, \"header\": \"Tempo de Retirada da Sinaliza\\u00e7\\u00e3o (min)\"}]}\n",
    "diario_fields['displayName'] = \"Diário\"\n",
    "diario_fields['kind'] = 6\n",
    "new_forms.append(diario_fields)"
   ]
  },
  {
   "cell_type": "code",
   "execution_count": null,
   "metadata": {},
   "outputs": [],
   "source": [
    "occurrence_types = []\n",
    "for form in new_forms:\n",
    "    form_copy = deepcopy(form)\n",
    "    if 'deadline' in form_copy.keys():\n",
    "        del form_copy['deadline']\n",
    "    if 'kind' in form_copy.keys():\n",
    "        del form_copy['kind']\n",
    "    occurrence_type = OccurrenceType(\n",
    "        name=form['displayName'],\n",
    "        occurrence_kind=form['kind'],\n",
    "        form_fields = form_copy,\n",
    "        created_by=User.objects.get(username='rlcs'),\n",
    "        deadline= form['deadline'] if 'deadline' in form else None\n",
    "    )\n",
    "    occurrence_types.append(occurrence_type)"
   ]
  },
  {
   "cell_type": "code",
   "execution_count": null,
   "metadata": {},
   "outputs": [],
   "source": [
    "for occurrence_type in occurrence_types:\n",
    "    occurrence_type.save()\n",
    "    spec = OccurrenceTypeSpecs(\n",
    "        occurrence_type = occurrence_type,\n",
    "        company = company,\n",
    "        color = \"#\"+''.join([random.choice('0123456789ABCDEF') for j in range(6)])\n",
    "    )\n",
    "    spec.save()"
   ]
  },
  {
   "cell_type": "code",
   "execution_count": null,
   "metadata": {},
   "outputs": [],
   "source": [
    "def get_color():\n",
    "    return \"#%06x\" % random.randint(0, 0xFFFFFF)"
   ]
  },
  {
   "cell_type": "markdown",
   "metadata": {},
   "source": [
    "## ServiceOrderActionStatus and ServiceOrderActionStatusSpecs\n",
    "\n",
    "Create copies of the ones from Arteris Litoral Sul\n",
    "\n",
    "Create one for each status"
   ]
  },
  {
   "cell_type": "code",
   "execution_count": null,
   "metadata": {},
   "outputs": [],
   "source": [
    "status_identificado = ServiceOrderActionStatus.objects.create(\n",
    "    name=\"Identificado\",\n",
    "    kind=\"REPORTING_STATUS\"\n",
    ")\n",
    "status_programado = ServiceOrderActionStatus.objects.create(\n",
    "    name=\"Programado\",\n",
    "    kind=\"REPORTING_STATUS\"\n",
    ")\n",
    "status_executado = ServiceOrderActionStatus.objects.create(\n",
    "    name=\"Executado\",\n",
    "    kind=\"REPORTING_STATUS\"\n",
    ")\n",
    "\n",
    "status_specs_identificado = ServiceOrderActionStatusSpecs.objects.create(\n",
    "    company=company,\n",
    "    status=status_identificado,\n",
    "    color=get_color(),\n",
    "    order=1\n",
    ")\n",
    "status_specs_programado = ServiceOrderActionStatusSpecs.objects.create(\n",
    "    company=company,\n",
    "    status=status_programado,\n",
    "    color=get_color(),\n",
    "    order=2\n",
    ")\n",
    "status_specs_executado = ServiceOrderActionStatusSpecs.objects.create(\n",
    "    company=company,\n",
    "    status=status_executado,\n",
    "    color=get_color(),\n",
    "    order=3\n",
    ")"
   ]
  },
  {
   "cell_type": "markdown",
   "metadata": {},
   "source": [
    "## Road\n",
    "\n",
    "Create a single demo road containing a part of BR282-SC"
   ]
  },
  {
   "cell_type": "code",
   "execution_count": null,
   "metadata": {},
   "outputs": [],
   "source": [
    "road = Road(\n",
    "    marks = {\"0\": {\"km\": 114, \"key\": 0, \"index\": 0, \"point\": {\"type\": \"Point\", \"coordinates\": [-49.3880981, -27.7483643]}}, \"1\": {\"km\": 223, \"key\": 1, \"index\": 745, \"point\": {\"type\": \"Point\", \"coordinates\": [-50.363131, -27.800003]}}, \"2\": {\"km\": 223.001, \"key\": 2, \"index\": 745, \"point\": {\"type\": \"Point\", \"coordinates\": [-50.363131, -27.800003]}}},\n",
    "    direction = 0,\n",
    "    name = \"BR282-SC-DEMO\",\n",
    "    uf = \"42\",\n",
    ")\n",
    "road.save()\n",
    "road.company.add(company)"
   ]
  },
  {
   "cell_type": "markdown",
   "metadata": {},
   "source": [
    "## Service and ServiceSpecs\n",
    "\n",
    "We'll create these based on an excel sheet. I'm attaching an example sheet, and also a notebook with some code we usually use to import the file."
   ]
  },
  {
   "cell_type": "code",
   "execution_count": null,
   "metadata": {},
   "outputs": [],
   "source": [
    "import time\n",
    "import json\n",
    "import codecs\n",
    "from datetime import datetime, timezone\n",
    "from openpyxl import load_workbook\n",
    "from difflib import SequenceMatcher\n",
    "from operator import __or__ as OR\n",
    "from functools import reduce\n",
    "from helpers.histories import bulk_update_with_history\n",
    "from helpers.apps.services import create_usages_from_reporting, create_or_update_services_and_usages\n",
    "import copy"
   ]
  },
  {
   "cell_type": "code",
   "execution_count": null,
   "metadata": {},
   "outputs": [],
   "source": [
    "from django.core.exceptions import MultipleObjectsReturned, ObjectDoesNotExist\n",
    "from django.db.models import Q"
   ]
  },
  {
   "cell_type": "code",
   "execution_count": null,
   "metadata": {},
   "outputs": [],
   "source": [
    "from simple_history.utils import bulk_create_with_history\n",
    "from helpers.apps.json_logic import apply_reporting_json_logic\n",
    "from apps.services.serializers import ServiceSerializer, ServiceSpecsSerializer"
   ]
  },
  {
   "cell_type": "code",
   "execution_count": null,
   "metadata": {},
   "outputs": [],
   "source": [
    "def fix_field(trimmed, fields):\n",
    "\n",
    "    value = trimmed\n",
    "    \n",
    "    # FIX ONES WITH data. IN FRONT\n",
    "    if \"data.formData\" in value:\n",
    "        value = value.replace(\n",
    "            \"data.formData\", \"formData\"\n",
    "        )\n",
    "        \n",
    "    # FIX ONES WITHOUT formData. IN FRONT\n",
    "    if (\n",
    "        not \"formData\" in value\n",
    "        and \"formData.\" + value in fields\n",
    "    ):\n",
    "        value = value.replace(\n",
    "            value, \"formData.\" + value\n",
    "        )\n",
    "        \n",
    "    # FIX ONES WITH WRONT height heigth\n",
    "    if value.replace(\"ht\", \"th\") in fields:\n",
    "        value = value.replace(\"ht\", \"th\")\n",
    "\n",
    "    # FIX ONES WITH WRONT heigth height\n",
    "    if value.replace(\"th\", \"ht\") in fields:\n",
    "        value = value.replace(\"th\", \"ht\")\n",
    "        \n",
    "    return value"
   ]
  },
  {
   "cell_type": "code",
   "execution_count": null,
   "metadata": {},
   "outputs": [],
   "source": [
    "def get_nearest(field, fields):\n",
    "    ratios = [SequenceMatcher(None, field, a).ratio() for a in fields]\n",
    "    argmax = -max((x,-i) for i,x in enumerate(ratios))[1]\n",
    "    return fields[argmax]"
   ]
  },
  {
   "cell_type": "code",
   "execution_count": null,
   "metadata": {},
   "outputs": [],
   "source": [
    "def get_service(all_services, name, kind):\n",
    "    filtered = [a for a in all_services if a.name == name and str(a.kind) == str(kind)]\n",
    "    if len(filtered) < 1:\n",
    "        print(\"---- ERRO\")\n",
    "        print('Nenhum serviço encontrado: {} - {}'.format(kind, name))\n",
    "        return \"none\"\n",
    "    if len(filtered) > 1:\n",
    "        print(\"---- ERRO\")\n",
    "        print('Múltiplos serviços encontrados: {} - {}'.format(kind, name))\n",
    "        return \"multiple\"\n",
    "    else:\n",
    "        return next(\n",
    "            a for a in all_services if a.name == name and str(a.kind) == str(kind)\n",
    "        )"
   ]
  },
  {
   "cell_type": "code",
   "execution_count": null,
   "metadata": {},
   "outputs": [],
   "source": [
    "def get_type(all_types, name):\n",
    "    filtered = [a for a in all_types if a.name == name]\n",
    "    if len(filtered) != 1:\n",
    "        return None\n",
    "    else:\n",
    "        return next(\n",
    "            a for a in all_types if a.name == name\n",
    "        )"
   ]
  },
  {
   "cell_type": "code",
   "execution_count": null,
   "metadata": {},
   "outputs": [],
   "source": [
    "def get_spec(all_specs, service, occurrence_type):\n",
    "    filtered = [a for a in all_specs if a.service.uuid == service.uuid and a.occurrence_type.uuid == occurrence_type.uuid]\n",
    "    if len(filtered) != 1:\n",
    "        return None\n",
    "    else:\n",
    "        return next(\n",
    "            a for a in all_specs if a.service.uuid == service.uuid and a.occurrence_type.uuid == occurrence_type.uuid\n",
    "        )"
   ]
  },
  {
   "cell_type": "code",
   "execution_count": null,
   "metadata": {},
   "outputs": [],
   "source": [
    "filename = prefixo_folder + \"Contrato\"\n",
    "wb = load_workbook(filename + \".xlsx\")\n",
    "sheetname = wb.sheetnames[0]\n",
    "ws = wb[sheetname]"
   ]
  },
  {
   "cell_type": "code",
   "execution_count": null,
   "metadata": {},
   "outputs": [],
   "source": [
    "header = []\n",
    "values = []\n",
    "good_fields = []\n",
    "bad_fields = []\n",
    "\n",
    "all_types = OccurrenceType.objects.filter(company__in=[company])\n",
    "\n",
    "for index, row in enumerate(ws.rows):\n",
    "    if index == 0 or not header:\n",
    "        if row[0].value == None:\n",
    "            continue\n",
    "        header = list([a.value for a in row])\n",
    "        continue\n",
    "    obj = {}\n",
    "    for col_index, cell in enumerate(row):\n",
    "        value = cell.value\n",
    "        obj[header[col_index]] = value\n",
    "        if header[col_index] and \"Formula\" in header[col_index] and value is not None:\n",
    "            formula_index = header[col_index].strip(\"Formula\")\n",
    "            type_name = obj[\"Type\" + formula_index]\n",
    "            if type_name is None:\n",
    "                continue\n",
    "                \n",
    "            oType = get_type(all_types, type_name)\n",
    "            if not oType:\n",
    "                print(\"---- ERRO\")\n",
    "                print(\"Formulário não encontrado: {}\".format(type_name))\n",
    "                continue\n",
    "                    \n",
    "            else:\n",
    "                try:\n",
    "                    fields = [\n",
    "                        \"formData.\" + a[\"apiName\"]\n",
    "                        for a in oType.form_fields[\"fields\"]\n",
    "                    ]\n",
    "                    touched = False\n",
    "                    temp_value = value\n",
    "                    for var in value.split('\"var\":')[1:]:\n",
    "                        trimmed = var.split('\"}')[0].strip().strip('\"')\n",
    "                        if trimmed == \"km\":\n",
    "                            good_fields.append(trimmed)\n",
    "                            continue\n",
    "                        if not trimmed in fields:\n",
    "                            bad_field = {\n",
    "                                \"service\": obj['name'],\n",
    "                                \"occurrence_type\": oType,\n",
    "                                \"field\": trimmed,\n",
    "                                \"nearest\": get_nearest(trimmed,fields),\n",
    "                                \"cell\": cell,\n",
    "                                \"fixed\": False,\n",
    "                                \"fixed_value\": \"\"\n",
    "                            }\n",
    "                            fixed_field = fix_field(trimmed, fields)\n",
    "                            if fixed_field != trimmed:\n",
    "                                temp_value = temp_value.replace(trimmed, fixed_field)\n",
    "                                touched = True\n",
    "                                bad_field[\"fixed\"] = True\n",
    "                                bad_field[\"fixed_value\"] = fixed_field\n",
    "                            bad_fields.append(bad_field)\n",
    "                        else:\n",
    "                            good_fields.append(trimmed)\n",
    "                            \n",
    "                    if touched:\n",
    "                        cell.value = temp_value\n",
    "                except Exception as e:\n",
    "                    print(e)\n",
    "                    pass\n",
    "            try:\n",
    "                obj[header[col_index]] = json.loads(temp_value)\n",
    "            except Exception as e:\n",
    "                print(str(e))\n",
    "                print(value)\n",
    "    values.append(obj)"
   ]
  },
  {
   "cell_type": "code",
   "execution_count": null,
   "metadata": {},
   "outputs": [],
   "source": [
    "print(\"good: \", len(good_fields))\n",
    "print(\"fixed: \", len([a for a in bad_fields if a['fixed']]))\n",
    "print(\"bad: \", len([a for a in bad_fields if not a['fixed']]))\n",
    "print(\"----\")\n",
    "for field in bad_fields:\n",
    "    print(\"CÉLULA {}, SERVIÇO '{}', FORMULARIO '{}'\".format(field[\"cell\"], field[\"service\"], field[\"occurrence_type\"].name))\n",
    "    if field['fixed']:\n",
    "        print(\"CAMPO '{}' corrigido automaticamente para {}\".format(field['field'], field['fixed_value']))\n",
    "    else:\n",
    "        print(\"CAMPO '{}' não existe\".format(field['field']))\n",
    "        print(\"Correspondência mais próxima: '{}'\".format(field['nearest']))\n",
    "    print(\"----\")"
   ]
  },
  {
   "cell_type": "code",
   "execution_count": null,
   "metadata": {},
   "outputs": [],
   "source": [
    "services = values"
   ]
  },
  {
   "cell_type": "code",
   "execution_count": null,
   "metadata": {},
   "outputs": [],
   "source": [
    "for service in services:\n",
    "    all_types = [b for a,b in service.items() if \"Type \" in a and b]\n",
    "    for index, otype in enumerate(all_types):\n",
    "        if index != all_types.index(otype):\n",
    "            print(\"DUPLICATED -  service {} and type {} - ignoring\".format(service['name'], service['Type ' + str(index + 1)]))\n",
    "            service['Type ' + str(index + 1)] = \"\""
   ]
  },
  {
   "cell_type": "code",
   "execution_count": null,
   "metadata": {},
   "outputs": [],
   "source": [
    "def parse_numbers(number):\n",
    "    try:\n",
    "        if isinstance(number, (int, float)):\n",
    "            return number\n",
    "        elif \"-\" in number:\n",
    "            return 0\n",
    "        else:\n",
    "            return round(float(number.replace(\".\", \"\").replace(\",\", \".\")), 3)\n",
    "    except:\n",
    "        print(\"ERROR PARSING NUMBER!!\")\n",
    "        return 0"
   ]
  },
  {
   "cell_type": "code",
   "execution_count": null,
   "metadata": {},
   "outputs": [],
   "source": [
    "def create_service(service):\n",
    "    serializer = ServiceSerializer()\n",
    "    new_obj = serializer.create(\n",
    "        validated_data={\n",
    "            \"name\": service[\"name\"],\n",
    "            \"group\": service[\"group\"] or \"\",\n",
    "            \"company\": company,\n",
    "            \"kind\": service[\"kind\"],\n",
    "            \"code\": service[\"code\"],\n",
    "            \"unit\": service[\"unit\"],\n",
    "            \"unit_price\": parse_numbers(service[\"unit_price\"]),\n",
    "            \"adjustment_coefficient\": parse_numbers(\n",
    "                service[\"adjustment_coefficient\"] or 1\n",
    "            ),\n",
    "            \"total_amount\": 0,\n",
    "            \"current_balance\": parse_numbers(service[\"current_balance\"]),\n",
    "        }\n",
    "    )\n",
    "    print(\"---- INFO\")\n",
    "    print(\"Criando serviço {}\".format(service['name']))\n",
    "    return new_obj"
   ]
  },
  {
   "cell_type": "code",
   "execution_count": null,
   "metadata": {},
   "outputs": [],
   "source": [
    "def update_service(existing_service, service):\n",
    "    needs_update = False\n",
    "    updated_fields = []\n",
    "    new_values = {}\n",
    "    \n",
    "    new_values[\"group\"] = service[\"group\"] or \"\"\n",
    "    new_values[\"code\"] = service[\"code\"]\n",
    "    new_values[\"unit\"] = service[\"unit\"]\n",
    "    new_values[\"unit_price\"] = parse_numbers(service[\"unit_price\"])\n",
    "    new_values[\"adjustment_coefficient\"] = parse_numbers(\n",
    "        service[\"adjustment_coefficient\"] if 'adjustment_coefficient' in service else 1\n",
    "    )\n",
    "    new_values[\"total_amount\"] = 0\n",
    "    new_values[\"current_balance\"] = parse_numbers(\n",
    "        service[\"current_balance\"]\n",
    "    )\n",
    "    for field, value in new_values.items():\n",
    "        if getattr(existing_service, field) != value:\n",
    "            updated_fields.append((field, getattr(existing_service, field), value))\n",
    "            needs_update = True\n",
    "            \n",
    "    if needs_update:\n",
    "        existing_service.group = service[\"group\"] or \"\"\n",
    "        existing_service.code = service[\"code\"]\n",
    "        existing_service.unit = service[\"unit\"]\n",
    "        existing_service.unit_price = parse_numbers(service[\"unit_price\"])\n",
    "        existing_service.adjustment_coefficient = parse_numbers(\n",
    "            service[\"adjustment_coefficient\"] if 'adjustment_coefficient' in service else 1\n",
    "        )\n",
    "        existing_service.total_amount = 0\n",
    "        existing_service.current_balance = parse_numbers(\n",
    "            service[\"current_balance\"]\n",
    "        )\n",
    "        existing_service.save()\n",
    "\n",
    "        for field, old_value, new_value in updated_fields:\n",
    "            print(\"---- INFO\")\n",
    "            print(\"{} - ATUALIZADO {} de {} para {}\".format(existing_service.name, field, old_value, new_value))"
   ]
  },
  {
   "cell_type": "code",
   "execution_count": null,
   "metadata": {},
   "outputs": [],
   "source": [
    "def create_spec(service, occurrence_type, formula):\n",
    "    print(\"---- INFO\")\n",
    "    print(\"Criando formula para {} e {}\".format(service.name, occurrence_type.name))\n",
    "    serializer = ServiceSpecsSerializer()\n",
    "    new_obj = serializer.create(\n",
    "        validated_data={\n",
    "            \"service\": service,\n",
    "            \"occurrence_type\": occurrence_type,\n",
    "            \"formula\": formula,\n",
    "        }\n",
    "    )\n",
    "    return new_obj"
   ]
  },
  {
   "cell_type": "code",
   "execution_count": null,
   "metadata": {},
   "outputs": [],
   "source": [
    "def update_spec(existing_spec, formula):\n",
    "    if existing_spec.formula != formula:\n",
    "        existing_spec.formula = formula\n",
    "        existing_spec.save()\n",
    "        print(\"---- INFO\")\n",
    "        print(\"Formula entre {} e {} foi atualizada\".format(existing_spec.service.name, existing_spec.occurrence_type.name))\n",
    "        return existing_spec"
   ]
  },
  {
   "cell_type": "code",
   "execution_count": null,
   "metadata": {},
   "outputs": [],
   "source": [
    "all_services = Service.objects.filter(company=company)\n",
    "all_types = OccurrenceType.objects.filter(company__in=[company])\n",
    "all_specs = ServiceSpecs.objects.filter(service__in=all_services, occurrence_type__in=all_types)\\\n",
    "    .select_related('service', 'occurrence_type')\n",
    "updated_specs = []\n",
    "\n",
    "for service in tqdm(services):\n",
    "    existing_service = get_service(all_services, service['name'], service['kind'])\n",
    "    if existing_service == \"none\":\n",
    "        existing_service = create_service(service)\n",
    "    elif existing_service == \"multiple\":\n",
    "        continue\n",
    "    else:\n",
    "        update_service(existing_service, service)        \n",
    "        \n",
    "    type_num = len([a for a in service.keys() if \"Type \" in a])\n",
    "    \n",
    "    for i in range(1, type_num + 1):\n",
    "        if \"Type \" + str(i) in service.keys():\n",
    "            try:\n",
    "                typeName = service[\"Type \" + str(i)]\n",
    "                if typeName is None:\n",
    "                    continue\n",
    "                \n",
    "                oType = get_type(all_types, typeName)\n",
    "                if not oType:\n",
    "                    print(\"---- ERRO\")\n",
    "                    print(\"SERVIÇO: {}, COLUNA {}, FORMULÁRIO {} NÃO ENCONTRADO\".format(existing_service.name, i, typeName))\n",
    "                    continue\n",
    "                    \n",
    "                formula = service[\"Formula \" + str(i)]\n",
    "\n",
    "                existing_spec = get_spec(all_specs, existing_service, oType)\n",
    "                if existing_spec:\n",
    "                    updated = update_spec(existing_spec, formula)\n",
    "                else:\n",
    "                    updated = create_spec(existing_service, oType, formula)\n",
    "                \n",
    "                if updated:\n",
    "                    updated_specs.append(updated)\n",
    "                \n",
    "            except Exception as e:\n",
    "                print(typeName, str(e))"
   ]
  },
  {
   "cell_type": "markdown",
   "metadata": {},
   "source": [
    "## Reporting\n",
    "\n",
    "Generate 10000 new objects according to the instructions below:\n",
    "\n",
    "```\n",
    "number: autogenerate\n",
    "company: newly created company\n",
    "road_name: pick a random one\n",
    "road: same as above\n",
    "km: random within the range of the selected road\n",
    "point: let the algorithm calculate\n",
    "direction: pick a random one according to whats available in the company custom_options\n",
    "lane: pick a random one according to whats available in the company custom_options\n",
    "created_by: one of the newly created users\n",
    "firm: the firm of the user\n",
    "occurrence_type: pick a random one\n",
    "form_data: randomly fill according to the form_fields of the selected occurrence_type\n",
    "executed_at: random between None and a date in the past year\n",
    "created_at: a random date in the past year. If executed_at was filled, make sure this date is before executed_at\n",
    "found_at: a random date in the past year. If executed_at was filled, make sure this date is before executed_at\n",
    "updated_at: a random date in the past year. If executed_at was filled, make sure this date is before executed_at\n",
    "status: pick a random one\n",
    "```"
   ]
  },
  {
   "cell_type": "code",
   "execution_count": null,
   "metadata": {},
   "outputs": [],
   "source": [
    "from datetime import date, timedelta, datetime\n",
    "from django.utils import timezone\n",
    "# from pytz import timezone as tz\n",
    "\n",
    "def get_dates(firm, user):\n",
    "    job = None\n",
    "    executed_at = None\n",
    "    \n",
    "    today_date = timezone.now()\n",
    "    start_date = today_date.toordinal()\n",
    "    end_date = today_date.replace(year=today_date.year-1).toordinal()\n",
    "    rand = date.fromordinal(random.randint(end_date, start_date))\n",
    "    dt = datetime.combine(rand, datetime.min.time())\n",
    "    created_at = (dt + timedelta(hours=5)).replace(tzinfo=today_date.tzinfo)\n",
    "    found_at = (created_at - timedelta(hours=random.randint(0, 23))).replace(hour = random.randint(7, 19))\n",
    "    updated_at = (created_at + timedelta(days=random.randint(0, 7))).replace(hour = random.randint(7, 19))\n",
    "    executed = (created_at + timedelta(days=random.randint(0, 7))).replace(hour = random.randint(7, 19))\n",
    "    \n",
    "    jobs = Job.objects.filter(\n",
    "        company=company,\n",
    "        start_date__lte=found_at,\n",
    "        end_date__gte=found_at,\n",
    "    )\n",
    "    if not jobs:\n",
    "        jobs = [\n",
    "            Job.objects.create(\n",
    "                company=company,\n",
    "                start_date=found_at + timedelta(days=2),\n",
    "                end_date=found_at + timedelta(days=20),\n",
    "                firm=firm,\n",
    "                created_by=user,\n",
    "                title=lorem.sentence(),\n",
    "                worker=user\n",
    "            )\n",
    "        ]\n",
    "\n",
    "    if today_date - found_at > timedelta(days=30):\n",
    "        status = status_executado\n",
    "    else:\n",
    "        status = choice(ServiceOrderActionStatus.objects.filter(companies=company))\n",
    "    \n",
    "    if status == status_executado:\n",
    "        executed_at = executed\n",
    "        job = choice(jobs)\n",
    "    elif status == status_programado:\n",
    "        job = choice(jobs)\n",
    "        \n",
    "    \n",
    "    return created_at, found_at, updated_at, executed_at, job, status"
   ]
  },
  {
   "cell_type": "code",
   "execution_count": null,
   "metadata": {},
   "outputs": [],
   "source": [
    "import re\n",
    "\n",
    "def snake_case(name):\n",
    "    s1 = re.sub(\"(.)([A-Z][a-z]+)\", r\"\\1_\\2\", name)\n",
    "    return re.sub(\"([a-z0-9])([A-Z])\", r\"\\1_\\2\", s1).lower()\n",
    "\n",
    "def snake_dict(in_dict):\n",
    "    out_dict = {}\n",
    "    for key, value in in_dict.items():\n",
    "        out_dict[snake_case(key)] = value\n",
    "    return out_dict"
   ]
  },
  {
   "cell_type": "code",
   "execution_count": null,
   "metadata": {},
   "outputs": [],
   "source": [
    "def get_form_data(occ_type):\n",
    "    form_data = {}\n",
    "    if occ_type.form_fields:\n",
    "        if \"fields\" in occ_type.form_fields:\n",
    "            fields = occ_type.form_fields[\"fields\"]\n",
    "            for in_field in fields:\n",
    "                field = snake_dict(in_field)\n",
    "                if \"api_name\" in field and \"data_type\" in field:\n",
    "                    if field[\"data_type\"] == \"float\":\n",
    "                        if field[\"api_name\"] == \"width\":\n",
    "                            form_data[field[\"api_name\"]] = random.choice([3.8, 7.6])\n",
    "                        elif field[\"api_name\"] == \"length\":\n",
    "                            if occ_type.occurrence_kind == \"1\":\n",
    "                                form_data[field[\"api_name\"]] = round(random.uniform(1, 5), 2)\n",
    "                            else:\n",
    "                                form_data[field[\"api_name\"]] = round(random.uniform(5, 50), 2)\n",
    "                        elif field[\"api_name\"] == \"height\":\n",
    "                            form_data[field[\"api_name\"]] = round(random.uniform(0.01, 0.2), 2)\n",
    "                        elif field[\"api_name\"] == \"rain\":\n",
    "                            form_data[field[\"api_name\"]] = round(random.random() * 10, 2)\n",
    "                        else:\n",
    "                            form_data[field[\"api_name\"]] = round(random.uniform(0, 1), 2)\n",
    "                    elif field[\"data_type\"] == \"string\":\n",
    "                        form_data[field[\"api_name\"]] = \" \".join(lorem.sentence().split(\" \")[0:2])\n",
    "                    elif field[\"data_type\"] == \"number\":\n",
    "                        form_data[field[\"api_name\"]] = int(random.uniform(0, 1)*10)\n",
    "                    elif field[\"data_type\"] == \"textArea\":\n",
    "                        form_data[field[\"api_name\"]] = lorem.sentence()\n",
    "                    elif field[\"data_type\"] == \"boolean\":\n",
    "                        form_data[field[\"api_name\"]] = True\n",
    "                    elif field[\"data_type\"] == \"select\":\n",
    "                        if \"select_options\" in field:\n",
    "                            if \"options\" in field[\"select_options\"]:\n",
    "                                value = field[\"select_options\"][\"options\"][0][\"value\"]\n",
    "                                form_data[field[\"api_name\"]] = value\n",
    "                    elif field[\"data_type\"] == \"selectMultiple\":\n",
    "                        if \"select_options\" in field:\n",
    "                            if \"options\" in field[\"select_options\"]:\n",
    "                                value = field[\"select_options\"][\"options\"][0][\"value\"]\n",
    "                                form_data[field[\"api_name\"]] = [value]\n",
    "\n",
    "    return form_data"
   ]
  },
  {
   "cell_type": "code",
   "execution_count": null,
   "metadata": {},
   "outputs": [],
   "source": [
    "direction_options = custom_options[\"reporting\"][\"fields\"][\"direction\"][\"selectOptions\"][\"options\"]\n",
    "directions = [item[\"value\"] for item in direction_options]\n",
    "\n",
    "lane_options = custom_options[\"reporting\"][\"fields\"][\"lane\"][\"selectOptions\"][\"options\"]\n",
    "lanes = [item[\"value\"] for item in lane_options]"
   ]
  },
  {
   "cell_type": "code",
   "execution_count": null,
   "metadata": {},
   "outputs": [],
   "source": [
    "Reporting.objects.filter(company=company).delete()"
   ]
  },
  {
   "cell_type": "code",
   "execution_count": null,
   "metadata": {},
   "outputs": [],
   "source": [
    "Job.objects.filter(company=company).delete()"
   ]
  },
  {
   "cell_type": "code",
   "execution_count": null,
   "metadata": {},
   "outputs": [],
   "source": [
    "all_types = list(OccurrenceType.objects.filter(company=company).exclude(occurrence_kind__in=[\"2\", \"6\"]))\n",
    "random.shuffle(all_types)\n",
    "# internal_types = all_types[:math.ceil(len(all_types)/2)]\n",
    "# external_types = all_types[math.ceil(len(all_types)/2):]"
   ]
  },
  {
   "cell_type": "code",
   "execution_count": null,
   "metadata": {},
   "outputs": [],
   "source": [
    "roads = Road.objects.filter(company=company)"
   ]
  },
  {
   "cell_type": "markdown",
   "metadata": {},
   "source": [
    "Create inventory"
   ]
  },
  {
   "cell_type": "code",
   "execution_count": null,
   "metadata": {},
   "outputs": [],
   "source": [
    "inventory_types = OccurrenceType.objects.filter(occurrence_kind=\"2\", company=company)\n",
    "\n",
    "for i in tqdm(range(100)):\n",
    "    road = choice(roads)\n",
    "    kms = [road.marks[item][\"km\"] for item in road.marks]\n",
    "    occ_type = choice(inventory_types)\n",
    "    \n",
    "    km = round(random.uniform(min(kms), max(kms)), 2)\n",
    "    \n",
    "    Reporting.objects.create(\n",
    "        company=company,\n",
    "        road_name=road.name,\n",
    "        road=road,\n",
    "        km=km,\n",
    "        end_km=km,\n",
    "        direction=choice(directions),\n",
    "        lane=choice(lanes[:4]),\n",
    "        occurrence_type=occ_type,\n",
    "        form_data=get_form_data(occ_type),\n",
    "        created_at=timezone.now().replace(year=2019),\n",
    "        updated_at=timezone.now().replace(year=2019),\n",
    "        found_at=timezone.now().replace(year=2019),\n",
    "    )"
   ]
  },
  {
   "cell_type": "markdown",
   "metadata": {},
   "source": [
    "Create reportings associated to the inventory"
   ]
  },
  {
   "cell_type": "code",
   "execution_count": null,
   "metadata": {},
   "outputs": [],
   "source": [
    "for inventory in tqdm(Reporting.objects.filter(occurrence_type__occurrence_kind=\"2\", company=company)):\n",
    "    for i in range(choice([2, 3, 4])):\n",
    "        firm = choice(firms_campo)\n",
    "        occ_type = choice(OccurrenceType.objects.filter(\n",
    "            company=company, \n",
    "            name__icontains=inventory.occurrence_type.name\n",
    "        ).exclude(occurrence_kind=\"2\"))\n",
    "        created, found, updated, executed, job, status = get_dates(firm, firm.manager)\n",
    "\n",
    "        Reporting.objects.create(\n",
    "            company=company,\n",
    "            road_name=inventory.road.name,\n",
    "            road=inventory.road,\n",
    "            km=inventory.km,\n",
    "            end_km=inventory.km + (inventory.form_data['length']/1000),\n",
    "            direction=inventory.direction,\n",
    "            lane=inventory.lane,\n",
    "            firm=firm,\n",
    "            created_by=firm.manager,\n",
    "            occurrence_type=occ_type,\n",
    "            form_data=inventory.form_data,\n",
    "            status=status,\n",
    "            executed_at=executed,\n",
    "            created_at=created,\n",
    "            updated_at=updated,\n",
    "            found_at=found,\n",
    "            job=job,\n",
    "            parent=inventory\n",
    "        )"
   ]
  },
  {
   "cell_type": "markdown",
   "metadata": {},
   "source": [
    "Create random reportings of all other types"
   ]
  },
  {
   "cell_type": "code",
   "execution_count": null,
   "metadata": {},
   "outputs": [],
   "source": [
    "for i in tqdm(range(500)):\n",
    "    road = choice(roads)\n",
    "    kms = [road.marks[item][\"km\"] for item in road.marks]\n",
    "#     firm = choice(Firm.objects.filter(company=company))\n",
    "    firm = choice(firms_campo)\n",
    "#     if firm.is_company_team:\n",
    "#         occ_type = choice(internal_types)\n",
    "#     else:\n",
    "#         occ_type = choice(external_types)\n",
    "    occ_type = choice(all_types)\n",
    "#     occ_type = choice(OccurrenceType.objects.filter(company=company).exclude(occurrence_kind=\"6\"))\n",
    "    created, found, updated, executed, job, status = get_dates(firm, firm.manager)\n",
    "    \n",
    "    Reporting.objects.create(\n",
    "        company=company,\n",
    "        road_name=road.name,\n",
    "        road=road,\n",
    "        km=round(random.uniform(min(kms), max(kms)), 2),\n",
    "        direction=choice(directions),\n",
    "        lane=choice(lanes),\n",
    "        firm=firm,\n",
    "        created_by=firm.manager,\n",
    "        occurrence_type=occ_type,\n",
    "        form_data=get_form_data(occ_type),\n",
    "        status=status,\n",
    "        executed_at=executed,\n",
    "        created_at=created,\n",
    "        updated_at=updated,\n",
    "        found_at=found,\n",
    "        job=job,\n",
    "    )"
   ]
  },
  {
   "cell_type": "code",
   "execution_count": null,
   "metadata": {},
   "outputs": [],
   "source": [
    "Job.objects.filter(company=company, reportings__isnull=True).delete()"
   ]
  },
  {
   "cell_type": "code",
   "execution_count": null,
   "metadata": {},
   "outputs": [],
   "source": [
    "def add_reporting_number(instance):\n",
    "    if instance.occurrence_type:\n",
    "        try:\n",
    "            occurrence_kind = instance.occurrence_type.occurrence_kind\n",
    "        except Exception:\n",
    "            raise serializers.ValidationError(\"Occurrence Kind not found!\")\n",
    "    else:\n",
    "        occurrence_kind = \"\"\n",
    "    key_name = \"RP_name_format\"\n",
    "    number_format = \"\"\n",
    "    if key_name in instance.company.metadata:\n",
    "        try:\n",
    "            number_format = instance.company.metadata[key_name][\n",
    "                occurrence_kind\n",
    "            ]\n",
    "        except Exception:\n",
    "            if \"default\" in instance.company.metadata[key_name]:\n",
    "                number_format = instance.company.metadata[key_name][\n",
    "                    \"default\"\n",
    "                ]\n",
    "            else:\n",
    "                raise serializers.ValidationError(\n",
    "                    \"Variáveis de nome inválidas!\"\n",
    "                )\n",
    "    else:\n",
    "        raise serializers.ValidationError(\"Variáveis de nome inválidas!\")\n",
    "    instance_type = number_format[\"type\"]\n",
    "    # Get datetime and serial arrays\n",
    "    data = get_autonumber_array(instance.company.uuid, instance_type)\n",
    "    # Get company prefix\n",
    "    if \"company_prefix\" in instance.company.metadata:\n",
    "        data[\"prefixo\"] = instance.company.metadata[\"company_prefix\"]\n",
    "    else:\n",
    "        data[\"prefixo\"] = \"[{}]\".format(instance.company.name)\n",
    "    # Make number\n",
    "    try:\n",
    "        number = number_format[\"format\"].format(**data)\n",
    "    except Exception as e:\n",
    "        print(e)\n",
    "        # Fallback\n",
    "        # UHIT-RG-2018.0001\n",
    "        number = \"{prefixo}-{nome}-{anoCompleto}.{serialAno}\".format(**data)\n",
    "    instance.number = number"
   ]
  },
  {
   "cell_type": "markdown",
   "metadata": {},
   "source": [
    "Reset the numbers of the reportings so that they agree to the chronological order"
   ]
  },
  {
   "cell_type": "code",
   "execution_count": null,
   "metadata": {},
   "outputs": [],
   "source": [
    "Sequence.objects.filter(name__icontains=str(company.uuid)).update(last=0)"
   ]
  },
  {
   "cell_type": "code",
   "execution_count": null,
   "metadata": {},
   "outputs": [],
   "source": [
    "reportings = []\n",
    "for reporting in Reporting.objects.filter(company=company).order_by('found_at'):\n",
    "    add_reporting_number(reporting)\n",
    "    reportings.append(reporting)\n",
    "bulk_update(reportings)"
   ]
  },
  {
   "cell_type": "code",
   "execution_count": null,
   "metadata": {},
   "outputs": [],
   "source": [
    "from helpers.apps.job import total_and_executed_reporting"
   ]
  },
  {
   "cell_type": "markdown",
   "metadata": {},
   "source": [
    "Archive 90% of the Job objects where all the reportings were already executed"
   ]
  },
  {
   "cell_type": "code",
   "execution_count": null,
   "metadata": {},
   "outputs": [],
   "source": [
    "for job in Job.objects.filter(company=company):\n",
    "\n",
    "    total, executed = total_and_executed_reporting(job)\n",
    "\n",
    "    if total == executed and choice([False, True, True, True, True, True, True, True, True, True]):\n",
    "        job.archived = True\n",
    "        job.save()"
   ]
  },
  {
   "cell_type": "markdown",
   "metadata": {},
   "source": [
    "## Create reportings for classe \"diário\" "
   ]
  },
  {
   "cell_type": "code",
   "execution_count": null,
   "metadata": {},
   "outputs": [],
   "source": [
    "from helpers.km_converter import get_road_coordinates"
   ]
  },
  {
   "cell_type": "code",
   "execution_count": null,
   "metadata": {},
   "outputs": [],
   "source": [
    "diario = OccurrenceType.objects.filter(company=company, occurrence_kind=\"6\")[0]"
   ]
  },
  {
   "cell_type": "code",
   "execution_count": null,
   "metadata": {},
   "outputs": [],
   "source": [
    "today_date = timezone.now()\n",
    "last_year = today_date.replace(year=today_date.year-1)"
   ]
  },
  {
   "cell_type": "code",
   "execution_count": null,
   "metadata": {},
   "outputs": [],
   "source": [
    "Reporting.objects.filter(occurrence_type=diario).delete()"
   ]
  },
  {
   "cell_type": "code",
   "execution_count": null,
   "metadata": {},
   "outputs": [],
   "source": [
    "road = Road.objects.filter(company=company).first()\n",
    "point, road = get_road_coordinates(\n",
    "    road.name,\n",
    "    150,\n",
    "    \"0\",\n",
    "    company,\n",
    ")\n",
    "reportings = []\n",
    "for i in tqdm(range(365)):\n",
    "    day = last_year + timedelta(days=i, hours=5)\n",
    "    firm = firm_admins\n",
    "    \n",
    "    rep = Reporting(\n",
    "        company=company,\n",
    "        road_name=road.name,\n",
    "        road=road,\n",
    "        km=100,\n",
    "        end_km=100,\n",
    "        point = point,\n",
    "        direction=choice(directions),\n",
    "        lane=choice(lanes),\n",
    "        firm=firm,\n",
    "        created_by=firm.manager,\n",
    "        occurrence_type=diario,\n",
    "        form_data=get_form_data(diario),\n",
    "        status=status_identificado,\n",
    "        created_at=day,\n",
    "        found_at=day,\n",
    "    )\n",
    "    reportings.append(rep)\n",
    "\n",
    "Reporting.objects.bulk_create(reportings)"
   ]
  },
  {
   "cell_type": "markdown",
   "metadata": {},
   "source": [
    "## Measurement\n",
    "\n",
    "Create 12 of these objects, one per month in the past 12 months. After creating the Reportings, randomly choose a few with status \"Executado\" and add them to the Measurement where the Reporting executed_at is within the dates of the Measurement"
   ]
  },
  {
   "cell_type": "code",
   "execution_count": null,
   "metadata": {},
   "outputs": [],
   "source": [
    "from dateutil.relativedelta import relativedelta\n",
    "\n",
    "def get_first_day(dt, d_years=0, d_months=0):\n",
    "    y, m = dt.year + d_years, dt.month + d_months\n",
    "    a, m = divmod(m-1, 12)\n",
    "    first_day = date(y+a, m+1, 1)\n",
    "    ret = (datetime.combine(first_day, datetime.min.time()) + timedelta(hours=5)).replace(hour=0, minute=0)\n",
    "    return ret\n",
    "\n",
    "def get_last_day(dt):\n",
    "    last_day = get_first_day(dt, 0, 1) + timedelta(-1)\n",
    "    ret = (datetime.combine(last_day, datetime.min.time()) + timedelta(hours=5)).replace(hour=23, minute=59)\n",
    "    return(ret)"
   ]
  },
  {
   "cell_type": "code",
   "execution_count": null,
   "metadata": {},
   "outputs": [],
   "source": [
    "Measurement.objects.filter(company=company).delete()"
   ]
  },
  {
   "cell_type": "code",
   "execution_count": null,
   "metadata": {
    "scrolled": true
   },
   "outputs": [],
   "source": [
    "first = Measurement.objects.create(\n",
    "    company=company,\n",
    "    start_date=datetime(2018, 12, 1, tzinfo=timezone.now().tzinfo),\n",
    "    end_date=datetime(2018, 12, 31, tzinfo=timezone.now().tzinfo),\n",
    "    approved=True,\n",
    "    created_by=user,\n",
    "    number = \"0\"\n",
    ")\n",
    "create_services_from_measurement(first)\n",
    "\n",
    "for i in reversed(range(13)):\n",
    "    d = timezone.now().replace(hour=0, minute=0, second=0)\n",
    "    month = d - relativedelta(months=i)\n",
    "    user = choice(Firm.objects.filter(company=company)).manager\n",
    "    \n",
    "    instance = Measurement.objects.create(\n",
    "        company=company,\n",
    "        start_date=get_first_day(month),\n",
    "        end_date=get_last_day(month),\n",
    "        approved=False,\n",
    "        created_by=user,\n",
    "        number = str(13 - i),\n",
    "        previous_measurement= first if i == 12 else instance\n",
    "    )\n",
    "    \n",
    "    # call function to create MeasurementServices\n",
    "    create_services_from_measurement(instance)"
   ]
  },
  {
   "cell_type": "code",
   "execution_count": null,
   "metadata": {},
   "outputs": [],
   "source": [
    "executados = Reporting.objects.filter(company=company, status=status_executado)\n",
    "print(executados.count())\n",
    "\n",
    "for item in tqdm(executados):\n",
    "    try:\n",
    "        measurement = Measurement.objects.filter(\n",
    "            company=company,\n",
    "            start_date__lte=item.executed_at,\n",
    "            end_date__gt=item.executed_at\n",
    "        )[0]\n",
    "        # call function to update services and usages\n",
    "        reportings = Reporting.objects.filter(pk=item.pk)\n",
    "        create_or_update_services_and_usages(measurement, reportings)\n",
    "    except Exception as e:\n",
    "        print(e, item.executed_at)\n",
    "        continue\n"
   ]
  },
  {
   "cell_type": "markdown",
   "metadata": {},
   "source": [
    "## GoalAggregate\n",
    "\n",
    "Create 12 of these objects, one per month in the past 12 months."
   ]
  },
  {
   "cell_type": "code",
   "execution_count": null,
   "metadata": {},
   "outputs": [],
   "source": [
    "GoalAggregate.objects.filter(company=company).delete()"
   ]
  },
  {
   "cell_type": "code",
   "execution_count": null,
   "metadata": {},
   "outputs": [],
   "source": [
    "for i in range(12):\n",
    "    d = date.today()\n",
    "    month = d - relativedelta(months=i)\n",
    "    \n",
    "    GoalAggregate.objects.create(\n",
    "        company=company,\n",
    "        start_date=get_first_day(month),\n",
    "        end_date=get_last_day(month),\n",
    "        group_goals={\n",
    "            \"signaling\": random.randint(20000, 70000),\n",
    "            \"other_services\": random.randint(15000, 60000),\n",
    "            \"pavement\": random.randint(30000, 80000),\n",
    "        }\n",
    "    )"
   ]
  },
  {
   "cell_type": "markdown",
   "metadata": {},
   "source": [
    "## Goal\n",
    "\n",
    "For each GoalAggregate, and for each OccurrenceType, create one Goal with a random amount"
   ]
  },
  {
   "cell_type": "code",
   "execution_count": null,
   "metadata": {},
   "outputs": [],
   "source": [
    "goals = GoalAggregate.objects.filter(company=company)\n",
    "types = OccurrenceType.objects.filter(company=company)\n",
    "\n",
    "for goal in goals:\n",
    "    for item in types:\n",
    "        try:\n",
    "            service = ServiceSpecs.objects.filter(occurrence_type=item)[0].service\n",
    "        except:\n",
    "            continue\n",
    "        else:\n",
    "            Goal.objects.create(\n",
    "                aggregate=goal,\n",
    "                occurrence_type=item,\n",
    "                service=service,\n",
    "                amount=random.randint(20, 50),\n",
    "                internal=True\n",
    "#                 internal=(item in internal_types)\n",
    "            )"
   ]
  },
  {
   "cell_type": "markdown",
   "metadata": {},
   "source": [
    "## ReportingFile\n",
    "\n",
    "Create 3000 new objects\n",
    "\n",
    "Do a google image search for \"bad road\" and pick a random image, associate with a random Reporting"
   ]
  },
  {
   "cell_type": "code",
   "execution_count": null,
   "metadata": {},
   "outputs": [],
   "source": [
    "available_files = []\n",
    "\n",
    "for form in tqdm(OccurrenceType.objects.filter(company=company)):\n",
    "    normalized_name = clean_latin_string(form.name).lower().replace(' ', '_')\n",
    "    file_choices = ReportingFile.upload.field.storage.listdir(\"images_mock/{}\".format(normalized_name))[1]\n",
    "    file_choices = [a for a in file_choices if \".jpg\" in a]\n",
    "    available_files += [\"images_mock/{}/{}\".format(normalized_name, a) for a in file_choices]"
   ]
  },
  {
   "cell_type": "code",
   "execution_count": null,
   "metadata": {},
   "outputs": [],
   "source": [
    "ReportingFile.objects.filter(reporting__company=company).delete()"
   ]
  },
  {
   "cell_type": "code",
   "execution_count": null,
   "metadata": {},
   "outputs": [],
   "source": [
    "file_objects = []\n",
    "\n",
    "reportings = (Reporting.objects.filter(company=company)\n",
    "              .exclude(occurrence_type__occurrence_kind__in=[\"2\", \"6\"])\n",
    "              .prefetch_related('created_by'))\n",
    "\n",
    "for i in tqdm(range(1500)):\n",
    "    reporting = choice(reportings)\n",
    "    user = reporting.created_by\n",
    "    normalized_path = clean_latin_string(reporting.occurrence_type.name).lower().replace(' ', '_')\n",
    "    file_choices = [a for a in available_files if a.split('/')[1] == normalized_path]\n",
    "    if not len(file_choices):\n",
    "        continue\n",
    "    file_path = choice(file_choices)\n",
    "    \n",
    "    rf = ReportingFile(\n",
    "        reporting=reporting,\n",
    "        upload=file_path,\n",
    "        created_by=user,\n",
    "        include_rdo=True\n",
    "    )\n",
    "    file_objects.append(rf)\n",
    "    \n",
    "for reporting in tqdm(Reporting.objects.filter(company=company, occurrence_type__occurrence_kind=\"2\")):\n",
    "    user = reporting.created_by\n",
    "    normalized_path = clean_latin_string(reporting.occurrence_type.name).lower().replace(' ', '_')\n",
    "    file_choices = [a for a in available_files if a.split('/')[1] == normalized_path]\n",
    "    if not len(file_choices):\n",
    "        continue\n",
    "    file_path = choice(file_choices)\n",
    "    \n",
    "    rf = ReportingFile(\n",
    "        reporting=reporting,\n",
    "        upload=file_path,\n",
    "        created_by=user,\n",
    "        include_rdo=True\n",
    "    )\n",
    "    file_objects.append(rf)\n",
    "\n",
    "result = ReportingFile.objects.bulk_create(file_objects, batch_size=100)\n",
    "print(len(result))"
   ]
  },
  {
   "cell_type": "markdown",
   "metadata": {},
   "source": [
    "# Download images (don't run)\n",
    "\n",
    "This code will be ran only once to get images related to a certain type of service.\n",
    "Once they are downloaded, the resulting images need to be uploaded to AWS S3"
   ]
  },
  {
   "cell_type": "code",
   "execution_count": null,
   "metadata": {},
   "outputs": [],
   "source": [
    "!pip install webdriver_manager"
   ]
  },
  {
   "cell_type": "code",
   "execution_count": null,
   "metadata": {},
   "outputs": [],
   "source": [
    "!pip install user_agent"
   ]
  },
  {
   "cell_type": "code",
   "execution_count": null,
   "metadata": {},
   "outputs": [],
   "source": [
    "from fixtures.mock_empreiteira.download_with_selenium import do_stuff"
   ]
  },
  {
   "cell_type": "code",
   "execution_count": null,
   "metadata": {},
   "outputs": [],
   "source": [
    "from webdriver_manager.chrome import ChromeDriverManager\n",
    "from selenium import webdriver"
   ]
  },
  {
   "cell_type": "code",
   "execution_count": null,
   "metadata": {},
   "outputs": [],
   "source": [
    "webdriver.Chrome(ChromeDriverManager().install())"
   ]
  },
  {
   "cell_type": "code",
   "execution_count": null,
   "metadata": {},
   "outputs": [],
   "source": [
    "form_names = OccurrenceType.objects.filter(company=company).values_list('name', flat=True)\n",
    "form_names = [a + \" rodovia\" for a in form_names]\n",
    "do_stuff(form_names, [\"\"], \"fixtures/images/\", 10)"
   ]
  }
 ],
 "metadata": {
  "kernelspec": {
   "display_name": "Django Shell-Plus",
   "language": "python",
   "name": "django_extensions"
  },
  "language_info": {
   "codemirror_mode": {
    "name": "ipython",
    "version": 3
   },
   "file_extension": ".py",
   "mimetype": "text/x-python",
   "name": "python",
   "nbconvert_exporter": "python",
   "pygments_lexer": "ipython3",
   "version": "3.6.5"
  }
 },
 "nbformat": 4,
 "nbformat_minor": 2
}
