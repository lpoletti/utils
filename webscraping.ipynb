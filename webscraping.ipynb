{
 "cells": [
  {
   "cell_type": "code",
   "execution_count": 25,
   "metadata": {},
   "outputs": [],
   "source": [
    "from selenium import webdriver\n",
    "import pandas as pd\n",
    "from selenium.webdriver.chrome.service import Service\n",
    "from selenium.webdriver.common.by import By"
   ]
  },
  {
   "cell_type": "code",
   "execution_count": 26,
   "metadata": {},
   "outputs": [],
   "source": [
    "# inicia uma instancia do chrome webdriver\n",
    "service = Service()\n",
    "\n",
    "# éusado para definir a preferencia para o browser do Chrome\n",
    "options = webdriver.ChromeOptions()\n",
    "\n",
    "# inicia a instancia do chrome\n",
    "driver = webdriver.Chrome(service=service,options=options)"
   ]
  },
  {
   "cell_type": "code",
   "execution_count": 27,
   "metadata": {},
   "outputs": [],
   "source": [
    "url = 'https://www.pesquisaleiloes.com.br/'\n",
    "\n",
    "driver.get(url)"
   ]
  },
  {
   "cell_type": "code",
   "execution_count": 28,
   "metadata": {},
   "outputs": [],
   "source": [
    "load_more = driver.find_element(By.CLASS_NAME,'mec-load-more-button')\n",
    "load_more.click()"
   ]
  },
  {
   "cell_type": "code",
   "execution_count": 29,
   "metadata": {},
   "outputs": [],
   "source": [
    "meses = {'JANEIRO': 1, 'FEVEREIRO': 2, 'MARÇO': 3, 'ABRIL': 4, 'MAIO': 5, 'JUNHO': 6,\n",
    "         'JULHO': 7, 'AGOSTO': 8, 'SETEMBRO': 9, 'OUTUBRO': 10, 'NOVEMBRO': 11, 'DEZEMBRO': 12}\n"
   ]
  },
  {
   "cell_type": "code",
   "execution_count": 30,
   "metadata": {},
   "outputs": [],
   "source": [
    "dateElements = driver.find_elements(By.CLASS_NAME,'mec-event-date')"
   ]
  },
  {
   "cell_type": "code",
   "execution_count": 33,
   "metadata": {},
   "outputs": [
    {
     "ename": "SyntaxError",
     "evalue": "f-string expression part cannot include a backslash (1966537320.py, line 1)",
     "output_type": "error",
     "traceback": [
      "\u001b[1;36m  Cell \u001b[1;32mIn[33], line 1\u001b[1;36m\u001b[0m\n\u001b[1;33m    [f\"{a.text.split(' ')[0]}-{a.text.split(' ')[1].split('\\\\n')[0]}\" for a in dateElements]\u001b[0m\n\u001b[1;37m                                                                      ^\u001b[0m\n\u001b[1;31mSyntaxError\u001b[0m\u001b[1;31m:\u001b[0m f-string expression part cannot include a backslash\n"
     ]
    }
   ],
   "source": [
    "[f\"{a.text.split(' ')[0]}-{a.text.split(' ')[1]}\" for a in dateElements]"
   ]
  },
  {
   "cell_type": "code",
   "execution_count": 22,
   "metadata": {},
   "outputs": [
    {
     "name": "stdout",
     "output_type": "stream",
     "text": [
      "15-JANEIRO\n",
      "SEGUNDA-FEIRA\n",
      "\n",
      "16-JANEIRO\n",
      "TERÇA-FEIRA\n",
      "\n",
      "17-JANEIRO\n",
      "QUARTA-FEIRA\n",
      "\n",
      "18-JANEIRO\n",
      "QUINTA-FEIRA\n",
      "\n",
      "18-JANEIRO\n",
      "QUINTA-FEIRA\n",
      "\n",
      "19-JANEIRO\n",
      "SEXTA-FEIRA\n",
      "\n",
      "22-JANEIRO\n",
      "SEGUNDA-FEIRA\n",
      "\n",
      "23-JANEIRO\n",
      "TERÇA-FEIRA\n",
      "\n",
      "24-JANEIRO\n",
      "QUARTA-FEIRA\n",
      "\n",
      "25-JANEIRO\n",
      "QUINTA-FEIRA\n",
      "\n",
      "25-JANEIRO\n",
      "QUINTA-FEIRA\n",
      "\n",
      "26-JANEIRO\n",
      "SEXTA-FEIRA\n",
      "\n",
      "29-JANEIRO\n",
      "SEGUNDA-FEIRA\n",
      "\n",
      "30-JANEIRO\n",
      "TERÇA-FEIRA\n",
      "\n",
      "31-JANEIRO\n",
      "QUARTA-FEIRA\n",
      "\n",
      "01-FEVEREIRO\n",
      "QUINTA-FEIRA\n",
      "\n",
      "01-FEVEREIRO\n",
      "QUINTA-FEIRA\n",
      "\n",
      "02-FEVEREIRO\n",
      "SEXTA-FEIRA\n",
      "\n",
      "05-FEVEREIRO\n",
      "SEGUNDA-FEIRA\n",
      "\n",
      "06-FEVEREIRO\n",
      "TERÇA-FEIRA\n",
      "\n",
      "07-FEVEREIRO\n",
      "QUARTA-FEIRA\n",
      "\n",
      "08-FEVEREIRO\n",
      "QUINTA-FEIRA\n",
      "\n",
      "08-FEVEREIRO\n",
      "QUINTA-FEIRA\n",
      "\n",
      "09-FEVEREIRO\n",
      "SEXTA-FEIRA\n",
      "\n",
      "12-FEVEREIRO\n",
      "SEGUNDA-FEIRA\n",
      "\n",
      "13-FEVEREIRO\n",
      "TERÇA-FEIRA\n",
      "\n",
      "14-FEVEREIRO\n",
      "QUARTA-FEIRA\n",
      "\n",
      "15-FEVEREIRO\n",
      "QUINTA-FEIRA\n",
      "\n",
      "15-FEVEREIRO\n",
      "QUINTA-FEIRA\n",
      "\n",
      "16-FEVEREIRO\n",
      "SEXTA-FEIRA\n",
      "\n"
     ]
    }
   ],
   "source": [
    "for a in dateElements:\n",
    "    print(a.text.replace(' ','-'))\n",
    "    print()"
   ]
  },
  {
   "cell_type": "code",
   "execution_count": null,
   "metadata": {},
   "outputs": [],
   "source": []
  }
 ],
 "metadata": {
  "kernelspec": {
   "display_name": "venv",
   "language": "python",
   "name": "python3"
  },
  "language_info": {
   "codemirror_mode": {
    "name": "ipython",
    "version": 3
   },
   "file_extension": ".py",
   "mimetype": "text/x-python",
   "name": "python",
   "nbconvert_exporter": "python",
   "pygments_lexer": "ipython3",
   "version": "3.11.5"
  }
 },
 "nbformat": 4,
 "nbformat_minor": 2
}
